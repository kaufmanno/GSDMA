{
 "cells": [
  {
   "cell_type": "markdown",
   "metadata": {},
   "source": [
    "# Example of using the Borehole3D class"
   ]
  },
  {
   "cell_type": "markdown",
   "metadata": {},
   "source": [
    "## Imports"
   ]
  },
  {
   "cell_type": "code",
   "execution_count": 1,
   "metadata": {},
   "outputs": [],
   "source": [
    "from striplog import Component, Decor, Legend, Lexicon, Striplog\n",
    "from core.visual import Borehole3D, striplog_legend_to_omf_legend \n",
    "from utils.lexicon.lexicon_memoris import lexicon_memoris, lithology_memoris\n",
    "from utils.io import dataframe_viewer\n",
    "from utils.orm import boreholes_from_dataframe\n",
    "from utils.visual import legend_from_attributes\n",
    "from core.project import Project\n",
    "from core.orm import BoreholeOrm, PositionOrm, Base \n",
    "\n",
    "import matplotlib.pyplot as plt\n",
    "from os import remove\n",
    "import pandas as pd\n",
    "import numpy as np\n",
    "from sqlalchemy import create_engine\n",
    "from sqlalchemy.orm import sessionmaker\n",
    "from definitions import ROOT_DIR"
   ]
  },
  {
   "cell_type": "markdown",
   "metadata": {},
   "source": [
    "## Reading of CSV files in a dir"
   ]
  },
  {
   "cell_type": "raw",
   "metadata": {},
   "source": [
    "'/home/yanathan/Projects/GSDMA/CF_data/Result_traitem/database_Memoris3/Final_merge/'\n",
    "'/home/yanathan/Projects/GSDMA/CF_data/Result_traitem/Phase_1_Memoris/Final_merge/'\n",
    "'/home/yanathan/Projects/GSDMA/CF_data/Result_traitem/Phase_2_Memoris/Final_merge/'\n",
    "'/home/yanathan/Projects/GSDMA/CF_data/Result_traitem/profils_sols_donnees_forages/Final_merge/'\n",
    "'/home/yanathan/Projects/GSDMA/CF_data/Result_traitem/vUmons_logsFor/Final_merge/'"
   ]
  },
  {
   "cell_type": "code",
   "execution_count": 2,
   "metadata": {},
   "outputs": [],
   "source": [
    "save_dir = ROOT_DIR+'/CF_data/Donnees_fusionnees/final_data/'"
   ]
  },
  {
   "cell_type": "code",
   "execution_count": 3,
   "metadata": {},
   "outputs": [],
   "source": [
    "df = pd.read_csv(save_dir+'Final_dataset.csv', sep=',')"
   ]
  },
  {
   "cell_type": "code",
   "execution_count": 4,
   "metadata": {
    "scrolled": true
   },
   "outputs": [
    {
     "name": "stdout",
     "output_type": "stream",
     "text": [
      "Rows : 112, columns : 131, Unique values on col 'ID': 46\n"
     ]
    },
    {
     "data": {
      "application/vnd.jupyter.widget-view+json": {
       "model_id": "8e5658c06faf48d79db786289599fe0c",
       "version_major": 2,
       "version_minor": 0
      },
      "text/plain": [
       "interactive(children=(IntSlider(value=5, description='rows', max=112, min=5, readout=False), IntSlider(value=1…"
      ]
     },
     "metadata": {},
     "output_type": "display_data"
    }
   ],
   "source": [
    "dataframe_viewer(df, rows=5, un_val='ID')"
   ]
  },
  {
   "cell_type": "markdown",
   "metadata": {},
   "source": [
    "## Data Checking"
   ]
  },
  {
   "cell_type": "raw",
   "metadata": {},
   "source": [
    "df.drop('Z', axis='columns', inplace=True)\n",
    "df.rename({'new_Z':'Z'}, axis='columns', inplace=True)"
   ]
  },
  {
   "cell_type": "raw",
   "metadata": {},
   "source": [
    "df.loc[df.query('Colour==\"tan\"').index, 'Colour'] = 'green' # use simple colour"
   ]
  },
  {
   "cell_type": "raw",
   "metadata": {},
   "source": [
    "df.drop(index=df.query('X!=X').index, inplace=True)\n",
    "df.drop(index=df.query('Description!=Description or Litho_top!=Litho_top').index, inplace=True)"
   ]
  },
  {
   "cell_type": "raw",
   "metadata": {},
   "source": [
    "df.rename({'Litho_base':'Base_intv', 'Litho_top':'Top_intv', 'Ep_litho':'Epais_intv', 'Description':'Lithology'}\n",
    "          , axis='columns', inplace=True)"
   ]
  },
  {
   "cell_type": "code",
   "execution_count": 5,
   "metadata": {},
   "outputs": [],
   "source": [
    "df.rename({'Ech_base':'Base_intv', 'Ech_top':'Top_intv', 'Ep_litho':'Epais_intv', 'Description':'Lithology'}\n",
    "          , axis='columns', inplace=True)"
   ]
  },
  {
   "cell_type": "code",
   "execution_count": 6,
   "metadata": {},
   "outputs": [],
   "source": [
    "df['Epais_intv'] = df['Base_intv'] - df['Top_intv']"
   ]
  },
  {
   "cell_type": "code",
   "execution_count": 7,
   "metadata": {},
   "outputs": [],
   "source": [
    "df['Diam_for'] = df['Diam_for']/1000\n",
    "df.insert(list(df.columns).index('Long_for')+1, 'Diam_for', df.pop('Diam_for'))"
   ]
  },
  {
   "cell_type": "raw",
   "metadata": {
    "scrolled": true
   },
   "source": [
    "# df['Epais_intv']=df['Base_intv']-df['Top_intv']\n",
    "df.insert(list(df.columns).index('Top_intv'), 'Epais_intv', df.pop('Epais_intv'))"
   ]
  },
  {
   "cell_type": "code",
   "execution_count": 8,
   "metadata": {},
   "outputs": [
    {
     "name": "stdout",
     "output_type": "stream",
     "text": [
      "Rows : 112, columns : 132, Unique values on col 'ID_ech': 112\n"
     ]
    },
    {
     "data": {
      "application/vnd.jupyter.widget-view+json": {
       "model_id": "4a0cfce9b24848e0a647c8ff4999e450",
       "version_major": 2,
       "version_minor": 0
      },
      "text/plain": [
       "interactive(children=(IntSlider(value=3, description='rows', max=112, min=3, readout=False), IntSlider(value=1…"
      ]
     },
     "metadata": {},
     "output_type": "display_data"
    }
   ],
   "source": [
    "dataframe_viewer(df, rows=3, un_val='ID_ech')"
   ]
  },
  {
   "cell_type": "raw",
   "metadata": {},
   "source": [
    "df.loc[1, 'Description'] ='Sable rouge'"
   ]
  },
  {
   "cell_type": "markdown",
   "metadata": {},
   "source": [
    "## Create Boreholes from dataframes or files"
   ]
  },
  {
   "cell_type": "code",
   "execution_count": 9,
   "metadata": {},
   "outputs": [
    {
     "name": "stdout",
     "output_type": "stream",
     "text": [
      "Rows : 15, columns : 132\n"
     ]
    },
    {
     "data": {
      "application/vnd.jupyter.widget-view+json": {
       "model_id": "57a255b85c954730b11a6a5095311a40",
       "version_major": 2,
       "version_minor": 0
      },
      "text/plain": [
       "interactive(children=(IntSlider(value=10, description='rows', max=15, min=10, readout=False), IntSlider(value=…"
      ]
     },
     "metadata": {},
     "output_type": "display_data"
    }
   ],
   "source": [
    "id_list = ['302','205','207','214']\n",
    "#df = df.query('ID in @id_list')\n",
    "#df.reset_index(drop=True, inplace=True)\n",
    "dataframe_viewer(df.query('ID in @id_list'))"
   ]
  },
  {
   "cell_type": "code",
   "execution_count": 10,
   "metadata": {
    "scrolled": true
   },
   "outputs": [
    {
     "name": "stdout",
     "output_type": "stream",
     "text": [
      "\n",
      "Dataframe processing...\n",
      "================================\n",
      "\n",
      "|__ID:'201'\n",
      "Summary : [Striplog(2 Intervals, start=0.0, stop=0.8999999999999999)]\n",
      "\n",
      "|__ID:'205'\n",
      "Summary : [Striplog(4 Intervals, start=0.0, stop=1.5)]\n",
      "\n",
      "|__ID:'208'\n",
      "Summary : [Striplog(4 Intervals, start=0.0, stop=1.4999999999999996)]\n",
      "\n",
      "|__ID:'207'\n",
      "Summary : [Striplog(5 Intervals, start=0.0, stop=1.8000000000000007)]\n",
      "\n",
      "|__ID:'212'\n",
      "Summary : [Striplog(4 Intervals, start=0.0, stop=1.4999999999999991)]\n",
      "\n",
      "|__ID:'214'\n",
      "Summary : [Striplog(4 Intervals, start=0.0, stop=1.6999999999999997)]\n",
      "\n",
      "|__ID:'217'\n",
      "Summary : [Striplog(4 Intervals, start=0.0, stop=1.5000000000000004)]\n",
      "\n",
      "|__ID:'221'\n",
      "Error : No value matching with 'Vide ' in given lexicon\n",
      "Summary : [Striplog(1 Intervals, start=0.0, stop=0.4)]\n",
      "\n",
      "|__ID:'223'\n",
      "Summary : [Striplog(2 Intervals, start=0.0, stop=0.8)]\n",
      "\n",
      "|__ID:'?2'\n",
      "Summary : [Striplog(1 Intervals, start=0.0, stop=0.3999999999999999)]\n",
      "\n",
      "|__ID:'?1'\n",
      "Summary : [Striplog(1 Intervals, start=0.0, stop=0.3999999999999999)]\n",
      "\n",
      "|__ID:'224'\n",
      "Summary : [Striplog(1 Intervals, start=0.0, stop=0.5)]\n",
      "\n",
      "|__ID:'225'\n",
      "Summary : [Striplog(6 Intervals, start=0.0, stop=2.6999999999999993)]\n",
      "\n",
      "|__ID:'226'\n",
      "Summary : [Striplog(4 Intervals, start=0.0, stop=1.6)]\n",
      "\n",
      "|__ID:'50'\n",
      "Summary : [Striplog(3 Intervals, start=0.0, stop=2.1)]\n",
      "\n",
      "|__ID:'51'\n",
      "Summary : [Striplog(3 Intervals, start=0.0, stop=1.6)]\n",
      "\n",
      "|__ID:'52'\n",
      "Summary : [Striplog(3 Intervals, start=0.0, stop=1.7)]\n",
      "\n",
      "|__ID:'302'\n",
      "Summary : [Striplog(2 Intervals, start=0.0, stop=0.7999999999999999)]\n",
      "\n",
      "|__ID:'303'\n",
      "Summary : [Striplog(2 Intervals, start=0.0, stop=0.8)]\n",
      "\n",
      "|__ID:'304'\n",
      "Summary : [Striplog(1 Intervals, start=0.0, stop=0.29999999999999993)]\n",
      "\n",
      "|__ID:'305'\n",
      "Summary : [Striplog(1 Intervals, start=0.0, stop=0.30000000000000004)]\n",
      "\n",
      "|__ID:'306'\n",
      "Summary : [Striplog(1 Intervals, start=0.0, stop=0.29999999999999993)]\n",
      "\n",
      "|__ID:'F1aM'\n",
      "Summary : [Striplog(4 Intervals, start=0.0, stop=1.8000000000000003)]\n",
      "\n",
      "|__ID:'F9bM'\n",
      "Summary : [Striplog(1 Intervals, start=0.0, stop=0.39999999999999997)]\n",
      "\n",
      "|__ID:'F10M'\n",
      "Summary : [Striplog(1 Intervals, start=0.0, stop=0.5)]\n",
      "\n",
      "|__ID:'F2M'\n",
      "Summary : [Striplog(3 Intervals, start=0.0, stop=1.9)]\n",
      "\n",
      "|__ID:'F3M'\n",
      "Summary : [Striplog(2 Intervals, start=0.0, stop=1.4)]\n",
      "\n",
      "|__ID:'F4M'\n",
      "Summary : [Striplog(1 Intervals, start=0.0, stop=0.7000000000000002)]\n",
      "\n",
      "|__ID:'F5M'\n",
      "Summary : [Striplog(4 Intervals, start=0.0, stop=1.9000000000000004)]\n",
      "\n",
      "|__ID:'F6M'\n",
      "Summary : [Striplog(3 Intervals, start=0.0, stop=1.3999999999999995)]\n",
      "\n",
      "|__ID:'F12M'\n",
      "Summary : [Striplog(3 Intervals, start=0.0, stop=1.7000000000000002)]\n",
      "\n",
      "|__ID:'F13M'\n",
      "Summary : [Striplog(3 Intervals, start=0.0, stop=1.6)]\n",
      "\n",
      "|__ID:'F14M'\n",
      "Summary : [Striplog(1 Intervals, start=0.0, stop=0.5)]\n",
      "\n",
      "|__ID:'F15bM'\n",
      "Summary : [Striplog(3 Intervals, start=0.0, stop=1.4999999999999996)]\n",
      "\n",
      "|__ID:'F16M'\n",
      "Summary : [Striplog(1 Intervals, start=0.0, stop=0.5)]\n",
      "\n",
      "|__ID:'F18b'\n",
      "Summary : [Striplog(1 Intervals, start=0.0, stop=0.30000000000000004)]\n",
      "\n",
      "|__ID:'F18c'\n",
      "Summary : [Striplog(2 Intervals, start=0.0, stop=0.6999999999999997)]\n",
      "\n",
      "|__ID:'F20'\n",
      "Summary : [Striplog(2 Intervals, start=0.0, stop=0.9000000000000004)]\n",
      "\n",
      "|__ID:'F21'\n",
      "Summary : [Striplog(2 Intervals, start=0.0, stop=0.7999999999999994)]\n",
      "\n",
      "|__ID:'F22'\n",
      "Summary : [Striplog(3 Intervals, start=0.0, stop=1.4)]\n",
      "\n",
      "|__ID:'F23'\n",
      "Summary : [Striplog(2 Intervals, start=0.0, stop=0.8999999999999999)]\n",
      "\n",
      "|__ID:'F24b'\n",
      "Summary : [Striplog(1 Intervals, start=0.0, stop=0.5)]\n",
      "\n",
      "|__ID:'F25'\n",
      "Summary : [Striplog(3 Intervals, start=0.0, stop=1.5)]\n",
      "\n",
      "|__ID:'F26'\n",
      "Summary : [Striplog(4 Intervals, start=0.0, stop=1.8000000000000005)]\n",
      "\n",
      "|__ID:'F27a'\n",
      "Summary : [Striplog(1 Intervals, start=0.0, stop=0.5)]\n",
      "\n",
      "|__ID:'F27d'\n",
      "Summary : [Striplog(2 Intervals, start=0.0, stop=0.6999999999999997)]\n",
      "\n",
      "End of the process : 46 unique ID found\n"
     ]
    },
    {
     "name": "stderr",
     "output_type": "stream",
     "text": [
      "/home/yanathan/Projects/GSDMA/utils/orm.py:126: SAWarning: relationship 'ComponentOrm.intervals' will copy column Components.id to column Linkintervalcomponent.comp_id, which conflicts with relationship(s): 'IntervalOrm.components' (copies Components.id to Linkintervalcomponent.comp_id). If this is not the intention, consider if these relationships should be linked with back_populates, or if viewonly=True should be applied to one or more if they are read-only. For the less common case that foreign key constraints are partially overlapping, the orm.foreign() annotation can be used to isolate the columns that should be written towards.   To silence this warning, add the parameter 'overlaps=\"components\"' to the 'ComponentOrm.intervals' relationship.\n",
      "  boreholes_orm.append(BoreholeOrm(id=bh_name, date=bh_date))\n",
      "/home/yanathan/Projects/GSDMA/utils/orm.py:126: SAWarning: relationship 'ComponentOrm.intervals' will copy column Intervals.id to column Linkintervalcomponent.intv_id, which conflicts with relationship(s): 'IntervalOrm.components' (copies Intervals.id to Linkintervalcomponent.intv_id). If this is not the intention, consider if these relationships should be linked with back_populates, or if viewonly=True should be applied to one or more if they are read-only. For the less common case that foreign key constraints are partially overlapping, the orm.foreign() annotation can be used to isolate the columns that should be written towards.   To silence this warning, add the parameter 'overlaps=\"components\"' to the 'ComponentOrm.intervals' relationship.\n",
      "  boreholes_orm.append(BoreholeOrm(id=bh_name, date=bh_date))\n",
      "/home/yanathan/Projects/GSDMA/utils/orm.py:126: SAWarning: relationship 'ComponentOrm.component_assoc' will copy column Components.id to column Linkintervalcomponent.comp_id, which conflicts with relationship(s): 'ComponentOrm.intervals' (copies Components.id to Linkintervalcomponent.comp_id), 'IntervalOrm.components' (copies Components.id to Linkintervalcomponent.comp_id). If this is not the intention, consider if these relationships should be linked with back_populates, or if viewonly=True should be applied to one or more if they are read-only. For the less common case that foreign key constraints are partially overlapping, the orm.foreign() annotation can be used to isolate the columns that should be written towards.   To silence this warning, add the parameter 'overlaps=\"components,intervals\"' to the 'ComponentOrm.component_assoc' relationship.\n",
      "  boreholes_orm.append(BoreholeOrm(id=bh_name, date=bh_date))\n",
      "/home/yanathan/Projects/GSDMA/utils/orm.py:126: SAWarning: relationship 'LinkIntervalComponentOrm.component' will copy column Components.id to column Linkintervalcomponent.comp_id, which conflicts with relationship(s): 'ComponentOrm.intervals' (copies Components.id to Linkintervalcomponent.comp_id), 'IntervalOrm.components' (copies Components.id to Linkintervalcomponent.comp_id). If this is not the intention, consider if these relationships should be linked with back_populates, or if viewonly=True should be applied to one or more if they are read-only. For the less common case that foreign key constraints are partially overlapping, the orm.foreign() annotation can be used to isolate the columns that should be written towards.   To silence this warning, add the parameter 'overlaps=\"components,intervals\"' to the 'LinkIntervalComponentOrm.component' relationship.\n",
      "  boreholes_orm.append(BoreholeOrm(id=bh_name, date=bh_date))\n",
      "/home/yanathan/Projects/GSDMA/utils/orm.py:126: SAWarning: relationship 'IntervalOrm.interval_assoc' will copy column Intervals.id to column Linkintervalcomponent.intv_id, which conflicts with relationship(s): 'ComponentOrm.intervals' (copies Intervals.id to Linkintervalcomponent.intv_id), 'IntervalOrm.components' (copies Intervals.id to Linkintervalcomponent.intv_id). If this is not the intention, consider if these relationships should be linked with back_populates, or if viewonly=True should be applied to one or more if they are read-only. For the less common case that foreign key constraints are partially overlapping, the orm.foreign() annotation can be used to isolate the columns that should be written towards.   To silence this warning, add the parameter 'overlaps=\"components,intervals\"' to the 'IntervalOrm.interval_assoc' relationship.\n",
      "  boreholes_orm.append(BoreholeOrm(id=bh_name, date=bh_date))\n",
      "/home/yanathan/Projects/GSDMA/utils/orm.py:126: SAWarning: relationship 'LinkIntervalComponentOrm.interval' will copy column Intervals.id to column Linkintervalcomponent.intv_id, which conflicts with relationship(s): 'ComponentOrm.intervals' (copies Intervals.id to Linkintervalcomponent.intv_id), 'IntervalOrm.components' (copies Intervals.id to Linkintervalcomponent.intv_id). If this is not the intention, consider if these relationships should be linked with back_populates, or if viewonly=True should be applied to one or more if they are read-only. For the less common case that foreign key constraints are partially overlapping, the orm.foreign() annotation can be used to isolate the columns that should be written towards.   To silence this warning, add the parameter 'overlaps=\"components,intervals\"' to the 'LinkIntervalComponentOrm.interval' relationship.\n",
      "  boreholes_orm.append(BoreholeOrm(id=bh_name, date=bh_date))\n"
     ]
    }
   ],
   "source": [
    "boreholes, components, link_intv_comp = boreholes_from_dataframe(df, verbose=False,\n",
    "                                                attributes=['Lithology'], \n",
    "                                                symbols={'lithology':{'lexicon':lexicon_memoris}}, \n",
    "                                                diameter='Diam_for', thickness='Epais_intv')"
   ]
  },
  {
   "cell_type": "code",
   "execution_count": 11,
   "metadata": {},
   "outputs": [
    {
     "data": {
      "text/plain": [
       "(46, 8)"
      ]
     },
     "execution_count": 11,
     "metadata": {},
     "output_type": "execute_result"
    }
   ],
   "source": [
    "len(boreholes), len(components)"
   ]
  },
  {
   "cell_type": "markdown",
   "metadata": {},
   "source": [
    "## Create a project and save data in a database"
   ]
  },
  {
   "cell_type": "code",
   "execution_count": 12,
   "metadata": {},
   "outputs": [],
   "source": [
    "remove('tmp_files/tfe_orm_db.db')"
   ]
  },
  {
   "cell_type": "code",
   "execution_count": 13,
   "metadata": {},
   "outputs": [],
   "source": [
    "engine = create_engine('sqlite:///tmp_files/tfe_orm_db.db', echo=True)"
   ]
  },
  {
   "cell_type": "code",
   "execution_count": 14,
   "metadata": {
    "scrolled": true
   },
   "outputs": [
    {
     "name": "stdout",
     "output_type": "stream",
     "text": [
      "2021-09-22 03:16:06,351 INFO sqlalchemy.engine.Engine BEGIN (implicit)\n",
      "2021-09-22 03:16:06,352 INFO sqlalchemy.engine.Engine PRAGMA main.table_info(\"Boreholes\")\n",
      "2021-09-22 03:16:06,353 INFO sqlalchemy.engine.Engine [raw sql] ()\n",
      "2021-09-22 03:16:06,354 INFO sqlalchemy.engine.Engine PRAGMA temp.table_info(\"Boreholes\")\n",
      "2021-09-22 03:16:06,354 INFO sqlalchemy.engine.Engine [raw sql] ()\n",
      "2021-09-22 03:16:06,355 INFO sqlalchemy.engine.Engine PRAGMA main.table_info(\"Intervals\")\n",
      "2021-09-22 03:16:06,356 INFO sqlalchemy.engine.Engine [raw sql] ()\n",
      "2021-09-22 03:16:06,356 INFO sqlalchemy.engine.Engine PRAGMA temp.table_info(\"Intervals\")\n",
      "2021-09-22 03:16:06,357 INFO sqlalchemy.engine.Engine [raw sql] ()\n",
      "2021-09-22 03:16:06,357 INFO sqlalchemy.engine.Engine PRAGMA main.table_info(\"Components\")\n",
      "2021-09-22 03:16:06,358 INFO sqlalchemy.engine.Engine [raw sql] ()\n",
      "2021-09-22 03:16:06,358 INFO sqlalchemy.engine.Engine PRAGMA temp.table_info(\"Components\")\n",
      "2021-09-22 03:16:06,359 INFO sqlalchemy.engine.Engine [raw sql] ()\n",
      "2021-09-22 03:16:06,360 INFO sqlalchemy.engine.Engine PRAGMA main.table_info(\"Linkintervalcomponent\")\n",
      "2021-09-22 03:16:06,361 INFO sqlalchemy.engine.Engine [raw sql] ()\n",
      "2021-09-22 03:16:06,362 INFO sqlalchemy.engine.Engine PRAGMA temp.table_info(\"Linkintervalcomponent\")\n",
      "2021-09-22 03:16:06,362 INFO sqlalchemy.engine.Engine [raw sql] ()\n",
      "2021-09-22 03:16:06,363 INFO sqlalchemy.engine.Engine PRAGMA main.table_info(\"Positions\")\n",
      "2021-09-22 03:16:06,363 INFO sqlalchemy.engine.Engine [raw sql] ()\n",
      "2021-09-22 03:16:06,363 INFO sqlalchemy.engine.Engine PRAGMA temp.table_info(\"Positions\")\n",
      "2021-09-22 03:16:06,364 INFO sqlalchemy.engine.Engine [raw sql] ()\n",
      "2021-09-22 03:16:06,364 INFO sqlalchemy.engine.Engine PRAGMA main.table_info(\"IntervalData\")\n",
      "2021-09-22 03:16:06,364 INFO sqlalchemy.engine.Engine [raw sql] ()\n",
      "2021-09-22 03:16:06,365 INFO sqlalchemy.engine.Engine PRAGMA temp.table_info(\"IntervalData\")\n",
      "2021-09-22 03:16:06,365 INFO sqlalchemy.engine.Engine [raw sql] ()\n",
      "2021-09-22 03:16:06,366 INFO sqlalchemy.engine.Engine \n",
      "CREATE TABLE \"Boreholes\" (\n",
      "\tid VARCHAR(32) NOT NULL, \n",
      "\tdate VARCHAR(32), \n",
      "\tlength FLOAT, \n",
      "\tdiameter FLOAT, \n",
      "\tPRIMARY KEY (id)\n",
      ")\n",
      "\n",
      "\n",
      "2021-09-22 03:16:06,367 INFO sqlalchemy.engine.Engine [no key 0.00032s] ()\n",
      "2021-09-22 03:16:06,372 INFO sqlalchemy.engine.Engine \n",
      "CREATE TABLE \"Intervals\" (\n",
      "\tid INTEGER NOT NULL, \n",
      "\tborehole VARCHAR(32), \n",
      "\tinterval_number INTEGER, \n",
      "\tdescription VARCHAR(32), \n",
      "\ttop_id INTEGER, \n",
      "\tbase_id INTEGER, \n",
      "\tdata_id INTEGER, \n",
      "\tPRIMARY KEY (id), \n",
      "\tFOREIGN KEY(borehole) REFERENCES \"Boreholes\" (id), \n",
      "\tFOREIGN KEY(top_id) REFERENCES \"Positions\" (id), \n",
      "\tFOREIGN KEY(base_id) REFERENCES \"Positions\" (id), \n",
      "\tFOREIGN KEY(data_id) REFERENCES \"IntervalData\" (id)\n",
      ")\n",
      "\n",
      "\n",
      "2021-09-22 03:16:06,373 INFO sqlalchemy.engine.Engine [no key 0.00101s] ()\n",
      "2021-09-22 03:16:06,378 INFO sqlalchemy.engine.Engine \n",
      "CREATE TABLE \"Components\" (\n",
      "\tid INTEGER NOT NULL, \n",
      "\tdescription VARCHAR(32), \n",
      "\tPRIMARY KEY (id)\n",
      ")\n",
      "\n",
      "\n",
      "2021-09-22 03:16:06,379 INFO sqlalchemy.engine.Engine [no key 0.00069s] ()\n",
      "2021-09-22 03:16:06,383 INFO sqlalchemy.engine.Engine \n",
      "CREATE TABLE \"Positions\" (\n",
      "\tid INTEGER NOT NULL, \n",
      "\tupper FLOAT, \n",
      "\tmiddle FLOAT, \n",
      "\tlower FLOAT, \n",
      "\tx FLOAT, \n",
      "\ty FLOAT, \n",
      "\tPRIMARY KEY (id)\n",
      ")\n",
      "\n",
      "\n",
      "2021-09-22 03:16:06,384 INFO sqlalchemy.engine.Engine [no key 0.00070s] ()\n",
      "2021-09-22 03:16:06,389 INFO sqlalchemy.engine.Engine \n",
      "CREATE TABLE \"IntervalData\" (\n",
      "\tid INTEGER NOT NULL, \n",
      "\tinterval INTEGER, \n",
      "\t\"key\" VARCHAR(32), \n",
      "\tvalue FLOAT, \n",
      "\tunits VARCHAR(32), \n",
      "\tPRIMARY KEY (id), \n",
      "\tFOREIGN KEY(interval) REFERENCES \"Intervals\" (id)\n",
      ")\n",
      "\n",
      "\n",
      "2021-09-22 03:16:06,390 INFO sqlalchemy.engine.Engine [no key 0.00111s] ()\n",
      "2021-09-22 03:16:06,395 INFO sqlalchemy.engine.Engine \n",
      "CREATE TABLE \"Linkintervalcomponent\" (\n",
      "\tintv_id INTEGER NOT NULL, \n",
      "\tcomp_id INTEGER NOT NULL, \n",
      "\textra_data VARCHAR(256), \n",
      "\tPRIMARY KEY (intv_id, comp_id), \n",
      "\tFOREIGN KEY(intv_id) REFERENCES \"Intervals\" (id), \n",
      "\tFOREIGN KEY(comp_id) REFERENCES \"Components\" (id)\n",
      ")\n",
      "\n",
      "\n",
      "2021-09-22 03:16:06,396 INFO sqlalchemy.engine.Engine [no key 0.00101s] ()\n",
      "2021-09-22 03:16:06,400 INFO sqlalchemy.engine.Engine COMMIT\n"
     ]
    }
   ],
   "source": [
    "Base.metadata.create_all(engine)"
   ]
  },
  {
   "cell_type": "code",
   "execution_count": 15,
   "metadata": {},
   "outputs": [],
   "source": [
    "Session = sessionmaker(bind=engine)\n",
    "session = Session()"
   ]
  },
  {
   "cell_type": "markdown",
   "metadata": {},
   "source": [
    "## Create a legend dictionary for the project"
   ]
  },
  {
   "cell_type": "code",
   "execution_count": 16,
   "metadata": {},
   "outputs": [],
   "source": [
    "legend_dict = legend_from_attributes([('lithology', lithology_memoris)])"
   ]
  },
  {
   "cell_type": "raw",
   "metadata": {},
   "source": [
    "legend_dict"
   ]
  },
  {
   "cell_type": "code",
   "execution_count": 17,
   "metadata": {},
   "outputs": [
    {
     "name": "stdout",
     "output_type": "stream",
     "text": [
      "2021-09-22 03:16:06,419 INFO sqlalchemy.engine.Engine BEGIN (implicit)\n",
      "2021-09-22 03:16:06,422 INFO sqlalchemy.engine.Engine SELECT \"Boreholes\".id AS \"Boreholes_id\", \"Boreholes\".date AS \"Boreholes_date\", \"Boreholes\".length AS \"Boreholes_length\", \"Boreholes\".diameter AS \"Boreholes_diameter\" \n",
      "FROM \"Boreholes\"\n",
      "2021-09-22 03:16:06,424 INFO sqlalchemy.engine.Engine [generated in 0.00279s] ()\n"
     ]
    }
   ],
   "source": [
    "p = Project(session, legend_dict=legend_dict, lexicon=lexicon_memoris)"
   ]
  },
  {
   "cell_type": "markdown",
   "metadata": {},
   "source": [
    "#### Add components and boreholes into the project"
   ]
  },
  {
   "cell_type": "code",
   "execution_count": 18,
   "metadata": {},
   "outputs": [
    {
     "name": "stdout",
     "output_type": "stream",
     "text": [
      "2021-09-22 03:16:06,432 INFO sqlalchemy.engine.Engine INSERT INTO \"Components\" (id, description) VALUES (?, ?)\n",
      "2021-09-22 03:16:06,434 INFO sqlalchemy.engine.Engine [generated in 0.00132s] ((0, 'Remblais'), (1, 'Boue'), (2, '_'), (3, 'Schistes'), (4, 'Limon'), (5, 'Limons'), (6, 'Béton'), (7, 'Alluvions'))\n",
      "2021-09-22 03:16:06,435 INFO sqlalchemy.engine.Engine COMMIT\n",
      "2021-09-22 03:16:06,438 INFO sqlalchemy.engine.Engine BEGIN (implicit)\n",
      "2021-09-22 03:16:06,439 INFO sqlalchemy.engine.Engine SELECT \"Boreholes\".id AS \"Boreholes_id\", \"Boreholes\".date AS \"Boreholes_date\", \"Boreholes\".length AS \"Boreholes_length\", \"Boreholes\".diameter AS \"Boreholes_diameter\" \n",
      "FROM \"Boreholes\"\n",
      "2021-09-22 03:16:06,440 INFO sqlalchemy.engine.Engine [cached since 0.01827s ago] ()\n"
     ]
    }
   ],
   "source": [
    "p.add_components(components)"
   ]
  },
  {
   "cell_type": "code",
   "execution_count": 19,
   "metadata": {
    "scrolled": true
   },
   "outputs": [
    {
     "name": "stdout",
     "output_type": "stream",
     "text": [
      "2021-09-22 03:16:06,445 INFO sqlalchemy.engine.Engine INSERT INTO \"Boreholes\" (id, date, length, diameter) VALUES (?, ?, ?, ?)\n",
      "2021-09-22 03:16:06,447 INFO sqlalchemy.engine.Engine [generated in 0.00212s] ('201', None, 0.8999999999999999, 0.075)\n",
      "2021-09-22 03:16:06,450 INFO sqlalchemy.engine.Engine INSERT INTO \"Positions\" (id, upper, middle, lower, x, y) VALUES (?, ?, ?, ?, ?, ?)\n",
      "2021-09-22 03:16:06,451 INFO sqlalchemy.engine.Engine [generated in 0.00095s] ((0, 101.926886, 101.926886, 101.926886, 152890.245758, 122596.47426), (1, 101.426886, 101.426886, 101.426886, 152890.245758, 122596.47426), (2, 101.426886, 101.426886, 101.426886, 152890.245758, 122596.47426), (3, 101.02688599999999, 101.02688599999999, 101.02688599999999, 152890.245758, 122596.47426))\n",
      "2021-09-22 03:16:06,452 INFO sqlalchemy.engine.Engine INSERT INTO \"Intervals\" (id, borehole, interval_number, description, top_id, base_id, data_id) VALUES (?, ?, ?, ?, ?, ?, ?)\n",
      "2021-09-22 03:16:06,453 INFO sqlalchemy.engine.Engine [generated in 0.00052s] ((0, '201', 0, '{\"lithology\": \"remblais\"}', 0, 1, None), (1, '201', 1, '{\"lithology\": \"remblais\"}', 2, 3, None))\n",
      "2021-09-22 03:16:06,454 INFO sqlalchemy.engine.Engine COMMIT\n",
      "2021-09-22 03:16:06,457 INFO sqlalchemy.engine.Engine BEGIN (implicit)\n",
      "2021-09-22 03:16:06,458 INFO sqlalchemy.engine.Engine SELECT \"Boreholes\".id AS \"Boreholes_id\", \"Boreholes\".date AS \"Boreholes_date\", \"Boreholes\".length AS \"Boreholes_length\", \"Boreholes\".diameter AS \"Boreholes_diameter\" \n",
      "FROM \"Boreholes\"\n",
      "2021-09-22 03:16:06,458 INFO sqlalchemy.engine.Engine [cached since 0.03646s ago] ()\n",
      "2021-09-22 03:16:06,464 INFO sqlalchemy.engine.Engine SELECT \"Intervals\".id AS \"Intervals_id\", \"Intervals\".borehole AS \"Intervals_borehole\", \"Intervals\".interval_number AS \"Intervals_interval_number\", \"Intervals\".description AS \"Intervals_description\", \"Intervals\".top_id AS \"Intervals_top_id\", \"Intervals\".base_id AS \"Intervals_base_id\", \"Intervals\".data_id AS \"Intervals_data_id\" \n",
      "FROM \"Intervals\" \n",
      "WHERE ? = \"Intervals\".borehole\n",
      "2021-09-22 03:16:06,464 INFO sqlalchemy.engine.Engine [generated in 0.00073s] ('201',)\n",
      "2021-09-22 03:16:06,468 INFO sqlalchemy.engine.Engine SELECT \"Positions\".id AS \"Positions_id\", \"Positions\".upper AS \"Positions_upper\", \"Positions\".middle AS \"Positions_middle\", \"Positions\".lower AS \"Positions_lower\", \"Positions\".x AS \"Positions_x\", \"Positions\".y AS \"Positions_y\" \n",
      "FROM \"Positions\" \n",
      "WHERE \"Positions\".id = ?\n",
      "2021-09-22 03:16:06,468 INFO sqlalchemy.engine.Engine [generated in 0.00072s] (0,)\n",
      "2021-09-22 03:16:06,470 INFO sqlalchemy.engine.Engine SELECT \"Positions\".id AS \"Positions_id\", \"Positions\".upper AS \"Positions_upper\", \"Positions\".middle AS \"Positions_middle\", \"Positions\".lower AS \"Positions_lower\", \"Positions\".x AS \"Positions_x\", \"Positions\".y AS \"Positions_y\" \n",
      "FROM \"Positions\" \n",
      "WHERE \"Positions\".id = ?\n",
      "2021-09-22 03:16:06,471 INFO sqlalchemy.engine.Engine [generated in 0.00049s] (1,)\n",
      "2021-09-22 03:16:06,472 INFO sqlalchemy.engine.Engine SELECT \"Positions\".id AS \"Positions_id\", \"Positions\".upper AS \"Positions_upper\", \"Positions\".middle AS \"Positions_middle\", \"Positions\".lower AS \"Positions_lower\", \"Positions\".x AS \"Positions_x\", \"Positions\".y AS \"Positions_y\" \n",
      "FROM \"Positions\" \n",
      "WHERE \"Positions\".id = ?\n",
      "2021-09-22 03:16:06,473 INFO sqlalchemy.engine.Engine [cached since 0.005212s ago] (2,)\n",
      "2021-09-22 03:16:06,474 INFO sqlalchemy.engine.Engine SELECT \"Positions\".id AS \"Positions_id\", \"Positions\".upper AS \"Positions_upper\", \"Positions\".middle AS \"Positions_middle\", \"Positions\".lower AS \"Positions_lower\", \"Positions\".x AS \"Positions_x\", \"Positions\".y AS \"Positions_y\" \n",
      "FROM \"Positions\" \n",
      "WHERE \"Positions\".id = ?\n",
      "2021-09-22 03:16:06,474 INFO sqlalchemy.engine.Engine [cached since 0.003979s ago] (3,)\n",
      "Borehole geometry created successfully !\n",
      "2021-09-22 03:16:06,482 INFO sqlalchemy.engine.Engine UPDATE \"Boreholes\" SET length=? WHERE \"Boreholes\".id = ?\n",
      "2021-09-22 03:16:06,483 INFO sqlalchemy.engine.Engine [generated in 0.00094s] (101.426886, '201')\n",
      "2021-09-22 03:16:06,484 INFO sqlalchemy.engine.Engine INSERT INTO \"Boreholes\" (id, date, length, diameter) VALUES (?, ?, ?, ?)\n",
      "2021-09-22 03:16:06,485 INFO sqlalchemy.engine.Engine [cached since 0.03974s ago] ('205', None, 1.5, 0.075)\n",
      "2021-09-22 03:16:06,486 INFO sqlalchemy.engine.Engine INSERT INTO \"Positions\" (id, upper, middle, lower, x, y) VALUES (?, ?, ?, ?, ?, ?)\n",
      "2021-09-22 03:16:06,487 INFO sqlalchemy.engine.Engine [cached since 0.03684s ago] ((4, 101.804167, 101.804167, 101.804167, 152887.69317500002, 122594.619977), (5, 101.404167, 101.404167, 101.404167, 152887.69317500002, 122594.619977), (6, 101.404167, 101.404167, 101.404167, 152887.69317500002, 122594.619977), (7, 100.904167, 100.904167, 100.904167, 152887.69317500002, 122594.619977), (8, 100.904167, 100.904167, 100.904167, 152887.69317500002, 122594.619977), (9, 100.70416700000001, 100.70416700000001, 100.70416700000001, 152887.69317500002, 122594.619977), (10, 100.70416700000001, 100.70416700000001, 100.70416700000001, 152887.69317500002, 122594.619977), (11, 100.304167, 100.304167, 100.304167, 152887.69317500002, 122594.619977))\n",
      "2021-09-22 03:16:06,488 INFO sqlalchemy.engine.Engine INSERT INTO \"Intervals\" (id, borehole, interval_number, description, top_id, base_id, data_id) VALUES (?, ?, ?, ?, ?, ?, ?)\n",
      "2021-09-22 03:16:06,488 INFO sqlalchemy.engine.Engine [cached since 0.03594s ago] ((2, '205', 0, '{\"lithology\": \"boue\"}', 4, 5, None), (3, '205', 1, '{\"lithology\": \"boue\"}', 6, 7, None), (4, '205', 2, '{\"lithology\": \"boue\"}', 8, 9, None), (5, '205', 3, '{\"lithology\": \"boue\"}', 10, 11, None))\n",
      "2021-09-22 03:16:06,489 INFO sqlalchemy.engine.Engine COMMIT\n",
      "2021-09-22 03:16:06,494 INFO sqlalchemy.engine.Engine BEGIN (implicit)\n",
      "2021-09-22 03:16:06,495 INFO sqlalchemy.engine.Engine SELECT \"Boreholes\".id AS \"Boreholes_id\", \"Boreholes\".date AS \"Boreholes_date\", \"Boreholes\".length AS \"Boreholes_length\", \"Boreholes\".diameter AS \"Boreholes_diameter\" \n",
      "FROM \"Boreholes\"\n",
      "2021-09-22 03:16:06,495 INFO sqlalchemy.engine.Engine [cached since 0.07395s ago] ()\n",
      "2021-09-22 03:16:06,497 INFO sqlalchemy.engine.Engine SELECT \"Intervals\".id AS \"Intervals_id\", \"Intervals\".borehole AS \"Intervals_borehole\", \"Intervals\".interval_number AS \"Intervals_interval_number\", \"Intervals\".description AS \"Intervals_description\", \"Intervals\".top_id AS \"Intervals_top_id\", \"Intervals\".base_id AS \"Intervals_base_id\", \"Intervals\".data_id AS \"Intervals_data_id\" \n",
      "FROM \"Intervals\" \n",
      "WHERE ? = \"Intervals\".borehole\n",
      "2021-09-22 03:16:06,498 INFO sqlalchemy.engine.Engine [cached since 0.03433s ago] ('205',)\n",
      "2021-09-22 03:16:06,500 INFO sqlalchemy.engine.Engine SELECT \"Positions\".id AS \"Positions_id\", \"Positions\".upper AS \"Positions_upper\", \"Positions\".middle AS \"Positions_middle\", \"Positions\".lower AS \"Positions_lower\", \"Positions\".x AS \"Positions_x\", \"Positions\".y AS \"Positions_y\" \n",
      "FROM \"Positions\" \n",
      "WHERE \"Positions\".id = ?\n",
      "2021-09-22 03:16:06,500 INFO sqlalchemy.engine.Engine [cached since 0.03271s ago] (4,)\n",
      "2021-09-22 03:16:06,502 INFO sqlalchemy.engine.Engine SELECT \"Positions\".id AS \"Positions_id\", \"Positions\".upper AS \"Positions_upper\", \"Positions\".middle AS \"Positions_middle\", \"Positions\".lower AS \"Positions_lower\", \"Positions\".x AS \"Positions_x\", \"Positions\".y AS \"Positions_y\" \n",
      "FROM \"Positions\" \n",
      "WHERE \"Positions\".id = ?\n",
      "2021-09-22 03:16:06,502 INFO sqlalchemy.engine.Engine [cached since 0.03197s ago] (5,)\n",
      "2021-09-22 03:16:06,504 INFO sqlalchemy.engine.Engine SELECT \"Positions\".id AS \"Positions_id\", \"Positions\".upper AS \"Positions_upper\", \"Positions\".middle AS \"Positions_middle\", \"Positions\".lower AS \"Positions_lower\", \"Positions\".x AS \"Positions_x\", \"Positions\".y AS \"Positions_y\" \n",
      "FROM \"Positions\" \n",
      "WHERE \"Positions\".id = ?\n",
      "2021-09-22 03:16:06,505 INFO sqlalchemy.engine.Engine [cached since 0.03728s ago] (6,)\n",
      "2021-09-22 03:16:06,507 INFO sqlalchemy.engine.Engine SELECT \"Positions\".id AS \"Positions_id\", \"Positions\".upper AS \"Positions_upper\", \"Positions\".middle AS \"Positions_middle\", \"Positions\".lower AS \"Positions_lower\", \"Positions\".x AS \"Positions_x\", \"Positions\".y AS \"Positions_y\" \n",
      "FROM \"Positions\" \n",
      "WHERE \"Positions\".id = ?\n",
      "2021-09-22 03:16:06,508 INFO sqlalchemy.engine.Engine [cached since 0.03763s ago] (7,)\n"
     ]
    },
    {
     "name": "stdout",
     "output_type": "stream",
     "text": [
      "2021-09-22 03:16:06,509 INFO sqlalchemy.engine.Engine SELECT \"Positions\".id AS \"Positions_id\", \"Positions\".upper AS \"Positions_upper\", \"Positions\".middle AS \"Positions_middle\", \"Positions\".lower AS \"Positions_lower\", \"Positions\".x AS \"Positions_x\", \"Positions\".y AS \"Positions_y\" \n",
      "FROM \"Positions\" \n",
      "WHERE \"Positions\".id = ?\n",
      "2021-09-22 03:16:06,510 INFO sqlalchemy.engine.Engine [cached since 0.04247s ago] (8,)\n",
      "2021-09-22 03:16:06,511 INFO sqlalchemy.engine.Engine SELECT \"Positions\".id AS \"Positions_id\", \"Positions\".upper AS \"Positions_upper\", \"Positions\".middle AS \"Positions_middle\", \"Positions\".lower AS \"Positions_lower\", \"Positions\".x AS \"Positions_x\", \"Positions\".y AS \"Positions_y\" \n",
      "FROM \"Positions\" \n",
      "WHERE \"Positions\".id = ?\n",
      "2021-09-22 03:16:06,512 INFO sqlalchemy.engine.Engine [cached since 0.04178s ago] (9,)\n",
      "2021-09-22 03:16:06,514 INFO sqlalchemy.engine.Engine SELECT \"Positions\".id AS \"Positions_id\", \"Positions\".upper AS \"Positions_upper\", \"Positions\".middle AS \"Positions_middle\", \"Positions\".lower AS \"Positions_lower\", \"Positions\".x AS \"Positions_x\", \"Positions\".y AS \"Positions_y\" \n",
      "FROM \"Positions\" \n",
      "WHERE \"Positions\".id = ?\n",
      "2021-09-22 03:16:06,514 INFO sqlalchemy.engine.Engine [cached since 0.04647s ago] (10,)\n",
      "2021-09-22 03:16:06,515 INFO sqlalchemy.engine.Engine SELECT \"Positions\".id AS \"Positions_id\", \"Positions\".upper AS \"Positions_upper\", \"Positions\".middle AS \"Positions_middle\", \"Positions\".lower AS \"Positions_lower\", \"Positions\".x AS \"Positions_x\", \"Positions\".y AS \"Positions_y\" \n",
      "FROM \"Positions\" \n",
      "WHERE \"Positions\".id = ?\n",
      "2021-09-22 03:16:06,515 INFO sqlalchemy.engine.Engine [cached since 0.0451s ago] (11,)\n",
      "Borehole geometry created successfully !\n",
      "2021-09-22 03:16:06,525 INFO sqlalchemy.engine.Engine UPDATE \"Boreholes\" SET length=? WHERE \"Boreholes\".id = ?\n",
      "2021-09-22 03:16:06,525 INFO sqlalchemy.engine.Engine [cached since 0.04294s ago] (101.404167, '205')\n",
      "2021-09-22 03:16:06,526 INFO sqlalchemy.engine.Engine INSERT INTO \"Boreholes\" (id, date, length, diameter) VALUES (?, ?, ?, ?)\n",
      "2021-09-22 03:16:06,527 INFO sqlalchemy.engine.Engine [cached since 0.08171s ago] ('208', None, 1.4999999999999996, 0.075)\n",
      "2021-09-22 03:16:06,528 INFO sqlalchemy.engine.Engine INSERT INTO \"Positions\" (id, upper, middle, lower, x, y) VALUES (?, ?, ?, ?, ?, ?)\n",
      "2021-09-22 03:16:06,528 INFO sqlalchemy.engine.Engine [cached since 0.07863s ago] ((12, 101.847697, 101.847697, 101.847697, 152885.295648, 122592.985739), (13, 101.347697, 101.347697, 101.347697, 152885.295648, 122592.985739), (14, 101.347697, 101.347697, 101.347697, 152885.295648, 122592.985739), (15, 101.047697, 101.047697, 101.047697, 152885.295648, 122592.985739), (16, 101.047697, 101.047697, 101.047697, 152885.295648, 122592.985739), (17, 100.647697, 100.647697, 100.647697, 152885.295648, 122592.985739), (18, 100.647697, 100.647697, 100.647697, 152885.295648, 122592.985739), (19, 100.347697, 100.347697, 100.347697, 152885.295648, 122592.985739))\n",
      "2021-09-22 03:16:06,530 INFO sqlalchemy.engine.Engine INSERT INTO \"Intervals\" (id, borehole, interval_number, description, top_id, base_id, data_id) VALUES (?, ?, ?, ?, ?, ?, ?)\n",
      "2021-09-22 03:16:06,530 INFO sqlalchemy.engine.Engine [cached since 0.07786s ago] ((6, '208', 0, '{\"lithology\": \"remblais\"}', 12, 13, None), (7, '208', 1, '{\"lithology\": \"remblais\"}', 14, 15, None), (8, '208', 2, '{\"lithology\": \"remblais\"}', 16, 17, None), (9, '208', 3, '{\"lithology\": \"remblais\"}', 18, 19, None))\n",
      "2021-09-22 03:16:06,531 INFO sqlalchemy.engine.Engine COMMIT\n",
      "2021-09-22 03:16:06,534 INFO sqlalchemy.engine.Engine BEGIN (implicit)\n",
      "2021-09-22 03:16:06,535 INFO sqlalchemy.engine.Engine SELECT \"Boreholes\".id AS \"Boreholes_id\", \"Boreholes\".date AS \"Boreholes_date\", \"Boreholes\".length AS \"Boreholes_length\", \"Boreholes\".diameter AS \"Boreholes_diameter\" \n",
      "FROM \"Boreholes\"\n",
      "2021-09-22 03:16:06,536 INFO sqlalchemy.engine.Engine [cached since 0.1142s ago] ()\n",
      "2021-09-22 03:16:06,537 INFO sqlalchemy.engine.Engine SELECT \"Intervals\".id AS \"Intervals_id\", \"Intervals\".borehole AS \"Intervals_borehole\", \"Intervals\".interval_number AS \"Intervals_interval_number\", \"Intervals\".description AS \"Intervals_description\", \"Intervals\".top_id AS \"Intervals_top_id\", \"Intervals\".base_id AS \"Intervals_base_id\", \"Intervals\".data_id AS \"Intervals_data_id\" \n",
      "FROM \"Intervals\" \n",
      "WHERE ? = \"Intervals\".borehole\n",
      "2021-09-22 03:16:06,538 INFO sqlalchemy.engine.Engine [cached since 0.07438s ago] ('208',)\n",
      "2021-09-22 03:16:06,541 INFO sqlalchemy.engine.Engine SELECT \"Positions\".id AS \"Positions_id\", \"Positions\".upper AS \"Positions_upper\", \"Positions\".middle AS \"Positions_middle\", \"Positions\".lower AS \"Positions_lower\", \"Positions\".x AS \"Positions_x\", \"Positions\".y AS \"Positions_y\" \n",
      "FROM \"Positions\" \n",
      "WHERE \"Positions\".id = ?\n",
      "2021-09-22 03:16:06,542 INFO sqlalchemy.engine.Engine [cached since 0.074s ago] (12,)\n",
      "2021-09-22 03:16:06,544 INFO sqlalchemy.engine.Engine SELECT \"Positions\".id AS \"Positions_id\", \"Positions\".upper AS \"Positions_upper\", \"Positions\".middle AS \"Positions_middle\", \"Positions\".lower AS \"Positions_lower\", \"Positions\".x AS \"Positions_x\", \"Positions\".y AS \"Positions_y\" \n",
      "FROM \"Positions\" \n",
      "WHERE \"Positions\".id = ?\n",
      "2021-09-22 03:16:06,544 INFO sqlalchemy.engine.Engine [cached since 0.07411s ago] (13,)\n",
      "2021-09-22 03:16:06,546 INFO sqlalchemy.engine.Engine SELECT \"Positions\".id AS \"Positions_id\", \"Positions\".upper AS \"Positions_upper\", \"Positions\".middle AS \"Positions_middle\", \"Positions\".lower AS \"Positions_lower\", \"Positions\".x AS \"Positions_x\", \"Positions\".y AS \"Positions_y\" \n",
      "FROM \"Positions\" \n",
      "WHERE \"Positions\".id = ?\n",
      "2021-09-22 03:16:06,547 INFO sqlalchemy.engine.Engine [cached since 0.07983s ago] (14,)\n",
      "2021-09-22 03:16:06,549 INFO sqlalchemy.engine.Engine SELECT \"Positions\".id AS \"Positions_id\", \"Positions\".upper AS \"Positions_upper\", \"Positions\".middle AS \"Positions_middle\", \"Positions\".lower AS \"Positions_lower\", \"Positions\".x AS \"Positions_x\", \"Positions\".y AS \"Positions_y\" \n",
      "FROM \"Positions\" \n",
      "WHERE \"Positions\".id = ?\n",
      "2021-09-22 03:16:06,549 INFO sqlalchemy.engine.Engine [cached since 0.07888s ago] (15,)\n",
      "2021-09-22 03:16:06,550 INFO sqlalchemy.engine.Engine SELECT \"Positions\".id AS \"Positions_id\", \"Positions\".upper AS \"Positions_upper\", \"Positions\".middle AS \"Positions_middle\", \"Positions\".lower AS \"Positions_lower\", \"Positions\".x AS \"Positions_x\", \"Positions\".y AS \"Positions_y\" \n",
      "FROM \"Positions\" \n",
      "WHERE \"Positions\".id = ?\n",
      "2021-09-22 03:16:06,550 INFO sqlalchemy.engine.Engine [cached since 0.08287s ago] (16,)\n",
      "2021-09-22 03:16:06,551 INFO sqlalchemy.engine.Engine SELECT \"Positions\".id AS \"Positions_id\", \"Positions\".upper AS \"Positions_upper\", \"Positions\".middle AS \"Positions_middle\", \"Positions\".lower AS \"Positions_lower\", \"Positions\".x AS \"Positions_x\", \"Positions\".y AS \"Positions_y\" \n",
      "FROM \"Positions\" \n",
      "WHERE \"Positions\".id = ?\n",
      "2021-09-22 03:16:06,552 INFO sqlalchemy.engine.Engine [cached since 0.08156s ago] (17,)\n",
      "2021-09-22 03:16:06,553 INFO sqlalchemy.engine.Engine SELECT \"Positions\".id AS \"Positions_id\", \"Positions\".upper AS \"Positions_upper\", \"Positions\".middle AS \"Positions_middle\", \"Positions\".lower AS \"Positions_lower\", \"Positions\".x AS \"Positions_x\", \"Positions\".y AS \"Positions_y\" \n",
      "FROM \"Positions\" \n",
      "WHERE \"Positions\".id = ?\n",
      "2021-09-22 03:16:06,554 INFO sqlalchemy.engine.Engine [cached since 0.08621s ago] (18,)\n",
      "2021-09-22 03:16:06,555 INFO sqlalchemy.engine.Engine SELECT \"Positions\".id AS \"Positions_id\", \"Positions\".upper AS \"Positions_upper\", \"Positions\".middle AS \"Positions_middle\", \"Positions\".lower AS \"Positions_lower\", \"Positions\".x AS \"Positions_x\", \"Positions\".y AS \"Positions_y\" \n",
      "FROM \"Positions\" \n",
      "WHERE \"Positions\".id = ?\n",
      "2021-09-22 03:16:06,555 INFO sqlalchemy.engine.Engine [cached since 0.0852s ago] (19,)\n",
      "Borehole geometry created successfully !\n",
      "2021-09-22 03:16:06,566 INFO sqlalchemy.engine.Engine UPDATE \"Boreholes\" SET length=? WHERE \"Boreholes\".id = ?\n",
      "2021-09-22 03:16:06,566 INFO sqlalchemy.engine.Engine [cached since 0.08388s ago] (101.347697, '208')\n",
      "2021-09-22 03:16:06,567 INFO sqlalchemy.engine.Engine INSERT INTO \"Boreholes\" (id, date, length, diameter) VALUES (?, ?, ?, ?)\n",
      "2021-09-22 03:16:06,568 INFO sqlalchemy.engine.Engine [cached since 0.1225s ago] ('207', None, 1.8000000000000007, 0.075)\n"
     ]
    },
    {
     "name": "stdout",
     "output_type": "stream",
     "text": [
      "2021-09-22 03:16:06,569 INFO sqlalchemy.engine.Engine INSERT INTO \"Positions\" (id, upper, middle, lower, x, y) VALUES (?, ?, ?, ?, ?, ?)\n",
      "2021-09-22 03:16:06,570 INFO sqlalchemy.engine.Engine [cached since 0.1198s ago] ((20, 101.889132, 101.889132, 101.889132, 152892.92499700002, 122592.662277), (21, 101.489132, 101.489132, 101.489132, 152892.92499700002, 122592.662277), (22, 101.489132, 101.489132, 101.489132, 152892.92499700002, 122592.662277), (23, 101.089132, 101.089132, 101.089132, 152892.92499700002, 122592.662277), (24, 101.089132, 101.089132, 101.089132, 152892.92499700002, 122592.662277), (25, 100.689132, 100.689132, 100.689132, 152892.92499700002, 122592.662277), (26, 100.689132, 100.689132, 100.689132, 152892.92499700002, 122592.662277), (27, 100.489132, 100.489132, 100.489132, 152892.92499700002, 122592.662277), (28, 100.489132, 100.489132, 100.489132, 152892.92499700002, 122592.662277), (29, 100.089132, 100.089132, 100.089132, 152892.92499700002, 122592.662277))\n",
      "2021-09-22 03:16:06,571 INFO sqlalchemy.engine.Engine INSERT INTO \"Intervals\" (id, borehole, interval_number, description, top_id, base_id, data_id) VALUES (?, ?, ?, ?, ?, ?, ?)\n",
      "2021-09-22 03:16:06,572 INFO sqlalchemy.engine.Engine [cached since 0.1197s ago] ((10, '207', 0, '{\"lithology\": \"remblais\"}', 20, 21, None), (11, '207', 1, '{\"lithology\": \"remblais\"}', 22, 23, None), (12, '207', 2, '{\"lithology\": \"remblais\"}', 24, 25, None), (13, '207', 3, '{\"lithology\": \"remblais\"}', 26, 27, None), (14, '207', 4, '{\"lithology\": \"remblais\"}', 28, 29, None))\n",
      "2021-09-22 03:16:06,574 INFO sqlalchemy.engine.Engine COMMIT\n",
      "2021-09-22 03:16:06,578 INFO sqlalchemy.engine.Engine BEGIN (implicit)\n",
      "2021-09-22 03:16:06,579 INFO sqlalchemy.engine.Engine SELECT \"Boreholes\".id AS \"Boreholes_id\", \"Boreholes\".date AS \"Boreholes_date\", \"Boreholes\".length AS \"Boreholes_length\", \"Boreholes\".diameter AS \"Boreholes_diameter\" \n",
      "FROM \"Boreholes\"\n",
      "2021-09-22 03:16:06,580 INFO sqlalchemy.engine.Engine [cached since 0.1586s ago] ()\n",
      "2021-09-22 03:16:06,582 INFO sqlalchemy.engine.Engine SELECT \"Intervals\".id AS \"Intervals_id\", \"Intervals\".borehole AS \"Intervals_borehole\", \"Intervals\".interval_number AS \"Intervals_interval_number\", \"Intervals\".description AS \"Intervals_description\", \"Intervals\".top_id AS \"Intervals_top_id\", \"Intervals\".base_id AS \"Intervals_base_id\", \"Intervals\".data_id AS \"Intervals_data_id\" \n",
      "FROM \"Intervals\" \n",
      "WHERE ? = \"Intervals\".borehole\n",
      "2021-09-22 03:16:06,583 INFO sqlalchemy.engine.Engine [cached since 0.1196s ago] ('207',)\n",
      "2021-09-22 03:16:06,586 INFO sqlalchemy.engine.Engine SELECT \"Positions\".id AS \"Positions_id\", \"Positions\".upper AS \"Positions_upper\", \"Positions\".middle AS \"Positions_middle\", \"Positions\".lower AS \"Positions_lower\", \"Positions\".x AS \"Positions_x\", \"Positions\".y AS \"Positions_y\" \n",
      "FROM \"Positions\" \n",
      "WHERE \"Positions\".id = ?\n",
      "2021-09-22 03:16:06,587 INFO sqlalchemy.engine.Engine [cached since 0.1191s ago] (20,)\n",
      "2021-09-22 03:16:06,589 INFO sqlalchemy.engine.Engine SELECT \"Positions\".id AS \"Positions_id\", \"Positions\".upper AS \"Positions_upper\", \"Positions\".middle AS \"Positions_middle\", \"Positions\".lower AS \"Positions_lower\", \"Positions\".x AS \"Positions_x\", \"Positions\".y AS \"Positions_y\" \n",
      "FROM \"Positions\" \n",
      "WHERE \"Positions\".id = ?\n",
      "2021-09-22 03:16:06,590 INFO sqlalchemy.engine.Engine [cached since 0.1194s ago] (21,)\n",
      "2021-09-22 03:16:06,592 INFO sqlalchemy.engine.Engine SELECT \"Positions\".id AS \"Positions_id\", \"Positions\".upper AS \"Positions_upper\", \"Positions\".middle AS \"Positions_middle\", \"Positions\".lower AS \"Positions_lower\", \"Positions\".x AS \"Positions_x\", \"Positions\".y AS \"Positions_y\" \n",
      "FROM \"Positions\" \n",
      "WHERE \"Positions\".id = ?\n",
      "2021-09-22 03:16:06,593 INFO sqlalchemy.engine.Engine [cached since 0.1256s ago] (22,)\n",
      "2021-09-22 03:16:06,595 INFO sqlalchemy.engine.Engine SELECT \"Positions\".id AS \"Positions_id\", \"Positions\".upper AS \"Positions_upper\", \"Positions\".middle AS \"Positions_middle\", \"Positions\".lower AS \"Positions_lower\", \"Positions\".x AS \"Positions_x\", \"Positions\".y AS \"Positions_y\" \n",
      "FROM \"Positions\" \n",
      "WHERE \"Positions\".id = ?\n",
      "2021-09-22 03:16:06,596 INFO sqlalchemy.engine.Engine [cached since 0.1254s ago] (23,)\n",
      "2021-09-22 03:16:06,598 INFO sqlalchemy.engine.Engine SELECT \"Positions\".id AS \"Positions_id\", \"Positions\".upper AS \"Positions_upper\", \"Positions\".middle AS \"Positions_middle\", \"Positions\".lower AS \"Positions_lower\", \"Positions\".x AS \"Positions_x\", \"Positions\".y AS \"Positions_y\" \n",
      "FROM \"Positions\" \n",
      "WHERE \"Positions\".id = ?\n",
      "2021-09-22 03:16:06,599 INFO sqlalchemy.engine.Engine [cached since 0.131s ago] (24,)\n",
      "2021-09-22 03:16:06,600 INFO sqlalchemy.engine.Engine SELECT \"Positions\".id AS \"Positions_id\", \"Positions\".upper AS \"Positions_upper\", \"Positions\".middle AS \"Positions_middle\", \"Positions\".lower AS \"Positions_lower\", \"Positions\".x AS \"Positions_x\", \"Positions\".y AS \"Positions_y\" \n",
      "FROM \"Positions\" \n",
      "WHERE \"Positions\".id = ?\n",
      "2021-09-22 03:16:06,601 INFO sqlalchemy.engine.Engine [cached since 0.1309s ago] (25,)\n",
      "2021-09-22 03:16:06,605 INFO sqlalchemy.engine.Engine SELECT \"Positions\".id AS \"Positions_id\", \"Positions\".upper AS \"Positions_upper\", \"Positions\".middle AS \"Positions_middle\", \"Positions\".lower AS \"Positions_lower\", \"Positions\".x AS \"Positions_x\", \"Positions\".y AS \"Positions_y\" \n",
      "FROM \"Positions\" \n",
      "WHERE \"Positions\".id = ?\n",
      "2021-09-22 03:16:06,605 INFO sqlalchemy.engine.Engine [cached since 0.1378s ago] (26,)\n",
      "2021-09-22 03:16:06,607 INFO sqlalchemy.engine.Engine SELECT \"Positions\".id AS \"Positions_id\", \"Positions\".upper AS \"Positions_upper\", \"Positions\".middle AS \"Positions_middle\", \"Positions\".lower AS \"Positions_lower\", \"Positions\".x AS \"Positions_x\", \"Positions\".y AS \"Positions_y\" \n",
      "FROM \"Positions\" \n",
      "WHERE \"Positions\".id = ?\n",
      "2021-09-22 03:16:06,608 INFO sqlalchemy.engine.Engine [cached since 0.1375s ago] (27,)\n",
      "2021-09-22 03:16:06,610 INFO sqlalchemy.engine.Engine SELECT \"Positions\".id AS \"Positions_id\", \"Positions\".upper AS \"Positions_upper\", \"Positions\".middle AS \"Positions_middle\", \"Positions\".lower AS \"Positions_lower\", \"Positions\".x AS \"Positions_x\", \"Positions\".y AS \"Positions_y\" \n",
      "FROM \"Positions\" \n",
      "WHERE \"Positions\".id = ?\n",
      "2021-09-22 03:16:06,611 INFO sqlalchemy.engine.Engine [cached since 0.1432s ago] (28,)\n",
      "2021-09-22 03:16:06,612 INFO sqlalchemy.engine.Engine SELECT \"Positions\".id AS \"Positions_id\", \"Positions\".upper AS \"Positions_upper\", \"Positions\".middle AS \"Positions_middle\", \"Positions\".lower AS \"Positions_lower\", \"Positions\".x AS \"Positions_x\", \"Positions\".y AS \"Positions_y\" \n",
      "FROM \"Positions\" \n",
      "WHERE \"Positions\".id = ?\n",
      "2021-09-22 03:16:06,613 INFO sqlalchemy.engine.Engine [cached since 0.1427s ago] (29,)\n",
      "Borehole geometry created successfully !\n",
      "2021-09-22 03:16:06,628 INFO sqlalchemy.engine.Engine UPDATE \"Boreholes\" SET length=? WHERE \"Boreholes\".id = ?\n",
      "2021-09-22 03:16:06,629 INFO sqlalchemy.engine.Engine [cached since 0.1465s ago] (101.489132, '207')\n",
      "2021-09-22 03:16:06,630 INFO sqlalchemy.engine.Engine INSERT INTO \"Boreholes\" (id, date, length, diameter) VALUES (?, ?, ?, ?)\n",
      "2021-09-22 03:16:06,631 INFO sqlalchemy.engine.Engine [cached since 0.1856s ago] ('212', None, 1.4999999999999991, 0.075)\n",
      "2021-09-22 03:16:06,632 INFO sqlalchemy.engine.Engine INSERT INTO \"Positions\" (id, upper, middle, lower, x, y) VALUES (?, ?, ?, ?, ?, ?)\n",
      "2021-09-22 03:16:06,633 INFO sqlalchemy.engine.Engine [cached since 0.1827s ago] ((30, 101.929759, 101.929759, 101.929759, 152882.850194, 122591.453476), (31, 101.429759, 101.429759, 101.429759, 152882.850194, 122591.453476), (32, 101.429759, 101.429759, 101.429759, 152882.850194, 122591.453476), (33, 101.029759, 101.029759, 101.029759, 152882.850194, 122591.453476), (34, 101.029759, 101.029759, 101.029759, 152882.850194, 122591.453476), (35, 100.82975900000001, 100.82975900000001, 100.82975900000001, 152882.850194, 122591.453476), (36, 100.82975900000001, 100.82975900000001, 100.82975900000001, 152882.850194, 122591.453476), (37, 100.429759, 100.429759, 100.429759, 152882.850194, 122591.453476))\n",
      "2021-09-22 03:16:06,635 INFO sqlalchemy.engine.Engine INSERT INTO \"Intervals\" (id, borehole, interval_number, description, top_id, base_id, data_id) VALUES (?, ?, ?, ?, ?, ?, ?)\n",
      "2021-09-22 03:16:06,635 INFO sqlalchemy.engine.Engine [cached since 0.1831s ago] ((15, '212', 0, '{\"lithology\": \"remblais\"}', 30, 31, None), (16, '212', 1, '{\"lithology\": \"remblais\"}', 32, 33, None), (17, '212', 2, '{\"lithology\": \"remblais\"}', 34, 35, None), (18, '212', 3, '{\"lithology\": \"remblais\"}', 36, 37, None))\n"
     ]
    },
    {
     "name": "stdout",
     "output_type": "stream",
     "text": [
      "2021-09-22 03:16:06,637 INFO sqlalchemy.engine.Engine COMMIT\n",
      "2021-09-22 03:16:06,641 INFO sqlalchemy.engine.Engine BEGIN (implicit)\n",
      "2021-09-22 03:16:06,642 INFO sqlalchemy.engine.Engine SELECT \"Boreholes\".id AS \"Boreholes_id\", \"Boreholes\".date AS \"Boreholes_date\", \"Boreholes\".length AS \"Boreholes_length\", \"Boreholes\".diameter AS \"Boreholes_diameter\" \n",
      "FROM \"Boreholes\"\n",
      "2021-09-22 03:16:06,643 INFO sqlalchemy.engine.Engine [cached since 0.2213s ago] ()\n",
      "2021-09-22 03:16:06,644 INFO sqlalchemy.engine.Engine SELECT \"Intervals\".id AS \"Intervals_id\", \"Intervals\".borehole AS \"Intervals_borehole\", \"Intervals\".interval_number AS \"Intervals_interval_number\", \"Intervals\".description AS \"Intervals_description\", \"Intervals\".top_id AS \"Intervals_top_id\", \"Intervals\".base_id AS \"Intervals_base_id\", \"Intervals\".data_id AS \"Intervals_data_id\" \n",
      "FROM \"Intervals\" \n",
      "WHERE ? = \"Intervals\".borehole\n",
      "2021-09-22 03:16:06,645 INFO sqlalchemy.engine.Engine [cached since 0.1814s ago] ('212',)\n",
      "2021-09-22 03:16:06,647 INFO sqlalchemy.engine.Engine SELECT \"Positions\".id AS \"Positions_id\", \"Positions\".upper AS \"Positions_upper\", \"Positions\".middle AS \"Positions_middle\", \"Positions\".lower AS \"Positions_lower\", \"Positions\".x AS \"Positions_x\", \"Positions\".y AS \"Positions_y\" \n",
      "FROM \"Positions\" \n",
      "WHERE \"Positions\".id = ?\n",
      "2021-09-22 03:16:06,648 INFO sqlalchemy.engine.Engine [cached since 0.1809s ago] (30,)\n",
      "2021-09-22 03:16:06,650 INFO sqlalchemy.engine.Engine SELECT \"Positions\".id AS \"Positions_id\", \"Positions\".upper AS \"Positions_upper\", \"Positions\".middle AS \"Positions_middle\", \"Positions\".lower AS \"Positions_lower\", \"Positions\".x AS \"Positions_x\", \"Positions\".y AS \"Positions_y\" \n",
      "FROM \"Positions\" \n",
      "WHERE \"Positions\".id = ?\n",
      "2021-09-22 03:16:06,651 INFO sqlalchemy.engine.Engine [cached since 0.1806s ago] (31,)\n",
      "2021-09-22 03:16:06,654 INFO sqlalchemy.engine.Engine SELECT \"Positions\".id AS \"Positions_id\", \"Positions\".upper AS \"Positions_upper\", \"Positions\".middle AS \"Positions_middle\", \"Positions\".lower AS \"Positions_lower\", \"Positions\".x AS \"Positions_x\", \"Positions\".y AS \"Positions_y\" \n",
      "FROM \"Positions\" \n",
      "WHERE \"Positions\".id = ?\n",
      "2021-09-22 03:16:06,655 INFO sqlalchemy.engine.Engine [cached since 0.1872s ago] (32,)\n",
      "2021-09-22 03:16:06,657 INFO sqlalchemy.engine.Engine SELECT \"Positions\".id AS \"Positions_id\", \"Positions\".upper AS \"Positions_upper\", \"Positions\".middle AS \"Positions_middle\", \"Positions\".lower AS \"Positions_lower\", \"Positions\".x AS \"Positions_x\", \"Positions\".y AS \"Positions_y\" \n",
      "FROM \"Positions\" \n",
      "WHERE \"Positions\".id = ?\n",
      "2021-09-22 03:16:06,658 INFO sqlalchemy.engine.Engine [cached since 0.1879s ago] (33,)\n",
      "2021-09-22 03:16:06,660 INFO sqlalchemy.engine.Engine SELECT \"Positions\".id AS \"Positions_id\", \"Positions\".upper AS \"Positions_upper\", \"Positions\".middle AS \"Positions_middle\", \"Positions\".lower AS \"Positions_lower\", \"Positions\".x AS \"Positions_x\", \"Positions\".y AS \"Positions_y\" \n",
      "FROM \"Positions\" \n",
      "WHERE \"Positions\".id = ?\n",
      "2021-09-22 03:16:06,661 INFO sqlalchemy.engine.Engine [cached since 0.1932s ago] (34,)\n",
      "2021-09-22 03:16:06,662 INFO sqlalchemy.engine.Engine SELECT \"Positions\".id AS \"Positions_id\", \"Positions\".upper AS \"Positions_upper\", \"Positions\".middle AS \"Positions_middle\", \"Positions\".lower AS \"Positions_lower\", \"Positions\".x AS \"Positions_x\", \"Positions\".y AS \"Positions_y\" \n",
      "FROM \"Positions\" \n",
      "WHERE \"Positions\".id = ?\n",
      "2021-09-22 03:16:06,663 INFO sqlalchemy.engine.Engine [cached since 0.1927s ago] (35,)\n",
      "2021-09-22 03:16:06,664 INFO sqlalchemy.engine.Engine SELECT \"Positions\".id AS \"Positions_id\", \"Positions\".upper AS \"Positions_upper\", \"Positions\".middle AS \"Positions_middle\", \"Positions\".lower AS \"Positions_lower\", \"Positions\".x AS \"Positions_x\", \"Positions\".y AS \"Positions_y\" \n",
      "FROM \"Positions\" \n",
      "WHERE \"Positions\".id = ?\n",
      "2021-09-22 03:16:06,665 INFO sqlalchemy.engine.Engine [cached since 0.1972s ago] (36,)\n",
      "2021-09-22 03:16:06,666 INFO sqlalchemy.engine.Engine SELECT \"Positions\".id AS \"Positions_id\", \"Positions\".upper AS \"Positions_upper\", \"Positions\".middle AS \"Positions_middle\", \"Positions\".lower AS \"Positions_lower\", \"Positions\".x AS \"Positions_x\", \"Positions\".y AS \"Positions_y\" \n",
      "FROM \"Positions\" \n",
      "WHERE \"Positions\".id = ?\n",
      "2021-09-22 03:16:06,666 INFO sqlalchemy.engine.Engine [cached since 0.1957s ago] (37,)\n",
      "Borehole geometry created successfully !\n",
      "2021-09-22 03:16:06,677 INFO sqlalchemy.engine.Engine UPDATE \"Boreholes\" SET length=? WHERE \"Boreholes\".id = ?\n",
      "2021-09-22 03:16:06,678 INFO sqlalchemy.engine.Engine [cached since 0.1956s ago] (101.429759, '212')\n",
      "2021-09-22 03:16:06,679 INFO sqlalchemy.engine.Engine INSERT INTO \"Boreholes\" (id, date, length, diameter) VALUES (?, ?, ?, ?)\n",
      "2021-09-22 03:16:06,679 INFO sqlalchemy.engine.Engine [cached since 0.2341s ago] ('214', None, 1.6999999999999997, 0.075)\n",
      "2021-09-22 03:16:06,680 INFO sqlalchemy.engine.Engine INSERT INTO \"Positions\" (id, upper, middle, lower, x, y) VALUES (?, ?, ?, ?, ?, ?)\n",
      "2021-09-22 03:16:06,680 INFO sqlalchemy.engine.Engine [cached since 0.2307s ago] ((38, 101.854288, 101.854288, 101.854288, 152888.08180400002, 122588.485566), (39, 101.45428799999999, 101.45428799999999, 101.45428799999999, 152888.08180400002, 122588.485566), (40, 101.45428799999999, 101.45428799999999, 101.45428799999999, 152888.08180400002, 122588.485566), (41, 101.054288, 101.054288, 101.054288, 152888.08180400002, 122588.485566), (42, 101.054288, 101.054288, 101.054288, 152888.08180400002, 122588.485566), (43, 100.554288, 100.554288, 100.554288, 152888.08180400002, 122588.485566), (44, 100.554288, 100.554288, 100.554288, 152888.08180400002, 122588.485566), (45, 100.154288, 100.154288, 100.154288, 152888.08180400002, 122588.485566))\n",
      "2021-09-22 03:16:06,681 INFO sqlalchemy.engine.Engine INSERT INTO \"Intervals\" (id, borehole, interval_number, description, top_id, base_id, data_id) VALUES (?, ?, ?, ?, ?, ?, ?)\n",
      "2021-09-22 03:16:06,682 INFO sqlalchemy.engine.Engine [cached since 0.2297s ago] ((19, '214', 0, '{\"lithology\": \"remblais\"}', 38, 39, None), (20, '214', 1, '{\"lithology\": \"remblais\"}', 40, 41, None), (21, '214', 2, '{\"lithology\": \"remblais\"}', 42, 43, None), (22, '214', 3, '{\"lithology\": \"remblais\"}', 44, 45, None))\n",
      "2021-09-22 03:16:06,683 INFO sqlalchemy.engine.Engine COMMIT\n",
      "2021-09-22 03:16:06,688 INFO sqlalchemy.engine.Engine BEGIN (implicit)\n",
      "2021-09-22 03:16:06,689 INFO sqlalchemy.engine.Engine SELECT \"Boreholes\".id AS \"Boreholes_id\", \"Boreholes\".date AS \"Boreholes_date\", \"Boreholes\".length AS \"Boreholes_length\", \"Boreholes\".diameter AS \"Boreholes_diameter\" \n",
      "FROM \"Boreholes\"\n",
      "2021-09-22 03:16:06,690 INFO sqlalchemy.engine.Engine [cached since 0.2683s ago] ()\n",
      "2021-09-22 03:16:06,692 INFO sqlalchemy.engine.Engine SELECT \"Intervals\".id AS \"Intervals_id\", \"Intervals\".borehole AS \"Intervals_borehole\", \"Intervals\".interval_number AS \"Intervals_interval_number\", \"Intervals\".description AS \"Intervals_description\", \"Intervals\".top_id AS \"Intervals_top_id\", \"Intervals\".base_id AS \"Intervals_base_id\", \"Intervals\".data_id AS \"Intervals_data_id\" \n",
      "FROM \"Intervals\" \n",
      "WHERE ? = \"Intervals\".borehole\n",
      "2021-09-22 03:16:06,692 INFO sqlalchemy.engine.Engine [cached since 0.2289s ago] ('214',)\n",
      "2021-09-22 03:16:06,694 INFO sqlalchemy.engine.Engine SELECT \"Positions\".id AS \"Positions_id\", \"Positions\".upper AS \"Positions_upper\", \"Positions\".middle AS \"Positions_middle\", \"Positions\".lower AS \"Positions_lower\", \"Positions\".x AS \"Positions_x\", \"Positions\".y AS \"Positions_y\" \n",
      "FROM \"Positions\" \n",
      "WHERE \"Positions\".id = ?\n",
      "2021-09-22 03:16:06,695 INFO sqlalchemy.engine.Engine [cached since 0.2271s ago] (38,)\n",
      "2021-09-22 03:16:06,696 INFO sqlalchemy.engine.Engine SELECT \"Positions\".id AS \"Positions_id\", \"Positions\".upper AS \"Positions_upper\", \"Positions\".middle AS \"Positions_middle\", \"Positions\".lower AS \"Positions_lower\", \"Positions\".x AS \"Positions_x\", \"Positions\".y AS \"Positions_y\" \n",
      "FROM \"Positions\" \n",
      "WHERE \"Positions\".id = ?\n",
      "2021-09-22 03:16:06,697 INFO sqlalchemy.engine.Engine [cached since 0.2266s ago] (39,)\n",
      "2021-09-22 03:16:06,698 INFO sqlalchemy.engine.Engine SELECT \"Positions\".id AS \"Positions_id\", \"Positions\".upper AS \"Positions_upper\", \"Positions\".middle AS \"Positions_middle\", \"Positions\".lower AS \"Positions_lower\", \"Positions\".x AS \"Positions_x\", \"Positions\".y AS \"Positions_y\" \n",
      "FROM \"Positions\" \n",
      "WHERE \"Positions\".id = ?\n"
     ]
    },
    {
     "name": "stdout",
     "output_type": "stream",
     "text": [
      "2021-09-22 03:16:06,698 INFO sqlalchemy.engine.Engine [cached since 0.2309s ago] (40,)\n",
      "2021-09-22 03:16:06,700 INFO sqlalchemy.engine.Engine SELECT \"Positions\".id AS \"Positions_id\", \"Positions\".upper AS \"Positions_upper\", \"Positions\".middle AS \"Positions_middle\", \"Positions\".lower AS \"Positions_lower\", \"Positions\".x AS \"Positions_x\", \"Positions\".y AS \"Positions_y\" \n",
      "FROM \"Positions\" \n",
      "WHERE \"Positions\".id = ?\n",
      "2021-09-22 03:16:06,701 INFO sqlalchemy.engine.Engine [cached since 0.2302s ago] (41,)\n",
      "2021-09-22 03:16:06,703 INFO sqlalchemy.engine.Engine SELECT \"Positions\".id AS \"Positions_id\", \"Positions\".upper AS \"Positions_upper\", \"Positions\".middle AS \"Positions_middle\", \"Positions\".lower AS \"Positions_lower\", \"Positions\".x AS \"Positions_x\", \"Positions\".y AS \"Positions_y\" \n",
      "FROM \"Positions\" \n",
      "WHERE \"Positions\".id = ?\n",
      "2021-09-22 03:16:06,704 INFO sqlalchemy.engine.Engine [cached since 0.2366s ago] (42,)\n",
      "2021-09-22 03:16:06,706 INFO sqlalchemy.engine.Engine SELECT \"Positions\".id AS \"Positions_id\", \"Positions\".upper AS \"Positions_upper\", \"Positions\".middle AS \"Positions_middle\", \"Positions\".lower AS \"Positions_lower\", \"Positions\".x AS \"Positions_x\", \"Positions\".y AS \"Positions_y\" \n",
      "FROM \"Positions\" \n",
      "WHERE \"Positions\".id = ?\n",
      "2021-09-22 03:16:06,706 INFO sqlalchemy.engine.Engine [cached since 0.2362s ago] (43,)\n",
      "2021-09-22 03:16:06,708 INFO sqlalchemy.engine.Engine SELECT \"Positions\".id AS \"Positions_id\", \"Positions\".upper AS \"Positions_upper\", \"Positions\".middle AS \"Positions_middle\", \"Positions\".lower AS \"Positions_lower\", \"Positions\".x AS \"Positions_x\", \"Positions\".y AS \"Positions_y\" \n",
      "FROM \"Positions\" \n",
      "WHERE \"Positions\".id = ?\n",
      "2021-09-22 03:16:06,710 INFO sqlalchemy.engine.Engine [cached since 0.242s ago] (44,)\n",
      "2021-09-22 03:16:06,711 INFO sqlalchemy.engine.Engine SELECT \"Positions\".id AS \"Positions_id\", \"Positions\".upper AS \"Positions_upper\", \"Positions\".middle AS \"Positions_middle\", \"Positions\".lower AS \"Positions_lower\", \"Positions\".x AS \"Positions_x\", \"Positions\".y AS \"Positions_y\" \n",
      "FROM \"Positions\" \n",
      "WHERE \"Positions\".id = ?\n",
      "2021-09-22 03:16:06,712 INFO sqlalchemy.engine.Engine [cached since 0.2417s ago] (45,)\n",
      "Borehole geometry created successfully !\n",
      "2021-09-22 03:16:06,725 INFO sqlalchemy.engine.Engine UPDATE \"Boreholes\" SET length=? WHERE \"Boreholes\".id = ?\n",
      "2021-09-22 03:16:06,726 INFO sqlalchemy.engine.Engine [cached since 0.2441s ago] (101.45428799999999, '214')\n",
      "2021-09-22 03:16:06,728 INFO sqlalchemy.engine.Engine INSERT INTO \"Boreholes\" (id, date, length, diameter) VALUES (?, ?, ?, ?)\n",
      "2021-09-22 03:16:06,728 INFO sqlalchemy.engine.Engine [cached since 0.2829s ago] ('217', None, 1.5000000000000004, 0.075)\n",
      "2021-09-22 03:16:06,729 INFO sqlalchemy.engine.Engine INSERT INTO \"Positions\" (id, upper, middle, lower, x, y) VALUES (?, ?, ?, ?, ?, ?)\n",
      "2021-09-22 03:16:06,729 INFO sqlalchemy.engine.Engine [cached since 0.2795s ago] ((46, 101.815009, 101.815009, 101.815009, 152886.184941, 122587.152205), (47, 101.315009, 101.315009, 101.315009, 152886.184941, 122587.152205), (48, 101.315009, 101.315009, 101.315009, 152886.184941, 122587.152205), (49, 100.915009, 100.915009, 100.915009, 152886.184941, 122587.152205), (50, 100.915009, 100.915009, 100.915009, 152886.184941, 122587.152205), (51, 100.71500900000001, 100.71500900000001, 100.71500900000001, 152886.184941, 122587.152205), (52, 100.71500900000001, 100.71500900000001, 100.71500900000001, 152886.184941, 122587.152205), (53, 100.315009, 100.315009, 100.315009, 152886.184941, 122587.152205))\n",
      "2021-09-22 03:16:06,730 INFO sqlalchemy.engine.Engine INSERT INTO \"Intervals\" (id, borehole, interval_number, description, top_id, base_id, data_id) VALUES (?, ?, ?, ?, ?, ?, ?)\n",
      "2021-09-22 03:16:06,731 INFO sqlalchemy.engine.Engine [cached since 0.2784s ago] ((23, '217', 0, '{\"lithology\": \"remblais\"}', 46, 47, None), (24, '217', 1, '{\"lithology\": \"remblais\"}', 48, 49, None), (25, '217', 2, '{\"lithology\": \"remblais\"}', 50, 51, None), (26, '217', 3, '{\"lithology\": \"remblais\"}', 52, 53, None))\n",
      "2021-09-22 03:16:06,732 INFO sqlalchemy.engine.Engine COMMIT\n",
      "2021-09-22 03:16:06,735 INFO sqlalchemy.engine.Engine BEGIN (implicit)\n",
      "2021-09-22 03:16:06,737 INFO sqlalchemy.engine.Engine SELECT \"Boreholes\".id AS \"Boreholes_id\", \"Boreholes\".date AS \"Boreholes_date\", \"Boreholes\".length AS \"Boreholes_length\", \"Boreholes\".diameter AS \"Boreholes_diameter\" \n",
      "FROM \"Boreholes\"\n",
      "2021-09-22 03:16:06,738 INFO sqlalchemy.engine.Engine [cached since 0.3164s ago] ()\n",
      "2021-09-22 03:16:06,740 INFO sqlalchemy.engine.Engine SELECT \"Intervals\".id AS \"Intervals_id\", \"Intervals\".borehole AS \"Intervals_borehole\", \"Intervals\".interval_number AS \"Intervals_interval_number\", \"Intervals\".description AS \"Intervals_description\", \"Intervals\".top_id AS \"Intervals_top_id\", \"Intervals\".base_id AS \"Intervals_base_id\", \"Intervals\".data_id AS \"Intervals_data_id\" \n",
      "FROM \"Intervals\" \n",
      "WHERE ? = \"Intervals\".borehole\n",
      "2021-09-22 03:16:06,741 INFO sqlalchemy.engine.Engine [cached since 0.2777s ago] ('217',)\n",
      "2021-09-22 03:16:06,744 INFO sqlalchemy.engine.Engine SELECT \"Positions\".id AS \"Positions_id\", \"Positions\".upper AS \"Positions_upper\", \"Positions\".middle AS \"Positions_middle\", \"Positions\".lower AS \"Positions_lower\", \"Positions\".x AS \"Positions_x\", \"Positions\".y AS \"Positions_y\" \n",
      "FROM \"Positions\" \n",
      "WHERE \"Positions\".id = ?\n",
      "2021-09-22 03:16:06,745 INFO sqlalchemy.engine.Engine [cached since 0.277s ago] (46,)\n",
      "2021-09-22 03:16:06,747 INFO sqlalchemy.engine.Engine SELECT \"Positions\".id AS \"Positions_id\", \"Positions\".upper AS \"Positions_upper\", \"Positions\".middle AS \"Positions_middle\", \"Positions\".lower AS \"Positions_lower\", \"Positions\".x AS \"Positions_x\", \"Positions\".y AS \"Positions_y\" \n",
      "FROM \"Positions\" \n",
      "WHERE \"Positions\".id = ?\n",
      "2021-09-22 03:16:06,748 INFO sqlalchemy.engine.Engine [cached since 0.2773s ago] (47,)\n",
      "2021-09-22 03:16:06,750 INFO sqlalchemy.engine.Engine SELECT \"Positions\".id AS \"Positions_id\", \"Positions\".upper AS \"Positions_upper\", \"Positions\".middle AS \"Positions_middle\", \"Positions\".lower AS \"Positions_lower\", \"Positions\".x AS \"Positions_x\", \"Positions\".y AS \"Positions_y\" \n",
      "FROM \"Positions\" \n",
      "WHERE \"Positions\".id = ?\n",
      "2021-09-22 03:16:06,751 INFO sqlalchemy.engine.Engine [cached since 0.2833s ago] (48,)\n",
      "2021-09-22 03:16:06,754 INFO sqlalchemy.engine.Engine SELECT \"Positions\".id AS \"Positions_id\", \"Positions\".upper AS \"Positions_upper\", \"Positions\".middle AS \"Positions_middle\", \"Positions\".lower AS \"Positions_lower\", \"Positions\".x AS \"Positions_x\", \"Positions\".y AS \"Positions_y\" \n",
      "FROM \"Positions\" \n",
      "WHERE \"Positions\".id = ?\n",
      "2021-09-22 03:16:06,755 INFO sqlalchemy.engine.Engine [cached since 0.2842s ago] (49,)\n",
      "2021-09-22 03:16:06,757 INFO sqlalchemy.engine.Engine SELECT \"Positions\".id AS \"Positions_id\", \"Positions\".upper AS \"Positions_upper\", \"Positions\".middle AS \"Positions_middle\", \"Positions\".lower AS \"Positions_lower\", \"Positions\".x AS \"Positions_x\", \"Positions\".y AS \"Positions_y\" \n",
      "FROM \"Positions\" \n",
      "WHERE \"Positions\".id = ?\n",
      "2021-09-22 03:16:06,758 INFO sqlalchemy.engine.Engine [cached since 0.29s ago] (50,)\n",
      "2021-09-22 03:16:06,759 INFO sqlalchemy.engine.Engine SELECT \"Positions\".id AS \"Positions_id\", \"Positions\".upper AS \"Positions_upper\", \"Positions\".middle AS \"Positions_middle\", \"Positions\".lower AS \"Positions_lower\", \"Positions\".x AS \"Positions_x\", \"Positions\".y AS \"Positions_y\" \n",
      "FROM \"Positions\" \n",
      "WHERE \"Positions\".id = ?\n",
      "2021-09-22 03:16:06,760 INFO sqlalchemy.engine.Engine [cached since 0.2899s ago] (51,)\n",
      "2021-09-22 03:16:06,762 INFO sqlalchemy.engine.Engine SELECT \"Positions\".id AS \"Positions_id\", \"Positions\".upper AS \"Positions_upper\", \"Positions\".middle AS \"Positions_middle\", \"Positions\".lower AS \"Positions_lower\", \"Positions\".x AS \"Positions_x\", \"Positions\".y AS \"Positions_y\" \n",
      "FROM \"Positions\" \n",
      "WHERE \"Positions\".id = ?\n",
      "2021-09-22 03:16:06,763 INFO sqlalchemy.engine.Engine [cached since 0.2953s ago] (52,)\n",
      "2021-09-22 03:16:06,765 INFO sqlalchemy.engine.Engine SELECT \"Positions\".id AS \"Positions_id\", \"Positions\".upper AS \"Positions_upper\", \"Positions\".middle AS \"Positions_middle\", \"Positions\".lower AS \"Positions_lower\", \"Positions\".x AS \"Positions_x\", \"Positions\".y AS \"Positions_y\" \n",
      "FROM \"Positions\" \n",
      "WHERE \"Positions\".id = ?\n",
      "2021-09-22 03:16:06,766 INFO sqlalchemy.engine.Engine [cached since 0.2952s ago] (53,)\n"
     ]
    },
    {
     "name": "stdout",
     "output_type": "stream",
     "text": [
      "Borehole geometry created successfully !\n",
      "2021-09-22 03:16:06,775 INFO sqlalchemy.engine.Engine UPDATE \"Boreholes\" SET length=? WHERE \"Boreholes\".id = ?\n",
      "2021-09-22 03:16:06,776 INFO sqlalchemy.engine.Engine [cached since 0.2932s ago] (101.315009, '217')\n",
      "2021-09-22 03:16:06,776 INFO sqlalchemy.engine.Engine INSERT INTO \"Boreholes\" (id, date, length, diameter) VALUES (?, ?, ?, ?)\n",
      "2021-09-22 03:16:06,776 INFO sqlalchemy.engine.Engine [cached since 0.3313s ago] ('221', None, 0.4, 0.075)\n",
      "2021-09-22 03:16:06,777 INFO sqlalchemy.engine.Engine INSERT INTO \"Positions\" (id, upper, middle, lower, x, y) VALUES (?, ?, ?, ?, ?, ?)\n",
      "2021-09-22 03:16:06,777 INFO sqlalchemy.engine.Engine [cached since 0.3273s ago] ((54, 101.798666, 101.798666, 101.798666, 152882.412821, 122584.570092), (55, 101.39866599999999, 101.39866599999999, 101.39866599999999, 152882.412821, 122584.570092))\n",
      "2021-09-22 03:16:06,778 INFO sqlalchemy.engine.Engine INSERT INTO \"Intervals\" (id, borehole, interval_number, description, top_id, base_id, data_id) VALUES (?, ?, ?, ?, ?, ?, ?)\n",
      "2021-09-22 03:16:06,778 INFO sqlalchemy.engine.Engine [generated in 0.00029s] (27, '221', 0, '{}', 54, 55, None)\n",
      "2021-09-22 03:16:06,779 INFO sqlalchemy.engine.Engine COMMIT\n",
      "2021-09-22 03:16:06,782 INFO sqlalchemy.engine.Engine BEGIN (implicit)\n",
      "2021-09-22 03:16:06,783 INFO sqlalchemy.engine.Engine SELECT \"Boreholes\".id AS \"Boreholes_id\", \"Boreholes\".date AS \"Boreholes_date\", \"Boreholes\".length AS \"Boreholes_length\", \"Boreholes\".diameter AS \"Boreholes_diameter\" \n",
      "FROM \"Boreholes\"\n",
      "2021-09-22 03:16:06,783 INFO sqlalchemy.engine.Engine [cached since 0.3614s ago] ()\n",
      "2021-09-22 03:16:06,785 INFO sqlalchemy.engine.Engine SELECT \"Intervals\".id AS \"Intervals_id\", \"Intervals\".borehole AS \"Intervals_borehole\", \"Intervals\".interval_number AS \"Intervals_interval_number\", \"Intervals\".description AS \"Intervals_description\", \"Intervals\".top_id AS \"Intervals_top_id\", \"Intervals\".base_id AS \"Intervals_base_id\", \"Intervals\".data_id AS \"Intervals_data_id\" \n",
      "FROM \"Intervals\" \n",
      "WHERE ? = \"Intervals\".borehole\n",
      "2021-09-22 03:16:06,786 INFO sqlalchemy.engine.Engine [cached since 0.3225s ago] ('221',)\n",
      "2021-09-22 03:16:06,787 INFO sqlalchemy.engine.Engine SELECT \"Positions\".id AS \"Positions_id\", \"Positions\".upper AS \"Positions_upper\", \"Positions\".middle AS \"Positions_middle\", \"Positions\".lower AS \"Positions_lower\", \"Positions\".x AS \"Positions_x\", \"Positions\".y AS \"Positions_y\" \n",
      "FROM \"Positions\" \n",
      "WHERE \"Positions\".id = ?\n",
      "2021-09-22 03:16:06,788 INFO sqlalchemy.engine.Engine [cached since 0.3205s ago] (54,)\n",
      "2021-09-22 03:16:06,789 INFO sqlalchemy.engine.Engine SELECT \"Positions\".id AS \"Positions_id\", \"Positions\".upper AS \"Positions_upper\", \"Positions\".middle AS \"Positions_middle\", \"Positions\".lower AS \"Positions_lower\", \"Positions\".x AS \"Positions_x\", \"Positions\".y AS \"Positions_y\" \n",
      "FROM \"Positions\" \n",
      "WHERE \"Positions\".id = ?\n",
      "2021-09-22 03:16:06,790 INFO sqlalchemy.engine.Engine [cached since 0.3197s ago] (55,)\n",
      "Borehole geometry created successfully !\n",
      "2021-09-22 03:16:06,801 INFO sqlalchemy.engine.Engine UPDATE \"Boreholes\" SET length=? WHERE \"Boreholes\".id = ?\n",
      "2021-09-22 03:16:06,803 INFO sqlalchemy.engine.Engine [cached since 0.3202s ago] (101.39866599999999, '221')\n",
      "2021-09-22 03:16:06,804 INFO sqlalchemy.engine.Engine INSERT INTO \"Boreholes\" (id, date, length, diameter) VALUES (?, ?, ?, ?)\n",
      "2021-09-22 03:16:06,804 INFO sqlalchemy.engine.Engine [cached since 0.3589s ago] ('223', None, 0.8, 0.075)\n",
      "2021-09-22 03:16:06,805 INFO sqlalchemy.engine.Engine INSERT INTO \"Positions\" (id, upper, middle, lower, x, y) VALUES (?, ?, ?, ?, ?, ?)\n",
      "2021-09-22 03:16:06,806 INFO sqlalchemy.engine.Engine [cached since 0.3558s ago] ((56, 101.778308, 101.778308, 101.778308, 152880.503593, 122583.142499), (57, 101.278308, 101.278308, 101.278308, 152880.503593, 122583.142499), (58, 101.278308, 101.278308, 101.278308, 152880.503593, 122583.142499), (59, 100.978308, 100.978308, 100.978308, 152880.503593, 122583.142499))\n",
      "2021-09-22 03:16:06,807 INFO sqlalchemy.engine.Engine INSERT INTO \"Intervals\" (id, borehole, interval_number, description, top_id, base_id, data_id) VALUES (?, ?, ?, ?, ?, ?, ?)\n",
      "2021-09-22 03:16:06,807 INFO sqlalchemy.engine.Engine [cached since 0.3552s ago] ((28, '223', 0, '{\"lithology\": \"remblais\"}', 56, 57, None), (29, '223', 1, '{\"lithology\": \"remblais\"}', 58, 59, None))\n",
      "2021-09-22 03:16:06,809 INFO sqlalchemy.engine.Engine COMMIT\n",
      "2021-09-22 03:16:06,813 INFO sqlalchemy.engine.Engine BEGIN (implicit)\n",
      "2021-09-22 03:16:06,814 INFO sqlalchemy.engine.Engine SELECT \"Boreholes\".id AS \"Boreholes_id\", \"Boreholes\".date AS \"Boreholes_date\", \"Boreholes\".length AS \"Boreholes_length\", \"Boreholes\".diameter AS \"Boreholes_diameter\" \n",
      "FROM \"Boreholes\"\n",
      "2021-09-22 03:16:06,815 INFO sqlalchemy.engine.Engine [cached since 0.3933s ago] ()\n",
      "2021-09-22 03:16:06,817 INFO sqlalchemy.engine.Engine SELECT \"Intervals\".id AS \"Intervals_id\", \"Intervals\".borehole AS \"Intervals_borehole\", \"Intervals\".interval_number AS \"Intervals_interval_number\", \"Intervals\".description AS \"Intervals_description\", \"Intervals\".top_id AS \"Intervals_top_id\", \"Intervals\".base_id AS \"Intervals_base_id\", \"Intervals\".data_id AS \"Intervals_data_id\" \n",
      "FROM \"Intervals\" \n",
      "WHERE ? = \"Intervals\".borehole\n",
      "2021-09-22 03:16:06,818 INFO sqlalchemy.engine.Engine [cached since 0.3545s ago] ('223',)\n",
      "2021-09-22 03:16:06,821 INFO sqlalchemy.engine.Engine SELECT \"Positions\".id AS \"Positions_id\", \"Positions\".upper AS \"Positions_upper\", \"Positions\".middle AS \"Positions_middle\", \"Positions\".lower AS \"Positions_lower\", \"Positions\".x AS \"Positions_x\", \"Positions\".y AS \"Positions_y\" \n",
      "FROM \"Positions\" \n",
      "WHERE \"Positions\".id = ?\n",
      "2021-09-22 03:16:06,821 INFO sqlalchemy.engine.Engine [cached since 0.3538s ago] (56,)\n",
      "2021-09-22 03:16:06,823 INFO sqlalchemy.engine.Engine SELECT \"Positions\".id AS \"Positions_id\", \"Positions\".upper AS \"Positions_upper\", \"Positions\".middle AS \"Positions_middle\", \"Positions\".lower AS \"Positions_lower\", \"Positions\".x AS \"Positions_x\", \"Positions\".y AS \"Positions_y\" \n",
      "FROM \"Positions\" \n",
      "WHERE \"Positions\".id = ?\n",
      "2021-09-22 03:16:06,824 INFO sqlalchemy.engine.Engine [cached since 0.3535s ago] (57,)\n",
      "2021-09-22 03:16:06,826 INFO sqlalchemy.engine.Engine SELECT \"Positions\".id AS \"Positions_id\", \"Positions\".upper AS \"Positions_upper\", \"Positions\".middle AS \"Positions_middle\", \"Positions\".lower AS \"Positions_lower\", \"Positions\".x AS \"Positions_x\", \"Positions\".y AS \"Positions_y\" \n",
      "FROM \"Positions\" \n",
      "WHERE \"Positions\".id = ?\n",
      "2021-09-22 03:16:06,826 INFO sqlalchemy.engine.Engine [cached since 0.359s ago] (58,)\n",
      "2021-09-22 03:16:06,828 INFO sqlalchemy.engine.Engine SELECT \"Positions\".id AS \"Positions_id\", \"Positions\".upper AS \"Positions_upper\", \"Positions\".middle AS \"Positions_middle\", \"Positions\".lower AS \"Positions_lower\", \"Positions\".x AS \"Positions_x\", \"Positions\".y AS \"Positions_y\" \n",
      "FROM \"Positions\" \n",
      "WHERE \"Positions\".id = ?\n",
      "2021-09-22 03:16:06,829 INFO sqlalchemy.engine.Engine [cached since 0.3583s ago] (59,)\n",
      "Borehole geometry created successfully !\n",
      "2021-09-22 03:16:06,840 INFO sqlalchemy.engine.Engine UPDATE \"Boreholes\" SET length=? WHERE \"Boreholes\".id = ?\n",
      "2021-09-22 03:16:06,841 INFO sqlalchemy.engine.Engine [cached since 0.3588s ago] (101.278308, '223')\n",
      "2021-09-22 03:16:06,842 INFO sqlalchemy.engine.Engine INSERT INTO \"Boreholes\" (id, date, length, diameter) VALUES (?, ?, ?, ?)\n",
      "2021-09-22 03:16:06,843 INFO sqlalchemy.engine.Engine [cached since 0.3974s ago] ('?2', None, 0.3999999999999999, 0.075)\n",
      "2021-09-22 03:16:06,844 INFO sqlalchemy.engine.Engine INSERT INTO \"Positions\" (id, upper, middle, lower, x, y) VALUES (?, ?, ?, ?, ?, ?)\n",
      "2021-09-22 03:16:06,844 INFO sqlalchemy.engine.Engine [cached since 0.3943s ago] ((60, 101.689276, 101.689276, 101.689276, 152883.04793200002, 122582.093707), (61, 101.289276, 101.289276, 101.289276, 152883.04793200002, 122582.093707))\n",
      "2021-09-22 03:16:06,845 INFO sqlalchemy.engine.Engine INSERT INTO \"Intervals\" (id, borehole, interval_number, description, top_id, base_id, data_id) VALUES (?, ?, ?, ?, ?, ?, ?)\n",
      "2021-09-22 03:16:06,845 INFO sqlalchemy.engine.Engine [cached since 0.06747s ago] (30, '?2', 0, '{\"lithology\": \"remblais\"}', 60, 61, None)\n",
      "2021-09-22 03:16:06,846 INFO sqlalchemy.engine.Engine COMMIT\n"
     ]
    },
    {
     "name": "stdout",
     "output_type": "stream",
     "text": [
      "2021-09-22 03:16:06,850 INFO sqlalchemy.engine.Engine BEGIN (implicit)\n",
      "2021-09-22 03:16:06,851 INFO sqlalchemy.engine.Engine SELECT \"Boreholes\".id AS \"Boreholes_id\", \"Boreholes\".date AS \"Boreholes_date\", \"Boreholes\".length AS \"Boreholes_length\", \"Boreholes\".diameter AS \"Boreholes_diameter\" \n",
      "FROM \"Boreholes\"\n",
      "2021-09-22 03:16:06,851 INFO sqlalchemy.engine.Engine [cached since 0.4299s ago] ()\n",
      "2021-09-22 03:16:06,854 INFO sqlalchemy.engine.Engine SELECT \"Intervals\".id AS \"Intervals_id\", \"Intervals\".borehole AS \"Intervals_borehole\", \"Intervals\".interval_number AS \"Intervals_interval_number\", \"Intervals\".description AS \"Intervals_description\", \"Intervals\".top_id AS \"Intervals_top_id\", \"Intervals\".base_id AS \"Intervals_base_id\", \"Intervals\".data_id AS \"Intervals_data_id\" \n",
      "FROM \"Intervals\" \n",
      "WHERE ? = \"Intervals\".borehole\n",
      "2021-09-22 03:16:06,855 INFO sqlalchemy.engine.Engine [cached since 0.391s ago] ('?2',)\n",
      "2021-09-22 03:16:06,857 INFO sqlalchemy.engine.Engine SELECT \"Positions\".id AS \"Positions_id\", \"Positions\".upper AS \"Positions_upper\", \"Positions\".middle AS \"Positions_middle\", \"Positions\".lower AS \"Positions_lower\", \"Positions\".x AS \"Positions_x\", \"Positions\".y AS \"Positions_y\" \n",
      "FROM \"Positions\" \n",
      "WHERE \"Positions\".id = ?\n",
      "2021-09-22 03:16:06,857 INFO sqlalchemy.engine.Engine [cached since 0.3896s ago] (60,)\n",
      "2021-09-22 03:16:06,860 INFO sqlalchemy.engine.Engine SELECT \"Positions\".id AS \"Positions_id\", \"Positions\".upper AS \"Positions_upper\", \"Positions\".middle AS \"Positions_middle\", \"Positions\".lower AS \"Positions_lower\", \"Positions\".x AS \"Positions_x\", \"Positions\".y AS \"Positions_y\" \n",
      "FROM \"Positions\" \n",
      "WHERE \"Positions\".id = ?\n",
      "2021-09-22 03:16:06,860 INFO sqlalchemy.engine.Engine [cached since 0.39s ago] (61,)\n",
      "Borehole geometry created successfully !\n",
      "2021-09-22 03:16:06,866 INFO sqlalchemy.engine.Engine UPDATE \"Boreholes\" SET length=? WHERE \"Boreholes\".id = ?\n",
      "2021-09-22 03:16:06,867 INFO sqlalchemy.engine.Engine [cached since 0.3847s ago] (101.289276, '?2')\n",
      "2021-09-22 03:16:06,868 INFO sqlalchemy.engine.Engine INSERT INTO \"Boreholes\" (id, date, length, diameter) VALUES (?, ?, ?, ?)\n",
      "2021-09-22 03:16:06,869 INFO sqlalchemy.engine.Engine [cached since 0.4234s ago] ('?1', None, 0.3999999999999999, 0.075)\n",
      "2021-09-22 03:16:06,870 INFO sqlalchemy.engine.Engine INSERT INTO \"Positions\" (id, upper, middle, lower, x, y) VALUES (?, ?, ?, ?, ?, ?)\n",
      "2021-09-22 03:16:06,870 INFO sqlalchemy.engine.Engine [cached since 0.4202s ago] ((62, 101.689276, 101.689276, 101.689276, 152883.04793200002, 122582.093707), (63, 101.289276, 101.289276, 101.289276, 152883.04793200002, 122582.093707))\n",
      "2021-09-22 03:16:06,871 INFO sqlalchemy.engine.Engine INSERT INTO \"Intervals\" (id, borehole, interval_number, description, top_id, base_id, data_id) VALUES (?, ?, ?, ?, ?, ?, ?)\n",
      "2021-09-22 03:16:06,872 INFO sqlalchemy.engine.Engine [cached since 0.09373s ago] (31, '?1', 0, '{\"lithology\": \"remblais\"}', 62, 63, None)\n",
      "2021-09-22 03:16:06,872 INFO sqlalchemy.engine.Engine COMMIT\n",
      "2021-09-22 03:16:06,875 INFO sqlalchemy.engine.Engine BEGIN (implicit)\n",
      "2021-09-22 03:16:06,876 INFO sqlalchemy.engine.Engine SELECT \"Boreholes\".id AS \"Boreholes_id\", \"Boreholes\".date AS \"Boreholes_date\", \"Boreholes\".length AS \"Boreholes_length\", \"Boreholes\".diameter AS \"Boreholes_diameter\" \n",
      "FROM \"Boreholes\"\n",
      "2021-09-22 03:16:06,876 INFO sqlalchemy.engine.Engine [cached since 0.4546s ago] ()\n",
      "2021-09-22 03:16:06,878 INFO sqlalchemy.engine.Engine SELECT \"Intervals\".id AS \"Intervals_id\", \"Intervals\".borehole AS \"Intervals_borehole\", \"Intervals\".interval_number AS \"Intervals_interval_number\", \"Intervals\".description AS \"Intervals_description\", \"Intervals\".top_id AS \"Intervals_top_id\", \"Intervals\".base_id AS \"Intervals_base_id\", \"Intervals\".data_id AS \"Intervals_data_id\" \n",
      "FROM \"Intervals\" \n",
      "WHERE ? = \"Intervals\".borehole\n",
      "2021-09-22 03:16:06,879 INFO sqlalchemy.engine.Engine [cached since 0.415s ago] ('?1',)\n",
      "2021-09-22 03:16:06,881 INFO sqlalchemy.engine.Engine SELECT \"Positions\".id AS \"Positions_id\", \"Positions\".upper AS \"Positions_upper\", \"Positions\".middle AS \"Positions_middle\", \"Positions\".lower AS \"Positions_lower\", \"Positions\".x AS \"Positions_x\", \"Positions\".y AS \"Positions_y\" \n",
      "FROM \"Positions\" \n",
      "WHERE \"Positions\".id = ?\n",
      "2021-09-22 03:16:06,881 INFO sqlalchemy.engine.Engine [cached since 0.4138s ago] (62,)\n",
      "2021-09-22 03:16:06,883 INFO sqlalchemy.engine.Engine SELECT \"Positions\".id AS \"Positions_id\", \"Positions\".upper AS \"Positions_upper\", \"Positions\".middle AS \"Positions_middle\", \"Positions\".lower AS \"Positions_lower\", \"Positions\".x AS \"Positions_x\", \"Positions\".y AS \"Positions_y\" \n",
      "FROM \"Positions\" \n",
      "WHERE \"Positions\".id = ?\n",
      "2021-09-22 03:16:06,884 INFO sqlalchemy.engine.Engine [cached since 0.4133s ago] (63,)\n",
      "Borehole geometry created successfully !\n",
      "2021-09-22 03:16:06,893 INFO sqlalchemy.engine.Engine UPDATE \"Boreholes\" SET length=? WHERE \"Boreholes\".id = ?\n",
      "2021-09-22 03:16:06,894 INFO sqlalchemy.engine.Engine [cached since 0.4117s ago] (101.289276, '?1')\n",
      "2021-09-22 03:16:06,895 INFO sqlalchemy.engine.Engine INSERT INTO \"Boreholes\" (id, date, length, diameter) VALUES (?, ?, ?, ?)\n",
      "2021-09-22 03:16:06,896 INFO sqlalchemy.engine.Engine [cached since 0.4506s ago] ('224', None, 0.5, 0.075)\n",
      "2021-09-22 03:16:06,897 INFO sqlalchemy.engine.Engine INSERT INTO \"Positions\" (id, upper, middle, lower, x, y) VALUES (?, ?, ?, ?, ?, ?)\n",
      "2021-09-22 03:16:06,898 INFO sqlalchemy.engine.Engine [cached since 0.4481s ago] ((64, 101.669021, 101.669021, 101.669021, 152881.112067, 122580.961648), (65, 101.169021, 101.169021, 101.169021, 152881.112067, 122580.961648))\n",
      "2021-09-22 03:16:06,900 INFO sqlalchemy.engine.Engine INSERT INTO \"Intervals\" (id, borehole, interval_number, description, top_id, base_id, data_id) VALUES (?, ?, ?, ?, ?, ?, ?)\n",
      "2021-09-22 03:16:06,900 INFO sqlalchemy.engine.Engine [cached since 0.1225s ago] (32, '224', 0, '{\"lithology\": \"remblais\"}', 64, 65, None)\n",
      "2021-09-22 03:16:06,901 INFO sqlalchemy.engine.Engine COMMIT\n",
      "2021-09-22 03:16:06,905 INFO sqlalchemy.engine.Engine BEGIN (implicit)\n",
      "2021-09-22 03:16:06,906 INFO sqlalchemy.engine.Engine SELECT \"Boreholes\".id AS \"Boreholes_id\", \"Boreholes\".date AS \"Boreholes_date\", \"Boreholes\".length AS \"Boreholes_length\", \"Boreholes\".diameter AS \"Boreholes_diameter\" \n",
      "FROM \"Boreholes\"\n",
      "2021-09-22 03:16:06,907 INFO sqlalchemy.engine.Engine [cached since 0.4854s ago] ()\n",
      "2021-09-22 03:16:06,909 INFO sqlalchemy.engine.Engine SELECT \"Intervals\".id AS \"Intervals_id\", \"Intervals\".borehole AS \"Intervals_borehole\", \"Intervals\".interval_number AS \"Intervals_interval_number\", \"Intervals\".description AS \"Intervals_description\", \"Intervals\".top_id AS \"Intervals_top_id\", \"Intervals\".base_id AS \"Intervals_base_id\", \"Intervals\".data_id AS \"Intervals_data_id\" \n",
      "FROM \"Intervals\" \n",
      "WHERE ? = \"Intervals\".borehole\n",
      "2021-09-22 03:16:06,910 INFO sqlalchemy.engine.Engine [cached since 0.4465s ago] ('224',)\n",
      "2021-09-22 03:16:06,912 INFO sqlalchemy.engine.Engine SELECT \"Positions\".id AS \"Positions_id\", \"Positions\".upper AS \"Positions_upper\", \"Positions\".middle AS \"Positions_middle\", \"Positions\".lower AS \"Positions_lower\", \"Positions\".x AS \"Positions_x\", \"Positions\".y AS \"Positions_y\" \n",
      "FROM \"Positions\" \n",
      "WHERE \"Positions\".id = ?\n",
      "2021-09-22 03:16:06,913 INFO sqlalchemy.engine.Engine [cached since 0.4451s ago] (64,)\n",
      "2021-09-22 03:16:06,914 INFO sqlalchemy.engine.Engine SELECT \"Positions\".id AS \"Positions_id\", \"Positions\".upper AS \"Positions_upper\", \"Positions\".middle AS \"Positions_middle\", \"Positions\".lower AS \"Positions_lower\", \"Positions\".x AS \"Positions_x\", \"Positions\".y AS \"Positions_y\" \n",
      "FROM \"Positions\" \n",
      "WHERE \"Positions\".id = ?\n",
      "2021-09-22 03:16:06,915 INFO sqlalchemy.engine.Engine [cached since 0.4446s ago] (65,)\n",
      "Borehole geometry created successfully !\n",
      "2021-09-22 03:16:06,926 INFO sqlalchemy.engine.Engine UPDATE \"Boreholes\" SET length=? WHERE \"Boreholes\".id = ?\n",
      "2021-09-22 03:16:06,927 INFO sqlalchemy.engine.Engine [cached since 0.4448s ago] (101.169021, '224')\n",
      "2021-09-22 03:16:06,929 INFO sqlalchemy.engine.Engine INSERT INTO \"Boreholes\" (id, date, length, diameter) VALUES (?, ?, ?, ?)\n",
      "2021-09-22 03:16:06,929 INFO sqlalchemy.engine.Engine [cached since 0.4838s ago] ('225', None, 2.6999999999999993, 0.075)\n",
      "2021-09-22 03:16:06,930 INFO sqlalchemy.engine.Engine INSERT INTO \"Positions\" (id, upper, middle, lower, x, y) VALUES (?, ?, ?, ?, ?, ?)\n"
     ]
    },
    {
     "name": "stdout",
     "output_type": "stream",
     "text": [
      "2021-09-22 03:16:06,931 INFO sqlalchemy.engine.Engine [cached since 0.4808s ago] ((66, 101.669021, 101.669021, 101.669021, 152881.112067, 122580.961648), (67, 101.269021, 101.269021, 101.269021, 152881.112067, 122580.961648), (68, 101.269021, 101.269021, 101.269021, 152881.112067, 122580.961648), (69, 100.769021, 100.769021, 100.769021, 152881.112067, 122580.961648), (70, 100.769021, 100.769021, 100.769021, 152881.112067, 122580.961648), (71, 100.369021, 100.369021, 100.369021, 152881.112067, 122580.961648), (72, 100.369021, 100.369021, 100.369021, 152881.112067, 122580.961648), (73, 99.969021, 99.969021, 99.969021, 152881.112067, 122580.961648)  ... displaying 10 of 12 total bound parameter sets ...  (76, 99.469021, 99.469021, 99.469021, 152881.112067, 122580.961648), (77, 98.969021, 98.969021, 98.969021, 152881.112067, 122580.961648))\n",
      "2021-09-22 03:16:06,932 INFO sqlalchemy.engine.Engine INSERT INTO \"Intervals\" (id, borehole, interval_number, description, top_id, base_id, data_id) VALUES (?, ?, ?, ?, ?, ?, ?)\n",
      "2021-09-22 03:16:06,932 INFO sqlalchemy.engine.Engine [cached since 0.4801s ago] ((33, '225', 0, '{\"lithology\": \"schistes\"}', 66, 67, None), (34, '225', 1, '{\"lithology\": \"schistes\"}', 68, 69, None), (35, '225', 2, '{\"lithology\": \"schistes\"}', 70, 71, None), (36, '225', 3, '{\"lithology\": \"schistes\"}', 72, 73, None), (37, '225', 4, '{\"lithology\": \"schistes\"}', 74, 75, None), (38, '225', 5, '{\"lithology\": \"remblais\"}', 76, 77, None))\n",
      "2021-09-22 03:16:06,933 INFO sqlalchemy.engine.Engine COMMIT\n",
      "2021-09-22 03:16:06,937 INFO sqlalchemy.engine.Engine BEGIN (implicit)\n",
      "2021-09-22 03:16:06,938 INFO sqlalchemy.engine.Engine SELECT \"Boreholes\".id AS \"Boreholes_id\", \"Boreholes\".date AS \"Boreholes_date\", \"Boreholes\".length AS \"Boreholes_length\", \"Boreholes\".diameter AS \"Boreholes_diameter\" \n",
      "FROM \"Boreholes\"\n",
      "2021-09-22 03:16:06,939 INFO sqlalchemy.engine.Engine [cached since 0.5177s ago] ()\n",
      "2021-09-22 03:16:06,941 INFO sqlalchemy.engine.Engine SELECT \"Intervals\".id AS \"Intervals_id\", \"Intervals\".borehole AS \"Intervals_borehole\", \"Intervals\".interval_number AS \"Intervals_interval_number\", \"Intervals\".description AS \"Intervals_description\", \"Intervals\".top_id AS \"Intervals_top_id\", \"Intervals\".base_id AS \"Intervals_base_id\", \"Intervals\".data_id AS \"Intervals_data_id\" \n",
      "FROM \"Intervals\" \n",
      "WHERE ? = \"Intervals\".borehole\n",
      "2021-09-22 03:16:06,943 INFO sqlalchemy.engine.Engine [cached since 0.4797s ago] ('225',)\n",
      "2021-09-22 03:16:06,945 INFO sqlalchemy.engine.Engine SELECT \"Positions\".id AS \"Positions_id\", \"Positions\".upper AS \"Positions_upper\", \"Positions\".middle AS \"Positions_middle\", \"Positions\".lower AS \"Positions_lower\", \"Positions\".x AS \"Positions_x\", \"Positions\".y AS \"Positions_y\" \n",
      "FROM \"Positions\" \n",
      "WHERE \"Positions\".id = ?\n",
      "2021-09-22 03:16:06,946 INFO sqlalchemy.engine.Engine [cached since 0.4783s ago] (66,)\n",
      "2021-09-22 03:16:06,947 INFO sqlalchemy.engine.Engine SELECT \"Positions\".id AS \"Positions_id\", \"Positions\".upper AS \"Positions_upper\", \"Positions\".middle AS \"Positions_middle\", \"Positions\".lower AS \"Positions_lower\", \"Positions\".x AS \"Positions_x\", \"Positions\".y AS \"Positions_y\" \n",
      "FROM \"Positions\" \n",
      "WHERE \"Positions\".id = ?\n",
      "2021-09-22 03:16:06,948 INFO sqlalchemy.engine.Engine [cached since 0.4776s ago] (67,)\n",
      "2021-09-22 03:16:06,949 INFO sqlalchemy.engine.Engine SELECT \"Positions\".id AS \"Positions_id\", \"Positions\".upper AS \"Positions_upper\", \"Positions\".middle AS \"Positions_middle\", \"Positions\".lower AS \"Positions_lower\", \"Positions\".x AS \"Positions_x\", \"Positions\".y AS \"Positions_y\" \n",
      "FROM \"Positions\" \n",
      "WHERE \"Positions\".id = ?\n",
      "2021-09-22 03:16:06,950 INFO sqlalchemy.engine.Engine [cached since 0.4824s ago] (68,)\n",
      "2021-09-22 03:16:06,952 INFO sqlalchemy.engine.Engine SELECT \"Positions\".id AS \"Positions_id\", \"Positions\".upper AS \"Positions_upper\", \"Positions\".middle AS \"Positions_middle\", \"Positions\".lower AS \"Positions_lower\", \"Positions\".x AS \"Positions_x\", \"Positions\".y AS \"Positions_y\" \n",
      "FROM \"Positions\" \n",
      "WHERE \"Positions\".id = ?\n",
      "2021-09-22 03:16:06,953 INFO sqlalchemy.engine.Engine [cached since 0.4826s ago] (69,)\n",
      "2021-09-22 03:16:06,955 INFO sqlalchemy.engine.Engine SELECT \"Positions\".id AS \"Positions_id\", \"Positions\".upper AS \"Positions_upper\", \"Positions\".middle AS \"Positions_middle\", \"Positions\".lower AS \"Positions_lower\", \"Positions\".x AS \"Positions_x\", \"Positions\".y AS \"Positions_y\" \n",
      "FROM \"Positions\" \n",
      "WHERE \"Positions\".id = ?\n",
      "2021-09-22 03:16:06,956 INFO sqlalchemy.engine.Engine [cached since 0.4885s ago] (70,)\n",
      "2021-09-22 03:16:06,958 INFO sqlalchemy.engine.Engine SELECT \"Positions\".id AS \"Positions_id\", \"Positions\".upper AS \"Positions_upper\", \"Positions\".middle AS \"Positions_middle\", \"Positions\".lower AS \"Positions_lower\", \"Positions\".x AS \"Positions_x\", \"Positions\".y AS \"Positions_y\" \n",
      "FROM \"Positions\" \n",
      "WHERE \"Positions\".id = ?\n",
      "2021-09-22 03:16:06,959 INFO sqlalchemy.engine.Engine [cached since 0.4886s ago] (71,)\n",
      "2021-09-22 03:16:06,961 INFO sqlalchemy.engine.Engine SELECT \"Positions\".id AS \"Positions_id\", \"Positions\".upper AS \"Positions_upper\", \"Positions\".middle AS \"Positions_middle\", \"Positions\".lower AS \"Positions_lower\", \"Positions\".x AS \"Positions_x\", \"Positions\".y AS \"Positions_y\" \n",
      "FROM \"Positions\" \n",
      "WHERE \"Positions\".id = ?\n",
      "2021-09-22 03:16:06,962 INFO sqlalchemy.engine.Engine [cached since 0.4942s ago] (72,)\n",
      "2021-09-22 03:16:06,964 INFO sqlalchemy.engine.Engine SELECT \"Positions\".id AS \"Positions_id\", \"Positions\".upper AS \"Positions_upper\", \"Positions\".middle AS \"Positions_middle\", \"Positions\".lower AS \"Positions_lower\", \"Positions\".x AS \"Positions_x\", \"Positions\".y AS \"Positions_y\" \n",
      "FROM \"Positions\" \n",
      "WHERE \"Positions\".id = ?\n",
      "2021-09-22 03:16:06,964 INFO sqlalchemy.engine.Engine [cached since 0.4939s ago] (73,)\n",
      "2021-09-22 03:16:06,965 INFO sqlalchemy.engine.Engine SELECT \"Positions\".id AS \"Positions_id\", \"Positions\".upper AS \"Positions_upper\", \"Positions\".middle AS \"Positions_middle\", \"Positions\".lower AS \"Positions_lower\", \"Positions\".x AS \"Positions_x\", \"Positions\".y AS \"Positions_y\" \n",
      "FROM \"Positions\" \n",
      "WHERE \"Positions\".id = ?\n",
      "2021-09-22 03:16:06,966 INFO sqlalchemy.engine.Engine [cached since 0.4984s ago] (74,)\n",
      "2021-09-22 03:16:06,967 INFO sqlalchemy.engine.Engine SELECT \"Positions\".id AS \"Positions_id\", \"Positions\".upper AS \"Positions_upper\", \"Positions\".middle AS \"Positions_middle\", \"Positions\".lower AS \"Positions_lower\", \"Positions\".x AS \"Positions_x\", \"Positions\".y AS \"Positions_y\" \n",
      "FROM \"Positions\" \n",
      "WHERE \"Positions\".id = ?\n",
      "2021-09-22 03:16:06,968 INFO sqlalchemy.engine.Engine [cached since 0.4972s ago] (75,)\n",
      "2021-09-22 03:16:06,969 INFO sqlalchemy.engine.Engine SELECT \"Positions\".id AS \"Positions_id\", \"Positions\".upper AS \"Positions_upper\", \"Positions\".middle AS \"Positions_middle\", \"Positions\".lower AS \"Positions_lower\", \"Positions\".x AS \"Positions_x\", \"Positions\".y AS \"Positions_y\" \n",
      "FROM \"Positions\" \n",
      "WHERE \"Positions\".id = ?\n",
      "2021-09-22 03:16:06,970 INFO sqlalchemy.engine.Engine [cached since 0.502s ago] (76,)\n",
      "2021-09-22 03:16:06,971 INFO sqlalchemy.engine.Engine SELECT \"Positions\".id AS \"Positions_id\", \"Positions\".upper AS \"Positions_upper\", \"Positions\".middle AS \"Positions_middle\", \"Positions\".lower AS \"Positions_lower\", \"Positions\".x AS \"Positions_x\", \"Positions\".y AS \"Positions_y\" \n",
      "FROM \"Positions\" \n",
      "WHERE \"Positions\".id = ?\n",
      "2021-09-22 03:16:06,972 INFO sqlalchemy.engine.Engine [cached since 0.5016s ago] (77,)\n",
      "Borehole geometry created successfully !\n",
      "2021-09-22 03:16:06,980 INFO sqlalchemy.engine.Engine UPDATE \"Boreholes\" SET length=? WHERE \"Boreholes\".id = ?\n",
      "2021-09-22 03:16:06,980 INFO sqlalchemy.engine.Engine [cached since 0.498s ago] (101.269021, '225')\n",
      "2021-09-22 03:16:06,982 INFO sqlalchemy.engine.Engine INSERT INTO \"Boreholes\" (id, date, length, diameter) VALUES (?, ?, ?, ?)\n",
      "2021-09-22 03:16:06,982 INFO sqlalchemy.engine.Engine [cached since 0.5369s ago] ('226', None, 1.6, 0.075)\n",
      "2021-09-22 03:16:06,983 INFO sqlalchemy.engine.Engine INSERT INTO \"Positions\" (id, upper, middle, lower, x, y) VALUES (?, ?, ?, ?, ?, ?)\n",
      "2021-09-22 03:16:06,984 INFO sqlalchemy.engine.Engine [cached since 0.5338s ago] ((78, 101.823793, 101.823793, 101.823793, 152882.734621, 122586.45168), (79, 101.42379299999999, 101.42379299999999, 101.42379299999999, 152882.734621, 122586.45168), (80, 101.42379299999999, 101.42379299999999, 101.42379299999999, 152882.734621, 122586.45168), (81, 101.12379299999999, 101.12379299999999, 101.12379299999999, 152882.734621, 122586.45168), (82, 101.12379299999999, 101.12379299999999, 101.12379299999999, 152882.734621, 122586.45168), (83, 100.723793, 100.723793, 100.723793, 152882.734621, 122586.45168), (84, 100.723793, 100.723793, 100.723793, 152882.734621, 122586.45168), (85, 100.223793, 100.223793, 100.223793, 152882.734621, 122586.45168))\n"
     ]
    },
    {
     "name": "stdout",
     "output_type": "stream",
     "text": [
      "2021-09-22 03:16:06,985 INFO sqlalchemy.engine.Engine INSERT INTO \"Intervals\" (id, borehole, interval_number, description, top_id, base_id, data_id) VALUES (?, ?, ?, ?, ?, ?, ?)\n",
      "2021-09-22 03:16:06,986 INFO sqlalchemy.engine.Engine [cached since 0.5335s ago] ((39, '226', 0, '{\"lithology\": \"remblais\"}', 78, 79, None), (40, '226', 1, '{\"lithology\": \"remblais\"}', 80, 81, None), (41, '226', 2, '{\"lithology\": \"remblais\"}', 82, 83, None), (42, '226', 3, '{\"lithology\": \"remblais\"}', 84, 85, None))\n",
      "2021-09-22 03:16:06,987 INFO sqlalchemy.engine.Engine COMMIT\n",
      "2021-09-22 03:16:06,992 INFO sqlalchemy.engine.Engine BEGIN (implicit)\n",
      "2021-09-22 03:16:06,993 INFO sqlalchemy.engine.Engine SELECT \"Boreholes\".id AS \"Boreholes_id\", \"Boreholes\".date AS \"Boreholes_date\", \"Boreholes\".length AS \"Boreholes_length\", \"Boreholes\".diameter AS \"Boreholes_diameter\" \n",
      "FROM \"Boreholes\"\n",
      "2021-09-22 03:16:06,994 INFO sqlalchemy.engine.Engine [cached since 0.572s ago] ()\n",
      "2021-09-22 03:16:06,996 INFO sqlalchemy.engine.Engine SELECT \"Intervals\".id AS \"Intervals_id\", \"Intervals\".borehole AS \"Intervals_borehole\", \"Intervals\".interval_number AS \"Intervals_interval_number\", \"Intervals\".description AS \"Intervals_description\", \"Intervals\".top_id AS \"Intervals_top_id\", \"Intervals\".base_id AS \"Intervals_base_id\", \"Intervals\".data_id AS \"Intervals_data_id\" \n",
      "FROM \"Intervals\" \n",
      "WHERE ? = \"Intervals\".borehole\n",
      "2021-09-22 03:16:06,996 INFO sqlalchemy.engine.Engine [cached since 0.5327s ago] ('226',)\n",
      "2021-09-22 03:16:06,998 INFO sqlalchemy.engine.Engine SELECT \"Positions\".id AS \"Positions_id\", \"Positions\".upper AS \"Positions_upper\", \"Positions\".middle AS \"Positions_middle\", \"Positions\".lower AS \"Positions_lower\", \"Positions\".x AS \"Positions_x\", \"Positions\".y AS \"Positions_y\" \n",
      "FROM \"Positions\" \n",
      "WHERE \"Positions\".id = ?\n",
      "2021-09-22 03:16:06,999 INFO sqlalchemy.engine.Engine [cached since 0.531s ago] (78,)\n",
      "2021-09-22 03:16:07,000 INFO sqlalchemy.engine.Engine SELECT \"Positions\".id AS \"Positions_id\", \"Positions\".upper AS \"Positions_upper\", \"Positions\".middle AS \"Positions_middle\", \"Positions\".lower AS \"Positions_lower\", \"Positions\".x AS \"Positions_x\", \"Positions\".y AS \"Positions_y\" \n",
      "FROM \"Positions\" \n",
      "WHERE \"Positions\".id = ?\n",
      "2021-09-22 03:16:07,001 INFO sqlalchemy.engine.Engine [cached since 0.5307s ago] (79,)\n",
      "2021-09-22 03:16:07,003 INFO sqlalchemy.engine.Engine SELECT \"Positions\".id AS \"Positions_id\", \"Positions\".upper AS \"Positions_upper\", \"Positions\".middle AS \"Positions_middle\", \"Positions\".lower AS \"Positions_lower\", \"Positions\".x AS \"Positions_x\", \"Positions\".y AS \"Positions_y\" \n",
      "FROM \"Positions\" \n",
      "WHERE \"Positions\".id = ?\n",
      "2021-09-22 03:16:07,004 INFO sqlalchemy.engine.Engine [cached since 0.5364s ago] (80,)\n",
      "2021-09-22 03:16:07,006 INFO sqlalchemy.engine.Engine SELECT \"Positions\".id AS \"Positions_id\", \"Positions\".upper AS \"Positions_upper\", \"Positions\".middle AS \"Positions_middle\", \"Positions\".lower AS \"Positions_lower\", \"Positions\".x AS \"Positions_x\", \"Positions\".y AS \"Positions_y\" \n",
      "FROM \"Positions\" \n",
      "WHERE \"Positions\".id = ?\n",
      "2021-09-22 03:16:07,006 INFO sqlalchemy.engine.Engine [cached since 0.536s ago] (81,)\n",
      "2021-09-22 03:16:07,008 INFO sqlalchemy.engine.Engine SELECT \"Positions\".id AS \"Positions_id\", \"Positions\".upper AS \"Positions_upper\", \"Positions\".middle AS \"Positions_middle\", \"Positions\".lower AS \"Positions_lower\", \"Positions\".x AS \"Positions_x\", \"Positions\".y AS \"Positions_y\" \n",
      "FROM \"Positions\" \n",
      "WHERE \"Positions\".id = ?\n",
      "2021-09-22 03:16:07,009 INFO sqlalchemy.engine.Engine [cached since 0.5411s ago] (82,)\n",
      "2021-09-22 03:16:07,010 INFO sqlalchemy.engine.Engine SELECT \"Positions\".id AS \"Positions_id\", \"Positions\".upper AS \"Positions_upper\", \"Positions\".middle AS \"Positions_middle\", \"Positions\".lower AS \"Positions_lower\", \"Positions\".x AS \"Positions_x\", \"Positions\".y AS \"Positions_y\" \n",
      "FROM \"Positions\" \n",
      "WHERE \"Positions\".id = ?\n",
      "2021-09-22 03:16:07,011 INFO sqlalchemy.engine.Engine [cached since 0.5404s ago] (83,)\n",
      "2021-09-22 03:16:07,013 INFO sqlalchemy.engine.Engine SELECT \"Positions\".id AS \"Positions_id\", \"Positions\".upper AS \"Positions_upper\", \"Positions\".middle AS \"Positions_middle\", \"Positions\".lower AS \"Positions_lower\", \"Positions\".x AS \"Positions_x\", \"Positions\".y AS \"Positions_y\" \n",
      "FROM \"Positions\" \n",
      "WHERE \"Positions\".id = ?\n",
      "2021-09-22 03:16:07,014 INFO sqlalchemy.engine.Engine [cached since 0.5462s ago] (84,)\n",
      "2021-09-22 03:16:07,016 INFO sqlalchemy.engine.Engine SELECT \"Positions\".id AS \"Positions_id\", \"Positions\".upper AS \"Positions_upper\", \"Positions\".middle AS \"Positions_middle\", \"Positions\".lower AS \"Positions_lower\", \"Positions\".x AS \"Positions_x\", \"Positions\".y AS \"Positions_y\" \n",
      "FROM \"Positions\" \n",
      "WHERE \"Positions\".id = ?\n",
      "2021-09-22 03:16:07,016 INFO sqlalchemy.engine.Engine [cached since 0.5459s ago] (85,)\n",
      "Borehole geometry created successfully !\n",
      "2021-09-22 03:16:07,026 INFO sqlalchemy.engine.Engine UPDATE \"Boreholes\" SET length=? WHERE \"Boreholes\".id = ?\n",
      "2021-09-22 03:16:07,027 INFO sqlalchemy.engine.Engine [cached since 0.5448s ago] (101.42379299999999, '226')\n",
      "2021-09-22 03:16:07,028 INFO sqlalchemy.engine.Engine INSERT INTO \"Boreholes\" (id, date, length, diameter) VALUES (?, ?, ?, ?)\n",
      "2021-09-22 03:16:07,028 INFO sqlalchemy.engine.Engine [cached since 0.5833s ago] ('50', None, 2.1, 0.075)\n",
      "2021-09-22 03:16:07,030 INFO sqlalchemy.engine.Engine INSERT INTO \"Positions\" (id, upper, middle, lower, x, y) VALUES (?, ?, ?, ?, ?, ?)\n",
      "2021-09-22 03:16:07,031 INFO sqlalchemy.engine.Engine [cached since 0.5807s ago] ((86, nan, nan, nan, 152885.41, 122581.451), (87, nan, nan, nan, 152885.41, 122581.451), (88, nan, nan, nan, 152885.41, 122581.451), (89, nan, nan, nan, 152885.41, 122581.451), (90, nan, nan, nan, 152885.41, 122581.451), (91, nan, nan, nan, 152885.41, 122581.451))\n",
      "2021-09-22 03:16:07,032 INFO sqlalchemy.engine.Engine INSERT INTO \"Intervals\" (id, borehole, interval_number, description, top_id, base_id, data_id) VALUES (?, ?, ?, ?, ?, ?, ?)\n",
      "2021-09-22 03:16:07,033 INFO sqlalchemy.engine.Engine [cached since 0.5804s ago] ((43, '50', 0, '{\"lithology\": \"remblais\"}', 86, 87, None), (44, '50', 1, '{\"lithology\": \"remblais\"}', 88, 89, None), (45, '50', 2, '{\"lithology\": \"remblais\"}', 90, 91, None))\n",
      "2021-09-22 03:16:07,034 INFO sqlalchemy.engine.Engine COMMIT\n",
      "2021-09-22 03:16:07,038 INFO sqlalchemy.engine.Engine BEGIN (implicit)\n",
      "2021-09-22 03:16:07,039 INFO sqlalchemy.engine.Engine SELECT \"Boreholes\".id AS \"Boreholes_id\", \"Boreholes\".date AS \"Boreholes_date\", \"Boreholes\".length AS \"Boreholes_length\", \"Boreholes\".diameter AS \"Boreholes_diameter\" \n",
      "FROM \"Boreholes\"\n",
      "2021-09-22 03:16:07,040 INFO sqlalchemy.engine.Engine [cached since 0.6184s ago] ()\n",
      "2021-09-22 03:16:07,042 INFO sqlalchemy.engine.Engine SELECT \"Intervals\".id AS \"Intervals_id\", \"Intervals\".borehole AS \"Intervals_borehole\", \"Intervals\".interval_number AS \"Intervals_interval_number\", \"Intervals\".description AS \"Intervals_description\", \"Intervals\".top_id AS \"Intervals_top_id\", \"Intervals\".base_id AS \"Intervals_base_id\", \"Intervals\".data_id AS \"Intervals_data_id\" \n",
      "FROM \"Intervals\" \n",
      "WHERE ? = \"Intervals\".borehole\n",
      "2021-09-22 03:16:07,043 INFO sqlalchemy.engine.Engine [cached since 0.5796s ago] ('50',)\n",
      "2021-09-22 03:16:07,045 INFO sqlalchemy.engine.Engine SELECT \"Positions\".id AS \"Positions_id\", \"Positions\".upper AS \"Positions_upper\", \"Positions\".middle AS \"Positions_middle\", \"Positions\".lower AS \"Positions_lower\", \"Positions\".x AS \"Positions_x\", \"Positions\".y AS \"Positions_y\" \n",
      "FROM \"Positions\" \n",
      "WHERE \"Positions\".id = ?\n",
      "2021-09-22 03:16:07,046 INFO sqlalchemy.engine.Engine [cached since 0.5782s ago] (86,)\n"
     ]
    },
    {
     "ename": "PositionError",
     "evalue": "You must provide middle, or upper and lower.",
     "output_type": "error",
     "traceback": [
      "\u001b[0;31m---------------------------------------------------------------------------\u001b[0m",
      "\u001b[0;31mPositionError\u001b[0m                             Traceback (most recent call last)",
      "\u001b[0;32m/tmp/ipykernel_40071/391638753.py\u001b[0m in \u001b[0;36m<module>\u001b[0;34m\u001b[0m\n\u001b[1;32m      1\u001b[0m \u001b[0;32mfor\u001b[0m \u001b[0mbh\u001b[0m \u001b[0;32min\u001b[0m \u001b[0mboreholes\u001b[0m\u001b[0;34m:\u001b[0m\u001b[0;34m\u001b[0m\u001b[0;34m\u001b[0m\u001b[0m\n\u001b[0;32m----> 2\u001b[0;31m     \u001b[0mp\u001b[0m\u001b[0;34m.\u001b[0m\u001b[0madd_borehole\u001b[0m\u001b[0;34m(\u001b[0m\u001b[0mbh\u001b[0m\u001b[0;34m)\u001b[0m\u001b[0;34m\u001b[0m\u001b[0;34m\u001b[0m\u001b[0m\n\u001b[0m",
      "\u001b[0;32m~/Projects/GSDMA/core/project.py\u001b[0m in \u001b[0;36madd_borehole\u001b[0;34m(self, bh, verbose)\u001b[0m\n\u001b[1;32m    103\u001b[0m         \u001b[0mself\u001b[0m\u001b[0;34m.\u001b[0m\u001b[0mcommit\u001b[0m\u001b[0;34m(\u001b[0m\u001b[0;34m)\u001b[0m\u001b[0;34m\u001b[0m\u001b[0;34m\u001b[0m\u001b[0m\n\u001b[1;32m    104\u001b[0m         \u001b[0mself\u001b[0m\u001b[0;34m.\u001b[0m\u001b[0mrefresh\u001b[0m\u001b[0;34m(\u001b[0m\u001b[0;34m)\u001b[0m\u001b[0;34m\u001b[0m\u001b[0;34m\u001b[0m\u001b[0m\n\u001b[0;32m--> 105\u001b[0;31m         \u001b[0mself\u001b[0m\u001b[0;34m.\u001b[0m\u001b[0mboreholes_3d\u001b[0m\u001b[0;34m.\u001b[0m\u001b[0mappend\u001b[0m\u001b[0;34m(\u001b[0m\u001b[0mcreate_bh3d_from_bhorm\u001b[0m\u001b[0;34m(\u001b[0m\u001b[0mbh\u001b[0m\u001b[0;34m,\u001b[0m \u001b[0mverbose\u001b[0m\u001b[0;34m=\u001b[0m\u001b[0mverbose\u001b[0m\u001b[0;34m,\u001b[0m \u001b[0mlegend_dict\u001b[0m\u001b[0;34m=\u001b[0m\u001b[0mself\u001b[0m\u001b[0;34m.\u001b[0m\u001b[0mlegend_dict\u001b[0m\u001b[0;34m)\u001b[0m\u001b[0;34m)\u001b[0m\u001b[0;34m\u001b[0m\u001b[0;34m\u001b[0m\u001b[0m\n\u001b[0m\u001b[1;32m    106\u001b[0m \u001b[0;34m\u001b[0m\u001b[0m\n\u001b[1;32m    107\u001b[0m     \u001b[0;32mdef\u001b[0m \u001b[0madd_components\u001b[0m\u001b[0;34m(\u001b[0m\u001b[0mself\u001b[0m\u001b[0;34m,\u001b[0m \u001b[0mcomponents\u001b[0m\u001b[0;34m)\u001b[0m\u001b[0;34m:\u001b[0m\u001b[0;34m\u001b[0m\u001b[0;34m\u001b[0m\u001b[0m\n",
      "\u001b[0;32m~/Projects/GSDMA/utils/orm.py\u001b[0m in \u001b[0;36mcreate_bh3d_from_bhorm\u001b[0;34m(bh_orm, legend_dict, verbose)\u001b[0m\n\u001b[1;32m     23\u001b[0m     \u001b[0mbh_3d\u001b[0m \u001b[0;34m:\u001b[0m \u001b[0mBorehole3D\u001b[0m \u001b[0mobject\u001b[0m\u001b[0;34m\u001b[0m\u001b[0;34m\u001b[0m\u001b[0m\n\u001b[1;32m     24\u001b[0m     \"\"\"\n\u001b[0;32m---> 25\u001b[0;31m     \u001b[0mlist_of_intervals\u001b[0m\u001b[0;34m,\u001b[0m \u001b[0mbh_orm\u001b[0m\u001b[0;34m.\u001b[0m\u001b[0mlength\u001b[0m \u001b[0;34m=\u001b[0m \u001b[0mget_interval_list\u001b[0m\u001b[0;34m(\u001b[0m\u001b[0mbh_orm\u001b[0m\u001b[0;34m)\u001b[0m\u001b[0;34m\u001b[0m\u001b[0;34m\u001b[0m\u001b[0m\n\u001b[0m\u001b[1;32m     26\u001b[0m     \u001b[0;32mif\u001b[0m \u001b[0mverbose\u001b[0m\u001b[0;34m:\u001b[0m\u001b[0;34m\u001b[0m\u001b[0;34m\u001b[0m\u001b[0m\n\u001b[1;32m     27\u001b[0m         \u001b[0mprint\u001b[0m\u001b[0;34m(\u001b[0m\u001b[0mbh_orm\u001b[0m\u001b[0;34m.\u001b[0m\u001b[0mid\u001b[0m\u001b[0;34m,\u001b[0m \u001b[0;34m\" added\"\u001b[0m\u001b[0;34m)\u001b[0m\u001b[0;34m\u001b[0m\u001b[0;34m\u001b[0m\u001b[0m\n",
      "\u001b[0;32m~/Projects/GSDMA/utils/orm.py\u001b[0m in \u001b[0;36mget_interval_list\u001b[0;34m(bh_orm)\u001b[0m\n\u001b[1;32m     50\u001b[0m     \u001b[0minterval_list\u001b[0m\u001b[0;34m,\u001b[0m \u001b[0mdepth\u001b[0m \u001b[0;34m=\u001b[0m \u001b[0;34m[\u001b[0m\u001b[0;34m]\u001b[0m\u001b[0;34m,\u001b[0m \u001b[0;34m[\u001b[0m\u001b[0;34m]\u001b[0m\u001b[0;34m\u001b[0m\u001b[0;34m\u001b[0m\u001b[0m\n\u001b[1;32m     51\u001b[0m     \u001b[0;32mfor\u001b[0m \u001b[0mi\u001b[0m \u001b[0;32min\u001b[0m \u001b[0mbh_orm\u001b[0m\u001b[0;34m.\u001b[0m\u001b[0mintervals\u001b[0m\u001b[0;34m.\u001b[0m\u001b[0mvalues\u001b[0m\u001b[0;34m(\u001b[0m\u001b[0;34m)\u001b[0m\u001b[0;34m:\u001b[0m\u001b[0;34m\u001b[0m\u001b[0;34m\u001b[0m\u001b[0m\n\u001b[0;32m---> 52\u001b[0;31m         \u001b[0mtop\u001b[0m \u001b[0;34m=\u001b[0m \u001b[0mPosition\u001b[0m\u001b[0;34m(\u001b[0m\u001b[0mupper\u001b[0m\u001b[0;34m=\u001b[0m\u001b[0mi\u001b[0m\u001b[0;34m.\u001b[0m\u001b[0mtop\u001b[0m\u001b[0;34m.\u001b[0m\u001b[0mupper\u001b[0m\u001b[0;34m,\u001b[0m \u001b[0mmiddle\u001b[0m\u001b[0;34m=\u001b[0m\u001b[0mi\u001b[0m\u001b[0;34m.\u001b[0m\u001b[0mtop\u001b[0m\u001b[0;34m.\u001b[0m\u001b[0mmiddle\u001b[0m\u001b[0;34m,\u001b[0m \u001b[0mlower\u001b[0m\u001b[0;34m=\u001b[0m\u001b[0mi\u001b[0m\u001b[0;34m.\u001b[0m\u001b[0mtop\u001b[0m\u001b[0;34m.\u001b[0m\u001b[0mlower\u001b[0m\u001b[0;34m,\u001b[0m \u001b[0mx\u001b[0m\u001b[0;34m=\u001b[0m\u001b[0mi\u001b[0m\u001b[0;34m.\u001b[0m\u001b[0mtop\u001b[0m\u001b[0;34m.\u001b[0m\u001b[0mx\u001b[0m\u001b[0;34m,\u001b[0m \u001b[0my\u001b[0m\u001b[0;34m=\u001b[0m\u001b[0mi\u001b[0m\u001b[0;34m.\u001b[0m\u001b[0mtop\u001b[0m\u001b[0;34m.\u001b[0m\u001b[0my\u001b[0m\u001b[0;34m)\u001b[0m\u001b[0;34m\u001b[0m\u001b[0;34m\u001b[0m\u001b[0m\n\u001b[0m\u001b[1;32m     53\u001b[0m         \u001b[0mbase\u001b[0m \u001b[0;34m=\u001b[0m \u001b[0mPosition\u001b[0m\u001b[0;34m(\u001b[0m\u001b[0mupper\u001b[0m\u001b[0;34m=\u001b[0m\u001b[0mi\u001b[0m\u001b[0;34m.\u001b[0m\u001b[0mbase\u001b[0m\u001b[0;34m.\u001b[0m\u001b[0mupper\u001b[0m\u001b[0;34m,\u001b[0m \u001b[0mmiddle\u001b[0m\u001b[0;34m=\u001b[0m\u001b[0mi\u001b[0m\u001b[0;34m.\u001b[0m\u001b[0mbase\u001b[0m\u001b[0;34m.\u001b[0m\u001b[0mmiddle\u001b[0m\u001b[0;34m,\u001b[0m \u001b[0mlower\u001b[0m\u001b[0;34m=\u001b[0m\u001b[0mi\u001b[0m\u001b[0;34m.\u001b[0m\u001b[0mbase\u001b[0m\u001b[0;34m.\u001b[0m\u001b[0mlower\u001b[0m\u001b[0;34m,\u001b[0m \u001b[0mx\u001b[0m\u001b[0;34m=\u001b[0m\u001b[0mi\u001b[0m\u001b[0;34m.\u001b[0m\u001b[0mtop\u001b[0m\u001b[0;34m.\u001b[0m\u001b[0mx\u001b[0m\u001b[0;34m,\u001b[0m \u001b[0my\u001b[0m\u001b[0;34m=\u001b[0m\u001b[0mi\u001b[0m\u001b[0;34m.\u001b[0m\u001b[0mtop\u001b[0m\u001b[0;34m.\u001b[0m\u001b[0my\u001b[0m\u001b[0;34m)\u001b[0m\u001b[0;34m\u001b[0m\u001b[0;34m\u001b[0m\u001b[0m\n\u001b[1;32m     54\u001b[0m \u001b[0;34m\u001b[0m\u001b[0m\n",
      "\u001b[0;32m~/.local/share/virtualenvs/GSDMA-DRfwm83x/lib/python3.8/site-packages/striplog/position.py\u001b[0m in \u001b[0;36m__init__\u001b[0;34m(self, middle, upper, lower, x, y, units, meta)\u001b[0m\n\u001b[1;32m     44\u001b[0m             \u001b[0;32mif\u001b[0m \u001b[0;32mnot\u001b[0m \u001b[0;34m(\u001b[0m\u001b[0mupper\u001b[0m \u001b[0;32mand\u001b[0m \u001b[0mlower\u001b[0m\u001b[0;34m)\u001b[0m\u001b[0;34m:\u001b[0m\u001b[0;34m\u001b[0m\u001b[0;34m\u001b[0m\u001b[0m\n\u001b[1;32m     45\u001b[0m                 \u001b[0mm\u001b[0m \u001b[0;34m=\u001b[0m \u001b[0;34m\"You must provide middle, or upper and lower.\"\u001b[0m\u001b[0;34m\u001b[0m\u001b[0;34m\u001b[0m\u001b[0m\n\u001b[0;32m---> 46\u001b[0;31m                 \u001b[0;32mraise\u001b[0m \u001b[0mPositionError\u001b[0m\u001b[0;34m(\u001b[0m\u001b[0mm\u001b[0m\u001b[0;34m)\u001b[0m\u001b[0;34m\u001b[0m\u001b[0;34m\u001b[0m\u001b[0m\n\u001b[0m\u001b[1;32m     47\u001b[0m         \u001b[0;32melse\u001b[0m\u001b[0;34m:\u001b[0m\u001b[0;34m\u001b[0m\u001b[0;34m\u001b[0m\u001b[0m\n\u001b[1;32m     48\u001b[0m             \u001b[0mself\u001b[0m\u001b[0;34m.\u001b[0m\u001b[0mmiddle\u001b[0m \u001b[0;34m=\u001b[0m \u001b[0mfloat\u001b[0m\u001b[0;34m(\u001b[0m\u001b[0mmiddle\u001b[0m\u001b[0;34m)\u001b[0m\u001b[0;34m\u001b[0m\u001b[0;34m\u001b[0m\u001b[0m\n",
      "\u001b[0;31mPositionError\u001b[0m: You must provide middle, or upper and lower."
     ]
    }
   ],
   "source": [
    "for bh in boreholes:\n",
    "    p.add_borehole(bh)"
   ]
  },
  {
   "cell_type": "code",
   "execution_count": null,
   "metadata": {},
   "outputs": [],
   "source": [
    "p.add_link_components_intervals(link_intv_comp)"
   ]
  },
  {
   "cell_type": "code",
   "execution_count": null,
   "metadata": {},
   "outputs": [],
   "source": [
    "p.commit()\n",
    "print('Boreholes in the project : ', len(p.boreholes_orm))"
   ]
  },
  {
   "cell_type": "code",
   "execution_count": null,
   "metadata": {},
   "outputs": [],
   "source": [
    "p.boreholes_orm"
   ]
  },
  {
   "cell_type": "code",
   "execution_count": null,
   "metadata": {
    "scrolled": true
   },
   "outputs": [],
   "source": [
    "p.refresh()"
   ]
  },
  {
   "cell_type": "code",
   "execution_count": null,
   "metadata": {},
   "outputs": [],
   "source": [
    "session.close()"
   ]
  },
  {
   "cell_type": "markdown",
   "metadata": {},
   "source": [
    "### update project legend dict"
   ]
  },
  {
   "cell_type": "code",
   "execution_count": null,
   "metadata": {
    "scrolled": true
   },
   "outputs": [],
   "source": [
    "p.update_legend_cmap(update_project_legend=True, update_all_attrib=True, verbose=False)"
   ]
  },
  {
   "cell_type": "code",
   "execution_count": null,
   "metadata": {},
   "outputs": [],
   "source": [
    "p.legend_dict['lithology']['legend'] # looks like cmap and values combination"
   ]
  },
  {
   "cell_type": "markdown",
   "metadata": {},
   "source": [
    "# 3D Display"
   ]
  },
  {
   "cell_type": "markdown",
   "metadata": {},
   "source": [
    "## Display one object"
   ]
  },
  {
   "cell_type": "code",
   "execution_count": null,
   "metadata": {},
   "outputs": [],
   "source": [
    "bh = p.boreholes_3d\n",
    "#print(bh.name, '\\n', bh.intervals) # problem with top and base position --> kind of overlaying"
   ]
  },
  {
   "cell_type": "raw",
   "metadata": {},
   "source": [
    "p.boreholes_3d[0].plot2d()"
   ]
  },
  {
   "cell_type": "raw",
   "metadata": {},
   "source": [
    "for k,v in components.items():\n",
    "    if hasattr(v, 'colour'):\n",
    "        print(components[k].lithology, v.colour)"
   ]
  },
  {
   "cell_type": "code",
   "execution_count": null,
   "metadata": {},
   "outputs": [],
   "source": [
    "n = 2\n",
    "df.query(f'ID==\"{p.boreholes_3d[n].name}\"')[['ID', 'Top_intv', 'Base_intv', 'Lithology']]"
   ]
  },
  {
   "cell_type": "code",
   "execution_count": null,
   "metadata": {},
   "outputs": [],
   "source": [
    "p.boreholes_3d[n].intervals[0].components #[0].lithology"
   ]
  },
  {
   "cell_type": "code",
   "execution_count": null,
   "metadata": {},
   "outputs": [],
   "source": [
    "p.boreholes_3d[n].log_plot() #verbose=True)"
   ]
  },
  {
   "cell_type": "markdown",
   "metadata": {},
   "source": [
    "### 2D/3D display of project boreholes"
   ]
  },
  {
   "cell_type": "code",
   "execution_count": null,
   "metadata": {},
   "outputs": [],
   "source": [
    "p.plot2d()"
   ]
  },
  {
   "cell_type": "code",
   "execution_count": null,
   "metadata": {},
   "outputs": [],
   "source": [
    "p.legend_dict['lithology']['legend']"
   ]
  },
  {
   "cell_type": "code",
   "execution_count": null,
   "metadata": {},
   "outputs": [],
   "source": [
    "p.plot3d(repr_attribute='lithology', labels_size=15, bg_color=[\"royalblue\", \"aliceblue\"], \n",
    "         window_size=(800, 600), verbose=True)"
   ]
  },
  {
   "cell_type": "raw",
   "metadata": {},
   "source": [
    "p.boreholes_3d[0].components"
   ]
  },
  {
   "cell_type": "code",
   "execution_count": null,
   "metadata": {},
   "outputs": [],
   "source": []
  }
 ],
 "metadata": {
  "kernelspec": {
   "display_name": "Python 3 (ipykernel)",
   "language": "python",
   "name": "python3"
  },
  "language_info": {
   "codemirror_mode": {
    "name": "ipython",
    "version": 3
   },
   "file_extension": ".py",
   "mimetype": "text/x-python",
   "name": "python",
   "nbconvert_exporter": "python",
   "pygments_lexer": "ipython3",
   "version": "3.8.10"
  }
 },
 "nbformat": 4,
 "nbformat_minor": 4
}
