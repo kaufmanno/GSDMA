{
 "cells": [
  {
   "cell_type": "markdown",
   "metadata": {},
   "source": [
    "# Example of using the Borehole3D class"
   ]
  },
  {
   "cell_type": "markdown",
   "metadata": {},
   "source": [
    "### Imports"
   ]
  },
  {
   "cell_type": "code",
   "execution_count": 1,
   "metadata": {},
   "outputs": [],
   "source": [
    "from striplog import Component, Decor, Legend, Lexicon, Striplog\n",
    "from core.omf import Borehole3D, striplog_legend_to_omf_legend \n",
    "from utils.io import boreholes_from_files, striplog_from_text\n",
    "from core.core import Project\n",
    "from core.orm import BoreholeOrm, PositionOrm, Base \n",
    "\n",
    "import matplotlib.pyplot as plt\n",
    "from os import remove\n",
    "from sqlalchemy import create_engine\n",
    "from sqlalchemy.orm import sessionmaker\n",
    "from definitions import ROOT_DIR"
   ]
  },
  {
   "cell_type": "markdown",
   "metadata": {},
   "source": [
    "boucler sur les fichiers présents dans le repertoires de travail"
   ]
  },
  {
   "cell_type": "code",
   "execution_count": 2,
   "metadata": {},
   "outputs": [
    {
     "data": {
      "text/plain": [
       "'/home/yanathan/Projects/GSDMA/CF_data/synthese/Result_traitem/'"
      ]
     },
     "execution_count": 2,
     "metadata": {},
     "output_type": "execute_result"
    }
   ],
   "source": [
    "import re\n",
    "import pandas as pd\n",
    "from os import walk\n",
    "\n",
    "fdir=ROOT_DIR+'/CF_data/synthese/Result_traitem/'\n",
    "fdir"
   ]
  },
  {
   "cell_type": "code",
   "execution_count": 30,
   "metadata": {},
   "outputs": [
    {
     "data": {
      "text/plain": [
       "'/home/yanathan/Projects/GSDMA/CF_data/synthese/Result_traitem/boreholes_6.csv'"
      ]
     },
     "execution_count": 30,
     "metadata": {},
     "output_type": "execute_result"
    }
   ],
   "source": [
    "flist=[]\n",
    "for path, dirs, files in walk(fdir):\n",
    "        for f in files:\n",
    "            if f[0]!='.' and re.compile(r\".+\\.(csv)\").match(f) and f is not None:\n",
    "                flist.append('{}'.format(path+f))\n",
    "flist[0]"
   ]
  },
  {
   "cell_type": "code",
   "execution_count": 36,
   "metadata": {},
   "outputs": [
    {
     "data": {
      "text/plain": [
       "{'/home/yanathan/Projects/GSDMA/CF_data/synthese/Result_traitem/boreholes_1.csv',\n",
       " '/home/yanathan/Projects/GSDMA/CF_data/synthese/Result_traitem/boreholes_1geom.csv',\n",
       " '/home/yanathan/Projects/GSDMA/CF_data/synthese/Result_traitem/boreholes_2.csv',\n",
       " '/home/yanathan/Projects/GSDMA/CF_data/synthese/Result_traitem/boreholes_3.csv',\n",
       " '/home/yanathan/Projects/GSDMA/CF_data/synthese/Result_traitem/boreholes_4.csv',\n",
       " '/home/yanathan/Projects/GSDMA/CF_data/synthese/Result_traitem/boreholes_5.csv',\n",
       " '/home/yanathan/Projects/GSDMA/CF_data/synthese/Result_traitem/boreholes_6.csv',\n",
       " '/home/yanathan/Projects/GSDMA/CF_data/synthese/Result_traitem/boreholes_7.csv',\n",
       " '/home/yanathan/Projects/GSDMA/CF_data/synthese/Result_traitem/boreholes_8.csv',\n",
       " '/home/yanathan/Projects/GSDMA/CF_data/synthese/Result_traitem/boreholes_9.csv',\n",
       " '/home/yanathan/Projects/GSDMA/CF_data/synthese/Result_traitem/boreholes_Leve_Z_Pilote.csv',\n",
       " '/home/yanathan/Projects/GSDMA/CF_data/synthese/Result_traitem/boreholes_No_XYZ.csv'}"
      ]
     },
     "execution_count": 36,
     "metadata": {},
     "output_type": "execute_result"
    }
   ],
   "source": [
    "set(flist)"
   ]
  },
  {
   "cell_type": "code",
   "execution_count": 73,
   "metadata": {},
   "outputs": [
    {
     "data": {
      "text/plain": [
       "array(['ID', 'X', 'Y', 'Z', 'Long', 'Refus'], dtype=object)"
      ]
     },
     "execution_count": 73,
     "metadata": {},
     "output_type": "execute_result"
    }
   ],
   "source": [
    "df.columns.values"
   ]
  },
  {
   "cell_type": "code",
   "execution_count": 86,
   "metadata": {},
   "outputs": [
    {
     "data": {
      "text/plain": [
       "[\"['ID', 'Z', 'Type', 'Diam', 'Diam_Pz', 'Crep_top', 'Crep_base', 'Bent_top', 'Bent_base']\",\n",
       " \"['ID', 'Type', 'Societe']\",\n",
       " \"['ID', 'X', 'Y', 'Z', 'Long', 'Refus', 'Societe']\",\n",
       " \"['ID', 'X', 'Y', 'Z', 'Long', 'Long_Pz', 'Type', 'Crep_top', 'Crep_base', 'Refus']\",\n",
       " \"['ID', 'X', 'Y', 'Z']\",\n",
       " \"['ID', 'X', 'Y', 'Z', 'Zsol', 'Long_Pz', 'Long_Crep', 'Diam_Pz', 'Type', 'Date', 'Long', 'Method', 'Diam', 'Niv_Pz_sol', 'Societe', 'Refus']\",\n",
       " \"['ID', 'X', 'Y', 'Z', 'Long', 'Type']\",\n",
       " \"['ID', 'Z', 'Diff_Z_Rloc', 'Long', 'Inox_first', 'impol_first']\",\n",
       " \"['ID', 'X', 'Y', 'Z', 'Zsol', 'Long_Pz', 'Long_Crep', 'Diam_Pz', 'Societe', 'Type', 'Date', 'Ht_Chambre', 'ETUDE']\",\n",
       " \"['ID', 'X', 'Y', 'Z', 'Zsol', 'Long_Pz', 'Long_Crep', 'Diam_Pz', 'Societe', 'Type']\",\n",
       " \"['ID', 'X', 'Y', 'Z', 'Long', 'Refus', 'Societe']\",\n",
       " \"['ID', 'X', 'Y', 'Z', 'Long', 'Refus']\"]"
      ]
     },
     "execution_count": 86,
     "metadata": {},
     "output_type": "execute_result"
    }
   ],
   "source": [
    "header=[]\n",
    "for f in flist:\n",
    "    df=pd.read_csv(f)\n",
    "    header.append(str(list(df.columns)).replace('\"[', ''))#strip('\"[')).strip(']\"'))\n",
    "header\n",
    "#print(set(header), lis(df.columns))"
   ]
  },
  {
   "cell_type": "raw",
   "metadata": {},
   "source": [
    "f = re.DOTALL | re.IGNORECASE\n",
    "        regex_data = r'start.+?\\n(.+?)(?:\\n\\n+|\\n*\\#|\\n*$)'  # retrieve data of BH\n",
    "\n",
    "        pattern = re.compile(regex_data, flags=f)\n",
    "        with open(filename, 'r') as csv:\n",
    "            text = pattern.search(csv.read()).group(1)\n",
    "            text = re.sub(r'[\\t]+', ';', re.sub(r'(\\n+|\\r\\n|\\r)', '\\n', text.strip()))"
   ]
  },
  {
   "cell_type": "markdown",
   "metadata": {},
   "source": [
    "### Create the Borehole 3D object using the legend"
   ]
  },
  {
   "cell_type": "code",
   "execution_count": null,
   "metadata": {},
   "outputs": [],
   "source": [
    "bh3d = Borehole3D(name='F_test',length=10)#, legend=legend )"
   ]
  },
  {
   "cell_type": "code",
   "execution_count": null,
   "metadata": {},
   "outputs": [],
   "source": [
    "bh3d.legendLegend.default()"
   ]
  },
  {
   "cell_type": "code",
   "execution_count": null,
   "metadata": {},
   "outputs": [],
   "source": [
    "bh3d.components"
   ]
  },
  {
   "cell_type": "markdown",
   "metadata": {},
   "source": [
    "### Display the striplog and 3D view"
   ]
  },
  {
   "cell_type": "code",
   "execution_count": null,
   "metadata": {
    "scrolled": true
   },
   "outputs": [],
   "source": [
    "bh3d.log_plot()"
   ]
  },
  {
   "cell_type": "code",
   "execution_count": null,
   "metadata": {},
   "outputs": [],
   "source": [
    "bh3d.plot3d()"
   ]
  },
  {
   "cell_type": "markdown",
   "metadata": {},
   "source": [
    "### Display project boreholes"
   ]
  },
  {
   "cell_type": "raw",
   "metadata": {},
   "source": [
    "remove('tmp_files/tfe_orm_db.db')"
   ]
  },
  {
   "cell_type": "raw",
   "metadata": {},
   "source": [
    "engine = create_engine('sqlite:///tmp_files/tfe_orm_db.db', echo=True)"
   ]
  },
  {
   "cell_type": "raw",
   "metadata": {},
   "source": [
    "Base.metadata.create_all(engine)"
   ]
  },
  {
   "cell_type": "raw",
   "metadata": {},
   "source": [
    "Session = sessionmaker(bind=engine)\n",
    "session = Session()"
   ]
  },
  {
   "cell_type": "raw",
   "metadata": {},
   "source": [
    "p = Project(session)\n",
    "p.add_components(components)"
   ]
  },
  {
   "cell_type": "markdown",
   "metadata": {},
   "source": [
    "### The Borehole in 3D using X3D for interaction within the notebook"
   ]
  },
  {
   "cell_type": "raw",
   "metadata": {},
   "source": [
    "p.plot3d(x3d=True,radius=0.5)"
   ]
  },
  {
   "cell_type": "raw",
   "metadata": {},
   "source": [
    "#x3D option : '<viewpoint position=\"388.57 396.244 -26.473\" orientation=\"0.421 0.575 0.700 2.546\">' \\"
   ]
  },
  {
   "cell_type": "code",
   "execution_count": null,
   "metadata": {},
   "outputs": [],
   "source": []
  }
 ],
 "metadata": {
  "kernelspec": {
   "display_name": "Python 3",
   "language": "python",
   "name": "python3"
  },
  "language_info": {
   "codemirror_mode": {
    "name": "ipython",
    "version": 3
   },
   "file_extension": ".py",
   "mimetype": "text/x-python",
   "name": "python",
   "nbconvert_exporter": "python",
   "pygments_lexer": "ipython3",
   "version": "3.8.5"
  }
 },
 "nbformat": 4,
 "nbformat_minor": 4
}
