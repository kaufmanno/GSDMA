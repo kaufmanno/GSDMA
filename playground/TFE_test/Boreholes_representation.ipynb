{
 "cells": [
  {
   "cell_type": "markdown",
   "metadata": {},
   "source": [
    "# Example of using the Borehole3D class"
   ]
  },
  {
   "cell_type": "markdown",
   "metadata": {},
   "source": [
    "## Imports"
   ]
  },
  {
   "cell_type": "code",
   "execution_count": 1,
   "metadata": {},
   "outputs": [
    {
     "name": "stderr",
     "output_type": "stream",
     "text": [
      "/home/yanathan/.local/share/virtualenvs/GSDMA-DRfwm83x/lib/python3.8/site-packages/striplog/legend.py:687: UserWarning: This legend contains duplicate components.\n",
      "  warnings.warn(w)\n",
      "/home/yanathan/.local/share/virtualenvs/GSDMA-DRfwm83x/lib/python3.8/site-packages/striplog/legend.py:687: UserWarning: This legend contains duplicate components.\n",
      "  warnings.warn(w)\n"
     ]
    }
   ],
   "source": [
    "from striplog import Component, Decor, Legend, Lexicon, Striplog\n",
    "from core.omf import Borehole3D, striplog_legend_to_omf_legend \n",
    "from utils.lexicon.lexicon_memoris import lexicon_memoris, lithology_memoris, pollutant_memoris\n",
    "from utils.io import boreholes_from_files, gdf_viewer\n",
    "from core.core import Project\n",
    "from core.orm import BoreholeOrm, PositionOrm, Base \n",
    "import random\n",
    "from os import remove\n",
    "import pandas as pd\n",
    "import numpy as np\n",
    "from sqlalchemy import create_engine\n",
    "from sqlalchemy.orm import sessionmaker\n",
    "from definitions import ROOT_DIR"
   ]
  },
  {
   "cell_type": "markdown",
   "metadata": {},
   "source": [
    "## Reading of CSV files in a dir"
   ]
  },
  {
   "cell_type": "code",
   "execution_count": 2,
   "metadata": {},
   "outputs": [],
   "source": [
    "#df = pd.read_csv('test_data_boreholes.csv', sep=',') # use english lexicon\n",
    "df = pd.read_csv('test_litho_fr.csv', sep=',') # use french lexicon"
   ]
  },
  {
   "cell_type": "markdown",
   "metadata": {},
   "source": [
    "## Data Checking"
   ]
  },
  {
   "cell_type": "raw",
   "metadata": {},
   "source": [
    "df.drop('Z', axis='columns', inplace=True)\n",
    "df.rename({'new_Z':'Z'}, axis='columns', inplace=True)"
   ]
  },
  {
   "cell_type": "raw",
   "metadata": {},
   "source": [
    "df.loc[df.query('Colour==\"tan\"').index, 'Colour'] = 'green' # use simple colour"
   ]
  },
  {
   "cell_type": "code",
   "execution_count": 3,
   "metadata": {},
   "outputs": [],
   "source": [
    "#pol = ['As', 'Ni', 'Cl', 'Hg', 'Pb', 'Zn']\n",
    "pol = ['VR','VS','VI']\n",
    "#df[['Pollutant', 'Concentration']] = ''\n",
    "df[['Pollutant', 'Concentration']] = ''\n",
    "df['Pollutant'] = df['Pollutant'].apply(lambda x: random.sample(pol, 1)[0])\n",
    "df['Concentration'] = df['Concentration'].apply(lambda x: np.random.randint(0,100))\n",
    "df['Unit'] = 'mg/l'"
   ]
  },
  {
   "cell_type": "code",
   "execution_count": 4,
   "metadata": {},
   "outputs": [],
   "source": [
    "df['Lithology'] = df['Lithology'].replace({'Grès':'Marne', 'Calcaire':'Dolomie'})"
   ]
  },
  {
   "cell_type": "code",
   "execution_count": 5,
   "metadata": {},
   "outputs": [],
   "source": [
    "df.loc[35.5, :] = ['BH007',152794.0, 121111.0, 60.0, 0.57, 45, 'Calcaire', 'Bleu', 4, 41, 45, 'Cl', 78, 'mg/l']\n",
    "df.loc[25.5, :] = ['BH005',152473.0, 121460.0, 72.0, 0.61, 32, 'Schiste', 'gris', 3, 29, 32, 'Cl', 78, 'mg/l']\n",
    "df.drop(index=4, inplace=True)\n",
    "df.drop(columns='Colour', inplace=True)\n",
    "df = df.sort_index().reset_index(drop=True)"
   ]
  },
  {
   "cell_type": "raw",
   "metadata": {},
   "source": [
    "df.loc[995, :] = ['BH199',152455.0, 121128.0, 68.0, 0.57, 36, 'Calcaire', 'Bleu', 9, 27, 36, 'Cl', 78, 'mg/l']"
   ]
  },
  {
   "cell_type": "raw",
   "metadata": {},
   "source": [
    "df.to_csv('test_litho_fr.csv', index=False)"
   ]
  },
  {
   "cell_type": "code",
   "execution_count": 6,
   "metadata": {},
   "outputs": [
    {
     "name": "stdout",
     "output_type": "stream",
     "text": [
      "Rows : 996, columns : 13\n"
     ]
    },
    {
     "data": {
      "application/vnd.jupyter.widget-view+json": {
       "model_id": "c62b087d0b8b41d58c7dbaef01108a4d",
       "version_major": 2,
       "version_minor": 0
      },
      "text/plain": [
       "interactive(children=(IntSlider(value=10, description='rows', max=996, min=10, readout=False), IntSlider(value…"
      ]
     },
     "metadata": {},
     "output_type": "display_data"
    }
   ],
   "source": [
    "gdf_viewer(df)"
   ]
  },
  {
   "cell_type": "raw",
   "metadata": {},
   "source": [
    "df.query('X==152013.0 and Y==121905.0')"
   ]
  },
  {
   "cell_type": "markdown",
   "metadata": {},
   "source": [
    "## Create Boreholes from dataframes or files"
   ]
  },
  {
   "cell_type": "code",
   "execution_count": 7,
   "metadata": {},
   "outputs": [],
   "source": [
    "bhs_df=[df[0:50]] # list of dataframes"
   ]
  },
  {
   "cell_type": "code",
   "execution_count": 8,
   "metadata": {
    "scrolled": true
   },
   "outputs": [
    {
     "name": "stdout",
     "output_type": "stream",
     "text": [
      "\n",
      "Dataframe 0 processing...\n",
      "================================\n",
      "|__ID:'BH001'\n",
      "{'lithology': 'sable', 'pollutant': 'vi'}\n",
      "{'lithology': 'argile', 'pollutant': 'vr'}\n",
      "{'lithology': 'marne', 'pollutant': 'vi'}\n",
      "{'lithology': 'charbon', 'pollutant': 'vs'}\n",
      "Summary : [Striplog(4 Intervals, start=0.0, stop=28.0)]\n",
      "|__ID:'BH002'\n",
      "{'lithology': 'sable', 'pollutant': 'vs'}\n",
      "{'lithology': 'argile', 'pollutant': 'vs'}\n",
      "{'lithology': 'marne', 'pollutant': 'vr'}\n",
      "{'lithology': 'charbon', 'pollutant': 'vr'}\n",
      "{'lithology': 'dolomie', 'pollutant': 'vr'}\n",
      "Summary : [Striplog(5 Intervals, start=0.0, stop=37.0)]\n",
      "|__ID:'BH003'\n",
      "{'lithology': 'sable', 'pollutant': 'vs'}\n",
      "{'lithology': 'argile', 'pollutant': 'vr'}\n",
      "{'lithology': 'marne', 'pollutant': 'vs'}\n",
      "{'lithology': 'charbon', 'pollutant': 'vi'}\n",
      "{'lithology': 'dolomie', 'pollutant': 'vr'}\n",
      "Summary : [Striplog(5 Intervals, start=0.0, stop=18.0)]\n",
      "|__ID:'BH004'\n",
      "{'lithology': 'sable', 'pollutant': 'vi'}\n",
      "{'lithology': 'argile', 'pollutant': 'vr'}\n",
      "{'lithology': 'marne', 'pollutant': 'vr'}\n",
      "{'lithology': 'charbon', 'pollutant': 'vs'}\n",
      "{'lithology': 'dolomie', 'pollutant': 'vs'}\n",
      "Summary : [Striplog(5 Intervals, start=0.0, stop=26.0)]\n",
      "|__ID:'BH005'\n",
      "{'lithology': 'sable', 'pollutant': 'vi'}\n",
      "{'lithology': 'argile', 'pollutant': 'vs'}\n",
      "{'lithology': 'marne', 'pollutant': 'vi'}\n",
      "{'lithology': 'charbon', 'pollutant': 'vs'}\n",
      "{'lithology': 'dolomie', 'pollutant': 'vi'}\n",
      "{'lithology': 'schiste'}\n",
      "Summary : [Striplog(6 Intervals, start=0.0, stop=32.0)]\n",
      "|__ID:'BH006'\n",
      "{'lithology': 'sable', 'pollutant': 'vi'}\n",
      "{'lithology': 'argile', 'pollutant': 'vi'}\n",
      "{'lithology': 'marne', 'pollutant': 'vs'}\n",
      "{'lithology': 'charbon', 'pollutant': 'vr'}\n",
      "{'lithology': 'dolomie', 'pollutant': 'vs'}\n",
      "Summary : [Striplog(5 Intervals, start=0.0, stop=26.0)]\n",
      "|__ID:'BH007'\n",
      "{'lithology': 'sable', 'pollutant': 'vi'}\n",
      "{'lithology': 'argile', 'pollutant': 'vr'}\n",
      "{'lithology': 'marne', 'pollutant': 'vi'}\n",
      "{'lithology': 'charbon', 'pollutant': 'vs'}\n",
      "{'lithology': 'dolomie', 'pollutant': 'vr'}\n",
      "{'lithology': 'calcaire'}\n",
      "Summary : [Striplog(6 Intervals, start=0.0, stop=45.0)]\n",
      "|__ID:'BH008'\n",
      "{'lithology': 'sable', 'pollutant': 'vr'}\n",
      "{'lithology': 'argile', 'pollutant': 'vr'}\n",
      "{'lithology': 'marne', 'pollutant': 'vs'}\n",
      "{'lithology': 'charbon', 'pollutant': 'vi'}\n",
      "{'lithology': 'dolomie', 'pollutant': 'vs'}\n",
      "Summary : [Striplog(5 Intervals, start=0.0, stop=35.0)]\n",
      "|__ID:'BH009'\n",
      "{'lithology': 'sable', 'pollutant': 'vi'}\n",
      "{'lithology': 'argile', 'pollutant': 'vs'}\n",
      "{'lithology': 'marne', 'pollutant': 'vr'}\n",
      "{'lithology': 'charbon', 'pollutant': 'vs'}\n",
      "{'lithology': 'dolomie', 'pollutant': 'vi'}\n",
      "Summary : [Striplog(5 Intervals, start=0.0, stop=40.0)]\n",
      "|__ID:'BH10'\n",
      "{'lithology': 'sable', 'pollutant': 'vs'}\n",
      "{'lithology': 'argile', 'pollutant': 'vs'}\n",
      "{'lithology': 'marne', 'pollutant': 'vi'}\n",
      "{'lithology': 'charbon', 'pollutant': 'vs'}\n",
      "Summary : [Striplog(4 Intervals, start=0.0, stop=14.0)]\n",
      "\n",
      "End of the process : 10 unique ID found\n"
     ]
    },
    {
     "name": "stderr",
     "output_type": "stream",
     "text": [
      "/home/yanathan/Projects/GSDMA/utils/io.py:469: SAWarning: relationship 'ComponentOrm.intervals' will copy column Components.id to column Linkintervalcomponent.comp_id, which conflicts with relationship(s): 'IntervalOrm.components' (copies Components.id to Linkintervalcomponent.comp_id). If this is not the intention, consider if these relationships should be linked with back_populates, or if viewonly=True should be applied to one or more if they are read-only. For the less common case that foreign key constraints are partially overlapping, the orm.foreign() annotation can be used to isolate the columns that should be written towards.   The 'overlaps' parameter may be used to remove this warning.\n",
      "  boreholes.append(BoreholeOrm(id=bh_name))\n",
      "/home/yanathan/Projects/GSDMA/utils/io.py:469: SAWarning: relationship 'ComponentOrm.intervals' will copy column Intervals.id to column Linkintervalcomponent.int_id, which conflicts with relationship(s): 'IntervalOrm.components' (copies Intervals.id to Linkintervalcomponent.int_id). If this is not the intention, consider if these relationships should be linked with back_populates, or if viewonly=True should be applied to one or more if they are read-only. For the less common case that foreign key constraints are partially overlapping, the orm.foreign() annotation can be used to isolate the columns that should be written towards.   The 'overlaps' parameter may be used to remove this warning.\n",
      "  boreholes.append(BoreholeOrm(id=bh_name))\n",
      "/home/yanathan/Projects/GSDMA/utils/io.py:469: SAWarning: relationship 'ComponentOrm.component_assoc' will copy column Components.id to column Linkintervalcomponent.comp_id, which conflicts with relationship(s): 'IntervalOrm.components' (copies Components.id to Linkintervalcomponent.comp_id), 'ComponentOrm.intervals' (copies Components.id to Linkintervalcomponent.comp_id). If this is not the intention, consider if these relationships should be linked with back_populates, or if viewonly=True should be applied to one or more if they are read-only. For the less common case that foreign key constraints are partially overlapping, the orm.foreign() annotation can be used to isolate the columns that should be written towards.   The 'overlaps' parameter may be used to remove this warning.\n",
      "  boreholes.append(BoreholeOrm(id=bh_name))\n",
      "/home/yanathan/Projects/GSDMA/utils/io.py:469: SAWarning: relationship 'LinkIntervalComponentOrm.component' will copy column Components.id to column Linkintervalcomponent.comp_id, which conflicts with relationship(s): 'IntervalOrm.components' (copies Components.id to Linkintervalcomponent.comp_id), 'ComponentOrm.intervals' (copies Components.id to Linkintervalcomponent.comp_id). If this is not the intention, consider if these relationships should be linked with back_populates, or if viewonly=True should be applied to one or more if they are read-only. For the less common case that foreign key constraints are partially overlapping, the orm.foreign() annotation can be used to isolate the columns that should be written towards.   The 'overlaps' parameter may be used to remove this warning.\n",
      "  boreholes.append(BoreholeOrm(id=bh_name))\n",
      "/home/yanathan/Projects/GSDMA/utils/io.py:469: SAWarning: relationship 'IntervalOrm.interval_assoc' will copy column Intervals.id to column Linkintervalcomponent.int_id, which conflicts with relationship(s): 'IntervalOrm.components' (copies Intervals.id to Linkintervalcomponent.int_id), 'ComponentOrm.intervals' (copies Intervals.id to Linkintervalcomponent.int_id). If this is not the intention, consider if these relationships should be linked with back_populates, or if viewonly=True should be applied to one or more if they are read-only. For the less common case that foreign key constraints are partially overlapping, the orm.foreign() annotation can be used to isolate the columns that should be written towards.   The 'overlaps' parameter may be used to remove this warning.\n",
      "  boreholes.append(BoreholeOrm(id=bh_name))\n",
      "/home/yanathan/Projects/GSDMA/utils/io.py:469: SAWarning: relationship 'LinkIntervalComponentOrm.interval' will copy column Intervals.id to column Linkintervalcomponent.int_id, which conflicts with relationship(s): 'IntervalOrm.components' (copies Intervals.id to Linkintervalcomponent.int_id), 'ComponentOrm.intervals' (copies Intervals.id to Linkintervalcomponent.int_id). If this is not the intention, consider if these relationships should be linked with back_populates, or if viewonly=True should be applied to one or more if they are read-only. For the less common case that foreign key constraints are partially overlapping, the orm.foreign() annotation can be used to isolate the columns that should be written towards.   The 'overlaps' parameter may be used to remove this warning.\n",
      "  boreholes.append(BoreholeOrm(id=bh_name))\n"
     ]
    }
   ],
   "source": [
    "boreholes, components, link_intv_comp = boreholes_from_files(bhs_df, verbose=False,\n",
    "                                                litho_field=['Lithology', 'Pollutant'], \n",
    "                                                color_field='Colour', lexicon=lexicon_memoris, \n",
    "                                                diam_field='Diameter', thick_field='Thickness')"
   ]
  },
  {
   "cell_type": "raw",
   "metadata": {},
   "source": [
    "boreholes[170].intervals[850].top.x, boreholes[170].intervals[850].top.y"
   ]
  },
  {
   "cell_type": "code",
   "execution_count": 9,
   "metadata": {},
   "outputs": [
    {
     "data": {
      "text/plain": [
       "[<core.orm.BoreholeOrm>(Name=BH001, Length=28.0, Diameter=0.43, Intervals=4),\n",
       " <core.orm.BoreholeOrm>(Name=BH002, Length=37.0, Diameter=0.6, Intervals=5),\n",
       " <core.orm.BoreholeOrm>(Name=BH003, Length=18.0, Diameter=0.41, Intervals=5),\n",
       " <core.orm.BoreholeOrm>(Name=BH004, Length=26.0, Diameter=0.61, Intervals=5),\n",
       " <core.orm.BoreholeOrm>(Name=BH005, Length=32.0, Diameter=0.61, Intervals=6),\n",
       " <core.orm.BoreholeOrm>(Name=BH006, Length=26.0, Diameter=0.31, Intervals=5),\n",
       " <core.orm.BoreholeOrm>(Name=BH007, Length=45.0, Diameter=0.57, Intervals=6),\n",
       " <core.orm.BoreholeOrm>(Name=BH008, Length=35.0, Diameter=0.39, Intervals=5),\n",
       " <core.orm.BoreholeOrm>(Name=BH009, Length=40.0, Diameter=0.5, Intervals=5),\n",
       " <core.orm.BoreholeOrm>(Name=BH10, Length=14.0, Diameter=0.31, Intervals=4)]"
      ]
     },
     "execution_count": 9,
     "metadata": {},
     "output_type": "execute_result"
    }
   ],
   "source": [
    "boreholes"
   ]
  },
  {
   "cell_type": "code",
   "execution_count": 10,
   "metadata": {},
   "outputs": [
    {
     "data": {
      "text/plain": [
       "{0: Component({'lithology': 'marne', 'pollutant': 'vi'}),\n",
       " 1: Component({'lithology': 'charbon', 'pollutant': 'vs'}),\n",
       " 2: Component({'lithology': 'sable', 'pollutant': 'vi'}),\n",
       " 3: Component({'lithology': 'argile', 'pollutant': 'vr'}),\n",
       " 4: Component({'lithology': 'dolomie', 'pollutant': 'vr'}),\n",
       " 5: Component({'lithology': 'marne', 'pollutant': 'vr'}),\n",
       " 6: Component({'lithology': 'sable', 'pollutant': 'vs'}),\n",
       " 7: Component({'lithology': 'argile', 'pollutant': 'vs'}),\n",
       " 8: Component({'lithology': 'charbon', 'pollutant': 'vr'}),\n",
       " 9: Component({'lithology': 'charbon', 'pollutant': 'vi'}),\n",
       " 10: Component({'lithology': 'marne', 'pollutant': 'vs'}),\n",
       " 11: Component({'lithology': 'dolomie', 'pollutant': 'vs'}),\n",
       " 12: Component({'lithology': 'schiste'}),\n",
       " 13: Component({'lithology': 'dolomie', 'pollutant': 'vi'}),\n",
       " 14: Component({'lithology': 'argile', 'pollutant': 'vi'}),\n",
       " 15: Component({'lithology': 'calcaire'}),\n",
       " 16: Component({'lithology': 'sable', 'pollutant': 'vr'})}"
      ]
     },
     "execution_count": 10,
     "metadata": {},
     "output_type": "execute_result"
    }
   ],
   "source": [
    "components"
   ]
  },
  {
   "cell_type": "code",
   "execution_count": 11,
   "metadata": {},
   "outputs": [
    {
     "data": {
      "text/plain": [
       "(10, 17)"
      ]
     },
     "execution_count": 11,
     "metadata": {},
     "output_type": "execute_result"
    }
   ],
   "source": [
    "len(boreholes), len(components)"
   ]
  },
  {
   "cell_type": "markdown",
   "metadata": {},
   "source": [
    "## Create a project and save data in a database"
   ]
  },
  {
   "cell_type": "code",
   "execution_count": 12,
   "metadata": {},
   "outputs": [],
   "source": [
    "remove('tmp_files/tfe_orm_db.db')"
   ]
  },
  {
   "cell_type": "code",
   "execution_count": 13,
   "metadata": {},
   "outputs": [],
   "source": [
    "engine = create_engine('sqlite:///tmp_files/tfe_orm_db.db', echo=True)"
   ]
  },
  {
   "cell_type": "code",
   "execution_count": 14,
   "metadata": {
    "scrolled": true
   },
   "outputs": [
    {
     "name": "stdout",
     "output_type": "stream",
     "text": [
      "2021-07-03 22:12:54,614 INFO sqlalchemy.engine.Engine BEGIN (implicit)\n",
      "2021-07-03 22:12:54,614 INFO sqlalchemy.engine.Engine PRAGMA main.table_info(\"Boreholes\")\n",
      "2021-07-03 22:12:54,614 INFO sqlalchemy.engine.Engine [raw sql] ()\n",
      "2021-07-03 22:12:54,615 INFO sqlalchemy.engine.Engine PRAGMA temp.table_info(\"Boreholes\")\n",
      "2021-07-03 22:12:54,615 INFO sqlalchemy.engine.Engine [raw sql] ()\n",
      "2021-07-03 22:12:54,616 INFO sqlalchemy.engine.Engine PRAGMA main.table_info(\"Positions\")\n",
      "2021-07-03 22:12:54,616 INFO sqlalchemy.engine.Engine [raw sql] ()\n",
      "2021-07-03 22:12:54,616 INFO sqlalchemy.engine.Engine PRAGMA temp.table_info(\"Positions\")\n",
      "2021-07-03 22:12:54,616 INFO sqlalchemy.engine.Engine [raw sql] ()\n",
      "2021-07-03 22:12:54,617 INFO sqlalchemy.engine.Engine PRAGMA main.table_info(\"IntervalData\")\n",
      "2021-07-03 22:12:54,617 INFO sqlalchemy.engine.Engine [raw sql] ()\n",
      "2021-07-03 22:12:54,618 INFO sqlalchemy.engine.Engine PRAGMA temp.table_info(\"IntervalData\")\n",
      "2021-07-03 22:12:54,618 INFO sqlalchemy.engine.Engine [raw sql] ()\n",
      "2021-07-03 22:12:54,618 INFO sqlalchemy.engine.Engine PRAGMA main.table_info(\"Intervals\")\n",
      "2021-07-03 22:12:54,618 INFO sqlalchemy.engine.Engine [raw sql] ()\n",
      "2021-07-03 22:12:54,619 INFO sqlalchemy.engine.Engine PRAGMA temp.table_info(\"Intervals\")\n",
      "2021-07-03 22:12:54,619 INFO sqlalchemy.engine.Engine [raw sql] ()\n",
      "2021-07-03 22:12:54,620 INFO sqlalchemy.engine.Engine PRAGMA main.table_info(\"Components\")\n",
      "2021-07-03 22:12:54,620 INFO sqlalchemy.engine.Engine [raw sql] ()\n",
      "2021-07-03 22:12:54,621 INFO sqlalchemy.engine.Engine PRAGMA temp.table_info(\"Components\")\n",
      "2021-07-03 22:12:54,621 INFO sqlalchemy.engine.Engine [raw sql] ()\n",
      "2021-07-03 22:12:54,622 INFO sqlalchemy.engine.Engine PRAGMA main.table_info(\"Linkintervalcomponent\")\n",
      "2021-07-03 22:12:54,622 INFO sqlalchemy.engine.Engine [raw sql] ()\n",
      "2021-07-03 22:12:54,622 INFO sqlalchemy.engine.Engine PRAGMA temp.table_info(\"Linkintervalcomponent\")\n",
      "2021-07-03 22:12:54,623 INFO sqlalchemy.engine.Engine [raw sql] ()\n",
      "2021-07-03 22:12:54,624 INFO sqlalchemy.engine.Engine \n",
      "CREATE TABLE \"Boreholes\" (\n",
      "\tid VARCHAR(32) NOT NULL, \n",
      "\tlength FLOAT, \n",
      "\tdiameter FLOAT, \n",
      "\tPRIMARY KEY (id)\n",
      ")\n",
      "\n",
      "\n",
      "2021-07-03 22:12:54,625 INFO sqlalchemy.engine.Engine [no key 0.00048s] ()\n",
      "2021-07-03 22:12:54,628 INFO sqlalchemy.engine.Engine \n",
      "CREATE TABLE \"Positions\" (\n",
      "\tid INTEGER NOT NULL, \n",
      "\tupper FLOAT, \n",
      "\tmiddle FLOAT, \n",
      "\tlower FLOAT, \n",
      "\tx FLOAT, \n",
      "\ty FLOAT, \n",
      "\tPRIMARY KEY (id)\n",
      ")\n",
      "\n",
      "\n",
      "2021-07-03 22:12:54,628 INFO sqlalchemy.engine.Engine [no key 0.00042s] ()\n",
      "2021-07-03 22:12:54,632 INFO sqlalchemy.engine.Engine \n",
      "CREATE TABLE \"IntervalData\" (\n",
      "\tid INTEGER NOT NULL, \n",
      "\tinterval INTEGER, \n",
      "\t\"key\" VARCHAR(32), \n",
      "\tvalue FLOAT, \n",
      "\tunits VARCHAR(32), \n",
      "\tPRIMARY KEY (id), \n",
      "\tFOREIGN KEY(interval) REFERENCES \"Intervals\" (id)\n",
      ")\n",
      "\n",
      "\n",
      "2021-07-03 22:12:54,632 INFO sqlalchemy.engine.Engine [no key 0.00084s] ()\n",
      "2021-07-03 22:12:54,636 INFO sqlalchemy.engine.Engine \n",
      "CREATE TABLE \"Intervals\" (\n",
      "\tid INTEGER NOT NULL, \n",
      "\tborehole VARCHAR(32), \n",
      "\tinterval_number INTEGER, \n",
      "\tdescription VARCHAR(32), \n",
      "\ttop_id INTEGER, \n",
      "\tbase_id INTEGER, \n",
      "\tdata_id INTEGER, \n",
      "\tPRIMARY KEY (id), \n",
      "\tFOREIGN KEY(borehole) REFERENCES \"Boreholes\" (id), \n",
      "\tFOREIGN KEY(top_id) REFERENCES \"Positions\" (id), \n",
      "\tFOREIGN KEY(base_id) REFERENCES \"Positions\" (id), \n",
      "\tFOREIGN KEY(data_id) REFERENCES \"IntervalData\" (id)\n",
      ")\n",
      "\n",
      "\n",
      "2021-07-03 22:12:54,637 INFO sqlalchemy.engine.Engine [no key 0.00064s] ()\n",
      "2021-07-03 22:12:54,641 INFO sqlalchemy.engine.Engine \n",
      "CREATE TABLE \"Components\" (\n",
      "\tid INTEGER NOT NULL, \n",
      "\tdescription VARCHAR(32), \n",
      "\tPRIMARY KEY (id)\n",
      ")\n",
      "\n",
      "\n",
      "2021-07-03 22:12:54,642 INFO sqlalchemy.engine.Engine [no key 0.00092s] ()\n",
      "2021-07-03 22:12:54,647 INFO sqlalchemy.engine.Engine \n",
      "CREATE TABLE \"Linkintervalcomponent\" (\n",
      "\tint_id INTEGER NOT NULL, \n",
      "\tcomp_id INTEGER NOT NULL, \n",
      "\textra_data VARCHAR(256), \n",
      "\tPRIMARY KEY (int_id, comp_id), \n",
      "\tFOREIGN KEY(int_id) REFERENCES \"Intervals\" (id), \n",
      "\tFOREIGN KEY(comp_id) REFERENCES \"Components\" (id)\n",
      ")\n",
      "\n",
      "\n",
      "2021-07-03 22:12:54,647 INFO sqlalchemy.engine.Engine [no key 0.00074s] ()\n",
      "2021-07-03 22:12:54,652 INFO sqlalchemy.engine.Engine COMMIT\n"
     ]
    }
   ],
   "source": [
    "Base.metadata.create_all(engine)"
   ]
  },
  {
   "cell_type": "code",
   "execution_count": 15,
   "metadata": {},
   "outputs": [],
   "source": [
    "Session = sessionmaker(bind=engine)\n",
    "session = Session()"
   ]
  },
  {
   "cell_type": "markdown",
   "metadata": {},
   "source": [
    "## Define project legend(s) and default attribute for representation"
   ]
  },
  {
   "cell_type": "code",
   "execution_count": 16,
   "metadata": {},
   "outputs": [
    {
     "name": "stdout",
     "output_type": "stream",
     "text": [
      "2021-07-03 22:12:54,666 INFO sqlalchemy.engine.Engine BEGIN (implicit)\n",
      "2021-07-03 22:12:54,669 INFO sqlalchemy.engine.Engine SELECT \"Boreholes\".id AS \"Boreholes_id\", \"Boreholes\".length AS \"Boreholes_length\", \"Boreholes\".diameter AS \"Boreholes_diameter\" \n",
      "FROM \"Boreholes\"\n",
      "2021-07-03 22:12:54,670 INFO sqlalchemy.engine.Engine [generated in 0.00094s] ()\n"
     ]
    }
   ],
   "source": [
    "p = Project(session, lexicon=lexicon_memoris, repr_attribute='lithology',\n",
    "            legend_dict={'lithology':{'legend':lithology_memoris}, 'pollutant':{'legend':pollutant_memoris}},)"
   ]
  },
  {
   "cell_type": "code",
   "execution_count": 17,
   "metadata": {},
   "outputs": [
    {
     "name": "stdout",
     "output_type": "stream",
     "text": [
      "2021-07-03 22:12:54,676 INFO sqlalchemy.engine.Engine INSERT INTO \"Components\" (id, description) VALUES (?, ?)\n",
      "2021-07-03 22:12:54,677 INFO sqlalchemy.engine.Engine [generated in 0.00121s] ((0, 'Marne, vi'), (1, 'Charbon, vs'), (2, 'Sable, vi'), (3, 'Argile, vr'), (4, 'Dolomie, vr'), (5, 'Marne, vr'), (6, 'Sable, vs'), (7, 'Argile, vs')  ... displaying 10 of 17 total bound parameter sets ...  (15, 'Calcaire'), (16, 'Sable, vr'))\n",
      "2021-07-03 22:12:54,679 INFO sqlalchemy.engine.Engine COMMIT\n",
      "2021-07-03 22:12:54,682 INFO sqlalchemy.engine.Engine BEGIN (implicit)\n",
      "2021-07-03 22:12:54,683 INFO sqlalchemy.engine.Engine SELECT \"Boreholes\".id AS \"Boreholes_id\", \"Boreholes\".length AS \"Boreholes_length\", \"Boreholes\".diameter AS \"Boreholes_diameter\" \n",
      "FROM \"Boreholes\"\n",
      "2021-07-03 22:12:54,684 INFO sqlalchemy.engine.Engine [cached since 0.01447s ago] ()\n"
     ]
    }
   ],
   "source": [
    "p.add_components(components)"
   ]
  },
  {
   "cell_type": "markdown",
   "metadata": {},
   "source": [
    "Add boreholes into the project"
   ]
  },
  {
   "cell_type": "code",
   "execution_count": 18,
   "metadata": {
    "scrolled": true
   },
   "outputs": [
    {
     "name": "stdout",
     "output_type": "stream",
     "text": [
      "2021-07-03 22:12:54,691 INFO sqlalchemy.engine.Engine INSERT INTO \"Boreholes\" (id, length, diameter) VALUES (?, ?, ?)\n",
      "2021-07-03 22:12:54,693 INFO sqlalchemy.engine.Engine [generated in 0.00142s] ('BH001', 28.0, 0.43)\n",
      "2021-07-03 22:12:54,694 INFO sqlalchemy.engine.Engine INSERT INTO \"Positions\" (id, upper, middle, lower, x, y) VALUES (?, ?, ?, ?, ?, ?)\n",
      "2021-07-03 22:12:54,695 INFO sqlalchemy.engine.Engine [generated in 0.00095s] ((0, 101.0, 101.0, 101.0, 152600.0, 121039.0), (1, 97.0, 97.0, 97.0, 152600.0, 121039.0), (2, 97.0, 97.0, 97.0, 152600.0, 121039.0), (3, 93.0, 93.0, 93.0, 152600.0, 121039.0), (4, 93.0, 93.0, 93.0, 152600.0, 121039.0), (5, 81.0, 81.0, 81.0, 152600.0, 121039.0), (6, 81.0, 81.0, 81.0, 152600.0, 121039.0), (7, 73.0, 73.0, 73.0, 152600.0, 121039.0))\n",
      "2021-07-03 22:12:54,697 INFO sqlalchemy.engine.Engine INSERT INTO \"Intervals\" (id, borehole, interval_number, description, top_id, base_id, data_id) VALUES (?, ?, ?, ?, ?, ?, ?)\n",
      "2021-07-03 22:12:54,698 INFO sqlalchemy.engine.Engine [generated in 0.00050s] ((0, 'BH001', 0, 'Sable VI', 0, 1, None), (1, 'BH001', 1, 'Argile VR', 2, 3, None), (2, 'BH001', 2, 'Marne VI', 4, 5, None), (3, 'BH001', 3, 'Charbon VS', 6, 7, None))\n",
      "2021-07-03 22:12:54,698 INFO sqlalchemy.engine.Engine COMMIT\n",
      "2021-07-03 22:12:54,702 INFO sqlalchemy.engine.Engine BEGIN (implicit)\n",
      "2021-07-03 22:12:54,702 INFO sqlalchemy.engine.Engine SELECT \"Boreholes\".id AS \"Boreholes_id\", \"Boreholes\".length AS \"Boreholes_length\", \"Boreholes\".diameter AS \"Boreholes_diameter\" \n",
      "FROM \"Boreholes\"\n",
      "2021-07-03 22:12:54,703 INFO sqlalchemy.engine.Engine [cached since 0.0333s ago] ()\n",
      "2021-07-03 22:12:54,710 INFO sqlalchemy.engine.Engine SELECT \"Intervals\".id AS \"Intervals_id\", \"Intervals\".borehole AS \"Intervals_borehole\", \"Intervals\".interval_number AS \"Intervals_interval_number\", \"Intervals\".description AS \"Intervals_description\", \"Intervals\".top_id AS \"Intervals_top_id\", \"Intervals\".base_id AS \"Intervals_base_id\", \"Intervals\".data_id AS \"Intervals_data_id\" \n",
      "FROM \"Intervals\" \n",
      "WHERE ? = \"Intervals\".borehole\n",
      "2021-07-03 22:12:54,711 INFO sqlalchemy.engine.Engine [generated in 0.00128s] ('BH001',)\n",
      "2021-07-03 22:12:54,716 INFO sqlalchemy.engine.Engine SELECT \"Positions\".id AS \"Positions_id\", \"Positions\".upper AS \"Positions_upper\", \"Positions\".middle AS \"Positions_middle\", \"Positions\".lower AS \"Positions_lower\", \"Positions\".x AS \"Positions_x\", \"Positions\".y AS \"Positions_y\" \n",
      "FROM \"Positions\" \n",
      "WHERE \"Positions\".id = ?\n",
      "2021-07-03 22:12:54,716 INFO sqlalchemy.engine.Engine [generated in 0.00059s] (0,)\n",
      "2021-07-03 22:12:54,718 INFO sqlalchemy.engine.Engine SELECT \"Positions\".id AS \"Positions_id\", \"Positions\".upper AS \"Positions_upper\", \"Positions\".middle AS \"Positions_middle\", \"Positions\".lower AS \"Positions_lower\", \"Positions\".x AS \"Positions_x\", \"Positions\".y AS \"Positions_y\" \n",
      "FROM \"Positions\" \n",
      "WHERE \"Positions\".id = ?\n",
      "2021-07-03 22:12:54,719 INFO sqlalchemy.engine.Engine [generated in 0.00074s] (1,)\n",
      "2021-07-03 22:12:54,720 INFO sqlalchemy.engine.Engine SELECT \"Positions\".id AS \"Positions_id\", \"Positions\".upper AS \"Positions_upper\", \"Positions\".middle AS \"Positions_middle\", \"Positions\".lower AS \"Positions_lower\", \"Positions\".x AS \"Positions_x\", \"Positions\".y AS \"Positions_y\" \n",
      "FROM \"Positions\" \n",
      "WHERE \"Positions\".id = ?\n",
      "2021-07-03 22:12:54,721 INFO sqlalchemy.engine.Engine [cached since 0.00514s ago] (2,)\n",
      "2021-07-03 22:12:54,723 INFO sqlalchemy.engine.Engine SELECT \"Positions\".id AS \"Positions_id\", \"Positions\".upper AS \"Positions_upper\", \"Positions\".middle AS \"Positions_middle\", \"Positions\".lower AS \"Positions_lower\", \"Positions\".x AS \"Positions_x\", \"Positions\".y AS \"Positions_y\" \n",
      "FROM \"Positions\" \n",
      "WHERE \"Positions\".id = ?\n",
      "2021-07-03 22:12:54,723 INFO sqlalchemy.engine.Engine [cached since 0.004974s ago] (3,)\n",
      "2021-07-03 22:12:54,725 INFO sqlalchemy.engine.Engine SELECT \"Positions\".id AS \"Positions_id\", \"Positions\".upper AS \"Positions_upper\", \"Positions\".middle AS \"Positions_middle\", \"Positions\".lower AS \"Positions_lower\", \"Positions\".x AS \"Positions_x\", \"Positions\".y AS \"Positions_y\" \n",
      "FROM \"Positions\" \n",
      "WHERE \"Positions\".id = ?\n",
      "2021-07-03 22:12:54,725 INFO sqlalchemy.engine.Engine [cached since 0.009374s ago] (4,)\n",
      "2021-07-03 22:12:54,726 INFO sqlalchemy.engine.Engine SELECT \"Positions\".id AS \"Positions_id\", \"Positions\".upper AS \"Positions_upper\", \"Positions\".middle AS \"Positions_middle\", \"Positions\".lower AS \"Positions_lower\", \"Positions\".x AS \"Positions_x\", \"Positions\".y AS \"Positions_y\" \n",
      "FROM \"Positions\" \n",
      "WHERE \"Positions\".id = ?\n",
      "2021-07-03 22:12:54,727 INFO sqlalchemy.engine.Engine [cached since 0.008212s ago] (5,)\n",
      "2021-07-03 22:12:54,728 INFO sqlalchemy.engine.Engine SELECT \"Positions\".id AS \"Positions_id\", \"Positions\".upper AS \"Positions_upper\", \"Positions\".middle AS \"Positions_middle\", \"Positions\".lower AS \"Positions_lower\", \"Positions\".x AS \"Positions_x\", \"Positions\".y AS \"Positions_y\" \n",
      "FROM \"Positions\" \n",
      "WHERE \"Positions\".id = ?\n",
      "2021-07-03 22:12:54,728 INFO sqlalchemy.engine.Engine [cached since 0.01266s ago] (6,)\n",
      "2021-07-03 22:12:54,731 INFO sqlalchemy.engine.Engine SELECT \"Positions\".id AS \"Positions_id\", \"Positions\".upper AS \"Positions_upper\", \"Positions\".middle AS \"Positions_middle\", \"Positions\".lower AS \"Positions_lower\", \"Positions\".x AS \"Positions_x\", \"Positions\".y AS \"Positions_y\" \n",
      "FROM \"Positions\" \n",
      "WHERE \"Positions\".id = ?\n",
      "2021-07-03 22:12:54,731 INFO sqlalchemy.engine.Engine [cached since 0.01299s ago] (7,)\n",
      "dict_keys(['lithology', 'pollutant'])\n",
      "[0, 1, 2, 3]\n",
      "Borehole geometry created successfully !\n",
      "2021-07-03 22:12:54,747 INFO sqlalchemy.engine.Engine UPDATE \"Boreholes\" SET length=? WHERE \"Boreholes\".id = ?\n",
      "2021-07-03 22:12:54,748 INFO sqlalchemy.engine.Engine [generated in 0.00071s] (97.0, 'BH001')\n",
      "2021-07-03 22:12:54,749 INFO sqlalchemy.engine.Engine INSERT INTO \"Boreholes\" (id, length, diameter) VALUES (?, ?, ?)\n",
      "2021-07-03 22:12:54,749 INFO sqlalchemy.engine.Engine [cached since 0.05812s ago] ('BH002', 37.0, 0.6)\n",
      "2021-07-03 22:12:54,750 INFO sqlalchemy.engine.Engine INSERT INTO \"Positions\" (id, upper, middle, lower, x, y) VALUES (?, ?, ?, ?, ?, ?)\n",
      "2021-07-03 22:12:54,751 INFO sqlalchemy.engine.Engine [cached since 0.05641s ago] ((8, 103.0, 103.0, 103.0, 152819.0, 121586.0), (9, 98.0, 98.0, 98.0, 152819.0, 121586.0), (10, 98.0, 98.0, 98.0, 152819.0, 121586.0), (11, 95.0, 95.0, 95.0, 152819.0, 121586.0), (12, 95.0, 95.0, 95.0, 152819.0, 121586.0), (13, 89.0, 89.0, 89.0, 152819.0, 121586.0), (14, 89.0, 89.0, 89.0, 152819.0, 121586.0), (15, 88.0, 88.0, 88.0, 152819.0, 121586.0), (16, 88.0, 88.0, 88.0, 152819.0, 121586.0), (17, 66.0, 66.0, 66.0, 152819.0, 121586.0))\n",
      "2021-07-03 22:12:54,752 INFO sqlalchemy.engine.Engine INSERT INTO \"Intervals\" (id, borehole, interval_number, description, top_id, base_id, data_id) VALUES (?, ?, ?, ?, ?, ?, ?)\n",
      "2021-07-03 22:12:54,753 INFO sqlalchemy.engine.Engine [cached since 0.05571s ago] ((4, 'BH002', 0, 'Sable VS', 8, 9, None), (5, 'BH002', 1, 'Argile VS', 10, 11, None), (6, 'BH002', 2, 'Marne VR', 12, 13, None), (7, 'BH002', 3, 'Charbon VR', 14, 15, None), (8, 'BH002', 4, 'Dolomie VR', 16, 17, None))\n",
      "2021-07-03 22:12:54,754 INFO sqlalchemy.engine.Engine COMMIT\n",
      "2021-07-03 22:12:54,757 INFO sqlalchemy.engine.Engine BEGIN (implicit)\n",
      "2021-07-03 22:12:54,758 INFO sqlalchemy.engine.Engine SELECT \"Boreholes\".id AS \"Boreholes_id\", \"Boreholes\".length AS \"Boreholes_length\", \"Boreholes\".diameter AS \"Boreholes_diameter\" \n",
      "FROM \"Boreholes\"\n",
      "2021-07-03 22:12:54,759 INFO sqlalchemy.engine.Engine [cached since 0.08948s ago] ()\n",
      "2021-07-03 22:12:54,761 INFO sqlalchemy.engine.Engine SELECT \"Intervals\".id AS \"Intervals_id\", \"Intervals\".borehole AS \"Intervals_borehole\", \"Intervals\".interval_number AS \"Intervals_interval_number\", \"Intervals\".description AS \"Intervals_description\", \"Intervals\".top_id AS \"Intervals_top_id\", \"Intervals\".base_id AS \"Intervals_base_id\", \"Intervals\".data_id AS \"Intervals_data_id\" \n",
      "FROM \"Intervals\" \n",
      "WHERE ? = \"Intervals\".borehole\n",
      "2021-07-03 22:12:54,761 INFO sqlalchemy.engine.Engine [cached since 0.05144s ago] ('BH002',)\n",
      "2021-07-03 22:12:54,763 INFO sqlalchemy.engine.Engine SELECT \"Positions\".id AS \"Positions_id\", \"Positions\".upper AS \"Positions_upper\", \"Positions\".middle AS \"Positions_middle\", \"Positions\".lower AS \"Positions_lower\", \"Positions\".x AS \"Positions_x\", \"Positions\".y AS \"Positions_y\" \n",
      "FROM \"Positions\" \n",
      "WHERE \"Positions\".id = ?\n"
     ]
    },
    {
     "name": "stdout",
     "output_type": "stream",
     "text": [
      "2021-07-03 22:12:54,764 INFO sqlalchemy.engine.Engine [cached since 0.04842s ago] (8,)\n",
      "2021-07-03 22:12:54,766 INFO sqlalchemy.engine.Engine SELECT \"Positions\".id AS \"Positions_id\", \"Positions\".upper AS \"Positions_upper\", \"Positions\".middle AS \"Positions_middle\", \"Positions\".lower AS \"Positions_lower\", \"Positions\".x AS \"Positions_x\", \"Positions\".y AS \"Positions_y\" \n",
      "FROM \"Positions\" \n",
      "WHERE \"Positions\".id = ?\n",
      "2021-07-03 22:12:54,766 INFO sqlalchemy.engine.Engine [cached since 0.04788s ago] (9,)\n",
      "2021-07-03 22:12:54,768 INFO sqlalchemy.engine.Engine SELECT \"Positions\".id AS \"Positions_id\", \"Positions\".upper AS \"Positions_upper\", \"Positions\".middle AS \"Positions_middle\", \"Positions\".lower AS \"Positions_lower\", \"Positions\".x AS \"Positions_x\", \"Positions\".y AS \"Positions_y\" \n",
      "FROM \"Positions\" \n",
      "WHERE \"Positions\".id = ?\n",
      "2021-07-03 22:12:54,769 INFO sqlalchemy.engine.Engine [cached since 0.05293s ago] (10,)\n",
      "2021-07-03 22:12:54,770 INFO sqlalchemy.engine.Engine SELECT \"Positions\".id AS \"Positions_id\", \"Positions\".upper AS \"Positions_upper\", \"Positions\".middle AS \"Positions_middle\", \"Positions\".lower AS \"Positions_lower\", \"Positions\".x AS \"Positions_x\", \"Positions\".y AS \"Positions_y\" \n",
      "FROM \"Positions\" \n",
      "WHERE \"Positions\".id = ?\n",
      "2021-07-03 22:12:54,771 INFO sqlalchemy.engine.Engine [cached since 0.05218s ago] (11,)\n",
      "2021-07-03 22:12:54,773 INFO sqlalchemy.engine.Engine SELECT \"Positions\".id AS \"Positions_id\", \"Positions\".upper AS \"Positions_upper\", \"Positions\".middle AS \"Positions_middle\", \"Positions\".lower AS \"Positions_lower\", \"Positions\".x AS \"Positions_x\", \"Positions\".y AS \"Positions_y\" \n",
      "FROM \"Positions\" \n",
      "WHERE \"Positions\".id = ?\n",
      "2021-07-03 22:12:54,773 INFO sqlalchemy.engine.Engine [cached since 0.05763s ago] (12,)\n",
      "2021-07-03 22:12:54,775 INFO sqlalchemy.engine.Engine SELECT \"Positions\".id AS \"Positions_id\", \"Positions\".upper AS \"Positions_upper\", \"Positions\".middle AS \"Positions_middle\", \"Positions\".lower AS \"Positions_lower\", \"Positions\".x AS \"Positions_x\", \"Positions\".y AS \"Positions_y\" \n",
      "FROM \"Positions\" \n",
      "WHERE \"Positions\".id = ?\n",
      "2021-07-03 22:12:54,776 INFO sqlalchemy.engine.Engine [cached since 0.05764s ago] (13,)\n",
      "2021-07-03 22:12:54,778 INFO sqlalchemy.engine.Engine SELECT \"Positions\".id AS \"Positions_id\", \"Positions\".upper AS \"Positions_upper\", \"Positions\".middle AS \"Positions_middle\", \"Positions\".lower AS \"Positions_lower\", \"Positions\".x AS \"Positions_x\", \"Positions\".y AS \"Positions_y\" \n",
      "FROM \"Positions\" \n",
      "WHERE \"Positions\".id = ?\n",
      "2021-07-03 22:12:54,779 INFO sqlalchemy.engine.Engine [cached since 0.06299s ago] (14,)\n",
      "2021-07-03 22:12:54,781 INFO sqlalchemy.engine.Engine SELECT \"Positions\".id AS \"Positions_id\", \"Positions\".upper AS \"Positions_upper\", \"Positions\".middle AS \"Positions_middle\", \"Positions\".lower AS \"Positions_lower\", \"Positions\".x AS \"Positions_x\", \"Positions\".y AS \"Positions_y\" \n",
      "FROM \"Positions\" \n",
      "WHERE \"Positions\".id = ?\n",
      "2021-07-03 22:12:54,781 INFO sqlalchemy.engine.Engine [cached since 0.06311s ago] (15,)\n",
      "2021-07-03 22:12:54,783 INFO sqlalchemy.engine.Engine SELECT \"Positions\".id AS \"Positions_id\", \"Positions\".upper AS \"Positions_upper\", \"Positions\".middle AS \"Positions_middle\", \"Positions\".lower AS \"Positions_lower\", \"Positions\".x AS \"Positions_x\", \"Positions\".y AS \"Positions_y\" \n",
      "FROM \"Positions\" \n",
      "WHERE \"Positions\".id = ?\n",
      "2021-07-03 22:12:54,784 INFO sqlalchemy.engine.Engine [cached since 0.06822s ago] (16,)\n",
      "2021-07-03 22:12:54,786 INFO sqlalchemy.engine.Engine SELECT \"Positions\".id AS \"Positions_id\", \"Positions\".upper AS \"Positions_upper\", \"Positions\".middle AS \"Positions_middle\", \"Positions\".lower AS \"Positions_lower\", \"Positions\".x AS \"Positions_x\", \"Positions\".y AS \"Positions_y\" \n",
      "FROM \"Positions\" \n",
      "WHERE \"Positions\".id = ?\n",
      "2021-07-03 22:12:54,786 INFO sqlalchemy.engine.Engine [cached since 0.06785s ago] (17,)\n",
      "dict_keys(['lithology', 'pollutant'])\n",
      "[0, 1, 2, 3, 4]\n",
      "Borehole geometry created successfully !\n",
      "2021-07-03 22:12:54,797 INFO sqlalchemy.engine.Engine UPDATE \"Boreholes\" SET length=? WHERE \"Boreholes\".id = ?\n",
      "2021-07-03 22:12:54,798 INFO sqlalchemy.engine.Engine [cached since 0.05037s ago] (98.0, 'BH002')\n",
      "2021-07-03 22:12:54,799 INFO sqlalchemy.engine.Engine INSERT INTO \"Boreholes\" (id, length, diameter) VALUES (?, ?, ?)\n",
      "2021-07-03 22:12:54,799 INFO sqlalchemy.engine.Engine [cached since 0.1078s ago] ('BH003', 18.0, 0.41)\n",
      "2021-07-03 22:12:54,800 INFO sqlalchemy.engine.Engine INSERT INTO \"Positions\" (id, upper, middle, lower, x, y) VALUES (?, ?, ?, ?, ?, ?)\n",
      "2021-07-03 22:12:54,800 INFO sqlalchemy.engine.Engine [cached since 0.1061s ago] ((18, 103.0, 103.0, 103.0, 152922.0, 121313.0), (19, 100.0, 100.0, 100.0, 152922.0, 121313.0), (20, 100.0, 100.0, 100.0, 152922.0, 121313.0), (21, 97.0, 97.0, 97.0, 152922.0, 121313.0), (22, 97.0, 97.0, 97.0, 152922.0, 121313.0), (23, 94.0, 94.0, 94.0, 152922.0, 121313.0), (24, 94.0, 94.0, 94.0, 152922.0, 121313.0), (25, 90.0, 90.0, 90.0, 152922.0, 121313.0), (26, 90.0, 90.0, 90.0, 152922.0, 121313.0), (27, 85.0, 85.0, 85.0, 152922.0, 121313.0))\n",
      "2021-07-03 22:12:54,801 INFO sqlalchemy.engine.Engine INSERT INTO \"Intervals\" (id, borehole, interval_number, description, top_id, base_id, data_id) VALUES (?, ?, ?, ?, ?, ?, ?)\n",
      "2021-07-03 22:12:54,802 INFO sqlalchemy.engine.Engine [cached since 0.1047s ago] ((9, 'BH003', 0, 'Sable VS', 18, 19, None), (10, 'BH003', 1, 'Argile VR', 20, 21, None), (11, 'BH003', 2, 'Marne VS', 22, 23, None), (12, 'BH003', 3, 'Charbon VI', 24, 25, None), (13, 'BH003', 4, 'Dolomie VR', 26, 27, None))\n",
      "2021-07-03 22:12:54,802 INFO sqlalchemy.engine.Engine COMMIT\n",
      "2021-07-03 22:12:54,806 INFO sqlalchemy.engine.Engine BEGIN (implicit)\n",
      "2021-07-03 22:12:54,806 INFO sqlalchemy.engine.Engine SELECT \"Boreholes\".id AS \"Boreholes_id\", \"Boreholes\".length AS \"Boreholes_length\", \"Boreholes\".diameter AS \"Boreholes_diameter\" \n",
      "FROM \"Boreholes\"\n",
      "2021-07-03 22:12:54,807 INFO sqlalchemy.engine.Engine [cached since 0.1373s ago] ()\n",
      "2021-07-03 22:12:54,808 INFO sqlalchemy.engine.Engine SELECT \"Intervals\".id AS \"Intervals_id\", \"Intervals\".borehole AS \"Intervals_borehole\", \"Intervals\".interval_number AS \"Intervals_interval_number\", \"Intervals\".description AS \"Intervals_description\", \"Intervals\".top_id AS \"Intervals_top_id\", \"Intervals\".base_id AS \"Intervals_base_id\", \"Intervals\".data_id AS \"Intervals_data_id\" \n",
      "FROM \"Intervals\" \n",
      "WHERE ? = \"Intervals\".borehole\n",
      "2021-07-03 22:12:54,809 INFO sqlalchemy.engine.Engine [cached since 0.09893s ago] ('BH003',)\n",
      "2021-07-03 22:12:54,811 INFO sqlalchemy.engine.Engine SELECT \"Positions\".id AS \"Positions_id\", \"Positions\".upper AS \"Positions_upper\", \"Positions\".middle AS \"Positions_middle\", \"Positions\".lower AS \"Positions_lower\", \"Positions\".x AS \"Positions_x\", \"Positions\".y AS \"Positions_y\" \n",
      "FROM \"Positions\" \n",
      "WHERE \"Positions\".id = ?\n",
      "2021-07-03 22:12:54,811 INFO sqlalchemy.engine.Engine [cached since 0.09558s ago] (18,)\n",
      "2021-07-03 22:12:54,813 INFO sqlalchemy.engine.Engine SELECT \"Positions\".id AS \"Positions_id\", \"Positions\".upper AS \"Positions_upper\", \"Positions\".middle AS \"Positions_middle\", \"Positions\".lower AS \"Positions_lower\", \"Positions\".x AS \"Positions_x\", \"Positions\".y AS \"Positions_y\" \n",
      "FROM \"Positions\" \n",
      "WHERE \"Positions\".id = ?\n",
      "2021-07-03 22:12:54,814 INFO sqlalchemy.engine.Engine [cached since 0.09563s ago] (19,)\n",
      "2021-07-03 22:12:54,816 INFO sqlalchemy.engine.Engine SELECT \"Positions\".id AS \"Positions_id\", \"Positions\".upper AS \"Positions_upper\", \"Positions\".middle AS \"Positions_middle\", \"Positions\".lower AS \"Positions_lower\", \"Positions\".x AS \"Positions_x\", \"Positions\".y AS \"Positions_y\" \n",
      "FROM \"Positions\" \n",
      "WHERE \"Positions\".id = ?\n",
      "2021-07-03 22:12:54,817 INFO sqlalchemy.engine.Engine [cached since 0.101s ago] (20,)\n",
      "2021-07-03 22:12:54,818 INFO sqlalchemy.engine.Engine SELECT \"Positions\".id AS \"Positions_id\", \"Positions\".upper AS \"Positions_upper\", \"Positions\".middle AS \"Positions_middle\", \"Positions\".lower AS \"Positions_lower\", \"Positions\".x AS \"Positions_x\", \"Positions\".y AS \"Positions_y\" \n",
      "FROM \"Positions\" \n",
      "WHERE \"Positions\".id = ?\n",
      "2021-07-03 22:12:54,819 INFO sqlalchemy.engine.Engine [cached since 0.1002s ago] (21,)\n",
      "2021-07-03 22:12:54,820 INFO sqlalchemy.engine.Engine SELECT \"Positions\".id AS \"Positions_id\", \"Positions\".upper AS \"Positions_upper\", \"Positions\".middle AS \"Positions_middle\", \"Positions\".lower AS \"Positions_lower\", \"Positions\".x AS \"Positions_x\", \"Positions\".y AS \"Positions_y\" \n",
      "FROM \"Positions\" \n",
      "WHERE \"Positions\".id = ?\n"
     ]
    },
    {
     "name": "stdout",
     "output_type": "stream",
     "text": [
      "2021-07-03 22:12:54,821 INFO sqlalchemy.engine.Engine [cached since 0.1053s ago] (22,)\n",
      "2021-07-03 22:12:54,822 INFO sqlalchemy.engine.Engine SELECT \"Positions\".id AS \"Positions_id\", \"Positions\".upper AS \"Positions_upper\", \"Positions\".middle AS \"Positions_middle\", \"Positions\".lower AS \"Positions_lower\", \"Positions\".x AS \"Positions_x\", \"Positions\".y AS \"Positions_y\" \n",
      "FROM \"Positions\" \n",
      "WHERE \"Positions\".id = ?\n",
      "2021-07-03 22:12:54,823 INFO sqlalchemy.engine.Engine [cached since 0.1047s ago] (23,)\n",
      "2021-07-03 22:12:54,825 INFO sqlalchemy.engine.Engine SELECT \"Positions\".id AS \"Positions_id\", \"Positions\".upper AS \"Positions_upper\", \"Positions\".middle AS \"Positions_middle\", \"Positions\".lower AS \"Positions_lower\", \"Positions\".x AS \"Positions_x\", \"Positions\".y AS \"Positions_y\" \n",
      "FROM \"Positions\" \n",
      "WHERE \"Positions\".id = ?\n",
      "2021-07-03 22:12:54,826 INFO sqlalchemy.engine.Engine [cached since 0.1098s ago] (24,)\n",
      "2021-07-03 22:12:54,826 INFO sqlalchemy.engine.Engine SELECT \"Positions\".id AS \"Positions_id\", \"Positions\".upper AS \"Positions_upper\", \"Positions\".middle AS \"Positions_middle\", \"Positions\".lower AS \"Positions_lower\", \"Positions\".x AS \"Positions_x\", \"Positions\".y AS \"Positions_y\" \n",
      "FROM \"Positions\" \n",
      "WHERE \"Positions\".id = ?\n",
      "2021-07-03 22:12:54,827 INFO sqlalchemy.engine.Engine [cached since 0.1085s ago] (25,)\n",
      "2021-07-03 22:12:54,828 INFO sqlalchemy.engine.Engine SELECT \"Positions\".id AS \"Positions_id\", \"Positions\".upper AS \"Positions_upper\", \"Positions\".middle AS \"Positions_middle\", \"Positions\".lower AS \"Positions_lower\", \"Positions\".x AS \"Positions_x\", \"Positions\".y AS \"Positions_y\" \n",
      "FROM \"Positions\" \n",
      "WHERE \"Positions\".id = ?\n",
      "2021-07-03 22:12:54,829 INFO sqlalchemy.engine.Engine [cached since 0.1131s ago] (26,)\n",
      "2021-07-03 22:12:54,830 INFO sqlalchemy.engine.Engine SELECT \"Positions\".id AS \"Positions_id\", \"Positions\".upper AS \"Positions_upper\", \"Positions\".middle AS \"Positions_middle\", \"Positions\".lower AS \"Positions_lower\", \"Positions\".x AS \"Positions_x\", \"Positions\".y AS \"Positions_y\" \n",
      "FROM \"Positions\" \n",
      "WHERE \"Positions\".id = ?\n",
      "2021-07-03 22:12:54,830 INFO sqlalchemy.engine.Engine [cached since 0.112s ago] (27,)\n",
      "dict_keys(['lithology', 'pollutant'])\n",
      "[0, 1, 2, 3, 4]\n",
      "Borehole geometry created successfully !\n",
      "2021-07-03 22:12:54,844 INFO sqlalchemy.engine.Engine UPDATE \"Boreholes\" SET length=? WHERE \"Boreholes\".id = ?\n",
      "2021-07-03 22:12:54,845 INFO sqlalchemy.engine.Engine [cached since 0.09734s ago] (100.0, 'BH003')\n",
      "2021-07-03 22:12:54,846 INFO sqlalchemy.engine.Engine INSERT INTO \"Boreholes\" (id, length, diameter) VALUES (?, ?, ?)\n",
      "2021-07-03 22:12:54,846 INFO sqlalchemy.engine.Engine [cached since 0.1552s ago] ('BH004', 26.0, 0.61)\n",
      "2021-07-03 22:12:54,848 INFO sqlalchemy.engine.Engine INSERT INTO \"Positions\" (id, upper, middle, lower, x, y) VALUES (?, ?, ?, ?, ?, ?)\n",
      "2021-07-03 22:12:54,848 INFO sqlalchemy.engine.Engine [cached since 0.1538s ago] ((28, 101.0, 101.0, 101.0, 152766.0, 121494.0), (29, 96.0, 96.0, 96.0, 152766.0, 121494.0), (30, 96.0, 96.0, 96.0, 152766.0, 121494.0), (31, 94.0, 94.0, 94.0, 152766.0, 121494.0), (32, 94.0, 94.0, 94.0, 152766.0, 121494.0), (33, 87.0, 87.0, 87.0, 152766.0, 121494.0), (34, 87.0, 87.0, 87.0, 152766.0, 121494.0), (35, 85.0, 85.0, 85.0, 152766.0, 121494.0), (36, 85.0, 85.0, 85.0, 152766.0, 121494.0), (37, 75.0, 75.0, 75.0, 152766.0, 121494.0))\n",
      "2021-07-03 22:12:54,849 INFO sqlalchemy.engine.Engine INSERT INTO \"Intervals\" (id, borehole, interval_number, description, top_id, base_id, data_id) VALUES (?, ?, ?, ?, ?, ?, ?)\n",
      "2021-07-03 22:12:54,849 INFO sqlalchemy.engine.Engine [cached since 0.1523s ago] ((14, 'BH004', 0, 'Sable VI', 28, 29, None), (15, 'BH004', 1, 'Argile VR', 30, 31, None), (16, 'BH004', 2, 'Marne VR', 32, 33, None), (17, 'BH004', 3, 'Charbon VS', 34, 35, None), (18, 'BH004', 4, 'Dolomie VS', 36, 37, None))\n",
      "2021-07-03 22:12:54,850 INFO sqlalchemy.engine.Engine COMMIT\n",
      "2021-07-03 22:12:54,854 INFO sqlalchemy.engine.Engine BEGIN (implicit)\n",
      "2021-07-03 22:12:54,855 INFO sqlalchemy.engine.Engine SELECT \"Boreholes\".id AS \"Boreholes_id\", \"Boreholes\".length AS \"Boreholes_length\", \"Boreholes\".diameter AS \"Boreholes_diameter\" \n",
      "FROM \"Boreholes\"\n",
      "2021-07-03 22:12:54,856 INFO sqlalchemy.engine.Engine [cached since 0.1867s ago] ()\n",
      "2021-07-03 22:12:54,859 INFO sqlalchemy.engine.Engine SELECT \"Intervals\".id AS \"Intervals_id\", \"Intervals\".borehole AS \"Intervals_borehole\", \"Intervals\".interval_number AS \"Intervals_interval_number\", \"Intervals\".description AS \"Intervals_description\", \"Intervals\".top_id AS \"Intervals_top_id\", \"Intervals\".base_id AS \"Intervals_base_id\", \"Intervals\".data_id AS \"Intervals_data_id\" \n",
      "FROM \"Intervals\" \n",
      "WHERE ? = \"Intervals\".borehole\n",
      "2021-07-03 22:12:54,859 INFO sqlalchemy.engine.Engine [cached since 0.1493s ago] ('BH004',)\n",
      "2021-07-03 22:12:54,862 INFO sqlalchemy.engine.Engine SELECT \"Positions\".id AS \"Positions_id\", \"Positions\".upper AS \"Positions_upper\", \"Positions\".middle AS \"Positions_middle\", \"Positions\".lower AS \"Positions_lower\", \"Positions\".x AS \"Positions_x\", \"Positions\".y AS \"Positions_y\" \n",
      "FROM \"Positions\" \n",
      "WHERE \"Positions\".id = ?\n",
      "2021-07-03 22:12:54,862 INFO sqlalchemy.engine.Engine [cached since 0.1465s ago] (28,)\n",
      "2021-07-03 22:12:54,864 INFO sqlalchemy.engine.Engine SELECT \"Positions\".id AS \"Positions_id\", \"Positions\".upper AS \"Positions_upper\", \"Positions\".middle AS \"Positions_middle\", \"Positions\".lower AS \"Positions_lower\", \"Positions\".x AS \"Positions_x\", \"Positions\".y AS \"Positions_y\" \n",
      "FROM \"Positions\" \n",
      "WHERE \"Positions\".id = ?\n",
      "2021-07-03 22:12:54,865 INFO sqlalchemy.engine.Engine [cached since 0.1465s ago] (29,)\n",
      "2021-07-03 22:12:54,866 INFO sqlalchemy.engine.Engine SELECT \"Positions\".id AS \"Positions_id\", \"Positions\".upper AS \"Positions_upper\", \"Positions\".middle AS \"Positions_middle\", \"Positions\".lower AS \"Positions_lower\", \"Positions\".x AS \"Positions_x\", \"Positions\".y AS \"Positions_y\" \n",
      "FROM \"Positions\" \n",
      "WHERE \"Positions\".id = ?\n",
      "2021-07-03 22:12:54,866 INFO sqlalchemy.engine.Engine [cached since 0.1506s ago] (30,)\n",
      "2021-07-03 22:12:54,868 INFO sqlalchemy.engine.Engine SELECT \"Positions\".id AS \"Positions_id\", \"Positions\".upper AS \"Positions_upper\", \"Positions\".middle AS \"Positions_middle\", \"Positions\".lower AS \"Positions_lower\", \"Positions\".x AS \"Positions_x\", \"Positions\".y AS \"Positions_y\" \n",
      "FROM \"Positions\" \n",
      "WHERE \"Positions\".id = ?\n",
      "2021-07-03 22:12:54,868 INFO sqlalchemy.engine.Engine [cached since 0.1497s ago] (31,)\n",
      "2021-07-03 22:12:54,869 INFO sqlalchemy.engine.Engine SELECT \"Positions\".id AS \"Positions_id\", \"Positions\".upper AS \"Positions_upper\", \"Positions\".middle AS \"Positions_middle\", \"Positions\".lower AS \"Positions_lower\", \"Positions\".x AS \"Positions_x\", \"Positions\".y AS \"Positions_y\" \n",
      "FROM \"Positions\" \n",
      "WHERE \"Positions\".id = ?\n",
      "2021-07-03 22:12:54,869 INFO sqlalchemy.engine.Engine [cached since 0.1537s ago] (32,)\n",
      "2021-07-03 22:12:54,870 INFO sqlalchemy.engine.Engine SELECT \"Positions\".id AS \"Positions_id\", \"Positions\".upper AS \"Positions_upper\", \"Positions\".middle AS \"Positions_middle\", \"Positions\".lower AS \"Positions_lower\", \"Positions\".x AS \"Positions_x\", \"Positions\".y AS \"Positions_y\" \n",
      "FROM \"Positions\" \n",
      "WHERE \"Positions\".id = ?\n",
      "2021-07-03 22:12:54,871 INFO sqlalchemy.engine.Engine [cached since 0.1523s ago] (33,)\n",
      "2021-07-03 22:12:54,872 INFO sqlalchemy.engine.Engine SELECT \"Positions\".id AS \"Positions_id\", \"Positions\".upper AS \"Positions_upper\", \"Positions\".middle AS \"Positions_middle\", \"Positions\".lower AS \"Positions_lower\", \"Positions\".x AS \"Positions_x\", \"Positions\".y AS \"Positions_y\" \n",
      "FROM \"Positions\" \n",
      "WHERE \"Positions\".id = ?\n",
      "2021-07-03 22:12:54,873 INFO sqlalchemy.engine.Engine [cached since 0.1572s ago] (34,)\n",
      "2021-07-03 22:12:54,874 INFO sqlalchemy.engine.Engine SELECT \"Positions\".id AS \"Positions_id\", \"Positions\".upper AS \"Positions_upper\", \"Positions\".middle AS \"Positions_middle\", \"Positions\".lower AS \"Positions_lower\", \"Positions\".x AS \"Positions_x\", \"Positions\".y AS \"Positions_y\" \n",
      "FROM \"Positions\" \n",
      "WHERE \"Positions\".id = ?\n",
      "2021-07-03 22:12:54,875 INFO sqlalchemy.engine.Engine [cached since 0.1564s ago] (35,)\n",
      "2021-07-03 22:12:54,876 INFO sqlalchemy.engine.Engine SELECT \"Positions\".id AS \"Positions_id\", \"Positions\".upper AS \"Positions_upper\", \"Positions\".middle AS \"Positions_middle\", \"Positions\".lower AS \"Positions_lower\", \"Positions\".x AS \"Positions_x\", \"Positions\".y AS \"Positions_y\" \n",
      "FROM \"Positions\" \n",
      "WHERE \"Positions\".id = ?\n"
     ]
    },
    {
     "name": "stdout",
     "output_type": "stream",
     "text": [
      "2021-07-03 22:12:54,877 INFO sqlalchemy.engine.Engine [cached since 0.1608s ago] (36,)\n",
      "2021-07-03 22:12:54,878 INFO sqlalchemy.engine.Engine SELECT \"Positions\".id AS \"Positions_id\", \"Positions\".upper AS \"Positions_upper\", \"Positions\".middle AS \"Positions_middle\", \"Positions\".lower AS \"Positions_lower\", \"Positions\".x AS \"Positions_x\", \"Positions\".y AS \"Positions_y\" \n",
      "FROM \"Positions\" \n",
      "WHERE \"Positions\".id = ?\n",
      "2021-07-03 22:12:54,878 INFO sqlalchemy.engine.Engine [cached since 0.1598s ago] (37,)\n",
      "dict_keys(['lithology', 'pollutant'])\n",
      "[0, 1, 2, 3, 4]\n",
      "Borehole geometry created successfully !\n",
      "2021-07-03 22:12:54,887 INFO sqlalchemy.engine.Engine UPDATE \"Boreholes\" SET length=? WHERE \"Boreholes\".id = ?\n",
      "2021-07-03 22:12:54,887 INFO sqlalchemy.engine.Engine [cached since 0.14s ago] (96.0, 'BH004')\n",
      "2021-07-03 22:12:54,889 INFO sqlalchemy.engine.Engine INSERT INTO \"Boreholes\" (id, length, diameter) VALUES (?, ?, ?)\n",
      "2021-07-03 22:12:54,889 INFO sqlalchemy.engine.Engine [cached since 0.198s ago] ('BH005', 32.0, 0.61)\n",
      "2021-07-03 22:12:54,890 INFO sqlalchemy.engine.Engine INSERT INTO \"Positions\" (id, upper, middle, lower, x, y) VALUES (?, ?, ?, ?, ?, ?)\n",
      "2021-07-03 22:12:54,891 INFO sqlalchemy.engine.Engine [cached since 0.1962s ago] ((38, 101.0, 101.0, 101.0, 152473.0, 121460.0), (39, 97.0, 97.0, 97.0, 152473.0, 121460.0), (40, 97.0, 97.0, 97.0, 152473.0, 121460.0), (41, 93.0, 93.0, 93.0, 152473.0, 121460.0), (42, 93.0, 93.0, 93.0, 152473.0, 121460.0), (43, 82.0, 82.0, 82.0, 152473.0, 121460.0), (44, 82.0, 82.0, 82.0, 152473.0, 121460.0), (45, 74.0, 74.0, 74.0, 152473.0, 121460.0)  ... displaying 10 of 12 total bound parameter sets ...  (48, 72.0, 72.0, 72.0, 152473.0, 121460.0), (49, 69.0, 69.0, 69.0, 152473.0, 121460.0))\n",
      "2021-07-03 22:12:54,892 INFO sqlalchemy.engine.Engine INSERT INTO \"Intervals\" (id, borehole, interval_number, description, top_id, base_id, data_id) VALUES (?, ?, ?, ?, ?, ?, ?)\n",
      "2021-07-03 22:12:54,892 INFO sqlalchemy.engine.Engine [cached since 0.195s ago] ((19, 'BH005', 0, 'Sable VI', 38, 39, None), (20, 'BH005', 1, 'Argile VS', 40, 41, None), (21, 'BH005', 2, 'Marne VI', 42, 43, None), (22, 'BH005', 3, 'Charbon VS', 44, 45, None), (23, 'BH005', 4, 'Dolomie VI', 46, 47, None), (24, 'BH005', 5, 'Schiste Cl', 48, 49, None))\n",
      "2021-07-03 22:12:54,893 INFO sqlalchemy.engine.Engine COMMIT\n",
      "2021-07-03 22:12:54,897 INFO sqlalchemy.engine.Engine BEGIN (implicit)\n",
      "2021-07-03 22:12:54,898 INFO sqlalchemy.engine.Engine SELECT \"Boreholes\".id AS \"Boreholes_id\", \"Boreholes\".length AS \"Boreholes_length\", \"Boreholes\".diameter AS \"Boreholes_diameter\" \n",
      "FROM \"Boreholes\"\n",
      "2021-07-03 22:12:54,898 INFO sqlalchemy.engine.Engine [cached since 0.2289s ago] ()\n",
      "2021-07-03 22:12:54,900 INFO sqlalchemy.engine.Engine SELECT \"Intervals\".id AS \"Intervals_id\", \"Intervals\".borehole AS \"Intervals_borehole\", \"Intervals\".interval_number AS \"Intervals_interval_number\", \"Intervals\".description AS \"Intervals_description\", \"Intervals\".top_id AS \"Intervals_top_id\", \"Intervals\".base_id AS \"Intervals_base_id\", \"Intervals\".data_id AS \"Intervals_data_id\" \n",
      "FROM \"Intervals\" \n",
      "WHERE ? = \"Intervals\".borehole\n",
      "2021-07-03 22:12:54,900 INFO sqlalchemy.engine.Engine [cached since 0.1903s ago] ('BH005',)\n",
      "2021-07-03 22:12:54,902 INFO sqlalchemy.engine.Engine SELECT \"Positions\".id AS \"Positions_id\", \"Positions\".upper AS \"Positions_upper\", \"Positions\".middle AS \"Positions_middle\", \"Positions\".lower AS \"Positions_lower\", \"Positions\".x AS \"Positions_x\", \"Positions\".y AS \"Positions_y\" \n",
      "FROM \"Positions\" \n",
      "WHERE \"Positions\".id = ?\n",
      "2021-07-03 22:12:54,903 INFO sqlalchemy.engine.Engine [cached since 0.1868s ago] (38,)\n",
      "2021-07-03 22:12:54,905 INFO sqlalchemy.engine.Engine SELECT \"Positions\".id AS \"Positions_id\", \"Positions\".upper AS \"Positions_upper\", \"Positions\".middle AS \"Positions_middle\", \"Positions\".lower AS \"Positions_lower\", \"Positions\".x AS \"Positions_x\", \"Positions\".y AS \"Positions_y\" \n",
      "FROM \"Positions\" \n",
      "WHERE \"Positions\".id = ?\n",
      "2021-07-03 22:12:54,906 INFO sqlalchemy.engine.Engine [cached since 0.1876s ago] (39,)\n",
      "2021-07-03 22:12:54,908 INFO sqlalchemy.engine.Engine SELECT \"Positions\".id AS \"Positions_id\", \"Positions\".upper AS \"Positions_upper\", \"Positions\".middle AS \"Positions_middle\", \"Positions\".lower AS \"Positions_lower\", \"Positions\".x AS \"Positions_x\", \"Positions\".y AS \"Positions_y\" \n",
      "FROM \"Positions\" \n",
      "WHERE \"Positions\".id = ?\n",
      "2021-07-03 22:12:54,909 INFO sqlalchemy.engine.Engine [cached since 0.1928s ago] (40,)\n",
      "2021-07-03 22:12:54,910 INFO sqlalchemy.engine.Engine SELECT \"Positions\".id AS \"Positions_id\", \"Positions\".upper AS \"Positions_upper\", \"Positions\".middle AS \"Positions_middle\", \"Positions\".lower AS \"Positions_lower\", \"Positions\".x AS \"Positions_x\", \"Positions\".y AS \"Positions_y\" \n",
      "FROM \"Positions\" \n",
      "WHERE \"Positions\".id = ?\n",
      "2021-07-03 22:12:54,911 INFO sqlalchemy.engine.Engine [cached since 0.1923s ago] (41,)\n",
      "2021-07-03 22:12:54,913 INFO sqlalchemy.engine.Engine SELECT \"Positions\".id AS \"Positions_id\", \"Positions\".upper AS \"Positions_upper\", \"Positions\".middle AS \"Positions_middle\", \"Positions\".lower AS \"Positions_lower\", \"Positions\".x AS \"Positions_x\", \"Positions\".y AS \"Positions_y\" \n",
      "FROM \"Positions\" \n",
      "WHERE \"Positions\".id = ?\n",
      "2021-07-03 22:12:54,913 INFO sqlalchemy.engine.Engine [cached since 0.1975s ago] (42,)\n",
      "2021-07-03 22:12:54,914 INFO sqlalchemy.engine.Engine SELECT \"Positions\".id AS \"Positions_id\", \"Positions\".upper AS \"Positions_upper\", \"Positions\".middle AS \"Positions_middle\", \"Positions\".lower AS \"Positions_lower\", \"Positions\".x AS \"Positions_x\", \"Positions\".y AS \"Positions_y\" \n",
      "FROM \"Positions\" \n",
      "WHERE \"Positions\".id = ?\n",
      "2021-07-03 22:12:54,915 INFO sqlalchemy.engine.Engine [cached since 0.1967s ago] (43,)\n",
      "2021-07-03 22:12:54,916 INFO sqlalchemy.engine.Engine SELECT \"Positions\".id AS \"Positions_id\", \"Positions\".upper AS \"Positions_upper\", \"Positions\".middle AS \"Positions_middle\", \"Positions\".lower AS \"Positions_lower\", \"Positions\".x AS \"Positions_x\", \"Positions\".y AS \"Positions_y\" \n",
      "FROM \"Positions\" \n",
      "WHERE \"Positions\".id = ?\n",
      "2021-07-03 22:12:54,917 INFO sqlalchemy.engine.Engine [cached since 0.201s ago] (44,)\n",
      "2021-07-03 22:12:54,918 INFO sqlalchemy.engine.Engine SELECT \"Positions\".id AS \"Positions_id\", \"Positions\".upper AS \"Positions_upper\", \"Positions\".middle AS \"Positions_middle\", \"Positions\".lower AS \"Positions_lower\", \"Positions\".x AS \"Positions_x\", \"Positions\".y AS \"Positions_y\" \n",
      "FROM \"Positions\" \n",
      "WHERE \"Positions\".id = ?\n",
      "2021-07-03 22:12:54,918 INFO sqlalchemy.engine.Engine [cached since 0.1997s ago] (45,)\n",
      "2021-07-03 22:12:54,919 INFO sqlalchemy.engine.Engine SELECT \"Positions\".id AS \"Positions_id\", \"Positions\".upper AS \"Positions_upper\", \"Positions\".middle AS \"Positions_middle\", \"Positions\".lower AS \"Positions_lower\", \"Positions\".x AS \"Positions_x\", \"Positions\".y AS \"Positions_y\" \n",
      "FROM \"Positions\" \n",
      "WHERE \"Positions\".id = ?\n",
      "2021-07-03 22:12:54,919 INFO sqlalchemy.engine.Engine [cached since 0.2037s ago] (46,)\n",
      "2021-07-03 22:12:54,920 INFO sqlalchemy.engine.Engine SELECT \"Positions\".id AS \"Positions_id\", \"Positions\".upper AS \"Positions_upper\", \"Positions\".middle AS \"Positions_middle\", \"Positions\".lower AS \"Positions_lower\", \"Positions\".x AS \"Positions_x\", \"Positions\".y AS \"Positions_y\" \n",
      "FROM \"Positions\" \n",
      "WHERE \"Positions\".id = ?\n",
      "2021-07-03 22:12:54,921 INFO sqlalchemy.engine.Engine [cached since 0.2027s ago] (47,)\n",
      "2021-07-03 22:12:54,923 INFO sqlalchemy.engine.Engine SELECT \"Positions\".id AS \"Positions_id\", \"Positions\".upper AS \"Positions_upper\", \"Positions\".middle AS \"Positions_middle\", \"Positions\".lower AS \"Positions_lower\", \"Positions\".x AS \"Positions_x\", \"Positions\".y AS \"Positions_y\" \n",
      "FROM \"Positions\" \n",
      "WHERE \"Positions\".id = ?\n",
      "2021-07-03 22:12:54,924 INFO sqlalchemy.engine.Engine [cached since 0.2079s ago] (48,)\n",
      "2021-07-03 22:12:54,925 INFO sqlalchemy.engine.Engine SELECT \"Positions\".id AS \"Positions_id\", \"Positions\".upper AS \"Positions_upper\", \"Positions\".middle AS \"Positions_middle\", \"Positions\".lower AS \"Positions_lower\", \"Positions\".x AS \"Positions_x\", \"Positions\".y AS \"Positions_y\" \n",
      "FROM \"Positions\" \n",
      "WHERE \"Positions\".id = ?\n",
      "2021-07-03 22:12:54,925 INFO sqlalchemy.engine.Engine [cached since 0.2065s ago] (49,)\n",
      "dict_keys(['lithology', 'pollutant'])\n",
      "[0, 1, 2, 3, 4, 5]\n"
     ]
    },
    {
     "name": "stdout",
     "output_type": "stream",
     "text": [
      "Borehole geometry created successfully !\n",
      "2021-07-03 22:12:54,935 INFO sqlalchemy.engine.Engine UPDATE \"Boreholes\" SET length=? WHERE \"Boreholes\".id = ?\n",
      "2021-07-03 22:12:54,936 INFO sqlalchemy.engine.Engine [cached since 0.1887s ago] (97.0, 'BH005')\n",
      "2021-07-03 22:12:54,937 INFO sqlalchemy.engine.Engine INSERT INTO \"Boreholes\" (id, length, diameter) VALUES (?, ?, ?)\n",
      "2021-07-03 22:12:54,938 INFO sqlalchemy.engine.Engine [cached since 0.2464s ago] ('BH006', 26.0, 0.31)\n",
      "2021-07-03 22:12:54,938 INFO sqlalchemy.engine.Engine INSERT INTO \"Positions\" (id, upper, middle, lower, x, y) VALUES (?, ?, ?, ?, ?, ?)\n",
      "2021-07-03 22:12:54,939 INFO sqlalchemy.engine.Engine [cached since 0.2446s ago] ((50, 101.0, 101.0, 101.0, 152375.0, 121002.0), (51, 100.0, 100.0, 100.0, 152375.0, 121002.0), (52, 100.0, 100.0, 100.0, 152375.0, 121002.0), (53, 98.0, 98.0, 98.0, 152375.0, 121002.0), (54, 98.0, 98.0, 98.0, 152375.0, 121002.0), (55, 92.0, 92.0, 92.0, 152375.0, 121002.0), (56, 92.0, 92.0, 92.0, 152375.0, 121002.0), (57, 86.0, 86.0, 86.0, 152375.0, 121002.0), (58, 86.0, 86.0, 86.0, 152375.0, 121002.0), (59, 75.0, 75.0, 75.0, 152375.0, 121002.0))\n",
      "2021-07-03 22:12:54,940 INFO sqlalchemy.engine.Engine INSERT INTO \"Intervals\" (id, borehole, interval_number, description, top_id, base_id, data_id) VALUES (?, ?, ?, ?, ?, ?, ?)\n",
      "2021-07-03 22:12:54,940 INFO sqlalchemy.engine.Engine [cached since 0.2433s ago] ((25, 'BH006', 0, 'Sable VI', 50, 51, None), (26, 'BH006', 1, 'Argile VI', 52, 53, None), (27, 'BH006', 2, 'Marne VS', 54, 55, None), (28, 'BH006', 3, 'Charbon VR', 56, 57, None), (29, 'BH006', 4, 'Dolomie VS', 58, 59, None))\n",
      "2021-07-03 22:12:54,941 INFO sqlalchemy.engine.Engine COMMIT\n",
      "2021-07-03 22:12:54,944 INFO sqlalchemy.engine.Engine BEGIN (implicit)\n",
      "2021-07-03 22:12:54,945 INFO sqlalchemy.engine.Engine SELECT \"Boreholes\".id AS \"Boreholes_id\", \"Boreholes\".length AS \"Boreholes_length\", \"Boreholes\".diameter AS \"Boreholes_diameter\" \n",
      "FROM \"Boreholes\"\n",
      "2021-07-03 22:12:54,945 INFO sqlalchemy.engine.Engine [cached since 0.2759s ago] ()\n",
      "2021-07-03 22:12:54,946 INFO sqlalchemy.engine.Engine SELECT \"Intervals\".id AS \"Intervals_id\", \"Intervals\".borehole AS \"Intervals_borehole\", \"Intervals\".interval_number AS \"Intervals_interval_number\", \"Intervals\".description AS \"Intervals_description\", \"Intervals\".top_id AS \"Intervals_top_id\", \"Intervals\".base_id AS \"Intervals_base_id\", \"Intervals\".data_id AS \"Intervals_data_id\" \n",
      "FROM \"Intervals\" \n",
      "WHERE ? = \"Intervals\".borehole\n",
      "2021-07-03 22:12:54,947 INFO sqlalchemy.engine.Engine [cached since 0.2372s ago] ('BH006',)\n",
      "2021-07-03 22:12:54,948 INFO sqlalchemy.engine.Engine SELECT \"Positions\".id AS \"Positions_id\", \"Positions\".upper AS \"Positions_upper\", \"Positions\".middle AS \"Positions_middle\", \"Positions\".lower AS \"Positions_lower\", \"Positions\".x AS \"Positions_x\", \"Positions\".y AS \"Positions_y\" \n",
      "FROM \"Positions\" \n",
      "WHERE \"Positions\".id = ?\n",
      "2021-07-03 22:12:54,949 INFO sqlalchemy.engine.Engine [cached since 0.2331s ago] (50,)\n",
      "2021-07-03 22:12:54,950 INFO sqlalchemy.engine.Engine SELECT \"Positions\".id AS \"Positions_id\", \"Positions\".upper AS \"Positions_upper\", \"Positions\".middle AS \"Positions_middle\", \"Positions\".lower AS \"Positions_lower\", \"Positions\".x AS \"Positions_x\", \"Positions\".y AS \"Positions_y\" \n",
      "FROM \"Positions\" \n",
      "WHERE \"Positions\".id = ?\n",
      "2021-07-03 22:12:54,951 INFO sqlalchemy.engine.Engine [cached since 0.2325s ago] (51,)\n",
      "2021-07-03 22:12:54,953 INFO sqlalchemy.engine.Engine SELECT \"Positions\".id AS \"Positions_id\", \"Positions\".upper AS \"Positions_upper\", \"Positions\".middle AS \"Positions_middle\", \"Positions\".lower AS \"Positions_lower\", \"Positions\".x AS \"Positions_x\", \"Positions\".y AS \"Positions_y\" \n",
      "FROM \"Positions\" \n",
      "WHERE \"Positions\".id = ?\n",
      "2021-07-03 22:12:54,954 INFO sqlalchemy.engine.Engine [cached since 0.2381s ago] (52,)\n",
      "2021-07-03 22:12:54,956 INFO sqlalchemy.engine.Engine SELECT \"Positions\".id AS \"Positions_id\", \"Positions\".upper AS \"Positions_upper\", \"Positions\".middle AS \"Positions_middle\", \"Positions\".lower AS \"Positions_lower\", \"Positions\".x AS \"Positions_x\", \"Positions\".y AS \"Positions_y\" \n",
      "FROM \"Positions\" \n",
      "WHERE \"Positions\".id = ?\n",
      "2021-07-03 22:12:54,956 INFO sqlalchemy.engine.Engine [cached since 0.2381s ago] (53,)\n",
      "2021-07-03 22:12:54,958 INFO sqlalchemy.engine.Engine SELECT \"Positions\".id AS \"Positions_id\", \"Positions\".upper AS \"Positions_upper\", \"Positions\".middle AS \"Positions_middle\", \"Positions\".lower AS \"Positions_lower\", \"Positions\".x AS \"Positions_x\", \"Positions\".y AS \"Positions_y\" \n",
      "FROM \"Positions\" \n",
      "WHERE \"Positions\".id = ?\n",
      "2021-07-03 22:12:54,959 INFO sqlalchemy.engine.Engine [cached since 0.2429s ago] (54,)\n",
      "2021-07-03 22:12:54,960 INFO sqlalchemy.engine.Engine SELECT \"Positions\".id AS \"Positions_id\", \"Positions\".upper AS \"Positions_upper\", \"Positions\".middle AS \"Positions_middle\", \"Positions\".lower AS \"Positions_lower\", \"Positions\".x AS \"Positions_x\", \"Positions\".y AS \"Positions_y\" \n",
      "FROM \"Positions\" \n",
      "WHERE \"Positions\".id = ?\n",
      "2021-07-03 22:12:54,961 INFO sqlalchemy.engine.Engine [cached since 0.2426s ago] (55,)\n",
      "2021-07-03 22:12:54,963 INFO sqlalchemy.engine.Engine SELECT \"Positions\".id AS \"Positions_id\", \"Positions\".upper AS \"Positions_upper\", \"Positions\".middle AS \"Positions_middle\", \"Positions\".lower AS \"Positions_lower\", \"Positions\".x AS \"Positions_x\", \"Positions\".y AS \"Positions_y\" \n",
      "FROM \"Positions\" \n",
      "WHERE \"Positions\".id = ?\n",
      "2021-07-03 22:12:54,964 INFO sqlalchemy.engine.Engine [cached since 0.2481s ago] (56,)\n",
      "2021-07-03 22:12:54,966 INFO sqlalchemy.engine.Engine SELECT \"Positions\".id AS \"Positions_id\", \"Positions\".upper AS \"Positions_upper\", \"Positions\".middle AS \"Positions_middle\", \"Positions\".lower AS \"Positions_lower\", \"Positions\".x AS \"Positions_x\", \"Positions\".y AS \"Positions_y\" \n",
      "FROM \"Positions\" \n",
      "WHERE \"Positions\".id = ?\n",
      "2021-07-03 22:12:54,966 INFO sqlalchemy.engine.Engine [cached since 0.2479s ago] (57,)\n",
      "2021-07-03 22:12:54,968 INFO sqlalchemy.engine.Engine SELECT \"Positions\".id AS \"Positions_id\", \"Positions\".upper AS \"Positions_upper\", \"Positions\".middle AS \"Positions_middle\", \"Positions\".lower AS \"Positions_lower\", \"Positions\".x AS \"Positions_x\", \"Positions\".y AS \"Positions_y\" \n",
      "FROM \"Positions\" \n",
      "WHERE \"Positions\".id = ?\n",
      "2021-07-03 22:12:54,969 INFO sqlalchemy.engine.Engine [cached since 0.2529s ago] (58,)\n",
      "2021-07-03 22:12:54,970 INFO sqlalchemy.engine.Engine SELECT \"Positions\".id AS \"Positions_id\", \"Positions\".upper AS \"Positions_upper\", \"Positions\".middle AS \"Positions_middle\", \"Positions\".lower AS \"Positions_lower\", \"Positions\".x AS \"Positions_x\", \"Positions\".y AS \"Positions_y\" \n",
      "FROM \"Positions\" \n",
      "WHERE \"Positions\".id = ?\n",
      "2021-07-03 22:12:54,971 INFO sqlalchemy.engine.Engine [cached since 0.2528s ago] (59,)\n",
      "dict_keys(['lithology', 'pollutant'])\n",
      "[0, 1, 2, 3, 4]\n",
      "Borehole geometry created successfully !\n",
      "2021-07-03 22:12:54,985 INFO sqlalchemy.engine.Engine UPDATE \"Boreholes\" SET length=? WHERE \"Boreholes\".id = ?\n",
      "2021-07-03 22:12:54,986 INFO sqlalchemy.engine.Engine [cached since 0.2387s ago] (100.0, 'BH006')\n",
      "2021-07-03 22:12:54,987 INFO sqlalchemy.engine.Engine INSERT INTO \"Boreholes\" (id, length, diameter) VALUES (?, ?, ?)\n",
      "2021-07-03 22:12:54,988 INFO sqlalchemy.engine.Engine [cached since 0.2966s ago] ('BH007', 45.0, 0.57)\n",
      "2021-07-03 22:12:54,989 INFO sqlalchemy.engine.Engine INSERT INTO \"Positions\" (id, upper, middle, lower, x, y) VALUES (?, ?, ?, ?, ?, ?)\n",
      "2021-07-03 22:12:54,989 INFO sqlalchemy.engine.Engine [cached since 0.2945s ago] ((60, 101.0, 101.0, 101.0, 152794.0, 121111.0), (61, 97.0, 97.0, 97.0, 152794.0, 121111.0), (62, 97.0, 97.0, 97.0, 152794.0, 121111.0), (63, 93.0, 93.0, 93.0, 152794.0, 121111.0), (64, 93.0, 93.0, 93.0, 152794.0, 121111.0), (65, 83.0, 83.0, 83.0, 152794.0, 121111.0), (66, 83.0, 83.0, 83.0, 152794.0, 121111.0), (67, 82.0, 82.0, 82.0, 152794.0, 121111.0)  ... displaying 10 of 12 total bound parameter sets ...  (70, 60.0, 60.0, 60.0, 152794.0, 121111.0), (71, 56.0, 56.0, 56.0, 152794.0, 121111.0))\n",
      "2021-07-03 22:12:54,990 INFO sqlalchemy.engine.Engine INSERT INTO \"Intervals\" (id, borehole, interval_number, description, top_id, base_id, data_id) VALUES (?, ?, ?, ?, ?, ?, ?)\n",
      "2021-07-03 22:12:54,990 INFO sqlalchemy.engine.Engine [cached since 0.2932s ago] ((30, 'BH007', 0, 'Sable VI', 60, 61, None), (31, 'BH007', 1, 'Argile VR', 62, 63, None), (32, 'BH007', 2, 'Marne VI', 64, 65, None), (33, 'BH007', 3, 'Charbon VS', 66, 67, None), (34, 'BH007', 4, 'Dolomie VR', 68, 69, None), (35, 'BH007', 5, 'Calcaire Cl', 70, 71, None))\n"
     ]
    },
    {
     "name": "stdout",
     "output_type": "stream",
     "text": [
      "2021-07-03 22:12:54,991 INFO sqlalchemy.engine.Engine COMMIT\n",
      "2021-07-03 22:12:54,994 INFO sqlalchemy.engine.Engine BEGIN (implicit)\n",
      "2021-07-03 22:12:54,996 INFO sqlalchemy.engine.Engine SELECT \"Boreholes\".id AS \"Boreholes_id\", \"Boreholes\".length AS \"Boreholes_length\", \"Boreholes\".diameter AS \"Boreholes_diameter\" \n",
      "FROM \"Boreholes\"\n",
      "2021-07-03 22:12:54,996 INFO sqlalchemy.engine.Engine [cached since 0.3268s ago] ()\n",
      "2021-07-03 22:12:54,998 INFO sqlalchemy.engine.Engine SELECT \"Intervals\".id AS \"Intervals_id\", \"Intervals\".borehole AS \"Intervals_borehole\", \"Intervals\".interval_number AS \"Intervals_interval_number\", \"Intervals\".description AS \"Intervals_description\", \"Intervals\".top_id AS \"Intervals_top_id\", \"Intervals\".base_id AS \"Intervals_base_id\", \"Intervals\".data_id AS \"Intervals_data_id\" \n",
      "FROM \"Intervals\" \n",
      "WHERE ? = \"Intervals\".borehole\n",
      "2021-07-03 22:12:54,999 INFO sqlalchemy.engine.Engine [cached since 0.2889s ago] ('BH007',)\n",
      "2021-07-03 22:12:55,001 INFO sqlalchemy.engine.Engine SELECT \"Positions\".id AS \"Positions_id\", \"Positions\".upper AS \"Positions_upper\", \"Positions\".middle AS \"Positions_middle\", \"Positions\".lower AS \"Positions_lower\", \"Positions\".x AS \"Positions_x\", \"Positions\".y AS \"Positions_y\" \n",
      "FROM \"Positions\" \n",
      "WHERE \"Positions\".id = ?\n",
      "2021-07-03 22:12:55,001 INFO sqlalchemy.engine.Engine [cached since 0.2857s ago] (60,)\n",
      "2021-07-03 22:12:55,002 INFO sqlalchemy.engine.Engine SELECT \"Positions\".id AS \"Positions_id\", \"Positions\".upper AS \"Positions_upper\", \"Positions\".middle AS \"Positions_middle\", \"Positions\".lower AS \"Positions_lower\", \"Positions\".x AS \"Positions_x\", \"Positions\".y AS \"Positions_y\" \n",
      "FROM \"Positions\" \n",
      "WHERE \"Positions\".id = ?\n",
      "2021-07-03 22:12:55,003 INFO sqlalchemy.engine.Engine [cached since 0.2849s ago] (61,)\n",
      "2021-07-03 22:12:55,004 INFO sqlalchemy.engine.Engine SELECT \"Positions\".id AS \"Positions_id\", \"Positions\".upper AS \"Positions_upper\", \"Positions\".middle AS \"Positions_middle\", \"Positions\".lower AS \"Positions_lower\", \"Positions\".x AS \"Positions_x\", \"Positions\".y AS \"Positions_y\" \n",
      "FROM \"Positions\" \n",
      "WHERE \"Positions\".id = ?\n",
      "2021-07-03 22:12:55,005 INFO sqlalchemy.engine.Engine [cached since 0.2893s ago] (62,)\n",
      "2021-07-03 22:12:55,006 INFO sqlalchemy.engine.Engine SELECT \"Positions\".id AS \"Positions_id\", \"Positions\".upper AS \"Positions_upper\", \"Positions\".middle AS \"Positions_middle\", \"Positions\".lower AS \"Positions_lower\", \"Positions\".x AS \"Positions_x\", \"Positions\".y AS \"Positions_y\" \n",
      "FROM \"Positions\" \n",
      "WHERE \"Positions\".id = ?\n",
      "2021-07-03 22:12:55,007 INFO sqlalchemy.engine.Engine [cached since 0.2885s ago] (63,)\n",
      "2021-07-03 22:12:55,008 INFO sqlalchemy.engine.Engine SELECT \"Positions\".id AS \"Positions_id\", \"Positions\".upper AS \"Positions_upper\", \"Positions\".middle AS \"Positions_middle\", \"Positions\".lower AS \"Positions_lower\", \"Positions\".x AS \"Positions_x\", \"Positions\".y AS \"Positions_y\" \n",
      "FROM \"Positions\" \n",
      "WHERE \"Positions\".id = ?\n",
      "2021-07-03 22:12:55,009 INFO sqlalchemy.engine.Engine [cached since 0.2929s ago] (64,)\n",
      "2021-07-03 22:12:55,010 INFO sqlalchemy.engine.Engine SELECT \"Positions\".id AS \"Positions_id\", \"Positions\".upper AS \"Positions_upper\", \"Positions\".middle AS \"Positions_middle\", \"Positions\".lower AS \"Positions_lower\", \"Positions\".x AS \"Positions_x\", \"Positions\".y AS \"Positions_y\" \n",
      "FROM \"Positions\" \n",
      "WHERE \"Positions\".id = ?\n",
      "2021-07-03 22:12:55,011 INFO sqlalchemy.engine.Engine [cached since 0.2924s ago] (65,)\n",
      "2021-07-03 22:12:55,012 INFO sqlalchemy.engine.Engine SELECT \"Positions\".id AS \"Positions_id\", \"Positions\".upper AS \"Positions_upper\", \"Positions\".middle AS \"Positions_middle\", \"Positions\".lower AS \"Positions_lower\", \"Positions\".x AS \"Positions_x\", \"Positions\".y AS \"Positions_y\" \n",
      "FROM \"Positions\" \n",
      "WHERE \"Positions\".id = ?\n",
      "2021-07-03 22:12:55,014 INFO sqlalchemy.engine.Engine [cached since 0.2985s ago] (66,)\n",
      "2021-07-03 22:12:55,016 INFO sqlalchemy.engine.Engine SELECT \"Positions\".id AS \"Positions_id\", \"Positions\".upper AS \"Positions_upper\", \"Positions\".middle AS \"Positions_middle\", \"Positions\".lower AS \"Positions_lower\", \"Positions\".x AS \"Positions_x\", \"Positions\".y AS \"Positions_y\" \n",
      "FROM \"Positions\" \n",
      "WHERE \"Positions\".id = ?\n",
      "2021-07-03 22:12:55,017 INFO sqlalchemy.engine.Engine [cached since 0.2984s ago] (67,)\n",
      "2021-07-03 22:12:55,018 INFO sqlalchemy.engine.Engine SELECT \"Positions\".id AS \"Positions_id\", \"Positions\".upper AS \"Positions_upper\", \"Positions\".middle AS \"Positions_middle\", \"Positions\".lower AS \"Positions_lower\", \"Positions\".x AS \"Positions_x\", \"Positions\".y AS \"Positions_y\" \n",
      "FROM \"Positions\" \n",
      "WHERE \"Positions\".id = ?\n",
      "2021-07-03 22:12:55,019 INFO sqlalchemy.engine.Engine [cached since 0.3031s ago] (68,)\n",
      "2021-07-03 22:12:55,021 INFO sqlalchemy.engine.Engine SELECT \"Positions\".id AS \"Positions_id\", \"Positions\".upper AS \"Positions_upper\", \"Positions\".middle AS \"Positions_middle\", \"Positions\".lower AS \"Positions_lower\", \"Positions\".x AS \"Positions_x\", \"Positions\".y AS \"Positions_y\" \n",
      "FROM \"Positions\" \n",
      "WHERE \"Positions\".id = ?\n",
      "2021-07-03 22:12:55,021 INFO sqlalchemy.engine.Engine [cached since 0.3029s ago] (69,)\n",
      "2021-07-03 22:12:55,023 INFO sqlalchemy.engine.Engine SELECT \"Positions\".id AS \"Positions_id\", \"Positions\".upper AS \"Positions_upper\", \"Positions\".middle AS \"Positions_middle\", \"Positions\".lower AS \"Positions_lower\", \"Positions\".x AS \"Positions_x\", \"Positions\".y AS \"Positions_y\" \n",
      "FROM \"Positions\" \n",
      "WHERE \"Positions\".id = ?\n",
      "2021-07-03 22:12:55,024 INFO sqlalchemy.engine.Engine [cached since 0.308s ago] (70,)\n",
      "2021-07-03 22:12:55,025 INFO sqlalchemy.engine.Engine SELECT \"Positions\".id AS \"Positions_id\", \"Positions\".upper AS \"Positions_upper\", \"Positions\".middle AS \"Positions_middle\", \"Positions\".lower AS \"Positions_lower\", \"Positions\".x AS \"Positions_x\", \"Positions\".y AS \"Positions_y\" \n",
      "FROM \"Positions\" \n",
      "WHERE \"Positions\".id = ?\n",
      "2021-07-03 22:12:55,026 INFO sqlalchemy.engine.Engine [cached since 0.3073s ago] (71,)\n",
      "dict_keys(['lithology', 'pollutant'])\n",
      "[0, 1, 2, 3, 4, 5]\n",
      "Borehole geometry created successfully !\n",
      "2021-07-03 22:12:55,038 INFO sqlalchemy.engine.Engine UPDATE \"Boreholes\" SET length=? WHERE \"Boreholes\".id = ?\n",
      "2021-07-03 22:12:55,039 INFO sqlalchemy.engine.Engine [cached since 0.2913s ago] (97.0, 'BH007')\n",
      "2021-07-03 22:12:55,040 INFO sqlalchemy.engine.Engine INSERT INTO \"Boreholes\" (id, length, diameter) VALUES (?, ?, ?)\n",
      "2021-07-03 22:12:55,040 INFO sqlalchemy.engine.Engine [cached since 0.3487s ago] ('BH008', 35.0, 0.39)\n",
      "2021-07-03 22:12:55,041 INFO sqlalchemy.engine.Engine INSERT INTO \"Positions\" (id, upper, middle, lower, x, y) VALUES (?, ?, ?, ?, ?, ?)\n",
      "2021-07-03 22:12:55,041 INFO sqlalchemy.engine.Engine [cached since 0.3466s ago] ((72, 101.0, 101.0, 101.0, 152150.0, 121579.0), (73, 98.0, 98.0, 98.0, 152150.0, 121579.0), (74, 98.0, 98.0, 98.0, 152150.0, 121579.0), (75, 97.0, 97.0, 97.0, 152150.0, 121579.0), (76, 97.0, 97.0, 97.0, 152150.0, 121579.0), (77, 91.0, 91.0, 91.0, 152150.0, 121579.0), (78, 91.0, 91.0, 91.0, 152150.0, 121579.0), (79, 86.0, 86.0, 86.0, 152150.0, 121579.0), (80, 86.0, 86.0, 86.0, 152150.0, 121579.0), (81, 66.0, 66.0, 66.0, 152150.0, 121579.0))\n",
      "2021-07-03 22:12:55,042 INFO sqlalchemy.engine.Engine INSERT INTO \"Intervals\" (id, borehole, interval_number, description, top_id, base_id, data_id) VALUES (?, ?, ?, ?, ?, ?, ?)\n",
      "2021-07-03 22:12:55,042 INFO sqlalchemy.engine.Engine [cached since 0.3455s ago] ((36, 'BH008', 0, 'Sable VR', 72, 73, None), (37, 'BH008', 1, 'Argile VR', 74, 75, None), (38, 'BH008', 2, 'Marne VS', 76, 77, None), (39, 'BH008', 3, 'Charbon VI', 78, 79, None), (40, 'BH008', 4, 'Dolomie VS', 80, 81, None))\n",
      "2021-07-03 22:12:55,044 INFO sqlalchemy.engine.Engine COMMIT\n",
      "2021-07-03 22:12:55,046 INFO sqlalchemy.engine.Engine BEGIN (implicit)\n",
      "2021-07-03 22:12:55,047 INFO sqlalchemy.engine.Engine SELECT \"Boreholes\".id AS \"Boreholes_id\", \"Boreholes\".length AS \"Boreholes_length\", \"Boreholes\".diameter AS \"Boreholes_diameter\" \n",
      "FROM \"Boreholes\"\n",
      "2021-07-03 22:12:55,048 INFO sqlalchemy.engine.Engine [cached since 0.3786s ago] ()\n",
      "2021-07-03 22:12:55,049 INFO sqlalchemy.engine.Engine SELECT \"Intervals\".id AS \"Intervals_id\", \"Intervals\".borehole AS \"Intervals_borehole\", \"Intervals\".interval_number AS \"Intervals_interval_number\", \"Intervals\".description AS \"Intervals_description\", \"Intervals\".top_id AS \"Intervals_top_id\", \"Intervals\".base_id AS \"Intervals_base_id\", \"Intervals\".data_id AS \"Intervals_data_id\" \n",
      "FROM \"Intervals\" \n",
      "WHERE ? = \"Intervals\".borehole\n"
     ]
    },
    {
     "name": "stdout",
     "output_type": "stream",
     "text": [
      "2021-07-03 22:12:55,050 INFO sqlalchemy.engine.Engine [cached since 0.3401s ago] ('BH008',)\n",
      "2021-07-03 22:12:55,051 INFO sqlalchemy.engine.Engine SELECT \"Positions\".id AS \"Positions_id\", \"Positions\".upper AS \"Positions_upper\", \"Positions\".middle AS \"Positions_middle\", \"Positions\".lower AS \"Positions_lower\", \"Positions\".x AS \"Positions_x\", \"Positions\".y AS \"Positions_y\" \n",
      "FROM \"Positions\" \n",
      "WHERE \"Positions\".id = ?\n",
      "2021-07-03 22:12:55,052 INFO sqlalchemy.engine.Engine [cached since 0.336s ago] (72,)\n",
      "2021-07-03 22:12:55,054 INFO sqlalchemy.engine.Engine SELECT \"Positions\".id AS \"Positions_id\", \"Positions\".upper AS \"Positions_upper\", \"Positions\".middle AS \"Positions_middle\", \"Positions\".lower AS \"Positions_lower\", \"Positions\".x AS \"Positions_x\", \"Positions\".y AS \"Positions_y\" \n",
      "FROM \"Positions\" \n",
      "WHERE \"Positions\".id = ?\n",
      "2021-07-03 22:12:55,054 INFO sqlalchemy.engine.Engine [cached since 0.3359s ago] (73,)\n",
      "2021-07-03 22:12:55,056 INFO sqlalchemy.engine.Engine SELECT \"Positions\".id AS \"Positions_id\", \"Positions\".upper AS \"Positions_upper\", \"Positions\".middle AS \"Positions_middle\", \"Positions\".lower AS \"Positions_lower\", \"Positions\".x AS \"Positions_x\", \"Positions\".y AS \"Positions_y\" \n",
      "FROM \"Positions\" \n",
      "WHERE \"Positions\".id = ?\n",
      "2021-07-03 22:12:55,057 INFO sqlalchemy.engine.Engine [cached since 0.3412s ago] (74,)\n",
      "2021-07-03 22:12:55,058 INFO sqlalchemy.engine.Engine SELECT \"Positions\".id AS \"Positions_id\", \"Positions\".upper AS \"Positions_upper\", \"Positions\".middle AS \"Positions_middle\", \"Positions\".lower AS \"Positions_lower\", \"Positions\".x AS \"Positions_x\", \"Positions\".y AS \"Positions_y\" \n",
      "FROM \"Positions\" \n",
      "WHERE \"Positions\".id = ?\n",
      "2021-07-03 22:12:55,059 INFO sqlalchemy.engine.Engine [cached since 0.3404s ago] (75,)\n",
      "2021-07-03 22:12:55,061 INFO sqlalchemy.engine.Engine SELECT \"Positions\".id AS \"Positions_id\", \"Positions\".upper AS \"Positions_upper\", \"Positions\".middle AS \"Positions_middle\", \"Positions\".lower AS \"Positions_lower\", \"Positions\".x AS \"Positions_x\", \"Positions\".y AS \"Positions_y\" \n",
      "FROM \"Positions\" \n",
      "WHERE \"Positions\".id = ?\n",
      "2021-07-03 22:12:55,062 INFO sqlalchemy.engine.Engine [cached since 0.3461s ago] (76,)\n",
      "2021-07-03 22:12:55,065 INFO sqlalchemy.engine.Engine SELECT \"Positions\".id AS \"Positions_id\", \"Positions\".upper AS \"Positions_upper\", \"Positions\".middle AS \"Positions_middle\", \"Positions\".lower AS \"Positions_lower\", \"Positions\".x AS \"Positions_x\", \"Positions\".y AS \"Positions_y\" \n",
      "FROM \"Positions\" \n",
      "WHERE \"Positions\".id = ?\n",
      "2021-07-03 22:12:55,066 INFO sqlalchemy.engine.Engine [cached since 0.3472s ago] (77,)\n",
      "2021-07-03 22:12:55,067 INFO sqlalchemy.engine.Engine SELECT \"Positions\".id AS \"Positions_id\", \"Positions\".upper AS \"Positions_upper\", \"Positions\".middle AS \"Positions_middle\", \"Positions\".lower AS \"Positions_lower\", \"Positions\".x AS \"Positions_x\", \"Positions\".y AS \"Positions_y\" \n",
      "FROM \"Positions\" \n",
      "WHERE \"Positions\".id = ?\n",
      "2021-07-03 22:12:55,068 INFO sqlalchemy.engine.Engine [cached since 0.3522s ago] (78,)\n",
      "2021-07-03 22:12:55,070 INFO sqlalchemy.engine.Engine SELECT \"Positions\".id AS \"Positions_id\", \"Positions\".upper AS \"Positions_upper\", \"Positions\".middle AS \"Positions_middle\", \"Positions\".lower AS \"Positions_lower\", \"Positions\".x AS \"Positions_x\", \"Positions\".y AS \"Positions_y\" \n",
      "FROM \"Positions\" \n",
      "WHERE \"Positions\".id = ?\n",
      "2021-07-03 22:12:55,070 INFO sqlalchemy.engine.Engine [cached since 0.3518s ago] (79,)\n",
      "2021-07-03 22:12:55,072 INFO sqlalchemy.engine.Engine SELECT \"Positions\".id AS \"Positions_id\", \"Positions\".upper AS \"Positions_upper\", \"Positions\".middle AS \"Positions_middle\", \"Positions\".lower AS \"Positions_lower\", \"Positions\".x AS \"Positions_x\", \"Positions\".y AS \"Positions_y\" \n",
      "FROM \"Positions\" \n",
      "WHERE \"Positions\".id = ?\n",
      "2021-07-03 22:12:55,072 INFO sqlalchemy.engine.Engine [cached since 0.3563s ago] (80,)\n",
      "2021-07-03 22:12:55,073 INFO sqlalchemy.engine.Engine SELECT \"Positions\".id AS \"Positions_id\", \"Positions\".upper AS \"Positions_upper\", \"Positions\".middle AS \"Positions_middle\", \"Positions\".lower AS \"Positions_lower\", \"Positions\".x AS \"Positions_x\", \"Positions\".y AS \"Positions_y\" \n",
      "FROM \"Positions\" \n",
      "WHERE \"Positions\".id = ?\n",
      "2021-07-03 22:12:55,074 INFO sqlalchemy.engine.Engine [cached since 0.3554s ago] (81,)\n",
      "dict_keys(['lithology', 'pollutant'])\n",
      "[0, 1, 2, 3, 4]\n",
      "Borehole geometry created successfully !\n",
      "2021-07-03 22:12:55,082 INFO sqlalchemy.engine.Engine UPDATE \"Boreholes\" SET length=? WHERE \"Boreholes\".id = ?\n",
      "2021-07-03 22:12:55,083 INFO sqlalchemy.engine.Engine [cached since 0.336s ago] (98.0, 'BH008')\n",
      "2021-07-03 22:12:55,085 INFO sqlalchemy.engine.Engine INSERT INTO \"Boreholes\" (id, length, diameter) VALUES (?, ?, ?)\n",
      "2021-07-03 22:12:55,085 INFO sqlalchemy.engine.Engine [cached since 0.3937s ago] ('BH009', 40.0, 0.5)\n",
      "2021-07-03 22:12:55,086 INFO sqlalchemy.engine.Engine INSERT INTO \"Positions\" (id, upper, middle, lower, x, y) VALUES (?, ?, ?, ?, ?, ?)\n",
      "2021-07-03 22:12:55,086 INFO sqlalchemy.engine.Engine [cached since 0.3918s ago] ((82, 100.0, 100.0, 100.0, 152052.0, 121293.0), (83, 94.0, 94.0, 94.0, 152052.0, 121293.0), (84, 94.0, 94.0, 94.0, 152052.0, 121293.0), (85, 92.0, 92.0, 92.0, 152052.0, 121293.0), (86, 92.0, 92.0, 92.0, 152052.0, 121293.0), (87, 82.0, 82.0, 82.0, 152052.0, 121293.0), (88, 82.0, 82.0, 82.0, 152052.0, 121293.0), (89, 78.0, 78.0, 78.0, 152052.0, 121293.0), (90, 78.0, 78.0, 78.0, 152052.0, 121293.0), (91, 60.0, 60.0, 60.0, 152052.0, 121293.0))\n",
      "2021-07-03 22:12:55,087 INFO sqlalchemy.engine.Engine INSERT INTO \"Intervals\" (id, borehole, interval_number, description, top_id, base_id, data_id) VALUES (?, ?, ?, ?, ?, ?, ?)\n",
      "2021-07-03 22:12:55,088 INFO sqlalchemy.engine.Engine [cached since 0.3906s ago] ((41, 'BH009', 0, 'Sable VI', 82, 83, None), (42, 'BH009', 1, 'Argile VS', 84, 85, None), (43, 'BH009', 2, 'Marne VR', 86, 87, None), (44, 'BH009', 3, 'Charbon VS', 88, 89, None), (45, 'BH009', 4, 'Dolomie VI', 90, 91, None))\n",
      "2021-07-03 22:12:55,088 INFO sqlalchemy.engine.Engine COMMIT\n",
      "2021-07-03 22:12:55,091 INFO sqlalchemy.engine.Engine BEGIN (implicit)\n",
      "2021-07-03 22:12:55,092 INFO sqlalchemy.engine.Engine SELECT \"Boreholes\".id AS \"Boreholes_id\", \"Boreholes\".length AS \"Boreholes_length\", \"Boreholes\".diameter AS \"Boreholes_diameter\" \n",
      "FROM \"Boreholes\"\n",
      "2021-07-03 22:12:55,093 INFO sqlalchemy.engine.Engine [cached since 0.424s ago] ()\n",
      "2021-07-03 22:12:55,096 INFO sqlalchemy.engine.Engine SELECT \"Intervals\".id AS \"Intervals_id\", \"Intervals\".borehole AS \"Intervals_borehole\", \"Intervals\".interval_number AS \"Intervals_interval_number\", \"Intervals\".description AS \"Intervals_description\", \"Intervals\".top_id AS \"Intervals_top_id\", \"Intervals\".base_id AS \"Intervals_base_id\", \"Intervals\".data_id AS \"Intervals_data_id\" \n",
      "FROM \"Intervals\" \n",
      "WHERE ? = \"Intervals\".borehole\n",
      "2021-07-03 22:12:55,097 INFO sqlalchemy.engine.Engine [cached since 0.3868s ago] ('BH009',)\n",
      "2021-07-03 22:12:55,099 INFO sqlalchemy.engine.Engine SELECT \"Positions\".id AS \"Positions_id\", \"Positions\".upper AS \"Positions_upper\", \"Positions\".middle AS \"Positions_middle\", \"Positions\".lower AS \"Positions_lower\", \"Positions\".x AS \"Positions_x\", \"Positions\".y AS \"Positions_y\" \n",
      "FROM \"Positions\" \n",
      "WHERE \"Positions\".id = ?\n",
      "2021-07-03 22:12:55,100 INFO sqlalchemy.engine.Engine [cached since 0.384s ago] (82,)\n",
      "2021-07-03 22:12:55,101 INFO sqlalchemy.engine.Engine SELECT \"Positions\".id AS \"Positions_id\", \"Positions\".upper AS \"Positions_upper\", \"Positions\".middle AS \"Positions_middle\", \"Positions\".lower AS \"Positions_lower\", \"Positions\".x AS \"Positions_x\", \"Positions\".y AS \"Positions_y\" \n",
      "FROM \"Positions\" \n",
      "WHERE \"Positions\".id = ?\n",
      "2021-07-03 22:12:55,101 INFO sqlalchemy.engine.Engine [cached since 0.3827s ago] (83,)\n",
      "2021-07-03 22:12:55,102 INFO sqlalchemy.engine.Engine SELECT \"Positions\".id AS \"Positions_id\", \"Positions\".upper AS \"Positions_upper\", \"Positions\".middle AS \"Positions_middle\", \"Positions\".lower AS \"Positions_lower\", \"Positions\".x AS \"Positions_x\", \"Positions\".y AS \"Positions_y\" \n",
      "FROM \"Positions\" \n",
      "WHERE \"Positions\".id = ?\n",
      "2021-07-03 22:12:55,102 INFO sqlalchemy.engine.Engine [cached since 0.3867s ago] (84,)\n",
      "2021-07-03 22:12:55,104 INFO sqlalchemy.engine.Engine SELECT \"Positions\".id AS \"Positions_id\", \"Positions\".upper AS \"Positions_upper\", \"Positions\".middle AS \"Positions_middle\", \"Positions\".lower AS \"Positions_lower\", \"Positions\".x AS \"Positions_x\", \"Positions\".y AS \"Positions_y\" \n",
      "FROM \"Positions\" \n",
      "WHERE \"Positions\".id = ?\n"
     ]
    },
    {
     "name": "stdout",
     "output_type": "stream",
     "text": [
      "2021-07-03 22:12:55,104 INFO sqlalchemy.engine.Engine [cached since 0.386s ago] (85,)\n",
      "2021-07-03 22:12:55,106 INFO sqlalchemy.engine.Engine SELECT \"Positions\".id AS \"Positions_id\", \"Positions\".upper AS \"Positions_upper\", \"Positions\".middle AS \"Positions_middle\", \"Positions\".lower AS \"Positions_lower\", \"Positions\".x AS \"Positions_x\", \"Positions\".y AS \"Positions_y\" \n",
      "FROM \"Positions\" \n",
      "WHERE \"Positions\".id = ?\n",
      "2021-07-03 22:12:55,106 INFO sqlalchemy.engine.Engine [cached since 0.3903s ago] (86,)\n",
      "2021-07-03 22:12:55,107 INFO sqlalchemy.engine.Engine SELECT \"Positions\".id AS \"Positions_id\", \"Positions\".upper AS \"Positions_upper\", \"Positions\".middle AS \"Positions_middle\", \"Positions\".lower AS \"Positions_lower\", \"Positions\".x AS \"Positions_x\", \"Positions\".y AS \"Positions_y\" \n",
      "FROM \"Positions\" \n",
      "WHERE \"Positions\".id = ?\n",
      "2021-07-03 22:12:55,108 INFO sqlalchemy.engine.Engine [cached since 0.3893s ago] (87,)\n",
      "2021-07-03 22:12:55,109 INFO sqlalchemy.engine.Engine SELECT \"Positions\".id AS \"Positions_id\", \"Positions\".upper AS \"Positions_upper\", \"Positions\".middle AS \"Positions_middle\", \"Positions\".lower AS \"Positions_lower\", \"Positions\".x AS \"Positions_x\", \"Positions\".y AS \"Positions_y\" \n",
      "FROM \"Positions\" \n",
      "WHERE \"Positions\".id = ?\n",
      "2021-07-03 22:12:55,109 INFO sqlalchemy.engine.Engine [cached since 0.3932s ago] (88,)\n",
      "2021-07-03 22:12:55,110 INFO sqlalchemy.engine.Engine SELECT \"Positions\".id AS \"Positions_id\", \"Positions\".upper AS \"Positions_upper\", \"Positions\".middle AS \"Positions_middle\", \"Positions\".lower AS \"Positions_lower\", \"Positions\".x AS \"Positions_x\", \"Positions\".y AS \"Positions_y\" \n",
      "FROM \"Positions\" \n",
      "WHERE \"Positions\".id = ?\n",
      "2021-07-03 22:12:55,111 INFO sqlalchemy.engine.Engine [cached since 0.3929s ago] (89,)\n",
      "2021-07-03 22:12:55,114 INFO sqlalchemy.engine.Engine SELECT \"Positions\".id AS \"Positions_id\", \"Positions\".upper AS \"Positions_upper\", \"Positions\".middle AS \"Positions_middle\", \"Positions\".lower AS \"Positions_lower\", \"Positions\".x AS \"Positions_x\", \"Positions\".y AS \"Positions_y\" \n",
      "FROM \"Positions\" \n",
      "WHERE \"Positions\".id = ?\n",
      "2021-07-03 22:12:55,115 INFO sqlalchemy.engine.Engine [cached since 0.399s ago] (90,)\n",
      "2021-07-03 22:12:55,116 INFO sqlalchemy.engine.Engine SELECT \"Positions\".id AS \"Positions_id\", \"Positions\".upper AS \"Positions_upper\", \"Positions\".middle AS \"Positions_middle\", \"Positions\".lower AS \"Positions_lower\", \"Positions\".x AS \"Positions_x\", \"Positions\".y AS \"Positions_y\" \n",
      "FROM \"Positions\" \n",
      "WHERE \"Positions\".id = ?\n",
      "2021-07-03 22:12:55,117 INFO sqlalchemy.engine.Engine [cached since 0.3986s ago] (91,)\n",
      "dict_keys(['lithology', 'pollutant'])\n",
      "[0, 1, 2, 3, 4]\n",
      "Borehole geometry created successfully !\n",
      "2021-07-03 22:12:55,130 INFO sqlalchemy.engine.Engine UPDATE \"Boreholes\" SET length=? WHERE \"Boreholes\".id = ?\n",
      "2021-07-03 22:12:55,131 INFO sqlalchemy.engine.Engine [cached since 0.3832s ago] (94.0, 'BH009')\n",
      "2021-07-03 22:12:55,132 INFO sqlalchemy.engine.Engine INSERT INTO \"Boreholes\" (id, length, diameter) VALUES (?, ?, ?)\n",
      "2021-07-03 22:12:55,132 INFO sqlalchemy.engine.Engine [cached since 0.4407s ago] ('BH10', 14.0, 0.31)\n",
      "2021-07-03 22:12:55,133 INFO sqlalchemy.engine.Engine INSERT INTO \"Positions\" (id, upper, middle, lower, x, y) VALUES (?, ?, ?, ?, ?, ?)\n",
      "2021-07-03 22:12:55,134 INFO sqlalchemy.engine.Engine [cached since 0.4394s ago] ((92, 100.0, 100.0, 100.0, 152315.0, 121754.0), (93, 95.0, 95.0, 95.0, 152315.0, 121754.0), (94, 95.0, 95.0, 95.0, 152315.0, 121754.0), (95, 91.0, 91.0, 91.0, 152315.0, 121754.0), (96, 91.0, 91.0, 91.0, 152315.0, 121754.0), (97, 89.0, 89.0, 89.0, 152315.0, 121754.0), (98, 89.0, 89.0, 89.0, 152315.0, 121754.0), (99, 86.0, 86.0, 86.0, 152315.0, 121754.0))\n",
      "2021-07-03 22:12:55,135 INFO sqlalchemy.engine.Engine INSERT INTO \"Intervals\" (id, borehole, interval_number, description, top_id, base_id, data_id) VALUES (?, ?, ?, ?, ?, ?, ?)\n",
      "2021-07-03 22:12:55,135 INFO sqlalchemy.engine.Engine [cached since 0.4383s ago] ((46, 'BH10', 0, 'Sable VS', 92, 93, None), (47, 'BH10', 1, 'Argile VS', 94, 95, None), (48, 'BH10', 2, 'Marne VI', 96, 97, None), (49, 'BH10', 3, 'Charbon VS', 98, 99, None))\n",
      "2021-07-03 22:12:55,136 INFO sqlalchemy.engine.Engine COMMIT\n",
      "2021-07-03 22:12:55,139 INFO sqlalchemy.engine.Engine BEGIN (implicit)\n",
      "2021-07-03 22:12:55,140 INFO sqlalchemy.engine.Engine SELECT \"Boreholes\".id AS \"Boreholes_id\", \"Boreholes\".length AS \"Boreholes_length\", \"Boreholes\".diameter AS \"Boreholes_diameter\" \n",
      "FROM \"Boreholes\"\n",
      "2021-07-03 22:12:55,141 INFO sqlalchemy.engine.Engine [cached since 0.4712s ago] ()\n",
      "2021-07-03 22:12:55,142 INFO sqlalchemy.engine.Engine SELECT \"Intervals\".id AS \"Intervals_id\", \"Intervals\".borehole AS \"Intervals_borehole\", \"Intervals\".interval_number AS \"Intervals_interval_number\", \"Intervals\".description AS \"Intervals_description\", \"Intervals\".top_id AS \"Intervals_top_id\", \"Intervals\".base_id AS \"Intervals_base_id\", \"Intervals\".data_id AS \"Intervals_data_id\" \n",
      "FROM \"Intervals\" \n",
      "WHERE ? = \"Intervals\".borehole\n",
      "2021-07-03 22:12:55,143 INFO sqlalchemy.engine.Engine [cached since 0.4328s ago] ('BH10',)\n",
      "2021-07-03 22:12:55,146 INFO sqlalchemy.engine.Engine SELECT \"Positions\".id AS \"Positions_id\", \"Positions\".upper AS \"Positions_upper\", \"Positions\".middle AS \"Positions_middle\", \"Positions\".lower AS \"Positions_lower\", \"Positions\".x AS \"Positions_x\", \"Positions\".y AS \"Positions_y\" \n",
      "FROM \"Positions\" \n",
      "WHERE \"Positions\".id = ?\n",
      "2021-07-03 22:12:55,147 INFO sqlalchemy.engine.Engine [cached since 0.4313s ago] (92,)\n",
      "2021-07-03 22:12:55,149 INFO sqlalchemy.engine.Engine SELECT \"Positions\".id AS \"Positions_id\", \"Positions\".upper AS \"Positions_upper\", \"Positions\".middle AS \"Positions_middle\", \"Positions\".lower AS \"Positions_lower\", \"Positions\".x AS \"Positions_x\", \"Positions\".y AS \"Positions_y\" \n",
      "FROM \"Positions\" \n",
      "WHERE \"Positions\".id = ?\n",
      "2021-07-03 22:12:55,149 INFO sqlalchemy.engine.Engine [cached since 0.4309s ago] (93,)\n",
      "2021-07-03 22:12:55,151 INFO sqlalchemy.engine.Engine SELECT \"Positions\".id AS \"Positions_id\", \"Positions\".upper AS \"Positions_upper\", \"Positions\".middle AS \"Positions_middle\", \"Positions\".lower AS \"Positions_lower\", \"Positions\".x AS \"Positions_x\", \"Positions\".y AS \"Positions_y\" \n",
      "FROM \"Positions\" \n",
      "WHERE \"Positions\".id = ?\n",
      "2021-07-03 22:12:55,152 INFO sqlalchemy.engine.Engine [cached since 0.4361s ago] (94,)\n",
      "2021-07-03 22:12:55,153 INFO sqlalchemy.engine.Engine SELECT \"Positions\".id AS \"Positions_id\", \"Positions\".upper AS \"Positions_upper\", \"Positions\".middle AS \"Positions_middle\", \"Positions\".lower AS \"Positions_lower\", \"Positions\".x AS \"Positions_x\", \"Positions\".y AS \"Positions_y\" \n",
      "FROM \"Positions\" \n",
      "WHERE \"Positions\".id = ?\n",
      "2021-07-03 22:12:55,154 INFO sqlalchemy.engine.Engine [cached since 0.4352s ago] (95,)\n",
      "2021-07-03 22:12:55,155 INFO sqlalchemy.engine.Engine SELECT \"Positions\".id AS \"Positions_id\", \"Positions\".upper AS \"Positions_upper\", \"Positions\".middle AS \"Positions_middle\", \"Positions\".lower AS \"Positions_lower\", \"Positions\".x AS \"Positions_x\", \"Positions\".y AS \"Positions_y\" \n",
      "FROM \"Positions\" \n",
      "WHERE \"Positions\".id = ?\n",
      "2021-07-03 22:12:55,155 INFO sqlalchemy.engine.Engine [cached since 0.4397s ago] (96,)\n",
      "2021-07-03 22:12:55,156 INFO sqlalchemy.engine.Engine SELECT \"Positions\".id AS \"Positions_id\", \"Positions\".upper AS \"Positions_upper\", \"Positions\".middle AS \"Positions_middle\", \"Positions\".lower AS \"Positions_lower\", \"Positions\".x AS \"Positions_x\", \"Positions\".y AS \"Positions_y\" \n",
      "FROM \"Positions\" \n",
      "WHERE \"Positions\".id = ?\n",
      "2021-07-03 22:12:55,157 INFO sqlalchemy.engine.Engine [cached since 0.4385s ago] (97,)\n",
      "2021-07-03 22:12:55,158 INFO sqlalchemy.engine.Engine SELECT \"Positions\".id AS \"Positions_id\", \"Positions\".upper AS \"Positions_upper\", \"Positions\".middle AS \"Positions_middle\", \"Positions\".lower AS \"Positions_lower\", \"Positions\".x AS \"Positions_x\", \"Positions\".y AS \"Positions_y\" \n",
      "FROM \"Positions\" \n",
      "WHERE \"Positions\".id = ?\n",
      "2021-07-03 22:12:55,158 INFO sqlalchemy.engine.Engine [cached since 0.4425s ago] (98,)\n",
      "2021-07-03 22:12:55,159 INFO sqlalchemy.engine.Engine SELECT \"Positions\".id AS \"Positions_id\", \"Positions\".upper AS \"Positions_upper\", \"Positions\".middle AS \"Positions_middle\", \"Positions\".lower AS \"Positions_lower\", \"Positions\".x AS \"Positions_x\", \"Positions\".y AS \"Positions_y\" \n",
      "FROM \"Positions\" \n",
      "WHERE \"Positions\".id = ?\n"
     ]
    },
    {
     "name": "stdout",
     "output_type": "stream",
     "text": [
      "2021-07-03 22:12:55,160 INFO sqlalchemy.engine.Engine [cached since 0.4417s ago] (99,)\n",
      "dict_keys(['lithology', 'pollutant'])\n",
      "[0, 1, 2, 3]\n",
      "Borehole geometry created successfully !\n"
     ]
    }
   ],
   "source": [
    "for bh in boreholes:\n",
    "    p.add_borehole(bh)"
   ]
  },
  {
   "cell_type": "code",
   "execution_count": 19,
   "metadata": {},
   "outputs": [
    {
     "name": "stdout",
     "output_type": "stream",
     "text": [
      "2021-07-03 22:12:55,177 INFO sqlalchemy.engine.Engine UPDATE \"Boreholes\" SET length=? WHERE \"Boreholes\".id = ?\n",
      "2021-07-03 22:12:55,178 INFO sqlalchemy.engine.Engine [cached since 0.4311s ago] (95.0, 'BH10')\n",
      "2021-07-03 22:12:55,181 INFO sqlalchemy.engine.Engine INSERT INTO \"Linkintervalcomponent\" (int_id, comp_id, extra_data) VALUES (?, ?, ?)\n",
      "2021-07-03 22:12:55,181 INFO sqlalchemy.engine.Engine [generated in 0.00075s] ((0, 2, ''), (1, 3, ''), (2, 0, ''), (3, 1, ''), (4, 6, ''), (5, 7, ''), (6, 5, ''), (7, 8, '')  ... displaying 10 of 50 total bound parameter sets ...  (48, 0, ''), (49, 1, ''))\n",
      "2021-07-03 22:12:55,183 INFO sqlalchemy.engine.Engine COMMIT\n",
      "2021-07-03 22:12:55,186 INFO sqlalchemy.engine.Engine BEGIN (implicit)\n",
      "2021-07-03 22:12:55,187 INFO sqlalchemy.engine.Engine SELECT \"Boreholes\".id AS \"Boreholes_id\", \"Boreholes\".length AS \"Boreholes_length\", \"Boreholes\".diameter AS \"Boreholes_diameter\" \n",
      "FROM \"Boreholes\"\n",
      "2021-07-03 22:12:55,188 INFO sqlalchemy.engine.Engine [cached since 0.5187s ago] ()\n"
     ]
    }
   ],
   "source": [
    "p.add_link_between_components_and_intervals(link_intv_comp)"
   ]
  },
  {
   "cell_type": "code",
   "execution_count": 20,
   "metadata": {},
   "outputs": [
    {
     "name": "stdout",
     "output_type": "stream",
     "text": [
      "2021-07-03 22:12:55,195 INFO sqlalchemy.engine.Engine COMMIT\n",
      "Boreholes in the project :  10\n"
     ]
    }
   ],
   "source": [
    "p.commit()\n",
    "print('Boreholes in the project : ', len(p.boreholes))"
   ]
  },
  {
   "cell_type": "code",
   "execution_count": 21,
   "metadata": {},
   "outputs": [
    {
     "name": "stdout",
     "output_type": "stream",
     "text": [
      "2021-07-03 22:12:55,200 INFO sqlalchemy.engine.Engine BEGIN (implicit)\n",
      "2021-07-03 22:12:55,202 INFO sqlalchemy.engine.Engine SELECT \"Boreholes\".id AS \"Boreholes_id\", \"Boreholes\".length AS \"Boreholes_length\", \"Boreholes\".diameter AS \"Boreholes_diameter\" \n",
      "FROM \"Boreholes\" \n",
      "WHERE \"Boreholes\".id = ?\n",
      "2021-07-03 22:12:55,202 INFO sqlalchemy.engine.Engine [generated in 0.00062s] ('BH001',)\n",
      "2021-07-03 22:12:55,204 INFO sqlalchemy.engine.Engine SELECT \"Intervals\".id AS \"Intervals_id\", \"Intervals\".borehole AS \"Intervals_borehole\", \"Intervals\".interval_number AS \"Intervals_interval_number\", \"Intervals\".description AS \"Intervals_description\", \"Intervals\".top_id AS \"Intervals_top_id\", \"Intervals\".base_id AS \"Intervals_base_id\", \"Intervals\".data_id AS \"Intervals_data_id\" \n",
      "FROM \"Intervals\" \n",
      "WHERE ? = \"Intervals\".borehole\n",
      "2021-07-03 22:12:55,204 INFO sqlalchemy.engine.Engine [cached since 0.4942s ago] ('BH001',)\n",
      "2021-07-03 22:12:55,206 INFO sqlalchemy.engine.Engine SELECT \"Boreholes\".id AS \"Boreholes_id\", \"Boreholes\".length AS \"Boreholes_length\", \"Boreholes\".diameter AS \"Boreholes_diameter\" \n",
      "FROM \"Boreholes\" \n",
      "WHERE \"Boreholes\".id = ?\n",
      "2021-07-03 22:12:55,206 INFO sqlalchemy.engine.Engine [cached since 0.004975s ago] ('BH002',)\n",
      "2021-07-03 22:12:55,210 INFO sqlalchemy.engine.Engine SELECT \"Intervals\".id AS \"Intervals_id\", \"Intervals\".borehole AS \"Intervals_borehole\", \"Intervals\".interval_number AS \"Intervals_interval_number\", \"Intervals\".description AS \"Intervals_description\", \"Intervals\".top_id AS \"Intervals_top_id\", \"Intervals\".base_id AS \"Intervals_base_id\", \"Intervals\".data_id AS \"Intervals_data_id\" \n",
      "FROM \"Intervals\" \n",
      "WHERE ? = \"Intervals\".borehole\n",
      "2021-07-03 22:12:55,211 INFO sqlalchemy.engine.Engine [cached since 0.5007s ago] ('BH002',)\n",
      "2021-07-03 22:12:55,213 INFO sqlalchemy.engine.Engine SELECT \"Boreholes\".id AS \"Boreholes_id\", \"Boreholes\".length AS \"Boreholes_length\", \"Boreholes\".diameter AS \"Boreholes_diameter\" \n",
      "FROM \"Boreholes\" \n",
      "WHERE \"Boreholes\".id = ?\n",
      "2021-07-03 22:12:55,214 INFO sqlalchemy.engine.Engine [cached since 0.01208s ago] ('BH003',)\n",
      "2021-07-03 22:12:55,215 INFO sqlalchemy.engine.Engine SELECT \"Intervals\".id AS \"Intervals_id\", \"Intervals\".borehole AS \"Intervals_borehole\", \"Intervals\".interval_number AS \"Intervals_interval_number\", \"Intervals\".description AS \"Intervals_description\", \"Intervals\".top_id AS \"Intervals_top_id\", \"Intervals\".base_id AS \"Intervals_base_id\", \"Intervals\".data_id AS \"Intervals_data_id\" \n",
      "FROM \"Intervals\" \n",
      "WHERE ? = \"Intervals\".borehole\n",
      "2021-07-03 22:12:55,215 INFO sqlalchemy.engine.Engine [cached since 0.5053s ago] ('BH003',)\n",
      "2021-07-03 22:12:55,217 INFO sqlalchemy.engine.Engine SELECT \"Boreholes\".id AS \"Boreholes_id\", \"Boreholes\".length AS \"Boreholes_length\", \"Boreholes\".diameter AS \"Boreholes_diameter\" \n",
      "FROM \"Boreholes\" \n",
      "WHERE \"Boreholes\".id = ?\n",
      "2021-07-03 22:12:55,218 INFO sqlalchemy.engine.Engine [cached since 0.01606s ago] ('BH004',)\n",
      "2021-07-03 22:12:55,219 INFO sqlalchemy.engine.Engine SELECT \"Intervals\".id AS \"Intervals_id\", \"Intervals\".borehole AS \"Intervals_borehole\", \"Intervals\".interval_number AS \"Intervals_interval_number\", \"Intervals\".description AS \"Intervals_description\", \"Intervals\".top_id AS \"Intervals_top_id\", \"Intervals\".base_id AS \"Intervals_base_id\", \"Intervals\".data_id AS \"Intervals_data_id\" \n",
      "FROM \"Intervals\" \n",
      "WHERE ? = \"Intervals\".borehole\n",
      "2021-07-03 22:12:55,219 INFO sqlalchemy.engine.Engine [cached since 0.5093s ago] ('BH004',)\n",
      "2021-07-03 22:12:55,220 INFO sqlalchemy.engine.Engine SELECT \"Boreholes\".id AS \"Boreholes_id\", \"Boreholes\".length AS \"Boreholes_length\", \"Boreholes\".diameter AS \"Boreholes_diameter\" \n",
      "FROM \"Boreholes\" \n",
      "WHERE \"Boreholes\".id = ?\n",
      "2021-07-03 22:12:55,221 INFO sqlalchemy.engine.Engine [cached since 0.01945s ago] ('BH005',)\n",
      "2021-07-03 22:12:55,222 INFO sqlalchemy.engine.Engine SELECT \"Intervals\".id AS \"Intervals_id\", \"Intervals\".borehole AS \"Intervals_borehole\", \"Intervals\".interval_number AS \"Intervals_interval_number\", \"Intervals\".description AS \"Intervals_description\", \"Intervals\".top_id AS \"Intervals_top_id\", \"Intervals\".base_id AS \"Intervals_base_id\", \"Intervals\".data_id AS \"Intervals_data_id\" \n",
      "FROM \"Intervals\" \n",
      "WHERE ? = \"Intervals\".borehole\n",
      "2021-07-03 22:12:55,223 INFO sqlalchemy.engine.Engine [cached since 0.5126s ago] ('BH005',)\n",
      "2021-07-03 22:12:55,224 INFO sqlalchemy.engine.Engine SELECT \"Boreholes\".id AS \"Boreholes_id\", \"Boreholes\".length AS \"Boreholes_length\", \"Boreholes\".diameter AS \"Boreholes_diameter\" \n",
      "FROM \"Boreholes\" \n",
      "WHERE \"Boreholes\".id = ?\n",
      "2021-07-03 22:12:55,225 INFO sqlalchemy.engine.Engine [cached since 0.02321s ago] ('BH006',)\n",
      "2021-07-03 22:12:55,226 INFO sqlalchemy.engine.Engine SELECT \"Intervals\".id AS \"Intervals_id\", \"Intervals\".borehole AS \"Intervals_borehole\", \"Intervals\".interval_number AS \"Intervals_interval_number\", \"Intervals\".description AS \"Intervals_description\", \"Intervals\".top_id AS \"Intervals_top_id\", \"Intervals\".base_id AS \"Intervals_base_id\", \"Intervals\".data_id AS \"Intervals_data_id\" \n",
      "FROM \"Intervals\" \n",
      "WHERE ? = \"Intervals\".borehole\n",
      "2021-07-03 22:12:55,226 INFO sqlalchemy.engine.Engine [cached since 0.5165s ago] ('BH006',)\n",
      "2021-07-03 22:12:55,228 INFO sqlalchemy.engine.Engine SELECT \"Boreholes\".id AS \"Boreholes_id\", \"Boreholes\".length AS \"Boreholes_length\", \"Boreholes\".diameter AS \"Boreholes_diameter\" \n",
      "FROM \"Boreholes\" \n",
      "WHERE \"Boreholes\".id = ?\n",
      "2021-07-03 22:12:55,229 INFO sqlalchemy.engine.Engine [cached since 0.02752s ago] ('BH007',)\n",
      "2021-07-03 22:12:55,230 INFO sqlalchemy.engine.Engine SELECT \"Intervals\".id AS \"Intervals_id\", \"Intervals\".borehole AS \"Intervals_borehole\", \"Intervals\".interval_number AS \"Intervals_interval_number\", \"Intervals\".description AS \"Intervals_description\", \"Intervals\".top_id AS \"Intervals_top_id\", \"Intervals\".base_id AS \"Intervals_base_id\", \"Intervals\".data_id AS \"Intervals_data_id\" \n",
      "FROM \"Intervals\" \n",
      "WHERE ? = \"Intervals\".borehole\n",
      "2021-07-03 22:12:55,231 INFO sqlalchemy.engine.Engine [cached since 0.5209s ago] ('BH007',)\n",
      "2021-07-03 22:12:55,233 INFO sqlalchemy.engine.Engine SELECT \"Boreholes\".id AS \"Boreholes_id\", \"Boreholes\".length AS \"Boreholes_length\", \"Boreholes\".diameter AS \"Boreholes_diameter\" \n",
      "FROM \"Boreholes\" \n",
      "WHERE \"Boreholes\".id = ?\n",
      "2021-07-03 22:12:55,233 INFO sqlalchemy.engine.Engine [cached since 0.03167s ago] ('BH008',)\n",
      "2021-07-03 22:12:55,234 INFO sqlalchemy.engine.Engine SELECT \"Intervals\".id AS \"Intervals_id\", \"Intervals\".borehole AS \"Intervals_borehole\", \"Intervals\".interval_number AS \"Intervals_interval_number\", \"Intervals\".description AS \"Intervals_description\", \"Intervals\".top_id AS \"Intervals_top_id\", \"Intervals\".base_id AS \"Intervals_base_id\", \"Intervals\".data_id AS \"Intervals_data_id\" \n",
      "FROM \"Intervals\" \n",
      "WHERE ? = \"Intervals\".borehole\n",
      "2021-07-03 22:12:55,235 INFO sqlalchemy.engine.Engine [cached since 0.5249s ago] ('BH008',)\n",
      "2021-07-03 22:12:55,237 INFO sqlalchemy.engine.Engine SELECT \"Boreholes\".id AS \"Boreholes_id\", \"Boreholes\".length AS \"Boreholes_length\", \"Boreholes\".diameter AS \"Boreholes_diameter\" \n",
      "FROM \"Boreholes\" \n",
      "WHERE \"Boreholes\".id = ?\n",
      "2021-07-03 22:12:55,237 INFO sqlalchemy.engine.Engine [cached since 0.036s ago] ('BH009',)\n",
      "2021-07-03 22:12:55,239 INFO sqlalchemy.engine.Engine SELECT \"Intervals\".id AS \"Intervals_id\", \"Intervals\".borehole AS \"Intervals_borehole\", \"Intervals\".interval_number AS \"Intervals_interval_number\", \"Intervals\".description AS \"Intervals_description\", \"Intervals\".top_id AS \"Intervals_top_id\", \"Intervals\".base_id AS \"Intervals_base_id\", \"Intervals\".data_id AS \"Intervals_data_id\" \n",
      "FROM \"Intervals\" \n",
      "WHERE ? = \"Intervals\".borehole\n",
      "2021-07-03 22:12:55,240 INFO sqlalchemy.engine.Engine [cached since 0.5298s ago] ('BH009',)\n",
      "2021-07-03 22:12:55,242 INFO sqlalchemy.engine.Engine SELECT \"Boreholes\".id AS \"Boreholes_id\", \"Boreholes\".length AS \"Boreholes_length\", \"Boreholes\".diameter AS \"Boreholes_diameter\" \n",
      "FROM \"Boreholes\" \n",
      "WHERE \"Boreholes\".id = ?\n",
      "2021-07-03 22:12:55,243 INFO sqlalchemy.engine.Engine [cached since 0.04127s ago] ('BH10',)\n",
      "2021-07-03 22:12:55,244 INFO sqlalchemy.engine.Engine SELECT \"Intervals\".id AS \"Intervals_id\", \"Intervals\".borehole AS \"Intervals_borehole\", \"Intervals\".interval_number AS \"Intervals_interval_number\", \"Intervals\".description AS \"Intervals_description\", \"Intervals\".top_id AS \"Intervals_top_id\", \"Intervals\".base_id AS \"Intervals_base_id\", \"Intervals\".data_id AS \"Intervals_data_id\" \n",
      "FROM \"Intervals\" \n",
      "WHERE ? = \"Intervals\".borehole\n"
     ]
    },
    {
     "name": "stdout",
     "output_type": "stream",
     "text": [
      "2021-07-03 22:12:55,245 INFO sqlalchemy.engine.Engine [cached since 0.5349s ago] ('BH10',)\n"
     ]
    },
    {
     "data": {
      "text/plain": [
       "[<core.orm.BoreholeOrm>(Name=BH001, Length=97.0, Diameter=0.43, Intervals=4),\n",
       " <core.orm.BoreholeOrm>(Name=BH002, Length=98.0, Diameter=0.6, Intervals=5),\n",
       " <core.orm.BoreholeOrm>(Name=BH003, Length=100.0, Diameter=0.41, Intervals=5),\n",
       " <core.orm.BoreholeOrm>(Name=BH004, Length=96.0, Diameter=0.61, Intervals=5),\n",
       " <core.orm.BoreholeOrm>(Name=BH005, Length=97.0, Diameter=0.61, Intervals=6),\n",
       " <core.orm.BoreholeOrm>(Name=BH006, Length=100.0, Diameter=0.31, Intervals=5),\n",
       " <core.orm.BoreholeOrm>(Name=BH007, Length=97.0, Diameter=0.57, Intervals=6),\n",
       " <core.orm.BoreholeOrm>(Name=BH008, Length=98.0, Diameter=0.39, Intervals=5),\n",
       " <core.orm.BoreholeOrm>(Name=BH009, Length=94.0, Diameter=0.5, Intervals=5),\n",
       " <core.orm.BoreholeOrm>(Name=BH10, Length=95.0, Diameter=0.31, Intervals=4)]"
      ]
     },
     "execution_count": 21,
     "metadata": {},
     "output_type": "execute_result"
    }
   ],
   "source": [
    "p.boreholes"
   ]
  },
  {
   "cell_type": "code",
   "execution_count": 22,
   "metadata": {},
   "outputs": [
    {
     "name": "stdout",
     "output_type": "stream",
     "text": [
      "2021-07-03 22:12:55,251 INFO sqlalchemy.engine.Engine SELECT \"Boreholes\".id AS \"Boreholes_id\", \"Boreholes\".length AS \"Boreholes_length\", \"Boreholes\".diameter AS \"Boreholes_diameter\" \n",
      "FROM \"Boreholes\"\n",
      "2021-07-03 22:12:55,251 INFO sqlalchemy.engine.Engine [cached since 0.5822s ago] ()\n"
     ]
    }
   ],
   "source": [
    "p.refresh(verbose=False)"
   ]
  },
  {
   "cell_type": "code",
   "execution_count": 23,
   "metadata": {},
   "outputs": [
    {
     "name": "stdout",
     "output_type": "stream",
     "text": [
      "2021-07-03 22:12:55,257 INFO sqlalchemy.engine.Engine ROLLBACK\n"
     ]
    }
   ],
   "source": [
    "session.close()"
   ]
  },
  {
   "cell_type": "markdown",
   "metadata": {},
   "source": [
    "# 2D/3D Display"
   ]
  },
  {
   "cell_type": "code",
   "execution_count": 24,
   "metadata": {},
   "outputs": [
    {
     "data": {
      "text/plain": [
       "['lithology', 'pollutant']"
      ]
     },
     "execution_count": 24,
     "metadata": {},
     "output_type": "execute_result"
    }
   ],
   "source": [
    "attributes = list(p.legend_dict.keys())\n",
    "attributes"
   ]
  },
  {
   "cell_type": "code",
   "execution_count": 25,
   "metadata": {},
   "outputs": [
    {
     "name": "stdout",
     "output_type": "stream",
     "text": [
      "-----------\n",
      " {'lithology': {'legend': Legend(Decor({'_colour': '#ffcb23', 'width': 3, 'hatch': \"'..'\", 'component': Component({'lithology': 'sable'})})\n",
      "Decor({'_colour': '#d5e6cc', 'width': 3, 'hatch': \"'---'\", 'component': Component({'lithology': 'argile'})})\n",
      "Decor({'_colour': '#7ba1a8', 'width': 3, 'hatch': None, 'component': Component({'lithology': 'marne'})})\n",
      "Decor({'_colour': '#000000', 'width': 3, 'hatch': None, 'component': Component({'lithology': 'charbon'})})\n",
      "Decor({'_colour': '#fdaffe', 'width': 3, 'hatch': None, 'component': Component({'lithology': 'dolomie'})})\n",
      "Decor({'_colour': '#bbffdd', 'width': 3, 'hatch': \"'--'\", 'component': Component({'lithology': 'schiste'})})\n",
      "Decor({'_colour': '#149eff', 'width': 3, 'hatch': \"'='\", 'component': Component({'lithology': 'calcaire'})})), 'cmap': <matplotlib.colors.ListedColormap object at 0x7fd54fb5c3d0>, 'values': ['sable', 'argile', 'marne', 'charbon', 'dolomie', 'schiste', 'calcaire']}, 'pollutant': {'legend': Legend(Decor({'_colour': '#ff0000', 'width': 3, 'component': Component({'pollutant': 'vi'}), 'hatch': None})\n",
      "Decor({'_colour': '#00ff00', 'width': 3, 'component': Component({'pollutant': 'vr'}), 'hatch': None})\n",
      "Decor({'_colour': '#ffa500', 'width': 3, 'component': Component({'pollutant': 'vs'}), 'hatch': None})\n",
      "Decor({'_colour': '#ffffff', 'width': 3, 'component': Component({'pollutant': 'Inconnu'}), 'hatch': None})), 'cmap': <matplotlib.colors.ListedColormap object at 0x7fd54fb5f6d0>, 'values': ['vi', 'vr', 'vs', 'Inconnu']}}\n"
     ]
    },
    {
     "data": {
      "image/png": "[encoded data removed]",
      "text/html": [
       "<div style=\"vertical-align: middle;\"><strong>from_list</strong> </div><div class=\"cmap\"><img alt=\"from_list colormap\" title=\"from_list\" style=\"border: 1px solid #555;\" src=\"data:image/png;base64,iVBORw0KGgoAAAANSUhEUgAAAgAAAABACAYAAABsv8+/AAAAGHRFWHRUaXRsZQBmcm9tX2xpc3QgY29sb3JtYXBDL89FAAAAHnRFWHREZXNjcmlwdGlvbgBmcm9tX2xpc3QgY29sb3JtYXABtCnOAAAAMHRFWHRBdXRob3IATWF0cGxvdGxpYiB2My40LjIsIGh0dHBzOi8vbWF0cGxvdGxpYi5vcmes1mPdAAAAMnRFWHRTb2Z0d2FyZQBNYXRwbG90bGliIHYzLjQuMiwgaHR0cHM6Ly9tYXRwbG90bGliLm9yZ4Jw/PoAAAFjSURBVHic7darjUJRAABRoA0c2xCSVVRDHTiSVRRAQgP4VSRUwqcDJPeROaeCkTN/Xn6eM976X/6NTpi8w+k6OmHydtvN6ITJux8foxO+wnl9G50wab/71eiEr7AYHQAAfJ4BAIAgAwAAQQYAAIIMAAAEGQAACDIAABBkAAAgyAAAQJABAIAgAwAAQQYAAIIMAAAEGQAACDIAABBkAAAgyAAAQJABAIAgAwAAQQYAAIIMAAAEGQAACDIAABBkAAAgyAAAQJABAIAgAwAAQQYAAIIMAAAEGQAACDIAABBkAAAgyAAAQJABAIAgAwAAQQYAAIIMAAAEGQAACDIAABBkAAAgyAAAQJABAIAgAwAAQQYAAIIMAAAEGQAACDIAABBkAAAgyAAAQJABAIAgAwAAQQYAAIIMAAAEGQAACDIAABBkAAAgyAAAQJABAIAgAwAAQQYAAIIMAAAEGQAACDIAABD0AiMCDjC6gHT1AAAAAElFTkSuQmCC\"></div><div style=\"vertical-align: middle; max-width: 514px; display: flex; justify-content: space-between;\"><div style=\"float: left;\"><div title=\"#ffcb23ff\" style=\"display: inline-block; width: 1em; height: 1em; margin: 0; vertical-align: middle; border: 1px solid #555; background-color: #ffcb23ff;\"></div> under</div><div style=\"margin: 0 auto; display: inline-block;\">bad <div title=\"#00000000\" style=\"display: inline-block; width: 1em; height: 1em; margin: 0; vertical-align: middle; border: 1px solid #555; background-color: #00000000;\"></div></div><div style=\"float: right;\">over <div title=\"#149effff\" style=\"display: inline-block; width: 1em; height: 1em; margin: 0; vertical-align: middle; border: 1px solid #555; background-color: #149effff;\"></div></div>"
      ],
      "text/plain": [
       "<matplotlib.colors.ListedColormap at 0x7fd54fb5c3d0>"
      ]
     },
     "execution_count": 25,
     "metadata": {},
     "output_type": "execute_result"
    }
   ],
   "source": [
    "p.update_legend_cmap(update_all_attrib=True)[0][attributes[0]]['cmap']"
   ]
  },
  {
   "cell_type": "code",
   "execution_count": 26,
   "metadata": {},
   "outputs": [
    {
     "data": {
      "text/plain": [
       "{'lithology': {'legend': Legend(Decor({'_colour': '#ffcb23', 'width': 3, 'hatch': \"'..'\", 'component': Component({'lithology': 'sable'})})\n",
       "  Decor({'_colour': '#d5e6cc', 'width': 3, 'hatch': \"'---'\", 'component': Component({'lithology': 'argile'})})\n",
       "  Decor({'_colour': '#7ba1a8', 'width': 3, 'hatch': None, 'component': Component({'lithology': 'marne'})})\n",
       "  Decor({'_colour': '#000000', 'width': 3, 'hatch': None, 'component': Component({'lithology': 'charbon'})})\n",
       "  Decor({'_colour': '#fdaffe', 'width': 3, 'hatch': None, 'component': Component({'lithology': 'dolomie'})})\n",
       "  Decor({'_colour': '#bbffdd', 'width': 3, 'hatch': \"'--'\", 'component': Component({'lithology': 'schiste'})})\n",
       "  Decor({'_colour': '#149eff', 'width': 3, 'hatch': \"'='\", 'component': Component({'lithology': 'calcaire'})})),\n",
       "  'cmap': <matplotlib.colors.ListedColormap at 0x7fd54fb5c3d0>,\n",
       "  'values': ['sable',\n",
       "   'argile',\n",
       "   'marne',\n",
       "   'charbon',\n",
       "   'dolomie',\n",
       "   'schiste',\n",
       "   'calcaire']},\n",
       " 'pollutant': {'legend': Legend(Decor({'_colour': '#ff0000', 'width': 3, 'component': Component({'pollutant': 'vi'}), 'hatch': None})\n",
       "  Decor({'_colour': '#00ff00', 'width': 3, 'component': Component({'pollutant': 'vr'}), 'hatch': None})\n",
       "  Decor({'_colour': '#ffa500', 'width': 3, 'component': Component({'pollutant': 'vs'}), 'hatch': None})\n",
       "  Decor({'_colour': '#ffffff', 'width': 3, 'component': Component({'pollutant': 'Inconnu'}), 'hatch': None})),\n",
       "  'cmap': <matplotlib.colors.ListedColormap at 0x7fd54fb5f6d0>,\n",
       "  'values': ['vi', 'vr', 'vs', 'Inconnu']}}"
      ]
     },
     "execution_count": 26,
     "metadata": {},
     "output_type": "execute_result"
    }
   ],
   "source": [
    "p.legend_dict#[attributes[0]]['cmap']"
   ]
  },
  {
   "cell_type": "markdown",
   "metadata": {},
   "source": [
    "## Display one object (attribute = 'lithology')"
   ]
  },
  {
   "cell_type": "raw",
   "metadata": {},
   "source": [
    "bh = 4\n",
    "#print(p.boreholes_3d[bh].name, '\\n', p.boreholes_3d[bh].intervals)"
   ]
  },
  {
   "cell_type": "code",
   "execution_count": 27,
   "metadata": {},
   "outputs": [
    {
     "data": {
      "text/plain": [
       "[Component({'lithology': 'sable', 'pollutant': 'vs'}),\n",
       " Component({'lithology': 'argile', 'pollutant': 'vs'}),\n",
       " Component({'lithology': 'marne', 'pollutant': 'vr'}),\n",
       " Component({'lithology': 'charbon', 'pollutant': 'vr'}),\n",
       " Component({'lithology': 'dolomie', 'pollutant': 'vr'})]"
      ]
     },
     "execution_count": 27,
     "metadata": {},
     "output_type": "execute_result"
    }
   ],
   "source": [
    "bh = 1\n",
    "p.boreholes_3d[bh]._components"
   ]
  },
  {
   "cell_type": "code",
   "execution_count": 28,
   "metadata": {},
   "outputs": [
    {
     "name": "stderr",
     "output_type": "stream",
     "text": [
      "/home/yanathan/.local/share/virtualenvs/GSDMA-DRfwm83x/lib/python3.8/site-packages/striplog/striplog.py:1505: MatplotlibDeprecationWarning: hatch must consist of a string of \"*+-./OX\\ox|\" or None, but found the following invalid values \"'\". Passing invalid values is deprecated since 3.4 and will become an error two minor releases later.\n",
      "  rect = mpl.patches.Rectangle(origin,\n",
      "/home/yanathan/.local/share/virtualenvs/GSDMA-DRfwm83x/lib/python3.8/site-packages/striplog/legend.py:311: MatplotlibDeprecationWarning: hatch must consist of a string of \"*+-./OX\\ox|\" or None, but found the following invalid values \"'\". Passing invalid values is deprecated since 3.4 and will become an error two minor releases later.\n",
      "  rect1 = patches.Rectangle((0, 0),\n"
     ]
    },
    {
     "data": {
      "image/png": "[encoded data removed]",
      "text/plain": [
       "<Figure size 432x432 with 7 Axes>"
      ]
     },
     "metadata": {
      "needs_background": "light"
     },
     "output_type": "display_data"
    }
   ],
   "source": [
    "p.boreholes_3d[bh].log_plot()"
   ]
  },
  {
   "cell_type": "code",
   "execution_count": 29,
   "metadata": {},
   "outputs": [],
   "source": [
    "sargs = dict(title='test', title_font_size=30, label_font_size=12, n_labels=0,\n",
    "             fmt=\"%.2f\", font_family=\"arial\", color='k',interactive=True, \n",
    "             vertical=True, italic=True, shadow=False,)"
   ]
  },
  {
   "cell_type": "code",
   "execution_count": 30,
   "metadata": {
    "scrolled": false
   },
   "outputs": [
    {
     "name": "stdout",
     "output_type": "stream",
     "text": [
      "{0.4: 'sable', 1.2000000000000002: 'argile', 2.0: 'marne', 2.8000000000000003: 'charbon', 3.6: 'dolomie'}\n",
      "5\n"
     ]
    },
    {
     "data": {
      "application/vnd.jupyter.widget-view+json": {
       "model_id": "a76fd41c7ac34e13bd4f139292977803",
       "version_major": 2,
       "version_minor": 0
      },
      "text/plain": [
       "ViewInteractiveWidget(height=768, layout=Layout(height='auto', width='100%'), width=1024)"
      ]
     },
     "metadata": {},
     "output_type": "display_data"
    }
   ],
   "source": [
    "bh=1\n",
    "p.boreholes_3d[bh].plot3d(show_legend=False, scalar_bar_args=sargs)"
   ]
  },
  {
   "cell_type": "raw",
   "metadata": {},
   "source": [
    "p.boreholes_3d[bh].plot3d(x3d=True)"
   ]
  },
  {
   "cell_type": "markdown",
   "metadata": {},
   "source": [
    "## Plot with another attribute"
   ]
  },
  {
   "cell_type": "raw",
   "metadata": {},
   "source": [
    "p.update_legend_cmap(repr_attribute='pollutant')[1] #legend=lithology_memoris, update_legend=False)[0]"
   ]
  },
  {
   "cell_type": "code",
   "execution_count": 31,
   "metadata": {},
   "outputs": [
    {
     "data": {
      "image/png": "[encoded data removed]",
      "text/plain": [
       "<Figure size 432x432 with 4 Axes>"
      ]
     },
     "metadata": {
      "needs_background": "light"
     },
     "output_type": "display_data"
    }
   ],
   "source": [
    "p.boreholes_3d[bh].log_plot(repr_attribute='pollutant')#, repr_legend=pollutant_memoris)"
   ]
  },
  {
   "cell_type": "code",
   "execution_count": 32,
   "metadata": {},
   "outputs": [
    {
     "name": "stdout",
     "output_type": "stream",
     "text": [
      "{0.25: 'vs', 0.75: 'vr'}\n",
      "2\n"
     ]
    },
    {
     "data": {
      "application/vnd.jupyter.widget-view+json": {
       "model_id": "33ffb282708b409f9984dbc7ab4e86aa",
       "version_major": 2,
       "version_minor": 0
      },
      "text/plain": [
       "ViewInteractiveWidget(height=768, layout=Layout(height='auto', width='100%'), width=1024)"
      ]
     },
     "metadata": {},
     "output_type": "display_data"
    }
   ],
   "source": [
    "p.boreholes_3d[bh].plot3d(repr_attribute='pollutant')#, repr_legend=pollutant_memoris, show_legend=True)"
   ]
  },
  {
   "cell_type": "code",
   "execution_count": null,
   "metadata": {},
   "outputs": [],
   "source": []
  },
  {
   "cell_type": "markdown",
   "metadata": {},
   "source": [
    "### Display project boreholes"
   ]
  },
  {
   "cell_type": "code",
   "execution_count": 33,
   "metadata": {},
   "outputs": [
    {
     "name": "stdout",
     "output_type": "stream",
     "text": [
      "Colormap computing ...\n",
      "{0.25: 'vi', 0.75: 'vr', 1.25: 'vs'}\n",
      "4\n",
      "Colormap computing ...\n",
      "{0.125: 'vs', 0.375: 'vr'}\n",
      "4\n",
      "Colormap computing ...\n",
      "{0.25: 'vs', 0.75: 'vr', 1.25: 'vi'}\n",
      "4\n",
      "Colormap computing ...\n",
      "{0.25: 'vi', 0.75: 'vr', 1.25: 'vs'}\n",
      "4\n",
      "Colormap computing ...\n",
      "{0.25: 'vi', 0.75: 'vs', 1.25: 'Inconnu'}\n",
      "4\n",
      "Colormap computing ...\n",
      "{0.25: 'vi', 0.75: 'vs', 1.25: 'vr'}\n",
      "4\n",
      "Colormap computing ...\n",
      "{0.375: 'vi', 1.125: 'vr', 1.875: 'vs', 2.625: 'Inconnu'}\n",
      "4\n",
      "Colormap computing ...\n",
      "{0.25: 'vr', 0.75: 'vs', 1.25: 'vi'}\n",
      "4\n",
      "Colormap computing ...\n",
      "{0.25: 'vi', 0.75: 'vs', 1.25: 'vr'}\n",
      "4\n",
      "Colormap computing ...\n",
      "{0.125: 'vs', 0.375: 'vi'}\n",
      "4\n"
     ]
    }
   ],
   "source": [
    "p.plot3d(repr_attribute='pollutant', labels_size=15, bg_color=[\"royalblue\", \"aliceblue\"], window_size=(1300, 1000))"
   ]
  },
  {
   "cell_type": "markdown",
   "metadata": {},
   "source": [
    "### Boreholes in 3D using X3D for interaction within the notebook"
   ]
  },
  {
   "cell_type": "raw",
   "metadata": {
    "scrolled": false
   },
   "source": [
    "p.plot3d(x3d=True)"
   ]
  },
  {
   "cell_type": "code",
   "execution_count": null,
   "metadata": {},
   "outputs": [],
   "source": []
  }
 ],
 "metadata": {
  "kernelspec": {
   "display_name": "Python 3",
   "language": "python",
   "name": "python3"
  },
  "language_info": {
   "codemirror_mode": {
    "name": "ipython",
    "version": 3
   },
   "file_extension": ".py",
   "mimetype": "text/x-python",
   "name": "python",
   "nbconvert_exporter": "python",
   "pygments_lexer": "ipython3",
   "version": "3.8.10"
  }
 },
 "nbformat": 4,
 "nbformat_minor": 4
}
