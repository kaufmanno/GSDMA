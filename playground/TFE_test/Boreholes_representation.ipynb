{
 "cells": [
  {
   "cell_type": "markdown",
   "metadata": {},
   "source": [
    "# Example of using the Borehole3D class"
   ]
  },
  {
   "cell_type": "markdown",
   "metadata": {},
   "source": [
    "## Imports"
   ]
  },
  {
   "cell_type": "code",
   "execution_count": 1,
   "metadata": {},
   "outputs": [],
   "source": [
    "from striplog import Component, Decor, Legend, Lexicon, Striplog\n",
    "from core.visual import Borehole3D, striplog_legend_to_omf_legend \n",
    "from utils.lexicon.lexicon_memoris import lexicon_memoris, lithology_memoris, pollutants_memoris, CONTAMINATION_LEVELS_MEMORIS\n",
    "from utils.orm import boreholes_from_dataframe\n",
    "from utils.io import dataframe_viewer\n",
    "from core.project import Project\n",
    "from core.orm import BoreholeOrm, PositionOrm, Base \n",
    "import random\n",
    "from os import remove\n",
    "import re\n",
    "import pandas as pd\n",
    "import numpy as np\n",
    "from sqlalchemy import create_engine\n",
    "from sqlalchemy.orm import sessionmaker\n",
    "from definitions import ROOT_DIR"
   ]
  },
  {
   "cell_type": "markdown",
   "metadata": {},
   "source": [
    "## Reading of CSV files in a dir"
   ]
  },
  {
   "cell_type": "code",
   "execution_count": 2,
   "metadata": {},
   "outputs": [],
   "source": [
    "#df = pd.read_csv('test_data_boreholes.csv', sep=',') # use english lexicon\n",
    "df = pd.read_csv('test_litho_fr.csv', sep=',') # use french lexicon"
   ]
  },
  {
   "cell_type": "raw",
   "metadata": {},
   "source": [
    "std_soil = pd.read_csv(ROOT_DIR+'/CF_data/Result_traitem/Memoris_seafile/donnees_Standards_S.csv')\n",
    "std_water = pd.read_csv(ROOT_DIR+'/CF_data/Result_traitem/Memoris_seafile/donnees_Standards_W.csv')"
   ]
  },
  {
   "cell_type": "raw",
   "metadata": {},
   "source": [
    "all_pollutants = std_soil['Polluant'].apply(lambda x: re.sub('é|è','e', x).rstrip(' ').lower()).to_list()\n",
    "all_pollutants"
   ]
  },
  {
   "cell_type": "code",
   "execution_count": 3,
   "metadata": {},
   "outputs": [],
   "source": [
    "all_pollutants = pollutants_memoris.pollutant"
   ]
  },
  {
   "cell_type": "raw",
   "metadata": {},
   "source": [
    "print(all_pollutants)"
   ]
  },
  {
   "cell_type": "markdown",
   "metadata": {},
   "source": [
    "## Data Checking"
   ]
  },
  {
   "cell_type": "code",
   "execution_count": 4,
   "metadata": {},
   "outputs": [],
   "source": [
    "#df[['Pollutant', 'Concentration']] = ''\n",
    "df.drop(columns=['Pollutant', 'Concentration', 'Unit'], inplace=True)\n",
    "#df['Concentration'] = df['Concentration'].apply(lambda x: np.random.randint(0,100))\n",
    "#df['Unit'] = 'mg/l'"
   ]
  },
  {
   "cell_type": "code",
   "execution_count": 5,
   "metadata": {},
   "outputs": [],
   "source": [
    "pol_lev = ['VR','VS','VI', 'Inconnu']\n",
    "df[all_pollutants[0:2]] = ''\n",
    "df[all_pollutants[0]] = df[all_pollutants[0]].apply(lambda x: random.sample(pol_lev, 1)[0])\n",
    "df[all_pollutants[1]] = df[all_pollutants[1]].apply(lambda x: random.sample(pol_lev, 1)[0])"
   ]
  },
  {
   "cell_type": "code",
   "execution_count": 6,
   "metadata": {},
   "outputs": [],
   "source": [
    "df['Lithology'] = df['Lithology'].replace({'Grès':'Marne', 'Calcaire':'Dolomie'})"
   ]
  },
  {
   "cell_type": "code",
   "execution_count": 7,
   "metadata": {},
   "outputs": [],
   "source": [
    "df.loc[35.5, :] = ['BH007',152794.0, 121111.0, 60.0, 0.57, 45, 'Calcaire', 'Bleu', 4, 41, 45, 'VS', 'VR']\n",
    "df.loc[25.5, :] = ['BH005',152473.0, 121460.0, 72.0, 0.61, 32, 'Schiste', 'gris', 3, 29, 32, 'VI', 'VR']\n",
    "df.loc[25.6, :] = ['BH005',152473.0, 121460.0, 68.0, 0.61, 36, 'Calcaire', 'Bleu', 4, 32, 36, 'Inconnu', 'VR']\n",
    "\n",
    "df.drop(index=4, inplace=True)\n",
    "df.drop(columns='Colour', inplace=True)\n",
    "df = df.sort_index().reset_index(drop=True)"
   ]
  },
  {
   "cell_type": "code",
   "execution_count": 8,
   "metadata": {},
   "outputs": [],
   "source": [
    "pollutants = [p for p in all_pollutants if p in df.columns]"
   ]
  },
  {
   "cell_type": "code",
   "execution_count": 9,
   "metadata": {},
   "outputs": [
    {
     "name": "stdout",
     "output_type": "stream",
     "text": [
      "Rows : 997, columns : 12\n"
     ]
    },
    {
     "data": {
      "application/vnd.jupyter.widget-view+json": {
       "model_id": "c02acc765dbe451c9cf614f99f72672f",
       "version_major": 2,
       "version_minor": 0
      },
      "text/plain": [
       "interactive(children=(IntSlider(value=10, description='rows', max=997, min=10, readout=False), IntSlider(value…"
      ]
     },
     "metadata": {},
     "output_type": "display_data"
    }
   ],
   "source": [
    "dataframe_viewer(df)"
   ]
  },
  {
   "cell_type": "raw",
   "metadata": {},
   "source": [
    "df.to_csv('test_litho_fr.csv', index=False)"
   ]
  },
  {
   "cell_type": "raw",
   "metadata": {},
   "source": [
    "df.query('X==152013.0 and Y==121905.0')"
   ]
  },
  {
   "cell_type": "markdown",
   "metadata": {},
   "source": [
    "## Create Boreholes from dataframes or files"
   ]
  },
  {
   "cell_type": "code",
   "execution_count": 10,
   "metadata": {
    "scrolled": true
   },
   "outputs": [
    {
     "name": "stdout",
     "output_type": "stream",
     "text": [
      "\n",
      "Dataframe processing...\n",
      "================================\n",
      "\n",
      "|__ID:'BH001'\n",
      "components: [Component({'lithology': 'sable'}), Component({'arsenic': 'vs'}), Component({'cadmium': 'vs'})]\n",
      "components: [Component({'lithology': 'argile'}), Component({'arsenic': 'inconnu'}), Component({'cadmium': 'inconnu'})]\n",
      "components: [Component({'lithology': 'marne'}), Component({'arsenic': 'vi'}), Component({'cadmium': 'inconnu'})]\n",
      "components: [Component({'lithology': 'charbon'}), Component({'arsenic': 'vr'}), Component({'cadmium': 'inconnu'})]\n",
      "Summary : [Striplog(4 Intervals, start=0.0, stop=28.0)]\n",
      "\n",
      "|__ID:'BH002'\n",
      "components: [Component({'lithology': 'sable'}), Component({'arsenic': 'inconnu'}), Component({'cadmium': 'vs'})]\n",
      "components: [Component({'lithology': 'argile'}), Component({'arsenic': 'vr'}), Component({'cadmium': 'inconnu'})]\n",
      "components: [Component({'lithology': 'marne'}), Component({'arsenic': 'vi'}), Component({'cadmium': 'vs'})]\n",
      "components: [Component({'lithology': 'charbon'}), Component({'arsenic': 'vs'}), Component({'cadmium': 'vi'})]\n",
      "components: [Component({'lithology': 'dolomie'}), Component({'arsenic': 'vs'}), Component({'cadmium': 'vr'})]\n",
      "Summary : [Striplog(5 Intervals, start=0.0, stop=37.0)]\n",
      "\n",
      "|__ID:'BH003'\n",
      "components: [Component({'lithology': 'sable'}), Component({'arsenic': 'vs'}), Component({'cadmium': 'vr'})]\n",
      "components: [Component({'lithology': 'argile'}), Component({'arsenic': 'vs'}), Component({'cadmium': 'vr'})]\n",
      "components: [Component({'lithology': 'marne'}), Component({'arsenic': 'vs'}), Component({'cadmium': 'vs'})]\n",
      "components: [Component({'lithology': 'charbon'}), Component({'arsenic': 'vr'}), Component({'cadmium': 'vi'})]\n",
      "components: [Component({'lithology': 'dolomie'}), Component({'arsenic': 'inconnu'}), Component({'cadmium': 'inconnu'})]\n",
      "Summary : [Striplog(5 Intervals, start=0.0, stop=18.0)]\n",
      "\n",
      "|__ID:'BH004'\n",
      "components: [Component({'lithology': 'sable'}), Component({'arsenic': 'vr'}), Component({'cadmium': 'vi'})]\n",
      "components: [Component({'lithology': 'argile'}), Component({'arsenic': 'vr'}), Component({'cadmium': 'vs'})]\n",
      "components: [Component({'lithology': 'marne'}), Component({'arsenic': 'vs'}), Component({'cadmium': 'vs'})]\n",
      "components: [Component({'lithology': 'charbon'}), Component({'arsenic': 'inconnu'}), Component({'cadmium': 'inconnu'})]\n",
      "components: [Component({'lithology': 'dolomie'}), Component({'arsenic': 'vi'}), Component({'cadmium': 'inconnu'})]\n",
      "Summary : [Striplog(5 Intervals, start=0.0, stop=26.0)]\n",
      "\n",
      "|__ID:'BH005'\n",
      "components: [Component({'lithology': 'sable'}), Component({'arsenic': 'vi'}), Component({'cadmium': 'vs'})]\n",
      "components: [Component({'lithology': 'argile'}), Component({'arsenic': 'vi'}), Component({'cadmium': 'vi'})]\n",
      "components: [Component({'lithology': 'marne'}), Component({'arsenic': 'inconnu'}), Component({'cadmium': 'vs'})]\n",
      "components: [Component({'lithology': 'charbon'}), Component({'arsenic': 'vs'}), Component({'cadmium': 'vi'})]\n",
      "components: [Component({'lithology': 'dolomie'}), Component({'arsenic': 'vr'}), Component({'cadmium': 'vr'})]\n",
      "components: [Component({'lithology': 'schiste'}), Component({'arsenic': 'vi'}), Component({'cadmium': 'vr'})]\n",
      "components: [Component({'lithology': 'calcaire'}), Component({'arsenic': 'inconnu'}), Component({'cadmium': 'vr'})]\n",
      "Summary : [Striplog(7 Intervals, start=0.0, stop=36.0)]\n",
      "\n",
      "|__ID:'BH006'\n",
      "components: [Component({'lithology': 'sable'}), Component({'arsenic': 'vs'}), Component({'cadmium': 'vs'})]\n",
      "components: [Component({'lithology': 'argile'}), Component({'arsenic': 'vi'}), Component({'cadmium': 'vr'})]\n",
      "components: [Component({'lithology': 'marne'}), Component({'arsenic': 'vi'}), Component({'cadmium': 'vi'})]\n",
      "components: [Component({'lithology': 'charbon'}), Component({'arsenic': 'vs'}), Component({'cadmium': 'vr'})]\n",
      "components: [Component({'lithology': 'dolomie'}), Component({'arsenic': 'vi'}), Component({'cadmium': 'vr'})]\n",
      "Summary : [Striplog(5 Intervals, start=0.0, stop=26.0)]\n",
      "\n",
      "|__ID:'BH007'\n",
      "components: [Component({'lithology': 'sable'}), Component({'arsenic': 'vi'}), Component({'cadmium': 'vs'})]\n",
      "components: [Component({'lithology': 'argile'}), Component({'arsenic': 'vr'}), Component({'cadmium': 'vs'})]\n",
      "components: [Component({'lithology': 'marne'}), Component({'arsenic': 'vs'}), Component({'cadmium': 'vr'})]\n",
      "components: [Component({'lithology': 'charbon'}), Component({'arsenic': 'vi'}), Component({'cadmium': 'inconnu'})]\n",
      "components: [Component({'lithology': 'dolomie'}), Component({'arsenic': 'vi'}), Component({'cadmium': 'vi'})]\n",
      "components: [Component({'lithology': 'calcaire'}), Component({'arsenic': 'vs'}), Component({'cadmium': 'vr'})]\n",
      "Summary : [Striplog(6 Intervals, start=0.0, stop=45.0)]\n",
      "\n",
      "|__ID:'BH008'\n",
      "components: [Component({'lithology': 'sable'}), Component({'arsenic': 'vr'}), Component({'cadmium': 'vs'})]\n",
      "components: [Component({'lithology': 'argile'}), Component({'arsenic': 'inconnu'}), Component({'cadmium': 'vr'})]\n",
      "components: [Component({'lithology': 'marne'}), Component({'arsenic': 'inconnu'}), Component({'cadmium': 'vs'})]\n",
      "components: [Component({'lithology': 'charbon'}), Component({'arsenic': 'inconnu'}), Component({'cadmium': 'vi'})]\n",
      "components: [Component({'lithology': 'dolomie'}), Component({'arsenic': 'vi'}), Component({'cadmium': 'vi'})]\n",
      "Summary : [Striplog(5 Intervals, start=0.0, stop=35.0)]\n",
      "\n",
      "|__ID:'BH009'\n",
      "components: [Component({'lithology': 'sable'}), Component({'arsenic': 'inconnu'}), Component({'cadmium': 'vr'})]\n",
      "components: [Component({'lithology': 'argile'}), Component({'arsenic': 'vi'}), Component({'cadmium': 'vs'})]\n",
      "components: [Component({'lithology': 'marne'}), Component({'arsenic': 'vi'}), Component({'cadmium': 'vs'})]\n",
      "components: [Component({'lithology': 'charbon'}), Component({'arsenic': 'inconnu'}), Component({'cadmium': 'vr'})]\n",
      "components: [Component({'lithology': 'dolomie'}), Component({'arsenic': 'vi'}), Component({'cadmium': 'vi'})]\n",
      "Summary : [Striplog(5 Intervals, start=0.0, stop=40.0)]\n",
      "\n",
      "|__ID:'BH10'\n",
      "components: [Component({'lithology': 'sable'}), Component({'arsenic': 'inconnu'}), Component({'cadmium': 'vr'})]\n",
      "components: [Component({'lithology': 'argile'}), Component({'arsenic': 'vr'}), Component({'cadmium': 'vs'})]\n",
      "components: [Component({'lithology': 'marne'}), Component({'arsenic': 'inconnu'}), Component({'cadmium': 'inconnu'})]\n",
      "Summary : [Striplog(3 Intervals, start=0.0, stop=11.0)]\n",
      "\n",
      "End of the process : 10 unique ID found\n"
     ]
    },
    {
     "name": "stderr",
     "output_type": "stream",
     "text": [
      "/home/yanathan/Projects/GSDMA/utils/orm.py:121: SAWarning: relationship 'ComponentOrm.intervals' will copy column Components.id to column Linkintervalcomponent.comp_id, which conflicts with relationship(s): 'IntervalOrm.components' (copies Components.id to Linkintervalcomponent.comp_id). If this is not the intention, consider if these relationships should be linked with back_populates, or if viewonly=True should be applied to one or more if they are read-only. For the less common case that foreign key constraints are partially overlapping, the orm.foreign() annotation can be used to isolate the columns that should be written towards.   To silence this warning, add the parameter 'overlaps=\"components\"' to the 'ComponentOrm.intervals' relationship.\n",
      "  boreholes_orm.append(BoreholeOrm(id=bh_name))\n",
      "/home/yanathan/Projects/GSDMA/utils/orm.py:121: SAWarning: relationship 'ComponentOrm.intervals' will copy column Intervals.id to column Linkintervalcomponent.intv_id, which conflicts with relationship(s): 'IntervalOrm.components' (copies Intervals.id to Linkintervalcomponent.intv_id). If this is not the intention, consider if these relationships should be linked with back_populates, or if viewonly=True should be applied to one or more if they are read-only. For the less common case that foreign key constraints are partially overlapping, the orm.foreign() annotation can be used to isolate the columns that should be written towards.   To silence this warning, add the parameter 'overlaps=\"components\"' to the 'ComponentOrm.intervals' relationship.\n",
      "  boreholes_orm.append(BoreholeOrm(id=bh_name))\n",
      "/home/yanathan/Projects/GSDMA/utils/orm.py:121: SAWarning: relationship 'ComponentOrm.component_assoc' will copy column Components.id to column Linkintervalcomponent.comp_id, which conflicts with relationship(s): 'ComponentOrm.intervals' (copies Components.id to Linkintervalcomponent.comp_id), 'IntervalOrm.components' (copies Components.id to Linkintervalcomponent.comp_id). If this is not the intention, consider if these relationships should be linked with back_populates, or if viewonly=True should be applied to one or more if they are read-only. For the less common case that foreign key constraints are partially overlapping, the orm.foreign() annotation can be used to isolate the columns that should be written towards.   To silence this warning, add the parameter 'overlaps=\"components,intervals\"' to the 'ComponentOrm.component_assoc' relationship.\n",
      "  boreholes_orm.append(BoreholeOrm(id=bh_name))\n",
      "/home/yanathan/Projects/GSDMA/utils/orm.py:121: SAWarning: relationship 'LinkIntervalComponentOrm.component' will copy column Components.id to column Linkintervalcomponent.comp_id, which conflicts with relationship(s): 'ComponentOrm.intervals' (copies Components.id to Linkintervalcomponent.comp_id), 'IntervalOrm.components' (copies Components.id to Linkintervalcomponent.comp_id). If this is not the intention, consider if these relationships should be linked with back_populates, or if viewonly=True should be applied to one or more if they are read-only. For the less common case that foreign key constraints are partially overlapping, the orm.foreign() annotation can be used to isolate the columns that should be written towards.   To silence this warning, add the parameter 'overlaps=\"components,intervals\"' to the 'LinkIntervalComponentOrm.component' relationship.\n",
      "  boreholes_orm.append(BoreholeOrm(id=bh_name))\n",
      "/home/yanathan/Projects/GSDMA/utils/orm.py:121: SAWarning: relationship 'IntervalOrm.interval_assoc' will copy column Intervals.id to column Linkintervalcomponent.intv_id, which conflicts with relationship(s): 'ComponentOrm.intervals' (copies Intervals.id to Linkintervalcomponent.intv_id), 'IntervalOrm.components' (copies Intervals.id to Linkintervalcomponent.intv_id). If this is not the intention, consider if these relationships should be linked with back_populates, or if viewonly=True should be applied to one or more if they are read-only. For the less common case that foreign key constraints are partially overlapping, the orm.foreign() annotation can be used to isolate the columns that should be written towards.   To silence this warning, add the parameter 'overlaps=\"components,intervals\"' to the 'IntervalOrm.interval_assoc' relationship.\n",
      "  boreholes_orm.append(BoreholeOrm(id=bh_name))\n",
      "/home/yanathan/Projects/GSDMA/utils/orm.py:121: SAWarning: relationship 'LinkIntervalComponentOrm.interval' will copy column Intervals.id to column Linkintervalcomponent.intv_id, which conflicts with relationship(s): 'ComponentOrm.intervals' (copies Intervals.id to Linkintervalcomponent.intv_id), 'IntervalOrm.components' (copies Intervals.id to Linkintervalcomponent.intv_id). If this is not the intention, consider if these relationships should be linked with back_populates, or if viewonly=True should be applied to one or more if they are read-only. For the less common case that foreign key constraints are partially overlapping, the orm.foreign() annotation can be used to isolate the columns that should be written towards.   To silence this warning, add the parameter 'overlaps=\"components,intervals\"' to the 'LinkIntervalComponentOrm.interval' relationship.\n",
      "  boreholes_orm.append(BoreholeOrm(id=bh_name))\n"
     ]
    }
   ],
   "source": [
    "boreholes, components, link_intv_comp = boreholes_from_dataframe(df[:50], verbose=False,\n",
    "                                                attributes=['Lithology']+pollutants, \n",
    "                                                symbols={'lithology':{'lexicon':lexicon_memoris}}, \n",
    "                                                diameter='Diameter', thickness='Thickness')"
   ]
  },
  {
   "cell_type": "code",
   "execution_count": 11,
   "metadata": {},
   "outputs": [
    {
     "data": {
      "text/plain": [
       "[<core.orm.BoreholeOrm>(Name=BH001, Length=28.0, Diameter=0.43, Intervals=4),\n",
       " <core.orm.BoreholeOrm>(Name=BH002, Length=37.0, Diameter=0.6, Intervals=5),\n",
       " <core.orm.BoreholeOrm>(Name=BH003, Length=18.0, Diameter=0.41, Intervals=5),\n",
       " <core.orm.BoreholeOrm>(Name=BH004, Length=26.0, Diameter=0.61, Intervals=5),\n",
       " <core.orm.BoreholeOrm>(Name=BH005, Length=36.0, Diameter=0.61, Intervals=7),\n",
       " <core.orm.BoreholeOrm>(Name=BH006, Length=26.0, Diameter=0.31, Intervals=5),\n",
       " <core.orm.BoreholeOrm>(Name=BH007, Length=45.0, Diameter=0.57, Intervals=6),\n",
       " <core.orm.BoreholeOrm>(Name=BH008, Length=35.0, Diameter=0.39, Intervals=5),\n",
       " <core.orm.BoreholeOrm>(Name=BH009, Length=40.0, Diameter=0.5, Intervals=5),\n",
       " <core.orm.BoreholeOrm>(Name=BH10, Length=11.0, Diameter=0.31, Intervals=3)]"
      ]
     },
     "execution_count": 11,
     "metadata": {},
     "output_type": "execute_result"
    }
   ],
   "source": [
    "boreholes"
   ]
  },
  {
   "cell_type": "code",
   "execution_count": 12,
   "metadata": {},
   "outputs": [
    {
     "data": {
      "text/plain": [
       "{0: Component({'lithology': 'sable'}),\n",
       " 1: Component({'arsenic': 'vs'}),\n",
       " 2: Component({'cadmium': 'vs'}),\n",
       " 3: Component({'lithology': 'argile'}),\n",
       " 4: Component({'arsenic': 'inconnu'}),\n",
       " 5: Component({'cadmium': 'inconnu'}),\n",
       " 6: Component({'lithology': 'marne'}),\n",
       " 7: Component({'arsenic': 'vi'}),\n",
       " 8: Component({'lithology': 'charbon'}),\n",
       " 9: Component({'arsenic': 'vr'}),\n",
       " 10: Component({'cadmium': 'vi'}),\n",
       " 11: Component({'lithology': 'dolomie'}),\n",
       " 12: Component({'cadmium': 'vr'}),\n",
       " 13: Component({'lithology': 'schiste'}),\n",
       " 14: Component({'lithology': 'calcaire'})}"
      ]
     },
     "execution_count": 12,
     "metadata": {},
     "output_type": "execute_result"
    }
   ],
   "source": [
    "components"
   ]
  },
  {
   "cell_type": "code",
   "execution_count": 13,
   "metadata": {},
   "outputs": [
    {
     "data": {
      "text/plain": [
       "{(0, 0): {'extra_data': ''},\n",
       " (0, 1): {'extra_data': ''},\n",
       " (0, 2): {'extra_data': ''},\n",
       " (1, 3): {'extra_data': ''},\n",
       " (1, 4): {'extra_data': ''},\n",
       " (1, 5): {'extra_data': ''},\n",
       " (2, 6): {'extra_data': ''},\n",
       " (2, 7): {'extra_data': ''},\n",
       " (2, 5): {'extra_data': ''},\n",
       " (3, 8): {'extra_data': ''},\n",
       " (3, 9): {'extra_data': ''},\n",
       " (3, 5): {'extra_data': ''},\n",
       " (4, 0): {'extra_data': ''},\n",
       " (4, 4): {'extra_data': ''},\n",
       " (4, 2): {'extra_data': ''},\n",
       " (5, 3): {'extra_data': ''},\n",
       " (5, 9): {'extra_data': ''},\n",
       " (5, 5): {'extra_data': ''},\n",
       " (6, 6): {'extra_data': ''},\n",
       " (6, 7): {'extra_data': ''},\n",
       " (6, 2): {'extra_data': ''},\n",
       " (7, 8): {'extra_data': ''},\n",
       " (7, 1): {'extra_data': ''},\n",
       " (7, 10): {'extra_data': ''},\n",
       " (8, 11): {'extra_data': ''},\n",
       " (8, 1): {'extra_data': ''},\n",
       " (8, 12): {'extra_data': ''},\n",
       " (9, 0): {'extra_data': ''},\n",
       " (9, 1): {'extra_data': ''},\n",
       " (9, 12): {'extra_data': ''},\n",
       " (10, 3): {'extra_data': ''},\n",
       " (10, 1): {'extra_data': ''},\n",
       " (10, 12): {'extra_data': ''},\n",
       " (11, 6): {'extra_data': ''},\n",
       " (11, 1): {'extra_data': ''},\n",
       " (11, 2): {'extra_data': ''},\n",
       " (12, 8): {'extra_data': ''},\n",
       " (12, 9): {'extra_data': ''},\n",
       " (12, 10): {'extra_data': ''},\n",
       " (13, 11): {'extra_data': ''},\n",
       " (13, 4): {'extra_data': ''},\n",
       " (13, 5): {'extra_data': ''},\n",
       " (14, 0): {'extra_data': ''},\n",
       " (14, 9): {'extra_data': ''},\n",
       " (14, 10): {'extra_data': ''},\n",
       " (15, 3): {'extra_data': ''},\n",
       " (15, 9): {'extra_data': ''},\n",
       " (15, 2): {'extra_data': ''},\n",
       " (16, 6): {'extra_data': ''},\n",
       " (16, 1): {'extra_data': ''},\n",
       " (16, 2): {'extra_data': ''},\n",
       " (17, 8): {'extra_data': ''},\n",
       " (17, 4): {'extra_data': ''},\n",
       " (17, 5): {'extra_data': ''},\n",
       " (18, 11): {'extra_data': ''},\n",
       " (18, 7): {'extra_data': ''},\n",
       " (18, 5): {'extra_data': ''},\n",
       " (19, 0): {'extra_data': ''},\n",
       " (19, 7): {'extra_data': ''},\n",
       " (19, 2): {'extra_data': ''},\n",
       " (20, 3): {'extra_data': ''},\n",
       " (20, 7): {'extra_data': ''},\n",
       " (20, 10): {'extra_data': ''},\n",
       " (21, 6): {'extra_data': ''},\n",
       " (21, 4): {'extra_data': ''},\n",
       " (21, 2): {'extra_data': ''},\n",
       " (22, 8): {'extra_data': ''},\n",
       " (22, 1): {'extra_data': ''},\n",
       " (22, 10): {'extra_data': ''},\n",
       " (23, 11): {'extra_data': ''},\n",
       " (23, 9): {'extra_data': ''},\n",
       " (23, 12): {'extra_data': ''},\n",
       " (24, 13): {'extra_data': ''},\n",
       " (24, 7): {'extra_data': ''},\n",
       " (24, 12): {'extra_data': ''},\n",
       " (25, 14): {'extra_data': ''},\n",
       " (25, 4): {'extra_data': ''},\n",
       " (25, 12): {'extra_data': ''},\n",
       " (26, 0): {'extra_data': ''},\n",
       " (26, 1): {'extra_data': ''},\n",
       " (26, 2): {'extra_data': ''},\n",
       " (27, 3): {'extra_data': ''},\n",
       " (27, 7): {'extra_data': ''},\n",
       " (27, 12): {'extra_data': ''},\n",
       " (28, 6): {'extra_data': ''},\n",
       " (28, 7): {'extra_data': ''},\n",
       " (28, 10): {'extra_data': ''},\n",
       " (29, 8): {'extra_data': ''},\n",
       " (29, 1): {'extra_data': ''},\n",
       " (29, 12): {'extra_data': ''},\n",
       " (30, 11): {'extra_data': ''},\n",
       " (30, 7): {'extra_data': ''},\n",
       " (30, 12): {'extra_data': ''},\n",
       " (31, 0): {'extra_data': ''},\n",
       " (31, 7): {'extra_data': ''},\n",
       " (31, 2): {'extra_data': ''},\n",
       " (32, 3): {'extra_data': ''},\n",
       " (32, 9): {'extra_data': ''},\n",
       " (32, 2): {'extra_data': ''},\n",
       " (33, 6): {'extra_data': ''},\n",
       " (33, 1): {'extra_data': ''},\n",
       " (33, 12): {'extra_data': ''},\n",
       " (34, 8): {'extra_data': ''},\n",
       " (34, 7): {'extra_data': ''},\n",
       " (34, 5): {'extra_data': ''},\n",
       " (35, 11): {'extra_data': ''},\n",
       " (35, 7): {'extra_data': ''},\n",
       " (35, 10): {'extra_data': ''},\n",
       " (36, 14): {'extra_data': ''},\n",
       " (36, 1): {'extra_data': ''},\n",
       " (36, 12): {'extra_data': ''},\n",
       " (37, 0): {'extra_data': ''},\n",
       " (37, 9): {'extra_data': ''},\n",
       " (37, 2): {'extra_data': ''},\n",
       " (38, 3): {'extra_data': ''},\n",
       " (38, 4): {'extra_data': ''},\n",
       " (38, 12): {'extra_data': ''},\n",
       " (39, 6): {'extra_data': ''},\n",
       " (39, 4): {'extra_data': ''},\n",
       " (39, 2): {'extra_data': ''},\n",
       " (40, 8): {'extra_data': ''},\n",
       " (40, 4): {'extra_data': ''},\n",
       " (40, 10): {'extra_data': ''},\n",
       " (41, 11): {'extra_data': ''},\n",
       " (41, 7): {'extra_data': ''},\n",
       " (41, 10): {'extra_data': ''},\n",
       " (42, 0): {'extra_data': ''},\n",
       " (42, 4): {'extra_data': ''},\n",
       " (42, 12): {'extra_data': ''},\n",
       " (43, 3): {'extra_data': ''},\n",
       " (43, 7): {'extra_data': ''},\n",
       " (43, 2): {'extra_data': ''},\n",
       " (44, 6): {'extra_data': ''},\n",
       " (44, 7): {'extra_data': ''},\n",
       " (44, 2): {'extra_data': ''},\n",
       " (45, 8): {'extra_data': ''},\n",
       " (45, 4): {'extra_data': ''},\n",
       " (45, 12): {'extra_data': ''},\n",
       " (46, 11): {'extra_data': ''},\n",
       " (46, 7): {'extra_data': ''},\n",
       " (46, 10): {'extra_data': ''},\n",
       " (47, 0): {'extra_data': ''},\n",
       " (47, 4): {'extra_data': ''},\n",
       " (47, 12): {'extra_data': ''},\n",
       " (48, 3): {'extra_data': ''},\n",
       " (48, 9): {'extra_data': ''},\n",
       " (48, 2): {'extra_data': ''},\n",
       " (49, 6): {'extra_data': ''},\n",
       " (49, 4): {'extra_data': ''},\n",
       " (49, 5): {'extra_data': ''}}"
      ]
     },
     "execution_count": 13,
     "metadata": {},
     "output_type": "execute_result"
    }
   ],
   "source": [
    "link_intv_comp"
   ]
  },
  {
   "cell_type": "code",
   "execution_count": 14,
   "metadata": {},
   "outputs": [],
   "source": [
    "link_intv_comp[(0, 0)]['extra_data'] = \"{'porosite':1, 'densite':1.8}\""
   ]
  },
  {
   "cell_type": "code",
   "execution_count": 15,
   "metadata": {},
   "outputs": [
    {
     "data": {
      "text/plain": [
       "(10, 15)"
      ]
     },
     "execution_count": 15,
     "metadata": {},
     "output_type": "execute_result"
    }
   ],
   "source": [
    "len(boreholes), len(components)"
   ]
  },
  {
   "cell_type": "markdown",
   "metadata": {},
   "source": [
    "## Create a project and save data in a database"
   ]
  },
  {
   "cell_type": "code",
   "execution_count": 16,
   "metadata": {},
   "outputs": [],
   "source": [
    "remove('tmp_files/tfe_orm_db.db')"
   ]
  },
  {
   "cell_type": "code",
   "execution_count": 17,
   "metadata": {},
   "outputs": [],
   "source": [
    "engine = create_engine('sqlite:///tmp_files/tfe_orm_db.db', echo=True)"
   ]
  },
  {
   "cell_type": "code",
   "execution_count": 18,
   "metadata": {
    "scrolled": true
   },
   "outputs": [
    {
     "name": "stdout",
     "output_type": "stream",
     "text": [
      "2021-08-03 15:07:00,047 INFO sqlalchemy.engine.Engine BEGIN (implicit)\n",
      "2021-08-03 15:07:00,048 INFO sqlalchemy.engine.Engine PRAGMA main.table_info(\"Boreholes\")\n",
      "2021-08-03 15:07:00,048 INFO sqlalchemy.engine.Engine [raw sql] ()\n",
      "2021-08-03 15:07:00,050 INFO sqlalchemy.engine.Engine PRAGMA temp.table_info(\"Boreholes\")\n",
      "2021-08-03 15:07:00,050 INFO sqlalchemy.engine.Engine [raw sql] ()\n",
      "2021-08-03 15:07:00,051 INFO sqlalchemy.engine.Engine PRAGMA main.table_info(\"Intervals\")\n",
      "2021-08-03 15:07:00,052 INFO sqlalchemy.engine.Engine [raw sql] ()\n",
      "2021-08-03 15:07:00,053 INFO sqlalchemy.engine.Engine PRAGMA temp.table_info(\"Intervals\")\n",
      "2021-08-03 15:07:00,053 INFO sqlalchemy.engine.Engine [raw sql] ()\n",
      "2021-08-03 15:07:00,054 INFO sqlalchemy.engine.Engine PRAGMA main.table_info(\"Components\")\n",
      "2021-08-03 15:07:00,055 INFO sqlalchemy.engine.Engine [raw sql] ()\n",
      "2021-08-03 15:07:00,055 INFO sqlalchemy.engine.Engine PRAGMA temp.table_info(\"Components\")\n",
      "2021-08-03 15:07:00,056 INFO sqlalchemy.engine.Engine [raw sql] ()\n",
      "2021-08-03 15:07:00,057 INFO sqlalchemy.engine.Engine PRAGMA main.table_info(\"Linkintervalcomponent\")\n",
      "2021-08-03 15:07:00,058 INFO sqlalchemy.engine.Engine [raw sql] ()\n",
      "2021-08-03 15:07:00,058 INFO sqlalchemy.engine.Engine PRAGMA temp.table_info(\"Linkintervalcomponent\")\n",
      "2021-08-03 15:07:00,059 INFO sqlalchemy.engine.Engine [raw sql] ()\n",
      "2021-08-03 15:07:00,059 INFO sqlalchemy.engine.Engine PRAGMA main.table_info(\"Positions\")\n",
      "2021-08-03 15:07:00,060 INFO sqlalchemy.engine.Engine [raw sql] ()\n",
      "2021-08-03 15:07:00,061 INFO sqlalchemy.engine.Engine PRAGMA temp.table_info(\"Positions\")\n",
      "2021-08-03 15:07:00,061 INFO sqlalchemy.engine.Engine [raw sql] ()\n",
      "2021-08-03 15:07:00,062 INFO sqlalchemy.engine.Engine PRAGMA main.table_info(\"IntervalData\")\n",
      "2021-08-03 15:07:00,062 INFO sqlalchemy.engine.Engine [raw sql] ()\n",
      "2021-08-03 15:07:00,063 INFO sqlalchemy.engine.Engine PRAGMA temp.table_info(\"IntervalData\")\n",
      "2021-08-03 15:07:00,063 INFO sqlalchemy.engine.Engine [raw sql] ()\n",
      "2021-08-03 15:07:00,065 INFO sqlalchemy.engine.Engine \n",
      "CREATE TABLE \"Boreholes\" (\n",
      "\tid VARCHAR(32) NOT NULL, \n",
      "\tlength FLOAT, \n",
      "\tdiameter FLOAT, \n",
      "\tPRIMARY KEY (id)\n",
      ")\n",
      "\n",
      "\n",
      "2021-08-03 15:07:00,066 INFO sqlalchemy.engine.Engine [no key 0.00071s] ()\n",
      "2021-08-03 15:07:00,070 INFO sqlalchemy.engine.Engine \n",
      "CREATE TABLE \"Intervals\" (\n",
      "\tid INTEGER NOT NULL, \n",
      "\tborehole VARCHAR(32), \n",
      "\tinterval_number INTEGER, \n",
      "\tdescription VARCHAR(32), \n",
      "\ttop_id INTEGER, \n",
      "\tbase_id INTEGER, \n",
      "\tdata_id INTEGER, \n",
      "\tPRIMARY KEY (id), \n",
      "\tFOREIGN KEY(borehole) REFERENCES \"Boreholes\" (id), \n",
      "\tFOREIGN KEY(top_id) REFERENCES \"Positions\" (id), \n",
      "\tFOREIGN KEY(base_id) REFERENCES \"Positions\" (id), \n",
      "\tFOREIGN KEY(data_id) REFERENCES \"IntervalData\" (id)\n",
      ")\n",
      "\n",
      "\n",
      "2021-08-03 15:07:00,071 INFO sqlalchemy.engine.Engine [no key 0.00081s] ()\n",
      "2021-08-03 15:07:00,075 INFO sqlalchemy.engine.Engine \n",
      "CREATE TABLE \"Components\" (\n",
      "\tid INTEGER NOT NULL, \n",
      "\tdescription VARCHAR(32), \n",
      "\tPRIMARY KEY (id)\n",
      ")\n",
      "\n",
      "\n",
      "2021-08-03 15:07:00,076 INFO sqlalchemy.engine.Engine [no key 0.00077s] ()\n",
      "2021-08-03 15:07:00,082 INFO sqlalchemy.engine.Engine \n",
      "CREATE TABLE \"Positions\" (\n",
      "\tid INTEGER NOT NULL, \n",
      "\tupper FLOAT, \n",
      "\tmiddle FLOAT, \n",
      "\tlower FLOAT, \n",
      "\tx FLOAT, \n",
      "\ty FLOAT, \n",
      "\tPRIMARY KEY (id)\n",
      ")\n",
      "\n",
      "\n",
      "2021-08-03 15:07:00,083 INFO sqlalchemy.engine.Engine [no key 0.00108s] ()\n",
      "2021-08-03 15:07:00,089 INFO sqlalchemy.engine.Engine \n",
      "CREATE TABLE \"IntervalData\" (\n",
      "\tid INTEGER NOT NULL, \n",
      "\tinterval INTEGER, \n",
      "\t\"key\" VARCHAR(32), \n",
      "\tvalue FLOAT, \n",
      "\tunits VARCHAR(32), \n",
      "\tPRIMARY KEY (id), \n",
      "\tFOREIGN KEY(interval) REFERENCES \"Intervals\" (id)\n",
      ")\n",
      "\n",
      "\n",
      "2021-08-03 15:07:00,090 INFO sqlalchemy.engine.Engine [no key 0.00080s] ()\n",
      "2021-08-03 15:07:00,094 INFO sqlalchemy.engine.Engine \n",
      "CREATE TABLE \"Linkintervalcomponent\" (\n",
      "\tintv_id INTEGER NOT NULL, \n",
      "\tcomp_id INTEGER NOT NULL, \n",
      "\textra_data VARCHAR(256), \n",
      "\tPRIMARY KEY (intv_id, comp_id), \n",
      "\tFOREIGN KEY(intv_id) REFERENCES \"Intervals\" (id), \n",
      "\tFOREIGN KEY(comp_id) REFERENCES \"Components\" (id)\n",
      ")\n",
      "\n",
      "\n",
      "2021-08-03 15:07:00,095 INFO sqlalchemy.engine.Engine [no key 0.00106s] ()\n",
      "2021-08-03 15:07:00,099 INFO sqlalchemy.engine.Engine COMMIT\n"
     ]
    }
   ],
   "source": [
    "Base.metadata.create_all(engine)"
   ]
  },
  {
   "cell_type": "code",
   "execution_count": 19,
   "metadata": {},
   "outputs": [],
   "source": [
    "Session = sessionmaker(bind=engine)\n",
    "session = Session()"
   ]
  },
  {
   "cell_type": "markdown",
   "metadata": {},
   "source": [
    "## Define project legend(s) and default attribute for representation"
   ]
  },
  {
   "cell_type": "code",
   "execution_count": 20,
   "metadata": {},
   "outputs": [],
   "source": [
    "leg_dict = {**{'lithology':{'legend':lithology_memoris}},**{k:{'legend':None} for k in pollutants}}"
   ]
  },
  {
   "cell_type": "code",
   "execution_count": 21,
   "metadata": {},
   "outputs": [
    {
     "name": "stdout",
     "output_type": "stream",
     "text": [
      "2021-08-03 15:07:00,117 INFO sqlalchemy.engine.Engine BEGIN (implicit)\n",
      "2021-08-03 15:07:00,120 INFO sqlalchemy.engine.Engine SELECT \"Boreholes\".id AS \"Boreholes_id\", \"Boreholes\".length AS \"Boreholes_length\", \"Boreholes\".diameter AS \"Boreholes_diameter\" \n",
      "FROM \"Boreholes\"\n",
      "2021-08-03 15:07:00,120 INFO sqlalchemy.engine.Engine [generated in 0.00086s] ()\n"
     ]
    }
   ],
   "source": [
    "p = Project(session, lexicon=lexicon_memoris, repr_attribute='lithology', legend_dict=leg_dict)"
   ]
  },
  {
   "cell_type": "code",
   "execution_count": 22,
   "metadata": {},
   "outputs": [
    {
     "data": {
      "text/plain": [
       "dict_keys(['lithology', 'arsenic', 'cadmium'])"
      ]
     },
     "execution_count": 22,
     "metadata": {},
     "output_type": "execute_result"
    }
   ],
   "source": [
    "p.legend_dict.keys()"
   ]
  },
  {
   "cell_type": "code",
   "execution_count": 23,
   "metadata": {},
   "outputs": [
    {
     "name": "stdout",
     "output_type": "stream",
     "text": [
      "2021-08-03 15:07:00,135 INFO sqlalchemy.engine.Engine INSERT INTO \"Components\" (id, description) VALUES (?, ?)\n",
      "2021-08-03 15:07:00,136 INFO sqlalchemy.engine.Engine [generated in 0.00150s] ((0, 'Sable'), (1, 'Vs'), (2, 'Vs'), (3, 'Argile'), (4, 'Inconnu'), (5, 'Inconnu'), (6, 'Marne'), (7, 'Vi')  ... displaying 10 of 15 total bound parameter sets ...  (13, 'Schiste'), (14, 'Calcaire'))\n",
      "2021-08-03 15:07:00,138 INFO sqlalchemy.engine.Engine COMMIT\n",
      "2021-08-03 15:07:00,141 INFO sqlalchemy.engine.Engine BEGIN (implicit)\n",
      "2021-08-03 15:07:00,142 INFO sqlalchemy.engine.Engine SELECT \"Boreholes\".id AS \"Boreholes_id\", \"Boreholes\".length AS \"Boreholes_length\", \"Boreholes\".diameter AS \"Boreholes_diameter\" \n",
      "FROM \"Boreholes\"\n",
      "2021-08-03 15:07:00,142 INFO sqlalchemy.engine.Engine [cached since 0.0225s ago] ()\n"
     ]
    }
   ],
   "source": [
    "p.add_components(components)"
   ]
  },
  {
   "cell_type": "code",
   "execution_count": 24,
   "metadata": {},
   "outputs": [
    {
     "data": {
      "text/plain": [
       "{0: Component({'lithology': 'sable'}),\n",
       " 1: Component({'arsenic': 'vs'}),\n",
       " 2: Component({'cadmium': 'vs'}),\n",
       " 3: Component({'lithology': 'argile'}),\n",
       " 4: Component({'arsenic': 'inconnu'}),\n",
       " 5: Component({'cadmium': 'inconnu'}),\n",
       " 6: Component({'lithology': 'marne'}),\n",
       " 7: Component({'arsenic': 'vi'}),\n",
       " 8: Component({'lithology': 'charbon'}),\n",
       " 9: Component({'arsenic': 'vr'}),\n",
       " 10: Component({'cadmium': 'vi'}),\n",
       " 11: Component({'lithology': 'dolomie'}),\n",
       " 12: Component({'cadmium': 'vr'}),\n",
       " 13: Component({'lithology': 'schiste'}),\n",
       " 14: Component({'lithology': 'calcaire'})}"
      ]
     },
     "execution_count": 24,
     "metadata": {},
     "output_type": "execute_result"
    }
   ],
   "source": [
    "p.__components_dict__"
   ]
  },
  {
   "cell_type": "markdown",
   "metadata": {},
   "source": [
    "Add boreholes into the project"
   ]
  },
  {
   "cell_type": "code",
   "execution_count": 25,
   "metadata": {
    "scrolled": true
   },
   "outputs": [
    {
     "name": "stdout",
     "output_type": "stream",
     "text": [
      "2021-08-03 15:07:00,156 INFO sqlalchemy.engine.Engine INSERT INTO \"Boreholes\" (id, length, diameter) VALUES (?, ?, ?)\n",
      "2021-08-03 15:07:00,158 INFO sqlalchemy.engine.Engine [generated in 0.00124s] ('BH001', 28.0, 0.43)\n",
      "2021-08-03 15:07:00,160 INFO sqlalchemy.engine.Engine INSERT INTO \"Positions\" (id, upper, middle, lower, x, y) VALUES (?, ?, ?, ?, ?, ?)\n",
      "2021-08-03 15:07:00,161 INFO sqlalchemy.engine.Engine [generated in 0.00079s] ((0, 101.0, 101.0, 101.0, 152600.0, 121039.0), (1, 97.0, 97.0, 97.0, 152600.0, 121039.0), (2, 97.0, 97.0, 97.0, 152600.0, 121039.0), (3, 93.0, 93.0, 93.0, 152600.0, 121039.0), (4, 93.0, 93.0, 93.0, 152600.0, 121039.0), (5, 81.0, 81.0, 81.0, 152600.0, 121039.0), (6, 81.0, 81.0, 81.0, 152600.0, 121039.0), (7, 73.0, 73.0, 73.0, 152600.0, 121039.0))\n",
      "2021-08-03 15:07:00,164 INFO sqlalchemy.engine.Engine INSERT INTO \"Intervals\" (id, borehole, interval_number, description, top_id, base_id, data_id) VALUES (?, ?, ?, ?, ?, ?, ?)\n",
      "2021-08-03 15:07:00,165 INFO sqlalchemy.engine.Engine [generated in 0.00127s] ((0, 'BH001', 0, '{\"lithology\": \"sable\"}, {\"arsenic\": \"vs\"}, {\"cadmium\": \"vs\"}', 0, 1, None), (1, 'BH001', 1, '{\"lithology\": \"argile\"}, {\"arsenic\": \"inconnu\"}, {\"cadmium\": \"inconnu\"}', 2, 3, None), (2, 'BH001', 2, '{\"lithology\": \"marne\"}, {\"arsenic\": \"vi\"}, {\"cadmium\": \"inconnu\"}', 4, 5, None), (3, 'BH001', 3, '{\"lithology\": \"charbon\"}, {\"arsenic\": \"vr\"}, {\"cadmium\": \"inconnu\"}', 6, 7, None))\n",
      "2021-08-03 15:07:00,167 INFO sqlalchemy.engine.Engine COMMIT\n",
      "2021-08-03 15:07:00,170 INFO sqlalchemy.engine.Engine BEGIN (implicit)\n",
      "2021-08-03 15:07:00,171 INFO sqlalchemy.engine.Engine SELECT \"Boreholes\".id AS \"Boreholes_id\", \"Boreholes\".length AS \"Boreholes_length\", \"Boreholes\".diameter AS \"Boreholes_diameter\" \n",
      "FROM \"Boreholes\"\n",
      "2021-08-03 15:07:00,171 INFO sqlalchemy.engine.Engine [cached since 0.05158s ago] ()\n",
      "2021-08-03 15:07:00,176 INFO sqlalchemy.engine.Engine SELECT \"Intervals\".id AS \"Intervals_id\", \"Intervals\".borehole AS \"Intervals_borehole\", \"Intervals\".interval_number AS \"Intervals_interval_number\", \"Intervals\".description AS \"Intervals_description\", \"Intervals\".top_id AS \"Intervals_top_id\", \"Intervals\".base_id AS \"Intervals_base_id\", \"Intervals\".data_id AS \"Intervals_data_id\" \n",
      "FROM \"Intervals\" \n",
      "WHERE ? = \"Intervals\".borehole\n",
      "2021-08-03 15:07:00,177 INFO sqlalchemy.engine.Engine [generated in 0.00130s] ('BH001',)\n",
      "2021-08-03 15:07:00,183 INFO sqlalchemy.engine.Engine SELECT \"Positions\".id AS \"Positions_id\", \"Positions\".upper AS \"Positions_upper\", \"Positions\".middle AS \"Positions_middle\", \"Positions\".lower AS \"Positions_lower\", \"Positions\".x AS \"Positions_x\", \"Positions\".y AS \"Positions_y\" \n",
      "FROM \"Positions\" \n",
      "WHERE \"Positions\".id = ?\n",
      "2021-08-03 15:07:00,184 INFO sqlalchemy.engine.Engine [generated in 0.00071s] (0,)\n",
      "2021-08-03 15:07:00,187 INFO sqlalchemy.engine.Engine SELECT \"Positions\".id AS \"Positions_id\", \"Positions\".upper AS \"Positions_upper\", \"Positions\".middle AS \"Positions_middle\", \"Positions\".lower AS \"Positions_lower\", \"Positions\".x AS \"Positions_x\", \"Positions\".y AS \"Positions_y\" \n",
      "FROM \"Positions\" \n",
      "WHERE \"Positions\".id = ?\n",
      "2021-08-03 15:07:00,187 INFO sqlalchemy.engine.Engine [generated in 0.00066s] (1,)\n",
      "2021-08-03 15:07:00,189 INFO sqlalchemy.engine.Engine SELECT \"Positions\".id AS \"Positions_id\", \"Positions\".upper AS \"Positions_upper\", \"Positions\".middle AS \"Positions_middle\", \"Positions\".lower AS \"Positions_lower\", \"Positions\".x AS \"Positions_x\", \"Positions\".y AS \"Positions_y\" \n",
      "FROM \"Positions\" \n",
      "WHERE \"Positions\".id = ?\n",
      "2021-08-03 15:07:00,189 INFO sqlalchemy.engine.Engine [cached since 0.00614s ago] (2,)\n",
      "2021-08-03 15:07:00,191 INFO sqlalchemy.engine.Engine SELECT \"Positions\".id AS \"Positions_id\", \"Positions\".upper AS \"Positions_upper\", \"Positions\".middle AS \"Positions_middle\", \"Positions\".lower AS \"Positions_lower\", \"Positions\".x AS \"Positions_x\", \"Positions\".y AS \"Positions_y\" \n",
      "FROM \"Positions\" \n",
      "WHERE \"Positions\".id = ?\n",
      "2021-08-03 15:07:00,191 INFO sqlalchemy.engine.Engine [cached since 0.004631s ago] (3,)\n",
      "2021-08-03 15:07:00,193 INFO sqlalchemy.engine.Engine SELECT \"Positions\".id AS \"Positions_id\", \"Positions\".upper AS \"Positions_upper\", \"Positions\".middle AS \"Positions_middle\", \"Positions\".lower AS \"Positions_lower\", \"Positions\".x AS \"Positions_x\", \"Positions\".y AS \"Positions_y\" \n",
      "FROM \"Positions\" \n",
      "WHERE \"Positions\".id = ?\n",
      "2021-08-03 15:07:00,194 INFO sqlalchemy.engine.Engine [cached since 0.01068s ago] (4,)\n",
      "2021-08-03 15:07:00,195 INFO sqlalchemy.engine.Engine SELECT \"Positions\".id AS \"Positions_id\", \"Positions\".upper AS \"Positions_upper\", \"Positions\".middle AS \"Positions_middle\", \"Positions\".lower AS \"Positions_lower\", \"Positions\".x AS \"Positions_x\", \"Positions\".y AS \"Positions_y\" \n",
      "FROM \"Positions\" \n",
      "WHERE \"Positions\".id = ?\n",
      "2021-08-03 15:07:00,196 INFO sqlalchemy.engine.Engine [cached since 0.009342s ago] (5,)\n",
      "2021-08-03 15:07:00,198 INFO sqlalchemy.engine.Engine SELECT \"Positions\".id AS \"Positions_id\", \"Positions\".upper AS \"Positions_upper\", \"Positions\".middle AS \"Positions_middle\", \"Positions\".lower AS \"Positions_lower\", \"Positions\".x AS \"Positions_x\", \"Positions\".y AS \"Positions_y\" \n",
      "FROM \"Positions\" \n",
      "WHERE \"Positions\".id = ?\n",
      "2021-08-03 15:07:00,200 INFO sqlalchemy.engine.Engine [cached since 0.01635s ago] (6,)\n",
      "2021-08-03 15:07:00,201 INFO sqlalchemy.engine.Engine SELECT \"Positions\".id AS \"Positions_id\", \"Positions\".upper AS \"Positions_upper\", \"Positions\".middle AS \"Positions_middle\", \"Positions\".lower AS \"Positions_lower\", \"Positions\".x AS \"Positions_x\", \"Positions\".y AS \"Positions_y\" \n",
      "FROM \"Positions\" \n",
      "WHERE \"Positions\".id = ?\n",
      "2021-08-03 15:07:00,202 INFO sqlalchemy.engine.Engine [cached since 0.01511s ago] (7,)\n",
      "Borehole geometry created successfully !\n",
      "2021-08-03 15:07:00,220 INFO sqlalchemy.engine.Engine UPDATE \"Boreholes\" SET length=? WHERE \"Boreholes\".id = ?\n",
      "2021-08-03 15:07:00,221 INFO sqlalchemy.engine.Engine [generated in 0.00087s] (97.0, 'BH001')\n",
      "2021-08-03 15:07:00,223 INFO sqlalchemy.engine.Engine INSERT INTO \"Boreholes\" (id, length, diameter) VALUES (?, ?, ?)\n",
      "2021-08-03 15:07:00,223 INFO sqlalchemy.engine.Engine [cached since 0.06704s ago] ('BH002', 37.0, 0.6)\n",
      "2021-08-03 15:07:00,227 INFO sqlalchemy.engine.Engine INSERT INTO \"Positions\" (id, upper, middle, lower, x, y) VALUES (?, ?, ?, ?, ?, ?)\n",
      "2021-08-03 15:07:00,228 INFO sqlalchemy.engine.Engine [cached since 0.06824s ago] ((8, 103.0, 103.0, 103.0, 152819.0, 121586.0), (9, 98.0, 98.0, 98.0, 152819.0, 121586.0), (10, 98.0, 98.0, 98.0, 152819.0, 121586.0), (11, 95.0, 95.0, 95.0, 152819.0, 121586.0), (12, 95.0, 95.0, 95.0, 152819.0, 121586.0), (13, 89.0, 89.0, 89.0, 152819.0, 121586.0), (14, 89.0, 89.0, 89.0, 152819.0, 121586.0), (15, 88.0, 88.0, 88.0, 152819.0, 121586.0), (16, 88.0, 88.0, 88.0, 152819.0, 121586.0), (17, 66.0, 66.0, 66.0, 152819.0, 121586.0))\n",
      "2021-08-03 15:07:00,230 INFO sqlalchemy.engine.Engine INSERT INTO \"Intervals\" (id, borehole, interval_number, description, top_id, base_id, data_id) VALUES (?, ?, ?, ?, ?, ?, ?)\n",
      "2021-08-03 15:07:00,231 INFO sqlalchemy.engine.Engine [cached since 0.06721s ago] ((4, 'BH002', 0, '{\"lithology\": \"sable\"}, {\"arsenic\": \"inconnu\"}, {\"cadmium\": \"vs\"}', 8, 9, None), (5, 'BH002', 1, '{\"lithology\": \"argile\"}, {\"arsenic\": \"vr\"}, {\"cadmium\": \"inconnu\"}', 10, 11, None), (6, 'BH002', 2, '{\"lithology\": \"marne\"}, {\"arsenic\": \"vi\"}, {\"cadmium\": \"vs\"}', 12, 13, None), (7, 'BH002', 3, '{\"lithology\": \"charbon\"}, {\"arsenic\": \"vs\"}, {\"cadmium\": \"vi\"}', 14, 15, None), (8, 'BH002', 4, '{\"lithology\": \"dolomie\"}, {\"arsenic\": \"vs\"}, {\"cadmium\": \"vr\"}', 16, 17, None))\n",
      "2021-08-03 15:07:00,233 INFO sqlalchemy.engine.Engine COMMIT\n",
      "2021-08-03 15:07:00,237 INFO sqlalchemy.engine.Engine BEGIN (implicit)\n",
      "2021-08-03 15:07:00,237 INFO sqlalchemy.engine.Engine SELECT \"Boreholes\".id AS \"Boreholes_id\", \"Boreholes\".length AS \"Boreholes_length\", \"Boreholes\".diameter AS \"Boreholes_diameter\" \n",
      "FROM \"Boreholes\"\n",
      "2021-08-03 15:07:00,238 INFO sqlalchemy.engine.Engine [cached since 0.1186s ago] ()\n",
      "2021-08-03 15:07:00,240 INFO sqlalchemy.engine.Engine SELECT \"Intervals\".id AS \"Intervals_id\", \"Intervals\".borehole AS \"Intervals_borehole\", \"Intervals\".interval_number AS \"Intervals_interval_number\", \"Intervals\".description AS \"Intervals_description\", \"Intervals\".top_id AS \"Intervals_top_id\", \"Intervals\".base_id AS \"Intervals_base_id\", \"Intervals\".data_id AS \"Intervals_data_id\" \n",
      "FROM \"Intervals\" \n",
      "WHERE ? = \"Intervals\".borehole\n"
     ]
    },
    {
     "name": "stdout",
     "output_type": "stream",
     "text": [
      "2021-08-03 15:07:00,241 INFO sqlalchemy.engine.Engine [cached since 0.06472s ago] ('BH002',)\n",
      "2021-08-03 15:07:00,242 INFO sqlalchemy.engine.Engine SELECT \"Positions\".id AS \"Positions_id\", \"Positions\".upper AS \"Positions_upper\", \"Positions\".middle AS \"Positions_middle\", \"Positions\".lower AS \"Positions_lower\", \"Positions\".x AS \"Positions_x\", \"Positions\".y AS \"Positions_y\" \n",
      "FROM \"Positions\" \n",
      "WHERE \"Positions\".id = ?\n",
      "2021-08-03 15:07:00,243 INFO sqlalchemy.engine.Engine [cached since 0.05965s ago] (8,)\n",
      "2021-08-03 15:07:00,245 INFO sqlalchemy.engine.Engine SELECT \"Positions\".id AS \"Positions_id\", \"Positions\".upper AS \"Positions_upper\", \"Positions\".middle AS \"Positions_middle\", \"Positions\".lower AS \"Positions_lower\", \"Positions\".x AS \"Positions_x\", \"Positions\".y AS \"Positions_y\" \n",
      "FROM \"Positions\" \n",
      "WHERE \"Positions\".id = ?\n",
      "2021-08-03 15:07:00,246 INFO sqlalchemy.engine.Engine [cached since 0.05872s ago] (9,)\n",
      "2021-08-03 15:07:00,247 INFO sqlalchemy.engine.Engine SELECT \"Positions\".id AS \"Positions_id\", \"Positions\".upper AS \"Positions_upper\", \"Positions\".middle AS \"Positions_middle\", \"Positions\".lower AS \"Positions_lower\", \"Positions\".x AS \"Positions_x\", \"Positions\".y AS \"Positions_y\" \n",
      "FROM \"Positions\" \n",
      "WHERE \"Positions\".id = ?\n",
      "2021-08-03 15:07:00,248 INFO sqlalchemy.engine.Engine [cached since 0.06495s ago] (10,)\n",
      "2021-08-03 15:07:00,250 INFO sqlalchemy.engine.Engine SELECT \"Positions\".id AS \"Positions_id\", \"Positions\".upper AS \"Positions_upper\", \"Positions\".middle AS \"Positions_middle\", \"Positions\".lower AS \"Positions_lower\", \"Positions\".x AS \"Positions_x\", \"Positions\".y AS \"Positions_y\" \n",
      "FROM \"Positions\" \n",
      "WHERE \"Positions\".id = ?\n",
      "2021-08-03 15:07:00,250 INFO sqlalchemy.engine.Engine [cached since 0.06342s ago] (11,)\n",
      "2021-08-03 15:07:00,251 INFO sqlalchemy.engine.Engine SELECT \"Positions\".id AS \"Positions_id\", \"Positions\".upper AS \"Positions_upper\", \"Positions\".middle AS \"Positions_middle\", \"Positions\".lower AS \"Positions_lower\", \"Positions\".x AS \"Positions_x\", \"Positions\".y AS \"Positions_y\" \n",
      "FROM \"Positions\" \n",
      "WHERE \"Positions\".id = ?\n",
      "2021-08-03 15:07:00,252 INFO sqlalchemy.engine.Engine [cached since 0.0685s ago] (12,)\n",
      "2021-08-03 15:07:00,253 INFO sqlalchemy.engine.Engine SELECT \"Positions\".id AS \"Positions_id\", \"Positions\".upper AS \"Positions_upper\", \"Positions\".middle AS \"Positions_middle\", \"Positions\".lower AS \"Positions_lower\", \"Positions\".x AS \"Positions_x\", \"Positions\".y AS \"Positions_y\" \n",
      "FROM \"Positions\" \n",
      "WHERE \"Positions\".id = ?\n",
      "2021-08-03 15:07:00,254 INFO sqlalchemy.engine.Engine [cached since 0.06694s ago] (13,)\n",
      "2021-08-03 15:07:00,255 INFO sqlalchemy.engine.Engine SELECT \"Positions\".id AS \"Positions_id\", \"Positions\".upper AS \"Positions_upper\", \"Positions\".middle AS \"Positions_middle\", \"Positions\".lower AS \"Positions_lower\", \"Positions\".x AS \"Positions_x\", \"Positions\".y AS \"Positions_y\" \n",
      "FROM \"Positions\" \n",
      "WHERE \"Positions\".id = ?\n",
      "2021-08-03 15:07:00,256 INFO sqlalchemy.engine.Engine [cached since 0.07266s ago] (14,)\n",
      "2021-08-03 15:07:00,258 INFO sqlalchemy.engine.Engine SELECT \"Positions\".id AS \"Positions_id\", \"Positions\".upper AS \"Positions_upper\", \"Positions\".middle AS \"Positions_middle\", \"Positions\".lower AS \"Positions_lower\", \"Positions\".x AS \"Positions_x\", \"Positions\".y AS \"Positions_y\" \n",
      "FROM \"Positions\" \n",
      "WHERE \"Positions\".id = ?\n",
      "2021-08-03 15:07:00,259 INFO sqlalchemy.engine.Engine [cached since 0.07218s ago] (15,)\n",
      "2021-08-03 15:07:00,261 INFO sqlalchemy.engine.Engine SELECT \"Positions\".id AS \"Positions_id\", \"Positions\".upper AS \"Positions_upper\", \"Positions\".middle AS \"Positions_middle\", \"Positions\".lower AS \"Positions_lower\", \"Positions\".x AS \"Positions_x\", \"Positions\".y AS \"Positions_y\" \n",
      "FROM \"Positions\" \n",
      "WHERE \"Positions\".id = ?\n",
      "2021-08-03 15:07:00,262 INFO sqlalchemy.engine.Engine [cached since 0.07912s ago] (16,)\n",
      "2021-08-03 15:07:00,264 INFO sqlalchemy.engine.Engine SELECT \"Positions\".id AS \"Positions_id\", \"Positions\".upper AS \"Positions_upper\", \"Positions\".middle AS \"Positions_middle\", \"Positions\".lower AS \"Positions_lower\", \"Positions\".x AS \"Positions_x\", \"Positions\".y AS \"Positions_y\" \n",
      "FROM \"Positions\" \n",
      "WHERE \"Positions\".id = ?\n",
      "2021-08-03 15:07:00,265 INFO sqlalchemy.engine.Engine [cached since 0.07774s ago] (17,)\n",
      "Borehole geometry created successfully !\n",
      "2021-08-03 15:07:00,281 INFO sqlalchemy.engine.Engine UPDATE \"Boreholes\" SET length=? WHERE \"Boreholes\".id = ?\n",
      "2021-08-03 15:07:00,282 INFO sqlalchemy.engine.Engine [cached since 0.06113s ago] (98.0, 'BH002')\n",
      "2021-08-03 15:07:00,283 INFO sqlalchemy.engine.Engine INSERT INTO \"Boreholes\" (id, length, diameter) VALUES (?, ?, ?)\n",
      "2021-08-03 15:07:00,284 INFO sqlalchemy.engine.Engine [cached since 0.1276s ago] ('BH003', 18.0, 0.41)\n",
      "2021-08-03 15:07:00,285 INFO sqlalchemy.engine.Engine INSERT INTO \"Positions\" (id, upper, middle, lower, x, y) VALUES (?, ?, ?, ?, ?, ?)\n",
      "2021-08-03 15:07:00,286 INFO sqlalchemy.engine.Engine [cached since 0.1259s ago] ((18, 103.0, 103.0, 103.0, 152922.0, 121313.0), (19, 100.0, 100.0, 100.0, 152922.0, 121313.0), (20, 100.0, 100.0, 100.0, 152922.0, 121313.0), (21, 97.0, 97.0, 97.0, 152922.0, 121313.0), (22, 97.0, 97.0, 97.0, 152922.0, 121313.0), (23, 94.0, 94.0, 94.0, 152922.0, 121313.0), (24, 94.0, 94.0, 94.0, 152922.0, 121313.0), (25, 90.0, 90.0, 90.0, 152922.0, 121313.0), (26, 90.0, 90.0, 90.0, 152922.0, 121313.0), (27, 85.0, 85.0, 85.0, 152922.0, 121313.0))\n",
      "2021-08-03 15:07:00,287 INFO sqlalchemy.engine.Engine INSERT INTO \"Intervals\" (id, borehole, interval_number, description, top_id, base_id, data_id) VALUES (?, ?, ?, ?, ?, ?, ?)\n",
      "2021-08-03 15:07:00,288 INFO sqlalchemy.engine.Engine [cached since 0.1238s ago] ((9, 'BH003', 0, '{\"lithology\": \"sable\"}, {\"arsenic\": \"vs\"}, {\"cadmium\": \"vr\"}', 18, 19, None), (10, 'BH003', 1, '{\"lithology\": \"argile\"}, {\"arsenic\": \"vs\"}, {\"cadmium\": \"vr\"}', 20, 21, None), (11, 'BH003', 2, '{\"lithology\": \"marne\"}, {\"arsenic\": \"vs\"}, {\"cadmium\": \"vs\"}', 22, 23, None), (12, 'BH003', 3, '{\"lithology\": \"charbon\"}, {\"arsenic\": \"vr\"}, {\"cadmium\": \"vi\"}', 24, 25, None), (13, 'BH003', 4, '{\"lithology\": \"dolomie\"}, {\"arsenic\": \"inconnu\"}, {\"cadmium\": \"inconnu\"}', 26, 27, None))\n",
      "2021-08-03 15:07:00,289 INFO sqlalchemy.engine.Engine COMMIT\n",
      "2021-08-03 15:07:00,293 INFO sqlalchemy.engine.Engine BEGIN (implicit)\n",
      "2021-08-03 15:07:00,294 INFO sqlalchemy.engine.Engine SELECT \"Boreholes\".id AS \"Boreholes_id\", \"Boreholes\".length AS \"Boreholes_length\", \"Boreholes\".diameter AS \"Boreholes_diameter\" \n",
      "FROM \"Boreholes\"\n",
      "2021-08-03 15:07:00,294 INFO sqlalchemy.engine.Engine [cached since 0.1747s ago] ()\n",
      "2021-08-03 15:07:00,296 INFO sqlalchemy.engine.Engine SELECT \"Intervals\".id AS \"Intervals_id\", \"Intervals\".borehole AS \"Intervals_borehole\", \"Intervals\".interval_number AS \"Intervals_interval_number\", \"Intervals\".description AS \"Intervals_description\", \"Intervals\".top_id AS \"Intervals_top_id\", \"Intervals\".base_id AS \"Intervals_base_id\", \"Intervals\".data_id AS \"Intervals_data_id\" \n",
      "FROM \"Intervals\" \n",
      "WHERE ? = \"Intervals\".borehole\n",
      "2021-08-03 15:07:00,297 INFO sqlalchemy.engine.Engine [cached since 0.1212s ago] ('BH003',)\n",
      "2021-08-03 15:07:00,299 INFO sqlalchemy.engine.Engine SELECT \"Positions\".id AS \"Positions_id\", \"Positions\".upper AS \"Positions_upper\", \"Positions\".middle AS \"Positions_middle\", \"Positions\".lower AS \"Positions_lower\", \"Positions\".x AS \"Positions_x\", \"Positions\".y AS \"Positions_y\" \n",
      "FROM \"Positions\" \n",
      "WHERE \"Positions\".id = ?\n",
      "2021-08-03 15:07:00,300 INFO sqlalchemy.engine.Engine [cached since 0.1163s ago] (18,)\n",
      "2021-08-03 15:07:00,301 INFO sqlalchemy.engine.Engine SELECT \"Positions\".id AS \"Positions_id\", \"Positions\".upper AS \"Positions_upper\", \"Positions\".middle AS \"Positions_middle\", \"Positions\".lower AS \"Positions_lower\", \"Positions\".x AS \"Positions_x\", \"Positions\".y AS \"Positions_y\" \n",
      "FROM \"Positions\" \n",
      "WHERE \"Positions\".id = ?\n",
      "2021-08-03 15:07:00,302 INFO sqlalchemy.engine.Engine [cached since 0.1152s ago] (19,)\n",
      "2021-08-03 15:07:00,304 INFO sqlalchemy.engine.Engine SELECT \"Positions\".id AS \"Positions_id\", \"Positions\".upper AS \"Positions_upper\", \"Positions\".middle AS \"Positions_middle\", \"Positions\".lower AS \"Positions_lower\", \"Positions\".x AS \"Positions_x\", \"Positions\".y AS \"Positions_y\" \n",
      "FROM \"Positions\" \n",
      "WHERE \"Positions\".id = ?\n",
      "2021-08-03 15:07:00,304 INFO sqlalchemy.engine.Engine [cached since 0.1207s ago] (20,)\n"
     ]
    },
    {
     "name": "stdout",
     "output_type": "stream",
     "text": [
      "2021-08-03 15:07:00,306 INFO sqlalchemy.engine.Engine SELECT \"Positions\".id AS \"Positions_id\", \"Positions\".upper AS \"Positions_upper\", \"Positions\".middle AS \"Positions_middle\", \"Positions\".lower AS \"Positions_lower\", \"Positions\".x AS \"Positions_x\", \"Positions\".y AS \"Positions_y\" \n",
      "FROM \"Positions\" \n",
      "WHERE \"Positions\".id = ?\n",
      "2021-08-03 15:07:00,306 INFO sqlalchemy.engine.Engine [cached since 0.1197s ago] (21,)\n",
      "2021-08-03 15:07:00,308 INFO sqlalchemy.engine.Engine SELECT \"Positions\".id AS \"Positions_id\", \"Positions\".upper AS \"Positions_upper\", \"Positions\".middle AS \"Positions_middle\", \"Positions\".lower AS \"Positions_lower\", \"Positions\".x AS \"Positions_x\", \"Positions\".y AS \"Positions_y\" \n",
      "FROM \"Positions\" \n",
      "WHERE \"Positions\".id = ?\n",
      "2021-08-03 15:07:00,309 INFO sqlalchemy.engine.Engine [cached since 0.1259s ago] (22,)\n",
      "2021-08-03 15:07:00,311 INFO sqlalchemy.engine.Engine SELECT \"Positions\".id AS \"Positions_id\", \"Positions\".upper AS \"Positions_upper\", \"Positions\".middle AS \"Positions_middle\", \"Positions\".lower AS \"Positions_lower\", \"Positions\".x AS \"Positions_x\", \"Positions\".y AS \"Positions_y\" \n",
      "FROM \"Positions\" \n",
      "WHERE \"Positions\".id = ?\n",
      "2021-08-03 15:07:00,312 INFO sqlalchemy.engine.Engine [cached since 0.125s ago] (23,)\n",
      "2021-08-03 15:07:00,313 INFO sqlalchemy.engine.Engine SELECT \"Positions\".id AS \"Positions_id\", \"Positions\".upper AS \"Positions_upper\", \"Positions\".middle AS \"Positions_middle\", \"Positions\".lower AS \"Positions_lower\", \"Positions\".x AS \"Positions_x\", \"Positions\".y AS \"Positions_y\" \n",
      "FROM \"Positions\" \n",
      "WHERE \"Positions\".id = ?\n",
      "2021-08-03 15:07:00,314 INFO sqlalchemy.engine.Engine [cached since 0.1305s ago] (24,)\n",
      "2021-08-03 15:07:00,316 INFO sqlalchemy.engine.Engine SELECT \"Positions\".id AS \"Positions_id\", \"Positions\".upper AS \"Positions_upper\", \"Positions\".middle AS \"Positions_middle\", \"Positions\".lower AS \"Positions_lower\", \"Positions\".x AS \"Positions_x\", \"Positions\".y AS \"Positions_y\" \n",
      "FROM \"Positions\" \n",
      "WHERE \"Positions\".id = ?\n",
      "2021-08-03 15:07:00,316 INFO sqlalchemy.engine.Engine [cached since 0.1295s ago] (25,)\n",
      "2021-08-03 15:07:00,318 INFO sqlalchemy.engine.Engine SELECT \"Positions\".id AS \"Positions_id\", \"Positions\".upper AS \"Positions_upper\", \"Positions\".middle AS \"Positions_middle\", \"Positions\".lower AS \"Positions_lower\", \"Positions\".x AS \"Positions_x\", \"Positions\".y AS \"Positions_y\" \n",
      "FROM \"Positions\" \n",
      "WHERE \"Positions\".id = ?\n",
      "2021-08-03 15:07:00,319 INFO sqlalchemy.engine.Engine [cached since 0.1353s ago] (26,)\n",
      "2021-08-03 15:07:00,320 INFO sqlalchemy.engine.Engine SELECT \"Positions\".id AS \"Positions_id\", \"Positions\".upper AS \"Positions_upper\", \"Positions\".middle AS \"Positions_middle\", \"Positions\".lower AS \"Positions_lower\", \"Positions\".x AS \"Positions_x\", \"Positions\".y AS \"Positions_y\" \n",
      "FROM \"Positions\" \n",
      "WHERE \"Positions\".id = ?\n",
      "2021-08-03 15:07:00,321 INFO sqlalchemy.engine.Engine [cached since 0.1339s ago] (27,)\n",
      "Borehole geometry created successfully !\n",
      "2021-08-03 15:07:00,336 INFO sqlalchemy.engine.Engine UPDATE \"Boreholes\" SET length=? WHERE \"Boreholes\".id = ?\n",
      "2021-08-03 15:07:00,337 INFO sqlalchemy.engine.Engine [cached since 0.117s ago] (100.0, 'BH003')\n",
      "2021-08-03 15:07:00,338 INFO sqlalchemy.engine.Engine INSERT INTO \"Boreholes\" (id, length, diameter) VALUES (?, ?, ?)\n",
      "2021-08-03 15:07:00,339 INFO sqlalchemy.engine.Engine [cached since 0.1825s ago] ('BH004', 26.0, 0.61)\n",
      "2021-08-03 15:07:00,340 INFO sqlalchemy.engine.Engine INSERT INTO \"Positions\" (id, upper, middle, lower, x, y) VALUES (?, ?, ?, ?, ?, ?)\n",
      "2021-08-03 15:07:00,341 INFO sqlalchemy.engine.Engine [cached since 0.181s ago] ((28, 101.0, 101.0, 101.0, 152766.0, 121494.0), (29, 96.0, 96.0, 96.0, 152766.0, 121494.0), (30, 96.0, 96.0, 96.0, 152766.0, 121494.0), (31, 94.0, 94.0, 94.0, 152766.0, 121494.0), (32, 94.0, 94.0, 94.0, 152766.0, 121494.0), (33, 87.0, 87.0, 87.0, 152766.0, 121494.0), (34, 87.0, 87.0, 87.0, 152766.0, 121494.0), (35, 85.0, 85.0, 85.0, 152766.0, 121494.0), (36, 85.0, 85.0, 85.0, 152766.0, 121494.0), (37, 75.0, 75.0, 75.0, 152766.0, 121494.0))\n",
      "2021-08-03 15:07:00,343 INFO sqlalchemy.engine.Engine INSERT INTO \"Intervals\" (id, borehole, interval_number, description, top_id, base_id, data_id) VALUES (?, ?, ?, ?, ?, ?, ?)\n",
      "2021-08-03 15:07:00,344 INFO sqlalchemy.engine.Engine [cached since 0.1798s ago] ((14, 'BH004', 0, '{\"lithology\": \"sable\"}, {\"arsenic\": \"vr\"}, {\"cadmium\": \"vi\"}', 28, 29, None), (15, 'BH004', 1, '{\"lithology\": \"argile\"}, {\"arsenic\": \"vr\"}, {\"cadmium\": \"vs\"}', 30, 31, None), (16, 'BH004', 2, '{\"lithology\": \"marne\"}, {\"arsenic\": \"vs\"}, {\"cadmium\": \"vs\"}', 32, 33, None), (17, 'BH004', 3, '{\"lithology\": \"charbon\"}, {\"arsenic\": \"inconnu\"}, {\"cadmium\": \"inconnu\"}', 34, 35, None), (18, 'BH004', 4, '{\"lithology\": \"dolomie\"}, {\"arsenic\": \"vi\"}, {\"cadmium\": \"inconnu\"}', 36, 37, None))\n",
      "2021-08-03 15:07:00,345 INFO sqlalchemy.engine.Engine COMMIT\n",
      "2021-08-03 15:07:00,349 INFO sqlalchemy.engine.Engine BEGIN (implicit)\n",
      "2021-08-03 15:07:00,350 INFO sqlalchemy.engine.Engine SELECT \"Boreholes\".id AS \"Boreholes_id\", \"Boreholes\".length AS \"Boreholes_length\", \"Boreholes\".diameter AS \"Boreholes_diameter\" \n",
      "FROM \"Boreholes\"\n",
      "2021-08-03 15:07:00,350 INFO sqlalchemy.engine.Engine [cached since 0.2308s ago] ()\n",
      "2021-08-03 15:07:00,352 INFO sqlalchemy.engine.Engine SELECT \"Intervals\".id AS \"Intervals_id\", \"Intervals\".borehole AS \"Intervals_borehole\", \"Intervals\".interval_number AS \"Intervals_interval_number\", \"Intervals\".description AS \"Intervals_description\", \"Intervals\".top_id AS \"Intervals_top_id\", \"Intervals\".base_id AS \"Intervals_base_id\", \"Intervals\".data_id AS \"Intervals_data_id\" \n",
      "FROM \"Intervals\" \n",
      "WHERE ? = \"Intervals\".borehole\n",
      "2021-08-03 15:07:00,353 INFO sqlalchemy.engine.Engine [cached since 0.1768s ago] ('BH004',)\n",
      "2021-08-03 15:07:00,354 INFO sqlalchemy.engine.Engine SELECT \"Positions\".id AS \"Positions_id\", \"Positions\".upper AS \"Positions_upper\", \"Positions\".middle AS \"Positions_middle\", \"Positions\".lower AS \"Positions_lower\", \"Positions\".x AS \"Positions_x\", \"Positions\".y AS \"Positions_y\" \n",
      "FROM \"Positions\" \n",
      "WHERE \"Positions\".id = ?\n",
      "2021-08-03 15:07:00,355 INFO sqlalchemy.engine.Engine [cached since 0.1715s ago] (28,)\n",
      "2021-08-03 15:07:00,356 INFO sqlalchemy.engine.Engine SELECT \"Positions\".id AS \"Positions_id\", \"Positions\".upper AS \"Positions_upper\", \"Positions\".middle AS \"Positions_middle\", \"Positions\".lower AS \"Positions_lower\", \"Positions\".x AS \"Positions_x\", \"Positions\".y AS \"Positions_y\" \n",
      "FROM \"Positions\" \n",
      "WHERE \"Positions\".id = ?\n",
      "2021-08-03 15:07:00,357 INFO sqlalchemy.engine.Engine [cached since 0.1703s ago] (29,)\n",
      "2021-08-03 15:07:00,359 INFO sqlalchemy.engine.Engine SELECT \"Positions\".id AS \"Positions_id\", \"Positions\".upper AS \"Positions_upper\", \"Positions\".middle AS \"Positions_middle\", \"Positions\".lower AS \"Positions_lower\", \"Positions\".x AS \"Positions_x\", \"Positions\".y AS \"Positions_y\" \n",
      "FROM \"Positions\" \n",
      "WHERE \"Positions\".id = ?\n",
      "2021-08-03 15:07:00,360 INFO sqlalchemy.engine.Engine [cached since 0.1768s ago] (30,)\n",
      "2021-08-03 15:07:00,362 INFO sqlalchemy.engine.Engine SELECT \"Positions\".id AS \"Positions_id\", \"Positions\".upper AS \"Positions_upper\", \"Positions\".middle AS \"Positions_middle\", \"Positions\".lower AS \"Positions_lower\", \"Positions\".x AS \"Positions_x\", \"Positions\".y AS \"Positions_y\" \n",
      "FROM \"Positions\" \n",
      "WHERE \"Positions\".id = ?\n",
      "2021-08-03 15:07:00,362 INFO sqlalchemy.engine.Engine [cached since 0.1752s ago] (31,)\n",
      "2021-08-03 15:07:00,363 INFO sqlalchemy.engine.Engine SELECT \"Positions\".id AS \"Positions_id\", \"Positions\".upper AS \"Positions_upper\", \"Positions\".middle AS \"Positions_middle\", \"Positions\".lower AS \"Positions_lower\", \"Positions\".x AS \"Positions_x\", \"Positions\".y AS \"Positions_y\" \n",
      "FROM \"Positions\" \n",
      "WHERE \"Positions\".id = ?\n",
      "2021-08-03 15:07:00,364 INFO sqlalchemy.engine.Engine [cached since 0.1806s ago] (32,)\n",
      "2021-08-03 15:07:00,365 INFO sqlalchemy.engine.Engine SELECT \"Positions\".id AS \"Positions_id\", \"Positions\".upper AS \"Positions_upper\", \"Positions\".middle AS \"Positions_middle\", \"Positions\".lower AS \"Positions_lower\", \"Positions\".x AS \"Positions_x\", \"Positions\".y AS \"Positions_y\" \n",
      "FROM \"Positions\" \n",
      "WHERE \"Positions\".id = ?\n",
      "2021-08-03 15:07:00,367 INFO sqlalchemy.engine.Engine [cached since 0.1797s ago] (33,)\n",
      "2021-08-03 15:07:00,368 INFO sqlalchemy.engine.Engine SELECT \"Positions\".id AS \"Positions_id\", \"Positions\".upper AS \"Positions_upper\", \"Positions\".middle AS \"Positions_middle\", \"Positions\".lower AS \"Positions_lower\", \"Positions\".x AS \"Positions_x\", \"Positions\".y AS \"Positions_y\" \n",
      "FROM \"Positions\" \n",
      "WHERE \"Positions\".id = ?\n"
     ]
    },
    {
     "name": "stdout",
     "output_type": "stream",
     "text": [
      "2021-08-03 15:07:00,369 INFO sqlalchemy.engine.Engine [cached since 0.1854s ago] (34,)\n",
      "2021-08-03 15:07:00,370 INFO sqlalchemy.engine.Engine SELECT \"Positions\".id AS \"Positions_id\", \"Positions\".upper AS \"Positions_upper\", \"Positions\".middle AS \"Positions_middle\", \"Positions\".lower AS \"Positions_lower\", \"Positions\".x AS \"Positions_x\", \"Positions\".y AS \"Positions_y\" \n",
      "FROM \"Positions\" \n",
      "WHERE \"Positions\".id = ?\n",
      "2021-08-03 15:07:00,371 INFO sqlalchemy.engine.Engine [cached since 0.1839s ago] (35,)\n",
      "2021-08-03 15:07:00,372 INFO sqlalchemy.engine.Engine SELECT \"Positions\".id AS \"Positions_id\", \"Positions\".upper AS \"Positions_upper\", \"Positions\".middle AS \"Positions_middle\", \"Positions\".lower AS \"Positions_lower\", \"Positions\".x AS \"Positions_x\", \"Positions\".y AS \"Positions_y\" \n",
      "FROM \"Positions\" \n",
      "WHERE \"Positions\".id = ?\n",
      "2021-08-03 15:07:00,373 INFO sqlalchemy.engine.Engine [cached since 0.1897s ago] (36,)\n",
      "2021-08-03 15:07:00,375 INFO sqlalchemy.engine.Engine SELECT \"Positions\".id AS \"Positions_id\", \"Positions\".upper AS \"Positions_upper\", \"Positions\".middle AS \"Positions_middle\", \"Positions\".lower AS \"Positions_lower\", \"Positions\".x AS \"Positions_x\", \"Positions\".y AS \"Positions_y\" \n",
      "FROM \"Positions\" \n",
      "WHERE \"Positions\".id = ?\n",
      "2021-08-03 15:07:00,376 INFO sqlalchemy.engine.Engine [cached since 0.1891s ago] (37,)\n",
      "Borehole geometry created successfully !\n",
      "2021-08-03 15:07:00,392 INFO sqlalchemy.engine.Engine UPDATE \"Boreholes\" SET length=? WHERE \"Boreholes\".id = ?\n",
      "2021-08-03 15:07:00,393 INFO sqlalchemy.engine.Engine [cached since 0.1726s ago] (96.0, 'BH004')\n",
      "2021-08-03 15:07:00,395 INFO sqlalchemy.engine.Engine INSERT INTO \"Boreholes\" (id, length, diameter) VALUES (?, ?, ?)\n",
      "2021-08-03 15:07:00,395 INFO sqlalchemy.engine.Engine [cached since 0.2389s ago] ('BH005', 36.0, 0.61)\n",
      "2021-08-03 15:07:00,397 INFO sqlalchemy.engine.Engine INSERT INTO \"Positions\" (id, upper, middle, lower, x, y) VALUES (?, ?, ?, ?, ?, ?)\n",
      "2021-08-03 15:07:00,397 INFO sqlalchemy.engine.Engine [cached since 0.2375s ago] ((38, 101.0, 101.0, 101.0, 152473.0, 121460.0), (39, 97.0, 97.0, 97.0, 152473.0, 121460.0), (40, 97.0, 97.0, 97.0, 152473.0, 121460.0), (41, 93.0, 93.0, 93.0, 152473.0, 121460.0), (42, 93.0, 93.0, 93.0, 152473.0, 121460.0), (43, 82.0, 82.0, 82.0, 152473.0, 121460.0), (44, 82.0, 82.0, 82.0, 152473.0, 121460.0), (45, 74.0, 74.0, 74.0, 152473.0, 121460.0)  ... displaying 10 of 14 total bound parameter sets ...  (50, 69.0, 69.0, 69.0, 152473.0, 121460.0), (51, 65.0, 65.0, 65.0, 152473.0, 121460.0))\n",
      "2021-08-03 15:07:00,399 INFO sqlalchemy.engine.Engine INSERT INTO \"Intervals\" (id, borehole, interval_number, description, top_id, base_id, data_id) VALUES (?, ?, ?, ?, ?, ?, ?)\n",
      "2021-08-03 15:07:00,400 INFO sqlalchemy.engine.Engine [cached since 0.2357s ago] ((19, 'BH005', 0, '{\"lithology\": \"sable\"}, {\"arsenic\": \"vi\"}, {\"cadmium\": \"vs\"}', 38, 39, None), (20, 'BH005', 1, '{\"lithology\": \"argile\"}, {\"arsenic\": \"vi\"}, {\"cadmium\": \"vi\"}', 40, 41, None), (21, 'BH005', 2, '{\"lithology\": \"marne\"}, {\"arsenic\": \"inconnu\"}, {\"cadmium\": \"vs\"}', 42, 43, None), (22, 'BH005', 3, '{\"lithology\": \"charbon\"}, {\"arsenic\": \"vs\"}, {\"cadmium\": \"vi\"}', 44, 45, None), (23, 'BH005', 4, '{\"lithology\": \"dolomie\"}, {\"arsenic\": \"vr\"}, {\"cadmium\": \"vr\"}', 46, 47, None), (24, 'BH005', 5, '{\"lithology\": \"schiste\"}, {\"arsenic\": \"vi\"}, {\"cadmium\": \"vr\"}', 48, 49, None), (25, 'BH005', 6, '{\"lithology\": \"calcaire\"}, {\"arsenic\": \"inconnu\"}, {\"cadmium\": \"vr\"}', 50, 51, None))\n",
      "2021-08-03 15:07:00,401 INFO sqlalchemy.engine.Engine COMMIT\n",
      "2021-08-03 15:07:00,405 INFO sqlalchemy.engine.Engine BEGIN (implicit)\n",
      "2021-08-03 15:07:00,407 INFO sqlalchemy.engine.Engine SELECT \"Boreholes\".id AS \"Boreholes_id\", \"Boreholes\".length AS \"Boreholes_length\", \"Boreholes\".diameter AS \"Boreholes_diameter\" \n",
      "FROM \"Boreholes\"\n",
      "2021-08-03 15:07:00,407 INFO sqlalchemy.engine.Engine [cached since 0.288s ago] ()\n",
      "2021-08-03 15:07:00,409 INFO sqlalchemy.engine.Engine SELECT \"Intervals\".id AS \"Intervals_id\", \"Intervals\".borehole AS \"Intervals_borehole\", \"Intervals\".interval_number AS \"Intervals_interval_number\", \"Intervals\".description AS \"Intervals_description\", \"Intervals\".top_id AS \"Intervals_top_id\", \"Intervals\".base_id AS \"Intervals_base_id\", \"Intervals\".data_id AS \"Intervals_data_id\" \n",
      "FROM \"Intervals\" \n",
      "WHERE ? = \"Intervals\".borehole\n",
      "2021-08-03 15:07:00,410 INFO sqlalchemy.engine.Engine [cached since 0.234s ago] ('BH005',)\n",
      "2021-08-03 15:07:00,412 INFO sqlalchemy.engine.Engine SELECT \"Positions\".id AS \"Positions_id\", \"Positions\".upper AS \"Positions_upper\", \"Positions\".middle AS \"Positions_middle\", \"Positions\".lower AS \"Positions_lower\", \"Positions\".x AS \"Positions_x\", \"Positions\".y AS \"Positions_y\" \n",
      "FROM \"Positions\" \n",
      "WHERE \"Positions\".id = ?\n",
      "2021-08-03 15:07:00,412 INFO sqlalchemy.engine.Engine [cached since 0.2287s ago] (38,)\n",
      "2021-08-03 15:07:00,414 INFO sqlalchemy.engine.Engine SELECT \"Positions\".id AS \"Positions_id\", \"Positions\".upper AS \"Positions_upper\", \"Positions\".middle AS \"Positions_middle\", \"Positions\".lower AS \"Positions_lower\", \"Positions\".x AS \"Positions_x\", \"Positions\".y AS \"Positions_y\" \n",
      "FROM \"Positions\" \n",
      "WHERE \"Positions\".id = ?\n",
      "2021-08-03 15:07:00,414 INFO sqlalchemy.engine.Engine [cached since 0.2275s ago] (39,)\n",
      "2021-08-03 15:07:00,416 INFO sqlalchemy.engine.Engine SELECT \"Positions\".id AS \"Positions_id\", \"Positions\".upper AS \"Positions_upper\", \"Positions\".middle AS \"Positions_middle\", \"Positions\".lower AS \"Positions_lower\", \"Positions\".x AS \"Positions_x\", \"Positions\".y AS \"Positions_y\" \n",
      "FROM \"Positions\" \n",
      "WHERE \"Positions\".id = ?\n",
      "2021-08-03 15:07:00,417 INFO sqlalchemy.engine.Engine [cached since 0.2335s ago] (40,)\n",
      "2021-08-03 15:07:00,418 INFO sqlalchemy.engine.Engine SELECT \"Positions\".id AS \"Positions_id\", \"Positions\".upper AS \"Positions_upper\", \"Positions\".middle AS \"Positions_middle\", \"Positions\".lower AS \"Positions_lower\", \"Positions\".x AS \"Positions_x\", \"Positions\".y AS \"Positions_y\" \n",
      "FROM \"Positions\" \n",
      "WHERE \"Positions\".id = ?\n",
      "2021-08-03 15:07:00,419 INFO sqlalchemy.engine.Engine [cached since 0.2319s ago] (41,)\n",
      "2021-08-03 15:07:00,420 INFO sqlalchemy.engine.Engine SELECT \"Positions\".id AS \"Positions_id\", \"Positions\".upper AS \"Positions_upper\", \"Positions\".middle AS \"Positions_middle\", \"Positions\".lower AS \"Positions_lower\", \"Positions\".x AS \"Positions_x\", \"Positions\".y AS \"Positions_y\" \n",
      "FROM \"Positions\" \n",
      "WHERE \"Positions\".id = ?\n",
      "2021-08-03 15:07:00,421 INFO sqlalchemy.engine.Engine [cached since 0.2377s ago] (42,)\n",
      "2021-08-03 15:07:00,423 INFO sqlalchemy.engine.Engine SELECT \"Positions\".id AS \"Positions_id\", \"Positions\".upper AS \"Positions_upper\", \"Positions\".middle AS \"Positions_middle\", \"Positions\".lower AS \"Positions_lower\", \"Positions\".x AS \"Positions_x\", \"Positions\".y AS \"Positions_y\" \n",
      "FROM \"Positions\" \n",
      "WHERE \"Positions\".id = ?\n",
      "2021-08-03 15:07:00,423 INFO sqlalchemy.engine.Engine [cached since 0.2367s ago] (43,)\n",
      "2021-08-03 15:07:00,425 INFO sqlalchemy.engine.Engine SELECT \"Positions\".id AS \"Positions_id\", \"Positions\".upper AS \"Positions_upper\", \"Positions\".middle AS \"Positions_middle\", \"Positions\".lower AS \"Positions_lower\", \"Positions\".x AS \"Positions_x\", \"Positions\".y AS \"Positions_y\" \n",
      "FROM \"Positions\" \n",
      "WHERE \"Positions\".id = ?\n",
      "2021-08-03 15:07:00,426 INFO sqlalchemy.engine.Engine [cached since 0.2428s ago] (44,)\n",
      "2021-08-03 15:07:00,428 INFO sqlalchemy.engine.Engine SELECT \"Positions\".id AS \"Positions_id\", \"Positions\".upper AS \"Positions_upper\", \"Positions\".middle AS \"Positions_middle\", \"Positions\".lower AS \"Positions_lower\", \"Positions\".x AS \"Positions_x\", \"Positions\".y AS \"Positions_y\" \n",
      "FROM \"Positions\" \n",
      "WHERE \"Positions\".id = ?\n",
      "2021-08-03 15:07:00,429 INFO sqlalchemy.engine.Engine [cached since 0.2422s ago] (45,)\n",
      "2021-08-03 15:07:00,431 INFO sqlalchemy.engine.Engine SELECT \"Positions\".id AS \"Positions_id\", \"Positions\".upper AS \"Positions_upper\", \"Positions\".middle AS \"Positions_middle\", \"Positions\".lower AS \"Positions_lower\", \"Positions\".x AS \"Positions_x\", \"Positions\".y AS \"Positions_y\" \n",
      "FROM \"Positions\" \n",
      "WHERE \"Positions\".id = ?\n",
      "2021-08-03 15:07:00,432 INFO sqlalchemy.engine.Engine [cached since 0.2487s ago] (46,)\n",
      "2021-08-03 15:07:00,434 INFO sqlalchemy.engine.Engine SELECT \"Positions\".id AS \"Positions_id\", \"Positions\".upper AS \"Positions_upper\", \"Positions\".middle AS \"Positions_middle\", \"Positions\".lower AS \"Positions_lower\", \"Positions\".x AS \"Positions_x\", \"Positions\".y AS \"Positions_y\" \n",
      "FROM \"Positions\" \n",
      "WHERE \"Positions\".id = ?\n"
     ]
    },
    {
     "name": "stdout",
     "output_type": "stream",
     "text": [
      "2021-08-03 15:07:00,435 INFO sqlalchemy.engine.Engine [cached since 0.2478s ago] (47,)\n",
      "2021-08-03 15:07:00,436 INFO sqlalchemy.engine.Engine SELECT \"Positions\".id AS \"Positions_id\", \"Positions\".upper AS \"Positions_upper\", \"Positions\".middle AS \"Positions_middle\", \"Positions\".lower AS \"Positions_lower\", \"Positions\".x AS \"Positions_x\", \"Positions\".y AS \"Positions_y\" \n",
      "FROM \"Positions\" \n",
      "WHERE \"Positions\".id = ?\n",
      "2021-08-03 15:07:00,437 INFO sqlalchemy.engine.Engine [cached since 0.2533s ago] (48,)\n",
      "2021-08-03 15:07:00,438 INFO sqlalchemy.engine.Engine SELECT \"Positions\".id AS \"Positions_id\", \"Positions\".upper AS \"Positions_upper\", \"Positions\".middle AS \"Positions_middle\", \"Positions\".lower AS \"Positions_lower\", \"Positions\".x AS \"Positions_x\", \"Positions\".y AS \"Positions_y\" \n",
      "FROM \"Positions\" \n",
      "WHERE \"Positions\".id = ?\n",
      "2021-08-03 15:07:00,439 INFO sqlalchemy.engine.Engine [cached since 0.2521s ago] (49,)\n",
      "2021-08-03 15:07:00,441 INFO sqlalchemy.engine.Engine SELECT \"Positions\".id AS \"Positions_id\", \"Positions\".upper AS \"Positions_upper\", \"Positions\".middle AS \"Positions_middle\", \"Positions\".lower AS \"Positions_lower\", \"Positions\".x AS \"Positions_x\", \"Positions\".y AS \"Positions_y\" \n",
      "FROM \"Positions\" \n",
      "WHERE \"Positions\".id = ?\n",
      "2021-08-03 15:07:00,441 INFO sqlalchemy.engine.Engine [cached since 0.258s ago] (50,)\n",
      "2021-08-03 15:07:00,443 INFO sqlalchemy.engine.Engine SELECT \"Positions\".id AS \"Positions_id\", \"Positions\".upper AS \"Positions_upper\", \"Positions\".middle AS \"Positions_middle\", \"Positions\".lower AS \"Positions_lower\", \"Positions\".x AS \"Positions_x\", \"Positions\".y AS \"Positions_y\" \n",
      "FROM \"Positions\" \n",
      "WHERE \"Positions\".id = ?\n",
      "2021-08-03 15:07:00,444 INFO sqlalchemy.engine.Engine [cached since 0.2568s ago] (51,)\n",
      "Borehole geometry created successfully !\n",
      "2021-08-03 15:07:00,461 INFO sqlalchemy.engine.Engine UPDATE \"Boreholes\" SET length=? WHERE \"Boreholes\".id = ?\n",
      "2021-08-03 15:07:00,462 INFO sqlalchemy.engine.Engine [cached since 0.2414s ago] (97.0, 'BH005')\n",
      "2021-08-03 15:07:00,463 INFO sqlalchemy.engine.Engine INSERT INTO \"Boreholes\" (id, length, diameter) VALUES (?, ?, ?)\n",
      "2021-08-03 15:07:00,464 INFO sqlalchemy.engine.Engine [cached since 0.3075s ago] ('BH006', 26.0, 0.31)\n",
      "2021-08-03 15:07:00,465 INFO sqlalchemy.engine.Engine INSERT INTO \"Positions\" (id, upper, middle, lower, x, y) VALUES (?, ?, ?, ?, ?, ?)\n",
      "2021-08-03 15:07:00,466 INFO sqlalchemy.engine.Engine [cached since 0.3057s ago] ((52, 101.0, 101.0, 101.0, 152375.0, 121002.0), (53, 100.0, 100.0, 100.0, 152375.0, 121002.0), (54, 100.0, 100.0, 100.0, 152375.0, 121002.0), (55, 98.0, 98.0, 98.0, 152375.0, 121002.0), (56, 98.0, 98.0, 98.0, 152375.0, 121002.0), (57, 92.0, 92.0, 92.0, 152375.0, 121002.0), (58, 92.0, 92.0, 92.0, 152375.0, 121002.0), (59, 86.0, 86.0, 86.0, 152375.0, 121002.0), (60, 86.0, 86.0, 86.0, 152375.0, 121002.0), (61, 75.0, 75.0, 75.0, 152375.0, 121002.0))\n",
      "2021-08-03 15:07:00,467 INFO sqlalchemy.engine.Engine INSERT INTO \"Intervals\" (id, borehole, interval_number, description, top_id, base_id, data_id) VALUES (?, ?, ?, ?, ?, ?, ?)\n",
      "2021-08-03 15:07:00,468 INFO sqlalchemy.engine.Engine [cached since 0.3037s ago] ((26, 'BH006', 0, '{\"lithology\": \"sable\"}, {\"arsenic\": \"vs\"}, {\"cadmium\": \"vs\"}', 52, 53, None), (27, 'BH006', 1, '{\"lithology\": \"argile\"}, {\"arsenic\": \"vi\"}, {\"cadmium\": \"vr\"}', 54, 55, None), (28, 'BH006', 2, '{\"lithology\": \"marne\"}, {\"arsenic\": \"vi\"}, {\"cadmium\": \"vi\"}', 56, 57, None), (29, 'BH006', 3, '{\"lithology\": \"charbon\"}, {\"arsenic\": \"vs\"}, {\"cadmium\": \"vr\"}', 58, 59, None), (30, 'BH006', 4, '{\"lithology\": \"dolomie\"}, {\"arsenic\": \"vi\"}, {\"cadmium\": \"vr\"}', 60, 61, None))\n",
      "2021-08-03 15:07:00,469 INFO sqlalchemy.engine.Engine COMMIT\n",
      "2021-08-03 15:07:00,472 INFO sqlalchemy.engine.Engine BEGIN (implicit)\n",
      "2021-08-03 15:07:00,473 INFO sqlalchemy.engine.Engine SELECT \"Boreholes\".id AS \"Boreholes_id\", \"Boreholes\".length AS \"Boreholes_length\", \"Boreholes\".diameter AS \"Boreholes_diameter\" \n",
      "FROM \"Boreholes\"\n",
      "2021-08-03 15:07:00,474 INFO sqlalchemy.engine.Engine [cached since 0.3543s ago] ()\n",
      "2021-08-03 15:07:00,475 INFO sqlalchemy.engine.Engine SELECT \"Intervals\".id AS \"Intervals_id\", \"Intervals\".borehole AS \"Intervals_borehole\", \"Intervals\".interval_number AS \"Intervals_interval_number\", \"Intervals\".description AS \"Intervals_description\", \"Intervals\".top_id AS \"Intervals_top_id\", \"Intervals\".base_id AS \"Intervals_base_id\", \"Intervals\".data_id AS \"Intervals_data_id\" \n",
      "FROM \"Intervals\" \n",
      "WHERE ? = \"Intervals\".borehole\n",
      "2021-08-03 15:07:00,476 INFO sqlalchemy.engine.Engine [cached since 0.3s ago] ('BH006',)\n",
      "2021-08-03 15:07:00,478 INFO sqlalchemy.engine.Engine SELECT \"Positions\".id AS \"Positions_id\", \"Positions\".upper AS \"Positions_upper\", \"Positions\".middle AS \"Positions_middle\", \"Positions\".lower AS \"Positions_lower\", \"Positions\".x AS \"Positions_x\", \"Positions\".y AS \"Positions_y\" \n",
      "FROM \"Positions\" \n",
      "WHERE \"Positions\".id = ?\n",
      "2021-08-03 15:07:00,478 INFO sqlalchemy.engine.Engine [cached since 0.2947s ago] (52,)\n",
      "2021-08-03 15:07:00,479 INFO sqlalchemy.engine.Engine SELECT \"Positions\".id AS \"Positions_id\", \"Positions\".upper AS \"Positions_upper\", \"Positions\".middle AS \"Positions_middle\", \"Positions\".lower AS \"Positions_lower\", \"Positions\".x AS \"Positions_x\", \"Positions\".y AS \"Positions_y\" \n",
      "FROM \"Positions\" \n",
      "WHERE \"Positions\".id = ?\n",
      "2021-08-03 15:07:00,479 INFO sqlalchemy.engine.Engine [cached since 0.2927s ago] (53,)\n",
      "2021-08-03 15:07:00,481 INFO sqlalchemy.engine.Engine SELECT \"Positions\".id AS \"Positions_id\", \"Positions\".upper AS \"Positions_upper\", \"Positions\".middle AS \"Positions_middle\", \"Positions\".lower AS \"Positions_lower\", \"Positions\".x AS \"Positions_x\", \"Positions\".y AS \"Positions_y\" \n",
      "FROM \"Positions\" \n",
      "WHERE \"Positions\".id = ?\n",
      "2021-08-03 15:07:00,481 INFO sqlalchemy.engine.Engine [cached since 0.2981s ago] (54,)\n",
      "2021-08-03 15:07:00,483 INFO sqlalchemy.engine.Engine SELECT \"Positions\".id AS \"Positions_id\", \"Positions\".upper AS \"Positions_upper\", \"Positions\".middle AS \"Positions_middle\", \"Positions\".lower AS \"Positions_lower\", \"Positions\".x AS \"Positions_x\", \"Positions\".y AS \"Positions_y\" \n",
      "FROM \"Positions\" \n",
      "WHERE \"Positions\".id = ?\n",
      "2021-08-03 15:07:00,483 INFO sqlalchemy.engine.Engine [cached since 0.2966s ago] (55,)\n",
      "2021-08-03 15:07:00,485 INFO sqlalchemy.engine.Engine SELECT \"Positions\".id AS \"Positions_id\", \"Positions\".upper AS \"Positions_upper\", \"Positions\".middle AS \"Positions_middle\", \"Positions\".lower AS \"Positions_lower\", \"Positions\".x AS \"Positions_x\", \"Positions\".y AS \"Positions_y\" \n",
      "FROM \"Positions\" \n",
      "WHERE \"Positions\".id = ?\n",
      "2021-08-03 15:07:00,486 INFO sqlalchemy.engine.Engine [cached since 0.3022s ago] (56,)\n",
      "2021-08-03 15:07:00,487 INFO sqlalchemy.engine.Engine SELECT \"Positions\".id AS \"Positions_id\", \"Positions\".upper AS \"Positions_upper\", \"Positions\".middle AS \"Positions_middle\", \"Positions\".lower AS \"Positions_lower\", \"Positions\".x AS \"Positions_x\", \"Positions\".y AS \"Positions_y\" \n",
      "FROM \"Positions\" \n",
      "WHERE \"Positions\".id = ?\n",
      "2021-08-03 15:07:00,488 INFO sqlalchemy.engine.Engine [cached since 0.3007s ago] (57,)\n",
      "2021-08-03 15:07:00,489 INFO sqlalchemy.engine.Engine SELECT \"Positions\".id AS \"Positions_id\", \"Positions\".upper AS \"Positions_upper\", \"Positions\".middle AS \"Positions_middle\", \"Positions\".lower AS \"Positions_lower\", \"Positions\".x AS \"Positions_x\", \"Positions\".y AS \"Positions_y\" \n",
      "FROM \"Positions\" \n",
      "WHERE \"Positions\".id = ?\n",
      "2021-08-03 15:07:00,490 INFO sqlalchemy.engine.Engine [cached since 0.3063s ago] (58,)\n",
      "2021-08-03 15:07:00,491 INFO sqlalchemy.engine.Engine SELECT \"Positions\".id AS \"Positions_id\", \"Positions\".upper AS \"Positions_upper\", \"Positions\".middle AS \"Positions_middle\", \"Positions\".lower AS \"Positions_lower\", \"Positions\".x AS \"Positions_x\", \"Positions\".y AS \"Positions_y\" \n",
      "FROM \"Positions\" \n",
      "WHERE \"Positions\".id = ?\n",
      "2021-08-03 15:07:00,492 INFO sqlalchemy.engine.Engine [cached since 0.3048s ago] (59,)\n",
      "2021-08-03 15:07:00,493 INFO sqlalchemy.engine.Engine SELECT \"Positions\".id AS \"Positions_id\", \"Positions\".upper AS \"Positions_upper\", \"Positions\".middle AS \"Positions_middle\", \"Positions\".lower AS \"Positions_lower\", \"Positions\".x AS \"Positions_x\", \"Positions\".y AS \"Positions_y\" \n",
      "FROM \"Positions\" \n",
      "WHERE \"Positions\".id = ?\n",
      "2021-08-03 15:07:00,494 INFO sqlalchemy.engine.Engine [cached since 0.3106s ago] (60,)\n"
     ]
    },
    {
     "name": "stdout",
     "output_type": "stream",
     "text": [
      "2021-08-03 15:07:00,495 INFO sqlalchemy.engine.Engine SELECT \"Positions\".id AS \"Positions_id\", \"Positions\".upper AS \"Positions_upper\", \"Positions\".middle AS \"Positions_middle\", \"Positions\".lower AS \"Positions_lower\", \"Positions\".x AS \"Positions_x\", \"Positions\".y AS \"Positions_y\" \n",
      "FROM \"Positions\" \n",
      "WHERE \"Positions\".id = ?\n",
      "2021-08-03 15:07:00,496 INFO sqlalchemy.engine.Engine [cached since 0.309s ago] (61,)\n",
      "Borehole geometry created successfully !\n",
      "2021-08-03 15:07:00,512 INFO sqlalchemy.engine.Engine UPDATE \"Boreholes\" SET length=? WHERE \"Boreholes\".id = ?\n",
      "2021-08-03 15:07:00,513 INFO sqlalchemy.engine.Engine [cached since 0.2922s ago] (100.0, 'BH006')\n",
      "2021-08-03 15:07:00,514 INFO sqlalchemy.engine.Engine INSERT INTO \"Boreholes\" (id, length, diameter) VALUES (?, ?, ?)\n",
      "2021-08-03 15:07:00,514 INFO sqlalchemy.engine.Engine [cached since 0.3577s ago] ('BH007', 45.0, 0.57)\n",
      "2021-08-03 15:07:00,515 INFO sqlalchemy.engine.Engine INSERT INTO \"Positions\" (id, upper, middle, lower, x, y) VALUES (?, ?, ?, ?, ?, ?)\n",
      "2021-08-03 15:07:00,516 INFO sqlalchemy.engine.Engine [cached since 0.3561s ago] ((62, 101.0, 101.0, 101.0, 152794.0, 121111.0), (63, 97.0, 97.0, 97.0, 152794.0, 121111.0), (64, 97.0, 97.0, 97.0, 152794.0, 121111.0), (65, 93.0, 93.0, 93.0, 152794.0, 121111.0), (66, 93.0, 93.0, 93.0, 152794.0, 121111.0), (67, 83.0, 83.0, 83.0, 152794.0, 121111.0), (68, 83.0, 83.0, 83.0, 152794.0, 121111.0), (69, 82.0, 82.0, 82.0, 152794.0, 121111.0)  ... displaying 10 of 12 total bound parameter sets ...  (72, 60.0, 60.0, 60.0, 152794.0, 121111.0), (73, 56.0, 56.0, 56.0, 152794.0, 121111.0))\n",
      "2021-08-03 15:07:00,517 INFO sqlalchemy.engine.Engine INSERT INTO \"Intervals\" (id, borehole, interval_number, description, top_id, base_id, data_id) VALUES (?, ?, ?, ?, ?, ?, ?)\n",
      "2021-08-03 15:07:00,518 INFO sqlalchemy.engine.Engine [cached since 0.3544s ago] ((31, 'BH007', 0, '{\"lithology\": \"sable\"}, {\"arsenic\": \"vi\"}, {\"cadmium\": \"vs\"}', 62, 63, None), (32, 'BH007', 1, '{\"lithology\": \"argile\"}, {\"arsenic\": \"vr\"}, {\"cadmium\": \"vs\"}', 64, 65, None), (33, 'BH007', 2, '{\"lithology\": \"marne\"}, {\"arsenic\": \"vs\"}, {\"cadmium\": \"vr\"}', 66, 67, None), (34, 'BH007', 3, '{\"lithology\": \"charbon\"}, {\"arsenic\": \"vi\"}, {\"cadmium\": \"inconnu\"}', 68, 69, None), (35, 'BH007', 4, '{\"lithology\": \"dolomie\"}, {\"arsenic\": \"vi\"}, {\"cadmium\": \"vi\"}', 70, 71, None), (36, 'BH007', 5, '{\"lithology\": \"calcaire\"}, {\"arsenic\": \"vs\"}, {\"cadmium\": \"vr\"}', 72, 73, None))\n",
      "2021-08-03 15:07:00,519 INFO sqlalchemy.engine.Engine COMMIT\n",
      "2021-08-03 15:07:00,523 INFO sqlalchemy.engine.Engine BEGIN (implicit)\n",
      "2021-08-03 15:07:00,524 INFO sqlalchemy.engine.Engine SELECT \"Boreholes\".id AS \"Boreholes_id\", \"Boreholes\".length AS \"Boreholes_length\", \"Boreholes\".diameter AS \"Boreholes_diameter\" \n",
      "FROM \"Boreholes\"\n",
      "2021-08-03 15:07:00,526 INFO sqlalchemy.engine.Engine [cached since 0.4061s ago] ()\n",
      "2021-08-03 15:07:00,528 INFO sqlalchemy.engine.Engine SELECT \"Intervals\".id AS \"Intervals_id\", \"Intervals\".borehole AS \"Intervals_borehole\", \"Intervals\".interval_number AS \"Intervals_interval_number\", \"Intervals\".description AS \"Intervals_description\", \"Intervals\".top_id AS \"Intervals_top_id\", \"Intervals\".base_id AS \"Intervals_base_id\", \"Intervals\".data_id AS \"Intervals_data_id\" \n",
      "FROM \"Intervals\" \n",
      "WHERE ? = \"Intervals\".borehole\n",
      "2021-08-03 15:07:00,529 INFO sqlalchemy.engine.Engine [cached since 0.3529s ago] ('BH007',)\n",
      "2021-08-03 15:07:00,530 INFO sqlalchemy.engine.Engine SELECT \"Positions\".id AS \"Positions_id\", \"Positions\".upper AS \"Positions_upper\", \"Positions\".middle AS \"Positions_middle\", \"Positions\".lower AS \"Positions_lower\", \"Positions\".x AS \"Positions_x\", \"Positions\".y AS \"Positions_y\" \n",
      "FROM \"Positions\" \n",
      "WHERE \"Positions\".id = ?\n",
      "2021-08-03 15:07:00,531 INFO sqlalchemy.engine.Engine [cached since 0.3476s ago] (62,)\n",
      "2021-08-03 15:07:00,533 INFO sqlalchemy.engine.Engine SELECT \"Positions\".id AS \"Positions_id\", \"Positions\".upper AS \"Positions_upper\", \"Positions\".middle AS \"Positions_middle\", \"Positions\".lower AS \"Positions_lower\", \"Positions\".x AS \"Positions_x\", \"Positions\".y AS \"Positions_y\" \n",
      "FROM \"Positions\" \n",
      "WHERE \"Positions\".id = ?\n",
      "2021-08-03 15:07:00,534 INFO sqlalchemy.engine.Engine [cached since 0.3471s ago] (63,)\n",
      "2021-08-03 15:07:00,536 INFO sqlalchemy.engine.Engine SELECT \"Positions\".id AS \"Positions_id\", \"Positions\".upper AS \"Positions_upper\", \"Positions\".middle AS \"Positions_middle\", \"Positions\".lower AS \"Positions_lower\", \"Positions\".x AS \"Positions_x\", \"Positions\".y AS \"Positions_y\" \n",
      "FROM \"Positions\" \n",
      "WHERE \"Positions\".id = ?\n",
      "2021-08-03 15:07:00,536 INFO sqlalchemy.engine.Engine [cached since 0.353s ago] (64,)\n",
      "2021-08-03 15:07:00,539 INFO sqlalchemy.engine.Engine SELECT \"Positions\".id AS \"Positions_id\", \"Positions\".upper AS \"Positions_upper\", \"Positions\".middle AS \"Positions_middle\", \"Positions\".lower AS \"Positions_lower\", \"Positions\".x AS \"Positions_x\", \"Positions\".y AS \"Positions_y\" \n",
      "FROM \"Positions\" \n",
      "WHERE \"Positions\".id = ?\n",
      "2021-08-03 15:07:00,539 INFO sqlalchemy.engine.Engine [cached since 0.3526s ago] (65,)\n",
      "2021-08-03 15:07:00,542 INFO sqlalchemy.engine.Engine SELECT \"Positions\".id AS \"Positions_id\", \"Positions\".upper AS \"Positions_upper\", \"Positions\".middle AS \"Positions_middle\", \"Positions\".lower AS \"Positions_lower\", \"Positions\".x AS \"Positions_x\", \"Positions\".y AS \"Positions_y\" \n",
      "FROM \"Positions\" \n",
      "WHERE \"Positions\".id = ?\n",
      "2021-08-03 15:07:00,543 INFO sqlalchemy.engine.Engine [cached since 0.3592s ago] (66,)\n",
      "2021-08-03 15:07:00,544 INFO sqlalchemy.engine.Engine SELECT \"Positions\".id AS \"Positions_id\", \"Positions\".upper AS \"Positions_upper\", \"Positions\".middle AS \"Positions_middle\", \"Positions\".lower AS \"Positions_lower\", \"Positions\".x AS \"Positions_x\", \"Positions\".y AS \"Positions_y\" \n",
      "FROM \"Positions\" \n",
      "WHERE \"Positions\".id = ?\n",
      "2021-08-03 15:07:00,545 INFO sqlalchemy.engine.Engine [cached since 0.3579s ago] (67,)\n",
      "2021-08-03 15:07:00,547 INFO sqlalchemy.engine.Engine SELECT \"Positions\".id AS \"Positions_id\", \"Positions\".upper AS \"Positions_upper\", \"Positions\".middle AS \"Positions_middle\", \"Positions\".lower AS \"Positions_lower\", \"Positions\".x AS \"Positions_x\", \"Positions\".y AS \"Positions_y\" \n",
      "FROM \"Positions\" \n",
      "WHERE \"Positions\".id = ?\n",
      "2021-08-03 15:07:00,547 INFO sqlalchemy.engine.Engine [cached since 0.364s ago] (68,)\n",
      "2021-08-03 15:07:00,549 INFO sqlalchemy.engine.Engine SELECT \"Positions\".id AS \"Positions_id\", \"Positions\".upper AS \"Positions_upper\", \"Positions\".middle AS \"Positions_middle\", \"Positions\".lower AS \"Positions_lower\", \"Positions\".x AS \"Positions_x\", \"Positions\".y AS \"Positions_y\" \n",
      "FROM \"Positions\" \n",
      "WHERE \"Positions\".id = ?\n",
      "2021-08-03 15:07:00,549 INFO sqlalchemy.engine.Engine [cached since 0.3627s ago] (69,)\n",
      "2021-08-03 15:07:00,551 INFO sqlalchemy.engine.Engine SELECT \"Positions\".id AS \"Positions_id\", \"Positions\".upper AS \"Positions_upper\", \"Positions\".middle AS \"Positions_middle\", \"Positions\".lower AS \"Positions_lower\", \"Positions\".x AS \"Positions_x\", \"Positions\".y AS \"Positions_y\" \n",
      "FROM \"Positions\" \n",
      "WHERE \"Positions\".id = ?\n",
      "2021-08-03 15:07:00,551 INFO sqlalchemy.engine.Engine [cached since 0.3681s ago] (70,)\n",
      "2021-08-03 15:07:00,554 INFO sqlalchemy.engine.Engine SELECT \"Positions\".id AS \"Positions_id\", \"Positions\".upper AS \"Positions_upper\", \"Positions\".middle AS \"Positions_middle\", \"Positions\".lower AS \"Positions_lower\", \"Positions\".x AS \"Positions_x\", \"Positions\".y AS \"Positions_y\" \n",
      "FROM \"Positions\" \n",
      "WHERE \"Positions\".id = ?\n",
      "2021-08-03 15:07:00,554 INFO sqlalchemy.engine.Engine [cached since 0.3674s ago] (71,)\n",
      "2021-08-03 15:07:00,556 INFO sqlalchemy.engine.Engine SELECT \"Positions\".id AS \"Positions_id\", \"Positions\".upper AS \"Positions_upper\", \"Positions\".middle AS \"Positions_middle\", \"Positions\".lower AS \"Positions_lower\", \"Positions\".x AS \"Positions_x\", \"Positions\".y AS \"Positions_y\" \n",
      "FROM \"Positions\" \n",
      "WHERE \"Positions\".id = ?\n",
      "2021-08-03 15:07:00,556 INFO sqlalchemy.engine.Engine [cached since 0.3727s ago] (72,)\n",
      "2021-08-03 15:07:00,558 INFO sqlalchemy.engine.Engine SELECT \"Positions\".id AS \"Positions_id\", \"Positions\".upper AS \"Positions_upper\", \"Positions\".middle AS \"Positions_middle\", \"Positions\".lower AS \"Positions_lower\", \"Positions\".x AS \"Positions_x\", \"Positions\".y AS \"Positions_y\" \n",
      "FROM \"Positions\" \n",
      "WHERE \"Positions\".id = ?\n"
     ]
    },
    {
     "name": "stdout",
     "output_type": "stream",
     "text": [
      "2021-08-03 15:07:00,559 INFO sqlalchemy.engine.Engine [cached since 0.3723s ago] (73,)\n",
      "Borehole geometry created successfully !\n",
      "2021-08-03 15:07:00,578 INFO sqlalchemy.engine.Engine UPDATE \"Boreholes\" SET length=? WHERE \"Boreholes\".id = ?\n",
      "2021-08-03 15:07:00,579 INFO sqlalchemy.engine.Engine [cached since 0.3582s ago] (97.0, 'BH007')\n",
      "2021-08-03 15:07:00,580 INFO sqlalchemy.engine.Engine INSERT INTO \"Boreholes\" (id, length, diameter) VALUES (?, ?, ?)\n",
      "2021-08-03 15:07:00,581 INFO sqlalchemy.engine.Engine [cached since 0.4241s ago] ('BH008', 35.0, 0.39)\n",
      "2021-08-03 15:07:00,582 INFO sqlalchemy.engine.Engine INSERT INTO \"Positions\" (id, upper, middle, lower, x, y) VALUES (?, ?, ?, ?, ?, ?)\n",
      "2021-08-03 15:07:00,583 INFO sqlalchemy.engine.Engine [cached since 0.4229s ago] ((74, 101.0, 101.0, 101.0, 152150.0, 121579.0), (75, 98.0, 98.0, 98.0, 152150.0, 121579.0), (76, 98.0, 98.0, 98.0, 152150.0, 121579.0), (77, 97.0, 97.0, 97.0, 152150.0, 121579.0), (78, 97.0, 97.0, 97.0, 152150.0, 121579.0), (79, 91.0, 91.0, 91.0, 152150.0, 121579.0), (80, 91.0, 91.0, 91.0, 152150.0, 121579.0), (81, 86.0, 86.0, 86.0, 152150.0, 121579.0), (82, 86.0, 86.0, 86.0, 152150.0, 121579.0), (83, 66.0, 66.0, 66.0, 152150.0, 121579.0))\n",
      "2021-08-03 15:07:00,585 INFO sqlalchemy.engine.Engine INSERT INTO \"Intervals\" (id, borehole, interval_number, description, top_id, base_id, data_id) VALUES (?, ?, ?, ?, ?, ?, ?)\n",
      "2021-08-03 15:07:00,585 INFO sqlalchemy.engine.Engine [cached since 0.4217s ago] ((37, 'BH008', 0, '{\"lithology\": \"sable\"}, {\"arsenic\": \"vr\"}, {\"cadmium\": \"vs\"}', 74, 75, None), (38, 'BH008', 1, '{\"lithology\": \"argile\"}, {\"arsenic\": \"inconnu\"}, {\"cadmium\": \"vr\"}', 76, 77, None), (39, 'BH008', 2, '{\"lithology\": \"marne\"}, {\"arsenic\": \"inconnu\"}, {\"cadmium\": \"vs\"}', 78, 79, None), (40, 'BH008', 3, '{\"lithology\": \"charbon\"}, {\"arsenic\": \"inconnu\"}, {\"cadmium\": \"vi\"}', 80, 81, None), (41, 'BH008', 4, '{\"lithology\": \"dolomie\"}, {\"arsenic\": \"vi\"}, {\"cadmium\": \"vi\"}', 82, 83, None))\n",
      "2021-08-03 15:07:00,587 INFO sqlalchemy.engine.Engine COMMIT\n",
      "2021-08-03 15:07:00,591 INFO sqlalchemy.engine.Engine BEGIN (implicit)\n",
      "2021-08-03 15:07:00,592 INFO sqlalchemy.engine.Engine SELECT \"Boreholes\".id AS \"Boreholes_id\", \"Boreholes\".length AS \"Boreholes_length\", \"Boreholes\".diameter AS \"Boreholes_diameter\" \n",
      "FROM \"Boreholes\"\n",
      "2021-08-03 15:07:00,593 INFO sqlalchemy.engine.Engine [cached since 0.4732s ago] ()\n",
      "2021-08-03 15:07:00,595 INFO sqlalchemy.engine.Engine SELECT \"Intervals\".id AS \"Intervals_id\", \"Intervals\".borehole AS \"Intervals_borehole\", \"Intervals\".interval_number AS \"Intervals_interval_number\", \"Intervals\".description AS \"Intervals_description\", \"Intervals\".top_id AS \"Intervals_top_id\", \"Intervals\".base_id AS \"Intervals_base_id\", \"Intervals\".data_id AS \"Intervals_data_id\" \n",
      "FROM \"Intervals\" \n",
      "WHERE ? = \"Intervals\".borehole\n",
      "2021-08-03 15:07:00,596 INFO sqlalchemy.engine.Engine [cached since 0.4197s ago] ('BH008',)\n",
      "2021-08-03 15:07:00,598 INFO sqlalchemy.engine.Engine SELECT \"Positions\".id AS \"Positions_id\", \"Positions\".upper AS \"Positions_upper\", \"Positions\".middle AS \"Positions_middle\", \"Positions\".lower AS \"Positions_lower\", \"Positions\".x AS \"Positions_x\", \"Positions\".y AS \"Positions_y\" \n",
      "FROM \"Positions\" \n",
      "WHERE \"Positions\".id = ?\n",
      "2021-08-03 15:07:00,599 INFO sqlalchemy.engine.Engine [cached since 0.4153s ago] (74,)\n",
      "2021-08-03 15:07:00,601 INFO sqlalchemy.engine.Engine SELECT \"Positions\".id AS \"Positions_id\", \"Positions\".upper AS \"Positions_upper\", \"Positions\".middle AS \"Positions_middle\", \"Positions\".lower AS \"Positions_lower\", \"Positions\".x AS \"Positions_x\", \"Positions\".y AS \"Positions_y\" \n",
      "FROM \"Positions\" \n",
      "WHERE \"Positions\".id = ?\n",
      "2021-08-03 15:07:00,602 INFO sqlalchemy.engine.Engine [cached since 0.4148s ago] (75,)\n",
      "2021-08-03 15:07:00,603 INFO sqlalchemy.engine.Engine SELECT \"Positions\".id AS \"Positions_id\", \"Positions\".upper AS \"Positions_upper\", \"Positions\".middle AS \"Positions_middle\", \"Positions\".lower AS \"Positions_lower\", \"Positions\".x AS \"Positions_x\", \"Positions\".y AS \"Positions_y\" \n",
      "FROM \"Positions\" \n",
      "WHERE \"Positions\".id = ?\n",
      "2021-08-03 15:07:00,604 INFO sqlalchemy.engine.Engine [cached since 0.4202s ago] (76,)\n",
      "2021-08-03 15:07:00,605 INFO sqlalchemy.engine.Engine SELECT \"Positions\".id AS \"Positions_id\", \"Positions\".upper AS \"Positions_upper\", \"Positions\".middle AS \"Positions_middle\", \"Positions\".lower AS \"Positions_lower\", \"Positions\".x AS \"Positions_x\", \"Positions\".y AS \"Positions_y\" \n",
      "FROM \"Positions\" \n",
      "WHERE \"Positions\".id = ?\n",
      "2021-08-03 15:07:00,606 INFO sqlalchemy.engine.Engine [cached since 0.4189s ago] (77,)\n",
      "2021-08-03 15:07:00,607 INFO sqlalchemy.engine.Engine SELECT \"Positions\".id AS \"Positions_id\", \"Positions\".upper AS \"Positions_upper\", \"Positions\".middle AS \"Positions_middle\", \"Positions\".lower AS \"Positions_lower\", \"Positions\".x AS \"Positions_x\", \"Positions\".y AS \"Positions_y\" \n",
      "FROM \"Positions\" \n",
      "WHERE \"Positions\".id = ?\n",
      "2021-08-03 15:07:00,608 INFO sqlalchemy.engine.Engine [cached since 0.4251s ago] (78,)\n",
      "2021-08-03 15:07:00,610 INFO sqlalchemy.engine.Engine SELECT \"Positions\".id AS \"Positions_id\", \"Positions\".upper AS \"Positions_upper\", \"Positions\".middle AS \"Positions_middle\", \"Positions\".lower AS \"Positions_lower\", \"Positions\".x AS \"Positions_x\", \"Positions\".y AS \"Positions_y\" \n",
      "FROM \"Positions\" \n",
      "WHERE \"Positions\".id = ?\n",
      "2021-08-03 15:07:00,611 INFO sqlalchemy.engine.Engine [cached since 0.4242s ago] (79,)\n",
      "2021-08-03 15:07:00,613 INFO sqlalchemy.engine.Engine SELECT \"Positions\".id AS \"Positions_id\", \"Positions\".upper AS \"Positions_upper\", \"Positions\".middle AS \"Positions_middle\", \"Positions\".lower AS \"Positions_lower\", \"Positions\".x AS \"Positions_x\", \"Positions\".y AS \"Positions_y\" \n",
      "FROM \"Positions\" \n",
      "WHERE \"Positions\".id = ?\n",
      "2021-08-03 15:07:00,614 INFO sqlalchemy.engine.Engine [cached since 0.4302s ago] (80,)\n",
      "2021-08-03 15:07:00,615 INFO sqlalchemy.engine.Engine SELECT \"Positions\".id AS \"Positions_id\", \"Positions\".upper AS \"Positions_upper\", \"Positions\".middle AS \"Positions_middle\", \"Positions\".lower AS \"Positions_lower\", \"Positions\".x AS \"Positions_x\", \"Positions\".y AS \"Positions_y\" \n",
      "FROM \"Positions\" \n",
      "WHERE \"Positions\".id = ?\n",
      "2021-08-03 15:07:00,616 INFO sqlalchemy.engine.Engine [cached since 0.4295s ago] (81,)\n",
      "2021-08-03 15:07:00,618 INFO sqlalchemy.engine.Engine SELECT \"Positions\".id AS \"Positions_id\", \"Positions\".upper AS \"Positions_upper\", \"Positions\".middle AS \"Positions_middle\", \"Positions\".lower AS \"Positions_lower\", \"Positions\".x AS \"Positions_x\", \"Positions\".y AS \"Positions_y\" \n",
      "FROM \"Positions\" \n",
      "WHERE \"Positions\".id = ?\n",
      "2021-08-03 15:07:00,619 INFO sqlalchemy.engine.Engine [cached since 0.4357s ago] (82,)\n",
      "2021-08-03 15:07:00,621 INFO sqlalchemy.engine.Engine SELECT \"Positions\".id AS \"Positions_id\", \"Positions\".upper AS \"Positions_upper\", \"Positions\".middle AS \"Positions_middle\", \"Positions\".lower AS \"Positions_lower\", \"Positions\".x AS \"Positions_x\", \"Positions\".y AS \"Positions_y\" \n",
      "FROM \"Positions\" \n",
      "WHERE \"Positions\".id = ?\n",
      "2021-08-03 15:07:00,622 INFO sqlalchemy.engine.Engine [cached since 0.4348s ago] (83,)\n",
      "Borehole geometry created successfully !\n",
      "2021-08-03 15:07:00,637 INFO sqlalchemy.engine.Engine UPDATE \"Boreholes\" SET length=? WHERE \"Boreholes\".id = ?\n",
      "2021-08-03 15:07:00,637 INFO sqlalchemy.engine.Engine [cached since 0.417s ago] (98.0, 'BH008')\n",
      "2021-08-03 15:07:00,638 INFO sqlalchemy.engine.Engine INSERT INTO \"Boreholes\" (id, length, diameter) VALUES (?, ?, ?)\n",
      "2021-08-03 15:07:00,639 INFO sqlalchemy.engine.Engine [cached since 0.4825s ago] ('BH009', 40.0, 0.5)\n",
      "2021-08-03 15:07:00,640 INFO sqlalchemy.engine.Engine INSERT INTO \"Positions\" (id, upper, middle, lower, x, y) VALUES (?, ?, ?, ?, ?, ?)\n",
      "2021-08-03 15:07:00,641 INFO sqlalchemy.engine.Engine [cached since 0.4811s ago] ((84, 100.0, 100.0, 100.0, 152052.0, 121293.0), (85, 94.0, 94.0, 94.0, 152052.0, 121293.0), (86, 94.0, 94.0, 94.0, 152052.0, 121293.0), (87, 92.0, 92.0, 92.0, 152052.0, 121293.0), (88, 92.0, 92.0, 92.0, 152052.0, 121293.0), (89, 82.0, 82.0, 82.0, 152052.0, 121293.0), (90, 82.0, 82.0, 82.0, 152052.0, 121293.0), (91, 78.0, 78.0, 78.0, 152052.0, 121293.0), (92, 78.0, 78.0, 78.0, 152052.0, 121293.0), (93, 60.0, 60.0, 60.0, 152052.0, 121293.0))\n",
      "2021-08-03 15:07:00,643 INFO sqlalchemy.engine.Engine INSERT INTO \"Intervals\" (id, borehole, interval_number, description, top_id, base_id, data_id) VALUES (?, ?, ?, ?, ?, ?, ?)\n"
     ]
    },
    {
     "name": "stdout",
     "output_type": "stream",
     "text": [
      "2021-08-03 15:07:00,643 INFO sqlalchemy.engine.Engine [cached since 0.4796s ago] ((42, 'BH009', 0, '{\"lithology\": \"sable\"}, {\"arsenic\": \"inconnu\"}, {\"cadmium\": \"vr\"}', 84, 85, None), (43, 'BH009', 1, '{\"lithology\": \"argile\"}, {\"arsenic\": \"vi\"}, {\"cadmium\": \"vs\"}', 86, 87, None), (44, 'BH009', 2, '{\"lithology\": \"marne\"}, {\"arsenic\": \"vi\"}, {\"cadmium\": \"vs\"}', 88, 89, None), (45, 'BH009', 3, '{\"lithology\": \"charbon\"}, {\"arsenic\": \"inconnu\"}, {\"cadmium\": \"vr\"}', 90, 91, None), (46, 'BH009', 4, '{\"lithology\": \"dolomie\"}, {\"arsenic\": \"vi\"}, {\"cadmium\": \"vi\"}', 92, 93, None))\n",
      "2021-08-03 15:07:00,645 INFO sqlalchemy.engine.Engine COMMIT\n",
      "2021-08-03 15:07:00,648 INFO sqlalchemy.engine.Engine BEGIN (implicit)\n",
      "2021-08-03 15:07:00,649 INFO sqlalchemy.engine.Engine SELECT \"Boreholes\".id AS \"Boreholes_id\", \"Boreholes\".length AS \"Boreholes_length\", \"Boreholes\".diameter AS \"Boreholes_diameter\" \n",
      "FROM \"Boreholes\"\n",
      "2021-08-03 15:07:00,649 INFO sqlalchemy.engine.Engine [cached since 0.5299s ago] ()\n",
      "2021-08-03 15:07:00,651 INFO sqlalchemy.engine.Engine SELECT \"Intervals\".id AS \"Intervals_id\", \"Intervals\".borehole AS \"Intervals_borehole\", \"Intervals\".interval_number AS \"Intervals_interval_number\", \"Intervals\".description AS \"Intervals_description\", \"Intervals\".top_id AS \"Intervals_top_id\", \"Intervals\".base_id AS \"Intervals_base_id\", \"Intervals\".data_id AS \"Intervals_data_id\" \n",
      "FROM \"Intervals\" \n",
      "WHERE ? = \"Intervals\".borehole\n",
      "2021-08-03 15:07:00,651 INFO sqlalchemy.engine.Engine [cached since 0.4756s ago] ('BH009',)\n",
      "2021-08-03 15:07:00,653 INFO sqlalchemy.engine.Engine SELECT \"Positions\".id AS \"Positions_id\", \"Positions\".upper AS \"Positions_upper\", \"Positions\".middle AS \"Positions_middle\", \"Positions\".lower AS \"Positions_lower\", \"Positions\".x AS \"Positions_x\", \"Positions\".y AS \"Positions_y\" \n",
      "FROM \"Positions\" \n",
      "WHERE \"Positions\".id = ?\n",
      "2021-08-03 15:07:00,654 INFO sqlalchemy.engine.Engine [cached since 0.4705s ago] (84,)\n",
      "2021-08-03 15:07:00,655 INFO sqlalchemy.engine.Engine SELECT \"Positions\".id AS \"Positions_id\", \"Positions\".upper AS \"Positions_upper\", \"Positions\".middle AS \"Positions_middle\", \"Positions\".lower AS \"Positions_lower\", \"Positions\".x AS \"Positions_x\", \"Positions\".y AS \"Positions_y\" \n",
      "FROM \"Positions\" \n",
      "WHERE \"Positions\".id = ?\n",
      "2021-08-03 15:07:00,656 INFO sqlalchemy.engine.Engine [cached since 0.469s ago] (85,)\n",
      "2021-08-03 15:07:00,658 INFO sqlalchemy.engine.Engine SELECT \"Positions\".id AS \"Positions_id\", \"Positions\".upper AS \"Positions_upper\", \"Positions\".middle AS \"Positions_middle\", \"Positions\".lower AS \"Positions_lower\", \"Positions\".x AS \"Positions_x\", \"Positions\".y AS \"Positions_y\" \n",
      "FROM \"Positions\" \n",
      "WHERE \"Positions\".id = ?\n",
      "2021-08-03 15:07:00,659 INFO sqlalchemy.engine.Engine [cached since 0.4752s ago] (86,)\n",
      "2021-08-03 15:07:00,661 INFO sqlalchemy.engine.Engine SELECT \"Positions\".id AS \"Positions_id\", \"Positions\".upper AS \"Positions_upper\", \"Positions\".middle AS \"Positions_middle\", \"Positions\".lower AS \"Positions_lower\", \"Positions\".x AS \"Positions_x\", \"Positions\".y AS \"Positions_y\" \n",
      "FROM \"Positions\" \n",
      "WHERE \"Positions\".id = ?\n",
      "2021-08-03 15:07:00,661 INFO sqlalchemy.engine.Engine [cached since 0.4743s ago] (87,)\n",
      "2021-08-03 15:07:00,663 INFO sqlalchemy.engine.Engine SELECT \"Positions\".id AS \"Positions_id\", \"Positions\".upper AS \"Positions_upper\", \"Positions\".middle AS \"Positions_middle\", \"Positions\".lower AS \"Positions_lower\", \"Positions\".x AS \"Positions_x\", \"Positions\".y AS \"Positions_y\" \n",
      "FROM \"Positions\" \n",
      "WHERE \"Positions\".id = ?\n",
      "2021-08-03 15:07:00,663 INFO sqlalchemy.engine.Engine [cached since 0.4798s ago] (88,)\n",
      "2021-08-03 15:07:00,665 INFO sqlalchemy.engine.Engine SELECT \"Positions\".id AS \"Positions_id\", \"Positions\".upper AS \"Positions_upper\", \"Positions\".middle AS \"Positions_middle\", \"Positions\".lower AS \"Positions_lower\", \"Positions\".x AS \"Positions_x\", \"Positions\".y AS \"Positions_y\" \n",
      "FROM \"Positions\" \n",
      "WHERE \"Positions\".id = ?\n",
      "2021-08-03 15:07:00,666 INFO sqlalchemy.engine.Engine [cached since 0.4794s ago] (89,)\n",
      "2021-08-03 15:07:00,668 INFO sqlalchemy.engine.Engine SELECT \"Positions\".id AS \"Positions_id\", \"Positions\".upper AS \"Positions_upper\", \"Positions\".middle AS \"Positions_middle\", \"Positions\".lower AS \"Positions_lower\", \"Positions\".x AS \"Positions_x\", \"Positions\".y AS \"Positions_y\" \n",
      "FROM \"Positions\" \n",
      "WHERE \"Positions\".id = ?\n",
      "2021-08-03 15:07:00,669 INFO sqlalchemy.engine.Engine [cached since 0.4856s ago] (90,)\n",
      "2021-08-03 15:07:00,670 INFO sqlalchemy.engine.Engine SELECT \"Positions\".id AS \"Positions_id\", \"Positions\".upper AS \"Positions_upper\", \"Positions\".middle AS \"Positions_middle\", \"Positions\".lower AS \"Positions_lower\", \"Positions\".x AS \"Positions_x\", \"Positions\".y AS \"Positions_y\" \n",
      "FROM \"Positions\" \n",
      "WHERE \"Positions\".id = ?\n",
      "2021-08-03 15:07:00,671 INFO sqlalchemy.engine.Engine [cached since 0.4837s ago] (91,)\n",
      "2021-08-03 15:07:00,672 INFO sqlalchemy.engine.Engine SELECT \"Positions\".id AS \"Positions_id\", \"Positions\".upper AS \"Positions_upper\", \"Positions\".middle AS \"Positions_middle\", \"Positions\".lower AS \"Positions_lower\", \"Positions\".x AS \"Positions_x\", \"Positions\".y AS \"Positions_y\" \n",
      "FROM \"Positions\" \n",
      "WHERE \"Positions\".id = ?\n",
      "2021-08-03 15:07:00,672 INFO sqlalchemy.engine.Engine [cached since 0.489s ago] (92,)\n",
      "2021-08-03 15:07:00,674 INFO sqlalchemy.engine.Engine SELECT \"Positions\".id AS \"Positions_id\", \"Positions\".upper AS \"Positions_upper\", \"Positions\".middle AS \"Positions_middle\", \"Positions\".lower AS \"Positions_lower\", \"Positions\".x AS \"Positions_x\", \"Positions\".y AS \"Positions_y\" \n",
      "FROM \"Positions\" \n",
      "WHERE \"Positions\".id = ?\n",
      "2021-08-03 15:07:00,674 INFO sqlalchemy.engine.Engine [cached since 0.4875s ago] (93,)\n",
      "Borehole geometry created successfully !\n",
      "2021-08-03 15:07:00,692 INFO sqlalchemy.engine.Engine UPDATE \"Boreholes\" SET length=? WHERE \"Boreholes\".id = ?\n",
      "2021-08-03 15:07:00,693 INFO sqlalchemy.engine.Engine [cached since 0.4727s ago] (94.0, 'BH009')\n",
      "2021-08-03 15:07:00,695 INFO sqlalchemy.engine.Engine INSERT INTO \"Boreholes\" (id, length, diameter) VALUES (?, ?, ?)\n",
      "2021-08-03 15:07:00,695 INFO sqlalchemy.engine.Engine [cached since 0.5387s ago] ('BH10', 11.0, 0.31)\n",
      "2021-08-03 15:07:00,697 INFO sqlalchemy.engine.Engine INSERT INTO \"Positions\" (id, upper, middle, lower, x, y) VALUES (?, ?, ?, ?, ?, ?)\n",
      "2021-08-03 15:07:00,697 INFO sqlalchemy.engine.Engine [cached since 0.5374s ago] ((94, 100.0, 100.0, 100.0, 152315.0, 121754.0), (95, 95.0, 95.0, 95.0, 152315.0, 121754.0), (96, 95.0, 95.0, 95.0, 152315.0, 121754.0), (97, 91.0, 91.0, 91.0, 152315.0, 121754.0), (98, 91.0, 91.0, 91.0, 152315.0, 121754.0), (99, 89.0, 89.0, 89.0, 152315.0, 121754.0))\n",
      "2021-08-03 15:07:00,699 INFO sqlalchemy.engine.Engine INSERT INTO \"Intervals\" (id, borehole, interval_number, description, top_id, base_id, data_id) VALUES (?, ?, ?, ?, ?, ?, ?)\n",
      "2021-08-03 15:07:00,700 INFO sqlalchemy.engine.Engine [cached since 0.536s ago] ((47, 'BH10', 0, '{\"lithology\": \"sable\"}, {\"arsenic\": \"inconnu\"}, {\"cadmium\": \"vr\"}', 94, 95, None), (48, 'BH10', 1, '{\"lithology\": \"argile\"}, {\"arsenic\": \"vr\"}, {\"cadmium\": \"vs\"}', 96, 97, None), (49, 'BH10', 2, '{\"lithology\": \"marne\"}, {\"arsenic\": \"inconnu\"}, {\"cadmium\": \"inconnu\"}', 98, 99, None))\n",
      "2021-08-03 15:07:00,701 INFO sqlalchemy.engine.Engine COMMIT\n",
      "2021-08-03 15:07:00,705 INFO sqlalchemy.engine.Engine BEGIN (implicit)\n",
      "2021-08-03 15:07:00,706 INFO sqlalchemy.engine.Engine SELECT \"Boreholes\".id AS \"Boreholes_id\", \"Boreholes\".length AS \"Boreholes_length\", \"Boreholes\".diameter AS \"Boreholes_diameter\" \n",
      "FROM \"Boreholes\"\n",
      "2021-08-03 15:07:00,707 INFO sqlalchemy.engine.Engine [cached since 0.5874s ago] ()\n",
      "2021-08-03 15:07:00,710 INFO sqlalchemy.engine.Engine SELECT \"Intervals\".id AS \"Intervals_id\", \"Intervals\".borehole AS \"Intervals_borehole\", \"Intervals\".interval_number AS \"Intervals_interval_number\", \"Intervals\".description AS \"Intervals_description\", \"Intervals\".top_id AS \"Intervals_top_id\", \"Intervals\".base_id AS \"Intervals_base_id\", \"Intervals\".data_id AS \"Intervals_data_id\" \n",
      "FROM \"Intervals\" \n",
      "WHERE ? = \"Intervals\".borehole\n",
      "2021-08-03 15:07:00,710 INFO sqlalchemy.engine.Engine [cached since 0.5346s ago] ('BH10',)\n",
      "2021-08-03 15:07:00,713 INFO sqlalchemy.engine.Engine SELECT \"Positions\".id AS \"Positions_id\", \"Positions\".upper AS \"Positions_upper\", \"Positions\".middle AS \"Positions_middle\", \"Positions\".lower AS \"Positions_lower\", \"Positions\".x AS \"Positions_x\", \"Positions\".y AS \"Positions_y\" \n",
      "FROM \"Positions\" \n",
      "WHERE \"Positions\".id = ?\n"
     ]
    },
    {
     "name": "stdout",
     "output_type": "stream",
     "text": [
      "2021-08-03 15:07:00,713 INFO sqlalchemy.engine.Engine [cached since 0.53s ago] (94,)\n",
      "2021-08-03 15:07:00,715 INFO sqlalchemy.engine.Engine SELECT \"Positions\".id AS \"Positions_id\", \"Positions\".upper AS \"Positions_upper\", \"Positions\".middle AS \"Positions_middle\", \"Positions\".lower AS \"Positions_lower\", \"Positions\".x AS \"Positions_x\", \"Positions\".y AS \"Positions_y\" \n",
      "FROM \"Positions\" \n",
      "WHERE \"Positions\".id = ?\n",
      "2021-08-03 15:07:00,716 INFO sqlalchemy.engine.Engine [cached since 0.5294s ago] (95,)\n",
      "2021-08-03 15:07:00,717 INFO sqlalchemy.engine.Engine SELECT \"Positions\".id AS \"Positions_id\", \"Positions\".upper AS \"Positions_upper\", \"Positions\".middle AS \"Positions_middle\", \"Positions\".lower AS \"Positions_lower\", \"Positions\".x AS \"Positions_x\", \"Positions\".y AS \"Positions_y\" \n",
      "FROM \"Positions\" \n",
      "WHERE \"Positions\".id = ?\n",
      "2021-08-03 15:07:00,718 INFO sqlalchemy.engine.Engine [cached since 0.5347s ago] (96,)\n",
      "2021-08-03 15:07:00,719 INFO sqlalchemy.engine.Engine SELECT \"Positions\".id AS \"Positions_id\", \"Positions\".upper AS \"Positions_upper\", \"Positions\".middle AS \"Positions_middle\", \"Positions\".lower AS \"Positions_lower\", \"Positions\".x AS \"Positions_x\", \"Positions\".y AS \"Positions_y\" \n",
      "FROM \"Positions\" \n",
      "WHERE \"Positions\".id = ?\n",
      "2021-08-03 15:07:00,720 INFO sqlalchemy.engine.Engine [cached since 0.5328s ago] (97,)\n",
      "2021-08-03 15:07:00,721 INFO sqlalchemy.engine.Engine SELECT \"Positions\".id AS \"Positions_id\", \"Positions\".upper AS \"Positions_upper\", \"Positions\".middle AS \"Positions_middle\", \"Positions\".lower AS \"Positions_lower\", \"Positions\".x AS \"Positions_x\", \"Positions\".y AS \"Positions_y\" \n",
      "FROM \"Positions\" \n",
      "WHERE \"Positions\".id = ?\n",
      "2021-08-03 15:07:00,721 INFO sqlalchemy.engine.Engine [cached since 0.5381s ago] (98,)\n",
      "2021-08-03 15:07:00,723 INFO sqlalchemy.engine.Engine SELECT \"Positions\".id AS \"Positions_id\", \"Positions\".upper AS \"Positions_upper\", \"Positions\".middle AS \"Positions_middle\", \"Positions\".lower AS \"Positions_lower\", \"Positions\".x AS \"Positions_x\", \"Positions\".y AS \"Positions_y\" \n",
      "FROM \"Positions\" \n",
      "WHERE \"Positions\".id = ?\n",
      "2021-08-03 15:07:00,723 INFO sqlalchemy.engine.Engine [cached since 0.5362s ago] (99,)\n",
      "Borehole geometry created successfully !\n"
     ]
    }
   ],
   "source": [
    "for bh in boreholes:\n",
    "    p.add_borehole(bh)"
   ]
  },
  {
   "cell_type": "code",
   "execution_count": 26,
   "metadata": {},
   "outputs": [
    {
     "data": {
      "text/plain": [
       "('BH002',\n",
       " {0: [Component({'lithology': 'sable'}),\n",
       "   Component({'arsenic': 'inconnu'}),\n",
       "   Component({'cadmium': 'vs'})],\n",
       "  1: [Component({'lithology': 'argile'}),\n",
       "   Component({'arsenic': 'vr'}),\n",
       "   Component({'cadmium': 'inconnu'})],\n",
       "  2: [Component({'lithology': 'marne'}),\n",
       "   Component({'arsenic': 'vi'}),\n",
       "   Component({'cadmium': 'vs'})],\n",
       "  3: [Component({'lithology': 'charbon'}),\n",
       "   Component({'arsenic': 'vs'}),\n",
       "   Component({'cadmium': 'vi'})],\n",
       "  4: [Component({'lithology': 'dolomie'}),\n",
       "   Component({'arsenic': 'vs'}),\n",
       "   Component({'cadmium': 'vr'})]})"
      ]
     },
     "execution_count": 26,
     "metadata": {},
     "output_type": "execute_result"
    }
   ],
   "source": [
    "a=1\n",
    "p.boreholes_3d[a].name, p.boreholes_3d[a].components"
   ]
  },
  {
   "cell_type": "code",
   "execution_count": 27,
   "metadata": {
    "scrolled": true
   },
   "outputs": [
    {
     "name": "stdout",
     "output_type": "stream",
     "text": [
      "2021-08-03 15:07:00,749 INFO sqlalchemy.engine.Engine UPDATE \"Boreholes\" SET length=? WHERE \"Boreholes\".id = ?\n",
      "2021-08-03 15:07:00,751 INFO sqlalchemy.engine.Engine [cached since 0.5302s ago] (95.0, 'BH10')\n",
      "2021-08-03 15:07:00,752 INFO sqlalchemy.engine.Engine SELECT \"Intervals\".id AS \"Intervals_id\", \"Intervals\".borehole AS \"Intervals_borehole\", \"Intervals\".interval_number AS \"Intervals_interval_number\", \"Intervals\".description AS \"Intervals_description\", \"Intervals\".top_id AS \"Intervals_top_id\", \"Intervals\".base_id AS \"Intervals_base_id\", \"Intervals\".data_id AS \"Intervals_data_id\" \n",
      "FROM \"Intervals\" \n",
      "WHERE ? = \"Intervals\".borehole\n",
      "2021-08-03 15:07:00,753 INFO sqlalchemy.engine.Engine [cached since 0.5773s ago] ('BH001',)\n",
      "2021-08-03 15:07:00,755 INFO sqlalchemy.engine.Engine SELECT \"Intervals\".id AS \"Intervals_id\", \"Intervals\".borehole AS \"Intervals_borehole\", \"Intervals\".interval_number AS \"Intervals_interval_number\", \"Intervals\".description AS \"Intervals_description\", \"Intervals\".top_id AS \"Intervals_top_id\", \"Intervals\".base_id AS \"Intervals_base_id\", \"Intervals\".data_id AS \"Intervals_data_id\" \n",
      "FROM \"Intervals\" \n",
      "WHERE ? = \"Intervals\".borehole\n",
      "2021-08-03 15:07:00,755 INFO sqlalchemy.engine.Engine [cached since 0.5794s ago] ('BH002',)\n",
      "2021-08-03 15:07:00,757 INFO sqlalchemy.engine.Engine SELECT \"Intervals\".id AS \"Intervals_id\", \"Intervals\".borehole AS \"Intervals_borehole\", \"Intervals\".interval_number AS \"Intervals_interval_number\", \"Intervals\".description AS \"Intervals_description\", \"Intervals\".top_id AS \"Intervals_top_id\", \"Intervals\".base_id AS \"Intervals_base_id\", \"Intervals\".data_id AS \"Intervals_data_id\" \n",
      "FROM \"Intervals\" \n",
      "WHERE ? = \"Intervals\".borehole\n",
      "2021-08-03 15:07:00,758 INFO sqlalchemy.engine.Engine [cached since 0.5817s ago] ('BH003',)\n",
      "2021-08-03 15:07:00,759 INFO sqlalchemy.engine.Engine SELECT \"Intervals\".id AS \"Intervals_id\", \"Intervals\".borehole AS \"Intervals_borehole\", \"Intervals\".interval_number AS \"Intervals_interval_number\", \"Intervals\".description AS \"Intervals_description\", \"Intervals\".top_id AS \"Intervals_top_id\", \"Intervals\".base_id AS \"Intervals_base_id\", \"Intervals\".data_id AS \"Intervals_data_id\" \n",
      "FROM \"Intervals\" \n",
      "WHERE ? = \"Intervals\".borehole\n",
      "2021-08-03 15:07:00,760 INFO sqlalchemy.engine.Engine [cached since 0.5845s ago] ('BH004',)\n",
      "2021-08-03 15:07:00,762 INFO sqlalchemy.engine.Engine SELECT \"Intervals\".id AS \"Intervals_id\", \"Intervals\".borehole AS \"Intervals_borehole\", \"Intervals\".interval_number AS \"Intervals_interval_number\", \"Intervals\".description AS \"Intervals_description\", \"Intervals\".top_id AS \"Intervals_top_id\", \"Intervals\".base_id AS \"Intervals_base_id\", \"Intervals\".data_id AS \"Intervals_data_id\" \n",
      "FROM \"Intervals\" \n",
      "WHERE ? = \"Intervals\".borehole\n",
      "2021-08-03 15:07:00,763 INFO sqlalchemy.engine.Engine [cached since 0.5869s ago] ('BH005',)\n",
      "2021-08-03 15:07:00,764 INFO sqlalchemy.engine.Engine SELECT \"Intervals\".id AS \"Intervals_id\", \"Intervals\".borehole AS \"Intervals_borehole\", \"Intervals\".interval_number AS \"Intervals_interval_number\", \"Intervals\".description AS \"Intervals_description\", \"Intervals\".top_id AS \"Intervals_top_id\", \"Intervals\".base_id AS \"Intervals_base_id\", \"Intervals\".data_id AS \"Intervals_data_id\" \n",
      "FROM \"Intervals\" \n",
      "WHERE ? = \"Intervals\".borehole\n",
      "2021-08-03 15:07:00,765 INFO sqlalchemy.engine.Engine [cached since 0.5891s ago] ('BH006',)\n",
      "2021-08-03 15:07:00,767 INFO sqlalchemy.engine.Engine SELECT \"Intervals\".id AS \"Intervals_id\", \"Intervals\".borehole AS \"Intervals_borehole\", \"Intervals\".interval_number AS \"Intervals_interval_number\", \"Intervals\".description AS \"Intervals_description\", \"Intervals\".top_id AS \"Intervals_top_id\", \"Intervals\".base_id AS \"Intervals_base_id\", \"Intervals\".data_id AS \"Intervals_data_id\" \n",
      "FROM \"Intervals\" \n",
      "WHERE ? = \"Intervals\".borehole\n",
      "2021-08-03 15:07:00,767 INFO sqlalchemy.engine.Engine [cached since 0.5914s ago] ('BH007',)\n",
      "2021-08-03 15:07:00,769 INFO sqlalchemy.engine.Engine SELECT \"Intervals\".id AS \"Intervals_id\", \"Intervals\".borehole AS \"Intervals_borehole\", \"Intervals\".interval_number AS \"Intervals_interval_number\", \"Intervals\".description AS \"Intervals_description\", \"Intervals\".top_id AS \"Intervals_top_id\", \"Intervals\".base_id AS \"Intervals_base_id\", \"Intervals\".data_id AS \"Intervals_data_id\" \n",
      "FROM \"Intervals\" \n",
      "WHERE ? = \"Intervals\".borehole\n",
      "2021-08-03 15:07:00,770 INFO sqlalchemy.engine.Engine [cached since 0.594s ago] ('BH008',)\n",
      "2021-08-03 15:07:00,771 INFO sqlalchemy.engine.Engine SELECT \"Intervals\".id AS \"Intervals_id\", \"Intervals\".borehole AS \"Intervals_borehole\", \"Intervals\".interval_number AS \"Intervals_interval_number\", \"Intervals\".description AS \"Intervals_description\", \"Intervals\".top_id AS \"Intervals_top_id\", \"Intervals\".base_id AS \"Intervals_base_id\", \"Intervals\".data_id AS \"Intervals_data_id\" \n",
      "FROM \"Intervals\" \n",
      "WHERE ? = \"Intervals\".borehole\n",
      "2021-08-03 15:07:00,772 INFO sqlalchemy.engine.Engine [cached since 0.5959s ago] ('BH009',)\n"
     ]
    },
    {
     "data": {
      "text/plain": [
       "[<core.orm.BoreholeOrm>(Name=BH001, Length=97.0, Diameter=0.43, Intervals=4),\n",
       " <core.orm.BoreholeOrm>(Name=BH002, Length=98.0, Diameter=0.6, Intervals=5),\n",
       " <core.orm.BoreholeOrm>(Name=BH003, Length=100.0, Diameter=0.41, Intervals=5),\n",
       " <core.orm.BoreholeOrm>(Name=BH004, Length=96.0, Diameter=0.61, Intervals=5),\n",
       " <core.orm.BoreholeOrm>(Name=BH005, Length=97.0, Diameter=0.61, Intervals=7),\n",
       " <core.orm.BoreholeOrm>(Name=BH006, Length=100.0, Diameter=0.31, Intervals=5),\n",
       " <core.orm.BoreholeOrm>(Name=BH007, Length=97.0, Diameter=0.57, Intervals=6),\n",
       " <core.orm.BoreholeOrm>(Name=BH008, Length=98.0, Diameter=0.39, Intervals=5),\n",
       " <core.orm.BoreholeOrm>(Name=BH009, Length=94.0, Diameter=0.5, Intervals=5),\n",
       " <core.orm.BoreholeOrm>(Name=BH10, Length=95.0, Diameter=0.31, Intervals=3)]"
      ]
     },
     "execution_count": 27,
     "metadata": {},
     "output_type": "execute_result"
    }
   ],
   "source": [
    "p.boreholes_orm"
   ]
  },
  {
   "cell_type": "code",
   "execution_count": 28,
   "metadata": {},
   "outputs": [
    {
     "name": "stdout",
     "output_type": "stream",
     "text": [
      "2021-08-03 15:07:00,793 INFO sqlalchemy.engine.Engine INSERT INTO \"Linkintervalcomponent\" (intv_id, comp_id, extra_data) VALUES (?, ?, ?)\n",
      "2021-08-03 15:07:00,794 INFO sqlalchemy.engine.Engine [generated in 0.00183s] ((0, 0, \"{'porosite':1, 'densite':1.8}\"), (0, 1, ''), (0, 2, ''), (1, 3, ''), (1, 4, ''), (1, 5, ''), (2, 6, ''), (2, 7, '')  ... displaying 10 of 150 total bound parameter sets ...  (49, 4, ''), (49, 5, ''))\n",
      "2021-08-03 15:07:00,800 INFO sqlalchemy.engine.Engine COMMIT\n",
      "2021-08-03 15:07:00,804 INFO sqlalchemy.engine.Engine BEGIN (implicit)\n",
      "2021-08-03 15:07:00,804 INFO sqlalchemy.engine.Engine SELECT \"Boreholes\".id AS \"Boreholes_id\", \"Boreholes\".length AS \"Boreholes_length\", \"Boreholes\".diameter AS \"Boreholes_diameter\" \n",
      "FROM \"Boreholes\"\n",
      "2021-08-03 15:07:00,805 INFO sqlalchemy.engine.Engine [cached since 0.6854s ago] ()\n"
     ]
    }
   ],
   "source": [
    "p.add_link_components_intervals(link_intv_comp)"
   ]
  },
  {
   "cell_type": "code",
   "execution_count": 29,
   "metadata": {
    "scrolled": true
   },
   "outputs": [
    {
     "name": "stdout",
     "output_type": "stream",
     "text": [
      "2021-08-03 15:07:00,811 INFO sqlalchemy.engine.Engine COMMIT\n",
      "Boreholes in the project :  10\n"
     ]
    }
   ],
   "source": [
    "p.commit()\n",
    "print('Boreholes in the project : ', len(p.boreholes_orm))"
   ]
  },
  {
   "cell_type": "code",
   "execution_count": 30,
   "metadata": {
    "scrolled": true
   },
   "outputs": [
    {
     "name": "stdout",
     "output_type": "stream",
     "text": [
      "2021-08-03 15:07:00,818 INFO sqlalchemy.engine.Engine BEGIN (implicit)\n",
      "2021-08-03 15:07:00,820 INFO sqlalchemy.engine.Engine SELECT \"Boreholes\".id AS \"Boreholes_id\", \"Boreholes\".length AS \"Boreholes_length\", \"Boreholes\".diameter AS \"Boreholes_diameter\" \n",
      "FROM \"Boreholes\" \n",
      "WHERE \"Boreholes\".id = ?\n",
      "2021-08-03 15:07:00,820 INFO sqlalchemy.engine.Engine [generated in 0.00085s] ('BH003',)\n",
      "2021-08-03 15:07:00,822 INFO sqlalchemy.engine.Engine SELECT \"Intervals\".id AS \"Intervals_id\", \"Intervals\".borehole AS \"Intervals_borehole\", \"Intervals\".interval_number AS \"Intervals_interval_number\", \"Intervals\".description AS \"Intervals_description\", \"Intervals\".top_id AS \"Intervals_top_id\", \"Intervals\".base_id AS \"Intervals_base_id\", \"Intervals\".data_id AS \"Intervals_data_id\" \n",
      "FROM \"Intervals\" \n",
      "WHERE ? = \"Intervals\".borehole\n",
      "2021-08-03 15:07:00,823 INFO sqlalchemy.engine.Engine [cached since 0.6466s ago] ('BH003',)\n",
      "2021-08-03 15:07:00,825 INFO sqlalchemy.engine.Engine SELECT \"Positions\".id AS \"Positions_id\", \"Positions\".upper AS \"Positions_upper\", \"Positions\".middle AS \"Positions_middle\", \"Positions\".lower AS \"Positions_lower\", \"Positions\".x AS \"Positions_x\", \"Positions\".y AS \"Positions_y\" \n",
      "FROM \"Positions\" \n",
      "WHERE \"Positions\".id = ?\n",
      "2021-08-03 15:07:00,826 INFO sqlalchemy.engine.Engine [cached since 0.6428s ago] (18,)\n",
      "2021-08-03 15:07:00,831 INFO sqlalchemy.engine.Engine SELECT \"Components\".id AS \"Components_id\", \"Components\".description AS \"Components_description\" \n",
      "FROM \"Components\", \"Linkintervalcomponent\" \n",
      "WHERE ? = \"Linkintervalcomponent\".intv_id AND \"Components\".id = \"Linkintervalcomponent\".comp_id\n",
      "2021-08-03 15:07:00,832 INFO sqlalchemy.engine.Engine [generated in 0.00093s] (9,)\n",
      "2021-08-03 15:07:00,833 INFO sqlalchemy.engine.Engine SELECT \"Positions\".id AS \"Positions_id\", \"Positions\".upper AS \"Positions_upper\", \"Positions\".middle AS \"Positions_middle\", \"Positions\".lower AS \"Positions_lower\", \"Positions\".x AS \"Positions_x\", \"Positions\".y AS \"Positions_y\" \n",
      "FROM \"Positions\" \n",
      "WHERE \"Positions\".id = ?\n",
      "2021-08-03 15:07:00,834 INFO sqlalchemy.engine.Engine [cached since 0.6502s ago] (20,)\n",
      "2021-08-03 15:07:00,835 INFO sqlalchemy.engine.Engine SELECT \"Components\".id AS \"Components_id\", \"Components\".description AS \"Components_description\" \n",
      "FROM \"Components\", \"Linkintervalcomponent\" \n",
      "WHERE ? = \"Linkintervalcomponent\".intv_id AND \"Components\".id = \"Linkintervalcomponent\".comp_id\n",
      "2021-08-03 15:07:00,835 INFO sqlalchemy.engine.Engine [cached since 0.004166s ago] (10,)\n",
      "2021-08-03 15:07:00,837 INFO sqlalchemy.engine.Engine SELECT \"Positions\".id AS \"Positions_id\", \"Positions\".upper AS \"Positions_upper\", \"Positions\".middle AS \"Positions_middle\", \"Positions\".lower AS \"Positions_lower\", \"Positions\".x AS \"Positions_x\", \"Positions\".y AS \"Positions_y\" \n",
      "FROM \"Positions\" \n",
      "WHERE \"Positions\".id = ?\n",
      "2021-08-03 15:07:00,837 INFO sqlalchemy.engine.Engine [cached since 0.6536s ago] (22,)\n",
      "2021-08-03 15:07:00,838 INFO sqlalchemy.engine.Engine SELECT \"Components\".id AS \"Components_id\", \"Components\".description AS \"Components_description\" \n",
      "FROM \"Components\", \"Linkintervalcomponent\" \n",
      "WHERE ? = \"Linkintervalcomponent\".intv_id AND \"Components\".id = \"Linkintervalcomponent\".comp_id\n",
      "2021-08-03 15:07:00,838 INFO sqlalchemy.engine.Engine [cached since 0.007587s ago] (11,)\n",
      "2021-08-03 15:07:00,839 INFO sqlalchemy.engine.Engine SELECT \"Positions\".id AS \"Positions_id\", \"Positions\".upper AS \"Positions_upper\", \"Positions\".middle AS \"Positions_middle\", \"Positions\".lower AS \"Positions_lower\", \"Positions\".x AS \"Positions_x\", \"Positions\".y AS \"Positions_y\" \n",
      "FROM \"Positions\" \n",
      "WHERE \"Positions\".id = ?\n",
      "2021-08-03 15:07:00,840 INFO sqlalchemy.engine.Engine [cached since 0.6565s ago] (24,)\n",
      "2021-08-03 15:07:00,841 INFO sqlalchemy.engine.Engine SELECT \"Components\".id AS \"Components_id\", \"Components\".description AS \"Components_description\" \n",
      "FROM \"Components\", \"Linkintervalcomponent\" \n",
      "WHERE ? = \"Linkintervalcomponent\".intv_id AND \"Components\".id = \"Linkintervalcomponent\".comp_id\n",
      "2021-08-03 15:07:00,842 INFO sqlalchemy.engine.Engine [cached since 0.01108s ago] (12,)\n",
      "2021-08-03 15:07:00,843 INFO sqlalchemy.engine.Engine SELECT \"Positions\".id AS \"Positions_id\", \"Positions\".upper AS \"Positions_upper\", \"Positions\".middle AS \"Positions_middle\", \"Positions\".lower AS \"Positions_lower\", \"Positions\".x AS \"Positions_x\", \"Positions\".y AS \"Positions_y\" \n",
      "FROM \"Positions\" \n",
      "WHERE \"Positions\".id = ?\n",
      "2021-08-03 15:07:00,843 INFO sqlalchemy.engine.Engine [cached since 0.6601s ago] (26,)\n",
      "2021-08-03 15:07:00,845 INFO sqlalchemy.engine.Engine SELECT \"Components\".id AS \"Components_id\", \"Components\".description AS \"Components_description\" \n",
      "FROM \"Components\", \"Linkintervalcomponent\" \n",
      "WHERE ? = \"Linkintervalcomponent\".intv_id AND \"Components\".id = \"Linkintervalcomponent\".comp_id\n",
      "2021-08-03 15:07:00,845 INFO sqlalchemy.engine.Engine [cached since 0.01445s ago] (13,)\n"
     ]
    },
    {
     "data": {
      "text/plain": [
       "{9: <core.orm.IntervalOrm>(Id=9, Borehole=BH003, top=<core.orm.PositionOrm object at 0x7f13870d8940>Description={\"lithology\": \"sable\"}, {\"arsenic\": \"vs\"}, {\"cadmium\": \"vr\"}, Components=[<core.orm.ComponentOrm>(Id=0, Description=Sable), <core.orm.ComponentOrm>(Id=1, Description=Vs), <core.orm.ComponentOrm>(Id=12, Description=Vr)]),\n",
       " 10: <core.orm.IntervalOrm>(Id=10, Borehole=BH003, top=<core.orm.PositionOrm object at 0x7f13872c1820>Description={\"lithology\": \"argile\"}, {\"arsenic\": \"vs\"}, {\"cadmium\": \"vr\"}, Components=[<core.orm.ComponentOrm>(Id=1, Description=Vs), <core.orm.ComponentOrm>(Id=3, Description=Argile), <core.orm.ComponentOrm>(Id=12, Description=Vr)]),\n",
       " 11: <core.orm.IntervalOrm>(Id=11, Borehole=BH003, top=<core.orm.PositionOrm object at 0x7f13870b5a90>Description={\"lithology\": \"marne\"}, {\"arsenic\": \"vs\"}, {\"cadmium\": \"vs\"}, Components=[<core.orm.ComponentOrm>(Id=1, Description=Vs), <core.orm.ComponentOrm>(Id=2, Description=Vs), <core.orm.ComponentOrm>(Id=6, Description=Marne)]),\n",
       " 12: <core.orm.IntervalOrm>(Id=12, Borehole=BH003, top=<core.orm.PositionOrm object at 0x7f13870b5a30>Description={\"lithology\": \"charbon\"}, {\"arsenic\": \"vr\"}, {\"cadmium\": \"vi\"}, Components=[<core.orm.ComponentOrm>(Id=8, Description=Charbon), <core.orm.ComponentOrm>(Id=9, Description=Vr), <core.orm.ComponentOrm>(Id=10, Description=Vi)]),\n",
       " 13: <core.orm.IntervalOrm>(Id=13, Borehole=BH003, top=<core.orm.PositionOrm object at 0x7f13870d8c40>Description={\"lithology\": \"dolomie\"}, {\"arsenic\": \"inconnu\"}, {\"cadmium\": \"inconnu\"}, Components=[<core.orm.ComponentOrm>(Id=4, Description=Inconnu), <core.orm.ComponentOrm>(Id=5, Description=Inconnu), <core.orm.ComponentOrm>(Id=11, Description=Dolomie)])}"
      ]
     },
     "execution_count": 30,
     "metadata": {},
     "output_type": "execute_result"
    }
   ],
   "source": [
    "p.boreholes_orm[2].intervals"
   ]
  },
  {
   "cell_type": "code",
   "execution_count": 31,
   "metadata": {},
   "outputs": [
    {
     "name": "stdout",
     "output_type": "stream",
     "text": [
      "2021-08-03 15:07:00,850 INFO sqlalchemy.engine.Engine SELECT \"Boreholes\".id AS \"Boreholes_id\", \"Boreholes\".length AS \"Boreholes_length\", \"Boreholes\".diameter AS \"Boreholes_diameter\" \n",
      "FROM \"Boreholes\"\n",
      "2021-08-03 15:07:00,851 INFO sqlalchemy.engine.Engine [cached since 0.7319s ago] ()\n"
     ]
    }
   ],
   "source": [
    "p.refresh(verbose=False)"
   ]
  },
  {
   "cell_type": "code",
   "execution_count": 32,
   "metadata": {},
   "outputs": [
    {
     "data": {
      "text/plain": [
       "{'lithology': 'sable'}"
      ]
     },
     "execution_count": 32,
     "metadata": {},
     "output_type": "execute_result"
    }
   ],
   "source": [
    "eval(Component({'lithology':'sable'}).json())"
   ]
  },
  {
   "cell_type": "raw",
   "metadata": {},
   "source": [
    "session.close()"
   ]
  },
  {
   "cell_type": "markdown",
   "metadata": {},
   "source": [
    "# 2D/3D Display"
   ]
  },
  {
   "cell_type": "markdown",
   "metadata": {},
   "source": [
    "### 2D Plot"
   ]
  },
  {
   "cell_type": "code",
   "execution_count": 33,
   "metadata": {},
   "outputs": [
    {
     "data": {
      "text/html": [
       "<div style=\"width:100%;\"><div style=\"position:relative;width:100%;height:0;padding-bottom:60%;\"><span style=\"color:#565656\">Make this Notebook Trusted to load map: File -> Trust Notebook</span><iframe src=\"about:blank\" style=\"position:absolute;width:100%;height:100%;left:0;top:0;border:none !important;\" data-html=%3C%21DOCTYPE%20html%3E%0A%3Chead%3E%20%20%20%20%0A%20%20%20%20%3Cmeta%20http-equiv%3D%22content-type%22%20content%3D%22text/html%3B%20charset%3DUTF-8%22%20/%3E%0A%20%20%20%20%0A%20%20%20%20%20%20%20%20%3Cscript%3E%0A%20%20%20%20%20%20%20%20%20%20%20%20L_NO_TOUCH%20%3D%20false%3B%0A%20%20%20%20%20%20%20%20%20%20%20%20L_DISABLE_3D%20%3D%20false%3B%0A%20%20%20%20%20%20%20%20%3C/script%3E%0A%20%20%20%20%0A%20%20%20%20%3Cstyle%3Ehtml%2C%20body%20%7Bwidth%3A%20100%25%3Bheight%3A%20100%25%3Bmargin%3A%200%3Bpadding%3A%200%3B%7D%3C/style%3E%0A%20%20%20%20%3Cstyle%3E%23map%20%7Bposition%3Aabsolute%3Btop%3A0%3Bbottom%3A0%3Bright%3A0%3Bleft%3A0%3B%7D%3C/style%3E%0A%20%20%20%20%3Cscript%20src%3D%22https%3A//cdn.jsdelivr.net/npm/leaflet%401.6.0/dist/leaflet.js%22%3E%3C/script%3E%0A%20%20%20%20%3Cscript%20src%3D%22https%3A//code.jquery.com/jquery-1.12.4.min.js%22%3E%3C/script%3E%0A%20%20%20%20%3Cscript%20src%3D%22https%3A//maxcdn.bootstrapcdn.com/bootstrap/3.2.0/js/bootstrap.min.js%22%3E%3C/script%3E%0A%20%20%20%20%3Cscript%20src%3D%22https%3A//cdnjs.cloudflare.com/ajax/libs/Leaflet.awesome-markers/2.0.2/leaflet.awesome-markers.js%22%3E%3C/script%3E%0A%20%20%20%20%3Clink%20rel%3D%22stylesheet%22%20href%3D%22https%3A//cdn.jsdelivr.net/npm/leaflet%401.6.0/dist/leaflet.css%22/%3E%0A%20%20%20%20%3Clink%20rel%3D%22stylesheet%22%20href%3D%22https%3A//maxcdn.bootstrapcdn.com/bootstrap/3.2.0/css/bootstrap.min.css%22/%3E%0A%20%20%20%20%3Clink%20rel%3D%22stylesheet%22%20href%3D%22https%3A//maxcdn.bootstrapcdn.com/bootstrap/3.2.0/css/bootstrap-theme.min.css%22/%3E%0A%20%20%20%20%3Clink%20rel%3D%22stylesheet%22%20href%3D%22https%3A//maxcdn.bootstrapcdn.com/font-awesome/4.6.3/css/font-awesome.min.css%22/%3E%0A%20%20%20%20%3Clink%20rel%3D%22stylesheet%22%20href%3D%22https%3A//cdnjs.cloudflare.com/ajax/libs/Leaflet.awesome-markers/2.0.2/leaflet.awesome-markers.css%22/%3E%0A%20%20%20%20%3Clink%20rel%3D%22stylesheet%22%20href%3D%22https%3A//cdn.jsdelivr.net/gh/python-visualization/folium/folium/templates/leaflet.awesome.rotate.min.css%22/%3E%0A%20%20%20%20%0A%20%20%20%20%20%20%20%20%20%20%20%20%3Cmeta%20name%3D%22viewport%22%20content%3D%22width%3Ddevice-width%2C%0A%20%20%20%20%20%20%20%20%20%20%20%20%20%20%20%20initial-scale%3D1.0%2C%20maximum-scale%3D1.0%2C%20user-scalable%3Dno%22%20/%3E%0A%20%20%20%20%20%20%20%20%20%20%20%20%3Cstyle%3E%0A%20%20%20%20%20%20%20%20%20%20%20%20%20%20%20%20%23map_e8039fc6ff734ad3b4c6ec7c16c84c45%20%7B%0A%20%20%20%20%20%20%20%20%20%20%20%20%20%20%20%20%20%20%20%20position%3A%20relative%3B%0A%20%20%20%20%20%20%20%20%20%20%20%20%20%20%20%20%20%20%20%20width%3A%20100.0%25%3B%0A%20%20%20%20%20%20%20%20%20%20%20%20%20%20%20%20%20%20%20%20height%3A%20100.0%25%3B%0A%20%20%20%20%20%20%20%20%20%20%20%20%20%20%20%20%20%20%20%20left%3A%200.0%25%3B%0A%20%20%20%20%20%20%20%20%20%20%20%20%20%20%20%20%20%20%20%20top%3A%200.0%25%3B%0A%20%20%20%20%20%20%20%20%20%20%20%20%20%20%20%20%7D%0A%20%20%20%20%20%20%20%20%20%20%20%20%3C/style%3E%0A%20%20%20%20%20%20%20%20%0A%20%20%20%20%3Cscript%20src%3D%22https%3A//cdnjs.cloudflare.com/ajax/libs/leaflet-minimap/3.6.1/Control.MiniMap.js%22%3E%3C/script%3E%0A%20%20%20%20%3Clink%20rel%3D%22stylesheet%22%20href%3D%22https%3A//cdnjs.cloudflare.com/ajax/libs/leaflet-minimap/3.6.1/Control.MiniMap.css%22/%3E%0A%3C/head%3E%0A%3Cbody%3E%20%20%20%20%0A%20%20%20%20%0A%20%20%20%20%20%20%20%20%20%20%20%20%3Cdiv%20class%3D%22folium-map%22%20id%3D%22map_e8039fc6ff734ad3b4c6ec7c16c84c45%22%20%3E%3C/div%3E%0A%20%20%20%20%20%20%20%20%0A%3C/body%3E%0A%3Cscript%3E%20%20%20%20%0A%20%20%20%20%0A%20%20%20%20%20%20%20%20%20%20%20%20var%20map_e8039fc6ff734ad3b4c6ec7c16c84c45%20%3D%20L.map%28%0A%20%20%20%20%20%20%20%20%20%20%20%20%20%20%20%20%22map_e8039fc6ff734ad3b4c6ec7c16c84c45%22%2C%0A%20%20%20%20%20%20%20%20%20%20%20%20%20%20%20%20%7B%0A%20%20%20%20%20%20%20%20%20%20%20%20%20%20%20%20%20%20%20%20center%3A%20%5B50.40316070673727%2C%204.404286510256322%5D%2C%0A%20%20%20%20%20%20%20%20%20%20%20%20%20%20%20%20%20%20%20%20crs%3A%20L.CRS.EPSG3857%2C%0A%20%20%20%20%20%20%20%20%20%20%20%20%20%20%20%20%20%20%20%20zoom%3A%2015%2C%0A%20%20%20%20%20%20%20%20%20%20%20%20%20%20%20%20%20%20%20%20zoomControl%3A%20true%2C%0A%20%20%20%20%20%20%20%20%20%20%20%20%20%20%20%20%20%20%20%20preferCanvas%3A%20false%2C%0A%20%20%20%20%20%20%20%20%20%20%20%20%20%20%20%20%7D%0A%20%20%20%20%20%20%20%20%20%20%20%20%29%3B%0A%20%20%20%20%20%20%20%20%20%20%20%20L.control.scale%28%29.addTo%28map_e8039fc6ff734ad3b4c6ec7c16c84c45%29%3B%0A%0A%20%20%20%20%20%20%20%20%20%20%20%20%0A%0A%20%20%20%20%20%20%20%20%0A%20%20%20%20%0A%20%20%20%20%20%20%20%20%20%20%20%20var%20tile_layer_5da1044c3d244881aede4bcd565ea9c2%20%3D%20L.tileLayer%28%0A%20%20%20%20%20%20%20%20%20%20%20%20%20%20%20%20%22https%3A//%7Bs%7D.tile.openstreetmap.org/%7Bz%7D/%7Bx%7D/%7By%7D.png%22%2C%0A%20%20%20%20%20%20%20%20%20%20%20%20%20%20%20%20%7B%22attribution%22%3A%20%22Data%20by%20%5Cu0026copy%3B%20%5Cu003ca%20href%3D%5C%22http%3A//openstreetmap.org%5C%22%5Cu003eOpenStreetMap%5Cu003c/a%5Cu003e%2C%20under%20%5Cu003ca%20href%3D%5C%22http%3A//www.openstreetmap.org/copyright%5C%22%5Cu003eODbL%5Cu003c/a%5Cu003e.%22%2C%20%22detectRetina%22%3A%20false%2C%20%22maxNativeZoom%22%3A%2025%2C%20%22maxZoom%22%3A%2025%2C%20%22minZoom%22%3A%200%2C%20%22noWrap%22%3A%20false%2C%20%22opacity%22%3A%201%2C%20%22subdomains%22%3A%20%22abc%22%2C%20%22tms%22%3A%20false%7D%0A%20%20%20%20%20%20%20%20%20%20%20%20%29.addTo%28map_e8039fc6ff734ad3b4c6ec7c16c84c45%29%3B%0A%20%20%20%20%20%20%20%20%0A%20%20%20%20%0A%20%20%20%20%20%20%20%20%20%20%20%20var%20tile_layer_bd116d002c154652815f6d64d50f69f8%20%3D%20L.tileLayer%28%0A%20%20%20%20%20%20%20%20%20%20%20%20%20%20%20%20%22https%3A//server.arcgisonline.com/ArcGIS/rest/services/World_Imagery/MapServer/tile/%7Bz%7D/%7By%7D/%7Bx%7D%22%2C%0A%20%20%20%20%20%20%20%20%20%20%20%20%20%20%20%20%7B%22attribution%22%3A%20%22Tiles%20%5Cu0026copy%3B%20Esri%20%5Cu0026mdash%3B%20Source%3A%20Esri%2C%20i-cubed%2C%20USDA%2C%20USGS%2C%20AEX%2C%20GeoEye%2C%20Getmapping%2C%20Aerogrid%2C%20IGN%2C%20IGP%2C%20UPR-EGP%2C%20and%20the%20GIS%20User%20Community%22%2C%20%22detectRetina%22%3A%20false%2C%20%22maxNativeZoom%22%3A%2025%2C%20%22maxZoom%22%3A%2025%2C%20%22minZoom%22%3A%200%2C%20%22noWrap%22%3A%20false%2C%20%22opacity%22%3A%201%2C%20%22subdomains%22%3A%20%22abc%22%2C%20%22tms%22%3A%20false%7D%0A%20%20%20%20%20%20%20%20%20%20%20%20%29.addTo%28map_e8039fc6ff734ad3b4c6ec7c16c84c45%29%3B%0A%20%20%20%20%20%20%20%20%0A%20%20%20%20%0A%20%20%20%20%20%20%20%20%20%20%20%20var%20feature_group_89d81d4df43e48278f32a2043873905f%20%3D%20L.featureGroup%28%0A%20%20%20%20%20%20%20%20%20%20%20%20%20%20%20%20%7B%7D%0A%20%20%20%20%20%20%20%20%20%20%20%20%29.addTo%28map_e8039fc6ff734ad3b4c6ec7c16c84c45%29%3B%0A%20%20%20%20%20%20%20%20%0A%20%20%20%20%0A%20%20%20%20%20%20%20%20%20%20%20%20var%20circle_marker_871575f563ca41cb99e1a4a4cb88092a%20%3D%20L.circleMarker%28%0A%20%20%20%20%20%20%20%20%20%20%20%20%20%20%20%20%5B50.400246677298995%2C%204.405316738422422%5D%2C%0A%20%20%20%20%20%20%20%20%20%20%20%20%20%20%20%20%7B%22bubblingMouseEvents%22%3A%20true%2C%20%22color%22%3A%20%22red%22%2C%20%22dashArray%22%3A%20null%2C%20%22dashOffset%22%3A%20null%2C%20%22fill%22%3A%20true%2C%20%22fillColor%22%3A%20%22red%22%2C%20%22fillOpacity%22%3A%200.2%2C%20%22fillRule%22%3A%20%22evenodd%22%2C%20%22lineCap%22%3A%20%22round%22%2C%20%22lineJoin%22%3A%20%22round%22%2C%20%22opacity%22%3A%200.9%2C%20%22radius%22%3A%200.2%2C%20%22stroke%22%3A%20true%2C%20%22weight%22%3A%203%7D%0A%20%20%20%20%20%20%20%20%20%20%20%20%29.addTo%28feature_group_89d81d4df43e48278f32a2043873905f%29%3B%0A%20%20%20%20%20%20%20%20%0A%20%20%20%20%0A%20%20%20%20%20%20%20%20var%20popup_3964baa1e21348999aeada71ec3e35df%20%3D%20L.popup%28%7B%22maxWidth%22%3A%20%22100%25%22%7D%29%3B%0A%0A%20%20%20%20%20%20%20%20%0A%20%20%20%20%20%20%20%20%20%20%20%20var%20html_74acb9e75bc345ccb0247231fb7cad09%20%3D%20%24%28%60%3Cdiv%20id%3D%22html_74acb9e75bc345ccb0247231fb7cad09%22%20style%3D%22width%3A%20100.0%25%3B%20height%3A%20100.0%25%3B%22%3EBH001%3C/div%3E%60%29%5B0%5D%3B%0A%20%20%20%20%20%20%20%20%20%20%20%20popup_3964baa1e21348999aeada71ec3e35df.setContent%28html_74acb9e75bc345ccb0247231fb7cad09%29%3B%0A%20%20%20%20%20%20%20%20%0A%0A%20%20%20%20%20%20%20%20circle_marker_871575f563ca41cb99e1a4a4cb88092a.bindPopup%28popup_3964baa1e21348999aeada71ec3e35df%29%0A%20%20%20%20%20%20%20%20%3B%0A%0A%20%20%20%20%20%20%20%20%0A%20%20%20%20%0A%20%20%20%20%0A%20%20%20%20%20%20%20%20%20%20%20%20var%20circle_marker_3a08446f1aca4035b352ffadf402ade6%20%3D%20L.circleMarker%28%0A%20%20%20%20%20%20%20%20%20%20%20%20%20%20%20%20%5B50.405163369681965%2C%204.408401317498531%5D%2C%0A%20%20%20%20%20%20%20%20%20%20%20%20%20%20%20%20%7B%22bubblingMouseEvents%22%3A%20true%2C%20%22color%22%3A%20%22red%22%2C%20%22dashArray%22%3A%20null%2C%20%22dashOffset%22%3A%20null%2C%20%22fill%22%3A%20true%2C%20%22fillColor%22%3A%20%22red%22%2C%20%22fillOpacity%22%3A%200.2%2C%20%22fillRule%22%3A%20%22evenodd%22%2C%20%22lineCap%22%3A%20%22round%22%2C%20%22lineJoin%22%3A%20%22round%22%2C%20%22opacity%22%3A%200.9%2C%20%22radius%22%3A%200.2%2C%20%22stroke%22%3A%20true%2C%20%22weight%22%3A%203%7D%0A%20%20%20%20%20%20%20%20%20%20%20%20%29.addTo%28feature_group_89d81d4df43e48278f32a2043873905f%29%3B%0A%20%20%20%20%20%20%20%20%0A%20%20%20%20%0A%20%20%20%20%20%20%20%20var%20popup_8508ad8a87a744a78a6424e09cf0bd71%20%3D%20L.popup%28%7B%22maxWidth%22%3A%20%22100%25%22%7D%29%3B%0A%0A%20%20%20%20%20%20%20%20%0A%20%20%20%20%20%20%20%20%20%20%20%20var%20html_48c499806ba94f7a8c207a8ebcbcbeae%20%3D%20%24%28%60%3Cdiv%20id%3D%22html_48c499806ba94f7a8c207a8ebcbcbeae%22%20style%3D%22width%3A%20100.0%25%3B%20height%3A%20100.0%25%3B%22%3EBH002%3C/div%3E%60%29%5B0%5D%3B%0A%20%20%20%20%20%20%20%20%20%20%20%20popup_8508ad8a87a744a78a6424e09cf0bd71.setContent%28html_48c499806ba94f7a8c207a8ebcbcbeae%29%3B%0A%20%20%20%20%20%20%20%20%0A%0A%20%20%20%20%20%20%20%20circle_marker_3a08446f1aca4035b352ffadf402ade6.bindPopup%28popup_8508ad8a87a744a78a6424e09cf0bd71%29%0A%20%20%20%20%20%20%20%20%3B%0A%0A%20%20%20%20%20%20%20%20%0A%20%20%20%20%0A%20%20%20%20%0A%20%20%20%20%20%20%20%20%20%20%20%20var%20circle_marker_905efff848a84c579d5a6dee011923a9%20%3D%20L.circleMarker%28%0A%20%20%20%20%20%20%20%20%20%20%20%20%20%20%20%20%5B50.40270849282434%2C%204.409848079213098%5D%2C%0A%20%20%20%20%20%20%20%20%20%20%20%20%20%20%20%20%7B%22bubblingMouseEvents%22%3A%20true%2C%20%22color%22%3A%20%22red%22%2C%20%22dashArray%22%3A%20null%2C%20%22dashOffset%22%3A%20null%2C%20%22fill%22%3A%20true%2C%20%22fillColor%22%3A%20%22red%22%2C%20%22fillOpacity%22%3A%200.2%2C%20%22fillRule%22%3A%20%22evenodd%22%2C%20%22lineCap%22%3A%20%22round%22%2C%20%22lineJoin%22%3A%20%22round%22%2C%20%22opacity%22%3A%200.9%2C%20%22radius%22%3A%200.2%2C%20%22stroke%22%3A%20true%2C%20%22weight%22%3A%203%7D%0A%20%20%20%20%20%20%20%20%20%20%20%20%29.addTo%28feature_group_89d81d4df43e48278f32a2043873905f%29%3B%0A%20%20%20%20%20%20%20%20%0A%20%20%20%20%0A%20%20%20%20%20%20%20%20var%20popup_84cc9778abdd4852817b854b69d7349b%20%3D%20L.popup%28%7B%22maxWidth%22%3A%20%22100%25%22%7D%29%3B%0A%0A%20%20%20%20%20%20%20%20%0A%20%20%20%20%20%20%20%20%20%20%20%20var%20html_d56c87cb6ff54706a5e19f51b82d7677%20%3D%20%24%28%60%3Cdiv%20id%3D%22html_d56c87cb6ff54706a5e19f51b82d7677%22%20style%3D%22width%3A%20100.0%25%3B%20height%3A%20100.0%25%3B%22%3EBH003%3C/div%3E%60%29%5B0%5D%3B%0A%20%20%20%20%20%20%20%20%20%20%20%20popup_84cc9778abdd4852817b854b69d7349b.setContent%28html_d56c87cb6ff54706a5e19f51b82d7677%29%3B%0A%20%20%20%20%20%20%20%20%0A%0A%20%20%20%20%20%20%20%20circle_marker_905efff848a84c579d5a6dee011923a9.bindPopup%28popup_84cc9778abdd4852817b854b69d7349b%29%0A%20%20%20%20%20%20%20%20%3B%0A%0A%20%20%20%20%20%20%20%20%0A%20%20%20%20%0A%20%20%20%20%0A%20%20%20%20%20%20%20%20%20%20%20%20var%20circle_marker_9d19ed704ec24058a1b1a8b4cb2890d2%20%3D%20L.circleMarker%28%0A%20%20%20%20%20%20%20%20%20%20%20%20%20%20%20%20%5B50.40433651424193%2C%204.407655065394905%5D%2C%0A%20%20%20%20%20%20%20%20%20%20%20%20%20%20%20%20%7B%22bubblingMouseEvents%22%3A%20true%2C%20%22color%22%3A%20%22red%22%2C%20%22dashArray%22%3A%20null%2C%20%22dashOffset%22%3A%20null%2C%20%22fill%22%3A%20true%2C%20%22fillColor%22%3A%20%22red%22%2C%20%22fillOpacity%22%3A%200.2%2C%20%22fillRule%22%3A%20%22evenodd%22%2C%20%22lineCap%22%3A%20%22round%22%2C%20%22lineJoin%22%3A%20%22round%22%2C%20%22opacity%22%3A%200.9%2C%20%22radius%22%3A%200.2%2C%20%22stroke%22%3A%20true%2C%20%22weight%22%3A%203%7D%0A%20%20%20%20%20%20%20%20%20%20%20%20%29.addTo%28feature_group_89d81d4df43e48278f32a2043873905f%29%3B%0A%20%20%20%20%20%20%20%20%0A%20%20%20%20%0A%20%20%20%20%20%20%20%20var%20popup_96276b83a05e4156bb4ada07a9250396%20%3D%20L.popup%28%7B%22maxWidth%22%3A%20%22100%25%22%7D%29%3B%0A%0A%20%20%20%20%20%20%20%20%0A%20%20%20%20%20%20%20%20%20%20%20%20var%20html_6d1ed6f998fb4568944481cc2070fc7f%20%3D%20%24%28%60%3Cdiv%20id%3D%22html_6d1ed6f998fb4568944481cc2070fc7f%22%20style%3D%22width%3A%20100.0%25%3B%20height%3A%20100.0%25%3B%22%3EBH004%3C/div%3E%60%29%5B0%5D%3B%0A%20%20%20%20%20%20%20%20%20%20%20%20popup_96276b83a05e4156bb4ada07a9250396.setContent%28html_6d1ed6f998fb4568944481cc2070fc7f%29%3B%0A%20%20%20%20%20%20%20%20%0A%0A%20%20%20%20%20%20%20%20circle_marker_9d19ed704ec24058a1b1a8b4cb2890d2.bindPopup%28popup_96276b83a05e4156bb4ada07a9250396%29%0A%20%20%20%20%20%20%20%20%3B%0A%0A%20%20%20%20%20%20%20%20%0A%20%20%20%20%0A%20%20%20%20%0A%20%20%20%20%20%20%20%20%20%20%20%20var%20circle_marker_e295df8180574c26b286230727abd509%20%3D%20L.circleMarker%28%0A%20%20%20%20%20%20%20%20%20%20%20%20%20%20%20%20%5B50.404032173705815%2C%204.403533216175507%5D%2C%0A%20%20%20%20%20%20%20%20%20%20%20%20%20%20%20%20%7B%22bubblingMouseEvents%22%3A%20true%2C%20%22color%22%3A%20%22red%22%2C%20%22dashArray%22%3A%20null%2C%20%22dashOffset%22%3A%20null%2C%20%22fill%22%3A%20true%2C%20%22fillColor%22%3A%20%22red%22%2C%20%22fillOpacity%22%3A%200.2%2C%20%22fillRule%22%3A%20%22evenodd%22%2C%20%22lineCap%22%3A%20%22round%22%2C%20%22lineJoin%22%3A%20%22round%22%2C%20%22opacity%22%3A%200.9%2C%20%22radius%22%3A%200.2%2C%20%22stroke%22%3A%20true%2C%20%22weight%22%3A%203%7D%0A%20%20%20%20%20%20%20%20%20%20%20%20%29.addTo%28feature_group_89d81d4df43e48278f32a2043873905f%29%3B%0A%20%20%20%20%20%20%20%20%0A%20%20%20%20%0A%20%20%20%20%20%20%20%20var%20popup_9041d56db4394dd49daf39cc0c447bad%20%3D%20L.popup%28%7B%22maxWidth%22%3A%20%22100%25%22%7D%29%3B%0A%0A%20%20%20%20%20%20%20%20%0A%20%20%20%20%20%20%20%20%20%20%20%20var%20html_c4814a905b5f4e52a58e0ffaf63402a5%20%3D%20%24%28%60%3Cdiv%20id%3D%22html_c4814a905b5f4e52a58e0ffaf63402a5%22%20style%3D%22width%3A%20100.0%25%3B%20height%3A%20100.0%25%3B%22%3EBH005%3C/div%3E%60%29%5B0%5D%3B%0A%20%20%20%20%20%20%20%20%20%20%20%20popup_9041d56db4394dd49daf39cc0c447bad.setContent%28html_c4814a905b5f4e52a58e0ffaf63402a5%29%3B%0A%20%20%20%20%20%20%20%20%0A%0A%20%20%20%20%20%20%20%20circle_marker_e295df8180574c26b286230727abd509.bindPopup%28popup_9041d56db4394dd49daf39cc0c447bad%29%0A%20%20%20%20%20%20%20%20%3B%0A%0A%20%20%20%20%20%20%20%20%0A%20%20%20%20%0A%20%20%20%20%0A%20%20%20%20%20%20%20%20%20%20%20%20var%20circle_marker_34b074b221b749baa92c97b82ccc83b5%20%3D%20L.circleMarker%28%0A%20%20%20%20%20%20%20%20%20%20%20%20%20%20%20%20%5B50.39991500588762%2C%204.402151705105076%5D%2C%0A%20%20%20%20%20%20%20%20%20%20%20%20%20%20%20%20%7B%22bubblingMouseEvents%22%3A%20true%2C%20%22color%22%3A%20%22red%22%2C%20%22dashArray%22%3A%20null%2C%20%22dashOffset%22%3A%20null%2C%20%22fill%22%3A%20true%2C%20%22fillColor%22%3A%20%22red%22%2C%20%22fillOpacity%22%3A%200.2%2C%20%22fillRule%22%3A%20%22evenodd%22%2C%20%22lineCap%22%3A%20%22round%22%2C%20%22lineJoin%22%3A%20%22round%22%2C%20%22opacity%22%3A%200.9%2C%20%22radius%22%3A%200.2%2C%20%22stroke%22%3A%20true%2C%20%22weight%22%3A%203%7D%0A%20%20%20%20%20%20%20%20%20%20%20%20%29.addTo%28feature_group_89d81d4df43e48278f32a2043873905f%29%3B%0A%20%20%20%20%20%20%20%20%0A%20%20%20%20%0A%20%20%20%20%20%20%20%20var%20popup_8a40e98642404b9e89ec986dc84506fc%20%3D%20L.popup%28%7B%22maxWidth%22%3A%20%22100%25%22%7D%29%3B%0A%0A%20%20%20%20%20%20%20%20%0A%20%20%20%20%20%20%20%20%20%20%20%20var%20html_4c66e53496804606bdf142e2a46a1ffe%20%3D%20%24%28%60%3Cdiv%20id%3D%22html_4c66e53496804606bdf142e2a46a1ffe%22%20style%3D%22width%3A%20100.0%25%3B%20height%3A%20100.0%25%3B%22%3EBH006%3C/div%3E%60%29%5B0%5D%3B%0A%20%20%20%20%20%20%20%20%20%20%20%20popup_8a40e98642404b9e89ec986dc84506fc.setContent%28html_4c66e53496804606bdf142e2a46a1ffe%29%3B%0A%20%20%20%20%20%20%20%20%0A%0A%20%20%20%20%20%20%20%20circle_marker_34b074b221b749baa92c97b82ccc83b5.bindPopup%28popup_8a40e98642404b9e89ec986dc84506fc%29%0A%20%20%20%20%20%20%20%20%3B%0A%0A%20%20%20%20%20%20%20%20%0A%20%20%20%20%0A%20%20%20%20%0A%20%20%20%20%20%20%20%20%20%20%20%20var%20circle_marker_b450a53efe304ffab1b9a963fa514f27%20%3D%20L.circleMarker%28%0A%20%20%20%20%20%20%20%20%20%20%20%20%20%20%20%20%5B50.40089307563868%2C%204.408046039659416%5D%2C%0A%20%20%20%20%20%20%20%20%20%20%20%20%20%20%20%20%7B%22bubblingMouseEvents%22%3A%20true%2C%20%22color%22%3A%20%22red%22%2C%20%22dashArray%22%3A%20null%2C%20%22dashOffset%22%3A%20null%2C%20%22fill%22%3A%20true%2C%20%22fillColor%22%3A%20%22red%22%2C%20%22fillOpacity%22%3A%200.2%2C%20%22fillRule%22%3A%20%22evenodd%22%2C%20%22lineCap%22%3A%20%22round%22%2C%20%22lineJoin%22%3A%20%22round%22%2C%20%22opacity%22%3A%200.9%2C%20%22radius%22%3A%200.2%2C%20%22stroke%22%3A%20true%2C%20%22weight%22%3A%203%7D%0A%20%20%20%20%20%20%20%20%20%20%20%20%29.addTo%28feature_group_89d81d4df43e48278f32a2043873905f%29%3B%0A%20%20%20%20%20%20%20%20%0A%20%20%20%20%0A%20%20%20%20%20%20%20%20var%20popup_e309aa300bb64799925f97902c55d4f0%20%3D%20L.popup%28%7B%22maxWidth%22%3A%20%22100%25%22%7D%29%3B%0A%0A%20%20%20%20%20%20%20%20%0A%20%20%20%20%20%20%20%20%20%20%20%20var%20html_75dfc000bcab4d94a65e20e344effa1d%20%3D%20%24%28%60%3Cdiv%20id%3D%22html_75dfc000bcab4d94a65e20e344effa1d%22%20style%3D%22width%3A%20100.0%25%3B%20height%3A%20100.0%25%3B%22%3EBH007%3C/div%3E%60%29%5B0%5D%3B%0A%20%20%20%20%20%20%20%20%20%20%20%20popup_e309aa300bb64799925f97902c55d4f0.setContent%28html_75dfc000bcab4d94a65e20e344effa1d%29%3B%0A%20%20%20%20%20%20%20%20%0A%0A%20%20%20%20%20%20%20%20circle_marker_b450a53efe304ffab1b9a963fa514f27.bindPopup%28popup_e309aa300bb64799925f97902c55d4f0%29%0A%20%20%20%20%20%20%20%20%3B%0A%0A%20%20%20%20%20%20%20%20%0A%20%20%20%20%0A%20%20%20%20%0A%20%20%20%20%20%20%20%20%20%20%20%20var%20circle_marker_39dde38c32a0400b9529db88848562d4%20%3D%20L.circleMarker%28%0A%20%20%20%20%20%20%20%20%20%20%20%20%20%20%20%20%5B50.405103323153014%2C%204.398990312569181%5D%2C%0A%20%20%20%20%20%20%20%20%20%20%20%20%20%20%20%20%7B%22bubblingMouseEvents%22%3A%20true%2C%20%22color%22%3A%20%22red%22%2C%20%22dashArray%22%3A%20null%2C%20%22dashOffset%22%3A%20null%2C%20%22fill%22%3A%20true%2C%20%22fillColor%22%3A%20%22red%22%2C%20%22fillOpacity%22%3A%200.2%2C%20%22fillRule%22%3A%20%22evenodd%22%2C%20%22lineCap%22%3A%20%22round%22%2C%20%22lineJoin%22%3A%20%22round%22%2C%20%22opacity%22%3A%200.9%2C%20%22radius%22%3A%200.2%2C%20%22stroke%22%3A%20true%2C%20%22weight%22%3A%203%7D%0A%20%20%20%20%20%20%20%20%20%20%20%20%29.addTo%28feature_group_89d81d4df43e48278f32a2043873905f%29%3B%0A%20%20%20%20%20%20%20%20%0A%20%20%20%20%0A%20%20%20%20%20%20%20%20var%20popup_056eca8a0b9d4d8b8bcdd186017ca330%20%3D%20L.popup%28%7B%22maxWidth%22%3A%20%22100%25%22%7D%29%3B%0A%0A%20%20%20%20%20%20%20%20%0A%20%20%20%20%20%20%20%20%20%20%20%20var%20html_285e62528a62422facc7d1f5fb1b2553%20%3D%20%24%28%60%3Cdiv%20id%3D%22html_285e62528a62422facc7d1f5fb1b2553%22%20style%3D%22width%3A%20100.0%25%3B%20height%3A%20100.0%25%3B%22%3EBH008%3C/div%3E%60%29%5B0%5D%3B%0A%20%20%20%20%20%20%20%20%20%20%20%20popup_056eca8a0b9d4d8b8bcdd186017ca330.setContent%28html_285e62528a62422facc7d1f5fb1b2553%29%3B%0A%20%20%20%20%20%20%20%20%0A%0A%20%20%20%20%20%20%20%20circle_marker_39dde38c32a0400b9529db88848562d4.bindPopup%28popup_056eca8a0b9d4d8b8bcdd186017ca330%29%0A%20%20%20%20%20%20%20%20%3B%0A%0A%20%20%20%20%20%20%20%20%0A%20%20%20%20%0A%20%20%20%20%0A%20%20%20%20%20%20%20%20%20%20%20%20var%20circle_marker_94c1e106e7e24ec5afb6c50f011ccc95%20%3D%20L.circleMarker%28%0A%20%20%20%20%20%20%20%20%20%20%20%20%20%20%20%20%5B50.40253244229688%2C%204.397610126989354%5D%2C%0A%20%20%20%20%20%20%20%20%20%20%20%20%20%20%20%20%7B%22bubblingMouseEvents%22%3A%20true%2C%20%22color%22%3A%20%22red%22%2C%20%22dashArray%22%3A%20null%2C%20%22dashOffset%22%3A%20null%2C%20%22fill%22%3A%20true%2C%20%22fillColor%22%3A%20%22red%22%2C%20%22fillOpacity%22%3A%200.2%2C%20%22fillRule%22%3A%20%22evenodd%22%2C%20%22lineCap%22%3A%20%22round%22%2C%20%22lineJoin%22%3A%20%22round%22%2C%20%22opacity%22%3A%200.9%2C%20%22radius%22%3A%200.2%2C%20%22stroke%22%3A%20true%2C%20%22weight%22%3A%203%7D%0A%20%20%20%20%20%20%20%20%20%20%20%20%29.addTo%28feature_group_89d81d4df43e48278f32a2043873905f%29%3B%0A%20%20%20%20%20%20%20%20%0A%20%20%20%20%0A%20%20%20%20%20%20%20%20var%20popup_a90d30c7edff43d4b777cfcf56d979ad%20%3D%20L.popup%28%7B%22maxWidth%22%3A%20%22100%25%22%7D%29%3B%0A%0A%20%20%20%20%20%20%20%20%0A%20%20%20%20%20%20%20%20%20%20%20%20var%20html_dae57ea7e92f48fc8cc8f1c11b9d1120%20%3D%20%24%28%60%3Cdiv%20id%3D%22html_dae57ea7e92f48fc8cc8f1c11b9d1120%22%20style%3D%22width%3A%20100.0%25%3B%20height%3A%20100.0%25%3B%22%3EBH009%3C/div%3E%60%29%5B0%5D%3B%0A%20%20%20%20%20%20%20%20%20%20%20%20popup_a90d30c7edff43d4b777cfcf56d979ad.setContent%28html_dae57ea7e92f48fc8cc8f1c11b9d1120%29%3B%0A%20%20%20%20%20%20%20%20%0A%0A%20%20%20%20%20%20%20%20circle_marker_94c1e106e7e24ec5afb6c50f011ccc95.bindPopup%28popup_a90d30c7edff43d4b777cfcf56d979ad%29%0A%20%20%20%20%20%20%20%20%3B%0A%0A%20%20%20%20%20%20%20%20%0A%20%20%20%20%0A%20%20%20%20%0A%20%20%20%20%20%20%20%20%20%20%20%20var%20circle_marker_bbbb16affe0b4f0480bda9b3b2d321cd%20%3D%20L.circleMarker%28%0A%20%20%20%20%20%20%20%20%20%20%20%20%20%20%20%20%5B50.40667599264342%2C%204.401312501535724%5D%2C%0A%20%20%20%20%20%20%20%20%20%20%20%20%20%20%20%20%7B%22bubblingMouseEvents%22%3A%20true%2C%20%22color%22%3A%20%22red%22%2C%20%22dashArray%22%3A%20null%2C%20%22dashOffset%22%3A%20null%2C%20%22fill%22%3A%20true%2C%20%22fillColor%22%3A%20%22red%22%2C%20%22fillOpacity%22%3A%200.2%2C%20%22fillRule%22%3A%20%22evenodd%22%2C%20%22lineCap%22%3A%20%22round%22%2C%20%22lineJoin%22%3A%20%22round%22%2C%20%22opacity%22%3A%200.9%2C%20%22radius%22%3A%200.2%2C%20%22stroke%22%3A%20true%2C%20%22weight%22%3A%203%7D%0A%20%20%20%20%20%20%20%20%20%20%20%20%29.addTo%28feature_group_89d81d4df43e48278f32a2043873905f%29%3B%0A%20%20%20%20%20%20%20%20%0A%20%20%20%20%0A%20%20%20%20%20%20%20%20var%20popup_0f0191378c284d0bac343ed7680e021a%20%3D%20L.popup%28%7B%22maxWidth%22%3A%20%22100%25%22%7D%29%3B%0A%0A%20%20%20%20%20%20%20%20%0A%20%20%20%20%20%20%20%20%20%20%20%20var%20html_cc223e00f72c492ab0e769e48065ccc6%20%3D%20%24%28%60%3Cdiv%20id%3D%22html_cc223e00f72c492ab0e769e48065ccc6%22%20style%3D%22width%3A%20100.0%25%3B%20height%3A%20100.0%25%3B%22%3EBH10%3C/div%3E%60%29%5B0%5D%3B%0A%20%20%20%20%20%20%20%20%20%20%20%20popup_0f0191378c284d0bac343ed7680e021a.setContent%28html_cc223e00f72c492ab0e769e48065ccc6%29%3B%0A%20%20%20%20%20%20%20%20%0A%0A%20%20%20%20%20%20%20%20circle_marker_bbbb16affe0b4f0480bda9b3b2d321cd.bindPopup%28popup_0f0191378c284d0bac343ed7680e021a%29%0A%20%20%20%20%20%20%20%20%3B%0A%0A%20%20%20%20%20%20%20%20%0A%20%20%20%20%0A%20%20%20%20%0A%20%20%20%20%20%20%20%20%20%20%20%20var%20layer_control_b6fff59e0c5b4e2ea2e6faf7297f8845%20%3D%20%7B%0A%20%20%20%20%20%20%20%20%20%20%20%20%20%20%20%20base_layers%20%3A%20%7B%0A%20%20%20%20%20%20%20%20%20%20%20%20%20%20%20%20%20%20%20%20%22openstreetmap%22%20%3A%20tile_layer_5da1044c3d244881aede4bcd565ea9c2%2C%0A%20%20%20%20%20%20%20%20%20%20%20%20%20%20%20%20%20%20%20%20%22Satellite%22%20%3A%20tile_layer_bd116d002c154652815f6d64d50f69f8%2C%0A%20%20%20%20%20%20%20%20%20%20%20%20%20%20%20%20%7D%2C%0A%20%20%20%20%20%20%20%20%20%20%20%20%20%20%20%20overlays%20%3A%20%20%7B%0A%20%20%20%20%20%20%20%20%20%20%20%20%20%20%20%20%20%20%20%20%22Boreholes%22%20%3A%20feature_group_89d81d4df43e48278f32a2043873905f%2C%0A%20%20%20%20%20%20%20%20%20%20%20%20%20%20%20%20%7D%2C%0A%20%20%20%20%20%20%20%20%20%20%20%20%7D%3B%0A%20%20%20%20%20%20%20%20%20%20%20%20L.control.layers%28%0A%20%20%20%20%20%20%20%20%20%20%20%20%20%20%20%20layer_control_b6fff59e0c5b4e2ea2e6faf7297f8845.base_layers%2C%0A%20%20%20%20%20%20%20%20%20%20%20%20%20%20%20%20layer_control_b6fff59e0c5b4e2ea2e6faf7297f8845.overlays%2C%0A%20%20%20%20%20%20%20%20%20%20%20%20%20%20%20%20%7B%22autoZIndex%22%3A%20true%2C%20%22collapsed%22%3A%20true%2C%20%22position%22%3A%20%22topright%22%7D%0A%20%20%20%20%20%20%20%20%20%20%20%20%29.addTo%28map_e8039fc6ff734ad3b4c6ec7c16c84c45%29%3B%0A%20%20%20%20%20%20%20%20%20%20%20%20tile_layer_bd116d002c154652815f6d64d50f69f8.remove%28%29%3B%0A%20%20%20%20%20%20%20%20%0A%20%20%20%20%0A%20%20%20%20%20%20%20%20%20%20%20%20var%20tile_layer_ff4f2e5069224d279ffe066411288f44%20%3D%20L.tileLayer%28%0A%20%20%20%20%20%20%20%20%20%20%20%20%20%20%20%20%22https%3A//%7Bs%7D.tile.openstreetmap.org/%7Bz%7D/%7Bx%7D/%7By%7D.png%22%2C%0A%20%20%20%20%20%20%20%20%20%20%20%20%20%20%20%20%7B%22attribution%22%3A%20%22Data%20by%20%5Cu0026copy%3B%20%5Cu003ca%20href%3D%5C%22http%3A//openstreetmap.org%5C%22%5Cu003eOpenStreetMap%5Cu003c/a%5Cu003e%2C%20under%20%5Cu003ca%20href%3D%5C%22http%3A//www.openstreetmap.org/copyright%5C%22%5Cu003eODbL%5Cu003c/a%5Cu003e.%22%2C%20%22detectRetina%22%3A%20false%2C%20%22maxNativeZoom%22%3A%2018%2C%20%22maxZoom%22%3A%2018%2C%20%22minZoom%22%3A%200%2C%20%22noWrap%22%3A%20false%2C%20%22opacity%22%3A%201%2C%20%22subdomains%22%3A%20%22abc%22%2C%20%22tms%22%3A%20false%7D%0A%20%20%20%20%20%20%20%20%20%20%20%20%29%3B%0A%20%20%20%20%20%20%20%20%20%20%20%20var%20mini_map_d3ec3d2c278d4842874c69b4348771f6%20%3D%20new%20L.Control.MiniMap%28%0A%20%20%20%20%20%20%20%20%20%20%20%20%20%20%20%20tile_layer_ff4f2e5069224d279ffe066411288f44%2C%0A%20%20%20%20%20%20%20%20%20%20%20%20%20%20%20%20%7B%22autoToggleDisplay%22%3A%20false%2C%20%22centerFixed%22%3A%20false%2C%20%22collapsedHeight%22%3A%2025%2C%20%22collapsedWidth%22%3A%2025%2C%20%22height%22%3A%20150%2C%20%22minimized%22%3A%20false%2C%20%22position%22%3A%20%22bottomright%22%2C%20%22toggleDisplay%22%3A%20true%2C%20%22width%22%3A%20150%2C%20%22zoomAnimation%22%3A%20false%2C%20%22zoomLevelOffset%22%3A%20-6%7D%0A%20%20%20%20%20%20%20%20%20%20%20%20%29%3B%0A%20%20%20%20%20%20%20%20%20%20%20%20map_e8039fc6ff734ad3b4c6ec7c16c84c45.addControl%28mini_map_d3ec3d2c278d4842874c69b4348771f6%29%3B%0A%20%20%20%20%20%20%20%20%0A%3C/script%3E onload=\"this.contentDocument.open();this.contentDocument.write(    decodeURIComponent(this.getAttribute('data-html')));this.contentDocument.close();\" allowfullscreen webkitallowfullscreen mozallowfullscreen></iframe></div></div>"
      ],
      "text/plain": [
       "<folium.folium.Map at 0x7f1387119760>"
      ]
     },
     "execution_count": 33,
     "metadata": {},
     "output_type": "execute_result"
    }
   ],
   "source": [
    "p.plot2d()"
   ]
  },
  {
   "cell_type": "markdown",
   "metadata": {},
   "source": [
    "### 3D plot"
   ]
  },
  {
   "cell_type": "code",
   "execution_count": 34,
   "metadata": {},
   "outputs": [
    {
     "data": {
      "text/plain": [
       "['lithology', 'arsenic', 'cadmium']"
      ]
     },
     "execution_count": 34,
     "metadata": {},
     "output_type": "execute_result"
    }
   ],
   "source": [
    "attributes = list(p.legend_dict.keys())\n",
    "attributes"
   ]
  },
  {
   "cell_type": "code",
   "execution_count": 35,
   "metadata": {},
   "outputs": [
    {
     "data": {
      "text/plain": [
       "({'lithology': {'legend': Legend(Decor({'_colour': '#ffcb23', 'width': 3, 'hatch': \"'..'\", 'component': Component({'lithology': 'sable'})})\n",
       "   Decor({'_colour': '#d5e6cc', 'width': 3, 'hatch': \"'---'\", 'component': Component({'lithology': 'argile'})})\n",
       "   Decor({'_colour': '#7ba1a8', 'width': 3, 'hatch': None, 'component': Component({'lithology': 'marne'})})\n",
       "   Decor({'_colour': '#000000', 'width': 3, 'hatch': None, 'component': Component({'lithology': 'charbon'})})\n",
       "   Decor({'_colour': '#fdaffe', 'width': 3, 'hatch': None, 'component': Component({'lithology': 'dolomie'})})\n",
       "   Decor({'_colour': '#bbffdd', 'width': 3, 'hatch': \"'--'\", 'component': Component({'lithology': 'schiste'})})\n",
       "   Decor({'_colour': '#149eff', 'width': 3, 'hatch': \"'='\", 'component': Component({'lithology': 'calcaire'})})),\n",
       "   'cmap': <matplotlib.colors.ListedColormap at 0x7f138702ca90>,\n",
       "   'values': ['sable',\n",
       "    'argile',\n",
       "    'marne',\n",
       "    'charbon',\n",
       "    'dolomie',\n",
       "    'schiste',\n",
       "    'calcaire']},\n",
       "  'arsenic': {'legend': Legend(Decor({'_colour': '#ffa500', 'width': 3, 'component': Component({'arsenic': 'vs'}), 'hatch': None})\n",
       "   Decor({'_colour': '#ffffff', 'width': 3, 'component': Component({'arsenic': 'inconnu'}), 'hatch': None})\n",
       "   Decor({'_colour': '#ff0000', 'width': 3, 'component': Component({'arsenic': 'vi'}), 'hatch': None})\n",
       "   Decor({'_colour': '#00ff00', 'width': 3, 'component': Component({'arsenic': 'vr'}), 'hatch': None})),\n",
       "   'cmap': <matplotlib.colors.ListedColormap at 0x7f13870394f0>,\n",
       "   'values': ['vs', 'inconnu', 'vi', 'vr']},\n",
       "  'cadmium': {'legend': Legend(Decor({'_colour': '#ffa500', 'width': 3, 'component': Component({'cadmium': 'vs'}), 'hatch': None})\n",
       "   Decor({'_colour': '#ffffff', 'width': 3, 'component': Component({'cadmium': 'inconnu'}), 'hatch': None})\n",
       "   Decor({'_colour': '#ff0000', 'width': 3, 'component': Component({'cadmium': 'vi'}), 'hatch': None})\n",
       "   Decor({'_colour': '#00ff00', 'width': 3, 'component': Component({'cadmium': 'vr'}), 'hatch': None})),\n",
       "   'cmap': <matplotlib.colors.ListedColormap at 0x7f138703d640>,\n",
       "   'values': ['vs', 'inconnu', 'vi', 'vr']}},\n",
       " {'BH001': {'lithology': {'legend': Legend(Decor({'_colour': '#ffcb23', 'width': 3, 'hatch': \"'..'\", 'component': Component({'lithology': 'sable'})})\n",
       "    Decor({'_colour': '#d5e6cc', 'width': 3, 'hatch': \"'---'\", 'component': Component({'lithology': 'argile'})})\n",
       "    Decor({'_colour': '#7ba1a8', 'width': 3, 'hatch': None, 'component': Component({'lithology': 'marne'})})\n",
       "    Decor({'_colour': '#000000', 'width': 3, 'hatch': None, 'component': Component({'lithology': 'charbon'})})),\n",
       "    'cmap': <matplotlib.colors.ListedColormap at 0x7f13870a3e50>,\n",
       "    'values': ['sable', 'argile', 'marne', 'charbon']},\n",
       "   'arsenic': {'legend': Legend(Decor({'_colour': '#ffa500', 'width': 3, 'component': Component({'arsenic': 'vs'}), 'hatch': None})\n",
       "    Decor({'_colour': '#ffffff', 'width': 3, 'component': Component({'arsenic': 'inconnu'}), 'hatch': None})\n",
       "    Decor({'_colour': '#ff0000', 'width': 3, 'component': Component({'arsenic': 'vi'}), 'hatch': None})\n",
       "    Decor({'_colour': '#00ff00', 'width': 3, 'component': Component({'arsenic': 'vr'}), 'hatch': None})),\n",
       "    'cmap': <matplotlib.colors.ListedColormap at 0x7f1387031610>,\n",
       "    'values': ['vs', 'inconnu', 'vi', 'vr']},\n",
       "   'cadmium': {'legend': Legend(Decor({'_colour': '#ffa500', 'width': 3, 'component': Component({'cadmium': 'vs'}), 'hatch': None})\n",
       "    Decor({'_colour': '#ffffff', 'width': 3, 'component': Component({'cadmium': 'inconnu'}), 'hatch': None})),\n",
       "    'cmap': <matplotlib.colors.ListedColormap at 0x7f13870395e0>,\n",
       "    'values': ['vs', 'inconnu']}},\n",
       "  'BH002': {'lithology': {'legend': Legend(Decor({'_colour': '#ffcb23', 'width': 3, 'hatch': \"'..'\", 'component': Component({'lithology': 'sable'})})\n",
       "    Decor({'_colour': '#d5e6cc', 'width': 3, 'hatch': \"'---'\", 'component': Component({'lithology': 'argile'})})\n",
       "    Decor({'_colour': '#7ba1a8', 'width': 3, 'hatch': None, 'component': Component({'lithology': 'marne'})})\n",
       "    Decor({'_colour': '#000000', 'width': 3, 'hatch': None, 'component': Component({'lithology': 'charbon'})})\n",
       "    Decor({'_colour': '#fdaffe', 'width': 3, 'hatch': None, 'component': Component({'lithology': 'dolomie'})})),\n",
       "    'cmap': <matplotlib.colors.ListedColormap at 0x7f138709bcd0>,\n",
       "    'values': ['sable', 'argile', 'marne', 'charbon', 'dolomie']},\n",
       "   'arsenic': {'legend': Legend(Decor({'_colour': '#ffffff', 'width': 3, 'component': Component({'arsenic': 'inconnu'}), 'hatch': None})\n",
       "    Decor({'_colour': '#00ff00', 'width': 3, 'component': Component({'arsenic': 'vr'}), 'hatch': None})\n",
       "    Decor({'_colour': '#ff0000', 'width': 3, 'component': Component({'arsenic': 'vi'}), 'hatch': None})\n",
       "    Decor({'_colour': '#ffa500', 'width': 3, 'component': Component({'arsenic': 'vs'}), 'hatch': None})),\n",
       "    'cmap': <matplotlib.colors.ListedColormap at 0x7f1387031fa0>,\n",
       "    'values': ['inconnu', 'vr', 'vi', 'vs']},\n",
       "   'cadmium': {'legend': Legend(Decor({'_colour': '#ffa500', 'width': 3, 'component': Component({'cadmium': 'vs'}), 'hatch': None})\n",
       "    Decor({'_colour': '#ffffff', 'width': 3, 'component': Component({'cadmium': 'inconnu'}), 'hatch': None})\n",
       "    Decor({'_colour': '#ff0000', 'width': 3, 'component': Component({'cadmium': 'vi'}), 'hatch': None})\n",
       "    Decor({'_colour': '#00ff00', 'width': 3, 'component': Component({'cadmium': 'vr'}), 'hatch': None})),\n",
       "    'cmap': <matplotlib.colors.ListedColormap at 0x7f13870398b0>,\n",
       "    'values': ['vs', 'inconnu', 'vi', 'vr']}},\n",
       "  'BH003': {'lithology': {'legend': Legend(Decor({'_colour': '#ffcb23', 'width': 3, 'hatch': \"'..'\", 'component': Component({'lithology': 'sable'})})\n",
       "    Decor({'_colour': '#d5e6cc', 'width': 3, 'hatch': \"'---'\", 'component': Component({'lithology': 'argile'})})\n",
       "    Decor({'_colour': '#7ba1a8', 'width': 3, 'hatch': None, 'component': Component({'lithology': 'marne'})})\n",
       "    Decor({'_colour': '#000000', 'width': 3, 'hatch': None, 'component': Component({'lithology': 'charbon'})})\n",
       "    Decor({'_colour': '#fdaffe', 'width': 3, 'hatch': None, 'component': Component({'lithology': 'dolomie'})})),\n",
       "    'cmap': <matplotlib.colors.ListedColormap at 0x7f138709ea00>,\n",
       "    'values': ['sable', 'argile', 'marne', 'charbon', 'dolomie']},\n",
       "   'arsenic': {'legend': Legend(Decor({'_colour': '#ffa500', 'width': 3, 'component': Component({'arsenic': 'vs'}), 'hatch': None})\n",
       "    Decor({'_colour': '#00ff00', 'width': 3, 'component': Component({'arsenic': 'vr'}), 'hatch': None})\n",
       "    Decor({'_colour': '#ffffff', 'width': 3, 'component': Component({'arsenic': 'inconnu'}), 'hatch': None})),\n",
       "    'cmap': <matplotlib.colors.ListedColormap at 0x7f13870312b0>,\n",
       "    'values': ['vs', 'vr', 'inconnu']},\n",
       "   'cadmium': {'legend': Legend(Decor({'_colour': '#00ff00', 'width': 3, 'component': Component({'cadmium': 'vr'}), 'hatch': None})\n",
       "    Decor({'_colour': '#ffa500', 'width': 3, 'component': Component({'cadmium': 'vs'}), 'hatch': None})\n",
       "    Decor({'_colour': '#ff0000', 'width': 3, 'component': Component({'cadmium': 'vi'}), 'hatch': None})\n",
       "    Decor({'_colour': '#ffffff', 'width': 3, 'component': Component({'cadmium': 'inconnu'}), 'hatch': None})),\n",
       "    'cmap': <matplotlib.colors.ListedColormap at 0x7f1387039af0>,\n",
       "    'values': ['vr', 'vs', 'vi', 'inconnu']}},\n",
       "  'BH004': {'lithology': {'legend': Legend(Decor({'_colour': '#ffcb23', 'width': 3, 'hatch': \"'..'\", 'component': Component({'lithology': 'sable'})})\n",
       "    Decor({'_colour': '#d5e6cc', 'width': 3, 'hatch': \"'---'\", 'component': Component({'lithology': 'argile'})})\n",
       "    Decor({'_colour': '#7ba1a8', 'width': 3, 'hatch': None, 'component': Component({'lithology': 'marne'})})\n",
       "    Decor({'_colour': '#000000', 'width': 3, 'hatch': None, 'component': Component({'lithology': 'charbon'})})\n",
       "    Decor({'_colour': '#fdaffe', 'width': 3, 'hatch': None, 'component': Component({'lithology': 'dolomie'})})),\n",
       "    'cmap': <matplotlib.colors.ListedColormap at 0x7f13870a37f0>,\n",
       "    'values': ['sable', 'argile', 'marne', 'charbon', 'dolomie']},\n",
       "   'arsenic': {'legend': Legend(Decor({'_colour': '#00ff00', 'width': 3, 'component': Component({'arsenic': 'vr'}), 'hatch': None})\n",
       "    Decor({'_colour': '#ffa500', 'width': 3, 'component': Component({'arsenic': 'vs'}), 'hatch': None})\n",
       "    Decor({'_colour': '#ffffff', 'width': 3, 'component': Component({'arsenic': 'inconnu'}), 'hatch': None})\n",
       "    Decor({'_colour': '#ff0000', 'width': 3, 'component': Component({'arsenic': 'vi'}), 'hatch': None})),\n",
       "    'cmap': <matplotlib.colors.ListedColormap at 0x7f132c612160>,\n",
       "    'values': ['vr', 'vs', 'inconnu', 'vi']},\n",
       "   'cadmium': {'legend': Legend(Decor({'_colour': '#ff0000', 'width': 3, 'component': Component({'cadmium': 'vi'}), 'hatch': None})\n",
       "    Decor({'_colour': '#ffa500', 'width': 3, 'component': Component({'cadmium': 'vs'}), 'hatch': None})\n",
       "    Decor({'_colour': '#ffffff', 'width': 3, 'component': Component({'cadmium': 'inconnu'}), 'hatch': None})),\n",
       "    'cmap': <matplotlib.colors.ListedColormap at 0x7f1387039cd0>,\n",
       "    'values': ['vi', 'vs', 'inconnu']}},\n",
       "  'BH005': {'lithology': {'legend': Legend(Decor({'_colour': '#ffcb23', 'width': 3, 'hatch': \"'..'\", 'component': Component({'lithology': 'sable'})})\n",
       "    Decor({'_colour': '#d5e6cc', 'width': 3, 'hatch': \"'---'\", 'component': Component({'lithology': 'argile'})})\n",
       "    Decor({'_colour': '#7ba1a8', 'width': 3, 'hatch': None, 'component': Component({'lithology': 'marne'})})\n",
       "    Decor({'_colour': '#000000', 'width': 3, 'hatch': None, 'component': Component({'lithology': 'charbon'})})\n",
       "    Decor({'_colour': '#fdaffe', 'width': 3, 'hatch': None, 'component': Component({'lithology': 'dolomie'})})\n",
       "    Decor({'_colour': '#bbffdd', 'width': 3, 'hatch': \"'--'\", 'component': Component({'lithology': 'schiste'})})\n",
       "    Decor({'_colour': '#149eff', 'width': 3, 'hatch': \"'='\", 'component': Component({'lithology': 'calcaire'})})),\n",
       "    'cmap': <matplotlib.colors.ListedColormap at 0x7f138709e5e0>,\n",
       "    'values': ['sable',\n",
       "     'argile',\n",
       "     'marne',\n",
       "     'charbon',\n",
       "     'dolomie',\n",
       "     'schiste',\n",
       "     'calcaire']},\n",
       "   'arsenic': {'legend': Legend(Decor({'_colour': '#ff0000', 'width': 3, 'component': Component({'arsenic': 'vi'}), 'hatch': None})\n",
       "    Decor({'_colour': '#ffffff', 'width': 3, 'component': Component({'arsenic': 'inconnu'}), 'hatch': None})\n",
       "    Decor({'_colour': '#ffa500', 'width': 3, 'component': Component({'arsenic': 'vs'}), 'hatch': None})\n",
       "    Decor({'_colour': '#00ff00', 'width': 3, 'component': Component({'arsenic': 'vr'}), 'hatch': None})),\n",
       "    'cmap': <matplotlib.colors.ListedColormap at 0x7f138702f910>,\n",
       "    'values': ['vi', 'inconnu', 'vs', 'vr']},\n",
       "   'cadmium': {'legend': Legend(Decor({'_colour': '#ffa500', 'width': 3, 'component': Component({'cadmium': 'vs'}), 'hatch': None})\n",
       "    Decor({'_colour': '#ff0000', 'width': 3, 'component': Component({'cadmium': 'vi'}), 'hatch': None})\n",
       "    Decor({'_colour': '#00ff00', 'width': 3, 'component': Component({'cadmium': 'vr'}), 'hatch': None})),\n",
       "    'cmap': <matplotlib.colors.ListedColormap at 0x7f1387039640>,\n",
       "    'values': ['vs', 'vi', 'vr']}},\n",
       "  'BH006': {'lithology': {'legend': Legend(Decor({'_colour': '#ffcb23', 'width': 3, 'hatch': \"'..'\", 'component': Component({'lithology': 'sable'})})\n",
       "    Decor({'_colour': '#d5e6cc', 'width': 3, 'hatch': \"'---'\", 'component': Component({'lithology': 'argile'})})\n",
       "    Decor({'_colour': '#7ba1a8', 'width': 3, 'hatch': None, 'component': Component({'lithology': 'marne'})})\n",
       "    Decor({'_colour': '#000000', 'width': 3, 'hatch': None, 'component': Component({'lithology': 'charbon'})})\n",
       "    Decor({'_colour': '#fdaffe', 'width': 3, 'hatch': None, 'component': Component({'lithology': 'dolomie'})})),\n",
       "    'cmap': <matplotlib.colors.ListedColormap at 0x7f138709be50>,\n",
       "    'values': ['sable', 'argile', 'marne', 'charbon', 'dolomie']},\n",
       "   'arsenic': {'legend': Legend(Decor({'_colour': '#ffa500', 'width': 3, 'component': Component({'arsenic': 'vs'}), 'hatch': None})\n",
       "    Decor({'_colour': '#ff0000', 'width': 3, 'component': Component({'arsenic': 'vi'}), 'hatch': None})),\n",
       "    'cmap': <matplotlib.colors.ListedColormap at 0x7f1387031490>,\n",
       "    'values': ['vs', 'vi']},\n",
       "   'cadmium': {'legend': Legend(Decor({'_colour': '#ffa500', 'width': 3, 'component': Component({'cadmium': 'vs'}), 'hatch': None})\n",
       "    Decor({'_colour': '#00ff00', 'width': 3, 'component': Component({'cadmium': 'vr'}), 'hatch': None})\n",
       "    Decor({'_colour': '#ff0000', 'width': 3, 'component': Component({'cadmium': 'vi'}), 'hatch': None})),\n",
       "    'cmap': <matplotlib.colors.ListedColormap at 0x7f13870d80a0>,\n",
       "    'values': ['vs', 'vr', 'vi']}},\n",
       "  'BH007': {'lithology': {'legend': Legend(Decor({'_colour': '#ffcb23', 'width': 3, 'hatch': \"'..'\", 'component': Component({'lithology': 'sable'})})\n",
       "    Decor({'_colour': '#d5e6cc', 'width': 3, 'hatch': \"'---'\", 'component': Component({'lithology': 'argile'})})\n",
       "    Decor({'_colour': '#7ba1a8', 'width': 3, 'hatch': None, 'component': Component({'lithology': 'marne'})})\n",
       "    Decor({'_colour': '#000000', 'width': 3, 'hatch': None, 'component': Component({'lithology': 'charbon'})})\n",
       "    Decor({'_colour': '#fdaffe', 'width': 3, 'hatch': None, 'component': Component({'lithology': 'dolomie'})})\n",
       "    Decor({'_colour': '#149eff', 'width': 3, 'hatch': \"'='\", 'component': Component({'lithology': 'calcaire'})})),\n",
       "    'cmap': <matplotlib.colors.ListedColormap at 0x7f138702f610>,\n",
       "    'values': ['sable', 'argile', 'marne', 'charbon', 'dolomie', 'calcaire']},\n",
       "   'arsenic': {'legend': Legend(Decor({'_colour': '#ff0000', 'width': 3, 'component': Component({'arsenic': 'vi'}), 'hatch': None})\n",
       "    Decor({'_colour': '#00ff00', 'width': 3, 'component': Component({'arsenic': 'vr'}), 'hatch': None})\n",
       "    Decor({'_colour': '#ffa500', 'width': 3, 'component': Component({'arsenic': 'vs'}), 'hatch': None})),\n",
       "    'cmap': <matplotlib.colors.ListedColormap at 0x7f138702f7f0>,\n",
       "    'values': ['vi', 'vr', 'vs']},\n",
       "   'cadmium': {'legend': Legend(Decor({'_colour': '#ffa500', 'width': 3, 'component': Component({'cadmium': 'vs'}), 'hatch': None})\n",
       "    Decor({'_colour': '#00ff00', 'width': 3, 'component': Component({'cadmium': 'vr'}), 'hatch': None})\n",
       "    Decor({'_colour': '#ffffff', 'width': 3, 'component': Component({'cadmium': 'inconnu'}), 'hatch': None})\n",
       "    Decor({'_colour': '#ff0000', 'width': 3, 'component': Component({'cadmium': 'vi'}), 'hatch': None})),\n",
       "    'cmap': <matplotlib.colors.ListedColormap at 0x7f138703d070>,\n",
       "    'values': ['vs', 'vr', 'inconnu', 'vi']}},\n",
       "  'BH008': {'lithology': {'legend': Legend(Decor({'_colour': '#ffcb23', 'width': 3, 'hatch': \"'..'\", 'component': Component({'lithology': 'sable'})})\n",
       "    Decor({'_colour': '#d5e6cc', 'width': 3, 'hatch': \"'---'\", 'component': Component({'lithology': 'argile'})})\n",
       "    Decor({'_colour': '#7ba1a8', 'width': 3, 'hatch': None, 'component': Component({'lithology': 'marne'})})\n",
       "    Decor({'_colour': '#000000', 'width': 3, 'hatch': None, 'component': Component({'lithology': 'charbon'})})\n",
       "    Decor({'_colour': '#fdaffe', 'width': 3, 'hatch': None, 'component': Component({'lithology': 'dolomie'})})),\n",
       "    'cmap': <matplotlib.colors.ListedColormap at 0x7f138702c5b0>,\n",
       "    'values': ['sable', 'argile', 'marne', 'charbon', 'dolomie']},\n",
       "   'arsenic': {'legend': Legend(Decor({'_colour': '#00ff00', 'width': 3, 'component': Component({'arsenic': 'vr'}), 'hatch': None})\n",
       "    Decor({'_colour': '#ffffff', 'width': 3, 'component': Component({'arsenic': 'inconnu'}), 'hatch': None})\n",
       "    Decor({'_colour': '#ff0000', 'width': 3, 'component': Component({'arsenic': 'vi'}), 'hatch': None})),\n",
       "    'cmap': <matplotlib.colors.ListedColormap at 0x7f1387039160>,\n",
       "    'values': ['vr', 'inconnu', 'vi']},\n",
       "   'cadmium': {'legend': Legend(Decor({'_colour': '#ffa500', 'width': 3, 'component': Component({'cadmium': 'vs'}), 'hatch': None})\n",
       "    Decor({'_colour': '#00ff00', 'width': 3, 'component': Component({'cadmium': 'vr'}), 'hatch': None})\n",
       "    Decor({'_colour': '#ff0000', 'width': 3, 'component': Component({'cadmium': 'vi'}), 'hatch': None})),\n",
       "    'cmap': <matplotlib.colors.ListedColormap at 0x7f138703d1f0>,\n",
       "    'values': ['vs', 'vr', 'vi']}},\n",
       "  'BH009': {'lithology': {'legend': Legend(Decor({'_colour': '#ffcb23', 'width': 3, 'hatch': \"'..'\", 'component': Component({'lithology': 'sable'})})\n",
       "    Decor({'_colour': '#d5e6cc', 'width': 3, 'hatch': \"'---'\", 'component': Component({'lithology': 'argile'})})\n",
       "    Decor({'_colour': '#7ba1a8', 'width': 3, 'hatch': None, 'component': Component({'lithology': 'marne'})})\n",
       "    Decor({'_colour': '#000000', 'width': 3, 'hatch': None, 'component': Component({'lithology': 'charbon'})})\n",
       "    Decor({'_colour': '#fdaffe', 'width': 3, 'hatch': None, 'component': Component({'lithology': 'dolomie'})})),\n",
       "    'cmap': <matplotlib.colors.ListedColormap at 0x7f138702fcd0>,\n",
       "    'values': ['sable', 'argile', 'marne', 'charbon', 'dolomie']},\n",
       "   'arsenic': {'legend': Legend(Decor({'_colour': '#ffffff', 'width': 3, 'component': Component({'arsenic': 'inconnu'}), 'hatch': None})\n",
       "    Decor({'_colour': '#ff0000', 'width': 3, 'component': Component({'arsenic': 'vi'}), 'hatch': None})),\n",
       "    'cmap': <matplotlib.colors.ListedColormap at 0x7f1387039190>,\n",
       "    'values': ['inconnu', 'vi']},\n",
       "   'cadmium': {'legend': Legend(Decor({'_colour': '#00ff00', 'width': 3, 'component': Component({'cadmium': 'vr'}), 'hatch': None})\n",
       "    Decor({'_colour': '#ffa500', 'width': 3, 'component': Component({'cadmium': 'vs'}), 'hatch': None})\n",
       "    Decor({'_colour': '#ff0000', 'width': 3, 'component': Component({'cadmium': 'vi'}), 'hatch': None})),\n",
       "    'cmap': <matplotlib.colors.ListedColormap at 0x7f138703d280>,\n",
       "    'values': ['vr', 'vs', 'vi']}},\n",
       "  'BH10': {'lithology': {'legend': Legend(Decor({'_colour': '#ffcb23', 'width': 3, 'hatch': \"'..'\", 'component': Component({'lithology': 'sable'})})\n",
       "    Decor({'_colour': '#d5e6cc', 'width': 3, 'hatch': \"'---'\", 'component': Component({'lithology': 'argile'})})\n",
       "    Decor({'_colour': '#7ba1a8', 'width': 3, 'hatch': None, 'component': Component({'lithology': 'marne'})})),\n",
       "    'cmap': <matplotlib.colors.ListedColormap at 0x7f138702ca30>,\n",
       "    'values': ['sable', 'argile', 'marne']},\n",
       "   'arsenic': {'legend': Legend(Decor({'_colour': '#ffffff', 'width': 3, 'component': Component({'arsenic': 'inconnu'}), 'hatch': None})\n",
       "    Decor({'_colour': '#00ff00', 'width': 3, 'component': Component({'arsenic': 'vr'}), 'hatch': None})),\n",
       "    'cmap': <matplotlib.colors.ListedColormap at 0x7f1387039250>,\n",
       "    'values': ['inconnu', 'vr']},\n",
       "   'cadmium': {'legend': Legend(Decor({'_colour': '#00ff00', 'width': 3, 'component': Component({'cadmium': 'vr'}), 'hatch': None})\n",
       "    Decor({'_colour': '#ffa500', 'width': 3, 'component': Component({'cadmium': 'vs'}), 'hatch': None})\n",
       "    Decor({'_colour': '#ffffff', 'width': 3, 'component': Component({'cadmium': 'inconnu'}), 'hatch': None})),\n",
       "    'cmap': <matplotlib.colors.ListedColormap at 0x7f138703d100>,\n",
       "    'values': ['vr', 'vs', 'inconnu']}}})"
      ]
     },
     "execution_count": 35,
     "metadata": {},
     "output_type": "execute_result"
    }
   ],
   "source": [
    "p.update_legend_cmap(update_all_attrib=True)"
   ]
  },
  {
   "cell_type": "code",
   "execution_count": 37,
   "metadata": {},
   "outputs": [
    {
     "data": {
      "image/png": "[encoded data removed]",
      "text/html": [
       "<div style=\"vertical-align: middle;\"><strong>from_list</strong> </div><div class=\"cmap\"><img alt=\"from_list colormap\" title=\"from_list\" style=\"border: 1px solid #555;\" src=\"data:image/png;base64,iVBORw0KGgoAAAANSUhEUgAAAgAAAABACAYAAABsv8+/AAAAGHRFWHRUaXRsZQBmcm9tX2xpc3QgY29sb3JtYXBDL89FAAAAHnRFWHREZXNjcmlwdGlvbgBmcm9tX2xpc3QgY29sb3JtYXABtCnOAAAAMHRFWHRBdXRob3IATWF0cGxvdGxpYiB2My40LjIsIGh0dHBzOi8vbWF0cGxvdGxpYi5vcmes1mPdAAAAMnRFWHRTb2Z0d2FyZQBNYXRwbG90bGliIHYzLjQuMiwgaHR0cHM6Ly9tYXRwbG90bGliLm9yZ4Jw/PoAAAFjSURBVHic7darjUJRAABRoA0c2xCSVVRDHTiSVRRAQgP4VSRUwqcDJPeROaeCkTN/Xn6eM976X/6NTpi8w+k6OmHydtvN6ITJux8foxO+wnl9G50wab/71eiEr7AYHQAAfJ4BAIAgAwAAQQYAAIIMAAAEGQAACDIAABBkAAAgyAAAQJABAIAgAwAAQQYAAIIMAAAEGQAACDIAABBkAAAgyAAAQJABAIAgAwAAQQYAAIIMAAAEGQAACDIAABBkAAAgyAAAQJABAIAgAwAAQQYAAIIMAAAEGQAACDIAABBkAAAgyAAAQJABAIAgAwAAQQYAAIIMAAAEGQAACDIAABBkAAAgyAAAQJABAIAgAwAAQQYAAIIMAAAEGQAACDIAABBkAAAgyAAAQJABAIAgAwAAQQYAAIIMAAAEGQAACDIAABBkAAAgyAAAQJABAIAgAwAAQQYAAIIMAAAEGQAACDIAABD0AiMCDjC6gHT1AAAAAElFTkSuQmCC\"></div><div style=\"vertical-align: middle; max-width: 514px; display: flex; justify-content: space-between;\"><div style=\"float: left;\"><div title=\"#ffcb23ff\" style=\"display: inline-block; width: 1em; height: 1em; margin: 0; vertical-align: middle; border: 1px solid #555; background-color: #ffcb23ff;\"></div> under</div><div style=\"margin: 0 auto; display: inline-block;\">bad <div title=\"#00000000\" style=\"display: inline-block; width: 1em; height: 1em; margin: 0; vertical-align: middle; border: 1px solid #555; background-color: #00000000;\"></div></div><div style=\"float: right;\">over <div title=\"#149effff\" style=\"display: inline-block; width: 1em; height: 1em; margin: 0; vertical-align: middle; border: 1px solid #555; background-color: #149effff;\"></div></div>"
      ],
      "text/plain": [
       "<matplotlib.colors.ListedColormap at 0x7f138702ca90>"
      ]
     },
     "execution_count": 37,
     "metadata": {},
     "output_type": "execute_result"
    }
   ],
   "source": [
    "p.legend_dict[attributes[0]]['cmap']"
   ]
  },
  {
   "cell_type": "code",
   "execution_count": 39,
   "metadata": {},
   "outputs": [
    {
     "data": {
      "text/plain": [
       "['vs', 'inconnu', 'vi', 'vr']"
      ]
     },
     "execution_count": 39,
     "metadata": {},
     "output_type": "execute_result"
    }
   ],
   "source": [
    "p.legend_dict[attributes[2]]['values']"
   ]
  },
  {
   "cell_type": "raw",
   "metadata": {},
   "source": [
    "from striplog.utils import rgb_to_hex"
   ]
  },
  {
   "cell_type": "raw",
   "metadata": {},
   "source": [
    "rgb_to_hex(p.legend_dict[attributes[0]]['cmap'].colors[0])"
   ]
  },
  {
   "cell_type": "markdown",
   "metadata": {},
   "source": [
    "## Display one object (attribute = 'lithology')"
   ]
  },
  {
   "cell_type": "code",
   "execution_count": 40,
   "metadata": {},
   "outputs": [
    {
     "data": {
      "text/plain": [
       "{0: [Component({'lithology': 'sable'}),\n",
       "  Component({'arsenic': 'vi'}),\n",
       "  Component({'cadmium': 'vs'})],\n",
       " 1: [Component({'lithology': 'argile'}),\n",
       "  Component({'arsenic': 'vr'}),\n",
       "  Component({'cadmium': 'vs'})],\n",
       " 2: [Component({'lithology': 'marne'}),\n",
       "  Component({'arsenic': 'vs'}),\n",
       "  Component({'cadmium': 'vr'})],\n",
       " 3: [Component({'lithology': 'charbon'}),\n",
       "  Component({'arsenic': 'vi'}),\n",
       "  Component({'cadmium': 'inconnu'})],\n",
       " 4: [Component({'lithology': 'dolomie'}),\n",
       "  Component({'arsenic': 'vi'}),\n",
       "  Component({'cadmium': 'vi'})],\n",
       " 5: [Component({'lithology': 'calcaire'}),\n",
       "  Component({'arsenic': 'vs'}),\n",
       "  Component({'cadmium': 'vr'})]}"
      ]
     },
     "execution_count": 40,
     "metadata": {},
     "output_type": "execute_result"
    }
   ],
   "source": [
    "bh = 6\n",
    "p.boreholes_3d[bh].components"
   ]
  },
  {
   "cell_type": "code",
   "execution_count": 41,
   "metadata": {},
   "outputs": [
    {
     "name": "stderr",
     "output_type": "stream",
     "text": [
      "/home/yanathan/Projects/GSDMA/utils/visual.py:425: MatplotlibDeprecationWarning: hatch must consist of a string of \"*+-./OX\\ox|\" or None, but found the following invalid values \"'\". Passing invalid values is deprecated since 3.4 and will become an error two minor releases later.\n",
      "  rect = mpl.patches.Rectangle(origin, w, thick, fc=fc, lw=lw, hatch=d.hatch,\n",
      "/home/yanathan/Projects/GSDMA/utils/visual.py:425: MatplotlibDeprecationWarning: hatch must consist of a string of \"*+-./OX\\ox|\" or None, but found the following invalid values \"'=\". Passing invalid values is deprecated since 3.4 and will become an error two minor releases later.\n",
      "  rect = mpl.patches.Rectangle(origin, w, thick, fc=fc, lw=lw, hatch=d.hatch,\n",
      "/home/yanathan/.local/share/virtualenvs/GSDMA-DRfwm83x/lib/python3.8/site-packages/striplog/legend.py:311: MatplotlibDeprecationWarning: hatch must consist of a string of \"*+-./OX\\ox|\" or None, but found the following invalid values \"'=\". Passing invalid values is deprecated since 3.4 and will become an error two minor releases later.\n",
      "  rect1 = patches.Rectangle((0, 0),\n",
      "/home/yanathan/.local/share/virtualenvs/GSDMA-DRfwm83x/lib/python3.8/site-packages/striplog/legend.py:311: MatplotlibDeprecationWarning: hatch must consist of a string of \"*+-./OX\\ox|\" or None, but found the following invalid values \"'\". Passing invalid values is deprecated since 3.4 and will become an error two minor releases later.\n",
      "  rect1 = patches.Rectangle((0, 0),\n"
     ]
    },
    {
     "data": {
      "image/png": "[encoded data removed]",
      "text/plain": [
       "<Figure size 432x432 with 8 Axes>"
      ]
     },
     "metadata": {
      "needs_background": "light"
     },
     "output_type": "display_data"
    }
   ],
   "source": [
    "p.boreholes_3d[bh].log_plot()"
   ]
  },
  {
   "cell_type": "code",
   "execution_count": 42,
   "metadata": {},
   "outputs": [],
   "source": [
    "sargs = dict(title='Test_legend', title_font_size=30, label_font_size=12, n_labels=0,\n",
    "             fmt=\"%.2f\", font_family=\"arial\", color='k',interactive=True, \n",
    "             vertical=True, italic=True, shadow=False,)"
   ]
  },
  {
   "cell_type": "code",
   "execution_count": 43,
   "metadata": {
    "scrolled": true
   },
   "outputs": [
    {
     "data": {
      "application/vnd.jupyter.widget-view+json": {
       "model_id": "720faeb6959d42fd8f51bdb636924ec9",
       "version_major": 2,
       "version_minor": 0
      },
      "text/plain": [
       "ViewInteractiveWidget(height=768, layout=Layout(height='auto', width='100%'), width=1024)"
      ]
     },
     "metadata": {},
     "output_type": "display_data"
    }
   ],
   "source": [
    "p.boreholes_3d[bh].plot3d(custom_legend=False, scalar_bar_args=sargs)"
   ]
  },
  {
   "cell_type": "markdown",
   "metadata": {},
   "source": [
    "## Plot with another attribute"
   ]
  },
  {
   "cell_type": "code",
   "execution_count": 44,
   "metadata": {},
   "outputs": [
    {
     "name": "stderr",
     "output_type": "stream",
     "text": [
      "/home/yanathan/Projects/GSDMA/utils/visual.py:425: MatplotlibDeprecationWarning: hatch must consist of a string of \"*+-./OX\\ox|\" or None, but found the following invalid values \"'\". Passing invalid values is deprecated since 3.4 and will become an error two minor releases later.\n",
      "  rect = mpl.patches.Rectangle(origin, w, thick, fc=fc, lw=lw, hatch=d.hatch,\n",
      "/home/yanathan/Projects/GSDMA/utils/visual.py:425: MatplotlibDeprecationWarning: hatch must consist of a string of \"*+-./OX\\ox|\" or None, but found the following invalid values \"'=\". Passing invalid values is deprecated since 3.4 and will become an error two minor releases later.\n",
      "  rect = mpl.patches.Rectangle(origin, w, thick, fc=fc, lw=lw, hatch=d.hatch,\n",
      "/home/yanathan/.local/share/virtualenvs/GSDMA-DRfwm83x/lib/python3.8/site-packages/striplog/legend.py:311: MatplotlibDeprecationWarning: hatch must consist of a string of \"*+-./OX\\ox|\" or None, but found the following invalid values \"'=\". Passing invalid values is deprecated since 3.4 and will become an error two minor releases later.\n",
      "  rect1 = patches.Rectangle((0, 0),\n",
      "/home/yanathan/.local/share/virtualenvs/GSDMA-DRfwm83x/lib/python3.8/site-packages/striplog/legend.py:311: MatplotlibDeprecationWarning: hatch must consist of a string of \"*+-./OX\\ox|\" or None, but found the following invalid values \"'\". Passing invalid values is deprecated since 3.4 and will become an error two minor releases later.\n",
      "  rect1 = patches.Rectangle((0, 0),\n"
     ]
    },
    {
     "data": {
      "image/png": "[encoded data removed]",
      "text/plain": [
       "<Figure size 432x432 with 8 Axes>"
      ]
     },
     "metadata": {
      "needs_background": "light"
     },
     "output_type": "display_data"
    }
   ],
   "source": [
    "at = 0\n",
    "p.boreholes_3d[bh].log_plot(repr_attribute=attributes[at])"
   ]
  },
  {
   "cell_type": "code",
   "execution_count": 45,
   "metadata": {
    "scrolled": false
   },
   "outputs": [
    {
     "data": {
      "application/vnd.jupyter.widget-view+json": {
       "model_id": "536b49d261844b139556a7dd8572825a",
       "version_major": 2,
       "version_minor": 0
      },
      "text/plain": [
       "ViewInteractiveWidget(height=768, layout=Layout(height='auto', width='100%'), width=1024)"
      ]
     },
     "metadata": {},
     "output_type": "display_data"
    }
   ],
   "source": [
    "p.boreholes_3d[bh].plot3d(repr_attribute=attributes[at])"
   ]
  },
  {
   "cell_type": "code",
   "execution_count": 46,
   "metadata": {},
   "outputs": [
    {
     "name": "stdout",
     "output_type": "stream",
     "text": [
      "2021-08-03 15:07:02,736 INFO sqlalchemy.engine.Engine SELECT \"Intervals\".id AS \"Intervals_id\", \"Intervals\".borehole AS \"Intervals_borehole\", \"Intervals\".interval_number AS \"Intervals_interval_number\", \"Intervals\".description AS \"Intervals_description\", \"Intervals\".top_id AS \"Intervals_top_id\", \"Intervals\".base_id AS \"Intervals_base_id\", \"Intervals\".data_id AS \"Intervals_data_id\" \n",
      "FROM \"Intervals\" \n",
      "WHERE ? = \"Intervals\".borehole\n",
      "2021-08-03 15:07:02,738 INFO sqlalchemy.engine.Engine [cached since 2.562s ago] ('BH001',)\n"
     ]
    },
    {
     "data": {
      "text/plain": [
       "{0: '{\"lithology\": \"sable\"}, {\"arsenic\": \"vs\"}, {\"cadmium\": \"vs\"}', 1: '{\"lithology\": \"argile\"}, {\"arsenic\": \"inconnu\"}, {\"cadmium\": \"inconnu\"}', 2: '{\"lithology\": \"marne\"}, {\"arsenic\": \"vi\"}, {\"cadmium\": \"inconnu\"}', 3: '{\"lithology\": \"charbon\"}, {\"arsenic\": \"vr\"}, {\"cadmium\": \"inconnu\"}'}"
      ]
     },
     "execution_count": 46,
     "metadata": {},
     "output_type": "execute_result"
    }
   ],
   "source": [
    "p.boreholes_orm[0].intervals_values"
   ]
  },
  {
   "cell_type": "code",
   "execution_count": 47,
   "metadata": {},
   "outputs": [
    {
     "data": {
      "text/html": [
       "<table><tr><td style=\"width:2em; background-color:#DDDDDD\" rowspan=\"6\"></td><td><strong>top</strong></td><td>101.0</td></tr><tr><td><strong>primary</strong></td><td><table><tr><td><strong>lithology</strong></td><td>sable</td></tr></table></td></tr><tr><td><strong>summary</strong></td><td>4.00 m of sable with vi with vs</td></tr><tr><td><strong>description</strong></td><td>{\"lithology\": \"sable\"}, {\"arsenic\": \"vi\"}, {\"cadmium\": \"vs\"}</td></tr><tr><td><strong>data</strong></td><td><table></table></td></tr><tr><td><strong>base</strong></td><td>97.0</td></tr></table>"
      ],
      "text/plain": [
       "Interval({'top': Position({'middle': 101.0, 'x': 152794.0, 'y': 121111.0, 'units': 'm'}), 'base': Position({'middle': 97.0, 'x': 152794.0, 'y': 121111.0, 'units': 'm'}), 'description': '{\"lithology\": \"sable\"}, {\"arsenic\": \"vi\"}, {\"cadmium\": \"vs\"}', 'data': {}, 'components': [Component({'lithology': 'sable'}), Component({'arsenic': 'vi'}), Component({'cadmium': 'vs'})]})"
      ]
     },
     "execution_count": 47,
     "metadata": {},
     "output_type": "execute_result"
    }
   ],
   "source": [
    "p.boreholes_3d[bh].intervals[0]"
   ]
  },
  {
   "cell_type": "markdown",
   "metadata": {},
   "source": [
    "### Display project boreholes"
   ]
  },
  {
   "cell_type": "code",
   "execution_count": 48,
   "metadata": {},
   "outputs": [
    {
     "data": {
      "text/html": [
       "<table><tr><th>Header</th><th>Data Arrays</th></tr><tr><td>\n",
       "<table>\n",
       "<tr><th>PolyData</th><th>Information</th></tr>\n",
       "<tr><td>N Cells</td><td>312</td></tr>\n",
       "<tr><td>N Points</td><td>1200</td></tr>\n",
       "<tr><td>X Bounds</td><td>1.528e+05, 1.528e+05</td></tr>\n",
       "<tr><td>Y Bounds</td><td>1.211e+05, 1.211e+05</td></tr>\n",
       "<tr><td>Z Bounds</td><td>5.600e+01, 1.010e+02</td></tr>\n",
       "<tr><td>N Arrays</td><td>6</td></tr>\n",
       "</table>\n",
       "\n",
       "</td><td>\n",
       "<table>\n",
       "<tr><th>Name</th><th>Field</th><th>Type</th><th>N Comp</th><th>Min</th><th>Max</th></tr>\n",
       "<tr><td>TubeNormals</td><td>Points</td><td>float32</td><td>3</td><td>-1.000e+00</td><td>1.000e+00</td></tr>\n",
       "<tr><td>Line Index</td><td>Cells</td><td>int64</td><td>1</td><td>0.000e+00</td><td>5.000e+00</td></tr>\n",
       "<tr><td><b>lithology</b></td><td>Cells</td><td>int64</td><td>1</td><td>0.000e+00</td><td>5.000e+00</td></tr>\n",
       "<tr><td>arsenic</td><td>Cells</td><td>int64</td><td>1</td><td>0.000e+00</td><td>2.000e+00</td></tr>\n",
       "<tr><td>cadmium</td><td>Cells</td><td>int64</td><td>1</td><td>0.000e+00</td><td>3.000e+00</td></tr>\n",
       "<tr><td>Test_legend</td><td>Cells</td><td>int64</td><td>1</td><td>0.000e+00</td><td>5.000e+00</td></tr>\n",
       "</table>\n",
       "\n",
       "</td></tr> </table>"
      ],
      "text/plain": [
       "PolyData (0x7f13870ed0a0)\n",
       "  N Cells:\t312\n",
       "  N Points:\t1200\n",
       "  X Bounds:\t1.528e+05, 1.528e+05\n",
       "  Y Bounds:\t1.211e+05, 1.211e+05\n",
       "  Z Bounds:\t5.600e+01, 1.010e+02\n",
       "  N Arrays:\t6"
      ]
     },
     "execution_count": 48,
     "metadata": {},
     "output_type": "execute_result"
    }
   ],
   "source": [
    "bh3d_vtk = p.boreholes_3d[bh]._vtk\n",
    "bh3d_vtk"
   ]
  },
  {
   "cell_type": "code",
   "execution_count": null,
   "metadata": {
    "scrolled": false
   },
   "outputs": [],
   "source": [
    "at = 1\n",
    "p.plot3d(repr_attribute=attributes[at],  bg_color=[\"royalblue\", \"aliceblue\"], \n",
    "                      window_size=(800, 500))"
   ]
  },
  {
   "cell_type": "markdown",
   "metadata": {},
   "source": [
    "### Boreholes in 3D using X3D for interaction within the notebook"
   ]
  },
  {
   "cell_type": "raw",
   "metadata": {
    "scrolled": false
   },
   "source": [
    "p.plot3d(x3d=True)"
   ]
  },
  {
   "cell_type": "code",
   "execution_count": null,
   "metadata": {
    "scrolled": true
   },
   "outputs": [],
   "source": [
    "type(p.boreholes_3d[0].omf_legend)"
   ]
  },
  {
   "cell_type": "code",
   "execution_count": null,
   "metadata": {},
   "outputs": [],
   "source": []
  }
 ],
 "metadata": {
  "kernelspec": {
   "display_name": "Python 3 (ipykernel)",
   "language": "python",
   "name": "python3"
  },
  "language_info": {
   "codemirror_mode": {
    "name": "ipython",
    "version": 3
   },
   "file_extension": ".py",
   "mimetype": "text/x-python",
   "name": "python",
   "nbconvert_exporter": "python",
   "pygments_lexer": "ipython3",
   "version": "3.8.10"
  }
 },
 "nbformat": 4,
 "nbformat_minor": 4
}
