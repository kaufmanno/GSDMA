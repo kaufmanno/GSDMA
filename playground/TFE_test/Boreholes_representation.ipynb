{
 "cells": [
  {
   "cell_type": "markdown",
   "metadata": {},
   "source": [
    "# Example of using the Borehole3D class"
   ]
  },
  {
   "cell_type": "markdown",
   "metadata": {},
   "source": [
    "## Imports"
   ]
  },
  {
   "cell_type": "code",
   "execution_count": 1,
   "metadata": {},
   "outputs": [
    {
     "name": "stderr",
     "output_type": "stream",
     "text": [
      "/home/yanathan/.local/share/virtualenvs/GSDMA-DRfwm83x/lib/python3.8/site-packages/striplog/legend.py:687: UserWarning: This legend contains duplicate components.\n",
      "  warnings.warn(w)\n",
      "/home/yanathan/.local/share/virtualenvs/GSDMA-DRfwm83x/lib/python3.8/site-packages/striplog/legend.py:687: UserWarning: This legend contains duplicate components.\n",
      "  warnings.warn(w)\n"
     ]
    }
   ],
   "source": [
    "from striplog import Component, Decor, Legend, Lexicon, Striplog\n",
    "from core.omf import Borehole3D, striplog_legend_to_omf_legend \n",
    "from utils.lexicon.lexicon_memoris import lexicon_memoris, lithology_memoris, pollutant_memoris\n",
    "from utils.io import boreholes_from_files, gdf_viewer\n",
    "from core.core import Project\n",
    "from core.orm import BoreholeOrm, PositionOrm, Base \n",
    "import random\n",
    "from os import remove\n",
    "import pandas as pd\n",
    "import numpy as np\n",
    "from sqlalchemy import create_engine\n",
    "from sqlalchemy.orm import sessionmaker\n",
    "from definitions import ROOT_DIR"
   ]
  },
  {
   "cell_type": "markdown",
   "metadata": {},
   "source": [
    "## Reading of CSV files in a dir"
   ]
  },
  {
   "cell_type": "code",
   "execution_count": 2,
   "metadata": {},
   "outputs": [],
   "source": [
    "#df = pd.read_csv('test_data_boreholes.csv', sep=',') # use english lexicon\n",
    "df = pd.read_csv('test_litho_fr.csv', sep=',') # use french lexicon"
   ]
  },
  {
   "cell_type": "markdown",
   "metadata": {},
   "source": [
    "## Data Checking"
   ]
  },
  {
   "cell_type": "raw",
   "metadata": {},
   "source": [
    "df.drop('Z', axis='columns', inplace=True)\n",
    "df.rename({'new_Z':'Z'}, axis='columns', inplace=True)"
   ]
  },
  {
   "cell_type": "raw",
   "metadata": {},
   "source": [
    "df.loc[df.query('Colour==\"tan\"').index, 'Colour'] = 'green' # use simple colour"
   ]
  },
  {
   "cell_type": "code",
   "execution_count": 3,
   "metadata": {},
   "outputs": [],
   "source": [
    "#pol = ['As', 'Ni', 'Cl', 'Hg', 'Pb', 'Zn']\n",
    "pol = ['VR','VS','VI']\n",
    "#df[['Pollutant', 'Concentration']] = ''\n",
    "df[['Pollutant', 'Concentration']] = ''\n",
    "df['Pollutant'] = df['Pollutant'].apply(lambda x: random.sample(pol, 1)[0])\n",
    "df['Concentration'] = df['Concentration'].apply(lambda x: np.random.randint(0,100))\n",
    "df['Unit'] = 'mg/l'"
   ]
  },
  {
   "cell_type": "code",
   "execution_count": 4,
   "metadata": {},
   "outputs": [],
   "source": [
    "df['Lithology'] = df['Lithology'].replace({'Grès':'Marne', 'Calcaire':'Dolomie'})"
   ]
  },
  {
   "cell_type": "code",
   "execution_count": 5,
   "metadata": {},
   "outputs": [],
   "source": [
    "df.loc[35.5, :] = ['BH007',152794.0, 121111.0, 60.0, 0.57, 45, 'Calcaire', 'Bleu', 4, 41, 45, 'Cl', 78, 'mg/l']\n",
    "df.loc[25.5, :] = ['BH005',152473.0, 121460.0, 72.0, 0.61, 32, 'Schiste', 'gris', 3, 29, 32, 'Cl', 78, 'mg/l']\n",
    "df.drop(index=4, inplace=True)\n",
    "df.drop(columns='Colour', inplace=True)\n",
    "df = df.sort_index().reset_index(drop=True)"
   ]
  },
  {
   "cell_type": "raw",
   "metadata": {},
   "source": [
    "df.loc[995, :] = ['BH199',152455.0, 121128.0, 68.0, 0.57, 36, 'Calcaire', 'Bleu', 9, 27, 36, 'Cl', 78, 'mg/l']"
   ]
  },
  {
   "cell_type": "raw",
   "metadata": {},
   "source": [
    "df.to_csv('test_litho_fr.csv', index=False)"
   ]
  },
  {
   "cell_type": "code",
   "execution_count": 6,
   "metadata": {},
   "outputs": [
    {
     "name": "stdout",
     "output_type": "stream",
     "text": [
      "Rows : 996, columns : 13\n"
     ]
    },
    {
     "data": {
      "application/vnd.jupyter.widget-view+json": {
       "model_id": "ccdabbd232f941bc93d24af06a7f6ac9",
       "version_major": 2,
       "version_minor": 0
      },
      "text/plain": [
       "interactive(children=(IntSlider(value=10, description='rows', max=996, min=10, readout=False), IntSlider(value…"
      ]
     },
     "metadata": {},
     "output_type": "display_data"
    }
   ],
   "source": [
    "gdf_viewer(df)"
   ]
  },
  {
   "cell_type": "raw",
   "metadata": {},
   "source": [
    "df.query('X==152013.0 and Y==121905.0')"
   ]
  },
  {
   "cell_type": "markdown",
   "metadata": {},
   "source": [
    "## Create Boreholes from dataframes or files"
   ]
  },
  {
   "cell_type": "code",
   "execution_count": 7,
   "metadata": {},
   "outputs": [],
   "source": [
    "bhs_df=[df[0:50]] # list of dataframes"
   ]
  },
  {
   "cell_type": "code",
   "execution_count": 8,
   "metadata": {
    "scrolled": true
   },
   "outputs": [
    {
     "name": "stdout",
     "output_type": "stream",
     "text": [
      "\n",
      "Dataframe 0 processing...\n",
      "================================\n",
      "|__ID:'BH001'\n",
      "{'lithology': 'sable', 'pollutant': 'vi'}\n",
      "{'lithology': 'argile', 'pollutant': 'vs'}\n",
      "{'lithology': 'marne', 'pollutant': 'vr'}\n",
      "{'lithology': 'charbon', 'pollutant': 'vr'}\n",
      "Summary : [Striplog(4 Intervals, start=0.0, stop=28.0)]\n",
      "|__ID:'BH002'\n",
      "{'lithology': 'sable', 'pollutant': 'vs'}\n",
      "{'lithology': 'argile', 'pollutant': 'vr'}\n",
      "{'lithology': 'marne', 'pollutant': 'vr'}\n",
      "{'lithology': 'charbon', 'pollutant': 'vr'}\n",
      "{'lithology': 'dolomie', 'pollutant': 'vr'}\n",
      "Summary : [Striplog(5 Intervals, start=0.0, stop=37.0)]\n",
      "|__ID:'BH003'\n",
      "{'lithology': 'sable', 'pollutant': 'vs'}\n",
      "{'lithology': 'argile', 'pollutant': 'vs'}\n",
      "{'lithology': 'marne', 'pollutant': 'vs'}\n",
      "{'lithology': 'charbon', 'pollutant': 'vr'}\n",
      "{'lithology': 'dolomie', 'pollutant': 'vi'}\n",
      "Summary : [Striplog(5 Intervals, start=0.0, stop=18.0)]\n",
      "|__ID:'BH004'\n",
      "{'lithology': 'sable', 'pollutant': 'vr'}\n",
      "{'lithology': 'argile', 'pollutant': 'vr'}\n",
      "{'lithology': 'marne', 'pollutant': 'vs'}\n",
      "{'lithology': 'charbon', 'pollutant': 'vs'}\n",
      "{'lithology': 'dolomie', 'pollutant': 'vi'}\n",
      "Summary : [Striplog(5 Intervals, start=0.0, stop=26.0)]\n",
      "|__ID:'BH005'\n",
      "{'lithology': 'sable', 'pollutant': 'vr'}\n",
      "{'lithology': 'argile', 'pollutant': 'vs'}\n",
      "{'lithology': 'marne', 'pollutant': 'vi'}\n",
      "{'lithology': 'charbon', 'pollutant': 'vr'}\n",
      "{'lithology': 'dolomie', 'pollutant': 'vs'}\n",
      "{'lithology': 'schiste'}\n",
      "Summary : [Striplog(6 Intervals, start=0.0, stop=32.0)]\n",
      "|__ID:'BH006'\n",
      "{'lithology': 'sable', 'pollutant': 'vr'}\n",
      "{'lithology': 'argile', 'pollutant': 'vi'}\n",
      "{'lithology': 'marne', 'pollutant': 'vs'}\n",
      "{'lithology': 'charbon', 'pollutant': 'vi'}\n",
      "{'lithology': 'dolomie', 'pollutant': 'vs'}\n",
      "Summary : [Striplog(5 Intervals, start=0.0, stop=26.0)]\n",
      "|__ID:'BH007'\n",
      "{'lithology': 'sable', 'pollutant': 'vi'}\n",
      "{'lithology': 'argile', 'pollutant': 'vs'}\n",
      "{'lithology': 'marne', 'pollutant': 'vs'}\n",
      "{'lithology': 'charbon', 'pollutant': 'vs'}\n",
      "{'lithology': 'dolomie', 'pollutant': 'vr'}\n",
      "{'lithology': 'calcaire'}\n",
      "Summary : [Striplog(6 Intervals, start=0.0, stop=45.0)]\n",
      "|__ID:'BH008'\n",
      "{'lithology': 'sable', 'pollutant': 'vr'}\n",
      "{'lithology': 'argile', 'pollutant': 'vi'}\n",
      "{'lithology': 'marne', 'pollutant': 'vi'}\n",
      "{'lithology': 'charbon', 'pollutant': 'vi'}\n",
      "{'lithology': 'dolomie', 'pollutant': 'vs'}\n",
      "Summary : [Striplog(5 Intervals, start=0.0, stop=35.0)]\n",
      "|__ID:'BH009'\n",
      "{'lithology': 'sable', 'pollutant': 'vs'}\n",
      "{'lithology': 'argile', 'pollutant': 'vr'}\n",
      "{'lithology': 'marne', 'pollutant': 'vi'}\n",
      "{'lithology': 'charbon', 'pollutant': 'vi'}\n",
      "{'lithology': 'dolomie', 'pollutant': 'vs'}\n",
      "Summary : [Striplog(5 Intervals, start=0.0, stop=40.0)]\n",
      "|__ID:'BH10'\n",
      "{'lithology': 'sable', 'pollutant': 'vr'}\n",
      "{'lithology': 'argile', 'pollutant': 'vr'}\n",
      "{'lithology': 'marne', 'pollutant': 'vs'}\n",
      "{'lithology': 'charbon', 'pollutant': 'vi'}\n",
      "Summary : [Striplog(4 Intervals, start=0.0, stop=14.0)]\n",
      "\n",
      "End of the process : 10 unique ID found\n"
     ]
    },
    {
     "name": "stderr",
     "output_type": "stream",
     "text": [
      "/home/yanathan/Projects/GSDMA/utils/io.py:469: SAWarning: relationship 'ComponentOrm.intervals' will copy column Components.id to column Linkintervalcomponent.comp_id, which conflicts with relationship(s): 'IntervalOrm.components' (copies Components.id to Linkintervalcomponent.comp_id). If this is not the intention, consider if these relationships should be linked with back_populates, or if viewonly=True should be applied to one or more if they are read-only. For the less common case that foreign key constraints are partially overlapping, the orm.foreign() annotation can be used to isolate the columns that should be written towards.   The 'overlaps' parameter may be used to remove this warning.\n",
      "  boreholes.append(BoreholeOrm(id=bh_name))\n",
      "/home/yanathan/Projects/GSDMA/utils/io.py:469: SAWarning: relationship 'ComponentOrm.intervals' will copy column Intervals.id to column Linkintervalcomponent.int_id, which conflicts with relationship(s): 'IntervalOrm.components' (copies Intervals.id to Linkintervalcomponent.int_id). If this is not the intention, consider if these relationships should be linked with back_populates, or if viewonly=True should be applied to one or more if they are read-only. For the less common case that foreign key constraints are partially overlapping, the orm.foreign() annotation can be used to isolate the columns that should be written towards.   The 'overlaps' parameter may be used to remove this warning.\n",
      "  boreholes.append(BoreholeOrm(id=bh_name))\n",
      "/home/yanathan/Projects/GSDMA/utils/io.py:469: SAWarning: relationship 'ComponentOrm.component_assoc' will copy column Components.id to column Linkintervalcomponent.comp_id, which conflicts with relationship(s): 'IntervalOrm.components' (copies Components.id to Linkintervalcomponent.comp_id), 'ComponentOrm.intervals' (copies Components.id to Linkintervalcomponent.comp_id). If this is not the intention, consider if these relationships should be linked with back_populates, or if viewonly=True should be applied to one or more if they are read-only. For the less common case that foreign key constraints are partially overlapping, the orm.foreign() annotation can be used to isolate the columns that should be written towards.   The 'overlaps' parameter may be used to remove this warning.\n",
      "  boreholes.append(BoreholeOrm(id=bh_name))\n",
      "/home/yanathan/Projects/GSDMA/utils/io.py:469: SAWarning: relationship 'LinkIntervalComponentOrm.component' will copy column Components.id to column Linkintervalcomponent.comp_id, which conflicts with relationship(s): 'IntervalOrm.components' (copies Components.id to Linkintervalcomponent.comp_id), 'ComponentOrm.intervals' (copies Components.id to Linkintervalcomponent.comp_id). If this is not the intention, consider if these relationships should be linked with back_populates, or if viewonly=True should be applied to one or more if they are read-only. For the less common case that foreign key constraints are partially overlapping, the orm.foreign() annotation can be used to isolate the columns that should be written towards.   The 'overlaps' parameter may be used to remove this warning.\n",
      "  boreholes.append(BoreholeOrm(id=bh_name))\n",
      "/home/yanathan/Projects/GSDMA/utils/io.py:469: SAWarning: relationship 'IntervalOrm.interval_assoc' will copy column Intervals.id to column Linkintervalcomponent.int_id, which conflicts with relationship(s): 'IntervalOrm.components' (copies Intervals.id to Linkintervalcomponent.int_id), 'ComponentOrm.intervals' (copies Intervals.id to Linkintervalcomponent.int_id). If this is not the intention, consider if these relationships should be linked with back_populates, or if viewonly=True should be applied to one or more if they are read-only. For the less common case that foreign key constraints are partially overlapping, the orm.foreign() annotation can be used to isolate the columns that should be written towards.   The 'overlaps' parameter may be used to remove this warning.\n",
      "  boreholes.append(BoreholeOrm(id=bh_name))\n",
      "/home/yanathan/Projects/GSDMA/utils/io.py:469: SAWarning: relationship 'LinkIntervalComponentOrm.interval' will copy column Intervals.id to column Linkintervalcomponent.int_id, which conflicts with relationship(s): 'IntervalOrm.components' (copies Intervals.id to Linkintervalcomponent.int_id), 'ComponentOrm.intervals' (copies Intervals.id to Linkintervalcomponent.int_id). If this is not the intention, consider if these relationships should be linked with back_populates, or if viewonly=True should be applied to one or more if they are read-only. For the less common case that foreign key constraints are partially overlapping, the orm.foreign() annotation can be used to isolate the columns that should be written towards.   The 'overlaps' parameter may be used to remove this warning.\n",
      "  boreholes.append(BoreholeOrm(id=bh_name))\n"
     ]
    }
   ],
   "source": [
    "boreholes, components, link_intv_comp = boreholes_from_files(bhs_df, verbose=False,\n",
    "                                                litho_field=['Lithology', 'Pollutant'], \n",
    "                                                color_field='Colour', lexicon=lexicon_memoris, \n",
    "                                                diam_field='Diameter', thick_field='Thickness')"
   ]
  },
  {
   "cell_type": "raw",
   "metadata": {},
   "source": [
    "boreholes[170].intervals[850].top.x, boreholes[170].intervals[850].top.y"
   ]
  },
  {
   "cell_type": "code",
   "execution_count": 9,
   "metadata": {},
   "outputs": [
    {
     "data": {
      "text/plain": [
       "[<core.orm.BoreholeOrm>(Name=BH001, Length=28.0, Diameter=0.43, Intervals=4),\n",
       " <core.orm.BoreholeOrm>(Name=BH002, Length=37.0, Diameter=0.6, Intervals=5),\n",
       " <core.orm.BoreholeOrm>(Name=BH003, Length=18.0, Diameter=0.41, Intervals=5),\n",
       " <core.orm.BoreholeOrm>(Name=BH004, Length=26.0, Diameter=0.61, Intervals=5),\n",
       " <core.orm.BoreholeOrm>(Name=BH005, Length=32.0, Diameter=0.61, Intervals=6),\n",
       " <core.orm.BoreholeOrm>(Name=BH006, Length=26.0, Diameter=0.31, Intervals=5),\n",
       " <core.orm.BoreholeOrm>(Name=BH007, Length=45.0, Diameter=0.57, Intervals=6),\n",
       " <core.orm.BoreholeOrm>(Name=BH008, Length=35.0, Diameter=0.39, Intervals=5),\n",
       " <core.orm.BoreholeOrm>(Name=BH009, Length=40.0, Diameter=0.5, Intervals=5),\n",
       " <core.orm.BoreholeOrm>(Name=BH10, Length=14.0, Diameter=0.31, Intervals=4)]"
      ]
     },
     "execution_count": 9,
     "metadata": {},
     "output_type": "execute_result"
    }
   ],
   "source": [
    "boreholes"
   ]
  },
  {
   "cell_type": "code",
   "execution_count": 10,
   "metadata": {},
   "outputs": [
    {
     "data": {
      "text/plain": [
       "{0: Component({'lithology': 'marne', 'pollutant': 'vr'}),\n",
       " 1: Component({'lithology': 'charbon', 'pollutant': 'vr'}),\n",
       " 2: Component({'lithology': 'sable', 'pollutant': 'vi'}),\n",
       " 3: Component({'lithology': 'argile', 'pollutant': 'vs'}),\n",
       " 4: Component({'lithology': 'dolomie', 'pollutant': 'vr'}),\n",
       " 5: Component({'lithology': 'sable', 'pollutant': 'vs'}),\n",
       " 6: Component({'lithology': 'argile', 'pollutant': 'vr'}),\n",
       " 7: Component({'lithology': 'dolomie', 'pollutant': 'vi'}),\n",
       " 8: Component({'lithology': 'marne', 'pollutant': 'vs'}),\n",
       " 9: Component({'lithology': 'sable', 'pollutant': 'vr'}),\n",
       " 10: Component({'lithology': 'charbon', 'pollutant': 'vs'}),\n",
       " 11: Component({'lithology': 'marne', 'pollutant': 'vi'}),\n",
       " 12: Component({'lithology': 'schiste'}),\n",
       " 13: Component({'lithology': 'dolomie', 'pollutant': 'vs'}),\n",
       " 14: Component({'lithology': 'charbon', 'pollutant': 'vi'}),\n",
       " 15: Component({'lithology': 'argile', 'pollutant': 'vi'}),\n",
       " 16: Component({'lithology': 'calcaire'})}"
      ]
     },
     "execution_count": 10,
     "metadata": {},
     "output_type": "execute_result"
    }
   ],
   "source": [
    "components"
   ]
  },
  {
   "cell_type": "code",
   "execution_count": 11,
   "metadata": {},
   "outputs": [
    {
     "data": {
      "text/plain": [
       "(10, 17)"
      ]
     },
     "execution_count": 11,
     "metadata": {},
     "output_type": "execute_result"
    }
   ],
   "source": [
    "len(boreholes), len(components)"
   ]
  },
  {
   "cell_type": "markdown",
   "metadata": {},
   "source": [
    "## Create a project and save data in a database"
   ]
  },
  {
   "cell_type": "code",
   "execution_count": 12,
   "metadata": {},
   "outputs": [],
   "source": [
    "remove('tmp_files/tfe_orm_db.db')"
   ]
  },
  {
   "cell_type": "code",
   "execution_count": 13,
   "metadata": {},
   "outputs": [],
   "source": [
    "engine = create_engine('sqlite:///tmp_files/tfe_orm_db.db', echo=True)"
   ]
  },
  {
   "cell_type": "code",
   "execution_count": 14,
   "metadata": {
    "scrolled": true
   },
   "outputs": [
    {
     "name": "stdout",
     "output_type": "stream",
     "text": [
      "2021-07-04 23:51:07,213 INFO sqlalchemy.engine.Engine BEGIN (implicit)\n",
      "2021-07-04 23:51:07,214 INFO sqlalchemy.engine.Engine PRAGMA main.table_info(\"Boreholes\")\n",
      "2021-07-04 23:51:07,215 INFO sqlalchemy.engine.Engine [raw sql] ()\n",
      "2021-07-04 23:51:07,217 INFO sqlalchemy.engine.Engine PRAGMA temp.table_info(\"Boreholes\")\n",
      "2021-07-04 23:51:07,218 INFO sqlalchemy.engine.Engine [raw sql] ()\n",
      "2021-07-04 23:51:07,219 INFO sqlalchemy.engine.Engine PRAGMA main.table_info(\"Positions\")\n",
      "2021-07-04 23:51:07,220 INFO sqlalchemy.engine.Engine [raw sql] ()\n",
      "2021-07-04 23:51:07,221 INFO sqlalchemy.engine.Engine PRAGMA temp.table_info(\"Positions\")\n",
      "2021-07-04 23:51:07,222 INFO sqlalchemy.engine.Engine [raw sql] ()\n",
      "2021-07-04 23:51:07,224 INFO sqlalchemy.engine.Engine PRAGMA main.table_info(\"IntervalData\")\n",
      "2021-07-04 23:51:07,224 INFO sqlalchemy.engine.Engine [raw sql] ()\n",
      "2021-07-04 23:51:07,225 INFO sqlalchemy.engine.Engine PRAGMA temp.table_info(\"IntervalData\")\n",
      "2021-07-04 23:51:07,226 INFO sqlalchemy.engine.Engine [raw sql] ()\n",
      "2021-07-04 23:51:07,226 INFO sqlalchemy.engine.Engine PRAGMA main.table_info(\"Intervals\")\n",
      "2021-07-04 23:51:07,227 INFO sqlalchemy.engine.Engine [raw sql] ()\n",
      "2021-07-04 23:51:07,228 INFO sqlalchemy.engine.Engine PRAGMA temp.table_info(\"Intervals\")\n",
      "2021-07-04 23:51:07,229 INFO sqlalchemy.engine.Engine [raw sql] ()\n",
      "2021-07-04 23:51:07,229 INFO sqlalchemy.engine.Engine PRAGMA main.table_info(\"Components\")\n",
      "2021-07-04 23:51:07,230 INFO sqlalchemy.engine.Engine [raw sql] ()\n",
      "2021-07-04 23:51:07,231 INFO sqlalchemy.engine.Engine PRAGMA temp.table_info(\"Components\")\n",
      "2021-07-04 23:51:07,232 INFO sqlalchemy.engine.Engine [raw sql] ()\n",
      "2021-07-04 23:51:07,232 INFO sqlalchemy.engine.Engine PRAGMA main.table_info(\"Linkintervalcomponent\")\n",
      "2021-07-04 23:51:07,233 INFO sqlalchemy.engine.Engine [raw sql] ()\n",
      "2021-07-04 23:51:07,234 INFO sqlalchemy.engine.Engine PRAGMA temp.table_info(\"Linkintervalcomponent\")\n",
      "2021-07-04 23:51:07,234 INFO sqlalchemy.engine.Engine [raw sql] ()\n",
      "2021-07-04 23:51:07,236 INFO sqlalchemy.engine.Engine \n",
      "CREATE TABLE \"Boreholes\" (\n",
      "\tid VARCHAR(32) NOT NULL, \n",
      "\tlength FLOAT, \n",
      "\tdiameter FLOAT, \n",
      "\tPRIMARY KEY (id)\n",
      ")\n",
      "\n",
      "\n",
      "2021-07-04 23:51:07,236 INFO sqlalchemy.engine.Engine [no key 0.00064s] ()\n",
      "2021-07-04 23:51:07,241 INFO sqlalchemy.engine.Engine \n",
      "CREATE TABLE \"Positions\" (\n",
      "\tid INTEGER NOT NULL, \n",
      "\tupper FLOAT, \n",
      "\tmiddle FLOAT, \n",
      "\tlower FLOAT, \n",
      "\tx FLOAT, \n",
      "\ty FLOAT, \n",
      "\tPRIMARY KEY (id)\n",
      ")\n",
      "\n",
      "\n",
      "2021-07-04 23:51:07,241 INFO sqlalchemy.engine.Engine [no key 0.00084s] ()\n",
      "2021-07-04 23:51:07,246 INFO sqlalchemy.engine.Engine \n",
      "CREATE TABLE \"IntervalData\" (\n",
      "\tid INTEGER NOT NULL, \n",
      "\tinterval INTEGER, \n",
      "\t\"key\" VARCHAR(32), \n",
      "\tvalue FLOAT, \n",
      "\tunits VARCHAR(32), \n",
      "\tPRIMARY KEY (id), \n",
      "\tFOREIGN KEY(interval) REFERENCES \"Intervals\" (id)\n",
      ")\n",
      "\n",
      "\n",
      "2021-07-04 23:51:07,247 INFO sqlalchemy.engine.Engine [no key 0.00096s] ()\n",
      "2021-07-04 23:51:07,252 INFO sqlalchemy.engine.Engine \n",
      "CREATE TABLE \"Intervals\" (\n",
      "\tid INTEGER NOT NULL, \n",
      "\tborehole VARCHAR(32), \n",
      "\tinterval_number INTEGER, \n",
      "\tdescription VARCHAR(32), \n",
      "\ttop_id INTEGER, \n",
      "\tbase_id INTEGER, \n",
      "\tdata_id INTEGER, \n",
      "\tPRIMARY KEY (id), \n",
      "\tFOREIGN KEY(borehole) REFERENCES \"Boreholes\" (id), \n",
      "\tFOREIGN KEY(top_id) REFERENCES \"Positions\" (id), \n",
      "\tFOREIGN KEY(base_id) REFERENCES \"Positions\" (id), \n",
      "\tFOREIGN KEY(data_id) REFERENCES \"IntervalData\" (id)\n",
      ")\n",
      "\n",
      "\n",
      "2021-07-04 23:51:07,253 INFO sqlalchemy.engine.Engine [no key 0.00080s] ()\n",
      "2021-07-04 23:51:07,257 INFO sqlalchemy.engine.Engine \n",
      "CREATE TABLE \"Components\" (\n",
      "\tid INTEGER NOT NULL, \n",
      "\tdescription VARCHAR(32), \n",
      "\tPRIMARY KEY (id)\n",
      ")\n",
      "\n",
      "\n",
      "2021-07-04 23:51:07,258 INFO sqlalchemy.engine.Engine [no key 0.00095s] ()\n",
      "2021-07-04 23:51:07,263 INFO sqlalchemy.engine.Engine \n",
      "CREATE TABLE \"Linkintervalcomponent\" (\n",
      "\tint_id INTEGER NOT NULL, \n",
      "\tcomp_id INTEGER NOT NULL, \n",
      "\textra_data VARCHAR(256), \n",
      "\tPRIMARY KEY (int_id, comp_id), \n",
      "\tFOREIGN KEY(int_id) REFERENCES \"Intervals\" (id), \n",
      "\tFOREIGN KEY(comp_id) REFERENCES \"Components\" (id)\n",
      ")\n",
      "\n",
      "\n",
      "2021-07-04 23:51:07,264 INFO sqlalchemy.engine.Engine [no key 0.00118s] ()\n",
      "2021-07-04 23:51:07,269 INFO sqlalchemy.engine.Engine COMMIT\n"
     ]
    }
   ],
   "source": [
    "Base.metadata.create_all(engine)"
   ]
  },
  {
   "cell_type": "code",
   "execution_count": 15,
   "metadata": {},
   "outputs": [],
   "source": [
    "Session = sessionmaker(bind=engine)\n",
    "session = Session()"
   ]
  },
  {
   "cell_type": "markdown",
   "metadata": {},
   "source": [
    "## Define project legend(s) and default attribute for representation"
   ]
  },
  {
   "cell_type": "code",
   "execution_count": 16,
   "metadata": {},
   "outputs": [
    {
     "name": "stdout",
     "output_type": "stream",
     "text": [
      "2021-07-04 23:51:07,281 INFO sqlalchemy.engine.Engine BEGIN (implicit)\n",
      "2021-07-04 23:51:07,284 INFO sqlalchemy.engine.Engine SELECT \"Boreholes\".id AS \"Boreholes_id\", \"Boreholes\".length AS \"Boreholes_length\", \"Boreholes\".diameter AS \"Boreholes_diameter\" \n",
      "FROM \"Boreholes\"\n",
      "2021-07-04 23:51:07,286 INFO sqlalchemy.engine.Engine [generated in 0.00141s] ()\n"
     ]
    }
   ],
   "source": [
    "p = Project(session, lexicon=lexicon_memoris, repr_attribute='lithology',\n",
    "            legend_dict={'lithology':{'legend':lithology_memoris}, 'pollutant':{'legend':pollutant_memoris}},)"
   ]
  },
  {
   "cell_type": "code",
   "execution_count": 17,
   "metadata": {},
   "outputs": [
    {
     "name": "stdout",
     "output_type": "stream",
     "text": [
      "2021-07-04 23:51:07,292 INFO sqlalchemy.engine.Engine INSERT INTO \"Components\" (id, description) VALUES (?, ?)\n",
      "2021-07-04 23:51:07,293 INFO sqlalchemy.engine.Engine [generated in 0.00127s] ((0, 'Marne, vr'), (1, 'Charbon, vr'), (2, 'Sable, vi'), (3, 'Argile, vs'), (4, 'Dolomie, vr'), (5, 'Sable, vs'), (6, 'Argile, vr'), (7, 'Dolomie, vi')  ... displaying 10 of 17 total bound parameter sets ...  (15, 'Argile, vi'), (16, 'Calcaire'))\n",
      "2021-07-04 23:51:07,294 INFO sqlalchemy.engine.Engine COMMIT\n",
      "2021-07-04 23:51:07,299 INFO sqlalchemy.engine.Engine BEGIN (implicit)\n",
      "2021-07-04 23:51:07,300 INFO sqlalchemy.engine.Engine SELECT \"Boreholes\".id AS \"Boreholes_id\", \"Boreholes\".length AS \"Boreholes_length\", \"Boreholes\".diameter AS \"Boreholes_diameter\" \n",
      "FROM \"Boreholes\"\n",
      "2021-07-04 23:51:07,300 INFO sqlalchemy.engine.Engine [cached since 0.01583s ago] ()\n"
     ]
    }
   ],
   "source": [
    "p.add_components(components)"
   ]
  },
  {
   "cell_type": "markdown",
   "metadata": {},
   "source": [
    "Add boreholes into the project"
   ]
  },
  {
   "cell_type": "code",
   "execution_count": 18,
   "metadata": {
    "scrolled": true
   },
   "outputs": [
    {
     "name": "stdout",
     "output_type": "stream",
     "text": [
      "2021-07-04 23:51:07,307 INFO sqlalchemy.engine.Engine INSERT INTO \"Boreholes\" (id, length, diameter) VALUES (?, ?, ?)\n",
      "2021-07-04 23:51:07,309 INFO sqlalchemy.engine.Engine [generated in 0.00145s] ('BH001', 28.0, 0.43)\n",
      "2021-07-04 23:51:07,311 INFO sqlalchemy.engine.Engine INSERT INTO \"Positions\" (id, upper, middle, lower, x, y) VALUES (?, ?, ?, ?, ?, ?)\n",
      "2021-07-04 23:51:07,312 INFO sqlalchemy.engine.Engine [generated in 0.00070s] ((0, 101.0, 101.0, 101.0, 152600.0, 121039.0), (1, 97.0, 97.0, 97.0, 152600.0, 121039.0), (2, 97.0, 97.0, 97.0, 152600.0, 121039.0), (3, 93.0, 93.0, 93.0, 152600.0, 121039.0), (4, 93.0, 93.0, 93.0, 152600.0, 121039.0), (5, 81.0, 81.0, 81.0, 152600.0, 121039.0), (6, 81.0, 81.0, 81.0, 152600.0, 121039.0), (7, 73.0, 73.0, 73.0, 152600.0, 121039.0))\n",
      "2021-07-04 23:51:07,314 INFO sqlalchemy.engine.Engine INSERT INTO \"Intervals\" (id, borehole, interval_number, description, top_id, base_id, data_id) VALUES (?, ?, ?, ?, ?, ?, ?)\n",
      "2021-07-04 23:51:07,314 INFO sqlalchemy.engine.Engine [generated in 0.00053s] ((0, 'BH001', 0, 'Sable VI', 0, 1, None), (1, 'BH001', 1, 'Argile VS', 2, 3, None), (2, 'BH001', 2, 'Marne VR', 4, 5, None), (3, 'BH001', 3, 'Charbon VR', 6, 7, None))\n",
      "2021-07-04 23:51:07,315 INFO sqlalchemy.engine.Engine COMMIT\n",
      "2021-07-04 23:51:07,319 INFO sqlalchemy.engine.Engine BEGIN (implicit)\n",
      "2021-07-04 23:51:07,319 INFO sqlalchemy.engine.Engine SELECT \"Boreholes\".id AS \"Boreholes_id\", \"Boreholes\".length AS \"Boreholes_length\", \"Boreholes\".diameter AS \"Boreholes_diameter\" \n",
      "FROM \"Boreholes\"\n",
      "2021-07-04 23:51:07,320 INFO sqlalchemy.engine.Engine [cached since 0.03571s ago] ()\n",
      "2021-07-04 23:51:07,326 INFO sqlalchemy.engine.Engine SELECT \"Intervals\".id AS \"Intervals_id\", \"Intervals\".borehole AS \"Intervals_borehole\", \"Intervals\".interval_number AS \"Intervals_interval_number\", \"Intervals\".description AS \"Intervals_description\", \"Intervals\".top_id AS \"Intervals_top_id\", \"Intervals\".base_id AS \"Intervals_base_id\", \"Intervals\".data_id AS \"Intervals_data_id\" \n",
      "FROM \"Intervals\" \n",
      "WHERE ? = \"Intervals\".borehole\n",
      "2021-07-04 23:51:07,326 INFO sqlalchemy.engine.Engine [generated in 0.00078s] ('BH001',)\n",
      "2021-07-04 23:51:07,331 INFO sqlalchemy.engine.Engine SELECT \"Positions\".id AS \"Positions_id\", \"Positions\".upper AS \"Positions_upper\", \"Positions\".middle AS \"Positions_middle\", \"Positions\".lower AS \"Positions_lower\", \"Positions\".x AS \"Positions_x\", \"Positions\".y AS \"Positions_y\" \n",
      "FROM \"Positions\" \n",
      "WHERE \"Positions\".id = ?\n",
      "2021-07-04 23:51:07,331 INFO sqlalchemy.engine.Engine [generated in 0.00077s] (0,)\n",
      "2021-07-04 23:51:07,334 INFO sqlalchemy.engine.Engine SELECT \"Positions\".id AS \"Positions_id\", \"Positions\".upper AS \"Positions_upper\", \"Positions\".middle AS \"Positions_middle\", \"Positions\".lower AS \"Positions_lower\", \"Positions\".x AS \"Positions_x\", \"Positions\".y AS \"Positions_y\" \n",
      "FROM \"Positions\" \n",
      "WHERE \"Positions\".id = ?\n",
      "2021-07-04 23:51:07,335 INFO sqlalchemy.engine.Engine [generated in 0.00090s] (1,)\n",
      "2021-07-04 23:51:07,336 INFO sqlalchemy.engine.Engine SELECT \"Positions\".id AS \"Positions_id\", \"Positions\".upper AS \"Positions_upper\", \"Positions\".middle AS \"Positions_middle\", \"Positions\".lower AS \"Positions_lower\", \"Positions\".x AS \"Positions_x\", \"Positions\".y AS \"Positions_y\" \n",
      "FROM \"Positions\" \n",
      "WHERE \"Positions\".id = ?\n",
      "2021-07-04 23:51:07,337 INFO sqlalchemy.engine.Engine [cached since 0.006028s ago] (2,)\n",
      "2021-07-04 23:51:07,338 INFO sqlalchemy.engine.Engine SELECT \"Positions\".id AS \"Positions_id\", \"Positions\".upper AS \"Positions_upper\", \"Positions\".middle AS \"Positions_middle\", \"Positions\".lower AS \"Positions_lower\", \"Positions\".x AS \"Positions_x\", \"Positions\".y AS \"Positions_y\" \n",
      "FROM \"Positions\" \n",
      "WHERE \"Positions\".id = ?\n",
      "2021-07-04 23:51:07,338 INFO sqlalchemy.engine.Engine [cached since 0.004733s ago] (3,)\n",
      "2021-07-04 23:51:07,340 INFO sqlalchemy.engine.Engine SELECT \"Positions\".id AS \"Positions_id\", \"Positions\".upper AS \"Positions_upper\", \"Positions\".middle AS \"Positions_middle\", \"Positions\".lower AS \"Positions_lower\", \"Positions\".x AS \"Positions_x\", \"Positions\".y AS \"Positions_y\" \n",
      "FROM \"Positions\" \n",
      "WHERE \"Positions\".id = ?\n",
      "2021-07-04 23:51:07,340 INFO sqlalchemy.engine.Engine [cached since 0.009755s ago] (4,)\n",
      "2021-07-04 23:51:07,342 INFO sqlalchemy.engine.Engine SELECT \"Positions\".id AS \"Positions_id\", \"Positions\".upper AS \"Positions_upper\", \"Positions\".middle AS \"Positions_middle\", \"Positions\".lower AS \"Positions_lower\", \"Positions\".x AS \"Positions_x\", \"Positions\".y AS \"Positions_y\" \n",
      "FROM \"Positions\" \n",
      "WHERE \"Positions\".id = ?\n",
      "2021-07-04 23:51:07,342 INFO sqlalchemy.engine.Engine [cached since 0.008317s ago] (5,)\n",
      "2021-07-04 23:51:07,343 INFO sqlalchemy.engine.Engine SELECT \"Positions\".id AS \"Positions_id\", \"Positions\".upper AS \"Positions_upper\", \"Positions\".middle AS \"Positions_middle\", \"Positions\".lower AS \"Positions_lower\", \"Positions\".x AS \"Positions_x\", \"Positions\".y AS \"Positions_y\" \n",
      "FROM \"Positions\" \n",
      "WHERE \"Positions\".id = ?\n",
      "2021-07-04 23:51:07,344 INFO sqlalchemy.engine.Engine [cached since 0.01358s ago] (6,)\n",
      "2021-07-04 23:51:07,346 INFO sqlalchemy.engine.Engine SELECT \"Positions\".id AS \"Positions_id\", \"Positions\".upper AS \"Positions_upper\", \"Positions\".middle AS \"Positions_middle\", \"Positions\".lower AS \"Positions_lower\", \"Positions\".x AS \"Positions_x\", \"Positions\".y AS \"Positions_y\" \n",
      "FROM \"Positions\" \n",
      "WHERE \"Positions\".id = ?\n",
      "2021-07-04 23:51:07,346 INFO sqlalchemy.engine.Engine [cached since 0.01235s ago] (7,)\n",
      "Borehole geometry created successfully !\n",
      "2021-07-04 23:51:07,362 INFO sqlalchemy.engine.Engine UPDATE \"Boreholes\" SET length=? WHERE \"Boreholes\".id = ?\n",
      "2021-07-04 23:51:07,363 INFO sqlalchemy.engine.Engine [generated in 0.00100s] (97.0, 'BH001')\n",
      "2021-07-04 23:51:07,364 INFO sqlalchemy.engine.Engine INSERT INTO \"Boreholes\" (id, length, diameter) VALUES (?, ?, ?)\n",
      "2021-07-04 23:51:07,365 INFO sqlalchemy.engine.Engine [cached since 0.05796s ago] ('BH002', 37.0, 0.6)\n",
      "2021-07-04 23:51:07,367 INFO sqlalchemy.engine.Engine INSERT INTO \"Positions\" (id, upper, middle, lower, x, y) VALUES (?, ?, ?, ?, ?, ?)\n",
      "2021-07-04 23:51:07,367 INFO sqlalchemy.engine.Engine [cached since 0.0561s ago] ((8, 103.0, 103.0, 103.0, 152819.0, 121586.0), (9, 98.0, 98.0, 98.0, 152819.0, 121586.0), (10, 98.0, 98.0, 98.0, 152819.0, 121586.0), (11, 95.0, 95.0, 95.0, 152819.0, 121586.0), (12, 95.0, 95.0, 95.0, 152819.0, 121586.0), (13, 89.0, 89.0, 89.0, 152819.0, 121586.0), (14, 89.0, 89.0, 89.0, 152819.0, 121586.0), (15, 88.0, 88.0, 88.0, 152819.0, 121586.0), (16, 88.0, 88.0, 88.0, 152819.0, 121586.0), (17, 66.0, 66.0, 66.0, 152819.0, 121586.0))\n",
      "2021-07-04 23:51:07,369 INFO sqlalchemy.engine.Engine INSERT INTO \"Intervals\" (id, borehole, interval_number, description, top_id, base_id, data_id) VALUES (?, ?, ?, ?, ?, ?, ?)\n",
      "2021-07-04 23:51:07,369 INFO sqlalchemy.engine.Engine [cached since 0.05566s ago] ((4, 'BH002', 0, 'Sable VS', 8, 9, None), (5, 'BH002', 1, 'Argile VR', 10, 11, None), (6, 'BH002', 2, 'Marne VR', 12, 13, None), (7, 'BH002', 3, 'Charbon VR', 14, 15, None), (8, 'BH002', 4, 'Dolomie VR', 16, 17, None))\n",
      "2021-07-04 23:51:07,370 INFO sqlalchemy.engine.Engine COMMIT\n",
      "2021-07-04 23:51:07,374 INFO sqlalchemy.engine.Engine BEGIN (implicit)\n",
      "2021-07-04 23:51:07,374 INFO sqlalchemy.engine.Engine SELECT \"Boreholes\".id AS \"Boreholes_id\", \"Boreholes\".length AS \"Boreholes_length\", \"Boreholes\".diameter AS \"Boreholes_diameter\" \n",
      "FROM \"Boreholes\"\n",
      "2021-07-04 23:51:07,375 INFO sqlalchemy.engine.Engine [cached since 0.09087s ago] ()\n",
      "2021-07-04 23:51:07,377 INFO sqlalchemy.engine.Engine SELECT \"Intervals\".id AS \"Intervals_id\", \"Intervals\".borehole AS \"Intervals_borehole\", \"Intervals\".interval_number AS \"Intervals_interval_number\", \"Intervals\".description AS \"Intervals_description\", \"Intervals\".top_id AS \"Intervals_top_id\", \"Intervals\".base_id AS \"Intervals_base_id\", \"Intervals\".data_id AS \"Intervals_data_id\" \n",
      "FROM \"Intervals\" \n",
      "WHERE ? = \"Intervals\".borehole\n",
      "2021-07-04 23:51:07,378 INFO sqlalchemy.engine.Engine [cached since 0.05206s ago] ('BH002',)\n",
      "2021-07-04 23:51:07,379 INFO sqlalchemy.engine.Engine SELECT \"Positions\".id AS \"Positions_id\", \"Positions\".upper AS \"Positions_upper\", \"Positions\".middle AS \"Positions_middle\", \"Positions\".lower AS \"Positions_lower\", \"Positions\".x AS \"Positions_x\", \"Positions\".y AS \"Positions_y\" \n",
      "FROM \"Positions\" \n",
      "WHERE \"Positions\".id = ?\n"
     ]
    },
    {
     "name": "stdout",
     "output_type": "stream",
     "text": [
      "2021-07-04 23:51:07,380 INFO sqlalchemy.engine.Engine [cached since 0.04951s ago] (8,)\n",
      "2021-07-04 23:51:07,383 INFO sqlalchemy.engine.Engine SELECT \"Positions\".id AS \"Positions_id\", \"Positions\".upper AS \"Positions_upper\", \"Positions\".middle AS \"Positions_middle\", \"Positions\".lower AS \"Positions_lower\", \"Positions\".x AS \"Positions_x\", \"Positions\".y AS \"Positions_y\" \n",
      "FROM \"Positions\" \n",
      "WHERE \"Positions\".id = ?\n",
      "2021-07-04 23:51:07,383 INFO sqlalchemy.engine.Engine [cached since 0.04977s ago] (9,)\n",
      "2021-07-04 23:51:07,386 INFO sqlalchemy.engine.Engine SELECT \"Positions\".id AS \"Positions_id\", \"Positions\".upper AS \"Positions_upper\", \"Positions\".middle AS \"Positions_middle\", \"Positions\".lower AS \"Positions_lower\", \"Positions\".x AS \"Positions_x\", \"Positions\".y AS \"Positions_y\" \n",
      "FROM \"Positions\" \n",
      "WHERE \"Positions\".id = ?\n",
      "2021-07-04 23:51:07,387 INFO sqlalchemy.engine.Engine [cached since 0.05601s ago] (10,)\n",
      "2021-07-04 23:51:07,389 INFO sqlalchemy.engine.Engine SELECT \"Positions\".id AS \"Positions_id\", \"Positions\".upper AS \"Positions_upper\", \"Positions\".middle AS \"Positions_middle\", \"Positions\".lower AS \"Positions_lower\", \"Positions\".x AS \"Positions_x\", \"Positions\".y AS \"Positions_y\" \n",
      "FROM \"Positions\" \n",
      "WHERE \"Positions\".id = ?\n",
      "2021-07-04 23:51:07,389 INFO sqlalchemy.engine.Engine [cached since 0.05548s ago] (11,)\n",
      "2021-07-04 23:51:07,391 INFO sqlalchemy.engine.Engine SELECT \"Positions\".id AS \"Positions_id\", \"Positions\".upper AS \"Positions_upper\", \"Positions\".middle AS \"Positions_middle\", \"Positions\".lower AS \"Positions_lower\", \"Positions\".x AS \"Positions_x\", \"Positions\".y AS \"Positions_y\" \n",
      "FROM \"Positions\" \n",
      "WHERE \"Positions\".id = ?\n",
      "2021-07-04 23:51:07,392 INFO sqlalchemy.engine.Engine [cached since 0.06113s ago] (12,)\n",
      "2021-07-04 23:51:07,393 INFO sqlalchemy.engine.Engine SELECT \"Positions\".id AS \"Positions_id\", \"Positions\".upper AS \"Positions_upper\", \"Positions\".middle AS \"Positions_middle\", \"Positions\".lower AS \"Positions_lower\", \"Positions\".x AS \"Positions_x\", \"Positions\".y AS \"Positions_y\" \n",
      "FROM \"Positions\" \n",
      "WHERE \"Positions\".id = ?\n",
      "2021-07-04 23:51:07,394 INFO sqlalchemy.engine.Engine [cached since 0.06052s ago] (13,)\n",
      "2021-07-04 23:51:07,396 INFO sqlalchemy.engine.Engine SELECT \"Positions\".id AS \"Positions_id\", \"Positions\".upper AS \"Positions_upper\", \"Positions\".middle AS \"Positions_middle\", \"Positions\".lower AS \"Positions_lower\", \"Positions\".x AS \"Positions_x\", \"Positions\".y AS \"Positions_y\" \n",
      "FROM \"Positions\" \n",
      "WHERE \"Positions\".id = ?\n",
      "2021-07-04 23:51:07,397 INFO sqlalchemy.engine.Engine [cached since 0.06637s ago] (14,)\n",
      "2021-07-04 23:51:07,399 INFO sqlalchemy.engine.Engine SELECT \"Positions\".id AS \"Positions_id\", \"Positions\".upper AS \"Positions_upper\", \"Positions\".middle AS \"Positions_middle\", \"Positions\".lower AS \"Positions_lower\", \"Positions\".x AS \"Positions_x\", \"Positions\".y AS \"Positions_y\" \n",
      "FROM \"Positions\" \n",
      "WHERE \"Positions\".id = ?\n",
      "2021-07-04 23:51:07,399 INFO sqlalchemy.engine.Engine [cached since 0.06577s ago] (15,)\n",
      "2021-07-04 23:51:07,402 INFO sqlalchemy.engine.Engine SELECT \"Positions\".id AS \"Positions_id\", \"Positions\".upper AS \"Positions_upper\", \"Positions\".middle AS \"Positions_middle\", \"Positions\".lower AS \"Positions_lower\", \"Positions\".x AS \"Positions_x\", \"Positions\".y AS \"Positions_y\" \n",
      "FROM \"Positions\" \n",
      "WHERE \"Positions\".id = ?\n",
      "2021-07-04 23:51:07,402 INFO sqlalchemy.engine.Engine [cached since 0.07166s ago] (16,)\n",
      "2021-07-04 23:51:07,404 INFO sqlalchemy.engine.Engine SELECT \"Positions\".id AS \"Positions_id\", \"Positions\".upper AS \"Positions_upper\", \"Positions\".middle AS \"Positions_middle\", \"Positions\".lower AS \"Positions_lower\", \"Positions\".x AS \"Positions_x\", \"Positions\".y AS \"Positions_y\" \n",
      "FROM \"Positions\" \n",
      "WHERE \"Positions\".id = ?\n",
      "2021-07-04 23:51:07,405 INFO sqlalchemy.engine.Engine [cached since 0.07113s ago] (17,)\n",
      "Borehole geometry created successfully !\n",
      "2021-07-04 23:51:07,415 INFO sqlalchemy.engine.Engine UPDATE \"Boreholes\" SET length=? WHERE \"Boreholes\".id = ?\n",
      "2021-07-04 23:51:07,416 INFO sqlalchemy.engine.Engine [cached since 0.05387s ago] (98.0, 'BH002')\n",
      "2021-07-04 23:51:07,418 INFO sqlalchemy.engine.Engine INSERT INTO \"Boreholes\" (id, length, diameter) VALUES (?, ?, ?)\n",
      "2021-07-04 23:51:07,418 INFO sqlalchemy.engine.Engine [cached since 0.1111s ago] ('BH003', 18.0, 0.41)\n",
      "2021-07-04 23:51:07,419 INFO sqlalchemy.engine.Engine INSERT INTO \"Positions\" (id, upper, middle, lower, x, y) VALUES (?, ?, ?, ?, ?, ?)\n",
      "2021-07-04 23:51:07,420 INFO sqlalchemy.engine.Engine [cached since 0.1087s ago] ((18, 103.0, 103.0, 103.0, 152922.0, 121313.0), (19, 100.0, 100.0, 100.0, 152922.0, 121313.0), (20, 100.0, 100.0, 100.0, 152922.0, 121313.0), (21, 97.0, 97.0, 97.0, 152922.0, 121313.0), (22, 97.0, 97.0, 97.0, 152922.0, 121313.0), (23, 94.0, 94.0, 94.0, 152922.0, 121313.0), (24, 94.0, 94.0, 94.0, 152922.0, 121313.0), (25, 90.0, 90.0, 90.0, 152922.0, 121313.0), (26, 90.0, 90.0, 90.0, 152922.0, 121313.0), (27, 85.0, 85.0, 85.0, 152922.0, 121313.0))\n",
      "2021-07-04 23:51:07,421 INFO sqlalchemy.engine.Engine INSERT INTO \"Intervals\" (id, borehole, interval_number, description, top_id, base_id, data_id) VALUES (?, ?, ?, ?, ?, ?, ?)\n",
      "2021-07-04 23:51:07,422 INFO sqlalchemy.engine.Engine [cached since 0.1081s ago] ((9, 'BH003', 0, 'Sable VS', 18, 19, None), (10, 'BH003', 1, 'Argile VS', 20, 21, None), (11, 'BH003', 2, 'Marne VS', 22, 23, None), (12, 'BH003', 3, 'Charbon VR', 24, 25, None), (13, 'BH003', 4, 'Dolomie VI', 26, 27, None))\n",
      "2021-07-04 23:51:07,423 INFO sqlalchemy.engine.Engine COMMIT\n",
      "2021-07-04 23:51:07,428 INFO sqlalchemy.engine.Engine BEGIN (implicit)\n",
      "2021-07-04 23:51:07,429 INFO sqlalchemy.engine.Engine SELECT \"Boreholes\".id AS \"Boreholes_id\", \"Boreholes\".length AS \"Boreholes_length\", \"Boreholes\".diameter AS \"Boreholes_diameter\" \n",
      "FROM \"Boreholes\"\n",
      "2021-07-04 23:51:07,430 INFO sqlalchemy.engine.Engine [cached since 0.1454s ago] ()\n",
      "2021-07-04 23:51:07,432 INFO sqlalchemy.engine.Engine SELECT \"Intervals\".id AS \"Intervals_id\", \"Intervals\".borehole AS \"Intervals_borehole\", \"Intervals\".interval_number AS \"Intervals_interval_number\", \"Intervals\".description AS \"Intervals_description\", \"Intervals\".top_id AS \"Intervals_top_id\", \"Intervals\".base_id AS \"Intervals_base_id\", \"Intervals\".data_id AS \"Intervals_data_id\" \n",
      "FROM \"Intervals\" \n",
      "WHERE ? = \"Intervals\".borehole\n",
      "2021-07-04 23:51:07,433 INFO sqlalchemy.engine.Engine [cached since 0.1072s ago] ('BH003',)\n",
      "2021-07-04 23:51:07,435 INFO sqlalchemy.engine.Engine SELECT \"Positions\".id AS \"Positions_id\", \"Positions\".upper AS \"Positions_upper\", \"Positions\".middle AS \"Positions_middle\", \"Positions\".lower AS \"Positions_lower\", \"Positions\".x AS \"Positions_x\", \"Positions\".y AS \"Positions_y\" \n",
      "FROM \"Positions\" \n",
      "WHERE \"Positions\".id = ?\n",
      "2021-07-04 23:51:07,436 INFO sqlalchemy.engine.Engine [cached since 0.1051s ago] (18,)\n",
      "2021-07-04 23:51:07,437 INFO sqlalchemy.engine.Engine SELECT \"Positions\".id AS \"Positions_id\", \"Positions\".upper AS \"Positions_upper\", \"Positions\".middle AS \"Positions_middle\", \"Positions\".lower AS \"Positions_lower\", \"Positions\".x AS \"Positions_x\", \"Positions\".y AS \"Positions_y\" \n",
      "FROM \"Positions\" \n",
      "WHERE \"Positions\".id = ?\n",
      "2021-07-04 23:51:07,438 INFO sqlalchemy.engine.Engine [cached since 0.1044s ago] (19,)\n",
      "2021-07-04 23:51:07,440 INFO sqlalchemy.engine.Engine SELECT \"Positions\".id AS \"Positions_id\", \"Positions\".upper AS \"Positions_upper\", \"Positions\".middle AS \"Positions_middle\", \"Positions\".lower AS \"Positions_lower\", \"Positions\".x AS \"Positions_x\", \"Positions\".y AS \"Positions_y\" \n",
      "FROM \"Positions\" \n",
      "WHERE \"Positions\".id = ?\n",
      "2021-07-04 23:51:07,440 INFO sqlalchemy.engine.Engine [cached since 0.1094s ago] (20,)\n",
      "2021-07-04 23:51:07,441 INFO sqlalchemy.engine.Engine SELECT \"Positions\".id AS \"Positions_id\", \"Positions\".upper AS \"Positions_upper\", \"Positions\".middle AS \"Positions_middle\", \"Positions\".lower AS \"Positions_lower\", \"Positions\".x AS \"Positions_x\", \"Positions\".y AS \"Positions_y\" \n",
      "FROM \"Positions\" \n",
      "WHERE \"Positions\".id = ?\n",
      "2021-07-04 23:51:07,442 INFO sqlalchemy.engine.Engine [cached since 0.1082s ago] (21,)\n",
      "2021-07-04 23:51:07,443 INFO sqlalchemy.engine.Engine SELECT \"Positions\".id AS \"Positions_id\", \"Positions\".upper AS \"Positions_upper\", \"Positions\".middle AS \"Positions_middle\", \"Positions\".lower AS \"Positions_lower\", \"Positions\".x AS \"Positions_x\", \"Positions\".y AS \"Positions_y\" \n",
      "FROM \"Positions\" \n",
      "WHERE \"Positions\".id = ?\n"
     ]
    },
    {
     "name": "stdout",
     "output_type": "stream",
     "text": [
      "2021-07-04 23:51:07,444 INFO sqlalchemy.engine.Engine [cached since 0.1134s ago] (22,)\n",
      "2021-07-04 23:51:07,445 INFO sqlalchemy.engine.Engine SELECT \"Positions\".id AS \"Positions_id\", \"Positions\".upper AS \"Positions_upper\", \"Positions\".middle AS \"Positions_middle\", \"Positions\".lower AS \"Positions_lower\", \"Positions\".x AS \"Positions_x\", \"Positions\".y AS \"Positions_y\" \n",
      "FROM \"Positions\" \n",
      "WHERE \"Positions\".id = ?\n",
      "2021-07-04 23:51:07,446 INFO sqlalchemy.engine.Engine [cached since 0.1123s ago] (23,)\n",
      "2021-07-04 23:51:07,448 INFO sqlalchemy.engine.Engine SELECT \"Positions\".id AS \"Positions_id\", \"Positions\".upper AS \"Positions_upper\", \"Positions\".middle AS \"Positions_middle\", \"Positions\".lower AS \"Positions_lower\", \"Positions\".x AS \"Positions_x\", \"Positions\".y AS \"Positions_y\" \n",
      "FROM \"Positions\" \n",
      "WHERE \"Positions\".id = ?\n",
      "2021-07-04 23:51:07,448 INFO sqlalchemy.engine.Engine [cached since 0.1176s ago] (24,)\n",
      "2021-07-04 23:51:07,450 INFO sqlalchemy.engine.Engine SELECT \"Positions\".id AS \"Positions_id\", \"Positions\".upper AS \"Positions_upper\", \"Positions\".middle AS \"Positions_middle\", \"Positions\".lower AS \"Positions_lower\", \"Positions\".x AS \"Positions_x\", \"Positions\".y AS \"Positions_y\" \n",
      "FROM \"Positions\" \n",
      "WHERE \"Positions\".id = ?\n",
      "2021-07-04 23:51:07,451 INFO sqlalchemy.engine.Engine [cached since 0.1169s ago] (25,)\n",
      "2021-07-04 23:51:07,453 INFO sqlalchemy.engine.Engine SELECT \"Positions\".id AS \"Positions_id\", \"Positions\".upper AS \"Positions_upper\", \"Positions\".middle AS \"Positions_middle\", \"Positions\".lower AS \"Positions_lower\", \"Positions\".x AS \"Positions_x\", \"Positions\".y AS \"Positions_y\" \n",
      "FROM \"Positions\" \n",
      "WHERE \"Positions\".id = ?\n",
      "2021-07-04 23:51:07,453 INFO sqlalchemy.engine.Engine [cached since 0.1228s ago] (26,)\n",
      "2021-07-04 23:51:07,455 INFO sqlalchemy.engine.Engine SELECT \"Positions\".id AS \"Positions_id\", \"Positions\".upper AS \"Positions_upper\", \"Positions\".middle AS \"Positions_middle\", \"Positions\".lower AS \"Positions_lower\", \"Positions\".x AS \"Positions_x\", \"Positions\".y AS \"Positions_y\" \n",
      "FROM \"Positions\" \n",
      "WHERE \"Positions\".id = ?\n",
      "2021-07-04 23:51:07,456 INFO sqlalchemy.engine.Engine [cached since 0.1219s ago] (27,)\n",
      "Borehole geometry created successfully !\n",
      "2021-07-04 23:51:07,466 INFO sqlalchemy.engine.Engine UPDATE \"Boreholes\" SET length=? WHERE \"Boreholes\".id = ?\n",
      "2021-07-04 23:51:07,467 INFO sqlalchemy.engine.Engine [cached since 0.1047s ago] (100.0, 'BH003')\n",
      "2021-07-04 23:51:07,468 INFO sqlalchemy.engine.Engine INSERT INTO \"Boreholes\" (id, length, diameter) VALUES (?, ?, ?)\n",
      "2021-07-04 23:51:07,468 INFO sqlalchemy.engine.Engine [cached since 0.1614s ago] ('BH004', 26.0, 0.61)\n",
      "2021-07-04 23:51:07,470 INFO sqlalchemy.engine.Engine INSERT INTO \"Positions\" (id, upper, middle, lower, x, y) VALUES (?, ?, ?, ?, ?, ?)\n",
      "2021-07-04 23:51:07,470 INFO sqlalchemy.engine.Engine [cached since 0.1591s ago] ((28, 101.0, 101.0, 101.0, 152766.0, 121494.0), (29, 96.0, 96.0, 96.0, 152766.0, 121494.0), (30, 96.0, 96.0, 96.0, 152766.0, 121494.0), (31, 94.0, 94.0, 94.0, 152766.0, 121494.0), (32, 94.0, 94.0, 94.0, 152766.0, 121494.0), (33, 87.0, 87.0, 87.0, 152766.0, 121494.0), (34, 87.0, 87.0, 87.0, 152766.0, 121494.0), (35, 85.0, 85.0, 85.0, 152766.0, 121494.0), (36, 85.0, 85.0, 85.0, 152766.0, 121494.0), (37, 75.0, 75.0, 75.0, 152766.0, 121494.0))\n",
      "2021-07-04 23:51:07,472 INFO sqlalchemy.engine.Engine INSERT INTO \"Intervals\" (id, borehole, interval_number, description, top_id, base_id, data_id) VALUES (?, ?, ?, ?, ?, ?, ?)\n",
      "2021-07-04 23:51:07,472 INFO sqlalchemy.engine.Engine [cached since 0.1588s ago] ((14, 'BH004', 0, 'Sable VR', 28, 29, None), (15, 'BH004', 1, 'Argile VR', 30, 31, None), (16, 'BH004', 2, 'Marne VS', 32, 33, None), (17, 'BH004', 3, 'Charbon VS', 34, 35, None), (18, 'BH004', 4, 'Dolomie VI', 36, 37, None))\n",
      "2021-07-04 23:51:07,473 INFO sqlalchemy.engine.Engine COMMIT\n",
      "2021-07-04 23:51:07,478 INFO sqlalchemy.engine.Engine BEGIN (implicit)\n",
      "2021-07-04 23:51:07,480 INFO sqlalchemy.engine.Engine SELECT \"Boreholes\".id AS \"Boreholes_id\", \"Boreholes\".length AS \"Boreholes_length\", \"Boreholes\".diameter AS \"Boreholes_diameter\" \n",
      "FROM \"Boreholes\"\n",
      "2021-07-04 23:51:07,480 INFO sqlalchemy.engine.Engine [cached since 0.196s ago] ()\n",
      "2021-07-04 23:51:07,482 INFO sqlalchemy.engine.Engine SELECT \"Intervals\".id AS \"Intervals_id\", \"Intervals\".borehole AS \"Intervals_borehole\", \"Intervals\".interval_number AS \"Intervals_interval_number\", \"Intervals\".description AS \"Intervals_description\", \"Intervals\".top_id AS \"Intervals_top_id\", \"Intervals\".base_id AS \"Intervals_base_id\", \"Intervals\".data_id AS \"Intervals_data_id\" \n",
      "FROM \"Intervals\" \n",
      "WHERE ? = \"Intervals\".borehole\n",
      "2021-07-04 23:51:07,483 INFO sqlalchemy.engine.Engine [cached since 0.1574s ago] ('BH004',)\n",
      "2021-07-04 23:51:07,485 INFO sqlalchemy.engine.Engine SELECT \"Positions\".id AS \"Positions_id\", \"Positions\".upper AS \"Positions_upper\", \"Positions\".middle AS \"Positions_middle\", \"Positions\".lower AS \"Positions_lower\", \"Positions\".x AS \"Positions_x\", \"Positions\".y AS \"Positions_y\" \n",
      "FROM \"Positions\" \n",
      "WHERE \"Positions\".id = ?\n",
      "2021-07-04 23:51:07,485 INFO sqlalchemy.engine.Engine [cached since 0.1545s ago] (28,)\n",
      "2021-07-04 23:51:07,487 INFO sqlalchemy.engine.Engine SELECT \"Positions\".id AS \"Positions_id\", \"Positions\".upper AS \"Positions_upper\", \"Positions\".middle AS \"Positions_middle\", \"Positions\".lower AS \"Positions_lower\", \"Positions\".x AS \"Positions_x\", \"Positions\".y AS \"Positions_y\" \n",
      "FROM \"Positions\" \n",
      "WHERE \"Positions\".id = ?\n",
      "2021-07-04 23:51:07,488 INFO sqlalchemy.engine.Engine [cached since 0.1539s ago] (29,)\n",
      "2021-07-04 23:51:07,489 INFO sqlalchemy.engine.Engine SELECT \"Positions\".id AS \"Positions_id\", \"Positions\".upper AS \"Positions_upper\", \"Positions\".middle AS \"Positions_middle\", \"Positions\".lower AS \"Positions_lower\", \"Positions\".x AS \"Positions_x\", \"Positions\".y AS \"Positions_y\" \n",
      "FROM \"Positions\" \n",
      "WHERE \"Positions\".id = ?\n",
      "2021-07-04 23:51:07,490 INFO sqlalchemy.engine.Engine [cached since 0.1592s ago] (30,)\n",
      "2021-07-04 23:51:07,491 INFO sqlalchemy.engine.Engine SELECT \"Positions\".id AS \"Positions_id\", \"Positions\".upper AS \"Positions_upper\", \"Positions\".middle AS \"Positions_middle\", \"Positions\".lower AS \"Positions_lower\", \"Positions\".x AS \"Positions_x\", \"Positions\".y AS \"Positions_y\" \n",
      "FROM \"Positions\" \n",
      "WHERE \"Positions\".id = ?\n",
      "2021-07-04 23:51:07,492 INFO sqlalchemy.engine.Engine [cached since 0.1582s ago] (31,)\n",
      "2021-07-04 23:51:07,494 INFO sqlalchemy.engine.Engine SELECT \"Positions\".id AS \"Positions_id\", \"Positions\".upper AS \"Positions_upper\", \"Positions\".middle AS \"Positions_middle\", \"Positions\".lower AS \"Positions_lower\", \"Positions\".x AS \"Positions_x\", \"Positions\".y AS \"Positions_y\" \n",
      "FROM \"Positions\" \n",
      "WHERE \"Positions\".id = ?\n",
      "2021-07-04 23:51:07,495 INFO sqlalchemy.engine.Engine [cached since 0.1641s ago] (32,)\n",
      "2021-07-04 23:51:07,496 INFO sqlalchemy.engine.Engine SELECT \"Positions\".id AS \"Positions_id\", \"Positions\".upper AS \"Positions_upper\", \"Positions\".middle AS \"Positions_middle\", \"Positions\".lower AS \"Positions_lower\", \"Positions\".x AS \"Positions_x\", \"Positions\".y AS \"Positions_y\" \n",
      "FROM \"Positions\" \n",
      "WHERE \"Positions\".id = ?\n",
      "2021-07-04 23:51:07,497 INFO sqlalchemy.engine.Engine [cached since 0.163s ago] (33,)\n",
      "2021-07-04 23:51:07,498 INFO sqlalchemy.engine.Engine SELECT \"Positions\".id AS \"Positions_id\", \"Positions\".upper AS \"Positions_upper\", \"Positions\".middle AS \"Positions_middle\", \"Positions\".lower AS \"Positions_lower\", \"Positions\".x AS \"Positions_x\", \"Positions\".y AS \"Positions_y\" \n",
      "FROM \"Positions\" \n",
      "WHERE \"Positions\".id = ?\n",
      "2021-07-04 23:51:07,499 INFO sqlalchemy.engine.Engine [cached since 0.1682s ago] (34,)\n",
      "2021-07-04 23:51:07,500 INFO sqlalchemy.engine.Engine SELECT \"Positions\".id AS \"Positions_id\", \"Positions\".upper AS \"Positions_upper\", \"Positions\".middle AS \"Positions_middle\", \"Positions\".lower AS \"Positions_lower\", \"Positions\".x AS \"Positions_x\", \"Positions\".y AS \"Positions_y\" \n",
      "FROM \"Positions\" \n",
      "WHERE \"Positions\".id = ?\n",
      "2021-07-04 23:51:07,501 INFO sqlalchemy.engine.Engine [cached since 0.1672s ago] (35,)\n",
      "2021-07-04 23:51:07,502 INFO sqlalchemy.engine.Engine SELECT \"Positions\".id AS \"Positions_id\", \"Positions\".upper AS \"Positions_upper\", \"Positions\".middle AS \"Positions_middle\", \"Positions\".lower AS \"Positions_lower\", \"Positions\".x AS \"Positions_x\", \"Positions\".y AS \"Positions_y\" \n",
      "FROM \"Positions\" \n",
      "WHERE \"Positions\".id = ?\n"
     ]
    },
    {
     "name": "stdout",
     "output_type": "stream",
     "text": [
      "2021-07-04 23:51:07,503 INFO sqlalchemy.engine.Engine [cached since 0.1722s ago] (36,)\n",
      "2021-07-04 23:51:07,504 INFO sqlalchemy.engine.Engine SELECT \"Positions\".id AS \"Positions_id\", \"Positions\".upper AS \"Positions_upper\", \"Positions\".middle AS \"Positions_middle\", \"Positions\".lower AS \"Positions_lower\", \"Positions\".x AS \"Positions_x\", \"Positions\".y AS \"Positions_y\" \n",
      "FROM \"Positions\" \n",
      "WHERE \"Positions\".id = ?\n",
      "2021-07-04 23:51:07,505 INFO sqlalchemy.engine.Engine [cached since 0.1712s ago] (37,)\n",
      "Borehole geometry created successfully !\n",
      "2021-07-04 23:51:07,515 INFO sqlalchemy.engine.Engine UPDATE \"Boreholes\" SET length=? WHERE \"Boreholes\".id = ?\n",
      "2021-07-04 23:51:07,516 INFO sqlalchemy.engine.Engine [cached since 0.1541s ago] (96.0, 'BH004')\n",
      "2021-07-04 23:51:07,518 INFO sqlalchemy.engine.Engine INSERT INTO \"Boreholes\" (id, length, diameter) VALUES (?, ?, ?)\n",
      "2021-07-04 23:51:07,518 INFO sqlalchemy.engine.Engine [cached since 0.2113s ago] ('BH005', 32.0, 0.61)\n",
      "2021-07-04 23:51:07,520 INFO sqlalchemy.engine.Engine INSERT INTO \"Positions\" (id, upper, middle, lower, x, y) VALUES (?, ?, ?, ?, ?, ?)\n",
      "2021-07-04 23:51:07,520 INFO sqlalchemy.engine.Engine [cached since 0.209s ago] ((38, 101.0, 101.0, 101.0, 152473.0, 121460.0), (39, 97.0, 97.0, 97.0, 152473.0, 121460.0), (40, 97.0, 97.0, 97.0, 152473.0, 121460.0), (41, 93.0, 93.0, 93.0, 152473.0, 121460.0), (42, 93.0, 93.0, 93.0, 152473.0, 121460.0), (43, 82.0, 82.0, 82.0, 152473.0, 121460.0), (44, 82.0, 82.0, 82.0, 152473.0, 121460.0), (45, 74.0, 74.0, 74.0, 152473.0, 121460.0)  ... displaying 10 of 12 total bound parameter sets ...  (48, 72.0, 72.0, 72.0, 152473.0, 121460.0), (49, 69.0, 69.0, 69.0, 152473.0, 121460.0))\n",
      "2021-07-04 23:51:07,521 INFO sqlalchemy.engine.Engine INSERT INTO \"Intervals\" (id, borehole, interval_number, description, top_id, base_id, data_id) VALUES (?, ?, ?, ?, ?, ?, ?)\n",
      "2021-07-04 23:51:07,522 INFO sqlalchemy.engine.Engine [cached since 0.2083s ago] ((19, 'BH005', 0, 'Sable VR', 38, 39, None), (20, 'BH005', 1, 'Argile VS', 40, 41, None), (21, 'BH005', 2, 'Marne VI', 42, 43, None), (22, 'BH005', 3, 'Charbon VR', 44, 45, None), (23, 'BH005', 4, 'Dolomie VS', 46, 47, None), (24, 'BH005', 5, 'Schiste Cl', 48, 49, None))\n",
      "2021-07-04 23:51:07,523 INFO sqlalchemy.engine.Engine COMMIT\n",
      "2021-07-04 23:51:07,527 INFO sqlalchemy.engine.Engine BEGIN (implicit)\n",
      "2021-07-04 23:51:07,528 INFO sqlalchemy.engine.Engine SELECT \"Boreholes\".id AS \"Boreholes_id\", \"Boreholes\".length AS \"Boreholes_length\", \"Boreholes\".diameter AS \"Boreholes_diameter\" \n",
      "FROM \"Boreholes\"\n",
      "2021-07-04 23:51:07,528 INFO sqlalchemy.engine.Engine [cached since 0.2438s ago] ()\n",
      "2021-07-04 23:51:07,530 INFO sqlalchemy.engine.Engine SELECT \"Intervals\".id AS \"Intervals_id\", \"Intervals\".borehole AS \"Intervals_borehole\", \"Intervals\".interval_number AS \"Intervals_interval_number\", \"Intervals\".description AS \"Intervals_description\", \"Intervals\".top_id AS \"Intervals_top_id\", \"Intervals\".base_id AS \"Intervals_base_id\", \"Intervals\".data_id AS \"Intervals_data_id\" \n",
      "FROM \"Intervals\" \n",
      "WHERE ? = \"Intervals\".borehole\n",
      "2021-07-04 23:51:07,530 INFO sqlalchemy.engine.Engine [cached since 0.2046s ago] ('BH005',)\n",
      "2021-07-04 23:51:07,532 INFO sqlalchemy.engine.Engine SELECT \"Positions\".id AS \"Positions_id\", \"Positions\".upper AS \"Positions_upper\", \"Positions\".middle AS \"Positions_middle\", \"Positions\".lower AS \"Positions_lower\", \"Positions\".x AS \"Positions_x\", \"Positions\".y AS \"Positions_y\" \n",
      "FROM \"Positions\" \n",
      "WHERE \"Positions\".id = ?\n",
      "2021-07-04 23:51:07,532 INFO sqlalchemy.engine.Engine [cached since 0.2014s ago] (38,)\n",
      "2021-07-04 23:51:07,534 INFO sqlalchemy.engine.Engine SELECT \"Positions\".id AS \"Positions_id\", \"Positions\".upper AS \"Positions_upper\", \"Positions\".middle AS \"Positions_middle\", \"Positions\".lower AS \"Positions_lower\", \"Positions\".x AS \"Positions_x\", \"Positions\".y AS \"Positions_y\" \n",
      "FROM \"Positions\" \n",
      "WHERE \"Positions\".id = ?\n",
      "2021-07-04 23:51:07,534 INFO sqlalchemy.engine.Engine [cached since 0.2005s ago] (39,)\n",
      "2021-07-04 23:51:07,536 INFO sqlalchemy.engine.Engine SELECT \"Positions\".id AS \"Positions_id\", \"Positions\".upper AS \"Positions_upper\", \"Positions\".middle AS \"Positions_middle\", \"Positions\".lower AS \"Positions_lower\", \"Positions\".x AS \"Positions_x\", \"Positions\".y AS \"Positions_y\" \n",
      "FROM \"Positions\" \n",
      "WHERE \"Positions\".id = ?\n",
      "2021-07-04 23:51:07,537 INFO sqlalchemy.engine.Engine [cached since 0.206s ago] (40,)\n",
      "2021-07-04 23:51:07,538 INFO sqlalchemy.engine.Engine SELECT \"Positions\".id AS \"Positions_id\", \"Positions\".upper AS \"Positions_upper\", \"Positions\".middle AS \"Positions_middle\", \"Positions\".lower AS \"Positions_lower\", \"Positions\".x AS \"Positions_x\", \"Positions\".y AS \"Positions_y\" \n",
      "FROM \"Positions\" \n",
      "WHERE \"Positions\".id = ?\n",
      "2021-07-04 23:51:07,539 INFO sqlalchemy.engine.Engine [cached since 0.2049s ago] (41,)\n",
      "2021-07-04 23:51:07,540 INFO sqlalchemy.engine.Engine SELECT \"Positions\".id AS \"Positions_id\", \"Positions\".upper AS \"Positions_upper\", \"Positions\".middle AS \"Positions_middle\", \"Positions\".lower AS \"Positions_lower\", \"Positions\".x AS \"Positions_x\", \"Positions\".y AS \"Positions_y\" \n",
      "FROM \"Positions\" \n",
      "WHERE \"Positions\".id = ?\n",
      "2021-07-04 23:51:07,541 INFO sqlalchemy.engine.Engine [cached since 0.21s ago] (42,)\n",
      "2021-07-04 23:51:07,542 INFO sqlalchemy.engine.Engine SELECT \"Positions\".id AS \"Positions_id\", \"Positions\".upper AS \"Positions_upper\", \"Positions\".middle AS \"Positions_middle\", \"Positions\".lower AS \"Positions_lower\", \"Positions\".x AS \"Positions_x\", \"Positions\".y AS \"Positions_y\" \n",
      "FROM \"Positions\" \n",
      "WHERE \"Positions\".id = ?\n",
      "2021-07-04 23:51:07,543 INFO sqlalchemy.engine.Engine [cached since 0.2093s ago] (43,)\n",
      "2021-07-04 23:51:07,544 INFO sqlalchemy.engine.Engine SELECT \"Positions\".id AS \"Positions_id\", \"Positions\".upper AS \"Positions_upper\", \"Positions\".middle AS \"Positions_middle\", \"Positions\".lower AS \"Positions_lower\", \"Positions\".x AS \"Positions_x\", \"Positions\".y AS \"Positions_y\" \n",
      "FROM \"Positions\" \n",
      "WHERE \"Positions\".id = ?\n",
      "2021-07-04 23:51:07,545 INFO sqlalchemy.engine.Engine [cached since 0.2144s ago] (44,)\n",
      "2021-07-04 23:51:07,547 INFO sqlalchemy.engine.Engine SELECT \"Positions\".id AS \"Positions_id\", \"Positions\".upper AS \"Positions_upper\", \"Positions\".middle AS \"Positions_middle\", \"Positions\".lower AS \"Positions_lower\", \"Positions\".x AS \"Positions_x\", \"Positions\".y AS \"Positions_y\" \n",
      "FROM \"Positions\" \n",
      "WHERE \"Positions\".id = ?\n",
      "2021-07-04 23:51:07,547 INFO sqlalchemy.engine.Engine [cached since 0.2135s ago] (45,)\n",
      "2021-07-04 23:51:07,549 INFO sqlalchemy.engine.Engine SELECT \"Positions\".id AS \"Positions_id\", \"Positions\".upper AS \"Positions_upper\", \"Positions\".middle AS \"Positions_middle\", \"Positions\".lower AS \"Positions_lower\", \"Positions\".x AS \"Positions_x\", \"Positions\".y AS \"Positions_y\" \n",
      "FROM \"Positions\" \n",
      "WHERE \"Positions\".id = ?\n",
      "2021-07-04 23:51:07,550 INFO sqlalchemy.engine.Engine [cached since 0.2192s ago] (46,)\n",
      "2021-07-04 23:51:07,551 INFO sqlalchemy.engine.Engine SELECT \"Positions\".id AS \"Positions_id\", \"Positions\".upper AS \"Positions_upper\", \"Positions\".middle AS \"Positions_middle\", \"Positions\".lower AS \"Positions_lower\", \"Positions\".x AS \"Positions_x\", \"Positions\".y AS \"Positions_y\" \n",
      "FROM \"Positions\" \n",
      "WHERE \"Positions\".id = ?\n",
      "2021-07-04 23:51:07,552 INFO sqlalchemy.engine.Engine [cached since 0.2186s ago] (47,)\n",
      "2021-07-04 23:51:07,554 INFO sqlalchemy.engine.Engine SELECT \"Positions\".id AS \"Positions_id\", \"Positions\".upper AS \"Positions_upper\", \"Positions\".middle AS \"Positions_middle\", \"Positions\".lower AS \"Positions_lower\", \"Positions\".x AS \"Positions_x\", \"Positions\".y AS \"Positions_y\" \n",
      "FROM \"Positions\" \n",
      "WHERE \"Positions\".id = ?\n",
      "2021-07-04 23:51:07,555 INFO sqlalchemy.engine.Engine [cached since 0.2244s ago] (48,)\n",
      "2021-07-04 23:51:07,557 INFO sqlalchemy.engine.Engine SELECT \"Positions\".id AS \"Positions_id\", \"Positions\".upper AS \"Positions_upper\", \"Positions\".middle AS \"Positions_middle\", \"Positions\".lower AS \"Positions_lower\", \"Positions\".x AS \"Positions_x\", \"Positions\".y AS \"Positions_y\" \n",
      "FROM \"Positions\" \n",
      "WHERE \"Positions\".id = ?\n",
      "2021-07-04 23:51:07,558 INFO sqlalchemy.engine.Engine [cached since 0.2238s ago] (49,)\n",
      "Borehole geometry created successfully !\n",
      "2021-07-04 23:51:07,569 INFO sqlalchemy.engine.Engine UPDATE \"Boreholes\" SET length=? WHERE \"Boreholes\".id = ?\n"
     ]
    },
    {
     "name": "stdout",
     "output_type": "stream",
     "text": [
      "2021-07-04 23:51:07,570 INFO sqlalchemy.engine.Engine [cached since 0.2078s ago] (97.0, 'BH005')\n",
      "2021-07-04 23:51:07,571 INFO sqlalchemy.engine.Engine INSERT INTO \"Boreholes\" (id, length, diameter) VALUES (?, ?, ?)\n",
      "2021-07-04 23:51:07,572 INFO sqlalchemy.engine.Engine [cached since 0.2647s ago] ('BH006', 26.0, 0.31)\n",
      "2021-07-04 23:51:07,573 INFO sqlalchemy.engine.Engine INSERT INTO \"Positions\" (id, upper, middle, lower, x, y) VALUES (?, ?, ?, ?, ?, ?)\n",
      "2021-07-04 23:51:07,574 INFO sqlalchemy.engine.Engine [cached since 0.2626s ago] ((50, 101.0, 101.0, 101.0, 152375.0, 121002.0), (51, 100.0, 100.0, 100.0, 152375.0, 121002.0), (52, 100.0, 100.0, 100.0, 152375.0, 121002.0), (53, 98.0, 98.0, 98.0, 152375.0, 121002.0), (54, 98.0, 98.0, 98.0, 152375.0, 121002.0), (55, 92.0, 92.0, 92.0, 152375.0, 121002.0), (56, 92.0, 92.0, 92.0, 152375.0, 121002.0), (57, 86.0, 86.0, 86.0, 152375.0, 121002.0), (58, 86.0, 86.0, 86.0, 152375.0, 121002.0), (59, 75.0, 75.0, 75.0, 152375.0, 121002.0))\n",
      "2021-07-04 23:51:07,575 INFO sqlalchemy.engine.Engine INSERT INTO \"Intervals\" (id, borehole, interval_number, description, top_id, base_id, data_id) VALUES (?, ?, ?, ?, ?, ?, ?)\n",
      "2021-07-04 23:51:07,576 INFO sqlalchemy.engine.Engine [cached since 0.2625s ago] ((25, 'BH006', 0, 'Sable VR', 50, 51, None), (26, 'BH006', 1, 'Argile VI', 52, 53, None), (27, 'BH006', 2, 'Marne VS', 54, 55, None), (28, 'BH006', 3, 'Charbon VI', 56, 57, None), (29, 'BH006', 4, 'Dolomie VS', 58, 59, None))\n",
      "2021-07-04 23:51:07,577 INFO sqlalchemy.engine.Engine COMMIT\n",
      "2021-07-04 23:51:07,581 INFO sqlalchemy.engine.Engine BEGIN (implicit)\n",
      "2021-07-04 23:51:07,582 INFO sqlalchemy.engine.Engine SELECT \"Boreholes\".id AS \"Boreholes_id\", \"Boreholes\".length AS \"Boreholes_length\", \"Boreholes\".diameter AS \"Boreholes_diameter\" \n",
      "FROM \"Boreholes\"\n",
      "2021-07-04 23:51:07,582 INFO sqlalchemy.engine.Engine [cached since 0.2982s ago] ()\n",
      "2021-07-04 23:51:07,584 INFO sqlalchemy.engine.Engine SELECT \"Intervals\".id AS \"Intervals_id\", \"Intervals\".borehole AS \"Intervals_borehole\", \"Intervals\".interval_number AS \"Intervals_interval_number\", \"Intervals\".description AS \"Intervals_description\", \"Intervals\".top_id AS \"Intervals_top_id\", \"Intervals\".base_id AS \"Intervals_base_id\", \"Intervals\".data_id AS \"Intervals_data_id\" \n",
      "FROM \"Intervals\" \n",
      "WHERE ? = \"Intervals\".borehole\n",
      "2021-07-04 23:51:07,585 INFO sqlalchemy.engine.Engine [cached since 0.2593s ago] ('BH006',)\n",
      "2021-07-04 23:51:07,586 INFO sqlalchemy.engine.Engine SELECT \"Positions\".id AS \"Positions_id\", \"Positions\".upper AS \"Positions_upper\", \"Positions\".middle AS \"Positions_middle\", \"Positions\".lower AS \"Positions_lower\", \"Positions\".x AS \"Positions_x\", \"Positions\".y AS \"Positions_y\" \n",
      "FROM \"Positions\" \n",
      "WHERE \"Positions\".id = ?\n",
      "2021-07-04 23:51:07,587 INFO sqlalchemy.engine.Engine [cached since 0.2567s ago] (50,)\n",
      "2021-07-04 23:51:07,590 INFO sqlalchemy.engine.Engine SELECT \"Positions\".id AS \"Positions_id\", \"Positions\".upper AS \"Positions_upper\", \"Positions\".middle AS \"Positions_middle\", \"Positions\".lower AS \"Positions_lower\", \"Positions\".x AS \"Positions_x\", \"Positions\".y AS \"Positions_y\" \n",
      "FROM \"Positions\" \n",
      "WHERE \"Positions\".id = ?\n",
      "2021-07-04 23:51:07,590 INFO sqlalchemy.engine.Engine [cached since 0.2565s ago] (51,)\n",
      "2021-07-04 23:51:07,592 INFO sqlalchemy.engine.Engine SELECT \"Positions\".id AS \"Positions_id\", \"Positions\".upper AS \"Positions_upper\", \"Positions\".middle AS \"Positions_middle\", \"Positions\".lower AS \"Positions_lower\", \"Positions\".x AS \"Positions_x\", \"Positions\".y AS \"Positions_y\" \n",
      "FROM \"Positions\" \n",
      "WHERE \"Positions\".id = ?\n",
      "2021-07-04 23:51:07,593 INFO sqlalchemy.engine.Engine [cached since 0.2621s ago] (52,)\n",
      "2021-07-04 23:51:07,594 INFO sqlalchemy.engine.Engine SELECT \"Positions\".id AS \"Positions_id\", \"Positions\".upper AS \"Positions_upper\", \"Positions\".middle AS \"Positions_middle\", \"Positions\".lower AS \"Positions_lower\", \"Positions\".x AS \"Positions_x\", \"Positions\".y AS \"Positions_y\" \n",
      "FROM \"Positions\" \n",
      "WHERE \"Positions\".id = ?\n",
      "2021-07-04 23:51:07,595 INFO sqlalchemy.engine.Engine [cached since 0.2611s ago] (53,)\n",
      "2021-07-04 23:51:07,596 INFO sqlalchemy.engine.Engine SELECT \"Positions\".id AS \"Positions_id\", \"Positions\".upper AS \"Positions_upper\", \"Positions\".middle AS \"Positions_middle\", \"Positions\".lower AS \"Positions_lower\", \"Positions\".x AS \"Positions_x\", \"Positions\".y AS \"Positions_y\" \n",
      "FROM \"Positions\" \n",
      "WHERE \"Positions\".id = ?\n",
      "2021-07-04 23:51:07,597 INFO sqlalchemy.engine.Engine [cached since 0.2661s ago] (54,)\n",
      "2021-07-04 23:51:07,598 INFO sqlalchemy.engine.Engine SELECT \"Positions\".id AS \"Positions_id\", \"Positions\".upper AS \"Positions_upper\", \"Positions\".middle AS \"Positions_middle\", \"Positions\".lower AS \"Positions_lower\", \"Positions\".x AS \"Positions_x\", \"Positions\".y AS \"Positions_y\" \n",
      "FROM \"Positions\" \n",
      "WHERE \"Positions\".id = ?\n",
      "2021-07-04 23:51:07,599 INFO sqlalchemy.engine.Engine [cached since 0.2651s ago] (55,)\n",
      "2021-07-04 23:51:07,600 INFO sqlalchemy.engine.Engine SELECT \"Positions\".id AS \"Positions_id\", \"Positions\".upper AS \"Positions_upper\", \"Positions\".middle AS \"Positions_middle\", \"Positions\".lower AS \"Positions_lower\", \"Positions\".x AS \"Positions_x\", \"Positions\".y AS \"Positions_y\" \n",
      "FROM \"Positions\" \n",
      "WHERE \"Positions\".id = ?\n",
      "2021-07-04 23:51:07,601 INFO sqlalchemy.engine.Engine [cached since 0.2702s ago] (56,)\n",
      "2021-07-04 23:51:07,602 INFO sqlalchemy.engine.Engine SELECT \"Positions\".id AS \"Positions_id\", \"Positions\".upper AS \"Positions_upper\", \"Positions\".middle AS \"Positions_middle\", \"Positions\".lower AS \"Positions_lower\", \"Positions\".x AS \"Positions_x\", \"Positions\".y AS \"Positions_y\" \n",
      "FROM \"Positions\" \n",
      "WHERE \"Positions\".id = ?\n",
      "2021-07-04 23:51:07,603 INFO sqlalchemy.engine.Engine [cached since 0.2693s ago] (57,)\n",
      "2021-07-04 23:51:07,605 INFO sqlalchemy.engine.Engine SELECT \"Positions\".id AS \"Positions_id\", \"Positions\".upper AS \"Positions_upper\", \"Positions\".middle AS \"Positions_middle\", \"Positions\".lower AS \"Positions_lower\", \"Positions\".x AS \"Positions_x\", \"Positions\".y AS \"Positions_y\" \n",
      "FROM \"Positions\" \n",
      "WHERE \"Positions\".id = ?\n",
      "2021-07-04 23:51:07,605 INFO sqlalchemy.engine.Engine [cached since 0.2746s ago] (58,)\n",
      "2021-07-04 23:51:07,607 INFO sqlalchemy.engine.Engine SELECT \"Positions\".id AS \"Positions_id\", \"Positions\".upper AS \"Positions_upper\", \"Positions\".middle AS \"Positions_middle\", \"Positions\".lower AS \"Positions_lower\", \"Positions\".x AS \"Positions_x\", \"Positions\".y AS \"Positions_y\" \n",
      "FROM \"Positions\" \n",
      "WHERE \"Positions\".id = ?\n",
      "2021-07-04 23:51:07,607 INFO sqlalchemy.engine.Engine [cached since 0.2736s ago] (59,)\n",
      "Borehole geometry created successfully !\n",
      "2021-07-04 23:51:07,618 INFO sqlalchemy.engine.Engine UPDATE \"Boreholes\" SET length=? WHERE \"Boreholes\".id = ?\n",
      "2021-07-04 23:51:07,619 INFO sqlalchemy.engine.Engine [cached since 0.2564s ago] (100.0, 'BH006')\n",
      "2021-07-04 23:51:07,620 INFO sqlalchemy.engine.Engine INSERT INTO \"Boreholes\" (id, length, diameter) VALUES (?, ?, ?)\n",
      "2021-07-04 23:51:07,621 INFO sqlalchemy.engine.Engine [cached since 0.3138s ago] ('BH007', 45.0, 0.57)\n",
      "2021-07-04 23:51:07,623 INFO sqlalchemy.engine.Engine INSERT INTO \"Positions\" (id, upper, middle, lower, x, y) VALUES (?, ?, ?, ?, ?, ?)\n",
      "2021-07-04 23:51:07,624 INFO sqlalchemy.engine.Engine [cached since 0.3125s ago] ((60, 101.0, 101.0, 101.0, 152794.0, 121111.0), (61, 97.0, 97.0, 97.0, 152794.0, 121111.0), (62, 97.0, 97.0, 97.0, 152794.0, 121111.0), (63, 93.0, 93.0, 93.0, 152794.0, 121111.0), (64, 93.0, 93.0, 93.0, 152794.0, 121111.0), (65, 83.0, 83.0, 83.0, 152794.0, 121111.0), (66, 83.0, 83.0, 83.0, 152794.0, 121111.0), (67, 82.0, 82.0, 82.0, 152794.0, 121111.0)  ... displaying 10 of 12 total bound parameter sets ...  (70, 60.0, 60.0, 60.0, 152794.0, 121111.0), (71, 56.0, 56.0, 56.0, 152794.0, 121111.0))\n",
      "2021-07-04 23:51:07,625 INFO sqlalchemy.engine.Engine INSERT INTO \"Intervals\" (id, borehole, interval_number, description, top_id, base_id, data_id) VALUES (?, ?, ?, ?, ?, ?, ?)\n",
      "2021-07-04 23:51:07,626 INFO sqlalchemy.engine.Engine [cached since 0.3126s ago] ((30, 'BH007', 0, 'Sable VI', 60, 61, None), (31, 'BH007', 1, 'Argile VS', 62, 63, None), (32, 'BH007', 2, 'Marne VS', 64, 65, None), (33, 'BH007', 3, 'Charbon VS', 66, 67, None), (34, 'BH007', 4, 'Dolomie VR', 68, 69, None), (35, 'BH007', 5, 'Calcaire Cl', 70, 71, None))\n"
     ]
    },
    {
     "name": "stdout",
     "output_type": "stream",
     "text": [
      "2021-07-04 23:51:07,628 INFO sqlalchemy.engine.Engine COMMIT\n",
      "2021-07-04 23:51:07,632 INFO sqlalchemy.engine.Engine BEGIN (implicit)\n",
      "2021-07-04 23:51:07,633 INFO sqlalchemy.engine.Engine SELECT \"Boreholes\".id AS \"Boreholes_id\", \"Boreholes\".length AS \"Boreholes_length\", \"Boreholes\".diameter AS \"Boreholes_diameter\" \n",
      "FROM \"Boreholes\"\n",
      "2021-07-04 23:51:07,633 INFO sqlalchemy.engine.Engine [cached since 0.3488s ago] ()\n",
      "2021-07-04 23:51:07,636 INFO sqlalchemy.engine.Engine SELECT \"Intervals\".id AS \"Intervals_id\", \"Intervals\".borehole AS \"Intervals_borehole\", \"Intervals\".interval_number AS \"Intervals_interval_number\", \"Intervals\".description AS \"Intervals_description\", \"Intervals\".top_id AS \"Intervals_top_id\", \"Intervals\".base_id AS \"Intervals_base_id\", \"Intervals\".data_id AS \"Intervals_data_id\" \n",
      "FROM \"Intervals\" \n",
      "WHERE ? = \"Intervals\".borehole\n",
      "2021-07-04 23:51:07,636 INFO sqlalchemy.engine.Engine [cached since 0.3108s ago] ('BH007',)\n",
      "2021-07-04 23:51:07,638 INFO sqlalchemy.engine.Engine SELECT \"Positions\".id AS \"Positions_id\", \"Positions\".upper AS \"Positions_upper\", \"Positions\".middle AS \"Positions_middle\", \"Positions\".lower AS \"Positions_lower\", \"Positions\".x AS \"Positions_x\", \"Positions\".y AS \"Positions_y\" \n",
      "FROM \"Positions\" \n",
      "WHERE \"Positions\".id = ?\n",
      "2021-07-04 23:51:07,639 INFO sqlalchemy.engine.Engine [cached since 0.3084s ago] (60,)\n",
      "2021-07-04 23:51:07,641 INFO sqlalchemy.engine.Engine SELECT \"Positions\".id AS \"Positions_id\", \"Positions\".upper AS \"Positions_upper\", \"Positions\".middle AS \"Positions_middle\", \"Positions\".lower AS \"Positions_lower\", \"Positions\".x AS \"Positions_x\", \"Positions\".y AS \"Positions_y\" \n",
      "FROM \"Positions\" \n",
      "WHERE \"Positions\".id = ?\n",
      "2021-07-04 23:51:07,641 INFO sqlalchemy.engine.Engine [cached since 0.3077s ago] (61,)\n",
      "2021-07-04 23:51:07,643 INFO sqlalchemy.engine.Engine SELECT \"Positions\".id AS \"Positions_id\", \"Positions\".upper AS \"Positions_upper\", \"Positions\".middle AS \"Positions_middle\", \"Positions\".lower AS \"Positions_lower\", \"Positions\".x AS \"Positions_x\", \"Positions\".y AS \"Positions_y\" \n",
      "FROM \"Positions\" \n",
      "WHERE \"Positions\".id = ?\n",
      "2021-07-04 23:51:07,644 INFO sqlalchemy.engine.Engine [cached since 0.313s ago] (62,)\n",
      "2021-07-04 23:51:07,645 INFO sqlalchemy.engine.Engine SELECT \"Positions\".id AS \"Positions_id\", \"Positions\".upper AS \"Positions_upper\", \"Positions\".middle AS \"Positions_middle\", \"Positions\".lower AS \"Positions_lower\", \"Positions\".x AS \"Positions_x\", \"Positions\".y AS \"Positions_y\" \n",
      "FROM \"Positions\" \n",
      "WHERE \"Positions\".id = ?\n",
      "2021-07-04 23:51:07,645 INFO sqlalchemy.engine.Engine [cached since 0.3116s ago] (63,)\n",
      "2021-07-04 23:51:07,646 INFO sqlalchemy.engine.Engine SELECT \"Positions\".id AS \"Positions_id\", \"Positions\".upper AS \"Positions_upper\", \"Positions\".middle AS \"Positions_middle\", \"Positions\".lower AS \"Positions_lower\", \"Positions\".x AS \"Positions_x\", \"Positions\".y AS \"Positions_y\" \n",
      "FROM \"Positions\" \n",
      "WHERE \"Positions\".id = ?\n",
      "2021-07-04 23:51:07,647 INFO sqlalchemy.engine.Engine [cached since 0.3165s ago] (64,)\n",
      "2021-07-04 23:51:07,648 INFO sqlalchemy.engine.Engine SELECT \"Positions\".id AS \"Positions_id\", \"Positions\".upper AS \"Positions_upper\", \"Positions\".middle AS \"Positions_middle\", \"Positions\".lower AS \"Positions_lower\", \"Positions\".x AS \"Positions_x\", \"Positions\".y AS \"Positions_y\" \n",
      "FROM \"Positions\" \n",
      "WHERE \"Positions\".id = ?\n",
      "2021-07-04 23:51:07,649 INFO sqlalchemy.engine.Engine [cached since 0.3149s ago] (65,)\n",
      "2021-07-04 23:51:07,650 INFO sqlalchemy.engine.Engine SELECT \"Positions\".id AS \"Positions_id\", \"Positions\".upper AS \"Positions_upper\", \"Positions\".middle AS \"Positions_middle\", \"Positions\".lower AS \"Positions_lower\", \"Positions\".x AS \"Positions_x\", \"Positions\".y AS \"Positions_y\" \n",
      "FROM \"Positions\" \n",
      "WHERE \"Positions\".id = ?\n",
      "2021-07-04 23:51:07,650 INFO sqlalchemy.engine.Engine [cached since 0.3197s ago] (66,)\n",
      "2021-07-04 23:51:07,652 INFO sqlalchemy.engine.Engine SELECT \"Positions\".id AS \"Positions_id\", \"Positions\".upper AS \"Positions_upper\", \"Positions\".middle AS \"Positions_middle\", \"Positions\".lower AS \"Positions_lower\", \"Positions\".x AS \"Positions_x\", \"Positions\".y AS \"Positions_y\" \n",
      "FROM \"Positions\" \n",
      "WHERE \"Positions\".id = ?\n",
      "2021-07-04 23:51:07,653 INFO sqlalchemy.engine.Engine [cached since 0.319s ago] (67,)\n",
      "2021-07-04 23:51:07,654 INFO sqlalchemy.engine.Engine SELECT \"Positions\".id AS \"Positions_id\", \"Positions\".upper AS \"Positions_upper\", \"Positions\".middle AS \"Positions_middle\", \"Positions\".lower AS \"Positions_lower\", \"Positions\".x AS \"Positions_x\", \"Positions\".y AS \"Positions_y\" \n",
      "FROM \"Positions\" \n",
      "WHERE \"Positions\".id = ?\n",
      "2021-07-04 23:51:07,654 INFO sqlalchemy.engine.Engine [cached since 0.3237s ago] (68,)\n",
      "2021-07-04 23:51:07,656 INFO sqlalchemy.engine.Engine SELECT \"Positions\".id AS \"Positions_id\", \"Positions\".upper AS \"Positions_upper\", \"Positions\".middle AS \"Positions_middle\", \"Positions\".lower AS \"Positions_lower\", \"Positions\".x AS \"Positions_x\", \"Positions\".y AS \"Positions_y\" \n",
      "FROM \"Positions\" \n",
      "WHERE \"Positions\".id = ?\n",
      "2021-07-04 23:51:07,657 INFO sqlalchemy.engine.Engine [cached since 0.323s ago] (69,)\n",
      "2021-07-04 23:51:07,658 INFO sqlalchemy.engine.Engine SELECT \"Positions\".id AS \"Positions_id\", \"Positions\".upper AS \"Positions_upper\", \"Positions\".middle AS \"Positions_middle\", \"Positions\".lower AS \"Positions_lower\", \"Positions\".x AS \"Positions_x\", \"Positions\".y AS \"Positions_y\" \n",
      "FROM \"Positions\" \n",
      "WHERE \"Positions\".id = ?\n",
      "2021-07-04 23:51:07,659 INFO sqlalchemy.engine.Engine [cached since 0.3283s ago] (70,)\n",
      "2021-07-04 23:51:07,661 INFO sqlalchemy.engine.Engine SELECT \"Positions\".id AS \"Positions_id\", \"Positions\".upper AS \"Positions_upper\", \"Positions\".middle AS \"Positions_middle\", \"Positions\".lower AS \"Positions_lower\", \"Positions\".x AS \"Positions_x\", \"Positions\".y AS \"Positions_y\" \n",
      "FROM \"Positions\" \n",
      "WHERE \"Positions\".id = ?\n",
      "2021-07-04 23:51:07,661 INFO sqlalchemy.engine.Engine [cached since 0.3277s ago] (71,)\n",
      "Borehole geometry created successfully !\n",
      "2021-07-04 23:51:07,675 INFO sqlalchemy.engine.Engine UPDATE \"Boreholes\" SET length=? WHERE \"Boreholes\".id = ?\n",
      "2021-07-04 23:51:07,676 INFO sqlalchemy.engine.Engine [cached since 0.3135s ago] (97.0, 'BH007')\n",
      "2021-07-04 23:51:07,677 INFO sqlalchemy.engine.Engine INSERT INTO \"Boreholes\" (id, length, diameter) VALUES (?, ?, ?)\n",
      "2021-07-04 23:51:07,678 INFO sqlalchemy.engine.Engine [cached since 0.3705s ago] ('BH008', 35.0, 0.39)\n",
      "2021-07-04 23:51:07,679 INFO sqlalchemy.engine.Engine INSERT INTO \"Positions\" (id, upper, middle, lower, x, y) VALUES (?, ?, ?, ?, ?, ?)\n",
      "2021-07-04 23:51:07,680 INFO sqlalchemy.engine.Engine [cached since 0.369s ago] ((72, 101.0, 101.0, 101.0, 152150.0, 121579.0), (73, 98.0, 98.0, 98.0, 152150.0, 121579.0), (74, 98.0, 98.0, 98.0, 152150.0, 121579.0), (75, 97.0, 97.0, 97.0, 152150.0, 121579.0), (76, 97.0, 97.0, 97.0, 152150.0, 121579.0), (77, 91.0, 91.0, 91.0, 152150.0, 121579.0), (78, 91.0, 91.0, 91.0, 152150.0, 121579.0), (79, 86.0, 86.0, 86.0, 152150.0, 121579.0), (80, 86.0, 86.0, 86.0, 152150.0, 121579.0), (81, 66.0, 66.0, 66.0, 152150.0, 121579.0))\n",
      "2021-07-04 23:51:07,682 INFO sqlalchemy.engine.Engine INSERT INTO \"Intervals\" (id, borehole, interval_number, description, top_id, base_id, data_id) VALUES (?, ?, ?, ?, ?, ?, ?)\n",
      "2021-07-04 23:51:07,684 INFO sqlalchemy.engine.Engine [cached since 0.3703s ago] ((36, 'BH008', 0, 'Sable VR', 72, 73, None), (37, 'BH008', 1, 'Argile VI', 74, 75, None), (38, 'BH008', 2, 'Marne VI', 76, 77, None), (39, 'BH008', 3, 'Charbon VI', 78, 79, None), (40, 'BH008', 4, 'Dolomie VS', 80, 81, None))\n",
      "2021-07-04 23:51:07,686 INFO sqlalchemy.engine.Engine COMMIT\n",
      "2021-07-04 23:51:07,690 INFO sqlalchemy.engine.Engine BEGIN (implicit)\n",
      "2021-07-04 23:51:07,691 INFO sqlalchemy.engine.Engine SELECT \"Boreholes\".id AS \"Boreholes_id\", \"Boreholes\".length AS \"Boreholes_length\", \"Boreholes\".diameter AS \"Boreholes_diameter\" \n",
      "FROM \"Boreholes\"\n",
      "2021-07-04 23:51:07,692 INFO sqlalchemy.engine.Engine [cached since 0.4073s ago] ()\n",
      "2021-07-04 23:51:07,693 INFO sqlalchemy.engine.Engine SELECT \"Intervals\".id AS \"Intervals_id\", \"Intervals\".borehole AS \"Intervals_borehole\", \"Intervals\".interval_number AS \"Intervals_interval_number\", \"Intervals\".description AS \"Intervals_description\", \"Intervals\".top_id AS \"Intervals_top_id\", \"Intervals\".base_id AS \"Intervals_base_id\", \"Intervals\".data_id AS \"Intervals_data_id\" \n",
      "FROM \"Intervals\" \n",
      "WHERE ? = \"Intervals\".borehole\n"
     ]
    },
    {
     "name": "stdout",
     "output_type": "stream",
     "text": [
      "2021-07-04 23:51:07,693 INFO sqlalchemy.engine.Engine [cached since 0.3679s ago] ('BH008',)\n",
      "2021-07-04 23:51:07,695 INFO sqlalchemy.engine.Engine SELECT \"Positions\".id AS \"Positions_id\", \"Positions\".upper AS \"Positions_upper\", \"Positions\".middle AS \"Positions_middle\", \"Positions\".lower AS \"Positions_lower\", \"Positions\".x AS \"Positions_x\", \"Positions\".y AS \"Positions_y\" \n",
      "FROM \"Positions\" \n",
      "WHERE \"Positions\".id = ?\n",
      "2021-07-04 23:51:07,696 INFO sqlalchemy.engine.Engine [cached since 0.3652s ago] (72,)\n",
      "2021-07-04 23:51:07,698 INFO sqlalchemy.engine.Engine SELECT \"Positions\".id AS \"Positions_id\", \"Positions\".upper AS \"Positions_upper\", \"Positions\".middle AS \"Positions_middle\", \"Positions\".lower AS \"Positions_lower\", \"Positions\".x AS \"Positions_x\", \"Positions\".y AS \"Positions_y\" \n",
      "FROM \"Positions\" \n",
      "WHERE \"Positions\".id = ?\n",
      "2021-07-04 23:51:07,699 INFO sqlalchemy.engine.Engine [cached since 0.3649s ago] (73,)\n",
      "2021-07-04 23:51:07,700 INFO sqlalchemy.engine.Engine SELECT \"Positions\".id AS \"Positions_id\", \"Positions\".upper AS \"Positions_upper\", \"Positions\".middle AS \"Positions_middle\", \"Positions\".lower AS \"Positions_lower\", \"Positions\".x AS \"Positions_x\", \"Positions\".y AS \"Positions_y\" \n",
      "FROM \"Positions\" \n",
      "WHERE \"Positions\".id = ?\n",
      "2021-07-04 23:51:07,701 INFO sqlalchemy.engine.Engine [cached since 0.37s ago] (74,)\n",
      "2021-07-04 23:51:07,702 INFO sqlalchemy.engine.Engine SELECT \"Positions\".id AS \"Positions_id\", \"Positions\".upper AS \"Positions_upper\", \"Positions\".middle AS \"Positions_middle\", \"Positions\".lower AS \"Positions_lower\", \"Positions\".x AS \"Positions_x\", \"Positions\".y AS \"Positions_y\" \n",
      "FROM \"Positions\" \n",
      "WHERE \"Positions\".id = ?\n",
      "2021-07-04 23:51:07,703 INFO sqlalchemy.engine.Engine [cached since 0.3691s ago] (75,)\n",
      "2021-07-04 23:51:07,704 INFO sqlalchemy.engine.Engine SELECT \"Positions\".id AS \"Positions_id\", \"Positions\".upper AS \"Positions_upper\", \"Positions\".middle AS \"Positions_middle\", \"Positions\".lower AS \"Positions_lower\", \"Positions\".x AS \"Positions_x\", \"Positions\".y AS \"Positions_y\" \n",
      "FROM \"Positions\" \n",
      "WHERE \"Positions\".id = ?\n",
      "2021-07-04 23:51:07,705 INFO sqlalchemy.engine.Engine [cached since 0.3742s ago] (76,)\n",
      "2021-07-04 23:51:07,706 INFO sqlalchemy.engine.Engine SELECT \"Positions\".id AS \"Positions_id\", \"Positions\".upper AS \"Positions_upper\", \"Positions\".middle AS \"Positions_middle\", \"Positions\".lower AS \"Positions_lower\", \"Positions\".x AS \"Positions_x\", \"Positions\".y AS \"Positions_y\" \n",
      "FROM \"Positions\" \n",
      "WHERE \"Positions\".id = ?\n",
      "2021-07-04 23:51:07,707 INFO sqlalchemy.engine.Engine [cached since 0.3729s ago] (77,)\n",
      "2021-07-04 23:51:07,709 INFO sqlalchemy.engine.Engine SELECT \"Positions\".id AS \"Positions_id\", \"Positions\".upper AS \"Positions_upper\", \"Positions\".middle AS \"Positions_middle\", \"Positions\".lower AS \"Positions_lower\", \"Positions\".x AS \"Positions_x\", \"Positions\".y AS \"Positions_y\" \n",
      "FROM \"Positions\" \n",
      "WHERE \"Positions\".id = ?\n",
      "2021-07-04 23:51:07,710 INFO sqlalchemy.engine.Engine [cached since 0.3789s ago] (78,)\n",
      "2021-07-04 23:51:07,711 INFO sqlalchemy.engine.Engine SELECT \"Positions\".id AS \"Positions_id\", \"Positions\".upper AS \"Positions_upper\", \"Positions\".middle AS \"Positions_middle\", \"Positions\".lower AS \"Positions_lower\", \"Positions\".x AS \"Positions_x\", \"Positions\".y AS \"Positions_y\" \n",
      "FROM \"Positions\" \n",
      "WHERE \"Positions\".id = ?\n",
      "2021-07-04 23:51:07,712 INFO sqlalchemy.engine.Engine [cached since 0.3783s ago] (79,)\n",
      "2021-07-04 23:51:07,714 INFO sqlalchemy.engine.Engine SELECT \"Positions\".id AS \"Positions_id\", \"Positions\".upper AS \"Positions_upper\", \"Positions\".middle AS \"Positions_middle\", \"Positions\".lower AS \"Positions_lower\", \"Positions\".x AS \"Positions_x\", \"Positions\".y AS \"Positions_y\" \n",
      "FROM \"Positions\" \n",
      "WHERE \"Positions\".id = ?\n",
      "2021-07-04 23:51:07,715 INFO sqlalchemy.engine.Engine [cached since 0.3842s ago] (80,)\n",
      "2021-07-04 23:51:07,716 INFO sqlalchemy.engine.Engine SELECT \"Positions\".id AS \"Positions_id\", \"Positions\".upper AS \"Positions_upper\", \"Positions\".middle AS \"Positions_middle\", \"Positions\".lower AS \"Positions_lower\", \"Positions\".x AS \"Positions_x\", \"Positions\".y AS \"Positions_y\" \n",
      "FROM \"Positions\" \n",
      "WHERE \"Positions\".id = ?\n",
      "2021-07-04 23:51:07,717 INFO sqlalchemy.engine.Engine [cached since 0.3833s ago] (81,)\n",
      "Borehole geometry created successfully !\n",
      "2021-07-04 23:51:07,726 INFO sqlalchemy.engine.Engine UPDATE \"Boreholes\" SET length=? WHERE \"Boreholes\".id = ?\n",
      "2021-07-04 23:51:07,726 INFO sqlalchemy.engine.Engine [cached since 0.3643s ago] (98.0, 'BH008')\n",
      "2021-07-04 23:51:07,728 INFO sqlalchemy.engine.Engine INSERT INTO \"Boreholes\" (id, length, diameter) VALUES (?, ?, ?)\n",
      "2021-07-04 23:51:07,728 INFO sqlalchemy.engine.Engine [cached since 0.4211s ago] ('BH009', 40.0, 0.5)\n",
      "2021-07-04 23:51:07,729 INFO sqlalchemy.engine.Engine INSERT INTO \"Positions\" (id, upper, middle, lower, x, y) VALUES (?, ?, ?, ?, ?, ?)\n",
      "2021-07-04 23:51:07,730 INFO sqlalchemy.engine.Engine [cached since 0.4186s ago] ((82, 100.0, 100.0, 100.0, 152052.0, 121293.0), (83, 94.0, 94.0, 94.0, 152052.0, 121293.0), (84, 94.0, 94.0, 94.0, 152052.0, 121293.0), (85, 92.0, 92.0, 92.0, 152052.0, 121293.0), (86, 92.0, 92.0, 92.0, 152052.0, 121293.0), (87, 82.0, 82.0, 82.0, 152052.0, 121293.0), (88, 82.0, 82.0, 82.0, 152052.0, 121293.0), (89, 78.0, 78.0, 78.0, 152052.0, 121293.0), (90, 78.0, 78.0, 78.0, 152052.0, 121293.0), (91, 60.0, 60.0, 60.0, 152052.0, 121293.0))\n",
      "2021-07-04 23:51:07,731 INFO sqlalchemy.engine.Engine INSERT INTO \"Intervals\" (id, borehole, interval_number, description, top_id, base_id, data_id) VALUES (?, ?, ?, ?, ?, ?, ?)\n",
      "2021-07-04 23:51:07,732 INFO sqlalchemy.engine.Engine [cached since 0.4181s ago] ((41, 'BH009', 0, 'Sable VS', 82, 83, None), (42, 'BH009', 1, 'Argile VR', 84, 85, None), (43, 'BH009', 2, 'Marne VI', 86, 87, None), (44, 'BH009', 3, 'Charbon VI', 88, 89, None), (45, 'BH009', 4, 'Dolomie VS', 90, 91, None))\n",
      "2021-07-04 23:51:07,733 INFO sqlalchemy.engine.Engine COMMIT\n",
      "2021-07-04 23:51:07,737 INFO sqlalchemy.engine.Engine BEGIN (implicit)\n",
      "2021-07-04 23:51:07,738 INFO sqlalchemy.engine.Engine SELECT \"Boreholes\".id AS \"Boreholes_id\", \"Boreholes\".length AS \"Boreholes_length\", \"Boreholes\".diameter AS \"Boreholes_diameter\" \n",
      "FROM \"Boreholes\"\n",
      "2021-07-04 23:51:07,738 INFO sqlalchemy.engine.Engine [cached since 0.4538s ago] ()\n",
      "2021-07-04 23:51:07,740 INFO sqlalchemy.engine.Engine SELECT \"Intervals\".id AS \"Intervals_id\", \"Intervals\".borehole AS \"Intervals_borehole\", \"Intervals\".interval_number AS \"Intervals_interval_number\", \"Intervals\".description AS \"Intervals_description\", \"Intervals\".top_id AS \"Intervals_top_id\", \"Intervals\".base_id AS \"Intervals_base_id\", \"Intervals\".data_id AS \"Intervals_data_id\" \n",
      "FROM \"Intervals\" \n",
      "WHERE ? = \"Intervals\".borehole\n",
      "2021-07-04 23:51:07,741 INFO sqlalchemy.engine.Engine [cached since 0.4154s ago] ('BH009',)\n",
      "2021-07-04 23:51:07,743 INFO sqlalchemy.engine.Engine SELECT \"Positions\".id AS \"Positions_id\", \"Positions\".upper AS \"Positions_upper\", \"Positions\".middle AS \"Positions_middle\", \"Positions\".lower AS \"Positions_lower\", \"Positions\".x AS \"Positions_x\", \"Positions\".y AS \"Positions_y\" \n",
      "FROM \"Positions\" \n",
      "WHERE \"Positions\".id = ?\n",
      "2021-07-04 23:51:07,744 INFO sqlalchemy.engine.Engine [cached since 0.413s ago] (82,)\n",
      "2021-07-04 23:51:07,746 INFO sqlalchemy.engine.Engine SELECT \"Positions\".id AS \"Positions_id\", \"Positions\".upper AS \"Positions_upper\", \"Positions\".middle AS \"Positions_middle\", \"Positions\".lower AS \"Positions_lower\", \"Positions\".x AS \"Positions_x\", \"Positions\".y AS \"Positions_y\" \n",
      "FROM \"Positions\" \n",
      "WHERE \"Positions\".id = ?\n",
      "2021-07-04 23:51:07,746 INFO sqlalchemy.engine.Engine [cached since 0.4126s ago] (83,)\n",
      "2021-07-04 23:51:07,748 INFO sqlalchemy.engine.Engine SELECT \"Positions\".id AS \"Positions_id\", \"Positions\".upper AS \"Positions_upper\", \"Positions\".middle AS \"Positions_middle\", \"Positions\".lower AS \"Positions_lower\", \"Positions\".x AS \"Positions_x\", \"Positions\".y AS \"Positions_y\" \n",
      "FROM \"Positions\" \n",
      "WHERE \"Positions\".id = ?\n",
      "2021-07-04 23:51:07,749 INFO sqlalchemy.engine.Engine [cached since 0.4184s ago] (84,)\n",
      "2021-07-04 23:51:07,750 INFO sqlalchemy.engine.Engine SELECT \"Positions\".id AS \"Positions_id\", \"Positions\".upper AS \"Positions_upper\", \"Positions\".middle AS \"Positions_middle\", \"Positions\".lower AS \"Positions_lower\", \"Positions\".x AS \"Positions_x\", \"Positions\".y AS \"Positions_y\" \n",
      "FROM \"Positions\" \n",
      "WHERE \"Positions\".id = ?\n"
     ]
    },
    {
     "name": "stdout",
     "output_type": "stream",
     "text": [
      "2021-07-04 23:51:07,751 INFO sqlalchemy.engine.Engine [cached since 0.4175s ago] (85,)\n",
      "2021-07-04 23:51:07,753 INFO sqlalchemy.engine.Engine SELECT \"Positions\".id AS \"Positions_id\", \"Positions\".upper AS \"Positions_upper\", \"Positions\".middle AS \"Positions_middle\", \"Positions\".lower AS \"Positions_lower\", \"Positions\".x AS \"Positions_x\", \"Positions\".y AS \"Positions_y\" \n",
      "FROM \"Positions\" \n",
      "WHERE \"Positions\".id = ?\n",
      "2021-07-04 23:51:07,754 INFO sqlalchemy.engine.Engine [cached since 0.4236s ago] (86,)\n",
      "2021-07-04 23:51:07,756 INFO sqlalchemy.engine.Engine SELECT \"Positions\".id AS \"Positions_id\", \"Positions\".upper AS \"Positions_upper\", \"Positions\".middle AS \"Positions_middle\", \"Positions\".lower AS \"Positions_lower\", \"Positions\".x AS \"Positions_x\", \"Positions\".y AS \"Positions_y\" \n",
      "FROM \"Positions\" \n",
      "WHERE \"Positions\".id = ?\n",
      "2021-07-04 23:51:07,756 INFO sqlalchemy.engine.Engine [cached since 0.4227s ago] (87,)\n",
      "2021-07-04 23:51:07,758 INFO sqlalchemy.engine.Engine SELECT \"Positions\".id AS \"Positions_id\", \"Positions\".upper AS \"Positions_upper\", \"Positions\".middle AS \"Positions_middle\", \"Positions\".lower AS \"Positions_lower\", \"Positions\".x AS \"Positions_x\", \"Positions\".y AS \"Positions_y\" \n",
      "FROM \"Positions\" \n",
      "WHERE \"Positions\".id = ?\n",
      "2021-07-04 23:51:07,759 INFO sqlalchemy.engine.Engine [cached since 0.4288s ago] (88,)\n",
      "2021-07-04 23:51:07,761 INFO sqlalchemy.engine.Engine SELECT \"Positions\".id AS \"Positions_id\", \"Positions\".upper AS \"Positions_upper\", \"Positions\".middle AS \"Positions_middle\", \"Positions\".lower AS \"Positions_lower\", \"Positions\".x AS \"Positions_x\", \"Positions\".y AS \"Positions_y\" \n",
      "FROM \"Positions\" \n",
      "WHERE \"Positions\".id = ?\n",
      "2021-07-04 23:51:07,762 INFO sqlalchemy.engine.Engine [cached since 0.4284s ago] (89,)\n",
      "2021-07-04 23:51:07,765 INFO sqlalchemy.engine.Engine SELECT \"Positions\".id AS \"Positions_id\", \"Positions\".upper AS \"Positions_upper\", \"Positions\".middle AS \"Positions_middle\", \"Positions\".lower AS \"Positions_lower\", \"Positions\".x AS \"Positions_x\", \"Positions\".y AS \"Positions_y\" \n",
      "FROM \"Positions\" \n",
      "WHERE \"Positions\".id = ?\n",
      "2021-07-04 23:51:07,766 INFO sqlalchemy.engine.Engine [cached since 0.4349s ago] (90,)\n",
      "2021-07-04 23:51:07,767 INFO sqlalchemy.engine.Engine SELECT \"Positions\".id AS \"Positions_id\", \"Positions\".upper AS \"Positions_upper\", \"Positions\".middle AS \"Positions_middle\", \"Positions\".lower AS \"Positions_lower\", \"Positions\".x AS \"Positions_x\", \"Positions\".y AS \"Positions_y\" \n",
      "FROM \"Positions\" \n",
      "WHERE \"Positions\".id = ?\n",
      "2021-07-04 23:51:07,768 INFO sqlalchemy.engine.Engine [cached since 0.4344s ago] (91,)\n",
      "Borehole geometry created successfully !\n",
      "2021-07-04 23:51:07,778 INFO sqlalchemy.engine.Engine UPDATE \"Boreholes\" SET length=? WHERE \"Boreholes\".id = ?\n",
      "2021-07-04 23:51:07,779 INFO sqlalchemy.engine.Engine [cached since 0.4167s ago] (94.0, 'BH009')\n",
      "2021-07-04 23:51:07,780 INFO sqlalchemy.engine.Engine INSERT INTO \"Boreholes\" (id, length, diameter) VALUES (?, ?, ?)\n",
      "2021-07-04 23:51:07,781 INFO sqlalchemy.engine.Engine [cached since 0.4736s ago] ('BH10', 14.0, 0.31)\n",
      "2021-07-04 23:51:07,782 INFO sqlalchemy.engine.Engine INSERT INTO \"Positions\" (id, upper, middle, lower, x, y) VALUES (?, ?, ?, ?, ?, ?)\n",
      "2021-07-04 23:51:07,783 INFO sqlalchemy.engine.Engine [cached since 0.4715s ago] ((92, 100.0, 100.0, 100.0, 152315.0, 121754.0), (93, 95.0, 95.0, 95.0, 152315.0, 121754.0), (94, 95.0, 95.0, 95.0, 152315.0, 121754.0), (95, 91.0, 91.0, 91.0, 152315.0, 121754.0), (96, 91.0, 91.0, 91.0, 152315.0, 121754.0), (97, 89.0, 89.0, 89.0, 152315.0, 121754.0), (98, 89.0, 89.0, 89.0, 152315.0, 121754.0), (99, 86.0, 86.0, 86.0, 152315.0, 121754.0))\n",
      "2021-07-04 23:51:07,784 INFO sqlalchemy.engine.Engine INSERT INTO \"Intervals\" (id, borehole, interval_number, description, top_id, base_id, data_id) VALUES (?, ?, ?, ?, ?, ?, ?)\n",
      "2021-07-04 23:51:07,785 INFO sqlalchemy.engine.Engine [cached since 0.4713s ago] ((46, 'BH10', 0, 'Sable VR', 92, 93, None), (47, 'BH10', 1, 'Argile VR', 94, 95, None), (48, 'BH10', 2, 'Marne VS', 96, 97, None), (49, 'BH10', 3, 'Charbon VI', 98, 99, None))\n",
      "2021-07-04 23:51:07,786 INFO sqlalchemy.engine.Engine COMMIT\n",
      "2021-07-04 23:51:07,790 INFO sqlalchemy.engine.Engine BEGIN (implicit)\n",
      "2021-07-04 23:51:07,791 INFO sqlalchemy.engine.Engine SELECT \"Boreholes\".id AS \"Boreholes_id\", \"Boreholes\".length AS \"Boreholes_length\", \"Boreholes\".diameter AS \"Boreholes_diameter\" \n",
      "FROM \"Boreholes\"\n",
      "2021-07-04 23:51:07,792 INFO sqlalchemy.engine.Engine [cached since 0.5075s ago] ()\n",
      "2021-07-04 23:51:07,794 INFO sqlalchemy.engine.Engine SELECT \"Intervals\".id AS \"Intervals_id\", \"Intervals\".borehole AS \"Intervals_borehole\", \"Intervals\".interval_number AS \"Intervals_interval_number\", \"Intervals\".description AS \"Intervals_description\", \"Intervals\".top_id AS \"Intervals_top_id\", \"Intervals\".base_id AS \"Intervals_base_id\", \"Intervals\".data_id AS \"Intervals_data_id\" \n",
      "FROM \"Intervals\" \n",
      "WHERE ? = \"Intervals\".borehole\n",
      "2021-07-04 23:51:07,795 INFO sqlalchemy.engine.Engine [cached since 0.4695s ago] ('BH10',)\n",
      "2021-07-04 23:51:07,797 INFO sqlalchemy.engine.Engine SELECT \"Positions\".id AS \"Positions_id\", \"Positions\".upper AS \"Positions_upper\", \"Positions\".middle AS \"Positions_middle\", \"Positions\".lower AS \"Positions_lower\", \"Positions\".x AS \"Positions_x\", \"Positions\".y AS \"Positions_y\" \n",
      "FROM \"Positions\" \n",
      "WHERE \"Positions\".id = ?\n",
      "2021-07-04 23:51:07,798 INFO sqlalchemy.engine.Engine [cached since 0.4674s ago] (92,)\n",
      "2021-07-04 23:51:07,800 INFO sqlalchemy.engine.Engine SELECT \"Positions\".id AS \"Positions_id\", \"Positions\".upper AS \"Positions_upper\", \"Positions\".middle AS \"Positions_middle\", \"Positions\".lower AS \"Positions_lower\", \"Positions\".x AS \"Positions_x\", \"Positions\".y AS \"Positions_y\" \n",
      "FROM \"Positions\" \n",
      "WHERE \"Positions\".id = ?\n",
      "2021-07-04 23:51:07,801 INFO sqlalchemy.engine.Engine [cached since 0.4671s ago] (93,)\n",
      "2021-07-04 23:51:07,803 INFO sqlalchemy.engine.Engine SELECT \"Positions\".id AS \"Positions_id\", \"Positions\".upper AS \"Positions_upper\", \"Positions\".middle AS \"Positions_middle\", \"Positions\".lower AS \"Positions_lower\", \"Positions\".x AS \"Positions_x\", \"Positions\".y AS \"Positions_y\" \n",
      "FROM \"Positions\" \n",
      "WHERE \"Positions\".id = ?\n",
      "2021-07-04 23:51:07,804 INFO sqlalchemy.engine.Engine [cached since 0.4729s ago] (94,)\n",
      "2021-07-04 23:51:07,805 INFO sqlalchemy.engine.Engine SELECT \"Positions\".id AS \"Positions_id\", \"Positions\".upper AS \"Positions_upper\", \"Positions\".middle AS \"Positions_middle\", \"Positions\".lower AS \"Positions_lower\", \"Positions\".x AS \"Positions_x\", \"Positions\".y AS \"Positions_y\" \n",
      "FROM \"Positions\" \n",
      "WHERE \"Positions\".id = ?\n",
      "2021-07-04 23:51:07,806 INFO sqlalchemy.engine.Engine [cached since 0.4724s ago] (95,)\n",
      "2021-07-04 23:51:07,808 INFO sqlalchemy.engine.Engine SELECT \"Positions\".id AS \"Positions_id\", \"Positions\".upper AS \"Positions_upper\", \"Positions\".middle AS \"Positions_middle\", \"Positions\".lower AS \"Positions_lower\", \"Positions\".x AS \"Positions_x\", \"Positions\".y AS \"Positions_y\" \n",
      "FROM \"Positions\" \n",
      "WHERE \"Positions\".id = ?\n",
      "2021-07-04 23:51:07,808 INFO sqlalchemy.engine.Engine [cached since 0.4776s ago] (96,)\n",
      "2021-07-04 23:51:07,810 INFO sqlalchemy.engine.Engine SELECT \"Positions\".id AS \"Positions_id\", \"Positions\".upper AS \"Positions_upper\", \"Positions\".middle AS \"Positions_middle\", \"Positions\".lower AS \"Positions_lower\", \"Positions\".x AS \"Positions_x\", \"Positions\".y AS \"Positions_y\" \n",
      "FROM \"Positions\" \n",
      "WHERE \"Positions\".id = ?\n",
      "2021-07-04 23:51:07,810 INFO sqlalchemy.engine.Engine [cached since 0.4767s ago] (97,)\n",
      "2021-07-04 23:51:07,812 INFO sqlalchemy.engine.Engine SELECT \"Positions\".id AS \"Positions_id\", \"Positions\".upper AS \"Positions_upper\", \"Positions\".middle AS \"Positions_middle\", \"Positions\".lower AS \"Positions_lower\", \"Positions\".x AS \"Positions_x\", \"Positions\".y AS \"Positions_y\" \n",
      "FROM \"Positions\" \n",
      "WHERE \"Positions\".id = ?\n",
      "2021-07-04 23:51:07,813 INFO sqlalchemy.engine.Engine [cached since 0.4822s ago] (98,)\n",
      "2021-07-04 23:51:07,814 INFO sqlalchemy.engine.Engine SELECT \"Positions\".id AS \"Positions_id\", \"Positions\".upper AS \"Positions_upper\", \"Positions\".middle AS \"Positions_middle\", \"Positions\".lower AS \"Positions_lower\", \"Positions\".x AS \"Positions_x\", \"Positions\".y AS \"Positions_y\" \n",
      "FROM \"Positions\" \n",
      "WHERE \"Positions\".id = ?\n",
      "2021-07-04 23:51:07,815 INFO sqlalchemy.engine.Engine [cached since 0.4812s ago] (99,)\n"
     ]
    },
    {
     "name": "stdout",
     "output_type": "stream",
     "text": [
      "Borehole geometry created successfully !\n"
     ]
    }
   ],
   "source": [
    "for bh in boreholes:\n",
    "    p.add_borehole(bh)"
   ]
  },
  {
   "cell_type": "code",
   "execution_count": 19,
   "metadata": {},
   "outputs": [
    {
     "name": "stdout",
     "output_type": "stream",
     "text": [
      "2021-07-04 23:51:07,832 INFO sqlalchemy.engine.Engine UPDATE \"Boreholes\" SET length=? WHERE \"Boreholes\".id = ?\n",
      "2021-07-04 23:51:07,833 INFO sqlalchemy.engine.Engine [cached since 0.4707s ago] (95.0, 'BH10')\n",
      "2021-07-04 23:51:07,835 INFO sqlalchemy.engine.Engine INSERT INTO \"Linkintervalcomponent\" (int_id, comp_id, extra_data) VALUES (?, ?, ?)\n",
      "2021-07-04 23:51:07,836 INFO sqlalchemy.engine.Engine [generated in 0.00078s] ((0, 2, ''), (1, 3, ''), (2, 0, ''), (3, 1, ''), (4, 5, ''), (5, 6, ''), (6, 0, ''), (7, 1, '')  ... displaying 10 of 50 total bound parameter sets ...  (48, 8, ''), (49, 14, ''))\n",
      "2021-07-04 23:51:07,838 INFO sqlalchemy.engine.Engine COMMIT\n",
      "2021-07-04 23:51:07,842 INFO sqlalchemy.engine.Engine BEGIN (implicit)\n",
      "2021-07-04 23:51:07,842 INFO sqlalchemy.engine.Engine SELECT \"Boreholes\".id AS \"Boreholes_id\", \"Boreholes\".length AS \"Boreholes_length\", \"Boreholes\".diameter AS \"Boreholes_diameter\" \n",
      "FROM \"Boreholes\"\n",
      "2021-07-04 23:51:07,843 INFO sqlalchemy.engine.Engine [cached since 0.5591s ago] ()\n"
     ]
    }
   ],
   "source": [
    "p.add_link_between_components_and_intervals(link_intv_comp)"
   ]
  },
  {
   "cell_type": "code",
   "execution_count": 20,
   "metadata": {},
   "outputs": [
    {
     "name": "stdout",
     "output_type": "stream",
     "text": [
      "2021-07-04 23:51:07,849 INFO sqlalchemy.engine.Engine COMMIT\n",
      "Boreholes in the project :  10\n"
     ]
    }
   ],
   "source": [
    "p.commit()\n",
    "print('Boreholes in the project : ', len(p.boreholes))"
   ]
  },
  {
   "cell_type": "code",
   "execution_count": 21,
   "metadata": {},
   "outputs": [
    {
     "name": "stdout",
     "output_type": "stream",
     "text": [
      "2021-07-04 23:51:07,855 INFO sqlalchemy.engine.Engine BEGIN (implicit)\n",
      "2021-07-04 23:51:07,857 INFO sqlalchemy.engine.Engine SELECT \"Boreholes\".id AS \"Boreholes_id\", \"Boreholes\".length AS \"Boreholes_length\", \"Boreholes\".diameter AS \"Boreholes_diameter\" \n",
      "FROM \"Boreholes\" \n",
      "WHERE \"Boreholes\".id = ?\n",
      "2021-07-04 23:51:07,858 INFO sqlalchemy.engine.Engine [generated in 0.00070s] ('BH001',)\n",
      "2021-07-04 23:51:07,860 INFO sqlalchemy.engine.Engine SELECT \"Intervals\".id AS \"Intervals_id\", \"Intervals\".borehole AS \"Intervals_borehole\", \"Intervals\".interval_number AS \"Intervals_interval_number\", \"Intervals\".description AS \"Intervals_description\", \"Intervals\".top_id AS \"Intervals_top_id\", \"Intervals\".base_id AS \"Intervals_base_id\", \"Intervals\".data_id AS \"Intervals_data_id\" \n",
      "FROM \"Intervals\" \n",
      "WHERE ? = \"Intervals\".borehole\n",
      "2021-07-04 23:51:07,861 INFO sqlalchemy.engine.Engine [cached since 0.5359s ago] ('BH001',)\n",
      "2021-07-04 23:51:07,863 INFO sqlalchemy.engine.Engine SELECT \"Boreholes\".id AS \"Boreholes_id\", \"Boreholes\".length AS \"Boreholes_length\", \"Boreholes\".diameter AS \"Boreholes_diameter\" \n",
      "FROM \"Boreholes\" \n",
      "WHERE \"Boreholes\".id = ?\n",
      "2021-07-04 23:51:07,864 INFO sqlalchemy.engine.Engine [cached since 0.007138s ago] ('BH002',)\n",
      "2021-07-04 23:51:07,866 INFO sqlalchemy.engine.Engine SELECT \"Intervals\".id AS \"Intervals_id\", \"Intervals\".borehole AS \"Intervals_borehole\", \"Intervals\".interval_number AS \"Intervals_interval_number\", \"Intervals\".description AS \"Intervals_description\", \"Intervals\".top_id AS \"Intervals_top_id\", \"Intervals\".base_id AS \"Intervals_base_id\", \"Intervals\".data_id AS \"Intervals_data_id\" \n",
      "FROM \"Intervals\" \n",
      "WHERE ? = \"Intervals\".borehole\n",
      "2021-07-04 23:51:07,866 INFO sqlalchemy.engine.Engine [cached since 0.541s ago] ('BH002',)\n",
      "2021-07-04 23:51:07,868 INFO sqlalchemy.engine.Engine SELECT \"Boreholes\".id AS \"Boreholes_id\", \"Boreholes\".length AS \"Boreholes_length\", \"Boreholes\".diameter AS \"Boreholes_diameter\" \n",
      "FROM \"Boreholes\" \n",
      "WHERE \"Boreholes\".id = ?\n",
      "2021-07-04 23:51:07,869 INFO sqlalchemy.engine.Engine [cached since 0.01168s ago] ('BH003',)\n",
      "2021-07-04 23:51:07,870 INFO sqlalchemy.engine.Engine SELECT \"Intervals\".id AS \"Intervals_id\", \"Intervals\".borehole AS \"Intervals_borehole\", \"Intervals\".interval_number AS \"Intervals_interval_number\", \"Intervals\".description AS \"Intervals_description\", \"Intervals\".top_id AS \"Intervals_top_id\", \"Intervals\".base_id AS \"Intervals_base_id\", \"Intervals\".data_id AS \"Intervals_data_id\" \n",
      "FROM \"Intervals\" \n",
      "WHERE ? = \"Intervals\".borehole\n",
      "2021-07-04 23:51:07,871 INFO sqlalchemy.engine.Engine [cached since 0.5453s ago] ('BH003',)\n",
      "2021-07-04 23:51:07,872 INFO sqlalchemy.engine.Engine SELECT \"Boreholes\".id AS \"Boreholes_id\", \"Boreholes\".length AS \"Boreholes_length\", \"Boreholes\".diameter AS \"Boreholes_diameter\" \n",
      "FROM \"Boreholes\" \n",
      "WHERE \"Boreholes\".id = ?\n",
      "2021-07-04 23:51:07,873 INFO sqlalchemy.engine.Engine [cached since 0.01593s ago] ('BH004',)\n",
      "2021-07-04 23:51:07,874 INFO sqlalchemy.engine.Engine SELECT \"Intervals\".id AS \"Intervals_id\", \"Intervals\".borehole AS \"Intervals_borehole\", \"Intervals\".interval_number AS \"Intervals_interval_number\", \"Intervals\".description AS \"Intervals_description\", \"Intervals\".top_id AS \"Intervals_top_id\", \"Intervals\".base_id AS \"Intervals_base_id\", \"Intervals\".data_id AS \"Intervals_data_id\" \n",
      "FROM \"Intervals\" \n",
      "WHERE ? = \"Intervals\".borehole\n",
      "2021-07-04 23:51:07,875 INFO sqlalchemy.engine.Engine [cached since 0.5494s ago] ('BH004',)\n",
      "2021-07-04 23:51:07,877 INFO sqlalchemy.engine.Engine SELECT \"Boreholes\".id AS \"Boreholes_id\", \"Boreholes\".length AS \"Boreholes_length\", \"Boreholes\".diameter AS \"Boreholes_diameter\" \n",
      "FROM \"Boreholes\" \n",
      "WHERE \"Boreholes\".id = ?\n",
      "2021-07-04 23:51:07,878 INFO sqlalchemy.engine.Engine [cached since 0.0206s ago] ('BH005',)\n",
      "2021-07-04 23:51:07,879 INFO sqlalchemy.engine.Engine SELECT \"Intervals\".id AS \"Intervals_id\", \"Intervals\".borehole AS \"Intervals_borehole\", \"Intervals\".interval_number AS \"Intervals_interval_number\", \"Intervals\".description AS \"Intervals_description\", \"Intervals\".top_id AS \"Intervals_top_id\", \"Intervals\".base_id AS \"Intervals_base_id\", \"Intervals\".data_id AS \"Intervals_data_id\" \n",
      "FROM \"Intervals\" \n",
      "WHERE ? = \"Intervals\".borehole\n",
      "2021-07-04 23:51:07,880 INFO sqlalchemy.engine.Engine [cached since 0.5541s ago] ('BH005',)\n",
      "2021-07-04 23:51:07,881 INFO sqlalchemy.engine.Engine SELECT \"Boreholes\".id AS \"Boreholes_id\", \"Boreholes\".length AS \"Boreholes_length\", \"Boreholes\".diameter AS \"Boreholes_diameter\" \n",
      "FROM \"Boreholes\" \n",
      "WHERE \"Boreholes\".id = ?\n",
      "2021-07-04 23:51:07,882 INFO sqlalchemy.engine.Engine [cached since 0.02468s ago] ('BH006',)\n",
      "2021-07-04 23:51:07,883 INFO sqlalchemy.engine.Engine SELECT \"Intervals\".id AS \"Intervals_id\", \"Intervals\".borehole AS \"Intervals_borehole\", \"Intervals\".interval_number AS \"Intervals_interval_number\", \"Intervals\".description AS \"Intervals_description\", \"Intervals\".top_id AS \"Intervals_top_id\", \"Intervals\".base_id AS \"Intervals_base_id\", \"Intervals\".data_id AS \"Intervals_data_id\" \n",
      "FROM \"Intervals\" \n",
      "WHERE ? = \"Intervals\".borehole\n",
      "2021-07-04 23:51:07,884 INFO sqlalchemy.engine.Engine [cached since 0.5582s ago] ('BH006',)\n",
      "2021-07-04 23:51:07,885 INFO sqlalchemy.engine.Engine SELECT \"Boreholes\".id AS \"Boreholes_id\", \"Boreholes\".length AS \"Boreholes_length\", \"Boreholes\".diameter AS \"Boreholes_diameter\" \n",
      "FROM \"Boreholes\" \n",
      "WHERE \"Boreholes\".id = ?\n",
      "2021-07-04 23:51:07,886 INFO sqlalchemy.engine.Engine [cached since 0.02899s ago] ('BH007',)\n",
      "2021-07-04 23:51:07,887 INFO sqlalchemy.engine.Engine SELECT \"Intervals\".id AS \"Intervals_id\", \"Intervals\".borehole AS \"Intervals_borehole\", \"Intervals\".interval_number AS \"Intervals_interval_number\", \"Intervals\".description AS \"Intervals_description\", \"Intervals\".top_id AS \"Intervals_top_id\", \"Intervals\".base_id AS \"Intervals_base_id\", \"Intervals\".data_id AS \"Intervals_data_id\" \n",
      "FROM \"Intervals\" \n",
      "WHERE ? = \"Intervals\".borehole\n",
      "2021-07-04 23:51:07,888 INFO sqlalchemy.engine.Engine [cached since 0.5622s ago] ('BH007',)\n",
      "2021-07-04 23:51:07,889 INFO sqlalchemy.engine.Engine SELECT \"Boreholes\".id AS \"Boreholes_id\", \"Boreholes\".length AS \"Boreholes_length\", \"Boreholes\".diameter AS \"Boreholes_diameter\" \n",
      "FROM \"Boreholes\" \n",
      "WHERE \"Boreholes\".id = ?\n",
      "2021-07-04 23:51:07,890 INFO sqlalchemy.engine.Engine [cached since 0.03296s ago] ('BH008',)\n",
      "2021-07-04 23:51:07,892 INFO sqlalchemy.engine.Engine SELECT \"Intervals\".id AS \"Intervals_id\", \"Intervals\".borehole AS \"Intervals_borehole\", \"Intervals\".interval_number AS \"Intervals_interval_number\", \"Intervals\".description AS \"Intervals_description\", \"Intervals\".top_id AS \"Intervals_top_id\", \"Intervals\".base_id AS \"Intervals_base_id\", \"Intervals\".data_id AS \"Intervals_data_id\" \n",
      "FROM \"Intervals\" \n",
      "WHERE ? = \"Intervals\".borehole\n",
      "2021-07-04 23:51:07,893 INFO sqlalchemy.engine.Engine [cached since 0.5672s ago] ('BH008',)\n",
      "2021-07-04 23:51:07,894 INFO sqlalchemy.engine.Engine SELECT \"Boreholes\".id AS \"Boreholes_id\", \"Boreholes\".length AS \"Boreholes_length\", \"Boreholes\".diameter AS \"Boreholes_diameter\" \n",
      "FROM \"Boreholes\" \n",
      "WHERE \"Boreholes\".id = ?\n",
      "2021-07-04 23:51:07,895 INFO sqlalchemy.engine.Engine [cached since 0.03801s ago] ('BH009',)\n",
      "2021-07-04 23:51:07,896 INFO sqlalchemy.engine.Engine SELECT \"Intervals\".id AS \"Intervals_id\", \"Intervals\".borehole AS \"Intervals_borehole\", \"Intervals\".interval_number AS \"Intervals_interval_number\", \"Intervals\".description AS \"Intervals_description\", \"Intervals\".top_id AS \"Intervals_top_id\", \"Intervals\".base_id AS \"Intervals_base_id\", \"Intervals\".data_id AS \"Intervals_data_id\" \n",
      "FROM \"Intervals\" \n",
      "WHERE ? = \"Intervals\".borehole\n",
      "2021-07-04 23:51:07,897 INFO sqlalchemy.engine.Engine [cached since 0.5714s ago] ('BH009',)\n",
      "2021-07-04 23:51:07,898 INFO sqlalchemy.engine.Engine SELECT \"Boreholes\".id AS \"Boreholes_id\", \"Boreholes\".length AS \"Boreholes_length\", \"Boreholes\".diameter AS \"Boreholes_diameter\" \n",
      "FROM \"Boreholes\" \n",
      "WHERE \"Boreholes\".id = ?\n",
      "2021-07-04 23:51:07,899 INFO sqlalchemy.engine.Engine [cached since 0.04202s ago] ('BH10',)\n",
      "2021-07-04 23:51:07,901 INFO sqlalchemy.engine.Engine SELECT \"Intervals\".id AS \"Intervals_id\", \"Intervals\".borehole AS \"Intervals_borehole\", \"Intervals\".interval_number AS \"Intervals_interval_number\", \"Intervals\".description AS \"Intervals_description\", \"Intervals\".top_id AS \"Intervals_top_id\", \"Intervals\".base_id AS \"Intervals_base_id\", \"Intervals\".data_id AS \"Intervals_data_id\" \n",
      "FROM \"Intervals\" \n",
      "WHERE ? = \"Intervals\".borehole\n"
     ]
    },
    {
     "name": "stdout",
     "output_type": "stream",
     "text": [
      "2021-07-04 23:51:07,901 INFO sqlalchemy.engine.Engine [cached since 0.5755s ago] ('BH10',)\n"
     ]
    },
    {
     "data": {
      "text/plain": [
       "[<core.orm.BoreholeOrm>(Name=BH001, Length=97.0, Diameter=0.43, Intervals=4),\n",
       " <core.orm.BoreholeOrm>(Name=BH002, Length=98.0, Diameter=0.6, Intervals=5),\n",
       " <core.orm.BoreholeOrm>(Name=BH003, Length=100.0, Diameter=0.41, Intervals=5),\n",
       " <core.orm.BoreholeOrm>(Name=BH004, Length=96.0, Diameter=0.61, Intervals=5),\n",
       " <core.orm.BoreholeOrm>(Name=BH005, Length=97.0, Diameter=0.61, Intervals=6),\n",
       " <core.orm.BoreholeOrm>(Name=BH006, Length=100.0, Diameter=0.31, Intervals=5),\n",
       " <core.orm.BoreholeOrm>(Name=BH007, Length=97.0, Diameter=0.57, Intervals=6),\n",
       " <core.orm.BoreholeOrm>(Name=BH008, Length=98.0, Diameter=0.39, Intervals=5),\n",
       " <core.orm.BoreholeOrm>(Name=BH009, Length=94.0, Diameter=0.5, Intervals=5),\n",
       " <core.orm.BoreholeOrm>(Name=BH10, Length=95.0, Diameter=0.31, Intervals=4)]"
      ]
     },
     "execution_count": 21,
     "metadata": {},
     "output_type": "execute_result"
    }
   ],
   "source": [
    "p.boreholes"
   ]
  },
  {
   "cell_type": "code",
   "execution_count": 22,
   "metadata": {},
   "outputs": [
    {
     "name": "stdout",
     "output_type": "stream",
     "text": [
      "2021-07-04 23:51:07,906 INFO sqlalchemy.engine.Engine SELECT \"Boreholes\".id AS \"Boreholes_id\", \"Boreholes\".length AS \"Boreholes_length\", \"Boreholes\".diameter AS \"Boreholes_diameter\" \n",
      "FROM \"Boreholes\"\n",
      "2021-07-04 23:51:07,907 INFO sqlalchemy.engine.Engine [cached since 0.623s ago] ()\n"
     ]
    }
   ],
   "source": [
    "p.refresh(verbose=False)"
   ]
  },
  {
   "cell_type": "code",
   "execution_count": 23,
   "metadata": {},
   "outputs": [
    {
     "name": "stdout",
     "output_type": "stream",
     "text": [
      "2021-07-04 23:51:07,914 INFO sqlalchemy.engine.Engine ROLLBACK\n"
     ]
    }
   ],
   "source": [
    "session.close()"
   ]
  },
  {
   "cell_type": "markdown",
   "metadata": {},
   "source": [
    "# 2D/3D Display"
   ]
  },
  {
   "cell_type": "code",
   "execution_count": 24,
   "metadata": {},
   "outputs": [
    {
     "data": {
      "text/plain": [
       "['lithology', 'pollutant']"
      ]
     },
     "execution_count": 24,
     "metadata": {},
     "output_type": "execute_result"
    }
   ],
   "source": [
    "attributes = list(p.legend_dict.keys())\n",
    "attributes"
   ]
  },
  {
   "cell_type": "code",
   "execution_count": 25,
   "metadata": {},
   "outputs": [
    {
     "data": {
      "text/plain": [
       "({'lithology': {'legend': Legend(Decor({'_colour': '#ffcb23', 'width': 3, 'hatch': \"'..'\", 'component': Component({'lithology': 'sable'})})\n",
       "   Decor({'_colour': '#d5e6cc', 'width': 3, 'hatch': \"'---'\", 'component': Component({'lithology': 'argile'})})\n",
       "   Decor({'_colour': '#7ba1a8', 'width': 3, 'hatch': None, 'component': Component({'lithology': 'marne'})})\n",
       "   Decor({'_colour': '#000000', 'width': 3, 'hatch': None, 'component': Component({'lithology': 'charbon'})})\n",
       "   Decor({'_colour': '#fdaffe', 'width': 3, 'hatch': None, 'component': Component({'lithology': 'dolomie'})})\n",
       "   Decor({'_colour': '#bbffdd', 'width': 3, 'hatch': \"'--'\", 'component': Component({'lithology': 'schiste'})})\n",
       "   Decor({'_colour': '#149eff', 'width': 3, 'hatch': \"'='\", 'component': Component({'lithology': 'calcaire'})})),\n",
       "   'cmap': <matplotlib.colors.ListedColormap at 0x7f6fa776e250>,\n",
       "   'values': ['sable',\n",
       "    'argile',\n",
       "    'marne',\n",
       "    'charbon',\n",
       "    'dolomie',\n",
       "    'schiste',\n",
       "    'calcaire']},\n",
       "  'pollutant': {'legend': Legend(Decor({'_colour': '#ff0000', 'width': 3, 'component': Component({'pollutant': 'vi'}), 'hatch': None})\n",
       "   Decor({'_colour': '#ffa500', 'width': 3, 'component': Component({'pollutant': 'vs'}), 'hatch': None})\n",
       "   Decor({'_colour': '#00ff00', 'width': 3, 'component': Component({'pollutant': 'vr'}), 'hatch': None})\n",
       "   Decor({'_colour': '#ffffff', 'width': 3, 'component': Component({'pollutant': 'Inconnu'}), 'hatch': None})),\n",
       "   'cmap': <matplotlib.colors.ListedColormap at 0x7f6fa76b5f40>,\n",
       "   'values': ['vi', 'vs', 'vr', 'Inconnu']}},\n",
       " {'BH001': {'lithology': {'legend': Legend(Decor({'_colour': '#ffcb23', 'width': 3, 'hatch': \"'..'\", 'component': Component({'lithology': 'sable'})})\n",
       "    Decor({'_colour': '#d5e6cc', 'width': 3, 'hatch': \"'---'\", 'component': Component({'lithology': 'argile'})})\n",
       "    Decor({'_colour': '#7ba1a8', 'width': 3, 'hatch': None, 'component': Component({'lithology': 'marne'})})\n",
       "    Decor({'_colour': '#000000', 'width': 3, 'hatch': None, 'component': Component({'lithology': 'charbon'})})),\n",
       "    'cmap': <matplotlib.colors.ListedColormap at 0x7f6fa76fafa0>,\n",
       "    'values': ['sable', 'argile', 'marne', 'charbon']},\n",
       "   'pollutant': {'legend': Legend(Decor({'_colour': '#ff0000', 'width': 3, 'component': Component({'pollutant': 'vi'}), 'hatch': None})\n",
       "    Decor({'_colour': '#ffa500', 'width': 3, 'component': Component({'pollutant': 'vs'}), 'hatch': None})\n",
       "    Decor({'_colour': '#00ff00', 'width': 3, 'component': Component({'pollutant': 'vr'}), 'hatch': None})),\n",
       "    'cmap': <matplotlib.colors.ListedColormap at 0x7f6fa76b45e0>,\n",
       "    'values': ['vi', 'vs', 'vr']}},\n",
       "  'BH002': {'lithology': {'legend': Legend(Decor({'_colour': '#ffcb23', 'width': 3, 'hatch': \"'..'\", 'component': Component({'lithology': 'sable'})})\n",
       "    Decor({'_colour': '#d5e6cc', 'width': 3, 'hatch': \"'---'\", 'component': Component({'lithology': 'argile'})})\n",
       "    Decor({'_colour': '#7ba1a8', 'width': 3, 'hatch': None, 'component': Component({'lithology': 'marne'})})\n",
       "    Decor({'_colour': '#000000', 'width': 3, 'hatch': None, 'component': Component({'lithology': 'charbon'})})\n",
       "    Decor({'_colour': '#fdaffe', 'width': 3, 'hatch': None, 'component': Component({'lithology': 'dolomie'})})),\n",
       "    'cmap': <matplotlib.colors.ListedColormap at 0x7f6fa78d07f0>,\n",
       "    'values': ['sable', 'argile', 'marne', 'charbon', 'dolomie']},\n",
       "   'pollutant': {'legend': Legend(Decor({'_colour': '#ffa500', 'width': 3, 'component': Component({'pollutant': 'vs'}), 'hatch': None})\n",
       "    Decor({'_colour': '#00ff00', 'width': 3, 'component': Component({'pollutant': 'vr'}), 'hatch': None})),\n",
       "    'cmap': <matplotlib.colors.ListedColormap at 0x7f6fa76b8490>,\n",
       "    'values': ['vs', 'vr']}},\n",
       "  'BH003': {'lithology': {'legend': Legend(Decor({'_colour': '#ffcb23', 'width': 3, 'hatch': \"'..'\", 'component': Component({'lithology': 'sable'})})\n",
       "    Decor({'_colour': '#d5e6cc', 'width': 3, 'hatch': \"'---'\", 'component': Component({'lithology': 'argile'})})\n",
       "    Decor({'_colour': '#7ba1a8', 'width': 3, 'hatch': None, 'component': Component({'lithology': 'marne'})})\n",
       "    Decor({'_colour': '#000000', 'width': 3, 'hatch': None, 'component': Component({'lithology': 'charbon'})})\n",
       "    Decor({'_colour': '#fdaffe', 'width': 3, 'hatch': None, 'component': Component({'lithology': 'dolomie'})})),\n",
       "    'cmap': <matplotlib.colors.ListedColormap at 0x7f6fa76fa2e0>,\n",
       "    'values': ['sable', 'argile', 'marne', 'charbon', 'dolomie']},\n",
       "   'pollutant': {'legend': Legend(Decor({'_colour': '#ffa500', 'width': 3, 'component': Component({'pollutant': 'vs'}), 'hatch': None})\n",
       "    Decor({'_colour': '#00ff00', 'width': 3, 'component': Component({'pollutant': 'vr'}), 'hatch': None})\n",
       "    Decor({'_colour': '#ff0000', 'width': 3, 'component': Component({'pollutant': 'vi'}), 'hatch': None})),\n",
       "    'cmap': <matplotlib.colors.ListedColormap at 0x7f6fa76b8880>,\n",
       "    'values': ['vs', 'vr', 'vi']}},\n",
       "  'BH004': {'lithology': {'legend': Legend(Decor({'_colour': '#ffcb23', 'width': 3, 'hatch': \"'..'\", 'component': Component({'lithology': 'sable'})})\n",
       "    Decor({'_colour': '#d5e6cc', 'width': 3, 'hatch': \"'---'\", 'component': Component({'lithology': 'argile'})})\n",
       "    Decor({'_colour': '#7ba1a8', 'width': 3, 'hatch': None, 'component': Component({'lithology': 'marne'})})\n",
       "    Decor({'_colour': '#000000', 'width': 3, 'hatch': None, 'component': Component({'lithology': 'charbon'})})\n",
       "    Decor({'_colour': '#fdaffe', 'width': 3, 'hatch': None, 'component': Component({'lithology': 'dolomie'})})),\n",
       "    'cmap': <matplotlib.colors.ListedColormap at 0x7f6fa79353a0>,\n",
       "    'values': ['sable', 'argile', 'marne', 'charbon', 'dolomie']},\n",
       "   'pollutant': {'legend': Legend(Decor({'_colour': '#00ff00', 'width': 3, 'component': Component({'pollutant': 'vr'}), 'hatch': None})\n",
       "    Decor({'_colour': '#ffa500', 'width': 3, 'component': Component({'pollutant': 'vs'}), 'hatch': None})\n",
       "    Decor({'_colour': '#ff0000', 'width': 3, 'component': Component({'pollutant': 'vi'}), 'hatch': None})),\n",
       "    'cmap': <matplotlib.colors.ListedColormap at 0x7f6fa76b8fd0>,\n",
       "    'values': ['vr', 'vs', 'vi']}},\n",
       "  'BH005': {'lithology': {'legend': Legend(Decor({'_colour': '#ffcb23', 'width': 3, 'hatch': \"'..'\", 'component': Component({'lithology': 'sable'})})\n",
       "    Decor({'_colour': '#d5e6cc', 'width': 3, 'hatch': \"'---'\", 'component': Component({'lithology': 'argile'})})\n",
       "    Decor({'_colour': '#7ba1a8', 'width': 3, 'hatch': None, 'component': Component({'lithology': 'marne'})})\n",
       "    Decor({'_colour': '#000000', 'width': 3, 'hatch': None, 'component': Component({'lithology': 'charbon'})})\n",
       "    Decor({'_colour': '#fdaffe', 'width': 3, 'hatch': None, 'component': Component({'lithology': 'dolomie'})})\n",
       "    Decor({'_colour': '#bbffdd', 'width': 3, 'hatch': \"'--'\", 'component': Component({'lithology': 'schiste'})})),\n",
       "    'cmap': <matplotlib.colors.ListedColormap at 0x7f6fa7721f70>,\n",
       "    'values': ['sable', 'argile', 'marne', 'charbon', 'dolomie', 'schiste']},\n",
       "   'pollutant': {'legend': Legend(Decor({'_colour': '#00ff00', 'width': 3, 'component': Component({'pollutant': 'vr'}), 'hatch': None})\n",
       "    Decor({'_colour': '#ffa500', 'width': 3, 'component': Component({'pollutant': 'vs'}), 'hatch': None})\n",
       "    Decor({'_colour': '#ff0000', 'width': 3, 'component': Component({'pollutant': 'vi'}), 'hatch': None})\n",
       "    Decor({'_colour': '#ffffff', 'width': 3, 'component': Component({'pollutant': 'Inconnu'}), 'hatch': None})),\n",
       "    'cmap': <matplotlib.colors.ListedColormap at 0x7f6fa76b84f0>,\n",
       "    'values': ['vr', 'vs', 'vi', 'Inconnu']}},\n",
       "  'BH006': {'lithology': {'legend': Legend(Decor({'_colour': '#ffcb23', 'width': 3, 'hatch': \"'..'\", 'component': Component({'lithology': 'sable'})})\n",
       "    Decor({'_colour': '#d5e6cc', 'width': 3, 'hatch': \"'---'\", 'component': Component({'lithology': 'argile'})})\n",
       "    Decor({'_colour': '#7ba1a8', 'width': 3, 'hatch': None, 'component': Component({'lithology': 'marne'})})\n",
       "    Decor({'_colour': '#000000', 'width': 3, 'hatch': None, 'component': Component({'lithology': 'charbon'})})\n",
       "    Decor({'_colour': '#fdaffe', 'width': 3, 'hatch': None, 'component': Component({'lithology': 'dolomie'})})),\n",
       "    'cmap': <matplotlib.colors.ListedColormap at 0x7f6fa76b4eb0>,\n",
       "    'values': ['sable', 'argile', 'marne', 'charbon', 'dolomie']},\n",
       "   'pollutant': {'legend': Legend(Decor({'_colour': '#00ff00', 'width': 3, 'component': Component({'pollutant': 'vr'}), 'hatch': None})\n",
       "    Decor({'_colour': '#ff0000', 'width': 3, 'component': Component({'pollutant': 'vi'}), 'hatch': None})\n",
       "    Decor({'_colour': '#ffa500', 'width': 3, 'component': Component({'pollutant': 'vs'}), 'hatch': None})),\n",
       "    'cmap': <matplotlib.colors.ListedColormap at 0x7f6fa76b8610>,\n",
       "    'values': ['vr', 'vi', 'vs']}},\n",
       "  'BH007': {'lithology': {'legend': Legend(Decor({'_colour': '#ffcb23', 'width': 3, 'hatch': \"'..'\", 'component': Component({'lithology': 'sable'})})\n",
       "    Decor({'_colour': '#d5e6cc', 'width': 3, 'hatch': \"'---'\", 'component': Component({'lithology': 'argile'})})\n",
       "    Decor({'_colour': '#7ba1a8', 'width': 3, 'hatch': None, 'component': Component({'lithology': 'marne'})})\n",
       "    Decor({'_colour': '#000000', 'width': 3, 'hatch': None, 'component': Component({'lithology': 'charbon'})})\n",
       "    Decor({'_colour': '#fdaffe', 'width': 3, 'hatch': None, 'component': Component({'lithology': 'dolomie'})})\n",
       "    Decor({'_colour': '#149eff', 'width': 3, 'hatch': \"'='\", 'component': Component({'lithology': 'calcaire'})})),\n",
       "    'cmap': <matplotlib.colors.ListedColormap at 0x7f6fa76b1640>,\n",
       "    'values': ['sable', 'argile', 'marne', 'charbon', 'dolomie', 'calcaire']},\n",
       "   'pollutant': {'legend': Legend(Decor({'_colour': '#ff0000', 'width': 3, 'component': Component({'pollutant': 'vi'}), 'hatch': None})\n",
       "    Decor({'_colour': '#ffa500', 'width': 3, 'component': Component({'pollutant': 'vs'}), 'hatch': None})\n",
       "    Decor({'_colour': '#00ff00', 'width': 3, 'component': Component({'pollutant': 'vr'}), 'hatch': None})\n",
       "    Decor({'_colour': '#ffffff', 'width': 3, 'component': Component({'pollutant': 'Inconnu'}), 'hatch': None})),\n",
       "    'cmap': <matplotlib.colors.ListedColormap at 0x7f6fa76b1be0>,\n",
       "    'values': ['vi', 'vs', 'vr', 'Inconnu']}},\n",
       "  'BH008': {'lithology': {'legend': Legend(Decor({'_colour': '#ffcb23', 'width': 3, 'hatch': \"'..'\", 'component': Component({'lithology': 'sable'})})\n",
       "    Decor({'_colour': '#d5e6cc', 'width': 3, 'hatch': \"'---'\", 'component': Component({'lithology': 'argile'})})\n",
       "    Decor({'_colour': '#7ba1a8', 'width': 3, 'hatch': None, 'component': Component({'lithology': 'marne'})})\n",
       "    Decor({'_colour': '#000000', 'width': 3, 'hatch': None, 'component': Component({'lithology': 'charbon'})})\n",
       "    Decor({'_colour': '#fdaffe', 'width': 3, 'hatch': None, 'component': Component({'lithology': 'dolomie'})})),\n",
       "    'cmap': <matplotlib.colors.ListedColormap at 0x7f6fa76b4a00>,\n",
       "    'values': ['sable', 'argile', 'marne', 'charbon', 'dolomie']},\n",
       "   'pollutant': {'legend': Legend(Decor({'_colour': '#00ff00', 'width': 3, 'component': Component({'pollutant': 'vr'}), 'hatch': None})\n",
       "    Decor({'_colour': '#ff0000', 'width': 3, 'component': Component({'pollutant': 'vi'}), 'hatch': None})\n",
       "    Decor({'_colour': '#ffa500', 'width': 3, 'component': Component({'pollutant': 'vs'}), 'hatch': None})),\n",
       "    'cmap': <matplotlib.colors.ListedColormap at 0x7f6fa76b5070>,\n",
       "    'values': ['vr', 'vi', 'vs']}},\n",
       "  'BH009': {'lithology': {'legend': Legend(Decor({'_colour': '#ffcb23', 'width': 3, 'hatch': \"'..'\", 'component': Component({'lithology': 'sable'})})\n",
       "    Decor({'_colour': '#d5e6cc', 'width': 3, 'hatch': \"'---'\", 'component': Component({'lithology': 'argile'})})\n",
       "    Decor({'_colour': '#7ba1a8', 'width': 3, 'hatch': None, 'component': Component({'lithology': 'marne'})})\n",
       "    Decor({'_colour': '#000000', 'width': 3, 'hatch': None, 'component': Component({'lithology': 'charbon'})})\n",
       "    Decor({'_colour': '#fdaffe', 'width': 3, 'hatch': None, 'component': Component({'lithology': 'dolomie'})})),\n",
       "    'cmap': <matplotlib.colors.ListedColormap at 0x7f6fa76b52b0>,\n",
       "    'values': ['sable', 'argile', 'marne', 'charbon', 'dolomie']},\n",
       "   'pollutant': {'legend': Legend(Decor({'_colour': '#ffa500', 'width': 3, 'component': Component({'pollutant': 'vs'}), 'hatch': None})\n",
       "    Decor({'_colour': '#00ff00', 'width': 3, 'component': Component({'pollutant': 'vr'}), 'hatch': None})\n",
       "    Decor({'_colour': '#ff0000', 'width': 3, 'component': Component({'pollutant': 'vi'}), 'hatch': None})),\n",
       "    'cmap': <matplotlib.colors.ListedColormap at 0x7f6fa76b55b0>,\n",
       "    'values': ['vs', 'vr', 'vi']}},\n",
       "  'BH10': {'lithology': {'legend': Legend(Decor({'_colour': '#ffcb23', 'width': 3, 'hatch': \"'..'\", 'component': Component({'lithology': 'sable'})})\n",
       "    Decor({'_colour': '#d5e6cc', 'width': 3, 'hatch': \"'---'\", 'component': Component({'lithology': 'argile'})})\n",
       "    Decor({'_colour': '#7ba1a8', 'width': 3, 'hatch': None, 'component': Component({'lithology': 'marne'})})\n",
       "    Decor({'_colour': '#000000', 'width': 3, 'hatch': None, 'component': Component({'lithology': 'charbon'})})),\n",
       "    'cmap': <matplotlib.colors.ListedColormap at 0x7f6fa76b8460>,\n",
       "    'values': ['sable', 'argile', 'marne', 'charbon']},\n",
       "   'pollutant': {'legend': Legend(Decor({'_colour': '#00ff00', 'width': 3, 'component': Component({'pollutant': 'vr'}), 'hatch': None})\n",
       "    Decor({'_colour': '#ffa500', 'width': 3, 'component': Component({'pollutant': 'vs'}), 'hatch': None})\n",
       "    Decor({'_colour': '#ff0000', 'width': 3, 'component': Component({'pollutant': 'vi'}), 'hatch': None})),\n",
       "    'cmap': <matplotlib.colors.ListedColormap at 0x7f6fa76b5af0>,\n",
       "    'values': ['vr', 'vs', 'vi']}}})"
      ]
     },
     "execution_count": 25,
     "metadata": {},
     "output_type": "execute_result"
    }
   ],
   "source": [
    "p.update_legend_cmap(update_all_attrib=True) #[0][attributes[0]]['cmap']"
   ]
  },
  {
   "cell_type": "code",
   "execution_count": 26,
   "metadata": {},
   "outputs": [
    {
     "data": {
      "image/png": "[encoded data removed]",
      "text/html": [
       "<div style=\"vertical-align: middle;\"><strong>from_list</strong> </div><div class=\"cmap\"><img alt=\"from_list colormap\" title=\"from_list\" style=\"border: 1px solid #555;\" src=\"data:image/png;base64,iVBORw0KGgoAAAANSUhEUgAAAgAAAABACAYAAABsv8+/AAAAGHRFWHRUaXRsZQBmcm9tX2xpc3QgY29sb3JtYXBDL89FAAAAHnRFWHREZXNjcmlwdGlvbgBmcm9tX2xpc3QgY29sb3JtYXABtCnOAAAAMHRFWHRBdXRob3IATWF0cGxvdGxpYiB2My40LjIsIGh0dHBzOi8vbWF0cGxvdGxpYi5vcmes1mPdAAAAMnRFWHRTb2Z0d2FyZQBNYXRwbG90bGliIHYzLjQuMiwgaHR0cHM6Ly9tYXRwbG90bGliLm9yZ4Jw/PoAAAFjSURBVHic7darjUJRAABRoA0c2xCSVVRDHTiSVRRAQgP4VSRUwqcDJPeROaeCkTN/Xn6eM976X/6NTpi8w+k6OmHydtvN6ITJux8foxO+wnl9G50wab/71eiEr7AYHQAAfJ4BAIAgAwAAQQYAAIIMAAAEGQAACDIAABBkAAAgyAAAQJABAIAgAwAAQQYAAIIMAAAEGQAACDIAABBkAAAgyAAAQJABAIAgAwAAQQYAAIIMAAAEGQAACDIAABBkAAAgyAAAQJABAIAgAwAAQQYAAIIMAAAEGQAACDIAABBkAAAgyAAAQJABAIAgAwAAQQYAAIIMAAAEGQAACDIAABBkAAAgyAAAQJABAIAgAwAAQQYAAIIMAAAEGQAACDIAABBkAAAgyAAAQJABAIAgAwAAQQYAAIIMAAAEGQAACDIAABBkAAAgyAAAQJABAIAgAwAAQQYAAIIMAAAEGQAACDIAABD0AiMCDjC6gHT1AAAAAElFTkSuQmCC\"></div><div style=\"vertical-align: middle; max-width: 514px; display: flex; justify-content: space-between;\"><div style=\"float: left;\"><div title=\"#ffcb23ff\" style=\"display: inline-block; width: 1em; height: 1em; margin: 0; vertical-align: middle; border: 1px solid #555; background-color: #ffcb23ff;\"></div> under</div><div style=\"margin: 0 auto; display: inline-block;\">bad <div title=\"#00000000\" style=\"display: inline-block; width: 1em; height: 1em; margin: 0; vertical-align: middle; border: 1px solid #555; background-color: #00000000;\"></div></div><div style=\"float: right;\">over <div title=\"#149effff\" style=\"display: inline-block; width: 1em; height: 1em; margin: 0; vertical-align: middle; border: 1px solid #555; background-color: #149effff;\"></div></div>"
      ],
      "text/plain": [
       "<matplotlib.colors.ListedColormap at 0x7f6fa776e250>"
      ]
     },
     "execution_count": 26,
     "metadata": {},
     "output_type": "execute_result"
    }
   ],
   "source": [
    "p.legend_dict[attributes[0]]['cmap']"
   ]
  },
  {
   "cell_type": "markdown",
   "metadata": {},
   "source": [
    "## Display one object (attribute = 'lithology')"
   ]
  },
  {
   "cell_type": "code",
   "execution_count": 27,
   "metadata": {},
   "outputs": [
    {
     "data": {
      "text/plain": [
       "[Component({'lithology': 'sable', 'pollutant': 'vs'}),\n",
       " Component({'lithology': 'argile', 'pollutant': 'vr'}),\n",
       " Component({'lithology': 'marne', 'pollutant': 'vr'}),\n",
       " Component({'lithology': 'charbon', 'pollutant': 'vr'}),\n",
       " Component({'lithology': 'dolomie', 'pollutant': 'vr'})]"
      ]
     },
     "execution_count": 27,
     "metadata": {},
     "output_type": "execute_result"
    }
   ],
   "source": [
    "bh = 1\n",
    "p.boreholes_3d[bh]._components"
   ]
  },
  {
   "cell_type": "code",
   "execution_count": 28,
   "metadata": {},
   "outputs": [
    {
     "name": "stdout",
     "output_type": "stream",
     "text": [
      "{0: Decor({'_colour': '#ffcb23', 'width': 3, 'hatch': \"'..'\", 'component': Component({'lithology': 'sable'})}), 1: Decor({'_colour': '#d5e6cc', 'width': 3, 'hatch': \"'---'\", 'component': Component({'lithology': 'argile'})}), 2: Decor({'_colour': '#7ba1a8', 'width': 3, 'hatch': None, 'component': Component({'lithology': 'marne'})}), 3: Decor({'_colour': '#000000', 'width': 3, 'hatch': None, 'component': Component({'lithology': 'charbon'})}), 4: Decor({'_colour': '#fdaffe', 'width': 3, 'hatch': None, 'component': Component({'lithology': 'dolomie'})})}\n"
     ]
    },
    {
     "name": "stderr",
     "output_type": "stream",
     "text": [
      "/home/yanathan/.local/share/virtualenvs/GSDMA-DRfwm83x/lib/python3.8/site-packages/striplog/striplog.py:1505: MatplotlibDeprecationWarning: hatch must consist of a string of \"*+-./OX\\ox|\" or None, but found the following invalid values \"'\". Passing invalid values is deprecated since 3.4 and will become an error two minor releases later.\n",
      "  rect = mpl.patches.Rectangle(origin,\n",
      "/home/yanathan/.local/share/virtualenvs/GSDMA-DRfwm83x/lib/python3.8/site-packages/striplog/legend.py:311: MatplotlibDeprecationWarning: hatch must consist of a string of \"*+-./OX\\ox|\" or None, but found the following invalid values \"'\". Passing invalid values is deprecated since 3.4 and will become an error two minor releases later.\n",
      "  rect1 = patches.Rectangle((0, 0),\n"
     ]
    },
    {
     "data": {
      "image/png": "[encoded data removed]",
      "text/plain": [
       "<Figure size 432x432 with 7 Axes>"
      ]
     },
     "metadata": {
      "needs_background": "light"
     },
     "output_type": "display_data"
    }
   ],
   "source": [
    "p.boreholes_3d[bh].log_plot()"
   ]
  },
  {
   "cell_type": "code",
   "execution_count": 29,
   "metadata": {},
   "outputs": [],
   "source": [
    "sargs = dict(title='test', title_font_size=30, label_font_size=12, n_labels=0,\n",
    "             fmt=\"%.2f\", font_family=\"arial\", color='k',interactive=True, \n",
    "             vertical=True, italic=True, shadow=False,)"
   ]
  },
  {
   "cell_type": "code",
   "execution_count": 31,
   "metadata": {
    "scrolled": false
   },
   "outputs": [
    {
     "data": {
      "application/vnd.jupyter.widget-view+json": {
       "model_id": "0d6d1b1465e346a899e75ddabca918f5",
       "version_major": 2,
       "version_minor": 0
      },
      "text/plain": [
       "ViewInteractiveWidget(height=768, layout=Layout(height='auto', width='100%'), width=1024)"
      ]
     },
     "metadata": {},
     "output_type": "display_data"
    }
   ],
   "source": [
    "bh=1\n",
    "p.boreholes_3d[bh].plot3d(custom_legend=False, scalar_bar_args=sargs)"
   ]
  },
  {
   "cell_type": "raw",
   "metadata": {},
   "source": [
    "p.boreholes_3d[bh].plot3d(x3d=True)"
   ]
  },
  {
   "cell_type": "markdown",
   "metadata": {},
   "source": [
    "## Plot with another attribute"
   ]
  },
  {
   "cell_type": "raw",
   "metadata": {},
   "source": [
    "p.update_legend_cmap(repr_attribute='pollutant')[1] #legend=lithology_memoris, update_legend=False)[0]"
   ]
  },
  {
   "cell_type": "code",
   "execution_count": 32,
   "metadata": {},
   "outputs": [
    {
     "name": "stdout",
     "output_type": "stream",
     "text": [
      "{0: Decor({'_colour': '#ffa500', 'width': 3, 'component': Component({'pollutant': 'vs'}), 'hatch': None}), 1: Decor({'_colour': '#00ff00', 'width': 3, 'component': Component({'pollutant': 'vr'}), 'hatch': None})}\n"
     ]
    },
    {
     "data": {
      "image/png": "[encoded data removed]",
      "text/plain": [
       "<Figure size 432x432 with 4 Axes>"
      ]
     },
     "metadata": {
      "needs_background": "light"
     },
     "output_type": "display_data"
    }
   ],
   "source": [
    "p.boreholes_3d[bh].log_plot(repr_attribute='pollutant')#, repr_legend=pollutant_memoris)"
   ]
  },
  {
   "cell_type": "code",
   "execution_count": 33,
   "metadata": {},
   "outputs": [
    {
     "data": {
      "application/vnd.jupyter.widget-view+json": {
       "model_id": "df50e6c25c6743548a8aa73ca846f9d6",
       "version_major": 2,
       "version_minor": 0
      },
      "text/plain": [
       "ViewInteractiveWidget(height=768, layout=Layout(height='auto', width='100%'), width=1024)"
      ]
     },
     "metadata": {},
     "output_type": "display_data"
    }
   ],
   "source": [
    "p.boreholes_3d[bh].plot3d(repr_attribute='pollutant')#, repr_legend=pollutant_memoris, show_legend=True)"
   ]
  },
  {
   "cell_type": "markdown",
   "metadata": {},
   "source": [
    "### Display project boreholes"
   ]
  },
  {
   "cell_type": "code",
   "execution_count": 34,
   "metadata": {},
   "outputs": [
    {
     "ename": "TypeError",
     "evalue": "plot3d() got an unexpected keyword argument 'repr_cmap'",
     "output_type": "error",
     "traceback": [
      "\u001b[0;31m---------------------------------------------------------------------------\u001b[0m",
      "\u001b[0;31mTypeError\u001b[0m                                 Traceback (most recent call last)",
      "\u001b[0;32m<ipython-input-34-5caf0911a319>\u001b[0m in \u001b[0;36m<module>\u001b[0;34m\u001b[0m\n\u001b[0;32m----> 1\u001b[0;31m \u001b[0mp\u001b[0m\u001b[0;34m.\u001b[0m\u001b[0mplot3d\u001b[0m\u001b[0;34m(\u001b[0m\u001b[0mrepr_attribute\u001b[0m\u001b[0;34m=\u001b[0m\u001b[0;34m'pollutant'\u001b[0m\u001b[0;34m,\u001b[0m \u001b[0mlabels_size\u001b[0m\u001b[0;34m=\u001b[0m\u001b[0;36m15\u001b[0m\u001b[0;34m,\u001b[0m \u001b[0mbg_color\u001b[0m\u001b[0;34m=\u001b[0m\u001b[0;34m[\u001b[0m\u001b[0;34m\"royalblue\"\u001b[0m\u001b[0;34m,\u001b[0m \u001b[0;34m\"aliceblue\"\u001b[0m\u001b[0;34m]\u001b[0m\u001b[0;34m,\u001b[0m \u001b[0mwindow_size\u001b[0m\u001b[0;34m=\u001b[0m\u001b[0;34m(\u001b[0m\u001b[0;36m1300\u001b[0m\u001b[0;34m,\u001b[0m \u001b[0;36m1000\u001b[0m\u001b[0;34m)\u001b[0m\u001b[0;34m)\u001b[0m\u001b[0;34m\u001b[0m\u001b[0;34m\u001b[0m\u001b[0m\n\u001b[0m",
      "\u001b[0;32m~/Projects/GSDMA/core/core.py\u001b[0m in \u001b[0;36mplot3d\u001b[0;34m(self, plotter, repr_attribute, labels_size, labels_color, bg_color, x3d, window_size)\u001b[0m\n\u001b[1;32m    205\u001b[0m \u001b[0;34m\u001b[0m\u001b[0m\n\u001b[1;32m    206\u001b[0m         \u001b[0;32mfor\u001b[0m \u001b[0mbh\u001b[0m \u001b[0;32min\u001b[0m \u001b[0mself\u001b[0m\u001b[0;34m.\u001b[0m\u001b[0mboreholes_3d\u001b[0m\u001b[0;34m:\u001b[0m\u001b[0;34m\u001b[0m\u001b[0;34m\u001b[0m\u001b[0m\n\u001b[0;32m--> 207\u001b[0;31m             bh.plot3d(plotter=pl, bg_color=bg_color, repr_legend_dict=plot_legend,\n\u001b[0m\u001b[1;32m    208\u001b[0m                       repr_cmap=plot_cmap,repr_attribute=repr_attribute)\n\u001b[1;32m    209\u001b[0m             \u001b[0mname_pts\u001b[0m\u001b[0;34m.\u001b[0m\u001b[0mupdate\u001b[0m\u001b[0;34m(\u001b[0m\u001b[0;34m{\u001b[0m\u001b[0mbh\u001b[0m\u001b[0;34m.\u001b[0m\u001b[0mname\u001b[0m\u001b[0;34m:\u001b[0m \u001b[0mbh\u001b[0m\u001b[0;34m.\u001b[0m\u001b[0m_vtk\u001b[0m\u001b[0;34m.\u001b[0m\u001b[0mcenter\u001b[0m\u001b[0;34m[\u001b[0m\u001b[0;34m:\u001b[0m\u001b[0;36m2\u001b[0m\u001b[0;34m]\u001b[0m\u001b[0;34m+\u001b[0m\u001b[0;34m[\u001b[0m\u001b[0mbh\u001b[0m\u001b[0;34m.\u001b[0m\u001b[0mz_collar\u001b[0m\u001b[0;34m]\u001b[0m\u001b[0;34m}\u001b[0m\u001b[0;34m)\u001b[0m\u001b[0;34m\u001b[0m\u001b[0;34m\u001b[0m\u001b[0m\n",
      "\u001b[0;31mTypeError\u001b[0m: plot3d() got an unexpected keyword argument 'repr_cmap'"
     ]
    }
   ],
   "source": [
    "p.plot3d(repr_attribute='pollutant', labels_size=15, bg_color=[\"royalblue\", \"aliceblue\"], window_size=(1300, 1000))"
   ]
  },
  {
   "cell_type": "markdown",
   "metadata": {},
   "source": [
    "### Boreholes in 3D using X3D for interaction within the notebook"
   ]
  },
  {
   "cell_type": "raw",
   "metadata": {
    "scrolled": false
   },
   "source": [
    "p.plot3d(x3d=True)"
   ]
  },
  {
   "cell_type": "code",
   "execution_count": null,
   "metadata": {},
   "outputs": [],
   "source": []
  }
 ],
 "metadata": {
  "kernelspec": {
   "display_name": "Python 3",
   "language": "python",
   "name": "python3"
  },
  "language_info": {
   "codemirror_mode": {
    "name": "ipython",
    "version": 3
   },
   "file_extension": ".py",
   "mimetype": "text/x-python",
   "name": "python",
   "nbconvert_exporter": "python",
   "pygments_lexer": "ipython3",
   "version": "3.8.10"
  }
 },
 "nbformat": 4,
 "nbformat_minor": 4
}
