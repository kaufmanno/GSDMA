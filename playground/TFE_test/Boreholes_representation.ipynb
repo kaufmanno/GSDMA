{
 "cells": [
  {
   "cell_type": "markdown",
   "metadata": {},
   "source": [
    "# Example of using the Borehole3D class"
   ]
  },
  {
   "cell_type": "markdown",
   "metadata": {},
   "source": [
    "## Imports"
   ]
  },
  {
   "cell_type": "code",
   "execution_count": 1,
   "metadata": {},
   "outputs": [],
   "source": [
    "from striplog import Component, Decor, Legend, Lexicon, Striplog\n",
    "from core.visual import Borehole3D, striplog_legend_to_omf_legend \n",
    "from utils.lexicon.lexicon_memoris import lexicon_memoris, lithology_memoris, pollutants_memoris, CONTAMINATION_LEVELS_MEMORIS\n",
    "from utils.utils import boreholes_from_dataframe\n",
    "from utils.io import gdf_viewer\n",
    "from core.project import Project\n",
    "from core.orm import BoreholeOrm, PositionOrm, Base \n",
    "import random\n",
    "from os import remove\n",
    "import re\n",
    "import pandas as pd\n",
    "import numpy as np\n",
    "from sqlalchemy import create_engine\n",
    "from sqlalchemy.orm import sessionmaker\n",
    "from definitions import ROOT_DIR"
   ]
  },
  {
   "cell_type": "markdown",
   "metadata": {},
   "source": [
    "## Reading of CSV files in a dir"
   ]
  },
  {
   "cell_type": "code",
   "execution_count": 2,
   "metadata": {},
   "outputs": [],
   "source": [
    "#df = pd.read_csv('test_data_boreholes.csv', sep=',') # use english lexicon\n",
    "df = pd.read_csv('test_litho_fr.csv', sep=',') # use french lexicon"
   ]
  },
  {
   "cell_type": "raw",
   "metadata": {},
   "source": [
    "std_soil = pd.read_csv(ROOT_DIR+'/CF_data/Result_traitem/Memoris_seafile/donnees_Standards_S.csv')\n",
    "std_water = pd.read_csv(ROOT_DIR+'/CF_data/Result_traitem/Memoris_seafile/donnees_Standards_W.csv')"
   ]
  },
  {
   "cell_type": "raw",
   "metadata": {},
   "source": [
    "all_pollutants = std_soil['Polluant'].apply(lambda x: re.sub('é|è','e', x).rstrip(' ').lower()).to_list()\n",
    "all_pollutants"
   ]
  },
  {
   "cell_type": "code",
   "execution_count": 3,
   "metadata": {},
   "outputs": [
    {
     "name": "stdout",
     "output_type": "stream",
     "text": [
      "['arsenic', 'cadmium', 'chrome total', 'chrome vi', 'cobalt', 'cuivre', 'mercure', 'plomb', 'nickel', 'zinc', 'benzene', 'toluene', 'ethylbenzene', 'xylene sum', 'styrene', 'phenol', 'naphtalene', 'acenaphtylene', 'acenaphtene', 'fluorene', 'phenanthrene', 'anthracene', 'fluoranthene', 'pyrene', 'benzo(a)anthracene', 'chrysene', 'benzo(b)fluoranthene', 'benzo(k)fluoranthene', 'benzo(a)pyrene', 'dibenzo(ah)anthracene', 'benzo(ghi)perylene', 'indeno(1.2.3-cd)pyrene', '1.1-dichloroethane', '1.2-dichloroethane', 'cis 1.2 dichloroethene', 'trans 1.2 dichloroethene', 'dichloromethane', '1.2 dichloroethene sum', '1.2-dichloropropane', 'tetrachloroethene', 'tetrachloromethane', '1.1.1-trichloroethane', '1.1.2-trichloroethane', 'trichloroethene', 'trichloromethane (chloroforme)', 'chlorure de vinyle (chloroethene)', 'cyanures libres', 'methyl-tert-butyl-ether', 'fraction 5-8', 'fraction ec 8-10', 'fraction ec 10-12', 'fraction ec 12-16', 'fraction ec 16-21', 'fraction ec 21-35']\n"
     ]
    }
   ],
   "source": [
    "all_pollutants = pollutants_memoris.pollutant\n",
    "print(all_pollutants)"
   ]
  },
  {
   "cell_type": "markdown",
   "metadata": {},
   "source": [
    "## Data Checking"
   ]
  },
  {
   "cell_type": "code",
   "execution_count": 4,
   "metadata": {},
   "outputs": [],
   "source": [
    "#df[['Pollutant', 'Concentration']] = ''\n",
    "df.drop(columns=['Pollutant', 'Concentration', 'Unit'], inplace=True)\n",
    "#df['Concentration'] = df['Concentration'].apply(lambda x: np.random.randint(0,100))\n",
    "#df['Unit'] = 'mg/l'"
   ]
  },
  {
   "cell_type": "code",
   "execution_count": 5,
   "metadata": {},
   "outputs": [],
   "source": [
    "pol_lev = ['VR','VS','VI', 'Inconnu']\n",
    "df[all_pollutants[0:2]] = ''\n",
    "df[all_pollutants[0]] = df[all_pollutants[0]].apply(lambda x: random.sample(pol_lev, 1)[0])\n",
    "df[all_pollutants[1]] = df[all_pollutants[1]].apply(lambda x: random.sample(pol_lev, 1)[0])"
   ]
  },
  {
   "cell_type": "code",
   "execution_count": 6,
   "metadata": {},
   "outputs": [],
   "source": [
    "df['Lithology'] = df['Lithology'].replace({'Grès':'Marne', 'Calcaire':'Dolomie'})"
   ]
  },
  {
   "cell_type": "code",
   "execution_count": 7,
   "metadata": {},
   "outputs": [],
   "source": [
    "df.loc[35.5, :] = ['BH007',152794.0, 121111.0, 60.0, 0.57, 45, 'Calcaire', 'Bleu', 4, 41, 45, 'VS', 'VR']\n",
    "df.loc[25.5, :] = ['BH005',152473.0, 121460.0, 72.0, 0.61, 32, 'Schiste', 'gris', 3, 29, 32, 'VI', 'VR']\n",
    "df.loc[25.6, :] = ['BH005',152473.0, 121460.0, 68.0, 0.61, 36, 'Calcaire', 'Bleu', 4, 32, 36, 'Inconnu', 'VR']\n",
    "\n",
    "df.drop(index=4, inplace=True)\n",
    "df.drop(columns='Colour', inplace=True)\n",
    "df = df.sort_index().reset_index(drop=True)"
   ]
  },
  {
   "cell_type": "code",
   "execution_count": 8,
   "metadata": {},
   "outputs": [],
   "source": [
    "pollutants = [p for p in all_pollutants if p in df.columns]"
   ]
  },
  {
   "cell_type": "code",
   "execution_count": 9,
   "metadata": {},
   "outputs": [
    {
     "name": "stdout",
     "output_type": "stream",
     "text": [
      "Rows : 997, columns : 12\n"
     ]
    },
    {
     "data": {
      "application/vnd.jupyter.widget-view+json": {
       "model_id": "6daacc2db1004262b1fff9389ee6a77d",
       "version_major": 2,
       "version_minor": 0
      },
      "text/plain": [
       "interactive(children=(IntSlider(value=10, description='rows', max=997, min=10, readout=False), IntSlider(value…"
      ]
     },
     "metadata": {},
     "output_type": "display_data"
    }
   ],
   "source": [
    "gdf_viewer(df)"
   ]
  },
  {
   "cell_type": "raw",
   "metadata": {},
   "source": [
    "df.to_csv('test_litho_fr.csv', index=False)"
   ]
  },
  {
   "cell_type": "raw",
   "metadata": {},
   "source": [
    "df.query('X==152013.0 and Y==121905.0')"
   ]
  },
  {
   "cell_type": "markdown",
   "metadata": {},
   "source": [
    "## Create Boreholes from dataframes or files"
   ]
  },
  {
   "cell_type": "code",
   "execution_count": 10,
   "metadata": {},
   "outputs": [
    {
     "data": {
      "text/plain": [
       "3"
      ]
     },
     "execution_count": 10,
     "metadata": {},
     "output_type": "execute_result"
    }
   ],
   "source": [
    "d = {'a':1, 'b':2, 'c':3, 'd':4}\n",
    "list(d.keys()).index('d')"
   ]
  },
  {
   "cell_type": "code",
   "execution_count": 11,
   "metadata": {
    "scrolled": true
   },
   "outputs": [
    {
     "name": "stdout",
     "output_type": "stream",
     "text": [
      "\n",
      "Dataframe processing...\n",
      "================================\n",
      "\n",
      "|__ID:'BH001'\n",
      "[Component({'lithology': 'sable'}), Component({'arsenic': 'vs'}), Component({'cadmium': 'vr'})]\n",
      "[Component({'lithology': 'argile'}), Component({'arsenic': 'vr'}), Component({'cadmium': 'vr'})]\n",
      "[Component({'lithology': 'marne'}), Component({'arsenic': 'vs'}), Component({'cadmium': 'vs'})]\n",
      "[Component({'lithology': 'charbon'}), Component({'arsenic': 'vi'}), Component({'cadmium': 'inconnu'})]\n",
      "Summary : [Striplog(4 Intervals, start=0.0, stop=28.0)]\n",
      "\n",
      "|__ID:'BH002'\n",
      "[Component({'lithology': 'sable'}), Component({'arsenic': 'vr'}), Component({'cadmium': 'vs'})]\n",
      "[Component({'lithology': 'argile'}), Component({'arsenic': 'vs'}), Component({'cadmium': 'inconnu'})]\n",
      "[Component({'lithology': 'marne'}), Component({'arsenic': 'vi'}), Component({'cadmium': 'vi'})]\n",
      "[Component({'lithology': 'charbon'}), Component({'arsenic': 'vs'}), Component({'cadmium': 'vi'})]\n",
      "[Component({'lithology': 'dolomie'}), Component({'arsenic': 'inconnu'}), Component({'cadmium': 'inconnu'})]\n",
      "Summary : [Striplog(5 Intervals, start=0.0, stop=37.0)]\n",
      "\n",
      "|__ID:'BH003'\n",
      "[Component({'lithology': 'sable'}), Component({'arsenic': 'inconnu'}), Component({'cadmium': 'vi'})]\n",
      "[Component({'lithology': 'argile'}), Component({'arsenic': 'vs'}), Component({'cadmium': 'inconnu'})]\n",
      "[Component({'lithology': 'marne'}), Component({'arsenic': 'vs'}), Component({'cadmium': 'vi'})]\n",
      "[Component({'lithology': 'charbon'}), Component({'arsenic': 'vs'}), Component({'cadmium': 'inconnu'})]\n",
      "[Component({'lithology': 'dolomie'}), Component({'arsenic': 'vs'}), Component({'cadmium': 'vr'})]\n",
      "Summary : [Striplog(5 Intervals, start=0.0, stop=18.0)]\n",
      "\n",
      "|__ID:'BH004'\n",
      "[Component({'lithology': 'sable'}), Component({'arsenic': 'vi'}), Component({'cadmium': 'vr'})]\n",
      "[Component({'lithology': 'argile'}), Component({'arsenic': 'inconnu'}), Component({'cadmium': 'inconnu'})]\n",
      "[Component({'lithology': 'marne'}), Component({'arsenic': 'vr'}), Component({'cadmium': 'vi'})]\n",
      "[Component({'lithology': 'charbon'}), Component({'arsenic': 'vs'}), Component({'cadmium': 'vs'})]\n",
      "[Component({'lithology': 'dolomie'}), Component({'arsenic': 'inconnu'}), Component({'cadmium': 'vs'})]\n",
      "Summary : [Striplog(5 Intervals, start=0.0, stop=26.0)]\n",
      "\n",
      "|__ID:'BH005'\n",
      "[Component({'lithology': 'sable'}), Component({'arsenic': 'vr'}), Component({'cadmium': 'vi'})]\n",
      "[Component({'lithology': 'argile'}), Component({'arsenic': 'vs'}), Component({'cadmium': 'inconnu'})]\n",
      "[Component({'lithology': 'marne'}), Component({'arsenic': 'vr'}), Component({'cadmium': 'vi'})]\n",
      "[Component({'lithology': 'charbon'}), Component({'arsenic': 'vr'}), Component({'cadmium': 'vs'})]\n",
      "[Component({'lithology': 'dolomie'}), Component({'arsenic': 'vs'}), Component({'cadmium': 'inconnu'})]\n",
      "[Component({'lithology': 'schiste'}), Component({'arsenic': 'vi'}), Component({'cadmium': 'vr'})]\n",
      "[Component({'lithology': 'calcaire'}), Component({'arsenic': 'inconnu'}), Component({'cadmium': 'vr'})]\n",
      "Summary : [Striplog(7 Intervals, start=0.0, stop=36.0)]\n",
      "\n",
      "|__ID:'BH006'\n",
      "[Component({'lithology': 'sable'}), Component({'arsenic': 'inconnu'}), Component({'cadmium': 'vi'})]\n",
      "[Component({'lithology': 'argile'}), Component({'arsenic': 'vs'}), Component({'cadmium': 'vr'})]\n",
      "[Component({'lithology': 'marne'}), Component({'arsenic': 'vs'}), Component({'cadmium': 'vs'})]\n",
      "[Component({'lithology': 'charbon'}), Component({'arsenic': 'vi'}), Component({'cadmium': 'vr'})]\n",
      "[Component({'lithology': 'dolomie'}), Component({'arsenic': 'vr'}), Component({'cadmium': 'vr'})]\n",
      "Summary : [Striplog(5 Intervals, start=0.0, stop=26.0)]\n",
      "\n",
      "|__ID:'BH007'\n",
      "[Component({'lithology': 'sable'}), Component({'arsenic': 'vr'}), Component({'cadmium': 'vr'})]\n",
      "[Component({'lithology': 'argile'}), Component({'arsenic': 'vr'}), Component({'cadmium': 'vi'})]\n",
      "[Component({'lithology': 'marne'}), Component({'arsenic': 'vs'}), Component({'cadmium': 'vr'})]\n",
      "[Component({'lithology': 'charbon'}), Component({'arsenic': 'vr'}), Component({'cadmium': 'vr'})]\n",
      "[Component({'lithology': 'dolomie'}), Component({'arsenic': 'vi'}), Component({'cadmium': 'inconnu'})]\n",
      "[Component({'lithology': 'calcaire'}), Component({'arsenic': 'vs'}), Component({'cadmium': 'vr'})]\n",
      "Summary : [Striplog(6 Intervals, start=0.0, stop=45.0)]\n",
      "\n",
      "|__ID:'BH008'\n",
      "[Component({'lithology': 'sable'}), Component({'arsenic': 'vr'}), Component({'cadmium': 'vr'})]\n",
      "[Component({'lithology': 'argile'}), Component({'arsenic': 'inconnu'}), Component({'cadmium': 'vi'})]\n",
      "[Component({'lithology': 'marne'}), Component({'arsenic': 'inconnu'}), Component({'cadmium': 'vi'})]\n",
      "[Component({'lithology': 'charbon'}), Component({'arsenic': 'inconnu'}), Component({'cadmium': 'vi'})]\n",
      "[Component({'lithology': 'dolomie'}), Component({'arsenic': 'vr'}), Component({'cadmium': 'inconnu'})]\n",
      "Summary : [Striplog(5 Intervals, start=0.0, stop=35.0)]\n",
      "\n",
      "|__ID:'BH009'\n",
      "[Component({'lithology': 'sable'}), Component({'arsenic': 'vr'}), Component({'cadmium': 'vr'})]\n",
      "[Component({'lithology': 'argile'}), Component({'arsenic': 'vr'}), Component({'cadmium': 'vr'})]\n",
      "[Component({'lithology': 'marne'}), Component({'arsenic': 'vr'}), Component({'cadmium': 'inconnu'})]\n",
      "[Component({'lithology': 'charbon'}), Component({'arsenic': 'vr'}), Component({'cadmium': 'vs'})]\n",
      "[Component({'lithology': 'dolomie'}), Component({'arsenic': 'inconnu'}), Component({'cadmium': 'vr'})]\n",
      "Summary : [Striplog(5 Intervals, start=0.0, stop=40.0)]\n",
      "\n",
      "|__ID:'BH10'\n",
      "[Component({'lithology': 'sable'}), Component({'arsenic': 'vr'}), Component({'cadmium': 'inconnu'})]\n",
      "[Component({'lithology': 'argile'}), Component({'arsenic': 'inconnu'}), Component({'cadmium': 'vr'})]\n",
      "[Component({'lithology': 'marne'}), Component({'arsenic': 'vi'}), Component({'cadmium': 'vi'})]\n",
      "Summary : [Striplog(3 Intervals, start=0.0, stop=11.0)]\n",
      "\n",
      "End of the process : 10 unique ID found\n"
     ]
    },
    {
     "name": "stderr",
     "output_type": "stream",
     "text": [
      "/home/yanathan/Projects/GSDMA/utils/utils.py:255: SAWarning: relationship 'ComponentOrm.intervals' will copy column Components.id to column Linkintervalcomponent.comp_id, which conflicts with relationship(s): 'IntervalOrm.components' (copies Components.id to Linkintervalcomponent.comp_id). If this is not the intention, consider if these relationships should be linked with back_populates, or if viewonly=True should be applied to one or more if they are read-only. For the less common case that foreign key constraints are partially overlapping, the orm.foreign() annotation can be used to isolate the columns that should be written towards.   To silence this warning, add the parameter 'overlaps=\"components\"' to the 'ComponentOrm.intervals' relationship.\n",
      "  boreholes_orm.append(BoreholeOrm(id=bh_name))\n",
      "/home/yanathan/Projects/GSDMA/utils/utils.py:255: SAWarning: relationship 'ComponentOrm.intervals' will copy column Intervals.id to column Linkintervalcomponent.int_id, which conflicts with relationship(s): 'IntervalOrm.components' (copies Intervals.id to Linkintervalcomponent.int_id). If this is not the intention, consider if these relationships should be linked with back_populates, or if viewonly=True should be applied to one or more if they are read-only. For the less common case that foreign key constraints are partially overlapping, the orm.foreign() annotation can be used to isolate the columns that should be written towards.   To silence this warning, add the parameter 'overlaps=\"components\"' to the 'ComponentOrm.intervals' relationship.\n",
      "  boreholes_orm.append(BoreholeOrm(id=bh_name))\n",
      "/home/yanathan/Projects/GSDMA/utils/utils.py:255: SAWarning: relationship 'ComponentOrm.component_assoc' will copy column Components.id to column Linkintervalcomponent.comp_id, which conflicts with relationship(s): 'ComponentOrm.intervals' (copies Components.id to Linkintervalcomponent.comp_id), 'IntervalOrm.components' (copies Components.id to Linkintervalcomponent.comp_id). If this is not the intention, consider if these relationships should be linked with back_populates, or if viewonly=True should be applied to one or more if they are read-only. For the less common case that foreign key constraints are partially overlapping, the orm.foreign() annotation can be used to isolate the columns that should be written towards.   To silence this warning, add the parameter 'overlaps=\"components,intervals\"' to the 'ComponentOrm.component_assoc' relationship.\n",
      "  boreholes_orm.append(BoreholeOrm(id=bh_name))\n",
      "/home/yanathan/Projects/GSDMA/utils/utils.py:255: SAWarning: relationship 'LinkIntervalComponentOrm.component' will copy column Components.id to column Linkintervalcomponent.comp_id, which conflicts with relationship(s): 'ComponentOrm.intervals' (copies Components.id to Linkintervalcomponent.comp_id), 'IntervalOrm.components' (copies Components.id to Linkintervalcomponent.comp_id). If this is not the intention, consider if these relationships should be linked with back_populates, or if viewonly=True should be applied to one or more if they are read-only. For the less common case that foreign key constraints are partially overlapping, the orm.foreign() annotation can be used to isolate the columns that should be written towards.   To silence this warning, add the parameter 'overlaps=\"components,intervals\"' to the 'LinkIntervalComponentOrm.component' relationship.\n",
      "  boreholes_orm.append(BoreholeOrm(id=bh_name))\n",
      "/home/yanathan/Projects/GSDMA/utils/utils.py:255: SAWarning: relationship 'IntervalOrm.interval_assoc' will copy column Intervals.id to column Linkintervalcomponent.int_id, which conflicts with relationship(s): 'ComponentOrm.intervals' (copies Intervals.id to Linkintervalcomponent.int_id), 'IntervalOrm.components' (copies Intervals.id to Linkintervalcomponent.int_id). If this is not the intention, consider if these relationships should be linked with back_populates, or if viewonly=True should be applied to one or more if they are read-only. For the less common case that foreign key constraints are partially overlapping, the orm.foreign() annotation can be used to isolate the columns that should be written towards.   To silence this warning, add the parameter 'overlaps=\"components,intervals\"' to the 'IntervalOrm.interval_assoc' relationship.\n",
      "  boreholes_orm.append(BoreholeOrm(id=bh_name))\n",
      "/home/yanathan/Projects/GSDMA/utils/utils.py:255: SAWarning: relationship 'LinkIntervalComponentOrm.interval' will copy column Intervals.id to column Linkintervalcomponent.int_id, which conflicts with relationship(s): 'ComponentOrm.intervals' (copies Intervals.id to Linkintervalcomponent.int_id), 'IntervalOrm.components' (copies Intervals.id to Linkintervalcomponent.int_id). If this is not the intention, consider if these relationships should be linked with back_populates, or if viewonly=True should be applied to one or more if they are read-only. For the less common case that foreign key constraints are partially overlapping, the orm.foreign() annotation can be used to isolate the columns that should be written towards.   To silence this warning, add the parameter 'overlaps=\"components,intervals\"' to the 'LinkIntervalComponentOrm.interval' relationship.\n",
      "  boreholes_orm.append(BoreholeOrm(id=bh_name))\n"
     ]
    }
   ],
   "source": [
    "boreholes, components, link_intv_comp = boreholes_from_dataframe(df[:50], verbose=False,\n",
    "                                                attributes=['Lithology']+pollutants, \n",
    "                                                symbols={'lithology':{'lexicon':lexicon_memoris}}, \n",
    "                                                diameter='Diameter', thickness='Thickness')"
   ]
  },
  {
   "cell_type": "raw",
   "metadata": {},
   "source": [
    "boreholes[170].intervals[850].top.x, boreholes[170].intervals[850].top.y"
   ]
  },
  {
   "cell_type": "code",
   "execution_count": 12,
   "metadata": {},
   "outputs": [
    {
     "data": {
      "text/plain": [
       "[<core.orm.BoreholeOrm>(Name=BH001, Length=28.0, Diameter=0.43, Intervals=4),\n",
       " <core.orm.BoreholeOrm>(Name=BH002, Length=37.0, Diameter=0.6, Intervals=5),\n",
       " <core.orm.BoreholeOrm>(Name=BH003, Length=18.0, Diameter=0.41, Intervals=5),\n",
       " <core.orm.BoreholeOrm>(Name=BH004, Length=26.0, Diameter=0.61, Intervals=5),\n",
       " <core.orm.BoreholeOrm>(Name=BH005, Length=36.0, Diameter=0.61, Intervals=7),\n",
       " <core.orm.BoreholeOrm>(Name=BH006, Length=26.0, Diameter=0.31, Intervals=5),\n",
       " <core.orm.BoreholeOrm>(Name=BH007, Length=45.0, Diameter=0.57, Intervals=6),\n",
       " <core.orm.BoreholeOrm>(Name=BH008, Length=35.0, Diameter=0.39, Intervals=5),\n",
       " <core.orm.BoreholeOrm>(Name=BH009, Length=40.0, Diameter=0.5, Intervals=5),\n",
       " <core.orm.BoreholeOrm>(Name=BH10, Length=11.0, Diameter=0.31, Intervals=3)]"
      ]
     },
     "execution_count": 12,
     "metadata": {},
     "output_type": "execute_result"
    }
   ],
   "source": [
    "boreholes"
   ]
  },
  {
   "cell_type": "code",
   "execution_count": 13,
   "metadata": {},
   "outputs": [
    {
     "data": {
      "text/plain": [
       "{0: Component({'lithology': 'sable'}),\n",
       " 1: Component({'arsenic': 'vs'}),\n",
       " 2: Component({'cadmium': 'vr'}),\n",
       " 3: Component({'lithology': 'argile'}),\n",
       " 4: Component({'arsenic': 'vr'}),\n",
       " 5: Component({'lithology': 'marne'}),\n",
       " 6: Component({'cadmium': 'vs'}),\n",
       " 7: Component({'lithology': 'charbon'}),\n",
       " 8: Component({'arsenic': 'vi'}),\n",
       " 9: Component({'cadmium': 'inconnu'}),\n",
       " 10: Component({'cadmium': 'vi'}),\n",
       " 11: Component({'lithology': 'dolomie'}),\n",
       " 12: Component({'arsenic': 'inconnu'}),\n",
       " 13: Component({'lithology': 'schiste'}),\n",
       " 14: Component({'lithology': 'calcaire'})}"
      ]
     },
     "execution_count": 13,
     "metadata": {},
     "output_type": "execute_result"
    }
   ],
   "source": [
    "components"
   ]
  },
  {
   "cell_type": "code",
   "execution_count": 14,
   "metadata": {},
   "outputs": [
    {
     "data": {
      "text/plain": [
       "{(0, 0): {'extra_data': ''},\n",
       " (0, 1): {'extra_data': ''},\n",
       " (0, 2): {'extra_data': ''},\n",
       " (1, 3): {'extra_data': ''},\n",
       " (1, 4): {'extra_data': ''},\n",
       " (1, 2): {'extra_data': ''},\n",
       " (2, 5): {'extra_data': ''},\n",
       " (2, 1): {'extra_data': ''},\n",
       " (2, 6): {'extra_data': ''},\n",
       " (3, 7): {'extra_data': ''},\n",
       " (3, 8): {'extra_data': ''},\n",
       " (3, 9): {'extra_data': ''},\n",
       " (4, 0): {'extra_data': ''},\n",
       " (4, 4): {'extra_data': ''},\n",
       " (4, 6): {'extra_data': ''},\n",
       " (5, 3): {'extra_data': ''},\n",
       " (5, 1): {'extra_data': ''},\n",
       " (5, 9): {'extra_data': ''},\n",
       " (6, 5): {'extra_data': ''},\n",
       " (6, 8): {'extra_data': ''},\n",
       " (6, 10): {'extra_data': ''},\n",
       " (7, 7): {'extra_data': ''},\n",
       " (7, 1): {'extra_data': ''},\n",
       " (7, 10): {'extra_data': ''},\n",
       " (8, 11): {'extra_data': ''},\n",
       " (8, 12): {'extra_data': ''},\n",
       " (8, 9): {'extra_data': ''},\n",
       " (9, 0): {'extra_data': ''},\n",
       " (9, 12): {'extra_data': ''},\n",
       " (9, 10): {'extra_data': ''},\n",
       " (10, 3): {'extra_data': ''},\n",
       " (10, 1): {'extra_data': ''},\n",
       " (10, 9): {'extra_data': ''},\n",
       " (11, 5): {'extra_data': ''},\n",
       " (11, 1): {'extra_data': ''},\n",
       " (11, 10): {'extra_data': ''},\n",
       " (12, 7): {'extra_data': ''},\n",
       " (12, 1): {'extra_data': ''},\n",
       " (12, 9): {'extra_data': ''},\n",
       " (13, 11): {'extra_data': ''},\n",
       " (13, 1): {'extra_data': ''},\n",
       " (13, 2): {'extra_data': ''},\n",
       " (14, 0): {'extra_data': ''},\n",
       " (14, 8): {'extra_data': ''},\n",
       " (14, 2): {'extra_data': ''},\n",
       " (15, 3): {'extra_data': ''},\n",
       " (15, 12): {'extra_data': ''},\n",
       " (15, 9): {'extra_data': ''},\n",
       " (16, 5): {'extra_data': ''},\n",
       " (16, 4): {'extra_data': ''},\n",
       " (16, 10): {'extra_data': ''},\n",
       " (17, 7): {'extra_data': ''},\n",
       " (17, 1): {'extra_data': ''},\n",
       " (17, 6): {'extra_data': ''},\n",
       " (18, 11): {'extra_data': ''},\n",
       " (18, 12): {'extra_data': ''},\n",
       " (18, 6): {'extra_data': ''},\n",
       " (19, 0): {'extra_data': ''},\n",
       " (19, 4): {'extra_data': ''},\n",
       " (19, 10): {'extra_data': ''},\n",
       " (20, 3): {'extra_data': ''},\n",
       " (20, 1): {'extra_data': ''},\n",
       " (20, 9): {'extra_data': ''},\n",
       " (21, 5): {'extra_data': ''},\n",
       " (21, 4): {'extra_data': ''},\n",
       " (21, 10): {'extra_data': ''},\n",
       " (22, 7): {'extra_data': ''},\n",
       " (22, 4): {'extra_data': ''},\n",
       " (22, 6): {'extra_data': ''},\n",
       " (23, 11): {'extra_data': ''},\n",
       " (23, 1): {'extra_data': ''},\n",
       " (23, 9): {'extra_data': ''},\n",
       " (24, 13): {'extra_data': ''},\n",
       " (24, 8): {'extra_data': ''},\n",
       " (24, 2): {'extra_data': ''},\n",
       " (25, 14): {'extra_data': ''},\n",
       " (25, 12): {'extra_data': ''},\n",
       " (25, 2): {'extra_data': ''},\n",
       " (26, 0): {'extra_data': ''},\n",
       " (26, 12): {'extra_data': ''},\n",
       " (26, 10): {'extra_data': ''},\n",
       " (27, 3): {'extra_data': ''},\n",
       " (27, 1): {'extra_data': ''},\n",
       " (27, 2): {'extra_data': ''},\n",
       " (28, 5): {'extra_data': ''},\n",
       " (28, 1): {'extra_data': ''},\n",
       " (28, 6): {'extra_data': ''},\n",
       " (29, 7): {'extra_data': ''},\n",
       " (29, 8): {'extra_data': ''},\n",
       " (29, 2): {'extra_data': ''},\n",
       " (30, 11): {'extra_data': ''},\n",
       " (30, 4): {'extra_data': ''},\n",
       " (30, 2): {'extra_data': ''},\n",
       " (31, 0): {'extra_data': ''},\n",
       " (31, 4): {'extra_data': ''},\n",
       " (31, 2): {'extra_data': ''},\n",
       " (32, 3): {'extra_data': ''},\n",
       " (32, 4): {'extra_data': ''},\n",
       " (32, 10): {'extra_data': ''},\n",
       " (33, 5): {'extra_data': ''},\n",
       " (33, 1): {'extra_data': ''},\n",
       " (33, 2): {'extra_data': ''},\n",
       " (34, 7): {'extra_data': ''},\n",
       " (34, 4): {'extra_data': ''},\n",
       " (34, 2): {'extra_data': ''},\n",
       " (35, 11): {'extra_data': ''},\n",
       " (35, 8): {'extra_data': ''},\n",
       " (35, 9): {'extra_data': ''},\n",
       " (36, 14): {'extra_data': ''},\n",
       " (36, 1): {'extra_data': ''},\n",
       " (36, 2): {'extra_data': ''},\n",
       " (37, 0): {'extra_data': ''},\n",
       " (37, 4): {'extra_data': ''},\n",
       " (37, 2): {'extra_data': ''},\n",
       " (38, 3): {'extra_data': ''},\n",
       " (38, 12): {'extra_data': ''},\n",
       " (38, 10): {'extra_data': ''},\n",
       " (39, 5): {'extra_data': ''},\n",
       " (39, 12): {'extra_data': ''},\n",
       " (39, 10): {'extra_data': ''},\n",
       " (40, 7): {'extra_data': ''},\n",
       " (40, 12): {'extra_data': ''},\n",
       " (40, 10): {'extra_data': ''},\n",
       " (41, 11): {'extra_data': ''},\n",
       " (41, 4): {'extra_data': ''},\n",
       " (41, 9): {'extra_data': ''},\n",
       " (42, 0): {'extra_data': ''},\n",
       " (42, 4): {'extra_data': ''},\n",
       " (42, 2): {'extra_data': ''},\n",
       " (43, 3): {'extra_data': ''},\n",
       " (43, 4): {'extra_data': ''},\n",
       " (43, 2): {'extra_data': ''},\n",
       " (44, 5): {'extra_data': ''},\n",
       " (44, 4): {'extra_data': ''},\n",
       " (44, 9): {'extra_data': ''},\n",
       " (45, 7): {'extra_data': ''},\n",
       " (45, 4): {'extra_data': ''},\n",
       " (45, 6): {'extra_data': ''},\n",
       " (46, 11): {'extra_data': ''},\n",
       " (46, 12): {'extra_data': ''},\n",
       " (46, 2): {'extra_data': ''},\n",
       " (47, 0): {'extra_data': ''},\n",
       " (47, 4): {'extra_data': ''},\n",
       " (47, 9): {'extra_data': ''},\n",
       " (48, 3): {'extra_data': ''},\n",
       " (48, 12): {'extra_data': ''},\n",
       " (48, 2): {'extra_data': ''},\n",
       " (49, 5): {'extra_data': ''},\n",
       " (49, 8): {'extra_data': ''},\n",
       " (49, 10): {'extra_data': ''}}"
      ]
     },
     "execution_count": 14,
     "metadata": {},
     "output_type": "execute_result"
    }
   ],
   "source": [
    "link_intv_comp"
   ]
  },
  {
   "cell_type": "code",
   "execution_count": 15,
   "metadata": {},
   "outputs": [
    {
     "data": {
      "text/plain": [
       "(10, 15)"
      ]
     },
     "execution_count": 15,
     "metadata": {},
     "output_type": "execute_result"
    }
   ],
   "source": [
    "len(boreholes), len(components)"
   ]
  },
  {
   "cell_type": "markdown",
   "metadata": {},
   "source": [
    "## Create a project and save data in a database"
   ]
  },
  {
   "cell_type": "code",
   "execution_count": 16,
   "metadata": {},
   "outputs": [],
   "source": [
    "remove('tmp_files/tfe_orm_db.db')"
   ]
  },
  {
   "cell_type": "code",
   "execution_count": 17,
   "metadata": {},
   "outputs": [],
   "source": [
    "engine = create_engine('sqlite:///tmp_files/tfe_orm_db.db', echo=True)"
   ]
  },
  {
   "cell_type": "code",
   "execution_count": 18,
   "metadata": {
    "scrolled": true
   },
   "outputs": [
    {
     "name": "stdout",
     "output_type": "stream",
     "text": [
      "2021-07-21 02:25:37,029 INFO sqlalchemy.engine.Engine BEGIN (implicit)\n",
      "2021-07-21 02:25:37,030 INFO sqlalchemy.engine.Engine PRAGMA main.table_info(\"Boreholes\")\n",
      "2021-07-21 02:25:37,030 INFO sqlalchemy.engine.Engine [raw sql] ()\n",
      "2021-07-21 02:25:37,032 INFO sqlalchemy.engine.Engine PRAGMA temp.table_info(\"Boreholes\")\n",
      "2021-07-21 02:25:37,032 INFO sqlalchemy.engine.Engine [raw sql] ()\n",
      "2021-07-21 02:25:37,033 INFO sqlalchemy.engine.Engine PRAGMA main.table_info(\"Intervals\")\n",
      "2021-07-21 02:25:37,034 INFO sqlalchemy.engine.Engine [raw sql] ()\n",
      "2021-07-21 02:25:37,035 INFO sqlalchemy.engine.Engine PRAGMA temp.table_info(\"Intervals\")\n",
      "2021-07-21 02:25:37,035 INFO sqlalchemy.engine.Engine [raw sql] ()\n",
      "2021-07-21 02:25:37,036 INFO sqlalchemy.engine.Engine PRAGMA main.table_info(\"Components\")\n",
      "2021-07-21 02:25:37,037 INFO sqlalchemy.engine.Engine [raw sql] ()\n",
      "2021-07-21 02:25:37,039 INFO sqlalchemy.engine.Engine PRAGMA temp.table_info(\"Components\")\n",
      "2021-07-21 02:25:37,039 INFO sqlalchemy.engine.Engine [raw sql] ()\n",
      "2021-07-21 02:25:37,040 INFO sqlalchemy.engine.Engine PRAGMA main.table_info(\"Linkintervalcomponent\")\n",
      "2021-07-21 02:25:37,041 INFO sqlalchemy.engine.Engine [raw sql] ()\n",
      "2021-07-21 02:25:37,042 INFO sqlalchemy.engine.Engine PRAGMA temp.table_info(\"Linkintervalcomponent\")\n",
      "2021-07-21 02:25:37,043 INFO sqlalchemy.engine.Engine [raw sql] ()\n",
      "2021-07-21 02:25:37,044 INFO sqlalchemy.engine.Engine PRAGMA main.table_info(\"Positions\")\n",
      "2021-07-21 02:25:37,045 INFO sqlalchemy.engine.Engine [raw sql] ()\n",
      "2021-07-21 02:25:37,046 INFO sqlalchemy.engine.Engine PRAGMA temp.table_info(\"Positions\")\n",
      "2021-07-21 02:25:37,046 INFO sqlalchemy.engine.Engine [raw sql] ()\n",
      "2021-07-21 02:25:37,047 INFO sqlalchemy.engine.Engine PRAGMA main.table_info(\"IntervalData\")\n",
      "2021-07-21 02:25:37,048 INFO sqlalchemy.engine.Engine [raw sql] ()\n",
      "2021-07-21 02:25:37,049 INFO sqlalchemy.engine.Engine PRAGMA temp.table_info(\"IntervalData\")\n",
      "2021-07-21 02:25:37,049 INFO sqlalchemy.engine.Engine [raw sql] ()\n",
      "2021-07-21 02:25:37,051 INFO sqlalchemy.engine.Engine \n",
      "CREATE TABLE \"Boreholes\" (\n",
      "\tid VARCHAR(32) NOT NULL, \n",
      "\tlength FLOAT, \n",
      "\tdiameter FLOAT, \n",
      "\tPRIMARY KEY (id)\n",
      ")\n",
      "\n",
      "\n",
      "2021-07-21 02:25:37,052 INFO sqlalchemy.engine.Engine [no key 0.00074s] ()\n",
      "2021-07-21 02:25:37,056 INFO sqlalchemy.engine.Engine \n",
      "CREATE TABLE \"Intervals\" (\n",
      "\tid INTEGER NOT NULL, \n",
      "\tborehole VARCHAR(32), \n",
      "\tinterval_number INTEGER, \n",
      "\tdescription VARCHAR(32), \n",
      "\ttop_id INTEGER, \n",
      "\tbase_id INTEGER, \n",
      "\tdata_id INTEGER, \n",
      "\tPRIMARY KEY (id), \n",
      "\tFOREIGN KEY(borehole) REFERENCES \"Boreholes\" (id), \n",
      "\tFOREIGN KEY(top_id) REFERENCES \"Positions\" (id), \n",
      "\tFOREIGN KEY(base_id) REFERENCES \"Positions\" (id), \n",
      "\tFOREIGN KEY(data_id) REFERENCES \"IntervalData\" (id)\n",
      ")\n",
      "\n",
      "\n",
      "2021-07-21 02:25:37,057 INFO sqlalchemy.engine.Engine [no key 0.00102s] ()\n",
      "2021-07-21 02:25:37,062 INFO sqlalchemy.engine.Engine \n",
      "CREATE TABLE \"Components\" (\n",
      "\tid INTEGER NOT NULL, \n",
      "\tdescription VARCHAR(32), \n",
      "\tPRIMARY KEY (id)\n",
      ")\n",
      "\n",
      "\n",
      "2021-07-21 02:25:37,062 INFO sqlalchemy.engine.Engine [no key 0.00074s] ()\n",
      "2021-07-21 02:25:37,067 INFO sqlalchemy.engine.Engine \n",
      "CREATE TABLE \"Positions\" (\n",
      "\tid INTEGER NOT NULL, \n",
      "\tupper FLOAT, \n",
      "\tmiddle FLOAT, \n",
      "\tlower FLOAT, \n",
      "\tx FLOAT, \n",
      "\ty FLOAT, \n",
      "\tPRIMARY KEY (id)\n",
      ")\n",
      "\n",
      "\n",
      "2021-07-21 02:25:37,068 INFO sqlalchemy.engine.Engine [no key 0.00083s] ()\n",
      "2021-07-21 02:25:37,072 INFO sqlalchemy.engine.Engine \n",
      "CREATE TABLE \"IntervalData\" (\n",
      "\tid INTEGER NOT NULL, \n",
      "\tinterval INTEGER, \n",
      "\t\"key\" VARCHAR(32), \n",
      "\tvalue FLOAT, \n",
      "\tunits VARCHAR(32), \n",
      "\tPRIMARY KEY (id), \n",
      "\tFOREIGN KEY(interval) REFERENCES \"Intervals\" (id)\n",
      ")\n",
      "\n",
      "\n",
      "2021-07-21 02:25:37,073 INFO sqlalchemy.engine.Engine [no key 0.00108s] ()\n",
      "2021-07-21 02:25:37,078 INFO sqlalchemy.engine.Engine \n",
      "CREATE TABLE \"Linkintervalcomponent\" (\n",
      "\tint_id INTEGER NOT NULL, \n",
      "\tcomp_id INTEGER NOT NULL, \n",
      "\textra_data VARCHAR(256), \n",
      "\tPRIMARY KEY (int_id, comp_id), \n",
      "\tFOREIGN KEY(int_id) REFERENCES \"Intervals\" (id), \n",
      "\tFOREIGN KEY(comp_id) REFERENCES \"Components\" (id)\n",
      ")\n",
      "\n",
      "\n",
      "2021-07-21 02:25:37,079 INFO sqlalchemy.engine.Engine [no key 0.00082s] ()\n",
      "2021-07-21 02:25:37,083 INFO sqlalchemy.engine.Engine COMMIT\n"
     ]
    }
   ],
   "source": [
    "Base.metadata.create_all(engine)"
   ]
  },
  {
   "cell_type": "code",
   "execution_count": 19,
   "metadata": {},
   "outputs": [],
   "source": [
    "Session = sessionmaker(bind=engine)\n",
    "session = Session()"
   ]
  },
  {
   "cell_type": "markdown",
   "metadata": {},
   "source": [
    "## Define project legend(s) and default attribute for representation"
   ]
  },
  {
   "cell_type": "code",
   "execution_count": 20,
   "metadata": {},
   "outputs": [],
   "source": [
    "leg_dict = {**{'lithology':{'legend':lithology_memoris}},**{k:{'legend':None} for k in pollutants}}"
   ]
  },
  {
   "cell_type": "code",
   "execution_count": 21,
   "metadata": {},
   "outputs": [
    {
     "name": "stdout",
     "output_type": "stream",
     "text": [
      "2021-07-21 02:25:37,105 INFO sqlalchemy.engine.Engine BEGIN (implicit)\n",
      "2021-07-21 02:25:37,109 INFO sqlalchemy.engine.Engine SELECT \"Boreholes\".id AS \"Boreholes_id\", \"Boreholes\".length AS \"Boreholes_length\", \"Boreholes\".diameter AS \"Boreholes_diameter\" \n",
      "FROM \"Boreholes\"\n",
      "2021-07-21 02:25:37,110 INFO sqlalchemy.engine.Engine [generated in 0.00118s] ()\n"
     ]
    }
   ],
   "source": [
    "p = Project(session, lexicon=lexicon_memoris, repr_attribute='lithology', legend_dict=leg_dict)"
   ]
  },
  {
   "cell_type": "code",
   "execution_count": 22,
   "metadata": {},
   "outputs": [
    {
     "data": {
      "text/plain": [
       "dict_keys(['lithology', 'arsenic', 'cadmium'])"
      ]
     },
     "execution_count": 22,
     "metadata": {},
     "output_type": "execute_result"
    }
   ],
   "source": [
    "p.legend_dict.keys()"
   ]
  },
  {
   "cell_type": "code",
   "execution_count": 23,
   "metadata": {},
   "outputs": [
    {
     "name": "stdout",
     "output_type": "stream",
     "text": [
      "2021-07-21 02:25:37,128 INFO sqlalchemy.engine.Engine INSERT INTO \"Components\" (id, description) VALUES (?, ?)\n",
      "2021-07-21 02:25:37,130 INFO sqlalchemy.engine.Engine [generated in 0.00169s] ((0, 'Sable'), (1, 'Vs'), (2, 'Vr'), (3, 'Argile'), (4, 'Vr'), (5, 'Marne'), (6, 'Vs'), (7, 'Charbon')  ... displaying 10 of 15 total bound parameter sets ...  (13, 'Schiste'), (14, 'Calcaire'))\n",
      "2021-07-21 02:25:37,132 INFO sqlalchemy.engine.Engine COMMIT\n",
      "2021-07-21 02:25:37,136 INFO sqlalchemy.engine.Engine BEGIN (implicit)\n",
      "2021-07-21 02:25:37,137 INFO sqlalchemy.engine.Engine SELECT \"Boreholes\".id AS \"Boreholes_id\", \"Boreholes\".length AS \"Boreholes_length\", \"Boreholes\".diameter AS \"Boreholes_diameter\" \n",
      "FROM \"Boreholes\"\n",
      "2021-07-21 02:25:37,137 INFO sqlalchemy.engine.Engine [cached since 0.02867s ago] ()\n"
     ]
    }
   ],
   "source": [
    "p.add_components(components)"
   ]
  },
  {
   "cell_type": "code",
   "execution_count": 24,
   "metadata": {},
   "outputs": [
    {
     "data": {
      "text/plain": [
       "{0: Component({'lithology': 'sable'}),\n",
       " 1: Component({'arsenic': 'vs'}),\n",
       " 2: Component({'cadmium': 'vr'}),\n",
       " 3: Component({'lithology': 'argile'}),\n",
       " 4: Component({'arsenic': 'vr'}),\n",
       " 5: Component({'lithology': 'marne'}),\n",
       " 6: Component({'cadmium': 'vs'}),\n",
       " 7: Component({'lithology': 'charbon'}),\n",
       " 8: Component({'arsenic': 'vi'}),\n",
       " 9: Component({'cadmium': 'inconnu'}),\n",
       " 10: Component({'cadmium': 'vi'}),\n",
       " 11: Component({'lithology': 'dolomie'}),\n",
       " 12: Component({'arsenic': 'inconnu'}),\n",
       " 13: Component({'lithology': 'schiste'}),\n",
       " 14: Component({'lithology': 'calcaire'})}"
      ]
     },
     "execution_count": 24,
     "metadata": {},
     "output_type": "execute_result"
    }
   ],
   "source": [
    "p.__components__"
   ]
  },
  {
   "cell_type": "markdown",
   "metadata": {},
   "source": [
    "Add boreholes into the project"
   ]
  },
  {
   "cell_type": "code",
   "execution_count": 25,
   "metadata": {
    "scrolled": true
   },
   "outputs": [
    {
     "name": "stdout",
     "output_type": "stream",
     "text": [
      "2021-07-21 02:25:37,151 INFO sqlalchemy.engine.Engine INSERT INTO \"Boreholes\" (id, length, diameter) VALUES (?, ?, ?)\n",
      "2021-07-21 02:25:37,153 INFO sqlalchemy.engine.Engine [generated in 0.00169s] ('BH001', 28.0, 0.43)\n",
      "2021-07-21 02:25:37,155 INFO sqlalchemy.engine.Engine INSERT INTO \"Positions\" (id, upper, middle, lower, x, y) VALUES (?, ?, ?, ?, ?, ?)\n",
      "2021-07-21 02:25:37,156 INFO sqlalchemy.engine.Engine [generated in 0.00083s] ((0, 101.0, 101.0, 101.0, 152600.0, 121039.0), (1, 97.0, 97.0, 97.0, 152600.0, 121039.0), (2, 97.0, 97.0, 97.0, 152600.0, 121039.0), (3, 93.0, 93.0, 93.0, 152600.0, 121039.0), (4, 93.0, 93.0, 93.0, 152600.0, 121039.0), (5, 81.0, 81.0, 81.0, 152600.0, 121039.0), (6, 81.0, 81.0, 81.0, 152600.0, 121039.0), (7, 73.0, 73.0, 73.0, 152600.0, 121039.0))\n",
      "2021-07-21 02:25:37,158 INFO sqlalchemy.engine.Engine INSERT INTO \"Intervals\" (id, borehole, interval_number, description, top_id, base_id, data_id) VALUES (?, ?, ?, ?, ?, ?, ?)\n",
      "2021-07-21 02:25:37,159 INFO sqlalchemy.engine.Engine [generated in 0.00067s] ((0, 'BH001', 0, '{\"lithology\": \"sable\"}, {\"arsenic\": \"vs\"}, {\"cadmium\": \"vr\"}', 0, 1, None), (1, 'BH001', 1, '{\"lithology\": \"argile\"}, {\"arsenic\": \"vr\"}, {\"cadmium\": \"vr\"}', 2, 3, None), (2, 'BH001', 2, '{\"lithology\": \"marne\"}, {\"arsenic\": \"vs\"}, {\"cadmium\": \"vs\"}', 4, 5, None), (3, 'BH001', 3, '{\"lithology\": \"charbon\"}, {\"arsenic\": \"vi\"}, {\"cadmium\": \"inconnu\"}', 6, 7, None))\n",
      "2021-07-21 02:25:37,160 INFO sqlalchemy.engine.Engine COMMIT\n",
      "2021-07-21 02:25:37,163 INFO sqlalchemy.engine.Engine BEGIN (implicit)\n",
      "2021-07-21 02:25:37,164 INFO sqlalchemy.engine.Engine SELECT \"Boreholes\".id AS \"Boreholes_id\", \"Boreholes\".length AS \"Boreholes_length\", \"Boreholes\".diameter AS \"Boreholes_diameter\" \n",
      "FROM \"Boreholes\"\n",
      "2021-07-21 02:25:37,165 INFO sqlalchemy.engine.Engine [cached since 0.05597s ago] ()\n",
      "2021-07-21 02:25:37,170 INFO sqlalchemy.engine.Engine SELECT \"Intervals\".id AS \"Intervals_id\", \"Intervals\".borehole AS \"Intervals_borehole\", \"Intervals\".interval_number AS \"Intervals_interval_number\", \"Intervals\".description AS \"Intervals_description\", \"Intervals\".top_id AS \"Intervals_top_id\", \"Intervals\".base_id AS \"Intervals_base_id\", \"Intervals\".data_id AS \"Intervals_data_id\" \n",
      "FROM \"Intervals\" \n",
      "WHERE ? = \"Intervals\".borehole\n",
      "2021-07-21 02:25:37,171 INFO sqlalchemy.engine.Engine [generated in 0.00099s] ('BH001',)\n",
      "2021-07-21 02:25:37,176 INFO sqlalchemy.engine.Engine SELECT \"Positions\".id AS \"Positions_id\", \"Positions\".upper AS \"Positions_upper\", \"Positions\".middle AS \"Positions_middle\", \"Positions\".lower AS \"Positions_lower\", \"Positions\".x AS \"Positions_x\", \"Positions\".y AS \"Positions_y\" \n",
      "FROM \"Positions\" \n",
      "WHERE \"Positions\".id = ?\n",
      "2021-07-21 02:25:37,176 INFO sqlalchemy.engine.Engine [generated in 0.00076s] (0,)\n",
      "2021-07-21 02:25:37,180 INFO sqlalchemy.engine.Engine SELECT \"Positions\".id AS \"Positions_id\", \"Positions\".upper AS \"Positions_upper\", \"Positions\".middle AS \"Positions_middle\", \"Positions\".lower AS \"Positions_lower\", \"Positions\".x AS \"Positions_x\", \"Positions\".y AS \"Positions_y\" \n",
      "FROM \"Positions\" \n",
      "WHERE \"Positions\".id = ?\n",
      "2021-07-21 02:25:37,181 INFO sqlalchemy.engine.Engine [generated in 0.00103s] (1,)\n",
      "2021-07-21 02:25:37,184 INFO sqlalchemy.engine.Engine SELECT \"Positions\".id AS \"Positions_id\", \"Positions\".upper AS \"Positions_upper\", \"Positions\".middle AS \"Positions_middle\", \"Positions\".lower AS \"Positions_lower\", \"Positions\".x AS \"Positions_x\", \"Positions\".y AS \"Positions_y\" \n",
      "FROM \"Positions\" \n",
      "WHERE \"Positions\".id = ?\n",
      "2021-07-21 02:25:37,184 INFO sqlalchemy.engine.Engine [cached since 0.008781s ago] (2,)\n",
      "2021-07-21 02:25:37,186 INFO sqlalchemy.engine.Engine SELECT \"Positions\".id AS \"Positions_id\", \"Positions\".upper AS \"Positions_upper\", \"Positions\".middle AS \"Positions_middle\", \"Positions\".lower AS \"Positions_lower\", \"Positions\".x AS \"Positions_x\", \"Positions\".y AS \"Positions_y\" \n",
      "FROM \"Positions\" \n",
      "WHERE \"Positions\".id = ?\n",
      "2021-07-21 02:25:37,187 INFO sqlalchemy.engine.Engine [cached since 0.006738s ago] (3,)\n",
      "2021-07-21 02:25:37,189 INFO sqlalchemy.engine.Engine SELECT \"Positions\".id AS \"Positions_id\", \"Positions\".upper AS \"Positions_upper\", \"Positions\".middle AS \"Positions_middle\", \"Positions\".lower AS \"Positions_lower\", \"Positions\".x AS \"Positions_x\", \"Positions\".y AS \"Positions_y\" \n",
      "FROM \"Positions\" \n",
      "WHERE \"Positions\".id = ?\n",
      "2021-07-21 02:25:37,190 INFO sqlalchemy.engine.Engine [cached since 0.01435s ago] (4,)\n",
      "2021-07-21 02:25:37,191 INFO sqlalchemy.engine.Engine SELECT \"Positions\".id AS \"Positions_id\", \"Positions\".upper AS \"Positions_upper\", \"Positions\".middle AS \"Positions_middle\", \"Positions\".lower AS \"Positions_lower\", \"Positions\".x AS \"Positions_x\", \"Positions\".y AS \"Positions_y\" \n",
      "FROM \"Positions\" \n",
      "WHERE \"Positions\".id = ?\n",
      "2021-07-21 02:25:37,192 INFO sqlalchemy.engine.Engine [cached since 0.01177s ago] (5,)\n",
      "2021-07-21 02:25:37,193 INFO sqlalchemy.engine.Engine SELECT \"Positions\".id AS \"Positions_id\", \"Positions\".upper AS \"Positions_upper\", \"Positions\".middle AS \"Positions_middle\", \"Positions\".lower AS \"Positions_lower\", \"Positions\".x AS \"Positions_x\", \"Positions\".y AS \"Positions_y\" \n",
      "FROM \"Positions\" \n",
      "WHERE \"Positions\".id = ?\n",
      "2021-07-21 02:25:37,194 INFO sqlalchemy.engine.Engine [cached since 0.01872s ago] (6,)\n",
      "2021-07-21 02:25:37,196 INFO sqlalchemy.engine.Engine SELECT \"Positions\".id AS \"Positions_id\", \"Positions\".upper AS \"Positions_upper\", \"Positions\".middle AS \"Positions_middle\", \"Positions\".lower AS \"Positions_lower\", \"Positions\".x AS \"Positions_x\", \"Positions\".y AS \"Positions_y\" \n",
      "FROM \"Positions\" \n",
      "WHERE \"Positions\".id = ?\n",
      "2021-07-21 02:25:37,196 INFO sqlalchemy.engine.Engine [cached since 0.0162s ago] (7,)\n",
      "\n",
      "*_*_*_*_ {'top': Position({'middle': 101.0, 'x': 152600.0, 'y': 121039.0, 'units': 'm'}), 'base': Position({'middle': 97.0, 'x': 152600.0, 'y': 121039.0, 'units': 'm'}), 'description': '{\"lithology\": \"sable\"}, {\"arsenic\": \"vs\"}, {\"cadmium\": \"vr\"}', 'data': {}, 'components': [Component({'lithology': 'sable'}), Component({'arsenic': 'vs'}), Component({'cadmium': 'vr'})]} \n",
      "\n",
      "Borehole geometry created successfully !\n",
      "2021-07-21 02:25:37,217 INFO sqlalchemy.engine.Engine UPDATE \"Boreholes\" SET length=? WHERE \"Boreholes\".id = ?\n",
      "2021-07-21 02:25:37,218 INFO sqlalchemy.engine.Engine [generated in 0.00104s] (97.0, 'BH001')\n",
      "2021-07-21 02:25:37,219 INFO sqlalchemy.engine.Engine INSERT INTO \"Boreholes\" (id, length, diameter) VALUES (?, ?, ?)\n",
      "2021-07-21 02:25:37,220 INFO sqlalchemy.engine.Engine [cached since 0.06908s ago] ('BH002', 37.0, 0.6)\n",
      "2021-07-21 02:25:37,222 INFO sqlalchemy.engine.Engine INSERT INTO \"Positions\" (id, upper, middle, lower, x, y) VALUES (?, ?, ?, ?, ?, ?)\n",
      "2021-07-21 02:25:37,222 INFO sqlalchemy.engine.Engine [cached since 0.06745s ago] ((8, 103.0, 103.0, 103.0, 152819.0, 121586.0), (9, 98.0, 98.0, 98.0, 152819.0, 121586.0), (10, 98.0, 98.0, 98.0, 152819.0, 121586.0), (11, 95.0, 95.0, 95.0, 152819.0, 121586.0), (12, 95.0, 95.0, 95.0, 152819.0, 121586.0), (13, 89.0, 89.0, 89.0, 152819.0, 121586.0), (14, 89.0, 89.0, 89.0, 152819.0, 121586.0), (15, 88.0, 88.0, 88.0, 152819.0, 121586.0), (16, 88.0, 88.0, 88.0, 152819.0, 121586.0), (17, 66.0, 66.0, 66.0, 152819.0, 121586.0))\n",
      "2021-07-21 02:25:37,224 INFO sqlalchemy.engine.Engine INSERT INTO \"Intervals\" (id, borehole, interval_number, description, top_id, base_id, data_id) VALUES (?, ?, ?, ?, ?, ?, ?)\n",
      "2021-07-21 02:25:37,225 INFO sqlalchemy.engine.Engine [cached since 0.06682s ago] ((4, 'BH002', 0, '{\"lithology\": \"sable\"}, {\"arsenic\": \"vr\"}, {\"cadmium\": \"vs\"}', 8, 9, None), (5, 'BH002', 1, '{\"lithology\": \"argile\"}, {\"arsenic\": \"vs\"}, {\"cadmium\": \"inconnu\"}', 10, 11, None), (6, 'BH002', 2, '{\"lithology\": \"marne\"}, {\"arsenic\": \"vi\"}, {\"cadmium\": \"vi\"}', 12, 13, None), (7, 'BH002', 3, '{\"lithology\": \"charbon\"}, {\"arsenic\": \"vs\"}, {\"cadmium\": \"vi\"}', 14, 15, None), (8, 'BH002', 4, '{\"lithology\": \"dolomie\"}, {\"arsenic\": \"inconnu\"}, {\"cadmium\": \"inconnu\"}', 16, 17, None))\n",
      "2021-07-21 02:25:37,227 INFO sqlalchemy.engine.Engine COMMIT\n",
      "2021-07-21 02:25:37,231 INFO sqlalchemy.engine.Engine BEGIN (implicit)\n",
      "2021-07-21 02:25:37,232 INFO sqlalchemy.engine.Engine SELECT \"Boreholes\".id AS \"Boreholes_id\", \"Boreholes\".length AS \"Boreholes_length\", \"Boreholes\".diameter AS \"Boreholes_diameter\" \n",
      "FROM \"Boreholes\"\n"
     ]
    },
    {
     "name": "stdout",
     "output_type": "stream",
     "text": [
      "2021-07-21 02:25:37,233 INFO sqlalchemy.engine.Engine [cached since 0.124s ago] ()\n",
      "2021-07-21 02:25:37,235 INFO sqlalchemy.engine.Engine SELECT \"Intervals\".id AS \"Intervals_id\", \"Intervals\".borehole AS \"Intervals_borehole\", \"Intervals\".interval_number AS \"Intervals_interval_number\", \"Intervals\".description AS \"Intervals_description\", \"Intervals\".top_id AS \"Intervals_top_id\", \"Intervals\".base_id AS \"Intervals_base_id\", \"Intervals\".data_id AS \"Intervals_data_id\" \n",
      "FROM \"Intervals\" \n",
      "WHERE ? = \"Intervals\".borehole\n",
      "2021-07-21 02:25:37,236 INFO sqlalchemy.engine.Engine [cached since 0.0659s ago] ('BH002',)\n",
      "2021-07-21 02:25:37,238 INFO sqlalchemy.engine.Engine SELECT \"Positions\".id AS \"Positions_id\", \"Positions\".upper AS \"Positions_upper\", \"Positions\".middle AS \"Positions_middle\", \"Positions\".lower AS \"Positions_lower\", \"Positions\".x AS \"Positions_x\", \"Positions\".y AS \"Positions_y\" \n",
      "FROM \"Positions\" \n",
      "WHERE \"Positions\".id = ?\n",
      "2021-07-21 02:25:37,239 INFO sqlalchemy.engine.Engine [cached since 0.0637s ago] (8,)\n",
      "2021-07-21 02:25:37,241 INFO sqlalchemy.engine.Engine SELECT \"Positions\".id AS \"Positions_id\", \"Positions\".upper AS \"Positions_upper\", \"Positions\".middle AS \"Positions_middle\", \"Positions\".lower AS \"Positions_lower\", \"Positions\".x AS \"Positions_x\", \"Positions\".y AS \"Positions_y\" \n",
      "FROM \"Positions\" \n",
      "WHERE \"Positions\".id = ?\n",
      "2021-07-21 02:25:37,242 INFO sqlalchemy.engine.Engine [cached since 0.06199s ago] (9,)\n",
      "2021-07-21 02:25:37,244 INFO sqlalchemy.engine.Engine SELECT \"Positions\".id AS \"Positions_id\", \"Positions\".upper AS \"Positions_upper\", \"Positions\".middle AS \"Positions_middle\", \"Positions\".lower AS \"Positions_lower\", \"Positions\".x AS \"Positions_x\", \"Positions\".y AS \"Positions_y\" \n",
      "FROM \"Positions\" \n",
      "WHERE \"Positions\".id = ?\n",
      "2021-07-21 02:25:37,245 INFO sqlalchemy.engine.Engine [cached since 0.0696s ago] (10,)\n",
      "2021-07-21 02:25:37,247 INFO sqlalchemy.engine.Engine SELECT \"Positions\".id AS \"Positions_id\", \"Positions\".upper AS \"Positions_upper\", \"Positions\".middle AS \"Positions_middle\", \"Positions\".lower AS \"Positions_lower\", \"Positions\".x AS \"Positions_x\", \"Positions\".y AS \"Positions_y\" \n",
      "FROM \"Positions\" \n",
      "WHERE \"Positions\".id = ?\n",
      "2021-07-21 02:25:37,247 INFO sqlalchemy.engine.Engine [cached since 0.06712s ago] (11,)\n",
      "2021-07-21 02:25:37,249 INFO sqlalchemy.engine.Engine SELECT \"Positions\".id AS \"Positions_id\", \"Positions\".upper AS \"Positions_upper\", \"Positions\".middle AS \"Positions_middle\", \"Positions\".lower AS \"Positions_lower\", \"Positions\".x AS \"Positions_x\", \"Positions\".y AS \"Positions_y\" \n",
      "FROM \"Positions\" \n",
      "WHERE \"Positions\".id = ?\n",
      "2021-07-21 02:25:37,251 INFO sqlalchemy.engine.Engine [cached since 0.07523s ago] (12,)\n",
      "2021-07-21 02:25:37,252 INFO sqlalchemy.engine.Engine SELECT \"Positions\".id AS \"Positions_id\", \"Positions\".upper AS \"Positions_upper\", \"Positions\".middle AS \"Positions_middle\", \"Positions\".lower AS \"Positions_lower\", \"Positions\".x AS \"Positions_x\", \"Positions\".y AS \"Positions_y\" \n",
      "FROM \"Positions\" \n",
      "WHERE \"Positions\".id = ?\n",
      "2021-07-21 02:25:37,253 INFO sqlalchemy.engine.Engine [cached since 0.07259s ago] (13,)\n",
      "2021-07-21 02:25:37,255 INFO sqlalchemy.engine.Engine SELECT \"Positions\".id AS \"Positions_id\", \"Positions\".upper AS \"Positions_upper\", \"Positions\".middle AS \"Positions_middle\", \"Positions\".lower AS \"Positions_lower\", \"Positions\".x AS \"Positions_x\", \"Positions\".y AS \"Positions_y\" \n",
      "FROM \"Positions\" \n",
      "WHERE \"Positions\".id = ?\n",
      "2021-07-21 02:25:37,256 INFO sqlalchemy.engine.Engine [cached since 0.08017s ago] (14,)\n",
      "2021-07-21 02:25:37,258 INFO sqlalchemy.engine.Engine SELECT \"Positions\".id AS \"Positions_id\", \"Positions\".upper AS \"Positions_upper\", \"Positions\".middle AS \"Positions_middle\", \"Positions\".lower AS \"Positions_lower\", \"Positions\".x AS \"Positions_x\", \"Positions\".y AS \"Positions_y\" \n",
      "FROM \"Positions\" \n",
      "WHERE \"Positions\".id = ?\n",
      "2021-07-21 02:25:37,259 INFO sqlalchemy.engine.Engine [cached since 0.07887s ago] (15,)\n",
      "2021-07-21 02:25:37,261 INFO sqlalchemy.engine.Engine SELECT \"Positions\".id AS \"Positions_id\", \"Positions\".upper AS \"Positions_upper\", \"Positions\".middle AS \"Positions_middle\", \"Positions\".lower AS \"Positions_lower\", \"Positions\".x AS \"Positions_x\", \"Positions\".y AS \"Positions_y\" \n",
      "FROM \"Positions\" \n",
      "WHERE \"Positions\".id = ?\n",
      "2021-07-21 02:25:37,262 INFO sqlalchemy.engine.Engine [cached since 0.08624s ago] (16,)\n",
      "2021-07-21 02:25:37,263 INFO sqlalchemy.engine.Engine SELECT \"Positions\".id AS \"Positions_id\", \"Positions\".upper AS \"Positions_upper\", \"Positions\".middle AS \"Positions_middle\", \"Positions\".lower AS \"Positions_lower\", \"Positions\".x AS \"Positions_x\", \"Positions\".y AS \"Positions_y\" \n",
      "FROM \"Positions\" \n",
      "WHERE \"Positions\".id = ?\n",
      "2021-07-21 02:25:37,264 INFO sqlalchemy.engine.Engine [cached since 0.08397s ago] (17,)\n",
      "\n",
      "*_*_*_*_ {'top': Position({'middle': 103.0, 'x': 152819.0, 'y': 121586.0, 'units': 'm'}), 'base': Position({'middle': 98.0, 'x': 152819.0, 'y': 121586.0, 'units': 'm'}), 'description': '{\"lithology\": \"sable\"}, {\"arsenic\": \"vr\"}, {\"cadmium\": \"vs\"}', 'data': {}, 'components': [Component({'lithology': 'sable'}), Component({'arsenic': 'vr'}), Component({'cadmium': 'vs'})]} \n",
      "\n",
      "Borehole geometry created successfully !\n",
      "2021-07-21 02:25:37,280 INFO sqlalchemy.engine.Engine UPDATE \"Boreholes\" SET length=? WHERE \"Boreholes\".id = ?\n",
      "2021-07-21 02:25:37,282 INFO sqlalchemy.engine.Engine [cached since 0.06564s ago] (98.0, 'BH002')\n",
      "2021-07-21 02:25:37,284 INFO sqlalchemy.engine.Engine INSERT INTO \"Boreholes\" (id, length, diameter) VALUES (?, ?, ?)\n",
      "2021-07-21 02:25:37,284 INFO sqlalchemy.engine.Engine [cached since 0.1336s ago] ('BH003', 18.0, 0.41)\n",
      "2021-07-21 02:25:37,286 INFO sqlalchemy.engine.Engine INSERT INTO \"Positions\" (id, upper, middle, lower, x, y) VALUES (?, ?, ?, ?, ?, ?)\n",
      "2021-07-21 02:25:37,287 INFO sqlalchemy.engine.Engine [cached since 0.1317s ago] ((18, 103.0, 103.0, 103.0, 152922.0, 121313.0), (19, 100.0, 100.0, 100.0, 152922.0, 121313.0), (20, 100.0, 100.0, 100.0, 152922.0, 121313.0), (21, 97.0, 97.0, 97.0, 152922.0, 121313.0), (22, 97.0, 97.0, 97.0, 152922.0, 121313.0), (23, 94.0, 94.0, 94.0, 152922.0, 121313.0), (24, 94.0, 94.0, 94.0, 152922.0, 121313.0), (25, 90.0, 90.0, 90.0, 152922.0, 121313.0), (26, 90.0, 90.0, 90.0, 152922.0, 121313.0), (27, 85.0, 85.0, 85.0, 152922.0, 121313.0))\n",
      "2021-07-21 02:25:37,289 INFO sqlalchemy.engine.Engine INSERT INTO \"Intervals\" (id, borehole, interval_number, description, top_id, base_id, data_id) VALUES (?, ?, ?, ?, ?, ?, ?)\n",
      "2021-07-21 02:25:37,289 INFO sqlalchemy.engine.Engine [cached since 0.1312s ago] ((9, 'BH003', 0, '{\"lithology\": \"sable\"}, {\"arsenic\": \"inconnu\"}, {\"cadmium\": \"vi\"}', 18, 19, None), (10, 'BH003', 1, '{\"lithology\": \"argile\"}, {\"arsenic\": \"vs\"}, {\"cadmium\": \"inconnu\"}', 20, 21, None), (11, 'BH003', 2, '{\"lithology\": \"marne\"}, {\"arsenic\": \"vs\"}, {\"cadmium\": \"vi\"}', 22, 23, None), (12, 'BH003', 3, '{\"lithology\": \"charbon\"}, {\"arsenic\": \"vs\"}, {\"cadmium\": \"inconnu\"}', 24, 25, None), (13, 'BH003', 4, '{\"lithology\": \"dolomie\"}, {\"arsenic\": \"vs\"}, {\"cadmium\": \"vr\"}', 26, 27, None))\n",
      "2021-07-21 02:25:37,291 INFO sqlalchemy.engine.Engine COMMIT\n",
      "2021-07-21 02:25:37,296 INFO sqlalchemy.engine.Engine BEGIN (implicit)\n",
      "2021-07-21 02:25:37,298 INFO sqlalchemy.engine.Engine SELECT \"Boreholes\".id AS \"Boreholes_id\", \"Boreholes\".length AS \"Boreholes_length\", \"Boreholes\".diameter AS \"Boreholes_diameter\" \n",
      "FROM \"Boreholes\"\n",
      "2021-07-21 02:25:37,298 INFO sqlalchemy.engine.Engine [cached since 0.1896s ago] ()\n",
      "2021-07-21 02:25:37,300 INFO sqlalchemy.engine.Engine SELECT \"Intervals\".id AS \"Intervals_id\", \"Intervals\".borehole AS \"Intervals_borehole\", \"Intervals\".interval_number AS \"Intervals_interval_number\", \"Intervals\".description AS \"Intervals_description\", \"Intervals\".top_id AS \"Intervals_top_id\", \"Intervals\".base_id AS \"Intervals_base_id\", \"Intervals\".data_id AS \"Intervals_data_id\" \n",
      "FROM \"Intervals\" \n",
      "WHERE ? = \"Intervals\".borehole\n",
      "2021-07-21 02:25:37,301 INFO sqlalchemy.engine.Engine [cached since 0.1309s ago] ('BH003',)\n",
      "2021-07-21 02:25:37,303 INFO sqlalchemy.engine.Engine SELECT \"Positions\".id AS \"Positions_id\", \"Positions\".upper AS \"Positions_upper\", \"Positions\".middle AS \"Positions_middle\", \"Positions\".lower AS \"Positions_lower\", \"Positions\".x AS \"Positions_x\", \"Positions\".y AS \"Positions_y\" \n",
      "FROM \"Positions\" \n",
      "WHERE \"Positions\".id = ?\n"
     ]
    },
    {
     "name": "stdout",
     "output_type": "stream",
     "text": [
      "2021-07-21 02:25:37,303 INFO sqlalchemy.engine.Engine [cached since 0.1279s ago] (18,)\n",
      "2021-07-21 02:25:37,305 INFO sqlalchemy.engine.Engine SELECT \"Positions\".id AS \"Positions_id\", \"Positions\".upper AS \"Positions_upper\", \"Positions\".middle AS \"Positions_middle\", \"Positions\".lower AS \"Positions_lower\", \"Positions\".x AS \"Positions_x\", \"Positions\".y AS \"Positions_y\" \n",
      "FROM \"Positions\" \n",
      "WHERE \"Positions\".id = ?\n",
      "2021-07-21 02:25:37,306 INFO sqlalchemy.engine.Engine [cached since 0.1256s ago] (19,)\n",
      "2021-07-21 02:25:37,307 INFO sqlalchemy.engine.Engine SELECT \"Positions\".id AS \"Positions_id\", \"Positions\".upper AS \"Positions_upper\", \"Positions\".middle AS \"Positions_middle\", \"Positions\".lower AS \"Positions_lower\", \"Positions\".x AS \"Positions_x\", \"Positions\".y AS \"Positions_y\" \n",
      "FROM \"Positions\" \n",
      "WHERE \"Positions\".id = ?\n",
      "2021-07-21 02:25:37,308 INFO sqlalchemy.engine.Engine [cached since 0.1326s ago] (20,)\n",
      "2021-07-21 02:25:37,310 INFO sqlalchemy.engine.Engine SELECT \"Positions\".id AS \"Positions_id\", \"Positions\".upper AS \"Positions_upper\", \"Positions\".middle AS \"Positions_middle\", \"Positions\".lower AS \"Positions_lower\", \"Positions\".x AS \"Positions_x\", \"Positions\".y AS \"Positions_y\" \n",
      "FROM \"Positions\" \n",
      "WHERE \"Positions\".id = ?\n",
      "2021-07-21 02:25:37,311 INFO sqlalchemy.engine.Engine [cached since 0.1306s ago] (21,)\n",
      "2021-07-21 02:25:37,312 INFO sqlalchemy.engine.Engine SELECT \"Positions\".id AS \"Positions_id\", \"Positions\".upper AS \"Positions_upper\", \"Positions\".middle AS \"Positions_middle\", \"Positions\".lower AS \"Positions_lower\", \"Positions\".x AS \"Positions_x\", \"Positions\".y AS \"Positions_y\" \n",
      "FROM \"Positions\" \n",
      "WHERE \"Positions\".id = ?\n",
      "2021-07-21 02:25:37,313 INFO sqlalchemy.engine.Engine [cached since 0.1376s ago] (22,)\n",
      "2021-07-21 02:25:37,315 INFO sqlalchemy.engine.Engine SELECT \"Positions\".id AS \"Positions_id\", \"Positions\".upper AS \"Positions_upper\", \"Positions\".middle AS \"Positions_middle\", \"Positions\".lower AS \"Positions_lower\", \"Positions\".x AS \"Positions_x\", \"Positions\".y AS \"Positions_y\" \n",
      "FROM \"Positions\" \n",
      "WHERE \"Positions\".id = ?\n",
      "2021-07-21 02:25:37,316 INFO sqlalchemy.engine.Engine [cached since 0.1355s ago] (23,)\n",
      "2021-07-21 02:25:37,317 INFO sqlalchemy.engine.Engine SELECT \"Positions\".id AS \"Positions_id\", \"Positions\".upper AS \"Positions_upper\", \"Positions\".middle AS \"Positions_middle\", \"Positions\".lower AS \"Positions_lower\", \"Positions\".x AS \"Positions_x\", \"Positions\".y AS \"Positions_y\" \n",
      "FROM \"Positions\" \n",
      "WHERE \"Positions\".id = ?\n",
      "2021-07-21 02:25:37,318 INFO sqlalchemy.engine.Engine [cached since 0.1427s ago] (24,)\n",
      "2021-07-21 02:25:37,320 INFO sqlalchemy.engine.Engine SELECT \"Positions\".id AS \"Positions_id\", \"Positions\".upper AS \"Positions_upper\", \"Positions\".middle AS \"Positions_middle\", \"Positions\".lower AS \"Positions_lower\", \"Positions\".x AS \"Positions_x\", \"Positions\".y AS \"Positions_y\" \n",
      "FROM \"Positions\" \n",
      "WHERE \"Positions\".id = ?\n",
      "2021-07-21 02:25:37,320 INFO sqlalchemy.engine.Engine [cached since 0.1402s ago] (25,)\n",
      "2021-07-21 02:25:37,322 INFO sqlalchemy.engine.Engine SELECT \"Positions\".id AS \"Positions_id\", \"Positions\".upper AS \"Positions_upper\", \"Positions\".middle AS \"Positions_middle\", \"Positions\".lower AS \"Positions_lower\", \"Positions\".x AS \"Positions_x\", \"Positions\".y AS \"Positions_y\" \n",
      "FROM \"Positions\" \n",
      "WHERE \"Positions\".id = ?\n",
      "2021-07-21 02:25:37,323 INFO sqlalchemy.engine.Engine [cached since 0.1477s ago] (26,)\n",
      "2021-07-21 02:25:37,325 INFO sqlalchemy.engine.Engine SELECT \"Positions\".id AS \"Positions_id\", \"Positions\".upper AS \"Positions_upper\", \"Positions\".middle AS \"Positions_middle\", \"Positions\".lower AS \"Positions_lower\", \"Positions\".x AS \"Positions_x\", \"Positions\".y AS \"Positions_y\" \n",
      "FROM \"Positions\" \n",
      "WHERE \"Positions\".id = ?\n",
      "2021-07-21 02:25:37,325 INFO sqlalchemy.engine.Engine [cached since 0.1452s ago] (27,)\n",
      "\n",
      "*_*_*_*_ {'top': Position({'middle': 103.0, 'x': 152922.0, 'y': 121313.0, 'units': 'm'}), 'base': Position({'middle': 100.0, 'x': 152922.0, 'y': 121313.0, 'units': 'm'}), 'description': '{\"lithology\": \"sable\"}, {\"arsenic\": \"inconnu\"}, {\"cadmium\": \"vi\"}', 'data': {}, 'components': [Component({'lithology': 'sable'}), Component({'arsenic': 'inconnu'}), Component({'cadmium': 'vi'})]} \n",
      "\n",
      "Borehole geometry created successfully !\n",
      "2021-07-21 02:25:37,345 INFO sqlalchemy.engine.Engine UPDATE \"Boreholes\" SET length=? WHERE \"Boreholes\".id = ?\n",
      "2021-07-21 02:25:37,346 INFO sqlalchemy.engine.Engine [cached since 0.1294s ago] (100.0, 'BH003')\n",
      "2021-07-21 02:25:37,347 INFO sqlalchemy.engine.Engine INSERT INTO \"Boreholes\" (id, length, diameter) VALUES (?, ?, ?)\n",
      "2021-07-21 02:25:37,348 INFO sqlalchemy.engine.Engine [cached since 0.1975s ago] ('BH004', 26.0, 0.61)\n",
      "2021-07-21 02:25:37,350 INFO sqlalchemy.engine.Engine INSERT INTO \"Positions\" (id, upper, middle, lower, x, y) VALUES (?, ?, ?, ?, ?, ?)\n",
      "2021-07-21 02:25:37,350 INFO sqlalchemy.engine.Engine [cached since 0.1954s ago] ((28, 101.0, 101.0, 101.0, 152766.0, 121494.0), (29, 96.0, 96.0, 96.0, 152766.0, 121494.0), (30, 96.0, 96.0, 96.0, 152766.0, 121494.0), (31, 94.0, 94.0, 94.0, 152766.0, 121494.0), (32, 94.0, 94.0, 94.0, 152766.0, 121494.0), (33, 87.0, 87.0, 87.0, 152766.0, 121494.0), (34, 87.0, 87.0, 87.0, 152766.0, 121494.0), (35, 85.0, 85.0, 85.0, 152766.0, 121494.0), (36, 85.0, 85.0, 85.0, 152766.0, 121494.0), (37, 75.0, 75.0, 75.0, 152766.0, 121494.0))\n",
      "2021-07-21 02:25:37,352 INFO sqlalchemy.engine.Engine INSERT INTO \"Intervals\" (id, borehole, interval_number, description, top_id, base_id, data_id) VALUES (?, ?, ?, ?, ?, ?, ?)\n",
      "2021-07-21 02:25:37,353 INFO sqlalchemy.engine.Engine [cached since 0.1949s ago] ((14, 'BH004', 0, '{\"lithology\": \"sable\"}, {\"arsenic\": \"vi\"}, {\"cadmium\": \"vr\"}', 28, 29, None), (15, 'BH004', 1, '{\"lithology\": \"argile\"}, {\"arsenic\": \"inconnu\"}, {\"cadmium\": \"inconnu\"}', 30, 31, None), (16, 'BH004', 2, '{\"lithology\": \"marne\"}, {\"arsenic\": \"vr\"}, {\"cadmium\": \"vi\"}', 32, 33, None), (17, 'BH004', 3, '{\"lithology\": \"charbon\"}, {\"arsenic\": \"vs\"}, {\"cadmium\": \"vs\"}', 34, 35, None), (18, 'BH004', 4, '{\"lithology\": \"dolomie\"}, {\"arsenic\": \"inconnu\"}, {\"cadmium\": \"vs\"}', 36, 37, None))\n",
      "2021-07-21 02:25:37,355 INFO sqlalchemy.engine.Engine COMMIT\n",
      "2021-07-21 02:25:37,359 INFO sqlalchemy.engine.Engine BEGIN (implicit)\n",
      "2021-07-21 02:25:37,361 INFO sqlalchemy.engine.Engine SELECT \"Boreholes\".id AS \"Boreholes_id\", \"Boreholes\".length AS \"Boreholes_length\", \"Boreholes\".diameter AS \"Boreholes_diameter\" \n",
      "FROM \"Boreholes\"\n",
      "2021-07-21 02:25:37,362 INFO sqlalchemy.engine.Engine [cached since 0.253s ago] ()\n",
      "2021-07-21 02:25:37,364 INFO sqlalchemy.engine.Engine SELECT \"Intervals\".id AS \"Intervals_id\", \"Intervals\".borehole AS \"Intervals_borehole\", \"Intervals\".interval_number AS \"Intervals_interval_number\", \"Intervals\".description AS \"Intervals_description\", \"Intervals\".top_id AS \"Intervals_top_id\", \"Intervals\".base_id AS \"Intervals_base_id\", \"Intervals\".data_id AS \"Intervals_data_id\" \n",
      "FROM \"Intervals\" \n",
      "WHERE ? = \"Intervals\".borehole\n",
      "2021-07-21 02:25:37,365 INFO sqlalchemy.engine.Engine [cached since 0.1947s ago] ('BH004',)\n",
      "2021-07-21 02:25:37,367 INFO sqlalchemy.engine.Engine SELECT \"Positions\".id AS \"Positions_id\", \"Positions\".upper AS \"Positions_upper\", \"Positions\".middle AS \"Positions_middle\", \"Positions\".lower AS \"Positions_lower\", \"Positions\".x AS \"Positions_x\", \"Positions\".y AS \"Positions_y\" \n",
      "FROM \"Positions\" \n",
      "WHERE \"Positions\".id = ?\n",
      "2021-07-21 02:25:37,368 INFO sqlalchemy.engine.Engine [cached since 0.1923s ago] (28,)\n",
      "2021-07-21 02:25:37,370 INFO sqlalchemy.engine.Engine SELECT \"Positions\".id AS \"Positions_id\", \"Positions\".upper AS \"Positions_upper\", \"Positions\".middle AS \"Positions_middle\", \"Positions\".lower AS \"Positions_lower\", \"Positions\".x AS \"Positions_x\", \"Positions\".y AS \"Positions_y\" \n",
      "FROM \"Positions\" \n",
      "WHERE \"Positions\".id = ?\n",
      "2021-07-21 02:25:37,371 INFO sqlalchemy.engine.Engine [cached since 0.1904s ago] (29,)\n",
      "2021-07-21 02:25:37,373 INFO sqlalchemy.engine.Engine SELECT \"Positions\".id AS \"Positions_id\", \"Positions\".upper AS \"Positions_upper\", \"Positions\".middle AS \"Positions_middle\", \"Positions\".lower AS \"Positions_lower\", \"Positions\".x AS \"Positions_x\", \"Positions\".y AS \"Positions_y\" \n",
      "FROM \"Positions\" \n",
      "WHERE \"Positions\".id = ?\n",
      "2021-07-21 02:25:37,374 INFO sqlalchemy.engine.Engine [cached since 0.1982s ago] (30,)\n"
     ]
    },
    {
     "name": "stdout",
     "output_type": "stream",
     "text": [
      "2021-07-21 02:25:37,376 INFO sqlalchemy.engine.Engine SELECT \"Positions\".id AS \"Positions_id\", \"Positions\".upper AS \"Positions_upper\", \"Positions\".middle AS \"Positions_middle\", \"Positions\".lower AS \"Positions_lower\", \"Positions\".x AS \"Positions_x\", \"Positions\".y AS \"Positions_y\" \n",
      "FROM \"Positions\" \n",
      "WHERE \"Positions\".id = ?\n",
      "2021-07-21 02:25:37,376 INFO sqlalchemy.engine.Engine [cached since 0.1961s ago] (31,)\n",
      "2021-07-21 02:25:37,378 INFO sqlalchemy.engine.Engine SELECT \"Positions\".id AS \"Positions_id\", \"Positions\".upper AS \"Positions_upper\", \"Positions\".middle AS \"Positions_middle\", \"Positions\".lower AS \"Positions_lower\", \"Positions\".x AS \"Positions_x\", \"Positions\".y AS \"Positions_y\" \n",
      "FROM \"Positions\" \n",
      "WHERE \"Positions\".id = ?\n",
      "2021-07-21 02:25:37,379 INFO sqlalchemy.engine.Engine [cached since 0.2039s ago] (32,)\n",
      "2021-07-21 02:25:37,381 INFO sqlalchemy.engine.Engine SELECT \"Positions\".id AS \"Positions_id\", \"Positions\".upper AS \"Positions_upper\", \"Positions\".middle AS \"Positions_middle\", \"Positions\".lower AS \"Positions_lower\", \"Positions\".x AS \"Positions_x\", \"Positions\".y AS \"Positions_y\" \n",
      "FROM \"Positions\" \n",
      "WHERE \"Positions\".id = ?\n",
      "2021-07-21 02:25:37,382 INFO sqlalchemy.engine.Engine [cached since 0.202s ago] (33,)\n",
      "2021-07-21 02:25:37,384 INFO sqlalchemy.engine.Engine SELECT \"Positions\".id AS \"Positions_id\", \"Positions\".upper AS \"Positions_upper\", \"Positions\".middle AS \"Positions_middle\", \"Positions\".lower AS \"Positions_lower\", \"Positions\".x AS \"Positions_x\", \"Positions\".y AS \"Positions_y\" \n",
      "FROM \"Positions\" \n",
      "WHERE \"Positions\".id = ?\n",
      "2021-07-21 02:25:37,385 INFO sqlalchemy.engine.Engine [cached since 0.2099s ago] (34,)\n",
      "2021-07-21 02:25:37,387 INFO sqlalchemy.engine.Engine SELECT \"Positions\".id AS \"Positions_id\", \"Positions\".upper AS \"Positions_upper\", \"Positions\".middle AS \"Positions_middle\", \"Positions\".lower AS \"Positions_lower\", \"Positions\".x AS \"Positions_x\", \"Positions\".y AS \"Positions_y\" \n",
      "FROM \"Positions\" \n",
      "WHERE \"Positions\".id = ?\n",
      "2021-07-21 02:25:37,388 INFO sqlalchemy.engine.Engine [cached since 0.2082s ago] (35,)\n",
      "2021-07-21 02:25:37,391 INFO sqlalchemy.engine.Engine SELECT \"Positions\".id AS \"Positions_id\", \"Positions\".upper AS \"Positions_upper\", \"Positions\".middle AS \"Positions_middle\", \"Positions\".lower AS \"Positions_lower\", \"Positions\".x AS \"Positions_x\", \"Positions\".y AS \"Positions_y\" \n",
      "FROM \"Positions\" \n",
      "WHERE \"Positions\".id = ?\n",
      "2021-07-21 02:25:37,392 INFO sqlalchemy.engine.Engine [cached since 0.2165s ago] (36,)\n",
      "2021-07-21 02:25:37,394 INFO sqlalchemy.engine.Engine SELECT \"Positions\".id AS \"Positions_id\", \"Positions\".upper AS \"Positions_upper\", \"Positions\".middle AS \"Positions_middle\", \"Positions\".lower AS \"Positions_lower\", \"Positions\".x AS \"Positions_x\", \"Positions\".y AS \"Positions_y\" \n",
      "FROM \"Positions\" \n",
      "WHERE \"Positions\".id = ?\n",
      "2021-07-21 02:25:37,395 INFO sqlalchemy.engine.Engine [cached since 0.2152s ago] (37,)\n",
      "\n",
      "*_*_*_*_ {'top': Position({'middle': 101.0, 'x': 152766.0, 'y': 121494.0, 'units': 'm'}), 'base': Position({'middle': 96.0, 'x': 152766.0, 'y': 121494.0, 'units': 'm'}), 'description': '{\"lithology\": \"sable\"}, {\"arsenic\": \"vi\"}, {\"cadmium\": \"vr\"}', 'data': {}, 'components': [Component({'lithology': 'sable'}), Component({'arsenic': 'vi'}), Component({'cadmium': 'vr'})]} \n",
      "\n",
      "Borehole geometry created successfully !\n",
      "2021-07-21 02:25:37,412 INFO sqlalchemy.engine.Engine UPDATE \"Boreholes\" SET length=? WHERE \"Boreholes\".id = ?\n",
      "2021-07-21 02:25:37,413 INFO sqlalchemy.engine.Engine [cached since 0.1963s ago] (96.0, 'BH004')\n",
      "2021-07-21 02:25:37,415 INFO sqlalchemy.engine.Engine INSERT INTO \"Boreholes\" (id, length, diameter) VALUES (?, ?, ?)\n",
      "2021-07-21 02:25:37,415 INFO sqlalchemy.engine.Engine [cached since 0.2644s ago] ('BH005', 36.0, 0.61)\n",
      "2021-07-21 02:25:37,417 INFO sqlalchemy.engine.Engine INSERT INTO \"Positions\" (id, upper, middle, lower, x, y) VALUES (?, ?, ?, ?, ?, ?)\n",
      "2021-07-21 02:25:37,418 INFO sqlalchemy.engine.Engine [cached since 0.2627s ago] ((38, 101.0, 101.0, 101.0, 152473.0, 121460.0), (39, 97.0, 97.0, 97.0, 152473.0, 121460.0), (40, 97.0, 97.0, 97.0, 152473.0, 121460.0), (41, 93.0, 93.0, 93.0, 152473.0, 121460.0), (42, 93.0, 93.0, 93.0, 152473.0, 121460.0), (43, 82.0, 82.0, 82.0, 152473.0, 121460.0), (44, 82.0, 82.0, 82.0, 152473.0, 121460.0), (45, 74.0, 74.0, 74.0, 152473.0, 121460.0)  ... displaying 10 of 14 total bound parameter sets ...  (50, 69.0, 69.0, 69.0, 152473.0, 121460.0), (51, 65.0, 65.0, 65.0, 152473.0, 121460.0))\n",
      "2021-07-21 02:25:37,419 INFO sqlalchemy.engine.Engine INSERT INTO \"Intervals\" (id, borehole, interval_number, description, top_id, base_id, data_id) VALUES (?, ?, ?, ?, ?, ?, ?)\n",
      "2021-07-21 02:25:37,420 INFO sqlalchemy.engine.Engine [cached since 0.2623s ago] ((19, 'BH005', 0, '{\"lithology\": \"sable\"}, {\"arsenic\": \"vr\"}, {\"cadmium\": \"vi\"}', 38, 39, None), (20, 'BH005', 1, '{\"lithology\": \"argile\"}, {\"arsenic\": \"vs\"}, {\"cadmium\": \"inconnu\"}', 40, 41, None), (21, 'BH005', 2, '{\"lithology\": \"marne\"}, {\"arsenic\": \"vr\"}, {\"cadmium\": \"vi\"}', 42, 43, None), (22, 'BH005', 3, '{\"lithology\": \"charbon\"}, {\"arsenic\": \"vr\"}, {\"cadmium\": \"vs\"}', 44, 45, None), (23, 'BH005', 4, '{\"lithology\": \"dolomie\"}, {\"arsenic\": \"vs\"}, {\"cadmium\": \"inconnu\"}', 46, 47, None), (24, 'BH005', 5, '{\"lithology\": \"schiste\"}, {\"arsenic\": \"vi\"}, {\"cadmium\": \"vr\"}', 48, 49, None), (25, 'BH005', 6, '{\"lithology\": \"calcaire\"}, {\"arsenic\": \"inconnu\"}, {\"cadmium\": \"vr\"}', 50, 51, None))\n",
      "2021-07-21 02:25:37,422 INFO sqlalchemy.engine.Engine COMMIT\n",
      "2021-07-21 02:25:37,426 INFO sqlalchemy.engine.Engine BEGIN (implicit)\n",
      "2021-07-21 02:25:37,427 INFO sqlalchemy.engine.Engine SELECT \"Boreholes\".id AS \"Boreholes_id\", \"Boreholes\".length AS \"Boreholes_length\", \"Boreholes\".diameter AS \"Boreholes_diameter\" \n",
      "FROM \"Boreholes\"\n",
      "2021-07-21 02:25:37,428 INFO sqlalchemy.engine.Engine [cached since 0.3191s ago] ()\n",
      "2021-07-21 02:25:37,429 INFO sqlalchemy.engine.Engine SELECT \"Intervals\".id AS \"Intervals_id\", \"Intervals\".borehole AS \"Intervals_borehole\", \"Intervals\".interval_number AS \"Intervals_interval_number\", \"Intervals\".description AS \"Intervals_description\", \"Intervals\".top_id AS \"Intervals_top_id\", \"Intervals\".base_id AS \"Intervals_base_id\", \"Intervals\".data_id AS \"Intervals_data_id\" \n",
      "FROM \"Intervals\" \n",
      "WHERE ? = \"Intervals\".borehole\n",
      "2021-07-21 02:25:37,430 INFO sqlalchemy.engine.Engine [cached since 0.2601s ago] ('BH005',)\n",
      "2021-07-21 02:25:37,432 INFO sqlalchemy.engine.Engine SELECT \"Positions\".id AS \"Positions_id\", \"Positions\".upper AS \"Positions_upper\", \"Positions\".middle AS \"Positions_middle\", \"Positions\".lower AS \"Positions_lower\", \"Positions\".x AS \"Positions_x\", \"Positions\".y AS \"Positions_y\" \n",
      "FROM \"Positions\" \n",
      "WHERE \"Positions\".id = ?\n",
      "2021-07-21 02:25:37,433 INFO sqlalchemy.engine.Engine [cached since 0.2571s ago] (38,)\n",
      "2021-07-21 02:25:37,435 INFO sqlalchemy.engine.Engine SELECT \"Positions\".id AS \"Positions_id\", \"Positions\".upper AS \"Positions_upper\", \"Positions\".middle AS \"Positions_middle\", \"Positions\".lower AS \"Positions_lower\", \"Positions\".x AS \"Positions_x\", \"Positions\".y AS \"Positions_y\" \n",
      "FROM \"Positions\" \n",
      "WHERE \"Positions\".id = ?\n",
      "2021-07-21 02:25:37,435 INFO sqlalchemy.engine.Engine [cached since 0.2553s ago] (39,)\n",
      "2021-07-21 02:25:37,437 INFO sqlalchemy.engine.Engine SELECT \"Positions\".id AS \"Positions_id\", \"Positions\".upper AS \"Positions_upper\", \"Positions\".middle AS \"Positions_middle\", \"Positions\".lower AS \"Positions_lower\", \"Positions\".x AS \"Positions_x\", \"Positions\".y AS \"Positions_y\" \n",
      "FROM \"Positions\" \n",
      "WHERE \"Positions\".id = ?\n",
      "2021-07-21 02:25:37,438 INFO sqlalchemy.engine.Engine [cached since 0.2625s ago] (40,)\n",
      "2021-07-21 02:25:37,439 INFO sqlalchemy.engine.Engine SELECT \"Positions\".id AS \"Positions_id\", \"Positions\".upper AS \"Positions_upper\", \"Positions\".middle AS \"Positions_middle\", \"Positions\".lower AS \"Positions_lower\", \"Positions\".x AS \"Positions_x\", \"Positions\".y AS \"Positions_y\" \n",
      "FROM \"Positions\" \n",
      "WHERE \"Positions\".id = ?\n",
      "2021-07-21 02:25:37,440 INFO sqlalchemy.engine.Engine [cached since 0.2602s ago] (41,)\n",
      "2021-07-21 02:25:37,443 INFO sqlalchemy.engine.Engine SELECT \"Positions\".id AS \"Positions_id\", \"Positions\".upper AS \"Positions_upper\", \"Positions\".middle AS \"Positions_middle\", \"Positions\".lower AS \"Positions_lower\", \"Positions\".x AS \"Positions_x\", \"Positions\".y AS \"Positions_y\" \n",
      "FROM \"Positions\" \n",
      "WHERE \"Positions\".id = ?\n"
     ]
    },
    {
     "name": "stdout",
     "output_type": "stream",
     "text": [
      "2021-07-21 02:25:37,444 INFO sqlalchemy.engine.Engine [cached since 0.2683s ago] (42,)\n",
      "2021-07-21 02:25:37,446 INFO sqlalchemy.engine.Engine SELECT \"Positions\".id AS \"Positions_id\", \"Positions\".upper AS \"Positions_upper\", \"Positions\".middle AS \"Positions_middle\", \"Positions\".lower AS \"Positions_lower\", \"Positions\".x AS \"Positions_x\", \"Positions\".y AS \"Positions_y\" \n",
      "FROM \"Positions\" \n",
      "WHERE \"Positions\".id = ?\n",
      "2021-07-21 02:25:37,447 INFO sqlalchemy.engine.Engine [cached since 0.2666s ago] (43,)\n",
      "2021-07-21 02:25:37,449 INFO sqlalchemy.engine.Engine SELECT \"Positions\".id AS \"Positions_id\", \"Positions\".upper AS \"Positions_upper\", \"Positions\".middle AS \"Positions_middle\", \"Positions\".lower AS \"Positions_lower\", \"Positions\".x AS \"Positions_x\", \"Positions\".y AS \"Positions_y\" \n",
      "FROM \"Positions\" \n",
      "WHERE \"Positions\".id = ?\n",
      "2021-07-21 02:25:37,450 INFO sqlalchemy.engine.Engine [cached since 0.2743s ago] (44,)\n",
      "2021-07-21 02:25:37,452 INFO sqlalchemy.engine.Engine SELECT \"Positions\".id AS \"Positions_id\", \"Positions\".upper AS \"Positions_upper\", \"Positions\".middle AS \"Positions_middle\", \"Positions\".lower AS \"Positions_lower\", \"Positions\".x AS \"Positions_x\", \"Positions\".y AS \"Positions_y\" \n",
      "FROM \"Positions\" \n",
      "WHERE \"Positions\".id = ?\n",
      "2021-07-21 02:25:37,453 INFO sqlalchemy.engine.Engine [cached since 0.2723s ago] (45,)\n",
      "2021-07-21 02:25:37,454 INFO sqlalchemy.engine.Engine SELECT \"Positions\".id AS \"Positions_id\", \"Positions\".upper AS \"Positions_upper\", \"Positions\".middle AS \"Positions_middle\", \"Positions\".lower AS \"Positions_lower\", \"Positions\".x AS \"Positions_x\", \"Positions\".y AS \"Positions_y\" \n",
      "FROM \"Positions\" \n",
      "WHERE \"Positions\".id = ?\n",
      "2021-07-21 02:25:37,455 INFO sqlalchemy.engine.Engine [cached since 0.28s ago] (46,)\n",
      "2021-07-21 02:25:37,457 INFO sqlalchemy.engine.Engine SELECT \"Positions\".id AS \"Positions_id\", \"Positions\".upper AS \"Positions_upper\", \"Positions\".middle AS \"Positions_middle\", \"Positions\".lower AS \"Positions_lower\", \"Positions\".x AS \"Positions_x\", \"Positions\".y AS \"Positions_y\" \n",
      "FROM \"Positions\" \n",
      "WHERE \"Positions\".id = ?\n",
      "2021-07-21 02:25:37,458 INFO sqlalchemy.engine.Engine [cached since 0.2782s ago] (47,)\n",
      "2021-07-21 02:25:37,460 INFO sqlalchemy.engine.Engine SELECT \"Positions\".id AS \"Positions_id\", \"Positions\".upper AS \"Positions_upper\", \"Positions\".middle AS \"Positions_middle\", \"Positions\".lower AS \"Positions_lower\", \"Positions\".x AS \"Positions_x\", \"Positions\".y AS \"Positions_y\" \n",
      "FROM \"Positions\" \n",
      "WHERE \"Positions\".id = ?\n",
      "2021-07-21 02:25:37,461 INFO sqlalchemy.engine.Engine [cached since 0.2853s ago] (48,)\n",
      "2021-07-21 02:25:37,463 INFO sqlalchemy.engine.Engine SELECT \"Positions\".id AS \"Positions_id\", \"Positions\".upper AS \"Positions_upper\", \"Positions\".middle AS \"Positions_middle\", \"Positions\".lower AS \"Positions_lower\", \"Positions\".x AS \"Positions_x\", \"Positions\".y AS \"Positions_y\" \n",
      "FROM \"Positions\" \n",
      "WHERE \"Positions\".id = ?\n",
      "2021-07-21 02:25:37,463 INFO sqlalchemy.engine.Engine [cached since 0.2832s ago] (49,)\n",
      "2021-07-21 02:25:37,465 INFO sqlalchemy.engine.Engine SELECT \"Positions\".id AS \"Positions_id\", \"Positions\".upper AS \"Positions_upper\", \"Positions\".middle AS \"Positions_middle\", \"Positions\".lower AS \"Positions_lower\", \"Positions\".x AS \"Positions_x\", \"Positions\".y AS \"Positions_y\" \n",
      "FROM \"Positions\" \n",
      "WHERE \"Positions\".id = ?\n",
      "2021-07-21 02:25:37,466 INFO sqlalchemy.engine.Engine [cached since 0.2909s ago] (50,)\n",
      "2021-07-21 02:25:37,468 INFO sqlalchemy.engine.Engine SELECT \"Positions\".id AS \"Positions_id\", \"Positions\".upper AS \"Positions_upper\", \"Positions\".middle AS \"Positions_middle\", \"Positions\".lower AS \"Positions_lower\", \"Positions\".x AS \"Positions_x\", \"Positions\".y AS \"Positions_y\" \n",
      "FROM \"Positions\" \n",
      "WHERE \"Positions\".id = ?\n",
      "2021-07-21 02:25:37,469 INFO sqlalchemy.engine.Engine [cached since 0.2886s ago] (51,)\n",
      "\n",
      "*_*_*_*_ {'top': Position({'middle': 101.0, 'x': 152473.0, 'y': 121460.0, 'units': 'm'}), 'base': Position({'middle': 97.0, 'x': 152473.0, 'y': 121460.0, 'units': 'm'}), 'description': '{\"lithology\": \"sable\"}, {\"arsenic\": \"vr\"}, {\"cadmium\": \"vi\"}', 'data': {}, 'components': [Component({'lithology': 'sable'}), Component({'arsenic': 'vr'}), Component({'cadmium': 'vi'})]} \n",
      "\n",
      "Borehole geometry created successfully !\n",
      "2021-07-21 02:25:37,484 INFO sqlalchemy.engine.Engine UPDATE \"Boreholes\" SET length=? WHERE \"Boreholes\".id = ?\n",
      "2021-07-21 02:25:37,485 INFO sqlalchemy.engine.Engine [cached since 0.2685s ago] (97.0, 'BH005')\n",
      "2021-07-21 02:25:37,486 INFO sqlalchemy.engine.Engine INSERT INTO \"Boreholes\" (id, length, diameter) VALUES (?, ?, ?)\n",
      "2021-07-21 02:25:37,487 INFO sqlalchemy.engine.Engine [cached since 0.336s ago] ('BH006', 26.0, 0.31)\n",
      "2021-07-21 02:25:37,488 INFO sqlalchemy.engine.Engine INSERT INTO \"Positions\" (id, upper, middle, lower, x, y) VALUES (?, ?, ?, ?, ?, ?)\n",
      "2021-07-21 02:25:37,489 INFO sqlalchemy.engine.Engine [cached since 0.3339s ago] ((52, 101.0, 101.0, 101.0, 152375.0, 121002.0), (53, 100.0, 100.0, 100.0, 152375.0, 121002.0), (54, 100.0, 100.0, 100.0, 152375.0, 121002.0), (55, 98.0, 98.0, 98.0, 152375.0, 121002.0), (56, 98.0, 98.0, 98.0, 152375.0, 121002.0), (57, 92.0, 92.0, 92.0, 152375.0, 121002.0), (58, 92.0, 92.0, 92.0, 152375.0, 121002.0), (59, 86.0, 86.0, 86.0, 152375.0, 121002.0), (60, 86.0, 86.0, 86.0, 152375.0, 121002.0), (61, 75.0, 75.0, 75.0, 152375.0, 121002.0))\n",
      "2021-07-21 02:25:37,491 INFO sqlalchemy.engine.Engine INSERT INTO \"Intervals\" (id, borehole, interval_number, description, top_id, base_id, data_id) VALUES (?, ?, ?, ?, ?, ?, ?)\n",
      "2021-07-21 02:25:37,492 INFO sqlalchemy.engine.Engine [cached since 0.334s ago] ((26, 'BH006', 0, '{\"lithology\": \"sable\"}, {\"arsenic\": \"inconnu\"}, {\"cadmium\": \"vi\"}', 52, 53, None), (27, 'BH006', 1, '{\"lithology\": \"argile\"}, {\"arsenic\": \"vs\"}, {\"cadmium\": \"vr\"}', 54, 55, None), (28, 'BH006', 2, '{\"lithology\": \"marne\"}, {\"arsenic\": \"vs\"}, {\"cadmium\": \"vs\"}', 56, 57, None), (29, 'BH006', 3, '{\"lithology\": \"charbon\"}, {\"arsenic\": \"vi\"}, {\"cadmium\": \"vr\"}', 58, 59, None), (30, 'BH006', 4, '{\"lithology\": \"dolomie\"}, {\"arsenic\": \"vr\"}, {\"cadmium\": \"vr\"}', 60, 61, None))\n",
      "2021-07-21 02:25:37,494 INFO sqlalchemy.engine.Engine COMMIT\n",
      "2021-07-21 02:25:37,498 INFO sqlalchemy.engine.Engine BEGIN (implicit)\n",
      "2021-07-21 02:25:37,499 INFO sqlalchemy.engine.Engine SELECT \"Boreholes\".id AS \"Boreholes_id\", \"Boreholes\".length AS \"Boreholes_length\", \"Boreholes\".diameter AS \"Boreholes_diameter\" \n",
      "FROM \"Boreholes\"\n",
      "2021-07-21 02:25:37,500 INFO sqlalchemy.engine.Engine [cached since 0.3914s ago] ()\n",
      "2021-07-21 02:25:37,502 INFO sqlalchemy.engine.Engine SELECT \"Intervals\".id AS \"Intervals_id\", \"Intervals\".borehole AS \"Intervals_borehole\", \"Intervals\".interval_number AS \"Intervals_interval_number\", \"Intervals\".description AS \"Intervals_description\", \"Intervals\".top_id AS \"Intervals_top_id\", \"Intervals\".base_id AS \"Intervals_base_id\", \"Intervals\".data_id AS \"Intervals_data_id\" \n",
      "FROM \"Intervals\" \n",
      "WHERE ? = \"Intervals\".borehole\n",
      "2021-07-21 02:25:37,503 INFO sqlalchemy.engine.Engine [cached since 0.3334s ago] ('BH006',)\n",
      "2021-07-21 02:25:37,506 INFO sqlalchemy.engine.Engine SELECT \"Positions\".id AS \"Positions_id\", \"Positions\".upper AS \"Positions_upper\", \"Positions\".middle AS \"Positions_middle\", \"Positions\".lower AS \"Positions_lower\", \"Positions\".x AS \"Positions_x\", \"Positions\".y AS \"Positions_y\" \n",
      "FROM \"Positions\" \n",
      "WHERE \"Positions\".id = ?\n",
      "2021-07-21 02:25:37,507 INFO sqlalchemy.engine.Engine [cached since 0.3319s ago] (52,)\n",
      "2021-07-21 02:25:37,509 INFO sqlalchemy.engine.Engine SELECT \"Positions\".id AS \"Positions_id\", \"Positions\".upper AS \"Positions_upper\", \"Positions\".middle AS \"Positions_middle\", \"Positions\".lower AS \"Positions_lower\", \"Positions\".x AS \"Positions_x\", \"Positions\".y AS \"Positions_y\" \n",
      "FROM \"Positions\" \n",
      "WHERE \"Positions\".id = ?\n",
      "2021-07-21 02:25:37,510 INFO sqlalchemy.engine.Engine [cached since 0.33s ago] (53,)\n",
      "2021-07-21 02:25:37,512 INFO sqlalchemy.engine.Engine SELECT \"Positions\".id AS \"Positions_id\", \"Positions\".upper AS \"Positions_upper\", \"Positions\".middle AS \"Positions_middle\", \"Positions\".lower AS \"Positions_lower\", \"Positions\".x AS \"Positions_x\", \"Positions\".y AS \"Positions_y\" \n",
      "FROM \"Positions\" \n",
      "WHERE \"Positions\".id = ?\n",
      "2021-07-21 02:25:37,513 INFO sqlalchemy.engine.Engine [cached since 0.3378s ago] (54,)\n"
     ]
    },
    {
     "name": "stdout",
     "output_type": "stream",
     "text": [
      "2021-07-21 02:25:37,515 INFO sqlalchemy.engine.Engine SELECT \"Positions\".id AS \"Positions_id\", \"Positions\".upper AS \"Positions_upper\", \"Positions\".middle AS \"Positions_middle\", \"Positions\".lower AS \"Positions_lower\", \"Positions\".x AS \"Positions_x\", \"Positions\".y AS \"Positions_y\" \n",
      "FROM \"Positions\" \n",
      "WHERE \"Positions\".id = ?\n",
      "2021-07-21 02:25:37,516 INFO sqlalchemy.engine.Engine [cached since 0.3359s ago] (55,)\n",
      "2021-07-21 02:25:37,518 INFO sqlalchemy.engine.Engine SELECT \"Positions\".id AS \"Positions_id\", \"Positions\".upper AS \"Positions_upper\", \"Positions\".middle AS \"Positions_middle\", \"Positions\".lower AS \"Positions_lower\", \"Positions\".x AS \"Positions_x\", \"Positions\".y AS \"Positions_y\" \n",
      "FROM \"Positions\" \n",
      "WHERE \"Positions\".id = ?\n",
      "2021-07-21 02:25:37,519 INFO sqlalchemy.engine.Engine [cached since 0.344s ago] (56,)\n",
      "2021-07-21 02:25:37,522 INFO sqlalchemy.engine.Engine SELECT \"Positions\".id AS \"Positions_id\", \"Positions\".upper AS \"Positions_upper\", \"Positions\".middle AS \"Positions_middle\", \"Positions\".lower AS \"Positions_lower\", \"Positions\".x AS \"Positions_x\", \"Positions\".y AS \"Positions_y\" \n",
      "FROM \"Positions\" \n",
      "WHERE \"Positions\".id = ?\n",
      "2021-07-21 02:25:37,523 INFO sqlalchemy.engine.Engine [cached since 0.3426s ago] (57,)\n",
      "2021-07-21 02:25:37,525 INFO sqlalchemy.engine.Engine SELECT \"Positions\".id AS \"Positions_id\", \"Positions\".upper AS \"Positions_upper\", \"Positions\".middle AS \"Positions_middle\", \"Positions\".lower AS \"Positions_lower\", \"Positions\".x AS \"Positions_x\", \"Positions\".y AS \"Positions_y\" \n",
      "FROM \"Positions\" \n",
      "WHERE \"Positions\".id = ?\n",
      "2021-07-21 02:25:37,526 INFO sqlalchemy.engine.Engine [cached since 0.3508s ago] (58,)\n",
      "2021-07-21 02:25:37,528 INFO sqlalchemy.engine.Engine SELECT \"Positions\".id AS \"Positions_id\", \"Positions\".upper AS \"Positions_upper\", \"Positions\".middle AS \"Positions_middle\", \"Positions\".lower AS \"Positions_lower\", \"Positions\".x AS \"Positions_x\", \"Positions\".y AS \"Positions_y\" \n",
      "FROM \"Positions\" \n",
      "WHERE \"Positions\".id = ?\n",
      "2021-07-21 02:25:37,529 INFO sqlalchemy.engine.Engine [cached since 0.3483s ago] (59,)\n",
      "2021-07-21 02:25:37,531 INFO sqlalchemy.engine.Engine SELECT \"Positions\".id AS \"Positions_id\", \"Positions\".upper AS \"Positions_upper\", \"Positions\".middle AS \"Positions_middle\", \"Positions\".lower AS \"Positions_lower\", \"Positions\".x AS \"Positions_x\", \"Positions\".y AS \"Positions_y\" \n",
      "FROM \"Positions\" \n",
      "WHERE \"Positions\".id = ?\n",
      "2021-07-21 02:25:37,532 INFO sqlalchemy.engine.Engine [cached since 0.3565s ago] (60,)\n",
      "2021-07-21 02:25:37,534 INFO sqlalchemy.engine.Engine SELECT \"Positions\".id AS \"Positions_id\", \"Positions\".upper AS \"Positions_upper\", \"Positions\".middle AS \"Positions_middle\", \"Positions\".lower AS \"Positions_lower\", \"Positions\".x AS \"Positions_x\", \"Positions\".y AS \"Positions_y\" \n",
      "FROM \"Positions\" \n",
      "WHERE \"Positions\".id = ?\n",
      "2021-07-21 02:25:37,535 INFO sqlalchemy.engine.Engine [cached since 0.3543s ago] (61,)\n",
      "\n",
      "*_*_*_*_ {'top': Position({'middle': 101.0, 'x': 152375.0, 'y': 121002.0, 'units': 'm'}), 'base': Position({'middle': 100.0, 'x': 152375.0, 'y': 121002.0, 'units': 'm'}), 'description': '{\"lithology\": \"sable\"}, {\"arsenic\": \"inconnu\"}, {\"cadmium\": \"vi\"}', 'data': {}, 'components': [Component({'lithology': 'sable'}), Component({'arsenic': 'inconnu'}), Component({'cadmium': 'vi'})]} \n",
      "\n",
      "Borehole geometry created successfully !\n",
      "2021-07-21 02:25:37,550 INFO sqlalchemy.engine.Engine UPDATE \"Boreholes\" SET length=? WHERE \"Boreholes\".id = ?\n",
      "2021-07-21 02:25:37,551 INFO sqlalchemy.engine.Engine [cached since 0.3345s ago] (100.0, 'BH006')\n",
      "2021-07-21 02:25:37,552 INFO sqlalchemy.engine.Engine INSERT INTO \"Boreholes\" (id, length, diameter) VALUES (?, ?, ?)\n",
      "2021-07-21 02:25:37,554 INFO sqlalchemy.engine.Engine [cached since 0.4027s ago] ('BH007', 45.0, 0.57)\n",
      "2021-07-21 02:25:37,556 INFO sqlalchemy.engine.Engine INSERT INTO \"Positions\" (id, upper, middle, lower, x, y) VALUES (?, ?, ?, ?, ?, ?)\n",
      "2021-07-21 02:25:37,557 INFO sqlalchemy.engine.Engine [cached since 0.4017s ago] ((62, 101.0, 101.0, 101.0, 152794.0, 121111.0), (63, 97.0, 97.0, 97.0, 152794.0, 121111.0), (64, 97.0, 97.0, 97.0, 152794.0, 121111.0), (65, 93.0, 93.0, 93.0, 152794.0, 121111.0), (66, 93.0, 93.0, 93.0, 152794.0, 121111.0), (67, 83.0, 83.0, 83.0, 152794.0, 121111.0), (68, 83.0, 83.0, 83.0, 152794.0, 121111.0), (69, 82.0, 82.0, 82.0, 152794.0, 121111.0)  ... displaying 10 of 12 total bound parameter sets ...  (72, 60.0, 60.0, 60.0, 152794.0, 121111.0), (73, 56.0, 56.0, 56.0, 152794.0, 121111.0))\n",
      "2021-07-21 02:25:37,559 INFO sqlalchemy.engine.Engine INSERT INTO \"Intervals\" (id, borehole, interval_number, description, top_id, base_id, data_id) VALUES (?, ?, ?, ?, ?, ?, ?)\n",
      "2021-07-21 02:25:37,559 INFO sqlalchemy.engine.Engine [cached since 0.4013s ago] ((31, 'BH007', 0, '{\"lithology\": \"sable\"}, {\"arsenic\": \"vr\"}, {\"cadmium\": \"vr\"}', 62, 63, None), (32, 'BH007', 1, '{\"lithology\": \"argile\"}, {\"arsenic\": \"vr\"}, {\"cadmium\": \"vi\"}', 64, 65, None), (33, 'BH007', 2, '{\"lithology\": \"marne\"}, {\"arsenic\": \"vs\"}, {\"cadmium\": \"vr\"}', 66, 67, None), (34, 'BH007', 3, '{\"lithology\": \"charbon\"}, {\"arsenic\": \"vr\"}, {\"cadmium\": \"vr\"}', 68, 69, None), (35, 'BH007', 4, '{\"lithology\": \"dolomie\"}, {\"arsenic\": \"vi\"}, {\"cadmium\": \"inconnu\"}', 70, 71, None), (36, 'BH007', 5, '{\"lithology\": \"calcaire\"}, {\"arsenic\": \"vs\"}, {\"cadmium\": \"vr\"}', 72, 73, None))\n",
      "2021-07-21 02:25:37,561 INFO sqlalchemy.engine.Engine COMMIT\n",
      "2021-07-21 02:25:37,566 INFO sqlalchemy.engine.Engine BEGIN (implicit)\n",
      "2021-07-21 02:25:37,567 INFO sqlalchemy.engine.Engine SELECT \"Boreholes\".id AS \"Boreholes_id\", \"Boreholes\".length AS \"Boreholes_length\", \"Boreholes\".diameter AS \"Boreholes_diameter\" \n",
      "FROM \"Boreholes\"\n",
      "2021-07-21 02:25:37,568 INFO sqlalchemy.engine.Engine [cached since 0.4596s ago] ()\n",
      "2021-07-21 02:25:37,570 INFO sqlalchemy.engine.Engine SELECT \"Intervals\".id AS \"Intervals_id\", \"Intervals\".borehole AS \"Intervals_borehole\", \"Intervals\".interval_number AS \"Intervals_interval_number\", \"Intervals\".description AS \"Intervals_description\", \"Intervals\".top_id AS \"Intervals_top_id\", \"Intervals\".base_id AS \"Intervals_base_id\", \"Intervals\".data_id AS \"Intervals_data_id\" \n",
      "FROM \"Intervals\" \n",
      "WHERE ? = \"Intervals\".borehole\n",
      "2021-07-21 02:25:37,571 INFO sqlalchemy.engine.Engine [cached since 0.4013s ago] ('BH007',)\n",
      "2021-07-21 02:25:37,574 INFO sqlalchemy.engine.Engine SELECT \"Positions\".id AS \"Positions_id\", \"Positions\".upper AS \"Positions_upper\", \"Positions\".middle AS \"Positions_middle\", \"Positions\".lower AS \"Positions_lower\", \"Positions\".x AS \"Positions_x\", \"Positions\".y AS \"Positions_y\" \n",
      "FROM \"Positions\" \n",
      "WHERE \"Positions\".id = ?\n",
      "2021-07-21 02:25:37,575 INFO sqlalchemy.engine.Engine [cached since 0.3991s ago] (62,)\n",
      "2021-07-21 02:25:37,576 INFO sqlalchemy.engine.Engine SELECT \"Positions\".id AS \"Positions_id\", \"Positions\".upper AS \"Positions_upper\", \"Positions\".middle AS \"Positions_middle\", \"Positions\".lower AS \"Positions_lower\", \"Positions\".x AS \"Positions_x\", \"Positions\".y AS \"Positions_y\" \n",
      "FROM \"Positions\" \n",
      "WHERE \"Positions\".id = ?\n",
      "2021-07-21 02:25:37,577 INFO sqlalchemy.engine.Engine [cached since 0.3973s ago] (63,)\n",
      "2021-07-21 02:25:37,579 INFO sqlalchemy.engine.Engine SELECT \"Positions\".id AS \"Positions_id\", \"Positions\".upper AS \"Positions_upper\", \"Positions\".middle AS \"Positions_middle\", \"Positions\".lower AS \"Positions_lower\", \"Positions\".x AS \"Positions_x\", \"Positions\".y AS \"Positions_y\" \n",
      "FROM \"Positions\" \n",
      "WHERE \"Positions\".id = ?\n",
      "2021-07-21 02:25:37,580 INFO sqlalchemy.engine.Engine [cached since 0.4041s ago] (64,)\n",
      "2021-07-21 02:25:37,581 INFO sqlalchemy.engine.Engine SELECT \"Positions\".id AS \"Positions_id\", \"Positions\".upper AS \"Positions_upper\", \"Positions\".middle AS \"Positions_middle\", \"Positions\".lower AS \"Positions_lower\", \"Positions\".x AS \"Positions_x\", \"Positions\".y AS \"Positions_y\" \n",
      "FROM \"Positions\" \n",
      "WHERE \"Positions\".id = ?\n",
      "2021-07-21 02:25:37,582 INFO sqlalchemy.engine.Engine [cached since 0.4017s ago] (65,)\n",
      "2021-07-21 02:25:37,584 INFO sqlalchemy.engine.Engine SELECT \"Positions\".id AS \"Positions_id\", \"Positions\".upper AS \"Positions_upper\", \"Positions\".middle AS \"Positions_middle\", \"Positions\".lower AS \"Positions_lower\", \"Positions\".x AS \"Positions_x\", \"Positions\".y AS \"Positions_y\" \n",
      "FROM \"Positions\" \n",
      "WHERE \"Positions\".id = ?\n"
     ]
    },
    {
     "name": "stdout",
     "output_type": "stream",
     "text": [
      "2021-07-21 02:25:37,584 INFO sqlalchemy.engine.Engine [cached since 0.409s ago] (66,)\n",
      "2021-07-21 02:25:37,586 INFO sqlalchemy.engine.Engine SELECT \"Positions\".id AS \"Positions_id\", \"Positions\".upper AS \"Positions_upper\", \"Positions\".middle AS \"Positions_middle\", \"Positions\".lower AS \"Positions_lower\", \"Positions\".x AS \"Positions_x\", \"Positions\".y AS \"Positions_y\" \n",
      "FROM \"Positions\" \n",
      "WHERE \"Positions\".id = ?\n",
      "2021-07-21 02:25:37,587 INFO sqlalchemy.engine.Engine [cached since 0.4069s ago] (67,)\n",
      "2021-07-21 02:25:37,589 INFO sqlalchemy.engine.Engine SELECT \"Positions\".id AS \"Positions_id\", \"Positions\".upper AS \"Positions_upper\", \"Positions\".middle AS \"Positions_middle\", \"Positions\".lower AS \"Positions_lower\", \"Positions\".x AS \"Positions_x\", \"Positions\".y AS \"Positions_y\" \n",
      "FROM \"Positions\" \n",
      "WHERE \"Positions\".id = ?\n",
      "2021-07-21 02:25:37,590 INFO sqlalchemy.engine.Engine [cached since 0.4149s ago] (68,)\n",
      "2021-07-21 02:25:37,592 INFO sqlalchemy.engine.Engine SELECT \"Positions\".id AS \"Positions_id\", \"Positions\".upper AS \"Positions_upper\", \"Positions\".middle AS \"Positions_middle\", \"Positions\".lower AS \"Positions_lower\", \"Positions\".x AS \"Positions_x\", \"Positions\".y AS \"Positions_y\" \n",
      "FROM \"Positions\" \n",
      "WHERE \"Positions\".id = ?\n",
      "2021-07-21 02:25:37,594 INFO sqlalchemy.engine.Engine [cached since 0.4134s ago] (69,)\n",
      "2021-07-21 02:25:37,596 INFO sqlalchemy.engine.Engine SELECT \"Positions\".id AS \"Positions_id\", \"Positions\".upper AS \"Positions_upper\", \"Positions\".middle AS \"Positions_middle\", \"Positions\".lower AS \"Positions_lower\", \"Positions\".x AS \"Positions_x\", \"Positions\".y AS \"Positions_y\" \n",
      "FROM \"Positions\" \n",
      "WHERE \"Positions\".id = ?\n",
      "2021-07-21 02:25:37,596 INFO sqlalchemy.engine.Engine [cached since 0.421s ago] (70,)\n",
      "2021-07-21 02:25:37,598 INFO sqlalchemy.engine.Engine SELECT \"Positions\".id AS \"Positions_id\", \"Positions\".upper AS \"Positions_upper\", \"Positions\".middle AS \"Positions_middle\", \"Positions\".lower AS \"Positions_lower\", \"Positions\".x AS \"Positions_x\", \"Positions\".y AS \"Positions_y\" \n",
      "FROM \"Positions\" \n",
      "WHERE \"Positions\".id = ?\n",
      "2021-07-21 02:25:37,599 INFO sqlalchemy.engine.Engine [cached since 0.4191s ago] (71,)\n",
      "2021-07-21 02:25:37,602 INFO sqlalchemy.engine.Engine SELECT \"Positions\".id AS \"Positions_id\", \"Positions\".upper AS \"Positions_upper\", \"Positions\".middle AS \"Positions_middle\", \"Positions\".lower AS \"Positions_lower\", \"Positions\".x AS \"Positions_x\", \"Positions\".y AS \"Positions_y\" \n",
      "FROM \"Positions\" \n",
      "WHERE \"Positions\".id = ?\n",
      "2021-07-21 02:25:37,602 INFO sqlalchemy.engine.Engine [cached since 0.4267s ago] (72,)\n",
      "2021-07-21 02:25:37,604 INFO sqlalchemy.engine.Engine SELECT \"Positions\".id AS \"Positions_id\", \"Positions\".upper AS \"Positions_upper\", \"Positions\".middle AS \"Positions_middle\", \"Positions\".lower AS \"Positions_lower\", \"Positions\".x AS \"Positions_x\", \"Positions\".y AS \"Positions_y\" \n",
      "FROM \"Positions\" \n",
      "WHERE \"Positions\".id = ?\n",
      "2021-07-21 02:25:37,605 INFO sqlalchemy.engine.Engine [cached since 0.4252s ago] (73,)\n",
      "\n",
      "*_*_*_*_ {'top': Position({'middle': 101.0, 'x': 152794.0, 'y': 121111.0, 'units': 'm'}), 'base': Position({'middle': 97.0, 'x': 152794.0, 'y': 121111.0, 'units': 'm'}), 'description': '{\"lithology\": \"sable\"}, {\"arsenic\": \"vr\"}, {\"cadmium\": \"vr\"}', 'data': {}, 'components': [Component({'lithology': 'sable'}), Component({'arsenic': 'vr'}), Component({'cadmium': 'vr'})]} \n",
      "\n",
      "Borehole geometry created successfully !\n",
      "2021-07-21 02:25:37,625 INFO sqlalchemy.engine.Engine UPDATE \"Boreholes\" SET length=? WHERE \"Boreholes\".id = ?\n",
      "2021-07-21 02:25:37,625 INFO sqlalchemy.engine.Engine [cached since 0.4089s ago] (97.0, 'BH007')\n",
      "2021-07-21 02:25:37,627 INFO sqlalchemy.engine.Engine INSERT INTO \"Boreholes\" (id, length, diameter) VALUES (?, ?, ?)\n",
      "2021-07-21 02:25:37,628 INFO sqlalchemy.engine.Engine [cached since 0.4768s ago] ('BH008', 35.0, 0.39)\n",
      "2021-07-21 02:25:37,629 INFO sqlalchemy.engine.Engine INSERT INTO \"Positions\" (id, upper, middle, lower, x, y) VALUES (?, ?, ?, ?, ?, ?)\n",
      "2021-07-21 02:25:37,630 INFO sqlalchemy.engine.Engine [cached since 0.4748s ago] ((74, 101.0, 101.0, 101.0, 152150.0, 121579.0), (75, 98.0, 98.0, 98.0, 152150.0, 121579.0), (76, 98.0, 98.0, 98.0, 152150.0, 121579.0), (77, 97.0, 97.0, 97.0, 152150.0, 121579.0), (78, 97.0, 97.0, 97.0, 152150.0, 121579.0), (79, 91.0, 91.0, 91.0, 152150.0, 121579.0), (80, 91.0, 91.0, 91.0, 152150.0, 121579.0), (81, 86.0, 86.0, 86.0, 152150.0, 121579.0), (82, 86.0, 86.0, 86.0, 152150.0, 121579.0), (83, 66.0, 66.0, 66.0, 152150.0, 121579.0))\n",
      "2021-07-21 02:25:37,632 INFO sqlalchemy.engine.Engine INSERT INTO \"Intervals\" (id, borehole, interval_number, description, top_id, base_id, data_id) VALUES (?, ?, ?, ?, ?, ?, ?)\n",
      "2021-07-21 02:25:37,632 INFO sqlalchemy.engine.Engine [cached since 0.4744s ago] ((37, 'BH008', 0, '{\"lithology\": \"sable\"}, {\"arsenic\": \"vr\"}, {\"cadmium\": \"vr\"}', 74, 75, None), (38, 'BH008', 1, '{\"lithology\": \"argile\"}, {\"arsenic\": \"inconnu\"}, {\"cadmium\": \"vi\"}', 76, 77, None), (39, 'BH008', 2, '{\"lithology\": \"marne\"}, {\"arsenic\": \"inconnu\"}, {\"cadmium\": \"vi\"}', 78, 79, None), (40, 'BH008', 3, '{\"lithology\": \"charbon\"}, {\"arsenic\": \"inconnu\"}, {\"cadmium\": \"vi\"}', 80, 81, None), (41, 'BH008', 4, '{\"lithology\": \"dolomie\"}, {\"arsenic\": \"vr\"}, {\"cadmium\": \"inconnu\"}', 82, 83, None))\n",
      "2021-07-21 02:25:37,634 INFO sqlalchemy.engine.Engine COMMIT\n",
      "2021-07-21 02:25:37,639 INFO sqlalchemy.engine.Engine BEGIN (implicit)\n",
      "2021-07-21 02:25:37,640 INFO sqlalchemy.engine.Engine SELECT \"Boreholes\".id AS \"Boreholes_id\", \"Boreholes\".length AS \"Boreholes_length\", \"Boreholes\".diameter AS \"Boreholes_diameter\" \n",
      "FROM \"Boreholes\"\n",
      "2021-07-21 02:25:37,641 INFO sqlalchemy.engine.Engine [cached since 0.5321s ago] ()\n",
      "2021-07-21 02:25:37,643 INFO sqlalchemy.engine.Engine SELECT \"Intervals\".id AS \"Intervals_id\", \"Intervals\".borehole AS \"Intervals_borehole\", \"Intervals\".interval_number AS \"Intervals_interval_number\", \"Intervals\".description AS \"Intervals_description\", \"Intervals\".top_id AS \"Intervals_top_id\", \"Intervals\".base_id AS \"Intervals_base_id\", \"Intervals\".data_id AS \"Intervals_data_id\" \n",
      "FROM \"Intervals\" \n",
      "WHERE ? = \"Intervals\".borehole\n",
      "2021-07-21 02:25:37,644 INFO sqlalchemy.engine.Engine [cached since 0.4741s ago] ('BH008',)\n",
      "2021-07-21 02:25:37,647 INFO sqlalchemy.engine.Engine SELECT \"Positions\".id AS \"Positions_id\", \"Positions\".upper AS \"Positions_upper\", \"Positions\".middle AS \"Positions_middle\", \"Positions\".lower AS \"Positions_lower\", \"Positions\".x AS \"Positions_x\", \"Positions\".y AS \"Positions_y\" \n",
      "FROM \"Positions\" \n",
      "WHERE \"Positions\".id = ?\n",
      "2021-07-21 02:25:37,647 INFO sqlalchemy.engine.Engine [cached since 0.4719s ago] (74,)\n",
      "2021-07-21 02:25:37,650 INFO sqlalchemy.engine.Engine SELECT \"Positions\".id AS \"Positions_id\", \"Positions\".upper AS \"Positions_upper\", \"Positions\".middle AS \"Positions_middle\", \"Positions\".lower AS \"Positions_lower\", \"Positions\".x AS \"Positions_x\", \"Positions\".y AS \"Positions_y\" \n",
      "FROM \"Positions\" \n",
      "WHERE \"Positions\".id = ?\n",
      "2021-07-21 02:25:37,650 INFO sqlalchemy.engine.Engine [cached since 0.4703s ago] (75,)\n",
      "2021-07-21 02:25:37,653 INFO sqlalchemy.engine.Engine SELECT \"Positions\".id AS \"Positions_id\", \"Positions\".upper AS \"Positions_upper\", \"Positions\".middle AS \"Positions_middle\", \"Positions\".lower AS \"Positions_lower\", \"Positions\".x AS \"Positions_x\", \"Positions\".y AS \"Positions_y\" \n",
      "FROM \"Positions\" \n",
      "WHERE \"Positions\".id = ?\n",
      "2021-07-21 02:25:37,654 INFO sqlalchemy.engine.Engine [cached since 0.4785s ago] (76,)\n",
      "2021-07-21 02:25:37,656 INFO sqlalchemy.engine.Engine SELECT \"Positions\".id AS \"Positions_id\", \"Positions\".upper AS \"Positions_upper\", \"Positions\".middle AS \"Positions_middle\", \"Positions\".lower AS \"Positions_lower\", \"Positions\".x AS \"Positions_x\", \"Positions\".y AS \"Positions_y\" \n",
      "FROM \"Positions\" \n",
      "WHERE \"Positions\".id = ?\n",
      "2021-07-21 02:25:37,657 INFO sqlalchemy.engine.Engine [cached since 0.4767s ago] (77,)\n",
      "2021-07-21 02:25:37,659 INFO sqlalchemy.engine.Engine SELECT \"Positions\".id AS \"Positions_id\", \"Positions\".upper AS \"Positions_upper\", \"Positions\".middle AS \"Positions_middle\", \"Positions\".lower AS \"Positions_lower\", \"Positions\".x AS \"Positions_x\", \"Positions\".y AS \"Positions_y\" \n",
      "FROM \"Positions\" \n",
      "WHERE \"Positions\".id = ?\n",
      "2021-07-21 02:25:37,659 INFO sqlalchemy.engine.Engine [cached since 0.484s ago] (78,)\n"
     ]
    },
    {
     "name": "stdout",
     "output_type": "stream",
     "text": [
      "2021-07-21 02:25:37,661 INFO sqlalchemy.engine.Engine SELECT \"Positions\".id AS \"Positions_id\", \"Positions\".upper AS \"Positions_upper\", \"Positions\".middle AS \"Positions_middle\", \"Positions\".lower AS \"Positions_lower\", \"Positions\".x AS \"Positions_x\", \"Positions\".y AS \"Positions_y\" \n",
      "FROM \"Positions\" \n",
      "WHERE \"Positions\".id = ?\n",
      "2021-07-21 02:25:37,662 INFO sqlalchemy.engine.Engine [cached since 0.4819s ago] (79,)\n",
      "2021-07-21 02:25:37,664 INFO sqlalchemy.engine.Engine SELECT \"Positions\".id AS \"Positions_id\", \"Positions\".upper AS \"Positions_upper\", \"Positions\".middle AS \"Positions_middle\", \"Positions\".lower AS \"Positions_lower\", \"Positions\".x AS \"Positions_x\", \"Positions\".y AS \"Positions_y\" \n",
      "FROM \"Positions\" \n",
      "WHERE \"Positions\".id = ?\n",
      "2021-07-21 02:25:37,665 INFO sqlalchemy.engine.Engine [cached since 0.4895s ago] (80,)\n",
      "2021-07-21 02:25:37,667 INFO sqlalchemy.engine.Engine SELECT \"Positions\".id AS \"Positions_id\", \"Positions\".upper AS \"Positions_upper\", \"Positions\".middle AS \"Positions_middle\", \"Positions\".lower AS \"Positions_lower\", \"Positions\".x AS \"Positions_x\", \"Positions\".y AS \"Positions_y\" \n",
      "FROM \"Positions\" \n",
      "WHERE \"Positions\".id = ?\n",
      "2021-07-21 02:25:37,668 INFO sqlalchemy.engine.Engine [cached since 0.4874s ago] (81,)\n",
      "2021-07-21 02:25:37,669 INFO sqlalchemy.engine.Engine SELECT \"Positions\".id AS \"Positions_id\", \"Positions\".upper AS \"Positions_upper\", \"Positions\".middle AS \"Positions_middle\", \"Positions\".lower AS \"Positions_lower\", \"Positions\".x AS \"Positions_x\", \"Positions\".y AS \"Positions_y\" \n",
      "FROM \"Positions\" \n",
      "WHERE \"Positions\".id = ?\n",
      "2021-07-21 02:25:37,670 INFO sqlalchemy.engine.Engine [cached since 0.495s ago] (82,)\n",
      "2021-07-21 02:25:37,672 INFO sqlalchemy.engine.Engine SELECT \"Positions\".id AS \"Positions_id\", \"Positions\".upper AS \"Positions_upper\", \"Positions\".middle AS \"Positions_middle\", \"Positions\".lower AS \"Positions_lower\", \"Positions\".x AS \"Positions_x\", \"Positions\".y AS \"Positions_y\" \n",
      "FROM \"Positions\" \n",
      "WHERE \"Positions\".id = ?\n",
      "2021-07-21 02:25:37,673 INFO sqlalchemy.engine.Engine [cached since 0.4925s ago] (83,)\n",
      "\n",
      "*_*_*_*_ {'top': Position({'middle': 101.0, 'x': 152150.0, 'y': 121579.0, 'units': 'm'}), 'base': Position({'middle': 98.0, 'x': 152150.0, 'y': 121579.0, 'units': 'm'}), 'description': '{\"lithology\": \"sable\"}, {\"arsenic\": \"vr\"}, {\"cadmium\": \"vr\"}', 'data': {}, 'components': [Component({'lithology': 'sable'}), Component({'arsenic': 'vr'}), Component({'cadmium': 'vr'})]} \n",
      "\n",
      "Borehole geometry created successfully !\n",
      "2021-07-21 02:25:37,687 INFO sqlalchemy.engine.Engine UPDATE \"Boreholes\" SET length=? WHERE \"Boreholes\".id = ?\n",
      "2021-07-21 02:25:37,688 INFO sqlalchemy.engine.Engine [cached since 0.4713s ago] (98.0, 'BH008')\n",
      "2021-07-21 02:25:37,690 INFO sqlalchemy.engine.Engine INSERT INTO \"Boreholes\" (id, length, diameter) VALUES (?, ?, ?)\n",
      "2021-07-21 02:25:37,691 INFO sqlalchemy.engine.Engine [cached since 0.5399s ago] ('BH009', 40.0, 0.5)\n",
      "2021-07-21 02:25:37,693 INFO sqlalchemy.engine.Engine INSERT INTO \"Positions\" (id, upper, middle, lower, x, y) VALUES (?, ?, ?, ?, ?, ?)\n",
      "2021-07-21 02:25:37,694 INFO sqlalchemy.engine.Engine [cached since 0.5391s ago] ((84, 100.0, 100.0, 100.0, 152052.0, 121293.0), (85, 94.0, 94.0, 94.0, 152052.0, 121293.0), (86, 94.0, 94.0, 94.0, 152052.0, 121293.0), (87, 92.0, 92.0, 92.0, 152052.0, 121293.0), (88, 92.0, 92.0, 92.0, 152052.0, 121293.0), (89, 82.0, 82.0, 82.0, 152052.0, 121293.0), (90, 82.0, 82.0, 82.0, 152052.0, 121293.0), (91, 78.0, 78.0, 78.0, 152052.0, 121293.0), (92, 78.0, 78.0, 78.0, 152052.0, 121293.0), (93, 60.0, 60.0, 60.0, 152052.0, 121293.0))\n",
      "2021-07-21 02:25:37,696 INFO sqlalchemy.engine.Engine INSERT INTO \"Intervals\" (id, borehole, interval_number, description, top_id, base_id, data_id) VALUES (?, ?, ?, ?, ?, ?, ?)\n",
      "2021-07-21 02:25:37,697 INFO sqlalchemy.engine.Engine [cached since 0.539s ago] ((42, 'BH009', 0, '{\"lithology\": \"sable\"}, {\"arsenic\": \"vr\"}, {\"cadmium\": \"vr\"}', 84, 85, None), (43, 'BH009', 1, '{\"lithology\": \"argile\"}, {\"arsenic\": \"vr\"}, {\"cadmium\": \"vr\"}', 86, 87, None), (44, 'BH009', 2, '{\"lithology\": \"marne\"}, {\"arsenic\": \"vr\"}, {\"cadmium\": \"inconnu\"}', 88, 89, None), (45, 'BH009', 3, '{\"lithology\": \"charbon\"}, {\"arsenic\": \"vr\"}, {\"cadmium\": \"vs\"}', 90, 91, None), (46, 'BH009', 4, '{\"lithology\": \"dolomie\"}, {\"arsenic\": \"inconnu\"}, {\"cadmium\": \"vr\"}', 92, 93, None))\n",
      "2021-07-21 02:25:37,699 INFO sqlalchemy.engine.Engine COMMIT\n",
      "2021-07-21 02:25:37,703 INFO sqlalchemy.engine.Engine BEGIN (implicit)\n",
      "2021-07-21 02:25:37,703 INFO sqlalchemy.engine.Engine SELECT \"Boreholes\".id AS \"Boreholes_id\", \"Boreholes\".length AS \"Boreholes_length\", \"Boreholes\".diameter AS \"Boreholes_diameter\" \n",
      "FROM \"Boreholes\"\n",
      "2021-07-21 02:25:37,704 INFO sqlalchemy.engine.Engine [cached since 0.5953s ago] ()\n",
      "2021-07-21 02:25:37,706 INFO sqlalchemy.engine.Engine SELECT \"Intervals\".id AS \"Intervals_id\", \"Intervals\".borehole AS \"Intervals_borehole\", \"Intervals\".interval_number AS \"Intervals_interval_number\", \"Intervals\".description AS \"Intervals_description\", \"Intervals\".top_id AS \"Intervals_top_id\", \"Intervals\".base_id AS \"Intervals_base_id\", \"Intervals\".data_id AS \"Intervals_data_id\" \n",
      "FROM \"Intervals\" \n",
      "WHERE ? = \"Intervals\".borehole\n",
      "2021-07-21 02:25:37,707 INFO sqlalchemy.engine.Engine [cached since 0.5369s ago] ('BH009',)\n",
      "2021-07-21 02:25:37,709 INFO sqlalchemy.engine.Engine SELECT \"Positions\".id AS \"Positions_id\", \"Positions\".upper AS \"Positions_upper\", \"Positions\".middle AS \"Positions_middle\", \"Positions\".lower AS \"Positions_lower\", \"Positions\".x AS \"Positions_x\", \"Positions\".y AS \"Positions_y\" \n",
      "FROM \"Positions\" \n",
      "WHERE \"Positions\".id = ?\n",
      "2021-07-21 02:25:37,709 INFO sqlalchemy.engine.Engine [cached since 0.534s ago] (84,)\n",
      "2021-07-21 02:25:37,711 INFO sqlalchemy.engine.Engine SELECT \"Positions\".id AS \"Positions_id\", \"Positions\".upper AS \"Positions_upper\", \"Positions\".middle AS \"Positions_middle\", \"Positions\".lower AS \"Positions_lower\", \"Positions\".x AS \"Positions_x\", \"Positions\".y AS \"Positions_y\" \n",
      "FROM \"Positions\" \n",
      "WHERE \"Positions\".id = ?\n",
      "2021-07-21 02:25:37,712 INFO sqlalchemy.engine.Engine [cached since 0.5318s ago] (85,)\n",
      "2021-07-21 02:25:37,714 INFO sqlalchemy.engine.Engine SELECT \"Positions\".id AS \"Positions_id\", \"Positions\".upper AS \"Positions_upper\", \"Positions\".middle AS \"Positions_middle\", \"Positions\".lower AS \"Positions_lower\", \"Positions\".x AS \"Positions_x\", \"Positions\".y AS \"Positions_y\" \n",
      "FROM \"Positions\" \n",
      "WHERE \"Positions\".id = ?\n",
      "2021-07-21 02:25:37,715 INFO sqlalchemy.engine.Engine [cached since 0.5395s ago] (86,)\n",
      "2021-07-21 02:25:37,717 INFO sqlalchemy.engine.Engine SELECT \"Positions\".id AS \"Positions_id\", \"Positions\".upper AS \"Positions_upper\", \"Positions\".middle AS \"Positions_middle\", \"Positions\".lower AS \"Positions_lower\", \"Positions\".x AS \"Positions_x\", \"Positions\".y AS \"Positions_y\" \n",
      "FROM \"Positions\" \n",
      "WHERE \"Positions\".id = ?\n",
      "2021-07-21 02:25:37,717 INFO sqlalchemy.engine.Engine [cached since 0.5372s ago] (87,)\n",
      "2021-07-21 02:25:37,720 INFO sqlalchemy.engine.Engine SELECT \"Positions\".id AS \"Positions_id\", \"Positions\".upper AS \"Positions_upper\", \"Positions\".middle AS \"Positions_middle\", \"Positions\".lower AS \"Positions_lower\", \"Positions\".x AS \"Positions_x\", \"Positions\".y AS \"Positions_y\" \n",
      "FROM \"Positions\" \n",
      "WHERE \"Positions\".id = ?\n",
      "2021-07-21 02:25:37,720 INFO sqlalchemy.engine.Engine [cached since 0.545s ago] (88,)\n",
      "2021-07-21 02:25:37,722 INFO sqlalchemy.engine.Engine SELECT \"Positions\".id AS \"Positions_id\", \"Positions\".upper AS \"Positions_upper\", \"Positions\".middle AS \"Positions_middle\", \"Positions\".lower AS \"Positions_lower\", \"Positions\".x AS \"Positions_x\", \"Positions\".y AS \"Positions_y\" \n",
      "FROM \"Positions\" \n",
      "WHERE \"Positions\".id = ?\n",
      "2021-07-21 02:25:37,723 INFO sqlalchemy.engine.Engine [cached since 0.543s ago] (89,)\n",
      "2021-07-21 02:25:37,725 INFO sqlalchemy.engine.Engine SELECT \"Positions\".id AS \"Positions_id\", \"Positions\".upper AS \"Positions_upper\", \"Positions\".middle AS \"Positions_middle\", \"Positions\".lower AS \"Positions_lower\", \"Positions\".x AS \"Positions_x\", \"Positions\".y AS \"Positions_y\" \n",
      "FROM \"Positions\" \n",
      "WHERE \"Positions\".id = ?\n",
      "2021-07-21 02:25:37,726 INFO sqlalchemy.engine.Engine [cached since 0.5505s ago] (90,)\n",
      "2021-07-21 02:25:37,728 INFO sqlalchemy.engine.Engine SELECT \"Positions\".id AS \"Positions_id\", \"Positions\".upper AS \"Positions_upper\", \"Positions\".middle AS \"Positions_middle\", \"Positions\".lower AS \"Positions_lower\", \"Positions\".x AS \"Positions_x\", \"Positions\".y AS \"Positions_y\" \n",
      "FROM \"Positions\" \n",
      "WHERE \"Positions\".id = ?\n"
     ]
    },
    {
     "name": "stdout",
     "output_type": "stream",
     "text": [
      "2021-07-21 02:25:37,729 INFO sqlalchemy.engine.Engine [cached since 0.5484s ago] (91,)\n",
      "2021-07-21 02:25:37,730 INFO sqlalchemy.engine.Engine SELECT \"Positions\".id AS \"Positions_id\", \"Positions\".upper AS \"Positions_upper\", \"Positions\".middle AS \"Positions_middle\", \"Positions\".lower AS \"Positions_lower\", \"Positions\".x AS \"Positions_x\", \"Positions\".y AS \"Positions_y\" \n",
      "FROM \"Positions\" \n",
      "WHERE \"Positions\".id = ?\n",
      "2021-07-21 02:25:37,731 INFO sqlalchemy.engine.Engine [cached since 0.5557s ago] (92,)\n",
      "2021-07-21 02:25:37,733 INFO sqlalchemy.engine.Engine SELECT \"Positions\".id AS \"Positions_id\", \"Positions\".upper AS \"Positions_upper\", \"Positions\".middle AS \"Positions_middle\", \"Positions\".lower AS \"Positions_lower\", \"Positions\".x AS \"Positions_x\", \"Positions\".y AS \"Positions_y\" \n",
      "FROM \"Positions\" \n",
      "WHERE \"Positions\".id = ?\n",
      "2021-07-21 02:25:37,734 INFO sqlalchemy.engine.Engine [cached since 0.5537s ago] (93,)\n",
      "\n",
      "*_*_*_*_ {'top': Position({'middle': 100.0, 'x': 152052.0, 'y': 121293.0, 'units': 'm'}), 'base': Position({'middle': 94.0, 'x': 152052.0, 'y': 121293.0, 'units': 'm'}), 'description': '{\"lithology\": \"sable\"}, {\"arsenic\": \"vr\"}, {\"cadmium\": \"vr\"}', 'data': {}, 'components': [Component({'lithology': 'sable'}), Component({'arsenic': 'vr'}), Component({'cadmium': 'vr'})]} \n",
      "\n",
      "Borehole geometry created successfully !\n",
      "2021-07-21 02:25:37,751 INFO sqlalchemy.engine.Engine UPDATE \"Boreholes\" SET length=? WHERE \"Boreholes\".id = ?\n",
      "2021-07-21 02:25:37,752 INFO sqlalchemy.engine.Engine [cached since 0.5357s ago] (94.0, 'BH009')\n",
      "2021-07-21 02:25:37,754 INFO sqlalchemy.engine.Engine INSERT INTO \"Boreholes\" (id, length, diameter) VALUES (?, ?, ?)\n",
      "2021-07-21 02:25:37,755 INFO sqlalchemy.engine.Engine [cached since 0.6039s ago] ('BH10', 11.0, 0.31)\n",
      "2021-07-21 02:25:37,756 INFO sqlalchemy.engine.Engine INSERT INTO \"Positions\" (id, upper, middle, lower, x, y) VALUES (?, ?, ?, ?, ?, ?)\n",
      "2021-07-21 02:25:37,757 INFO sqlalchemy.engine.Engine [cached since 0.6023s ago] ((94, 100.0, 100.0, 100.0, 152315.0, 121754.0), (95, 95.0, 95.0, 95.0, 152315.0, 121754.0), (96, 95.0, 95.0, 95.0, 152315.0, 121754.0), (97, 91.0, 91.0, 91.0, 152315.0, 121754.0), (98, 91.0, 91.0, 91.0, 152315.0, 121754.0), (99, 89.0, 89.0, 89.0, 152315.0, 121754.0))\n",
      "2021-07-21 02:25:37,759 INFO sqlalchemy.engine.Engine INSERT INTO \"Intervals\" (id, borehole, interval_number, description, top_id, base_id, data_id) VALUES (?, ?, ?, ?, ?, ?, ?)\n",
      "2021-07-21 02:25:37,760 INFO sqlalchemy.engine.Engine [cached since 0.6021s ago] ((47, 'BH10', 0, '{\"lithology\": \"sable\"}, {\"arsenic\": \"vr\"}, {\"cadmium\": \"inconnu\"}', 94, 95, None), (48, 'BH10', 1, '{\"lithology\": \"argile\"}, {\"arsenic\": \"inconnu\"}, {\"cadmium\": \"vr\"}', 96, 97, None), (49, 'BH10', 2, '{\"lithology\": \"marne\"}, {\"arsenic\": \"vi\"}, {\"cadmium\": \"vi\"}', 98, 99, None))\n",
      "2021-07-21 02:25:37,762 INFO sqlalchemy.engine.Engine COMMIT\n",
      "2021-07-21 02:25:37,766 INFO sqlalchemy.engine.Engine BEGIN (implicit)\n",
      "2021-07-21 02:25:37,768 INFO sqlalchemy.engine.Engine SELECT \"Boreholes\".id AS \"Boreholes_id\", \"Boreholes\".length AS \"Boreholes_length\", \"Boreholes\".diameter AS \"Boreholes_diameter\" \n",
      "FROM \"Boreholes\"\n",
      "2021-07-21 02:25:37,768 INFO sqlalchemy.engine.Engine [cached since 0.6597s ago] ()\n",
      "2021-07-21 02:25:37,771 INFO sqlalchemy.engine.Engine SELECT \"Intervals\".id AS \"Intervals_id\", \"Intervals\".borehole AS \"Intervals_borehole\", \"Intervals\".interval_number AS \"Intervals_interval_number\", \"Intervals\".description AS \"Intervals_description\", \"Intervals\".top_id AS \"Intervals_top_id\", \"Intervals\".base_id AS \"Intervals_base_id\", \"Intervals\".data_id AS \"Intervals_data_id\" \n",
      "FROM \"Intervals\" \n",
      "WHERE ? = \"Intervals\".borehole\n",
      "2021-07-21 02:25:37,772 INFO sqlalchemy.engine.Engine [cached since 0.6018s ago] ('BH10',)\n",
      "2021-07-21 02:25:37,775 INFO sqlalchemy.engine.Engine SELECT \"Positions\".id AS \"Positions_id\", \"Positions\".upper AS \"Positions_upper\", \"Positions\".middle AS \"Positions_middle\", \"Positions\".lower AS \"Positions_lower\", \"Positions\".x AS \"Positions_x\", \"Positions\".y AS \"Positions_y\" \n",
      "FROM \"Positions\" \n",
      "WHERE \"Positions\".id = ?\n",
      "2021-07-21 02:25:37,776 INFO sqlalchemy.engine.Engine [cached since 0.6001s ago] (94,)\n",
      "2021-07-21 02:25:37,778 INFO sqlalchemy.engine.Engine SELECT \"Positions\".id AS \"Positions_id\", \"Positions\".upper AS \"Positions_upper\", \"Positions\".middle AS \"Positions_middle\", \"Positions\".lower AS \"Positions_lower\", \"Positions\".x AS \"Positions_x\", \"Positions\".y AS \"Positions_y\" \n",
      "FROM \"Positions\" \n",
      "WHERE \"Positions\".id = ?\n",
      "2021-07-21 02:25:37,779 INFO sqlalchemy.engine.Engine [cached since 0.5984s ago] (95,)\n",
      "2021-07-21 02:25:37,781 INFO sqlalchemy.engine.Engine SELECT \"Positions\".id AS \"Positions_id\", \"Positions\".upper AS \"Positions_upper\", \"Positions\".middle AS \"Positions_middle\", \"Positions\".lower AS \"Positions_lower\", \"Positions\".x AS \"Positions_x\", \"Positions\".y AS \"Positions_y\" \n",
      "FROM \"Positions\" \n",
      "WHERE \"Positions\".id = ?\n",
      "2021-07-21 02:25:37,782 INFO sqlalchemy.engine.Engine [cached since 0.6062s ago] (96,)\n",
      "2021-07-21 02:25:37,783 INFO sqlalchemy.engine.Engine SELECT \"Positions\".id AS \"Positions_id\", \"Positions\".upper AS \"Positions_upper\", \"Positions\".middle AS \"Positions_middle\", \"Positions\".lower AS \"Positions_lower\", \"Positions\".x AS \"Positions_x\", \"Positions\".y AS \"Positions_y\" \n",
      "FROM \"Positions\" \n",
      "WHERE \"Positions\".id = ?\n",
      "2021-07-21 02:25:37,784 INFO sqlalchemy.engine.Engine [cached since 0.6036s ago] (97,)\n",
      "2021-07-21 02:25:37,786 INFO sqlalchemy.engine.Engine SELECT \"Positions\".id AS \"Positions_id\", \"Positions\".upper AS \"Positions_upper\", \"Positions\".middle AS \"Positions_middle\", \"Positions\".lower AS \"Positions_lower\", \"Positions\".x AS \"Positions_x\", \"Positions\".y AS \"Positions_y\" \n",
      "FROM \"Positions\" \n",
      "WHERE \"Positions\".id = ?\n",
      "2021-07-21 02:25:37,786 INFO sqlalchemy.engine.Engine [cached since 0.6108s ago] (98,)\n",
      "2021-07-21 02:25:37,788 INFO sqlalchemy.engine.Engine SELECT \"Positions\".id AS \"Positions_id\", \"Positions\".upper AS \"Positions_upper\", \"Positions\".middle AS \"Positions_middle\", \"Positions\".lower AS \"Positions_lower\", \"Positions\".x AS \"Positions_x\", \"Positions\".y AS \"Positions_y\" \n",
      "FROM \"Positions\" \n",
      "WHERE \"Positions\".id = ?\n",
      "2021-07-21 02:25:37,788 INFO sqlalchemy.engine.Engine [cached since 0.6082s ago] (99,)\n",
      "\n",
      "*_*_*_*_ {'top': Position({'middle': 100.0, 'x': 152315.0, 'y': 121754.0, 'units': 'm'}), 'base': Position({'middle': 95.0, 'x': 152315.0, 'y': 121754.0, 'units': 'm'}), 'description': '{\"lithology\": \"sable\"}, {\"arsenic\": \"vr\"}, {\"cadmium\": \"inconnu\"}', 'data': {}, 'components': [Component({'lithology': 'sable'}), Component({'arsenic': 'vr'}), Component({'cadmium': 'inconnu'})]} \n",
      "\n",
      "Borehole geometry created successfully !\n"
     ]
    }
   ],
   "source": [
    "for bh in boreholes:\n",
    "    p.add_borehole(bh)"
   ]
  },
  {
   "cell_type": "code",
   "execution_count": 26,
   "metadata": {},
   "outputs": [
    {
     "data": {
      "text/plain": [
       "('BH001',\n",
       " {0: [Component({'lithology': 'sable'}),\n",
       "   Component({'arsenic': 'vs'}),\n",
       "   Component({'cadmium': 'vr'})],\n",
       "  1: [Component({'lithology': 'argile'}),\n",
       "   Component({'arsenic': 'vr'}),\n",
       "   Component({'cadmium': 'vr'})],\n",
       "  2: [Component({'lithology': 'marne'}),\n",
       "   Component({'arsenic': 'vs'}),\n",
       "   Component({'cadmium': 'vs'})],\n",
       "  3: [Component({'lithology': 'charbon'}),\n",
       "   Component({'arsenic': 'vi'}),\n",
       "   Component({'cadmium': 'inconnu'})]})"
      ]
     },
     "execution_count": 26,
     "metadata": {},
     "output_type": "execute_result"
    }
   ],
   "source": [
    "p.boreholes_3d[0].name, p.boreholes_3d[0].components"
   ]
  },
  {
   "cell_type": "code",
   "execution_count": 27,
   "metadata": {
    "scrolled": true
   },
   "outputs": [
    {
     "name": "stdout",
     "output_type": "stream",
     "text": [
      "2021-07-21 02:25:37,820 INFO sqlalchemy.engine.Engine UPDATE \"Boreholes\" SET length=? WHERE \"Boreholes\".id = ?\n",
      "2021-07-21 02:25:37,822 INFO sqlalchemy.engine.Engine [cached since 0.6054s ago] (95.0, 'BH10')\n",
      "2021-07-21 02:25:37,824 INFO sqlalchemy.engine.Engine SELECT \"Intervals\".id AS \"Intervals_id\", \"Intervals\".borehole AS \"Intervals_borehole\", \"Intervals\".interval_number AS \"Intervals_interval_number\", \"Intervals\".description AS \"Intervals_description\", \"Intervals\".top_id AS \"Intervals_top_id\", \"Intervals\".base_id AS \"Intervals_base_id\", \"Intervals\".data_id AS \"Intervals_data_id\" \n",
      "FROM \"Intervals\" \n",
      "WHERE ? = \"Intervals\".borehole\n",
      "2021-07-21 02:25:37,825 INFO sqlalchemy.engine.Engine [cached since 0.6549s ago] ('BH001',)\n",
      "2021-07-21 02:25:37,827 INFO sqlalchemy.engine.Engine SELECT \"Intervals\".id AS \"Intervals_id\", \"Intervals\".borehole AS \"Intervals_borehole\", \"Intervals\".interval_number AS \"Intervals_interval_number\", \"Intervals\".description AS \"Intervals_description\", \"Intervals\".top_id AS \"Intervals_top_id\", \"Intervals\".base_id AS \"Intervals_base_id\", \"Intervals\".data_id AS \"Intervals_data_id\" \n",
      "FROM \"Intervals\" \n",
      "WHERE ? = \"Intervals\".borehole\n",
      "2021-07-21 02:25:37,827 INFO sqlalchemy.engine.Engine [cached since 0.6575s ago] ('BH002',)\n",
      "2021-07-21 02:25:37,829 INFO sqlalchemy.engine.Engine SELECT \"Intervals\".id AS \"Intervals_id\", \"Intervals\".borehole AS \"Intervals_borehole\", \"Intervals\".interval_number AS \"Intervals_interval_number\", \"Intervals\".description AS \"Intervals_description\", \"Intervals\".top_id AS \"Intervals_top_id\", \"Intervals\".base_id AS \"Intervals_base_id\", \"Intervals\".data_id AS \"Intervals_data_id\" \n",
      "FROM \"Intervals\" \n",
      "WHERE ? = \"Intervals\".borehole\n",
      "2021-07-21 02:25:37,830 INFO sqlalchemy.engine.Engine [cached since 0.6601s ago] ('BH003',)\n",
      "2021-07-21 02:25:37,833 INFO sqlalchemy.engine.Engine SELECT \"Intervals\".id AS \"Intervals_id\", \"Intervals\".borehole AS \"Intervals_borehole\", \"Intervals\".interval_number AS \"Intervals_interval_number\", \"Intervals\".description AS \"Intervals_description\", \"Intervals\".top_id AS \"Intervals_top_id\", \"Intervals\".base_id AS \"Intervals_base_id\", \"Intervals\".data_id AS \"Intervals_data_id\" \n",
      "FROM \"Intervals\" \n",
      "WHERE ? = \"Intervals\".borehole\n",
      "2021-07-21 02:25:37,834 INFO sqlalchemy.engine.Engine [cached since 0.6639s ago] ('BH004',)\n",
      "2021-07-21 02:25:37,836 INFO sqlalchemy.engine.Engine SELECT \"Intervals\".id AS \"Intervals_id\", \"Intervals\".borehole AS \"Intervals_borehole\", \"Intervals\".interval_number AS \"Intervals_interval_number\", \"Intervals\".description AS \"Intervals_description\", \"Intervals\".top_id AS \"Intervals_top_id\", \"Intervals\".base_id AS \"Intervals_base_id\", \"Intervals\".data_id AS \"Intervals_data_id\" \n",
      "FROM \"Intervals\" \n",
      "WHERE ? = \"Intervals\".borehole\n",
      "2021-07-21 02:25:37,837 INFO sqlalchemy.engine.Engine [cached since 0.6667s ago] ('BH005',)\n",
      "2021-07-21 02:25:37,839 INFO sqlalchemy.engine.Engine SELECT \"Intervals\".id AS \"Intervals_id\", \"Intervals\".borehole AS \"Intervals_borehole\", \"Intervals\".interval_number AS \"Intervals_interval_number\", \"Intervals\".description AS \"Intervals_description\", \"Intervals\".top_id AS \"Intervals_top_id\", \"Intervals\".base_id AS \"Intervals_base_id\", \"Intervals\".data_id AS \"Intervals_data_id\" \n",
      "FROM \"Intervals\" \n",
      "WHERE ? = \"Intervals\".borehole\n",
      "2021-07-21 02:25:37,840 INFO sqlalchemy.engine.Engine [cached since 0.6697s ago] ('BH006',)\n",
      "2021-07-21 02:25:37,842 INFO sqlalchemy.engine.Engine SELECT \"Intervals\".id AS \"Intervals_id\", \"Intervals\".borehole AS \"Intervals_borehole\", \"Intervals\".interval_number AS \"Intervals_interval_number\", \"Intervals\".description AS \"Intervals_description\", \"Intervals\".top_id AS \"Intervals_top_id\", \"Intervals\".base_id AS \"Intervals_base_id\", \"Intervals\".data_id AS \"Intervals_data_id\" \n",
      "FROM \"Intervals\" \n",
      "WHERE ? = \"Intervals\".borehole\n",
      "2021-07-21 02:25:37,843 INFO sqlalchemy.engine.Engine [cached since 0.6726s ago] ('BH007',)\n",
      "2021-07-21 02:25:37,845 INFO sqlalchemy.engine.Engine SELECT \"Intervals\".id AS \"Intervals_id\", \"Intervals\".borehole AS \"Intervals_borehole\", \"Intervals\".interval_number AS \"Intervals_interval_number\", \"Intervals\".description AS \"Intervals_description\", \"Intervals\".top_id AS \"Intervals_top_id\", \"Intervals\".base_id AS \"Intervals_base_id\", \"Intervals\".data_id AS \"Intervals_data_id\" \n",
      "FROM \"Intervals\" \n",
      "WHERE ? = \"Intervals\".borehole\n",
      "2021-07-21 02:25:37,846 INFO sqlalchemy.engine.Engine [cached since 0.6758s ago] ('BH008',)\n",
      "2021-07-21 02:25:37,848 INFO sqlalchemy.engine.Engine SELECT \"Intervals\".id AS \"Intervals_id\", \"Intervals\".borehole AS \"Intervals_borehole\", \"Intervals\".interval_number AS \"Intervals_interval_number\", \"Intervals\".description AS \"Intervals_description\", \"Intervals\".top_id AS \"Intervals_top_id\", \"Intervals\".base_id AS \"Intervals_base_id\", \"Intervals\".data_id AS \"Intervals_data_id\" \n",
      "FROM \"Intervals\" \n",
      "WHERE ? = \"Intervals\".borehole\n",
      "2021-07-21 02:25:37,848 INFO sqlalchemy.engine.Engine [cached since 0.6783s ago] ('BH009',)\n"
     ]
    },
    {
     "data": {
      "text/plain": [
       "[<core.orm.BoreholeOrm>(Name=BH001, Length=97.0, Diameter=0.43, Intervals=4),\n",
       " <core.orm.BoreholeOrm>(Name=BH002, Length=98.0, Diameter=0.6, Intervals=5),\n",
       " <core.orm.BoreholeOrm>(Name=BH003, Length=100.0, Diameter=0.41, Intervals=5),\n",
       " <core.orm.BoreholeOrm>(Name=BH004, Length=96.0, Diameter=0.61, Intervals=5),\n",
       " <core.orm.BoreholeOrm>(Name=BH005, Length=97.0, Diameter=0.61, Intervals=7),\n",
       " <core.orm.BoreholeOrm>(Name=BH006, Length=100.0, Diameter=0.31, Intervals=5),\n",
       " <core.orm.BoreholeOrm>(Name=BH007, Length=97.0, Diameter=0.57, Intervals=6),\n",
       " <core.orm.BoreholeOrm>(Name=BH008, Length=98.0, Diameter=0.39, Intervals=5),\n",
       " <core.orm.BoreholeOrm>(Name=BH009, Length=94.0, Diameter=0.5, Intervals=5),\n",
       " <core.orm.BoreholeOrm>(Name=BH10, Length=95.0, Diameter=0.31, Intervals=3)]"
      ]
     },
     "execution_count": 27,
     "metadata": {},
     "output_type": "execute_result"
    }
   ],
   "source": [
    "p.boreholes_orm"
   ]
  },
  {
   "cell_type": "code",
   "execution_count": 28,
   "metadata": {},
   "outputs": [
    {
     "name": "stdout",
     "output_type": "stream",
     "text": [
      "2021-07-21 02:25:37,868 INFO sqlalchemy.engine.Engine INSERT INTO \"Linkintervalcomponent\" (int_id, comp_id, extra_data) VALUES (?, ?, ?)\n",
      "2021-07-21 02:25:37,870 INFO sqlalchemy.engine.Engine [generated in 0.00228s] ((0, 0, ''), (0, 1, ''), (0, 2, ''), (1, 3, ''), (1, 4, ''), (1, 2, ''), (2, 5, ''), (2, 1, '')  ... displaying 10 of 150 total bound parameter sets ...  (49, 8, ''), (49, 10, ''))\n",
      "2021-07-21 02:25:37,874 INFO sqlalchemy.engine.Engine COMMIT\n",
      "2021-07-21 02:25:37,879 INFO sqlalchemy.engine.Engine BEGIN (implicit)\n",
      "2021-07-21 02:25:37,880 INFO sqlalchemy.engine.Engine SELECT \"Boreholes\".id AS \"Boreholes_id\", \"Boreholes\".length AS \"Boreholes_length\", \"Boreholes\".diameter AS \"Boreholes_diameter\" \n",
      "FROM \"Boreholes\"\n",
      "2021-07-21 02:25:37,881 INFO sqlalchemy.engine.Engine [cached since 0.7724s ago] ()\n"
     ]
    }
   ],
   "source": [
    "p.add_link_between_components_and_intervals(link_intv_comp)"
   ]
  },
  {
   "cell_type": "code",
   "execution_count": 29,
   "metadata": {
    "scrolled": true
   },
   "outputs": [
    {
     "name": "stdout",
     "output_type": "stream",
     "text": [
      "2021-07-21 02:25:37,887 INFO sqlalchemy.engine.Engine COMMIT\n",
      "Boreholes in the project :  10\n"
     ]
    }
   ],
   "source": [
    "p.commit()\n",
    "print('Boreholes in the project : ', len(p.boreholes_orm))"
   ]
  },
  {
   "cell_type": "code",
   "execution_count": 30,
   "metadata": {
    "scrolled": true
   },
   "outputs": [
    {
     "name": "stdout",
     "output_type": "stream",
     "text": [
      "2021-07-21 02:25:37,895 INFO sqlalchemy.engine.Engine BEGIN (implicit)\n",
      "2021-07-21 02:25:37,898 INFO sqlalchemy.engine.Engine SELECT \"Boreholes\".id AS \"Boreholes_id\", \"Boreholes\".length AS \"Boreholes_length\", \"Boreholes\".diameter AS \"Boreholes_diameter\" \n",
      "FROM \"Boreholes\" \n",
      "WHERE \"Boreholes\".id = ?\n",
      "2021-07-21 02:25:37,899 INFO sqlalchemy.engine.Engine [generated in 0.00100s] ('BH003',)\n",
      "2021-07-21 02:25:37,900 INFO sqlalchemy.engine.Engine SELECT \"Intervals\".id AS \"Intervals_id\", \"Intervals\".borehole AS \"Intervals_borehole\", \"Intervals\".interval_number AS \"Intervals_interval_number\", \"Intervals\".description AS \"Intervals_description\", \"Intervals\".top_id AS \"Intervals_top_id\", \"Intervals\".base_id AS \"Intervals_base_id\", \"Intervals\".data_id AS \"Intervals_data_id\" \n",
      "FROM \"Intervals\" \n",
      "WHERE ? = \"Intervals\".borehole\n",
      "2021-07-21 02:25:37,901 INFO sqlalchemy.engine.Engine [cached since 0.7312s ago] ('BH003',)\n",
      "2021-07-21 02:25:37,904 INFO sqlalchemy.engine.Engine SELECT \"Positions\".id AS \"Positions_id\", \"Positions\".upper AS \"Positions_upper\", \"Positions\".middle AS \"Positions_middle\", \"Positions\".lower AS \"Positions_lower\", \"Positions\".x AS \"Positions_x\", \"Positions\".y AS \"Positions_y\" \n",
      "FROM \"Positions\" \n",
      "WHERE \"Positions\".id = ?\n",
      "2021-07-21 02:25:37,904 INFO sqlalchemy.engine.Engine [cached since 0.7288s ago] (18,)\n",
      "2021-07-21 02:25:37,909 INFO sqlalchemy.engine.Engine SELECT \"Components\".id AS \"Components_id\", \"Components\".description AS \"Components_description\" \n",
      "FROM \"Components\", \"Linkintervalcomponent\" \n",
      "WHERE ? = \"Linkintervalcomponent\".int_id AND \"Components\".id = \"Linkintervalcomponent\".comp_id\n",
      "2021-07-21 02:25:37,910 INFO sqlalchemy.engine.Engine [generated in 0.00101s] (9,)\n",
      "2021-07-21 02:25:37,912 INFO sqlalchemy.engine.Engine SELECT \"Positions\".id AS \"Positions_id\", \"Positions\".upper AS \"Positions_upper\", \"Positions\".middle AS \"Positions_middle\", \"Positions\".lower AS \"Positions_lower\", \"Positions\".x AS \"Positions_x\", \"Positions\".y AS \"Positions_y\" \n",
      "FROM \"Positions\" \n",
      "WHERE \"Positions\".id = ?\n",
      "2021-07-21 02:25:37,912 INFO sqlalchemy.engine.Engine [cached since 0.737s ago] (20,)\n",
      "2021-07-21 02:25:37,914 INFO sqlalchemy.engine.Engine SELECT \"Components\".id AS \"Components_id\", \"Components\".description AS \"Components_description\" \n",
      "FROM \"Components\", \"Linkintervalcomponent\" \n",
      "WHERE ? = \"Linkintervalcomponent\".int_id AND \"Components\".id = \"Linkintervalcomponent\".comp_id\n",
      "2021-07-21 02:25:37,915 INFO sqlalchemy.engine.Engine [cached since 0.005971s ago] (10,)\n",
      "2021-07-21 02:25:37,917 INFO sqlalchemy.engine.Engine SELECT \"Positions\".id AS \"Positions_id\", \"Positions\".upper AS \"Positions_upper\", \"Positions\".middle AS \"Positions_middle\", \"Positions\".lower AS \"Positions_lower\", \"Positions\".x AS \"Positions_x\", \"Positions\".y AS \"Positions_y\" \n",
      "FROM \"Positions\" \n",
      "WHERE \"Positions\".id = ?\n",
      "2021-07-21 02:25:37,918 INFO sqlalchemy.engine.Engine [cached since 0.7423s ago] (22,)\n",
      "2021-07-21 02:25:37,919 INFO sqlalchemy.engine.Engine SELECT \"Components\".id AS \"Components_id\", \"Components\".description AS \"Components_description\" \n",
      "FROM \"Components\", \"Linkintervalcomponent\" \n",
      "WHERE ? = \"Linkintervalcomponent\".int_id AND \"Components\".id = \"Linkintervalcomponent\".comp_id\n",
      "2021-07-21 02:25:37,920 INFO sqlalchemy.engine.Engine [cached since 0.01133s ago] (11,)\n",
      "2021-07-21 02:25:37,923 INFO sqlalchemy.engine.Engine SELECT \"Positions\".id AS \"Positions_id\", \"Positions\".upper AS \"Positions_upper\", \"Positions\".middle AS \"Positions_middle\", \"Positions\".lower AS \"Positions_lower\", \"Positions\".x AS \"Positions_x\", \"Positions\".y AS \"Positions_y\" \n",
      "FROM \"Positions\" \n",
      "WHERE \"Positions\".id = ?\n",
      "2021-07-21 02:25:37,924 INFO sqlalchemy.engine.Engine [cached since 0.7482s ago] (24,)\n",
      "2021-07-21 02:25:37,926 INFO sqlalchemy.engine.Engine SELECT \"Components\".id AS \"Components_id\", \"Components\".description AS \"Components_description\" \n",
      "FROM \"Components\", \"Linkintervalcomponent\" \n",
      "WHERE ? = \"Linkintervalcomponent\".int_id AND \"Components\".id = \"Linkintervalcomponent\".comp_id\n",
      "2021-07-21 02:25:37,926 INFO sqlalchemy.engine.Engine [cached since 0.01763s ago] (12,)\n",
      "2021-07-21 02:25:37,928 INFO sqlalchemy.engine.Engine SELECT \"Positions\".id AS \"Positions_id\", \"Positions\".upper AS \"Positions_upper\", \"Positions\".middle AS \"Positions_middle\", \"Positions\".lower AS \"Positions_lower\", \"Positions\".x AS \"Positions_x\", \"Positions\".y AS \"Positions_y\" \n",
      "FROM \"Positions\" \n",
      "WHERE \"Positions\".id = ?\n",
      "2021-07-21 02:25:37,929 INFO sqlalchemy.engine.Engine [cached since 0.7532s ago] (26,)\n",
      "2021-07-21 02:25:37,930 INFO sqlalchemy.engine.Engine SELECT \"Components\".id AS \"Components_id\", \"Components\".description AS \"Components_description\" \n",
      "FROM \"Components\", \"Linkintervalcomponent\" \n",
      "WHERE ? = \"Linkintervalcomponent\".int_id AND \"Components\".id = \"Linkintervalcomponent\".comp_id\n",
      "2021-07-21 02:25:37,931 INFO sqlalchemy.engine.Engine [cached since 0.02208s ago] (13,)\n"
     ]
    },
    {
     "data": {
      "text/plain": [
       "{9: <core.orm.IntervalOrm>(Id=9, Borehole=BH003, top=<core.orm.PositionOrm object at 0x7f8cfe8b48b0>Description={\"lithology\": \"sable\"}, {\"arsenic\": \"inconnu\"}, {\"cadmium\": \"vi\"}, Components=[<core.orm.ComponentOrm>(Id=0, Description=Sable), <core.orm.ComponentOrm>(Id=10, Description=Vi), <core.orm.ComponentOrm>(Id=12, Description=Inconnu)]),\n",
       " 10: <core.orm.IntervalOrm>(Id=10, Borehole=BH003, top=<core.orm.PositionOrm object at 0x7f8cfe83ae80>Description={\"lithology\": \"argile\"}, {\"arsenic\": \"vs\"}, {\"cadmium\": \"inconnu\"}, Components=[<core.orm.ComponentOrm>(Id=1, Description=Vs), <core.orm.ComponentOrm>(Id=3, Description=Argile), <core.orm.ComponentOrm>(Id=9, Description=Inconnu)]),\n",
       " 11: <core.orm.IntervalOrm>(Id=11, Borehole=BH003, top=<core.orm.PositionOrm object at 0x7f8cfe8b4ee0>Description={\"lithology\": \"marne\"}, {\"arsenic\": \"vs\"}, {\"cadmium\": \"vi\"}, Components=[<core.orm.ComponentOrm>(Id=1, Description=Vs), <core.orm.ComponentOrm>(Id=5, Description=Marne), <core.orm.ComponentOrm>(Id=10, Description=Vi)]),\n",
       " 12: <core.orm.IntervalOrm>(Id=12, Borehole=BH003, top=<core.orm.PositionOrm object at 0x7f8cfe8b45e0>Description={\"lithology\": \"charbon\"}, {\"arsenic\": \"vs\"}, {\"cadmium\": \"inconnu\"}, Components=[<core.orm.ComponentOrm>(Id=1, Description=Vs), <core.orm.ComponentOrm>(Id=7, Description=Charbon), <core.orm.ComponentOrm>(Id=9, Description=Inconnu)]),\n",
       " 13: <core.orm.IntervalOrm>(Id=13, Borehole=BH003, top=<core.orm.PositionOrm object at 0x7f8cfe8b4ac0>Description={\"lithology\": \"dolomie\"}, {\"arsenic\": \"vs\"}, {\"cadmium\": \"vr\"}, Components=[<core.orm.ComponentOrm>(Id=1, Description=Vs), <core.orm.ComponentOrm>(Id=2, Description=Vr), <core.orm.ComponentOrm>(Id=11, Description=Dolomie)])}"
      ]
     },
     "execution_count": 30,
     "metadata": {},
     "output_type": "execute_result"
    }
   ],
   "source": [
    "p.boreholes_orm[2].intervals"
   ]
  },
  {
   "cell_type": "code",
   "execution_count": 31,
   "metadata": {},
   "outputs": [
    {
     "name": "stdout",
     "output_type": "stream",
     "text": [
      "2021-07-21 02:25:37,937 INFO sqlalchemy.engine.Engine SELECT \"Boreholes\".id AS \"Boreholes_id\", \"Boreholes\".length AS \"Boreholes_length\", \"Boreholes\".diameter AS \"Boreholes_diameter\" \n",
      "FROM \"Boreholes\"\n",
      "2021-07-21 02:25:37,939 INFO sqlalchemy.engine.Engine [cached since 0.8307s ago] ()\n"
     ]
    }
   ],
   "source": [
    "p.refresh(verbose=False)"
   ]
  },
  {
   "cell_type": "code",
   "execution_count": 32,
   "metadata": {},
   "outputs": [
    {
     "data": {
      "text/plain": [
       "{'lithology': 'sable'}"
      ]
     },
     "execution_count": 32,
     "metadata": {},
     "output_type": "execute_result"
    }
   ],
   "source": [
    "eval(Component({'lithology':'sable'}).json())"
   ]
  },
  {
   "cell_type": "raw",
   "metadata": {},
   "source": [
    "session.close()"
   ]
  },
  {
   "cell_type": "markdown",
   "metadata": {},
   "source": [
    "# 2D/3D Display"
   ]
  },
  {
   "cell_type": "code",
   "execution_count": 33,
   "metadata": {},
   "outputs": [
    {
     "data": {
      "text/plain": [
       "['lithology', 'arsenic', 'cadmium']"
      ]
     },
     "execution_count": 33,
     "metadata": {},
     "output_type": "execute_result"
    }
   ],
   "source": [
    "attributes = list(p.legend_dict.keys())\n",
    "attributes"
   ]
  },
  {
   "cell_type": "code",
   "execution_count": 34,
   "metadata": {},
   "outputs": [
    {
     "data": {
      "text/plain": [
       "({'lithology': {'legend': Legend(Decor({'_colour': '#ffcb23', 'width': 3, 'hatch': \"'..'\", 'component': Component({'lithology': 'sable'})})\n",
       "   Decor({'_colour': '#d5e6cc', 'width': 3, 'hatch': \"'---'\", 'component': Component({'lithology': 'argile'})})\n",
       "   Decor({'_colour': '#7ba1a8', 'width': 3, 'hatch': None, 'component': Component({'lithology': 'marne'})})\n",
       "   Decor({'_colour': '#000000', 'width': 3, 'hatch': None, 'component': Component({'lithology': 'charbon'})})\n",
       "   Decor({'_colour': '#fdaffe', 'width': 3, 'hatch': None, 'component': Component({'lithology': 'dolomie'})})\n",
       "   Decor({'_colour': '#bbffdd', 'width': 3, 'hatch': \"'--'\", 'component': Component({'lithology': 'schiste'})})\n",
       "   Decor({'_colour': '#149eff', 'width': 3, 'hatch': \"'='\", 'component': Component({'lithology': 'calcaire'})})),\n",
       "   'cmap': <matplotlib.colors.ListedColormap at 0x7f8cfe8575e0>,\n",
       "   'values': ['sable',\n",
       "    'argile',\n",
       "    'marne',\n",
       "    'charbon',\n",
       "    'dolomie',\n",
       "    'schiste',\n",
       "    'calcaire']},\n",
       "  'arsenic': {'legend': Legend(Decor({'_colour': '#ffa500', 'width': 3, 'component': Component({'arsenic': 'vs'}), 'hatch': None})\n",
       "   Decor({'_colour': '#00ff00', 'width': 3, 'component': Component({'arsenic': 'vr'}), 'hatch': None})\n",
       "   Decor({'_colour': '#ff0000', 'width': 3, 'component': Component({'arsenic': 'vi'}), 'hatch': None})\n",
       "   Decor({'_colour': '#ffffff', 'width': 3, 'component': Component({'arsenic': 'inconnu'}), 'hatch': None})),\n",
       "   'cmap': <matplotlib.colors.ListedColormap at 0x7f8cfe85a580>,\n",
       "   'values': ['vs', 'vr', 'vi', 'inconnu']},\n",
       "  'cadmium': {'legend': Legend(Decor({'_colour': '#00ff00', 'width': 3, 'component': Component({'cadmium': 'vr'}), 'hatch': None})\n",
       "   Decor({'_colour': '#ffa500', 'width': 3, 'component': Component({'cadmium': 'vs'}), 'hatch': None})\n",
       "   Decor({'_colour': '#ffffff', 'width': 3, 'component': Component({'cadmium': 'inconnu'}), 'hatch': None})\n",
       "   Decor({'_colour': '#ff0000', 'width': 3, 'component': Component({'cadmium': 'vi'}), 'hatch': None})),\n",
       "   'cmap': <matplotlib.colors.ListedColormap at 0x7f8cfe846820>,\n",
       "   'values': ['vr', 'vs', 'inconnu', 'vi']}},\n",
       " {'BH001': {'lithology': {'legend': Legend(Decor({'_colour': '#ffcb23', 'width': 3, 'hatch': \"'..'\", 'component': Component({'lithology': 'sable'})})\n",
       "    Decor({'_colour': '#d5e6cc', 'width': 3, 'hatch': \"'---'\", 'component': Component({'lithology': 'argile'})})\n",
       "    Decor({'_colour': '#7ba1a8', 'width': 3, 'hatch': None, 'component': Component({'lithology': 'marne'})})\n",
       "    Decor({'_colour': '#000000', 'width': 3, 'hatch': None, 'component': Component({'lithology': 'charbon'})})),\n",
       "    'cmap': <matplotlib.colors.ListedColormap at 0x7f8cfe897dc0>,\n",
       "    'values': ['sable', 'argile', 'marne', 'charbon']},\n",
       "   'arsenic': {'legend': Legend(Decor({'_colour': '#ffa500', 'width': 3, 'component': Component({'arsenic': 'vs'}), 'hatch': None})\n",
       "    Decor({'_colour': '#00ff00', 'width': 3, 'component': Component({'arsenic': 'vr'}), 'hatch': None})\n",
       "    Decor({'_colour': '#ff0000', 'width': 3, 'component': Component({'arsenic': 'vi'}), 'hatch': None})),\n",
       "    'cmap': <matplotlib.colors.ListedColormap at 0x7f8cfe8acd30>,\n",
       "    'values': ['vs', 'vr', 'vi']},\n",
       "   'cadmium': {'legend': Legend(Decor({'_colour': '#00ff00', 'width': 3, 'component': Component({'cadmium': 'vr'}), 'hatch': None})\n",
       "    Decor({'_colour': '#ffa500', 'width': 3, 'component': Component({'cadmium': 'vs'}), 'hatch': None})\n",
       "    Decor({'_colour': '#ffffff', 'width': 3, 'component': Component({'cadmium': 'inconnu'}), 'hatch': None})),\n",
       "    'cmap': <matplotlib.colors.ListedColormap at 0x7f8cfe85a250>,\n",
       "    'values': ['vr', 'vs', 'inconnu']}},\n",
       "  'BH002': {'lithology': {'legend': Legend(Decor({'_colour': '#ffcb23', 'width': 3, 'hatch': \"'..'\", 'component': Component({'lithology': 'sable'})})\n",
       "    Decor({'_colour': '#d5e6cc', 'width': 3, 'hatch': \"'---'\", 'component': Component({'lithology': 'argile'})})\n",
       "    Decor({'_colour': '#7ba1a8', 'width': 3, 'hatch': None, 'component': Component({'lithology': 'marne'})})\n",
       "    Decor({'_colour': '#000000', 'width': 3, 'hatch': None, 'component': Component({'lithology': 'charbon'})})\n",
       "    Decor({'_colour': '#fdaffe', 'width': 3, 'hatch': None, 'component': Component({'lithology': 'dolomie'})})),\n",
       "    'cmap': <matplotlib.colors.ListedColormap at 0x7f8cfe895be0>,\n",
       "    'values': ['sable', 'argile', 'marne', 'charbon', 'dolomie']},\n",
       "   'arsenic': {'legend': Legend(Decor({'_colour': '#00ff00', 'width': 3, 'component': Component({'arsenic': 'vr'}), 'hatch': None})\n",
       "    Decor({'_colour': '#ffa500', 'width': 3, 'component': Component({'arsenic': 'vs'}), 'hatch': None})\n",
       "    Decor({'_colour': '#ff0000', 'width': 3, 'component': Component({'arsenic': 'vi'}), 'hatch': None})\n",
       "    Decor({'_colour': '#ffffff', 'width': 3, 'component': Component({'arsenic': 'inconnu'}), 'hatch': None})),\n",
       "    'cmap': <matplotlib.colors.ListedColormap at 0x7f8cfe836790>,\n",
       "    'values': ['vr', 'vs', 'vi', 'inconnu']},\n",
       "   'cadmium': {'legend': Legend(Decor({'_colour': '#ffa500', 'width': 3, 'component': Component({'cadmium': 'vs'}), 'hatch': None})\n",
       "    Decor({'_colour': '#ffffff', 'width': 3, 'component': Component({'cadmium': 'inconnu'}), 'hatch': None})\n",
       "    Decor({'_colour': '#ff0000', 'width': 3, 'component': Component({'cadmium': 'vi'}), 'hatch': None})),\n",
       "    'cmap': <matplotlib.colors.ListedColormap at 0x7f8cfe85a460>,\n",
       "    'values': ['vs', 'inconnu', 'vi']}},\n",
       "  'BH003': {'lithology': {'legend': Legend(Decor({'_colour': '#ffcb23', 'width': 3, 'hatch': \"'..'\", 'component': Component({'lithology': 'sable'})})\n",
       "    Decor({'_colour': '#d5e6cc', 'width': 3, 'hatch': \"'---'\", 'component': Component({'lithology': 'argile'})})\n",
       "    Decor({'_colour': '#7ba1a8', 'width': 3, 'hatch': None, 'component': Component({'lithology': 'marne'})})\n",
       "    Decor({'_colour': '#000000', 'width': 3, 'hatch': None, 'component': Component({'lithology': 'charbon'})})\n",
       "    Decor({'_colour': '#fdaffe', 'width': 3, 'hatch': None, 'component': Component({'lithology': 'dolomie'})})),\n",
       "    'cmap': <matplotlib.colors.ListedColormap at 0x7f8cfe897190>,\n",
       "    'values': ['sable', 'argile', 'marne', 'charbon', 'dolomie']},\n",
       "   'arsenic': {'legend': Legend(Decor({'_colour': '#ffffff', 'width': 3, 'component': Component({'arsenic': 'inconnu'}), 'hatch': None})\n",
       "    Decor({'_colour': '#ffa500', 'width': 3, 'component': Component({'arsenic': 'vs'}), 'hatch': None})),\n",
       "    'cmap': <matplotlib.colors.ListedColormap at 0x7f8cfe836a30>,\n",
       "    'values': ['inconnu', 'vs']},\n",
       "   'cadmium': {'legend': Legend(Decor({'_colour': '#ff0000', 'width': 3, 'component': Component({'cadmium': 'vi'}), 'hatch': None})\n",
       "    Decor({'_colour': '#ffffff', 'width': 3, 'component': Component({'cadmium': 'inconnu'}), 'hatch': None})\n",
       "    Decor({'_colour': '#00ff00', 'width': 3, 'component': Component({'cadmium': 'vr'}), 'hatch': None})),\n",
       "    'cmap': <matplotlib.colors.ListedColormap at 0x7f8cfe85a7f0>,\n",
       "    'values': ['vi', 'inconnu', 'vr']}},\n",
       "  'BH004': {'lithology': {'legend': Legend(Decor({'_colour': '#ffcb23', 'width': 3, 'hatch': \"'..'\", 'component': Component({'lithology': 'sable'})})\n",
       "    Decor({'_colour': '#d5e6cc', 'width': 3, 'hatch': \"'---'\", 'component': Component({'lithology': 'argile'})})\n",
       "    Decor({'_colour': '#7ba1a8', 'width': 3, 'hatch': None, 'component': Component({'lithology': 'marne'})})\n",
       "    Decor({'_colour': '#000000', 'width': 3, 'hatch': None, 'component': Component({'lithology': 'charbon'})})\n",
       "    Decor({'_colour': '#fdaffe', 'width': 3, 'hatch': None, 'component': Component({'lithology': 'dolomie'})})),\n",
       "    'cmap': <matplotlib.colors.ListedColormap at 0x7f8cfe8ac670>,\n",
       "    'values': ['sable', 'argile', 'marne', 'charbon', 'dolomie']},\n",
       "   'arsenic': {'legend': Legend(Decor({'_colour': '#ff0000', 'width': 3, 'component': Component({'arsenic': 'vi'}), 'hatch': None})\n",
       "    Decor({'_colour': '#ffffff', 'width': 3, 'component': Component({'arsenic': 'inconnu'}), 'hatch': None})\n",
       "    Decor({'_colour': '#00ff00', 'width': 3, 'component': Component({'arsenic': 'vr'}), 'hatch': None})\n",
       "    Decor({'_colour': '#ffa500', 'width': 3, 'component': Component({'arsenic': 'vs'}), 'hatch': None})),\n",
       "    'cmap': <matplotlib.colors.ListedColormap at 0x7f8cfe857c70>,\n",
       "    'values': ['vi', 'inconnu', 'vr', 'vs']},\n",
       "   'cadmium': {'legend': Legend(Decor({'_colour': '#00ff00', 'width': 3, 'component': Component({'cadmium': 'vr'}), 'hatch': None})\n",
       "    Decor({'_colour': '#ffffff', 'width': 3, 'component': Component({'cadmium': 'inconnu'}), 'hatch': None})\n",
       "    Decor({'_colour': '#ff0000', 'width': 3, 'component': Component({'cadmium': 'vi'}), 'hatch': None})\n",
       "    Decor({'_colour': '#ffa500', 'width': 3, 'component': Component({'cadmium': 'vs'}), 'hatch': None})),\n",
       "    'cmap': <matplotlib.colors.ListedColormap at 0x7f8cfe85abe0>,\n",
       "    'values': ['vr', 'inconnu', 'vi', 'vs']}},\n",
       "  'BH005': {'lithology': {'legend': Legend(Decor({'_colour': '#ffcb23', 'width': 3, 'hatch': \"'..'\", 'component': Component({'lithology': 'sable'})})\n",
       "    Decor({'_colour': '#d5e6cc', 'width': 3, 'hatch': \"'---'\", 'component': Component({'lithology': 'argile'})})\n",
       "    Decor({'_colour': '#7ba1a8', 'width': 3, 'hatch': None, 'component': Component({'lithology': 'marne'})})\n",
       "    Decor({'_colour': '#000000', 'width': 3, 'hatch': None, 'component': Component({'lithology': 'charbon'})})\n",
       "    Decor({'_colour': '#fdaffe', 'width': 3, 'hatch': None, 'component': Component({'lithology': 'dolomie'})})\n",
       "    Decor({'_colour': '#bbffdd', 'width': 3, 'hatch': \"'--'\", 'component': Component({'lithology': 'schiste'})})\n",
       "    Decor({'_colour': '#149eff', 'width': 3, 'hatch': \"'='\", 'component': Component({'lithology': 'calcaire'})})),\n",
       "    'cmap': <matplotlib.colors.ListedColormap at 0x7f8cfe8ab490>,\n",
       "    'values': ['sable',\n",
       "     'argile',\n",
       "     'marne',\n",
       "     'charbon',\n",
       "     'dolomie',\n",
       "     'schiste',\n",
       "     'calcaire']},\n",
       "   'arsenic': {'legend': Legend(Decor({'_colour': '#00ff00', 'width': 3, 'component': Component({'arsenic': 'vr'}), 'hatch': None})\n",
       "    Decor({'_colour': '#ffa500', 'width': 3, 'component': Component({'arsenic': 'vs'}), 'hatch': None})\n",
       "    Decor({'_colour': '#ff0000', 'width': 3, 'component': Component({'arsenic': 'vi'}), 'hatch': None})\n",
       "    Decor({'_colour': '#ffffff', 'width': 3, 'component': Component({'arsenic': 'inconnu'}), 'hatch': None})),\n",
       "    'cmap': <matplotlib.colors.ListedColormap at 0x7f8cfe857880>,\n",
       "    'values': ['vr', 'vs', 'vi', 'inconnu']},\n",
       "   'cadmium': {'legend': Legend(Decor({'_colour': '#ff0000', 'width': 3, 'component': Component({'cadmium': 'vi'}), 'hatch': None})\n",
       "    Decor({'_colour': '#ffffff', 'width': 3, 'component': Component({'cadmium': 'inconnu'}), 'hatch': None})\n",
       "    Decor({'_colour': '#ffa500', 'width': 3, 'component': Component({'cadmium': 'vs'}), 'hatch': None})\n",
       "    Decor({'_colour': '#00ff00', 'width': 3, 'component': Component({'cadmium': 'vr'}), 'hatch': None})),\n",
       "    'cmap': <matplotlib.colors.ListedColormap at 0x7f8cfe85adf0>,\n",
       "    'values': ['vi', 'inconnu', 'vs', 'vr']}},\n",
       "  'BH006': {'lithology': {'legend': Legend(Decor({'_colour': '#ffcb23', 'width': 3, 'hatch': \"'..'\", 'component': Component({'lithology': 'sable'})})\n",
       "    Decor({'_colour': '#d5e6cc', 'width': 3, 'hatch': \"'---'\", 'component': Component({'lithology': 'argile'})})\n",
       "    Decor({'_colour': '#7ba1a8', 'width': 3, 'hatch': None, 'component': Component({'lithology': 'marne'})})\n",
       "    Decor({'_colour': '#000000', 'width': 3, 'hatch': None, 'component': Component({'lithology': 'charbon'})})\n",
       "    Decor({'_colour': '#fdaffe', 'width': 3, 'hatch': None, 'component': Component({'lithology': 'dolomie'})})),\n",
       "    'cmap': <matplotlib.colors.ListedColormap at 0x7f8cfe836250>,\n",
       "    'values': ['sable', 'argile', 'marne', 'charbon', 'dolomie']},\n",
       "   'arsenic': {'legend': Legend(Decor({'_colour': '#ffffff', 'width': 3, 'component': Component({'arsenic': 'inconnu'}), 'hatch': None})\n",
       "    Decor({'_colour': '#ffa500', 'width': 3, 'component': Component({'arsenic': 'vs'}), 'hatch': None})\n",
       "    Decor({'_colour': '#ff0000', 'width': 3, 'component': Component({'arsenic': 'vi'}), 'hatch': None})\n",
       "    Decor({'_colour': '#00ff00', 'width': 3, 'component': Component({'arsenic': 'vr'}), 'hatch': None})),\n",
       "    'cmap': <matplotlib.colors.ListedColormap at 0x7f8cfe8abcd0>,\n",
       "    'values': ['inconnu', 'vs', 'vi', 'vr']},\n",
       "   'cadmium': {'legend': Legend(Decor({'_colour': '#ff0000', 'width': 3, 'component': Component({'cadmium': 'vi'}), 'hatch': None})\n",
       "    Decor({'_colour': '#00ff00', 'width': 3, 'component': Component({'cadmium': 'vr'}), 'hatch': None})\n",
       "    Decor({'_colour': '#ffa500', 'width': 3, 'component': Component({'cadmium': 'vs'}), 'hatch': None})),\n",
       "    'cmap': <matplotlib.colors.ListedColormap at 0x7f8cfe846070>,\n",
       "    'values': ['vi', 'vr', 'vs']}},\n",
       "  'BH007': {'lithology': {'legend': Legend(Decor({'_colour': '#ffcb23', 'width': 3, 'hatch': \"'..'\", 'component': Component({'lithology': 'sable'})})\n",
       "    Decor({'_colour': '#d5e6cc', 'width': 3, 'hatch': \"'---'\", 'component': Component({'lithology': 'argile'})})\n",
       "    Decor({'_colour': '#7ba1a8', 'width': 3, 'hatch': None, 'component': Component({'lithology': 'marne'})})\n",
       "    Decor({'_colour': '#000000', 'width': 3, 'hatch': None, 'component': Component({'lithology': 'charbon'})})\n",
       "    Decor({'_colour': '#fdaffe', 'width': 3, 'hatch': None, 'component': Component({'lithology': 'dolomie'})})\n",
       "    Decor({'_colour': '#149eff', 'width': 3, 'hatch': \"'='\", 'component': Component({'lithology': 'calcaire'})})),\n",
       "    'cmap': <matplotlib.colors.ListedColormap at 0x7f8cfe8ab3d0>,\n",
       "    'values': ['sable', 'argile', 'marne', 'charbon', 'dolomie', 'calcaire']},\n",
       "   'arsenic': {'legend': Legend(Decor({'_colour': '#00ff00', 'width': 3, 'component': Component({'arsenic': 'vr'}), 'hatch': None})\n",
       "    Decor({'_colour': '#ffa500', 'width': 3, 'component': Component({'arsenic': 'vs'}), 'hatch': None})\n",
       "    Decor({'_colour': '#ff0000', 'width': 3, 'component': Component({'arsenic': 'vi'}), 'hatch': None})),\n",
       "    'cmap': <matplotlib.colors.ListedColormap at 0x7f8cfe8ab850>,\n",
       "    'values': ['vr', 'vs', 'vi']},\n",
       "   'cadmium': {'legend': Legend(Decor({'_colour': '#00ff00', 'width': 3, 'component': Component({'cadmium': 'vr'}), 'hatch': None})\n",
       "    Decor({'_colour': '#ff0000', 'width': 3, 'component': Component({'cadmium': 'vi'}), 'hatch': None})\n",
       "    Decor({'_colour': '#ffffff', 'width': 3, 'component': Component({'cadmium': 'inconnu'}), 'hatch': None})),\n",
       "    'cmap': <matplotlib.colors.ListedColormap at 0x7f8cfe8460a0>,\n",
       "    'values': ['vr', 'vi', 'inconnu']}},\n",
       "  'BH008': {'lithology': {'legend': Legend(Decor({'_colour': '#ffcb23', 'width': 3, 'hatch': \"'..'\", 'component': Component({'lithology': 'sable'})})\n",
       "    Decor({'_colour': '#d5e6cc', 'width': 3, 'hatch': \"'---'\", 'component': Component({'lithology': 'argile'})})\n",
       "    Decor({'_colour': '#7ba1a8', 'width': 3, 'hatch': None, 'component': Component({'lithology': 'marne'})})\n",
       "    Decor({'_colour': '#000000', 'width': 3, 'hatch': None, 'component': Component({'lithology': 'charbon'})})\n",
       "    Decor({'_colour': '#fdaffe', 'width': 3, 'hatch': None, 'component': Component({'lithology': 'dolomie'})})),\n",
       "    'cmap': <matplotlib.colors.ListedColormap at 0x7f8cfe8abe50>,\n",
       "    'values': ['sable', 'argile', 'marne', 'charbon', 'dolomie']},\n",
       "   'arsenic': {'legend': Legend(Decor({'_colour': '#00ff00', 'width': 3, 'component': Component({'arsenic': 'vr'}), 'hatch': None})\n",
       "    Decor({'_colour': '#ffffff', 'width': 3, 'component': Component({'arsenic': 'inconnu'}), 'hatch': None})),\n",
       "    'cmap': <matplotlib.colors.ListedColormap at 0x7f8cfe85a070>,\n",
       "    'values': ['vr', 'inconnu']},\n",
       "   'cadmium': {'legend': Legend(Decor({'_colour': '#00ff00', 'width': 3, 'component': Component({'cadmium': 'vr'}), 'hatch': None})\n",
       "    Decor({'_colour': '#ff0000', 'width': 3, 'component': Component({'cadmium': 'vi'}), 'hatch': None})\n",
       "    Decor({'_colour': '#ffffff', 'width': 3, 'component': Component({'cadmium': 'inconnu'}), 'hatch': None})),\n",
       "    'cmap': <matplotlib.colors.ListedColormap at 0x7f8cfe846280>,\n",
       "    'values': ['vr', 'vi', 'inconnu']}},\n",
       "  'BH009': {'lithology': {'legend': Legend(Decor({'_colour': '#ffcb23', 'width': 3, 'hatch': \"'..'\", 'component': Component({'lithology': 'sable'})})\n",
       "    Decor({'_colour': '#d5e6cc', 'width': 3, 'hatch': \"'---'\", 'component': Component({'lithology': 'argile'})})\n",
       "    Decor({'_colour': '#7ba1a8', 'width': 3, 'hatch': None, 'component': Component({'lithology': 'marne'})})\n",
       "    Decor({'_colour': '#000000', 'width': 3, 'hatch': None, 'component': Component({'lithology': 'charbon'})})\n",
       "    Decor({'_colour': '#fdaffe', 'width': 3, 'hatch': None, 'component': Component({'lithology': 'dolomie'})})),\n",
       "    'cmap': <matplotlib.colors.ListedColormap at 0x7f8cfe8779a0>,\n",
       "    'values': ['sable', 'argile', 'marne', 'charbon', 'dolomie']},\n",
       "   'arsenic': {'legend': Legend(Decor({'_colour': '#00ff00', 'width': 3, 'component': Component({'arsenic': 'vr'}), 'hatch': None})\n",
       "    Decor({'_colour': '#ffffff', 'width': 3, 'component': Component({'arsenic': 'inconnu'}), 'hatch': None})),\n",
       "    'cmap': <matplotlib.colors.ListedColormap at 0x7f8cfe85a0a0>,\n",
       "    'values': ['vr', 'inconnu']},\n",
       "   'cadmium': {'legend': Legend(Decor({'_colour': '#00ff00', 'width': 3, 'component': Component({'cadmium': 'vr'}), 'hatch': None})\n",
       "    Decor({'_colour': '#ffffff', 'width': 3, 'component': Component({'cadmium': 'inconnu'}), 'hatch': None})\n",
       "    Decor({'_colour': '#ffa500', 'width': 3, 'component': Component({'cadmium': 'vs'}), 'hatch': None})),\n",
       "    'cmap': <matplotlib.colors.ListedColormap at 0x7f8cfe846400>,\n",
       "    'values': ['vr', 'inconnu', 'vs']}},\n",
       "  'BH10': {'lithology': {'legend': Legend(Decor({'_colour': '#ffcb23', 'width': 3, 'hatch': \"'..'\", 'component': Component({'lithology': 'sable'})})\n",
       "    Decor({'_colour': '#d5e6cc', 'width': 3, 'hatch': \"'---'\", 'component': Component({'lithology': 'argile'})})\n",
       "    Decor({'_colour': '#7ba1a8', 'width': 3, 'hatch': None, 'component': Component({'lithology': 'marne'})})),\n",
       "    'cmap': <matplotlib.colors.ListedColormap at 0x7f8cfe8576a0>,\n",
       "    'values': ['sable', 'argile', 'marne']},\n",
       "   'arsenic': {'legend': Legend(Decor({'_colour': '#00ff00', 'width': 3, 'component': Component({'arsenic': 'vr'}), 'hatch': None})\n",
       "    Decor({'_colour': '#ffffff', 'width': 3, 'component': Component({'arsenic': 'inconnu'}), 'hatch': None})\n",
       "    Decor({'_colour': '#ff0000', 'width': 3, 'component': Component({'arsenic': 'vi'}), 'hatch': None})),\n",
       "    'cmap': <matplotlib.colors.ListedColormap at 0x7f8cfe85a3d0>,\n",
       "    'values': ['vr', 'inconnu', 'vi']},\n",
       "   'cadmium': {'legend': Legend(Decor({'_colour': '#ffffff', 'width': 3, 'component': Component({'cadmium': 'inconnu'}), 'hatch': None})\n",
       "    Decor({'_colour': '#00ff00', 'width': 3, 'component': Component({'cadmium': 'vr'}), 'hatch': None})\n",
       "    Decor({'_colour': '#ff0000', 'width': 3, 'component': Component({'cadmium': 'vi'}), 'hatch': None})),\n",
       "    'cmap': <matplotlib.colors.ListedColormap at 0x7f8cfe8465e0>,\n",
       "    'values': ['inconnu', 'vr', 'vi']}}})"
      ]
     },
     "execution_count": 34,
     "metadata": {},
     "output_type": "execute_result"
    }
   ],
   "source": [
    "p.update_legend_cmap(update_all_attrib=True)"
   ]
  },
  {
   "cell_type": "code",
   "execution_count": 35,
   "metadata": {},
   "outputs": [
    {
     "data": {
      "image/png": "[encoded data removed]",
      "text/html": [
       "<div style=\"vertical-align: middle;\"><strong>from_list</strong> </div><div class=\"cmap\"><img alt=\"from_list colormap\" title=\"from_list\" style=\"border: 1px solid #555;\" src=\"data:image/png;base64,iVBORw0KGgoAAAANSUhEUgAAAgAAAABACAYAAABsv8+/AAAAGHRFWHRUaXRsZQBmcm9tX2xpc3QgY29sb3JtYXBDL89FAAAAHnRFWHREZXNjcmlwdGlvbgBmcm9tX2xpc3QgY29sb3JtYXABtCnOAAAAMHRFWHRBdXRob3IATWF0cGxvdGxpYiB2My40LjIsIGh0dHBzOi8vbWF0cGxvdGxpYi5vcmes1mPdAAAAMnRFWHRTb2Z0d2FyZQBNYXRwbG90bGliIHYzLjQuMiwgaHR0cHM6Ly9tYXRwbG90bGliLm9yZ4Jw/PoAAAFjSURBVHic7darjUJRAABRoA0c2xCSVVRDHTiSVRRAQgP4VSRUwqcDJPeROaeCkTN/Xn6eM976X/6NTpi8w+k6OmHydtvN6ITJux8foxO+wnl9G50wab/71eiEr7AYHQAAfJ4BAIAgAwAAQQYAAIIMAAAEGQAACDIAABBkAAAgyAAAQJABAIAgAwAAQQYAAIIMAAAEGQAACDIAABBkAAAgyAAAQJABAIAgAwAAQQYAAIIMAAAEGQAACDIAABBkAAAgyAAAQJABAIAgAwAAQQYAAIIMAAAEGQAACDIAABBkAAAgyAAAQJABAIAgAwAAQQYAAIIMAAAEGQAACDIAABBkAAAgyAAAQJABAIAgAwAAQQYAAIIMAAAEGQAACDIAABBkAAAgyAAAQJABAIAgAwAAQQYAAIIMAAAEGQAACDIAABBkAAAgyAAAQJABAIAgAwAAQQYAAIIMAAAEGQAACDIAABD0AiMCDjC6gHT1AAAAAElFTkSuQmCC\"></div><div style=\"vertical-align: middle; max-width: 514px; display: flex; justify-content: space-between;\"><div style=\"float: left;\"><div title=\"#ffcb23ff\" style=\"display: inline-block; width: 1em; height: 1em; margin: 0; vertical-align: middle; border: 1px solid #555; background-color: #ffcb23ff;\"></div> under</div><div style=\"margin: 0 auto; display: inline-block;\">bad <div title=\"#00000000\" style=\"display: inline-block; width: 1em; height: 1em; margin: 0; vertical-align: middle; border: 1px solid #555; background-color: #00000000;\"></div></div><div style=\"float: right;\">over <div title=\"#149effff\" style=\"display: inline-block; width: 1em; height: 1em; margin: 0; vertical-align: middle; border: 1px solid #555; background-color: #149effff;\"></div></div>"
      ],
      "text/plain": [
       "<matplotlib.colors.ListedColormap at 0x7f8cfe8575e0>"
      ]
     },
     "execution_count": 35,
     "metadata": {},
     "output_type": "execute_result"
    }
   ],
   "source": [
    "p.legend_dict[attributes[0]]['cmap']"
   ]
  },
  {
   "cell_type": "code",
   "execution_count": 36,
   "metadata": {},
   "outputs": [
    {
     "data": {
      "text/plain": [
       "['sable', 'argile', 'marne', 'charbon', 'dolomie', 'schiste', 'calcaire']"
      ]
     },
     "execution_count": 36,
     "metadata": {},
     "output_type": "execute_result"
    }
   ],
   "source": [
    "p.legend_dict[attributes[0]]['values']"
   ]
  },
  {
   "cell_type": "markdown",
   "metadata": {},
   "source": [
    "## Display one object (attribute = 'lithology')"
   ]
  },
  {
   "cell_type": "code",
   "execution_count": 37,
   "metadata": {},
   "outputs": [
    {
     "data": {
      "text/plain": [
       "{0: [Component({'lithology': 'sable'}),\n",
       "  Component({'arsenic': 'vr'}),\n",
       "  Component({'cadmium': 'vr'})],\n",
       " 1: [Component({'lithology': 'argile'}),\n",
       "  Component({'arsenic': 'vr'}),\n",
       "  Component({'cadmium': 'vi'})],\n",
       " 2: [Component({'lithology': 'marne'}),\n",
       "  Component({'arsenic': 'vs'}),\n",
       "  Component({'cadmium': 'vr'})],\n",
       " 3: [Component({'lithology': 'charbon'}),\n",
       "  Component({'arsenic': 'vr'}),\n",
       "  Component({'cadmium': 'vr'})],\n",
       " 4: [Component({'lithology': 'dolomie'}),\n",
       "  Component({'arsenic': 'vi'}),\n",
       "  Component({'cadmium': 'inconnu'})],\n",
       " 5: [Component({'lithology': 'calcaire'}),\n",
       "  Component({'arsenic': 'vs'}),\n",
       "  Component({'cadmium': 'vr'})]}"
      ]
     },
     "execution_count": 37,
     "metadata": {},
     "output_type": "execute_result"
    }
   ],
   "source": [
    "bh = 6\n",
    "p.boreholes_3d[bh].components"
   ]
  },
  {
   "cell_type": "code",
   "execution_count": 38,
   "metadata": {},
   "outputs": [
    {
     "name": "stderr",
     "output_type": "stream",
     "text": [
      "/home/yanathan/Projects/GSDMA/utils/visual.py:421: MatplotlibDeprecationWarning: hatch must consist of a string of \"*+-./OX\\ox|\" or None, but found the following invalid values \"'\". Passing invalid values is deprecated since 3.4 and will become an error two minor releases later.\n",
      "  rect = mpl.patches.Rectangle(origin, w, thick, fc=fc, lw=lw, hatch=d.hatch,\n",
      "/home/yanathan/Projects/GSDMA/utils/visual.py:421: MatplotlibDeprecationWarning: hatch must consist of a string of \"*+-./OX\\ox|\" or None, but found the following invalid values \"'=\". Passing invalid values is deprecated since 3.4 and will become an error two minor releases later.\n",
      "  rect = mpl.patches.Rectangle(origin, w, thick, fc=fc, lw=lw, hatch=d.hatch,\n",
      "/home/yanathan/.local/share/virtualenvs/GSDMA-DRfwm83x/lib/python3.8/site-packages/striplog/legend.py:311: MatplotlibDeprecationWarning: hatch must consist of a string of \"*+-./OX\\ox|\" or None, but found the following invalid values \"'=\". Passing invalid values is deprecated since 3.4 and will become an error two minor releases later.\n",
      "  rect1 = patches.Rectangle((0, 0),\n",
      "/home/yanathan/.local/share/virtualenvs/GSDMA-DRfwm83x/lib/python3.8/site-packages/striplog/legend.py:311: MatplotlibDeprecationWarning: hatch must consist of a string of \"*+-./OX\\ox|\" or None, but found the following invalid values \"'\". Passing invalid values is deprecated since 3.4 and will become an error two minor releases later.\n",
      "  rect1 = patches.Rectangle((0, 0),\n"
     ]
    },
    {
     "data": {
      "image/png": "[encoded data removed]",
      "text/plain": [
       "<Figure size 432x432 with 8 Axes>"
      ]
     },
     "metadata": {
      "needs_background": "light"
     },
     "output_type": "display_data"
    }
   ],
   "source": [
    "p.boreholes_3d[bh].log_plot()"
   ]
  },
  {
   "cell_type": "code",
   "execution_count": 39,
   "metadata": {},
   "outputs": [],
   "source": [
    "sargs = dict(title='Test_legend', title_font_size=30, label_font_size=12, n_labels=0,\n",
    "             fmt=\"%.2f\", font_family=\"arial\", color='k',interactive=True, \n",
    "             vertical=True, italic=True, shadow=False,)"
   ]
  },
  {
   "cell_type": "code",
   "execution_count": 40,
   "metadata": {
    "scrolled": true
   },
   "outputs": [
    {
     "data": {
      "application/vnd.jupyter.widget-view+json": {
       "model_id": "2dd50b055b1a4c8f9acf924aecf9b213",
       "version_major": 2,
       "version_minor": 0
      },
      "text/plain": [
       "ViewInteractiveWidget(height=768, layout=Layout(height='auto', width='100%'), width=1024)"
      ]
     },
     "metadata": {},
     "output_type": "display_data"
    }
   ],
   "source": [
    "p.boreholes_3d[bh].plot3d(custom_legend=False, scalar_bar_args=sargs)"
   ]
  },
  {
   "cell_type": "code",
   "execution_count": 41,
   "metadata": {},
   "outputs": [
    {
     "data": {
      "text/html": [
       "<div style=\"width:100%;\"><div style=\"position:relative;width:100%;height:0;padding-bottom:60%;\"><span style=\"color:#565656\">Make this Notebook Trusted to load map: File -> Trust Notebook</span><iframe src=\"about:blank\" style=\"position:absolute;width:100%;height:100%;left:0;top:0;border:none !important;\" data-html=%3C%21DOCTYPE%20html%3E%0A%3Chead%3E%20%20%20%20%0A%20%20%20%20%3Cmeta%20http-equiv%3D%22content-type%22%20content%3D%22text/html%3B%20charset%3DUTF-8%22%20/%3E%0A%20%20%20%20%0A%20%20%20%20%20%20%20%20%3Cscript%3E%0A%20%20%20%20%20%20%20%20%20%20%20%20L_NO_TOUCH%20%3D%20false%3B%0A%20%20%20%20%20%20%20%20%20%20%20%20L_DISABLE_3D%20%3D%20false%3B%0A%20%20%20%20%20%20%20%20%3C/script%3E%0A%20%20%20%20%0A%20%20%20%20%3Cstyle%3Ehtml%2C%20body%20%7Bwidth%3A%20100%25%3Bheight%3A%20100%25%3Bmargin%3A%200%3Bpadding%3A%200%3B%7D%3C/style%3E%0A%20%20%20%20%3Cstyle%3E%23map%20%7Bposition%3Aabsolute%3Btop%3A0%3Bbottom%3A0%3Bright%3A0%3Bleft%3A0%3B%7D%3C/style%3E%0A%20%20%20%20%3Cscript%20src%3D%22https%3A//cdn.jsdelivr.net/npm/leaflet%401.6.0/dist/leaflet.js%22%3E%3C/script%3E%0A%20%20%20%20%3Cscript%20src%3D%22https%3A//code.jquery.com/jquery-1.12.4.min.js%22%3E%3C/script%3E%0A%20%20%20%20%3Cscript%20src%3D%22https%3A//maxcdn.bootstrapcdn.com/bootstrap/3.2.0/js/bootstrap.min.js%22%3E%3C/script%3E%0A%20%20%20%20%3Cscript%20src%3D%22https%3A//cdnjs.cloudflare.com/ajax/libs/Leaflet.awesome-markers/2.0.2/leaflet.awesome-markers.js%22%3E%3C/script%3E%0A%20%20%20%20%3Clink%20rel%3D%22stylesheet%22%20href%3D%22https%3A//cdn.jsdelivr.net/npm/leaflet%401.6.0/dist/leaflet.css%22/%3E%0A%20%20%20%20%3Clink%20rel%3D%22stylesheet%22%20href%3D%22https%3A//maxcdn.bootstrapcdn.com/bootstrap/3.2.0/css/bootstrap.min.css%22/%3E%0A%20%20%20%20%3Clink%20rel%3D%22stylesheet%22%20href%3D%22https%3A//maxcdn.bootstrapcdn.com/bootstrap/3.2.0/css/bootstrap-theme.min.css%22/%3E%0A%20%20%20%20%3Clink%20rel%3D%22stylesheet%22%20href%3D%22https%3A//maxcdn.bootstrapcdn.com/font-awesome/4.6.3/css/font-awesome.min.css%22/%3E%0A%20%20%20%20%3Clink%20rel%3D%22stylesheet%22%20href%3D%22https%3A//cdnjs.cloudflare.com/ajax/libs/Leaflet.awesome-markers/2.0.2/leaflet.awesome-markers.css%22/%3E%0A%20%20%20%20%3Clink%20rel%3D%22stylesheet%22%20href%3D%22https%3A//cdn.jsdelivr.net/gh/python-visualization/folium/folium/templates/leaflet.awesome.rotate.min.css%22/%3E%0A%20%20%20%20%0A%20%20%20%20%20%20%20%20%20%20%20%20%3Cmeta%20name%3D%22viewport%22%20content%3D%22width%3Ddevice-width%2C%0A%20%20%20%20%20%20%20%20%20%20%20%20%20%20%20%20initial-scale%3D1.0%2C%20maximum-scale%3D1.0%2C%20user-scalable%3Dno%22%20/%3E%0A%20%20%20%20%20%20%20%20%20%20%20%20%3Cstyle%3E%0A%20%20%20%20%20%20%20%20%20%20%20%20%20%20%20%20%23map_baf20bf1f4ae451db17753551320804e%20%7B%0A%20%20%20%20%20%20%20%20%20%20%20%20%20%20%20%20%20%20%20%20position%3A%20relative%3B%0A%20%20%20%20%20%20%20%20%20%20%20%20%20%20%20%20%20%20%20%20width%3A%20100.0%25%3B%0A%20%20%20%20%20%20%20%20%20%20%20%20%20%20%20%20%20%20%20%20height%3A%20100.0%25%3B%0A%20%20%20%20%20%20%20%20%20%20%20%20%20%20%20%20%20%20%20%20left%3A%200.0%25%3B%0A%20%20%20%20%20%20%20%20%20%20%20%20%20%20%20%20%20%20%20%20top%3A%200.0%25%3B%0A%20%20%20%20%20%20%20%20%20%20%20%20%20%20%20%20%7D%0A%20%20%20%20%20%20%20%20%20%20%20%20%3C/style%3E%0A%20%20%20%20%20%20%20%20%0A%20%20%20%20%3Cscript%20src%3D%22https%3A//cdnjs.cloudflare.com/ajax/libs/leaflet-minimap/3.6.1/Control.MiniMap.js%22%3E%3C/script%3E%0A%20%20%20%20%3Clink%20rel%3D%22stylesheet%22%20href%3D%22https%3A//cdnjs.cloudflare.com/ajax/libs/leaflet-minimap/3.6.1/Control.MiniMap.css%22/%3E%0A%3C/head%3E%0A%3Cbody%3E%20%20%20%20%0A%20%20%20%20%0A%20%20%20%20%20%20%20%20%20%20%20%20%3Cdiv%20class%3D%22folium-map%22%20id%3D%22map_baf20bf1f4ae451db17753551320804e%22%20%3E%3C/div%3E%0A%20%20%20%20%20%20%20%20%0A%3C/body%3E%0A%3Cscript%3E%20%20%20%20%0A%20%20%20%20%0A%20%20%20%20%20%20%20%20%20%20%20%20var%20map_baf20bf1f4ae451db17753551320804e%20%3D%20L.map%28%0A%20%20%20%20%20%20%20%20%20%20%20%20%20%20%20%20%22map_baf20bf1f4ae451db17753551320804e%22%2C%0A%20%20%20%20%20%20%20%20%20%20%20%20%20%20%20%20%7B%0A%20%20%20%20%20%20%20%20%20%20%20%20%20%20%20%20%20%20%20%20center%3A%20%5B50.40316070673727%2C%204.404286510256322%5D%2C%0A%20%20%20%20%20%20%20%20%20%20%20%20%20%20%20%20%20%20%20%20crs%3A%20L.CRS.EPSG3857%2C%0A%20%20%20%20%20%20%20%20%20%20%20%20%20%20%20%20%20%20%20%20zoom%3A%2015%2C%0A%20%20%20%20%20%20%20%20%20%20%20%20%20%20%20%20%20%20%20%20zoomControl%3A%20true%2C%0A%20%20%20%20%20%20%20%20%20%20%20%20%20%20%20%20%20%20%20%20preferCanvas%3A%20false%2C%0A%20%20%20%20%20%20%20%20%20%20%20%20%20%20%20%20%7D%0A%20%20%20%20%20%20%20%20%20%20%20%20%29%3B%0A%20%20%20%20%20%20%20%20%20%20%20%20L.control.scale%28%29.addTo%28map_baf20bf1f4ae451db17753551320804e%29%3B%0A%0A%20%20%20%20%20%20%20%20%20%20%20%20%0A%0A%20%20%20%20%20%20%20%20%0A%20%20%20%20%0A%20%20%20%20%20%20%20%20%20%20%20%20var%20tile_layer_b2da8b8ea33d4c0eac305c8cce6701fd%20%3D%20L.tileLayer%28%0A%20%20%20%20%20%20%20%20%20%20%20%20%20%20%20%20%22https%3A//%7Bs%7D.tile.openstreetmap.org/%7Bz%7D/%7Bx%7D/%7By%7D.png%22%2C%0A%20%20%20%20%20%20%20%20%20%20%20%20%20%20%20%20%7B%22attribution%22%3A%20%22Data%20by%20%5Cu0026copy%3B%20%5Cu003ca%20href%3D%5C%22http%3A//openstreetmap.org%5C%22%5Cu003eOpenStreetMap%5Cu003c/a%5Cu003e%2C%20under%20%5Cu003ca%20href%3D%5C%22http%3A//www.openstreetmap.org/copyright%5C%22%5Cu003eODbL%5Cu003c/a%5Cu003e.%22%2C%20%22detectRetina%22%3A%20false%2C%20%22maxNativeZoom%22%3A%2025%2C%20%22maxZoom%22%3A%2025%2C%20%22minZoom%22%3A%200%2C%20%22noWrap%22%3A%20false%2C%20%22opacity%22%3A%201%2C%20%22subdomains%22%3A%20%22abc%22%2C%20%22tms%22%3A%20false%7D%0A%20%20%20%20%20%20%20%20%20%20%20%20%29.addTo%28map_baf20bf1f4ae451db17753551320804e%29%3B%0A%20%20%20%20%20%20%20%20%0A%20%20%20%20%0A%20%20%20%20%20%20%20%20%20%20%20%20var%20tile_layer_9d696666d7ae42f0b07c9989c3207efd%20%3D%20L.tileLayer%28%0A%20%20%20%20%20%20%20%20%20%20%20%20%20%20%20%20%22https%3A//server.arcgisonline.com/ArcGIS/rest/services/World_Imagery/MapServer/tile/%7Bz%7D/%7By%7D/%7Bx%7D%22%2C%0A%20%20%20%20%20%20%20%20%20%20%20%20%20%20%20%20%7B%22attribution%22%3A%20%22Tiles%20%5Cu0026copy%3B%20Esri%20%5Cu0026mdash%3B%20Source%3A%20Esri%2C%20i-cubed%2C%20USDA%2C%20USGS%2C%20AEX%2C%20GeoEye%2C%20Getmapping%2C%20Aerogrid%2C%20IGN%2C%20IGP%2C%20UPR-EGP%2C%20and%20the%20GIS%20User%20Community%22%2C%20%22detectRetina%22%3A%20false%2C%20%22maxNativeZoom%22%3A%2025%2C%20%22maxZoom%22%3A%2025%2C%20%22minZoom%22%3A%200%2C%20%22noWrap%22%3A%20false%2C%20%22opacity%22%3A%201%2C%20%22subdomains%22%3A%20%22abc%22%2C%20%22tms%22%3A%20false%7D%0A%20%20%20%20%20%20%20%20%20%20%20%20%29.addTo%28map_baf20bf1f4ae451db17753551320804e%29%3B%0A%20%20%20%20%20%20%20%20%0A%20%20%20%20%0A%20%20%20%20%20%20%20%20%20%20%20%20var%20feature_group_61eb4269dfee448b86a5c83413d98d54%20%3D%20L.featureGroup%28%0A%20%20%20%20%20%20%20%20%20%20%20%20%20%20%20%20%7B%7D%0A%20%20%20%20%20%20%20%20%20%20%20%20%29.addTo%28map_baf20bf1f4ae451db17753551320804e%29%3B%0A%20%20%20%20%20%20%20%20%0A%20%20%20%20%0A%20%20%20%20%20%20%20%20%20%20%20%20var%20circle_marker_8f583a42bbaa45eebc3a67963fdf6d79%20%3D%20L.circleMarker%28%0A%20%20%20%20%20%20%20%20%20%20%20%20%20%20%20%20%5B50.400246677298995%2C%204.405316738422422%5D%2C%0A%20%20%20%20%20%20%20%20%20%20%20%20%20%20%20%20%7B%22bubblingMouseEvents%22%3A%20true%2C%20%22color%22%3A%20%22red%22%2C%20%22dashArray%22%3A%20null%2C%20%22dashOffset%22%3A%20null%2C%20%22fill%22%3A%20true%2C%20%22fillColor%22%3A%20%22red%22%2C%20%22fillOpacity%22%3A%200.2%2C%20%22fillRule%22%3A%20%22evenodd%22%2C%20%22lineCap%22%3A%20%22round%22%2C%20%22lineJoin%22%3A%20%22round%22%2C%20%22opacity%22%3A%200.9%2C%20%22radius%22%3A%200.2%2C%20%22stroke%22%3A%20true%2C%20%22weight%22%3A%203%7D%0A%20%20%20%20%20%20%20%20%20%20%20%20%29.addTo%28feature_group_61eb4269dfee448b86a5c83413d98d54%29%3B%0A%20%20%20%20%20%20%20%20%0A%20%20%20%20%0A%20%20%20%20%20%20%20%20var%20popup_f8a60dd6102e4c74b9c55ab4a3ac69a4%20%3D%20L.popup%28%7B%22maxWidth%22%3A%20%22100%25%22%7D%29%3B%0A%0A%20%20%20%20%20%20%20%20%0A%20%20%20%20%20%20%20%20%20%20%20%20var%20html_25941c4a07bb47ea9dac73041e075031%20%3D%20%24%28%60%3Cdiv%20id%3D%22html_25941c4a07bb47ea9dac73041e075031%22%20style%3D%22width%3A%20100.0%25%3B%20height%3A%20100.0%25%3B%22%3EBH001%3C/div%3E%60%29%5B0%5D%3B%0A%20%20%20%20%20%20%20%20%20%20%20%20popup_f8a60dd6102e4c74b9c55ab4a3ac69a4.setContent%28html_25941c4a07bb47ea9dac73041e075031%29%3B%0A%20%20%20%20%20%20%20%20%0A%0A%20%20%20%20%20%20%20%20circle_marker_8f583a42bbaa45eebc3a67963fdf6d79.bindPopup%28popup_f8a60dd6102e4c74b9c55ab4a3ac69a4%29%0A%20%20%20%20%20%20%20%20%3B%0A%0A%20%20%20%20%20%20%20%20%0A%20%20%20%20%0A%20%20%20%20%0A%20%20%20%20%20%20%20%20%20%20%20%20var%20circle_marker_ffb28f1ca9f64303bcf2a1431d806c3b%20%3D%20L.circleMarker%28%0A%20%20%20%20%20%20%20%20%20%20%20%20%20%20%20%20%5B50.405163369681965%2C%204.408401317498531%5D%2C%0A%20%20%20%20%20%20%20%20%20%20%20%20%20%20%20%20%7B%22bubblingMouseEvents%22%3A%20true%2C%20%22color%22%3A%20%22red%22%2C%20%22dashArray%22%3A%20null%2C%20%22dashOffset%22%3A%20null%2C%20%22fill%22%3A%20true%2C%20%22fillColor%22%3A%20%22red%22%2C%20%22fillOpacity%22%3A%200.2%2C%20%22fillRule%22%3A%20%22evenodd%22%2C%20%22lineCap%22%3A%20%22round%22%2C%20%22lineJoin%22%3A%20%22round%22%2C%20%22opacity%22%3A%200.9%2C%20%22radius%22%3A%200.2%2C%20%22stroke%22%3A%20true%2C%20%22weight%22%3A%203%7D%0A%20%20%20%20%20%20%20%20%20%20%20%20%29.addTo%28feature_group_61eb4269dfee448b86a5c83413d98d54%29%3B%0A%20%20%20%20%20%20%20%20%0A%20%20%20%20%0A%20%20%20%20%20%20%20%20var%20popup_d877317414f44ea495193575c04c6230%20%3D%20L.popup%28%7B%22maxWidth%22%3A%20%22100%25%22%7D%29%3B%0A%0A%20%20%20%20%20%20%20%20%0A%20%20%20%20%20%20%20%20%20%20%20%20var%20html_8d5b04af7a5847528e04ae35ac7cb4d2%20%3D%20%24%28%60%3Cdiv%20id%3D%22html_8d5b04af7a5847528e04ae35ac7cb4d2%22%20style%3D%22width%3A%20100.0%25%3B%20height%3A%20100.0%25%3B%22%3EBH002%3C/div%3E%60%29%5B0%5D%3B%0A%20%20%20%20%20%20%20%20%20%20%20%20popup_d877317414f44ea495193575c04c6230.setContent%28html_8d5b04af7a5847528e04ae35ac7cb4d2%29%3B%0A%20%20%20%20%20%20%20%20%0A%0A%20%20%20%20%20%20%20%20circle_marker_ffb28f1ca9f64303bcf2a1431d806c3b.bindPopup%28popup_d877317414f44ea495193575c04c6230%29%0A%20%20%20%20%20%20%20%20%3B%0A%0A%20%20%20%20%20%20%20%20%0A%20%20%20%20%0A%20%20%20%20%0A%20%20%20%20%20%20%20%20%20%20%20%20var%20circle_marker_13efa185b79541168d6b036a5518b8c5%20%3D%20L.circleMarker%28%0A%20%20%20%20%20%20%20%20%20%20%20%20%20%20%20%20%5B50.40270849282434%2C%204.409848079213098%5D%2C%0A%20%20%20%20%20%20%20%20%20%20%20%20%20%20%20%20%7B%22bubblingMouseEvents%22%3A%20true%2C%20%22color%22%3A%20%22red%22%2C%20%22dashArray%22%3A%20null%2C%20%22dashOffset%22%3A%20null%2C%20%22fill%22%3A%20true%2C%20%22fillColor%22%3A%20%22red%22%2C%20%22fillOpacity%22%3A%200.2%2C%20%22fillRule%22%3A%20%22evenodd%22%2C%20%22lineCap%22%3A%20%22round%22%2C%20%22lineJoin%22%3A%20%22round%22%2C%20%22opacity%22%3A%200.9%2C%20%22radius%22%3A%200.2%2C%20%22stroke%22%3A%20true%2C%20%22weight%22%3A%203%7D%0A%20%20%20%20%20%20%20%20%20%20%20%20%29.addTo%28feature_group_61eb4269dfee448b86a5c83413d98d54%29%3B%0A%20%20%20%20%20%20%20%20%0A%20%20%20%20%0A%20%20%20%20%20%20%20%20var%20popup_134c3ca7f6684d2f9b715189d2a9af43%20%3D%20L.popup%28%7B%22maxWidth%22%3A%20%22100%25%22%7D%29%3B%0A%0A%20%20%20%20%20%20%20%20%0A%20%20%20%20%20%20%20%20%20%20%20%20var%20html_ca5624319a924381aa14d23a1b1eb4fe%20%3D%20%24%28%60%3Cdiv%20id%3D%22html_ca5624319a924381aa14d23a1b1eb4fe%22%20style%3D%22width%3A%20100.0%25%3B%20height%3A%20100.0%25%3B%22%3EBH003%3C/div%3E%60%29%5B0%5D%3B%0A%20%20%20%20%20%20%20%20%20%20%20%20popup_134c3ca7f6684d2f9b715189d2a9af43.setContent%28html_ca5624319a924381aa14d23a1b1eb4fe%29%3B%0A%20%20%20%20%20%20%20%20%0A%0A%20%20%20%20%20%20%20%20circle_marker_13efa185b79541168d6b036a5518b8c5.bindPopup%28popup_134c3ca7f6684d2f9b715189d2a9af43%29%0A%20%20%20%20%20%20%20%20%3B%0A%0A%20%20%20%20%20%20%20%20%0A%20%20%20%20%0A%20%20%20%20%0A%20%20%20%20%20%20%20%20%20%20%20%20var%20circle_marker_30f1dc2824e441fe9a507c3b5121aa56%20%3D%20L.circleMarker%28%0A%20%20%20%20%20%20%20%20%20%20%20%20%20%20%20%20%5B50.40433651424193%2C%204.407655065394905%5D%2C%0A%20%20%20%20%20%20%20%20%20%20%20%20%20%20%20%20%7B%22bubblingMouseEvents%22%3A%20true%2C%20%22color%22%3A%20%22red%22%2C%20%22dashArray%22%3A%20null%2C%20%22dashOffset%22%3A%20null%2C%20%22fill%22%3A%20true%2C%20%22fillColor%22%3A%20%22red%22%2C%20%22fillOpacity%22%3A%200.2%2C%20%22fillRule%22%3A%20%22evenodd%22%2C%20%22lineCap%22%3A%20%22round%22%2C%20%22lineJoin%22%3A%20%22round%22%2C%20%22opacity%22%3A%200.9%2C%20%22radius%22%3A%200.2%2C%20%22stroke%22%3A%20true%2C%20%22weight%22%3A%203%7D%0A%20%20%20%20%20%20%20%20%20%20%20%20%29.addTo%28feature_group_61eb4269dfee448b86a5c83413d98d54%29%3B%0A%20%20%20%20%20%20%20%20%0A%20%20%20%20%0A%20%20%20%20%20%20%20%20var%20popup_af78de68846a474bb201540b35a8cbcc%20%3D%20L.popup%28%7B%22maxWidth%22%3A%20%22100%25%22%7D%29%3B%0A%0A%20%20%20%20%20%20%20%20%0A%20%20%20%20%20%20%20%20%20%20%20%20var%20html_79428fd0748e46b4a9dae6365ff4c0b0%20%3D%20%24%28%60%3Cdiv%20id%3D%22html_79428fd0748e46b4a9dae6365ff4c0b0%22%20style%3D%22width%3A%20100.0%25%3B%20height%3A%20100.0%25%3B%22%3EBH004%3C/div%3E%60%29%5B0%5D%3B%0A%20%20%20%20%20%20%20%20%20%20%20%20popup_af78de68846a474bb201540b35a8cbcc.setContent%28html_79428fd0748e46b4a9dae6365ff4c0b0%29%3B%0A%20%20%20%20%20%20%20%20%0A%0A%20%20%20%20%20%20%20%20circle_marker_30f1dc2824e441fe9a507c3b5121aa56.bindPopup%28popup_af78de68846a474bb201540b35a8cbcc%29%0A%20%20%20%20%20%20%20%20%3B%0A%0A%20%20%20%20%20%20%20%20%0A%20%20%20%20%0A%20%20%20%20%0A%20%20%20%20%20%20%20%20%20%20%20%20var%20circle_marker_a09be34d8f5949749a4213312f2d09d8%20%3D%20L.circleMarker%28%0A%20%20%20%20%20%20%20%20%20%20%20%20%20%20%20%20%5B50.404032173705815%2C%204.403533216175507%5D%2C%0A%20%20%20%20%20%20%20%20%20%20%20%20%20%20%20%20%7B%22bubblingMouseEvents%22%3A%20true%2C%20%22color%22%3A%20%22red%22%2C%20%22dashArray%22%3A%20null%2C%20%22dashOffset%22%3A%20null%2C%20%22fill%22%3A%20true%2C%20%22fillColor%22%3A%20%22red%22%2C%20%22fillOpacity%22%3A%200.2%2C%20%22fillRule%22%3A%20%22evenodd%22%2C%20%22lineCap%22%3A%20%22round%22%2C%20%22lineJoin%22%3A%20%22round%22%2C%20%22opacity%22%3A%200.9%2C%20%22radius%22%3A%200.2%2C%20%22stroke%22%3A%20true%2C%20%22weight%22%3A%203%7D%0A%20%20%20%20%20%20%20%20%20%20%20%20%29.addTo%28feature_group_61eb4269dfee448b86a5c83413d98d54%29%3B%0A%20%20%20%20%20%20%20%20%0A%20%20%20%20%0A%20%20%20%20%20%20%20%20var%20popup_51bf21b6eba24ea1a67587416d8c7271%20%3D%20L.popup%28%7B%22maxWidth%22%3A%20%22100%25%22%7D%29%3B%0A%0A%20%20%20%20%20%20%20%20%0A%20%20%20%20%20%20%20%20%20%20%20%20var%20html_0981666dd2c840dfbe4ca676b5faf6d7%20%3D%20%24%28%60%3Cdiv%20id%3D%22html_0981666dd2c840dfbe4ca676b5faf6d7%22%20style%3D%22width%3A%20100.0%25%3B%20height%3A%20100.0%25%3B%22%3EBH005%3C/div%3E%60%29%5B0%5D%3B%0A%20%20%20%20%20%20%20%20%20%20%20%20popup_51bf21b6eba24ea1a67587416d8c7271.setContent%28html_0981666dd2c840dfbe4ca676b5faf6d7%29%3B%0A%20%20%20%20%20%20%20%20%0A%0A%20%20%20%20%20%20%20%20circle_marker_a09be34d8f5949749a4213312f2d09d8.bindPopup%28popup_51bf21b6eba24ea1a67587416d8c7271%29%0A%20%20%20%20%20%20%20%20%3B%0A%0A%20%20%20%20%20%20%20%20%0A%20%20%20%20%0A%20%20%20%20%0A%20%20%20%20%20%20%20%20%20%20%20%20var%20circle_marker_80b9c5440f6946ce85f08e45cabc7c9f%20%3D%20L.circleMarker%28%0A%20%20%20%20%20%20%20%20%20%20%20%20%20%20%20%20%5B50.39991500588762%2C%204.402151705105076%5D%2C%0A%20%20%20%20%20%20%20%20%20%20%20%20%20%20%20%20%7B%22bubblingMouseEvents%22%3A%20true%2C%20%22color%22%3A%20%22red%22%2C%20%22dashArray%22%3A%20null%2C%20%22dashOffset%22%3A%20null%2C%20%22fill%22%3A%20true%2C%20%22fillColor%22%3A%20%22red%22%2C%20%22fillOpacity%22%3A%200.2%2C%20%22fillRule%22%3A%20%22evenodd%22%2C%20%22lineCap%22%3A%20%22round%22%2C%20%22lineJoin%22%3A%20%22round%22%2C%20%22opacity%22%3A%200.9%2C%20%22radius%22%3A%200.2%2C%20%22stroke%22%3A%20true%2C%20%22weight%22%3A%203%7D%0A%20%20%20%20%20%20%20%20%20%20%20%20%29.addTo%28feature_group_61eb4269dfee448b86a5c83413d98d54%29%3B%0A%20%20%20%20%20%20%20%20%0A%20%20%20%20%0A%20%20%20%20%20%20%20%20var%20popup_3ec271aff1a64a94a073206890c3bfaf%20%3D%20L.popup%28%7B%22maxWidth%22%3A%20%22100%25%22%7D%29%3B%0A%0A%20%20%20%20%20%20%20%20%0A%20%20%20%20%20%20%20%20%20%20%20%20var%20html_1b80afa513844eedb0723c95d896d8dd%20%3D%20%24%28%60%3Cdiv%20id%3D%22html_1b80afa513844eedb0723c95d896d8dd%22%20style%3D%22width%3A%20100.0%25%3B%20height%3A%20100.0%25%3B%22%3EBH006%3C/div%3E%60%29%5B0%5D%3B%0A%20%20%20%20%20%20%20%20%20%20%20%20popup_3ec271aff1a64a94a073206890c3bfaf.setContent%28html_1b80afa513844eedb0723c95d896d8dd%29%3B%0A%20%20%20%20%20%20%20%20%0A%0A%20%20%20%20%20%20%20%20circle_marker_80b9c5440f6946ce85f08e45cabc7c9f.bindPopup%28popup_3ec271aff1a64a94a073206890c3bfaf%29%0A%20%20%20%20%20%20%20%20%3B%0A%0A%20%20%20%20%20%20%20%20%0A%20%20%20%20%0A%20%20%20%20%0A%20%20%20%20%20%20%20%20%20%20%20%20var%20circle_marker_5a265262e7f144039d441b291b3692e5%20%3D%20L.circleMarker%28%0A%20%20%20%20%20%20%20%20%20%20%20%20%20%20%20%20%5B50.40089307563868%2C%204.408046039659416%5D%2C%0A%20%20%20%20%20%20%20%20%20%20%20%20%20%20%20%20%7B%22bubblingMouseEvents%22%3A%20true%2C%20%22color%22%3A%20%22red%22%2C%20%22dashArray%22%3A%20null%2C%20%22dashOffset%22%3A%20null%2C%20%22fill%22%3A%20true%2C%20%22fillColor%22%3A%20%22red%22%2C%20%22fillOpacity%22%3A%200.2%2C%20%22fillRule%22%3A%20%22evenodd%22%2C%20%22lineCap%22%3A%20%22round%22%2C%20%22lineJoin%22%3A%20%22round%22%2C%20%22opacity%22%3A%200.9%2C%20%22radius%22%3A%200.2%2C%20%22stroke%22%3A%20true%2C%20%22weight%22%3A%203%7D%0A%20%20%20%20%20%20%20%20%20%20%20%20%29.addTo%28feature_group_61eb4269dfee448b86a5c83413d98d54%29%3B%0A%20%20%20%20%20%20%20%20%0A%20%20%20%20%0A%20%20%20%20%20%20%20%20var%20popup_086db9d7cbf149dfb18bf7c6654fd1ed%20%3D%20L.popup%28%7B%22maxWidth%22%3A%20%22100%25%22%7D%29%3B%0A%0A%20%20%20%20%20%20%20%20%0A%20%20%20%20%20%20%20%20%20%20%20%20var%20html_d4f32e0111654ccbaaa63f804594c63f%20%3D%20%24%28%60%3Cdiv%20id%3D%22html_d4f32e0111654ccbaaa63f804594c63f%22%20style%3D%22width%3A%20100.0%25%3B%20height%3A%20100.0%25%3B%22%3EBH007%3C/div%3E%60%29%5B0%5D%3B%0A%20%20%20%20%20%20%20%20%20%20%20%20popup_086db9d7cbf149dfb18bf7c6654fd1ed.setContent%28html_d4f32e0111654ccbaaa63f804594c63f%29%3B%0A%20%20%20%20%20%20%20%20%0A%0A%20%20%20%20%20%20%20%20circle_marker_5a265262e7f144039d441b291b3692e5.bindPopup%28popup_086db9d7cbf149dfb18bf7c6654fd1ed%29%0A%20%20%20%20%20%20%20%20%3B%0A%0A%20%20%20%20%20%20%20%20%0A%20%20%20%20%0A%20%20%20%20%0A%20%20%20%20%20%20%20%20%20%20%20%20var%20circle_marker_5333a8dfa7f84b289ee525daeaafc629%20%3D%20L.circleMarker%28%0A%20%20%20%20%20%20%20%20%20%20%20%20%20%20%20%20%5B50.405103323153014%2C%204.398990312569181%5D%2C%0A%20%20%20%20%20%20%20%20%20%20%20%20%20%20%20%20%7B%22bubblingMouseEvents%22%3A%20true%2C%20%22color%22%3A%20%22red%22%2C%20%22dashArray%22%3A%20null%2C%20%22dashOffset%22%3A%20null%2C%20%22fill%22%3A%20true%2C%20%22fillColor%22%3A%20%22red%22%2C%20%22fillOpacity%22%3A%200.2%2C%20%22fillRule%22%3A%20%22evenodd%22%2C%20%22lineCap%22%3A%20%22round%22%2C%20%22lineJoin%22%3A%20%22round%22%2C%20%22opacity%22%3A%200.9%2C%20%22radius%22%3A%200.2%2C%20%22stroke%22%3A%20true%2C%20%22weight%22%3A%203%7D%0A%20%20%20%20%20%20%20%20%20%20%20%20%29.addTo%28feature_group_61eb4269dfee448b86a5c83413d98d54%29%3B%0A%20%20%20%20%20%20%20%20%0A%20%20%20%20%0A%20%20%20%20%20%20%20%20var%20popup_0404c822bafe4134b5d5b51bcdfd07a8%20%3D%20L.popup%28%7B%22maxWidth%22%3A%20%22100%25%22%7D%29%3B%0A%0A%20%20%20%20%20%20%20%20%0A%20%20%20%20%20%20%20%20%20%20%20%20var%20html_f99e231af67248a4bc8e2410ed00fae6%20%3D%20%24%28%60%3Cdiv%20id%3D%22html_f99e231af67248a4bc8e2410ed00fae6%22%20style%3D%22width%3A%20100.0%25%3B%20height%3A%20100.0%25%3B%22%3EBH008%3C/div%3E%60%29%5B0%5D%3B%0A%20%20%20%20%20%20%20%20%20%20%20%20popup_0404c822bafe4134b5d5b51bcdfd07a8.setContent%28html_f99e231af67248a4bc8e2410ed00fae6%29%3B%0A%20%20%20%20%20%20%20%20%0A%0A%20%20%20%20%20%20%20%20circle_marker_5333a8dfa7f84b289ee525daeaafc629.bindPopup%28popup_0404c822bafe4134b5d5b51bcdfd07a8%29%0A%20%20%20%20%20%20%20%20%3B%0A%0A%20%20%20%20%20%20%20%20%0A%20%20%20%20%0A%20%20%20%20%0A%20%20%20%20%20%20%20%20%20%20%20%20var%20circle_marker_99947cdcccc6498695d59bcbf44910ec%20%3D%20L.circleMarker%28%0A%20%20%20%20%20%20%20%20%20%20%20%20%20%20%20%20%5B50.40253244229688%2C%204.397610126989354%5D%2C%0A%20%20%20%20%20%20%20%20%20%20%20%20%20%20%20%20%7B%22bubblingMouseEvents%22%3A%20true%2C%20%22color%22%3A%20%22red%22%2C%20%22dashArray%22%3A%20null%2C%20%22dashOffset%22%3A%20null%2C%20%22fill%22%3A%20true%2C%20%22fillColor%22%3A%20%22red%22%2C%20%22fillOpacity%22%3A%200.2%2C%20%22fillRule%22%3A%20%22evenodd%22%2C%20%22lineCap%22%3A%20%22round%22%2C%20%22lineJoin%22%3A%20%22round%22%2C%20%22opacity%22%3A%200.9%2C%20%22radius%22%3A%200.2%2C%20%22stroke%22%3A%20true%2C%20%22weight%22%3A%203%7D%0A%20%20%20%20%20%20%20%20%20%20%20%20%29.addTo%28feature_group_61eb4269dfee448b86a5c83413d98d54%29%3B%0A%20%20%20%20%20%20%20%20%0A%20%20%20%20%0A%20%20%20%20%20%20%20%20var%20popup_c2d485d58776423f8caba19d4dce41f1%20%3D%20L.popup%28%7B%22maxWidth%22%3A%20%22100%25%22%7D%29%3B%0A%0A%20%20%20%20%20%20%20%20%0A%20%20%20%20%20%20%20%20%20%20%20%20var%20html_8420113363404d1dbdaf2023a41dcc31%20%3D%20%24%28%60%3Cdiv%20id%3D%22html_8420113363404d1dbdaf2023a41dcc31%22%20style%3D%22width%3A%20100.0%25%3B%20height%3A%20100.0%25%3B%22%3EBH009%3C/div%3E%60%29%5B0%5D%3B%0A%20%20%20%20%20%20%20%20%20%20%20%20popup_c2d485d58776423f8caba19d4dce41f1.setContent%28html_8420113363404d1dbdaf2023a41dcc31%29%3B%0A%20%20%20%20%20%20%20%20%0A%0A%20%20%20%20%20%20%20%20circle_marker_99947cdcccc6498695d59bcbf44910ec.bindPopup%28popup_c2d485d58776423f8caba19d4dce41f1%29%0A%20%20%20%20%20%20%20%20%3B%0A%0A%20%20%20%20%20%20%20%20%0A%20%20%20%20%0A%20%20%20%20%0A%20%20%20%20%20%20%20%20%20%20%20%20var%20circle_marker_44c3cf88f3b246e4b54328d1a39627bf%20%3D%20L.circleMarker%28%0A%20%20%20%20%20%20%20%20%20%20%20%20%20%20%20%20%5B50.40667599264342%2C%204.401312501535724%5D%2C%0A%20%20%20%20%20%20%20%20%20%20%20%20%20%20%20%20%7B%22bubblingMouseEvents%22%3A%20true%2C%20%22color%22%3A%20%22red%22%2C%20%22dashArray%22%3A%20null%2C%20%22dashOffset%22%3A%20null%2C%20%22fill%22%3A%20true%2C%20%22fillColor%22%3A%20%22red%22%2C%20%22fillOpacity%22%3A%200.2%2C%20%22fillRule%22%3A%20%22evenodd%22%2C%20%22lineCap%22%3A%20%22round%22%2C%20%22lineJoin%22%3A%20%22round%22%2C%20%22opacity%22%3A%200.9%2C%20%22radius%22%3A%200.2%2C%20%22stroke%22%3A%20true%2C%20%22weight%22%3A%203%7D%0A%20%20%20%20%20%20%20%20%20%20%20%20%29.addTo%28feature_group_61eb4269dfee448b86a5c83413d98d54%29%3B%0A%20%20%20%20%20%20%20%20%0A%20%20%20%20%0A%20%20%20%20%20%20%20%20var%20popup_0982a25fdf904bb995035ab12c096bdb%20%3D%20L.popup%28%7B%22maxWidth%22%3A%20%22100%25%22%7D%29%3B%0A%0A%20%20%20%20%20%20%20%20%0A%20%20%20%20%20%20%20%20%20%20%20%20var%20html_6182d63ba2d24a1f89b714ca606ae32d%20%3D%20%24%28%60%3Cdiv%20id%3D%22html_6182d63ba2d24a1f89b714ca606ae32d%22%20style%3D%22width%3A%20100.0%25%3B%20height%3A%20100.0%25%3B%22%3EBH10%3C/div%3E%60%29%5B0%5D%3B%0A%20%20%20%20%20%20%20%20%20%20%20%20popup_0982a25fdf904bb995035ab12c096bdb.setContent%28html_6182d63ba2d24a1f89b714ca606ae32d%29%3B%0A%20%20%20%20%20%20%20%20%0A%0A%20%20%20%20%20%20%20%20circle_marker_44c3cf88f3b246e4b54328d1a39627bf.bindPopup%28popup_0982a25fdf904bb995035ab12c096bdb%29%0A%20%20%20%20%20%20%20%20%3B%0A%0A%20%20%20%20%20%20%20%20%0A%20%20%20%20%0A%20%20%20%20%0A%20%20%20%20%20%20%20%20%20%20%20%20var%20layer_control_7c9d8785b056432693d5a401ab35822d%20%3D%20%7B%0A%20%20%20%20%20%20%20%20%20%20%20%20%20%20%20%20base_layers%20%3A%20%7B%0A%20%20%20%20%20%20%20%20%20%20%20%20%20%20%20%20%20%20%20%20%22openstreetmap%22%20%3A%20tile_layer_b2da8b8ea33d4c0eac305c8cce6701fd%2C%0A%20%20%20%20%20%20%20%20%20%20%20%20%20%20%20%20%20%20%20%20%22Satellite%22%20%3A%20tile_layer_9d696666d7ae42f0b07c9989c3207efd%2C%0A%20%20%20%20%20%20%20%20%20%20%20%20%20%20%20%20%7D%2C%0A%20%20%20%20%20%20%20%20%20%20%20%20%20%20%20%20overlays%20%3A%20%20%7B%0A%20%20%20%20%20%20%20%20%20%20%20%20%20%20%20%20%20%20%20%20%22Boreholes%22%20%3A%20feature_group_61eb4269dfee448b86a5c83413d98d54%2C%0A%20%20%20%20%20%20%20%20%20%20%20%20%20%20%20%20%7D%2C%0A%20%20%20%20%20%20%20%20%20%20%20%20%7D%3B%0A%20%20%20%20%20%20%20%20%20%20%20%20L.control.layers%28%0A%20%20%20%20%20%20%20%20%20%20%20%20%20%20%20%20layer_control_7c9d8785b056432693d5a401ab35822d.base_layers%2C%0A%20%20%20%20%20%20%20%20%20%20%20%20%20%20%20%20layer_control_7c9d8785b056432693d5a401ab35822d.overlays%2C%0A%20%20%20%20%20%20%20%20%20%20%20%20%20%20%20%20%7B%22autoZIndex%22%3A%20true%2C%20%22collapsed%22%3A%20true%2C%20%22position%22%3A%20%22topright%22%7D%0A%20%20%20%20%20%20%20%20%20%20%20%20%29.addTo%28map_baf20bf1f4ae451db17753551320804e%29%3B%0A%20%20%20%20%20%20%20%20%20%20%20%20tile_layer_9d696666d7ae42f0b07c9989c3207efd.remove%28%29%3B%0A%20%20%20%20%20%20%20%20%0A%20%20%20%20%0A%20%20%20%20%20%20%20%20%20%20%20%20var%20tile_layer_8c036097874b470583944d923c1c37aa%20%3D%20L.tileLayer%28%0A%20%20%20%20%20%20%20%20%20%20%20%20%20%20%20%20%22https%3A//%7Bs%7D.tile.openstreetmap.org/%7Bz%7D/%7Bx%7D/%7By%7D.png%22%2C%0A%20%20%20%20%20%20%20%20%20%20%20%20%20%20%20%20%7B%22attribution%22%3A%20%22Data%20by%20%5Cu0026copy%3B%20%5Cu003ca%20href%3D%5C%22http%3A//openstreetmap.org%5C%22%5Cu003eOpenStreetMap%5Cu003c/a%5Cu003e%2C%20under%20%5Cu003ca%20href%3D%5C%22http%3A//www.openstreetmap.org/copyright%5C%22%5Cu003eODbL%5Cu003c/a%5Cu003e.%22%2C%20%22detectRetina%22%3A%20false%2C%20%22maxNativeZoom%22%3A%2018%2C%20%22maxZoom%22%3A%2018%2C%20%22minZoom%22%3A%200%2C%20%22noWrap%22%3A%20false%2C%20%22opacity%22%3A%201%2C%20%22subdomains%22%3A%20%22abc%22%2C%20%22tms%22%3A%20false%7D%0A%20%20%20%20%20%20%20%20%20%20%20%20%29%3B%0A%20%20%20%20%20%20%20%20%20%20%20%20var%20mini_map_104c8998f28e476983dfd3e3b83e9a45%20%3D%20new%20L.Control.MiniMap%28%0A%20%20%20%20%20%20%20%20%20%20%20%20%20%20%20%20tile_layer_8c036097874b470583944d923c1c37aa%2C%0A%20%20%20%20%20%20%20%20%20%20%20%20%20%20%20%20%7B%22autoToggleDisplay%22%3A%20false%2C%20%22centerFixed%22%3A%20false%2C%20%22collapsedHeight%22%3A%2025%2C%20%22collapsedWidth%22%3A%2025%2C%20%22height%22%3A%20150%2C%20%22minimized%22%3A%20false%2C%20%22position%22%3A%20%22bottomright%22%2C%20%22toggleDisplay%22%3A%20true%2C%20%22width%22%3A%20150%2C%20%22zoomAnimation%22%3A%20false%2C%20%22zoomLevelOffset%22%3A%20-6%7D%0A%20%20%20%20%20%20%20%20%20%20%20%20%29%3B%0A%20%20%20%20%20%20%20%20%20%20%20%20map_baf20bf1f4ae451db17753551320804e.addControl%28mini_map_104c8998f28e476983dfd3e3b83e9a45%29%3B%0A%20%20%20%20%20%20%20%20%0A%3C/script%3E onload=\"this.contentDocument.open();this.contentDocument.write(    decodeURIComponent(this.getAttribute('data-html')));this.contentDocument.close();\" allowfullscreen webkitallowfullscreen mozallowfullscreen></iframe></div></div>"
      ],
      "text/plain": [
       "<folium.folium.Map at 0x7f8cfc453ac0>"
      ]
     },
     "execution_count": 41,
     "metadata": {},
     "output_type": "execute_result"
    }
   ],
   "source": [
    "p.plot2d()"
   ]
  },
  {
   "cell_type": "markdown",
   "metadata": {},
   "source": [
    "## Plot with another attribute"
   ]
  },
  {
   "cell_type": "code",
   "execution_count": 42,
   "metadata": {},
   "outputs": [
    {
     "name": "stderr",
     "output_type": "stream",
     "text": [
      "/home/yanathan/Projects/GSDMA/utils/visual.py:421: MatplotlibDeprecationWarning: hatch must consist of a string of \"*+-./OX\\ox|\" or None, but found the following invalid values \"'\". Passing invalid values is deprecated since 3.4 and will become an error two minor releases later.\n",
      "  rect = mpl.patches.Rectangle(origin, w, thick, fc=fc, lw=lw, hatch=d.hatch,\n",
      "/home/yanathan/Projects/GSDMA/utils/visual.py:421: MatplotlibDeprecationWarning: hatch must consist of a string of \"*+-./OX\\ox|\" or None, but found the following invalid values \"'=\". Passing invalid values is deprecated since 3.4 and will become an error two minor releases later.\n",
      "  rect = mpl.patches.Rectangle(origin, w, thick, fc=fc, lw=lw, hatch=d.hatch,\n",
      "/home/yanathan/.local/share/virtualenvs/GSDMA-DRfwm83x/lib/python3.8/site-packages/striplog/legend.py:311: MatplotlibDeprecationWarning: hatch must consist of a string of \"*+-./OX\\ox|\" or None, but found the following invalid values \"'=\". Passing invalid values is deprecated since 3.4 and will become an error two minor releases later.\n",
      "  rect1 = patches.Rectangle((0, 0),\n",
      "/home/yanathan/.local/share/virtualenvs/GSDMA-DRfwm83x/lib/python3.8/site-packages/striplog/legend.py:311: MatplotlibDeprecationWarning: hatch must consist of a string of \"*+-./OX\\ox|\" or None, but found the following invalid values \"'\". Passing invalid values is deprecated since 3.4 and will become an error two minor releases later.\n",
      "  rect1 = patches.Rectangle((0, 0),\n"
     ]
    },
    {
     "data": {
      "image/png": "[encoded data removed]",
      "text/plain": [
       "<Figure size 432x432 with 8 Axes>"
      ]
     },
     "metadata": {
      "needs_background": "light"
     },
     "output_type": "display_data"
    }
   ],
   "source": [
    "at = 0\n",
    "p.boreholes_3d[bh].log_plot(repr_attribute=attributes[at])"
   ]
  },
  {
   "cell_type": "code",
   "execution_count": 43,
   "metadata": {
    "scrolled": false
   },
   "outputs": [
    {
     "data": {
      "application/vnd.jupyter.widget-view+json": {
       "model_id": "0912caaa2b1a42fd8a72accb6dd889a1",
       "version_major": 2,
       "version_minor": 0
      },
      "text/plain": [
       "ViewInteractiveWidget(height=768, layout=Layout(height='auto', width='100%'), width=1024)"
      ]
     },
     "metadata": {},
     "output_type": "display_data"
    }
   ],
   "source": [
    "p.boreholes_3d[bh].plot3d(repr_attribute=attributes[at])"
   ]
  },
  {
   "cell_type": "raw",
   "metadata": {},
   "source": [
    "mapper.lookup_table.SetAnnotations()"
   ]
  },
  {
   "cell_type": "raw",
   "metadata": {},
   "source": [
    "print(mapper.lookup_table.GetAnnotation(1))"
   ]
  },
  {
   "cell_type": "markdown",
   "metadata": {},
   "source": [
    "### Display project boreholes"
   ]
  },
  {
   "cell_type": "code",
   "execution_count": 44,
   "metadata": {},
   "outputs": [
    {
     "data": {
      "text/html": [
       "<table><tr><th>Header</th><th>Data Arrays</th></tr><tr><td>\n",
       "<table>\n",
       "<tr><th>PolyData</th><th>Information</th></tr>\n",
       "<tr><td>N Cells</td><td>312</td></tr>\n",
       "<tr><td>N Points</td><td>1200</td></tr>\n",
       "<tr><td>X Bounds</td><td>1.528e+05, 1.528e+05</td></tr>\n",
       "<tr><td>Y Bounds</td><td>1.211e+05, 1.211e+05</td></tr>\n",
       "<tr><td>Z Bounds</td><td>5.600e+01, 1.010e+02</td></tr>\n",
       "<tr><td>N Arrays</td><td>6</td></tr>\n",
       "</table>\n",
       "\n",
       "</td><td>\n",
       "<table>\n",
       "<tr><th>Name</th><th>Field</th><th>Type</th><th>N Comp</th><th>Min</th><th>Max</th></tr>\n",
       "<tr><td>TubeNormals</td><td>Points</td><td>float32</td><td>3</td><td>-1.000e+00</td><td>1.000e+00</td></tr>\n",
       "<tr><td>Line Index</td><td>Cells</td><td>int64</td><td>1</td><td>0.000e+00</td><td>5.000e+00</td></tr>\n",
       "<tr><td><b>lithology</b></td><td>Cells</td><td>int64</td><td>1</td><td>0.000e+00</td><td>5.000e+00</td></tr>\n",
       "<tr><td>arsenic</td><td>Cells</td><td>int64</td><td>1</td><td>0.000e+00</td><td>2.000e+00</td></tr>\n",
       "<tr><td>cadmium</td><td>Cells</td><td>int64</td><td>1</td><td>0.000e+00</td><td>2.000e+00</td></tr>\n",
       "<tr><td>Test_legend</td><td>Cells</td><td>int64</td><td>1</td><td>0.000e+00</td><td>5.000e+00</td></tr>\n",
       "</table>\n",
       "\n",
       "</td></tr> </table>"
      ],
      "text/plain": [
       "PolyData (0x7f8cfe91f160)\n",
       "  N Cells:\t312\n",
       "  N Points:\t1200\n",
       "  X Bounds:\t1.528e+05, 1.528e+05\n",
       "  Y Bounds:\t1.211e+05, 1.211e+05\n",
       "  Z Bounds:\t5.600e+01, 1.010e+02\n",
       "  N Arrays:\t6"
      ]
     },
     "execution_count": 44,
     "metadata": {},
     "output_type": "execute_result"
    }
   ],
   "source": [
    "bh3d_vtk = p.boreholes_3d[bh]._vtk\n",
    "bh3d_vtk"
   ]
  },
  {
   "cell_type": "code",
   "execution_count": null,
   "metadata": {
    "scrolled": false
   },
   "outputs": [],
   "source": [
    "at = 0\n",
    "prj_mapper = p.plot3d(repr_attribute=attributes[at],  bg_color=[\"royalblue\", \"aliceblue\"], \n",
    "                      window_size=(800, 500))"
   ]
  },
  {
   "cell_type": "raw",
   "metadata": {},
   "source": [
    "prj_mapper.GetScalarRange()"
   ]
  },
  {
   "cell_type": "raw",
   "metadata": {},
   "source": [
    "print(prj_mapper)"
   ]
  },
  {
   "cell_type": "markdown",
   "metadata": {},
   "source": [
    "### Boreholes in 3D using X3D for interaction within the notebook"
   ]
  },
  {
   "cell_type": "raw",
   "metadata": {
    "scrolled": false
   },
   "source": [
    "p.plot3d(x3d=True)"
   ]
  },
  {
   "cell_type": "code",
   "execution_count": null,
   "metadata": {},
   "outputs": [],
   "source": []
  }
 ],
 "metadata": {
  "kernelspec": {
   "display_name": "Python 3 (ipykernel)",
   "language": "python",
   "name": "python3"
  },
  "language_info": {
   "codemirror_mode": {
    "name": "ipython",
    "version": 3
   },
   "file_extension": ".py",
   "mimetype": "text/x-python",
   "name": "python",
   "nbconvert_exporter": "python",
   "pygments_lexer": "ipython3",
   "version": "3.8.10"
  }
 },
 "nbformat": 4,
 "nbformat_minor": 4
}
