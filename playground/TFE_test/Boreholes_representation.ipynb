{
 "cells": [
  {
   "cell_type": "markdown",
   "metadata": {},
   "source": [
    "# Example of using the Borehole3D class"
   ]
  },
  {
   "cell_type": "markdown",
   "metadata": {},
   "source": [
    "## Imports"
   ]
  },
  {
   "cell_type": "code",
   "execution_count": 1,
   "metadata": {},
   "outputs": [
    {
     "name": "stderr",
     "output_type": "stream",
     "text": [
      "/home/yanathan/.local/share/virtualenvs/GSDMA-DRfwm83x/lib/python3.8/site-packages/striplog/legend.py:687: UserWarning: This legend contains duplicate components.\n",
      "  warnings.warn(w)\n",
      "/home/yanathan/.local/share/virtualenvs/GSDMA-DRfwm83x/lib/python3.8/site-packages/striplog/legend.py:687: UserWarning: This legend contains duplicate components.\n",
      "  warnings.warn(w)\n"
     ]
    }
   ],
   "source": [
    "from striplog import Component, Decor, Legend, Lexicon, Striplog\n",
    "from core.omf import Borehole3D, striplog_legend_to_omf_legend \n",
    "from utils.lexicon.lexicon_memoris import lexicon_memoris, lithology_memoris, pollutant_memoris\n",
    "from utils.io import boreholes_from_files, gdf_viewer\n",
    "from core.core import Project\n",
    "from core.orm import BoreholeOrm, PositionOrm, Base \n",
    "import random\n",
    "from os import remove\n",
    "import pandas as pd\n",
    "import numpy as np\n",
    "from sqlalchemy import create_engine\n",
    "from sqlalchemy.orm import sessionmaker\n",
    "from definitions import ROOT_DIR"
   ]
  },
  {
   "cell_type": "markdown",
   "metadata": {},
   "source": [
    "## Reading of CSV files in a dir"
   ]
  },
  {
   "cell_type": "code",
   "execution_count": 2,
   "metadata": {},
   "outputs": [],
   "source": [
    "#df = pd.read_csv('test_data_boreholes.csv', sep=',') # use english lexicon\n",
    "df = pd.read_csv('test_litho_fr.csv', sep=',') # use french lexicon"
   ]
  },
  {
   "cell_type": "markdown",
   "metadata": {},
   "source": [
    "## Data Checking"
   ]
  },
  {
   "cell_type": "raw",
   "metadata": {},
   "source": [
    "df.drop('Z', axis='columns', inplace=True)\n",
    "df.rename({'new_Z':'Z'}, axis='columns', inplace=True)"
   ]
  },
  {
   "cell_type": "raw",
   "metadata": {},
   "source": [
    "df.loc[df.query('Colour==\"tan\"').index, 'Colour'] = 'green' # use simple colour"
   ]
  },
  {
   "cell_type": "code",
   "execution_count": 3,
   "metadata": {},
   "outputs": [],
   "source": [
    "#pol = ['As', 'Ni', 'Cl', 'Hg', 'Pb', 'Zn']\n",
    "pol = ['VR','VS','VI']\n",
    "df[['Pollutant', 'Concentration']] = ''\n",
    "df['Pollutant'] = df['Pollutant'].apply(lambda x: random.sample(pol, 1)[0])\n",
    "df['Concentration'] = df['Concentration'].apply(lambda x: np.random.randint(0,100))\n",
    "df['Unit'] = 'mg/l'"
   ]
  },
  {
   "cell_type": "code",
   "execution_count": 4,
   "metadata": {},
   "outputs": [],
   "source": [
    "df['Lithology'] = df['Lithology'].replace({'Grès':'Marne', 'Calcaire':'Dolomie'})"
   ]
  },
  {
   "cell_type": "code",
   "execution_count": 5,
   "metadata": {},
   "outputs": [],
   "source": [
    "df.loc[35.5, :] = ['BH007',152794.0, 121111.0, 60.0, 0.57, 45, 'Calcaire', 'Bleu', 4, 41, 45, 'Cl', 78, 'mg/l']\n",
    "df.loc[25.5, :] = ['BH005',152473.0, 121460.0, 72.0, 0.61, 32, 'Graviers', 'gris', 3, 29, 32, 'Cl', 78, 'mg/l']\n",
    "df.drop(index=4, inplace=True)\n",
    "df = df.sort_index().reset_index(drop=True)"
   ]
  },
  {
   "cell_type": "raw",
   "metadata": {},
   "source": [
    "df.loc[995, :] = ['BH199',152455.0, 121128.0, 68.0, 0.57, 36, 'Calcaire', 'Bleu', 9, 27, 36, 'Cl', 78, 'mg/l']"
   ]
  },
  {
   "cell_type": "raw",
   "metadata": {},
   "source": [
    "df.to_csv('test_litho_fr.csv', index=False)"
   ]
  },
  {
   "cell_type": "code",
   "execution_count": 6,
   "metadata": {},
   "outputs": [
    {
     "name": "stdout",
     "output_type": "stream",
     "text": [
      "Rows : 996, columns : 14\n"
     ]
    },
    {
     "data": {
      "application/vnd.jupyter.widget-view+json": {
       "model_id": "1b278ff08ef1448e9811909d0193db6f",
       "version_major": 2,
       "version_minor": 0
      },
      "text/plain": [
       "interactive(children=(IntSlider(value=10, description='rows', max=996, min=10, readout=False), IntSlider(value…"
      ]
     },
     "metadata": {},
     "output_type": "display_data"
    }
   ],
   "source": [
    "gdf_viewer(df)"
   ]
  },
  {
   "cell_type": "raw",
   "metadata": {},
   "source": [
    "df.query('X==152013.0 and Y==121905.0')"
   ]
  },
  {
   "cell_type": "markdown",
   "metadata": {},
   "source": [
    "## Create Boreholes from dataframes or files"
   ]
  },
  {
   "cell_type": "code",
   "execution_count": 7,
   "metadata": {},
   "outputs": [],
   "source": [
    "bhs_df=[df[0:50]] # list of dataframes"
   ]
  },
  {
   "cell_type": "code",
   "execution_count": 8,
   "metadata": {
    "scrolled": true
   },
   "outputs": [
    {
     "name": "stdout",
     "output_type": "stream",
     "text": [
      "\n",
      "Dataframe 0 processing...\n",
      "================================\n",
      "|__ID:'BH001'\n",
      "{'lithology': 'sable', 'pollutant': 'vr'}\n",
      "{'lithology': 'argile', 'pollutant': 'vs'}\n",
      "{'lithology': 'marne', 'pollutant': 'vi'}\n",
      "{'lithology': 'charbon', 'pollutant': 'vs'}\n",
      "Summary : [Striplog(4 Intervals, start=0.0, stop=28.0)]\n",
      "|__ID:'BH002'\n",
      "{'lithology': 'sable', 'pollutant': 'vs'}\n",
      "{'lithology': 'argile', 'pollutant': 'vr'}\n",
      "{'lithology': 'marne', 'pollutant': 'vr'}\n",
      "{'lithology': 'charbon', 'pollutant': 'vi'}\n",
      "{'lithology': 'dolomie', 'pollutant': 'vs'}\n",
      "Summary : [Striplog(5 Intervals, start=0.0, stop=37.0)]\n",
      "|__ID:'BH003'\n",
      "{'lithology': 'sable', 'pollutant': 'vr'}\n",
      "{'lithology': 'argile', 'pollutant': 'vr'}\n",
      "{'lithology': 'marne', 'pollutant': 'vs'}\n",
      "{'lithology': 'charbon', 'pollutant': 'vr'}\n",
      "{'lithology': 'dolomie', 'pollutant': 'vr'}\n",
      "Summary : [Striplog(5 Intervals, start=0.0, stop=18.0)]\n",
      "|__ID:'BH004'\n",
      "{'lithology': 'sable', 'pollutant': 'vs'}\n",
      "{'lithology': 'argile', 'pollutant': 'vi'}\n",
      "{'lithology': 'marne', 'pollutant': 'vs'}\n",
      "{'lithology': 'charbon', 'pollutant': 'vi'}\n",
      "{'lithology': 'dolomie', 'pollutant': 'vi'}\n",
      "Summary : [Striplog(5 Intervals, start=0.0, stop=26.0)]\n",
      "|__ID:'BH005'\n",
      "{'lithology': 'sable', 'pollutant': 'vr'}\n",
      "{'lithology': 'argile', 'pollutant': 'vi'}\n",
      "{'lithology': 'marne', 'pollutant': 'vs'}\n",
      "{'lithology': 'charbon', 'pollutant': 'vi'}\n",
      "{'lithology': 'dolomie', 'pollutant': 'vs'}\n",
      "{'lithology': 'graviers'}\n",
      "Summary : [Striplog(6 Intervals, start=0.0, stop=32.0)]\n",
      "|__ID:'BH006'\n",
      "{'lithology': 'sable', 'pollutant': 'vs'}\n",
      "{'lithology': 'argile', 'pollutant': 'vs'}\n",
      "{'lithology': 'marne', 'pollutant': 'vs'}\n",
      "{'lithology': 'charbon', 'pollutant': 'vs'}\n",
      "{'lithology': 'dolomie', 'pollutant': 'vs'}\n",
      "Summary : [Striplog(5 Intervals, start=0.0, stop=26.0)]\n",
      "|__ID:'BH007'\n",
      "{'lithology': 'sable', 'pollutant': 'vi'}\n",
      "{'lithology': 'argile', 'pollutant': 'vs'}\n",
      "{'lithology': 'marne', 'pollutant': 'vs'}\n",
      "{'lithology': 'charbon', 'pollutant': 'vr'}\n",
      "{'lithology': 'dolomie', 'pollutant': 'vr'}\n",
      "{'lithology': 'calcaire'}\n",
      "Summary : [Striplog(6 Intervals, start=0.0, stop=45.0)]\n",
      "|__ID:'BH008'\n",
      "{'lithology': 'sable', 'pollutant': 'vi'}\n",
      "{'lithology': 'argile', 'pollutant': 'vi'}\n",
      "{'lithology': 'marne', 'pollutant': 'vi'}\n",
      "{'lithology': 'charbon', 'pollutant': 'vr'}\n",
      "{'lithology': 'dolomie', 'pollutant': 'vi'}\n",
      "Summary : [Striplog(5 Intervals, start=0.0, stop=35.0)]\n",
      "|__ID:'BH009'\n",
      "{'lithology': 'sable', 'pollutant': 'vs'}\n",
      "{'lithology': 'argile', 'pollutant': 'vr'}\n",
      "{'lithology': 'marne', 'pollutant': 'vr'}\n",
      "{'lithology': 'charbon', 'pollutant': 'vr'}\n",
      "{'lithology': 'dolomie', 'pollutant': 'vs'}\n",
      "Summary : [Striplog(5 Intervals, start=0.0, stop=40.0)]\n",
      "|__ID:'BH10'\n",
      "{'lithology': 'sable', 'pollutant': 'vr'}\n",
      "{'lithology': 'argile', 'pollutant': 'vi'}\n",
      "{'lithology': 'marne', 'pollutant': 'vi'}\n",
      "{'lithology': 'charbon', 'pollutant': 'vs'}\n",
      "Summary : [Striplog(4 Intervals, start=0.0, stop=14.0)]\n",
      "\n",
      "End of the process : 10 unique ID found\n"
     ]
    },
    {
     "name": "stderr",
     "output_type": "stream",
     "text": [
      "/home/yanathan/Projects/GSDMA/utils/io.py:476: SAWarning: relationship 'ComponentOrm.intervals' will copy column Components.id to column Linkintervalcomponent.comp_id, which conflicts with relationship(s): 'IntervalOrm.components' (copies Components.id to Linkintervalcomponent.comp_id). If this is not the intention, consider if these relationships should be linked with back_populates, or if viewonly=True should be applied to one or more if they are read-only. For the less common case that foreign key constraints are partially overlapping, the orm.foreign() annotation can be used to isolate the columns that should be written towards.   The 'overlaps' parameter may be used to remove this warning.\n",
      "  boreholes.append(BoreholeOrm(id=bh_name))\n",
      "/home/yanathan/Projects/GSDMA/utils/io.py:476: SAWarning: relationship 'ComponentOrm.intervals' will copy column Intervals.id to column Linkintervalcomponent.int_id, which conflicts with relationship(s): 'IntervalOrm.components' (copies Intervals.id to Linkintervalcomponent.int_id). If this is not the intention, consider if these relationships should be linked with back_populates, or if viewonly=True should be applied to one or more if they are read-only. For the less common case that foreign key constraints are partially overlapping, the orm.foreign() annotation can be used to isolate the columns that should be written towards.   The 'overlaps' parameter may be used to remove this warning.\n",
      "  boreholes.append(BoreholeOrm(id=bh_name))\n",
      "/home/yanathan/Projects/GSDMA/utils/io.py:476: SAWarning: relationship 'ComponentOrm.component_assoc' will copy column Components.id to column Linkintervalcomponent.comp_id, which conflicts with relationship(s): 'IntervalOrm.components' (copies Components.id to Linkintervalcomponent.comp_id), 'ComponentOrm.intervals' (copies Components.id to Linkintervalcomponent.comp_id). If this is not the intention, consider if these relationships should be linked with back_populates, or if viewonly=True should be applied to one or more if they are read-only. For the less common case that foreign key constraints are partially overlapping, the orm.foreign() annotation can be used to isolate the columns that should be written towards.   The 'overlaps' parameter may be used to remove this warning.\n",
      "  boreholes.append(BoreholeOrm(id=bh_name))\n",
      "/home/yanathan/Projects/GSDMA/utils/io.py:476: SAWarning: relationship 'LinkIntervalComponentOrm.component' will copy column Components.id to column Linkintervalcomponent.comp_id, which conflicts with relationship(s): 'IntervalOrm.components' (copies Components.id to Linkintervalcomponent.comp_id), 'ComponentOrm.intervals' (copies Components.id to Linkintervalcomponent.comp_id). If this is not the intention, consider if these relationships should be linked with back_populates, or if viewonly=True should be applied to one or more if they are read-only. For the less common case that foreign key constraints are partially overlapping, the orm.foreign() annotation can be used to isolate the columns that should be written towards.   The 'overlaps' parameter may be used to remove this warning.\n",
      "  boreholes.append(BoreholeOrm(id=bh_name))\n",
      "/home/yanathan/Projects/GSDMA/utils/io.py:476: SAWarning: relationship 'IntervalOrm.interval_assoc' will copy column Intervals.id to column Linkintervalcomponent.int_id, which conflicts with relationship(s): 'IntervalOrm.components' (copies Intervals.id to Linkintervalcomponent.int_id), 'ComponentOrm.intervals' (copies Intervals.id to Linkintervalcomponent.int_id). If this is not the intention, consider if these relationships should be linked with back_populates, or if viewonly=True should be applied to one or more if they are read-only. For the less common case that foreign key constraints are partially overlapping, the orm.foreign() annotation can be used to isolate the columns that should be written towards.   The 'overlaps' parameter may be used to remove this warning.\n",
      "  boreholes.append(BoreholeOrm(id=bh_name))\n",
      "/home/yanathan/Projects/GSDMA/utils/io.py:476: SAWarning: relationship 'LinkIntervalComponentOrm.interval' will copy column Intervals.id to column Linkintervalcomponent.int_id, which conflicts with relationship(s): 'IntervalOrm.components' (copies Intervals.id to Linkintervalcomponent.int_id), 'ComponentOrm.intervals' (copies Intervals.id to Linkintervalcomponent.int_id). If this is not the intention, consider if these relationships should be linked with back_populates, or if viewonly=True should be applied to one or more if they are read-only. For the less common case that foreign key constraints are partially overlapping, the orm.foreign() annotation can be used to isolate the columns that should be written towards.   The 'overlaps' parameter may be used to remove this warning.\n",
      "  boreholes.append(BoreholeOrm(id=bh_name))\n"
     ]
    }
   ],
   "source": [
    "boreholes, components, link_intv_comp = boreholes_from_files(bhs_df, verbose=False,\n",
    "                                                litho_field=['Lithology', 'Pollutant'], \n",
    "                                                color_field='Colour', lexicon=lexicon_memoris, \n",
    "                                                diam_field='Diameter', thick_field='Thickness')"
   ]
  },
  {
   "cell_type": "raw",
   "metadata": {},
   "source": [
    "boreholes[170].intervals[850].top.x, boreholes[170].intervals[850].top.y"
   ]
  },
  {
   "cell_type": "code",
   "execution_count": 9,
   "metadata": {},
   "outputs": [
    {
     "data": {
      "text/plain": [
       "[<core.orm.BoreholeOrm>(Name=BH001, Length=28.0, Diameter=0.43, Intervals=4),\n",
       " <core.orm.BoreholeOrm>(Name=BH002, Length=37.0, Diameter=0.6, Intervals=5),\n",
       " <core.orm.BoreholeOrm>(Name=BH003, Length=18.0, Diameter=0.41, Intervals=5),\n",
       " <core.orm.BoreholeOrm>(Name=BH004, Length=26.0, Diameter=0.61, Intervals=5),\n",
       " <core.orm.BoreholeOrm>(Name=BH005, Length=32.0, Diameter=0.61, Intervals=6),\n",
       " <core.orm.BoreholeOrm>(Name=BH006, Length=26.0, Diameter=0.31, Intervals=5),\n",
       " <core.orm.BoreholeOrm>(Name=BH007, Length=45.0, Diameter=0.57, Intervals=6),\n",
       " <core.orm.BoreholeOrm>(Name=BH008, Length=35.0, Diameter=0.39, Intervals=5),\n",
       " <core.orm.BoreholeOrm>(Name=BH009, Length=40.0, Diameter=0.5, Intervals=5),\n",
       " <core.orm.BoreholeOrm>(Name=BH10, Length=14.0, Diameter=0.31, Intervals=4)]"
      ]
     },
     "execution_count": 9,
     "metadata": {},
     "output_type": "execute_result"
    }
   ],
   "source": [
    "boreholes"
   ]
  },
  {
   "cell_type": "code",
   "execution_count": 10,
   "metadata": {},
   "outputs": [
    {
     "data": {
      "text/plain": [
       "{0: Component({'lithology': 'marne', 'pollutant': 'vi'}),\n",
       " 1: Component({'lithology': 'charbon', 'pollutant': 'vs'}),\n",
       " 2: Component({'lithology': 'argile', 'pollutant': 'vs'}),\n",
       " 3: Component({'lithology': 'sable', 'pollutant': 'vr'}),\n",
       " 4: Component({'lithology': 'dolomie', 'pollutant': 'vs'}),\n",
       " 5: Component({'lithology': 'marne', 'pollutant': 'vr'}),\n",
       " 6: Component({'lithology': 'sable', 'pollutant': 'vs'}),\n",
       " 7: Component({'lithology': 'argile', 'pollutant': 'vr'}),\n",
       " 8: Component({'lithology': 'charbon', 'pollutant': 'vi'}),\n",
       " 9: Component({'lithology': 'dolomie', 'pollutant': 'vr'}),\n",
       " 10: Component({'lithology': 'charbon', 'pollutant': 'vr'}),\n",
       " 11: Component({'lithology': 'marne', 'pollutant': 'vs'}),\n",
       " 12: Component({'lithology': 'dolomie', 'pollutant': 'vi'}),\n",
       " 13: Component({'lithology': 'argile', 'pollutant': 'vi'}),\n",
       " 14: Component({'lithology': 'graviers'}),\n",
       " 15: Component({'lithology': 'calcaire'}),\n",
       " 16: Component({'lithology': 'sable', 'pollutant': 'vi'})}"
      ]
     },
     "execution_count": 10,
     "metadata": {},
     "output_type": "execute_result"
    }
   ],
   "source": [
    "components"
   ]
  },
  {
   "cell_type": "code",
   "execution_count": 11,
   "metadata": {},
   "outputs": [
    {
     "data": {
      "text/plain": [
       "(10, 17)"
      ]
     },
     "execution_count": 11,
     "metadata": {},
     "output_type": "execute_result"
    }
   ],
   "source": [
    "len(boreholes), len(components)"
   ]
  },
  {
   "cell_type": "markdown",
   "metadata": {},
   "source": [
    "## Create a project and save data in a database"
   ]
  },
  {
   "cell_type": "code",
   "execution_count": 12,
   "metadata": {},
   "outputs": [],
   "source": [
    "remove('tmp_files/tfe_orm_db.db')"
   ]
  },
  {
   "cell_type": "code",
   "execution_count": 13,
   "metadata": {},
   "outputs": [],
   "source": [
    "engine = create_engine('sqlite:///tmp_files/tfe_orm_db.db', echo=True)"
   ]
  },
  {
   "cell_type": "code",
   "execution_count": 14,
   "metadata": {
    "scrolled": true
   },
   "outputs": [
    {
     "name": "stdout",
     "output_type": "stream",
     "text": [
      "2021-06-27 04:31:53,190 INFO sqlalchemy.engine.Engine BEGIN (implicit)\n",
      "2021-06-27 04:31:53,191 INFO sqlalchemy.engine.Engine PRAGMA main.table_info(\"Boreholes\")\n",
      "2021-06-27 04:31:53,192 INFO sqlalchemy.engine.Engine [raw sql] ()\n",
      "2021-06-27 04:31:53,194 INFO sqlalchemy.engine.Engine PRAGMA temp.table_info(\"Boreholes\")\n",
      "2021-06-27 04:31:53,196 INFO sqlalchemy.engine.Engine [raw sql] ()\n",
      "2021-06-27 04:31:53,197 INFO sqlalchemy.engine.Engine PRAGMA main.table_info(\"Positions\")\n",
      "2021-06-27 04:31:53,198 INFO sqlalchemy.engine.Engine [raw sql] ()\n",
      "2021-06-27 04:31:53,199 INFO sqlalchemy.engine.Engine PRAGMA temp.table_info(\"Positions\")\n",
      "2021-06-27 04:31:53,199 INFO sqlalchemy.engine.Engine [raw sql] ()\n",
      "2021-06-27 04:31:53,201 INFO sqlalchemy.engine.Engine PRAGMA main.table_info(\"Intervals\")\n",
      "2021-06-27 04:31:53,201 INFO sqlalchemy.engine.Engine [raw sql] ()\n",
      "2021-06-27 04:31:53,202 INFO sqlalchemy.engine.Engine PRAGMA temp.table_info(\"Intervals\")\n",
      "2021-06-27 04:31:53,203 INFO sqlalchemy.engine.Engine [raw sql] ()\n",
      "2021-06-27 04:31:53,205 INFO sqlalchemy.engine.Engine PRAGMA main.table_info(\"Components\")\n",
      "2021-06-27 04:31:53,205 INFO sqlalchemy.engine.Engine [raw sql] ()\n",
      "2021-06-27 04:31:53,206 INFO sqlalchemy.engine.Engine PRAGMA temp.table_info(\"Components\")\n",
      "2021-06-27 04:31:53,207 INFO sqlalchemy.engine.Engine [raw sql] ()\n",
      "2021-06-27 04:31:53,208 INFO sqlalchemy.engine.Engine PRAGMA main.table_info(\"Linkintervalcomponent\")\n",
      "2021-06-27 04:31:53,208 INFO sqlalchemy.engine.Engine [raw sql] ()\n",
      "2021-06-27 04:31:53,209 INFO sqlalchemy.engine.Engine PRAGMA temp.table_info(\"Linkintervalcomponent\")\n",
      "2021-06-27 04:31:53,210 INFO sqlalchemy.engine.Engine [raw sql] ()\n",
      "2021-06-27 04:31:53,211 INFO sqlalchemy.engine.Engine \n",
      "CREATE TABLE \"Boreholes\" (\n",
      "\tid VARCHAR(32) NOT NULL, \n",
      "\tlength FLOAT, \n",
      "\tdiameter FLOAT, \n",
      "\tPRIMARY KEY (id)\n",
      ")\n",
      "\n",
      "\n",
      "2021-06-27 04:31:53,212 INFO sqlalchemy.engine.Engine [no key 0.00078s] ()\n",
      "2021-06-27 04:31:53,216 INFO sqlalchemy.engine.Engine \n",
      "CREATE TABLE \"Positions\" (\n",
      "\tid INTEGER NOT NULL, \n",
      "\tupper FLOAT, \n",
      "\tmiddle FLOAT, \n",
      "\tlower FLOAT, \n",
      "\tx FLOAT, \n",
      "\ty FLOAT, \n",
      "\tPRIMARY KEY (id)\n",
      ")\n",
      "\n",
      "\n",
      "2021-06-27 04:31:53,217 INFO sqlalchemy.engine.Engine [no key 0.00068s] ()\n",
      "2021-06-27 04:31:53,221 INFO sqlalchemy.engine.Engine \n",
      "CREATE TABLE \"Components\" (\n",
      "\tid INTEGER NOT NULL, \n",
      "\tdescription VARCHAR(32), \n",
      "\tPRIMARY KEY (id)\n",
      ")\n",
      "\n",
      "\n",
      "2021-06-27 04:31:53,221 INFO sqlalchemy.engine.Engine [no key 0.00092s] ()\n",
      "2021-06-27 04:31:53,226 INFO sqlalchemy.engine.Engine \n",
      "CREATE TABLE \"Intervals\" (\n",
      "\tid INTEGER NOT NULL, \n",
      "\tborehole VARCHAR(32), \n",
      "\tinterval_number INTEGER, \n",
      "\tdescription VARCHAR(32), \n",
      "\ttop_id INTEGER, \n",
      "\tbase_id INTEGER, \n",
      "\tPRIMARY KEY (id), \n",
      "\tFOREIGN KEY(borehole) REFERENCES \"Boreholes\" (id), \n",
      "\tFOREIGN KEY(top_id) REFERENCES \"Positions\" (id), \n",
      "\tFOREIGN KEY(base_id) REFERENCES \"Positions\" (id)\n",
      ")\n",
      "\n",
      "\n",
      "2021-06-27 04:31:53,227 INFO sqlalchemy.engine.Engine [no key 0.00103s] ()\n",
      "2021-06-27 04:31:53,231 INFO sqlalchemy.engine.Engine \n",
      "CREATE TABLE \"Linkintervalcomponent\" (\n",
      "\tint_id INTEGER NOT NULL, \n",
      "\tcomp_id INTEGER NOT NULL, \n",
      "\textra_data VARCHAR(256), \n",
      "\tPRIMARY KEY (int_id, comp_id), \n",
      "\tFOREIGN KEY(int_id) REFERENCES \"Intervals\" (id), \n",
      "\tFOREIGN KEY(comp_id) REFERENCES \"Components\" (id)\n",
      ")\n",
      "\n",
      "\n",
      "2021-06-27 04:31:53,232 INFO sqlalchemy.engine.Engine [no key 0.00067s] ()\n",
      "2021-06-27 04:31:53,235 INFO sqlalchemy.engine.Engine COMMIT\n"
     ]
    }
   ],
   "source": [
    "Base.metadata.create_all(engine)"
   ]
  },
  {
   "cell_type": "code",
   "execution_count": 15,
   "metadata": {},
   "outputs": [],
   "source": [
    "Session = sessionmaker(bind=engine)\n",
    "session = Session()"
   ]
  },
  {
   "cell_type": "code",
   "execution_count": 16,
   "metadata": {},
   "outputs": [
    {
     "name": "stdout",
     "output_type": "stream",
     "text": [
      "2021-06-27 04:31:53,250 INFO sqlalchemy.engine.Engine BEGIN (implicit)\n",
      "2021-06-27 04:31:53,252 INFO sqlalchemy.engine.Engine SELECT \"Boreholes\".id AS \"Boreholes_id\", \"Boreholes\".length AS \"Boreholes_length\", \"Boreholes\".diameter AS \"Boreholes_diameter\" \n",
      "FROM \"Boreholes\"\n",
      "2021-06-27 04:31:53,252 INFO sqlalchemy.engine.Engine [generated in 0.00060s] ()\n",
      "2021-06-27 04:31:53,257 INFO sqlalchemy.engine.Engine INSERT INTO \"Components\" (id, description) VALUES (?, ?)\n",
      "2021-06-27 04:31:53,258 INFO sqlalchemy.engine.Engine [generated in 0.00122s] ((0, 'Marne, vi'), (1, 'Charbon, vs'), (2, 'Argile, vs'), (3, 'Sable, vr'), (4, 'Dolomie, vs'), (5, 'Marne, vr'), (6, 'Sable, vs'), (7, 'Argile, vr')  ... displaying 10 of 17 total bound parameter sets ...  (15, 'Calcaire'), (16, 'Sable, vi'))\n",
      "2021-06-27 04:31:53,260 INFO sqlalchemy.engine.Engine COMMIT\n",
      "2021-06-27 04:31:53,263 INFO sqlalchemy.engine.Engine BEGIN (implicit)\n",
      "2021-06-27 04:31:53,264 INFO sqlalchemy.engine.Engine SELECT \"Boreholes\".id AS \"Boreholes_id\", \"Boreholes\".length AS \"Boreholes_length\", \"Boreholes\".diameter AS \"Boreholes_diameter\" \n",
      "FROM \"Boreholes\"\n",
      "2021-06-27 04:31:53,265 INFO sqlalchemy.engine.Engine [cached since 0.01343s ago] ()\n"
     ]
    }
   ],
   "source": [
    "p = Project(session, legend_dict={'lithology':lithology_memoris, 'pollutant':pollutant_memoris}, \n",
    "            lexicon=lexicon_memoris, repr_attribute='lithology')\n",
    "\n",
    "p.add_components(components)"
   ]
  },
  {
   "cell_type": "markdown",
   "metadata": {},
   "source": [
    "Add boreholes into the project"
   ]
  },
  {
   "cell_type": "code",
   "execution_count": 17,
   "metadata": {
    "scrolled": true
   },
   "outputs": [
    {
     "name": "stdout",
     "output_type": "stream",
     "text": [
      "2021-06-27 04:31:53,274 INFO sqlalchemy.engine.Engine INSERT INTO \"Boreholes\" (id, length, diameter) VALUES (?, ?, ?)\n",
      "2021-06-27 04:31:53,275 INFO sqlalchemy.engine.Engine [generated in 0.00143s] ('BH001', 28.0, 0.43)\n",
      "2021-06-27 04:31:53,278 INFO sqlalchemy.engine.Engine INSERT INTO \"Positions\" (id, upper, middle, lower, x, y) VALUES (?, ?, ?, ?, ?, ?)\n",
      "2021-06-27 04:31:53,279 INFO sqlalchemy.engine.Engine [generated in 0.00105s] ((0, 0.0, 0.0, 0.0, 152600.0, 121039.0), (1, 4.0, 4.0, 4.0, 152600.0, 121039.0), (2, 4.0, 4.0, 4.0, 152600.0, 121039.0), (3, 8.0, 8.0, 8.0, 152600.0, 121039.0), (4, 8.0, 8.0, 8.0, 152600.0, 121039.0), (5, 20.0, 20.0, 20.0, 152600.0, 121039.0), (6, 20.0, 20.0, 20.0, 152600.0, 121039.0), (7, 28.0, 28.0, 28.0, 152600.0, 121039.0))\n",
      "2021-06-27 04:31:53,281 INFO sqlalchemy.engine.Engine INSERT INTO \"Intervals\" (id, borehole, interval_number, description, top_id, base_id) VALUES (?, ?, ?, ?, ?, ?)\n",
      "2021-06-27 04:31:53,282 INFO sqlalchemy.engine.Engine [generated in 0.00097s] ((0, 'BH001', 0, 'Sable VR', 0, 1), (1, 'BH001', 1, 'Argile VS', 2, 3), (2, 'BH001', 2, 'Marne VI', 4, 5), (3, 'BH001', 3, 'Charbon VS', 6, 7))\n",
      "2021-06-27 04:31:53,284 INFO sqlalchemy.engine.Engine COMMIT\n",
      "2021-06-27 04:31:53,288 INFO sqlalchemy.engine.Engine BEGIN (implicit)\n",
      "2021-06-27 04:31:53,289 INFO sqlalchemy.engine.Engine SELECT \"Boreholes\".id AS \"Boreholes_id\", \"Boreholes\".length AS \"Boreholes_length\", \"Boreholes\".diameter AS \"Boreholes_diameter\" \n",
      "FROM \"Boreholes\"\n",
      "2021-06-27 04:31:53,290 INFO sqlalchemy.engine.Engine [cached since 0.03769s ago] ()\n",
      "2021-06-27 04:31:53,295 INFO sqlalchemy.engine.Engine SELECT \"Intervals\".id AS \"Intervals_id\", \"Intervals\".borehole AS \"Intervals_borehole\", \"Intervals\".interval_number AS \"Intervals_interval_number\", \"Intervals\".description AS \"Intervals_description\", \"Intervals\".top_id AS \"Intervals_top_id\", \"Intervals\".base_id AS \"Intervals_base_id\" \n",
      "FROM \"Intervals\" \n",
      "WHERE ? = \"Intervals\".borehole\n",
      "2021-06-27 04:31:53,295 INFO sqlalchemy.engine.Engine [generated in 0.00087s] ('BH001',)\n",
      "2021-06-27 04:31:53,302 INFO sqlalchemy.engine.Engine SELECT \"Positions\".id AS \"Positions_id\", \"Positions\".upper AS \"Positions_upper\", \"Positions\".middle AS \"Positions_middle\", \"Positions\".lower AS \"Positions_lower\", \"Positions\".x AS \"Positions_x\", \"Positions\".y AS \"Positions_y\" \n",
      "FROM \"Positions\" \n",
      "WHERE \"Positions\".id = ?\n",
      "2021-06-27 04:31:53,302 INFO sqlalchemy.engine.Engine [generated in 0.00098s] (0,)\n",
      "2021-06-27 04:31:53,307 INFO sqlalchemy.engine.Engine SELECT \"Positions\".id AS \"Positions_id\", \"Positions\".upper AS \"Positions_upper\", \"Positions\".middle AS \"Positions_middle\", \"Positions\".lower AS \"Positions_lower\", \"Positions\".x AS \"Positions_x\", \"Positions\".y AS \"Positions_y\" \n",
      "FROM \"Positions\" \n",
      "WHERE \"Positions\".id = ?\n",
      "2021-06-27 04:31:53,310 INFO sqlalchemy.engine.Engine [generated in 0.00330s] (1,)\n",
      "2021-06-27 04:31:53,312 INFO sqlalchemy.engine.Engine SELECT \"Positions\".id AS \"Positions_id\", \"Positions\".upper AS \"Positions_upper\", \"Positions\".middle AS \"Positions_middle\", \"Positions\".lower AS \"Positions_lower\", \"Positions\".x AS \"Positions_x\", \"Positions\".y AS \"Positions_y\" \n",
      "FROM \"Positions\" \n",
      "WHERE \"Positions\".id = ?\n",
      "2021-06-27 04:31:53,313 INFO sqlalchemy.engine.Engine [cached since 0.01114s ago] (2,)\n",
      "2021-06-27 04:31:53,315 INFO sqlalchemy.engine.Engine SELECT \"Positions\".id AS \"Positions_id\", \"Positions\".upper AS \"Positions_upper\", \"Positions\".middle AS \"Positions_middle\", \"Positions\".lower AS \"Positions_lower\", \"Positions\".x AS \"Positions_x\", \"Positions\".y AS \"Positions_y\" \n",
      "FROM \"Positions\" \n",
      "WHERE \"Positions\".id = ?\n",
      "2021-06-27 04:31:53,315 INFO sqlalchemy.engine.Engine [cached since 0.008743s ago] (3,)\n",
      "2021-06-27 04:31:53,318 INFO sqlalchemy.engine.Engine SELECT \"Positions\".id AS \"Positions_id\", \"Positions\".upper AS \"Positions_upper\", \"Positions\".middle AS \"Positions_middle\", \"Positions\".lower AS \"Positions_lower\", \"Positions\".x AS \"Positions_x\", \"Positions\".y AS \"Positions_y\" \n",
      "FROM \"Positions\" \n",
      "WHERE \"Positions\".id = ?\n",
      "2021-06-27 04:31:53,319 INFO sqlalchemy.engine.Engine [cached since 0.01723s ago] (4,)\n",
      "2021-06-27 04:31:53,321 INFO sqlalchemy.engine.Engine SELECT \"Positions\".id AS \"Positions_id\", \"Positions\".upper AS \"Positions_upper\", \"Positions\".middle AS \"Positions_middle\", \"Positions\".lower AS \"Positions_lower\", \"Positions\".x AS \"Positions_x\", \"Positions\".y AS \"Positions_y\" \n",
      "FROM \"Positions\" \n",
      "WHERE \"Positions\".id = ?\n",
      "2021-06-27 04:31:53,322 INFO sqlalchemy.engine.Engine [cached since 0.01487s ago] (5,)\n",
      "2021-06-27 04:31:53,324 INFO sqlalchemy.engine.Engine SELECT \"Positions\".id AS \"Positions_id\", \"Positions\".upper AS \"Positions_upper\", \"Positions\".middle AS \"Positions_middle\", \"Positions\".lower AS \"Positions_lower\", \"Positions\".x AS \"Positions_x\", \"Positions\".y AS \"Positions_y\" \n",
      "FROM \"Positions\" \n",
      "WHERE \"Positions\".id = ?\n",
      "2021-06-27 04:31:53,325 INFO sqlalchemy.engine.Engine [cached since 0.02356s ago] (6,)\n",
      "2021-06-27 04:31:53,327 INFO sqlalchemy.engine.Engine SELECT \"Positions\".id AS \"Positions_id\", \"Positions\".upper AS \"Positions_upper\", \"Positions\".middle AS \"Positions_middle\", \"Positions\".lower AS \"Positions_lower\", \"Positions\".x AS \"Positions_x\", \"Positions\".y AS \"Positions_y\" \n",
      "FROM \"Positions\" \n",
      "WHERE \"Positions\".id = ?\n",
      "2021-06-27 04:31:53,328 INFO sqlalchemy.engine.Engine [cached since 0.02142s ago] (7,)\n",
      "2021-06-27 04:31:53,345 INFO sqlalchemy.engine.Engine INSERT INTO \"Boreholes\" (id, length, diameter) VALUES (?, ?, ?)\n",
      "2021-06-27 04:31:53,346 INFO sqlalchemy.engine.Engine [cached since 0.07201s ago] ('BH002', 37.0, 0.6)\n",
      "2021-06-27 04:31:53,348 INFO sqlalchemy.engine.Engine INSERT INTO \"Positions\" (id, upper, middle, lower, x, y) VALUES (?, ?, ?, ?, ?, ?)\n",
      "2021-06-27 04:31:53,349 INFO sqlalchemy.engine.Engine [cached since 0.07092s ago] ((8, 0.0, 0.0, 0.0, 152819.0, 121586.0), (9, 5.0, 5.0, 5.0, 152819.0, 121586.0), (10, 5.0, 5.0, 5.0, 152819.0, 121586.0), (11, 8.0, 8.0, 8.0, 152819.0, 121586.0), (12, 8.0, 8.0, 8.0, 152819.0, 121586.0), (13, 14.0, 14.0, 14.0, 152819.0, 121586.0), (14, 14.0, 14.0, 14.0, 152819.0, 121586.0), (15, 15.0, 15.0, 15.0, 152819.0, 121586.0), (16, 15.0, 15.0, 15.0, 152819.0, 121586.0), (17, 37.0, 37.0, 37.0, 152819.0, 121586.0))\n",
      "2021-06-27 04:31:53,351 INFO sqlalchemy.engine.Engine INSERT INTO \"Intervals\" (id, borehole, interval_number, description, top_id, base_id) VALUES (?, ?, ?, ?, ?, ?)\n",
      "2021-06-27 04:31:53,352 INFO sqlalchemy.engine.Engine [cached since 0.07053s ago] ((4, 'BH002', 0, 'Sable VS', 8, 9), (5, 'BH002', 1, 'Argile VR', 10, 11), (6, 'BH002', 2, 'Marne VR', 12, 13), (7, 'BH002', 3, 'Charbon VI', 14, 15), (8, 'BH002', 4, 'Dolomie VS', 16, 17))\n",
      "2021-06-27 04:31:53,354 INFO sqlalchemy.engine.Engine COMMIT\n",
      "2021-06-27 04:31:53,359 INFO sqlalchemy.engine.Engine BEGIN (implicit)\n",
      "2021-06-27 04:31:53,360 INFO sqlalchemy.engine.Engine SELECT \"Boreholes\".id AS \"Boreholes_id\", \"Boreholes\".length AS \"Boreholes_length\", \"Boreholes\".diameter AS \"Boreholes_diameter\" \n",
      "FROM \"Boreholes\"\n",
      "2021-06-27 04:31:53,361 INFO sqlalchemy.engine.Engine [cached since 0.1089s ago] ()\n",
      "2021-06-27 04:31:53,363 INFO sqlalchemy.engine.Engine SELECT \"Intervals\".id AS \"Intervals_id\", \"Intervals\".borehole AS \"Intervals_borehole\", \"Intervals\".interval_number AS \"Intervals_interval_number\", \"Intervals\".description AS \"Intervals_description\", \"Intervals\".top_id AS \"Intervals_top_id\", \"Intervals\".base_id AS \"Intervals_base_id\" \n",
      "FROM \"Intervals\" \n",
      "WHERE ? = \"Intervals\".borehole\n",
      "2021-06-27 04:31:53,364 INFO sqlalchemy.engine.Engine [cached since 0.06943s ago] ('BH002',)\n",
      "2021-06-27 04:31:53,366 INFO sqlalchemy.engine.Engine SELECT \"Positions\".id AS \"Positions_id\", \"Positions\".upper AS \"Positions_upper\", \"Positions\".middle AS \"Positions_middle\", \"Positions\".lower AS \"Positions_lower\", \"Positions\".x AS \"Positions_x\", \"Positions\".y AS \"Positions_y\" \n",
      "FROM \"Positions\" \n",
      "WHERE \"Positions\".id = ?\n",
      "2021-06-27 04:31:53,367 INFO sqlalchemy.engine.Engine [cached since 0.06509s ago] (8,)\n",
      "2021-06-27 04:31:53,368 INFO sqlalchemy.engine.Engine SELECT \"Positions\".id AS \"Positions_id\", \"Positions\".upper AS \"Positions_upper\", \"Positions\".middle AS \"Positions_middle\", \"Positions\".lower AS \"Positions_lower\", \"Positions\".x AS \"Positions_x\", \"Positions\".y AS \"Positions_y\" \n",
      "FROM \"Positions\" \n",
      "WHERE \"Positions\".id = ?\n"
     ]
    },
    {
     "name": "stdout",
     "output_type": "stream",
     "text": [
      "2021-06-27 04:31:53,369 INFO sqlalchemy.engine.Engine [cached since 0.06202s ago] (9,)\n",
      "2021-06-27 04:31:53,371 INFO sqlalchemy.engine.Engine SELECT \"Positions\".id AS \"Positions_id\", \"Positions\".upper AS \"Positions_upper\", \"Positions\".middle AS \"Positions_middle\", \"Positions\".lower AS \"Positions_lower\", \"Positions\".x AS \"Positions_x\", \"Positions\".y AS \"Positions_y\" \n",
      "FROM \"Positions\" \n",
      "WHERE \"Positions\".id = ?\n",
      "2021-06-27 04:31:53,372 INFO sqlalchemy.engine.Engine [cached since 0.07025s ago] (10,)\n",
      "2021-06-27 04:31:53,374 INFO sqlalchemy.engine.Engine SELECT \"Positions\".id AS \"Positions_id\", \"Positions\".upper AS \"Positions_upper\", \"Positions\".middle AS \"Positions_middle\", \"Positions\".lower AS \"Positions_lower\", \"Positions\".x AS \"Positions_x\", \"Positions\".y AS \"Positions_y\" \n",
      "FROM \"Positions\" \n",
      "WHERE \"Positions\".id = ?\n",
      "2021-06-27 04:31:53,375 INFO sqlalchemy.engine.Engine [cached since 0.06782s ago] (11,)\n",
      "2021-06-27 04:31:53,377 INFO sqlalchemy.engine.Engine SELECT \"Positions\".id AS \"Positions_id\", \"Positions\".upper AS \"Positions_upper\", \"Positions\".middle AS \"Positions_middle\", \"Positions\".lower AS \"Positions_lower\", \"Positions\".x AS \"Positions_x\", \"Positions\".y AS \"Positions_y\" \n",
      "FROM \"Positions\" \n",
      "WHERE \"Positions\".id = ?\n",
      "2021-06-27 04:31:53,378 INFO sqlalchemy.engine.Engine [cached since 0.07626s ago] (12,)\n",
      "2021-06-27 04:31:53,379 INFO sqlalchemy.engine.Engine SELECT \"Positions\".id AS \"Positions_id\", \"Positions\".upper AS \"Positions_upper\", \"Positions\".middle AS \"Positions_middle\", \"Positions\".lower AS \"Positions_lower\", \"Positions\".x AS \"Positions_x\", \"Positions\".y AS \"Positions_y\" \n",
      "FROM \"Positions\" \n",
      "WHERE \"Positions\".id = ?\n",
      "2021-06-27 04:31:53,380 INFO sqlalchemy.engine.Engine [cached since 0.07332s ago] (13,)\n",
      "2021-06-27 04:31:53,382 INFO sqlalchemy.engine.Engine SELECT \"Positions\".id AS \"Positions_id\", \"Positions\".upper AS \"Positions_upper\", \"Positions\".middle AS \"Positions_middle\", \"Positions\".lower AS \"Positions_lower\", \"Positions\".x AS \"Positions_x\", \"Positions\".y AS \"Positions_y\" \n",
      "FROM \"Positions\" \n",
      "WHERE \"Positions\".id = ?\n",
      "2021-06-27 04:31:53,383 INFO sqlalchemy.engine.Engine [cached since 0.08154s ago] (14,)\n",
      "2021-06-27 04:31:53,385 INFO sqlalchemy.engine.Engine SELECT \"Positions\".id AS \"Positions_id\", \"Positions\".upper AS \"Positions_upper\", \"Positions\".middle AS \"Positions_middle\", \"Positions\".lower AS \"Positions_lower\", \"Positions\".x AS \"Positions_x\", \"Positions\".y AS \"Positions_y\" \n",
      "FROM \"Positions\" \n",
      "WHERE \"Positions\".id = ?\n",
      "2021-06-27 04:31:53,386 INFO sqlalchemy.engine.Engine [cached since 0.07927s ago] (15,)\n",
      "2021-06-27 04:31:53,389 INFO sqlalchemy.engine.Engine SELECT \"Positions\".id AS \"Positions_id\", \"Positions\".upper AS \"Positions_upper\", \"Positions\".middle AS \"Positions_middle\", \"Positions\".lower AS \"Positions_lower\", \"Positions\".x AS \"Positions_x\", \"Positions\".y AS \"Positions_y\" \n",
      "FROM \"Positions\" \n",
      "WHERE \"Positions\".id = ?\n",
      "2021-06-27 04:31:53,390 INFO sqlalchemy.engine.Engine [cached since 0.08811s ago] (16,)\n",
      "2021-06-27 04:31:53,391 INFO sqlalchemy.engine.Engine SELECT \"Positions\".id AS \"Positions_id\", \"Positions\".upper AS \"Positions_upper\", \"Positions\".middle AS \"Positions_middle\", \"Positions\".lower AS \"Positions_lower\", \"Positions\".x AS \"Positions_x\", \"Positions\".y AS \"Positions_y\" \n",
      "FROM \"Positions\" \n",
      "WHERE \"Positions\".id = ?\n",
      "2021-06-27 04:31:53,392 INFO sqlalchemy.engine.Engine [cached since 0.08535s ago] (17,)\n",
      "2021-06-27 04:31:53,404 INFO sqlalchemy.engine.Engine INSERT INTO \"Boreholes\" (id, length, diameter) VALUES (?, ?, ?)\n",
      "2021-06-27 04:31:53,405 INFO sqlalchemy.engine.Engine [cached since 0.1315s ago] ('BH003', 18.0, 0.41)\n",
      "2021-06-27 04:31:53,407 INFO sqlalchemy.engine.Engine INSERT INTO \"Positions\" (id, upper, middle, lower, x, y) VALUES (?, ?, ?, ?, ?, ?)\n",
      "2021-06-27 04:31:53,408 INFO sqlalchemy.engine.Engine [cached since 0.1301s ago] ((18, 0.0, 0.0, 0.0, 152922.0, 121313.0), (19, 3.0, 3.0, 3.0, 152922.0, 121313.0), (20, 3.0, 3.0, 3.0, 152922.0, 121313.0), (21, 6.0, 6.0, 6.0, 152922.0, 121313.0), (22, 6.0, 6.0, 6.0, 152922.0, 121313.0), (23, 9.0, 9.0, 9.0, 152922.0, 121313.0), (24, 9.0, 9.0, 9.0, 152922.0, 121313.0), (25, 13.0, 13.0, 13.0, 152922.0, 121313.0), (26, 13.0, 13.0, 13.0, 152922.0, 121313.0), (27, 18.0, 18.0, 18.0, 152922.0, 121313.0))\n",
      "2021-06-27 04:31:53,410 INFO sqlalchemy.engine.Engine INSERT INTO \"Intervals\" (id, borehole, interval_number, description, top_id, base_id) VALUES (?, ?, ?, ?, ?, ?)\n",
      "2021-06-27 04:31:53,411 INFO sqlalchemy.engine.Engine [cached since 0.1292s ago] ((9, 'BH003', 0, 'Sable VR', 18, 19), (10, 'BH003', 1, 'Argile VR', 20, 21), (11, 'BH003', 2, 'Marne VS', 22, 23), (12, 'BH003', 3, 'Charbon VR', 24, 25), (13, 'BH003', 4, 'Dolomie VR', 26, 27))\n",
      "2021-06-27 04:31:53,412 INFO sqlalchemy.engine.Engine COMMIT\n",
      "2021-06-27 04:31:53,416 INFO sqlalchemy.engine.Engine BEGIN (implicit)\n",
      "2021-06-27 04:31:53,417 INFO sqlalchemy.engine.Engine SELECT \"Boreholes\".id AS \"Boreholes_id\", \"Boreholes\".length AS \"Boreholes_length\", \"Boreholes\".diameter AS \"Boreholes_diameter\" \n",
      "FROM \"Boreholes\"\n",
      "2021-06-27 04:31:53,418 INFO sqlalchemy.engine.Engine [cached since 0.166s ago] ()\n",
      "2021-06-27 04:31:53,420 INFO sqlalchemy.engine.Engine SELECT \"Intervals\".id AS \"Intervals_id\", \"Intervals\".borehole AS \"Intervals_borehole\", \"Intervals\".interval_number AS \"Intervals_interval_number\", \"Intervals\".description AS \"Intervals_description\", \"Intervals\".top_id AS \"Intervals_top_id\", \"Intervals\".base_id AS \"Intervals_base_id\" \n",
      "FROM \"Intervals\" \n",
      "WHERE ? = \"Intervals\".borehole\n",
      "2021-06-27 04:31:53,421 INFO sqlalchemy.engine.Engine [cached since 0.1266s ago] ('BH003',)\n",
      "2021-06-27 04:31:53,424 INFO sqlalchemy.engine.Engine SELECT \"Positions\".id AS \"Positions_id\", \"Positions\".upper AS \"Positions_upper\", \"Positions\".middle AS \"Positions_middle\", \"Positions\".lower AS \"Positions_lower\", \"Positions\".x AS \"Positions_x\", \"Positions\".y AS \"Positions_y\" \n",
      "FROM \"Positions\" \n",
      "WHERE \"Positions\".id = ?\n",
      "2021-06-27 04:31:53,424 INFO sqlalchemy.engine.Engine [cached since 0.1228s ago] (18,)\n",
      "2021-06-27 04:31:53,427 INFO sqlalchemy.engine.Engine SELECT \"Positions\".id AS \"Positions_id\", \"Positions\".upper AS \"Positions_upper\", \"Positions\".middle AS \"Positions_middle\", \"Positions\".lower AS \"Positions_lower\", \"Positions\".x AS \"Positions_x\", \"Positions\".y AS \"Positions_y\" \n",
      "FROM \"Positions\" \n",
      "WHERE \"Positions\".id = ?\n",
      "2021-06-27 04:31:53,427 INFO sqlalchemy.engine.Engine [cached since 0.1207s ago] (19,)\n",
      "2021-06-27 04:31:53,430 INFO sqlalchemy.engine.Engine SELECT \"Positions\".id AS \"Positions_id\", \"Positions\".upper AS \"Positions_upper\", \"Positions\".middle AS \"Positions_middle\", \"Positions\".lower AS \"Positions_lower\", \"Positions\".x AS \"Positions_x\", \"Positions\".y AS \"Positions_y\" \n",
      "FROM \"Positions\" \n",
      "WHERE \"Positions\".id = ?\n",
      "2021-06-27 04:31:53,431 INFO sqlalchemy.engine.Engine [cached since 0.1293s ago] (20,)\n",
      "2021-06-27 04:31:53,433 INFO sqlalchemy.engine.Engine SELECT \"Positions\".id AS \"Positions_id\", \"Positions\".upper AS \"Positions_upper\", \"Positions\".middle AS \"Positions_middle\", \"Positions\".lower AS \"Positions_lower\", \"Positions\".x AS \"Positions_x\", \"Positions\".y AS \"Positions_y\" \n",
      "FROM \"Positions\" \n",
      "WHERE \"Positions\".id = ?\n",
      "2021-06-27 04:31:53,434 INFO sqlalchemy.engine.Engine [cached since 0.127s ago] (21,)\n",
      "2021-06-27 04:31:53,436 INFO sqlalchemy.engine.Engine SELECT \"Positions\".id AS \"Positions_id\", \"Positions\".upper AS \"Positions_upper\", \"Positions\".middle AS \"Positions_middle\", \"Positions\".lower AS \"Positions_lower\", \"Positions\".x AS \"Positions_x\", \"Positions\".y AS \"Positions_y\" \n",
      "FROM \"Positions\" \n",
      "WHERE \"Positions\".id = ?\n",
      "2021-06-27 04:31:53,437 INFO sqlalchemy.engine.Engine [cached since 0.1352s ago] (22,)\n",
      "2021-06-27 04:31:53,438 INFO sqlalchemy.engine.Engine SELECT \"Positions\".id AS \"Positions_id\", \"Positions\".upper AS \"Positions_upper\", \"Positions\".middle AS \"Positions_middle\", \"Positions\".lower AS \"Positions_lower\", \"Positions\".x AS \"Positions_x\", \"Positions\".y AS \"Positions_y\" \n",
      "FROM \"Positions\" \n",
      "WHERE \"Positions\".id = ?\n",
      "2021-06-27 04:31:53,439 INFO sqlalchemy.engine.Engine [cached since 0.1324s ago] (23,)\n",
      "2021-06-27 04:31:53,442 INFO sqlalchemy.engine.Engine SELECT \"Positions\".id AS \"Positions_id\", \"Positions\".upper AS \"Positions_upper\", \"Positions\".middle AS \"Positions_middle\", \"Positions\".lower AS \"Positions_lower\", \"Positions\".x AS \"Positions_x\", \"Positions\".y AS \"Positions_y\" \n",
      "FROM \"Positions\" \n",
      "WHERE \"Positions\".id = ?\n"
     ]
    },
    {
     "name": "stdout",
     "output_type": "stream",
     "text": [
      "2021-06-27 04:31:53,442 INFO sqlalchemy.engine.Engine [cached since 0.1409s ago] (24,)\n",
      "2021-06-27 04:31:53,444 INFO sqlalchemy.engine.Engine SELECT \"Positions\".id AS \"Positions_id\", \"Positions\".upper AS \"Positions_upper\", \"Positions\".middle AS \"Positions_middle\", \"Positions\".lower AS \"Positions_lower\", \"Positions\".x AS \"Positions_x\", \"Positions\".y AS \"Positions_y\" \n",
      "FROM \"Positions\" \n",
      "WHERE \"Positions\".id = ?\n",
      "2021-06-27 04:31:53,445 INFO sqlalchemy.engine.Engine [cached since 0.1382s ago] (25,)\n",
      "2021-06-27 04:31:53,448 INFO sqlalchemy.engine.Engine SELECT \"Positions\".id AS \"Positions_id\", \"Positions\".upper AS \"Positions_upper\", \"Positions\".middle AS \"Positions_middle\", \"Positions\".lower AS \"Positions_lower\", \"Positions\".x AS \"Positions_x\", \"Positions\".y AS \"Positions_y\" \n",
      "FROM \"Positions\" \n",
      "WHERE \"Positions\".id = ?\n",
      "2021-06-27 04:31:53,448 INFO sqlalchemy.engine.Engine [cached since 0.147s ago] (26,)\n",
      "2021-06-27 04:31:53,451 INFO sqlalchemy.engine.Engine SELECT \"Positions\".id AS \"Positions_id\", \"Positions\".upper AS \"Positions_upper\", \"Positions\".middle AS \"Positions_middle\", \"Positions\".lower AS \"Positions_lower\", \"Positions\".x AS \"Positions_x\", \"Positions\".y AS \"Positions_y\" \n",
      "FROM \"Positions\" \n",
      "WHERE \"Positions\".id = ?\n",
      "2021-06-27 04:31:53,452 INFO sqlalchemy.engine.Engine [cached since 0.1448s ago] (27,)\n",
      "2021-06-27 04:31:53,465 INFO sqlalchemy.engine.Engine INSERT INTO \"Boreholes\" (id, length, diameter) VALUES (?, ?, ?)\n",
      "2021-06-27 04:31:53,466 INFO sqlalchemy.engine.Engine [cached since 0.1918s ago] ('BH004', 26.0, 0.61)\n",
      "2021-06-27 04:31:53,467 INFO sqlalchemy.engine.Engine INSERT INTO \"Positions\" (id, upper, middle, lower, x, y) VALUES (?, ?, ?, ?, ?, ?)\n",
      "2021-06-27 04:31:53,468 INFO sqlalchemy.engine.Engine [cached since 0.1904s ago] ((28, 0.0, 0.0, 0.0, 152766.0, 121494.0), (29, 5.0, 5.0, 5.0, 152766.0, 121494.0), (30, 5.0, 5.0, 5.0, 152766.0, 121494.0), (31, 7.0, 7.0, 7.0, 152766.0, 121494.0), (32, 7.0, 7.0, 7.0, 152766.0, 121494.0), (33, 14.0, 14.0, 14.0, 152766.0, 121494.0), (34, 14.0, 14.0, 14.0, 152766.0, 121494.0), (35, 16.0, 16.0, 16.0, 152766.0, 121494.0), (36, 16.0, 16.0, 16.0, 152766.0, 121494.0), (37, 26.0, 26.0, 26.0, 152766.0, 121494.0))\n",
      "2021-06-27 04:31:53,470 INFO sqlalchemy.engine.Engine INSERT INTO \"Intervals\" (id, borehole, interval_number, description, top_id, base_id) VALUES (?, ?, ?, ?, ?, ?)\n",
      "2021-06-27 04:31:53,471 INFO sqlalchemy.engine.Engine [cached since 0.1898s ago] ((14, 'BH004', 0, 'Sable VS', 28, 29), (15, 'BH004', 1, 'Argile VI', 30, 31), (16, 'BH004', 2, 'Marne VS', 32, 33), (17, 'BH004', 3, 'Charbon VI', 34, 35), (18, 'BH004', 4, 'Dolomie VI', 36, 37))\n",
      "2021-06-27 04:31:53,473 INFO sqlalchemy.engine.Engine COMMIT\n",
      "2021-06-27 04:31:53,477 INFO sqlalchemy.engine.Engine BEGIN (implicit)\n",
      "2021-06-27 04:31:53,478 INFO sqlalchemy.engine.Engine SELECT \"Boreholes\".id AS \"Boreholes_id\", \"Boreholes\".length AS \"Boreholes_length\", \"Boreholes\".diameter AS \"Boreholes_diameter\" \n",
      "FROM \"Boreholes\"\n",
      "2021-06-27 04:31:53,479 INFO sqlalchemy.engine.Engine [cached since 0.2267s ago] ()\n",
      "2021-06-27 04:31:53,481 INFO sqlalchemy.engine.Engine SELECT \"Intervals\".id AS \"Intervals_id\", \"Intervals\".borehole AS \"Intervals_borehole\", \"Intervals\".interval_number AS \"Intervals_interval_number\", \"Intervals\".description AS \"Intervals_description\", \"Intervals\".top_id AS \"Intervals_top_id\", \"Intervals\".base_id AS \"Intervals_base_id\" \n",
      "FROM \"Intervals\" \n",
      "WHERE ? = \"Intervals\".borehole\n",
      "2021-06-27 04:31:53,482 INFO sqlalchemy.engine.Engine [cached since 0.187s ago] ('BH004',)\n",
      "2021-06-27 04:31:53,484 INFO sqlalchemy.engine.Engine SELECT \"Positions\".id AS \"Positions_id\", \"Positions\".upper AS \"Positions_upper\", \"Positions\".middle AS \"Positions_middle\", \"Positions\".lower AS \"Positions_lower\", \"Positions\".x AS \"Positions_x\", \"Positions\".y AS \"Positions_y\" \n",
      "FROM \"Positions\" \n",
      "WHERE \"Positions\".id = ?\n",
      "2021-06-27 04:31:53,485 INFO sqlalchemy.engine.Engine [cached since 0.1831s ago] (28,)\n",
      "2021-06-27 04:31:53,487 INFO sqlalchemy.engine.Engine SELECT \"Positions\".id AS \"Positions_id\", \"Positions\".upper AS \"Positions_upper\", \"Positions\".middle AS \"Positions_middle\", \"Positions\".lower AS \"Positions_lower\", \"Positions\".x AS \"Positions_x\", \"Positions\".y AS \"Positions_y\" \n",
      "FROM \"Positions\" \n",
      "WHERE \"Positions\".id = ?\n",
      "2021-06-27 04:31:53,488 INFO sqlalchemy.engine.Engine [cached since 0.1808s ago] (29,)\n",
      "2021-06-27 04:31:53,490 INFO sqlalchemy.engine.Engine SELECT \"Positions\".id AS \"Positions_id\", \"Positions\".upper AS \"Positions_upper\", \"Positions\".middle AS \"Positions_middle\", \"Positions\".lower AS \"Positions_lower\", \"Positions\".x AS \"Positions_x\", \"Positions\".y AS \"Positions_y\" \n",
      "FROM \"Positions\" \n",
      "WHERE \"Positions\".id = ?\n",
      "2021-06-27 04:31:53,491 INFO sqlalchemy.engine.Engine [cached since 0.1892s ago] (30,)\n",
      "2021-06-27 04:31:53,493 INFO sqlalchemy.engine.Engine SELECT \"Positions\".id AS \"Positions_id\", \"Positions\".upper AS \"Positions_upper\", \"Positions\".middle AS \"Positions_middle\", \"Positions\".lower AS \"Positions_lower\", \"Positions\".x AS \"Positions_x\", \"Positions\".y AS \"Positions_y\" \n",
      "FROM \"Positions\" \n",
      "WHERE \"Positions\".id = ?\n",
      "2021-06-27 04:31:53,494 INFO sqlalchemy.engine.Engine [cached since 0.1868s ago] (31,)\n",
      "2021-06-27 04:31:53,495 INFO sqlalchemy.engine.Engine SELECT \"Positions\".id AS \"Positions_id\", \"Positions\".upper AS \"Positions_upper\", \"Positions\".middle AS \"Positions_middle\", \"Positions\".lower AS \"Positions_lower\", \"Positions\".x AS \"Positions_x\", \"Positions\".y AS \"Positions_y\" \n",
      "FROM \"Positions\" \n",
      "WHERE \"Positions\".id = ?\n",
      "2021-06-27 04:31:53,496 INFO sqlalchemy.engine.Engine [cached since 0.1949s ago] (32,)\n",
      "2021-06-27 04:31:53,498 INFO sqlalchemy.engine.Engine SELECT \"Positions\".id AS \"Positions_id\", \"Positions\".upper AS \"Positions_upper\", \"Positions\".middle AS \"Positions_middle\", \"Positions\".lower AS \"Positions_lower\", \"Positions\".x AS \"Positions_x\", \"Positions\".y AS \"Positions_y\" \n",
      "FROM \"Positions\" \n",
      "WHERE \"Positions\".id = ?\n",
      "2021-06-27 04:31:53,499 INFO sqlalchemy.engine.Engine [cached since 0.1919s ago] (33,)\n",
      "2021-06-27 04:31:53,501 INFO sqlalchemy.engine.Engine SELECT \"Positions\".id AS \"Positions_id\", \"Positions\".upper AS \"Positions_upper\", \"Positions\".middle AS \"Positions_middle\", \"Positions\".lower AS \"Positions_lower\", \"Positions\".x AS \"Positions_x\", \"Positions\".y AS \"Positions_y\" \n",
      "FROM \"Positions\" \n",
      "WHERE \"Positions\".id = ?\n",
      "2021-06-27 04:31:53,502 INFO sqlalchemy.engine.Engine [cached since 0.2s ago] (34,)\n",
      "2021-06-27 04:31:53,503 INFO sqlalchemy.engine.Engine SELECT \"Positions\".id AS \"Positions_id\", \"Positions\".upper AS \"Positions_upper\", \"Positions\".middle AS \"Positions_middle\", \"Positions\".lower AS \"Positions_lower\", \"Positions\".x AS \"Positions_x\", \"Positions\".y AS \"Positions_y\" \n",
      "FROM \"Positions\" \n",
      "WHERE \"Positions\".id = ?\n",
      "2021-06-27 04:31:53,504 INFO sqlalchemy.engine.Engine [cached since 0.1972s ago] (35,)\n",
      "2021-06-27 04:31:53,507 INFO sqlalchemy.engine.Engine SELECT \"Positions\".id AS \"Positions_id\", \"Positions\".upper AS \"Positions_upper\", \"Positions\".middle AS \"Positions_middle\", \"Positions\".lower AS \"Positions_lower\", \"Positions\".x AS \"Positions_x\", \"Positions\".y AS \"Positions_y\" \n",
      "FROM \"Positions\" \n",
      "WHERE \"Positions\".id = ?\n",
      "2021-06-27 04:31:53,508 INFO sqlalchemy.engine.Engine [cached since 0.2062s ago] (36,)\n",
      "2021-06-27 04:31:53,510 INFO sqlalchemy.engine.Engine SELECT \"Positions\".id AS \"Positions_id\", \"Positions\".upper AS \"Positions_upper\", \"Positions\".middle AS \"Positions_middle\", \"Positions\".lower AS \"Positions_lower\", \"Positions\".x AS \"Positions_x\", \"Positions\".y AS \"Positions_y\" \n",
      "FROM \"Positions\" \n",
      "WHERE \"Positions\".id = ?\n",
      "2021-06-27 04:31:53,510 INFO sqlalchemy.engine.Engine [cached since 0.2036s ago] (37,)\n",
      "2021-06-27 04:31:53,521 INFO sqlalchemy.engine.Engine INSERT INTO \"Boreholes\" (id, length, diameter) VALUES (?, ?, ?)\n",
      "2021-06-27 04:31:53,522 INFO sqlalchemy.engine.Engine [cached since 0.2481s ago] ('BH005', 32.0, 0.61)\n",
      "2021-06-27 04:31:53,524 INFO sqlalchemy.engine.Engine INSERT INTO \"Positions\" (id, upper, middle, lower, x, y) VALUES (?, ?, ?, ?, ?, ?)\n",
      "2021-06-27 04:31:53,525 INFO sqlalchemy.engine.Engine [cached since 0.2474s ago] ((38, 0.0, 0.0, 0.0, 152473.0, 121460.0), (39, 4.0, 4.0, 4.0, 152473.0, 121460.0), (40, 4.0, 4.0, 4.0, 152473.0, 121460.0), (41, 8.0, 8.0, 8.0, 152473.0, 121460.0), (42, 8.0, 8.0, 8.0, 152473.0, 121460.0), (43, 19.0, 19.0, 19.0, 152473.0, 121460.0), (44, 19.0, 19.0, 19.0, 152473.0, 121460.0), (45, 27.0, 27.0, 27.0, 152473.0, 121460.0)  ... displaying 10 of 12 total bound parameter sets ...  (48, 29.0, 29.0, 29.0, 152473.0, 121460.0), (49, 32.0, 32.0, 32.0, 152473.0, 121460.0))\n"
     ]
    },
    {
     "name": "stdout",
     "output_type": "stream",
     "text": [
      "2021-06-27 04:31:53,528 INFO sqlalchemy.engine.Engine INSERT INTO \"Intervals\" (id, borehole, interval_number, description, top_id, base_id) VALUES (?, ?, ?, ?, ?, ?)\n",
      "2021-06-27 04:31:53,529 INFO sqlalchemy.engine.Engine [cached since 0.2471s ago] ((19, 'BH005', 0, 'Sable VR', 38, 39), (20, 'BH005', 1, 'Argile VI', 40, 41), (21, 'BH005', 2, 'Marne VS', 42, 43), (22, 'BH005', 3, 'Charbon VI', 44, 45), (23, 'BH005', 4, 'Dolomie VS', 46, 47), (24, 'BH005', 5, 'Graviers Cl', 48, 49))\n",
      "2021-06-27 04:31:53,530 INFO sqlalchemy.engine.Engine COMMIT\n",
      "2021-06-27 04:31:53,535 INFO sqlalchemy.engine.Engine BEGIN (implicit)\n",
      "2021-06-27 04:31:53,536 INFO sqlalchemy.engine.Engine SELECT \"Boreholes\".id AS \"Boreholes_id\", \"Boreholes\".length AS \"Boreholes_length\", \"Boreholes\".diameter AS \"Boreholes_diameter\" \n",
      "FROM \"Boreholes\"\n",
      "2021-06-27 04:31:53,536 INFO sqlalchemy.engine.Engine [cached since 0.2846s ago] ()\n",
      "2021-06-27 04:31:53,539 INFO sqlalchemy.engine.Engine SELECT \"Intervals\".id AS \"Intervals_id\", \"Intervals\".borehole AS \"Intervals_borehole\", \"Intervals\".interval_number AS \"Intervals_interval_number\", \"Intervals\".description AS \"Intervals_description\", \"Intervals\".top_id AS \"Intervals_top_id\", \"Intervals\".base_id AS \"Intervals_base_id\" \n",
      "FROM \"Intervals\" \n",
      "WHERE ? = \"Intervals\".borehole\n",
      "2021-06-27 04:31:53,539 INFO sqlalchemy.engine.Engine [cached since 0.2448s ago] ('BH005',)\n",
      "2021-06-27 04:31:53,542 INFO sqlalchemy.engine.Engine SELECT \"Positions\".id AS \"Positions_id\", \"Positions\".upper AS \"Positions_upper\", \"Positions\".middle AS \"Positions_middle\", \"Positions\".lower AS \"Positions_lower\", \"Positions\".x AS \"Positions_x\", \"Positions\".y AS \"Positions_y\" \n",
      "FROM \"Positions\" \n",
      "WHERE \"Positions\".id = ?\n",
      "2021-06-27 04:31:53,543 INFO sqlalchemy.engine.Engine [cached since 0.2412s ago] (38,)\n",
      "2021-06-27 04:31:53,545 INFO sqlalchemy.engine.Engine SELECT \"Positions\".id AS \"Positions_id\", \"Positions\".upper AS \"Positions_upper\", \"Positions\".middle AS \"Positions_middle\", \"Positions\".lower AS \"Positions_lower\", \"Positions\".x AS \"Positions_x\", \"Positions\".y AS \"Positions_y\" \n",
      "FROM \"Positions\" \n",
      "WHERE \"Positions\".id = ?\n",
      "2021-06-27 04:31:53,546 INFO sqlalchemy.engine.Engine [cached since 0.2388s ago] (39,)\n",
      "2021-06-27 04:31:53,548 INFO sqlalchemy.engine.Engine SELECT \"Positions\".id AS \"Positions_id\", \"Positions\".upper AS \"Positions_upper\", \"Positions\".middle AS \"Positions_middle\", \"Positions\".lower AS \"Positions_lower\", \"Positions\".x AS \"Positions_x\", \"Positions\".y AS \"Positions_y\" \n",
      "FROM \"Positions\" \n",
      "WHERE \"Positions\".id = ?\n",
      "2021-06-27 04:31:53,548 INFO sqlalchemy.engine.Engine [cached since 0.2469s ago] (40,)\n",
      "2021-06-27 04:31:53,551 INFO sqlalchemy.engine.Engine SELECT \"Positions\".id AS \"Positions_id\", \"Positions\".upper AS \"Positions_upper\", \"Positions\".middle AS \"Positions_middle\", \"Positions\".lower AS \"Positions_lower\", \"Positions\".x AS \"Positions_x\", \"Positions\".y AS \"Positions_y\" \n",
      "FROM \"Positions\" \n",
      "WHERE \"Positions\".id = ?\n",
      "2021-06-27 04:31:53,551 INFO sqlalchemy.engine.Engine [cached since 0.2446s ago] (41,)\n",
      "2021-06-27 04:31:53,553 INFO sqlalchemy.engine.Engine SELECT \"Positions\".id AS \"Positions_id\", \"Positions\".upper AS \"Positions_upper\", \"Positions\".middle AS \"Positions_middle\", \"Positions\".lower AS \"Positions_lower\", \"Positions\".x AS \"Positions_x\", \"Positions\".y AS \"Positions_y\" \n",
      "FROM \"Positions\" \n",
      "WHERE \"Positions\".id = ?\n",
      "2021-06-27 04:31:53,554 INFO sqlalchemy.engine.Engine [cached since 0.2527s ago] (42,)\n",
      "2021-06-27 04:31:53,556 INFO sqlalchemy.engine.Engine SELECT \"Positions\".id AS \"Positions_id\", \"Positions\".upper AS \"Positions_upper\", \"Positions\".middle AS \"Positions_middle\", \"Positions\".lower AS \"Positions_lower\", \"Positions\".x AS \"Positions_x\", \"Positions\".y AS \"Positions_y\" \n",
      "FROM \"Positions\" \n",
      "WHERE \"Positions\".id = ?\n",
      "2021-06-27 04:31:53,558 INFO sqlalchemy.engine.Engine [cached since 0.2509s ago] (43,)\n",
      "2021-06-27 04:31:53,560 INFO sqlalchemy.engine.Engine SELECT \"Positions\".id AS \"Positions_id\", \"Positions\".upper AS \"Positions_upper\", \"Positions\".middle AS \"Positions_middle\", \"Positions\".lower AS \"Positions_lower\", \"Positions\".x AS \"Positions_x\", \"Positions\".y AS \"Positions_y\" \n",
      "FROM \"Positions\" \n",
      "WHERE \"Positions\".id = ?\n",
      "2021-06-27 04:31:53,561 INFO sqlalchemy.engine.Engine [cached since 0.2593s ago] (44,)\n",
      "2021-06-27 04:31:53,563 INFO sqlalchemy.engine.Engine SELECT \"Positions\".id AS \"Positions_id\", \"Positions\".upper AS \"Positions_upper\", \"Positions\".middle AS \"Positions_middle\", \"Positions\".lower AS \"Positions_lower\", \"Positions\".x AS \"Positions_x\", \"Positions\".y AS \"Positions_y\" \n",
      "FROM \"Positions\" \n",
      "WHERE \"Positions\".id = ?\n",
      "2021-06-27 04:31:53,564 INFO sqlalchemy.engine.Engine [cached since 0.2568s ago] (45,)\n",
      "2021-06-27 04:31:53,566 INFO sqlalchemy.engine.Engine SELECT \"Positions\".id AS \"Positions_id\", \"Positions\".upper AS \"Positions_upper\", \"Positions\".middle AS \"Positions_middle\", \"Positions\".lower AS \"Positions_lower\", \"Positions\".x AS \"Positions_x\", \"Positions\".y AS \"Positions_y\" \n",
      "FROM \"Positions\" \n",
      "WHERE \"Positions\".id = ?\n",
      "2021-06-27 04:31:53,567 INFO sqlalchemy.engine.Engine [cached since 0.2654s ago] (46,)\n",
      "2021-06-27 04:31:53,569 INFO sqlalchemy.engine.Engine SELECT \"Positions\".id AS \"Positions_id\", \"Positions\".upper AS \"Positions_upper\", \"Positions\".middle AS \"Positions_middle\", \"Positions\".lower AS \"Positions_lower\", \"Positions\".x AS \"Positions_x\", \"Positions\".y AS \"Positions_y\" \n",
      "FROM \"Positions\" \n",
      "WHERE \"Positions\".id = ?\n",
      "2021-06-27 04:31:53,570 INFO sqlalchemy.engine.Engine [cached since 0.2631s ago] (47,)\n",
      "2021-06-27 04:31:53,572 INFO sqlalchemy.engine.Engine SELECT \"Positions\".id AS \"Positions_id\", \"Positions\".upper AS \"Positions_upper\", \"Positions\".middle AS \"Positions_middle\", \"Positions\".lower AS \"Positions_lower\", \"Positions\".x AS \"Positions_x\", \"Positions\".y AS \"Positions_y\" \n",
      "FROM \"Positions\" \n",
      "WHERE \"Positions\".id = ?\n",
      "2021-06-27 04:31:53,573 INFO sqlalchemy.engine.Engine [cached since 0.272s ago] (48,)\n",
      "2021-06-27 04:31:53,576 INFO sqlalchemy.engine.Engine SELECT \"Positions\".id AS \"Positions_id\", \"Positions\".upper AS \"Positions_upper\", \"Positions\".middle AS \"Positions_middle\", \"Positions\".lower AS \"Positions_lower\", \"Positions\".x AS \"Positions_x\", \"Positions\".y AS \"Positions_y\" \n",
      "FROM \"Positions\" \n",
      "WHERE \"Positions\".id = ?\n",
      "2021-06-27 04:31:53,576 INFO sqlalchemy.engine.Engine [cached since 0.2695s ago] (49,)\n",
      "2021-06-27 04:31:53,591 INFO sqlalchemy.engine.Engine INSERT INTO \"Boreholes\" (id, length, diameter) VALUES (?, ?, ?)\n",
      "2021-06-27 04:31:53,592 INFO sqlalchemy.engine.Engine [cached since 0.3184s ago] ('BH006', 26.0, 0.31)\n",
      "2021-06-27 04:31:53,594 INFO sqlalchemy.engine.Engine INSERT INTO \"Positions\" (id, upper, middle, lower, x, y) VALUES (?, ?, ?, ?, ?, ?)\n",
      "2021-06-27 04:31:53,595 INFO sqlalchemy.engine.Engine [cached since 0.3167s ago] ((50, 0.0, 0.0, 0.0, 152375.0, 121002.0), (51, 1.0, 1.0, 1.0, 152375.0, 121002.0), (52, 1.0, 1.0, 1.0, 152375.0, 121002.0), (53, 3.0, 3.0, 3.0, 152375.0, 121002.0), (54, 3.0, 3.0, 3.0, 152375.0, 121002.0), (55, 9.0, 9.0, 9.0, 152375.0, 121002.0), (56, 9.0, 9.0, 9.0, 152375.0, 121002.0), (57, 15.0, 15.0, 15.0, 152375.0, 121002.0), (58, 15.0, 15.0, 15.0, 152375.0, 121002.0), (59, 26.0, 26.0, 26.0, 152375.0, 121002.0))\n",
      "2021-06-27 04:31:53,597 INFO sqlalchemy.engine.Engine INSERT INTO \"Intervals\" (id, borehole, interval_number, description, top_id, base_id) VALUES (?, ?, ?, ?, ?, ?)\n",
      "2021-06-27 04:31:53,598 INFO sqlalchemy.engine.Engine [cached since 0.3161s ago] ((25, 'BH006', 0, 'Sable VS', 50, 51), (26, 'BH006', 1, 'Argile VS', 52, 53), (27, 'BH006', 2, 'Marne VS', 54, 55), (28, 'BH006', 3, 'Charbon VS', 56, 57), (29, 'BH006', 4, 'Dolomie VS', 58, 59))\n",
      "2021-06-27 04:31:53,600 INFO sqlalchemy.engine.Engine COMMIT\n",
      "2021-06-27 04:31:53,604 INFO sqlalchemy.engine.Engine BEGIN (implicit)\n",
      "2021-06-27 04:31:53,606 INFO sqlalchemy.engine.Engine SELECT \"Boreholes\".id AS \"Boreholes_id\", \"Boreholes\".length AS \"Boreholes_length\", \"Boreholes\".diameter AS \"Boreholes_diameter\" \n",
      "FROM \"Boreholes\"\n",
      "2021-06-27 04:31:53,607 INFO sqlalchemy.engine.Engine [cached since 0.3547s ago] ()\n",
      "2021-06-27 04:31:53,609 INFO sqlalchemy.engine.Engine SELECT \"Intervals\".id AS \"Intervals_id\", \"Intervals\".borehole AS \"Intervals_borehole\", \"Intervals\".interval_number AS \"Intervals_interval_number\", \"Intervals\".description AS \"Intervals_description\", \"Intervals\".top_id AS \"Intervals_top_id\", \"Intervals\".base_id AS \"Intervals_base_id\" \n",
      "FROM \"Intervals\" \n",
      "WHERE ? = \"Intervals\".borehole\n"
     ]
    },
    {
     "name": "stdout",
     "output_type": "stream",
     "text": [
      "2021-06-27 04:31:53,610 INFO sqlalchemy.engine.Engine [cached since 0.3153s ago] ('BH006',)\n",
      "2021-06-27 04:31:53,612 INFO sqlalchemy.engine.Engine SELECT \"Positions\".id AS \"Positions_id\", \"Positions\".upper AS \"Positions_upper\", \"Positions\".middle AS \"Positions_middle\", \"Positions\".lower AS \"Positions_lower\", \"Positions\".x AS \"Positions_x\", \"Positions\".y AS \"Positions_y\" \n",
      "FROM \"Positions\" \n",
      "WHERE \"Positions\".id = ?\n",
      "2021-06-27 04:31:53,613 INFO sqlalchemy.engine.Engine [cached since 0.3113s ago] (50,)\n",
      "2021-06-27 04:31:53,615 INFO sqlalchemy.engine.Engine SELECT \"Positions\".id AS \"Positions_id\", \"Positions\".upper AS \"Positions_upper\", \"Positions\".middle AS \"Positions_middle\", \"Positions\".lower AS \"Positions_lower\", \"Positions\".x AS \"Positions_x\", \"Positions\".y AS \"Positions_y\" \n",
      "FROM \"Positions\" \n",
      "WHERE \"Positions\".id = ?\n",
      "2021-06-27 04:31:53,616 INFO sqlalchemy.engine.Engine [cached since 0.3089s ago] (51,)\n",
      "2021-06-27 04:31:53,618 INFO sqlalchemy.engine.Engine SELECT \"Positions\".id AS \"Positions_id\", \"Positions\".upper AS \"Positions_upper\", \"Positions\".middle AS \"Positions_middle\", \"Positions\".lower AS \"Positions_lower\", \"Positions\".x AS \"Positions_x\", \"Positions\".y AS \"Positions_y\" \n",
      "FROM \"Positions\" \n",
      "WHERE \"Positions\".id = ?\n",
      "2021-06-27 04:31:53,619 INFO sqlalchemy.engine.Engine [cached since 0.3179s ago] (52,)\n",
      "2021-06-27 04:31:53,622 INFO sqlalchemy.engine.Engine SELECT \"Positions\".id AS \"Positions_id\", \"Positions\".upper AS \"Positions_upper\", \"Positions\".middle AS \"Positions_middle\", \"Positions\".lower AS \"Positions_lower\", \"Positions\".x AS \"Positions_x\", \"Positions\".y AS \"Positions_y\" \n",
      "FROM \"Positions\" \n",
      "WHERE \"Positions\".id = ?\n",
      "2021-06-27 04:31:53,622 INFO sqlalchemy.engine.Engine [cached since 0.3157s ago] (53,)\n",
      "2021-06-27 04:31:53,624 INFO sqlalchemy.engine.Engine SELECT \"Positions\".id AS \"Positions_id\", \"Positions\".upper AS \"Positions_upper\", \"Positions\".middle AS \"Positions_middle\", \"Positions\".lower AS \"Positions_lower\", \"Positions\".x AS \"Positions_x\", \"Positions\".y AS \"Positions_y\" \n",
      "FROM \"Positions\" \n",
      "WHERE \"Positions\".id = ?\n",
      "2021-06-27 04:31:53,626 INFO sqlalchemy.engine.Engine [cached since 0.3241s ago] (54,)\n",
      "2021-06-27 04:31:53,627 INFO sqlalchemy.engine.Engine SELECT \"Positions\".id AS \"Positions_id\", \"Positions\".upper AS \"Positions_upper\", \"Positions\".middle AS \"Positions_middle\", \"Positions\".lower AS \"Positions_lower\", \"Positions\".x AS \"Positions_x\", \"Positions\".y AS \"Positions_y\" \n",
      "FROM \"Positions\" \n",
      "WHERE \"Positions\".id = ?\n",
      "2021-06-27 04:31:53,628 INFO sqlalchemy.engine.Engine [cached since 0.3211s ago] (55,)\n",
      "2021-06-27 04:31:53,630 INFO sqlalchemy.engine.Engine SELECT \"Positions\".id AS \"Positions_id\", \"Positions\".upper AS \"Positions_upper\", \"Positions\".middle AS \"Positions_middle\", \"Positions\".lower AS \"Positions_lower\", \"Positions\".x AS \"Positions_x\", \"Positions\".y AS \"Positions_y\" \n",
      "FROM \"Positions\" \n",
      "WHERE \"Positions\".id = ?\n",
      "2021-06-27 04:31:53,630 INFO sqlalchemy.engine.Engine [cached since 0.3287s ago] (56,)\n",
      "2021-06-27 04:31:53,632 INFO sqlalchemy.engine.Engine SELECT \"Positions\".id AS \"Positions_id\", \"Positions\".upper AS \"Positions_upper\", \"Positions\".middle AS \"Positions_middle\", \"Positions\".lower AS \"Positions_lower\", \"Positions\".x AS \"Positions_x\", \"Positions\".y AS \"Positions_y\" \n",
      "FROM \"Positions\" \n",
      "WHERE \"Positions\".id = ?\n",
      "2021-06-27 04:31:53,633 INFO sqlalchemy.engine.Engine [cached since 0.3258s ago] (57,)\n",
      "2021-06-27 04:31:53,634 INFO sqlalchemy.engine.Engine SELECT \"Positions\".id AS \"Positions_id\", \"Positions\".upper AS \"Positions_upper\", \"Positions\".middle AS \"Positions_middle\", \"Positions\".lower AS \"Positions_lower\", \"Positions\".x AS \"Positions_x\", \"Positions\".y AS \"Positions_y\" \n",
      "FROM \"Positions\" \n",
      "WHERE \"Positions\".id = ?\n",
      "2021-06-27 04:31:53,635 INFO sqlalchemy.engine.Engine [cached since 0.3333s ago] (58,)\n",
      "2021-06-27 04:31:53,637 INFO sqlalchemy.engine.Engine SELECT \"Positions\".id AS \"Positions_id\", \"Positions\".upper AS \"Positions_upper\", \"Positions\".middle AS \"Positions_middle\", \"Positions\".lower AS \"Positions_lower\", \"Positions\".x AS \"Positions_x\", \"Positions\".y AS \"Positions_y\" \n",
      "FROM \"Positions\" \n",
      "WHERE \"Positions\".id = ?\n",
      "2021-06-27 04:31:53,637 INFO sqlalchemy.engine.Engine [cached since 0.3306s ago] (59,)\n",
      "2021-06-27 04:31:53,649 INFO sqlalchemy.engine.Engine INSERT INTO \"Boreholes\" (id, length, diameter) VALUES (?, ?, ?)\n",
      "2021-06-27 04:31:53,650 INFO sqlalchemy.engine.Engine [cached since 0.3763s ago] ('BH007', 45.0, 0.57)\n",
      "2021-06-27 04:31:53,652 INFO sqlalchemy.engine.Engine INSERT INTO \"Positions\" (id, upper, middle, lower, x, y) VALUES (?, ?, ?, ?, ?, ?)\n",
      "2021-06-27 04:31:53,653 INFO sqlalchemy.engine.Engine [cached since 0.3747s ago] ((60, 0.0, 0.0, 0.0, 152794.0, 121111.0), (61, 4.0, 4.0, 4.0, 152794.0, 121111.0), (62, 4.0, 4.0, 4.0, 152794.0, 121111.0), (63, 8.0, 8.0, 8.0, 152794.0, 121111.0), (64, 8.0, 8.0, 8.0, 152794.0, 121111.0), (65, 18.0, 18.0, 18.0, 152794.0, 121111.0), (66, 18.0, 18.0, 18.0, 152794.0, 121111.0), (67, 19.0, 19.0, 19.0, 152794.0, 121111.0)  ... displaying 10 of 12 total bound parameter sets ...  (70, 41.0, 41.0, 41.0, 152794.0, 121111.0), (71, 45.0, 45.0, 45.0, 152794.0, 121111.0))\n",
      "2021-06-27 04:31:53,655 INFO sqlalchemy.engine.Engine INSERT INTO \"Intervals\" (id, borehole, interval_number, description, top_id, base_id) VALUES (?, ?, ?, ?, ?, ?)\n",
      "2021-06-27 04:31:53,656 INFO sqlalchemy.engine.Engine [cached since 0.3744s ago] ((30, 'BH007', 0, 'Sable VI', 60, 61), (31, 'BH007', 1, 'Argile VS', 62, 63), (32, 'BH007', 2, 'Marne VS', 64, 65), (33, 'BH007', 3, 'Charbon VR', 66, 67), (34, 'BH007', 4, 'Dolomie VR', 68, 69), (35, 'BH007', 5, 'Calcaire Cl', 70, 71))\n",
      "2021-06-27 04:31:53,657 INFO sqlalchemy.engine.Engine COMMIT\n",
      "2021-06-27 04:31:53,661 INFO sqlalchemy.engine.Engine BEGIN (implicit)\n",
      "2021-06-27 04:31:53,662 INFO sqlalchemy.engine.Engine SELECT \"Boreholes\".id AS \"Boreholes_id\", \"Boreholes\".length AS \"Boreholes_length\", \"Boreholes\".diameter AS \"Boreholes_diameter\" \n",
      "FROM \"Boreholes\"\n",
      "2021-06-27 04:31:53,663 INFO sqlalchemy.engine.Engine [cached since 0.4108s ago] ()\n",
      "2021-06-27 04:31:53,665 INFO sqlalchemy.engine.Engine SELECT \"Intervals\".id AS \"Intervals_id\", \"Intervals\".borehole AS \"Intervals_borehole\", \"Intervals\".interval_number AS \"Intervals_interval_number\", \"Intervals\".description AS \"Intervals_description\", \"Intervals\".top_id AS \"Intervals_top_id\", \"Intervals\".base_id AS \"Intervals_base_id\" \n",
      "FROM \"Intervals\" \n",
      "WHERE ? = \"Intervals\".borehole\n",
      "2021-06-27 04:31:53,666 INFO sqlalchemy.engine.Engine [cached since 0.3712s ago] ('BH007',)\n",
      "2021-06-27 04:31:53,668 INFO sqlalchemy.engine.Engine SELECT \"Positions\".id AS \"Positions_id\", \"Positions\".upper AS \"Positions_upper\", \"Positions\".middle AS \"Positions_middle\", \"Positions\".lower AS \"Positions_lower\", \"Positions\".x AS \"Positions_x\", \"Positions\".y AS \"Positions_y\" \n",
      "FROM \"Positions\" \n",
      "WHERE \"Positions\".id = ?\n",
      "2021-06-27 04:31:53,669 INFO sqlalchemy.engine.Engine [cached since 0.3674s ago] (60,)\n",
      "2021-06-27 04:31:53,671 INFO sqlalchemy.engine.Engine SELECT \"Positions\".id AS \"Positions_id\", \"Positions\".upper AS \"Positions_upper\", \"Positions\".middle AS \"Positions_middle\", \"Positions\".lower AS \"Positions_lower\", \"Positions\".x AS \"Positions_x\", \"Positions\".y AS \"Positions_y\" \n",
      "FROM \"Positions\" \n",
      "WHERE \"Positions\".id = ?\n",
      "2021-06-27 04:31:53,672 INFO sqlalchemy.engine.Engine [cached since 0.3653s ago] (61,)\n",
      "2021-06-27 04:31:53,674 INFO sqlalchemy.engine.Engine SELECT \"Positions\".id AS \"Positions_id\", \"Positions\".upper AS \"Positions_upper\", \"Positions\".middle AS \"Positions_middle\", \"Positions\".lower AS \"Positions_lower\", \"Positions\".x AS \"Positions_x\", \"Positions\".y AS \"Positions_y\" \n",
      "FROM \"Positions\" \n",
      "WHERE \"Positions\".id = ?\n",
      "2021-06-27 04:31:53,675 INFO sqlalchemy.engine.Engine [cached since 0.3731s ago] (62,)\n",
      "2021-06-27 04:31:53,676 INFO sqlalchemy.engine.Engine SELECT \"Positions\".id AS \"Positions_id\", \"Positions\".upper AS \"Positions_upper\", \"Positions\".middle AS \"Positions_middle\", \"Positions\".lower AS \"Positions_lower\", \"Positions\".x AS \"Positions_x\", \"Positions\".y AS \"Positions_y\" \n",
      "FROM \"Positions\" \n",
      "WHERE \"Positions\".id = ?\n",
      "2021-06-27 04:31:53,677 INFO sqlalchemy.engine.Engine [cached since 0.3702s ago] (63,)\n",
      "2021-06-27 04:31:53,679 INFO sqlalchemy.engine.Engine SELECT \"Positions\".id AS \"Positions_id\", \"Positions\".upper AS \"Positions_upper\", \"Positions\".middle AS \"Positions_middle\", \"Positions\".lower AS \"Positions_lower\", \"Positions\".x AS \"Positions_x\", \"Positions\".y AS \"Positions_y\" \n",
      "FROM \"Positions\" \n",
      "WHERE \"Positions\".id = ?\n"
     ]
    },
    {
     "name": "stdout",
     "output_type": "stream",
     "text": [
      "2021-06-27 04:31:53,680 INFO sqlalchemy.engine.Engine [cached since 0.378s ago] (64,)\n",
      "2021-06-27 04:31:53,681 INFO sqlalchemy.engine.Engine SELECT \"Positions\".id AS \"Positions_id\", \"Positions\".upper AS \"Positions_upper\", \"Positions\".middle AS \"Positions_middle\", \"Positions\".lower AS \"Positions_lower\", \"Positions\".x AS \"Positions_x\", \"Positions\".y AS \"Positions_y\" \n",
      "FROM \"Positions\" \n",
      "WHERE \"Positions\".id = ?\n",
      "2021-06-27 04:31:53,682 INFO sqlalchemy.engine.Engine [cached since 0.3754s ago] (65,)\n",
      "2021-06-27 04:31:53,684 INFO sqlalchemy.engine.Engine SELECT \"Positions\".id AS \"Positions_id\", \"Positions\".upper AS \"Positions_upper\", \"Positions\".middle AS \"Positions_middle\", \"Positions\".lower AS \"Positions_lower\", \"Positions\".x AS \"Positions_x\", \"Positions\".y AS \"Positions_y\" \n",
      "FROM \"Positions\" \n",
      "WHERE \"Positions\".id = ?\n",
      "2021-06-27 04:31:53,685 INFO sqlalchemy.engine.Engine [cached since 0.384s ago] (66,)\n",
      "2021-06-27 04:31:53,688 INFO sqlalchemy.engine.Engine SELECT \"Positions\".id AS \"Positions_id\", \"Positions\".upper AS \"Positions_upper\", \"Positions\".middle AS \"Positions_middle\", \"Positions\".lower AS \"Positions_lower\", \"Positions\".x AS \"Positions_x\", \"Positions\".y AS \"Positions_y\" \n",
      "FROM \"Positions\" \n",
      "WHERE \"Positions\".id = ?\n",
      "2021-06-27 04:31:53,689 INFO sqlalchemy.engine.Engine [cached since 0.3822s ago] (67,)\n",
      "2021-06-27 04:31:53,691 INFO sqlalchemy.engine.Engine SELECT \"Positions\".id AS \"Positions_id\", \"Positions\".upper AS \"Positions_upper\", \"Positions\".middle AS \"Positions_middle\", \"Positions\".lower AS \"Positions_lower\", \"Positions\".x AS \"Positions_x\", \"Positions\".y AS \"Positions_y\" \n",
      "FROM \"Positions\" \n",
      "WHERE \"Positions\".id = ?\n",
      "2021-06-27 04:31:53,692 INFO sqlalchemy.engine.Engine [cached since 0.3907s ago] (68,)\n",
      "2021-06-27 04:31:53,694 INFO sqlalchemy.engine.Engine SELECT \"Positions\".id AS \"Positions_id\", \"Positions\".upper AS \"Positions_upper\", \"Positions\".middle AS \"Positions_middle\", \"Positions\".lower AS \"Positions_lower\", \"Positions\".x AS \"Positions_x\", \"Positions\".y AS \"Positions_y\" \n",
      "FROM \"Positions\" \n",
      "WHERE \"Positions\".id = ?\n",
      "2021-06-27 04:31:53,695 INFO sqlalchemy.engine.Engine [cached since 0.3882s ago] (69,)\n",
      "2021-06-27 04:31:53,697 INFO sqlalchemy.engine.Engine SELECT \"Positions\".id AS \"Positions_id\", \"Positions\".upper AS \"Positions_upper\", \"Positions\".middle AS \"Positions_middle\", \"Positions\".lower AS \"Positions_lower\", \"Positions\".x AS \"Positions_x\", \"Positions\".y AS \"Positions_y\" \n",
      "FROM \"Positions\" \n",
      "WHERE \"Positions\".id = ?\n",
      "2021-06-27 04:31:53,698 INFO sqlalchemy.engine.Engine [cached since 0.3968s ago] (70,)\n",
      "2021-06-27 04:31:53,700 INFO sqlalchemy.engine.Engine SELECT \"Positions\".id AS \"Positions_id\", \"Positions\".upper AS \"Positions_upper\", \"Positions\".middle AS \"Positions_middle\", \"Positions\".lower AS \"Positions_lower\", \"Positions\".x AS \"Positions_x\", \"Positions\".y AS \"Positions_y\" \n",
      "FROM \"Positions\" \n",
      "WHERE \"Positions\".id = ?\n",
      "2021-06-27 04:31:53,701 INFO sqlalchemy.engine.Engine [cached since 0.3945s ago] (71,)\n",
      "2021-06-27 04:31:53,715 INFO sqlalchemy.engine.Engine INSERT INTO \"Boreholes\" (id, length, diameter) VALUES (?, ?, ?)\n",
      "2021-06-27 04:31:53,716 INFO sqlalchemy.engine.Engine [cached since 0.4425s ago] ('BH008', 35.0, 0.39)\n",
      "2021-06-27 04:31:53,718 INFO sqlalchemy.engine.Engine INSERT INTO \"Positions\" (id, upper, middle, lower, x, y) VALUES (?, ?, ?, ?, ?, ?)\n",
      "2021-06-27 04:31:53,719 INFO sqlalchemy.engine.Engine [cached since 0.4409s ago] ((72, 0.0, 0.0, 0.0, 152150.0, 121579.0), (73, 3.0, 3.0, 3.0, 152150.0, 121579.0), (74, 3.0, 3.0, 3.0, 152150.0, 121579.0), (75, 4.0, 4.0, 4.0, 152150.0, 121579.0), (76, 4.0, 4.0, 4.0, 152150.0, 121579.0), (77, 10.0, 10.0, 10.0, 152150.0, 121579.0), (78, 10.0, 10.0, 10.0, 152150.0, 121579.0), (79, 15.0, 15.0, 15.0, 152150.0, 121579.0), (80, 15.0, 15.0, 15.0, 152150.0, 121579.0), (81, 35.0, 35.0, 35.0, 152150.0, 121579.0))\n",
      "2021-06-27 04:31:53,721 INFO sqlalchemy.engine.Engine INSERT INTO \"Intervals\" (id, borehole, interval_number, description, top_id, base_id) VALUES (?, ?, ?, ?, ?, ?)\n",
      "2021-06-27 04:31:53,722 INFO sqlalchemy.engine.Engine [cached since 0.4403s ago] ((36, 'BH008', 0, 'Sable VI', 72, 73), (37, 'BH008', 1, 'Argile VI', 74, 75), (38, 'BH008', 2, 'Marne VI', 76, 77), (39, 'BH008', 3, 'Charbon VR', 78, 79), (40, 'BH008', 4, 'Dolomie VI', 80, 81))\n",
      "2021-06-27 04:31:53,724 INFO sqlalchemy.engine.Engine COMMIT\n",
      "2021-06-27 04:31:53,727 INFO sqlalchemy.engine.Engine BEGIN (implicit)\n",
      "2021-06-27 04:31:53,728 INFO sqlalchemy.engine.Engine SELECT \"Boreholes\".id AS \"Boreholes_id\", \"Boreholes\".length AS \"Boreholes_length\", \"Boreholes\".diameter AS \"Boreholes_diameter\" \n",
      "FROM \"Boreholes\"\n",
      "2021-06-27 04:31:53,729 INFO sqlalchemy.engine.Engine [cached since 0.4769s ago] ()\n",
      "2021-06-27 04:31:53,731 INFO sqlalchemy.engine.Engine SELECT \"Intervals\".id AS \"Intervals_id\", \"Intervals\".borehole AS \"Intervals_borehole\", \"Intervals\".interval_number AS \"Intervals_interval_number\", \"Intervals\".description AS \"Intervals_description\", \"Intervals\".top_id AS \"Intervals_top_id\", \"Intervals\".base_id AS \"Intervals_base_id\" \n",
      "FROM \"Intervals\" \n",
      "WHERE ? = \"Intervals\".borehole\n",
      "2021-06-27 04:31:53,731 INFO sqlalchemy.engine.Engine [cached since 0.4369s ago] ('BH008',)\n",
      "2021-06-27 04:31:53,734 INFO sqlalchemy.engine.Engine SELECT \"Positions\".id AS \"Positions_id\", \"Positions\".upper AS \"Positions_upper\", \"Positions\".middle AS \"Positions_middle\", \"Positions\".lower AS \"Positions_lower\", \"Positions\".x AS \"Positions_x\", \"Positions\".y AS \"Positions_y\" \n",
      "FROM \"Positions\" \n",
      "WHERE \"Positions\".id = ?\n",
      "2021-06-27 04:31:53,735 INFO sqlalchemy.engine.Engine [cached since 0.4337s ago] (72,)\n",
      "2021-06-27 04:31:53,737 INFO sqlalchemy.engine.Engine SELECT \"Positions\".id AS \"Positions_id\", \"Positions\".upper AS \"Positions_upper\", \"Positions\".middle AS \"Positions_middle\", \"Positions\".lower AS \"Positions_lower\", \"Positions\".x AS \"Positions_x\", \"Positions\".y AS \"Positions_y\" \n",
      "FROM \"Positions\" \n",
      "WHERE \"Positions\".id = ?\n",
      "2021-06-27 04:31:53,739 INFO sqlalchemy.engine.Engine [cached since 0.4318s ago] (73,)\n",
      "2021-06-27 04:31:53,740 INFO sqlalchemy.engine.Engine SELECT \"Positions\".id AS \"Positions_id\", \"Positions\".upper AS \"Positions_upper\", \"Positions\".middle AS \"Positions_middle\", \"Positions\".lower AS \"Positions_lower\", \"Positions\".x AS \"Positions_x\", \"Positions\".y AS \"Positions_y\" \n",
      "FROM \"Positions\" \n",
      "WHERE \"Positions\".id = ?\n",
      "2021-06-27 04:31:53,741 INFO sqlalchemy.engine.Engine [cached since 0.4398s ago] (74,)\n",
      "2021-06-27 04:31:53,743 INFO sqlalchemy.engine.Engine SELECT \"Positions\".id AS \"Positions_id\", \"Positions\".upper AS \"Positions_upper\", \"Positions\".middle AS \"Positions_middle\", \"Positions\".lower AS \"Positions_lower\", \"Positions\".x AS \"Positions_x\", \"Positions\".y AS \"Positions_y\" \n",
      "FROM \"Positions\" \n",
      "WHERE \"Positions\".id = ?\n",
      "2021-06-27 04:31:53,744 INFO sqlalchemy.engine.Engine [cached since 0.4372s ago] (75,)\n",
      "2021-06-27 04:31:53,746 INFO sqlalchemy.engine.Engine SELECT \"Positions\".id AS \"Positions_id\", \"Positions\".upper AS \"Positions_upper\", \"Positions\".middle AS \"Positions_middle\", \"Positions\".lower AS \"Positions_lower\", \"Positions\".x AS \"Positions_x\", \"Positions\".y AS \"Positions_y\" \n",
      "FROM \"Positions\" \n",
      "WHERE \"Positions\".id = ?\n",
      "2021-06-27 04:31:53,747 INFO sqlalchemy.engine.Engine [cached since 0.4453s ago] (76,)\n",
      "2021-06-27 04:31:53,749 INFO sqlalchemy.engine.Engine SELECT \"Positions\".id AS \"Positions_id\", \"Positions\".upper AS \"Positions_upper\", \"Positions\".middle AS \"Positions_middle\", \"Positions\".lower AS \"Positions_lower\", \"Positions\".x AS \"Positions_x\", \"Positions\".y AS \"Positions_y\" \n",
      "FROM \"Positions\" \n",
      "WHERE \"Positions\".id = ?\n",
      "2021-06-27 04:31:53,750 INFO sqlalchemy.engine.Engine [cached since 0.4428s ago] (77,)\n",
      "2021-06-27 04:31:53,752 INFO sqlalchemy.engine.Engine SELECT \"Positions\".id AS \"Positions_id\", \"Positions\".upper AS \"Positions_upper\", \"Positions\".middle AS \"Positions_middle\", \"Positions\".lower AS \"Positions_lower\", \"Positions\".x AS \"Positions_x\", \"Positions\".y AS \"Positions_y\" \n",
      "FROM \"Positions\" \n",
      "WHERE \"Positions\".id = ?\n",
      "2021-06-27 04:31:53,753 INFO sqlalchemy.engine.Engine [cached since 0.4519s ago] (78,)\n",
      "2021-06-27 04:31:53,755 INFO sqlalchemy.engine.Engine SELECT \"Positions\".id AS \"Positions_id\", \"Positions\".upper AS \"Positions_upper\", \"Positions\".middle AS \"Positions_middle\", \"Positions\".lower AS \"Positions_lower\", \"Positions\".x AS \"Positions_x\", \"Positions\".y AS \"Positions_y\" \n",
      "FROM \"Positions\" \n",
      "WHERE \"Positions\".id = ?\n"
     ]
    },
    {
     "name": "stdout",
     "output_type": "stream",
     "text": [
      "2021-06-27 04:31:53,756 INFO sqlalchemy.engine.Engine [cached since 0.4493s ago] (79,)\n",
      "2021-06-27 04:31:53,758 INFO sqlalchemy.engine.Engine SELECT \"Positions\".id AS \"Positions_id\", \"Positions\".upper AS \"Positions_upper\", \"Positions\".middle AS \"Positions_middle\", \"Positions\".lower AS \"Positions_lower\", \"Positions\".x AS \"Positions_x\", \"Positions\".y AS \"Positions_y\" \n",
      "FROM \"Positions\" \n",
      "WHERE \"Positions\".id = ?\n",
      "2021-06-27 04:31:53,759 INFO sqlalchemy.engine.Engine [cached since 0.457s ago] (80,)\n",
      "2021-06-27 04:31:53,760 INFO sqlalchemy.engine.Engine SELECT \"Positions\".id AS \"Positions_id\", \"Positions\".upper AS \"Positions_upper\", \"Positions\".middle AS \"Positions_middle\", \"Positions\".lower AS \"Positions_lower\", \"Positions\".x AS \"Positions_x\", \"Positions\".y AS \"Positions_y\" \n",
      "FROM \"Positions\" \n",
      "WHERE \"Positions\".id = ?\n",
      "2021-06-27 04:31:53,761 INFO sqlalchemy.engine.Engine [cached since 0.4541s ago] (81,)\n",
      "2021-06-27 04:31:53,773 INFO sqlalchemy.engine.Engine INSERT INTO \"Boreholes\" (id, length, diameter) VALUES (?, ?, ?)\n",
      "2021-06-27 04:31:53,774 INFO sqlalchemy.engine.Engine [cached since 0.4998s ago] ('BH009', 40.0, 0.5)\n",
      "2021-06-27 04:31:53,775 INFO sqlalchemy.engine.Engine INSERT INTO \"Positions\" (id, upper, middle, lower, x, y) VALUES (?, ?, ?, ?, ?, ?)\n",
      "2021-06-27 04:31:53,776 INFO sqlalchemy.engine.Engine [cached since 0.4978s ago] ((82, 0.0, 0.0, 0.0, 152052.0, 121293.0), (83, 6.0, 6.0, 6.0, 152052.0, 121293.0), (84, 6.0, 6.0, 6.0, 152052.0, 121293.0), (85, 8.0, 8.0, 8.0, 152052.0, 121293.0), (86, 8.0, 8.0, 8.0, 152052.0, 121293.0), (87, 18.0, 18.0, 18.0, 152052.0, 121293.0), (88, 18.0, 18.0, 18.0, 152052.0, 121293.0), (89, 22.0, 22.0, 22.0, 152052.0, 121293.0), (90, 22.0, 22.0, 22.0, 152052.0, 121293.0), (91, 40.0, 40.0, 40.0, 152052.0, 121293.0))\n",
      "2021-06-27 04:31:53,778 INFO sqlalchemy.engine.Engine INSERT INTO \"Intervals\" (id, borehole, interval_number, description, top_id, base_id) VALUES (?, ?, ?, ?, ?, ?)\n",
      "2021-06-27 04:31:53,778 INFO sqlalchemy.engine.Engine [cached since 0.4968s ago] ((41, 'BH009', 0, 'Sable VS', 82, 83), (42, 'BH009', 1, 'Argile VR', 84, 85), (43, 'BH009', 2, 'Marne VR', 86, 87), (44, 'BH009', 3, 'Charbon VR', 88, 89), (45, 'BH009', 4, 'Dolomie VS', 90, 91))\n",
      "2021-06-27 04:31:53,779 INFO sqlalchemy.engine.Engine COMMIT\n",
      "2021-06-27 04:31:53,784 INFO sqlalchemy.engine.Engine BEGIN (implicit)\n",
      "2021-06-27 04:31:53,785 INFO sqlalchemy.engine.Engine SELECT \"Boreholes\".id AS \"Boreholes_id\", \"Boreholes\".length AS \"Boreholes_length\", \"Boreholes\".diameter AS \"Boreholes_diameter\" \n",
      "FROM \"Boreholes\"\n",
      "2021-06-27 04:31:53,786 INFO sqlalchemy.engine.Engine [cached since 0.5338s ago] ()\n",
      "2021-06-27 04:31:53,788 INFO sqlalchemy.engine.Engine SELECT \"Intervals\".id AS \"Intervals_id\", \"Intervals\".borehole AS \"Intervals_borehole\", \"Intervals\".interval_number AS \"Intervals_interval_number\", \"Intervals\".description AS \"Intervals_description\", \"Intervals\".top_id AS \"Intervals_top_id\", \"Intervals\".base_id AS \"Intervals_base_id\" \n",
      "FROM \"Intervals\" \n",
      "WHERE ? = \"Intervals\".borehole\n",
      "2021-06-27 04:31:53,788 INFO sqlalchemy.engine.Engine [cached since 0.4938s ago] ('BH009',)\n",
      "2021-06-27 04:31:53,790 INFO sqlalchemy.engine.Engine SELECT \"Positions\".id AS \"Positions_id\", \"Positions\".upper AS \"Positions_upper\", \"Positions\".middle AS \"Positions_middle\", \"Positions\".lower AS \"Positions_lower\", \"Positions\".x AS \"Positions_x\", \"Positions\".y AS \"Positions_y\" \n",
      "FROM \"Positions\" \n",
      "WHERE \"Positions\".id = ?\n",
      "2021-06-27 04:31:53,791 INFO sqlalchemy.engine.Engine [cached since 0.4894s ago] (82,)\n",
      "2021-06-27 04:31:53,792 INFO sqlalchemy.engine.Engine SELECT \"Positions\".id AS \"Positions_id\", \"Positions\".upper AS \"Positions_upper\", \"Positions\".middle AS \"Positions_middle\", \"Positions\".lower AS \"Positions_lower\", \"Positions\".x AS \"Positions_x\", \"Positions\".y AS \"Positions_y\" \n",
      "FROM \"Positions\" \n",
      "WHERE \"Positions\".id = ?\n",
      "2021-06-27 04:31:53,793 INFO sqlalchemy.engine.Engine [cached since 0.4861s ago] (83,)\n",
      "2021-06-27 04:31:53,795 INFO sqlalchemy.engine.Engine SELECT \"Positions\".id AS \"Positions_id\", \"Positions\".upper AS \"Positions_upper\", \"Positions\".middle AS \"Positions_middle\", \"Positions\".lower AS \"Positions_lower\", \"Positions\".x AS \"Positions_x\", \"Positions\".y AS \"Positions_y\" \n",
      "FROM \"Positions\" \n",
      "WHERE \"Positions\".id = ?\n",
      "2021-06-27 04:31:53,795 INFO sqlalchemy.engine.Engine [cached since 0.4937s ago] (84,)\n",
      "2021-06-27 04:31:53,797 INFO sqlalchemy.engine.Engine SELECT \"Positions\".id AS \"Positions_id\", \"Positions\".upper AS \"Positions_upper\", \"Positions\".middle AS \"Positions_middle\", \"Positions\".lower AS \"Positions_lower\", \"Positions\".x AS \"Positions_x\", \"Positions\".y AS \"Positions_y\" \n",
      "FROM \"Positions\" \n",
      "WHERE \"Positions\".id = ?\n",
      "2021-06-27 04:31:53,798 INFO sqlalchemy.engine.Engine [cached since 0.4911s ago] (85,)\n",
      "2021-06-27 04:31:53,800 INFO sqlalchemy.engine.Engine SELECT \"Positions\".id AS \"Positions_id\", \"Positions\".upper AS \"Positions_upper\", \"Positions\".middle AS \"Positions_middle\", \"Positions\".lower AS \"Positions_lower\", \"Positions\".x AS \"Positions_x\", \"Positions\".y AS \"Positions_y\" \n",
      "FROM \"Positions\" \n",
      "WHERE \"Positions\".id = ?\n",
      "2021-06-27 04:31:53,801 INFO sqlalchemy.engine.Engine [cached since 0.499s ago] (86,)\n",
      "2021-06-27 04:31:53,802 INFO sqlalchemy.engine.Engine SELECT \"Positions\".id AS \"Positions_id\", \"Positions\".upper AS \"Positions_upper\", \"Positions\".middle AS \"Positions_middle\", \"Positions\".lower AS \"Positions_lower\", \"Positions\".x AS \"Positions_x\", \"Positions\".y AS \"Positions_y\" \n",
      "FROM \"Positions\" \n",
      "WHERE \"Positions\".id = ?\n",
      "2021-06-27 04:31:53,803 INFO sqlalchemy.engine.Engine [cached since 0.496s ago] (87,)\n",
      "2021-06-27 04:31:53,804 INFO sqlalchemy.engine.Engine SELECT \"Positions\".id AS \"Positions_id\", \"Positions\".upper AS \"Positions_upper\", \"Positions\".middle AS \"Positions_middle\", \"Positions\".lower AS \"Positions_lower\", \"Positions\".x AS \"Positions_x\", \"Positions\".y AS \"Positions_y\" \n",
      "FROM \"Positions\" \n",
      "WHERE \"Positions\".id = ?\n",
      "2021-06-27 04:31:53,805 INFO sqlalchemy.engine.Engine [cached since 0.5037s ago] (88,)\n",
      "2021-06-27 04:31:53,807 INFO sqlalchemy.engine.Engine SELECT \"Positions\".id AS \"Positions_id\", \"Positions\".upper AS \"Positions_upper\", \"Positions\".middle AS \"Positions_middle\", \"Positions\".lower AS \"Positions_lower\", \"Positions\".x AS \"Positions_x\", \"Positions\".y AS \"Positions_y\" \n",
      "FROM \"Positions\" \n",
      "WHERE \"Positions\".id = ?\n",
      "2021-06-27 04:31:53,808 INFO sqlalchemy.engine.Engine [cached since 0.5012s ago] (89,)\n",
      "2021-06-27 04:31:53,810 INFO sqlalchemy.engine.Engine SELECT \"Positions\".id AS \"Positions_id\", \"Positions\".upper AS \"Positions_upper\", \"Positions\".middle AS \"Positions_middle\", \"Positions\".lower AS \"Positions_lower\", \"Positions\".x AS \"Positions_x\", \"Positions\".y AS \"Positions_y\" \n",
      "FROM \"Positions\" \n",
      "WHERE \"Positions\".id = ?\n",
      "2021-06-27 04:31:53,810 INFO sqlalchemy.engine.Engine [cached since 0.5089s ago] (90,)\n",
      "2021-06-27 04:31:53,812 INFO sqlalchemy.engine.Engine SELECT \"Positions\".id AS \"Positions_id\", \"Positions\".upper AS \"Positions_upper\", \"Positions\".middle AS \"Positions_middle\", \"Positions\".lower AS \"Positions_lower\", \"Positions\".x AS \"Positions_x\", \"Positions\".y AS \"Positions_y\" \n",
      "FROM \"Positions\" \n",
      "WHERE \"Positions\".id = ?\n",
      "2021-06-27 04:31:53,813 INFO sqlalchemy.engine.Engine [cached since 0.506s ago] (91,)\n",
      "2021-06-27 04:31:53,825 INFO sqlalchemy.engine.Engine INSERT INTO \"Boreholes\" (id, length, diameter) VALUES (?, ?, ?)\n",
      "2021-06-27 04:31:53,826 INFO sqlalchemy.engine.Engine [cached since 0.5518s ago] ('BH10', 14.0, 0.31)\n",
      "2021-06-27 04:31:53,827 INFO sqlalchemy.engine.Engine INSERT INTO \"Positions\" (id, upper, middle, lower, x, y) VALUES (?, ?, ?, ?, ?, ?)\n",
      "2021-06-27 04:31:53,828 INFO sqlalchemy.engine.Engine [cached since 0.5501s ago] ((92, 0.0, 0.0, 0.0, 152315.0, 121754.0), (93, 5.0, 5.0, 5.0, 152315.0, 121754.0), (94, 5.0, 5.0, 5.0, 152315.0, 121754.0), (95, 9.0, 9.0, 9.0, 152315.0, 121754.0), (96, 9.0, 9.0, 9.0, 152315.0, 121754.0), (97, 11.0, 11.0, 11.0, 152315.0, 121754.0), (98, 11.0, 11.0, 11.0, 152315.0, 121754.0), (99, 14.0, 14.0, 14.0, 152315.0, 121754.0))\n",
      "2021-06-27 04:31:53,830 INFO sqlalchemy.engine.Engine INSERT INTO \"Intervals\" (id, borehole, interval_number, description, top_id, base_id) VALUES (?, ?, ?, ?, ?, ?)\n",
      "2021-06-27 04:31:53,831 INFO sqlalchemy.engine.Engine [cached since 0.5491s ago] ((46, 'BH10', 0, 'Sable VR', 92, 93), (47, 'BH10', 1, 'Argile VI', 94, 95), (48, 'BH10', 2, 'Marne VI', 96, 97), (49, 'BH10', 3, 'Charbon VS', 98, 99))\n"
     ]
    },
    {
     "name": "stdout",
     "output_type": "stream",
     "text": [
      "2021-06-27 04:31:53,832 INFO sqlalchemy.engine.Engine COMMIT\n",
      "2021-06-27 04:31:53,838 INFO sqlalchemy.engine.Engine BEGIN (implicit)\n",
      "2021-06-27 04:31:53,839 INFO sqlalchemy.engine.Engine SELECT \"Boreholes\".id AS \"Boreholes_id\", \"Boreholes\".length AS \"Boreholes_length\", \"Boreholes\".diameter AS \"Boreholes_diameter\" \n",
      "FROM \"Boreholes\"\n",
      "2021-06-27 04:31:53,840 INFO sqlalchemy.engine.Engine [cached since 0.5878s ago] ()\n",
      "2021-06-27 04:31:53,842 INFO sqlalchemy.engine.Engine SELECT \"Intervals\".id AS \"Intervals_id\", \"Intervals\".borehole AS \"Intervals_borehole\", \"Intervals\".interval_number AS \"Intervals_interval_number\", \"Intervals\".description AS \"Intervals_description\", \"Intervals\".top_id AS \"Intervals_top_id\", \"Intervals\".base_id AS \"Intervals_base_id\" \n",
      "FROM \"Intervals\" \n",
      "WHERE ? = \"Intervals\".borehole\n",
      "2021-06-27 04:31:53,843 INFO sqlalchemy.engine.Engine [cached since 0.5482s ago] ('BH10',)\n",
      "2021-06-27 04:31:53,845 INFO sqlalchemy.engine.Engine SELECT \"Positions\".id AS \"Positions_id\", \"Positions\".upper AS \"Positions_upper\", \"Positions\".middle AS \"Positions_middle\", \"Positions\".lower AS \"Positions_lower\", \"Positions\".x AS \"Positions_x\", \"Positions\".y AS \"Positions_y\" \n",
      "FROM \"Positions\" \n",
      "WHERE \"Positions\".id = ?\n",
      "2021-06-27 04:31:53,846 INFO sqlalchemy.engine.Engine [cached since 0.5441s ago] (92,)\n",
      "2021-06-27 04:31:53,847 INFO sqlalchemy.engine.Engine SELECT \"Positions\".id AS \"Positions_id\", \"Positions\".upper AS \"Positions_upper\", \"Positions\".middle AS \"Positions_middle\", \"Positions\".lower AS \"Positions_lower\", \"Positions\".x AS \"Positions_x\", \"Positions\".y AS \"Positions_y\" \n",
      "FROM \"Positions\" \n",
      "WHERE \"Positions\".id = ?\n",
      "2021-06-27 04:31:53,848 INFO sqlalchemy.engine.Engine [cached since 0.5417s ago] (93,)\n",
      "2021-06-27 04:31:53,850 INFO sqlalchemy.engine.Engine SELECT \"Positions\".id AS \"Positions_id\", \"Positions\".upper AS \"Positions_upper\", \"Positions\".middle AS \"Positions_middle\", \"Positions\".lower AS \"Positions_lower\", \"Positions\".x AS \"Positions_x\", \"Positions\".y AS \"Positions_y\" \n",
      "FROM \"Positions\" \n",
      "WHERE \"Positions\".id = ?\n",
      "2021-06-27 04:31:53,851 INFO sqlalchemy.engine.Engine [cached since 0.5495s ago] (94,)\n",
      "2021-06-27 04:31:53,852 INFO sqlalchemy.engine.Engine SELECT \"Positions\".id AS \"Positions_id\", \"Positions\".upper AS \"Positions_upper\", \"Positions\".middle AS \"Positions_middle\", \"Positions\".lower AS \"Positions_lower\", \"Positions\".x AS \"Positions_x\", \"Positions\".y AS \"Positions_y\" \n",
      "FROM \"Positions\" \n",
      "WHERE \"Positions\".id = ?\n",
      "2021-06-27 04:31:53,853 INFO sqlalchemy.engine.Engine [cached since 0.5465s ago] (95,)\n",
      "2021-06-27 04:31:53,856 INFO sqlalchemy.engine.Engine SELECT \"Positions\".id AS \"Positions_id\", \"Positions\".upper AS \"Positions_upper\", \"Positions\".middle AS \"Positions_middle\", \"Positions\".lower AS \"Positions_lower\", \"Positions\".x AS \"Positions_x\", \"Positions\".y AS \"Positions_y\" \n",
      "FROM \"Positions\" \n",
      "WHERE \"Positions\".id = ?\n",
      "2021-06-27 04:31:53,856 INFO sqlalchemy.engine.Engine [cached since 0.5549s ago] (96,)\n",
      "2021-06-27 04:31:53,858 INFO sqlalchemy.engine.Engine SELECT \"Positions\".id AS \"Positions_id\", \"Positions\".upper AS \"Positions_upper\", \"Positions\".middle AS \"Positions_middle\", \"Positions\".lower AS \"Positions_lower\", \"Positions\".x AS \"Positions_x\", \"Positions\".y AS \"Positions_y\" \n",
      "FROM \"Positions\" \n",
      "WHERE \"Positions\".id = ?\n",
      "2021-06-27 04:31:53,859 INFO sqlalchemy.engine.Engine [cached since 0.552s ago] (97,)\n",
      "2021-06-27 04:31:53,861 INFO sqlalchemy.engine.Engine SELECT \"Positions\".id AS \"Positions_id\", \"Positions\".upper AS \"Positions_upper\", \"Positions\".middle AS \"Positions_middle\", \"Positions\".lower AS \"Positions_lower\", \"Positions\".x AS \"Positions_x\", \"Positions\".y AS \"Positions_y\" \n",
      "FROM \"Positions\" \n",
      "WHERE \"Positions\".id = ?\n",
      "2021-06-27 04:31:53,861 INFO sqlalchemy.engine.Engine [cached since 0.5598s ago] (98,)\n",
      "2021-06-27 04:31:53,863 INFO sqlalchemy.engine.Engine SELECT \"Positions\".id AS \"Positions_id\", \"Positions\".upper AS \"Positions_upper\", \"Positions\".middle AS \"Positions_middle\", \"Positions\".lower AS \"Positions_lower\", \"Positions\".x AS \"Positions_x\", \"Positions\".y AS \"Positions_y\" \n",
      "FROM \"Positions\" \n",
      "WHERE \"Positions\".id = ?\n",
      "2021-06-27 04:31:53,864 INFO sqlalchemy.engine.Engine [cached since 0.5572s ago] (99,)\n"
     ]
    }
   ],
   "source": [
    "for bh in boreholes:\n",
    "    p.add_borehole(bh)"
   ]
  },
  {
   "cell_type": "code",
   "execution_count": 18,
   "metadata": {},
   "outputs": [
    {
     "name": "stdout",
     "output_type": "stream",
     "text": [
      "2021-06-27 04:31:53,886 INFO sqlalchemy.engine.Engine INSERT INTO \"Linkintervalcomponent\" (int_id, comp_id, extra_data) VALUES (?, ?, ?)\n",
      "2021-06-27 04:31:53,887 INFO sqlalchemy.engine.Engine [generated in 0.00151s] ((0, 3, ''), (1, 2, ''), (2, 0, ''), (3, 1, ''), (4, 6, ''), (5, 7, ''), (6, 5, ''), (7, 8, '')  ... displaying 10 of 50 total bound parameter sets ...  (48, 0, ''), (49, 1, ''))\n",
      "2021-06-27 04:31:53,891 INFO sqlalchemy.engine.Engine COMMIT\n",
      "2021-06-27 04:31:53,895 INFO sqlalchemy.engine.Engine BEGIN (implicit)\n",
      "2021-06-27 04:31:53,896 INFO sqlalchemy.engine.Engine SELECT \"Boreholes\".id AS \"Boreholes_id\", \"Boreholes\".length AS \"Boreholes_length\", \"Boreholes\".diameter AS \"Boreholes_diameter\" \n",
      "FROM \"Boreholes\"\n",
      "2021-06-27 04:31:53,897 INFO sqlalchemy.engine.Engine [cached since 0.6453s ago] ()\n"
     ]
    }
   ],
   "source": [
    "p.add_link_between_components_and_intervals(link_intv_comp)"
   ]
  },
  {
   "cell_type": "code",
   "execution_count": 19,
   "metadata": {},
   "outputs": [
    {
     "name": "stdout",
     "output_type": "stream",
     "text": [
      "2021-06-27 04:31:53,902 INFO sqlalchemy.engine.Engine COMMIT\n",
      "Boreholes in the project :  10\n"
     ]
    }
   ],
   "source": [
    "p.commit()\n",
    "print('Boreholes in the project : ', len(p.boreholes))"
   ]
  },
  {
   "cell_type": "code",
   "execution_count": 20,
   "metadata": {},
   "outputs": [
    {
     "name": "stdout",
     "output_type": "stream",
     "text": [
      "2021-06-27 04:31:53,910 INFO sqlalchemy.engine.Engine BEGIN (implicit)\n",
      "2021-06-27 04:31:53,912 INFO sqlalchemy.engine.Engine SELECT \"Boreholes\".id AS \"Boreholes_id\", \"Boreholes\".length AS \"Boreholes_length\", \"Boreholes\".diameter AS \"Boreholes_diameter\" \n",
      "FROM \"Boreholes\" \n",
      "WHERE \"Boreholes\".id = ?\n",
      "2021-06-27 04:31:53,913 INFO sqlalchemy.engine.Engine [generated in 0.00084s] ('BH001',)\n",
      "2021-06-27 04:31:53,915 INFO sqlalchemy.engine.Engine SELECT \"Intervals\".id AS \"Intervals_id\", \"Intervals\".borehole AS \"Intervals_borehole\", \"Intervals\".interval_number AS \"Intervals_interval_number\", \"Intervals\".description AS \"Intervals_description\", \"Intervals\".top_id AS \"Intervals_top_id\", \"Intervals\".base_id AS \"Intervals_base_id\" \n",
      "FROM \"Intervals\" \n",
      "WHERE ? = \"Intervals\".borehole\n",
      "2021-06-27 04:31:53,916 INFO sqlalchemy.engine.Engine [cached since 0.6211s ago] ('BH001',)\n",
      "2021-06-27 04:31:53,918 INFO sqlalchemy.engine.Engine SELECT \"Boreholes\".id AS \"Boreholes_id\", \"Boreholes\".length AS \"Boreholes_length\", \"Boreholes\".diameter AS \"Boreholes_diameter\" \n",
      "FROM \"Boreholes\" \n",
      "WHERE \"Boreholes\".id = ?\n",
      "2021-06-27 04:31:53,919 INFO sqlalchemy.engine.Engine [cached since 0.006648s ago] ('BH002',)\n",
      "2021-06-27 04:31:53,920 INFO sqlalchemy.engine.Engine SELECT \"Intervals\".id AS \"Intervals_id\", \"Intervals\".borehole AS \"Intervals_borehole\", \"Intervals\".interval_number AS \"Intervals_interval_number\", \"Intervals\".description AS \"Intervals_description\", \"Intervals\".top_id AS \"Intervals_top_id\", \"Intervals\".base_id AS \"Intervals_base_id\" \n",
      "FROM \"Intervals\" \n",
      "WHERE ? = \"Intervals\".borehole\n",
      "2021-06-27 04:31:53,921 INFO sqlalchemy.engine.Engine [cached since 0.626s ago] ('BH002',)\n",
      "2021-06-27 04:31:53,923 INFO sqlalchemy.engine.Engine SELECT \"Boreholes\".id AS \"Boreholes_id\", \"Boreholes\".length AS \"Boreholes_length\", \"Boreholes\".diameter AS \"Boreholes_diameter\" \n",
      "FROM \"Boreholes\" \n",
      "WHERE \"Boreholes\".id = ?\n",
      "2021-06-27 04:31:53,923 INFO sqlalchemy.engine.Engine [cached since 0.01137s ago] ('BH003',)\n",
      "2021-06-27 04:31:53,925 INFO sqlalchemy.engine.Engine SELECT \"Intervals\".id AS \"Intervals_id\", \"Intervals\".borehole AS \"Intervals_borehole\", \"Intervals\".interval_number AS \"Intervals_interval_number\", \"Intervals\".description AS \"Intervals_description\", \"Intervals\".top_id AS \"Intervals_top_id\", \"Intervals\".base_id AS \"Intervals_base_id\" \n",
      "FROM \"Intervals\" \n",
      "WHERE ? = \"Intervals\".borehole\n",
      "2021-06-27 04:31:53,926 INFO sqlalchemy.engine.Engine [cached since 0.631s ago] ('BH003',)\n",
      "2021-06-27 04:31:53,928 INFO sqlalchemy.engine.Engine SELECT \"Boreholes\".id AS \"Boreholes_id\", \"Boreholes\".length AS \"Boreholes_length\", \"Boreholes\".diameter AS \"Boreholes_diameter\" \n",
      "FROM \"Boreholes\" \n",
      "WHERE \"Boreholes\".id = ?\n",
      "2021-06-27 04:31:53,928 INFO sqlalchemy.engine.Engine [cached since 0.01644s ago] ('BH004',)\n",
      "2021-06-27 04:31:53,930 INFO sqlalchemy.engine.Engine SELECT \"Intervals\".id AS \"Intervals_id\", \"Intervals\".borehole AS \"Intervals_borehole\", \"Intervals\".interval_number AS \"Intervals_interval_number\", \"Intervals\".description AS \"Intervals_description\", \"Intervals\".top_id AS \"Intervals_top_id\", \"Intervals\".base_id AS \"Intervals_base_id\" \n",
      "FROM \"Intervals\" \n",
      "WHERE ? = \"Intervals\".borehole\n",
      "2021-06-27 04:31:53,931 INFO sqlalchemy.engine.Engine [cached since 0.636s ago] ('BH004',)\n",
      "2021-06-27 04:31:53,933 INFO sqlalchemy.engine.Engine SELECT \"Boreholes\".id AS \"Boreholes_id\", \"Boreholes\".length AS \"Boreholes_length\", \"Boreholes\".diameter AS \"Boreholes_diameter\" \n",
      "FROM \"Boreholes\" \n",
      "WHERE \"Boreholes\".id = ?\n",
      "2021-06-27 04:31:53,933 INFO sqlalchemy.engine.Engine [cached since 0.02158s ago] ('BH005',)\n",
      "2021-06-27 04:31:53,935 INFO sqlalchemy.engine.Engine SELECT \"Intervals\".id AS \"Intervals_id\", \"Intervals\".borehole AS \"Intervals_borehole\", \"Intervals\".interval_number AS \"Intervals_interval_number\", \"Intervals\".description AS \"Intervals_description\", \"Intervals\".top_id AS \"Intervals_top_id\", \"Intervals\".base_id AS \"Intervals_base_id\" \n",
      "FROM \"Intervals\" \n",
      "WHERE ? = \"Intervals\".borehole\n",
      "2021-06-27 04:31:53,936 INFO sqlalchemy.engine.Engine [cached since 0.6411s ago] ('BH005',)\n",
      "2021-06-27 04:31:53,939 INFO sqlalchemy.engine.Engine SELECT \"Boreholes\".id AS \"Boreholes_id\", \"Boreholes\".length AS \"Boreholes_length\", \"Boreholes\".diameter AS \"Boreholes_diameter\" \n",
      "FROM \"Boreholes\" \n",
      "WHERE \"Boreholes\".id = ?\n",
      "2021-06-27 04:31:53,940 INFO sqlalchemy.engine.Engine [cached since 0.02764s ago] ('BH006',)\n",
      "2021-06-27 04:31:53,941 INFO sqlalchemy.engine.Engine SELECT \"Intervals\".id AS \"Intervals_id\", \"Intervals\".borehole AS \"Intervals_borehole\", \"Intervals\".interval_number AS \"Intervals_interval_number\", \"Intervals\".description AS \"Intervals_description\", \"Intervals\".top_id AS \"Intervals_top_id\", \"Intervals\".base_id AS \"Intervals_base_id\" \n",
      "FROM \"Intervals\" \n",
      "WHERE ? = \"Intervals\".borehole\n",
      "2021-06-27 04:31:53,942 INFO sqlalchemy.engine.Engine [cached since 0.647s ago] ('BH006',)\n",
      "2021-06-27 04:31:53,944 INFO sqlalchemy.engine.Engine SELECT \"Boreholes\".id AS \"Boreholes_id\", \"Boreholes\".length AS \"Boreholes_length\", \"Boreholes\".diameter AS \"Boreholes_diameter\" \n",
      "FROM \"Boreholes\" \n",
      "WHERE \"Boreholes\".id = ?\n",
      "2021-06-27 04:31:53,944 INFO sqlalchemy.engine.Engine [cached since 0.03239s ago] ('BH007',)\n",
      "2021-06-27 04:31:53,946 INFO sqlalchemy.engine.Engine SELECT \"Intervals\".id AS \"Intervals_id\", \"Intervals\".borehole AS \"Intervals_borehole\", \"Intervals\".interval_number AS \"Intervals_interval_number\", \"Intervals\".description AS \"Intervals_description\", \"Intervals\".top_id AS \"Intervals_top_id\", \"Intervals\".base_id AS \"Intervals_base_id\" \n",
      "FROM \"Intervals\" \n",
      "WHERE ? = \"Intervals\".borehole\n",
      "2021-06-27 04:31:53,946 INFO sqlalchemy.engine.Engine [cached since 0.6518s ago] ('BH007',)\n",
      "2021-06-27 04:31:53,948 INFO sqlalchemy.engine.Engine SELECT \"Boreholes\".id AS \"Boreholes_id\", \"Boreholes\".length AS \"Boreholes_length\", \"Boreholes\".diameter AS \"Boreholes_diameter\" \n",
      "FROM \"Boreholes\" \n",
      "WHERE \"Boreholes\".id = ?\n",
      "2021-06-27 04:31:53,950 INFO sqlalchemy.engine.Engine [cached since 0.03771s ago] ('BH008',)\n",
      "2021-06-27 04:31:53,952 INFO sqlalchemy.engine.Engine SELECT \"Intervals\".id AS \"Intervals_id\", \"Intervals\".borehole AS \"Intervals_borehole\", \"Intervals\".interval_number AS \"Intervals_interval_number\", \"Intervals\".description AS \"Intervals_description\", \"Intervals\".top_id AS \"Intervals_top_id\", \"Intervals\".base_id AS \"Intervals_base_id\" \n",
      "FROM \"Intervals\" \n",
      "WHERE ? = \"Intervals\".borehole\n",
      "2021-06-27 04:31:53,953 INFO sqlalchemy.engine.Engine [cached since 0.6582s ago] ('BH008',)\n",
      "2021-06-27 04:31:53,955 INFO sqlalchemy.engine.Engine SELECT \"Boreholes\".id AS \"Boreholes_id\", \"Boreholes\".length AS \"Boreholes_length\", \"Boreholes\".diameter AS \"Boreholes_diameter\" \n",
      "FROM \"Boreholes\" \n",
      "WHERE \"Boreholes\".id = ?\n",
      "2021-06-27 04:31:53,955 INFO sqlalchemy.engine.Engine [cached since 0.04352s ago] ('BH009',)\n",
      "2021-06-27 04:31:53,958 INFO sqlalchemy.engine.Engine SELECT \"Intervals\".id AS \"Intervals_id\", \"Intervals\".borehole AS \"Intervals_borehole\", \"Intervals\".interval_number AS \"Intervals_interval_number\", \"Intervals\".description AS \"Intervals_description\", \"Intervals\".top_id AS \"Intervals_top_id\", \"Intervals\".base_id AS \"Intervals_base_id\" \n",
      "FROM \"Intervals\" \n",
      "WHERE ? = \"Intervals\".borehole\n",
      "2021-06-27 04:31:53,958 INFO sqlalchemy.engine.Engine [cached since 0.6638s ago] ('BH009',)\n",
      "2021-06-27 04:31:53,961 INFO sqlalchemy.engine.Engine SELECT \"Boreholes\".id AS \"Boreholes_id\", \"Boreholes\".length AS \"Boreholes_length\", \"Boreholes\".diameter AS \"Boreholes_diameter\" \n",
      "FROM \"Boreholes\" \n",
      "WHERE \"Boreholes\".id = ?\n",
      "2021-06-27 04:31:53,962 INFO sqlalchemy.engine.Engine [cached since 0.0498s ago] ('BH10',)\n",
      "2021-06-27 04:31:53,963 INFO sqlalchemy.engine.Engine SELECT \"Intervals\".id AS \"Intervals_id\", \"Intervals\".borehole AS \"Intervals_borehole\", \"Intervals\".interval_number AS \"Intervals_interval_number\", \"Intervals\".description AS \"Intervals_description\", \"Intervals\".top_id AS \"Intervals_top_id\", \"Intervals\".base_id AS \"Intervals_base_id\" \n",
      "FROM \"Intervals\" \n",
      "WHERE ? = \"Intervals\".borehole\n",
      "2021-06-27 04:31:53,964 INFO sqlalchemy.engine.Engine [cached since 0.6695s ago] ('BH10',)\n"
     ]
    },
    {
     "data": {
      "text/plain": [
       "[<core.orm.BoreholeOrm>(Name=BH001, Length=28.0, Diameter=0.43, Intervals=4),\n",
       " <core.orm.BoreholeOrm>(Name=BH002, Length=37.0, Diameter=0.6, Intervals=5),\n",
       " <core.orm.BoreholeOrm>(Name=BH003, Length=18.0, Diameter=0.41, Intervals=5),\n",
       " <core.orm.BoreholeOrm>(Name=BH004, Length=26.0, Diameter=0.61, Intervals=5),\n",
       " <core.orm.BoreholeOrm>(Name=BH005, Length=32.0, Diameter=0.61, Intervals=6),\n",
       " <core.orm.BoreholeOrm>(Name=BH006, Length=26.0, Diameter=0.31, Intervals=5),\n",
       " <core.orm.BoreholeOrm>(Name=BH007, Length=45.0, Diameter=0.57, Intervals=6),\n",
       " <core.orm.BoreholeOrm>(Name=BH008, Length=35.0, Diameter=0.39, Intervals=5),\n",
       " <core.orm.BoreholeOrm>(Name=BH009, Length=40.0, Diameter=0.5, Intervals=5),\n",
       " <core.orm.BoreholeOrm>(Name=BH10, Length=14.0, Diameter=0.31, Intervals=4)]"
      ]
     },
     "execution_count": 20,
     "metadata": {},
     "output_type": "execute_result"
    }
   ],
   "source": [
    "p.boreholes"
   ]
  },
  {
   "cell_type": "code",
   "execution_count": 21,
   "metadata": {},
   "outputs": [
    {
     "name": "stdout",
     "output_type": "stream",
     "text": [
      "2021-06-27 04:31:53,972 INFO sqlalchemy.engine.Engine SELECT \"Boreholes\".id AS \"Boreholes_id\", \"Boreholes\".length AS \"Boreholes_length\", \"Boreholes\".diameter AS \"Boreholes_diameter\" \n",
      "FROM \"Boreholes\"\n",
      "2021-06-27 04:31:53,973 INFO sqlalchemy.engine.Engine [cached since 0.7209s ago] ()\n"
     ]
    }
   ],
   "source": [
    "p.refresh(verbose=False)"
   ]
  },
  {
   "cell_type": "code",
   "execution_count": 22,
   "metadata": {},
   "outputs": [
    {
     "name": "stdout",
     "output_type": "stream",
     "text": [
      "2021-06-27 04:31:53,980 INFO sqlalchemy.engine.Engine ROLLBACK\n"
     ]
    }
   ],
   "source": [
    "session.close()"
   ]
  },
  {
   "cell_type": "markdown",
   "metadata": {},
   "source": [
    "# 2D/3D Display"
   ]
  },
  {
   "cell_type": "markdown",
   "metadata": {},
   "source": [
    "## Display one object"
   ]
  },
  {
   "cell_type": "code",
   "execution_count": 23,
   "metadata": {},
   "outputs": [
    {
     "name": "stdout",
     "output_type": "stream",
     "text": [
      "leg: Decor({'_colour': '#ffcb23', 'width': 3, 'hatch': \"'..'\", 'component': Component({'lithology': 'sable'})})\n",
      "Decor({'_colour': '#d5e6cc', 'width': 3, 'hatch': \"'---'\", 'component': Component({'lithology': 'argile'})})\n",
      "Decor({'_colour': '#7ba1a8', 'width': 3, 'hatch': None, 'component': Component({'lithology': 'marne'})})\n",
      "Decor({'_colour': '#000000', 'width': 3, 'hatch': None, 'component': Component({'lithology': 'charbon'})})\n",
      "Decor({'_colour': '#fdaaff', 'width': 3, 'hatch': None, 'component': Component({'lithology': 'dolomie'})})\n",
      "Decor({'_colour': '#adb7cc', 'width': 3, 'hatch': \"'oo\", 'component': Component({'lithology': 'graviers'})})\n",
      "Decor({'_colour': '#149eff', 'width': 3, 'hatch': \"'='\", 'component': Component({'lithology': 'calcaire'})})\n"
     ]
    }
   ],
   "source": [
    "p.update_legend_cmap(update_legend=True)"
   ]
  },
  {
   "cell_type": "code",
   "execution_count": 24,
   "metadata": {},
   "outputs": [
    {
     "name": "stdout",
     "output_type": "stream",
     "text": [
      "BH001 \n",
      " [Interval({'top': Position({'middle': 0.0, 'upper': 0.0, 'lower': 0.0, 'x': 152600.0, 'y': 121039.0, 'units': 'm'}), 'base': Position({'middle': 4.0, 'x': 152600.0, 'y': 121039.0, 'units': 'm'}), 'description': 'Sable VR', 'data': {}, 'components': [Component({'lithology': 'sable', 'pollutant': 'vr'})]}), Interval({'top': Position({'middle': 4.0, 'x': 152600.0, 'y': 121039.0, 'units': 'm'}), 'base': Position({'middle': 8.0, 'x': 152600.0, 'y': 121039.0, 'units': 'm'}), 'description': 'Argile VS', 'data': {}, 'components': [Component({'lithology': 'argile', 'pollutant': 'vs'})]}), Interval({'top': Position({'middle': 8.0, 'x': 152600.0, 'y': 121039.0, 'units': 'm'}), 'base': Position({'middle': 20.0, 'x': 152600.0, 'y': 121039.0, 'units': 'm'}), 'description': 'Marne VI', 'data': {}, 'components': [Component({'lithology': 'marne', 'pollutant': 'vi'})]}), Interval({'top': Position({'middle': 20.0, 'x': 152600.0, 'y': 121039.0, 'units': 'm'}), 'base': Position({'middle': 28.0, 'x': 152600.0, 'y': 121039.0, 'units': 'm'}), 'description': 'Charbon VS', 'data': {}, 'components': [Component({'lithology': 'charbon', 'pollutant': 'vs'})]})]\n"
     ]
    }
   ],
   "source": [
    "bh = 0\n",
    "print(p.boreholes_3d[bh].name, '\\n', p.boreholes_3d[bh].intervals)"
   ]
  },
  {
   "cell_type": "code",
   "execution_count": 25,
   "metadata": {},
   "outputs": [
    {
     "name": "stderr",
     "output_type": "stream",
     "text": [
      "/home/yanathan/.local/share/virtualenvs/GSDMA-DRfwm83x/lib/python3.8/site-packages/striplog/striplog.py:1505: MatplotlibDeprecationWarning: hatch must consist of a string of \"*+-./OX\\ox|\" or None, but found the following invalid values \"'\". Passing invalid values is deprecated since 3.4 and will become an error two minor releases later.\n",
      "  rect = mpl.patches.Rectangle(origin,\n",
      "/home/yanathan/.local/share/virtualenvs/GSDMA-DRfwm83x/lib/python3.8/site-packages/striplog/legend.py:311: MatplotlibDeprecationWarning: hatch must consist of a string of \"*+-./OX\\ox|\" or None, but found the following invalid values \"'\". Passing invalid values is deprecated since 3.4 and will become an error two minor releases later.\n",
      "  rect1 = patches.Rectangle((0, 0),\n"
     ]
    },
    {
     "data": {
      "image/png": "[encoded data removed]",
      "text/plain": [
       "<Figure size 432x432 with 6 Axes>"
      ]
     },
     "metadata": {
      "needs_background": "light"
     },
     "output_type": "display_data"
    }
   ],
   "source": [
    "p.boreholes_3d[bh].plot2d()"
   ]
  },
  {
   "cell_type": "code",
   "execution_count": 26,
   "metadata": {},
   "outputs": [
    {
     "name": "stdout",
     "output_type": "stream",
     "text": [
      "Colormap computing ...\n"
     ]
    },
    {
     "data": {
      "application/vnd.jupyter.widget-view+json": {
       "model_id": "1a1c37770f814e6fa08d2b53c3585ddb",
       "version_major": 2,
       "version_minor": 0
      },
      "text/plain": [
       "ViewInteractiveWidget(height=768, layout=Layout(height='auto', width='100%'), width=1024)"
      ]
     },
     "metadata": {},
     "output_type": "display_data"
    }
   ],
   "source": [
    "p.boreholes_3d[bh].plot3d()"
   ]
  },
  {
   "cell_type": "raw",
   "metadata": {},
   "source": [
    "p.boreholes_3d[bh].plot3d(x3d=True)"
   ]
  },
  {
   "cell_type": "code",
   "execution_count": 27,
   "metadata": {},
   "outputs": [
    {
     "data": {
      "text/html": [
       "<table><tr><th>hatch</th><th>component</th><th>width</th><th>colour</th></tr><tr><td style=\"color:black; background-color:white\">None</td><td style=\"color:black; background-color:white\"><table><tr><td><strong>pollutant</strong></td><td>vr</td></tr></table></td><td style=\"color:black; background-color:white\">None</td><td style=\"color:#000000; background-color:#00ff00\">#00ff00</td></tr><tr><td style=\"color:black; background-color:white\">None</td><td style=\"color:black; background-color:white\"><table><tr><td><strong>pollutant</strong></td><td>vs</td></tr></table></td><td style=\"color:black; background-color:white\">None</td><td style=\"color:#000000; background-color:#ffa500\">#ffa500</td></tr><tr><td style=\"color:black; background-color:white\">None</td><td style=\"color:black; background-color:white\"><table><tr><td><strong>pollutant</strong></td><td>vi</td></tr></table></td><td style=\"color:black; background-color:white\">None</td><td style=\"color:#ffffff; background-color:#ff0000\">#ff0000</td></tr><tr><td style=\"color:black; background-color:white\">None</td><td style=\"color:black; background-color:white\"><table><tr><td><strong>pollutant</strong></td><td>inconnu</td></tr></table></td><td style=\"color:black; background-color:white\">None</td><td style=\"color:#000000; background-color:#ffffff\">#ffffff</td></tr></table>"
      ],
      "text/plain": [
       "Legend(Decor({'_colour': '#00ff00', 'width': None, 'component': Component({'pollutant': 'vr'}), 'hatch': None})\n",
       "Decor({'_colour': '#ffa500', 'width': None, 'component': Component({'pollutant': 'vs'}), 'hatch': None})\n",
       "Decor({'_colour': '#ff0000', 'width': None, 'component': Component({'pollutant': 'vi'}), 'hatch': None})\n",
       "Decor({'_colour': '#ffffff', 'width': None, 'component': Component({'pollutant': 'inconnu'}), 'hatch': None}))"
      ]
     },
     "execution_count": 27,
     "metadata": {},
     "output_type": "execute_result"
    }
   ],
   "source": [
    "p.legend_dict['pollutant']"
   ]
  },
  {
   "cell_type": "code",
   "execution_count": 28,
   "metadata": {},
   "outputs": [
    {
     "name": "stdout",
     "output_type": "stream",
     "text": [
      "leg: \n"
     ]
    },
    {
     "data": {
      "image/png": "[encoded data removed]",
      "text/html": [
       "<div style=\"vertical-align: middle;\"><strong>from_list</strong> </div><div class=\"cmap\"><img alt=\"from_list colormap\" title=\"from_list\" style=\"border: 1px solid #555;\" src=\"data:image/png;base64,iVBORw0KGgoAAAANSUhEUgAAAgAAAABACAYAAABsv8+/AAAAGHRFWHRUaXRsZQBmcm9tX2xpc3QgY29sb3JtYXBDL89FAAAAHnRFWHREZXNjcmlwdGlvbgBmcm9tX2xpc3QgY29sb3JtYXABtCnOAAAAMHRFWHRBdXRob3IATWF0cGxvdGxpYiB2My40LjIsIGh0dHBzOi8vbWF0cGxvdGxpYi5vcmes1mPdAAAAMnRFWHRTb2Z0d2FyZQBNYXRwbG90bGliIHYzLjQuMiwgaHR0cHM6Ly9tYXRwbG90bGliLm9yZ4Jw/PoAAACWSURBVHic7cExAQAAAMKg9U9tCU+gAAAAAAAAAAAAAAAAAAAAAAAAAAAAAAAAAAAAAAAAAAAAAAAAAAAAAAAAAAAAAAAAAAAAAAAAAAAAAAAAAAAAAAAAAAAAAAAAAAAAAAAAAAAAAAAAAAAAAAAAAAAAAAAAAAAAAAAAAAAAAAAAAAAAAAAAAAAAAAAAAAAAAAAAAD4GAF4AAVxXPa4AAAAASUVORK5CYII=\"></div><div style=\"vertical-align: middle; max-width: 514px; display: flex; justify-content: space-between;\"><div style=\"float: left;\"><div title=\"#00000000\" style=\"display: inline-block; width: 1em; height: 1em; margin: 0; vertical-align: middle; border: 1px solid #555; background-color: #00000000;\"></div> under</div><div style=\"margin: 0 auto; display: inline-block;\">bad <div title=\"#00000000\" style=\"display: inline-block; width: 1em; height: 1em; margin: 0; vertical-align: middle; border: 1px solid #555; background-color: #00000000;\"></div></div><div style=\"float: right;\">over <div title=\"#00000000\" style=\"display: inline-block; width: 1em; height: 1em; margin: 0; vertical-align: middle; border: 1px solid #555; background-color: #00000000;\"></div></div>"
      ],
      "text/plain": [
       "<matplotlib.colors.ListedColormap at 0x7fea7a7c6c40>"
      ]
     },
     "execution_count": 28,
     "metadata": {},
     "output_type": "execute_result"
    }
   ],
   "source": [
    "p.update_legend_cmap(repr_attribute='pollutant')[1] #legend=lithology_memoris, update_legend=False)[0]"
   ]
  },
  {
   "cell_type": "code",
   "execution_count": 29,
   "metadata": {},
   "outputs": [
    {
     "data": {
      "image/png": "[encoded data removed]",
      "text/plain": [
       "<Figure size 432x432 with 6 Axes>"
      ]
     },
     "metadata": {
      "needs_background": "light"
     },
     "output_type": "display_data"
    }
   ],
   "source": [
    "p.boreholes_3d[4].plot2d(repr_attribute='pollutant', repr_legend=pollutant_memoris)"
   ]
  },
  {
   "cell_type": "code",
   "execution_count": 30,
   "metadata": {},
   "outputs": [
    {
     "name": "stderr",
     "output_type": "stream",
     "text": [
      "/home/yanathan/.local/share/virtualenvs/GSDMA-DRfwm83x/lib/python3.8/site-packages/striplog/striplog.py:1505: MatplotlibDeprecationWarning: hatch must consist of a string of \"*+-./OX\\ox|\" or None, but found the following invalid values \"'\". Passing invalid values is deprecated since 3.4 and will become an error two minor releases later.\n",
      "  rect = mpl.patches.Rectangle(origin,\n",
      "/home/yanathan/.local/share/virtualenvs/GSDMA-DRfwm83x/lib/python3.8/site-packages/striplog/legend.py:311: MatplotlibDeprecationWarning: hatch must consist of a string of \"*+-./OX\\ox|\" or None, but found the following invalid values \"'\". Passing invalid values is deprecated since 3.4 and will become an error two minor releases later.\n",
      "  rect1 = patches.Rectangle((0, 0),\n"
     ]
    },
    {
     "data": {
      "image/png": "[encoded data removed]",
      "text/plain": [
       "<Figure size 432x432 with 8 Axes>"
      ]
     },
     "metadata": {
      "needs_background": "light"
     },
     "output_type": "display_data"
    }
   ],
   "source": [
    "p.boreholes_3d[4].plot2d(repr_attribute='lithology')#, repr_legend=pollutant_memoris)"
   ]
  },
  {
   "cell_type": "code",
   "execution_count": 31,
   "metadata": {},
   "outputs": [
    {
     "data": {
      "text/plain": [
       "[Component({'lithology': 'marne', 'pollutant': 'vs'}),\n",
       " Component({'lithology': 'charbon', 'pollutant': 'vi'}),\n",
       " Component({'lithology': 'argile', 'pollutant': 'vi'}),\n",
       " Component({'lithology': 'sable', 'pollutant': 'vr'}),\n",
       " Component({'lithology': 'graviers'}),\n",
       " Component({'lithology': 'dolomie', 'pollutant': 'vs'})]"
      ]
     },
     "execution_count": 31,
     "metadata": {},
     "output_type": "execute_result"
    }
   ],
   "source": [
    "p.boreholes_3d[4].components"
   ]
  },
  {
   "cell_type": "code",
   "execution_count": 32,
   "metadata": {},
   "outputs": [
    {
     "data": {
      "text/plain": [
       "['A', 'B', 'C', None]"
      ]
     },
     "execution_count": 32,
     "metadata": {},
     "output_type": "execute_result"
    }
   ],
   "source": [
    "test = ['A', 'B', 'C', None, 'A']\n",
    "test.index('A'), None in test \n",
    "#test[test.index('A')] += 'X'\n",
    "list(pd.unique(test))"
   ]
  },
  {
   "cell_type": "markdown",
   "metadata": {},
   "source": [
    "### Display project boreholes"
   ]
  },
  {
   "cell_type": "code",
   "execution_count": 33,
   "metadata": {},
   "outputs": [],
   "source": [
    "p.plot3d(repr_attribute='lithology', labels_size=15, bg_color=[\"royalblue\", \"aliceblue\"], window_size=(1300, 1000))"
   ]
  },
  {
   "cell_type": "code",
   "execution_count": 34,
   "metadata": {},
   "outputs": [
    {
     "data": {
      "image/png": "[encoded data removed]",
      "text/html": [
       "<div style=\"vertical-align: middle;\"><strong>from_list</strong> </div><div class=\"cmap\"><img alt=\"from_list colormap\" title=\"from_list\" style=\"border: 1px solid #555;\" src=\"data:image/png;base64,iVBORw0KGgoAAAANSUhEUgAAAgAAAABACAYAAABsv8+/AAAAGHRFWHRUaXRsZQBmcm9tX2xpc3QgY29sb3JtYXBDL89FAAAAHnRFWHREZXNjcmlwdGlvbgBmcm9tX2xpc3QgY29sb3JtYXABtCnOAAAAMHRFWHRBdXRob3IATWF0cGxvdGxpYiB2My40LjIsIGh0dHBzOi8vbWF0cGxvdGxpYi5vcmes1mPdAAAAMnRFWHRTb2Z0d2FyZQBNYXRwbG90bGliIHYzLjQuMiwgaHR0cHM6Ly9tYXRwbG90bGliLm9yZ4Jw/PoAAAFkSURBVHic7dahbQJQAEXRUs8ESEZgGRySSVilCVV4RiBYVH2nILBBg+L/5p4zwVMvd/G4rB8f/Om2Oo6eML2v88/oCdM77LajJ0zv/u2OXnFaXkdPmNr+dzN6wr/wOXoAAPB+AgAAggQAAAQJAAAIEgAAECQAACBIAABAkAAAgCABAABBAgAAggQAAAQJAAAIEgAAECQAACBIAABAkAAAgCABAABBAgAAggQAAAQJAAAIEgAAECQAACBIAABAkAAAgCABAABBAgAAggQAAAQJAAAIEgAAECQAACBIAABAkAAAgCABAABBAgAAggQAAAQJAAAIEgAAECQAACBIAABAkAAAgCABAABBAgAAggQAAAQJAAAIEgAAECQAACBIAABAkAAAgCABAABBAgAAggQAAAQJAAAIEgAAECQAACBIAABAkAAAgCABAABBAgAAggQAAAQJAAAIEgAAECQAACBIAABA0BOqcw4wUbj79gAAAABJRU5ErkJggg==\"></div><div style=\"vertical-align: middle; max-width: 514px; display: flex; justify-content: space-between;\"><div style=\"float: left;\"><div title=\"#ffcb23ff\" style=\"display: inline-block; width: 1em; height: 1em; margin: 0; vertical-align: middle; border: 1px solid #555; background-color: #ffcb23ff;\"></div> under</div><div style=\"margin: 0 auto; display: inline-block;\">bad <div title=\"#00000000\" style=\"display: inline-block; width: 1em; height: 1em; margin: 0; vertical-align: middle; border: 1px solid #555; background-color: #00000000;\"></div></div><div style=\"float: right;\">over <div title=\"#149effff\" style=\"display: inline-block; width: 1em; height: 1em; margin: 0; vertical-align: middle; border: 1px solid #555; background-color: #149effff;\"></div></div>"
      ],
      "text/plain": [
       "<matplotlib.colors.ListedColormap at 0x7fea7caecf70>"
      ]
     },
     "execution_count": 34,
     "metadata": {},
     "output_type": "execute_result"
    }
   ],
   "source": [
    "p.cmap"
   ]
  },
  {
   "cell_type": "markdown",
   "metadata": {},
   "source": [
    "### Boreholes in 3D using X3D for interaction within the notebook"
   ]
  },
  {
   "cell_type": "raw",
   "metadata": {
    "scrolled": false
   },
   "source": [
    "p.plot3d(x3d=True)"
   ]
  },
  {
   "cell_type": "code",
   "execution_count": null,
   "metadata": {},
   "outputs": [],
   "source": []
  }
 ],
 "metadata": {
  "kernelspec": {
   "display_name": "Python 3",
   "language": "python",
   "name": "python3"
  },
  "language_info": {
   "codemirror_mode": {
    "name": "ipython",
    "version": 3
   },
   "file_extension": ".py",
   "mimetype": "text/x-python",
   "name": "python",
   "nbconvert_exporter": "python",
   "pygments_lexer": "ipython3",
   "version": "3.8.5"
  }
 },
 "nbformat": 4,
 "nbformat_minor": 4
}
