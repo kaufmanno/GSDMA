{
 "cells": [
  {
   "cell_type": "markdown",
   "metadata": {},
   "source": [
    "# Example of using the Borehole3D class"
   ]
  },
  {
   "cell_type": "markdown",
   "metadata": {},
   "source": [
    "## Imports"
   ]
  },
  {
   "cell_type": "code",
   "execution_count": 1,
   "metadata": {},
   "outputs": [
    {
     "name": "stderr",
     "output_type": "stream",
     "text": [
      "/home/yanathan/.local/share/virtualenvs/GSDMA-DRfwm83x/lib/python3.8/site-packages/striplog/legend.py:687: UserWarning: This legend contains duplicate components.\n",
      "  warnings.warn(w)\n",
      "/home/yanathan/.local/share/virtualenvs/GSDMA-DRfwm83x/lib/python3.8/site-packages/striplog/legend.py:687: UserWarning: This legend contains duplicate components.\n",
      "  warnings.warn(w)\n"
     ]
    }
   ],
   "source": [
    "from striplog import Component, Decor, Legend, Lexicon, Striplog\n",
    "from core.omf import Borehole3D, striplog_legend_to_omf_legend \n",
    "from utils.lexicon.lexicon_memoris import lexicon_memoris, lithology_memoris, pollutant_memoris\n",
    "from utils.io import boreholes_from_files, gdf_viewer\n",
    "from core.core import Project\n",
    "from core.orm import BoreholeOrm, PositionOrm, Base \n",
    "import random\n",
    "from os import remove\n",
    "import pandas as pd\n",
    "import numpy as np\n",
    "from sqlalchemy import create_engine\n",
    "from sqlalchemy.orm import sessionmaker\n",
    "from definitions import ROOT_DIR"
   ]
  },
  {
   "cell_type": "markdown",
   "metadata": {},
   "source": [
    "## Reading of CSV files in a dir"
   ]
  },
  {
   "cell_type": "code",
   "execution_count": 2,
   "metadata": {},
   "outputs": [],
   "source": [
    "#df = pd.read_csv('test_data_boreholes.csv', sep=',') # use english lexicon\n",
    "df = pd.read_csv('test_litho_fr.csv', sep=',') # use french lexicon"
   ]
  },
  {
   "cell_type": "markdown",
   "metadata": {},
   "source": [
    "## Data Checking"
   ]
  },
  {
   "cell_type": "raw",
   "metadata": {},
   "source": [
    "df.drop('Z', axis='columns', inplace=True)\n",
    "df.rename({'new_Z':'Z'}, axis='columns', inplace=True)"
   ]
  },
  {
   "cell_type": "raw",
   "metadata": {},
   "source": [
    "df.loc[df.query('Colour==\"tan\"').index, 'Colour'] = 'green' # use simple colour"
   ]
  },
  {
   "cell_type": "code",
   "execution_count": 3,
   "metadata": {},
   "outputs": [],
   "source": [
    "#pol = ['As', 'Ni', 'Cl', 'Hg', 'Pb', 'Zn']\n",
    "pol = ['VR','VS','VI']\n",
    "#df[['Pollutant', 'Concentration']] = ''\n",
    "df[['Pollutant', 'Concentration']] = ''\n",
    "df['Pollutant'] = df['Pollutant'].apply(lambda x: random.sample(pol, 1)[0])\n",
    "df['Concentration'] = df['Concentration'].apply(lambda x: np.random.randint(0,100))\n",
    "df['Unit'] = 'mg/l'"
   ]
  },
  {
   "cell_type": "code",
   "execution_count": 4,
   "metadata": {},
   "outputs": [],
   "source": [
    "df['Lithology'] = df['Lithology'].replace({'Grès':'Marne', 'Calcaire':'Dolomie'})"
   ]
  },
  {
   "cell_type": "code",
   "execution_count": 5,
   "metadata": {},
   "outputs": [],
   "source": [
    "df.loc[35.5, :] = ['BH007',152794.0, 121111.0, 60.0, 0.57, 45, 'Calcaire', 'Bleu', 4, 41, 45, 'Cl', 78, 'mg/l']\n",
    "df.loc[25.5, :] = ['BH005',152473.0, 121460.0, 72.0, 0.61, 32, 'Schiste', 'gris', 3, 29, 32, 'Cl', 78, 'mg/l']\n",
    "df.drop(index=4, inplace=True)\n",
    "df.drop(columns='Colour', inplace=True)\n",
    "df = df.sort_index().reset_index(drop=True)"
   ]
  },
  {
   "cell_type": "raw",
   "metadata": {},
   "source": [
    "df.loc[995, :] = ['BH199',152455.0, 121128.0, 68.0, 0.57, 36, 'Calcaire', 'Bleu', 9, 27, 36, 'Cl', 78, 'mg/l']"
   ]
  },
  {
   "cell_type": "raw",
   "metadata": {},
   "source": [
    "df.to_csv('test_litho_fr.csv', index=False)"
   ]
  },
  {
   "cell_type": "code",
   "execution_count": 6,
   "metadata": {},
   "outputs": [
    {
     "name": "stdout",
     "output_type": "stream",
     "text": [
      "Rows : 996, columns : 13\n"
     ]
    },
    {
     "data": {
      "application/vnd.jupyter.widget-view+json": {
       "model_id": "f0052ccb4faf4add8b938348009c913e",
       "version_major": 2,
       "version_minor": 0
      },
      "text/plain": [
       "interactive(children=(IntSlider(value=10, description='rows', max=996, min=10, readout=False), IntSlider(value…"
      ]
     },
     "metadata": {},
     "output_type": "display_data"
    }
   ],
   "source": [
    "gdf_viewer(df)"
   ]
  },
  {
   "cell_type": "raw",
   "metadata": {},
   "source": [
    "df.query('X==152013.0 and Y==121905.0')"
   ]
  },
  {
   "cell_type": "markdown",
   "metadata": {},
   "source": [
    "## Create Boreholes from dataframes or files"
   ]
  },
  {
   "cell_type": "code",
   "execution_count": 7,
   "metadata": {},
   "outputs": [],
   "source": [
    "bhs_df=[df[0:50]] # list of dataframes"
   ]
  },
  {
   "cell_type": "code",
   "execution_count": 8,
   "metadata": {
    "scrolled": true
   },
   "outputs": [
    {
     "name": "stderr",
     "output_type": "stream",
     "text": [
      "/home/yanathan/Projects/GSDMA/utils/io.py:476: SAWarning: relationship 'ComponentOrm.intervals' will copy column Components.id to column Linkintervalcomponent.comp_id, which conflicts with relationship(s): 'IntervalOrm.components' (copies Components.id to Linkintervalcomponent.comp_id). If this is not the intention, consider if these relationships should be linked with back_populates, or if viewonly=True should be applied to one or more if they are read-only. For the less common case that foreign key constraints are partially overlapping, the orm.foreign() annotation can be used to isolate the columns that should be written towards.   The 'overlaps' parameter may be used to remove this warning.\n",
      "  boreholes.append(BoreholeOrm(id=bh_name))\n",
      "/home/yanathan/Projects/GSDMA/utils/io.py:476: SAWarning: relationship 'ComponentOrm.intervals' will copy column Intervals.id to column Linkintervalcomponent.int_id, which conflicts with relationship(s): 'IntervalOrm.components' (copies Intervals.id to Linkintervalcomponent.int_id). If this is not the intention, consider if these relationships should be linked with back_populates, or if viewonly=True should be applied to one or more if they are read-only. For the less common case that foreign key constraints are partially overlapping, the orm.foreign() annotation can be used to isolate the columns that should be written towards.   The 'overlaps' parameter may be used to remove this warning.\n",
      "  boreholes.append(BoreholeOrm(id=bh_name))\n",
      "/home/yanathan/Projects/GSDMA/utils/io.py:476: SAWarning: relationship 'ComponentOrm.component_assoc' will copy column Components.id to column Linkintervalcomponent.comp_id, which conflicts with relationship(s): 'IntervalOrm.components' (copies Components.id to Linkintervalcomponent.comp_id), 'ComponentOrm.intervals' (copies Components.id to Linkintervalcomponent.comp_id). If this is not the intention, consider if these relationships should be linked with back_populates, or if viewonly=True should be applied to one or more if they are read-only. For the less common case that foreign key constraints are partially overlapping, the orm.foreign() annotation can be used to isolate the columns that should be written towards.   The 'overlaps' parameter may be used to remove this warning.\n",
      "  boreholes.append(BoreholeOrm(id=bh_name))\n",
      "/home/yanathan/Projects/GSDMA/utils/io.py:476: SAWarning: relationship 'LinkIntervalComponentOrm.component' will copy column Components.id to column Linkintervalcomponent.comp_id, which conflicts with relationship(s): 'IntervalOrm.components' (copies Components.id to Linkintervalcomponent.comp_id), 'ComponentOrm.intervals' (copies Components.id to Linkintervalcomponent.comp_id). If this is not the intention, consider if these relationships should be linked with back_populates, or if viewonly=True should be applied to one or more if they are read-only. For the less common case that foreign key constraints are partially overlapping, the orm.foreign() annotation can be used to isolate the columns that should be written towards.   The 'overlaps' parameter may be used to remove this warning.\n",
      "  boreholes.append(BoreholeOrm(id=bh_name))\n",
      "/home/yanathan/Projects/GSDMA/utils/io.py:476: SAWarning: relationship 'IntervalOrm.interval_assoc' will copy column Intervals.id to column Linkintervalcomponent.int_id, which conflicts with relationship(s): 'IntervalOrm.components' (copies Intervals.id to Linkintervalcomponent.int_id), 'ComponentOrm.intervals' (copies Intervals.id to Linkintervalcomponent.int_id). If this is not the intention, consider if these relationships should be linked with back_populates, or if viewonly=True should be applied to one or more if they are read-only. For the less common case that foreign key constraints are partially overlapping, the orm.foreign() annotation can be used to isolate the columns that should be written towards.   The 'overlaps' parameter may be used to remove this warning.\n",
      "  boreholes.append(BoreholeOrm(id=bh_name))\n",
      "/home/yanathan/Projects/GSDMA/utils/io.py:476: SAWarning: relationship 'LinkIntervalComponentOrm.interval' will copy column Intervals.id to column Linkintervalcomponent.int_id, which conflicts with relationship(s): 'IntervalOrm.components' (copies Intervals.id to Linkintervalcomponent.int_id), 'ComponentOrm.intervals' (copies Intervals.id to Linkintervalcomponent.int_id). If this is not the intention, consider if these relationships should be linked with back_populates, or if viewonly=True should be applied to one or more if they are read-only. For the less common case that foreign key constraints are partially overlapping, the orm.foreign() annotation can be used to isolate the columns that should be written towards.   The 'overlaps' parameter may be used to remove this warning.\n",
      "  boreholes.append(BoreholeOrm(id=bh_name))\n"
     ]
    },
    {
     "name": "stdout",
     "output_type": "stream",
     "text": [
      "\n",
      "Dataframe 0 processing...\n",
      "================================\n",
      "|__ID:'BH001'\n",
      "{'lithology': 'sable', 'pollutant': 'vi'}\n",
      "{'lithology': 'argile', 'pollutant': 'vr'}\n",
      "{'lithology': 'marne', 'pollutant': 'vs'}\n",
      "{'lithology': 'charbon', 'pollutant': 'vs'}\n",
      "Summary : [Striplog(4 Intervals, start=0.0, stop=28.0)]\n",
      "|__ID:'BH002'\n",
      "{'lithology': 'sable', 'pollutant': 'vs'}\n",
      "{'lithology': 'argile', 'pollutant': 'vs'}\n",
      "{'lithology': 'marne', 'pollutant': 'vs'}\n",
      "{'lithology': 'charbon', 'pollutant': 'vr'}\n",
      "{'lithology': 'dolomie', 'pollutant': 'vs'}\n",
      "Summary : [Striplog(5 Intervals, start=0.0, stop=37.0)]\n",
      "|__ID:'BH003'\n",
      "{'lithology': 'sable', 'pollutant': 'vs'}\n",
      "{'lithology': 'argile', 'pollutant': 'vi'}\n",
      "{'lithology': 'marne', 'pollutant': 'vs'}\n",
      "{'lithology': 'charbon', 'pollutant': 'vr'}\n",
      "{'lithology': 'dolomie', 'pollutant': 'vi'}\n",
      "Summary : [Striplog(5 Intervals, start=0.0, stop=18.0)]\n",
      "|__ID:'BH004'\n",
      "{'lithology': 'sable', 'pollutant': 'vr'}\n",
      "{'lithology': 'argile', 'pollutant': 'vi'}\n",
      "{'lithology': 'marne', 'pollutant': 'vr'}\n",
      "{'lithology': 'charbon', 'pollutant': 'vi'}\n",
      "{'lithology': 'dolomie', 'pollutant': 'vi'}\n",
      "Summary : [Striplog(5 Intervals, start=0.0, stop=26.0)]\n",
      "|__ID:'BH005'\n",
      "{'lithology': 'sable', 'pollutant': 'vs'}\n",
      "{'lithology': 'argile', 'pollutant': 'vi'}\n",
      "{'lithology': 'marne', 'pollutant': 'vs'}\n",
      "{'lithology': 'charbon', 'pollutant': 'vs'}\n",
      "{'lithology': 'dolomie', 'pollutant': 'vs'}\n",
      "{'lithology': 'schiste'}\n",
      "Summary : [Striplog(6 Intervals, start=0.0, stop=32.0)]\n",
      "|__ID:'BH006'\n",
      "{'lithology': 'sable', 'pollutant': 'vi'}\n",
      "{'lithology': 'argile', 'pollutant': 'vi'}\n",
      "{'lithology': 'marne', 'pollutant': 'vr'}\n",
      "{'lithology': 'charbon', 'pollutant': 'vr'}\n",
      "{'lithology': 'dolomie', 'pollutant': 'vr'}\n",
      "Summary : [Striplog(5 Intervals, start=0.0, stop=26.0)]\n",
      "|__ID:'BH007'\n",
      "{'lithology': 'sable', 'pollutant': 'vr'}\n",
      "{'lithology': 'argile', 'pollutant': 'vr'}\n",
      "{'lithology': 'marne', 'pollutant': 'vs'}\n",
      "{'lithology': 'charbon', 'pollutant': 'vs'}\n",
      "{'lithology': 'dolomie', 'pollutant': 'vs'}\n",
      "{'lithology': 'calcaire'}\n",
      "Summary : [Striplog(6 Intervals, start=0.0, stop=45.0)]\n",
      "|__ID:'BH008'\n",
      "{'lithology': 'sable', 'pollutant': 'vr'}\n",
      "{'lithology': 'argile', 'pollutant': 'vi'}\n",
      "{'lithology': 'marne', 'pollutant': 'vi'}\n",
      "{'lithology': 'charbon', 'pollutant': 'vi'}\n",
      "{'lithology': 'dolomie', 'pollutant': 'vs'}\n",
      "Summary : [Striplog(5 Intervals, start=0.0, stop=35.0)]\n",
      "|__ID:'BH009'\n",
      "{'lithology': 'sable', 'pollutant': 'vr'}\n",
      "{'lithology': 'argile', 'pollutant': 'vi'}\n",
      "{'lithology': 'marne', 'pollutant': 'vi'}\n",
      "{'lithology': 'charbon', 'pollutant': 'vr'}\n",
      "{'lithology': 'dolomie', 'pollutant': 'vr'}\n",
      "Summary : [Striplog(5 Intervals, start=0.0, stop=40.0)]\n",
      "|__ID:'BH10'\n",
      "{'lithology': 'sable', 'pollutant': 'vi'}\n",
      "{'lithology': 'argile', 'pollutant': 'vi'}\n",
      "{'lithology': 'marne', 'pollutant': 'vr'}\n",
      "{'lithology': 'charbon', 'pollutant': 'vi'}\n",
      "Summary : [Striplog(4 Intervals, start=0.0, stop=14.0)]\n",
      "\n",
      "End of the process : 10 unique ID found\n"
     ]
    }
   ],
   "source": [
    "boreholes, components, link_intv_comp = boreholes_from_files(bhs_df, verbose=False,\n",
    "                                                litho_field=['Lithology', 'Pollutant'], \n",
    "                                                color_field='Colour', lexicon=lexicon_memoris, \n",
    "                                                diam_field='Diameter', thick_field='Thickness')"
   ]
  },
  {
   "cell_type": "raw",
   "metadata": {},
   "source": [
    "boreholes[170].intervals[850].top.x, boreholes[170].intervals[850].top.y"
   ]
  },
  {
   "cell_type": "code",
   "execution_count": 9,
   "metadata": {},
   "outputs": [
    {
     "data": {
      "text/plain": [
       "[<core.orm.BoreholeOrm>(Name=BH001, Length=28.0, Diameter=0.43, Intervals=4),\n",
       " <core.orm.BoreholeOrm>(Name=BH002, Length=37.0, Diameter=0.6, Intervals=5),\n",
       " <core.orm.BoreholeOrm>(Name=BH003, Length=18.0, Diameter=0.41, Intervals=5),\n",
       " <core.orm.BoreholeOrm>(Name=BH004, Length=26.0, Diameter=0.61, Intervals=5),\n",
       " <core.orm.BoreholeOrm>(Name=BH005, Length=32.0, Diameter=0.61, Intervals=6),\n",
       " <core.orm.BoreholeOrm>(Name=BH006, Length=26.0, Diameter=0.31, Intervals=5),\n",
       " <core.orm.BoreholeOrm>(Name=BH007, Length=45.0, Diameter=0.57, Intervals=6),\n",
       " <core.orm.BoreholeOrm>(Name=BH008, Length=35.0, Diameter=0.39, Intervals=5),\n",
       " <core.orm.BoreholeOrm>(Name=BH009, Length=40.0, Diameter=0.5, Intervals=5),\n",
       " <core.orm.BoreholeOrm>(Name=BH10, Length=14.0, Diameter=0.31, Intervals=4)]"
      ]
     },
     "execution_count": 9,
     "metadata": {},
     "output_type": "execute_result"
    }
   ],
   "source": [
    "boreholes"
   ]
  },
  {
   "cell_type": "code",
   "execution_count": 10,
   "metadata": {},
   "outputs": [
    {
     "data": {
      "text/plain": [
       "{0: Component({'lithology': 'marne', 'pollutant': 'vs'}),\n",
       " 1: Component({'lithology': 'charbon', 'pollutant': 'vs'}),\n",
       " 2: Component({'lithology': 'argile', 'pollutant': 'vr'}),\n",
       " 3: Component({'lithology': 'sable', 'pollutant': 'vi'}),\n",
       " 4: Component({'lithology': 'dolomie', 'pollutant': 'vs'}),\n",
       " 5: Component({'lithology': 'sable', 'pollutant': 'vs'}),\n",
       " 6: Component({'lithology': 'argile', 'pollutant': 'vs'}),\n",
       " 7: Component({'lithology': 'charbon', 'pollutant': 'vr'}),\n",
       " 8: Component({'lithology': 'dolomie', 'pollutant': 'vi'}),\n",
       " 9: Component({'lithology': 'argile', 'pollutant': 'vi'}),\n",
       " 10: Component({'lithology': 'marne', 'pollutant': 'vr'}),\n",
       " 11: Component({'lithology': 'sable', 'pollutant': 'vr'}),\n",
       " 12: Component({'lithology': 'charbon', 'pollutant': 'vi'}),\n",
       " 13: Component({'lithology': 'schiste'}),\n",
       " 14: Component({'lithology': 'dolomie', 'pollutant': 'vr'}),\n",
       " 15: Component({'lithology': 'calcaire'}),\n",
       " 16: Component({'lithology': 'marne', 'pollutant': 'vi'})}"
      ]
     },
     "execution_count": 10,
     "metadata": {},
     "output_type": "execute_result"
    }
   ],
   "source": [
    "components"
   ]
  },
  {
   "cell_type": "code",
   "execution_count": 11,
   "metadata": {},
   "outputs": [
    {
     "data": {
      "text/plain": [
       "(10, 17)"
      ]
     },
     "execution_count": 11,
     "metadata": {},
     "output_type": "execute_result"
    }
   ],
   "source": [
    "len(boreholes), len(components)"
   ]
  },
  {
   "cell_type": "markdown",
   "metadata": {},
   "source": [
    "## Create a project and save data in a database"
   ]
  },
  {
   "cell_type": "code",
   "execution_count": 12,
   "metadata": {},
   "outputs": [],
   "source": [
    "remove('tmp_files/tfe_orm_db.db')"
   ]
  },
  {
   "cell_type": "code",
   "execution_count": 13,
   "metadata": {},
   "outputs": [],
   "source": [
    "engine = create_engine('sqlite:///tmp_files/tfe_orm_db.db', echo=True)"
   ]
  },
  {
   "cell_type": "code",
   "execution_count": 14,
   "metadata": {
    "scrolled": true
   },
   "outputs": [
    {
     "name": "stdout",
     "output_type": "stream",
     "text": [
      "2021-06-29 16:18:30,988 INFO sqlalchemy.engine.Engine BEGIN (implicit)\n",
      "2021-06-29 16:18:30,990 INFO sqlalchemy.engine.Engine PRAGMA main.table_info(\"Boreholes\")\n",
      "2021-06-29 16:18:30,990 INFO sqlalchemy.engine.Engine [raw sql] ()\n",
      "2021-06-29 16:18:30,992 INFO sqlalchemy.engine.Engine PRAGMA temp.table_info(\"Boreholes\")\n",
      "2021-06-29 16:18:30,993 INFO sqlalchemy.engine.Engine [raw sql] ()\n",
      "2021-06-29 16:18:30,994 INFO sqlalchemy.engine.Engine PRAGMA main.table_info(\"Positions\")\n",
      "2021-06-29 16:18:30,995 INFO sqlalchemy.engine.Engine [raw sql] ()\n",
      "2021-06-29 16:18:30,996 INFO sqlalchemy.engine.Engine PRAGMA temp.table_info(\"Positions\")\n",
      "2021-06-29 16:18:30,997 INFO sqlalchemy.engine.Engine [raw sql] ()\n",
      "2021-06-29 16:18:30,998 INFO sqlalchemy.engine.Engine PRAGMA main.table_info(\"Intervals\")\n",
      "2021-06-29 16:18:30,998 INFO sqlalchemy.engine.Engine [raw sql] ()\n",
      "2021-06-29 16:18:30,999 INFO sqlalchemy.engine.Engine PRAGMA temp.table_info(\"Intervals\")\n",
      "2021-06-29 16:18:31,000 INFO sqlalchemy.engine.Engine [raw sql] ()\n",
      "2021-06-29 16:18:31,001 INFO sqlalchemy.engine.Engine PRAGMA main.table_info(\"Components\")\n",
      "2021-06-29 16:18:31,002 INFO sqlalchemy.engine.Engine [raw sql] ()\n",
      "2021-06-29 16:18:31,002 INFO sqlalchemy.engine.Engine PRAGMA temp.table_info(\"Components\")\n",
      "2021-06-29 16:18:31,003 INFO sqlalchemy.engine.Engine [raw sql] ()\n",
      "2021-06-29 16:18:31,005 INFO sqlalchemy.engine.Engine PRAGMA main.table_info(\"Linkintervalcomponent\")\n",
      "2021-06-29 16:18:31,005 INFO sqlalchemy.engine.Engine [raw sql] ()\n",
      "2021-06-29 16:18:31,006 INFO sqlalchemy.engine.Engine PRAGMA temp.table_info(\"Linkintervalcomponent\")\n",
      "2021-06-29 16:18:31,007 INFO sqlalchemy.engine.Engine [raw sql] ()\n",
      "2021-06-29 16:18:31,008 INFO sqlalchemy.engine.Engine \n",
      "CREATE TABLE \"Boreholes\" (\n",
      "\tid VARCHAR(32) NOT NULL, \n",
      "\tlength FLOAT, \n",
      "\tdiameter FLOAT, \n",
      "\tPRIMARY KEY (id)\n",
      ")\n",
      "\n",
      "\n",
      "2021-06-29 16:18:31,009 INFO sqlalchemy.engine.Engine [no key 0.00078s] ()\n",
      "2021-06-29 16:18:31,013 INFO sqlalchemy.engine.Engine \n",
      "CREATE TABLE \"Positions\" (\n",
      "\tid INTEGER NOT NULL, \n",
      "\tupper FLOAT, \n",
      "\tmiddle FLOAT, \n",
      "\tlower FLOAT, \n",
      "\tx FLOAT, \n",
      "\ty FLOAT, \n",
      "\tPRIMARY KEY (id)\n",
      ")\n",
      "\n",
      "\n",
      "2021-06-29 16:18:31,014 INFO sqlalchemy.engine.Engine [no key 0.00095s] ()\n",
      "2021-06-29 16:18:31,019 INFO sqlalchemy.engine.Engine \n",
      "CREATE TABLE \"Components\" (\n",
      "\tid INTEGER NOT NULL, \n",
      "\tdescription VARCHAR(32), \n",
      "\tPRIMARY KEY (id)\n",
      ")\n",
      "\n",
      "\n",
      "2021-06-29 16:18:31,020 INFO sqlalchemy.engine.Engine [no key 0.00126s] ()\n",
      "2021-06-29 16:18:31,025 INFO sqlalchemy.engine.Engine \n",
      "CREATE TABLE \"Intervals\" (\n",
      "\tid INTEGER NOT NULL, \n",
      "\tborehole VARCHAR(32), \n",
      "\tinterval_number INTEGER, \n",
      "\tdescription VARCHAR(32), \n",
      "\ttop_id INTEGER, \n",
      "\tbase_id INTEGER, \n",
      "\tPRIMARY KEY (id), \n",
      "\tFOREIGN KEY(borehole) REFERENCES \"Boreholes\" (id), \n",
      "\tFOREIGN KEY(top_id) REFERENCES \"Positions\" (id), \n",
      "\tFOREIGN KEY(base_id) REFERENCES \"Positions\" (id)\n",
      ")\n",
      "\n",
      "\n",
      "2021-06-29 16:18:31,026 INFO sqlalchemy.engine.Engine [no key 0.00094s] ()\n",
      "2021-06-29 16:18:31,030 INFO sqlalchemy.engine.Engine \n",
      "CREATE TABLE \"Linkintervalcomponent\" (\n",
      "\tint_id INTEGER NOT NULL, \n",
      "\tcomp_id INTEGER NOT NULL, \n",
      "\textra_data VARCHAR(256), \n",
      "\tPRIMARY KEY (int_id, comp_id), \n",
      "\tFOREIGN KEY(int_id) REFERENCES \"Intervals\" (id), \n",
      "\tFOREIGN KEY(comp_id) REFERENCES \"Components\" (id)\n",
      ")\n",
      "\n",
      "\n",
      "2021-06-29 16:18:31,030 INFO sqlalchemy.engine.Engine [no key 0.00063s] ()\n",
      "2021-06-29 16:18:31,034 INFO sqlalchemy.engine.Engine COMMIT\n"
     ]
    }
   ],
   "source": [
    "Base.metadata.create_all(engine)"
   ]
  },
  {
   "cell_type": "code",
   "execution_count": 15,
   "metadata": {},
   "outputs": [],
   "source": [
    "Session = sessionmaker(bind=engine)\n",
    "session = Session()"
   ]
  },
  {
   "cell_type": "code",
   "execution_count": 16,
   "metadata": {},
   "outputs": [
    {
     "name": "stdout",
     "output_type": "stream",
     "text": [
      "2021-06-29 16:18:31,046 INFO sqlalchemy.engine.Engine BEGIN (implicit)\n",
      "2021-06-29 16:18:31,048 INFO sqlalchemy.engine.Engine SELECT \"Boreholes\".id AS \"Boreholes_id\", \"Boreholes\".length AS \"Boreholes_length\", \"Boreholes\".diameter AS \"Boreholes_diameter\" \n",
      "FROM \"Boreholes\"\n",
      "2021-06-29 16:18:31,049 INFO sqlalchemy.engine.Engine [generated in 0.00087s] ()\n",
      "2021-06-29 16:18:31,054 INFO sqlalchemy.engine.Engine INSERT INTO \"Components\" (id, description) VALUES (?, ?)\n",
      "2021-06-29 16:18:31,054 INFO sqlalchemy.engine.Engine [generated in 0.00086s] ((0, 'Marne, vs'), (1, 'Charbon, vs'), (2, 'Argile, vr'), (3, 'Sable, vi'), (4, 'Dolomie, vs'), (5, 'Sable, vs'), (6, 'Argile, vs'), (7, 'Charbon, vr')  ... displaying 10 of 17 total bound parameter sets ...  (15, 'Calcaire'), (16, 'Marne, vi'))\n",
      "2021-06-29 16:18:31,057 INFO sqlalchemy.engine.Engine COMMIT\n",
      "2021-06-29 16:18:31,060 INFO sqlalchemy.engine.Engine BEGIN (implicit)\n",
      "2021-06-29 16:18:31,061 INFO sqlalchemy.engine.Engine SELECT \"Boreholes\".id AS \"Boreholes_id\", \"Boreholes\".length AS \"Boreholes_length\", \"Boreholes\".diameter AS \"Boreholes_diameter\" \n",
      "FROM \"Boreholes\"\n",
      "2021-06-29 16:18:31,061 INFO sqlalchemy.engine.Engine [cached since 0.01303s ago] ()\n"
     ]
    }
   ],
   "source": [
    "p = Project(session, legend_dict={'lithology':lithology_memoris, 'pollutant':pollutant_memoris}, \n",
    "            lexicon=lexicon_memoris, repr_attribute='lithology')\n",
    "\n",
    "p.add_components(components)"
   ]
  },
  {
   "cell_type": "markdown",
   "metadata": {},
   "source": [
    "Add boreholes into the project"
   ]
  },
  {
   "cell_type": "code",
   "execution_count": 17,
   "metadata": {
    "scrolled": true
   },
   "outputs": [
    {
     "name": "stdout",
     "output_type": "stream",
     "text": [
      "2021-06-29 16:18:31,069 INFO sqlalchemy.engine.Engine INSERT INTO \"Boreholes\" (id, length, diameter) VALUES (?, ?, ?)\n",
      "2021-06-29 16:18:31,070 INFO sqlalchemy.engine.Engine [generated in 0.00112s] ('BH001', 28.0, 0.43)\n",
      "2021-06-29 16:18:31,072 INFO sqlalchemy.engine.Engine INSERT INTO \"Positions\" (id, upper, middle, lower, x, y) VALUES (?, ?, ?, ?, ?, ?)\n",
      "2021-06-29 16:18:31,073 INFO sqlalchemy.engine.Engine [generated in 0.00070s] ((0, 0.0, 0.0, 0.0, 152600.0, 121039.0), (1, 4.0, 4.0, 4.0, 152600.0, 121039.0), (2, 4.0, 4.0, 4.0, 152600.0, 121039.0), (3, 8.0, 8.0, 8.0, 152600.0, 121039.0), (4, 8.0, 8.0, 8.0, 152600.0, 121039.0), (5, 20.0, 20.0, 20.0, 152600.0, 121039.0), (6, 20.0, 20.0, 20.0, 152600.0, 121039.0), (7, 28.0, 28.0, 28.0, 152600.0, 121039.0))\n",
      "2021-06-29 16:18:31,076 INFO sqlalchemy.engine.Engine INSERT INTO \"Intervals\" (id, borehole, interval_number, description, top_id, base_id) VALUES (?, ?, ?, ?, ?, ?)\n",
      "2021-06-29 16:18:31,076 INFO sqlalchemy.engine.Engine [generated in 0.00088s] ((0, 'BH001', 0, 'Sable VI', 0, 1), (1, 'BH001', 1, 'Argile VR', 2, 3), (2, 'BH001', 2, 'Marne VS', 4, 5), (3, 'BH001', 3, 'Charbon VS', 6, 7))\n",
      "2021-06-29 16:18:31,078 INFO sqlalchemy.engine.Engine COMMIT\n",
      "2021-06-29 16:18:31,083 INFO sqlalchemy.engine.Engine BEGIN (implicit)\n",
      "2021-06-29 16:18:31,084 INFO sqlalchemy.engine.Engine SELECT \"Boreholes\".id AS \"Boreholes_id\", \"Boreholes\".length AS \"Boreholes_length\", \"Boreholes\".diameter AS \"Boreholes_diameter\" \n",
      "FROM \"Boreholes\"\n",
      "2021-06-29 16:18:31,085 INFO sqlalchemy.engine.Engine [cached since 0.03626s ago] ()\n",
      "2021-06-29 16:18:31,090 INFO sqlalchemy.engine.Engine SELECT \"Intervals\".id AS \"Intervals_id\", \"Intervals\".borehole AS \"Intervals_borehole\", \"Intervals\".interval_number AS \"Intervals_interval_number\", \"Intervals\".description AS \"Intervals_description\", \"Intervals\".top_id AS \"Intervals_top_id\", \"Intervals\".base_id AS \"Intervals_base_id\" \n",
      "FROM \"Intervals\" \n",
      "WHERE ? = \"Intervals\".borehole\n",
      "2021-06-29 16:18:31,091 INFO sqlalchemy.engine.Engine [generated in 0.00089s] ('BH001',)\n",
      "2021-06-29 16:18:31,094 INFO sqlalchemy.engine.Engine SELECT \"Positions\".id AS \"Positions_id\", \"Positions\".upper AS \"Positions_upper\", \"Positions\".middle AS \"Positions_middle\", \"Positions\".lower AS \"Positions_lower\", \"Positions\".x AS \"Positions_x\", \"Positions\".y AS \"Positions_y\" \n",
      "FROM \"Positions\" \n",
      "WHERE \"Positions\".id = ?\n",
      "2021-06-29 16:18:31,095 INFO sqlalchemy.engine.Engine [generated in 0.00062s] (0,)\n",
      "2021-06-29 16:18:31,098 INFO sqlalchemy.engine.Engine SELECT \"Positions\".id AS \"Positions_id\", \"Positions\".upper AS \"Positions_upper\", \"Positions\".middle AS \"Positions_middle\", \"Positions\".lower AS \"Positions_lower\", \"Positions\".x AS \"Positions_x\", \"Positions\".y AS \"Positions_y\" \n",
      "FROM \"Positions\" \n",
      "WHERE \"Positions\".id = ?\n",
      "2021-06-29 16:18:31,100 INFO sqlalchemy.engine.Engine [generated in 0.00263s] (1,)\n",
      "2021-06-29 16:18:31,103 INFO sqlalchemy.engine.Engine SELECT \"Positions\".id AS \"Positions_id\", \"Positions\".upper AS \"Positions_upper\", \"Positions\".middle AS \"Positions_middle\", \"Positions\".lower AS \"Positions_lower\", \"Positions\".x AS \"Positions_x\", \"Positions\".y AS \"Positions_y\" \n",
      "FROM \"Positions\" \n",
      "WHERE \"Positions\".id = ?\n",
      "2021-06-29 16:18:31,104 INFO sqlalchemy.engine.Engine [cached since 0.009246s ago] (2,)\n",
      "2021-06-29 16:18:31,105 INFO sqlalchemy.engine.Engine SELECT \"Positions\".id AS \"Positions_id\", \"Positions\".upper AS \"Positions_upper\", \"Positions\".middle AS \"Positions_middle\", \"Positions\".lower AS \"Positions_lower\", \"Positions\".x AS \"Positions_x\", \"Positions\".y AS \"Positions_y\" \n",
      "FROM \"Positions\" \n",
      "WHERE \"Positions\".id = ?\n",
      "2021-06-29 16:18:31,106 INFO sqlalchemy.engine.Engine [cached since 0.008525s ago] (3,)\n",
      "2021-06-29 16:18:31,108 INFO sqlalchemy.engine.Engine SELECT \"Positions\".id AS \"Positions_id\", \"Positions\".upper AS \"Positions_upper\", \"Positions\".middle AS \"Positions_middle\", \"Positions\".lower AS \"Positions_lower\", \"Positions\".x AS \"Positions_x\", \"Positions\".y AS \"Positions_y\" \n",
      "FROM \"Positions\" \n",
      "WHERE \"Positions\".id = ?\n",
      "2021-06-29 16:18:31,109 INFO sqlalchemy.engine.Engine [cached since 0.01438s ago] (4,)\n",
      "2021-06-29 16:18:31,110 INFO sqlalchemy.engine.Engine SELECT \"Positions\".id AS \"Positions_id\", \"Positions\".upper AS \"Positions_upper\", \"Positions\".middle AS \"Positions_middle\", \"Positions\".lower AS \"Positions_lower\", \"Positions\".x AS \"Positions_x\", \"Positions\".y AS \"Positions_y\" \n",
      "FROM \"Positions\" \n",
      "WHERE \"Positions\".id = ?\n",
      "2021-06-29 16:18:31,111 INFO sqlalchemy.engine.Engine [cached since 0.01372s ago] (5,)\n",
      "2021-06-29 16:18:31,114 INFO sqlalchemy.engine.Engine SELECT \"Positions\".id AS \"Positions_id\", \"Positions\".upper AS \"Positions_upper\", \"Positions\".middle AS \"Positions_middle\", \"Positions\".lower AS \"Positions_lower\", \"Positions\".x AS \"Positions_x\", \"Positions\".y AS \"Positions_y\" \n",
      "FROM \"Positions\" \n",
      "WHERE \"Positions\".id = ?\n",
      "2021-06-29 16:18:31,114 INFO sqlalchemy.engine.Engine [cached since 0.01983s ago] (6,)\n",
      "2021-06-29 16:18:31,116 INFO sqlalchemy.engine.Engine SELECT \"Positions\".id AS \"Positions_id\", \"Positions\".upper AS \"Positions_upper\", \"Positions\".middle AS \"Positions_middle\", \"Positions\".lower AS \"Positions_lower\", \"Positions\".x AS \"Positions_x\", \"Positions\".y AS \"Positions_y\" \n",
      "FROM \"Positions\" \n",
      "WHERE \"Positions\".id = ?\n",
      "2021-06-29 16:18:31,117 INFO sqlalchemy.engine.Engine [cached since 0.01935s ago] (7,)\n",
      "2021-06-29 16:18:31,128 INFO sqlalchemy.engine.Engine INSERT INTO \"Boreholes\" (id, length, diameter) VALUES (?, ?, ?)\n",
      "2021-06-29 16:18:31,128 INFO sqlalchemy.engine.Engine [cached since 0.05919s ago] ('BH002', 37.0, 0.6)\n",
      "2021-06-29 16:18:31,130 INFO sqlalchemy.engine.Engine INSERT INTO \"Positions\" (id, upper, middle, lower, x, y) VALUES (?, ?, ?, ?, ?, ?)\n",
      "2021-06-29 16:18:31,130 INFO sqlalchemy.engine.Engine [cached since 0.05842s ago] ((8, 0.0, 0.0, 0.0, 152819.0, 121586.0), (9, 5.0, 5.0, 5.0, 152819.0, 121586.0), (10, 5.0, 5.0, 5.0, 152819.0, 121586.0), (11, 8.0, 8.0, 8.0, 152819.0, 121586.0), (12, 8.0, 8.0, 8.0, 152819.0, 121586.0), (13, 14.0, 14.0, 14.0, 152819.0, 121586.0), (14, 14.0, 14.0, 14.0, 152819.0, 121586.0), (15, 15.0, 15.0, 15.0, 152819.0, 121586.0), (16, 15.0, 15.0, 15.0, 152819.0, 121586.0), (17, 37.0, 37.0, 37.0, 152819.0, 121586.0))\n",
      "2021-06-29 16:18:31,133 INFO sqlalchemy.engine.Engine INSERT INTO \"Intervals\" (id, borehole, interval_number, description, top_id, base_id) VALUES (?, ?, ?, ?, ?, ?)\n",
      "2021-06-29 16:18:31,134 INFO sqlalchemy.engine.Engine [cached since 0.05831s ago] ((4, 'BH002', 0, 'Sable VS', 8, 9), (5, 'BH002', 1, 'Argile VS', 10, 11), (6, 'BH002', 2, 'Marne VS', 12, 13), (7, 'BH002', 3, 'Charbon VR', 14, 15), (8, 'BH002', 4, 'Dolomie VS', 16, 17))\n",
      "2021-06-29 16:18:31,135 INFO sqlalchemy.engine.Engine COMMIT\n",
      "2021-06-29 16:18:31,139 INFO sqlalchemy.engine.Engine BEGIN (implicit)\n",
      "2021-06-29 16:18:31,140 INFO sqlalchemy.engine.Engine SELECT \"Boreholes\".id AS \"Boreholes_id\", \"Boreholes\".length AS \"Boreholes_length\", \"Boreholes\".diameter AS \"Boreholes_diameter\" \n",
      "FROM \"Boreholes\"\n",
      "2021-06-29 16:18:31,140 INFO sqlalchemy.engine.Engine [cached since 0.09201s ago] ()\n",
      "2021-06-29 16:18:31,141 INFO sqlalchemy.engine.Engine SELECT \"Intervals\".id AS \"Intervals_id\", \"Intervals\".borehole AS \"Intervals_borehole\", \"Intervals\".interval_number AS \"Intervals_interval_number\", \"Intervals\".description AS \"Intervals_description\", \"Intervals\".top_id AS \"Intervals_top_id\", \"Intervals\".base_id AS \"Intervals_base_id\" \n",
      "FROM \"Intervals\" \n",
      "WHERE ? = \"Intervals\".borehole\n",
      "2021-06-29 16:18:31,142 INFO sqlalchemy.engine.Engine [cached since 0.05237s ago] ('BH002',)\n",
      "2021-06-29 16:18:31,144 INFO sqlalchemy.engine.Engine SELECT \"Positions\".id AS \"Positions_id\", \"Positions\".upper AS \"Positions_upper\", \"Positions\".middle AS \"Positions_middle\", \"Positions\".lower AS \"Positions_lower\", \"Positions\".x AS \"Positions_x\", \"Positions\".y AS \"Positions_y\" \n",
      "FROM \"Positions\" \n",
      "WHERE \"Positions\".id = ?\n",
      "2021-06-29 16:18:31,144 INFO sqlalchemy.engine.Engine [cached since 0.04981s ago] (8,)\n",
      "2021-06-29 16:18:31,145 INFO sqlalchemy.engine.Engine SELECT \"Positions\".id AS \"Positions_id\", \"Positions\".upper AS \"Positions_upper\", \"Positions\".middle AS \"Positions_middle\", \"Positions\".lower AS \"Positions_lower\", \"Positions\".x AS \"Positions_x\", \"Positions\".y AS \"Positions_y\" \n",
      "FROM \"Positions\" \n",
      "WHERE \"Positions\".id = ?\n"
     ]
    },
    {
     "name": "stdout",
     "output_type": "stream",
     "text": [
      "2021-06-29 16:18:31,146 INFO sqlalchemy.engine.Engine [cached since 0.0485s ago] (9,)\n",
      "2021-06-29 16:18:31,149 INFO sqlalchemy.engine.Engine SELECT \"Positions\".id AS \"Positions_id\", \"Positions\".upper AS \"Positions_upper\", \"Positions\".middle AS \"Positions_middle\", \"Positions\".lower AS \"Positions_lower\", \"Positions\".x AS \"Positions_x\", \"Positions\".y AS \"Positions_y\" \n",
      "FROM \"Positions\" \n",
      "WHERE \"Positions\".id = ?\n",
      "2021-06-29 16:18:31,150 INFO sqlalchemy.engine.Engine [cached since 0.05579s ago] (10,)\n",
      "2021-06-29 16:18:31,152 INFO sqlalchemy.engine.Engine SELECT \"Positions\".id AS \"Positions_id\", \"Positions\".upper AS \"Positions_upper\", \"Positions\".middle AS \"Positions_middle\", \"Positions\".lower AS \"Positions_lower\", \"Positions\".x AS \"Positions_x\", \"Positions\".y AS \"Positions_y\" \n",
      "FROM \"Positions\" \n",
      "WHERE \"Positions\".id = ?\n",
      "2021-06-29 16:18:31,153 INFO sqlalchemy.engine.Engine [cached since 0.05541s ago] (11,)\n",
      "2021-06-29 16:18:31,155 INFO sqlalchemy.engine.Engine SELECT \"Positions\".id AS \"Positions_id\", \"Positions\".upper AS \"Positions_upper\", \"Positions\".middle AS \"Positions_middle\", \"Positions\".lower AS \"Positions_lower\", \"Positions\".x AS \"Positions_x\", \"Positions\".y AS \"Positions_y\" \n",
      "FROM \"Positions\" \n",
      "WHERE \"Positions\".id = ?\n",
      "2021-06-29 16:18:31,156 INFO sqlalchemy.engine.Engine [cached since 0.0615s ago] (12,)\n",
      "2021-06-29 16:18:31,158 INFO sqlalchemy.engine.Engine SELECT \"Positions\".id AS \"Positions_id\", \"Positions\".upper AS \"Positions_upper\", \"Positions\".middle AS \"Positions_middle\", \"Positions\".lower AS \"Positions_lower\", \"Positions\".x AS \"Positions_x\", \"Positions\".y AS \"Positions_y\" \n",
      "FROM \"Positions\" \n",
      "WHERE \"Positions\".id = ?\n",
      "2021-06-29 16:18:31,159 INFO sqlalchemy.engine.Engine [cached since 0.0613s ago] (13,)\n",
      "2021-06-29 16:18:31,161 INFO sqlalchemy.engine.Engine SELECT \"Positions\".id AS \"Positions_id\", \"Positions\".upper AS \"Positions_upper\", \"Positions\".middle AS \"Positions_middle\", \"Positions\".lower AS \"Positions_lower\", \"Positions\".x AS \"Positions_x\", \"Positions\".y AS \"Positions_y\" \n",
      "FROM \"Positions\" \n",
      "WHERE \"Positions\".id = ?\n",
      "2021-06-29 16:18:31,162 INFO sqlalchemy.engine.Engine [cached since 0.06779s ago] (14,)\n",
      "2021-06-29 16:18:31,164 INFO sqlalchemy.engine.Engine SELECT \"Positions\".id AS \"Positions_id\", \"Positions\".upper AS \"Positions_upper\", \"Positions\".middle AS \"Positions_middle\", \"Positions\".lower AS \"Positions_lower\", \"Positions\".x AS \"Positions_x\", \"Positions\".y AS \"Positions_y\" \n",
      "FROM \"Positions\" \n",
      "WHERE \"Positions\".id = ?\n",
      "2021-06-29 16:18:31,165 INFO sqlalchemy.engine.Engine [cached since 0.06761s ago] (15,)\n",
      "2021-06-29 16:18:31,167 INFO sqlalchemy.engine.Engine SELECT \"Positions\".id AS \"Positions_id\", \"Positions\".upper AS \"Positions_upper\", \"Positions\".middle AS \"Positions_middle\", \"Positions\".lower AS \"Positions_lower\", \"Positions\".x AS \"Positions_x\", \"Positions\".y AS \"Positions_y\" \n",
      "FROM \"Positions\" \n",
      "WHERE \"Positions\".id = ?\n",
      "2021-06-29 16:18:31,168 INFO sqlalchemy.engine.Engine [cached since 0.07369s ago] (16,)\n",
      "2021-06-29 16:18:31,170 INFO sqlalchemy.engine.Engine SELECT \"Positions\".id AS \"Positions_id\", \"Positions\".upper AS \"Positions_upper\", \"Positions\".middle AS \"Positions_middle\", \"Positions\".lower AS \"Positions_lower\", \"Positions\".x AS \"Positions_x\", \"Positions\".y AS \"Positions_y\" \n",
      "FROM \"Positions\" \n",
      "WHERE \"Positions\".id = ?\n",
      "2021-06-29 16:18:31,170 INFO sqlalchemy.engine.Engine [cached since 0.07267s ago] (17,)\n",
      "2021-06-29 16:18:31,181 INFO sqlalchemy.engine.Engine INSERT INTO \"Boreholes\" (id, length, diameter) VALUES (?, ?, ?)\n",
      "2021-06-29 16:18:31,182 INFO sqlalchemy.engine.Engine [cached since 0.1131s ago] ('BH003', 18.0, 0.41)\n",
      "2021-06-29 16:18:31,184 INFO sqlalchemy.engine.Engine INSERT INTO \"Positions\" (id, upper, middle, lower, x, y) VALUES (?, ?, ?, ?, ?, ?)\n",
      "2021-06-29 16:18:31,184 INFO sqlalchemy.engine.Engine [cached since 0.1124s ago] ((18, 0.0, 0.0, 0.0, 152922.0, 121313.0), (19, 3.0, 3.0, 3.0, 152922.0, 121313.0), (20, 3.0, 3.0, 3.0, 152922.0, 121313.0), (21, 6.0, 6.0, 6.0, 152922.0, 121313.0), (22, 6.0, 6.0, 6.0, 152922.0, 121313.0), (23, 9.0, 9.0, 9.0, 152922.0, 121313.0), (24, 9.0, 9.0, 9.0, 152922.0, 121313.0), (25, 13.0, 13.0, 13.0, 152922.0, 121313.0), (26, 13.0, 13.0, 13.0, 152922.0, 121313.0), (27, 18.0, 18.0, 18.0, 152922.0, 121313.0))\n",
      "2021-06-29 16:18:31,186 INFO sqlalchemy.engine.Engine INSERT INTO \"Intervals\" (id, borehole, interval_number, description, top_id, base_id) VALUES (?, ?, ?, ?, ?, ?)\n",
      "2021-06-29 16:18:31,186 INFO sqlalchemy.engine.Engine [cached since 0.1108s ago] ((9, 'BH003', 0, 'Sable VS', 18, 19), (10, 'BH003', 1, 'Argile VI', 20, 21), (11, 'BH003', 2, 'Marne VS', 22, 23), (12, 'BH003', 3, 'Charbon VR', 24, 25), (13, 'BH003', 4, 'Dolomie VI', 26, 27))\n",
      "2021-06-29 16:18:31,188 INFO sqlalchemy.engine.Engine COMMIT\n",
      "2021-06-29 16:18:31,191 INFO sqlalchemy.engine.Engine BEGIN (implicit)\n",
      "2021-06-29 16:18:31,192 INFO sqlalchemy.engine.Engine SELECT \"Boreholes\".id AS \"Boreholes_id\", \"Boreholes\".length AS \"Boreholes_length\", \"Boreholes\".diameter AS \"Boreholes_diameter\" \n",
      "FROM \"Boreholes\"\n",
      "2021-06-29 16:18:31,192 INFO sqlalchemy.engine.Engine [cached since 0.1442s ago] ()\n",
      "2021-06-29 16:18:31,194 INFO sqlalchemy.engine.Engine SELECT \"Intervals\".id AS \"Intervals_id\", \"Intervals\".borehole AS \"Intervals_borehole\", \"Intervals\".interval_number AS \"Intervals_interval_number\", \"Intervals\".description AS \"Intervals_description\", \"Intervals\".top_id AS \"Intervals_top_id\", \"Intervals\".base_id AS \"Intervals_base_id\" \n",
      "FROM \"Intervals\" \n",
      "WHERE ? = \"Intervals\".borehole\n",
      "2021-06-29 16:18:31,195 INFO sqlalchemy.engine.Engine [cached since 0.1055s ago] ('BH003',)\n",
      "2021-06-29 16:18:31,198 INFO sqlalchemy.engine.Engine SELECT \"Positions\".id AS \"Positions_id\", \"Positions\".upper AS \"Positions_upper\", \"Positions\".middle AS \"Positions_middle\", \"Positions\".lower AS \"Positions_lower\", \"Positions\".x AS \"Positions_x\", \"Positions\".y AS \"Positions_y\" \n",
      "FROM \"Positions\" \n",
      "WHERE \"Positions\".id = ?\n",
      "2021-06-29 16:18:31,198 INFO sqlalchemy.engine.Engine [cached since 0.104s ago] (18,)\n",
      "2021-06-29 16:18:31,200 INFO sqlalchemy.engine.Engine SELECT \"Positions\".id AS \"Positions_id\", \"Positions\".upper AS \"Positions_upper\", \"Positions\".middle AS \"Positions_middle\", \"Positions\".lower AS \"Positions_lower\", \"Positions\".x AS \"Positions_x\", \"Positions\".y AS \"Positions_y\" \n",
      "FROM \"Positions\" \n",
      "WHERE \"Positions\".id = ?\n",
      "2021-06-29 16:18:31,201 INFO sqlalchemy.engine.Engine [cached since 0.1034s ago] (19,)\n",
      "2021-06-29 16:18:31,202 INFO sqlalchemy.engine.Engine SELECT \"Positions\".id AS \"Positions_id\", \"Positions\".upper AS \"Positions_upper\", \"Positions\".middle AS \"Positions_middle\", \"Positions\".lower AS \"Positions_lower\", \"Positions\".x AS \"Positions_x\", \"Positions\".y AS \"Positions_y\" \n",
      "FROM \"Positions\" \n",
      "WHERE \"Positions\".id = ?\n",
      "2021-06-29 16:18:31,204 INFO sqlalchemy.engine.Engine [cached since 0.1092s ago] (20,)\n",
      "2021-06-29 16:18:31,205 INFO sqlalchemy.engine.Engine SELECT \"Positions\".id AS \"Positions_id\", \"Positions\".upper AS \"Positions_upper\", \"Positions\".middle AS \"Positions_middle\", \"Positions\".lower AS \"Positions_lower\", \"Positions\".x AS \"Positions_x\", \"Positions\".y AS \"Positions_y\" \n",
      "FROM \"Positions\" \n",
      "WHERE \"Positions\".id = ?\n",
      "2021-06-29 16:18:31,205 INFO sqlalchemy.engine.Engine [cached since 0.1078s ago] (21,)\n",
      "2021-06-29 16:18:31,207 INFO sqlalchemy.engine.Engine SELECT \"Positions\".id AS \"Positions_id\", \"Positions\".upper AS \"Positions_upper\", \"Positions\".middle AS \"Positions_middle\", \"Positions\".lower AS \"Positions_lower\", \"Positions\".x AS \"Positions_x\", \"Positions\".y AS \"Positions_y\" \n",
      "FROM \"Positions\" \n",
      "WHERE \"Positions\".id = ?\n",
      "2021-06-29 16:18:31,207 INFO sqlalchemy.engine.Engine [cached since 0.1128s ago] (22,)\n",
      "2021-06-29 16:18:31,209 INFO sqlalchemy.engine.Engine SELECT \"Positions\".id AS \"Positions_id\", \"Positions\".upper AS \"Positions_upper\", \"Positions\".middle AS \"Positions_middle\", \"Positions\".lower AS \"Positions_lower\", \"Positions\".x AS \"Positions_x\", \"Positions\".y AS \"Positions_y\" \n",
      "FROM \"Positions\" \n",
      "WHERE \"Positions\".id = ?\n",
      "2021-06-29 16:18:31,210 INFO sqlalchemy.engine.Engine [cached since 0.112s ago] (23,)\n",
      "2021-06-29 16:18:31,212 INFO sqlalchemy.engine.Engine SELECT \"Positions\".id AS \"Positions_id\", \"Positions\".upper AS \"Positions_upper\", \"Positions\".middle AS \"Positions_middle\", \"Positions\".lower AS \"Positions_lower\", \"Positions\".x AS \"Positions_x\", \"Positions\".y AS \"Positions_y\" \n",
      "FROM \"Positions\" \n",
      "WHERE \"Positions\".id = ?\n"
     ]
    },
    {
     "name": "stdout",
     "output_type": "stream",
     "text": [
      "2021-06-29 16:18:31,213 INFO sqlalchemy.engine.Engine [cached since 0.1181s ago] (24,)\n",
      "2021-06-29 16:18:31,215 INFO sqlalchemy.engine.Engine SELECT \"Positions\".id AS \"Positions_id\", \"Positions\".upper AS \"Positions_upper\", \"Positions\".middle AS \"Positions_middle\", \"Positions\".lower AS \"Positions_lower\", \"Positions\".x AS \"Positions_x\", \"Positions\".y AS \"Positions_y\" \n",
      "FROM \"Positions\" \n",
      "WHERE \"Positions\".id = ?\n",
      "2021-06-29 16:18:31,215 INFO sqlalchemy.engine.Engine [cached since 0.1177s ago] (25,)\n",
      "2021-06-29 16:18:31,217 INFO sqlalchemy.engine.Engine SELECT \"Positions\".id AS \"Positions_id\", \"Positions\".upper AS \"Positions_upper\", \"Positions\".middle AS \"Positions_middle\", \"Positions\".lower AS \"Positions_lower\", \"Positions\".x AS \"Positions_x\", \"Positions\".y AS \"Positions_y\" \n",
      "FROM \"Positions\" \n",
      "WHERE \"Positions\".id = ?\n",
      "2021-06-29 16:18:31,218 INFO sqlalchemy.engine.Engine [cached since 0.1232s ago] (26,)\n",
      "2021-06-29 16:18:31,219 INFO sqlalchemy.engine.Engine SELECT \"Positions\".id AS \"Positions_id\", \"Positions\".upper AS \"Positions_upper\", \"Positions\".middle AS \"Positions_middle\", \"Positions\".lower AS \"Positions_lower\", \"Positions\".x AS \"Positions_x\", \"Positions\".y AS \"Positions_y\" \n",
      "FROM \"Positions\" \n",
      "WHERE \"Positions\".id = ?\n",
      "2021-06-29 16:18:31,220 INFO sqlalchemy.engine.Engine [cached since 0.1221s ago] (27,)\n",
      "2021-06-29 16:18:31,233 INFO sqlalchemy.engine.Engine INSERT INTO \"Boreholes\" (id, length, diameter) VALUES (?, ?, ?)\n",
      "2021-06-29 16:18:31,233 INFO sqlalchemy.engine.Engine [cached since 0.164s ago] ('BH004', 26.0, 0.61)\n",
      "2021-06-29 16:18:31,235 INFO sqlalchemy.engine.Engine INSERT INTO \"Positions\" (id, upper, middle, lower, x, y) VALUES (?, ?, ?, ?, ?, ?)\n",
      "2021-06-29 16:18:31,236 INFO sqlalchemy.engine.Engine [cached since 0.1636s ago] ((28, 0.0, 0.0, 0.0, 152766.0, 121494.0), (29, 5.0, 5.0, 5.0, 152766.0, 121494.0), (30, 5.0, 5.0, 5.0, 152766.0, 121494.0), (31, 7.0, 7.0, 7.0, 152766.0, 121494.0), (32, 7.0, 7.0, 7.0, 152766.0, 121494.0), (33, 14.0, 14.0, 14.0, 152766.0, 121494.0), (34, 14.0, 14.0, 14.0, 152766.0, 121494.0), (35, 16.0, 16.0, 16.0, 152766.0, 121494.0), (36, 16.0, 16.0, 16.0, 152766.0, 121494.0), (37, 26.0, 26.0, 26.0, 152766.0, 121494.0))\n",
      "2021-06-29 16:18:31,238 INFO sqlalchemy.engine.Engine INSERT INTO \"Intervals\" (id, borehole, interval_number, description, top_id, base_id) VALUES (?, ?, ?, ?, ?, ?)\n",
      "2021-06-29 16:18:31,238 INFO sqlalchemy.engine.Engine [cached since 0.1627s ago] ((14, 'BH004', 0, 'Sable VR', 28, 29), (15, 'BH004', 1, 'Argile VI', 30, 31), (16, 'BH004', 2, 'Marne VR', 32, 33), (17, 'BH004', 3, 'Charbon VI', 34, 35), (18, 'BH004', 4, 'Dolomie VI', 36, 37))\n",
      "2021-06-29 16:18:31,240 INFO sqlalchemy.engine.Engine COMMIT\n",
      "2021-06-29 16:18:31,244 INFO sqlalchemy.engine.Engine BEGIN (implicit)\n",
      "2021-06-29 16:18:31,246 INFO sqlalchemy.engine.Engine SELECT \"Boreholes\".id AS \"Boreholes_id\", \"Boreholes\".length AS \"Boreholes_length\", \"Boreholes\".diameter AS \"Boreholes_diameter\" \n",
      "FROM \"Boreholes\"\n",
      "2021-06-29 16:18:31,246 INFO sqlalchemy.engine.Engine [cached since 0.198s ago] ()\n",
      "2021-06-29 16:18:31,248 INFO sqlalchemy.engine.Engine SELECT \"Intervals\".id AS \"Intervals_id\", \"Intervals\".borehole AS \"Intervals_borehole\", \"Intervals\".interval_number AS \"Intervals_interval_number\", \"Intervals\".description AS \"Intervals_description\", \"Intervals\".top_id AS \"Intervals_top_id\", \"Intervals\".base_id AS \"Intervals_base_id\" \n",
      "FROM \"Intervals\" \n",
      "WHERE ? = \"Intervals\".borehole\n",
      "2021-06-29 16:18:31,249 INFO sqlalchemy.engine.Engine [cached since 0.1589s ago] ('BH004',)\n",
      "2021-06-29 16:18:31,251 INFO sqlalchemy.engine.Engine SELECT \"Positions\".id AS \"Positions_id\", \"Positions\".upper AS \"Positions_upper\", \"Positions\".middle AS \"Positions_middle\", \"Positions\".lower AS \"Positions_lower\", \"Positions\".x AS \"Positions_x\", \"Positions\".y AS \"Positions_y\" \n",
      "FROM \"Positions\" \n",
      "WHERE \"Positions\".id = ?\n",
      "2021-06-29 16:18:31,251 INFO sqlalchemy.engine.Engine [cached since 0.1569s ago] (28,)\n",
      "2021-06-29 16:18:31,253 INFO sqlalchemy.engine.Engine SELECT \"Positions\".id AS \"Positions_id\", \"Positions\".upper AS \"Positions_upper\", \"Positions\".middle AS \"Positions_middle\", \"Positions\".lower AS \"Positions_lower\", \"Positions\".x AS \"Positions_x\", \"Positions\".y AS \"Positions_y\" \n",
      "FROM \"Positions\" \n",
      "WHERE \"Positions\".id = ?\n",
      "2021-06-29 16:18:31,254 INFO sqlalchemy.engine.Engine [cached since 0.1564s ago] (29,)\n",
      "2021-06-29 16:18:31,256 INFO sqlalchemy.engine.Engine SELECT \"Positions\".id AS \"Positions_id\", \"Positions\".upper AS \"Positions_upper\", \"Positions\".middle AS \"Positions_middle\", \"Positions\".lower AS \"Positions_lower\", \"Positions\".x AS \"Positions_x\", \"Positions\".y AS \"Positions_y\" \n",
      "FROM \"Positions\" \n",
      "WHERE \"Positions\".id = ?\n",
      "2021-06-29 16:18:31,256 INFO sqlalchemy.engine.Engine [cached since 0.1619s ago] (30,)\n",
      "2021-06-29 16:18:31,258 INFO sqlalchemy.engine.Engine SELECT \"Positions\".id AS \"Positions_id\", \"Positions\".upper AS \"Positions_upper\", \"Positions\".middle AS \"Positions_middle\", \"Positions\".lower AS \"Positions_lower\", \"Positions\".x AS \"Positions_x\", \"Positions\".y AS \"Positions_y\" \n",
      "FROM \"Positions\" \n",
      "WHERE \"Positions\".id = ?\n",
      "2021-06-29 16:18:31,259 INFO sqlalchemy.engine.Engine [cached since 0.161s ago] (31,)\n",
      "2021-06-29 16:18:31,261 INFO sqlalchemy.engine.Engine SELECT \"Positions\".id AS \"Positions_id\", \"Positions\".upper AS \"Positions_upper\", \"Positions\".middle AS \"Positions_middle\", \"Positions\".lower AS \"Positions_lower\", \"Positions\".x AS \"Positions_x\", \"Positions\".y AS \"Positions_y\" \n",
      "FROM \"Positions\" \n",
      "WHERE \"Positions\".id = ?\n",
      "2021-06-29 16:18:31,261 INFO sqlalchemy.engine.Engine [cached since 0.167s ago] (32,)\n",
      "2021-06-29 16:18:31,263 INFO sqlalchemy.engine.Engine SELECT \"Positions\".id AS \"Positions_id\", \"Positions\".upper AS \"Positions_upper\", \"Positions\".middle AS \"Positions_middle\", \"Positions\".lower AS \"Positions_lower\", \"Positions\".x AS \"Positions_x\", \"Positions\".y AS \"Positions_y\" \n",
      "FROM \"Positions\" \n",
      "WHERE \"Positions\".id = ?\n",
      "2021-06-29 16:18:31,264 INFO sqlalchemy.engine.Engine [cached since 0.1663s ago] (33,)\n",
      "2021-06-29 16:18:31,265 INFO sqlalchemy.engine.Engine SELECT \"Positions\".id AS \"Positions_id\", \"Positions\".upper AS \"Positions_upper\", \"Positions\".middle AS \"Positions_middle\", \"Positions\".lower AS \"Positions_lower\", \"Positions\".x AS \"Positions_x\", \"Positions\".y AS \"Positions_y\" \n",
      "FROM \"Positions\" \n",
      "WHERE \"Positions\".id = ?\n",
      "2021-06-29 16:18:31,266 INFO sqlalchemy.engine.Engine [cached since 0.1711s ago] (34,)\n",
      "2021-06-29 16:18:31,267 INFO sqlalchemy.engine.Engine SELECT \"Positions\".id AS \"Positions_id\", \"Positions\".upper AS \"Positions_upper\", \"Positions\".middle AS \"Positions_middle\", \"Positions\".lower AS \"Positions_lower\", \"Positions\".x AS \"Positions_x\", \"Positions\".y AS \"Positions_y\" \n",
      "FROM \"Positions\" \n",
      "WHERE \"Positions\".id = ?\n",
      "2021-06-29 16:18:31,267 INFO sqlalchemy.engine.Engine [cached since 0.1699s ago] (35,)\n",
      "2021-06-29 16:18:31,269 INFO sqlalchemy.engine.Engine SELECT \"Positions\".id AS \"Positions_id\", \"Positions\".upper AS \"Positions_upper\", \"Positions\".middle AS \"Positions_middle\", \"Positions\".lower AS \"Positions_lower\", \"Positions\".x AS \"Positions_x\", \"Positions\".y AS \"Positions_y\" \n",
      "FROM \"Positions\" \n",
      "WHERE \"Positions\".id = ?\n",
      "2021-06-29 16:18:31,269 INFO sqlalchemy.engine.Engine [cached since 0.1748s ago] (36,)\n",
      "2021-06-29 16:18:31,271 INFO sqlalchemy.engine.Engine SELECT \"Positions\".id AS \"Positions_id\", \"Positions\".upper AS \"Positions_upper\", \"Positions\".middle AS \"Positions_middle\", \"Positions\".lower AS \"Positions_lower\", \"Positions\".x AS \"Positions_x\", \"Positions\".y AS \"Positions_y\" \n",
      "FROM \"Positions\" \n",
      "WHERE \"Positions\".id = ?\n",
      "2021-06-29 16:18:31,272 INFO sqlalchemy.engine.Engine [cached since 0.1746s ago] (37,)\n",
      "2021-06-29 16:18:31,283 INFO sqlalchemy.engine.Engine INSERT INTO \"Boreholes\" (id, length, diameter) VALUES (?, ?, ?)\n",
      "2021-06-29 16:18:31,283 INFO sqlalchemy.engine.Engine [cached since 0.2143s ago] ('BH005', 32.0, 0.61)\n",
      "2021-06-29 16:18:31,285 INFO sqlalchemy.engine.Engine INSERT INTO \"Positions\" (id, upper, middle, lower, x, y) VALUES (?, ?, ?, ?, ?, ?)\n",
      "2021-06-29 16:18:31,286 INFO sqlalchemy.engine.Engine [cached since 0.2138s ago] ((38, 0.0, 0.0, 0.0, 152473.0, 121460.0), (39, 4.0, 4.0, 4.0, 152473.0, 121460.0), (40, 4.0, 4.0, 4.0, 152473.0, 121460.0), (41, 8.0, 8.0, 8.0, 152473.0, 121460.0), (42, 8.0, 8.0, 8.0, 152473.0, 121460.0), (43, 19.0, 19.0, 19.0, 152473.0, 121460.0), (44, 19.0, 19.0, 19.0, 152473.0, 121460.0), (45, 27.0, 27.0, 27.0, 152473.0, 121460.0)  ... displaying 10 of 12 total bound parameter sets ...  (48, 29.0, 29.0, 29.0, 152473.0, 121460.0), (49, 32.0, 32.0, 32.0, 152473.0, 121460.0))\n"
     ]
    },
    {
     "name": "stdout",
     "output_type": "stream",
     "text": [
      "2021-06-29 16:18:31,288 INFO sqlalchemy.engine.Engine INSERT INTO \"Intervals\" (id, borehole, interval_number, description, top_id, base_id) VALUES (?, ?, ?, ?, ?, ?)\n",
      "2021-06-29 16:18:31,289 INFO sqlalchemy.engine.Engine [cached since 0.2133s ago] ((19, 'BH005', 0, 'Sable VS', 38, 39), (20, 'BH005', 1, 'Argile VI', 40, 41), (21, 'BH005', 2, 'Marne VS', 42, 43), (22, 'BH005', 3, 'Charbon VS', 44, 45), (23, 'BH005', 4, 'Dolomie VS', 46, 47), (24, 'BH005', 5, 'Schiste Cl', 48, 49))\n",
      "2021-06-29 16:18:31,291 INFO sqlalchemy.engine.Engine COMMIT\n",
      "2021-06-29 16:18:31,294 INFO sqlalchemy.engine.Engine BEGIN (implicit)\n",
      "2021-06-29 16:18:31,295 INFO sqlalchemy.engine.Engine SELECT \"Boreholes\".id AS \"Boreholes_id\", \"Boreholes\".length AS \"Boreholes_length\", \"Boreholes\".diameter AS \"Boreholes_diameter\" \n",
      "FROM \"Boreholes\"\n",
      "2021-06-29 16:18:31,295 INFO sqlalchemy.engine.Engine [cached since 0.2472s ago] ()\n",
      "2021-06-29 16:18:31,298 INFO sqlalchemy.engine.Engine SELECT \"Intervals\".id AS \"Intervals_id\", \"Intervals\".borehole AS \"Intervals_borehole\", \"Intervals\".interval_number AS \"Intervals_interval_number\", \"Intervals\".description AS \"Intervals_description\", \"Intervals\".top_id AS \"Intervals_top_id\", \"Intervals\".base_id AS \"Intervals_base_id\" \n",
      "FROM \"Intervals\" \n",
      "WHERE ? = \"Intervals\".borehole\n",
      "2021-06-29 16:18:31,299 INFO sqlalchemy.engine.Engine [cached since 0.2087s ago] ('BH005',)\n",
      "2021-06-29 16:18:31,300 INFO sqlalchemy.engine.Engine SELECT \"Positions\".id AS \"Positions_id\", \"Positions\".upper AS \"Positions_upper\", \"Positions\".middle AS \"Positions_middle\", \"Positions\".lower AS \"Positions_lower\", \"Positions\".x AS \"Positions_x\", \"Positions\".y AS \"Positions_y\" \n",
      "FROM \"Positions\" \n",
      "WHERE \"Positions\".id = ?\n",
      "2021-06-29 16:18:31,301 INFO sqlalchemy.engine.Engine [cached since 0.2061s ago] (38,)\n",
      "2021-06-29 16:18:31,303 INFO sqlalchemy.engine.Engine SELECT \"Positions\".id AS \"Positions_id\", \"Positions\".upper AS \"Positions_upper\", \"Positions\".middle AS \"Positions_middle\", \"Positions\".lower AS \"Positions_lower\", \"Positions\".x AS \"Positions_x\", \"Positions\".y AS \"Positions_y\" \n",
      "FROM \"Positions\" \n",
      "WHERE \"Positions\".id = ?\n",
      "2021-06-29 16:18:31,304 INFO sqlalchemy.engine.Engine [cached since 0.2061s ago] (39,)\n",
      "2021-06-29 16:18:31,305 INFO sqlalchemy.engine.Engine SELECT \"Positions\".id AS \"Positions_id\", \"Positions\".upper AS \"Positions_upper\", \"Positions\".middle AS \"Positions_middle\", \"Positions\".lower AS \"Positions_lower\", \"Positions\".x AS \"Positions_x\", \"Positions\".y AS \"Positions_y\" \n",
      "FROM \"Positions\" \n",
      "WHERE \"Positions\".id = ?\n",
      "2021-06-29 16:18:31,306 INFO sqlalchemy.engine.Engine [cached since 0.2116s ago] (40,)\n",
      "2021-06-29 16:18:31,307 INFO sqlalchemy.engine.Engine SELECT \"Positions\".id AS \"Positions_id\", \"Positions\".upper AS \"Positions_upper\", \"Positions\".middle AS \"Positions_middle\", \"Positions\".lower AS \"Positions_lower\", \"Positions\".x AS \"Positions_x\", \"Positions\".y AS \"Positions_y\" \n",
      "FROM \"Positions\" \n",
      "WHERE \"Positions\".id = ?\n",
      "2021-06-29 16:18:31,308 INFO sqlalchemy.engine.Engine [cached since 0.2103s ago] (41,)\n",
      "2021-06-29 16:18:31,311 INFO sqlalchemy.engine.Engine SELECT \"Positions\".id AS \"Positions_id\", \"Positions\".upper AS \"Positions_upper\", \"Positions\".middle AS \"Positions_middle\", \"Positions\".lower AS \"Positions_lower\", \"Positions\".x AS \"Positions_x\", \"Positions\".y AS \"Positions_y\" \n",
      "FROM \"Positions\" \n",
      "WHERE \"Positions\".id = ?\n",
      "2021-06-29 16:18:31,312 INFO sqlalchemy.engine.Engine [cached since 0.2172s ago] (42,)\n",
      "2021-06-29 16:18:31,313 INFO sqlalchemy.engine.Engine SELECT \"Positions\".id AS \"Positions_id\", \"Positions\".upper AS \"Positions_upper\", \"Positions\".middle AS \"Positions_middle\", \"Positions\".lower AS \"Positions_lower\", \"Positions\".x AS \"Positions_x\", \"Positions\".y AS \"Positions_y\" \n",
      "FROM \"Positions\" \n",
      "WHERE \"Positions\".id = ?\n",
      "2021-06-29 16:18:31,314 INFO sqlalchemy.engine.Engine [cached since 0.2166s ago] (43,)\n",
      "2021-06-29 16:18:31,317 INFO sqlalchemy.engine.Engine SELECT \"Positions\".id AS \"Positions_id\", \"Positions\".upper AS \"Positions_upper\", \"Positions\".middle AS \"Positions_middle\", \"Positions\".lower AS \"Positions_lower\", \"Positions\".x AS \"Positions_x\", \"Positions\".y AS \"Positions_y\" \n",
      "FROM \"Positions\" \n",
      "WHERE \"Positions\".id = ?\n",
      "2021-06-29 16:18:31,317 INFO sqlalchemy.engine.Engine [cached since 0.2228s ago] (44,)\n",
      "2021-06-29 16:18:31,319 INFO sqlalchemy.engine.Engine SELECT \"Positions\".id AS \"Positions_id\", \"Positions\".upper AS \"Positions_upper\", \"Positions\".middle AS \"Positions_middle\", \"Positions\".lower AS \"Positions_lower\", \"Positions\".x AS \"Positions_x\", \"Positions\".y AS \"Positions_y\" \n",
      "FROM \"Positions\" \n",
      "WHERE \"Positions\".id = ?\n",
      "2021-06-29 16:18:31,319 INFO sqlalchemy.engine.Engine [cached since 0.2217s ago] (45,)\n",
      "2021-06-29 16:18:31,321 INFO sqlalchemy.engine.Engine SELECT \"Positions\".id AS \"Positions_id\", \"Positions\".upper AS \"Positions_upper\", \"Positions\".middle AS \"Positions_middle\", \"Positions\".lower AS \"Positions_lower\", \"Positions\".x AS \"Positions_x\", \"Positions\".y AS \"Positions_y\" \n",
      "FROM \"Positions\" \n",
      "WHERE \"Positions\".id = ?\n",
      "2021-06-29 16:18:31,321 INFO sqlalchemy.engine.Engine [cached since 0.227s ago] (46,)\n",
      "2021-06-29 16:18:31,323 INFO sqlalchemy.engine.Engine SELECT \"Positions\".id AS \"Positions_id\", \"Positions\".upper AS \"Positions_upper\", \"Positions\".middle AS \"Positions_middle\", \"Positions\".lower AS \"Positions_lower\", \"Positions\".x AS \"Positions_x\", \"Positions\".y AS \"Positions_y\" \n",
      "FROM \"Positions\" \n",
      "WHERE \"Positions\".id = ?\n",
      "2021-06-29 16:18:31,324 INFO sqlalchemy.engine.Engine [cached since 0.226s ago] (47,)\n",
      "2021-06-29 16:18:31,326 INFO sqlalchemy.engine.Engine SELECT \"Positions\".id AS \"Positions_id\", \"Positions\".upper AS \"Positions_upper\", \"Positions\".middle AS \"Positions_middle\", \"Positions\".lower AS \"Positions_lower\", \"Positions\".x AS \"Positions_x\", \"Positions\".y AS \"Positions_y\" \n",
      "FROM \"Positions\" \n",
      "WHERE \"Positions\".id = ?\n",
      "2021-06-29 16:18:31,327 INFO sqlalchemy.engine.Engine [cached since 0.2323s ago] (48,)\n",
      "2021-06-29 16:18:31,329 INFO sqlalchemy.engine.Engine SELECT \"Positions\".id AS \"Positions_id\", \"Positions\".upper AS \"Positions_upper\", \"Positions\".middle AS \"Positions_middle\", \"Positions\".lower AS \"Positions_lower\", \"Positions\".x AS \"Positions_x\", \"Positions\".y AS \"Positions_y\" \n",
      "FROM \"Positions\" \n",
      "WHERE \"Positions\".id = ?\n",
      "2021-06-29 16:18:31,330 INFO sqlalchemy.engine.Engine [cached since 0.2322s ago] (49,)\n",
      "2021-06-29 16:18:31,343 INFO sqlalchemy.engine.Engine INSERT INTO \"Boreholes\" (id, length, diameter) VALUES (?, ?, ?)\n",
      "2021-06-29 16:18:31,344 INFO sqlalchemy.engine.Engine [cached since 0.2747s ago] ('BH006', 26.0, 0.31)\n",
      "2021-06-29 16:18:31,346 INFO sqlalchemy.engine.Engine INSERT INTO \"Positions\" (id, upper, middle, lower, x, y) VALUES (?, ?, ?, ?, ?, ?)\n",
      "2021-06-29 16:18:31,347 INFO sqlalchemy.engine.Engine [cached since 0.2747s ago] ((50, 0.0, 0.0, 0.0, 152375.0, 121002.0), (51, 1.0, 1.0, 1.0, 152375.0, 121002.0), (52, 1.0, 1.0, 1.0, 152375.0, 121002.0), (53, 3.0, 3.0, 3.0, 152375.0, 121002.0), (54, 3.0, 3.0, 3.0, 152375.0, 121002.0), (55, 9.0, 9.0, 9.0, 152375.0, 121002.0), (56, 9.0, 9.0, 9.0, 152375.0, 121002.0), (57, 15.0, 15.0, 15.0, 152375.0, 121002.0), (58, 15.0, 15.0, 15.0, 152375.0, 121002.0), (59, 26.0, 26.0, 26.0, 152375.0, 121002.0))\n",
      "2021-06-29 16:18:31,349 INFO sqlalchemy.engine.Engine INSERT INTO \"Intervals\" (id, borehole, interval_number, description, top_id, base_id) VALUES (?, ?, ?, ?, ?, ?)\n",
      "2021-06-29 16:18:31,350 INFO sqlalchemy.engine.Engine [cached since 0.2742s ago] ((25, 'BH006', 0, 'Sable VI', 50, 51), (26, 'BH006', 1, 'Argile VI', 52, 53), (27, 'BH006', 2, 'Marne VR', 54, 55), (28, 'BH006', 3, 'Charbon VR', 56, 57), (29, 'BH006', 4, 'Dolomie VR', 58, 59))\n",
      "2021-06-29 16:18:31,351 INFO sqlalchemy.engine.Engine COMMIT\n",
      "2021-06-29 16:18:31,355 INFO sqlalchemy.engine.Engine BEGIN (implicit)\n",
      "2021-06-29 16:18:31,356 INFO sqlalchemy.engine.Engine SELECT \"Boreholes\".id AS \"Boreholes_id\", \"Boreholes\".length AS \"Boreholes_length\", \"Boreholes\".diameter AS \"Boreholes_diameter\" \n",
      "FROM \"Boreholes\"\n",
      "2021-06-29 16:18:31,357 INFO sqlalchemy.engine.Engine [cached since 0.3084s ago] ()\n",
      "2021-06-29 16:18:31,358 INFO sqlalchemy.engine.Engine SELECT \"Intervals\".id AS \"Intervals_id\", \"Intervals\".borehole AS \"Intervals_borehole\", \"Intervals\".interval_number AS \"Intervals_interval_number\", \"Intervals\".description AS \"Intervals_description\", \"Intervals\".top_id AS \"Intervals_top_id\", \"Intervals\".base_id AS \"Intervals_base_id\" \n",
      "FROM \"Intervals\" \n",
      "WHERE ? = \"Intervals\".borehole\n"
     ]
    },
    {
     "name": "stdout",
     "output_type": "stream",
     "text": [
      "2021-06-29 16:18:31,358 INFO sqlalchemy.engine.Engine [cached since 0.2687s ago] ('BH006',)\n",
      "2021-06-29 16:18:31,360 INFO sqlalchemy.engine.Engine SELECT \"Positions\".id AS \"Positions_id\", \"Positions\".upper AS \"Positions_upper\", \"Positions\".middle AS \"Positions_middle\", \"Positions\".lower AS \"Positions_lower\", \"Positions\".x AS \"Positions_x\", \"Positions\".y AS \"Positions_y\" \n",
      "FROM \"Positions\" \n",
      "WHERE \"Positions\".id = ?\n",
      "2021-06-29 16:18:31,360 INFO sqlalchemy.engine.Engine [cached since 0.2661s ago] (50,)\n",
      "2021-06-29 16:18:31,362 INFO sqlalchemy.engine.Engine SELECT \"Positions\".id AS \"Positions_id\", \"Positions\".upper AS \"Positions_upper\", \"Positions\".middle AS \"Positions_middle\", \"Positions\".lower AS \"Positions_lower\", \"Positions\".x AS \"Positions_x\", \"Positions\".y AS \"Positions_y\" \n",
      "FROM \"Positions\" \n",
      "WHERE \"Positions\".id = ?\n",
      "2021-06-29 16:18:31,362 INFO sqlalchemy.engine.Engine [cached since 0.2646s ago] (51,)\n",
      "2021-06-29 16:18:31,364 INFO sqlalchemy.engine.Engine SELECT \"Positions\".id AS \"Positions_id\", \"Positions\".upper AS \"Positions_upper\", \"Positions\".middle AS \"Positions_middle\", \"Positions\".lower AS \"Positions_lower\", \"Positions\".x AS \"Positions_x\", \"Positions\".y AS \"Positions_y\" \n",
      "FROM \"Positions\" \n",
      "WHERE \"Positions\".id = ?\n",
      "2021-06-29 16:18:31,365 INFO sqlalchemy.engine.Engine [cached since 0.2704s ago] (52,)\n",
      "2021-06-29 16:18:31,366 INFO sqlalchemy.engine.Engine SELECT \"Positions\".id AS \"Positions_id\", \"Positions\".upper AS \"Positions_upper\", \"Positions\".middle AS \"Positions_middle\", \"Positions\".lower AS \"Positions_lower\", \"Positions\".x AS \"Positions_x\", \"Positions\".y AS \"Positions_y\" \n",
      "FROM \"Positions\" \n",
      "WHERE \"Positions\".id = ?\n",
      "2021-06-29 16:18:31,367 INFO sqlalchemy.engine.Engine [cached since 0.2699s ago] (53,)\n",
      "2021-06-29 16:18:31,369 INFO sqlalchemy.engine.Engine SELECT \"Positions\".id AS \"Positions_id\", \"Positions\".upper AS \"Positions_upper\", \"Positions\".middle AS \"Positions_middle\", \"Positions\".lower AS \"Positions_lower\", \"Positions\".x AS \"Positions_x\", \"Positions\".y AS \"Positions_y\" \n",
      "FROM \"Positions\" \n",
      "WHERE \"Positions\".id = ?\n",
      "2021-06-29 16:18:31,370 INFO sqlalchemy.engine.Engine [cached since 0.2753s ago] (54,)\n",
      "2021-06-29 16:18:31,371 INFO sqlalchemy.engine.Engine SELECT \"Positions\".id AS \"Positions_id\", \"Positions\".upper AS \"Positions_upper\", \"Positions\".middle AS \"Positions_middle\", \"Positions\".lower AS \"Positions_lower\", \"Positions\".x AS \"Positions_x\", \"Positions\".y AS \"Positions_y\" \n",
      "FROM \"Positions\" \n",
      "WHERE \"Positions\".id = ?\n",
      "2021-06-29 16:18:31,372 INFO sqlalchemy.engine.Engine [cached since 0.2748s ago] (55,)\n",
      "2021-06-29 16:18:31,375 INFO sqlalchemy.engine.Engine SELECT \"Positions\".id AS \"Positions_id\", \"Positions\".upper AS \"Positions_upper\", \"Positions\".middle AS \"Positions_middle\", \"Positions\".lower AS \"Positions_lower\", \"Positions\".x AS \"Positions_x\", \"Positions\".y AS \"Positions_y\" \n",
      "FROM \"Positions\" \n",
      "WHERE \"Positions\".id = ?\n",
      "2021-06-29 16:18:31,375 INFO sqlalchemy.engine.Engine [cached since 0.2807s ago] (56,)\n",
      "2021-06-29 16:18:31,377 INFO sqlalchemy.engine.Engine SELECT \"Positions\".id AS \"Positions_id\", \"Positions\".upper AS \"Positions_upper\", \"Positions\".middle AS \"Positions_middle\", \"Positions\".lower AS \"Positions_lower\", \"Positions\".x AS \"Positions_x\", \"Positions\".y AS \"Positions_y\" \n",
      "FROM \"Positions\" \n",
      "WHERE \"Positions\".id = ?\n",
      "2021-06-29 16:18:31,378 INFO sqlalchemy.engine.Engine [cached since 0.2799s ago] (57,)\n",
      "2021-06-29 16:18:31,380 INFO sqlalchemy.engine.Engine SELECT \"Positions\".id AS \"Positions_id\", \"Positions\".upper AS \"Positions_upper\", \"Positions\".middle AS \"Positions_middle\", \"Positions\".lower AS \"Positions_lower\", \"Positions\".x AS \"Positions_x\", \"Positions\".y AS \"Positions_y\" \n",
      "FROM \"Positions\" \n",
      "WHERE \"Positions\".id = ?\n",
      "2021-06-29 16:18:31,380 INFO sqlalchemy.engine.Engine [cached since 0.2859s ago] (58,)\n",
      "2021-06-29 16:18:31,382 INFO sqlalchemy.engine.Engine SELECT \"Positions\".id AS \"Positions_id\", \"Positions\".upper AS \"Positions_upper\", \"Positions\".middle AS \"Positions_middle\", \"Positions\".lower AS \"Positions_lower\", \"Positions\".x AS \"Positions_x\", \"Positions\".y AS \"Positions_y\" \n",
      "FROM \"Positions\" \n",
      "WHERE \"Positions\".id = ?\n",
      "2021-06-29 16:18:31,383 INFO sqlalchemy.engine.Engine [cached since 0.2853s ago] (59,)\n",
      "2021-06-29 16:18:31,392 INFO sqlalchemy.engine.Engine INSERT INTO \"Boreholes\" (id, length, diameter) VALUES (?, ?, ?)\n",
      "2021-06-29 16:18:31,393 INFO sqlalchemy.engine.Engine [cached since 0.3235s ago] ('BH007', 45.0, 0.57)\n",
      "2021-06-29 16:18:31,394 INFO sqlalchemy.engine.Engine INSERT INTO \"Positions\" (id, upper, middle, lower, x, y) VALUES (?, ?, ?, ?, ?, ?)\n",
      "2021-06-29 16:18:31,395 INFO sqlalchemy.engine.Engine [cached since 0.3228s ago] ((60, 0.0, 0.0, 0.0, 152794.0, 121111.0), (61, 4.0, 4.0, 4.0, 152794.0, 121111.0), (62, 4.0, 4.0, 4.0, 152794.0, 121111.0), (63, 8.0, 8.0, 8.0, 152794.0, 121111.0), (64, 8.0, 8.0, 8.0, 152794.0, 121111.0), (65, 18.0, 18.0, 18.0, 152794.0, 121111.0), (66, 18.0, 18.0, 18.0, 152794.0, 121111.0), (67, 19.0, 19.0, 19.0, 152794.0, 121111.0)  ... displaying 10 of 12 total bound parameter sets ...  (70, 41.0, 41.0, 41.0, 152794.0, 121111.0), (71, 45.0, 45.0, 45.0, 152794.0, 121111.0))\n",
      "2021-06-29 16:18:31,397 INFO sqlalchemy.engine.Engine INSERT INTO \"Intervals\" (id, borehole, interval_number, description, top_id, base_id) VALUES (?, ?, ?, ?, ?, ?)\n",
      "2021-06-29 16:18:31,398 INFO sqlalchemy.engine.Engine [cached since 0.3221s ago] ((30, 'BH007', 0, 'Sable VR', 60, 61), (31, 'BH007', 1, 'Argile VR', 62, 63), (32, 'BH007', 2, 'Marne VS', 64, 65), (33, 'BH007', 3, 'Charbon VS', 66, 67), (34, 'BH007', 4, 'Dolomie VS', 68, 69), (35, 'BH007', 5, 'Calcaire Cl', 70, 71))\n",
      "2021-06-29 16:18:31,399 INFO sqlalchemy.engine.Engine COMMIT\n",
      "2021-06-29 16:18:31,404 INFO sqlalchemy.engine.Engine BEGIN (implicit)\n",
      "2021-06-29 16:18:31,406 INFO sqlalchemy.engine.Engine SELECT \"Boreholes\".id AS \"Boreholes_id\", \"Boreholes\".length AS \"Boreholes_length\", \"Boreholes\".diameter AS \"Boreholes_diameter\" \n",
      "FROM \"Boreholes\"\n",
      "2021-06-29 16:18:31,407 INFO sqlalchemy.engine.Engine [cached since 0.3583s ago] ()\n",
      "2021-06-29 16:18:31,409 INFO sqlalchemy.engine.Engine SELECT \"Intervals\".id AS \"Intervals_id\", \"Intervals\".borehole AS \"Intervals_borehole\", \"Intervals\".interval_number AS \"Intervals_interval_number\", \"Intervals\".description AS \"Intervals_description\", \"Intervals\".top_id AS \"Intervals_top_id\", \"Intervals\".base_id AS \"Intervals_base_id\" \n",
      "FROM \"Intervals\" \n",
      "WHERE ? = \"Intervals\".borehole\n",
      "2021-06-29 16:18:31,410 INFO sqlalchemy.engine.Engine [cached since 0.3203s ago] ('BH007',)\n",
      "2021-06-29 16:18:31,412 INFO sqlalchemy.engine.Engine SELECT \"Positions\".id AS \"Positions_id\", \"Positions\".upper AS \"Positions_upper\", \"Positions\".middle AS \"Positions_middle\", \"Positions\".lower AS \"Positions_lower\", \"Positions\".x AS \"Positions_x\", \"Positions\".y AS \"Positions_y\" \n",
      "FROM \"Positions\" \n",
      "WHERE \"Positions\".id = ?\n",
      "2021-06-29 16:18:31,413 INFO sqlalchemy.engine.Engine [cached since 0.3187s ago] (60,)\n",
      "2021-06-29 16:18:31,415 INFO sqlalchemy.engine.Engine SELECT \"Positions\".id AS \"Positions_id\", \"Positions\".upper AS \"Positions_upper\", \"Positions\".middle AS \"Positions_middle\", \"Positions\".lower AS \"Positions_lower\", \"Positions\".x AS \"Positions_x\", \"Positions\".y AS \"Positions_y\" \n",
      "FROM \"Positions\" \n",
      "WHERE \"Positions\".id = ?\n",
      "2021-06-29 16:18:31,416 INFO sqlalchemy.engine.Engine [cached since 0.3182s ago] (61,)\n",
      "2021-06-29 16:18:31,417 INFO sqlalchemy.engine.Engine SELECT \"Positions\".id AS \"Positions_id\", \"Positions\".upper AS \"Positions_upper\", \"Positions\".middle AS \"Positions_middle\", \"Positions\".lower AS \"Positions_lower\", \"Positions\".x AS \"Positions_x\", \"Positions\".y AS \"Positions_y\" \n",
      "FROM \"Positions\" \n",
      "WHERE \"Positions\".id = ?\n",
      "2021-06-29 16:18:31,418 INFO sqlalchemy.engine.Engine [cached since 0.3235s ago] (62,)\n",
      "2021-06-29 16:18:31,419 INFO sqlalchemy.engine.Engine SELECT \"Positions\".id AS \"Positions_id\", \"Positions\".upper AS \"Positions_upper\", \"Positions\".middle AS \"Positions_middle\", \"Positions\".lower AS \"Positions_lower\", \"Positions\".x AS \"Positions_x\", \"Positions\".y AS \"Positions_y\" \n",
      "FROM \"Positions\" \n",
      "WHERE \"Positions\".id = ?\n",
      "2021-06-29 16:18:31,420 INFO sqlalchemy.engine.Engine [cached since 0.3227s ago] (63,)\n",
      "2021-06-29 16:18:31,422 INFO sqlalchemy.engine.Engine SELECT \"Positions\".id AS \"Positions_id\", \"Positions\".upper AS \"Positions_upper\", \"Positions\".middle AS \"Positions_middle\", \"Positions\".lower AS \"Positions_lower\", \"Positions\".x AS \"Positions_x\", \"Positions\".y AS \"Positions_y\" \n",
      "FROM \"Positions\" \n",
      "WHERE \"Positions\".id = ?\n"
     ]
    },
    {
     "name": "stdout",
     "output_type": "stream",
     "text": [
      "2021-06-29 16:18:31,423 INFO sqlalchemy.engine.Engine [cached since 0.3282s ago] (64,)\n",
      "2021-06-29 16:18:31,424 INFO sqlalchemy.engine.Engine SELECT \"Positions\".id AS \"Positions_id\", \"Positions\".upper AS \"Positions_upper\", \"Positions\".middle AS \"Positions_middle\", \"Positions\".lower AS \"Positions_lower\", \"Positions\".x AS \"Positions_x\", \"Positions\".y AS \"Positions_y\" \n",
      "FROM \"Positions\" \n",
      "WHERE \"Positions\".id = ?\n",
      "2021-06-29 16:18:31,425 INFO sqlalchemy.engine.Engine [cached since 0.3276s ago] (65,)\n",
      "2021-06-29 16:18:31,427 INFO sqlalchemy.engine.Engine SELECT \"Positions\".id AS \"Positions_id\", \"Positions\".upper AS \"Positions_upper\", \"Positions\".middle AS \"Positions_middle\", \"Positions\".lower AS \"Positions_lower\", \"Positions\".x AS \"Positions_x\", \"Positions\".y AS \"Positions_y\" \n",
      "FROM \"Positions\" \n",
      "WHERE \"Positions\".id = ?\n",
      "2021-06-29 16:18:31,427 INFO sqlalchemy.engine.Engine [cached since 0.333s ago] (66,)\n",
      "2021-06-29 16:18:31,429 INFO sqlalchemy.engine.Engine SELECT \"Positions\".id AS \"Positions_id\", \"Positions\".upper AS \"Positions_upper\", \"Positions\".middle AS \"Positions_middle\", \"Positions\".lower AS \"Positions_lower\", \"Positions\".x AS \"Positions_x\", \"Positions\".y AS \"Positions_y\" \n",
      "FROM \"Positions\" \n",
      "WHERE \"Positions\".id = ?\n",
      "2021-06-29 16:18:31,430 INFO sqlalchemy.engine.Engine [cached since 0.3321s ago] (67,)\n",
      "2021-06-29 16:18:31,432 INFO sqlalchemy.engine.Engine SELECT \"Positions\".id AS \"Positions_id\", \"Positions\".upper AS \"Positions_upper\", \"Positions\".middle AS \"Positions_middle\", \"Positions\".lower AS \"Positions_lower\", \"Positions\".x AS \"Positions_x\", \"Positions\".y AS \"Positions_y\" \n",
      "FROM \"Positions\" \n",
      "WHERE \"Positions\".id = ?\n",
      "2021-06-29 16:18:31,433 INFO sqlalchemy.engine.Engine [cached since 0.3381s ago] (68,)\n",
      "2021-06-29 16:18:31,434 INFO sqlalchemy.engine.Engine SELECT \"Positions\".id AS \"Positions_id\", \"Positions\".upper AS \"Positions_upper\", \"Positions\".middle AS \"Positions_middle\", \"Positions\".lower AS \"Positions_lower\", \"Positions\".x AS \"Positions_x\", \"Positions\".y AS \"Positions_y\" \n",
      "FROM \"Positions\" \n",
      "WHERE \"Positions\".id = ?\n",
      "2021-06-29 16:18:31,435 INFO sqlalchemy.engine.Engine [cached since 0.3372s ago] (69,)\n",
      "2021-06-29 16:18:31,437 INFO sqlalchemy.engine.Engine SELECT \"Positions\".id AS \"Positions_id\", \"Positions\".upper AS \"Positions_upper\", \"Positions\".middle AS \"Positions_middle\", \"Positions\".lower AS \"Positions_lower\", \"Positions\".x AS \"Positions_x\", \"Positions\".y AS \"Positions_y\" \n",
      "FROM \"Positions\" \n",
      "WHERE \"Positions\".id = ?\n",
      "2021-06-29 16:18:31,439 INFO sqlalchemy.engine.Engine [cached since 0.3444s ago] (70,)\n",
      "2021-06-29 16:18:31,440 INFO sqlalchemy.engine.Engine SELECT \"Positions\".id AS \"Positions_id\", \"Positions\".upper AS \"Positions_upper\", \"Positions\".middle AS \"Positions_middle\", \"Positions\".lower AS \"Positions_lower\", \"Positions\".x AS \"Positions_x\", \"Positions\".y AS \"Positions_y\" \n",
      "FROM \"Positions\" \n",
      "WHERE \"Positions\".id = ?\n",
      "2021-06-29 16:18:31,441 INFO sqlalchemy.engine.Engine [cached since 0.3435s ago] (71,)\n",
      "2021-06-29 16:18:31,457 INFO sqlalchemy.engine.Engine INSERT INTO \"Boreholes\" (id, length, diameter) VALUES (?, ?, ?)\n",
      "2021-06-29 16:18:31,457 INFO sqlalchemy.engine.Engine [cached since 0.3882s ago] ('BH008', 35.0, 0.39)\n",
      "2021-06-29 16:18:31,458 INFO sqlalchemy.engine.Engine INSERT INTO \"Positions\" (id, upper, middle, lower, x, y) VALUES (?, ?, ?, ?, ?, ?)\n",
      "2021-06-29 16:18:31,459 INFO sqlalchemy.engine.Engine [cached since 0.3869s ago] ((72, 0.0, 0.0, 0.0, 152150.0, 121579.0), (73, 3.0, 3.0, 3.0, 152150.0, 121579.0), (74, 3.0, 3.0, 3.0, 152150.0, 121579.0), (75, 4.0, 4.0, 4.0, 152150.0, 121579.0), (76, 4.0, 4.0, 4.0, 152150.0, 121579.0), (77, 10.0, 10.0, 10.0, 152150.0, 121579.0), (78, 10.0, 10.0, 10.0, 152150.0, 121579.0), (79, 15.0, 15.0, 15.0, 152150.0, 121579.0), (80, 15.0, 15.0, 15.0, 152150.0, 121579.0), (81, 35.0, 35.0, 35.0, 152150.0, 121579.0))\n",
      "2021-06-29 16:18:31,460 INFO sqlalchemy.engine.Engine INSERT INTO \"Intervals\" (id, borehole, interval_number, description, top_id, base_id) VALUES (?, ?, ?, ?, ?, ?)\n",
      "2021-06-29 16:18:31,460 INFO sqlalchemy.engine.Engine [cached since 0.3849s ago] ((36, 'BH008', 0, 'Sable VR', 72, 73), (37, 'BH008', 1, 'Argile VI', 74, 75), (38, 'BH008', 2, 'Marne VI', 76, 77), (39, 'BH008', 3, 'Charbon VI', 78, 79), (40, 'BH008', 4, 'Dolomie VS', 80, 81))\n",
      "2021-06-29 16:18:31,461 INFO sqlalchemy.engine.Engine COMMIT\n",
      "2021-06-29 16:18:31,464 INFO sqlalchemy.engine.Engine BEGIN (implicit)\n",
      "2021-06-29 16:18:31,465 INFO sqlalchemy.engine.Engine SELECT \"Boreholes\".id AS \"Boreholes_id\", \"Boreholes\".length AS \"Boreholes_length\", \"Boreholes\".diameter AS \"Boreholes_diameter\" \n",
      "FROM \"Boreholes\"\n",
      "2021-06-29 16:18:31,465 INFO sqlalchemy.engine.Engine [cached since 0.4169s ago] ()\n",
      "2021-06-29 16:18:31,467 INFO sqlalchemy.engine.Engine SELECT \"Intervals\".id AS \"Intervals_id\", \"Intervals\".borehole AS \"Intervals_borehole\", \"Intervals\".interval_number AS \"Intervals_interval_number\", \"Intervals\".description AS \"Intervals_description\", \"Intervals\".top_id AS \"Intervals_top_id\", \"Intervals\".base_id AS \"Intervals_base_id\" \n",
      "FROM \"Intervals\" \n",
      "WHERE ? = \"Intervals\".borehole\n",
      "2021-06-29 16:18:31,467 INFO sqlalchemy.engine.Engine [cached since 0.3774s ago] ('BH008',)\n",
      "2021-06-29 16:18:31,469 INFO sqlalchemy.engine.Engine SELECT \"Positions\".id AS \"Positions_id\", \"Positions\".upper AS \"Positions_upper\", \"Positions\".middle AS \"Positions_middle\", \"Positions\".lower AS \"Positions_lower\", \"Positions\".x AS \"Positions_x\", \"Positions\".y AS \"Positions_y\" \n",
      "FROM \"Positions\" \n",
      "WHERE \"Positions\".id = ?\n",
      "2021-06-29 16:18:31,470 INFO sqlalchemy.engine.Engine [cached since 0.3758s ago] (72,)\n",
      "2021-06-29 16:18:31,472 INFO sqlalchemy.engine.Engine SELECT \"Positions\".id AS \"Positions_id\", \"Positions\".upper AS \"Positions_upper\", \"Positions\".middle AS \"Positions_middle\", \"Positions\".lower AS \"Positions_lower\", \"Positions\".x AS \"Positions_x\", \"Positions\".y AS \"Positions_y\" \n",
      "FROM \"Positions\" \n",
      "WHERE \"Positions\".id = ?\n",
      "2021-06-29 16:18:31,474 INFO sqlalchemy.engine.Engine [cached since 0.3759s ago] (73,)\n",
      "2021-06-29 16:18:31,475 INFO sqlalchemy.engine.Engine SELECT \"Positions\".id AS \"Positions_id\", \"Positions\".upper AS \"Positions_upper\", \"Positions\".middle AS \"Positions_middle\", \"Positions\".lower AS \"Positions_lower\", \"Positions\".x AS \"Positions_x\", \"Positions\".y AS \"Positions_y\" \n",
      "FROM \"Positions\" \n",
      "WHERE \"Positions\".id = ?\n",
      "2021-06-29 16:18:31,476 INFO sqlalchemy.engine.Engine [cached since 0.3818s ago] (74,)\n",
      "2021-06-29 16:18:31,478 INFO sqlalchemy.engine.Engine SELECT \"Positions\".id AS \"Positions_id\", \"Positions\".upper AS \"Positions_upper\", \"Positions\".middle AS \"Positions_middle\", \"Positions\".lower AS \"Positions_lower\", \"Positions\".x AS \"Positions_x\", \"Positions\".y AS \"Positions_y\" \n",
      "FROM \"Positions\" \n",
      "WHERE \"Positions\".id = ?\n",
      "2021-06-29 16:18:31,478 INFO sqlalchemy.engine.Engine [cached since 0.3806s ago] (75,)\n",
      "2021-06-29 16:18:31,480 INFO sqlalchemy.engine.Engine SELECT \"Positions\".id AS \"Positions_id\", \"Positions\".upper AS \"Positions_upper\", \"Positions\".middle AS \"Positions_middle\", \"Positions\".lower AS \"Positions_lower\", \"Positions\".x AS \"Positions_x\", \"Positions\".y AS \"Positions_y\" \n",
      "FROM \"Positions\" \n",
      "WHERE \"Positions\".id = ?\n",
      "2021-06-29 16:18:31,481 INFO sqlalchemy.engine.Engine [cached since 0.3862s ago] (76,)\n",
      "2021-06-29 16:18:31,482 INFO sqlalchemy.engine.Engine SELECT \"Positions\".id AS \"Positions_id\", \"Positions\".upper AS \"Positions_upper\", \"Positions\".middle AS \"Positions_middle\", \"Positions\".lower AS \"Positions_lower\", \"Positions\".x AS \"Positions_x\", \"Positions\".y AS \"Positions_y\" \n",
      "FROM \"Positions\" \n",
      "WHERE \"Positions\".id = ?\n",
      "2021-06-29 16:18:31,483 INFO sqlalchemy.engine.Engine [cached since 0.3853s ago] (77,)\n",
      "2021-06-29 16:18:31,485 INFO sqlalchemy.engine.Engine SELECT \"Positions\".id AS \"Positions_id\", \"Positions\".upper AS \"Positions_upper\", \"Positions\".middle AS \"Positions_middle\", \"Positions\".lower AS \"Positions_lower\", \"Positions\".x AS \"Positions_x\", \"Positions\".y AS \"Positions_y\" \n",
      "FROM \"Positions\" \n",
      "WHERE \"Positions\".id = ?\n",
      "2021-06-29 16:18:31,485 INFO sqlalchemy.engine.Engine [cached since 0.391s ago] (78,)\n",
      "2021-06-29 16:18:31,487 INFO sqlalchemy.engine.Engine SELECT \"Positions\".id AS \"Positions_id\", \"Positions\".upper AS \"Positions_upper\", \"Positions\".middle AS \"Positions_middle\", \"Positions\".lower AS \"Positions_lower\", \"Positions\".x AS \"Positions_x\", \"Positions\".y AS \"Positions_y\" \n",
      "FROM \"Positions\" \n",
      "WHERE \"Positions\".id = ?\n"
     ]
    },
    {
     "name": "stdout",
     "output_type": "stream",
     "text": [
      "2021-06-29 16:18:31,487 INFO sqlalchemy.engine.Engine [cached since 0.3897s ago] (79,)\n",
      "2021-06-29 16:18:31,489 INFO sqlalchemy.engine.Engine SELECT \"Positions\".id AS \"Positions_id\", \"Positions\".upper AS \"Positions_upper\", \"Positions\".middle AS \"Positions_middle\", \"Positions\".lower AS \"Positions_lower\", \"Positions\".x AS \"Positions_x\", \"Positions\".y AS \"Positions_y\" \n",
      "FROM \"Positions\" \n",
      "WHERE \"Positions\".id = ?\n",
      "2021-06-29 16:18:31,490 INFO sqlalchemy.engine.Engine [cached since 0.3954s ago] (80,)\n",
      "2021-06-29 16:18:31,491 INFO sqlalchemy.engine.Engine SELECT \"Positions\".id AS \"Positions_id\", \"Positions\".upper AS \"Positions_upper\", \"Positions\".middle AS \"Positions_middle\", \"Positions\".lower AS \"Positions_lower\", \"Positions\".x AS \"Positions_x\", \"Positions\".y AS \"Positions_y\" \n",
      "FROM \"Positions\" \n",
      "WHERE \"Positions\".id = ?\n",
      "2021-06-29 16:18:31,492 INFO sqlalchemy.engine.Engine [cached since 0.3942s ago] (81,)\n",
      "2021-06-29 16:18:31,505 INFO sqlalchemy.engine.Engine INSERT INTO \"Boreholes\" (id, length, diameter) VALUES (?, ?, ?)\n",
      "2021-06-29 16:18:31,506 INFO sqlalchemy.engine.Engine [cached since 0.4365s ago] ('BH009', 40.0, 0.5)\n",
      "2021-06-29 16:18:31,507 INFO sqlalchemy.engine.Engine INSERT INTO \"Positions\" (id, upper, middle, lower, x, y) VALUES (?, ?, ?, ?, ?, ?)\n",
      "2021-06-29 16:18:31,508 INFO sqlalchemy.engine.Engine [cached since 0.4355s ago] ((82, 0.0, 0.0, 0.0, 152052.0, 121293.0), (83, 6.0, 6.0, 6.0, 152052.0, 121293.0), (84, 6.0, 6.0, 6.0, 152052.0, 121293.0), (85, 8.0, 8.0, 8.0, 152052.0, 121293.0), (86, 8.0, 8.0, 8.0, 152052.0, 121293.0), (87, 18.0, 18.0, 18.0, 152052.0, 121293.0), (88, 18.0, 18.0, 18.0, 152052.0, 121293.0), (89, 22.0, 22.0, 22.0, 152052.0, 121293.0), (90, 22.0, 22.0, 22.0, 152052.0, 121293.0), (91, 40.0, 40.0, 40.0, 152052.0, 121293.0))\n",
      "2021-06-29 16:18:31,509 INFO sqlalchemy.engine.Engine INSERT INTO \"Intervals\" (id, borehole, interval_number, description, top_id, base_id) VALUES (?, ?, ?, ?, ?, ?)\n",
      "2021-06-29 16:18:31,509 INFO sqlalchemy.engine.Engine [cached since 0.4336s ago] ((41, 'BH009', 0, 'Sable VR', 82, 83), (42, 'BH009', 1, 'Argile VI', 84, 85), (43, 'BH009', 2, 'Marne VI', 86, 87), (44, 'BH009', 3, 'Charbon VR', 88, 89), (45, 'BH009', 4, 'Dolomie VR', 90, 91))\n",
      "2021-06-29 16:18:31,510 INFO sqlalchemy.engine.Engine COMMIT\n",
      "2021-06-29 16:18:31,513 INFO sqlalchemy.engine.Engine BEGIN (implicit)\n",
      "2021-06-29 16:18:31,514 INFO sqlalchemy.engine.Engine SELECT \"Boreholes\".id AS \"Boreholes_id\", \"Boreholes\".length AS \"Boreholes_length\", \"Boreholes\".diameter AS \"Boreholes_diameter\" \n",
      "FROM \"Boreholes\"\n",
      "2021-06-29 16:18:31,514 INFO sqlalchemy.engine.Engine [cached since 0.4661s ago] ()\n",
      "2021-06-29 16:18:31,516 INFO sqlalchemy.engine.Engine SELECT \"Intervals\".id AS \"Intervals_id\", \"Intervals\".borehole AS \"Intervals_borehole\", \"Intervals\".interval_number AS \"Intervals_interval_number\", \"Intervals\".description AS \"Intervals_description\", \"Intervals\".top_id AS \"Intervals_top_id\", \"Intervals\".base_id AS \"Intervals_base_id\" \n",
      "FROM \"Intervals\" \n",
      "WHERE ? = \"Intervals\".borehole\n",
      "2021-06-29 16:18:31,517 INFO sqlalchemy.engine.Engine [cached since 0.4271s ago] ('BH009',)\n",
      "2021-06-29 16:18:31,519 INFO sqlalchemy.engine.Engine SELECT \"Positions\".id AS \"Positions_id\", \"Positions\".upper AS \"Positions_upper\", \"Positions\".middle AS \"Positions_middle\", \"Positions\".lower AS \"Positions_lower\", \"Positions\".x AS \"Positions_x\", \"Positions\".y AS \"Positions_y\" \n",
      "FROM \"Positions\" \n",
      "WHERE \"Positions\".id = ?\n",
      "2021-06-29 16:18:31,520 INFO sqlalchemy.engine.Engine [cached since 0.4252s ago] (82,)\n",
      "2021-06-29 16:18:31,522 INFO sqlalchemy.engine.Engine SELECT \"Positions\".id AS \"Positions_id\", \"Positions\".upper AS \"Positions_upper\", \"Positions\".middle AS \"Positions_middle\", \"Positions\".lower AS \"Positions_lower\", \"Positions\".x AS \"Positions_x\", \"Positions\".y AS \"Positions_y\" \n",
      "FROM \"Positions\" \n",
      "WHERE \"Positions\".id = ?\n",
      "2021-06-29 16:18:31,523 INFO sqlalchemy.engine.Engine [cached since 0.4255s ago] (83,)\n",
      "2021-06-29 16:18:31,525 INFO sqlalchemy.engine.Engine SELECT \"Positions\".id AS \"Positions_id\", \"Positions\".upper AS \"Positions_upper\", \"Positions\".middle AS \"Positions_middle\", \"Positions\".lower AS \"Positions_lower\", \"Positions\".x AS \"Positions_x\", \"Positions\".y AS \"Positions_y\" \n",
      "FROM \"Positions\" \n",
      "WHERE \"Positions\".id = ?\n",
      "2021-06-29 16:18:31,526 INFO sqlalchemy.engine.Engine [cached since 0.4314s ago] (84,)\n",
      "2021-06-29 16:18:31,528 INFO sqlalchemy.engine.Engine SELECT \"Positions\".id AS \"Positions_id\", \"Positions\".upper AS \"Positions_upper\", \"Positions\".middle AS \"Positions_middle\", \"Positions\".lower AS \"Positions_lower\", \"Positions\".x AS \"Positions_x\", \"Positions\".y AS \"Positions_y\" \n",
      "FROM \"Positions\" \n",
      "WHERE \"Positions\".id = ?\n",
      "2021-06-29 16:18:31,529 INFO sqlalchemy.engine.Engine [cached since 0.431s ago] (85,)\n",
      "2021-06-29 16:18:31,531 INFO sqlalchemy.engine.Engine SELECT \"Positions\".id AS \"Positions_id\", \"Positions\".upper AS \"Positions_upper\", \"Positions\".middle AS \"Positions_middle\", \"Positions\".lower AS \"Positions_lower\", \"Positions\".x AS \"Positions_x\", \"Positions\".y AS \"Positions_y\" \n",
      "FROM \"Positions\" \n",
      "WHERE \"Positions\".id = ?\n",
      "2021-06-29 16:18:31,531 INFO sqlalchemy.engine.Engine [cached since 0.437s ago] (86,)\n",
      "2021-06-29 16:18:31,534 INFO sqlalchemy.engine.Engine SELECT \"Positions\".id AS \"Positions_id\", \"Positions\".upper AS \"Positions_upper\", \"Positions\".middle AS \"Positions_middle\", \"Positions\".lower AS \"Positions_lower\", \"Positions\".x AS \"Positions_x\", \"Positions\".y AS \"Positions_y\" \n",
      "FROM \"Positions\" \n",
      "WHERE \"Positions\".id = ?\n",
      "2021-06-29 16:18:31,535 INFO sqlalchemy.engine.Engine [cached since 0.4374s ago] (87,)\n",
      "2021-06-29 16:18:31,538 INFO sqlalchemy.engine.Engine SELECT \"Positions\".id AS \"Positions_id\", \"Positions\".upper AS \"Positions_upper\", \"Positions\".middle AS \"Positions_middle\", \"Positions\".lower AS \"Positions_lower\", \"Positions\".x AS \"Positions_x\", \"Positions\".y AS \"Positions_y\" \n",
      "FROM \"Positions\" \n",
      "WHERE \"Positions\".id = ?\n",
      "2021-06-29 16:18:31,538 INFO sqlalchemy.engine.Engine [cached since 0.4441s ago] (88,)\n",
      "2021-06-29 16:18:31,541 INFO sqlalchemy.engine.Engine SELECT \"Positions\".id AS \"Positions_id\", \"Positions\".upper AS \"Positions_upper\", \"Positions\".middle AS \"Positions_middle\", \"Positions\".lower AS \"Positions_lower\", \"Positions\".x AS \"Positions_x\", \"Positions\".y AS \"Positions_y\" \n",
      "FROM \"Positions\" \n",
      "WHERE \"Positions\".id = ?\n",
      "2021-06-29 16:18:31,542 INFO sqlalchemy.engine.Engine [cached since 0.4441s ago] (89,)\n",
      "2021-06-29 16:18:31,544 INFO sqlalchemy.engine.Engine SELECT \"Positions\".id AS \"Positions_id\", \"Positions\".upper AS \"Positions_upper\", \"Positions\".middle AS \"Positions_middle\", \"Positions\".lower AS \"Positions_lower\", \"Positions\".x AS \"Positions_x\", \"Positions\".y AS \"Positions_y\" \n",
      "FROM \"Positions\" \n",
      "WHERE \"Positions\".id = ?\n",
      "2021-06-29 16:18:31,545 INFO sqlalchemy.engine.Engine [cached since 0.4505s ago] (90,)\n",
      "2021-06-29 16:18:31,546 INFO sqlalchemy.engine.Engine SELECT \"Positions\".id AS \"Positions_id\", \"Positions\".upper AS \"Positions_upper\", \"Positions\".middle AS \"Positions_middle\", \"Positions\".lower AS \"Positions_lower\", \"Positions\".x AS \"Positions_x\", \"Positions\".y AS \"Positions_y\" \n",
      "FROM \"Positions\" \n",
      "WHERE \"Positions\".id = ?\n",
      "2021-06-29 16:18:31,547 INFO sqlalchemy.engine.Engine [cached since 0.4494s ago] (91,)\n",
      "2021-06-29 16:18:31,560 INFO sqlalchemy.engine.Engine INSERT INTO \"Boreholes\" (id, length, diameter) VALUES (?, ?, ?)\n",
      "2021-06-29 16:18:31,561 INFO sqlalchemy.engine.Engine [cached since 0.4916s ago] ('BH10', 14.0, 0.31)\n",
      "2021-06-29 16:18:31,562 INFO sqlalchemy.engine.Engine INSERT INTO \"Positions\" (id, upper, middle, lower, x, y) VALUES (?, ?, ?, ?, ?, ?)\n",
      "2021-06-29 16:18:31,562 INFO sqlalchemy.engine.Engine [cached since 0.4904s ago] ((92, 0.0, 0.0, 0.0, 152315.0, 121754.0), (93, 5.0, 5.0, 5.0, 152315.0, 121754.0), (94, 5.0, 5.0, 5.0, 152315.0, 121754.0), (95, 9.0, 9.0, 9.0, 152315.0, 121754.0), (96, 9.0, 9.0, 9.0, 152315.0, 121754.0), (97, 11.0, 11.0, 11.0, 152315.0, 121754.0), (98, 11.0, 11.0, 11.0, 152315.0, 121754.0), (99, 14.0, 14.0, 14.0, 152315.0, 121754.0))\n",
      "2021-06-29 16:18:31,564 INFO sqlalchemy.engine.Engine INSERT INTO \"Intervals\" (id, borehole, interval_number, description, top_id, base_id) VALUES (?, ?, ?, ?, ?, ?)\n",
      "2021-06-29 16:18:31,564 INFO sqlalchemy.engine.Engine [cached since 0.4887s ago] ((46, 'BH10', 0, 'Sable VI', 92, 93), (47, 'BH10', 1, 'Argile VI', 94, 95), (48, 'BH10', 2, 'Marne VR', 96, 97), (49, 'BH10', 3, 'Charbon VI', 98, 99))\n"
     ]
    },
    {
     "name": "stdout",
     "output_type": "stream",
     "text": [
      "2021-06-29 16:18:31,565 INFO sqlalchemy.engine.Engine COMMIT\n",
      "2021-06-29 16:18:31,569 INFO sqlalchemy.engine.Engine BEGIN (implicit)\n",
      "2021-06-29 16:18:31,571 INFO sqlalchemy.engine.Engine SELECT \"Boreholes\".id AS \"Boreholes_id\", \"Boreholes\".length AS \"Boreholes_length\", \"Boreholes\".diameter AS \"Boreholes_diameter\" \n",
      "FROM \"Boreholes\"\n",
      "2021-06-29 16:18:31,572 INFO sqlalchemy.engine.Engine [cached since 0.5237s ago] ()\n",
      "2021-06-29 16:18:31,575 INFO sqlalchemy.engine.Engine SELECT \"Intervals\".id AS \"Intervals_id\", \"Intervals\".borehole AS \"Intervals_borehole\", \"Intervals\".interval_number AS \"Intervals_interval_number\", \"Intervals\".description AS \"Intervals_description\", \"Intervals\".top_id AS \"Intervals_top_id\", \"Intervals\".base_id AS \"Intervals_base_id\" \n",
      "FROM \"Intervals\" \n",
      "WHERE ? = \"Intervals\".borehole\n",
      "2021-06-29 16:18:31,576 INFO sqlalchemy.engine.Engine [cached since 0.4863s ago] ('BH10',)\n",
      "2021-06-29 16:18:31,579 INFO sqlalchemy.engine.Engine SELECT \"Positions\".id AS \"Positions_id\", \"Positions\".upper AS \"Positions_upper\", \"Positions\".middle AS \"Positions_middle\", \"Positions\".lower AS \"Positions_lower\", \"Positions\".x AS \"Positions_x\", \"Positions\".y AS \"Positions_y\" \n",
      "FROM \"Positions\" \n",
      "WHERE \"Positions\".id = ?\n",
      "2021-06-29 16:18:31,580 INFO sqlalchemy.engine.Engine [cached since 0.4857s ago] (92,)\n",
      "2021-06-29 16:18:31,582 INFO sqlalchemy.engine.Engine SELECT \"Positions\".id AS \"Positions_id\", \"Positions\".upper AS \"Positions_upper\", \"Positions\".middle AS \"Positions_middle\", \"Positions\".lower AS \"Positions_lower\", \"Positions\".x AS \"Positions_x\", \"Positions\".y AS \"Positions_y\" \n",
      "FROM \"Positions\" \n",
      "WHERE \"Positions\".id = ?\n",
      "2021-06-29 16:18:31,583 INFO sqlalchemy.engine.Engine [cached since 0.4854s ago] (93,)\n",
      "2021-06-29 16:18:31,585 INFO sqlalchemy.engine.Engine SELECT \"Positions\".id AS \"Positions_id\", \"Positions\".upper AS \"Positions_upper\", \"Positions\".middle AS \"Positions_middle\", \"Positions\".lower AS \"Positions_lower\", \"Positions\".x AS \"Positions_x\", \"Positions\".y AS \"Positions_y\" \n",
      "FROM \"Positions\" \n",
      "WHERE \"Positions\".id = ?\n",
      "2021-06-29 16:18:31,585 INFO sqlalchemy.engine.Engine [cached since 0.491s ago] (94,)\n",
      "2021-06-29 16:18:31,587 INFO sqlalchemy.engine.Engine SELECT \"Positions\".id AS \"Positions_id\", \"Positions\".upper AS \"Positions_upper\", \"Positions\".middle AS \"Positions_middle\", \"Positions\".lower AS \"Positions_lower\", \"Positions\".x AS \"Positions_x\", \"Positions\".y AS \"Positions_y\" \n",
      "FROM \"Positions\" \n",
      "WHERE \"Positions\".id = ?\n",
      "2021-06-29 16:18:31,588 INFO sqlalchemy.engine.Engine [cached since 0.49s ago] (95,)\n",
      "2021-06-29 16:18:31,589 INFO sqlalchemy.engine.Engine SELECT \"Positions\".id AS \"Positions_id\", \"Positions\".upper AS \"Positions_upper\", \"Positions\".middle AS \"Positions_middle\", \"Positions\".lower AS \"Positions_lower\", \"Positions\".x AS \"Positions_x\", \"Positions\".y AS \"Positions_y\" \n",
      "FROM \"Positions\" \n",
      "WHERE \"Positions\".id = ?\n",
      "2021-06-29 16:18:31,590 INFO sqlalchemy.engine.Engine [cached since 0.4955s ago] (96,)\n",
      "2021-06-29 16:18:31,591 INFO sqlalchemy.engine.Engine SELECT \"Positions\".id AS \"Positions_id\", \"Positions\".upper AS \"Positions_upper\", \"Positions\".middle AS \"Positions_middle\", \"Positions\".lower AS \"Positions_lower\", \"Positions\".x AS \"Positions_x\", \"Positions\".y AS \"Positions_y\" \n",
      "FROM \"Positions\" \n",
      "WHERE \"Positions\".id = ?\n",
      "2021-06-29 16:18:31,592 INFO sqlalchemy.engine.Engine [cached since 0.4944s ago] (97,)\n",
      "2021-06-29 16:18:31,593 INFO sqlalchemy.engine.Engine SELECT \"Positions\".id AS \"Positions_id\", \"Positions\".upper AS \"Positions_upper\", \"Positions\".middle AS \"Positions_middle\", \"Positions\".lower AS \"Positions_lower\", \"Positions\".x AS \"Positions_x\", \"Positions\".y AS \"Positions_y\" \n",
      "FROM \"Positions\" \n",
      "WHERE \"Positions\".id = ?\n",
      "2021-06-29 16:18:31,594 INFO sqlalchemy.engine.Engine [cached since 0.4995s ago] (98,)\n",
      "2021-06-29 16:18:31,596 INFO sqlalchemy.engine.Engine SELECT \"Positions\".id AS \"Positions_id\", \"Positions\".upper AS \"Positions_upper\", \"Positions\".middle AS \"Positions_middle\", \"Positions\".lower AS \"Positions_lower\", \"Positions\".x AS \"Positions_x\", \"Positions\".y AS \"Positions_y\" \n",
      "FROM \"Positions\" \n",
      "WHERE \"Positions\".id = ?\n",
      "2021-06-29 16:18:31,597 INFO sqlalchemy.engine.Engine [cached since 0.4996s ago] (99,)\n"
     ]
    }
   ],
   "source": [
    "for bh in boreholes:\n",
    "    p.add_borehole(bh)"
   ]
  },
  {
   "cell_type": "code",
   "execution_count": 18,
   "metadata": {},
   "outputs": [
    {
     "name": "stdout",
     "output_type": "stream",
     "text": [
      "2021-06-29 16:18:31,615 INFO sqlalchemy.engine.Engine INSERT INTO \"Linkintervalcomponent\" (int_id, comp_id, extra_data) VALUES (?, ?, ?)\n",
      "2021-06-29 16:18:31,617 INFO sqlalchemy.engine.Engine [generated in 0.00189s] ((0, 3, ''), (1, 2, ''), (2, 0, ''), (3, 1, ''), (4, 5, ''), (5, 6, ''), (6, 0, ''), (7, 7, '')  ... displaying 10 of 50 total bound parameter sets ...  (48, 10, ''), (49, 12, ''))\n",
      "2021-06-29 16:18:31,620 INFO sqlalchemy.engine.Engine COMMIT\n",
      "2021-06-29 16:18:31,625 INFO sqlalchemy.engine.Engine BEGIN (implicit)\n",
      "2021-06-29 16:18:31,626 INFO sqlalchemy.engine.Engine SELECT \"Boreholes\".id AS \"Boreholes_id\", \"Boreholes\".length AS \"Boreholes_length\", \"Boreholes\".diameter AS \"Boreholes_diameter\" \n",
      "FROM \"Boreholes\"\n",
      "2021-06-29 16:18:31,627 INFO sqlalchemy.engine.Engine [cached since 0.5788s ago] ()\n"
     ]
    }
   ],
   "source": [
    "p.add_link_between_components_and_intervals(link_intv_comp)"
   ]
  },
  {
   "cell_type": "code",
   "execution_count": 19,
   "metadata": {},
   "outputs": [
    {
     "name": "stdout",
     "output_type": "stream",
     "text": [
      "2021-06-29 16:18:31,634 INFO sqlalchemy.engine.Engine COMMIT\n",
      "Boreholes in the project :  10\n"
     ]
    }
   ],
   "source": [
    "p.commit()\n",
    "print('Boreholes in the project : ', len(p.boreholes))"
   ]
  },
  {
   "cell_type": "code",
   "execution_count": 20,
   "metadata": {},
   "outputs": [
    {
     "name": "stdout",
     "output_type": "stream",
     "text": [
      "2021-06-29 16:18:31,642 INFO sqlalchemy.engine.Engine BEGIN (implicit)\n",
      "2021-06-29 16:18:31,643 INFO sqlalchemy.engine.Engine SELECT \"Boreholes\".id AS \"Boreholes_id\", \"Boreholes\".length AS \"Boreholes_length\", \"Boreholes\".diameter AS \"Boreholes_diameter\" \n",
      "FROM \"Boreholes\" \n",
      "WHERE \"Boreholes\".id = ?\n",
      "2021-06-29 16:18:31,644 INFO sqlalchemy.engine.Engine [generated in 0.00085s] ('BH001',)\n",
      "2021-06-29 16:18:31,646 INFO sqlalchemy.engine.Engine SELECT \"Intervals\".id AS \"Intervals_id\", \"Intervals\".borehole AS \"Intervals_borehole\", \"Intervals\".interval_number AS \"Intervals_interval_number\", \"Intervals\".description AS \"Intervals_description\", \"Intervals\".top_id AS \"Intervals_top_id\", \"Intervals\".base_id AS \"Intervals_base_id\" \n",
      "FROM \"Intervals\" \n",
      "WHERE ? = \"Intervals\".borehole\n",
      "2021-06-29 16:18:31,646 INFO sqlalchemy.engine.Engine [cached since 0.5565s ago] ('BH001',)\n",
      "2021-06-29 16:18:31,648 INFO sqlalchemy.engine.Engine SELECT \"Boreholes\".id AS \"Boreholes_id\", \"Boreholes\".length AS \"Boreholes_length\", \"Boreholes\".diameter AS \"Boreholes_diameter\" \n",
      "FROM \"Boreholes\" \n",
      "WHERE \"Boreholes\".id = ?\n",
      "2021-06-29 16:18:31,648 INFO sqlalchemy.engine.Engine [cached since 0.005033s ago] ('BH002',)\n",
      "2021-06-29 16:18:31,649 INFO sqlalchemy.engine.Engine SELECT \"Intervals\".id AS \"Intervals_id\", \"Intervals\".borehole AS \"Intervals_borehole\", \"Intervals\".interval_number AS \"Intervals_interval_number\", \"Intervals\".description AS \"Intervals_description\", \"Intervals\".top_id AS \"Intervals_top_id\", \"Intervals\".base_id AS \"Intervals_base_id\" \n",
      "FROM \"Intervals\" \n",
      "WHERE ? = \"Intervals\".borehole\n",
      "2021-06-29 16:18:31,649 INFO sqlalchemy.engine.Engine [cached since 0.5597s ago] ('BH002',)\n",
      "2021-06-29 16:18:31,651 INFO sqlalchemy.engine.Engine SELECT \"Boreholes\".id AS \"Boreholes_id\", \"Boreholes\".length AS \"Boreholes_length\", \"Boreholes\".diameter AS \"Boreholes_diameter\" \n",
      "FROM \"Boreholes\" \n",
      "WHERE \"Boreholes\".id = ?\n",
      "2021-06-29 16:18:31,651 INFO sqlalchemy.engine.Engine [cached since 0.007923s ago] ('BH003',)\n",
      "2021-06-29 16:18:31,653 INFO sqlalchemy.engine.Engine SELECT \"Intervals\".id AS \"Intervals_id\", \"Intervals\".borehole AS \"Intervals_borehole\", \"Intervals\".interval_number AS \"Intervals_interval_number\", \"Intervals\".description AS \"Intervals_description\", \"Intervals\".top_id AS \"Intervals_top_id\", \"Intervals\".base_id AS \"Intervals_base_id\" \n",
      "FROM \"Intervals\" \n",
      "WHERE ? = \"Intervals\".borehole\n",
      "2021-06-29 16:18:31,654 INFO sqlalchemy.engine.Engine [cached since 0.5638s ago] ('BH003',)\n",
      "2021-06-29 16:18:31,655 INFO sqlalchemy.engine.Engine SELECT \"Boreholes\".id AS \"Boreholes_id\", \"Boreholes\".length AS \"Boreholes_length\", \"Boreholes\".diameter AS \"Boreholes_diameter\" \n",
      "FROM \"Boreholes\" \n",
      "WHERE \"Boreholes\".id = ?\n",
      "2021-06-29 16:18:31,656 INFO sqlalchemy.engine.Engine [cached since 0.01275s ago] ('BH004',)\n",
      "2021-06-29 16:18:31,657 INFO sqlalchemy.engine.Engine SELECT \"Intervals\".id AS \"Intervals_id\", \"Intervals\".borehole AS \"Intervals_borehole\", \"Intervals\".interval_number AS \"Intervals_interval_number\", \"Intervals\".description AS \"Intervals_description\", \"Intervals\".top_id AS \"Intervals_top_id\", \"Intervals\".base_id AS \"Intervals_base_id\" \n",
      "FROM \"Intervals\" \n",
      "WHERE ? = \"Intervals\".borehole\n",
      "2021-06-29 16:18:31,658 INFO sqlalchemy.engine.Engine [cached since 0.5682s ago] ('BH004',)\n",
      "2021-06-29 16:18:31,660 INFO sqlalchemy.engine.Engine SELECT \"Boreholes\".id AS \"Boreholes_id\", \"Boreholes\".length AS \"Boreholes_length\", \"Boreholes\".diameter AS \"Boreholes_diameter\" \n",
      "FROM \"Boreholes\" \n",
      "WHERE \"Boreholes\".id = ?\n",
      "2021-06-29 16:18:31,661 INFO sqlalchemy.engine.Engine [cached since 0.01747s ago] ('BH005',)\n",
      "2021-06-29 16:18:31,662 INFO sqlalchemy.engine.Engine SELECT \"Intervals\".id AS \"Intervals_id\", \"Intervals\".borehole AS \"Intervals_borehole\", \"Intervals\".interval_number AS \"Intervals_interval_number\", \"Intervals\".description AS \"Intervals_description\", \"Intervals\".top_id AS \"Intervals_top_id\", \"Intervals\".base_id AS \"Intervals_base_id\" \n",
      "FROM \"Intervals\" \n",
      "WHERE ? = \"Intervals\".borehole\n",
      "2021-06-29 16:18:31,663 INFO sqlalchemy.engine.Engine [cached since 0.5733s ago] ('BH005',)\n",
      "2021-06-29 16:18:31,665 INFO sqlalchemy.engine.Engine SELECT \"Boreholes\".id AS \"Boreholes_id\", \"Boreholes\".length AS \"Boreholes_length\", \"Boreholes\".diameter AS \"Boreholes_diameter\" \n",
      "FROM \"Boreholes\" \n",
      "WHERE \"Boreholes\".id = ?\n",
      "2021-06-29 16:18:31,665 INFO sqlalchemy.engine.Engine [cached since 0.02223s ago] ('BH006',)\n",
      "2021-06-29 16:18:31,667 INFO sqlalchemy.engine.Engine SELECT \"Intervals\".id AS \"Intervals_id\", \"Intervals\".borehole AS \"Intervals_borehole\", \"Intervals\".interval_number AS \"Intervals_interval_number\", \"Intervals\".description AS \"Intervals_description\", \"Intervals\".top_id AS \"Intervals_top_id\", \"Intervals\".base_id AS \"Intervals_base_id\" \n",
      "FROM \"Intervals\" \n",
      "WHERE ? = \"Intervals\".borehole\n",
      "2021-06-29 16:18:31,668 INFO sqlalchemy.engine.Engine [cached since 0.5787s ago] ('BH006',)\n",
      "2021-06-29 16:18:31,671 INFO sqlalchemy.engine.Engine SELECT \"Boreholes\".id AS \"Boreholes_id\", \"Boreholes\".length AS \"Boreholes_length\", \"Boreholes\".diameter AS \"Boreholes_diameter\" \n",
      "FROM \"Boreholes\" \n",
      "WHERE \"Boreholes\".id = ?\n",
      "2021-06-29 16:18:31,672 INFO sqlalchemy.engine.Engine [cached since 0.02852s ago] ('BH007',)\n",
      "2021-06-29 16:18:31,673 INFO sqlalchemy.engine.Engine SELECT \"Intervals\".id AS \"Intervals_id\", \"Intervals\".borehole AS \"Intervals_borehole\", \"Intervals\".interval_number AS \"Intervals_interval_number\", \"Intervals\".description AS \"Intervals_description\", \"Intervals\".top_id AS \"Intervals_top_id\", \"Intervals\".base_id AS \"Intervals_base_id\" \n",
      "FROM \"Intervals\" \n",
      "WHERE ? = \"Intervals\".borehole\n",
      "2021-06-29 16:18:31,674 INFO sqlalchemy.engine.Engine [cached since 0.5843s ago] ('BH007',)\n",
      "2021-06-29 16:18:31,677 INFO sqlalchemy.engine.Engine SELECT \"Boreholes\".id AS \"Boreholes_id\", \"Boreholes\".length AS \"Boreholes_length\", \"Boreholes\".diameter AS \"Boreholes_diameter\" \n",
      "FROM \"Boreholes\" \n",
      "WHERE \"Boreholes\".id = ?\n",
      "2021-06-29 16:18:31,678 INFO sqlalchemy.engine.Engine [cached since 0.03482s ago] ('BH008',)\n",
      "2021-06-29 16:18:31,680 INFO sqlalchemy.engine.Engine SELECT \"Intervals\".id AS \"Intervals_id\", \"Intervals\".borehole AS \"Intervals_borehole\", \"Intervals\".interval_number AS \"Intervals_interval_number\", \"Intervals\".description AS \"Intervals_description\", \"Intervals\".top_id AS \"Intervals_top_id\", \"Intervals\".base_id AS \"Intervals_base_id\" \n",
      "FROM \"Intervals\" \n",
      "WHERE ? = \"Intervals\".borehole\n",
      "2021-06-29 16:18:31,681 INFO sqlalchemy.engine.Engine [cached since 0.5911s ago] ('BH008',)\n",
      "2021-06-29 16:18:31,683 INFO sqlalchemy.engine.Engine SELECT \"Boreholes\".id AS \"Boreholes_id\", \"Boreholes\".length AS \"Boreholes_length\", \"Boreholes\".diameter AS \"Boreholes_diameter\" \n",
      "FROM \"Boreholes\" \n",
      "WHERE \"Boreholes\".id = ?\n",
      "2021-06-29 16:18:31,683 INFO sqlalchemy.engine.Engine [cached since 0.04002s ago] ('BH009',)\n",
      "2021-06-29 16:18:31,684 INFO sqlalchemy.engine.Engine SELECT \"Intervals\".id AS \"Intervals_id\", \"Intervals\".borehole AS \"Intervals_borehole\", \"Intervals\".interval_number AS \"Intervals_interval_number\", \"Intervals\".description AS \"Intervals_description\", \"Intervals\".top_id AS \"Intervals_top_id\", \"Intervals\".base_id AS \"Intervals_base_id\" \n",
      "FROM \"Intervals\" \n",
      "WHERE ? = \"Intervals\".borehole\n",
      "2021-06-29 16:18:31,685 INFO sqlalchemy.engine.Engine [cached since 0.5951s ago] ('BH009',)\n",
      "2021-06-29 16:18:31,686 INFO sqlalchemy.engine.Engine SELECT \"Boreholes\".id AS \"Boreholes_id\", \"Boreholes\".length AS \"Boreholes_length\", \"Boreholes\".diameter AS \"Boreholes_diameter\" \n",
      "FROM \"Boreholes\" \n",
      "WHERE \"Boreholes\".id = ?\n",
      "2021-06-29 16:18:31,687 INFO sqlalchemy.engine.Engine [cached since 0.04336s ago] ('BH10',)\n",
      "2021-06-29 16:18:31,688 INFO sqlalchemy.engine.Engine SELECT \"Intervals\".id AS \"Intervals_id\", \"Intervals\".borehole AS \"Intervals_borehole\", \"Intervals\".interval_number AS \"Intervals_interval_number\", \"Intervals\".description AS \"Intervals_description\", \"Intervals\".top_id AS \"Intervals_top_id\", \"Intervals\".base_id AS \"Intervals_base_id\" \n",
      "FROM \"Intervals\" \n",
      "WHERE ? = \"Intervals\".borehole\n",
      "2021-06-29 16:18:31,689 INFO sqlalchemy.engine.Engine [cached since 0.5991s ago] ('BH10',)\n"
     ]
    },
    {
     "data": {
      "text/plain": [
       "[<core.orm.BoreholeOrm>(Name=BH001, Length=28.0, Diameter=0.43, Intervals=4),\n",
       " <core.orm.BoreholeOrm>(Name=BH002, Length=37.0, Diameter=0.6, Intervals=5),\n",
       " <core.orm.BoreholeOrm>(Name=BH003, Length=18.0, Diameter=0.41, Intervals=5),\n",
       " <core.orm.BoreholeOrm>(Name=BH004, Length=26.0, Diameter=0.61, Intervals=5),\n",
       " <core.orm.BoreholeOrm>(Name=BH005, Length=32.0, Diameter=0.61, Intervals=6),\n",
       " <core.orm.BoreholeOrm>(Name=BH006, Length=26.0, Diameter=0.31, Intervals=5),\n",
       " <core.orm.BoreholeOrm>(Name=BH007, Length=45.0, Diameter=0.57, Intervals=6),\n",
       " <core.orm.BoreholeOrm>(Name=BH008, Length=35.0, Diameter=0.39, Intervals=5),\n",
       " <core.orm.BoreholeOrm>(Name=BH009, Length=40.0, Diameter=0.5, Intervals=5),\n",
       " <core.orm.BoreholeOrm>(Name=BH10, Length=14.0, Diameter=0.31, Intervals=4)]"
      ]
     },
     "execution_count": 20,
     "metadata": {},
     "output_type": "execute_result"
    }
   ],
   "source": [
    "p.boreholes"
   ]
  },
  {
   "cell_type": "code",
   "execution_count": 21,
   "metadata": {},
   "outputs": [
    {
     "name": "stdout",
     "output_type": "stream",
     "text": [
      "2021-06-29 16:18:31,696 INFO sqlalchemy.engine.Engine SELECT \"Boreholes\".id AS \"Boreholes_id\", \"Boreholes\".length AS \"Boreholes_length\", \"Boreholes\".diameter AS \"Boreholes_diameter\" \n",
      "FROM \"Boreholes\"\n",
      "2021-06-29 16:18:31,698 INFO sqlalchemy.engine.Engine [cached since 0.6493s ago] ()\n"
     ]
    }
   ],
   "source": [
    "p.refresh(verbose=False)"
   ]
  },
  {
   "cell_type": "code",
   "execution_count": 22,
   "metadata": {},
   "outputs": [
    {
     "name": "stdout",
     "output_type": "stream",
     "text": [
      "2021-06-29 16:18:31,704 INFO sqlalchemy.engine.Engine ROLLBACK\n"
     ]
    }
   ],
   "source": [
    "session.close()"
   ]
  },
  {
   "cell_type": "markdown",
   "metadata": {},
   "source": [
    "# 2D/3D Display"
   ]
  },
  {
   "cell_type": "markdown",
   "metadata": {},
   "source": [
    "## Display one object"
   ]
  },
  {
   "cell_type": "code",
   "execution_count": 23,
   "metadata": {},
   "outputs": [
    {
     "name": "stdout",
     "output_type": "stream",
     "text": [
      "sable\n",
      "argile\n",
      "marne\n",
      "charbon\n",
      "BH001 : ['sable', 'argile', 'marne', 'charbon']\n",
      "sable\n",
      "argile\n",
      "marne\n",
      "charbon\n",
      "dolomie\n",
      "BH002 : ['sable', 'argile', 'marne', 'charbon', 'dolomie']\n",
      "sable\n",
      "argile\n",
      "marne\n",
      "charbon\n",
      "dolomie\n",
      "BH003 : ['sable', 'argile', 'marne', 'charbon', 'dolomie']\n",
      "sable\n",
      "argile\n",
      "marne\n",
      "charbon\n",
      "dolomie\n",
      "BH004 : ['sable', 'argile', 'marne', 'charbon', 'dolomie']\n",
      "sable\n",
      "argile\n",
      "marne\n",
      "charbon\n",
      "dolomie\n",
      "schiste\n",
      "BH005 : ['sable', 'argile', 'marne', 'charbon', 'dolomie', 'schiste']\n",
      "sable\n",
      "argile\n",
      "marne\n",
      "charbon\n",
      "dolomie\n",
      "BH006 : ['sable', 'argile', 'marne', 'charbon', 'dolomie', 'schiste']\n",
      "sable\n",
      "argile\n",
      "marne\n",
      "charbon\n",
      "dolomie\n",
      "calcaire\n",
      "BH007 : ['sable', 'argile', 'marne', 'charbon', 'dolomie', 'schiste', 'calcaire']\n",
      "sable\n",
      "argile\n",
      "marne\n",
      "charbon\n",
      "dolomie\n",
      "BH008 : ['sable', 'argile', 'marne', 'charbon', 'dolomie', 'schiste', 'calcaire']\n",
      "sable\n",
      "argile\n",
      "marne\n",
      "charbon\n",
      "dolomie\n",
      "BH009 : ['sable', 'argile', 'marne', 'charbon', 'dolomie', 'schiste', 'calcaire']\n",
      "sable\n",
      "argile\n",
      "marne\n",
      "charbon\n",
      "BH10 : ['sable', 'argile', 'marne', 'charbon', 'dolomie', 'schiste', 'calcaire']\n",
      "matériau(?:x)? meuble(?:s)?\n",
      "[]\n",
      "alluvion(?:s)?\n",
      "[]\n",
      "boue(?:s)?\n",
      "[]\n",
      "remblai(?:s)?\n",
      "[]\n",
      "tourbe(?:s)?\n",
      "[]\n",
      "gypse(?:s)?\n",
      "[]\n",
      "houille(?:s)?\n",
      "[]\n",
      "limon(?:s)?\n",
      "[]\n",
      "sable(?:s)?\n",
      "['sable']\n",
      "gravier(?:s)?\n",
      "[]\n",
      "silt(?:s)?\n",
      "[]\n",
      "argile(?:s)?\n",
      "['argile']\n",
      "bentonite(?:s)?\n",
      "[]\n",
      "schiste(?:s)?\n",
      "['schiste']\n",
      "argilite(?:s)?\n",
      "[]\n",
      "siltite(?:s)?\n",
      "[]\n",
      "tuffeau(?:s)?\n",
      "[]\n",
      "silex\n",
      "[]\n",
      "conglomérat(?:s)?\n",
      "[]\n",
      "carbonate(?:s)?\n",
      "[]\n",
      "calcaire(?:s)?\n",
      "['calcaire']\n",
      "granite(?:s)?\n",
      "[]\n",
      "dolomite(?:s)?\n",
      "[]\n",
      "dolomie(?:s)?\n",
      "['dolomie']\n",
      "craie(?:s)?\n",
      "[]\n",
      "chert(?:s)?\n",
      "[]\n",
      "charbon(?:s)?\n",
      "['charbon']\n",
      "marne(?:s)?\n",
      "['marne']\n",
      "inconnu\n",
      "[]\n"
     ]
    },
    {
     "data": {
      "text/plain": [
       "(Legend(Decor({'_colour': '#ffcb23', 'width': 3, 'hatch': \"'..'\", 'component': Component({'lithology': 'sable'})})\n",
       " Decor({'_colour': '#d5e6cc', 'width': 3, 'hatch': \"'---'\", 'component': Component({'lithology': 'argile'})})\n",
       " Decor({'_colour': '#7ba1a8', 'width': 3, 'hatch': None, 'component': Component({'lithology': 'marne'})})\n",
       " Decor({'_colour': '#000000', 'width': 3, 'hatch': None, 'component': Component({'lithology': 'charbon'})})\n",
       " Decor({'_colour': '#fdaaff', 'width': 3, 'hatch': None, 'component': Component({'lithology': 'dolomie'})})\n",
       " Decor({'_colour': '#bbffdd', 'width': 3, 'hatch': \"'--'\", 'component': Component({'lithology': 'schiste'})})\n",
       " Decor({'_colour': '#149eff', 'width': 3, 'hatch': \"'='\", 'component': Component({'lithology': 'calcaire'})})),\n",
       " <matplotlib.colors.ListedColormap at 0x7f832b80f280>)"
      ]
     },
     "execution_count": 23,
     "metadata": {},
     "output_type": "execute_result"
    }
   ],
   "source": [
    "p.update_legend_cmap(update_legend=True)"
   ]
  },
  {
   "cell_type": "raw",
   "metadata": {},
   "source": [
    "bh = 0\n",
    "#print(p.boreholes_3d[bh].name, '\\n', p.boreholes_3d[bh].intervals)"
   ]
  },
  {
   "cell_type": "code",
   "execution_count": 24,
   "metadata": {},
   "outputs": [
    {
     "data": {
      "text/plain": [
       "[Component({'lithology': 'marne', 'pollutant': 'vs'}),\n",
       " Component({'lithology': 'charbon', 'pollutant': 'vs'}),\n",
       " Component({'lithology': 'argile', 'pollutant': 'vr'}),\n",
       " Component({'lithology': 'sable', 'pollutant': 'vi'})]"
      ]
     },
     "execution_count": 24,
     "metadata": {},
     "output_type": "execute_result"
    }
   ],
   "source": [
    "bh = 0\n",
    "p.boreholes_3d[bh].components"
   ]
  },
  {
   "cell_type": "code",
   "execution_count": 25,
   "metadata": {},
   "outputs": [
    {
     "name": "stderr",
     "output_type": "stream",
     "text": [
      "/home/yanathan/.local/share/virtualenvs/GSDMA-DRfwm83x/lib/python3.8/site-packages/striplog/striplog.py:1505: MatplotlibDeprecationWarning: hatch must consist of a string of \"*+-./OX\\ox|\" or None, but found the following invalid values \"'\". Passing invalid values is deprecated since 3.4 and will become an error two minor releases later.\n",
      "  rect = mpl.patches.Rectangle(origin,\n",
      "/home/yanathan/.local/share/virtualenvs/GSDMA-DRfwm83x/lib/python3.8/site-packages/striplog/legend.py:311: MatplotlibDeprecationWarning: hatch must consist of a string of \"*+-./OX\\ox|\" or None, but found the following invalid values \"'\". Passing invalid values is deprecated since 3.4 and will become an error two minor releases later.\n",
      "  rect1 = patches.Rectangle((0, 0),\n"
     ]
    },
    {
     "data": {
      "image/png": "[encoded data removed]",
      "text/plain": [
       "<Figure size 432x432 with 6 Axes>"
      ]
     },
     "metadata": {
      "needs_background": "light"
     },
     "output_type": "display_data"
    }
   ],
   "source": [
    "p.boreholes_3d[bh].plot2d()"
   ]
  },
  {
   "cell_type": "code",
   "execution_count": 26,
   "metadata": {},
   "outputs": [
    {
     "name": "stdout",
     "output_type": "stream",
     "text": [
      "Colormap computing ...\n"
     ]
    },
    {
     "data": {
      "application/vnd.jupyter.widget-view+json": {
       "model_id": "70a9c36de91b4c74a007e17311dcede4",
       "version_major": 2,
       "version_minor": 0
      },
      "text/plain": [
       "ViewInteractiveWidget(height=768, layout=Layout(height='auto', width='100%'), width=1024)"
      ]
     },
     "metadata": {},
     "output_type": "display_data"
    }
   ],
   "source": [
    "p.boreholes_3d[bh].plot3d()"
   ]
  },
  {
   "cell_type": "raw",
   "metadata": {},
   "source": [
    "p.boreholes_3d[bh].plot3d(x3d=True)"
   ]
  },
  {
   "cell_type": "code",
   "execution_count": 27,
   "metadata": {},
   "outputs": [
    {
     "data": {
      "image/png": "[encoded data removed]",
      "text/html": [
       "<div style=\"vertical-align: middle;\"><strong>from_list</strong> </div><div class=\"cmap\"><img alt=\"from_list colormap\" title=\"from_list\" style=\"border: 1px solid #555;\" src=\"data:image/png;base64,iVBORw0KGgoAAAANSUhEUgAAAgAAAABACAYAAABsv8+/AAAAGHRFWHRUaXRsZQBmcm9tX2xpc3QgY29sb3JtYXBDL89FAAAAHnRFWHREZXNjcmlwdGlvbgBmcm9tX2xpc3QgY29sb3JtYXABtCnOAAAAMHRFWHRBdXRob3IATWF0cGxvdGxpYiB2My40LjIsIGh0dHBzOi8vbWF0cGxvdGxpYi5vcmes1mPdAAAAMnRFWHRTb2Z0d2FyZQBNYXRwbG90bGliIHYzLjQuMiwgaHR0cHM6Ly9tYXRwbG90bGliLm9yZ4Jw/PoAAAFjSURBVHic7daxaQJQAEXRmDXsdCZBK6dxjnRCXEFwAXurkE1ENwhW/h/uORO86nEXj+v68cGfbsvv0ROmdzz/jJ4wvcN+O3rC9O4nd/SKy+Z39ISp7b5Woyf8C5+jBwAA7ycAACBIAABAkAAAgCABAABBAgAAggQAAAQJAAAIEgAAECQAACBIAABAkAAAgCABAABBAgAAggQAAAQJAAAIEgAAECQAACBIAABAkAAAgCABAABBAgAAggQAAAQJAAAIEgAAECQAACBIAABAkAAAgCABAABBAgAAggQAAAQJAAAIEgAAECQAACBIAABAkAAAgCABAABBAgAAggQAAAQJAAAIEgAAECQAACBIAABAkAAAgCABAABBAgAAggQAAAQJAAAIEgAAECQAACBIAABAkAAAgCABAABBAgAAggQAAAQJAAAIEgAAECQAACBIAABAkAAAgCABAABBAgAAggQAAAQ9AR5iDjB1rHLcAAAAAElFTkSuQmCC\"></div><div style=\"vertical-align: middle; max-width: 514px; display: flex; justify-content: space-between;\"><div style=\"float: left;\"><div title=\"#ffcb23ff\" style=\"display: inline-block; width: 1em; height: 1em; margin: 0; vertical-align: middle; border: 1px solid #555; background-color: #ffcb23ff;\"></div> under</div><div style=\"margin: 0 auto; display: inline-block;\">bad <div title=\"#00000000\" style=\"display: inline-block; width: 1em; height: 1em; margin: 0; vertical-align: middle; border: 1px solid #555; background-color: #00000000;\"></div></div><div style=\"float: right;\">over <div title=\"#149effff\" style=\"display: inline-block; width: 1em; height: 1em; margin: 0; vertical-align: middle; border: 1px solid #555; background-color: #149effff;\"></div></div>"
      ],
      "text/plain": [
       "<matplotlib.colors.ListedColormap at 0x7f832b80f280>"
      ]
     },
     "execution_count": 27,
     "metadata": {},
     "output_type": "execute_result"
    }
   ],
   "source": [
    "p.cmap"
   ]
  },
  {
   "cell_type": "code",
   "execution_count": 28,
   "metadata": {},
   "outputs": [
    {
     "data": {
      "text/html": [
       "<table><tr><th>component</th><th>width</th><th>hatch</th><th>colour</th></tr><tr><td style=\"color:black; background-color:white\"><table><tr><td><strong>pollutant</strong></td><td>vr</td></tr></table></td><td style=\"color:black; background-color:white\">None</td><td style=\"color:black; background-color:white\">None</td><td style=\"color:#000000; background-color:#00ff00\">#00ff00</td></tr><tr><td style=\"color:black; background-color:white\"><table><tr><td><strong>pollutant</strong></td><td>vs</td></tr></table></td><td style=\"color:black; background-color:white\">None</td><td style=\"color:black; background-color:white\">None</td><td style=\"color:#000000; background-color:#ffa500\">#ffa500</td></tr><tr><td style=\"color:black; background-color:white\"><table><tr><td><strong>pollutant</strong></td><td>vi</td></tr></table></td><td style=\"color:black; background-color:white\">None</td><td style=\"color:black; background-color:white\">None</td><td style=\"color:#ffffff; background-color:#ff0000\">#ff0000</td></tr><tr><td style=\"color:black; background-color:white\"><table><tr><td><strong>pollutant</strong></td><td>inconnu</td></tr></table></td><td style=\"color:black; background-color:white\">None</td><td style=\"color:black; background-color:white\">None</td><td style=\"color:#000000; background-color:#ffffff\">#ffffff</td></tr></table>"
      ],
      "text/plain": [
       "Legend(Decor({'_colour': '#00ff00', 'width': None, 'component': Component({'pollutant': 'vr'}), 'hatch': None})\n",
       "Decor({'_colour': '#ffa500', 'width': None, 'component': Component({'pollutant': 'vs'}), 'hatch': None})\n",
       "Decor({'_colour': '#ff0000', 'width': None, 'component': Component({'pollutant': 'vi'}), 'hatch': None})\n",
       "Decor({'_colour': '#ffffff', 'width': None, 'component': Component({'pollutant': 'inconnu'}), 'hatch': None}))"
      ]
     },
     "execution_count": 28,
     "metadata": {},
     "output_type": "execute_result"
    }
   ],
   "source": [
    "p.legend_dict['pollutant']"
   ]
  },
  {
   "cell_type": "code",
   "execution_count": 29,
   "metadata": {},
   "outputs": [
    {
     "name": "stdout",
     "output_type": "stream",
     "text": [
      "vi\n",
      "vr\n",
      "vs\n",
      "vs\n",
      "BH001 : ['vi', 'vr', 'vs']\n",
      "vs\n",
      "vs\n",
      "vs\n",
      "vr\n",
      "vs\n",
      "BH002 : ['vi', 'vr', 'vs']\n",
      "vs\n",
      "vi\n",
      "vs\n",
      "vr\n",
      "vi\n",
      "BH003 : ['vi', 'vr', 'vs']\n",
      "vr\n",
      "vi\n",
      "vr\n",
      "vi\n",
      "vi\n",
      "BH004 : ['vi', 'vr', 'vs']\n",
      "vs\n",
      "vi\n",
      "vs\n",
      "vs\n",
      "vs\n",
      "Inconnu\n",
      "BH005 : ['vi', 'vr', 'vs', 'Inconnu']\n",
      "vi\n",
      "vi\n",
      "vr\n",
      "vr\n",
      "vr\n",
      "BH006 : ['vi', 'vr', 'vs', 'Inconnu']\n",
      "vr\n",
      "vr\n",
      "vs\n",
      "vs\n",
      "vs\n",
      "Inconnu\n",
      "BH007 : ['vi', 'vr', 'vs', 'Inconnu']\n",
      "vr\n",
      "vi\n",
      "vi\n",
      "vi\n",
      "vs\n",
      "BH008 : ['vi', 'vr', 'vs', 'Inconnu']\n",
      "vr\n",
      "vi\n",
      "vi\n",
      "vr\n",
      "vr\n",
      "BH009 : ['vi', 'vr', 'vs', 'Inconnu']\n",
      "vi\n",
      "vi\n",
      "vr\n",
      "vi\n",
      "BH10 : ['vi', 'vr', 'vs', 'Inconnu']\n",
      "vr\n",
      "['vr']\n",
      "vs\n",
      "['vs']\n",
      "vi\n",
      "['vi']\n",
      "inconnu\n",
      "['Inconnu']\n"
     ]
    },
    {
     "data": {
      "image/png": "[encoded data removed]",
      "text/html": [
       "<div style=\"vertical-align: middle;\"><strong>from_list</strong> </div><div class=\"cmap\"><img alt=\"from_list colormap\" title=\"from_list\" style=\"border: 1px solid #555;\" src=\"data:image/png;base64,iVBORw0KGgoAAAANSUhEUgAAAgAAAABACAYAAABsv8+/AAAAGHRFWHRUaXRsZQBmcm9tX2xpc3QgY29sb3JtYXBDL89FAAAAHnRFWHREZXNjcmlwdGlvbgBmcm9tX2xpc3QgY29sb3JtYXABtCnOAAAAMHRFWHRBdXRob3IATWF0cGxvdGxpYiB2My40LjIsIGh0dHBzOi8vbWF0cGxvdGxpYi5vcmes1mPdAAAAMnRFWHRTb2Z0d2FyZQBNYXRwbG90bGliIHYzLjQuMiwgaHR0cHM6Ly9tYXRwbG90bGliLm9yZ4Jw/PoAAAE1SURBVHic7dZBDcAwDATBpDALsDRTFvFjZxCcZMnafdY6i6zt+mnnm17AqNcDKHumBwAA9wkAAAgSAAAQJAAAIEgAAECQAACAIAEAAEECAACCBAAABAkAAAgSAAAQJAAAIEgAAECQAACAIAEAAEECAACCBAAABAkAAAgSAAAQJAAAIEgAAECQAACAIAEAAEECAACCBAAABAkAAAgSAAAQJAAAIEgAAECQAACAIAEAAEECAACCBAAABAkAAAgSAAAQJAAAIEgAAECQAACAIAEAAEECAACCBAAABAkAAAgSAAAQJAAAIEgAAECQAACAIAEAAEECAACCBAAABAkAAAgSAAAQJAAAIEgAAECQAACAIAEAAEECAACCBAAABAkAAAgSAAAQJAAAIEgAAECQAACAIAEAAEE/ko8GfOnFytAAAAAASUVORK5CYII=\"></div><div style=\"vertical-align: middle; max-width: 514px; display: flex; justify-content: space-between;\"><div style=\"float: left;\"><div title=\"#ff0000ff\" style=\"display: inline-block; width: 1em; height: 1em; margin: 0; vertical-align: middle; border: 1px solid #555; background-color: #ff0000ff;\"></div> under</div><div style=\"margin: 0 auto; display: inline-block;\">bad <div title=\"#00000000\" style=\"display: inline-block; width: 1em; height: 1em; margin: 0; vertical-align: middle; border: 1px solid #555; background-color: #00000000;\"></div></div><div style=\"float: right;\">over <div title=\"#ffffffff\" style=\"display: inline-block; width: 1em; height: 1em; margin: 0; vertical-align: middle; border: 1px solid #555; background-color: #ffffffff;\"></div></div>"
      ],
      "text/plain": [
       "<matplotlib.colors.ListedColormap at 0x7f8342755fd0>"
      ]
     },
     "execution_count": 29,
     "metadata": {},
     "output_type": "execute_result"
    }
   ],
   "source": [
    "p.update_legend_cmap(repr_attribute='pollutant')[1] #legend=lithology_memoris, update_legend=False)[0]"
   ]
  },
  {
   "cell_type": "code",
   "execution_count": 30,
   "metadata": {},
   "outputs": [
    {
     "data": {
      "image/png": "[encoded data removed]",
      "text/plain": [
       "<Figure size 432x432 with 5 Axes>"
      ]
     },
     "metadata": {
      "needs_background": "light"
     },
     "output_type": "display_data"
    }
   ],
   "source": [
    "p.boreholes_3d[4].plot2d(repr_attribute='pollutant', repr_legend=pollutant_memoris)"
   ]
  },
  {
   "cell_type": "code",
   "execution_count": 31,
   "metadata": {},
   "outputs": [
    {
     "name": "stderr",
     "output_type": "stream",
     "text": [
      "/home/yanathan/.local/share/virtualenvs/GSDMA-DRfwm83x/lib/python3.8/site-packages/striplog/striplog.py:1505: MatplotlibDeprecationWarning: hatch must consist of a string of \"*+-./OX\\ox|\" or None, but found the following invalid values \"'\". Passing invalid values is deprecated since 3.4 and will become an error two minor releases later.\n",
      "  rect = mpl.patches.Rectangle(origin,\n",
      "/home/yanathan/.local/share/virtualenvs/GSDMA-DRfwm83x/lib/python3.8/site-packages/striplog/legend.py:311: MatplotlibDeprecationWarning: hatch must consist of a string of \"*+-./OX\\ox|\" or None, but found the following invalid values \"'\". Passing invalid values is deprecated since 3.4 and will become an error two minor releases later.\n",
      "  rect1 = patches.Rectangle((0, 0),\n"
     ]
    },
    {
     "data": {
      "image/png": "[encoded data removed]",
      "text/plain": [
       "<Figure size 432x432 with 8 Axes>"
      ]
     },
     "metadata": {
      "needs_background": "light"
     },
     "output_type": "display_data"
    }
   ],
   "source": [
    "p.boreholes_3d[4].plot2d(repr_attribute='lithology')#, repr_legend=pollutant_memoris)"
   ]
  },
  {
   "cell_type": "markdown",
   "metadata": {},
   "source": [
    "### Display project boreholes"
   ]
  },
  {
   "cell_type": "code",
   "execution_count": 32,
   "metadata": {},
   "outputs": [
    {
     "name": "stdout",
     "output_type": "stream",
     "text": [
      "Colormap computing ...\n",
      "vi\n",
      "vr\n",
      "vs\n",
      "vs\n",
      "BH001 : ['vi', 'vr', 'vs']\n",
      "vs\n",
      "vs\n",
      "vs\n",
      "vr\n",
      "vs\n",
      "BH002 : ['vi', 'vr', 'vs']\n",
      "vs\n",
      "vi\n",
      "vs\n",
      "vr\n",
      "vi\n",
      "BH003 : ['vi', 'vr', 'vs']\n",
      "vr\n",
      "vi\n",
      "vr\n",
      "vi\n",
      "vi\n",
      "BH004 : ['vi', 'vr', 'vs']\n",
      "vs\n",
      "vi\n",
      "vs\n",
      "vs\n",
      "vs\n",
      "Inconnu\n",
      "BH005 : ['vi', 'vr', 'vs', 'Inconnu']\n",
      "vi\n",
      "vi\n",
      "vr\n",
      "vr\n",
      "vr\n",
      "BH006 : ['vi', 'vr', 'vs', 'Inconnu']\n",
      "vr\n",
      "vr\n",
      "vs\n",
      "vs\n",
      "vs\n",
      "Inconnu\n",
      "BH007 : ['vi', 'vr', 'vs', 'Inconnu']\n",
      "vr\n",
      "vi\n",
      "vi\n",
      "vi\n",
      "vs\n",
      "BH008 : ['vi', 'vr', 'vs', 'Inconnu']\n",
      "vr\n",
      "vi\n",
      "vi\n",
      "vr\n",
      "vr\n",
      "BH009 : ['vi', 'vr', 'vs', 'Inconnu']\n",
      "vi\n",
      "vi\n",
      "vr\n",
      "vi\n",
      "BH10 : ['vi', 'vr', 'vs', 'Inconnu']\n",
      "vr\n",
      "['vr']\n",
      "vs\n",
      "['vs']\n",
      "vi\n",
      "['vi']\n",
      "inconnu\n",
      "['Inconnu']\n"
     ]
    }
   ],
   "source": [
    "p.plot3d(repr_attribute='pollutant', labels_size=15, bg_color=[\"royalblue\", \"aliceblue\"], window_size=(1300, 1000))"
   ]
  },
  {
   "cell_type": "markdown",
   "metadata": {},
   "source": [
    "### Boreholes in 3D using X3D for interaction within the notebook"
   ]
  },
  {
   "cell_type": "raw",
   "metadata": {
    "scrolled": false
   },
   "source": [
    "p.plot3d(x3d=True)"
   ]
  },
  {
   "cell_type": "code",
   "execution_count": null,
   "metadata": {},
   "outputs": [],
   "source": []
  }
 ],
 "metadata": {
  "kernelspec": {
   "display_name": "Python 3",
   "language": "python",
   "name": "python3"
  },
  "language_info": {
   "codemirror_mode": {
    "name": "ipython",
    "version": 3
   },
   "file_extension": ".py",
   "mimetype": "text/x-python",
   "name": "python",
   "nbconvert_exporter": "python",
   "pygments_lexer": "ipython3",
   "version": "3.8.5"
  }
 },
 "nbformat": 4,
 "nbformat_minor": 4
}
