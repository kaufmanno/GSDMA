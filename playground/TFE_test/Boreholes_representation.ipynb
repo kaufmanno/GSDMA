{
 "cells": [
  {
   "cell_type": "markdown",
   "metadata": {},
   "source": [
    "# Example of using the Borehole3D class"
   ]
  },
  {
   "cell_type": "markdown",
   "metadata": {},
   "source": [
    "## Imports"
   ]
  },
  {
   "cell_type": "code",
   "execution_count": 1,
   "metadata": {},
   "outputs": [],
   "source": [
    "from striplog import Component, Decor, Legend, Lexicon, Striplog\n",
    "from core.visual import Borehole3D, striplog_legend_to_omf_legend \n",
    "from utils.lexicon.lexicon_memoris import lexicon_memoris, lithology_memoris, pollutants_memoris, CONTAMINATION_LEVELS_MEMORIS\n",
    "from utils.utils import boreholes_from_dataframe\n",
    "from utils.io import gdf_viewer\n",
    "from core.project import Project\n",
    "from core.orm import BoreholeOrm, PositionOrm, Base \n",
    "import random\n",
    "from os import remove\n",
    "import re\n",
    "import pandas as pd\n",
    "import numpy as np\n",
    "from sqlalchemy import create_engine\n",
    "from sqlalchemy.orm import sessionmaker\n",
    "from definitions import ROOT_DIR"
   ]
  },
  {
   "cell_type": "markdown",
   "metadata": {},
   "source": [
    "## Reading of CSV files in a dir"
   ]
  },
  {
   "cell_type": "code",
   "execution_count": 2,
   "metadata": {},
   "outputs": [],
   "source": [
    "#df = pd.read_csv('test_data_boreholes.csv', sep=',') # use english lexicon\n",
    "df = pd.read_csv('test_litho_fr.csv', sep=',') # use french lexicon"
   ]
  },
  {
   "cell_type": "raw",
   "metadata": {},
   "source": [
    "std_soil = pd.read_csv(ROOT_DIR+'/CF_data/Result_traitem/Memoris_seafile/donnees_Standards_S.csv')\n",
    "std_water = pd.read_csv(ROOT_DIR+'/CF_data/Result_traitem/Memoris_seafile/donnees_Standards_W.csv')"
   ]
  },
  {
   "cell_type": "raw",
   "metadata": {},
   "source": [
    "all_pollutants = std_soil['Polluant'].apply(lambda x: re.sub('é|è','e', x).rstrip(' ').lower()).to_list()\n",
    "all_pollutants"
   ]
  },
  {
   "cell_type": "code",
   "execution_count": 3,
   "metadata": {},
   "outputs": [
    {
     "name": "stdout",
     "output_type": "stream",
     "text": [
      "['arsenic', 'cadmium', 'chrome total', 'chrome vi', 'cobalt', 'cuivre', 'mercure', 'plomb', 'nickel', 'zinc', 'benzene', 'toluene', 'ethylbenzene', 'xylene sum', 'styrene', 'phenol', 'naphtalene', 'acenaphtylene', 'acenaphtene', 'fluorene', 'phenanthrene', 'anthracene', 'fluoranthene', 'pyrene', 'benzo(a)anthracene', 'chrysene', 'benzo(b)fluoranthene', 'benzo(k)fluoranthene', 'benzo(a)pyrene', 'dibenzo(ah)anthracene', 'benzo(ghi)perylene', 'indeno(1.2.3-cd)pyrene', '1.1-dichloroethane', '1.2-dichloroethane', 'cis 1.2 dichloroethene', 'trans 1.2 dichloroethene', 'dichloromethane', '1.2 dichloroethene sum', '1.2-dichloropropane', 'tetrachloroethene', 'tetrachloromethane', '1.1.1-trichloroethane', '1.1.2-trichloroethane', 'trichloroethene', 'trichloromethane (chloroforme)', 'chlorure de vinyle (chloroethene)', 'cyanures libres', 'methyl-tert-butyl-ether', 'fraction 5-8', 'fraction ec 8-10', 'fraction ec 10-12', 'fraction ec 12-16', 'fraction ec 16-21', 'fraction ec 21-35']\n"
     ]
    }
   ],
   "source": [
    "all_pollutants = pollutants_memoris.pollutant\n",
    "print(all_pollutants)"
   ]
  },
  {
   "cell_type": "markdown",
   "metadata": {},
   "source": [
    "## Data Checking"
   ]
  },
  {
   "cell_type": "code",
   "execution_count": 4,
   "metadata": {},
   "outputs": [],
   "source": [
    "#df[['Pollutant', 'Concentration']] = ''\n",
    "df.drop(columns=['Pollutant', 'Concentration', 'Unit'], inplace=True)\n",
    "#df['Concentration'] = df['Concentration'].apply(lambda x: np.random.randint(0,100))\n",
    "#df['Unit'] = 'mg/l'"
   ]
  },
  {
   "cell_type": "code",
   "execution_count": 5,
   "metadata": {},
   "outputs": [],
   "source": [
    "pol_lev = ['VR','VS','VI', 'Inconnu']\n",
    "df[all_pollutants[0:2]] = ''\n",
    "df[all_pollutants[0]] = df[all_pollutants[0]].apply(lambda x: random.sample(pol_lev, 1)[0])\n",
    "df[all_pollutants[1]] = df[all_pollutants[1]].apply(lambda x: random.sample(pol_lev, 1)[0])"
   ]
  },
  {
   "cell_type": "code",
   "execution_count": 6,
   "metadata": {},
   "outputs": [],
   "source": [
    "df['Lithology'] = df['Lithology'].replace({'Grès':'Marne', 'Calcaire':'Dolomie'})"
   ]
  },
  {
   "cell_type": "code",
   "execution_count": 7,
   "metadata": {},
   "outputs": [],
   "source": [
    "df.loc[35.5, :] = ['BH007',152794.0, 121111.0, 60.0, 0.57, 45, 'Calcaire', 'Bleu', 4, 41, 45, 'VS', 'VR']\n",
    "df.loc[25.5, :] = ['BH005',152473.0, 121460.0, 72.0, 0.61, 32, 'Schiste', 'gris', 3, 29, 32, 'VI', 'VR']\n",
    "df.loc[25.6, :] = ['BH005',152473.0, 121460.0, 68.0, 0.61, 36, 'Calcaire', 'Bleu', 4, 32, 36, 'Inconnu', 'VR']\n",
    "\n",
    "df.drop(index=4, inplace=True)\n",
    "df.drop(columns='Colour', inplace=True)\n",
    "df = df.sort_index().reset_index(drop=True)"
   ]
  },
  {
   "cell_type": "code",
   "execution_count": 8,
   "metadata": {},
   "outputs": [],
   "source": [
    "pollutants = [p for p in all_pollutants if p in df.columns]"
   ]
  },
  {
   "cell_type": "code",
   "execution_count": 9,
   "metadata": {},
   "outputs": [
    {
     "name": "stdout",
     "output_type": "stream",
     "text": [
      "Rows : 997, columns : 12\n"
     ]
    },
    {
     "data": {
      "application/vnd.jupyter.widget-view+json": {
       "model_id": "1546077071104787a3ade9c52dd55456",
       "version_major": 2,
       "version_minor": 0
      },
      "text/plain": [
       "interactive(children=(IntSlider(value=10, description='rows', max=997, min=10, readout=False), IntSlider(value…"
      ]
     },
     "metadata": {},
     "output_type": "display_data"
    }
   ],
   "source": [
    "gdf_viewer(df)"
   ]
  },
  {
   "cell_type": "raw",
   "metadata": {},
   "source": [
    "df.to_csv('test_litho_fr.csv', index=False)"
   ]
  },
  {
   "cell_type": "raw",
   "metadata": {},
   "source": [
    "df.query('X==152013.0 and Y==121905.0')"
   ]
  },
  {
   "cell_type": "markdown",
   "metadata": {},
   "source": [
    "## Create Boreholes from dataframes or files"
   ]
  },
  {
   "cell_type": "code",
   "execution_count": 10,
   "metadata": {},
   "outputs": [
    {
     "data": {
      "text/plain": [
       "3"
      ]
     },
     "execution_count": 10,
     "metadata": {},
     "output_type": "execute_result"
    }
   ],
   "source": [
    "d = {'a':1, 'b':2, 'c':3, 'd':4}\n",
    "list(d.keys()).index('d')"
   ]
  },
  {
   "cell_type": "code",
   "execution_count": 11,
   "metadata": {
    "scrolled": true
   },
   "outputs": [
    {
     "name": "stdout",
     "output_type": "stream",
     "text": [
      "\n",
      "Dataframe processing...\n",
      "================================\n",
      "\n",
      "|__ID:'BH001'\n",
      "[Component({'lithology': 'sable'}), Component({'arsenic': 'vr'}), Component({'cadmium': 'vr'})]\n",
      "[Component({'lithology': 'argile'}), Component({'arsenic': 'vi'}), Component({'cadmium': 'vs'})]\n",
      "[Component({'lithology': 'marne'}), Component({'arsenic': 'vi'}), Component({'cadmium': 'vi'})]\n",
      "[Component({'lithology': 'charbon'}), Component({'arsenic': 'vi'}), Component({'cadmium': 'vr'})]\n",
      "Summary : [Striplog(4 Intervals, start=0.0, stop=28.0)]\n",
      "\n",
      "|__ID:'BH002'\n",
      "[Component({'lithology': 'sable'}), Component({'arsenic': 'vi'}), Component({'cadmium': 'vs'})]\n",
      "[Component({'lithology': 'argile'}), Component({'arsenic': 'inconnu'}), Component({'cadmium': 'vr'})]\n",
      "[Component({'lithology': 'marne'}), Component({'arsenic': 'vr'}), Component({'cadmium': 'vs'})]\n",
      "[Component({'lithology': 'charbon'}), Component({'arsenic': 'vr'}), Component({'cadmium': 'vr'})]\n",
      "[Component({'lithology': 'dolomie'}), Component({'arsenic': 'vs'}), Component({'cadmium': 'inconnu'})]\n",
      "Summary : [Striplog(5 Intervals, start=0.0, stop=37.0)]\n",
      "\n",
      "|__ID:'BH003'\n",
      "[Component({'lithology': 'sable'}), Component({'arsenic': 'vi'}), Component({'cadmium': 'vi'})]\n",
      "[Component({'lithology': 'argile'}), Component({'arsenic': 'inconnu'}), Component({'cadmium': 'inconnu'})]\n",
      "[Component({'lithology': 'marne'}), Component({'arsenic': 'vr'}), Component({'cadmium': 'inconnu'})]\n",
      "[Component({'lithology': 'charbon'}), Component({'arsenic': 'vr'}), Component({'cadmium': 'vs'})]\n",
      "[Component({'lithology': 'dolomie'}), Component({'arsenic': 'vs'}), Component({'cadmium': 'vr'})]\n",
      "Summary : [Striplog(5 Intervals, start=0.0, stop=18.0)]\n",
      "\n",
      "|__ID:'BH004'\n",
      "[Component({'lithology': 'sable'}), Component({'arsenic': 'inconnu'}), Component({'cadmium': 'inconnu'})]\n",
      "[Component({'lithology': 'argile'}), Component({'arsenic': 'vr'}), Component({'cadmium': 'vs'})]\n",
      "[Component({'lithology': 'marne'}), Component({'arsenic': 'inconnu'}), Component({'cadmium': 'inconnu'})]\n",
      "[Component({'lithology': 'charbon'}), Component({'arsenic': 'vr'}), Component({'cadmium': 'inconnu'})]\n",
      "[Component({'lithology': 'dolomie'}), Component({'arsenic': 'inconnu'}), Component({'cadmium': 'vr'})]\n",
      "Summary : [Striplog(5 Intervals, start=0.0, stop=26.0)]\n",
      "\n",
      "|__ID:'BH005'\n",
      "[Component({'lithology': 'sable'}), Component({'arsenic': 'inconnu'}), Component({'cadmium': 'vr'})]\n",
      "[Component({'lithology': 'argile'}), Component({'arsenic': 'vi'}), Component({'cadmium': 'inconnu'})]\n",
      "[Component({'lithology': 'marne'}), Component({'arsenic': 'vs'}), Component({'cadmium': 'vi'})]\n",
      "[Component({'lithology': 'charbon'}), Component({'arsenic': 'vi'}), Component({'cadmium': 'vs'})]\n",
      "[Component({'lithology': 'dolomie'}), Component({'arsenic': 'vi'}), Component({'cadmium': 'vi'})]\n",
      "[Component({'lithology': 'schiste'}), Component({'arsenic': 'vi'}), Component({'cadmium': 'vr'})]\n",
      "[Component({'lithology': 'calcaire'}), Component({'arsenic': 'inconnu'}), Component({'cadmium': 'vr'})]\n",
      "Summary : [Striplog(7 Intervals, start=0.0, stop=36.0)]\n",
      "\n",
      "|__ID:'BH006'\n",
      "[Component({'lithology': 'sable'}), Component({'arsenic': 'vs'}), Component({'cadmium': 'vs'})]\n",
      "[Component({'lithology': 'argile'}), Component({'arsenic': 'vi'}), Component({'cadmium': 'vs'})]\n",
      "[Component({'lithology': 'marne'}), Component({'arsenic': 'inconnu'}), Component({'cadmium': 'vs'})]\n",
      "[Component({'lithology': 'charbon'}), Component({'arsenic': 'vi'}), Component({'cadmium': 'vr'})]\n",
      "[Component({'lithology': 'dolomie'}), Component({'arsenic': 'vr'}), Component({'cadmium': 'vi'})]\n",
      "Summary : [Striplog(5 Intervals, start=0.0, stop=26.0)]\n",
      "\n",
      "|__ID:'BH007'\n",
      "[Component({'lithology': 'sable'}), Component({'arsenic': 'vr'}), Component({'cadmium': 'vi'})]\n",
      "[Component({'lithology': 'argile'}), Component({'arsenic': 'inconnu'}), Component({'cadmium': 'vr'})]\n",
      "[Component({'lithology': 'marne'}), Component({'arsenic': 'inconnu'}), Component({'cadmium': 'inconnu'})]\n",
      "[Component({'lithology': 'charbon'}), Component({'arsenic': 'inconnu'}), Component({'cadmium': 'vs'})]\n",
      "[Component({'lithology': 'dolomie'}), Component({'arsenic': 'vs'}), Component({'cadmium': 'inconnu'})]\n",
      "[Component({'lithology': 'calcaire'}), Component({'arsenic': 'vs'}), Component({'cadmium': 'vr'})]\n",
      "Summary : [Striplog(6 Intervals, start=0.0, stop=45.0)]\n",
      "\n",
      "|__ID:'BH008'\n",
      "[Component({'lithology': 'sable'}), Component({'arsenic': 'vi'}), Component({'cadmium': 'vi'})]\n",
      "[Component({'lithology': 'argile'}), Component({'arsenic': 'vs'}), Component({'cadmium': 'inconnu'})]\n",
      "[Component({'lithology': 'marne'}), Component({'arsenic': 'vi'}), Component({'cadmium': 'vi'})]\n",
      "[Component({'lithology': 'charbon'}), Component({'arsenic': 'vs'}), Component({'cadmium': 'vs'})]\n",
      "[Component({'lithology': 'dolomie'}), Component({'arsenic': 'vi'}), Component({'cadmium': 'vs'})]\n",
      "Summary : [Striplog(5 Intervals, start=0.0, stop=35.0)]\n",
      "\n",
      "|__ID:'BH009'\n",
      "[Component({'lithology': 'sable'}), Component({'arsenic': 'vr'}), Component({'cadmium': 'vs'})]\n",
      "[Component({'lithology': 'argile'}), Component({'arsenic': 'vr'}), Component({'cadmium': 'inconnu'})]\n",
      "[Component({'lithology': 'marne'}), Component({'arsenic': 'vs'}), Component({'cadmium': 'vi'})]\n",
      "[Component({'lithology': 'charbon'}), Component({'arsenic': 'vs'}), Component({'cadmium': 'vr'})]\n",
      "[Component({'lithology': 'dolomie'}), Component({'arsenic': 'inconnu'}), Component({'cadmium': 'vs'})]\n",
      "Summary : [Striplog(5 Intervals, start=0.0, stop=40.0)]\n",
      "\n",
      "|__ID:'BH10'\n",
      "[Component({'lithology': 'sable'}), Component({'arsenic': 'vs'}), Component({'cadmium': 'vi'})]\n",
      "[Component({'lithology': 'argile'}), Component({'arsenic': 'inconnu'}), Component({'cadmium': 'inconnu'})]\n",
      "[Component({'lithology': 'marne'}), Component({'arsenic': 'vs'}), Component({'cadmium': 'vr'})]\n",
      "Summary : [Striplog(3 Intervals, start=0.0, stop=11.0)]\n",
      "\n",
      "End of the process : 10 unique ID found\n"
     ]
    },
    {
     "name": "stderr",
     "output_type": "stream",
     "text": [
      "/home/yanathan/Projects/GSDMA/utils/utils.py:255: SAWarning: relationship 'ComponentOrm.intervals' will copy column Components.id to column Linkintervalcomponent.comp_id, which conflicts with relationship(s): 'IntervalOrm.components' (copies Components.id to Linkintervalcomponent.comp_id). If this is not the intention, consider if these relationships should be linked with back_populates, or if viewonly=True should be applied to one or more if they are read-only. For the less common case that foreign key constraints are partially overlapping, the orm.foreign() annotation can be used to isolate the columns that should be written towards.   To silence this warning, add the parameter 'overlaps=\"components\"' to the 'ComponentOrm.intervals' relationship.\n",
      "  boreholes_orm.append(BoreholeOrm(id=bh_name))\n",
      "/home/yanathan/Projects/GSDMA/utils/utils.py:255: SAWarning: relationship 'ComponentOrm.intervals' will copy column Intervals.id to column Linkintervalcomponent.int_id, which conflicts with relationship(s): 'IntervalOrm.components' (copies Intervals.id to Linkintervalcomponent.int_id). If this is not the intention, consider if these relationships should be linked with back_populates, or if viewonly=True should be applied to one or more if they are read-only. For the less common case that foreign key constraints are partially overlapping, the orm.foreign() annotation can be used to isolate the columns that should be written towards.   To silence this warning, add the parameter 'overlaps=\"components\"' to the 'ComponentOrm.intervals' relationship.\n",
      "  boreholes_orm.append(BoreholeOrm(id=bh_name))\n",
      "/home/yanathan/Projects/GSDMA/utils/utils.py:255: SAWarning: relationship 'ComponentOrm.component_assoc' will copy column Components.id to column Linkintervalcomponent.comp_id, which conflicts with relationship(s): 'ComponentOrm.intervals' (copies Components.id to Linkintervalcomponent.comp_id), 'IntervalOrm.components' (copies Components.id to Linkintervalcomponent.comp_id). If this is not the intention, consider if these relationships should be linked with back_populates, or if viewonly=True should be applied to one or more if they are read-only. For the less common case that foreign key constraints are partially overlapping, the orm.foreign() annotation can be used to isolate the columns that should be written towards.   To silence this warning, add the parameter 'overlaps=\"components,intervals\"' to the 'ComponentOrm.component_assoc' relationship.\n",
      "  boreholes_orm.append(BoreholeOrm(id=bh_name))\n",
      "/home/yanathan/Projects/GSDMA/utils/utils.py:255: SAWarning: relationship 'LinkIntervalComponentOrm.component' will copy column Components.id to column Linkintervalcomponent.comp_id, which conflicts with relationship(s): 'ComponentOrm.intervals' (copies Components.id to Linkintervalcomponent.comp_id), 'IntervalOrm.components' (copies Components.id to Linkintervalcomponent.comp_id). If this is not the intention, consider if these relationships should be linked with back_populates, or if viewonly=True should be applied to one or more if they are read-only. For the less common case that foreign key constraints are partially overlapping, the orm.foreign() annotation can be used to isolate the columns that should be written towards.   To silence this warning, add the parameter 'overlaps=\"components,intervals\"' to the 'LinkIntervalComponentOrm.component' relationship.\n",
      "  boreholes_orm.append(BoreholeOrm(id=bh_name))\n",
      "/home/yanathan/Projects/GSDMA/utils/utils.py:255: SAWarning: relationship 'IntervalOrm.interval_assoc' will copy column Intervals.id to column Linkintervalcomponent.int_id, which conflicts with relationship(s): 'ComponentOrm.intervals' (copies Intervals.id to Linkintervalcomponent.int_id), 'IntervalOrm.components' (copies Intervals.id to Linkintervalcomponent.int_id). If this is not the intention, consider if these relationships should be linked with back_populates, or if viewonly=True should be applied to one or more if they are read-only. For the less common case that foreign key constraints are partially overlapping, the orm.foreign() annotation can be used to isolate the columns that should be written towards.   To silence this warning, add the parameter 'overlaps=\"components,intervals\"' to the 'IntervalOrm.interval_assoc' relationship.\n",
      "  boreholes_orm.append(BoreholeOrm(id=bh_name))\n",
      "/home/yanathan/Projects/GSDMA/utils/utils.py:255: SAWarning: relationship 'LinkIntervalComponentOrm.interval' will copy column Intervals.id to column Linkintervalcomponent.int_id, which conflicts with relationship(s): 'ComponentOrm.intervals' (copies Intervals.id to Linkintervalcomponent.int_id), 'IntervalOrm.components' (copies Intervals.id to Linkintervalcomponent.int_id). If this is not the intention, consider if these relationships should be linked with back_populates, or if viewonly=True should be applied to one or more if they are read-only. For the less common case that foreign key constraints are partially overlapping, the orm.foreign() annotation can be used to isolate the columns that should be written towards.   To silence this warning, add the parameter 'overlaps=\"components,intervals\"' to the 'LinkIntervalComponentOrm.interval' relationship.\n",
      "  boreholes_orm.append(BoreholeOrm(id=bh_name))\n"
     ]
    }
   ],
   "source": [
    "boreholes, components, link_intv_comp = boreholes_from_dataframe(df[:50], verbose=False,\n",
    "                                                attributes=['Lithology']+pollutants, \n",
    "                                                symbols={'lithology':{'lexicon':lexicon_memoris}}, \n",
    "                                                diameter='Diameter', thickness='Thickness')"
   ]
  },
  {
   "cell_type": "raw",
   "metadata": {},
   "source": [
    "boreholes[170].intervals[850].top.x, boreholes[170].intervals[850].top.y"
   ]
  },
  {
   "cell_type": "code",
   "execution_count": 12,
   "metadata": {},
   "outputs": [
    {
     "data": {
      "text/plain": [
       "[<core.orm.BoreholeOrm>(Name=BH001, Length=28.0, Diameter=0.43, Intervals=4),\n",
       " <core.orm.BoreholeOrm>(Name=BH002, Length=37.0, Diameter=0.6, Intervals=5),\n",
       " <core.orm.BoreholeOrm>(Name=BH003, Length=18.0, Diameter=0.41, Intervals=5),\n",
       " <core.orm.BoreholeOrm>(Name=BH004, Length=26.0, Diameter=0.61, Intervals=5),\n",
       " <core.orm.BoreholeOrm>(Name=BH005, Length=36.0, Diameter=0.61, Intervals=7),\n",
       " <core.orm.BoreholeOrm>(Name=BH006, Length=26.0, Diameter=0.31, Intervals=5),\n",
       " <core.orm.BoreholeOrm>(Name=BH007, Length=45.0, Diameter=0.57, Intervals=6),\n",
       " <core.orm.BoreholeOrm>(Name=BH008, Length=35.0, Diameter=0.39, Intervals=5),\n",
       " <core.orm.BoreholeOrm>(Name=BH009, Length=40.0, Diameter=0.5, Intervals=5),\n",
       " <core.orm.BoreholeOrm>(Name=BH10, Length=11.0, Diameter=0.31, Intervals=3)]"
      ]
     },
     "execution_count": 12,
     "metadata": {},
     "output_type": "execute_result"
    }
   ],
   "source": [
    "boreholes"
   ]
  },
  {
   "cell_type": "code",
   "execution_count": 13,
   "metadata": {},
   "outputs": [
    {
     "data": {
      "text/plain": [
       "{0: Component({'lithology': 'sable'}),\n",
       " 1: Component({'arsenic': 'vr'}),\n",
       " 2: Component({'cadmium': 'vr'}),\n",
       " 3: Component({'lithology': 'argile'}),\n",
       " 4: Component({'arsenic': 'vi'}),\n",
       " 5: Component({'cadmium': 'vs'}),\n",
       " 6: Component({'lithology': 'marne'}),\n",
       " 7: Component({'cadmium': 'vi'}),\n",
       " 8: Component({'lithology': 'charbon'}),\n",
       " 9: Component({'arsenic': 'inconnu'}),\n",
       " 10: Component({'lithology': 'dolomie'}),\n",
       " 11: Component({'arsenic': 'vs'}),\n",
       " 12: Component({'cadmium': 'inconnu'}),\n",
       " 13: Component({'lithology': 'schiste'}),\n",
       " 14: Component({'lithology': 'calcaire'})}"
      ]
     },
     "execution_count": 13,
     "metadata": {},
     "output_type": "execute_result"
    }
   ],
   "source": [
    "components"
   ]
  },
  {
   "cell_type": "code",
   "execution_count": 14,
   "metadata": {},
   "outputs": [
    {
     "data": {
      "text/plain": [
       "{(0, 0): {'extra_data': ''},\n",
       " (0, 1): {'extra_data': ''},\n",
       " (0, 2): {'extra_data': ''},\n",
       " (1, 3): {'extra_data': ''},\n",
       " (1, 4): {'extra_data': ''},\n",
       " (1, 5): {'extra_data': ''},\n",
       " (2, 6): {'extra_data': ''},\n",
       " (2, 4): {'extra_data': ''},\n",
       " (2, 7): {'extra_data': ''},\n",
       " (3, 8): {'extra_data': ''},\n",
       " (3, 4): {'extra_data': ''},\n",
       " (3, 2): {'extra_data': ''},\n",
       " (4, 0): {'extra_data': ''},\n",
       " (4, 4): {'extra_data': ''},\n",
       " (4, 5): {'extra_data': ''},\n",
       " (5, 3): {'extra_data': ''},\n",
       " (5, 9): {'extra_data': ''},\n",
       " (5, 2): {'extra_data': ''},\n",
       " (6, 6): {'extra_data': ''},\n",
       " (6, 1): {'extra_data': ''},\n",
       " (6, 5): {'extra_data': ''},\n",
       " (7, 8): {'extra_data': ''},\n",
       " (7, 1): {'extra_data': ''},\n",
       " (7, 2): {'extra_data': ''},\n",
       " (8, 10): {'extra_data': ''},\n",
       " (8, 11): {'extra_data': ''},\n",
       " (8, 12): {'extra_data': ''},\n",
       " (9, 0): {'extra_data': ''},\n",
       " (9, 4): {'extra_data': ''},\n",
       " (9, 7): {'extra_data': ''},\n",
       " (10, 3): {'extra_data': ''},\n",
       " (10, 9): {'extra_data': ''},\n",
       " (10, 12): {'extra_data': ''},\n",
       " (11, 6): {'extra_data': ''},\n",
       " (11, 1): {'extra_data': ''},\n",
       " (11, 12): {'extra_data': ''},\n",
       " (12, 8): {'extra_data': ''},\n",
       " (12, 1): {'extra_data': ''},\n",
       " (12, 5): {'extra_data': ''},\n",
       " (13, 10): {'extra_data': ''},\n",
       " (13, 11): {'extra_data': ''},\n",
       " (13, 2): {'extra_data': ''},\n",
       " (14, 0): {'extra_data': ''},\n",
       " (14, 9): {'extra_data': ''},\n",
       " (14, 12): {'extra_data': ''},\n",
       " (15, 3): {'extra_data': ''},\n",
       " (15, 1): {'extra_data': ''},\n",
       " (15, 5): {'extra_data': ''},\n",
       " (16, 6): {'extra_data': ''},\n",
       " (16, 9): {'extra_data': ''},\n",
       " (16, 12): {'extra_data': ''},\n",
       " (17, 8): {'extra_data': ''},\n",
       " (17, 1): {'extra_data': ''},\n",
       " (17, 12): {'extra_data': ''},\n",
       " (18, 10): {'extra_data': ''},\n",
       " (18, 9): {'extra_data': ''},\n",
       " (18, 2): {'extra_data': ''},\n",
       " (19, 0): {'extra_data': ''},\n",
       " (19, 9): {'extra_data': ''},\n",
       " (19, 2): {'extra_data': ''},\n",
       " (20, 3): {'extra_data': ''},\n",
       " (20, 4): {'extra_data': ''},\n",
       " (20, 12): {'extra_data': ''},\n",
       " (21, 6): {'extra_data': ''},\n",
       " (21, 11): {'extra_data': ''},\n",
       " (21, 7): {'extra_data': ''},\n",
       " (22, 8): {'extra_data': ''},\n",
       " (22, 4): {'extra_data': ''},\n",
       " (22, 5): {'extra_data': ''},\n",
       " (23, 10): {'extra_data': ''},\n",
       " (23, 4): {'extra_data': ''},\n",
       " (23, 7): {'extra_data': ''},\n",
       " (24, 13): {'extra_data': ''},\n",
       " (24, 4): {'extra_data': ''},\n",
       " (24, 2): {'extra_data': ''},\n",
       " (25, 14): {'extra_data': ''},\n",
       " (25, 9): {'extra_data': ''},\n",
       " (25, 2): {'extra_data': ''},\n",
       " (26, 0): {'extra_data': ''},\n",
       " (26, 11): {'extra_data': ''},\n",
       " (26, 5): {'extra_data': ''},\n",
       " (27, 3): {'extra_data': ''},\n",
       " (27, 4): {'extra_data': ''},\n",
       " (27, 5): {'extra_data': ''},\n",
       " (28, 6): {'extra_data': ''},\n",
       " (28, 9): {'extra_data': ''},\n",
       " (28, 5): {'extra_data': ''},\n",
       " (29, 8): {'extra_data': ''},\n",
       " (29, 4): {'extra_data': ''},\n",
       " (29, 2): {'extra_data': ''},\n",
       " (30, 10): {'extra_data': ''},\n",
       " (30, 1): {'extra_data': ''},\n",
       " (30, 7): {'extra_data': ''},\n",
       " (31, 0): {'extra_data': ''},\n",
       " (31, 1): {'extra_data': ''},\n",
       " (31, 7): {'extra_data': ''},\n",
       " (32, 3): {'extra_data': ''},\n",
       " (32, 9): {'extra_data': ''},\n",
       " (32, 2): {'extra_data': ''},\n",
       " (33, 6): {'extra_data': ''},\n",
       " (33, 9): {'extra_data': ''},\n",
       " (33, 12): {'extra_data': ''},\n",
       " (34, 8): {'extra_data': ''},\n",
       " (34, 9): {'extra_data': ''},\n",
       " (34, 5): {'extra_data': ''},\n",
       " (35, 10): {'extra_data': ''},\n",
       " (35, 11): {'extra_data': ''},\n",
       " (35, 12): {'extra_data': ''},\n",
       " (36, 14): {'extra_data': ''},\n",
       " (36, 11): {'extra_data': ''},\n",
       " (36, 2): {'extra_data': ''},\n",
       " (37, 0): {'extra_data': ''},\n",
       " (37, 4): {'extra_data': ''},\n",
       " (37, 7): {'extra_data': ''},\n",
       " (38, 3): {'extra_data': ''},\n",
       " (38, 11): {'extra_data': ''},\n",
       " (38, 12): {'extra_data': ''},\n",
       " (39, 6): {'extra_data': ''},\n",
       " (39, 4): {'extra_data': ''},\n",
       " (39, 7): {'extra_data': ''},\n",
       " (40, 8): {'extra_data': ''},\n",
       " (40, 11): {'extra_data': ''},\n",
       " (40, 5): {'extra_data': ''},\n",
       " (41, 10): {'extra_data': ''},\n",
       " (41, 4): {'extra_data': ''},\n",
       " (41, 5): {'extra_data': ''},\n",
       " (42, 0): {'extra_data': ''},\n",
       " (42, 1): {'extra_data': ''},\n",
       " (42, 5): {'extra_data': ''},\n",
       " (43, 3): {'extra_data': ''},\n",
       " (43, 1): {'extra_data': ''},\n",
       " (43, 12): {'extra_data': ''},\n",
       " (44, 6): {'extra_data': ''},\n",
       " (44, 11): {'extra_data': ''},\n",
       " (44, 7): {'extra_data': ''},\n",
       " (45, 8): {'extra_data': ''},\n",
       " (45, 11): {'extra_data': ''},\n",
       " (45, 2): {'extra_data': ''},\n",
       " (46, 10): {'extra_data': ''},\n",
       " (46, 9): {'extra_data': ''},\n",
       " (46, 5): {'extra_data': ''},\n",
       " (47, 0): {'extra_data': ''},\n",
       " (47, 11): {'extra_data': ''},\n",
       " (47, 7): {'extra_data': ''},\n",
       " (48, 3): {'extra_data': ''},\n",
       " (48, 9): {'extra_data': ''},\n",
       " (48, 12): {'extra_data': ''},\n",
       " (49, 6): {'extra_data': ''},\n",
       " (49, 11): {'extra_data': ''},\n",
       " (49, 2): {'extra_data': ''}}"
      ]
     },
     "execution_count": 14,
     "metadata": {},
     "output_type": "execute_result"
    }
   ],
   "source": [
    "link_intv_comp"
   ]
  },
  {
   "cell_type": "code",
   "execution_count": 15,
   "metadata": {},
   "outputs": [],
   "source": [
    "link_intv_comp[(0, 0)]['extra_data'] = \"{'porosite':1, 'densite':1.8}\""
   ]
  },
  {
   "cell_type": "code",
   "execution_count": 16,
   "metadata": {},
   "outputs": [
    {
     "data": {
      "text/plain": [
       "(10, 15)"
      ]
     },
     "execution_count": 16,
     "metadata": {},
     "output_type": "execute_result"
    }
   ],
   "source": [
    "len(boreholes), len(components)"
   ]
  },
  {
   "cell_type": "markdown",
   "metadata": {},
   "source": [
    "## Create a project and save data in a database"
   ]
  },
  {
   "cell_type": "code",
   "execution_count": 17,
   "metadata": {},
   "outputs": [],
   "source": [
    "remove('tmp_files/tfe_orm_db.db')"
   ]
  },
  {
   "cell_type": "code",
   "execution_count": 18,
   "metadata": {},
   "outputs": [],
   "source": [
    "engine = create_engine('sqlite:///tmp_files/tfe_orm_db.db', echo=True)"
   ]
  },
  {
   "cell_type": "code",
   "execution_count": 19,
   "metadata": {
    "scrolled": true
   },
   "outputs": [
    {
     "name": "stdout",
     "output_type": "stream",
     "text": [
      "2021-07-23 21:33:27,083 INFO sqlalchemy.engine.Engine BEGIN (implicit)\n",
      "2021-07-23 21:33:27,084 INFO sqlalchemy.engine.Engine PRAGMA main.table_info(\"Boreholes\")\n",
      "2021-07-23 21:33:27,085 INFO sqlalchemy.engine.Engine [raw sql] ()\n",
      "2021-07-23 21:33:27,086 INFO sqlalchemy.engine.Engine PRAGMA temp.table_info(\"Boreholes\")\n",
      "2021-07-23 21:33:27,087 INFO sqlalchemy.engine.Engine [raw sql] ()\n",
      "2021-07-23 21:33:27,088 INFO sqlalchemy.engine.Engine PRAGMA main.table_info(\"Intervals\")\n",
      "2021-07-23 21:33:27,088 INFO sqlalchemy.engine.Engine [raw sql] ()\n",
      "2021-07-23 21:33:27,089 INFO sqlalchemy.engine.Engine PRAGMA temp.table_info(\"Intervals\")\n",
      "2021-07-23 21:33:27,089 INFO sqlalchemy.engine.Engine [raw sql] ()\n",
      "2021-07-23 21:33:27,090 INFO sqlalchemy.engine.Engine PRAGMA main.table_info(\"Components\")\n",
      "2021-07-23 21:33:27,091 INFO sqlalchemy.engine.Engine [raw sql] ()\n",
      "2021-07-23 21:33:27,092 INFO sqlalchemy.engine.Engine PRAGMA temp.table_info(\"Components\")\n",
      "2021-07-23 21:33:27,092 INFO sqlalchemy.engine.Engine [raw sql] ()\n",
      "2021-07-23 21:33:27,093 INFO sqlalchemy.engine.Engine PRAGMA main.table_info(\"Linkintervalcomponent\")\n",
      "2021-07-23 21:33:27,094 INFO sqlalchemy.engine.Engine [raw sql] ()\n",
      "2021-07-23 21:33:27,095 INFO sqlalchemy.engine.Engine PRAGMA temp.table_info(\"Linkintervalcomponent\")\n",
      "2021-07-23 21:33:27,096 INFO sqlalchemy.engine.Engine [raw sql] ()\n",
      "2021-07-23 21:33:27,096 INFO sqlalchemy.engine.Engine PRAGMA main.table_info(\"Positions\")\n",
      "2021-07-23 21:33:27,097 INFO sqlalchemy.engine.Engine [raw sql] ()\n",
      "2021-07-23 21:33:27,098 INFO sqlalchemy.engine.Engine PRAGMA temp.table_info(\"Positions\")\n",
      "2021-07-23 21:33:27,098 INFO sqlalchemy.engine.Engine [raw sql] ()\n",
      "2021-07-23 21:33:27,099 INFO sqlalchemy.engine.Engine PRAGMA main.table_info(\"IntervalData\")\n",
      "2021-07-23 21:33:27,099 INFO sqlalchemy.engine.Engine [raw sql] ()\n",
      "2021-07-23 21:33:27,100 INFO sqlalchemy.engine.Engine PRAGMA temp.table_info(\"IntervalData\")\n",
      "2021-07-23 21:33:27,101 INFO sqlalchemy.engine.Engine [raw sql] ()\n",
      "2021-07-23 21:33:27,102 INFO sqlalchemy.engine.Engine \n",
      "CREATE TABLE \"Boreholes\" (\n",
      "\tid VARCHAR(32) NOT NULL, \n",
      "\tlength FLOAT, \n",
      "\tdiameter FLOAT, \n",
      "\tPRIMARY KEY (id)\n",
      ")\n",
      "\n",
      "\n",
      "2021-07-23 21:33:27,103 INFO sqlalchemy.engine.Engine [no key 0.00070s] ()\n",
      "2021-07-23 21:33:27,107 INFO sqlalchemy.engine.Engine \n",
      "CREATE TABLE \"Intervals\" (\n",
      "\tid INTEGER NOT NULL, \n",
      "\tborehole VARCHAR(32), \n",
      "\tinterval_number INTEGER, \n",
      "\tdescription VARCHAR(32), \n",
      "\ttop_id INTEGER, \n",
      "\tbase_id INTEGER, \n",
      "\tdata_id INTEGER, \n",
      "\tPRIMARY KEY (id), \n",
      "\tFOREIGN KEY(borehole) REFERENCES \"Boreholes\" (id), \n",
      "\tFOREIGN KEY(top_id) REFERENCES \"Positions\" (id), \n",
      "\tFOREIGN KEY(base_id) REFERENCES \"Positions\" (id), \n",
      "\tFOREIGN KEY(data_id) REFERENCES \"IntervalData\" (id)\n",
      ")\n",
      "\n",
      "\n",
      "2021-07-23 21:33:27,107 INFO sqlalchemy.engine.Engine [no key 0.00072s] ()\n",
      "2021-07-23 21:33:27,112 INFO sqlalchemy.engine.Engine \n",
      "CREATE TABLE \"Components\" (\n",
      "\tid INTEGER NOT NULL, \n",
      "\tdescription VARCHAR(32), \n",
      "\tPRIMARY KEY (id)\n",
      ")\n",
      "\n",
      "\n",
      "2021-07-23 21:33:27,113 INFO sqlalchemy.engine.Engine [no key 0.00068s] ()\n",
      "2021-07-23 21:33:27,116 INFO sqlalchemy.engine.Engine \n",
      "CREATE TABLE \"Positions\" (\n",
      "\tid INTEGER NOT NULL, \n",
      "\tupper FLOAT, \n",
      "\tmiddle FLOAT, \n",
      "\tlower FLOAT, \n",
      "\tx FLOAT, \n",
      "\ty FLOAT, \n",
      "\tPRIMARY KEY (id)\n",
      ")\n",
      "\n",
      "\n",
      "2021-07-23 21:33:27,117 INFO sqlalchemy.engine.Engine [no key 0.00072s] ()\n",
      "2021-07-23 21:33:27,120 INFO sqlalchemy.engine.Engine \n",
      "CREATE TABLE \"IntervalData\" (\n",
      "\tid INTEGER NOT NULL, \n",
      "\tinterval INTEGER, \n",
      "\t\"key\" VARCHAR(32), \n",
      "\tvalue FLOAT, \n",
      "\tunits VARCHAR(32), \n",
      "\tPRIMARY KEY (id), \n",
      "\tFOREIGN KEY(interval) REFERENCES \"Intervals\" (id)\n",
      ")\n",
      "\n",
      "\n",
      "2021-07-23 21:33:27,121 INFO sqlalchemy.engine.Engine [no key 0.00053s] ()\n",
      "2021-07-23 21:33:27,124 INFO sqlalchemy.engine.Engine \n",
      "CREATE TABLE \"Linkintervalcomponent\" (\n",
      "\tint_id INTEGER NOT NULL, \n",
      "\tcomp_id INTEGER NOT NULL, \n",
      "\textra_data VARCHAR(256), \n",
      "\tPRIMARY KEY (int_id, comp_id), \n",
      "\tFOREIGN KEY(int_id) REFERENCES \"Intervals\" (id), \n",
      "\tFOREIGN KEY(comp_id) REFERENCES \"Components\" (id)\n",
      ")\n",
      "\n",
      "\n",
      "2021-07-23 21:33:27,125 INFO sqlalchemy.engine.Engine [no key 0.00072s] ()\n",
      "2021-07-23 21:33:27,129 INFO sqlalchemy.engine.Engine COMMIT\n"
     ]
    }
   ],
   "source": [
    "Base.metadata.create_all(engine)"
   ]
  },
  {
   "cell_type": "code",
   "execution_count": 20,
   "metadata": {},
   "outputs": [],
   "source": [
    "Session = sessionmaker(bind=engine)\n",
    "session = Session()"
   ]
  },
  {
   "cell_type": "markdown",
   "metadata": {},
   "source": [
    "## Define project legend(s) and default attribute for representation"
   ]
  },
  {
   "cell_type": "code",
   "execution_count": 21,
   "metadata": {},
   "outputs": [],
   "source": [
    "leg_dict = {**{'lithology':{'legend':lithology_memoris}},**{k:{'legend':None} for k in pollutants}}"
   ]
  },
  {
   "cell_type": "code",
   "execution_count": 22,
   "metadata": {},
   "outputs": [
    {
     "name": "stdout",
     "output_type": "stream",
     "text": [
      "2021-07-23 21:33:27,150 INFO sqlalchemy.engine.Engine BEGIN (implicit)\n",
      "2021-07-23 21:33:27,153 INFO sqlalchemy.engine.Engine SELECT \"Boreholes\".id AS \"Boreholes_id\", \"Boreholes\".length AS \"Boreholes_length\", \"Boreholes\".diameter AS \"Boreholes_diameter\" \n",
      "FROM \"Boreholes\"\n",
      "2021-07-23 21:33:27,154 INFO sqlalchemy.engine.Engine [generated in 0.00089s] ()\n"
     ]
    }
   ],
   "source": [
    "p = Project(session, lexicon=lexicon_memoris, repr_attribute='lithology', legend_dict=leg_dict)"
   ]
  },
  {
   "cell_type": "code",
   "execution_count": 23,
   "metadata": {},
   "outputs": [
    {
     "data": {
      "text/plain": [
       "dict_keys(['lithology', 'arsenic', 'cadmium'])"
      ]
     },
     "execution_count": 23,
     "metadata": {},
     "output_type": "execute_result"
    }
   ],
   "source": [
    "p.legend_dict.keys()"
   ]
  },
  {
   "cell_type": "code",
   "execution_count": 24,
   "metadata": {},
   "outputs": [
    {
     "name": "stdout",
     "output_type": "stream",
     "text": [
      "2021-07-23 21:33:27,169 INFO sqlalchemy.engine.Engine INSERT INTO \"Components\" (id, description) VALUES (?, ?)\n",
      "2021-07-23 21:33:27,170 INFO sqlalchemy.engine.Engine [generated in 0.00204s] ((0, 'Sable'), (1, 'Vr'), (2, 'Vr'), (3, 'Argile'), (4, 'Vi'), (5, 'Vs'), (6, 'Marne'), (7, 'Vi')  ... displaying 10 of 15 total bound parameter sets ...  (13, 'Schiste'), (14, 'Calcaire'))\n",
      "2021-07-23 21:33:27,172 INFO sqlalchemy.engine.Engine COMMIT\n",
      "2021-07-23 21:33:27,176 INFO sqlalchemy.engine.Engine BEGIN (implicit)\n",
      "2021-07-23 21:33:27,177 INFO sqlalchemy.engine.Engine SELECT \"Boreholes\".id AS \"Boreholes_id\", \"Boreholes\".length AS \"Boreholes_length\", \"Boreholes\".diameter AS \"Boreholes_diameter\" \n",
      "FROM \"Boreholes\"\n",
      "2021-07-23 21:33:27,177 INFO sqlalchemy.engine.Engine [cached since 0.02429s ago] ()\n"
     ]
    }
   ],
   "source": [
    "p.add_components(components)"
   ]
  },
  {
   "cell_type": "code",
   "execution_count": 25,
   "metadata": {},
   "outputs": [
    {
     "data": {
      "text/plain": [
       "{0: Component({'lithology': 'sable'}),\n",
       " 1: Component({'arsenic': 'vr'}),\n",
       " 2: Component({'cadmium': 'vr'}),\n",
       " 3: Component({'lithology': 'argile'}),\n",
       " 4: Component({'arsenic': 'vi'}),\n",
       " 5: Component({'cadmium': 'vs'}),\n",
       " 6: Component({'lithology': 'marne'}),\n",
       " 7: Component({'cadmium': 'vi'}),\n",
       " 8: Component({'lithology': 'charbon'}),\n",
       " 9: Component({'arsenic': 'inconnu'}),\n",
       " 10: Component({'lithology': 'dolomie'}),\n",
       " 11: Component({'arsenic': 'vs'}),\n",
       " 12: Component({'cadmium': 'inconnu'}),\n",
       " 13: Component({'lithology': 'schiste'}),\n",
       " 14: Component({'lithology': 'calcaire'})}"
      ]
     },
     "execution_count": 25,
     "metadata": {},
     "output_type": "execute_result"
    }
   ],
   "source": [
    "p.__components__"
   ]
  },
  {
   "cell_type": "markdown",
   "metadata": {},
   "source": [
    "Add boreholes into the project"
   ]
  },
  {
   "cell_type": "code",
   "execution_count": 26,
   "metadata": {
    "scrolled": true
   },
   "outputs": [
    {
     "name": "stdout",
     "output_type": "stream",
     "text": [
      "2021-07-23 21:33:27,190 INFO sqlalchemy.engine.Engine INSERT INTO \"Boreholes\" (id, length, diameter) VALUES (?, ?, ?)\n",
      "2021-07-23 21:33:27,192 INFO sqlalchemy.engine.Engine [generated in 0.00122s] ('BH001', 28.0, 0.43)\n",
      "2021-07-23 21:33:27,194 INFO sqlalchemy.engine.Engine INSERT INTO \"Positions\" (id, upper, middle, lower, x, y) VALUES (?, ?, ?, ?, ?, ?)\n",
      "2021-07-23 21:33:27,194 INFO sqlalchemy.engine.Engine [generated in 0.00075s] ((0, 101.0, 101.0, 101.0, 152600.0, 121039.0), (1, 97.0, 97.0, 97.0, 152600.0, 121039.0), (2, 97.0, 97.0, 97.0, 152600.0, 121039.0), (3, 93.0, 93.0, 93.0, 152600.0, 121039.0), (4, 93.0, 93.0, 93.0, 152600.0, 121039.0), (5, 81.0, 81.0, 81.0, 152600.0, 121039.0), (6, 81.0, 81.0, 81.0, 152600.0, 121039.0), (7, 73.0, 73.0, 73.0, 152600.0, 121039.0))\n",
      "2021-07-23 21:33:27,197 INFO sqlalchemy.engine.Engine INSERT INTO \"Intervals\" (id, borehole, interval_number, description, top_id, base_id, data_id) VALUES (?, ?, ?, ?, ?, ?, ?)\n",
      "2021-07-23 21:33:27,198 INFO sqlalchemy.engine.Engine [generated in 0.00077s] ((0, 'BH001', 0, '{\"lithology\": \"sable\"}, {\"arsenic\": \"vr\"}, {\"cadmium\": \"vr\"}', 0, 1, None), (1, 'BH001', 1, '{\"lithology\": \"argile\"}, {\"arsenic\": \"vi\"}, {\"cadmium\": \"vs\"}', 2, 3, None), (2, 'BH001', 2, '{\"lithology\": \"marne\"}, {\"arsenic\": \"vi\"}, {\"cadmium\": \"vi\"}', 4, 5, None), (3, 'BH001', 3, '{\"lithology\": \"charbon\"}, {\"arsenic\": \"vi\"}, {\"cadmium\": \"vr\"}', 6, 7, None))\n",
      "2021-07-23 21:33:27,199 INFO sqlalchemy.engine.Engine COMMIT\n",
      "2021-07-23 21:33:27,203 INFO sqlalchemy.engine.Engine BEGIN (implicit)\n",
      "2021-07-23 21:33:27,205 INFO sqlalchemy.engine.Engine SELECT \"Boreholes\".id AS \"Boreholes_id\", \"Boreholes\".length AS \"Boreholes_length\", \"Boreholes\".diameter AS \"Boreholes_diameter\" \n",
      "FROM \"Boreholes\"\n",
      "2021-07-23 21:33:27,205 INFO sqlalchemy.engine.Engine [cached since 0.05222s ago] ()\n",
      "2021-07-23 21:33:27,212 INFO sqlalchemy.engine.Engine SELECT \"Intervals\".id AS \"Intervals_id\", \"Intervals\".borehole AS \"Intervals_borehole\", \"Intervals\".interval_number AS \"Intervals_interval_number\", \"Intervals\".description AS \"Intervals_description\", \"Intervals\".top_id AS \"Intervals_top_id\", \"Intervals\".base_id AS \"Intervals_base_id\", \"Intervals\".data_id AS \"Intervals_data_id\" \n",
      "FROM \"Intervals\" \n",
      "WHERE ? = \"Intervals\".borehole\n",
      "2021-07-23 21:33:27,214 INFO sqlalchemy.engine.Engine [generated in 0.00123s] ('BH001',)\n",
      "2021-07-23 21:33:27,219 INFO sqlalchemy.engine.Engine SELECT \"Positions\".id AS \"Positions_id\", \"Positions\".upper AS \"Positions_upper\", \"Positions\".middle AS \"Positions_middle\", \"Positions\".lower AS \"Positions_lower\", \"Positions\".x AS \"Positions_x\", \"Positions\".y AS \"Positions_y\" \n",
      "FROM \"Positions\" \n",
      "WHERE \"Positions\".id = ?\n",
      "2021-07-23 21:33:27,219 INFO sqlalchemy.engine.Engine [generated in 0.00060s] (0,)\n",
      "2021-07-23 21:33:27,221 INFO sqlalchemy.engine.Engine SELECT \"Positions\".id AS \"Positions_id\", \"Positions\".upper AS \"Positions_upper\", \"Positions\".middle AS \"Positions_middle\", \"Positions\".lower AS \"Positions_lower\", \"Positions\".x AS \"Positions_x\", \"Positions\".y AS \"Positions_y\" \n",
      "FROM \"Positions\" \n",
      "WHERE \"Positions\".id = ?\n",
      "2021-07-23 21:33:27,222 INFO sqlalchemy.engine.Engine [generated in 0.00078s] (1,)\n",
      "2021-07-23 21:33:27,224 INFO sqlalchemy.engine.Engine SELECT \"Positions\".id AS \"Positions_id\", \"Positions\".upper AS \"Positions_upper\", \"Positions\".middle AS \"Positions_middle\", \"Positions\".lower AS \"Positions_lower\", \"Positions\".x AS \"Positions_x\", \"Positions\".y AS \"Positions_y\" \n",
      "FROM \"Positions\" \n",
      "WHERE \"Positions\".id = ?\n",
      "2021-07-23 21:33:27,225 INFO sqlalchemy.engine.Engine [cached since 0.005801s ago] (2,)\n",
      "2021-07-23 21:33:27,226 INFO sqlalchemy.engine.Engine SELECT \"Positions\".id AS \"Positions_id\", \"Positions\".upper AS \"Positions_upper\", \"Positions\".middle AS \"Positions_middle\", \"Positions\".lower AS \"Positions_lower\", \"Positions\".x AS \"Positions_x\", \"Positions\".y AS \"Positions_y\" \n",
      "FROM \"Positions\" \n",
      "WHERE \"Positions\".id = ?\n",
      "2021-07-23 21:33:27,227 INFO sqlalchemy.engine.Engine [cached since 0.005854s ago] (3,)\n",
      "2021-07-23 21:33:27,229 INFO sqlalchemy.engine.Engine SELECT \"Positions\".id AS \"Positions_id\", \"Positions\".upper AS \"Positions_upper\", \"Positions\".middle AS \"Positions_middle\", \"Positions\".lower AS \"Positions_lower\", \"Positions\".x AS \"Positions_x\", \"Positions\".y AS \"Positions_y\" \n",
      "FROM \"Positions\" \n",
      "WHERE \"Positions\".id = ?\n",
      "2021-07-23 21:33:27,229 INFO sqlalchemy.engine.Engine [cached since 0.01066s ago] (4,)\n",
      "2021-07-23 21:33:27,231 INFO sqlalchemy.engine.Engine SELECT \"Positions\".id AS \"Positions_id\", \"Positions\".upper AS \"Positions_upper\", \"Positions\".middle AS \"Positions_middle\", \"Positions\".lower AS \"Positions_lower\", \"Positions\".x AS \"Positions_x\", \"Positions\".y AS \"Positions_y\" \n",
      "FROM \"Positions\" \n",
      "WHERE \"Positions\".id = ?\n",
      "2021-07-23 21:33:27,232 INFO sqlalchemy.engine.Engine [cached since 0.01089s ago] (5,)\n",
      "2021-07-23 21:33:27,235 INFO sqlalchemy.engine.Engine SELECT \"Positions\".id AS \"Positions_id\", \"Positions\".upper AS \"Positions_upper\", \"Positions\".middle AS \"Positions_middle\", \"Positions\".lower AS \"Positions_lower\", \"Positions\".x AS \"Positions_x\", \"Positions\".y AS \"Positions_y\" \n",
      "FROM \"Positions\" \n",
      "WHERE \"Positions\".id = ?\n",
      "2021-07-23 21:33:27,236 INFO sqlalchemy.engine.Engine [cached since 0.01684s ago] (6,)\n",
      "2021-07-23 21:33:27,238 INFO sqlalchemy.engine.Engine SELECT \"Positions\".id AS \"Positions_id\", \"Positions\".upper AS \"Positions_upper\", \"Positions\".middle AS \"Positions_middle\", \"Positions\".lower AS \"Positions_lower\", \"Positions\".x AS \"Positions_x\", \"Positions\".y AS \"Positions_y\" \n",
      "FROM \"Positions\" \n",
      "WHERE \"Positions\".id = ?\n",
      "2021-07-23 21:33:27,238 INFO sqlalchemy.engine.Engine [cached since 0.01716s ago] (7,)\n",
      "Borehole geometry created successfully !\n",
      "2021-07-23 21:33:27,258 INFO sqlalchemy.engine.Engine UPDATE \"Boreholes\" SET length=? WHERE \"Boreholes\".id = ?\n",
      "2021-07-23 21:33:27,259 INFO sqlalchemy.engine.Engine [generated in 0.00114s] (97.0, 'BH001')\n",
      "2021-07-23 21:33:27,260 INFO sqlalchemy.engine.Engine INSERT INTO \"Boreholes\" (id, length, diameter) VALUES (?, ?, ?)\n",
      "2021-07-23 21:33:27,261 INFO sqlalchemy.engine.Engine [cached since 0.07031s ago] ('BH002', 37.0, 0.6)\n",
      "2021-07-23 21:33:27,262 INFO sqlalchemy.engine.Engine INSERT INTO \"Positions\" (id, upper, middle, lower, x, y) VALUES (?, ?, ?, ?, ?, ?)\n",
      "2021-07-23 21:33:27,263 INFO sqlalchemy.engine.Engine [cached since 0.06931s ago] ((8, 103.0, 103.0, 103.0, 152819.0, 121586.0), (9, 98.0, 98.0, 98.0, 152819.0, 121586.0), (10, 98.0, 98.0, 98.0, 152819.0, 121586.0), (11, 95.0, 95.0, 95.0, 152819.0, 121586.0), (12, 95.0, 95.0, 95.0, 152819.0, 121586.0), (13, 89.0, 89.0, 89.0, 152819.0, 121586.0), (14, 89.0, 89.0, 89.0, 152819.0, 121586.0), (15, 88.0, 88.0, 88.0, 152819.0, 121586.0), (16, 88.0, 88.0, 88.0, 152819.0, 121586.0), (17, 66.0, 66.0, 66.0, 152819.0, 121586.0))\n",
      "2021-07-23 21:33:27,265 INFO sqlalchemy.engine.Engine INSERT INTO \"Intervals\" (id, borehole, interval_number, description, top_id, base_id, data_id) VALUES (?, ?, ?, ?, ?, ?, ?)\n",
      "2021-07-23 21:33:27,265 INFO sqlalchemy.engine.Engine [cached since 0.0681s ago] ((4, 'BH002', 0, '{\"lithology\": \"sable\"}, {\"arsenic\": \"vi\"}, {\"cadmium\": \"vs\"}', 8, 9, None), (5, 'BH002', 1, '{\"lithology\": \"argile\"}, {\"arsenic\": \"inconnu\"}, {\"cadmium\": \"vr\"}', 10, 11, None), (6, 'BH002', 2, '{\"lithology\": \"marne\"}, {\"arsenic\": \"vr\"}, {\"cadmium\": \"vs\"}', 12, 13, None), (7, 'BH002', 3, '{\"lithology\": \"charbon\"}, {\"arsenic\": \"vr\"}, {\"cadmium\": \"vr\"}', 14, 15, None), (8, 'BH002', 4, '{\"lithology\": \"dolomie\"}, {\"arsenic\": \"vs\"}, {\"cadmium\": \"inconnu\"}', 16, 17, None))\n",
      "2021-07-23 21:33:27,266 INFO sqlalchemy.engine.Engine COMMIT\n",
      "2021-07-23 21:33:27,269 INFO sqlalchemy.engine.Engine BEGIN (implicit)\n",
      "2021-07-23 21:33:27,270 INFO sqlalchemy.engine.Engine SELECT \"Boreholes\".id AS \"Boreholes_id\", \"Boreholes\".length AS \"Boreholes_length\", \"Boreholes\".diameter AS \"Boreholes_diameter\" \n",
      "FROM \"Boreholes\"\n",
      "2021-07-23 21:33:27,271 INFO sqlalchemy.engine.Engine [cached since 0.1181s ago] ()\n",
      "2021-07-23 21:33:27,273 INFO sqlalchemy.engine.Engine SELECT \"Intervals\".id AS \"Intervals_id\", \"Intervals\".borehole AS \"Intervals_borehole\", \"Intervals\".interval_number AS \"Intervals_interval_number\", \"Intervals\".description AS \"Intervals_description\", \"Intervals\".top_id AS \"Intervals_top_id\", \"Intervals\".base_id AS \"Intervals_base_id\", \"Intervals\".data_id AS \"Intervals_data_id\" \n",
      "FROM \"Intervals\" \n",
      "WHERE ? = \"Intervals\".borehole\n"
     ]
    },
    {
     "name": "stdout",
     "output_type": "stream",
     "text": [
      "2021-07-23 21:33:27,274 INFO sqlalchemy.engine.Engine [cached since 0.06142s ago] ('BH002',)\n",
      "2021-07-23 21:33:27,275 INFO sqlalchemy.engine.Engine SELECT \"Positions\".id AS \"Positions_id\", \"Positions\".upper AS \"Positions_upper\", \"Positions\".middle AS \"Positions_middle\", \"Positions\".lower AS \"Positions_lower\", \"Positions\".x AS \"Positions_x\", \"Positions\".y AS \"Positions_y\" \n",
      "FROM \"Positions\" \n",
      "WHERE \"Positions\".id = ?\n",
      "2021-07-23 21:33:27,276 INFO sqlalchemy.engine.Engine [cached since 0.05723s ago] (8,)\n",
      "2021-07-23 21:33:27,278 INFO sqlalchemy.engine.Engine SELECT \"Positions\".id AS \"Positions_id\", \"Positions\".upper AS \"Positions_upper\", \"Positions\".middle AS \"Positions_middle\", \"Positions\".lower AS \"Positions_lower\", \"Positions\".x AS \"Positions_x\", \"Positions\".y AS \"Positions_y\" \n",
      "FROM \"Positions\" \n",
      "WHERE \"Positions\".id = ?\n",
      "2021-07-23 21:33:27,279 INFO sqlalchemy.engine.Engine [cached since 0.05791s ago] (9,)\n",
      "2021-07-23 21:33:27,281 INFO sqlalchemy.engine.Engine SELECT \"Positions\".id AS \"Positions_id\", \"Positions\".upper AS \"Positions_upper\", \"Positions\".middle AS \"Positions_middle\", \"Positions\".lower AS \"Positions_lower\", \"Positions\".x AS \"Positions_x\", \"Positions\".y AS \"Positions_y\" \n",
      "FROM \"Positions\" \n",
      "WHERE \"Positions\".id = ?\n",
      "2021-07-23 21:33:27,282 INFO sqlalchemy.engine.Engine [cached since 0.06333s ago] (10,)\n",
      "2021-07-23 21:33:27,284 INFO sqlalchemy.engine.Engine SELECT \"Positions\".id AS \"Positions_id\", \"Positions\".upper AS \"Positions_upper\", \"Positions\".middle AS \"Positions_middle\", \"Positions\".lower AS \"Positions_lower\", \"Positions\".x AS \"Positions_x\", \"Positions\".y AS \"Positions_y\" \n",
      "FROM \"Positions\" \n",
      "WHERE \"Positions\".id = ?\n",
      "2021-07-23 21:33:27,285 INFO sqlalchemy.engine.Engine [cached since 0.06374s ago] (11,)\n",
      "2021-07-23 21:33:27,287 INFO sqlalchemy.engine.Engine SELECT \"Positions\".id AS \"Positions_id\", \"Positions\".upper AS \"Positions_upper\", \"Positions\".middle AS \"Positions_middle\", \"Positions\".lower AS \"Positions_lower\", \"Positions\".x AS \"Positions_x\", \"Positions\".y AS \"Positions_y\" \n",
      "FROM \"Positions\" \n",
      "WHERE \"Positions\".id = ?\n",
      "2021-07-23 21:33:27,287 INFO sqlalchemy.engine.Engine [cached since 0.0687s ago] (12,)\n",
      "2021-07-23 21:33:27,289 INFO sqlalchemy.engine.Engine SELECT \"Positions\".id AS \"Positions_id\", \"Positions\".upper AS \"Positions_upper\", \"Positions\".middle AS \"Positions_middle\", \"Positions\".lower AS \"Positions_lower\", \"Positions\".x AS \"Positions_x\", \"Positions\".y AS \"Positions_y\" \n",
      "FROM \"Positions\" \n",
      "WHERE \"Positions\".id = ?\n",
      "2021-07-23 21:33:27,290 INFO sqlalchemy.engine.Engine [cached since 0.06867s ago] (13,)\n",
      "2021-07-23 21:33:27,292 INFO sqlalchemy.engine.Engine SELECT \"Positions\".id AS \"Positions_id\", \"Positions\".upper AS \"Positions_upper\", \"Positions\".middle AS \"Positions_middle\", \"Positions\".lower AS \"Positions_lower\", \"Positions\".x AS \"Positions_x\", \"Positions\".y AS \"Positions_y\" \n",
      "FROM \"Positions\" \n",
      "WHERE \"Positions\".id = ?\n",
      "2021-07-23 21:33:27,293 INFO sqlalchemy.engine.Engine [cached since 0.07435s ago] (14,)\n",
      "2021-07-23 21:33:27,295 INFO sqlalchemy.engine.Engine SELECT \"Positions\".id AS \"Positions_id\", \"Positions\".upper AS \"Positions_upper\", \"Positions\".middle AS \"Positions_middle\", \"Positions\".lower AS \"Positions_lower\", \"Positions\".x AS \"Positions_x\", \"Positions\".y AS \"Positions_y\" \n",
      "FROM \"Positions\" \n",
      "WHERE \"Positions\".id = ?\n",
      "2021-07-23 21:33:27,295 INFO sqlalchemy.engine.Engine [cached since 0.07389s ago] (15,)\n",
      "2021-07-23 21:33:27,297 INFO sqlalchemy.engine.Engine SELECT \"Positions\".id AS \"Positions_id\", \"Positions\".upper AS \"Positions_upper\", \"Positions\".middle AS \"Positions_middle\", \"Positions\".lower AS \"Positions_lower\", \"Positions\".x AS \"Positions_x\", \"Positions\".y AS \"Positions_y\" \n",
      "FROM \"Positions\" \n",
      "WHERE \"Positions\".id = ?\n",
      "2021-07-23 21:33:27,297 INFO sqlalchemy.engine.Engine [cached since 0.0787s ago] (16,)\n",
      "2021-07-23 21:33:27,298 INFO sqlalchemy.engine.Engine SELECT \"Positions\".id AS \"Positions_id\", \"Positions\".upper AS \"Positions_upper\", \"Positions\".middle AS \"Positions_middle\", \"Positions\".lower AS \"Positions_lower\", \"Positions\".x AS \"Positions_x\", \"Positions\".y AS \"Positions_y\" \n",
      "FROM \"Positions\" \n",
      "WHERE \"Positions\".id = ?\n",
      "2021-07-23 21:33:27,299 INFO sqlalchemy.engine.Engine [cached since 0.07776s ago] (17,)\n",
      "Borehole geometry created successfully !\n",
      "2021-07-23 21:33:27,314 INFO sqlalchemy.engine.Engine UPDATE \"Boreholes\" SET length=? WHERE \"Boreholes\".id = ?\n",
      "2021-07-23 21:33:27,315 INFO sqlalchemy.engine.Engine [cached since 0.05717s ago] (98.0, 'BH002')\n",
      "2021-07-23 21:33:27,316 INFO sqlalchemy.engine.Engine INSERT INTO \"Boreholes\" (id, length, diameter) VALUES (?, ?, ?)\n",
      "2021-07-23 21:33:27,317 INFO sqlalchemy.engine.Engine [cached since 0.1262s ago] ('BH003', 18.0, 0.41)\n",
      "2021-07-23 21:33:27,317 INFO sqlalchemy.engine.Engine INSERT INTO \"Positions\" (id, upper, middle, lower, x, y) VALUES (?, ?, ?, ?, ?, ?)\n",
      "2021-07-23 21:33:27,318 INFO sqlalchemy.engine.Engine [cached since 0.1242s ago] ((18, 103.0, 103.0, 103.0, 152922.0, 121313.0), (19, 100.0, 100.0, 100.0, 152922.0, 121313.0), (20, 100.0, 100.0, 100.0, 152922.0, 121313.0), (21, 97.0, 97.0, 97.0, 152922.0, 121313.0), (22, 97.0, 97.0, 97.0, 152922.0, 121313.0), (23, 94.0, 94.0, 94.0, 152922.0, 121313.0), (24, 94.0, 94.0, 94.0, 152922.0, 121313.0), (25, 90.0, 90.0, 90.0, 152922.0, 121313.0), (26, 90.0, 90.0, 90.0, 152922.0, 121313.0), (27, 85.0, 85.0, 85.0, 152922.0, 121313.0))\n",
      "2021-07-23 21:33:27,319 INFO sqlalchemy.engine.Engine INSERT INTO \"Intervals\" (id, borehole, interval_number, description, top_id, base_id, data_id) VALUES (?, ?, ?, ?, ?, ?, ?)\n",
      "2021-07-23 21:33:27,319 INFO sqlalchemy.engine.Engine [cached since 0.1226s ago] ((9, 'BH003', 0, '{\"lithology\": \"sable\"}, {\"arsenic\": \"vi\"}, {\"cadmium\": \"vi\"}', 18, 19, None), (10, 'BH003', 1, '{\"lithology\": \"argile\"}, {\"arsenic\": \"inconnu\"}, {\"cadmium\": \"inconnu\"}', 20, 21, None), (11, 'BH003', 2, '{\"lithology\": \"marne\"}, {\"arsenic\": \"vr\"}, {\"cadmium\": \"inconnu\"}', 22, 23, None), (12, 'BH003', 3, '{\"lithology\": \"charbon\"}, {\"arsenic\": \"vr\"}, {\"cadmium\": \"vs\"}', 24, 25, None), (13, 'BH003', 4, '{\"lithology\": \"dolomie\"}, {\"arsenic\": \"vs\"}, {\"cadmium\": \"vr\"}', 26, 27, None))\n",
      "2021-07-23 21:33:27,321 INFO sqlalchemy.engine.Engine COMMIT\n",
      "2021-07-23 21:33:27,323 INFO sqlalchemy.engine.Engine BEGIN (implicit)\n",
      "2021-07-23 21:33:27,324 INFO sqlalchemy.engine.Engine SELECT \"Boreholes\".id AS \"Boreholes_id\", \"Boreholes\".length AS \"Boreholes_length\", \"Boreholes\".diameter AS \"Boreholes_diameter\" \n",
      "FROM \"Boreholes\"\n",
      "2021-07-23 21:33:27,325 INFO sqlalchemy.engine.Engine [cached since 0.1715s ago] ()\n",
      "2021-07-23 21:33:27,326 INFO sqlalchemy.engine.Engine SELECT \"Intervals\".id AS \"Intervals_id\", \"Intervals\".borehole AS \"Intervals_borehole\", \"Intervals\".interval_number AS \"Intervals_interval_number\", \"Intervals\".description AS \"Intervals_description\", \"Intervals\".top_id AS \"Intervals_top_id\", \"Intervals\".base_id AS \"Intervals_base_id\", \"Intervals\".data_id AS \"Intervals_data_id\" \n",
      "FROM \"Intervals\" \n",
      "WHERE ? = \"Intervals\".borehole\n",
      "2021-07-23 21:33:27,327 INFO sqlalchemy.engine.Engine [cached since 0.1144s ago] ('BH003',)\n",
      "2021-07-23 21:33:27,328 INFO sqlalchemy.engine.Engine SELECT \"Positions\".id AS \"Positions_id\", \"Positions\".upper AS \"Positions_upper\", \"Positions\".middle AS \"Positions_middle\", \"Positions\".lower AS \"Positions_lower\", \"Positions\".x AS \"Positions_x\", \"Positions\".y AS \"Positions_y\" \n",
      "FROM \"Positions\" \n",
      "WHERE \"Positions\".id = ?\n",
      "2021-07-23 21:33:27,329 INFO sqlalchemy.engine.Engine [cached since 0.1102s ago] (18,)\n",
      "2021-07-23 21:33:27,330 INFO sqlalchemy.engine.Engine SELECT \"Positions\".id AS \"Positions_id\", \"Positions\".upper AS \"Positions_upper\", \"Positions\".middle AS \"Positions_middle\", \"Positions\".lower AS \"Positions_lower\", \"Positions\".x AS \"Positions_x\", \"Positions\".y AS \"Positions_y\" \n",
      "FROM \"Positions\" \n",
      "WHERE \"Positions\".id = ?\n",
      "2021-07-23 21:33:27,330 INFO sqlalchemy.engine.Engine [cached since 0.1092s ago] (19,)\n",
      "2021-07-23 21:33:27,332 INFO sqlalchemy.engine.Engine SELECT \"Positions\".id AS \"Positions_id\", \"Positions\".upper AS \"Positions_upper\", \"Positions\".middle AS \"Positions_middle\", \"Positions\".lower AS \"Positions_lower\", \"Positions\".x AS \"Positions_x\", \"Positions\".y AS \"Positions_y\" \n",
      "FROM \"Positions\" \n",
      "WHERE \"Positions\".id = ?\n"
     ]
    },
    {
     "name": "stdout",
     "output_type": "stream",
     "text": [
      "2021-07-23 21:33:27,333 INFO sqlalchemy.engine.Engine [cached since 0.1143s ago] (20,)\n",
      "2021-07-23 21:33:27,335 INFO sqlalchemy.engine.Engine SELECT \"Positions\".id AS \"Positions_id\", \"Positions\".upper AS \"Positions_upper\", \"Positions\".middle AS \"Positions_middle\", \"Positions\".lower AS \"Positions_lower\", \"Positions\".x AS \"Positions_x\", \"Positions\".y AS \"Positions_y\" \n",
      "FROM \"Positions\" \n",
      "WHERE \"Positions\".id = ?\n",
      "2021-07-23 21:33:27,335 INFO sqlalchemy.engine.Engine [cached since 0.114s ago] (21,)\n",
      "2021-07-23 21:33:27,337 INFO sqlalchemy.engine.Engine SELECT \"Positions\".id AS \"Positions_id\", \"Positions\".upper AS \"Positions_upper\", \"Positions\".middle AS \"Positions_middle\", \"Positions\".lower AS \"Positions_lower\", \"Positions\".x AS \"Positions_x\", \"Positions\".y AS \"Positions_y\" \n",
      "FROM \"Positions\" \n",
      "WHERE \"Positions\".id = ?\n",
      "2021-07-23 21:33:27,337 INFO sqlalchemy.engine.Engine [cached since 0.1186s ago] (22,)\n",
      "2021-07-23 21:33:27,339 INFO sqlalchemy.engine.Engine SELECT \"Positions\".id AS \"Positions_id\", \"Positions\".upper AS \"Positions_upper\", \"Positions\".middle AS \"Positions_middle\", \"Positions\".lower AS \"Positions_lower\", \"Positions\".x AS \"Positions_x\", \"Positions\".y AS \"Positions_y\" \n",
      "FROM \"Positions\" \n",
      "WHERE \"Positions\".id = ?\n",
      "2021-07-23 21:33:27,340 INFO sqlalchemy.engine.Engine [cached since 0.1189s ago] (23,)\n",
      "2021-07-23 21:33:27,342 INFO sqlalchemy.engine.Engine SELECT \"Positions\".id AS \"Positions_id\", \"Positions\".upper AS \"Positions_upper\", \"Positions\".middle AS \"Positions_middle\", \"Positions\".lower AS \"Positions_lower\", \"Positions\".x AS \"Positions_x\", \"Positions\".y AS \"Positions_y\" \n",
      "FROM \"Positions\" \n",
      "WHERE \"Positions\".id = ?\n",
      "2021-07-23 21:33:27,343 INFO sqlalchemy.engine.Engine [cached since 0.1239s ago] (24,)\n",
      "2021-07-23 21:33:27,345 INFO sqlalchemy.engine.Engine SELECT \"Positions\".id AS \"Positions_id\", \"Positions\".upper AS \"Positions_upper\", \"Positions\".middle AS \"Positions_middle\", \"Positions\".lower AS \"Positions_lower\", \"Positions\".x AS \"Positions_x\", \"Positions\".y AS \"Positions_y\" \n",
      "FROM \"Positions\" \n",
      "WHERE \"Positions\".id = ?\n",
      "2021-07-23 21:33:27,345 INFO sqlalchemy.engine.Engine [cached since 0.1243s ago] (25,)\n",
      "2021-07-23 21:33:27,347 INFO sqlalchemy.engine.Engine SELECT \"Positions\".id AS \"Positions_id\", \"Positions\".upper AS \"Positions_upper\", \"Positions\".middle AS \"Positions_middle\", \"Positions\".lower AS \"Positions_lower\", \"Positions\".x AS \"Positions_x\", \"Positions\".y AS \"Positions_y\" \n",
      "FROM \"Positions\" \n",
      "WHERE \"Positions\".id = ?\n",
      "2021-07-23 21:33:27,348 INFO sqlalchemy.engine.Engine [cached since 0.129s ago] (26,)\n",
      "2021-07-23 21:33:27,349 INFO sqlalchemy.engine.Engine SELECT \"Positions\".id AS \"Positions_id\", \"Positions\".upper AS \"Positions_upper\", \"Positions\".middle AS \"Positions_middle\", \"Positions\".lower AS \"Positions_lower\", \"Positions\".x AS \"Positions_x\", \"Positions\".y AS \"Positions_y\" \n",
      "FROM \"Positions\" \n",
      "WHERE \"Positions\".id = ?\n",
      "2021-07-23 21:33:27,349 INFO sqlalchemy.engine.Engine [cached since 0.1282s ago] (27,)\n",
      "Borehole geometry created successfully !\n",
      "2021-07-23 21:33:27,359 INFO sqlalchemy.engine.Engine UPDATE \"Boreholes\" SET length=? WHERE \"Boreholes\".id = ?\n",
      "2021-07-23 21:33:27,360 INFO sqlalchemy.engine.Engine [cached since 0.1023s ago] (100.0, 'BH003')\n",
      "2021-07-23 21:33:27,361 INFO sqlalchemy.engine.Engine INSERT INTO \"Boreholes\" (id, length, diameter) VALUES (?, ?, ?)\n",
      "2021-07-23 21:33:27,362 INFO sqlalchemy.engine.Engine [cached since 0.1715s ago] ('BH004', 26.0, 0.61)\n",
      "2021-07-23 21:33:27,363 INFO sqlalchemy.engine.Engine INSERT INTO \"Positions\" (id, upper, middle, lower, x, y) VALUES (?, ?, ?, ?, ?, ?)\n",
      "2021-07-23 21:33:27,363 INFO sqlalchemy.engine.Engine [cached since 0.1698s ago] ((28, 101.0, 101.0, 101.0, 152766.0, 121494.0), (29, 96.0, 96.0, 96.0, 152766.0, 121494.0), (30, 96.0, 96.0, 96.0, 152766.0, 121494.0), (31, 94.0, 94.0, 94.0, 152766.0, 121494.0), (32, 94.0, 94.0, 94.0, 152766.0, 121494.0), (33, 87.0, 87.0, 87.0, 152766.0, 121494.0), (34, 87.0, 87.0, 87.0, 152766.0, 121494.0), (35, 85.0, 85.0, 85.0, 152766.0, 121494.0), (36, 85.0, 85.0, 85.0, 152766.0, 121494.0), (37, 75.0, 75.0, 75.0, 152766.0, 121494.0))\n",
      "2021-07-23 21:33:27,365 INFO sqlalchemy.engine.Engine INSERT INTO \"Intervals\" (id, borehole, interval_number, description, top_id, base_id, data_id) VALUES (?, ?, ?, ?, ?, ?, ?)\n",
      "2021-07-23 21:33:27,365 INFO sqlalchemy.engine.Engine [cached since 0.1681s ago] ((14, 'BH004', 0, '{\"lithology\": \"sable\"}, {\"arsenic\": \"inconnu\"}, {\"cadmium\": \"inconnu\"}', 28, 29, None), (15, 'BH004', 1, '{\"lithology\": \"argile\"}, {\"arsenic\": \"vr\"}, {\"cadmium\": \"vs\"}', 30, 31, None), (16, 'BH004', 2, '{\"lithology\": \"marne\"}, {\"arsenic\": \"inconnu\"}, {\"cadmium\": \"inconnu\"}', 32, 33, None), (17, 'BH004', 3, '{\"lithology\": \"charbon\"}, {\"arsenic\": \"vr\"}, {\"cadmium\": \"inconnu\"}', 34, 35, None), (18, 'BH004', 4, '{\"lithology\": \"dolomie\"}, {\"arsenic\": \"inconnu\"}, {\"cadmium\": \"vr\"}', 36, 37, None))\n",
      "2021-07-23 21:33:27,366 INFO sqlalchemy.engine.Engine COMMIT\n",
      "2021-07-23 21:33:27,369 INFO sqlalchemy.engine.Engine BEGIN (implicit)\n",
      "2021-07-23 21:33:27,369 INFO sqlalchemy.engine.Engine SELECT \"Boreholes\".id AS \"Boreholes_id\", \"Boreholes\".length AS \"Boreholes_length\", \"Boreholes\".diameter AS \"Boreholes_diameter\" \n",
      "FROM \"Boreholes\"\n",
      "2021-07-23 21:33:27,370 INFO sqlalchemy.engine.Engine [cached since 0.2168s ago] ()\n",
      "2021-07-23 21:33:27,371 INFO sqlalchemy.engine.Engine SELECT \"Intervals\".id AS \"Intervals_id\", \"Intervals\".borehole AS \"Intervals_borehole\", \"Intervals\".interval_number AS \"Intervals_interval_number\", \"Intervals\".description AS \"Intervals_description\", \"Intervals\".top_id AS \"Intervals_top_id\", \"Intervals\".base_id AS \"Intervals_base_id\", \"Intervals\".data_id AS \"Intervals_data_id\" \n",
      "FROM \"Intervals\" \n",
      "WHERE ? = \"Intervals\".borehole\n",
      "2021-07-23 21:33:27,372 INFO sqlalchemy.engine.Engine [cached since 0.1595s ago] ('BH004',)\n",
      "2021-07-23 21:33:27,373 INFO sqlalchemy.engine.Engine SELECT \"Positions\".id AS \"Positions_id\", \"Positions\".upper AS \"Positions_upper\", \"Positions\".middle AS \"Positions_middle\", \"Positions\".lower AS \"Positions_lower\", \"Positions\".x AS \"Positions_x\", \"Positions\".y AS \"Positions_y\" \n",
      "FROM \"Positions\" \n",
      "WHERE \"Positions\".id = ?\n",
      "2021-07-23 21:33:27,374 INFO sqlalchemy.engine.Engine [cached since 0.155s ago] (28,)\n",
      "2021-07-23 21:33:27,375 INFO sqlalchemy.engine.Engine SELECT \"Positions\".id AS \"Positions_id\", \"Positions\".upper AS \"Positions_upper\", \"Positions\".middle AS \"Positions_middle\", \"Positions\".lower AS \"Positions_lower\", \"Positions\".x AS \"Positions_x\", \"Positions\".y AS \"Positions_y\" \n",
      "FROM \"Positions\" \n",
      "WHERE \"Positions\".id = ?\n",
      "2021-07-23 21:33:27,375 INFO sqlalchemy.engine.Engine [cached since 0.1543s ago] (29,)\n",
      "2021-07-23 21:33:27,377 INFO sqlalchemy.engine.Engine SELECT \"Positions\".id AS \"Positions_id\", \"Positions\".upper AS \"Positions_upper\", \"Positions\".middle AS \"Positions_middle\", \"Positions\".lower AS \"Positions_lower\", \"Positions\".x AS \"Positions_x\", \"Positions\".y AS \"Positions_y\" \n",
      "FROM \"Positions\" \n",
      "WHERE \"Positions\".id = ?\n",
      "2021-07-23 21:33:27,377 INFO sqlalchemy.engine.Engine [cached since 0.1585s ago] (30,)\n",
      "2021-07-23 21:33:27,378 INFO sqlalchemy.engine.Engine SELECT \"Positions\".id AS \"Positions_id\", \"Positions\".upper AS \"Positions_upper\", \"Positions\".middle AS \"Positions_middle\", \"Positions\".lower AS \"Positions_lower\", \"Positions\".x AS \"Positions_x\", \"Positions\".y AS \"Positions_y\" \n",
      "FROM \"Positions\" \n",
      "WHERE \"Positions\".id = ?\n",
      "2021-07-23 21:33:27,379 INFO sqlalchemy.engine.Engine [cached since 0.1574s ago] (31,)\n",
      "2021-07-23 21:33:27,380 INFO sqlalchemy.engine.Engine SELECT \"Positions\".id AS \"Positions_id\", \"Positions\".upper AS \"Positions_upper\", \"Positions\".middle AS \"Positions_middle\", \"Positions\".lower AS \"Positions_lower\", \"Positions\".x AS \"Positions_x\", \"Positions\".y AS \"Positions_y\" \n",
      "FROM \"Positions\" \n",
      "WHERE \"Positions\".id = ?\n",
      "2021-07-23 21:33:27,380 INFO sqlalchemy.engine.Engine [cached since 0.1617s ago] (32,)\n",
      "2021-07-23 21:33:27,381 INFO sqlalchemy.engine.Engine SELECT \"Positions\".id AS \"Positions_id\", \"Positions\".upper AS \"Positions_upper\", \"Positions\".middle AS \"Positions_middle\", \"Positions\".lower AS \"Positions_lower\", \"Positions\".x AS \"Positions_x\", \"Positions\".y AS \"Positions_y\" \n",
      "FROM \"Positions\" \n",
      "WHERE \"Positions\".id = ?\n",
      "2021-07-23 21:33:27,381 INFO sqlalchemy.engine.Engine [cached since 0.1602s ago] (33,)\n"
     ]
    },
    {
     "name": "stdout",
     "output_type": "stream",
     "text": [
      "2021-07-23 21:33:27,383 INFO sqlalchemy.engine.Engine SELECT \"Positions\".id AS \"Positions_id\", \"Positions\".upper AS \"Positions_upper\", \"Positions\".middle AS \"Positions_middle\", \"Positions\".lower AS \"Positions_lower\", \"Positions\".x AS \"Positions_x\", \"Positions\".y AS \"Positions_y\" \n",
      "FROM \"Positions\" \n",
      "WHERE \"Positions\".id = ?\n",
      "2021-07-23 21:33:27,383 INFO sqlalchemy.engine.Engine [cached since 0.1642s ago] (34,)\n",
      "2021-07-23 21:33:27,384 INFO sqlalchemy.engine.Engine SELECT \"Positions\".id AS \"Positions_id\", \"Positions\".upper AS \"Positions_upper\", \"Positions\".middle AS \"Positions_middle\", \"Positions\".lower AS \"Positions_lower\", \"Positions\".x AS \"Positions_x\", \"Positions\".y AS \"Positions_y\" \n",
      "FROM \"Positions\" \n",
      "WHERE \"Positions\".id = ?\n",
      "2021-07-23 21:33:27,384 INFO sqlalchemy.engine.Engine [cached since 0.163s ago] (35,)\n",
      "2021-07-23 21:33:27,385 INFO sqlalchemy.engine.Engine SELECT \"Positions\".id AS \"Positions_id\", \"Positions\".upper AS \"Positions_upper\", \"Positions\".middle AS \"Positions_middle\", \"Positions\".lower AS \"Positions_lower\", \"Positions\".x AS \"Positions_x\", \"Positions\".y AS \"Positions_y\" \n",
      "FROM \"Positions\" \n",
      "WHERE \"Positions\".id = ?\n",
      "2021-07-23 21:33:27,386 INFO sqlalchemy.engine.Engine [cached since 0.1668s ago] (36,)\n",
      "2021-07-23 21:33:27,386 INFO sqlalchemy.engine.Engine SELECT \"Positions\".id AS \"Positions_id\", \"Positions\".upper AS \"Positions_upper\", \"Positions\".middle AS \"Positions_middle\", \"Positions\".lower AS \"Positions_lower\", \"Positions\".x AS \"Positions_x\", \"Positions\".y AS \"Positions_y\" \n",
      "FROM \"Positions\" \n",
      "WHERE \"Positions\".id = ?\n",
      "2021-07-23 21:33:27,387 INFO sqlalchemy.engine.Engine [cached since 0.1655s ago] (37,)\n",
      "Borehole geometry created successfully !\n",
      "2021-07-23 21:33:27,400 INFO sqlalchemy.engine.Engine UPDATE \"Boreholes\" SET length=? WHERE \"Boreholes\".id = ?\n",
      "2021-07-23 21:33:27,401 INFO sqlalchemy.engine.Engine [cached since 0.1427s ago] (96.0, 'BH004')\n",
      "2021-07-23 21:33:27,402 INFO sqlalchemy.engine.Engine INSERT INTO \"Boreholes\" (id, length, diameter) VALUES (?, ?, ?)\n",
      "2021-07-23 21:33:27,403 INFO sqlalchemy.engine.Engine [cached since 0.2126s ago] ('BH005', 36.0, 0.61)\n",
      "2021-07-23 21:33:27,404 INFO sqlalchemy.engine.Engine INSERT INTO \"Positions\" (id, upper, middle, lower, x, y) VALUES (?, ?, ?, ?, ?, ?)\n",
      "2021-07-23 21:33:27,405 INFO sqlalchemy.engine.Engine [cached since 0.2111s ago] ((38, 101.0, 101.0, 101.0, 152473.0, 121460.0), (39, 97.0, 97.0, 97.0, 152473.0, 121460.0), (40, 97.0, 97.0, 97.0, 152473.0, 121460.0), (41, 93.0, 93.0, 93.0, 152473.0, 121460.0), (42, 93.0, 93.0, 93.0, 152473.0, 121460.0), (43, 82.0, 82.0, 82.0, 152473.0, 121460.0), (44, 82.0, 82.0, 82.0, 152473.0, 121460.0), (45, 74.0, 74.0, 74.0, 152473.0, 121460.0)  ... displaying 10 of 14 total bound parameter sets ...  (50, 69.0, 69.0, 69.0, 152473.0, 121460.0), (51, 65.0, 65.0, 65.0, 152473.0, 121460.0))\n",
      "2021-07-23 21:33:27,406 INFO sqlalchemy.engine.Engine INSERT INTO \"Intervals\" (id, borehole, interval_number, description, top_id, base_id, data_id) VALUES (?, ?, ?, ?, ?, ?, ?)\n",
      "2021-07-23 21:33:27,406 INFO sqlalchemy.engine.Engine [cached since 0.2096s ago] ((19, 'BH005', 0, '{\"lithology\": \"sable\"}, {\"arsenic\": \"inconnu\"}, {\"cadmium\": \"vr\"}', 38, 39, None), (20, 'BH005', 1, '{\"lithology\": \"argile\"}, {\"arsenic\": \"vi\"}, {\"cadmium\": \"inconnu\"}', 40, 41, None), (21, 'BH005', 2, '{\"lithology\": \"marne\"}, {\"arsenic\": \"vs\"}, {\"cadmium\": \"vi\"}', 42, 43, None), (22, 'BH005', 3, '{\"lithology\": \"charbon\"}, {\"arsenic\": \"vi\"}, {\"cadmium\": \"vs\"}', 44, 45, None), (23, 'BH005', 4, '{\"lithology\": \"dolomie\"}, {\"arsenic\": \"vi\"}, {\"cadmium\": \"vi\"}', 46, 47, None), (24, 'BH005', 5, '{\"lithology\": \"schiste\"}, {\"arsenic\": \"vi\"}, {\"cadmium\": \"vr\"}', 48, 49, None), (25, 'BH005', 6, '{\"lithology\": \"calcaire\"}, {\"arsenic\": \"inconnu\"}, {\"cadmium\": \"vr\"}', 50, 51, None))\n",
      "2021-07-23 21:33:27,408 INFO sqlalchemy.engine.Engine COMMIT\n",
      "2021-07-23 21:33:27,411 INFO sqlalchemy.engine.Engine BEGIN (implicit)\n",
      "2021-07-23 21:33:27,412 INFO sqlalchemy.engine.Engine SELECT \"Boreholes\".id AS \"Boreholes_id\", \"Boreholes\".length AS \"Boreholes_length\", \"Boreholes\".diameter AS \"Boreholes_diameter\" \n",
      "FROM \"Boreholes\"\n",
      "2021-07-23 21:33:27,413 INFO sqlalchemy.engine.Engine [cached since 0.2598s ago] ()\n",
      "2021-07-23 21:33:27,414 INFO sqlalchemy.engine.Engine SELECT \"Intervals\".id AS \"Intervals_id\", \"Intervals\".borehole AS \"Intervals_borehole\", \"Intervals\".interval_number AS \"Intervals_interval_number\", \"Intervals\".description AS \"Intervals_description\", \"Intervals\".top_id AS \"Intervals_top_id\", \"Intervals\".base_id AS \"Intervals_base_id\", \"Intervals\".data_id AS \"Intervals_data_id\" \n",
      "FROM \"Intervals\" \n",
      "WHERE ? = \"Intervals\".borehole\n",
      "2021-07-23 21:33:27,415 INFO sqlalchemy.engine.Engine [cached since 0.2028s ago] ('BH005',)\n",
      "2021-07-23 21:33:27,417 INFO sqlalchemy.engine.Engine SELECT \"Positions\".id AS \"Positions_id\", \"Positions\".upper AS \"Positions_upper\", \"Positions\".middle AS \"Positions_middle\", \"Positions\".lower AS \"Positions_lower\", \"Positions\".x AS \"Positions_x\", \"Positions\".y AS \"Positions_y\" \n",
      "FROM \"Positions\" \n",
      "WHERE \"Positions\".id = ?\n",
      "2021-07-23 21:33:27,417 INFO sqlalchemy.engine.Engine [cached since 0.1985s ago] (38,)\n",
      "2021-07-23 21:33:27,419 INFO sqlalchemy.engine.Engine SELECT \"Positions\".id AS \"Positions_id\", \"Positions\".upper AS \"Positions_upper\", \"Positions\".middle AS \"Positions_middle\", \"Positions\".lower AS \"Positions_lower\", \"Positions\".x AS \"Positions_x\", \"Positions\".y AS \"Positions_y\" \n",
      "FROM \"Positions\" \n",
      "WHERE \"Positions\".id = ?\n",
      "2021-07-23 21:33:27,419 INFO sqlalchemy.engine.Engine [cached since 0.1981s ago] (39,)\n",
      "2021-07-23 21:33:27,421 INFO sqlalchemy.engine.Engine SELECT \"Positions\".id AS \"Positions_id\", \"Positions\".upper AS \"Positions_upper\", \"Positions\".middle AS \"Positions_middle\", \"Positions\".lower AS \"Positions_lower\", \"Positions\".x AS \"Positions_x\", \"Positions\".y AS \"Positions_y\" \n",
      "FROM \"Positions\" \n",
      "WHERE \"Positions\".id = ?\n",
      "2021-07-23 21:33:27,421 INFO sqlalchemy.engine.Engine [cached since 0.2027s ago] (40,)\n",
      "2021-07-23 21:33:27,423 INFO sqlalchemy.engine.Engine SELECT \"Positions\".id AS \"Positions_id\", \"Positions\".upper AS \"Positions_upper\", \"Positions\".middle AS \"Positions_middle\", \"Positions\".lower AS \"Positions_lower\", \"Positions\".x AS \"Positions_x\", \"Positions\".y AS \"Positions_y\" \n",
      "FROM \"Positions\" \n",
      "WHERE \"Positions\".id = ?\n",
      "2021-07-23 21:33:27,423 INFO sqlalchemy.engine.Engine [cached since 0.2019s ago] (41,)\n",
      "2021-07-23 21:33:27,424 INFO sqlalchemy.engine.Engine SELECT \"Positions\".id AS \"Positions_id\", \"Positions\".upper AS \"Positions_upper\", \"Positions\".middle AS \"Positions_middle\", \"Positions\".lower AS \"Positions_lower\", \"Positions\".x AS \"Positions_x\", \"Positions\".y AS \"Positions_y\" \n",
      "FROM \"Positions\" \n",
      "WHERE \"Positions\".id = ?\n",
      "2021-07-23 21:33:27,425 INFO sqlalchemy.engine.Engine [cached since 0.2062s ago] (42,)\n",
      "2021-07-23 21:33:27,426 INFO sqlalchemy.engine.Engine SELECT \"Positions\".id AS \"Positions_id\", \"Positions\".upper AS \"Positions_upper\", \"Positions\".middle AS \"Positions_middle\", \"Positions\".lower AS \"Positions_lower\", \"Positions\".x AS \"Positions_x\", \"Positions\".y AS \"Positions_y\" \n",
      "FROM \"Positions\" \n",
      "WHERE \"Positions\".id = ?\n",
      "2021-07-23 21:33:27,427 INFO sqlalchemy.engine.Engine [cached since 0.2056s ago] (43,)\n",
      "2021-07-23 21:33:27,428 INFO sqlalchemy.engine.Engine SELECT \"Positions\".id AS \"Positions_id\", \"Positions\".upper AS \"Positions_upper\", \"Positions\".middle AS \"Positions_middle\", \"Positions\".lower AS \"Positions_lower\", \"Positions\".x AS \"Positions_x\", \"Positions\".y AS \"Positions_y\" \n",
      "FROM \"Positions\" \n",
      "WHERE \"Positions\".id = ?\n",
      "2021-07-23 21:33:27,429 INFO sqlalchemy.engine.Engine [cached since 0.2101s ago] (44,)\n",
      "2021-07-23 21:33:27,430 INFO sqlalchemy.engine.Engine SELECT \"Positions\".id AS \"Positions_id\", \"Positions\".upper AS \"Positions_upper\", \"Positions\".middle AS \"Positions_middle\", \"Positions\".lower AS \"Positions_lower\", \"Positions\".x AS \"Positions_x\", \"Positions\".y AS \"Positions_y\" \n",
      "FROM \"Positions\" \n",
      "WHERE \"Positions\".id = ?\n",
      "2021-07-23 21:33:27,430 INFO sqlalchemy.engine.Engine [cached since 0.2089s ago] (45,)\n",
      "2021-07-23 21:33:27,431 INFO sqlalchemy.engine.Engine SELECT \"Positions\".id AS \"Positions_id\", \"Positions\".upper AS \"Positions_upper\", \"Positions\".middle AS \"Positions_middle\", \"Positions\".lower AS \"Positions_lower\", \"Positions\".x AS \"Positions_x\", \"Positions\".y AS \"Positions_y\" \n",
      "FROM \"Positions\" \n",
      "WHERE \"Positions\".id = ?\n"
     ]
    },
    {
     "name": "stdout",
     "output_type": "stream",
     "text": [
      "2021-07-23 21:33:27,432 INFO sqlalchemy.engine.Engine [cached since 0.2136s ago] (46,)\n",
      "2021-07-23 21:33:27,434 INFO sqlalchemy.engine.Engine SELECT \"Positions\".id AS \"Positions_id\", \"Positions\".upper AS \"Positions_upper\", \"Positions\".middle AS \"Positions_middle\", \"Positions\".lower AS \"Positions_lower\", \"Positions\".x AS \"Positions_x\", \"Positions\".y AS \"Positions_y\" \n",
      "FROM \"Positions\" \n",
      "WHERE \"Positions\".id = ?\n",
      "2021-07-23 21:33:27,434 INFO sqlalchemy.engine.Engine [cached since 0.213s ago] (47,)\n",
      "2021-07-23 21:33:27,435 INFO sqlalchemy.engine.Engine SELECT \"Positions\".id AS \"Positions_id\", \"Positions\".upper AS \"Positions_upper\", \"Positions\".middle AS \"Positions_middle\", \"Positions\".lower AS \"Positions_lower\", \"Positions\".x AS \"Positions_x\", \"Positions\".y AS \"Positions_y\" \n",
      "FROM \"Positions\" \n",
      "WHERE \"Positions\".id = ?\n",
      "2021-07-23 21:33:27,436 INFO sqlalchemy.engine.Engine [cached since 0.2168s ago] (48,)\n",
      "2021-07-23 21:33:27,437 INFO sqlalchemy.engine.Engine SELECT \"Positions\".id AS \"Positions_id\", \"Positions\".upper AS \"Positions_upper\", \"Positions\".middle AS \"Positions_middle\", \"Positions\".lower AS \"Positions_lower\", \"Positions\".x AS \"Positions_x\", \"Positions\".y AS \"Positions_y\" \n",
      "FROM \"Positions\" \n",
      "WHERE \"Positions\".id = ?\n",
      "2021-07-23 21:33:27,437 INFO sqlalchemy.engine.Engine [cached since 0.2158s ago] (49,)\n",
      "2021-07-23 21:33:27,438 INFO sqlalchemy.engine.Engine SELECT \"Positions\".id AS \"Positions_id\", \"Positions\".upper AS \"Positions_upper\", \"Positions\".middle AS \"Positions_middle\", \"Positions\".lower AS \"Positions_lower\", \"Positions\".x AS \"Positions_x\", \"Positions\".y AS \"Positions_y\" \n",
      "FROM \"Positions\" \n",
      "WHERE \"Positions\".id = ?\n",
      "2021-07-23 21:33:27,439 INFO sqlalchemy.engine.Engine [cached since 0.2201s ago] (50,)\n",
      "2021-07-23 21:33:27,440 INFO sqlalchemy.engine.Engine SELECT \"Positions\".id AS \"Positions_id\", \"Positions\".upper AS \"Positions_upper\", \"Positions\".middle AS \"Positions_middle\", \"Positions\".lower AS \"Positions_lower\", \"Positions\".x AS \"Positions_x\", \"Positions\".y AS \"Positions_y\" \n",
      "FROM \"Positions\" \n",
      "WHERE \"Positions\".id = ?\n",
      "2021-07-23 21:33:27,441 INFO sqlalchemy.engine.Engine [cached since 0.2198s ago] (51,)\n",
      "Borehole geometry created successfully !\n",
      "2021-07-23 21:33:27,450 INFO sqlalchemy.engine.Engine UPDATE \"Boreholes\" SET length=? WHERE \"Boreholes\".id = ?\n",
      "2021-07-23 21:33:27,451 INFO sqlalchemy.engine.Engine [cached since 0.1932s ago] (97.0, 'BH005')\n",
      "2021-07-23 21:33:27,452 INFO sqlalchemy.engine.Engine INSERT INTO \"Boreholes\" (id, length, diameter) VALUES (?, ?, ?)\n",
      "2021-07-23 21:33:27,453 INFO sqlalchemy.engine.Engine [cached since 0.2624s ago] ('BH006', 26.0, 0.31)\n",
      "2021-07-23 21:33:27,454 INFO sqlalchemy.engine.Engine INSERT INTO \"Positions\" (id, upper, middle, lower, x, y) VALUES (?, ?, ?, ?, ?, ?)\n",
      "2021-07-23 21:33:27,455 INFO sqlalchemy.engine.Engine [cached since 0.2612s ago] ((52, 101.0, 101.0, 101.0, 152375.0, 121002.0), (53, 100.0, 100.0, 100.0, 152375.0, 121002.0), (54, 100.0, 100.0, 100.0, 152375.0, 121002.0), (55, 98.0, 98.0, 98.0, 152375.0, 121002.0), (56, 98.0, 98.0, 98.0, 152375.0, 121002.0), (57, 92.0, 92.0, 92.0, 152375.0, 121002.0), (58, 92.0, 92.0, 92.0, 152375.0, 121002.0), (59, 86.0, 86.0, 86.0, 152375.0, 121002.0), (60, 86.0, 86.0, 86.0, 152375.0, 121002.0), (61, 75.0, 75.0, 75.0, 152375.0, 121002.0))\n",
      "2021-07-23 21:33:27,456 INFO sqlalchemy.engine.Engine INSERT INTO \"Intervals\" (id, borehole, interval_number, description, top_id, base_id, data_id) VALUES (?, ?, ?, ?, ?, ?, ?)\n",
      "2021-07-23 21:33:27,457 INFO sqlalchemy.engine.Engine [cached since 0.2602s ago] ((26, 'BH006', 0, '{\"lithology\": \"sable\"}, {\"arsenic\": \"vs\"}, {\"cadmium\": \"vs\"}', 52, 53, None), (27, 'BH006', 1, '{\"lithology\": \"argile\"}, {\"arsenic\": \"vi\"}, {\"cadmium\": \"vs\"}', 54, 55, None), (28, 'BH006', 2, '{\"lithology\": \"marne\"}, {\"arsenic\": \"inconnu\"}, {\"cadmium\": \"vs\"}', 56, 57, None), (29, 'BH006', 3, '{\"lithology\": \"charbon\"}, {\"arsenic\": \"vi\"}, {\"cadmium\": \"vr\"}', 58, 59, None), (30, 'BH006', 4, '{\"lithology\": \"dolomie\"}, {\"arsenic\": \"vr\"}, {\"cadmium\": \"vi\"}', 60, 61, None))\n",
      "2021-07-23 21:33:27,458 INFO sqlalchemy.engine.Engine COMMIT\n",
      "2021-07-23 21:33:27,461 INFO sqlalchemy.engine.Engine BEGIN (implicit)\n",
      "2021-07-23 21:33:27,462 INFO sqlalchemy.engine.Engine SELECT \"Boreholes\".id AS \"Boreholes_id\", \"Boreholes\".length AS \"Boreholes_length\", \"Boreholes\".diameter AS \"Boreholes_diameter\" \n",
      "FROM \"Boreholes\"\n",
      "2021-07-23 21:33:27,463 INFO sqlalchemy.engine.Engine [cached since 0.3095s ago] ()\n",
      "2021-07-23 21:33:27,464 INFO sqlalchemy.engine.Engine SELECT \"Intervals\".id AS \"Intervals_id\", \"Intervals\".borehole AS \"Intervals_borehole\", \"Intervals\".interval_number AS \"Intervals_interval_number\", \"Intervals\".description AS \"Intervals_description\", \"Intervals\".top_id AS \"Intervals_top_id\", \"Intervals\".base_id AS \"Intervals_base_id\", \"Intervals\".data_id AS \"Intervals_data_id\" \n",
      "FROM \"Intervals\" \n",
      "WHERE ? = \"Intervals\".borehole\n",
      "2021-07-23 21:33:27,465 INFO sqlalchemy.engine.Engine [cached since 0.2524s ago] ('BH006',)\n",
      "2021-07-23 21:33:27,467 INFO sqlalchemy.engine.Engine SELECT \"Positions\".id AS \"Positions_id\", \"Positions\".upper AS \"Positions_upper\", \"Positions\".middle AS \"Positions_middle\", \"Positions\".lower AS \"Positions_lower\", \"Positions\".x AS \"Positions_x\", \"Positions\".y AS \"Positions_y\" \n",
      "FROM \"Positions\" \n",
      "WHERE \"Positions\".id = ?\n",
      "2021-07-23 21:33:27,468 INFO sqlalchemy.engine.Engine [cached since 0.2488s ago] (52,)\n",
      "2021-07-23 21:33:27,469 INFO sqlalchemy.engine.Engine SELECT \"Positions\".id AS \"Positions_id\", \"Positions\".upper AS \"Positions_upper\", \"Positions\".middle AS \"Positions_middle\", \"Positions\".lower AS \"Positions_lower\", \"Positions\".x AS \"Positions_x\", \"Positions\".y AS \"Positions_y\" \n",
      "FROM \"Positions\" \n",
      "WHERE \"Positions\".id = ?\n",
      "2021-07-23 21:33:27,470 INFO sqlalchemy.engine.Engine [cached since 0.249s ago] (53,)\n",
      "2021-07-23 21:33:27,472 INFO sqlalchemy.engine.Engine SELECT \"Positions\".id AS \"Positions_id\", \"Positions\".upper AS \"Positions_upper\", \"Positions\".middle AS \"Positions_middle\", \"Positions\".lower AS \"Positions_lower\", \"Positions\".x AS \"Positions_x\", \"Positions\".y AS \"Positions_y\" \n",
      "FROM \"Positions\" \n",
      "WHERE \"Positions\".id = ?\n",
      "2021-07-23 21:33:27,473 INFO sqlalchemy.engine.Engine [cached since 0.2543s ago] (54,)\n",
      "2021-07-23 21:33:27,475 INFO sqlalchemy.engine.Engine SELECT \"Positions\".id AS \"Positions_id\", \"Positions\".upper AS \"Positions_upper\", \"Positions\".middle AS \"Positions_middle\", \"Positions\".lower AS \"Positions_lower\", \"Positions\".x AS \"Positions_x\", \"Positions\".y AS \"Positions_y\" \n",
      "FROM \"Positions\" \n",
      "WHERE \"Positions\".id = ?\n",
      "2021-07-23 21:33:27,475 INFO sqlalchemy.engine.Engine [cached since 0.2541s ago] (55,)\n",
      "2021-07-23 21:33:27,477 INFO sqlalchemy.engine.Engine SELECT \"Positions\".id AS \"Positions_id\", \"Positions\".upper AS \"Positions_upper\", \"Positions\".middle AS \"Positions_middle\", \"Positions\".lower AS \"Positions_lower\", \"Positions\".x AS \"Positions_x\", \"Positions\".y AS \"Positions_y\" \n",
      "FROM \"Positions\" \n",
      "WHERE \"Positions\".id = ?\n",
      "2021-07-23 21:33:27,477 INFO sqlalchemy.engine.Engine [cached since 0.2588s ago] (56,)\n",
      "2021-07-23 21:33:27,479 INFO sqlalchemy.engine.Engine SELECT \"Positions\".id AS \"Positions_id\", \"Positions\".upper AS \"Positions_upper\", \"Positions\".middle AS \"Positions_middle\", \"Positions\".lower AS \"Positions_lower\", \"Positions\".x AS \"Positions_x\", \"Positions\".y AS \"Positions_y\" \n",
      "FROM \"Positions\" \n",
      "WHERE \"Positions\".id = ?\n",
      "2021-07-23 21:33:27,480 INFO sqlalchemy.engine.Engine [cached since 0.2585s ago] (57,)\n",
      "2021-07-23 21:33:27,481 INFO sqlalchemy.engine.Engine SELECT \"Positions\".id AS \"Positions_id\", \"Positions\".upper AS \"Positions_upper\", \"Positions\".middle AS \"Positions_middle\", \"Positions\".lower AS \"Positions_lower\", \"Positions\".x AS \"Positions_x\", \"Positions\".y AS \"Positions_y\" \n",
      "FROM \"Positions\" \n",
      "WHERE \"Positions\".id = ?\n",
      "2021-07-23 21:33:27,482 INFO sqlalchemy.engine.Engine [cached since 0.263s ago] (58,)\n",
      "2021-07-23 21:33:27,483 INFO sqlalchemy.engine.Engine SELECT \"Positions\".id AS \"Positions_id\", \"Positions\".upper AS \"Positions_upper\", \"Positions\".middle AS \"Positions_middle\", \"Positions\".lower AS \"Positions_lower\", \"Positions\".x AS \"Positions_x\", \"Positions\".y AS \"Positions_y\" \n",
      "FROM \"Positions\" \n",
      "WHERE \"Positions\".id = ?\n",
      "2021-07-23 21:33:27,483 INFO sqlalchemy.engine.Engine [cached since 0.2622s ago] (59,)\n"
     ]
    },
    {
     "name": "stdout",
     "output_type": "stream",
     "text": [
      "2021-07-23 21:33:27,485 INFO sqlalchemy.engine.Engine SELECT \"Positions\".id AS \"Positions_id\", \"Positions\".upper AS \"Positions_upper\", \"Positions\".middle AS \"Positions_middle\", \"Positions\".lower AS \"Positions_lower\", \"Positions\".x AS \"Positions_x\", \"Positions\".y AS \"Positions_y\" \n",
      "FROM \"Positions\" \n",
      "WHERE \"Positions\".id = ?\n",
      "2021-07-23 21:33:27,486 INFO sqlalchemy.engine.Engine [cached since 0.2674s ago] (60,)\n",
      "2021-07-23 21:33:27,488 INFO sqlalchemy.engine.Engine SELECT \"Positions\".id AS \"Positions_id\", \"Positions\".upper AS \"Positions_upper\", \"Positions\".middle AS \"Positions_middle\", \"Positions\".lower AS \"Positions_lower\", \"Positions\".x AS \"Positions_x\", \"Positions\".y AS \"Positions_y\" \n",
      "FROM \"Positions\" \n",
      "WHERE \"Positions\".id = ?\n",
      "2021-07-23 21:33:27,489 INFO sqlalchemy.engine.Engine [cached since 0.2681s ago] (61,)\n",
      "Borehole geometry created successfully !\n",
      "2021-07-23 21:33:27,498 INFO sqlalchemy.engine.Engine UPDATE \"Boreholes\" SET length=? WHERE \"Boreholes\".id = ?\n",
      "2021-07-23 21:33:27,499 INFO sqlalchemy.engine.Engine [cached since 0.2413s ago] (100.0, 'BH006')\n",
      "2021-07-23 21:33:27,500 INFO sqlalchemy.engine.Engine INSERT INTO \"Boreholes\" (id, length, diameter) VALUES (?, ?, ?)\n",
      "2021-07-23 21:33:27,501 INFO sqlalchemy.engine.Engine [cached since 0.3106s ago] ('BH007', 45.0, 0.57)\n",
      "2021-07-23 21:33:27,502 INFO sqlalchemy.engine.Engine INSERT INTO \"Positions\" (id, upper, middle, lower, x, y) VALUES (?, ?, ?, ?, ?, ?)\n",
      "2021-07-23 21:33:27,503 INFO sqlalchemy.engine.Engine [cached since 0.3093s ago] ((62, 101.0, 101.0, 101.0, 152794.0, 121111.0), (63, 97.0, 97.0, 97.0, 152794.0, 121111.0), (64, 97.0, 97.0, 97.0, 152794.0, 121111.0), (65, 93.0, 93.0, 93.0, 152794.0, 121111.0), (66, 93.0, 93.0, 93.0, 152794.0, 121111.0), (67, 83.0, 83.0, 83.0, 152794.0, 121111.0), (68, 83.0, 83.0, 83.0, 152794.0, 121111.0), (69, 82.0, 82.0, 82.0, 152794.0, 121111.0)  ... displaying 10 of 12 total bound parameter sets ...  (72, 60.0, 60.0, 60.0, 152794.0, 121111.0), (73, 56.0, 56.0, 56.0, 152794.0, 121111.0))\n",
      "2021-07-23 21:33:27,505 INFO sqlalchemy.engine.Engine INSERT INTO \"Intervals\" (id, borehole, interval_number, description, top_id, base_id, data_id) VALUES (?, ?, ?, ?, ?, ?, ?)\n",
      "2021-07-23 21:33:27,505 INFO sqlalchemy.engine.Engine [cached since 0.3083s ago] ((31, 'BH007', 0, '{\"lithology\": \"sable\"}, {\"arsenic\": \"vr\"}, {\"cadmium\": \"vi\"}', 62, 63, None), (32, 'BH007', 1, '{\"lithology\": \"argile\"}, {\"arsenic\": \"inconnu\"}, {\"cadmium\": \"vr\"}', 64, 65, None), (33, 'BH007', 2, '{\"lithology\": \"marne\"}, {\"arsenic\": \"inconnu\"}, {\"cadmium\": \"inconnu\"}', 66, 67, None), (34, 'BH007', 3, '{\"lithology\": \"charbon\"}, {\"arsenic\": \"inconnu\"}, {\"cadmium\": \"vs\"}', 68, 69, None), (35, 'BH007', 4, '{\"lithology\": \"dolomie\"}, {\"arsenic\": \"vs\"}, {\"cadmium\": \"inconnu\"}', 70, 71, None), (36, 'BH007', 5, '{\"lithology\": \"calcaire\"}, {\"arsenic\": \"vs\"}, {\"cadmium\": \"vr\"}', 72, 73, None))\n",
      "2021-07-23 21:33:27,506 INFO sqlalchemy.engine.Engine COMMIT\n",
      "2021-07-23 21:33:27,510 INFO sqlalchemy.engine.Engine BEGIN (implicit)\n",
      "2021-07-23 21:33:27,511 INFO sqlalchemy.engine.Engine SELECT \"Boreholes\".id AS \"Boreholes_id\", \"Boreholes\".length AS \"Boreholes_length\", \"Boreholes\".diameter AS \"Boreholes_diameter\" \n",
      "FROM \"Boreholes\"\n",
      "2021-07-23 21:33:27,511 INFO sqlalchemy.engine.Engine [cached since 0.3578s ago] ()\n",
      "2021-07-23 21:33:27,512 INFO sqlalchemy.engine.Engine SELECT \"Intervals\".id AS \"Intervals_id\", \"Intervals\".borehole AS \"Intervals_borehole\", \"Intervals\".interval_number AS \"Intervals_interval_number\", \"Intervals\".description AS \"Intervals_description\", \"Intervals\".top_id AS \"Intervals_top_id\", \"Intervals\".base_id AS \"Intervals_base_id\", \"Intervals\".data_id AS \"Intervals_data_id\" \n",
      "FROM \"Intervals\" \n",
      "WHERE ? = \"Intervals\".borehole\n",
      "2021-07-23 21:33:27,513 INFO sqlalchemy.engine.Engine [cached since 0.3005s ago] ('BH007',)\n",
      "2021-07-23 21:33:27,514 INFO sqlalchemy.engine.Engine SELECT \"Positions\".id AS \"Positions_id\", \"Positions\".upper AS \"Positions_upper\", \"Positions\".middle AS \"Positions_middle\", \"Positions\".lower AS \"Positions_lower\", \"Positions\".x AS \"Positions_x\", \"Positions\".y AS \"Positions_y\" \n",
      "FROM \"Positions\" \n",
      "WHERE \"Positions\".id = ?\n",
      "2021-07-23 21:33:27,515 INFO sqlalchemy.engine.Engine [cached since 0.2959s ago] (62,)\n",
      "2021-07-23 21:33:27,516 INFO sqlalchemy.engine.Engine SELECT \"Positions\".id AS \"Positions_id\", \"Positions\".upper AS \"Positions_upper\", \"Positions\".middle AS \"Positions_middle\", \"Positions\".lower AS \"Positions_lower\", \"Positions\".x AS \"Positions_x\", \"Positions\".y AS \"Positions_y\" \n",
      "FROM \"Positions\" \n",
      "WHERE \"Positions\".id = ?\n",
      "2021-07-23 21:33:27,516 INFO sqlalchemy.engine.Engine [cached since 0.2949s ago] (63,)\n",
      "2021-07-23 21:33:27,517 INFO sqlalchemy.engine.Engine SELECT \"Positions\".id AS \"Positions_id\", \"Positions\".upper AS \"Positions_upper\", \"Positions\".middle AS \"Positions_middle\", \"Positions\".lower AS \"Positions_lower\", \"Positions\".x AS \"Positions_x\", \"Positions\".y AS \"Positions_y\" \n",
      "FROM \"Positions\" \n",
      "WHERE \"Positions\".id = ?\n",
      "2021-07-23 21:33:27,518 INFO sqlalchemy.engine.Engine [cached since 0.2992s ago] (64,)\n",
      "2021-07-23 21:33:27,519 INFO sqlalchemy.engine.Engine SELECT \"Positions\".id AS \"Positions_id\", \"Positions\".upper AS \"Positions_upper\", \"Positions\".middle AS \"Positions_middle\", \"Positions\".lower AS \"Positions_lower\", \"Positions\".x AS \"Positions_x\", \"Positions\".y AS \"Positions_y\" \n",
      "FROM \"Positions\" \n",
      "WHERE \"Positions\".id = ?\n",
      "2021-07-23 21:33:27,520 INFO sqlalchemy.engine.Engine [cached since 0.2984s ago] (65,)\n",
      "2021-07-23 21:33:27,521 INFO sqlalchemy.engine.Engine SELECT \"Positions\".id AS \"Positions_id\", \"Positions\".upper AS \"Positions_upper\", \"Positions\".middle AS \"Positions_middle\", \"Positions\".lower AS \"Positions_lower\", \"Positions\".x AS \"Positions_x\", \"Positions\".y AS \"Positions_y\" \n",
      "FROM \"Positions\" \n",
      "WHERE \"Positions\".id = ?\n",
      "2021-07-23 21:33:27,521 INFO sqlalchemy.engine.Engine [cached since 0.3026s ago] (66,)\n",
      "2021-07-23 21:33:27,522 INFO sqlalchemy.engine.Engine SELECT \"Positions\".id AS \"Positions_id\", \"Positions\".upper AS \"Positions_upper\", \"Positions\".middle AS \"Positions_middle\", \"Positions\".lower AS \"Positions_lower\", \"Positions\".x AS \"Positions_x\", \"Positions\".y AS \"Positions_y\" \n",
      "FROM \"Positions\" \n",
      "WHERE \"Positions\".id = ?\n",
      "2021-07-23 21:33:27,523 INFO sqlalchemy.engine.Engine [cached since 0.3019s ago] (67,)\n",
      "2021-07-23 21:33:27,525 INFO sqlalchemy.engine.Engine SELECT \"Positions\".id AS \"Positions_id\", \"Positions\".upper AS \"Positions_upper\", \"Positions\".middle AS \"Positions_middle\", \"Positions\".lower AS \"Positions_lower\", \"Positions\".x AS \"Positions_x\", \"Positions\".y AS \"Positions_y\" \n",
      "FROM \"Positions\" \n",
      "WHERE \"Positions\".id = ?\n",
      "2021-07-23 21:33:27,526 INFO sqlalchemy.engine.Engine [cached since 0.3069s ago] (68,)\n",
      "2021-07-23 21:33:27,527 INFO sqlalchemy.engine.Engine SELECT \"Positions\".id AS \"Positions_id\", \"Positions\".upper AS \"Positions_upper\", \"Positions\".middle AS \"Positions_middle\", \"Positions\".lower AS \"Positions_lower\", \"Positions\".x AS \"Positions_x\", \"Positions\".y AS \"Positions_y\" \n",
      "FROM \"Positions\" \n",
      "WHERE \"Positions\".id = ?\n",
      "2021-07-23 21:33:27,527 INFO sqlalchemy.engine.Engine [cached since 0.3062s ago] (69,)\n",
      "2021-07-23 21:33:27,529 INFO sqlalchemy.engine.Engine SELECT \"Positions\".id AS \"Positions_id\", \"Positions\".upper AS \"Positions_upper\", \"Positions\".middle AS \"Positions_middle\", \"Positions\".lower AS \"Positions_lower\", \"Positions\".x AS \"Positions_x\", \"Positions\".y AS \"Positions_y\" \n",
      "FROM \"Positions\" \n",
      "WHERE \"Positions\".id = ?\n",
      "2021-07-23 21:33:27,529 INFO sqlalchemy.engine.Engine [cached since 0.3103s ago] (70,)\n",
      "2021-07-23 21:33:27,530 INFO sqlalchemy.engine.Engine SELECT \"Positions\".id AS \"Positions_id\", \"Positions\".upper AS \"Positions_upper\", \"Positions\".middle AS \"Positions_middle\", \"Positions\".lower AS \"Positions_lower\", \"Positions\".x AS \"Positions_x\", \"Positions\".y AS \"Positions_y\" \n",
      "FROM \"Positions\" \n",
      "WHERE \"Positions\".id = ?\n",
      "2021-07-23 21:33:27,531 INFO sqlalchemy.engine.Engine [cached since 0.3096s ago] (71,)\n",
      "2021-07-23 21:33:27,532 INFO sqlalchemy.engine.Engine SELECT \"Positions\".id AS \"Positions_id\", \"Positions\".upper AS \"Positions_upper\", \"Positions\".middle AS \"Positions_middle\", \"Positions\".lower AS \"Positions_lower\", \"Positions\".x AS \"Positions_x\", \"Positions\".y AS \"Positions_y\" \n",
      "FROM \"Positions\" \n",
      "WHERE \"Positions\".id = ?\n"
     ]
    },
    {
     "name": "stdout",
     "output_type": "stream",
     "text": [
      "2021-07-23 21:33:27,533 INFO sqlalchemy.engine.Engine [cached since 0.3139s ago] (72,)\n",
      "2021-07-23 21:33:27,534 INFO sqlalchemy.engine.Engine SELECT \"Positions\".id AS \"Positions_id\", \"Positions\".upper AS \"Positions_upper\", \"Positions\".middle AS \"Positions_middle\", \"Positions\".lower AS \"Positions_lower\", \"Positions\".x AS \"Positions_x\", \"Positions\".y AS \"Positions_y\" \n",
      "FROM \"Positions\" \n",
      "WHERE \"Positions\".id = ?\n",
      "2021-07-23 21:33:27,534 INFO sqlalchemy.engine.Engine [cached since 0.3128s ago] (73,)\n",
      "Borehole geometry created successfully !\n",
      "2021-07-23 21:33:27,545 INFO sqlalchemy.engine.Engine UPDATE \"Boreholes\" SET length=? WHERE \"Boreholes\".id = ?\n",
      "2021-07-23 21:33:27,546 INFO sqlalchemy.engine.Engine [cached since 0.2882s ago] (97.0, 'BH007')\n",
      "2021-07-23 21:33:27,547 INFO sqlalchemy.engine.Engine INSERT INTO \"Boreholes\" (id, length, diameter) VALUES (?, ?, ?)\n",
      "2021-07-23 21:33:27,548 INFO sqlalchemy.engine.Engine [cached since 0.3573s ago] ('BH008', 35.0, 0.39)\n",
      "2021-07-23 21:33:27,549 INFO sqlalchemy.engine.Engine INSERT INTO \"Positions\" (id, upper, middle, lower, x, y) VALUES (?, ?, ?, ?, ?, ?)\n",
      "2021-07-23 21:33:27,550 INFO sqlalchemy.engine.Engine [cached since 0.3559s ago] ((74, 101.0, 101.0, 101.0, 152150.0, 121579.0), (75, 98.0, 98.0, 98.0, 152150.0, 121579.0), (76, 98.0, 98.0, 98.0, 152150.0, 121579.0), (77, 97.0, 97.0, 97.0, 152150.0, 121579.0), (78, 97.0, 97.0, 97.0, 152150.0, 121579.0), (79, 91.0, 91.0, 91.0, 152150.0, 121579.0), (80, 91.0, 91.0, 91.0, 152150.0, 121579.0), (81, 86.0, 86.0, 86.0, 152150.0, 121579.0), (82, 86.0, 86.0, 86.0, 152150.0, 121579.0), (83, 66.0, 66.0, 66.0, 152150.0, 121579.0))\n",
      "2021-07-23 21:33:27,551 INFO sqlalchemy.engine.Engine INSERT INTO \"Intervals\" (id, borehole, interval_number, description, top_id, base_id, data_id) VALUES (?, ?, ?, ?, ?, ?, ?)\n",
      "2021-07-23 21:33:27,551 INFO sqlalchemy.engine.Engine [cached since 0.3546s ago] ((37, 'BH008', 0, '{\"lithology\": \"sable\"}, {\"arsenic\": \"vi\"}, {\"cadmium\": \"vi\"}', 74, 75, None), (38, 'BH008', 1, '{\"lithology\": \"argile\"}, {\"arsenic\": \"vs\"}, {\"cadmium\": \"inconnu\"}', 76, 77, None), (39, 'BH008', 2, '{\"lithology\": \"marne\"}, {\"arsenic\": \"vi\"}, {\"cadmium\": \"vi\"}', 78, 79, None), (40, 'BH008', 3, '{\"lithology\": \"charbon\"}, {\"arsenic\": \"vs\"}, {\"cadmium\": \"vs\"}', 80, 81, None), (41, 'BH008', 4, '{\"lithology\": \"dolomie\"}, {\"arsenic\": \"vi\"}, {\"cadmium\": \"vs\"}', 82, 83, None))\n",
      "2021-07-23 21:33:27,553 INFO sqlalchemy.engine.Engine COMMIT\n",
      "2021-07-23 21:33:27,558 INFO sqlalchemy.engine.Engine BEGIN (implicit)\n",
      "2021-07-23 21:33:27,559 INFO sqlalchemy.engine.Engine SELECT \"Boreholes\".id AS \"Boreholes_id\", \"Boreholes\".length AS \"Boreholes_length\", \"Boreholes\".diameter AS \"Boreholes_diameter\" \n",
      "FROM \"Boreholes\"\n",
      "2021-07-23 21:33:27,559 INFO sqlalchemy.engine.Engine [cached since 0.4063s ago] ()\n",
      "2021-07-23 21:33:27,561 INFO sqlalchemy.engine.Engine SELECT \"Intervals\".id AS \"Intervals_id\", \"Intervals\".borehole AS \"Intervals_borehole\", \"Intervals\".interval_number AS \"Intervals_interval_number\", \"Intervals\".description AS \"Intervals_description\", \"Intervals\".top_id AS \"Intervals_top_id\", \"Intervals\".base_id AS \"Intervals_base_id\", \"Intervals\".data_id AS \"Intervals_data_id\" \n",
      "FROM \"Intervals\" \n",
      "WHERE ? = \"Intervals\".borehole\n",
      "2021-07-23 21:33:27,562 INFO sqlalchemy.engine.Engine [cached since 0.3496s ago] ('BH008',)\n",
      "2021-07-23 21:33:27,563 INFO sqlalchemy.engine.Engine SELECT \"Positions\".id AS \"Positions_id\", \"Positions\".upper AS \"Positions_upper\", \"Positions\".middle AS \"Positions_middle\", \"Positions\".lower AS \"Positions_lower\", \"Positions\".x AS \"Positions_x\", \"Positions\".y AS \"Positions_y\" \n",
      "FROM \"Positions\" \n",
      "WHERE \"Positions\".id = ?\n",
      "2021-07-23 21:33:27,564 INFO sqlalchemy.engine.Engine [cached since 0.3454s ago] (74,)\n",
      "2021-07-23 21:33:27,566 INFO sqlalchemy.engine.Engine SELECT \"Positions\".id AS \"Positions_id\", \"Positions\".upper AS \"Positions_upper\", \"Positions\".middle AS \"Positions_middle\", \"Positions\".lower AS \"Positions_lower\", \"Positions\".x AS \"Positions_x\", \"Positions\".y AS \"Positions_y\" \n",
      "FROM \"Positions\" \n",
      "WHERE \"Positions\".id = ?\n",
      "2021-07-23 21:33:27,567 INFO sqlalchemy.engine.Engine [cached since 0.346s ago] (75,)\n",
      "2021-07-23 21:33:27,570 INFO sqlalchemy.engine.Engine SELECT \"Positions\".id AS \"Positions_id\", \"Positions\".upper AS \"Positions_upper\", \"Positions\".middle AS \"Positions_middle\", \"Positions\".lower AS \"Positions_lower\", \"Positions\".x AS \"Positions_x\", \"Positions\".y AS \"Positions_y\" \n",
      "FROM \"Positions\" \n",
      "WHERE \"Positions\".id = ?\n",
      "2021-07-23 21:33:27,571 INFO sqlalchemy.engine.Engine [cached since 0.3519s ago] (76,)\n",
      "2021-07-23 21:33:27,573 INFO sqlalchemy.engine.Engine SELECT \"Positions\".id AS \"Positions_id\", \"Positions\".upper AS \"Positions_upper\", \"Positions\".middle AS \"Positions_middle\", \"Positions\".lower AS \"Positions_lower\", \"Positions\".x AS \"Positions_x\", \"Positions\".y AS \"Positions_y\" \n",
      "FROM \"Positions\" \n",
      "WHERE \"Positions\".id = ?\n",
      "2021-07-23 21:33:27,574 INFO sqlalchemy.engine.Engine [cached since 0.3524s ago] (77,)\n",
      "2021-07-23 21:33:27,576 INFO sqlalchemy.engine.Engine SELECT \"Positions\".id AS \"Positions_id\", \"Positions\".upper AS \"Positions_upper\", \"Positions\".middle AS \"Positions_middle\", \"Positions\".lower AS \"Positions_lower\", \"Positions\".x AS \"Positions_x\", \"Positions\".y AS \"Positions_y\" \n",
      "FROM \"Positions\" \n",
      "WHERE \"Positions\".id = ?\n",
      "2021-07-23 21:33:27,577 INFO sqlalchemy.engine.Engine [cached since 0.3578s ago] (78,)\n",
      "2021-07-23 21:33:27,578 INFO sqlalchemy.engine.Engine SELECT \"Positions\".id AS \"Positions_id\", \"Positions\".upper AS \"Positions_upper\", \"Positions\".middle AS \"Positions_middle\", \"Positions\".lower AS \"Positions_lower\", \"Positions\".x AS \"Positions_x\", \"Positions\".y AS \"Positions_y\" \n",
      "FROM \"Positions\" \n",
      "WHERE \"Positions\".id = ?\n",
      "2021-07-23 21:33:27,579 INFO sqlalchemy.engine.Engine [cached since 0.358s ago] (79,)\n",
      "2021-07-23 21:33:27,582 INFO sqlalchemy.engine.Engine SELECT \"Positions\".id AS \"Positions_id\", \"Positions\".upper AS \"Positions_upper\", \"Positions\".middle AS \"Positions_middle\", \"Positions\".lower AS \"Positions_lower\", \"Positions\".x AS \"Positions_x\", \"Positions\".y AS \"Positions_y\" \n",
      "FROM \"Positions\" \n",
      "WHERE \"Positions\".id = ?\n",
      "2021-07-23 21:33:27,583 INFO sqlalchemy.engine.Engine [cached since 0.3638s ago] (80,)\n",
      "2021-07-23 21:33:27,584 INFO sqlalchemy.engine.Engine SELECT \"Positions\".id AS \"Positions_id\", \"Positions\".upper AS \"Positions_upper\", \"Positions\".middle AS \"Positions_middle\", \"Positions\".lower AS \"Positions_lower\", \"Positions\".x AS \"Positions_x\", \"Positions\".y AS \"Positions_y\" \n",
      "FROM \"Positions\" \n",
      "WHERE \"Positions\".id = ?\n",
      "2021-07-23 21:33:27,585 INFO sqlalchemy.engine.Engine [cached since 0.3643s ago] (81,)\n",
      "2021-07-23 21:33:27,587 INFO sqlalchemy.engine.Engine SELECT \"Positions\".id AS \"Positions_id\", \"Positions\".upper AS \"Positions_upper\", \"Positions\".middle AS \"Positions_middle\", \"Positions\".lower AS \"Positions_lower\", \"Positions\".x AS \"Positions_x\", \"Positions\".y AS \"Positions_y\" \n",
      "FROM \"Positions\" \n",
      "WHERE \"Positions\".id = ?\n",
      "2021-07-23 21:33:27,588 INFO sqlalchemy.engine.Engine [cached since 0.3695s ago] (82,)\n",
      "2021-07-23 21:33:27,590 INFO sqlalchemy.engine.Engine SELECT \"Positions\".id AS \"Positions_id\", \"Positions\".upper AS \"Positions_upper\", \"Positions\".middle AS \"Positions_middle\", \"Positions\".lower AS \"Positions_lower\", \"Positions\".x AS \"Positions_x\", \"Positions\".y AS \"Positions_y\" \n",
      "FROM \"Positions\" \n",
      "WHERE \"Positions\".id = ?\n",
      "2021-07-23 21:33:27,591 INFO sqlalchemy.engine.Engine [cached since 0.3696s ago] (83,)\n",
      "Borehole geometry created successfully !\n",
      "2021-07-23 21:33:27,605 INFO sqlalchemy.engine.Engine UPDATE \"Boreholes\" SET length=? WHERE \"Boreholes\".id = ?\n",
      "2021-07-23 21:33:27,606 INFO sqlalchemy.engine.Engine [cached since 0.348s ago] (98.0, 'BH008')\n",
      "2021-07-23 21:33:27,607 INFO sqlalchemy.engine.Engine INSERT INTO \"Boreholes\" (id, length, diameter) VALUES (?, ?, ?)\n",
      "2021-07-23 21:33:27,608 INFO sqlalchemy.engine.Engine [cached since 0.4172s ago] ('BH009', 40.0, 0.5)\n",
      "2021-07-23 21:33:27,609 INFO sqlalchemy.engine.Engine INSERT INTO \"Positions\" (id, upper, middle, lower, x, y) VALUES (?, ?, ?, ?, ?, ?)\n",
      "2021-07-23 21:33:27,610 INFO sqlalchemy.engine.Engine [cached since 0.416s ago] ((84, 100.0, 100.0, 100.0, 152052.0, 121293.0), (85, 94.0, 94.0, 94.0, 152052.0, 121293.0), (86, 94.0, 94.0, 94.0, 152052.0, 121293.0), (87, 92.0, 92.0, 92.0, 152052.0, 121293.0), (88, 92.0, 92.0, 92.0, 152052.0, 121293.0), (89, 82.0, 82.0, 82.0, 152052.0, 121293.0), (90, 82.0, 82.0, 82.0, 152052.0, 121293.0), (91, 78.0, 78.0, 78.0, 152052.0, 121293.0), (92, 78.0, 78.0, 78.0, 152052.0, 121293.0), (93, 60.0, 60.0, 60.0, 152052.0, 121293.0))\n"
     ]
    },
    {
     "name": "stdout",
     "output_type": "stream",
     "text": [
      "2021-07-23 21:33:27,611 INFO sqlalchemy.engine.Engine INSERT INTO \"Intervals\" (id, borehole, interval_number, description, top_id, base_id, data_id) VALUES (?, ?, ?, ?, ?, ?, ?)\n",
      "2021-07-23 21:33:27,611 INFO sqlalchemy.engine.Engine [cached since 0.4145s ago] ((42, 'BH009', 0, '{\"lithology\": \"sable\"}, {\"arsenic\": \"vr\"}, {\"cadmium\": \"vs\"}', 84, 85, None), (43, 'BH009', 1, '{\"lithology\": \"argile\"}, {\"arsenic\": \"vr\"}, {\"cadmium\": \"inconnu\"}', 86, 87, None), (44, 'BH009', 2, '{\"lithology\": \"marne\"}, {\"arsenic\": \"vs\"}, {\"cadmium\": \"vi\"}', 88, 89, None), (45, 'BH009', 3, '{\"lithology\": \"charbon\"}, {\"arsenic\": \"vs\"}, {\"cadmium\": \"vr\"}', 90, 91, None), (46, 'BH009', 4, '{\"lithology\": \"dolomie\"}, {\"arsenic\": \"inconnu\"}, {\"cadmium\": \"vs\"}', 92, 93, None))\n",
      "2021-07-23 21:33:27,613 INFO sqlalchemy.engine.Engine COMMIT\n",
      "2021-07-23 21:33:27,617 INFO sqlalchemy.engine.Engine BEGIN (implicit)\n",
      "2021-07-23 21:33:27,618 INFO sqlalchemy.engine.Engine SELECT \"Boreholes\".id AS \"Boreholes_id\", \"Boreholes\".length AS \"Boreholes_length\", \"Boreholes\".diameter AS \"Boreholes_diameter\" \n",
      "FROM \"Boreholes\"\n",
      "2021-07-23 21:33:27,618 INFO sqlalchemy.engine.Engine [cached since 0.4652s ago] ()\n",
      "2021-07-23 21:33:27,620 INFO sqlalchemy.engine.Engine SELECT \"Intervals\".id AS \"Intervals_id\", \"Intervals\".borehole AS \"Intervals_borehole\", \"Intervals\".interval_number AS \"Intervals_interval_number\", \"Intervals\".description AS \"Intervals_description\", \"Intervals\".top_id AS \"Intervals_top_id\", \"Intervals\".base_id AS \"Intervals_base_id\", \"Intervals\".data_id AS \"Intervals_data_id\" \n",
      "FROM \"Intervals\" \n",
      "WHERE ? = \"Intervals\".borehole\n",
      "2021-07-23 21:33:27,621 INFO sqlalchemy.engine.Engine [cached since 0.4085s ago] ('BH009',)\n",
      "2021-07-23 21:33:27,623 INFO sqlalchemy.engine.Engine SELECT \"Positions\".id AS \"Positions_id\", \"Positions\".upper AS \"Positions_upper\", \"Positions\".middle AS \"Positions_middle\", \"Positions\".lower AS \"Positions_lower\", \"Positions\".x AS \"Positions_x\", \"Positions\".y AS \"Positions_y\" \n",
      "FROM \"Positions\" \n",
      "WHERE \"Positions\".id = ?\n",
      "2021-07-23 21:33:27,624 INFO sqlalchemy.engine.Engine [cached since 0.4054s ago] (84,)\n",
      "2021-07-23 21:33:27,626 INFO sqlalchemy.engine.Engine SELECT \"Positions\".id AS \"Positions_id\", \"Positions\".upper AS \"Positions_upper\", \"Positions\".middle AS \"Positions_middle\", \"Positions\".lower AS \"Positions_lower\", \"Positions\".x AS \"Positions_x\", \"Positions\".y AS \"Positions_y\" \n",
      "FROM \"Positions\" \n",
      "WHERE \"Positions\".id = ?\n",
      "2021-07-23 21:33:27,627 INFO sqlalchemy.engine.Engine [cached since 0.4055s ago] (85,)\n",
      "2021-07-23 21:33:27,629 INFO sqlalchemy.engine.Engine SELECT \"Positions\".id AS \"Positions_id\", \"Positions\".upper AS \"Positions_upper\", \"Positions\".middle AS \"Positions_middle\", \"Positions\".lower AS \"Positions_lower\", \"Positions\".x AS \"Positions_x\", \"Positions\".y AS \"Positions_y\" \n",
      "FROM \"Positions\" \n",
      "WHERE \"Positions\".id = ?\n",
      "2021-07-23 21:33:27,630 INFO sqlalchemy.engine.Engine [cached since 0.4111s ago] (86,)\n",
      "2021-07-23 21:33:27,631 INFO sqlalchemy.engine.Engine SELECT \"Positions\".id AS \"Positions_id\", \"Positions\".upper AS \"Positions_upper\", \"Positions\".middle AS \"Positions_middle\", \"Positions\".lower AS \"Positions_lower\", \"Positions\".x AS \"Positions_x\", \"Positions\".y AS \"Positions_y\" \n",
      "FROM \"Positions\" \n",
      "WHERE \"Positions\".id = ?\n",
      "2021-07-23 21:33:27,632 INFO sqlalchemy.engine.Engine [cached since 0.4106s ago] (87,)\n",
      "2021-07-23 21:33:27,633 INFO sqlalchemy.engine.Engine SELECT \"Positions\".id AS \"Positions_id\", \"Positions\".upper AS \"Positions_upper\", \"Positions\".middle AS \"Positions_middle\", \"Positions\".lower AS \"Positions_lower\", \"Positions\".x AS \"Positions_x\", \"Positions\".y AS \"Positions_y\" \n",
      "FROM \"Positions\" \n",
      "WHERE \"Positions\".id = ?\n",
      "2021-07-23 21:33:27,634 INFO sqlalchemy.engine.Engine [cached since 0.4152s ago] (88,)\n",
      "2021-07-23 21:33:27,635 INFO sqlalchemy.engine.Engine SELECT \"Positions\".id AS \"Positions_id\", \"Positions\".upper AS \"Positions_upper\", \"Positions\".middle AS \"Positions_middle\", \"Positions\".lower AS \"Positions_lower\", \"Positions\".x AS \"Positions_x\", \"Positions\".y AS \"Positions_y\" \n",
      "FROM \"Positions\" \n",
      "WHERE \"Positions\".id = ?\n",
      "2021-07-23 21:33:27,635 INFO sqlalchemy.engine.Engine [cached since 0.4142s ago] (89,)\n",
      "2021-07-23 21:33:27,637 INFO sqlalchemy.engine.Engine SELECT \"Positions\".id AS \"Positions_id\", \"Positions\".upper AS \"Positions_upper\", \"Positions\".middle AS \"Positions_middle\", \"Positions\".lower AS \"Positions_lower\", \"Positions\".x AS \"Positions_x\", \"Positions\".y AS \"Positions_y\" \n",
      "FROM \"Positions\" \n",
      "WHERE \"Positions\".id = ?\n",
      "2021-07-23 21:33:27,637 INFO sqlalchemy.engine.Engine [cached since 0.4185s ago] (90,)\n",
      "2021-07-23 21:33:27,638 INFO sqlalchemy.engine.Engine SELECT \"Positions\".id AS \"Positions_id\", \"Positions\".upper AS \"Positions_upper\", \"Positions\".middle AS \"Positions_middle\", \"Positions\".lower AS \"Positions_lower\", \"Positions\".x AS \"Positions_x\", \"Positions\".y AS \"Positions_y\" \n",
      "FROM \"Positions\" \n",
      "WHERE \"Positions\".id = ?\n",
      "2021-07-23 21:33:27,639 INFO sqlalchemy.engine.Engine [cached since 0.4181s ago] (91,)\n",
      "2021-07-23 21:33:27,641 INFO sqlalchemy.engine.Engine SELECT \"Positions\".id AS \"Positions_id\", \"Positions\".upper AS \"Positions_upper\", \"Positions\".middle AS \"Positions_middle\", \"Positions\".lower AS \"Positions_lower\", \"Positions\".x AS \"Positions_x\", \"Positions\".y AS \"Positions_y\" \n",
      "FROM \"Positions\" \n",
      "WHERE \"Positions\".id = ?\n",
      "2021-07-23 21:33:27,641 INFO sqlalchemy.engine.Engine [cached since 0.4226s ago] (92,)\n",
      "2021-07-23 21:33:27,642 INFO sqlalchemy.engine.Engine SELECT \"Positions\".id AS \"Positions_id\", \"Positions\".upper AS \"Positions_upper\", \"Positions\".middle AS \"Positions_middle\", \"Positions\".lower AS \"Positions_lower\", \"Positions\".x AS \"Positions_x\", \"Positions\".y AS \"Positions_y\" \n",
      "FROM \"Positions\" \n",
      "WHERE \"Positions\".id = ?\n",
      "2021-07-23 21:33:27,643 INFO sqlalchemy.engine.Engine [cached since 0.4216s ago] (93,)\n",
      "Borehole geometry created successfully !\n",
      "2021-07-23 21:33:27,655 INFO sqlalchemy.engine.Engine UPDATE \"Boreholes\" SET length=? WHERE \"Boreholes\".id = ?\n",
      "2021-07-23 21:33:27,656 INFO sqlalchemy.engine.Engine [cached since 0.3977s ago] (94.0, 'BH009')\n",
      "2021-07-23 21:33:27,657 INFO sqlalchemy.engine.Engine INSERT INTO \"Boreholes\" (id, length, diameter) VALUES (?, ?, ?)\n",
      "2021-07-23 21:33:27,657 INFO sqlalchemy.engine.Engine [cached since 0.4667s ago] ('BH10', 11.0, 0.31)\n",
      "2021-07-23 21:33:27,658 INFO sqlalchemy.engine.Engine INSERT INTO \"Positions\" (id, upper, middle, lower, x, y) VALUES (?, ?, ?, ?, ?, ?)\n",
      "2021-07-23 21:33:27,658 INFO sqlalchemy.engine.Engine [cached since 0.4648s ago] ((94, 100.0, 100.0, 100.0, 152315.0, 121754.0), (95, 95.0, 95.0, 95.0, 152315.0, 121754.0), (96, 95.0, 95.0, 95.0, 152315.0, 121754.0), (97, 91.0, 91.0, 91.0, 152315.0, 121754.0), (98, 91.0, 91.0, 91.0, 152315.0, 121754.0), (99, 89.0, 89.0, 89.0, 152315.0, 121754.0))\n",
      "2021-07-23 21:33:27,660 INFO sqlalchemy.engine.Engine INSERT INTO \"Intervals\" (id, borehole, interval_number, description, top_id, base_id, data_id) VALUES (?, ?, ?, ?, ?, ?, ?)\n",
      "2021-07-23 21:33:27,660 INFO sqlalchemy.engine.Engine [cached since 0.4636s ago] ((47, 'BH10', 0, '{\"lithology\": \"sable\"}, {\"arsenic\": \"vs\"}, {\"cadmium\": \"vi\"}', 94, 95, None), (48, 'BH10', 1, '{\"lithology\": \"argile\"}, {\"arsenic\": \"inconnu\"}, {\"cadmium\": \"inconnu\"}', 96, 97, None), (49, 'BH10', 2, '{\"lithology\": \"marne\"}, {\"arsenic\": \"vs\"}, {\"cadmium\": \"vr\"}', 98, 99, None))\n",
      "2021-07-23 21:33:27,662 INFO sqlalchemy.engine.Engine COMMIT\n",
      "2021-07-23 21:33:27,666 INFO sqlalchemy.engine.Engine BEGIN (implicit)\n",
      "2021-07-23 21:33:27,668 INFO sqlalchemy.engine.Engine SELECT \"Boreholes\".id AS \"Boreholes_id\", \"Boreholes\".length AS \"Boreholes_length\", \"Boreholes\".diameter AS \"Boreholes_diameter\" \n",
      "FROM \"Boreholes\"\n",
      "2021-07-23 21:33:27,669 INFO sqlalchemy.engine.Engine [cached since 0.5157s ago] ()\n",
      "2021-07-23 21:33:27,671 INFO sqlalchemy.engine.Engine SELECT \"Intervals\".id AS \"Intervals_id\", \"Intervals\".borehole AS \"Intervals_borehole\", \"Intervals\".interval_number AS \"Intervals_interval_number\", \"Intervals\".description AS \"Intervals_description\", \"Intervals\".top_id AS \"Intervals_top_id\", \"Intervals\".base_id AS \"Intervals_base_id\", \"Intervals\".data_id AS \"Intervals_data_id\" \n",
      "FROM \"Intervals\" \n",
      "WHERE ? = \"Intervals\".borehole\n",
      "2021-07-23 21:33:27,672 INFO sqlalchemy.engine.Engine [cached since 0.4597s ago] ('BH10',)\n"
     ]
    },
    {
     "name": "stdout",
     "output_type": "stream",
     "text": [
      "2021-07-23 21:33:27,674 INFO sqlalchemy.engine.Engine SELECT \"Positions\".id AS \"Positions_id\", \"Positions\".upper AS \"Positions_upper\", \"Positions\".middle AS \"Positions_middle\", \"Positions\".lower AS \"Positions_lower\", \"Positions\".x AS \"Positions_x\", \"Positions\".y AS \"Positions_y\" \n",
      "FROM \"Positions\" \n",
      "WHERE \"Positions\".id = ?\n",
      "2021-07-23 21:33:27,674 INFO sqlalchemy.engine.Engine [cached since 0.4555s ago] (94,)\n",
      "2021-07-23 21:33:27,676 INFO sqlalchemy.engine.Engine SELECT \"Positions\".id AS \"Positions_id\", \"Positions\".upper AS \"Positions_upper\", \"Positions\".middle AS \"Positions_middle\", \"Positions\".lower AS \"Positions_lower\", \"Positions\".x AS \"Positions_x\", \"Positions\".y AS \"Positions_y\" \n",
      "FROM \"Positions\" \n",
      "WHERE \"Positions\".id = ?\n",
      "2021-07-23 21:33:27,677 INFO sqlalchemy.engine.Engine [cached since 0.4559s ago] (95,)\n",
      "2021-07-23 21:33:27,679 INFO sqlalchemy.engine.Engine SELECT \"Positions\".id AS \"Positions_id\", \"Positions\".upper AS \"Positions_upper\", \"Positions\".middle AS \"Positions_middle\", \"Positions\".lower AS \"Positions_lower\", \"Positions\".x AS \"Positions_x\", \"Positions\".y AS \"Positions_y\" \n",
      "FROM \"Positions\" \n",
      "WHERE \"Positions\".id = ?\n",
      "2021-07-23 21:33:27,680 INFO sqlalchemy.engine.Engine [cached since 0.4612s ago] (96,)\n",
      "2021-07-23 21:33:27,681 INFO sqlalchemy.engine.Engine SELECT \"Positions\".id AS \"Positions_id\", \"Positions\".upper AS \"Positions_upper\", \"Positions\".middle AS \"Positions_middle\", \"Positions\".lower AS \"Positions_lower\", \"Positions\".x AS \"Positions_x\", \"Positions\".y AS \"Positions_y\" \n",
      "FROM \"Positions\" \n",
      "WHERE \"Positions\".id = ?\n",
      "2021-07-23 21:33:27,683 INFO sqlalchemy.engine.Engine [cached since 0.4613s ago] (97,)\n",
      "2021-07-23 21:33:27,684 INFO sqlalchemy.engine.Engine SELECT \"Positions\".id AS \"Positions_id\", \"Positions\".upper AS \"Positions_upper\", \"Positions\".middle AS \"Positions_middle\", \"Positions\".lower AS \"Positions_lower\", \"Positions\".x AS \"Positions_x\", \"Positions\".y AS \"Positions_y\" \n",
      "FROM \"Positions\" \n",
      "WHERE \"Positions\".id = ?\n",
      "2021-07-23 21:33:27,685 INFO sqlalchemy.engine.Engine [cached since 0.4661s ago] (98,)\n",
      "2021-07-23 21:33:27,687 INFO sqlalchemy.engine.Engine SELECT \"Positions\".id AS \"Positions_id\", \"Positions\".upper AS \"Positions_upper\", \"Positions\".middle AS \"Positions_middle\", \"Positions\".lower AS \"Positions_lower\", \"Positions\".x AS \"Positions_x\", \"Positions\".y AS \"Positions_y\" \n",
      "FROM \"Positions\" \n",
      "WHERE \"Positions\".id = ?\n",
      "2021-07-23 21:33:27,687 INFO sqlalchemy.engine.Engine [cached since 0.4663s ago] (99,)\n",
      "Borehole geometry created successfully !\n"
     ]
    }
   ],
   "source": [
    "for bh in boreholes:\n",
    "    p.add_borehole(bh)"
   ]
  },
  {
   "cell_type": "code",
   "execution_count": 27,
   "metadata": {},
   "outputs": [
    {
     "data": {
      "text/plain": [
       "('BH001',\n",
       " {0: [Component({'lithology': 'sable'}),\n",
       "   Component({'arsenic': 'vr'}),\n",
       "   Component({'cadmium': 'vr'})],\n",
       "  1: [Component({'lithology': 'argile'}),\n",
       "   Component({'arsenic': 'vi'}),\n",
       "   Component({'cadmium': 'vs'})],\n",
       "  2: [Component({'lithology': 'marne'}),\n",
       "   Component({'arsenic': 'vi'}),\n",
       "   Component({'cadmium': 'vi'})],\n",
       "  3: [Component({'lithology': 'charbon'}),\n",
       "   Component({'arsenic': 'vi'}),\n",
       "   Component({'cadmium': 'vr'})]})"
      ]
     },
     "execution_count": 27,
     "metadata": {},
     "output_type": "execute_result"
    }
   ],
   "source": [
    "p.boreholes_3d[0].name, p.boreholes_3d[0].components"
   ]
  },
  {
   "cell_type": "code",
   "execution_count": 28,
   "metadata": {
    "scrolled": true
   },
   "outputs": [
    {
     "name": "stdout",
     "output_type": "stream",
     "text": [
      "2021-07-23 21:33:27,709 INFO sqlalchemy.engine.Engine UPDATE \"Boreholes\" SET length=? WHERE \"Boreholes\".id = ?\n",
      "2021-07-23 21:33:27,711 INFO sqlalchemy.engine.Engine [cached since 0.4529s ago] (95.0, 'BH10')\n",
      "2021-07-23 21:33:27,713 INFO sqlalchemy.engine.Engine SELECT \"Intervals\".id AS \"Intervals_id\", \"Intervals\".borehole AS \"Intervals_borehole\", \"Intervals\".interval_number AS \"Intervals_interval_number\", \"Intervals\".description AS \"Intervals_description\", \"Intervals\".top_id AS \"Intervals_top_id\", \"Intervals\".base_id AS \"Intervals_base_id\", \"Intervals\".data_id AS \"Intervals_data_id\" \n",
      "FROM \"Intervals\" \n",
      "WHERE ? = \"Intervals\".borehole\n",
      "2021-07-23 21:33:27,714 INFO sqlalchemy.engine.Engine [cached since 0.5017s ago] ('BH001',)\n",
      "2021-07-23 21:33:27,715 INFO sqlalchemy.engine.Engine SELECT \"Intervals\".id AS \"Intervals_id\", \"Intervals\".borehole AS \"Intervals_borehole\", \"Intervals\".interval_number AS \"Intervals_interval_number\", \"Intervals\".description AS \"Intervals_description\", \"Intervals\".top_id AS \"Intervals_top_id\", \"Intervals\".base_id AS \"Intervals_base_id\", \"Intervals\".data_id AS \"Intervals_data_id\" \n",
      "FROM \"Intervals\" \n",
      "WHERE ? = \"Intervals\".borehole\n",
      "2021-07-23 21:33:27,716 INFO sqlalchemy.engine.Engine [cached since 0.5038s ago] ('BH002',)\n",
      "2021-07-23 21:33:27,718 INFO sqlalchemy.engine.Engine SELECT \"Intervals\".id AS \"Intervals_id\", \"Intervals\".borehole AS \"Intervals_borehole\", \"Intervals\".interval_number AS \"Intervals_interval_number\", \"Intervals\".description AS \"Intervals_description\", \"Intervals\".top_id AS \"Intervals_top_id\", \"Intervals\".base_id AS \"Intervals_base_id\", \"Intervals\".data_id AS \"Intervals_data_id\" \n",
      "FROM \"Intervals\" \n",
      "WHERE ? = \"Intervals\".borehole\n",
      "2021-07-23 21:33:27,718 INFO sqlalchemy.engine.Engine [cached since 0.5059s ago] ('BH003',)\n",
      "2021-07-23 21:33:27,719 INFO sqlalchemy.engine.Engine SELECT \"Intervals\".id AS \"Intervals_id\", \"Intervals\".borehole AS \"Intervals_borehole\", \"Intervals\".interval_number AS \"Intervals_interval_number\", \"Intervals\".description AS \"Intervals_description\", \"Intervals\".top_id AS \"Intervals_top_id\", \"Intervals\".base_id AS \"Intervals_base_id\", \"Intervals\".data_id AS \"Intervals_data_id\" \n",
      "FROM \"Intervals\" \n",
      "WHERE ? = \"Intervals\".borehole\n",
      "2021-07-23 21:33:27,719 INFO sqlalchemy.engine.Engine [cached since 0.5072s ago] ('BH004',)\n",
      "2021-07-23 21:33:27,721 INFO sqlalchemy.engine.Engine SELECT \"Intervals\".id AS \"Intervals_id\", \"Intervals\".borehole AS \"Intervals_borehole\", \"Intervals\".interval_number AS \"Intervals_interval_number\", \"Intervals\".description AS \"Intervals_description\", \"Intervals\".top_id AS \"Intervals_top_id\", \"Intervals\".base_id AS \"Intervals_base_id\", \"Intervals\".data_id AS \"Intervals_data_id\" \n",
      "FROM \"Intervals\" \n",
      "WHERE ? = \"Intervals\".borehole\n",
      "2021-07-23 21:33:27,721 INFO sqlalchemy.engine.Engine [cached since 0.5091s ago] ('BH005',)\n",
      "2021-07-23 21:33:27,723 INFO sqlalchemy.engine.Engine SELECT \"Intervals\".id AS \"Intervals_id\", \"Intervals\".borehole AS \"Intervals_borehole\", \"Intervals\".interval_number AS \"Intervals_interval_number\", \"Intervals\".description AS \"Intervals_description\", \"Intervals\".top_id AS \"Intervals_top_id\", \"Intervals\".base_id AS \"Intervals_base_id\", \"Intervals\".data_id AS \"Intervals_data_id\" \n",
      "FROM \"Intervals\" \n",
      "WHERE ? = \"Intervals\".borehole\n",
      "2021-07-23 21:33:27,723 INFO sqlalchemy.engine.Engine [cached since 0.5107s ago] ('BH006',)\n",
      "2021-07-23 21:33:27,724 INFO sqlalchemy.engine.Engine SELECT \"Intervals\".id AS \"Intervals_id\", \"Intervals\".borehole AS \"Intervals_borehole\", \"Intervals\".interval_number AS \"Intervals_interval_number\", \"Intervals\".description AS \"Intervals_description\", \"Intervals\".top_id AS \"Intervals_top_id\", \"Intervals\".base_id AS \"Intervals_base_id\", \"Intervals\".data_id AS \"Intervals_data_id\" \n",
      "FROM \"Intervals\" \n",
      "WHERE ? = \"Intervals\".borehole\n",
      "2021-07-23 21:33:27,725 INFO sqlalchemy.engine.Engine [cached since 0.5129s ago] ('BH007',)\n",
      "2021-07-23 21:33:27,727 INFO sqlalchemy.engine.Engine SELECT \"Intervals\".id AS \"Intervals_id\", \"Intervals\".borehole AS \"Intervals_borehole\", \"Intervals\".interval_number AS \"Intervals_interval_number\", \"Intervals\".description AS \"Intervals_description\", \"Intervals\".top_id AS \"Intervals_top_id\", \"Intervals\".base_id AS \"Intervals_base_id\", \"Intervals\".data_id AS \"Intervals_data_id\" \n",
      "FROM \"Intervals\" \n",
      "WHERE ? = \"Intervals\".borehole\n",
      "2021-07-23 21:33:27,727 INFO sqlalchemy.engine.Engine [cached since 0.5148s ago] ('BH008',)\n",
      "2021-07-23 21:33:27,729 INFO sqlalchemy.engine.Engine SELECT \"Intervals\".id AS \"Intervals_id\", \"Intervals\".borehole AS \"Intervals_borehole\", \"Intervals\".interval_number AS \"Intervals_interval_number\", \"Intervals\".description AS \"Intervals_description\", \"Intervals\".top_id AS \"Intervals_top_id\", \"Intervals\".base_id AS \"Intervals_base_id\", \"Intervals\".data_id AS \"Intervals_data_id\" \n",
      "FROM \"Intervals\" \n",
      "WHERE ? = \"Intervals\".borehole\n",
      "2021-07-23 21:33:27,730 INFO sqlalchemy.engine.Engine [cached since 0.5179s ago] ('BH009',)\n"
     ]
    },
    {
     "data": {
      "text/plain": [
       "[<core.orm.BoreholeOrm>(Name=BH001, Length=97.0, Diameter=0.43, Intervals=4),\n",
       " <core.orm.BoreholeOrm>(Name=BH002, Length=98.0, Diameter=0.6, Intervals=5),\n",
       " <core.orm.BoreholeOrm>(Name=BH003, Length=100.0, Diameter=0.41, Intervals=5),\n",
       " <core.orm.BoreholeOrm>(Name=BH004, Length=96.0, Diameter=0.61, Intervals=5),\n",
       " <core.orm.BoreholeOrm>(Name=BH005, Length=97.0, Diameter=0.61, Intervals=7),\n",
       " <core.orm.BoreholeOrm>(Name=BH006, Length=100.0, Diameter=0.31, Intervals=5),\n",
       " <core.orm.BoreholeOrm>(Name=BH007, Length=97.0, Diameter=0.57, Intervals=6),\n",
       " <core.orm.BoreholeOrm>(Name=BH008, Length=98.0, Diameter=0.39, Intervals=5),\n",
       " <core.orm.BoreholeOrm>(Name=BH009, Length=94.0, Diameter=0.5, Intervals=5),\n",
       " <core.orm.BoreholeOrm>(Name=BH10, Length=95.0, Diameter=0.31, Intervals=3)]"
      ]
     },
     "execution_count": 28,
     "metadata": {},
     "output_type": "execute_result"
    }
   ],
   "source": [
    "p.boreholes_orm"
   ]
  },
  {
   "cell_type": "code",
   "execution_count": 29,
   "metadata": {},
   "outputs": [
    {
     "name": "stdout",
     "output_type": "stream",
     "text": [
      "2021-07-23 21:33:27,747 INFO sqlalchemy.engine.Engine INSERT INTO \"Linkintervalcomponent\" (int_id, comp_id, extra_data) VALUES (?, ?, ?)\n",
      "2021-07-23 21:33:27,748 INFO sqlalchemy.engine.Engine [generated in 0.00127s] ((0, 0, \"{'porosite':1, 'densite':1.8}\"), (0, 1, ''), (0, 2, ''), (1, 3, ''), (1, 4, ''), (1, 5, ''), (2, 6, ''), (2, 4, '')  ... displaying 10 of 150 total bound parameter sets ...  (49, 11, ''), (49, 2, ''))\n",
      "2021-07-23 21:33:27,750 INFO sqlalchemy.engine.Engine COMMIT\n",
      "2021-07-23 21:33:27,755 INFO sqlalchemy.engine.Engine BEGIN (implicit)\n",
      "2021-07-23 21:33:27,756 INFO sqlalchemy.engine.Engine SELECT \"Boreholes\".id AS \"Boreholes_id\", \"Boreholes\".length AS \"Boreholes_length\", \"Boreholes\".diameter AS \"Boreholes_diameter\" \n",
      "FROM \"Boreholes\"\n",
      "2021-07-23 21:33:27,756 INFO sqlalchemy.engine.Engine [cached since 0.6029s ago] ()\n"
     ]
    }
   ],
   "source": [
    "p.add_link_components_intervals(link_intv_comp)"
   ]
  },
  {
   "cell_type": "code",
   "execution_count": 30,
   "metadata": {
    "scrolled": true
   },
   "outputs": [
    {
     "name": "stdout",
     "output_type": "stream",
     "text": [
      "2021-07-23 21:33:27,764 INFO sqlalchemy.engine.Engine COMMIT\n",
      "Boreholes in the project :  10\n"
     ]
    }
   ],
   "source": [
    "p.commit()\n",
    "print('Boreholes in the project : ', len(p.boreholes_orm))"
   ]
  },
  {
   "cell_type": "code",
   "execution_count": 31,
   "metadata": {
    "scrolled": true
   },
   "outputs": [
    {
     "name": "stdout",
     "output_type": "stream",
     "text": [
      "2021-07-23 21:33:27,771 INFO sqlalchemy.engine.Engine BEGIN (implicit)\n",
      "2021-07-23 21:33:27,773 INFO sqlalchemy.engine.Engine SELECT \"Boreholes\".id AS \"Boreholes_id\", \"Boreholes\".length AS \"Boreholes_length\", \"Boreholes\".diameter AS \"Boreholes_diameter\" \n",
      "FROM \"Boreholes\" \n",
      "WHERE \"Boreholes\".id = ?\n",
      "2021-07-23 21:33:27,773 INFO sqlalchemy.engine.Engine [generated in 0.00057s] ('BH003',)\n",
      "2021-07-23 21:33:27,774 INFO sqlalchemy.engine.Engine SELECT \"Intervals\".id AS \"Intervals_id\", \"Intervals\".borehole AS \"Intervals_borehole\", \"Intervals\".interval_number AS \"Intervals_interval_number\", \"Intervals\".description AS \"Intervals_description\", \"Intervals\".top_id AS \"Intervals_top_id\", \"Intervals\".base_id AS \"Intervals_base_id\", \"Intervals\".data_id AS \"Intervals_data_id\" \n",
      "FROM \"Intervals\" \n",
      "WHERE ? = \"Intervals\".borehole\n",
      "2021-07-23 21:33:27,775 INFO sqlalchemy.engine.Engine [cached since 0.5629s ago] ('BH003',)\n",
      "2021-07-23 21:33:27,777 INFO sqlalchemy.engine.Engine SELECT \"Positions\".id AS \"Positions_id\", \"Positions\".upper AS \"Positions_upper\", \"Positions\".middle AS \"Positions_middle\", \"Positions\".lower AS \"Positions_lower\", \"Positions\".x AS \"Positions_x\", \"Positions\".y AS \"Positions_y\" \n",
      "FROM \"Positions\" \n",
      "WHERE \"Positions\".id = ?\n",
      "2021-07-23 21:33:27,778 INFO sqlalchemy.engine.Engine [cached since 0.5594s ago] (18,)\n",
      "2021-07-23 21:33:27,782 INFO sqlalchemy.engine.Engine SELECT \"Components\".id AS \"Components_id\", \"Components\".description AS \"Components_description\" \n",
      "FROM \"Components\", \"Linkintervalcomponent\" \n",
      "WHERE ? = \"Linkintervalcomponent\".int_id AND \"Components\".id = \"Linkintervalcomponent\".comp_id\n",
      "2021-07-23 21:33:27,783 INFO sqlalchemy.engine.Engine [generated in 0.00093s] (9,)\n",
      "2021-07-23 21:33:27,785 INFO sqlalchemy.engine.Engine SELECT \"Positions\".id AS \"Positions_id\", \"Positions\".upper AS \"Positions_upper\", \"Positions\".middle AS \"Positions_middle\", \"Positions\".lower AS \"Positions_lower\", \"Positions\".x AS \"Positions_x\", \"Positions\".y AS \"Positions_y\" \n",
      "FROM \"Positions\" \n",
      "WHERE \"Positions\".id = ?\n",
      "2021-07-23 21:33:27,786 INFO sqlalchemy.engine.Engine [cached since 0.5672s ago] (20,)\n",
      "2021-07-23 21:33:27,788 INFO sqlalchemy.engine.Engine SELECT \"Components\".id AS \"Components_id\", \"Components\".description AS \"Components_description\" \n",
      "FROM \"Components\", \"Linkintervalcomponent\" \n",
      "WHERE ? = \"Linkintervalcomponent\".int_id AND \"Components\".id = \"Linkintervalcomponent\".comp_id\n",
      "2021-07-23 21:33:27,788 INFO sqlalchemy.engine.Engine [cached since 0.006254s ago] (10,)\n",
      "2021-07-23 21:33:27,790 INFO sqlalchemy.engine.Engine SELECT \"Positions\".id AS \"Positions_id\", \"Positions\".upper AS \"Positions_upper\", \"Positions\".middle AS \"Positions_middle\", \"Positions\".lower AS \"Positions_lower\", \"Positions\".x AS \"Positions_x\", \"Positions\".y AS \"Positions_y\" \n",
      "FROM \"Positions\" \n",
      "WHERE \"Positions\".id = ?\n",
      "2021-07-23 21:33:27,790 INFO sqlalchemy.engine.Engine [cached since 0.5717s ago] (22,)\n",
      "2021-07-23 21:33:27,792 INFO sqlalchemy.engine.Engine SELECT \"Components\".id AS \"Components_id\", \"Components\".description AS \"Components_description\" \n",
      "FROM \"Components\", \"Linkintervalcomponent\" \n",
      "WHERE ? = \"Linkintervalcomponent\".int_id AND \"Components\".id = \"Linkintervalcomponent\".comp_id\n",
      "2021-07-23 21:33:27,793 INFO sqlalchemy.engine.Engine [cached since 0.01049s ago] (11,)\n",
      "2021-07-23 21:33:27,795 INFO sqlalchemy.engine.Engine SELECT \"Positions\".id AS \"Positions_id\", \"Positions\".upper AS \"Positions_upper\", \"Positions\".middle AS \"Positions_middle\", \"Positions\".lower AS \"Positions_lower\", \"Positions\".x AS \"Positions_x\", \"Positions\".y AS \"Positions_y\" \n",
      "FROM \"Positions\" \n",
      "WHERE \"Positions\".id = ?\n",
      "2021-07-23 21:33:27,796 INFO sqlalchemy.engine.Engine [cached since 0.5774s ago] (24,)\n",
      "2021-07-23 21:33:27,798 INFO sqlalchemy.engine.Engine SELECT \"Components\".id AS \"Components_id\", \"Components\".description AS \"Components_description\" \n",
      "FROM \"Components\", \"Linkintervalcomponent\" \n",
      "WHERE ? = \"Linkintervalcomponent\".int_id AND \"Components\".id = \"Linkintervalcomponent\".comp_id\n",
      "2021-07-23 21:33:27,799 INFO sqlalchemy.engine.Engine [cached since 0.01677s ago] (12,)\n",
      "2021-07-23 21:33:27,801 INFO sqlalchemy.engine.Engine SELECT \"Positions\".id AS \"Positions_id\", \"Positions\".upper AS \"Positions_upper\", \"Positions\".middle AS \"Positions_middle\", \"Positions\".lower AS \"Positions_lower\", \"Positions\".x AS \"Positions_x\", \"Positions\".y AS \"Positions_y\" \n",
      "FROM \"Positions\" \n",
      "WHERE \"Positions\".id = ?\n",
      "2021-07-23 21:33:27,802 INFO sqlalchemy.engine.Engine [cached since 0.5828s ago] (26,)\n",
      "2021-07-23 21:33:27,803 INFO sqlalchemy.engine.Engine SELECT \"Components\".id AS \"Components_id\", \"Components\".description AS \"Components_description\" \n",
      "FROM \"Components\", \"Linkintervalcomponent\" \n",
      "WHERE ? = \"Linkintervalcomponent\".int_id AND \"Components\".id = \"Linkintervalcomponent\".comp_id\n",
      "2021-07-23 21:33:27,804 INFO sqlalchemy.engine.Engine [cached since 0.02141s ago] (13,)\n"
     ]
    },
    {
     "data": {
      "text/plain": [
       "{9: <core.orm.IntervalOrm>(Id=9, Borehole=BH003, top=<core.orm.PositionOrm object at 0x7faa6b2b6070>Description={\"lithology\": \"sable\"}, {\"arsenic\": \"vi\"}, {\"cadmium\": \"vi\"}, Components=[<core.orm.ComponentOrm>(Id=0, Description=Sable), <core.orm.ComponentOrm>(Id=4, Description=Vi), <core.orm.ComponentOrm>(Id=7, Description=Vi)]),\n",
       " 10: <core.orm.IntervalOrm>(Id=10, Borehole=BH003, top=<core.orm.PositionOrm object at 0x7faa6b2b5dc0>Description={\"lithology\": \"argile\"}, {\"arsenic\": \"inconnu\"}, {\"cadmium\": \"inconnu\"}, Components=[<core.orm.ComponentOrm>(Id=3, Description=Argile), <core.orm.ComponentOrm>(Id=9, Description=Inconnu), <core.orm.ComponentOrm>(Id=12, Description=Inconnu)]),\n",
       " 11: <core.orm.IntervalOrm>(Id=11, Borehole=BH003, top=<core.orm.PositionOrm object at 0x7faa6b2b67f0>Description={\"lithology\": \"marne\"}, {\"arsenic\": \"vr\"}, {\"cadmium\": \"inconnu\"}, Components=[<core.orm.ComponentOrm>(Id=1, Description=Vr), <core.orm.ComponentOrm>(Id=6, Description=Marne), <core.orm.ComponentOrm>(Id=12, Description=Inconnu)]),\n",
       " 12: <core.orm.IntervalOrm>(Id=12, Borehole=BH003, top=<core.orm.PositionOrm object at 0x7faa6b2b6370>Description={\"lithology\": \"charbon\"}, {\"arsenic\": \"vr\"}, {\"cadmium\": \"vs\"}, Components=[<core.orm.ComponentOrm>(Id=1, Description=Vr), <core.orm.ComponentOrm>(Id=5, Description=Vs), <core.orm.ComponentOrm>(Id=8, Description=Charbon)]),\n",
       " 13: <core.orm.IntervalOrm>(Id=13, Borehole=BH003, top=<core.orm.PositionOrm object at 0x7faa6b2b59a0>Description={\"lithology\": \"dolomie\"}, {\"arsenic\": \"vs\"}, {\"cadmium\": \"vr\"}, Components=[<core.orm.ComponentOrm>(Id=2, Description=Vr), <core.orm.ComponentOrm>(Id=10, Description=Dolomie), <core.orm.ComponentOrm>(Id=11, Description=Vs)])}"
      ]
     },
     "execution_count": 31,
     "metadata": {},
     "output_type": "execute_result"
    }
   ],
   "source": [
    "p.boreholes_orm[2].intervals"
   ]
  },
  {
   "cell_type": "code",
   "execution_count": 32,
   "metadata": {},
   "outputs": [
    {
     "name": "stdout",
     "output_type": "stream",
     "text": [
      "2021-07-23 21:33:27,810 INFO sqlalchemy.engine.Engine SELECT \"Boreholes\".id AS \"Boreholes_id\", \"Boreholes\".length AS \"Boreholes_length\", \"Boreholes\".diameter AS \"Boreholes_diameter\" \n",
      "FROM \"Boreholes\"\n",
      "2021-07-23 21:33:27,812 INFO sqlalchemy.engine.Engine [cached since 0.6585s ago] ()\n"
     ]
    }
   ],
   "source": [
    "p.refresh(verbose=False)"
   ]
  },
  {
   "cell_type": "code",
   "execution_count": 33,
   "metadata": {},
   "outputs": [
    {
     "data": {
      "text/plain": [
       "{'lithology': 'sable'}"
      ]
     },
     "execution_count": 33,
     "metadata": {},
     "output_type": "execute_result"
    }
   ],
   "source": [
    "eval(Component({'lithology':'sable'}).json())"
   ]
  },
  {
   "cell_type": "raw",
   "metadata": {},
   "source": [
    "session.close()"
   ]
  },
  {
   "cell_type": "markdown",
   "metadata": {},
   "source": [
    "# 2D/3D Display"
   ]
  },
  {
   "cell_type": "code",
   "execution_count": 34,
   "metadata": {},
   "outputs": [
    {
     "data": {
      "text/plain": [
       "['lithology', 'arsenic', 'cadmium']"
      ]
     },
     "execution_count": 34,
     "metadata": {},
     "output_type": "execute_result"
    }
   ],
   "source": [
    "attributes = list(p.legend_dict.keys())\n",
    "attributes"
   ]
  },
  {
   "cell_type": "code",
   "execution_count": 35,
   "metadata": {},
   "outputs": [
    {
     "data": {
      "text/plain": [
       "({'lithology': {'legend': Legend(Decor({'_colour': '#ffcb23', 'width': 3, 'hatch': \"'..'\", 'component': Component({'lithology': 'sable'})})\n",
       "   Decor({'_colour': '#d5e6cc', 'width': 3, 'hatch': \"'---'\", 'component': Component({'lithology': 'argile'})})\n",
       "   Decor({'_colour': '#7ba1a8', 'width': 3, 'hatch': None, 'component': Component({'lithology': 'marne'})})\n",
       "   Decor({'_colour': '#000000', 'width': 3, 'hatch': None, 'component': Component({'lithology': 'charbon'})})\n",
       "   Decor({'_colour': '#fdaffe', 'width': 3, 'hatch': None, 'component': Component({'lithology': 'dolomie'})})\n",
       "   Decor({'_colour': '#bbffdd', 'width': 3, 'hatch': \"'--'\", 'component': Component({'lithology': 'schiste'})})\n",
       "   Decor({'_colour': '#149eff', 'width': 3, 'hatch': \"'='\", 'component': Component({'lithology': 'calcaire'})})),\n",
       "   'cmap': <matplotlib.colors.ListedColormap at 0x7faa6b2c9700>,\n",
       "   'values': ['sable',\n",
       "    'argile',\n",
       "    'marne',\n",
       "    'charbon',\n",
       "    'dolomie',\n",
       "    'schiste',\n",
       "    'calcaire']},\n",
       "  'arsenic': {'legend': Legend(Decor({'_colour': '#00ff00', 'width': 3, 'component': Component({'arsenic': 'vr'}), 'hatch': None})\n",
       "   Decor({'_colour': '#ff0000', 'width': 3, 'component': Component({'arsenic': 'vi'}), 'hatch': None})\n",
       "   Decor({'_colour': '#ffffff', 'width': 3, 'component': Component({'arsenic': 'inconnu'}), 'hatch': None})\n",
       "   Decor({'_colour': '#ffa500', 'width': 3, 'component': Component({'arsenic': 'vs'}), 'hatch': None})),\n",
       "   'cmap': <matplotlib.colors.ListedColormap at 0x7faa6b250c10>,\n",
       "   'values': ['vr', 'vi', 'inconnu', 'vs']},\n",
       "  'cadmium': {'legend': Legend(Decor({'_colour': '#00ff00', 'width': 3, 'component': Component({'cadmium': 'vr'}), 'hatch': None})\n",
       "   Decor({'_colour': '#ffa500', 'width': 3, 'component': Component({'cadmium': 'vs'}), 'hatch': None})\n",
       "   Decor({'_colour': '#ff0000', 'width': 3, 'component': Component({'cadmium': 'vi'}), 'hatch': None})\n",
       "   Decor({'_colour': '#ffffff', 'width': 3, 'component': Component({'cadmium': 'inconnu'}), 'hatch': None})),\n",
       "   'cmap': <matplotlib.colors.ListedColormap at 0x7faa6b27a160>,\n",
       "   'values': ['vr', 'vs', 'vi', 'inconnu']}},\n",
       " {'BH001': {'lithology': {'legend': Legend(Decor({'_colour': '#ffcb23', 'width': 3, 'hatch': \"'..'\", 'component': Component({'lithology': 'sable'})})\n",
       "    Decor({'_colour': '#d5e6cc', 'width': 3, 'hatch': \"'---'\", 'component': Component({'lithology': 'argile'})})\n",
       "    Decor({'_colour': '#7ba1a8', 'width': 3, 'hatch': None, 'component': Component({'lithology': 'marne'})})\n",
       "    Decor({'_colour': '#000000', 'width': 3, 'hatch': None, 'component': Component({'lithology': 'charbon'})})),\n",
       "    'cmap': <matplotlib.colors.ListedColormap at 0x7faa6b253a60>,\n",
       "    'values': ['sable', 'argile', 'marne', 'charbon']},\n",
       "   'arsenic': {'legend': Legend(Decor({'_colour': '#00ff00', 'width': 3, 'component': Component({'arsenic': 'vr'}), 'hatch': None})\n",
       "    Decor({'_colour': '#ff0000', 'width': 3, 'component': Component({'arsenic': 'vi'}), 'hatch': None})),\n",
       "    'cmap': <matplotlib.colors.ListedColormap at 0x7faa6b2c48e0>,\n",
       "    'values': ['vr', 'vi']},\n",
       "   'cadmium': {'legend': Legend(Decor({'_colour': '#00ff00', 'width': 3, 'component': Component({'cadmium': 'vr'}), 'hatch': None})\n",
       "    Decor({'_colour': '#ffa500', 'width': 3, 'component': Component({'cadmium': 'vs'}), 'hatch': None})\n",
       "    Decor({'_colour': '#ff0000', 'width': 3, 'component': Component({'cadmium': 'vi'}), 'hatch': None})),\n",
       "    'cmap': <matplotlib.colors.ListedColormap at 0x7faa6b250d00>,\n",
       "    'values': ['vr', 'vs', 'vi']}},\n",
       "  'BH002': {'lithology': {'legend': Legend(Decor({'_colour': '#ffcb23', 'width': 3, 'hatch': \"'..'\", 'component': Component({'lithology': 'sable'})})\n",
       "    Decor({'_colour': '#d5e6cc', 'width': 3, 'hatch': \"'---'\", 'component': Component({'lithology': 'argile'})})\n",
       "    Decor({'_colour': '#7ba1a8', 'width': 3, 'hatch': None, 'component': Component({'lithology': 'marne'})})\n",
       "    Decor({'_colour': '#000000', 'width': 3, 'hatch': None, 'component': Component({'lithology': 'charbon'})})\n",
       "    Decor({'_colour': '#fdaffe', 'width': 3, 'hatch': None, 'component': Component({'lithology': 'dolomie'})})),\n",
       "    'cmap': <matplotlib.colors.ListedColormap at 0x7faa6b2b54f0>,\n",
       "    'values': ['sable', 'argile', 'marne', 'charbon', 'dolomie']},\n",
       "   'arsenic': {'legend': Legend(Decor({'_colour': '#ff0000', 'width': 3, 'component': Component({'arsenic': 'vi'}), 'hatch': None})\n",
       "    Decor({'_colour': '#ffffff', 'width': 3, 'component': Component({'arsenic': 'inconnu'}), 'hatch': None})\n",
       "    Decor({'_colour': '#00ff00', 'width': 3, 'component': Component({'arsenic': 'vr'}), 'hatch': None})\n",
       "    Decor({'_colour': '#ffa500', 'width': 3, 'component': Component({'arsenic': 'vs'}), 'hatch': None})),\n",
       "    'cmap': <matplotlib.colors.ListedColormap at 0x7faa6b2c4f40>,\n",
       "    'values': ['vi', 'inconnu', 'vr', 'vs']},\n",
       "   'cadmium': {'legend': Legend(Decor({'_colour': '#ffa500', 'width': 3, 'component': Component({'cadmium': 'vs'}), 'hatch': None})\n",
       "    Decor({'_colour': '#00ff00', 'width': 3, 'component': Component({'cadmium': 'vr'}), 'hatch': None})\n",
       "    Decor({'_colour': '#ffffff', 'width': 3, 'component': Component({'cadmium': 'inconnu'}), 'hatch': None})),\n",
       "    'cmap': <matplotlib.colors.ListedColormap at 0x7faa6b277070>,\n",
       "    'values': ['vs', 'vr', 'inconnu']}},\n",
       "  'BH003': {'lithology': {'legend': Legend(Decor({'_colour': '#ffcb23', 'width': 3, 'hatch': \"'..'\", 'component': Component({'lithology': 'sable'})})\n",
       "    Decor({'_colour': '#d5e6cc', 'width': 3, 'hatch': \"'---'\", 'component': Component({'lithology': 'argile'})})\n",
       "    Decor({'_colour': '#7ba1a8', 'width': 3, 'hatch': None, 'component': Component({'lithology': 'marne'})})\n",
       "    Decor({'_colour': '#000000', 'width': 3, 'hatch': None, 'component': Component({'lithology': 'charbon'})})\n",
       "    Decor({'_colour': '#fdaffe', 'width': 3, 'hatch': None, 'component': Component({'lithology': 'dolomie'})})),\n",
       "    'cmap': <matplotlib.colors.ListedColormap at 0x7faa6b2b6790>,\n",
       "    'values': ['sable', 'argile', 'marne', 'charbon', 'dolomie']},\n",
       "   'arsenic': {'legend': Legend(Decor({'_colour': '#ff0000', 'width': 3, 'component': Component({'arsenic': 'vi'}), 'hatch': None})\n",
       "    Decor({'_colour': '#ffffff', 'width': 3, 'component': Component({'arsenic': 'inconnu'}), 'hatch': None})\n",
       "    Decor({'_colour': '#00ff00', 'width': 3, 'component': Component({'arsenic': 'vr'}), 'hatch': None})\n",
       "    Decor({'_colour': '#ffa500', 'width': 3, 'component': Component({'arsenic': 'vs'}), 'hatch': None})),\n",
       "    'cmap': <matplotlib.colors.ListedColormap at 0x7faa6b2c9a00>,\n",
       "    'values': ['vi', 'inconnu', 'vr', 'vs']},\n",
       "   'cadmium': {'legend': Legend(Decor({'_colour': '#ff0000', 'width': 3, 'component': Component({'cadmium': 'vi'}), 'hatch': None})\n",
       "    Decor({'_colour': '#ffffff', 'width': 3, 'component': Component({'cadmium': 'inconnu'}), 'hatch': None})\n",
       "    Decor({'_colour': '#ffa500', 'width': 3, 'component': Component({'cadmium': 'vs'}), 'hatch': None})\n",
       "    Decor({'_colour': '#00ff00', 'width': 3, 'component': Component({'cadmium': 'vr'}), 'hatch': None})),\n",
       "    'cmap': <matplotlib.colors.ListedColormap at 0x7faa6b277250>,\n",
       "    'values': ['vi', 'inconnu', 'vs', 'vr']}},\n",
       "  'BH004': {'lithology': {'legend': Legend(Decor({'_colour': '#ffcb23', 'width': 3, 'hatch': \"'..'\", 'component': Component({'lithology': 'sable'})})\n",
       "    Decor({'_colour': '#d5e6cc', 'width': 3, 'hatch': \"'---'\", 'component': Component({'lithology': 'argile'})})\n",
       "    Decor({'_colour': '#7ba1a8', 'width': 3, 'hatch': None, 'component': Component({'lithology': 'marne'})})\n",
       "    Decor({'_colour': '#000000', 'width': 3, 'hatch': None, 'component': Component({'lithology': 'charbon'})})\n",
       "    Decor({'_colour': '#fdaffe', 'width': 3, 'hatch': None, 'component': Component({'lithology': 'dolomie'})})),\n",
       "    'cmap': <matplotlib.colors.ListedColormap at 0x7faa6b2b5d90>,\n",
       "    'values': ['sable', 'argile', 'marne', 'charbon', 'dolomie']},\n",
       "   'arsenic': {'legend': Legend(Decor({'_colour': '#ffffff', 'width': 3, 'component': Component({'arsenic': 'inconnu'}), 'hatch': None})\n",
       "    Decor({'_colour': '#00ff00', 'width': 3, 'component': Component({'arsenic': 'vr'}), 'hatch': None})),\n",
       "    'cmap': <matplotlib.colors.ListedColormap at 0x7faa6b2c9940>,\n",
       "    'values': ['inconnu', 'vr']},\n",
       "   'cadmium': {'legend': Legend(Decor({'_colour': '#ffffff', 'width': 3, 'component': Component({'cadmium': 'inconnu'}), 'hatch': None})\n",
       "    Decor({'_colour': '#ffa500', 'width': 3, 'component': Component({'cadmium': 'vs'}), 'hatch': None})\n",
       "    Decor({'_colour': '#00ff00', 'width': 3, 'component': Component({'cadmium': 'vr'}), 'hatch': None})),\n",
       "    'cmap': <matplotlib.colors.ListedColormap at 0x7faa6b277430>,\n",
       "    'values': ['inconnu', 'vs', 'vr']}},\n",
       "  'BH005': {'lithology': {'legend': Legend(Decor({'_colour': '#ffcb23', 'width': 3, 'hatch': \"'..'\", 'component': Component({'lithology': 'sable'})})\n",
       "    Decor({'_colour': '#d5e6cc', 'width': 3, 'hatch': \"'---'\", 'component': Component({'lithology': 'argile'})})\n",
       "    Decor({'_colour': '#7ba1a8', 'width': 3, 'hatch': None, 'component': Component({'lithology': 'marne'})})\n",
       "    Decor({'_colour': '#000000', 'width': 3, 'hatch': None, 'component': Component({'lithology': 'charbon'})})\n",
       "    Decor({'_colour': '#fdaffe', 'width': 3, 'hatch': None, 'component': Component({'lithology': 'dolomie'})})\n",
       "    Decor({'_colour': '#bbffdd', 'width': 3, 'hatch': \"'--'\", 'component': Component({'lithology': 'schiste'})})\n",
       "    Decor({'_colour': '#149eff', 'width': 3, 'hatch': \"'='\", 'component': Component({'lithology': 'calcaire'})})),\n",
       "    'cmap': <matplotlib.colors.ListedColormap at 0x7faa6b2c7460>,\n",
       "    'values': ['sable',\n",
       "     'argile',\n",
       "     'marne',\n",
       "     'charbon',\n",
       "     'dolomie',\n",
       "     'schiste',\n",
       "     'calcaire']},\n",
       "   'arsenic': {'legend': Legend(Decor({'_colour': '#ffffff', 'width': 3, 'component': Component({'arsenic': 'inconnu'}), 'hatch': None})\n",
       "    Decor({'_colour': '#ff0000', 'width': 3, 'component': Component({'arsenic': 'vi'}), 'hatch': None})\n",
       "    Decor({'_colour': '#ffa500', 'width': 3, 'component': Component({'arsenic': 'vs'}), 'hatch': None})),\n",
       "    'cmap': <matplotlib.colors.ListedColormap at 0x7faa6b250190>,\n",
       "    'values': ['inconnu', 'vi', 'vs']},\n",
       "   'cadmium': {'legend': Legend(Decor({'_colour': '#00ff00', 'width': 3, 'component': Component({'cadmium': 'vr'}), 'hatch': None})\n",
       "    Decor({'_colour': '#ffffff', 'width': 3, 'component': Component({'cadmium': 'inconnu'}), 'hatch': None})\n",
       "    Decor({'_colour': '#ff0000', 'width': 3, 'component': Component({'cadmium': 'vi'}), 'hatch': None})\n",
       "    Decor({'_colour': '#ffa500', 'width': 3, 'component': Component({'cadmium': 'vs'}), 'hatch': None})),\n",
       "    'cmap': <matplotlib.colors.ListedColormap at 0x7faa6b277670>,\n",
       "    'values': ['vr', 'inconnu', 'vi', 'vs']}},\n",
       "  'BH006': {'lithology': {'legend': Legend(Decor({'_colour': '#ffcb23', 'width': 3, 'hatch': \"'..'\", 'component': Component({'lithology': 'sable'})})\n",
       "    Decor({'_colour': '#d5e6cc', 'width': 3, 'hatch': \"'---'\", 'component': Component({'lithology': 'argile'})})\n",
       "    Decor({'_colour': '#7ba1a8', 'width': 3, 'hatch': None, 'component': Component({'lithology': 'marne'})})\n",
       "    Decor({'_colour': '#000000', 'width': 3, 'hatch': None, 'component': Component({'lithology': 'charbon'})})\n",
       "    Decor({'_colour': '#fdaffe', 'width': 3, 'hatch': None, 'component': Component({'lithology': 'dolomie'})})),\n",
       "    'cmap': <matplotlib.colors.ListedColormap at 0x7faa6b2c4400>,\n",
       "    'values': ['sable', 'argile', 'marne', 'charbon', 'dolomie']},\n",
       "   'arsenic': {'legend': Legend(Decor({'_colour': '#ffa500', 'width': 3, 'component': Component({'arsenic': 'vs'}), 'hatch': None})\n",
       "    Decor({'_colour': '#ff0000', 'width': 3, 'component': Component({'arsenic': 'vi'}), 'hatch': None})\n",
       "    Decor({'_colour': '#ffffff', 'width': 3, 'component': Component({'arsenic': 'inconnu'}), 'hatch': None})\n",
       "    Decor({'_colour': '#00ff00', 'width': 3, 'component': Component({'arsenic': 'vr'}), 'hatch': None})),\n",
       "    'cmap': <matplotlib.colors.ListedColormap at 0x7faa6b250400>,\n",
       "    'values': ['vs', 'vi', 'inconnu', 'vr']},\n",
       "   'cadmium': {'legend': Legend(Decor({'_colour': '#ffa500', 'width': 3, 'component': Component({'cadmium': 'vs'}), 'hatch': None})\n",
       "    Decor({'_colour': '#00ff00', 'width': 3, 'component': Component({'cadmium': 'vr'}), 'hatch': None})\n",
       "    Decor({'_colour': '#ff0000', 'width': 3, 'component': Component({'cadmium': 'vi'}), 'hatch': None})),\n",
       "    'cmap': <matplotlib.colors.ListedColormap at 0x7faa6b277850>,\n",
       "    'values': ['vs', 'vr', 'vi']}},\n",
       "  'BH007': {'lithology': {'legend': Legend(Decor({'_colour': '#ffcb23', 'width': 3, 'hatch': \"'..'\", 'component': Component({'lithology': 'sable'})})\n",
       "    Decor({'_colour': '#d5e6cc', 'width': 3, 'hatch': \"'---'\", 'component': Component({'lithology': 'argile'})})\n",
       "    Decor({'_colour': '#7ba1a8', 'width': 3, 'hatch': None, 'component': Component({'lithology': 'marne'})})\n",
       "    Decor({'_colour': '#000000', 'width': 3, 'hatch': None, 'component': Component({'lithology': 'charbon'})})\n",
       "    Decor({'_colour': '#fdaffe', 'width': 3, 'hatch': None, 'component': Component({'lithology': 'dolomie'})})\n",
       "    Decor({'_colour': '#149eff', 'width': 3, 'hatch': \"'='\", 'component': Component({'lithology': 'calcaire'})})),\n",
       "    'cmap': <matplotlib.colors.ListedColormap at 0x7faa6b2c9220>,\n",
       "    'values': ['sable', 'argile', 'marne', 'charbon', 'dolomie', 'calcaire']},\n",
       "   'arsenic': {'legend': Legend(Decor({'_colour': '#00ff00', 'width': 3, 'component': Component({'arsenic': 'vr'}), 'hatch': None})\n",
       "    Decor({'_colour': '#ffffff', 'width': 3, 'component': Component({'arsenic': 'inconnu'}), 'hatch': None})\n",
       "    Decor({'_colour': '#ffa500', 'width': 3, 'component': Component({'arsenic': 'vs'}), 'hatch': None})),\n",
       "    'cmap': <matplotlib.colors.ListedColormap at 0x7faa6b2504f0>,\n",
       "    'values': ['vr', 'inconnu', 'vs']},\n",
       "   'cadmium': {'legend': Legend(Decor({'_colour': '#ff0000', 'width': 3, 'component': Component({'cadmium': 'vi'}), 'hatch': None})\n",
       "    Decor({'_colour': '#00ff00', 'width': 3, 'component': Component({'cadmium': 'vr'}), 'hatch': None})\n",
       "    Decor({'_colour': '#ffffff', 'width': 3, 'component': Component({'cadmium': 'inconnu'}), 'hatch': None})\n",
       "    Decor({'_colour': '#ffa500', 'width': 3, 'component': Component({'cadmium': 'vs'}), 'hatch': None})),\n",
       "    'cmap': <matplotlib.colors.ListedColormap at 0x7faa6b277a90>,\n",
       "    'values': ['vi', 'vr', 'inconnu', 'vs']}},\n",
       "  'BH008': {'lithology': {'legend': Legend(Decor({'_colour': '#ffcb23', 'width': 3, 'hatch': \"'..'\", 'component': Component({'lithology': 'sable'})})\n",
       "    Decor({'_colour': '#d5e6cc', 'width': 3, 'hatch': \"'---'\", 'component': Component({'lithology': 'argile'})})\n",
       "    Decor({'_colour': '#7ba1a8', 'width': 3, 'hatch': None, 'component': Component({'lithology': 'marne'})})\n",
       "    Decor({'_colour': '#000000', 'width': 3, 'hatch': None, 'component': Component({'lithology': 'charbon'})})\n",
       "    Decor({'_colour': '#fdaffe', 'width': 3, 'hatch': None, 'component': Component({'lithology': 'dolomie'})})),\n",
       "    'cmap': <matplotlib.colors.ListedColormap at 0x7faa6b2c7ac0>,\n",
       "    'values': ['sable', 'argile', 'marne', 'charbon', 'dolomie']},\n",
       "   'arsenic': {'legend': Legend(Decor({'_colour': '#ff0000', 'width': 3, 'component': Component({'arsenic': 'vi'}), 'hatch': None})\n",
       "    Decor({'_colour': '#ffa500', 'width': 3, 'component': Component({'arsenic': 'vs'}), 'hatch': None})),\n",
       "    'cmap': <matplotlib.colors.ListedColormap at 0x7faa6b250520>,\n",
       "    'values': ['vi', 'vs']},\n",
       "   'cadmium': {'legend': Legend(Decor({'_colour': '#ff0000', 'width': 3, 'component': Component({'cadmium': 'vi'}), 'hatch': None})\n",
       "    Decor({'_colour': '#ffffff', 'width': 3, 'component': Component({'cadmium': 'inconnu'}), 'hatch': None})\n",
       "    Decor({'_colour': '#ffa500', 'width': 3, 'component': Component({'cadmium': 'vs'}), 'hatch': None})),\n",
       "    'cmap': <matplotlib.colors.ListedColormap at 0x7faa6b277c70>,\n",
       "    'values': ['vi', 'inconnu', 'vs']}},\n",
       "  'BH009': {'lithology': {'legend': Legend(Decor({'_colour': '#ffcb23', 'width': 3, 'hatch': \"'..'\", 'component': Component({'lithology': 'sable'})})\n",
       "    Decor({'_colour': '#d5e6cc', 'width': 3, 'hatch': \"'---'\", 'component': Component({'lithology': 'argile'})})\n",
       "    Decor({'_colour': '#7ba1a8', 'width': 3, 'hatch': None, 'component': Component({'lithology': 'marne'})})\n",
       "    Decor({'_colour': '#000000', 'width': 3, 'hatch': None, 'component': Component({'lithology': 'charbon'})})\n",
       "    Decor({'_colour': '#fdaffe', 'width': 3, 'hatch': None, 'component': Component({'lithology': 'dolomie'})})),\n",
       "    'cmap': <matplotlib.colors.ListedColormap at 0x7faa6b2c4700>,\n",
       "    'values': ['sable', 'argile', 'marne', 'charbon', 'dolomie']},\n",
       "   'arsenic': {'legend': Legend(Decor({'_colour': '#00ff00', 'width': 3, 'component': Component({'arsenic': 'vr'}), 'hatch': None})\n",
       "    Decor({'_colour': '#ffa500', 'width': 3, 'component': Component({'arsenic': 'vs'}), 'hatch': None})\n",
       "    Decor({'_colour': '#ffffff', 'width': 3, 'component': Component({'arsenic': 'inconnu'}), 'hatch': None})),\n",
       "    'cmap': <matplotlib.colors.ListedColormap at 0x7faa6b2507f0>,\n",
       "    'values': ['vr', 'vs', 'inconnu']},\n",
       "   'cadmium': {'legend': Legend(Decor({'_colour': '#ffa500', 'width': 3, 'component': Component({'cadmium': 'vs'}), 'hatch': None})\n",
       "    Decor({'_colour': '#ffffff', 'width': 3, 'component': Component({'cadmium': 'inconnu'}), 'hatch': None})\n",
       "    Decor({'_colour': '#ff0000', 'width': 3, 'component': Component({'cadmium': 'vi'}), 'hatch': None})\n",
       "    Decor({'_colour': '#00ff00', 'width': 3, 'component': Component({'cadmium': 'vr'}), 'hatch': None})),\n",
       "    'cmap': <matplotlib.colors.ListedColormap at 0x7faa6b277eb0>,\n",
       "    'values': ['vs', 'inconnu', 'vi', 'vr']}},\n",
       "  'BH10': {'lithology': {'legend': Legend(Decor({'_colour': '#ffcb23', 'width': 3, 'hatch': \"'..'\", 'component': Component({'lithology': 'sable'})})\n",
       "    Decor({'_colour': '#d5e6cc', 'width': 3, 'hatch': \"'---'\", 'component': Component({'lithology': 'argile'})})\n",
       "    Decor({'_colour': '#7ba1a8', 'width': 3, 'hatch': None, 'component': Component({'lithology': 'marne'})})),\n",
       "    'cmap': <matplotlib.colors.ListedColormap at 0x7faa6b2c9580>,\n",
       "    'values': ['sable', 'argile', 'marne']},\n",
       "   'arsenic': {'legend': Legend(Decor({'_colour': '#ffa500', 'width': 3, 'component': Component({'arsenic': 'vs'}), 'hatch': None})\n",
       "    Decor({'_colour': '#ffffff', 'width': 3, 'component': Component({'arsenic': 'inconnu'}), 'hatch': None})),\n",
       "    'cmap': <matplotlib.colors.ListedColormap at 0x7faa6b2502b0>,\n",
       "    'values': ['vs', 'inconnu']},\n",
       "   'cadmium': {'legend': Legend(Decor({'_colour': '#ff0000', 'width': 3, 'component': Component({'cadmium': 'vi'}), 'hatch': None})\n",
       "    Decor({'_colour': '#ffffff', 'width': 3, 'component': Component({'cadmium': 'inconnu'}), 'hatch': None})\n",
       "    Decor({'_colour': '#00ff00', 'width': 3, 'component': Component({'cadmium': 'vr'}), 'hatch': None})),\n",
       "    'cmap': <matplotlib.colors.ListedColormap at 0x7faa6b27a0d0>,\n",
       "    'values': ['vi', 'inconnu', 'vr']}}})"
      ]
     },
     "execution_count": 35,
     "metadata": {},
     "output_type": "execute_result"
    }
   ],
   "source": [
    "p.update_legend_cmap(update_all_attrib=True)"
   ]
  },
  {
   "cell_type": "code",
   "execution_count": 36,
   "metadata": {},
   "outputs": [
    {
     "data": {
      "image/png": "[encoded data removed]",
      "text/html": [
       "<div style=\"vertical-align: middle;\"><strong>from_list</strong> </div><div class=\"cmap\"><img alt=\"from_list colormap\" title=\"from_list\" style=\"border: 1px solid #555;\" src=\"data:image/png;base64,iVBORw0KGgoAAAANSUhEUgAAAgAAAABACAYAAABsv8+/AAAAGHRFWHRUaXRsZQBmcm9tX2xpc3QgY29sb3JtYXBDL89FAAAAHnRFWHREZXNjcmlwdGlvbgBmcm9tX2xpc3QgY29sb3JtYXABtCnOAAAAMHRFWHRBdXRob3IATWF0cGxvdGxpYiB2My40LjIsIGh0dHBzOi8vbWF0cGxvdGxpYi5vcmes1mPdAAAAMnRFWHRTb2Z0d2FyZQBNYXRwbG90bGliIHYzLjQuMiwgaHR0cHM6Ly9tYXRwbG90bGliLm9yZ4Jw/PoAAAFjSURBVHic7darjUJRAABRoA0c2xCSVVRDHTiSVRRAQgP4VSRUwqcDJPeROaeCkTN/Xn6eM976X/6NTpi8w+k6OmHydtvN6ITJux8foxO+wnl9G50wab/71eiEr7AYHQAAfJ4BAIAgAwAAQQYAAIIMAAAEGQAACDIAABBkAAAgyAAAQJABAIAgAwAAQQYAAIIMAAAEGQAACDIAABBkAAAgyAAAQJABAIAgAwAAQQYAAIIMAAAEGQAACDIAABBkAAAgyAAAQJABAIAgAwAAQQYAAIIMAAAEGQAACDIAABBkAAAgyAAAQJABAIAgAwAAQQYAAIIMAAAEGQAACDIAABBkAAAgyAAAQJABAIAgAwAAQQYAAIIMAAAEGQAACDIAABBkAAAgyAAAQJABAIAgAwAAQQYAAIIMAAAEGQAACDIAABBkAAAgyAAAQJABAIAgAwAAQQYAAIIMAAAEGQAACDIAABD0AiMCDjC6gHT1AAAAAElFTkSuQmCC\"></div><div style=\"vertical-align: middle; max-width: 514px; display: flex; justify-content: space-between;\"><div style=\"float: left;\"><div title=\"#ffcb23ff\" style=\"display: inline-block; width: 1em; height: 1em; margin: 0; vertical-align: middle; border: 1px solid #555; background-color: #ffcb23ff;\"></div> under</div><div style=\"margin: 0 auto; display: inline-block;\">bad <div title=\"#00000000\" style=\"display: inline-block; width: 1em; height: 1em; margin: 0; vertical-align: middle; border: 1px solid #555; background-color: #00000000;\"></div></div><div style=\"float: right;\">over <div title=\"#149effff\" style=\"display: inline-block; width: 1em; height: 1em; margin: 0; vertical-align: middle; border: 1px solid #555; background-color: #149effff;\"></div></div>"
      ],
      "text/plain": [
       "<matplotlib.colors.ListedColormap at 0x7faa6b2c9700>"
      ]
     },
     "execution_count": 36,
     "metadata": {},
     "output_type": "execute_result"
    }
   ],
   "source": [
    "p.legend_dict[attributes[0]]['cmap']"
   ]
  },
  {
   "cell_type": "code",
   "execution_count": 37,
   "metadata": {},
   "outputs": [
    {
     "data": {
      "text/plain": [
       "['sable', 'argile', 'marne', 'charbon', 'dolomie', 'schiste', 'calcaire']"
      ]
     },
     "execution_count": 37,
     "metadata": {},
     "output_type": "execute_result"
    }
   ],
   "source": [
    "p.legend_dict[attributes[0]]['values']"
   ]
  },
  {
   "cell_type": "markdown",
   "metadata": {},
   "source": [
    "## Display one object (attribute = 'lithology')"
   ]
  },
  {
   "cell_type": "code",
   "execution_count": 38,
   "metadata": {},
   "outputs": [
    {
     "data": {
      "text/plain": [
       "{0: [Component({'lithology': 'sable'}),\n",
       "  Component({'arsenic': 'vr'}),\n",
       "  Component({'cadmium': 'vi'})],\n",
       " 1: [Component({'lithology': 'argile'}),\n",
       "  Component({'arsenic': 'inconnu'}),\n",
       "  Component({'cadmium': 'vr'})],\n",
       " 2: [Component({'lithology': 'marne'}),\n",
       "  Component({'arsenic': 'inconnu'}),\n",
       "  Component({'cadmium': 'inconnu'})],\n",
       " 3: [Component({'lithology': 'charbon'}),\n",
       "  Component({'arsenic': 'inconnu'}),\n",
       "  Component({'cadmium': 'vs'})],\n",
       " 4: [Component({'lithology': 'dolomie'}),\n",
       "  Component({'arsenic': 'vs'}),\n",
       "  Component({'cadmium': 'inconnu'})],\n",
       " 5: [Component({'lithology': 'calcaire'}),\n",
       "  Component({'arsenic': 'vs'}),\n",
       "  Component({'cadmium': 'vr'})]}"
      ]
     },
     "execution_count": 38,
     "metadata": {},
     "output_type": "execute_result"
    }
   ],
   "source": [
    "bh = 6\n",
    "p.boreholes_3d[bh].components"
   ]
  },
  {
   "cell_type": "code",
   "execution_count": 39,
   "metadata": {},
   "outputs": [
    {
     "name": "stderr",
     "output_type": "stream",
     "text": [
      "/home/yanathan/Projects/GSDMA/utils/visual.py:421: MatplotlibDeprecationWarning: hatch must consist of a string of \"*+-./OX\\ox|\" or None, but found the following invalid values \"'\". Passing invalid values is deprecated since 3.4 and will become an error two minor releases later.\n",
      "  rect = mpl.patches.Rectangle(origin, w, thick, fc=fc, lw=lw, hatch=d.hatch,\n",
      "/home/yanathan/Projects/GSDMA/utils/visual.py:421: MatplotlibDeprecationWarning: hatch must consist of a string of \"*+-./OX\\ox|\" or None, but found the following invalid values \"'=\". Passing invalid values is deprecated since 3.4 and will become an error two minor releases later.\n",
      "  rect = mpl.patches.Rectangle(origin, w, thick, fc=fc, lw=lw, hatch=d.hatch,\n",
      "/home/yanathan/.local/share/virtualenvs/GSDMA-DRfwm83x/lib/python3.8/site-packages/striplog/legend.py:311: MatplotlibDeprecationWarning: hatch must consist of a string of \"*+-./OX\\ox|\" or None, but found the following invalid values \"'=\". Passing invalid values is deprecated since 3.4 and will become an error two minor releases later.\n",
      "  rect1 = patches.Rectangle((0, 0),\n",
      "/home/yanathan/.local/share/virtualenvs/GSDMA-DRfwm83x/lib/python3.8/site-packages/striplog/legend.py:311: MatplotlibDeprecationWarning: hatch must consist of a string of \"*+-./OX\\ox|\" or None, but found the following invalid values \"'\". Passing invalid values is deprecated since 3.4 and will become an error two minor releases later.\n",
      "  rect1 = patches.Rectangle((0, 0),\n"
     ]
    },
    {
     "data": {
      "image/png": "[encoded data removed]",
      "text/plain": [
       "<Figure size 432x432 with 8 Axes>"
      ]
     },
     "metadata": {
      "needs_background": "light"
     },
     "output_type": "display_data"
    }
   ],
   "source": [
    "p.boreholes_3d[bh].log_plot()"
   ]
  },
  {
   "cell_type": "code",
   "execution_count": 40,
   "metadata": {},
   "outputs": [],
   "source": [
    "sargs = dict(title='Test_legend', title_font_size=30, label_font_size=12, n_labels=0,\n",
    "             fmt=\"%.2f\", font_family=\"arial\", color='k',interactive=True, \n",
    "             vertical=True, italic=True, shadow=False,)"
   ]
  },
  {
   "cell_type": "code",
   "execution_count": 41,
   "metadata": {
    "scrolled": true
   },
   "outputs": [
    {
     "data": {
      "application/vnd.jupyter.widget-view+json": {
       "model_id": "af6271296cc54ecdba7c84270a858809",
       "version_major": 2,
       "version_minor": 0
      },
      "text/plain": [
       "ViewInteractiveWidget(height=768, layout=Layout(height='auto', width='100%'), width=1024)"
      ]
     },
     "metadata": {},
     "output_type": "display_data"
    }
   ],
   "source": [
    "p.boreholes_3d[bh].plot3d(custom_legend=False, scalar_bar_args=sargs)"
   ]
  },
  {
   "cell_type": "code",
   "execution_count": 42,
   "metadata": {},
   "outputs": [
    {
     "data": {
      "text/html": [
       "<div style=\"width:100%;\"><div style=\"position:relative;width:100%;height:0;padding-bottom:60%;\"><span style=\"color:#565656\">Make this Notebook Trusted to load map: File -> Trust Notebook</span><iframe src=\"about:blank\" style=\"position:absolute;width:100%;height:100%;left:0;top:0;border:none !important;\" data-html=%3C%21DOCTYPE%20html%3E%0A%3Chead%3E%20%20%20%20%0A%20%20%20%20%3Cmeta%20http-equiv%3D%22content-type%22%20content%3D%22text/html%3B%20charset%3DUTF-8%22%20/%3E%0A%20%20%20%20%0A%20%20%20%20%20%20%20%20%3Cscript%3E%0A%20%20%20%20%20%20%20%20%20%20%20%20L_NO_TOUCH%20%3D%20false%3B%0A%20%20%20%20%20%20%20%20%20%20%20%20L_DISABLE_3D%20%3D%20false%3B%0A%20%20%20%20%20%20%20%20%3C/script%3E%0A%20%20%20%20%0A%20%20%20%20%3Cstyle%3Ehtml%2C%20body%20%7Bwidth%3A%20100%25%3Bheight%3A%20100%25%3Bmargin%3A%200%3Bpadding%3A%200%3B%7D%3C/style%3E%0A%20%20%20%20%3Cstyle%3E%23map%20%7Bposition%3Aabsolute%3Btop%3A0%3Bbottom%3A0%3Bright%3A0%3Bleft%3A0%3B%7D%3C/style%3E%0A%20%20%20%20%3Cscript%20src%3D%22https%3A//cdn.jsdelivr.net/npm/leaflet%401.6.0/dist/leaflet.js%22%3E%3C/script%3E%0A%20%20%20%20%3Cscript%20src%3D%22https%3A//code.jquery.com/jquery-1.12.4.min.js%22%3E%3C/script%3E%0A%20%20%20%20%3Cscript%20src%3D%22https%3A//maxcdn.bootstrapcdn.com/bootstrap/3.2.0/js/bootstrap.min.js%22%3E%3C/script%3E%0A%20%20%20%20%3Cscript%20src%3D%22https%3A//cdnjs.cloudflare.com/ajax/libs/Leaflet.awesome-markers/2.0.2/leaflet.awesome-markers.js%22%3E%3C/script%3E%0A%20%20%20%20%3Clink%20rel%3D%22stylesheet%22%20href%3D%22https%3A//cdn.jsdelivr.net/npm/leaflet%401.6.0/dist/leaflet.css%22/%3E%0A%20%20%20%20%3Clink%20rel%3D%22stylesheet%22%20href%3D%22https%3A//maxcdn.bootstrapcdn.com/bootstrap/3.2.0/css/bootstrap.min.css%22/%3E%0A%20%20%20%20%3Clink%20rel%3D%22stylesheet%22%20href%3D%22https%3A//maxcdn.bootstrapcdn.com/bootstrap/3.2.0/css/bootstrap-theme.min.css%22/%3E%0A%20%20%20%20%3Clink%20rel%3D%22stylesheet%22%20href%3D%22https%3A//maxcdn.bootstrapcdn.com/font-awesome/4.6.3/css/font-awesome.min.css%22/%3E%0A%20%20%20%20%3Clink%20rel%3D%22stylesheet%22%20href%3D%22https%3A//cdnjs.cloudflare.com/ajax/libs/Leaflet.awesome-markers/2.0.2/leaflet.awesome-markers.css%22/%3E%0A%20%20%20%20%3Clink%20rel%3D%22stylesheet%22%20href%3D%22https%3A//cdn.jsdelivr.net/gh/python-visualization/folium/folium/templates/leaflet.awesome.rotate.min.css%22/%3E%0A%20%20%20%20%0A%20%20%20%20%20%20%20%20%20%20%20%20%3Cmeta%20name%3D%22viewport%22%20content%3D%22width%3Ddevice-width%2C%0A%20%20%20%20%20%20%20%20%20%20%20%20%20%20%20%20initial-scale%3D1.0%2C%20maximum-scale%3D1.0%2C%20user-scalable%3Dno%22%20/%3E%0A%20%20%20%20%20%20%20%20%20%20%20%20%3Cstyle%3E%0A%20%20%20%20%20%20%20%20%20%20%20%20%20%20%20%20%23map_d1408087ca7749ca93a5b6f3e3d2966b%20%7B%0A%20%20%20%20%20%20%20%20%20%20%20%20%20%20%20%20%20%20%20%20position%3A%20relative%3B%0A%20%20%20%20%20%20%20%20%20%20%20%20%20%20%20%20%20%20%20%20width%3A%20100.0%25%3B%0A%20%20%20%20%20%20%20%20%20%20%20%20%20%20%20%20%20%20%20%20height%3A%20100.0%25%3B%0A%20%20%20%20%20%20%20%20%20%20%20%20%20%20%20%20%20%20%20%20left%3A%200.0%25%3B%0A%20%20%20%20%20%20%20%20%20%20%20%20%20%20%20%20%20%20%20%20top%3A%200.0%25%3B%0A%20%20%20%20%20%20%20%20%20%20%20%20%20%20%20%20%7D%0A%20%20%20%20%20%20%20%20%20%20%20%20%3C/style%3E%0A%20%20%20%20%20%20%20%20%0A%20%20%20%20%3Cscript%20src%3D%22https%3A//cdnjs.cloudflare.com/ajax/libs/leaflet-minimap/3.6.1/Control.MiniMap.js%22%3E%3C/script%3E%0A%20%20%20%20%3Clink%20rel%3D%22stylesheet%22%20href%3D%22https%3A//cdnjs.cloudflare.com/ajax/libs/leaflet-minimap/3.6.1/Control.MiniMap.css%22/%3E%0A%3C/head%3E%0A%3Cbody%3E%20%20%20%20%0A%20%20%20%20%0A%20%20%20%20%20%20%20%20%20%20%20%20%3Cdiv%20class%3D%22folium-map%22%20id%3D%22map_d1408087ca7749ca93a5b6f3e3d2966b%22%20%3E%3C/div%3E%0A%20%20%20%20%20%20%20%20%0A%3C/body%3E%0A%3Cscript%3E%20%20%20%20%0A%20%20%20%20%0A%20%20%20%20%20%20%20%20%20%20%20%20var%20map_d1408087ca7749ca93a5b6f3e3d2966b%20%3D%20L.map%28%0A%20%20%20%20%20%20%20%20%20%20%20%20%20%20%20%20%22map_d1408087ca7749ca93a5b6f3e3d2966b%22%2C%0A%20%20%20%20%20%20%20%20%20%20%20%20%20%20%20%20%7B%0A%20%20%20%20%20%20%20%20%20%20%20%20%20%20%20%20%20%20%20%20center%3A%20%5B50.40316070673727%2C%204.404286510256322%5D%2C%0A%20%20%20%20%20%20%20%20%20%20%20%20%20%20%20%20%20%20%20%20crs%3A%20L.CRS.EPSG3857%2C%0A%20%20%20%20%20%20%20%20%20%20%20%20%20%20%20%20%20%20%20%20zoom%3A%2015%2C%0A%20%20%20%20%20%20%20%20%20%20%20%20%20%20%20%20%20%20%20%20zoomControl%3A%20true%2C%0A%20%20%20%20%20%20%20%20%20%20%20%20%20%20%20%20%20%20%20%20preferCanvas%3A%20false%2C%0A%20%20%20%20%20%20%20%20%20%20%20%20%20%20%20%20%7D%0A%20%20%20%20%20%20%20%20%20%20%20%20%29%3B%0A%20%20%20%20%20%20%20%20%20%20%20%20L.control.scale%28%29.addTo%28map_d1408087ca7749ca93a5b6f3e3d2966b%29%3B%0A%0A%20%20%20%20%20%20%20%20%20%20%20%20%0A%0A%20%20%20%20%20%20%20%20%0A%20%20%20%20%0A%20%20%20%20%20%20%20%20%20%20%20%20var%20tile_layer_9ce8b9727ac34d2598a74d46ff7edf42%20%3D%20L.tileLayer%28%0A%20%20%20%20%20%20%20%20%20%20%20%20%20%20%20%20%22https%3A//%7Bs%7D.tile.openstreetmap.org/%7Bz%7D/%7Bx%7D/%7By%7D.png%22%2C%0A%20%20%20%20%20%20%20%20%20%20%20%20%20%20%20%20%7B%22attribution%22%3A%20%22Data%20by%20%5Cu0026copy%3B%20%5Cu003ca%20href%3D%5C%22http%3A//openstreetmap.org%5C%22%5Cu003eOpenStreetMap%5Cu003c/a%5Cu003e%2C%20under%20%5Cu003ca%20href%3D%5C%22http%3A//www.openstreetmap.org/copyright%5C%22%5Cu003eODbL%5Cu003c/a%5Cu003e.%22%2C%20%22detectRetina%22%3A%20false%2C%20%22maxNativeZoom%22%3A%2025%2C%20%22maxZoom%22%3A%2025%2C%20%22minZoom%22%3A%200%2C%20%22noWrap%22%3A%20false%2C%20%22opacity%22%3A%201%2C%20%22subdomains%22%3A%20%22abc%22%2C%20%22tms%22%3A%20false%7D%0A%20%20%20%20%20%20%20%20%20%20%20%20%29.addTo%28map_d1408087ca7749ca93a5b6f3e3d2966b%29%3B%0A%20%20%20%20%20%20%20%20%0A%20%20%20%20%0A%20%20%20%20%20%20%20%20%20%20%20%20var%20tile_layer_3cf17456b53f46e3974d81f2a47f1ec5%20%3D%20L.tileLayer%28%0A%20%20%20%20%20%20%20%20%20%20%20%20%20%20%20%20%22https%3A//server.arcgisonline.com/ArcGIS/rest/services/World_Imagery/MapServer/tile/%7Bz%7D/%7By%7D/%7Bx%7D%22%2C%0A%20%20%20%20%20%20%20%20%20%20%20%20%20%20%20%20%7B%22attribution%22%3A%20%22Tiles%20%5Cu0026copy%3B%20Esri%20%5Cu0026mdash%3B%20Source%3A%20Esri%2C%20i-cubed%2C%20USDA%2C%20USGS%2C%20AEX%2C%20GeoEye%2C%20Getmapping%2C%20Aerogrid%2C%20IGN%2C%20IGP%2C%20UPR-EGP%2C%20and%20the%20GIS%20User%20Community%22%2C%20%22detectRetina%22%3A%20false%2C%20%22maxNativeZoom%22%3A%2025%2C%20%22maxZoom%22%3A%2025%2C%20%22minZoom%22%3A%200%2C%20%22noWrap%22%3A%20false%2C%20%22opacity%22%3A%201%2C%20%22subdomains%22%3A%20%22abc%22%2C%20%22tms%22%3A%20false%7D%0A%20%20%20%20%20%20%20%20%20%20%20%20%29.addTo%28map_d1408087ca7749ca93a5b6f3e3d2966b%29%3B%0A%20%20%20%20%20%20%20%20%0A%20%20%20%20%0A%20%20%20%20%20%20%20%20%20%20%20%20var%20feature_group_4bac14c6369244cd88d18340f9fa1a5b%20%3D%20L.featureGroup%28%0A%20%20%20%20%20%20%20%20%20%20%20%20%20%20%20%20%7B%7D%0A%20%20%20%20%20%20%20%20%20%20%20%20%29.addTo%28map_d1408087ca7749ca93a5b6f3e3d2966b%29%3B%0A%20%20%20%20%20%20%20%20%0A%20%20%20%20%0A%20%20%20%20%20%20%20%20%20%20%20%20var%20circle_marker_96428eeb41f147a2bacbad8707e1257f%20%3D%20L.circleMarker%28%0A%20%20%20%20%20%20%20%20%20%20%20%20%20%20%20%20%5B50.400246677298995%2C%204.405316738422422%5D%2C%0A%20%20%20%20%20%20%20%20%20%20%20%20%20%20%20%20%7B%22bubblingMouseEvents%22%3A%20true%2C%20%22color%22%3A%20%22red%22%2C%20%22dashArray%22%3A%20null%2C%20%22dashOffset%22%3A%20null%2C%20%22fill%22%3A%20true%2C%20%22fillColor%22%3A%20%22red%22%2C%20%22fillOpacity%22%3A%200.2%2C%20%22fillRule%22%3A%20%22evenodd%22%2C%20%22lineCap%22%3A%20%22round%22%2C%20%22lineJoin%22%3A%20%22round%22%2C%20%22opacity%22%3A%200.9%2C%20%22radius%22%3A%200.2%2C%20%22stroke%22%3A%20true%2C%20%22weight%22%3A%203%7D%0A%20%20%20%20%20%20%20%20%20%20%20%20%29.addTo%28feature_group_4bac14c6369244cd88d18340f9fa1a5b%29%3B%0A%20%20%20%20%20%20%20%20%0A%20%20%20%20%0A%20%20%20%20%20%20%20%20var%20popup_45be7dd302c94a1783ff9df9d5d18cd3%20%3D%20L.popup%28%7B%22maxWidth%22%3A%20%22100%25%22%7D%29%3B%0A%0A%20%20%20%20%20%20%20%20%0A%20%20%20%20%20%20%20%20%20%20%20%20var%20html_896345370292478caa167d563c2d21e5%20%3D%20%24%28%60%3Cdiv%20id%3D%22html_896345370292478caa167d563c2d21e5%22%20style%3D%22width%3A%20100.0%25%3B%20height%3A%20100.0%25%3B%22%3EBH001%3C/div%3E%60%29%5B0%5D%3B%0A%20%20%20%20%20%20%20%20%20%20%20%20popup_45be7dd302c94a1783ff9df9d5d18cd3.setContent%28html_896345370292478caa167d563c2d21e5%29%3B%0A%20%20%20%20%20%20%20%20%0A%0A%20%20%20%20%20%20%20%20circle_marker_96428eeb41f147a2bacbad8707e1257f.bindPopup%28popup_45be7dd302c94a1783ff9df9d5d18cd3%29%0A%20%20%20%20%20%20%20%20%3B%0A%0A%20%20%20%20%20%20%20%20%0A%20%20%20%20%0A%20%20%20%20%0A%20%20%20%20%20%20%20%20%20%20%20%20var%20circle_marker_c258c25e0d474266a486554983c15532%20%3D%20L.circleMarker%28%0A%20%20%20%20%20%20%20%20%20%20%20%20%20%20%20%20%5B50.405163369681965%2C%204.408401317498531%5D%2C%0A%20%20%20%20%20%20%20%20%20%20%20%20%20%20%20%20%7B%22bubblingMouseEvents%22%3A%20true%2C%20%22color%22%3A%20%22red%22%2C%20%22dashArray%22%3A%20null%2C%20%22dashOffset%22%3A%20null%2C%20%22fill%22%3A%20true%2C%20%22fillColor%22%3A%20%22red%22%2C%20%22fillOpacity%22%3A%200.2%2C%20%22fillRule%22%3A%20%22evenodd%22%2C%20%22lineCap%22%3A%20%22round%22%2C%20%22lineJoin%22%3A%20%22round%22%2C%20%22opacity%22%3A%200.9%2C%20%22radius%22%3A%200.2%2C%20%22stroke%22%3A%20true%2C%20%22weight%22%3A%203%7D%0A%20%20%20%20%20%20%20%20%20%20%20%20%29.addTo%28feature_group_4bac14c6369244cd88d18340f9fa1a5b%29%3B%0A%20%20%20%20%20%20%20%20%0A%20%20%20%20%0A%20%20%20%20%20%20%20%20var%20popup_336f54540770458da9b7f22b7e3c064d%20%3D%20L.popup%28%7B%22maxWidth%22%3A%20%22100%25%22%7D%29%3B%0A%0A%20%20%20%20%20%20%20%20%0A%20%20%20%20%20%20%20%20%20%20%20%20var%20html_4fe4e528b16645e3a20aa4737c5dcd5d%20%3D%20%24%28%60%3Cdiv%20id%3D%22html_4fe4e528b16645e3a20aa4737c5dcd5d%22%20style%3D%22width%3A%20100.0%25%3B%20height%3A%20100.0%25%3B%22%3EBH002%3C/div%3E%60%29%5B0%5D%3B%0A%20%20%20%20%20%20%20%20%20%20%20%20popup_336f54540770458da9b7f22b7e3c064d.setContent%28html_4fe4e528b16645e3a20aa4737c5dcd5d%29%3B%0A%20%20%20%20%20%20%20%20%0A%0A%20%20%20%20%20%20%20%20circle_marker_c258c25e0d474266a486554983c15532.bindPopup%28popup_336f54540770458da9b7f22b7e3c064d%29%0A%20%20%20%20%20%20%20%20%3B%0A%0A%20%20%20%20%20%20%20%20%0A%20%20%20%20%0A%20%20%20%20%0A%20%20%20%20%20%20%20%20%20%20%20%20var%20circle_marker_3a8a5b1967c840fcac6dcd3d00f914bb%20%3D%20L.circleMarker%28%0A%20%20%20%20%20%20%20%20%20%20%20%20%20%20%20%20%5B50.40270849282434%2C%204.409848079213098%5D%2C%0A%20%20%20%20%20%20%20%20%20%20%20%20%20%20%20%20%7B%22bubblingMouseEvents%22%3A%20true%2C%20%22color%22%3A%20%22red%22%2C%20%22dashArray%22%3A%20null%2C%20%22dashOffset%22%3A%20null%2C%20%22fill%22%3A%20true%2C%20%22fillColor%22%3A%20%22red%22%2C%20%22fillOpacity%22%3A%200.2%2C%20%22fillRule%22%3A%20%22evenodd%22%2C%20%22lineCap%22%3A%20%22round%22%2C%20%22lineJoin%22%3A%20%22round%22%2C%20%22opacity%22%3A%200.9%2C%20%22radius%22%3A%200.2%2C%20%22stroke%22%3A%20true%2C%20%22weight%22%3A%203%7D%0A%20%20%20%20%20%20%20%20%20%20%20%20%29.addTo%28feature_group_4bac14c6369244cd88d18340f9fa1a5b%29%3B%0A%20%20%20%20%20%20%20%20%0A%20%20%20%20%0A%20%20%20%20%20%20%20%20var%20popup_2a33804d5871411d959890ae1f70aae0%20%3D%20L.popup%28%7B%22maxWidth%22%3A%20%22100%25%22%7D%29%3B%0A%0A%20%20%20%20%20%20%20%20%0A%20%20%20%20%20%20%20%20%20%20%20%20var%20html_d463962d605e41e7b19706e85b4651ec%20%3D%20%24%28%60%3Cdiv%20id%3D%22html_d463962d605e41e7b19706e85b4651ec%22%20style%3D%22width%3A%20100.0%25%3B%20height%3A%20100.0%25%3B%22%3EBH003%3C/div%3E%60%29%5B0%5D%3B%0A%20%20%20%20%20%20%20%20%20%20%20%20popup_2a33804d5871411d959890ae1f70aae0.setContent%28html_d463962d605e41e7b19706e85b4651ec%29%3B%0A%20%20%20%20%20%20%20%20%0A%0A%20%20%20%20%20%20%20%20circle_marker_3a8a5b1967c840fcac6dcd3d00f914bb.bindPopup%28popup_2a33804d5871411d959890ae1f70aae0%29%0A%20%20%20%20%20%20%20%20%3B%0A%0A%20%20%20%20%20%20%20%20%0A%20%20%20%20%0A%20%20%20%20%0A%20%20%20%20%20%20%20%20%20%20%20%20var%20circle_marker_539f899477f249799ca9215abe2a66aa%20%3D%20L.circleMarker%28%0A%20%20%20%20%20%20%20%20%20%20%20%20%20%20%20%20%5B50.40433651424193%2C%204.407655065394905%5D%2C%0A%20%20%20%20%20%20%20%20%20%20%20%20%20%20%20%20%7B%22bubblingMouseEvents%22%3A%20true%2C%20%22color%22%3A%20%22red%22%2C%20%22dashArray%22%3A%20null%2C%20%22dashOffset%22%3A%20null%2C%20%22fill%22%3A%20true%2C%20%22fillColor%22%3A%20%22red%22%2C%20%22fillOpacity%22%3A%200.2%2C%20%22fillRule%22%3A%20%22evenodd%22%2C%20%22lineCap%22%3A%20%22round%22%2C%20%22lineJoin%22%3A%20%22round%22%2C%20%22opacity%22%3A%200.9%2C%20%22radius%22%3A%200.2%2C%20%22stroke%22%3A%20true%2C%20%22weight%22%3A%203%7D%0A%20%20%20%20%20%20%20%20%20%20%20%20%29.addTo%28feature_group_4bac14c6369244cd88d18340f9fa1a5b%29%3B%0A%20%20%20%20%20%20%20%20%0A%20%20%20%20%0A%20%20%20%20%20%20%20%20var%20popup_ea3e2d2526334335b10601578ea888d6%20%3D%20L.popup%28%7B%22maxWidth%22%3A%20%22100%25%22%7D%29%3B%0A%0A%20%20%20%20%20%20%20%20%0A%20%20%20%20%20%20%20%20%20%20%20%20var%20html_1f4c7eb22093481d891823179f4f3555%20%3D%20%24%28%60%3Cdiv%20id%3D%22html_1f4c7eb22093481d891823179f4f3555%22%20style%3D%22width%3A%20100.0%25%3B%20height%3A%20100.0%25%3B%22%3EBH004%3C/div%3E%60%29%5B0%5D%3B%0A%20%20%20%20%20%20%20%20%20%20%20%20popup_ea3e2d2526334335b10601578ea888d6.setContent%28html_1f4c7eb22093481d891823179f4f3555%29%3B%0A%20%20%20%20%20%20%20%20%0A%0A%20%20%20%20%20%20%20%20circle_marker_539f899477f249799ca9215abe2a66aa.bindPopup%28popup_ea3e2d2526334335b10601578ea888d6%29%0A%20%20%20%20%20%20%20%20%3B%0A%0A%20%20%20%20%20%20%20%20%0A%20%20%20%20%0A%20%20%20%20%0A%20%20%20%20%20%20%20%20%20%20%20%20var%20circle_marker_d4d910ec233940a9bff164976540fa22%20%3D%20L.circleMarker%28%0A%20%20%20%20%20%20%20%20%20%20%20%20%20%20%20%20%5B50.404032173705815%2C%204.403533216175507%5D%2C%0A%20%20%20%20%20%20%20%20%20%20%20%20%20%20%20%20%7B%22bubblingMouseEvents%22%3A%20true%2C%20%22color%22%3A%20%22red%22%2C%20%22dashArray%22%3A%20null%2C%20%22dashOffset%22%3A%20null%2C%20%22fill%22%3A%20true%2C%20%22fillColor%22%3A%20%22red%22%2C%20%22fillOpacity%22%3A%200.2%2C%20%22fillRule%22%3A%20%22evenodd%22%2C%20%22lineCap%22%3A%20%22round%22%2C%20%22lineJoin%22%3A%20%22round%22%2C%20%22opacity%22%3A%200.9%2C%20%22radius%22%3A%200.2%2C%20%22stroke%22%3A%20true%2C%20%22weight%22%3A%203%7D%0A%20%20%20%20%20%20%20%20%20%20%20%20%29.addTo%28feature_group_4bac14c6369244cd88d18340f9fa1a5b%29%3B%0A%20%20%20%20%20%20%20%20%0A%20%20%20%20%0A%20%20%20%20%20%20%20%20var%20popup_baebf2872f8b411d8be5ee3676de8da0%20%3D%20L.popup%28%7B%22maxWidth%22%3A%20%22100%25%22%7D%29%3B%0A%0A%20%20%20%20%20%20%20%20%0A%20%20%20%20%20%20%20%20%20%20%20%20var%20html_c5456f233b2648cc85a02e1ee37e574f%20%3D%20%24%28%60%3Cdiv%20id%3D%22html_c5456f233b2648cc85a02e1ee37e574f%22%20style%3D%22width%3A%20100.0%25%3B%20height%3A%20100.0%25%3B%22%3EBH005%3C/div%3E%60%29%5B0%5D%3B%0A%20%20%20%20%20%20%20%20%20%20%20%20popup_baebf2872f8b411d8be5ee3676de8da0.setContent%28html_c5456f233b2648cc85a02e1ee37e574f%29%3B%0A%20%20%20%20%20%20%20%20%0A%0A%20%20%20%20%20%20%20%20circle_marker_d4d910ec233940a9bff164976540fa22.bindPopup%28popup_baebf2872f8b411d8be5ee3676de8da0%29%0A%20%20%20%20%20%20%20%20%3B%0A%0A%20%20%20%20%20%20%20%20%0A%20%20%20%20%0A%20%20%20%20%0A%20%20%20%20%20%20%20%20%20%20%20%20var%20circle_marker_63a9b677e2d44d0e904e55e107c785d9%20%3D%20L.circleMarker%28%0A%20%20%20%20%20%20%20%20%20%20%20%20%20%20%20%20%5B50.39991500588762%2C%204.402151705105076%5D%2C%0A%20%20%20%20%20%20%20%20%20%20%20%20%20%20%20%20%7B%22bubblingMouseEvents%22%3A%20true%2C%20%22color%22%3A%20%22red%22%2C%20%22dashArray%22%3A%20null%2C%20%22dashOffset%22%3A%20null%2C%20%22fill%22%3A%20true%2C%20%22fillColor%22%3A%20%22red%22%2C%20%22fillOpacity%22%3A%200.2%2C%20%22fillRule%22%3A%20%22evenodd%22%2C%20%22lineCap%22%3A%20%22round%22%2C%20%22lineJoin%22%3A%20%22round%22%2C%20%22opacity%22%3A%200.9%2C%20%22radius%22%3A%200.2%2C%20%22stroke%22%3A%20true%2C%20%22weight%22%3A%203%7D%0A%20%20%20%20%20%20%20%20%20%20%20%20%29.addTo%28feature_group_4bac14c6369244cd88d18340f9fa1a5b%29%3B%0A%20%20%20%20%20%20%20%20%0A%20%20%20%20%0A%20%20%20%20%20%20%20%20var%20popup_ee25ccdf99bd4c34ba7e37eeb5e26f54%20%3D%20L.popup%28%7B%22maxWidth%22%3A%20%22100%25%22%7D%29%3B%0A%0A%20%20%20%20%20%20%20%20%0A%20%20%20%20%20%20%20%20%20%20%20%20var%20html_039f5bc8c93d497f9bdf108cee018fb3%20%3D%20%24%28%60%3Cdiv%20id%3D%22html_039f5bc8c93d497f9bdf108cee018fb3%22%20style%3D%22width%3A%20100.0%25%3B%20height%3A%20100.0%25%3B%22%3EBH006%3C/div%3E%60%29%5B0%5D%3B%0A%20%20%20%20%20%20%20%20%20%20%20%20popup_ee25ccdf99bd4c34ba7e37eeb5e26f54.setContent%28html_039f5bc8c93d497f9bdf108cee018fb3%29%3B%0A%20%20%20%20%20%20%20%20%0A%0A%20%20%20%20%20%20%20%20circle_marker_63a9b677e2d44d0e904e55e107c785d9.bindPopup%28popup_ee25ccdf99bd4c34ba7e37eeb5e26f54%29%0A%20%20%20%20%20%20%20%20%3B%0A%0A%20%20%20%20%20%20%20%20%0A%20%20%20%20%0A%20%20%20%20%0A%20%20%20%20%20%20%20%20%20%20%20%20var%20circle_marker_3fb60cc27cb14f0f81aefcc887057399%20%3D%20L.circleMarker%28%0A%20%20%20%20%20%20%20%20%20%20%20%20%20%20%20%20%5B50.40089307563868%2C%204.408046039659416%5D%2C%0A%20%20%20%20%20%20%20%20%20%20%20%20%20%20%20%20%7B%22bubblingMouseEvents%22%3A%20true%2C%20%22color%22%3A%20%22red%22%2C%20%22dashArray%22%3A%20null%2C%20%22dashOffset%22%3A%20null%2C%20%22fill%22%3A%20true%2C%20%22fillColor%22%3A%20%22red%22%2C%20%22fillOpacity%22%3A%200.2%2C%20%22fillRule%22%3A%20%22evenodd%22%2C%20%22lineCap%22%3A%20%22round%22%2C%20%22lineJoin%22%3A%20%22round%22%2C%20%22opacity%22%3A%200.9%2C%20%22radius%22%3A%200.2%2C%20%22stroke%22%3A%20true%2C%20%22weight%22%3A%203%7D%0A%20%20%20%20%20%20%20%20%20%20%20%20%29.addTo%28feature_group_4bac14c6369244cd88d18340f9fa1a5b%29%3B%0A%20%20%20%20%20%20%20%20%0A%20%20%20%20%0A%20%20%20%20%20%20%20%20var%20popup_3457ea9c18954270b8e11368bfcd93c5%20%3D%20L.popup%28%7B%22maxWidth%22%3A%20%22100%25%22%7D%29%3B%0A%0A%20%20%20%20%20%20%20%20%0A%20%20%20%20%20%20%20%20%20%20%20%20var%20html_479160ca40e745f3b8d8fb6be7b216a3%20%3D%20%24%28%60%3Cdiv%20id%3D%22html_479160ca40e745f3b8d8fb6be7b216a3%22%20style%3D%22width%3A%20100.0%25%3B%20height%3A%20100.0%25%3B%22%3EBH007%3C/div%3E%60%29%5B0%5D%3B%0A%20%20%20%20%20%20%20%20%20%20%20%20popup_3457ea9c18954270b8e11368bfcd93c5.setContent%28html_479160ca40e745f3b8d8fb6be7b216a3%29%3B%0A%20%20%20%20%20%20%20%20%0A%0A%20%20%20%20%20%20%20%20circle_marker_3fb60cc27cb14f0f81aefcc887057399.bindPopup%28popup_3457ea9c18954270b8e11368bfcd93c5%29%0A%20%20%20%20%20%20%20%20%3B%0A%0A%20%20%20%20%20%20%20%20%0A%20%20%20%20%0A%20%20%20%20%0A%20%20%20%20%20%20%20%20%20%20%20%20var%20circle_marker_fcd8587581764db89f42c550c766cb0a%20%3D%20L.circleMarker%28%0A%20%20%20%20%20%20%20%20%20%20%20%20%20%20%20%20%5B50.405103323153014%2C%204.398990312569181%5D%2C%0A%20%20%20%20%20%20%20%20%20%20%20%20%20%20%20%20%7B%22bubblingMouseEvents%22%3A%20true%2C%20%22color%22%3A%20%22red%22%2C%20%22dashArray%22%3A%20null%2C%20%22dashOffset%22%3A%20null%2C%20%22fill%22%3A%20true%2C%20%22fillColor%22%3A%20%22red%22%2C%20%22fillOpacity%22%3A%200.2%2C%20%22fillRule%22%3A%20%22evenodd%22%2C%20%22lineCap%22%3A%20%22round%22%2C%20%22lineJoin%22%3A%20%22round%22%2C%20%22opacity%22%3A%200.9%2C%20%22radius%22%3A%200.2%2C%20%22stroke%22%3A%20true%2C%20%22weight%22%3A%203%7D%0A%20%20%20%20%20%20%20%20%20%20%20%20%29.addTo%28feature_group_4bac14c6369244cd88d18340f9fa1a5b%29%3B%0A%20%20%20%20%20%20%20%20%0A%20%20%20%20%0A%20%20%20%20%20%20%20%20var%20popup_58227df1f58c4635b88274639185e505%20%3D%20L.popup%28%7B%22maxWidth%22%3A%20%22100%25%22%7D%29%3B%0A%0A%20%20%20%20%20%20%20%20%0A%20%20%20%20%20%20%20%20%20%20%20%20var%20html_b547b43276e54ddc864b6ee4dbe1895a%20%3D%20%24%28%60%3Cdiv%20id%3D%22html_b547b43276e54ddc864b6ee4dbe1895a%22%20style%3D%22width%3A%20100.0%25%3B%20height%3A%20100.0%25%3B%22%3EBH008%3C/div%3E%60%29%5B0%5D%3B%0A%20%20%20%20%20%20%20%20%20%20%20%20popup_58227df1f58c4635b88274639185e505.setContent%28html_b547b43276e54ddc864b6ee4dbe1895a%29%3B%0A%20%20%20%20%20%20%20%20%0A%0A%20%20%20%20%20%20%20%20circle_marker_fcd8587581764db89f42c550c766cb0a.bindPopup%28popup_58227df1f58c4635b88274639185e505%29%0A%20%20%20%20%20%20%20%20%3B%0A%0A%20%20%20%20%20%20%20%20%0A%20%20%20%20%0A%20%20%20%20%0A%20%20%20%20%20%20%20%20%20%20%20%20var%20circle_marker_92603846f88c4f8f9d2f6f8ccc723057%20%3D%20L.circleMarker%28%0A%20%20%20%20%20%20%20%20%20%20%20%20%20%20%20%20%5B50.40253244229688%2C%204.397610126989354%5D%2C%0A%20%20%20%20%20%20%20%20%20%20%20%20%20%20%20%20%7B%22bubblingMouseEvents%22%3A%20true%2C%20%22color%22%3A%20%22red%22%2C%20%22dashArray%22%3A%20null%2C%20%22dashOffset%22%3A%20null%2C%20%22fill%22%3A%20true%2C%20%22fillColor%22%3A%20%22red%22%2C%20%22fillOpacity%22%3A%200.2%2C%20%22fillRule%22%3A%20%22evenodd%22%2C%20%22lineCap%22%3A%20%22round%22%2C%20%22lineJoin%22%3A%20%22round%22%2C%20%22opacity%22%3A%200.9%2C%20%22radius%22%3A%200.2%2C%20%22stroke%22%3A%20true%2C%20%22weight%22%3A%203%7D%0A%20%20%20%20%20%20%20%20%20%20%20%20%29.addTo%28feature_group_4bac14c6369244cd88d18340f9fa1a5b%29%3B%0A%20%20%20%20%20%20%20%20%0A%20%20%20%20%0A%20%20%20%20%20%20%20%20var%20popup_59abcff6f7e648708dcab29c35fed902%20%3D%20L.popup%28%7B%22maxWidth%22%3A%20%22100%25%22%7D%29%3B%0A%0A%20%20%20%20%20%20%20%20%0A%20%20%20%20%20%20%20%20%20%20%20%20var%20html_db88bbd12f9f4d4a8e1f30a9147e715e%20%3D%20%24%28%60%3Cdiv%20id%3D%22html_db88bbd12f9f4d4a8e1f30a9147e715e%22%20style%3D%22width%3A%20100.0%25%3B%20height%3A%20100.0%25%3B%22%3EBH009%3C/div%3E%60%29%5B0%5D%3B%0A%20%20%20%20%20%20%20%20%20%20%20%20popup_59abcff6f7e648708dcab29c35fed902.setContent%28html_db88bbd12f9f4d4a8e1f30a9147e715e%29%3B%0A%20%20%20%20%20%20%20%20%0A%0A%20%20%20%20%20%20%20%20circle_marker_92603846f88c4f8f9d2f6f8ccc723057.bindPopup%28popup_59abcff6f7e648708dcab29c35fed902%29%0A%20%20%20%20%20%20%20%20%3B%0A%0A%20%20%20%20%20%20%20%20%0A%20%20%20%20%0A%20%20%20%20%0A%20%20%20%20%20%20%20%20%20%20%20%20var%20circle_marker_0716551f04f64f4cbac8a466817dccd6%20%3D%20L.circleMarker%28%0A%20%20%20%20%20%20%20%20%20%20%20%20%20%20%20%20%5B50.40667599264342%2C%204.401312501535724%5D%2C%0A%20%20%20%20%20%20%20%20%20%20%20%20%20%20%20%20%7B%22bubblingMouseEvents%22%3A%20true%2C%20%22color%22%3A%20%22red%22%2C%20%22dashArray%22%3A%20null%2C%20%22dashOffset%22%3A%20null%2C%20%22fill%22%3A%20true%2C%20%22fillColor%22%3A%20%22red%22%2C%20%22fillOpacity%22%3A%200.2%2C%20%22fillRule%22%3A%20%22evenodd%22%2C%20%22lineCap%22%3A%20%22round%22%2C%20%22lineJoin%22%3A%20%22round%22%2C%20%22opacity%22%3A%200.9%2C%20%22radius%22%3A%200.2%2C%20%22stroke%22%3A%20true%2C%20%22weight%22%3A%203%7D%0A%20%20%20%20%20%20%20%20%20%20%20%20%29.addTo%28feature_group_4bac14c6369244cd88d18340f9fa1a5b%29%3B%0A%20%20%20%20%20%20%20%20%0A%20%20%20%20%0A%20%20%20%20%20%20%20%20var%20popup_e863626abe8d40358818d067572df1f5%20%3D%20L.popup%28%7B%22maxWidth%22%3A%20%22100%25%22%7D%29%3B%0A%0A%20%20%20%20%20%20%20%20%0A%20%20%20%20%20%20%20%20%20%20%20%20var%20html_d3de3bc2c45146e089376cabda5f49a8%20%3D%20%24%28%60%3Cdiv%20id%3D%22html_d3de3bc2c45146e089376cabda5f49a8%22%20style%3D%22width%3A%20100.0%25%3B%20height%3A%20100.0%25%3B%22%3EBH10%3C/div%3E%60%29%5B0%5D%3B%0A%20%20%20%20%20%20%20%20%20%20%20%20popup_e863626abe8d40358818d067572df1f5.setContent%28html_d3de3bc2c45146e089376cabda5f49a8%29%3B%0A%20%20%20%20%20%20%20%20%0A%0A%20%20%20%20%20%20%20%20circle_marker_0716551f04f64f4cbac8a466817dccd6.bindPopup%28popup_e863626abe8d40358818d067572df1f5%29%0A%20%20%20%20%20%20%20%20%3B%0A%0A%20%20%20%20%20%20%20%20%0A%20%20%20%20%0A%20%20%20%20%0A%20%20%20%20%20%20%20%20%20%20%20%20var%20layer_control_3c0c366fb59d4cf584021dcd9be188fd%20%3D%20%7B%0A%20%20%20%20%20%20%20%20%20%20%20%20%20%20%20%20base_layers%20%3A%20%7B%0A%20%20%20%20%20%20%20%20%20%20%20%20%20%20%20%20%20%20%20%20%22openstreetmap%22%20%3A%20tile_layer_9ce8b9727ac34d2598a74d46ff7edf42%2C%0A%20%20%20%20%20%20%20%20%20%20%20%20%20%20%20%20%20%20%20%20%22Satellite%22%20%3A%20tile_layer_3cf17456b53f46e3974d81f2a47f1ec5%2C%0A%20%20%20%20%20%20%20%20%20%20%20%20%20%20%20%20%7D%2C%0A%20%20%20%20%20%20%20%20%20%20%20%20%20%20%20%20overlays%20%3A%20%20%7B%0A%20%20%20%20%20%20%20%20%20%20%20%20%20%20%20%20%20%20%20%20%22Boreholes%22%20%3A%20feature_group_4bac14c6369244cd88d18340f9fa1a5b%2C%0A%20%20%20%20%20%20%20%20%20%20%20%20%20%20%20%20%7D%2C%0A%20%20%20%20%20%20%20%20%20%20%20%20%7D%3B%0A%20%20%20%20%20%20%20%20%20%20%20%20L.control.layers%28%0A%20%20%20%20%20%20%20%20%20%20%20%20%20%20%20%20layer_control_3c0c366fb59d4cf584021dcd9be188fd.base_layers%2C%0A%20%20%20%20%20%20%20%20%20%20%20%20%20%20%20%20layer_control_3c0c366fb59d4cf584021dcd9be188fd.overlays%2C%0A%20%20%20%20%20%20%20%20%20%20%20%20%20%20%20%20%7B%22autoZIndex%22%3A%20true%2C%20%22collapsed%22%3A%20true%2C%20%22position%22%3A%20%22topright%22%7D%0A%20%20%20%20%20%20%20%20%20%20%20%20%29.addTo%28map_d1408087ca7749ca93a5b6f3e3d2966b%29%3B%0A%20%20%20%20%20%20%20%20%20%20%20%20tile_layer_3cf17456b53f46e3974d81f2a47f1ec5.remove%28%29%3B%0A%20%20%20%20%20%20%20%20%0A%20%20%20%20%0A%20%20%20%20%20%20%20%20%20%20%20%20var%20tile_layer_ebbbfff0683b40a0ab7661ed155f21b0%20%3D%20L.tileLayer%28%0A%20%20%20%20%20%20%20%20%20%20%20%20%20%20%20%20%22https%3A//%7Bs%7D.tile.openstreetmap.org/%7Bz%7D/%7Bx%7D/%7By%7D.png%22%2C%0A%20%20%20%20%20%20%20%20%20%20%20%20%20%20%20%20%7B%22attribution%22%3A%20%22Data%20by%20%5Cu0026copy%3B%20%5Cu003ca%20href%3D%5C%22http%3A//openstreetmap.org%5C%22%5Cu003eOpenStreetMap%5Cu003c/a%5Cu003e%2C%20under%20%5Cu003ca%20href%3D%5C%22http%3A//www.openstreetmap.org/copyright%5C%22%5Cu003eODbL%5Cu003c/a%5Cu003e.%22%2C%20%22detectRetina%22%3A%20false%2C%20%22maxNativeZoom%22%3A%2018%2C%20%22maxZoom%22%3A%2018%2C%20%22minZoom%22%3A%200%2C%20%22noWrap%22%3A%20false%2C%20%22opacity%22%3A%201%2C%20%22subdomains%22%3A%20%22abc%22%2C%20%22tms%22%3A%20false%7D%0A%20%20%20%20%20%20%20%20%20%20%20%20%29%3B%0A%20%20%20%20%20%20%20%20%20%20%20%20var%20mini_map_9a347b365ea04c3caf54b7fee19eeacd%20%3D%20new%20L.Control.MiniMap%28%0A%20%20%20%20%20%20%20%20%20%20%20%20%20%20%20%20tile_layer_ebbbfff0683b40a0ab7661ed155f21b0%2C%0A%20%20%20%20%20%20%20%20%20%20%20%20%20%20%20%20%7B%22autoToggleDisplay%22%3A%20false%2C%20%22centerFixed%22%3A%20false%2C%20%22collapsedHeight%22%3A%2025%2C%20%22collapsedWidth%22%3A%2025%2C%20%22height%22%3A%20150%2C%20%22minimized%22%3A%20false%2C%20%22position%22%3A%20%22bottomright%22%2C%20%22toggleDisplay%22%3A%20true%2C%20%22width%22%3A%20150%2C%20%22zoomAnimation%22%3A%20false%2C%20%22zoomLevelOffset%22%3A%20-6%7D%0A%20%20%20%20%20%20%20%20%20%20%20%20%29%3B%0A%20%20%20%20%20%20%20%20%20%20%20%20map_d1408087ca7749ca93a5b6f3e3d2966b.addControl%28mini_map_9a347b365ea04c3caf54b7fee19eeacd%29%3B%0A%20%20%20%20%20%20%20%20%0A%3C/script%3E onload=\"this.contentDocument.open();this.contentDocument.write(    decodeURIComponent(this.getAttribute('data-html')));this.contentDocument.close();\" allowfullscreen webkitallowfullscreen mozallowfullscreen></iframe></div></div>"
      ],
      "text/plain": [
       "<folium.folium.Map at 0x7faa66f022b0>"
      ]
     },
     "execution_count": 42,
     "metadata": {},
     "output_type": "execute_result"
    }
   ],
   "source": [
    "p.plot2d()"
   ]
  },
  {
   "cell_type": "markdown",
   "metadata": {},
   "source": [
    "## Plot with another attribute"
   ]
  },
  {
   "cell_type": "code",
   "execution_count": 43,
   "metadata": {},
   "outputs": [
    {
     "name": "stderr",
     "output_type": "stream",
     "text": [
      "/home/yanathan/Projects/GSDMA/utils/visual.py:421: MatplotlibDeprecationWarning: hatch must consist of a string of \"*+-./OX\\ox|\" or None, but found the following invalid values \"'\". Passing invalid values is deprecated since 3.4 and will become an error two minor releases later.\n",
      "  rect = mpl.patches.Rectangle(origin, w, thick, fc=fc, lw=lw, hatch=d.hatch,\n",
      "/home/yanathan/Projects/GSDMA/utils/visual.py:421: MatplotlibDeprecationWarning: hatch must consist of a string of \"*+-./OX\\ox|\" or None, but found the following invalid values \"'=\". Passing invalid values is deprecated since 3.4 and will become an error two minor releases later.\n",
      "  rect = mpl.patches.Rectangle(origin, w, thick, fc=fc, lw=lw, hatch=d.hatch,\n",
      "/home/yanathan/.local/share/virtualenvs/GSDMA-DRfwm83x/lib/python3.8/site-packages/striplog/legend.py:311: MatplotlibDeprecationWarning: hatch must consist of a string of \"*+-./OX\\ox|\" or None, but found the following invalid values \"'=\". Passing invalid values is deprecated since 3.4 and will become an error two minor releases later.\n",
      "  rect1 = patches.Rectangle((0, 0),\n",
      "/home/yanathan/.local/share/virtualenvs/GSDMA-DRfwm83x/lib/python3.8/site-packages/striplog/legend.py:311: MatplotlibDeprecationWarning: hatch must consist of a string of \"*+-./OX\\ox|\" or None, but found the following invalid values \"'\". Passing invalid values is deprecated since 3.4 and will become an error two minor releases later.\n",
      "  rect1 = patches.Rectangle((0, 0),\n"
     ]
    },
    {
     "data": {
      "image/png": "[encoded data removed]",
      "text/plain": [
       "<Figure size 432x432 with 8 Axes>"
      ]
     },
     "metadata": {
      "needs_background": "light"
     },
     "output_type": "display_data"
    }
   ],
   "source": [
    "at = 0\n",
    "p.boreholes_3d[bh].log_plot(repr_attribute=attributes[at])"
   ]
  },
  {
   "cell_type": "code",
   "execution_count": 44,
   "metadata": {
    "scrolled": false
   },
   "outputs": [
    {
     "data": {
      "application/vnd.jupyter.widget-view+json": {
       "model_id": "f5ad4aab8a8d41e3b2df22fc1064a628",
       "version_major": 2,
       "version_minor": 0
      },
      "text/plain": [
       "ViewInteractiveWidget(height=768, layout=Layout(height='auto', width='100%'), width=1024)"
      ]
     },
     "metadata": {},
     "output_type": "display_data"
    }
   ],
   "source": [
    "p.boreholes_3d[bh].plot3d(repr_attribute=attributes[at])"
   ]
  },
  {
   "cell_type": "code",
   "execution_count": 45,
   "metadata": {},
   "outputs": [
    {
     "name": "stdout",
     "output_type": "stream",
     "text": [
      "2021-07-23 21:33:29,115 INFO sqlalchemy.engine.Engine SELECT \"Intervals\".id AS \"Intervals_id\", \"Intervals\".borehole AS \"Intervals_borehole\", \"Intervals\".interval_number AS \"Intervals_interval_number\", \"Intervals\".description AS \"Intervals_description\", \"Intervals\".top_id AS \"Intervals_top_id\", \"Intervals\".base_id AS \"Intervals_base_id\", \"Intervals\".data_id AS \"Intervals_data_id\" \n",
      "FROM \"Intervals\" \n",
      "WHERE ? = \"Intervals\".borehole\n",
      "2021-07-23 21:33:29,117 INFO sqlalchemy.engine.Engine [cached since 1.905s ago] ('BH001',)\n"
     ]
    },
    {
     "data": {
      "text/plain": [
       "{0: '{\"lithology\": \"sable\"}, {\"arsenic\": \"vr\"}, {\"cadmium\": \"vr\"}', 1: '{\"lithology\": \"argile\"}, {\"arsenic\": \"vi\"}, {\"cadmium\": \"vs\"}', 2: '{\"lithology\": \"marne\"}, {\"arsenic\": \"vi\"}, {\"cadmium\": \"vi\"}', 3: '{\"lithology\": \"charbon\"}, {\"arsenic\": \"vi\"}, {\"cadmium\": \"vr\"}'}"
      ]
     },
     "execution_count": 45,
     "metadata": {},
     "output_type": "execute_result"
    }
   ],
   "source": [
    "p.boreholes_orm[0].intervals_values"
   ]
  },
  {
   "cell_type": "code",
   "execution_count": 46,
   "metadata": {},
   "outputs": [
    {
     "data": {
      "text/html": [
       "<table><tr><td style=\"width:2em; background-color:#DDDDDD\" rowspan=\"6\"></td><td><strong>top</strong></td><td>101.0</td></tr><tr><td><strong>primary</strong></td><td><table><tr><td><strong>lithology</strong></td><td>sable</td></tr></table></td></tr><tr><td><strong>summary</strong></td><td>4.00 m of sable with vr with vi</td></tr><tr><td><strong>description</strong></td><td>{\"lithology\": \"sable\"}, {\"arsenic\": \"vr\"}, {\"cadmium\": \"vi\"}</td></tr><tr><td><strong>data</strong></td><td><table></table></td></tr><tr><td><strong>base</strong></td><td>97.0</td></tr></table>"
      ],
      "text/plain": [
       "Interval({'top': Position({'middle': 101.0, 'x': 152794.0, 'y': 121111.0, 'units': 'm'}), 'base': Position({'middle': 97.0, 'x': 152794.0, 'y': 121111.0, 'units': 'm'}), 'description': '{\"lithology\": \"sable\"}, {\"arsenic\": \"vr\"}, {\"cadmium\": \"vi\"}', 'data': {}, 'components': [Component({'lithology': 'sable'}), Component({'arsenic': 'vr'}), Component({'cadmium': 'vi'})]})"
      ]
     },
     "execution_count": 46,
     "metadata": {},
     "output_type": "execute_result"
    }
   ],
   "source": [
    "p.boreholes_3d[bh].intervals[0]"
   ]
  },
  {
   "cell_type": "markdown",
   "metadata": {},
   "source": [
    "### Display project boreholes"
   ]
  },
  {
   "cell_type": "code",
   "execution_count": 47,
   "metadata": {},
   "outputs": [
    {
     "data": {
      "text/html": [
       "<table><tr><th>Header</th><th>Data Arrays</th></tr><tr><td>\n",
       "<table>\n",
       "<tr><th>PolyData</th><th>Information</th></tr>\n",
       "<tr><td>N Cells</td><td>312</td></tr>\n",
       "<tr><td>N Points</td><td>1200</td></tr>\n",
       "<tr><td>X Bounds</td><td>1.528e+05, 1.528e+05</td></tr>\n",
       "<tr><td>Y Bounds</td><td>1.211e+05, 1.211e+05</td></tr>\n",
       "<tr><td>Z Bounds</td><td>5.600e+01, 1.010e+02</td></tr>\n",
       "<tr><td>N Arrays</td><td>6</td></tr>\n",
       "</table>\n",
       "\n",
       "</td><td>\n",
       "<table>\n",
       "<tr><th>Name</th><th>Field</th><th>Type</th><th>N Comp</th><th>Min</th><th>Max</th></tr>\n",
       "<tr><td>TubeNormals</td><td>Points</td><td>float32</td><td>3</td><td>-1.000e+00</td><td>1.000e+00</td></tr>\n",
       "<tr><td>Line Index</td><td>Cells</td><td>int64</td><td>1</td><td>0.000e+00</td><td>5.000e+00</td></tr>\n",
       "<tr><td><b>lithology</b></td><td>Cells</td><td>int64</td><td>1</td><td>0.000e+00</td><td>5.000e+00</td></tr>\n",
       "<tr><td>arsenic</td><td>Cells</td><td>int64</td><td>1</td><td>0.000e+00</td><td>2.000e+00</td></tr>\n",
       "<tr><td>cadmium</td><td>Cells</td><td>int64</td><td>1</td><td>0.000e+00</td><td>3.000e+00</td></tr>\n",
       "<tr><td>Test_legend</td><td>Cells</td><td>int64</td><td>1</td><td>0.000e+00</td><td>5.000e+00</td></tr>\n",
       "</table>\n",
       "\n",
       "</td></tr> </table>"
      ],
      "text/plain": [
       "PolyData (0x7faa6b33d640)\n",
       "  N Cells:\t312\n",
       "  N Points:\t1200\n",
       "  X Bounds:\t1.528e+05, 1.528e+05\n",
       "  Y Bounds:\t1.211e+05, 1.211e+05\n",
       "  Z Bounds:\t5.600e+01, 1.010e+02\n",
       "  N Arrays:\t6"
      ]
     },
     "execution_count": 47,
     "metadata": {},
     "output_type": "execute_result"
    }
   ],
   "source": [
    "bh3d_vtk = p.boreholes_3d[bh]._vtk\n",
    "bh3d_vtk"
   ]
  },
  {
   "cell_type": "code",
   "execution_count": 48,
   "metadata": {
    "scrolled": false
   },
   "outputs": [
    {
     "name": "stdout",
     "output_type": "stream",
     "text": [
      "4 ['sable', 'argile', 'marne', 'charbon']\n",
      "5 ['sable', 'argile', 'marne', 'charbon', 'dolomie']\n",
      "5 ['sable', 'argile', 'marne', 'charbon', 'dolomie']\n",
      "5 ['sable', 'argile', 'marne', 'charbon', 'dolomie']\n",
      "7 ['sable', 'argile', 'marne', 'charbon', 'dolomie', 'schiste', 'calcaire']\n",
      "5 ['sable', 'argile', 'marne', 'charbon', 'dolomie']\n",
      "6 ['sable', 'argile', 'marne', 'charbon', 'dolomie', 'calcaire']\n",
      "5 ['sable', 'argile', 'marne', 'charbon', 'dolomie']\n",
      "5 ['sable', 'argile', 'marne', 'charbon', 'dolomie']\n",
      "3 ['sable', 'argile', 'marne']\n",
      "['sable', 'argile', 'marne', 'charbon', 'dolomie', 'schiste', 'calcaire']\n"
     ]
    },
    {
     "name": "stderr",
     "output_type": "stream",
     "text": [
      "\u001b[0m\u001b[33m2021-07-23 21:33:29.240 (   3.061s) [        AC866740]vtkDataSetAttributes.cx:1296  WARN| vtkPointData (0x5098b80): Can not set attribute Scalars. Only vtkDataArray subclasses can be set as active attributes.\u001b[0m\n"
     ]
    }
   ],
   "source": [
    "at = 0\n",
    "p.plot3d(repr_attribute=attributes[at],  bg_color=[\"royalblue\", \"aliceblue\"], \n",
    "                      window_size=(800, 500))"
   ]
  },
  {
   "cell_type": "markdown",
   "metadata": {},
   "source": [
    "### Boreholes in 3D using X3D for interaction within the notebook"
   ]
  },
  {
   "cell_type": "raw",
   "metadata": {
    "scrolled": false
   },
   "source": [
    "p.plot3d(x3d=True)"
   ]
  },
  {
   "cell_type": "code",
   "execution_count": null,
   "metadata": {},
   "outputs": [],
   "source": []
  }
 ],
 "metadata": {
  "kernelspec": {
   "display_name": "Python 3 (ipykernel)",
   "language": "python",
   "name": "python3"
  },
  "language_info": {
   "codemirror_mode": {
    "name": "ipython",
    "version": 3
   },
   "file_extension": ".py",
   "mimetype": "text/x-python",
   "name": "python",
   "nbconvert_exporter": "python",
   "pygments_lexer": "ipython3",
   "version": "3.8.10"
  }
 },
 "nbformat": 4,
 "nbformat_minor": 4
}
