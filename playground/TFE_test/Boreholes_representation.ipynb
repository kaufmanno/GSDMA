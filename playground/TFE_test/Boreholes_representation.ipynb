{
 "cells": [
  {
   "cell_type": "markdown",
   "metadata": {},
   "source": [
    "# Example of using the Borehole3D class"
   ]
  },
  {
   "cell_type": "markdown",
   "metadata": {},
   "source": [
    "## Imports"
   ]
  },
  {
   "cell_type": "code",
   "execution_count": 1,
   "metadata": {},
   "outputs": [],
   "source": [
    "from striplog import Component, Decor, Legend, Lexicon, Striplog\n",
    "from core.visual import Borehole3D, striplog_legend_to_omf_legend \n",
    "from utils.lexicon.lexicon_memoris import lexicon_memoris, lithology_memoris, pollutants_memoris, CONTAMINATION_LEVELS_MEMORIS\n",
    "from utils.orm import boreholes_from_dataframe\n",
    "from utils.io import dataframe_viewer\n",
    "from core.project import Project\n",
    "from core.orm import BoreholeOrm, PositionOrm, Base \n",
    "import random\n",
    "from os import remove\n",
    "import re\n",
    "import pandas as pd\n",
    "import numpy as np\n",
    "from sqlalchemy import create_engine\n",
    "from sqlalchemy.orm import sessionmaker\n",
    "from definitions import ROOT_DIR"
   ]
  },
  {
   "cell_type": "markdown",
   "metadata": {},
   "source": [
    "## Reading of CSV files in a dir"
   ]
  },
  {
   "cell_type": "code",
   "execution_count": 2,
   "metadata": {},
   "outputs": [],
   "source": [
    "#df = pd.read_csv('test_data_boreholes.csv', sep=',') # use english lexicon\n",
    "df = pd.read_csv('test_litho_fr.csv', sep=',') # use french lexicon"
   ]
  },
  {
   "cell_type": "raw",
   "metadata": {},
   "source": [
    "std_soil = pd.read_csv(ROOT_DIR+'/CF_data/Result_traitem/Memoris_seafile/donnees_Standards_S.csv')\n",
    "std_water = pd.read_csv(ROOT_DIR+'/CF_data/Result_traitem/Memoris_seafile/donnees_Standards_W.csv')"
   ]
  },
  {
   "cell_type": "raw",
   "metadata": {},
   "source": [
    "all_pollutants = std_soil['Polluant'].apply(lambda x: re.sub('é|è','e', x).rstrip(' ').lower()).to_list()\n",
    "all_pollutants"
   ]
  },
  {
   "cell_type": "code",
   "execution_count": 3,
   "metadata": {},
   "outputs": [],
   "source": [
    "all_pollutants = pollutants_memoris.pollutant"
   ]
  },
  {
   "cell_type": "raw",
   "metadata": {},
   "source": [
    "print(all_pollutants)"
   ]
  },
  {
   "cell_type": "markdown",
   "metadata": {},
   "source": [
    "## Data Checking"
   ]
  },
  {
   "cell_type": "code",
   "execution_count": 4,
   "metadata": {},
   "outputs": [],
   "source": [
    "#df[['Pollutant', 'Concentration']] = ''\n",
    "df.drop(columns=['Pollutant', 'Concentration', 'Unit'], inplace=True)\n",
    "#df['Concentration'] = df['Concentration'].apply(lambda x: np.random.randint(0,100))\n",
    "#df['Unit'] = 'mg/l'"
   ]
  },
  {
   "cell_type": "code",
   "execution_count": 5,
   "metadata": {},
   "outputs": [],
   "source": [
    "pol_lev = ['VR','VS','VI', 'Inconnu']\n",
    "df[all_pollutants[0:2]] = ''\n",
    "df[all_pollutants[0]] = df[all_pollutants[0]].apply(lambda x: random.sample(pol_lev, 1)[0])\n",
    "df[all_pollutants[1]] = df[all_pollutants[1]].apply(lambda x: random.sample(pol_lev, 1)[0])"
   ]
  },
  {
   "cell_type": "code",
   "execution_count": 6,
   "metadata": {},
   "outputs": [],
   "source": [
    "df['Lithology'] = df['Lithology'].replace({'Grès':'Marne', 'Calcaire':'Dolomie'})"
   ]
  },
  {
   "cell_type": "code",
   "execution_count": 7,
   "metadata": {},
   "outputs": [],
   "source": [
    "df.loc[35.5, :] = ['BH007',152794.0, 121111.0, 60.0, 0.57, 45, 'Calcaire', 'Bleu', 4, 41, 45, 'VS', 'VR']\n",
    "df.loc[25.5, :] = ['BH005',152473.0, 121460.0, 72.0, 0.61, 32, 'Schiste', 'gris', 3, 29, 32, 'VI', 'VR']\n",
    "df.loc[25.6, :] = ['BH005',152473.0, 121460.0, 68.0, 0.61, 36, 'Calcaire', 'Bleu', 4, 32, 36, 'Inconnu', 'VR']\n",
    "\n",
    "df.drop(index=4, inplace=True)\n",
    "df.drop(columns='Colour', inplace=True)\n",
    "df = df.sort_index().reset_index(drop=True)"
   ]
  },
  {
   "cell_type": "code",
   "execution_count": 8,
   "metadata": {},
   "outputs": [],
   "source": [
    "pollutants = [p for p in all_pollutants if p in df.columns]"
   ]
  },
  {
   "cell_type": "code",
   "execution_count": 9,
   "metadata": {},
   "outputs": [
    {
     "name": "stdout",
     "output_type": "stream",
     "text": [
      "Rows : 997, columns : 12\n"
     ]
    },
    {
     "data": {
      "application/vnd.jupyter.widget-view+json": {
       "model_id": "7a1dc1e2fdfb43cb9d79dd495f4be740",
       "version_major": 2,
       "version_minor": 0
      },
      "text/plain": [
       "interactive(children=(IntSlider(value=10, description='rows', max=997, min=10, readout=False), IntSlider(value…"
      ]
     },
     "metadata": {},
     "output_type": "display_data"
    }
   ],
   "source": [
    "dataframe_viewer(df)"
   ]
  },
  {
   "cell_type": "raw",
   "metadata": {},
   "source": [
    "df.to_csv('test_litho_fr.csv', index=False)"
   ]
  },
  {
   "cell_type": "raw",
   "metadata": {},
   "source": [
    "df.query('X==152013.0 and Y==121905.0')"
   ]
  },
  {
   "cell_type": "markdown",
   "metadata": {},
   "source": [
    "## Create Boreholes from dataframes or files"
   ]
  },
  {
   "cell_type": "code",
   "execution_count": 10,
   "metadata": {
    "scrolled": true
   },
   "outputs": [
    {
     "name": "stdout",
     "output_type": "stream",
     "text": [
      "\n",
      "Dataframe processing...\n",
      "================================\n",
      "\n",
      "|__ID:'BH001'\n",
      "Summary : [Striplog(4 Intervals, start=0.0, stop=28.0)]\n",
      "\n",
      "|__ID:'BH002'\n",
      "Summary : [Striplog(5 Intervals, start=0.0, stop=37.0)]\n",
      "\n",
      "|__ID:'BH003'\n",
      "Summary : [Striplog(5 Intervals, start=0.0, stop=18.0)]\n",
      "\n",
      "|__ID:'BH004'\n",
      "Summary : [Striplog(5 Intervals, start=0.0, stop=26.0)]\n",
      "\n",
      "|__ID:'BH005'\n",
      "Summary : [Striplog(7 Intervals, start=0.0, stop=36.0)]\n",
      "\n",
      "|__ID:'BH006'\n",
      "Summary : [Striplog(5 Intervals, start=0.0, stop=26.0)]\n",
      "\n",
      "|__ID:'BH007'\n",
      "Summary : [Striplog(6 Intervals, start=0.0, stop=45.0)]\n",
      "\n",
      "|__ID:'BH008'\n",
      "Summary : [Striplog(5 Intervals, start=0.0, stop=35.0)]\n",
      "\n",
      "|__ID:'BH009'\n",
      "Summary : [Striplog(5 Intervals, start=0.0, stop=40.0)]\n",
      "\n",
      "|__ID:'BH10'\n",
      "Summary : [Striplog(3 Intervals, start=0.0, stop=11.0)]\n",
      "\n",
      "End of the process : 10 unique ID found\n"
     ]
    },
    {
     "name": "stderr",
     "output_type": "stream",
     "text": [
      "/home/yanathan/Projects/GSDMA/utils/orm.py:126: SAWarning: relationship 'ComponentOrm.intervals' will copy column Components.id to column Linkintervalcomponent.comp_id, which conflicts with relationship(s): 'IntervalOrm.components' (copies Components.id to Linkintervalcomponent.comp_id). If this is not the intention, consider if these relationships should be linked with back_populates, or if viewonly=True should be applied to one or more if they are read-only. For the less common case that foreign key constraints are partially overlapping, the orm.foreign() annotation can be used to isolate the columns that should be written towards.   To silence this warning, add the parameter 'overlaps=\"components\"' to the 'ComponentOrm.intervals' relationship.\n",
      "  boreholes_orm.append(BoreholeOrm(id=bh_name, date=bh_date))\n",
      "/home/yanathan/Projects/GSDMA/utils/orm.py:126: SAWarning: relationship 'ComponentOrm.intervals' will copy column Intervals.id to column Linkintervalcomponent.intv_id, which conflicts with relationship(s): 'IntervalOrm.components' (copies Intervals.id to Linkintervalcomponent.intv_id). If this is not the intention, consider if these relationships should be linked with back_populates, or if viewonly=True should be applied to one or more if they are read-only. For the less common case that foreign key constraints are partially overlapping, the orm.foreign() annotation can be used to isolate the columns that should be written towards.   To silence this warning, add the parameter 'overlaps=\"components\"' to the 'ComponentOrm.intervals' relationship.\n",
      "  boreholes_orm.append(BoreholeOrm(id=bh_name, date=bh_date))\n",
      "/home/yanathan/Projects/GSDMA/utils/orm.py:126: SAWarning: relationship 'ComponentOrm.component_assoc' will copy column Components.id to column Linkintervalcomponent.comp_id, which conflicts with relationship(s): 'ComponentOrm.intervals' (copies Components.id to Linkintervalcomponent.comp_id), 'IntervalOrm.components' (copies Components.id to Linkintervalcomponent.comp_id). If this is not the intention, consider if these relationships should be linked with back_populates, or if viewonly=True should be applied to one or more if they are read-only. For the less common case that foreign key constraints are partially overlapping, the orm.foreign() annotation can be used to isolate the columns that should be written towards.   To silence this warning, add the parameter 'overlaps=\"components,intervals\"' to the 'ComponentOrm.component_assoc' relationship.\n",
      "  boreholes_orm.append(BoreholeOrm(id=bh_name, date=bh_date))\n",
      "/home/yanathan/Projects/GSDMA/utils/orm.py:126: SAWarning: relationship 'LinkIntervalComponentOrm.component' will copy column Components.id to column Linkintervalcomponent.comp_id, which conflicts with relationship(s): 'ComponentOrm.intervals' (copies Components.id to Linkintervalcomponent.comp_id), 'IntervalOrm.components' (copies Components.id to Linkintervalcomponent.comp_id). If this is not the intention, consider if these relationships should be linked with back_populates, or if viewonly=True should be applied to one or more if they are read-only. For the less common case that foreign key constraints are partially overlapping, the orm.foreign() annotation can be used to isolate the columns that should be written towards.   To silence this warning, add the parameter 'overlaps=\"components,intervals\"' to the 'LinkIntervalComponentOrm.component' relationship.\n",
      "  boreholes_orm.append(BoreholeOrm(id=bh_name, date=bh_date))\n",
      "/home/yanathan/Projects/GSDMA/utils/orm.py:126: SAWarning: relationship 'IntervalOrm.interval_assoc' will copy column Intervals.id to column Linkintervalcomponent.intv_id, which conflicts with relationship(s): 'ComponentOrm.intervals' (copies Intervals.id to Linkintervalcomponent.intv_id), 'IntervalOrm.components' (copies Intervals.id to Linkintervalcomponent.intv_id). If this is not the intention, consider if these relationships should be linked with back_populates, or if viewonly=True should be applied to one or more if they are read-only. For the less common case that foreign key constraints are partially overlapping, the orm.foreign() annotation can be used to isolate the columns that should be written towards.   To silence this warning, add the parameter 'overlaps=\"components,intervals\"' to the 'IntervalOrm.interval_assoc' relationship.\n",
      "  boreholes_orm.append(BoreholeOrm(id=bh_name, date=bh_date))\n",
      "/home/yanathan/Projects/GSDMA/utils/orm.py:126: SAWarning: relationship 'LinkIntervalComponentOrm.interval' will copy column Intervals.id to column Linkintervalcomponent.intv_id, which conflicts with relationship(s): 'ComponentOrm.intervals' (copies Intervals.id to Linkintervalcomponent.intv_id), 'IntervalOrm.components' (copies Intervals.id to Linkintervalcomponent.intv_id). If this is not the intention, consider if these relationships should be linked with back_populates, or if viewonly=True should be applied to one or more if they are read-only. For the less common case that foreign key constraints are partially overlapping, the orm.foreign() annotation can be used to isolate the columns that should be written towards.   To silence this warning, add the parameter 'overlaps=\"components,intervals\"' to the 'LinkIntervalComponentOrm.interval' relationship.\n",
      "  boreholes_orm.append(BoreholeOrm(id=bh_name, date=bh_date))\n"
     ]
    }
   ],
   "source": [
    "boreholes, components, link_intv_comp = boreholes_from_dataframe(df[:50], verbose=False,\n",
    "                                                attributes=['Lithology']+pollutants, \n",
    "                                                symbols={'lithology':{'lexicon':lexicon_memoris}}, \n",
    "                                                diameter='Diameter', thickness='Thickness')"
   ]
  },
  {
   "cell_type": "code",
   "execution_count": 11,
   "metadata": {},
   "outputs": [
    {
     "data": {
      "text/plain": [
       "[<core.orm.BoreholeOrm>(Name=BH001, Length=28.0, Diameter=0.43, Intervals=4),\n",
       " <core.orm.BoreholeOrm>(Name=BH002, Length=37.0, Diameter=0.6, Intervals=5),\n",
       " <core.orm.BoreholeOrm>(Name=BH003, Length=18.0, Diameter=0.41, Intervals=5),\n",
       " <core.orm.BoreholeOrm>(Name=BH004, Length=26.0, Diameter=0.61, Intervals=5),\n",
       " <core.orm.BoreholeOrm>(Name=BH005, Length=36.0, Diameter=0.61, Intervals=7),\n",
       " <core.orm.BoreholeOrm>(Name=BH006, Length=26.0, Diameter=0.31, Intervals=5),\n",
       " <core.orm.BoreholeOrm>(Name=BH007, Length=45.0, Diameter=0.57, Intervals=6),\n",
       " <core.orm.BoreholeOrm>(Name=BH008, Length=35.0, Diameter=0.39, Intervals=5),\n",
       " <core.orm.BoreholeOrm>(Name=BH009, Length=40.0, Diameter=0.5, Intervals=5),\n",
       " <core.orm.BoreholeOrm>(Name=BH10, Length=11.0, Diameter=0.31, Intervals=3)]"
      ]
     },
     "execution_count": 11,
     "metadata": {},
     "output_type": "execute_result"
    }
   ],
   "source": [
    "boreholes"
   ]
  },
  {
   "cell_type": "code",
   "execution_count": 12,
   "metadata": {},
   "outputs": [
    {
     "data": {
      "text/plain": [
       "{0: Component({'lithology': 'sable'}),\n",
       " 1: Component({'arsenic': 'vs'}),\n",
       " 2: Component({'cadmium': 'vr'}),\n",
       " 3: Component({'lithology': 'argile'}),\n",
       " 4: Component({'lithology': 'marne'}),\n",
       " 5: Component({'arsenic': 'inconnu'}),\n",
       " 6: Component({'lithology': 'charbon'}),\n",
       " 7: Component({'arsenic': 'vi'}),\n",
       " 8: Component({'arsenic': 'vr'}),\n",
       " 9: Component({'cadmium': 'inconnu'}),\n",
       " 10: Component({'lithology': 'dolomie'}),\n",
       " 11: Component({'cadmium': 'vi'}),\n",
       " 12: Component({'cadmium': 'vs'}),\n",
       " 13: Component({'lithology': 'schiste'}),\n",
       " 14: Component({'lithology': 'calcaire'})}"
      ]
     },
     "execution_count": 12,
     "metadata": {},
     "output_type": "execute_result"
    }
   ],
   "source": [
    "components"
   ]
  },
  {
   "cell_type": "code",
   "execution_count": 13,
   "metadata": {},
   "outputs": [
    {
     "data": {
      "text/plain": [
       "{(0, 0): {'extra_data': ''},\n",
       " (0, 1): {'extra_data': ''},\n",
       " (0, 2): {'extra_data': ''},\n",
       " (1, 3): {'extra_data': ''},\n",
       " (1, 1): {'extra_data': ''},\n",
       " (1, 2): {'extra_data': ''},\n",
       " (2, 4): {'extra_data': ''},\n",
       " (2, 5): {'extra_data': ''},\n",
       " (2, 2): {'extra_data': ''},\n",
       " (3, 6): {'extra_data': ''},\n",
       " (3, 7): {'extra_data': ''},\n",
       " (3, 2): {'extra_data': ''},\n",
       " (4, 0): {'extra_data': ''},\n",
       " (4, 8): {'extra_data': ''},\n",
       " (4, 2): {'extra_data': ''},\n",
       " (5, 3): {'extra_data': ''},\n",
       " (5, 5): {'extra_data': ''},\n",
       " (5, 2): {'extra_data': ''},\n",
       " (6, 4): {'extra_data': ''},\n",
       " (6, 7): {'extra_data': ''},\n",
       " (6, 9): {'extra_data': ''},\n",
       " (7, 6): {'extra_data': ''},\n",
       " (7, 7): {'extra_data': ''},\n",
       " (7, 2): {'extra_data': ''},\n",
       " (8, 10): {'extra_data': ''},\n",
       " (8, 1): {'extra_data': ''},\n",
       " (8, 9): {'extra_data': ''},\n",
       " (9, 0): {'extra_data': ''},\n",
       " (9, 8): {'extra_data': ''},\n",
       " (9, 11): {'extra_data': ''},\n",
       " (10, 3): {'extra_data': ''},\n",
       " (10, 1): {'extra_data': ''},\n",
       " (10, 2): {'extra_data': ''},\n",
       " (11, 4): {'extra_data': ''},\n",
       " (11, 7): {'extra_data': ''},\n",
       " (11, 2): {'extra_data': ''},\n",
       " (12, 6): {'extra_data': ''},\n",
       " (12, 8): {'extra_data': ''},\n",
       " (12, 2): {'extra_data': ''},\n",
       " (13, 10): {'extra_data': ''},\n",
       " (13, 1): {'extra_data': ''},\n",
       " (13, 2): {'extra_data': ''},\n",
       " (14, 0): {'extra_data': ''},\n",
       " (14, 8): {'extra_data': ''},\n",
       " (14, 2): {'extra_data': ''},\n",
       " (15, 3): {'extra_data': ''},\n",
       " (15, 7): {'extra_data': ''},\n",
       " (15, 9): {'extra_data': ''},\n",
       " (16, 4): {'extra_data': ''},\n",
       " (16, 1): {'extra_data': ''},\n",
       " (16, 9): {'extra_data': ''},\n",
       " (17, 6): {'extra_data': ''},\n",
       " (17, 8): {'extra_data': ''},\n",
       " (17, 2): {'extra_data': ''},\n",
       " (18, 10): {'extra_data': ''},\n",
       " (18, 5): {'extra_data': ''},\n",
       " (18, 2): {'extra_data': ''},\n",
       " (19, 0): {'extra_data': ''},\n",
       " (19, 5): {'extra_data': ''},\n",
       " (19, 9): {'extra_data': ''},\n",
       " (20, 3): {'extra_data': ''},\n",
       " (20, 8): {'extra_data': ''},\n",
       " (20, 12): {'extra_data': ''},\n",
       " (21, 4): {'extra_data': ''},\n",
       " (21, 7): {'extra_data': ''},\n",
       " (21, 12): {'extra_data': ''},\n",
       " (22, 6): {'extra_data': ''},\n",
       " (22, 1): {'extra_data': ''},\n",
       " (22, 9): {'extra_data': ''},\n",
       " (23, 10): {'extra_data': ''},\n",
       " (23, 7): {'extra_data': ''},\n",
       " (23, 12): {'extra_data': ''},\n",
       " (24, 13): {'extra_data': ''},\n",
       " (24, 7): {'extra_data': ''},\n",
       " (24, 2): {'extra_data': ''},\n",
       " (25, 14): {'extra_data': ''},\n",
       " (25, 5): {'extra_data': ''},\n",
       " (25, 2): {'extra_data': ''},\n",
       " (26, 0): {'extra_data': ''},\n",
       " (26, 8): {'extra_data': ''},\n",
       " (26, 2): {'extra_data': ''},\n",
       " (27, 3): {'extra_data': ''},\n",
       " (27, 8): {'extra_data': ''},\n",
       " (27, 11): {'extra_data': ''},\n",
       " (28, 4): {'extra_data': ''},\n",
       " (28, 7): {'extra_data': ''},\n",
       " (28, 12): {'extra_data': ''},\n",
       " (29, 6): {'extra_data': ''},\n",
       " (29, 8): {'extra_data': ''},\n",
       " (29, 12): {'extra_data': ''},\n",
       " (30, 10): {'extra_data': ''},\n",
       " (30, 7): {'extra_data': ''},\n",
       " (30, 11): {'extra_data': ''},\n",
       " (31, 0): {'extra_data': ''},\n",
       " (31, 7): {'extra_data': ''},\n",
       " (31, 2): {'extra_data': ''},\n",
       " (32, 3): {'extra_data': ''},\n",
       " (32, 5): {'extra_data': ''},\n",
       " (32, 12): {'extra_data': ''},\n",
       " (33, 4): {'extra_data': ''},\n",
       " (33, 1): {'extra_data': ''},\n",
       " (33, 2): {'extra_data': ''},\n",
       " (34, 6): {'extra_data': ''},\n",
       " (34, 8): {'extra_data': ''},\n",
       " (34, 2): {'extra_data': ''},\n",
       " (35, 10): {'extra_data': ''},\n",
       " (35, 5): {'extra_data': ''},\n",
       " (35, 9): {'extra_data': ''},\n",
       " (36, 14): {'extra_data': ''},\n",
       " (36, 1): {'extra_data': ''},\n",
       " (36, 2): {'extra_data': ''},\n",
       " (37, 0): {'extra_data': ''},\n",
       " (37, 1): {'extra_data': ''},\n",
       " (37, 2): {'extra_data': ''},\n",
       " (38, 3): {'extra_data': ''},\n",
       " (38, 5): {'extra_data': ''},\n",
       " (38, 9): {'extra_data': ''},\n",
       " (39, 4): {'extra_data': ''},\n",
       " (39, 8): {'extra_data': ''},\n",
       " (39, 2): {'extra_data': ''},\n",
       " (40, 6): {'extra_data': ''},\n",
       " (40, 7): {'extra_data': ''},\n",
       " (40, 12): {'extra_data': ''},\n",
       " (41, 10): {'extra_data': ''},\n",
       " (41, 1): {'extra_data': ''},\n",
       " (41, 11): {'extra_data': ''},\n",
       " (42, 0): {'extra_data': ''},\n",
       " (42, 7): {'extra_data': ''},\n",
       " (42, 12): {'extra_data': ''},\n",
       " (43, 3): {'extra_data': ''},\n",
       " (43, 1): {'extra_data': ''},\n",
       " (43, 11): {'extra_data': ''},\n",
       " (44, 4): {'extra_data': ''},\n",
       " (44, 8): {'extra_data': ''},\n",
       " (44, 11): {'extra_data': ''},\n",
       " (45, 6): {'extra_data': ''},\n",
       " (45, 8): {'extra_data': ''},\n",
       " (45, 9): {'extra_data': ''},\n",
       " (46, 10): {'extra_data': ''},\n",
       " (46, 1): {'extra_data': ''},\n",
       " (46, 9): {'extra_data': ''},\n",
       " (47, 0): {'extra_data': ''},\n",
       " (47, 5): {'extra_data': ''},\n",
       " (47, 9): {'extra_data': ''},\n",
       " (48, 3): {'extra_data': ''},\n",
       " (48, 7): {'extra_data': ''},\n",
       " (48, 2): {'extra_data': ''},\n",
       " (49, 4): {'extra_data': ''},\n",
       " (49, 5): {'extra_data': ''},\n",
       " (49, 11): {'extra_data': ''}}"
      ]
     },
     "execution_count": 13,
     "metadata": {},
     "output_type": "execute_result"
    }
   ],
   "source": [
    "link_intv_comp"
   ]
  },
  {
   "cell_type": "code",
   "execution_count": 14,
   "metadata": {},
   "outputs": [],
   "source": [
    "link_intv_comp[(0, 0)]['extra_data'] = \"{'porosite':1, 'densite':1.8}\""
   ]
  },
  {
   "cell_type": "code",
   "execution_count": 15,
   "metadata": {},
   "outputs": [
    {
     "data": {
      "text/plain": [
       "(10, 15)"
      ]
     },
     "execution_count": 15,
     "metadata": {},
     "output_type": "execute_result"
    }
   ],
   "source": [
    "len(boreholes), len(components)"
   ]
  },
  {
   "cell_type": "markdown",
   "metadata": {},
   "source": [
    "## Create a project and save data in a database"
   ]
  },
  {
   "cell_type": "code",
   "execution_count": 16,
   "metadata": {},
   "outputs": [],
   "source": [
    "remove('tmp_files/tfe_orm_db.db')"
   ]
  },
  {
   "cell_type": "code",
   "execution_count": 17,
   "metadata": {},
   "outputs": [],
   "source": [
    "engine = create_engine('sqlite:///tmp_files/tfe_orm_db.db', echo=True)"
   ]
  },
  {
   "cell_type": "code",
   "execution_count": 18,
   "metadata": {
    "scrolled": true
   },
   "outputs": [
    {
     "name": "stdout",
     "output_type": "stream",
     "text": [
      "2021-08-07 23:16:52,549 INFO sqlalchemy.engine.Engine BEGIN (implicit)\n",
      "2021-08-07 23:16:52,550 INFO sqlalchemy.engine.Engine PRAGMA main.table_info(\"Boreholes\")\n",
      "2021-08-07 23:16:52,550 INFO sqlalchemy.engine.Engine [raw sql] ()\n",
      "2021-08-07 23:16:52,552 INFO sqlalchemy.engine.Engine PRAGMA temp.table_info(\"Boreholes\")\n",
      "2021-08-07 23:16:52,553 INFO sqlalchemy.engine.Engine [raw sql] ()\n",
      "2021-08-07 23:16:52,555 INFO sqlalchemy.engine.Engine PRAGMA main.table_info(\"Intervals\")\n",
      "2021-08-07 23:16:52,556 INFO sqlalchemy.engine.Engine [raw sql] ()\n",
      "2021-08-07 23:16:52,557 INFO sqlalchemy.engine.Engine PRAGMA temp.table_info(\"Intervals\")\n",
      "2021-08-07 23:16:52,557 INFO sqlalchemy.engine.Engine [raw sql] ()\n",
      "2021-08-07 23:16:52,558 INFO sqlalchemy.engine.Engine PRAGMA main.table_info(\"Components\")\n",
      "2021-08-07 23:16:52,558 INFO sqlalchemy.engine.Engine [raw sql] ()\n",
      "2021-08-07 23:16:52,559 INFO sqlalchemy.engine.Engine PRAGMA temp.table_info(\"Components\")\n",
      "2021-08-07 23:16:52,560 INFO sqlalchemy.engine.Engine [raw sql] ()\n",
      "2021-08-07 23:16:52,561 INFO sqlalchemy.engine.Engine PRAGMA main.table_info(\"Linkintervalcomponent\")\n",
      "2021-08-07 23:16:52,562 INFO sqlalchemy.engine.Engine [raw sql] ()\n",
      "2021-08-07 23:16:52,562 INFO sqlalchemy.engine.Engine PRAGMA temp.table_info(\"Linkintervalcomponent\")\n",
      "2021-08-07 23:16:52,563 INFO sqlalchemy.engine.Engine [raw sql] ()\n",
      "2021-08-07 23:16:52,564 INFO sqlalchemy.engine.Engine PRAGMA main.table_info(\"Positions\")\n",
      "2021-08-07 23:16:52,564 INFO sqlalchemy.engine.Engine [raw sql] ()\n",
      "2021-08-07 23:16:52,565 INFO sqlalchemy.engine.Engine PRAGMA temp.table_info(\"Positions\")\n",
      "2021-08-07 23:16:52,565 INFO sqlalchemy.engine.Engine [raw sql] ()\n",
      "2021-08-07 23:16:52,566 INFO sqlalchemy.engine.Engine PRAGMA main.table_info(\"IntervalData\")\n",
      "2021-08-07 23:16:52,567 INFO sqlalchemy.engine.Engine [raw sql] ()\n",
      "2021-08-07 23:16:52,568 INFO sqlalchemy.engine.Engine PRAGMA temp.table_info(\"IntervalData\")\n",
      "2021-08-07 23:16:52,569 INFO sqlalchemy.engine.Engine [raw sql] ()\n",
      "2021-08-07 23:16:52,572 INFO sqlalchemy.engine.Engine \n",
      "CREATE TABLE \"Boreholes\" (\n",
      "\tid VARCHAR(32) NOT NULL, \n",
      "\tdate VARCHAR(32), \n",
      "\tlength FLOAT, \n",
      "\tdiameter FLOAT, \n",
      "\tPRIMARY KEY (id)\n",
      ")\n",
      "\n",
      "\n",
      "2021-08-07 23:16:52,573 INFO sqlalchemy.engine.Engine [no key 0.00076s] ()\n",
      "2021-08-07 23:16:52,578 INFO sqlalchemy.engine.Engine \n",
      "CREATE TABLE \"Intervals\" (\n",
      "\tid INTEGER NOT NULL, \n",
      "\tborehole VARCHAR(32), \n",
      "\tinterval_number INTEGER, \n",
      "\tdescription VARCHAR(32), \n",
      "\ttop_id INTEGER, \n",
      "\tbase_id INTEGER, \n",
      "\tdata_id INTEGER, \n",
      "\tPRIMARY KEY (id), \n",
      "\tFOREIGN KEY(borehole) REFERENCES \"Boreholes\" (id), \n",
      "\tFOREIGN KEY(top_id) REFERENCES \"Positions\" (id), \n",
      "\tFOREIGN KEY(base_id) REFERENCES \"Positions\" (id), \n",
      "\tFOREIGN KEY(data_id) REFERENCES \"IntervalData\" (id)\n",
      ")\n",
      "\n",
      "\n",
      "2021-08-07 23:16:52,579 INFO sqlalchemy.engine.Engine [no key 0.00084s] ()\n",
      "2021-08-07 23:16:52,584 INFO sqlalchemy.engine.Engine \n",
      "CREATE TABLE \"Components\" (\n",
      "\tid INTEGER NOT NULL, \n",
      "\tdescription VARCHAR(32), \n",
      "\tPRIMARY KEY (id)\n",
      ")\n",
      "\n",
      "\n",
      "2021-08-07 23:16:52,585 INFO sqlalchemy.engine.Engine [no key 0.00113s] ()\n",
      "2021-08-07 23:16:52,590 INFO sqlalchemy.engine.Engine \n",
      "CREATE TABLE \"Positions\" (\n",
      "\tid INTEGER NOT NULL, \n",
      "\tupper FLOAT, \n",
      "\tmiddle FLOAT, \n",
      "\tlower FLOAT, \n",
      "\tx FLOAT, \n",
      "\ty FLOAT, \n",
      "\tPRIMARY KEY (id)\n",
      ")\n",
      "\n",
      "\n",
      "2021-08-07 23:16:52,590 INFO sqlalchemy.engine.Engine [no key 0.00078s] ()\n",
      "2021-08-07 23:16:52,595 INFO sqlalchemy.engine.Engine \n",
      "CREATE TABLE \"IntervalData\" (\n",
      "\tid INTEGER NOT NULL, \n",
      "\tinterval INTEGER, \n",
      "\t\"key\" VARCHAR(32), \n",
      "\tvalue FLOAT, \n",
      "\tunits VARCHAR(32), \n",
      "\tPRIMARY KEY (id), \n",
      "\tFOREIGN KEY(interval) REFERENCES \"Intervals\" (id)\n",
      ")\n",
      "\n",
      "\n",
      "2021-08-07 23:16:52,596 INFO sqlalchemy.engine.Engine [no key 0.00116s] ()\n",
      "2021-08-07 23:16:52,600 INFO sqlalchemy.engine.Engine \n",
      "CREATE TABLE \"Linkintervalcomponent\" (\n",
      "\tintv_id INTEGER NOT NULL, \n",
      "\tcomp_id INTEGER NOT NULL, \n",
      "\textra_data VARCHAR(256), \n",
      "\tPRIMARY KEY (intv_id, comp_id), \n",
      "\tFOREIGN KEY(intv_id) REFERENCES \"Intervals\" (id), \n",
      "\tFOREIGN KEY(comp_id) REFERENCES \"Components\" (id)\n",
      ")\n",
      "\n",
      "\n",
      "2021-08-07 23:16:52,601 INFO sqlalchemy.engine.Engine [no key 0.00101s] ()\n",
      "2021-08-07 23:16:52,606 INFO sqlalchemy.engine.Engine COMMIT\n"
     ]
    }
   ],
   "source": [
    "Base.metadata.create_all(engine)"
   ]
  },
  {
   "cell_type": "code",
   "execution_count": 19,
   "metadata": {},
   "outputs": [],
   "source": [
    "Session = sessionmaker(bind=engine)\n",
    "session = Session()"
   ]
  },
  {
   "cell_type": "markdown",
   "metadata": {},
   "source": [
    "## Define project legend(s) and default attribute for representation"
   ]
  },
  {
   "cell_type": "code",
   "execution_count": 20,
   "metadata": {},
   "outputs": [],
   "source": [
    "leg_dict = {**{'lithology':{'legend':lithology_memoris}},**{k:{'legend':None} for k in pollutants}}"
   ]
  },
  {
   "cell_type": "code",
   "execution_count": 21,
   "metadata": {},
   "outputs": [
    {
     "name": "stdout",
     "output_type": "stream",
     "text": [
      "2021-08-07 23:16:52,627 INFO sqlalchemy.engine.Engine BEGIN (implicit)\n",
      "2021-08-07 23:16:52,631 INFO sqlalchemy.engine.Engine SELECT \"Boreholes\".id AS \"Boreholes_id\", \"Boreholes\".date AS \"Boreholes_date\", \"Boreholes\".length AS \"Boreholes_length\", \"Boreholes\".diameter AS \"Boreholes_diameter\" \n",
      "FROM \"Boreholes\"\n",
      "2021-08-07 23:16:52,632 INFO sqlalchemy.engine.Engine [generated in 0.00109s] ()\n"
     ]
    }
   ],
   "source": [
    "p = Project(session, lexicon=lexicon_memoris, repr_attribute='lithology', legend_dict=leg_dict)"
   ]
  },
  {
   "cell_type": "code",
   "execution_count": 22,
   "metadata": {},
   "outputs": [
    {
     "data": {
      "text/plain": [
       "dict_keys(['lithology', 'arsenic', 'cadmium'])"
      ]
     },
     "execution_count": 22,
     "metadata": {},
     "output_type": "execute_result"
    }
   ],
   "source": [
    "p.legend_dict.keys()"
   ]
  },
  {
   "cell_type": "code",
   "execution_count": 23,
   "metadata": {},
   "outputs": [
    {
     "name": "stdout",
     "output_type": "stream",
     "text": [
      "2021-08-07 23:16:52,651 INFO sqlalchemy.engine.Engine INSERT INTO \"Components\" (id, description) VALUES (?, ?)\n",
      "2021-08-07 23:16:52,653 INFO sqlalchemy.engine.Engine [generated in 0.00212s] ((0, 'Sable'), (1, 'Vs'), (2, 'Vr'), (3, 'Argile'), (4, 'Marne'), (5, 'Inconnu'), (6, 'Charbon'), (7, 'Vi')  ... displaying 10 of 15 total bound parameter sets ...  (13, 'Schiste'), (14, 'Calcaire'))\n",
      "2021-08-07 23:16:52,655 INFO sqlalchemy.engine.Engine COMMIT\n",
      "2021-08-07 23:16:52,659 INFO sqlalchemy.engine.Engine BEGIN (implicit)\n",
      "2021-08-07 23:16:52,660 INFO sqlalchemy.engine.Engine SELECT \"Boreholes\".id AS \"Boreholes_id\", \"Boreholes\".date AS \"Boreholes_date\", \"Boreholes\".length AS \"Boreholes_length\", \"Boreholes\".diameter AS \"Boreholes_diameter\" \n",
      "FROM \"Boreholes\"\n",
      "2021-08-07 23:16:52,661 INFO sqlalchemy.engine.Engine [cached since 0.02992s ago] ()\n"
     ]
    }
   ],
   "source": [
    "p.add_components(components)"
   ]
  },
  {
   "cell_type": "code",
   "execution_count": 24,
   "metadata": {},
   "outputs": [
    {
     "data": {
      "text/plain": [
       "{0: Component({'lithology': 'sable'}),\n",
       " 1: Component({'arsenic': 'vs'}),\n",
       " 2: Component({'cadmium': 'vr'}),\n",
       " 3: Component({'lithology': 'argile'}),\n",
       " 4: Component({'lithology': 'marne'}),\n",
       " 5: Component({'arsenic': 'inconnu'}),\n",
       " 6: Component({'lithology': 'charbon'}),\n",
       " 7: Component({'arsenic': 'vi'}),\n",
       " 8: Component({'arsenic': 'vr'}),\n",
       " 9: Component({'cadmium': 'inconnu'}),\n",
       " 10: Component({'lithology': 'dolomie'}),\n",
       " 11: Component({'cadmium': 'vi'}),\n",
       " 12: Component({'cadmium': 'vs'}),\n",
       " 13: Component({'lithology': 'schiste'}),\n",
       " 14: Component({'lithology': 'calcaire'})}"
      ]
     },
     "execution_count": 24,
     "metadata": {},
     "output_type": "execute_result"
    }
   ],
   "source": [
    "p.__components_dict__"
   ]
  },
  {
   "cell_type": "markdown",
   "metadata": {},
   "source": [
    "Add boreholes into the project"
   ]
  },
  {
   "cell_type": "code",
   "execution_count": 25,
   "metadata": {
    "scrolled": true
   },
   "outputs": [
    {
     "name": "stdout",
     "output_type": "stream",
     "text": [
      "2021-08-07 23:16:52,675 INFO sqlalchemy.engine.Engine INSERT INTO \"Boreholes\" (id, date, length, diameter) VALUES (?, ?, ?, ?)\n",
      "2021-08-07 23:16:52,677 INFO sqlalchemy.engine.Engine [generated in 0.00209s] ('BH001', None, 28.0, 0.43)\n",
      "2021-08-07 23:16:52,680 INFO sqlalchemy.engine.Engine INSERT INTO \"Positions\" (id, upper, middle, lower, x, y) VALUES (?, ?, ?, ?, ?, ?)\n",
      "2021-08-07 23:16:52,680 INFO sqlalchemy.engine.Engine [generated in 0.00096s] ((0, 101.0, 101.0, 101.0, 152600.0, 121039.0), (1, 97.0, 97.0, 97.0, 152600.0, 121039.0), (2, 97.0, 97.0, 97.0, 152600.0, 121039.0), (3, 93.0, 93.0, 93.0, 152600.0, 121039.0), (4, 93.0, 93.0, 93.0, 152600.0, 121039.0), (5, 81.0, 81.0, 81.0, 152600.0, 121039.0), (6, 81.0, 81.0, 81.0, 152600.0, 121039.0), (7, 73.0, 73.0, 73.0, 152600.0, 121039.0))\n",
      "2021-08-07 23:16:52,683 INFO sqlalchemy.engine.Engine INSERT INTO \"Intervals\" (id, borehole, interval_number, description, top_id, base_id, data_id) VALUES (?, ?, ?, ?, ?, ?, ?)\n",
      "2021-08-07 23:16:52,684 INFO sqlalchemy.engine.Engine [generated in 0.00080s] ((0, 'BH001', 0, '{\"lithology\": \"sable\"}, {\"arsenic\": \"vs\"}, {\"cadmium\": \"vr\"}', 0, 1, None), (1, 'BH001', 1, '{\"lithology\": \"argile\"}, {\"arsenic\": \"vs\"}, {\"cadmium\": \"vr\"}', 2, 3, None), (2, 'BH001', 2, '{\"lithology\": \"marne\"}, {\"arsenic\": \"inconnu\"}, {\"cadmium\": \"vr\"}', 4, 5, None), (3, 'BH001', 3, '{\"lithology\": \"charbon\"}, {\"arsenic\": \"vi\"}, {\"cadmium\": \"vr\"}', 6, 7, None))\n",
      "2021-08-07 23:16:52,686 INFO sqlalchemy.engine.Engine COMMIT\n",
      "2021-08-07 23:16:52,690 INFO sqlalchemy.engine.Engine BEGIN (implicit)\n",
      "2021-08-07 23:16:52,691 INFO sqlalchemy.engine.Engine SELECT \"Boreholes\".id AS \"Boreholes_id\", \"Boreholes\".date AS \"Boreholes_date\", \"Boreholes\".length AS \"Boreholes_length\", \"Boreholes\".diameter AS \"Boreholes_diameter\" \n",
      "FROM \"Boreholes\"\n",
      "2021-08-07 23:16:52,692 INFO sqlalchemy.engine.Engine [cached since 0.06075s ago] ()\n",
      "2021-08-07 23:16:52,698 INFO sqlalchemy.engine.Engine SELECT \"Intervals\".id AS \"Intervals_id\", \"Intervals\".borehole AS \"Intervals_borehole\", \"Intervals\".interval_number AS \"Intervals_interval_number\", \"Intervals\".description AS \"Intervals_description\", \"Intervals\".top_id AS \"Intervals_top_id\", \"Intervals\".base_id AS \"Intervals_base_id\", \"Intervals\".data_id AS \"Intervals_data_id\" \n",
      "FROM \"Intervals\" \n",
      "WHERE ? = \"Intervals\".borehole\n",
      "2021-08-07 23:16:52,699 INFO sqlalchemy.engine.Engine [generated in 0.00115s] ('BH001',)\n",
      "2021-08-07 23:16:52,704 INFO sqlalchemy.engine.Engine SELECT \"Positions\".id AS \"Positions_id\", \"Positions\".upper AS \"Positions_upper\", \"Positions\".middle AS \"Positions_middle\", \"Positions\".lower AS \"Positions_lower\", \"Positions\".x AS \"Positions_x\", \"Positions\".y AS \"Positions_y\" \n",
      "FROM \"Positions\" \n",
      "WHERE \"Positions\".id = ?\n",
      "2021-08-07 23:16:52,705 INFO sqlalchemy.engine.Engine [generated in 0.00107s] (0,)\n",
      "2021-08-07 23:16:52,710 INFO sqlalchemy.engine.Engine SELECT \"Positions\".id AS \"Positions_id\", \"Positions\".upper AS \"Positions_upper\", \"Positions\".middle AS \"Positions_middle\", \"Positions\".lower AS \"Positions_lower\", \"Positions\".x AS \"Positions_x\", \"Positions\".y AS \"Positions_y\" \n",
      "FROM \"Positions\" \n",
      "WHERE \"Positions\".id = ?\n",
      "2021-08-07 23:16:52,711 INFO sqlalchemy.engine.Engine [generated in 0.00101s] (1,)\n",
      "2021-08-07 23:16:52,713 INFO sqlalchemy.engine.Engine SELECT \"Positions\".id AS \"Positions_id\", \"Positions\".upper AS \"Positions_upper\", \"Positions\".middle AS \"Positions_middle\", \"Positions\".lower AS \"Positions_lower\", \"Positions\".x AS \"Positions_x\", \"Positions\".y AS \"Positions_y\" \n",
      "FROM \"Positions\" \n",
      "WHERE \"Positions\".id = ?\n",
      "2021-08-07 23:16:52,714 INFO sqlalchemy.engine.Engine [cached since 0.009618s ago] (2,)\n",
      "2021-08-07 23:16:52,716 INFO sqlalchemy.engine.Engine SELECT \"Positions\".id AS \"Positions_id\", \"Positions\".upper AS \"Positions_upper\", \"Positions\".middle AS \"Positions_middle\", \"Positions\".lower AS \"Positions_lower\", \"Positions\".x AS \"Positions_x\", \"Positions\".y AS \"Positions_y\" \n",
      "FROM \"Positions\" \n",
      "WHERE \"Positions\".id = ?\n",
      "2021-08-07 23:16:52,716 INFO sqlalchemy.engine.Engine [cached since 0.006463s ago] (3,)\n",
      "2021-08-07 23:16:52,719 INFO sqlalchemy.engine.Engine SELECT \"Positions\".id AS \"Positions_id\", \"Positions\".upper AS \"Positions_upper\", \"Positions\".middle AS \"Positions_middle\", \"Positions\".lower AS \"Positions_lower\", \"Positions\".x AS \"Positions_x\", \"Positions\".y AS \"Positions_y\" \n",
      "FROM \"Positions\" \n",
      "WHERE \"Positions\".id = ?\n",
      "2021-08-07 23:16:52,720 INFO sqlalchemy.engine.Engine [cached since 0.01547s ago] (4,)\n",
      "2021-08-07 23:16:52,721 INFO sqlalchemy.engine.Engine SELECT \"Positions\".id AS \"Positions_id\", \"Positions\".upper AS \"Positions_upper\", \"Positions\".middle AS \"Positions_middle\", \"Positions\".lower AS \"Positions_lower\", \"Positions\".x AS \"Positions_x\", \"Positions\".y AS \"Positions_y\" \n",
      "FROM \"Positions\" \n",
      "WHERE \"Positions\".id = ?\n",
      "2021-08-07 23:16:52,722 INFO sqlalchemy.engine.Engine [cached since 0.01185s ago] (5,)\n",
      "2021-08-07 23:16:52,723 INFO sqlalchemy.engine.Engine SELECT \"Positions\".id AS \"Positions_id\", \"Positions\".upper AS \"Positions_upper\", \"Positions\".middle AS \"Positions_middle\", \"Positions\".lower AS \"Positions_lower\", \"Positions\".x AS \"Positions_x\", \"Positions\".y AS \"Positions_y\" \n",
      "FROM \"Positions\" \n",
      "WHERE \"Positions\".id = ?\n",
      "2021-08-07 23:16:52,724 INFO sqlalchemy.engine.Engine [cached since 0.01972s ago] (6,)\n",
      "2021-08-07 23:16:52,725 INFO sqlalchemy.engine.Engine SELECT \"Positions\".id AS \"Positions_id\", \"Positions\".upper AS \"Positions_upper\", \"Positions\".middle AS \"Positions_middle\", \"Positions\".lower AS \"Positions_lower\", \"Positions\".x AS \"Positions_x\", \"Positions\".y AS \"Positions_y\" \n",
      "FROM \"Positions\" \n",
      "WHERE \"Positions\".id = ?\n",
      "2021-08-07 23:16:52,726 INFO sqlalchemy.engine.Engine [cached since 0.01583s ago] (7,)\n",
      "Borehole geometry created successfully !\n",
      "2021-08-07 23:16:52,746 INFO sqlalchemy.engine.Engine UPDATE \"Boreholes\" SET length=? WHERE \"Boreholes\".id = ?\n",
      "2021-08-07 23:16:52,747 INFO sqlalchemy.engine.Engine [generated in 0.00093s] (97.0, 'BH001')\n",
      "2021-08-07 23:16:52,748 INFO sqlalchemy.engine.Engine INSERT INTO \"Boreholes\" (id, date, length, diameter) VALUES (?, ?, ?, ?)\n",
      "2021-08-07 23:16:52,749 INFO sqlalchemy.engine.Engine [cached since 0.07382s ago] ('BH002', None, 37.0, 0.6)\n",
      "2021-08-07 23:16:52,753 INFO sqlalchemy.engine.Engine INSERT INTO \"Positions\" (id, upper, middle, lower, x, y) VALUES (?, ?, ?, ?, ?, ?)\n",
      "2021-08-07 23:16:52,754 INFO sqlalchemy.engine.Engine [cached since 0.07485s ago] ((8, 103.0, 103.0, 103.0, 152819.0, 121586.0), (9, 98.0, 98.0, 98.0, 152819.0, 121586.0), (10, 98.0, 98.0, 98.0, 152819.0, 121586.0), (11, 95.0, 95.0, 95.0, 152819.0, 121586.0), (12, 95.0, 95.0, 95.0, 152819.0, 121586.0), (13, 89.0, 89.0, 89.0, 152819.0, 121586.0), (14, 89.0, 89.0, 89.0, 152819.0, 121586.0), (15, 88.0, 88.0, 88.0, 152819.0, 121586.0), (16, 88.0, 88.0, 88.0, 152819.0, 121586.0), (17, 66.0, 66.0, 66.0, 152819.0, 121586.0))\n",
      "2021-08-07 23:16:52,757 INFO sqlalchemy.engine.Engine INSERT INTO \"Intervals\" (id, borehole, interval_number, description, top_id, base_id, data_id) VALUES (?, ?, ?, ?, ?, ?, ?)\n",
      "2021-08-07 23:16:52,758 INFO sqlalchemy.engine.Engine [cached since 0.07473s ago] ((4, 'BH002', 0, '{\"lithology\": \"sable\"}, {\"arsenic\": \"vr\"}, {\"cadmium\": \"vr\"}', 8, 9, None), (5, 'BH002', 1, '{\"lithology\": \"argile\"}, {\"arsenic\": \"inconnu\"}, {\"cadmium\": \"vr\"}', 10, 11, None), (6, 'BH002', 2, '{\"lithology\": \"marne\"}, {\"arsenic\": \"vi\"}, {\"cadmium\": \"inconnu\"}', 12, 13, None), (7, 'BH002', 3, '{\"lithology\": \"charbon\"}, {\"arsenic\": \"vi\"}, {\"cadmium\": \"vr\"}', 14, 15, None), (8, 'BH002', 4, '{\"lithology\": \"dolomie\"}, {\"arsenic\": \"vs\"}, {\"cadmium\": \"inconnu\"}', 16, 17, None))\n",
      "2021-08-07 23:16:52,759 INFO sqlalchemy.engine.Engine COMMIT\n",
      "2021-08-07 23:16:52,763 INFO sqlalchemy.engine.Engine BEGIN (implicit)\n",
      "2021-08-07 23:16:52,765 INFO sqlalchemy.engine.Engine SELECT \"Boreholes\".id AS \"Boreholes_id\", \"Boreholes\".date AS \"Boreholes_date\", \"Boreholes\".length AS \"Boreholes_length\", \"Boreholes\".diameter AS \"Boreholes_diameter\" \n",
      "FROM \"Boreholes\"\n",
      "2021-08-07 23:16:52,765 INFO sqlalchemy.engine.Engine [cached since 0.1343s ago] ()\n",
      "2021-08-07 23:16:52,767 INFO sqlalchemy.engine.Engine SELECT \"Intervals\".id AS \"Intervals_id\", \"Intervals\".borehole AS \"Intervals_borehole\", \"Intervals\".interval_number AS \"Intervals_interval_number\", \"Intervals\".description AS \"Intervals_description\", \"Intervals\".top_id AS \"Intervals_top_id\", \"Intervals\".base_id AS \"Intervals_base_id\", \"Intervals\".data_id AS \"Intervals_data_id\" \n",
      "FROM \"Intervals\" \n",
      "WHERE ? = \"Intervals\".borehole\n"
     ]
    },
    {
     "name": "stdout",
     "output_type": "stream",
     "text": [
      "2021-08-07 23:16:52,769 INFO sqlalchemy.engine.Engine [cached since 0.07077s ago] ('BH002',)\n",
      "2021-08-07 23:16:52,771 INFO sqlalchemy.engine.Engine SELECT \"Positions\".id AS \"Positions_id\", \"Positions\".upper AS \"Positions_upper\", \"Positions\".middle AS \"Positions_middle\", \"Positions\".lower AS \"Positions_lower\", \"Positions\".x AS \"Positions_x\", \"Positions\".y AS \"Positions_y\" \n",
      "FROM \"Positions\" \n",
      "WHERE \"Positions\".id = ?\n",
      "2021-08-07 23:16:52,772 INFO sqlalchemy.engine.Engine [cached since 0.06809s ago] (8,)\n",
      "2021-08-07 23:16:52,775 INFO sqlalchemy.engine.Engine SELECT \"Positions\".id AS \"Positions_id\", \"Positions\".upper AS \"Positions_upper\", \"Positions\".middle AS \"Positions_middle\", \"Positions\".lower AS \"Positions_lower\", \"Positions\".x AS \"Positions_x\", \"Positions\".y AS \"Positions_y\" \n",
      "FROM \"Positions\" \n",
      "WHERE \"Positions\".id = ?\n",
      "2021-08-07 23:16:52,776 INFO sqlalchemy.engine.Engine [cached since 0.0657s ago] (9,)\n",
      "2021-08-07 23:16:52,778 INFO sqlalchemy.engine.Engine SELECT \"Positions\".id AS \"Positions_id\", \"Positions\".upper AS \"Positions_upper\", \"Positions\".middle AS \"Positions_middle\", \"Positions\".lower AS \"Positions_lower\", \"Positions\".x AS \"Positions_x\", \"Positions\".y AS \"Positions_y\" \n",
      "FROM \"Positions\" \n",
      "WHERE \"Positions\".id = ?\n",
      "2021-08-07 23:16:52,779 INFO sqlalchemy.engine.Engine [cached since 0.07505s ago] (10,)\n",
      "2021-08-07 23:16:52,781 INFO sqlalchemy.engine.Engine SELECT \"Positions\".id AS \"Positions_id\", \"Positions\".upper AS \"Positions_upper\", \"Positions\".middle AS \"Positions_middle\", \"Positions\".lower AS \"Positions_lower\", \"Positions\".x AS \"Positions_x\", \"Positions\".y AS \"Positions_y\" \n",
      "FROM \"Positions\" \n",
      "WHERE \"Positions\".id = ?\n",
      "2021-08-07 23:16:52,782 INFO sqlalchemy.engine.Engine [cached since 0.07224s ago] (11,)\n",
      "2021-08-07 23:16:52,784 INFO sqlalchemy.engine.Engine SELECT \"Positions\".id AS \"Positions_id\", \"Positions\".upper AS \"Positions_upper\", \"Positions\".middle AS \"Positions_middle\", \"Positions\".lower AS \"Positions_lower\", \"Positions\".x AS \"Positions_x\", \"Positions\".y AS \"Positions_y\" \n",
      "FROM \"Positions\" \n",
      "WHERE \"Positions\".id = ?\n",
      "2021-08-07 23:16:52,785 INFO sqlalchemy.engine.Engine [cached since 0.08106s ago] (12,)\n",
      "2021-08-07 23:16:52,787 INFO sqlalchemy.engine.Engine SELECT \"Positions\".id AS \"Positions_id\", \"Positions\".upper AS \"Positions_upper\", \"Positions\".middle AS \"Positions_middle\", \"Positions\".lower AS \"Positions_lower\", \"Positions\".x AS \"Positions_x\", \"Positions\".y AS \"Positions_y\" \n",
      "FROM \"Positions\" \n",
      "WHERE \"Positions\".id = ?\n",
      "2021-08-07 23:16:52,788 INFO sqlalchemy.engine.Engine [cached since 0.07851s ago] (13,)\n",
      "2021-08-07 23:16:52,791 INFO sqlalchemy.engine.Engine SELECT \"Positions\".id AS \"Positions_id\", \"Positions\".upper AS \"Positions_upper\", \"Positions\".middle AS \"Positions_middle\", \"Positions\".lower AS \"Positions_lower\", \"Positions\".x AS \"Positions_x\", \"Positions\".y AS \"Positions_y\" \n",
      "FROM \"Positions\" \n",
      "WHERE \"Positions\".id = ?\n",
      "2021-08-07 23:16:52,792 INFO sqlalchemy.engine.Engine [cached since 0.08725s ago] (14,)\n",
      "2021-08-07 23:16:52,794 INFO sqlalchemy.engine.Engine SELECT \"Positions\".id AS \"Positions_id\", \"Positions\".upper AS \"Positions_upper\", \"Positions\".middle AS \"Positions_middle\", \"Positions\".lower AS \"Positions_lower\", \"Positions\".x AS \"Positions_x\", \"Positions\".y AS \"Positions_y\" \n",
      "FROM \"Positions\" \n",
      "WHERE \"Positions\".id = ?\n",
      "2021-08-07 23:16:52,794 INFO sqlalchemy.engine.Engine [cached since 0.08441s ago] (15,)\n",
      "2021-08-07 23:16:52,796 INFO sqlalchemy.engine.Engine SELECT \"Positions\".id AS \"Positions_id\", \"Positions\".upper AS \"Positions_upper\", \"Positions\".middle AS \"Positions_middle\", \"Positions\".lower AS \"Positions_lower\", \"Positions\".x AS \"Positions_x\", \"Positions\".y AS \"Positions_y\" \n",
      "FROM \"Positions\" \n",
      "WHERE \"Positions\".id = ?\n",
      "2021-08-07 23:16:52,797 INFO sqlalchemy.engine.Engine [cached since 0.09286s ago] (16,)\n",
      "2021-08-07 23:16:52,799 INFO sqlalchemy.engine.Engine SELECT \"Positions\".id AS \"Positions_id\", \"Positions\".upper AS \"Positions_upper\", \"Positions\".middle AS \"Positions_middle\", \"Positions\".lower AS \"Positions_lower\", \"Positions\".x AS \"Positions_x\", \"Positions\".y AS \"Positions_y\" \n",
      "FROM \"Positions\" \n",
      "WHERE \"Positions\".id = ?\n",
      "2021-08-07 23:16:52,800 INFO sqlalchemy.engine.Engine [cached since 0.0899s ago] (17,)\n",
      "Borehole geometry created successfully !\n",
      "2021-08-07 23:16:52,815 INFO sqlalchemy.engine.Engine UPDATE \"Boreholes\" SET length=? WHERE \"Boreholes\".id = ?\n",
      "2021-08-07 23:16:52,817 INFO sqlalchemy.engine.Engine [cached since 0.07089s ago] (98.0, 'BH002')\n",
      "2021-08-07 23:16:52,818 INFO sqlalchemy.engine.Engine INSERT INTO \"Boreholes\" (id, date, length, diameter) VALUES (?, ?, ?, ?)\n",
      "2021-08-07 23:16:52,819 INFO sqlalchemy.engine.Engine [cached since 0.1437s ago] ('BH003', None, 18.0, 0.41)\n",
      "2021-08-07 23:16:52,820 INFO sqlalchemy.engine.Engine INSERT INTO \"Positions\" (id, upper, middle, lower, x, y) VALUES (?, ?, ?, ?, ?, ?)\n",
      "2021-08-07 23:16:52,821 INFO sqlalchemy.engine.Engine [cached since 0.1418s ago] ((18, 103.0, 103.0, 103.0, 152922.0, 121313.0), (19, 100.0, 100.0, 100.0, 152922.0, 121313.0), (20, 100.0, 100.0, 100.0, 152922.0, 121313.0), (21, 97.0, 97.0, 97.0, 152922.0, 121313.0), (22, 97.0, 97.0, 97.0, 152922.0, 121313.0), (23, 94.0, 94.0, 94.0, 152922.0, 121313.0), (24, 94.0, 94.0, 94.0, 152922.0, 121313.0), (25, 90.0, 90.0, 90.0, 152922.0, 121313.0), (26, 90.0, 90.0, 90.0, 152922.0, 121313.0), (27, 85.0, 85.0, 85.0, 152922.0, 121313.0))\n",
      "2021-08-07 23:16:52,823 INFO sqlalchemy.engine.Engine INSERT INTO \"Intervals\" (id, borehole, interval_number, description, top_id, base_id, data_id) VALUES (?, ?, ?, ?, ?, ?, ?)\n",
      "2021-08-07 23:16:52,824 INFO sqlalchemy.engine.Engine [cached since 0.1407s ago] ((9, 'BH003', 0, '{\"lithology\": \"sable\"}, {\"arsenic\": \"vr\"}, {\"cadmium\": \"vi\"}', 18, 19, None), (10, 'BH003', 1, '{\"lithology\": \"argile\"}, {\"arsenic\": \"vs\"}, {\"cadmium\": \"vr\"}', 20, 21, None), (11, 'BH003', 2, '{\"lithology\": \"marne\"}, {\"arsenic\": \"vi\"}, {\"cadmium\": \"vr\"}', 22, 23, None), (12, 'BH003', 3, '{\"lithology\": \"charbon\"}, {\"arsenic\": \"vr\"}, {\"cadmium\": \"vr\"}', 24, 25, None), (13, 'BH003', 4, '{\"lithology\": \"dolomie\"}, {\"arsenic\": \"vs\"}, {\"cadmium\": \"vr\"}', 26, 27, None))\n",
      "2021-08-07 23:16:52,825 INFO sqlalchemy.engine.Engine COMMIT\n",
      "2021-08-07 23:16:52,829 INFO sqlalchemy.engine.Engine BEGIN (implicit)\n",
      "2021-08-07 23:16:52,830 INFO sqlalchemy.engine.Engine SELECT \"Boreholes\".id AS \"Boreholes_id\", \"Boreholes\".date AS \"Boreholes_date\", \"Boreholes\".length AS \"Boreholes_length\", \"Boreholes\".diameter AS \"Boreholes_diameter\" \n",
      "FROM \"Boreholes\"\n",
      "2021-08-07 23:16:52,831 INFO sqlalchemy.engine.Engine [cached since 0.2004s ago] ()\n",
      "2021-08-07 23:16:52,833 INFO sqlalchemy.engine.Engine SELECT \"Intervals\".id AS \"Intervals_id\", \"Intervals\".borehole AS \"Intervals_borehole\", \"Intervals\".interval_number AS \"Intervals_interval_number\", \"Intervals\".description AS \"Intervals_description\", \"Intervals\".top_id AS \"Intervals_top_id\", \"Intervals\".base_id AS \"Intervals_base_id\", \"Intervals\".data_id AS \"Intervals_data_id\" \n",
      "FROM \"Intervals\" \n",
      "WHERE ? = \"Intervals\".borehole\n",
      "2021-08-07 23:16:52,834 INFO sqlalchemy.engine.Engine [cached since 0.1363s ago] ('BH003',)\n",
      "2021-08-07 23:16:52,836 INFO sqlalchemy.engine.Engine SELECT \"Positions\".id AS \"Positions_id\", \"Positions\".upper AS \"Positions_upper\", \"Positions\".middle AS \"Positions_middle\", \"Positions\".lower AS \"Positions_lower\", \"Positions\".x AS \"Positions_x\", \"Positions\".y AS \"Positions_y\" \n",
      "FROM \"Positions\" \n",
      "WHERE \"Positions\".id = ?\n",
      "2021-08-07 23:16:52,837 INFO sqlalchemy.engine.Engine [cached since 0.1328s ago] (18,)\n",
      "2021-08-07 23:16:52,839 INFO sqlalchemy.engine.Engine SELECT \"Positions\".id AS \"Positions_id\", \"Positions\".upper AS \"Positions_upper\", \"Positions\".middle AS \"Positions_middle\", \"Positions\".lower AS \"Positions_lower\", \"Positions\".x AS \"Positions_x\", \"Positions\".y AS \"Positions_y\" \n",
      "FROM \"Positions\" \n",
      "WHERE \"Positions\".id = ?\n",
      "2021-08-07 23:16:52,840 INFO sqlalchemy.engine.Engine [cached since 0.13s ago] (19,)\n",
      "2021-08-07 23:16:52,842 INFO sqlalchemy.engine.Engine SELECT \"Positions\".id AS \"Positions_id\", \"Positions\".upper AS \"Positions_upper\", \"Positions\".middle AS \"Positions_middle\", \"Positions\".lower AS \"Positions_lower\", \"Positions\".x AS \"Positions_x\", \"Positions\".y AS \"Positions_y\" \n",
      "FROM \"Positions\" \n",
      "WHERE \"Positions\".id = ?\n"
     ]
    },
    {
     "name": "stdout",
     "output_type": "stream",
     "text": [
      "2021-08-07 23:16:52,843 INFO sqlalchemy.engine.Engine [cached since 0.1385s ago] (20,)\n",
      "2021-08-07 23:16:52,845 INFO sqlalchemy.engine.Engine SELECT \"Positions\".id AS \"Positions_id\", \"Positions\".upper AS \"Positions_upper\", \"Positions\".middle AS \"Positions_middle\", \"Positions\".lower AS \"Positions_lower\", \"Positions\".x AS \"Positions_x\", \"Positions\".y AS \"Positions_y\" \n",
      "FROM \"Positions\" \n",
      "WHERE \"Positions\".id = ?\n",
      "2021-08-07 23:16:52,845 INFO sqlalchemy.engine.Engine [cached since 0.1356s ago] (21,)\n",
      "2021-08-07 23:16:52,847 INFO sqlalchemy.engine.Engine SELECT \"Positions\".id AS \"Positions_id\", \"Positions\".upper AS \"Positions_upper\", \"Positions\".middle AS \"Positions_middle\", \"Positions\".lower AS \"Positions_lower\", \"Positions\".x AS \"Positions_x\", \"Positions\".y AS \"Positions_y\" \n",
      "FROM \"Positions\" \n",
      "WHERE \"Positions\".id = ?\n",
      "2021-08-07 23:16:52,848 INFO sqlalchemy.engine.Engine [cached since 0.1434s ago] (22,)\n",
      "2021-08-07 23:16:52,849 INFO sqlalchemy.engine.Engine SELECT \"Positions\".id AS \"Positions_id\", \"Positions\".upper AS \"Positions_upper\", \"Positions\".middle AS \"Positions_middle\", \"Positions\".lower AS \"Positions_lower\", \"Positions\".x AS \"Positions_x\", \"Positions\".y AS \"Positions_y\" \n",
      "FROM \"Positions\" \n",
      "WHERE \"Positions\".id = ?\n",
      "2021-08-07 23:16:52,850 INFO sqlalchemy.engine.Engine [cached since 0.1402s ago] (23,)\n",
      "2021-08-07 23:16:52,852 INFO sqlalchemy.engine.Engine SELECT \"Positions\".id AS \"Positions_id\", \"Positions\".upper AS \"Positions_upper\", \"Positions\".middle AS \"Positions_middle\", \"Positions\".lower AS \"Positions_lower\", \"Positions\".x AS \"Positions_x\", \"Positions\".y AS \"Positions_y\" \n",
      "FROM \"Positions\" \n",
      "WHERE \"Positions\".id = ?\n",
      "2021-08-07 23:16:52,853 INFO sqlalchemy.engine.Engine [cached since 0.1485s ago] (24,)\n",
      "2021-08-07 23:16:52,855 INFO sqlalchemy.engine.Engine SELECT \"Positions\".id AS \"Positions_id\", \"Positions\".upper AS \"Positions_upper\", \"Positions\".middle AS \"Positions_middle\", \"Positions\".lower AS \"Positions_lower\", \"Positions\".x AS \"Positions_x\", \"Positions\".y AS \"Positions_y\" \n",
      "FROM \"Positions\" \n",
      "WHERE \"Positions\".id = ?\n",
      "2021-08-07 23:16:52,856 INFO sqlalchemy.engine.Engine [cached since 0.1458s ago] (25,)\n",
      "2021-08-07 23:16:52,857 INFO sqlalchemy.engine.Engine SELECT \"Positions\".id AS \"Positions_id\", \"Positions\".upper AS \"Positions_upper\", \"Positions\".middle AS \"Positions_middle\", \"Positions\".lower AS \"Positions_lower\", \"Positions\".x AS \"Positions_x\", \"Positions\".y AS \"Positions_y\" \n",
      "FROM \"Positions\" \n",
      "WHERE \"Positions\".id = ?\n",
      "2021-08-07 23:16:52,858 INFO sqlalchemy.engine.Engine [cached since 0.154s ago] (26,)\n",
      "2021-08-07 23:16:52,860 INFO sqlalchemy.engine.Engine SELECT \"Positions\".id AS \"Positions_id\", \"Positions\".upper AS \"Positions_upper\", \"Positions\".middle AS \"Positions_middle\", \"Positions\".lower AS \"Positions_lower\", \"Positions\".x AS \"Positions_x\", \"Positions\".y AS \"Positions_y\" \n",
      "FROM \"Positions\" \n",
      "WHERE \"Positions\".id = ?\n",
      "2021-08-07 23:16:52,861 INFO sqlalchemy.engine.Engine [cached since 0.1508s ago] (27,)\n",
      "Borehole geometry created successfully !\n",
      "2021-08-07 23:16:52,874 INFO sqlalchemy.engine.Engine UPDATE \"Boreholes\" SET length=? WHERE \"Boreholes\".id = ?\n",
      "2021-08-07 23:16:52,876 INFO sqlalchemy.engine.Engine [cached since 0.1299s ago] (100.0, 'BH003')\n",
      "2021-08-07 23:16:52,877 INFO sqlalchemy.engine.Engine INSERT INTO \"Boreholes\" (id, date, length, diameter) VALUES (?, ?, ?, ?)\n",
      "2021-08-07 23:16:52,878 INFO sqlalchemy.engine.Engine [cached since 0.203s ago] ('BH004', None, 26.0, 0.61)\n",
      "2021-08-07 23:16:52,880 INFO sqlalchemy.engine.Engine INSERT INTO \"Positions\" (id, upper, middle, lower, x, y) VALUES (?, ?, ?, ?, ?, ?)\n",
      "2021-08-07 23:16:52,881 INFO sqlalchemy.engine.Engine [cached since 0.2012s ago] ((28, 101.0, 101.0, 101.0, 152766.0, 121494.0), (29, 96.0, 96.0, 96.0, 152766.0, 121494.0), (30, 96.0, 96.0, 96.0, 152766.0, 121494.0), (31, 94.0, 94.0, 94.0, 152766.0, 121494.0), (32, 94.0, 94.0, 94.0, 152766.0, 121494.0), (33, 87.0, 87.0, 87.0, 152766.0, 121494.0), (34, 87.0, 87.0, 87.0, 152766.0, 121494.0), (35, 85.0, 85.0, 85.0, 152766.0, 121494.0), (36, 85.0, 85.0, 85.0, 152766.0, 121494.0), (37, 75.0, 75.0, 75.0, 152766.0, 121494.0))\n",
      "2021-08-07 23:16:52,883 INFO sqlalchemy.engine.Engine INSERT INTO \"Intervals\" (id, borehole, interval_number, description, top_id, base_id, data_id) VALUES (?, ?, ?, ?, ?, ?, ?)\n",
      "2021-08-07 23:16:52,884 INFO sqlalchemy.engine.Engine [cached since 0.2009s ago] ((14, 'BH004', 0, '{\"lithology\": \"sable\"}, {\"arsenic\": \"vr\"}, {\"cadmium\": \"vr\"}', 28, 29, None), (15, 'BH004', 1, '{\"lithology\": \"argile\"}, {\"arsenic\": \"vi\"}, {\"cadmium\": \"inconnu\"}', 30, 31, None), (16, 'BH004', 2, '{\"lithology\": \"marne\"}, {\"arsenic\": \"vs\"}, {\"cadmium\": \"inconnu\"}', 32, 33, None), (17, 'BH004', 3, '{\"lithology\": \"charbon\"}, {\"arsenic\": \"vr\"}, {\"cadmium\": \"vr\"}', 34, 35, None), (18, 'BH004', 4, '{\"lithology\": \"dolomie\"}, {\"arsenic\": \"inconnu\"}, {\"cadmium\": \"vr\"}', 36, 37, None))\n",
      "2021-08-07 23:16:52,886 INFO sqlalchemy.engine.Engine COMMIT\n",
      "2021-08-07 23:16:52,889 INFO sqlalchemy.engine.Engine BEGIN (implicit)\n",
      "2021-08-07 23:16:52,890 INFO sqlalchemy.engine.Engine SELECT \"Boreholes\".id AS \"Boreholes_id\", \"Boreholes\".date AS \"Boreholes_date\", \"Boreholes\".length AS \"Boreholes_length\", \"Boreholes\".diameter AS \"Boreholes_diameter\" \n",
      "FROM \"Boreholes\"\n",
      "2021-08-07 23:16:52,891 INFO sqlalchemy.engine.Engine [cached since 0.26s ago] ()\n",
      "2021-08-07 23:16:52,893 INFO sqlalchemy.engine.Engine SELECT \"Intervals\".id AS \"Intervals_id\", \"Intervals\".borehole AS \"Intervals_borehole\", \"Intervals\".interval_number AS \"Intervals_interval_number\", \"Intervals\".description AS \"Intervals_description\", \"Intervals\".top_id AS \"Intervals_top_id\", \"Intervals\".base_id AS \"Intervals_base_id\", \"Intervals\".data_id AS \"Intervals_data_id\" \n",
      "FROM \"Intervals\" \n",
      "WHERE ? = \"Intervals\".borehole\n",
      "2021-08-07 23:16:52,894 INFO sqlalchemy.engine.Engine [cached since 0.196s ago] ('BH004',)\n",
      "2021-08-07 23:16:52,896 INFO sqlalchemy.engine.Engine SELECT \"Positions\".id AS \"Positions_id\", \"Positions\".upper AS \"Positions_upper\", \"Positions\".middle AS \"Positions_middle\", \"Positions\".lower AS \"Positions_lower\", \"Positions\".x AS \"Positions_x\", \"Positions\".y AS \"Positions_y\" \n",
      "FROM \"Positions\" \n",
      "WHERE \"Positions\".id = ?\n",
      "2021-08-07 23:16:52,897 INFO sqlalchemy.engine.Engine [cached since 0.1922s ago] (28,)\n",
      "2021-08-07 23:16:52,899 INFO sqlalchemy.engine.Engine SELECT \"Positions\".id AS \"Positions_id\", \"Positions\".upper AS \"Positions_upper\", \"Positions\".middle AS \"Positions_middle\", \"Positions\".lower AS \"Positions_lower\", \"Positions\".x AS \"Positions_x\", \"Positions\".y AS \"Positions_y\" \n",
      "FROM \"Positions\" \n",
      "WHERE \"Positions\".id = ?\n",
      "2021-08-07 23:16:52,901 INFO sqlalchemy.engine.Engine [cached since 0.1908s ago] (29,)\n",
      "2021-08-07 23:16:52,903 INFO sqlalchemy.engine.Engine SELECT \"Positions\".id AS \"Positions_id\", \"Positions\".upper AS \"Positions_upper\", \"Positions\".middle AS \"Positions_middle\", \"Positions\".lower AS \"Positions_lower\", \"Positions\".x AS \"Positions_x\", \"Positions\".y AS \"Positions_y\" \n",
      "FROM \"Positions\" \n",
      "WHERE \"Positions\".id = ?\n",
      "2021-08-07 23:16:52,904 INFO sqlalchemy.engine.Engine [cached since 0.1993s ago] (30,)\n",
      "2021-08-07 23:16:52,905 INFO sqlalchemy.engine.Engine SELECT \"Positions\".id AS \"Positions_id\", \"Positions\".upper AS \"Positions_upper\", \"Positions\".middle AS \"Positions_middle\", \"Positions\".lower AS \"Positions_lower\", \"Positions\".x AS \"Positions_x\", \"Positions\".y AS \"Positions_y\" \n",
      "FROM \"Positions\" \n",
      "WHERE \"Positions\".id = ?\n",
      "2021-08-07 23:16:52,906 INFO sqlalchemy.engine.Engine [cached since 0.1962s ago] (31,)\n",
      "2021-08-07 23:16:52,908 INFO sqlalchemy.engine.Engine SELECT \"Positions\".id AS \"Positions_id\", \"Positions\".upper AS \"Positions_upper\", \"Positions\".middle AS \"Positions_middle\", \"Positions\".lower AS \"Positions_lower\", \"Positions\".x AS \"Positions_x\", \"Positions\".y AS \"Positions_y\" \n",
      "FROM \"Positions\" \n",
      "WHERE \"Positions\".id = ?\n",
      "2021-08-07 23:16:52,909 INFO sqlalchemy.engine.Engine [cached since 0.2043s ago] (32,)\n",
      "2021-08-07 23:16:52,910 INFO sqlalchemy.engine.Engine SELECT \"Positions\".id AS \"Positions_id\", \"Positions\".upper AS \"Positions_upper\", \"Positions\".middle AS \"Positions_middle\", \"Positions\".lower AS \"Positions_lower\", \"Positions\".x AS \"Positions_x\", \"Positions\".y AS \"Positions_y\" \n",
      "FROM \"Positions\" \n",
      "WHERE \"Positions\".id = ?\n"
     ]
    },
    {
     "name": "stdout",
     "output_type": "stream",
     "text": [
      "2021-08-07 23:16:52,911 INFO sqlalchemy.engine.Engine [cached since 0.2009s ago] (33,)\n",
      "2021-08-07 23:16:52,912 INFO sqlalchemy.engine.Engine SELECT \"Positions\".id AS \"Positions_id\", \"Positions\".upper AS \"Positions_upper\", \"Positions\".middle AS \"Positions_middle\", \"Positions\".lower AS \"Positions_lower\", \"Positions\".x AS \"Positions_x\", \"Positions\".y AS \"Positions_y\" \n",
      "FROM \"Positions\" \n",
      "WHERE \"Positions\".id = ?\n",
      "2021-08-07 23:16:52,913 INFO sqlalchemy.engine.Engine [cached since 0.2089s ago] (34,)\n",
      "2021-08-07 23:16:52,915 INFO sqlalchemy.engine.Engine SELECT \"Positions\".id AS \"Positions_id\", \"Positions\".upper AS \"Positions_upper\", \"Positions\".middle AS \"Positions_middle\", \"Positions\".lower AS \"Positions_lower\", \"Positions\".x AS \"Positions_x\", \"Positions\".y AS \"Positions_y\" \n",
      "FROM \"Positions\" \n",
      "WHERE \"Positions\".id = ?\n",
      "2021-08-07 23:16:52,916 INFO sqlalchemy.engine.Engine [cached since 0.2059s ago] (35,)\n",
      "2021-08-07 23:16:52,918 INFO sqlalchemy.engine.Engine SELECT \"Positions\".id AS \"Positions_id\", \"Positions\".upper AS \"Positions_upper\", \"Positions\".middle AS \"Positions_middle\", \"Positions\".lower AS \"Positions_lower\", \"Positions\".x AS \"Positions_x\", \"Positions\".y AS \"Positions_y\" \n",
      "FROM \"Positions\" \n",
      "WHERE \"Positions\".id = ?\n",
      "2021-08-07 23:16:52,918 INFO sqlalchemy.engine.Engine [cached since 0.214s ago] (36,)\n",
      "2021-08-07 23:16:52,920 INFO sqlalchemy.engine.Engine SELECT \"Positions\".id AS \"Positions_id\", \"Positions\".upper AS \"Positions_upper\", \"Positions\".middle AS \"Positions_middle\", \"Positions\".lower AS \"Positions_lower\", \"Positions\".x AS \"Positions_x\", \"Positions\".y AS \"Positions_y\" \n",
      "FROM \"Positions\" \n",
      "WHERE \"Positions\".id = ?\n",
      "2021-08-07 23:16:52,921 INFO sqlalchemy.engine.Engine [cached since 0.2112s ago] (37,)\n",
      "Borehole geometry created successfully !\n",
      "2021-08-07 23:16:52,937 INFO sqlalchemy.engine.Engine UPDATE \"Boreholes\" SET length=? WHERE \"Boreholes\".id = ?\n",
      "2021-08-07 23:16:52,939 INFO sqlalchemy.engine.Engine [cached since 0.1931s ago] (96.0, 'BH004')\n",
      "2021-08-07 23:16:52,941 INFO sqlalchemy.engine.Engine INSERT INTO \"Boreholes\" (id, date, length, diameter) VALUES (?, ?, ?, ?)\n",
      "2021-08-07 23:16:52,942 INFO sqlalchemy.engine.Engine [cached since 0.2665s ago] ('BH005', None, 36.0, 0.61)\n",
      "2021-08-07 23:16:52,943 INFO sqlalchemy.engine.Engine INSERT INTO \"Positions\" (id, upper, middle, lower, x, y) VALUES (?, ?, ?, ?, ?, ?)\n",
      "2021-08-07 23:16:52,944 INFO sqlalchemy.engine.Engine [cached since 0.2644s ago] ((38, 101.0, 101.0, 101.0, 152473.0, 121460.0), (39, 97.0, 97.0, 97.0, 152473.0, 121460.0), (40, 97.0, 97.0, 97.0, 152473.0, 121460.0), (41, 93.0, 93.0, 93.0, 152473.0, 121460.0), (42, 93.0, 93.0, 93.0, 152473.0, 121460.0), (43, 82.0, 82.0, 82.0, 152473.0, 121460.0), (44, 82.0, 82.0, 82.0, 152473.0, 121460.0), (45, 74.0, 74.0, 74.0, 152473.0, 121460.0)  ... displaying 10 of 14 total bound parameter sets ...  (50, 69.0, 69.0, 69.0, 152473.0, 121460.0), (51, 65.0, 65.0, 65.0, 152473.0, 121460.0))\n",
      "2021-08-07 23:16:52,946 INFO sqlalchemy.engine.Engine INSERT INTO \"Intervals\" (id, borehole, interval_number, description, top_id, base_id, data_id) VALUES (?, ?, ?, ?, ?, ?, ?)\n",
      "2021-08-07 23:16:52,947 INFO sqlalchemy.engine.Engine [cached since 0.2639s ago] ((19, 'BH005', 0, '{\"lithology\": \"sable\"}, {\"arsenic\": \"inconnu\"}, {\"cadmium\": \"inconnu\"}', 38, 39, None), (20, 'BH005', 1, '{\"lithology\": \"argile\"}, {\"arsenic\": \"vr\"}, {\"cadmium\": \"vs\"}', 40, 41, None), (21, 'BH005', 2, '{\"lithology\": \"marne\"}, {\"arsenic\": \"vi\"}, {\"cadmium\": \"vs\"}', 42, 43, None), (22, 'BH005', 3, '{\"lithology\": \"charbon\"}, {\"arsenic\": \"vs\"}, {\"cadmium\": \"inconnu\"}', 44, 45, None), (23, 'BH005', 4, '{\"lithology\": \"dolomie\"}, {\"arsenic\": \"vi\"}, {\"cadmium\": \"vs\"}', 46, 47, None), (24, 'BH005', 5, '{\"lithology\": \"schiste\"}, {\"arsenic\": \"vi\"}, {\"cadmium\": \"vr\"}', 48, 49, None), (25, 'BH005', 6, '{\"lithology\": \"calcaire\"}, {\"arsenic\": \"inconnu\"}, {\"cadmium\": \"vr\"}', 50, 51, None))\n",
      "2021-08-07 23:16:52,949 INFO sqlalchemy.engine.Engine COMMIT\n",
      "2021-08-07 23:16:52,953 INFO sqlalchemy.engine.Engine BEGIN (implicit)\n",
      "2021-08-07 23:16:52,954 INFO sqlalchemy.engine.Engine SELECT \"Boreholes\".id AS \"Boreholes_id\", \"Boreholes\".date AS \"Boreholes_date\", \"Boreholes\".length AS \"Boreholes_length\", \"Boreholes\".diameter AS \"Boreholes_diameter\" \n",
      "FROM \"Boreholes\"\n",
      "2021-08-07 23:16:52,954 INFO sqlalchemy.engine.Engine [cached since 0.3235s ago] ()\n",
      "2021-08-07 23:16:52,957 INFO sqlalchemy.engine.Engine SELECT \"Intervals\".id AS \"Intervals_id\", \"Intervals\".borehole AS \"Intervals_borehole\", \"Intervals\".interval_number AS \"Intervals_interval_number\", \"Intervals\".description AS \"Intervals_description\", \"Intervals\".top_id AS \"Intervals_top_id\", \"Intervals\".base_id AS \"Intervals_base_id\", \"Intervals\".data_id AS \"Intervals_data_id\" \n",
      "FROM \"Intervals\" \n",
      "WHERE ? = \"Intervals\".borehole\n",
      "2021-08-07 23:16:52,957 INFO sqlalchemy.engine.Engine [cached since 0.2595s ago] ('BH005',)\n",
      "2021-08-07 23:16:52,959 INFO sqlalchemy.engine.Engine SELECT \"Positions\".id AS \"Positions_id\", \"Positions\".upper AS \"Positions_upper\", \"Positions\".middle AS \"Positions_middle\", \"Positions\".lower AS \"Positions_lower\", \"Positions\".x AS \"Positions_x\", \"Positions\".y AS \"Positions_y\" \n",
      "FROM \"Positions\" \n",
      "WHERE \"Positions\".id = ?\n",
      "2021-08-07 23:16:52,960 INFO sqlalchemy.engine.Engine [cached since 0.2559s ago] (38,)\n",
      "2021-08-07 23:16:52,962 INFO sqlalchemy.engine.Engine SELECT \"Positions\".id AS \"Positions_id\", \"Positions\".upper AS \"Positions_upper\", \"Positions\".middle AS \"Positions_middle\", \"Positions\".lower AS \"Positions_lower\", \"Positions\".x AS \"Positions_x\", \"Positions\".y AS \"Positions_y\" \n",
      "FROM \"Positions\" \n",
      "WHERE \"Positions\".id = ?\n",
      "2021-08-07 23:16:52,963 INFO sqlalchemy.engine.Engine [cached since 0.2529s ago] (39,)\n",
      "2021-08-07 23:16:52,965 INFO sqlalchemy.engine.Engine SELECT \"Positions\".id AS \"Positions_id\", \"Positions\".upper AS \"Positions_upper\", \"Positions\".middle AS \"Positions_middle\", \"Positions\".lower AS \"Positions_lower\", \"Positions\".x AS \"Positions_x\", \"Positions\".y AS \"Positions_y\" \n",
      "FROM \"Positions\" \n",
      "WHERE \"Positions\".id = ?\n",
      "2021-08-07 23:16:52,967 INFO sqlalchemy.engine.Engine [cached since 0.2623s ago] (40,)\n",
      "2021-08-07 23:16:52,969 INFO sqlalchemy.engine.Engine SELECT \"Positions\".id AS \"Positions_id\", \"Positions\".upper AS \"Positions_upper\", \"Positions\".middle AS \"Positions_middle\", \"Positions\".lower AS \"Positions_lower\", \"Positions\".x AS \"Positions_x\", \"Positions\".y AS \"Positions_y\" \n",
      "FROM \"Positions\" \n",
      "WHERE \"Positions\".id = ?\n",
      "2021-08-07 23:16:52,970 INFO sqlalchemy.engine.Engine [cached since 0.2601s ago] (41,)\n",
      "2021-08-07 23:16:52,972 INFO sqlalchemy.engine.Engine SELECT \"Positions\".id AS \"Positions_id\", \"Positions\".upper AS \"Positions_upper\", \"Positions\".middle AS \"Positions_middle\", \"Positions\".lower AS \"Positions_lower\", \"Positions\".x AS \"Positions_x\", \"Positions\".y AS \"Positions_y\" \n",
      "FROM \"Positions\" \n",
      "WHERE \"Positions\".id = ?\n",
      "2021-08-07 23:16:52,973 INFO sqlalchemy.engine.Engine [cached since 0.2688s ago] (42,)\n",
      "2021-08-07 23:16:52,975 INFO sqlalchemy.engine.Engine SELECT \"Positions\".id AS \"Positions_id\", \"Positions\".upper AS \"Positions_upper\", \"Positions\".middle AS \"Positions_middle\", \"Positions\".lower AS \"Positions_lower\", \"Positions\".x AS \"Positions_x\", \"Positions\".y AS \"Positions_y\" \n",
      "FROM \"Positions\" \n",
      "WHERE \"Positions\".id = ?\n",
      "2021-08-07 23:16:52,975 INFO sqlalchemy.engine.Engine [cached since 0.2655s ago] (43,)\n",
      "2021-08-07 23:16:52,978 INFO sqlalchemy.engine.Engine SELECT \"Positions\".id AS \"Positions_id\", \"Positions\".upper AS \"Positions_upper\", \"Positions\".middle AS \"Positions_middle\", \"Positions\".lower AS \"Positions_lower\", \"Positions\".x AS \"Positions_x\", \"Positions\".y AS \"Positions_y\" \n",
      "FROM \"Positions\" \n",
      "WHERE \"Positions\".id = ?\n",
      "2021-08-07 23:16:52,978 INFO sqlalchemy.engine.Engine [cached since 0.2741s ago] (44,)\n",
      "2021-08-07 23:16:52,981 INFO sqlalchemy.engine.Engine SELECT \"Positions\".id AS \"Positions_id\", \"Positions\".upper AS \"Positions_upper\", \"Positions\".middle AS \"Positions_middle\", \"Positions\".lower AS \"Positions_lower\", \"Positions\".x AS \"Positions_x\", \"Positions\".y AS \"Positions_y\" \n",
      "FROM \"Positions\" \n",
      "WHERE \"Positions\".id = ?\n",
      "2021-08-07 23:16:52,981 INFO sqlalchemy.engine.Engine [cached since 0.2715s ago] (45,)\n",
      "2021-08-07 23:16:52,984 INFO sqlalchemy.engine.Engine SELECT \"Positions\".id AS \"Positions_id\", \"Positions\".upper AS \"Positions_upper\", \"Positions\".middle AS \"Positions_middle\", \"Positions\".lower AS \"Positions_lower\", \"Positions\".x AS \"Positions_x\", \"Positions\".y AS \"Positions_y\" \n",
      "FROM \"Positions\" \n",
      "WHERE \"Positions\".id = ?\n"
     ]
    },
    {
     "name": "stdout",
     "output_type": "stream",
     "text": [
      "2021-08-07 23:16:52,984 INFO sqlalchemy.engine.Engine [cached since 0.2801s ago] (46,)\n",
      "2021-08-07 23:16:52,986 INFO sqlalchemy.engine.Engine SELECT \"Positions\".id AS \"Positions_id\", \"Positions\".upper AS \"Positions_upper\", \"Positions\".middle AS \"Positions_middle\", \"Positions\".lower AS \"Positions_lower\", \"Positions\".x AS \"Positions_x\", \"Positions\".y AS \"Positions_y\" \n",
      "FROM \"Positions\" \n",
      "WHERE \"Positions\".id = ?\n",
      "2021-08-07 23:16:52,988 INFO sqlalchemy.engine.Engine [cached since 0.2776s ago] (47,)\n",
      "2021-08-07 23:16:52,990 INFO sqlalchemy.engine.Engine SELECT \"Positions\".id AS \"Positions_id\", \"Positions\".upper AS \"Positions_upper\", \"Positions\".middle AS \"Positions_middle\", \"Positions\".lower AS \"Positions_lower\", \"Positions\".x AS \"Positions_x\", \"Positions\".y AS \"Positions_y\" \n",
      "FROM \"Positions\" \n",
      "WHERE \"Positions\".id = ?\n",
      "2021-08-07 23:16:52,991 INFO sqlalchemy.engine.Engine [cached since 0.2865s ago] (48,)\n",
      "2021-08-07 23:16:52,993 INFO sqlalchemy.engine.Engine SELECT \"Positions\".id AS \"Positions_id\", \"Positions\".upper AS \"Positions_upper\", \"Positions\".middle AS \"Positions_middle\", \"Positions\".lower AS \"Positions_lower\", \"Positions\".x AS \"Positions_x\", \"Positions\".y AS \"Positions_y\" \n",
      "FROM \"Positions\" \n",
      "WHERE \"Positions\".id = ?\n",
      "2021-08-07 23:16:52,993 INFO sqlalchemy.engine.Engine [cached since 0.2835s ago] (49,)\n",
      "2021-08-07 23:16:52,995 INFO sqlalchemy.engine.Engine SELECT \"Positions\".id AS \"Positions_id\", \"Positions\".upper AS \"Positions_upper\", \"Positions\".middle AS \"Positions_middle\", \"Positions\".lower AS \"Positions_lower\", \"Positions\".x AS \"Positions_x\", \"Positions\".y AS \"Positions_y\" \n",
      "FROM \"Positions\" \n",
      "WHERE \"Positions\".id = ?\n",
      "2021-08-07 23:16:52,996 INFO sqlalchemy.engine.Engine [cached since 0.2917s ago] (50,)\n",
      "2021-08-07 23:16:52,998 INFO sqlalchemy.engine.Engine SELECT \"Positions\".id AS \"Positions_id\", \"Positions\".upper AS \"Positions_upper\", \"Positions\".middle AS \"Positions_middle\", \"Positions\".lower AS \"Positions_lower\", \"Positions\".x AS \"Positions_x\", \"Positions\".y AS \"Positions_y\" \n",
      "FROM \"Positions\" \n",
      "WHERE \"Positions\".id = ?\n",
      "2021-08-07 23:16:52,998 INFO sqlalchemy.engine.Engine [cached since 0.2883s ago] (51,)\n",
      "Borehole geometry created successfully !\n",
      "2021-08-07 23:16:53,013 INFO sqlalchemy.engine.Engine UPDATE \"Boreholes\" SET length=? WHERE \"Boreholes\".id = ?\n",
      "2021-08-07 23:16:53,014 INFO sqlalchemy.engine.Engine [cached since 0.2684s ago] (97.0, 'BH005')\n",
      "2021-08-07 23:16:53,015 INFO sqlalchemy.engine.Engine INSERT INTO \"Boreholes\" (id, date, length, diameter) VALUES (?, ?, ?, ?)\n",
      "2021-08-07 23:16:53,016 INFO sqlalchemy.engine.Engine [cached since 0.3408s ago] ('BH006', None, 26.0, 0.31)\n",
      "2021-08-07 23:16:53,017 INFO sqlalchemy.engine.Engine INSERT INTO \"Positions\" (id, upper, middle, lower, x, y) VALUES (?, ?, ?, ?, ?, ?)\n",
      "2021-08-07 23:16:53,018 INFO sqlalchemy.engine.Engine [cached since 0.3385s ago] ((52, 101.0, 101.0, 101.0, 152375.0, 121002.0), (53, 100.0, 100.0, 100.0, 152375.0, 121002.0), (54, 100.0, 100.0, 100.0, 152375.0, 121002.0), (55, 98.0, 98.0, 98.0, 152375.0, 121002.0), (56, 98.0, 98.0, 98.0, 152375.0, 121002.0), (57, 92.0, 92.0, 92.0, 152375.0, 121002.0), (58, 92.0, 92.0, 92.0, 152375.0, 121002.0), (59, 86.0, 86.0, 86.0, 152375.0, 121002.0), (60, 86.0, 86.0, 86.0, 152375.0, 121002.0), (61, 75.0, 75.0, 75.0, 152375.0, 121002.0))\n",
      "2021-08-07 23:16:53,020 INFO sqlalchemy.engine.Engine INSERT INTO \"Intervals\" (id, borehole, interval_number, description, top_id, base_id, data_id) VALUES (?, ?, ?, ?, ?, ?, ?)\n",
      "2021-08-07 23:16:53,021 INFO sqlalchemy.engine.Engine [cached since 0.3377s ago] ((26, 'BH006', 0, '{\"lithology\": \"sable\"}, {\"arsenic\": \"vr\"}, {\"cadmium\": \"vr\"}', 52, 53, None), (27, 'BH006', 1, '{\"lithology\": \"argile\"}, {\"arsenic\": \"vr\"}, {\"cadmium\": \"vi\"}', 54, 55, None), (28, 'BH006', 2, '{\"lithology\": \"marne\"}, {\"arsenic\": \"vi\"}, {\"cadmium\": \"vs\"}', 56, 57, None), (29, 'BH006', 3, '{\"lithology\": \"charbon\"}, {\"arsenic\": \"vr\"}, {\"cadmium\": \"vs\"}', 58, 59, None), (30, 'BH006', 4, '{\"lithology\": \"dolomie\"}, {\"arsenic\": \"vi\"}, {\"cadmium\": \"vi\"}', 60, 61, None))\n",
      "2021-08-07 23:16:53,022 INFO sqlalchemy.engine.Engine COMMIT\n",
      "2021-08-07 23:16:53,026 INFO sqlalchemy.engine.Engine BEGIN (implicit)\n",
      "2021-08-07 23:16:53,026 INFO sqlalchemy.engine.Engine SELECT \"Boreholes\".id AS \"Boreholes_id\", \"Boreholes\".date AS \"Boreholes_date\", \"Boreholes\".length AS \"Boreholes_length\", \"Boreholes\".diameter AS \"Boreholes_diameter\" \n",
      "FROM \"Boreholes\"\n",
      "2021-08-07 23:16:53,027 INFO sqlalchemy.engine.Engine [cached since 0.3964s ago] ()\n",
      "2021-08-07 23:16:53,030 INFO sqlalchemy.engine.Engine SELECT \"Intervals\".id AS \"Intervals_id\", \"Intervals\".borehole AS \"Intervals_borehole\", \"Intervals\".interval_number AS \"Intervals_interval_number\", \"Intervals\".description AS \"Intervals_description\", \"Intervals\".top_id AS \"Intervals_top_id\", \"Intervals\".base_id AS \"Intervals_base_id\", \"Intervals\".data_id AS \"Intervals_data_id\" \n",
      "FROM \"Intervals\" \n",
      "WHERE ? = \"Intervals\".borehole\n",
      "2021-08-07 23:16:53,031 INFO sqlalchemy.engine.Engine [cached since 0.333s ago] ('BH006',)\n",
      "2021-08-07 23:16:53,033 INFO sqlalchemy.engine.Engine SELECT \"Positions\".id AS \"Positions_id\", \"Positions\".upper AS \"Positions_upper\", \"Positions\".middle AS \"Positions_middle\", \"Positions\".lower AS \"Positions_lower\", \"Positions\".x AS \"Positions_x\", \"Positions\".y AS \"Positions_y\" \n",
      "FROM \"Positions\" \n",
      "WHERE \"Positions\".id = ?\n",
      "2021-08-07 23:16:53,034 INFO sqlalchemy.engine.Engine [cached since 0.3294s ago] (52,)\n",
      "2021-08-07 23:16:53,036 INFO sqlalchemy.engine.Engine SELECT \"Positions\".id AS \"Positions_id\", \"Positions\".upper AS \"Positions_upper\", \"Positions\".middle AS \"Positions_middle\", \"Positions\".lower AS \"Positions_lower\", \"Positions\".x AS \"Positions_x\", \"Positions\".y AS \"Positions_y\" \n",
      "FROM \"Positions\" \n",
      "WHERE \"Positions\".id = ?\n",
      "2021-08-07 23:16:53,037 INFO sqlalchemy.engine.Engine [cached since 0.3273s ago] (53,)\n",
      "2021-08-07 23:16:53,039 INFO sqlalchemy.engine.Engine SELECT \"Positions\".id AS \"Positions_id\", \"Positions\".upper AS \"Positions_upper\", \"Positions\".middle AS \"Positions_middle\", \"Positions\".lower AS \"Positions_lower\", \"Positions\".x AS \"Positions_x\", \"Positions\".y AS \"Positions_y\" \n",
      "FROM \"Positions\" \n",
      "WHERE \"Positions\".id = ?\n",
      "2021-08-07 23:16:53,040 INFO sqlalchemy.engine.Engine [cached since 0.3353s ago] (54,)\n",
      "2021-08-07 23:16:53,041 INFO sqlalchemy.engine.Engine SELECT \"Positions\".id AS \"Positions_id\", \"Positions\".upper AS \"Positions_upper\", \"Positions\".middle AS \"Positions_middle\", \"Positions\".lower AS \"Positions_lower\", \"Positions\".x AS \"Positions_x\", \"Positions\".y AS \"Positions_y\" \n",
      "FROM \"Positions\" \n",
      "WHERE \"Positions\".id = ?\n",
      "2021-08-07 23:16:53,042 INFO sqlalchemy.engine.Engine [cached since 0.3323s ago] (55,)\n",
      "2021-08-07 23:16:53,044 INFO sqlalchemy.engine.Engine SELECT \"Positions\".id AS \"Positions_id\", \"Positions\".upper AS \"Positions_upper\", \"Positions\".middle AS \"Positions_middle\", \"Positions\".lower AS \"Positions_lower\", \"Positions\".x AS \"Positions_x\", \"Positions\".y AS \"Positions_y\" \n",
      "FROM \"Positions\" \n",
      "WHERE \"Positions\".id = ?\n",
      "2021-08-07 23:16:53,045 INFO sqlalchemy.engine.Engine [cached since 0.3409s ago] (56,)\n",
      "2021-08-07 23:16:53,047 INFO sqlalchemy.engine.Engine SELECT \"Positions\".id AS \"Positions_id\", \"Positions\".upper AS \"Positions_upper\", \"Positions\".middle AS \"Positions_middle\", \"Positions\".lower AS \"Positions_lower\", \"Positions\".x AS \"Positions_x\", \"Positions\".y AS \"Positions_y\" \n",
      "FROM \"Positions\" \n",
      "WHERE \"Positions\".id = ?\n",
      "2021-08-07 23:16:53,047 INFO sqlalchemy.engine.Engine [cached since 0.3375s ago] (57,)\n",
      "2021-08-07 23:16:53,049 INFO sqlalchemy.engine.Engine SELECT \"Positions\".id AS \"Positions_id\", \"Positions\".upper AS \"Positions_upper\", \"Positions\".middle AS \"Positions_middle\", \"Positions\".lower AS \"Positions_lower\", \"Positions\".x AS \"Positions_x\", \"Positions\".y AS \"Positions_y\" \n",
      "FROM \"Positions\" \n",
      "WHERE \"Positions\".id = ?\n",
      "2021-08-07 23:16:53,050 INFO sqlalchemy.engine.Engine [cached since 0.3457s ago] (58,)\n",
      "2021-08-07 23:16:53,052 INFO sqlalchemy.engine.Engine SELECT \"Positions\".id AS \"Positions_id\", \"Positions\".upper AS \"Positions_upper\", \"Positions\".middle AS \"Positions_middle\", \"Positions\".lower AS \"Positions_lower\", \"Positions\".x AS \"Positions_x\", \"Positions\".y AS \"Positions_y\" \n",
      "FROM \"Positions\" \n",
      "WHERE \"Positions\".id = ?\n"
     ]
    },
    {
     "name": "stdout",
     "output_type": "stream",
     "text": [
      "2021-08-07 23:16:53,053 INFO sqlalchemy.engine.Engine [cached since 0.3435s ago] (59,)\n",
      "2021-08-07 23:16:53,055 INFO sqlalchemy.engine.Engine SELECT \"Positions\".id AS \"Positions_id\", \"Positions\".upper AS \"Positions_upper\", \"Positions\".middle AS \"Positions_middle\", \"Positions\".lower AS \"Positions_lower\", \"Positions\".x AS \"Positions_x\", \"Positions\".y AS \"Positions_y\" \n",
      "FROM \"Positions\" \n",
      "WHERE \"Positions\".id = ?\n",
      "2021-08-07 23:16:53,056 INFO sqlalchemy.engine.Engine [cached since 0.3521s ago] (60,)\n",
      "2021-08-07 23:16:53,058 INFO sqlalchemy.engine.Engine SELECT \"Positions\".id AS \"Positions_id\", \"Positions\".upper AS \"Positions_upper\", \"Positions\".middle AS \"Positions_middle\", \"Positions\".lower AS \"Positions_lower\", \"Positions\".x AS \"Positions_x\", \"Positions\".y AS \"Positions_y\" \n",
      "FROM \"Positions\" \n",
      "WHERE \"Positions\".id = ?\n",
      "2021-08-07 23:16:53,059 INFO sqlalchemy.engine.Engine [cached since 0.3488s ago] (61,)\n",
      "Borehole geometry created successfully !\n",
      "2021-08-07 23:16:53,078 INFO sqlalchemy.engine.Engine UPDATE \"Boreholes\" SET length=? WHERE \"Boreholes\".id = ?\n",
      "2021-08-07 23:16:53,080 INFO sqlalchemy.engine.Engine [cached since 0.334s ago] (100.0, 'BH006')\n",
      "2021-08-07 23:16:53,081 INFO sqlalchemy.engine.Engine INSERT INTO \"Boreholes\" (id, date, length, diameter) VALUES (?, ?, ?, ?)\n",
      "2021-08-07 23:16:53,082 INFO sqlalchemy.engine.Engine [cached since 0.4064s ago] ('BH007', None, 45.0, 0.57)\n",
      "2021-08-07 23:16:53,083 INFO sqlalchemy.engine.Engine INSERT INTO \"Positions\" (id, upper, middle, lower, x, y) VALUES (?, ?, ?, ?, ?, ?)\n",
      "2021-08-07 23:16:53,084 INFO sqlalchemy.engine.Engine [cached since 0.4049s ago] ((62, 101.0, 101.0, 101.0, 152794.0, 121111.0), (63, 97.0, 97.0, 97.0, 152794.0, 121111.0), (64, 97.0, 97.0, 97.0, 152794.0, 121111.0), (65, 93.0, 93.0, 93.0, 152794.0, 121111.0), (66, 93.0, 93.0, 93.0, 152794.0, 121111.0), (67, 83.0, 83.0, 83.0, 152794.0, 121111.0), (68, 83.0, 83.0, 83.0, 152794.0, 121111.0), (69, 82.0, 82.0, 82.0, 152794.0, 121111.0)  ... displaying 10 of 12 total bound parameter sets ...  (72, 60.0, 60.0, 60.0, 152794.0, 121111.0), (73, 56.0, 56.0, 56.0, 152794.0, 121111.0))\n",
      "2021-08-07 23:16:53,086 INFO sqlalchemy.engine.Engine INSERT INTO \"Intervals\" (id, borehole, interval_number, description, top_id, base_id, data_id) VALUES (?, ?, ?, ?, ?, ?, ?)\n",
      "2021-08-07 23:16:53,087 INFO sqlalchemy.engine.Engine [cached since 0.4044s ago] ((31, 'BH007', 0, '{\"lithology\": \"sable\"}, {\"arsenic\": \"vi\"}, {\"cadmium\": \"vr\"}', 62, 63, None), (32, 'BH007', 1, '{\"lithology\": \"argile\"}, {\"arsenic\": \"inconnu\"}, {\"cadmium\": \"vs\"}', 64, 65, None), (33, 'BH007', 2, '{\"lithology\": \"marne\"}, {\"arsenic\": \"vs\"}, {\"cadmium\": \"vr\"}', 66, 67, None), (34, 'BH007', 3, '{\"lithology\": \"charbon\"}, {\"arsenic\": \"vr\"}, {\"cadmium\": \"vr\"}', 68, 69, None), (35, 'BH007', 4, '{\"lithology\": \"dolomie\"}, {\"arsenic\": \"inconnu\"}, {\"cadmium\": \"inconnu\"}', 70, 71, None), (36, 'BH007', 5, '{\"lithology\": \"calcaire\"}, {\"arsenic\": \"vs\"}, {\"cadmium\": \"vr\"}', 72, 73, None))\n",
      "2021-08-07 23:16:53,089 INFO sqlalchemy.engine.Engine COMMIT\n",
      "2021-08-07 23:16:53,094 INFO sqlalchemy.engine.Engine BEGIN (implicit)\n",
      "2021-08-07 23:16:53,096 INFO sqlalchemy.engine.Engine SELECT \"Boreholes\".id AS \"Boreholes_id\", \"Boreholes\".date AS \"Boreholes_date\", \"Boreholes\".length AS \"Boreholes_length\", \"Boreholes\".diameter AS \"Boreholes_diameter\" \n",
      "FROM \"Boreholes\"\n",
      "2021-08-07 23:16:53,097 INFO sqlalchemy.engine.Engine [cached since 0.4658s ago] ()\n",
      "2021-08-07 23:16:53,099 INFO sqlalchemy.engine.Engine SELECT \"Intervals\".id AS \"Intervals_id\", \"Intervals\".borehole AS \"Intervals_borehole\", \"Intervals\".interval_number AS \"Intervals_interval_number\", \"Intervals\".description AS \"Intervals_description\", \"Intervals\".top_id AS \"Intervals_top_id\", \"Intervals\".base_id AS \"Intervals_base_id\", \"Intervals\".data_id AS \"Intervals_data_id\" \n",
      "FROM \"Intervals\" \n",
      "WHERE ? = \"Intervals\".borehole\n",
      "2021-08-07 23:16:53,100 INFO sqlalchemy.engine.Engine [cached since 0.4021s ago] ('BH007',)\n",
      "2021-08-07 23:16:53,102 INFO sqlalchemy.engine.Engine SELECT \"Positions\".id AS \"Positions_id\", \"Positions\".upper AS \"Positions_upper\", \"Positions\".middle AS \"Positions_middle\", \"Positions\".lower AS \"Positions_lower\", \"Positions\".x AS \"Positions_x\", \"Positions\".y AS \"Positions_y\" \n",
      "FROM \"Positions\" \n",
      "WHERE \"Positions\".id = ?\n",
      "2021-08-07 23:16:53,103 INFO sqlalchemy.engine.Engine [cached since 0.3984s ago] (62,)\n",
      "2021-08-07 23:16:53,105 INFO sqlalchemy.engine.Engine SELECT \"Positions\".id AS \"Positions_id\", \"Positions\".upper AS \"Positions_upper\", \"Positions\".middle AS \"Positions_middle\", \"Positions\".lower AS \"Positions_lower\", \"Positions\".x AS \"Positions_x\", \"Positions\".y AS \"Positions_y\" \n",
      "FROM \"Positions\" \n",
      "WHERE \"Positions\".id = ?\n",
      "2021-08-07 23:16:53,106 INFO sqlalchemy.engine.Engine [cached since 0.3959s ago] (63,)\n",
      "2021-08-07 23:16:53,108 INFO sqlalchemy.engine.Engine SELECT \"Positions\".id AS \"Positions_id\", \"Positions\".upper AS \"Positions_upper\", \"Positions\".middle AS \"Positions_middle\", \"Positions\".lower AS \"Positions_lower\", \"Positions\".x AS \"Positions_x\", \"Positions\".y AS \"Positions_y\" \n",
      "FROM \"Positions\" \n",
      "WHERE \"Positions\".id = ?\n",
      "2021-08-07 23:16:53,109 INFO sqlalchemy.engine.Engine [cached since 0.405s ago] (64,)\n",
      "2021-08-07 23:16:53,111 INFO sqlalchemy.engine.Engine SELECT \"Positions\".id AS \"Positions_id\", \"Positions\".upper AS \"Positions_upper\", \"Positions\".middle AS \"Positions_middle\", \"Positions\".lower AS \"Positions_lower\", \"Positions\".x AS \"Positions_x\", \"Positions\".y AS \"Positions_y\" \n",
      "FROM \"Positions\" \n",
      "WHERE \"Positions\".id = ?\n",
      "2021-08-07 23:16:53,112 INFO sqlalchemy.engine.Engine [cached since 0.402s ago] (65,)\n",
      "2021-08-07 23:16:53,114 INFO sqlalchemy.engine.Engine SELECT \"Positions\".id AS \"Positions_id\", \"Positions\".upper AS \"Positions_upper\", \"Positions\".middle AS \"Positions_middle\", \"Positions\".lower AS \"Positions_lower\", \"Positions\".x AS \"Positions_x\", \"Positions\".y AS \"Positions_y\" \n",
      "FROM \"Positions\" \n",
      "WHERE \"Positions\".id = ?\n",
      "2021-08-07 23:16:53,115 INFO sqlalchemy.engine.Engine [cached since 0.4107s ago] (66,)\n",
      "2021-08-07 23:16:53,117 INFO sqlalchemy.engine.Engine SELECT \"Positions\".id AS \"Positions_id\", \"Positions\".upper AS \"Positions_upper\", \"Positions\".middle AS \"Positions_middle\", \"Positions\".lower AS \"Positions_lower\", \"Positions\".x AS \"Positions_x\", \"Positions\".y AS \"Positions_y\" \n",
      "FROM \"Positions\" \n",
      "WHERE \"Positions\".id = ?\n",
      "2021-08-07 23:16:53,118 INFO sqlalchemy.engine.Engine [cached since 0.408s ago] (67,)\n",
      "2021-08-07 23:16:53,120 INFO sqlalchemy.engine.Engine SELECT \"Positions\".id AS \"Positions_id\", \"Positions\".upper AS \"Positions_upper\", \"Positions\".middle AS \"Positions_middle\", \"Positions\".lower AS \"Positions_lower\", \"Positions\".x AS \"Positions_x\", \"Positions\".y AS \"Positions_y\" \n",
      "FROM \"Positions\" \n",
      "WHERE \"Positions\".id = ?\n",
      "2021-08-07 23:16:53,121 INFO sqlalchemy.engine.Engine [cached since 0.4165s ago] (68,)\n",
      "2021-08-07 23:16:53,123 INFO sqlalchemy.engine.Engine SELECT \"Positions\".id AS \"Positions_id\", \"Positions\".upper AS \"Positions_upper\", \"Positions\".middle AS \"Positions_middle\", \"Positions\".lower AS \"Positions_lower\", \"Positions\".x AS \"Positions_x\", \"Positions\".y AS \"Positions_y\" \n",
      "FROM \"Positions\" \n",
      "WHERE \"Positions\".id = ?\n",
      "2021-08-07 23:16:53,124 INFO sqlalchemy.engine.Engine [cached since 0.4145s ago] (69,)\n",
      "2021-08-07 23:16:53,127 INFO sqlalchemy.engine.Engine SELECT \"Positions\".id AS \"Positions_id\", \"Positions\".upper AS \"Positions_upper\", \"Positions\".middle AS \"Positions_middle\", \"Positions\".lower AS \"Positions_lower\", \"Positions\".x AS \"Positions_x\", \"Positions\".y AS \"Positions_y\" \n",
      "FROM \"Positions\" \n",
      "WHERE \"Positions\".id = ?\n",
      "2021-08-07 23:16:53,128 INFO sqlalchemy.engine.Engine [cached since 0.4238s ago] (70,)\n",
      "2021-08-07 23:16:53,130 INFO sqlalchemy.engine.Engine SELECT \"Positions\".id AS \"Positions_id\", \"Positions\".upper AS \"Positions_upper\", \"Positions\".middle AS \"Positions_middle\", \"Positions\".lower AS \"Positions_lower\", \"Positions\".x AS \"Positions_x\", \"Positions\".y AS \"Positions_y\" \n",
      "FROM \"Positions\" \n",
      "WHERE \"Positions\".id = ?\n",
      "2021-08-07 23:16:53,131 INFO sqlalchemy.engine.Engine [cached since 0.4213s ago] (71,)\n",
      "2021-08-07 23:16:53,134 INFO sqlalchemy.engine.Engine SELECT \"Positions\".id AS \"Positions_id\", \"Positions\".upper AS \"Positions_upper\", \"Positions\".middle AS \"Positions_middle\", \"Positions\".lower AS \"Positions_lower\", \"Positions\".x AS \"Positions_x\", \"Positions\".y AS \"Positions_y\" \n",
      "FROM \"Positions\" \n",
      "WHERE \"Positions\".id = ?\n"
     ]
    },
    {
     "name": "stdout",
     "output_type": "stream",
     "text": [
      "2021-08-07 23:16:53,135 INFO sqlalchemy.engine.Engine [cached since 0.4302s ago] (72,)\n",
      "2021-08-07 23:16:53,137 INFO sqlalchemy.engine.Engine SELECT \"Positions\".id AS \"Positions_id\", \"Positions\".upper AS \"Positions_upper\", \"Positions\".middle AS \"Positions_middle\", \"Positions\".lower AS \"Positions_lower\", \"Positions\".x AS \"Positions_x\", \"Positions\".y AS \"Positions_y\" \n",
      "FROM \"Positions\" \n",
      "WHERE \"Positions\".id = ?\n",
      "2021-08-07 23:16:53,138 INFO sqlalchemy.engine.Engine [cached since 0.4279s ago] (73,)\n",
      "Borehole geometry created successfully !\n",
      "2021-08-07 23:16:53,155 INFO sqlalchemy.engine.Engine UPDATE \"Boreholes\" SET length=? WHERE \"Boreholes\".id = ?\n",
      "2021-08-07 23:16:53,156 INFO sqlalchemy.engine.Engine [cached since 0.4105s ago] (97.0, 'BH007')\n",
      "2021-08-07 23:16:53,158 INFO sqlalchemy.engine.Engine INSERT INTO \"Boreholes\" (id, date, length, diameter) VALUES (?, ?, ?, ?)\n",
      "2021-08-07 23:16:53,160 INFO sqlalchemy.engine.Engine [cached since 0.4846s ago] ('BH008', None, 35.0, 0.39)\n",
      "2021-08-07 23:16:53,162 INFO sqlalchemy.engine.Engine INSERT INTO \"Positions\" (id, upper, middle, lower, x, y) VALUES (?, ?, ?, ?, ?, ?)\n",
      "2021-08-07 23:16:53,163 INFO sqlalchemy.engine.Engine [cached since 0.4832s ago] ((74, 101.0, 101.0, 101.0, 152150.0, 121579.0), (75, 98.0, 98.0, 98.0, 152150.0, 121579.0), (76, 98.0, 98.0, 98.0, 152150.0, 121579.0), (77, 97.0, 97.0, 97.0, 152150.0, 121579.0), (78, 97.0, 97.0, 97.0, 152150.0, 121579.0), (79, 91.0, 91.0, 91.0, 152150.0, 121579.0), (80, 91.0, 91.0, 91.0, 152150.0, 121579.0), (81, 86.0, 86.0, 86.0, 152150.0, 121579.0), (82, 86.0, 86.0, 86.0, 152150.0, 121579.0), (83, 66.0, 66.0, 66.0, 152150.0, 121579.0))\n",
      "2021-08-07 23:16:53,165 INFO sqlalchemy.engine.Engine INSERT INTO \"Intervals\" (id, borehole, interval_number, description, top_id, base_id, data_id) VALUES (?, ?, ?, ?, ?, ?, ?)\n",
      "2021-08-07 23:16:53,166 INFO sqlalchemy.engine.Engine [cached since 0.4833s ago] ((37, 'BH008', 0, '{\"lithology\": \"sable\"}, {\"arsenic\": \"vs\"}, {\"cadmium\": \"vr\"}', 74, 75, None), (38, 'BH008', 1, '{\"lithology\": \"argile\"}, {\"arsenic\": \"inconnu\"}, {\"cadmium\": \"inconnu\"}', 76, 77, None), (39, 'BH008', 2, '{\"lithology\": \"marne\"}, {\"arsenic\": \"vr\"}, {\"cadmium\": \"vr\"}', 78, 79, None), (40, 'BH008', 3, '{\"lithology\": \"charbon\"}, {\"arsenic\": \"vi\"}, {\"cadmium\": \"vs\"}', 80, 81, None), (41, 'BH008', 4, '{\"lithology\": \"dolomie\"}, {\"arsenic\": \"vs\"}, {\"cadmium\": \"vi\"}', 82, 83, None))\n",
      "2021-08-07 23:16:53,168 INFO sqlalchemy.engine.Engine COMMIT\n",
      "2021-08-07 23:16:53,174 INFO sqlalchemy.engine.Engine BEGIN (implicit)\n",
      "2021-08-07 23:16:53,175 INFO sqlalchemy.engine.Engine SELECT \"Boreholes\".id AS \"Boreholes_id\", \"Boreholes\".date AS \"Boreholes_date\", \"Boreholes\".length AS \"Boreholes_length\", \"Boreholes\".diameter AS \"Boreholes_diameter\" \n",
      "FROM \"Boreholes\"\n",
      "2021-08-07 23:16:53,176 INFO sqlalchemy.engine.Engine [cached since 0.5452s ago] ()\n",
      "2021-08-07 23:16:53,178 INFO sqlalchemy.engine.Engine SELECT \"Intervals\".id AS \"Intervals_id\", \"Intervals\".borehole AS \"Intervals_borehole\", \"Intervals\".interval_number AS \"Intervals_interval_number\", \"Intervals\".description AS \"Intervals_description\", \"Intervals\".top_id AS \"Intervals_top_id\", \"Intervals\".base_id AS \"Intervals_base_id\", \"Intervals\".data_id AS \"Intervals_data_id\" \n",
      "FROM \"Intervals\" \n",
      "WHERE ? = \"Intervals\".borehole\n",
      "2021-08-07 23:16:53,179 INFO sqlalchemy.engine.Engine [cached since 0.4816s ago] ('BH008',)\n",
      "2021-08-07 23:16:53,182 INFO sqlalchemy.engine.Engine SELECT \"Positions\".id AS \"Positions_id\", \"Positions\".upper AS \"Positions_upper\", \"Positions\".middle AS \"Positions_middle\", \"Positions\".lower AS \"Positions_lower\", \"Positions\".x AS \"Positions_x\", \"Positions\".y AS \"Positions_y\" \n",
      "FROM \"Positions\" \n",
      "WHERE \"Positions\".id = ?\n",
      "2021-08-07 23:16:53,183 INFO sqlalchemy.engine.Engine [cached since 0.4784s ago] (74,)\n",
      "2021-08-07 23:16:53,185 INFO sqlalchemy.engine.Engine SELECT \"Positions\".id AS \"Positions_id\", \"Positions\".upper AS \"Positions_upper\", \"Positions\".middle AS \"Positions_middle\", \"Positions\".lower AS \"Positions_lower\", \"Positions\".x AS \"Positions_x\", \"Positions\".y AS \"Positions_y\" \n",
      "FROM \"Positions\" \n",
      "WHERE \"Positions\".id = ?\n",
      "2021-08-07 23:16:53,186 INFO sqlalchemy.engine.Engine [cached since 0.4762s ago] (75,)\n",
      "2021-08-07 23:16:53,189 INFO sqlalchemy.engine.Engine SELECT \"Positions\".id AS \"Positions_id\", \"Positions\".upper AS \"Positions_upper\", \"Positions\".middle AS \"Positions_middle\", \"Positions\".lower AS \"Positions_lower\", \"Positions\".x AS \"Positions_x\", \"Positions\".y AS \"Positions_y\" \n",
      "FROM \"Positions\" \n",
      "WHERE \"Positions\".id = ?\n",
      "2021-08-07 23:16:53,190 INFO sqlalchemy.engine.Engine [cached since 0.4856s ago] (76,)\n",
      "2021-08-07 23:16:53,192 INFO sqlalchemy.engine.Engine SELECT \"Positions\".id AS \"Positions_id\", \"Positions\".upper AS \"Positions_upper\", \"Positions\".middle AS \"Positions_middle\", \"Positions\".lower AS \"Positions_lower\", \"Positions\".x AS \"Positions_x\", \"Positions\".y AS \"Positions_y\" \n",
      "FROM \"Positions\" \n",
      "WHERE \"Positions\".id = ?\n",
      "2021-08-07 23:16:53,193 INFO sqlalchemy.engine.Engine [cached since 0.4834s ago] (77,)\n",
      "2021-08-07 23:16:53,195 INFO sqlalchemy.engine.Engine SELECT \"Positions\".id AS \"Positions_id\", \"Positions\".upper AS \"Positions_upper\", \"Positions\".middle AS \"Positions_middle\", \"Positions\".lower AS \"Positions_lower\", \"Positions\".x AS \"Positions_x\", \"Positions\".y AS \"Positions_y\" \n",
      "FROM \"Positions\" \n",
      "WHERE \"Positions\".id = ?\n",
      "2021-08-07 23:16:53,197 INFO sqlalchemy.engine.Engine [cached since 0.4923s ago] (78,)\n",
      "2021-08-07 23:16:53,198 INFO sqlalchemy.engine.Engine SELECT \"Positions\".id AS \"Positions_id\", \"Positions\".upper AS \"Positions_upper\", \"Positions\".middle AS \"Positions_middle\", \"Positions\".lower AS \"Positions_lower\", \"Positions\".x AS \"Positions_x\", \"Positions\".y AS \"Positions_y\" \n",
      "FROM \"Positions\" \n",
      "WHERE \"Positions\".id = ?\n",
      "2021-08-07 23:16:53,200 INFO sqlalchemy.engine.Engine [cached since 0.4896s ago] (79,)\n",
      "2021-08-07 23:16:53,202 INFO sqlalchemy.engine.Engine SELECT \"Positions\".id AS \"Positions_id\", \"Positions\".upper AS \"Positions_upper\", \"Positions\".middle AS \"Positions_middle\", \"Positions\".lower AS \"Positions_lower\", \"Positions\".x AS \"Positions_x\", \"Positions\".y AS \"Positions_y\" \n",
      "FROM \"Positions\" \n",
      "WHERE \"Positions\".id = ?\n",
      "2021-08-07 23:16:53,203 INFO sqlalchemy.engine.Engine [cached since 0.4982s ago] (80,)\n",
      "2021-08-07 23:16:53,205 INFO sqlalchemy.engine.Engine SELECT \"Positions\".id AS \"Positions_id\", \"Positions\".upper AS \"Positions_upper\", \"Positions\".middle AS \"Positions_middle\", \"Positions\".lower AS \"Positions_lower\", \"Positions\".x AS \"Positions_x\", \"Positions\".y AS \"Positions_y\" \n",
      "FROM \"Positions\" \n",
      "WHERE \"Positions\".id = ?\n",
      "2021-08-07 23:16:53,206 INFO sqlalchemy.engine.Engine [cached since 0.496s ago] (81,)\n",
      "2021-08-07 23:16:53,208 INFO sqlalchemy.engine.Engine SELECT \"Positions\".id AS \"Positions_id\", \"Positions\".upper AS \"Positions_upper\", \"Positions\".middle AS \"Positions_middle\", \"Positions\".lower AS \"Positions_lower\", \"Positions\".x AS \"Positions_x\", \"Positions\".y AS \"Positions_y\" \n",
      "FROM \"Positions\" \n",
      "WHERE \"Positions\".id = ?\n",
      "2021-08-07 23:16:53,209 INFO sqlalchemy.engine.Engine [cached since 0.505s ago] (82,)\n",
      "2021-08-07 23:16:53,211 INFO sqlalchemy.engine.Engine SELECT \"Positions\".id AS \"Positions_id\", \"Positions\".upper AS \"Positions_upper\", \"Positions\".middle AS \"Positions_middle\", \"Positions\".lower AS \"Positions_lower\", \"Positions\".x AS \"Positions_x\", \"Positions\".y AS \"Positions_y\" \n",
      "FROM \"Positions\" \n",
      "WHERE \"Positions\".id = ?\n",
      "2021-08-07 23:16:53,212 INFO sqlalchemy.engine.Engine [cached since 0.5023s ago] (83,)\n",
      "Borehole geometry created successfully !\n",
      "2021-08-07 23:16:53,228 INFO sqlalchemy.engine.Engine UPDATE \"Boreholes\" SET length=? WHERE \"Boreholes\".id = ?\n",
      "2021-08-07 23:16:53,230 INFO sqlalchemy.engine.Engine [cached since 0.484s ago] (98.0, 'BH008')\n",
      "2021-08-07 23:16:53,231 INFO sqlalchemy.engine.Engine INSERT INTO \"Boreholes\" (id, date, length, diameter) VALUES (?, ?, ?, ?)\n",
      "2021-08-07 23:16:53,232 INFO sqlalchemy.engine.Engine [cached since 0.5569s ago] ('BH009', None, 40.0, 0.5)\n",
      "2021-08-07 23:16:53,234 INFO sqlalchemy.engine.Engine INSERT INTO \"Positions\" (id, upper, middle, lower, x, y) VALUES (?, ?, ?, ?, ?, ?)\n",
      "2021-08-07 23:16:53,235 INFO sqlalchemy.engine.Engine [cached since 0.5555s ago] ((84, 100.0, 100.0, 100.0, 152052.0, 121293.0), (85, 94.0, 94.0, 94.0, 152052.0, 121293.0), (86, 94.0, 94.0, 94.0, 152052.0, 121293.0), (87, 92.0, 92.0, 92.0, 152052.0, 121293.0), (88, 92.0, 92.0, 92.0, 152052.0, 121293.0), (89, 82.0, 82.0, 82.0, 152052.0, 121293.0), (90, 82.0, 82.0, 82.0, 152052.0, 121293.0), (91, 78.0, 78.0, 78.0, 152052.0, 121293.0), (92, 78.0, 78.0, 78.0, 152052.0, 121293.0), (93, 60.0, 60.0, 60.0, 152052.0, 121293.0))\n"
     ]
    },
    {
     "name": "stdout",
     "output_type": "stream",
     "text": [
      "2021-08-07 23:16:53,238 INFO sqlalchemy.engine.Engine INSERT INTO \"Intervals\" (id, borehole, interval_number, description, top_id, base_id, data_id) VALUES (?, ?, ?, ?, ?, ?, ?)\n",
      "2021-08-07 23:16:53,239 INFO sqlalchemy.engine.Engine [cached since 0.5558s ago] ((42, 'BH009', 0, '{\"lithology\": \"sable\"}, {\"arsenic\": \"vi\"}, {\"cadmium\": \"vs\"}', 84, 85, None), (43, 'BH009', 1, '{\"lithology\": \"argile\"}, {\"arsenic\": \"vs\"}, {\"cadmium\": \"vi\"}', 86, 87, None), (44, 'BH009', 2, '{\"lithology\": \"marne\"}, {\"arsenic\": \"vr\"}, {\"cadmium\": \"vi\"}', 88, 89, None), (45, 'BH009', 3, '{\"lithology\": \"charbon\"}, {\"arsenic\": \"vr\"}, {\"cadmium\": \"inconnu\"}', 90, 91, None), (46, 'BH009', 4, '{\"lithology\": \"dolomie\"}, {\"arsenic\": \"vs\"}, {\"cadmium\": \"inconnu\"}', 92, 93, None))\n",
      "2021-08-07 23:16:53,241 INFO sqlalchemy.engine.Engine COMMIT\n",
      "2021-08-07 23:16:53,246 INFO sqlalchemy.engine.Engine BEGIN (implicit)\n",
      "2021-08-07 23:16:53,247 INFO sqlalchemy.engine.Engine SELECT \"Boreholes\".id AS \"Boreholes_id\", \"Boreholes\".date AS \"Boreholes_date\", \"Boreholes\".length AS \"Boreholes_length\", \"Boreholes\".diameter AS \"Boreholes_diameter\" \n",
      "FROM \"Boreholes\"\n",
      "2021-08-07 23:16:53,248 INFO sqlalchemy.engine.Engine [cached since 0.6168s ago] ()\n",
      "2021-08-07 23:16:53,250 INFO sqlalchemy.engine.Engine SELECT \"Intervals\".id AS \"Intervals_id\", \"Intervals\".borehole AS \"Intervals_borehole\", \"Intervals\".interval_number AS \"Intervals_interval_number\", \"Intervals\".description AS \"Intervals_description\", \"Intervals\".top_id AS \"Intervals_top_id\", \"Intervals\".base_id AS \"Intervals_base_id\", \"Intervals\".data_id AS \"Intervals_data_id\" \n",
      "FROM \"Intervals\" \n",
      "WHERE ? = \"Intervals\".borehole\n",
      "2021-08-07 23:16:53,251 INFO sqlalchemy.engine.Engine [cached since 0.5536s ago] ('BH009',)\n",
      "2021-08-07 23:16:53,254 INFO sqlalchemy.engine.Engine SELECT \"Positions\".id AS \"Positions_id\", \"Positions\".upper AS \"Positions_upper\", \"Positions\".middle AS \"Positions_middle\", \"Positions\".lower AS \"Positions_lower\", \"Positions\".x AS \"Positions_x\", \"Positions\".y AS \"Positions_y\" \n",
      "FROM \"Positions\" \n",
      "WHERE \"Positions\".id = ?\n",
      "2021-08-07 23:16:53,256 INFO sqlalchemy.engine.Engine [cached since 0.5513s ago] (84,)\n",
      "2021-08-07 23:16:53,258 INFO sqlalchemy.engine.Engine SELECT \"Positions\".id AS \"Positions_id\", \"Positions\".upper AS \"Positions_upper\", \"Positions\".middle AS \"Positions_middle\", \"Positions\".lower AS \"Positions_lower\", \"Positions\".x AS \"Positions_x\", \"Positions\".y AS \"Positions_y\" \n",
      "FROM \"Positions\" \n",
      "WHERE \"Positions\".id = ?\n",
      "2021-08-07 23:16:53,259 INFO sqlalchemy.engine.Engine [cached since 0.5487s ago] (85,)\n",
      "2021-08-07 23:16:53,261 INFO sqlalchemy.engine.Engine SELECT \"Positions\".id AS \"Positions_id\", \"Positions\".upper AS \"Positions_upper\", \"Positions\".middle AS \"Positions_middle\", \"Positions\".lower AS \"Positions_lower\", \"Positions\".x AS \"Positions_x\", \"Positions\".y AS \"Positions_y\" \n",
      "FROM \"Positions\" \n",
      "WHERE \"Positions\".id = ?\n",
      "2021-08-07 23:16:53,261 INFO sqlalchemy.engine.Engine [cached since 0.5571s ago] (86,)\n",
      "2021-08-07 23:16:53,263 INFO sqlalchemy.engine.Engine SELECT \"Positions\".id AS \"Positions_id\", \"Positions\".upper AS \"Positions_upper\", \"Positions\".middle AS \"Positions_middle\", \"Positions\".lower AS \"Positions_lower\", \"Positions\".x AS \"Positions_x\", \"Positions\".y AS \"Positions_y\" \n",
      "FROM \"Positions\" \n",
      "WHERE \"Positions\".id = ?\n",
      "2021-08-07 23:16:53,264 INFO sqlalchemy.engine.Engine [cached since 0.554s ago] (87,)\n",
      "2021-08-07 23:16:53,266 INFO sqlalchemy.engine.Engine SELECT \"Positions\".id AS \"Positions_id\", \"Positions\".upper AS \"Positions_upper\", \"Positions\".middle AS \"Positions_middle\", \"Positions\".lower AS \"Positions_lower\", \"Positions\".x AS \"Positions_x\", \"Positions\".y AS \"Positions_y\" \n",
      "FROM \"Positions\" \n",
      "WHERE \"Positions\".id = ?\n",
      "2021-08-07 23:16:53,266 INFO sqlalchemy.engine.Engine [cached since 0.5619s ago] (88,)\n",
      "2021-08-07 23:16:53,268 INFO sqlalchemy.engine.Engine SELECT \"Positions\".id AS \"Positions_id\", \"Positions\".upper AS \"Positions_upper\", \"Positions\".middle AS \"Positions_middle\", \"Positions\".lower AS \"Positions_lower\", \"Positions\".x AS \"Positions_x\", \"Positions\".y AS \"Positions_y\" \n",
      "FROM \"Positions\" \n",
      "WHERE \"Positions\".id = ?\n",
      "2021-08-07 23:16:53,269 INFO sqlalchemy.engine.Engine [cached since 0.5594s ago] (89,)\n",
      "2021-08-07 23:16:53,271 INFO sqlalchemy.engine.Engine SELECT \"Positions\".id AS \"Positions_id\", \"Positions\".upper AS \"Positions_upper\", \"Positions\".middle AS \"Positions_middle\", \"Positions\".lower AS \"Positions_lower\", \"Positions\".x AS \"Positions_x\", \"Positions\".y AS \"Positions_y\" \n",
      "FROM \"Positions\" \n",
      "WHERE \"Positions\".id = ?\n",
      "2021-08-07 23:16:53,273 INFO sqlalchemy.engine.Engine [cached since 0.5685s ago] (90,)\n",
      "2021-08-07 23:16:53,274 INFO sqlalchemy.engine.Engine SELECT \"Positions\".id AS \"Positions_id\", \"Positions\".upper AS \"Positions_upper\", \"Positions\".middle AS \"Positions_middle\", \"Positions\".lower AS \"Positions_lower\", \"Positions\".x AS \"Positions_x\", \"Positions\".y AS \"Positions_y\" \n",
      "FROM \"Positions\" \n",
      "WHERE \"Positions\".id = ?\n",
      "2021-08-07 23:16:53,275 INFO sqlalchemy.engine.Engine [cached since 0.5652s ago] (91,)\n",
      "2021-08-07 23:16:53,278 INFO sqlalchemy.engine.Engine SELECT \"Positions\".id AS \"Positions_id\", \"Positions\".upper AS \"Positions_upper\", \"Positions\".middle AS \"Positions_middle\", \"Positions\".lower AS \"Positions_lower\", \"Positions\".x AS \"Positions_x\", \"Positions\".y AS \"Positions_y\" \n",
      "FROM \"Positions\" \n",
      "WHERE \"Positions\".id = ?\n",
      "2021-08-07 23:16:53,278 INFO sqlalchemy.engine.Engine [cached since 0.5739s ago] (92,)\n",
      "2021-08-07 23:16:53,280 INFO sqlalchemy.engine.Engine SELECT \"Positions\".id AS \"Positions_id\", \"Positions\".upper AS \"Positions_upper\", \"Positions\".middle AS \"Positions_middle\", \"Positions\".lower AS \"Positions_lower\", \"Positions\".x AS \"Positions_x\", \"Positions\".y AS \"Positions_y\" \n",
      "FROM \"Positions\" \n",
      "WHERE \"Positions\".id = ?\n",
      "2021-08-07 23:16:53,281 INFO sqlalchemy.engine.Engine [cached since 0.5706s ago] (93,)\n",
      "Borehole geometry created successfully !\n",
      "2021-08-07 23:16:53,297 INFO sqlalchemy.engine.Engine UPDATE \"Boreholes\" SET length=? WHERE \"Boreholes\".id = ?\n",
      "2021-08-07 23:16:53,298 INFO sqlalchemy.engine.Engine [cached since 0.5522s ago] (94.0, 'BH009')\n",
      "2021-08-07 23:16:53,300 INFO sqlalchemy.engine.Engine INSERT INTO \"Boreholes\" (id, date, length, diameter) VALUES (?, ?, ?, ?)\n",
      "2021-08-07 23:16:53,300 INFO sqlalchemy.engine.Engine [cached since 0.6253s ago] ('BH10', None, 11.0, 0.31)\n",
      "2021-08-07 23:16:53,302 INFO sqlalchemy.engine.Engine INSERT INTO \"Positions\" (id, upper, middle, lower, x, y) VALUES (?, ?, ?, ?, ?, ?)\n",
      "2021-08-07 23:16:53,304 INFO sqlalchemy.engine.Engine [cached since 0.6242s ago] ((94, 100.0, 100.0, 100.0, 152315.0, 121754.0), (95, 95.0, 95.0, 95.0, 152315.0, 121754.0), (96, 95.0, 95.0, 95.0, 152315.0, 121754.0), (97, 91.0, 91.0, 91.0, 152315.0, 121754.0), (98, 91.0, 91.0, 91.0, 152315.0, 121754.0), (99, 89.0, 89.0, 89.0, 152315.0, 121754.0))\n",
      "2021-08-07 23:16:53,306 INFO sqlalchemy.engine.Engine INSERT INTO \"Intervals\" (id, borehole, interval_number, description, top_id, base_id, data_id) VALUES (?, ?, ?, ?, ?, ?, ?)\n",
      "2021-08-07 23:16:53,307 INFO sqlalchemy.engine.Engine [cached since 0.624s ago] ((47, 'BH10', 0, '{\"lithology\": \"sable\"}, {\"arsenic\": \"inconnu\"}, {\"cadmium\": \"inconnu\"}', 94, 95, None), (48, 'BH10', 1, '{\"lithology\": \"argile\"}, {\"arsenic\": \"vi\"}, {\"cadmium\": \"vr\"}', 96, 97, None), (49, 'BH10', 2, '{\"lithology\": \"marne\"}, {\"arsenic\": \"inconnu\"}, {\"cadmium\": \"vi\"}', 98, 99, None))\n",
      "2021-08-07 23:16:53,309 INFO sqlalchemy.engine.Engine COMMIT\n",
      "2021-08-07 23:16:53,313 INFO sqlalchemy.engine.Engine BEGIN (implicit)\n",
      "2021-08-07 23:16:53,314 INFO sqlalchemy.engine.Engine SELECT \"Boreholes\".id AS \"Boreholes_id\", \"Boreholes\".date AS \"Boreholes_date\", \"Boreholes\".length AS \"Boreholes_length\", \"Boreholes\".diameter AS \"Boreholes_diameter\" \n",
      "FROM \"Boreholes\"\n",
      "2021-08-07 23:16:53,315 INFO sqlalchemy.engine.Engine [cached since 0.6844s ago] ()\n",
      "2021-08-07 23:16:53,318 INFO sqlalchemy.engine.Engine SELECT \"Intervals\".id AS \"Intervals_id\", \"Intervals\".borehole AS \"Intervals_borehole\", \"Intervals\".interval_number AS \"Intervals_interval_number\", \"Intervals\".description AS \"Intervals_description\", \"Intervals\".top_id AS \"Intervals_top_id\", \"Intervals\".base_id AS \"Intervals_base_id\", \"Intervals\".data_id AS \"Intervals_data_id\" \n",
      "FROM \"Intervals\" \n",
      "WHERE ? = \"Intervals\".borehole\n"
     ]
    },
    {
     "name": "stdout",
     "output_type": "stream",
     "text": [
      "2021-08-07 23:16:53,319 INFO sqlalchemy.engine.Engine [cached since 0.6209s ago] ('BH10',)\n",
      "2021-08-07 23:16:53,322 INFO sqlalchemy.engine.Engine SELECT \"Positions\".id AS \"Positions_id\", \"Positions\".upper AS \"Positions_upper\", \"Positions\".middle AS \"Positions_middle\", \"Positions\".lower AS \"Positions_lower\", \"Positions\".x AS \"Positions_x\", \"Positions\".y AS \"Positions_y\" \n",
      "FROM \"Positions\" \n",
      "WHERE \"Positions\".id = ?\n",
      "2021-08-07 23:16:53,322 INFO sqlalchemy.engine.Engine [cached since 0.618s ago] (94,)\n",
      "2021-08-07 23:16:53,324 INFO sqlalchemy.engine.Engine SELECT \"Positions\".id AS \"Positions_id\", \"Positions\".upper AS \"Positions_upper\", \"Positions\".middle AS \"Positions_middle\", \"Positions\".lower AS \"Positions_lower\", \"Positions\".x AS \"Positions_x\", \"Positions\".y AS \"Positions_y\" \n",
      "FROM \"Positions\" \n",
      "WHERE \"Positions\".id = ?\n",
      "2021-08-07 23:16:53,325 INFO sqlalchemy.engine.Engine [cached since 0.6146s ago] (95,)\n",
      "2021-08-07 23:16:53,327 INFO sqlalchemy.engine.Engine SELECT \"Positions\".id AS \"Positions_id\", \"Positions\".upper AS \"Positions_upper\", \"Positions\".middle AS \"Positions_middle\", \"Positions\".lower AS \"Positions_lower\", \"Positions\".x AS \"Positions_x\", \"Positions\".y AS \"Positions_y\" \n",
      "FROM \"Positions\" \n",
      "WHERE \"Positions\".id = ?\n",
      "2021-08-07 23:16:53,327 INFO sqlalchemy.engine.Engine [cached since 0.623s ago] (96,)\n",
      "2021-08-07 23:16:53,329 INFO sqlalchemy.engine.Engine SELECT \"Positions\".id AS \"Positions_id\", \"Positions\".upper AS \"Positions_upper\", \"Positions\".middle AS \"Positions_middle\", \"Positions\".lower AS \"Positions_lower\", \"Positions\".x AS \"Positions_x\", \"Positions\".y AS \"Positions_y\" \n",
      "FROM \"Positions\" \n",
      "WHERE \"Positions\".id = ?\n",
      "2021-08-07 23:16:53,329 INFO sqlalchemy.engine.Engine [cached since 0.6194s ago] (97,)\n",
      "2021-08-07 23:16:53,331 INFO sqlalchemy.engine.Engine SELECT \"Positions\".id AS \"Positions_id\", \"Positions\".upper AS \"Positions_upper\", \"Positions\".middle AS \"Positions_middle\", \"Positions\".lower AS \"Positions_lower\", \"Positions\".x AS \"Positions_x\", \"Positions\".y AS \"Positions_y\" \n",
      "FROM \"Positions\" \n",
      "WHERE \"Positions\".id = ?\n",
      "2021-08-07 23:16:53,331 INFO sqlalchemy.engine.Engine [cached since 0.6271s ago] (98,)\n",
      "2021-08-07 23:16:53,334 INFO sqlalchemy.engine.Engine SELECT \"Positions\".id AS \"Positions_id\", \"Positions\".upper AS \"Positions_upper\", \"Positions\".middle AS \"Positions_middle\", \"Positions\".lower AS \"Positions_lower\", \"Positions\".x AS \"Positions_x\", \"Positions\".y AS \"Positions_y\" \n",
      "FROM \"Positions\" \n",
      "WHERE \"Positions\".id = ?\n",
      "2021-08-07 23:16:53,335 INFO sqlalchemy.engine.Engine [cached since 0.6248s ago] (99,)\n",
      "Borehole geometry created successfully !\n"
     ]
    }
   ],
   "source": [
    "for bh in boreholes:\n",
    "    p.add_borehole(bh)"
   ]
  },
  {
   "cell_type": "code",
   "execution_count": 26,
   "metadata": {},
   "outputs": [
    {
     "data": {
      "text/plain": [
       "('BH002',\n",
       " {0: [Component({'lithology': 'sable'}),\n",
       "   Component({'arsenic': 'vr'}),\n",
       "   Component({'cadmium': 'vr'})],\n",
       "  1: [Component({'lithology': 'argile'}),\n",
       "   Component({'arsenic': 'inconnu'}),\n",
       "   Component({'cadmium': 'vr'})],\n",
       "  2: [Component({'lithology': 'marne'}),\n",
       "   Component({'arsenic': 'vi'}),\n",
       "   Component({'cadmium': 'inconnu'})],\n",
       "  3: [Component({'lithology': 'charbon'}),\n",
       "   Component({'arsenic': 'vi'}),\n",
       "   Component({'cadmium': 'vr'})],\n",
       "  4: [Component({'lithology': 'dolomie'}),\n",
       "   Component({'arsenic': 'vs'}),\n",
       "   Component({'cadmium': 'inconnu'})]})"
      ]
     },
     "execution_count": 26,
     "metadata": {},
     "output_type": "execute_result"
    }
   ],
   "source": [
    "a=1\n",
    "p.boreholes_3d[a].name, p.boreholes_3d[a].components"
   ]
  },
  {
   "cell_type": "code",
   "execution_count": 27,
   "metadata": {
    "scrolled": true
   },
   "outputs": [
    {
     "name": "stdout",
     "output_type": "stream",
     "text": [
      "2021-08-07 23:16:53,364 INFO sqlalchemy.engine.Engine UPDATE \"Boreholes\" SET length=? WHERE \"Boreholes\".id = ?\n",
      "2021-08-07 23:16:53,366 INFO sqlalchemy.engine.Engine [cached since 0.6198s ago] (95.0, 'BH10')\n",
      "2021-08-07 23:16:53,368 INFO sqlalchemy.engine.Engine SELECT \"Intervals\".id AS \"Intervals_id\", \"Intervals\".borehole AS \"Intervals_borehole\", \"Intervals\".interval_number AS \"Intervals_interval_number\", \"Intervals\".description AS \"Intervals_description\", \"Intervals\".top_id AS \"Intervals_top_id\", \"Intervals\".base_id AS \"Intervals_base_id\", \"Intervals\".data_id AS \"Intervals_data_id\" \n",
      "FROM \"Intervals\" \n",
      "WHERE ? = \"Intervals\".borehole\n",
      "2021-08-07 23:16:53,369 INFO sqlalchemy.engine.Engine [cached since 0.6714s ago] ('BH001',)\n",
      "2021-08-07 23:16:53,371 INFO sqlalchemy.engine.Engine SELECT \"Intervals\".id AS \"Intervals_id\", \"Intervals\".borehole AS \"Intervals_borehole\", \"Intervals\".interval_number AS \"Intervals_interval_number\", \"Intervals\".description AS \"Intervals_description\", \"Intervals\".top_id AS \"Intervals_top_id\", \"Intervals\".base_id AS \"Intervals_base_id\", \"Intervals\".data_id AS \"Intervals_data_id\" \n",
      "FROM \"Intervals\" \n",
      "WHERE ? = \"Intervals\".borehole\n",
      "2021-08-07 23:16:53,372 INFO sqlalchemy.engine.Engine [cached since 0.6739s ago] ('BH002',)\n",
      "2021-08-07 23:16:53,373 INFO sqlalchemy.engine.Engine SELECT \"Intervals\".id AS \"Intervals_id\", \"Intervals\".borehole AS \"Intervals_borehole\", \"Intervals\".interval_number AS \"Intervals_interval_number\", \"Intervals\".description AS \"Intervals_description\", \"Intervals\".top_id AS \"Intervals_top_id\", \"Intervals\".base_id AS \"Intervals_base_id\", \"Intervals\".data_id AS \"Intervals_data_id\" \n",
      "FROM \"Intervals\" \n",
      "WHERE ? = \"Intervals\".borehole\n",
      "2021-08-07 23:16:53,374 INFO sqlalchemy.engine.Engine [cached since 0.6763s ago] ('BH003',)\n",
      "2021-08-07 23:16:53,376 INFO sqlalchemy.engine.Engine SELECT \"Intervals\".id AS \"Intervals_id\", \"Intervals\".borehole AS \"Intervals_borehole\", \"Intervals\".interval_number AS \"Intervals_interval_number\", \"Intervals\".description AS \"Intervals_description\", \"Intervals\".top_id AS \"Intervals_top_id\", \"Intervals\".base_id AS \"Intervals_base_id\", \"Intervals\".data_id AS \"Intervals_data_id\" \n",
      "FROM \"Intervals\" \n",
      "WHERE ? = \"Intervals\".borehole\n",
      "2021-08-07 23:16:53,377 INFO sqlalchemy.engine.Engine [cached since 0.6792s ago] ('BH004',)\n",
      "2021-08-07 23:16:53,378 INFO sqlalchemy.engine.Engine SELECT \"Intervals\".id AS \"Intervals_id\", \"Intervals\".borehole AS \"Intervals_borehole\", \"Intervals\".interval_number AS \"Intervals_interval_number\", \"Intervals\".description AS \"Intervals_description\", \"Intervals\".top_id AS \"Intervals_top_id\", \"Intervals\".base_id AS \"Intervals_base_id\", \"Intervals\".data_id AS \"Intervals_data_id\" \n",
      "FROM \"Intervals\" \n",
      "WHERE ? = \"Intervals\".borehole\n",
      "2021-08-07 23:16:53,379 INFO sqlalchemy.engine.Engine [cached since 0.6815s ago] ('BH005',)\n",
      "2021-08-07 23:16:53,381 INFO sqlalchemy.engine.Engine SELECT \"Intervals\".id AS \"Intervals_id\", \"Intervals\".borehole AS \"Intervals_borehole\", \"Intervals\".interval_number AS \"Intervals_interval_number\", \"Intervals\".description AS \"Intervals_description\", \"Intervals\".top_id AS \"Intervals_top_id\", \"Intervals\".base_id AS \"Intervals_base_id\", \"Intervals\".data_id AS \"Intervals_data_id\" \n",
      "FROM \"Intervals\" \n",
      "WHERE ? = \"Intervals\".borehole\n",
      "2021-08-07 23:16:53,382 INFO sqlalchemy.engine.Engine [cached since 0.6844s ago] ('BH006',)\n",
      "2021-08-07 23:16:53,384 INFO sqlalchemy.engine.Engine SELECT \"Intervals\".id AS \"Intervals_id\", \"Intervals\".borehole AS \"Intervals_borehole\", \"Intervals\".interval_number AS \"Intervals_interval_number\", \"Intervals\".description AS \"Intervals_description\", \"Intervals\".top_id AS \"Intervals_top_id\", \"Intervals\".base_id AS \"Intervals_base_id\", \"Intervals\".data_id AS \"Intervals_data_id\" \n",
      "FROM \"Intervals\" \n",
      "WHERE ? = \"Intervals\".borehole\n",
      "2021-08-07 23:16:53,385 INFO sqlalchemy.engine.Engine [cached since 0.6872s ago] ('BH007',)\n",
      "2021-08-07 23:16:53,387 INFO sqlalchemy.engine.Engine SELECT \"Intervals\".id AS \"Intervals_id\", \"Intervals\".borehole AS \"Intervals_borehole\", \"Intervals\".interval_number AS \"Intervals_interval_number\", \"Intervals\".description AS \"Intervals_description\", \"Intervals\".top_id AS \"Intervals_top_id\", \"Intervals\".base_id AS \"Intervals_base_id\", \"Intervals\".data_id AS \"Intervals_data_id\" \n",
      "FROM \"Intervals\" \n",
      "WHERE ? = \"Intervals\".borehole\n",
      "2021-08-07 23:16:53,388 INFO sqlalchemy.engine.Engine [cached since 0.6906s ago] ('BH008',)\n",
      "2021-08-07 23:16:53,390 INFO sqlalchemy.engine.Engine SELECT \"Intervals\".id AS \"Intervals_id\", \"Intervals\".borehole AS \"Intervals_borehole\", \"Intervals\".interval_number AS \"Intervals_interval_number\", \"Intervals\".description AS \"Intervals_description\", \"Intervals\".top_id AS \"Intervals_top_id\", \"Intervals\".base_id AS \"Intervals_base_id\", \"Intervals\".data_id AS \"Intervals_data_id\" \n",
      "FROM \"Intervals\" \n",
      "WHERE ? = \"Intervals\".borehole\n",
      "2021-08-07 23:16:53,391 INFO sqlalchemy.engine.Engine [cached since 0.6936s ago] ('BH009',)\n"
     ]
    },
    {
     "data": {
      "text/plain": [
       "[<core.orm.BoreholeOrm>(Name=BH001, Length=97.0, Diameter=0.43, Intervals=4),\n",
       " <core.orm.BoreholeOrm>(Name=BH002, Length=98.0, Diameter=0.6, Intervals=5),\n",
       " <core.orm.BoreholeOrm>(Name=BH003, Length=100.0, Diameter=0.41, Intervals=5),\n",
       " <core.orm.BoreholeOrm>(Name=BH004, Length=96.0, Diameter=0.61, Intervals=5),\n",
       " <core.orm.BoreholeOrm>(Name=BH005, Length=97.0, Diameter=0.61, Intervals=7),\n",
       " <core.orm.BoreholeOrm>(Name=BH006, Length=100.0, Diameter=0.31, Intervals=5),\n",
       " <core.orm.BoreholeOrm>(Name=BH007, Length=97.0, Diameter=0.57, Intervals=6),\n",
       " <core.orm.BoreholeOrm>(Name=BH008, Length=98.0, Diameter=0.39, Intervals=5),\n",
       " <core.orm.BoreholeOrm>(Name=BH009, Length=94.0, Diameter=0.5, Intervals=5),\n",
       " <core.orm.BoreholeOrm>(Name=BH10, Length=95.0, Diameter=0.31, Intervals=3)]"
      ]
     },
     "execution_count": 27,
     "metadata": {},
     "output_type": "execute_result"
    }
   ],
   "source": [
    "p.boreholes_orm"
   ]
  },
  {
   "cell_type": "code",
   "execution_count": 28,
   "metadata": {},
   "outputs": [
    {
     "name": "stdout",
     "output_type": "stream",
     "text": [
      "2021-08-07 23:16:53,412 INFO sqlalchemy.engine.Engine INSERT INTO \"Linkintervalcomponent\" (intv_id, comp_id, extra_data) VALUES (?, ?, ?)\n",
      "2021-08-07 23:16:53,414 INFO sqlalchemy.engine.Engine [generated in 0.00211s] ((0, 0, \"{'porosite':1, 'densite':1.8}\"), (0, 1, ''), (0, 2, ''), (1, 3, ''), (1, 1, ''), (1, 2, ''), (2, 4, ''), (2, 5, '')  ... displaying 10 of 150 total bound parameter sets ...  (49, 5, ''), (49, 11, ''))\n",
      "2021-08-07 23:16:53,419 INFO sqlalchemy.engine.Engine COMMIT\n",
      "2021-08-07 23:16:53,424 INFO sqlalchemy.engine.Engine BEGIN (implicit)\n",
      "2021-08-07 23:16:53,425 INFO sqlalchemy.engine.Engine SELECT \"Boreholes\".id AS \"Boreholes_id\", \"Boreholes\".date AS \"Boreholes_date\", \"Boreholes\".length AS \"Boreholes_length\", \"Boreholes\".diameter AS \"Boreholes_diameter\" \n",
      "FROM \"Boreholes\"\n",
      "2021-08-07 23:16:53,426 INFO sqlalchemy.engine.Engine [cached since 0.795s ago] ()\n"
     ]
    }
   ],
   "source": [
    "p.add_link_components_intervals(link_intv_comp)"
   ]
  },
  {
   "cell_type": "code",
   "execution_count": 29,
   "metadata": {
    "scrolled": true
   },
   "outputs": [
    {
     "name": "stdout",
     "output_type": "stream",
     "text": [
      "2021-08-07 23:16:53,433 INFO sqlalchemy.engine.Engine COMMIT\n",
      "Boreholes in the project :  10\n"
     ]
    }
   ],
   "source": [
    "p.commit()\n",
    "print('Boreholes in the project : ', len(p.boreholes_orm))"
   ]
  },
  {
   "cell_type": "code",
   "execution_count": 30,
   "metadata": {
    "scrolled": true
   },
   "outputs": [
    {
     "name": "stdout",
     "output_type": "stream",
     "text": [
      "2021-08-07 23:16:53,441 INFO sqlalchemy.engine.Engine BEGIN (implicit)\n",
      "2021-08-07 23:16:53,443 INFO sqlalchemy.engine.Engine SELECT \"Boreholes\".id AS \"Boreholes_id\", \"Boreholes\".date AS \"Boreholes_date\", \"Boreholes\".length AS \"Boreholes_length\", \"Boreholes\".diameter AS \"Boreholes_diameter\" \n",
      "FROM \"Boreholes\" \n",
      "WHERE \"Boreholes\".id = ?\n",
      "2021-08-07 23:16:53,444 INFO sqlalchemy.engine.Engine [generated in 0.00104s] ('BH003',)\n",
      "2021-08-07 23:16:53,446 INFO sqlalchemy.engine.Engine SELECT \"Intervals\".id AS \"Intervals_id\", \"Intervals\".borehole AS \"Intervals_borehole\", \"Intervals\".interval_number AS \"Intervals_interval_number\", \"Intervals\".description AS \"Intervals_description\", \"Intervals\".top_id AS \"Intervals_top_id\", \"Intervals\".base_id AS \"Intervals_base_id\", \"Intervals\".data_id AS \"Intervals_data_id\" \n",
      "FROM \"Intervals\" \n",
      "WHERE ? = \"Intervals\".borehole\n",
      "2021-08-07 23:16:53,447 INFO sqlalchemy.engine.Engine [cached since 0.7494s ago] ('BH003',)\n",
      "2021-08-07 23:16:53,450 INFO sqlalchemy.engine.Engine SELECT \"Positions\".id AS \"Positions_id\", \"Positions\".upper AS \"Positions_upper\", \"Positions\".middle AS \"Positions_middle\", \"Positions\".lower AS \"Positions_lower\", \"Positions\".x AS \"Positions_x\", \"Positions\".y AS \"Positions_y\" \n",
      "FROM \"Positions\" \n",
      "WHERE \"Positions\".id = ?\n",
      "2021-08-07 23:16:53,451 INFO sqlalchemy.engine.Engine [cached since 0.7465s ago] (18,)\n",
      "2021-08-07 23:16:53,456 INFO sqlalchemy.engine.Engine SELECT \"Components\".id AS \"Components_id\", \"Components\".description AS \"Components_description\" \n",
      "FROM \"Components\", \"Linkintervalcomponent\" \n",
      "WHERE ? = \"Linkintervalcomponent\".intv_id AND \"Components\".id = \"Linkintervalcomponent\".comp_id\n",
      "2021-08-07 23:16:53,457 INFO sqlalchemy.engine.Engine [generated in 0.00126s] (9,)\n",
      "2021-08-07 23:16:53,459 INFO sqlalchemy.engine.Engine SELECT \"Positions\".id AS \"Positions_id\", \"Positions\".upper AS \"Positions_upper\", \"Positions\".middle AS \"Positions_middle\", \"Positions\".lower AS \"Positions_lower\", \"Positions\".x AS \"Positions_x\", \"Positions\".y AS \"Positions_y\" \n",
      "FROM \"Positions\" \n",
      "WHERE \"Positions\".id = ?\n",
      "2021-08-07 23:16:53,460 INFO sqlalchemy.engine.Engine [cached since 0.7552s ago] (20,)\n",
      "2021-08-07 23:16:53,461 INFO sqlalchemy.engine.Engine SELECT \"Components\".id AS \"Components_id\", \"Components\".description AS \"Components_description\" \n",
      "FROM \"Components\", \"Linkintervalcomponent\" \n",
      "WHERE ? = \"Linkintervalcomponent\".intv_id AND \"Components\".id = \"Linkintervalcomponent\".comp_id\n",
      "2021-08-07 23:16:53,462 INFO sqlalchemy.engine.Engine [cached since 0.006493s ago] (10,)\n",
      "2021-08-07 23:16:53,465 INFO sqlalchemy.engine.Engine SELECT \"Positions\".id AS \"Positions_id\", \"Positions\".upper AS \"Positions_upper\", \"Positions\".middle AS \"Positions_middle\", \"Positions\".lower AS \"Positions_lower\", \"Positions\".x AS \"Positions_x\", \"Positions\".y AS \"Positions_y\" \n",
      "FROM \"Positions\" \n",
      "WHERE \"Positions\".id = ?\n",
      "2021-08-07 23:16:53,467 INFO sqlalchemy.engine.Engine [cached since 0.7622s ago] (22,)\n",
      "2021-08-07 23:16:53,469 INFO sqlalchemy.engine.Engine SELECT \"Components\".id AS \"Components_id\", \"Components\".description AS \"Components_description\" \n",
      "FROM \"Components\", \"Linkintervalcomponent\" \n",
      "WHERE ? = \"Linkintervalcomponent\".intv_id AND \"Components\".id = \"Linkintervalcomponent\".comp_id\n",
      "2021-08-07 23:16:53,470 INFO sqlalchemy.engine.Engine [cached since 0.01382s ago] (11,)\n",
      "2021-08-07 23:16:53,472 INFO sqlalchemy.engine.Engine SELECT \"Positions\".id AS \"Positions_id\", \"Positions\".upper AS \"Positions_upper\", \"Positions\".middle AS \"Positions_middle\", \"Positions\".lower AS \"Positions_lower\", \"Positions\".x AS \"Positions_x\", \"Positions\".y AS \"Positions_y\" \n",
      "FROM \"Positions\" \n",
      "WHERE \"Positions\".id = ?\n",
      "2021-08-07 23:16:53,473 INFO sqlalchemy.engine.Engine [cached since 0.7689s ago] (24,)\n",
      "2021-08-07 23:16:53,475 INFO sqlalchemy.engine.Engine SELECT \"Components\".id AS \"Components_id\", \"Components\".description AS \"Components_description\" \n",
      "FROM \"Components\", \"Linkintervalcomponent\" \n",
      "WHERE ? = \"Linkintervalcomponent\".intv_id AND \"Components\".id = \"Linkintervalcomponent\".comp_id\n",
      "2021-08-07 23:16:53,476 INFO sqlalchemy.engine.Engine [cached since 0.0203s ago] (12,)\n",
      "2021-08-07 23:16:53,478 INFO sqlalchemy.engine.Engine SELECT \"Positions\".id AS \"Positions_id\", \"Positions\".upper AS \"Positions_upper\", \"Positions\".middle AS \"Positions_middle\", \"Positions\".lower AS \"Positions_lower\", \"Positions\".x AS \"Positions_x\", \"Positions\".y AS \"Positions_y\" \n",
      "FROM \"Positions\" \n",
      "WHERE \"Positions\".id = ?\n",
      "2021-08-07 23:16:53,479 INFO sqlalchemy.engine.Engine [cached since 0.7749s ago] (26,)\n",
      "2021-08-07 23:16:53,481 INFO sqlalchemy.engine.Engine SELECT \"Components\".id AS \"Components_id\", \"Components\".description AS \"Components_description\" \n",
      "FROM \"Components\", \"Linkintervalcomponent\" \n",
      "WHERE ? = \"Linkintervalcomponent\".intv_id AND \"Components\".id = \"Linkintervalcomponent\".comp_id\n",
      "2021-08-07 23:16:53,482 INFO sqlalchemy.engine.Engine [cached since 0.02619s ago] (13,)\n"
     ]
    },
    {
     "data": {
      "text/plain": [
       "{9: <core.orm.IntervalOrm>(Id=9, Borehole=BH003, top=<core.orm.PositionOrm object at 0x7f1ccff5edc0>Description={\"lithology\": \"sable\"}, {\"arsenic\": \"vr\"}, {\"cadmium\": \"vi\"}, Components=[<core.orm.ComponentOrm>(Id=0, Description=Sable), <core.orm.ComponentOrm>(Id=8, Description=Vr), <core.orm.ComponentOrm>(Id=11, Description=Vi)]),\n",
       " 10: <core.orm.IntervalOrm>(Id=10, Borehole=BH003, top=<core.orm.PositionOrm object at 0x7f1d28213b20>Description={\"lithology\": \"argile\"}, {\"arsenic\": \"vs\"}, {\"cadmium\": \"vr\"}, Components=[<core.orm.ComponentOrm>(Id=1, Description=Vs), <core.orm.ComponentOrm>(Id=2, Description=Vr), <core.orm.ComponentOrm>(Id=3, Description=Argile)]),\n",
       " 11: <core.orm.IntervalOrm>(Id=11, Borehole=BH003, top=<core.orm.PositionOrm object at 0x7f1ccff5d2e0>Description={\"lithology\": \"marne\"}, {\"arsenic\": \"vi\"}, {\"cadmium\": \"vr\"}, Components=[<core.orm.ComponentOrm>(Id=2, Description=Vr), <core.orm.ComponentOrm>(Id=4, Description=Marne), <core.orm.ComponentOrm>(Id=7, Description=Vi)]),\n",
       " 12: <core.orm.IntervalOrm>(Id=12, Borehole=BH003, top=<core.orm.PositionOrm object at 0x7f1ccff805e0>Description={\"lithology\": \"charbon\"}, {\"arsenic\": \"vr\"}, {\"cadmium\": \"vr\"}, Components=[<core.orm.ComponentOrm>(Id=2, Description=Vr), <core.orm.ComponentOrm>(Id=6, Description=Charbon), <core.orm.ComponentOrm>(Id=8, Description=Vr)]),\n",
       " 13: <core.orm.IntervalOrm>(Id=13, Borehole=BH003, top=<core.orm.PositionOrm object at 0x7f1ccff80490>Description={\"lithology\": \"dolomie\"}, {\"arsenic\": \"vs\"}, {\"cadmium\": \"vr\"}, Components=[<core.orm.ComponentOrm>(Id=1, Description=Vs), <core.orm.ComponentOrm>(Id=2, Description=Vr), <core.orm.ComponentOrm>(Id=10, Description=Dolomie)])}"
      ]
     },
     "execution_count": 30,
     "metadata": {},
     "output_type": "execute_result"
    }
   ],
   "source": [
    "p.boreholes_orm[2].intervals"
   ]
  },
  {
   "cell_type": "code",
   "execution_count": 31,
   "metadata": {},
   "outputs": [
    {
     "name": "stdout",
     "output_type": "stream",
     "text": [
      "2021-08-07 23:16:53,491 INFO sqlalchemy.engine.Engine SELECT \"Boreholes\".id AS \"Boreholes_id\", \"Boreholes\".date AS \"Boreholes_date\", \"Boreholes\".length AS \"Boreholes_length\", \"Boreholes\".diameter AS \"Boreholes_diameter\" \n",
      "FROM \"Boreholes\"\n",
      "2021-08-07 23:16:53,493 INFO sqlalchemy.engine.Engine [cached since 0.8627s ago] ()\n"
     ]
    }
   ],
   "source": [
    "p.refresh(verbose=False)"
   ]
  },
  {
   "cell_type": "code",
   "execution_count": 32,
   "metadata": {},
   "outputs": [
    {
     "data": {
      "text/plain": [
       "{'lithology': 'sable'}"
      ]
     },
     "execution_count": 32,
     "metadata": {},
     "output_type": "execute_result"
    }
   ],
   "source": [
    "eval(Component({'lithology':'sable'}).json())"
   ]
  },
  {
   "cell_type": "raw",
   "metadata": {},
   "source": [
    "session.close()"
   ]
  },
  {
   "cell_type": "markdown",
   "metadata": {},
   "source": [
    "# 2D/3D Display"
   ]
  },
  {
   "cell_type": "markdown",
   "metadata": {},
   "source": [
    "### 2D Plot"
   ]
  },
  {
   "cell_type": "code",
   "execution_count": 33,
   "metadata": {},
   "outputs": [
    {
     "data": {
      "text/html": [
       "<div style=\"width:100%;\"><div style=\"position:relative;width:100%;height:0;padding-bottom:60%;\"><span style=\"color:#565656\">Make this Notebook Trusted to load map: File -> Trust Notebook</span><iframe src=\"about:blank\" style=\"position:absolute;width:100%;height:100%;left:0;top:0;border:none !important;\" data-html=%3C%21DOCTYPE%20html%3E%0A%3Chead%3E%20%20%20%20%0A%20%20%20%20%3Cmeta%20http-equiv%3D%22content-type%22%20content%3D%22text/html%3B%20charset%3DUTF-8%22%20/%3E%0A%20%20%20%20%0A%20%20%20%20%20%20%20%20%3Cscript%3E%0A%20%20%20%20%20%20%20%20%20%20%20%20L_NO_TOUCH%20%3D%20false%3B%0A%20%20%20%20%20%20%20%20%20%20%20%20L_DISABLE_3D%20%3D%20false%3B%0A%20%20%20%20%20%20%20%20%3C/script%3E%0A%20%20%20%20%0A%20%20%20%20%3Cstyle%3Ehtml%2C%20body%20%7Bwidth%3A%20100%25%3Bheight%3A%20100%25%3Bmargin%3A%200%3Bpadding%3A%200%3B%7D%3C/style%3E%0A%20%20%20%20%3Cstyle%3E%23map%20%7Bposition%3Aabsolute%3Btop%3A0%3Bbottom%3A0%3Bright%3A0%3Bleft%3A0%3B%7D%3C/style%3E%0A%20%20%20%20%3Cscript%20src%3D%22https%3A//cdn.jsdelivr.net/npm/leaflet%401.6.0/dist/leaflet.js%22%3E%3C/script%3E%0A%20%20%20%20%3Cscript%20src%3D%22https%3A//code.jquery.com/jquery-1.12.4.min.js%22%3E%3C/script%3E%0A%20%20%20%20%3Cscript%20src%3D%22https%3A//maxcdn.bootstrapcdn.com/bootstrap/3.2.0/js/bootstrap.min.js%22%3E%3C/script%3E%0A%20%20%20%20%3Cscript%20src%3D%22https%3A//cdnjs.cloudflare.com/ajax/libs/Leaflet.awesome-markers/2.0.2/leaflet.awesome-markers.js%22%3E%3C/script%3E%0A%20%20%20%20%3Clink%20rel%3D%22stylesheet%22%20href%3D%22https%3A//cdn.jsdelivr.net/npm/leaflet%401.6.0/dist/leaflet.css%22/%3E%0A%20%20%20%20%3Clink%20rel%3D%22stylesheet%22%20href%3D%22https%3A//maxcdn.bootstrapcdn.com/bootstrap/3.2.0/css/bootstrap.min.css%22/%3E%0A%20%20%20%20%3Clink%20rel%3D%22stylesheet%22%20href%3D%22https%3A//maxcdn.bootstrapcdn.com/bootstrap/3.2.0/css/bootstrap-theme.min.css%22/%3E%0A%20%20%20%20%3Clink%20rel%3D%22stylesheet%22%20href%3D%22https%3A//maxcdn.bootstrapcdn.com/font-awesome/4.6.3/css/font-awesome.min.css%22/%3E%0A%20%20%20%20%3Clink%20rel%3D%22stylesheet%22%20href%3D%22https%3A//cdnjs.cloudflare.com/ajax/libs/Leaflet.awesome-markers/2.0.2/leaflet.awesome-markers.css%22/%3E%0A%20%20%20%20%3Clink%20rel%3D%22stylesheet%22%20href%3D%22https%3A//cdn.jsdelivr.net/gh/python-visualization/folium/folium/templates/leaflet.awesome.rotate.min.css%22/%3E%0A%20%20%20%20%0A%20%20%20%20%20%20%20%20%20%20%20%20%3Cmeta%20name%3D%22viewport%22%20content%3D%22width%3Ddevice-width%2C%0A%20%20%20%20%20%20%20%20%20%20%20%20%20%20%20%20initial-scale%3D1.0%2C%20maximum-scale%3D1.0%2C%20user-scalable%3Dno%22%20/%3E%0A%20%20%20%20%20%20%20%20%20%20%20%20%3Cstyle%3E%0A%20%20%20%20%20%20%20%20%20%20%20%20%20%20%20%20%23map_72902500205b45a88f8a4ab63b4428f9%20%7B%0A%20%20%20%20%20%20%20%20%20%20%20%20%20%20%20%20%20%20%20%20position%3A%20relative%3B%0A%20%20%20%20%20%20%20%20%20%20%20%20%20%20%20%20%20%20%20%20width%3A%20100.0%25%3B%0A%20%20%20%20%20%20%20%20%20%20%20%20%20%20%20%20%20%20%20%20height%3A%20100.0%25%3B%0A%20%20%20%20%20%20%20%20%20%20%20%20%20%20%20%20%20%20%20%20left%3A%200.0%25%3B%0A%20%20%20%20%20%20%20%20%20%20%20%20%20%20%20%20%20%20%20%20top%3A%200.0%25%3B%0A%20%20%20%20%20%20%20%20%20%20%20%20%20%20%20%20%7D%0A%20%20%20%20%20%20%20%20%20%20%20%20%3C/style%3E%0A%20%20%20%20%20%20%20%20%0A%20%20%20%20%3Cscript%20src%3D%22https%3A//cdnjs.cloudflare.com/ajax/libs/leaflet-minimap/3.6.1/Control.MiniMap.js%22%3E%3C/script%3E%0A%20%20%20%20%3Clink%20rel%3D%22stylesheet%22%20href%3D%22https%3A//cdnjs.cloudflare.com/ajax/libs/leaflet-minimap/3.6.1/Control.MiniMap.css%22/%3E%0A%3C/head%3E%0A%3Cbody%3E%20%20%20%20%0A%20%20%20%20%0A%20%20%20%20%20%20%20%20%20%20%20%20%3Cdiv%20class%3D%22folium-map%22%20id%3D%22map_72902500205b45a88f8a4ab63b4428f9%22%20%3E%3C/div%3E%0A%20%20%20%20%20%20%20%20%0A%3C/body%3E%0A%3Cscript%3E%20%20%20%20%0A%20%20%20%20%0A%20%20%20%20%20%20%20%20%20%20%20%20var%20map_72902500205b45a88f8a4ab63b4428f9%20%3D%20L.map%28%0A%20%20%20%20%20%20%20%20%20%20%20%20%20%20%20%20%22map_72902500205b45a88f8a4ab63b4428f9%22%2C%0A%20%20%20%20%20%20%20%20%20%20%20%20%20%20%20%20%7B%0A%20%20%20%20%20%20%20%20%20%20%20%20%20%20%20%20%20%20%20%20center%3A%20%5B50.40316070673727%2C%204.404286510256322%5D%2C%0A%20%20%20%20%20%20%20%20%20%20%20%20%20%20%20%20%20%20%20%20crs%3A%20L.CRS.EPSG3857%2C%0A%20%20%20%20%20%20%20%20%20%20%20%20%20%20%20%20%20%20%20%20zoom%3A%2015%2C%0A%20%20%20%20%20%20%20%20%20%20%20%20%20%20%20%20%20%20%20%20zoomControl%3A%20true%2C%0A%20%20%20%20%20%20%20%20%20%20%20%20%20%20%20%20%20%20%20%20preferCanvas%3A%20false%2C%0A%20%20%20%20%20%20%20%20%20%20%20%20%20%20%20%20%7D%0A%20%20%20%20%20%20%20%20%20%20%20%20%29%3B%0A%20%20%20%20%20%20%20%20%20%20%20%20L.control.scale%28%29.addTo%28map_72902500205b45a88f8a4ab63b4428f9%29%3B%0A%0A%20%20%20%20%20%20%20%20%20%20%20%20%0A%0A%20%20%20%20%20%20%20%20%0A%20%20%20%20%0A%20%20%20%20%20%20%20%20%20%20%20%20var%20tile_layer_aad4641dcf054024ba6cbc9c83edd925%20%3D%20L.tileLayer%28%0A%20%20%20%20%20%20%20%20%20%20%20%20%20%20%20%20%22https%3A//%7Bs%7D.tile.openstreetmap.org/%7Bz%7D/%7Bx%7D/%7By%7D.png%22%2C%0A%20%20%20%20%20%20%20%20%20%20%20%20%20%20%20%20%7B%22attribution%22%3A%20%22Data%20by%20%5Cu0026copy%3B%20%5Cu003ca%20href%3D%5C%22http%3A//openstreetmap.org%5C%22%5Cu003eOpenStreetMap%5Cu003c/a%5Cu003e%2C%20under%20%5Cu003ca%20href%3D%5C%22http%3A//www.openstreetmap.org/copyright%5C%22%5Cu003eODbL%5Cu003c/a%5Cu003e.%22%2C%20%22detectRetina%22%3A%20false%2C%20%22maxNativeZoom%22%3A%2025%2C%20%22maxZoom%22%3A%2025%2C%20%22minZoom%22%3A%200%2C%20%22noWrap%22%3A%20false%2C%20%22opacity%22%3A%201%2C%20%22subdomains%22%3A%20%22abc%22%2C%20%22tms%22%3A%20false%7D%0A%20%20%20%20%20%20%20%20%20%20%20%20%29.addTo%28map_72902500205b45a88f8a4ab63b4428f9%29%3B%0A%20%20%20%20%20%20%20%20%0A%20%20%20%20%0A%20%20%20%20%20%20%20%20%20%20%20%20var%20tile_layer_d7e4a2bfd8054a0694554b15a048868a%20%3D%20L.tileLayer%28%0A%20%20%20%20%20%20%20%20%20%20%20%20%20%20%20%20%22https%3A//server.arcgisonline.com/ArcGIS/rest/services/World_Imagery/MapServer/tile/%7Bz%7D/%7By%7D/%7Bx%7D%22%2C%0A%20%20%20%20%20%20%20%20%20%20%20%20%20%20%20%20%7B%22attribution%22%3A%20%22Tiles%20%5Cu0026copy%3B%20Esri%20%5Cu0026mdash%3B%20Source%3A%20Esri%2C%20i-cubed%2C%20USDA%2C%20USGS%2C%20AEX%2C%20GeoEye%2C%20Getmapping%2C%20Aerogrid%2C%20IGN%2C%20IGP%2C%20UPR-EGP%2C%20and%20the%20GIS%20User%20Community%22%2C%20%22detectRetina%22%3A%20false%2C%20%22maxNativeZoom%22%3A%2025%2C%20%22maxZoom%22%3A%2025%2C%20%22minZoom%22%3A%200%2C%20%22noWrap%22%3A%20false%2C%20%22opacity%22%3A%201%2C%20%22subdomains%22%3A%20%22abc%22%2C%20%22tms%22%3A%20false%7D%0A%20%20%20%20%20%20%20%20%20%20%20%20%29.addTo%28map_72902500205b45a88f8a4ab63b4428f9%29%3B%0A%20%20%20%20%20%20%20%20%0A%20%20%20%20%0A%20%20%20%20%20%20%20%20%20%20%20%20var%20feature_group_57a4ddc6dd0e482fb39605f351228311%20%3D%20L.featureGroup%28%0A%20%20%20%20%20%20%20%20%20%20%20%20%20%20%20%20%7B%7D%0A%20%20%20%20%20%20%20%20%20%20%20%20%29.addTo%28map_72902500205b45a88f8a4ab63b4428f9%29%3B%0A%20%20%20%20%20%20%20%20%0A%20%20%20%20%0A%20%20%20%20%20%20%20%20%20%20%20%20var%20circle_marker_2665c81d9e314645bab5d16bd0107b9a%20%3D%20L.circleMarker%28%0A%20%20%20%20%20%20%20%20%20%20%20%20%20%20%20%20%5B50.400246677298995%2C%204.405316738422422%5D%2C%0A%20%20%20%20%20%20%20%20%20%20%20%20%20%20%20%20%7B%22bubblingMouseEvents%22%3A%20true%2C%20%22color%22%3A%20%22red%22%2C%20%22dashArray%22%3A%20null%2C%20%22dashOffset%22%3A%20null%2C%20%22fill%22%3A%20true%2C%20%22fillColor%22%3A%20%22red%22%2C%20%22fillOpacity%22%3A%200.2%2C%20%22fillRule%22%3A%20%22evenodd%22%2C%20%22lineCap%22%3A%20%22round%22%2C%20%22lineJoin%22%3A%20%22round%22%2C%20%22opacity%22%3A%200.9%2C%20%22radius%22%3A%200.2%2C%20%22stroke%22%3A%20true%2C%20%22weight%22%3A%203%7D%0A%20%20%20%20%20%20%20%20%20%20%20%20%29.addTo%28feature_group_57a4ddc6dd0e482fb39605f351228311%29%3B%0A%20%20%20%20%20%20%20%20%0A%20%20%20%20%0A%20%20%20%20%20%20%20%20var%20popup_53cb64ba621d4d06bf7e73b322e12b07%20%3D%20L.popup%28%7B%22maxWidth%22%3A%20%22100%25%22%7D%29%3B%0A%0A%20%20%20%20%20%20%20%20%0A%20%20%20%20%20%20%20%20%20%20%20%20var%20html_9758e03fe2b54166b74841017180d4f7%20%3D%20%24%28%60%3Cdiv%20id%3D%22html_9758e03fe2b54166b74841017180d4f7%22%20style%3D%22width%3A%20100.0%25%3B%20height%3A%20100.0%25%3B%22%3EBH001%3C/div%3E%60%29%5B0%5D%3B%0A%20%20%20%20%20%20%20%20%20%20%20%20popup_53cb64ba621d4d06bf7e73b322e12b07.setContent%28html_9758e03fe2b54166b74841017180d4f7%29%3B%0A%20%20%20%20%20%20%20%20%0A%0A%20%20%20%20%20%20%20%20circle_marker_2665c81d9e314645bab5d16bd0107b9a.bindPopup%28popup_53cb64ba621d4d06bf7e73b322e12b07%29%0A%20%20%20%20%20%20%20%20%3B%0A%0A%20%20%20%20%20%20%20%20%0A%20%20%20%20%0A%20%20%20%20%0A%20%20%20%20%20%20%20%20%20%20%20%20var%20marker_e1d7607b58974449939504299dcca4c4%20%3D%20L.marker%28%0A%20%20%20%20%20%20%20%20%20%20%20%20%20%20%20%20%5B50.400246677298995%2C%204.405316738422422%5D%2C%0A%20%20%20%20%20%20%20%20%20%20%20%20%20%20%20%20%7B%7D%0A%20%20%20%20%20%20%20%20%20%20%20%20%29.addTo%28feature_group_57a4ddc6dd0e482fb39605f351228311%29%3B%0A%20%20%20%20%20%20%20%20%0A%20%20%20%20%0A%20%20%20%20%20%20%20%20var%20popup_1a3222d62da749a3a7bda755706b15e5%20%3D%20L.popup%28%7B%22maxWidth%22%3A%20%22100%25%22%7D%29%3B%0A%0A%20%20%20%20%20%20%20%20%0A%20%20%20%20%20%20%20%20%20%20%20%20var%20html_d57e788a40ee4daaaa54dcd959a4c99b%20%3D%20%24%28%60%3Cdiv%20id%3D%22html_d57e788a40ee4daaaa54dcd959a4c99b%22%20style%3D%22width%3A%20100.0%25%3B%20height%3A%20100.0%25%3B%22%3EBH001%3C/div%3E%60%29%5B0%5D%3B%0A%20%20%20%20%20%20%20%20%20%20%20%20popup_1a3222d62da749a3a7bda755706b15e5.setContent%28html_d57e788a40ee4daaaa54dcd959a4c99b%29%3B%0A%20%20%20%20%20%20%20%20%0A%0A%20%20%20%20%20%20%20%20marker_e1d7607b58974449939504299dcca4c4.bindPopup%28popup_1a3222d62da749a3a7bda755706b15e5%29%0A%20%20%20%20%20%20%20%20%3B%0A%0A%20%20%20%20%20%20%20%20%0A%20%20%20%20%0A%20%20%20%20%0A%20%20%20%20%20%20%20%20%20%20%20%20var%20circle_marker_5bd7148574f34f069ef5162cbd971eaf%20%3D%20L.circleMarker%28%0A%20%20%20%20%20%20%20%20%20%20%20%20%20%20%20%20%5B50.405163369681965%2C%204.408401317498531%5D%2C%0A%20%20%20%20%20%20%20%20%20%20%20%20%20%20%20%20%7B%22bubblingMouseEvents%22%3A%20true%2C%20%22color%22%3A%20%22red%22%2C%20%22dashArray%22%3A%20null%2C%20%22dashOffset%22%3A%20null%2C%20%22fill%22%3A%20true%2C%20%22fillColor%22%3A%20%22red%22%2C%20%22fillOpacity%22%3A%200.2%2C%20%22fillRule%22%3A%20%22evenodd%22%2C%20%22lineCap%22%3A%20%22round%22%2C%20%22lineJoin%22%3A%20%22round%22%2C%20%22opacity%22%3A%200.9%2C%20%22radius%22%3A%200.2%2C%20%22stroke%22%3A%20true%2C%20%22weight%22%3A%203%7D%0A%20%20%20%20%20%20%20%20%20%20%20%20%29.addTo%28feature_group_57a4ddc6dd0e482fb39605f351228311%29%3B%0A%20%20%20%20%20%20%20%20%0A%20%20%20%20%0A%20%20%20%20%20%20%20%20var%20popup_b90d18ca0cd94344b69c07a383edc3d6%20%3D%20L.popup%28%7B%22maxWidth%22%3A%20%22100%25%22%7D%29%3B%0A%0A%20%20%20%20%20%20%20%20%0A%20%20%20%20%20%20%20%20%20%20%20%20var%20html_e555d6639b004256ac822b5b58175cf1%20%3D%20%24%28%60%3Cdiv%20id%3D%22html_e555d6639b004256ac822b5b58175cf1%22%20style%3D%22width%3A%20100.0%25%3B%20height%3A%20100.0%25%3B%22%3EBH002%3C/div%3E%60%29%5B0%5D%3B%0A%20%20%20%20%20%20%20%20%20%20%20%20popup_b90d18ca0cd94344b69c07a383edc3d6.setContent%28html_e555d6639b004256ac822b5b58175cf1%29%3B%0A%20%20%20%20%20%20%20%20%0A%0A%20%20%20%20%20%20%20%20circle_marker_5bd7148574f34f069ef5162cbd971eaf.bindPopup%28popup_b90d18ca0cd94344b69c07a383edc3d6%29%0A%20%20%20%20%20%20%20%20%3B%0A%0A%20%20%20%20%20%20%20%20%0A%20%20%20%20%0A%20%20%20%20%0A%20%20%20%20%20%20%20%20%20%20%20%20var%20marker_33b7a12adcc34ea0bf9d5df1873a5391%20%3D%20L.marker%28%0A%20%20%20%20%20%20%20%20%20%20%20%20%20%20%20%20%5B50.405163369681965%2C%204.408401317498531%5D%2C%0A%20%20%20%20%20%20%20%20%20%20%20%20%20%20%20%20%7B%7D%0A%20%20%20%20%20%20%20%20%20%20%20%20%29.addTo%28feature_group_57a4ddc6dd0e482fb39605f351228311%29%3B%0A%20%20%20%20%20%20%20%20%0A%20%20%20%20%0A%20%20%20%20%20%20%20%20var%20popup_08a0f2a8846e422daee18388bb04ab69%20%3D%20L.popup%28%7B%22maxWidth%22%3A%20%22100%25%22%7D%29%3B%0A%0A%20%20%20%20%20%20%20%20%0A%20%20%20%20%20%20%20%20%20%20%20%20var%20html_e520ef70f4124b28a4e7a64fc8bb93ee%20%3D%20%24%28%60%3Cdiv%20id%3D%22html_e520ef70f4124b28a4e7a64fc8bb93ee%22%20style%3D%22width%3A%20100.0%25%3B%20height%3A%20100.0%25%3B%22%3EBH002%3C/div%3E%60%29%5B0%5D%3B%0A%20%20%20%20%20%20%20%20%20%20%20%20popup_08a0f2a8846e422daee18388bb04ab69.setContent%28html_e520ef70f4124b28a4e7a64fc8bb93ee%29%3B%0A%20%20%20%20%20%20%20%20%0A%0A%20%20%20%20%20%20%20%20marker_33b7a12adcc34ea0bf9d5df1873a5391.bindPopup%28popup_08a0f2a8846e422daee18388bb04ab69%29%0A%20%20%20%20%20%20%20%20%3B%0A%0A%20%20%20%20%20%20%20%20%0A%20%20%20%20%0A%20%20%20%20%0A%20%20%20%20%20%20%20%20%20%20%20%20var%20circle_marker_ecbd31cba4f34604843d24125aa28b29%20%3D%20L.circleMarker%28%0A%20%20%20%20%20%20%20%20%20%20%20%20%20%20%20%20%5B50.40270849282434%2C%204.409848079213098%5D%2C%0A%20%20%20%20%20%20%20%20%20%20%20%20%20%20%20%20%7B%22bubblingMouseEvents%22%3A%20true%2C%20%22color%22%3A%20%22red%22%2C%20%22dashArray%22%3A%20null%2C%20%22dashOffset%22%3A%20null%2C%20%22fill%22%3A%20true%2C%20%22fillColor%22%3A%20%22red%22%2C%20%22fillOpacity%22%3A%200.2%2C%20%22fillRule%22%3A%20%22evenodd%22%2C%20%22lineCap%22%3A%20%22round%22%2C%20%22lineJoin%22%3A%20%22round%22%2C%20%22opacity%22%3A%200.9%2C%20%22radius%22%3A%200.2%2C%20%22stroke%22%3A%20true%2C%20%22weight%22%3A%203%7D%0A%20%20%20%20%20%20%20%20%20%20%20%20%29.addTo%28feature_group_57a4ddc6dd0e482fb39605f351228311%29%3B%0A%20%20%20%20%20%20%20%20%0A%20%20%20%20%0A%20%20%20%20%20%20%20%20var%20popup_cad3362b45f546b197bb96f597f1eb5c%20%3D%20L.popup%28%7B%22maxWidth%22%3A%20%22100%25%22%7D%29%3B%0A%0A%20%20%20%20%20%20%20%20%0A%20%20%20%20%20%20%20%20%20%20%20%20var%20html_bd714185964c47c09dd70bbdb9850939%20%3D%20%24%28%60%3Cdiv%20id%3D%22html_bd714185964c47c09dd70bbdb9850939%22%20style%3D%22width%3A%20100.0%25%3B%20height%3A%20100.0%25%3B%22%3EBH003%3C/div%3E%60%29%5B0%5D%3B%0A%20%20%20%20%20%20%20%20%20%20%20%20popup_cad3362b45f546b197bb96f597f1eb5c.setContent%28html_bd714185964c47c09dd70bbdb9850939%29%3B%0A%20%20%20%20%20%20%20%20%0A%0A%20%20%20%20%20%20%20%20circle_marker_ecbd31cba4f34604843d24125aa28b29.bindPopup%28popup_cad3362b45f546b197bb96f597f1eb5c%29%0A%20%20%20%20%20%20%20%20%3B%0A%0A%20%20%20%20%20%20%20%20%0A%20%20%20%20%0A%20%20%20%20%0A%20%20%20%20%20%20%20%20%20%20%20%20var%20marker_8e2ae1901fc948239516183ad536de4d%20%3D%20L.marker%28%0A%20%20%20%20%20%20%20%20%20%20%20%20%20%20%20%20%5B50.40270849282434%2C%204.409848079213098%5D%2C%0A%20%20%20%20%20%20%20%20%20%20%20%20%20%20%20%20%7B%7D%0A%20%20%20%20%20%20%20%20%20%20%20%20%29.addTo%28feature_group_57a4ddc6dd0e482fb39605f351228311%29%3B%0A%20%20%20%20%20%20%20%20%0A%20%20%20%20%0A%20%20%20%20%20%20%20%20var%20popup_1d935dc3f89c4c5e982ea4c425611e73%20%3D%20L.popup%28%7B%22maxWidth%22%3A%20%22100%25%22%7D%29%3B%0A%0A%20%20%20%20%20%20%20%20%0A%20%20%20%20%20%20%20%20%20%20%20%20var%20html_bf2d9b0781f0430e897b4f3c5e3df588%20%3D%20%24%28%60%3Cdiv%20id%3D%22html_bf2d9b0781f0430e897b4f3c5e3df588%22%20style%3D%22width%3A%20100.0%25%3B%20height%3A%20100.0%25%3B%22%3EBH003%3C/div%3E%60%29%5B0%5D%3B%0A%20%20%20%20%20%20%20%20%20%20%20%20popup_1d935dc3f89c4c5e982ea4c425611e73.setContent%28html_bf2d9b0781f0430e897b4f3c5e3df588%29%3B%0A%20%20%20%20%20%20%20%20%0A%0A%20%20%20%20%20%20%20%20marker_8e2ae1901fc948239516183ad536de4d.bindPopup%28popup_1d935dc3f89c4c5e982ea4c425611e73%29%0A%20%20%20%20%20%20%20%20%3B%0A%0A%20%20%20%20%20%20%20%20%0A%20%20%20%20%0A%20%20%20%20%0A%20%20%20%20%20%20%20%20%20%20%20%20var%20circle_marker_fcf9020ecd9a41b994b187e00b453c9c%20%3D%20L.circleMarker%28%0A%20%20%20%20%20%20%20%20%20%20%20%20%20%20%20%20%5B50.40433651424193%2C%204.407655065394905%5D%2C%0A%20%20%20%20%20%20%20%20%20%20%20%20%20%20%20%20%7B%22bubblingMouseEvents%22%3A%20true%2C%20%22color%22%3A%20%22red%22%2C%20%22dashArray%22%3A%20null%2C%20%22dashOffset%22%3A%20null%2C%20%22fill%22%3A%20true%2C%20%22fillColor%22%3A%20%22red%22%2C%20%22fillOpacity%22%3A%200.2%2C%20%22fillRule%22%3A%20%22evenodd%22%2C%20%22lineCap%22%3A%20%22round%22%2C%20%22lineJoin%22%3A%20%22round%22%2C%20%22opacity%22%3A%200.9%2C%20%22radius%22%3A%200.2%2C%20%22stroke%22%3A%20true%2C%20%22weight%22%3A%203%7D%0A%20%20%20%20%20%20%20%20%20%20%20%20%29.addTo%28feature_group_57a4ddc6dd0e482fb39605f351228311%29%3B%0A%20%20%20%20%20%20%20%20%0A%20%20%20%20%0A%20%20%20%20%20%20%20%20var%20popup_d54ea8e2b41c4e11909a23b47c24ffec%20%3D%20L.popup%28%7B%22maxWidth%22%3A%20%22100%25%22%7D%29%3B%0A%0A%20%20%20%20%20%20%20%20%0A%20%20%20%20%20%20%20%20%20%20%20%20var%20html_c4c156db5c9d4911a68af608c2a0da59%20%3D%20%24%28%60%3Cdiv%20id%3D%22html_c4c156db5c9d4911a68af608c2a0da59%22%20style%3D%22width%3A%20100.0%25%3B%20height%3A%20100.0%25%3B%22%3EBH004%3C/div%3E%60%29%5B0%5D%3B%0A%20%20%20%20%20%20%20%20%20%20%20%20popup_d54ea8e2b41c4e11909a23b47c24ffec.setContent%28html_c4c156db5c9d4911a68af608c2a0da59%29%3B%0A%20%20%20%20%20%20%20%20%0A%0A%20%20%20%20%20%20%20%20circle_marker_fcf9020ecd9a41b994b187e00b453c9c.bindPopup%28popup_d54ea8e2b41c4e11909a23b47c24ffec%29%0A%20%20%20%20%20%20%20%20%3B%0A%0A%20%20%20%20%20%20%20%20%0A%20%20%20%20%0A%20%20%20%20%0A%20%20%20%20%20%20%20%20%20%20%20%20var%20marker_fcc74ba84fb5418d9103e1ec42294ddf%20%3D%20L.marker%28%0A%20%20%20%20%20%20%20%20%20%20%20%20%20%20%20%20%5B50.40433651424193%2C%204.407655065394905%5D%2C%0A%20%20%20%20%20%20%20%20%20%20%20%20%20%20%20%20%7B%7D%0A%20%20%20%20%20%20%20%20%20%20%20%20%29.addTo%28feature_group_57a4ddc6dd0e482fb39605f351228311%29%3B%0A%20%20%20%20%20%20%20%20%0A%20%20%20%20%0A%20%20%20%20%20%20%20%20var%20popup_c31d209646a448e7b8d667957990327a%20%3D%20L.popup%28%7B%22maxWidth%22%3A%20%22100%25%22%7D%29%3B%0A%0A%20%20%20%20%20%20%20%20%0A%20%20%20%20%20%20%20%20%20%20%20%20var%20html_e17e8f2e68a34d36b04291f1c3674db6%20%3D%20%24%28%60%3Cdiv%20id%3D%22html_e17e8f2e68a34d36b04291f1c3674db6%22%20style%3D%22width%3A%20100.0%25%3B%20height%3A%20100.0%25%3B%22%3EBH004%3C/div%3E%60%29%5B0%5D%3B%0A%20%20%20%20%20%20%20%20%20%20%20%20popup_c31d209646a448e7b8d667957990327a.setContent%28html_e17e8f2e68a34d36b04291f1c3674db6%29%3B%0A%20%20%20%20%20%20%20%20%0A%0A%20%20%20%20%20%20%20%20marker_fcc74ba84fb5418d9103e1ec42294ddf.bindPopup%28popup_c31d209646a448e7b8d667957990327a%29%0A%20%20%20%20%20%20%20%20%3B%0A%0A%20%20%20%20%20%20%20%20%0A%20%20%20%20%0A%20%20%20%20%0A%20%20%20%20%20%20%20%20%20%20%20%20var%20circle_marker_6fa5fe3e533a404f9e253d97fb78b534%20%3D%20L.circleMarker%28%0A%20%20%20%20%20%20%20%20%20%20%20%20%20%20%20%20%5B50.404032173705815%2C%204.403533216175507%5D%2C%0A%20%20%20%20%20%20%20%20%20%20%20%20%20%20%20%20%7B%22bubblingMouseEvents%22%3A%20true%2C%20%22color%22%3A%20%22red%22%2C%20%22dashArray%22%3A%20null%2C%20%22dashOffset%22%3A%20null%2C%20%22fill%22%3A%20true%2C%20%22fillColor%22%3A%20%22red%22%2C%20%22fillOpacity%22%3A%200.2%2C%20%22fillRule%22%3A%20%22evenodd%22%2C%20%22lineCap%22%3A%20%22round%22%2C%20%22lineJoin%22%3A%20%22round%22%2C%20%22opacity%22%3A%200.9%2C%20%22radius%22%3A%200.2%2C%20%22stroke%22%3A%20true%2C%20%22weight%22%3A%203%7D%0A%20%20%20%20%20%20%20%20%20%20%20%20%29.addTo%28feature_group_57a4ddc6dd0e482fb39605f351228311%29%3B%0A%20%20%20%20%20%20%20%20%0A%20%20%20%20%0A%20%20%20%20%20%20%20%20var%20popup_0d5bd32a38ed4a26b04c4cd9cf210a40%20%3D%20L.popup%28%7B%22maxWidth%22%3A%20%22100%25%22%7D%29%3B%0A%0A%20%20%20%20%20%20%20%20%0A%20%20%20%20%20%20%20%20%20%20%20%20var%20html_f3920a9d3f104aff9667a41fa2559c87%20%3D%20%24%28%60%3Cdiv%20id%3D%22html_f3920a9d3f104aff9667a41fa2559c87%22%20style%3D%22width%3A%20100.0%25%3B%20height%3A%20100.0%25%3B%22%3EBH005%3C/div%3E%60%29%5B0%5D%3B%0A%20%20%20%20%20%20%20%20%20%20%20%20popup_0d5bd32a38ed4a26b04c4cd9cf210a40.setContent%28html_f3920a9d3f104aff9667a41fa2559c87%29%3B%0A%20%20%20%20%20%20%20%20%0A%0A%20%20%20%20%20%20%20%20circle_marker_6fa5fe3e533a404f9e253d97fb78b534.bindPopup%28popup_0d5bd32a38ed4a26b04c4cd9cf210a40%29%0A%20%20%20%20%20%20%20%20%3B%0A%0A%20%20%20%20%20%20%20%20%0A%20%20%20%20%0A%20%20%20%20%0A%20%20%20%20%20%20%20%20%20%20%20%20var%20marker_cc4bcc47b2fc47f78cdf060f71ccb811%20%3D%20L.marker%28%0A%20%20%20%20%20%20%20%20%20%20%20%20%20%20%20%20%5B50.404032173705815%2C%204.403533216175507%5D%2C%0A%20%20%20%20%20%20%20%20%20%20%20%20%20%20%20%20%7B%7D%0A%20%20%20%20%20%20%20%20%20%20%20%20%29.addTo%28feature_group_57a4ddc6dd0e482fb39605f351228311%29%3B%0A%20%20%20%20%20%20%20%20%0A%20%20%20%20%0A%20%20%20%20%20%20%20%20var%20popup_5ce6103b65f748518634612bd16dc393%20%3D%20L.popup%28%7B%22maxWidth%22%3A%20%22100%25%22%7D%29%3B%0A%0A%20%20%20%20%20%20%20%20%0A%20%20%20%20%20%20%20%20%20%20%20%20var%20html_ea2f181b7c7e47fca1bd676795f63c99%20%3D%20%24%28%60%3Cdiv%20id%3D%22html_ea2f181b7c7e47fca1bd676795f63c99%22%20style%3D%22width%3A%20100.0%25%3B%20height%3A%20100.0%25%3B%22%3EBH005%3C/div%3E%60%29%5B0%5D%3B%0A%20%20%20%20%20%20%20%20%20%20%20%20popup_5ce6103b65f748518634612bd16dc393.setContent%28html_ea2f181b7c7e47fca1bd676795f63c99%29%3B%0A%20%20%20%20%20%20%20%20%0A%0A%20%20%20%20%20%20%20%20marker_cc4bcc47b2fc47f78cdf060f71ccb811.bindPopup%28popup_5ce6103b65f748518634612bd16dc393%29%0A%20%20%20%20%20%20%20%20%3B%0A%0A%20%20%20%20%20%20%20%20%0A%20%20%20%20%0A%20%20%20%20%0A%20%20%20%20%20%20%20%20%20%20%20%20var%20circle_marker_72cfddcd55fb44d88d031a8feff01501%20%3D%20L.circleMarker%28%0A%20%20%20%20%20%20%20%20%20%20%20%20%20%20%20%20%5B50.39991500588762%2C%204.402151705105076%5D%2C%0A%20%20%20%20%20%20%20%20%20%20%20%20%20%20%20%20%7B%22bubblingMouseEvents%22%3A%20true%2C%20%22color%22%3A%20%22red%22%2C%20%22dashArray%22%3A%20null%2C%20%22dashOffset%22%3A%20null%2C%20%22fill%22%3A%20true%2C%20%22fillColor%22%3A%20%22red%22%2C%20%22fillOpacity%22%3A%200.2%2C%20%22fillRule%22%3A%20%22evenodd%22%2C%20%22lineCap%22%3A%20%22round%22%2C%20%22lineJoin%22%3A%20%22round%22%2C%20%22opacity%22%3A%200.9%2C%20%22radius%22%3A%200.2%2C%20%22stroke%22%3A%20true%2C%20%22weight%22%3A%203%7D%0A%20%20%20%20%20%20%20%20%20%20%20%20%29.addTo%28feature_group_57a4ddc6dd0e482fb39605f351228311%29%3B%0A%20%20%20%20%20%20%20%20%0A%20%20%20%20%0A%20%20%20%20%20%20%20%20var%20popup_66b446d3ba184d2baa3eedd6213a22a9%20%3D%20L.popup%28%7B%22maxWidth%22%3A%20%22100%25%22%7D%29%3B%0A%0A%20%20%20%20%20%20%20%20%0A%20%20%20%20%20%20%20%20%20%20%20%20var%20html_c3a19c6c6d734d97bbd570833fe9a5b9%20%3D%20%24%28%60%3Cdiv%20id%3D%22html_c3a19c6c6d734d97bbd570833fe9a5b9%22%20style%3D%22width%3A%20100.0%25%3B%20height%3A%20100.0%25%3B%22%3EBH006%3C/div%3E%60%29%5B0%5D%3B%0A%20%20%20%20%20%20%20%20%20%20%20%20popup_66b446d3ba184d2baa3eedd6213a22a9.setContent%28html_c3a19c6c6d734d97bbd570833fe9a5b9%29%3B%0A%20%20%20%20%20%20%20%20%0A%0A%20%20%20%20%20%20%20%20circle_marker_72cfddcd55fb44d88d031a8feff01501.bindPopup%28popup_66b446d3ba184d2baa3eedd6213a22a9%29%0A%20%20%20%20%20%20%20%20%3B%0A%0A%20%20%20%20%20%20%20%20%0A%20%20%20%20%0A%20%20%20%20%0A%20%20%20%20%20%20%20%20%20%20%20%20var%20marker_ba15226621e04528931ce71307473fed%20%3D%20L.marker%28%0A%20%20%20%20%20%20%20%20%20%20%20%20%20%20%20%20%5B50.39991500588762%2C%204.402151705105076%5D%2C%0A%20%20%20%20%20%20%20%20%20%20%20%20%20%20%20%20%7B%7D%0A%20%20%20%20%20%20%20%20%20%20%20%20%29.addTo%28feature_group_57a4ddc6dd0e482fb39605f351228311%29%3B%0A%20%20%20%20%20%20%20%20%0A%20%20%20%20%0A%20%20%20%20%20%20%20%20var%20popup_cc563b560a964e31926c01fd6b4c4bb9%20%3D%20L.popup%28%7B%22maxWidth%22%3A%20%22100%25%22%7D%29%3B%0A%0A%20%20%20%20%20%20%20%20%0A%20%20%20%20%20%20%20%20%20%20%20%20var%20html_99738b7aa4df4eb29403d0700e8cebf4%20%3D%20%24%28%60%3Cdiv%20id%3D%22html_99738b7aa4df4eb29403d0700e8cebf4%22%20style%3D%22width%3A%20100.0%25%3B%20height%3A%20100.0%25%3B%22%3EBH006%3C/div%3E%60%29%5B0%5D%3B%0A%20%20%20%20%20%20%20%20%20%20%20%20popup_cc563b560a964e31926c01fd6b4c4bb9.setContent%28html_99738b7aa4df4eb29403d0700e8cebf4%29%3B%0A%20%20%20%20%20%20%20%20%0A%0A%20%20%20%20%20%20%20%20marker_ba15226621e04528931ce71307473fed.bindPopup%28popup_cc563b560a964e31926c01fd6b4c4bb9%29%0A%20%20%20%20%20%20%20%20%3B%0A%0A%20%20%20%20%20%20%20%20%0A%20%20%20%20%0A%20%20%20%20%0A%20%20%20%20%20%20%20%20%20%20%20%20var%20circle_marker_09a5064571364a6a985983ac0500fe88%20%3D%20L.circleMarker%28%0A%20%20%20%20%20%20%20%20%20%20%20%20%20%20%20%20%5B50.40089307563868%2C%204.408046039659416%5D%2C%0A%20%20%20%20%20%20%20%20%20%20%20%20%20%20%20%20%7B%22bubblingMouseEvents%22%3A%20true%2C%20%22color%22%3A%20%22red%22%2C%20%22dashArray%22%3A%20null%2C%20%22dashOffset%22%3A%20null%2C%20%22fill%22%3A%20true%2C%20%22fillColor%22%3A%20%22red%22%2C%20%22fillOpacity%22%3A%200.2%2C%20%22fillRule%22%3A%20%22evenodd%22%2C%20%22lineCap%22%3A%20%22round%22%2C%20%22lineJoin%22%3A%20%22round%22%2C%20%22opacity%22%3A%200.9%2C%20%22radius%22%3A%200.2%2C%20%22stroke%22%3A%20true%2C%20%22weight%22%3A%203%7D%0A%20%20%20%20%20%20%20%20%20%20%20%20%29.addTo%28feature_group_57a4ddc6dd0e482fb39605f351228311%29%3B%0A%20%20%20%20%20%20%20%20%0A%20%20%20%20%0A%20%20%20%20%20%20%20%20var%20popup_f15283d1ffc54e339ed7cddc5662364f%20%3D%20L.popup%28%7B%22maxWidth%22%3A%20%22100%25%22%7D%29%3B%0A%0A%20%20%20%20%20%20%20%20%0A%20%20%20%20%20%20%20%20%20%20%20%20var%20html_fcc498733f604c029345af4c80d3b6f5%20%3D%20%24%28%60%3Cdiv%20id%3D%22html_fcc498733f604c029345af4c80d3b6f5%22%20style%3D%22width%3A%20100.0%25%3B%20height%3A%20100.0%25%3B%22%3EBH007%3C/div%3E%60%29%5B0%5D%3B%0A%20%20%20%20%20%20%20%20%20%20%20%20popup_f15283d1ffc54e339ed7cddc5662364f.setContent%28html_fcc498733f604c029345af4c80d3b6f5%29%3B%0A%20%20%20%20%20%20%20%20%0A%0A%20%20%20%20%20%20%20%20circle_marker_09a5064571364a6a985983ac0500fe88.bindPopup%28popup_f15283d1ffc54e339ed7cddc5662364f%29%0A%20%20%20%20%20%20%20%20%3B%0A%0A%20%20%20%20%20%20%20%20%0A%20%20%20%20%0A%20%20%20%20%0A%20%20%20%20%20%20%20%20%20%20%20%20var%20marker_6e4b1b5e58ee452da678c03e3289cc4d%20%3D%20L.marker%28%0A%20%20%20%20%20%20%20%20%20%20%20%20%20%20%20%20%5B50.40089307563868%2C%204.408046039659416%5D%2C%0A%20%20%20%20%20%20%20%20%20%20%20%20%20%20%20%20%7B%7D%0A%20%20%20%20%20%20%20%20%20%20%20%20%29.addTo%28feature_group_57a4ddc6dd0e482fb39605f351228311%29%3B%0A%20%20%20%20%20%20%20%20%0A%20%20%20%20%0A%20%20%20%20%20%20%20%20var%20popup_f6f71b592e954b738d3e8294fceafd65%20%3D%20L.popup%28%7B%22maxWidth%22%3A%20%22100%25%22%7D%29%3B%0A%0A%20%20%20%20%20%20%20%20%0A%20%20%20%20%20%20%20%20%20%20%20%20var%20html_ed5fee4337054ec1a4e9424e28561bc0%20%3D%20%24%28%60%3Cdiv%20id%3D%22html_ed5fee4337054ec1a4e9424e28561bc0%22%20style%3D%22width%3A%20100.0%25%3B%20height%3A%20100.0%25%3B%22%3EBH007%3C/div%3E%60%29%5B0%5D%3B%0A%20%20%20%20%20%20%20%20%20%20%20%20popup_f6f71b592e954b738d3e8294fceafd65.setContent%28html_ed5fee4337054ec1a4e9424e28561bc0%29%3B%0A%20%20%20%20%20%20%20%20%0A%0A%20%20%20%20%20%20%20%20marker_6e4b1b5e58ee452da678c03e3289cc4d.bindPopup%28popup_f6f71b592e954b738d3e8294fceafd65%29%0A%20%20%20%20%20%20%20%20%3B%0A%0A%20%20%20%20%20%20%20%20%0A%20%20%20%20%0A%20%20%20%20%0A%20%20%20%20%20%20%20%20%20%20%20%20var%20circle_marker_4357c78f32314c1c80bc7ccd5c1fb4bd%20%3D%20L.circleMarker%28%0A%20%20%20%20%20%20%20%20%20%20%20%20%20%20%20%20%5B50.405103323153014%2C%204.398990312569181%5D%2C%0A%20%20%20%20%20%20%20%20%20%20%20%20%20%20%20%20%7B%22bubblingMouseEvents%22%3A%20true%2C%20%22color%22%3A%20%22red%22%2C%20%22dashArray%22%3A%20null%2C%20%22dashOffset%22%3A%20null%2C%20%22fill%22%3A%20true%2C%20%22fillColor%22%3A%20%22red%22%2C%20%22fillOpacity%22%3A%200.2%2C%20%22fillRule%22%3A%20%22evenodd%22%2C%20%22lineCap%22%3A%20%22round%22%2C%20%22lineJoin%22%3A%20%22round%22%2C%20%22opacity%22%3A%200.9%2C%20%22radius%22%3A%200.2%2C%20%22stroke%22%3A%20true%2C%20%22weight%22%3A%203%7D%0A%20%20%20%20%20%20%20%20%20%20%20%20%29.addTo%28feature_group_57a4ddc6dd0e482fb39605f351228311%29%3B%0A%20%20%20%20%20%20%20%20%0A%20%20%20%20%0A%20%20%20%20%20%20%20%20var%20popup_7ab68f19dfba4712be3ec3e2f692e64c%20%3D%20L.popup%28%7B%22maxWidth%22%3A%20%22100%25%22%7D%29%3B%0A%0A%20%20%20%20%20%20%20%20%0A%20%20%20%20%20%20%20%20%20%20%20%20var%20html_48e312d249864694a408c0d85db28979%20%3D%20%24%28%60%3Cdiv%20id%3D%22html_48e312d249864694a408c0d85db28979%22%20style%3D%22width%3A%20100.0%25%3B%20height%3A%20100.0%25%3B%22%3EBH008%3C/div%3E%60%29%5B0%5D%3B%0A%20%20%20%20%20%20%20%20%20%20%20%20popup_7ab68f19dfba4712be3ec3e2f692e64c.setContent%28html_48e312d249864694a408c0d85db28979%29%3B%0A%20%20%20%20%20%20%20%20%0A%0A%20%20%20%20%20%20%20%20circle_marker_4357c78f32314c1c80bc7ccd5c1fb4bd.bindPopup%28popup_7ab68f19dfba4712be3ec3e2f692e64c%29%0A%20%20%20%20%20%20%20%20%3B%0A%0A%20%20%20%20%20%20%20%20%0A%20%20%20%20%0A%20%20%20%20%0A%20%20%20%20%20%20%20%20%20%20%20%20var%20marker_694e6cfffa104f098b7c3f3959757fb1%20%3D%20L.marker%28%0A%20%20%20%20%20%20%20%20%20%20%20%20%20%20%20%20%5B50.405103323153014%2C%204.398990312569181%5D%2C%0A%20%20%20%20%20%20%20%20%20%20%20%20%20%20%20%20%7B%7D%0A%20%20%20%20%20%20%20%20%20%20%20%20%29.addTo%28feature_group_57a4ddc6dd0e482fb39605f351228311%29%3B%0A%20%20%20%20%20%20%20%20%0A%20%20%20%20%0A%20%20%20%20%20%20%20%20var%20popup_81cf68d5110a4ef9b4f2e6550d488175%20%3D%20L.popup%28%7B%22maxWidth%22%3A%20%22100%25%22%7D%29%3B%0A%0A%20%20%20%20%20%20%20%20%0A%20%20%20%20%20%20%20%20%20%20%20%20var%20html_d6ac6eefc4274f3e969ab082d1ec9090%20%3D%20%24%28%60%3Cdiv%20id%3D%22html_d6ac6eefc4274f3e969ab082d1ec9090%22%20style%3D%22width%3A%20100.0%25%3B%20height%3A%20100.0%25%3B%22%3EBH008%3C/div%3E%60%29%5B0%5D%3B%0A%20%20%20%20%20%20%20%20%20%20%20%20popup_81cf68d5110a4ef9b4f2e6550d488175.setContent%28html_d6ac6eefc4274f3e969ab082d1ec9090%29%3B%0A%20%20%20%20%20%20%20%20%0A%0A%20%20%20%20%20%20%20%20marker_694e6cfffa104f098b7c3f3959757fb1.bindPopup%28popup_81cf68d5110a4ef9b4f2e6550d488175%29%0A%20%20%20%20%20%20%20%20%3B%0A%0A%20%20%20%20%20%20%20%20%0A%20%20%20%20%0A%20%20%20%20%0A%20%20%20%20%20%20%20%20%20%20%20%20var%20circle_marker_4fac51ca538742649bceea0ca8fc0235%20%3D%20L.circleMarker%28%0A%20%20%20%20%20%20%20%20%20%20%20%20%20%20%20%20%5B50.40253244229688%2C%204.397610126989354%5D%2C%0A%20%20%20%20%20%20%20%20%20%20%20%20%20%20%20%20%7B%22bubblingMouseEvents%22%3A%20true%2C%20%22color%22%3A%20%22red%22%2C%20%22dashArray%22%3A%20null%2C%20%22dashOffset%22%3A%20null%2C%20%22fill%22%3A%20true%2C%20%22fillColor%22%3A%20%22red%22%2C%20%22fillOpacity%22%3A%200.2%2C%20%22fillRule%22%3A%20%22evenodd%22%2C%20%22lineCap%22%3A%20%22round%22%2C%20%22lineJoin%22%3A%20%22round%22%2C%20%22opacity%22%3A%200.9%2C%20%22radius%22%3A%200.2%2C%20%22stroke%22%3A%20true%2C%20%22weight%22%3A%203%7D%0A%20%20%20%20%20%20%20%20%20%20%20%20%29.addTo%28feature_group_57a4ddc6dd0e482fb39605f351228311%29%3B%0A%20%20%20%20%20%20%20%20%0A%20%20%20%20%0A%20%20%20%20%20%20%20%20var%20popup_c23f8495e7ea46669a2f542995edba90%20%3D%20L.popup%28%7B%22maxWidth%22%3A%20%22100%25%22%7D%29%3B%0A%0A%20%20%20%20%20%20%20%20%0A%20%20%20%20%20%20%20%20%20%20%20%20var%20html_84b665b29fe24c46ba78f12570e177a9%20%3D%20%24%28%60%3Cdiv%20id%3D%22html_84b665b29fe24c46ba78f12570e177a9%22%20style%3D%22width%3A%20100.0%25%3B%20height%3A%20100.0%25%3B%22%3EBH009%3C/div%3E%60%29%5B0%5D%3B%0A%20%20%20%20%20%20%20%20%20%20%20%20popup_c23f8495e7ea46669a2f542995edba90.setContent%28html_84b665b29fe24c46ba78f12570e177a9%29%3B%0A%20%20%20%20%20%20%20%20%0A%0A%20%20%20%20%20%20%20%20circle_marker_4fac51ca538742649bceea0ca8fc0235.bindPopup%28popup_c23f8495e7ea46669a2f542995edba90%29%0A%20%20%20%20%20%20%20%20%3B%0A%0A%20%20%20%20%20%20%20%20%0A%20%20%20%20%0A%20%20%20%20%0A%20%20%20%20%20%20%20%20%20%20%20%20var%20marker_649197f7dadf4f19bc43cf225a83fb17%20%3D%20L.marker%28%0A%20%20%20%20%20%20%20%20%20%20%20%20%20%20%20%20%5B50.40253244229688%2C%204.397610126989354%5D%2C%0A%20%20%20%20%20%20%20%20%20%20%20%20%20%20%20%20%7B%7D%0A%20%20%20%20%20%20%20%20%20%20%20%20%29.addTo%28feature_group_57a4ddc6dd0e482fb39605f351228311%29%3B%0A%20%20%20%20%20%20%20%20%0A%20%20%20%20%0A%20%20%20%20%20%20%20%20var%20popup_ffd78404d40044f8810acdbf72b6f801%20%3D%20L.popup%28%7B%22maxWidth%22%3A%20%22100%25%22%7D%29%3B%0A%0A%20%20%20%20%20%20%20%20%0A%20%20%20%20%20%20%20%20%20%20%20%20var%20html_5af446a5735447b381b4784f7d7f862b%20%3D%20%24%28%60%3Cdiv%20id%3D%22html_5af446a5735447b381b4784f7d7f862b%22%20style%3D%22width%3A%20100.0%25%3B%20height%3A%20100.0%25%3B%22%3EBH009%3C/div%3E%60%29%5B0%5D%3B%0A%20%20%20%20%20%20%20%20%20%20%20%20popup_ffd78404d40044f8810acdbf72b6f801.setContent%28html_5af446a5735447b381b4784f7d7f862b%29%3B%0A%20%20%20%20%20%20%20%20%0A%0A%20%20%20%20%20%20%20%20marker_649197f7dadf4f19bc43cf225a83fb17.bindPopup%28popup_ffd78404d40044f8810acdbf72b6f801%29%0A%20%20%20%20%20%20%20%20%3B%0A%0A%20%20%20%20%20%20%20%20%0A%20%20%20%20%0A%20%20%20%20%0A%20%20%20%20%20%20%20%20%20%20%20%20var%20circle_marker_1f359fb7b28342c5b3f6a5d6b8a90cee%20%3D%20L.circleMarker%28%0A%20%20%20%20%20%20%20%20%20%20%20%20%20%20%20%20%5B50.40667599264342%2C%204.401312501535724%5D%2C%0A%20%20%20%20%20%20%20%20%20%20%20%20%20%20%20%20%7B%22bubblingMouseEvents%22%3A%20true%2C%20%22color%22%3A%20%22red%22%2C%20%22dashArray%22%3A%20null%2C%20%22dashOffset%22%3A%20null%2C%20%22fill%22%3A%20true%2C%20%22fillColor%22%3A%20%22red%22%2C%20%22fillOpacity%22%3A%200.2%2C%20%22fillRule%22%3A%20%22evenodd%22%2C%20%22lineCap%22%3A%20%22round%22%2C%20%22lineJoin%22%3A%20%22round%22%2C%20%22opacity%22%3A%200.9%2C%20%22radius%22%3A%200.2%2C%20%22stroke%22%3A%20true%2C%20%22weight%22%3A%203%7D%0A%20%20%20%20%20%20%20%20%20%20%20%20%29.addTo%28feature_group_57a4ddc6dd0e482fb39605f351228311%29%3B%0A%20%20%20%20%20%20%20%20%0A%20%20%20%20%0A%20%20%20%20%20%20%20%20var%20popup_6a6aaa80b2e54987afabe0650429649d%20%3D%20L.popup%28%7B%22maxWidth%22%3A%20%22100%25%22%7D%29%3B%0A%0A%20%20%20%20%20%20%20%20%0A%20%20%20%20%20%20%20%20%20%20%20%20var%20html_0f007cc94095449ab1299368c9736875%20%3D%20%24%28%60%3Cdiv%20id%3D%22html_0f007cc94095449ab1299368c9736875%22%20style%3D%22width%3A%20100.0%25%3B%20height%3A%20100.0%25%3B%22%3EBH10%3C/div%3E%60%29%5B0%5D%3B%0A%20%20%20%20%20%20%20%20%20%20%20%20popup_6a6aaa80b2e54987afabe0650429649d.setContent%28html_0f007cc94095449ab1299368c9736875%29%3B%0A%20%20%20%20%20%20%20%20%0A%0A%20%20%20%20%20%20%20%20circle_marker_1f359fb7b28342c5b3f6a5d6b8a90cee.bindPopup%28popup_6a6aaa80b2e54987afabe0650429649d%29%0A%20%20%20%20%20%20%20%20%3B%0A%0A%20%20%20%20%20%20%20%20%0A%20%20%20%20%0A%20%20%20%20%0A%20%20%20%20%20%20%20%20%20%20%20%20var%20marker_77e123480da347f3a1cd3964e9869c59%20%3D%20L.marker%28%0A%20%20%20%20%20%20%20%20%20%20%20%20%20%20%20%20%5B50.40667599264342%2C%204.401312501535724%5D%2C%0A%20%20%20%20%20%20%20%20%20%20%20%20%20%20%20%20%7B%7D%0A%20%20%20%20%20%20%20%20%20%20%20%20%29.addTo%28feature_group_57a4ddc6dd0e482fb39605f351228311%29%3B%0A%20%20%20%20%20%20%20%20%0A%20%20%20%20%0A%20%20%20%20%20%20%20%20var%20popup_1785d9b90228432091ac619d62400c57%20%3D%20L.popup%28%7B%22maxWidth%22%3A%20%22100%25%22%7D%29%3B%0A%0A%20%20%20%20%20%20%20%20%0A%20%20%20%20%20%20%20%20%20%20%20%20var%20html_f20affe770874a6ba06b6627264bfbb1%20%3D%20%24%28%60%3Cdiv%20id%3D%22html_f20affe770874a6ba06b6627264bfbb1%22%20style%3D%22width%3A%20100.0%25%3B%20height%3A%20100.0%25%3B%22%3EBH10%3C/div%3E%60%29%5B0%5D%3B%0A%20%20%20%20%20%20%20%20%20%20%20%20popup_1785d9b90228432091ac619d62400c57.setContent%28html_f20affe770874a6ba06b6627264bfbb1%29%3B%0A%20%20%20%20%20%20%20%20%0A%0A%20%20%20%20%20%20%20%20marker_77e123480da347f3a1cd3964e9869c59.bindPopup%28popup_1785d9b90228432091ac619d62400c57%29%0A%20%20%20%20%20%20%20%20%3B%0A%0A%20%20%20%20%20%20%20%20%0A%20%20%20%20%0A%20%20%20%20%0A%20%20%20%20%20%20%20%20%20%20%20%20var%20layer_control_e1f3bc2939294c7c96661813b58b5681%20%3D%20%7B%0A%20%20%20%20%20%20%20%20%20%20%20%20%20%20%20%20base_layers%20%3A%20%7B%0A%20%20%20%20%20%20%20%20%20%20%20%20%20%20%20%20%20%20%20%20%22openstreetmap%22%20%3A%20tile_layer_aad4641dcf054024ba6cbc9c83edd925%2C%0A%20%20%20%20%20%20%20%20%20%20%20%20%20%20%20%20%20%20%20%20%22Satellite%22%20%3A%20tile_layer_d7e4a2bfd8054a0694554b15a048868a%2C%0A%20%20%20%20%20%20%20%20%20%20%20%20%20%20%20%20%7D%2C%0A%20%20%20%20%20%20%20%20%20%20%20%20%20%20%20%20overlays%20%3A%20%20%7B%0A%20%20%20%20%20%20%20%20%20%20%20%20%20%20%20%20%20%20%20%20%22Boreholes%22%20%3A%20feature_group_57a4ddc6dd0e482fb39605f351228311%2C%0A%20%20%20%20%20%20%20%20%20%20%20%20%20%20%20%20%7D%2C%0A%20%20%20%20%20%20%20%20%20%20%20%20%7D%3B%0A%20%20%20%20%20%20%20%20%20%20%20%20L.control.layers%28%0A%20%20%20%20%20%20%20%20%20%20%20%20%20%20%20%20layer_control_e1f3bc2939294c7c96661813b58b5681.base_layers%2C%0A%20%20%20%20%20%20%20%20%20%20%20%20%20%20%20%20layer_control_e1f3bc2939294c7c96661813b58b5681.overlays%2C%0A%20%20%20%20%20%20%20%20%20%20%20%20%20%20%20%20%7B%22autoZIndex%22%3A%20true%2C%20%22collapsed%22%3A%20true%2C%20%22position%22%3A%20%22topright%22%7D%0A%20%20%20%20%20%20%20%20%20%20%20%20%29.addTo%28map_72902500205b45a88f8a4ab63b4428f9%29%3B%0A%20%20%20%20%20%20%20%20%20%20%20%20tile_layer_d7e4a2bfd8054a0694554b15a048868a.remove%28%29%3B%0A%20%20%20%20%20%20%20%20%0A%20%20%20%20%0A%20%20%20%20%20%20%20%20%20%20%20%20var%20tile_layer_5bdfbeee86654adb9d190c5a1667d401%20%3D%20L.tileLayer%28%0A%20%20%20%20%20%20%20%20%20%20%20%20%20%20%20%20%22https%3A//%7Bs%7D.tile.openstreetmap.org/%7Bz%7D/%7Bx%7D/%7By%7D.png%22%2C%0A%20%20%20%20%20%20%20%20%20%20%20%20%20%20%20%20%7B%22attribution%22%3A%20%22Data%20by%20%5Cu0026copy%3B%20%5Cu003ca%20href%3D%5C%22http%3A//openstreetmap.org%5C%22%5Cu003eOpenStreetMap%5Cu003c/a%5Cu003e%2C%20under%20%5Cu003ca%20href%3D%5C%22http%3A//www.openstreetmap.org/copyright%5C%22%5Cu003eODbL%5Cu003c/a%5Cu003e.%22%2C%20%22detectRetina%22%3A%20false%2C%20%22maxNativeZoom%22%3A%2018%2C%20%22maxZoom%22%3A%2018%2C%20%22minZoom%22%3A%200%2C%20%22noWrap%22%3A%20false%2C%20%22opacity%22%3A%201%2C%20%22subdomains%22%3A%20%22abc%22%2C%20%22tms%22%3A%20false%7D%0A%20%20%20%20%20%20%20%20%20%20%20%20%29%3B%0A%20%20%20%20%20%20%20%20%20%20%20%20var%20mini_map_02751b1ab7c740339b6ebe53f4d0a2e0%20%3D%20new%20L.Control.MiniMap%28%0A%20%20%20%20%20%20%20%20%20%20%20%20%20%20%20%20tile_layer_5bdfbeee86654adb9d190c5a1667d401%2C%0A%20%20%20%20%20%20%20%20%20%20%20%20%20%20%20%20%7B%22autoToggleDisplay%22%3A%20false%2C%20%22centerFixed%22%3A%20false%2C%20%22collapsedHeight%22%3A%2025%2C%20%22collapsedWidth%22%3A%2025%2C%20%22height%22%3A%20150%2C%20%22minimized%22%3A%20false%2C%20%22position%22%3A%20%22bottomright%22%2C%20%22toggleDisplay%22%3A%20true%2C%20%22width%22%3A%20150%2C%20%22zoomAnimation%22%3A%20false%2C%20%22zoomLevelOffset%22%3A%20-6%7D%0A%20%20%20%20%20%20%20%20%20%20%20%20%29%3B%0A%20%20%20%20%20%20%20%20%20%20%20%20map_72902500205b45a88f8a4ab63b4428f9.addControl%28mini_map_02751b1ab7c740339b6ebe53f4d0a2e0%29%3B%0A%20%20%20%20%20%20%20%20%0A%3C/script%3E onload=\"this.contentDocument.open();this.contentDocument.write(    decodeURIComponent(this.getAttribute('data-html')));this.contentDocument.close();\" allowfullscreen webkitallowfullscreen mozallowfullscreen></iframe></div></div>"
      ],
      "text/plain": [
       "<folium.folium.Map at 0x7f1ccff5e220>"
      ]
     },
     "execution_count": 33,
     "metadata": {},
     "output_type": "execute_result"
    }
   ],
   "source": [
    "p.plot2d()"
   ]
  },
  {
   "cell_type": "markdown",
   "metadata": {},
   "source": [
    "### 3D plot"
   ]
  },
  {
   "cell_type": "code",
   "execution_count": 34,
   "metadata": {},
   "outputs": [
    {
     "data": {
      "text/plain": [
       "['lithology', 'arsenic', 'cadmium']"
      ]
     },
     "execution_count": 34,
     "metadata": {},
     "output_type": "execute_result"
    }
   ],
   "source": [
    "attributes = list(p.legend_dict.keys())\n",
    "attributes"
   ]
  },
  {
   "cell_type": "code",
   "execution_count": 35,
   "metadata": {},
   "outputs": [
    {
     "data": {
      "text/plain": [
       "({'lithology': {'legend': Legend(Decor({'_colour': '#ffcb23', 'width': 3, 'hatch': \"'..'\", 'component': Component({'lithology': 'sable'})})\n",
       "   Decor({'_colour': '#d5e6cc', 'width': 3, 'hatch': \"'---'\", 'component': Component({'lithology': 'argile'})})\n",
       "   Decor({'_colour': '#7ba1a8', 'width': 3, 'hatch': None, 'component': Component({'lithology': 'marne'})})\n",
       "   Decor({'_colour': '#000000', 'width': 3, 'hatch': None, 'component': Component({'lithology': 'charbon'})})\n",
       "   Decor({'_colour': '#fdaffe', 'width': 3, 'hatch': None, 'component': Component({'lithology': 'dolomie'})})\n",
       "   Decor({'_colour': '#bbffdd', 'width': 3, 'hatch': \"'--'\", 'component': Component({'lithology': 'schiste'})})\n",
       "   Decor({'_colour': '#149eff', 'width': 3, 'hatch': \"'='\", 'component': Component({'lithology': 'calcaire'})})),\n",
       "   'cmap': <matplotlib.colors.ListedColormap at 0x7f1cd0268400>,\n",
       "   'values': ['sable',\n",
       "    'argile',\n",
       "    'marne',\n",
       "    'charbon',\n",
       "    'dolomie',\n",
       "    'schiste',\n",
       "    'calcaire']},\n",
       "  'arsenic': {'legend': Legend(Decor({'_colour': '#ffa500', 'width': 3, 'component': Component({'arsenic': 'vs'}), 'hatch': None})\n",
       "   Decor({'_colour': '#ffffff', 'width': 3, 'component': Component({'arsenic': 'inconnu'}), 'hatch': None})\n",
       "   Decor({'_colour': '#ff0000', 'width': 3, 'component': Component({'arsenic': 'vi'}), 'hatch': None})\n",
       "   Decor({'_colour': '#00ff00', 'width': 3, 'component': Component({'arsenic': 'vr'}), 'hatch': None})),\n",
       "   'cmap': <matplotlib.colors.ListedColormap at 0x7f1ccfefa130>,\n",
       "   'values': ['vs', 'inconnu', 'vi', 'vr']},\n",
       "  'cadmium': {'legend': Legend(Decor({'_colour': '#00ff00', 'width': 3, 'component': Component({'cadmium': 'vr'}), 'hatch': None})\n",
       "   Decor({'_colour': '#ffffff', 'width': 3, 'component': Component({'cadmium': 'inconnu'}), 'hatch': None})\n",
       "   Decor({'_colour': '#ff0000', 'width': 3, 'component': Component({'cadmium': 'vi'}), 'hatch': None})\n",
       "   Decor({'_colour': '#ffa500', 'width': 3, 'component': Component({'cadmium': 'vs'}), 'hatch': None})),\n",
       "   'cmap': <matplotlib.colors.ListedColormap at 0x7f1ccff03370>,\n",
       "   'values': ['vr', 'inconnu', 'vi', 'vs']}},\n",
       " {'BH001': {'lithology': {'legend': Legend(Decor({'_colour': '#ffcb23', 'width': 3, 'hatch': \"'..'\", 'component': Component({'lithology': 'sable'})})\n",
       "    Decor({'_colour': '#d5e6cc', 'width': 3, 'hatch': \"'---'\", 'component': Component({'lithology': 'argile'})})\n",
       "    Decor({'_colour': '#7ba1a8', 'width': 3, 'hatch': None, 'component': Component({'lithology': 'marne'})})\n",
       "    Decor({'_colour': '#000000', 'width': 3, 'hatch': None, 'component': Component({'lithology': 'charbon'})})),\n",
       "    'cmap': <matplotlib.colors.ListedColormap at 0x7f1ccfee5ee0>,\n",
       "    'values': ['sable', 'argile', 'marne', 'charbon']},\n",
       "   'arsenic': {'legend': Legend(Decor({'_colour': '#ffa500', 'width': 3, 'component': Component({'arsenic': 'vs'}), 'hatch': None})\n",
       "    Decor({'_colour': '#ffffff', 'width': 3, 'component': Component({'arsenic': 'inconnu'}), 'hatch': None})\n",
       "    Decor({'_colour': '#ff0000', 'width': 3, 'component': Component({'arsenic': 'vi'}), 'hatch': None})),\n",
       "    'cmap': <matplotlib.colors.ListedColormap at 0x7f1ccfef45e0>,\n",
       "    'values': ['vs', 'inconnu', 'vi']},\n",
       "   'cadmium': {'legend': Legend(Decor({'_colour': '#00ff00', 'width': 3, 'component': Component({'cadmium': 'vr'}), 'hatch': None})),\n",
       "    'cmap': <matplotlib.colors.ListedColormap at 0x7f1ccfefa070>,\n",
       "    'values': ['vr']}},\n",
       "  'BH002': {'lithology': {'legend': Legend(Decor({'_colour': '#ffcb23', 'width': 3, 'hatch': \"'..'\", 'component': Component({'lithology': 'sable'})})\n",
       "    Decor({'_colour': '#d5e6cc', 'width': 3, 'hatch': \"'---'\", 'component': Component({'lithology': 'argile'})})\n",
       "    Decor({'_colour': '#7ba1a8', 'width': 3, 'hatch': None, 'component': Component({'lithology': 'marne'})})\n",
       "    Decor({'_colour': '#000000', 'width': 3, 'hatch': None, 'component': Component({'lithology': 'charbon'})})\n",
       "    Decor({'_colour': '#fdaffe', 'width': 3, 'hatch': None, 'component': Component({'lithology': 'dolomie'})})),\n",
       "    'cmap': <matplotlib.colors.ListedColormap at 0x7f1ccfeddc10>,\n",
       "    'values': ['sable', 'argile', 'marne', 'charbon', 'dolomie']},\n",
       "   'arsenic': {'legend': Legend(Decor({'_colour': '#00ff00', 'width': 3, 'component': Component({'arsenic': 'vr'}), 'hatch': None})\n",
       "    Decor({'_colour': '#ffffff', 'width': 3, 'component': Component({'arsenic': 'inconnu'}), 'hatch': None})\n",
       "    Decor({'_colour': '#ff0000', 'width': 3, 'component': Component({'arsenic': 'vi'}), 'hatch': None})\n",
       "    Decor({'_colour': '#ffa500', 'width': 3, 'component': Component({'arsenic': 'vs'}), 'hatch': None})),\n",
       "    'cmap': <matplotlib.colors.ListedColormap at 0x7f1ccfef4b50>,\n",
       "    'values': ['vr', 'inconnu', 'vi', 'vs']},\n",
       "   'cadmium': {'legend': Legend(Decor({'_colour': '#00ff00', 'width': 3, 'component': Component({'cadmium': 'vr'}), 'hatch': None})\n",
       "    Decor({'_colour': '#ffffff', 'width': 3, 'component': Component({'cadmium': 'inconnu'}), 'hatch': None})),\n",
       "    'cmap': <matplotlib.colors.ListedColormap at 0x7f1ccfefa2b0>,\n",
       "    'values': ['vr', 'inconnu']}},\n",
       "  'BH003': {'lithology': {'legend': Legend(Decor({'_colour': '#ffcb23', 'width': 3, 'hatch': \"'..'\", 'component': Component({'lithology': 'sable'})})\n",
       "    Decor({'_colour': '#d5e6cc', 'width': 3, 'hatch': \"'---'\", 'component': Component({'lithology': 'argile'})})\n",
       "    Decor({'_colour': '#7ba1a8', 'width': 3, 'hatch': None, 'component': Component({'lithology': 'marne'})})\n",
       "    Decor({'_colour': '#000000', 'width': 3, 'hatch': None, 'component': Component({'lithology': 'charbon'})})\n",
       "    Decor({'_colour': '#fdaffe', 'width': 3, 'hatch': None, 'component': Component({'lithology': 'dolomie'})})),\n",
       "    'cmap': <matplotlib.colors.ListedColormap at 0x7f1ccfeeaac0>,\n",
       "    'values': ['sable', 'argile', 'marne', 'charbon', 'dolomie']},\n",
       "   'arsenic': {'legend': Legend(Decor({'_colour': '#00ff00', 'width': 3, 'component': Component({'arsenic': 'vr'}), 'hatch': None})\n",
       "    Decor({'_colour': '#ffa500', 'width': 3, 'component': Component({'arsenic': 'vs'}), 'hatch': None})\n",
       "    Decor({'_colour': '#ff0000', 'width': 3, 'component': Component({'arsenic': 'vi'}), 'hatch': None})),\n",
       "    'cmap': <matplotlib.colors.ListedColormap at 0x7f1ccfef4490>,\n",
       "    'values': ['vr', 'vs', 'vi']},\n",
       "   'cadmium': {'legend': Legend(Decor({'_colour': '#ff0000', 'width': 3, 'component': Component({'cadmium': 'vi'}), 'hatch': None})\n",
       "    Decor({'_colour': '#00ff00', 'width': 3, 'component': Component({'cadmium': 'vr'}), 'hatch': None})),\n",
       "    'cmap': <matplotlib.colors.ListedColormap at 0x7f1ccfefa340>,\n",
       "    'values': ['vi', 'vr']}},\n",
       "  'BH004': {'lithology': {'legend': Legend(Decor({'_colour': '#ffcb23', 'width': 3, 'hatch': \"'..'\", 'component': Component({'lithology': 'sable'})})\n",
       "    Decor({'_colour': '#d5e6cc', 'width': 3, 'hatch': \"'---'\", 'component': Component({'lithology': 'argile'})})\n",
       "    Decor({'_colour': '#7ba1a8', 'width': 3, 'hatch': None, 'component': Component({'lithology': 'marne'})})\n",
       "    Decor({'_colour': '#000000', 'width': 3, 'hatch': None, 'component': Component({'lithology': 'charbon'})})\n",
       "    Decor({'_colour': '#fdaffe', 'width': 3, 'hatch': None, 'component': Component({'lithology': 'dolomie'})})),\n",
       "    'cmap': <matplotlib.colors.ListedColormap at 0x7f1ccfedd940>,\n",
       "    'values': ['sable', 'argile', 'marne', 'charbon', 'dolomie']},\n",
       "   'arsenic': {'legend': Legend(Decor({'_colour': '#00ff00', 'width': 3, 'component': Component({'arsenic': 'vr'}), 'hatch': None})\n",
       "    Decor({'_colour': '#ff0000', 'width': 3, 'component': Component({'arsenic': 'vi'}), 'hatch': None})\n",
       "    Decor({'_colour': '#ffa500', 'width': 3, 'component': Component({'arsenic': 'vs'}), 'hatch': None})\n",
       "    Decor({'_colour': '#ffffff', 'width': 3, 'component': Component({'arsenic': 'inconnu'}), 'hatch': None})),\n",
       "    'cmap': <matplotlib.colors.ListedColormap at 0x7f1ccfef4850>,\n",
       "    'values': ['vr', 'vi', 'vs', 'inconnu']},\n",
       "   'cadmium': {'legend': Legend(Decor({'_colour': '#00ff00', 'width': 3, 'component': Component({'cadmium': 'vr'}), 'hatch': None})\n",
       "    Decor({'_colour': '#ffffff', 'width': 3, 'component': Component({'cadmium': 'inconnu'}), 'hatch': None})),\n",
       "    'cmap': <matplotlib.colors.ListedColormap at 0x7f1ccfefa040>,\n",
       "    'values': ['vr', 'inconnu']}},\n",
       "  'BH005': {'lithology': {'legend': Legend(Decor({'_colour': '#ffcb23', 'width': 3, 'hatch': \"'..'\", 'component': Component({'lithology': 'sable'})})\n",
       "    Decor({'_colour': '#d5e6cc', 'width': 3, 'hatch': \"'---'\", 'component': Component({'lithology': 'argile'})})\n",
       "    Decor({'_colour': '#7ba1a8', 'width': 3, 'hatch': None, 'component': Component({'lithology': 'marne'})})\n",
       "    Decor({'_colour': '#000000', 'width': 3, 'hatch': None, 'component': Component({'lithology': 'charbon'})})\n",
       "    Decor({'_colour': '#fdaffe', 'width': 3, 'hatch': None, 'component': Component({'lithology': 'dolomie'})})\n",
       "    Decor({'_colour': '#bbffdd', 'width': 3, 'hatch': \"'--'\", 'component': Component({'lithology': 'schiste'})})\n",
       "    Decor({'_colour': '#149eff', 'width': 3, 'hatch': \"'='\", 'component': Component({'lithology': 'calcaire'})})),\n",
       "    'cmap': <matplotlib.colors.ListedColormap at 0x7f1ccfeea760>,\n",
       "    'values': ['sable',\n",
       "     'argile',\n",
       "     'marne',\n",
       "     'charbon',\n",
       "     'dolomie',\n",
       "     'schiste',\n",
       "     'calcaire']},\n",
       "   'arsenic': {'legend': Legend(Decor({'_colour': '#ffffff', 'width': 3, 'component': Component({'arsenic': 'inconnu'}), 'hatch': None})\n",
       "    Decor({'_colour': '#00ff00', 'width': 3, 'component': Component({'arsenic': 'vr'}), 'hatch': None})\n",
       "    Decor({'_colour': '#ff0000', 'width': 3, 'component': Component({'arsenic': 'vi'}), 'hatch': None})\n",
       "    Decor({'_colour': '#ffa500', 'width': 3, 'component': Component({'arsenic': 'vs'}), 'hatch': None})),\n",
       "    'cmap': <matplotlib.colors.ListedColormap at 0x7f1ccfef4e80>,\n",
       "    'values': ['inconnu', 'vr', 'vi', 'vs']},\n",
       "   'cadmium': {'legend': Legend(Decor({'_colour': '#ffffff', 'width': 3, 'component': Component({'cadmium': 'inconnu'}), 'hatch': None})\n",
       "    Decor({'_colour': '#ffa500', 'width': 3, 'component': Component({'cadmium': 'vs'}), 'hatch': None})\n",
       "    Decor({'_colour': '#00ff00', 'width': 3, 'component': Component({'cadmium': 'vr'}), 'hatch': None})),\n",
       "    'cmap': <matplotlib.colors.ListedColormap at 0x7f1ccfefa190>,\n",
       "    'values': ['inconnu', 'vs', 'vr']}},\n",
       "  'BH006': {'lithology': {'legend': Legend(Decor({'_colour': '#ffcb23', 'width': 3, 'hatch': \"'..'\", 'component': Component({'lithology': 'sable'})})\n",
       "    Decor({'_colour': '#d5e6cc', 'width': 3, 'hatch': \"'---'\", 'component': Component({'lithology': 'argile'})})\n",
       "    Decor({'_colour': '#7ba1a8', 'width': 3, 'hatch': None, 'component': Component({'lithology': 'marne'})})\n",
       "    Decor({'_colour': '#000000', 'width': 3, 'hatch': None, 'component': Component({'lithology': 'charbon'})})\n",
       "    Decor({'_colour': '#fdaffe', 'width': 3, 'hatch': None, 'component': Component({'lithology': 'dolomie'})})),\n",
       "    'cmap': <matplotlib.colors.ListedColormap at 0x7f1ccfeef280>,\n",
       "    'values': ['sable', 'argile', 'marne', 'charbon', 'dolomie']},\n",
       "   'arsenic': {'legend': Legend(Decor({'_colour': '#00ff00', 'width': 3, 'component': Component({'arsenic': 'vr'}), 'hatch': None})\n",
       "    Decor({'_colour': '#ff0000', 'width': 3, 'component': Component({'arsenic': 'vi'}), 'hatch': None})),\n",
       "    'cmap': <matplotlib.colors.ListedColormap at 0x7f1ccfeea2e0>,\n",
       "    'values': ['vr', 'vi']},\n",
       "   'cadmium': {'legend': Legend(Decor({'_colour': '#00ff00', 'width': 3, 'component': Component({'cadmium': 'vr'}), 'hatch': None})\n",
       "    Decor({'_colour': '#ff0000', 'width': 3, 'component': Component({'cadmium': 'vi'}), 'hatch': None})\n",
       "    Decor({'_colour': '#ffa500', 'width': 3, 'component': Component({'cadmium': 'vs'}), 'hatch': None})),\n",
       "    'cmap': <matplotlib.colors.ListedColormap at 0x7f1ccfefa490>,\n",
       "    'values': ['vr', 'vi', 'vs']}},\n",
       "  'BH007': {'lithology': {'legend': Legend(Decor({'_colour': '#ffcb23', 'width': 3, 'hatch': \"'..'\", 'component': Component({'lithology': 'sable'})})\n",
       "    Decor({'_colour': '#d5e6cc', 'width': 3, 'hatch': \"'---'\", 'component': Component({'lithology': 'argile'})})\n",
       "    Decor({'_colour': '#7ba1a8', 'width': 3, 'hatch': None, 'component': Component({'lithology': 'marne'})})\n",
       "    Decor({'_colour': '#000000', 'width': 3, 'hatch': None, 'component': Component({'lithology': 'charbon'})})\n",
       "    Decor({'_colour': '#fdaffe', 'width': 3, 'hatch': None, 'component': Component({'lithology': 'dolomie'})})\n",
       "    Decor({'_colour': '#149eff', 'width': 3, 'hatch': \"'='\", 'component': Component({'lithology': 'calcaire'})})),\n",
       "    'cmap': <matplotlib.colors.ListedColormap at 0x7f1ccfef1bb0>,\n",
       "    'values': ['sable', 'argile', 'marne', 'charbon', 'dolomie', 'calcaire']},\n",
       "   'arsenic': {'legend': Legend(Decor({'_colour': '#ff0000', 'width': 3, 'component': Component({'arsenic': 'vi'}), 'hatch': None})\n",
       "    Decor({'_colour': '#ffffff', 'width': 3, 'component': Component({'arsenic': 'inconnu'}), 'hatch': None})\n",
       "    Decor({'_colour': '#ffa500', 'width': 3, 'component': Component({'arsenic': 'vs'}), 'hatch': None})\n",
       "    Decor({'_colour': '#00ff00', 'width': 3, 'component': Component({'arsenic': 'vr'}), 'hatch': None})),\n",
       "    'cmap': <matplotlib.colors.ListedColormap at 0x7f1ccfef1c10>,\n",
       "    'values': ['vi', 'inconnu', 'vs', 'vr']},\n",
       "   'cadmium': {'legend': Legend(Decor({'_colour': '#00ff00', 'width': 3, 'component': Component({'cadmium': 'vr'}), 'hatch': None})\n",
       "    Decor({'_colour': '#ffa500', 'width': 3, 'component': Component({'cadmium': 'vs'}), 'hatch': None})\n",
       "    Decor({'_colour': '#ffffff', 'width': 3, 'component': Component({'cadmium': 'inconnu'}), 'hatch': None})),\n",
       "    'cmap': <matplotlib.colors.ListedColormap at 0x7f1ccfefaaf0>,\n",
       "    'values': ['vr', 'vs', 'inconnu']}},\n",
       "  'BH008': {'lithology': {'legend': Legend(Decor({'_colour': '#ffcb23', 'width': 3, 'hatch': \"'..'\", 'component': Component({'lithology': 'sable'})})\n",
       "    Decor({'_colour': '#d5e6cc', 'width': 3, 'hatch': \"'---'\", 'component': Component({'lithology': 'argile'})})\n",
       "    Decor({'_colour': '#7ba1a8', 'width': 3, 'hatch': None, 'component': Component({'lithology': 'marne'})})\n",
       "    Decor({'_colour': '#000000', 'width': 3, 'hatch': None, 'component': Component({'lithology': 'charbon'})})\n",
       "    Decor({'_colour': '#fdaffe', 'width': 3, 'hatch': None, 'component': Component({'lithology': 'dolomie'})})),\n",
       "    'cmap': <matplotlib.colors.ListedColormap at 0x7f1ccfeef970>,\n",
       "    'values': ['sable', 'argile', 'marne', 'charbon', 'dolomie']},\n",
       "   'arsenic': {'legend': Legend(Decor({'_colour': '#ffa500', 'width': 3, 'component': Component({'arsenic': 'vs'}), 'hatch': None})\n",
       "    Decor({'_colour': '#ffffff', 'width': 3, 'component': Component({'arsenic': 'inconnu'}), 'hatch': None})\n",
       "    Decor({'_colour': '#00ff00', 'width': 3, 'component': Component({'arsenic': 'vr'}), 'hatch': None})\n",
       "    Decor({'_colour': '#ff0000', 'width': 3, 'component': Component({'arsenic': 'vi'}), 'hatch': None})),\n",
       "    'cmap': <matplotlib.colors.ListedColormap at 0x7f1ccfef12b0>,\n",
       "    'values': ['vs', 'inconnu', 'vr', 'vi']},\n",
       "   'cadmium': {'legend': Legend(Decor({'_colour': '#00ff00', 'width': 3, 'component': Component({'cadmium': 'vr'}), 'hatch': None})\n",
       "    Decor({'_colour': '#ffffff', 'width': 3, 'component': Component({'cadmium': 'inconnu'}), 'hatch': None})\n",
       "    Decor({'_colour': '#ffa500', 'width': 3, 'component': Component({'cadmium': 'vs'}), 'hatch': None})\n",
       "    Decor({'_colour': '#ff0000', 'width': 3, 'component': Component({'cadmium': 'vi'}), 'hatch': None})),\n",
       "    'cmap': <matplotlib.colors.ListedColormap at 0x7f1ccfefaee0>,\n",
       "    'values': ['vr', 'inconnu', 'vs', 'vi']}},\n",
       "  'BH009': {'lithology': {'legend': Legend(Decor({'_colour': '#ffcb23', 'width': 3, 'hatch': \"'..'\", 'component': Component({'lithology': 'sable'})})\n",
       "    Decor({'_colour': '#d5e6cc', 'width': 3, 'hatch': \"'---'\", 'component': Component({'lithology': 'argile'})})\n",
       "    Decor({'_colour': '#7ba1a8', 'width': 3, 'hatch': None, 'component': Component({'lithology': 'marne'})})\n",
       "    Decor({'_colour': '#000000', 'width': 3, 'hatch': None, 'component': Component({'lithology': 'charbon'})})\n",
       "    Decor({'_colour': '#fdaffe', 'width': 3, 'hatch': None, 'component': Component({'lithology': 'dolomie'})})),\n",
       "    'cmap': <matplotlib.colors.ListedColormap at 0x7f1ccfef1f40>,\n",
       "    'values': ['sable', 'argile', 'marne', 'charbon', 'dolomie']},\n",
       "   'arsenic': {'legend': Legend(Decor({'_colour': '#ff0000', 'width': 3, 'component': Component({'arsenic': 'vi'}), 'hatch': None})\n",
       "    Decor({'_colour': '#ffa500', 'width': 3, 'component': Component({'arsenic': 'vs'}), 'hatch': None})\n",
       "    Decor({'_colour': '#00ff00', 'width': 3, 'component': Component({'arsenic': 'vr'}), 'hatch': None})),\n",
       "    'cmap': <matplotlib.colors.ListedColormap at 0x7f1ccfef1cd0>,\n",
       "    'values': ['vi', 'vs', 'vr']},\n",
       "   'cadmium': {'legend': Legend(Decor({'_colour': '#ffa500', 'width': 3, 'component': Component({'cadmium': 'vs'}), 'hatch': None})\n",
       "    Decor({'_colour': '#ff0000', 'width': 3, 'component': Component({'cadmium': 'vi'}), 'hatch': None})\n",
       "    Decor({'_colour': '#ffffff', 'width': 3, 'component': Component({'cadmium': 'inconnu'}), 'hatch': None})),\n",
       "    'cmap': <matplotlib.colors.ListedColormap at 0x7f1ccff03100>,\n",
       "    'values': ['vs', 'vi', 'inconnu']}},\n",
       "  'BH10': {'lithology': {'legend': Legend(Decor({'_colour': '#ffcb23', 'width': 3, 'hatch': \"'..'\", 'component': Component({'lithology': 'sable'})})\n",
       "    Decor({'_colour': '#d5e6cc', 'width': 3, 'hatch': \"'---'\", 'component': Component({'lithology': 'argile'})})\n",
       "    Decor({'_colour': '#7ba1a8', 'width': 3, 'hatch': None, 'component': Component({'lithology': 'marne'})})),\n",
       "    'cmap': <matplotlib.colors.ListedColormap at 0x7f1ccffa6f70>,\n",
       "    'values': ['sable', 'argile', 'marne']},\n",
       "   'arsenic': {'legend': Legend(Decor({'_colour': '#ffffff', 'width': 3, 'component': Component({'arsenic': 'inconnu'}), 'hatch': None})\n",
       "    Decor({'_colour': '#ff0000', 'width': 3, 'component': Component({'arsenic': 'vi'}), 'hatch': None})),\n",
       "    'cmap': <matplotlib.colors.ListedColormap at 0x7f1ccfefa100>,\n",
       "    'values': ['inconnu', 'vi']},\n",
       "   'cadmium': {'legend': Legend(Decor({'_colour': '#ffffff', 'width': 3, 'component': Component({'cadmium': 'inconnu'}), 'hatch': None})\n",
       "    Decor({'_colour': '#00ff00', 'width': 3, 'component': Component({'cadmium': 'vr'}), 'hatch': None})\n",
       "    Decor({'_colour': '#ff0000', 'width': 3, 'component': Component({'cadmium': 'vi'}), 'hatch': None})),\n",
       "    'cmap': <matplotlib.colors.ListedColormap at 0x7f1ccff03190>,\n",
       "    'values': ['inconnu', 'vr', 'vi']}}})"
      ]
     },
     "execution_count": 35,
     "metadata": {},
     "output_type": "execute_result"
    }
   ],
   "source": [
    "p.update_legend_cmap(update_all_attrib=True)"
   ]
  },
  {
   "cell_type": "code",
   "execution_count": 36,
   "metadata": {},
   "outputs": [
    {
     "data": {
      "image/png": "[encoded data removed]",
      "text/html": [
       "<div style=\"vertical-align: middle;\"><strong>from_list</strong> </div><div class=\"cmap\"><img alt=\"from_list colormap\" title=\"from_list\" style=\"border: 1px solid #555;\" src=\"data:image/png;base64,iVBORw0KGgoAAAANSUhEUgAAAgAAAABACAYAAABsv8+/AAAAGHRFWHRUaXRsZQBmcm9tX2xpc3QgY29sb3JtYXBDL89FAAAAHnRFWHREZXNjcmlwdGlvbgBmcm9tX2xpc3QgY29sb3JtYXABtCnOAAAAMHRFWHRBdXRob3IATWF0cGxvdGxpYiB2My40LjIsIGh0dHBzOi8vbWF0cGxvdGxpYi5vcmes1mPdAAAAMnRFWHRTb2Z0d2FyZQBNYXRwbG90bGliIHYzLjQuMiwgaHR0cHM6Ly9tYXRwbG90bGliLm9yZ4Jw/PoAAAFjSURBVHic7darjUJRAABRoA0c2xCSVVRDHTiSVRRAQgP4VSRUwqcDJPeROaeCkTN/Xn6eM976X/6NTpi8w+k6OmHydtvN6ITJux8foxO+wnl9G50wab/71eiEr7AYHQAAfJ4BAIAgAwAAQQYAAIIMAAAEGQAACDIAABBkAAAgyAAAQJABAIAgAwAAQQYAAIIMAAAEGQAACDIAABBkAAAgyAAAQJABAIAgAwAAQQYAAIIMAAAEGQAACDIAABBkAAAgyAAAQJABAIAgAwAAQQYAAIIMAAAEGQAACDIAABBkAAAgyAAAQJABAIAgAwAAQQYAAIIMAAAEGQAACDIAABBkAAAgyAAAQJABAIAgAwAAQQYAAIIMAAAEGQAACDIAABBkAAAgyAAAQJABAIAgAwAAQQYAAIIMAAAEGQAACDIAABBkAAAgyAAAQJABAIAgAwAAQQYAAIIMAAAEGQAACDIAABD0AiMCDjC6gHT1AAAAAElFTkSuQmCC\"></div><div style=\"vertical-align: middle; max-width: 514px; display: flex; justify-content: space-between;\"><div style=\"float: left;\"><div title=\"#ffcb23ff\" style=\"display: inline-block; width: 1em; height: 1em; margin: 0; vertical-align: middle; border: 1px solid #555; background-color: #ffcb23ff;\"></div> under</div><div style=\"margin: 0 auto; display: inline-block;\">bad <div title=\"#00000000\" style=\"display: inline-block; width: 1em; height: 1em; margin: 0; vertical-align: middle; border: 1px solid #555; background-color: #00000000;\"></div></div><div style=\"float: right;\">over <div title=\"#149effff\" style=\"display: inline-block; width: 1em; height: 1em; margin: 0; vertical-align: middle; border: 1px solid #555; background-color: #149effff;\"></div></div>"
      ],
      "text/plain": [
       "<matplotlib.colors.ListedColormap at 0x7f1cd0268400>"
      ]
     },
     "execution_count": 36,
     "metadata": {},
     "output_type": "execute_result"
    }
   ],
   "source": [
    "p.legend_dict[attributes[0]]['cmap']"
   ]
  },
  {
   "cell_type": "code",
   "execution_count": 37,
   "metadata": {},
   "outputs": [
    {
     "data": {
      "text/plain": [
       "['vr', 'inconnu', 'vi', 'vs']"
      ]
     },
     "execution_count": 37,
     "metadata": {},
     "output_type": "execute_result"
    }
   ],
   "source": [
    "p.legend_dict[attributes[2]]['values']"
   ]
  },
  {
   "cell_type": "raw",
   "metadata": {},
   "source": [
    "from striplog.utils import rgb_to_hex"
   ]
  },
  {
   "cell_type": "raw",
   "metadata": {},
   "source": [
    "rgb_to_hex(p.legend_dict[attributes[0]]['cmap'].colors[0])"
   ]
  },
  {
   "cell_type": "markdown",
   "metadata": {},
   "source": [
    "## Display one object (attribute = 'lithology')"
   ]
  },
  {
   "cell_type": "code",
   "execution_count": 38,
   "metadata": {
    "scrolled": true
   },
   "outputs": [
    {
     "data": {
      "text/plain": [
       "{0: [Component({'lithology': 'sable'}),\n",
       "  Component({'arsenic': 'vi'}),\n",
       "  Component({'cadmium': 'vr'})],\n",
       " 1: [Component({'lithology': 'argile'}),\n",
       "  Component({'arsenic': 'inconnu'}),\n",
       "  Component({'cadmium': 'vs'})],\n",
       " 2: [Component({'lithology': 'marne'}),\n",
       "  Component({'arsenic': 'vs'}),\n",
       "  Component({'cadmium': 'vr'})],\n",
       " 3: [Component({'lithology': 'charbon'}),\n",
       "  Component({'arsenic': 'vr'}),\n",
       "  Component({'cadmium': 'vr'})],\n",
       " 4: [Component({'lithology': 'dolomie'}),\n",
       "  Component({'arsenic': 'inconnu'}),\n",
       "  Component({'cadmium': 'inconnu'})],\n",
       " 5: [Component({'lithology': 'calcaire'}),\n",
       "  Component({'arsenic': 'vs'}),\n",
       "  Component({'cadmium': 'vr'})]}"
      ]
     },
     "execution_count": 38,
     "metadata": {},
     "output_type": "execute_result"
    }
   ],
   "source": [
    "bh = 6\n",
    "p.boreholes_3d[bh].components"
   ]
  },
  {
   "cell_type": "code",
   "execution_count": 39,
   "metadata": {},
   "outputs": [
    {
     "name": "stderr",
     "output_type": "stream",
     "text": [
      "/home/yanathan/Projects/GSDMA/utils/visual.py:425: MatplotlibDeprecationWarning: hatch must consist of a string of \"*+-./OX\\ox|\" or None, but found the following invalid values \"'\". Passing invalid values is deprecated since 3.4 and will become an error two minor releases later.\n",
      "  rect = mpl.patches.Rectangle(origin, w, thick, fc=fc, lw=lw, hatch=d.hatch,\n",
      "/home/yanathan/Projects/GSDMA/utils/visual.py:425: MatplotlibDeprecationWarning: hatch must consist of a string of \"*+-./OX\\ox|\" or None, but found the following invalid values \"'=\". Passing invalid values is deprecated since 3.4 and will become an error two minor releases later.\n",
      "  rect = mpl.patches.Rectangle(origin, w, thick, fc=fc, lw=lw, hatch=d.hatch,\n",
      "/home/yanathan/.local/share/virtualenvs/GSDMA-DRfwm83x/lib/python3.8/site-packages/striplog/legend.py:311: MatplotlibDeprecationWarning: hatch must consist of a string of \"*+-./OX\\ox|\" or None, but found the following invalid values \"'=\". Passing invalid values is deprecated since 3.4 and will become an error two minor releases later.\n",
      "  rect1 = patches.Rectangle((0, 0),\n",
      "/home/yanathan/.local/share/virtualenvs/GSDMA-DRfwm83x/lib/python3.8/site-packages/striplog/legend.py:311: MatplotlibDeprecationWarning: hatch must consist of a string of \"*+-./OX\\ox|\" or None, but found the following invalid values \"'\". Passing invalid values is deprecated since 3.4 and will become an error two minor releases later.\n",
      "  rect1 = patches.Rectangle((0, 0),\n"
     ]
    },
    {
     "data": {
      "image/png": "[encoded data removed]",
      "text/plain": [
       "<Figure size 432x432 with 8 Axes>"
      ]
     },
     "metadata": {
      "needs_background": "light"
     },
     "output_type": "display_data"
    }
   ],
   "source": [
    "p.boreholes_3d[bh].log_plot()"
   ]
  },
  {
   "cell_type": "code",
   "execution_count": 40,
   "metadata": {},
   "outputs": [],
   "source": [
    "sargs = dict(title='Test_legend', title_font_size=30, label_font_size=12, n_labels=0,\n",
    "             fmt=\"%.2f\", font_family=\"arial\", color='k',interactive=True, \n",
    "             vertical=True, italic=True, shadow=False,)"
   ]
  },
  {
   "cell_type": "code",
   "execution_count": 41,
   "metadata": {
    "scrolled": true
   },
   "outputs": [
    {
     "data": {
      "application/vnd.jupyter.widget-view+json": {
       "model_id": "528b1a839a1249108cc391ac9fe1c978",
       "version_major": 2,
       "version_minor": 0
      },
      "text/plain": [
       "ViewInteractiveWidget(height=768, layout=Layout(height='auto', width='100%'), width=1024)"
      ]
     },
     "metadata": {},
     "output_type": "display_data"
    }
   ],
   "source": [
    "p.boreholes_3d[bh].plot3d(custom_legend=False, scalar_bar_args=sargs)"
   ]
  },
  {
   "cell_type": "markdown",
   "metadata": {},
   "source": [
    "## Plot with another attribute"
   ]
  },
  {
   "cell_type": "code",
   "execution_count": 42,
   "metadata": {},
   "outputs": [
    {
     "name": "stderr",
     "output_type": "stream",
     "text": [
      "/home/yanathan/Projects/GSDMA/utils/visual.py:425: MatplotlibDeprecationWarning: hatch must consist of a string of \"*+-./OX\\ox|\" or None, but found the following invalid values \"'\". Passing invalid values is deprecated since 3.4 and will become an error two minor releases later.\n",
      "  rect = mpl.patches.Rectangle(origin, w, thick, fc=fc, lw=lw, hatch=d.hatch,\n",
      "/home/yanathan/Projects/GSDMA/utils/visual.py:425: MatplotlibDeprecationWarning: hatch must consist of a string of \"*+-./OX\\ox|\" or None, but found the following invalid values \"'=\". Passing invalid values is deprecated since 3.4 and will become an error two minor releases later.\n",
      "  rect = mpl.patches.Rectangle(origin, w, thick, fc=fc, lw=lw, hatch=d.hatch,\n",
      "/home/yanathan/.local/share/virtualenvs/GSDMA-DRfwm83x/lib/python3.8/site-packages/striplog/legend.py:311: MatplotlibDeprecationWarning: hatch must consist of a string of \"*+-./OX\\ox|\" or None, but found the following invalid values \"'=\". Passing invalid values is deprecated since 3.4 and will become an error two minor releases later.\n",
      "  rect1 = patches.Rectangle((0, 0),\n",
      "/home/yanathan/.local/share/virtualenvs/GSDMA-DRfwm83x/lib/python3.8/site-packages/striplog/legend.py:311: MatplotlibDeprecationWarning: hatch must consist of a string of \"*+-./OX\\ox|\" or None, but found the following invalid values \"'\". Passing invalid values is deprecated since 3.4 and will become an error two minor releases later.\n",
      "  rect1 = patches.Rectangle((0, 0),\n"
     ]
    },
    {
     "data": {
      "image/png": "[encoded data removed]",
      "text/plain": [
       "<Figure size 432x432 with 8 Axes>"
      ]
     },
     "metadata": {
      "needs_background": "light"
     },
     "output_type": "display_data"
    }
   ],
   "source": [
    "at = 0\n",
    "p.boreholes_3d[bh].log_plot(repr_attribute=attributes[at])"
   ]
  },
  {
   "cell_type": "code",
   "execution_count": 43,
   "metadata": {
    "scrolled": false
   },
   "outputs": [
    {
     "data": {
      "application/vnd.jupyter.widget-view+json": {
       "model_id": "8568d44555894cae878aa3476235aca8",
       "version_major": 2,
       "version_minor": 0
      },
      "text/plain": [
       "ViewInteractiveWidget(height=768, layout=Layout(height='auto', width='100%'), width=1024)"
      ]
     },
     "metadata": {},
     "output_type": "display_data"
    }
   ],
   "source": [
    "p.boreholes_3d[bh].plot3d(repr_attribute=attributes[at])"
   ]
  },
  {
   "cell_type": "code",
   "execution_count": 44,
   "metadata": {},
   "outputs": [
    {
     "name": "stdout",
     "output_type": "stream",
     "text": [
      "2021-08-07 23:16:55,459 INFO sqlalchemy.engine.Engine SELECT \"Intervals\".id AS \"Intervals_id\", \"Intervals\".borehole AS \"Intervals_borehole\", \"Intervals\".interval_number AS \"Intervals_interval_number\", \"Intervals\".description AS \"Intervals_description\", \"Intervals\".top_id AS \"Intervals_top_id\", \"Intervals\".base_id AS \"Intervals_base_id\", \"Intervals\".data_id AS \"Intervals_data_id\" \n",
      "FROM \"Intervals\" \n",
      "WHERE ? = \"Intervals\".borehole\n",
      "2021-08-07 23:16:55,461 INFO sqlalchemy.engine.Engine [cached since 2.763s ago] ('BH001',)\n"
     ]
    },
    {
     "data": {
      "text/plain": [
       "{0: '{\"lithology\": \"sable\"}, {\"arsenic\": \"vs\"}, {\"cadmium\": \"vr\"}', 1: '{\"lithology\": \"argile\"}, {\"arsenic\": \"vs\"}, {\"cadmium\": \"vr\"}', 2: '{\"lithology\": \"marne\"}, {\"arsenic\": \"inconnu\"}, {\"cadmium\": \"vr\"}', 3: '{\"lithology\": \"charbon\"}, {\"arsenic\": \"vi\"}, {\"cadmium\": \"vr\"}'}"
      ]
     },
     "execution_count": 44,
     "metadata": {},
     "output_type": "execute_result"
    }
   ],
   "source": [
    "p.boreholes_orm[0].intervals_values"
   ]
  },
  {
   "cell_type": "code",
   "execution_count": 45,
   "metadata": {},
   "outputs": [
    {
     "data": {
      "text/html": [
       "<table><tr><td style=\"width:2em; background-color:#DDDDDD\" rowspan=\"6\"></td><td><strong>top</strong></td><td>101.0</td></tr><tr><td><strong>primary</strong></td><td><table><tr><td><strong>lithology</strong></td><td>sable</td></tr></table></td></tr><tr><td><strong>summary</strong></td><td>4.00 m of sable with vi with vr</td></tr><tr><td><strong>description</strong></td><td>{\"lithology\": \"sable\"}, {\"arsenic\": \"vi\"}, {\"cadmium\": \"vr\"}</td></tr><tr><td><strong>data</strong></td><td><table></table></td></tr><tr><td><strong>base</strong></td><td>97.0</td></tr></table>"
      ],
      "text/plain": [
       "Interval({'top': Position({'middle': 101.0, 'x': 152794.0, 'y': 121111.0, 'units': 'm'}), 'base': Position({'middle': 97.0, 'x': 152794.0, 'y': 121111.0, 'units': 'm'}), 'description': '{\"lithology\": \"sable\"}, {\"arsenic\": \"vi\"}, {\"cadmium\": \"vr\"}', 'data': {}, 'components': [Component({'lithology': 'sable'}), Component({'arsenic': 'vi'}), Component({'cadmium': 'vr'})]})"
      ]
     },
     "execution_count": 45,
     "metadata": {},
     "output_type": "execute_result"
    }
   ],
   "source": [
    "p.boreholes_3d[bh].intervals[0]"
   ]
  },
  {
   "cell_type": "markdown",
   "metadata": {},
   "source": [
    "### Display project boreholes"
   ]
  },
  {
   "cell_type": "code",
   "execution_count": 46,
   "metadata": {},
   "outputs": [
    {
     "data": {
      "text/html": [
       "<table><tr><th>Header</th><th>Data Arrays</th></tr><tr><td>\n",
       "<table>\n",
       "<tr><th>PolyData</th><th>Information</th></tr>\n",
       "<tr><td>N Cells</td><td>312</td></tr>\n",
       "<tr><td>N Points</td><td>1200</td></tr>\n",
       "<tr><td>X Bounds</td><td>1.528e+05, 1.528e+05</td></tr>\n",
       "<tr><td>Y Bounds</td><td>1.211e+05, 1.211e+05</td></tr>\n",
       "<tr><td>Z Bounds</td><td>5.600e+01, 1.010e+02</td></tr>\n",
       "<tr><td>N Arrays</td><td>6</td></tr>\n",
       "</table>\n",
       "\n",
       "</td><td>\n",
       "<table>\n",
       "<tr><th>Name</th><th>Field</th><th>Type</th><th>N Comp</th><th>Min</th><th>Max</th></tr>\n",
       "<tr><td>TubeNormals</td><td>Points</td><td>float32</td><td>3</td><td>-1.000e+00</td><td>1.000e+00</td></tr>\n",
       "<tr><td>Line Index</td><td>Cells</td><td>int64</td><td>1</td><td>0.000e+00</td><td>5.000e+00</td></tr>\n",
       "<tr><td><b>lithology</b></td><td>Cells</td><td>int64</td><td>1</td><td>0.000e+00</td><td>5.000e+00</td></tr>\n",
       "<tr><td>arsenic</td><td>Cells</td><td>int64</td><td>1</td><td>0.000e+00</td><td>3.000e+00</td></tr>\n",
       "<tr><td>cadmium</td><td>Cells</td><td>int64</td><td>1</td><td>0.000e+00</td><td>2.000e+00</td></tr>\n",
       "<tr><td>Test_legend</td><td>Cells</td><td>int64</td><td>1</td><td>0.000e+00</td><td>5.000e+00</td></tr>\n",
       "</table>\n",
       "\n",
       "</td></tr> </table>"
      ],
      "text/plain": [
       "PolyData (0x7f1ccffea220)\n",
       "  N Cells:\t312\n",
       "  N Points:\t1200\n",
       "  X Bounds:\t1.528e+05, 1.528e+05\n",
       "  Y Bounds:\t1.211e+05, 1.211e+05\n",
       "  Z Bounds:\t5.600e+01, 1.010e+02\n",
       "  N Arrays:\t6"
      ]
     },
     "execution_count": 46,
     "metadata": {},
     "output_type": "execute_result"
    }
   ],
   "source": [
    "bh3d_vtk = p.boreholes_3d[bh]._vtk\n",
    "bh3d_vtk"
   ]
  },
  {
   "cell_type": "code",
   "execution_count": 47,
   "metadata": {
    "scrolled": false
   },
   "outputs": [
    {
     "name": "stderr",
     "output_type": "stream",
     "text": [
      "\u001b[0m\u001b[33m2021-08-07 23:16:55.514 (   4.284s) [        2FF43740]vtkDataSetAttributes.cx:1296  WARN| vtkPointData (0x389ef90): Can not set attribute Scalars. Only vtkDataArray subclasses can be set as active attributes.\u001b[0m\n"
     ]
    }
   ],
   "source": [
    "at = 1\n",
    "p.plot3d(repr_attribute=attributes[at],  bg_color=[\"royalblue\", \"aliceblue\"], \n",
    "                      window_size=(800, 500))"
   ]
  },
  {
   "cell_type": "markdown",
   "metadata": {},
   "source": [
    "### Boreholes in 3D using X3D for interaction within the notebook"
   ]
  },
  {
   "cell_type": "raw",
   "metadata": {
    "scrolled": false
   },
   "source": [
    "p.plot3d(x3d=True)"
   ]
  },
  {
   "cell_type": "code",
   "execution_count": 48,
   "metadata": {
    "scrolled": true
   },
   "outputs": [
    {
     "data": {
      "text/plain": [
       "omf.data.Legend"
      ]
     },
     "execution_count": 48,
     "metadata": {},
     "output_type": "execute_result"
    }
   ],
   "source": [
    "type(p.boreholes_3d[0].omf_legend)"
   ]
  },
  {
   "cell_type": "code",
   "execution_count": null,
   "metadata": {},
   "outputs": [],
   "source": []
  }
 ],
 "metadata": {
  "kernelspec": {
   "display_name": "Python 3 (ipykernel)",
   "language": "python",
   "name": "python3"
  },
  "language_info": {
   "codemirror_mode": {
    "name": "ipython",
    "version": 3
   },
   "file_extension": ".py",
   "mimetype": "text/x-python",
   "name": "python",
   "nbconvert_exporter": "python",
   "pygments_lexer": "ipython3",
   "version": "3.8.10"
  }
 },
 "nbformat": 4,
 "nbformat_minor": 4
}
