{
 "cells": [
  {
   "cell_type": "markdown",
   "metadata": {},
   "source": [
    "# Example of using the Borehole3D class"
   ]
  },
  {
   "cell_type": "markdown",
   "metadata": {},
   "source": [
    "## Imports"
   ]
  },
  {
   "cell_type": "code",
   "execution_count": 1,
   "metadata": {},
   "outputs": [],
   "source": [
    "from striplog import Component, Decor, Legend, Lexicon, Striplog\n",
    "from core.omf import Borehole3D, striplog_legend_to_omf_legend \n",
    "from utils.lexicon.lexicon_memoris import lexicon_memoris, lithology_memoris, \\\n",
    "contamination_benzene_memoris, contamination_toluene_memoris\n",
    "from utils.utils import boreholes_from_files\n",
    "from utils.io import gdf_viewer\n",
    "from core.core import Project\n",
    "from core.orm import BoreholeOrm, PositionOrm, Base \n",
    "import random\n",
    "from os import remove\n",
    "import pandas as pd\n",
    "import numpy as np\n",
    "from sqlalchemy import create_engine\n",
    "from sqlalchemy.orm import sessionmaker\n",
    "from definitions import ROOT_DIR"
   ]
  },
  {
   "cell_type": "markdown",
   "metadata": {},
   "source": [
    "## Reading of CSV files in a dir"
   ]
  },
  {
   "cell_type": "code",
   "execution_count": 2,
   "metadata": {},
   "outputs": [],
   "source": [
    "#df = pd.read_csv('test_data_boreholes.csv', sep=',') # use english lexicon\n",
    "df = pd.read_csv('test_litho_fr.csv', sep=',') # use french lexicon"
   ]
  },
  {
   "cell_type": "markdown",
   "metadata": {},
   "source": [
    "## Data Checking"
   ]
  },
  {
   "cell_type": "raw",
   "metadata": {},
   "source": [
    "df.drop('Z', axis='columns', inplace=True)\n",
    "df.rename({'new_Z':'Z'}, axis='columns', inplace=True)"
   ]
  },
  {
   "cell_type": "raw",
   "metadata": {},
   "source": [
    "df.loc[df.query('Colour==\"tan\"').index, 'Colour'] = 'green' # use simple colour"
   ]
  },
  {
   "cell_type": "code",
   "execution_count": 3,
   "metadata": {},
   "outputs": [],
   "source": [
    "pol = ['Benzene', 'Toluene', 'As', 'Ni', 'Cl', 'Hg', 'Pb', 'Zn']\n",
    "pol_lev = ['VR','VS','VI']\n",
    "#df[['Pollutant', 'Concentration']] = ''\n",
    "df.drop(columns=['Pollutant', 'Concentration'], inplace=True)\n",
    "df[[pol[0], pol[1]]] = ''\n",
    "df[pol[0]] = df[pol[0]].apply(lambda x: random.sample(pol_lev, 1)[0])\n",
    "df[pol[1]] = df[pol[1]].apply(lambda x: random.sample(pol_lev, 1)[0])\n",
    "#df['Concentration'] = df['Concentration'].apply(lambda x: np.random.randint(0,100))\n",
    "df['Unit'] = 'mg/l'"
   ]
  },
  {
   "cell_type": "code",
   "execution_count": 4,
   "metadata": {},
   "outputs": [],
   "source": [
    "df['Lithology'] = df['Lithology'].replace({'Grès':'Marne', 'Calcaire':'Dolomie'})"
   ]
  },
  {
   "cell_type": "code",
   "execution_count": 5,
   "metadata": {},
   "outputs": [
    {
     "data": {
      "text/html": [
       "<div>\n",
       "<style scoped>\n",
       "    .dataframe tbody tr th:only-of-type {\n",
       "        vertical-align: middle;\n",
       "    }\n",
       "\n",
       "    .dataframe tbody tr th {\n",
       "        vertical-align: top;\n",
       "    }\n",
       "\n",
       "    .dataframe thead th {\n",
       "        text-align: right;\n",
       "    }\n",
       "</style>\n",
       "<table border=\"1\" class=\"dataframe\">\n",
       "  <thead>\n",
       "    <tr style=\"text-align: right;\">\n",
       "      <th></th>\n",
       "      <th>ID</th>\n",
       "      <th>X</th>\n",
       "      <th>Y</th>\n",
       "      <th>Z</th>\n",
       "      <th>Diameter</th>\n",
       "      <th>Length</th>\n",
       "      <th>Lithology</th>\n",
       "      <th>Colour</th>\n",
       "      <th>Thickness</th>\n",
       "      <th>Top_litho</th>\n",
       "      <th>Base_litho</th>\n",
       "      <th>Unit</th>\n",
       "      <th>Benzene</th>\n",
       "      <th>Toluene</th>\n",
       "    </tr>\n",
       "  </thead>\n",
       "  <tbody>\n",
       "    <tr>\n",
       "      <th>0</th>\n",
       "      <td>BH001</td>\n",
       "      <td>152600.0</td>\n",
       "      <td>121039.0</td>\n",
       "      <td>101.0</td>\n",
       "      <td>0.43</td>\n",
       "      <td>39</td>\n",
       "      <td>Sable</td>\n",
       "      <td>Jaune</td>\n",
       "      <td>4</td>\n",
       "      <td>0</td>\n",
       "      <td>4</td>\n",
       "      <td>mg/l</td>\n",
       "      <td>VS</td>\n",
       "      <td>VS</td>\n",
       "    </tr>\n",
       "    <tr>\n",
       "      <th>1</th>\n",
       "      <td>BH001</td>\n",
       "      <td>152600.0</td>\n",
       "      <td>121039.0</td>\n",
       "      <td>97.0</td>\n",
       "      <td>0.43</td>\n",
       "      <td>39</td>\n",
       "      <td>Argile</td>\n",
       "      <td>Vert</td>\n",
       "      <td>4</td>\n",
       "      <td>4</td>\n",
       "      <td>8</td>\n",
       "      <td>mg/l</td>\n",
       "      <td>VR</td>\n",
       "      <td>VR</td>\n",
       "    </tr>\n",
       "    <tr>\n",
       "      <th>2</th>\n",
       "      <td>BH001</td>\n",
       "      <td>152600.0</td>\n",
       "      <td>121039.0</td>\n",
       "      <td>93.0</td>\n",
       "      <td>0.43</td>\n",
       "      <td>39</td>\n",
       "      <td>Marne</td>\n",
       "      <td>Gris</td>\n",
       "      <td>12</td>\n",
       "      <td>8</td>\n",
       "      <td>20</td>\n",
       "      <td>mg/l</td>\n",
       "      <td>VI</td>\n",
       "      <td>VS</td>\n",
       "    </tr>\n",
       "    <tr>\n",
       "      <th>3</th>\n",
       "      <td>BH001</td>\n",
       "      <td>152600.0</td>\n",
       "      <td>121039.0</td>\n",
       "      <td>81.0</td>\n",
       "      <td>0.43</td>\n",
       "      <td>39</td>\n",
       "      <td>Charbon</td>\n",
       "      <td>Noir</td>\n",
       "      <td>8</td>\n",
       "      <td>20</td>\n",
       "      <td>28</td>\n",
       "      <td>mg/l</td>\n",
       "      <td>VS</td>\n",
       "      <td>VS</td>\n",
       "    </tr>\n",
       "    <tr>\n",
       "      <th>4</th>\n",
       "      <td>BH001</td>\n",
       "      <td>152600.0</td>\n",
       "      <td>121039.0</td>\n",
       "      <td>73.0</td>\n",
       "      <td>0.43</td>\n",
       "      <td>39</td>\n",
       "      <td>Dolomie</td>\n",
       "      <td>Bleu</td>\n",
       "      <td>11</td>\n",
       "      <td>28</td>\n",
       "      <td>39</td>\n",
       "      <td>mg/l</td>\n",
       "      <td>VS</td>\n",
       "      <td>VS</td>\n",
       "    </tr>\n",
       "    <tr>\n",
       "      <th>...</th>\n",
       "      <td>...</td>\n",
       "      <td>...</td>\n",
       "      <td>...</td>\n",
       "      <td>...</td>\n",
       "      <td>...</td>\n",
       "      <td>...</td>\n",
       "      <td>...</td>\n",
       "      <td>...</td>\n",
       "      <td>...</td>\n",
       "      <td>...</td>\n",
       "      <td>...</td>\n",
       "      <td>...</td>\n",
       "      <td>...</td>\n",
       "      <td>...</td>\n",
       "    </tr>\n",
       "    <tr>\n",
       "      <th>990</th>\n",
       "      <td>BH199</td>\n",
       "      <td>152455.0</td>\n",
       "      <td>121128.0</td>\n",
       "      <td>102.0</td>\n",
       "      <td>0.57</td>\n",
       "      <td>36</td>\n",
       "      <td>Sable</td>\n",
       "      <td>Jaune</td>\n",
       "      <td>5</td>\n",
       "      <td>0</td>\n",
       "      <td>5</td>\n",
       "      <td>mg/l</td>\n",
       "      <td>VR</td>\n",
       "      <td>VS</td>\n",
       "    </tr>\n",
       "    <tr>\n",
       "      <th>991</th>\n",
       "      <td>BH199</td>\n",
       "      <td>152455.0</td>\n",
       "      <td>121128.0</td>\n",
       "      <td>97.0</td>\n",
       "      <td>0.57</td>\n",
       "      <td>36</td>\n",
       "      <td>Argile</td>\n",
       "      <td>Vert</td>\n",
       "      <td>3</td>\n",
       "      <td>5</td>\n",
       "      <td>8</td>\n",
       "      <td>mg/l</td>\n",
       "      <td>VR</td>\n",
       "      <td>VS</td>\n",
       "    </tr>\n",
       "    <tr>\n",
       "      <th>992</th>\n",
       "      <td>BH199</td>\n",
       "      <td>152455.0</td>\n",
       "      <td>121128.0</td>\n",
       "      <td>94.0</td>\n",
       "      <td>0.57</td>\n",
       "      <td>36</td>\n",
       "      <td>Marne</td>\n",
       "      <td>Gris</td>\n",
       "      <td>11</td>\n",
       "      <td>8</td>\n",
       "      <td>19</td>\n",
       "      <td>mg/l</td>\n",
       "      <td>VS</td>\n",
       "      <td>VS</td>\n",
       "    </tr>\n",
       "    <tr>\n",
       "      <th>993</th>\n",
       "      <td>BH199</td>\n",
       "      <td>152455.0</td>\n",
       "      <td>121128.0</td>\n",
       "      <td>83.0</td>\n",
       "      <td>0.57</td>\n",
       "      <td>36</td>\n",
       "      <td>Charbon</td>\n",
       "      <td>Noir</td>\n",
       "      <td>8</td>\n",
       "      <td>19</td>\n",
       "      <td>27</td>\n",
       "      <td>mg/l</td>\n",
       "      <td>VS</td>\n",
       "      <td>VR</td>\n",
       "    </tr>\n",
       "    <tr>\n",
       "      <th>994</th>\n",
       "      <td>BH199</td>\n",
       "      <td>152455.0</td>\n",
       "      <td>121128.0</td>\n",
       "      <td>75.0</td>\n",
       "      <td>0.57</td>\n",
       "      <td>36</td>\n",
       "      <td>Dolomie</td>\n",
       "      <td>Bleu</td>\n",
       "      <td>9</td>\n",
       "      <td>27</td>\n",
       "      <td>36</td>\n",
       "      <td>mg/l</td>\n",
       "      <td>VS</td>\n",
       "      <td>VI</td>\n",
       "    </tr>\n",
       "  </tbody>\n",
       "</table>\n",
       "<p>995 rows × 14 columns</p>\n",
       "</div>"
      ],
      "text/plain": [
       "        ID         X         Y      Z  Diameter  Length Lithology Colour  \\\n",
       "0    BH001  152600.0  121039.0  101.0      0.43      39     Sable  Jaune   \n",
       "1    BH001  152600.0  121039.0   97.0      0.43      39    Argile   Vert   \n",
       "2    BH001  152600.0  121039.0   93.0      0.43      39     Marne   Gris   \n",
       "3    BH001  152600.0  121039.0   81.0      0.43      39   Charbon   Noir   \n",
       "4    BH001  152600.0  121039.0   73.0      0.43      39   Dolomie   Bleu   \n",
       "..     ...       ...       ...    ...       ...     ...       ...    ...   \n",
       "990  BH199  152455.0  121128.0  102.0      0.57      36     Sable  Jaune   \n",
       "991  BH199  152455.0  121128.0   97.0      0.57      36    Argile   Vert   \n",
       "992  BH199  152455.0  121128.0   94.0      0.57      36     Marne   Gris   \n",
       "993  BH199  152455.0  121128.0   83.0      0.57      36   Charbon   Noir   \n",
       "994  BH199  152455.0  121128.0   75.0      0.57      36   Dolomie   Bleu   \n",
       "\n",
       "     Thickness  Top_litho  Base_litho  Unit Benzene Toluene  \n",
       "0            4          0           4  mg/l      VS      VS  \n",
       "1            4          4           8  mg/l      VR      VR  \n",
       "2           12          8          20  mg/l      VI      VS  \n",
       "3            8         20          28  mg/l      VS      VS  \n",
       "4           11         28          39  mg/l      VS      VS  \n",
       "..         ...        ...         ...   ...     ...     ...  \n",
       "990          5          0           5  mg/l      VR      VS  \n",
       "991          3          5           8  mg/l      VR      VS  \n",
       "992         11          8          19  mg/l      VS      VS  \n",
       "993          8         19          27  mg/l      VS      VR  \n",
       "994          9         27          36  mg/l      VS      VI  \n",
       "\n",
       "[995 rows x 14 columns]"
      ]
     },
     "execution_count": 5,
     "metadata": {},
     "output_type": "execute_result"
    }
   ],
   "source": [
    "df"
   ]
  },
  {
   "cell_type": "code",
   "execution_count": 6,
   "metadata": {},
   "outputs": [],
   "source": [
    "df.loc[35.5, :] = ['BH007',152794.0, 121111.0, 60.0, 0.57, 45, 'Calcaire', 'Bleu', 4, 41, 45, 'VS', 'VR', 'mg/l']\n",
    "df.loc[25.5, :] = ['BH005',152473.0, 121460.0, 72.0, 0.61, 32, 'Schiste', 'gris', 3, 29, 32, 'VI', 'VR', 'mg/l']\n",
    "df.drop(index=4, inplace=True)\n",
    "df.drop(columns='Colour', inplace=True)\n",
    "df = df.sort_index().reset_index(drop=True)"
   ]
  },
  {
   "cell_type": "raw",
   "metadata": {},
   "source": [
    "df.loc[995, :] = ['BH199',152455.0, 121128.0, 68.0, 0.57, 36, 'Calcaire', 'Bleu', 9, 27, 36, 'Cl', 78, 'mg/l']"
   ]
  },
  {
   "cell_type": "raw",
   "metadata": {},
   "source": [
    "df.to_csv('test_litho_fr.csv', index=False)"
   ]
  },
  {
   "cell_type": "code",
   "execution_count": 7,
   "metadata": {},
   "outputs": [
    {
     "name": "stdout",
     "output_type": "stream",
     "text": [
      "Rows : 996, columns : 13\n"
     ]
    },
    {
     "data": {
      "application/vnd.jupyter.widget-view+json": {
       "model_id": "84cb86f6cecf479ab33da89dac481d57",
       "version_major": 2,
       "version_minor": 0
      },
      "text/plain": [
       "interactive(children=(IntSlider(value=10, description='rows', max=996, min=10, readout=False), IntSlider(value…"
      ]
     },
     "metadata": {},
     "output_type": "display_data"
    }
   ],
   "source": [
    "gdf_viewer(df)"
   ]
  },
  {
   "cell_type": "raw",
   "metadata": {},
   "source": [
    "df.query('X==152013.0 and Y==121905.0')"
   ]
  },
  {
   "cell_type": "markdown",
   "metadata": {},
   "source": [
    "## Create Boreholes from dataframes or files"
   ]
  },
  {
   "cell_type": "code",
   "execution_count": 8,
   "metadata": {},
   "outputs": [],
   "source": [
    "bhs_df=[df[0:50]] # list of dataframes"
   ]
  },
  {
   "cell_type": "code",
   "execution_count": 9,
   "metadata": {
    "scrolled": true
   },
   "outputs": [
    {
     "name": "stdout",
     "output_type": "stream",
     "text": [
      "\n",
      "Dataframe 0 processing...\n",
      "================================\n",
      "|__ID:'BH001'\n",
      "{'lithology': 'sable'}\n",
      "{'lithology': 'argile'}\n",
      "{'lithology': 'marne'}\n",
      "{'lithology': 'charbon'}\n",
      "Summary : [Striplog(4 Intervals, start=0.0, stop=28.0)]\n",
      "|__ID:'BH002'\n",
      "{'lithology': 'sable'}\n",
      "{'lithology': 'argile'}\n",
      "{'lithology': 'marne'}\n",
      "{'lithology': 'charbon'}\n",
      "{'lithology': 'dolomie'}\n",
      "Summary : [Striplog(5 Intervals, start=0.0, stop=37.0)]\n",
      "|__ID:'BH003'\n",
      "{'lithology': 'sable'}\n",
      "{'lithology': 'argile'}\n",
      "{'lithology': 'marne'}\n",
      "{'lithology': 'charbon'}\n",
      "{'lithology': 'dolomie'}\n",
      "Summary : [Striplog(5 Intervals, start=0.0, stop=18.0)]\n",
      "|__ID:'BH004'\n",
      "{'lithology': 'sable'}\n",
      "{'lithology': 'argile'}\n",
      "{'lithology': 'marne'}\n",
      "{'lithology': 'charbon'}\n",
      "{'lithology': 'dolomie'}\n",
      "Summary : [Striplog(5 Intervals, start=0.0, stop=26.0)]\n",
      "|__ID:'BH005'\n",
      "{'lithology': 'sable'}\n",
      "{'lithology': 'argile'}\n",
      "{'lithology': 'marne'}\n",
      "{'lithology': 'charbon'}\n",
      "{'lithology': 'dolomie'}\n",
      "{'lithology': 'schiste'}\n",
      "Summary : [Striplog(6 Intervals, start=0.0, stop=32.0)]\n",
      "|__ID:'BH006'\n",
      "{'lithology': 'sable'}\n",
      "{'lithology': 'argile'}\n",
      "{'lithology': 'marne'}\n",
      "{'lithology': 'charbon'}\n",
      "{'lithology': 'dolomie'}\n",
      "Summary : [Striplog(5 Intervals, start=0.0, stop=26.0)]\n",
      "|__ID:'BH007'\n",
      "{'lithology': 'sable'}\n",
      "{'lithology': 'argile'}\n",
      "{'lithology': 'marne'}\n",
      "{'lithology': 'charbon'}\n",
      "{'lithology': 'dolomie'}\n",
      "{'lithology': 'calcaire'}\n",
      "Summary : [Striplog(6 Intervals, start=0.0, stop=45.0)]\n",
      "|__ID:'BH008'\n",
      "{'lithology': 'sable'}\n",
      "{'lithology': 'argile'}\n",
      "{'lithology': 'marne'}\n",
      "{'lithology': 'charbon'}\n",
      "{'lithology': 'dolomie'}\n",
      "Summary : [Striplog(5 Intervals, start=0.0, stop=35.0)]\n",
      "|__ID:'BH009'\n",
      "{'lithology': 'sable'}\n",
      "{'lithology': 'argile'}\n",
      "{'lithology': 'marne'}\n",
      "{'lithology': 'charbon'}\n",
      "{'lithology': 'dolomie'}\n",
      "Summary : [Striplog(5 Intervals, start=0.0, stop=40.0)]\n",
      "|__ID:'BH10'\n",
      "{'lithology': 'sable'}\n",
      "{'lithology': 'argile'}\n",
      "{'lithology': 'marne'}\n",
      "{'lithology': 'charbon'}\n",
      "Summary : [Striplog(4 Intervals, start=0.0, stop=14.0)]\n",
      "\n",
      "End of the process : 10 unique ID found\n"
     ]
    },
    {
     "name": "stderr",
     "output_type": "stream",
     "text": [
      "/home/yanathan/Projects/GSDMA/utils/utils.py:899: SAWarning: relationship 'ComponentOrm.intervals' will copy column Components.id to column Linkintervalcomponent.comp_id, which conflicts with relationship(s): 'IntervalOrm.components' (copies Components.id to Linkintervalcomponent.comp_id). If this is not the intention, consider if these relationships should be linked with back_populates, or if viewonly=True should be applied to one or more if they are read-only. For the less common case that foreign key constraints are partially overlapping, the orm.foreign() annotation can be used to isolate the columns that should be written towards.   To silence this warning, add the parameter 'overlaps=\"components\"' to the 'ComponentOrm.intervals' relationship.\n",
      "  boreholes.append(BoreholeOrm(id=bh_name))\n",
      "/home/yanathan/Projects/GSDMA/utils/utils.py:899: SAWarning: relationship 'ComponentOrm.intervals' will copy column Intervals.id to column Linkintervalcomponent.int_id, which conflicts with relationship(s): 'IntervalOrm.components' (copies Intervals.id to Linkintervalcomponent.int_id). If this is not the intention, consider if these relationships should be linked with back_populates, or if viewonly=True should be applied to one or more if they are read-only. For the less common case that foreign key constraints are partially overlapping, the orm.foreign() annotation can be used to isolate the columns that should be written towards.   To silence this warning, add the parameter 'overlaps=\"components\"' to the 'ComponentOrm.intervals' relationship.\n",
      "  boreholes.append(BoreholeOrm(id=bh_name))\n",
      "/home/yanathan/Projects/GSDMA/utils/utils.py:899: SAWarning: relationship 'ComponentOrm.component_assoc' will copy column Components.id to column Linkintervalcomponent.comp_id, which conflicts with relationship(s): 'ComponentOrm.intervals' (copies Components.id to Linkintervalcomponent.comp_id), 'IntervalOrm.components' (copies Components.id to Linkintervalcomponent.comp_id). If this is not the intention, consider if these relationships should be linked with back_populates, or if viewonly=True should be applied to one or more if they are read-only. For the less common case that foreign key constraints are partially overlapping, the orm.foreign() annotation can be used to isolate the columns that should be written towards.   To silence this warning, add the parameter 'overlaps=\"components,intervals\"' to the 'ComponentOrm.component_assoc' relationship.\n",
      "  boreholes.append(BoreholeOrm(id=bh_name))\n",
      "/home/yanathan/Projects/GSDMA/utils/utils.py:899: SAWarning: relationship 'LinkIntervalComponentOrm.component' will copy column Components.id to column Linkintervalcomponent.comp_id, which conflicts with relationship(s): 'ComponentOrm.intervals' (copies Components.id to Linkintervalcomponent.comp_id), 'IntervalOrm.components' (copies Components.id to Linkintervalcomponent.comp_id). If this is not the intention, consider if these relationships should be linked with back_populates, or if viewonly=True should be applied to one or more if they are read-only. For the less common case that foreign key constraints are partially overlapping, the orm.foreign() annotation can be used to isolate the columns that should be written towards.   To silence this warning, add the parameter 'overlaps=\"components,intervals\"' to the 'LinkIntervalComponentOrm.component' relationship.\n",
      "  boreholes.append(BoreholeOrm(id=bh_name))\n",
      "/home/yanathan/Projects/GSDMA/utils/utils.py:899: SAWarning: relationship 'IntervalOrm.interval_assoc' will copy column Intervals.id to column Linkintervalcomponent.int_id, which conflicts with relationship(s): 'ComponentOrm.intervals' (copies Intervals.id to Linkintervalcomponent.int_id), 'IntervalOrm.components' (copies Intervals.id to Linkintervalcomponent.int_id). If this is not the intention, consider if these relationships should be linked with back_populates, or if viewonly=True should be applied to one or more if they are read-only. For the less common case that foreign key constraints are partially overlapping, the orm.foreign() annotation can be used to isolate the columns that should be written towards.   To silence this warning, add the parameter 'overlaps=\"components,intervals\"' to the 'IntervalOrm.interval_assoc' relationship.\n",
      "  boreholes.append(BoreholeOrm(id=bh_name))\n",
      "/home/yanathan/Projects/GSDMA/utils/utils.py:899: SAWarning: relationship 'LinkIntervalComponentOrm.interval' will copy column Intervals.id to column Linkintervalcomponent.int_id, which conflicts with relationship(s): 'ComponentOrm.intervals' (copies Intervals.id to Linkintervalcomponent.int_id), 'IntervalOrm.components' (copies Intervals.id to Linkintervalcomponent.int_id). If this is not the intention, consider if these relationships should be linked with back_populates, or if viewonly=True should be applied to one or more if they are read-only. For the less common case that foreign key constraints are partially overlapping, the orm.foreign() annotation can be used to isolate the columns that should be written towards.   To silence this warning, add the parameter 'overlaps=\"components,intervals\"' to the 'LinkIntervalComponentOrm.interval' relationship.\n",
      "  boreholes.append(BoreholeOrm(id=bh_name))\n"
     ]
    }
   ],
   "source": [
    "boreholes, components, link_intv_comp = boreholes_from_files(bhs_df, verbose=False,\n",
    "                                                litho_field=['Lithology', 'Benzene', 'Toluene'], \n",
    "                                                color_field='Colour', lexicon=lexicon_memoris, \n",
    "                                                diam_field='Diameter', thick_field='Thickness')"
   ]
  },
  {
   "cell_type": "raw",
   "metadata": {},
   "source": [
    "boreholes[170].intervals[850].top.x, boreholes[170].intervals[850].top.y"
   ]
  },
  {
   "cell_type": "code",
   "execution_count": 10,
   "metadata": {},
   "outputs": [
    {
     "data": {
      "text/plain": [
       "[<core.orm.BoreholeOrm>(Name=BH001, Length=28.0, Diameter=0.43, Intervals=4),\n",
       " <core.orm.BoreholeOrm>(Name=BH002, Length=37.0, Diameter=0.6, Intervals=5),\n",
       " <core.orm.BoreholeOrm>(Name=BH003, Length=18.0, Diameter=0.41, Intervals=5),\n",
       " <core.orm.BoreholeOrm>(Name=BH004, Length=26.0, Diameter=0.61, Intervals=5),\n",
       " <core.orm.BoreholeOrm>(Name=BH005, Length=32.0, Diameter=0.61, Intervals=6),\n",
       " <core.orm.BoreholeOrm>(Name=BH006, Length=26.0, Diameter=0.31, Intervals=5),\n",
       " <core.orm.BoreholeOrm>(Name=BH007, Length=45.0, Diameter=0.57, Intervals=6),\n",
       " <core.orm.BoreholeOrm>(Name=BH008, Length=35.0, Diameter=0.39, Intervals=5),\n",
       " <core.orm.BoreholeOrm>(Name=BH009, Length=40.0, Diameter=0.5, Intervals=5),\n",
       " <core.orm.BoreholeOrm>(Name=BH10, Length=14.0, Diameter=0.31, Intervals=4)]"
      ]
     },
     "execution_count": 10,
     "metadata": {},
     "output_type": "execute_result"
    }
   ],
   "source": [
    "boreholes"
   ]
  },
  {
   "cell_type": "code",
   "execution_count": 11,
   "metadata": {},
   "outputs": [
    {
     "data": {
      "text/plain": [
       "{0: Component({'lithology': 'marne'}),\n",
       " 1: Component({'lithology': 'charbon'}),\n",
       " 2: Component({'lithology': 'argile'}),\n",
       " 3: Component({'lithology': 'sable'}),\n",
       " 4: Component({'lithology': 'dolomie'}),\n",
       " 5: Component({'lithology': 'schiste'}),\n",
       " 6: Component({'lithology': 'calcaire'})}"
      ]
     },
     "execution_count": 11,
     "metadata": {},
     "output_type": "execute_result"
    }
   ],
   "source": [
    "components"
   ]
  },
  {
   "cell_type": "code",
   "execution_count": 12,
   "metadata": {},
   "outputs": [
    {
     "data": {
      "text/plain": [
       "(10, 7)"
      ]
     },
     "execution_count": 12,
     "metadata": {},
     "output_type": "execute_result"
    }
   ],
   "source": [
    "len(boreholes), len(components)"
   ]
  },
  {
   "cell_type": "markdown",
   "metadata": {},
   "source": [
    "## Create a project and save data in a database"
   ]
  },
  {
   "cell_type": "code",
   "execution_count": 13,
   "metadata": {},
   "outputs": [],
   "source": [
    "remove('tmp_files/tfe_orm_db.db')"
   ]
  },
  {
   "cell_type": "code",
   "execution_count": 14,
   "metadata": {},
   "outputs": [],
   "source": [
    "engine = create_engine('sqlite:///tmp_files/tfe_orm_db.db', echo=True)"
   ]
  },
  {
   "cell_type": "code",
   "execution_count": 15,
   "metadata": {
    "scrolled": true
   },
   "outputs": [
    {
     "name": "stdout",
     "output_type": "stream",
     "text": [
      "2021-07-16 00:53:56,409 INFO sqlalchemy.engine.Engine BEGIN (implicit)\n",
      "2021-07-16 00:53:56,410 INFO sqlalchemy.engine.Engine PRAGMA main.table_info(\"Boreholes\")\n",
      "2021-07-16 00:53:56,410 INFO sqlalchemy.engine.Engine [raw sql] ()\n",
      "2021-07-16 00:53:56,412 INFO sqlalchemy.engine.Engine PRAGMA temp.table_info(\"Boreholes\")\n",
      "2021-07-16 00:53:56,413 INFO sqlalchemy.engine.Engine [raw sql] ()\n",
      "2021-07-16 00:53:56,413 INFO sqlalchemy.engine.Engine PRAGMA main.table_info(\"Positions\")\n",
      "2021-07-16 00:53:56,414 INFO sqlalchemy.engine.Engine [raw sql] ()\n",
      "2021-07-16 00:53:56,415 INFO sqlalchemy.engine.Engine PRAGMA temp.table_info(\"Positions\")\n",
      "2021-07-16 00:53:56,416 INFO sqlalchemy.engine.Engine [raw sql] ()\n",
      "2021-07-16 00:53:56,416 INFO sqlalchemy.engine.Engine PRAGMA main.table_info(\"IntervalData\")\n",
      "2021-07-16 00:53:56,417 INFO sqlalchemy.engine.Engine [raw sql] ()\n",
      "2021-07-16 00:53:56,418 INFO sqlalchemy.engine.Engine PRAGMA temp.table_info(\"IntervalData\")\n",
      "2021-07-16 00:53:56,418 INFO sqlalchemy.engine.Engine [raw sql] ()\n",
      "2021-07-16 00:53:56,419 INFO sqlalchemy.engine.Engine PRAGMA main.table_info(\"Intervals\")\n",
      "2021-07-16 00:53:56,419 INFO sqlalchemy.engine.Engine [raw sql] ()\n",
      "2021-07-16 00:53:56,420 INFO sqlalchemy.engine.Engine PRAGMA temp.table_info(\"Intervals\")\n",
      "2021-07-16 00:53:56,420 INFO sqlalchemy.engine.Engine [raw sql] ()\n",
      "2021-07-16 00:53:56,421 INFO sqlalchemy.engine.Engine PRAGMA main.table_info(\"Components\")\n",
      "2021-07-16 00:53:56,422 INFO sqlalchemy.engine.Engine [raw sql] ()\n",
      "2021-07-16 00:53:56,422 INFO sqlalchemy.engine.Engine PRAGMA temp.table_info(\"Components\")\n",
      "2021-07-16 00:53:56,423 INFO sqlalchemy.engine.Engine [raw sql] ()\n",
      "2021-07-16 00:53:56,424 INFO sqlalchemy.engine.Engine PRAGMA main.table_info(\"Linkintervalcomponent\")\n",
      "2021-07-16 00:53:56,424 INFO sqlalchemy.engine.Engine [raw sql] ()\n",
      "2021-07-16 00:53:56,425 INFO sqlalchemy.engine.Engine PRAGMA temp.table_info(\"Linkintervalcomponent\")\n",
      "2021-07-16 00:53:56,425 INFO sqlalchemy.engine.Engine [raw sql] ()\n",
      "2021-07-16 00:53:56,427 INFO sqlalchemy.engine.Engine \n",
      "CREATE TABLE \"Boreholes\" (\n",
      "\tid VARCHAR(32) NOT NULL, \n",
      "\tlength FLOAT, \n",
      "\tdiameter FLOAT, \n",
      "\tPRIMARY KEY (id)\n",
      ")\n",
      "\n",
      "\n",
      "2021-07-16 00:53:56,428 INFO sqlalchemy.engine.Engine [no key 0.00074s] ()\n",
      "2021-07-16 00:53:56,431 INFO sqlalchemy.engine.Engine \n",
      "CREATE TABLE \"Positions\" (\n",
      "\tid INTEGER NOT NULL, \n",
      "\tupper FLOAT, \n",
      "\tmiddle FLOAT, \n",
      "\tlower FLOAT, \n",
      "\tx FLOAT, \n",
      "\ty FLOAT, \n",
      "\tPRIMARY KEY (id)\n",
      ")\n",
      "\n",
      "\n",
      "2021-07-16 00:53:56,431 INFO sqlalchemy.engine.Engine [no key 0.00040s] ()\n",
      "2021-07-16 00:53:56,435 INFO sqlalchemy.engine.Engine \n",
      "CREATE TABLE \"IntervalData\" (\n",
      "\tid INTEGER NOT NULL, \n",
      "\tinterval INTEGER, \n",
      "\t\"key\" VARCHAR(32), \n",
      "\tvalue FLOAT, \n",
      "\tunits VARCHAR(32), \n",
      "\tPRIMARY KEY (id), \n",
      "\tFOREIGN KEY(interval) REFERENCES \"Intervals\" (id)\n",
      ")\n",
      "\n",
      "\n",
      "2021-07-16 00:53:56,436 INFO sqlalchemy.engine.Engine [no key 0.00071s] ()\n",
      "2021-07-16 00:53:56,439 INFO sqlalchemy.engine.Engine \n",
      "CREATE TABLE \"Intervals\" (\n",
      "\tid INTEGER NOT NULL, \n",
      "\tborehole VARCHAR(32), \n",
      "\tinterval_number INTEGER, \n",
      "\tdescription VARCHAR(32), \n",
      "\ttop_id INTEGER, \n",
      "\tbase_id INTEGER, \n",
      "\tdata_id INTEGER, \n",
      "\tPRIMARY KEY (id), \n",
      "\tFOREIGN KEY(borehole) REFERENCES \"Boreholes\" (id), \n",
      "\tFOREIGN KEY(top_id) REFERENCES \"Positions\" (id), \n",
      "\tFOREIGN KEY(base_id) REFERENCES \"Positions\" (id), \n",
      "\tFOREIGN KEY(data_id) REFERENCES \"IntervalData\" (id)\n",
      ")\n",
      "\n",
      "\n",
      "2021-07-16 00:53:56,440 INFO sqlalchemy.engine.Engine [no key 0.00076s] ()\n",
      "2021-07-16 00:53:56,443 INFO sqlalchemy.engine.Engine \n",
      "CREATE TABLE \"Components\" (\n",
      "\tid INTEGER NOT NULL, \n",
      "\tdescription VARCHAR(32), \n",
      "\tPRIMARY KEY (id)\n",
      ")\n",
      "\n",
      "\n",
      "2021-07-16 00:53:56,444 INFO sqlalchemy.engine.Engine [no key 0.00069s] ()\n",
      "2021-07-16 00:53:56,448 INFO sqlalchemy.engine.Engine \n",
      "CREATE TABLE \"Linkintervalcomponent\" (\n",
      "\tint_id INTEGER NOT NULL, \n",
      "\tcomp_id INTEGER NOT NULL, \n",
      "\textra_data VARCHAR(256), \n",
      "\tPRIMARY KEY (int_id, comp_id), \n",
      "\tFOREIGN KEY(int_id) REFERENCES \"Intervals\" (id), \n",
      "\tFOREIGN KEY(comp_id) REFERENCES \"Components\" (id)\n",
      ")\n",
      "\n",
      "\n",
      "2021-07-16 00:53:56,449 INFO sqlalchemy.engine.Engine [no key 0.00074s] ()\n",
      "2021-07-16 00:53:56,452 INFO sqlalchemy.engine.Engine COMMIT\n"
     ]
    }
   ],
   "source": [
    "Base.metadata.create_all(engine)"
   ]
  },
  {
   "cell_type": "code",
   "execution_count": 16,
   "metadata": {},
   "outputs": [],
   "source": [
    "Session = sessionmaker(bind=engine)\n",
    "session = Session()"
   ]
  },
  {
   "cell_type": "markdown",
   "metadata": {},
   "source": [
    "## Define project legend(s) and default attribute for representation"
   ]
  },
  {
   "cell_type": "code",
   "execution_count": 17,
   "metadata": {},
   "outputs": [
    {
     "name": "stdout",
     "output_type": "stream",
     "text": [
      "2021-07-16 00:53:56,466 INFO sqlalchemy.engine.Engine BEGIN (implicit)\n",
      "2021-07-16 00:53:56,469 INFO sqlalchemy.engine.Engine SELECT \"Boreholes\".id AS \"Boreholes_id\", \"Boreholes\".length AS \"Boreholes_length\", \"Boreholes\".diameter AS \"Boreholes_diameter\" \n",
      "FROM \"Boreholes\"\n",
      "2021-07-16 00:53:56,470 INFO sqlalchemy.engine.Engine [generated in 0.00074s] ()\n"
     ]
    }
   ],
   "source": [
    "p = Project(session, lexicon=lexicon_memoris, repr_attribute='lithology',\n",
    "            legend_dict={'lithology':{'legend':lithology_memoris}, \n",
    "                         'benzene':{'legend':contamination_benzene_memoris}},)"
   ]
  },
  {
   "cell_type": "code",
   "execution_count": 18,
   "metadata": {},
   "outputs": [
    {
     "name": "stdout",
     "output_type": "stream",
     "text": [
      "2021-07-16 00:53:56,474 INFO sqlalchemy.engine.Engine INSERT INTO \"Components\" (id, description) VALUES (?, ?)\n",
      "2021-07-16 00:53:56,475 INFO sqlalchemy.engine.Engine [generated in 0.00090s] ((0, 'Marne'), (1, 'Charbon'), (2, 'Argile'), (3, 'Sable'), (4, 'Dolomie'), (5, 'Schiste'), (6, 'Calcaire'))\n",
      "2021-07-16 00:53:56,476 INFO sqlalchemy.engine.Engine COMMIT\n",
      "2021-07-16 00:53:56,482 INFO sqlalchemy.engine.Engine BEGIN (implicit)\n",
      "2021-07-16 00:53:56,483 INFO sqlalchemy.engine.Engine SELECT \"Boreholes\".id AS \"Boreholes_id\", \"Boreholes\".length AS \"Boreholes_length\", \"Boreholes\".diameter AS \"Boreholes_diameter\" \n",
      "FROM \"Boreholes\"\n",
      "2021-07-16 00:53:56,483 INFO sqlalchemy.engine.Engine [cached since 0.01386s ago] ()\n"
     ]
    }
   ],
   "source": [
    "p.add_components(components)"
   ]
  },
  {
   "cell_type": "markdown",
   "metadata": {},
   "source": [
    "Add boreholes into the project"
   ]
  },
  {
   "cell_type": "code",
   "execution_count": 19,
   "metadata": {
    "scrolled": true
   },
   "outputs": [
    {
     "name": "stdout",
     "output_type": "stream",
     "text": [
      "2021-07-16 00:53:56,491 INFO sqlalchemy.engine.Engine INSERT INTO \"Boreholes\" (id, length, diameter) VALUES (?, ?, ?)\n",
      "2021-07-16 00:53:56,492 INFO sqlalchemy.engine.Engine [generated in 0.00159s] ('BH001', 28.0, 0.43)\n",
      "2021-07-16 00:53:56,495 INFO sqlalchemy.engine.Engine INSERT INTO \"Positions\" (id, upper, middle, lower, x, y) VALUES (?, ?, ?, ?, ?, ?)\n",
      "2021-07-16 00:53:56,496 INFO sqlalchemy.engine.Engine [generated in 0.00095s] ((0, 101.0, 101.0, 101.0, 152600.0, 121039.0), (1, 97.0, 97.0, 97.0, 152600.0, 121039.0), (2, 97.0, 97.0, 97.0, 152600.0, 121039.0), (3, 93.0, 93.0, 93.0, 152600.0, 121039.0), (4, 93.0, 93.0, 93.0, 152600.0, 121039.0), (5, 81.0, 81.0, 81.0, 152600.0, 121039.0), (6, 81.0, 81.0, 81.0, 152600.0, 121039.0), (7, 73.0, 73.0, 73.0, 152600.0, 121039.0))\n",
      "2021-07-16 00:53:56,499 INFO sqlalchemy.engine.Engine INSERT INTO \"Intervals\" (id, borehole, interval_number, description, top_id, base_id, data_id) VALUES (?, ?, ?, ?, ?, ?, ?)\n",
      "2021-07-16 00:53:56,500 INFO sqlalchemy.engine.Engine [generated in 0.00107s] ((0, 'BH001', 0, 'Sable VS VS', 0, 1, None), (1, 'BH001', 1, 'Argile VR VR', 2, 3, None), (2, 'BH001', 2, 'Marne VI VS', 4, 5, None), (3, 'BH001', 3, 'Charbon VS VS', 6, 7, None))\n",
      "2021-07-16 00:53:56,502 INFO sqlalchemy.engine.Engine COMMIT\n",
      "2021-07-16 00:53:56,505 INFO sqlalchemy.engine.Engine BEGIN (implicit)\n",
      "2021-07-16 00:53:56,506 INFO sqlalchemy.engine.Engine SELECT \"Boreholes\".id AS \"Boreholes_id\", \"Boreholes\".length AS \"Boreholes_length\", \"Boreholes\".diameter AS \"Boreholes_diameter\" \n",
      "FROM \"Boreholes\"\n",
      "2021-07-16 00:53:56,507 INFO sqlalchemy.engine.Engine [cached since 0.03791s ago] ()\n",
      "2021-07-16 00:53:56,514 INFO sqlalchemy.engine.Engine SELECT \"Intervals\".id AS \"Intervals_id\", \"Intervals\".borehole AS \"Intervals_borehole\", \"Intervals\".interval_number AS \"Intervals_interval_number\", \"Intervals\".description AS \"Intervals_description\", \"Intervals\".top_id AS \"Intervals_top_id\", \"Intervals\".base_id AS \"Intervals_base_id\", \"Intervals\".data_id AS \"Intervals_data_id\" \n",
      "FROM \"Intervals\" \n",
      "WHERE ? = \"Intervals\".borehole\n",
      "2021-07-16 00:53:56,515 INFO sqlalchemy.engine.Engine [generated in 0.00117s] ('BH001',)\n",
      "2021-07-16 00:53:56,522 INFO sqlalchemy.engine.Engine SELECT \"Positions\".id AS \"Positions_id\", \"Positions\".upper AS \"Positions_upper\", \"Positions\".middle AS \"Positions_middle\", \"Positions\".lower AS \"Positions_lower\", \"Positions\".x AS \"Positions_x\", \"Positions\".y AS \"Positions_y\" \n",
      "FROM \"Positions\" \n",
      "WHERE \"Positions\".id = ?\n",
      "2021-07-16 00:53:56,523 INFO sqlalchemy.engine.Engine [generated in 0.00098s] (0,)\n",
      "2021-07-16 00:53:56,525 INFO sqlalchemy.engine.Engine SELECT \"Positions\".id AS \"Positions_id\", \"Positions\".upper AS \"Positions_upper\", \"Positions\".middle AS \"Positions_middle\", \"Positions\".lower AS \"Positions_lower\", \"Positions\".x AS \"Positions_x\", \"Positions\".y AS \"Positions_y\" \n",
      "FROM \"Positions\" \n",
      "WHERE \"Positions\".id = ?\n",
      "2021-07-16 00:53:56,525 INFO sqlalchemy.engine.Engine [generated in 0.00066s] (1,)\n",
      "2021-07-16 00:53:56,527 INFO sqlalchemy.engine.Engine SELECT \"Positions\".id AS \"Positions_id\", \"Positions\".upper AS \"Positions_upper\", \"Positions\".middle AS \"Positions_middle\", \"Positions\".lower AS \"Positions_lower\", \"Positions\".x AS \"Positions_x\", \"Positions\".y AS \"Positions_y\" \n",
      "FROM \"Positions\" \n",
      "WHERE \"Positions\".id = ?\n",
      "2021-07-16 00:53:56,528 INFO sqlalchemy.engine.Engine [cached since 0.005965s ago] (2,)\n",
      "2021-07-16 00:53:56,529 INFO sqlalchemy.engine.Engine SELECT \"Positions\".id AS \"Positions_id\", \"Positions\".upper AS \"Positions_upper\", \"Positions\".middle AS \"Positions_middle\", \"Positions\".lower AS \"Positions_lower\", \"Positions\".x AS \"Positions_x\", \"Positions\".y AS \"Positions_y\" \n",
      "FROM \"Positions\" \n",
      "WHERE \"Positions\".id = ?\n",
      "2021-07-16 00:53:56,530 INFO sqlalchemy.engine.Engine [cached since 0.004926s ago] (3,)\n",
      "2021-07-16 00:53:56,531 INFO sqlalchemy.engine.Engine SELECT \"Positions\".id AS \"Positions_id\", \"Positions\".upper AS \"Positions_upper\", \"Positions\".middle AS \"Positions_middle\", \"Positions\".lower AS \"Positions_lower\", \"Positions\".x AS \"Positions_x\", \"Positions\".y AS \"Positions_y\" \n",
      "FROM \"Positions\" \n",
      "WHERE \"Positions\".id = ?\n",
      "2021-07-16 00:53:56,532 INFO sqlalchemy.engine.Engine [cached since 0.01016s ago] (4,)\n",
      "2021-07-16 00:53:56,534 INFO sqlalchemy.engine.Engine SELECT \"Positions\".id AS \"Positions_id\", \"Positions\".upper AS \"Positions_upper\", \"Positions\".middle AS \"Positions_middle\", \"Positions\".lower AS \"Positions_lower\", \"Positions\".x AS \"Positions_x\", \"Positions\".y AS \"Positions_y\" \n",
      "FROM \"Positions\" \n",
      "WHERE \"Positions\".id = ?\n",
      "2021-07-16 00:53:56,535 INFO sqlalchemy.engine.Engine [cached since 0.009895s ago] (5,)\n",
      "2021-07-16 00:53:56,537 INFO sqlalchemy.engine.Engine SELECT \"Positions\".id AS \"Positions_id\", \"Positions\".upper AS \"Positions_upper\", \"Positions\".middle AS \"Positions_middle\", \"Positions\".lower AS \"Positions_lower\", \"Positions\".x AS \"Positions_x\", \"Positions\".y AS \"Positions_y\" \n",
      "FROM \"Positions\" \n",
      "WHERE \"Positions\".id = ?\n",
      "2021-07-16 00:53:56,538 INFO sqlalchemy.engine.Engine [cached since 0.01584s ago] (6,)\n",
      "2021-07-16 00:53:56,539 INFO sqlalchemy.engine.Engine SELECT \"Positions\".id AS \"Positions_id\", \"Positions\".upper AS \"Positions_upper\", \"Positions\".middle AS \"Positions_middle\", \"Positions\".lower AS \"Positions_lower\", \"Positions\".x AS \"Positions_x\", \"Positions\".y AS \"Positions_y\" \n",
      "FROM \"Positions\" \n",
      "WHERE \"Positions\".id = ?\n",
      "2021-07-16 00:53:56,540 INFO sqlalchemy.engine.Engine [cached since 0.01517s ago] (7,)\n",
      "Borehole geometry created successfully !\n",
      "2021-07-16 00:53:56,552 INFO sqlalchemy.engine.Engine UPDATE \"Boreholes\" SET length=? WHERE \"Boreholes\".id = ?\n",
      "2021-07-16 00:53:56,552 INFO sqlalchemy.engine.Engine [generated in 0.00058s] (97.0, 'BH001')\n",
      "2021-07-16 00:53:56,554 INFO sqlalchemy.engine.Engine INSERT INTO \"Boreholes\" (id, length, diameter) VALUES (?, ?, ?)\n",
      "2021-07-16 00:53:56,554 INFO sqlalchemy.engine.Engine [cached since 0.06372s ago] ('BH002', 37.0, 0.6)\n",
      "2021-07-16 00:53:56,555 INFO sqlalchemy.engine.Engine INSERT INTO \"Positions\" (id, upper, middle, lower, x, y) VALUES (?, ?, ?, ?, ?, ?)\n",
      "2021-07-16 00:53:56,556 INFO sqlalchemy.engine.Engine [cached since 0.06061s ago] ((8, 103.0, 103.0, 103.0, 152819.0, 121586.0), (9, 98.0, 98.0, 98.0, 152819.0, 121586.0), (10, 98.0, 98.0, 98.0, 152819.0, 121586.0), (11, 95.0, 95.0, 95.0, 152819.0, 121586.0), (12, 95.0, 95.0, 95.0, 152819.0, 121586.0), (13, 89.0, 89.0, 89.0, 152819.0, 121586.0), (14, 89.0, 89.0, 89.0, 152819.0, 121586.0), (15, 88.0, 88.0, 88.0, 152819.0, 121586.0), (16, 88.0, 88.0, 88.0, 152819.0, 121586.0), (17, 66.0, 66.0, 66.0, 152819.0, 121586.0))\n",
      "2021-07-16 00:53:56,557 INFO sqlalchemy.engine.Engine INSERT INTO \"Intervals\" (id, borehole, interval_number, description, top_id, base_id, data_id) VALUES (?, ?, ?, ?, ?, ?, ?)\n",
      "2021-07-16 00:53:56,558 INFO sqlalchemy.engine.Engine [cached since 0.0591s ago] ((4, 'BH002', 0, 'Sable VI VS', 8, 9, None), (5, 'BH002', 1, 'Argile VI VS', 10, 11, None), (6, 'BH002', 2, 'Marne VS VR', 12, 13, None), (7, 'BH002', 3, 'Charbon VR VR', 14, 15, None), (8, 'BH002', 4, 'Dolomie VI VR', 16, 17, None))\n",
      "2021-07-16 00:53:56,560 INFO sqlalchemy.engine.Engine COMMIT\n",
      "2021-07-16 00:53:56,564 INFO sqlalchemy.engine.Engine BEGIN (implicit)\n",
      "2021-07-16 00:53:56,566 INFO sqlalchemy.engine.Engine SELECT \"Boreholes\".id AS \"Boreholes_id\", \"Boreholes\".length AS \"Boreholes_length\", \"Boreholes\".diameter AS \"Boreholes_diameter\" \n",
      "FROM \"Boreholes\"\n",
      "2021-07-16 00:53:56,566 INFO sqlalchemy.engine.Engine [cached since 0.09698s ago] ()\n",
      "2021-07-16 00:53:56,568 INFO sqlalchemy.engine.Engine SELECT \"Intervals\".id AS \"Intervals_id\", \"Intervals\".borehole AS \"Intervals_borehole\", \"Intervals\".interval_number AS \"Intervals_interval_number\", \"Intervals\".description AS \"Intervals_description\", \"Intervals\".top_id AS \"Intervals_top_id\", \"Intervals\".base_id AS \"Intervals_base_id\", \"Intervals\".data_id AS \"Intervals_data_id\" \n",
      "FROM \"Intervals\" \n",
      "WHERE ? = \"Intervals\".borehole\n",
      "2021-07-16 00:53:56,569 INFO sqlalchemy.engine.Engine [cached since 0.05523s ago] ('BH002',)\n",
      "2021-07-16 00:53:56,571 INFO sqlalchemy.engine.Engine SELECT \"Positions\".id AS \"Positions_id\", \"Positions\".upper AS \"Positions_upper\", \"Positions\".middle AS \"Positions_middle\", \"Positions\".lower AS \"Positions_lower\", \"Positions\".x AS \"Positions_x\", \"Positions\".y AS \"Positions_y\" \n",
      "FROM \"Positions\" \n",
      "WHERE \"Positions\".id = ?\n"
     ]
    },
    {
     "name": "stdout",
     "output_type": "stream",
     "text": [
      "2021-07-16 00:53:56,571 INFO sqlalchemy.engine.Engine [cached since 0.04964s ago] (8,)\n",
      "2021-07-16 00:53:56,573 INFO sqlalchemy.engine.Engine SELECT \"Positions\".id AS \"Positions_id\", \"Positions\".upper AS \"Positions_upper\", \"Positions\".middle AS \"Positions_middle\", \"Positions\".lower AS \"Positions_lower\", \"Positions\".x AS \"Positions_x\", \"Positions\".y AS \"Positions_y\" \n",
      "FROM \"Positions\" \n",
      "WHERE \"Positions\".id = ?\n",
      "2021-07-16 00:53:56,574 INFO sqlalchemy.engine.Engine [cached since 0.04887s ago] (9,)\n",
      "2021-07-16 00:53:56,576 INFO sqlalchemy.engine.Engine SELECT \"Positions\".id AS \"Positions_id\", \"Positions\".upper AS \"Positions_upper\", \"Positions\".middle AS \"Positions_middle\", \"Positions\".lower AS \"Positions_lower\", \"Positions\".x AS \"Positions_x\", \"Positions\".y AS \"Positions_y\" \n",
      "FROM \"Positions\" \n",
      "WHERE \"Positions\".id = ?\n",
      "2021-07-16 00:53:56,576 INFO sqlalchemy.engine.Engine [cached since 0.05451s ago] (10,)\n",
      "2021-07-16 00:53:56,577 INFO sqlalchemy.engine.Engine SELECT \"Positions\".id AS \"Positions_id\", \"Positions\".upper AS \"Positions_upper\", \"Positions\".middle AS \"Positions_middle\", \"Positions\".lower AS \"Positions_lower\", \"Positions\".x AS \"Positions_x\", \"Positions\".y AS \"Positions_y\" \n",
      "FROM \"Positions\" \n",
      "WHERE \"Positions\".id = ?\n",
      "2021-07-16 00:53:56,579 INFO sqlalchemy.engine.Engine [cached since 0.05369s ago] (11,)\n",
      "2021-07-16 00:53:56,580 INFO sqlalchemy.engine.Engine SELECT \"Positions\".id AS \"Positions_id\", \"Positions\".upper AS \"Positions_upper\", \"Positions\".middle AS \"Positions_middle\", \"Positions\".lower AS \"Positions_lower\", \"Positions\".x AS \"Positions_x\", \"Positions\".y AS \"Positions_y\" \n",
      "FROM \"Positions\" \n",
      "WHERE \"Positions\".id = ?\n",
      "2021-07-16 00:53:56,581 INFO sqlalchemy.engine.Engine [cached since 0.05913s ago] (12,)\n",
      "2021-07-16 00:53:56,582 INFO sqlalchemy.engine.Engine SELECT \"Positions\".id AS \"Positions_id\", \"Positions\".upper AS \"Positions_upper\", \"Positions\".middle AS \"Positions_middle\", \"Positions\".lower AS \"Positions_lower\", \"Positions\".x AS \"Positions_x\", \"Positions\".y AS \"Positions_y\" \n",
      "FROM \"Positions\" \n",
      "WHERE \"Positions\".id = ?\n",
      "2021-07-16 00:53:56,583 INFO sqlalchemy.engine.Engine [cached since 0.05786s ago] (13,)\n",
      "2021-07-16 00:53:56,584 INFO sqlalchemy.engine.Engine SELECT \"Positions\".id AS \"Positions_id\", \"Positions\".upper AS \"Positions_upper\", \"Positions\".middle AS \"Positions_middle\", \"Positions\".lower AS \"Positions_lower\", \"Positions\".x AS \"Positions_x\", \"Positions\".y AS \"Positions_y\" \n",
      "FROM \"Positions\" \n",
      "WHERE \"Positions\".id = ?\n",
      "2021-07-16 00:53:56,585 INFO sqlalchemy.engine.Engine [cached since 0.06327s ago] (14,)\n",
      "2021-07-16 00:53:56,586 INFO sqlalchemy.engine.Engine SELECT \"Positions\".id AS \"Positions_id\", \"Positions\".upper AS \"Positions_upper\", \"Positions\".middle AS \"Positions_middle\", \"Positions\".lower AS \"Positions_lower\", \"Positions\".x AS \"Positions_x\", \"Positions\".y AS \"Positions_y\" \n",
      "FROM \"Positions\" \n",
      "WHERE \"Positions\".id = ?\n",
      "2021-07-16 00:53:56,587 INFO sqlalchemy.engine.Engine [cached since 0.06208s ago] (15,)\n",
      "2021-07-16 00:53:56,588 INFO sqlalchemy.engine.Engine SELECT \"Positions\".id AS \"Positions_id\", \"Positions\".upper AS \"Positions_upper\", \"Positions\".middle AS \"Positions_middle\", \"Positions\".lower AS \"Positions_lower\", \"Positions\".x AS \"Positions_x\", \"Positions\".y AS \"Positions_y\" \n",
      "FROM \"Positions\" \n",
      "WHERE \"Positions\".id = ?\n",
      "2021-07-16 00:53:56,589 INFO sqlalchemy.engine.Engine [cached since 0.06697s ago] (16,)\n",
      "2021-07-16 00:53:56,590 INFO sqlalchemy.engine.Engine SELECT \"Positions\".id AS \"Positions_id\", \"Positions\".upper AS \"Positions_upper\", \"Positions\".middle AS \"Positions_middle\", \"Positions\".lower AS \"Positions_lower\", \"Positions\".x AS \"Positions_x\", \"Positions\".y AS \"Positions_y\" \n",
      "FROM \"Positions\" \n",
      "WHERE \"Positions\".id = ?\n",
      "2021-07-16 00:53:56,591 INFO sqlalchemy.engine.Engine [cached since 0.06586s ago] (17,)\n",
      "Borehole geometry created successfully !\n",
      "2021-07-16 00:53:56,603 INFO sqlalchemy.engine.Engine UPDATE \"Boreholes\" SET length=? WHERE \"Boreholes\".id = ?\n",
      "2021-07-16 00:53:56,603 INFO sqlalchemy.engine.Engine [cached since 0.05185s ago] (98.0, 'BH002')\n",
      "2021-07-16 00:53:56,604 INFO sqlalchemy.engine.Engine INSERT INTO \"Boreholes\" (id, length, diameter) VALUES (?, ?, ?)\n",
      "2021-07-16 00:53:56,605 INFO sqlalchemy.engine.Engine [cached since 0.1145s ago] ('BH003', 18.0, 0.41)\n",
      "2021-07-16 00:53:56,606 INFO sqlalchemy.engine.Engine INSERT INTO \"Positions\" (id, upper, middle, lower, x, y) VALUES (?, ?, ?, ?, ?, ?)\n",
      "2021-07-16 00:53:56,607 INFO sqlalchemy.engine.Engine [cached since 0.1118s ago] ((18, 103.0, 103.0, 103.0, 152922.0, 121313.0), (19, 100.0, 100.0, 100.0, 152922.0, 121313.0), (20, 100.0, 100.0, 100.0, 152922.0, 121313.0), (21, 97.0, 97.0, 97.0, 152922.0, 121313.0), (22, 97.0, 97.0, 97.0, 152922.0, 121313.0), (23, 94.0, 94.0, 94.0, 152922.0, 121313.0), (24, 94.0, 94.0, 94.0, 152922.0, 121313.0), (25, 90.0, 90.0, 90.0, 152922.0, 121313.0), (26, 90.0, 90.0, 90.0, 152922.0, 121313.0), (27, 85.0, 85.0, 85.0, 152922.0, 121313.0))\n",
      "2021-07-16 00:53:56,608 INFO sqlalchemy.engine.Engine INSERT INTO \"Intervals\" (id, borehole, interval_number, description, top_id, base_id, data_id) VALUES (?, ?, ?, ?, ?, ?, ?)\n",
      "2021-07-16 00:53:56,609 INFO sqlalchemy.engine.Engine [cached since 0.1104s ago] ((9, 'BH003', 0, 'Sable VR VS', 18, 19, None), (10, 'BH003', 1, 'Argile VI VI', 20, 21, None), (11, 'BH003', 2, 'Marne VI VI', 22, 23, None), (12, 'BH003', 3, 'Charbon VS VS', 24, 25, None), (13, 'BH003', 4, 'Dolomie VS VI', 26, 27, None))\n",
      "2021-07-16 00:53:56,611 INFO sqlalchemy.engine.Engine COMMIT\n",
      "2021-07-16 00:53:56,616 INFO sqlalchemy.engine.Engine BEGIN (implicit)\n",
      "2021-07-16 00:53:56,617 INFO sqlalchemy.engine.Engine SELECT \"Boreholes\".id AS \"Boreholes_id\", \"Boreholes\".length AS \"Boreholes_length\", \"Boreholes\".diameter AS \"Boreholes_diameter\" \n",
      "FROM \"Boreholes\"\n",
      "2021-07-16 00:53:56,618 INFO sqlalchemy.engine.Engine [cached since 0.1482s ago] ()\n",
      "2021-07-16 00:53:56,620 INFO sqlalchemy.engine.Engine SELECT \"Intervals\".id AS \"Intervals_id\", \"Intervals\".borehole AS \"Intervals_borehole\", \"Intervals\".interval_number AS \"Intervals_interval_number\", \"Intervals\".description AS \"Intervals_description\", \"Intervals\".top_id AS \"Intervals_top_id\", \"Intervals\".base_id AS \"Intervals_base_id\", \"Intervals\".data_id AS \"Intervals_data_id\" \n",
      "FROM \"Intervals\" \n",
      "WHERE ? = \"Intervals\".borehole\n",
      "2021-07-16 00:53:56,620 INFO sqlalchemy.engine.Engine [cached since 0.1066s ago] ('BH003',)\n",
      "2021-07-16 00:53:56,622 INFO sqlalchemy.engine.Engine SELECT \"Positions\".id AS \"Positions_id\", \"Positions\".upper AS \"Positions_upper\", \"Positions\".middle AS \"Positions_middle\", \"Positions\".lower AS \"Positions_lower\", \"Positions\".x AS \"Positions_x\", \"Positions\".y AS \"Positions_y\" \n",
      "FROM \"Positions\" \n",
      "WHERE \"Positions\".id = ?\n",
      "2021-07-16 00:53:56,623 INFO sqlalchemy.engine.Engine [cached since 0.1013s ago] (18,)\n",
      "2021-07-16 00:53:56,624 INFO sqlalchemy.engine.Engine SELECT \"Positions\".id AS \"Positions_id\", \"Positions\".upper AS \"Positions_upper\", \"Positions\".middle AS \"Positions_middle\", \"Positions\".lower AS \"Positions_lower\", \"Positions\".x AS \"Positions_x\", \"Positions\".y AS \"Positions_y\" \n",
      "FROM \"Positions\" \n",
      "WHERE \"Positions\".id = ?\n",
      "2021-07-16 00:53:56,625 INFO sqlalchemy.engine.Engine [cached since 0.09985s ago] (19,)\n",
      "2021-07-16 00:53:56,626 INFO sqlalchemy.engine.Engine SELECT \"Positions\".id AS \"Positions_id\", \"Positions\".upper AS \"Positions_upper\", \"Positions\".middle AS \"Positions_middle\", \"Positions\".lower AS \"Positions_lower\", \"Positions\".x AS \"Positions_x\", \"Positions\".y AS \"Positions_y\" \n",
      "FROM \"Positions\" \n",
      "WHERE \"Positions\".id = ?\n",
      "2021-07-16 00:53:56,627 INFO sqlalchemy.engine.Engine [cached since 0.1053s ago] (20,)\n",
      "2021-07-16 00:53:56,629 INFO sqlalchemy.engine.Engine SELECT \"Positions\".id AS \"Positions_id\", \"Positions\".upper AS \"Positions_upper\", \"Positions\".middle AS \"Positions_middle\", \"Positions\".lower AS \"Positions_lower\", \"Positions\".x AS \"Positions_x\", \"Positions\".y AS \"Positions_y\" \n",
      "FROM \"Positions\" \n",
      "WHERE \"Positions\".id = ?\n",
      "2021-07-16 00:53:56,629 INFO sqlalchemy.engine.Engine [cached since 0.1042s ago] (21,)\n",
      "2021-07-16 00:53:56,630 INFO sqlalchemy.engine.Engine SELECT \"Positions\".id AS \"Positions_id\", \"Positions\".upper AS \"Positions_upper\", \"Positions\".middle AS \"Positions_middle\", \"Positions\".lower AS \"Positions_lower\", \"Positions\".x AS \"Positions_x\", \"Positions\".y AS \"Positions_y\" \n",
      "FROM \"Positions\" \n",
      "WHERE \"Positions\".id = ?\n"
     ]
    },
    {
     "name": "stdout",
     "output_type": "stream",
     "text": [
      "2021-07-16 00:53:56,631 INFO sqlalchemy.engine.Engine [cached since 0.1094s ago] (22,)\n",
      "2021-07-16 00:53:56,632 INFO sqlalchemy.engine.Engine SELECT \"Positions\".id AS \"Positions_id\", \"Positions\".upper AS \"Positions_upper\", \"Positions\".middle AS \"Positions_middle\", \"Positions\".lower AS \"Positions_lower\", \"Positions\".x AS \"Positions_x\", \"Positions\".y AS \"Positions_y\" \n",
      "FROM \"Positions\" \n",
      "WHERE \"Positions\".id = ?\n",
      "2021-07-16 00:53:56,633 INFO sqlalchemy.engine.Engine [cached since 0.1081s ago] (23,)\n",
      "2021-07-16 00:53:56,635 INFO sqlalchemy.engine.Engine SELECT \"Positions\".id AS \"Positions_id\", \"Positions\".upper AS \"Positions_upper\", \"Positions\".middle AS \"Positions_middle\", \"Positions\".lower AS \"Positions_lower\", \"Positions\".x AS \"Positions_x\", \"Positions\".y AS \"Positions_y\" \n",
      "FROM \"Positions\" \n",
      "WHERE \"Positions\".id = ?\n",
      "2021-07-16 00:53:56,637 INFO sqlalchemy.engine.Engine [cached since 0.1149s ago] (24,)\n",
      "2021-07-16 00:53:56,638 INFO sqlalchemy.engine.Engine SELECT \"Positions\".id AS \"Positions_id\", \"Positions\".upper AS \"Positions_upper\", \"Positions\".middle AS \"Positions_middle\", \"Positions\".lower AS \"Positions_lower\", \"Positions\".x AS \"Positions_x\", \"Positions\".y AS \"Positions_y\" \n",
      "FROM \"Positions\" \n",
      "WHERE \"Positions\".id = ?\n",
      "2021-07-16 00:53:56,639 INFO sqlalchemy.engine.Engine [cached since 0.1139s ago] (25,)\n",
      "2021-07-16 00:53:56,641 INFO sqlalchemy.engine.Engine SELECT \"Positions\".id AS \"Positions_id\", \"Positions\".upper AS \"Positions_upper\", \"Positions\".middle AS \"Positions_middle\", \"Positions\".lower AS \"Positions_lower\", \"Positions\".x AS \"Positions_x\", \"Positions\".y AS \"Positions_y\" \n",
      "FROM \"Positions\" \n",
      "WHERE \"Positions\".id = ?\n",
      "2021-07-16 00:53:56,641 INFO sqlalchemy.engine.Engine [cached since 0.1198s ago] (26,)\n",
      "2021-07-16 00:53:56,643 INFO sqlalchemy.engine.Engine SELECT \"Positions\".id AS \"Positions_id\", \"Positions\".upper AS \"Positions_upper\", \"Positions\".middle AS \"Positions_middle\", \"Positions\".lower AS \"Positions_lower\", \"Positions\".x AS \"Positions_x\", \"Positions\".y AS \"Positions_y\" \n",
      "FROM \"Positions\" \n",
      "WHERE \"Positions\".id = ?\n",
      "2021-07-16 00:53:56,644 INFO sqlalchemy.engine.Engine [cached since 0.119s ago] (27,)\n",
      "Borehole geometry created successfully !\n",
      "2021-07-16 00:53:56,653 INFO sqlalchemy.engine.Engine UPDATE \"Boreholes\" SET length=? WHERE \"Boreholes\".id = ?\n",
      "2021-07-16 00:53:56,653 INFO sqlalchemy.engine.Engine [cached since 0.1013s ago] (100.0, 'BH003')\n",
      "2021-07-16 00:53:56,654 INFO sqlalchemy.engine.Engine INSERT INTO \"Boreholes\" (id, length, diameter) VALUES (?, ?, ?)\n",
      "2021-07-16 00:53:56,655 INFO sqlalchemy.engine.Engine [cached since 0.1641s ago] ('BH004', 26.0, 0.61)\n",
      "2021-07-16 00:53:56,656 INFO sqlalchemy.engine.Engine INSERT INTO \"Positions\" (id, upper, middle, lower, x, y) VALUES (?, ?, ?, ?, ?, ?)\n",
      "2021-07-16 00:53:56,657 INFO sqlalchemy.engine.Engine [cached since 0.1618s ago] ((28, 101.0, 101.0, 101.0, 152766.0, 121494.0), (29, 96.0, 96.0, 96.0, 152766.0, 121494.0), (30, 96.0, 96.0, 96.0, 152766.0, 121494.0), (31, 94.0, 94.0, 94.0, 152766.0, 121494.0), (32, 94.0, 94.0, 94.0, 152766.0, 121494.0), (33, 87.0, 87.0, 87.0, 152766.0, 121494.0), (34, 87.0, 87.0, 87.0, 152766.0, 121494.0), (35, 85.0, 85.0, 85.0, 152766.0, 121494.0), (36, 85.0, 85.0, 85.0, 152766.0, 121494.0), (37, 75.0, 75.0, 75.0, 152766.0, 121494.0))\n",
      "2021-07-16 00:53:56,659 INFO sqlalchemy.engine.Engine INSERT INTO \"Intervals\" (id, borehole, interval_number, description, top_id, base_id, data_id) VALUES (?, ?, ?, ?, ?, ?, ?)\n",
      "2021-07-16 00:53:56,660 INFO sqlalchemy.engine.Engine [cached since 0.1611s ago] ((14, 'BH004', 0, 'Sable VR VS', 28, 29, None), (15, 'BH004', 1, 'Argile VS VR', 30, 31, None), (16, 'BH004', 2, 'Marne VI VS', 32, 33, None), (17, 'BH004', 3, 'Charbon VS VS', 34, 35, None), (18, 'BH004', 4, 'Dolomie VI VS', 36, 37, None))\n",
      "2021-07-16 00:53:56,662 INFO sqlalchemy.engine.Engine COMMIT\n",
      "2021-07-16 00:53:56,666 INFO sqlalchemy.engine.Engine BEGIN (implicit)\n",
      "2021-07-16 00:53:56,666 INFO sqlalchemy.engine.Engine SELECT \"Boreholes\".id AS \"Boreholes_id\", \"Boreholes\".length AS \"Boreholes_length\", \"Boreholes\".diameter AS \"Boreholes_diameter\" \n",
      "FROM \"Boreholes\"\n",
      "2021-07-16 00:53:56,667 INFO sqlalchemy.engine.Engine [cached since 0.1979s ago] ()\n",
      "2021-07-16 00:53:56,669 INFO sqlalchemy.engine.Engine SELECT \"Intervals\".id AS \"Intervals_id\", \"Intervals\".borehole AS \"Intervals_borehole\", \"Intervals\".interval_number AS \"Intervals_interval_number\", \"Intervals\".description AS \"Intervals_description\", \"Intervals\".top_id AS \"Intervals_top_id\", \"Intervals\".base_id AS \"Intervals_base_id\", \"Intervals\".data_id AS \"Intervals_data_id\" \n",
      "FROM \"Intervals\" \n",
      "WHERE ? = \"Intervals\".borehole\n",
      "2021-07-16 00:53:56,670 INFO sqlalchemy.engine.Engine [cached since 0.1561s ago] ('BH004',)\n",
      "2021-07-16 00:53:56,672 INFO sqlalchemy.engine.Engine SELECT \"Positions\".id AS \"Positions_id\", \"Positions\".upper AS \"Positions_upper\", \"Positions\".middle AS \"Positions_middle\", \"Positions\".lower AS \"Positions_lower\", \"Positions\".x AS \"Positions_x\", \"Positions\".y AS \"Positions_y\" \n",
      "FROM \"Positions\" \n",
      "WHERE \"Positions\".id = ?\n",
      "2021-07-16 00:53:56,672 INFO sqlalchemy.engine.Engine [cached since 0.1505s ago] (28,)\n",
      "2021-07-16 00:53:56,674 INFO sqlalchemy.engine.Engine SELECT \"Positions\".id AS \"Positions_id\", \"Positions\".upper AS \"Positions_upper\", \"Positions\".middle AS \"Positions_middle\", \"Positions\".lower AS \"Positions_lower\", \"Positions\".x AS \"Positions_x\", \"Positions\".y AS \"Positions_y\" \n",
      "FROM \"Positions\" \n",
      "WHERE \"Positions\".id = ?\n",
      "2021-07-16 00:53:56,674 INFO sqlalchemy.engine.Engine [cached since 0.1494s ago] (29,)\n",
      "2021-07-16 00:53:56,676 INFO sqlalchemy.engine.Engine SELECT \"Positions\".id AS \"Positions_id\", \"Positions\".upper AS \"Positions_upper\", \"Positions\".middle AS \"Positions_middle\", \"Positions\".lower AS \"Positions_lower\", \"Positions\".x AS \"Positions_x\", \"Positions\".y AS \"Positions_y\" \n",
      "FROM \"Positions\" \n",
      "WHERE \"Positions\".id = ?\n",
      "2021-07-16 00:53:56,677 INFO sqlalchemy.engine.Engine [cached since 0.1555s ago] (30,)\n",
      "2021-07-16 00:53:56,680 INFO sqlalchemy.engine.Engine SELECT \"Positions\".id AS \"Positions_id\", \"Positions\".upper AS \"Positions_upper\", \"Positions\".middle AS \"Positions_middle\", \"Positions\".lower AS \"Positions_lower\", \"Positions\".x AS \"Positions_x\", \"Positions\".y AS \"Positions_y\" \n",
      "FROM \"Positions\" \n",
      "WHERE \"Positions\".id = ?\n",
      "2021-07-16 00:53:56,680 INFO sqlalchemy.engine.Engine [cached since 0.1554s ago] (31,)\n",
      "2021-07-16 00:53:56,682 INFO sqlalchemy.engine.Engine SELECT \"Positions\".id AS \"Positions_id\", \"Positions\".upper AS \"Positions_upper\", \"Positions\".middle AS \"Positions_middle\", \"Positions\".lower AS \"Positions_lower\", \"Positions\".x AS \"Positions_x\", \"Positions\".y AS \"Positions_y\" \n",
      "FROM \"Positions\" \n",
      "WHERE \"Positions\".id = ?\n",
      "2021-07-16 00:53:56,683 INFO sqlalchemy.engine.Engine [cached since 0.1614s ago] (32,)\n",
      "2021-07-16 00:53:56,685 INFO sqlalchemy.engine.Engine SELECT \"Positions\".id AS \"Positions_id\", \"Positions\".upper AS \"Positions_upper\", \"Positions\".middle AS \"Positions_middle\", \"Positions\".lower AS \"Positions_lower\", \"Positions\".x AS \"Positions_x\", \"Positions\".y AS \"Positions_y\" \n",
      "FROM \"Positions\" \n",
      "WHERE \"Positions\".id = ?\n",
      "2021-07-16 00:53:56,686 INFO sqlalchemy.engine.Engine [cached since 0.1609s ago] (33,)\n",
      "2021-07-16 00:53:56,688 INFO sqlalchemy.engine.Engine SELECT \"Positions\".id AS \"Positions_id\", \"Positions\".upper AS \"Positions_upper\", \"Positions\".middle AS \"Positions_middle\", \"Positions\".lower AS \"Positions_lower\", \"Positions\".x AS \"Positions_x\", \"Positions\".y AS \"Positions_y\" \n",
      "FROM \"Positions\" \n",
      "WHERE \"Positions\".id = ?\n",
      "2021-07-16 00:53:56,688 INFO sqlalchemy.engine.Engine [cached since 0.1665s ago] (34,)\n",
      "2021-07-16 00:53:56,690 INFO sqlalchemy.engine.Engine SELECT \"Positions\".id AS \"Positions_id\", \"Positions\".upper AS \"Positions_upper\", \"Positions\".middle AS \"Positions_middle\", \"Positions\".lower AS \"Positions_lower\", \"Positions\".x AS \"Positions_x\", \"Positions\".y AS \"Positions_y\" \n",
      "FROM \"Positions\" \n",
      "WHERE \"Positions\".id = ?\n",
      "2021-07-16 00:53:56,691 INFO sqlalchemy.engine.Engine [cached since 0.1657s ago] (35,)\n",
      "2021-07-16 00:53:56,693 INFO sqlalchemy.engine.Engine SELECT \"Positions\".id AS \"Positions_id\", \"Positions\".upper AS \"Positions_upper\", \"Positions\".middle AS \"Positions_middle\", \"Positions\".lower AS \"Positions_lower\", \"Positions\".x AS \"Positions_x\", \"Positions\".y AS \"Positions_y\" \n",
      "FROM \"Positions\" \n",
      "WHERE \"Positions\".id = ?\n"
     ]
    },
    {
     "name": "stdout",
     "output_type": "stream",
     "text": [
      "2021-07-16 00:53:56,694 INFO sqlalchemy.engine.Engine [cached since 0.1719s ago] (36,)\n",
      "2021-07-16 00:53:56,696 INFO sqlalchemy.engine.Engine SELECT \"Positions\".id AS \"Positions_id\", \"Positions\".upper AS \"Positions_upper\", \"Positions\".middle AS \"Positions_middle\", \"Positions\".lower AS \"Positions_lower\", \"Positions\".x AS \"Positions_x\", \"Positions\".y AS \"Positions_y\" \n",
      "FROM \"Positions\" \n",
      "WHERE \"Positions\".id = ?\n",
      "2021-07-16 00:53:56,697 INFO sqlalchemy.engine.Engine [cached since 0.1717s ago] (37,)\n",
      "Borehole geometry created successfully !\n",
      "2021-07-16 00:53:56,707 INFO sqlalchemy.engine.Engine UPDATE \"Boreholes\" SET length=? WHERE \"Boreholes\".id = ?\n",
      "2021-07-16 00:53:56,708 INFO sqlalchemy.engine.Engine [cached since 0.1558s ago] (96.0, 'BH004')\n",
      "2021-07-16 00:53:56,709 INFO sqlalchemy.engine.Engine INSERT INTO \"Boreholes\" (id, length, diameter) VALUES (?, ?, ?)\n",
      "2021-07-16 00:53:56,710 INFO sqlalchemy.engine.Engine [cached since 0.2195s ago] ('BH005', 32.0, 0.61)\n",
      "2021-07-16 00:53:56,712 INFO sqlalchemy.engine.Engine INSERT INTO \"Positions\" (id, upper, middle, lower, x, y) VALUES (?, ?, ?, ?, ?, ?)\n",
      "2021-07-16 00:53:56,713 INFO sqlalchemy.engine.Engine [cached since 0.2175s ago] ((38, 101.0, 101.0, 101.0, 152473.0, 121460.0), (39, 97.0, 97.0, 97.0, 152473.0, 121460.0), (40, 97.0, 97.0, 97.0, 152473.0, 121460.0), (41, 93.0, 93.0, 93.0, 152473.0, 121460.0), (42, 93.0, 93.0, 93.0, 152473.0, 121460.0), (43, 82.0, 82.0, 82.0, 152473.0, 121460.0), (44, 82.0, 82.0, 82.0, 152473.0, 121460.0), (45, 74.0, 74.0, 74.0, 152473.0, 121460.0)  ... displaying 10 of 12 total bound parameter sets ...  (48, 72.0, 72.0, 72.0, 152473.0, 121460.0), (49, 69.0, 69.0, 69.0, 152473.0, 121460.0))\n",
      "2021-07-16 00:53:56,715 INFO sqlalchemy.engine.Engine INSERT INTO \"Intervals\" (id, borehole, interval_number, description, top_id, base_id, data_id) VALUES (?, ?, ?, ?, ?, ?, ?)\n",
      "2021-07-16 00:53:56,716 INFO sqlalchemy.engine.Engine [cached since 0.217s ago] ((19, 'BH005', 0, 'Sable VI VI', 38, 39, None), (20, 'BH005', 1, 'Argile VI VR', 40, 41, None), (21, 'BH005', 2, 'Marne VR VR', 42, 43, None), (22, 'BH005', 3, 'Charbon VR VR', 44, 45, None), (23, 'BH005', 4, 'Dolomie VS VI', 46, 47, None), (24, 'BH005', 5, 'Schiste VR mg/l', 48, 49, None))\n",
      "2021-07-16 00:53:56,718 INFO sqlalchemy.engine.Engine COMMIT\n",
      "2021-07-16 00:53:56,722 INFO sqlalchemy.engine.Engine BEGIN (implicit)\n",
      "2021-07-16 00:53:56,724 INFO sqlalchemy.engine.Engine SELECT \"Boreholes\".id AS \"Boreholes_id\", \"Boreholes\".length AS \"Boreholes_length\", \"Boreholes\".diameter AS \"Boreholes_diameter\" \n",
      "FROM \"Boreholes\"\n",
      "2021-07-16 00:53:56,724 INFO sqlalchemy.engine.Engine [cached since 0.2549s ago] ()\n",
      "2021-07-16 00:53:56,727 INFO sqlalchemy.engine.Engine SELECT \"Intervals\".id AS \"Intervals_id\", \"Intervals\".borehole AS \"Intervals_borehole\", \"Intervals\".interval_number AS \"Intervals_interval_number\", \"Intervals\".description AS \"Intervals_description\", \"Intervals\".top_id AS \"Intervals_top_id\", \"Intervals\".base_id AS \"Intervals_base_id\", \"Intervals\".data_id AS \"Intervals_data_id\" \n",
      "FROM \"Intervals\" \n",
      "WHERE ? = \"Intervals\".borehole\n",
      "2021-07-16 00:53:56,727 INFO sqlalchemy.engine.Engine [cached since 0.2137s ago] ('BH005',)\n",
      "2021-07-16 00:53:56,730 INFO sqlalchemy.engine.Engine SELECT \"Positions\".id AS \"Positions_id\", \"Positions\".upper AS \"Positions_upper\", \"Positions\".middle AS \"Positions_middle\", \"Positions\".lower AS \"Positions_lower\", \"Positions\".x AS \"Positions_x\", \"Positions\".y AS \"Positions_y\" \n",
      "FROM \"Positions\" \n",
      "WHERE \"Positions\".id = ?\n",
      "2021-07-16 00:53:56,730 INFO sqlalchemy.engine.Engine [cached since 0.2086s ago] (38,)\n",
      "2021-07-16 00:53:56,732 INFO sqlalchemy.engine.Engine SELECT \"Positions\".id AS \"Positions_id\", \"Positions\".upper AS \"Positions_upper\", \"Positions\".middle AS \"Positions_middle\", \"Positions\".lower AS \"Positions_lower\", \"Positions\".x AS \"Positions_x\", \"Positions\".y AS \"Positions_y\" \n",
      "FROM \"Positions\" \n",
      "WHERE \"Positions\".id = ?\n",
      "2021-07-16 00:53:56,733 INFO sqlalchemy.engine.Engine [cached since 0.2082s ago] (39,)\n",
      "2021-07-16 00:53:56,736 INFO sqlalchemy.engine.Engine SELECT \"Positions\".id AS \"Positions_id\", \"Positions\".upper AS \"Positions_upper\", \"Positions\".middle AS \"Positions_middle\", \"Positions\".lower AS \"Positions_lower\", \"Positions\".x AS \"Positions_x\", \"Positions\".y AS \"Positions_y\" \n",
      "FROM \"Positions\" \n",
      "WHERE \"Positions\".id = ?\n",
      "2021-07-16 00:53:56,736 INFO sqlalchemy.engine.Engine [cached since 0.2146s ago] (40,)\n",
      "2021-07-16 00:53:56,738 INFO sqlalchemy.engine.Engine SELECT \"Positions\".id AS \"Positions_id\", \"Positions\".upper AS \"Positions_upper\", \"Positions\".middle AS \"Positions_middle\", \"Positions\".lower AS \"Positions_lower\", \"Positions\".x AS \"Positions_x\", \"Positions\".y AS \"Positions_y\" \n",
      "FROM \"Positions\" \n",
      "WHERE \"Positions\".id = ?\n",
      "2021-07-16 00:53:56,739 INFO sqlalchemy.engine.Engine [cached since 0.2137s ago] (41,)\n",
      "2021-07-16 00:53:56,740 INFO sqlalchemy.engine.Engine SELECT \"Positions\".id AS \"Positions_id\", \"Positions\".upper AS \"Positions_upper\", \"Positions\".middle AS \"Positions_middle\", \"Positions\".lower AS \"Positions_lower\", \"Positions\".x AS \"Positions_x\", \"Positions\".y AS \"Positions_y\" \n",
      "FROM \"Positions\" \n",
      "WHERE \"Positions\".id = ?\n",
      "2021-07-16 00:53:56,740 INFO sqlalchemy.engine.Engine [cached since 0.2187s ago] (42,)\n",
      "2021-07-16 00:53:56,742 INFO sqlalchemy.engine.Engine SELECT \"Positions\".id AS \"Positions_id\", \"Positions\".upper AS \"Positions_upper\", \"Positions\".middle AS \"Positions_middle\", \"Positions\".lower AS \"Positions_lower\", \"Positions\".x AS \"Positions_x\", \"Positions\".y AS \"Positions_y\" \n",
      "FROM \"Positions\" \n",
      "WHERE \"Positions\".id = ?\n",
      "2021-07-16 00:53:56,743 INFO sqlalchemy.engine.Engine [cached since 0.2177s ago] (43,)\n",
      "2021-07-16 00:53:56,744 INFO sqlalchemy.engine.Engine SELECT \"Positions\".id AS \"Positions_id\", \"Positions\".upper AS \"Positions_upper\", \"Positions\".middle AS \"Positions_middle\", \"Positions\".lower AS \"Positions_lower\", \"Positions\".x AS \"Positions_x\", \"Positions\".y AS \"Positions_y\" \n",
      "FROM \"Positions\" \n",
      "WHERE \"Positions\".id = ?\n",
      "2021-07-16 00:53:56,744 INFO sqlalchemy.engine.Engine [cached since 0.2228s ago] (44,)\n",
      "2021-07-16 00:53:56,746 INFO sqlalchemy.engine.Engine SELECT \"Positions\".id AS \"Positions_id\", \"Positions\".upper AS \"Positions_upper\", \"Positions\".middle AS \"Positions_middle\", \"Positions\".lower AS \"Positions_lower\", \"Positions\".x AS \"Positions_x\", \"Positions\".y AS \"Positions_y\" \n",
      "FROM \"Positions\" \n",
      "WHERE \"Positions\".id = ?\n",
      "2021-07-16 00:53:56,746 INFO sqlalchemy.engine.Engine [cached since 0.2217s ago] (45,)\n",
      "2021-07-16 00:53:56,748 INFO sqlalchemy.engine.Engine SELECT \"Positions\".id AS \"Positions_id\", \"Positions\".upper AS \"Positions_upper\", \"Positions\".middle AS \"Positions_middle\", \"Positions\".lower AS \"Positions_lower\", \"Positions\".x AS \"Positions_x\", \"Positions\".y AS \"Positions_y\" \n",
      "FROM \"Positions\" \n",
      "WHERE \"Positions\".id = ?\n",
      "2021-07-16 00:53:56,749 INFO sqlalchemy.engine.Engine [cached since 0.2272s ago] (46,)\n",
      "2021-07-16 00:53:56,751 INFO sqlalchemy.engine.Engine SELECT \"Positions\".id AS \"Positions_id\", \"Positions\".upper AS \"Positions_upper\", \"Positions\".middle AS \"Positions_middle\", \"Positions\".lower AS \"Positions_lower\", \"Positions\".x AS \"Positions_x\", \"Positions\".y AS \"Positions_y\" \n",
      "FROM \"Positions\" \n",
      "WHERE \"Positions\".id = ?\n",
      "2021-07-16 00:53:56,752 INFO sqlalchemy.engine.Engine [cached since 0.2268s ago] (47,)\n",
      "2021-07-16 00:53:56,754 INFO sqlalchemy.engine.Engine SELECT \"Positions\".id AS \"Positions_id\", \"Positions\".upper AS \"Positions_upper\", \"Positions\".middle AS \"Positions_middle\", \"Positions\".lower AS \"Positions_lower\", \"Positions\".x AS \"Positions_x\", \"Positions\".y AS \"Positions_y\" \n",
      "FROM \"Positions\" \n",
      "WHERE \"Positions\".id = ?\n",
      "2021-07-16 00:53:56,754 INFO sqlalchemy.engine.Engine [cached since 0.2328s ago] (48,)\n",
      "2021-07-16 00:53:56,756 INFO sqlalchemy.engine.Engine SELECT \"Positions\".id AS \"Positions_id\", \"Positions\".upper AS \"Positions_upper\", \"Positions\".middle AS \"Positions_middle\", \"Positions\".lower AS \"Positions_lower\", \"Positions\".x AS \"Positions_x\", \"Positions\".y AS \"Positions_y\" \n",
      "FROM \"Positions\" \n",
      "WHERE \"Positions\".id = ?\n",
      "2021-07-16 00:53:56,757 INFO sqlalchemy.engine.Engine [cached since 0.2322s ago] (49,)\n",
      "Borehole geometry created successfully !\n",
      "2021-07-16 00:53:56,766 INFO sqlalchemy.engine.Engine UPDATE \"Boreholes\" SET length=? WHERE \"Boreholes\".id = ?\n"
     ]
    },
    {
     "name": "stdout",
     "output_type": "stream",
     "text": [
      "2021-07-16 00:53:56,766 INFO sqlalchemy.engine.Engine [cached since 0.2147s ago] (97.0, 'BH005')\n",
      "2021-07-16 00:53:56,768 INFO sqlalchemy.engine.Engine INSERT INTO \"Boreholes\" (id, length, diameter) VALUES (?, ?, ?)\n",
      "2021-07-16 00:53:56,768 INFO sqlalchemy.engine.Engine [cached since 0.278s ago] ('BH006', 26.0, 0.31)\n",
      "2021-07-16 00:53:56,770 INFO sqlalchemy.engine.Engine INSERT INTO \"Positions\" (id, upper, middle, lower, x, y) VALUES (?, ?, ?, ?, ?, ?)\n",
      "2021-07-16 00:53:56,770 INFO sqlalchemy.engine.Engine [cached since 0.2753s ago] ((50, 101.0, 101.0, 101.0, 152375.0, 121002.0), (51, 100.0, 100.0, 100.0, 152375.0, 121002.0), (52, 100.0, 100.0, 100.0, 152375.0, 121002.0), (53, 98.0, 98.0, 98.0, 152375.0, 121002.0), (54, 98.0, 98.0, 98.0, 152375.0, 121002.0), (55, 92.0, 92.0, 92.0, 152375.0, 121002.0), (56, 92.0, 92.0, 92.0, 152375.0, 121002.0), (57, 86.0, 86.0, 86.0, 152375.0, 121002.0), (58, 86.0, 86.0, 86.0, 152375.0, 121002.0), (59, 75.0, 75.0, 75.0, 152375.0, 121002.0))\n",
      "2021-07-16 00:53:56,772 INFO sqlalchemy.engine.Engine INSERT INTO \"Intervals\" (id, borehole, interval_number, description, top_id, base_id, data_id) VALUES (?, ?, ?, ?, ?, ?, ?)\n",
      "2021-07-16 00:53:56,773 INFO sqlalchemy.engine.Engine [cached since 0.2745s ago] ((25, 'BH006', 0, 'Sable VI VS', 50, 51, None), (26, 'BH006', 1, 'Argile VR VS', 52, 53, None), (27, 'BH006', 2, 'Marne VS VR', 54, 55, None), (28, 'BH006', 3, 'Charbon VS VS', 56, 57, None), (29, 'BH006', 4, 'Dolomie VI VR', 58, 59, None))\n",
      "2021-07-16 00:53:56,775 INFO sqlalchemy.engine.Engine COMMIT\n",
      "2021-07-16 00:53:56,780 INFO sqlalchemy.engine.Engine BEGIN (implicit)\n",
      "2021-07-16 00:53:56,781 INFO sqlalchemy.engine.Engine SELECT \"Boreholes\".id AS \"Boreholes_id\", \"Boreholes\".length AS \"Boreholes_length\", \"Boreholes\".diameter AS \"Boreholes_diameter\" \n",
      "FROM \"Boreholes\"\n",
      "2021-07-16 00:53:56,781 INFO sqlalchemy.engine.Engine [cached since 0.3119s ago] ()\n",
      "2021-07-16 00:53:56,783 INFO sqlalchemy.engine.Engine SELECT \"Intervals\".id AS \"Intervals_id\", \"Intervals\".borehole AS \"Intervals_borehole\", \"Intervals\".interval_number AS \"Intervals_interval_number\", \"Intervals\".description AS \"Intervals_description\", \"Intervals\".top_id AS \"Intervals_top_id\", \"Intervals\".base_id AS \"Intervals_base_id\", \"Intervals\".data_id AS \"Intervals_data_id\" \n",
      "FROM \"Intervals\" \n",
      "WHERE ? = \"Intervals\".borehole\n",
      "2021-07-16 00:53:56,784 INFO sqlalchemy.engine.Engine [cached since 0.2707s ago] ('BH006',)\n",
      "2021-07-16 00:53:56,786 INFO sqlalchemy.engine.Engine SELECT \"Positions\".id AS \"Positions_id\", \"Positions\".upper AS \"Positions_upper\", \"Positions\".middle AS \"Positions_middle\", \"Positions\".lower AS \"Positions_lower\", \"Positions\".x AS \"Positions_x\", \"Positions\".y AS \"Positions_y\" \n",
      "FROM \"Positions\" \n",
      "WHERE \"Positions\".id = ?\n",
      "2021-07-16 00:53:56,787 INFO sqlalchemy.engine.Engine [cached since 0.2654s ago] (50,)\n",
      "2021-07-16 00:53:56,789 INFO sqlalchemy.engine.Engine SELECT \"Positions\".id AS \"Positions_id\", \"Positions\".upper AS \"Positions_upper\", \"Positions\".middle AS \"Positions_middle\", \"Positions\".lower AS \"Positions_lower\", \"Positions\".x AS \"Positions_x\", \"Positions\".y AS \"Positions_y\" \n",
      "FROM \"Positions\" \n",
      "WHERE \"Positions\".id = ?\n",
      "2021-07-16 00:53:56,790 INFO sqlalchemy.engine.Engine [cached since 0.2648s ago] (51,)\n",
      "2021-07-16 00:53:56,792 INFO sqlalchemy.engine.Engine SELECT \"Positions\".id AS \"Positions_id\", \"Positions\".upper AS \"Positions_upper\", \"Positions\".middle AS \"Positions_middle\", \"Positions\".lower AS \"Positions_lower\", \"Positions\".x AS \"Positions_x\", \"Positions\".y AS \"Positions_y\" \n",
      "FROM \"Positions\" \n",
      "WHERE \"Positions\".id = ?\n",
      "2021-07-16 00:53:56,792 INFO sqlalchemy.engine.Engine [cached since 0.2705s ago] (52,)\n",
      "2021-07-16 00:53:56,793 INFO sqlalchemy.engine.Engine SELECT \"Positions\".id AS \"Positions_id\", \"Positions\".upper AS \"Positions_upper\", \"Positions\".middle AS \"Positions_middle\", \"Positions\".lower AS \"Positions_lower\", \"Positions\".x AS \"Positions_x\", \"Positions\".y AS \"Positions_y\" \n",
      "FROM \"Positions\" \n",
      "WHERE \"Positions\".id = ?\n",
      "2021-07-16 00:53:56,794 INFO sqlalchemy.engine.Engine [cached since 0.2693s ago] (53,)\n",
      "2021-07-16 00:53:56,796 INFO sqlalchemy.engine.Engine SELECT \"Positions\".id AS \"Positions_id\", \"Positions\".upper AS \"Positions_upper\", \"Positions\".middle AS \"Positions_middle\", \"Positions\".lower AS \"Positions_lower\", \"Positions\".x AS \"Positions_x\", \"Positions\".y AS \"Positions_y\" \n",
      "FROM \"Positions\" \n",
      "WHERE \"Positions\".id = ?\n",
      "2021-07-16 00:53:56,796 INFO sqlalchemy.engine.Engine [cached since 0.2747s ago] (54,)\n",
      "2021-07-16 00:53:56,798 INFO sqlalchemy.engine.Engine SELECT \"Positions\".id AS \"Positions_id\", \"Positions\".upper AS \"Positions_upper\", \"Positions\".middle AS \"Positions_middle\", \"Positions\".lower AS \"Positions_lower\", \"Positions\".x AS \"Positions_x\", \"Positions\".y AS \"Positions_y\" \n",
      "FROM \"Positions\" \n",
      "WHERE \"Positions\".id = ?\n",
      "2021-07-16 00:53:56,799 INFO sqlalchemy.engine.Engine [cached since 0.2737s ago] (55,)\n",
      "2021-07-16 00:53:56,800 INFO sqlalchemy.engine.Engine SELECT \"Positions\".id AS \"Positions_id\", \"Positions\".upper AS \"Positions_upper\", \"Positions\".middle AS \"Positions_middle\", \"Positions\".lower AS \"Positions_lower\", \"Positions\".x AS \"Positions_x\", \"Positions\".y AS \"Positions_y\" \n",
      "FROM \"Positions\" \n",
      "WHERE \"Positions\".id = ?\n",
      "2021-07-16 00:53:56,801 INFO sqlalchemy.engine.Engine [cached since 0.2791s ago] (56,)\n",
      "2021-07-16 00:53:56,802 INFO sqlalchemy.engine.Engine SELECT \"Positions\".id AS \"Positions_id\", \"Positions\".upper AS \"Positions_upper\", \"Positions\".middle AS \"Positions_middle\", \"Positions\".lower AS \"Positions_lower\", \"Positions\".x AS \"Positions_x\", \"Positions\".y AS \"Positions_y\" \n",
      "FROM \"Positions\" \n",
      "WHERE \"Positions\".id = ?\n",
      "2021-07-16 00:53:56,802 INFO sqlalchemy.engine.Engine [cached since 0.2774s ago] (57,)\n",
      "2021-07-16 00:53:56,803 INFO sqlalchemy.engine.Engine SELECT \"Positions\".id AS \"Positions_id\", \"Positions\".upper AS \"Positions_upper\", \"Positions\".middle AS \"Positions_middle\", \"Positions\".lower AS \"Positions_lower\", \"Positions\".x AS \"Positions_x\", \"Positions\".y AS \"Positions_y\" \n",
      "FROM \"Positions\" \n",
      "WHERE \"Positions\".id = ?\n",
      "2021-07-16 00:53:56,804 INFO sqlalchemy.engine.Engine [cached since 0.2823s ago] (58,)\n",
      "2021-07-16 00:53:56,806 INFO sqlalchemy.engine.Engine SELECT \"Positions\".id AS \"Positions_id\", \"Positions\".upper AS \"Positions_upper\", \"Positions\".middle AS \"Positions_middle\", \"Positions\".lower AS \"Positions_lower\", \"Positions\".x AS \"Positions_x\", \"Positions\".y AS \"Positions_y\" \n",
      "FROM \"Positions\" \n",
      "WHERE \"Positions\".id = ?\n",
      "2021-07-16 00:53:56,807 INFO sqlalchemy.engine.Engine [cached since 0.282s ago] (59,)\n",
      "Borehole geometry created successfully !\n",
      "2021-07-16 00:53:56,823 INFO sqlalchemy.engine.Engine UPDATE \"Boreholes\" SET length=? WHERE \"Boreholes\".id = ?\n",
      "2021-07-16 00:53:56,823 INFO sqlalchemy.engine.Engine [cached since 0.2714s ago] (100.0, 'BH006')\n",
      "2021-07-16 00:53:56,824 INFO sqlalchemy.engine.Engine INSERT INTO \"Boreholes\" (id, length, diameter) VALUES (?, ?, ?)\n",
      "2021-07-16 00:53:56,825 INFO sqlalchemy.engine.Engine [cached since 0.3342s ago] ('BH007', 45.0, 0.57)\n",
      "2021-07-16 00:53:56,826 INFO sqlalchemy.engine.Engine INSERT INTO \"Positions\" (id, upper, middle, lower, x, y) VALUES (?, ?, ?, ?, ?, ?)\n",
      "2021-07-16 00:53:56,826 INFO sqlalchemy.engine.Engine [cached since 0.331s ago] ((60, 101.0, 101.0, 101.0, 152794.0, 121111.0), (61, 97.0, 97.0, 97.0, 152794.0, 121111.0), (62, 97.0, 97.0, 97.0, 152794.0, 121111.0), (63, 93.0, 93.0, 93.0, 152794.0, 121111.0), (64, 93.0, 93.0, 93.0, 152794.0, 121111.0), (65, 83.0, 83.0, 83.0, 152794.0, 121111.0), (66, 83.0, 83.0, 83.0, 152794.0, 121111.0), (67, 82.0, 82.0, 82.0, 152794.0, 121111.0)  ... displaying 10 of 12 total bound parameter sets ...  (70, 60.0, 60.0, 60.0, 152794.0, 121111.0), (71, 56.0, 56.0, 56.0, 152794.0, 121111.0))\n",
      "2021-07-16 00:53:56,829 INFO sqlalchemy.engine.Engine INSERT INTO \"Intervals\" (id, borehole, interval_number, description, top_id, base_id, data_id) VALUES (?, ?, ?, ?, ?, ?, ?)\n",
      "2021-07-16 00:53:56,830 INFO sqlalchemy.engine.Engine [cached since 0.331s ago] ((30, 'BH007', 0, 'Sable VS VS', 60, 61, None), (31, 'BH007', 1, 'Argile VI VI', 62, 63, None), (32, 'BH007', 2, 'Marne VI VR', 64, 65, None), (33, 'BH007', 3, 'Charbon VS VI', 66, 67, None), (34, 'BH007', 4, 'Dolomie VR VS', 68, 69, None), (35, 'BH007', 5, 'Calcaire VR mg/l', 70, 71, None))\n"
     ]
    },
    {
     "name": "stdout",
     "output_type": "stream",
     "text": [
      "2021-07-16 00:53:56,831 INFO sqlalchemy.engine.Engine COMMIT\n",
      "2021-07-16 00:53:56,834 INFO sqlalchemy.engine.Engine BEGIN (implicit)\n",
      "2021-07-16 00:53:56,835 INFO sqlalchemy.engine.Engine SELECT \"Boreholes\".id AS \"Boreholes_id\", \"Boreholes\".length AS \"Boreholes_length\", \"Boreholes\".diameter AS \"Boreholes_diameter\" \n",
      "FROM \"Boreholes\"\n",
      "2021-07-16 00:53:56,836 INFO sqlalchemy.engine.Engine [cached since 0.3663s ago] ()\n",
      "2021-07-16 00:53:56,838 INFO sqlalchemy.engine.Engine SELECT \"Intervals\".id AS \"Intervals_id\", \"Intervals\".borehole AS \"Intervals_borehole\", \"Intervals\".interval_number AS \"Intervals_interval_number\", \"Intervals\".description AS \"Intervals_description\", \"Intervals\".top_id AS \"Intervals_top_id\", \"Intervals\".base_id AS \"Intervals_base_id\", \"Intervals\".data_id AS \"Intervals_data_id\" \n",
      "FROM \"Intervals\" \n",
      "WHERE ? = \"Intervals\".borehole\n",
      "2021-07-16 00:53:56,838 INFO sqlalchemy.engine.Engine [cached since 0.3247s ago] ('BH007',)\n",
      "2021-07-16 00:53:56,840 INFO sqlalchemy.engine.Engine SELECT \"Positions\".id AS \"Positions_id\", \"Positions\".upper AS \"Positions_upper\", \"Positions\".middle AS \"Positions_middle\", \"Positions\".lower AS \"Positions_lower\", \"Positions\".x AS \"Positions_x\", \"Positions\".y AS \"Positions_y\" \n",
      "FROM \"Positions\" \n",
      "WHERE \"Positions\".id = ?\n",
      "2021-07-16 00:53:56,841 INFO sqlalchemy.engine.Engine [cached since 0.3192s ago] (60,)\n",
      "2021-07-16 00:53:56,842 INFO sqlalchemy.engine.Engine SELECT \"Positions\".id AS \"Positions_id\", \"Positions\".upper AS \"Positions_upper\", \"Positions\".middle AS \"Positions_middle\", \"Positions\".lower AS \"Positions_lower\", \"Positions\".x AS \"Positions_x\", \"Positions\".y AS \"Positions_y\" \n",
      "FROM \"Positions\" \n",
      "WHERE \"Positions\".id = ?\n",
      "2021-07-16 00:53:56,843 INFO sqlalchemy.engine.Engine [cached since 0.3182s ago] (61,)\n",
      "2021-07-16 00:53:56,845 INFO sqlalchemy.engine.Engine SELECT \"Positions\".id AS \"Positions_id\", \"Positions\".upper AS \"Positions_upper\", \"Positions\".middle AS \"Positions_middle\", \"Positions\".lower AS \"Positions_lower\", \"Positions\".x AS \"Positions_x\", \"Positions\".y AS \"Positions_y\" \n",
      "FROM \"Positions\" \n",
      "WHERE \"Positions\".id = ?\n",
      "2021-07-16 00:53:56,845 INFO sqlalchemy.engine.Engine [cached since 0.3238s ago] (62,)\n",
      "2021-07-16 00:53:56,847 INFO sqlalchemy.engine.Engine SELECT \"Positions\".id AS \"Positions_id\", \"Positions\".upper AS \"Positions_upper\", \"Positions\".middle AS \"Positions_middle\", \"Positions\".lower AS \"Positions_lower\", \"Positions\".x AS \"Positions_x\", \"Positions\".y AS \"Positions_y\" \n",
      "FROM \"Positions\" \n",
      "WHERE \"Positions\".id = ?\n",
      "2021-07-16 00:53:56,847 INFO sqlalchemy.engine.Engine [cached since 0.3222s ago] (63,)\n",
      "2021-07-16 00:53:56,848 INFO sqlalchemy.engine.Engine SELECT \"Positions\".id AS \"Positions_id\", \"Positions\".upper AS \"Positions_upper\", \"Positions\".middle AS \"Positions_middle\", \"Positions\".lower AS \"Positions_lower\", \"Positions\".x AS \"Positions_x\", \"Positions\".y AS \"Positions_y\" \n",
      "FROM \"Positions\" \n",
      "WHERE \"Positions\".id = ?\n",
      "2021-07-16 00:53:56,849 INFO sqlalchemy.engine.Engine [cached since 0.327s ago] (64,)\n",
      "2021-07-16 00:53:56,850 INFO sqlalchemy.engine.Engine SELECT \"Positions\".id AS \"Positions_id\", \"Positions\".upper AS \"Positions_upper\", \"Positions\".middle AS \"Positions_middle\", \"Positions\".lower AS \"Positions_lower\", \"Positions\".x AS \"Positions_x\", \"Positions\".y AS \"Positions_y\" \n",
      "FROM \"Positions\" \n",
      "WHERE \"Positions\".id = ?\n",
      "2021-07-16 00:53:56,851 INFO sqlalchemy.engine.Engine [cached since 0.3258s ago] (65,)\n",
      "2021-07-16 00:53:56,852 INFO sqlalchemy.engine.Engine SELECT \"Positions\".id AS \"Positions_id\", \"Positions\".upper AS \"Positions_upper\", \"Positions\".middle AS \"Positions_middle\", \"Positions\".lower AS \"Positions_lower\", \"Positions\".x AS \"Positions_x\", \"Positions\".y AS \"Positions_y\" \n",
      "FROM \"Positions\" \n",
      "WHERE \"Positions\".id = ?\n",
      "2021-07-16 00:53:56,853 INFO sqlalchemy.engine.Engine [cached since 0.3313s ago] (66,)\n",
      "2021-07-16 00:53:56,854 INFO sqlalchemy.engine.Engine SELECT \"Positions\".id AS \"Positions_id\", \"Positions\".upper AS \"Positions_upper\", \"Positions\".middle AS \"Positions_middle\", \"Positions\".lower AS \"Positions_lower\", \"Positions\".x AS \"Positions_x\", \"Positions\".y AS \"Positions_y\" \n",
      "FROM \"Positions\" \n",
      "WHERE \"Positions\".id = ?\n",
      "2021-07-16 00:53:56,855 INFO sqlalchemy.engine.Engine [cached since 0.3301s ago] (67,)\n",
      "2021-07-16 00:53:56,856 INFO sqlalchemy.engine.Engine SELECT \"Positions\".id AS \"Positions_id\", \"Positions\".upper AS \"Positions_upper\", \"Positions\".middle AS \"Positions_middle\", \"Positions\".lower AS \"Positions_lower\", \"Positions\".x AS \"Positions_x\", \"Positions\".y AS \"Positions_y\" \n",
      "FROM \"Positions\" \n",
      "WHERE \"Positions\".id = ?\n",
      "2021-07-16 00:53:56,857 INFO sqlalchemy.engine.Engine [cached since 0.335s ago] (68,)\n",
      "2021-07-16 00:53:56,858 INFO sqlalchemy.engine.Engine SELECT \"Positions\".id AS \"Positions_id\", \"Positions\".upper AS \"Positions_upper\", \"Positions\".middle AS \"Positions_middle\", \"Positions\".lower AS \"Positions_lower\", \"Positions\".x AS \"Positions_x\", \"Positions\".y AS \"Positions_y\" \n",
      "FROM \"Positions\" \n",
      "WHERE \"Positions\".id = ?\n",
      "2021-07-16 00:53:56,858 INFO sqlalchemy.engine.Engine [cached since 0.3336s ago] (69,)\n",
      "2021-07-16 00:53:56,859 INFO sqlalchemy.engine.Engine SELECT \"Positions\".id AS \"Positions_id\", \"Positions\".upper AS \"Positions_upper\", \"Positions\".middle AS \"Positions_middle\", \"Positions\".lower AS \"Positions_lower\", \"Positions\".x AS \"Positions_x\", \"Positions\".y AS \"Positions_y\" \n",
      "FROM \"Positions\" \n",
      "WHERE \"Positions\".id = ?\n",
      "2021-07-16 00:53:56,860 INFO sqlalchemy.engine.Engine [cached since 0.3386s ago] (70,)\n",
      "2021-07-16 00:53:56,862 INFO sqlalchemy.engine.Engine SELECT \"Positions\".id AS \"Positions_id\", \"Positions\".upper AS \"Positions_upper\", \"Positions\".middle AS \"Positions_middle\", \"Positions\".lower AS \"Positions_lower\", \"Positions\".x AS \"Positions_x\", \"Positions\".y AS \"Positions_y\" \n",
      "FROM \"Positions\" \n",
      "WHERE \"Positions\".id = ?\n",
      "2021-07-16 00:53:56,863 INFO sqlalchemy.engine.Engine [cached since 0.3381s ago] (71,)\n",
      "Borehole geometry created successfully !\n",
      "2021-07-16 00:53:56,874 INFO sqlalchemy.engine.Engine UPDATE \"Boreholes\" SET length=? WHERE \"Boreholes\".id = ?\n",
      "2021-07-16 00:53:56,875 INFO sqlalchemy.engine.Engine [cached since 0.3233s ago] (97.0, 'BH007')\n",
      "2021-07-16 00:53:56,876 INFO sqlalchemy.engine.Engine INSERT INTO \"Boreholes\" (id, length, diameter) VALUES (?, ?, ?)\n",
      "2021-07-16 00:53:56,876 INFO sqlalchemy.engine.Engine [cached since 0.3857s ago] ('BH008', 35.0, 0.39)\n",
      "2021-07-16 00:53:56,877 INFO sqlalchemy.engine.Engine INSERT INTO \"Positions\" (id, upper, middle, lower, x, y) VALUES (?, ?, ?, ?, ?, ?)\n",
      "2021-07-16 00:53:56,878 INFO sqlalchemy.engine.Engine [cached since 0.3826s ago] ((72, 101.0, 101.0, 101.0, 152150.0, 121579.0), (73, 98.0, 98.0, 98.0, 152150.0, 121579.0), (74, 98.0, 98.0, 98.0, 152150.0, 121579.0), (75, 97.0, 97.0, 97.0, 152150.0, 121579.0), (76, 97.0, 97.0, 97.0, 152150.0, 121579.0), (77, 91.0, 91.0, 91.0, 152150.0, 121579.0), (78, 91.0, 91.0, 91.0, 152150.0, 121579.0), (79, 86.0, 86.0, 86.0, 152150.0, 121579.0), (80, 86.0, 86.0, 86.0, 152150.0, 121579.0), (81, 66.0, 66.0, 66.0, 152150.0, 121579.0))\n",
      "2021-07-16 00:53:56,879 INFO sqlalchemy.engine.Engine INSERT INTO \"Intervals\" (id, borehole, interval_number, description, top_id, base_id, data_id) VALUES (?, ?, ?, ?, ?, ?, ?)\n",
      "2021-07-16 00:53:56,880 INFO sqlalchemy.engine.Engine [cached since 0.3811s ago] ((36, 'BH008', 0, 'Sable VS VI', 72, 73, None), (37, 'BH008', 1, 'Argile VR VS', 74, 75, None), (38, 'BH008', 2, 'Marne VS VI', 76, 77, None), (39, 'BH008', 3, 'Charbon VR VR', 78, 79, None), (40, 'BH008', 4, 'Dolomie VS VI', 80, 81, None))\n",
      "2021-07-16 00:53:56,881 INFO sqlalchemy.engine.Engine COMMIT\n",
      "2021-07-16 00:53:56,884 INFO sqlalchemy.engine.Engine BEGIN (implicit)\n",
      "2021-07-16 00:53:56,885 INFO sqlalchemy.engine.Engine SELECT \"Boreholes\".id AS \"Boreholes_id\", \"Boreholes\".length AS \"Boreholes_length\", \"Boreholes\".diameter AS \"Boreholes_diameter\" \n",
      "FROM \"Boreholes\"\n",
      "2021-07-16 00:53:56,886 INFO sqlalchemy.engine.Engine [cached since 0.4167s ago] ()\n",
      "2021-07-16 00:53:56,888 INFO sqlalchemy.engine.Engine SELECT \"Intervals\".id AS \"Intervals_id\", \"Intervals\".borehole AS \"Intervals_borehole\", \"Intervals\".interval_number AS \"Intervals_interval_number\", \"Intervals\".description AS \"Intervals_description\", \"Intervals\".top_id AS \"Intervals_top_id\", \"Intervals\".base_id AS \"Intervals_base_id\", \"Intervals\".data_id AS \"Intervals_data_id\" \n",
      "FROM \"Intervals\" \n",
      "WHERE ? = \"Intervals\".borehole\n"
     ]
    },
    {
     "name": "stdout",
     "output_type": "stream",
     "text": [
      "2021-07-16 00:53:56,889 INFO sqlalchemy.engine.Engine [cached since 0.3757s ago] ('BH008',)\n",
      "2021-07-16 00:53:56,891 INFO sqlalchemy.engine.Engine SELECT \"Positions\".id AS \"Positions_id\", \"Positions\".upper AS \"Positions_upper\", \"Positions\".middle AS \"Positions_middle\", \"Positions\".lower AS \"Positions_lower\", \"Positions\".x AS \"Positions_x\", \"Positions\".y AS \"Positions_y\" \n",
      "FROM \"Positions\" \n",
      "WHERE \"Positions\".id = ?\n",
      "2021-07-16 00:53:56,892 INFO sqlalchemy.engine.Engine [cached since 0.3703s ago] (72,)\n",
      "2021-07-16 00:53:56,893 INFO sqlalchemy.engine.Engine SELECT \"Positions\".id AS \"Positions_id\", \"Positions\".upper AS \"Positions_upper\", \"Positions\".middle AS \"Positions_middle\", \"Positions\".lower AS \"Positions_lower\", \"Positions\".x AS \"Positions_x\", \"Positions\".y AS \"Positions_y\" \n",
      "FROM \"Positions\" \n",
      "WHERE \"Positions\".id = ?\n",
      "2021-07-16 00:53:56,894 INFO sqlalchemy.engine.Engine [cached since 0.3691s ago] (73,)\n",
      "2021-07-16 00:53:56,896 INFO sqlalchemy.engine.Engine SELECT \"Positions\".id AS \"Positions_id\", \"Positions\".upper AS \"Positions_upper\", \"Positions\".middle AS \"Positions_middle\", \"Positions\".lower AS \"Positions_lower\", \"Positions\".x AS \"Positions_x\", \"Positions\".y AS \"Positions_y\" \n",
      "FROM \"Positions\" \n",
      "WHERE \"Positions\".id = ?\n",
      "2021-07-16 00:53:56,896 INFO sqlalchemy.engine.Engine [cached since 0.3745s ago] (74,)\n",
      "2021-07-16 00:53:56,897 INFO sqlalchemy.engine.Engine SELECT \"Positions\".id AS \"Positions_id\", \"Positions\".upper AS \"Positions_upper\", \"Positions\".middle AS \"Positions_middle\", \"Positions\".lower AS \"Positions_lower\", \"Positions\".x AS \"Positions_x\", \"Positions\".y AS \"Positions_y\" \n",
      "FROM \"Positions\" \n",
      "WHERE \"Positions\".id = ?\n",
      "2021-07-16 00:53:56,898 INFO sqlalchemy.engine.Engine [cached since 0.3733s ago] (75,)\n",
      "2021-07-16 00:53:56,899 INFO sqlalchemy.engine.Engine SELECT \"Positions\".id AS \"Positions_id\", \"Positions\".upper AS \"Positions_upper\", \"Positions\".middle AS \"Positions_middle\", \"Positions\".lower AS \"Positions_lower\", \"Positions\".x AS \"Positions_x\", \"Positions\".y AS \"Positions_y\" \n",
      "FROM \"Positions\" \n",
      "WHERE \"Positions\".id = ?\n",
      "2021-07-16 00:53:56,900 INFO sqlalchemy.engine.Engine [cached since 0.3784s ago] (76,)\n",
      "2021-07-16 00:53:56,901 INFO sqlalchemy.engine.Engine SELECT \"Positions\".id AS \"Positions_id\", \"Positions\".upper AS \"Positions_upper\", \"Positions\".middle AS \"Positions_middle\", \"Positions\".lower AS \"Positions_lower\", \"Positions\".x AS \"Positions_x\", \"Positions\".y AS \"Positions_y\" \n",
      "FROM \"Positions\" \n",
      "WHERE \"Positions\".id = ?\n",
      "2021-07-16 00:53:56,902 INFO sqlalchemy.engine.Engine [cached since 0.3772s ago] (77,)\n",
      "2021-07-16 00:53:56,904 INFO sqlalchemy.engine.Engine SELECT \"Positions\".id AS \"Positions_id\", \"Positions\".upper AS \"Positions_upper\", \"Positions\".middle AS \"Positions_middle\", \"Positions\".lower AS \"Positions_lower\", \"Positions\".x AS \"Positions_x\", \"Positions\".y AS \"Positions_y\" \n",
      "FROM \"Positions\" \n",
      "WHERE \"Positions\".id = ?\n",
      "2021-07-16 00:53:56,905 INFO sqlalchemy.engine.Engine [cached since 0.3829s ago] (78,)\n",
      "2021-07-16 00:53:56,906 INFO sqlalchemy.engine.Engine SELECT \"Positions\".id AS \"Positions_id\", \"Positions\".upper AS \"Positions_upper\", \"Positions\".middle AS \"Positions_middle\", \"Positions\".lower AS \"Positions_lower\", \"Positions\".x AS \"Positions_x\", \"Positions\".y AS \"Positions_y\" \n",
      "FROM \"Positions\" \n",
      "WHERE \"Positions\".id = ?\n",
      "2021-07-16 00:53:56,907 INFO sqlalchemy.engine.Engine [cached since 0.3825s ago] (79,)\n",
      "2021-07-16 00:53:56,909 INFO sqlalchemy.engine.Engine SELECT \"Positions\".id AS \"Positions_id\", \"Positions\".upper AS \"Positions_upper\", \"Positions\".middle AS \"Positions_middle\", \"Positions\".lower AS \"Positions_lower\", \"Positions\".x AS \"Positions_x\", \"Positions\".y AS \"Positions_y\" \n",
      "FROM \"Positions\" \n",
      "WHERE \"Positions\".id = ?\n",
      "2021-07-16 00:53:56,910 INFO sqlalchemy.engine.Engine [cached since 0.3884s ago] (80,)\n",
      "2021-07-16 00:53:56,913 INFO sqlalchemy.engine.Engine SELECT \"Positions\".id AS \"Positions_id\", \"Positions\".upper AS \"Positions_upper\", \"Positions\".middle AS \"Positions_middle\", \"Positions\".lower AS \"Positions_lower\", \"Positions\".x AS \"Positions_x\", \"Positions\".y AS \"Positions_y\" \n",
      "FROM \"Positions\" \n",
      "WHERE \"Positions\".id = ?\n",
      "2021-07-16 00:53:56,913 INFO sqlalchemy.engine.Engine [cached since 0.3885s ago] (81,)\n",
      "Borehole geometry created successfully !\n",
      "2021-07-16 00:53:56,924 INFO sqlalchemy.engine.Engine UPDATE \"Boreholes\" SET length=? WHERE \"Boreholes\".id = ?\n",
      "2021-07-16 00:53:56,925 INFO sqlalchemy.engine.Engine [cached since 0.373s ago] (98.0, 'BH008')\n",
      "2021-07-16 00:53:56,926 INFO sqlalchemy.engine.Engine INSERT INTO \"Boreholes\" (id, length, diameter) VALUES (?, ?, ?)\n",
      "2021-07-16 00:53:56,926 INFO sqlalchemy.engine.Engine [cached since 0.4357s ago] ('BH009', 40.0, 0.5)\n",
      "2021-07-16 00:53:56,927 INFO sqlalchemy.engine.Engine INSERT INTO \"Positions\" (id, upper, middle, lower, x, y) VALUES (?, ?, ?, ?, ?, ?)\n",
      "2021-07-16 00:53:56,928 INFO sqlalchemy.engine.Engine [cached since 0.4333s ago] ((82, 100.0, 100.0, 100.0, 152052.0, 121293.0), (83, 94.0, 94.0, 94.0, 152052.0, 121293.0), (84, 94.0, 94.0, 94.0, 152052.0, 121293.0), (85, 92.0, 92.0, 92.0, 152052.0, 121293.0), (86, 92.0, 92.0, 92.0, 152052.0, 121293.0), (87, 82.0, 82.0, 82.0, 152052.0, 121293.0), (88, 82.0, 82.0, 82.0, 152052.0, 121293.0), (89, 78.0, 78.0, 78.0, 152052.0, 121293.0), (90, 78.0, 78.0, 78.0, 152052.0, 121293.0), (91, 60.0, 60.0, 60.0, 152052.0, 121293.0))\n",
      "2021-07-16 00:53:56,930 INFO sqlalchemy.engine.Engine INSERT INTO \"Intervals\" (id, borehole, interval_number, description, top_id, base_id, data_id) VALUES (?, ?, ?, ?, ?, ?, ?)\n",
      "2021-07-16 00:53:56,931 INFO sqlalchemy.engine.Engine [cached since 0.4319s ago] ((41, 'BH009', 0, 'Sable VR VI', 82, 83, None), (42, 'BH009', 1, 'Argile VI VI', 84, 85, None), (43, 'BH009', 2, 'Marne VR VI', 86, 87, None), (44, 'BH009', 3, 'Charbon VI VI', 88, 89, None), (45, 'BH009', 4, 'Dolomie VI VS', 90, 91, None))\n",
      "2021-07-16 00:53:56,932 INFO sqlalchemy.engine.Engine COMMIT\n",
      "2021-07-16 00:53:56,935 INFO sqlalchemy.engine.Engine BEGIN (implicit)\n",
      "2021-07-16 00:53:56,936 INFO sqlalchemy.engine.Engine SELECT \"Boreholes\".id AS \"Boreholes_id\", \"Boreholes\".length AS \"Boreholes_length\", \"Boreholes\".diameter AS \"Boreholes_diameter\" \n",
      "FROM \"Boreholes\"\n",
      "2021-07-16 00:53:56,936 INFO sqlalchemy.engine.Engine [cached since 0.4667s ago] ()\n",
      "2021-07-16 00:53:56,938 INFO sqlalchemy.engine.Engine SELECT \"Intervals\".id AS \"Intervals_id\", \"Intervals\".borehole AS \"Intervals_borehole\", \"Intervals\".interval_number AS \"Intervals_interval_number\", \"Intervals\".description AS \"Intervals_description\", \"Intervals\".top_id AS \"Intervals_top_id\", \"Intervals\".base_id AS \"Intervals_base_id\", \"Intervals\".data_id AS \"Intervals_data_id\" \n",
      "FROM \"Intervals\" \n",
      "WHERE ? = \"Intervals\".borehole\n",
      "2021-07-16 00:53:56,939 INFO sqlalchemy.engine.Engine [cached since 0.425s ago] ('BH009',)\n",
      "2021-07-16 00:53:56,941 INFO sqlalchemy.engine.Engine SELECT \"Positions\".id AS \"Positions_id\", \"Positions\".upper AS \"Positions_upper\", \"Positions\".middle AS \"Positions_middle\", \"Positions\".lower AS \"Positions_lower\", \"Positions\".x AS \"Positions_x\", \"Positions\".y AS \"Positions_y\" \n",
      "FROM \"Positions\" \n",
      "WHERE \"Positions\".id = ?\n",
      "2021-07-16 00:53:56,942 INFO sqlalchemy.engine.Engine [cached since 0.4198s ago] (82,)\n",
      "2021-07-16 00:53:56,943 INFO sqlalchemy.engine.Engine SELECT \"Positions\".id AS \"Positions_id\", \"Positions\".upper AS \"Positions_upper\", \"Positions\".middle AS \"Positions_middle\", \"Positions\".lower AS \"Positions_lower\", \"Positions\".x AS \"Positions_x\", \"Positions\".y AS \"Positions_y\" \n",
      "FROM \"Positions\" \n",
      "WHERE \"Positions\".id = ?\n",
      "2021-07-16 00:53:56,944 INFO sqlalchemy.engine.Engine [cached since 0.4189s ago] (83,)\n",
      "2021-07-16 00:53:56,946 INFO sqlalchemy.engine.Engine SELECT \"Positions\".id AS \"Positions_id\", \"Positions\".upper AS \"Positions_upper\", \"Positions\".middle AS \"Positions_middle\", \"Positions\".lower AS \"Positions_lower\", \"Positions\".x AS \"Positions_x\", \"Positions\".y AS \"Positions_y\" \n",
      "FROM \"Positions\" \n",
      "WHERE \"Positions\".id = ?\n",
      "2021-07-16 00:53:56,947 INFO sqlalchemy.engine.Engine [cached since 0.425s ago] (84,)\n",
      "2021-07-16 00:53:56,948 INFO sqlalchemy.engine.Engine SELECT \"Positions\".id AS \"Positions_id\", \"Positions\".upper AS \"Positions_upper\", \"Positions\".middle AS \"Positions_middle\", \"Positions\".lower AS \"Positions_lower\", \"Positions\".x AS \"Positions_x\", \"Positions\".y AS \"Positions_y\" \n",
      "FROM \"Positions\" \n",
      "WHERE \"Positions\".id = ?\n"
     ]
    },
    {
     "name": "stdout",
     "output_type": "stream",
     "text": [
      "2021-07-16 00:53:56,948 INFO sqlalchemy.engine.Engine [cached since 0.4235s ago] (85,)\n",
      "2021-07-16 00:53:56,950 INFO sqlalchemy.engine.Engine SELECT \"Positions\".id AS \"Positions_id\", \"Positions\".upper AS \"Positions_upper\", \"Positions\".middle AS \"Positions_middle\", \"Positions\".lower AS \"Positions_lower\", \"Positions\".x AS \"Positions_x\", \"Positions\".y AS \"Positions_y\" \n",
      "FROM \"Positions\" \n",
      "WHERE \"Positions\".id = ?\n",
      "2021-07-16 00:53:56,950 INFO sqlalchemy.engine.Engine [cached since 0.4286s ago] (86,)\n",
      "2021-07-16 00:53:56,951 INFO sqlalchemy.engine.Engine SELECT \"Positions\".id AS \"Positions_id\", \"Positions\".upper AS \"Positions_upper\", \"Positions\".middle AS \"Positions_middle\", \"Positions\".lower AS \"Positions_lower\", \"Positions\".x AS \"Positions_x\", \"Positions\".y AS \"Positions_y\" \n",
      "FROM \"Positions\" \n",
      "WHERE \"Positions\".id = ?\n",
      "2021-07-16 00:53:56,952 INFO sqlalchemy.engine.Engine [cached since 0.4271s ago] (87,)\n",
      "2021-07-16 00:53:56,953 INFO sqlalchemy.engine.Engine SELECT \"Positions\".id AS \"Positions_id\", \"Positions\".upper AS \"Positions_upper\", \"Positions\".middle AS \"Positions_middle\", \"Positions\".lower AS \"Positions_lower\", \"Positions\".x AS \"Positions_x\", \"Positions\".y AS \"Positions_y\" \n",
      "FROM \"Positions\" \n",
      "WHERE \"Positions\".id = ?\n",
      "2021-07-16 00:53:56,954 INFO sqlalchemy.engine.Engine [cached since 0.4321s ago] (88,)\n",
      "2021-07-16 00:53:56,955 INFO sqlalchemy.engine.Engine SELECT \"Positions\".id AS \"Positions_id\", \"Positions\".upper AS \"Positions_upper\", \"Positions\".middle AS \"Positions_middle\", \"Positions\".lower AS \"Positions_lower\", \"Positions\".x AS \"Positions_x\", \"Positions\".y AS \"Positions_y\" \n",
      "FROM \"Positions\" \n",
      "WHERE \"Positions\".id = ?\n",
      "2021-07-16 00:53:56,955 INFO sqlalchemy.engine.Engine [cached since 0.4306s ago] (89,)\n",
      "2021-07-16 00:53:56,957 INFO sqlalchemy.engine.Engine SELECT \"Positions\".id AS \"Positions_id\", \"Positions\".upper AS \"Positions_upper\", \"Positions\".middle AS \"Positions_middle\", \"Positions\".lower AS \"Positions_lower\", \"Positions\".x AS \"Positions_x\", \"Positions\".y AS \"Positions_y\" \n",
      "FROM \"Positions\" \n",
      "WHERE \"Positions\".id = ?\n",
      "2021-07-16 00:53:56,957 INFO sqlalchemy.engine.Engine [cached since 0.4352s ago] (90,)\n",
      "2021-07-16 00:53:56,958 INFO sqlalchemy.engine.Engine SELECT \"Positions\".id AS \"Positions_id\", \"Positions\".upper AS \"Positions_upper\", \"Positions\".middle AS \"Positions_middle\", \"Positions\".lower AS \"Positions_lower\", \"Positions\".x AS \"Positions_x\", \"Positions\".y AS \"Positions_y\" \n",
      "FROM \"Positions\" \n",
      "WHERE \"Positions\".id = ?\n",
      "2021-07-16 00:53:56,958 INFO sqlalchemy.engine.Engine [cached since 0.4337s ago] (91,)\n",
      "Borehole geometry created successfully !\n",
      "2021-07-16 00:53:56,968 INFO sqlalchemy.engine.Engine UPDATE \"Boreholes\" SET length=? WHERE \"Boreholes\".id = ?\n",
      "2021-07-16 00:53:56,969 INFO sqlalchemy.engine.Engine [cached since 0.4169s ago] (94.0, 'BH009')\n",
      "2021-07-16 00:53:56,970 INFO sqlalchemy.engine.Engine INSERT INTO \"Boreholes\" (id, length, diameter) VALUES (?, ?, ?)\n",
      "2021-07-16 00:53:56,970 INFO sqlalchemy.engine.Engine [cached since 0.4796s ago] ('BH10', 14.0, 0.31)\n",
      "2021-07-16 00:53:56,971 INFO sqlalchemy.engine.Engine INSERT INTO \"Positions\" (id, upper, middle, lower, x, y) VALUES (?, ?, ?, ?, ?, ?)\n",
      "2021-07-16 00:53:56,971 INFO sqlalchemy.engine.Engine [cached since 0.4763s ago] ((92, 100.0, 100.0, 100.0, 152315.0, 121754.0), (93, 95.0, 95.0, 95.0, 152315.0, 121754.0), (94, 95.0, 95.0, 95.0, 152315.0, 121754.0), (95, 91.0, 91.0, 91.0, 152315.0, 121754.0), (96, 91.0, 91.0, 91.0, 152315.0, 121754.0), (97, 89.0, 89.0, 89.0, 152315.0, 121754.0), (98, 89.0, 89.0, 89.0, 152315.0, 121754.0), (99, 86.0, 86.0, 86.0, 152315.0, 121754.0))\n",
      "2021-07-16 00:53:56,973 INFO sqlalchemy.engine.Engine INSERT INTO \"Intervals\" (id, borehole, interval_number, description, top_id, base_id, data_id) VALUES (?, ?, ?, ?, ?, ?, ?)\n",
      "2021-07-16 00:53:56,973 INFO sqlalchemy.engine.Engine [cached since 0.4744s ago] ((46, 'BH10', 0, 'Sable VR VS', 92, 93, None), (47, 'BH10', 1, 'Argile VI VI', 94, 95, None), (48, 'BH10', 2, 'Marne VR VI', 96, 97, None), (49, 'BH10', 3, 'Charbon VI VR', 98, 99, None))\n",
      "2021-07-16 00:53:56,974 INFO sqlalchemy.engine.Engine COMMIT\n",
      "2021-07-16 00:53:56,977 INFO sqlalchemy.engine.Engine BEGIN (implicit)\n",
      "2021-07-16 00:53:56,978 INFO sqlalchemy.engine.Engine SELECT \"Boreholes\".id AS \"Boreholes_id\", \"Boreholes\".length AS \"Boreholes_length\", \"Boreholes\".diameter AS \"Boreholes_diameter\" \n",
      "FROM \"Boreholes\"\n",
      "2021-07-16 00:53:56,979 INFO sqlalchemy.engine.Engine [cached since 0.5098s ago] ()\n",
      "2021-07-16 00:53:56,981 INFO sqlalchemy.engine.Engine SELECT \"Intervals\".id AS \"Intervals_id\", \"Intervals\".borehole AS \"Intervals_borehole\", \"Intervals\".interval_number AS \"Intervals_interval_number\", \"Intervals\".description AS \"Intervals_description\", \"Intervals\".top_id AS \"Intervals_top_id\", \"Intervals\".base_id AS \"Intervals_base_id\", \"Intervals\".data_id AS \"Intervals_data_id\" \n",
      "FROM \"Intervals\" \n",
      "WHERE ? = \"Intervals\".borehole\n",
      "2021-07-16 00:53:56,982 INFO sqlalchemy.engine.Engine [cached since 0.4679s ago] ('BH10',)\n",
      "2021-07-16 00:53:56,983 INFO sqlalchemy.engine.Engine SELECT \"Positions\".id AS \"Positions_id\", \"Positions\".upper AS \"Positions_upper\", \"Positions\".middle AS \"Positions_middle\", \"Positions\".lower AS \"Positions_lower\", \"Positions\".x AS \"Positions_x\", \"Positions\".y AS \"Positions_y\" \n",
      "FROM \"Positions\" \n",
      "WHERE \"Positions\".id = ?\n",
      "2021-07-16 00:53:56,984 INFO sqlalchemy.engine.Engine [cached since 0.4624s ago] (92,)\n",
      "2021-07-16 00:53:56,986 INFO sqlalchemy.engine.Engine SELECT \"Positions\".id AS \"Positions_id\", \"Positions\".upper AS \"Positions_upper\", \"Positions\".middle AS \"Positions_middle\", \"Positions\".lower AS \"Positions_lower\", \"Positions\".x AS \"Positions_x\", \"Positions\".y AS \"Positions_y\" \n",
      "FROM \"Positions\" \n",
      "WHERE \"Positions\".id = ?\n",
      "2021-07-16 00:53:56,986 INFO sqlalchemy.engine.Engine [cached since 0.4614s ago] (93,)\n",
      "2021-07-16 00:53:56,988 INFO sqlalchemy.engine.Engine SELECT \"Positions\".id AS \"Positions_id\", \"Positions\".upper AS \"Positions_upper\", \"Positions\".middle AS \"Positions_middle\", \"Positions\".lower AS \"Positions_lower\", \"Positions\".x AS \"Positions_x\", \"Positions\".y AS \"Positions_y\" \n",
      "FROM \"Positions\" \n",
      "WHERE \"Positions\".id = ?\n",
      "2021-07-16 00:53:56,989 INFO sqlalchemy.engine.Engine [cached since 0.467s ago] (94,)\n",
      "2021-07-16 00:53:56,990 INFO sqlalchemy.engine.Engine SELECT \"Positions\".id AS \"Positions_id\", \"Positions\".upper AS \"Positions_upper\", \"Positions\".middle AS \"Positions_middle\", \"Positions\".lower AS \"Positions_lower\", \"Positions\".x AS \"Positions_x\", \"Positions\".y AS \"Positions_y\" \n",
      "FROM \"Positions\" \n",
      "WHERE \"Positions\".id = ?\n",
      "2021-07-16 00:53:56,991 INFO sqlalchemy.engine.Engine [cached since 0.4661s ago] (95,)\n",
      "2021-07-16 00:53:56,993 INFO sqlalchemy.engine.Engine SELECT \"Positions\".id AS \"Positions_id\", \"Positions\".upper AS \"Positions_upper\", \"Positions\".middle AS \"Positions_middle\", \"Positions\".lower AS \"Positions_lower\", \"Positions\".x AS \"Positions_x\", \"Positions\".y AS \"Positions_y\" \n",
      "FROM \"Positions\" \n",
      "WHERE \"Positions\".id = ?\n",
      "2021-07-16 00:53:56,993 INFO sqlalchemy.engine.Engine [cached since 0.4715s ago] (96,)\n",
      "2021-07-16 00:53:56,994 INFO sqlalchemy.engine.Engine SELECT \"Positions\".id AS \"Positions_id\", \"Positions\".upper AS \"Positions_upper\", \"Positions\".middle AS \"Positions_middle\", \"Positions\".lower AS \"Positions_lower\", \"Positions\".x AS \"Positions_x\", \"Positions\".y AS \"Positions_y\" \n",
      "FROM \"Positions\" \n",
      "WHERE \"Positions\".id = ?\n",
      "2021-07-16 00:53:56,995 INFO sqlalchemy.engine.Engine [cached since 0.4705s ago] (97,)\n",
      "2021-07-16 00:53:56,997 INFO sqlalchemy.engine.Engine SELECT \"Positions\".id AS \"Positions_id\", \"Positions\".upper AS \"Positions_upper\", \"Positions\".middle AS \"Positions_middle\", \"Positions\".lower AS \"Positions_lower\", \"Positions\".x AS \"Positions_x\", \"Positions\".y AS \"Positions_y\" \n",
      "FROM \"Positions\" \n",
      "WHERE \"Positions\".id = ?\n",
      "2021-07-16 00:53:56,998 INFO sqlalchemy.engine.Engine [cached since 0.476s ago] (98,)\n",
      "2021-07-16 00:53:56,999 INFO sqlalchemy.engine.Engine SELECT \"Positions\".id AS \"Positions_id\", \"Positions\".upper AS \"Positions_upper\", \"Positions\".middle AS \"Positions_middle\", \"Positions\".lower AS \"Positions_lower\", \"Positions\".x AS \"Positions_x\", \"Positions\".y AS \"Positions_y\" \n",
      "FROM \"Positions\" \n",
      "WHERE \"Positions\".id = ?\n",
      "2021-07-16 00:53:56,999 INFO sqlalchemy.engine.Engine [cached since 0.4746s ago] (99,)\n"
     ]
    },
    {
     "name": "stdout",
     "output_type": "stream",
     "text": [
      "Borehole geometry created successfully !\n"
     ]
    }
   ],
   "source": [
    "for bh in boreholes:\n",
    "    p.add_borehole(bh)"
   ]
  },
  {
   "cell_type": "code",
   "execution_count": 20,
   "metadata": {},
   "outputs": [
    {
     "name": "stdout",
     "output_type": "stream",
     "text": [
      "2021-07-16 00:53:57,016 INFO sqlalchemy.engine.Engine UPDATE \"Boreholes\" SET length=? WHERE \"Boreholes\".id = ?\n",
      "2021-07-16 00:53:57,017 INFO sqlalchemy.engine.Engine [cached since 0.4653s ago] (95.0, 'BH10')\n",
      "2021-07-16 00:53:57,019 INFO sqlalchemy.engine.Engine INSERT INTO \"Linkintervalcomponent\" (int_id, comp_id, extra_data) VALUES (?, ?, ?)\n",
      "2021-07-16 00:53:57,020 INFO sqlalchemy.engine.Engine [generated in 0.00066s] ((0, 3, ''), (1, 2, ''), (2, 0, ''), (3, 1, ''), (4, 3, ''), (5, 2, ''), (6, 0, ''), (7, 1, '')  ... displaying 10 of 50 total bound parameter sets ...  (48, 0, ''), (49, 1, ''))\n",
      "2021-07-16 00:53:57,022 INFO sqlalchemy.engine.Engine COMMIT\n",
      "2021-07-16 00:53:57,024 INFO sqlalchemy.engine.Engine BEGIN (implicit)\n",
      "2021-07-16 00:53:57,025 INFO sqlalchemy.engine.Engine SELECT \"Boreholes\".id AS \"Boreholes_id\", \"Boreholes\".length AS \"Boreholes_length\", \"Boreholes\".diameter AS \"Boreholes_diameter\" \n",
      "FROM \"Boreholes\"\n",
      "2021-07-16 00:53:57,026 INFO sqlalchemy.engine.Engine [cached since 0.5563s ago] ()\n"
     ]
    }
   ],
   "source": [
    "p.add_link_between_components_and_intervals(link_intv_comp)"
   ]
  },
  {
   "cell_type": "code",
   "execution_count": 21,
   "metadata": {},
   "outputs": [
    {
     "name": "stdout",
     "output_type": "stream",
     "text": [
      "2021-07-16 00:53:57,030 INFO sqlalchemy.engine.Engine COMMIT\n",
      "Boreholes in the project :  10\n"
     ]
    }
   ],
   "source": [
    "p.commit()\n",
    "print('Boreholes in the project : ', len(p.boreholes))"
   ]
  },
  {
   "cell_type": "code",
   "execution_count": 22,
   "metadata": {},
   "outputs": [
    {
     "name": "stdout",
     "output_type": "stream",
     "text": [
      "2021-07-16 00:53:57,038 INFO sqlalchemy.engine.Engine BEGIN (implicit)\n",
      "2021-07-16 00:53:57,039 INFO sqlalchemy.engine.Engine SELECT \"Boreholes\".id AS \"Boreholes_id\", \"Boreholes\".length AS \"Boreholes_length\", \"Boreholes\".diameter AS \"Boreholes_diameter\" \n",
      "FROM \"Boreholes\" \n",
      "WHERE \"Boreholes\".id = ?\n",
      "2021-07-16 00:53:57,040 INFO sqlalchemy.engine.Engine [generated in 0.00067s] ('BH001',)\n",
      "2021-07-16 00:53:57,041 INFO sqlalchemy.engine.Engine SELECT \"Intervals\".id AS \"Intervals_id\", \"Intervals\".borehole AS \"Intervals_borehole\", \"Intervals\".interval_number AS \"Intervals_interval_number\", \"Intervals\".description AS \"Intervals_description\", \"Intervals\".top_id AS \"Intervals_top_id\", \"Intervals\".base_id AS \"Intervals_base_id\", \"Intervals\".data_id AS \"Intervals_data_id\" \n",
      "FROM \"Intervals\" \n",
      "WHERE ? = \"Intervals\".borehole\n",
      "2021-07-16 00:53:57,042 INFO sqlalchemy.engine.Engine [cached since 0.5282s ago] ('BH001',)\n",
      "2021-07-16 00:53:57,043 INFO sqlalchemy.engine.Engine SELECT \"Boreholes\".id AS \"Boreholes_id\", \"Boreholes\".length AS \"Boreholes_length\", \"Boreholes\".diameter AS \"Boreholes_diameter\" \n",
      "FROM \"Boreholes\" \n",
      "WHERE \"Boreholes\".id = ?\n",
      "2021-07-16 00:53:57,044 INFO sqlalchemy.engine.Engine [cached since 0.004719s ago] ('BH002',)\n",
      "2021-07-16 00:53:57,046 INFO sqlalchemy.engine.Engine SELECT \"Intervals\".id AS \"Intervals_id\", \"Intervals\".borehole AS \"Intervals_borehole\", \"Intervals\".interval_number AS \"Intervals_interval_number\", \"Intervals\".description AS \"Intervals_description\", \"Intervals\".top_id AS \"Intervals_top_id\", \"Intervals\".base_id AS \"Intervals_base_id\", \"Intervals\".data_id AS \"Intervals_data_id\" \n",
      "FROM \"Intervals\" \n",
      "WHERE ? = \"Intervals\".borehole\n",
      "2021-07-16 00:53:57,047 INFO sqlalchemy.engine.Engine [cached since 0.533s ago] ('BH002',)\n",
      "2021-07-16 00:53:57,049 INFO sqlalchemy.engine.Engine SELECT \"Boreholes\".id AS \"Boreholes_id\", \"Boreholes\".length AS \"Boreholes_length\", \"Boreholes\".diameter AS \"Boreholes_diameter\" \n",
      "FROM \"Boreholes\" \n",
      "WHERE \"Boreholes\".id = ?\n",
      "2021-07-16 00:53:57,049 INFO sqlalchemy.engine.Engine [cached since 0.01011s ago] ('BH003',)\n",
      "2021-07-16 00:53:57,051 INFO sqlalchemy.engine.Engine SELECT \"Intervals\".id AS \"Intervals_id\", \"Intervals\".borehole AS \"Intervals_borehole\", \"Intervals\".interval_number AS \"Intervals_interval_number\", \"Intervals\".description AS \"Intervals_description\", \"Intervals\".top_id AS \"Intervals_top_id\", \"Intervals\".base_id AS \"Intervals_base_id\", \"Intervals\".data_id AS \"Intervals_data_id\" \n",
      "FROM \"Intervals\" \n",
      "WHERE ? = \"Intervals\".borehole\n",
      "2021-07-16 00:53:57,052 INFO sqlalchemy.engine.Engine [cached since 0.5383s ago] ('BH003',)\n",
      "2021-07-16 00:53:57,054 INFO sqlalchemy.engine.Engine SELECT \"Boreholes\".id AS \"Boreholes_id\", \"Boreholes\".length AS \"Boreholes_length\", \"Boreholes\".diameter AS \"Boreholes_diameter\" \n",
      "FROM \"Boreholes\" \n",
      "WHERE \"Boreholes\".id = ?\n",
      "2021-07-16 00:53:57,055 INFO sqlalchemy.engine.Engine [cached since 0.01546s ago] ('BH004',)\n",
      "2021-07-16 00:53:57,056 INFO sqlalchemy.engine.Engine SELECT \"Intervals\".id AS \"Intervals_id\", \"Intervals\".borehole AS \"Intervals_borehole\", \"Intervals\".interval_number AS \"Intervals_interval_number\", \"Intervals\".description AS \"Intervals_description\", \"Intervals\".top_id AS \"Intervals_top_id\", \"Intervals\".base_id AS \"Intervals_base_id\", \"Intervals\".data_id AS \"Intervals_data_id\" \n",
      "FROM \"Intervals\" \n",
      "WHERE ? = \"Intervals\".borehole\n",
      "2021-07-16 00:53:57,057 INFO sqlalchemy.engine.Engine [cached since 0.5429s ago] ('BH004',)\n",
      "2021-07-16 00:53:57,058 INFO sqlalchemy.engine.Engine SELECT \"Boreholes\".id AS \"Boreholes_id\", \"Boreholes\".length AS \"Boreholes_length\", \"Boreholes\".diameter AS \"Boreholes_diameter\" \n",
      "FROM \"Boreholes\" \n",
      "WHERE \"Boreholes\".id = ?\n",
      "2021-07-16 00:53:57,059 INFO sqlalchemy.engine.Engine [cached since 0.0199s ago] ('BH005',)\n",
      "2021-07-16 00:53:57,060 INFO sqlalchemy.engine.Engine SELECT \"Intervals\".id AS \"Intervals_id\", \"Intervals\".borehole AS \"Intervals_borehole\", \"Intervals\".interval_number AS \"Intervals_interval_number\", \"Intervals\".description AS \"Intervals_description\", \"Intervals\".top_id AS \"Intervals_top_id\", \"Intervals\".base_id AS \"Intervals_base_id\", \"Intervals\".data_id AS \"Intervals_data_id\" \n",
      "FROM \"Intervals\" \n",
      "WHERE ? = \"Intervals\".borehole\n",
      "2021-07-16 00:53:57,062 INFO sqlalchemy.engine.Engine [cached since 0.548s ago] ('BH005',)\n",
      "2021-07-16 00:53:57,064 INFO sqlalchemy.engine.Engine SELECT \"Boreholes\".id AS \"Boreholes_id\", \"Boreholes\".length AS \"Boreholes_length\", \"Boreholes\".diameter AS \"Boreholes_diameter\" \n",
      "FROM \"Boreholes\" \n",
      "WHERE \"Boreholes\".id = ?\n",
      "2021-07-16 00:53:57,065 INFO sqlalchemy.engine.Engine [cached since 0.02594s ago] ('BH006',)\n",
      "2021-07-16 00:53:57,067 INFO sqlalchemy.engine.Engine SELECT \"Intervals\".id AS \"Intervals_id\", \"Intervals\".borehole AS \"Intervals_borehole\", \"Intervals\".interval_number AS \"Intervals_interval_number\", \"Intervals\".description AS \"Intervals_description\", \"Intervals\".top_id AS \"Intervals_top_id\", \"Intervals\".base_id AS \"Intervals_base_id\", \"Intervals\".data_id AS \"Intervals_data_id\" \n",
      "FROM \"Intervals\" \n",
      "WHERE ? = \"Intervals\".borehole\n",
      "2021-07-16 00:53:57,068 INFO sqlalchemy.engine.Engine [cached since 0.554s ago] ('BH006',)\n",
      "2021-07-16 00:53:57,070 INFO sqlalchemy.engine.Engine SELECT \"Boreholes\".id AS \"Boreholes_id\", \"Boreholes\".length AS \"Boreholes_length\", \"Boreholes\".diameter AS \"Boreholes_diameter\" \n",
      "FROM \"Boreholes\" \n",
      "WHERE \"Boreholes\".id = ?\n",
      "2021-07-16 00:53:57,070 INFO sqlalchemy.engine.Engine [cached since 0.03121s ago] ('BH007',)\n",
      "2021-07-16 00:53:57,072 INFO sqlalchemy.engine.Engine SELECT \"Intervals\".id AS \"Intervals_id\", \"Intervals\".borehole AS \"Intervals_borehole\", \"Intervals\".interval_number AS \"Intervals_interval_number\", \"Intervals\".description AS \"Intervals_description\", \"Intervals\".top_id AS \"Intervals_top_id\", \"Intervals\".base_id AS \"Intervals_base_id\", \"Intervals\".data_id AS \"Intervals_data_id\" \n",
      "FROM \"Intervals\" \n",
      "WHERE ? = \"Intervals\".borehole\n",
      "2021-07-16 00:53:57,073 INFO sqlalchemy.engine.Engine [cached since 0.5589s ago] ('BH007',)\n",
      "2021-07-16 00:53:57,074 INFO sqlalchemy.engine.Engine SELECT \"Boreholes\".id AS \"Boreholes_id\", \"Boreholes\".length AS \"Boreholes_length\", \"Boreholes\".diameter AS \"Boreholes_diameter\" \n",
      "FROM \"Boreholes\" \n",
      "WHERE \"Boreholes\".id = ?\n",
      "2021-07-16 00:53:57,075 INFO sqlalchemy.engine.Engine [cached since 0.03584s ago] ('BH008',)\n",
      "2021-07-16 00:53:57,076 INFO sqlalchemy.engine.Engine SELECT \"Intervals\".id AS \"Intervals_id\", \"Intervals\".borehole AS \"Intervals_borehole\", \"Intervals\".interval_number AS \"Intervals_interval_number\", \"Intervals\".description AS \"Intervals_description\", \"Intervals\".top_id AS \"Intervals_top_id\", \"Intervals\".base_id AS \"Intervals_base_id\", \"Intervals\".data_id AS \"Intervals_data_id\" \n",
      "FROM \"Intervals\" \n",
      "WHERE ? = \"Intervals\".borehole\n",
      "2021-07-16 00:53:57,077 INFO sqlalchemy.engine.Engine [cached since 0.5633s ago] ('BH008',)\n",
      "2021-07-16 00:53:57,080 INFO sqlalchemy.engine.Engine SELECT \"Boreholes\".id AS \"Boreholes_id\", \"Boreholes\".length AS \"Boreholes_length\", \"Boreholes\".diameter AS \"Boreholes_diameter\" \n",
      "FROM \"Boreholes\" \n",
      "WHERE \"Boreholes\".id = ?\n",
      "2021-07-16 00:53:57,080 INFO sqlalchemy.engine.Engine [cached since 0.04128s ago] ('BH009',)\n",
      "2021-07-16 00:53:57,082 INFO sqlalchemy.engine.Engine SELECT \"Intervals\".id AS \"Intervals_id\", \"Intervals\".borehole AS \"Intervals_borehole\", \"Intervals\".interval_number AS \"Intervals_interval_number\", \"Intervals\".description AS \"Intervals_description\", \"Intervals\".top_id AS \"Intervals_top_id\", \"Intervals\".base_id AS \"Intervals_base_id\", \"Intervals\".data_id AS \"Intervals_data_id\" \n",
      "FROM \"Intervals\" \n",
      "WHERE ? = \"Intervals\".borehole\n",
      "2021-07-16 00:53:57,083 INFO sqlalchemy.engine.Engine [cached since 0.569s ago] ('BH009',)\n",
      "2021-07-16 00:53:57,085 INFO sqlalchemy.engine.Engine SELECT \"Boreholes\".id AS \"Boreholes_id\", \"Boreholes\".length AS \"Boreholes_length\", \"Boreholes\".diameter AS \"Boreholes_diameter\" \n",
      "FROM \"Boreholes\" \n",
      "WHERE \"Boreholes\".id = ?\n",
      "2021-07-16 00:53:57,085 INFO sqlalchemy.engine.Engine [cached since 0.04587s ago] ('BH10',)\n",
      "2021-07-16 00:53:57,086 INFO sqlalchemy.engine.Engine SELECT \"Intervals\".id AS \"Intervals_id\", \"Intervals\".borehole AS \"Intervals_borehole\", \"Intervals\".interval_number AS \"Intervals_interval_number\", \"Intervals\".description AS \"Intervals_description\", \"Intervals\".top_id AS \"Intervals_top_id\", \"Intervals\".base_id AS \"Intervals_base_id\", \"Intervals\".data_id AS \"Intervals_data_id\" \n",
      "FROM \"Intervals\" \n",
      "WHERE ? = \"Intervals\".borehole\n"
     ]
    },
    {
     "name": "stdout",
     "output_type": "stream",
     "text": [
      "2021-07-16 00:53:57,087 INFO sqlalchemy.engine.Engine [cached since 0.5729s ago] ('BH10',)\n"
     ]
    },
    {
     "data": {
      "text/plain": [
       "[<core.orm.BoreholeOrm>(Name=BH001, Length=97.0, Diameter=0.43, Intervals=4),\n",
       " <core.orm.BoreholeOrm>(Name=BH002, Length=98.0, Diameter=0.6, Intervals=5),\n",
       " <core.orm.BoreholeOrm>(Name=BH003, Length=100.0, Diameter=0.41, Intervals=5),\n",
       " <core.orm.BoreholeOrm>(Name=BH004, Length=96.0, Diameter=0.61, Intervals=5),\n",
       " <core.orm.BoreholeOrm>(Name=BH005, Length=97.0, Diameter=0.61, Intervals=6),\n",
       " <core.orm.BoreholeOrm>(Name=BH006, Length=100.0, Diameter=0.31, Intervals=5),\n",
       " <core.orm.BoreholeOrm>(Name=BH007, Length=97.0, Diameter=0.57, Intervals=6),\n",
       " <core.orm.BoreholeOrm>(Name=BH008, Length=98.0, Diameter=0.39, Intervals=5),\n",
       " <core.orm.BoreholeOrm>(Name=BH009, Length=94.0, Diameter=0.5, Intervals=5),\n",
       " <core.orm.BoreholeOrm>(Name=BH10, Length=95.0, Diameter=0.31, Intervals=4)]"
      ]
     },
     "execution_count": 22,
     "metadata": {},
     "output_type": "execute_result"
    }
   ],
   "source": [
    "p.boreholes"
   ]
  },
  {
   "cell_type": "code",
   "execution_count": 23,
   "metadata": {},
   "outputs": [
    {
     "name": "stdout",
     "output_type": "stream",
     "text": [
      "2021-07-16 00:53:57,094 INFO sqlalchemy.engine.Engine SELECT \"Boreholes\".id AS \"Boreholes_id\", \"Boreholes\".length AS \"Boreholes_length\", \"Boreholes\".diameter AS \"Boreholes_diameter\" \n",
      "FROM \"Boreholes\"\n",
      "2021-07-16 00:53:57,095 INFO sqlalchemy.engine.Engine [cached since 0.626s ago] ()\n"
     ]
    }
   ],
   "source": [
    "p.refresh(verbose=False)"
   ]
  },
  {
   "cell_type": "code",
   "execution_count": 24,
   "metadata": {},
   "outputs": [
    {
     "name": "stdout",
     "output_type": "stream",
     "text": [
      "2021-07-16 00:53:57,099 INFO sqlalchemy.engine.Engine ROLLBACK\n"
     ]
    }
   ],
   "source": [
    "session.close()"
   ]
  },
  {
   "cell_type": "markdown",
   "metadata": {},
   "source": [
    "# 2D/3D Display"
   ]
  },
  {
   "cell_type": "code",
   "execution_count": 25,
   "metadata": {},
   "outputs": [
    {
     "data": {
      "text/plain": [
       "['lithology', 'benzene']"
      ]
     },
     "execution_count": 25,
     "metadata": {},
     "output_type": "execute_result"
    }
   ],
   "source": [
    "attributes = list(p.legend_dict.keys())\n",
    "attributes"
   ]
  },
  {
   "cell_type": "code",
   "execution_count": 26,
   "metadata": {},
   "outputs": [
    {
     "data": {
      "text/plain": [
       "({'lithology': {'legend': Legend(Decor({'_colour': '#ffcb23', 'width': 3, 'hatch': \"'..'\", 'component': Component({'lithology': 'sable'})})\n",
       "   Decor({'_colour': '#d5e6cc', 'width': 3, 'hatch': \"'---'\", 'component': Component({'lithology': 'argile'})})\n",
       "   Decor({'_colour': '#7ba1a8', 'width': 3, 'hatch': None, 'component': Component({'lithology': 'marne'})})\n",
       "   Decor({'_colour': '#000000', 'width': 3, 'hatch': None, 'component': Component({'lithology': 'charbon'})})\n",
       "   Decor({'_colour': '#fdaffe', 'width': 3, 'hatch': None, 'component': Component({'lithology': 'dolomie'})})\n",
       "   Decor({'_colour': '#bbffdd', 'width': 3, 'hatch': \"'--'\", 'component': Component({'lithology': 'schiste'})})\n",
       "   Decor({'_colour': '#149eff', 'width': 3, 'hatch': \"'='\", 'component': Component({'lithology': 'calcaire'})})),\n",
       "   'cmap': <matplotlib.colors.ListedColormap at 0x7f2055294d30>,\n",
       "   'values': ['sable',\n",
       "    'argile',\n",
       "    'marne',\n",
       "    'charbon',\n",
       "    'dolomie',\n",
       "    'schiste',\n",
       "    'calcaire']},\n",
       "  'benzene': {'legend': Legend(Decor({'_colour': '#ffffff', 'width': 3, 'component': Component({'benzene': 'Inconnu'}), 'hatch': None})),\n",
       "   'cmap': <matplotlib.colors.ListedColormap at 0x7f2055298c40>,\n",
       "   'values': ['Inconnu']}},\n",
       " {'BH001': {'lithology': {'legend': Legend(Decor({'_colour': '#ffcb23', 'width': 3, 'hatch': \"'..'\", 'component': Component({'lithology': 'sable'})})\n",
       "    Decor({'_colour': '#d5e6cc', 'width': 3, 'hatch': \"'---'\", 'component': Component({'lithology': 'argile'})})\n",
       "    Decor({'_colour': '#7ba1a8', 'width': 3, 'hatch': None, 'component': Component({'lithology': 'marne'})})\n",
       "    Decor({'_colour': '#000000', 'width': 3, 'hatch': None, 'component': Component({'lithology': 'charbon'})})),\n",
       "    'cmap': <matplotlib.colors.ListedColormap at 0x7f205527fca0>,\n",
       "    'values': ['sable', 'argile', 'marne', 'charbon']},\n",
       "   'benzene': {'legend': Legend(Decor({'_colour': '#ffffff', 'width': 3, 'component': Component({'benzene': 'Inconnu'}), 'hatch': None})),\n",
       "    'cmap': <matplotlib.colors.ListedColormap at 0x7f2055295640>,\n",
       "    'values': ['Inconnu']}},\n",
       "  'BH002': {'lithology': {'legend': Legend(Decor({'_colour': '#ffcb23', 'width': 3, 'hatch': \"'..'\", 'component': Component({'lithology': 'sable'})})\n",
       "    Decor({'_colour': '#d5e6cc', 'width': 3, 'hatch': \"'---'\", 'component': Component({'lithology': 'argile'})})\n",
       "    Decor({'_colour': '#7ba1a8', 'width': 3, 'hatch': None, 'component': Component({'lithology': 'marne'})})\n",
       "    Decor({'_colour': '#000000', 'width': 3, 'hatch': None, 'component': Component({'lithology': 'charbon'})})\n",
       "    Decor({'_colour': '#fdaffe', 'width': 3, 'hatch': None, 'component': Component({'lithology': 'dolomie'})})),\n",
       "    'cmap': <matplotlib.colors.ListedColormap at 0x7f20552ed430>,\n",
       "    'values': ['sable', 'argile', 'marne', 'charbon', 'dolomie']},\n",
       "   'benzene': {'legend': Legend(Decor({'_colour': '#ffffff', 'width': 3, 'component': Component({'benzene': 'Inconnu'}), 'hatch': None})),\n",
       "    'cmap': <matplotlib.colors.ListedColormap at 0x7f2055295dc0>,\n",
       "    'values': ['Inconnu']}},\n",
       "  'BH003': {'lithology': {'legend': Legend(Decor({'_colour': '#ffcb23', 'width': 3, 'hatch': \"'..'\", 'component': Component({'lithology': 'sable'})})\n",
       "    Decor({'_colour': '#d5e6cc', 'width': 3, 'hatch': \"'---'\", 'component': Component({'lithology': 'argile'})})\n",
       "    Decor({'_colour': '#7ba1a8', 'width': 3, 'hatch': None, 'component': Component({'lithology': 'marne'})})\n",
       "    Decor({'_colour': '#000000', 'width': 3, 'hatch': None, 'component': Component({'lithology': 'charbon'})})\n",
       "    Decor({'_colour': '#fdaffe', 'width': 3, 'hatch': None, 'component': Component({'lithology': 'dolomie'})})),\n",
       "    'cmap': <matplotlib.colors.ListedColormap at 0x7f20552879d0>,\n",
       "    'values': ['sable', 'argile', 'marne', 'charbon', 'dolomie']},\n",
       "   'benzene': {'legend': Legend(Decor({'_colour': '#ffffff', 'width': 3, 'component': Component({'benzene': 'Inconnu'}), 'hatch': None})),\n",
       "    'cmap': <matplotlib.colors.ListedColormap at 0x7f2055295460>,\n",
       "    'values': ['Inconnu']}},\n",
       "  'BH004': {'lithology': {'legend': Legend(Decor({'_colour': '#ffcb23', 'width': 3, 'hatch': \"'..'\", 'component': Component({'lithology': 'sable'})})\n",
       "    Decor({'_colour': '#d5e6cc', 'width': 3, 'hatch': \"'---'\", 'component': Component({'lithology': 'argile'})})\n",
       "    Decor({'_colour': '#7ba1a8', 'width': 3, 'hatch': None, 'component': Component({'lithology': 'marne'})})\n",
       "    Decor({'_colour': '#000000', 'width': 3, 'hatch': None, 'component': Component({'lithology': 'charbon'})})\n",
       "    Decor({'_colour': '#fdaffe', 'width': 3, 'hatch': None, 'component': Component({'lithology': 'dolomie'})})),\n",
       "    'cmap': <matplotlib.colors.ListedColormap at 0x7f2055612760>,\n",
       "    'values': ['sable', 'argile', 'marne', 'charbon', 'dolomie']},\n",
       "   'benzene': {'legend': Legend(Decor({'_colour': '#ffffff', 'width': 3, 'component': Component({'benzene': 'Inconnu'}), 'hatch': None})),\n",
       "    'cmap': <matplotlib.colors.ListedColormap at 0x7f2055295880>,\n",
       "    'values': ['Inconnu']}},\n",
       "  'BH005': {'lithology': {'legend': Legend(Decor({'_colour': '#ffcb23', 'width': 3, 'hatch': \"'..'\", 'component': Component({'lithology': 'sable'})})\n",
       "    Decor({'_colour': '#d5e6cc', 'width': 3, 'hatch': \"'---'\", 'component': Component({'lithology': 'argile'})})\n",
       "    Decor({'_colour': '#7ba1a8', 'width': 3, 'hatch': None, 'component': Component({'lithology': 'marne'})})\n",
       "    Decor({'_colour': '#000000', 'width': 3, 'hatch': None, 'component': Component({'lithology': 'charbon'})})\n",
       "    Decor({'_colour': '#fdaffe', 'width': 3, 'hatch': None, 'component': Component({'lithology': 'dolomie'})})\n",
       "    Decor({'_colour': '#bbffdd', 'width': 3, 'hatch': \"'--'\", 'component': Component({'lithology': 'schiste'})})),\n",
       "    'cmap': <matplotlib.colors.ListedColormap at 0x7f205528d220>,\n",
       "    'values': ['sable', 'argile', 'marne', 'charbon', 'dolomie', 'schiste']},\n",
       "   'benzene': {'legend': Legend(Decor({'_colour': '#ffffff', 'width': 3, 'component': Component({'benzene': 'Inconnu'}), 'hatch': None})),\n",
       "    'cmap': <matplotlib.colors.ListedColormap at 0x7f2055294730>,\n",
       "    'values': ['Inconnu']}},\n",
       "  'BH006': {'lithology': {'legend': Legend(Decor({'_colour': '#ffcb23', 'width': 3, 'hatch': \"'..'\", 'component': Component({'lithology': 'sable'})})\n",
       "    Decor({'_colour': '#d5e6cc', 'width': 3, 'hatch': \"'---'\", 'component': Component({'lithology': 'argile'})})\n",
       "    Decor({'_colour': '#7ba1a8', 'width': 3, 'hatch': None, 'component': Component({'lithology': 'marne'})})\n",
       "    Decor({'_colour': '#000000', 'width': 3, 'hatch': None, 'component': Component({'lithology': 'charbon'})})\n",
       "    Decor({'_colour': '#fdaffe', 'width': 3, 'hatch': None, 'component': Component({'lithology': 'dolomie'})})),\n",
       "    'cmap': <matplotlib.colors.ListedColormap at 0x7f20552915b0>,\n",
       "    'values': ['sable', 'argile', 'marne', 'charbon', 'dolomie']},\n",
       "   'benzene': {'legend': Legend(Decor({'_colour': '#ffffff', 'width': 3, 'component': Component({'benzene': 'Inconnu'}), 'hatch': None})),\n",
       "    'cmap': <matplotlib.colors.ListedColormap at 0x7f2055294190>,\n",
       "    'values': ['Inconnu']}},\n",
       "  'BH007': {'lithology': {'legend': Legend(Decor({'_colour': '#ffcb23', 'width': 3, 'hatch': \"'..'\", 'component': Component({'lithology': 'sable'})})\n",
       "    Decor({'_colour': '#d5e6cc', 'width': 3, 'hatch': \"'---'\", 'component': Component({'lithology': 'argile'})})\n",
       "    Decor({'_colour': '#7ba1a8', 'width': 3, 'hatch': None, 'component': Component({'lithology': 'marne'})})\n",
       "    Decor({'_colour': '#000000', 'width': 3, 'hatch': None, 'component': Component({'lithology': 'charbon'})})\n",
       "    Decor({'_colour': '#fdaffe', 'width': 3, 'hatch': None, 'component': Component({'lithology': 'dolomie'})})\n",
       "    Decor({'_colour': '#149eff', 'width': 3, 'hatch': \"'='\", 'component': Component({'lithology': 'calcaire'})})),\n",
       "    'cmap': <matplotlib.colors.ListedColormap at 0x7f2055294370>,\n",
       "    'values': ['sable', 'argile', 'marne', 'charbon', 'dolomie', 'calcaire']},\n",
       "   'benzene': {'legend': Legend(Decor({'_colour': '#ffffff', 'width': 3, 'component': Component({'benzene': 'Inconnu'}), 'hatch': None})),\n",
       "    'cmap': <matplotlib.colors.ListedColormap at 0x7f20552983a0>,\n",
       "    'values': ['Inconnu']}},\n",
       "  'BH008': {'lithology': {'legend': Legend(Decor({'_colour': '#ffcb23', 'width': 3, 'hatch': \"'..'\", 'component': Component({'lithology': 'sable'})})\n",
       "    Decor({'_colour': '#d5e6cc', 'width': 3, 'hatch': \"'---'\", 'component': Component({'lithology': 'argile'})})\n",
       "    Decor({'_colour': '#7ba1a8', 'width': 3, 'hatch': None, 'component': Component({'lithology': 'marne'})})\n",
       "    Decor({'_colour': '#000000', 'width': 3, 'hatch': None, 'component': Component({'lithology': 'charbon'})})\n",
       "    Decor({'_colour': '#fdaffe', 'width': 3, 'hatch': None, 'component': Component({'lithology': 'dolomie'})})),\n",
       "    'cmap': <matplotlib.colors.ListedColormap at 0x7f205528d490>,\n",
       "    'values': ['sable', 'argile', 'marne', 'charbon', 'dolomie']},\n",
       "   'benzene': {'legend': Legend(Decor({'_colour': '#ffffff', 'width': 3, 'component': Component({'benzene': 'Inconnu'}), 'hatch': None})),\n",
       "    'cmap': <matplotlib.colors.ListedColormap at 0x7f2055298a60>,\n",
       "    'values': ['Inconnu']}},\n",
       "  'BH009': {'lithology': {'legend': Legend(Decor({'_colour': '#ffcb23', 'width': 3, 'hatch': \"'..'\", 'component': Component({'lithology': 'sable'})})\n",
       "    Decor({'_colour': '#d5e6cc', 'width': 3, 'hatch': \"'---'\", 'component': Component({'lithology': 'argile'})})\n",
       "    Decor({'_colour': '#7ba1a8', 'width': 3, 'hatch': None, 'component': Component({'lithology': 'marne'})})\n",
       "    Decor({'_colour': '#000000', 'width': 3, 'hatch': None, 'component': Component({'lithology': 'charbon'})})\n",
       "    Decor({'_colour': '#fdaffe', 'width': 3, 'hatch': None, 'component': Component({'lithology': 'dolomie'})})),\n",
       "    'cmap': <matplotlib.colors.ListedColormap at 0x7f205528bc40>,\n",
       "    'values': ['sable', 'argile', 'marne', 'charbon', 'dolomie']},\n",
       "   'benzene': {'legend': Legend(Decor({'_colour': '#ffffff', 'width': 3, 'component': Component({'benzene': 'Inconnu'}), 'hatch': None})),\n",
       "    'cmap': <matplotlib.colors.ListedColormap at 0x7f2055298b80>,\n",
       "    'values': ['Inconnu']}},\n",
       "  'BH10': {'lithology': {'legend': Legend(Decor({'_colour': '#ffcb23', 'width': 3, 'hatch': \"'..'\", 'component': Component({'lithology': 'sable'})})\n",
       "    Decor({'_colour': '#d5e6cc', 'width': 3, 'hatch': \"'---'\", 'component': Component({'lithology': 'argile'})})\n",
       "    Decor({'_colour': '#7ba1a8', 'width': 3, 'hatch': None, 'component': Component({'lithology': 'marne'})})\n",
       "    Decor({'_colour': '#000000', 'width': 3, 'hatch': None, 'component': Component({'lithology': 'charbon'})})),\n",
       "    'cmap': <matplotlib.colors.ListedColormap at 0x7f2055294c10>,\n",
       "    'values': ['sable', 'argile', 'marne', 'charbon']},\n",
       "   'benzene': {'legend': Legend(Decor({'_colour': '#ffffff', 'width': 3, 'component': Component({'benzene': 'Inconnu'}), 'hatch': None})),\n",
       "    'cmap': <matplotlib.colors.ListedColormap at 0x7f2055298550>,\n",
       "    'values': ['Inconnu']}}})"
      ]
     },
     "execution_count": 26,
     "metadata": {},
     "output_type": "execute_result"
    }
   ],
   "source": [
    "p.update_legend_cmap(update_all_attrib=True) #[0][attributes[0]]['cmap']"
   ]
  },
  {
   "cell_type": "code",
   "execution_count": 27,
   "metadata": {},
   "outputs": [
    {
     "data": {
      "image/png": "[encoded data removed]",
      "text/html": [
       "<div style=\"vertical-align: middle;\"><strong>from_list</strong> </div><div class=\"cmap\"><img alt=\"from_list colormap\" title=\"from_list\" style=\"border: 1px solid #555;\" src=\"data:image/png;base64,iVBORw0KGgoAAAANSUhEUgAAAgAAAABACAYAAABsv8+/AAAAGHRFWHRUaXRsZQBmcm9tX2xpc3QgY29sb3JtYXBDL89FAAAAHnRFWHREZXNjcmlwdGlvbgBmcm9tX2xpc3QgY29sb3JtYXABtCnOAAAAMHRFWHRBdXRob3IATWF0cGxvdGxpYiB2My40LjIsIGh0dHBzOi8vbWF0cGxvdGxpYi5vcmes1mPdAAAAMnRFWHRTb2Z0d2FyZQBNYXRwbG90bGliIHYzLjQuMiwgaHR0cHM6Ly9tYXRwbG90bGliLm9yZ4Jw/PoAAAFjSURBVHic7darjUJRAABRoA0c2xCSVVRDHTiSVRRAQgP4VSRUwqcDJPeROaeCkTN/Xn6eM976X/6NTpi8w+k6OmHydtvN6ITJux8foxO+wnl9G50wab/71eiEr7AYHQAAfJ4BAIAgAwAAQQYAAIIMAAAEGQAACDIAABBkAAAgyAAAQJABAIAgAwAAQQYAAIIMAAAEGQAACDIAABBkAAAgyAAAQJABAIAgAwAAQQYAAIIMAAAEGQAACDIAABBkAAAgyAAAQJABAIAgAwAAQQYAAIIMAAAEGQAACDIAABBkAAAgyAAAQJABAIAgAwAAQQYAAIIMAAAEGQAACDIAABBkAAAgyAAAQJABAIAgAwAAQQYAAIIMAAAEGQAACDIAABBkAAAgyAAAQJABAIAgAwAAQQYAAIIMAAAEGQAACDIAABBkAAAgyAAAQJABAIAgAwAAQQYAAIIMAAAEGQAACDIAABD0AiMCDjC6gHT1AAAAAElFTkSuQmCC\"></div><div style=\"vertical-align: middle; max-width: 514px; display: flex; justify-content: space-between;\"><div style=\"float: left;\"><div title=\"#ffcb23ff\" style=\"display: inline-block; width: 1em; height: 1em; margin: 0; vertical-align: middle; border: 1px solid #555; background-color: #ffcb23ff;\"></div> under</div><div style=\"margin: 0 auto; display: inline-block;\">bad <div title=\"#00000000\" style=\"display: inline-block; width: 1em; height: 1em; margin: 0; vertical-align: middle; border: 1px solid #555; background-color: #00000000;\"></div></div><div style=\"float: right;\">over <div title=\"#149effff\" style=\"display: inline-block; width: 1em; height: 1em; margin: 0; vertical-align: middle; border: 1px solid #555; background-color: #149effff;\"></div></div>"
      ],
      "text/plain": [
       "<matplotlib.colors.ListedColormap at 0x7f2055294d30>"
      ]
     },
     "execution_count": 27,
     "metadata": {},
     "output_type": "execute_result"
    }
   ],
   "source": [
    "p.legend_dict[attributes[0]]['cmap']"
   ]
  },
  {
   "cell_type": "markdown",
   "metadata": {},
   "source": [
    "## Display one object (attribute = 'lithology')"
   ]
  },
  {
   "cell_type": "code",
   "execution_count": 28,
   "metadata": {},
   "outputs": [
    {
     "data": {
      "text/plain": [
       "{0: [Component({'lithology': 'sable'}), Component({'benzene': 'Inconnu'})],\n",
       " 1: [Component({'lithology': 'argile'}), Component({'benzene': 'Inconnu'})],\n",
       " 2: [Component({'lithology': 'marne'}), Component({'benzene': 'Inconnu'})],\n",
       " 3: [Component({'lithology': 'charbon'}), Component({'benzene': 'Inconnu'})],\n",
       " 4: [Component({'lithology': 'dolomie'}), Component({'benzene': 'Inconnu'})]}"
      ]
     },
     "execution_count": 28,
     "metadata": {},
     "output_type": "execute_result"
    }
   ],
   "source": [
    "bh = 1\n",
    "p.boreholes_3d[bh].components"
   ]
  },
  {
   "cell_type": "code",
   "execution_count": 29,
   "metadata": {},
   "outputs": [
    {
     "name": "stderr",
     "output_type": "stream",
     "text": [
      "/home/yanathan/Projects/GSDMA/utils/utils.py:274: MatplotlibDeprecationWarning: hatch must consist of a string of \"*+-./OX\\ox|\" or None, but found the following invalid values \"'\". Passing invalid values is deprecated since 3.4 and will become an error two minor releases later.\n",
      "  rect = mpl.patches.Rectangle(origin, w, thick, fc=fc, lw=lw, hatch=d.hatch,\n",
      "/home/yanathan/.local/share/virtualenvs/GSDMA-DRfwm83x/lib/python3.8/site-packages/striplog/legend.py:311: MatplotlibDeprecationWarning: hatch must consist of a string of \"*+-./OX\\ox|\" or None, but found the following invalid values \"'\". Passing invalid values is deprecated since 3.4 and will become an error two minor releases later.\n",
      "  rect1 = patches.Rectangle((0, 0),\n"
     ]
    },
    {
     "data": {
      "image/png": "[encoded data removed]",
      "text/plain": [
       "<Figure size 432x432 with 7 Axes>"
      ]
     },
     "metadata": {
      "needs_background": "light"
     },
     "output_type": "display_data"
    }
   ],
   "source": [
    "p.boreholes_3d[bh].log_plot()"
   ]
  },
  {
   "cell_type": "code",
   "execution_count": 30,
   "metadata": {},
   "outputs": [],
   "source": [
    "sargs = dict(title='test', title_font_size=30, label_font_size=12, n_labels=0,\n",
    "             fmt=\"%.2f\", font_family=\"arial\", color='k',interactive=True, \n",
    "             vertical=True, italic=True, shadow=False,)"
   ]
  },
  {
   "cell_type": "code",
   "execution_count": 31,
   "metadata": {
    "scrolled": false
   },
   "outputs": [
    {
     "data": {
      "application/vnd.jupyter.widget-view+json": {
       "model_id": "7f2459e21bc04e4584772141db2f363f",
       "version_major": 2,
       "version_minor": 0
      },
      "text/plain": [
       "ViewInteractiveWidget(height=768, layout=Layout(height='auto', width='100%'), width=1024)"
      ]
     },
     "metadata": {},
     "output_type": "display_data"
    }
   ],
   "source": [
    "bh=1\n",
    "p.boreholes_3d[bh].plot3d(custom_legend=False, scalar_bar_args=sargs)"
   ]
  },
  {
   "cell_type": "raw",
   "metadata": {},
   "source": [
    "p.boreholes_3d[bh].plot3d(x3d=True)"
   ]
  },
  {
   "cell_type": "code",
   "execution_count": 32,
   "metadata": {},
   "outputs": [
    {
     "data": {
      "text/html": [
       "<div style=\"width:100%;\"><div style=\"position:relative;width:100%;height:0;padding-bottom:60%;\"><span style=\"color:#565656\">Make this Notebook Trusted to load map: File -> Trust Notebook</span><iframe src=\"about:blank\" style=\"position:absolute;width:100%;height:100%;left:0;top:0;border:none !important;\" data-html=%3C%21DOCTYPE%20html%3E%0A%3Chead%3E%20%20%20%20%0A%20%20%20%20%3Cmeta%20http-equiv%3D%22content-type%22%20content%3D%22text/html%3B%20charset%3DUTF-8%22%20/%3E%0A%20%20%20%20%0A%20%20%20%20%20%20%20%20%3Cscript%3E%0A%20%20%20%20%20%20%20%20%20%20%20%20L_NO_TOUCH%20%3D%20false%3B%0A%20%20%20%20%20%20%20%20%20%20%20%20L_DISABLE_3D%20%3D%20false%3B%0A%20%20%20%20%20%20%20%20%3C/script%3E%0A%20%20%20%20%0A%20%20%20%20%3Cstyle%3Ehtml%2C%20body%20%7Bwidth%3A%20100%25%3Bheight%3A%20100%25%3Bmargin%3A%200%3Bpadding%3A%200%3B%7D%3C/style%3E%0A%20%20%20%20%3Cstyle%3E%23map%20%7Bposition%3Aabsolute%3Btop%3A0%3Bbottom%3A0%3Bright%3A0%3Bleft%3A0%3B%7D%3C/style%3E%0A%20%20%20%20%3Cscript%20src%3D%22https%3A//cdn.jsdelivr.net/npm/leaflet%401.6.0/dist/leaflet.js%22%3E%3C/script%3E%0A%20%20%20%20%3Cscript%20src%3D%22https%3A//code.jquery.com/jquery-1.12.4.min.js%22%3E%3C/script%3E%0A%20%20%20%20%3Cscript%20src%3D%22https%3A//maxcdn.bootstrapcdn.com/bootstrap/3.2.0/js/bootstrap.min.js%22%3E%3C/script%3E%0A%20%20%20%20%3Cscript%20src%3D%22https%3A//cdnjs.cloudflare.com/ajax/libs/Leaflet.awesome-markers/2.0.2/leaflet.awesome-markers.js%22%3E%3C/script%3E%0A%20%20%20%20%3Clink%20rel%3D%22stylesheet%22%20href%3D%22https%3A//cdn.jsdelivr.net/npm/leaflet%401.6.0/dist/leaflet.css%22/%3E%0A%20%20%20%20%3Clink%20rel%3D%22stylesheet%22%20href%3D%22https%3A//maxcdn.bootstrapcdn.com/bootstrap/3.2.0/css/bootstrap.min.css%22/%3E%0A%20%20%20%20%3Clink%20rel%3D%22stylesheet%22%20href%3D%22https%3A//maxcdn.bootstrapcdn.com/bootstrap/3.2.0/css/bootstrap-theme.min.css%22/%3E%0A%20%20%20%20%3Clink%20rel%3D%22stylesheet%22%20href%3D%22https%3A//maxcdn.bootstrapcdn.com/font-awesome/4.6.3/css/font-awesome.min.css%22/%3E%0A%20%20%20%20%3Clink%20rel%3D%22stylesheet%22%20href%3D%22https%3A//cdnjs.cloudflare.com/ajax/libs/Leaflet.awesome-markers/2.0.2/leaflet.awesome-markers.css%22/%3E%0A%20%20%20%20%3Clink%20rel%3D%22stylesheet%22%20href%3D%22https%3A//cdn.jsdelivr.net/gh/python-visualization/folium/folium/templates/leaflet.awesome.rotate.min.css%22/%3E%0A%20%20%20%20%0A%20%20%20%20%20%20%20%20%20%20%20%20%3Cmeta%20name%3D%22viewport%22%20content%3D%22width%3Ddevice-width%2C%0A%20%20%20%20%20%20%20%20%20%20%20%20%20%20%20%20initial-scale%3D1.0%2C%20maximum-scale%3D1.0%2C%20user-scalable%3Dno%22%20/%3E%0A%20%20%20%20%20%20%20%20%20%20%20%20%3Cstyle%3E%0A%20%20%20%20%20%20%20%20%20%20%20%20%20%20%20%20%23map_e6f39b8442544716aba7a388af66bec9%20%7B%0A%20%20%20%20%20%20%20%20%20%20%20%20%20%20%20%20%20%20%20%20position%3A%20relative%3B%0A%20%20%20%20%20%20%20%20%20%20%20%20%20%20%20%20%20%20%20%20width%3A%20100.0%25%3B%0A%20%20%20%20%20%20%20%20%20%20%20%20%20%20%20%20%20%20%20%20height%3A%20100.0%25%3B%0A%20%20%20%20%20%20%20%20%20%20%20%20%20%20%20%20%20%20%20%20left%3A%200.0%25%3B%0A%20%20%20%20%20%20%20%20%20%20%20%20%20%20%20%20%20%20%20%20top%3A%200.0%25%3B%0A%20%20%20%20%20%20%20%20%20%20%20%20%20%20%20%20%7D%0A%20%20%20%20%20%20%20%20%20%20%20%20%3C/style%3E%0A%20%20%20%20%20%20%20%20%0A%20%20%20%20%3Cscript%20src%3D%22https%3A//cdnjs.cloudflare.com/ajax/libs/leaflet-minimap/3.6.1/Control.MiniMap.js%22%3E%3C/script%3E%0A%20%20%20%20%3Clink%20rel%3D%22stylesheet%22%20href%3D%22https%3A//cdnjs.cloudflare.com/ajax/libs/leaflet-minimap/3.6.1/Control.MiniMap.css%22/%3E%0A%3C/head%3E%0A%3Cbody%3E%20%20%20%20%0A%20%20%20%20%0A%20%20%20%20%20%20%20%20%20%20%20%20%3Cdiv%20class%3D%22folium-map%22%20id%3D%22map_e6f39b8442544716aba7a388af66bec9%22%20%3E%3C/div%3E%0A%20%20%20%20%20%20%20%20%0A%3C/body%3E%0A%3Cscript%3E%20%20%20%20%0A%20%20%20%20%0A%20%20%20%20%20%20%20%20%20%20%20%20var%20map_e6f39b8442544716aba7a388af66bec9%20%3D%20L.map%28%0A%20%20%20%20%20%20%20%20%20%20%20%20%20%20%20%20%22map_e6f39b8442544716aba7a388af66bec9%22%2C%0A%20%20%20%20%20%20%20%20%20%20%20%20%20%20%20%20%7B%0A%20%20%20%20%20%20%20%20%20%20%20%20%20%20%20%20%20%20%20%20center%3A%20%5B50.40316070673727%2C%204.404286510256322%5D%2C%0A%20%20%20%20%20%20%20%20%20%20%20%20%20%20%20%20%20%20%20%20crs%3A%20L.CRS.EPSG3857%2C%0A%20%20%20%20%20%20%20%20%20%20%20%20%20%20%20%20%20%20%20%20zoom%3A%2015%2C%0A%20%20%20%20%20%20%20%20%20%20%20%20%20%20%20%20%20%20%20%20zoomControl%3A%20true%2C%0A%20%20%20%20%20%20%20%20%20%20%20%20%20%20%20%20%20%20%20%20preferCanvas%3A%20false%2C%0A%20%20%20%20%20%20%20%20%20%20%20%20%20%20%20%20%7D%0A%20%20%20%20%20%20%20%20%20%20%20%20%29%3B%0A%20%20%20%20%20%20%20%20%20%20%20%20L.control.scale%28%29.addTo%28map_e6f39b8442544716aba7a388af66bec9%29%3B%0A%0A%20%20%20%20%20%20%20%20%20%20%20%20%0A%0A%20%20%20%20%20%20%20%20%0A%20%20%20%20%0A%20%20%20%20%20%20%20%20%20%20%20%20var%20tile_layer_dd7630fec767401caba4269985b21e9c%20%3D%20L.tileLayer%28%0A%20%20%20%20%20%20%20%20%20%20%20%20%20%20%20%20%22https%3A//%7Bs%7D.tile.openstreetmap.org/%7Bz%7D/%7Bx%7D/%7By%7D.png%22%2C%0A%20%20%20%20%20%20%20%20%20%20%20%20%20%20%20%20%7B%22attribution%22%3A%20%22Data%20by%20%5Cu0026copy%3B%20%5Cu003ca%20href%3D%5C%22http%3A//openstreetmap.org%5C%22%5Cu003eOpenStreetMap%5Cu003c/a%5Cu003e%2C%20under%20%5Cu003ca%20href%3D%5C%22http%3A//www.openstreetmap.org/copyright%5C%22%5Cu003eODbL%5Cu003c/a%5Cu003e.%22%2C%20%22detectRetina%22%3A%20false%2C%20%22maxNativeZoom%22%3A%2025%2C%20%22maxZoom%22%3A%2025%2C%20%22minZoom%22%3A%200%2C%20%22noWrap%22%3A%20false%2C%20%22opacity%22%3A%201%2C%20%22subdomains%22%3A%20%22abc%22%2C%20%22tms%22%3A%20false%7D%0A%20%20%20%20%20%20%20%20%20%20%20%20%29.addTo%28map_e6f39b8442544716aba7a388af66bec9%29%3B%0A%20%20%20%20%20%20%20%20%0A%20%20%20%20%0A%20%20%20%20%20%20%20%20%20%20%20%20var%20tile_layer_0382bfdb589e4488bc49c65ed5bd8ab8%20%3D%20L.tileLayer%28%0A%20%20%20%20%20%20%20%20%20%20%20%20%20%20%20%20%22https%3A//server.arcgisonline.com/ArcGIS/rest/services/World_Imagery/MapServer/tile/%7Bz%7D/%7By%7D/%7Bx%7D%22%2C%0A%20%20%20%20%20%20%20%20%20%20%20%20%20%20%20%20%7B%22attribution%22%3A%20%22Tiles%20%5Cu0026copy%3B%20Esri%20%5Cu0026mdash%3B%20Source%3A%20Esri%2C%20i-cubed%2C%20USDA%2C%20USGS%2C%20AEX%2C%20GeoEye%2C%20Getmapping%2C%20Aerogrid%2C%20IGN%2C%20IGP%2C%20UPR-EGP%2C%20and%20the%20GIS%20User%20Community%22%2C%20%22detectRetina%22%3A%20false%2C%20%22maxNativeZoom%22%3A%2025%2C%20%22maxZoom%22%3A%2025%2C%20%22minZoom%22%3A%200%2C%20%22noWrap%22%3A%20false%2C%20%22opacity%22%3A%201%2C%20%22subdomains%22%3A%20%22abc%22%2C%20%22tms%22%3A%20false%7D%0A%20%20%20%20%20%20%20%20%20%20%20%20%29.addTo%28map_e6f39b8442544716aba7a388af66bec9%29%3B%0A%20%20%20%20%20%20%20%20%0A%20%20%20%20%0A%20%20%20%20%20%20%20%20%20%20%20%20var%20feature_group_fa5464de38644224a79ddc44f74ee565%20%3D%20L.featureGroup%28%0A%20%20%20%20%20%20%20%20%20%20%20%20%20%20%20%20%7B%7D%0A%20%20%20%20%20%20%20%20%20%20%20%20%29.addTo%28map_e6f39b8442544716aba7a388af66bec9%29%3B%0A%20%20%20%20%20%20%20%20%0A%20%20%20%20%0A%20%20%20%20%20%20%20%20%20%20%20%20var%20circle_marker_ddee1a5a79a646c48b9104be5d590579%20%3D%20L.circleMarker%28%0A%20%20%20%20%20%20%20%20%20%20%20%20%20%20%20%20%5B50.400246677298995%2C%204.405316738422422%5D%2C%0A%20%20%20%20%20%20%20%20%20%20%20%20%20%20%20%20%7B%22bubblingMouseEvents%22%3A%20true%2C%20%22color%22%3A%20%22red%22%2C%20%22dashArray%22%3A%20null%2C%20%22dashOffset%22%3A%20null%2C%20%22fill%22%3A%20true%2C%20%22fillColor%22%3A%20%22red%22%2C%20%22fillOpacity%22%3A%200.2%2C%20%22fillRule%22%3A%20%22evenodd%22%2C%20%22lineCap%22%3A%20%22round%22%2C%20%22lineJoin%22%3A%20%22round%22%2C%20%22opacity%22%3A%200.9%2C%20%22radius%22%3A%200.2%2C%20%22stroke%22%3A%20true%2C%20%22weight%22%3A%203%7D%0A%20%20%20%20%20%20%20%20%20%20%20%20%29.addTo%28feature_group_fa5464de38644224a79ddc44f74ee565%29%3B%0A%20%20%20%20%20%20%20%20%0A%20%20%20%20%0A%20%20%20%20%20%20%20%20var%20popup_9c28f9f1c8864f5c81407e3719119855%20%3D%20L.popup%28%7B%22maxWidth%22%3A%20%22100%25%22%7D%29%3B%0A%0A%20%20%20%20%20%20%20%20%0A%20%20%20%20%20%20%20%20%20%20%20%20var%20html_a26418628bb14245ab963e69645d101f%20%3D%20%24%28%60%3Cdiv%20id%3D%22html_a26418628bb14245ab963e69645d101f%22%20style%3D%22width%3A%20100.0%25%3B%20height%3A%20100.0%25%3B%22%3EBH001%3C/div%3E%60%29%5B0%5D%3B%0A%20%20%20%20%20%20%20%20%20%20%20%20popup_9c28f9f1c8864f5c81407e3719119855.setContent%28html_a26418628bb14245ab963e69645d101f%29%3B%0A%20%20%20%20%20%20%20%20%0A%0A%20%20%20%20%20%20%20%20circle_marker_ddee1a5a79a646c48b9104be5d590579.bindPopup%28popup_9c28f9f1c8864f5c81407e3719119855%29%0A%20%20%20%20%20%20%20%20%3B%0A%0A%20%20%20%20%20%20%20%20%0A%20%20%20%20%0A%20%20%20%20%0A%20%20%20%20%20%20%20%20%20%20%20%20var%20circle_marker_d632c94fb43048d5902e550c1fa29983%20%3D%20L.circleMarker%28%0A%20%20%20%20%20%20%20%20%20%20%20%20%20%20%20%20%5B50.405163369681965%2C%204.408401317498531%5D%2C%0A%20%20%20%20%20%20%20%20%20%20%20%20%20%20%20%20%7B%22bubblingMouseEvents%22%3A%20true%2C%20%22color%22%3A%20%22red%22%2C%20%22dashArray%22%3A%20null%2C%20%22dashOffset%22%3A%20null%2C%20%22fill%22%3A%20true%2C%20%22fillColor%22%3A%20%22red%22%2C%20%22fillOpacity%22%3A%200.2%2C%20%22fillRule%22%3A%20%22evenodd%22%2C%20%22lineCap%22%3A%20%22round%22%2C%20%22lineJoin%22%3A%20%22round%22%2C%20%22opacity%22%3A%200.9%2C%20%22radius%22%3A%200.2%2C%20%22stroke%22%3A%20true%2C%20%22weight%22%3A%203%7D%0A%20%20%20%20%20%20%20%20%20%20%20%20%29.addTo%28feature_group_fa5464de38644224a79ddc44f74ee565%29%3B%0A%20%20%20%20%20%20%20%20%0A%20%20%20%20%0A%20%20%20%20%20%20%20%20var%20popup_2503c9f267654fc0a65cf2fde3ab9120%20%3D%20L.popup%28%7B%22maxWidth%22%3A%20%22100%25%22%7D%29%3B%0A%0A%20%20%20%20%20%20%20%20%0A%20%20%20%20%20%20%20%20%20%20%20%20var%20html_3ed0f224cdc346109f6aab79ba73d94d%20%3D%20%24%28%60%3Cdiv%20id%3D%22html_3ed0f224cdc346109f6aab79ba73d94d%22%20style%3D%22width%3A%20100.0%25%3B%20height%3A%20100.0%25%3B%22%3EBH002%3C/div%3E%60%29%5B0%5D%3B%0A%20%20%20%20%20%20%20%20%20%20%20%20popup_2503c9f267654fc0a65cf2fde3ab9120.setContent%28html_3ed0f224cdc346109f6aab79ba73d94d%29%3B%0A%20%20%20%20%20%20%20%20%0A%0A%20%20%20%20%20%20%20%20circle_marker_d632c94fb43048d5902e550c1fa29983.bindPopup%28popup_2503c9f267654fc0a65cf2fde3ab9120%29%0A%20%20%20%20%20%20%20%20%3B%0A%0A%20%20%20%20%20%20%20%20%0A%20%20%20%20%0A%20%20%20%20%0A%20%20%20%20%20%20%20%20%20%20%20%20var%20circle_marker_237fbaa5da0d4c49bd71f0f4e676a37e%20%3D%20L.circleMarker%28%0A%20%20%20%20%20%20%20%20%20%20%20%20%20%20%20%20%5B50.40270849282434%2C%204.409848079213098%5D%2C%0A%20%20%20%20%20%20%20%20%20%20%20%20%20%20%20%20%7B%22bubblingMouseEvents%22%3A%20true%2C%20%22color%22%3A%20%22red%22%2C%20%22dashArray%22%3A%20null%2C%20%22dashOffset%22%3A%20null%2C%20%22fill%22%3A%20true%2C%20%22fillColor%22%3A%20%22red%22%2C%20%22fillOpacity%22%3A%200.2%2C%20%22fillRule%22%3A%20%22evenodd%22%2C%20%22lineCap%22%3A%20%22round%22%2C%20%22lineJoin%22%3A%20%22round%22%2C%20%22opacity%22%3A%200.9%2C%20%22radius%22%3A%200.2%2C%20%22stroke%22%3A%20true%2C%20%22weight%22%3A%203%7D%0A%20%20%20%20%20%20%20%20%20%20%20%20%29.addTo%28feature_group_fa5464de38644224a79ddc44f74ee565%29%3B%0A%20%20%20%20%20%20%20%20%0A%20%20%20%20%0A%20%20%20%20%20%20%20%20var%20popup_b9ec67fecca74065aad0285fcdf4e24f%20%3D%20L.popup%28%7B%22maxWidth%22%3A%20%22100%25%22%7D%29%3B%0A%0A%20%20%20%20%20%20%20%20%0A%20%20%20%20%20%20%20%20%20%20%20%20var%20html_41f09f468fa243a886e4b5f1955da83c%20%3D%20%24%28%60%3Cdiv%20id%3D%22html_41f09f468fa243a886e4b5f1955da83c%22%20style%3D%22width%3A%20100.0%25%3B%20height%3A%20100.0%25%3B%22%3EBH003%3C/div%3E%60%29%5B0%5D%3B%0A%20%20%20%20%20%20%20%20%20%20%20%20popup_b9ec67fecca74065aad0285fcdf4e24f.setContent%28html_41f09f468fa243a886e4b5f1955da83c%29%3B%0A%20%20%20%20%20%20%20%20%0A%0A%20%20%20%20%20%20%20%20circle_marker_237fbaa5da0d4c49bd71f0f4e676a37e.bindPopup%28popup_b9ec67fecca74065aad0285fcdf4e24f%29%0A%20%20%20%20%20%20%20%20%3B%0A%0A%20%20%20%20%20%20%20%20%0A%20%20%20%20%0A%20%20%20%20%0A%20%20%20%20%20%20%20%20%20%20%20%20var%20circle_marker_4396630f9edb41e5ba739442dfc386c5%20%3D%20L.circleMarker%28%0A%20%20%20%20%20%20%20%20%20%20%20%20%20%20%20%20%5B50.40433651424193%2C%204.407655065394905%5D%2C%0A%20%20%20%20%20%20%20%20%20%20%20%20%20%20%20%20%7B%22bubblingMouseEvents%22%3A%20true%2C%20%22color%22%3A%20%22red%22%2C%20%22dashArray%22%3A%20null%2C%20%22dashOffset%22%3A%20null%2C%20%22fill%22%3A%20true%2C%20%22fillColor%22%3A%20%22red%22%2C%20%22fillOpacity%22%3A%200.2%2C%20%22fillRule%22%3A%20%22evenodd%22%2C%20%22lineCap%22%3A%20%22round%22%2C%20%22lineJoin%22%3A%20%22round%22%2C%20%22opacity%22%3A%200.9%2C%20%22radius%22%3A%200.2%2C%20%22stroke%22%3A%20true%2C%20%22weight%22%3A%203%7D%0A%20%20%20%20%20%20%20%20%20%20%20%20%29.addTo%28feature_group_fa5464de38644224a79ddc44f74ee565%29%3B%0A%20%20%20%20%20%20%20%20%0A%20%20%20%20%0A%20%20%20%20%20%20%20%20var%20popup_a575d3a6014c490ea05a00b1b9e7ca06%20%3D%20L.popup%28%7B%22maxWidth%22%3A%20%22100%25%22%7D%29%3B%0A%0A%20%20%20%20%20%20%20%20%0A%20%20%20%20%20%20%20%20%20%20%20%20var%20html_de4a22dea33a461cbc9d2abd357d3b98%20%3D%20%24%28%60%3Cdiv%20id%3D%22html_de4a22dea33a461cbc9d2abd357d3b98%22%20style%3D%22width%3A%20100.0%25%3B%20height%3A%20100.0%25%3B%22%3EBH004%3C/div%3E%60%29%5B0%5D%3B%0A%20%20%20%20%20%20%20%20%20%20%20%20popup_a575d3a6014c490ea05a00b1b9e7ca06.setContent%28html_de4a22dea33a461cbc9d2abd357d3b98%29%3B%0A%20%20%20%20%20%20%20%20%0A%0A%20%20%20%20%20%20%20%20circle_marker_4396630f9edb41e5ba739442dfc386c5.bindPopup%28popup_a575d3a6014c490ea05a00b1b9e7ca06%29%0A%20%20%20%20%20%20%20%20%3B%0A%0A%20%20%20%20%20%20%20%20%0A%20%20%20%20%0A%20%20%20%20%0A%20%20%20%20%20%20%20%20%20%20%20%20var%20circle_marker_2d2454093d5f4fc4b08aca93c62d4424%20%3D%20L.circleMarker%28%0A%20%20%20%20%20%20%20%20%20%20%20%20%20%20%20%20%5B50.404032173705815%2C%204.403533216175507%5D%2C%0A%20%20%20%20%20%20%20%20%20%20%20%20%20%20%20%20%7B%22bubblingMouseEvents%22%3A%20true%2C%20%22color%22%3A%20%22red%22%2C%20%22dashArray%22%3A%20null%2C%20%22dashOffset%22%3A%20null%2C%20%22fill%22%3A%20true%2C%20%22fillColor%22%3A%20%22red%22%2C%20%22fillOpacity%22%3A%200.2%2C%20%22fillRule%22%3A%20%22evenodd%22%2C%20%22lineCap%22%3A%20%22round%22%2C%20%22lineJoin%22%3A%20%22round%22%2C%20%22opacity%22%3A%200.9%2C%20%22radius%22%3A%200.2%2C%20%22stroke%22%3A%20true%2C%20%22weight%22%3A%203%7D%0A%20%20%20%20%20%20%20%20%20%20%20%20%29.addTo%28feature_group_fa5464de38644224a79ddc44f74ee565%29%3B%0A%20%20%20%20%20%20%20%20%0A%20%20%20%20%0A%20%20%20%20%20%20%20%20var%20popup_72e9fd71a1d9439280b95fda577b6287%20%3D%20L.popup%28%7B%22maxWidth%22%3A%20%22100%25%22%7D%29%3B%0A%0A%20%20%20%20%20%20%20%20%0A%20%20%20%20%20%20%20%20%20%20%20%20var%20html_469aad32ccd5497f960e6f5e6e7361cb%20%3D%20%24%28%60%3Cdiv%20id%3D%22html_469aad32ccd5497f960e6f5e6e7361cb%22%20style%3D%22width%3A%20100.0%25%3B%20height%3A%20100.0%25%3B%22%3EBH005%3C/div%3E%60%29%5B0%5D%3B%0A%20%20%20%20%20%20%20%20%20%20%20%20popup_72e9fd71a1d9439280b95fda577b6287.setContent%28html_469aad32ccd5497f960e6f5e6e7361cb%29%3B%0A%20%20%20%20%20%20%20%20%0A%0A%20%20%20%20%20%20%20%20circle_marker_2d2454093d5f4fc4b08aca93c62d4424.bindPopup%28popup_72e9fd71a1d9439280b95fda577b6287%29%0A%20%20%20%20%20%20%20%20%3B%0A%0A%20%20%20%20%20%20%20%20%0A%20%20%20%20%0A%20%20%20%20%0A%20%20%20%20%20%20%20%20%20%20%20%20var%20circle_marker_0c850c5909634c80901695c2ddcb7f04%20%3D%20L.circleMarker%28%0A%20%20%20%20%20%20%20%20%20%20%20%20%20%20%20%20%5B50.39991500588762%2C%204.402151705105076%5D%2C%0A%20%20%20%20%20%20%20%20%20%20%20%20%20%20%20%20%7B%22bubblingMouseEvents%22%3A%20true%2C%20%22color%22%3A%20%22red%22%2C%20%22dashArray%22%3A%20null%2C%20%22dashOffset%22%3A%20null%2C%20%22fill%22%3A%20true%2C%20%22fillColor%22%3A%20%22red%22%2C%20%22fillOpacity%22%3A%200.2%2C%20%22fillRule%22%3A%20%22evenodd%22%2C%20%22lineCap%22%3A%20%22round%22%2C%20%22lineJoin%22%3A%20%22round%22%2C%20%22opacity%22%3A%200.9%2C%20%22radius%22%3A%200.2%2C%20%22stroke%22%3A%20true%2C%20%22weight%22%3A%203%7D%0A%20%20%20%20%20%20%20%20%20%20%20%20%29.addTo%28feature_group_fa5464de38644224a79ddc44f74ee565%29%3B%0A%20%20%20%20%20%20%20%20%0A%20%20%20%20%0A%20%20%20%20%20%20%20%20var%20popup_1b1710f73fc2433883d37623c3fdd681%20%3D%20L.popup%28%7B%22maxWidth%22%3A%20%22100%25%22%7D%29%3B%0A%0A%20%20%20%20%20%20%20%20%0A%20%20%20%20%20%20%20%20%20%20%20%20var%20html_215f98c2e3d24740ab88a04e4a685432%20%3D%20%24%28%60%3Cdiv%20id%3D%22html_215f98c2e3d24740ab88a04e4a685432%22%20style%3D%22width%3A%20100.0%25%3B%20height%3A%20100.0%25%3B%22%3EBH006%3C/div%3E%60%29%5B0%5D%3B%0A%20%20%20%20%20%20%20%20%20%20%20%20popup_1b1710f73fc2433883d37623c3fdd681.setContent%28html_215f98c2e3d24740ab88a04e4a685432%29%3B%0A%20%20%20%20%20%20%20%20%0A%0A%20%20%20%20%20%20%20%20circle_marker_0c850c5909634c80901695c2ddcb7f04.bindPopup%28popup_1b1710f73fc2433883d37623c3fdd681%29%0A%20%20%20%20%20%20%20%20%3B%0A%0A%20%20%20%20%20%20%20%20%0A%20%20%20%20%0A%20%20%20%20%0A%20%20%20%20%20%20%20%20%20%20%20%20var%20circle_marker_622a719974c34d9a828260649b4080a7%20%3D%20L.circleMarker%28%0A%20%20%20%20%20%20%20%20%20%20%20%20%20%20%20%20%5B50.40089307563868%2C%204.408046039659416%5D%2C%0A%20%20%20%20%20%20%20%20%20%20%20%20%20%20%20%20%7B%22bubblingMouseEvents%22%3A%20true%2C%20%22color%22%3A%20%22red%22%2C%20%22dashArray%22%3A%20null%2C%20%22dashOffset%22%3A%20null%2C%20%22fill%22%3A%20true%2C%20%22fillColor%22%3A%20%22red%22%2C%20%22fillOpacity%22%3A%200.2%2C%20%22fillRule%22%3A%20%22evenodd%22%2C%20%22lineCap%22%3A%20%22round%22%2C%20%22lineJoin%22%3A%20%22round%22%2C%20%22opacity%22%3A%200.9%2C%20%22radius%22%3A%200.2%2C%20%22stroke%22%3A%20true%2C%20%22weight%22%3A%203%7D%0A%20%20%20%20%20%20%20%20%20%20%20%20%29.addTo%28feature_group_fa5464de38644224a79ddc44f74ee565%29%3B%0A%20%20%20%20%20%20%20%20%0A%20%20%20%20%0A%20%20%20%20%20%20%20%20var%20popup_6eea018d950c46679eb256e279c67f49%20%3D%20L.popup%28%7B%22maxWidth%22%3A%20%22100%25%22%7D%29%3B%0A%0A%20%20%20%20%20%20%20%20%0A%20%20%20%20%20%20%20%20%20%20%20%20var%20html_64467360f1a64fc1b1156dae6e1478ff%20%3D%20%24%28%60%3Cdiv%20id%3D%22html_64467360f1a64fc1b1156dae6e1478ff%22%20style%3D%22width%3A%20100.0%25%3B%20height%3A%20100.0%25%3B%22%3EBH007%3C/div%3E%60%29%5B0%5D%3B%0A%20%20%20%20%20%20%20%20%20%20%20%20popup_6eea018d950c46679eb256e279c67f49.setContent%28html_64467360f1a64fc1b1156dae6e1478ff%29%3B%0A%20%20%20%20%20%20%20%20%0A%0A%20%20%20%20%20%20%20%20circle_marker_622a719974c34d9a828260649b4080a7.bindPopup%28popup_6eea018d950c46679eb256e279c67f49%29%0A%20%20%20%20%20%20%20%20%3B%0A%0A%20%20%20%20%20%20%20%20%0A%20%20%20%20%0A%20%20%20%20%0A%20%20%20%20%20%20%20%20%20%20%20%20var%20circle_marker_779c88c1e12f4c72a7f947cbf9e81f12%20%3D%20L.circleMarker%28%0A%20%20%20%20%20%20%20%20%20%20%20%20%20%20%20%20%5B50.405103323153014%2C%204.398990312569181%5D%2C%0A%20%20%20%20%20%20%20%20%20%20%20%20%20%20%20%20%7B%22bubblingMouseEvents%22%3A%20true%2C%20%22color%22%3A%20%22red%22%2C%20%22dashArray%22%3A%20null%2C%20%22dashOffset%22%3A%20null%2C%20%22fill%22%3A%20true%2C%20%22fillColor%22%3A%20%22red%22%2C%20%22fillOpacity%22%3A%200.2%2C%20%22fillRule%22%3A%20%22evenodd%22%2C%20%22lineCap%22%3A%20%22round%22%2C%20%22lineJoin%22%3A%20%22round%22%2C%20%22opacity%22%3A%200.9%2C%20%22radius%22%3A%200.2%2C%20%22stroke%22%3A%20true%2C%20%22weight%22%3A%203%7D%0A%20%20%20%20%20%20%20%20%20%20%20%20%29.addTo%28feature_group_fa5464de38644224a79ddc44f74ee565%29%3B%0A%20%20%20%20%20%20%20%20%0A%20%20%20%20%0A%20%20%20%20%20%20%20%20var%20popup_7431914d84f242acb1867e6d79f2d90a%20%3D%20L.popup%28%7B%22maxWidth%22%3A%20%22100%25%22%7D%29%3B%0A%0A%20%20%20%20%20%20%20%20%0A%20%20%20%20%20%20%20%20%20%20%20%20var%20html_d3f06716a43341a3ba258012d0c14e01%20%3D%20%24%28%60%3Cdiv%20id%3D%22html_d3f06716a43341a3ba258012d0c14e01%22%20style%3D%22width%3A%20100.0%25%3B%20height%3A%20100.0%25%3B%22%3EBH008%3C/div%3E%60%29%5B0%5D%3B%0A%20%20%20%20%20%20%20%20%20%20%20%20popup_7431914d84f242acb1867e6d79f2d90a.setContent%28html_d3f06716a43341a3ba258012d0c14e01%29%3B%0A%20%20%20%20%20%20%20%20%0A%0A%20%20%20%20%20%20%20%20circle_marker_779c88c1e12f4c72a7f947cbf9e81f12.bindPopup%28popup_7431914d84f242acb1867e6d79f2d90a%29%0A%20%20%20%20%20%20%20%20%3B%0A%0A%20%20%20%20%20%20%20%20%0A%20%20%20%20%0A%20%20%20%20%0A%20%20%20%20%20%20%20%20%20%20%20%20var%20circle_marker_7602d281456a4c718dab5e7071dc8962%20%3D%20L.circleMarker%28%0A%20%20%20%20%20%20%20%20%20%20%20%20%20%20%20%20%5B50.40253244229688%2C%204.397610126989354%5D%2C%0A%20%20%20%20%20%20%20%20%20%20%20%20%20%20%20%20%7B%22bubblingMouseEvents%22%3A%20true%2C%20%22color%22%3A%20%22red%22%2C%20%22dashArray%22%3A%20null%2C%20%22dashOffset%22%3A%20null%2C%20%22fill%22%3A%20true%2C%20%22fillColor%22%3A%20%22red%22%2C%20%22fillOpacity%22%3A%200.2%2C%20%22fillRule%22%3A%20%22evenodd%22%2C%20%22lineCap%22%3A%20%22round%22%2C%20%22lineJoin%22%3A%20%22round%22%2C%20%22opacity%22%3A%200.9%2C%20%22radius%22%3A%200.2%2C%20%22stroke%22%3A%20true%2C%20%22weight%22%3A%203%7D%0A%20%20%20%20%20%20%20%20%20%20%20%20%29.addTo%28feature_group_fa5464de38644224a79ddc44f74ee565%29%3B%0A%20%20%20%20%20%20%20%20%0A%20%20%20%20%0A%20%20%20%20%20%20%20%20var%20popup_1adf064e6ad247b1af739f8d14a7b59d%20%3D%20L.popup%28%7B%22maxWidth%22%3A%20%22100%25%22%7D%29%3B%0A%0A%20%20%20%20%20%20%20%20%0A%20%20%20%20%20%20%20%20%20%20%20%20var%20html_06d1fafb0897417ebe5248dd53776d3c%20%3D%20%24%28%60%3Cdiv%20id%3D%22html_06d1fafb0897417ebe5248dd53776d3c%22%20style%3D%22width%3A%20100.0%25%3B%20height%3A%20100.0%25%3B%22%3EBH009%3C/div%3E%60%29%5B0%5D%3B%0A%20%20%20%20%20%20%20%20%20%20%20%20popup_1adf064e6ad247b1af739f8d14a7b59d.setContent%28html_06d1fafb0897417ebe5248dd53776d3c%29%3B%0A%20%20%20%20%20%20%20%20%0A%0A%20%20%20%20%20%20%20%20circle_marker_7602d281456a4c718dab5e7071dc8962.bindPopup%28popup_1adf064e6ad247b1af739f8d14a7b59d%29%0A%20%20%20%20%20%20%20%20%3B%0A%0A%20%20%20%20%20%20%20%20%0A%20%20%20%20%0A%20%20%20%20%0A%20%20%20%20%20%20%20%20%20%20%20%20var%20circle_marker_98a6312006ab4a85935b144616a567e4%20%3D%20L.circleMarker%28%0A%20%20%20%20%20%20%20%20%20%20%20%20%20%20%20%20%5B50.40667599264342%2C%204.401312501535724%5D%2C%0A%20%20%20%20%20%20%20%20%20%20%20%20%20%20%20%20%7B%22bubblingMouseEvents%22%3A%20true%2C%20%22color%22%3A%20%22red%22%2C%20%22dashArray%22%3A%20null%2C%20%22dashOffset%22%3A%20null%2C%20%22fill%22%3A%20true%2C%20%22fillColor%22%3A%20%22red%22%2C%20%22fillOpacity%22%3A%200.2%2C%20%22fillRule%22%3A%20%22evenodd%22%2C%20%22lineCap%22%3A%20%22round%22%2C%20%22lineJoin%22%3A%20%22round%22%2C%20%22opacity%22%3A%200.9%2C%20%22radius%22%3A%200.2%2C%20%22stroke%22%3A%20true%2C%20%22weight%22%3A%203%7D%0A%20%20%20%20%20%20%20%20%20%20%20%20%29.addTo%28feature_group_fa5464de38644224a79ddc44f74ee565%29%3B%0A%20%20%20%20%20%20%20%20%0A%20%20%20%20%0A%20%20%20%20%20%20%20%20var%20popup_d939d4264b8e47efacbd34265168f6c5%20%3D%20L.popup%28%7B%22maxWidth%22%3A%20%22100%25%22%7D%29%3B%0A%0A%20%20%20%20%20%20%20%20%0A%20%20%20%20%20%20%20%20%20%20%20%20var%20html_e028fb41cf7d41d481cdc7ec3f3ef353%20%3D%20%24%28%60%3Cdiv%20id%3D%22html_e028fb41cf7d41d481cdc7ec3f3ef353%22%20style%3D%22width%3A%20100.0%25%3B%20height%3A%20100.0%25%3B%22%3EBH10%3C/div%3E%60%29%5B0%5D%3B%0A%20%20%20%20%20%20%20%20%20%20%20%20popup_d939d4264b8e47efacbd34265168f6c5.setContent%28html_e028fb41cf7d41d481cdc7ec3f3ef353%29%3B%0A%20%20%20%20%20%20%20%20%0A%0A%20%20%20%20%20%20%20%20circle_marker_98a6312006ab4a85935b144616a567e4.bindPopup%28popup_d939d4264b8e47efacbd34265168f6c5%29%0A%20%20%20%20%20%20%20%20%3B%0A%0A%20%20%20%20%20%20%20%20%0A%20%20%20%20%0A%20%20%20%20%0A%20%20%20%20%20%20%20%20%20%20%20%20var%20layer_control_0f605153572c4a00ad8a305eead42895%20%3D%20%7B%0A%20%20%20%20%20%20%20%20%20%20%20%20%20%20%20%20base_layers%20%3A%20%7B%0A%20%20%20%20%20%20%20%20%20%20%20%20%20%20%20%20%20%20%20%20%22openstreetmap%22%20%3A%20tile_layer_dd7630fec767401caba4269985b21e9c%2C%0A%20%20%20%20%20%20%20%20%20%20%20%20%20%20%20%20%20%20%20%20%22Satellite%22%20%3A%20tile_layer_0382bfdb589e4488bc49c65ed5bd8ab8%2C%0A%20%20%20%20%20%20%20%20%20%20%20%20%20%20%20%20%7D%2C%0A%20%20%20%20%20%20%20%20%20%20%20%20%20%20%20%20overlays%20%3A%20%20%7B%0A%20%20%20%20%20%20%20%20%20%20%20%20%20%20%20%20%20%20%20%20%22Boreholes%22%20%3A%20feature_group_fa5464de38644224a79ddc44f74ee565%2C%0A%20%20%20%20%20%20%20%20%20%20%20%20%20%20%20%20%7D%2C%0A%20%20%20%20%20%20%20%20%20%20%20%20%7D%3B%0A%20%20%20%20%20%20%20%20%20%20%20%20L.control.layers%28%0A%20%20%20%20%20%20%20%20%20%20%20%20%20%20%20%20layer_control_0f605153572c4a00ad8a305eead42895.base_layers%2C%0A%20%20%20%20%20%20%20%20%20%20%20%20%20%20%20%20layer_control_0f605153572c4a00ad8a305eead42895.overlays%2C%0A%20%20%20%20%20%20%20%20%20%20%20%20%20%20%20%20%7B%22autoZIndex%22%3A%20true%2C%20%22collapsed%22%3A%20true%2C%20%22position%22%3A%20%22topright%22%7D%0A%20%20%20%20%20%20%20%20%20%20%20%20%29.addTo%28map_e6f39b8442544716aba7a388af66bec9%29%3B%0A%20%20%20%20%20%20%20%20%20%20%20%20tile_layer_0382bfdb589e4488bc49c65ed5bd8ab8.remove%28%29%3B%0A%20%20%20%20%20%20%20%20%0A%20%20%20%20%0A%20%20%20%20%20%20%20%20%20%20%20%20var%20tile_layer_095075dc2f214ff297e0ab16e1da3689%20%3D%20L.tileLayer%28%0A%20%20%20%20%20%20%20%20%20%20%20%20%20%20%20%20%22https%3A//%7Bs%7D.tile.openstreetmap.org/%7Bz%7D/%7Bx%7D/%7By%7D.png%22%2C%0A%20%20%20%20%20%20%20%20%20%20%20%20%20%20%20%20%7B%22attribution%22%3A%20%22Data%20by%20%5Cu0026copy%3B%20%5Cu003ca%20href%3D%5C%22http%3A//openstreetmap.org%5C%22%5Cu003eOpenStreetMap%5Cu003c/a%5Cu003e%2C%20under%20%5Cu003ca%20href%3D%5C%22http%3A//www.openstreetmap.org/copyright%5C%22%5Cu003eODbL%5Cu003c/a%5Cu003e.%22%2C%20%22detectRetina%22%3A%20false%2C%20%22maxNativeZoom%22%3A%2018%2C%20%22maxZoom%22%3A%2018%2C%20%22minZoom%22%3A%200%2C%20%22noWrap%22%3A%20false%2C%20%22opacity%22%3A%201%2C%20%22subdomains%22%3A%20%22abc%22%2C%20%22tms%22%3A%20false%7D%0A%20%20%20%20%20%20%20%20%20%20%20%20%29%3B%0A%20%20%20%20%20%20%20%20%20%20%20%20var%20mini_map_d826977b1d2b417db2da75eb32e0b971%20%3D%20new%20L.Control.MiniMap%28%0A%20%20%20%20%20%20%20%20%20%20%20%20%20%20%20%20tile_layer_095075dc2f214ff297e0ab16e1da3689%2C%0A%20%20%20%20%20%20%20%20%20%20%20%20%20%20%20%20%7B%22autoToggleDisplay%22%3A%20false%2C%20%22centerFixed%22%3A%20false%2C%20%22collapsedHeight%22%3A%2025%2C%20%22collapsedWidth%22%3A%2025%2C%20%22height%22%3A%20150%2C%20%22minimized%22%3A%20false%2C%20%22position%22%3A%20%22bottomright%22%2C%20%22toggleDisplay%22%3A%20true%2C%20%22width%22%3A%20150%2C%20%22zoomAnimation%22%3A%20false%2C%20%22zoomLevelOffset%22%3A%20-6%7D%0A%20%20%20%20%20%20%20%20%20%20%20%20%29%3B%0A%20%20%20%20%20%20%20%20%20%20%20%20map_e6f39b8442544716aba7a388af66bec9.addControl%28mini_map_d826977b1d2b417db2da75eb32e0b971%29%3B%0A%20%20%20%20%20%20%20%20%0A%3C/script%3E onload=\"this.contentDocument.open();this.contentDocument.write(    decodeURIComponent(this.getAttribute('data-html')));this.contentDocument.close();\" allowfullscreen webkitallowfullscreen mozallowfullscreen></iframe></div></div>"
      ],
      "text/plain": [
       "<folium.folium.Map at 0x7f2052f37610>"
      ]
     },
     "execution_count": 32,
     "metadata": {},
     "output_type": "execute_result"
    }
   ],
   "source": [
    "p.plot2d()"
   ]
  },
  {
   "cell_type": "code",
   "execution_count": 33,
   "metadata": {},
   "outputs": [
    {
     "ename": "TypeError",
     "evalue": "list indices must be integers or slices, not str",
     "output_type": "error",
     "traceback": [
      "\u001b[0;31m---------------------------------------------------------------------------\u001b[0m",
      "\u001b[0;31mTypeError\u001b[0m                                 Traceback (most recent call last)",
      "\u001b[0;32m/tmp/ipykernel_9585/2681146935.py\u001b[0m in \u001b[0;36m<module>\u001b[0;34m\u001b[0m\n\u001b[0;32m----> 1\u001b[0;31m \u001b[0mp\u001b[0m\u001b[0;34m.\u001b[0m\u001b[0mboreholes_3d\u001b[0m\u001b[0;34m[\u001b[0m\u001b[0;36m0\u001b[0m\u001b[0;34m]\u001b[0m\u001b[0;34m.\u001b[0m\u001b[0mintervals\u001b[0m\u001b[0;34m[\u001b[0m\u001b[0;34m'top'\u001b[0m\u001b[0;34m]\u001b[0m\u001b[0;34m\u001b[0m\u001b[0;34m\u001b[0m\u001b[0m\n\u001b[0m",
      "\u001b[0;31mTypeError\u001b[0m: list indices must be integers or slices, not str"
     ]
    }
   ],
   "source": [
    "p.boreholes_3d[0].intervals['top']"
   ]
  },
  {
   "cell_type": "markdown",
   "metadata": {},
   "source": [
    "## Plot with another attribute"
   ]
  },
  {
   "cell_type": "code",
   "execution_count": null,
   "metadata": {},
   "outputs": [],
   "source": [
    "p.legend_dict"
   ]
  },
  {
   "cell_type": "raw",
   "metadata": {},
   "source": [
    "p.update_legend_cmap(repr_attribute='pollutant')[1] #legend=lithology_memoris, update_legend=False)[0]"
   ]
  },
  {
   "cell_type": "code",
   "execution_count": null,
   "metadata": {},
   "outputs": [],
   "source": [
    "p.boreholes_3d[bh].log_plot(repr_attribute=attributes[1])"
   ]
  },
  {
   "cell_type": "code",
   "execution_count": null,
   "metadata": {
    "scrolled": false
   },
   "outputs": [],
   "source": [
    "p.boreholes_3d[bh].plot3d(repr_attribute=attributes[1])"
   ]
  },
  {
   "cell_type": "markdown",
   "metadata": {},
   "source": [
    "### Display project boreholes"
   ]
  },
  {
   "cell_type": "code",
   "execution_count": null,
   "metadata": {},
   "outputs": [],
   "source": [
    "p.plot3d(repr_attribute=attributes[0], labels_size=15, bg_color=[\"royalblue\", \"aliceblue\"], window_size=(1300, 1000))"
   ]
  },
  {
   "cell_type": "markdown",
   "metadata": {},
   "source": [
    "### Boreholes in 3D using X3D for interaction within the notebook"
   ]
  },
  {
   "cell_type": "raw",
   "metadata": {
    "scrolled": false
   },
   "source": [
    "p.plot3d(x3d=True)"
   ]
  },
  {
   "cell_type": "code",
   "execution_count": null,
   "metadata": {},
   "outputs": [],
   "source": []
  }
 ],
 "metadata": {
  "kernelspec": {
   "display_name": "Python 3 (ipykernel)",
   "language": "python",
   "name": "python3"
  },
  "language_info": {
   "codemirror_mode": {
    "name": "ipython",
    "version": 3
   },
   "file_extension": ".py",
   "mimetype": "text/x-python",
   "name": "python",
   "nbconvert_exporter": "python",
   "pygments_lexer": "ipython3",
   "version": "3.8.10"
  }
 },
 "nbformat": 4,
 "nbformat_minor": 4
}
