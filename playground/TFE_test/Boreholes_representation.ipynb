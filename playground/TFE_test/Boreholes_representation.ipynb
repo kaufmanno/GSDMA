{
 "cells": [
  {
   "cell_type": "markdown",
   "metadata": {},
   "source": [
    "# Example of using the Borehole3D class"
   ]
  },
  {
   "cell_type": "markdown",
   "metadata": {},
   "source": [
    "## Imports"
   ]
  },
  {
   "cell_type": "code",
   "execution_count": 1,
   "metadata": {},
   "outputs": [],
   "source": [
    "from striplog import Component, Decor, Legend, Lexicon, Striplog\n",
    "from core.visual import Borehole3D, striplog_legend_to_omf_legend \n",
    "from utils.lexicon.lexicon_memoris import lexicon_memoris, lithology_memoris, pollutants_memoris, CONTAMINATION_LEVELS_MEMORIS\n",
    "from utils.orm import boreholes_from_dataframe\n",
    "from utils.io import dataframe_viewer\n",
    "from core.project import Project\n",
    "from core.orm import BoreholeOrm, PositionOrm, Base \n",
    "import random\n",
    "from os import remove\n",
    "import re\n",
    "import pandas as pd\n",
    "import numpy as np\n",
    "from sqlalchemy import create_engine\n",
    "from sqlalchemy.orm import sessionmaker\n",
    "from definitions import ROOT_DIR"
   ]
  },
  {
   "cell_type": "markdown",
   "metadata": {},
   "source": [
    "## Reading of CSV files in a dir"
   ]
  },
  {
   "cell_type": "code",
   "execution_count": 2,
   "metadata": {},
   "outputs": [],
   "source": [
    "#df = pd.read_csv('test_data_boreholes.csv', sep=',') # use english lexicon\n",
    "df = pd.read_csv('test_litho_fr.csv', sep=',') # use french lexicon"
   ]
  },
  {
   "cell_type": "raw",
   "metadata": {},
   "source": [
    "std_soil = pd.read_csv(ROOT_DIR+'/CF_data/Result_traitem/Memoris_seafile/donnees_Standards_S.csv')\n",
    "std_water = pd.read_csv(ROOT_DIR+'/CF_data/Result_traitem/Memoris_seafile/donnees_Standards_W.csv')"
   ]
  },
  {
   "cell_type": "raw",
   "metadata": {},
   "source": [
    "all_pollutants = std_soil['Polluant'].apply(lambda x: re.sub('é|è','e', x).rstrip(' ').lower()).to_list()\n",
    "all_pollutants"
   ]
  },
  {
   "cell_type": "code",
   "execution_count": 3,
   "metadata": {},
   "outputs": [
    {
     "name": "stdout",
     "output_type": "stream",
     "text": [
      "['arsenic', 'cadmium', 'chrome total', 'chrome vi', 'cobalt', 'cuivre', 'mercure', 'plomb', 'nickel', 'zinc', 'benzene', 'toluene', 'ethylbenzene', 'xylene sum', 'styrene', 'phenol', 'naphtalene', 'acenaphtylene', 'acenaphtene', 'fluorene', 'phenanthrene', 'anthracene', 'fluoranthene', 'pyrene', 'benzo(a)anthracene', 'chrysene', 'benzo(b)fluoranthene', 'benzo(k)fluoranthene', 'benzo(a)pyrene', 'dibenzo(ah)anthracene', 'benzo(ghi)perylene', 'indeno(1.2.3-cd)pyrene', '1.1-dichloroethane', '1.2-dichloroethane', 'cis 1.2 dichloroethene', 'trans 1.2 dichloroethene', 'dichloromethane', '1.2 dichloroethene sum', '1.2-dichloropropane', 'tetrachloroethene', 'tetrachloromethane', '1.1.1-trichloroethane', '1.1.2-trichloroethane', 'trichloroethene', 'trichloromethane (chloroforme)', 'chlorure de vinyle (chloroethene)', 'cyanures libres', 'methyl-tert-butyl-ether', 'fraction 5-8', 'fraction ec 8-10', 'fraction ec 10-12', 'fraction ec 12-16', 'fraction ec 16-21', 'fraction ec 21-35']\n"
     ]
    }
   ],
   "source": [
    "all_pollutants = pollutants_memoris.pollutant\n",
    "print(all_pollutants)"
   ]
  },
  {
   "cell_type": "markdown",
   "metadata": {},
   "source": [
    "## Data Checking"
   ]
  },
  {
   "cell_type": "code",
   "execution_count": 4,
   "metadata": {},
   "outputs": [],
   "source": [
    "#df[['Pollutant', 'Concentration']] = ''\n",
    "df.drop(columns=['Pollutant', 'Concentration', 'Unit'], inplace=True)\n",
    "#df['Concentration'] = df['Concentration'].apply(lambda x: np.random.randint(0,100))\n",
    "#df['Unit'] = 'mg/l'"
   ]
  },
  {
   "cell_type": "code",
   "execution_count": 5,
   "metadata": {},
   "outputs": [],
   "source": [
    "pol_lev = ['VR','VS','VI', 'Inconnu']\n",
    "df[all_pollutants[0:2]] = ''\n",
    "df[all_pollutants[0]] = df[all_pollutants[0]].apply(lambda x: random.sample(pol_lev, 1)[0])\n",
    "df[all_pollutants[1]] = df[all_pollutants[1]].apply(lambda x: random.sample(pol_lev, 1)[0])"
   ]
  },
  {
   "cell_type": "code",
   "execution_count": 6,
   "metadata": {},
   "outputs": [],
   "source": [
    "df['Lithology'] = df['Lithology'].replace({'Grès':'Marne', 'Calcaire':'Dolomie'})"
   ]
  },
  {
   "cell_type": "code",
   "execution_count": 7,
   "metadata": {},
   "outputs": [],
   "source": [
    "df.loc[35.5, :] = ['BH007',152794.0, 121111.0, 60.0, 0.57, 45, 'Calcaire', 'Bleu', 4, 41, 45, 'VS', 'VR']\n",
    "df.loc[25.5, :] = ['BH005',152473.0, 121460.0, 72.0, 0.61, 32, 'Schiste', 'gris', 3, 29, 32, 'VI', 'VR']\n",
    "df.loc[25.6, :] = ['BH005',152473.0, 121460.0, 68.0, 0.61, 36, 'Calcaire', 'Bleu', 4, 32, 36, 'Inconnu', 'VR']\n",
    "\n",
    "df.drop(index=4, inplace=True)\n",
    "df.drop(columns='Colour', inplace=True)\n",
    "df = df.sort_index().reset_index(drop=True)"
   ]
  },
  {
   "cell_type": "code",
   "execution_count": 8,
   "metadata": {},
   "outputs": [],
   "source": [
    "pollutants = [p for p in all_pollutants if p in df.columns]"
   ]
  },
  {
   "cell_type": "code",
   "execution_count": 9,
   "metadata": {},
   "outputs": [
    {
     "name": "stdout",
     "output_type": "stream",
     "text": [
      "Rows : 997, columns : 12\n"
     ]
    },
    {
     "data": {
      "application/vnd.jupyter.widget-view+json": {
       "model_id": "b9fbc4ff57dc494e86443a824f504ed6",
       "version_major": 2,
       "version_minor": 0
      },
      "text/plain": [
       "interactive(children=(IntSlider(value=10, description='rows', max=997, min=10, readout=False), IntSlider(value…"
      ]
     },
     "metadata": {},
     "output_type": "display_data"
    }
   ],
   "source": [
    "dataframe_viewer(df)"
   ]
  },
  {
   "cell_type": "raw",
   "metadata": {},
   "source": [
    "df.to_csv('test_litho_fr.csv', index=False)"
   ]
  },
  {
   "cell_type": "raw",
   "metadata": {},
   "source": [
    "df.query('X==152013.0 and Y==121905.0')"
   ]
  },
  {
   "cell_type": "markdown",
   "metadata": {},
   "source": [
    "## Create Boreholes from dataframes or files"
   ]
  },
  {
   "cell_type": "code",
   "execution_count": 10,
   "metadata": {},
   "outputs": [
    {
     "data": {
      "text/plain": [
       "3"
      ]
     },
     "execution_count": 10,
     "metadata": {},
     "output_type": "execute_result"
    }
   ],
   "source": [
    "d = {'a':1, 'b':2, 'c':3, 'd':4}\n",
    "list(d.keys()).index('d')"
   ]
  },
  {
   "cell_type": "code",
   "execution_count": 11,
   "metadata": {
    "scrolled": true
   },
   "outputs": [
    {
     "name": "stdout",
     "output_type": "stream",
     "text": [
      "\n",
      "Dataframe processing...\n",
      "================================\n",
      "\n",
      "|__ID:'BH001'\n",
      "[Component({'lithology': 'sable'}), Component({'arsenic': 'vi'}), Component({'cadmium': 'vs'})]\n",
      "[Component({'lithology': 'argile'}), Component({'arsenic': 'vs'}), Component({'cadmium': 'vs'})]\n",
      "[Component({'lithology': 'marne'}), Component({'arsenic': 'vr'}), Component({'cadmium': 'vs'})]\n",
      "[Component({'lithology': 'charbon'}), Component({'arsenic': 'inconnu'}), Component({'cadmium': 'vs'})]\n",
      "Summary : [Striplog(4 Intervals, start=0.0, stop=28.0)]\n",
      "\n",
      "|__ID:'BH002'\n",
      "[Component({'lithology': 'sable'}), Component({'arsenic': 'vr'}), Component({'cadmium': 'vr'})]\n",
      "[Component({'lithology': 'argile'}), Component({'arsenic': 'vr'}), Component({'cadmium': 'inconnu'})]\n",
      "[Component({'lithology': 'marne'}), Component({'arsenic': 'inconnu'}), Component({'cadmium': 'vs'})]\n",
      "[Component({'lithology': 'charbon'}), Component({'arsenic': 'vr'}), Component({'cadmium': 'inconnu'})]\n",
      "[Component({'lithology': 'dolomie'}), Component({'arsenic': 'vr'}), Component({'cadmium': 'vi'})]\n",
      "Summary : [Striplog(5 Intervals, start=0.0, stop=37.0)]\n",
      "\n",
      "|__ID:'BH003'\n",
      "[Component({'lithology': 'sable'}), Component({'arsenic': 'vs'}), Component({'cadmium': 'vi'})]\n",
      "[Component({'lithology': 'argile'}), Component({'arsenic': 'vi'}), Component({'cadmium': 'vr'})]\n",
      "[Component({'lithology': 'marne'}), Component({'arsenic': 'vr'}), Component({'cadmium': 'vi'})]\n",
      "[Component({'lithology': 'charbon'}), Component({'arsenic': 'inconnu'}), Component({'cadmium': 'vi'})]\n",
      "[Component({'lithology': 'dolomie'}), Component({'arsenic': 'inconnu'}), Component({'cadmium': 'vr'})]\n",
      "Summary : [Striplog(5 Intervals, start=0.0, stop=18.0)]\n",
      "\n",
      "|__ID:'BH004'\n",
      "[Component({'lithology': 'sable'}), Component({'arsenic': 'vs'}), Component({'cadmium': 'vr'})]\n",
      "[Component({'lithology': 'argile'}), Component({'arsenic': 'vi'}), Component({'cadmium': 'vi'})]\n",
      "[Component({'lithology': 'marne'}), Component({'arsenic': 'vs'}), Component({'cadmium': 'inconnu'})]\n",
      "[Component({'lithology': 'charbon'}), Component({'arsenic': 'vi'}), Component({'cadmium': 'vs'})]\n",
      "[Component({'lithology': 'dolomie'}), Component({'arsenic': 'inconnu'}), Component({'cadmium': 'vi'})]\n",
      "Summary : [Striplog(5 Intervals, start=0.0, stop=26.0)]\n",
      "\n",
      "|__ID:'BH005'\n",
      "[Component({'lithology': 'sable'}), Component({'arsenic': 'vi'}), Component({'cadmium': 'inconnu'})]\n",
      "[Component({'lithology': 'argile'}), Component({'arsenic': 'vi'}), Component({'cadmium': 'vr'})]\n",
      "[Component({'lithology': 'marne'}), Component({'arsenic': 'vr'}), Component({'cadmium': 'vr'})]\n",
      "[Component({'lithology': 'charbon'}), Component({'arsenic': 'inconnu'}), Component({'cadmium': 'vi'})]\n",
      "[Component({'lithology': 'dolomie'}), Component({'arsenic': 'vr'}), Component({'cadmium': 'vs'})]\n",
      "[Component({'lithology': 'schiste'}), Component({'arsenic': 'vi'}), Component({'cadmium': 'vr'})]\n",
      "[Component({'lithology': 'calcaire'}), Component({'arsenic': 'inconnu'}), Component({'cadmium': 'vr'})]\n",
      "Summary : [Striplog(7 Intervals, start=0.0, stop=36.0)]\n",
      "\n",
      "|__ID:'BH006'\n",
      "[Component({'lithology': 'sable'}), Component({'arsenic': 'vs'}), Component({'cadmium': 'vi'})]\n",
      "[Component({'lithology': 'argile'}), Component({'arsenic': 'vs'}), Component({'cadmium': 'inconnu'})]\n",
      "[Component({'lithology': 'marne'}), Component({'arsenic': 'inconnu'}), Component({'cadmium': 'inconnu'})]\n",
      "[Component({'lithology': 'charbon'}), Component({'arsenic': 'inconnu'}), Component({'cadmium': 'vi'})]\n",
      "[Component({'lithology': 'dolomie'}), Component({'arsenic': 'vs'}), Component({'cadmium': 'inconnu'})]\n",
      "Summary : [Striplog(5 Intervals, start=0.0, stop=26.0)]\n",
      "\n",
      "|__ID:'BH007'\n",
      "[Component({'lithology': 'sable'}), Component({'arsenic': 'vs'}), Component({'cadmium': 'vs'})]\n",
      "[Component({'lithology': 'argile'}), Component({'arsenic': 'inconnu'}), Component({'cadmium': 'vi'})]\n",
      "[Component({'lithology': 'marne'}), Component({'arsenic': 'inconnu'}), Component({'cadmium': 'vi'})]\n",
      "[Component({'lithology': 'charbon'}), Component({'arsenic': 'vs'}), Component({'cadmium': 'vr'})]\n",
      "[Component({'lithology': 'dolomie'}), Component({'arsenic': 'vr'}), Component({'cadmium': 'inconnu'})]\n",
      "[Component({'lithology': 'calcaire'}), Component({'arsenic': 'vs'}), Component({'cadmium': 'vr'})]\n",
      "Summary : [Striplog(6 Intervals, start=0.0, stop=45.0)]\n",
      "\n",
      "|__ID:'BH008'\n",
      "[Component({'lithology': 'sable'}), Component({'arsenic': 'vs'}), Component({'cadmium': 'vr'})]\n",
      "[Component({'lithology': 'argile'}), Component({'arsenic': 'vs'}), Component({'cadmium': 'vs'})]\n",
      "[Component({'lithology': 'marne'}), Component({'arsenic': 'vs'}), Component({'cadmium': 'vr'})]\n",
      "[Component({'lithology': 'charbon'}), Component({'arsenic': 'vi'}), Component({'cadmium': 'inconnu'})]\n",
      "[Component({'lithology': 'dolomie'}), Component({'arsenic': 'vr'}), Component({'cadmium': 'vr'})]\n",
      "Summary : [Striplog(5 Intervals, start=0.0, stop=35.0)]\n",
      "\n",
      "|__ID:'BH009'\n",
      "[Component({'lithology': 'sable'}), Component({'arsenic': 'vi'}), Component({'cadmium': 'inconnu'})]\n",
      "[Component({'lithology': 'argile'}), Component({'arsenic': 'vs'}), Component({'cadmium': 'vs'})]\n",
      "[Component({'lithology': 'marne'}), Component({'arsenic': 'inconnu'}), Component({'cadmium': 'vs'})]\n",
      "[Component({'lithology': 'charbon'}), Component({'arsenic': 'inconnu'}), Component({'cadmium': 'vs'})]\n",
      "[Component({'lithology': 'dolomie'}), Component({'arsenic': 'vs'}), Component({'cadmium': 'vs'})]\n",
      "Summary : [Striplog(5 Intervals, start=0.0, stop=40.0)]\n",
      "\n",
      "|__ID:'BH10'\n",
      "[Component({'lithology': 'sable'}), Component({'arsenic': 'vi'}), Component({'cadmium': 'vr'})]\n",
      "[Component({'lithology': 'argile'}), Component({'arsenic': 'inconnu'}), Component({'cadmium': 'vi'})]\n",
      "[Component({'lithology': 'marne'}), Component({'arsenic': 'vi'}), Component({'cadmium': 'vs'})]\n",
      "Summary : [Striplog(3 Intervals, start=0.0, stop=11.0)]\n",
      "\n",
      "End of the process : 10 unique ID found\n"
     ]
    },
    {
     "name": "stderr",
     "output_type": "stream",
     "text": [
      "/home/yanathan/Projects/GSDMA/utils/orm.py:121: SAWarning: relationship 'ComponentOrm.intervals' will copy column Components.id to column Linkintervalcomponent.comp_id, which conflicts with relationship(s): 'IntervalOrm.components' (copies Components.id to Linkintervalcomponent.comp_id). If this is not the intention, consider if these relationships should be linked with back_populates, or if viewonly=True should be applied to one or more if they are read-only. For the less common case that foreign key constraints are partially overlapping, the orm.foreign() annotation can be used to isolate the columns that should be written towards.   To silence this warning, add the parameter 'overlaps=\"components\"' to the 'ComponentOrm.intervals' relationship.\n",
      "  boreholes_orm.append(BoreholeOrm(id=bh_name))\n",
      "/home/yanathan/Projects/GSDMA/utils/orm.py:121: SAWarning: relationship 'ComponentOrm.intervals' will copy column Intervals.id to column Linkintervalcomponent.int_id, which conflicts with relationship(s): 'IntervalOrm.components' (copies Intervals.id to Linkintervalcomponent.int_id). If this is not the intention, consider if these relationships should be linked with back_populates, or if viewonly=True should be applied to one or more if they are read-only. For the less common case that foreign key constraints are partially overlapping, the orm.foreign() annotation can be used to isolate the columns that should be written towards.   To silence this warning, add the parameter 'overlaps=\"components\"' to the 'ComponentOrm.intervals' relationship.\n",
      "  boreholes_orm.append(BoreholeOrm(id=bh_name))\n",
      "/home/yanathan/Projects/GSDMA/utils/orm.py:121: SAWarning: relationship 'ComponentOrm.component_assoc' will copy column Components.id to column Linkintervalcomponent.comp_id, which conflicts with relationship(s): 'ComponentOrm.intervals' (copies Components.id to Linkintervalcomponent.comp_id), 'IntervalOrm.components' (copies Components.id to Linkintervalcomponent.comp_id). If this is not the intention, consider if these relationships should be linked with back_populates, or if viewonly=True should be applied to one or more if they are read-only. For the less common case that foreign key constraints are partially overlapping, the orm.foreign() annotation can be used to isolate the columns that should be written towards.   To silence this warning, add the parameter 'overlaps=\"components,intervals\"' to the 'ComponentOrm.component_assoc' relationship.\n",
      "  boreholes_orm.append(BoreholeOrm(id=bh_name))\n",
      "/home/yanathan/Projects/GSDMA/utils/orm.py:121: SAWarning: relationship 'LinkIntervalComponentOrm.component' will copy column Components.id to column Linkintervalcomponent.comp_id, which conflicts with relationship(s): 'ComponentOrm.intervals' (copies Components.id to Linkintervalcomponent.comp_id), 'IntervalOrm.components' (copies Components.id to Linkintervalcomponent.comp_id). If this is not the intention, consider if these relationships should be linked with back_populates, or if viewonly=True should be applied to one or more if they are read-only. For the less common case that foreign key constraints are partially overlapping, the orm.foreign() annotation can be used to isolate the columns that should be written towards.   To silence this warning, add the parameter 'overlaps=\"components,intervals\"' to the 'LinkIntervalComponentOrm.component' relationship.\n",
      "  boreholes_orm.append(BoreholeOrm(id=bh_name))\n",
      "/home/yanathan/Projects/GSDMA/utils/orm.py:121: SAWarning: relationship 'IntervalOrm.interval_assoc' will copy column Intervals.id to column Linkintervalcomponent.int_id, which conflicts with relationship(s): 'ComponentOrm.intervals' (copies Intervals.id to Linkintervalcomponent.int_id), 'IntervalOrm.components' (copies Intervals.id to Linkintervalcomponent.int_id). If this is not the intention, consider if these relationships should be linked with back_populates, or if viewonly=True should be applied to one or more if they are read-only. For the less common case that foreign key constraints are partially overlapping, the orm.foreign() annotation can be used to isolate the columns that should be written towards.   To silence this warning, add the parameter 'overlaps=\"components,intervals\"' to the 'IntervalOrm.interval_assoc' relationship.\n",
      "  boreholes_orm.append(BoreholeOrm(id=bh_name))\n",
      "/home/yanathan/Projects/GSDMA/utils/orm.py:121: SAWarning: relationship 'LinkIntervalComponentOrm.interval' will copy column Intervals.id to column Linkintervalcomponent.int_id, which conflicts with relationship(s): 'ComponentOrm.intervals' (copies Intervals.id to Linkintervalcomponent.int_id), 'IntervalOrm.components' (copies Intervals.id to Linkintervalcomponent.int_id). If this is not the intention, consider if these relationships should be linked with back_populates, or if viewonly=True should be applied to one or more if they are read-only. For the less common case that foreign key constraints are partially overlapping, the orm.foreign() annotation can be used to isolate the columns that should be written towards.   To silence this warning, add the parameter 'overlaps=\"components,intervals\"' to the 'LinkIntervalComponentOrm.interval' relationship.\n",
      "  boreholes_orm.append(BoreholeOrm(id=bh_name))\n"
     ]
    }
   ],
   "source": [
    "boreholes, components, link_intv_comp = boreholes_from_dataframe(df[:50], verbose=False,\n",
    "                                                attributes=['Lithology']+pollutants, \n",
    "                                                symbols={'lithology':{'lexicon':lexicon_memoris}}, \n",
    "                                                diameter='Diameter', thickness='Thickness')"
   ]
  },
  {
   "cell_type": "raw",
   "metadata": {},
   "source": [
    "boreholes[170].intervals[850].top.x, boreholes[170].intervals[850].top.y"
   ]
  },
  {
   "cell_type": "code",
   "execution_count": 12,
   "metadata": {},
   "outputs": [
    {
     "data": {
      "text/plain": [
       "[<core.orm.BoreholeOrm>(Name=BH001, Length=28.0, Diameter=0.43, Intervals=4),\n",
       " <core.orm.BoreholeOrm>(Name=BH002, Length=37.0, Diameter=0.6, Intervals=5),\n",
       " <core.orm.BoreholeOrm>(Name=BH003, Length=18.0, Diameter=0.41, Intervals=5),\n",
       " <core.orm.BoreholeOrm>(Name=BH004, Length=26.0, Diameter=0.61, Intervals=5),\n",
       " <core.orm.BoreholeOrm>(Name=BH005, Length=36.0, Diameter=0.61, Intervals=7),\n",
       " <core.orm.BoreholeOrm>(Name=BH006, Length=26.0, Diameter=0.31, Intervals=5),\n",
       " <core.orm.BoreholeOrm>(Name=BH007, Length=45.0, Diameter=0.57, Intervals=6),\n",
       " <core.orm.BoreholeOrm>(Name=BH008, Length=35.0, Diameter=0.39, Intervals=5),\n",
       " <core.orm.BoreholeOrm>(Name=BH009, Length=40.0, Diameter=0.5, Intervals=5),\n",
       " <core.orm.BoreholeOrm>(Name=BH10, Length=11.0, Diameter=0.31, Intervals=3)]"
      ]
     },
     "execution_count": 12,
     "metadata": {},
     "output_type": "execute_result"
    }
   ],
   "source": [
    "boreholes"
   ]
  },
  {
   "cell_type": "code",
   "execution_count": 13,
   "metadata": {},
   "outputs": [
    {
     "data": {
      "text/plain": [
       "{0: Component({'lithology': 'sable'}),\n",
       " 1: Component({'arsenic': 'vi'}),\n",
       " 2: Component({'cadmium': 'vs'}),\n",
       " 3: Component({'lithology': 'argile'}),\n",
       " 4: Component({'arsenic': 'vs'}),\n",
       " 5: Component({'lithology': 'marne'}),\n",
       " 6: Component({'arsenic': 'vr'}),\n",
       " 7: Component({'lithology': 'charbon'}),\n",
       " 8: Component({'arsenic': 'inconnu'}),\n",
       " 9: Component({'cadmium': 'vr'}),\n",
       " 10: Component({'cadmium': 'inconnu'}),\n",
       " 11: Component({'lithology': 'dolomie'}),\n",
       " 12: Component({'cadmium': 'vi'}),\n",
       " 13: Component({'lithology': 'schiste'}),\n",
       " 14: Component({'lithology': 'calcaire'})}"
      ]
     },
     "execution_count": 13,
     "metadata": {},
     "output_type": "execute_result"
    }
   ],
   "source": [
    "components"
   ]
  },
  {
   "cell_type": "code",
   "execution_count": 14,
   "metadata": {},
   "outputs": [
    {
     "data": {
      "text/plain": [
       "{(0, 0): {'extra_data': ''},\n",
       " (0, 1): {'extra_data': ''},\n",
       " (0, 2): {'extra_data': ''},\n",
       " (1, 3): {'extra_data': ''},\n",
       " (1, 4): {'extra_data': ''},\n",
       " (1, 2): {'extra_data': ''},\n",
       " (2, 5): {'extra_data': ''},\n",
       " (2, 6): {'extra_data': ''},\n",
       " (2, 2): {'extra_data': ''},\n",
       " (3, 7): {'extra_data': ''},\n",
       " (3, 8): {'extra_data': ''},\n",
       " (3, 2): {'extra_data': ''},\n",
       " (4, 0): {'extra_data': ''},\n",
       " (4, 6): {'extra_data': ''},\n",
       " (4, 9): {'extra_data': ''},\n",
       " (5, 3): {'extra_data': ''},\n",
       " (5, 6): {'extra_data': ''},\n",
       " (5, 10): {'extra_data': ''},\n",
       " (6, 5): {'extra_data': ''},\n",
       " (6, 8): {'extra_data': ''},\n",
       " (6, 2): {'extra_data': ''},\n",
       " (7, 7): {'extra_data': ''},\n",
       " (7, 6): {'extra_data': ''},\n",
       " (7, 10): {'extra_data': ''},\n",
       " (8, 11): {'extra_data': ''},\n",
       " (8, 6): {'extra_data': ''},\n",
       " (8, 12): {'extra_data': ''},\n",
       " (9, 0): {'extra_data': ''},\n",
       " (9, 4): {'extra_data': ''},\n",
       " (9, 12): {'extra_data': ''},\n",
       " (10, 3): {'extra_data': ''},\n",
       " (10, 1): {'extra_data': ''},\n",
       " (10, 9): {'extra_data': ''},\n",
       " (11, 5): {'extra_data': ''},\n",
       " (11, 6): {'extra_data': ''},\n",
       " (11, 12): {'extra_data': ''},\n",
       " (12, 7): {'extra_data': ''},\n",
       " (12, 8): {'extra_data': ''},\n",
       " (12, 12): {'extra_data': ''},\n",
       " (13, 11): {'extra_data': ''},\n",
       " (13, 8): {'extra_data': ''},\n",
       " (13, 9): {'extra_data': ''},\n",
       " (14, 0): {'extra_data': ''},\n",
       " (14, 4): {'extra_data': ''},\n",
       " (14, 9): {'extra_data': ''},\n",
       " (15, 3): {'extra_data': ''},\n",
       " (15, 1): {'extra_data': ''},\n",
       " (15, 12): {'extra_data': ''},\n",
       " (16, 5): {'extra_data': ''},\n",
       " (16, 4): {'extra_data': ''},\n",
       " (16, 10): {'extra_data': ''},\n",
       " (17, 7): {'extra_data': ''},\n",
       " (17, 1): {'extra_data': ''},\n",
       " (17, 2): {'extra_data': ''},\n",
       " (18, 11): {'extra_data': ''},\n",
       " (18, 8): {'extra_data': ''},\n",
       " (18, 12): {'extra_data': ''},\n",
       " (19, 0): {'extra_data': ''},\n",
       " (19, 1): {'extra_data': ''},\n",
       " (19, 10): {'extra_data': ''},\n",
       " (20, 3): {'extra_data': ''},\n",
       " (20, 1): {'extra_data': ''},\n",
       " (20, 9): {'extra_data': ''},\n",
       " (21, 5): {'extra_data': ''},\n",
       " (21, 6): {'extra_data': ''},\n",
       " (21, 9): {'extra_data': ''},\n",
       " (22, 7): {'extra_data': ''},\n",
       " (22, 8): {'extra_data': ''},\n",
       " (22, 12): {'extra_data': ''},\n",
       " (23, 11): {'extra_data': ''},\n",
       " (23, 6): {'extra_data': ''},\n",
       " (23, 2): {'extra_data': ''},\n",
       " (24, 13): {'extra_data': ''},\n",
       " (24, 1): {'extra_data': ''},\n",
       " (24, 9): {'extra_data': ''},\n",
       " (25, 14): {'extra_data': ''},\n",
       " (25, 8): {'extra_data': ''},\n",
       " (25, 9): {'extra_data': ''},\n",
       " (26, 0): {'extra_data': ''},\n",
       " (26, 4): {'extra_data': ''},\n",
       " (26, 12): {'extra_data': ''},\n",
       " (27, 3): {'extra_data': ''},\n",
       " (27, 4): {'extra_data': ''},\n",
       " (27, 10): {'extra_data': ''},\n",
       " (28, 5): {'extra_data': ''},\n",
       " (28, 8): {'extra_data': ''},\n",
       " (28, 10): {'extra_data': ''},\n",
       " (29, 7): {'extra_data': ''},\n",
       " (29, 8): {'extra_data': ''},\n",
       " (29, 12): {'extra_data': ''},\n",
       " (30, 11): {'extra_data': ''},\n",
       " (30, 4): {'extra_data': ''},\n",
       " (30, 10): {'extra_data': ''},\n",
       " (31, 0): {'extra_data': ''},\n",
       " (31, 4): {'extra_data': ''},\n",
       " (31, 2): {'extra_data': ''},\n",
       " (32, 3): {'extra_data': ''},\n",
       " (32, 8): {'extra_data': ''},\n",
       " (32, 12): {'extra_data': ''},\n",
       " (33, 5): {'extra_data': ''},\n",
       " (33, 8): {'extra_data': ''},\n",
       " (33, 12): {'extra_data': ''},\n",
       " (34, 7): {'extra_data': ''},\n",
       " (34, 4): {'extra_data': ''},\n",
       " (34, 9): {'extra_data': ''},\n",
       " (35, 11): {'extra_data': ''},\n",
       " (35, 6): {'extra_data': ''},\n",
       " (35, 10): {'extra_data': ''},\n",
       " (36, 14): {'extra_data': ''},\n",
       " (36, 4): {'extra_data': ''},\n",
       " (36, 9): {'extra_data': ''},\n",
       " (37, 0): {'extra_data': ''},\n",
       " (37, 4): {'extra_data': ''},\n",
       " (37, 9): {'extra_data': ''},\n",
       " (38, 3): {'extra_data': ''},\n",
       " (38, 4): {'extra_data': ''},\n",
       " (38, 2): {'extra_data': ''},\n",
       " (39, 5): {'extra_data': ''},\n",
       " (39, 4): {'extra_data': ''},\n",
       " (39, 9): {'extra_data': ''},\n",
       " (40, 7): {'extra_data': ''},\n",
       " (40, 1): {'extra_data': ''},\n",
       " (40, 10): {'extra_data': ''},\n",
       " (41, 11): {'extra_data': ''},\n",
       " (41, 6): {'extra_data': ''},\n",
       " (41, 9): {'extra_data': ''},\n",
       " (42, 0): {'extra_data': ''},\n",
       " (42, 1): {'extra_data': ''},\n",
       " (42, 10): {'extra_data': ''},\n",
       " (43, 3): {'extra_data': ''},\n",
       " (43, 4): {'extra_data': ''},\n",
       " (43, 2): {'extra_data': ''},\n",
       " (44, 5): {'extra_data': ''},\n",
       " (44, 8): {'extra_data': ''},\n",
       " (44, 2): {'extra_data': ''},\n",
       " (45, 7): {'extra_data': ''},\n",
       " (45, 8): {'extra_data': ''},\n",
       " (45, 2): {'extra_data': ''},\n",
       " (46, 11): {'extra_data': ''},\n",
       " (46, 4): {'extra_data': ''},\n",
       " (46, 2): {'extra_data': ''},\n",
       " (47, 0): {'extra_data': ''},\n",
       " (47, 1): {'extra_data': ''},\n",
       " (47, 9): {'extra_data': ''},\n",
       " (48, 3): {'extra_data': ''},\n",
       " (48, 8): {'extra_data': ''},\n",
       " (48, 12): {'extra_data': ''},\n",
       " (49, 5): {'extra_data': ''},\n",
       " (49, 1): {'extra_data': ''},\n",
       " (49, 2): {'extra_data': ''}}"
      ]
     },
     "execution_count": 14,
     "metadata": {},
     "output_type": "execute_result"
    }
   ],
   "source": [
    "link_intv_comp"
   ]
  },
  {
   "cell_type": "code",
   "execution_count": 15,
   "metadata": {},
   "outputs": [],
   "source": [
    "link_intv_comp[(0, 0)]['extra_data'] = \"{'porosite':1, 'densite':1.8}\""
   ]
  },
  {
   "cell_type": "code",
   "execution_count": 16,
   "metadata": {},
   "outputs": [
    {
     "data": {
      "text/plain": [
       "(10, 15)"
      ]
     },
     "execution_count": 16,
     "metadata": {},
     "output_type": "execute_result"
    }
   ],
   "source": [
    "len(boreholes), len(components)"
   ]
  },
  {
   "cell_type": "markdown",
   "metadata": {},
   "source": [
    "## Create a project and save data in a database"
   ]
  },
  {
   "cell_type": "code",
   "execution_count": 17,
   "metadata": {},
   "outputs": [],
   "source": [
    "remove('tmp_files/tfe_orm_db.db')"
   ]
  },
  {
   "cell_type": "code",
   "execution_count": 18,
   "metadata": {},
   "outputs": [],
   "source": [
    "engine = create_engine('sqlite:///tmp_files/tfe_orm_db.db', echo=True)"
   ]
  },
  {
   "cell_type": "code",
   "execution_count": 19,
   "metadata": {
    "scrolled": true
   },
   "outputs": [
    {
     "name": "stdout",
     "output_type": "stream",
     "text": [
      "2021-07-28 16:57:17,111 INFO sqlalchemy.engine.Engine BEGIN (implicit)\n",
      "2021-07-28 16:57:17,112 INFO sqlalchemy.engine.Engine PRAGMA main.table_info(\"Boreholes\")\n",
      "2021-07-28 16:57:17,113 INFO sqlalchemy.engine.Engine [raw sql] ()\n",
      "2021-07-28 16:57:17,114 INFO sqlalchemy.engine.Engine PRAGMA temp.table_info(\"Boreholes\")\n",
      "2021-07-28 16:57:17,114 INFO sqlalchemy.engine.Engine [raw sql] ()\n",
      "2021-07-28 16:57:17,115 INFO sqlalchemy.engine.Engine PRAGMA main.table_info(\"Intervals\")\n",
      "2021-07-28 16:57:17,116 INFO sqlalchemy.engine.Engine [raw sql] ()\n",
      "2021-07-28 16:57:17,117 INFO sqlalchemy.engine.Engine PRAGMA temp.table_info(\"Intervals\")\n",
      "2021-07-28 16:57:17,117 INFO sqlalchemy.engine.Engine [raw sql] ()\n",
      "2021-07-28 16:57:17,118 INFO sqlalchemy.engine.Engine PRAGMA main.table_info(\"Components\")\n",
      "2021-07-28 16:57:17,119 INFO sqlalchemy.engine.Engine [raw sql] ()\n",
      "2021-07-28 16:57:17,120 INFO sqlalchemy.engine.Engine PRAGMA temp.table_info(\"Components\")\n",
      "2021-07-28 16:57:17,120 INFO sqlalchemy.engine.Engine [raw sql] ()\n",
      "2021-07-28 16:57:17,121 INFO sqlalchemy.engine.Engine PRAGMA main.table_info(\"Linkintervalcomponent\")\n",
      "2021-07-28 16:57:17,121 INFO sqlalchemy.engine.Engine [raw sql] ()\n",
      "2021-07-28 16:57:17,121 INFO sqlalchemy.engine.Engine PRAGMA temp.table_info(\"Linkintervalcomponent\")\n",
      "2021-07-28 16:57:17,122 INFO sqlalchemy.engine.Engine [raw sql] ()\n",
      "2021-07-28 16:57:17,122 INFO sqlalchemy.engine.Engine PRAGMA main.table_info(\"Positions\")\n",
      "2021-07-28 16:57:17,123 INFO sqlalchemy.engine.Engine [raw sql] ()\n",
      "2021-07-28 16:57:17,123 INFO sqlalchemy.engine.Engine PRAGMA temp.table_info(\"Positions\")\n",
      "2021-07-28 16:57:17,124 INFO sqlalchemy.engine.Engine [raw sql] ()\n",
      "2021-07-28 16:57:17,124 INFO sqlalchemy.engine.Engine PRAGMA main.table_info(\"IntervalData\")\n",
      "2021-07-28 16:57:17,125 INFO sqlalchemy.engine.Engine [raw sql] ()\n",
      "2021-07-28 16:57:17,125 INFO sqlalchemy.engine.Engine PRAGMA temp.table_info(\"IntervalData\")\n",
      "2021-07-28 16:57:17,126 INFO sqlalchemy.engine.Engine [raw sql] ()\n",
      "2021-07-28 16:57:17,127 INFO sqlalchemy.engine.Engine \n",
      "CREATE TABLE \"Boreholes\" (\n",
      "\tid VARCHAR(32) NOT NULL, \n",
      "\tlength FLOAT, \n",
      "\tdiameter FLOAT, \n",
      "\tPRIMARY KEY (id)\n",
      ")\n",
      "\n",
      "\n",
      "2021-07-28 16:57:17,128 INFO sqlalchemy.engine.Engine [no key 0.00049s] ()\n",
      "2021-07-28 16:57:17,131 INFO sqlalchemy.engine.Engine \n",
      "CREATE TABLE \"Intervals\" (\n",
      "\tid INTEGER NOT NULL, \n",
      "\tborehole VARCHAR(32), \n",
      "\tinterval_number INTEGER, \n",
      "\tdescription VARCHAR(32), \n",
      "\ttop_id INTEGER, \n",
      "\tbase_id INTEGER, \n",
      "\tdata_id INTEGER, \n",
      "\tPRIMARY KEY (id), \n",
      "\tFOREIGN KEY(borehole) REFERENCES \"Boreholes\" (id), \n",
      "\tFOREIGN KEY(top_id) REFERENCES \"Positions\" (id), \n",
      "\tFOREIGN KEY(base_id) REFERENCES \"Positions\" (id), \n",
      "\tFOREIGN KEY(data_id) REFERENCES \"IntervalData\" (id)\n",
      ")\n",
      "\n",
      "\n",
      "2021-07-28 16:57:17,132 INFO sqlalchemy.engine.Engine [no key 0.00060s] ()\n",
      "2021-07-28 16:57:17,135 INFO sqlalchemy.engine.Engine \n",
      "CREATE TABLE \"Components\" (\n",
      "\tid INTEGER NOT NULL, \n",
      "\tdescription VARCHAR(32), \n",
      "\tPRIMARY KEY (id)\n",
      ")\n",
      "\n",
      "\n",
      "2021-07-28 16:57:17,136 INFO sqlalchemy.engine.Engine [no key 0.00055s] ()\n",
      "2021-07-28 16:57:17,139 INFO sqlalchemy.engine.Engine \n",
      "CREATE TABLE \"Positions\" (\n",
      "\tid INTEGER NOT NULL, \n",
      "\tupper FLOAT, \n",
      "\tmiddle FLOAT, \n",
      "\tlower FLOAT, \n",
      "\tx FLOAT, \n",
      "\ty FLOAT, \n",
      "\tPRIMARY KEY (id)\n",
      ")\n",
      "\n",
      "\n",
      "2021-07-28 16:57:17,140 INFO sqlalchemy.engine.Engine [no key 0.00054s] ()\n",
      "2021-07-28 16:57:17,143 INFO sqlalchemy.engine.Engine \n",
      "CREATE TABLE \"IntervalData\" (\n",
      "\tid INTEGER NOT NULL, \n",
      "\tinterval INTEGER, \n",
      "\t\"key\" VARCHAR(32), \n",
      "\tvalue FLOAT, \n",
      "\tunits VARCHAR(32), \n",
      "\tPRIMARY KEY (id), \n",
      "\tFOREIGN KEY(interval) REFERENCES \"Intervals\" (id)\n",
      ")\n",
      "\n",
      "\n",
      "2021-07-28 16:57:17,144 INFO sqlalchemy.engine.Engine [no key 0.00066s] ()\n",
      "2021-07-28 16:57:17,148 INFO sqlalchemy.engine.Engine \n",
      "CREATE TABLE \"Linkintervalcomponent\" (\n",
      "\tint_id INTEGER NOT NULL, \n",
      "\tcomp_id INTEGER NOT NULL, \n",
      "\textra_data VARCHAR(256), \n",
      "\tPRIMARY KEY (int_id, comp_id), \n",
      "\tFOREIGN KEY(int_id) REFERENCES \"Intervals\" (id), \n",
      "\tFOREIGN KEY(comp_id) REFERENCES \"Components\" (id)\n",
      ")\n",
      "\n",
      "\n",
      "2021-07-28 16:57:17,149 INFO sqlalchemy.engine.Engine [no key 0.00119s] ()\n",
      "2021-07-28 16:57:17,154 INFO sqlalchemy.engine.Engine COMMIT\n"
     ]
    }
   ],
   "source": [
    "Base.metadata.create_all(engine)"
   ]
  },
  {
   "cell_type": "code",
   "execution_count": 20,
   "metadata": {},
   "outputs": [],
   "source": [
    "Session = sessionmaker(bind=engine)\n",
    "session = Session()"
   ]
  },
  {
   "cell_type": "markdown",
   "metadata": {},
   "source": [
    "## Define project legend(s) and default attribute for representation"
   ]
  },
  {
   "cell_type": "code",
   "execution_count": 21,
   "metadata": {},
   "outputs": [],
   "source": [
    "leg_dict = {**{'lithology':{'legend':lithology_memoris}},**{k:{'legend':None} for k in pollutants}}"
   ]
  },
  {
   "cell_type": "code",
   "execution_count": 22,
   "metadata": {},
   "outputs": [
    {
     "name": "stdout",
     "output_type": "stream",
     "text": [
      "2021-07-28 16:57:17,172 INFO sqlalchemy.engine.Engine BEGIN (implicit)\n",
      "2021-07-28 16:57:17,175 INFO sqlalchemy.engine.Engine SELECT \"Boreholes\".id AS \"Boreholes_id\", \"Boreholes\".length AS \"Boreholes_length\", \"Boreholes\".diameter AS \"Boreholes_diameter\" \n",
      "FROM \"Boreholes\"\n",
      "2021-07-28 16:57:17,176 INFO sqlalchemy.engine.Engine [generated in 0.00117s] ()\n"
     ]
    }
   ],
   "source": [
    "p = Project(session, lexicon=lexicon_memoris, repr_attribute='lithology', legend_dict=leg_dict)"
   ]
  },
  {
   "cell_type": "code",
   "execution_count": 23,
   "metadata": {},
   "outputs": [
    {
     "data": {
      "text/plain": [
       "dict_keys(['lithology', 'arsenic', 'cadmium'])"
      ]
     },
     "execution_count": 23,
     "metadata": {},
     "output_type": "execute_result"
    }
   ],
   "source": [
    "p.legend_dict.keys()"
   ]
  },
  {
   "cell_type": "code",
   "execution_count": 24,
   "metadata": {},
   "outputs": [
    {
     "name": "stdout",
     "output_type": "stream",
     "text": [
      "2021-07-28 16:57:17,187 INFO sqlalchemy.engine.Engine INSERT INTO \"Components\" (id, description) VALUES (?, ?)\n",
      "2021-07-28 16:57:17,188 INFO sqlalchemy.engine.Engine [generated in 0.00113s] ((0, 'Sable'), (1, 'Vi'), (2, 'Vs'), (3, 'Argile'), (4, 'Vs'), (5, 'Marne'), (6, 'Vr'), (7, 'Charbon')  ... displaying 10 of 15 total bound parameter sets ...  (13, 'Schiste'), (14, 'Calcaire'))\n",
      "2021-07-28 16:57:17,189 INFO sqlalchemy.engine.Engine COMMIT\n",
      "2021-07-28 16:57:17,192 INFO sqlalchemy.engine.Engine BEGIN (implicit)\n",
      "2021-07-28 16:57:17,193 INFO sqlalchemy.engine.Engine SELECT \"Boreholes\".id AS \"Boreholes_id\", \"Boreholes\".length AS \"Boreholes_length\", \"Boreholes\".diameter AS \"Boreholes_diameter\" \n",
      "FROM \"Boreholes\"\n",
      "2021-07-28 16:57:17,193 INFO sqlalchemy.engine.Engine [cached since 0.01878s ago] ()\n"
     ]
    }
   ],
   "source": [
    "p.add_components(components)"
   ]
  },
  {
   "cell_type": "code",
   "execution_count": 25,
   "metadata": {},
   "outputs": [
    {
     "data": {
      "text/plain": [
       "{0: Component({'lithology': 'sable'}),\n",
       " 1: Component({'arsenic': 'vi'}),\n",
       " 2: Component({'cadmium': 'vs'}),\n",
       " 3: Component({'lithology': 'argile'}),\n",
       " 4: Component({'arsenic': 'vs'}),\n",
       " 5: Component({'lithology': 'marne'}),\n",
       " 6: Component({'arsenic': 'vr'}),\n",
       " 7: Component({'lithology': 'charbon'}),\n",
       " 8: Component({'arsenic': 'inconnu'}),\n",
       " 9: Component({'cadmium': 'vr'}),\n",
       " 10: Component({'cadmium': 'inconnu'}),\n",
       " 11: Component({'lithology': 'dolomie'}),\n",
       " 12: Component({'cadmium': 'vi'}),\n",
       " 13: Component({'lithology': 'schiste'}),\n",
       " 14: Component({'lithology': 'calcaire'})}"
      ]
     },
     "execution_count": 25,
     "metadata": {},
     "output_type": "execute_result"
    }
   ],
   "source": [
    "p.__components_dict__"
   ]
  },
  {
   "cell_type": "markdown",
   "metadata": {},
   "source": [
    "Add boreholes into the project"
   ]
  },
  {
   "cell_type": "code",
   "execution_count": 26,
   "metadata": {
    "scrolled": true
   },
   "outputs": [
    {
     "name": "stdout",
     "output_type": "stream",
     "text": [
      "2021-07-28 16:57:17,205 INFO sqlalchemy.engine.Engine INSERT INTO \"Boreholes\" (id, length, diameter) VALUES (?, ?, ?)\n",
      "2021-07-28 16:57:17,207 INFO sqlalchemy.engine.Engine [generated in 0.00201s] ('BH001', 28.0, 0.43)\n",
      "2021-07-28 16:57:17,209 INFO sqlalchemy.engine.Engine INSERT INTO \"Positions\" (id, upper, middle, lower, x, y) VALUES (?, ?, ?, ?, ?, ?)\n",
      "2021-07-28 16:57:17,209 INFO sqlalchemy.engine.Engine [generated in 0.00058s] ((0, 101.0, 101.0, 101.0, 152600.0, 121039.0), (1, 97.0, 97.0, 97.0, 152600.0, 121039.0), (2, 97.0, 97.0, 97.0, 152600.0, 121039.0), (3, 93.0, 93.0, 93.0, 152600.0, 121039.0), (4, 93.0, 93.0, 93.0, 152600.0, 121039.0), (5, 81.0, 81.0, 81.0, 152600.0, 121039.0), (6, 81.0, 81.0, 81.0, 152600.0, 121039.0), (7, 73.0, 73.0, 73.0, 152600.0, 121039.0))\n",
      "2021-07-28 16:57:17,212 INFO sqlalchemy.engine.Engine INSERT INTO \"Intervals\" (id, borehole, interval_number, description, top_id, base_id, data_id) VALUES (?, ?, ?, ?, ?, ?, ?)\n",
      "2021-07-28 16:57:17,213 INFO sqlalchemy.engine.Engine [generated in 0.00105s] ((0, 'BH001', 0, '{\"lithology\": \"sable\"}, {\"arsenic\": \"vi\"}, {\"cadmium\": \"vs\"}', 0, 1, None), (1, 'BH001', 1, '{\"lithology\": \"argile\"}, {\"arsenic\": \"vs\"}, {\"cadmium\": \"vs\"}', 2, 3, None), (2, 'BH001', 2, '{\"lithology\": \"marne\"}, {\"arsenic\": \"vr\"}, {\"cadmium\": \"vs\"}', 4, 5, None), (3, 'BH001', 3, '{\"lithology\": \"charbon\"}, {\"arsenic\": \"inconnu\"}, {\"cadmium\": \"vs\"}', 6, 7, None))\n",
      "2021-07-28 16:57:17,215 INFO sqlalchemy.engine.Engine COMMIT\n",
      "2021-07-28 16:57:17,218 INFO sqlalchemy.engine.Engine BEGIN (implicit)\n",
      "2021-07-28 16:57:17,219 INFO sqlalchemy.engine.Engine SELECT \"Boreholes\".id AS \"Boreholes_id\", \"Boreholes\".length AS \"Boreholes_length\", \"Boreholes\".diameter AS \"Boreholes_diameter\" \n",
      "FROM \"Boreholes\"\n",
      "2021-07-28 16:57:17,219 INFO sqlalchemy.engine.Engine [cached since 0.04485s ago] ()\n",
      "2021-07-28 16:57:17,222 INFO sqlalchemy.engine.Engine SELECT \"Intervals\".id AS \"Intervals_id\", \"Intervals\".borehole AS \"Intervals_borehole\", \"Intervals\".interval_number AS \"Intervals_interval_number\", \"Intervals\".description AS \"Intervals_description\", \"Intervals\".top_id AS \"Intervals_top_id\", \"Intervals\".base_id AS \"Intervals_base_id\", \"Intervals\".data_id AS \"Intervals_data_id\" \n",
      "FROM \"Intervals\" \n",
      "WHERE ? = \"Intervals\".borehole\n",
      "2021-07-28 16:57:17,223 INFO sqlalchemy.engine.Engine [generated in 0.00064s] ('BH001',)\n",
      "2021-07-28 16:57:17,226 INFO sqlalchemy.engine.Engine SELECT \"Positions\".id AS \"Positions_id\", \"Positions\".upper AS \"Positions_upper\", \"Positions\".middle AS \"Positions_middle\", \"Positions\".lower AS \"Positions_lower\", \"Positions\".x AS \"Positions_x\", \"Positions\".y AS \"Positions_y\" \n",
      "FROM \"Positions\" \n",
      "WHERE \"Positions\".id = ?\n",
      "2021-07-28 16:57:17,226 INFO sqlalchemy.engine.Engine [generated in 0.00060s] (0,)\n",
      "2021-07-28 16:57:17,228 INFO sqlalchemy.engine.Engine SELECT \"Positions\".id AS \"Positions_id\", \"Positions\".upper AS \"Positions_upper\", \"Positions\".middle AS \"Positions_middle\", \"Positions\".lower AS \"Positions_lower\", \"Positions\".x AS \"Positions_x\", \"Positions\".y AS \"Positions_y\" \n",
      "FROM \"Positions\" \n",
      "WHERE \"Positions\".id = ?\n",
      "2021-07-28 16:57:17,229 INFO sqlalchemy.engine.Engine [generated in 0.00046s] (1,)\n",
      "2021-07-28 16:57:17,230 INFO sqlalchemy.engine.Engine SELECT \"Positions\".id AS \"Positions_id\", \"Positions\".upper AS \"Positions_upper\", \"Positions\".middle AS \"Positions_middle\", \"Positions\".lower AS \"Positions_lower\", \"Positions\".x AS \"Positions_x\", \"Positions\".y AS \"Positions_y\" \n",
      "FROM \"Positions\" \n",
      "WHERE \"Positions\".id = ?\n",
      "2021-07-28 16:57:17,231 INFO sqlalchemy.engine.Engine [cached since 0.005145s ago] (2,)\n",
      "2021-07-28 16:57:17,232 INFO sqlalchemy.engine.Engine SELECT \"Positions\".id AS \"Positions_id\", \"Positions\".upper AS \"Positions_upper\", \"Positions\".middle AS \"Positions_middle\", \"Positions\".lower AS \"Positions_lower\", \"Positions\".x AS \"Positions_x\", \"Positions\".y AS \"Positions_y\" \n",
      "FROM \"Positions\" \n",
      "WHERE \"Positions\".id = ?\n",
      "2021-07-28 16:57:17,232 INFO sqlalchemy.engine.Engine [cached since 0.004039s ago] (3,)\n",
      "2021-07-28 16:57:17,233 INFO sqlalchemy.engine.Engine SELECT \"Positions\".id AS \"Positions_id\", \"Positions\".upper AS \"Positions_upper\", \"Positions\".middle AS \"Positions_middle\", \"Positions\".lower AS \"Positions_lower\", \"Positions\".x AS \"Positions_x\", \"Positions\".y AS \"Positions_y\" \n",
      "FROM \"Positions\" \n",
      "WHERE \"Positions\".id = ?\n",
      "2021-07-28 16:57:17,234 INFO sqlalchemy.engine.Engine [cached since 0.008296s ago] (4,)\n",
      "2021-07-28 16:57:17,235 INFO sqlalchemy.engine.Engine SELECT \"Positions\".id AS \"Positions_id\", \"Positions\".upper AS \"Positions_upper\", \"Positions\".middle AS \"Positions_middle\", \"Positions\".lower AS \"Positions_lower\", \"Positions\".x AS \"Positions_x\", \"Positions\".y AS \"Positions_y\" \n",
      "FROM \"Positions\" \n",
      "WHERE \"Positions\".id = ?\n",
      "2021-07-28 16:57:17,235 INFO sqlalchemy.engine.Engine [cached since 0.007023s ago] (5,)\n",
      "2021-07-28 16:57:17,236 INFO sqlalchemy.engine.Engine SELECT \"Positions\".id AS \"Positions_id\", \"Positions\".upper AS \"Positions_upper\", \"Positions\".middle AS \"Positions_middle\", \"Positions\".lower AS \"Positions_lower\", \"Positions\".x AS \"Positions_x\", \"Positions\".y AS \"Positions_y\" \n",
      "FROM \"Positions\" \n",
      "WHERE \"Positions\".id = ?\n",
      "2021-07-28 16:57:17,237 INFO sqlalchemy.engine.Engine [cached since 0.01144s ago] (6,)\n",
      "2021-07-28 16:57:17,238 INFO sqlalchemy.engine.Engine SELECT \"Positions\".id AS \"Positions_id\", \"Positions\".upper AS \"Positions_upper\", \"Positions\".middle AS \"Positions_middle\", \"Positions\".lower AS \"Positions_lower\", \"Positions\".x AS \"Positions_x\", \"Positions\".y AS \"Positions_y\" \n",
      "FROM \"Positions\" \n",
      "WHERE \"Positions\".id = ?\n",
      "2021-07-28 16:57:17,238 INFO sqlalchemy.engine.Engine [cached since 0.01002s ago] (7,)\n",
      "Borehole geometry created successfully !\n",
      "2021-07-28 16:57:17,251 INFO sqlalchemy.engine.Engine UPDATE \"Boreholes\" SET length=? WHERE \"Boreholes\".id = ?\n",
      "2021-07-28 16:57:17,251 INFO sqlalchemy.engine.Engine [generated in 0.00067s] (97.0, 'BH001')\n",
      "2021-07-28 16:57:17,253 INFO sqlalchemy.engine.Engine INSERT INTO \"Boreholes\" (id, length, diameter) VALUES (?, ?, ?)\n",
      "2021-07-28 16:57:17,254 INFO sqlalchemy.engine.Engine [cached since 0.04888s ago] ('BH002', 37.0, 0.6)\n",
      "2021-07-28 16:57:17,255 INFO sqlalchemy.engine.Engine INSERT INTO \"Positions\" (id, upper, middle, lower, x, y) VALUES (?, ?, ?, ?, ?, ?)\n",
      "2021-07-28 16:57:17,258 INFO sqlalchemy.engine.Engine [cached since 0.04944s ago] ((8, 103.0, 103.0, 103.0, 152819.0, 121586.0), (9, 98.0, 98.0, 98.0, 152819.0, 121586.0), (10, 98.0, 98.0, 98.0, 152819.0, 121586.0), (11, 95.0, 95.0, 95.0, 152819.0, 121586.0), (12, 95.0, 95.0, 95.0, 152819.0, 121586.0), (13, 89.0, 89.0, 89.0, 152819.0, 121586.0), (14, 89.0, 89.0, 89.0, 152819.0, 121586.0), (15, 88.0, 88.0, 88.0, 152819.0, 121586.0), (16, 88.0, 88.0, 88.0, 152819.0, 121586.0), (17, 66.0, 66.0, 66.0, 152819.0, 121586.0))\n",
      "2021-07-28 16:57:17,260 INFO sqlalchemy.engine.Engine INSERT INTO \"Intervals\" (id, borehole, interval_number, description, top_id, base_id, data_id) VALUES (?, ?, ?, ?, ?, ?, ?)\n",
      "2021-07-28 16:57:17,261 INFO sqlalchemy.engine.Engine [cached since 0.04887s ago] ((4, 'BH002', 0, '{\"lithology\": \"sable\"}, {\"arsenic\": \"vr\"}, {\"cadmium\": \"vr\"}', 8, 9, None), (5, 'BH002', 1, '{\"lithology\": \"argile\"}, {\"arsenic\": \"vr\"}, {\"cadmium\": \"inconnu\"}', 10, 11, None), (6, 'BH002', 2, '{\"lithology\": \"marne\"}, {\"arsenic\": \"inconnu\"}, {\"cadmium\": \"vs\"}', 12, 13, None), (7, 'BH002', 3, '{\"lithology\": \"charbon\"}, {\"arsenic\": \"vr\"}, {\"cadmium\": \"inconnu\"}', 14, 15, None), (8, 'BH002', 4, '{\"lithology\": \"dolomie\"}, {\"arsenic\": \"vr\"}, {\"cadmium\": \"vi\"}', 16, 17, None))\n",
      "2021-07-28 16:57:17,262 INFO sqlalchemy.engine.Engine COMMIT\n",
      "2021-07-28 16:57:17,266 INFO sqlalchemy.engine.Engine BEGIN (implicit)\n",
      "2021-07-28 16:57:17,267 INFO sqlalchemy.engine.Engine SELECT \"Boreholes\".id AS \"Boreholes_id\", \"Boreholes\".length AS \"Boreholes_length\", \"Boreholes\".diameter AS \"Boreholes_diameter\" \n",
      "FROM \"Boreholes\"\n",
      "2021-07-28 16:57:17,267 INFO sqlalchemy.engine.Engine [cached since 0.09264s ago] ()\n",
      "2021-07-28 16:57:17,269 INFO sqlalchemy.engine.Engine SELECT \"Intervals\".id AS \"Intervals_id\", \"Intervals\".borehole AS \"Intervals_borehole\", \"Intervals\".interval_number AS \"Intervals_interval_number\", \"Intervals\".description AS \"Intervals_description\", \"Intervals\".top_id AS \"Intervals_top_id\", \"Intervals\".base_id AS \"Intervals_base_id\", \"Intervals\".data_id AS \"Intervals_data_id\" \n",
      "FROM \"Intervals\" \n",
      "WHERE ? = \"Intervals\".borehole\n"
     ]
    },
    {
     "name": "stdout",
     "output_type": "stream",
     "text": [
      "2021-07-28 16:57:17,269 INFO sqlalchemy.engine.Engine [cached since 0.047s ago] ('BH002',)\n",
      "2021-07-28 16:57:17,271 INFO sqlalchemy.engine.Engine SELECT \"Positions\".id AS \"Positions_id\", \"Positions\".upper AS \"Positions_upper\", \"Positions\".middle AS \"Positions_middle\", \"Positions\".lower AS \"Positions_lower\", \"Positions\".x AS \"Positions_x\", \"Positions\".y AS \"Positions_y\" \n",
      "FROM \"Positions\" \n",
      "WHERE \"Positions\".id = ?\n",
      "2021-07-28 16:57:17,271 INFO sqlalchemy.engine.Engine [cached since 0.04549s ago] (8,)\n",
      "2021-07-28 16:57:17,273 INFO sqlalchemy.engine.Engine SELECT \"Positions\".id AS \"Positions_id\", \"Positions\".upper AS \"Positions_upper\", \"Positions\".middle AS \"Positions_middle\", \"Positions\".lower AS \"Positions_lower\", \"Positions\".x AS \"Positions_x\", \"Positions\".y AS \"Positions_y\" \n",
      "FROM \"Positions\" \n",
      "WHERE \"Positions\".id = ?\n",
      "2021-07-28 16:57:17,273 INFO sqlalchemy.engine.Engine [cached since 0.04497s ago] (9,)\n",
      "2021-07-28 16:57:17,275 INFO sqlalchemy.engine.Engine SELECT \"Positions\".id AS \"Positions_id\", \"Positions\".upper AS \"Positions_upper\", \"Positions\".middle AS \"Positions_middle\", \"Positions\".lower AS \"Positions_lower\", \"Positions\".x AS \"Positions_x\", \"Positions\".y AS \"Positions_y\" \n",
      "FROM \"Positions\" \n",
      "WHERE \"Positions\".id = ?\n",
      "2021-07-28 16:57:17,276 INFO sqlalchemy.engine.Engine [cached since 0.05012s ago] (10,)\n",
      "2021-07-28 16:57:17,277 INFO sqlalchemy.engine.Engine SELECT \"Positions\".id AS \"Positions_id\", \"Positions\".upper AS \"Positions_upper\", \"Positions\".middle AS \"Positions_middle\", \"Positions\".lower AS \"Positions_lower\", \"Positions\".x AS \"Positions_x\", \"Positions\".y AS \"Positions_y\" \n",
      "FROM \"Positions\" \n",
      "WHERE \"Positions\".id = ?\n",
      "2021-07-28 16:57:17,278 INFO sqlalchemy.engine.Engine [cached since 0.04952s ago] (11,)\n",
      "2021-07-28 16:57:17,279 INFO sqlalchemy.engine.Engine SELECT \"Positions\".id AS \"Positions_id\", \"Positions\".upper AS \"Positions_upper\", \"Positions\".middle AS \"Positions_middle\", \"Positions\".lower AS \"Positions_lower\", \"Positions\".x AS \"Positions_x\", \"Positions\".y AS \"Positions_y\" \n",
      "FROM \"Positions\" \n",
      "WHERE \"Positions\".id = ?\n",
      "2021-07-28 16:57:17,279 INFO sqlalchemy.engine.Engine [cached since 0.05386s ago] (12,)\n",
      "2021-07-28 16:57:17,281 INFO sqlalchemy.engine.Engine SELECT \"Positions\".id AS \"Positions_id\", \"Positions\".upper AS \"Positions_upper\", \"Positions\".middle AS \"Positions_middle\", \"Positions\".lower AS \"Positions_lower\", \"Positions\".x AS \"Positions_x\", \"Positions\".y AS \"Positions_y\" \n",
      "FROM \"Positions\" \n",
      "WHERE \"Positions\".id = ?\n",
      "2021-07-28 16:57:17,282 INFO sqlalchemy.engine.Engine [cached since 0.05335s ago] (13,)\n",
      "2021-07-28 16:57:17,283 INFO sqlalchemy.engine.Engine SELECT \"Positions\".id AS \"Positions_id\", \"Positions\".upper AS \"Positions_upper\", \"Positions\".middle AS \"Positions_middle\", \"Positions\".lower AS \"Positions_lower\", \"Positions\".x AS \"Positions_x\", \"Positions\".y AS \"Positions_y\" \n",
      "FROM \"Positions\" \n",
      "WHERE \"Positions\".id = ?\n",
      "2021-07-28 16:57:17,284 INFO sqlalchemy.engine.Engine [cached since 0.05831s ago] (14,)\n",
      "2021-07-28 16:57:17,285 INFO sqlalchemy.engine.Engine SELECT \"Positions\".id AS \"Positions_id\", \"Positions\".upper AS \"Positions_upper\", \"Positions\".middle AS \"Positions_middle\", \"Positions\".lower AS \"Positions_lower\", \"Positions\".x AS \"Positions_x\", \"Positions\".y AS \"Positions_y\" \n",
      "FROM \"Positions\" \n",
      "WHERE \"Positions\".id = ?\n",
      "2021-07-28 16:57:17,286 INFO sqlalchemy.engine.Engine [cached since 0.05751s ago] (15,)\n",
      "2021-07-28 16:57:17,287 INFO sqlalchemy.engine.Engine SELECT \"Positions\".id AS \"Positions_id\", \"Positions\".upper AS \"Positions_upper\", \"Positions\".middle AS \"Positions_middle\", \"Positions\".lower AS \"Positions_lower\", \"Positions\".x AS \"Positions_x\", \"Positions\".y AS \"Positions_y\" \n",
      "FROM \"Positions\" \n",
      "WHERE \"Positions\".id = ?\n",
      "2021-07-28 16:57:17,288 INFO sqlalchemy.engine.Engine [cached since 0.06229s ago] (16,)\n",
      "2021-07-28 16:57:17,289 INFO sqlalchemy.engine.Engine SELECT \"Positions\".id AS \"Positions_id\", \"Positions\".upper AS \"Positions_upper\", \"Positions\".middle AS \"Positions_middle\", \"Positions\".lower AS \"Positions_lower\", \"Positions\".x AS \"Positions_x\", \"Positions\".y AS \"Positions_y\" \n",
      "FROM \"Positions\" \n",
      "WHERE \"Positions\".id = ?\n",
      "2021-07-28 16:57:17,290 INFO sqlalchemy.engine.Engine [cached since 0.06133s ago] (17,)\n",
      "Borehole geometry created successfully !\n",
      "2021-07-28 16:57:17,299 INFO sqlalchemy.engine.Engine UPDATE \"Boreholes\" SET length=? WHERE \"Boreholes\".id = ?\n",
      "2021-07-28 16:57:17,299 INFO sqlalchemy.engine.Engine [cached since 0.0488s ago] (98.0, 'BH002')\n",
      "2021-07-28 16:57:17,300 INFO sqlalchemy.engine.Engine INSERT INTO \"Boreholes\" (id, length, diameter) VALUES (?, ?, ?)\n",
      "2021-07-28 16:57:17,301 INFO sqlalchemy.engine.Engine [cached since 0.09632s ago] ('BH003', 18.0, 0.41)\n",
      "2021-07-28 16:57:17,302 INFO sqlalchemy.engine.Engine INSERT INTO \"Positions\" (id, upper, middle, lower, x, y) VALUES (?, ?, ?, ?, ?, ?)\n",
      "2021-07-28 16:57:17,303 INFO sqlalchemy.engine.Engine [cached since 0.09413s ago] ((18, 103.0, 103.0, 103.0, 152922.0, 121313.0), (19, 100.0, 100.0, 100.0, 152922.0, 121313.0), (20, 100.0, 100.0, 100.0, 152922.0, 121313.0), (21, 97.0, 97.0, 97.0, 152922.0, 121313.0), (22, 97.0, 97.0, 97.0, 152922.0, 121313.0), (23, 94.0, 94.0, 94.0, 152922.0, 121313.0), (24, 94.0, 94.0, 94.0, 152922.0, 121313.0), (25, 90.0, 90.0, 90.0, 152922.0, 121313.0), (26, 90.0, 90.0, 90.0, 152922.0, 121313.0), (27, 85.0, 85.0, 85.0, 152922.0, 121313.0))\n",
      "2021-07-28 16:57:17,304 INFO sqlalchemy.engine.Engine INSERT INTO \"Intervals\" (id, borehole, interval_number, description, top_id, base_id, data_id) VALUES (?, ?, ?, ?, ?, ?, ?)\n",
      "2021-07-28 16:57:17,305 INFO sqlalchemy.engine.Engine [cached since 0.09293s ago] ((9, 'BH003', 0, '{\"lithology\": \"sable\"}, {\"arsenic\": \"vs\"}, {\"cadmium\": \"vi\"}', 18, 19, None), (10, 'BH003', 1, '{\"lithology\": \"argile\"}, {\"arsenic\": \"vi\"}, {\"cadmium\": \"vr\"}', 20, 21, None), (11, 'BH003', 2, '{\"lithology\": \"marne\"}, {\"arsenic\": \"vr\"}, {\"cadmium\": \"vi\"}', 22, 23, None), (12, 'BH003', 3, '{\"lithology\": \"charbon\"}, {\"arsenic\": \"inconnu\"}, {\"cadmium\": \"vi\"}', 24, 25, None), (13, 'BH003', 4, '{\"lithology\": \"dolomie\"}, {\"arsenic\": \"inconnu\"}, {\"cadmium\": \"vr\"}', 26, 27, None))\n",
      "2021-07-28 16:57:17,306 INFO sqlalchemy.engine.Engine COMMIT\n",
      "2021-07-28 16:57:17,311 INFO sqlalchemy.engine.Engine BEGIN (implicit)\n",
      "2021-07-28 16:57:17,312 INFO sqlalchemy.engine.Engine SELECT \"Boreholes\".id AS \"Boreholes_id\", \"Boreholes\".length AS \"Boreholes_length\", \"Boreholes\".diameter AS \"Boreholes_diameter\" \n",
      "FROM \"Boreholes\"\n",
      "2021-07-28 16:57:17,313 INFO sqlalchemy.engine.Engine [cached since 0.1379s ago] ()\n",
      "2021-07-28 16:57:17,315 INFO sqlalchemy.engine.Engine SELECT \"Intervals\".id AS \"Intervals_id\", \"Intervals\".borehole AS \"Intervals_borehole\", \"Intervals\".interval_number AS \"Intervals_interval_number\", \"Intervals\".description AS \"Intervals_description\", \"Intervals\".top_id AS \"Intervals_top_id\", \"Intervals\".base_id AS \"Intervals_base_id\", \"Intervals\".data_id AS \"Intervals_data_id\" \n",
      "FROM \"Intervals\" \n",
      "WHERE ? = \"Intervals\".borehole\n",
      "2021-07-28 16:57:17,316 INFO sqlalchemy.engine.Engine [cached since 0.09358s ago] ('BH003',)\n",
      "2021-07-28 16:57:17,318 INFO sqlalchemy.engine.Engine SELECT \"Positions\".id AS \"Positions_id\", \"Positions\".upper AS \"Positions_upper\", \"Positions\".middle AS \"Positions_middle\", \"Positions\".lower AS \"Positions_lower\", \"Positions\".x AS \"Positions_x\", \"Positions\".y AS \"Positions_y\" \n",
      "FROM \"Positions\" \n",
      "WHERE \"Positions\".id = ?\n",
      "2021-07-28 16:57:17,318 INFO sqlalchemy.engine.Engine [cached since 0.09263s ago] (18,)\n",
      "2021-07-28 16:57:17,320 INFO sqlalchemy.engine.Engine SELECT \"Positions\".id AS \"Positions_id\", \"Positions\".upper AS \"Positions_upper\", \"Positions\".middle AS \"Positions_middle\", \"Positions\".lower AS \"Positions_lower\", \"Positions\".x AS \"Positions_x\", \"Positions\".y AS \"Positions_y\" \n",
      "FROM \"Positions\" \n",
      "WHERE \"Positions\".id = ?\n",
      "2021-07-28 16:57:17,321 INFO sqlalchemy.engine.Engine [cached since 0.09266s ago] (19,)\n",
      "2021-07-28 16:57:17,323 INFO sqlalchemy.engine.Engine SELECT \"Positions\".id AS \"Positions_id\", \"Positions\".upper AS \"Positions_upper\", \"Positions\".middle AS \"Positions_middle\", \"Positions\".lower AS \"Positions_lower\", \"Positions\".x AS \"Positions_x\", \"Positions\".y AS \"Positions_y\" \n",
      "FROM \"Positions\" \n",
      "WHERE \"Positions\".id = ?\n"
     ]
    },
    {
     "name": "stdout",
     "output_type": "stream",
     "text": [
      "2021-07-28 16:57:17,323 INFO sqlalchemy.engine.Engine [cached since 0.09773s ago] (20,)\n",
      "2021-07-28 16:57:17,325 INFO sqlalchemy.engine.Engine SELECT \"Positions\".id AS \"Positions_id\", \"Positions\".upper AS \"Positions_upper\", \"Positions\".middle AS \"Positions_middle\", \"Positions\".lower AS \"Positions_lower\", \"Positions\".x AS \"Positions_x\", \"Positions\".y AS \"Positions_y\" \n",
      "FROM \"Positions\" \n",
      "WHERE \"Positions\".id = ?\n",
      "2021-07-28 16:57:17,326 INFO sqlalchemy.engine.Engine [cached since 0.09772s ago] (21,)\n",
      "2021-07-28 16:57:17,328 INFO sqlalchemy.engine.Engine SELECT \"Positions\".id AS \"Positions_id\", \"Positions\".upper AS \"Positions_upper\", \"Positions\".middle AS \"Positions_middle\", \"Positions\".lower AS \"Positions_lower\", \"Positions\".x AS \"Positions_x\", \"Positions\".y AS \"Positions_y\" \n",
      "FROM \"Positions\" \n",
      "WHERE \"Positions\".id = ?\n",
      "2021-07-28 16:57:17,329 INFO sqlalchemy.engine.Engine [cached since 0.103s ago] (22,)\n",
      "2021-07-28 16:57:17,331 INFO sqlalchemy.engine.Engine SELECT \"Positions\".id AS \"Positions_id\", \"Positions\".upper AS \"Positions_upper\", \"Positions\".middle AS \"Positions_middle\", \"Positions\".lower AS \"Positions_lower\", \"Positions\".x AS \"Positions_x\", \"Positions\".y AS \"Positions_y\" \n",
      "FROM \"Positions\" \n",
      "WHERE \"Positions\".id = ?\n",
      "2021-07-28 16:57:17,331 INFO sqlalchemy.engine.Engine [cached since 0.103s ago] (23,)\n",
      "2021-07-28 16:57:17,333 INFO sqlalchemy.engine.Engine SELECT \"Positions\".id AS \"Positions_id\", \"Positions\".upper AS \"Positions_upper\", \"Positions\".middle AS \"Positions_middle\", \"Positions\".lower AS \"Positions_lower\", \"Positions\".x AS \"Positions_x\", \"Positions\".y AS \"Positions_y\" \n",
      "FROM \"Positions\" \n",
      "WHERE \"Positions\".id = ?\n",
      "2021-07-28 16:57:17,334 INFO sqlalchemy.engine.Engine [cached since 0.1084s ago] (24,)\n",
      "2021-07-28 16:57:17,336 INFO sqlalchemy.engine.Engine SELECT \"Positions\".id AS \"Positions_id\", \"Positions\".upper AS \"Positions_upper\", \"Positions\".middle AS \"Positions_middle\", \"Positions\".lower AS \"Positions_lower\", \"Positions\".x AS \"Positions_x\", \"Positions\".y AS \"Positions_y\" \n",
      "FROM \"Positions\" \n",
      "WHERE \"Positions\".id = ?\n",
      "2021-07-28 16:57:17,337 INFO sqlalchemy.engine.Engine [cached since 0.1084s ago] (25,)\n",
      "2021-07-28 16:57:17,339 INFO sqlalchemy.engine.Engine SELECT \"Positions\".id AS \"Positions_id\", \"Positions\".upper AS \"Positions_upper\", \"Positions\".middle AS \"Positions_middle\", \"Positions\".lower AS \"Positions_lower\", \"Positions\".x AS \"Positions_x\", \"Positions\".y AS \"Positions_y\" \n",
      "FROM \"Positions\" \n",
      "WHERE \"Positions\".id = ?\n",
      "2021-07-28 16:57:17,339 INFO sqlalchemy.engine.Engine [cached since 0.1139s ago] (26,)\n",
      "2021-07-28 16:57:17,341 INFO sqlalchemy.engine.Engine SELECT \"Positions\".id AS \"Positions_id\", \"Positions\".upper AS \"Positions_upper\", \"Positions\".middle AS \"Positions_middle\", \"Positions\".lower AS \"Positions_lower\", \"Positions\".x AS \"Positions_x\", \"Positions\".y AS \"Positions_y\" \n",
      "FROM \"Positions\" \n",
      "WHERE \"Positions\".id = ?\n",
      "2021-07-28 16:57:17,342 INFO sqlalchemy.engine.Engine [cached since 0.114s ago] (27,)\n",
      "Borehole geometry created successfully !\n",
      "2021-07-28 16:57:17,355 INFO sqlalchemy.engine.Engine UPDATE \"Boreholes\" SET length=? WHERE \"Boreholes\".id = ?\n",
      "2021-07-28 16:57:17,356 INFO sqlalchemy.engine.Engine [cached since 0.1056s ago] (100.0, 'BH003')\n",
      "2021-07-28 16:57:17,357 INFO sqlalchemy.engine.Engine INSERT INTO \"Boreholes\" (id, length, diameter) VALUES (?, ?, ?)\n",
      "2021-07-28 16:57:17,358 INFO sqlalchemy.engine.Engine [cached since 0.1533s ago] ('BH004', 26.0, 0.61)\n",
      "2021-07-28 16:57:17,360 INFO sqlalchemy.engine.Engine INSERT INTO \"Positions\" (id, upper, middle, lower, x, y) VALUES (?, ?, ?, ?, ?, ?)\n",
      "2021-07-28 16:57:17,361 INFO sqlalchemy.engine.Engine [cached since 0.1519s ago] ((28, 101.0, 101.0, 101.0, 152766.0, 121494.0), (29, 96.0, 96.0, 96.0, 152766.0, 121494.0), (30, 96.0, 96.0, 96.0, 152766.0, 121494.0), (31, 94.0, 94.0, 94.0, 152766.0, 121494.0), (32, 94.0, 94.0, 94.0, 152766.0, 121494.0), (33, 87.0, 87.0, 87.0, 152766.0, 121494.0), (34, 87.0, 87.0, 87.0, 152766.0, 121494.0), (35, 85.0, 85.0, 85.0, 152766.0, 121494.0), (36, 85.0, 85.0, 85.0, 152766.0, 121494.0), (37, 75.0, 75.0, 75.0, 152766.0, 121494.0))\n",
      "2021-07-28 16:57:17,363 INFO sqlalchemy.engine.Engine INSERT INTO \"Intervals\" (id, borehole, interval_number, description, top_id, base_id, data_id) VALUES (?, ?, ?, ?, ?, ?, ?)\n",
      "2021-07-28 16:57:17,364 INFO sqlalchemy.engine.Engine [cached since 0.1521s ago] ((14, 'BH004', 0, '{\"lithology\": \"sable\"}, {\"arsenic\": \"vs\"}, {\"cadmium\": \"vr\"}', 28, 29, None), (15, 'BH004', 1, '{\"lithology\": \"argile\"}, {\"arsenic\": \"vi\"}, {\"cadmium\": \"vi\"}', 30, 31, None), (16, 'BH004', 2, '{\"lithology\": \"marne\"}, {\"arsenic\": \"vs\"}, {\"cadmium\": \"inconnu\"}', 32, 33, None), (17, 'BH004', 3, '{\"lithology\": \"charbon\"}, {\"arsenic\": \"vi\"}, {\"cadmium\": \"vs\"}', 34, 35, None), (18, 'BH004', 4, '{\"lithology\": \"dolomie\"}, {\"arsenic\": \"inconnu\"}, {\"cadmium\": \"vi\"}', 36, 37, None))\n",
      "2021-07-28 16:57:17,366 INFO sqlalchemy.engine.Engine COMMIT\n",
      "2021-07-28 16:57:17,371 INFO sqlalchemy.engine.Engine BEGIN (implicit)\n",
      "2021-07-28 16:57:17,372 INFO sqlalchemy.engine.Engine SELECT \"Boreholes\".id AS \"Boreholes_id\", \"Boreholes\".length AS \"Boreholes_length\", \"Boreholes\".diameter AS \"Boreholes_diameter\" \n",
      "FROM \"Boreholes\"\n",
      "2021-07-28 16:57:17,373 INFO sqlalchemy.engine.Engine [cached since 0.198s ago] ()\n",
      "2021-07-28 16:57:17,375 INFO sqlalchemy.engine.Engine SELECT \"Intervals\".id AS \"Intervals_id\", \"Intervals\".borehole AS \"Intervals_borehole\", \"Intervals\".interval_number AS \"Intervals_interval_number\", \"Intervals\".description AS \"Intervals_description\", \"Intervals\".top_id AS \"Intervals_top_id\", \"Intervals\".base_id AS \"Intervals_base_id\", \"Intervals\".data_id AS \"Intervals_data_id\" \n",
      "FROM \"Intervals\" \n",
      "WHERE ? = \"Intervals\".borehole\n",
      "2021-07-28 16:57:17,376 INFO sqlalchemy.engine.Engine [cached since 0.1537s ago] ('BH004',)\n",
      "2021-07-28 16:57:17,378 INFO sqlalchemy.engine.Engine SELECT \"Positions\".id AS \"Positions_id\", \"Positions\".upper AS \"Positions_upper\", \"Positions\".middle AS \"Positions_middle\", \"Positions\".lower AS \"Positions_lower\", \"Positions\".x AS \"Positions_x\", \"Positions\".y AS \"Positions_y\" \n",
      "FROM \"Positions\" \n",
      "WHERE \"Positions\".id = ?\n",
      "2021-07-28 16:57:17,379 INFO sqlalchemy.engine.Engine [cached since 0.1535s ago] (28,)\n",
      "2021-07-28 16:57:17,381 INFO sqlalchemy.engine.Engine SELECT \"Positions\".id AS \"Positions_id\", \"Positions\".upper AS \"Positions_upper\", \"Positions\".middle AS \"Positions_middle\", \"Positions\".lower AS \"Positions_lower\", \"Positions\".x AS \"Positions_x\", \"Positions\".y AS \"Positions_y\" \n",
      "FROM \"Positions\" \n",
      "WHERE \"Positions\".id = ?\n",
      "2021-07-28 16:57:17,382 INFO sqlalchemy.engine.Engine [cached since 0.1537s ago] (29,)\n",
      "2021-07-28 16:57:17,384 INFO sqlalchemy.engine.Engine SELECT \"Positions\".id AS \"Positions_id\", \"Positions\".upper AS \"Positions_upper\", \"Positions\".middle AS \"Positions_middle\", \"Positions\".lower AS \"Positions_lower\", \"Positions\".x AS \"Positions_x\", \"Positions\".y AS \"Positions_y\" \n",
      "FROM \"Positions\" \n",
      "WHERE \"Positions\".id = ?\n",
      "2021-07-28 16:57:17,385 INFO sqlalchemy.engine.Engine [cached since 0.1593s ago] (30,)\n",
      "2021-07-28 16:57:17,387 INFO sqlalchemy.engine.Engine SELECT \"Positions\".id AS \"Positions_id\", \"Positions\".upper AS \"Positions_upper\", \"Positions\".middle AS \"Positions_middle\", \"Positions\".lower AS \"Positions_lower\", \"Positions\".x AS \"Positions_x\", \"Positions\".y AS \"Positions_y\" \n",
      "FROM \"Positions\" \n",
      "WHERE \"Positions\".id = ?\n",
      "2021-07-28 16:57:17,387 INFO sqlalchemy.engine.Engine [cached since 0.1589s ago] (31,)\n",
      "2021-07-28 16:57:17,389 INFO sqlalchemy.engine.Engine SELECT \"Positions\".id AS \"Positions_id\", \"Positions\".upper AS \"Positions_upper\", \"Positions\".middle AS \"Positions_middle\", \"Positions\".lower AS \"Positions_lower\", \"Positions\".x AS \"Positions_x\", \"Positions\".y AS \"Positions_y\" \n",
      "FROM \"Positions\" \n",
      "WHERE \"Positions\".id = ?\n",
      "2021-07-28 16:57:17,389 INFO sqlalchemy.engine.Engine [cached since 0.1638s ago] (32,)\n",
      "2021-07-28 16:57:17,391 INFO sqlalchemy.engine.Engine SELECT \"Positions\".id AS \"Positions_id\", \"Positions\".upper AS \"Positions_upper\", \"Positions\".middle AS \"Positions_middle\", \"Positions\".lower AS \"Positions_lower\", \"Positions\".x AS \"Positions_x\", \"Positions\".y AS \"Positions_y\" \n",
      "FROM \"Positions\" \n",
      "WHERE \"Positions\".id = ?\n",
      "2021-07-28 16:57:17,392 INFO sqlalchemy.engine.Engine [cached since 0.1638s ago] (33,)\n"
     ]
    },
    {
     "name": "stdout",
     "output_type": "stream",
     "text": [
      "2021-07-28 16:57:17,394 INFO sqlalchemy.engine.Engine SELECT \"Positions\".id AS \"Positions_id\", \"Positions\".upper AS \"Positions_upper\", \"Positions\".middle AS \"Positions_middle\", \"Positions\".lower AS \"Positions_lower\", \"Positions\".x AS \"Positions_x\", \"Positions\".y AS \"Positions_y\" \n",
      "FROM \"Positions\" \n",
      "WHERE \"Positions\".id = ?\n",
      "2021-07-28 16:57:17,394 INFO sqlalchemy.engine.Engine [cached since 0.1687s ago] (34,)\n",
      "2021-07-28 16:57:17,396 INFO sqlalchemy.engine.Engine SELECT \"Positions\".id AS \"Positions_id\", \"Positions\".upper AS \"Positions_upper\", \"Positions\".middle AS \"Positions_middle\", \"Positions\".lower AS \"Positions_lower\", \"Positions\".x AS \"Positions_x\", \"Positions\".y AS \"Positions_y\" \n",
      "FROM \"Positions\" \n",
      "WHERE \"Positions\".id = ?\n",
      "2021-07-28 16:57:17,397 INFO sqlalchemy.engine.Engine [cached since 0.1685s ago] (35,)\n",
      "2021-07-28 16:57:17,399 INFO sqlalchemy.engine.Engine SELECT \"Positions\".id AS \"Positions_id\", \"Positions\".upper AS \"Positions_upper\", \"Positions\".middle AS \"Positions_middle\", \"Positions\".lower AS \"Positions_lower\", \"Positions\".x AS \"Positions_x\", \"Positions\".y AS \"Positions_y\" \n",
      "FROM \"Positions\" \n",
      "WHERE \"Positions\".id = ?\n",
      "2021-07-28 16:57:17,399 INFO sqlalchemy.engine.Engine [cached since 0.1739s ago] (36,)\n",
      "2021-07-28 16:57:17,401 INFO sqlalchemy.engine.Engine SELECT \"Positions\".id AS \"Positions_id\", \"Positions\".upper AS \"Positions_upper\", \"Positions\".middle AS \"Positions_middle\", \"Positions\".lower AS \"Positions_lower\", \"Positions\".x AS \"Positions_x\", \"Positions\".y AS \"Positions_y\" \n",
      "FROM \"Positions\" \n",
      "WHERE \"Positions\".id = ?\n",
      "2021-07-28 16:57:17,402 INFO sqlalchemy.engine.Engine [cached since 0.1738s ago] (37,)\n",
      "Borehole geometry created successfully !\n",
      "2021-07-28 16:57:17,416 INFO sqlalchemy.engine.Engine UPDATE \"Boreholes\" SET length=? WHERE \"Boreholes\".id = ?\n",
      "2021-07-28 16:57:17,418 INFO sqlalchemy.engine.Engine [cached since 0.1671s ago] (96.0, 'BH004')\n",
      "2021-07-28 16:57:17,420 INFO sqlalchemy.engine.Engine INSERT INTO \"Boreholes\" (id, length, diameter) VALUES (?, ?, ?)\n",
      "2021-07-28 16:57:17,421 INFO sqlalchemy.engine.Engine [cached since 0.2161s ago] ('BH005', 36.0, 0.61)\n",
      "2021-07-28 16:57:17,423 INFO sqlalchemy.engine.Engine INSERT INTO \"Positions\" (id, upper, middle, lower, x, y) VALUES (?, ?, ?, ?, ?, ?)\n",
      "2021-07-28 16:57:17,424 INFO sqlalchemy.engine.Engine [cached since 0.2148s ago] ((38, 101.0, 101.0, 101.0, 152473.0, 121460.0), (39, 97.0, 97.0, 97.0, 152473.0, 121460.0), (40, 97.0, 97.0, 97.0, 152473.0, 121460.0), (41, 93.0, 93.0, 93.0, 152473.0, 121460.0), (42, 93.0, 93.0, 93.0, 152473.0, 121460.0), (43, 82.0, 82.0, 82.0, 152473.0, 121460.0), (44, 82.0, 82.0, 82.0, 152473.0, 121460.0), (45, 74.0, 74.0, 74.0, 152473.0, 121460.0)  ... displaying 10 of 14 total bound parameter sets ...  (50, 69.0, 69.0, 69.0, 152473.0, 121460.0), (51, 65.0, 65.0, 65.0, 152473.0, 121460.0))\n",
      "2021-07-28 16:57:17,426 INFO sqlalchemy.engine.Engine INSERT INTO \"Intervals\" (id, borehole, interval_number, description, top_id, base_id, data_id) VALUES (?, ?, ?, ?, ?, ?, ?)\n",
      "2021-07-28 16:57:17,427 INFO sqlalchemy.engine.Engine [cached since 0.2153s ago] ((19, 'BH005', 0, '{\"lithology\": \"sable\"}, {\"arsenic\": \"vi\"}, {\"cadmium\": \"inconnu\"}', 38, 39, None), (20, 'BH005', 1, '{\"lithology\": \"argile\"}, {\"arsenic\": \"vi\"}, {\"cadmium\": \"vr\"}', 40, 41, None), (21, 'BH005', 2, '{\"lithology\": \"marne\"}, {\"arsenic\": \"vr\"}, {\"cadmium\": \"vr\"}', 42, 43, None), (22, 'BH005', 3, '{\"lithology\": \"charbon\"}, {\"arsenic\": \"inconnu\"}, {\"cadmium\": \"vi\"}', 44, 45, None), (23, 'BH005', 4, '{\"lithology\": \"dolomie\"}, {\"arsenic\": \"vr\"}, {\"cadmium\": \"vs\"}', 46, 47, None), (24, 'BH005', 5, '{\"lithology\": \"schiste\"}, {\"arsenic\": \"vi\"}, {\"cadmium\": \"vr\"}', 48, 49, None), (25, 'BH005', 6, '{\"lithology\": \"calcaire\"}, {\"arsenic\": \"inconnu\"}, {\"cadmium\": \"vr\"}', 50, 51, None))\n",
      "2021-07-28 16:57:17,430 INFO sqlalchemy.engine.Engine COMMIT\n",
      "2021-07-28 16:57:17,434 INFO sqlalchemy.engine.Engine BEGIN (implicit)\n",
      "2021-07-28 16:57:17,435 INFO sqlalchemy.engine.Engine SELECT \"Boreholes\".id AS \"Boreholes_id\", \"Boreholes\".length AS \"Boreholes_length\", \"Boreholes\".diameter AS \"Boreholes_diameter\" \n",
      "FROM \"Boreholes\"\n",
      "2021-07-28 16:57:17,435 INFO sqlalchemy.engine.Engine [cached since 0.2606s ago] ()\n",
      "2021-07-28 16:57:17,437 INFO sqlalchemy.engine.Engine SELECT \"Intervals\".id AS \"Intervals_id\", \"Intervals\".borehole AS \"Intervals_borehole\", \"Intervals\".interval_number AS \"Intervals_interval_number\", \"Intervals\".description AS \"Intervals_description\", \"Intervals\".top_id AS \"Intervals_top_id\", \"Intervals\".base_id AS \"Intervals_base_id\", \"Intervals\".data_id AS \"Intervals_data_id\" \n",
      "FROM \"Intervals\" \n",
      "WHERE ? = \"Intervals\".borehole\n",
      "2021-07-28 16:57:17,438 INFO sqlalchemy.engine.Engine [cached since 0.2161s ago] ('BH005',)\n",
      "2021-07-28 16:57:17,440 INFO sqlalchemy.engine.Engine SELECT \"Positions\".id AS \"Positions_id\", \"Positions\".upper AS \"Positions_upper\", \"Positions\".middle AS \"Positions_middle\", \"Positions\".lower AS \"Positions_lower\", \"Positions\".x AS \"Positions_x\", \"Positions\".y AS \"Positions_y\" \n",
      "FROM \"Positions\" \n",
      "WHERE \"Positions\".id = ?\n",
      "2021-07-28 16:57:17,441 INFO sqlalchemy.engine.Engine [cached since 0.2154s ago] (38,)\n",
      "2021-07-28 16:57:17,443 INFO sqlalchemy.engine.Engine SELECT \"Positions\".id AS \"Positions_id\", \"Positions\".upper AS \"Positions_upper\", \"Positions\".middle AS \"Positions_middle\", \"Positions\".lower AS \"Positions_lower\", \"Positions\".x AS \"Positions_x\", \"Positions\".y AS \"Positions_y\" \n",
      "FROM \"Positions\" \n",
      "WHERE \"Positions\".id = ?\n",
      "2021-07-28 16:57:17,443 INFO sqlalchemy.engine.Engine [cached since 0.2151s ago] (39,)\n",
      "2021-07-28 16:57:17,445 INFO sqlalchemy.engine.Engine SELECT \"Positions\".id AS \"Positions_id\", \"Positions\".upper AS \"Positions_upper\", \"Positions\".middle AS \"Positions_middle\", \"Positions\".lower AS \"Positions_lower\", \"Positions\".x AS \"Positions_x\", \"Positions\".y AS \"Positions_y\" \n",
      "FROM \"Positions\" \n",
      "WHERE \"Positions\".id = ?\n",
      "2021-07-28 16:57:17,446 INFO sqlalchemy.engine.Engine [cached since 0.2203s ago] (40,)\n",
      "2021-07-28 16:57:17,448 INFO sqlalchemy.engine.Engine SELECT \"Positions\".id AS \"Positions_id\", \"Positions\".upper AS \"Positions_upper\", \"Positions\".middle AS \"Positions_middle\", \"Positions\".lower AS \"Positions_lower\", \"Positions\".x AS \"Positions_x\", \"Positions\".y AS \"Positions_y\" \n",
      "FROM \"Positions\" \n",
      "WHERE \"Positions\".id = ?\n",
      "2021-07-28 16:57:17,449 INFO sqlalchemy.engine.Engine [cached since 0.2203s ago] (41,)\n",
      "2021-07-28 16:57:17,450 INFO sqlalchemy.engine.Engine SELECT \"Positions\".id AS \"Positions_id\", \"Positions\".upper AS \"Positions_upper\", \"Positions\".middle AS \"Positions_middle\", \"Positions\".lower AS \"Positions_lower\", \"Positions\".x AS \"Positions_x\", \"Positions\".y AS \"Positions_y\" \n",
      "FROM \"Positions\" \n",
      "WHERE \"Positions\".id = ?\n",
      "2021-07-28 16:57:17,451 INFO sqlalchemy.engine.Engine [cached since 0.2252s ago] (42,)\n",
      "2021-07-28 16:57:17,452 INFO sqlalchemy.engine.Engine SELECT \"Positions\".id AS \"Positions_id\", \"Positions\".upper AS \"Positions_upper\", \"Positions\".middle AS \"Positions_middle\", \"Positions\".lower AS \"Positions_lower\", \"Positions\".x AS \"Positions_x\", \"Positions\".y AS \"Positions_y\" \n",
      "FROM \"Positions\" \n",
      "WHERE \"Positions\".id = ?\n",
      "2021-07-28 16:57:17,453 INFO sqlalchemy.engine.Engine [cached since 0.2249s ago] (43,)\n",
      "2021-07-28 16:57:17,455 INFO sqlalchemy.engine.Engine SELECT \"Positions\".id AS \"Positions_id\", \"Positions\".upper AS \"Positions_upper\", \"Positions\".middle AS \"Positions_middle\", \"Positions\".lower AS \"Positions_lower\", \"Positions\".x AS \"Positions_x\", \"Positions\".y AS \"Positions_y\" \n",
      "FROM \"Positions\" \n",
      "WHERE \"Positions\".id = ?\n",
      "2021-07-28 16:57:17,456 INFO sqlalchemy.engine.Engine [cached since 0.23s ago] (44,)\n",
      "2021-07-28 16:57:17,457 INFO sqlalchemy.engine.Engine SELECT \"Positions\".id AS \"Positions_id\", \"Positions\".upper AS \"Positions_upper\", \"Positions\".middle AS \"Positions_middle\", \"Positions\".lower AS \"Positions_lower\", \"Positions\".x AS \"Positions_x\", \"Positions\".y AS \"Positions_y\" \n",
      "FROM \"Positions\" \n",
      "WHERE \"Positions\".id = ?\n",
      "2021-07-28 16:57:17,458 INFO sqlalchemy.engine.Engine [cached since 0.2295s ago] (45,)\n",
      "2021-07-28 16:57:17,459 INFO sqlalchemy.engine.Engine SELECT \"Positions\".id AS \"Positions_id\", \"Positions\".upper AS \"Positions_upper\", \"Positions\".middle AS \"Positions_middle\", \"Positions\".lower AS \"Positions_lower\", \"Positions\".x AS \"Positions_x\", \"Positions\".y AS \"Positions_y\" \n",
      "FROM \"Positions\" \n",
      "WHERE \"Positions\".id = ?\n"
     ]
    },
    {
     "name": "stdout",
     "output_type": "stream",
     "text": [
      "2021-07-28 16:57:17,460 INFO sqlalchemy.engine.Engine [cached since 0.2345s ago] (46,)\n",
      "2021-07-28 16:57:17,462 INFO sqlalchemy.engine.Engine SELECT \"Positions\".id AS \"Positions_id\", \"Positions\".upper AS \"Positions_upper\", \"Positions\".middle AS \"Positions_middle\", \"Positions\".lower AS \"Positions_lower\", \"Positions\".x AS \"Positions_x\", \"Positions\".y AS \"Positions_y\" \n",
      "FROM \"Positions\" \n",
      "WHERE \"Positions\".id = ?\n",
      "2021-07-28 16:57:17,463 INFO sqlalchemy.engine.Engine [cached since 0.2343s ago] (47,)\n",
      "2021-07-28 16:57:17,465 INFO sqlalchemy.engine.Engine SELECT \"Positions\".id AS \"Positions_id\", \"Positions\".upper AS \"Positions_upper\", \"Positions\".middle AS \"Positions_middle\", \"Positions\".lower AS \"Positions_lower\", \"Positions\".x AS \"Positions_x\", \"Positions\".y AS \"Positions_y\" \n",
      "FROM \"Positions\" \n",
      "WHERE \"Positions\".id = ?\n",
      "2021-07-28 16:57:17,466 INFO sqlalchemy.engine.Engine [cached since 0.24s ago] (48,)\n",
      "2021-07-28 16:57:17,467 INFO sqlalchemy.engine.Engine SELECT \"Positions\".id AS \"Positions_id\", \"Positions\".upper AS \"Positions_upper\", \"Positions\".middle AS \"Positions_middle\", \"Positions\".lower AS \"Positions_lower\", \"Positions\".x AS \"Positions_x\", \"Positions\".y AS \"Positions_y\" \n",
      "FROM \"Positions\" \n",
      "WHERE \"Positions\".id = ?\n",
      "2021-07-28 16:57:17,468 INFO sqlalchemy.engine.Engine [cached since 0.2399s ago] (49,)\n",
      "2021-07-28 16:57:17,470 INFO sqlalchemy.engine.Engine SELECT \"Positions\".id AS \"Positions_id\", \"Positions\".upper AS \"Positions_upper\", \"Positions\".middle AS \"Positions_middle\", \"Positions\".lower AS \"Positions_lower\", \"Positions\".x AS \"Positions_x\", \"Positions\".y AS \"Positions_y\" \n",
      "FROM \"Positions\" \n",
      "WHERE \"Positions\".id = ?\n",
      "2021-07-28 16:57:17,471 INFO sqlalchemy.engine.Engine [cached since 0.2454s ago] (50,)\n",
      "2021-07-28 16:57:17,472 INFO sqlalchemy.engine.Engine SELECT \"Positions\".id AS \"Positions_id\", \"Positions\".upper AS \"Positions_upper\", \"Positions\".middle AS \"Positions_middle\", \"Positions\".lower AS \"Positions_lower\", \"Positions\".x AS \"Positions_x\", \"Positions\".y AS \"Positions_y\" \n",
      "FROM \"Positions\" \n",
      "WHERE \"Positions\".id = ?\n",
      "2021-07-28 16:57:17,473 INFO sqlalchemy.engine.Engine [cached since 0.2447s ago] (51,)\n",
      "Borehole geometry created successfully !\n",
      "2021-07-28 16:57:17,485 INFO sqlalchemy.engine.Engine UPDATE \"Boreholes\" SET length=? WHERE \"Boreholes\".id = ?\n",
      "2021-07-28 16:57:17,486 INFO sqlalchemy.engine.Engine [cached since 0.2355s ago] (97.0, 'BH005')\n",
      "2021-07-28 16:57:17,488 INFO sqlalchemy.engine.Engine INSERT INTO \"Boreholes\" (id, length, diameter) VALUES (?, ?, ?)\n",
      "2021-07-28 16:57:17,488 INFO sqlalchemy.engine.Engine [cached since 0.2835s ago] ('BH006', 26.0, 0.31)\n",
      "2021-07-28 16:57:17,490 INFO sqlalchemy.engine.Engine INSERT INTO \"Positions\" (id, upper, middle, lower, x, y) VALUES (?, ?, ?, ?, ?, ?)\n",
      "2021-07-28 16:57:17,491 INFO sqlalchemy.engine.Engine [cached since 0.2816s ago] ((52, 101.0, 101.0, 101.0, 152375.0, 121002.0), (53, 100.0, 100.0, 100.0, 152375.0, 121002.0), (54, 100.0, 100.0, 100.0, 152375.0, 121002.0), (55, 98.0, 98.0, 98.0, 152375.0, 121002.0), (56, 98.0, 98.0, 98.0, 152375.0, 121002.0), (57, 92.0, 92.0, 92.0, 152375.0, 121002.0), (58, 92.0, 92.0, 92.0, 152375.0, 121002.0), (59, 86.0, 86.0, 86.0, 152375.0, 121002.0), (60, 86.0, 86.0, 86.0, 152375.0, 121002.0), (61, 75.0, 75.0, 75.0, 152375.0, 121002.0))\n",
      "2021-07-28 16:57:17,493 INFO sqlalchemy.engine.Engine INSERT INTO \"Intervals\" (id, borehole, interval_number, description, top_id, base_id, data_id) VALUES (?, ?, ?, ?, ?, ?, ?)\n",
      "2021-07-28 16:57:17,493 INFO sqlalchemy.engine.Engine [cached since 0.2812s ago] ((26, 'BH006', 0, '{\"lithology\": \"sable\"}, {\"arsenic\": \"vs\"}, {\"cadmium\": \"vi\"}', 52, 53, None), (27, 'BH006', 1, '{\"lithology\": \"argile\"}, {\"arsenic\": \"vs\"}, {\"cadmium\": \"inconnu\"}', 54, 55, None), (28, 'BH006', 2, '{\"lithology\": \"marne\"}, {\"arsenic\": \"inconnu\"}, {\"cadmium\": \"inconnu\"}', 56, 57, None), (29, 'BH006', 3, '{\"lithology\": \"charbon\"}, {\"arsenic\": \"inconnu\"}, {\"cadmium\": \"vi\"}', 58, 59, None), (30, 'BH006', 4, '{\"lithology\": \"dolomie\"}, {\"arsenic\": \"vs\"}, {\"cadmium\": \"inconnu\"}', 60, 61, None))\n",
      "2021-07-28 16:57:17,495 INFO sqlalchemy.engine.Engine COMMIT\n",
      "2021-07-28 16:57:17,499 INFO sqlalchemy.engine.Engine BEGIN (implicit)\n",
      "2021-07-28 16:57:17,499 INFO sqlalchemy.engine.Engine SELECT \"Boreholes\".id AS \"Boreholes_id\", \"Boreholes\".length AS \"Boreholes_length\", \"Boreholes\".diameter AS \"Boreholes_diameter\" \n",
      "FROM \"Boreholes\"\n",
      "2021-07-28 16:57:17,500 INFO sqlalchemy.engine.Engine [cached since 0.3253s ago] ()\n",
      "2021-07-28 16:57:17,502 INFO sqlalchemy.engine.Engine SELECT \"Intervals\".id AS \"Intervals_id\", \"Intervals\".borehole AS \"Intervals_borehole\", \"Intervals\".interval_number AS \"Intervals_interval_number\", \"Intervals\".description AS \"Intervals_description\", \"Intervals\".top_id AS \"Intervals_top_id\", \"Intervals\".base_id AS \"Intervals_base_id\", \"Intervals\".data_id AS \"Intervals_data_id\" \n",
      "FROM \"Intervals\" \n",
      "WHERE ? = \"Intervals\".borehole\n",
      "2021-07-28 16:57:17,503 INFO sqlalchemy.engine.Engine [cached since 0.2806s ago] ('BH006',)\n",
      "2021-07-28 16:57:17,504 INFO sqlalchemy.engine.Engine SELECT \"Positions\".id AS \"Positions_id\", \"Positions\".upper AS \"Positions_upper\", \"Positions\".middle AS \"Positions_middle\", \"Positions\".lower AS \"Positions_lower\", \"Positions\".x AS \"Positions_x\", \"Positions\".y AS \"Positions_y\" \n",
      "FROM \"Positions\" \n",
      "WHERE \"Positions\".id = ?\n",
      "2021-07-28 16:57:17,505 INFO sqlalchemy.engine.Engine [cached since 0.2793s ago] (52,)\n",
      "2021-07-28 16:57:17,506 INFO sqlalchemy.engine.Engine SELECT \"Positions\".id AS \"Positions_id\", \"Positions\".upper AS \"Positions_upper\", \"Positions\".middle AS \"Positions_middle\", \"Positions\".lower AS \"Positions_lower\", \"Positions\".x AS \"Positions_x\", \"Positions\".y AS \"Positions_y\" \n",
      "FROM \"Positions\" \n",
      "WHERE \"Positions\".id = ?\n",
      "2021-07-28 16:57:17,507 INFO sqlalchemy.engine.Engine [cached since 0.2784s ago] (53,)\n",
      "2021-07-28 16:57:17,509 INFO sqlalchemy.engine.Engine SELECT \"Positions\".id AS \"Positions_id\", \"Positions\".upper AS \"Positions_upper\", \"Positions\".middle AS \"Positions_middle\", \"Positions\".lower AS \"Positions_lower\", \"Positions\".x AS \"Positions_x\", \"Positions\".y AS \"Positions_y\" \n",
      "FROM \"Positions\" \n",
      "WHERE \"Positions\".id = ?\n",
      "2021-07-28 16:57:17,509 INFO sqlalchemy.engine.Engine [cached since 0.2839s ago] (54,)\n",
      "2021-07-28 16:57:17,511 INFO sqlalchemy.engine.Engine SELECT \"Positions\".id AS \"Positions_id\", \"Positions\".upper AS \"Positions_upper\", \"Positions\".middle AS \"Positions_middle\", \"Positions\".lower AS \"Positions_lower\", \"Positions\".x AS \"Positions_x\", \"Positions\".y AS \"Positions_y\" \n",
      "FROM \"Positions\" \n",
      "WHERE \"Positions\".id = ?\n",
      "2021-07-28 16:57:17,512 INFO sqlalchemy.engine.Engine [cached since 0.2837s ago] (55,)\n",
      "2021-07-28 16:57:17,514 INFO sqlalchemy.engine.Engine SELECT \"Positions\".id AS \"Positions_id\", \"Positions\".upper AS \"Positions_upper\", \"Positions\".middle AS \"Positions_middle\", \"Positions\".lower AS \"Positions_lower\", \"Positions\".x AS \"Positions_x\", \"Positions\".y AS \"Positions_y\" \n",
      "FROM \"Positions\" \n",
      "WHERE \"Positions\".id = ?\n",
      "2021-07-28 16:57:17,515 INFO sqlalchemy.engine.Engine [cached since 0.2893s ago] (56,)\n",
      "2021-07-28 16:57:17,516 INFO sqlalchemy.engine.Engine SELECT \"Positions\".id AS \"Positions_id\", \"Positions\".upper AS \"Positions_upper\", \"Positions\".middle AS \"Positions_middle\", \"Positions\".lower AS \"Positions_lower\", \"Positions\".x AS \"Positions_x\", \"Positions\".y AS \"Positions_y\" \n",
      "FROM \"Positions\" \n",
      "WHERE \"Positions\".id = ?\n",
      "2021-07-28 16:57:17,517 INFO sqlalchemy.engine.Engine [cached since 0.2889s ago] (57,)\n",
      "2021-07-28 16:57:17,519 INFO sqlalchemy.engine.Engine SELECT \"Positions\".id AS \"Positions_id\", \"Positions\".upper AS \"Positions_upper\", \"Positions\".middle AS \"Positions_middle\", \"Positions\".lower AS \"Positions_lower\", \"Positions\".x AS \"Positions_x\", \"Positions\".y AS \"Positions_y\" \n",
      "FROM \"Positions\" \n",
      "WHERE \"Positions\".id = ?\n",
      "2021-07-28 16:57:17,520 INFO sqlalchemy.engine.Engine [cached since 0.2943s ago] (58,)\n",
      "2021-07-28 16:57:17,521 INFO sqlalchemy.engine.Engine SELECT \"Positions\".id AS \"Positions_id\", \"Positions\".upper AS \"Positions_upper\", \"Positions\".middle AS \"Positions_middle\", \"Positions\".lower AS \"Positions_lower\", \"Positions\".x AS \"Positions_x\", \"Positions\".y AS \"Positions_y\" \n",
      "FROM \"Positions\" \n",
      "WHERE \"Positions\".id = ?\n",
      "2021-07-28 16:57:17,522 INFO sqlalchemy.engine.Engine [cached since 0.2939s ago] (59,)\n"
     ]
    },
    {
     "name": "stdout",
     "output_type": "stream",
     "text": [
      "2021-07-28 16:57:17,524 INFO sqlalchemy.engine.Engine SELECT \"Positions\".id AS \"Positions_id\", \"Positions\".upper AS \"Positions_upper\", \"Positions\".middle AS \"Positions_middle\", \"Positions\".lower AS \"Positions_lower\", \"Positions\".x AS \"Positions_x\", \"Positions\".y AS \"Positions_y\" \n",
      "FROM \"Positions\" \n",
      "WHERE \"Positions\".id = ?\n",
      "2021-07-28 16:57:17,525 INFO sqlalchemy.engine.Engine [cached since 0.2992s ago] (60,)\n",
      "2021-07-28 16:57:17,526 INFO sqlalchemy.engine.Engine SELECT \"Positions\".id AS \"Positions_id\", \"Positions\".upper AS \"Positions_upper\", \"Positions\".middle AS \"Positions_middle\", \"Positions\".lower AS \"Positions_lower\", \"Positions\".x AS \"Positions_x\", \"Positions\".y AS \"Positions_y\" \n",
      "FROM \"Positions\" \n",
      "WHERE \"Positions\".id = ?\n",
      "2021-07-28 16:57:17,528 INFO sqlalchemy.engine.Engine [cached since 0.2993s ago] (61,)\n",
      "Borehole geometry created successfully !\n",
      "2021-07-28 16:57:17,539 INFO sqlalchemy.engine.Engine UPDATE \"Boreholes\" SET length=? WHERE \"Boreholes\".id = ?\n",
      "2021-07-28 16:57:17,540 INFO sqlalchemy.engine.Engine [cached since 0.2889s ago] (100.0, 'BH006')\n",
      "2021-07-28 16:57:17,540 INFO sqlalchemy.engine.Engine INSERT INTO \"Boreholes\" (id, length, diameter) VALUES (?, ?, ?)\n",
      "2021-07-28 16:57:17,541 INFO sqlalchemy.engine.Engine [cached since 0.3359s ago] ('BH007', 45.0, 0.57)\n",
      "2021-07-28 16:57:17,542 INFO sqlalchemy.engine.Engine INSERT INTO \"Positions\" (id, upper, middle, lower, x, y) VALUES (?, ?, ?, ?, ?, ?)\n",
      "2021-07-28 16:57:17,542 INFO sqlalchemy.engine.Engine [cached since 0.3333s ago] ((62, 101.0, 101.0, 101.0, 152794.0, 121111.0), (63, 97.0, 97.0, 97.0, 152794.0, 121111.0), (64, 97.0, 97.0, 97.0, 152794.0, 121111.0), (65, 93.0, 93.0, 93.0, 152794.0, 121111.0), (66, 93.0, 93.0, 93.0, 152794.0, 121111.0), (67, 83.0, 83.0, 83.0, 152794.0, 121111.0), (68, 83.0, 83.0, 83.0, 152794.0, 121111.0), (69, 82.0, 82.0, 82.0, 152794.0, 121111.0)  ... displaying 10 of 12 total bound parameter sets ...  (72, 60.0, 60.0, 60.0, 152794.0, 121111.0), (73, 56.0, 56.0, 56.0, 152794.0, 121111.0))\n",
      "2021-07-28 16:57:17,543 INFO sqlalchemy.engine.Engine INSERT INTO \"Intervals\" (id, borehole, interval_number, description, top_id, base_id, data_id) VALUES (?, ?, ?, ?, ?, ?, ?)\n",
      "2021-07-28 16:57:17,544 INFO sqlalchemy.engine.Engine [cached since 0.3318s ago] ((31, 'BH007', 0, '{\"lithology\": \"sable\"}, {\"arsenic\": \"vs\"}, {\"cadmium\": \"vs\"}', 62, 63, None), (32, 'BH007', 1, '{\"lithology\": \"argile\"}, {\"arsenic\": \"inconnu\"}, {\"cadmium\": \"vi\"}', 64, 65, None), (33, 'BH007', 2, '{\"lithology\": \"marne\"}, {\"arsenic\": \"inconnu\"}, {\"cadmium\": \"vi\"}', 66, 67, None), (34, 'BH007', 3, '{\"lithology\": \"charbon\"}, {\"arsenic\": \"vs\"}, {\"cadmium\": \"vr\"}', 68, 69, None), (35, 'BH007', 4, '{\"lithology\": \"dolomie\"}, {\"arsenic\": \"vr\"}, {\"cadmium\": \"inconnu\"}', 70, 71, None), (36, 'BH007', 5, '{\"lithology\": \"calcaire\"}, {\"arsenic\": \"vs\"}, {\"cadmium\": \"vr\"}', 72, 73, None))\n",
      "2021-07-28 16:57:17,545 INFO sqlalchemy.engine.Engine COMMIT\n",
      "2021-07-28 16:57:17,549 INFO sqlalchemy.engine.Engine BEGIN (implicit)\n",
      "2021-07-28 16:57:17,549 INFO sqlalchemy.engine.Engine SELECT \"Boreholes\".id AS \"Boreholes_id\", \"Boreholes\".length AS \"Boreholes_length\", \"Boreholes\".diameter AS \"Boreholes_diameter\" \n",
      "FROM \"Boreholes\"\n",
      "2021-07-28 16:57:17,550 INFO sqlalchemy.engine.Engine [cached since 0.3752s ago] ()\n",
      "2021-07-28 16:57:17,552 INFO sqlalchemy.engine.Engine SELECT \"Intervals\".id AS \"Intervals_id\", \"Intervals\".borehole AS \"Intervals_borehole\", \"Intervals\".interval_number AS \"Intervals_interval_number\", \"Intervals\".description AS \"Intervals_description\", \"Intervals\".top_id AS \"Intervals_top_id\", \"Intervals\".base_id AS \"Intervals_base_id\", \"Intervals\".data_id AS \"Intervals_data_id\" \n",
      "FROM \"Intervals\" \n",
      "WHERE ? = \"Intervals\".borehole\n",
      "2021-07-28 16:57:17,552 INFO sqlalchemy.engine.Engine [cached since 0.3301s ago] ('BH007',)\n",
      "2021-07-28 16:57:17,554 INFO sqlalchemy.engine.Engine SELECT \"Positions\".id AS \"Positions_id\", \"Positions\".upper AS \"Positions_upper\", \"Positions\".middle AS \"Positions_middle\", \"Positions\".lower AS \"Positions_lower\", \"Positions\".x AS \"Positions_x\", \"Positions\".y AS \"Positions_y\" \n",
      "FROM \"Positions\" \n",
      "WHERE \"Positions\".id = ?\n",
      "2021-07-28 16:57:17,555 INFO sqlalchemy.engine.Engine [cached since 0.3294s ago] (62,)\n",
      "2021-07-28 16:57:17,556 INFO sqlalchemy.engine.Engine SELECT \"Positions\".id AS \"Positions_id\", \"Positions\".upper AS \"Positions_upper\", \"Positions\".middle AS \"Positions_middle\", \"Positions\".lower AS \"Positions_lower\", \"Positions\".x AS \"Positions_x\", \"Positions\".y AS \"Positions_y\" \n",
      "FROM \"Positions\" \n",
      "WHERE \"Positions\".id = ?\n",
      "2021-07-28 16:57:17,557 INFO sqlalchemy.engine.Engine [cached since 0.3284s ago] (63,)\n",
      "2021-07-28 16:57:17,558 INFO sqlalchemy.engine.Engine SELECT \"Positions\".id AS \"Positions_id\", \"Positions\".upper AS \"Positions_upper\", \"Positions\".middle AS \"Positions_middle\", \"Positions\".lower AS \"Positions_lower\", \"Positions\".x AS \"Positions_x\", \"Positions\".y AS \"Positions_y\" \n",
      "FROM \"Positions\" \n",
      "WHERE \"Positions\".id = ?\n",
      "2021-07-28 16:57:17,559 INFO sqlalchemy.engine.Engine [cached since 0.3333s ago] (64,)\n",
      "2021-07-28 16:57:17,560 INFO sqlalchemy.engine.Engine SELECT \"Positions\".id AS \"Positions_id\", \"Positions\".upper AS \"Positions_upper\", \"Positions\".middle AS \"Positions_middle\", \"Positions\".lower AS \"Positions_lower\", \"Positions\".x AS \"Positions_x\", \"Positions\".y AS \"Positions_y\" \n",
      "FROM \"Positions\" \n",
      "WHERE \"Positions\".id = ?\n",
      "2021-07-28 16:57:17,561 INFO sqlalchemy.engine.Engine [cached since 0.3324s ago] (65,)\n",
      "2021-07-28 16:57:17,562 INFO sqlalchemy.engine.Engine SELECT \"Positions\".id AS \"Positions_id\", \"Positions\".upper AS \"Positions_upper\", \"Positions\".middle AS \"Positions_middle\", \"Positions\".lower AS \"Positions_lower\", \"Positions\".x AS \"Positions_x\", \"Positions\".y AS \"Positions_y\" \n",
      "FROM \"Positions\" \n",
      "WHERE \"Positions\".id = ?\n",
      "2021-07-28 16:57:17,563 INFO sqlalchemy.engine.Engine [cached since 0.3371s ago] (66,)\n",
      "2021-07-28 16:57:17,564 INFO sqlalchemy.engine.Engine SELECT \"Positions\".id AS \"Positions_id\", \"Positions\".upper AS \"Positions_upper\", \"Positions\".middle AS \"Positions_middle\", \"Positions\".lower AS \"Positions_lower\", \"Positions\".x AS \"Positions_x\", \"Positions\".y AS \"Positions_y\" \n",
      "FROM \"Positions\" \n",
      "WHERE \"Positions\".id = ?\n",
      "2021-07-28 16:57:17,565 INFO sqlalchemy.engine.Engine [cached since 0.3366s ago] (67,)\n",
      "2021-07-28 16:57:17,566 INFO sqlalchemy.engine.Engine SELECT \"Positions\".id AS \"Positions_id\", \"Positions\".upper AS \"Positions_upper\", \"Positions\".middle AS \"Positions_middle\", \"Positions\".lower AS \"Positions_lower\", \"Positions\".x AS \"Positions_x\", \"Positions\".y AS \"Positions_y\" \n",
      "FROM \"Positions\" \n",
      "WHERE \"Positions\".id = ?\n",
      "2021-07-28 16:57:17,567 INFO sqlalchemy.engine.Engine [cached since 0.3415s ago] (68,)\n",
      "2021-07-28 16:57:17,568 INFO sqlalchemy.engine.Engine SELECT \"Positions\".id AS \"Positions_id\", \"Positions\".upper AS \"Positions_upper\", \"Positions\".middle AS \"Positions_middle\", \"Positions\".lower AS \"Positions_lower\", \"Positions\".x AS \"Positions_x\", \"Positions\".y AS \"Positions_y\" \n",
      "FROM \"Positions\" \n",
      "WHERE \"Positions\".id = ?\n",
      "2021-07-28 16:57:17,569 INFO sqlalchemy.engine.Engine [cached since 0.3408s ago] (69,)\n",
      "2021-07-28 16:57:17,571 INFO sqlalchemy.engine.Engine SELECT \"Positions\".id AS \"Positions_id\", \"Positions\".upper AS \"Positions_upper\", \"Positions\".middle AS \"Positions_middle\", \"Positions\".lower AS \"Positions_lower\", \"Positions\".x AS \"Positions_x\", \"Positions\".y AS \"Positions_y\" \n",
      "FROM \"Positions\" \n",
      "WHERE \"Positions\".id = ?\n",
      "2021-07-28 16:57:17,571 INFO sqlalchemy.engine.Engine [cached since 0.3457s ago] (70,)\n",
      "2021-07-28 16:57:17,573 INFO sqlalchemy.engine.Engine SELECT \"Positions\".id AS \"Positions_id\", \"Positions\".upper AS \"Positions_upper\", \"Positions\".middle AS \"Positions_middle\", \"Positions\".lower AS \"Positions_lower\", \"Positions\".x AS \"Positions_x\", \"Positions\".y AS \"Positions_y\" \n",
      "FROM \"Positions\" \n",
      "WHERE \"Positions\".id = ?\n",
      "2021-07-28 16:57:17,573 INFO sqlalchemy.engine.Engine [cached since 0.3452s ago] (71,)\n",
      "2021-07-28 16:57:17,575 INFO sqlalchemy.engine.Engine SELECT \"Positions\".id AS \"Positions_id\", \"Positions\".upper AS \"Positions_upper\", \"Positions\".middle AS \"Positions_middle\", \"Positions\".lower AS \"Positions_lower\", \"Positions\".x AS \"Positions_x\", \"Positions\".y AS \"Positions_y\" \n",
      "FROM \"Positions\" \n",
      "WHERE \"Positions\".id = ?\n"
     ]
    },
    {
     "name": "stdout",
     "output_type": "stream",
     "text": [
      "2021-07-28 16:57:17,576 INFO sqlalchemy.engine.Engine [cached since 0.3501s ago] (72,)\n",
      "2021-07-28 16:57:17,577 INFO sqlalchemy.engine.Engine SELECT \"Positions\".id AS \"Positions_id\", \"Positions\".upper AS \"Positions_upper\", \"Positions\".middle AS \"Positions_middle\", \"Positions\".lower AS \"Positions_lower\", \"Positions\".x AS \"Positions_x\", \"Positions\".y AS \"Positions_y\" \n",
      "FROM \"Positions\" \n",
      "WHERE \"Positions\".id = ?\n",
      "2021-07-28 16:57:17,578 INFO sqlalchemy.engine.Engine [cached since 0.3499s ago] (73,)\n",
      "Borehole geometry created successfully !\n",
      "2021-07-28 16:57:17,593 INFO sqlalchemy.engine.Engine UPDATE \"Boreholes\" SET length=? WHERE \"Boreholes\".id = ?\n",
      "2021-07-28 16:57:17,593 INFO sqlalchemy.engine.Engine [cached since 0.3428s ago] (97.0, 'BH007')\n",
      "2021-07-28 16:57:17,594 INFO sqlalchemy.engine.Engine INSERT INTO \"Boreholes\" (id, length, diameter) VALUES (?, ?, ?)\n",
      "2021-07-28 16:57:17,595 INFO sqlalchemy.engine.Engine [cached since 0.3901s ago] ('BH008', 35.0, 0.39)\n",
      "2021-07-28 16:57:17,596 INFO sqlalchemy.engine.Engine INSERT INTO \"Positions\" (id, upper, middle, lower, x, y) VALUES (?, ?, ?, ?, ?, ?)\n",
      "2021-07-28 16:57:17,597 INFO sqlalchemy.engine.Engine [cached since 0.3877s ago] ((74, 101.0, 101.0, 101.0, 152150.0, 121579.0), (75, 98.0, 98.0, 98.0, 152150.0, 121579.0), (76, 98.0, 98.0, 98.0, 152150.0, 121579.0), (77, 97.0, 97.0, 97.0, 152150.0, 121579.0), (78, 97.0, 97.0, 97.0, 152150.0, 121579.0), (79, 91.0, 91.0, 91.0, 152150.0, 121579.0), (80, 91.0, 91.0, 91.0, 152150.0, 121579.0), (81, 86.0, 86.0, 86.0, 152150.0, 121579.0), (82, 86.0, 86.0, 86.0, 152150.0, 121579.0), (83, 66.0, 66.0, 66.0, 152150.0, 121579.0))\n",
      "2021-07-28 16:57:17,598 INFO sqlalchemy.engine.Engine INSERT INTO \"Intervals\" (id, borehole, interval_number, description, top_id, base_id, data_id) VALUES (?, ?, ?, ?, ?, ?, ?)\n",
      "2021-07-28 16:57:17,598 INFO sqlalchemy.engine.Engine [cached since 0.3861s ago] ((37, 'BH008', 0, '{\"lithology\": \"sable\"}, {\"arsenic\": \"vs\"}, {\"cadmium\": \"vr\"}', 74, 75, None), (38, 'BH008', 1, '{\"lithology\": \"argile\"}, {\"arsenic\": \"vs\"}, {\"cadmium\": \"vs\"}', 76, 77, None), (39, 'BH008', 2, '{\"lithology\": \"marne\"}, {\"arsenic\": \"vs\"}, {\"cadmium\": \"vr\"}', 78, 79, None), (40, 'BH008', 3, '{\"lithology\": \"charbon\"}, {\"arsenic\": \"vi\"}, {\"cadmium\": \"inconnu\"}', 80, 81, None), (41, 'BH008', 4, '{\"lithology\": \"dolomie\"}, {\"arsenic\": \"vr\"}, {\"cadmium\": \"vr\"}', 82, 83, None))\n",
      "2021-07-28 16:57:17,599 INFO sqlalchemy.engine.Engine COMMIT\n",
      "2021-07-28 16:57:17,602 INFO sqlalchemy.engine.Engine BEGIN (implicit)\n",
      "2021-07-28 16:57:17,602 INFO sqlalchemy.engine.Engine SELECT \"Boreholes\".id AS \"Boreholes_id\", \"Boreholes\".length AS \"Boreholes_length\", \"Boreholes\".diameter AS \"Boreholes_diameter\" \n",
      "FROM \"Boreholes\"\n",
      "2021-07-28 16:57:17,603 INFO sqlalchemy.engine.Engine [cached since 0.4283s ago] ()\n",
      "2021-07-28 16:57:17,604 INFO sqlalchemy.engine.Engine SELECT \"Intervals\".id AS \"Intervals_id\", \"Intervals\".borehole AS \"Intervals_borehole\", \"Intervals\".interval_number AS \"Intervals_interval_number\", \"Intervals\".description AS \"Intervals_description\", \"Intervals\".top_id AS \"Intervals_top_id\", \"Intervals\".base_id AS \"Intervals_base_id\", \"Intervals\".data_id AS \"Intervals_data_id\" \n",
      "FROM \"Intervals\" \n",
      "WHERE ? = \"Intervals\".borehole\n",
      "2021-07-28 16:57:17,605 INFO sqlalchemy.engine.Engine [cached since 0.383s ago] ('BH008',)\n",
      "2021-07-28 16:57:17,607 INFO sqlalchemy.engine.Engine SELECT \"Positions\".id AS \"Positions_id\", \"Positions\".upper AS \"Positions_upper\", \"Positions\".middle AS \"Positions_middle\", \"Positions\".lower AS \"Positions_lower\", \"Positions\".x AS \"Positions_x\", \"Positions\".y AS \"Positions_y\" \n",
      "FROM \"Positions\" \n",
      "WHERE \"Positions\".id = ?\n",
      "2021-07-28 16:57:17,608 INFO sqlalchemy.engine.Engine [cached since 0.3823s ago] (74,)\n",
      "2021-07-28 16:57:17,610 INFO sqlalchemy.engine.Engine SELECT \"Positions\".id AS \"Positions_id\", \"Positions\".upper AS \"Positions_upper\", \"Positions\".middle AS \"Positions_middle\", \"Positions\".lower AS \"Positions_lower\", \"Positions\".x AS \"Positions_x\", \"Positions\".y AS \"Positions_y\" \n",
      "FROM \"Positions\" \n",
      "WHERE \"Positions\".id = ?\n",
      "2021-07-28 16:57:17,611 INFO sqlalchemy.engine.Engine [cached since 0.3825s ago] (75,)\n",
      "2021-07-28 16:57:17,613 INFO sqlalchemy.engine.Engine SELECT \"Positions\".id AS \"Positions_id\", \"Positions\".upper AS \"Positions_upper\", \"Positions\".middle AS \"Positions_middle\", \"Positions\".lower AS \"Positions_lower\", \"Positions\".x AS \"Positions_x\", \"Positions\".y AS \"Positions_y\" \n",
      "FROM \"Positions\" \n",
      "WHERE \"Positions\".id = ?\n",
      "2021-07-28 16:57:17,614 INFO sqlalchemy.engine.Engine [cached since 0.3882s ago] (76,)\n",
      "2021-07-28 16:57:17,615 INFO sqlalchemy.engine.Engine SELECT \"Positions\".id AS \"Positions_id\", \"Positions\".upper AS \"Positions_upper\", \"Positions\".middle AS \"Positions_middle\", \"Positions\".lower AS \"Positions_lower\", \"Positions\".x AS \"Positions_x\", \"Positions\".y AS \"Positions_y\" \n",
      "FROM \"Positions\" \n",
      "WHERE \"Positions\".id = ?\n",
      "2021-07-28 16:57:17,615 INFO sqlalchemy.engine.Engine [cached since 0.387s ago] (77,)\n",
      "2021-07-28 16:57:17,616 INFO sqlalchemy.engine.Engine SELECT \"Positions\".id AS \"Positions_id\", \"Positions\".upper AS \"Positions_upper\", \"Positions\".middle AS \"Positions_middle\", \"Positions\".lower AS \"Positions_lower\", \"Positions\".x AS \"Positions_x\", \"Positions\".y AS \"Positions_y\" \n",
      "FROM \"Positions\" \n",
      "WHERE \"Positions\".id = ?\n",
      "2021-07-28 16:57:17,617 INFO sqlalchemy.engine.Engine [cached since 0.3914s ago] (78,)\n",
      "2021-07-28 16:57:17,618 INFO sqlalchemy.engine.Engine SELECT \"Positions\".id AS \"Positions_id\", \"Positions\".upper AS \"Positions_upper\", \"Positions\".middle AS \"Positions_middle\", \"Positions\".lower AS \"Positions_lower\", \"Positions\".x AS \"Positions_x\", \"Positions\".y AS \"Positions_y\" \n",
      "FROM \"Positions\" \n",
      "WHERE \"Positions\".id = ?\n",
      "2021-07-28 16:57:17,619 INFO sqlalchemy.engine.Engine [cached since 0.3903s ago] (79,)\n",
      "2021-07-28 16:57:17,620 INFO sqlalchemy.engine.Engine SELECT \"Positions\".id AS \"Positions_id\", \"Positions\".upper AS \"Positions_upper\", \"Positions\".middle AS \"Positions_middle\", \"Positions\".lower AS \"Positions_lower\", \"Positions\".x AS \"Positions_x\", \"Positions\".y AS \"Positions_y\" \n",
      "FROM \"Positions\" \n",
      "WHERE \"Positions\".id = ?\n",
      "2021-07-28 16:57:17,620 INFO sqlalchemy.engine.Engine [cached since 0.3948s ago] (80,)\n",
      "2021-07-28 16:57:17,621 INFO sqlalchemy.engine.Engine SELECT \"Positions\".id AS \"Positions_id\", \"Positions\".upper AS \"Positions_upper\", \"Positions\".middle AS \"Positions_middle\", \"Positions\".lower AS \"Positions_lower\", \"Positions\".x AS \"Positions_x\", \"Positions\".y AS \"Positions_y\" \n",
      "FROM \"Positions\" \n",
      "WHERE \"Positions\".id = ?\n",
      "2021-07-28 16:57:17,622 INFO sqlalchemy.engine.Engine [cached since 0.3938s ago] (81,)\n",
      "2021-07-28 16:57:17,623 INFO sqlalchemy.engine.Engine SELECT \"Positions\".id AS \"Positions_id\", \"Positions\".upper AS \"Positions_upper\", \"Positions\".middle AS \"Positions_middle\", \"Positions\".lower AS \"Positions_lower\", \"Positions\".x AS \"Positions_x\", \"Positions\".y AS \"Positions_y\" \n",
      "FROM \"Positions\" \n",
      "WHERE \"Positions\".id = ?\n",
      "2021-07-28 16:57:17,624 INFO sqlalchemy.engine.Engine [cached since 0.3981s ago] (82,)\n",
      "2021-07-28 16:57:17,625 INFO sqlalchemy.engine.Engine SELECT \"Positions\".id AS \"Positions_id\", \"Positions\".upper AS \"Positions_upper\", \"Positions\".middle AS \"Positions_middle\", \"Positions\".lower AS \"Positions_lower\", \"Positions\".x AS \"Positions_x\", \"Positions\".y AS \"Positions_y\" \n",
      "FROM \"Positions\" \n",
      "WHERE \"Positions\".id = ?\n",
      "2021-07-28 16:57:17,625 INFO sqlalchemy.engine.Engine [cached since 0.3972s ago] (83,)\n",
      "Borehole geometry created successfully !\n",
      "2021-07-28 16:57:17,635 INFO sqlalchemy.engine.Engine UPDATE \"Boreholes\" SET length=? WHERE \"Boreholes\".id = ?\n",
      "2021-07-28 16:57:17,635 INFO sqlalchemy.engine.Engine [cached since 0.3844s ago] (98.0, 'BH008')\n",
      "2021-07-28 16:57:17,636 INFO sqlalchemy.engine.Engine INSERT INTO \"Boreholes\" (id, length, diameter) VALUES (?, ?, ?)\n",
      "2021-07-28 16:57:17,636 INFO sqlalchemy.engine.Engine [cached since 0.4314s ago] ('BH009', 40.0, 0.5)\n",
      "2021-07-28 16:57:17,637 INFO sqlalchemy.engine.Engine INSERT INTO \"Positions\" (id, upper, middle, lower, x, y) VALUES (?, ?, ?, ?, ?, ?)\n",
      "2021-07-28 16:57:17,637 INFO sqlalchemy.engine.Engine [cached since 0.4285s ago] ((84, 100.0, 100.0, 100.0, 152052.0, 121293.0), (85, 94.0, 94.0, 94.0, 152052.0, 121293.0), (86, 94.0, 94.0, 94.0, 152052.0, 121293.0), (87, 92.0, 92.0, 92.0, 152052.0, 121293.0), (88, 92.0, 92.0, 92.0, 152052.0, 121293.0), (89, 82.0, 82.0, 82.0, 152052.0, 121293.0), (90, 82.0, 82.0, 82.0, 152052.0, 121293.0), (91, 78.0, 78.0, 78.0, 152052.0, 121293.0), (92, 78.0, 78.0, 78.0, 152052.0, 121293.0), (93, 60.0, 60.0, 60.0, 152052.0, 121293.0))\n"
     ]
    },
    {
     "name": "stdout",
     "output_type": "stream",
     "text": [
      "2021-07-28 16:57:17,639 INFO sqlalchemy.engine.Engine INSERT INTO \"Intervals\" (id, borehole, interval_number, description, top_id, base_id, data_id) VALUES (?, ?, ?, ?, ?, ?, ?)\n",
      "2021-07-28 16:57:17,639 INFO sqlalchemy.engine.Engine [cached since 0.4271s ago] ((42, 'BH009', 0, '{\"lithology\": \"sable\"}, {\"arsenic\": \"vi\"}, {\"cadmium\": \"inconnu\"}', 84, 85, None), (43, 'BH009', 1, '{\"lithology\": \"argile\"}, {\"arsenic\": \"vs\"}, {\"cadmium\": \"vs\"}', 86, 87, None), (44, 'BH009', 2, '{\"lithology\": \"marne\"}, {\"arsenic\": \"inconnu\"}, {\"cadmium\": \"vs\"}', 88, 89, None), (45, 'BH009', 3, '{\"lithology\": \"charbon\"}, {\"arsenic\": \"inconnu\"}, {\"cadmium\": \"vs\"}', 90, 91, None), (46, 'BH009', 4, '{\"lithology\": \"dolomie\"}, {\"arsenic\": \"vs\"}, {\"cadmium\": \"vs\"}', 92, 93, None))\n",
      "2021-07-28 16:57:17,640 INFO sqlalchemy.engine.Engine COMMIT\n",
      "2021-07-28 16:57:17,644 INFO sqlalchemy.engine.Engine BEGIN (implicit)\n",
      "2021-07-28 16:57:17,645 INFO sqlalchemy.engine.Engine SELECT \"Boreholes\".id AS \"Boreholes_id\", \"Boreholes\".length AS \"Boreholes_length\", \"Boreholes\".diameter AS \"Boreholes_diameter\" \n",
      "FROM \"Boreholes\"\n",
      "2021-07-28 16:57:17,645 INFO sqlalchemy.engine.Engine [cached since 0.4706s ago] ()\n",
      "2021-07-28 16:57:17,648 INFO sqlalchemy.engine.Engine SELECT \"Intervals\".id AS \"Intervals_id\", \"Intervals\".borehole AS \"Intervals_borehole\", \"Intervals\".interval_number AS \"Intervals_interval_number\", \"Intervals\".description AS \"Intervals_description\", \"Intervals\".top_id AS \"Intervals_top_id\", \"Intervals\".base_id AS \"Intervals_base_id\", \"Intervals\".data_id AS \"Intervals_data_id\" \n",
      "FROM \"Intervals\" \n",
      "WHERE ? = \"Intervals\".borehole\n",
      "2021-07-28 16:57:17,649 INFO sqlalchemy.engine.Engine [cached since 0.4267s ago] ('BH009',)\n",
      "2021-07-28 16:57:17,650 INFO sqlalchemy.engine.Engine SELECT \"Positions\".id AS \"Positions_id\", \"Positions\".upper AS \"Positions_upper\", \"Positions\".middle AS \"Positions_middle\", \"Positions\".lower AS \"Positions_lower\", \"Positions\".x AS \"Positions_x\", \"Positions\".y AS \"Positions_y\" \n",
      "FROM \"Positions\" \n",
      "WHERE \"Positions\".id = ?\n",
      "2021-07-28 16:57:17,651 INFO sqlalchemy.engine.Engine [cached since 0.4257s ago] (84,)\n",
      "2021-07-28 16:57:17,653 INFO sqlalchemy.engine.Engine SELECT \"Positions\".id AS \"Positions_id\", \"Positions\".upper AS \"Positions_upper\", \"Positions\".middle AS \"Positions_middle\", \"Positions\".lower AS \"Positions_lower\", \"Positions\".x AS \"Positions_x\", \"Positions\".y AS \"Positions_y\" \n",
      "FROM \"Positions\" \n",
      "WHERE \"Positions\".id = ?\n",
      "2021-07-28 16:57:17,653 INFO sqlalchemy.engine.Engine [cached since 0.4252s ago] (85,)\n",
      "2021-07-28 16:57:17,655 INFO sqlalchemy.engine.Engine SELECT \"Positions\".id AS \"Positions_id\", \"Positions\".upper AS \"Positions_upper\", \"Positions\".middle AS \"Positions_middle\", \"Positions\".lower AS \"Positions_lower\", \"Positions\".x AS \"Positions_x\", \"Positions\".y AS \"Positions_y\" \n",
      "FROM \"Positions\" \n",
      "WHERE \"Positions\".id = ?\n",
      "2021-07-28 16:57:17,656 INFO sqlalchemy.engine.Engine [cached since 0.4305s ago] (86,)\n",
      "2021-07-28 16:57:17,657 INFO sqlalchemy.engine.Engine SELECT \"Positions\".id AS \"Positions_id\", \"Positions\".upper AS \"Positions_upper\", \"Positions\".middle AS \"Positions_middle\", \"Positions\".lower AS \"Positions_lower\", \"Positions\".x AS \"Positions_x\", \"Positions\".y AS \"Positions_y\" \n",
      "FROM \"Positions\" \n",
      "WHERE \"Positions\".id = ?\n",
      "2021-07-28 16:57:17,658 INFO sqlalchemy.engine.Engine [cached since 0.4299s ago] (87,)\n",
      "2021-07-28 16:57:17,660 INFO sqlalchemy.engine.Engine SELECT \"Positions\".id AS \"Positions_id\", \"Positions\".upper AS \"Positions_upper\", \"Positions\".middle AS \"Positions_middle\", \"Positions\".lower AS \"Positions_lower\", \"Positions\".x AS \"Positions_x\", \"Positions\".y AS \"Positions_y\" \n",
      "FROM \"Positions\" \n",
      "WHERE \"Positions\".id = ?\n",
      "2021-07-28 16:57:17,661 INFO sqlalchemy.engine.Engine [cached since 0.4356s ago] (88,)\n",
      "2021-07-28 16:57:17,663 INFO sqlalchemy.engine.Engine SELECT \"Positions\".id AS \"Positions_id\", \"Positions\".upper AS \"Positions_upper\", \"Positions\".middle AS \"Positions_middle\", \"Positions\".lower AS \"Positions_lower\", \"Positions\".x AS \"Positions_x\", \"Positions\".y AS \"Positions_y\" \n",
      "FROM \"Positions\" \n",
      "WHERE \"Positions\".id = ?\n",
      "2021-07-28 16:57:17,664 INFO sqlalchemy.engine.Engine [cached since 0.4361s ago] (89,)\n",
      "2021-07-28 16:57:17,666 INFO sqlalchemy.engine.Engine SELECT \"Positions\".id AS \"Positions_id\", \"Positions\".upper AS \"Positions_upper\", \"Positions\".middle AS \"Positions_middle\", \"Positions\".lower AS \"Positions_lower\", \"Positions\".x AS \"Positions_x\", \"Positions\".y AS \"Positions_y\" \n",
      "FROM \"Positions\" \n",
      "WHERE \"Positions\".id = ?\n",
      "2021-07-28 16:57:17,667 INFO sqlalchemy.engine.Engine [cached since 0.4414s ago] (90,)\n",
      "2021-07-28 16:57:17,669 INFO sqlalchemy.engine.Engine SELECT \"Positions\".id AS \"Positions_id\", \"Positions\".upper AS \"Positions_upper\", \"Positions\".middle AS \"Positions_middle\", \"Positions\".lower AS \"Positions_lower\", \"Positions\".x AS \"Positions_x\", \"Positions\".y AS \"Positions_y\" \n",
      "FROM \"Positions\" \n",
      "WHERE \"Positions\".id = ?\n",
      "2021-07-28 16:57:17,669 INFO sqlalchemy.engine.Engine [cached since 0.4411s ago] (91,)\n",
      "2021-07-28 16:57:17,671 INFO sqlalchemy.engine.Engine SELECT \"Positions\".id AS \"Positions_id\", \"Positions\".upper AS \"Positions_upper\", \"Positions\".middle AS \"Positions_middle\", \"Positions\".lower AS \"Positions_lower\", \"Positions\".x AS \"Positions_x\", \"Positions\".y AS \"Positions_y\" \n",
      "FROM \"Positions\" \n",
      "WHERE \"Positions\".id = ?\n",
      "2021-07-28 16:57:17,671 INFO sqlalchemy.engine.Engine [cached since 0.4459s ago] (92,)\n",
      "2021-07-28 16:57:17,673 INFO sqlalchemy.engine.Engine SELECT \"Positions\".id AS \"Positions_id\", \"Positions\".upper AS \"Positions_upper\", \"Positions\".middle AS \"Positions_middle\", \"Positions\".lower AS \"Positions_lower\", \"Positions\".x AS \"Positions_x\", \"Positions\".y AS \"Positions_y\" \n",
      "FROM \"Positions\" \n",
      "WHERE \"Positions\".id = ?\n",
      "2021-07-28 16:57:17,674 INFO sqlalchemy.engine.Engine [cached since 0.4455s ago] (93,)\n",
      "Borehole geometry created successfully !\n",
      "2021-07-28 16:57:17,690 INFO sqlalchemy.engine.Engine UPDATE \"Boreholes\" SET length=? WHERE \"Boreholes\".id = ?\n",
      "2021-07-28 16:57:17,690 INFO sqlalchemy.engine.Engine [cached since 0.4397s ago] (94.0, 'BH009')\n",
      "2021-07-28 16:57:17,692 INFO sqlalchemy.engine.Engine INSERT INTO \"Boreholes\" (id, length, diameter) VALUES (?, ?, ?)\n",
      "2021-07-28 16:57:17,692 INFO sqlalchemy.engine.Engine [cached since 0.4878s ago] ('BH10', 11.0, 0.31)\n",
      "2021-07-28 16:57:17,694 INFO sqlalchemy.engine.Engine INSERT INTO \"Positions\" (id, upper, middle, lower, x, y) VALUES (?, ?, ?, ?, ?, ?)\n",
      "2021-07-28 16:57:17,694 INFO sqlalchemy.engine.Engine [cached since 0.4851s ago] ((94, 100.0, 100.0, 100.0, 152315.0, 121754.0), (95, 95.0, 95.0, 95.0, 152315.0, 121754.0), (96, 95.0, 95.0, 95.0, 152315.0, 121754.0), (97, 91.0, 91.0, 91.0, 152315.0, 121754.0), (98, 91.0, 91.0, 91.0, 152315.0, 121754.0), (99, 89.0, 89.0, 89.0, 152315.0, 121754.0))\n",
      "2021-07-28 16:57:17,695 INFO sqlalchemy.engine.Engine INSERT INTO \"Intervals\" (id, borehole, interval_number, description, top_id, base_id, data_id) VALUES (?, ?, ?, ?, ?, ?, ?)\n",
      "2021-07-28 16:57:17,696 INFO sqlalchemy.engine.Engine [cached since 0.4838s ago] ((47, 'BH10', 0, '{\"lithology\": \"sable\"}, {\"arsenic\": \"vi\"}, {\"cadmium\": \"vr\"}', 94, 95, None), (48, 'BH10', 1, '{\"lithology\": \"argile\"}, {\"arsenic\": \"inconnu\"}, {\"cadmium\": \"vi\"}', 96, 97, None), (49, 'BH10', 2, '{\"lithology\": \"marne\"}, {\"arsenic\": \"vi\"}, {\"cadmium\": \"vs\"}', 98, 99, None))\n",
      "2021-07-28 16:57:17,697 INFO sqlalchemy.engine.Engine COMMIT\n",
      "2021-07-28 16:57:17,701 INFO sqlalchemy.engine.Engine BEGIN (implicit)\n",
      "2021-07-28 16:57:17,701 INFO sqlalchemy.engine.Engine SELECT \"Boreholes\".id AS \"Boreholes_id\", \"Boreholes\".length AS \"Boreholes_length\", \"Boreholes\".diameter AS \"Boreholes_diameter\" \n",
      "FROM \"Boreholes\"\n",
      "2021-07-28 16:57:17,702 INFO sqlalchemy.engine.Engine [cached since 0.5277s ago] ()\n",
      "2021-07-28 16:57:17,704 INFO sqlalchemy.engine.Engine SELECT \"Intervals\".id AS \"Intervals_id\", \"Intervals\".borehole AS \"Intervals_borehole\", \"Intervals\".interval_number AS \"Intervals_interval_number\", \"Intervals\".description AS \"Intervals_description\", \"Intervals\".top_id AS \"Intervals_top_id\", \"Intervals\".base_id AS \"Intervals_base_id\", \"Intervals\".data_id AS \"Intervals_data_id\" \n",
      "FROM \"Intervals\" \n",
      "WHERE ? = \"Intervals\".borehole\n",
      "2021-07-28 16:57:17,705 INFO sqlalchemy.engine.Engine [cached since 0.4829s ago] ('BH10',)\n"
     ]
    },
    {
     "name": "stdout",
     "output_type": "stream",
     "text": [
      "2021-07-28 16:57:17,707 INFO sqlalchemy.engine.Engine SELECT \"Positions\".id AS \"Positions_id\", \"Positions\".upper AS \"Positions_upper\", \"Positions\".middle AS \"Positions_middle\", \"Positions\".lower AS \"Positions_lower\", \"Positions\".x AS \"Positions_x\", \"Positions\".y AS \"Positions_y\" \n",
      "FROM \"Positions\" \n",
      "WHERE \"Positions\".id = ?\n",
      "2021-07-28 16:57:17,708 INFO sqlalchemy.engine.Engine [cached since 0.4822s ago] (94,)\n",
      "2021-07-28 16:57:17,709 INFO sqlalchemy.engine.Engine SELECT \"Positions\".id AS \"Positions_id\", \"Positions\".upper AS \"Positions_upper\", \"Positions\".middle AS \"Positions_middle\", \"Positions\".lower AS \"Positions_lower\", \"Positions\".x AS \"Positions_x\", \"Positions\".y AS \"Positions_y\" \n",
      "FROM \"Positions\" \n",
      "WHERE \"Positions\".id = ?\n",
      "2021-07-28 16:57:17,711 INFO sqlalchemy.engine.Engine [cached since 0.4824s ago] (95,)\n",
      "2021-07-28 16:57:17,712 INFO sqlalchemy.engine.Engine SELECT \"Positions\".id AS \"Positions_id\", \"Positions\".upper AS \"Positions_upper\", \"Positions\".middle AS \"Positions_middle\", \"Positions\".lower AS \"Positions_lower\", \"Positions\".x AS \"Positions_x\", \"Positions\".y AS \"Positions_y\" \n",
      "FROM \"Positions\" \n",
      "WHERE \"Positions\".id = ?\n",
      "2021-07-28 16:57:17,713 INFO sqlalchemy.engine.Engine [cached since 0.4875s ago] (96,)\n",
      "2021-07-28 16:57:17,714 INFO sqlalchemy.engine.Engine SELECT \"Positions\".id AS \"Positions_id\", \"Positions\".upper AS \"Positions_upper\", \"Positions\".middle AS \"Positions_middle\", \"Positions\".lower AS \"Positions_lower\", \"Positions\".x AS \"Positions_x\", \"Positions\".y AS \"Positions_y\" \n",
      "FROM \"Positions\" \n",
      "WHERE \"Positions\".id = ?\n",
      "2021-07-28 16:57:17,715 INFO sqlalchemy.engine.Engine [cached since 0.4868s ago] (97,)\n",
      "2021-07-28 16:57:17,716 INFO sqlalchemy.engine.Engine SELECT \"Positions\".id AS \"Positions_id\", \"Positions\".upper AS \"Positions_upper\", \"Positions\".middle AS \"Positions_middle\", \"Positions\".lower AS \"Positions_lower\", \"Positions\".x AS \"Positions_x\", \"Positions\".y AS \"Positions_y\" \n",
      "FROM \"Positions\" \n",
      "WHERE \"Positions\".id = ?\n",
      "2021-07-28 16:57:17,717 INFO sqlalchemy.engine.Engine [cached since 0.4912s ago] (98,)\n",
      "2021-07-28 16:57:17,718 INFO sqlalchemy.engine.Engine SELECT \"Positions\".id AS \"Positions_id\", \"Positions\".upper AS \"Positions_upper\", \"Positions\".middle AS \"Positions_middle\", \"Positions\".lower AS \"Positions_lower\", \"Positions\".x AS \"Positions_x\", \"Positions\".y AS \"Positions_y\" \n",
      "FROM \"Positions\" \n",
      "WHERE \"Positions\".id = ?\n",
      "2021-07-28 16:57:17,719 INFO sqlalchemy.engine.Engine [cached since 0.4904s ago] (99,)\n",
      "Borehole geometry created successfully !\n"
     ]
    }
   ],
   "source": [
    "for bh in boreholes:\n",
    "    p.add_borehole(bh)"
   ]
  },
  {
   "cell_type": "code",
   "execution_count": 27,
   "metadata": {},
   "outputs": [
    {
     "data": {
      "text/plain": [
       "('BH001',\n",
       " {0: [Component({'lithology': 'sable'}),\n",
       "   Component({'arsenic': 'vi'}),\n",
       "   Component({'cadmium': 'v'})],\n",
       "  1: [Component({'lithology': 'argile'}),\n",
       "   Component({'arsenic': 'v'}),\n",
       "   Component({'cadmium': 'v'})],\n",
       "  2: [Component({'lithology': 'marne'}),\n",
       "   Component({'arsenic': 'vr'}),\n",
       "   Component({'cadmium': 'v'})],\n",
       "  3: [Component({'lithology': 'charbon'}),\n",
       "   Component({'arsenic': 'inconnu'}),\n",
       "   Component({'cadmium': 'v'})]})"
      ]
     },
     "execution_count": 27,
     "metadata": {},
     "output_type": "execute_result"
    }
   ],
   "source": [
    "p.boreholes_3d[0].name, p.boreholes_3d[0].components"
   ]
  },
  {
   "cell_type": "code",
   "execution_count": 28,
   "metadata": {
    "scrolled": true
   },
   "outputs": [
    {
     "name": "stdout",
     "output_type": "stream",
     "text": [
      "2021-07-28 16:57:17,745 INFO sqlalchemy.engine.Engine UPDATE \"Boreholes\" SET length=? WHERE \"Boreholes\".id = ?\n",
      "2021-07-28 16:57:17,747 INFO sqlalchemy.engine.Engine [cached since 0.4965s ago] (95.0, 'BH10')\n",
      "2021-07-28 16:57:17,749 INFO sqlalchemy.engine.Engine SELECT \"Intervals\".id AS \"Intervals_id\", \"Intervals\".borehole AS \"Intervals_borehole\", \"Intervals\".interval_number AS \"Intervals_interval_number\", \"Intervals\".description AS \"Intervals_description\", \"Intervals\".top_id AS \"Intervals_top_id\", \"Intervals\".base_id AS \"Intervals_base_id\", \"Intervals\".data_id AS \"Intervals_data_id\" \n",
      "FROM \"Intervals\" \n",
      "WHERE ? = \"Intervals\".borehole\n",
      "2021-07-28 16:57:17,749 INFO sqlalchemy.engine.Engine [cached since 0.5273s ago] ('BH001',)\n",
      "2021-07-28 16:57:17,751 INFO sqlalchemy.engine.Engine SELECT \"Intervals\".id AS \"Intervals_id\", \"Intervals\".borehole AS \"Intervals_borehole\", \"Intervals\".interval_number AS \"Intervals_interval_number\", \"Intervals\".description AS \"Intervals_description\", \"Intervals\".top_id AS \"Intervals_top_id\", \"Intervals\".base_id AS \"Intervals_base_id\", \"Intervals\".data_id AS \"Intervals_data_id\" \n",
      "FROM \"Intervals\" \n",
      "WHERE ? = \"Intervals\".borehole\n",
      "2021-07-28 16:57:17,752 INFO sqlalchemy.engine.Engine [cached since 0.5295s ago] ('BH002',)\n",
      "2021-07-28 16:57:17,753 INFO sqlalchemy.engine.Engine SELECT \"Intervals\".id AS \"Intervals_id\", \"Intervals\".borehole AS \"Intervals_borehole\", \"Intervals\".interval_number AS \"Intervals_interval_number\", \"Intervals\".description AS \"Intervals_description\", \"Intervals\".top_id AS \"Intervals_top_id\", \"Intervals\".base_id AS \"Intervals_base_id\", \"Intervals\".data_id AS \"Intervals_data_id\" \n",
      "FROM \"Intervals\" \n",
      "WHERE ? = \"Intervals\".borehole\n",
      "2021-07-28 16:57:17,754 INFO sqlalchemy.engine.Engine [cached since 0.532s ago] ('BH003',)\n",
      "2021-07-28 16:57:17,756 INFO sqlalchemy.engine.Engine SELECT \"Intervals\".id AS \"Intervals_id\", \"Intervals\".borehole AS \"Intervals_borehole\", \"Intervals\".interval_number AS \"Intervals_interval_number\", \"Intervals\".description AS \"Intervals_description\", \"Intervals\".top_id AS \"Intervals_top_id\", \"Intervals\".base_id AS \"Intervals_base_id\", \"Intervals\".data_id AS \"Intervals_data_id\" \n",
      "FROM \"Intervals\" \n",
      "WHERE ? = \"Intervals\".borehole\n",
      "2021-07-28 16:57:17,756 INFO sqlalchemy.engine.Engine [cached since 0.5341s ago] ('BH004',)\n",
      "2021-07-28 16:57:17,757 INFO sqlalchemy.engine.Engine SELECT \"Intervals\".id AS \"Intervals_id\", \"Intervals\".borehole AS \"Intervals_borehole\", \"Intervals\".interval_number AS \"Intervals_interval_number\", \"Intervals\".description AS \"Intervals_description\", \"Intervals\".top_id AS \"Intervals_top_id\", \"Intervals\".base_id AS \"Intervals_base_id\", \"Intervals\".data_id AS \"Intervals_data_id\" \n",
      "FROM \"Intervals\" \n",
      "WHERE ? = \"Intervals\".borehole\n",
      "2021-07-28 16:57:17,758 INFO sqlalchemy.engine.Engine [cached since 0.5359s ago] ('BH005',)\n",
      "2021-07-28 16:57:17,759 INFO sqlalchemy.engine.Engine SELECT \"Intervals\".id AS \"Intervals_id\", \"Intervals\".borehole AS \"Intervals_borehole\", \"Intervals\".interval_number AS \"Intervals_interval_number\", \"Intervals\".description AS \"Intervals_description\", \"Intervals\".top_id AS \"Intervals_top_id\", \"Intervals\".base_id AS \"Intervals_base_id\", \"Intervals\".data_id AS \"Intervals_data_id\" \n",
      "FROM \"Intervals\" \n",
      "WHERE ? = \"Intervals\".borehole\n",
      "2021-07-28 16:57:17,760 INFO sqlalchemy.engine.Engine [cached since 0.5379s ago] ('BH006',)\n",
      "2021-07-28 16:57:17,761 INFO sqlalchemy.engine.Engine SELECT \"Intervals\".id AS \"Intervals_id\", \"Intervals\".borehole AS \"Intervals_borehole\", \"Intervals\".interval_number AS \"Intervals_interval_number\", \"Intervals\".description AS \"Intervals_description\", \"Intervals\".top_id AS \"Intervals_top_id\", \"Intervals\".base_id AS \"Intervals_base_id\", \"Intervals\".data_id AS \"Intervals_data_id\" \n",
      "FROM \"Intervals\" \n",
      "WHERE ? = \"Intervals\".borehole\n",
      "2021-07-28 16:57:17,762 INFO sqlalchemy.engine.Engine [cached since 0.5395s ago] ('BH007',)\n",
      "2021-07-28 16:57:17,763 INFO sqlalchemy.engine.Engine SELECT \"Intervals\".id AS \"Intervals_id\", \"Intervals\".borehole AS \"Intervals_borehole\", \"Intervals\".interval_number AS \"Intervals_interval_number\", \"Intervals\".description AS \"Intervals_description\", \"Intervals\".top_id AS \"Intervals_top_id\", \"Intervals\".base_id AS \"Intervals_base_id\", \"Intervals\".data_id AS \"Intervals_data_id\" \n",
      "FROM \"Intervals\" \n",
      "WHERE ? = \"Intervals\".borehole\n",
      "2021-07-28 16:57:17,763 INFO sqlalchemy.engine.Engine [cached since 0.5414s ago] ('BH008',)\n",
      "2021-07-28 16:57:17,765 INFO sqlalchemy.engine.Engine SELECT \"Intervals\".id AS \"Intervals_id\", \"Intervals\".borehole AS \"Intervals_borehole\", \"Intervals\".interval_number AS \"Intervals_interval_number\", \"Intervals\".description AS \"Intervals_description\", \"Intervals\".top_id AS \"Intervals_top_id\", \"Intervals\".base_id AS \"Intervals_base_id\", \"Intervals\".data_id AS \"Intervals_data_id\" \n",
      "FROM \"Intervals\" \n",
      "WHERE ? = \"Intervals\".borehole\n",
      "2021-07-28 16:57:17,765 INFO sqlalchemy.engine.Engine [cached since 0.5429s ago] ('BH009',)\n"
     ]
    },
    {
     "data": {
      "text/plain": [
       "[<core.orm.BoreholeOrm>(Name=BH001, Length=97.0, Diameter=0.43, Intervals=4),\n",
       " <core.orm.BoreholeOrm>(Name=BH002, Length=98.0, Diameter=0.6, Intervals=5),\n",
       " <core.orm.BoreholeOrm>(Name=BH003, Length=100.0, Diameter=0.41, Intervals=5),\n",
       " <core.orm.BoreholeOrm>(Name=BH004, Length=96.0, Diameter=0.61, Intervals=5),\n",
       " <core.orm.BoreholeOrm>(Name=BH005, Length=97.0, Diameter=0.61, Intervals=7),\n",
       " <core.orm.BoreholeOrm>(Name=BH006, Length=100.0, Diameter=0.31, Intervals=5),\n",
       " <core.orm.BoreholeOrm>(Name=BH007, Length=97.0, Diameter=0.57, Intervals=6),\n",
       " <core.orm.BoreholeOrm>(Name=BH008, Length=98.0, Diameter=0.39, Intervals=5),\n",
       " <core.orm.BoreholeOrm>(Name=BH009, Length=94.0, Diameter=0.5, Intervals=5),\n",
       " <core.orm.BoreholeOrm>(Name=BH10, Length=95.0, Diameter=0.31, Intervals=3)]"
      ]
     },
     "execution_count": 28,
     "metadata": {},
     "output_type": "execute_result"
    }
   ],
   "source": [
    "p.boreholes_orm"
   ]
  },
  {
   "cell_type": "code",
   "execution_count": 29,
   "metadata": {},
   "outputs": [
    {
     "name": "stdout",
     "output_type": "stream",
     "text": [
      "2021-07-28 16:57:17,779 INFO sqlalchemy.engine.Engine INSERT INTO \"Linkintervalcomponent\" (int_id, comp_id, extra_data) VALUES (?, ?, ?)\n",
      "2021-07-28 16:57:17,781 INFO sqlalchemy.engine.Engine [generated in 0.00199s] ((0, 0, \"{'porosite':1, 'densite':1.8}\"), (0, 1, ''), (0, 2, ''), (1, 3, ''), (1, 4, ''), (1, 2, ''), (2, 5, ''), (2, 6, '')  ... displaying 10 of 150 total bound parameter sets ...  (49, 1, ''), (49, 2, ''))\n",
      "2021-07-28 16:57:17,784 INFO sqlalchemy.engine.Engine COMMIT\n",
      "2021-07-28 16:57:17,788 INFO sqlalchemy.engine.Engine BEGIN (implicit)\n",
      "2021-07-28 16:57:17,789 INFO sqlalchemy.engine.Engine SELECT \"Boreholes\".id AS \"Boreholes_id\", \"Boreholes\".length AS \"Boreholes_length\", \"Boreholes\".diameter AS \"Boreholes_diameter\" \n",
      "FROM \"Boreholes\"\n",
      "2021-07-28 16:57:17,790 INFO sqlalchemy.engine.Engine [cached since 0.6149s ago] ()\n"
     ]
    }
   ],
   "source": [
    "p.add_link_components_intervals(link_intv_comp)"
   ]
  },
  {
   "cell_type": "code",
   "execution_count": 30,
   "metadata": {
    "scrolled": true
   },
   "outputs": [
    {
     "name": "stdout",
     "output_type": "stream",
     "text": [
      "2021-07-28 16:57:17,796 INFO sqlalchemy.engine.Engine COMMIT\n",
      "Boreholes in the project :  10\n"
     ]
    }
   ],
   "source": [
    "p.commit()\n",
    "print('Boreholes in the project : ', len(p.boreholes_orm))"
   ]
  },
  {
   "cell_type": "code",
   "execution_count": 31,
   "metadata": {
    "scrolled": true
   },
   "outputs": [
    {
     "name": "stdout",
     "output_type": "stream",
     "text": [
      "2021-07-28 16:57:17,805 INFO sqlalchemy.engine.Engine BEGIN (implicit)\n",
      "2021-07-28 16:57:17,807 INFO sqlalchemy.engine.Engine SELECT \"Boreholes\".id AS \"Boreholes_id\", \"Boreholes\".length AS \"Boreholes_length\", \"Boreholes\".diameter AS \"Boreholes_diameter\" \n",
      "FROM \"Boreholes\" \n",
      "WHERE \"Boreholes\".id = ?\n",
      "2021-07-28 16:57:17,808 INFO sqlalchemy.engine.Engine [generated in 0.00111s] ('BH003',)\n",
      "2021-07-28 16:57:17,810 INFO sqlalchemy.engine.Engine SELECT \"Intervals\".id AS \"Intervals_id\", \"Intervals\".borehole AS \"Intervals_borehole\", \"Intervals\".interval_number AS \"Intervals_interval_number\", \"Intervals\".description AS \"Intervals_description\", \"Intervals\".top_id AS \"Intervals_top_id\", \"Intervals\".base_id AS \"Intervals_base_id\", \"Intervals\".data_id AS \"Intervals_data_id\" \n",
      "FROM \"Intervals\" \n",
      "WHERE ? = \"Intervals\".borehole\n",
      "2021-07-28 16:57:17,811 INFO sqlalchemy.engine.Engine [cached since 0.5888s ago] ('BH003',)\n",
      "2021-07-28 16:57:17,814 INFO sqlalchemy.engine.Engine SELECT \"Positions\".id AS \"Positions_id\", \"Positions\".upper AS \"Positions_upper\", \"Positions\".middle AS \"Positions_middle\", \"Positions\".lower AS \"Positions_lower\", \"Positions\".x AS \"Positions_x\", \"Positions\".y AS \"Positions_y\" \n",
      "FROM \"Positions\" \n",
      "WHERE \"Positions\".id = ?\n",
      "2021-07-28 16:57:17,815 INFO sqlalchemy.engine.Engine [cached since 0.5894s ago] (18,)\n",
      "2021-07-28 16:57:17,819 INFO sqlalchemy.engine.Engine SELECT \"Components\".id AS \"Components_id\", \"Components\".description AS \"Components_description\" \n",
      "FROM \"Components\", \"Linkintervalcomponent\" \n",
      "WHERE ? = \"Linkintervalcomponent\".int_id AND \"Components\".id = \"Linkintervalcomponent\".comp_id\n",
      "2021-07-28 16:57:17,820 INFO sqlalchemy.engine.Engine [generated in 0.00094s] (9,)\n",
      "2021-07-28 16:57:17,822 INFO sqlalchemy.engine.Engine SELECT \"Positions\".id AS \"Positions_id\", \"Positions\".upper AS \"Positions_upper\", \"Positions\".middle AS \"Positions_middle\", \"Positions\".lower AS \"Positions_lower\", \"Positions\".x AS \"Positions_x\", \"Positions\".y AS \"Positions_y\" \n",
      "FROM \"Positions\" \n",
      "WHERE \"Positions\".id = ?\n",
      "2021-07-28 16:57:17,823 INFO sqlalchemy.engine.Engine [cached since 0.5975s ago] (20,)\n",
      "2021-07-28 16:57:17,825 INFO sqlalchemy.engine.Engine SELECT \"Components\".id AS \"Components_id\", \"Components\".description AS \"Components_description\" \n",
      "FROM \"Components\", \"Linkintervalcomponent\" \n",
      "WHERE ? = \"Linkintervalcomponent\".int_id AND \"Components\".id = \"Linkintervalcomponent\".comp_id\n",
      "2021-07-28 16:57:17,826 INFO sqlalchemy.engine.Engine [cached since 0.006766s ago] (10,)\n",
      "2021-07-28 16:57:17,828 INFO sqlalchemy.engine.Engine SELECT \"Positions\".id AS \"Positions_id\", \"Positions\".upper AS \"Positions_upper\", \"Positions\".middle AS \"Positions_middle\", \"Positions\".lower AS \"Positions_lower\", \"Positions\".x AS \"Positions_x\", \"Positions\".y AS \"Positions_y\" \n",
      "FROM \"Positions\" \n",
      "WHERE \"Positions\".id = ?\n",
      "2021-07-28 16:57:17,828 INFO sqlalchemy.engine.Engine [cached since 0.6026s ago] (22,)\n",
      "2021-07-28 16:57:17,830 INFO sqlalchemy.engine.Engine SELECT \"Components\".id AS \"Components_id\", \"Components\".description AS \"Components_description\" \n",
      "FROM \"Components\", \"Linkintervalcomponent\" \n",
      "WHERE ? = \"Linkintervalcomponent\".int_id AND \"Components\".id = \"Linkintervalcomponent\".comp_id\n",
      "2021-07-28 16:57:17,830 INFO sqlalchemy.engine.Engine [cached since 0.01115s ago] (11,)\n",
      "2021-07-28 16:57:17,832 INFO sqlalchemy.engine.Engine SELECT \"Positions\".id AS \"Positions_id\", \"Positions\".upper AS \"Positions_upper\", \"Positions\".middle AS \"Positions_middle\", \"Positions\".lower AS \"Positions_lower\", \"Positions\".x AS \"Positions_x\", \"Positions\".y AS \"Positions_y\" \n",
      "FROM \"Positions\" \n",
      "WHERE \"Positions\".id = ?\n",
      "2021-07-28 16:57:17,833 INFO sqlalchemy.engine.Engine [cached since 0.6072s ago] (24,)\n",
      "2021-07-28 16:57:17,834 INFO sqlalchemy.engine.Engine SELECT \"Components\".id AS \"Components_id\", \"Components\".description AS \"Components_description\" \n",
      "FROM \"Components\", \"Linkintervalcomponent\" \n",
      "WHERE ? = \"Linkintervalcomponent\".int_id AND \"Components\".id = \"Linkintervalcomponent\".comp_id\n",
      "2021-07-28 16:57:17,834 INFO sqlalchemy.engine.Engine [cached since 0.01483s ago] (12,)\n",
      "2021-07-28 16:57:17,835 INFO sqlalchemy.engine.Engine SELECT \"Positions\".id AS \"Positions_id\", \"Positions\".upper AS \"Positions_upper\", \"Positions\".middle AS \"Positions_middle\", \"Positions\".lower AS \"Positions_lower\", \"Positions\".x AS \"Positions_x\", \"Positions\".y AS \"Positions_y\" \n",
      "FROM \"Positions\" \n",
      "WHERE \"Positions\".id = ?\n",
      "2021-07-28 16:57:17,836 INFO sqlalchemy.engine.Engine [cached since 0.6102s ago] (26,)\n",
      "2021-07-28 16:57:17,837 INFO sqlalchemy.engine.Engine SELECT \"Components\".id AS \"Components_id\", \"Components\".description AS \"Components_description\" \n",
      "FROM \"Components\", \"Linkintervalcomponent\" \n",
      "WHERE ? = \"Linkintervalcomponent\".int_id AND \"Components\".id = \"Linkintervalcomponent\".comp_id\n",
      "2021-07-28 16:57:17,837 INFO sqlalchemy.engine.Engine [cached since 0.0179s ago] (13,)\n"
     ]
    },
    {
     "data": {
      "text/plain": [
       "{9: <core.orm.IntervalOrm>(Id=9, Borehole=BH003, top=<core.orm.PositionOrm object at 0x7fe5f41ee4c0>Description={\"lithology\": \"sable\"}, {\"arsenic\": \"vs\"}, {\"cadmium\": \"vi\"}, Components=[<core.orm.ComponentOrm>(Id=0, Description=Sable), <core.orm.ComponentOrm>(Id=4, Description=Vs), <core.orm.ComponentOrm>(Id=12, Description=Vi)]),\n",
       " 10: <core.orm.IntervalOrm>(Id=10, Borehole=BH003, top=<core.orm.PositionOrm object at 0x7fe60b823580>Description={\"lithology\": \"argile\"}, {\"arsenic\": \"vi\"}, {\"cadmium\": \"vr\"}, Components=[<core.orm.ComponentOrm>(Id=1, Description=Vi), <core.orm.ComponentOrm>(Id=3, Description=Argile), <core.orm.ComponentOrm>(Id=9, Description=Vr)]),\n",
       " 11: <core.orm.IntervalOrm>(Id=11, Borehole=BH003, top=<core.orm.PositionOrm object at 0x7fe5f41cfd30>Description={\"lithology\": \"marne\"}, {\"arsenic\": \"vr\"}, {\"cadmium\": \"vi\"}, Components=[<core.orm.ComponentOrm>(Id=5, Description=Marne), <core.orm.ComponentOrm>(Id=6, Description=Vr), <core.orm.ComponentOrm>(Id=12, Description=Vi)]),\n",
       " 12: <core.orm.IntervalOrm>(Id=12, Borehole=BH003, top=<core.orm.PositionOrm object at 0x7fe5f41cf580>Description={\"lithology\": \"charbon\"}, {\"arsenic\": \"inconnu\"}, {\"cadmium\": \"vi\"}, Components=[<core.orm.ComponentOrm>(Id=7, Description=Charbon), <core.orm.ComponentOrm>(Id=8, Description=Inconnu), <core.orm.ComponentOrm>(Id=12, Description=Vi)]),\n",
       " 13: <core.orm.IntervalOrm>(Id=13, Borehole=BH003, top=<core.orm.PositionOrm object at 0x7fe5f41cfca0>Description={\"lithology\": \"dolomie\"}, {\"arsenic\": \"inconnu\"}, {\"cadmium\": \"vr\"}, Components=[<core.orm.ComponentOrm>(Id=8, Description=Inconnu), <core.orm.ComponentOrm>(Id=9, Description=Vr), <core.orm.ComponentOrm>(Id=11, Description=Dolomie)])}"
      ]
     },
     "execution_count": 31,
     "metadata": {},
     "output_type": "execute_result"
    }
   ],
   "source": [
    "p.boreholes_orm[2].intervals"
   ]
  },
  {
   "cell_type": "code",
   "execution_count": 32,
   "metadata": {},
   "outputs": [
    {
     "name": "stdout",
     "output_type": "stream",
     "text": [
      "2021-07-28 16:57:17,844 INFO sqlalchemy.engine.Engine SELECT \"Boreholes\".id AS \"Boreholes_id\", \"Boreholes\".length AS \"Boreholes_length\", \"Boreholes\".diameter AS \"Boreholes_diameter\" \n",
      "FROM \"Boreholes\"\n",
      "2021-07-28 16:57:17,845 INFO sqlalchemy.engine.Engine [cached since 0.6707s ago] ()\n"
     ]
    }
   ],
   "source": [
    "p.refresh(verbose=False)"
   ]
  },
  {
   "cell_type": "code",
   "execution_count": 33,
   "metadata": {},
   "outputs": [
    {
     "data": {
      "text/plain": [
       "{'lithology': 'sable'}"
      ]
     },
     "execution_count": 33,
     "metadata": {},
     "output_type": "execute_result"
    }
   ],
   "source": [
    "eval(Component({'lithology':'sable'}).json())"
   ]
  },
  {
   "cell_type": "raw",
   "metadata": {},
   "source": [
    "session.close()"
   ]
  },
  {
   "cell_type": "markdown",
   "metadata": {},
   "source": [
    "# 2D/3D Display"
   ]
  },
  {
   "cell_type": "markdown",
   "metadata": {},
   "source": [
    "### 2D Plot"
   ]
  },
  {
   "cell_type": "code",
   "execution_count": 34,
   "metadata": {},
   "outputs": [
    {
     "data": {
      "text/html": [
       "<div style=\"width:100%;\"><div style=\"position:relative;width:100%;height:0;padding-bottom:60%;\"><span style=\"color:#565656\">Make this Notebook Trusted to load map: File -> Trust Notebook</span><iframe src=\"about:blank\" style=\"position:absolute;width:100%;height:100%;left:0;top:0;border:none !important;\" data-html=%3C%21DOCTYPE%20html%3E%0A%3Chead%3E%20%20%20%20%0A%20%20%20%20%3Cmeta%20http-equiv%3D%22content-type%22%20content%3D%22text/html%3B%20charset%3DUTF-8%22%20/%3E%0A%20%20%20%20%0A%20%20%20%20%20%20%20%20%3Cscript%3E%0A%20%20%20%20%20%20%20%20%20%20%20%20L_NO_TOUCH%20%3D%20false%3B%0A%20%20%20%20%20%20%20%20%20%20%20%20L_DISABLE_3D%20%3D%20false%3B%0A%20%20%20%20%20%20%20%20%3C/script%3E%0A%20%20%20%20%0A%20%20%20%20%3Cstyle%3Ehtml%2C%20body%20%7Bwidth%3A%20100%25%3Bheight%3A%20100%25%3Bmargin%3A%200%3Bpadding%3A%200%3B%7D%3C/style%3E%0A%20%20%20%20%3Cstyle%3E%23map%20%7Bposition%3Aabsolute%3Btop%3A0%3Bbottom%3A0%3Bright%3A0%3Bleft%3A0%3B%7D%3C/style%3E%0A%20%20%20%20%3Cscript%20src%3D%22https%3A//cdn.jsdelivr.net/npm/leaflet%401.6.0/dist/leaflet.js%22%3E%3C/script%3E%0A%20%20%20%20%3Cscript%20src%3D%22https%3A//code.jquery.com/jquery-1.12.4.min.js%22%3E%3C/script%3E%0A%20%20%20%20%3Cscript%20src%3D%22https%3A//maxcdn.bootstrapcdn.com/bootstrap/3.2.0/js/bootstrap.min.js%22%3E%3C/script%3E%0A%20%20%20%20%3Cscript%20src%3D%22https%3A//cdnjs.cloudflare.com/ajax/libs/Leaflet.awesome-markers/2.0.2/leaflet.awesome-markers.js%22%3E%3C/script%3E%0A%20%20%20%20%3Clink%20rel%3D%22stylesheet%22%20href%3D%22https%3A//cdn.jsdelivr.net/npm/leaflet%401.6.0/dist/leaflet.css%22/%3E%0A%20%20%20%20%3Clink%20rel%3D%22stylesheet%22%20href%3D%22https%3A//maxcdn.bootstrapcdn.com/bootstrap/3.2.0/css/bootstrap.min.css%22/%3E%0A%20%20%20%20%3Clink%20rel%3D%22stylesheet%22%20href%3D%22https%3A//maxcdn.bootstrapcdn.com/bootstrap/3.2.0/css/bootstrap-theme.min.css%22/%3E%0A%20%20%20%20%3Clink%20rel%3D%22stylesheet%22%20href%3D%22https%3A//maxcdn.bootstrapcdn.com/font-awesome/4.6.3/css/font-awesome.min.css%22/%3E%0A%20%20%20%20%3Clink%20rel%3D%22stylesheet%22%20href%3D%22https%3A//cdnjs.cloudflare.com/ajax/libs/Leaflet.awesome-markers/2.0.2/leaflet.awesome-markers.css%22/%3E%0A%20%20%20%20%3Clink%20rel%3D%22stylesheet%22%20href%3D%22https%3A//cdn.jsdelivr.net/gh/python-visualization/folium/folium/templates/leaflet.awesome.rotate.min.css%22/%3E%0A%20%20%20%20%0A%20%20%20%20%20%20%20%20%20%20%20%20%3Cmeta%20name%3D%22viewport%22%20content%3D%22width%3Ddevice-width%2C%0A%20%20%20%20%20%20%20%20%20%20%20%20%20%20%20%20initial-scale%3D1.0%2C%20maximum-scale%3D1.0%2C%20user-scalable%3Dno%22%20/%3E%0A%20%20%20%20%20%20%20%20%20%20%20%20%3Cstyle%3E%0A%20%20%20%20%20%20%20%20%20%20%20%20%20%20%20%20%23map_b20518c0fe974cea92c35b0575917f37%20%7B%0A%20%20%20%20%20%20%20%20%20%20%20%20%20%20%20%20%20%20%20%20position%3A%20relative%3B%0A%20%20%20%20%20%20%20%20%20%20%20%20%20%20%20%20%20%20%20%20width%3A%20100.0%25%3B%0A%20%20%20%20%20%20%20%20%20%20%20%20%20%20%20%20%20%20%20%20height%3A%20100.0%25%3B%0A%20%20%20%20%20%20%20%20%20%20%20%20%20%20%20%20%20%20%20%20left%3A%200.0%25%3B%0A%20%20%20%20%20%20%20%20%20%20%20%20%20%20%20%20%20%20%20%20top%3A%200.0%25%3B%0A%20%20%20%20%20%20%20%20%20%20%20%20%20%20%20%20%7D%0A%20%20%20%20%20%20%20%20%20%20%20%20%3C/style%3E%0A%20%20%20%20%20%20%20%20%0A%20%20%20%20%3Cscript%20src%3D%22https%3A//cdnjs.cloudflare.com/ajax/libs/leaflet-minimap/3.6.1/Control.MiniMap.js%22%3E%3C/script%3E%0A%20%20%20%20%3Clink%20rel%3D%22stylesheet%22%20href%3D%22https%3A//cdnjs.cloudflare.com/ajax/libs/leaflet-minimap/3.6.1/Control.MiniMap.css%22/%3E%0A%3C/head%3E%0A%3Cbody%3E%20%20%20%20%0A%20%20%20%20%0A%20%20%20%20%20%20%20%20%20%20%20%20%3Cdiv%20class%3D%22folium-map%22%20id%3D%22map_b20518c0fe974cea92c35b0575917f37%22%20%3E%3C/div%3E%0A%20%20%20%20%20%20%20%20%0A%3C/body%3E%0A%3Cscript%3E%20%20%20%20%0A%20%20%20%20%0A%20%20%20%20%20%20%20%20%20%20%20%20var%20map_b20518c0fe974cea92c35b0575917f37%20%3D%20L.map%28%0A%20%20%20%20%20%20%20%20%20%20%20%20%20%20%20%20%22map_b20518c0fe974cea92c35b0575917f37%22%2C%0A%20%20%20%20%20%20%20%20%20%20%20%20%20%20%20%20%7B%0A%20%20%20%20%20%20%20%20%20%20%20%20%20%20%20%20%20%20%20%20center%3A%20%5B50.40316070673727%2C%204.404286510256322%5D%2C%0A%20%20%20%20%20%20%20%20%20%20%20%20%20%20%20%20%20%20%20%20crs%3A%20L.CRS.EPSG3857%2C%0A%20%20%20%20%20%20%20%20%20%20%20%20%20%20%20%20%20%20%20%20zoom%3A%2015%2C%0A%20%20%20%20%20%20%20%20%20%20%20%20%20%20%20%20%20%20%20%20zoomControl%3A%20true%2C%0A%20%20%20%20%20%20%20%20%20%20%20%20%20%20%20%20%20%20%20%20preferCanvas%3A%20false%2C%0A%20%20%20%20%20%20%20%20%20%20%20%20%20%20%20%20%7D%0A%20%20%20%20%20%20%20%20%20%20%20%20%29%3B%0A%20%20%20%20%20%20%20%20%20%20%20%20L.control.scale%28%29.addTo%28map_b20518c0fe974cea92c35b0575917f37%29%3B%0A%0A%20%20%20%20%20%20%20%20%20%20%20%20%0A%0A%20%20%20%20%20%20%20%20%0A%20%20%20%20%0A%20%20%20%20%20%20%20%20%20%20%20%20var%20tile_layer_84c7d089cc8f4b3c9ac7718f37b7afd7%20%3D%20L.tileLayer%28%0A%20%20%20%20%20%20%20%20%20%20%20%20%20%20%20%20%22https%3A//%7Bs%7D.tile.openstreetmap.org/%7Bz%7D/%7Bx%7D/%7By%7D.png%22%2C%0A%20%20%20%20%20%20%20%20%20%20%20%20%20%20%20%20%7B%22attribution%22%3A%20%22Data%20by%20%5Cu0026copy%3B%20%5Cu003ca%20href%3D%5C%22http%3A//openstreetmap.org%5C%22%5Cu003eOpenStreetMap%5Cu003c/a%5Cu003e%2C%20under%20%5Cu003ca%20href%3D%5C%22http%3A//www.openstreetmap.org/copyright%5C%22%5Cu003eODbL%5Cu003c/a%5Cu003e.%22%2C%20%22detectRetina%22%3A%20false%2C%20%22maxNativeZoom%22%3A%2025%2C%20%22maxZoom%22%3A%2025%2C%20%22minZoom%22%3A%200%2C%20%22noWrap%22%3A%20false%2C%20%22opacity%22%3A%201%2C%20%22subdomains%22%3A%20%22abc%22%2C%20%22tms%22%3A%20false%7D%0A%20%20%20%20%20%20%20%20%20%20%20%20%29.addTo%28map_b20518c0fe974cea92c35b0575917f37%29%3B%0A%20%20%20%20%20%20%20%20%0A%20%20%20%20%0A%20%20%20%20%20%20%20%20%20%20%20%20var%20tile_layer_52d523e0c47747cc90e6de66feaff334%20%3D%20L.tileLayer%28%0A%20%20%20%20%20%20%20%20%20%20%20%20%20%20%20%20%22https%3A//server.arcgisonline.com/ArcGIS/rest/services/World_Imagery/MapServer/tile/%7Bz%7D/%7By%7D/%7Bx%7D%22%2C%0A%20%20%20%20%20%20%20%20%20%20%20%20%20%20%20%20%7B%22attribution%22%3A%20%22Tiles%20%5Cu0026copy%3B%20Esri%20%5Cu0026mdash%3B%20Source%3A%20Esri%2C%20i-cubed%2C%20USDA%2C%20USGS%2C%20AEX%2C%20GeoEye%2C%20Getmapping%2C%20Aerogrid%2C%20IGN%2C%20IGP%2C%20UPR-EGP%2C%20and%20the%20GIS%20User%20Community%22%2C%20%22detectRetina%22%3A%20false%2C%20%22maxNativeZoom%22%3A%2025%2C%20%22maxZoom%22%3A%2025%2C%20%22minZoom%22%3A%200%2C%20%22noWrap%22%3A%20false%2C%20%22opacity%22%3A%201%2C%20%22subdomains%22%3A%20%22abc%22%2C%20%22tms%22%3A%20false%7D%0A%20%20%20%20%20%20%20%20%20%20%20%20%29.addTo%28map_b20518c0fe974cea92c35b0575917f37%29%3B%0A%20%20%20%20%20%20%20%20%0A%20%20%20%20%0A%20%20%20%20%20%20%20%20%20%20%20%20var%20feature_group_95d2fa39ab2748bfa20eee8a1b02e3c4%20%3D%20L.featureGroup%28%0A%20%20%20%20%20%20%20%20%20%20%20%20%20%20%20%20%7B%7D%0A%20%20%20%20%20%20%20%20%20%20%20%20%29.addTo%28map_b20518c0fe974cea92c35b0575917f37%29%3B%0A%20%20%20%20%20%20%20%20%0A%20%20%20%20%0A%20%20%20%20%20%20%20%20%20%20%20%20var%20circle_marker_878728b40d454066950c62bd85c0626b%20%3D%20L.circleMarker%28%0A%20%20%20%20%20%20%20%20%20%20%20%20%20%20%20%20%5B50.400246677298995%2C%204.405316738422422%5D%2C%0A%20%20%20%20%20%20%20%20%20%20%20%20%20%20%20%20%7B%22bubblingMouseEvents%22%3A%20true%2C%20%22color%22%3A%20%22red%22%2C%20%22dashArray%22%3A%20null%2C%20%22dashOffset%22%3A%20null%2C%20%22fill%22%3A%20true%2C%20%22fillColor%22%3A%20%22red%22%2C%20%22fillOpacity%22%3A%200.2%2C%20%22fillRule%22%3A%20%22evenodd%22%2C%20%22lineCap%22%3A%20%22round%22%2C%20%22lineJoin%22%3A%20%22round%22%2C%20%22opacity%22%3A%200.9%2C%20%22radius%22%3A%200.2%2C%20%22stroke%22%3A%20true%2C%20%22weight%22%3A%203%7D%0A%20%20%20%20%20%20%20%20%20%20%20%20%29.addTo%28feature_group_95d2fa39ab2748bfa20eee8a1b02e3c4%29%3B%0A%20%20%20%20%20%20%20%20%0A%20%20%20%20%0A%20%20%20%20%20%20%20%20var%20popup_b0371dd643c141fd803b7ccf9cfa455e%20%3D%20L.popup%28%7B%22maxWidth%22%3A%20%22100%25%22%7D%29%3B%0A%0A%20%20%20%20%20%20%20%20%0A%20%20%20%20%20%20%20%20%20%20%20%20var%20html_10aa9f2c919a458ea658ddd11f17735f%20%3D%20%24%28%60%3Cdiv%20id%3D%22html_10aa9f2c919a458ea658ddd11f17735f%22%20style%3D%22width%3A%20100.0%25%3B%20height%3A%20100.0%25%3B%22%3EBH001%3C/div%3E%60%29%5B0%5D%3B%0A%20%20%20%20%20%20%20%20%20%20%20%20popup_b0371dd643c141fd803b7ccf9cfa455e.setContent%28html_10aa9f2c919a458ea658ddd11f17735f%29%3B%0A%20%20%20%20%20%20%20%20%0A%0A%20%20%20%20%20%20%20%20circle_marker_878728b40d454066950c62bd85c0626b.bindPopup%28popup_b0371dd643c141fd803b7ccf9cfa455e%29%0A%20%20%20%20%20%20%20%20%3B%0A%0A%20%20%20%20%20%20%20%20%0A%20%20%20%20%0A%20%20%20%20%0A%20%20%20%20%20%20%20%20%20%20%20%20var%20circle_marker_76dda77261b146deb07854a09ad93b49%20%3D%20L.circleMarker%28%0A%20%20%20%20%20%20%20%20%20%20%20%20%20%20%20%20%5B50.405163369681965%2C%204.408401317498531%5D%2C%0A%20%20%20%20%20%20%20%20%20%20%20%20%20%20%20%20%7B%22bubblingMouseEvents%22%3A%20true%2C%20%22color%22%3A%20%22red%22%2C%20%22dashArray%22%3A%20null%2C%20%22dashOffset%22%3A%20null%2C%20%22fill%22%3A%20true%2C%20%22fillColor%22%3A%20%22red%22%2C%20%22fillOpacity%22%3A%200.2%2C%20%22fillRule%22%3A%20%22evenodd%22%2C%20%22lineCap%22%3A%20%22round%22%2C%20%22lineJoin%22%3A%20%22round%22%2C%20%22opacity%22%3A%200.9%2C%20%22radius%22%3A%200.2%2C%20%22stroke%22%3A%20true%2C%20%22weight%22%3A%203%7D%0A%20%20%20%20%20%20%20%20%20%20%20%20%29.addTo%28feature_group_95d2fa39ab2748bfa20eee8a1b02e3c4%29%3B%0A%20%20%20%20%20%20%20%20%0A%20%20%20%20%0A%20%20%20%20%20%20%20%20var%20popup_311f7aa721c9477ca51d8909520e9b22%20%3D%20L.popup%28%7B%22maxWidth%22%3A%20%22100%25%22%7D%29%3B%0A%0A%20%20%20%20%20%20%20%20%0A%20%20%20%20%20%20%20%20%20%20%20%20var%20html_bd0022a5efb04288ae4cc8aa62bf2f21%20%3D%20%24%28%60%3Cdiv%20id%3D%22html_bd0022a5efb04288ae4cc8aa62bf2f21%22%20style%3D%22width%3A%20100.0%25%3B%20height%3A%20100.0%25%3B%22%3EBH002%3C/div%3E%60%29%5B0%5D%3B%0A%20%20%20%20%20%20%20%20%20%20%20%20popup_311f7aa721c9477ca51d8909520e9b22.setContent%28html_bd0022a5efb04288ae4cc8aa62bf2f21%29%3B%0A%20%20%20%20%20%20%20%20%0A%0A%20%20%20%20%20%20%20%20circle_marker_76dda77261b146deb07854a09ad93b49.bindPopup%28popup_311f7aa721c9477ca51d8909520e9b22%29%0A%20%20%20%20%20%20%20%20%3B%0A%0A%20%20%20%20%20%20%20%20%0A%20%20%20%20%0A%20%20%20%20%0A%20%20%20%20%20%20%20%20%20%20%20%20var%20circle_marker_29217d7354154828834606aa3f9068ba%20%3D%20L.circleMarker%28%0A%20%20%20%20%20%20%20%20%20%20%20%20%20%20%20%20%5B50.40270849282434%2C%204.409848079213098%5D%2C%0A%20%20%20%20%20%20%20%20%20%20%20%20%20%20%20%20%7B%22bubblingMouseEvents%22%3A%20true%2C%20%22color%22%3A%20%22red%22%2C%20%22dashArray%22%3A%20null%2C%20%22dashOffset%22%3A%20null%2C%20%22fill%22%3A%20true%2C%20%22fillColor%22%3A%20%22red%22%2C%20%22fillOpacity%22%3A%200.2%2C%20%22fillRule%22%3A%20%22evenodd%22%2C%20%22lineCap%22%3A%20%22round%22%2C%20%22lineJoin%22%3A%20%22round%22%2C%20%22opacity%22%3A%200.9%2C%20%22radius%22%3A%200.2%2C%20%22stroke%22%3A%20true%2C%20%22weight%22%3A%203%7D%0A%20%20%20%20%20%20%20%20%20%20%20%20%29.addTo%28feature_group_95d2fa39ab2748bfa20eee8a1b02e3c4%29%3B%0A%20%20%20%20%20%20%20%20%0A%20%20%20%20%0A%20%20%20%20%20%20%20%20var%20popup_6a89cc962e1246678752838ea3957e9b%20%3D%20L.popup%28%7B%22maxWidth%22%3A%20%22100%25%22%7D%29%3B%0A%0A%20%20%20%20%20%20%20%20%0A%20%20%20%20%20%20%20%20%20%20%20%20var%20html_8b1861d3c243482fbba8d4808c5083a7%20%3D%20%24%28%60%3Cdiv%20id%3D%22html_8b1861d3c243482fbba8d4808c5083a7%22%20style%3D%22width%3A%20100.0%25%3B%20height%3A%20100.0%25%3B%22%3EBH003%3C/div%3E%60%29%5B0%5D%3B%0A%20%20%20%20%20%20%20%20%20%20%20%20popup_6a89cc962e1246678752838ea3957e9b.setContent%28html_8b1861d3c243482fbba8d4808c5083a7%29%3B%0A%20%20%20%20%20%20%20%20%0A%0A%20%20%20%20%20%20%20%20circle_marker_29217d7354154828834606aa3f9068ba.bindPopup%28popup_6a89cc962e1246678752838ea3957e9b%29%0A%20%20%20%20%20%20%20%20%3B%0A%0A%20%20%20%20%20%20%20%20%0A%20%20%20%20%0A%20%20%20%20%0A%20%20%20%20%20%20%20%20%20%20%20%20var%20circle_marker_b833b5c63fc44640b3bd9f38ff8b127b%20%3D%20L.circleMarker%28%0A%20%20%20%20%20%20%20%20%20%20%20%20%20%20%20%20%5B50.40433651424193%2C%204.407655065394905%5D%2C%0A%20%20%20%20%20%20%20%20%20%20%20%20%20%20%20%20%7B%22bubblingMouseEvents%22%3A%20true%2C%20%22color%22%3A%20%22red%22%2C%20%22dashArray%22%3A%20null%2C%20%22dashOffset%22%3A%20null%2C%20%22fill%22%3A%20true%2C%20%22fillColor%22%3A%20%22red%22%2C%20%22fillOpacity%22%3A%200.2%2C%20%22fillRule%22%3A%20%22evenodd%22%2C%20%22lineCap%22%3A%20%22round%22%2C%20%22lineJoin%22%3A%20%22round%22%2C%20%22opacity%22%3A%200.9%2C%20%22radius%22%3A%200.2%2C%20%22stroke%22%3A%20true%2C%20%22weight%22%3A%203%7D%0A%20%20%20%20%20%20%20%20%20%20%20%20%29.addTo%28feature_group_95d2fa39ab2748bfa20eee8a1b02e3c4%29%3B%0A%20%20%20%20%20%20%20%20%0A%20%20%20%20%0A%20%20%20%20%20%20%20%20var%20popup_4996883537a243d5bc2a7cb4560f2a0a%20%3D%20L.popup%28%7B%22maxWidth%22%3A%20%22100%25%22%7D%29%3B%0A%0A%20%20%20%20%20%20%20%20%0A%20%20%20%20%20%20%20%20%20%20%20%20var%20html_76956fc7bea1417e9f02d9d8777e2d78%20%3D%20%24%28%60%3Cdiv%20id%3D%22html_76956fc7bea1417e9f02d9d8777e2d78%22%20style%3D%22width%3A%20100.0%25%3B%20height%3A%20100.0%25%3B%22%3EBH004%3C/div%3E%60%29%5B0%5D%3B%0A%20%20%20%20%20%20%20%20%20%20%20%20popup_4996883537a243d5bc2a7cb4560f2a0a.setContent%28html_76956fc7bea1417e9f02d9d8777e2d78%29%3B%0A%20%20%20%20%20%20%20%20%0A%0A%20%20%20%20%20%20%20%20circle_marker_b833b5c63fc44640b3bd9f38ff8b127b.bindPopup%28popup_4996883537a243d5bc2a7cb4560f2a0a%29%0A%20%20%20%20%20%20%20%20%3B%0A%0A%20%20%20%20%20%20%20%20%0A%20%20%20%20%0A%20%20%20%20%0A%20%20%20%20%20%20%20%20%20%20%20%20var%20circle_marker_55cc1ff74d394c7b99f505b4a4ae8bc0%20%3D%20L.circleMarker%28%0A%20%20%20%20%20%20%20%20%20%20%20%20%20%20%20%20%5B50.404032173705815%2C%204.403533216175507%5D%2C%0A%20%20%20%20%20%20%20%20%20%20%20%20%20%20%20%20%7B%22bubblingMouseEvents%22%3A%20true%2C%20%22color%22%3A%20%22red%22%2C%20%22dashArray%22%3A%20null%2C%20%22dashOffset%22%3A%20null%2C%20%22fill%22%3A%20true%2C%20%22fillColor%22%3A%20%22red%22%2C%20%22fillOpacity%22%3A%200.2%2C%20%22fillRule%22%3A%20%22evenodd%22%2C%20%22lineCap%22%3A%20%22round%22%2C%20%22lineJoin%22%3A%20%22round%22%2C%20%22opacity%22%3A%200.9%2C%20%22radius%22%3A%200.2%2C%20%22stroke%22%3A%20true%2C%20%22weight%22%3A%203%7D%0A%20%20%20%20%20%20%20%20%20%20%20%20%29.addTo%28feature_group_95d2fa39ab2748bfa20eee8a1b02e3c4%29%3B%0A%20%20%20%20%20%20%20%20%0A%20%20%20%20%0A%20%20%20%20%20%20%20%20var%20popup_6b8e17f9c2154fd1a9564854d86ec386%20%3D%20L.popup%28%7B%22maxWidth%22%3A%20%22100%25%22%7D%29%3B%0A%0A%20%20%20%20%20%20%20%20%0A%20%20%20%20%20%20%20%20%20%20%20%20var%20html_df1b9a2eb0dd428985139a63d7b63b68%20%3D%20%24%28%60%3Cdiv%20id%3D%22html_df1b9a2eb0dd428985139a63d7b63b68%22%20style%3D%22width%3A%20100.0%25%3B%20height%3A%20100.0%25%3B%22%3EBH005%3C/div%3E%60%29%5B0%5D%3B%0A%20%20%20%20%20%20%20%20%20%20%20%20popup_6b8e17f9c2154fd1a9564854d86ec386.setContent%28html_df1b9a2eb0dd428985139a63d7b63b68%29%3B%0A%20%20%20%20%20%20%20%20%0A%0A%20%20%20%20%20%20%20%20circle_marker_55cc1ff74d394c7b99f505b4a4ae8bc0.bindPopup%28popup_6b8e17f9c2154fd1a9564854d86ec386%29%0A%20%20%20%20%20%20%20%20%3B%0A%0A%20%20%20%20%20%20%20%20%0A%20%20%20%20%0A%20%20%20%20%0A%20%20%20%20%20%20%20%20%20%20%20%20var%20circle_marker_7c6542543dff4fc98a080b58a2f5cf91%20%3D%20L.circleMarker%28%0A%20%20%20%20%20%20%20%20%20%20%20%20%20%20%20%20%5B50.39991500588762%2C%204.402151705105076%5D%2C%0A%20%20%20%20%20%20%20%20%20%20%20%20%20%20%20%20%7B%22bubblingMouseEvents%22%3A%20true%2C%20%22color%22%3A%20%22red%22%2C%20%22dashArray%22%3A%20null%2C%20%22dashOffset%22%3A%20null%2C%20%22fill%22%3A%20true%2C%20%22fillColor%22%3A%20%22red%22%2C%20%22fillOpacity%22%3A%200.2%2C%20%22fillRule%22%3A%20%22evenodd%22%2C%20%22lineCap%22%3A%20%22round%22%2C%20%22lineJoin%22%3A%20%22round%22%2C%20%22opacity%22%3A%200.9%2C%20%22radius%22%3A%200.2%2C%20%22stroke%22%3A%20true%2C%20%22weight%22%3A%203%7D%0A%20%20%20%20%20%20%20%20%20%20%20%20%29.addTo%28feature_group_95d2fa39ab2748bfa20eee8a1b02e3c4%29%3B%0A%20%20%20%20%20%20%20%20%0A%20%20%20%20%0A%20%20%20%20%20%20%20%20var%20popup_34e003439553450c9a5b7178d108d191%20%3D%20L.popup%28%7B%22maxWidth%22%3A%20%22100%25%22%7D%29%3B%0A%0A%20%20%20%20%20%20%20%20%0A%20%20%20%20%20%20%20%20%20%20%20%20var%20html_8026af30c24c4499b8922d47c306794b%20%3D%20%24%28%60%3Cdiv%20id%3D%22html_8026af30c24c4499b8922d47c306794b%22%20style%3D%22width%3A%20100.0%25%3B%20height%3A%20100.0%25%3B%22%3EBH006%3C/div%3E%60%29%5B0%5D%3B%0A%20%20%20%20%20%20%20%20%20%20%20%20popup_34e003439553450c9a5b7178d108d191.setContent%28html_8026af30c24c4499b8922d47c306794b%29%3B%0A%20%20%20%20%20%20%20%20%0A%0A%20%20%20%20%20%20%20%20circle_marker_7c6542543dff4fc98a080b58a2f5cf91.bindPopup%28popup_34e003439553450c9a5b7178d108d191%29%0A%20%20%20%20%20%20%20%20%3B%0A%0A%20%20%20%20%20%20%20%20%0A%20%20%20%20%0A%20%20%20%20%0A%20%20%20%20%20%20%20%20%20%20%20%20var%20circle_marker_257bcfdaf5e6436eb5cd570c8e5181c7%20%3D%20L.circleMarker%28%0A%20%20%20%20%20%20%20%20%20%20%20%20%20%20%20%20%5B50.40089307563868%2C%204.408046039659416%5D%2C%0A%20%20%20%20%20%20%20%20%20%20%20%20%20%20%20%20%7B%22bubblingMouseEvents%22%3A%20true%2C%20%22color%22%3A%20%22red%22%2C%20%22dashArray%22%3A%20null%2C%20%22dashOffset%22%3A%20null%2C%20%22fill%22%3A%20true%2C%20%22fillColor%22%3A%20%22red%22%2C%20%22fillOpacity%22%3A%200.2%2C%20%22fillRule%22%3A%20%22evenodd%22%2C%20%22lineCap%22%3A%20%22round%22%2C%20%22lineJoin%22%3A%20%22round%22%2C%20%22opacity%22%3A%200.9%2C%20%22radius%22%3A%200.2%2C%20%22stroke%22%3A%20true%2C%20%22weight%22%3A%203%7D%0A%20%20%20%20%20%20%20%20%20%20%20%20%29.addTo%28feature_group_95d2fa39ab2748bfa20eee8a1b02e3c4%29%3B%0A%20%20%20%20%20%20%20%20%0A%20%20%20%20%0A%20%20%20%20%20%20%20%20var%20popup_026a64fa9148469c8246b6d07bd57b4b%20%3D%20L.popup%28%7B%22maxWidth%22%3A%20%22100%25%22%7D%29%3B%0A%0A%20%20%20%20%20%20%20%20%0A%20%20%20%20%20%20%20%20%20%20%20%20var%20html_a6ee203803e7440092a023733ccf19c4%20%3D%20%24%28%60%3Cdiv%20id%3D%22html_a6ee203803e7440092a023733ccf19c4%22%20style%3D%22width%3A%20100.0%25%3B%20height%3A%20100.0%25%3B%22%3EBH007%3C/div%3E%60%29%5B0%5D%3B%0A%20%20%20%20%20%20%20%20%20%20%20%20popup_026a64fa9148469c8246b6d07bd57b4b.setContent%28html_a6ee203803e7440092a023733ccf19c4%29%3B%0A%20%20%20%20%20%20%20%20%0A%0A%20%20%20%20%20%20%20%20circle_marker_257bcfdaf5e6436eb5cd570c8e5181c7.bindPopup%28popup_026a64fa9148469c8246b6d07bd57b4b%29%0A%20%20%20%20%20%20%20%20%3B%0A%0A%20%20%20%20%20%20%20%20%0A%20%20%20%20%0A%20%20%20%20%0A%20%20%20%20%20%20%20%20%20%20%20%20var%20circle_marker_4ce2698195dd4d5c81a4ecf3e3287b9d%20%3D%20L.circleMarker%28%0A%20%20%20%20%20%20%20%20%20%20%20%20%20%20%20%20%5B50.405103323153014%2C%204.398990312569181%5D%2C%0A%20%20%20%20%20%20%20%20%20%20%20%20%20%20%20%20%7B%22bubblingMouseEvents%22%3A%20true%2C%20%22color%22%3A%20%22red%22%2C%20%22dashArray%22%3A%20null%2C%20%22dashOffset%22%3A%20null%2C%20%22fill%22%3A%20true%2C%20%22fillColor%22%3A%20%22red%22%2C%20%22fillOpacity%22%3A%200.2%2C%20%22fillRule%22%3A%20%22evenodd%22%2C%20%22lineCap%22%3A%20%22round%22%2C%20%22lineJoin%22%3A%20%22round%22%2C%20%22opacity%22%3A%200.9%2C%20%22radius%22%3A%200.2%2C%20%22stroke%22%3A%20true%2C%20%22weight%22%3A%203%7D%0A%20%20%20%20%20%20%20%20%20%20%20%20%29.addTo%28feature_group_95d2fa39ab2748bfa20eee8a1b02e3c4%29%3B%0A%20%20%20%20%20%20%20%20%0A%20%20%20%20%0A%20%20%20%20%20%20%20%20var%20popup_5edd22f212384f4b9130e81b31250c78%20%3D%20L.popup%28%7B%22maxWidth%22%3A%20%22100%25%22%7D%29%3B%0A%0A%20%20%20%20%20%20%20%20%0A%20%20%20%20%20%20%20%20%20%20%20%20var%20html_5a370c093ed54e2da50c70293ca557e8%20%3D%20%24%28%60%3Cdiv%20id%3D%22html_5a370c093ed54e2da50c70293ca557e8%22%20style%3D%22width%3A%20100.0%25%3B%20height%3A%20100.0%25%3B%22%3EBH008%3C/div%3E%60%29%5B0%5D%3B%0A%20%20%20%20%20%20%20%20%20%20%20%20popup_5edd22f212384f4b9130e81b31250c78.setContent%28html_5a370c093ed54e2da50c70293ca557e8%29%3B%0A%20%20%20%20%20%20%20%20%0A%0A%20%20%20%20%20%20%20%20circle_marker_4ce2698195dd4d5c81a4ecf3e3287b9d.bindPopup%28popup_5edd22f212384f4b9130e81b31250c78%29%0A%20%20%20%20%20%20%20%20%3B%0A%0A%20%20%20%20%20%20%20%20%0A%20%20%20%20%0A%20%20%20%20%0A%20%20%20%20%20%20%20%20%20%20%20%20var%20circle_marker_05cd5410eac9493c9cf1f4576fcfa447%20%3D%20L.circleMarker%28%0A%20%20%20%20%20%20%20%20%20%20%20%20%20%20%20%20%5B50.40253244229688%2C%204.397610126989354%5D%2C%0A%20%20%20%20%20%20%20%20%20%20%20%20%20%20%20%20%7B%22bubblingMouseEvents%22%3A%20true%2C%20%22color%22%3A%20%22red%22%2C%20%22dashArray%22%3A%20null%2C%20%22dashOffset%22%3A%20null%2C%20%22fill%22%3A%20true%2C%20%22fillColor%22%3A%20%22red%22%2C%20%22fillOpacity%22%3A%200.2%2C%20%22fillRule%22%3A%20%22evenodd%22%2C%20%22lineCap%22%3A%20%22round%22%2C%20%22lineJoin%22%3A%20%22round%22%2C%20%22opacity%22%3A%200.9%2C%20%22radius%22%3A%200.2%2C%20%22stroke%22%3A%20true%2C%20%22weight%22%3A%203%7D%0A%20%20%20%20%20%20%20%20%20%20%20%20%29.addTo%28feature_group_95d2fa39ab2748bfa20eee8a1b02e3c4%29%3B%0A%20%20%20%20%20%20%20%20%0A%20%20%20%20%0A%20%20%20%20%20%20%20%20var%20popup_aa2dc1af0a7547d6a566118e2244434a%20%3D%20L.popup%28%7B%22maxWidth%22%3A%20%22100%25%22%7D%29%3B%0A%0A%20%20%20%20%20%20%20%20%0A%20%20%20%20%20%20%20%20%20%20%20%20var%20html_891ae8bdb3354092b4814d9820492ad8%20%3D%20%24%28%60%3Cdiv%20id%3D%22html_891ae8bdb3354092b4814d9820492ad8%22%20style%3D%22width%3A%20100.0%25%3B%20height%3A%20100.0%25%3B%22%3EBH009%3C/div%3E%60%29%5B0%5D%3B%0A%20%20%20%20%20%20%20%20%20%20%20%20popup_aa2dc1af0a7547d6a566118e2244434a.setContent%28html_891ae8bdb3354092b4814d9820492ad8%29%3B%0A%20%20%20%20%20%20%20%20%0A%0A%20%20%20%20%20%20%20%20circle_marker_05cd5410eac9493c9cf1f4576fcfa447.bindPopup%28popup_aa2dc1af0a7547d6a566118e2244434a%29%0A%20%20%20%20%20%20%20%20%3B%0A%0A%20%20%20%20%20%20%20%20%0A%20%20%20%20%0A%20%20%20%20%0A%20%20%20%20%20%20%20%20%20%20%20%20var%20circle_marker_302bcdfa167b43cfb68f579052e8e4f0%20%3D%20L.circleMarker%28%0A%20%20%20%20%20%20%20%20%20%20%20%20%20%20%20%20%5B50.40667599264342%2C%204.401312501535724%5D%2C%0A%20%20%20%20%20%20%20%20%20%20%20%20%20%20%20%20%7B%22bubblingMouseEvents%22%3A%20true%2C%20%22color%22%3A%20%22red%22%2C%20%22dashArray%22%3A%20null%2C%20%22dashOffset%22%3A%20null%2C%20%22fill%22%3A%20true%2C%20%22fillColor%22%3A%20%22red%22%2C%20%22fillOpacity%22%3A%200.2%2C%20%22fillRule%22%3A%20%22evenodd%22%2C%20%22lineCap%22%3A%20%22round%22%2C%20%22lineJoin%22%3A%20%22round%22%2C%20%22opacity%22%3A%200.9%2C%20%22radius%22%3A%200.2%2C%20%22stroke%22%3A%20true%2C%20%22weight%22%3A%203%7D%0A%20%20%20%20%20%20%20%20%20%20%20%20%29.addTo%28feature_group_95d2fa39ab2748bfa20eee8a1b02e3c4%29%3B%0A%20%20%20%20%20%20%20%20%0A%20%20%20%20%0A%20%20%20%20%20%20%20%20var%20popup_4f03484aa851447f8626c164a3785486%20%3D%20L.popup%28%7B%22maxWidth%22%3A%20%22100%25%22%7D%29%3B%0A%0A%20%20%20%20%20%20%20%20%0A%20%20%20%20%20%20%20%20%20%20%20%20var%20html_ebea636ed8cd497fb83860e82396f61c%20%3D%20%24%28%60%3Cdiv%20id%3D%22html_ebea636ed8cd497fb83860e82396f61c%22%20style%3D%22width%3A%20100.0%25%3B%20height%3A%20100.0%25%3B%22%3EBH10%3C/div%3E%60%29%5B0%5D%3B%0A%20%20%20%20%20%20%20%20%20%20%20%20popup_4f03484aa851447f8626c164a3785486.setContent%28html_ebea636ed8cd497fb83860e82396f61c%29%3B%0A%20%20%20%20%20%20%20%20%0A%0A%20%20%20%20%20%20%20%20circle_marker_302bcdfa167b43cfb68f579052e8e4f0.bindPopup%28popup_4f03484aa851447f8626c164a3785486%29%0A%20%20%20%20%20%20%20%20%3B%0A%0A%20%20%20%20%20%20%20%20%0A%20%20%20%20%0A%20%20%20%20%0A%20%20%20%20%20%20%20%20%20%20%20%20var%20layer_control_3ec6fae23fe34269ad5015abeaa9fe43%20%3D%20%7B%0A%20%20%20%20%20%20%20%20%20%20%20%20%20%20%20%20base_layers%20%3A%20%7B%0A%20%20%20%20%20%20%20%20%20%20%20%20%20%20%20%20%20%20%20%20%22openstreetmap%22%20%3A%20tile_layer_84c7d089cc8f4b3c9ac7718f37b7afd7%2C%0A%20%20%20%20%20%20%20%20%20%20%20%20%20%20%20%20%20%20%20%20%22Satellite%22%20%3A%20tile_layer_52d523e0c47747cc90e6de66feaff334%2C%0A%20%20%20%20%20%20%20%20%20%20%20%20%20%20%20%20%7D%2C%0A%20%20%20%20%20%20%20%20%20%20%20%20%20%20%20%20overlays%20%3A%20%20%7B%0A%20%20%20%20%20%20%20%20%20%20%20%20%20%20%20%20%20%20%20%20%22Boreholes%22%20%3A%20feature_group_95d2fa39ab2748bfa20eee8a1b02e3c4%2C%0A%20%20%20%20%20%20%20%20%20%20%20%20%20%20%20%20%7D%2C%0A%20%20%20%20%20%20%20%20%20%20%20%20%7D%3B%0A%20%20%20%20%20%20%20%20%20%20%20%20L.control.layers%28%0A%20%20%20%20%20%20%20%20%20%20%20%20%20%20%20%20layer_control_3ec6fae23fe34269ad5015abeaa9fe43.base_layers%2C%0A%20%20%20%20%20%20%20%20%20%20%20%20%20%20%20%20layer_control_3ec6fae23fe34269ad5015abeaa9fe43.overlays%2C%0A%20%20%20%20%20%20%20%20%20%20%20%20%20%20%20%20%7B%22autoZIndex%22%3A%20true%2C%20%22collapsed%22%3A%20true%2C%20%22position%22%3A%20%22topright%22%7D%0A%20%20%20%20%20%20%20%20%20%20%20%20%29.addTo%28map_b20518c0fe974cea92c35b0575917f37%29%3B%0A%20%20%20%20%20%20%20%20%20%20%20%20tile_layer_52d523e0c47747cc90e6de66feaff334.remove%28%29%3B%0A%20%20%20%20%20%20%20%20%0A%20%20%20%20%0A%20%20%20%20%20%20%20%20%20%20%20%20var%20tile_layer_21083f52e8d1426892eaafa52e0566af%20%3D%20L.tileLayer%28%0A%20%20%20%20%20%20%20%20%20%20%20%20%20%20%20%20%22https%3A//%7Bs%7D.tile.openstreetmap.org/%7Bz%7D/%7Bx%7D/%7By%7D.png%22%2C%0A%20%20%20%20%20%20%20%20%20%20%20%20%20%20%20%20%7B%22attribution%22%3A%20%22Data%20by%20%5Cu0026copy%3B%20%5Cu003ca%20href%3D%5C%22http%3A//openstreetmap.org%5C%22%5Cu003eOpenStreetMap%5Cu003c/a%5Cu003e%2C%20under%20%5Cu003ca%20href%3D%5C%22http%3A//www.openstreetmap.org/copyright%5C%22%5Cu003eODbL%5Cu003c/a%5Cu003e.%22%2C%20%22detectRetina%22%3A%20false%2C%20%22maxNativeZoom%22%3A%2018%2C%20%22maxZoom%22%3A%2018%2C%20%22minZoom%22%3A%200%2C%20%22noWrap%22%3A%20false%2C%20%22opacity%22%3A%201%2C%20%22subdomains%22%3A%20%22abc%22%2C%20%22tms%22%3A%20false%7D%0A%20%20%20%20%20%20%20%20%20%20%20%20%29%3B%0A%20%20%20%20%20%20%20%20%20%20%20%20var%20mini_map_515e3833e5b542b19089e6d25cd5a776%20%3D%20new%20L.Control.MiniMap%28%0A%20%20%20%20%20%20%20%20%20%20%20%20%20%20%20%20tile_layer_21083f52e8d1426892eaafa52e0566af%2C%0A%20%20%20%20%20%20%20%20%20%20%20%20%20%20%20%20%7B%22autoToggleDisplay%22%3A%20false%2C%20%22centerFixed%22%3A%20false%2C%20%22collapsedHeight%22%3A%2025%2C%20%22collapsedWidth%22%3A%2025%2C%20%22height%22%3A%20150%2C%20%22minimized%22%3A%20false%2C%20%22position%22%3A%20%22bottomright%22%2C%20%22toggleDisplay%22%3A%20true%2C%20%22width%22%3A%20150%2C%20%22zoomAnimation%22%3A%20false%2C%20%22zoomLevelOffset%22%3A%20-6%7D%0A%20%20%20%20%20%20%20%20%20%20%20%20%29%3B%0A%20%20%20%20%20%20%20%20%20%20%20%20map_b20518c0fe974cea92c35b0575917f37.addControl%28mini_map_515e3833e5b542b19089e6d25cd5a776%29%3B%0A%20%20%20%20%20%20%20%20%0A%3C/script%3E onload=\"this.contentDocument.open();this.contentDocument.write(    decodeURIComponent(this.getAttribute('data-html')));this.contentDocument.close();\" allowfullscreen webkitallowfullscreen mozallowfullscreen></iframe></div></div>"
      ],
      "text/plain": [
       "<folium.folium.Map at 0x7fe5f4238f40>"
      ]
     },
     "execution_count": 34,
     "metadata": {},
     "output_type": "execute_result"
    }
   ],
   "source": [
    "p.plot2d()"
   ]
  },
  {
   "cell_type": "markdown",
   "metadata": {},
   "source": [
    "### 3D plot"
   ]
  },
  {
   "cell_type": "code",
   "execution_count": 35,
   "metadata": {},
   "outputs": [
    {
     "data": {
      "text/plain": [
       "['lithology', 'arsenic', 'cadmium']"
      ]
     },
     "execution_count": 35,
     "metadata": {},
     "output_type": "execute_result"
    }
   ],
   "source": [
    "attributes = list(p.legend_dict.keys())\n",
    "attributes"
   ]
  },
  {
   "cell_type": "code",
   "execution_count": 36,
   "metadata": {},
   "outputs": [
    {
     "data": {
      "text/plain": [
       "({'lithology': {'legend': Legend(Decor({'_colour': '#ffcb23', 'width': 3, 'hatch': \"'..'\", 'component': Component({'lithology': 'sable'})})\n",
       "   Decor({'_colour': '#d5e6cc', 'width': 3, 'hatch': \"'---'\", 'component': Component({'lithology': 'argile'})})\n",
       "   Decor({'_colour': '#7ba1a8', 'width': 3, 'hatch': None, 'component': Component({'lithology': 'marne'})})\n",
       "   Decor({'_colour': '#000000', 'width': 3, 'hatch': None, 'component': Component({'lithology': 'charbon'})})\n",
       "   Decor({'_colour': '#fdaffe', 'width': 3, 'hatch': None, 'component': Component({'lithology': 'dolomie'})})\n",
       "   Decor({'_colour': '#bbffdd', 'width': 3, 'hatch': \"'--'\", 'component': Component({'lithology': 'schiste'})})\n",
       "   Decor({'_colour': '#149eff', 'width': 3, 'hatch': \"'='\", 'component': Component({'lithology': 'calcaire'})})),\n",
       "   'cmap': <matplotlib.colors.ListedColormap at 0x7fe5f41c3b50>,\n",
       "   'values': ['sable',\n",
       "    'argile',\n",
       "    'marne',\n",
       "    'charbon',\n",
       "    'dolomie',\n",
       "    'schiste',\n",
       "    'calcaire']},\n",
       "  'arsenic': {'legend': Legend(Decor({'_colour': '#ff0000', 'width': 3, 'component': Component({'arsenic': 'vi'}), 'hatch': None})\n",
       "   Decor({'_colour': '#00ff00', 'width': 3, 'component': Component({'arsenic': 'vr'}), 'hatch': None})\n",
       "   Decor({'_colour': '#ffffff', 'width': 3, 'component': Component({'arsenic': 'inconnu'}), 'hatch': None})),\n",
       "   'cmap': <matplotlib.colors.ListedColormap at 0x7fe5f41502b0>,\n",
       "   'values': ['vi', 'v', 'vr', 'inconnu']},\n",
       "  'cadmium': {'legend': Legend(Decor({'_colour': '#00ff00', 'width': 3, 'component': Component({'cadmium': 'vr'}), 'hatch': None})\n",
       "   Decor({'_colour': '#ffffff', 'width': 3, 'component': Component({'cadmium': 'inconnu'}), 'hatch': None})\n",
       "   Decor({'_colour': '#ff0000', 'width': 3, 'component': Component({'cadmium': 'vi'}), 'hatch': None})),\n",
       "   'cmap': <matplotlib.colors.ListedColormap at 0x7fe5f41572e0>,\n",
       "   'values': ['v', 'vr', 'inconnu', 'vi']}},\n",
       " {'BH001': {'lithology': {'legend': Legend(Decor({'_colour': '#ffcb23', 'width': 3, 'hatch': \"'..'\", 'component': Component({'lithology': 'sable'})})\n",
       "    Decor({'_colour': '#d5e6cc', 'width': 3, 'hatch': \"'---'\", 'component': Component({'lithology': 'argile'})})\n",
       "    Decor({'_colour': '#7ba1a8', 'width': 3, 'hatch': None, 'component': Component({'lithology': 'marne'})})\n",
       "    Decor({'_colour': '#000000', 'width': 3, 'hatch': None, 'component': Component({'lithology': 'charbon'})})),\n",
       "    'cmap': <matplotlib.colors.ListedColormap at 0x7fe5f41bf2e0>,\n",
       "    'values': ['sable', 'argile', 'marne', 'charbon']},\n",
       "   'arsenic': {'legend': Legend(Decor({'_colour': '#ff0000', 'width': 3, 'component': Component({'arsenic': 'vi'}), 'hatch': None})\n",
       "    Decor({'_colour': '#00ff00', 'width': 3, 'component': Component({'arsenic': 'vr'}), 'hatch': None})\n",
       "    Decor({'_colour': '#ffffff', 'width': 3, 'component': Component({'arsenic': 'inconnu'}), 'hatch': None})),\n",
       "    'cmap': <matplotlib.colors.ListedColormap at 0x7fe5f41c5c70>,\n",
       "    'values': ['vi', 'v', 'vr', 'inconnu']},\n",
       "   'cadmium': {'legend': Legend(),\n",
       "    'cmap': <matplotlib.colors.ListedColormap at 0x7fe5f41504c0>,\n",
       "    'values': ['v']}},\n",
       "  'BH002': {'lithology': {'legend': Legend(Decor({'_colour': '#ffcb23', 'width': 3, 'hatch': \"'..'\", 'component': Component({'lithology': 'sable'})})\n",
       "    Decor({'_colour': '#d5e6cc', 'width': 3, 'hatch': \"'---'\", 'component': Component({'lithology': 'argile'})})\n",
       "    Decor({'_colour': '#7ba1a8', 'width': 3, 'hatch': None, 'component': Component({'lithology': 'marne'})})\n",
       "    Decor({'_colour': '#000000', 'width': 3, 'hatch': None, 'component': Component({'lithology': 'charbon'})})\n",
       "    Decor({'_colour': '#fdaffe', 'width': 3, 'hatch': None, 'component': Component({'lithology': 'dolomie'})})),\n",
       "    'cmap': <matplotlib.colors.ListedColormap at 0x7fe5f41b3fd0>,\n",
       "    'values': ['sable', 'argile', 'marne', 'charbon', 'dolomie']},\n",
       "   'arsenic': {'legend': Legend(Decor({'_colour': '#00ff00', 'width': 3, 'component': Component({'arsenic': 'vr'}), 'hatch': None})\n",
       "    Decor({'_colour': '#ffffff', 'width': 3, 'component': Component({'arsenic': 'inconnu'}), 'hatch': None})),\n",
       "    'cmap': <matplotlib.colors.ListedColormap at 0x7fe5f43e5760>,\n",
       "    'values': ['vr', 'inconnu']},\n",
       "   'cadmium': {'legend': Legend(Decor({'_colour': '#00ff00', 'width': 3, 'component': Component({'cadmium': 'vr'}), 'hatch': None})\n",
       "    Decor({'_colour': '#ffffff', 'width': 3, 'component': Component({'cadmium': 'inconnu'}), 'hatch': None})\n",
       "    Decor({'_colour': '#ff0000', 'width': 3, 'component': Component({'cadmium': 'vi'}), 'hatch': None})),\n",
       "    'cmap': <matplotlib.colors.ListedColormap at 0x7fe5f4150160>,\n",
       "    'values': ['vr', 'inconnu', 'v', 'vi']}},\n",
       "  'BH003': {'lithology': {'legend': Legend(Decor({'_colour': '#ffcb23', 'width': 3, 'hatch': \"'..'\", 'component': Component({'lithology': 'sable'})})\n",
       "    Decor({'_colour': '#d5e6cc', 'width': 3, 'hatch': \"'---'\", 'component': Component({'lithology': 'argile'})})\n",
       "    Decor({'_colour': '#7ba1a8', 'width': 3, 'hatch': None, 'component': Component({'lithology': 'marne'})})\n",
       "    Decor({'_colour': '#000000', 'width': 3, 'hatch': None, 'component': Component({'lithology': 'charbon'})})\n",
       "    Decor({'_colour': '#fdaffe', 'width': 3, 'hatch': None, 'component': Component({'lithology': 'dolomie'})})),\n",
       "    'cmap': <matplotlib.colors.ListedColormap at 0x7fe5f41c36a0>,\n",
       "    'values': ['sable', 'argile', 'marne', 'charbon', 'dolomie']},\n",
       "   'arsenic': {'legend': Legend(Decor({'_colour': '#ff0000', 'width': 3, 'component': Component({'arsenic': 'vi'}), 'hatch': None})\n",
       "    Decor({'_colour': '#00ff00', 'width': 3, 'component': Component({'arsenic': 'vr'}), 'hatch': None})\n",
       "    Decor({'_colour': '#ffffff', 'width': 3, 'component': Component({'arsenic': 'inconnu'}), 'hatch': None})),\n",
       "    'cmap': <matplotlib.colors.ListedColormap at 0x7fe5f41c8ca0>,\n",
       "    'values': ['v', 'vi', 'vr', 'inconnu']},\n",
       "   'cadmium': {'legend': Legend(Decor({'_colour': '#ff0000', 'width': 3, 'component': Component({'cadmium': 'vi'}), 'hatch': None})\n",
       "    Decor({'_colour': '#00ff00', 'width': 3, 'component': Component({'cadmium': 'vr'}), 'hatch': None})),\n",
       "    'cmap': <matplotlib.colors.ListedColormap at 0x7fe5f4150340>,\n",
       "    'values': ['vi', 'vr']}},\n",
       "  'BH004': {'lithology': {'legend': Legend(Decor({'_colour': '#ffcb23', 'width': 3, 'hatch': \"'..'\", 'component': Component({'lithology': 'sable'})})\n",
       "    Decor({'_colour': '#d5e6cc', 'width': 3, 'hatch': \"'---'\", 'component': Component({'lithology': 'argile'})})\n",
       "    Decor({'_colour': '#7ba1a8', 'width': 3, 'hatch': None, 'component': Component({'lithology': 'marne'})})\n",
       "    Decor({'_colour': '#000000', 'width': 3, 'hatch': None, 'component': Component({'lithology': 'charbon'})})\n",
       "    Decor({'_colour': '#fdaffe', 'width': 3, 'hatch': None, 'component': Component({'lithology': 'dolomie'})})),\n",
       "    'cmap': <matplotlib.colors.ListedColormap at 0x7fe5f41c55b0>,\n",
       "    'values': ['sable', 'argile', 'marne', 'charbon', 'dolomie']},\n",
       "   'arsenic': {'legend': Legend(Decor({'_colour': '#ff0000', 'width': 3, 'component': Component({'arsenic': 'vi'}), 'hatch': None})\n",
       "    Decor({'_colour': '#ffffff', 'width': 3, 'component': Component({'arsenic': 'inconnu'}), 'hatch': None})),\n",
       "    'cmap': <matplotlib.colors.ListedColormap at 0x7fe5f41c80a0>,\n",
       "    'values': ['v', 'vi', 'inconnu']},\n",
       "   'cadmium': {'legend': Legend(Decor({'_colour': '#00ff00', 'width': 3, 'component': Component({'cadmium': 'vr'}), 'hatch': None})\n",
       "    Decor({'_colour': '#ff0000', 'width': 3, 'component': Component({'cadmium': 'vi'}), 'hatch': None})\n",
       "    Decor({'_colour': '#ffffff', 'width': 3, 'component': Component({'cadmium': 'inconnu'}), 'hatch': None})),\n",
       "    'cmap': <matplotlib.colors.ListedColormap at 0x7fe5f41506d0>,\n",
       "    'values': ['vr', 'vi', 'inconnu', 'v']}},\n",
       "  'BH005': {'lithology': {'legend': Legend(Decor({'_colour': '#ffcb23', 'width': 3, 'hatch': \"'..'\", 'component': Component({'lithology': 'sable'})})\n",
       "    Decor({'_colour': '#d5e6cc', 'width': 3, 'hatch': \"'---'\", 'component': Component({'lithology': 'argile'})})\n",
       "    Decor({'_colour': '#7ba1a8', 'width': 3, 'hatch': None, 'component': Component({'lithology': 'marne'})})\n",
       "    Decor({'_colour': '#000000', 'width': 3, 'hatch': None, 'component': Component({'lithology': 'charbon'})})\n",
       "    Decor({'_colour': '#fdaffe', 'width': 3, 'hatch': None, 'component': Component({'lithology': 'dolomie'})})\n",
       "    Decor({'_colour': '#bbffdd', 'width': 3, 'hatch': \"'--'\", 'component': Component({'lithology': 'schiste'})})\n",
       "    Decor({'_colour': '#149eff', 'width': 3, 'hatch': \"'='\", 'component': Component({'lithology': 'calcaire'})})),\n",
       "    'cmap': <matplotlib.colors.ListedColormap at 0x7fe5f41bfd00>,\n",
       "    'values': ['sable',\n",
       "     'argile',\n",
       "     'marne',\n",
       "     'charbon',\n",
       "     'dolomie',\n",
       "     'schiste',\n",
       "     'calcaire']},\n",
       "   'arsenic': {'legend': Legend(Decor({'_colour': '#ff0000', 'width': 3, 'component': Component({'arsenic': 'vi'}), 'hatch': None})\n",
       "    Decor({'_colour': '#00ff00', 'width': 3, 'component': Component({'arsenic': 'vr'}), 'hatch': None})\n",
       "    Decor({'_colour': '#ffffff', 'width': 3, 'component': Component({'arsenic': 'inconnu'}), 'hatch': None})),\n",
       "    'cmap': <matplotlib.colors.ListedColormap at 0x7fe5f41c8220>,\n",
       "    'values': ['vi', 'vr', 'inconnu']},\n",
       "   'cadmium': {'legend': Legend(Decor({'_colour': '#ffffff', 'width': 3, 'component': Component({'cadmium': 'inconnu'}), 'hatch': None})\n",
       "    Decor({'_colour': '#00ff00', 'width': 3, 'component': Component({'cadmium': 'vr'}), 'hatch': None})\n",
       "    Decor({'_colour': '#ff0000', 'width': 3, 'component': Component({'cadmium': 'vi'}), 'hatch': None})),\n",
       "    'cmap': <matplotlib.colors.ListedColormap at 0x7fe5f4150790>,\n",
       "    'values': ['inconnu', 'vr', 'vi', 'v']}},\n",
       "  'BH006': {'lithology': {'legend': Legend(Decor({'_colour': '#ffcb23', 'width': 3, 'hatch': \"'..'\", 'component': Component({'lithology': 'sable'})})\n",
       "    Decor({'_colour': '#d5e6cc', 'width': 3, 'hatch': \"'---'\", 'component': Component({'lithology': 'argile'})})\n",
       "    Decor({'_colour': '#7ba1a8', 'width': 3, 'hatch': None, 'component': Component({'lithology': 'marne'})})\n",
       "    Decor({'_colour': '#000000', 'width': 3, 'hatch': None, 'component': Component({'lithology': 'charbon'})})\n",
       "    Decor({'_colour': '#fdaffe', 'width': 3, 'hatch': None, 'component': Component({'lithology': 'dolomie'})})),\n",
       "    'cmap': <matplotlib.colors.ListedColormap at 0x7fe5f41ba250>,\n",
       "    'values': ['sable', 'argile', 'marne', 'charbon', 'dolomie']},\n",
       "   'arsenic': {'legend': Legend(Decor({'_colour': '#ffffff', 'width': 3, 'component': Component({'arsenic': 'inconnu'}), 'hatch': None})),\n",
       "    'cmap': <matplotlib.colors.ListedColormap at 0x7fe5f41c8d90>,\n",
       "    'values': ['v', 'inconnu']},\n",
       "   'cadmium': {'legend': Legend(Decor({'_colour': '#ff0000', 'width': 3, 'component': Component({'cadmium': 'vi'}), 'hatch': None})\n",
       "    Decor({'_colour': '#ffffff', 'width': 3, 'component': Component({'cadmium': 'inconnu'}), 'hatch': None})),\n",
       "    'cmap': <matplotlib.colors.ListedColormap at 0x7fe5f4150220>,\n",
       "    'values': ['vi', 'inconnu']}},\n",
       "  'BH007': {'lithology': {'legend': Legend(Decor({'_colour': '#ffcb23', 'width': 3, 'hatch': \"'..'\", 'component': Component({'lithology': 'sable'})})\n",
       "    Decor({'_colour': '#d5e6cc', 'width': 3, 'hatch': \"'---'\", 'component': Component({'lithology': 'argile'})})\n",
       "    Decor({'_colour': '#7ba1a8', 'width': 3, 'hatch': None, 'component': Component({'lithology': 'marne'})})\n",
       "    Decor({'_colour': '#000000', 'width': 3, 'hatch': None, 'component': Component({'lithology': 'charbon'})})\n",
       "    Decor({'_colour': '#fdaffe', 'width': 3, 'hatch': None, 'component': Component({'lithology': 'dolomie'})})\n",
       "    Decor({'_colour': '#149eff', 'width': 3, 'hatch': \"'='\", 'component': Component({'lithology': 'calcaire'})})),\n",
       "    'cmap': <matplotlib.colors.ListedColormap at 0x7fe5f41c5850>,\n",
       "    'values': ['sable', 'argile', 'marne', 'charbon', 'dolomie', 'calcaire']},\n",
       "   'arsenic': {'legend': Legend(Decor({'_colour': '#ffffff', 'width': 3, 'component': Component({'arsenic': 'inconnu'}), 'hatch': None})\n",
       "    Decor({'_colour': '#00ff00', 'width': 3, 'component': Component({'arsenic': 'vr'}), 'hatch': None})),\n",
       "    'cmap': <matplotlib.colors.ListedColormap at 0x7fe5f41c8d00>,\n",
       "    'values': ['v', 'inconnu', 'vr']},\n",
       "   'cadmium': {'legend': Legend(Decor({'_colour': '#ff0000', 'width': 3, 'component': Component({'cadmium': 'vi'}), 'hatch': None})\n",
       "    Decor({'_colour': '#00ff00', 'width': 3, 'component': Component({'cadmium': 'vr'}), 'hatch': None})\n",
       "    Decor({'_colour': '#ffffff', 'width': 3, 'component': Component({'cadmium': 'inconnu'}), 'hatch': None})),\n",
       "    'cmap': <matplotlib.colors.ListedColormap at 0x7fe5f4157100>,\n",
       "    'values': ['v', 'vi', 'vr', 'inconnu']}},\n",
       "  'BH008': {'lithology': {'legend': Legend(Decor({'_colour': '#ffcb23', 'width': 3, 'hatch': \"'..'\", 'component': Component({'lithology': 'sable'})})\n",
       "    Decor({'_colour': '#d5e6cc', 'width': 3, 'hatch': \"'---'\", 'component': Component({'lithology': 'argile'})})\n",
       "    Decor({'_colour': '#7ba1a8', 'width': 3, 'hatch': None, 'component': Component({'lithology': 'marne'})})\n",
       "    Decor({'_colour': '#000000', 'width': 3, 'hatch': None, 'component': Component({'lithology': 'charbon'})})\n",
       "    Decor({'_colour': '#fdaffe', 'width': 3, 'hatch': None, 'component': Component({'lithology': 'dolomie'})})),\n",
       "    'cmap': <matplotlib.colors.ListedColormap at 0x7fe5f41b3df0>,\n",
       "    'values': ['sable', 'argile', 'marne', 'charbon', 'dolomie']},\n",
       "   'arsenic': {'legend': Legend(Decor({'_colour': '#ff0000', 'width': 3, 'component': Component({'arsenic': 'vi'}), 'hatch': None})\n",
       "    Decor({'_colour': '#00ff00', 'width': 3, 'component': Component({'arsenic': 'vr'}), 'hatch': None})),\n",
       "    'cmap': <matplotlib.colors.ListedColormap at 0x7fe5f41502e0>,\n",
       "    'values': ['v', 'vi', 'vr']},\n",
       "   'cadmium': {'legend': Legend(Decor({'_colour': '#00ff00', 'width': 3, 'component': Component({'cadmium': 'vr'}), 'hatch': None})\n",
       "    Decor({'_colour': '#ffffff', 'width': 3, 'component': Component({'cadmium': 'inconnu'}), 'hatch': None})),\n",
       "    'cmap': <matplotlib.colors.ListedColormap at 0x7fe5f4157130>,\n",
       "    'values': ['vr', 'v', 'inconnu']}},\n",
       "  'BH009': {'lithology': {'legend': Legend(Decor({'_colour': '#ffcb23', 'width': 3, 'hatch': \"'..'\", 'component': Component({'lithology': 'sable'})})\n",
       "    Decor({'_colour': '#d5e6cc', 'width': 3, 'hatch': \"'---'\", 'component': Component({'lithology': 'argile'})})\n",
       "    Decor({'_colour': '#7ba1a8', 'width': 3, 'hatch': None, 'component': Component({'lithology': 'marne'})})\n",
       "    Decor({'_colour': '#000000', 'width': 3, 'hatch': None, 'component': Component({'lithology': 'charbon'})})\n",
       "    Decor({'_colour': '#fdaffe', 'width': 3, 'hatch': None, 'component': Component({'lithology': 'dolomie'})})),\n",
       "    'cmap': <matplotlib.colors.ListedColormap at 0x7fe5f41c8c40>,\n",
       "    'values': ['sable', 'argile', 'marne', 'charbon', 'dolomie']},\n",
       "   'arsenic': {'legend': Legend(Decor({'_colour': '#ff0000', 'width': 3, 'component': Component({'arsenic': 'vi'}), 'hatch': None})\n",
       "    Decor({'_colour': '#ffffff', 'width': 3, 'component': Component({'arsenic': 'inconnu'}), 'hatch': None})),\n",
       "    'cmap': <matplotlib.colors.ListedColormap at 0x7fe5f4150190>,\n",
       "    'values': ['vi', 'v', 'inconnu']},\n",
       "   'cadmium': {'legend': Legend(Decor({'_colour': '#ffffff', 'width': 3, 'component': Component({'cadmium': 'inconnu'}), 'hatch': None})),\n",
       "    'cmap': <matplotlib.colors.ListedColormap at 0x7fe5f4157250>,\n",
       "    'values': ['inconnu', 'v']}},\n",
       "  'BH10': {'lithology': {'legend': Legend(Decor({'_colour': '#ffcb23', 'width': 3, 'hatch': \"'..'\", 'component': Component({'lithology': 'sable'})})\n",
       "    Decor({'_colour': '#d5e6cc', 'width': 3, 'hatch': \"'---'\", 'component': Component({'lithology': 'argile'})})\n",
       "    Decor({'_colour': '#7ba1a8', 'width': 3, 'hatch': None, 'component': Component({'lithology': 'marne'})})),\n",
       "    'cmap': <matplotlib.colors.ListedColormap at 0x7fe5f41c3fd0>,\n",
       "    'values': ['sable', 'argile', 'marne']},\n",
       "   'arsenic': {'legend': Legend(Decor({'_colour': '#ff0000', 'width': 3, 'component': Component({'arsenic': 'vi'}), 'hatch': None})\n",
       "    Decor({'_colour': '#ffffff', 'width': 3, 'component': Component({'arsenic': 'inconnu'}), 'hatch': None})),\n",
       "    'cmap': <matplotlib.colors.ListedColormap at 0x7fe5f4150460>,\n",
       "    'values': ['vi', 'inconnu']},\n",
       "   'cadmium': {'legend': Legend(Decor({'_colour': '#00ff00', 'width': 3, 'component': Component({'cadmium': 'vr'}), 'hatch': None})\n",
       "    Decor({'_colour': '#ff0000', 'width': 3, 'component': Component({'cadmium': 'vi'}), 'hatch': None})),\n",
       "    'cmap': <matplotlib.colors.ListedColormap at 0x7fe5f4157370>,\n",
       "    'values': ['vr', 'vi', 'v']}}})"
      ]
     },
     "execution_count": 36,
     "metadata": {},
     "output_type": "execute_result"
    }
   ],
   "source": [
    "p.update_legend_cmap(update_all_attrib=True)"
   ]
  },
  {
   "cell_type": "code",
   "execution_count": 37,
   "metadata": {},
   "outputs": [
    {
     "data": {
      "image/png": "[encoded data removed]",
      "text/html": [
       "<div style=\"vertical-align: middle;\"><strong>from_list</strong> </div><div class=\"cmap\"><img alt=\"from_list colormap\" title=\"from_list\" style=\"border: 1px solid #555;\" src=\"data:image/png;base64,iVBORw0KGgoAAAANSUhEUgAAAgAAAABACAYAAABsv8+/AAAAGHRFWHRUaXRsZQBmcm9tX2xpc3QgY29sb3JtYXBDL89FAAAAHnRFWHREZXNjcmlwdGlvbgBmcm9tX2xpc3QgY29sb3JtYXABtCnOAAAAMHRFWHRBdXRob3IATWF0cGxvdGxpYiB2My40LjIsIGh0dHBzOi8vbWF0cGxvdGxpYi5vcmes1mPdAAAAMnRFWHRTb2Z0d2FyZQBNYXRwbG90bGliIHYzLjQuMiwgaHR0cHM6Ly9tYXRwbG90bGliLm9yZ4Jw/PoAAAFjSURBVHic7darjUJRAABRoA0c2xCSVVRDHTiSVRRAQgP4VSRUwqcDJPeROaeCkTN/Xn6eM976X/6NTpi8w+k6OmHydtvN6ITJux8foxO+wnl9G50wab/71eiEr7AYHQAAfJ4BAIAgAwAAQQYAAIIMAAAEGQAACDIAABBkAAAgyAAAQJABAIAgAwAAQQYAAIIMAAAEGQAACDIAABBkAAAgyAAAQJABAIAgAwAAQQYAAIIMAAAEGQAACDIAABBkAAAgyAAAQJABAIAgAwAAQQYAAIIMAAAEGQAACDIAABBkAAAgyAAAQJABAIAgAwAAQQYAAIIMAAAEGQAACDIAABBkAAAgyAAAQJABAIAgAwAAQQYAAIIMAAAEGQAACDIAABBkAAAgyAAAQJABAIAgAwAAQQYAAIIMAAAEGQAACDIAABBkAAAgyAAAQJABAIAgAwAAQQYAAIIMAAAEGQAACDIAABD0AiMCDjC6gHT1AAAAAElFTkSuQmCC\"></div><div style=\"vertical-align: middle; max-width: 514px; display: flex; justify-content: space-between;\"><div style=\"float: left;\"><div title=\"#ffcb23ff\" style=\"display: inline-block; width: 1em; height: 1em; margin: 0; vertical-align: middle; border: 1px solid #555; background-color: #ffcb23ff;\"></div> under</div><div style=\"margin: 0 auto; display: inline-block;\">bad <div title=\"#00000000\" style=\"display: inline-block; width: 1em; height: 1em; margin: 0; vertical-align: middle; border: 1px solid #555; background-color: #00000000;\"></div></div><div style=\"float: right;\">over <div title=\"#149effff\" style=\"display: inline-block; width: 1em; height: 1em; margin: 0; vertical-align: middle; border: 1px solid #555; background-color: #149effff;\"></div></div>"
      ],
      "text/plain": [
       "<matplotlib.colors.ListedColormap at 0x7fe5f41c3b50>"
      ]
     },
     "execution_count": 37,
     "metadata": {},
     "output_type": "execute_result"
    }
   ],
   "source": [
    "p.legend_dict[attributes[0]]['cmap']"
   ]
  },
  {
   "cell_type": "code",
   "execution_count": 38,
   "metadata": {},
   "outputs": [
    {
     "data": {
      "text/plain": [
       "['sable', 'argile', 'marne', 'charbon', 'dolomie', 'schiste', 'calcaire']"
      ]
     },
     "execution_count": 38,
     "metadata": {},
     "output_type": "execute_result"
    }
   ],
   "source": [
    "p.legend_dict[attributes[0]]['values']"
   ]
  },
  {
   "cell_type": "markdown",
   "metadata": {},
   "source": [
    "## Display one object (attribute = 'lithology')"
   ]
  },
  {
   "cell_type": "code",
   "execution_count": 39,
   "metadata": {},
   "outputs": [
    {
     "data": {
      "text/plain": [
       "{0: [Component({'lithology': 'sable'}),\n",
       "  Component({'arsenic': 'v'}),\n",
       "  Component({'cadmium': 'v'})],\n",
       " 1: [Component({'lithology': 'argile'}),\n",
       "  Component({'arsenic': 'inconnu'}),\n",
       "  Component({'cadmium': 'vi'})],\n",
       " 2: [Component({'lithology': 'marne'}),\n",
       "  Component({'arsenic': 'inconnu'}),\n",
       "  Component({'cadmium': 'vi'})],\n",
       " 3: [Component({'lithology': 'charbon'}),\n",
       "  Component({'arsenic': 'v'}),\n",
       "  Component({'cadmium': 'vr'})],\n",
       " 4: [Component({'lithology': 'dolomie'}),\n",
       "  Component({'arsenic': 'vr'}),\n",
       "  Component({'cadmium': 'inconnu'})],\n",
       " 5: [Component({'lithology': 'calcaire'}),\n",
       "  Component({'arsenic': 'v'}),\n",
       "  Component({'cadmium': 'vr'})]}"
      ]
     },
     "execution_count": 39,
     "metadata": {},
     "output_type": "execute_result"
    }
   ],
   "source": [
    "bh = 6\n",
    "p.boreholes_3d[bh].components"
   ]
  },
  {
   "cell_type": "code",
   "execution_count": 40,
   "metadata": {},
   "outputs": [
    {
     "name": "stderr",
     "output_type": "stream",
     "text": [
      "/home/yanathan/Projects/GSDMA/utils/visual.py:424: MatplotlibDeprecationWarning: hatch must consist of a string of \"*+-./OX\\ox|\" or None, but found the following invalid values \"'\". Passing invalid values is deprecated since 3.4 and will become an error two minor releases later.\n",
      "  rect = mpl.patches.Rectangle(origin, w, thick, fc=fc, lw=lw, hatch=d.hatch,\n",
      "/home/yanathan/Projects/GSDMA/utils/visual.py:424: MatplotlibDeprecationWarning: hatch must consist of a string of \"*+-./OX\\ox|\" or None, but found the following invalid values \"'=\". Passing invalid values is deprecated since 3.4 and will become an error two minor releases later.\n",
      "  rect = mpl.patches.Rectangle(origin, w, thick, fc=fc, lw=lw, hatch=d.hatch,\n",
      "/home/yanathan/.local/share/virtualenvs/GSDMA-DRfwm83x/lib/python3.8/site-packages/striplog/legend.py:311: MatplotlibDeprecationWarning: hatch must consist of a string of \"*+-./OX\\ox|\" or None, but found the following invalid values \"'=\". Passing invalid values is deprecated since 3.4 and will become an error two minor releases later.\n",
      "  rect1 = patches.Rectangle((0, 0),\n",
      "/home/yanathan/.local/share/virtualenvs/GSDMA-DRfwm83x/lib/python3.8/site-packages/striplog/legend.py:311: MatplotlibDeprecationWarning: hatch must consist of a string of \"*+-./OX\\ox|\" or None, but found the following invalid values \"'\". Passing invalid values is deprecated since 3.4 and will become an error two minor releases later.\n",
      "  rect1 = patches.Rectangle((0, 0),\n"
     ]
    },
    {
     "data": {
      "image/png": "[encoded data removed]",
      "text/plain": [
       "<Figure size 432x432 with 8 Axes>"
      ]
     },
     "metadata": {
      "needs_background": "light"
     },
     "output_type": "display_data"
    }
   ],
   "source": [
    "p.boreholes_3d[bh].log_plot()"
   ]
  },
  {
   "cell_type": "code",
   "execution_count": 41,
   "metadata": {},
   "outputs": [],
   "source": [
    "sargs = dict(title='Test_legend', title_font_size=30, label_font_size=12, n_labels=0,\n",
    "             fmt=\"%.2f\", font_family=\"arial\", color='k',interactive=True, \n",
    "             vertical=True, italic=True, shadow=False,)"
   ]
  },
  {
   "cell_type": "code",
   "execution_count": 42,
   "metadata": {
    "scrolled": true
   },
   "outputs": [
    {
     "data": {
      "application/vnd.jupyter.widget-view+json": {
       "model_id": "1dd006c974ee424e836a1fe4430ab36a",
       "version_major": 2,
       "version_minor": 0
      },
      "text/plain": [
       "ViewInteractiveWidget(height=768, layout=Layout(height='auto', width='100%'), width=1024)"
      ]
     },
     "metadata": {},
     "output_type": "display_data"
    }
   ],
   "source": [
    "p.boreholes_3d[bh].plot3d(custom_legend=False, scalar_bar_args=sargs)"
   ]
  },
  {
   "cell_type": "markdown",
   "metadata": {},
   "source": [
    "## Plot with another attribute"
   ]
  },
  {
   "cell_type": "code",
   "execution_count": 43,
   "metadata": {},
   "outputs": [
    {
     "name": "stderr",
     "output_type": "stream",
     "text": [
      "/home/yanathan/Projects/GSDMA/utils/visual.py:424: MatplotlibDeprecationWarning: hatch must consist of a string of \"*+-./OX\\ox|\" or None, but found the following invalid values \"'\". Passing invalid values is deprecated since 3.4 and will become an error two minor releases later.\n",
      "  rect = mpl.patches.Rectangle(origin, w, thick, fc=fc, lw=lw, hatch=d.hatch,\n",
      "/home/yanathan/Projects/GSDMA/utils/visual.py:424: MatplotlibDeprecationWarning: hatch must consist of a string of \"*+-./OX\\ox|\" or None, but found the following invalid values \"'=\". Passing invalid values is deprecated since 3.4 and will become an error two minor releases later.\n",
      "  rect = mpl.patches.Rectangle(origin, w, thick, fc=fc, lw=lw, hatch=d.hatch,\n",
      "/home/yanathan/.local/share/virtualenvs/GSDMA-DRfwm83x/lib/python3.8/site-packages/striplog/legend.py:311: MatplotlibDeprecationWarning: hatch must consist of a string of \"*+-./OX\\ox|\" or None, but found the following invalid values \"'=\". Passing invalid values is deprecated since 3.4 and will become an error two minor releases later.\n",
      "  rect1 = patches.Rectangle((0, 0),\n",
      "/home/yanathan/.local/share/virtualenvs/GSDMA-DRfwm83x/lib/python3.8/site-packages/striplog/legend.py:311: MatplotlibDeprecationWarning: hatch must consist of a string of \"*+-./OX\\ox|\" or None, but found the following invalid values \"'\". Passing invalid values is deprecated since 3.4 and will become an error two minor releases later.\n",
      "  rect1 = patches.Rectangle((0, 0),\n"
     ]
    },
    {
     "data": {
      "image/png": "[encoded data removed]",
      "text/plain": [
       "<Figure size 432x432 with 8 Axes>"
      ]
     },
     "metadata": {
      "needs_background": "light"
     },
     "output_type": "display_data"
    }
   ],
   "source": [
    "at = 0\n",
    "p.boreholes_3d[bh].log_plot(repr_attribute=attributes[at])"
   ]
  },
  {
   "cell_type": "code",
   "execution_count": 44,
   "metadata": {
    "scrolled": false
   },
   "outputs": [
    {
     "data": {
      "application/vnd.jupyter.widget-view+json": {
       "model_id": "26ca17d8fa7e4ebc81e88ab3d538b970",
       "version_major": 2,
       "version_minor": 0
      },
      "text/plain": [
       "ViewInteractiveWidget(height=768, layout=Layout(height='auto', width='100%'), width=1024)"
      ]
     },
     "metadata": {},
     "output_type": "display_data"
    }
   ],
   "source": [
    "p.boreholes_3d[bh].plot3d(repr_attribute=attributes[at])"
   ]
  },
  {
   "cell_type": "code",
   "execution_count": 45,
   "metadata": {},
   "outputs": [
    {
     "name": "stdout",
     "output_type": "stream",
     "text": [
      "2021-07-28 16:57:19,235 INFO sqlalchemy.engine.Engine SELECT \"Intervals\".id AS \"Intervals_id\", \"Intervals\".borehole AS \"Intervals_borehole\", \"Intervals\".interval_number AS \"Intervals_interval_number\", \"Intervals\".description AS \"Intervals_description\", \"Intervals\".top_id AS \"Intervals_top_id\", \"Intervals\".base_id AS \"Intervals_base_id\", \"Intervals\".data_id AS \"Intervals_data_id\" \n",
      "FROM \"Intervals\" \n",
      "WHERE ? = \"Intervals\".borehole\n",
      "2021-07-28 16:57:19,237 INFO sqlalchemy.engine.Engine [cached since 2.015s ago] ('BH001',)\n"
     ]
    },
    {
     "data": {
      "text/plain": [
       "{0: '{\"lithology\": \"sable\"}, {\"arsenic\": \"vi\"}, {\"cadmium\": \"vs\"}', 1: '{\"lithology\": \"argile\"}, {\"arsenic\": \"vs\"}, {\"cadmium\": \"vs\"}', 2: '{\"lithology\": \"marne\"}, {\"arsenic\": \"vr\"}, {\"cadmium\": \"vs\"}', 3: '{\"lithology\": \"charbon\"}, {\"arsenic\": \"inconnu\"}, {\"cadmium\": \"vs\"}'}"
      ]
     },
     "execution_count": 45,
     "metadata": {},
     "output_type": "execute_result"
    }
   ],
   "source": [
    "p.boreholes_orm[0].intervals_values"
   ]
  },
  {
   "cell_type": "code",
   "execution_count": 46,
   "metadata": {},
   "outputs": [
    {
     "data": {
      "text/html": [
       "<table><tr><td style=\"width:2em; background-color:#DDDDDD\" rowspan=\"6\"></td><td><strong>top</strong></td><td>101.0</td></tr><tr><td><strong>primary</strong></td><td><table><tr><td><strong>lithology</strong></td><td>sable</td></tr></table></td></tr><tr><td><strong>summary</strong></td><td>4.00 m of sable with v with v</td></tr><tr><td><strong>description</strong></td><td>{\"lithology\": \"sable\"}, {\"arsenic\": \"vs\"}, {\"cadmium\": \"vs\"}</td></tr><tr><td><strong>data</strong></td><td><table></table></td></tr><tr><td><strong>base</strong></td><td>97.0</td></tr></table>"
      ],
      "text/plain": [
       "Interval({'top': Position({'middle': 101.0, 'x': 152794.0, 'y': 121111.0, 'units': 'm'}), 'base': Position({'middle': 97.0, 'x': 152794.0, 'y': 121111.0, 'units': 'm'}), 'description': '{\"lithology\": \"sable\"}, {\"arsenic\": \"vs\"}, {\"cadmium\": \"vs\"}', 'data': {}, 'components': [Component({'lithology': 'sable'}), Component({'arsenic': 'v'}), Component({'cadmium': 'v'})]})"
      ]
     },
     "execution_count": 46,
     "metadata": {},
     "output_type": "execute_result"
    }
   ],
   "source": [
    "p.boreholes_3d[bh].intervals[0]"
   ]
  },
  {
   "cell_type": "markdown",
   "metadata": {},
   "source": [
    "### Display project boreholes"
   ]
  },
  {
   "cell_type": "code",
   "execution_count": 47,
   "metadata": {},
   "outputs": [
    {
     "data": {
      "text/html": [
       "<table><tr><th>Header</th><th>Data Arrays</th></tr><tr><td>\n",
       "<table>\n",
       "<tr><th>PolyData</th><th>Information</th></tr>\n",
       "<tr><td>N Cells</td><td>312</td></tr>\n",
       "<tr><td>N Points</td><td>1200</td></tr>\n",
       "<tr><td>X Bounds</td><td>1.528e+05, 1.528e+05</td></tr>\n",
       "<tr><td>Y Bounds</td><td>1.211e+05, 1.211e+05</td></tr>\n",
       "<tr><td>Z Bounds</td><td>5.600e+01, 1.010e+02</td></tr>\n",
       "<tr><td>N Arrays</td><td>6</td></tr>\n",
       "</table>\n",
       "\n",
       "</td><td>\n",
       "<table>\n",
       "<tr><th>Name</th><th>Field</th><th>Type</th><th>N Comp</th><th>Min</th><th>Max</th></tr>\n",
       "<tr><td>TubeNormals</td><td>Points</td><td>float32</td><td>3</td><td>-1.000e+00</td><td>1.000e+00</td></tr>\n",
       "<tr><td>Line Index</td><td>Cells</td><td>int64</td><td>1</td><td>0.000e+00</td><td>5.000e+00</td></tr>\n",
       "<tr><td><b>lithology</b></td><td>Cells</td><td>int64</td><td>1</td><td>0.000e+00</td><td>5.000e+00</td></tr>\n",
       "<tr><td>arsenic</td><td>Cells</td><td>int64</td><td>1</td><td>0.000e+00</td><td>2.000e+00</td></tr>\n",
       "<tr><td>cadmium</td><td>Cells</td><td>int64</td><td>1</td><td>0.000e+00</td><td>3.000e+00</td></tr>\n",
       "<tr><td>Test_legend</td><td>Cells</td><td>int64</td><td>1</td><td>0.000e+00</td><td>5.000e+00</td></tr>\n",
       "</table>\n",
       "\n",
       "</td></tr> </table>"
      ],
      "text/plain": [
       "PolyData (0x7fe5f425be20)\n",
       "  N Cells:\t312\n",
       "  N Points:\t1200\n",
       "  X Bounds:\t1.528e+05, 1.528e+05\n",
       "  Y Bounds:\t1.211e+05, 1.211e+05\n",
       "  Z Bounds:\t5.600e+01, 1.010e+02\n",
       "  N Arrays:\t6"
      ]
     },
     "execution_count": 47,
     "metadata": {},
     "output_type": "execute_result"
    }
   ],
   "source": [
    "bh3d_vtk = p.boreholes_3d[bh]._vtk\n",
    "bh3d_vtk"
   ]
  },
  {
   "cell_type": "code",
   "execution_count": 48,
   "metadata": {
    "scrolled": false
   },
   "outputs": [
    {
     "name": "stderr",
     "output_type": "stream",
     "text": [
      "\u001b[0m\u001b[33m2021-07-28 16:57:19.281 (   3.080s) [        54190740]vtkDataSetAttributes.cx:1296  WARN| vtkPointData (0x39623f0): Can not set attribute Scalars. Only vtkDataArray subclasses can be set as active attributes.\u001b[0m\n"
     ]
    }
   ],
   "source": [
    "at = 0\n",
    "p.plot3d(repr_attribute=attributes[at],  bg_color=[\"royalblue\", \"aliceblue\"], \n",
    "                      window_size=(800, 500))"
   ]
  },
  {
   "cell_type": "markdown",
   "metadata": {},
   "source": [
    "### Boreholes in 3D using X3D for interaction within the notebook"
   ]
  },
  {
   "cell_type": "raw",
   "metadata": {
    "scrolled": false
   },
   "source": [
    "p.plot3d(x3d=True)"
   ]
  },
  {
   "cell_type": "code",
   "execution_count": 56,
   "metadata": {
    "scrolled": true
   },
   "outputs": [
    {
     "data": {
      "text/plain": [
       "omf.data.Legend"
      ]
     },
     "execution_count": 56,
     "metadata": {},
     "output_type": "execute_result"
    }
   ],
   "source": [
    "type(p.boreholes_3d[0].omf_legend)"
   ]
  },
  {
   "cell_type": "code",
   "execution_count": null,
   "metadata": {},
   "outputs": [],
   "source": []
  }
 ],
 "metadata": {
  "kernelspec": {
   "display_name": "Python 3 (ipykernel)",
   "language": "python",
   "name": "python3"
  },
  "language_info": {
   "codemirror_mode": {
    "name": "ipython",
    "version": 3
   },
   "file_extension": ".py",
   "mimetype": "text/x-python",
   "name": "python",
   "nbconvert_exporter": "python",
   "pygments_lexer": "ipython3",
   "version": "3.8.10"
  }
 },
 "nbformat": 4,
 "nbformat_minor": 4
}
