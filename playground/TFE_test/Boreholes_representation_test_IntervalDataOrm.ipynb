{
 "cells": [
  {
   "cell_type": "markdown",
   "metadata": {},
   "source": [
    "# Example of using the Borehole3D class"
   ]
  },
  {
   "cell_type": "markdown",
   "metadata": {},
   "source": [
    "## Imports"
   ]
  },
  {
   "cell_type": "code",
   "execution_count": 1,
   "metadata": {},
   "outputs": [],
   "source": [
    "from striplog import Component, Decor, Legend, Lexicon, Striplog\n",
    "from core.visual import Borehole3D, striplog_legend_to_omf_legend \n",
    "from utils.lexicon.lexicon_memoris import lexicon_memoris, lithology_memoris, contamination_benzene_memoris\n",
    "from utils.io import boreholes_from_files, gdf_viewer, boreholes_from_dataframe, striplog_from_dataframe\n",
    "from core.project import Project\n",
    "from core.orm import BoreholeOrm, PositionOrm, Base, IntervalDataOrm\n",
    "import random\n",
    "from os import remove\n",
    "import pandas as pd\n",
    "import numpy as np\n",
    "from sqlalchemy import create_engine\n",
    "from sqlalchemy.orm import sessionmaker\n",
    "from definitions import ROOT_DIR"
   ]
  },
  {
   "cell_type": "code",
   "execution_count": 2,
   "metadata": {},
   "outputs": [],
   "source": [
    "def symbols_from_attributes(attributes, default_lexicon, default_legend):\n",
    "    symbols_dict = {}\n",
    "    for k, v in attributes.items():    \n",
    "        if 'legend' not in v.keys(): \n",
    "            v['legend'] = Legend.from_csv(text=default_legend.replace('attribute', k))\n",
    "        if 'lexicon' not in v.keys():\n",
    "            lexicon = default_lexicon.copy()\n",
    "            lexicon.update({k: lexicon['attribute']})\n",
    "            lexicon.pop('attribute', None)\n",
    "            v['lexicon'] = Lexicon(lexicon)\n",
    "        symbols_dict.update({k.lower(): {'legend': v['legend'], 'lexicon': v['lexicon']}})\n",
    "    return symbols_dict"
   ]
  },
  {
   "cell_type": "code",
   "execution_count": 3,
   "metadata": {},
   "outputs": [],
   "source": [
    "pollutants=['Benzene']\n",
    "# default contamination level lexicon for pollutants\n",
    "contaminations_lexicon = {'attribute': ['VR', 'VS', 'VI', 'INCONNU'], 'usage': ['naturel', 'agricole', 'r[é|e]sidentiel', 'commercial','r[é|e]cr[é|e]atif' 'industriel', ]}"
   ]
  },
  {
   "cell_type": "code",
   "execution_count": 4,
   "metadata": {},
   "outputs": [],
   "source": [
    "contaminations_legend = \"colour,width,component attribute\\n#00FF00, None, VR,\\n#FFA500, None, VS,\\n#FF0000, None, VI,\\n#FFFFFF, None, Inconnu\\n\""
   ]
  },
  {
   "cell_type": "code",
   "execution_count": 5,
   "metadata": {
    "scrolled": false
   },
   "outputs": [],
   "source": [
    "memoris_symbols = symbols_from_attributes({'lithology': {'lexicon' : lexicon_memoris, 'legend': lithology_memoris}, 'benzene': {}, 'Toluene': {}}, default_lexicon=contaminations_lexicon, default_legend=contaminations_legend)"
   ]
  },
  {
   "cell_type": "markdown",
   "metadata": {},
   "source": [
    "## Reading of CSV files in a dir"
   ]
  },
  {
   "cell_type": "code",
   "execution_count": 6,
   "metadata": {},
   "outputs": [],
   "source": [
    "#df = pd.read_csv('test_data_boreholes.csv', sep=',') # use english lexicon\n",
    "df = pd.read_csv('test_litho_fr.csv', sep=',') # use french lexicon"
   ]
  },
  {
   "cell_type": "markdown",
   "metadata": {},
   "source": [
    "## Data Checking"
   ]
  },
  {
   "cell_type": "raw",
   "metadata": {},
   "source": [
    "df.drop('Z', axis='columns', inplace=True)\n",
    "df.rename({'new_Z':'Z'}, axis='columns', inplace=True)"
   ]
  },
  {
   "cell_type": "raw",
   "metadata": {},
   "source": [
    "df.loc[df.query('Colour==\"tan\"').index, 'Colour'] = 'green' # use simple colour"
   ]
  },
  {
   "cell_type": "code",
   "execution_count": 7,
   "metadata": {},
   "outputs": [],
   "source": [
    "#pol = ['As', 'Ni', 'Cl', 'Hg', 'Pb', 'Zn']\n",
    "pol = ['VR','VS','VI']\n",
    "#df[['Pollutant', 'Concentration']] = ''\n",
    "df[['Pollutant', 'Concentration']] = ''\n",
    "df['Pollutant'] = df['Pollutant'].apply(lambda x: random.sample(pol, 1)[0])\n",
    "df['Concentration'] = df['Concentration'].apply(lambda x: np.random.randint(0,100))\n",
    "df['Unit'] = 'mg/l'"
   ]
  },
  {
   "cell_type": "code",
   "execution_count": 8,
   "metadata": {},
   "outputs": [],
   "source": [
    "df['Lithology'] = df['Lithology'].replace({'Grès':'Marne', 'Calcaire':'Dolomie'})"
   ]
  },
  {
   "cell_type": "code",
   "execution_count": 9,
   "metadata": {},
   "outputs": [],
   "source": [
    "df.loc[35.5, :] = ['BH007',152794.0, 121111.0, 60.0, 0.57, 45, 'Calcaire', 'Bleu', 4, 41, 45, 'Cl', 78, 'mg/l']\n",
    "df.loc[25.5, :] = ['BH005',152473.0, 121460.0, 72.0, 0.61, 32, 'Schiste', 'gris', 3, 29, 32, 'Cl', 78, 'mg/l']\n",
    "df.drop(index=4, inplace=True)\n",
    "df.drop(columns='Colour', inplace=True)\n",
    "df = df.sort_index().reset_index(drop=True)"
   ]
  },
  {
   "cell_type": "raw",
   "metadata": {},
   "source": [
    "df.loc[995, :] = ['BH199',152455.0, 121128.0, 68.0, 0.57, 36, 'Calcaire', 'Bleu', 9, 27, 36, 'Cl', 78, 'mg/l']"
   ]
  },
  {
   "cell_type": "raw",
   "metadata": {},
   "source": [
    "df.to_csv('test_litho_fr.csv', index=False)"
   ]
  },
  {
   "cell_type": "code",
   "execution_count": 10,
   "metadata": {},
   "outputs": [
    {
     "name": "stdout",
     "output_type": "stream",
     "text": [
      "Rows : 996, columns : 13\n"
     ]
    },
    {
     "data": {
      "application/vnd.jupyter.widget-view+json": {
       "model_id": "6e73bf496d004cf1ab4f325d96590d30",
       "version_major": 2,
       "version_minor": 0
      },
      "text/plain": [
       "interactive(children=(IntSlider(value=10, description='rows', max=996, min=10, readout=False), IntSlider(value…"
      ]
     },
     "metadata": {},
     "output_type": "display_data"
    }
   ],
   "source": [
    "gdf_viewer(df)"
   ]
  },
  {
   "cell_type": "code",
   "execution_count": 11,
   "metadata": {},
   "outputs": [],
   "source": [
    "df['Benzene'] = df.Pollutant"
   ]
  },
  {
   "cell_type": "raw",
   "metadata": {},
   "source": [
    "df.query('X==152013.0 and Y==121905.0')"
   ]
  },
  {
   "cell_type": "raw",
   "metadata": {},
   "source": [
    "from striplog import Interval"
   ]
  },
  {
   "cell_type": "raw",
   "metadata": {},
   "source": [
    "def striplog_from_dataframe(df, bh_name, attributes, symbols=None, iv_top=None, iv_base=None,\n",
    "                            thickness='Thickness', use_default=False, query=True):\n",
    "    \"\"\"\n",
    "    creates a Striplog object from a dataframe\n",
    "\n",
    "    Parameters\n",
    "    ----------\n",
    "    df : Pandas.DataFrame\n",
    "        Dataframe that contains borehole intervals data\n",
    "\n",
    "    bh_name: str\n",
    "        Borehole name (or ID)\n",
    "        \n",
    "    attributes: list\n",
    "        Attributes to use for creating components\n",
    "\n",
    "    lexicon : striplog.Lexicon\n",
    "        Lexicon to use for attributes\n",
    "\n",
    "    iv_top : str\n",
    "        Dataframe column that contains interval top\n",
    "\n",
    "    iv_base : str\n",
    "        Dataframe column that contains interval base\n",
    "\n",
    "    thickness : str\n",
    "        Dataframe column that contains lithology thickness (default:None)\n",
    "\n",
    "    query : bool\n",
    "        Work on a restricted copy of df by querying this dataframe first\n",
    "\n",
    "    Returns\n",
    "    -------\n",
    "    strip : dict of striplog objects\n",
    "\n",
    "    \"\"\"\n",
    "\n",
    "    attrib_cdt, attrib_top_cdt, attrib_base_cdt = False, False, False\n",
    "    thick_cdt, color_cdt = False, False\n",
    " \n",
    "\n",
    "    for attrib_col in attributes:\n",
    "        if attrib_col not in list(df.columns):\n",
    "            raise (NameError(f\"{attrib_col} is not in the dataframe columns\"))\n",
    "\n",
    "    if thickness is not None and thickness in list(df.columns):\n",
    "        thick_cdt = True\n",
    "    if iv_top is not None and iv_top in list(df.columns):\n",
    "        attrib_top_cdt = True\n",
    "    if iv_base is not None and iv_base in list(df.columns):\n",
    "        attrib_base_cdt = True\n",
    "\n",
    "    strip = {}\n",
    "    bh_list = []          \n",
    "        \n",
    "    for i in df.index:\n",
    "        if bh_name is not None and bh_name in df.columns:\n",
    "            bh_id = bh_name\n",
    "        else:\n",
    "            bh_id = df.loc[i, 'ID']\n",
    "\n",
    "        if bh_id not in bh_list:\n",
    "            print(f\"|__ID:\\'{bh_id}\\'\")\n",
    "            bh_list.append(bh_id)\n",
    "            if query:\n",
    "                selection = df['ID'] == f\"{bh_id}\"  # f'ID==\"{bh_id}\"'\n",
    "                tmp = df[selection].copy()  # divide to work faster ;)\n",
    "                tmp.reset_index(drop=True, inplace=True)\n",
    "            else:\n",
    "                tmp = df\n",
    "\n",
    "            intervals = []\n",
    "            for j in tmp.index:\n",
    "                # lithology processing -------------------------------------------\n",
    "                \n",
    "                iv_components = []\n",
    "                for attrib in attributes:\n",
    "                    val = tmp.loc[j, attrib]\n",
    "                    lexicon = symbols[attrib.lower()]['lexicon']\n",
    "                    if Component.from_text(val, lexicon) == Component({}):  # empty component !\n",
    "                        print(f\"Error : No value matching with '{val}' in given lexicon\")\n",
    "                    else:\n",
    "                        iv_components.append(Component.from_text(val, lexicon))\n",
    "                print(iv_components)\n",
    "                \n",
    "                # length processing -----------------------------------------------\n",
    "                if thick_cdt and not pd.isnull(tmp.loc[j, thickness]):\n",
    "                    thick = tmp.loc[j, thickness]\n",
    "                else:\n",
    "                    if use_default:\n",
    "                        print(f'Warning : ++ No thickness provided, default is used '\n",
    "                              f'(length={DEFAULT_BOREHOLE_LENGTH})')\n",
    "                        thick = DEFAULT_BOREHOLE_LENGTH\n",
    "                    else:\n",
    "                        raise (ValueError('Cannot create interval with null thickness !'))\n",
    "\n",
    "                # intervals processing ----------------------------------------------\n",
    "                if attrib_top_cdt:\n",
    "                    top = tmp.loc[j, iv_top]\n",
    "                elif thick_cdt:\n",
    "                    if j == tmp.index[0]:\n",
    "                        top = 0\n",
    "                    else:\n",
    "                        top += tmp.loc[j - 1, thickness]\n",
    "                else:\n",
    "                    raise (ValueError('Cannot retrieve or compute top values. provide thickness values! '))\n",
    "\n",
    "                if attrib_base_cdt:\n",
    "                    base = tmp.loc[j, iv_base]\n",
    "                else:\n",
    "                    base = top + thick\n",
    "\n",
    "                if base != 0.:\n",
    "                    intervals = intervals + [Interval(top=top, base=base, description=val,\n",
    "                                                      components=iv_components, lexicon=lexicon)]\n",
    "\n",
    "            if len(intervals) != 0:\n",
    "                strip.update({bh_id: Striplog(list_of_Intervals=intervals)})\n",
    "            else:\n",
    "                print(f\"Error : -- Cannot create a striplog, no interval (length or base = 0)\")\n",
    "\n",
    "    print(f\"Summary : {list(strip.values())}\")\n",
    "\n",
    "    return strip"
   ]
  },
  {
   "cell_type": "code",
   "execution_count": 12,
   "metadata": {},
   "outputs": [],
   "source": [
    "tmp = df.query('ID==\"BH001\"')"
   ]
  },
  {
   "cell_type": "code",
   "execution_count": 13,
   "metadata": {},
   "outputs": [
    {
     "data": {
      "text/plain": [
       "{'lithology': {'legend': Legend(Decor({'_colour': '#ffffe9', 'width': None, 'hatch': None, 'component': Component({'lithology': 'matériau(?:x)? meuble(?:s)?'})})\n",
       "  Decor({'_colour': '#ffffd5', 'width': None, 'hatch': \"'....'\", 'component': Component({'lithology': 'alluvion(?:s)?'})})\n",
       "  Decor({'_colour': '#331100', 'width': None, 'hatch': None, 'component': Component({'lithology': 'boue(?:s)?'})})\n",
       "  Decor({'_colour': '#d3b798', 'width': None, 'hatch': \"'v'\", 'component': Component({'lithology': 'remblai(?:s)?'})})\n",
       "  Decor({'_colour': '#ffcc99', 'width': None, 'hatch': None, 'component': Component({'lithology': 'tourbe(?:s)?'})})\n",
       "  Decor({'_colour': '#ffeaa7', 'width': None, 'hatch': None, 'component': Component({'lithology': 'gypse(?:s)?'})})\n",
       "  Decor({'_colour': '#00151a', 'width': None, 'hatch': None, 'component': Component({'lithology': 'houille(?:s)?'})})\n",
       "  Decor({'_colour': '#798732', 'width': None, 'hatch': \"'-.'\", 'component': Component({'lithology': 'limon(?:s)?'})})\n",
       "  Decor({'_colour': '#ffcb23', 'width': None, 'hatch': \"'..'\", 'component': Component({'lithology': 'sable(?:s)?'})})\n",
       "  Decor({'_colour': '#adb7cc', 'width': None, 'hatch': \"'oo\", 'component': Component({'lithology': 'gravier(?:s)?'})})\n",
       "  Decor({'_colour': '#ace4c8', 'width': None, 'hatch': None, 'component': Component({'lithology': 'silt(?:s)?'})})\n",
       "  Decor({'_colour': '#d5e6cc', 'width': None, 'hatch': \"'---'\", 'component': Component({'lithology': 'argile(?:s)?'})})\n",
       "  Decor({'_colour': '#92dcb7', 'width': None, 'hatch': None, 'component': Component({'lithology': 'bentonite(?:s)?'})})\n",
       "  Decor({'_colour': '#bbffdd', 'width': None, 'hatch': \"'--'\", 'component': Component({'lithology': 'schiste(?:s)?'})})\n",
       "  Decor({'_colour': '#95ffca', 'width': None, 'hatch': None, 'component': Component({'lithology': 'argilite(?:s)?'})})\n",
       "  Decor({'_colour': '#d6fe9a', 'width': None, 'hatch': None, 'component': Component({'lithology': 'siltite(?:s)?'})})\n",
       "  Decor({'_colour': '#e1f0d8', 'width': None, 'hatch': None, 'component': Component({'lithology': 'tuffeau(?:s)?'})})\n",
       "  Decor({'_colour': '#69cf9c', 'width': None, 'hatch': None, 'component': Component({'lithology': 'silex'})})\n",
       "  Decor({'_colour': '#b7d9cc', 'width': None, 'hatch': None, 'component': Component({'lithology': 'conglomérat(?:s)?'})})\n",
       "  Decor({'_colour': '#019ccd', 'width': None, 'hatch': None, 'component': Component({'lithology': 'carbonate(?:s)?'})})\n",
       "  Decor({'_colour': '#149eff', 'width': None, 'hatch': \"'='\", 'component': Component({'lithology': 'calcaire(?:s)?'})})\n",
       "  Decor({'_colour': '#fdaaff', 'width': None, 'hatch': None, 'component': Component({'lithology': 'dolomite(?:s)?'})})\n",
       "  Decor({'_colour': '#fdaffe', 'width': None, 'hatch': None, 'component': Component({'lithology': 'dolomie(?:s)?'})})\n",
       "  Decor({'_colour': '#deeffe', 'width': None, 'hatch': None, 'component': Component({'lithology': 'craie(?:s)?'})})\n",
       "  Decor({'_colour': '#aac2c8', 'width': None, 'hatch': None, 'component': Component({'lithology': 'chert(?:s)?'})})\n",
       "  Decor({'_colour': '#000000', 'width': None, 'hatch': None, 'component': Component({'lithology': 'charbon(?:s)?'})})\n",
       "  Decor({'_colour': '#7ba1a8', 'width': None, 'hatch': None, 'component': Component({'lithology': 'marne(?:s)?'})})\n",
       "  Decor({'_colour': '#ffffff', 'width': None, 'hatch': None, 'component': Component({'lithology': 'inconnu'})})),\n",
       "  'lexicon': {'lithology': ['Anthracite(?:s)?', 'Porphyre(?:s)?', 'Houille(?:s)?', 'Diorite(?:s)?', 'Cargneule(?:s)?', 'Molasse(?:s)?', 'Jaspe(?:s)?', 'Gravier(?:s)?', 'Leptynite(?:s)?', 'Pyroxénite(?:s)?', 'Pierre coquillière(?:s)?', 'Grès(?:s)?', 'Obsidienne(?:s)?', 'Basalte(?:s)?', 'Charbon(?:s)?', 'Anhydrite(?:s)?', 'Andésite(?:s)?', 'Ardoise(?:s)?', 'Carbonatite(?:s)?', 'Dolérite(?:s)?', 'Cendres(?:s)?', 'Poudingue(?:s)?', 'Alios(?:s)?', 'Quartzite(?:s)?', 'Calcaire(?:s)?', 'Gypse(?:s)?', 'Limon(?:s)?', 'Phonolite(?:s)?', 'Arkose(?:s)?', 'Pegmatite(?:s)?', 'Bauxite(?:s)?', 'Pierre coquillère(?:s)?', 'Gneiss', 'Mort-terrain(?:s)?', 'Silcrète(?:s)?', 'Lignite(?:s)?', 'Conglomérat(?:s)?', 'Glauconie(?:s)?', 'Ponce(?:s)?', 'Péridotite(?:s)?', 'Combarbalite(?:s)?', 'Glauconite(?:s)?', 'Anatexite(?:s)?', 'Amphibolite(?:s)?', 'Greisen(?:s)?', 'Tuffeau(?:s)?', 'Granite(?:s)?', 'Gr(?:è|e|é)s', 'Brèche(?:s)?', 'Dolomie(?:s)?', 'Tuf volcanique(?:s)?', 'Halite(?:s)?', \"Granite d'anatexie(?:s)?\", 'Ignimbrite(?:s)?', 'Bentonite(?:s)?', 'Monzonite(?:s)?', 'Rhyolite(?:s)?', 'Monazite(?:s)?', 'Silex', 'Gabbro(?:s)?', 'Argile(?:s)?', 'Syénite(?:s)?', 'Kimberlite(?:s)?', 'Cendre(?:s)?', 'Cinérite(?:s)?', 'Tourbe(?:s)?', 'Aplite(?:s)?', 'Grè(?:s)?', 'Marne(?:s)?', 'Dacite(?:s)?', 'Micaschiste(?:s)?', 'Molasse (?:s)?', 'Tillite(?:s)?', 'Schiste(?:s)?', 'Granodiorite(?:s)?', 'Phtanite(?:s)?', 'Tuf(?:s)?', 'Sable(?:s)?', 'Trachyte(?:s)?', 'Remblai(?:s)?', 'Alluvion(?:s)?', 'Boue(?:s)?', 'Marbre(?:s)?', 'Ophite(?:s)?', 'Éclogite(?:s)?', 'Cipolin(?:s)?', 'Kersantite(?:s)?', 'Lapillis(?:s)?', 'Diatomite(?:s)?', 'Craie(?:s)?', 'Radiolarite(?:s)?'], 'state': ['altéré(?:e|es)?', 'sain(?:s|e|es)?', 'hétérogène(?:s)?', 'homogène(?:s)?'], 'shape': ['lentille(?:s)?', 'biseau(x)?', 'strie(?:s)?', 'veine(?:s)?', 'filet(?:s)?', 'filon(?:s)?', 'intercalé(?:s|e|es)?', 'intercalation(?:s)?', 'interstratifié(?:s|e|es)?', 'tacheté(?:s|e|es)?', 'bande(?:s)?', 'bariolé(?:e|es)?'], 'material': ['laitier', 'Scories', 'béton', 'scorie(?:s)?', 'Ballast', 'Laitier', 'Géotextile', 'Scorie', 'g[e|é]otextile(?:s)?', 'Ballasts', 'ballast(?:s)?', 'Béton'], 'modifier': ['Sableu(?:x|se|ses)?', 'shisteu(?:x|se)', 'caillouteu(?:x|se)', 'Charboneu(?:x|se|ses)?', 'Schisteu(?:x|se|ses)?', 'sableu(?:x|se)', 'argileu(?:x|se)', 'graveleu(?:x|se)', 'pierreu(?:x|se)', 'Argileu(?:x|se|ses)?', 'silteu(?:x|se)', 'Cendreu(?:x|se|ses)?', 'Charbonneu(?:x|se|ses)?', 'Tourbeu(?:x|se|ses)?', 'Limoneu(?:x|se|ses)?', 'bitumineu(?:x|se)', 'saturé(?:e|es)?', 'Gréseu(?:x|se|ses)?', 'boueu(?:x|se)'], 'grainsize': ['(?:pluri(?:-)?)?(?:d[e|é]ci|centi|milli)?m[e|é]trique(?:s)?', 'vf(?:-)?', 'f(?:-)?', '\\\\d+ mm(?:-)?', 'c(?:-)?', 'vc', 'très fin(?:e à)?', 'fin(?:e|s|es à)?', 'moyen(?:ne à)?', 'grossi(?:er|ers|ère|ères à)?', 'très grossi(?:er|ère)', 't fin(?:e|s|es à)?', 'moy(?: à)?', 'moy.(?: à)?', 't grossier(?:s)?', 'granules?', 'cailloux?', 'galets?', 'blocs rocheux?'], 'quantity': ['beaucoup', 'peu', 'moins', 'plusieurs', 'fragment(?:s)?', 'impurité(?:es)', 'abondant(?:e|es)', 'mineur', 'quelques', 'rare', 'flocon(?:s)?', 'trace(?:s)', '[-.\\\\d]+%', '[-.\\\\d]+pc', '[-.\\\\d]+pourcent'], 'pollutant': ['As', 'Hg', 'Pb', 'naphtalène', 'HAP', 'huile(?:s)?'], 'synonyms': {'mort-terrain': ['terre'], 'Anhydrite': ['Gypse'], 'Sel': ['Halite', 'Sylvite']}, 'splitters': [' avec ', ' de ', ' cont(?:ient|enant) ', '\\\\. '], 'parts_of_speech': {'noun': ['lithology'], 'adjective': ['colour', 'grainsize', 'modifier'], 'subordinate': ['quantity']}, 'abbreviations': {'Argilo': 'Argile', 'Sablo': 'sable'}, 'colour': ['Bleu(?:e|es|âtre|âtres)?', 'Blanc(?:he|hes|hâtre|hâtres)?', 'Gris(?:e|es|âtre|âtres)?', 'Jaun(?:e|es|âtre|âtres)?', 'Marron', 'Noir(?:e|es|âtre|âtres)?', 'Ros(?:e|es|âtre|âtres)?', 'Roug(?:e|es|âtre|âtres)?', 'Ver(?:t|te|tes|dâtre|dâtres)?', 'Violet(?:te|tes)?', 'Orange', 'Jaune-gris', 'Blanc-gris', 'Brun-jaune', 'Gris-noir', 'Rouge-orange', 'Noir-brun', 'Jaune-vert', 'Vert-ocre', 'Verdâtre-brun', 'Grise-verdâtre', 'Noir-rouge', 'beige', 'Jaune-kaki', 'Brun-gris', 'Jaune-ocre', 'Vert-de-gris', 'Gris-rouge', 'Aigue-marine', 'Azur', 'Azur clair', 'Azurin', 'Bleu acier', 'Bleu ardoise', 'Bleu barbeau', 'Bleu bleuet', 'Bleu bondi', 'Bleu céleste', 'Bleu céruléen', 'Bleu charrette', 'Bleu charron', 'Bleu ciel', 'Bleu cobalt', 'Bleu de Berlin', 'Bleu de France', 'Bleu de minuit', 'Bleu de Prusse', 'Bleu denim', 'Bleu des mers du sud', 'Bleu dragée', 'Bleu égyptien', 'Bleu électrique', 'Bleu guède', 'Bleu horizon', 'Bleu majorelle', 'Bleu marine', 'Bleu maya', 'Bleu minéral', 'Bleu nuit', 'Bleu outremer', 'Bleu paon', 'Bleu persan', 'Bleu pétrole', 'Bleu roi', 'Bleu saphir', 'Bleu sarcelle', 'Bleu smalt', 'Bleu tiffany', 'Bleu turquin', 'Cæruléum', 'Canard', 'Cérulé', 'Cyan', 'Fumée', 'Givré', 'Indigo', 'Indigo du web', 'Klein', 'Lapis-lazuli', 'Lavande', 'Pastel', 'Pervenche', 'Turquoise', 'Blanc', 'Albâtre', 'Azur brume', 'Beige clair', 'Blanc cassé', 'Blanc céruse', 'Blanc crème', \"Blanc d'argent\", 'Blanc de lait', 'Blanc de lin', 'Blanc de platine', 'Blanc de plomb', 'Blanc de Saturne', 'Blanc de Troyes', 'Blanc de Zinc', \"Blanc d'Espagne\", \"Blanc d'ivoire\", 'Blanc écru', 'Blanc lunaire', 'Blanc neige', 'Blanc opalin', 'Blanc-bleu', \"Coquille d'oeuf\", 'Cuisse de nymphe', 'Brun', 'Acajou', 'Alezan', 'Ambre', 'Auburn', 'Basané', 'Beige', 'Beigeasse', 'Bistre', 'Bitume', 'Blet', 'Brique', 'Bronze', 'Brou de noix', 'Bureau', 'Cacao', 'Cachou', 'Café', 'Café au lait', 'Cannelle', 'Caramel', 'Châtaigne', 'Châtain', 'Chaudron', 'Chocolat', 'Citrouille', 'Fauve', 'Feuille-morte', 'Grège', 'Gris de maure', 'Lavallière', 'Marron', 'Mordoré', 'Noisette', 'Orange brûlée', 'Puce', 'Rouge bismarck', 'Rouge tomette', 'Rouille', 'Sang de boeuf', 'Senois', 'Sépia', 'Tabac', 'Terre de Sienne', \"Terre d'ombre\", 'Vanille', 'Gris', 'Ardoise', 'Argent', 'Bis', 'Céladon', 'Etain oxydé', 'Etain pur', 'Gris acier', 'Gris anthracite', 'Gris de Payne', 'Gris fer', 'Gris Fer', 'Gris Perle', 'Gris souris', 'Gris tourterelle', 'Mastic', 'Pinchard', 'Plomb', 'Rose Mountbatten', 'Taupe', 'Tourdille', 'Jaune', 'Aurore', 'Beurre', 'Beurre frais', 'Blé', 'Blond', \"Boutton d'or\", 'Bulle', \"Caca d'oie\", 'Chamois', 'Champagne', 'Chrome', 'Citron', 'Flave', 'Fleur de soufre', 'Gomme-gutte', 'Jaune auréolin', 'Jaune banane', 'Jaune canari', 'Jaune chartreuse', 'Jaune de cobalt', 'Jaune de Naples', \"Jaune d'or\", 'Jaune impérial', 'Jaune mimosa', 'Jaune moutarde', 'Jaune nankin', 'Jaune olive', 'Jaune paille', 'Jaune poussin', 'Maïs', 'Mars', 'Miel', 'Ocre jaune', 'Ocre rouge', 'Or', 'Orpiment', 'Poil de chameau', 'Queue de vache', 'Safran', 'Soufre', 'Topaze', 'Vénitien', 'Noir', 'Aile de corbeau', 'Cassis', 'Dorian', 'Ebène', 'Noir animal', 'Noir charbon', \"Noir d'aniline\", 'Noir de carbone', 'Noir de fumée', 'Noir de jais', \"Noir d'encre\", \"Noir d'ivoire\", 'Noiraud', 'Réglisse', 'Orange', 'Abricot', 'Bisque', 'Carotte', 'Corail', 'Cuivre', 'Mandarine', 'Melon', 'Orangé', 'Roux', 'Saumon', 'Tangerine', 'Tanné', 'Ventre de biche', 'Rose', 'Cerise', 'Chair', 'Framboise', 'Fushia', 'Héliotrope', 'Incarnadin', 'Magenta', 'Magenta foncé', 'Magenta fushia', 'Mauve', 'Pêche', 'Rose balais', 'Rose bonbon', 'Rose dragée', 'Rose thé', 'Rose vif', 'Rouge', 'Amarante', 'Bordeaux', 'Ecarlate', 'Fraise', 'Fraise écrasée', 'Grenadine', 'Grenat', 'Incarnat', 'Nacarat', 'Passe-velours', 'Pourpre', 'Prune', 'Rouge alizarine', 'Rouge anglais', 'Rouge bourgogne', 'Rouge capucine', 'Rouge cardinal', 'Rouge carmin', 'Rouge cinabre', 'Rouge coquelicot', 'Rouge cramoisi', \"Rouge d'Andrinople\", \"Rouge d'aniline\", 'Rouge de falun', 'Rouge de mars', 'Rouge écrevisse', 'Rouge feu', 'Rouge garance', 'Rouge groseille', 'Rouge ponceau', 'Rouge rubis', 'Rouge sang', 'Rouge tomate', 'Rouge turc', 'Rouge vermillon', 'Rouge-violet', 'Terracotta', 'Vermeil', 'Zizolin', 'Vert', 'Asperge', 'Glauque', 'Hooker', 'Jade', 'Kaki', 'Menthe', \"Menthe à l'eau\", 'Sinople', 'Vert absinthe', 'Vert amande', 'Vert anglais', 'Vert anis', 'Vert avocat', 'Vert bouteille', 'Vert chartreuse', 'Vert citron', 'Vert de chrome', 'Vert de gris', 'Vert de vessie', \"Vert d'eau\", 'Vert émeraude', 'Vert empire', 'Vert épinard', 'Vert gazon', 'Vert impérial', 'Vert kaki', 'Vert lichen', 'Vert lime', 'Vert malachite', 'Vert mélèse', 'Vert militaire', 'Vert mousse', 'Vert olive', 'Vert opaline', 'Vert perroquet', 'Vert pin', 'Vert pistache', 'Vert poireau', 'Vert pomme', 'Vert prairie', 'Vert prasin', 'Vert printemps', 'Vert sapin', 'Vert sauge', 'Vert smaragdin', 'Vert tilleul', 'Vert véronèse', 'Vert viride', 'Violet', 'Améthyste', 'Aubergine', 'Byzantin', 'Byzantium', 'Colombin', 'Glycine', 'Gris de lin', 'Lie de vin', 'Lilas', 'Orchidée', 'Parme', \"Violet d'évêque\", 'Violine', 'rouge', 'orange gris', 'verdâtre', 'gris', 'brun', 'blanc', 'noire', 'brique', 'sable beige', 'brun beige', 'noir verdâtre', 'jaune', 'noir', 'verdâtre brun']}},\n",
       " 'benzene': {'legend': Legend(Decor({'_colour': '#00ff00', 'width': None, 'component': Component({'benzene': 'vr'}), 'hatch': None})\n",
       "  Decor({'_colour': '#ffa500', 'width': None, 'component': Component({'benzene': 'vs'}), 'hatch': None})\n",
       "  Decor({'_colour': '#ff0000', 'width': None, 'component': Component({'benzene': 'vi'}), 'hatch': None})\n",
       "  Decor({'_colour': '#ffffff', 'width': None, 'component': Component({'benzene': 'inconnu'}), 'hatch': None})),\n",
       "  'lexicon': {'usage': ['naturel', 'agricole', 'r[é|e]sidentiel', 'commercial', 'r[é|e]cr[é|e]atifindustriel'], 'benzene': ['VR', 'VS', 'VI', 'INCONNU'], 'synonyms': None, 'splitters': None, 'parts_of_speech': None, 'abbreviations': None}},\n",
       " 'toluene': {'legend': Legend(Decor({'_colour': '#00ff00', 'width': None, 'component': Component({'Toluene': 'vr'}), 'hatch': None})\n",
       "  Decor({'_colour': '#ffa500', 'width': None, 'component': Component({'Toluene': 'vs'}), 'hatch': None})\n",
       "  Decor({'_colour': '#ff0000', 'width': None, 'component': Component({'Toluene': 'vi'}), 'hatch': None})\n",
       "  Decor({'_colour': '#ffffff', 'width': None, 'component': Component({'Toluene': 'inconnu'}), 'hatch': None})),\n",
       "  'lexicon': {'usage': ['naturel', 'agricole', 'r[é|e]sidentiel', 'commercial', 'r[é|e]cr[é|e]atifindustriel'], 'Toluene': ['VR', 'VS', 'VI', 'INCONNU'], 'synonyms': None, 'splitters': None, 'parts_of_speech': None, 'abbreviations': None}}}"
      ]
     },
     "execution_count": 13,
     "metadata": {},
     "output_type": "execute_result"
    }
   ],
   "source": [
    "memoris_symbols"
   ]
  },
  {
   "cell_type": "code",
   "execution_count": 14,
   "metadata": {},
   "outputs": [
    {
     "name": "stdout",
     "output_type": "stream",
     "text": [
      "|__ID:'BH001'\n",
      "[Component({'lithology': 'sable'}), Component({'benzene': 'vi'})]\n",
      "[Component({'lithology': 'argile'}), Component({'benzene': 'vs'})]\n",
      "[Component({'lithology': 'marne'}), Component({'benzene': 'vr'})]\n",
      "[Component({'lithology': 'charbon'}), Component({'benzene': 'vs'})]\n",
      "Summary : [Striplog(4 Intervals, start=0.0, stop=28.0)]\n"
     ]
    }
   ],
   "source": [
    "strip = striplog_from_dataframe(tmp, bh_name='BH001', attributes=['Lithology', 'Benzene'], symbols=memoris_symbols)"
   ]
  },
  {
   "cell_type": "code",
   "execution_count": 15,
   "metadata": {},
   "outputs": [
    {
     "data": {
      "text/plain": [
       "[Component({'lithology': 'sable'}), Component({'benzene': 'vi'})]"
      ]
     },
     "execution_count": 15,
     "metadata": {},
     "output_type": "execute_result"
    }
   ],
   "source": [
    "strip['BH001'][0].components"
   ]
  },
  {
   "cell_type": "code",
   "execution_count": 16,
   "metadata": {},
   "outputs": [],
   "source": [
    "def get_components(strip):\n",
    "    components = []\n",
    "    for v in strip.values():\n",
    "        components.extend([comp for iv in v._Striplog__list for comp in iv.components])\n",
    "    return list(set(components))"
   ]
  },
  {
   "cell_type": "markdown",
   "metadata": {},
   "source": [
    "## Create Boreholes from dataframes or files"
   ]
  },
  {
   "cell_type": "code",
   "execution_count": 17,
   "metadata": {},
   "outputs": [],
   "source": [
    "bhs_df=[df[0:50]] # list of dataframes"
   ]
  },
  {
   "cell_type": "code",
   "execution_count": 18,
   "metadata": {
    "scrolled": true
   },
   "outputs": [
    {
     "name": "stdout",
     "output_type": "stream",
     "text": [
      "\n",
      "Dataframe processing...\n",
      "================================\n",
      "|__ID:'BH001'\n",
      "[Component({'lithology': 'sable'}), Component({'benzene': 'vi'})]\n",
      "[Component({'lithology': 'argile'}), Component({'benzene': 'vs'})]\n",
      "[Component({'lithology': 'marne'}), Component({'benzene': 'vr'})]\n",
      "[Component({'lithology': 'charbon'}), Component({'benzene': 'vs'})]\n",
      "Summary : [Striplog(4 Intervals, start=0.0, stop=156.0)]\n",
      "comp: {'lithology': 'sable'}, id: 1\n",
      "comp: {'lithology': 'argile'}, id: 2\n",
      "comp: {'lithology': 'charbon'}, id: 3\n",
      "comp: {'benzene': 'vi'}, id: 4\n",
      "comp: {'benzene': 'vs'}, id: 5\n",
      "comp: {'benzene': 'vr'}, id: 6\n",
      "comp: {'lithology': 'marne'}, id: 7\n",
      "comp_dict: {Component({'lithology': 'sable'}): 0, Component({'lithology': 'argile'}): 1, Component({'lithology': 'charbon'}): 2, Component({'benzene': 'vi'}): 3, Component({'benzene': 'vs'}): 4, Component({'benzene': 'vr'}): 5, Component({'lithology': 'marne'}): 6}\n",
      "comp_dict: {Component({'lithology': 'sable'}): 0, Component({'lithology': 'argile'}): 1, Component({'lithology': 'charbon'}): 2, Component({'benzene': 'vi'}): 3, Component({'benzene': 'vs'}): 4, Component({'benzene': 'vr'}): 5, Component({'lithology': 'marne'}): 6}\n",
      "comp_dict: {Component({'lithology': 'sable'}): 0, Component({'lithology': 'argile'}): 1, Component({'lithology': 'charbon'}): 2, Component({'benzene': 'vi'}): 3, Component({'benzene': 'vs'}): 4, Component({'benzene': 'vr'}): 5, Component({'lithology': 'marne'}): 6}\n",
      "comp_dict: {Component({'lithology': 'sable'}): 0, Component({'lithology': 'argile'}): 1, Component({'lithology': 'charbon'}): 2, Component({'benzene': 'vi'}): 3, Component({'benzene': 'vs'}): 4, Component({'benzene': 'vr'}): 5, Component({'lithology': 'marne'}): 6}\n",
      "comp_dict: {Component({'lithology': 'sable'}): 0, Component({'lithology': 'argile'}): 1, Component({'lithology': 'charbon'}): 2, Component({'benzene': 'vi'}): 3, Component({'benzene': 'vs'}): 4, Component({'benzene': 'vr'}): 5, Component({'lithology': 'marne'}): 6}\n",
      "comp_dict: {Component({'lithology': 'sable'}): 0, Component({'lithology': 'argile'}): 1, Component({'lithology': 'charbon'}): 2, Component({'benzene': 'vi'}): 3, Component({'benzene': 'vs'}): 4, Component({'benzene': 'vr'}): 5, Component({'lithology': 'marne'}): 6}\n",
      "comp_dict: {Component({'lithology': 'sable'}): 0, Component({'lithology': 'argile'}): 1, Component({'lithology': 'charbon'}): 2, Component({'benzene': 'vi'}): 3, Component({'benzene': 'vs'}): 4, Component({'benzene': 'vr'}): 5, Component({'lithology': 'marne'}): 6}\n",
      "comp_dict: {Component({'lithology': 'sable'}): 0, Component({'lithology': 'argile'}): 1, Component({'lithology': 'charbon'}): 2, Component({'benzene': 'vi'}): 3, Component({'benzene': 'vs'}): 4, Component({'benzene': 'vr'}): 5, Component({'lithology': 'marne'}): 6}\n",
      "|__ID:'BH002'\n",
      "[Component({'lithology': 'sable'}), Component({'benzene': 'vs'})]\n",
      "[Component({'lithology': 'argile'}), Component({'benzene': 'vr'})]\n",
      "[Component({'lithology': 'marne'}), Component({'benzene': 'vs'})]\n",
      "[Component({'lithology': 'charbon'}), Component({'benzene': 'vr'})]\n",
      "[Component({'lithology': 'dolomie'}), Component({'benzene': 'vs'})]\n",
      "Summary : [Striplog(5 Intervals, start=0.0, stop=185.0)]\n",
      "comp: {'lithology': 'sable'}, id: 7\n",
      "comp: {'lithology': 'argile'}, id: 7\n",
      "comp: {'lithology': 'charbon'}, id: 7\n",
      "comp: {'lithology': 'dolomie'}, id: 8\n",
      "comp: {'benzene': 'vs'}, id: 8\n",
      "comp: {'benzene': 'vr'}, id: 8\n",
      "comp: {'lithology': 'marne'}, id: 8\n",
      "comp_dict: {Component({'lithology': 'sable'}): 0, Component({'lithology': 'argile'}): 1, Component({'lithology': 'charbon'}): 2, Component({'benzene': 'vi'}): 3, Component({'benzene': 'vs'}): 4, Component({'benzene': 'vr'}): 5, Component({'lithology': 'marne'}): 6, Component({'lithology': 'dolomie'}): 7}\n",
      "comp_dict: {Component({'lithology': 'sable'}): 0, Component({'lithology': 'argile'}): 1, Component({'lithology': 'charbon'}): 2, Component({'benzene': 'vi'}): 3, Component({'benzene': 'vs'}): 4, Component({'benzene': 'vr'}): 5, Component({'lithology': 'marne'}): 6, Component({'lithology': 'dolomie'}): 7}\n",
      "comp_dict: {Component({'lithology': 'sable'}): 0, Component({'lithology': 'argile'}): 1, Component({'lithology': 'charbon'}): 2, Component({'benzene': 'vi'}): 3, Component({'benzene': 'vs'}): 4, Component({'benzene': 'vr'}): 5, Component({'lithology': 'marne'}): 6, Component({'lithology': 'dolomie'}): 7}\n",
      "comp_dict: {Component({'lithology': 'sable'}): 0, Component({'lithology': 'argile'}): 1, Component({'lithology': 'charbon'}): 2, Component({'benzene': 'vi'}): 3, Component({'benzene': 'vs'}): 4, Component({'benzene': 'vr'}): 5, Component({'lithology': 'marne'}): 6, Component({'lithology': 'dolomie'}): 7}\n",
      "comp_dict: {Component({'lithology': 'sable'}): 0, Component({'lithology': 'argile'}): 1, Component({'lithology': 'charbon'}): 2, Component({'benzene': 'vi'}): 3, Component({'benzene': 'vs'}): 4, Component({'benzene': 'vr'}): 5, Component({'lithology': 'marne'}): 6, Component({'lithology': 'dolomie'}): 7}\n",
      "comp_dict: {Component({'lithology': 'sable'}): 0, Component({'lithology': 'argile'}): 1, Component({'lithology': 'charbon'}): 2, Component({'benzene': 'vi'}): 3, Component({'benzene': 'vs'}): 4, Component({'benzene': 'vr'}): 5, Component({'lithology': 'marne'}): 6, Component({'lithology': 'dolomie'}): 7}\n",
      "comp_dict: {Component({'lithology': 'sable'}): 0, Component({'lithology': 'argile'}): 1, Component({'lithology': 'charbon'}): 2, Component({'benzene': 'vi'}): 3, Component({'benzene': 'vs'}): 4, Component({'benzene': 'vr'}): 5, Component({'lithology': 'marne'}): 6, Component({'lithology': 'dolomie'}): 7}\n",
      "comp_dict: {Component({'lithology': 'sable'}): 0, Component({'lithology': 'argile'}): 1, Component({'lithology': 'charbon'}): 2, Component({'benzene': 'vi'}): 3, Component({'benzene': 'vs'}): 4, Component({'benzene': 'vr'}): 5, Component({'lithology': 'marne'}): 6, Component({'lithology': 'dolomie'}): 7}\n",
      "comp_dict: {Component({'lithology': 'sable'}): 0, Component({'lithology': 'argile'}): 1, Component({'lithology': 'charbon'}): 2, Component({'benzene': 'vi'}): 3, Component({'benzene': 'vs'}): 4, Component({'benzene': 'vr'}): 5, Component({'lithology': 'marne'}): 6, Component({'lithology': 'dolomie'}): 7}\n",
      "comp_dict: {Component({'lithology': 'sable'}): 0, Component({'lithology': 'argile'}): 1, Component({'lithology': 'charbon'}): 2, Component({'benzene': 'vi'}): 3, Component({'benzene': 'vs'}): 4, Component({'benzene': 'vr'}): 5, Component({'lithology': 'marne'}): 6, Component({'lithology': 'dolomie'}): 7}\n",
      "|__ID:'BH003'\n",
      "[Component({'lithology': 'sable'}), Component({'benzene': 'vs'})]\n",
      "[Component({'lithology': 'argile'}), Component({'benzene': 'vr'})]\n",
      "[Component({'lithology': 'marne'}), Component({'benzene': 'vr'})]\n",
      "[Component({'lithology': 'charbon'}), Component({'benzene': 'vs'})]\n",
      "[Component({'lithology': 'dolomie'}), Component({'benzene': 'vr'})]\n",
      "Summary : [Striplog(5 Intervals, start=0.0, stop=90.0)]\n",
      "comp: {'lithology': 'sable'}, id: 8\n",
      "comp: {'lithology': 'argile'}, id: 8\n",
      "comp: {'lithology': 'charbon'}, id: 8\n",
      "comp: {'lithology': 'dolomie'}, id: 8\n",
      "comp: {'benzene': 'vs'}, id: 8\n",
      "comp: {'benzene': 'vr'}, id: 8\n",
      "comp: {'lithology': 'marne'}, id: 8\n",
      "comp_dict: {Component({'lithology': 'sable'}): 0, Component({'lithology': 'argile'}): 1, Component({'lithology': 'charbon'}): 2, Component({'benzene': 'vi'}): 3, Component({'benzene': 'vs'}): 4, Component({'benzene': 'vr'}): 5, Component({'lithology': 'marne'}): 6, Component({'lithology': 'dolomie'}): 7}\n",
      "comp_dict: {Component({'lithology': 'sable'}): 0, Component({'lithology': 'argile'}): 1, Component({'lithology': 'charbon'}): 2, Component({'benzene': 'vi'}): 3, Component({'benzene': 'vs'}): 4, Component({'benzene': 'vr'}): 5, Component({'lithology': 'marne'}): 6, Component({'lithology': 'dolomie'}): 7}\n",
      "comp_dict: {Component({'lithology': 'sable'}): 0, Component({'lithology': 'argile'}): 1, Component({'lithology': 'charbon'}): 2, Component({'benzene': 'vi'}): 3, Component({'benzene': 'vs'}): 4, Component({'benzene': 'vr'}): 5, Component({'lithology': 'marne'}): 6, Component({'lithology': 'dolomie'}): 7}\n",
      "comp_dict: {Component({'lithology': 'sable'}): 0, Component({'lithology': 'argile'}): 1, Component({'lithology': 'charbon'}): 2, Component({'benzene': 'vi'}): 3, Component({'benzene': 'vs'}): 4, Component({'benzene': 'vr'}): 5, Component({'lithology': 'marne'}): 6, Component({'lithology': 'dolomie'}): 7}\n",
      "comp_dict: {Component({'lithology': 'sable'}): 0, Component({'lithology': 'argile'}): 1, Component({'lithology': 'charbon'}): 2, Component({'benzene': 'vi'}): 3, Component({'benzene': 'vs'}): 4, Component({'benzene': 'vr'}): 5, Component({'lithology': 'marne'}): 6, Component({'lithology': 'dolomie'}): 7}\n",
      "comp_dict: {Component({'lithology': 'sable'}): 0, Component({'lithology': 'argile'}): 1, Component({'lithology': 'charbon'}): 2, Component({'benzene': 'vi'}): 3, Component({'benzene': 'vs'}): 4, Component({'benzene': 'vr'}): 5, Component({'lithology': 'marne'}): 6, Component({'lithology': 'dolomie'}): 7}\n",
      "comp_dict: {Component({'lithology': 'sable'}): 0, Component({'lithology': 'argile'}): 1, Component({'lithology': 'charbon'}): 2, Component({'benzene': 'vi'}): 3, Component({'benzene': 'vs'}): 4, Component({'benzene': 'vr'}): 5, Component({'lithology': 'marne'}): 6, Component({'lithology': 'dolomie'}): 7}\n",
      "comp_dict: {Component({'lithology': 'sable'}): 0, Component({'lithology': 'argile'}): 1, Component({'lithology': 'charbon'}): 2, Component({'benzene': 'vi'}): 3, Component({'benzene': 'vs'}): 4, Component({'benzene': 'vr'}): 5, Component({'lithology': 'marne'}): 6, Component({'lithology': 'dolomie'}): 7}\n",
      "comp_dict: {Component({'lithology': 'sable'}): 0, Component({'lithology': 'argile'}): 1, Component({'lithology': 'charbon'}): 2, Component({'benzene': 'vi'}): 3, Component({'benzene': 'vs'}): 4, Component({'benzene': 'vr'}): 5, Component({'lithology': 'marne'}): 6, Component({'lithology': 'dolomie'}): 7}\n",
      "comp_dict: {Component({'lithology': 'sable'}): 0, Component({'lithology': 'argile'}): 1, Component({'lithology': 'charbon'}): 2, Component({'benzene': 'vi'}): 3, Component({'benzene': 'vs'}): 4, Component({'benzene': 'vr'}): 5, Component({'lithology': 'marne'}): 6, Component({'lithology': 'dolomie'}): 7}\n",
      "|__ID:'BH004'\n",
      "[Component({'lithology': 'sable'}), Component({'benzene': 'vs'})]\n",
      "[Component({'lithology': 'argile'}), Component({'benzene': 'vs'})]\n",
      "[Component({'lithology': 'marne'}), Component({'benzene': 'vs'})]\n",
      "[Component({'lithology': 'charbon'}), Component({'benzene': 'vr'})]\n",
      "[Component({'lithology': 'dolomie'}), Component({'benzene': 'vs'})]\n",
      "Summary : [Striplog(5 Intervals, start=0.0, stop=130.0)]\n",
      "comp: {'lithology': 'sable'}, id: 8\n",
      "comp: {'lithology': 'argile'}, id: 8\n",
      "comp: {'lithology': 'marne'}, id: 8\n",
      "comp: {'lithology': 'dolomie'}, id: 8\n",
      "comp: {'benzene': 'vs'}, id: 8\n",
      "comp: {'benzene': 'vr'}, id: 8\n",
      "comp: {'lithology': 'charbon'}, id: 8\n",
      "comp_dict: {Component({'lithology': 'sable'}): 0, Component({'lithology': 'argile'}): 1, Component({'lithology': 'charbon'}): 2, Component({'benzene': 'vi'}): 3, Component({'benzene': 'vs'}): 4, Component({'benzene': 'vr'}): 5, Component({'lithology': 'marne'}): 6, Component({'lithology': 'dolomie'}): 7}\n",
      "comp_dict: {Component({'lithology': 'sable'}): 0, Component({'lithology': 'argile'}): 1, Component({'lithology': 'charbon'}): 2, Component({'benzene': 'vi'}): 3, Component({'benzene': 'vs'}): 4, Component({'benzene': 'vr'}): 5, Component({'lithology': 'marne'}): 6, Component({'lithology': 'dolomie'}): 7}\n",
      "comp_dict: {Component({'lithology': 'sable'}): 0, Component({'lithology': 'argile'}): 1, Component({'lithology': 'charbon'}): 2, Component({'benzene': 'vi'}): 3, Component({'benzene': 'vs'}): 4, Component({'benzene': 'vr'}): 5, Component({'lithology': 'marne'}): 6, Component({'lithology': 'dolomie'}): 7}\n",
      "comp_dict: {Component({'lithology': 'sable'}): 0, Component({'lithology': 'argile'}): 1, Component({'lithology': 'charbon'}): 2, Component({'benzene': 'vi'}): 3, Component({'benzene': 'vs'}): 4, Component({'benzene': 'vr'}): 5, Component({'lithology': 'marne'}): 6, Component({'lithology': 'dolomie'}): 7}\n",
      "comp_dict: {Component({'lithology': 'sable'}): 0, Component({'lithology': 'argile'}): 1, Component({'lithology': 'charbon'}): 2, Component({'benzene': 'vi'}): 3, Component({'benzene': 'vs'}): 4, Component({'benzene': 'vr'}): 5, Component({'lithology': 'marne'}): 6, Component({'lithology': 'dolomie'}): 7}\n",
      "comp_dict: {Component({'lithology': 'sable'}): 0, Component({'lithology': 'argile'}): 1, Component({'lithology': 'charbon'}): 2, Component({'benzene': 'vi'}): 3, Component({'benzene': 'vs'}): 4, Component({'benzene': 'vr'}): 5, Component({'lithology': 'marne'}): 6, Component({'lithology': 'dolomie'}): 7}\n",
      "comp_dict: {Component({'lithology': 'sable'}): 0, Component({'lithology': 'argile'}): 1, Component({'lithology': 'charbon'}): 2, Component({'benzene': 'vi'}): 3, Component({'benzene': 'vs'}): 4, Component({'benzene': 'vr'}): 5, Component({'lithology': 'marne'}): 6, Component({'lithology': 'dolomie'}): 7}\n",
      "comp_dict: {Component({'lithology': 'sable'}): 0, Component({'lithology': 'argile'}): 1, Component({'lithology': 'charbon'}): 2, Component({'benzene': 'vi'}): 3, Component({'benzene': 'vs'}): 4, Component({'benzene': 'vr'}): 5, Component({'lithology': 'marne'}): 6, Component({'lithology': 'dolomie'}): 7}\n",
      "comp_dict: {Component({'lithology': 'sable'}): 0, Component({'lithology': 'argile'}): 1, Component({'lithology': 'charbon'}): 2, Component({'benzene': 'vi'}): 3, Component({'benzene': 'vs'}): 4, Component({'benzene': 'vr'}): 5, Component({'lithology': 'marne'}): 6, Component({'lithology': 'dolomie'}): 7}\n",
      "comp_dict: {Component({'lithology': 'sable'}): 0, Component({'lithology': 'argile'}): 1, Component({'lithology': 'charbon'}): 2, Component({'benzene': 'vi'}): 3, Component({'benzene': 'vs'}): 4, Component({'benzene': 'vr'}): 5, Component({'lithology': 'marne'}): 6, Component({'lithology': 'dolomie'}): 7}\n",
      "|__ID:'BH005'\n",
      "[Component({'lithology': 'sable'}), Component({'benzene': 'vr'})]\n",
      "[Component({'lithology': 'argile'}), Component({'benzene': 'vr'})]\n",
      "[Component({'lithology': 'marne'}), Component({'benzene': 'vs'})]\n",
      "[Component({'lithology': 'charbon'}), Component({'benzene': 'vs'})]\n",
      "[Component({'lithology': 'dolomie'}), Component({'benzene': 'vs'})]\n",
      "Error : No value matching with 'Cl' in given lexicon\n",
      "[Component({'lithology': 'schiste'})]\n",
      "Summary : [Striplog(6 Intervals, start=0.0, stop=177.0)]\n",
      "comp: {'lithology': 'argile'}, id: 8\n",
      "comp: {'lithology': 'marne'}, id: 8\n",
      "comp: {'lithology': 'charbon'}, id: 8\n",
      "comp: {'lithology': 'dolomie'}, id: 8\n",
      "comp: {'lithology': 'schiste'}, id: 9\n",
      "comp: {'benzene': 'vs'}, id: 9\n",
      "comp: {'benzene': 'vr'}, id: 9\n",
      "comp: {'lithology': 'sable'}, id: 9\n",
      "comp_dict: {Component({'lithology': 'sable'}): 0, Component({'lithology': 'argile'}): 1, Component({'lithology': 'charbon'}): 2, Component({'benzene': 'vi'}): 3, Component({'benzene': 'vs'}): 4, Component({'benzene': 'vr'}): 5, Component({'lithology': 'marne'}): 6, Component({'lithology': 'dolomie'}): 7, Component({'lithology': 'schiste'}): 8}\n",
      "comp_dict: {Component({'lithology': 'sable'}): 0, Component({'lithology': 'argile'}): 1, Component({'lithology': 'charbon'}): 2, Component({'benzene': 'vi'}): 3, Component({'benzene': 'vs'}): 4, Component({'benzene': 'vr'}): 5, Component({'lithology': 'marne'}): 6, Component({'lithology': 'dolomie'}): 7, Component({'lithology': 'schiste'}): 8}\n",
      "comp_dict: {Component({'lithology': 'sable'}): 0, Component({'lithology': 'argile'}): 1, Component({'lithology': 'charbon'}): 2, Component({'benzene': 'vi'}): 3, Component({'benzene': 'vs'}): 4, Component({'benzene': 'vr'}): 5, Component({'lithology': 'marne'}): 6, Component({'lithology': 'dolomie'}): 7, Component({'lithology': 'schiste'}): 8}\n",
      "comp_dict: {Component({'lithology': 'sable'}): 0, Component({'lithology': 'argile'}): 1, Component({'lithology': 'charbon'}): 2, Component({'benzene': 'vi'}): 3, Component({'benzene': 'vs'}): 4, Component({'benzene': 'vr'}): 5, Component({'lithology': 'marne'}): 6, Component({'lithology': 'dolomie'}): 7, Component({'lithology': 'schiste'}): 8}\n",
      "comp_dict: {Component({'lithology': 'sable'}): 0, Component({'lithology': 'argile'}): 1, Component({'lithology': 'charbon'}): 2, Component({'benzene': 'vi'}): 3, Component({'benzene': 'vs'}): 4, Component({'benzene': 'vr'}): 5, Component({'lithology': 'marne'}): 6, Component({'lithology': 'dolomie'}): 7, Component({'lithology': 'schiste'}): 8}\n",
      "comp_dict: {Component({'lithology': 'sable'}): 0, Component({'lithology': 'argile'}): 1, Component({'lithology': 'charbon'}): 2, Component({'benzene': 'vi'}): 3, Component({'benzene': 'vs'}): 4, Component({'benzene': 'vr'}): 5, Component({'lithology': 'marne'}): 6, Component({'lithology': 'dolomie'}): 7, Component({'lithology': 'schiste'}): 8}\n",
      "comp_dict: {Component({'lithology': 'sable'}): 0, Component({'lithology': 'argile'}): 1, Component({'lithology': 'charbon'}): 2, Component({'benzene': 'vi'}): 3, Component({'benzene': 'vs'}): 4, Component({'benzene': 'vr'}): 5, Component({'lithology': 'marne'}): 6, Component({'lithology': 'dolomie'}): 7, Component({'lithology': 'schiste'}): 8}\n",
      "comp_dict: {Component({'lithology': 'sable'}): 0, Component({'lithology': 'argile'}): 1, Component({'lithology': 'charbon'}): 2, Component({'benzene': 'vi'}): 3, Component({'benzene': 'vs'}): 4, Component({'benzene': 'vr'}): 5, Component({'lithology': 'marne'}): 6, Component({'lithology': 'dolomie'}): 7, Component({'lithology': 'schiste'}): 8}\n",
      "comp_dict: {Component({'lithology': 'sable'}): 0, Component({'lithology': 'argile'}): 1, Component({'lithology': 'charbon'}): 2, Component({'benzene': 'vi'}): 3, Component({'benzene': 'vs'}): 4, Component({'benzene': 'vr'}): 5, Component({'lithology': 'marne'}): 6, Component({'lithology': 'dolomie'}): 7, Component({'lithology': 'schiste'}): 8}\n",
      "comp_dict: {Component({'lithology': 'sable'}): 0, Component({'lithology': 'argile'}): 1, Component({'lithology': 'charbon'}): 2, Component({'benzene': 'vi'}): 3, Component({'benzene': 'vs'}): 4, Component({'benzene': 'vr'}): 5, Component({'lithology': 'marne'}): 6, Component({'lithology': 'dolomie'}): 7, Component({'lithology': 'schiste'}): 8}\n",
      "comp_dict: {Component({'lithology': 'sable'}): 0, Component({'lithology': 'argile'}): 1, Component({'lithology': 'charbon'}): 2, Component({'benzene': 'vi'}): 3, Component({'benzene': 'vs'}): 4, Component({'benzene': 'vr'}): 5, Component({'lithology': 'marne'}): 6, Component({'lithology': 'dolomie'}): 7, Component({'lithology': 'schiste'}): 8}\n",
      "|__ID:'BH006'\n",
      "[Component({'lithology': 'sable'}), Component({'benzene': 'vr'})]\n",
      "[Component({'lithology': 'argile'}), Component({'benzene': 'vr'})]\n",
      "[Component({'lithology': 'marne'}), Component({'benzene': 'vs'})]\n",
      "[Component({'lithology': 'charbon'}), Component({'benzene': 'vi'})]\n",
      "[Component({'lithology': 'dolomie'}), Component({'benzene': 'vi'})]\n",
      "Summary : [Striplog(5 Intervals, start=0.0, stop=130.0)]\n",
      "comp: {'lithology': 'argile'}, id: 9\n",
      "comp: {'lithology': 'marne'}, id: 9\n",
      "comp: {'lithology': 'charbon'}, id: 9\n",
      "comp: {'lithology': 'dolomie'}, id: 9\n",
      "comp: {'benzene': 'vs'}, id: 9\n",
      "comp: {'benzene': 'vr'}, id: 9\n",
      "comp: {'benzene': 'vi'}, id: 9\n",
      "comp: {'lithology': 'sable'}, id: 9\n",
      "comp_dict: {Component({'lithology': 'sable'}): 0, Component({'lithology': 'argile'}): 1, Component({'lithology': 'charbon'}): 2, Component({'benzene': 'vi'}): 3, Component({'benzene': 'vs'}): 4, Component({'benzene': 'vr'}): 5, Component({'lithology': 'marne'}): 6, Component({'lithology': 'dolomie'}): 7, Component({'lithology': 'schiste'}): 8}\n",
      "comp_dict: {Component({'lithology': 'sable'}): 0, Component({'lithology': 'argile'}): 1, Component({'lithology': 'charbon'}): 2, Component({'benzene': 'vi'}): 3, Component({'benzene': 'vs'}): 4, Component({'benzene': 'vr'}): 5, Component({'lithology': 'marne'}): 6, Component({'lithology': 'dolomie'}): 7, Component({'lithology': 'schiste'}): 8}\n",
      "comp_dict: {Component({'lithology': 'sable'}): 0, Component({'lithology': 'argile'}): 1, Component({'lithology': 'charbon'}): 2, Component({'benzene': 'vi'}): 3, Component({'benzene': 'vs'}): 4, Component({'benzene': 'vr'}): 5, Component({'lithology': 'marne'}): 6, Component({'lithology': 'dolomie'}): 7, Component({'lithology': 'schiste'}): 8}\n",
      "comp_dict: {Component({'lithology': 'sable'}): 0, Component({'lithology': 'argile'}): 1, Component({'lithology': 'charbon'}): 2, Component({'benzene': 'vi'}): 3, Component({'benzene': 'vs'}): 4, Component({'benzene': 'vr'}): 5, Component({'lithology': 'marne'}): 6, Component({'lithology': 'dolomie'}): 7, Component({'lithology': 'schiste'}): 8}\n",
      "comp_dict: {Component({'lithology': 'sable'}): 0, Component({'lithology': 'argile'}): 1, Component({'lithology': 'charbon'}): 2, Component({'benzene': 'vi'}): 3, Component({'benzene': 'vs'}): 4, Component({'benzene': 'vr'}): 5, Component({'lithology': 'marne'}): 6, Component({'lithology': 'dolomie'}): 7, Component({'lithology': 'schiste'}): 8}\n",
      "comp_dict: {Component({'lithology': 'sable'}): 0, Component({'lithology': 'argile'}): 1, Component({'lithology': 'charbon'}): 2, Component({'benzene': 'vi'}): 3, Component({'benzene': 'vs'}): 4, Component({'benzene': 'vr'}): 5, Component({'lithology': 'marne'}): 6, Component({'lithology': 'dolomie'}): 7, Component({'lithology': 'schiste'}): 8}\n",
      "comp_dict: {Component({'lithology': 'sable'}): 0, Component({'lithology': 'argile'}): 1, Component({'lithology': 'charbon'}): 2, Component({'benzene': 'vi'}): 3, Component({'benzene': 'vs'}): 4, Component({'benzene': 'vr'}): 5, Component({'lithology': 'marne'}): 6, Component({'lithology': 'dolomie'}): 7, Component({'lithology': 'schiste'}): 8}\n",
      "comp_dict: {Component({'lithology': 'sable'}): 0, Component({'lithology': 'argile'}): 1, Component({'lithology': 'charbon'}): 2, Component({'benzene': 'vi'}): 3, Component({'benzene': 'vs'}): 4, Component({'benzene': 'vr'}): 5, Component({'lithology': 'marne'}): 6, Component({'lithology': 'dolomie'}): 7, Component({'lithology': 'schiste'}): 8}\n",
      "comp_dict: {Component({'lithology': 'sable'}): 0, Component({'lithology': 'argile'}): 1, Component({'lithology': 'charbon'}): 2, Component({'benzene': 'vi'}): 3, Component({'benzene': 'vs'}): 4, Component({'benzene': 'vr'}): 5, Component({'lithology': 'marne'}): 6, Component({'lithology': 'dolomie'}): 7, Component({'lithology': 'schiste'}): 8}\n",
      "comp_dict: {Component({'lithology': 'sable'}): 0, Component({'lithology': 'argile'}): 1, Component({'lithology': 'charbon'}): 2, Component({'benzene': 'vi'}): 3, Component({'benzene': 'vs'}): 4, Component({'benzene': 'vr'}): 5, Component({'lithology': 'marne'}): 6, Component({'lithology': 'dolomie'}): 7, Component({'lithology': 'schiste'}): 8}\n"
     ]
    },
    {
     "name": "stdout",
     "output_type": "stream",
     "text": [
      "|__ID:'BH007'\n",
      "[Component({'lithology': 'sable'}), Component({'benzene': 'vi'})]\n",
      "[Component({'lithology': 'argile'}), Component({'benzene': 'vi'})]\n",
      "[Component({'lithology': 'marne'}), Component({'benzene': 'vs'})]\n",
      "[Component({'lithology': 'charbon'}), Component({'benzene': 'vr'})]\n",
      "[Component({'lithology': 'dolomie'}), Component({'benzene': 'vr'})]\n",
      "Error : No value matching with 'Cl' in given lexicon\n",
      "[Component({'lithology': 'calcaire'})]\n",
      "Summary : [Striplog(6 Intervals, start=0.0, stop=250.0)]\n",
      "comp: {'lithology': 'argile'}, id: 9\n",
      "comp: {'lithology': 'marne'}, id: 9\n",
      "comp: {'lithology': 'charbon'}, id: 9\n",
      "comp: {'lithology': 'dolomie'}, id: 9\n",
      "comp: {'lithology': 'calcaire'}, id: 10\n",
      "comp: {'benzene': 'vs'}, id: 10\n",
      "comp: {'benzene': 'vi'}, id: 10\n",
      "comp: {'benzene': 'vr'}, id: 10\n",
      "comp: {'lithology': 'sable'}, id: 10\n",
      "comp_dict: {Component({'lithology': 'sable'}): 0, Component({'lithology': 'argile'}): 1, Component({'lithology': 'charbon'}): 2, Component({'benzene': 'vi'}): 3, Component({'benzene': 'vs'}): 4, Component({'benzene': 'vr'}): 5, Component({'lithology': 'marne'}): 6, Component({'lithology': 'dolomie'}): 7, Component({'lithology': 'schiste'}): 8, Component({'lithology': 'calcaire'}): 9}\n",
      "comp_dict: {Component({'lithology': 'sable'}): 0, Component({'lithology': 'argile'}): 1, Component({'lithology': 'charbon'}): 2, Component({'benzene': 'vi'}): 3, Component({'benzene': 'vs'}): 4, Component({'benzene': 'vr'}): 5, Component({'lithology': 'marne'}): 6, Component({'lithology': 'dolomie'}): 7, Component({'lithology': 'schiste'}): 8, Component({'lithology': 'calcaire'}): 9}\n",
      "comp_dict: {Component({'lithology': 'sable'}): 0, Component({'lithology': 'argile'}): 1, Component({'lithology': 'charbon'}): 2, Component({'benzene': 'vi'}): 3, Component({'benzene': 'vs'}): 4, Component({'benzene': 'vr'}): 5, Component({'lithology': 'marne'}): 6, Component({'lithology': 'dolomie'}): 7, Component({'lithology': 'schiste'}): 8, Component({'lithology': 'calcaire'}): 9}\n",
      "comp_dict: {Component({'lithology': 'sable'}): 0, Component({'lithology': 'argile'}): 1, Component({'lithology': 'charbon'}): 2, Component({'benzene': 'vi'}): 3, Component({'benzene': 'vs'}): 4, Component({'benzene': 'vr'}): 5, Component({'lithology': 'marne'}): 6, Component({'lithology': 'dolomie'}): 7, Component({'lithology': 'schiste'}): 8, Component({'lithology': 'calcaire'}): 9}\n",
      "comp_dict: {Component({'lithology': 'sable'}): 0, Component({'lithology': 'argile'}): 1, Component({'lithology': 'charbon'}): 2, Component({'benzene': 'vi'}): 3, Component({'benzene': 'vs'}): 4, Component({'benzene': 'vr'}): 5, Component({'lithology': 'marne'}): 6, Component({'lithology': 'dolomie'}): 7, Component({'lithology': 'schiste'}): 8, Component({'lithology': 'calcaire'}): 9}\n",
      "comp_dict: {Component({'lithology': 'sable'}): 0, Component({'lithology': 'argile'}): 1, Component({'lithology': 'charbon'}): 2, Component({'benzene': 'vi'}): 3, Component({'benzene': 'vs'}): 4, Component({'benzene': 'vr'}): 5, Component({'lithology': 'marne'}): 6, Component({'lithology': 'dolomie'}): 7, Component({'lithology': 'schiste'}): 8, Component({'lithology': 'calcaire'}): 9}\n",
      "comp_dict: {Component({'lithology': 'sable'}): 0, Component({'lithology': 'argile'}): 1, Component({'lithology': 'charbon'}): 2, Component({'benzene': 'vi'}): 3, Component({'benzene': 'vs'}): 4, Component({'benzene': 'vr'}): 5, Component({'lithology': 'marne'}): 6, Component({'lithology': 'dolomie'}): 7, Component({'lithology': 'schiste'}): 8, Component({'lithology': 'calcaire'}): 9}\n",
      "comp_dict: {Component({'lithology': 'sable'}): 0, Component({'lithology': 'argile'}): 1, Component({'lithology': 'charbon'}): 2, Component({'benzene': 'vi'}): 3, Component({'benzene': 'vs'}): 4, Component({'benzene': 'vr'}): 5, Component({'lithology': 'marne'}): 6, Component({'lithology': 'dolomie'}): 7, Component({'lithology': 'schiste'}): 8, Component({'lithology': 'calcaire'}): 9}\n",
      "comp_dict: {Component({'lithology': 'sable'}): 0, Component({'lithology': 'argile'}): 1, Component({'lithology': 'charbon'}): 2, Component({'benzene': 'vi'}): 3, Component({'benzene': 'vs'}): 4, Component({'benzene': 'vr'}): 5, Component({'lithology': 'marne'}): 6, Component({'lithology': 'dolomie'}): 7, Component({'lithology': 'schiste'}): 8, Component({'lithology': 'calcaire'}): 9}\n",
      "comp_dict: {Component({'lithology': 'sable'}): 0, Component({'lithology': 'argile'}): 1, Component({'lithology': 'charbon'}): 2, Component({'benzene': 'vi'}): 3, Component({'benzene': 'vs'}): 4, Component({'benzene': 'vr'}): 5, Component({'lithology': 'marne'}): 6, Component({'lithology': 'dolomie'}): 7, Component({'lithology': 'schiste'}): 8, Component({'lithology': 'calcaire'}): 9}\n",
      "comp_dict: {Component({'lithology': 'sable'}): 0, Component({'lithology': 'argile'}): 1, Component({'lithology': 'charbon'}): 2, Component({'benzene': 'vi'}): 3, Component({'benzene': 'vs'}): 4, Component({'benzene': 'vr'}): 5, Component({'lithology': 'marne'}): 6, Component({'lithology': 'dolomie'}): 7, Component({'lithology': 'schiste'}): 8, Component({'lithology': 'calcaire'}): 9}\n",
      "|__ID:'BH008'\n",
      "[Component({'lithology': 'sable'}), Component({'benzene': 'vs'})]\n",
      "[Component({'lithology': 'argile'}), Component({'benzene': 'vi'})]\n",
      "[Component({'lithology': 'marne'}), Component({'benzene': 'vs'})]\n",
      "[Component({'lithology': 'charbon'}), Component({'benzene': 'vs'})]\n",
      "[Component({'lithology': 'dolomie'}), Component({'benzene': 'vr'})]\n",
      "Summary : [Striplog(5 Intervals, start=0.0, stop=175.0)]\n",
      "comp: {'lithology': 'sable'}, id: 10\n",
      "comp: {'lithology': 'argile'}, id: 10\n",
      "comp: {'lithology': 'charbon'}, id: 10\n",
      "comp: {'lithology': 'dolomie'}, id: 10\n",
      "comp: {'benzene': 'vs'}, id: 10\n",
      "comp: {'benzene': 'vi'}, id: 10\n",
      "comp: {'benzene': 'vr'}, id: 10\n",
      "comp: {'lithology': 'marne'}, id: 10\n",
      "comp_dict: {Component({'lithology': 'sable'}): 0, Component({'lithology': 'argile'}): 1, Component({'lithology': 'charbon'}): 2, Component({'benzene': 'vi'}): 3, Component({'benzene': 'vs'}): 4, Component({'benzene': 'vr'}): 5, Component({'lithology': 'marne'}): 6, Component({'lithology': 'dolomie'}): 7, Component({'lithology': 'schiste'}): 8, Component({'lithology': 'calcaire'}): 9}\n",
      "comp_dict: {Component({'lithology': 'sable'}): 0, Component({'lithology': 'argile'}): 1, Component({'lithology': 'charbon'}): 2, Component({'benzene': 'vi'}): 3, Component({'benzene': 'vs'}): 4, Component({'benzene': 'vr'}): 5, Component({'lithology': 'marne'}): 6, Component({'lithology': 'dolomie'}): 7, Component({'lithology': 'schiste'}): 8, Component({'lithology': 'calcaire'}): 9}\n",
      "comp_dict: {Component({'lithology': 'sable'}): 0, Component({'lithology': 'argile'}): 1, Component({'lithology': 'charbon'}): 2, Component({'benzene': 'vi'}): 3, Component({'benzene': 'vs'}): 4, Component({'benzene': 'vr'}): 5, Component({'lithology': 'marne'}): 6, Component({'lithology': 'dolomie'}): 7, Component({'lithology': 'schiste'}): 8, Component({'lithology': 'calcaire'}): 9}\n",
      "comp_dict: {Component({'lithology': 'sable'}): 0, Component({'lithology': 'argile'}): 1, Component({'lithology': 'charbon'}): 2, Component({'benzene': 'vi'}): 3, Component({'benzene': 'vs'}): 4, Component({'benzene': 'vr'}): 5, Component({'lithology': 'marne'}): 6, Component({'lithology': 'dolomie'}): 7, Component({'lithology': 'schiste'}): 8, Component({'lithology': 'calcaire'}): 9}\n",
      "comp_dict: {Component({'lithology': 'sable'}): 0, Component({'lithology': 'argile'}): 1, Component({'lithology': 'charbon'}): 2, Component({'benzene': 'vi'}): 3, Component({'benzene': 'vs'}): 4, Component({'benzene': 'vr'}): 5, Component({'lithology': 'marne'}): 6, Component({'lithology': 'dolomie'}): 7, Component({'lithology': 'schiste'}): 8, Component({'lithology': 'calcaire'}): 9}\n",
      "comp_dict: {Component({'lithology': 'sable'}): 0, Component({'lithology': 'argile'}): 1, Component({'lithology': 'charbon'}): 2, Component({'benzene': 'vi'}): 3, Component({'benzene': 'vs'}): 4, Component({'benzene': 'vr'}): 5, Component({'lithology': 'marne'}): 6, Component({'lithology': 'dolomie'}): 7, Component({'lithology': 'schiste'}): 8, Component({'lithology': 'calcaire'}): 9}\n",
      "comp_dict: {Component({'lithology': 'sable'}): 0, Component({'lithology': 'argile'}): 1, Component({'lithology': 'charbon'}): 2, Component({'benzene': 'vi'}): 3, Component({'benzene': 'vs'}): 4, Component({'benzene': 'vr'}): 5, Component({'lithology': 'marne'}): 6, Component({'lithology': 'dolomie'}): 7, Component({'lithology': 'schiste'}): 8, Component({'lithology': 'calcaire'}): 9}\n",
      "comp_dict: {Component({'lithology': 'sable'}): 0, Component({'lithology': 'argile'}): 1, Component({'lithology': 'charbon'}): 2, Component({'benzene': 'vi'}): 3, Component({'benzene': 'vs'}): 4, Component({'benzene': 'vr'}): 5, Component({'lithology': 'marne'}): 6, Component({'lithology': 'dolomie'}): 7, Component({'lithology': 'schiste'}): 8, Component({'lithology': 'calcaire'}): 9}\n",
      "comp_dict: {Component({'lithology': 'sable'}): 0, Component({'lithology': 'argile'}): 1, Component({'lithology': 'charbon'}): 2, Component({'benzene': 'vi'}): 3, Component({'benzene': 'vs'}): 4, Component({'benzene': 'vr'}): 5, Component({'lithology': 'marne'}): 6, Component({'lithology': 'dolomie'}): 7, Component({'lithology': 'schiste'}): 8, Component({'lithology': 'calcaire'}): 9}\n",
      "comp_dict: {Component({'lithology': 'sable'}): 0, Component({'lithology': 'argile'}): 1, Component({'lithology': 'charbon'}): 2, Component({'benzene': 'vi'}): 3, Component({'benzene': 'vs'}): 4, Component({'benzene': 'vr'}): 5, Component({'lithology': 'marne'}): 6, Component({'lithology': 'dolomie'}): 7, Component({'lithology': 'schiste'}): 8, Component({'lithology': 'calcaire'}): 9}\n",
      "|__ID:'BH009'\n",
      "[Component({'lithology': 'sable'}), Component({'benzene': 'vi'})]\n",
      "[Component({'lithology': 'argile'}), Component({'benzene': 'vi'})]\n",
      "[Component({'lithology': 'marne'}), Component({'benzene': 'vi'})]\n",
      "[Component({'lithology': 'charbon'}), Component({'benzene': 'vs'})]\n",
      "[Component({'lithology': 'dolomie'}), Component({'benzene': 'vr'})]\n",
      "Summary : [Striplog(5 Intervals, start=0.0, stop=200.0)]\n",
      "comp: {'lithology': 'sable'}, id: 10\n",
      "comp: {'lithology': 'argile'}, id: 10\n",
      "comp: {'lithology': 'marne'}, id: 10\n",
      "comp: {'lithology': 'dolomie'}, id: 10\n",
      "comp: {'benzene': 'vi'}, id: 10\n",
      "comp: {'benzene': 'vs'}, id: 10\n",
      "comp: {'benzene': 'vr'}, id: 10\n",
      "comp: {'lithology': 'charbon'}, id: 10\n",
      "comp_dict: {Component({'lithology': 'sable'}): 0, Component({'lithology': 'argile'}): 1, Component({'lithology': 'charbon'}): 2, Component({'benzene': 'vi'}): 3, Component({'benzene': 'vs'}): 4, Component({'benzene': 'vr'}): 5, Component({'lithology': 'marne'}): 6, Component({'lithology': 'dolomie'}): 7, Component({'lithology': 'schiste'}): 8, Component({'lithology': 'calcaire'}): 9}\n",
      "comp_dict: {Component({'lithology': 'sable'}): 0, Component({'lithology': 'argile'}): 1, Component({'lithology': 'charbon'}): 2, Component({'benzene': 'vi'}): 3, Component({'benzene': 'vs'}): 4, Component({'benzene': 'vr'}): 5, Component({'lithology': 'marne'}): 6, Component({'lithology': 'dolomie'}): 7, Component({'lithology': 'schiste'}): 8, Component({'lithology': 'calcaire'}): 9}\n",
      "comp_dict: {Component({'lithology': 'sable'}): 0, Component({'lithology': 'argile'}): 1, Component({'lithology': 'charbon'}): 2, Component({'benzene': 'vi'}): 3, Component({'benzene': 'vs'}): 4, Component({'benzene': 'vr'}): 5, Component({'lithology': 'marne'}): 6, Component({'lithology': 'dolomie'}): 7, Component({'lithology': 'schiste'}): 8, Component({'lithology': 'calcaire'}): 9}\n",
      "comp_dict: {Component({'lithology': 'sable'}): 0, Component({'lithology': 'argile'}): 1, Component({'lithology': 'charbon'}): 2, Component({'benzene': 'vi'}): 3, Component({'benzene': 'vs'}): 4, Component({'benzene': 'vr'}): 5, Component({'lithology': 'marne'}): 6, Component({'lithology': 'dolomie'}): 7, Component({'lithology': 'schiste'}): 8, Component({'lithology': 'calcaire'}): 9}\n",
      "comp_dict: {Component({'lithology': 'sable'}): 0, Component({'lithology': 'argile'}): 1, Component({'lithology': 'charbon'}): 2, Component({'benzene': 'vi'}): 3, Component({'benzene': 'vs'}): 4, Component({'benzene': 'vr'}): 5, Component({'lithology': 'marne'}): 6, Component({'lithology': 'dolomie'}): 7, Component({'lithology': 'schiste'}): 8, Component({'lithology': 'calcaire'}): 9}\n",
      "comp_dict: {Component({'lithology': 'sable'}): 0, Component({'lithology': 'argile'}): 1, Component({'lithology': 'charbon'}): 2, Component({'benzene': 'vi'}): 3, Component({'benzene': 'vs'}): 4, Component({'benzene': 'vr'}): 5, Component({'lithology': 'marne'}): 6, Component({'lithology': 'dolomie'}): 7, Component({'lithology': 'schiste'}): 8, Component({'lithology': 'calcaire'}): 9}\n",
      "comp_dict: {Component({'lithology': 'sable'}): 0, Component({'lithology': 'argile'}): 1, Component({'lithology': 'charbon'}): 2, Component({'benzene': 'vi'}): 3, Component({'benzene': 'vs'}): 4, Component({'benzene': 'vr'}): 5, Component({'lithology': 'marne'}): 6, Component({'lithology': 'dolomie'}): 7, Component({'lithology': 'schiste'}): 8, Component({'lithology': 'calcaire'}): 9}\n",
      "comp_dict: {Component({'lithology': 'sable'}): 0, Component({'lithology': 'argile'}): 1, Component({'lithology': 'charbon'}): 2, Component({'benzene': 'vi'}): 3, Component({'benzene': 'vs'}): 4, Component({'benzene': 'vr'}): 5, Component({'lithology': 'marne'}): 6, Component({'lithology': 'dolomie'}): 7, Component({'lithology': 'schiste'}): 8, Component({'lithology': 'calcaire'}): 9}\n",
      "comp_dict: {Component({'lithology': 'sable'}): 0, Component({'lithology': 'argile'}): 1, Component({'lithology': 'charbon'}): 2, Component({'benzene': 'vi'}): 3, Component({'benzene': 'vs'}): 4, Component({'benzene': 'vr'}): 5, Component({'lithology': 'marne'}): 6, Component({'lithology': 'dolomie'}): 7, Component({'lithology': 'schiste'}): 8, Component({'lithology': 'calcaire'}): 9}\n",
      "comp_dict: {Component({'lithology': 'sable'}): 0, Component({'lithology': 'argile'}): 1, Component({'lithology': 'charbon'}): 2, Component({'benzene': 'vi'}): 3, Component({'benzene': 'vs'}): 4, Component({'benzene': 'vr'}): 5, Component({'lithology': 'marne'}): 6, Component({'lithology': 'dolomie'}): 7, Component({'lithology': 'schiste'}): 8, Component({'lithology': 'calcaire'}): 9}\n",
      "|__ID:'BH10'\n",
      "[Component({'lithology': 'sable'}), Component({'benzene': 'vr'})]\n",
      "[Component({'lithology': 'argile'}), Component({'benzene': 'vr'})]\n",
      "[Component({'lithology': 'marne'}), Component({'benzene': 'vs'})]\n",
      "[Component({'lithology': 'charbon'}), Component({'benzene': 'vr'})]\n",
      "Summary : [Striplog(4 Intervals, start=0.0, stop=124.0)]\n",
      "comp: {'lithology': 'argile'}, id: 10\n",
      "comp: {'lithology': 'marne'}, id: 10\n",
      "comp: {'lithology': 'charbon'}, id: 10\n",
      "comp: {'benzene': 'vs'}, id: 10\n",
      "comp: {'benzene': 'vr'}, id: 10\n",
      "comp: {'lithology': 'sable'}, id: 10\n",
      "comp_dict: {Component({'lithology': 'sable'}): 0, Component({'lithology': 'argile'}): 1, Component({'lithology': 'charbon'}): 2, Component({'benzene': 'vi'}): 3, Component({'benzene': 'vs'}): 4, Component({'benzene': 'vr'}): 5, Component({'lithology': 'marne'}): 6, Component({'lithology': 'dolomie'}): 7, Component({'lithology': 'schiste'}): 8, Component({'lithology': 'calcaire'}): 9}\n",
      "comp_dict: {Component({'lithology': 'sable'}): 0, Component({'lithology': 'argile'}): 1, Component({'lithology': 'charbon'}): 2, Component({'benzene': 'vi'}): 3, Component({'benzene': 'vs'}): 4, Component({'benzene': 'vr'}): 5, Component({'lithology': 'marne'}): 6, Component({'lithology': 'dolomie'}): 7, Component({'lithology': 'schiste'}): 8, Component({'lithology': 'calcaire'}): 9}\n",
      "comp_dict: {Component({'lithology': 'sable'}): 0, Component({'lithology': 'argile'}): 1, Component({'lithology': 'charbon'}): 2, Component({'benzene': 'vi'}): 3, Component({'benzene': 'vs'}): 4, Component({'benzene': 'vr'}): 5, Component({'lithology': 'marne'}): 6, Component({'lithology': 'dolomie'}): 7, Component({'lithology': 'schiste'}): 8, Component({'lithology': 'calcaire'}): 9}\n",
      "comp_dict: {Component({'lithology': 'sable'}): 0, Component({'lithology': 'argile'}): 1, Component({'lithology': 'charbon'}): 2, Component({'benzene': 'vi'}): 3, Component({'benzene': 'vs'}): 4, Component({'benzene': 'vr'}): 5, Component({'lithology': 'marne'}): 6, Component({'lithology': 'dolomie'}): 7, Component({'lithology': 'schiste'}): 8, Component({'lithology': 'calcaire'}): 9}\n",
      "comp_dict: {Component({'lithology': 'sable'}): 0, Component({'lithology': 'argile'}): 1, Component({'lithology': 'charbon'}): 2, Component({'benzene': 'vi'}): 3, Component({'benzene': 'vs'}): 4, Component({'benzene': 'vr'}): 5, Component({'lithology': 'marne'}): 6, Component({'lithology': 'dolomie'}): 7, Component({'lithology': 'schiste'}): 8, Component({'lithology': 'calcaire'}): 9}\n",
      "comp_dict: {Component({'lithology': 'sable'}): 0, Component({'lithology': 'argile'}): 1, Component({'lithology': 'charbon'}): 2, Component({'benzene': 'vi'}): 3, Component({'benzene': 'vs'}): 4, Component({'benzene': 'vr'}): 5, Component({'lithology': 'marne'}): 6, Component({'lithology': 'dolomie'}): 7, Component({'lithology': 'schiste'}): 8, Component({'lithology': 'calcaire'}): 9}\n",
      "comp_dict: {Component({'lithology': 'sable'}): 0, Component({'lithology': 'argile'}): 1, Component({'lithology': 'charbon'}): 2, Component({'benzene': 'vi'}): 3, Component({'benzene': 'vs'}): 4, Component({'benzene': 'vr'}): 5, Component({'lithology': 'marne'}): 6, Component({'lithology': 'dolomie'}): 7, Component({'lithology': 'schiste'}): 8, Component({'lithology': 'calcaire'}): 9}\n",
      "comp_dict: {Component({'lithology': 'sable'}): 0, Component({'lithology': 'argile'}): 1, Component({'lithology': 'charbon'}): 2, Component({'benzene': 'vi'}): 3, Component({'benzene': 'vs'}): 4, Component({'benzene': 'vr'}): 5, Component({'lithology': 'marne'}): 6, Component({'lithology': 'dolomie'}): 7, Component({'lithology': 'schiste'}): 8, Component({'lithology': 'calcaire'}): 9}\n",
      "\n",
      "End of the process : 10 unique ID found\n"
     ]
    },
    {
     "name": "stderr",
     "output_type": "stream",
     "text": [
      "/home/su530201/PycharmProjects/GSDMA/utils/io.py:493: SAWarning: relationship 'ComponentOrm.intervals' will copy column Components.id to column Linkintervalcomponent.comp_id, which conflicts with relationship(s): 'IntervalOrm.components' (copies Components.id to Linkintervalcomponent.comp_id). If this is not the intention, consider if these relationships should be linked with back_populates, or if viewonly=True should be applied to one or more if they are read-only. For the less common case that foreign key constraints are partially overlapping, the orm.foreign() annotation can be used to isolate the columns that should be written towards.   The 'overlaps' parameter may be used to remove this warning.\n",
      "  boreholes.append(BoreholeOrm(id=bh_name))\n",
      "/home/su530201/PycharmProjects/GSDMA/utils/io.py:493: SAWarning: relationship 'ComponentOrm.intervals' will copy column Intervals.id to column Linkintervalcomponent.int_id, which conflicts with relationship(s): 'IntervalOrm.components' (copies Intervals.id to Linkintervalcomponent.int_id). If this is not the intention, consider if these relationships should be linked with back_populates, or if viewonly=True should be applied to one or more if they are read-only. For the less common case that foreign key constraints are partially overlapping, the orm.foreign() annotation can be used to isolate the columns that should be written towards.   The 'overlaps' parameter may be used to remove this warning.\n",
      "  boreholes.append(BoreholeOrm(id=bh_name))\n",
      "/home/su530201/PycharmProjects/GSDMA/utils/io.py:493: SAWarning: relationship 'ComponentOrm.component_assoc' will copy column Components.id to column Linkintervalcomponent.comp_id, which conflicts with relationship(s): 'IntervalOrm.components' (copies Components.id to Linkintervalcomponent.comp_id), 'ComponentOrm.intervals' (copies Components.id to Linkintervalcomponent.comp_id). If this is not the intention, consider if these relationships should be linked with back_populates, or if viewonly=True should be applied to one or more if they are read-only. For the less common case that foreign key constraints are partially overlapping, the orm.foreign() annotation can be used to isolate the columns that should be written towards.   The 'overlaps' parameter may be used to remove this warning.\n",
      "  boreholes.append(BoreholeOrm(id=bh_name))\n",
      "/home/su530201/PycharmProjects/GSDMA/utils/io.py:493: SAWarning: relationship 'LinkIntervalComponentOrm.component' will copy column Components.id to column Linkintervalcomponent.comp_id, which conflicts with relationship(s): 'IntervalOrm.components' (copies Components.id to Linkintervalcomponent.comp_id), 'ComponentOrm.intervals' (copies Components.id to Linkintervalcomponent.comp_id). If this is not the intention, consider if these relationships should be linked with back_populates, or if viewonly=True should be applied to one or more if they are read-only. For the less common case that foreign key constraints are partially overlapping, the orm.foreign() annotation can be used to isolate the columns that should be written towards.   The 'overlaps' parameter may be used to remove this warning.\n",
      "  boreholes.append(BoreholeOrm(id=bh_name))\n",
      "/home/su530201/PycharmProjects/GSDMA/utils/io.py:493: SAWarning: relationship 'IntervalOrm.interval_assoc' will copy column Intervals.id to column Linkintervalcomponent.int_id, which conflicts with relationship(s): 'IntervalOrm.components' (copies Intervals.id to Linkintervalcomponent.int_id), 'ComponentOrm.intervals' (copies Intervals.id to Linkintervalcomponent.int_id). If this is not the intention, consider if these relationships should be linked with back_populates, or if viewonly=True should be applied to one or more if they are read-only. For the less common case that foreign key constraints are partially overlapping, the orm.foreign() annotation can be used to isolate the columns that should be written towards.   The 'overlaps' parameter may be used to remove this warning.\n",
      "  boreholes.append(BoreholeOrm(id=bh_name))\n",
      "/home/su530201/PycharmProjects/GSDMA/utils/io.py:493: SAWarning: relationship 'LinkIntervalComponentOrm.interval' will copy column Intervals.id to column Linkintervalcomponent.int_id, which conflicts with relationship(s): 'IntervalOrm.components' (copies Intervals.id to Linkintervalcomponent.int_id), 'ComponentOrm.intervals' (copies Intervals.id to Linkintervalcomponent.int_id). If this is not the intention, consider if these relationships should be linked with back_populates, or if viewonly=True should be applied to one or more if they are read-only. For the less common case that foreign key constraints are partially overlapping, the orm.foreign() annotation can be used to isolate the columns that should be written towards.   The 'overlaps' parameter may be used to remove this warning.\n",
      "  boreholes.append(BoreholeOrm(id=bh_name))\n"
     ]
    }
   ],
   "source": [
    "boreholes, components, link_intv_comp = boreholes_from_dataframe(df[0:50], attributes=['Lithology', 'Benzene'], symbols=memoris_symbols)"
   ]
  },
  {
   "cell_type": "raw",
   "metadata": {},
   "source": [
    "boreholes[170].intervals[850].top.x, boreholes[170].intervals[850].top.y"
   ]
  },
  {
   "cell_type": "code",
   "execution_count": 19,
   "metadata": {},
   "outputs": [
    {
     "data": {
      "text/plain": [
       "[<core.orm.BoreholeOrm>(Name=BH001, Length=156.0, Diameter=0.43, Intervals=4),\n",
       " <core.orm.BoreholeOrm>(Name=BH002, Length=185.0, Diameter=0.6, Intervals=5),\n",
       " <core.orm.BoreholeOrm>(Name=BH003, Length=90.0, Diameter=0.41, Intervals=5),\n",
       " <core.orm.BoreholeOrm>(Name=BH004, Length=130.0, Diameter=0.61, Intervals=5),\n",
       " <core.orm.BoreholeOrm>(Name=BH005, Length=177.0, Diameter=0.61, Intervals=6),\n",
       " <core.orm.BoreholeOrm>(Name=BH006, Length=130.0, Diameter=0.31, Intervals=5),\n",
       " <core.orm.BoreholeOrm>(Name=BH007, Length=250.0, Diameter=0.57, Intervals=6),\n",
       " <core.orm.BoreholeOrm>(Name=BH008, Length=175.0, Diameter=0.39, Intervals=5),\n",
       " <core.orm.BoreholeOrm>(Name=BH009, Length=200.0, Diameter=0.5, Intervals=5),\n",
       " <core.orm.BoreholeOrm>(Name=BH10, Length=124.0, Diameter=0.31, Intervals=4)]"
      ]
     },
     "execution_count": 19,
     "metadata": {},
     "output_type": "execute_result"
    }
   ],
   "source": [
    "boreholes"
   ]
  },
  {
   "cell_type": "code",
   "execution_count": 20,
   "metadata": {},
   "outputs": [
    {
     "data": {
      "text/plain": [
       "{0: Component({'lithology': 'sable'}),\n",
       " 1: Component({'lithology': 'argile'}),\n",
       " 2: Component({'lithology': 'charbon'}),\n",
       " 3: Component({'benzene': 'vi'}),\n",
       " 4: Component({'benzene': 'vs'}),\n",
       " 5: Component({'benzene': 'vr'}),\n",
       " 6: Component({'lithology': 'marne'}),\n",
       " 7: Component({'lithology': 'dolomie'}),\n",
       " 8: Component({'lithology': 'schiste'}),\n",
       " 9: Component({'lithology': 'calcaire'})}"
      ]
     },
     "execution_count": 20,
     "metadata": {},
     "output_type": "execute_result"
    }
   ],
   "source": [
    "components"
   ]
  },
  {
   "cell_type": "code",
   "execution_count": 21,
   "metadata": {},
   "outputs": [
    {
     "data": {
      "text/plain": [
       "(10, 10)"
      ]
     },
     "execution_count": 21,
     "metadata": {},
     "output_type": "execute_result"
    }
   ],
   "source": [
    "len(boreholes), len(components)"
   ]
  },
  {
   "cell_type": "markdown",
   "metadata": {},
   "source": [
    "## Create a project and save data in a database"
   ]
  },
  {
   "cell_type": "code",
   "execution_count": 22,
   "metadata": {},
   "outputs": [],
   "source": [
    "remove('tmp_files/tfe_orm_db.db')"
   ]
  },
  {
   "cell_type": "code",
   "execution_count": 23,
   "metadata": {},
   "outputs": [],
   "source": [
    "engine = create_engine('sqlite:///tmp_files/tfe_orm_db.db', echo=True)"
   ]
  },
  {
   "cell_type": "code",
   "execution_count": 24,
   "metadata": {
    "scrolled": true
   },
   "outputs": [
    {
     "name": "stdout",
     "output_type": "stream",
     "text": [
      "2021-07-08 19:33:28,765 INFO sqlalchemy.engine.Engine BEGIN (implicit)\n",
      "2021-07-08 19:33:28,768 INFO sqlalchemy.engine.Engine PRAGMA main.table_info(\"Boreholes\")\n",
      "2021-07-08 19:33:28,769 INFO sqlalchemy.engine.Engine [raw sql] ()\n",
      "2021-07-08 19:33:28,771 INFO sqlalchemy.engine.Engine PRAGMA temp.table_info(\"Boreholes\")\n",
      "2021-07-08 19:33:28,772 INFO sqlalchemy.engine.Engine [raw sql] ()\n",
      "2021-07-08 19:33:28,774 INFO sqlalchemy.engine.Engine PRAGMA main.table_info(\"Positions\")\n",
      "2021-07-08 19:33:28,775 INFO sqlalchemy.engine.Engine [raw sql] ()\n",
      "2021-07-08 19:33:28,776 INFO sqlalchemy.engine.Engine PRAGMA temp.table_info(\"Positions\")\n",
      "2021-07-08 19:33:28,777 INFO sqlalchemy.engine.Engine [raw sql] ()\n",
      "2021-07-08 19:33:28,778 INFO sqlalchemy.engine.Engine PRAGMA main.table_info(\"IntervalData\")\n",
      "2021-07-08 19:33:28,780 INFO sqlalchemy.engine.Engine [raw sql] ()\n",
      "2021-07-08 19:33:28,782 INFO sqlalchemy.engine.Engine PRAGMA temp.table_info(\"IntervalData\")\n",
      "2021-07-08 19:33:28,783 INFO sqlalchemy.engine.Engine [raw sql] ()\n",
      "2021-07-08 19:33:28,787 INFO sqlalchemy.engine.Engine PRAGMA main.table_info(\"Intervals\")\n",
      "2021-07-08 19:33:28,788 INFO sqlalchemy.engine.Engine [raw sql] ()\n",
      "2021-07-08 19:33:28,790 INFO sqlalchemy.engine.Engine PRAGMA temp.table_info(\"Intervals\")\n",
      "2021-07-08 19:33:28,790 INFO sqlalchemy.engine.Engine [raw sql] ()\n",
      "2021-07-08 19:33:28,792 INFO sqlalchemy.engine.Engine PRAGMA main.table_info(\"Components\")\n",
      "2021-07-08 19:33:28,795 INFO sqlalchemy.engine.Engine [raw sql] ()\n",
      "2021-07-08 19:33:28,799 INFO sqlalchemy.engine.Engine PRAGMA temp.table_info(\"Components\")\n",
      "2021-07-08 19:33:28,800 INFO sqlalchemy.engine.Engine [raw sql] ()\n",
      "2021-07-08 19:33:28,803 INFO sqlalchemy.engine.Engine PRAGMA main.table_info(\"Linkintervalcomponent\")\n",
      "2021-07-08 19:33:28,804 INFO sqlalchemy.engine.Engine [raw sql] ()\n",
      "2021-07-08 19:33:28,805 INFO sqlalchemy.engine.Engine PRAGMA temp.table_info(\"Linkintervalcomponent\")\n",
      "2021-07-08 19:33:28,806 INFO sqlalchemy.engine.Engine [raw sql] ()\n",
      "2021-07-08 19:33:28,808 INFO sqlalchemy.engine.Engine \n",
      "CREATE TABLE \"Boreholes\" (\n",
      "\tid VARCHAR(32) NOT NULL, \n",
      "\tlength FLOAT, \n",
      "\tdiameter FLOAT, \n",
      "\tPRIMARY KEY (id)\n",
      ")\n",
      "\n",
      "\n",
      "2021-07-08 19:33:28,808 INFO sqlalchemy.engine.Engine [no key 0.00072s] ()\n",
      "2021-07-08 19:33:28,814 INFO sqlalchemy.engine.Engine \n",
      "CREATE TABLE \"Positions\" (\n",
      "\tid INTEGER NOT NULL, \n",
      "\tupper FLOAT, \n",
      "\tmiddle FLOAT, \n",
      "\tlower FLOAT, \n",
      "\tx FLOAT, \n",
      "\ty FLOAT, \n",
      "\tPRIMARY KEY (id)\n",
      ")\n",
      "\n",
      "\n",
      "2021-07-08 19:33:28,815 INFO sqlalchemy.engine.Engine [no key 0.00086s] ()\n",
      "2021-07-08 19:33:28,820 INFO sqlalchemy.engine.Engine \n",
      "CREATE TABLE \"IntervalData\" (\n",
      "\tid INTEGER NOT NULL, \n",
      "\tinterval INTEGER, \n",
      "\t\"key\" VARCHAR(32), \n",
      "\tvalue FLOAT, \n",
      "\tunits VARCHAR(32), \n",
      "\tPRIMARY KEY (id), \n",
      "\tFOREIGN KEY(interval) REFERENCES \"Intervals\" (id)\n",
      ")\n",
      "\n",
      "\n",
      "2021-07-08 19:33:28,822 INFO sqlalchemy.engine.Engine [no key 0.00194s] ()\n",
      "2021-07-08 19:33:28,827 INFO sqlalchemy.engine.Engine \n",
      "CREATE TABLE \"Intervals\" (\n",
      "\tid INTEGER NOT NULL, \n",
      "\tborehole VARCHAR(32), \n",
      "\tinterval_number INTEGER, \n",
      "\tdescription VARCHAR(32), \n",
      "\ttop_id INTEGER, \n",
      "\tbase_id INTEGER, \n",
      "\tdata_id INTEGER, \n",
      "\tPRIMARY KEY (id), \n",
      "\tFOREIGN KEY(borehole) REFERENCES \"Boreholes\" (id), \n",
      "\tFOREIGN KEY(top_id) REFERENCES \"Positions\" (id), \n",
      "\tFOREIGN KEY(base_id) REFERENCES \"Positions\" (id), \n",
      "\tFOREIGN KEY(data_id) REFERENCES \"IntervalData\" (id)\n",
      ")\n",
      "\n",
      "\n",
      "2021-07-08 19:33:28,828 INFO sqlalchemy.engine.Engine [no key 0.00080s] ()\n",
      "2021-07-08 19:33:28,832 INFO sqlalchemy.engine.Engine \n",
      "CREATE TABLE \"Components\" (\n",
      "\tid INTEGER NOT NULL, \n",
      "\tdescription VARCHAR(32), \n",
      "\tPRIMARY KEY (id)\n",
      ")\n",
      "\n",
      "\n",
      "2021-07-08 19:33:28,833 INFO sqlalchemy.engine.Engine [no key 0.00078s] ()\n",
      "2021-07-08 19:33:28,838 INFO sqlalchemy.engine.Engine \n",
      "CREATE TABLE \"Linkintervalcomponent\" (\n",
      "\tint_id INTEGER NOT NULL, \n",
      "\tcomp_id INTEGER NOT NULL, \n",
      "\textra_data VARCHAR(256), \n",
      "\tPRIMARY KEY (int_id, comp_id), \n",
      "\tFOREIGN KEY(int_id) REFERENCES \"Intervals\" (id), \n",
      "\tFOREIGN KEY(comp_id) REFERENCES \"Components\" (id)\n",
      ")\n",
      "\n",
      "\n",
      "2021-07-08 19:33:28,839 INFO sqlalchemy.engine.Engine [no key 0.00074s] ()\n",
      "2021-07-08 19:33:28,843 INFO sqlalchemy.engine.Engine COMMIT\n"
     ]
    }
   ],
   "source": [
    "Base.metadata.create_all(engine)"
   ]
  },
  {
   "cell_type": "code",
   "execution_count": 25,
   "metadata": {},
   "outputs": [],
   "source": [
    "Session = sessionmaker(bind=engine)\n",
    "session = Session()"
   ]
  },
  {
   "cell_type": "code",
   "execution_count": 26,
   "metadata": {},
   "outputs": [
    {
     "name": "stdout",
     "output_type": "stream",
     "text": [
      "2021-07-08 19:33:28,865 INFO sqlalchemy.engine.Engine BEGIN (implicit)\n",
      "2021-07-08 19:33:28,875 INFO sqlalchemy.engine.Engine SELECT \"Boreholes\".id AS \"Boreholes_id\", \"Boreholes\".length AS \"Boreholes_length\", \"Boreholes\".diameter AS \"Boreholes_diameter\" \n",
      "FROM \"Boreholes\"\n",
      "2021-07-08 19:33:28,877 INFO sqlalchemy.engine.Engine [generated in 0.00231s] ()\n",
      "2021-07-08 19:33:28,888 INFO sqlalchemy.engine.Engine INSERT INTO \"Components\" (id, description) VALUES (?, ?)\n",
      "2021-07-08 19:33:28,889 INFO sqlalchemy.engine.Engine [generated in 0.00114s] ((0, 'Sable'), (1, 'Argile'), (2, 'Charbon'), (3, 'Vi'), (4, 'Vs'), (5, 'Vr'), (6, 'Marne'), (7, 'Dolomie'), (8, 'Schiste'), (9, 'Calcaire'))\n",
      "2021-07-08 19:33:28,897 INFO sqlalchemy.engine.Engine COMMIT\n",
      "2021-07-08 19:33:28,904 INFO sqlalchemy.engine.Engine BEGIN (implicit)\n",
      "2021-07-08 19:33:28,906 INFO sqlalchemy.engine.Engine SELECT \"Boreholes\".id AS \"Boreholes_id\", \"Boreholes\".length AS \"Boreholes_length\", \"Boreholes\".diameter AS \"Boreholes_diameter\" \n",
      "FROM \"Boreholes\"\n",
      "2021-07-08 19:33:28,907 INFO sqlalchemy.engine.Engine [cached since 0.03244s ago] ()\n"
     ]
    }
   ],
   "source": [
    "p = Project(session, legend_dict={'lithology':{'legend': lithology_memoris}, 'benzene': {'legend': contamination_benzene_memoris}}, \n",
    "            lexicon=lexicon_memoris, repr_attribute='lithology')\n",
    "\n",
    "p.add_components(components)"
   ]
  },
  {
   "cell_type": "markdown",
   "metadata": {},
   "source": [
    "Add boreholes into the project"
   ]
  },
  {
   "cell_type": "code",
   "execution_count": 27,
   "metadata": {
    "scrolled": true
   },
   "outputs": [
    {
     "name": "stdout",
     "output_type": "stream",
     "text": [
      "2021-07-08 19:33:28,921 INFO sqlalchemy.engine.Engine INSERT INTO \"Boreholes\" (id, length, diameter) VALUES (?, ?, ?)\n",
      "2021-07-08 19:33:28,923 INFO sqlalchemy.engine.Engine [generated in 0.00223s] ('BH001', 156.0, 0.43)\n",
      "2021-07-08 19:33:28,927 INFO sqlalchemy.engine.Engine INSERT INTO \"Positions\" (id, upper, middle, lower, x, y) VALUES (?, ?, ?, ?, ?, ?)\n",
      "2021-07-08 19:33:28,928 INFO sqlalchemy.engine.Engine [generated in 0.00159s] ((0, 101.0, 101.0, 101.0, 152600.0, 121039.0), (1, 62.0, 62.0, 62.0, 152600.0, 121039.0), (2, 62.0, 62.0, 62.0, 152600.0, 121039.0), (3, 23.0, 23.0, 23.0, 152600.0, 121039.0), (4, 23.0, 23.0, 23.0, 152600.0, 121039.0), (5, -16.0, -16.0, -16.0, 152600.0, 121039.0), (6, -16.0, -16.0, -16.0, 152600.0, 121039.0), (7, -55.0, -55.0, -55.0, 152600.0, 121039.0))\n",
      "2021-07-08 19:33:28,933 INFO sqlalchemy.engine.Engine INSERT INTO \"Intervals\" (id, borehole, interval_number, description, top_id, base_id, data_id) VALUES (?, ?, ?, ?, ?, ?, ?)\n",
      "2021-07-08 19:33:28,934 INFO sqlalchemy.engine.Engine [generated in 0.00137s] ((0, 'BH001', 0, 'VI', 0, 1, None), (1, 'BH001', 1, 'VS', 2, 3, None), (2, 'BH001', 2, 'VR', 4, 5, None), (3, 'BH001', 3, 'VS', 6, 7, None))\n",
      "2021-07-08 19:33:28,941 INFO sqlalchemy.engine.Engine COMMIT\n",
      "2021-07-08 19:33:28,947 INFO sqlalchemy.engine.Engine BEGIN (implicit)\n",
      "2021-07-08 19:33:28,949 INFO sqlalchemy.engine.Engine SELECT \"Boreholes\".id AS \"Boreholes_id\", \"Boreholes\".length AS \"Boreholes_length\", \"Boreholes\".diameter AS \"Boreholes_diameter\" \n",
      "FROM \"Boreholes\"\n",
      "2021-07-08 19:33:28,952 INFO sqlalchemy.engine.Engine [cached since 0.07787s ago] ()\n",
      "2021-07-08 19:33:28,965 INFO sqlalchemy.engine.Engine SELECT \"Intervals\".id AS \"Intervals_id\", \"Intervals\".borehole AS \"Intervals_borehole\", \"Intervals\".interval_number AS \"Intervals_interval_number\", \"Intervals\".description AS \"Intervals_description\", \"Intervals\".top_id AS \"Intervals_top_id\", \"Intervals\".base_id AS \"Intervals_base_id\", \"Intervals\".data_id AS \"Intervals_data_id\" \n",
      "FROM \"Intervals\" \n",
      "WHERE ? = \"Intervals\".borehole\n",
      "2021-07-08 19:33:28,970 INFO sqlalchemy.engine.Engine [generated in 0.00555s] ('BH001',)\n",
      "2021-07-08 19:33:28,979 INFO sqlalchemy.engine.Engine SELECT \"Positions\".id AS \"Positions_id\", \"Positions\".upper AS \"Positions_upper\", \"Positions\".middle AS \"Positions_middle\", \"Positions\".lower AS \"Positions_lower\", \"Positions\".x AS \"Positions_x\", \"Positions\".y AS \"Positions_y\" \n",
      "FROM \"Positions\" \n",
      "WHERE \"Positions\".id = ?\n",
      "2021-07-08 19:33:28,981 INFO sqlalchemy.engine.Engine [generated in 0.00169s] (0,)\n",
      "2021-07-08 19:33:28,987 INFO sqlalchemy.engine.Engine SELECT \"Positions\".id AS \"Positions_id\", \"Positions\".upper AS \"Positions_upper\", \"Positions\".middle AS \"Positions_middle\", \"Positions\".lower AS \"Positions_lower\", \"Positions\".x AS \"Positions_x\", \"Positions\".y AS \"Positions_y\" \n",
      "FROM \"Positions\" \n",
      "WHERE \"Positions\".id = ?\n",
      "2021-07-08 19:33:28,988 INFO sqlalchemy.engine.Engine [generated in 0.00119s] (1,)\n",
      "2021-07-08 19:33:28,990 INFO sqlalchemy.engine.Engine SELECT \"Positions\".id AS \"Positions_id\", \"Positions\".upper AS \"Positions_upper\", \"Positions\".middle AS \"Positions_middle\", \"Positions\".lower AS \"Positions_lower\", \"Positions\".x AS \"Positions_x\", \"Positions\".y AS \"Positions_y\" \n",
      "FROM \"Positions\" \n",
      "WHERE \"Positions\".id = ?\n",
      "2021-07-08 19:33:28,992 INFO sqlalchemy.engine.Engine [cached since 0.01282s ago] (2,)\n",
      "2021-07-08 19:33:28,995 INFO sqlalchemy.engine.Engine SELECT \"Positions\".id AS \"Positions_id\", \"Positions\".upper AS \"Positions_upper\", \"Positions\".middle AS \"Positions_middle\", \"Positions\".lower AS \"Positions_lower\", \"Positions\".x AS \"Positions_x\", \"Positions\".y AS \"Positions_y\" \n",
      "FROM \"Positions\" \n",
      "WHERE \"Positions\".id = ?\n",
      "2021-07-08 19:33:28,998 INFO sqlalchemy.engine.Engine [cached since 0.01145s ago] (3,)\n",
      "2021-07-08 19:33:29,004 INFO sqlalchemy.engine.Engine SELECT \"Positions\".id AS \"Positions_id\", \"Positions\".upper AS \"Positions_upper\", \"Positions\".middle AS \"Positions_middle\", \"Positions\".lower AS \"Positions_lower\", \"Positions\".x AS \"Positions_x\", \"Positions\".y AS \"Positions_y\" \n",
      "FROM \"Positions\" \n",
      "WHERE \"Positions\".id = ?\n",
      "2021-07-08 19:33:29,008 INFO sqlalchemy.engine.Engine [cached since 0.0285s ago] (4,)\n",
      "2021-07-08 19:33:29,012 INFO sqlalchemy.engine.Engine SELECT \"Positions\".id AS \"Positions_id\", \"Positions\".upper AS \"Positions_upper\", \"Positions\".middle AS \"Positions_middle\", \"Positions\".lower AS \"Positions_lower\", \"Positions\".x AS \"Positions_x\", \"Positions\".y AS \"Positions_y\" \n",
      "FROM \"Positions\" \n",
      "WHERE \"Positions\".id = ?\n",
      "2021-07-08 19:33:29,014 INFO sqlalchemy.engine.Engine [cached since 0.02714s ago] (5,)\n",
      "2021-07-08 19:33:29,021 INFO sqlalchemy.engine.Engine SELECT \"Positions\".id AS \"Positions_id\", \"Positions\".upper AS \"Positions_upper\", \"Positions\".middle AS \"Positions_middle\", \"Positions\".lower AS \"Positions_lower\", \"Positions\".x AS \"Positions_x\", \"Positions\".y AS \"Positions_y\" \n",
      "FROM \"Positions\" \n",
      "WHERE \"Positions\".id = ?\n",
      "2021-07-08 19:33:29,022 INFO sqlalchemy.engine.Engine [cached since 0.04296s ago] (6,)\n",
      "2021-07-08 19:33:29,025 INFO sqlalchemy.engine.Engine SELECT \"Positions\".id AS \"Positions_id\", \"Positions\".upper AS \"Positions_upper\", \"Positions\".middle AS \"Positions_middle\", \"Positions\".lower AS \"Positions_lower\", \"Positions\".x AS \"Positions_x\", \"Positions\".y AS \"Positions_y\" \n",
      "FROM \"Positions\" \n",
      "WHERE \"Positions\".id = ?\n",
      "2021-07-08 19:33:29,026 INFO sqlalchemy.engine.Engine [cached since 0.03884s ago] (7,)\n",
      "Borehole geometry created successfully !\n",
      "2021-07-08 19:33:29,068 INFO sqlalchemy.engine.Engine UPDATE \"Boreholes\" SET length=? WHERE \"Boreholes\".id = ?\n",
      "2021-07-08 19:33:29,070 INFO sqlalchemy.engine.Engine [generated in 0.00157s] (62.0, 'BH001')\n",
      "2021-07-08 19:33:29,072 INFO sqlalchemy.engine.Engine INSERT INTO \"Boreholes\" (id, length, diameter) VALUES (?, ?, ?)\n",
      "2021-07-08 19:33:29,074 INFO sqlalchemy.engine.Engine [cached since 0.153s ago] ('BH002', 185.0, 0.6)\n",
      "2021-07-08 19:33:29,077 INFO sqlalchemy.engine.Engine INSERT INTO \"Positions\" (id, upper, middle, lower, x, y) VALUES (?, ?, ?, ?, ?, ?)\n",
      "2021-07-08 19:33:29,078 INFO sqlalchemy.engine.Engine [cached since 0.1508s ago] ((8, 103.0, 103.0, 103.0, 152819.0, 121586.0), (9, 66.0, 66.0, 66.0, 152819.0, 121586.0), (10, 66.0, 66.0, 66.0, 152819.0, 121586.0), (11, 29.0, 29.0, 29.0, 152819.0, 121586.0), (12, 29.0, 29.0, 29.0, 152819.0, 121586.0), (13, -8.0, -8.0, -8.0, 152819.0, 121586.0), (14, -8.0, -8.0, -8.0, 152819.0, 121586.0), (15, -45.0, -45.0, -45.0, 152819.0, 121586.0), (16, -45.0, -45.0, -45.0, 152819.0, 121586.0), (17, -82.0, -82.0, -82.0, 152819.0, 121586.0))\n",
      "2021-07-08 19:33:29,084 INFO sqlalchemy.engine.Engine INSERT INTO \"Intervals\" (id, borehole, interval_number, description, top_id, base_id, data_id) VALUES (?, ?, ?, ?, ?, ?, ?)\n",
      "2021-07-08 19:33:29,087 INFO sqlalchemy.engine.Engine [cached since 0.1539s ago] ((4, 'BH002', 0, 'VS', 8, 9, None), (5, 'BH002', 1, 'VR', 10, 11, None), (6, 'BH002', 2, 'VS', 12, 13, None), (7, 'BH002', 3, 'VR', 14, 15, None), (8, 'BH002', 4, 'VS', 16, 17, None))\n",
      "2021-07-08 19:33:29,090 INFO sqlalchemy.engine.Engine COMMIT\n",
      "2021-07-08 19:33:29,095 INFO sqlalchemy.engine.Engine BEGIN (implicit)\n",
      "2021-07-08 19:33:29,097 INFO sqlalchemy.engine.Engine SELECT \"Boreholes\".id AS \"Boreholes_id\", \"Boreholes\".length AS \"Boreholes_length\", \"Boreholes\".diameter AS \"Boreholes_diameter\" \n",
      "FROM \"Boreholes\"\n",
      "2021-07-08 19:33:29,099 INFO sqlalchemy.engine.Engine [cached since 0.2249s ago] ()\n",
      "2021-07-08 19:33:29,105 INFO sqlalchemy.engine.Engine SELECT \"Intervals\".id AS \"Intervals_id\", \"Intervals\".borehole AS \"Intervals_borehole\", \"Intervals\".interval_number AS \"Intervals_interval_number\", \"Intervals\".description AS \"Intervals_description\", \"Intervals\".top_id AS \"Intervals_top_id\", \"Intervals\".base_id AS \"Intervals_base_id\", \"Intervals\".data_id AS \"Intervals_data_id\" \n",
      "FROM \"Intervals\" \n",
      "WHERE ? = \"Intervals\".borehole\n",
      "2021-07-08 19:33:29,107 INFO sqlalchemy.engine.Engine [cached since 0.1422s ago] ('BH002',)\n",
      "2021-07-08 19:33:29,110 INFO sqlalchemy.engine.Engine SELECT \"Positions\".id AS \"Positions_id\", \"Positions\".upper AS \"Positions_upper\", \"Positions\".middle AS \"Positions_middle\", \"Positions\".lower AS \"Positions_lower\", \"Positions\".x AS \"Positions_x\", \"Positions\".y AS \"Positions_y\" \n",
      "FROM \"Positions\" \n",
      "WHERE \"Positions\".id = ?\n"
     ]
    },
    {
     "name": "stdout",
     "output_type": "stream",
     "text": [
      "2021-07-08 19:33:29,112 INFO sqlalchemy.engine.Engine [cached since 0.1333s ago] (8,)\n",
      "2021-07-08 19:33:29,119 INFO sqlalchemy.engine.Engine SELECT \"Positions\".id AS \"Positions_id\", \"Positions\".upper AS \"Positions_upper\", \"Positions\".middle AS \"Positions_middle\", \"Positions\".lower AS \"Positions_lower\", \"Positions\".x AS \"Positions_x\", \"Positions\".y AS \"Positions_y\" \n",
      "FROM \"Positions\" \n",
      "WHERE \"Positions\".id = ?\n",
      "2021-07-08 19:33:29,122 INFO sqlalchemy.engine.Engine [cached since 0.135s ago] (9,)\n",
      "2021-07-08 19:33:29,127 INFO sqlalchemy.engine.Engine SELECT \"Positions\".id AS \"Positions_id\", \"Positions\".upper AS \"Positions_upper\", \"Positions\".middle AS \"Positions_middle\", \"Positions\".lower AS \"Positions_lower\", \"Positions\".x AS \"Positions_x\", \"Positions\".y AS \"Positions_y\" \n",
      "FROM \"Positions\" \n",
      "WHERE \"Positions\".id = ?\n",
      "2021-07-08 19:33:29,129 INFO sqlalchemy.engine.Engine [cached since 0.1495s ago] (10,)\n",
      "2021-07-08 19:33:29,134 INFO sqlalchemy.engine.Engine SELECT \"Positions\".id AS \"Positions_id\", \"Positions\".upper AS \"Positions_upper\", \"Positions\".middle AS \"Positions_middle\", \"Positions\".lower AS \"Positions_lower\", \"Positions\".x AS \"Positions_x\", \"Positions\".y AS \"Positions_y\" \n",
      "FROM \"Positions\" \n",
      "WHERE \"Positions\".id = ?\n",
      "2021-07-08 19:33:29,138 INFO sqlalchemy.engine.Engine [cached since 0.1515s ago] (11,)\n",
      "2021-07-08 19:33:29,150 INFO sqlalchemy.engine.Engine SELECT \"Positions\".id AS \"Positions_id\", \"Positions\".upper AS \"Positions_upper\", \"Positions\".middle AS \"Positions_middle\", \"Positions\".lower AS \"Positions_lower\", \"Positions\".x AS \"Positions_x\", \"Positions\".y AS \"Positions_y\" \n",
      "FROM \"Positions\" \n",
      "WHERE \"Positions\".id = ?\n",
      "2021-07-08 19:33:29,153 INFO sqlalchemy.engine.Engine [cached since 0.1738s ago] (12,)\n",
      "2021-07-08 19:33:29,158 INFO sqlalchemy.engine.Engine SELECT \"Positions\".id AS \"Positions_id\", \"Positions\".upper AS \"Positions_upper\", \"Positions\".middle AS \"Positions_middle\", \"Positions\".lower AS \"Positions_lower\", \"Positions\".x AS \"Positions_x\", \"Positions\".y AS \"Positions_y\" \n",
      "FROM \"Positions\" \n",
      "WHERE \"Positions\".id = ?\n",
      "2021-07-08 19:33:29,159 INFO sqlalchemy.engine.Engine [cached since 0.1722s ago] (13,)\n",
      "2021-07-08 19:33:29,165 INFO sqlalchemy.engine.Engine SELECT \"Positions\".id AS \"Positions_id\", \"Positions\".upper AS \"Positions_upper\", \"Positions\".middle AS \"Positions_middle\", \"Positions\".lower AS \"Positions_lower\", \"Positions\".x AS \"Positions_x\", \"Positions\".y AS \"Positions_y\" \n",
      "FROM \"Positions\" \n",
      "WHERE \"Positions\".id = ?\n",
      "2021-07-08 19:33:29,168 INFO sqlalchemy.engine.Engine [cached since 0.1894s ago] (14,)\n",
      "2021-07-08 19:33:29,171 INFO sqlalchemy.engine.Engine SELECT \"Positions\".id AS \"Positions_id\", \"Positions\".upper AS \"Positions_upper\", \"Positions\".middle AS \"Positions_middle\", \"Positions\".lower AS \"Positions_lower\", \"Positions\".x AS \"Positions_x\", \"Positions\".y AS \"Positions_y\" \n",
      "FROM \"Positions\" \n",
      "WHERE \"Positions\".id = ?\n",
      "2021-07-08 19:33:29,172 INFO sqlalchemy.engine.Engine [cached since 0.185s ago] (15,)\n",
      "2021-07-08 19:33:29,176 INFO sqlalchemy.engine.Engine SELECT \"Positions\".id AS \"Positions_id\", \"Positions\".upper AS \"Positions_upper\", \"Positions\".middle AS \"Positions_middle\", \"Positions\".lower AS \"Positions_lower\", \"Positions\".x AS \"Positions_x\", \"Positions\".y AS \"Positions_y\" \n",
      "FROM \"Positions\" \n",
      "WHERE \"Positions\".id = ?\n",
      "2021-07-08 19:33:29,177 INFO sqlalchemy.engine.Engine [cached since 0.1984s ago] (16,)\n",
      "2021-07-08 19:33:29,180 INFO sqlalchemy.engine.Engine SELECT \"Positions\".id AS \"Positions_id\", \"Positions\".upper AS \"Positions_upper\", \"Positions\".middle AS \"Positions_middle\", \"Positions\".lower AS \"Positions_lower\", \"Positions\".x AS \"Positions_x\", \"Positions\".y AS \"Positions_y\" \n",
      "FROM \"Positions\" \n",
      "WHERE \"Positions\".id = ?\n",
      "2021-07-08 19:33:29,181 INFO sqlalchemy.engine.Engine [cached since 0.1944s ago] (17,)\n",
      "Borehole geometry created successfully !\n",
      "2021-07-08 19:33:29,213 INFO sqlalchemy.engine.Engine UPDATE \"Boreholes\" SET length=? WHERE \"Boreholes\".id = ?\n",
      "2021-07-08 19:33:29,217 INFO sqlalchemy.engine.Engine [cached since 0.1485s ago] (66.0, 'BH002')\n",
      "2021-07-08 19:33:29,220 INFO sqlalchemy.engine.Engine INSERT INTO \"Boreholes\" (id, length, diameter) VALUES (?, ?, ?)\n",
      "2021-07-08 19:33:29,222 INFO sqlalchemy.engine.Engine [cached since 0.3012s ago] ('BH003', 90.0, 0.41)\n",
      "2021-07-08 19:33:29,226 INFO sqlalchemy.engine.Engine INSERT INTO \"Positions\" (id, upper, middle, lower, x, y) VALUES (?, ?, ?, ?, ?, ?)\n",
      "2021-07-08 19:33:29,227 INFO sqlalchemy.engine.Engine [cached since 0.3005s ago] ((18, 103.0, 103.0, 103.0, 152922.0, 121313.0), (19, 85.0, 85.0, 85.0, 152922.0, 121313.0), (20, 85.0, 85.0, 85.0, 152922.0, 121313.0), (21, 67.0, 67.0, 67.0, 152922.0, 121313.0), (22, 67.0, 67.0, 67.0, 152922.0, 121313.0), (23, 49.0, 49.0, 49.0, 152922.0, 121313.0), (24, 49.0, 49.0, 49.0, 152922.0, 121313.0), (25, 31.0, 31.0, 31.0, 152922.0, 121313.0), (26, 31.0, 31.0, 31.0, 152922.0, 121313.0), (27, 13.0, 13.0, 13.0, 152922.0, 121313.0))\n",
      "2021-07-08 19:33:29,230 INFO sqlalchemy.engine.Engine INSERT INTO \"Intervals\" (id, borehole, interval_number, description, top_id, base_id, data_id) VALUES (?, ?, ?, ?, ?, ?, ?)\n",
      "2021-07-08 19:33:29,231 INFO sqlalchemy.engine.Engine [cached since 0.2983s ago] ((9, 'BH003', 0, 'VS', 18, 19, None), (10, 'BH003', 1, 'VR', 20, 21, None), (11, 'BH003', 2, 'VR', 22, 23, None), (12, 'BH003', 3, 'VS', 24, 25, None), (13, 'BH003', 4, 'VR', 26, 27, None))\n",
      "2021-07-08 19:33:29,234 INFO sqlalchemy.engine.Engine COMMIT\n",
      "2021-07-08 19:33:29,238 INFO sqlalchemy.engine.Engine BEGIN (implicit)\n",
      "2021-07-08 19:33:29,239 INFO sqlalchemy.engine.Engine SELECT \"Boreholes\".id AS \"Boreholes_id\", \"Boreholes\".length AS \"Boreholes_length\", \"Boreholes\".diameter AS \"Boreholes_diameter\" \n",
      "FROM \"Boreholes\"\n",
      "2021-07-08 19:33:29,240 INFO sqlalchemy.engine.Engine [cached since 0.3655s ago] ()\n",
      "2021-07-08 19:33:29,242 INFO sqlalchemy.engine.Engine SELECT \"Intervals\".id AS \"Intervals_id\", \"Intervals\".borehole AS \"Intervals_borehole\", \"Intervals\".interval_number AS \"Intervals_interval_number\", \"Intervals\".description AS \"Intervals_description\", \"Intervals\".top_id AS \"Intervals_top_id\", \"Intervals\".base_id AS \"Intervals_base_id\", \"Intervals\".data_id AS \"Intervals_data_id\" \n",
      "FROM \"Intervals\" \n",
      "WHERE ? = \"Intervals\".borehole\n",
      "2021-07-08 19:33:29,243 INFO sqlalchemy.engine.Engine [cached since 0.278s ago] ('BH003',)\n",
      "2021-07-08 19:33:29,245 INFO sqlalchemy.engine.Engine SELECT \"Positions\".id AS \"Positions_id\", \"Positions\".upper AS \"Positions_upper\", \"Positions\".middle AS \"Positions_middle\", \"Positions\".lower AS \"Positions_lower\", \"Positions\".x AS \"Positions_x\", \"Positions\".y AS \"Positions_y\" \n",
      "FROM \"Positions\" \n",
      "WHERE \"Positions\".id = ?\n",
      "2021-07-08 19:33:29,247 INFO sqlalchemy.engine.Engine [cached since 0.2675s ago] (18,)\n",
      "2021-07-08 19:33:29,249 INFO sqlalchemy.engine.Engine SELECT \"Positions\".id AS \"Positions_id\", \"Positions\".upper AS \"Positions_upper\", \"Positions\".middle AS \"Positions_middle\", \"Positions\".lower AS \"Positions_lower\", \"Positions\".x AS \"Positions_x\", \"Positions\".y AS \"Positions_y\" \n",
      "FROM \"Positions\" \n",
      "WHERE \"Positions\".id = ?\n",
      "2021-07-08 19:33:29,251 INFO sqlalchemy.engine.Engine [cached since 0.2641s ago] (19,)\n",
      "2021-07-08 19:33:29,255 INFO sqlalchemy.engine.Engine SELECT \"Positions\".id AS \"Positions_id\", \"Positions\".upper AS \"Positions_upper\", \"Positions\".middle AS \"Positions_middle\", \"Positions\".lower AS \"Positions_lower\", \"Positions\".x AS \"Positions_x\", \"Positions\".y AS \"Positions_y\" \n",
      "FROM \"Positions\" \n",
      "WHERE \"Positions\".id = ?\n",
      "2021-07-08 19:33:29,256 INFO sqlalchemy.engine.Engine [cached since 0.2767s ago] (20,)\n",
      "2021-07-08 19:33:29,258 INFO sqlalchemy.engine.Engine SELECT \"Positions\".id AS \"Positions_id\", \"Positions\".upper AS \"Positions_upper\", \"Positions\".middle AS \"Positions_middle\", \"Positions\".lower AS \"Positions_lower\", \"Positions\".x AS \"Positions_x\", \"Positions\".y AS \"Positions_y\" \n",
      "FROM \"Positions\" \n",
      "WHERE \"Positions\".id = ?\n",
      "2021-07-08 19:33:29,266 INFO sqlalchemy.engine.Engine [cached since 0.2793s ago] (21,)\n",
      "2021-07-08 19:33:29,272 INFO sqlalchemy.engine.Engine SELECT \"Positions\".id AS \"Positions_id\", \"Positions\".upper AS \"Positions_upper\", \"Positions\".middle AS \"Positions_middle\", \"Positions\".lower AS \"Positions_lower\", \"Positions\".x AS \"Positions_x\", \"Positions\".y AS \"Positions_y\" \n",
      "FROM \"Positions\" \n",
      "WHERE \"Positions\".id = ?\n"
     ]
    },
    {
     "name": "stdout",
     "output_type": "stream",
     "text": [
      "2021-07-08 19:33:29,274 INFO sqlalchemy.engine.Engine [cached since 0.2948s ago] (22,)\n",
      "2021-07-08 19:33:29,276 INFO sqlalchemy.engine.Engine SELECT \"Positions\".id AS \"Positions_id\", \"Positions\".upper AS \"Positions_upper\", \"Positions\".middle AS \"Positions_middle\", \"Positions\".lower AS \"Positions_lower\", \"Positions\".x AS \"Positions_x\", \"Positions\".y AS \"Positions_y\" \n",
      "FROM \"Positions\" \n",
      "WHERE \"Positions\".id = ?\n",
      "2021-07-08 19:33:29,277 INFO sqlalchemy.engine.Engine [cached since 0.2905s ago] (23,)\n",
      "2021-07-08 19:33:29,281 INFO sqlalchemy.engine.Engine SELECT \"Positions\".id AS \"Positions_id\", \"Positions\".upper AS \"Positions_upper\", \"Positions\".middle AS \"Positions_middle\", \"Positions\".lower AS \"Positions_lower\", \"Positions\".x AS \"Positions_x\", \"Positions\".y AS \"Positions_y\" \n",
      "FROM \"Positions\" \n",
      "WHERE \"Positions\".id = ?\n",
      "2021-07-08 19:33:29,283 INFO sqlalchemy.engine.Engine [cached since 0.304s ago] (24,)\n",
      "2021-07-08 19:33:29,286 INFO sqlalchemy.engine.Engine SELECT \"Positions\".id AS \"Positions_id\", \"Positions\".upper AS \"Positions_upper\", \"Positions\".middle AS \"Positions_middle\", \"Positions\".lower AS \"Positions_lower\", \"Positions\".x AS \"Positions_x\", \"Positions\".y AS \"Positions_y\" \n",
      "FROM \"Positions\" \n",
      "WHERE \"Positions\".id = ?\n",
      "2021-07-08 19:33:29,288 INFO sqlalchemy.engine.Engine [cached since 0.3012s ago] (25,)\n",
      "2021-07-08 19:33:29,293 INFO sqlalchemy.engine.Engine SELECT \"Positions\".id AS \"Positions_id\", \"Positions\".upper AS \"Positions_upper\", \"Positions\".middle AS \"Positions_middle\", \"Positions\".lower AS \"Positions_lower\", \"Positions\".x AS \"Positions_x\", \"Positions\".y AS \"Positions_y\" \n",
      "FROM \"Positions\" \n",
      "WHERE \"Positions\".id = ?\n",
      "2021-07-08 19:33:29,294 INFO sqlalchemy.engine.Engine [cached since 0.3152s ago] (26,)\n",
      "2021-07-08 19:33:29,296 INFO sqlalchemy.engine.Engine SELECT \"Positions\".id AS \"Positions_id\", \"Positions\".upper AS \"Positions_upper\", \"Positions\".middle AS \"Positions_middle\", \"Positions\".lower AS \"Positions_lower\", \"Positions\".x AS \"Positions_x\", \"Positions\".y AS \"Positions_y\" \n",
      "FROM \"Positions\" \n",
      "WHERE \"Positions\".id = ?\n",
      "2021-07-08 19:33:29,297 INFO sqlalchemy.engine.Engine [cached since 0.3101s ago] (27,)\n",
      "Borehole geometry created successfully !\n",
      "2021-07-08 19:33:29,312 INFO sqlalchemy.engine.Engine UPDATE \"Boreholes\" SET length=? WHERE \"Boreholes\".id = ?\n",
      "2021-07-08 19:33:29,314 INFO sqlalchemy.engine.Engine [cached since 0.2461s ago] (85.0, 'BH003')\n",
      "2021-07-08 19:33:29,316 INFO sqlalchemy.engine.Engine INSERT INTO \"Boreholes\" (id, length, diameter) VALUES (?, ?, ?)\n",
      "2021-07-08 19:33:29,317 INFO sqlalchemy.engine.Engine [cached since 0.3965s ago] ('BH004', 130.0, 0.61)\n",
      "2021-07-08 19:33:29,320 INFO sqlalchemy.engine.Engine INSERT INTO \"Positions\" (id, upper, middle, lower, x, y) VALUES (?, ?, ?, ?, ?, ?)\n",
      "2021-07-08 19:33:29,321 INFO sqlalchemy.engine.Engine [cached since 0.3941s ago] ((28, 101.0, 101.0, 101.0, 152766.0, 121494.0), (29, 75.0, 75.0, 75.0, 152766.0, 121494.0), (30, 75.0, 75.0, 75.0, 152766.0, 121494.0), (31, 49.0, 49.0, 49.0, 152766.0, 121494.0), (32, 49.0, 49.0, 49.0, 152766.0, 121494.0), (33, 23.0, 23.0, 23.0, 152766.0, 121494.0), (34, 23.0, 23.0, 23.0, 152766.0, 121494.0), (35, -3.0, -3.0, -3.0, 152766.0, 121494.0), (36, -3.0, -3.0, -3.0, 152766.0, 121494.0), (37, -29.0, -29.0, -29.0, 152766.0, 121494.0))\n",
      "2021-07-08 19:33:29,323 INFO sqlalchemy.engine.Engine INSERT INTO \"Intervals\" (id, borehole, interval_number, description, top_id, base_id, data_id) VALUES (?, ?, ?, ?, ?, ?, ?)\n",
      "2021-07-08 19:33:29,324 INFO sqlalchemy.engine.Engine [cached since 0.3914s ago] ((14, 'BH004', 0, 'VS', 28, 29, None), (15, 'BH004', 1, 'VS', 30, 31, None), (16, 'BH004', 2, 'VS', 32, 33, None), (17, 'BH004', 3, 'VR', 34, 35, None), (18, 'BH004', 4, 'VS', 36, 37, None))\n",
      "2021-07-08 19:33:29,327 INFO sqlalchemy.engine.Engine COMMIT\n",
      "2021-07-08 19:33:29,335 INFO sqlalchemy.engine.Engine BEGIN (implicit)\n",
      "2021-07-08 19:33:29,336 INFO sqlalchemy.engine.Engine SELECT \"Boreholes\".id AS \"Boreholes_id\", \"Boreholes\".length AS \"Boreholes_length\", \"Boreholes\".diameter AS \"Boreholes_diameter\" \n",
      "FROM \"Boreholes\"\n",
      "2021-07-08 19:33:29,338 INFO sqlalchemy.engine.Engine [cached since 0.4635s ago] ()\n",
      "2021-07-08 19:33:29,341 INFO sqlalchemy.engine.Engine SELECT \"Intervals\".id AS \"Intervals_id\", \"Intervals\".borehole AS \"Intervals_borehole\", \"Intervals\".interval_number AS \"Intervals_interval_number\", \"Intervals\".description AS \"Intervals_description\", \"Intervals\".top_id AS \"Intervals_top_id\", \"Intervals\".base_id AS \"Intervals_base_id\", \"Intervals\".data_id AS \"Intervals_data_id\" \n",
      "FROM \"Intervals\" \n",
      "WHERE ? = \"Intervals\".borehole\n",
      "2021-07-08 19:33:29,342 INFO sqlalchemy.engine.Engine [cached since 0.3772s ago] ('BH004',)\n",
      "2021-07-08 19:33:29,344 INFO sqlalchemy.engine.Engine SELECT \"Positions\".id AS \"Positions_id\", \"Positions\".upper AS \"Positions_upper\", \"Positions\".middle AS \"Positions_middle\", \"Positions\".lower AS \"Positions_lower\", \"Positions\".x AS \"Positions_x\", \"Positions\".y AS \"Positions_y\" \n",
      "FROM \"Positions\" \n",
      "WHERE \"Positions\".id = ?\n",
      "2021-07-08 19:33:29,346 INFO sqlalchemy.engine.Engine [cached since 0.3673s ago] (28,)\n",
      "2021-07-08 19:33:29,349 INFO sqlalchemy.engine.Engine SELECT \"Positions\".id AS \"Positions_id\", \"Positions\".upper AS \"Positions_upper\", \"Positions\".middle AS \"Positions_middle\", \"Positions\".lower AS \"Positions_lower\", \"Positions\".x AS \"Positions_x\", \"Positions\".y AS \"Positions_y\" \n",
      "FROM \"Positions\" \n",
      "WHERE \"Positions\".id = ?\n",
      "2021-07-08 19:33:29,350 INFO sqlalchemy.engine.Engine [cached since 0.3632s ago] (29,)\n",
      "2021-07-08 19:33:29,355 INFO sqlalchemy.engine.Engine SELECT \"Positions\".id AS \"Positions_id\", \"Positions\".upper AS \"Positions_upper\", \"Positions\".middle AS \"Positions_middle\", \"Positions\".lower AS \"Positions_lower\", \"Positions\".x AS \"Positions_x\", \"Positions\".y AS \"Positions_y\" \n",
      "FROM \"Positions\" \n",
      "WHERE \"Positions\".id = ?\n",
      "2021-07-08 19:33:29,357 INFO sqlalchemy.engine.Engine [cached since 0.3781s ago] (30,)\n",
      "2021-07-08 19:33:29,359 INFO sqlalchemy.engine.Engine SELECT \"Positions\".id AS \"Positions_id\", \"Positions\".upper AS \"Positions_upper\", \"Positions\".middle AS \"Positions_middle\", \"Positions\".lower AS \"Positions_lower\", \"Positions\".x AS \"Positions_x\", \"Positions\".y AS \"Positions_y\" \n",
      "FROM \"Positions\" \n",
      "WHERE \"Positions\".id = ?\n",
      "2021-07-08 19:33:29,360 INFO sqlalchemy.engine.Engine [cached since 0.3733s ago] (31,)\n",
      "2021-07-08 19:33:29,364 INFO sqlalchemy.engine.Engine SELECT \"Positions\".id AS \"Positions_id\", \"Positions\".upper AS \"Positions_upper\", \"Positions\".middle AS \"Positions_middle\", \"Positions\".lower AS \"Positions_lower\", \"Positions\".x AS \"Positions_x\", \"Positions\".y AS \"Positions_y\" \n",
      "FROM \"Positions\" \n",
      "WHERE \"Positions\".id = ?\n",
      "2021-07-08 19:33:29,365 INFO sqlalchemy.engine.Engine [cached since 0.3858s ago] (32,)\n",
      "2021-07-08 19:33:29,368 INFO sqlalchemy.engine.Engine SELECT \"Positions\".id AS \"Positions_id\", \"Positions\".upper AS \"Positions_upper\", \"Positions\".middle AS \"Positions_middle\", \"Positions\".lower AS \"Positions_lower\", \"Positions\".x AS \"Positions_x\", \"Positions\".y AS \"Positions_y\" \n",
      "FROM \"Positions\" \n",
      "WHERE \"Positions\".id = ?\n",
      "2021-07-08 19:33:29,369 INFO sqlalchemy.engine.Engine [cached since 0.3826s ago] (33,)\n",
      "2021-07-08 19:33:29,373 INFO sqlalchemy.engine.Engine SELECT \"Positions\".id AS \"Positions_id\", \"Positions\".upper AS \"Positions_upper\", \"Positions\".middle AS \"Positions_middle\", \"Positions\".lower AS \"Positions_lower\", \"Positions\".x AS \"Positions_x\", \"Positions\".y AS \"Positions_y\" \n",
      "FROM \"Positions\" \n",
      "WHERE \"Positions\".id = ?\n",
      "2021-07-08 19:33:29,374 INFO sqlalchemy.engine.Engine [cached since 0.3951s ago] (34,)\n",
      "2021-07-08 19:33:29,376 INFO sqlalchemy.engine.Engine SELECT \"Positions\".id AS \"Positions_id\", \"Positions\".upper AS \"Positions_upper\", \"Positions\".middle AS \"Positions_middle\", \"Positions\".lower AS \"Positions_lower\", \"Positions\".x AS \"Positions_x\", \"Positions\".y AS \"Positions_y\" \n",
      "FROM \"Positions\" \n",
      "WHERE \"Positions\".id = ?\n",
      "2021-07-08 19:33:29,377 INFO sqlalchemy.engine.Engine [cached since 0.39s ago] (35,)\n",
      "2021-07-08 19:33:29,380 INFO sqlalchemy.engine.Engine SELECT \"Positions\".id AS \"Positions_id\", \"Positions\".upper AS \"Positions_upper\", \"Positions\".middle AS \"Positions_middle\", \"Positions\".lower AS \"Positions_lower\", \"Positions\".x AS \"Positions_x\", \"Positions\".y AS \"Positions_y\" \n",
      "FROM \"Positions\" \n",
      "WHERE \"Positions\".id = ?\n"
     ]
    },
    {
     "name": "stdout",
     "output_type": "stream",
     "text": [
      "2021-07-08 19:33:29,381 INFO sqlalchemy.engine.Engine [cached since 0.4023s ago] (36,)\n",
      "2021-07-08 19:33:29,384 INFO sqlalchemy.engine.Engine SELECT \"Positions\".id AS \"Positions_id\", \"Positions\".upper AS \"Positions_upper\", \"Positions\".middle AS \"Positions_middle\", \"Positions\".lower AS \"Positions_lower\", \"Positions\".x AS \"Positions_x\", \"Positions\".y AS \"Positions_y\" \n",
      "FROM \"Positions\" \n",
      "WHERE \"Positions\".id = ?\n",
      "2021-07-08 19:33:29,386 INFO sqlalchemy.engine.Engine [cached since 0.399s ago] (37,)\n",
      "Borehole geometry created successfully !\n",
      "2021-07-08 19:33:29,414 INFO sqlalchemy.engine.Engine UPDATE \"Boreholes\" SET length=? WHERE \"Boreholes\".id = ?\n",
      "2021-07-08 19:33:29,415 INFO sqlalchemy.engine.Engine [cached since 0.3464s ago] (75.0, 'BH004')\n",
      "2021-07-08 19:33:29,424 INFO sqlalchemy.engine.Engine INSERT INTO \"Boreholes\" (id, length, diameter) VALUES (?, ?, ?)\n",
      "2021-07-08 19:33:29,425 INFO sqlalchemy.engine.Engine [cached since 0.5042s ago] ('BH005', 177.0, 0.61)\n",
      "2021-07-08 19:33:29,427 INFO sqlalchemy.engine.Engine INSERT INTO \"Positions\" (id, upper, middle, lower, x, y) VALUES (?, ?, ?, ?, ?, ?)\n",
      "2021-07-08 19:33:29,428 INFO sqlalchemy.engine.Engine [cached since 0.5011s ago] ((38, 101.0, 101.0, 101.0, 152473.0, 121460.0), (39, 72.0, 72.0, 72.0, 152473.0, 121460.0), (40, 72.0, 72.0, 72.0, 152473.0, 121460.0), (41, 43.0, 43.0, 43.0, 152473.0, 121460.0), (42, 43.0, 43.0, 43.0, 152473.0, 121460.0), (43, 14.0, 14.0, 14.0, 152473.0, 121460.0), (44, 14.0, 14.0, 14.0, 152473.0, 121460.0), (45, -15.0, -15.0, -15.0, 152473.0, 121460.0)  ... displaying 10 of 12 total bound parameter sets ...  (48, -44.0, -44.0, -44.0, 152473.0, 121460.0), (49, -76.0, -76.0, -76.0, 152473.0, 121460.0))\n",
      "2021-07-08 19:33:29,432 INFO sqlalchemy.engine.Engine INSERT INTO \"Intervals\" (id, borehole, interval_number, description, top_id, base_id, data_id) VALUES (?, ?, ?, ?, ?, ?, ?)\n",
      "2021-07-08 19:33:29,434 INFO sqlalchemy.engine.Engine [cached since 0.501s ago] ((19, 'BH005', 0, 'VR', 38, 39, None), (20, 'BH005', 1, 'VR', 40, 41, None), (21, 'BH005', 2, 'VS', 42, 43, None), (22, 'BH005', 3, 'VS', 44, 45, None), (23, 'BH005', 4, 'VS', 46, 47, None), (24, 'BH005', 5, 'Cl', 48, 49, None))\n",
      "2021-07-08 19:33:29,437 INFO sqlalchemy.engine.Engine COMMIT\n",
      "2021-07-08 19:33:29,442 INFO sqlalchemy.engine.Engine BEGIN (implicit)\n",
      "2021-07-08 19:33:29,443 INFO sqlalchemy.engine.Engine SELECT \"Boreholes\".id AS \"Boreholes_id\", \"Boreholes\".length AS \"Boreholes_length\", \"Boreholes\".diameter AS \"Boreholes_diameter\" \n",
      "FROM \"Boreholes\"\n",
      "2021-07-08 19:33:29,444 INFO sqlalchemy.engine.Engine [cached since 0.5695s ago] ()\n",
      "2021-07-08 19:33:29,448 INFO sqlalchemy.engine.Engine SELECT \"Intervals\".id AS \"Intervals_id\", \"Intervals\".borehole AS \"Intervals_borehole\", \"Intervals\".interval_number AS \"Intervals_interval_number\", \"Intervals\".description AS \"Intervals_description\", \"Intervals\".top_id AS \"Intervals_top_id\", \"Intervals\".base_id AS \"Intervals_base_id\", \"Intervals\".data_id AS \"Intervals_data_id\" \n",
      "FROM \"Intervals\" \n",
      "WHERE ? = \"Intervals\".borehole\n",
      "2021-07-08 19:33:29,449 INFO sqlalchemy.engine.Engine [cached since 0.4841s ago] ('BH005',)\n",
      "2021-07-08 19:33:29,453 INFO sqlalchemy.engine.Engine SELECT \"Positions\".id AS \"Positions_id\", \"Positions\".upper AS \"Positions_upper\", \"Positions\".middle AS \"Positions_middle\", \"Positions\".lower AS \"Positions_lower\", \"Positions\".x AS \"Positions_x\", \"Positions\".y AS \"Positions_y\" \n",
      "FROM \"Positions\" \n",
      "WHERE \"Positions\".id = ?\n",
      "2021-07-08 19:33:29,454 INFO sqlalchemy.engine.Engine [cached since 0.4754s ago] (38,)\n",
      "2021-07-08 19:33:29,458 INFO sqlalchemy.engine.Engine SELECT \"Positions\".id AS \"Positions_id\", \"Positions\".upper AS \"Positions_upper\", \"Positions\".middle AS \"Positions_middle\", \"Positions\".lower AS \"Positions_lower\", \"Positions\".x AS \"Positions_x\", \"Positions\".y AS \"Positions_y\" \n",
      "FROM \"Positions\" \n",
      "WHERE \"Positions\".id = ?\n",
      "2021-07-08 19:33:29,461 INFO sqlalchemy.engine.Engine [cached since 0.4743s ago] (39,)\n",
      "2021-07-08 19:33:29,467 INFO sqlalchemy.engine.Engine SELECT \"Positions\".id AS \"Positions_id\", \"Positions\".upper AS \"Positions_upper\", \"Positions\".middle AS \"Positions_middle\", \"Positions\".lower AS \"Positions_lower\", \"Positions\".x AS \"Positions_x\", \"Positions\".y AS \"Positions_y\" \n",
      "FROM \"Positions\" \n",
      "WHERE \"Positions\".id = ?\n",
      "2021-07-08 19:33:29,471 INFO sqlalchemy.engine.Engine [cached since 0.4916s ago] (40,)\n",
      "2021-07-08 19:33:29,479 INFO sqlalchemy.engine.Engine SELECT \"Positions\".id AS \"Positions_id\", \"Positions\".upper AS \"Positions_upper\", \"Positions\".middle AS \"Positions_middle\", \"Positions\".lower AS \"Positions_lower\", \"Positions\".x AS \"Positions_x\", \"Positions\".y AS \"Positions_y\" \n",
      "FROM \"Positions\" \n",
      "WHERE \"Positions\".id = ?\n",
      "2021-07-08 19:33:29,481 INFO sqlalchemy.engine.Engine [cached since 0.4941s ago] (41,)\n",
      "2021-07-08 19:33:29,486 INFO sqlalchemy.engine.Engine SELECT \"Positions\".id AS \"Positions_id\", \"Positions\".upper AS \"Positions_upper\", \"Positions\".middle AS \"Positions_middle\", \"Positions\".lower AS \"Positions_lower\", \"Positions\".x AS \"Positions_x\", \"Positions\".y AS \"Positions_y\" \n",
      "FROM \"Positions\" \n",
      "WHERE \"Positions\".id = ?\n",
      "2021-07-08 19:33:29,487 INFO sqlalchemy.engine.Engine [cached since 0.5083s ago] (42,)\n",
      "2021-07-08 19:33:29,490 INFO sqlalchemy.engine.Engine SELECT \"Positions\".id AS \"Positions_id\", \"Positions\".upper AS \"Positions_upper\", \"Positions\".middle AS \"Positions_middle\", \"Positions\".lower AS \"Positions_lower\", \"Positions\".x AS \"Positions_x\", \"Positions\".y AS \"Positions_y\" \n",
      "FROM \"Positions\" \n",
      "WHERE \"Positions\".id = ?\n",
      "2021-07-08 19:33:29,490 INFO sqlalchemy.engine.Engine [cached since 0.5037s ago] (43,)\n",
      "2021-07-08 19:33:29,493 INFO sqlalchemy.engine.Engine SELECT \"Positions\".id AS \"Positions_id\", \"Positions\".upper AS \"Positions_upper\", \"Positions\".middle AS \"Positions_middle\", \"Positions\".lower AS \"Positions_lower\", \"Positions\".x AS \"Positions_x\", \"Positions\".y AS \"Positions_y\" \n",
      "FROM \"Positions\" \n",
      "WHERE \"Positions\".id = ?\n",
      "2021-07-08 19:33:29,494 INFO sqlalchemy.engine.Engine [cached since 0.5148s ago] (44,)\n",
      "2021-07-08 19:33:29,497 INFO sqlalchemy.engine.Engine SELECT \"Positions\".id AS \"Positions_id\", \"Positions\".upper AS \"Positions_upper\", \"Positions\".middle AS \"Positions_middle\", \"Positions\".lower AS \"Positions_lower\", \"Positions\".x AS \"Positions_x\", \"Positions\".y AS \"Positions_y\" \n",
      "FROM \"Positions\" \n",
      "WHERE \"Positions\".id = ?\n",
      "2021-07-08 19:33:29,500 INFO sqlalchemy.engine.Engine [cached since 0.5136s ago] (45,)\n",
      "2021-07-08 19:33:29,506 INFO sqlalchemy.engine.Engine SELECT \"Positions\".id AS \"Positions_id\", \"Positions\".upper AS \"Positions_upper\", \"Positions\".middle AS \"Positions_middle\", \"Positions\".lower AS \"Positions_lower\", \"Positions\".x AS \"Positions_x\", \"Positions\".y AS \"Positions_y\" \n",
      "FROM \"Positions\" \n",
      "WHERE \"Positions\".id = ?\n",
      "2021-07-08 19:33:29,507 INFO sqlalchemy.engine.Engine [cached since 0.5277s ago] (46,)\n",
      "2021-07-08 19:33:29,510 INFO sqlalchemy.engine.Engine SELECT \"Positions\".id AS \"Positions_id\", \"Positions\".upper AS \"Positions_upper\", \"Positions\".middle AS \"Positions_middle\", \"Positions\".lower AS \"Positions_lower\", \"Positions\".x AS \"Positions_x\", \"Positions\".y AS \"Positions_y\" \n",
      "FROM \"Positions\" \n",
      "WHERE \"Positions\".id = ?\n",
      "2021-07-08 19:33:29,511 INFO sqlalchemy.engine.Engine [cached since 0.5243s ago] (47,)\n",
      "2021-07-08 19:33:29,515 INFO sqlalchemy.engine.Engine SELECT \"Positions\".id AS \"Positions_id\", \"Positions\".upper AS \"Positions_upper\", \"Positions\".middle AS \"Positions_middle\", \"Positions\".lower AS \"Positions_lower\", \"Positions\".x AS \"Positions_x\", \"Positions\".y AS \"Positions_y\" \n",
      "FROM \"Positions\" \n",
      "WHERE \"Positions\".id = ?\n",
      "2021-07-08 19:33:29,516 INFO sqlalchemy.engine.Engine [cached since 0.5373s ago] (48,)\n",
      "2021-07-08 19:33:29,520 INFO sqlalchemy.engine.Engine SELECT \"Positions\".id AS \"Positions_id\", \"Positions\".upper AS \"Positions_upper\", \"Positions\".middle AS \"Positions_middle\", \"Positions\".lower AS \"Positions_lower\", \"Positions\".x AS \"Positions_x\", \"Positions\".y AS \"Positions_y\" \n",
      "FROM \"Positions\" \n",
      "WHERE \"Positions\".id = ?\n",
      "2021-07-08 19:33:29,521 INFO sqlalchemy.engine.Engine [cached since 0.5341s ago] (49,)\n",
      "Borehole geometry created successfully !\n",
      "2021-07-08 19:33:29,545 INFO sqlalchemy.engine.Engine UPDATE \"Boreholes\" SET length=? WHERE \"Boreholes\".id = ?\n"
     ]
    },
    {
     "name": "stdout",
     "output_type": "stream",
     "text": [
      "2021-07-08 19:33:29,548 INFO sqlalchemy.engine.Engine [cached since 0.4799s ago] (72.0, 'BH005')\n",
      "2021-07-08 19:33:29,553 INFO sqlalchemy.engine.Engine INSERT INTO \"Boreholes\" (id, length, diameter) VALUES (?, ?, ?)\n",
      "2021-07-08 19:33:29,556 INFO sqlalchemy.engine.Engine [cached since 0.6353s ago] ('BH006', 130.0, 0.31)\n",
      "2021-07-08 19:33:29,558 INFO sqlalchemy.engine.Engine INSERT INTO \"Positions\" (id, upper, middle, lower, x, y) VALUES (?, ?, ?, ?, ?, ?)\n",
      "2021-07-08 19:33:29,559 INFO sqlalchemy.engine.Engine [cached since 0.6322s ago] ((50, 101.0, 101.0, 101.0, 152375.0, 121002.0), (51, 75.0, 75.0, 75.0, 152375.0, 121002.0), (52, 75.0, 75.0, 75.0, 152375.0, 121002.0), (53, 49.0, 49.0, 49.0, 152375.0, 121002.0), (54, 49.0, 49.0, 49.0, 152375.0, 121002.0), (55, 23.0, 23.0, 23.0, 152375.0, 121002.0), (56, 23.0, 23.0, 23.0, 152375.0, 121002.0), (57, -3.0, -3.0, -3.0, 152375.0, 121002.0), (58, -3.0, -3.0, -3.0, 152375.0, 121002.0), (59, -29.0, -29.0, -29.0, 152375.0, 121002.0))\n",
      "2021-07-08 19:33:29,561 INFO sqlalchemy.engine.Engine INSERT INTO \"Intervals\" (id, borehole, interval_number, description, top_id, base_id, data_id) VALUES (?, ?, ?, ?, ?, ?, ?)\n",
      "2021-07-08 19:33:29,564 INFO sqlalchemy.engine.Engine [cached since 0.6311s ago] ((25, 'BH006', 0, 'VR', 50, 51, None), (26, 'BH006', 1, 'VR', 52, 53, None), (27, 'BH006', 2, 'VS', 54, 55, None), (28, 'BH006', 3, 'VI', 56, 57, None), (29, 'BH006', 4, 'VI', 58, 59, None))\n",
      "2021-07-08 19:33:29,566 INFO sqlalchemy.engine.Engine COMMIT\n",
      "2021-07-08 19:33:29,572 INFO sqlalchemy.engine.Engine BEGIN (implicit)\n",
      "2021-07-08 19:33:29,574 INFO sqlalchemy.engine.Engine SELECT \"Boreholes\".id AS \"Boreholes_id\", \"Boreholes\".length AS \"Boreholes_length\", \"Boreholes\".diameter AS \"Boreholes_diameter\" \n",
      "FROM \"Boreholes\"\n",
      "2021-07-08 19:33:29,574 INFO sqlalchemy.engine.Engine [cached since 0.6998s ago] ()\n",
      "2021-07-08 19:33:29,577 INFO sqlalchemy.engine.Engine SELECT \"Intervals\".id AS \"Intervals_id\", \"Intervals\".borehole AS \"Intervals_borehole\", \"Intervals\".interval_number AS \"Intervals_interval_number\", \"Intervals\".description AS \"Intervals_description\", \"Intervals\".top_id AS \"Intervals_top_id\", \"Intervals\".base_id AS \"Intervals_base_id\", \"Intervals\".data_id AS \"Intervals_data_id\" \n",
      "FROM \"Intervals\" \n",
      "WHERE ? = \"Intervals\".borehole\n",
      "2021-07-08 19:33:29,577 INFO sqlalchemy.engine.Engine [cached since 0.6124s ago] ('BH006',)\n",
      "2021-07-08 19:33:29,581 INFO sqlalchemy.engine.Engine SELECT \"Positions\".id AS \"Positions_id\", \"Positions\".upper AS \"Positions_upper\", \"Positions\".middle AS \"Positions_middle\", \"Positions\".lower AS \"Positions_lower\", \"Positions\".x AS \"Positions_x\", \"Positions\".y AS \"Positions_y\" \n",
      "FROM \"Positions\" \n",
      "WHERE \"Positions\".id = ?\n",
      "2021-07-08 19:33:29,582 INFO sqlalchemy.engine.Engine [cached since 0.6028s ago] (50,)\n",
      "2021-07-08 19:33:29,584 INFO sqlalchemy.engine.Engine SELECT \"Positions\".id AS \"Positions_id\", \"Positions\".upper AS \"Positions_upper\", \"Positions\".middle AS \"Positions_middle\", \"Positions\".lower AS \"Positions_lower\", \"Positions\".x AS \"Positions_x\", \"Positions\".y AS \"Positions_y\" \n",
      "FROM \"Positions\" \n",
      "WHERE \"Positions\".id = ?\n",
      "2021-07-08 19:33:29,585 INFO sqlalchemy.engine.Engine [cached since 0.5978s ago] (51,)\n",
      "2021-07-08 19:33:29,587 INFO sqlalchemy.engine.Engine SELECT \"Positions\".id AS \"Positions_id\", \"Positions\".upper AS \"Positions_upper\", \"Positions\".middle AS \"Positions_middle\", \"Positions\".lower AS \"Positions_lower\", \"Positions\".x AS \"Positions_x\", \"Positions\".y AS \"Positions_y\" \n",
      "FROM \"Positions\" \n",
      "WHERE \"Positions\".id = ?\n",
      "2021-07-08 19:33:29,587 INFO sqlalchemy.engine.Engine [cached since 0.6084s ago] (52,)\n",
      "2021-07-08 19:33:29,589 INFO sqlalchemy.engine.Engine SELECT \"Positions\".id AS \"Positions_id\", \"Positions\".upper AS \"Positions_upper\", \"Positions\".middle AS \"Positions_middle\", \"Positions\".lower AS \"Positions_lower\", \"Positions\".x AS \"Positions_x\", \"Positions\".y AS \"Positions_y\" \n",
      "FROM \"Positions\" \n",
      "WHERE \"Positions\".id = ?\n",
      "2021-07-08 19:33:29,590 INFO sqlalchemy.engine.Engine [cached since 0.6032s ago] (53,)\n",
      "2021-07-08 19:33:29,592 INFO sqlalchemy.engine.Engine SELECT \"Positions\".id AS \"Positions_id\", \"Positions\".upper AS \"Positions_upper\", \"Positions\".middle AS \"Positions_middle\", \"Positions\".lower AS \"Positions_lower\", \"Positions\".x AS \"Positions_x\", \"Positions\".y AS \"Positions_y\" \n",
      "FROM \"Positions\" \n",
      "WHERE \"Positions\".id = ?\n",
      "2021-07-08 19:33:29,593 INFO sqlalchemy.engine.Engine [cached since 0.6136s ago] (54,)\n",
      "2021-07-08 19:33:29,595 INFO sqlalchemy.engine.Engine SELECT \"Positions\".id AS \"Positions_id\", \"Positions\".upper AS \"Positions_upper\", \"Positions\".middle AS \"Positions_middle\", \"Positions\".lower AS \"Positions_lower\", \"Positions\".x AS \"Positions_x\", \"Positions\".y AS \"Positions_y\" \n",
      "FROM \"Positions\" \n",
      "WHERE \"Positions\".id = ?\n",
      "2021-07-08 19:33:29,596 INFO sqlalchemy.engine.Engine [cached since 0.609s ago] (55,)\n",
      "2021-07-08 19:33:29,604 INFO sqlalchemy.engine.Engine SELECT \"Positions\".id AS \"Positions_id\", \"Positions\".upper AS \"Positions_upper\", \"Positions\".middle AS \"Positions_middle\", \"Positions\".lower AS \"Positions_lower\", \"Positions\".x AS \"Positions_x\", \"Positions\".y AS \"Positions_y\" \n",
      "FROM \"Positions\" \n",
      "WHERE \"Positions\".id = ?\n",
      "2021-07-08 19:33:29,607 INFO sqlalchemy.engine.Engine [cached since 0.6282s ago] (56,)\n",
      "2021-07-08 19:33:29,610 INFO sqlalchemy.engine.Engine SELECT \"Positions\".id AS \"Positions_id\", \"Positions\".upper AS \"Positions_upper\", \"Positions\".middle AS \"Positions_middle\", \"Positions\".lower AS \"Positions_lower\", \"Positions\".x AS \"Positions_x\", \"Positions\".y AS \"Positions_y\" \n",
      "FROM \"Positions\" \n",
      "WHERE \"Positions\".id = ?\n",
      "2021-07-08 19:33:29,611 INFO sqlalchemy.engine.Engine [cached since 0.624s ago] (57,)\n",
      "2021-07-08 19:33:29,615 INFO sqlalchemy.engine.Engine SELECT \"Positions\".id AS \"Positions_id\", \"Positions\".upper AS \"Positions_upper\", \"Positions\".middle AS \"Positions_middle\", \"Positions\".lower AS \"Positions_lower\", \"Positions\".x AS \"Positions_x\", \"Positions\".y AS \"Positions_y\" \n",
      "FROM \"Positions\" \n",
      "WHERE \"Positions\".id = ?\n",
      "2021-07-08 19:33:29,616 INFO sqlalchemy.engine.Engine [cached since 0.6369s ago] (58,)\n",
      "2021-07-08 19:33:29,620 INFO sqlalchemy.engine.Engine SELECT \"Positions\".id AS \"Positions_id\", \"Positions\".upper AS \"Positions_upper\", \"Positions\".middle AS \"Positions_middle\", \"Positions\".lower AS \"Positions_lower\", \"Positions\".x AS \"Positions_x\", \"Positions\".y AS \"Positions_y\" \n",
      "FROM \"Positions\" \n",
      "WHERE \"Positions\".id = ?\n",
      "2021-07-08 19:33:29,622 INFO sqlalchemy.engine.Engine [cached since 0.6348s ago] (59,)\n",
      "Borehole geometry created successfully !\n",
      "2021-07-08 19:33:29,639 INFO sqlalchemy.engine.Engine UPDATE \"Boreholes\" SET length=? WHERE \"Boreholes\".id = ?\n",
      "2021-07-08 19:33:29,640 INFO sqlalchemy.engine.Engine [cached since 0.5716s ago] (75.0, 'BH006')\n",
      "2021-07-08 19:33:29,641 INFO sqlalchemy.engine.Engine INSERT INTO \"Boreholes\" (id, length, diameter) VALUES (?, ?, ?)\n",
      "2021-07-08 19:33:29,642 INFO sqlalchemy.engine.Engine [cached since 0.7215s ago] ('BH007', 250.0, 0.57)\n",
      "2021-07-08 19:33:29,643 INFO sqlalchemy.engine.Engine INSERT INTO \"Positions\" (id, upper, middle, lower, x, y) VALUES (?, ?, ?, ?, ?, ?)\n",
      "2021-07-08 19:33:29,644 INFO sqlalchemy.engine.Engine [cached since 0.7173s ago] ((60, 101.0, 101.0, 101.0, 152794.0, 121111.0), (61, 60.0, 60.0, 60.0, 152794.0, 121111.0), (62, 60.0, 60.0, 60.0, 152794.0, 121111.0), (63, 19.0, 19.0, 19.0, 152794.0, 121111.0), (64, 19.0, 19.0, 19.0, 152794.0, 121111.0), (65, -22.0, -22.0, -22.0, 152794.0, 121111.0), (66, -22.0, -22.0, -22.0, 152794.0, 121111.0), (67, -63.0, -63.0, -63.0, 152794.0, 121111.0)  ... displaying 10 of 12 total bound parameter sets ...  (70, -104.0, -104.0, -104.0, 152794.0, 121111.0), (71, -149.0, -149.0, -149.0, 152794.0, 121111.0))\n",
      "2021-07-08 19:33:29,648 INFO sqlalchemy.engine.Engine INSERT INTO \"Intervals\" (id, borehole, interval_number, description, top_id, base_id, data_id) VALUES (?, ?, ?, ?, ?, ?, ?)\n",
      "2021-07-08 19:33:29,648 INFO sqlalchemy.engine.Engine [cached since 0.7157s ago] ((30, 'BH007', 0, 'VI', 60, 61, None), (31, 'BH007', 1, 'VI', 62, 63, None), (32, 'BH007', 2, 'VS', 64, 65, None), (33, 'BH007', 3, 'VR', 66, 67, None), (34, 'BH007', 4, 'VR', 68, 69, None), (35, 'BH007', 5, 'Cl', 70, 71, None))\n",
      "2021-07-08 19:33:29,652 INFO sqlalchemy.engine.Engine COMMIT\n"
     ]
    },
    {
     "name": "stdout",
     "output_type": "stream",
     "text": [
      "2021-07-08 19:33:29,656 INFO sqlalchemy.engine.Engine BEGIN (implicit)\n",
      "2021-07-08 19:33:29,657 INFO sqlalchemy.engine.Engine SELECT \"Boreholes\".id AS \"Boreholes_id\", \"Boreholes\".length AS \"Boreholes_length\", \"Boreholes\".diameter AS \"Boreholes_diameter\" \n",
      "FROM \"Boreholes\"\n",
      "2021-07-08 19:33:29,658 INFO sqlalchemy.engine.Engine [cached since 0.7835s ago] ()\n",
      "2021-07-08 19:33:29,661 INFO sqlalchemy.engine.Engine SELECT \"Intervals\".id AS \"Intervals_id\", \"Intervals\".borehole AS \"Intervals_borehole\", \"Intervals\".interval_number AS \"Intervals_interval_number\", \"Intervals\".description AS \"Intervals_description\", \"Intervals\".top_id AS \"Intervals_top_id\", \"Intervals\".base_id AS \"Intervals_base_id\", \"Intervals\".data_id AS \"Intervals_data_id\" \n",
      "FROM \"Intervals\" \n",
      "WHERE ? = \"Intervals\".borehole\n",
      "2021-07-08 19:33:29,663 INFO sqlalchemy.engine.Engine [cached since 0.6981s ago] ('BH007',)\n",
      "2021-07-08 19:33:29,668 INFO sqlalchemy.engine.Engine SELECT \"Positions\".id AS \"Positions_id\", \"Positions\".upper AS \"Positions_upper\", \"Positions\".middle AS \"Positions_middle\", \"Positions\".lower AS \"Positions_lower\", \"Positions\".x AS \"Positions_x\", \"Positions\".y AS \"Positions_y\" \n",
      "FROM \"Positions\" \n",
      "WHERE \"Positions\".id = ?\n",
      "2021-07-08 19:33:29,677 INFO sqlalchemy.engine.Engine [cached since 0.6977s ago] (60,)\n",
      "2021-07-08 19:33:29,683 INFO sqlalchemy.engine.Engine SELECT \"Positions\".id AS \"Positions_id\", \"Positions\".upper AS \"Positions_upper\", \"Positions\".middle AS \"Positions_middle\", \"Positions\".lower AS \"Positions_lower\", \"Positions\".x AS \"Positions_x\", \"Positions\".y AS \"Positions_y\" \n",
      "FROM \"Positions\" \n",
      "WHERE \"Positions\".id = ?\n",
      "2021-07-08 19:33:29,686 INFO sqlalchemy.engine.Engine [cached since 0.6997s ago] (61,)\n",
      "2021-07-08 19:33:29,690 INFO sqlalchemy.engine.Engine SELECT \"Positions\".id AS \"Positions_id\", \"Positions\".upper AS \"Positions_upper\", \"Positions\".middle AS \"Positions_middle\", \"Positions\".lower AS \"Positions_lower\", \"Positions\".x AS \"Positions_x\", \"Positions\".y AS \"Positions_y\" \n",
      "FROM \"Positions\" \n",
      "WHERE \"Positions\".id = ?\n",
      "2021-07-08 19:33:29,691 INFO sqlalchemy.engine.Engine [cached since 0.7121s ago] (62,)\n",
      "2021-07-08 19:33:29,693 INFO sqlalchemy.engine.Engine SELECT \"Positions\".id AS \"Positions_id\", \"Positions\".upper AS \"Positions_upper\", \"Positions\".middle AS \"Positions_middle\", \"Positions\".lower AS \"Positions_lower\", \"Positions\".x AS \"Positions_x\", \"Positions\".y AS \"Positions_y\" \n",
      "FROM \"Positions\" \n",
      "WHERE \"Positions\".id = ?\n",
      "2021-07-08 19:33:29,694 INFO sqlalchemy.engine.Engine [cached since 0.7074s ago] (63,)\n",
      "2021-07-08 19:33:29,698 INFO sqlalchemy.engine.Engine SELECT \"Positions\".id AS \"Positions_id\", \"Positions\".upper AS \"Positions_upper\", \"Positions\".middle AS \"Positions_middle\", \"Positions\".lower AS \"Positions_lower\", \"Positions\".x AS \"Positions_x\", \"Positions\".y AS \"Positions_y\" \n",
      "FROM \"Positions\" \n",
      "WHERE \"Positions\".id = ?\n",
      "2021-07-08 19:33:29,700 INFO sqlalchemy.engine.Engine [cached since 0.7208s ago] (64,)\n",
      "2021-07-08 19:33:29,704 INFO sqlalchemy.engine.Engine SELECT \"Positions\".id AS \"Positions_id\", \"Positions\".upper AS \"Positions_upper\", \"Positions\".middle AS \"Positions_middle\", \"Positions\".lower AS \"Positions_lower\", \"Positions\".x AS \"Positions_x\", \"Positions\".y AS \"Positions_y\" \n",
      "FROM \"Positions\" \n",
      "WHERE \"Positions\".id = ?\n",
      "2021-07-08 19:33:29,706 INFO sqlalchemy.engine.Engine [cached since 0.7189s ago] (65,)\n",
      "2021-07-08 19:33:29,708 INFO sqlalchemy.engine.Engine SELECT \"Positions\".id AS \"Positions_id\", \"Positions\".upper AS \"Positions_upper\", \"Positions\".middle AS \"Positions_middle\", \"Positions\".lower AS \"Positions_lower\", \"Positions\".x AS \"Positions_x\", \"Positions\".y AS \"Positions_y\" \n",
      "FROM \"Positions\" \n",
      "WHERE \"Positions\".id = ?\n",
      "2021-07-08 19:33:29,709 INFO sqlalchemy.engine.Engine [cached since 0.7305s ago] (66,)\n",
      "2021-07-08 19:33:29,712 INFO sqlalchemy.engine.Engine SELECT \"Positions\".id AS \"Positions_id\", \"Positions\".upper AS \"Positions_upper\", \"Positions\".middle AS \"Positions_middle\", \"Positions\".lower AS \"Positions_lower\", \"Positions\".x AS \"Positions_x\", \"Positions\".y AS \"Positions_y\" \n",
      "FROM \"Positions\" \n",
      "WHERE \"Positions\".id = ?\n",
      "2021-07-08 19:33:29,714 INFO sqlalchemy.engine.Engine [cached since 0.7273s ago] (67,)\n",
      "2021-07-08 19:33:29,717 INFO sqlalchemy.engine.Engine SELECT \"Positions\".id AS \"Positions_id\", \"Positions\".upper AS \"Positions_upper\", \"Positions\".middle AS \"Positions_middle\", \"Positions\".lower AS \"Positions_lower\", \"Positions\".x AS \"Positions_x\", \"Positions\".y AS \"Positions_y\" \n",
      "FROM \"Positions\" \n",
      "WHERE \"Positions\".id = ?\n",
      "2021-07-08 19:33:29,719 INFO sqlalchemy.engine.Engine [cached since 0.7396s ago] (68,)\n",
      "2021-07-08 19:33:29,722 INFO sqlalchemy.engine.Engine SELECT \"Positions\".id AS \"Positions_id\", \"Positions\".upper AS \"Positions_upper\", \"Positions\".middle AS \"Positions_middle\", \"Positions\".lower AS \"Positions_lower\", \"Positions\".x AS \"Positions_x\", \"Positions\".y AS \"Positions_y\" \n",
      "FROM \"Positions\" \n",
      "WHERE \"Positions\".id = ?\n",
      "2021-07-08 19:33:29,724 INFO sqlalchemy.engine.Engine [cached since 0.7372s ago] (69,)\n",
      "2021-07-08 19:33:29,726 INFO sqlalchemy.engine.Engine SELECT \"Positions\".id AS \"Positions_id\", \"Positions\".upper AS \"Positions_upper\", \"Positions\".middle AS \"Positions_middle\", \"Positions\".lower AS \"Positions_lower\", \"Positions\".x AS \"Positions_x\", \"Positions\".y AS \"Positions_y\" \n",
      "FROM \"Positions\" \n",
      "WHERE \"Positions\".id = ?\n",
      "2021-07-08 19:33:29,727 INFO sqlalchemy.engine.Engine [cached since 0.7478s ago] (70,)\n",
      "2021-07-08 19:33:29,729 INFO sqlalchemy.engine.Engine SELECT \"Positions\".id AS \"Positions_id\", \"Positions\".upper AS \"Positions_upper\", \"Positions\".middle AS \"Positions_middle\", \"Positions\".lower AS \"Positions_lower\", \"Positions\".x AS \"Positions_x\", \"Positions\".y AS \"Positions_y\" \n",
      "FROM \"Positions\" \n",
      "WHERE \"Positions\".id = ?\n",
      "2021-07-08 19:33:29,733 INFO sqlalchemy.engine.Engine [cached since 0.7458s ago] (71,)\n",
      "Borehole geometry created successfully !\n",
      "2021-07-08 19:33:29,768 INFO sqlalchemy.engine.Engine UPDATE \"Boreholes\" SET length=? WHERE \"Boreholes\".id = ?\n",
      "2021-07-08 19:33:29,770 INFO sqlalchemy.engine.Engine [cached since 0.7014s ago] (60.0, 'BH007')\n",
      "2021-07-08 19:33:29,772 INFO sqlalchemy.engine.Engine INSERT INTO \"Boreholes\" (id, length, diameter) VALUES (?, ?, ?)\n",
      "2021-07-08 19:33:29,772 INFO sqlalchemy.engine.Engine [cached since 0.8518s ago] ('BH008', 175.0, 0.39)\n",
      "2021-07-08 19:33:29,774 INFO sqlalchemy.engine.Engine INSERT INTO \"Positions\" (id, upper, middle, lower, x, y) VALUES (?, ?, ?, ?, ?, ?)\n",
      "2021-07-08 19:33:29,775 INFO sqlalchemy.engine.Engine [cached since 0.848s ago] ((72, 101.0, 101.0, 101.0, 152150.0, 121579.0), (73, 66.0, 66.0, 66.0, 152150.0, 121579.0), (74, 66.0, 66.0, 66.0, 152150.0, 121579.0), (75, 31.0, 31.0, 31.0, 152150.0, 121579.0), (76, 31.0, 31.0, 31.0, 152150.0, 121579.0), (77, -4.0, -4.0, -4.0, 152150.0, 121579.0), (78, -4.0, -4.0, -4.0, 152150.0, 121579.0), (79, -39.0, -39.0, -39.0, 152150.0, 121579.0), (80, -39.0, -39.0, -39.0, 152150.0, 121579.0), (81, -74.0, -74.0, -74.0, 152150.0, 121579.0))\n",
      "2021-07-08 19:33:29,777 INFO sqlalchemy.engine.Engine INSERT INTO \"Intervals\" (id, borehole, interval_number, description, top_id, base_id, data_id) VALUES (?, ?, ?, ?, ?, ?, ?)\n",
      "2021-07-08 19:33:29,777 INFO sqlalchemy.engine.Engine [cached since 0.8447s ago] ((36, 'BH008', 0, 'VS', 72, 73, None), (37, 'BH008', 1, 'VI', 74, 75, None), (38, 'BH008', 2, 'VS', 76, 77, None), (39, 'BH008', 3, 'VS', 78, 79, None), (40, 'BH008', 4, 'VR', 80, 81, None))\n",
      "2021-07-08 19:33:29,780 INFO sqlalchemy.engine.Engine COMMIT\n",
      "2021-07-08 19:33:29,786 INFO sqlalchemy.engine.Engine BEGIN (implicit)\n",
      "2021-07-08 19:33:29,788 INFO sqlalchemy.engine.Engine SELECT \"Boreholes\".id AS \"Boreholes_id\", \"Boreholes\".length AS \"Boreholes_length\", \"Boreholes\".diameter AS \"Boreholes_diameter\" \n",
      "FROM \"Boreholes\"\n",
      "2021-07-08 19:33:29,789 INFO sqlalchemy.engine.Engine [cached since 0.9142s ago] ()\n",
      "2021-07-08 19:33:29,791 INFO sqlalchemy.engine.Engine SELECT \"Intervals\".id AS \"Intervals_id\", \"Intervals\".borehole AS \"Intervals_borehole\", \"Intervals\".interval_number AS \"Intervals_interval_number\", \"Intervals\".description AS \"Intervals_description\", \"Intervals\".top_id AS \"Intervals_top_id\", \"Intervals\".base_id AS \"Intervals_base_id\", \"Intervals\".data_id AS \"Intervals_data_id\" \n",
      "FROM \"Intervals\" \n",
      "WHERE ? = \"Intervals\".borehole\n"
     ]
    },
    {
     "name": "stdout",
     "output_type": "stream",
     "text": [
      "2021-07-08 19:33:29,792 INFO sqlalchemy.engine.Engine [cached since 0.8271s ago] ('BH008',)\n",
      "2021-07-08 19:33:29,795 INFO sqlalchemy.engine.Engine SELECT \"Positions\".id AS \"Positions_id\", \"Positions\".upper AS \"Positions_upper\", \"Positions\".middle AS \"Positions_middle\", \"Positions\".lower AS \"Positions_lower\", \"Positions\".x AS \"Positions_x\", \"Positions\".y AS \"Positions_y\" \n",
      "FROM \"Positions\" \n",
      "WHERE \"Positions\".id = ?\n",
      "2021-07-08 19:33:29,796 INFO sqlalchemy.engine.Engine [cached since 0.8165s ago] (72,)\n",
      "2021-07-08 19:33:29,800 INFO sqlalchemy.engine.Engine SELECT \"Positions\".id AS \"Positions_id\", \"Positions\".upper AS \"Positions_upper\", \"Positions\".middle AS \"Positions_middle\", \"Positions\".lower AS \"Positions_lower\", \"Positions\".x AS \"Positions_x\", \"Positions\".y AS \"Positions_y\" \n",
      "FROM \"Positions\" \n",
      "WHERE \"Positions\".id = ?\n",
      "2021-07-08 19:33:29,802 INFO sqlalchemy.engine.Engine [cached since 0.8151s ago] (73,)\n",
      "2021-07-08 19:33:29,806 INFO sqlalchemy.engine.Engine SELECT \"Positions\".id AS \"Positions_id\", \"Positions\".upper AS \"Positions_upper\", \"Positions\".middle AS \"Positions_middle\", \"Positions\".lower AS \"Positions_lower\", \"Positions\".x AS \"Positions_x\", \"Positions\".y AS \"Positions_y\" \n",
      "FROM \"Positions\" \n",
      "WHERE \"Positions\".id = ?\n",
      "2021-07-08 19:33:29,807 INFO sqlalchemy.engine.Engine [cached since 0.8284s ago] (74,)\n",
      "2021-07-08 19:33:29,810 INFO sqlalchemy.engine.Engine SELECT \"Positions\".id AS \"Positions_id\", \"Positions\".upper AS \"Positions_upper\", \"Positions\".middle AS \"Positions_middle\", \"Positions\".lower AS \"Positions_lower\", \"Positions\".x AS \"Positions_x\", \"Positions\".y AS \"Positions_y\" \n",
      "FROM \"Positions\" \n",
      "WHERE \"Positions\".id = ?\n",
      "2021-07-08 19:33:29,810 INFO sqlalchemy.engine.Engine [cached since 0.8236s ago] (75,)\n",
      "2021-07-08 19:33:29,814 INFO sqlalchemy.engine.Engine SELECT \"Positions\".id AS \"Positions_id\", \"Positions\".upper AS \"Positions_upper\", \"Positions\".middle AS \"Positions_middle\", \"Positions\".lower AS \"Positions_lower\", \"Positions\".x AS \"Positions_x\", \"Positions\".y AS \"Positions_y\" \n",
      "FROM \"Positions\" \n",
      "WHERE \"Positions\".id = ?\n",
      "2021-07-08 19:33:29,815 INFO sqlalchemy.engine.Engine [cached since 0.8364s ago] (76,)\n",
      "2021-07-08 19:33:29,820 INFO sqlalchemy.engine.Engine SELECT \"Positions\".id AS \"Positions_id\", \"Positions\".upper AS \"Positions_upper\", \"Positions\".middle AS \"Positions_middle\", \"Positions\".lower AS \"Positions_lower\", \"Positions\".x AS \"Positions_x\", \"Positions\".y AS \"Positions_y\" \n",
      "FROM \"Positions\" \n",
      "WHERE \"Positions\".id = ?\n",
      "2021-07-08 19:33:29,823 INFO sqlalchemy.engine.Engine [cached since 0.8364s ago] (77,)\n",
      "2021-07-08 19:33:29,825 INFO sqlalchemy.engine.Engine SELECT \"Positions\".id AS \"Positions_id\", \"Positions\".upper AS \"Positions_upper\", \"Positions\".middle AS \"Positions_middle\", \"Positions\".lower AS \"Positions_lower\", \"Positions\".x AS \"Positions_x\", \"Positions\".y AS \"Positions_y\" \n",
      "FROM \"Positions\" \n",
      "WHERE \"Positions\".id = ?\n",
      "2021-07-08 19:33:29,828 INFO sqlalchemy.engine.Engine [cached since 0.8488s ago] (78,)\n",
      "2021-07-08 19:33:29,831 INFO sqlalchemy.engine.Engine SELECT \"Positions\".id AS \"Positions_id\", \"Positions\".upper AS \"Positions_upper\", \"Positions\".middle AS \"Positions_middle\", \"Positions\".lower AS \"Positions_lower\", \"Positions\".x AS \"Positions_x\", \"Positions\".y AS \"Positions_y\" \n",
      "FROM \"Positions\" \n",
      "WHERE \"Positions\".id = ?\n",
      "2021-07-08 19:33:29,832 INFO sqlalchemy.engine.Engine [cached since 0.8453s ago] (79,)\n",
      "2021-07-08 19:33:29,836 INFO sqlalchemy.engine.Engine SELECT \"Positions\".id AS \"Positions_id\", \"Positions\".upper AS \"Positions_upper\", \"Positions\".middle AS \"Positions_middle\", \"Positions\".lower AS \"Positions_lower\", \"Positions\".x AS \"Positions_x\", \"Positions\".y AS \"Positions_y\" \n",
      "FROM \"Positions\" \n",
      "WHERE \"Positions\".id = ?\n",
      "2021-07-08 19:33:29,837 INFO sqlalchemy.engine.Engine [cached since 0.858s ago] (80,)\n",
      "2021-07-08 19:33:29,839 INFO sqlalchemy.engine.Engine SELECT \"Positions\".id AS \"Positions_id\", \"Positions\".upper AS \"Positions_upper\", \"Positions\".middle AS \"Positions_middle\", \"Positions\".lower AS \"Positions_lower\", \"Positions\".x AS \"Positions_x\", \"Positions\".y AS \"Positions_y\" \n",
      "FROM \"Positions\" \n",
      "WHERE \"Positions\".id = ?\n",
      "2021-07-08 19:33:29,840 INFO sqlalchemy.engine.Engine [cached since 0.8531s ago] (81,)\n",
      "Borehole geometry created successfully !\n",
      "2021-07-08 19:33:29,863 INFO sqlalchemy.engine.Engine UPDATE \"Boreholes\" SET length=? WHERE \"Boreholes\".id = ?\n",
      "2021-07-08 19:33:29,867 INFO sqlalchemy.engine.Engine [cached since 0.7988s ago] (66.0, 'BH008')\n",
      "2021-07-08 19:33:29,873 INFO sqlalchemy.engine.Engine INSERT INTO \"Boreholes\" (id, length, diameter) VALUES (?, ?, ?)\n",
      "2021-07-08 19:33:29,874 INFO sqlalchemy.engine.Engine [cached since 0.9534s ago] ('BH009', 200.0, 0.5)\n",
      "2021-07-08 19:33:29,876 INFO sqlalchemy.engine.Engine INSERT INTO \"Positions\" (id, upper, middle, lower, x, y) VALUES (?, ?, ?, ?, ?, ?)\n",
      "2021-07-08 19:33:29,877 INFO sqlalchemy.engine.Engine [cached since 0.9498s ago] ((82, 100.0, 100.0, 100.0, 152052.0, 121293.0), (83, 60.0, 60.0, 60.0, 152052.0, 121293.0), (84, 60.0, 60.0, 60.0, 152052.0, 121293.0), (85, 20.0, 20.0, 20.0, 152052.0, 121293.0), (86, 20.0, 20.0, 20.0, 152052.0, 121293.0), (87, -20.0, -20.0, -20.0, 152052.0, 121293.0), (88, -20.0, -20.0, -20.0, 152052.0, 121293.0), (89, -60.0, -60.0, -60.0, 152052.0, 121293.0), (90, -60.0, -60.0, -60.0, 152052.0, 121293.0), (91, -100.0, -100.0, -100.0, 152052.0, 121293.0))\n",
      "2021-07-08 19:33:29,881 INFO sqlalchemy.engine.Engine INSERT INTO \"Intervals\" (id, borehole, interval_number, description, top_id, base_id, data_id) VALUES (?, ?, ?, ?, ?, ?, ?)\n",
      "2021-07-08 19:33:29,884 INFO sqlalchemy.engine.Engine [cached since 0.9513s ago] ((41, 'BH009', 0, 'VI', 82, 83, None), (42, 'BH009', 1, 'VI', 84, 85, None), (43, 'BH009', 2, 'VI', 86, 87, None), (44, 'BH009', 3, 'VS', 88, 89, None), (45, 'BH009', 4, 'VR', 90, 91, None))\n",
      "2021-07-08 19:33:29,887 INFO sqlalchemy.engine.Engine COMMIT\n",
      "2021-07-08 19:33:29,892 INFO sqlalchemy.engine.Engine BEGIN (implicit)\n",
      "2021-07-08 19:33:29,893 INFO sqlalchemy.engine.Engine SELECT \"Boreholes\".id AS \"Boreholes_id\", \"Boreholes\".length AS \"Boreholes_length\", \"Boreholes\".diameter AS \"Boreholes_diameter\" \n",
      "FROM \"Boreholes\"\n",
      "2021-07-08 19:33:29,894 INFO sqlalchemy.engine.Engine [cached since 1.019s ago] ()\n",
      "2021-07-08 19:33:29,896 INFO sqlalchemy.engine.Engine SELECT \"Intervals\".id AS \"Intervals_id\", \"Intervals\".borehole AS \"Intervals_borehole\", \"Intervals\".interval_number AS \"Intervals_interval_number\", \"Intervals\".description AS \"Intervals_description\", \"Intervals\".top_id AS \"Intervals_top_id\", \"Intervals\".base_id AS \"Intervals_base_id\", \"Intervals\".data_id AS \"Intervals_data_id\" \n",
      "FROM \"Intervals\" \n",
      "WHERE ? = \"Intervals\".borehole\n",
      "2021-07-08 19:33:29,897 INFO sqlalchemy.engine.Engine [cached since 0.932s ago] ('BH009',)\n",
      "2021-07-08 19:33:29,899 INFO sqlalchemy.engine.Engine SELECT \"Positions\".id AS \"Positions_id\", \"Positions\".upper AS \"Positions_upper\", \"Positions\".middle AS \"Positions_middle\", \"Positions\".lower AS \"Positions_lower\", \"Positions\".x AS \"Positions_x\", \"Positions\".y AS \"Positions_y\" \n",
      "FROM \"Positions\" \n",
      "WHERE \"Positions\".id = ?\n",
      "2021-07-08 19:33:29,900 INFO sqlalchemy.engine.Engine [cached since 0.9208s ago] (82,)\n",
      "2021-07-08 19:33:29,902 INFO sqlalchemy.engine.Engine SELECT \"Positions\".id AS \"Positions_id\", \"Positions\".upper AS \"Positions_upper\", \"Positions\".middle AS \"Positions_middle\", \"Positions\".lower AS \"Positions_lower\", \"Positions\".x AS \"Positions_x\", \"Positions\".y AS \"Positions_y\" \n",
      "FROM \"Positions\" \n",
      "WHERE \"Positions\".id = ?\n",
      "2021-07-08 19:33:29,902 INFO sqlalchemy.engine.Engine [cached since 0.9156s ago] (83,)\n",
      "2021-07-08 19:33:29,904 INFO sqlalchemy.engine.Engine SELECT \"Positions\".id AS \"Positions_id\", \"Positions\".upper AS \"Positions_upper\", \"Positions\".middle AS \"Positions_middle\", \"Positions\".lower AS \"Positions_lower\", \"Positions\".x AS \"Positions_x\", \"Positions\".y AS \"Positions_y\" \n",
      "FROM \"Positions\" \n",
      "WHERE \"Positions\".id = ?\n",
      "2021-07-08 19:33:29,904 INFO sqlalchemy.engine.Engine [cached since 0.9255s ago] (84,)\n",
      "2021-07-08 19:33:29,906 INFO sqlalchemy.engine.Engine SELECT \"Positions\".id AS \"Positions_id\", \"Positions\".upper AS \"Positions_upper\", \"Positions\".middle AS \"Positions_middle\", \"Positions\".lower AS \"Positions_lower\", \"Positions\".x AS \"Positions_x\", \"Positions\".y AS \"Positions_y\" \n",
      "FROM \"Positions\" \n",
      "WHERE \"Positions\".id = ?\n"
     ]
    },
    {
     "name": "stdout",
     "output_type": "stream",
     "text": [
      "2021-07-08 19:33:29,906 INFO sqlalchemy.engine.Engine [cached since 0.9195s ago] (85,)\n",
      "2021-07-08 19:33:29,909 INFO sqlalchemy.engine.Engine SELECT \"Positions\".id AS \"Positions_id\", \"Positions\".upper AS \"Positions_upper\", \"Positions\".middle AS \"Positions_middle\", \"Positions\".lower AS \"Positions_lower\", \"Positions\".x AS \"Positions_x\", \"Positions\".y AS \"Positions_y\" \n",
      "FROM \"Positions\" \n",
      "WHERE \"Positions\".id = ?\n",
      "2021-07-08 19:33:29,910 INFO sqlalchemy.engine.Engine [cached since 0.9312s ago] (86,)\n",
      "2021-07-08 19:33:29,911 INFO sqlalchemy.engine.Engine SELECT \"Positions\".id AS \"Positions_id\", \"Positions\".upper AS \"Positions_upper\", \"Positions\".middle AS \"Positions_middle\", \"Positions\".lower AS \"Positions_lower\", \"Positions\".x AS \"Positions_x\", \"Positions\".y AS \"Positions_y\" \n",
      "FROM \"Positions\" \n",
      "WHERE \"Positions\".id = ?\n",
      "2021-07-08 19:33:29,914 INFO sqlalchemy.engine.Engine [cached since 0.9272s ago] (87,)\n",
      "2021-07-08 19:33:29,917 INFO sqlalchemy.engine.Engine SELECT \"Positions\".id AS \"Positions_id\", \"Positions\".upper AS \"Positions_upper\", \"Positions\".middle AS \"Positions_middle\", \"Positions\".lower AS \"Positions_lower\", \"Positions\".x AS \"Positions_x\", \"Positions\".y AS \"Positions_y\" \n",
      "FROM \"Positions\" \n",
      "WHERE \"Positions\".id = ?\n",
      "2021-07-08 19:33:29,918 INFO sqlalchemy.engine.Engine [cached since 0.9387s ago] (88,)\n",
      "2021-07-08 19:33:29,921 INFO sqlalchemy.engine.Engine SELECT \"Positions\".id AS \"Positions_id\", \"Positions\".upper AS \"Positions_upper\", \"Positions\".middle AS \"Positions_middle\", \"Positions\".lower AS \"Positions_lower\", \"Positions\".x AS \"Positions_x\", \"Positions\".y AS \"Positions_y\" \n",
      "FROM \"Positions\" \n",
      "WHERE \"Positions\".id = ?\n",
      "2021-07-08 19:33:29,922 INFO sqlalchemy.engine.Engine [cached since 0.9351s ago] (89,)\n",
      "2021-07-08 19:33:29,924 INFO sqlalchemy.engine.Engine SELECT \"Positions\".id AS \"Positions_id\", \"Positions\".upper AS \"Positions_upper\", \"Positions\".middle AS \"Positions_middle\", \"Positions\".lower AS \"Positions_lower\", \"Positions\".x AS \"Positions_x\", \"Positions\".y AS \"Positions_y\" \n",
      "FROM \"Positions\" \n",
      "WHERE \"Positions\".id = ?\n",
      "2021-07-08 19:33:29,925 INFO sqlalchemy.engine.Engine [cached since 0.9458s ago] (90,)\n",
      "2021-07-08 19:33:29,927 INFO sqlalchemy.engine.Engine SELECT \"Positions\".id AS \"Positions_id\", \"Positions\".upper AS \"Positions_upper\", \"Positions\".middle AS \"Positions_middle\", \"Positions\".lower AS \"Positions_lower\", \"Positions\".x AS \"Positions_x\", \"Positions\".y AS \"Positions_y\" \n",
      "FROM \"Positions\" \n",
      "WHERE \"Positions\".id = ?\n",
      "2021-07-08 19:33:29,927 INFO sqlalchemy.engine.Engine [cached since 0.9407s ago] (91,)\n",
      "Borehole geometry created successfully !\n",
      "2021-07-08 19:33:29,955 INFO sqlalchemy.engine.Engine UPDATE \"Boreholes\" SET length=? WHERE \"Boreholes\".id = ?\n",
      "2021-07-08 19:33:29,958 INFO sqlalchemy.engine.Engine [cached since 0.8901s ago] (60.0, 'BH009')\n",
      "2021-07-08 19:33:29,960 INFO sqlalchemy.engine.Engine INSERT INTO \"Boreholes\" (id, length, diameter) VALUES (?, ?, ?)\n",
      "2021-07-08 19:33:29,961 INFO sqlalchemy.engine.Engine [cached since 1.04s ago] ('BH10', 124.0, 0.31)\n",
      "2021-07-08 19:33:29,963 INFO sqlalchemy.engine.Engine INSERT INTO \"Positions\" (id, upper, middle, lower, x, y) VALUES (?, ?, ?, ?, ?, ?)\n",
      "2021-07-08 19:33:29,966 INFO sqlalchemy.engine.Engine [cached since 1.039s ago] ((92, 100.0, 100.0, 100.0, 152315.0, 121754.0), (93, 69.0, 69.0, 69.0, 152315.0, 121754.0), (94, 69.0, 69.0, 69.0, 152315.0, 121754.0), (95, 38.0, 38.0, 38.0, 152315.0, 121754.0), (96, 38.0, 38.0, 38.0, 152315.0, 121754.0), (97, 7.0, 7.0, 7.0, 152315.0, 121754.0), (98, 7.0, 7.0, 7.0, 152315.0, 121754.0), (99, -24.0, -24.0, -24.0, 152315.0, 121754.0))\n",
      "2021-07-08 19:33:29,968 INFO sqlalchemy.engine.Engine INSERT INTO \"Intervals\" (id, borehole, interval_number, description, top_id, base_id, data_id) VALUES (?, ?, ?, ?, ?, ?, ?)\n",
      "2021-07-08 19:33:29,970 INFO sqlalchemy.engine.Engine [cached since 1.037s ago] ((46, 'BH10', 0, 'VR', 92, 93, None), (47, 'BH10', 1, 'VR', 94, 95, None), (48, 'BH10', 2, 'VS', 96, 97, None), (49, 'BH10', 3, 'VR', 98, 99, None))\n",
      "2021-07-08 19:33:29,973 INFO sqlalchemy.engine.Engine COMMIT\n",
      "2021-07-08 19:33:29,977 INFO sqlalchemy.engine.Engine BEGIN (implicit)\n",
      "2021-07-08 19:33:29,978 INFO sqlalchemy.engine.Engine SELECT \"Boreholes\".id AS \"Boreholes_id\", \"Boreholes\".length AS \"Boreholes_length\", \"Boreholes\".diameter AS \"Boreholes_diameter\" \n",
      "FROM \"Boreholes\"\n",
      "2021-07-08 19:33:29,980 INFO sqlalchemy.engine.Engine [cached since 1.105s ago] ()\n",
      "2021-07-08 19:33:29,983 INFO sqlalchemy.engine.Engine SELECT \"Intervals\".id AS \"Intervals_id\", \"Intervals\".borehole AS \"Intervals_borehole\", \"Intervals\".interval_number AS \"Intervals_interval_number\", \"Intervals\".description AS \"Intervals_description\", \"Intervals\".top_id AS \"Intervals_top_id\", \"Intervals\".base_id AS \"Intervals_base_id\", \"Intervals\".data_id AS \"Intervals_data_id\" \n",
      "FROM \"Intervals\" \n",
      "WHERE ? = \"Intervals\".borehole\n",
      "2021-07-08 19:33:29,985 INFO sqlalchemy.engine.Engine [cached since 1.02s ago] ('BH10',)\n",
      "2021-07-08 19:33:29,988 INFO sqlalchemy.engine.Engine SELECT \"Positions\".id AS \"Positions_id\", \"Positions\".upper AS \"Positions_upper\", \"Positions\".middle AS \"Positions_middle\", \"Positions\".lower AS \"Positions_lower\", \"Positions\".x AS \"Positions_x\", \"Positions\".y AS \"Positions_y\" \n",
      "FROM \"Positions\" \n",
      "WHERE \"Positions\".id = ?\n",
      "2021-07-08 19:33:29,989 INFO sqlalchemy.engine.Engine [cached since 1.01s ago] (92,)\n",
      "2021-07-08 19:33:29,991 INFO sqlalchemy.engine.Engine SELECT \"Positions\".id AS \"Positions_id\", \"Positions\".upper AS \"Positions_upper\", \"Positions\".middle AS \"Positions_middle\", \"Positions\".lower AS \"Positions_lower\", \"Positions\".x AS \"Positions_x\", \"Positions\".y AS \"Positions_y\" \n",
      "FROM \"Positions\" \n",
      "WHERE \"Positions\".id = ?\n",
      "2021-07-08 19:33:29,992 INFO sqlalchemy.engine.Engine [cached since 1.005s ago] (93,)\n",
      "2021-07-08 19:33:29,995 INFO sqlalchemy.engine.Engine SELECT \"Positions\".id AS \"Positions_id\", \"Positions\".upper AS \"Positions_upper\", \"Positions\".middle AS \"Positions_middle\", \"Positions\".lower AS \"Positions_lower\", \"Positions\".x AS \"Positions_x\", \"Positions\".y AS \"Positions_y\" \n",
      "FROM \"Positions\" \n",
      "WHERE \"Positions\".id = ?\n",
      "2021-07-08 19:33:29,996 INFO sqlalchemy.engine.Engine [cached since 1.017s ago] (94,)\n",
      "2021-07-08 19:33:30,005 INFO sqlalchemy.engine.Engine SELECT \"Positions\".id AS \"Positions_id\", \"Positions\".upper AS \"Positions_upper\", \"Positions\".middle AS \"Positions_middle\", \"Positions\".lower AS \"Positions_lower\", \"Positions\".x AS \"Positions_x\", \"Positions\".y AS \"Positions_y\" \n",
      "FROM \"Positions\" \n",
      "WHERE \"Positions\".id = ?\n",
      "2021-07-08 19:33:30,008 INFO sqlalchemy.engine.Engine [cached since 1.021s ago] (95,)\n",
      "2021-07-08 19:33:30,014 INFO sqlalchemy.engine.Engine SELECT \"Positions\".id AS \"Positions_id\", \"Positions\".upper AS \"Positions_upper\", \"Positions\".middle AS \"Positions_middle\", \"Positions\".lower AS \"Positions_lower\", \"Positions\".x AS \"Positions_x\", \"Positions\".y AS \"Positions_y\" \n",
      "FROM \"Positions\" \n",
      "WHERE \"Positions\".id = ?\n",
      "2021-07-08 19:33:30,015 INFO sqlalchemy.engine.Engine [cached since 1.037s ago] (96,)\n",
      "2021-07-08 19:33:30,021 INFO sqlalchemy.engine.Engine SELECT \"Positions\".id AS \"Positions_id\", \"Positions\".upper AS \"Positions_upper\", \"Positions\".middle AS \"Positions_middle\", \"Positions\".lower AS \"Positions_lower\", \"Positions\".x AS \"Positions_x\", \"Positions\".y AS \"Positions_y\" \n",
      "FROM \"Positions\" \n",
      "WHERE \"Positions\".id = ?\n",
      "2021-07-08 19:33:30,023 INFO sqlalchemy.engine.Engine [cached since 1.036s ago] (97,)\n",
      "2021-07-08 19:33:30,025 INFO sqlalchemy.engine.Engine SELECT \"Positions\".id AS \"Positions_id\", \"Positions\".upper AS \"Positions_upper\", \"Positions\".middle AS \"Positions_middle\", \"Positions\".lower AS \"Positions_lower\", \"Positions\".x AS \"Positions_x\", \"Positions\".y AS \"Positions_y\" \n",
      "FROM \"Positions\" \n",
      "WHERE \"Positions\".id = ?\n",
      "2021-07-08 19:33:30,026 INFO sqlalchemy.engine.Engine [cached since 1.047s ago] (98,)\n",
      "2021-07-08 19:33:30,030 INFO sqlalchemy.engine.Engine SELECT \"Positions\".id AS \"Positions_id\", \"Positions\".upper AS \"Positions_upper\", \"Positions\".middle AS \"Positions_middle\", \"Positions\".lower AS \"Positions_lower\", \"Positions\".x AS \"Positions_x\", \"Positions\".y AS \"Positions_y\" \n",
      "FROM \"Positions\" \n",
      "WHERE \"Positions\".id = ?\n",
      "2021-07-08 19:33:30,032 INFO sqlalchemy.engine.Engine [cached since 1.045s ago] (99,)\n"
     ]
    },
    {
     "name": "stdout",
     "output_type": "stream",
     "text": [
      "Borehole geometry created successfully !\n"
     ]
    }
   ],
   "source": [
    "for bh in boreholes:\n",
    "    p.add_borehole(bh)"
   ]
  },
  {
   "cell_type": "code",
   "execution_count": 28,
   "metadata": {},
   "outputs": [
    {
     "name": "stdout",
     "output_type": "stream",
     "text": [
      "2021-07-08 19:33:30,076 INFO sqlalchemy.engine.Engine UPDATE \"Boreholes\" SET length=? WHERE \"Boreholes\".id = ?\n",
      "2021-07-08 19:33:30,078 INFO sqlalchemy.engine.Engine [cached since 1.01s ago] (69.0, 'BH10')\n",
      "2021-07-08 19:33:30,086 INFO sqlalchemy.engine.Engine INSERT INTO \"Linkintervalcomponent\" (int_id, comp_id, extra_data) VALUES (?, ?, ?)\n",
      "2021-07-08 19:33:30,093 INFO sqlalchemy.engine.Engine [generated in 0.00787s] ((0, 0, ''), (0, 3, ''), (1, 1, ''), (1, 4, ''), (2, 6, ''), (2, 5, ''), (3, 2, ''), (3, 4, '')  ... displaying 10 of 98 total bound parameter sets ...  (49, 2, ''), (49, 5, ''))\n",
      "2021-07-08 19:33:30,103 INFO sqlalchemy.engine.Engine COMMIT\n",
      "2021-07-08 19:33:30,108 INFO sqlalchemy.engine.Engine BEGIN (implicit)\n",
      "2021-07-08 19:33:30,110 INFO sqlalchemy.engine.Engine SELECT \"Boreholes\".id AS \"Boreholes_id\", \"Boreholes\".length AS \"Boreholes_length\", \"Boreholes\".diameter AS \"Boreholes_diameter\" \n",
      "FROM \"Boreholes\"\n",
      "2021-07-08 19:33:30,111 INFO sqlalchemy.engine.Engine [cached since 1.236s ago] ()\n"
     ]
    }
   ],
   "source": [
    "p.add_link_between_components_and_intervals(link_intv_comp)"
   ]
  },
  {
   "cell_type": "code",
   "execution_count": 29,
   "metadata": {},
   "outputs": [
    {
     "name": "stdout",
     "output_type": "stream",
     "text": [
      "2021-07-08 19:33:30,123 INFO sqlalchemy.engine.Engine COMMIT\n",
      "Boreholes in the project :  10\n"
     ]
    }
   ],
   "source": [
    "p.commit()\n",
    "print('Boreholes in the project : ', len(p.boreholes))"
   ]
  },
  {
   "cell_type": "code",
   "execution_count": 30,
   "metadata": {},
   "outputs": [
    {
     "name": "stdout",
     "output_type": "stream",
     "text": [
      "2021-07-08 19:33:30,147 INFO sqlalchemy.engine.Engine BEGIN (implicit)\n",
      "2021-07-08 19:33:30,154 INFO sqlalchemy.engine.Engine SELECT \"Boreholes\".id AS \"Boreholes_id\", \"Boreholes\".length AS \"Boreholes_length\", \"Boreholes\".diameter AS \"Boreholes_diameter\" \n",
      "FROM \"Boreholes\" \n",
      "WHERE \"Boreholes\".id = ?\n",
      "2021-07-08 19:33:30,158 INFO sqlalchemy.engine.Engine [generated in 0.00448s] ('BH001',)\n",
      "2021-07-08 19:33:30,161 INFO sqlalchemy.engine.Engine SELECT \"Intervals\".id AS \"Intervals_id\", \"Intervals\".borehole AS \"Intervals_borehole\", \"Intervals\".interval_number AS \"Intervals_interval_number\", \"Intervals\".description AS \"Intervals_description\", \"Intervals\".top_id AS \"Intervals_top_id\", \"Intervals\".base_id AS \"Intervals_base_id\", \"Intervals\".data_id AS \"Intervals_data_id\" \n",
      "FROM \"Intervals\" \n",
      "WHERE ? = \"Intervals\".borehole\n",
      "2021-07-08 19:33:30,162 INFO sqlalchemy.engine.Engine [cached since 1.198s ago] ('BH001',)\n",
      "2021-07-08 19:33:30,165 INFO sqlalchemy.engine.Engine SELECT \"Boreholes\".id AS \"Boreholes_id\", \"Boreholes\".length AS \"Boreholes_length\", \"Boreholes\".diameter AS \"Boreholes_diameter\" \n",
      "FROM \"Boreholes\" \n",
      "WHERE \"Boreholes\".id = ?\n",
      "2021-07-08 19:33:30,166 INFO sqlalchemy.engine.Engine [cached since 0.01187s ago] ('BH002',)\n",
      "2021-07-08 19:33:30,167 INFO sqlalchemy.engine.Engine SELECT \"Intervals\".id AS \"Intervals_id\", \"Intervals\".borehole AS \"Intervals_borehole\", \"Intervals\".interval_number AS \"Intervals_interval_number\", \"Intervals\".description AS \"Intervals_description\", \"Intervals\".top_id AS \"Intervals_top_id\", \"Intervals\".base_id AS \"Intervals_base_id\", \"Intervals\".data_id AS \"Intervals_data_id\" \n",
      "FROM \"Intervals\" \n",
      "WHERE ? = \"Intervals\".borehole\n",
      "2021-07-08 19:33:30,168 INFO sqlalchemy.engine.Engine [cached since 1.203s ago] ('BH002',)\n",
      "2021-07-08 19:33:30,170 INFO sqlalchemy.engine.Engine SELECT \"Boreholes\".id AS \"Boreholes_id\", \"Boreholes\".length AS \"Boreholes_length\", \"Boreholes\".diameter AS \"Boreholes_diameter\" \n",
      "FROM \"Boreholes\" \n",
      "WHERE \"Boreholes\".id = ?\n",
      "2021-07-08 19:33:30,171 INFO sqlalchemy.engine.Engine [cached since 0.0168s ago] ('BH003',)\n",
      "2021-07-08 19:33:30,172 INFO sqlalchemy.engine.Engine SELECT \"Intervals\".id AS \"Intervals_id\", \"Intervals\".borehole AS \"Intervals_borehole\", \"Intervals\".interval_number AS \"Intervals_interval_number\", \"Intervals\".description AS \"Intervals_description\", \"Intervals\".top_id AS \"Intervals_top_id\", \"Intervals\".base_id AS \"Intervals_base_id\", \"Intervals\".data_id AS \"Intervals_data_id\" \n",
      "FROM \"Intervals\" \n",
      "WHERE ? = \"Intervals\".borehole\n",
      "2021-07-08 19:33:30,173 INFO sqlalchemy.engine.Engine [cached since 1.208s ago] ('BH003',)\n",
      "2021-07-08 19:33:30,175 INFO sqlalchemy.engine.Engine SELECT \"Boreholes\".id AS \"Boreholes_id\", \"Boreholes\".length AS \"Boreholes_length\", \"Boreholes\".diameter AS \"Boreholes_diameter\" \n",
      "FROM \"Boreholes\" \n",
      "WHERE \"Boreholes\".id = ?\n",
      "2021-07-08 19:33:30,176 INFO sqlalchemy.engine.Engine [cached since 0.02231s ago] ('BH004',)\n",
      "2021-07-08 19:33:30,177 INFO sqlalchemy.engine.Engine SELECT \"Intervals\".id AS \"Intervals_id\", \"Intervals\".borehole AS \"Intervals_borehole\", \"Intervals\".interval_number AS \"Intervals_interval_number\", \"Intervals\".description AS \"Intervals_description\", \"Intervals\".top_id AS \"Intervals_top_id\", \"Intervals\".base_id AS \"Intervals_base_id\", \"Intervals\".data_id AS \"Intervals_data_id\" \n",
      "FROM \"Intervals\" \n",
      "WHERE ? = \"Intervals\".borehole\n",
      "2021-07-08 19:33:30,178 INFO sqlalchemy.engine.Engine [cached since 1.213s ago] ('BH004',)\n",
      "2021-07-08 19:33:30,181 INFO sqlalchemy.engine.Engine SELECT \"Boreholes\".id AS \"Boreholes_id\", \"Boreholes\".length AS \"Boreholes_length\", \"Boreholes\".diameter AS \"Boreholes_diameter\" \n",
      "FROM \"Boreholes\" \n",
      "WHERE \"Boreholes\".id = ?\n",
      "2021-07-08 19:33:30,182 INFO sqlalchemy.engine.Engine [cached since 0.02842s ago] ('BH005',)\n",
      "2021-07-08 19:33:30,184 INFO sqlalchemy.engine.Engine SELECT \"Intervals\".id AS \"Intervals_id\", \"Intervals\".borehole AS \"Intervals_borehole\", \"Intervals\".interval_number AS \"Intervals_interval_number\", \"Intervals\".description AS \"Intervals_description\", \"Intervals\".top_id AS \"Intervals_top_id\", \"Intervals\".base_id AS \"Intervals_base_id\", \"Intervals\".data_id AS \"Intervals_data_id\" \n",
      "FROM \"Intervals\" \n",
      "WHERE ? = \"Intervals\".borehole\n",
      "2021-07-08 19:33:30,186 INFO sqlalchemy.engine.Engine [cached since 1.221s ago] ('BH005',)\n",
      "2021-07-08 19:33:30,188 INFO sqlalchemy.engine.Engine SELECT \"Boreholes\".id AS \"Boreholes_id\", \"Boreholes\".length AS \"Boreholes_length\", \"Boreholes\".diameter AS \"Boreholes_diameter\" \n",
      "FROM \"Boreholes\" \n",
      "WHERE \"Boreholes\".id = ?\n",
      "2021-07-08 19:33:30,189 INFO sqlalchemy.engine.Engine [cached since 0.0357s ago] ('BH006',)\n",
      "2021-07-08 19:33:30,191 INFO sqlalchemy.engine.Engine SELECT \"Intervals\".id AS \"Intervals_id\", \"Intervals\".borehole AS \"Intervals_borehole\", \"Intervals\".interval_number AS \"Intervals_interval_number\", \"Intervals\".description AS \"Intervals_description\", \"Intervals\".top_id AS \"Intervals_top_id\", \"Intervals\".base_id AS \"Intervals_base_id\", \"Intervals\".data_id AS \"Intervals_data_id\" \n",
      "FROM \"Intervals\" \n",
      "WHERE ? = \"Intervals\".borehole\n",
      "2021-07-08 19:33:30,191 INFO sqlalchemy.engine.Engine [cached since 1.227s ago] ('BH006',)\n",
      "2021-07-08 19:33:30,194 INFO sqlalchemy.engine.Engine SELECT \"Boreholes\".id AS \"Boreholes_id\", \"Boreholes\".length AS \"Boreholes_length\", \"Boreholes\".diameter AS \"Boreholes_diameter\" \n",
      "FROM \"Boreholes\" \n",
      "WHERE \"Boreholes\".id = ?\n",
      "2021-07-08 19:33:30,195 INFO sqlalchemy.engine.Engine [cached since 0.04135s ago] ('BH007',)\n",
      "2021-07-08 19:33:30,200 INFO sqlalchemy.engine.Engine SELECT \"Intervals\".id AS \"Intervals_id\", \"Intervals\".borehole AS \"Intervals_borehole\", \"Intervals\".interval_number AS \"Intervals_interval_number\", \"Intervals\".description AS \"Intervals_description\", \"Intervals\".top_id AS \"Intervals_top_id\", \"Intervals\".base_id AS \"Intervals_base_id\", \"Intervals\".data_id AS \"Intervals_data_id\" \n",
      "FROM \"Intervals\" \n",
      "WHERE ? = \"Intervals\".borehole\n",
      "2021-07-08 19:33:30,204 INFO sqlalchemy.engine.Engine [cached since 1.239s ago] ('BH007',)\n",
      "2021-07-08 19:33:30,208 INFO sqlalchemy.engine.Engine SELECT \"Boreholes\".id AS \"Boreholes_id\", \"Boreholes\".length AS \"Boreholes_length\", \"Boreholes\".diameter AS \"Boreholes_diameter\" \n",
      "FROM \"Boreholes\" \n",
      "WHERE \"Boreholes\".id = ?\n",
      "2021-07-08 19:33:30,209 INFO sqlalchemy.engine.Engine [cached since 0.05482s ago] ('BH008',)\n",
      "2021-07-08 19:33:30,211 INFO sqlalchemy.engine.Engine SELECT \"Intervals\".id AS \"Intervals_id\", \"Intervals\".borehole AS \"Intervals_borehole\", \"Intervals\".interval_number AS \"Intervals_interval_number\", \"Intervals\".description AS \"Intervals_description\", \"Intervals\".top_id AS \"Intervals_top_id\", \"Intervals\".base_id AS \"Intervals_base_id\", \"Intervals\".data_id AS \"Intervals_data_id\" \n",
      "FROM \"Intervals\" \n",
      "WHERE ? = \"Intervals\".borehole\n",
      "2021-07-08 19:33:30,212 INFO sqlalchemy.engine.Engine [cached since 1.247s ago] ('BH008',)\n",
      "2021-07-08 19:33:30,218 INFO sqlalchemy.engine.Engine SELECT \"Boreholes\".id AS \"Boreholes_id\", \"Boreholes\".length AS \"Boreholes_length\", \"Boreholes\".diameter AS \"Boreholes_diameter\" \n",
      "FROM \"Boreholes\" \n",
      "WHERE \"Boreholes\".id = ?\n",
      "2021-07-08 19:33:30,220 INFO sqlalchemy.engine.Engine [cached since 0.06658s ago] ('BH009',)\n",
      "2021-07-08 19:33:30,226 INFO sqlalchemy.engine.Engine SELECT \"Intervals\".id AS \"Intervals_id\", \"Intervals\".borehole AS \"Intervals_borehole\", \"Intervals\".interval_number AS \"Intervals_interval_number\", \"Intervals\".description AS \"Intervals_description\", \"Intervals\".top_id AS \"Intervals_top_id\", \"Intervals\".base_id AS \"Intervals_base_id\", \"Intervals\".data_id AS \"Intervals_data_id\" \n",
      "FROM \"Intervals\" \n",
      "WHERE ? = \"Intervals\".borehole\n",
      "2021-07-08 19:33:30,227 INFO sqlalchemy.engine.Engine [cached since 1.262s ago] ('BH009',)\n",
      "2021-07-08 19:33:30,231 INFO sqlalchemy.engine.Engine SELECT \"Boreholes\".id AS \"Boreholes_id\", \"Boreholes\".length AS \"Boreholes_length\", \"Boreholes\".diameter AS \"Boreholes_diameter\" \n",
      "FROM \"Boreholes\" \n",
      "WHERE \"Boreholes\".id = ?\n",
      "2021-07-08 19:33:30,232 INFO sqlalchemy.engine.Engine [cached since 0.07788s ago] ('BH10',)\n",
      "2021-07-08 19:33:30,235 INFO sqlalchemy.engine.Engine SELECT \"Intervals\".id AS \"Intervals_id\", \"Intervals\".borehole AS \"Intervals_borehole\", \"Intervals\".interval_number AS \"Intervals_interval_number\", \"Intervals\".description AS \"Intervals_description\", \"Intervals\".top_id AS \"Intervals_top_id\", \"Intervals\".base_id AS \"Intervals_base_id\", \"Intervals\".data_id AS \"Intervals_data_id\" \n",
      "FROM \"Intervals\" \n",
      "WHERE ? = \"Intervals\".borehole\n"
     ]
    },
    {
     "name": "stdout",
     "output_type": "stream",
     "text": [
      "2021-07-08 19:33:30,236 INFO sqlalchemy.engine.Engine [cached since 1.271s ago] ('BH10',)\n"
     ]
    },
    {
     "data": {
      "text/plain": [
       "[<core.orm.BoreholeOrm>(Name=BH001, Length=62.0, Diameter=0.43, Intervals=4),\n",
       " <core.orm.BoreholeOrm>(Name=BH002, Length=66.0, Diameter=0.6, Intervals=5),\n",
       " <core.orm.BoreholeOrm>(Name=BH003, Length=85.0, Diameter=0.41, Intervals=5),\n",
       " <core.orm.BoreholeOrm>(Name=BH004, Length=75.0, Diameter=0.61, Intervals=5),\n",
       " <core.orm.BoreholeOrm>(Name=BH005, Length=72.0, Diameter=0.61, Intervals=6),\n",
       " <core.orm.BoreholeOrm>(Name=BH006, Length=75.0, Diameter=0.31, Intervals=5),\n",
       " <core.orm.BoreholeOrm>(Name=BH007, Length=60.0, Diameter=0.57, Intervals=6),\n",
       " <core.orm.BoreholeOrm>(Name=BH008, Length=66.0, Diameter=0.39, Intervals=5),\n",
       " <core.orm.BoreholeOrm>(Name=BH009, Length=60.0, Diameter=0.5, Intervals=5),\n",
       " <core.orm.BoreholeOrm>(Name=BH10, Length=69.0, Diameter=0.31, Intervals=4)]"
      ]
     },
     "execution_count": 30,
     "metadata": {},
     "output_type": "execute_result"
    }
   ],
   "source": [
    "p.boreholes"
   ]
  },
  {
   "cell_type": "code",
   "execution_count": 31,
   "metadata": {},
   "outputs": [],
   "source": [
    "bh = p.boreholes[0]"
   ]
  },
  {
   "cell_type": "code",
   "execution_count": 32,
   "metadata": {},
   "outputs": [],
   "source": [
    "intv = bh.intervals[0]"
   ]
  },
  {
   "cell_type": "code",
   "execution_count": 33,
   "metadata": {},
   "outputs": [],
   "source": [
    "data = {'key':'Benzene', 'value': 1.52, 'units': 'µg/l'}"
   ]
  },
  {
   "cell_type": "code",
   "execution_count": 34,
   "metadata": {},
   "outputs": [],
   "source": [
    "benzene_1 = IntervalDataOrm(id=1, key='Benzene', value=1.52, units='µg/l')"
   ]
  },
  {
   "cell_type": "code",
   "execution_count": 35,
   "metadata": {},
   "outputs": [],
   "source": [
    "benzene_1 = IntervalDataOrm(id=1, **data)"
   ]
  },
  {
   "cell_type": "code",
   "execution_count": 36,
   "metadata": {},
   "outputs": [],
   "source": [
    "intv.data = benzene_1"
   ]
  },
  {
   "cell_type": "code",
   "execution_count": 37,
   "metadata": {},
   "outputs": [
    {
     "name": "stdout",
     "output_type": "stream",
     "text": [
      "2021-07-08 19:33:30,298 INFO sqlalchemy.engine.Engine INSERT INTO \"IntervalData\" (id, interval, \"key\", value, units) VALUES (?, ?, ?, ?, ?)\n",
      "2021-07-08 19:33:30,300 INFO sqlalchemy.engine.Engine [generated in 0.00230s] (1, None, 'Benzene', 1.52, 'µg/l')\n",
      "2021-07-08 19:33:30,305 INFO sqlalchemy.engine.Engine UPDATE \"Intervals\" SET data_id=? WHERE \"Intervals\".id = ?\n",
      "2021-07-08 19:33:30,306 INFO sqlalchemy.engine.Engine [generated in 0.00138s] (1, 0)\n",
      "2021-07-08 19:33:30,308 INFO sqlalchemy.engine.Engine SELECT \"Boreholes\".id AS \"Boreholes_id\", \"Boreholes\".length AS \"Boreholes_length\", \"Boreholes\".diameter AS \"Boreholes_diameter\" \n",
      "FROM \"Boreholes\"\n",
      "2021-07-08 19:33:30,308 INFO sqlalchemy.engine.Engine [cached since 1.434s ago] ()\n"
     ]
    }
   ],
   "source": [
    "p.refresh(verbose=False)"
   ]
  },
  {
   "cell_type": "code",
   "execution_count": 38,
   "metadata": {},
   "outputs": [
    {
     "name": "stdout",
     "output_type": "stream",
     "text": [
      "2021-07-08 19:33:30,317 INFO sqlalchemy.engine.Engine COMMIT\n"
     ]
    }
   ],
   "source": [
    "session.commit()"
   ]
  },
  {
   "cell_type": "code",
   "execution_count": 39,
   "metadata": {},
   "outputs": [],
   "source": [
    "session.close()"
   ]
  },
  {
   "cell_type": "markdown",
   "metadata": {},
   "source": [
    "# 2D/3D Display"
   ]
  },
  {
   "cell_type": "code",
   "execution_count": 40,
   "metadata": {},
   "outputs": [
    {
     "data": {
      "text/plain": [
       "dict_keys(['lithology', 'benzene'])"
      ]
     },
     "execution_count": 40,
     "metadata": {},
     "output_type": "execute_result"
    }
   ],
   "source": [
    "p.legend_dict.keys() #['pollutant']"
   ]
  },
  {
   "cell_type": "code",
   "execution_count": 41,
   "metadata": {},
   "outputs": [
    {
     "data": {
      "text/plain": [
       "({'lithology': {'legend': Legend(Decor({'_colour': '#ffffff', 'width': 3, 'hatch': None, 'component': Component({'lithology': 'Inconnu'})})),\n",
       "   'cmap': <matplotlib.colors.ListedColormap at 0x7fc512a94970>,\n",
       "   'values': ['Inconnu']}},\n",
       " {'BH001': {'lithology': {'legend': Legend(Decor({'_colour': '#ffffff', 'width': 3, 'hatch': None, 'component': Component({'lithology': 'Inconnu'})})),\n",
       "    'cmap': <matplotlib.colors.ListedColormap at 0x7fc512a94a60>,\n",
       "    'values': ['Inconnu']}},\n",
       "  'BH002': {'lithology': {'legend': Legend(Decor({'_colour': '#ffffff', 'width': 3, 'hatch': None, 'component': Component({'lithology': 'Inconnu'})})),\n",
       "    'cmap': <matplotlib.colors.ListedColormap at 0x7fc512a93880>,\n",
       "    'values': ['Inconnu']}},\n",
       "  'BH003': {'lithology': {'legend': Legend(Decor({'_colour': '#ffffff', 'width': 3, 'hatch': None, 'component': Component({'lithology': 'Inconnu'})})),\n",
       "    'cmap': <matplotlib.colors.ListedColormap at 0x7fc512a94c10>,\n",
       "    'values': ['Inconnu']}},\n",
       "  'BH004': {'lithology': {'legend': Legend(Decor({'_colour': '#ffffff', 'width': 3, 'hatch': None, 'component': Component({'lithology': 'Inconnu'})})),\n",
       "    'cmap': <matplotlib.colors.ListedColormap at 0x7fc512ac0430>,\n",
       "    'values': ['Inconnu']}},\n",
       "  'BH005': {'lithology': {'legend': Legend(Decor({'_colour': '#ffffff', 'width': 3, 'hatch': None, 'component': Component({'lithology': 'Inconnu'})})),\n",
       "    'cmap': <matplotlib.colors.ListedColormap at 0x7fc512a940d0>,\n",
       "    'values': ['Inconnu']}},\n",
       "  'BH006': {'lithology': {'legend': Legend(Decor({'_colour': '#ffffff', 'width': 3, 'hatch': None, 'component': Component({'lithology': 'Inconnu'})})),\n",
       "    'cmap': <matplotlib.colors.ListedColormap at 0x7fc512a960d0>,\n",
       "    'values': ['Inconnu']}},\n",
       "  'BH007': {'lithology': {'legend': Legend(Decor({'_colour': '#ffffff', 'width': 3, 'hatch': None, 'component': Component({'lithology': 'Inconnu'})})),\n",
       "    'cmap': <matplotlib.colors.ListedColormap at 0x7fc512ab51f0>,\n",
       "    'values': ['Inconnu']}},\n",
       "  'BH008': {'lithology': {'legend': Legend(Decor({'_colour': '#ffffff', 'width': 3, 'hatch': None, 'component': Component({'lithology': 'Inconnu'})})),\n",
       "    'cmap': <matplotlib.colors.ListedColormap at 0x7fc512ac1100>,\n",
       "    'values': ['Inconnu']}},\n",
       "  'BH009': {'lithology': {'legend': Legend(Decor({'_colour': '#ffffff', 'width': 3, 'hatch': None, 'component': Component({'lithology': 'Inconnu'})})),\n",
       "    'cmap': <matplotlib.colors.ListedColormap at 0x7fc512ac1a00>,\n",
       "    'values': ['Inconnu']}},\n",
       "  'BH10': {'lithology': {'legend': Legend(Decor({'_colour': '#ffffff', 'width': 3, 'hatch': None, 'component': Component({'lithology': 'Inconnu'})})),\n",
       "    'cmap': <matplotlib.colors.ListedColormap at 0x7fc512ac39a0>,\n",
       "    'values': ['Inconnu']}}})"
      ]
     },
     "execution_count": 41,
     "metadata": {},
     "output_type": "execute_result"
    }
   ],
   "source": [
    "p.update_legend_cmap()"
   ]
  },
  {
   "cell_type": "markdown",
   "metadata": {},
   "source": [
    "## Display one object (attribute = 'lithology')"
   ]
  },
  {
   "cell_type": "raw",
   "metadata": {},
   "source": [
    "bh = 4\n",
    "#print(p.boreholes_3d[bh].name, '\\n', p.boreholes_3d[bh].intervals)"
   ]
  },
  {
   "cell_type": "code",
   "execution_count": 43,
   "metadata": {},
   "outputs": [],
   "source": [
    "bh = 1"
   ]
  },
  {
   "cell_type": "code",
   "execution_count": 46,
   "metadata": {},
   "outputs": [
    {
     "ename": "TypeError",
     "evalue": "ufunc 'isfinite' not supported for the input types, and the inputs could not be safely coerced to any supported types according to the casting rule ''safe''",
     "output_type": "error",
     "traceback": [
      "\u001b[0;31m---------------------------------------------------------------------------\u001b[0m",
      "\u001b[0;31mTypeError\u001b[0m                                 Traceback (most recent call last)",
      "\u001b[0;32m<ipython-input-46-0cae940388f4>\u001b[0m in \u001b[0;36m<module>\u001b[0;34m\u001b[0m\n\u001b[0;32m----> 1\u001b[0;31m \u001b[0mp\u001b[0m\u001b[0;34m.\u001b[0m\u001b[0mboreholes_3d\u001b[0m\u001b[0;34m[\u001b[0m\u001b[0mbh\u001b[0m\u001b[0;34m]\u001b[0m\u001b[0;34m.\u001b[0m\u001b[0mlog_plot\u001b[0m\u001b[0;34m(\u001b[0m\u001b[0;34m'lithology'\u001b[0m\u001b[0;34m,\u001b[0m \u001b[0mrepr_legend\u001b[0m\u001b[0;34m=\u001b[0m\u001b[0mmemoris_symbols\u001b[0m\u001b[0;34m[\u001b[0m\u001b[0;34m'lithology'\u001b[0m\u001b[0;34m]\u001b[0m\u001b[0;34m[\u001b[0m\u001b[0;34m'legend'\u001b[0m\u001b[0;34m]\u001b[0m\u001b[0;34m)\u001b[0m\u001b[0;34m\u001b[0m\u001b[0;34m\u001b[0m\u001b[0m\n\u001b[0m",
      "\u001b[0;32m~/PycharmProjects/GSDMA/core/omf.py\u001b[0m in \u001b[0;36mlog_plot\u001b[0;34m(self, figsize, repr_legend, text_size, width, repr_attribute, verbose)\u001b[0m\n\u001b[1;32m    468\u001b[0m         \u001b[0mplot_legend\u001b[0m \u001b[0;34m=\u001b[0m \u001b[0mLegend\u001b[0m\u001b[0;34m(\u001b[0m\u001b[0;34m[\u001b[0m\u001b[0mv\u001b[0m \u001b[0;32mfor\u001b[0m \u001b[0mv\u001b[0m \u001b[0;32min\u001b[0m \u001b[0mrev_decors\u001b[0m\u001b[0;34m]\u001b[0m\u001b[0;34m)\u001b[0m\u001b[0;34m\u001b[0m\u001b[0;34m\u001b[0m\u001b[0m\n\u001b[1;32m    469\u001b[0m \u001b[0;34m\u001b[0m\u001b[0m\n\u001b[0;32m--> 470\u001b[0;31m         \u001b[0mfig\u001b[0m\u001b[0;34m,\u001b[0m \u001b[0max\u001b[0m \u001b[0;34m=\u001b[0m \u001b[0mplt\u001b[0m\u001b[0;34m.\u001b[0m\u001b[0msubplots\u001b[0m\u001b[0;34m(\u001b[0m\u001b[0mncols\u001b[0m\u001b[0;34m=\u001b[0m\u001b[0;36m2\u001b[0m\u001b[0;34m,\u001b[0m \u001b[0mfigsize\u001b[0m\u001b[0;34m=\u001b[0m\u001b[0mfigsize\u001b[0m\u001b[0;34m)\u001b[0m\u001b[0;34m\u001b[0m\u001b[0;34m\u001b[0m\u001b[0m\n\u001b[0m\u001b[1;32m    471\u001b[0m         \u001b[0max\u001b[0m\u001b[0;34m[\u001b[0m\u001b[0;36m0\u001b[0m\u001b[0;34m]\u001b[0m\u001b[0;34m.\u001b[0m\u001b[0mset_title\u001b[0m\u001b[0;34m(\u001b[0m\u001b[0mself\u001b[0m\u001b[0;34m.\u001b[0m\u001b[0mname\u001b[0m\u001b[0;34m,\u001b[0m \u001b[0msize\u001b[0m\u001b[0;34m=\u001b[0m\u001b[0mtext_size\u001b[0m\u001b[0;34m,\u001b[0m \u001b[0mcolor\u001b[0m\u001b[0;34m=\u001b[0m\u001b[0;34m'b'\u001b[0m\u001b[0;34m)\u001b[0m\u001b[0;34m\u001b[0m\u001b[0;34m\u001b[0m\u001b[0m\n\u001b[1;32m    472\u001b[0m         plot_from_striplog(self, legend=plot_legend, match_only=[repr_attribute],\n",
      "\u001b[0;32m~/.local/share/virtualenvs/GSDMA-tJb-HgI6/lib/python3.8/site-packages/matplotlib/_api/deprecation.py\u001b[0m in \u001b[0;36mwrapper\u001b[0;34m(*args, **kwargs)\u001b[0m\n\u001b[1;32m    469\u001b[0m                 \u001b[0;34m\"parameter will become keyword-only %(removal)s.\"\u001b[0m\u001b[0;34m,\u001b[0m\u001b[0;34m\u001b[0m\u001b[0;34m\u001b[0m\u001b[0m\n\u001b[1;32m    470\u001b[0m                 name=name, obj_type=f\"parameter of {func.__name__}()\")\n\u001b[0;32m--> 471\u001b[0;31m         \u001b[0;32mreturn\u001b[0m \u001b[0mfunc\u001b[0m\u001b[0;34m(\u001b[0m\u001b[0;34m*\u001b[0m\u001b[0margs\u001b[0m\u001b[0;34m,\u001b[0m \u001b[0;34m**\u001b[0m\u001b[0mkwargs\u001b[0m\u001b[0;34m)\u001b[0m\u001b[0;34m\u001b[0m\u001b[0;34m\u001b[0m\u001b[0m\n\u001b[0m\u001b[1;32m    472\u001b[0m \u001b[0;34m\u001b[0m\u001b[0m\n\u001b[1;32m    473\u001b[0m     \u001b[0;32mreturn\u001b[0m \u001b[0mwrapper\u001b[0m\u001b[0;34m\u001b[0m\u001b[0;34m\u001b[0m\u001b[0m\n",
      "\u001b[0;32m~/.local/share/virtualenvs/GSDMA-tJb-HgI6/lib/python3.8/site-packages/matplotlib/pyplot.py\u001b[0m in \u001b[0;36msubplots\u001b[0;34m(nrows, ncols, sharex, sharey, squeeze, subplot_kw, gridspec_kw, **fig_kw)\u001b[0m\n\u001b[1;32m   1437\u001b[0m \u001b[0;34m\u001b[0m\u001b[0m\n\u001b[1;32m   1438\u001b[0m     \"\"\"\n\u001b[0;32m-> 1439\u001b[0;31m     \u001b[0mfig\u001b[0m \u001b[0;34m=\u001b[0m \u001b[0mfigure\u001b[0m\u001b[0;34m(\u001b[0m\u001b[0;34m**\u001b[0m\u001b[0mfig_kw\u001b[0m\u001b[0;34m)\u001b[0m\u001b[0;34m\u001b[0m\u001b[0;34m\u001b[0m\u001b[0m\n\u001b[0m\u001b[1;32m   1440\u001b[0m     axs = fig.subplots(nrows=nrows, ncols=ncols, sharex=sharex, sharey=sharey,\n\u001b[1;32m   1441\u001b[0m                        \u001b[0msqueeze\u001b[0m\u001b[0;34m=\u001b[0m\u001b[0msqueeze\u001b[0m\u001b[0;34m,\u001b[0m \u001b[0msubplot_kw\u001b[0m\u001b[0;34m=\u001b[0m\u001b[0msubplot_kw\u001b[0m\u001b[0;34m,\u001b[0m\u001b[0;34m\u001b[0m\u001b[0;34m\u001b[0m\u001b[0m\n",
      "\u001b[0;32m~/.local/share/virtualenvs/GSDMA-tJb-HgI6/lib/python3.8/site-packages/matplotlib/pyplot.py\u001b[0m in \u001b[0;36mfigure\u001b[0;34m(num, figsize, dpi, facecolor, edgecolor, frameon, FigureClass, clear, **kwargs)\u001b[0m\n\u001b[1;32m    795\u001b[0m                 RuntimeWarning)\n\u001b[1;32m    796\u001b[0m \u001b[0;34m\u001b[0m\u001b[0m\n\u001b[0;32m--> 797\u001b[0;31m         manager = new_figure_manager(\n\u001b[0m\u001b[1;32m    798\u001b[0m             \u001b[0mnum\u001b[0m\u001b[0;34m,\u001b[0m \u001b[0mfigsize\u001b[0m\u001b[0;34m=\u001b[0m\u001b[0mfigsize\u001b[0m\u001b[0;34m,\u001b[0m \u001b[0mdpi\u001b[0m\u001b[0;34m=\u001b[0m\u001b[0mdpi\u001b[0m\u001b[0;34m,\u001b[0m\u001b[0;34m\u001b[0m\u001b[0;34m\u001b[0m\u001b[0m\n\u001b[1;32m    799\u001b[0m             \u001b[0mfacecolor\u001b[0m\u001b[0;34m=\u001b[0m\u001b[0mfacecolor\u001b[0m\u001b[0;34m,\u001b[0m \u001b[0medgecolor\u001b[0m\u001b[0;34m=\u001b[0m\u001b[0medgecolor\u001b[0m\u001b[0;34m,\u001b[0m \u001b[0mframeon\u001b[0m\u001b[0;34m=\u001b[0m\u001b[0mframeon\u001b[0m\u001b[0;34m,\u001b[0m\u001b[0;34m\u001b[0m\u001b[0;34m\u001b[0m\u001b[0m\n",
      "\u001b[0;32m~/.local/share/virtualenvs/GSDMA-tJb-HgI6/lib/python3.8/site-packages/matplotlib/pyplot.py\u001b[0m in \u001b[0;36mnew_figure_manager\u001b[0;34m(*args, **kwargs)\u001b[0m\n\u001b[1;32m    314\u001b[0m     \u001b[0;34m\"\"\"Create a new figure manager instance.\"\"\"\u001b[0m\u001b[0;34m\u001b[0m\u001b[0;34m\u001b[0m\u001b[0m\n\u001b[1;32m    315\u001b[0m     \u001b[0m_warn_if_gui_out_of_main_thread\u001b[0m\u001b[0;34m(\u001b[0m\u001b[0;34m)\u001b[0m\u001b[0;34m\u001b[0m\u001b[0;34m\u001b[0m\u001b[0m\n\u001b[0;32m--> 316\u001b[0;31m     \u001b[0;32mreturn\u001b[0m \u001b[0m_backend_mod\u001b[0m\u001b[0;34m.\u001b[0m\u001b[0mnew_figure_manager\u001b[0m\u001b[0;34m(\u001b[0m\u001b[0;34m*\u001b[0m\u001b[0margs\u001b[0m\u001b[0;34m,\u001b[0m \u001b[0;34m**\u001b[0m\u001b[0mkwargs\u001b[0m\u001b[0;34m)\u001b[0m\u001b[0;34m\u001b[0m\u001b[0;34m\u001b[0m\u001b[0m\n\u001b[0m\u001b[1;32m    317\u001b[0m \u001b[0;34m\u001b[0m\u001b[0m\n\u001b[1;32m    318\u001b[0m \u001b[0;34m\u001b[0m\u001b[0m\n",
      "\u001b[0;32m~/.local/share/virtualenvs/GSDMA-tJb-HgI6/lib/python3.8/site-packages/matplotlib/backend_bases.py\u001b[0m in \u001b[0;36mnew_figure_manager\u001b[0;34m(cls, num, *args, **kwargs)\u001b[0m\n\u001b[1;32m   3542\u001b[0m         \u001b[0;32mfrom\u001b[0m \u001b[0mmatplotlib\u001b[0m\u001b[0;34m.\u001b[0m\u001b[0mfigure\u001b[0m \u001b[0;32mimport\u001b[0m \u001b[0mFigure\u001b[0m\u001b[0;34m\u001b[0m\u001b[0;34m\u001b[0m\u001b[0m\n\u001b[1;32m   3543\u001b[0m         \u001b[0mfig_cls\u001b[0m \u001b[0;34m=\u001b[0m \u001b[0mkwargs\u001b[0m\u001b[0;34m.\u001b[0m\u001b[0mpop\u001b[0m\u001b[0;34m(\u001b[0m\u001b[0;34m'FigureClass'\u001b[0m\u001b[0;34m,\u001b[0m \u001b[0mFigure\u001b[0m\u001b[0;34m)\u001b[0m\u001b[0;34m\u001b[0m\u001b[0;34m\u001b[0m\u001b[0m\n\u001b[0;32m-> 3544\u001b[0;31m         \u001b[0mfig\u001b[0m \u001b[0;34m=\u001b[0m \u001b[0mfig_cls\u001b[0m\u001b[0;34m(\u001b[0m\u001b[0;34m*\u001b[0m\u001b[0margs\u001b[0m\u001b[0;34m,\u001b[0m \u001b[0;34m**\u001b[0m\u001b[0mkwargs\u001b[0m\u001b[0;34m)\u001b[0m\u001b[0;34m\u001b[0m\u001b[0;34m\u001b[0m\u001b[0m\n\u001b[0m\u001b[1;32m   3545\u001b[0m         \u001b[0;32mreturn\u001b[0m \u001b[0mcls\u001b[0m\u001b[0;34m.\u001b[0m\u001b[0mnew_figure_manager_given_figure\u001b[0m\u001b[0;34m(\u001b[0m\u001b[0mnum\u001b[0m\u001b[0;34m,\u001b[0m \u001b[0mfig\u001b[0m\u001b[0;34m)\u001b[0m\u001b[0;34m\u001b[0m\u001b[0;34m\u001b[0m\u001b[0m\n\u001b[1;32m   3546\u001b[0m \u001b[0;34m\u001b[0m\u001b[0m\n",
      "\u001b[0;32m~/.local/share/virtualenvs/GSDMA-tJb-HgI6/lib/python3.8/site-packages/matplotlib/figure.py\u001b[0m in \u001b[0;36m__init__\u001b[0;34m(self, figsize, dpi, facecolor, edgecolor, linewidth, frameon, subplotpars, tight_layout, constrained_layout)\u001b[0m\n\u001b[1;32m   2239\u001b[0m             \u001b[0mframeon\u001b[0m \u001b[0;34m=\u001b[0m \u001b[0mmpl\u001b[0m\u001b[0;34m.\u001b[0m\u001b[0mrcParams\u001b[0m\u001b[0;34m[\u001b[0m\u001b[0;34m'figure.frameon'\u001b[0m\u001b[0;34m]\u001b[0m\u001b[0;34m\u001b[0m\u001b[0;34m\u001b[0m\u001b[0m\n\u001b[1;32m   2240\u001b[0m \u001b[0;34m\u001b[0m\u001b[0m\n\u001b[0;32m-> 2241\u001b[0;31m         \u001b[0;32mif\u001b[0m \u001b[0;32mnot\u001b[0m \u001b[0mnp\u001b[0m\u001b[0;34m.\u001b[0m\u001b[0misfinite\u001b[0m\u001b[0;34m(\u001b[0m\u001b[0mfigsize\u001b[0m\u001b[0;34m)\u001b[0m\u001b[0;34m.\u001b[0m\u001b[0mall\u001b[0m\u001b[0;34m(\u001b[0m\u001b[0;34m)\u001b[0m \u001b[0;32mor\u001b[0m \u001b[0;34m(\u001b[0m\u001b[0mnp\u001b[0m\u001b[0;34m.\u001b[0m\u001b[0marray\u001b[0m\u001b[0;34m(\u001b[0m\u001b[0mfigsize\u001b[0m\u001b[0;34m)\u001b[0m \u001b[0;34m<\u001b[0m \u001b[0;36m0\u001b[0m\u001b[0;34m)\u001b[0m\u001b[0;34m.\u001b[0m\u001b[0many\u001b[0m\u001b[0;34m(\u001b[0m\u001b[0;34m)\u001b[0m\u001b[0;34m:\u001b[0m\u001b[0;34m\u001b[0m\u001b[0;34m\u001b[0m\u001b[0m\n\u001b[0m\u001b[1;32m   2242\u001b[0m             raise ValueError('figure size must be positive finite not '\n\u001b[1;32m   2243\u001b[0m                              f'{figsize}')\n",
      "\u001b[0;31mTypeError\u001b[0m: ufunc 'isfinite' not supported for the input types, and the inputs could not be safely coerced to any supported types according to the casting rule ''safe''"
     ]
    }
   ],
   "source": [
    "p.boreholes_3d[bh].log_plot('lithology', repr_legend=memoris_symbols['lithology']['legend'])"
   ]
  },
  {
   "cell_type": "code",
   "execution_count": null,
   "metadata": {},
   "outputs": [],
   "source": [
    "p.boreholes_3d[bh].log_plot"
   ]
  },
  {
   "cell_type": "raw",
   "metadata": {},
   "source": [
    "sargs = dict(title='test', title_font_size=30, label_font_size=12, n_labels=6,\n",
    "             fmt=\"%.2f\", font_family=\"arial\", color='k',interactive=True, \n",
    "             vertical=True, italic=True, shadow=False,\n",
    ")"
   ]
  },
  {
   "cell_type": "code",
   "execution_count": null,
   "metadata": {
    "scrolled": false
   },
   "outputs": [],
   "source": [
    "bh=1\n",
    "p.boreholes_3d[bh].plot3d(show_legend=False)#, scalar_bar_args=sargs)"
   ]
  },
  {
   "cell_type": "raw",
   "metadata": {},
   "source": [
    "import matplotlib as mpl\n",
    "\n",
    "fig, ax = mpl.pyplot.subplots(figsize=(6, 1))\n",
    "fig.subplots_adjust(bottom=0.5)\n",
    "\n",
    "#colors = ['red', 'green', 'blue', 'cyan']\n",
    "colors = p.cmap.colors\n",
    "cmap = (mpl.colors.ListedColormap(colors).with_extremes(over='0.25', under='0.75'))\n",
    "\n",
    "def fmt(x, pos):\n",
    "    return 'test'\n",
    "\n",
    "#n = len(colors)\n",
    "#bounds = [i for i in range(1,n+2)] #[1, 2, 4, 7, 8]\n",
    "#centers = [(bounds[i]+bounds[i+1])/2 for i in range(n)]\n",
    "norm = mpl.colors.BoundaryNorm(bounds, cmap.N)\n",
    "print(len(colors), centers)\n",
    "fig.colorbar(\n",
    "    mpl.cm.ScalarMappable(cmap=cmap, norm=norm),\n",
    "    cax=ax,\n",
    "    #boundaries=[0] + bounds + [n+2],  # Adding values for extensions.\n",
    "    extend='both',\n",
    "    ticks=centers,#bounds,\n",
    "    #spacing='proportional',\n",
    "    orientation='horizontal',\n",
    "    #label='Discrete intervals, some other units',\n",
    "    format=mpl.ticker.FuncFormatter(fmt)\n",
    ")"
   ]
  },
  {
   "cell_type": "raw",
   "metadata": {},
   "source": [
    "test_in = [1,2,3,4,5,6]\n",
    "test_out = []\n",
    "\n",
    "for i in test_in:\n",
    "    a = len(test_in)\n",
    "    if i < a/2:\n",
    "        test_out.append(i+.5)\n",
    "    elif i > a/2:\n",
    "        test_out.append(i-.5)\n",
    "    else:\n",
    "        test_out.append(i)\n",
    "print(test_out)"
   ]
  },
  {
   "cell_type": "raw",
   "metadata": {},
   "source": [
    "p.boreholes_3d[bh].plot3d(x3d=True)"
   ]
  },
  {
   "cell_type": "markdown",
   "metadata": {},
   "source": [
    "## Plot with another attribute"
   ]
  },
  {
   "cell_type": "code",
   "execution_count": null,
   "metadata": {},
   "outputs": [],
   "source": [
    "p.update_legend_cmap(repr_attribute='pollutant')[1] #legend=lithology_memoris, update_legend=False)[0]"
   ]
  },
  {
   "cell_type": "code",
   "execution_count": null,
   "metadata": {},
   "outputs": [],
   "source": [
    "p.boreholes_3d[bh].log_plot(repr_attribute='pollutant', repr_legend=pollutant_memoris)"
   ]
  },
  {
   "cell_type": "code",
   "execution_count": null,
   "metadata": {},
   "outputs": [],
   "source": [
    "p.boreholes_3d[bh].plot3d(repr_attribute='pollutant', \n",
    "                          repr_legend=pollutant_memoris, \n",
    "                          show_legend=True)"
   ]
  },
  {
   "cell_type": "code",
   "execution_count": null,
   "metadata": {},
   "outputs": [],
   "source": []
  },
  {
   "cell_type": "markdown",
   "metadata": {},
   "source": [
    "### Display project boreholes"
   ]
  },
  {
   "cell_type": "raw",
   "metadata": {},
   "source": [
    "p.plot3d(repr_attribute='pollutant', labels_size=15, bg_color=[\"royalblue\", \"aliceblue\"], window_size=(1300, 1000))"
   ]
  },
  {
   "cell_type": "markdown",
   "metadata": {},
   "source": [
    "### Boreholes in 3D using X3D for interaction within the notebook"
   ]
  },
  {
   "cell_type": "raw",
   "metadata": {
    "scrolled": false
   },
   "source": [
    "p.plot3d(x3d=True)"
   ]
  },
  {
   "cell_type": "code",
   "execution_count": null,
   "metadata": {},
   "outputs": [],
   "source": []
  }
 ],
 "metadata": {
  "kernelspec": {
   "display_name": "Python 3",
   "language": "python",
   "name": "python3"
  },
  "language_info": {
   "codemirror_mode": {
    "name": "ipython",
    "version": 3
   },
   "file_extension": ".py",
   "mimetype": "text/x-python",
   "name": "python",
   "nbconvert_exporter": "python",
   "pygments_lexer": "ipython3",
   "version": "3.8.5"
  }
 },
 "nbformat": 4,
 "nbformat_minor": 4
}
