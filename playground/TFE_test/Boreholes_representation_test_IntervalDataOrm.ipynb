{
 "cells": [
  {
   "cell_type": "markdown",
   "metadata": {},
   "source": [
    "# Example of using the Borehole3D class"
   ]
  },
  {
   "cell_type": "markdown",
   "metadata": {},
   "source": [
    "## Imports"
   ]
  },
  {
   "cell_type": "code",
   "execution_count": 1,
   "metadata": {},
   "outputs": [
    {
     "name": "stderr",
     "output_type": "stream",
     "text": [
      "/home/su530201/.local/share/virtualenvs/GSDMA-tJb-HgI6/lib/python3.8/site-packages/striplog/legend.py:687: UserWarning: This legend contains duplicate components.\n",
      "  warnings.warn(w)\n",
      "/home/su530201/.local/share/virtualenvs/GSDMA-tJb-HgI6/lib/python3.8/site-packages/striplog/legend.py:687: UserWarning: This legend contains duplicate components.\n",
      "  warnings.warn(w)\n"
     ]
    }
   ],
   "source": [
    "from striplog import Component, Decor, Legend, Lexicon, Striplog\n",
    "from core.omf import Borehole3D, striplog_legend_to_omf_legend \n",
    "from utils.lexicon.lexicon_memoris import lexicon_memoris, lithology_memoris, pollutant_memoris\n",
    "from utils.io import boreholes_from_files, gdf_viewer\n",
    "from core.core import Project\n",
    "from core.orm import BoreholeOrm, PositionOrm, Base, IntervalDataOrm\n",
    "import random\n",
    "from os import remove\n",
    "import pandas as pd\n",
    "import numpy as np\n",
    "from sqlalchemy import create_engine\n",
    "from sqlalchemy.orm import sessionmaker\n",
    "from definitions import ROOT_DIR"
   ]
  },
  {
   "cell_type": "markdown",
   "metadata": {},
   "source": [
    "## Reading of CSV files in a dir"
   ]
  },
  {
   "cell_type": "code",
   "execution_count": 2,
   "metadata": {},
   "outputs": [],
   "source": [
    "#df = pd.read_csv('test_data_boreholes.csv', sep=',') # use english lexicon\n",
    "df = pd.read_csv('test_litho_fr.csv', sep=',') # use french lexicon"
   ]
  },
  {
   "cell_type": "markdown",
   "metadata": {},
   "source": [
    "## Data Checking"
   ]
  },
  {
   "cell_type": "raw",
   "metadata": {},
   "source": [
    "df.drop('Z', axis='columns', inplace=True)\n",
    "df.rename({'new_Z':'Z'}, axis='columns', inplace=True)"
   ]
  },
  {
   "cell_type": "raw",
   "metadata": {},
   "source": [
    "df.loc[df.query('Colour==\"tan\"').index, 'Colour'] = 'green' # use simple colour"
   ]
  },
  {
   "cell_type": "code",
   "execution_count": 3,
   "metadata": {},
   "outputs": [],
   "source": [
    "#pol = ['As', 'Ni', 'Cl', 'Hg', 'Pb', 'Zn']\n",
    "pol = ['VR','VS','VI']\n",
    "#df[['Pollutant', 'Concentration']] = ''\n",
    "df[['Pollutant', 'Concentration']] = ''\n",
    "df['Pollutant'] = df['Pollutant'].apply(lambda x: random.sample(pol, 1)[0])\n",
    "df['Concentration'] = df['Concentration'].apply(lambda x: np.random.randint(0,100))\n",
    "df['Unit'] = 'mg/l'"
   ]
  },
  {
   "cell_type": "code",
   "execution_count": 4,
   "metadata": {},
   "outputs": [],
   "source": [
    "df['Lithology'] = df['Lithology'].replace({'Grès':'Marne', 'Calcaire':'Dolomie'})"
   ]
  },
  {
   "cell_type": "code",
   "execution_count": 5,
   "metadata": {},
   "outputs": [],
   "source": [
    "df.loc[35.5, :] = ['BH007',152794.0, 121111.0, 60.0, 0.57, 45, 'Calcaire', 'Bleu', 4, 41, 45, 'Cl', 78, 'mg/l']\n",
    "df.loc[25.5, :] = ['BH005',152473.0, 121460.0, 72.0, 0.61, 32, 'Schiste', 'gris', 3, 29, 32, 'Cl', 78, 'mg/l']\n",
    "df.drop(index=4, inplace=True)\n",
    "df.drop(columns='Colour', inplace=True)\n",
    "df = df.sort_index().reset_index(drop=True)"
   ]
  },
  {
   "cell_type": "raw",
   "metadata": {},
   "source": [
    "df.loc[995, :] = ['BH199',152455.0, 121128.0, 68.0, 0.57, 36, 'Calcaire', 'Bleu', 9, 27, 36, 'Cl', 78, 'mg/l']"
   ]
  },
  {
   "cell_type": "raw",
   "metadata": {},
   "source": [
    "df.to_csv('test_litho_fr.csv', index=False)"
   ]
  },
  {
   "cell_type": "code",
   "execution_count": 6,
   "metadata": {},
   "outputs": [
    {
     "name": "stdout",
     "output_type": "stream",
     "text": [
      "Rows : 996, columns : 13\n"
     ]
    },
    {
     "data": {
      "application/vnd.jupyter.widget-view+json": {
       "model_id": "29d69722e8e54354b87b7eebbda5477a",
       "version_major": 2,
       "version_minor": 0
      },
      "text/plain": [
       "interactive(children=(IntSlider(value=10, description='rows', max=996, min=10, readout=False), IntSlider(value…"
      ]
     },
     "metadata": {},
     "output_type": "display_data"
    }
   ],
   "source": [
    "gdf_viewer(df)"
   ]
  },
  {
   "cell_type": "raw",
   "metadata": {},
   "source": [
    "df.query('X==152013.0 and Y==121905.0')"
   ]
  },
  {
   "cell_type": "markdown",
   "metadata": {},
   "source": [
    "## Create Boreholes from dataframes or files"
   ]
  },
  {
   "cell_type": "code",
   "execution_count": 7,
   "metadata": {},
   "outputs": [],
   "source": [
    "bhs_df=[df[0:50]] # list of dataframes"
   ]
  },
  {
   "cell_type": "code",
   "execution_count": 8,
   "metadata": {
    "scrolled": true
   },
   "outputs": [
    {
     "name": "stderr",
     "output_type": "stream",
     "text": [
      "/home/su530201/PycharmProjects/GSDMA/utils/io.py:469: SAWarning: relationship 'ComponentOrm.intervals' will copy column Components.id to column Linkintervalcomponent.comp_id, which conflicts with relationship(s): 'IntervalOrm.components' (copies Components.id to Linkintervalcomponent.comp_id). If this is not the intention, consider if these relationships should be linked with back_populates, or if viewonly=True should be applied to one or more if they are read-only. For the less common case that foreign key constraints are partially overlapping, the orm.foreign() annotation can be used to isolate the columns that should be written towards.   The 'overlaps' parameter may be used to remove this warning.\n",
      "  boreholes.append(BoreholeOrm(id=bh_name))\n",
      "/home/su530201/PycharmProjects/GSDMA/utils/io.py:469: SAWarning: relationship 'ComponentOrm.intervals' will copy column Intervals.id to column Linkintervalcomponent.int_id, which conflicts with relationship(s): 'IntervalOrm.components' (copies Intervals.id to Linkintervalcomponent.int_id). If this is not the intention, consider if these relationships should be linked with back_populates, or if viewonly=True should be applied to one or more if they are read-only. For the less common case that foreign key constraints are partially overlapping, the orm.foreign() annotation can be used to isolate the columns that should be written towards.   The 'overlaps' parameter may be used to remove this warning.\n",
      "  boreholes.append(BoreholeOrm(id=bh_name))\n",
      "/home/su530201/PycharmProjects/GSDMA/utils/io.py:469: SAWarning: relationship 'ComponentOrm.component_assoc' will copy column Components.id to column Linkintervalcomponent.comp_id, which conflicts with relationship(s): 'IntervalOrm.components' (copies Components.id to Linkintervalcomponent.comp_id), 'ComponentOrm.intervals' (copies Components.id to Linkintervalcomponent.comp_id). If this is not the intention, consider if these relationships should be linked with back_populates, or if viewonly=True should be applied to one or more if they are read-only. For the less common case that foreign key constraints are partially overlapping, the orm.foreign() annotation can be used to isolate the columns that should be written towards.   The 'overlaps' parameter may be used to remove this warning.\n",
      "  boreholes.append(BoreholeOrm(id=bh_name))\n",
      "/home/su530201/PycharmProjects/GSDMA/utils/io.py:469: SAWarning: relationship 'LinkIntervalComponentOrm.component' will copy column Components.id to column Linkintervalcomponent.comp_id, which conflicts with relationship(s): 'IntervalOrm.components' (copies Components.id to Linkintervalcomponent.comp_id), 'ComponentOrm.intervals' (copies Components.id to Linkintervalcomponent.comp_id). If this is not the intention, consider if these relationships should be linked with back_populates, or if viewonly=True should be applied to one or more if they are read-only. For the less common case that foreign key constraints are partially overlapping, the orm.foreign() annotation can be used to isolate the columns that should be written towards.   The 'overlaps' parameter may be used to remove this warning.\n",
      "  boreholes.append(BoreholeOrm(id=bh_name))\n",
      "/home/su530201/PycharmProjects/GSDMA/utils/io.py:469: SAWarning: relationship 'IntervalOrm.interval_assoc' will copy column Intervals.id to column Linkintervalcomponent.int_id, which conflicts with relationship(s): 'IntervalOrm.components' (copies Intervals.id to Linkintervalcomponent.int_id), 'ComponentOrm.intervals' (copies Intervals.id to Linkintervalcomponent.int_id). If this is not the intention, consider if these relationships should be linked with back_populates, or if viewonly=True should be applied to one or more if they are read-only. For the less common case that foreign key constraints are partially overlapping, the orm.foreign() annotation can be used to isolate the columns that should be written towards.   The 'overlaps' parameter may be used to remove this warning.\n",
      "  boreholes.append(BoreholeOrm(id=bh_name))\n"
     ]
    },
    {
     "name": "stdout",
     "output_type": "stream",
     "text": [
      "\n",
      "Dataframe 0 processing...\n",
      "================================\n",
      "|__ID:'BH001'\n",
      "{'lithology': 'sable', 'pollutant': 'vs'}\n",
      "{'lithology': 'argile', 'pollutant': 'vs'}\n",
      "{'lithology': 'marne', 'pollutant': 'vr'}\n",
      "{'lithology': 'charbon', 'pollutant': 'vs'}\n",
      "Summary : [Striplog(4 Intervals, start=0.0, stop=28.0)]\n",
      "|__ID:'BH002'\n",
      "{'lithology': 'sable', 'pollutant': 'vi'}\n",
      "{'lithology': 'argile', 'pollutant': 'vi'}\n",
      "{'lithology': 'marne', 'pollutant': 'vr'}\n",
      "{'lithology': 'charbon', 'pollutant': 'vs'}\n",
      "{'lithology': 'dolomie', 'pollutant': 'vr'}\n",
      "Summary : [Striplog(5 Intervals, start=0.0, stop=37.0)]\n",
      "|__ID:'BH003'\n",
      "{'lithology': 'sable', 'pollutant': 'vi'}\n",
      "{'lithology': 'argile', 'pollutant': 'vr'}\n",
      "{'lithology': 'marne', 'pollutant': 'vr'}\n",
      "{'lithology': 'charbon', 'pollutant': 'vi'}\n",
      "{'lithology': 'dolomie', 'pollutant': 'vs'}\n",
      "Summary : [Striplog(5 Intervals, start=0.0, stop=18.0)]\n",
      "|__ID:'BH004'\n",
      "{'lithology': 'sable', 'pollutant': 'vi'}\n",
      "{'lithology': 'argile', 'pollutant': 'vi'}\n",
      "{'lithology': 'marne', 'pollutant': 'vr'}\n",
      "{'lithology': 'charbon', 'pollutant': 'vr'}\n",
      "{'lithology': 'dolomie', 'pollutant': 'vi'}\n",
      "Summary : [Striplog(5 Intervals, start=0.0, stop=26.0)]\n",
      "|__ID:'BH005'\n",
      "{'lithology': 'sable', 'pollutant': 'vs'}\n",
      "{'lithology': 'argile', 'pollutant': 'vs'}\n",
      "{'lithology': 'marne', 'pollutant': 'vs'}\n",
      "{'lithology': 'charbon', 'pollutant': 'vs'}\n",
      "{'lithology': 'dolomie', 'pollutant': 'vr'}\n",
      "{'lithology': 'schiste'}\n",
      "Summary : [Striplog(6 Intervals, start=0.0, stop=32.0)]\n",
      "|__ID:'BH006'\n",
      "{'lithology': 'sable', 'pollutant': 'vs'}\n",
      "{'lithology': 'argile', 'pollutant': 'vi'}\n",
      "{'lithology': 'marne', 'pollutant': 'vs'}\n",
      "{'lithology': 'charbon', 'pollutant': 'vr'}\n",
      "{'lithology': 'dolomie', 'pollutant': 'vi'}\n",
      "Summary : [Striplog(5 Intervals, start=0.0, stop=26.0)]\n",
      "|__ID:'BH007'\n",
      "{'lithology': 'sable', 'pollutant': 'vs'}\n",
      "{'lithology': 'argile', 'pollutant': 'vs'}\n",
      "{'lithology': 'marne', 'pollutant': 'vi'}\n",
      "{'lithology': 'charbon', 'pollutant': 'vs'}\n",
      "{'lithology': 'dolomie', 'pollutant': 'vr'}\n",
      "{'lithology': 'calcaire'}\n",
      "Summary : [Striplog(6 Intervals, start=0.0, stop=45.0)]\n",
      "|__ID:'BH008'\n",
      "{'lithology': 'sable', 'pollutant': 'vi'}\n",
      "{'lithology': 'argile', 'pollutant': 'vr'}\n",
      "{'lithology': 'marne', 'pollutant': 'vi'}\n",
      "{'lithology': 'charbon', 'pollutant': 'vi'}\n",
      "{'lithology': 'dolomie', 'pollutant': 'vi'}\n",
      "Summary : [Striplog(5 Intervals, start=0.0, stop=35.0)]\n",
      "|__ID:'BH009'\n",
      "{'lithology': 'sable', 'pollutant': 'vr'}\n",
      "{'lithology': 'argile', 'pollutant': 'vr'}\n",
      "{'lithology': 'marne', 'pollutant': 'vi'}\n",
      "{'lithology': 'charbon', 'pollutant': 'vs'}\n",
      "{'lithology': 'dolomie', 'pollutant': 'vs'}\n",
      "Summary : [Striplog(5 Intervals, start=0.0, stop=40.0)]\n",
      "|__ID:'BH10'\n",
      "{'lithology': 'sable', 'pollutant': 'vr'}\n",
      "{'lithology': 'argile', 'pollutant': 'vs'}\n",
      "{'lithology': 'marne', 'pollutant': 'vr'}\n",
      "{'lithology': 'charbon', 'pollutant': 'vr'}\n",
      "Summary : [Striplog(4 Intervals, start=0.0, stop=14.0)]\n",
      "\n",
      "End of the process : 10 unique ID found\n"
     ]
    },
    {
     "name": "stderr",
     "output_type": "stream",
     "text": [
      "/home/su530201/PycharmProjects/GSDMA/utils/io.py:469: SAWarning: relationship 'LinkIntervalComponentOrm.interval' will copy column Intervals.id to column Linkintervalcomponent.int_id, which conflicts with relationship(s): 'IntervalOrm.components' (copies Intervals.id to Linkintervalcomponent.int_id), 'ComponentOrm.intervals' (copies Intervals.id to Linkintervalcomponent.int_id). If this is not the intention, consider if these relationships should be linked with back_populates, or if viewonly=True should be applied to one or more if they are read-only. For the less common case that foreign key constraints are partially overlapping, the orm.foreign() annotation can be used to isolate the columns that should be written towards.   The 'overlaps' parameter may be used to remove this warning.\n",
      "  boreholes.append(BoreholeOrm(id=bh_name))\n"
     ]
    }
   ],
   "source": [
    "boreholes, components, link_intv_comp = boreholes_from_files(bhs_df, verbose=False,\n",
    "                                                litho_field=['Lithology', 'Pollutant'], \n",
    "                                                color_field='Colour', lexicon=lexicon_memoris, \n",
    "                                                diam_field='Diameter', thick_field='Thickness')"
   ]
  },
  {
   "cell_type": "raw",
   "metadata": {},
   "source": [
    "boreholes[170].intervals[850].top.x, boreholes[170].intervals[850].top.y"
   ]
  },
  {
   "cell_type": "code",
   "execution_count": 9,
   "metadata": {},
   "outputs": [
    {
     "data": {
      "text/plain": [
       "[<core.orm.BoreholeOrm>(Name=BH001, Length=28.0, Diameter=0.43, Intervals=4),\n",
       " <core.orm.BoreholeOrm>(Name=BH002, Length=37.0, Diameter=0.6, Intervals=5),\n",
       " <core.orm.BoreholeOrm>(Name=BH003, Length=18.0, Diameter=0.41, Intervals=5),\n",
       " <core.orm.BoreholeOrm>(Name=BH004, Length=26.0, Diameter=0.61, Intervals=5),\n",
       " <core.orm.BoreholeOrm>(Name=BH005, Length=32.0, Diameter=0.61, Intervals=6),\n",
       " <core.orm.BoreholeOrm>(Name=BH006, Length=26.0, Diameter=0.31, Intervals=5),\n",
       " <core.orm.BoreholeOrm>(Name=BH007, Length=45.0, Diameter=0.57, Intervals=6),\n",
       " <core.orm.BoreholeOrm>(Name=BH008, Length=35.0, Diameter=0.39, Intervals=5),\n",
       " <core.orm.BoreholeOrm>(Name=BH009, Length=40.0, Diameter=0.5, Intervals=5),\n",
       " <core.orm.BoreholeOrm>(Name=BH10, Length=14.0, Diameter=0.31, Intervals=4)]"
      ]
     },
     "execution_count": 9,
     "metadata": {},
     "output_type": "execute_result"
    }
   ],
   "source": [
    "boreholes"
   ]
  },
  {
   "cell_type": "code",
   "execution_count": 10,
   "metadata": {},
   "outputs": [
    {
     "data": {
      "text/plain": [
       "{0: Component({'lithology': 'marne', 'pollutant': 'vr'}),\n",
       " 1: Component({'lithology': 'charbon', 'pollutant': 'vs'}),\n",
       " 2: Component({'lithology': 'sable', 'pollutant': 'vs'}),\n",
       " 3: Component({'lithology': 'argile', 'pollutant': 'vs'}),\n",
       " 4: Component({'lithology': 'dolomie', 'pollutant': 'vr'}),\n",
       " 5: Component({'lithology': 'sable', 'pollutant': 'vi'}),\n",
       " 6: Component({'lithology': 'argile', 'pollutant': 'vi'}),\n",
       " 7: Component({'lithology': 'dolomie', 'pollutant': 'vs'}),\n",
       " 8: Component({'lithology': 'charbon', 'pollutant': 'vi'}),\n",
       " 9: Component({'lithology': 'argile', 'pollutant': 'vr'}),\n",
       " 10: Component({'lithology': 'dolomie', 'pollutant': 'vi'}),\n",
       " 11: Component({'lithology': 'charbon', 'pollutant': 'vr'}),\n",
       " 12: Component({'lithology': 'marne', 'pollutant': 'vs'}),\n",
       " 13: Component({'lithology': 'schiste'}),\n",
       " 14: Component({'lithology': 'marne', 'pollutant': 'vi'}),\n",
       " 15: Component({'lithology': 'calcaire'}),\n",
       " 16: Component({'lithology': 'sable', 'pollutant': 'vr'})}"
      ]
     },
     "execution_count": 10,
     "metadata": {},
     "output_type": "execute_result"
    }
   ],
   "source": [
    "components"
   ]
  },
  {
   "cell_type": "code",
   "execution_count": 11,
   "metadata": {},
   "outputs": [
    {
     "data": {
      "text/plain": [
       "(10, 17)"
      ]
     },
     "execution_count": 11,
     "metadata": {},
     "output_type": "execute_result"
    }
   ],
   "source": [
    "len(boreholes), len(components)"
   ]
  },
  {
   "cell_type": "markdown",
   "metadata": {},
   "source": [
    "## Create a project and save data in a database"
   ]
  },
  {
   "cell_type": "code",
   "execution_count": 12,
   "metadata": {},
   "outputs": [],
   "source": [
    "remove('tmp_files/tfe_orm_db.db')"
   ]
  },
  {
   "cell_type": "code",
   "execution_count": 13,
   "metadata": {},
   "outputs": [],
   "source": [
    "engine = create_engine('sqlite:///tmp_files/tfe_orm_db.db', echo=True)"
   ]
  },
  {
   "cell_type": "code",
   "execution_count": 14,
   "metadata": {
    "scrolled": true
   },
   "outputs": [
    {
     "name": "stdout",
     "output_type": "stream",
     "text": [
      "2021-07-01 19:33:09,300 INFO sqlalchemy.engine.Engine BEGIN (implicit)\n",
      "2021-07-01 19:33:09,301 INFO sqlalchemy.engine.Engine PRAGMA main.table_info(\"Boreholes\")\n",
      "2021-07-01 19:33:09,301 INFO sqlalchemy.engine.Engine [raw sql] ()\n",
      "2021-07-01 19:33:09,303 INFO sqlalchemy.engine.Engine PRAGMA temp.table_info(\"Boreholes\")\n",
      "2021-07-01 19:33:09,303 INFO sqlalchemy.engine.Engine [raw sql] ()\n",
      "2021-07-01 19:33:09,304 INFO sqlalchemy.engine.Engine PRAGMA main.table_info(\"Positions\")\n",
      "2021-07-01 19:33:09,305 INFO sqlalchemy.engine.Engine [raw sql] ()\n",
      "2021-07-01 19:33:09,308 INFO sqlalchemy.engine.Engine PRAGMA temp.table_info(\"Positions\")\n",
      "2021-07-01 19:33:09,309 INFO sqlalchemy.engine.Engine [raw sql] ()\n",
      "2021-07-01 19:33:09,311 INFO sqlalchemy.engine.Engine PRAGMA main.table_info(\"IntervalData\")\n",
      "2021-07-01 19:33:09,312 INFO sqlalchemy.engine.Engine [raw sql] ()\n",
      "2021-07-01 19:33:09,313 INFO sqlalchemy.engine.Engine PRAGMA temp.table_info(\"IntervalData\")\n",
      "2021-07-01 19:33:09,313 INFO sqlalchemy.engine.Engine [raw sql] ()\n",
      "2021-07-01 19:33:09,315 INFO sqlalchemy.engine.Engine PRAGMA main.table_info(\"Intervals\")\n",
      "2021-07-01 19:33:09,315 INFO sqlalchemy.engine.Engine [raw sql] ()\n",
      "2021-07-01 19:33:09,316 INFO sqlalchemy.engine.Engine PRAGMA temp.table_info(\"Intervals\")\n",
      "2021-07-01 19:33:09,317 INFO sqlalchemy.engine.Engine [raw sql] ()\n",
      "2021-07-01 19:33:09,318 INFO sqlalchemy.engine.Engine PRAGMA main.table_info(\"Components\")\n",
      "2021-07-01 19:33:09,318 INFO sqlalchemy.engine.Engine [raw sql] ()\n",
      "2021-07-01 19:33:09,320 INFO sqlalchemy.engine.Engine PRAGMA temp.table_info(\"Components\")\n",
      "2021-07-01 19:33:09,320 INFO sqlalchemy.engine.Engine [raw sql] ()\n",
      "2021-07-01 19:33:09,322 INFO sqlalchemy.engine.Engine PRAGMA main.table_info(\"Linkintervalcomponent\")\n",
      "2021-07-01 19:33:09,323 INFO sqlalchemy.engine.Engine [raw sql] ()\n",
      "2021-07-01 19:33:09,325 INFO sqlalchemy.engine.Engine PRAGMA temp.table_info(\"Linkintervalcomponent\")\n",
      "2021-07-01 19:33:09,327 INFO sqlalchemy.engine.Engine [raw sql] ()\n",
      "2021-07-01 19:33:09,330 INFO sqlalchemy.engine.Engine \n",
      "CREATE TABLE \"Boreholes\" (\n",
      "\tid VARCHAR(32) NOT NULL, \n",
      "\tlength FLOAT, \n",
      "\tdiameter FLOAT, \n",
      "\tPRIMARY KEY (id)\n",
      ")\n",
      "\n",
      "\n",
      "2021-07-01 19:33:09,330 INFO sqlalchemy.engine.Engine [no key 0.00077s] ()\n",
      "2021-07-01 19:33:09,335 INFO sqlalchemy.engine.Engine \n",
      "CREATE TABLE \"Positions\" (\n",
      "\tid INTEGER NOT NULL, \n",
      "\tupper FLOAT, \n",
      "\tmiddle FLOAT, \n",
      "\tlower FLOAT, \n",
      "\tx FLOAT, \n",
      "\ty FLOAT, \n",
      "\tPRIMARY KEY (id)\n",
      ")\n",
      "\n",
      "\n",
      "2021-07-01 19:33:09,335 INFO sqlalchemy.engine.Engine [no key 0.00069s] ()\n",
      "2021-07-01 19:33:09,339 INFO sqlalchemy.engine.Engine \n",
      "CREATE TABLE \"IntervalData\" (\n",
      "\tid INTEGER NOT NULL, \n",
      "\tinterval INTEGER, \n",
      "\t\"key\" VARCHAR(32), \n",
      "\tvalue FLOAT, \n",
      "\tunits VARCHAR(32), \n",
      "\tPRIMARY KEY (id), \n",
      "\tFOREIGN KEY(interval) REFERENCES \"Intervals\" (id)\n",
      ")\n",
      "\n",
      "\n",
      "2021-07-01 19:33:09,340 INFO sqlalchemy.engine.Engine [no key 0.00073s] ()\n",
      "2021-07-01 19:33:09,345 INFO sqlalchemy.engine.Engine \n",
      "CREATE TABLE \"Intervals\" (\n",
      "\tid INTEGER NOT NULL, \n",
      "\tborehole VARCHAR(32), \n",
      "\tinterval_number INTEGER, \n",
      "\tdescription VARCHAR(32), \n",
      "\ttop_id INTEGER, \n",
      "\tbase_id INTEGER, \n",
      "\tdata_id INTEGER, \n",
      "\tPRIMARY KEY (id), \n",
      "\tFOREIGN KEY(borehole) REFERENCES \"Boreholes\" (id), \n",
      "\tFOREIGN KEY(top_id) REFERENCES \"Positions\" (id), \n",
      "\tFOREIGN KEY(base_id) REFERENCES \"Positions\" (id), \n",
      "\tFOREIGN KEY(data_id) REFERENCES \"IntervalData\" (id)\n",
      ")\n",
      "\n",
      "\n",
      "2021-07-01 19:33:09,345 INFO sqlalchemy.engine.Engine [no key 0.00087s] ()\n",
      "2021-07-01 19:33:09,349 INFO sqlalchemy.engine.Engine \n",
      "CREATE TABLE \"Components\" (\n",
      "\tid INTEGER NOT NULL, \n",
      "\tdescription VARCHAR(32), \n",
      "\tPRIMARY KEY (id)\n",
      ")\n",
      "\n",
      "\n",
      "2021-07-01 19:33:09,350 INFO sqlalchemy.engine.Engine [no key 0.00070s] ()\n",
      "2021-07-01 19:33:09,354 INFO sqlalchemy.engine.Engine \n",
      "CREATE TABLE \"Linkintervalcomponent\" (\n",
      "\tint_id INTEGER NOT NULL, \n",
      "\tcomp_id INTEGER NOT NULL, \n",
      "\textra_data VARCHAR(256), \n",
      "\tPRIMARY KEY (int_id, comp_id), \n",
      "\tFOREIGN KEY(int_id) REFERENCES \"Intervals\" (id), \n",
      "\tFOREIGN KEY(comp_id) REFERENCES \"Components\" (id)\n",
      ")\n",
      "\n",
      "\n",
      "2021-07-01 19:33:09,356 INFO sqlalchemy.engine.Engine [no key 0.00218s] ()\n",
      "2021-07-01 19:33:09,362 INFO sqlalchemy.engine.Engine COMMIT\n"
     ]
    }
   ],
   "source": [
    "Base.metadata.create_all(engine)"
   ]
  },
  {
   "cell_type": "code",
   "execution_count": 15,
   "metadata": {},
   "outputs": [],
   "source": [
    "Session = sessionmaker(bind=engine)\n",
    "session = Session()"
   ]
  },
  {
   "cell_type": "code",
   "execution_count": 16,
   "metadata": {},
   "outputs": [
    {
     "name": "stdout",
     "output_type": "stream",
     "text": [
      "2021-07-01 19:33:09,379 INFO sqlalchemy.engine.Engine BEGIN (implicit)\n",
      "2021-07-01 19:33:09,383 INFO sqlalchemy.engine.Engine SELECT \"Boreholes\".id AS \"Boreholes_id\", \"Boreholes\".length AS \"Boreholes_length\", \"Boreholes\".diameter AS \"Boreholes_diameter\" \n",
      "FROM \"Boreholes\"\n",
      "2021-07-01 19:33:09,383 INFO sqlalchemy.engine.Engine [generated in 0.00103s] ()\n",
      "2021-07-01 19:33:09,389 INFO sqlalchemy.engine.Engine INSERT INTO \"Components\" (id, description) VALUES (?, ?)\n",
      "2021-07-01 19:33:09,389 INFO sqlalchemy.engine.Engine [generated in 0.00084s] ((0, 'Marne, vr'), (1, 'Charbon, vs'), (2, 'Sable, vs'), (3, 'Argile, vs'), (4, 'Dolomie, vr'), (5, 'Sable, vi'), (6, 'Argile, vi'), (7, 'Dolomie, vs')  ... displaying 10 of 17 total bound parameter sets ...  (15, 'Calcaire'), (16, 'Sable, vr'))\n",
      "2021-07-01 19:33:09,392 INFO sqlalchemy.engine.Engine COMMIT\n",
      "2021-07-01 19:33:09,396 INFO sqlalchemy.engine.Engine BEGIN (implicit)\n",
      "2021-07-01 19:33:09,397 INFO sqlalchemy.engine.Engine SELECT \"Boreholes\".id AS \"Boreholes_id\", \"Boreholes\".length AS \"Boreholes_length\", \"Boreholes\".diameter AS \"Boreholes_diameter\" \n",
      "FROM \"Boreholes\"\n",
      "2021-07-01 19:33:09,398 INFO sqlalchemy.engine.Engine [cached since 0.0155s ago] ()\n"
     ]
    }
   ],
   "source": [
    "p = Project(session, legend_dict={'lithology':lithology_memoris, 'pollutant':pollutant_memoris}, \n",
    "            lexicon=lexicon_memoris, repr_attribute='lithology')\n",
    "\n",
    "p.add_components(components)"
   ]
  },
  {
   "cell_type": "markdown",
   "metadata": {},
   "source": [
    "Add boreholes into the project"
   ]
  },
  {
   "cell_type": "code",
   "execution_count": 17,
   "metadata": {
    "scrolled": true
   },
   "outputs": [
    {
     "name": "stdout",
     "output_type": "stream",
     "text": [
      "2021-07-01 19:33:09,408 INFO sqlalchemy.engine.Engine INSERT INTO \"Boreholes\" (id, length, diameter) VALUES (?, ?, ?)\n",
      "2021-07-01 19:33:09,411 INFO sqlalchemy.engine.Engine [generated in 0.00307s] ('BH001', 28.0, 0.43)\n",
      "2021-07-01 19:33:09,415 INFO sqlalchemy.engine.Engine INSERT INTO \"Positions\" (id, upper, middle, lower, x, y) VALUES (?, ?, ?, ?, ?, ?)\n",
      "2021-07-01 19:33:09,416 INFO sqlalchemy.engine.Engine [generated in 0.00110s] ((0, 101.0, 101.0, 101.0, 152600.0, 121039.0), (1, 97.0, 97.0, 97.0, 152600.0, 121039.0), (2, 97.0, 97.0, 97.0, 152600.0, 121039.0), (3, 93.0, 93.0, 93.0, 152600.0, 121039.0), (4, 93.0, 93.0, 93.0, 152600.0, 121039.0), (5, 81.0, 81.0, 81.0, 152600.0, 121039.0), (6, 81.0, 81.0, 81.0, 152600.0, 121039.0), (7, 73.0, 73.0, 73.0, 152600.0, 121039.0))\n",
      "2021-07-01 19:33:09,420 INFO sqlalchemy.engine.Engine INSERT INTO \"Intervals\" (id, borehole, interval_number, description, top_id, base_id, data_id) VALUES (?, ?, ?, ?, ?, ?, ?)\n",
      "2021-07-01 19:33:09,421 INFO sqlalchemy.engine.Engine [generated in 0.00107s] ((0, 'BH001', 0, 'Sable VS', 0, 1, None), (1, 'BH001', 1, 'Argile VS', 2, 3, None), (2, 'BH001', 2, 'Marne VR', 4, 5, None), (3, 'BH001', 3, 'Charbon VS', 6, 7, None))\n",
      "2021-07-01 19:33:09,426 INFO sqlalchemy.engine.Engine COMMIT\n",
      "2021-07-01 19:33:09,432 INFO sqlalchemy.engine.Engine BEGIN (implicit)\n",
      "2021-07-01 19:33:09,433 INFO sqlalchemy.engine.Engine SELECT \"Boreholes\".id AS \"Boreholes_id\", \"Boreholes\".length AS \"Boreholes_length\", \"Boreholes\".diameter AS \"Boreholes_diameter\" \n",
      "FROM \"Boreholes\"\n",
      "2021-07-01 19:33:09,434 INFO sqlalchemy.engine.Engine [cached since 0.05134s ago] ()\n",
      "2021-07-01 19:33:09,448 INFO sqlalchemy.engine.Engine SELECT \"Intervals\".id AS \"Intervals_id\", \"Intervals\".borehole AS \"Intervals_borehole\", \"Intervals\".interval_number AS \"Intervals_interval_number\", \"Intervals\".description AS \"Intervals_description\", \"Intervals\".top_id AS \"Intervals_top_id\", \"Intervals\".base_id AS \"Intervals_base_id\", \"Intervals\".data_id AS \"Intervals_data_id\" \n",
      "FROM \"Intervals\" \n",
      "WHERE ? = \"Intervals\".borehole\n",
      "2021-07-01 19:33:09,450 INFO sqlalchemy.engine.Engine [generated in 0.00166s] ('BH001',)\n",
      "2021-07-01 19:33:09,460 INFO sqlalchemy.engine.Engine SELECT \"Positions\".id AS \"Positions_id\", \"Positions\".upper AS \"Positions_upper\", \"Positions\".middle AS \"Positions_middle\", \"Positions\".lower AS \"Positions_lower\", \"Positions\".x AS \"Positions_x\", \"Positions\".y AS \"Positions_y\" \n",
      "FROM \"Positions\" \n",
      "WHERE \"Positions\".id = ?\n",
      "2021-07-01 19:33:09,462 INFO sqlalchemy.engine.Engine [generated in 0.00181s] (0,)\n",
      "2021-07-01 19:33:09,468 INFO sqlalchemy.engine.Engine SELECT \"Positions\".id AS \"Positions_id\", \"Positions\".upper AS \"Positions_upper\", \"Positions\".middle AS \"Positions_middle\", \"Positions\".lower AS \"Positions_lower\", \"Positions\".x AS \"Positions_x\", \"Positions\".y AS \"Positions_y\" \n",
      "FROM \"Positions\" \n",
      "WHERE \"Positions\".id = ?\n",
      "2021-07-01 19:33:09,469 INFO sqlalchemy.engine.Engine [generated in 0.00091s] (1,)\n",
      "2021-07-01 19:33:09,473 INFO sqlalchemy.engine.Engine SELECT \"Positions\".id AS \"Positions_id\", \"Positions\".upper AS \"Positions_upper\", \"Positions\".middle AS \"Positions_middle\", \"Positions\".lower AS \"Positions_lower\", \"Positions\".x AS \"Positions_x\", \"Positions\".y AS \"Positions_y\" \n",
      "FROM \"Positions\" \n",
      "WHERE \"Positions\".id = ?\n",
      "2021-07-01 19:33:09,474 INFO sqlalchemy.engine.Engine [cached since 0.01426s ago] (2,)\n",
      "2021-07-01 19:33:09,479 INFO sqlalchemy.engine.Engine SELECT \"Positions\".id AS \"Positions_id\", \"Positions\".upper AS \"Positions_upper\", \"Positions\".middle AS \"Positions_middle\", \"Positions\".lower AS \"Positions_lower\", \"Positions\".x AS \"Positions_x\", \"Positions\".y AS \"Positions_y\" \n",
      "FROM \"Positions\" \n",
      "WHERE \"Positions\".id = ?\n",
      "2021-07-01 19:33:09,480 INFO sqlalchemy.engine.Engine [cached since 0.01164s ago] (3,)\n",
      "2021-07-01 19:33:09,484 INFO sqlalchemy.engine.Engine SELECT \"Positions\".id AS \"Positions_id\", \"Positions\".upper AS \"Positions_upper\", \"Positions\".middle AS \"Positions_middle\", \"Positions\".lower AS \"Positions_lower\", \"Positions\".x AS \"Positions_x\", \"Positions\".y AS \"Positions_y\" \n",
      "FROM \"Positions\" \n",
      "WHERE \"Positions\".id = ?\n",
      "2021-07-01 19:33:09,485 INFO sqlalchemy.engine.Engine [cached since 0.02509s ago] (4,)\n",
      "2021-07-01 19:33:09,489 INFO sqlalchemy.engine.Engine SELECT \"Positions\".id AS \"Positions_id\", \"Positions\".upper AS \"Positions_upper\", \"Positions\".middle AS \"Positions_middle\", \"Positions\".lower AS \"Positions_lower\", \"Positions\".x AS \"Positions_x\", \"Positions\".y AS \"Positions_y\" \n",
      "FROM \"Positions\" \n",
      "WHERE \"Positions\".id = ?\n",
      "2021-07-01 19:33:09,492 INFO sqlalchemy.engine.Engine [cached since 0.02387s ago] (5,)\n",
      "2021-07-01 19:33:09,498 INFO sqlalchemy.engine.Engine SELECT \"Positions\".id AS \"Positions_id\", \"Positions\".upper AS \"Positions_upper\", \"Positions\".middle AS \"Positions_middle\", \"Positions\".lower AS \"Positions_lower\", \"Positions\".x AS \"Positions_x\", \"Positions\".y AS \"Positions_y\" \n",
      "FROM \"Positions\" \n",
      "WHERE \"Positions\".id = ?\n",
      "2021-07-01 19:33:09,500 INFO sqlalchemy.engine.Engine [cached since 0.04007s ago] (6,)\n",
      "2021-07-01 19:33:09,503 INFO sqlalchemy.engine.Engine SELECT \"Positions\".id AS \"Positions_id\", \"Positions\".upper AS \"Positions_upper\", \"Positions\".middle AS \"Positions_middle\", \"Positions\".lower AS \"Positions_lower\", \"Positions\".x AS \"Positions_x\", \"Positions\".y AS \"Positions_y\" \n",
      "FROM \"Positions\" \n",
      "WHERE \"Positions\".id = ?\n",
      "2021-07-01 19:33:09,503 INFO sqlalchemy.engine.Engine [cached since 0.03512s ago] (7,)\n",
      "2021-07-01 19:33:09,535 INFO sqlalchemy.engine.Engine UPDATE \"Boreholes\" SET length=? WHERE \"Boreholes\".id = ?\n",
      "2021-07-01 19:33:09,536 INFO sqlalchemy.engine.Engine [generated in 0.00089s] (97.0, 'BH001')\n",
      "2021-07-01 19:33:09,540 INFO sqlalchemy.engine.Engine INSERT INTO \"Boreholes\" (id, length, diameter) VALUES (?, ?, ?)\n",
      "2021-07-01 19:33:09,543 INFO sqlalchemy.engine.Engine [cached since 0.1345s ago] ('BH002', 37.0, 0.6)\n",
      "2021-07-01 19:33:09,547 INFO sqlalchemy.engine.Engine INSERT INTO \"Positions\" (id, upper, middle, lower, x, y) VALUES (?, ?, ?, ?, ?, ?)\n",
      "2021-07-01 19:33:09,548 INFO sqlalchemy.engine.Engine [cached since 0.133s ago] ((8, 103.0, 103.0, 103.0, 152819.0, 121586.0), (9, 98.0, 98.0, 98.0, 152819.0, 121586.0), (10, 98.0, 98.0, 98.0, 152819.0, 121586.0), (11, 95.0, 95.0, 95.0, 152819.0, 121586.0), (12, 95.0, 95.0, 95.0, 152819.0, 121586.0), (13, 89.0, 89.0, 89.0, 152819.0, 121586.0), (14, 89.0, 89.0, 89.0, 152819.0, 121586.0), (15, 88.0, 88.0, 88.0, 152819.0, 121586.0), (16, 88.0, 88.0, 88.0, 152819.0, 121586.0), (17, 66.0, 66.0, 66.0, 152819.0, 121586.0))\n",
      "2021-07-01 19:33:09,553 INFO sqlalchemy.engine.Engine INSERT INTO \"Intervals\" (id, borehole, interval_number, description, top_id, base_id, data_id) VALUES (?, ?, ?, ?, ?, ?, ?)\n",
      "2021-07-01 19:33:09,554 INFO sqlalchemy.engine.Engine [cached since 0.134s ago] ((4, 'BH002', 0, 'Sable VI', 8, 9, None), (5, 'BH002', 1, 'Argile VI', 10, 11, None), (6, 'BH002', 2, 'Marne VR', 12, 13, None), (7, 'BH002', 3, 'Charbon VS', 14, 15, None), (8, 'BH002', 4, 'Dolomie VR', 16, 17, None))\n",
      "2021-07-01 19:33:09,557 INFO sqlalchemy.engine.Engine COMMIT\n",
      "2021-07-01 19:33:09,563 INFO sqlalchemy.engine.Engine BEGIN (implicit)\n",
      "2021-07-01 19:33:09,564 INFO sqlalchemy.engine.Engine SELECT \"Boreholes\".id AS \"Boreholes_id\", \"Boreholes\".length AS \"Boreholes_length\", \"Boreholes\".diameter AS \"Boreholes_diameter\" \n",
      "FROM \"Boreholes\"\n",
      "2021-07-01 19:33:09,565 INFO sqlalchemy.engine.Engine [cached since 0.1826s ago] ()\n",
      "2021-07-01 19:33:09,567 INFO sqlalchemy.engine.Engine SELECT \"Intervals\".id AS \"Intervals_id\", \"Intervals\".borehole AS \"Intervals_borehole\", \"Intervals\".interval_number AS \"Intervals_interval_number\", \"Intervals\".description AS \"Intervals_description\", \"Intervals\".top_id AS \"Intervals_top_id\", \"Intervals\".base_id AS \"Intervals_base_id\", \"Intervals\".data_id AS \"Intervals_data_id\" \n",
      "FROM \"Intervals\" \n",
      "WHERE ? = \"Intervals\".borehole\n",
      "2021-07-01 19:33:09,568 INFO sqlalchemy.engine.Engine [cached since 0.1202s ago] ('BH002',)\n",
      "2021-07-01 19:33:09,571 INFO sqlalchemy.engine.Engine SELECT \"Positions\".id AS \"Positions_id\", \"Positions\".upper AS \"Positions_upper\", \"Positions\".middle AS \"Positions_middle\", \"Positions\".lower AS \"Positions_lower\", \"Positions\".x AS \"Positions_x\", \"Positions\".y AS \"Positions_y\" \n",
      "FROM \"Positions\" \n",
      "WHERE \"Positions\".id = ?\n"
     ]
    },
    {
     "name": "stdout",
     "output_type": "stream",
     "text": [
      "2021-07-01 19:33:09,571 INFO sqlalchemy.engine.Engine [cached since 0.1115s ago] (8,)\n",
      "2021-07-01 19:33:09,573 INFO sqlalchemy.engine.Engine SELECT \"Positions\".id AS \"Positions_id\", \"Positions\".upper AS \"Positions_upper\", \"Positions\".middle AS \"Positions_middle\", \"Positions\".lower AS \"Positions_lower\", \"Positions\".x AS \"Positions_x\", \"Positions\".y AS \"Positions_y\" \n",
      "FROM \"Positions\" \n",
      "WHERE \"Positions\".id = ?\n",
      "2021-07-01 19:33:09,574 INFO sqlalchemy.engine.Engine [cached since 0.1059s ago] (9,)\n",
      "2021-07-01 19:33:09,578 INFO sqlalchemy.engine.Engine SELECT \"Positions\".id AS \"Positions_id\", \"Positions\".upper AS \"Positions_upper\", \"Positions\".middle AS \"Positions_middle\", \"Positions\".lower AS \"Positions_lower\", \"Positions\".x AS \"Positions_x\", \"Positions\".y AS \"Positions_y\" \n",
      "FROM \"Positions\" \n",
      "WHERE \"Positions\".id = ?\n",
      "2021-07-01 19:33:09,579 INFO sqlalchemy.engine.Engine [cached since 0.1193s ago] (10,)\n",
      "2021-07-01 19:33:09,581 INFO sqlalchemy.engine.Engine SELECT \"Positions\".id AS \"Positions_id\", \"Positions\".upper AS \"Positions_upper\", \"Positions\".middle AS \"Positions_middle\", \"Positions\".lower AS \"Positions_lower\", \"Positions\".x AS \"Positions_x\", \"Positions\".y AS \"Positions_y\" \n",
      "FROM \"Positions\" \n",
      "WHERE \"Positions\".id = ?\n",
      "2021-07-01 19:33:09,582 INFO sqlalchemy.engine.Engine [cached since 0.1139s ago] (11,)\n",
      "2021-07-01 19:33:09,585 INFO sqlalchemy.engine.Engine SELECT \"Positions\".id AS \"Positions_id\", \"Positions\".upper AS \"Positions_upper\", \"Positions\".middle AS \"Positions_middle\", \"Positions\".lower AS \"Positions_lower\", \"Positions\".x AS \"Positions_x\", \"Positions\".y AS \"Positions_y\" \n",
      "FROM \"Positions\" \n",
      "WHERE \"Positions\".id = ?\n",
      "2021-07-01 19:33:09,586 INFO sqlalchemy.engine.Engine [cached since 0.1261s ago] (12,)\n",
      "2021-07-01 19:33:09,589 INFO sqlalchemy.engine.Engine SELECT \"Positions\".id AS \"Positions_id\", \"Positions\".upper AS \"Positions_upper\", \"Positions\".middle AS \"Positions_middle\", \"Positions\".lower AS \"Positions_lower\", \"Positions\".x AS \"Positions_x\", \"Positions\".y AS \"Positions_y\" \n",
      "FROM \"Positions\" \n",
      "WHERE \"Positions\".id = ?\n",
      "2021-07-01 19:33:09,590 INFO sqlalchemy.engine.Engine [cached since 0.1218s ago] (13,)\n",
      "2021-07-01 19:33:09,594 INFO sqlalchemy.engine.Engine SELECT \"Positions\".id AS \"Positions_id\", \"Positions\".upper AS \"Positions_upper\", \"Positions\".middle AS \"Positions_middle\", \"Positions\".lower AS \"Positions_lower\", \"Positions\".x AS \"Positions_x\", \"Positions\".y AS \"Positions_y\" \n",
      "FROM \"Positions\" \n",
      "WHERE \"Positions\".id = ?\n",
      "2021-07-01 19:33:09,596 INFO sqlalchemy.engine.Engine [cached since 0.1359s ago] (14,)\n",
      "2021-07-01 19:33:09,598 INFO sqlalchemy.engine.Engine SELECT \"Positions\".id AS \"Positions_id\", \"Positions\".upper AS \"Positions_upper\", \"Positions\".middle AS \"Positions_middle\", \"Positions\".lower AS \"Positions_lower\", \"Positions\".x AS \"Positions_x\", \"Positions\".y AS \"Positions_y\" \n",
      "FROM \"Positions\" \n",
      "WHERE \"Positions\".id = ?\n",
      "2021-07-01 19:33:09,599 INFO sqlalchemy.engine.Engine [cached since 0.1304s ago] (15,)\n",
      "2021-07-01 19:33:09,601 INFO sqlalchemy.engine.Engine SELECT \"Positions\".id AS \"Positions_id\", \"Positions\".upper AS \"Positions_upper\", \"Positions\".middle AS \"Positions_middle\", \"Positions\".lower AS \"Positions_lower\", \"Positions\".x AS \"Positions_x\", \"Positions\".y AS \"Positions_y\" \n",
      "FROM \"Positions\" \n",
      "WHERE \"Positions\".id = ?\n",
      "2021-07-01 19:33:09,602 INFO sqlalchemy.engine.Engine [cached since 0.1418s ago] (16,)\n",
      "2021-07-01 19:33:09,604 INFO sqlalchemy.engine.Engine SELECT \"Positions\".id AS \"Positions_id\", \"Positions\".upper AS \"Positions_upper\", \"Positions\".middle AS \"Positions_middle\", \"Positions\".lower AS \"Positions_lower\", \"Positions\".x AS \"Positions_x\", \"Positions\".y AS \"Positions_y\" \n",
      "FROM \"Positions\" \n",
      "WHERE \"Positions\".id = ?\n",
      "2021-07-01 19:33:09,606 INFO sqlalchemy.engine.Engine [cached since 0.138s ago] (17,)\n",
      "2021-07-01 19:33:09,627 INFO sqlalchemy.engine.Engine UPDATE \"Boreholes\" SET length=? WHERE \"Boreholes\".id = ?\n",
      "2021-07-01 19:33:09,629 INFO sqlalchemy.engine.Engine [cached since 0.09313s ago] (98.0, 'BH002')\n",
      "2021-07-01 19:33:09,630 INFO sqlalchemy.engine.Engine INSERT INTO \"Boreholes\" (id, length, diameter) VALUES (?, ?, ?)\n",
      "2021-07-01 19:33:09,632 INFO sqlalchemy.engine.Engine [cached since 0.2236s ago] ('BH003', 18.0, 0.41)\n",
      "2021-07-01 19:33:09,634 INFO sqlalchemy.engine.Engine INSERT INTO \"Positions\" (id, upper, middle, lower, x, y) VALUES (?, ?, ?, ?, ?, ?)\n",
      "2021-07-01 19:33:09,635 INFO sqlalchemy.engine.Engine [cached since 0.22s ago] ((18, 103.0, 103.0, 103.0, 152922.0, 121313.0), (19, 100.0, 100.0, 100.0, 152922.0, 121313.0), (20, 100.0, 100.0, 100.0, 152922.0, 121313.0), (21, 97.0, 97.0, 97.0, 152922.0, 121313.0), (22, 97.0, 97.0, 97.0, 152922.0, 121313.0), (23, 94.0, 94.0, 94.0, 152922.0, 121313.0), (24, 94.0, 94.0, 94.0, 152922.0, 121313.0), (25, 90.0, 90.0, 90.0, 152922.0, 121313.0), (26, 90.0, 90.0, 90.0, 152922.0, 121313.0), (27, 85.0, 85.0, 85.0, 152922.0, 121313.0))\n",
      "2021-07-01 19:33:09,637 INFO sqlalchemy.engine.Engine INSERT INTO \"Intervals\" (id, borehole, interval_number, description, top_id, base_id, data_id) VALUES (?, ?, ?, ?, ?, ?, ?)\n",
      "2021-07-01 19:33:09,639 INFO sqlalchemy.engine.Engine [cached since 0.218s ago] ((9, 'BH003', 0, 'Sable VI', 18, 19, None), (10, 'BH003', 1, 'Argile VR', 20, 21, None), (11, 'BH003', 2, 'Marne VR', 22, 23, None), (12, 'BH003', 3, 'Charbon VI', 24, 25, None), (13, 'BH003', 4, 'Dolomie VS', 26, 27, None))\n",
      "2021-07-01 19:33:09,645 INFO sqlalchemy.engine.Engine COMMIT\n",
      "2021-07-01 19:33:09,651 INFO sqlalchemy.engine.Engine BEGIN (implicit)\n",
      "2021-07-01 19:33:09,652 INFO sqlalchemy.engine.Engine SELECT \"Boreholes\".id AS \"Boreholes_id\", \"Boreholes\".length AS \"Boreholes_length\", \"Boreholes\".diameter AS \"Boreholes_diameter\" \n",
      "FROM \"Boreholes\"\n",
      "2021-07-01 19:33:09,653 INFO sqlalchemy.engine.Engine [cached since 0.2704s ago] ()\n",
      "2021-07-01 19:33:09,658 INFO sqlalchemy.engine.Engine SELECT \"Intervals\".id AS \"Intervals_id\", \"Intervals\".borehole AS \"Intervals_borehole\", \"Intervals\".interval_number AS \"Intervals_interval_number\", \"Intervals\".description AS \"Intervals_description\", \"Intervals\".top_id AS \"Intervals_top_id\", \"Intervals\".base_id AS \"Intervals_base_id\", \"Intervals\".data_id AS \"Intervals_data_id\" \n",
      "FROM \"Intervals\" \n",
      "WHERE ? = \"Intervals\".borehole\n",
      "2021-07-01 19:33:09,661 INFO sqlalchemy.engine.Engine [cached since 0.2129s ago] ('BH003',)\n",
      "2021-07-01 19:33:09,664 INFO sqlalchemy.engine.Engine SELECT \"Positions\".id AS \"Positions_id\", \"Positions\".upper AS \"Positions_upper\", \"Positions\".middle AS \"Positions_middle\", \"Positions\".lower AS \"Positions_lower\", \"Positions\".x AS \"Positions_x\", \"Positions\".y AS \"Positions_y\" \n",
      "FROM \"Positions\" \n",
      "WHERE \"Positions\".id = ?\n",
      "2021-07-01 19:33:09,665 INFO sqlalchemy.engine.Engine [cached since 0.2048s ago] (18,)\n",
      "2021-07-01 19:33:09,667 INFO sqlalchemy.engine.Engine SELECT \"Positions\".id AS \"Positions_id\", \"Positions\".upper AS \"Positions_upper\", \"Positions\".middle AS \"Positions_middle\", \"Positions\".lower AS \"Positions_lower\", \"Positions\".x AS \"Positions_x\", \"Positions\".y AS \"Positions_y\" \n",
      "FROM \"Positions\" \n",
      "WHERE \"Positions\".id = ?\n",
      "2021-07-01 19:33:09,668 INFO sqlalchemy.engine.Engine [cached since 0.1997s ago] (19,)\n",
      "2021-07-01 19:33:09,671 INFO sqlalchemy.engine.Engine SELECT \"Positions\".id AS \"Positions_id\", \"Positions\".upper AS \"Positions_upper\", \"Positions\".middle AS \"Positions_middle\", \"Positions\".lower AS \"Positions_lower\", \"Positions\".x AS \"Positions_x\", \"Positions\".y AS \"Positions_y\" \n",
      "FROM \"Positions\" \n",
      "WHERE \"Positions\".id = ?\n",
      "2021-07-01 19:33:09,673 INFO sqlalchemy.engine.Engine [cached since 0.2131s ago] (20,)\n",
      "2021-07-01 19:33:09,678 INFO sqlalchemy.engine.Engine SELECT \"Positions\".id AS \"Positions_id\", \"Positions\".upper AS \"Positions_upper\", \"Positions\".middle AS \"Positions_middle\", \"Positions\".lower AS \"Positions_lower\", \"Positions\".x AS \"Positions_x\", \"Positions\".y AS \"Positions_y\" \n",
      "FROM \"Positions\" \n",
      "WHERE \"Positions\".id = ?\n",
      "2021-07-01 19:33:09,679 INFO sqlalchemy.engine.Engine [cached since 0.2105s ago] (21,)\n",
      "2021-07-01 19:33:09,681 INFO sqlalchemy.engine.Engine SELECT \"Positions\".id AS \"Positions_id\", \"Positions\".upper AS \"Positions_upper\", \"Positions\".middle AS \"Positions_middle\", \"Positions\".lower AS \"Positions_lower\", \"Positions\".x AS \"Positions_x\", \"Positions\".y AS \"Positions_y\" \n",
      "FROM \"Positions\" \n",
      "WHERE \"Positions\".id = ?\n"
     ]
    },
    {
     "name": "stdout",
     "output_type": "stream",
     "text": [
      "2021-07-01 19:33:09,682 INFO sqlalchemy.engine.Engine [cached since 0.2224s ago] (22,)\n",
      "2021-07-01 19:33:09,684 INFO sqlalchemy.engine.Engine SELECT \"Positions\".id AS \"Positions_id\", \"Positions\".upper AS \"Positions_upper\", \"Positions\".middle AS \"Positions_middle\", \"Positions\".lower AS \"Positions_lower\", \"Positions\".x AS \"Positions_x\", \"Positions\".y AS \"Positions_y\" \n",
      "FROM \"Positions\" \n",
      "WHERE \"Positions\".id = ?\n",
      "2021-07-01 19:33:09,685 INFO sqlalchemy.engine.Engine [cached since 0.2169s ago] (23,)\n",
      "2021-07-01 19:33:09,688 INFO sqlalchemy.engine.Engine SELECT \"Positions\".id AS \"Positions_id\", \"Positions\".upper AS \"Positions_upper\", \"Positions\".middle AS \"Positions_middle\", \"Positions\".lower AS \"Positions_lower\", \"Positions\".x AS \"Positions_x\", \"Positions\".y AS \"Positions_y\" \n",
      "FROM \"Positions\" \n",
      "WHERE \"Positions\".id = ?\n",
      "2021-07-01 19:33:09,690 INFO sqlalchemy.engine.Engine [cached since 0.2301s ago] (24,)\n",
      "2021-07-01 19:33:09,694 INFO sqlalchemy.engine.Engine SELECT \"Positions\".id AS \"Positions_id\", \"Positions\".upper AS \"Positions_upper\", \"Positions\".middle AS \"Positions_middle\", \"Positions\".lower AS \"Positions_lower\", \"Positions\".x AS \"Positions_x\", \"Positions\".y AS \"Positions_y\" \n",
      "FROM \"Positions\" \n",
      "WHERE \"Positions\".id = ?\n",
      "2021-07-01 19:33:09,695 INFO sqlalchemy.engine.Engine [cached since 0.2269s ago] (25,)\n",
      "2021-07-01 19:33:09,697 INFO sqlalchemy.engine.Engine SELECT \"Positions\".id AS \"Positions_id\", \"Positions\".upper AS \"Positions_upper\", \"Positions\".middle AS \"Positions_middle\", \"Positions\".lower AS \"Positions_lower\", \"Positions\".x AS \"Positions_x\", \"Positions\".y AS \"Positions_y\" \n",
      "FROM \"Positions\" \n",
      "WHERE \"Positions\".id = ?\n",
      "2021-07-01 19:33:09,698 INFO sqlalchemy.engine.Engine [cached since 0.2381s ago] (26,)\n",
      "2021-07-01 19:33:09,700 INFO sqlalchemy.engine.Engine SELECT \"Positions\".id AS \"Positions_id\", \"Positions\".upper AS \"Positions_upper\", \"Positions\".middle AS \"Positions_middle\", \"Positions\".lower AS \"Positions_lower\", \"Positions\".x AS \"Positions_x\", \"Positions\".y AS \"Positions_y\" \n",
      "FROM \"Positions\" \n",
      "WHERE \"Positions\".id = ?\n",
      "2021-07-01 19:33:09,701 INFO sqlalchemy.engine.Engine [cached since 0.2325s ago] (27,)\n",
      "2021-07-01 19:33:09,720 INFO sqlalchemy.engine.Engine UPDATE \"Boreholes\" SET length=? WHERE \"Boreholes\".id = ?\n",
      "2021-07-01 19:33:09,721 INFO sqlalchemy.engine.Engine [cached since 0.1856s ago] (100.0, 'BH003')\n",
      "2021-07-01 19:33:09,724 INFO sqlalchemy.engine.Engine INSERT INTO \"Boreholes\" (id, length, diameter) VALUES (?, ?, ?)\n",
      "2021-07-01 19:33:09,727 INFO sqlalchemy.engine.Engine [cached since 0.3187s ago] ('BH004', 26.0, 0.61)\n",
      "2021-07-01 19:33:09,729 INFO sqlalchemy.engine.Engine INSERT INTO \"Positions\" (id, upper, middle, lower, x, y) VALUES (?, ?, ?, ?, ?, ?)\n",
      "2021-07-01 19:33:09,730 INFO sqlalchemy.engine.Engine [cached since 0.3154s ago] ((28, 101.0, 101.0, 101.0, 152766.0, 121494.0), (29, 96.0, 96.0, 96.0, 152766.0, 121494.0), (30, 96.0, 96.0, 96.0, 152766.0, 121494.0), (31, 94.0, 94.0, 94.0, 152766.0, 121494.0), (32, 94.0, 94.0, 94.0, 152766.0, 121494.0), (33, 87.0, 87.0, 87.0, 152766.0, 121494.0), (34, 87.0, 87.0, 87.0, 152766.0, 121494.0), (35, 85.0, 85.0, 85.0, 152766.0, 121494.0), (36, 85.0, 85.0, 85.0, 152766.0, 121494.0), (37, 75.0, 75.0, 75.0, 152766.0, 121494.0))\n",
      "2021-07-01 19:33:09,733 INFO sqlalchemy.engine.Engine INSERT INTO \"Intervals\" (id, borehole, interval_number, description, top_id, base_id, data_id) VALUES (?, ?, ?, ?, ?, ?, ?)\n",
      "2021-07-01 19:33:09,734 INFO sqlalchemy.engine.Engine [cached since 0.3138s ago] ((14, 'BH004', 0, 'Sable VI', 28, 29, None), (15, 'BH004', 1, 'Argile VI', 30, 31, None), (16, 'BH004', 2, 'Marne VR', 32, 33, None), (17, 'BH004', 3, 'Charbon VR', 34, 35, None), (18, 'BH004', 4, 'Dolomie VI', 36, 37, None))\n",
      "2021-07-01 19:33:09,736 INFO sqlalchemy.engine.Engine COMMIT\n",
      "2021-07-01 19:33:09,745 INFO sqlalchemy.engine.Engine BEGIN (implicit)\n",
      "2021-07-01 19:33:09,747 INFO sqlalchemy.engine.Engine SELECT \"Boreholes\".id AS \"Boreholes_id\", \"Boreholes\".length AS \"Boreholes_length\", \"Boreholes\".diameter AS \"Boreholes_diameter\" \n",
      "FROM \"Boreholes\"\n",
      "2021-07-01 19:33:09,748 INFO sqlalchemy.engine.Engine [cached since 0.3653s ago] ()\n",
      "2021-07-01 19:33:09,750 INFO sqlalchemy.engine.Engine SELECT \"Intervals\".id AS \"Intervals_id\", \"Intervals\".borehole AS \"Intervals_borehole\", \"Intervals\".interval_number AS \"Intervals_interval_number\", \"Intervals\".description AS \"Intervals_description\", \"Intervals\".top_id AS \"Intervals_top_id\", \"Intervals\".base_id AS \"Intervals_base_id\", \"Intervals\".data_id AS \"Intervals_data_id\" \n",
      "FROM \"Intervals\" \n",
      "WHERE ? = \"Intervals\".borehole\n",
      "2021-07-01 19:33:09,751 INFO sqlalchemy.engine.Engine [cached since 0.3032s ago] ('BH004',)\n",
      "2021-07-01 19:33:09,753 INFO sqlalchemy.engine.Engine SELECT \"Positions\".id AS \"Positions_id\", \"Positions\".upper AS \"Positions_upper\", \"Positions\".middle AS \"Positions_middle\", \"Positions\".lower AS \"Positions_lower\", \"Positions\".x AS \"Positions_x\", \"Positions\".y AS \"Positions_y\" \n",
      "FROM \"Positions\" \n",
      "WHERE \"Positions\".id = ?\n",
      "2021-07-01 19:33:09,755 INFO sqlalchemy.engine.Engine [cached since 0.2947s ago] (28,)\n",
      "2021-07-01 19:33:09,758 INFO sqlalchemy.engine.Engine SELECT \"Positions\".id AS \"Positions_id\", \"Positions\".upper AS \"Positions_upper\", \"Positions\".middle AS \"Positions_middle\", \"Positions\".lower AS \"Positions_lower\", \"Positions\".x AS \"Positions_x\", \"Positions\".y AS \"Positions_y\" \n",
      "FROM \"Positions\" \n",
      "WHERE \"Positions\".id = ?\n",
      "2021-07-01 19:33:09,762 INFO sqlalchemy.engine.Engine [cached since 0.2938s ago] (29,)\n",
      "2021-07-01 19:33:09,765 INFO sqlalchemy.engine.Engine SELECT \"Positions\".id AS \"Positions_id\", \"Positions\".upper AS \"Positions_upper\", \"Positions\".middle AS \"Positions_middle\", \"Positions\".lower AS \"Positions_lower\", \"Positions\".x AS \"Positions_x\", \"Positions\".y AS \"Positions_y\" \n",
      "FROM \"Positions\" \n",
      "WHERE \"Positions\".id = ?\n",
      "2021-07-01 19:33:09,766 INFO sqlalchemy.engine.Engine [cached since 0.3057s ago] (30,)\n",
      "2021-07-01 19:33:09,768 INFO sqlalchemy.engine.Engine SELECT \"Positions\".id AS \"Positions_id\", \"Positions\".upper AS \"Positions_upper\", \"Positions\".middle AS \"Positions_middle\", \"Positions\".lower AS \"Positions_lower\", \"Positions\".x AS \"Positions_x\", \"Positions\".y AS \"Positions_y\" \n",
      "FROM \"Positions\" \n",
      "WHERE \"Positions\".id = ?\n",
      "2021-07-01 19:33:09,768 INFO sqlalchemy.engine.Engine [cached since 0.3001s ago] (31,)\n",
      "2021-07-01 19:33:09,771 INFO sqlalchemy.engine.Engine SELECT \"Positions\".id AS \"Positions_id\", \"Positions\".upper AS \"Positions_upper\", \"Positions\".middle AS \"Positions_middle\", \"Positions\".lower AS \"Positions_lower\", \"Positions\".x AS \"Positions_x\", \"Positions\".y AS \"Positions_y\" \n",
      "FROM \"Positions\" \n",
      "WHERE \"Positions\".id = ?\n",
      "2021-07-01 19:33:09,773 INFO sqlalchemy.engine.Engine [cached since 0.3135s ago] (32,)\n",
      "2021-07-01 19:33:09,777 INFO sqlalchemy.engine.Engine SELECT \"Positions\".id AS \"Positions_id\", \"Positions\".upper AS \"Positions_upper\", \"Positions\".middle AS \"Positions_middle\", \"Positions\".lower AS \"Positions_lower\", \"Positions\".x AS \"Positions_x\", \"Positions\".y AS \"Positions_y\" \n",
      "FROM \"Positions\" \n",
      "WHERE \"Positions\".id = ?\n",
      "2021-07-01 19:33:09,779 INFO sqlalchemy.engine.Engine [cached since 0.3108s ago] (33,)\n",
      "2021-07-01 19:33:09,781 INFO sqlalchemy.engine.Engine SELECT \"Positions\".id AS \"Positions_id\", \"Positions\".upper AS \"Positions_upper\", \"Positions\".middle AS \"Positions_middle\", \"Positions\".lower AS \"Positions_lower\", \"Positions\".x AS \"Positions_x\", \"Positions\".y AS \"Positions_y\" \n",
      "FROM \"Positions\" \n",
      "WHERE \"Positions\".id = ?\n",
      "2021-07-01 19:33:09,782 INFO sqlalchemy.engine.Engine [cached since 0.3223s ago] (34,)\n",
      "2021-07-01 19:33:09,784 INFO sqlalchemy.engine.Engine SELECT \"Positions\".id AS \"Positions_id\", \"Positions\".upper AS \"Positions_upper\", \"Positions\".middle AS \"Positions_middle\", \"Positions\".lower AS \"Positions_lower\", \"Positions\".x AS \"Positions_x\", \"Positions\".y AS \"Positions_y\" \n",
      "FROM \"Positions\" \n",
      "WHERE \"Positions\".id = ?\n",
      "2021-07-01 19:33:09,785 INFO sqlalchemy.engine.Engine [cached since 0.3165s ago] (35,)\n",
      "2021-07-01 19:33:09,789 INFO sqlalchemy.engine.Engine SELECT \"Positions\".id AS \"Positions_id\", \"Positions\".upper AS \"Positions_upper\", \"Positions\".middle AS \"Positions_middle\", \"Positions\".lower AS \"Positions_lower\", \"Positions\".x AS \"Positions_x\", \"Positions\".y AS \"Positions_y\" \n",
      "FROM \"Positions\" \n",
      "WHERE \"Positions\".id = ?\n"
     ]
    },
    {
     "name": "stdout",
     "output_type": "stream",
     "text": [
      "2021-07-01 19:33:09,790 INFO sqlalchemy.engine.Engine [cached since 0.3302s ago] (36,)\n",
      "2021-07-01 19:33:09,795 INFO sqlalchemy.engine.Engine SELECT \"Positions\".id AS \"Positions_id\", \"Positions\".upper AS \"Positions_upper\", \"Positions\".middle AS \"Positions_middle\", \"Positions\".lower AS \"Positions_lower\", \"Positions\".x AS \"Positions_x\", \"Positions\".y AS \"Positions_y\" \n",
      "FROM \"Positions\" \n",
      "WHERE \"Positions\".id = ?\n",
      "2021-07-01 19:33:09,796 INFO sqlalchemy.engine.Engine [cached since 0.3277s ago] (37,)\n",
      "2021-07-01 19:33:09,815 INFO sqlalchemy.engine.Engine UPDATE \"Boreholes\" SET length=? WHERE \"Boreholes\".id = ?\n",
      "2021-07-01 19:33:09,816 INFO sqlalchemy.engine.Engine [cached since 0.2803s ago] (96.0, 'BH004')\n",
      "2021-07-01 19:33:09,817 INFO sqlalchemy.engine.Engine INSERT INTO \"Boreholes\" (id, length, diameter) VALUES (?, ?, ?)\n",
      "2021-07-01 19:33:09,818 INFO sqlalchemy.engine.Engine [cached since 0.4098s ago] ('BH005', 32.0, 0.61)\n",
      "2021-07-01 19:33:09,820 INFO sqlalchemy.engine.Engine INSERT INTO \"Positions\" (id, upper, middle, lower, x, y) VALUES (?, ?, ?, ?, ?, ?)\n",
      "2021-07-01 19:33:09,821 INFO sqlalchemy.engine.Engine [cached since 0.4057s ago] ((38, 101.0, 101.0, 101.0, 152473.0, 121460.0), (39, 97.0, 97.0, 97.0, 152473.0, 121460.0), (40, 97.0, 97.0, 97.0, 152473.0, 121460.0), (41, 93.0, 93.0, 93.0, 152473.0, 121460.0), (42, 93.0, 93.0, 93.0, 152473.0, 121460.0), (43, 82.0, 82.0, 82.0, 152473.0, 121460.0), (44, 82.0, 82.0, 82.0, 152473.0, 121460.0), (45, 74.0, 74.0, 74.0, 152473.0, 121460.0)  ... displaying 10 of 12 total bound parameter sets ...  (48, 72.0, 72.0, 72.0, 152473.0, 121460.0), (49, 69.0, 69.0, 69.0, 152473.0, 121460.0))\n",
      "2021-07-01 19:33:09,825 INFO sqlalchemy.engine.Engine INSERT INTO \"Intervals\" (id, borehole, interval_number, description, top_id, base_id, data_id) VALUES (?, ?, ?, ?, ?, ?, ?)\n",
      "2021-07-01 19:33:09,826 INFO sqlalchemy.engine.Engine [cached since 0.4065s ago] ((19, 'BH005', 0, 'Sable VS', 38, 39, None), (20, 'BH005', 1, 'Argile VS', 40, 41, None), (21, 'BH005', 2, 'Marne VS', 42, 43, None), (22, 'BH005', 3, 'Charbon VS', 44, 45, None), (23, 'BH005', 4, 'Dolomie VR', 46, 47, None), (24, 'BH005', 5, 'Schiste Cl', 48, 49, None))\n",
      "2021-07-01 19:33:09,830 INFO sqlalchemy.engine.Engine COMMIT\n",
      "2021-07-01 19:33:09,833 INFO sqlalchemy.engine.Engine BEGIN (implicit)\n",
      "2021-07-01 19:33:09,834 INFO sqlalchemy.engine.Engine SELECT \"Boreholes\".id AS \"Boreholes_id\", \"Boreholes\".length AS \"Boreholes_length\", \"Boreholes\".diameter AS \"Boreholes_diameter\" \n",
      "FROM \"Boreholes\"\n",
      "2021-07-01 19:33:09,835 INFO sqlalchemy.engine.Engine [cached since 0.4526s ago] ()\n",
      "2021-07-01 19:33:09,837 INFO sqlalchemy.engine.Engine SELECT \"Intervals\".id AS \"Intervals_id\", \"Intervals\".borehole AS \"Intervals_borehole\", \"Intervals\".interval_number AS \"Intervals_interval_number\", \"Intervals\".description AS \"Intervals_description\", \"Intervals\".top_id AS \"Intervals_top_id\", \"Intervals\".base_id AS \"Intervals_base_id\", \"Intervals\".data_id AS \"Intervals_data_id\" \n",
      "FROM \"Intervals\" \n",
      "WHERE ? = \"Intervals\".borehole\n",
      "2021-07-01 19:33:09,839 INFO sqlalchemy.engine.Engine [cached since 0.3913s ago] ('BH005',)\n",
      "2021-07-01 19:33:09,844 INFO sqlalchemy.engine.Engine SELECT \"Positions\".id AS \"Positions_id\", \"Positions\".upper AS \"Positions_upper\", \"Positions\".middle AS \"Positions_middle\", \"Positions\".lower AS \"Positions_lower\", \"Positions\".x AS \"Positions_x\", \"Positions\".y AS \"Positions_y\" \n",
      "FROM \"Positions\" \n",
      "WHERE \"Positions\".id = ?\n",
      "2021-07-01 19:33:09,845 INFO sqlalchemy.engine.Engine [cached since 0.3851s ago] (38,)\n",
      "2021-07-01 19:33:09,848 INFO sqlalchemy.engine.Engine SELECT \"Positions\".id AS \"Positions_id\", \"Positions\".upper AS \"Positions_upper\", \"Positions\".middle AS \"Positions_middle\", \"Positions\".lower AS \"Positions_lower\", \"Positions\".x AS \"Positions_x\", \"Positions\".y AS \"Positions_y\" \n",
      "FROM \"Positions\" \n",
      "WHERE \"Positions\".id = ?\n",
      "2021-07-01 19:33:09,849 INFO sqlalchemy.engine.Engine [cached since 0.3802s ago] (39,)\n",
      "2021-07-01 19:33:09,851 INFO sqlalchemy.engine.Engine SELECT \"Positions\".id AS \"Positions_id\", \"Positions\".upper AS \"Positions_upper\", \"Positions\".middle AS \"Positions_middle\", \"Positions\".lower AS \"Positions_lower\", \"Positions\".x AS \"Positions_x\", \"Positions\".y AS \"Positions_y\" \n",
      "FROM \"Positions\" \n",
      "WHERE \"Positions\".id = ?\n",
      "2021-07-01 19:33:09,852 INFO sqlalchemy.engine.Engine [cached since 0.3921s ago] (40,)\n",
      "2021-07-01 19:33:09,854 INFO sqlalchemy.engine.Engine SELECT \"Positions\".id AS \"Positions_id\", \"Positions\".upper AS \"Positions_upper\", \"Positions\".middle AS \"Positions_middle\", \"Positions\".lower AS \"Positions_lower\", \"Positions\".x AS \"Positions_x\", \"Positions\".y AS \"Positions_y\" \n",
      "FROM \"Positions\" \n",
      "WHERE \"Positions\".id = ?\n",
      "2021-07-01 19:33:09,857 INFO sqlalchemy.engine.Engine [cached since 0.3889s ago] (41,)\n",
      "2021-07-01 19:33:09,862 INFO sqlalchemy.engine.Engine SELECT \"Positions\".id AS \"Positions_id\", \"Positions\".upper AS \"Positions_upper\", \"Positions\".middle AS \"Positions_middle\", \"Positions\".lower AS \"Positions_lower\", \"Positions\".x AS \"Positions_x\", \"Positions\".y AS \"Positions_y\" \n",
      "FROM \"Positions\" \n",
      "WHERE \"Positions\".id = ?\n",
      "2021-07-01 19:33:09,863 INFO sqlalchemy.engine.Engine [cached since 0.4033s ago] (42,)\n",
      "2021-07-01 19:33:09,865 INFO sqlalchemy.engine.Engine SELECT \"Positions\".id AS \"Positions_id\", \"Positions\".upper AS \"Positions_upper\", \"Positions\".middle AS \"Positions_middle\", \"Positions\".lower AS \"Positions_lower\", \"Positions\".x AS \"Positions_x\", \"Positions\".y AS \"Positions_y\" \n",
      "FROM \"Positions\" \n",
      "WHERE \"Positions\".id = ?\n",
      "2021-07-01 19:33:09,866 INFO sqlalchemy.engine.Engine [cached since 0.3975s ago] (43,)\n",
      "2021-07-01 19:33:09,869 INFO sqlalchemy.engine.Engine SELECT \"Positions\".id AS \"Positions_id\", \"Positions\".upper AS \"Positions_upper\", \"Positions\".middle AS \"Positions_middle\", \"Positions\".lower AS \"Positions_lower\", \"Positions\".x AS \"Positions_x\", \"Positions\".y AS \"Positions_y\" \n",
      "FROM \"Positions\" \n",
      "WHERE \"Positions\".id = ?\n",
      "2021-07-01 19:33:09,870 INFO sqlalchemy.engine.Engine [cached since 0.4105s ago] (44,)\n",
      "2021-07-01 19:33:09,874 INFO sqlalchemy.engine.Engine SELECT \"Positions\".id AS \"Positions_id\", \"Positions\".upper AS \"Positions_upper\", \"Positions\".middle AS \"Positions_middle\", \"Positions\".lower AS \"Positions_lower\", \"Positions\".x AS \"Positions_x\", \"Positions\".y AS \"Positions_y\" \n",
      "FROM \"Positions\" \n",
      "WHERE \"Positions\".id = ?\n",
      "2021-07-01 19:33:09,878 INFO sqlalchemy.engine.Engine [cached since 0.4095s ago] (45,)\n",
      "2021-07-01 19:33:09,881 INFO sqlalchemy.engine.Engine SELECT \"Positions\".id AS \"Positions_id\", \"Positions\".upper AS \"Positions_upper\", \"Positions\".middle AS \"Positions_middle\", \"Positions\".lower AS \"Positions_lower\", \"Positions\".x AS \"Positions_x\", \"Positions\".y AS \"Positions_y\" \n",
      "FROM \"Positions\" \n",
      "WHERE \"Positions\".id = ?\n",
      "2021-07-01 19:33:09,882 INFO sqlalchemy.engine.Engine [cached since 0.4215s ago] (46,)\n",
      "2021-07-01 19:33:09,884 INFO sqlalchemy.engine.Engine SELECT \"Positions\".id AS \"Positions_id\", \"Positions\".upper AS \"Positions_upper\", \"Positions\".middle AS \"Positions_middle\", \"Positions\".lower AS \"Positions_lower\", \"Positions\".x AS \"Positions_x\", \"Positions\".y AS \"Positions_y\" \n",
      "FROM \"Positions\" \n",
      "WHERE \"Positions\".id = ?\n",
      "2021-07-01 19:33:09,885 INFO sqlalchemy.engine.Engine [cached since 0.4163s ago] (47,)\n",
      "2021-07-01 19:33:09,887 INFO sqlalchemy.engine.Engine SELECT \"Positions\".id AS \"Positions_id\", \"Positions\".upper AS \"Positions_upper\", \"Positions\".middle AS \"Positions_middle\", \"Positions\".lower AS \"Positions_lower\", \"Positions\".x AS \"Positions_x\", \"Positions\".y AS \"Positions_y\" \n",
      "FROM \"Positions\" \n",
      "WHERE \"Positions\".id = ?\n",
      "2021-07-01 19:33:09,889 INFO sqlalchemy.engine.Engine [cached since 0.4294s ago] (48,)\n",
      "2021-07-01 19:33:09,892 INFO sqlalchemy.engine.Engine SELECT \"Positions\".id AS \"Positions_id\", \"Positions\".upper AS \"Positions_upper\", \"Positions\".middle AS \"Positions_middle\", \"Positions\".lower AS \"Positions_lower\", \"Positions\".x AS \"Positions_x\", \"Positions\".y AS \"Positions_y\" \n",
      "FROM \"Positions\" \n",
      "WHERE \"Positions\".id = ?\n",
      "2021-07-01 19:33:09,893 INFO sqlalchemy.engine.Engine [cached since 0.4242s ago] (49,)\n",
      "2021-07-01 19:33:09,915 INFO sqlalchemy.engine.Engine UPDATE \"Boreholes\" SET length=? WHERE \"Boreholes\".id = ?\n",
      "2021-07-01 19:33:09,917 INFO sqlalchemy.engine.Engine [cached since 0.3812s ago] (97.0, 'BH005')\n"
     ]
    },
    {
     "name": "stdout",
     "output_type": "stream",
     "text": [
      "2021-07-01 19:33:09,918 INFO sqlalchemy.engine.Engine INSERT INTO \"Boreholes\" (id, length, diameter) VALUES (?, ?, ?)\n",
      "2021-07-01 19:33:09,918 INFO sqlalchemy.engine.Engine [cached since 0.5104s ago] ('BH006', 26.0, 0.31)\n",
      "2021-07-01 19:33:09,920 INFO sqlalchemy.engine.Engine INSERT INTO \"Positions\" (id, upper, middle, lower, x, y) VALUES (?, ?, ?, ?, ?, ?)\n",
      "2021-07-01 19:33:09,920 INFO sqlalchemy.engine.Engine [cached since 0.5054s ago] ((50, 101.0, 101.0, 101.0, 152375.0, 121002.0), (51, 100.0, 100.0, 100.0, 152375.0, 121002.0), (52, 100.0, 100.0, 100.0, 152375.0, 121002.0), (53, 98.0, 98.0, 98.0, 152375.0, 121002.0), (54, 98.0, 98.0, 98.0, 152375.0, 121002.0), (55, 92.0, 92.0, 92.0, 152375.0, 121002.0), (56, 92.0, 92.0, 92.0, 152375.0, 121002.0), (57, 86.0, 86.0, 86.0, 152375.0, 121002.0), (58, 86.0, 86.0, 86.0, 152375.0, 121002.0), (59, 75.0, 75.0, 75.0, 152375.0, 121002.0))\n",
      "2021-07-01 19:33:09,924 INFO sqlalchemy.engine.Engine INSERT INTO \"Intervals\" (id, borehole, interval_number, description, top_id, base_id, data_id) VALUES (?, ?, ?, ?, ?, ?, ?)\n",
      "2021-07-01 19:33:09,926 INFO sqlalchemy.engine.Engine [cached since 0.5059s ago] ((25, 'BH006', 0, 'Sable VS', 50, 51, None), (26, 'BH006', 1, 'Argile VI', 52, 53, None), (27, 'BH006', 2, 'Marne VS', 54, 55, None), (28, 'BH006', 3, 'Charbon VR', 56, 57, None), (29, 'BH006', 4, 'Dolomie VI', 58, 59, None))\n",
      "2021-07-01 19:33:09,929 INFO sqlalchemy.engine.Engine COMMIT\n",
      "2021-07-01 19:33:09,934 INFO sqlalchemy.engine.Engine BEGIN (implicit)\n",
      "2021-07-01 19:33:09,935 INFO sqlalchemy.engine.Engine SELECT \"Boreholes\".id AS \"Boreholes_id\", \"Boreholes\".length AS \"Boreholes_length\", \"Boreholes\".diameter AS \"Boreholes_diameter\" \n",
      "FROM \"Boreholes\"\n",
      "2021-07-01 19:33:09,937 INFO sqlalchemy.engine.Engine [cached since 0.5541s ago] ()\n",
      "2021-07-01 19:33:09,943 INFO sqlalchemy.engine.Engine SELECT \"Intervals\".id AS \"Intervals_id\", \"Intervals\".borehole AS \"Intervals_borehole\", \"Intervals\".interval_number AS \"Intervals_interval_number\", \"Intervals\".description AS \"Intervals_description\", \"Intervals\".top_id AS \"Intervals_top_id\", \"Intervals\".base_id AS \"Intervals_base_id\", \"Intervals\".data_id AS \"Intervals_data_id\" \n",
      "FROM \"Intervals\" \n",
      "WHERE ? = \"Intervals\".borehole\n",
      "2021-07-01 19:33:09,946 INFO sqlalchemy.engine.Engine [cached since 0.4977s ago] ('BH006',)\n",
      "2021-07-01 19:33:09,949 INFO sqlalchemy.engine.Engine SELECT \"Positions\".id AS \"Positions_id\", \"Positions\".upper AS \"Positions_upper\", \"Positions\".middle AS \"Positions_middle\", \"Positions\".lower AS \"Positions_lower\", \"Positions\".x AS \"Positions_x\", \"Positions\".y AS \"Positions_y\" \n",
      "FROM \"Positions\" \n",
      "WHERE \"Positions\".id = ?\n",
      "2021-07-01 19:33:09,950 INFO sqlalchemy.engine.Engine [cached since 0.4897s ago] (50,)\n",
      "2021-07-01 19:33:09,952 INFO sqlalchemy.engine.Engine SELECT \"Positions\".id AS \"Positions_id\", \"Positions\".upper AS \"Positions_upper\", \"Positions\".middle AS \"Positions_middle\", \"Positions\".lower AS \"Positions_lower\", \"Positions\".x AS \"Positions_x\", \"Positions\".y AS \"Positions_y\" \n",
      "FROM \"Positions\" \n",
      "WHERE \"Positions\".id = ?\n",
      "2021-07-01 19:33:09,953 INFO sqlalchemy.engine.Engine [cached since 0.4842s ago] (51,)\n",
      "2021-07-01 19:33:09,956 INFO sqlalchemy.engine.Engine SELECT \"Positions\".id AS \"Positions_id\", \"Positions\".upper AS \"Positions_upper\", \"Positions\".middle AS \"Positions_middle\", \"Positions\".lower AS \"Positions_lower\", \"Positions\".x AS \"Positions_x\", \"Positions\".y AS \"Positions_y\" \n",
      "FROM \"Positions\" \n",
      "WHERE \"Positions\".id = ?\n",
      "2021-07-01 19:33:09,957 INFO sqlalchemy.engine.Engine [cached since 0.4975s ago] (52,)\n",
      "2021-07-01 19:33:09,961 INFO sqlalchemy.engine.Engine SELECT \"Positions\".id AS \"Positions_id\", \"Positions\".upper AS \"Positions_upper\", \"Positions\".middle AS \"Positions_middle\", \"Positions\".lower AS \"Positions_lower\", \"Positions\".x AS \"Positions_x\", \"Positions\".y AS \"Positions_y\" \n",
      "FROM \"Positions\" \n",
      "WHERE \"Positions\".id = ?\n",
      "2021-07-01 19:33:09,963 INFO sqlalchemy.engine.Engine [cached since 0.4942s ago] (53,)\n",
      "2021-07-01 19:33:09,965 INFO sqlalchemy.engine.Engine SELECT \"Positions\".id AS \"Positions_id\", \"Positions\".upper AS \"Positions_upper\", \"Positions\".middle AS \"Positions_middle\", \"Positions\".lower AS \"Positions_lower\", \"Positions\".x AS \"Positions_x\", \"Positions\".y AS \"Positions_y\" \n",
      "FROM \"Positions\" \n",
      "WHERE \"Positions\".id = ?\n",
      "2021-07-01 19:33:09,965 INFO sqlalchemy.engine.Engine [cached since 0.5054s ago] (54,)\n",
      "2021-07-01 19:33:09,968 INFO sqlalchemy.engine.Engine SELECT \"Positions\".id AS \"Positions_id\", \"Positions\".upper AS \"Positions_upper\", \"Positions\".middle AS \"Positions_middle\", \"Positions\".lower AS \"Positions_lower\", \"Positions\".x AS \"Positions_x\", \"Positions\".y AS \"Positions_y\" \n",
      "FROM \"Positions\" \n",
      "WHERE \"Positions\".id = ?\n",
      "2021-07-01 19:33:09,969 INFO sqlalchemy.engine.Engine [cached since 0.5002s ago] (55,)\n",
      "2021-07-01 19:33:09,971 INFO sqlalchemy.engine.Engine SELECT \"Positions\".id AS \"Positions_id\", \"Positions\".upper AS \"Positions_upper\", \"Positions\".middle AS \"Positions_middle\", \"Positions\".lower AS \"Positions_lower\", \"Positions\".x AS \"Positions_x\", \"Positions\".y AS \"Positions_y\" \n",
      "FROM \"Positions\" \n",
      "WHERE \"Positions\".id = ?\n",
      "2021-07-01 19:33:09,976 INFO sqlalchemy.engine.Engine [cached since 0.5154s ago] (56,)\n",
      "2021-07-01 19:33:09,980 INFO sqlalchemy.engine.Engine SELECT \"Positions\".id AS \"Positions_id\", \"Positions\".upper AS \"Positions_upper\", \"Positions\".middle AS \"Positions_middle\", \"Positions\".lower AS \"Positions_lower\", \"Positions\".x AS \"Positions_x\", \"Positions\".y AS \"Positions_y\" \n",
      "FROM \"Positions\" \n",
      "WHERE \"Positions\".id = ?\n",
      "2021-07-01 19:33:09,981 INFO sqlalchemy.engine.Engine [cached since 0.5122s ago] (57,)\n",
      "2021-07-01 19:33:09,984 INFO sqlalchemy.engine.Engine SELECT \"Positions\".id AS \"Positions_id\", \"Positions\".upper AS \"Positions_upper\", \"Positions\".middle AS \"Positions_middle\", \"Positions\".lower AS \"Positions_lower\", \"Positions\".x AS \"Positions_x\", \"Positions\".y AS \"Positions_y\" \n",
      "FROM \"Positions\" \n",
      "WHERE \"Positions\".id = ?\n",
      "2021-07-01 19:33:09,985 INFO sqlalchemy.engine.Engine [cached since 0.525s ago] (58,)\n",
      "2021-07-01 19:33:09,987 INFO sqlalchemy.engine.Engine SELECT \"Positions\".id AS \"Positions_id\", \"Positions\".upper AS \"Positions_upper\", \"Positions\".middle AS \"Positions_middle\", \"Positions\".lower AS \"Positions_lower\", \"Positions\".x AS \"Positions_x\", \"Positions\".y AS \"Positions_y\" \n",
      "FROM \"Positions\" \n",
      "WHERE \"Positions\".id = ?\n",
      "2021-07-01 19:33:09,990 INFO sqlalchemy.engine.Engine [cached since 0.5215s ago] (59,)\n",
      "2021-07-01 19:33:10,011 INFO sqlalchemy.engine.Engine UPDATE \"Boreholes\" SET length=? WHERE \"Boreholes\".id = ?\n",
      "2021-07-01 19:33:10,012 INFO sqlalchemy.engine.Engine [cached since 0.4766s ago] (100.0, 'BH006')\n",
      "2021-07-01 19:33:10,014 INFO sqlalchemy.engine.Engine INSERT INTO \"Boreholes\" (id, length, diameter) VALUES (?, ?, ?)\n",
      "2021-07-01 19:33:10,015 INFO sqlalchemy.engine.Engine [cached since 0.6067s ago] ('BH007', 45.0, 0.57)\n",
      "2021-07-01 19:33:10,016 INFO sqlalchemy.engine.Engine INSERT INTO \"Positions\" (id, upper, middle, lower, x, y) VALUES (?, ?, ?, ?, ?, ?)\n",
      "2021-07-01 19:33:10,017 INFO sqlalchemy.engine.Engine [cached since 0.6026s ago] ((60, 101.0, 101.0, 101.0, 152794.0, 121111.0), (61, 97.0, 97.0, 97.0, 152794.0, 121111.0), (62, 97.0, 97.0, 97.0, 152794.0, 121111.0), (63, 93.0, 93.0, 93.0, 152794.0, 121111.0), (64, 93.0, 93.0, 93.0, 152794.0, 121111.0), (65, 83.0, 83.0, 83.0, 152794.0, 121111.0), (66, 83.0, 83.0, 83.0, 152794.0, 121111.0), (67, 82.0, 82.0, 82.0, 152794.0, 121111.0)  ... displaying 10 of 12 total bound parameter sets ...  (70, 60.0, 60.0, 60.0, 152794.0, 121111.0), (71, 56.0, 56.0, 56.0, 152794.0, 121111.0))\n",
      "2021-07-01 19:33:10,020 INFO sqlalchemy.engine.Engine INSERT INTO \"Intervals\" (id, borehole, interval_number, description, top_id, base_id, data_id) VALUES (?, ?, ?, ?, ?, ?, ?)\n",
      "2021-07-01 19:33:10,021 INFO sqlalchemy.engine.Engine [cached since 0.6015s ago] ((30, 'BH007', 0, 'Sable VS', 60, 61, None), (31, 'BH007', 1, 'Argile VS', 62, 63, None), (32, 'BH007', 2, 'Marne VI', 64, 65, None), (33, 'BH007', 3, 'Charbon VS', 66, 67, None), (34, 'BH007', 4, 'Dolomie VR', 68, 69, None), (35, 'BH007', 5, 'Calcaire Cl', 70, 71, None))\n",
      "2021-07-01 19:33:10,028 INFO sqlalchemy.engine.Engine COMMIT\n",
      "2021-07-01 19:33:10,033 INFO sqlalchemy.engine.Engine BEGIN (implicit)\n"
     ]
    },
    {
     "name": "stdout",
     "output_type": "stream",
     "text": [
      "2021-07-01 19:33:10,034 INFO sqlalchemy.engine.Engine SELECT \"Boreholes\".id AS \"Boreholes_id\", \"Boreholes\".length AS \"Boreholes_length\", \"Boreholes\".diameter AS \"Boreholes_diameter\" \n",
      "FROM \"Boreholes\"\n",
      "2021-07-01 19:33:10,035 INFO sqlalchemy.engine.Engine [cached since 0.6521s ago] ()\n",
      "2021-07-01 19:33:10,037 INFO sqlalchemy.engine.Engine SELECT \"Intervals\".id AS \"Intervals_id\", \"Intervals\".borehole AS \"Intervals_borehole\", \"Intervals\".interval_number AS \"Intervals_interval_number\", \"Intervals\".description AS \"Intervals_description\", \"Intervals\".top_id AS \"Intervals_top_id\", \"Intervals\".base_id AS \"Intervals_base_id\", \"Intervals\".data_id AS \"Intervals_data_id\" \n",
      "FROM \"Intervals\" \n",
      "WHERE ? = \"Intervals\".borehole\n",
      "2021-07-01 19:33:10,040 INFO sqlalchemy.engine.Engine [cached since 0.5913s ago] ('BH007',)\n",
      "2021-07-01 19:33:10,046 INFO sqlalchemy.engine.Engine SELECT \"Positions\".id AS \"Positions_id\", \"Positions\".upper AS \"Positions_upper\", \"Positions\".middle AS \"Positions_middle\", \"Positions\".lower AS \"Positions_lower\", \"Positions\".x AS \"Positions_x\", \"Positions\".y AS \"Positions_y\" \n",
      "FROM \"Positions\" \n",
      "WHERE \"Positions\".id = ?\n",
      "2021-07-01 19:33:10,047 INFO sqlalchemy.engine.Engine [cached since 0.5869s ago] (60,)\n",
      "2021-07-01 19:33:10,049 INFO sqlalchemy.engine.Engine SELECT \"Positions\".id AS \"Positions_id\", \"Positions\".upper AS \"Positions_upper\", \"Positions\".middle AS \"Positions_middle\", \"Positions\".lower AS \"Positions_lower\", \"Positions\".x AS \"Positions_x\", \"Positions\".y AS \"Positions_y\" \n",
      "FROM \"Positions\" \n",
      "WHERE \"Positions\".id = ?\n",
      "2021-07-01 19:33:10,050 INFO sqlalchemy.engine.Engine [cached since 0.5816s ago] (61,)\n",
      "2021-07-01 19:33:10,053 INFO sqlalchemy.engine.Engine SELECT \"Positions\".id AS \"Positions_id\", \"Positions\".upper AS \"Positions_upper\", \"Positions\".middle AS \"Positions_middle\", \"Positions\".lower AS \"Positions_lower\", \"Positions\".x AS \"Positions_x\", \"Positions\".y AS \"Positions_y\" \n",
      "FROM \"Positions\" \n",
      "WHERE \"Positions\".id = ?\n",
      "2021-07-01 19:33:10,054 INFO sqlalchemy.engine.Engine [cached since 0.5936s ago] (62,)\n",
      "2021-07-01 19:33:10,057 INFO sqlalchemy.engine.Engine SELECT \"Positions\".id AS \"Positions_id\", \"Positions\".upper AS \"Positions_upper\", \"Positions\".middle AS \"Positions_middle\", \"Positions\".lower AS \"Positions_lower\", \"Positions\".x AS \"Positions_x\", \"Positions\".y AS \"Positions_y\" \n",
      "FROM \"Positions\" \n",
      "WHERE \"Positions\".id = ?\n",
      "2021-07-01 19:33:10,059 INFO sqlalchemy.engine.Engine [cached since 0.5903s ago] (63,)\n",
      "2021-07-01 19:33:10,063 INFO sqlalchemy.engine.Engine SELECT \"Positions\".id AS \"Positions_id\", \"Positions\".upper AS \"Positions_upper\", \"Positions\".middle AS \"Positions_middle\", \"Positions\".lower AS \"Positions_lower\", \"Positions\".x AS \"Positions_x\", \"Positions\".y AS \"Positions_y\" \n",
      "FROM \"Positions\" \n",
      "WHERE \"Positions\".id = ?\n",
      "2021-07-01 19:33:10,064 INFO sqlalchemy.engine.Engine [cached since 0.6039s ago] (64,)\n",
      "2021-07-01 19:33:10,067 INFO sqlalchemy.engine.Engine SELECT \"Positions\".id AS \"Positions_id\", \"Positions\".upper AS \"Positions_upper\", \"Positions\".middle AS \"Positions_middle\", \"Positions\".lower AS \"Positions_lower\", \"Positions\".x AS \"Positions_x\", \"Positions\".y AS \"Positions_y\" \n",
      "FROM \"Positions\" \n",
      "WHERE \"Positions\".id = ?\n",
      "2021-07-01 19:33:10,069 INFO sqlalchemy.engine.Engine [cached since 0.6003s ago] (65,)\n",
      "2021-07-01 19:33:10,071 INFO sqlalchemy.engine.Engine SELECT \"Positions\".id AS \"Positions_id\", \"Positions\".upper AS \"Positions_upper\", \"Positions\".middle AS \"Positions_middle\", \"Positions\".lower AS \"Positions_lower\", \"Positions\".x AS \"Positions_x\", \"Positions\".y AS \"Positions_y\" \n",
      "FROM \"Positions\" \n",
      "WHERE \"Positions\".id = ?\n",
      "2021-07-01 19:33:10,074 INFO sqlalchemy.engine.Engine [cached since 0.6136s ago] (66,)\n",
      "2021-07-01 19:33:10,078 INFO sqlalchemy.engine.Engine SELECT \"Positions\".id AS \"Positions_id\", \"Positions\".upper AS \"Positions_upper\", \"Positions\".middle AS \"Positions_middle\", \"Positions\".lower AS \"Positions_lower\", \"Positions\".x AS \"Positions_x\", \"Positions\".y AS \"Positions_y\" \n",
      "FROM \"Positions\" \n",
      "WHERE \"Positions\".id = ?\n",
      "2021-07-01 19:33:10,079 INFO sqlalchemy.engine.Engine [cached since 0.6105s ago] (67,)\n",
      "2021-07-01 19:33:10,081 INFO sqlalchemy.engine.Engine SELECT \"Positions\".id AS \"Positions_id\", \"Positions\".upper AS \"Positions_upper\", \"Positions\".middle AS \"Positions_middle\", \"Positions\".lower AS \"Positions_lower\", \"Positions\".x AS \"Positions_x\", \"Positions\".y AS \"Positions_y\" \n",
      "FROM \"Positions\" \n",
      "WHERE \"Positions\".id = ?\n",
      "2021-07-01 19:33:10,082 INFO sqlalchemy.engine.Engine [cached since 0.6223s ago] (68,)\n",
      "2021-07-01 19:33:10,085 INFO sqlalchemy.engine.Engine SELECT \"Positions\".id AS \"Positions_id\", \"Positions\".upper AS \"Positions_upper\", \"Positions\".middle AS \"Positions_middle\", \"Positions\".lower AS \"Positions_lower\", \"Positions\".x AS \"Positions_x\", \"Positions\".y AS \"Positions_y\" \n",
      "FROM \"Positions\" \n",
      "WHERE \"Positions\".id = ?\n",
      "2021-07-01 19:33:10,085 INFO sqlalchemy.engine.Engine [cached since 0.6171s ago] (69,)\n",
      "2021-07-01 19:33:10,088 INFO sqlalchemy.engine.Engine SELECT \"Positions\".id AS \"Positions_id\", \"Positions\".upper AS \"Positions_upper\", \"Positions\".middle AS \"Positions_middle\", \"Positions\".lower AS \"Positions_lower\", \"Positions\".x AS \"Positions_x\", \"Positions\".y AS \"Positions_y\" \n",
      "FROM \"Positions\" \n",
      "WHERE \"Positions\".id = ?\n",
      "2021-07-01 19:33:10,090 INFO sqlalchemy.engine.Engine [cached since 0.63s ago] (70,)\n",
      "2021-07-01 19:33:10,093 INFO sqlalchemy.engine.Engine SELECT \"Positions\".id AS \"Positions_id\", \"Positions\".upper AS \"Positions_upper\", \"Positions\".middle AS \"Positions_middle\", \"Positions\".lower AS \"Positions_lower\", \"Positions\".x AS \"Positions_x\", \"Positions\".y AS \"Positions_y\" \n",
      "FROM \"Positions\" \n",
      "WHERE \"Positions\".id = ?\n",
      "2021-07-01 19:33:10,096 INFO sqlalchemy.engine.Engine [cached since 0.6274s ago] (71,)\n",
      "2021-07-01 19:33:10,114 INFO sqlalchemy.engine.Engine UPDATE \"Boreholes\" SET length=? WHERE \"Boreholes\".id = ?\n",
      "2021-07-01 19:33:10,115 INFO sqlalchemy.engine.Engine [cached since 0.5797s ago] (97.0, 'BH007')\n",
      "2021-07-01 19:33:10,117 INFO sqlalchemy.engine.Engine INSERT INTO \"Boreholes\" (id, length, diameter) VALUES (?, ?, ?)\n",
      "2021-07-01 19:33:10,117 INFO sqlalchemy.engine.Engine [cached since 0.7092s ago] ('BH008', 35.0, 0.39)\n",
      "2021-07-01 19:33:10,119 INFO sqlalchemy.engine.Engine INSERT INTO \"Positions\" (id, upper, middle, lower, x, y) VALUES (?, ?, ?, ?, ?, ?)\n",
      "2021-07-01 19:33:10,120 INFO sqlalchemy.engine.Engine [cached since 0.7048s ago] ((72, 101.0, 101.0, 101.0, 152150.0, 121579.0), (73, 98.0, 98.0, 98.0, 152150.0, 121579.0), (74, 98.0, 98.0, 98.0, 152150.0, 121579.0), (75, 97.0, 97.0, 97.0, 152150.0, 121579.0), (76, 97.0, 97.0, 97.0, 152150.0, 121579.0), (77, 91.0, 91.0, 91.0, 152150.0, 121579.0), (78, 91.0, 91.0, 91.0, 152150.0, 121579.0), (79, 86.0, 86.0, 86.0, 152150.0, 121579.0), (80, 86.0, 86.0, 86.0, 152150.0, 121579.0), (81, 66.0, 66.0, 66.0, 152150.0, 121579.0))\n",
      "2021-07-01 19:33:10,123 INFO sqlalchemy.engine.Engine INSERT INTO \"Intervals\" (id, borehole, interval_number, description, top_id, base_id, data_id) VALUES (?, ?, ?, ?, ?, ?, ?)\n",
      "2021-07-01 19:33:10,125 INFO sqlalchemy.engine.Engine [cached since 0.7049s ago] ((36, 'BH008', 0, 'Sable VI', 72, 73, None), (37, 'BH008', 1, 'Argile VR', 74, 75, None), (38, 'BH008', 2, 'Marne VI', 76, 77, None), (39, 'BH008', 3, 'Charbon VI', 78, 79, None), (40, 'BH008', 4, 'Dolomie VI', 80, 81, None))\n",
      "2021-07-01 19:33:10,127 INFO sqlalchemy.engine.Engine COMMIT\n",
      "2021-07-01 19:33:10,134 INFO sqlalchemy.engine.Engine BEGIN (implicit)\n",
      "2021-07-01 19:33:10,135 INFO sqlalchemy.engine.Engine SELECT \"Boreholes\".id AS \"Boreholes_id\", \"Boreholes\".length AS \"Boreholes_length\", \"Boreholes\".diameter AS \"Boreholes_diameter\" \n",
      "FROM \"Boreholes\"\n",
      "2021-07-01 19:33:10,136 INFO sqlalchemy.engine.Engine [cached since 0.7536s ago] ()\n",
      "2021-07-01 19:33:10,142 INFO sqlalchemy.engine.Engine SELECT \"Intervals\".id AS \"Intervals_id\", \"Intervals\".borehole AS \"Intervals_borehole\", \"Intervals\".interval_number AS \"Intervals_interval_number\", \"Intervals\".description AS \"Intervals_description\", \"Intervals\".top_id AS \"Intervals_top_id\", \"Intervals\".base_id AS \"Intervals_base_id\", \"Intervals\".data_id AS \"Intervals_data_id\" \n",
      "FROM \"Intervals\" \n",
      "WHERE ? = \"Intervals\".borehole\n",
      "2021-07-01 19:33:10,144 INFO sqlalchemy.engine.Engine [cached since 0.6956s ago] ('BH008',)\n"
     ]
    },
    {
     "name": "stdout",
     "output_type": "stream",
     "text": [
      "2021-07-01 19:33:10,148 INFO sqlalchemy.engine.Engine SELECT \"Positions\".id AS \"Positions_id\", \"Positions\".upper AS \"Positions_upper\", \"Positions\".middle AS \"Positions_middle\", \"Positions\".lower AS \"Positions_lower\", \"Positions\".x AS \"Positions_x\", \"Positions\".y AS \"Positions_y\" \n",
      "FROM \"Positions\" \n",
      "WHERE \"Positions\".id = ?\n",
      "2021-07-01 19:33:10,149 INFO sqlalchemy.engine.Engine [cached since 0.6891s ago] (72,)\n",
      "2021-07-01 19:33:10,151 INFO sqlalchemy.engine.Engine SELECT \"Positions\".id AS \"Positions_id\", \"Positions\".upper AS \"Positions_upper\", \"Positions\".middle AS \"Positions_middle\", \"Positions\".lower AS \"Positions_lower\", \"Positions\".x AS \"Positions_x\", \"Positions\".y AS \"Positions_y\" \n",
      "FROM \"Positions\" \n",
      "WHERE \"Positions\".id = ?\n",
      "2021-07-01 19:33:10,152 INFO sqlalchemy.engine.Engine [cached since 0.6836s ago] (73,)\n",
      "2021-07-01 19:33:10,154 INFO sqlalchemy.engine.Engine SELECT \"Positions\".id AS \"Positions_id\", \"Positions\".upper AS \"Positions_upper\", \"Positions\".middle AS \"Positions_middle\", \"Positions\".lower AS \"Positions_lower\", \"Positions\".x AS \"Positions_x\", \"Positions\".y AS \"Positions_y\" \n",
      "FROM \"Positions\" \n",
      "WHERE \"Positions\".id = ?\n",
      "2021-07-01 19:33:10,157 INFO sqlalchemy.engine.Engine [cached since 0.6967s ago] (74,)\n",
      "2021-07-01 19:33:10,164 INFO sqlalchemy.engine.Engine SELECT \"Positions\".id AS \"Positions_id\", \"Positions\".upper AS \"Positions_upper\", \"Positions\".middle AS \"Positions_middle\", \"Positions\".lower AS \"Positions_lower\", \"Positions\".x AS \"Positions_x\", \"Positions\".y AS \"Positions_y\" \n",
      "FROM \"Positions\" \n",
      "WHERE \"Positions\".id = ?\n",
      "2021-07-01 19:33:10,165 INFO sqlalchemy.engine.Engine [cached since 0.6967s ago] (75,)\n",
      "2021-07-01 19:33:10,168 INFO sqlalchemy.engine.Engine SELECT \"Positions\".id AS \"Positions_id\", \"Positions\".upper AS \"Positions_upper\", \"Positions\".middle AS \"Positions_middle\", \"Positions\".lower AS \"Positions_lower\", \"Positions\".x AS \"Positions_x\", \"Positions\".y AS \"Positions_y\" \n",
      "FROM \"Positions\" \n",
      "WHERE \"Positions\".id = ?\n",
      "2021-07-01 19:33:10,169 INFO sqlalchemy.engine.Engine [cached since 0.7091s ago] (76,)\n",
      "2021-07-01 19:33:10,171 INFO sqlalchemy.engine.Engine SELECT \"Positions\".id AS \"Positions_id\", \"Positions\".upper AS \"Positions_upper\", \"Positions\".middle AS \"Positions_middle\", \"Positions\".lower AS \"Positions_lower\", \"Positions\".x AS \"Positions_x\", \"Positions\".y AS \"Positions_y\" \n",
      "FROM \"Positions\" \n",
      "WHERE \"Positions\".id = ?\n",
      "2021-07-01 19:33:10,175 INFO sqlalchemy.engine.Engine [cached since 0.7067s ago] (77,)\n",
      "2021-07-01 19:33:10,179 INFO sqlalchemy.engine.Engine SELECT \"Positions\".id AS \"Positions_id\", \"Positions\".upper AS \"Positions_upper\", \"Positions\".middle AS \"Positions_middle\", \"Positions\".lower AS \"Positions_lower\", \"Positions\".x AS \"Positions_x\", \"Positions\".y AS \"Positions_y\" \n",
      "FROM \"Positions\" \n",
      "WHERE \"Positions\".id = ?\n",
      "2021-07-01 19:33:10,180 INFO sqlalchemy.engine.Engine [cached since 0.7203s ago] (78,)\n",
      "2021-07-01 19:33:10,182 INFO sqlalchemy.engine.Engine SELECT \"Positions\".id AS \"Positions_id\", \"Positions\".upper AS \"Positions_upper\", \"Positions\".middle AS \"Positions_middle\", \"Positions\".lower AS \"Positions_lower\", \"Positions\".x AS \"Positions_x\", \"Positions\".y AS \"Positions_y\" \n",
      "FROM \"Positions\" \n",
      "WHERE \"Positions\".id = ?\n",
      "2021-07-01 19:33:10,183 INFO sqlalchemy.engine.Engine [cached since 0.7145s ago] (79,)\n",
      "2021-07-01 19:33:10,185 INFO sqlalchemy.engine.Engine SELECT \"Positions\".id AS \"Positions_id\", \"Positions\".upper AS \"Positions_upper\", \"Positions\".middle AS \"Positions_middle\", \"Positions\".lower AS \"Positions_lower\", \"Positions\".x AS \"Positions_x\", \"Positions\".y AS \"Positions_y\" \n",
      "FROM \"Positions\" \n",
      "WHERE \"Positions\".id = ?\n",
      "2021-07-01 19:33:10,186 INFO sqlalchemy.engine.Engine [cached since 0.7264s ago] (80,)\n",
      "2021-07-01 19:33:10,190 INFO sqlalchemy.engine.Engine SELECT \"Positions\".id AS \"Positions_id\", \"Positions\".upper AS \"Positions_upper\", \"Positions\".middle AS \"Positions_middle\", \"Positions\".lower AS \"Positions_lower\", \"Positions\".x AS \"Positions_x\", \"Positions\".y AS \"Positions_y\" \n",
      "FROM \"Positions\" \n",
      "WHERE \"Positions\".id = ?\n",
      "2021-07-01 19:33:10,191 INFO sqlalchemy.engine.Engine [cached since 0.7229s ago] (81,)\n",
      "2021-07-01 19:33:10,213 INFO sqlalchemy.engine.Engine UPDATE \"Boreholes\" SET length=? WHERE \"Boreholes\".id = ?\n",
      "2021-07-01 19:33:10,214 INFO sqlalchemy.engine.Engine [cached since 0.6783s ago] (98.0, 'BH008')\n",
      "2021-07-01 19:33:10,215 INFO sqlalchemy.engine.Engine INSERT INTO \"Boreholes\" (id, length, diameter) VALUES (?, ?, ?)\n",
      "2021-07-01 19:33:10,216 INFO sqlalchemy.engine.Engine [cached since 0.8082s ago] ('BH009', 40.0, 0.5)\n",
      "2021-07-01 19:33:10,219 INFO sqlalchemy.engine.Engine INSERT INTO \"Positions\" (id, upper, middle, lower, x, y) VALUES (?, ?, ?, ?, ?, ?)\n",
      "2021-07-01 19:33:10,220 INFO sqlalchemy.engine.Engine [cached since 0.805s ago] ((82, 100.0, 100.0, 100.0, 152052.0, 121293.0), (83, 94.0, 94.0, 94.0, 152052.0, 121293.0), (84, 94.0, 94.0, 94.0, 152052.0, 121293.0), (85, 92.0, 92.0, 92.0, 152052.0, 121293.0), (86, 92.0, 92.0, 92.0, 152052.0, 121293.0), (87, 82.0, 82.0, 82.0, 152052.0, 121293.0), (88, 82.0, 82.0, 82.0, 152052.0, 121293.0), (89, 78.0, 78.0, 78.0, 152052.0, 121293.0), (90, 78.0, 78.0, 78.0, 152052.0, 121293.0), (91, 60.0, 60.0, 60.0, 152052.0, 121293.0))\n",
      "2021-07-01 19:33:10,223 INFO sqlalchemy.engine.Engine INSERT INTO \"Intervals\" (id, borehole, interval_number, description, top_id, base_id, data_id) VALUES (?, ?, ?, ?, ?, ?, ?)\n",
      "2021-07-01 19:33:10,225 INFO sqlalchemy.engine.Engine [cached since 0.8051s ago] ((41, 'BH009', 0, 'Sable VR', 82, 83, None), (42, 'BH009', 1, 'Argile VR', 84, 85, None), (43, 'BH009', 2, 'Marne VI', 86, 87, None), (44, 'BH009', 3, 'Charbon VS', 88, 89, None), (45, 'BH009', 4, 'Dolomie VS', 90, 91, None))\n",
      "2021-07-01 19:33:10,230 INFO sqlalchemy.engine.Engine COMMIT\n",
      "2021-07-01 19:33:10,235 INFO sqlalchemy.engine.Engine BEGIN (implicit)\n",
      "2021-07-01 19:33:10,236 INFO sqlalchemy.engine.Engine SELECT \"Boreholes\".id AS \"Boreholes_id\", \"Boreholes\".length AS \"Boreholes_length\", \"Boreholes\".diameter AS \"Boreholes_diameter\" \n",
      "FROM \"Boreholes\"\n",
      "2021-07-01 19:33:10,237 INFO sqlalchemy.engine.Engine [cached since 0.8546s ago] ()\n",
      "2021-07-01 19:33:10,242 INFO sqlalchemy.engine.Engine SELECT \"Intervals\".id AS \"Intervals_id\", \"Intervals\".borehole AS \"Intervals_borehole\", \"Intervals\".interval_number AS \"Intervals_interval_number\", \"Intervals\".description AS \"Intervals_description\", \"Intervals\".top_id AS \"Intervals_top_id\", \"Intervals\".base_id AS \"Intervals_base_id\", \"Intervals\".data_id AS \"Intervals_data_id\" \n",
      "FROM \"Intervals\" \n",
      "WHERE ? = \"Intervals\".borehole\n",
      "2021-07-01 19:33:10,246 INFO sqlalchemy.engine.Engine [cached since 0.7981s ago] ('BH009',)\n",
      "2021-07-01 19:33:10,250 INFO sqlalchemy.engine.Engine SELECT \"Positions\".id AS \"Positions_id\", \"Positions\".upper AS \"Positions_upper\", \"Positions\".middle AS \"Positions_middle\", \"Positions\".lower AS \"Positions_lower\", \"Positions\".x AS \"Positions_x\", \"Positions\".y AS \"Positions_y\" \n",
      "FROM \"Positions\" \n",
      "WHERE \"Positions\".id = ?\n",
      "2021-07-01 19:33:10,252 INFO sqlalchemy.engine.Engine [cached since 0.7916s ago] (82,)\n",
      "2021-07-01 19:33:10,254 INFO sqlalchemy.engine.Engine SELECT \"Positions\".id AS \"Positions_id\", \"Positions\".upper AS \"Positions_upper\", \"Positions\".middle AS \"Positions_middle\", \"Positions\".lower AS \"Positions_lower\", \"Positions\".x AS \"Positions_x\", \"Positions\".y AS \"Positions_y\" \n",
      "FROM \"Positions\" \n",
      "WHERE \"Positions\".id = ?\n",
      "2021-07-01 19:33:10,259 INFO sqlalchemy.engine.Engine [cached since 0.7908s ago] (83,)\n",
      "2021-07-01 19:33:10,264 INFO sqlalchemy.engine.Engine SELECT \"Positions\".id AS \"Positions_id\", \"Positions\".upper AS \"Positions_upper\", \"Positions\".middle AS \"Positions_middle\", \"Positions\".lower AS \"Positions_lower\", \"Positions\".x AS \"Positions_x\", \"Positions\".y AS \"Positions_y\" \n",
      "FROM \"Positions\" \n",
      "WHERE \"Positions\".id = ?\n",
      "2021-07-01 19:33:10,265 INFO sqlalchemy.engine.Engine [cached since 0.8048s ago] (84,)\n",
      "2021-07-01 19:33:10,267 INFO sqlalchemy.engine.Engine SELECT \"Positions\".id AS \"Positions_id\", \"Positions\".upper AS \"Positions_upper\", \"Positions\".middle AS \"Positions_middle\", \"Positions\".lower AS \"Positions_lower\", \"Positions\".x AS \"Positions_x\", \"Positions\".y AS \"Positions_y\" \n",
      "FROM \"Positions\" \n",
      "WHERE \"Positions\".id = ?\n",
      "2021-07-01 19:33:10,268 INFO sqlalchemy.engine.Engine [cached since 0.8s ago] (85,)\n"
     ]
    },
    {
     "name": "stdout",
     "output_type": "stream",
     "text": [
      "2021-07-01 19:33:10,270 INFO sqlalchemy.engine.Engine SELECT \"Positions\".id AS \"Positions_id\", \"Positions\".upper AS \"Positions_upper\", \"Positions\".middle AS \"Positions_middle\", \"Positions\".lower AS \"Positions_lower\", \"Positions\".x AS \"Positions_x\", \"Positions\".y AS \"Positions_y\" \n",
      "FROM \"Positions\" \n",
      "WHERE \"Positions\".id = ?\n",
      "2021-07-01 19:33:10,272 INFO sqlalchemy.engine.Engine [cached since 0.8123s ago] (86,)\n",
      "2021-07-01 19:33:10,276 INFO sqlalchemy.engine.Engine SELECT \"Positions\".id AS \"Positions_id\", \"Positions\".upper AS \"Positions_upper\", \"Positions\".middle AS \"Positions_middle\", \"Positions\".lower AS \"Positions_lower\", \"Positions\".x AS \"Positions_x\", \"Positions\".y AS \"Positions_y\" \n",
      "FROM \"Positions\" \n",
      "WHERE \"Positions\".id = ?\n",
      "2021-07-01 19:33:10,278 INFO sqlalchemy.engine.Engine [cached since 0.8096s ago] (87,)\n",
      "2021-07-01 19:33:10,281 INFO sqlalchemy.engine.Engine SELECT \"Positions\".id AS \"Positions_id\", \"Positions\".upper AS \"Positions_upper\", \"Positions\".middle AS \"Positions_middle\", \"Positions\".lower AS \"Positions_lower\", \"Positions\".x AS \"Positions_x\", \"Positions\".y AS \"Positions_y\" \n",
      "FROM \"Positions\" \n",
      "WHERE \"Positions\".id = ?\n",
      "2021-07-01 19:33:10,282 INFO sqlalchemy.engine.Engine [cached since 0.8217s ago] (88,)\n",
      "2021-07-01 19:33:10,284 INFO sqlalchemy.engine.Engine SELECT \"Positions\".id AS \"Positions_id\", \"Positions\".upper AS \"Positions_upper\", \"Positions\".middle AS \"Positions_middle\", \"Positions\".lower AS \"Positions_lower\", \"Positions\".x AS \"Positions_x\", \"Positions\".y AS \"Positions_y\" \n",
      "FROM \"Positions\" \n",
      "WHERE \"Positions\".id = ?\n",
      "2021-07-01 19:33:10,285 INFO sqlalchemy.engine.Engine [cached since 0.8162s ago] (89,)\n",
      "2021-07-01 19:33:10,287 INFO sqlalchemy.engine.Engine SELECT \"Positions\".id AS \"Positions_id\", \"Positions\".upper AS \"Positions_upper\", \"Positions\".middle AS \"Positions_middle\", \"Positions\".lower AS \"Positions_lower\", \"Positions\".x AS \"Positions_x\", \"Positions\".y AS \"Positions_y\" \n",
      "FROM \"Positions\" \n",
      "WHERE \"Positions\".id = ?\n",
      "2021-07-01 19:33:10,287 INFO sqlalchemy.engine.Engine [cached since 0.8274s ago] (90,)\n",
      "2021-07-01 19:33:10,290 INFO sqlalchemy.engine.Engine SELECT \"Positions\".id AS \"Positions_id\", \"Positions\".upper AS \"Positions_upper\", \"Positions\".middle AS \"Positions_middle\", \"Positions\".lower AS \"Positions_lower\", \"Positions\".x AS \"Positions_x\", \"Positions\".y AS \"Positions_y\" \n",
      "FROM \"Positions\" \n",
      "WHERE \"Positions\".id = ?\n",
      "2021-07-01 19:33:10,292 INFO sqlalchemy.engine.Engine [cached since 0.8235s ago] (91,)\n",
      "2021-07-01 19:33:10,313 INFO sqlalchemy.engine.Engine UPDATE \"Boreholes\" SET length=? WHERE \"Boreholes\".id = ?\n",
      "2021-07-01 19:33:10,314 INFO sqlalchemy.engine.Engine [cached since 0.7786s ago] (94.0, 'BH009')\n",
      "2021-07-01 19:33:10,316 INFO sqlalchemy.engine.Engine INSERT INTO \"Boreholes\" (id, length, diameter) VALUES (?, ?, ?)\n",
      "2021-07-01 19:33:10,316 INFO sqlalchemy.engine.Engine [cached since 0.9084s ago] ('BH10', 14.0, 0.31)\n",
      "2021-07-01 19:33:10,318 INFO sqlalchemy.engine.Engine INSERT INTO \"Positions\" (id, upper, middle, lower, x, y) VALUES (?, ?, ?, ?, ?, ?)\n",
      "2021-07-01 19:33:10,319 INFO sqlalchemy.engine.Engine [cached since 0.9039s ago] ((92, 100.0, 100.0, 100.0, 152315.0, 121754.0), (93, 95.0, 95.0, 95.0, 152315.0, 121754.0), (94, 95.0, 95.0, 95.0, 152315.0, 121754.0), (95, 91.0, 91.0, 91.0, 152315.0, 121754.0), (96, 91.0, 91.0, 91.0, 152315.0, 121754.0), (97, 89.0, 89.0, 89.0, 152315.0, 121754.0), (98, 89.0, 89.0, 89.0, 152315.0, 121754.0), (99, 86.0, 86.0, 86.0, 152315.0, 121754.0))\n",
      "2021-07-01 19:33:10,321 INFO sqlalchemy.engine.Engine INSERT INTO \"Intervals\" (id, borehole, interval_number, description, top_id, base_id, data_id) VALUES (?, ?, ?, ?, ?, ?, ?)\n",
      "2021-07-01 19:33:10,324 INFO sqlalchemy.engine.Engine [cached since 0.9038s ago] ((46, 'BH10', 0, 'Sable VR', 92, 93, None), (47, 'BH10', 1, 'Argile VS', 94, 95, None), (48, 'BH10', 2, 'Marne VR', 96, 97, None), (49, 'BH10', 3, 'Charbon VR', 98, 99, None))\n",
      "2021-07-01 19:33:10,327 INFO sqlalchemy.engine.Engine COMMIT\n",
      "2021-07-01 19:33:10,331 INFO sqlalchemy.engine.Engine BEGIN (implicit)\n",
      "2021-07-01 19:33:10,332 INFO sqlalchemy.engine.Engine SELECT \"Boreholes\".id AS \"Boreholes_id\", \"Boreholes\".length AS \"Boreholes_length\", \"Boreholes\".diameter AS \"Boreholes_diameter\" \n",
      "FROM \"Boreholes\"\n",
      "2021-07-01 19:33:10,333 INFO sqlalchemy.engine.Engine [cached since 0.9509s ago] ()\n",
      "2021-07-01 19:33:10,336 INFO sqlalchemy.engine.Engine SELECT \"Intervals\".id AS \"Intervals_id\", \"Intervals\".borehole AS \"Intervals_borehole\", \"Intervals\".interval_number AS \"Intervals_interval_number\", \"Intervals\".description AS \"Intervals_description\", \"Intervals\".top_id AS \"Intervals_top_id\", \"Intervals\".base_id AS \"Intervals_base_id\", \"Intervals\".data_id AS \"Intervals_data_id\" \n",
      "FROM \"Intervals\" \n",
      "WHERE ? = \"Intervals\".borehole\n",
      "2021-07-01 19:33:10,337 INFO sqlalchemy.engine.Engine [cached since 0.8885s ago] ('BH10',)\n",
      "2021-07-01 19:33:10,340 INFO sqlalchemy.engine.Engine SELECT \"Positions\".id AS \"Positions_id\", \"Positions\".upper AS \"Positions_upper\", \"Positions\".middle AS \"Positions_middle\", \"Positions\".lower AS \"Positions_lower\", \"Positions\".x AS \"Positions_x\", \"Positions\".y AS \"Positions_y\" \n",
      "FROM \"Positions\" \n",
      "WHERE \"Positions\".id = ?\n",
      "2021-07-01 19:33:10,341 INFO sqlalchemy.engine.Engine [cached since 0.8815s ago] (92,)\n",
      "2021-07-01 19:33:10,346 INFO sqlalchemy.engine.Engine SELECT \"Positions\".id AS \"Positions_id\", \"Positions\".upper AS \"Positions_upper\", \"Positions\".middle AS \"Positions_middle\", \"Positions\".lower AS \"Positions_lower\", \"Positions\".x AS \"Positions_x\", \"Positions\".y AS \"Positions_y\" \n",
      "FROM \"Positions\" \n",
      "WHERE \"Positions\".id = ?\n",
      "2021-07-01 19:33:10,348 INFO sqlalchemy.engine.Engine [cached since 0.88s ago] (93,)\n",
      "2021-07-01 19:33:10,351 INFO sqlalchemy.engine.Engine SELECT \"Positions\".id AS \"Positions_id\", \"Positions\".upper AS \"Positions_upper\", \"Positions\".middle AS \"Positions_middle\", \"Positions\".lower AS \"Positions_lower\", \"Positions\".x AS \"Positions_x\", \"Positions\".y AS \"Positions_y\" \n",
      "FROM \"Positions\" \n",
      "WHERE \"Positions\".id = ?\n",
      "2021-07-01 19:33:10,352 INFO sqlalchemy.engine.Engine [cached since 0.8921s ago] (94,)\n",
      "2021-07-01 19:33:10,354 INFO sqlalchemy.engine.Engine SELECT \"Positions\".id AS \"Positions_id\", \"Positions\".upper AS \"Positions_upper\", \"Positions\".middle AS \"Positions_middle\", \"Positions\".lower AS \"Positions_lower\", \"Positions\".x AS \"Positions_x\", \"Positions\".y AS \"Positions_y\" \n",
      "FROM \"Positions\" \n",
      "WHERE \"Positions\".id = ?\n",
      "2021-07-01 19:33:10,358 INFO sqlalchemy.engine.Engine [cached since 0.8898s ago] (95,)\n",
      "2021-07-01 19:33:10,363 INFO sqlalchemy.engine.Engine SELECT \"Positions\".id AS \"Positions_id\", \"Positions\".upper AS \"Positions_upper\", \"Positions\".middle AS \"Positions_middle\", \"Positions\".lower AS \"Positions_lower\", \"Positions\".x AS \"Positions_x\", \"Positions\".y AS \"Positions_y\" \n",
      "FROM \"Positions\" \n",
      "WHERE \"Positions\".id = ?\n",
      "2021-07-01 19:33:10,364 INFO sqlalchemy.engine.Engine [cached since 0.9038s ago] (96,)\n",
      "2021-07-01 19:33:10,366 INFO sqlalchemy.engine.Engine SELECT \"Positions\".id AS \"Positions_id\", \"Positions\".upper AS \"Positions_upper\", \"Positions\".middle AS \"Positions_middle\", \"Positions\".lower AS \"Positions_lower\", \"Positions\".x AS \"Positions_x\", \"Positions\".y AS \"Positions_y\" \n",
      "FROM \"Positions\" \n",
      "WHERE \"Positions\".id = ?\n",
      "2021-07-01 19:33:10,367 INFO sqlalchemy.engine.Engine [cached since 0.899s ago] (97,)\n",
      "2021-07-01 19:33:10,370 INFO sqlalchemy.engine.Engine SELECT \"Positions\".id AS \"Positions_id\", \"Positions\".upper AS \"Positions_upper\", \"Positions\".middle AS \"Positions_middle\", \"Positions\".lower AS \"Positions_lower\", \"Positions\".x AS \"Positions_x\", \"Positions\".y AS \"Positions_y\" \n",
      "FROM \"Positions\" \n",
      "WHERE \"Positions\".id = ?\n",
      "2021-07-01 19:33:10,371 INFO sqlalchemy.engine.Engine [cached since 0.9108s ago] (98,)\n",
      "2021-07-01 19:33:10,376 INFO sqlalchemy.engine.Engine SELECT \"Positions\".id AS \"Positions_id\", \"Positions\".upper AS \"Positions_upper\", \"Positions\".middle AS \"Positions_middle\", \"Positions\".lower AS \"Positions_lower\", \"Positions\".x AS \"Positions_x\", \"Positions\".y AS \"Positions_y\" \n",
      "FROM \"Positions\" \n",
      "WHERE \"Positions\".id = ?\n",
      "2021-07-01 19:33:10,378 INFO sqlalchemy.engine.Engine [cached since 0.9093s ago] (99,)\n"
     ]
    }
   ],
   "source": [
    "for bh in boreholes:\n",
    "    p.add_borehole(bh)"
   ]
  },
  {
   "cell_type": "code",
   "execution_count": 18,
   "metadata": {},
   "outputs": [
    {
     "name": "stdout",
     "output_type": "stream",
     "text": [
      "2021-07-01 19:33:10,412 INFO sqlalchemy.engine.Engine UPDATE \"Boreholes\" SET length=? WHERE \"Boreholes\".id = ?\n",
      "2021-07-01 19:33:10,413 INFO sqlalchemy.engine.Engine [cached since 0.8775s ago] (95.0, 'BH10')\n",
      "2021-07-01 19:33:10,417 INFO sqlalchemy.engine.Engine INSERT INTO \"Linkintervalcomponent\" (int_id, comp_id, extra_data) VALUES (?, ?, ?)\n",
      "2021-07-01 19:33:10,418 INFO sqlalchemy.engine.Engine [generated in 0.00160s] ((0, 2, ''), (1, 3, ''), (2, 0, ''), (3, 1, ''), (4, 5, ''), (5, 6, ''), (6, 0, ''), (7, 1, '')  ... displaying 10 of 50 total bound parameter sets ...  (48, 0, ''), (49, 11, ''))\n",
      "2021-07-01 19:33:10,423 INFO sqlalchemy.engine.Engine COMMIT\n",
      "2021-07-01 19:33:10,429 INFO sqlalchemy.engine.Engine BEGIN (implicit)\n",
      "2021-07-01 19:33:10,430 INFO sqlalchemy.engine.Engine SELECT \"Boreholes\".id AS \"Boreholes_id\", \"Boreholes\".length AS \"Boreholes_length\", \"Boreholes\".diameter AS \"Boreholes_diameter\" \n",
      "FROM \"Boreholes\"\n",
      "2021-07-01 19:33:10,431 INFO sqlalchemy.engine.Engine [cached since 1.049s ago] ()\n"
     ]
    }
   ],
   "source": [
    "p.add_link_between_components_and_intervals(link_intv_comp)"
   ]
  },
  {
   "cell_type": "code",
   "execution_count": 19,
   "metadata": {},
   "outputs": [
    {
     "name": "stdout",
     "output_type": "stream",
     "text": [
      "2021-07-01 19:33:10,439 INFO sqlalchemy.engine.Engine COMMIT\n",
      "Boreholes in the project :  10\n"
     ]
    }
   ],
   "source": [
    "p.commit()\n",
    "print('Boreholes in the project : ', len(p.boreholes))"
   ]
  },
  {
   "cell_type": "code",
   "execution_count": 20,
   "metadata": {},
   "outputs": [
    {
     "name": "stdout",
     "output_type": "stream",
     "text": [
      "2021-07-01 19:33:10,455 INFO sqlalchemy.engine.Engine BEGIN (implicit)\n",
      "2021-07-01 19:33:10,465 INFO sqlalchemy.engine.Engine SELECT \"Boreholes\".id AS \"Boreholes_id\", \"Boreholes\".length AS \"Boreholes_length\", \"Boreholes\".diameter AS \"Boreholes_diameter\" \n",
      "FROM \"Boreholes\" \n",
      "WHERE \"Boreholes\".id = ?\n",
      "2021-07-01 19:33:10,468 INFO sqlalchemy.engine.Engine [generated in 0.00332s] ('BH001',)\n",
      "2021-07-01 19:33:10,470 INFO sqlalchemy.engine.Engine SELECT \"Intervals\".id AS \"Intervals_id\", \"Intervals\".borehole AS \"Intervals_borehole\", \"Intervals\".interval_number AS \"Intervals_interval_number\", \"Intervals\".description AS \"Intervals_description\", \"Intervals\".top_id AS \"Intervals_top_id\", \"Intervals\".base_id AS \"Intervals_base_id\", \"Intervals\".data_id AS \"Intervals_data_id\" \n",
      "FROM \"Intervals\" \n",
      "WHERE ? = \"Intervals\".borehole\n",
      "2021-07-01 19:33:10,471 INFO sqlalchemy.engine.Engine [cached since 1.023s ago] ('BH001',)\n",
      "2021-07-01 19:33:10,475 INFO sqlalchemy.engine.Engine SELECT \"Boreholes\".id AS \"Boreholes_id\", \"Boreholes\".length AS \"Boreholes_length\", \"Boreholes\".diameter AS \"Boreholes_diameter\" \n",
      "FROM \"Boreholes\" \n",
      "WHERE \"Boreholes\".id = ?\n",
      "2021-07-01 19:33:10,476 INFO sqlalchemy.engine.Engine [cached since 0.01075s ago] ('BH002',)\n",
      "2021-07-01 19:33:10,479 INFO sqlalchemy.engine.Engine SELECT \"Intervals\".id AS \"Intervals_id\", \"Intervals\".borehole AS \"Intervals_borehole\", \"Intervals\".interval_number AS \"Intervals_interval_number\", \"Intervals\".description AS \"Intervals_description\", \"Intervals\".top_id AS \"Intervals_top_id\", \"Intervals\".base_id AS \"Intervals_base_id\", \"Intervals\".data_id AS \"Intervals_data_id\" \n",
      "FROM \"Intervals\" \n",
      "WHERE ? = \"Intervals\".borehole\n",
      "2021-07-01 19:33:10,480 INFO sqlalchemy.engine.Engine [cached since 1.032s ago] ('BH002',)\n",
      "2021-07-01 19:33:10,482 INFO sqlalchemy.engine.Engine SELECT \"Boreholes\".id AS \"Boreholes_id\", \"Boreholes\".length AS \"Boreholes_length\", \"Boreholes\".diameter AS \"Boreholes_diameter\" \n",
      "FROM \"Boreholes\" \n",
      "WHERE \"Boreholes\".id = ?\n",
      "2021-07-01 19:33:10,482 INFO sqlalchemy.engine.Engine [cached since 0.01757s ago] ('BH003',)\n",
      "2021-07-01 19:33:10,484 INFO sqlalchemy.engine.Engine SELECT \"Intervals\".id AS \"Intervals_id\", \"Intervals\".borehole AS \"Intervals_borehole\", \"Intervals\".interval_number AS \"Intervals_interval_number\", \"Intervals\".description AS \"Intervals_description\", \"Intervals\".top_id AS \"Intervals_top_id\", \"Intervals\".base_id AS \"Intervals_base_id\", \"Intervals\".data_id AS \"Intervals_data_id\" \n",
      "FROM \"Intervals\" \n",
      "WHERE ? = \"Intervals\".borehole\n",
      "2021-07-01 19:33:10,484 INFO sqlalchemy.engine.Engine [cached since 1.036s ago] ('BH003',)\n",
      "2021-07-01 19:33:10,487 INFO sqlalchemy.engine.Engine SELECT \"Boreholes\".id AS \"Boreholes_id\", \"Boreholes\".length AS \"Boreholes_length\", \"Boreholes\".diameter AS \"Boreholes_diameter\" \n",
      "FROM \"Boreholes\" \n",
      "WHERE \"Boreholes\".id = ?\n",
      "2021-07-01 19:33:10,487 INFO sqlalchemy.engine.Engine [cached since 0.02247s ago] ('BH004',)\n",
      "2021-07-01 19:33:10,490 INFO sqlalchemy.engine.Engine SELECT \"Intervals\".id AS \"Intervals_id\", \"Intervals\".borehole AS \"Intervals_borehole\", \"Intervals\".interval_number AS \"Intervals_interval_number\", \"Intervals\".description AS \"Intervals_description\", \"Intervals\".top_id AS \"Intervals_top_id\", \"Intervals\".base_id AS \"Intervals_base_id\", \"Intervals\".data_id AS \"Intervals_data_id\" \n",
      "FROM \"Intervals\" \n",
      "WHERE ? = \"Intervals\".borehole\n",
      "2021-07-01 19:33:10,491 INFO sqlalchemy.engine.Engine [cached since 1.043s ago] ('BH004',)\n",
      "2021-07-01 19:33:10,495 INFO sqlalchemy.engine.Engine SELECT \"Boreholes\".id AS \"Boreholes_id\", \"Boreholes\".length AS \"Boreholes_length\", \"Boreholes\".diameter AS \"Boreholes_diameter\" \n",
      "FROM \"Boreholes\" \n",
      "WHERE \"Boreholes\".id = ?\n",
      "2021-07-01 19:33:10,496 INFO sqlalchemy.engine.Engine [cached since 0.03109s ago] ('BH005',)\n",
      "2021-07-01 19:33:10,499 INFO sqlalchemy.engine.Engine SELECT \"Intervals\".id AS \"Intervals_id\", \"Intervals\".borehole AS \"Intervals_borehole\", \"Intervals\".interval_number AS \"Intervals_interval_number\", \"Intervals\".description AS \"Intervals_description\", \"Intervals\".top_id AS \"Intervals_top_id\", \"Intervals\".base_id AS \"Intervals_base_id\", \"Intervals\".data_id AS \"Intervals_data_id\" \n",
      "FROM \"Intervals\" \n",
      "WHERE ? = \"Intervals\".borehole\n",
      "2021-07-01 19:33:10,500 INFO sqlalchemy.engine.Engine [cached since 1.052s ago] ('BH005',)\n",
      "2021-07-01 19:33:10,502 INFO sqlalchemy.engine.Engine SELECT \"Boreholes\".id AS \"Boreholes_id\", \"Boreholes\".length AS \"Boreholes_length\", \"Boreholes\".diameter AS \"Boreholes_diameter\" \n",
      "FROM \"Boreholes\" \n",
      "WHERE \"Boreholes\".id = ?\n",
      "2021-07-01 19:33:10,503 INFO sqlalchemy.engine.Engine [cached since 0.03829s ago] ('BH006',)\n",
      "2021-07-01 19:33:10,505 INFO sqlalchemy.engine.Engine SELECT \"Intervals\".id AS \"Intervals_id\", \"Intervals\".borehole AS \"Intervals_borehole\", \"Intervals\".interval_number AS \"Intervals_interval_number\", \"Intervals\".description AS \"Intervals_description\", \"Intervals\".top_id AS \"Intervals_top_id\", \"Intervals\".base_id AS \"Intervals_base_id\", \"Intervals\".data_id AS \"Intervals_data_id\" \n",
      "FROM \"Intervals\" \n",
      "WHERE ? = \"Intervals\".borehole\n",
      "2021-07-01 19:33:10,506 INFO sqlalchemy.engine.Engine [cached since 1.058s ago] ('BH006',)\n",
      "2021-07-01 19:33:10,508 INFO sqlalchemy.engine.Engine SELECT \"Boreholes\".id AS \"Boreholes_id\", \"Boreholes\".length AS \"Boreholes_length\", \"Boreholes\".diameter AS \"Boreholes_diameter\" \n",
      "FROM \"Boreholes\" \n",
      "WHERE \"Boreholes\".id = ?\n",
      "2021-07-01 19:33:10,508 INFO sqlalchemy.engine.Engine [cached since 0.04371s ago] ('BH007',)\n",
      "2021-07-01 19:33:10,511 INFO sqlalchemy.engine.Engine SELECT \"Intervals\".id AS \"Intervals_id\", \"Intervals\".borehole AS \"Intervals_borehole\", \"Intervals\".interval_number AS \"Intervals_interval_number\", \"Intervals\".description AS \"Intervals_description\", \"Intervals\".top_id AS \"Intervals_top_id\", \"Intervals\".base_id AS \"Intervals_base_id\", \"Intervals\".data_id AS \"Intervals_data_id\" \n",
      "FROM \"Intervals\" \n",
      "WHERE ? = \"Intervals\".borehole\n",
      "2021-07-01 19:33:10,512 INFO sqlalchemy.engine.Engine [cached since 1.064s ago] ('BH007',)\n",
      "2021-07-01 19:33:10,515 INFO sqlalchemy.engine.Engine SELECT \"Boreholes\".id AS \"Boreholes_id\", \"Boreholes\".length AS \"Boreholes_length\", \"Boreholes\".diameter AS \"Boreholes_diameter\" \n",
      "FROM \"Boreholes\" \n",
      "WHERE \"Boreholes\".id = ?\n",
      "2021-07-01 19:33:10,515 INFO sqlalchemy.engine.Engine [cached since 0.05058s ago] ('BH008',)\n",
      "2021-07-01 19:33:10,517 INFO sqlalchemy.engine.Engine SELECT \"Intervals\".id AS \"Intervals_id\", \"Intervals\".borehole AS \"Intervals_borehole\", \"Intervals\".interval_number AS \"Intervals_interval_number\", \"Intervals\".description AS \"Intervals_description\", \"Intervals\".top_id AS \"Intervals_top_id\", \"Intervals\".base_id AS \"Intervals_base_id\", \"Intervals\".data_id AS \"Intervals_data_id\" \n",
      "FROM \"Intervals\" \n",
      "WHERE ? = \"Intervals\".borehole\n",
      "2021-07-01 19:33:10,517 INFO sqlalchemy.engine.Engine [cached since 1.069s ago] ('BH008',)\n",
      "2021-07-01 19:33:10,518 INFO sqlalchemy.engine.Engine SELECT \"Boreholes\".id AS \"Boreholes_id\", \"Boreholes\".length AS \"Boreholes_length\", \"Boreholes\".diameter AS \"Boreholes_diameter\" \n",
      "FROM \"Boreholes\" \n",
      "WHERE \"Boreholes\".id = ?\n",
      "2021-07-01 19:33:10,519 INFO sqlalchemy.engine.Engine [cached since 0.05442s ago] ('BH009',)\n",
      "2021-07-01 19:33:10,521 INFO sqlalchemy.engine.Engine SELECT \"Intervals\".id AS \"Intervals_id\", \"Intervals\".borehole AS \"Intervals_borehole\", \"Intervals\".interval_number AS \"Intervals_interval_number\", \"Intervals\".description AS \"Intervals_description\", \"Intervals\".top_id AS \"Intervals_top_id\", \"Intervals\".base_id AS \"Intervals_base_id\", \"Intervals\".data_id AS \"Intervals_data_id\" \n",
      "FROM \"Intervals\" \n",
      "WHERE ? = \"Intervals\".borehole\n",
      "2021-07-01 19:33:10,523 INFO sqlalchemy.engine.Engine [cached since 1.075s ago] ('BH009',)\n",
      "2021-07-01 19:33:10,527 INFO sqlalchemy.engine.Engine SELECT \"Boreholes\".id AS \"Boreholes_id\", \"Boreholes\".length AS \"Boreholes_length\", \"Boreholes\".diameter AS \"Boreholes_diameter\" \n",
      "FROM \"Boreholes\" \n",
      "WHERE \"Boreholes\".id = ?\n",
      "2021-07-01 19:33:10,529 INFO sqlalchemy.engine.Engine [cached since 0.06463s ago] ('BH10',)\n",
      "2021-07-01 19:33:10,532 INFO sqlalchemy.engine.Engine SELECT \"Intervals\".id AS \"Intervals_id\", \"Intervals\".borehole AS \"Intervals_borehole\", \"Intervals\".interval_number AS \"Intervals_interval_number\", \"Intervals\".description AS \"Intervals_description\", \"Intervals\".top_id AS \"Intervals_top_id\", \"Intervals\".base_id AS \"Intervals_base_id\", \"Intervals\".data_id AS \"Intervals_data_id\" \n",
      "FROM \"Intervals\" \n",
      "WHERE ? = \"Intervals\".borehole\n"
     ]
    },
    {
     "name": "stdout",
     "output_type": "stream",
     "text": [
      "2021-07-01 19:33:10,533 INFO sqlalchemy.engine.Engine [cached since 1.085s ago] ('BH10',)\n"
     ]
    },
    {
     "data": {
      "text/plain": [
       "[<core.orm.BoreholeOrm>(Name=BH001, Length=97.0, Diameter=0.43, Intervals=4),\n",
       " <core.orm.BoreholeOrm>(Name=BH002, Length=98.0, Diameter=0.6, Intervals=5),\n",
       " <core.orm.BoreholeOrm>(Name=BH003, Length=100.0, Diameter=0.41, Intervals=5),\n",
       " <core.orm.BoreholeOrm>(Name=BH004, Length=96.0, Diameter=0.61, Intervals=5),\n",
       " <core.orm.BoreholeOrm>(Name=BH005, Length=97.0, Diameter=0.61, Intervals=6),\n",
       " <core.orm.BoreholeOrm>(Name=BH006, Length=100.0, Diameter=0.31, Intervals=5),\n",
       " <core.orm.BoreholeOrm>(Name=BH007, Length=97.0, Diameter=0.57, Intervals=6),\n",
       " <core.orm.BoreholeOrm>(Name=BH008, Length=98.0, Diameter=0.39, Intervals=5),\n",
       " <core.orm.BoreholeOrm>(Name=BH009, Length=94.0, Diameter=0.5, Intervals=5),\n",
       " <core.orm.BoreholeOrm>(Name=BH10, Length=95.0, Diameter=0.31, Intervals=4)]"
      ]
     },
     "execution_count": 20,
     "metadata": {},
     "output_type": "execute_result"
    }
   ],
   "source": [
    "p.boreholes"
   ]
  },
  {
   "cell_type": "code",
   "execution_count": 21,
   "metadata": {},
   "outputs": [],
   "source": [
    "bh = p.boreholes[0]"
   ]
  },
  {
   "cell_type": "code",
   "execution_count": 22,
   "metadata": {},
   "outputs": [],
   "source": [
    "intv = bh.intervals[0]"
   ]
  },
  {
   "cell_type": "code",
   "execution_count": 23,
   "metadata": {},
   "outputs": [],
   "source": [
    "data = {'key':'Benzene', 'value': 1.52, 'units': 'µg/l'}"
   ]
  },
  {
   "cell_type": "code",
   "execution_count": 24,
   "metadata": {},
   "outputs": [],
   "source": [
    "benzene_1 = IntervalDataOrm(id=1, key='Benzene', value=1.52, units='µg/l')"
   ]
  },
  {
   "cell_type": "code",
   "execution_count": 25,
   "metadata": {},
   "outputs": [],
   "source": [
    "benzene_1 = IntervalDataOrm(id=1, **data)"
   ]
  },
  {
   "cell_type": "code",
   "execution_count": 26,
   "metadata": {},
   "outputs": [],
   "source": [
    "intv.data = benzene_1"
   ]
  },
  {
   "cell_type": "code",
   "execution_count": 27,
   "metadata": {},
   "outputs": [
    {
     "name": "stdout",
     "output_type": "stream",
     "text": [
      "2021-07-01 19:33:10,607 INFO sqlalchemy.engine.Engine INSERT INTO \"IntervalData\" (id, interval, \"key\", value, units) VALUES (?, ?, ?, ?, ?)\n",
      "2021-07-01 19:33:10,609 INFO sqlalchemy.engine.Engine [generated in 0.00165s] (1, None, 'Benzene', 1.52, 'µg/l')\n",
      "2021-07-01 19:33:10,614 INFO sqlalchemy.engine.Engine UPDATE \"Intervals\" SET data_id=? WHERE \"Intervals\".id = ?\n",
      "2021-07-01 19:33:10,615 INFO sqlalchemy.engine.Engine [generated in 0.00169s] (1, 0)\n",
      "2021-07-01 19:33:10,618 INFO sqlalchemy.engine.Engine SELECT \"Boreholes\".id AS \"Boreholes_id\", \"Boreholes\".length AS \"Boreholes_length\", \"Boreholes\".diameter AS \"Boreholes_diameter\" \n",
      "FROM \"Boreholes\"\n",
      "2021-07-01 19:33:10,620 INFO sqlalchemy.engine.Engine [cached since 1.237s ago] ()\n"
     ]
    }
   ],
   "source": [
    "p.refresh(verbose=False)"
   ]
  },
  {
   "cell_type": "code",
   "execution_count": 28,
   "metadata": {},
   "outputs": [
    {
     "name": "stdout",
     "output_type": "stream",
     "text": [
      "2021-07-01 19:33:10,629 INFO sqlalchemy.engine.Engine COMMIT\n"
     ]
    }
   ],
   "source": [
    "session.commit()"
   ]
  },
  {
   "cell_type": "code",
   "execution_count": 29,
   "metadata": {},
   "outputs": [],
   "source": [
    "session.close()"
   ]
  },
  {
   "cell_type": "markdown",
   "metadata": {},
   "source": [
    "# 2D/3D Display"
   ]
  },
  {
   "cell_type": "code",
   "execution_count": 30,
   "metadata": {},
   "outputs": [
    {
     "data": {
      "text/plain": [
       "dict_keys(['lithology', 'pollutant'])"
      ]
     },
     "execution_count": 30,
     "metadata": {},
     "output_type": "execute_result"
    }
   ],
   "source": [
    "p.legend_dict.keys() #['pollutant']"
   ]
  },
  {
   "cell_type": "code",
   "execution_count": 31,
   "metadata": {},
   "outputs": [
    {
     "data": {
      "image/png": "[encoded data removed]",
      "text/html": [
       "<div style=\"vertical-align: middle;\"><strong>from_list</strong> </div><div class=\"cmap\"><img alt=\"from_list colormap\" title=\"from_list\" style=\"border: 1px solid #555;\" src=\"data:image/png;base64,iVBORw0KGgoAAAANSUhEUgAAAgAAAABACAYAAABsv8+/AAAAGHRFWHRUaXRsZQBmcm9tX2xpc3QgY29sb3JtYXBDL89FAAAAHnRFWHREZXNjcmlwdGlvbgBmcm9tX2xpc3QgY29sb3JtYXABtCnOAAAAMHRFWHRBdXRob3IATWF0cGxvdGxpYiB2My40LjIsIGh0dHBzOi8vbWF0cGxvdGxpYi5vcmes1mPdAAAAMnRFWHRTb2Z0d2FyZQBNYXRwbG90bGliIHYzLjQuMiwgaHR0cHM6Ly9tYXRwbG90bGliLm9yZ4Jw/PoAAAFjSURBVHic7daxaQJQAEXRmDXsdCZBK6dxjnRCXEFwAXurkE1ENwhW/h/uORO86nEXj+v68cGfbsvv0ROmdzz/jJ4wvcN+O3rC9O4nd/SKy+Z39ISp7b5Woyf8C5+jBwAA7ycAACBIAABAkAAAgCABAABBAgAAggQAAAQJAAAIEgAAECQAACBIAABAkAAAgCABAABBAgAAggQAAAQJAAAIEgAAECQAACBIAABAkAAAgCABAABBAgAAggQAAAQJAAAIEgAAECQAACBIAABAkAAAgCABAABBAgAAggQAAAQJAAAIEgAAECQAACBIAABAkAAAgCABAABBAgAAggQAAAQJAAAIEgAAECQAACBIAABAkAAAgCABAABBAgAAggQAAAQJAAAIEgAAECQAACBIAABAkAAAgCABAABBAgAAggQAAAQJAAAIEgAAECQAACBIAABAkAAAgCABAABBAgAAggQAAAQ9AR5iDjB1rHLcAAAAAElFTkSuQmCC\"></div><div style=\"vertical-align: middle; max-width: 514px; display: flex; justify-content: space-between;\"><div style=\"float: left;\"><div title=\"#ffcb23ff\" style=\"display: inline-block; width: 1em; height: 1em; margin: 0; vertical-align: middle; border: 1px solid #555; background-color: #ffcb23ff;\"></div> under</div><div style=\"margin: 0 auto; display: inline-block;\">bad <div title=\"#00000000\" style=\"display: inline-block; width: 1em; height: 1em; margin: 0; vertical-align: middle; border: 1px solid #555; background-color: #00000000;\"></div></div><div style=\"float: right;\">over <div title=\"#149effff\" style=\"display: inline-block; width: 1em; height: 1em; margin: 0; vertical-align: middle; border: 1px solid #555; background-color: #149effff;\"></div></div>"
      ],
      "text/plain": [
       "<matplotlib.colors.ListedColormap at 0x7ff0370b27f0>"
      ]
     },
     "execution_count": 31,
     "metadata": {},
     "output_type": "execute_result"
    }
   ],
   "source": [
    "p.update_legend_cmap(update_legend=True)[1]"
   ]
  },
  {
   "cell_type": "markdown",
   "metadata": {},
   "source": [
    "## Display one object (attribute = 'lithology')"
   ]
  },
  {
   "cell_type": "raw",
   "metadata": {},
   "source": [
    "bh = 4\n",
    "#print(p.boreholes_3d[bh].name, '\\n', p.boreholes_3d[bh].intervals)"
   ]
  },
  {
   "cell_type": "code",
   "execution_count": 32,
   "metadata": {},
   "outputs": [
    {
     "data": {
      "text/plain": [
       "[Component({'lithology': 'sable', 'pollutant': 'vi'}),\n",
       " Component({'lithology': 'argile', 'pollutant': 'vi'}),\n",
       " Component({'lithology': 'marne', 'pollutant': 'vr'}),\n",
       " Component({'lithology': 'charbon', 'pollutant': 'vs'}),\n",
       " Component({'lithology': 'dolomie', 'pollutant': 'vr'})]"
      ]
     },
     "execution_count": 32,
     "metadata": {},
     "output_type": "execute_result"
    }
   ],
   "source": [
    "bh = 1\n",
    "p.boreholes_3d[bh]._components"
   ]
  },
  {
   "cell_type": "code",
   "execution_count": 33,
   "metadata": {},
   "outputs": [
    {
     "name": "stderr",
     "output_type": "stream",
     "text": [
      "/home/su530201/.local/share/virtualenvs/GSDMA-tJb-HgI6/lib/python3.8/site-packages/striplog/striplog.py:1505: MatplotlibDeprecationWarning: hatch must consist of a string of \"*+-./OX\\ox|\" or None, but found the following invalid values \"'\". Passing invalid values is deprecated since 3.4 and will become an error two minor releases later.\n",
      "  rect = mpl.patches.Rectangle(origin,\n",
      "/home/su530201/.local/share/virtualenvs/GSDMA-tJb-HgI6/lib/python3.8/site-packages/striplog/legend.py:311: MatplotlibDeprecationWarning: hatch must consist of a string of \"*+-./OX\\ox|\" or None, but found the following invalid values \"'\". Passing invalid values is deprecated since 3.4 and will become an error two minor releases later.\n",
      "  rect1 = patches.Rectangle((0, 0),\n"
     ]
    },
    {
     "data": {
      "image/png": "[encoded data removed]",
      "text/plain": [
       "<Figure size 432x432 with 7 Axes>"
      ]
     },
     "metadata": {
      "needs_background": "light"
     },
     "output_type": "display_data"
    }
   ],
   "source": [
    "p.boreholes_3d[bh].log_plot()"
   ]
  },
  {
   "cell_type": "raw",
   "metadata": {},
   "source": [
    "sargs = dict(title='test', title_font_size=30, label_font_size=12, n_labels=6,\n",
    "             fmt=\"%.2f\", font_family=\"arial\", color='k',interactive=True, \n",
    "             vertical=True, italic=True, shadow=False,\n",
    ")"
   ]
  },
  {
   "cell_type": "code",
   "execution_count": 34,
   "metadata": {
    "scrolled": false
   },
   "outputs": [
    {
     "name": "stdout",
     "output_type": "stream",
     "text": [
      "Colormap computing ...\n",
      "{1.4: 'sable', 2.2: 'argile', 3.0: 'marne', 3.8000000000000003: 'charbon', 4.6: 'dolomie'}\n"
     ]
    },
    {
     "data": {
      "application/vnd.jupyter.widget-view+json": {
       "model_id": "cb5e564dbc8640c1909e665d9bd44f4e",
       "version_major": 2,
       "version_minor": 0
      },
      "text/plain": [
       "ViewInteractiveWidget(height=768, layout=Layout(height='auto', width='100%'), width=1024)"
      ]
     },
     "metadata": {},
     "output_type": "display_data"
    }
   ],
   "source": [
    "bh=1\n",
    "p.boreholes_3d[bh].plot3d(show_legend=False)#, scalar_bar_args=sargs)"
   ]
  },
  {
   "cell_type": "raw",
   "metadata": {},
   "source": [
    "import matplotlib as mpl\n",
    "\n",
    "fig, ax = mpl.pyplot.subplots(figsize=(6, 1))\n",
    "fig.subplots_adjust(bottom=0.5)\n",
    "\n",
    "#colors = ['red', 'green', 'blue', 'cyan']\n",
    "colors = p.cmap.colors\n",
    "cmap = (mpl.colors.ListedColormap(colors).with_extremes(over='0.25', under='0.75'))\n",
    "\n",
    "def fmt(x, pos):\n",
    "    return 'test'\n",
    "\n",
    "#n = len(colors)\n",
    "#bounds = [i for i in range(1,n+2)] #[1, 2, 4, 7, 8]\n",
    "#centers = [(bounds[i]+bounds[i+1])/2 for i in range(n)]\n",
    "norm = mpl.colors.BoundaryNorm(bounds, cmap.N)\n",
    "print(len(colors), centers)\n",
    "fig.colorbar(\n",
    "    mpl.cm.ScalarMappable(cmap=cmap, norm=norm),\n",
    "    cax=ax,\n",
    "    #boundaries=[0] + bounds + [n+2],  # Adding values for extensions.\n",
    "    extend='both',\n",
    "    ticks=centers,#bounds,\n",
    "    #spacing='proportional',\n",
    "    orientation='horizontal',\n",
    "    #label='Discrete intervals, some other units',\n",
    "    format=mpl.ticker.FuncFormatter(fmt)\n",
    ")"
   ]
  },
  {
   "cell_type": "raw",
   "metadata": {},
   "source": [
    "test_in = [1,2,3,4,5,6]\n",
    "test_out = []\n",
    "\n",
    "for i in test_in:\n",
    "    a = len(test_in)\n",
    "    if i < a/2:\n",
    "        test_out.append(i+.5)\n",
    "    elif i > a/2:\n",
    "        test_out.append(i-.5)\n",
    "    else:\n",
    "        test_out.append(i)\n",
    "print(test_out)"
   ]
  },
  {
   "cell_type": "raw",
   "metadata": {},
   "source": [
    "p.boreholes_3d[bh].plot3d(x3d=True)"
   ]
  },
  {
   "cell_type": "markdown",
   "metadata": {},
   "source": [
    "## Plot with another attribute"
   ]
  },
  {
   "cell_type": "code",
   "execution_count": 35,
   "metadata": {},
   "outputs": [
    {
     "data": {
      "image/png": "[encoded data removed]",
      "text/html": [
       "<div style=\"vertical-align: middle;\"><strong>from_list</strong> </div><div class=\"cmap\"><img alt=\"from_list colormap\" title=\"from_list\" style=\"border: 1px solid #555;\" src=\"data:image/png;base64,iVBORw0KGgoAAAANSUhEUgAAAgAAAABACAYAAABsv8+/AAAAGHRFWHRUaXRsZQBmcm9tX2xpc3QgY29sb3JtYXBDL89FAAAAHnRFWHREZXNjcmlwdGlvbgBmcm9tX2xpc3QgY29sb3JtYXABtCnOAAAAMHRFWHRBdXRob3IATWF0cGxvdGxpYiB2My40LjIsIGh0dHBzOi8vbWF0cGxvdGxpYi5vcmes1mPdAAAAMnRFWHRTb2Z0d2FyZQBNYXRwbG90bGliIHYzLjQuMiwgaHR0cHM6Ly9tYXRwbG90bGliLm9yZ4Jw/PoAAAE1SURBVHic7dZBEYBAEANBDpn4Q+fign1Mt4K8UnPmveYi6zzbC9g0Z3sBq8b9l93bAwCA/wkAAAgSAAAQJAAAIEgAAECQAACAIAEAAEECAACCBAAABAkAAAgSAAAQJAAAIEgAAECQAACAIAEAAEECAACCBAAABAkAAAgSAAAQJAAAIEgAAECQAACAIAEAAEECAACCBAAABAkAAAgSAAAQJAAAIEgAAECQAACAIAEAAEECAACCBAAABAkAAAgSAAAQJAAAIEgAAECQAACAIAEAAEECAACCBAAABAkAAAgSAAAQJAAAIEgAAECQAACAIAEAAEECAACCBAAABAkAAAgSAAAQJAAAIEgAAECQAACAIAEAAEECAACCBAAABAkAAAgSAAAQJAAAIEgAAECQAACAIAEAAEEfko8GfNk5rKUAAAAASUVORK5CYII=\"></div><div style=\"vertical-align: middle; max-width: 514px; display: flex; justify-content: space-between;\"><div style=\"float: left;\"><div title=\"#ffa500ff\" style=\"display: inline-block; width: 1em; height: 1em; margin: 0; vertical-align: middle; border: 1px solid #555; background-color: #ffa500ff;\"></div> under</div><div style=\"margin: 0 auto; display: inline-block;\">bad <div title=\"#00000000\" style=\"display: inline-block; width: 1em; height: 1em; margin: 0; vertical-align: middle; border: 1px solid #555; background-color: #00000000;\"></div></div><div style=\"float: right;\">over <div title=\"#ffffffff\" style=\"display: inline-block; width: 1em; height: 1em; margin: 0; vertical-align: middle; border: 1px solid #555; background-color: #ffffffff;\"></div></div>"
      ],
      "text/plain": [
       "<matplotlib.colors.ListedColormap at 0x7ff0567dd760>"
      ]
     },
     "execution_count": 35,
     "metadata": {},
     "output_type": "execute_result"
    }
   ],
   "source": [
    "p.update_legend_cmap(repr_attribute='pollutant')[1] #legend=lithology_memoris, update_legend=False)[0]"
   ]
  },
  {
   "cell_type": "code",
   "execution_count": 36,
   "metadata": {},
   "outputs": [
    {
     "data": {
      "image/png": "[encoded data removed]",
      "text/plain": [
       "<Figure size 432x432 with 5 Axes>"
      ]
     },
     "metadata": {
      "needs_background": "light"
     },
     "output_type": "display_data"
    }
   ],
   "source": [
    "p.boreholes_3d[bh].log_plot(repr_attribute='pollutant', repr_legend=pollutant_memoris)"
   ]
  },
  {
   "cell_type": "code",
   "execution_count": 37,
   "metadata": {},
   "outputs": [
    {
     "name": "stdout",
     "output_type": "stream",
     "text": [
      "Colormap computing ...\n",
      "{1.4: 'vi', 2.2: 'vr', 3.0: 'vs'}\n"
     ]
    },
    {
     "data": {
      "application/vnd.jupyter.widget-view+json": {
       "model_id": "deb1b9a55adc441da7b9d91667f8f10d",
       "version_major": 2,
       "version_minor": 0
      },
      "text/plain": [
       "ViewInteractiveWidget(height=768, layout=Layout(height='auto', width='100%'), width=1024)"
      ]
     },
     "metadata": {},
     "output_type": "display_data"
    }
   ],
   "source": [
    "p.boreholes_3d[bh].plot3d(repr_attribute='pollutant', \n",
    "                          repr_legend=pollutant_memoris, \n",
    "                          show_legend=True)"
   ]
  },
  {
   "cell_type": "code",
   "execution_count": null,
   "metadata": {},
   "outputs": [],
   "source": []
  },
  {
   "cell_type": "markdown",
   "metadata": {},
   "source": [
    "### Display project boreholes"
   ]
  },
  {
   "cell_type": "raw",
   "metadata": {},
   "source": [
    "p.plot3d(repr_attribute='pollutant', labels_size=15, bg_color=[\"royalblue\", \"aliceblue\"], window_size=(1300, 1000))"
   ]
  },
  {
   "cell_type": "markdown",
   "metadata": {},
   "source": [
    "### Boreholes in 3D using X3D for interaction within the notebook"
   ]
  },
  {
   "cell_type": "raw",
   "metadata": {
    "scrolled": false
   },
   "source": [
    "p.plot3d(x3d=True)"
   ]
  },
  {
   "cell_type": "code",
   "execution_count": null,
   "metadata": {},
   "outputs": [],
   "source": []
  }
 ],
 "metadata": {
  "kernelspec": {
   "display_name": "Python 3",
   "language": "python",
   "name": "python3"
  },
  "language_info": {
   "codemirror_mode": {
    "name": "ipython",
    "version": 3
   },
   "file_extension": ".py",
   "mimetype": "text/x-python",
   "name": "python",
   "nbconvert_exporter": "python",
   "pygments_lexer": "ipython3",
   "version": "3.8.5"
  }
 },
 "nbformat": 4,
 "nbformat_minor": 4
}
