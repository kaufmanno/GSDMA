{
 "cells": [
  {
   "cell_type": "markdown",
   "metadata": {},
   "source": [
    "# Implementation to consider sample intervals"
   ]
  },
  {
   "cell_type": "markdown",
   "metadata": {},
   "source": [
    "## Imports"
   ]
  },
  {
   "cell_type": "code",
   "execution_count": 1,
   "metadata": {},
   "outputs": [],
   "source": [
    "from striplog import Component, Decor, Legend, Lexicon, Striplog\n",
    "from core.visual import Borehole3D, striplog_legend_to_omf_legend \n",
    "from utils.lexicon.lexicon_memoris import LEG_CONTAMINATION_LEV\n",
    "from utils.config import DEFAULT_LITHO_LEXICON, DEFAULT_LITHO_LEGEND, DEFAULT_POL_LEXICON\n",
    "from utils.io import dataframe_viewer, dict_viewer\n",
    "from utils.orm import boreholes_from_dataframe\n",
    "from utils.visual import legend_from_attributes\n",
    "from core.project import Project\n",
    "from core.orm import BoreholeOrm, PositionOrm, Base \n",
    "\n",
    "import matplotlib.pyplot as plt\n",
    "import os\n",
    "import pandas as pd\n",
    "import numpy as np\n",
    "from sqlalchemy import create_engine\n",
    "from sqlalchemy.orm import sessionmaker\n",
    "from definitions import ROOT_DIR"
   ]
  },
  {
   "cell_type": "markdown",
   "metadata": {},
   "source": [
    "## Reading of CSV files in a dir"
   ]
  },
  {
   "cell_type": "code",
   "execution_count": 2,
   "metadata": {},
   "outputs": [],
   "source": [
    "df = pd.read_csv('real_data_subset_for_test.csv', sep=',')"
   ]
  },
  {
   "cell_type": "code",
   "execution_count": 3,
   "metadata": {
    "scrolled": false
   },
   "outputs": [
    {
     "name": "stdout",
     "output_type": "stream",
     "text": [
      "Rows : 112, columns : 19, Unique values on col 'ID': 46\n"
     ]
    },
    {
     "data": {
      "application/vnd.jupyter.widget-view+json": {
       "model_id": "21b947c7371b454a9808de5304a0d979",
       "version_major": 2,
       "version_minor": 0
      },
      "text/plain": [
       "interactive(children=(IntSlider(value=5, description='rows', max=112, min=5, readout=False), IntSlider(value=1…"
      ]
     },
     "metadata": {},
     "output_type": "display_data"
    }
   ],
   "source": [
    "dataframe_viewer(df, rows=5, un_val='ID')"
   ]
  },
  {
   "cell_type": "raw",
   "metadata": {},
   "source": [
    "id_list = ['302','205','207','214']\n",
    "#df = df.query('ID in @id_list')\n",
    "#df.reset_index(drop=True, inplace=True)\n",
    "dataframe_viewer(df.query('ID in @id_list'), rows=5)"
   ]
  },
  {
   "cell_type": "code",
   "execution_count": 4,
   "metadata": {},
   "outputs": [
    {
     "name": "stderr",
     "output_type": "stream",
     "text": [
      "/home/yanathan/.local/share/virtualenvs/GSDMA-DRfwm83x/lib/python3.8/site-packages/pandas/core/frame.py:5034: SettingWithCopyWarning: \n",
      "A value is trying to be set on a copy of a slice from a DataFrame\n",
      "\n",
      "See the caveats in the documentation: https://pandas.pydata.org/pandas-docs/stable/user_guide/indexing.html#returning-a-view-versus-a-copy\n",
      "  return super().rename(\n"
     ]
    }
   ],
   "source": [
    "df_litho = df[['ID', 'X', 'Y', 'Z', 'Long_for', 'Litho_top', 'Litho_base', 'Epais_intv', 'Lithology']]\n",
    "df_litho.rename(columns={'Lithology':'Description'}, inplace=True)\n",
    "\n",
    "df_ech = df[['ID', 'X', 'Y', 'Z', 'Long_for', 'ID_ech', 'Type_ech', 'Top_intv', 'Base_intv', \n",
    "             'Epais_intv', 'Bnz', 'Toln', 'Pb', 'As', 'Cu', 'Ni']]\n",
    "df_ech.rename(columns={'Top_intv':'Ech_top', 'Base_intv':'Ech_base'}, inplace=True)"
   ]
  },
  {
   "cell_type": "code",
   "execution_count": 5,
   "metadata": {
    "scrolled": true
   },
   "outputs": [
    {
     "name": "stdout",
     "output_type": "stream",
     "text": [
      "13: Bnz\n",
      "14: Toln\n",
      "15: Pb\n",
      "16: As\n",
      "17: Cu\n",
      "18: Ni\n"
     ]
    }
   ],
   "source": [
    "pollutants = []\n",
    "for i, c in enumerate(df.columns):\n",
    "    if c in DEFAULT_POL_LEXICON.abbreviations.keys() or c in DEFAULT_POL_LEXICON.abbreviations.values():\n",
    "        print(f\"{i}: {c}\")\n",
    "        pollutants.append(c)"
   ]
  },
  {
   "cell_type": "code",
   "execution_count": 6,
   "metadata": {},
   "outputs": [
    {
     "name": "stdout",
     "output_type": "stream",
     "text": [
      "Rows : 2, columns : 9\n"
     ]
    },
    {
     "data": {
      "application/vnd.jupyter.widget-view+json": {
       "model_id": "d32052c790dc41139a34602bd7b00109",
       "version_major": 2,
       "version_minor": 0
      },
      "text/plain": [
       "interactive(children=(IntSlider(value=2, description='rows', max=2, min=2, readout=False), IntSlider(value=9, …"
      ]
     },
     "metadata": {},
     "output_type": "display_data"
    },
    {
     "name": "stdout",
     "output_type": "stream",
     "text": [
      "Rows : 2, columns : 16\n"
     ]
    },
    {
     "data": {
      "application/vnd.jupyter.widget-view+json": {
       "model_id": "fca5f88bbe1949c3957f2d70f2242c17",
       "version_major": 2,
       "version_minor": 0
      },
      "text/plain": [
       "interactive(children=(IntSlider(value=2, description='rows', max=2, min=2, readout=False), IntSlider(value=16,…"
      ]
     },
     "metadata": {},
     "output_type": "display_data"
    },
    {
     "data": {
      "text/plain": [
       "(None, None)"
      ]
     },
     "execution_count": 6,
     "metadata": {},
     "output_type": "execute_result"
    }
   ],
   "source": [
    "bh_id='201'\n",
    "dataframe_viewer(df_litho.query(f\"ID=='{bh_id}'\"), rows=3, cols=16), dataframe_viewer(df_ech.query(f\"ID=='{bh_id}'\"), rows=3, cols=16)"
   ]
  },
  {
   "cell_type": "code",
   "execution_count": 7,
   "metadata": {},
   "outputs": [
    {
     "name": "stderr",
     "output_type": "stream",
     "text": [
      "/home/yanathan/.local/share/virtualenvs/GSDMA-DRfwm83x/lib/python3.8/site-packages/pandas/core/frame.py:3607: SettingWithCopyWarning: \n",
      "A value is trying to be set on a copy of a slice from a DataFrame.\n",
      "Try using .loc[row_indexer,col_indexer] = value instead\n",
      "\n",
      "See the caveats in the documentation: https://pandas.pydata.org/pandas-docs/stable/user_guide/indexing.html#returning-a-view-versus-a-copy\n",
      "  self._set_item(key, value)\n",
      "/home/yanathan/.local/share/virtualenvs/GSDMA-DRfwm83x/lib/python3.8/site-packages/pandas/core/indexing.py:1773: SettingWithCopyWarning: \n",
      "A value is trying to be set on a copy of a slice from a DataFrame.\n",
      "Try using .loc[row_indexer,col_indexer] = value instead\n",
      "\n",
      "See the caveats in the documentation: https://pandas.pydata.org/pandas-docs/stable/user_guide/indexing.html#returning-a-view-versus-a-copy\n",
      "  self._setitem_single_column(ilocs[0], value, pi)\n"
     ]
    }
   ],
   "source": [
    "# adds a description in sample (TEST)\n",
    "df_ech['Description'] = np.nan\n",
    "df_ech.loc[:1, 'Description'] = ['Sable', 'Limon']"
   ]
  },
  {
   "cell_type": "markdown",
   "metadata": {},
   "source": [
    "## Create Boreholes from dataframes"
   ]
  },
  {
   "cell_type": "code",
   "execution_count": 8,
   "metadata": {},
   "outputs": [],
   "source": [
    "data_dict = {'lithologies_data': df_litho, 'pollutants_data': df_ech}"
   ]
  },
  {
   "cell_type": "code",
   "execution_count": 9,
   "metadata": {
    "scrolled": true
   },
   "outputs": [
    {
     "name": "stdout",
     "output_type": "stream",
     "text": [
      "\n",
      "Data Processing...\n",
      "================================\n",
      "\u001b[1;34mWarning : -- No borehole diameter column found or check given column's name.\n",
      "To continue, default diameter column has been created with value: 0.1 [m]\u001b[0;0m\n",
      "\n",
      "\u001b[0;40;47m BH_ID: '201'\u001b[0;0;0m\n",
      "0- Interval top=0.6, base=1.2, type=lithology\n",
      " - Interval components: [Component({'lithology': 'remblais'})]\n",
      "\n",
      "1- Interval top=0.6, base=1.2, type=lithology\n",
      " - Interval components: [Component({'lithology': 'remblais'})]\n",
      "\n",
      "2- Interval top=0.7, base=1.2, type=sample\n",
      " - Interval components: [Component({'lithology': 'sable'}), Component({'benzène': 'vs'}), Component({'toluène': 'vr'}), Component({'plomb': 'vr'}), Component({'arsenic': 'inconnu'}), Component({'cuivre': 'vr'}), Component({'nickel': 'vr'})]\n",
      "\n",
      "3- Interval top=2.0, base=2.4, type=sample\n",
      " - Interval components: [Component({'lithology': 'limon'}), Component({'benzène': 'vr'}), Component({'toluène': 'inconnu'}), Component({'plomb': 'vs'}), Component({'arsenic': 'vr'}), Component({'cuivre': 'vr'}), Component({'nickel': 'vr'})]\n",
      "\n",
      "\u001b[1;40;47m Summary : {'201': Striplog(4 Intervals, start=0.6, stop=2.4)}\u001b[0;0;0m\n",
      "\n",
      "\u001b[0;40;47m BH_ID: '205'\u001b[0;0;0m"
     ]
    },
    {
     "name": "stderr",
     "output_type": "stream",
     "text": [
      "/home/yanathan/Projects/GSDMA/utils/orm.py:174: SAWarning: relationship 'ComponentOrm.intervals' will copy column Components.id to column Linkintervalcomponent.comp_id, which conflicts with relationship(s): 'IntervalOrm.components' (copies Components.id to Linkintervalcomponent.comp_id). If this is not the intention, consider if these relationships should be linked with back_populates, or if viewonly=True should be applied to one or more if they are read-only. For the less common case that foreign key constraints are partially overlapping, the orm.foreign() annotation can be used to isolate the columns that should be written towards.   To silence this warning, add the parameter 'overlaps=\"components\"' to the 'ComponentOrm.intervals' relationship.\n",
      "  boreholes_orm.append(BoreholeOrm(id=bh_name, date=bh_date))\n",
      "/home/yanathan/Projects/GSDMA/utils/orm.py:174: SAWarning: relationship 'ComponentOrm.intervals' will copy column Intervals.id to column Linkintervalcomponent.intv_id, which conflicts with relationship(s): 'IntervalOrm.components' (copies Intervals.id to Linkintervalcomponent.intv_id). If this is not the intention, consider if these relationships should be linked with back_populates, or if viewonly=True should be applied to one or more if they are read-only. For the less common case that foreign key constraints are partially overlapping, the orm.foreign() annotation can be used to isolate the columns that should be written towards.   To silence this warning, add the parameter 'overlaps=\"components\"' to the 'ComponentOrm.intervals' relationship.\n",
      "  boreholes_orm.append(BoreholeOrm(id=bh_name, date=bh_date))\n",
      "/home/yanathan/Projects/GSDMA/utils/orm.py:174: SAWarning: relationship 'ComponentOrm.component_assoc' will copy column Components.id to column Linkintervalcomponent.comp_id, which conflicts with relationship(s): 'ComponentOrm.intervals' (copies Components.id to Linkintervalcomponent.comp_id), 'IntervalOrm.components' (copies Components.id to Linkintervalcomponent.comp_id). If this is not the intention, consider if these relationships should be linked with back_populates, or if viewonly=True should be applied to one or more if they are read-only. For the less common case that foreign key constraints are partially overlapping, the orm.foreign() annotation can be used to isolate the columns that should be written towards.   To silence this warning, add the parameter 'overlaps=\"components,intervals\"' to the 'ComponentOrm.component_assoc' relationship.\n",
      "  boreholes_orm.append(BoreholeOrm(id=bh_name, date=bh_date))\n",
      "/home/yanathan/Projects/GSDMA/utils/orm.py:174: SAWarning: relationship 'LinkIntervalComponentOrm.component' will copy column Components.id to column Linkintervalcomponent.comp_id, which conflicts with relationship(s): 'ComponentOrm.intervals' (copies Components.id to Linkintervalcomponent.comp_id), 'IntervalOrm.components' (copies Components.id to Linkintervalcomponent.comp_id). If this is not the intention, consider if these relationships should be linked with back_populates, or if viewonly=True should be applied to one or more if they are read-only. For the less common case that foreign key constraints are partially overlapping, the orm.foreign() annotation can be used to isolate the columns that should be written towards.   To silence this warning, add the parameter 'overlaps=\"components,intervals\"' to the 'LinkIntervalComponentOrm.component' relationship.\n",
      "  boreholes_orm.append(BoreholeOrm(id=bh_name, date=bh_date))\n",
      "/home/yanathan/Projects/GSDMA/utils/orm.py:174: SAWarning: relationship 'IntervalOrm.interval_assoc_2' will copy column Intervals.id to column Linkintervalcomponent.intv_id, which conflicts with relationship(s): 'ComponentOrm.intervals' (copies Intervals.id to Linkintervalcomponent.intv_id), 'IntervalOrm.components' (copies Intervals.id to Linkintervalcomponent.intv_id). If this is not the intention, consider if these relationships should be linked with back_populates, or if viewonly=True should be applied to one or more if they are read-only. For the less common case that foreign key constraints are partially overlapping, the orm.foreign() annotation can be used to isolate the columns that should be written towards.   To silence this warning, add the parameter 'overlaps=\"components,intervals\"' to the 'IntervalOrm.interval_assoc_2' relationship.\n",
      "  boreholes_orm.append(BoreholeOrm(id=bh_name, date=bh_date))\n",
      "/home/yanathan/Projects/GSDMA/utils/orm.py:174: SAWarning: relationship 'LinkIntervalComponentOrm.interval' will copy column Intervals.id to column Linkintervalcomponent.intv_id, which conflicts with relationship(s): 'ComponentOrm.intervals' (copies Intervals.id to Linkintervalcomponent.intv_id), 'IntervalOrm.components' (copies Intervals.id to Linkintervalcomponent.intv_id). If this is not the intention, consider if these relationships should be linked with back_populates, or if viewonly=True should be applied to one or more if they are read-only. For the less common case that foreign key constraints are partially overlapping, the orm.foreign() annotation can be used to isolate the columns that should be written towards.   To silence this warning, add the parameter 'overlaps=\"components,intervals\"' to the 'LinkIntervalComponentOrm.interval' relationship.\n",
      "  boreholes_orm.append(BoreholeOrm(id=bh_name, date=bh_date))\n",
      "/home/yanathan/Projects/GSDMA/utils/orm.py:174: SAWarning: relationship 'ComponentOrm.component_assoc_2' will copy column Components.id to column Linksamplecomponent.comp_id, which conflicts with relationship(s): 'SampleOrm.components' (copies Components.id to Linksamplecomponent.comp_id). If this is not the intention, consider if these relationships should be linked with back_populates, or if viewonly=True should be applied to one or more if they are read-only. For the less common case that foreign key constraints are partially overlapping, the orm.foreign() annotation can be used to isolate the columns that should be written towards.   To silence this warning, add the parameter 'overlaps=\"components\"' to the 'ComponentOrm.component_assoc_2' relationship.\n",
      "  boreholes_orm.append(BoreholeOrm(id=bh_name, date=bh_date))\n",
      "/home/yanathan/Projects/GSDMA/utils/orm.py:174: SAWarning: relationship 'LinkSampleComponentOrm.component' will copy column Components.id to column Linksamplecomponent.comp_id, which conflicts with relationship(s): 'SampleOrm.components' (copies Components.id to Linksamplecomponent.comp_id). If this is not the intention, consider if these relationships should be linked with back_populates, or if viewonly=True should be applied to one or more if they are read-only. For the less common case that foreign key constraints are partially overlapping, the orm.foreign() annotation can be used to isolate the columns that should be written towards.   To silence this warning, add the parameter 'overlaps=\"components\"' to the 'LinkSampleComponentOrm.component' relationship.\n",
      "  boreholes_orm.append(BoreholeOrm(id=bh_name, date=bh_date))\n",
      "/home/yanathan/Projects/GSDMA/utils/orm.py:174: SAWarning: relationship 'SampleOrm.sample_assoc_2' will copy column Samples.id to column Linksamplecomponent.samp_id, which conflicts with relationship(s): 'SampleOrm.components' (copies Samples.id to Linksamplecomponent.samp_id). If this is not the intention, consider if these relationships should be linked with back_populates, or if viewonly=True should be applied to one or more if they are read-only. For the less common case that foreign key constraints are partially overlapping, the orm.foreign() annotation can be used to isolate the columns that should be written towards.   To silence this warning, add the parameter 'overlaps=\"components\"' to the 'SampleOrm.sample_assoc_2' relationship.\n",
      "  boreholes_orm.append(BoreholeOrm(id=bh_name, date=bh_date))\n",
      "/home/yanathan/Projects/GSDMA/utils/orm.py:174: SAWarning: relationship 'LinkSampleComponentOrm.interval' will copy column Samples.id to column Linksamplecomponent.samp_id, which conflicts with relationship(s): 'SampleOrm.components' (copies Samples.id to Linksamplecomponent.samp_id). If this is not the intention, consider if these relationships should be linked with back_populates, or if viewonly=True should be applied to one or more if they are read-only. For the less common case that foreign key constraints are partially overlapping, the orm.foreign() annotation can be used to isolate the columns that should be written towards.   To silence this warning, add the parameter 'overlaps=\"components\"' to the 'LinkSampleComponentOrm.interval' relationship.\n",
      "  boreholes_orm.append(BoreholeOrm(id=bh_name, date=bh_date))\n"
     ]
    },
    {
     "name": "stdout",
     "output_type": "stream",
     "text": [
      "\n",
      "0- Interval top=0.0, base=0.2, type=lithology\n",
      " - Interval components: [Component({'lithology': 'boue'})]\n",
      "\n",
      "1- Interval top=0.0, base=0.2, type=lithology\n",
      " - Interval components: [Component({'lithology': 'boue'})]\n",
      "\n",
      "2- Interval top=0.0, base=0.2, type=lithology\n",
      " - Interval components: [Component({'lithology': 'boue'})]\n",
      "\n",
      "3- Interval top=0.0, base=0.2, type=lithology\n",
      " - Interval components: [Component({'lithology': 'boue'})]\n",
      "\n",
      "4- Interval top=0.2, base=0.6, type=sample\n",
      " - Interval components: [Component({'benzène': 'vs'}), Component({'toluène': 'vr'}), Component({'plomb': 'vr'}), Component({'arsenic': 'vr'}), Component({'cuivre': 'vr'}), Component({'nickel': 'vs'})]\n",
      "\n",
      "5- Interval top=1.9, base=2.4, type=sample\n",
      " - Interval components: [Component({'benzène': 'vi'}), Component({'toluène': 'vr'}), Component({'plomb': 'vs'}), Component({'arsenic': 'vr'}), Component({'cuivre': 'vr'}), Component({'nickel': 'vr'})]\n",
      "\n",
      "6- Interval top=3.0, base=3.2, type=sample\n",
      " - Interval components: [Component({'benzène': 'vi'}), Component({'toluène': 'vr'}), Component({'plomb': 'vr'}), Component({'arsenic': 'inconnu'}), Component({'cuivre': 'inconnu'}), Component({'nickel': 'inconnu'})]\n",
      "\n",
      "7- Interval top=3.2, base=3.6, type=sample\n",
      " - Interval components: [Component({'benzène': 'vi'}), Component({'toluène': 'inconnu'}), Component({'plomb': 'inconnu'}), Component({'arsenic': 'inconnu'}), Component({'cuivre': 'inconnu'}), Component({'nickel': 'inconnu'})]\n",
      "\n",
      "\u001b[1;40;47m Summary : {'205': Striplog(8 Intervals, start=0.0, stop=3.6)}\u001b[0;0;0m\n",
      "\n",
      "\u001b[0;40;47m BH_ID: '208'\u001b[0;0;0m\n",
      "0- Interval top=0.0, base=1.2, type=lithology\n",
      " - Interval components: [Component({'lithology': 'remblais'})]\n",
      "\n",
      "1- Interval top=0.0, base=1.2, type=lithology\n",
      " - Interval components: [Component({'lithology': 'remblais'})]\n",
      "\n",
      "2- Interval top=0.0, base=1.2, type=lithology\n",
      " - Interval components: [Component({'lithology': 'remblais'})]\n",
      "\n",
      "3- Interval top=0.0, base=1.2, type=lithology\n",
      " - Interval components: [Component({'lithology': 'remblais'})]\n",
      "\n",
      "4- Interval top=0.2, base=0.7, type=sample\n",
      " - Interval components: [Component({'benzène': 'vi'}), Component({'toluène': 'vr'}), Component({'plomb': 'vr'}), Component({'arsenic': 'vs'}), Component({'cuivre': 'vr'}), Component({'nickel': 'vr'})]\n",
      "\n",
      "5- Interval top=2.1, base=2.4, type=sample\n",
      " - Interval components: [Component({'benzène': 'vi'}), Component({'toluène': 'vr'}), Component({'plomb': 'vr'}), Component({'arsenic': 'vr'}), Component({'cuivre': 'vr'}), Component({'nickel': 'vr'})]\n",
      "\n",
      "6- Interval top=3.0, base=3.4, type=sample\n",
      " - Interval components: [Component({'benzène': 'vs'}), Component({'toluène': 'inconnu'}), Component({'plomb': 'vr'}), Component({'arsenic': 'vr'}), Component({'cuivre': 'vr'}), Component({'nickel': 'vr'})]\n",
      "\n",
      "7- Interval top=4.4, base=4.7, type=sample\n",
      " - Interval components: [Component({'benzène': 'vs'}), Component({'toluène': 'inconnu'}), Component({'plomb': 'inconnu'}), Component({'arsenic': 'vr'}), Component({'cuivre': 'inconnu'}), Component({'nickel': 'vr'})]\n",
      "\n",
      "\u001b[1;40;47m Summary : {'208': Striplog(8 Intervals, start=0.0, stop=4.7)}\u001b[0;0;0m\n",
      "\n",
      "\u001b[0;40;47m BH_ID: '207'\u001b[0;0;0m\n",
      "0- Interval top=0.0, base=0.6, type=lithology\n",
      " - Interval components: [Component({'lithology': 'remblais'})]\n",
      "\n",
      "1- Interval top=0.0, base=0.6, type=lithology\n",
      " - Interval components: [Component({'lithology': 'remblais'})]\n",
      "\n",
      "2- Interval top=0.0, base=0.6, type=lithology\n",
      " - Interval components: [Component({'lithology': 'remblais'})]\n",
      "\n",
      "3- Interval top=0.0, base=0.6, type=lithology\n",
      " - Interval components: [Component({'lithology': 'remblais'})]\n",
      "\n",
      "4- Interval top=0.0, base=0.6, type=lithology\n",
      " - Interval components: [Component({'lithology': 'remblais'})]\n",
      "\n",
      "5- Interval top=0.1, base=0.5, type=sample\n",
      " - Interval components: [Component({'benzène': 'vs'}), Component({'toluène': 'vr'}), Component({'plomb': 'vs'}), Component({'arsenic': 'vr'}), Component({'cuivre': 'vr'}), Component({'nickel': 'vr'})]\n",
      "\n",
      "6- Interval top=0.6, base=1.0, type=sample\n",
      " - Interval components: [Component({'benzène': 'vs'}), Component({'toluène': 'vr'}), Component({'plomb': 'vr'}), Component({'arsenic': 'vr'}), Component({'cuivre': 'vr'}), Component({'nickel': 'vr'})]\n",
      "\n",
      "7- Interval top=1.8, base=2.2, type=sample\n",
      " - Interval components: [Component({'benzène': 'vi'}), Component({'toluène': 'vr'}), Component({'plomb': 'vi'}), Component({'arsenic': 'inconnu'}), Component({'cuivre': 'vr'}), Component({'nickel': 'vr'})]\n",
      "\n",
      "8- Interval top=3.4, base=3.6, type=sample\n",
      " - Interval components: [Component({'benzène': 'vi'}), Component({'toluène': 'vs'}), Component({'plomb': 'vr'}), Component({'arsenic': 'inconnu'}), Component({'cuivre': 'vr'}), Component({'nickel': 'inconnu'})]\n",
      "\n",
      "9- Interval top=4.3, base=4.7, type=sample\n",
      " - Interval components: [Component({'benzène': 'vi'}), Component({'toluène': 'vs'}), Component({'plomb': 'inconnu'}), Component({'arsenic': 'inconnu'}), Component({'cuivre': 'inconnu'}), Component({'nickel': 'vr'})]\n",
      "\n",
      "\u001b[1;40;47m Summary : {'207': Striplog(10 Intervals, start=0.0, stop=4.7)}\u001b[0;0;0m\n",
      "\n",
      "\u001b[0;40;47m BH_ID: '212'\u001b[0;0;0m\n",
      "0- Interval top=0.0, base=1.2, type=lithology\n",
      " - Interval components: [Component({'lithology': 'remblais'})]\n",
      "\n",
      "1- Interval top=0.0, base=1.2, type=lithology\n",
      " - Interval components: [Component({'lithology': 'remblais'})]\n",
      "\n",
      "2- Interval top=0.0, base=1.2, type=lithology\n",
      " - Interval components: [Component({'lithology': 'remblais'})]\n",
      "\n",
      "3- Interval top=0.0, base=1.2, type=lithology\n",
      " - Interval components: [Component({'lithology': 'remblais'})]\n",
      "\n",
      "4- Interval top=0.0, base=0.5, type=sample\n",
      " - Interval components: [Component({'benzène': 'vs'}), Component({'toluène': 'inconnu'}), Component({'plomb': 'vr'}), Component({'arsenic': 'vs'}), Component({'cuivre': 'vr'}), Component({'nickel': 'vr'})]\n",
      "\n",
      "5- Interval top=0.8, base=1.2, type=sample\n",
      " - Interval components: [Component({'benzène': 'vs'}), Component({'toluène': 'vr'}), Component({'plomb': 'vr'}), Component({'arsenic': 'vr'}), Component({'cuivre': 'vr'}), Component({'nickel': 'vr'})]\n",
      "\n",
      "6- Interval top=3.2, base=3.4, type=sample\n",
      " - Interval components: [Component({'benzène': 'vi'}), Component({'toluène': 'inconnu'}), Component({'plomb': 'vr'}), Component({'arsenic': 'inconnu'}), Component({'cuivre': 'inconnu'}), Component({'nickel': 'inconnu'})]\n",
      "\n",
      "7- Interval top=4.4, base=4.8, type=sample\n",
      " - Interval components: [Component({'benzène': 'inconnu'}), Component({'toluène': 'inconnu'}), Component({'plomb': 'inconnu'}), Component({'arsenic': 'vr'}), Component({'cuivre': 'vr'}), Component({'nickel': 'vr'})]\n",
      "\n",
      "\u001b[1;40;47m Summary : {'212': Striplog(8 Intervals, start=0.0, stop=4.8)}\u001b[0;0;0m\n",
      "\n",
      "\u001b[0;40;47m BH_ID: '214'\u001b[0;0;0m\n",
      "0- Interval top=0.0, base=0.6, type=lithology\n",
      " - Interval components: [Component({'lithology': 'remblais'})]\n",
      "\n",
      "1- Interval top=0.0, base=0.6, type=lithology\n",
      " - Interval components: [Component({'lithology': 'remblais'})]\n",
      "\n",
      "2- Interval top=0.0, base=0.6, type=lithology\n",
      " - Interval components: [Component({'lithology': 'remblais'})]\n",
      "\n",
      "3- Interval top=0.0, base=0.6, type=lithology\n",
      " - Interval components: [Component({'lithology': 'remblais'})]\n",
      "\n",
      "4- Interval top=0.6, base=1.0, type=sample\n",
      " - Interval components: [Component({'benzène': 'vi'}), Component({'toluène': 'vr'}), Component({'plomb': 'vr'}), Component({'arsenic': 'vr'}), Component({'cuivre': 'vr'}), Component({'nickel': 'vr'})]\n",
      "\n",
      "5- Interval top=1.7, base=2.1, type=sample\n",
      " - Interval components: [Component({'benzène': 'vi'}), Component({'toluène': 'vr'}), Component({'plomb': 'vr'}), Component({'arsenic': 'vr'}), Component({'cuivre': 'vr'}), Component({'nickel': 'vr'})]\n",
      "\n",
      "6- Interval top=3.1, base=3.6, type=sample\n",
      " - Interval components: [Component({'benzène': 'vi'}), Component({'toluène': 'vr'}), Component({'plomb': 'vr'}), Component({'arsenic': 'vr'}), Component({'cuivre': 'vr'}), Component({'nickel': 'vr'})]\n",
      "\n",
      "7- Interval top=4.4, base=4.8, type=sample\n",
      " - Interval components: [Component({'benzène': 'inconnu'}), Component({'toluène': 'inconnu'}), Component({'plomb': 'inconnu'}), Component({'arsenic': 'vr'}), Component({'cuivre': 'inconnu'}), Component({'nickel': 'vr'})]\n",
      "\n",
      "\u001b[1;40;47m Summary : {'214': Striplog(8 Intervals, start=0.0, stop=4.8)}\u001b[0;0;0m\n",
      "\n",
      "\u001b[0;40;47m BH_ID: '217'\u001b[0;0;0m\n",
      "0- Interval top=0.0, base=1.2, type=lithology\n",
      " - Interval components: [Component({'lithology': 'remblais'})]\n",
      "\n",
      "1- Interval top=0.0, base=1.2, type=lithology\n",
      " - Interval components: [Component({'lithology': 'remblais'})]\n",
      "\n",
      "2- Interval top=0.0, base=1.2, type=lithology\n",
      " - Interval components: [Component({'lithology': 'remblais'})]\n",
      "\n",
      "3- Interval top=0.0, base=1.2, type=lithology\n",
      " - Interval components: [Component({'lithology': 'remblais'})]\n",
      "\n",
      "4- Interval top=0.0, base=0.5, type=sample\n",
      " - Interval components: [Component({'benzène': 'vi'}), Component({'toluène': 'vr'}), Component({'plomb': 'vr'}), Component({'arsenic': 'vr'}), Component({'cuivre': 'vr'}), Component({'nickel': 'vr'})]\n",
      "\n",
      "5- Interval top=0.6, base=1.0, type=sample\n",
      " - Interval components: [Component({'benzène': 'vi'}), Component({'toluène': 'vr'}), Component({'plomb': 'vr'}), Component({'arsenic': 'vs'}), Component({'cuivre': 'vr'}), Component({'nickel': 'vr'})]\n"
     ]
    },
    {
     "name": "stdout",
     "output_type": "stream",
     "text": [
      "\n",
      "6- Interval top=3.4, base=3.6, type=sample\n",
      " - Interval components: [Component({'benzène': 'vs'}), Component({'toluène': 'inconnu'}), Component({'plomb': 'vr'}), Component({'arsenic': 'inconnu'}), Component({'cuivre': 'inconnu'}), Component({'nickel': 'inconnu'})]\n",
      "\n",
      "7- Interval top=4.3, base=4.7, type=sample\n",
      " - Interval components: [Component({'benzène': 'inconnu'}), Component({'toluène': 'inconnu'}), Component({'plomb': 'inconnu'}), Component({'arsenic': 'inconnu'}), Component({'cuivre': 'inconnu'}), Component({'nickel': 'vr'})]\n",
      "\n",
      "\u001b[1;40;47m Summary : {'217': Striplog(8 Intervals, start=0.0, stop=4.7)}\u001b[0;0;0m\n",
      "\n",
      "\u001b[0;40;47m BH_ID: '221'\u001b[0;0;0m\n",
      "\u001b[1;31m\n",
      "WARNING : No value matches with 'Vide ' in given lexicon !\u001b[0;0m\n",
      "0- Interval top=0.0, base=0.5, type=lithology\n",
      " - Interval components: []\n",
      "\n",
      "1- Interval top=0.6, base=1.0, type=sample\n",
      " - Interval components: [Component({'benzène': 'vi'}), Component({'toluène': 'vr'}), Component({'plomb': 'vr'}), Component({'arsenic': 'vr'}), Component({'cuivre': 'vr'}), Component({'nickel': 'vr'})]\n",
      "\n",
      "\u001b[1;40;47m Summary : {'221': Striplog(2 Intervals, start=0.0, stop=1.0)}\u001b[0;0;0m\n",
      "\n",
      "\u001b[0;40;47m BH_ID: '223'\u001b[0;0;0m\n",
      "0- Interval top=0.0, base=1.3, type=lithology\n",
      " - Interval components: [Component({'lithology': 'remblais'})]\n",
      "\n",
      "1- Interval top=0.0, base=1.3, type=lithology\n",
      " - Interval components: [Component({'lithology': 'remblais'})]\n",
      "\n",
      "2- Interval top=0.0, base=0.5, type=sample\n",
      " - Interval components: [Component({'benzène': 'vs'}), Component({'toluène': 'vr'}), Component({'plomb': 'vr'}), Component({'arsenic': 'vr'}), Component({'cuivre': 'vr'}), Component({'nickel': 'vr'})]\n",
      "\n",
      "3- Interval top=0.8, base=1.1, type=sample\n",
      " - Interval components: [Component({'benzène': 'vs'}), Component({'toluène': 'vr'}), Component({'plomb': 'vr'}), Component({'arsenic': 'vr'}), Component({'cuivre': 'vr'}), Component({'nickel': 'vr'})]\n",
      "\n",
      "\u001b[1;40;47m Summary : {'223': Striplog(4 Intervals, start=0.0, stop=1.3)}\u001b[0;0;0m\n",
      "\n",
      "\u001b[0;40;47m BH_ID: '?2'\u001b[0;0;0m\n",
      "0- Interval top=0.0, base=1.2, type=lithology\n",
      " - Interval components: [Component({'lithology': 'remblais'})]\n",
      "\n",
      "1- Interval top=0.8, base=1.2, type=sample\n",
      " - Interval components: [Component({'benzène': 'inconnu'}), Component({'toluène': 'inconnu'}), Component({'plomb': 'vr'}), Component({'arsenic': 'inconnu'}), Component({'cuivre': 'inconnu'}), Component({'nickel': 'inconnu'})]\n",
      "\n",
      "\u001b[1;40;47m Summary : {'?2': Striplog(2 Intervals, start=0.0, stop=1.2)}\u001b[0;0;0m\n",
      "\n",
      "\u001b[0;40;47m BH_ID: '?1'\u001b[0;0;0m\n",
      "0- Interval top=0.0, base=1.2, type=lithology\n",
      " - Interval components: [Component({'lithology': 'remblais'})]\n",
      "\n",
      "1- Interval top=2.0, base=2.4, type=sample\n",
      " - Interval components: [Component({'benzène': 'vs'}), Component({'toluène': 'inconnu'}), Component({'plomb': 'vr'}), Component({'arsenic': 'vr'}), Component({'cuivre': 'vr'}), Component({'nickel': 'inconnu'})]\n",
      "\n",
      "\u001b[1;40;47m Summary : {'?1': Striplog(2 Intervals, start=0.0, stop=2.4)}\u001b[0;0;0m\n",
      "\n",
      "\u001b[0;40;47m BH_ID: '224'\u001b[0;0;0m\n",
      "0- Interval top=0.0, base=0.5, type=lithology\n",
      " - Interval components: [Component({'lithology': 'remblais'})]\n",
      "\n",
      "1- Interval top=0.0, base=0.5, type=sample\n",
      " - Interval components: [Component({'benzène': 'inconnu'}), Component({'toluène': 'inconnu'}), Component({'plomb': 'vr'}), Component({'arsenic': 'vs'}), Component({'cuivre': 'vr'}), Component({'nickel': 'vr'})]\n",
      "\n",
      "\u001b[1;40;47m Summary : {'224': Striplog(2 Intervals, start=0.0, stop=0.5)}\u001b[0;0;0m\n",
      "\n",
      "\u001b[0;40;47m BH_ID: '225'\u001b[0;0;0m\n",
      "0- Interval top=0.0, base=0.5, type=lithology\n",
      " - Interval components: [Component({'lithology': 'schistes'})]\n",
      "\n",
      "1- Interval top=0.0, base=0.5, type=lithology\n",
      " - Interval components: [Component({'lithology': 'schistes'})]\n",
      "\n",
      "2- Interval top=0.0, base=0.5, type=lithology\n",
      " - Interval components: [Component({'lithology': 'schistes'})]\n",
      "\n",
      "3- Interval top=0.0, base=0.5, type=lithology\n",
      " - Interval components: [Component({'lithology': 'schistes'})]\n",
      "\n",
      "4- Interval top=0.0, base=0.5, type=lithology\n",
      " - Interval components: [Component({'lithology': 'schistes'})]\n",
      "\n",
      "5- Interval top=0.0, base=0.5, type=lithology\n",
      " - Interval components: [Component({'lithology': 'remblais'})]\n",
      "\n",
      "6- Interval top=0.5, base=0.9, type=sample\n",
      " - Interval components: [Component({'benzène': 'inconnu'}), Component({'toluène': 'inconnu'}), Component({'plomb': 'vr'}), Component({'arsenic': 'vs'}), Component({'cuivre': 'vr'}), Component({'nickel': 'vr'})]\n",
      "\n",
      "7- Interval top=1.8, base=2.3, type=sample\n",
      " - Interval components: [Component({'benzène': 'vs'}), Component({'toluène': 'inconnu'}), Component({'plomb': 'vr'}), Component({'arsenic': 'vr'}), Component({'cuivre': 'vr'}), Component({'nickel': 'vr'})]\n",
      "\n",
      "8- Interval top=3.6, base=4.0, type=sample\n",
      " - Interval components: [Component({'benzène': 'vs'}), Component({'toluène': 'inconnu'}), Component({'plomb': 'vi'}), Component({'arsenic': 'vr'}), Component({'cuivre': 'inconnu'}), Component({'nickel': 'vr'})]\n",
      "\n",
      "9- Interval top=4.2, base=4.6, type=sample\n",
      " - Interval components: [Component({'benzène': 'inconnu'}), Component({'toluène': 'inconnu'}), Component({'plomb': 'inconnu'}), Component({'arsenic': 'inconnu'}), Component({'cuivre': 'vr'}), Component({'nickel': 'inconnu'})]\n",
      "\n",
      "10- Interval top=0.0, base=0.5, type=sample\n",
      " - Interval components: [Component({'benzène': 'vi'}), Component({'toluène': 'vr'}), Component({'plomb': 'vr'}), Component({'arsenic': 'inconnu'}), Component({'cuivre': 'vr'}), Component({'nickel': 'inconnu'})]\n",
      "\n",
      "11- Interval top=0.7, base=1.2, type=sample\n",
      " - Interval components: [Component({'benzène': 'vi'}), Component({'toluène': 'vr'}), Component({'plomb': 'inconnu'}), Component({'arsenic': 'inconnu'}), Component({'cuivre': 'vr'}), Component({'nickel': 'vr'})]\n",
      "\n",
      "\u001b[1;40;47m Summary : {'225': Striplog(12 Intervals, start=0.0, stop=4.6)}\u001b[0;0;0m\n",
      "\n",
      "\u001b[0;40;47m BH_ID: '226'\u001b[0;0;0m\n",
      "0- Interval top=0.0, base=1.0, type=lithology\n",
      " - Interval components: [Component({'lithology': 'remblais'})]\n",
      "\n",
      "1- Interval top=0.0, base=1.0, type=lithology\n",
      " - Interval components: [Component({'lithology': 'remblais'})]\n",
      "\n",
      "2- Interval top=0.0, base=1.0, type=lithology\n",
      " - Interval components: [Component({'lithology': 'remblais'})]\n",
      "\n",
      "3- Interval top=0.0, base=1.0, type=lithology\n",
      " - Interval components: [Component({'lithology': 'remblais'})]\n",
      "\n",
      "4- Interval top=0.6, base=1.0, type=sample\n",
      " - Interval components: [Component({'benzène': 'vi'}), Component({'toluène': 'vr'}), Component({'plomb': 'vr'}), Component({'arsenic': 'vr'}), Component({'cuivre': 'vr'}), Component({'nickel': 'vr'})]\n",
      "\n",
      "5- Interval top=2.1, base=2.4, type=sample\n",
      " - Interval components: [Component({'benzène': 'vi'}), Component({'toluène': 'vr'}), Component({'plomb': 'vr'}), Component({'arsenic': 'vr'}), Component({'cuivre': 'vr'}), Component({'nickel': 'vr'})]\n",
      "\n",
      "6- Interval top=2.8, base=3.2, type=sample\n",
      " - Interval components: [Component({'benzène': 'vi'}), Component({'toluène': 'vr'}), Component({'plomb': 'vr'}), Component({'arsenic': 'vr'}), Component({'cuivre': 'vr'}), Component({'nickel': 'vr'})]\n",
      "\n",
      "7- Interval top=3.8, base=4.3, type=sample\n",
      " - Interval components: [Component({'benzène': 'inconnu'}), Component({'toluène': 'inconnu'}), Component({'plomb': 'inconnu'}), Component({'arsenic': 'vr'}), Component({'cuivre': 'inconnu'}), Component({'nickel': 'vr'})]\n",
      "\n",
      "\u001b[1;40;47m Summary : {'226': Striplog(8 Intervals, start=0.0, stop=4.3)}\u001b[0;0;0m\n",
      "\n",
      "\u001b[0;40;47m BH_ID: '50'\u001b[0;0;0m\n",
      "0- Interval top=0.0, base=0.5, type=lithology\n",
      " - Interval components: [Component({'lithology': 'remblais'})]\n",
      "\n",
      "1- Interval top=0.0, base=0.5, type=lithology\n",
      " - Interval components: [Component({'lithology': 'remblais'})]\n",
      "\n",
      "2- Interval top=0.0, base=0.5, type=lithology\n",
      " - Interval components: [Component({'lithology': 'remblais'})]\n",
      "\n",
      "3- Interval top=0.7, base=1.2, type=sample\n",
      " - Interval components: [Component({'benzène': 'vr'}), Component({'toluène': 'vr'}), Component({'plomb': 'vr'}), Component({'arsenic': 'vr'}), Component({'cuivre': 'vr'}), Component({'nickel': 'vr'})]\n",
      "\n",
      "4- Interval top=1.4, base=2.4, type=sample\n",
      " - Interval components: [Component({'benzène': 'inconnu'}), Component({'toluène': 'inconnu'}), Component({'plomb': 'vr'}), Component({'arsenic': 'vr'}), Component({'cuivre': 'vr'}), Component({'nickel': 'vr'})]\n",
      "\n",
      "5- Interval top=3.0, base=3.6, type=sample\n",
      " - Interval components: [Component({'benzène': 'vs'}), Component({'toluène': 'inconnu'}), Component({'plomb': 'vr'}), Component({'arsenic': 'vr'}), Component({'cuivre': 'inconnu'}), Component({'nickel': 'inconnu'})]\n",
      "\n",
      "\u001b[1;40;47m Summary : {'50': Striplog(6 Intervals, start=0.0, stop=3.6)}\u001b[0;0;0m\n",
      "\u001b[1;34mWARNING: Borehole's Z coordinate not found, use default one: 102 [m]\u001b[0;0m\n",
      "\n",
      "\u001b[0;40;47m BH_ID: '51'\u001b[0;0;0m\n",
      "0- Interval top=0.0, base=0.6, type=lithology\n",
      " - Interval components: [Component({'lithology': 'remblais'})]\n",
      "\n",
      "1- Interval top=0.0, base=0.6, type=lithology\n",
      " - Interval components: [Component({'lithology': 'remblais'})]\n",
      "\n",
      "2- Interval top=0.0, base=0.6, type=lithology\n",
      " - Interval components: [Component({'lithology': 'remblais'})]\n",
      "\n",
      "3- Interval top=0.7, base=1.2, type=sample\n",
      " - Interval components: [Component({'benzène': 'vr'}), Component({'toluène': 'inconnu'}), Component({'plomb': 'vr'}), Component({'arsenic': 'vr'}), Component({'cuivre': 'vs'}), Component({'nickel': 'vi'})]\n",
      "\n",
      "4- Interval top=2.0, base=2.5, type=sample\n",
      " - Interval components: [Component({'benzène': 'vs'}), Component({'toluène': 'inconnu'}), Component({'plomb': 'vr'}), Component({'arsenic': 'vr'}), Component({'cuivre': 'vr'}), Component({'nickel': 'vi'})]\n",
      "\n",
      "5- Interval top=3.0, base=3.6, type=sample\n",
      " - Interval components: [Component({'benzène': 'vi'}), Component({'toluène': 'vr'}), Component({'plomb': 'vr'}), Component({'arsenic': 'vr'}), Component({'cuivre': 'vr'}), Component({'nickel': 'vs'})]\n",
      "\n",
      "\u001b[1;40;47m Summary : {'51': Striplog(6 Intervals, start=0.0, stop=3.6)}\u001b[0;0;0m\n",
      "\u001b[1;34mWARNING: Borehole's Z coordinate not found, use default one: 102 [m]\u001b[0;0m\n",
      "\n",
      "\u001b[0;40;47m BH_ID: '52'\u001b[0;0;0m\n",
      "0- Interval top=0.0, base=0.5, type=lithology\n",
      " - Interval components: [Component({'lithology': 'remblais'})]\n",
      "\n",
      "1- Interval top=0.0, base=0.5, type=lithology\n",
      " - Interval components: [Component({'lithology': 'remblais'})]\n",
      "\n",
      "2- Interval top=0.0, base=0.5, type=lithology\n",
      " - Interval components: [Component({'lithology': 'remblais'})]\n",
      "\n",
      "3- Interval top=0.7, base=1.2, type=sample\n",
      " - Interval components: [Component({'benzène': 'vs'}), Component({'toluène': 'vr'}), Component({'plomb': 'vr'}), Component({'arsenic': 'vr'}), Component({'cuivre': 'vr'}), Component({'nickel': 'inconnu'})]\n",
      "\n",
      "4- Interval top=1.8, base=2.4, type=sample\n",
      " - Interval components: [Component({'benzène': 'vs'}), Component({'toluène': 'inconnu'}), Component({'plomb': 'vr'}), Component({'arsenic': 'vr'}), Component({'cuivre': 'vr'}), Component({'nickel': 'vr'})]\n",
      "\n",
      "5- Interval top=3.0, base=3.6, type=sample\n",
      " - Interval components: [Component({'benzène': 'vi'}), Component({'toluène': 'vr'}), Component({'plomb': 'vr'}), Component({'arsenic': 'inconnu'}), Component({'cuivre': 'vr'}), Component({'nickel': 'vr'})]\n",
      "\n",
      "\u001b[1;40;47m Summary : {'52': Striplog(6 Intervals, start=0.0, stop=3.6)}\u001b[0;0;0m\n",
      "\u001b[1;34mWARNING: Borehole's Z coordinate not found, use default one: 102 [m]\u001b[0;0m\n",
      "\n",
      "\u001b[0;40;47m BH_ID: '302'\u001b[0;0;0m\n",
      "0- Interval top=0.0, base=0.6, type=lithology\n",
      " - Interval components: [Component({'lithology': 'remblais'})]\n",
      "\n",
      "1- Interval top=0.0, base=0.6, type=lithology\n",
      " - Interval components: [Component({'lithology': 'remblais'})]\n",
      "\n",
      "2- Interval top=0.0, base=0.5, type=sample\n",
      " - Interval components: [Component({'benzène': 'vi'}), Component({'toluène': 'vr'}), Component({'plomb': 'vr'}), Component({'arsenic': 'vr'}), Component({'cuivre': 'vr'}), Component({'nickel': 'vr'})]\n",
      "\n",
      "3- Interval top=0.9, base=1.2, type=sample\n",
      " - Interval components: [Component({'benzène': 'vs'}), Component({'toluène': 'vr'}), Component({'plomb': 'vr'}), Component({'arsenic': 'vr'}), Component({'cuivre': 'vr'}), Component({'nickel': 'vr'})]\n",
      "\n",
      "\u001b[1;40;47m Summary : {'302': Striplog(4 Intervals, start=0.0, stop=1.2)}\u001b[0;0;0m\n",
      "\u001b[1;34mWARNING: Borehole's Z coordinate not found, use default one: 102 [m]\u001b[0;0m\n",
      "\n",
      "\u001b[0;40;47m BH_ID: '303'\u001b[0;0;0m\n",
      "0- Interval top=0.0, base=0.6, type=lithology\n",
      " - Interval components: [Component({'lithology': 'remblais'})]\n",
      "\n",
      "1- Interval top=0.0, base=0.6, type=lithology\n",
      " - Interval components: [Component({'lithology': 'remblais'})]\n",
      "\n",
      "2- Interval top=0.0, base=0.5, type=sample\n",
      " - Interval components: [Component({'benzène': 'vs'}), Component({'toluène': 'vr'}), Component({'plomb': 'vr'}), Component({'arsenic': 'vr'}), Component({'cuivre': 'vr'}), Component({'nickel': 'vs'})]\n",
      "\n",
      "3- Interval top=0.7, base=1.0, type=sample\n",
      " - Interval components: [Component({'benzène': 'vi'}), Component({'toluène': 'vr'}), Component({'plomb': 'vr'}), Component({'arsenic': 'vr'}), Component({'cuivre': 'vr'}), Component({'nickel': 'vi'})]\n",
      "\n",
      "\u001b[1;40;47m Summary : {'303': Striplog(4 Intervals, start=0.0, stop=1.0)}\u001b[0;0;0m\n",
      "\u001b[1;34mWARNING: Borehole's Z coordinate not found, use default one: 102 [m]\u001b[0;0m\n",
      "\n",
      "\u001b[0;40;47m BH_ID: '304'\u001b[0;0;0m\n",
      "0- Interval top=0.0, base=0.6, type=lithology\n",
      " - Interval components: [Component({'lithology': 'remblais'})]\n",
      "\n",
      "1- Interval top=0.85, base=1.15, type=sample\n",
      " - Interval components: [Component({'benzène': 'vi'}), Component({'toluène': 'vr'}), Component({'plomb': 'vs'}), Component({'arsenic': 'vr'}), Component({'cuivre': 'vr'}), Component({'nickel': 'vr'})]\n",
      "\n",
      "\u001b[1;40;47m Summary : {'304': Striplog(2 Intervals, start=0.0, stop=1.15)}\u001b[0;0;0m\n",
      "\u001b[1;34mWARNING: Borehole's Z coordinate not found, use default one: 102 [m]\u001b[0;0m\n",
      "\n",
      "\u001b[0;40;47m BH_ID: '305'\u001b[0;0;0m\n",
      "0- Interval top=0.0, base=0.8, type=lithology\n",
      " - Interval components: [Component({'lithology': 'remblais'})]\n",
      "\n",
      "1- Interval top=0.8, base=1.1, type=sample\n",
      " - Interval components: [Component({'benzène': 'vi'}), Component({'toluène': 'vr'}), Component({'plomb': 'vr'}), Component({'arsenic': 'vr'}), Component({'cuivre': 'vr'}), Component({'nickel': 'vr'})]\n",
      "\n",
      "\u001b[1;40;47m Summary : {'305': Striplog(2 Intervals, start=0.0, stop=1.1)}\u001b[0;0;0m\n",
      "\u001b[1;34mWARNING: Borehole's Z coordinate not found, use default one: 102 [m]\u001b[0;0m\n",
      "\n"
     ]
    },
    {
     "name": "stdout",
     "output_type": "stream",
     "text": [
      "\u001b[0;40;47m BH_ID: '306'\u001b[0;0;0m\n",
      "0- Interval top=0.0, base=0.2, type=lithology\n",
      " - Interval components: [Component({'lithology': 'remblais'})]\n",
      "\n",
      "1- Interval top=0.9, base=1.2, type=sample\n",
      " - Interval components: [Component({'benzène': 'inconnu'}), Component({'toluène': 'inconnu'}), Component({'plomb': 'inconnu'}), Component({'arsenic': 'inconnu'}), Component({'cuivre': 'inconnu'}), Component({'nickel': 'vr'})]\n",
      "\n",
      "\u001b[1;40;47m Summary : {'306': Striplog(2 Intervals, start=0.0, stop=1.2)}\u001b[0;0;0m\n",
      "\u001b[1;34mWARNING: Borehole's Z coordinate not found, use default one: 102 [m]\u001b[0;0m\n",
      "\n",
      "\u001b[0;40;47m BH_ID: 'F1aM'\u001b[0;0;0m\n",
      "0- Interval top=0.0, base=0.5, type=lithology\n",
      " - Interval components: [Component({'lithology': 'limon'})]\n",
      "\n",
      "1- Interval top=0.0, base=0.5, type=lithology\n",
      " - Interval components: [Component({'lithology': 'limon'})]\n",
      "\n",
      "\u001b[1;31mWARNING : Interval skipped because top/base are null!!\u001b[0;0m\n",
      " - Interval components: [Component({'lithology': 'remblais'})]\n",
      "\n",
      "\u001b[1;31mWARNING : Interval skipped because top/base are null!!\u001b[0;0m\n",
      " - Interval components: [Component({'lithology': 'remblais'})]\n",
      "\n",
      "4- Interval top=0.7, base=1.2, type=sample\n",
      " - Interval components: [Component({'benzène': 'inconnu'}), Component({'toluène': 'inconnu'}), Component({'plomb': 'inconnu'}), Component({'arsenic': 'inconnu'}), Component({'cuivre': 'inconnu'}), Component({'nickel': 'inconnu'})]\n",
      "\n",
      "5- Interval top=1.7, base=2.1, type=sample\n",
      " - Interval components: [Component({'benzène': 'inconnu'}), Component({'toluène': 'inconnu'}), Component({'plomb': 'inconnu'}), Component({'arsenic': 'inconnu'}), Component({'cuivre': 'inconnu'}), Component({'nickel': 'inconnu'})]\n",
      "\n",
      "6- Interval top=0.7, base=1.2, type=sample\n",
      " - Interval components: [Component({'benzène': 'vr'}), Component({'toluène': 'inconnu'}), Component({'plomb': 'vr'}), Component({'arsenic': 'inconnu'}), Component({'cuivre': 'inconnu'}), Component({'nickel': 'vr'})]\n",
      "\n",
      "7- Interval top=1.7, base=2.1, type=sample\n",
      " - Interval components: [Component({'benzène': 'vi'}), Component({'toluène': 'vr'}), Component({'plomb': 'vs'}), Component({'arsenic': 'vr'}), Component({'cuivre': 'vs'}), Component({'nickel': 'vr'})]\n",
      "\n",
      "\u001b[1;40;47m Summary : {'F1aM': Striplog(6 Intervals, start=0.0, stop=2.1)}\u001b[0;0;0m\n",
      "\n",
      "\u001b[0;40;47m BH_ID: 'F9bM'\u001b[0;0;0m\n",
      "0- Interval top=0.0, base=0.6, type=lithology\n",
      " - Interval components: [Component({'lithology': 'remblais'})]\n",
      "\n",
      "1- Interval top=0.2, base=0.6, type=sample\n",
      " - Interval components: [Component({'benzène': 'inconnu'}), Component({'toluène': 'inconnu'}), Component({'plomb': 'inconnu'}), Component({'arsenic': 'inconnu'}), Component({'cuivre': 'inconnu'}), Component({'nickel': 'inconnu'})]\n",
      "\n",
      "\u001b[1;40;47m Summary : {'F9bM': Striplog(2 Intervals, start=0.0, stop=0.6)}\u001b[0;0;0m\n",
      "\n",
      "\u001b[0;40;47m BH_ID: 'F10M'\u001b[0;0;0m\n",
      "0- Interval top=0.0, base=1.2, type=lithology\n",
      " - Interval components: [Component({'lithology': 'remblais'})]\n",
      "\n",
      "1- Interval top=0.0, base=0.5, type=sample\n",
      " - Interval components: [Component({'benzène': 'inconnu'}), Component({'toluène': 'inconnu'}), Component({'plomb': 'inconnu'}), Component({'arsenic': 'inconnu'}), Component({'cuivre': 'inconnu'}), Component({'nickel': 'inconnu'})]\n",
      "\n",
      "\u001b[1;40;47m Summary : {'F10M': Striplog(2 Intervals, start=0.0, stop=1.2)}\u001b[0;0;0m\n",
      "\n",
      "\u001b[0;40;47m BH_ID: 'F2M'\u001b[0;0;0m\n",
      "0- Interval top=2.4, base=4.0, type=lithology\n",
      " - Interval components: [Component({'lithology': 'remblais'})]\n",
      "\n",
      "1- Interval top=0.0, base=2.4, type=lithology\n",
      " - Interval components: [Component({'lithology': 'limons'})]\n",
      "\n",
      "2- Interval top=0.0, base=0.2, type=lithology\n",
      " - Interval components: [Component({'lithology': 'limons'})]\n",
      "\n",
      "3- Interval top=3.1, base=3.6, type=sample\n",
      " - Interval components: [Component({'benzène': 'vi'}), Component({'toluène': 'vr'}), Component({'plomb': 'vr'}), Component({'arsenic': 'vr'}), Component({'cuivre': 'vr'}), Component({'nickel': 'vr'})]\n",
      "\n",
      "4- Interval top=5.5, base=6.0, type=sample\n",
      " - Interval components: [Component({'benzène': 'vi'}), Component({'toluène': 'vs'}), Component({'plomb': 'inconnu'}), Component({'arsenic': 'inconnu'}), Component({'cuivre': 'inconnu'}), Component({'nickel': 'vr'})]\n",
      "\n",
      "5- Interval top=0.3, base=1.2, type=sample\n",
      " - Interval components: [Component({'benzène': 'inconnu'}), Component({'toluène': 'inconnu'}), Component({'plomb': 'vr'}), Component({'arsenic': 'inconnu'}), Component({'cuivre': 'vr'}), Component({'nickel': 'vr'})]\n",
      "\n",
      "\u001b[1;40;47m Summary : {'F2M': Striplog(6 Intervals, start=0.0, stop=6.0)}\u001b[0;0;0m\n",
      "\n",
      "\u001b[0;40;47m BH_ID: 'F3M'\u001b[0;0;0m\n",
      "0- Interval top=0.0, base=0.2, type=lithology\n",
      " - Interval components: [Component({'lithology': 'béton'})]\n",
      "\n",
      "1- Interval top=0.0, base=0.5, type=lithology\n",
      " - Interval components: [Component({'lithology': 'béton'})]\n",
      "\n",
      "2- Interval top=2.4, base=3.3, type=sample\n",
      " - Interval components: [Component({'benzène': 'vi'}), Component({'toluène': 'inconnu'}), Component({'plomb': 'vr'}), Component({'arsenic': 'vr'}), Component({'cuivre': 'vr'}), Component({'nickel': 'vr'})]\n",
      "\n",
      "3- Interval top=0.0, base=0.5, type=sample\n",
      " - Interval components: [Component({'benzène': 'vi'}), Component({'toluène': 'vr'}), Component({'plomb': 'vr'}), Component({'arsenic': 'vr'}), Component({'cuivre': 'vr'}), Component({'nickel': 'vr'})]\n",
      "\n",
      "\u001b[1;40;47m Summary : {'F3M': Striplog(4 Intervals, start=0.0, stop=3.3)}\u001b[0;0;0m\n",
      "\n",
      "\u001b[0;40;47m BH_ID: 'F4M'\u001b[0;0;0m\n",
      "0- Interval top=0.0, base=0.5, type=lithology\n",
      " - Interval components: [Component({'lithology': 'limon'})]\n",
      "\n",
      "1- Interval top=2.4, base=3.1, type=sample\n",
      " - Interval components: [Component({'benzène': 'vi'}), Component({'toluène': 'vr'}), Component({'plomb': 'inconnu'}), Component({'arsenic': 'inconnu'}), Component({'cuivre': 'inconnu'}), Component({'nickel': 'inconnu'})]\n",
      "\n",
      "\u001b[1;40;47m Summary : {'F4M': Striplog(2 Intervals, start=0.0, stop=3.1)}\u001b[0;0;0m\n",
      "\n",
      "\u001b[0;40;47m BH_ID: 'F5M'\u001b[0;0;0m\n",
      "0- Interval top=0.0, base=0.5, type=lithology\n",
      " - Interval components: [Component({'lithology': 'remblais'})]\n",
      "\n",
      "1- Interval top=0.0, base=0.5, type=lithology\n",
      " - Interval components: [Component({'lithology': 'remblais'})]\n",
      "\n",
      "2- Interval top=0.0, base=0.5, type=lithology\n",
      " - Interval components: [Component({'lithology': 'remblais'})]\n",
      "\n",
      "3- Interval top=0.0, base=1.2, type=lithology\n",
      " - Interval components: [Component({'lithology': 'remblais'})]\n",
      "\n",
      "4- Interval top=0.0, base=0.5, type=sample\n",
      " - Interval components: [Component({'benzène': 'vr'}), Component({'toluène': 'inconnu'}), Component({'plomb': 'vr'}), Component({'arsenic': 'vr'}), Component({'cuivre': 'vr'}), Component({'nickel': 'inconnu'})]\n",
      "\n",
      "5- Interval top=3.8, base=4.2, type=sample\n",
      " - Interval components: [Component({'benzène': 'vi'}), Component({'toluène': 'inconnu'}), Component({'plomb': 'vr'}), Component({'arsenic': 'vr'}), Component({'cuivre': 'vr'}), Component({'nickel': 'vr'})]\n",
      "\n",
      "6- Interval top=5.8, base=6.0, type=sample\n",
      " - Interval components: [Component({'benzène': 'inconnu'}), Component({'toluène': 'inconnu'}), Component({'plomb': 'inconnu'}), Component({'arsenic': 'inconnu'}), Component({'cuivre': 'vr'}), Component({'nickel': 'vr'})]\n",
      "\n",
      "7- Interval top=0.4, base=1.2, type=sample\n",
      " - Interval components: [Component({'benzène': 'vr'}), Component({'toluène': 'inconnu'}), Component({'plomb': 'vr'}), Component({'arsenic': 'vr'}), Component({'cuivre': 'vr'}), Component({'nickel': 'inconnu'})]\n",
      "\n",
      "\u001b[1;40;47m Summary : {'F5M': Striplog(8 Intervals, start=0.0, stop=6.0)}\u001b[0;0;0m\n",
      "\n",
      "\u001b[0;40;47m BH_ID: 'F6M'\u001b[0;0;0m\n",
      "0- Interval top=0.0, base=1.2, type=lithology\n",
      " - Interval components: [Component({'lithology': 'remblais'})]\n",
      "\n",
      "1- Interval top=0.0, base=1.2, type=lithology\n",
      " - Interval components: [Component({'lithology': 'remblais'})]\n",
      "\n",
      "2- Interval top=0.0, base=0.2, type=lithology\n",
      " - Interval components: [Component({'lithology': 'remblais'})]\n",
      "\n",
      "3- Interval top=4.4, base=4.8, type=sample\n",
      " - Interval components: [Component({'benzène': 'inconnu'}), Component({'toluène': 'inconnu'}), Component({'plomb': 'inconnu'}), Component({'arsenic': 'vr'}), Component({'cuivre': 'inconnu'}), Component({'nickel': 'vr'})]\n",
      "\n",
      "4- Interval top=0.0, base=0.5, type=sample\n",
      " - Interval components: [Component({'benzène': 'inconnu'}), Component({'toluène': 'inconnu'}), Component({'plomb': 'vr'}), Component({'arsenic': 'inconnu'}), Component({'cuivre': 'vr'}), Component({'nickel': 'vr'})]\n",
      "\n",
      "5- Interval top=0.7, base=1.2, type=sample\n",
      " - Interval components: [Component({'benzène': 'inconnu'}), Component({'toluène': 'inconnu'}), Component({'plomb': 'vr'}), Component({'arsenic': 'vs'}), Component({'cuivre': 'vr'}), Component({'nickel': 'vr'})]\n",
      "\n",
      "\u001b[1;40;47m Summary : {'F6M': Striplog(6 Intervals, start=0.0, stop=4.8)}\u001b[0;0;0m\n",
      "\n",
      "\u001b[0;40;47m BH_ID: 'F12M'\u001b[0;0;0m\n",
      "0- Interval top=0.0, base=0.2, type=lithology\n",
      " - Interval components: [Component({'lithology': 'remblais'})]\n",
      "\n",
      "1- Interval top=0.0, base=0.3, type=lithology\n",
      " - Interval components: [Component({'lithology': 'remblais'})]\n",
      "\n",
      "2- Interval top=0.0, base=0.3, type=lithology\n",
      " - Interval components: [Component({'lithology': 'remblais'})]\n",
      "\n",
      "3- Interval top=1.9, base=2.4, type=sample\n",
      " - Interval components: [Component({'benzène': 'vs'}), Component({'toluène': 'inconnu'}), Component({'plomb': 'vr'}), Component({'arsenic': 'vr'}), Component({'cuivre': 'vr'}), Component({'nickel': 'vr'})]\n",
      "\n"
     ]
    },
    {
     "name": "stdout",
     "output_type": "stream",
     "text": [
      "4- Interval top=0.3, base=1.2, type=sample\n",
      " - Interval components: [Component({'benzène': 'inconnu'}), Component({'toluène': 'vr'}), Component({'plomb': 'vr'}), Component({'arsenic': 'vr'}), Component({'cuivre': 'vs'}), Component({'nickel': 'vr'})]\n",
      "\n",
      "5- Interval top=3.3, base=3.6, type=sample\n",
      " - Interval components: [Component({'benzène': 'inconnu'}), Component({'toluène': 'inconnu'}), Component({'plomb': 'vr'}), Component({'arsenic': 'vr'}), Component({'cuivre': 'vr'}), Component({'nickel': 'vr'})]\n",
      "\n",
      "\u001b[1;40;47m Summary : {'F12M': Striplog(6 Intervals, start=0.0, stop=3.6)}\u001b[0;0;0m\n",
      "\n",
      "\u001b[0;40;47m BH_ID: 'F13M'\u001b[0;0;0m\n",
      "0- Interval top=0.0, base=0.3, type=lithology\n",
      " - Interval components: [Component({'lithology': 'alluvions'})]\n",
      "\n",
      "1- Interval top=0.0, base=0.4, type=lithology\n",
      " - Interval components: [Component({'lithology': 'alluvions'})]\n",
      "\n",
      "2- Interval top=0.0, base=2.4, type=lithology\n",
      " - Interval components: [Component({'lithology': 'alluvions'})]\n",
      "\n",
      "3- Interval top=4.2, base=4.7, type=sample\n",
      " - Interval components: [Component({'benzène': 'inconnu'}), Component({'toluène': 'inconnu'}), Component({'plomb': 'inconnu'}), Component({'arsenic': 'inconnu'}), Component({'cuivre': 'inconnu'}), Component({'nickel': 'inconnu'})]\n",
      "\n",
      "4- Interval top=0.0, base=0.5, type=sample\n",
      " - Interval components: [Component({'benzène': 'inconnu'}), Component({'toluène': 'inconnu'}), Component({'plomb': 'vr'}), Component({'arsenic': 'inconnu'}), Component({'cuivre': 'vr'}), Component({'nickel': 'vr'})]\n",
      "\n",
      "5- Interval top=0.6, base=1.2, type=sample\n",
      " - Interval components: [Component({'benzène': 'vr'}), Component({'toluène': 'vr'}), Component({'plomb': 'vs'}), Component({'arsenic': 'vr'}), Component({'cuivre': 'vs'}), Component({'nickel': 'vr'})]\n",
      "\n",
      "\u001b[1;40;47m Summary : {'F13M': Striplog(6 Intervals, start=0.0, stop=4.7)}\u001b[0;0;0m\n",
      "\n",
      "\u001b[0;40;47m BH_ID: 'F14M'\u001b[0;0;0m\n",
      "0- Interval top=0.0, base=2.4, type=lithology\n",
      " - Interval components: [Component({'lithology': 'remblais'})]\n",
      "\n",
      "1- Interval top=3.1, base=3.6, type=sample\n",
      " - Interval components: [Component({'benzène': 'vs'}), Component({'toluène': 'vr'}), Component({'plomb': 'vr'}), Component({'arsenic': 'inconnu'}), Component({'cuivre': 'vr'}), Component({'nickel': 'inconnu'})]\n",
      "\n",
      "\u001b[1;40;47m Summary : {'F14M': Striplog(2 Intervals, start=0.0, stop=3.6)}\u001b[0;0;0m\n",
      "\n",
      "\u001b[0;40;47m BH_ID: 'F15bM'\u001b[0;0;0m\n",
      "0- Interval top=0.0, base=2.4, type=lithology\n",
      " - Interval components: [Component({'lithology': 'limon'})]\n",
      "\n",
      "1- Interval top=0.0, base=2.4, type=lithology\n",
      " - Interval components: [Component({'lithology': 'limon'})]\n",
      "\n",
      "2- Interval top=0.0, base=2.4, type=lithology\n",
      " - Interval components: [Component({'lithology': 'remblais'})]\n",
      "\n",
      "3- Interval top=4.8, base=5.3, type=sample\n",
      " - Interval components: [Component({'benzène': 'inconnu'}), Component({'toluène': 'inconnu'}), Component({'plomb': 'inconnu'}), Component({'arsenic': 'inconnu'}), Component({'cuivre': 'inconnu'}), Component({'nickel': 'vr'})]\n",
      "\n",
      "4- Interval top=0.0, base=0.6, type=sample\n",
      " - Interval components: [Component({'benzène': 'vr'}), Component({'toluène': 'vr'}), Component({'plomb': 'vs'}), Component({'arsenic': 'vs'}), Component({'cuivre': 'vi'}), Component({'nickel': 'vs'})]\n",
      "\n",
      "5- Interval top=4.4, base=4.8, type=sample\n",
      " - Interval components: [Component({'benzène': 'vs'}), Component({'toluène': 'inconnu'}), Component({'plomb': 'inconnu'}), Component({'arsenic': 'inconnu'}), Component({'cuivre': 'inconnu'}), Component({'nickel': 'inconnu'})]\n",
      "\n",
      "\u001b[1;40;47m Summary : {'F15bM': Striplog(6 Intervals, start=0.0, stop=5.3)}\u001b[0;0;0m\n",
      "\n",
      "\u001b[0;40;47m BH_ID: 'F16M'\u001b[0;0;0m\n",
      "0- Interval top=0.0, base=3.6, type=lithology\n",
      " - Interval components: [Component({'lithology': 'remblais'})]\n",
      "\n",
      "1- Interval top=0.7, base=1.2, type=sample\n",
      " - Interval components: [Component({'benzène': 'inconnu'}), Component({'toluène': 'inconnu'}), Component({'plomb': 'vr'}), Component({'arsenic': 'vs'}), Component({'cuivre': 'vs'}), Component({'nickel': 'vr'})]\n",
      "\n",
      "\u001b[1;40;47m Summary : {'F16M': Striplog(2 Intervals, start=0.0, stop=3.6)}\u001b[0;0;0m\n",
      "\n",
      "\u001b[0;40;47m BH_ID: 'F18b'\u001b[0;0;0m\n",
      "\u001b[1;31mWARNING : Interval skipped because top/base are null!!\u001b[0;0m\n",
      " - Interval components: [Component({'lithology': 'remblais'})]\n",
      "\n",
      "1- Interval top=0.7, base=1.0, type=sample\n",
      " - Interval components: [Component({'benzène': 'vi'}), Component({'toluène': 'vs'}), Component({'plomb': 'inconnu'}), Component({'arsenic': 'inconnu'}), Component({'cuivre': 'inconnu'}), Component({'nickel': 'inconnu'})]\n",
      "\n",
      "\u001b[1;40;47m Summary : {'F18b': Striplog(1 Intervals, start=0.7, stop=1.0)}\u001b[0;0;0m\n",
      "\n",
      "\u001b[0;40;47m BH_ID: 'F18c'\u001b[0;0;0m\n",
      "\u001b[1;31mWARNING : Interval skipped because top/base are null!!\u001b[0;0m\n",
      " - Interval components: [Component({'lithology': 'remblais'})]\n",
      "\n",
      "\u001b[1;31mWARNING : Interval skipped because top/base are null!!\u001b[0;0m\n",
      " - Interval components: [Component({'lithology': 'limons'})]\n",
      "\n",
      "2- Interval top=3.3, base=3.6, type=sample\n",
      " - Interval components: [Component({'benzène': 'vi'}), Component({'toluène': 'vr'}), Component({'plomb': 'vr'}), Component({'arsenic': 'vr'}), Component({'cuivre': 'vr'}), Component({'nickel': 'vr'})]\n",
      "\n",
      "3- Interval top=4.4, base=4.8, type=sample\n",
      " - Interval components: [Component({'benzène': 'inconnu'}), Component({'toluène': 'inconnu'}), Component({'plomb': 'inconnu'}), Component({'arsenic': 'inconnu'}), Component({'cuivre': 'inconnu'}), Component({'nickel': 'vr'})]\n",
      "\n",
      "\u001b[1;40;47m Summary : {'F18c': Striplog(2 Intervals, start=3.3, stop=4.8)}\u001b[0;0;0m\n",
      "\n",
      "\u001b[0;40;47m BH_ID: 'F20'\u001b[0;0;0m\n",
      "\u001b[1;31mWARNING : Interval skipped because top/base are null!!\u001b[0;0m\n",
      " - Interval components: [Component({'lithology': 'remblais'})]\n",
      "\n",
      "\u001b[1;31mWARNING : Interval skipped because top/base are null!!\u001b[0;0m\n",
      " - Interval components: [Component({'lithology': 'limons'})]\n",
      "\n",
      "2- Interval top=0.0, base=0.5, type=sample\n",
      " - Interval components: [Component({'benzène': 'vi'}), Component({'toluène': 'vr'}), Component({'plomb': 'vr'}), Component({'arsenic': 'vr'}), Component({'cuivre': 'vr'}), Component({'nickel': 'vr'})]\n",
      "\n",
      "3- Interval top=5.6, base=6.0, type=sample\n",
      " - Interval components: [Component({'benzène': 'inconnu'}), Component({'toluène': 'inconnu'}), Component({'plomb': 'inconnu'}), Component({'arsenic': 'inconnu'}), Component({'cuivre': 'inconnu'}), Component({'nickel': 'inconnu'})]\n",
      "\n",
      "\u001b[1;40;47m Summary : {'F20': Striplog(2 Intervals, start=0.0, stop=6.0)}\u001b[0;0;0m\n",
      "\n",
      "\u001b[0;40;47m BH_ID: 'F21'\u001b[0;0;0m\n",
      "\u001b[1;31mWARNING : Interval skipped because top/base are null!!\u001b[0;0m\n",
      " - Interval components: [Component({'lithology': 'remblais'})]\n",
      "\n",
      "\u001b[1;31mWARNING : Interval skipped because top/base are null!!\u001b[0;0m\n",
      " - Interval components: [Component({'lithology': 'limons'})]\n",
      "\n",
      "2- Interval top=3.0, base=3.4, type=sample\n",
      " - Interval components: [Component({'benzène': 'vi'}), Component({'toluène': 'vr'}), Component({'plomb': 'vr'}), Component({'arsenic': 'vr'}), Component({'cuivre': 'vr'}), Component({'nickel': 'vr'})]\n",
      "\n",
      "3- Interval top=4.4, base=4.8, type=sample\n",
      " - Interval components: [Component({'benzène': 'inconnu'}), Component({'toluène': 'inconnu'}), Component({'plomb': 'inconnu'}), Component({'arsenic': 'inconnu'}), Component({'cuivre': 'inconnu'}), Component({'nickel': 'vr'})]\n",
      "\n",
      "\u001b[1;40;47m Summary : {'F21': Striplog(2 Intervals, start=3.0, stop=4.8)}\u001b[0;0;0m\n",
      "\n",
      "\u001b[0;40;47m BH_ID: 'F22'\u001b[0;0;0m\n",
      "\u001b[1;31mWARNING : Interval skipped because top/base are null!!\u001b[0;0m\n",
      " - Interval components: [Component({'lithology': 'remblais'})]\n",
      "\n",
      "\u001b[1;31mWARNING : Interval skipped because top/base are null!!\u001b[0;0m\n",
      " - Interval components: [Component({'lithology': 'remblais'})]\n",
      "\n",
      "\u001b[1;31mWARNING : Interval skipped because top/base are null!!\u001b[0;0m\n",
      " - Interval components: [Component({'lithology': 'remblais'})]\n",
      "\n",
      "3- Interval top=0.0, base=0.5, type=sample\n",
      " - Interval components: [Component({'benzène': 'vi'}), Component({'toluène': 'vr'}), Component({'plomb': 'vr'}), Component({'arsenic': 'vr'}), Component({'cuivre': 'vr'}), Component({'nickel': 'vr'})]\n",
      "\n",
      "4- Interval top=2.0, base=2.4, type=sample\n",
      " - Interval components: [Component({'benzène': 'inconnu'}), Component({'toluène': 'inconnu'}), Component({'plomb': 'inconnu'}), Component({'arsenic': 'vr'}), Component({'cuivre': 'vr'}), Component({'nickel': 'vr'})]\n",
      "\n",
      "5- Interval top=3.5, base=4.0, type=sample\n",
      " - Interval components: [Component({'benzène': 'vi'}), Component({'toluène': 'inconnu'}), Component({'plomb': 'vr'}), Component({'arsenic': 'inconnu'}), Component({'cuivre': 'vr'}), Component({'nickel': 'inconnu'})]\n",
      "\n",
      "\u001b[1;40;47m Summary : {'F22': Striplog(3 Intervals, start=0.0, stop=4.0)}\u001b[0;0;0m\n",
      "\n",
      "\u001b[0;40;47m BH_ID: 'F23'\u001b[0;0;0m\n",
      "\u001b[1;31mWARNING : Interval skipped because top/base are null!!\u001b[0;0m\n",
      " - Interval components: [Component({'lithology': 'remblais'})]\n",
      "\n",
      "\u001b[1;31mWARNING : Interval skipped because top/base are null!!\u001b[0;0m\n",
      " - Interval components: [Component({'lithology': 'remblais'})]\n",
      "\n",
      "2- Interval top=0.3, base=0.8, type=sample\n",
      " - Interval components: [Component({'benzène': 'vs'}), Component({'toluène': 'vr'}), Component({'plomb': 'vr'}), Component({'arsenic': 'vr'}), Component({'cuivre': 'vr'}), Component({'nickel': 'vr'})]\n",
      "\n",
      "3- Interval top=3.1, base=3.5, type=sample\n",
      " - Interval components: [Component({'benzène': 'vi'}), Component({'toluène': 'vr'}), Component({'plomb': 'vr'}), Component({'arsenic': 'vr'}), Component({'cuivre': 'vr'}), Component({'nickel': 'vr'})]\n",
      "\n",
      "\u001b[1;40;47m Summary : {'F23': Striplog(2 Intervals, start=0.3, stop=3.5)}\u001b[0;0;0m\n",
      "\n",
      "\u001b[0;40;47m BH_ID: 'F24b'\u001b[0;0;0m\n",
      "\u001b[1;31mWARNING : Interval skipped because top/base are null!!\u001b[0;0m\n",
      " - Interval components: [Component({'lithology': 'remblais'})]\n",
      "\n",
      "1- Interval top=2.0, base=2.5, type=sample\n",
      " - Interval components: [Component({'benzène': 'vs'}), Component({'toluène': 'vr'}), Component({'plomb': 'vr'}), Component({'arsenic': 'vr'}), Component({'cuivre': 'vr'}), Component({'nickel': 'vr'})]\n",
      "\n",
      "\u001b[1;40;47m Summary : {'F24b': Striplog(1 Intervals, start=2.0, stop=2.5)}\u001b[0;0;0m\n",
      "\n",
      "\u001b[0;40;47m BH_ID: 'F25'\u001b[0;0;0m\n",
      "\u001b[1;31mWARNING : Interval skipped because top/base are null!!\u001b[0;0m\n",
      " - Interval components: [Component({'lithology': 'remblais'})]\n",
      "\n",
      "\u001b[1;31mWARNING : Interval skipped because top/base are null!!\u001b[0;0m\n",
      " - Interval components: [Component({'lithology': 'remblais'})]\n",
      "\n",
      "\u001b[1;31mWARNING : Interval skipped because top/base are null!!\u001b[0;0m\n",
      " - Interval components: [Component({'lithology': 'limons'})]\n",
      "\n",
      "3- Interval top=0.0, base=0.5, type=sample\n",
      " - Interval components: [Component({'benzène': 'vi'}), Component({'toluène': 'vr'}), Component({'plomb': 'vr'}), Component({'arsenic': 'vr'}), Component({'cuivre': 'vr'}), Component({'nickel': 'vr'})]\n",
      "\n",
      "4- Interval top=3.0, base=3.5, type=sample\n",
      " - Interval components: [Component({'benzène': 'vs'}), Component({'toluène': 'inconnu'}), Component({'plomb': 'vi'}), Component({'arsenic': 'vr'}), Component({'cuivre': 'vr'}), Component({'nickel': 'vr'})]\n",
      "\n",
      "5- Interval top=5.2, base=5.7, type=sample\n",
      " - Interval components: [Component({'benzène': 'inconnu'}), Component({'toluène': 'inconnu'}), Component({'plomb': 'inconnu'}), Component({'arsenic': 'inconnu'}), Component({'cuivre': 'inconnu'}), Component({'nickel': 'inconnu'})]\n",
      "\n",
      "\u001b[1;40;47m Summary : {'F25': Striplog(3 Intervals, start=0.0, stop=5.7)}\u001b[0;0;0m\n",
      "\n",
      "\u001b[0;40;47m BH_ID: 'F26'\u001b[0;0;0m\n",
      "\u001b[1;31mWARNING : Interval skipped because top/base are null!!\u001b[0;0m\n",
      " - Interval components: [Component({'lithology': 'remblais'})]\n",
      "\n",
      "\u001b[1;31mWARNING : Interval skipped because top/base are null!!\u001b[0;0m\n",
      " - Interval components: [Component({'lithology': 'remblais'})]\n",
      "\n",
      "\u001b[1;31mWARNING : Interval skipped because top/base are null!!\u001b[0;0m\n",
      " - Interval components: [Component({'lithology': 'limons'})]\n",
      "\n",
      "\u001b[1;31mWARNING : Interval skipped because top/base are null!!\u001b[0;0m\n",
      " - Interval components: [Component({'lithology': 'limons'})]\n",
      "\n",
      "4- Interval top=1.8, base=2.2, type=sample\n",
      " - Interval components: [Component({'benzène': 'vi'}), Component({'toluène': 'vr'}), Component({'plomb': 'vs'}), Component({'arsenic': 'vs'}), Component({'cuivre': 'vr'}), Component({'nickel': 'vr'})]\n",
      "\n",
      "5- Interval top=3.1, base=3.6, type=sample\n",
      " - Interval components: [Component({'benzène': 'vi'}), Component({'toluène': 'vr'}), Component({'plomb': 'vr'}), Component({'arsenic': 'inconnu'}), Component({'cuivre': 'vr'}), Component({'nickel': 'inconnu'})]\n",
      "\n",
      "6- Interval top=3.8, base=4.3, type=sample\n",
      " - Interval components: [Component({'benzène': 'inconnu'}), Component({'toluène': 'inconnu'}), Component({'plomb': 'inconnu'}), Component({'arsenic': 'inconnu'}), Component({'cuivre': 'inconnu'}), Component({'nickel': 'inconnu'})]\n",
      "\n",
      "7- Interval top=5.6, base=6.0, type=sample\n",
      " - Interval components: [Component({'benzène': 'inconnu'}), Component({'toluène': 'inconnu'}), Component({'plomb': 'inconnu'}), Component({'arsenic': 'inconnu'}), Component({'cuivre': 'inconnu'}), Component({'nickel': 'inconnu'})]\n",
      "\n",
      "\u001b[1;40;47m Summary : {'F26': Striplog(4 Intervals, start=1.8, stop=6.0)}\u001b[0;0;0m\n",
      "\n",
      "\u001b[0;40;47m BH_ID: 'F27a'\u001b[0;0;0m\n",
      "\u001b[1;31mWARNING : Interval skipped because top/base are null!!\u001b[0;0m\n",
      " - Interval components: [Component({'lithology': 'remblais'})]\n",
      "\n",
      "1- Interval top=0.0, base=0.5, type=sample\n",
      " - Interval components: [Component({'benzène': 'vi'}), Component({'toluène': 'vr'}), Component({'plomb': 'vr'}), Component({'arsenic': 'vr'}), Component({'cuivre': 'vr'}), Component({'nickel': 'vr'})]\n",
      "\n",
      "\u001b[1;40;47m Summary : {'F27a': Striplog(1 Intervals, start=0.0, stop=0.5)}\u001b[0;0;0m\n",
      "\n",
      "\u001b[0;40;47m BH_ID: 'F27d'\u001b[0;0;0m\n",
      "\u001b[1;31mWARNING : Interval skipped because top/base are null!!\u001b[0;0m\n",
      " - Interval components: [Component({'lithology': 'remblais'})]\n",
      "\n",
      "\u001b[1;31mWARNING : Interval skipped because top/base are null!!\u001b[0;0m\n",
      " - Interval components: [Component({'lithology': 'limons'})]\n",
      "\n",
      "2- Interval top=3.2, base=3.6, type=sample\n",
      " - Interval components: [Component({'benzène': 'vi'}), Component({'toluène': 'vr'}), Component({'plomb': 'vr'}), Component({'arsenic': 'vr'}), Component({'cuivre': 'vr'}), Component({'nickel': 'vr'})]\n",
      "\n",
      "3- Interval top=6.3, base=6.6, type=sample\n",
      " - Interval components: [Component({'benzène': 'inconnu'}), Component({'toluène': 'inconnu'}), Component({'plomb': 'inconnu'}), Component({'arsenic': 'inconnu'}), Component({'cuivre': 'inconnu'}), Component({'nickel': 'inconnu'})]\n",
      "\n",
      "\u001b[1;40;47m Summary : {'F27d': Striplog(2 Intervals, start=3.2, stop=6.6)}\u001b[0;0;0m\n"
     ]
    },
    {
     "name": "stdout",
     "output_type": "stream",
     "text": [
      "\n",
      "End of the process : 46 boreholes created successfully\n"
     ]
    }
   ],
   "source": [
    "boreholes, components, link_intv_comp = boreholes_from_dataframe(data_dict, verbose=False,\n",
    "                                                sample_type_col='Type_ech', diameter_col='Diam_for', \n",
    "                                                average_z=102, attributes=['lithology']+pollutants, \n",
    "                                                symbols={'lithology':{'lexicon':DEFAULT_LITHO_LEXICON}})"
   ]
  },
  {
   "cell_type": "code",
   "execution_count": 10,
   "metadata": {},
   "outputs": [
    {
     "data": {
      "text/plain": [
       "(46, 30)"
      ]
     },
     "execution_count": 10,
     "metadata": {},
     "output_type": "execute_result"
    }
   ],
   "source": [
    "len(boreholes), len(components)"
   ]
  },
  {
   "cell_type": "code",
   "execution_count": 11,
   "metadata": {},
   "outputs": [
    {
     "ename": "NameError",
     "evalue": "name 'pause' is not defined",
     "output_type": "error",
     "traceback": [
      "\u001b[0;31m---------------------------------------------------------------------------\u001b[0m",
      "\u001b[0;31mNameError\u001b[0m                                 Traceback (most recent call last)",
      "\u001b[0;32m/tmp/ipykernel_37200/1188747208.py\u001b[0m in \u001b[0;36m<module>\u001b[0;34m\u001b[0m\n\u001b[0;32m----> 1\u001b[0;31m \u001b[0mpause\u001b[0m\u001b[0;34m\u001b[0m\u001b[0;34m\u001b[0m\u001b[0m\n\u001b[0m",
      "\u001b[0;31mNameError\u001b[0m: name 'pause' is not defined"
     ]
    }
   ],
   "source": [
    "pause"
   ]
  },
  {
   "cell_type": "raw",
   "metadata": {
    "scrolled": true
   },
   "source": [
    "for b in boreholes:\n",
    "    for k, v in b.intervals.items():\n",
    "        dict_viewer({b.id:[v.interval_number, v.top.middle, v.base.middle, b.intervals_values[k]]})\n",
    "        # print({b.id:[v.interval_number, v.top.middle, v.base.middle, b.intervals_values[k]]})"
   ]
  },
  {
   "cell_type": "markdown",
   "metadata": {},
   "source": [
    "#  ---------------------------------- Test zone -----------------------------------------------"
   ]
  },
  {
   "cell_type": "code",
   "execution_count": null,
   "metadata": {},
   "outputs": [],
   "source": [
    "from striplog import Component, Striplog, Interval, Position\n",
    "import re"
   ]
  },
  {
   "cell_type": "raw",
   "metadata": {},
   "source": [
    "t = 'base et toit'\n",
    "re.findall('toit|base', t, re.I)"
   ]
  },
  {
   "cell_type": "code",
   "execution_count": null,
   "metadata": {
    "scrolled": true
   },
   "outputs": [],
   "source": [
    "bh_id='205'\n",
    "df_test = df_litho\n",
    "id_col = 'ID'\n",
    "bh_list = []\n",
    "\n",
    "for j in df_test.index:\n",
    "    bh_id = df_test.loc[j, id_col]\n",
    "\n",
    "    if bh_id not in bh_list:\n",
    "        print(f\"\\n|__ID:\\'{bh_id}\\'\")\n",
    "        bh_list.append(bh_id)\n",
    "\n",
    "        selection = df_test[id_col] == f\"{bh_id}\"  # f'ID==\"{bh_id}\"'\n",
    "        tmp = df_test[selection].copy()  # divide to work faster ;)\n",
    "        tmp.reset_index(drop=True, inplace=True)\n",
    "        "
   ]
  },
  {
   "cell_type": "code",
   "execution_count": null,
   "metadata": {},
   "outputs": [],
   "source": [
    "pos = [Position(middle=0, x=125500, y=122500), # 0 \n",
    "       Position(middle=0.5, x=125500, y=122500), # 1\n",
    "       Position(middle=0.7, x=125500, y=122500), # 2\n",
    "       Position(middle=1, x=125500, y=122500), # 3\n",
    "       Position(middle=1.5, x=125500, y=122500), # 4\n",
    "       \n",
    "       Position(middle=0, x=126500, y=123500), # 5\n",
    "       Position(middle=0.5, x=126500, y=123500), # 6\n",
    "       Position(middle=0.7, x=126500, y=123500), # 7\n",
    "       Position(middle=1, x=126500, y=123500), # 8\n",
    "       Position(middle=1.5, x=126500, y=123500),] # 9"
   ]
  },
  {
   "cell_type": "code",
   "execution_count": null,
   "metadata": {},
   "outputs": [],
   "source": [
    "smp = [Component({'lithology': 'remblais'}),\n",
    "           Component({'lithology': 'limon'}),\n",
    "           Component({'lithology': 'schistes'}),\n",
    "           Component({'lithology': 'sable'}),\n",
    "           Component({'lithology': 'calcaire'}),\n",
    "           Component({'lithology': 'inconnu'})]"
   ]
  },
  {
   "cell_type": "code",
   "execution_count": null,
   "metadata": {},
   "outputs": [],
   "source": [
    "t_A, b_A = 0, 3\n",
    "t_B, b_B = 6, 7\n",
    "row = 1\n",
    "itv_A = Interval(top=pos[t_A], base=pos[b_A], components=[smp[0]], \n",
    "             data={'sample_type':'soil', 'litho_intv':{'itv_id':f'itv_{row}', 'value':'remblais', 'top':1, 'base':2}})\n",
    "itv_B = Interval(top=pos[t_B], base=pos[b_B], components=[smp[1]], \n",
    "             data={'sample_type':'soil', 'litho_intv':{'itv_id':f'itv_{row+1}', 'value':'limon', 'top':2, 'base':3}})\n",
    "\n",
    "print(itv_A, '\\n\\n', itv_B) \n",
    "print('\\n', itv_A.relationship(itv_B),' --- ',  itv_B.relationship(itv_A))"
   ]
  },
  {
   "cell_type": "code",
   "execution_count": null,
   "metadata": {},
   "outputs": [],
   "source": []
  },
  {
   "cell_type": "markdown",
   "metadata": {},
   "source": [
    "# -------------------------------------------------------------"
   ]
  },
  {
   "cell_type": "markdown",
   "metadata": {},
   "source": [
    "## Create a dictionary containing legends for each representation attribute"
   ]
  },
  {
   "cell_type": "code",
   "execution_count": null,
   "metadata": {},
   "outputs": [],
   "source": [
    "legend_dict = legend_from_attributes([('lithology', DEFAULT_LITHO_LEGEND)]+pollutants)"
   ]
  },
  {
   "cell_type": "code",
   "execution_count": null,
   "metadata": {
    "scrolled": false
   },
   "outputs": [],
   "source": [
    "dict_viewer(legend_dict)"
   ]
  },
  {
   "cell_type": "markdown",
   "metadata": {},
   "source": [
    "## Create a project and save data in a database"
   ]
  },
  {
   "cell_type": "code",
   "execution_count": null,
   "metadata": {},
   "outputs": [],
   "source": [
    "DB_name = 'tmp_files/real_orm_db.db'\n",
    "\n",
    "if os.path.exists(DB_name):\n",
    "    os.remove(DB_name)\n",
    "\n",
    "engine = create_engine(f\"sqlite:///{DB_name}\", echo=True)"
   ]
  },
  {
   "cell_type": "code",
   "execution_count": null,
   "metadata": {
    "scrolled": true
   },
   "outputs": [],
   "source": [
    "Base.metadata.create_all(engine)"
   ]
  },
  {
   "cell_type": "code",
   "execution_count": null,
   "metadata": {},
   "outputs": [],
   "source": [
    "Session = sessionmaker(bind=engine)\n",
    "session = Session()"
   ]
  },
  {
   "cell_type": "markdown",
   "metadata": {},
   "source": [
    "#### Set project's legend dictionary"
   ]
  },
  {
   "cell_type": "code",
   "execution_count": null,
   "metadata": {},
   "outputs": [],
   "source": [
    "p = Project(session, legend_dict=legend_dict, lexicon=DEFAULT_LITHO_LEXICON)"
   ]
  },
  {
   "cell_type": "markdown",
   "metadata": {},
   "source": [
    "#### Add components, boreholes into the project"
   ]
  },
  {
   "cell_type": "code",
   "execution_count": null,
   "metadata": {},
   "outputs": [],
   "source": [
    "p.add_components(components)"
   ]
  },
  {
   "cell_type": "code",
   "execution_count": null,
   "metadata": {
    "scrolled": true
   },
   "outputs": [],
   "source": [
    "for bh in boreholes:\n",
    "    p.add_borehole(bh)"
   ]
  },
  {
   "cell_type": "code",
   "execution_count": null,
   "metadata": {},
   "outputs": [],
   "source": [
    "p.add_link_components_intervals(link_intv_comp)"
   ]
  },
  {
   "cell_type": "markdown",
   "metadata": {},
   "source": [
    "#### Validate modifications "
   ]
  },
  {
   "cell_type": "code",
   "execution_count": null,
   "metadata": {},
   "outputs": [],
   "source": [
    "p.commit()"
   ]
  },
  {
   "cell_type": "code",
   "execution_count": null,
   "metadata": {
    "scrolled": true
   },
   "outputs": [],
   "source": [
    "p.refresh()"
   ]
  },
  {
   "cell_type": "code",
   "execution_count": null,
   "metadata": {},
   "outputs": [],
   "source": [
    "session.close()"
   ]
  },
  {
   "cell_type": "markdown",
   "metadata": {},
   "source": [
    "## update project legend dict"
   ]
  },
  {
   "cell_type": "code",
   "execution_count": null,
   "metadata": {
    "scrolled": true
   },
   "outputs": [],
   "source": [
    "p.update_legend_cmap(compute_all_attrib=True, verbose=False)"
   ]
  },
  {
   "cell_type": "code",
   "execution_count": null,
   "metadata": {},
   "outputs": [],
   "source": [
    "p.legend_dict['lithology']['legend'] # looks like cmap and values combination"
   ]
  },
  {
   "cell_type": "markdown",
   "metadata": {},
   "source": [
    "## Visualization"
   ]
  },
  {
   "cell_type": "raw",
   "metadata": {},
   "source": [
    "for bh3d in p.boreholes_3d:\n",
    "    print(bh3d.name, '\\n', len(bh3d.intervals), bh3d.intervals) \n",
    "\n",
    "# problem with top and base position --> kind of overlaying"
   ]
  },
  {
   "cell_type": "code",
   "execution_count": null,
   "metadata": {},
   "outputs": [],
   "source": [
    "n = 1 # borehole index in the project's boreholes list\n",
    "# df.query(f'ID==\"{p.boreholes_3d[n].name}\"')[['ID', 'Top_intv', 'Base_intv', 'Lithology']]\n",
    "df.query(f'ID==\"{p.boreholes_3d[n].name}\"')"
   ]
  },
  {
   "cell_type": "raw",
   "metadata": {},
   "source": [
    "p.boreholes_3d[n].intervals[3].components #[0].lithology"
   ]
  },
  {
   "cell_type": "code",
   "execution_count": null,
   "metadata": {},
   "outputs": [],
   "source": [
    "attributes = list(legend_dict.keys())\n",
    "attributes"
   ]
  },
  {
   "cell_type": "markdown",
   "metadata": {},
   "source": [
    "### Log plot for one borehole"
   ]
  },
  {
   "cell_type": "code",
   "execution_count": null,
   "metadata": {},
   "outputs": [],
   "source": [
    "at = 0\n",
    "n = 0\n",
    "repr_att = attributes[at]\n",
    "print(repr_att)"
   ]
  },
  {
   "cell_type": "code",
   "execution_count": null,
   "metadata": {},
   "outputs": [],
   "source": [
    "for i in p.boreholes_3d[n].intervals:\n",
    "    for c in i.components:\n",
    "        if hasattr(c, repr_att): print(i.top.middle, i.base.middle, c)"
   ]
  },
  {
   "cell_type": "code",
   "execution_count": null,
   "metadata": {},
   "outputs": [],
   "source": [
    "p.boreholes_3d[n].plot_log(repr_attribute=repr_att)"
   ]
  },
  {
   "cell_type": "markdown",
   "metadata": {},
   "source": [
    "### 3D display of one borehole"
   ]
  },
  {
   "cell_type": "code",
   "execution_count": null,
   "metadata": {},
   "outputs": [],
   "source": [
    "p.boreholes_3d[n].plot_3d(repr_attribute=repr_att)"
   ]
  },
  {
   "cell_type": "markdown",
   "metadata": {},
   "source": [
    "### Localization of project boreholes"
   ]
  },
  {
   "cell_type": "raw",
   "metadata": {},
   "source": [
    "p.plot_map()"
   ]
  },
  {
   "cell_type": "markdown",
   "metadata": {},
   "source": [
    "### 3D display of project boreholes"
   ]
  },
  {
   "cell_type": "code",
   "execution_count": null,
   "metadata": {},
   "outputs": [],
   "source": [
    "pause"
   ]
  },
  {
   "cell_type": "code",
   "execution_count": null,
   "metadata": {},
   "outputs": [],
   "source": [
    "p.plot_3d(repr_attribute=repr_att, labels_size=15, bg_color=[\"royalblue\", \"aliceblue\"], \n",
    "         window_size=(800, 600), verbose=True)"
   ]
  },
  {
   "cell_type": "code",
   "execution_count": null,
   "metadata": {},
   "outputs": [],
   "source": []
  }
 ],
 "metadata": {
  "kernelspec": {
   "display_name": "Python 3 (ipykernel)",
   "language": "python",
   "name": "python3"
  },
  "language_info": {
   "codemirror_mode": {
    "name": "ipython",
    "version": 3
   },
   "file_extension": ".py",
   "mimetype": "text/x-python",
   "name": "python",
   "nbconvert_exporter": "python",
   "pygments_lexer": "ipython3",
   "version": "3.8.10"
  }
 },
 "nbformat": 4,
 "nbformat_minor": 4
}
