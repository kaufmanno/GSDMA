{
 "cells": [
  {
   "cell_type": "markdown",
   "id": "indonesian-alloy",
   "metadata": {},
   "source": [
    "# Concatenate boreholes"
   ]
  },
  {
   "cell_type": "code",
   "execution_count": 1,
   "id": "national-opera",
   "metadata": {},
   "outputs": [],
   "source": [
    "%matplotlib widget"
   ]
  },
  {
   "cell_type": "raw",
   "id": "demanding-former",
   "metadata": {},
   "source": [
    "config Completer.use_jedi = False"
   ]
  },
  {
   "cell_type": "code",
   "execution_count": 2,
   "id": "naughty-clerk",
   "metadata": {},
   "outputs": [],
   "source": [
    "from utils.io import gen_id_dated, gdf_viewer, gdf_geom, gdf_merger\n",
    "import re, os\n",
    "import numpy as np\n",
    "import geopandas as gpd\n",
    "import pandas as pd\n",
    "from shapely.geometry import Point\n",
    "import datetime\n",
    "import matplotlib.pyplot as plt"
   ]
  },
  {
   "cell_type": "markdown",
   "id": "baking-nitrogen",
   "metadata": {},
   "source": [
    "# Formatage des données (fichiers excel)"
   ]
  },
  {
   "cell_type": "markdown",
   "id": "accepting-metabolism",
   "metadata": {},
   "source": [
    "Regrouper les infos sur les infos par type (forages, echantillons, ...) dans des fichiers csv"
   ]
  },
  {
   "cell_type": "markdown",
   "id": "current-taxation",
   "metadata": {},
   "source": [
    "## 1- Profils sols et données forages.xls\n",
    "* **Feuille : 'Données de forage'**"
   ]
  },
  {
   "cell_type": "code",
   "execution_count": 3,
   "id": "emerging-dylan",
   "metadata": {},
   "outputs": [],
   "source": [
    "tmp_dir='../../CF_data/synthese/Result_traitem/profils_sols_donnees_forages/'\n",
    "sheet='donnees_forage'"
   ]
  },
  {
   "cell_type": "code",
   "execution_count": 4,
   "id": "referenced-violin",
   "metadata": {
    "scrolled": false
   },
   "outputs": [
    {
     "name": "stdout",
     "output_type": "stream",
     "text": [
      "Rows : 25, columns : 15\n"
     ]
    },
    {
     "data": {
      "application/vnd.jupyter.widget-view+json": {
       "model_id": "e09111a83a4145eca901594195047dd3",
       "version_major": 2,
       "version_minor": 0
      },
      "text/plain": [
       "interactive(children=(IntSlider(value=10, description='rows', max=25, min=10, readout=False), IntSlider(value=…"
      ]
     },
     "metadata": {},
     "output_type": "display_data"
    }
   ],
   "source": [
    "tmp_for = pd.read_excel('../../CF_data/Data_UMONS/ouvrages/Profils sols et données forages.xls', sheet_name='Données de forage')#, skiprows=2)\n",
    "gdf_viewer(tmp_for)"
   ]
  },
  {
   "cell_type": "code",
   "execution_count": 5,
   "id": "beginning-mercy",
   "metadata": {},
   "outputs": [],
   "source": [
    "tmp_for.rename(columns={'Date':'Date_ouv','Profondeur':'Long_For', 'Méthode':'Method', \n",
    "                        'Diamètre forage':'Diam_For','Niv. Eau p/r sol':'Niv_Eau_sol',\n",
    "                        'PZ Prof.':'Long_Pz', 'PZ Diamètre':'Diam_Pz','PZ L.crépinée':'Long_Crep', \n",
    "                        'Société forage':'Societe'}, inplace=True)\n",
    "\n",
    "tmp_for=tmp_for[['ID', 'X', 'Y', 'Z', 'Date_ouv', 'Long_For', 'Diam_For', 'Long_Pz', 'Diam_Pz', 'Long_Crep',\n",
    "                 'Remarque','Niv_Eau_sol','Method', 'Societe']]"
   ]
  },
  {
   "cell_type": "code",
   "execution_count": 6,
   "id": "furnished-rally",
   "metadata": {},
   "outputs": [
    {
     "name": "stdout",
     "output_type": "stream",
     "text": [
      "Generation of ID-dated...\n",
      "Using column ' Date_ouv ' in the (geo)dataframe !\n",
      "Process ended, check you (geo)dataframe\n"
     ]
    }
   ],
   "source": [
    "tmp_for['Type'] = tmp_for['Long_Pz'].apply(lambda x: '' if pd.isnull(x) else 'Piezo')\n",
    "tmp_for['Refus'] = ''\n",
    "for i in range(len(tmp_for['Remarque'])):\n",
    "    val = str(tmp_for.loc[i,'Remarque'])\n",
    "    if re.search('[Bb]loqué', val) and re.search('[lL]aitier', val):\n",
    "        tmp_for.loc[i,'Refus'] = 'Laitier'\n",
    "    elif re.search('[Bb]loqué', val) and re.search('[Bb]éton', val):\n",
    "        tmp_for.loc[i,'Refus'] = 'Béton'\n",
    "    elif re.search('[Bb]loqué', val) and re.search('[Mm]atériaux', val):\n",
    "        tmp_for.loc[i,'Refus'] = 'Matériaux indurés' \n",
    "    else: \n",
    "        tmp_for.loc[i,'Refus'] = '' \n",
    "\n",
    "tmp_for['Diam_Pz_int'] = tmp_for['Diam_Pz'].apply(lambda x: pd.to_numeric(x.replace(' mm','').split('x')[1].strip(' m'))/1000 \n",
    "                                                  if not pd.isnull(x) else x)\n",
    "tmp_for['Diam_Pz_ext'] = tmp_for['Diam_Pz'].apply(lambda x: pd.to_numeric(x.replace(' mm','').split('x')[0].strip(' m'))/1000 \n",
    "                                                  if not pd.isnull(x) else x)\n",
    "tmp_for.insert(7, 'Diam_Pz_ext', tmp_for.pop('Diam_Pz_ext')) # move to a specified position\n",
    "tmp_for.insert(8, 'Diam_Pz_int', tmp_for.pop('Diam_Pz_int'))\n",
    "tmp_for.drop(columns=['Remarque', 'Diam_Pz'], axis=1, inplace=True)\n",
    "tmp_for.drop(tmp_for.query(\"ID!=ID\").index, inplace=True) # delete all ID='NaN' lines\n",
    "\n",
    "gen_id_dated(tmp_for,'ID','Date_ouv')  "
   ]
  },
  {
   "cell_type": "code",
   "execution_count": 7,
   "id": "molecular-contrast",
   "metadata": {
    "scrolled": false
   },
   "outputs": [
    {
     "name": "stdout",
     "output_type": "stream",
     "text": [
      "Rows : 25, columns : 17\n"
     ]
    },
    {
     "data": {
      "application/vnd.jupyter.widget-view+json": {
       "model_id": "8042fed41ef94802b6805fa0c8c018fd",
       "version_major": 2,
       "version_minor": 0
      },
      "text/plain": [
       "interactive(children=(IntSlider(value=10, description='rows', max=25, min=10, readout=False), IntSlider(value=…"
      ]
     },
     "metadata": {},
     "output_type": "display_data"
    }
   ],
   "source": [
    "gdf_viewer(tmp_for, cols=12)"
   ]
  },
  {
   "cell_type": "code",
   "execution_count": 8,
   "id": "northern-medication",
   "metadata": {},
   "outputs": [],
   "source": [
    "source_for=tmp_for.copy()"
   ]
  },
  {
   "cell_type": "code",
   "execution_count": 9,
   "id": "becoming-bouquet",
   "metadata": {},
   "outputs": [],
   "source": [
    "if not os.path.exists(tmp_dir):\n",
    "    os.makedirs(tmp_dir)\n",
    "    \n",
    "tmp_for.to_csv(tmp_dir+sheet+'.csv', index=False)\n",
    "source_for.to_csv(tmp_dir+'source_Boreholes.csv', index=False) #all Boreholes/piezo and trenches data in the source"
   ]
  },
  {
   "cell_type": "markdown",
   "id": "negative-crack",
   "metadata": {},
   "source": [
    "* **Feuille : 'Piézométrie'**"
   ]
  },
  {
   "cell_type": "code",
   "execution_count": 10,
   "id": "pregnant-creativity",
   "metadata": {},
   "outputs": [],
   "source": [
    "tmp_dir='../../CF_data/synthese/Result_traitem/profils_sols_donnees_forages/'\n",
    "sheet='piezometrie'"
   ]
  },
  {
   "cell_type": "code",
   "execution_count": 11,
   "id": "future-israeli",
   "metadata": {
    "scrolled": false
   },
   "outputs": [
    {
     "name": "stdout",
     "output_type": "stream",
     "text": [
      "Rows : 37, columns : 21\n"
     ]
    },
    {
     "data": {
      "application/vnd.jupyter.widget-view+json": {
       "model_id": "ab898e618c3540098b631e8ba1b8f3d1",
       "version_major": 2,
       "version_minor": 0
      },
      "text/plain": [
       "interactive(children=(IntSlider(value=10, description='rows', max=37, min=10, readout=False), IntSlider(value=…"
      ]
     },
     "metadata": {},
     "output_type": "display_data"
    }
   ],
   "source": [
    "tmp_for = pd.read_excel('../../CF_data/Data_UMONS/ouvrages/Profils sols et données forages.xls', sheet_name='Piézométrie', skiprows=1)\n",
    "gdf_viewer(tmp_for)"
   ]
  },
  {
   "cell_type": "code",
   "execution_count": 12,
   "id": "communist-white",
   "metadata": {
    "scrolled": false
   },
   "outputs": [
    {
     "name": "stdout",
     "output_type": "stream",
     "text": [
      "Rows : 11, columns : 2, Unique on 'ID': 11\n"
     ]
    },
    {
     "data": {
      "application/vnd.jupyter.widget-view+json": {
       "model_id": "a873e07f54aa49eab3cfdd07e02fedb3",
       "version_major": 2,
       "version_minor": 0
      },
      "text/plain": [
       "interactive(children=(IntSlider(value=10, description='rows', max=11, min=10, readout=False), IntSlider(value=…"
      ]
     },
     "metadata": {},
     "output_type": "display_data"
    }
   ],
   "source": [
    "merge_tmp=tmp_for[:11].copy()\n",
    "merge_tmp.reset_index(inplace=True, drop=True)\n",
    "merge_tmp.rename(columns={'z':'Z',}, inplace=True)\n",
    "merge_tmp=merge_tmp[['ID', 'Z']]\n",
    "#merge_tmp['Type']='Piezo'\n",
    "\n",
    "gdf_viewer(merge_tmp, un_val='ID')"
   ]
  },
  {
   "cell_type": "code",
   "execution_count": 13,
   "id": "recognized-charles",
   "metadata": {},
   "outputs": [],
   "source": [
    "a=0\n",
    "for x in tmp_for.columns:\n",
    "    if pd.isnull(tmp_for.loc[16,x]):\n",
    "        tmp_for.loc[16,x]='col'+str(a)\n",
    "    a+=1"
   ]
  },
  {
   "cell_type": "code",
   "execution_count": 14,
   "id": "heavy-market",
   "metadata": {},
   "outputs": [
    {
     "name": "stderr",
     "output_type": "stream",
     "text": [
      "/home/su530201/.local/share/virtualenvs/GSDMA-tJb-HgI6/lib/python3.8/site-packages/pandas/core/frame.py:4305: SettingWithCopyWarning: \n",
      "A value is trying to be set on a copy of a slice from a DataFrame\n",
      "\n",
      "See the caveats in the documentation: https://pandas.pydata.org/pandas-docs/stable/user_guide/indexing.html#returning-a-view-versus-a-copy\n",
      "  return super().drop(\n"
     ]
    }
   ],
   "source": [
    "tmp_for.loc[16]=tmp_for.loc[16].apply(lambda x : x if not pd.isnull(x) else '')\n",
    "tmp_for.columns = tmp_for.loc[16]\n",
    "tmp_for=tmp_for[17:]\n",
    "#tmp_for.rename_axis(None, inplace=True)\n",
    "tmp_for.reset_index(inplace=True, drop=True)\n",
    "\n",
    "tmp_for.drop(columns=[tmp_for.columns.to_list()[x] for x in range(0,8)\n",
    "                      if re.compile(r\"col|unnamed\").match(tmp_for.columns.to_list()[x])], axis=1, inplace=True) "
   ]
  },
  {
   "cell_type": "code",
   "execution_count": 15,
   "id": "english-television",
   "metadata": {},
   "outputs": [
    {
     "name": "stderr",
     "output_type": "stream",
     "text": [
      "/home/su530201/.local/share/virtualenvs/GSDMA-tJb-HgI6/lib/python3.8/site-packages/pandas/core/frame.py:4438: SettingWithCopyWarning: \n",
      "A value is trying to be set on a copy of a slice from a DataFrame\n",
      "\n",
      "See the caveats in the documentation: https://pandas.pydata.org/pandas-docs/stable/user_guide/indexing.html#returning-a-view-versus-a-copy\n",
      "  return super().rename(\n"
     ]
    }
   ],
   "source": [
    "tmp_for.rename(columns={'col8':'Date_prv', 'col9':'Terrain', 'col10':'ID', 'NP/piézo [m]':'Niv_Eau_Pz', \n",
    "                        'dim. piezo hors sol [m]':'haut_Pz_sol', 'NP/sol [m]':'Niv_Eau_sol', \n",
    "                        'Prof. piézo/piézo [m]':'Long_Pz', 'Prof. piézo/sol [m]':'Long_Pz_sol', \n",
    "                        'CE [mS/cm]':'CE','t° [°C]':'Temp', 'Observations':'Obsv'}, inplace=True)"
   ]
  },
  {
   "cell_type": "code",
   "execution_count": 16,
   "id": "polar-meeting",
   "metadata": {},
   "outputs": [
    {
     "name": "stdout",
     "output_type": "stream",
     "text": [
      "Rows : 20, columns : 13\n"
     ]
    },
    {
     "data": {
      "application/vnd.jupyter.widget-view+json": {
       "model_id": "bd5b25e49e894f478e92947492c7469d",
       "version_major": 2,
       "version_minor": 0
      },
      "text/plain": [
       "interactive(children=(IntSlider(value=10, description='rows', max=20, min=10, readout=False), IntSlider(value=…"
      ]
     },
     "metadata": {},
     "output_type": "display_data"
    }
   ],
   "source": [
    "gdf_viewer(tmp_for)"
   ]
  },
  {
   "cell_type": "code",
   "execution_count": 17,
   "id": "significant-november",
   "metadata": {
    "scrolled": true
   },
   "outputs": [
    {
     "name": "stderr",
     "output_type": "stream",
     "text": [
      "<ipython-input-17-767abb4af3b4>:1: SettingWithCopyWarning: \n",
      "A value is trying to be set on a copy of a slice from a DataFrame.\n",
      "Try using .loc[row_indexer,col_indexer] = value instead\n",
      "\n",
      "See the caveats in the documentation: https://pandas.pydata.org/pandas-docs/stable/user_guide/indexing.html#returning-a-view-versus-a-copy\n",
      "  tmp_for['Type'] = tmp_for['Long_Pz'].apply(lambda x: '' if pd.isnull(x) else 'Piezo')\n",
      "/home/su530201/.local/share/virtualenvs/GSDMA-tJb-HgI6/lib/python3.8/site-packages/pandas/core/frame.py:4521: SettingWithCopyWarning: \n",
      "A value is trying to be set on a copy of a slice from a DataFrame\n",
      "\n",
      "See the caveats in the documentation: https://pandas.pydata.org/pandas-docs/stable/user_guide/indexing.html#returning-a-view-versus-a-copy\n",
      "  return super().replace(\n",
      "<ipython-input-17-767abb4af3b4>:4: SettingWithCopyWarning: \n",
      "A value is trying to be set on a copy of a slice from a DataFrame.\n",
      "Try using .loc[row_indexer,col_indexer] = value instead\n",
      "\n",
      "See the caveats in the documentation: https://pandas.pydata.org/pandas-docs/stable/user_guide/indexing.html#returning-a-view-versus-a-copy\n",
      "  tmp_for['CE']=tmp_for['CE [µS/cm]'].apply(lambda x: x/1000\n",
      "/home/su530201/.local/share/virtualenvs/GSDMA-tJb-HgI6/lib/python3.8/site-packages/pandas/core/frame.py:4305: SettingWithCopyWarning: \n",
      "A value is trying to be set on a copy of a slice from a DataFrame\n",
      "\n",
      "See the caveats in the documentation: https://pandas.pydata.org/pandas-docs/stable/user_guide/indexing.html#returning-a-view-versus-a-copy\n",
      "  return super().drop(\n",
      "/home/su530201/.local/share/virtualenvs/GSDMA-tJb-HgI6/lib/python3.8/site-packages/pandas/core/indexing.py:1720: SettingWithCopyWarning: \n",
      "A value is trying to be set on a copy of a slice from a DataFrame.\n",
      "Try using .loc[row_indexer,col_indexer] = value instead\n",
      "\n",
      "See the caveats in the documentation: https://pandas.pydata.org/pandas-docs/stable/user_guide/indexing.html#returning-a-view-versus-a-copy\n",
      "  self._setitem_single_column(loc, value, pi)\n"
     ]
    }
   ],
   "source": [
    "tmp_for['Type'] = tmp_for['Long_Pz'].apply(lambda x: '' if pd.isnull(x) else 'Piezo')\n",
    "tmp_for.insert(0, 'ID', tmp_for.pop('ID')) # move to first column\n",
    "tmp_for.replace('-', np.nan, inplace=True)\n",
    "tmp_for['CE']=tmp_for['CE [µS/cm]'].apply(lambda x: x/1000 \n",
    "                                    if isinstance(x, float) and not pd.isnull(x) else np.nan) #\n",
    "tmp_for.drop('CE [µS/cm]', axis=1, inplace=True)\n",
    "tmp_for.loc[18, 'Niv_Eau_Pz']=np.nan\n",
    "#tmp_for['Date_prv']=tmp_for['Date_prv'].apply(lambda x : str(x.year) if not pd.isnull(x) else '')"
   ]
  },
  {
   "cell_type": "code",
   "execution_count": 18,
   "id": "entertaining-kingston",
   "metadata": {},
   "outputs": [
    {
     "data": {
      "text/html": [
       "<div>\n",
       "<style scoped>\n",
       "    .dataframe tbody tr th:only-of-type {\n",
       "        vertical-align: middle;\n",
       "    }\n",
       "\n",
       "    .dataframe tbody tr th {\n",
       "        vertical-align: top;\n",
       "    }\n",
       "\n",
       "    .dataframe thead th {\n",
       "        text-align: right;\n",
       "    }\n",
       "</style>\n",
       "<table border=\"1\" class=\"dataframe\">\n",
       "  <thead>\n",
       "    <tr style=\"text-align: right;\">\n",
       "      <th></th>\n",
       "      <th>ID</th>\n",
       "      <th>Z</th>\n",
       "      <th>Date_prv</th>\n",
       "      <th>Terrain</th>\n",
       "      <th>Niv_Eau_Pz</th>\n",
       "      <th>haut_Pz_sol</th>\n",
       "      <th>Niv_Eau_sol</th>\n",
       "      <th>Long_Pz</th>\n",
       "      <th>Long_Pz_sol</th>\n",
       "      <th>pH</th>\n",
       "      <th>CE</th>\n",
       "      <th>Temp</th>\n",
       "      <th>Obsv</th>\n",
       "      <th>Type</th>\n",
       "    </tr>\n",
       "  </thead>\n",
       "  <tbody>\n",
       "  </tbody>\n",
       "</table>\n",
       "</div>"
      ],
      "text/plain": [
       "Empty DataFrame\n",
       "Columns: [ID, Z, Date_prv, Terrain, Niv_Eau_Pz, haut_Pz_sol, Niv_Eau_sol, Long_Pz, Long_Pz_sol, pH, CE, Temp, Obsv, Type]\n",
       "Index: []"
      ]
     },
     "execution_count": 18,
     "metadata": {},
     "output_type": "execute_result"
    }
   ],
   "source": [
    "merge_tmp.merge(tmp_for, how='inner', left_on='ID', right_on='ID')"
   ]
  },
  {
   "cell_type": "code",
   "execution_count": 19,
   "id": "seventh-dairy",
   "metadata": {},
   "outputs": [],
   "source": [
    "merge_tmp=tmp_for.append(merge_tmp)"
   ]
  },
  {
   "cell_type": "code",
   "execution_count": 20,
   "id": "warming-intranet",
   "metadata": {},
   "outputs": [
    {
     "name": "stdout",
     "output_type": "stream",
     "text": [
      "Rows : 28, columns : 14, Unique on 'ID': 28\n"
     ]
    },
    {
     "data": {
      "application/vnd.jupyter.widget-view+json": {
       "model_id": "28c3ea2a28b345639401bf0c5073775d",
       "version_major": 2,
       "version_minor": 0
      },
      "text/plain": [
       "interactive(children=(IntSlider(value=10, description='rows', max=28, min=10, readout=False), IntSlider(value=…"
      ]
     },
     "metadata": {},
     "output_type": "display_data"
    }
   ],
   "source": [
    "merge_tmp.reset_index(inplace=True, drop=True)\n",
    "merge_tmp.drop(merge_tmp.query(\"ID!=ID\").index, inplace=True) # supprimer les lignes avec ID='NaN'\n",
    "merge_tmp.reset_index(inplace=True, drop=True)\n",
    "gdf_viewer(merge_tmp, un_val='ID')"
   ]
  },
  {
   "cell_type": "markdown",
   "id": "superior-textbook",
   "metadata": {},
   "source": [
    " ------------------------ Merge with **'source_..._data'** (sheets data merge into one file for each source) ----------------------"
   ]
  },
  {
   "cell_type": "code",
   "execution_count": 21,
   "id": "dimensional-palestine",
   "metadata": {},
   "outputs": [],
   "source": [
    "source_for, error_df=gdf_merger(source_for, merge_tmp, how='outer', col='ID')"
   ]
  },
  {
   "cell_type": "code",
   "execution_count": 22,
   "id": "virgin-billion",
   "metadata": {},
   "outputs": [
    {
     "name": "stdout",
     "output_type": "stream",
     "text": [
      "Rows : 42, columns : 26, Unique on 'ID': 42\n"
     ]
    },
    {
     "data": {
      "application/vnd.jupyter.widget-view+json": {
       "model_id": "b2a9fff755934c9bb8c2cee15f5eee69",
       "version_major": 2,
       "version_minor": 0
      },
      "text/plain": [
       "interactive(children=(IntSlider(value=3, description='rows', max=42, min=3, readout=False), IntSlider(value=12…"
      ]
     },
     "metadata": {},
     "output_type": "display_data"
    }
   ],
   "source": [
    "gdf_viewer(source_for, un_val='ID', rows=3) #source_df is a merge of all data treated in a source"
   ]
  },
  {
   "cell_type": "code",
   "execution_count": 23,
   "id": "instrumental-angola",
   "metadata": {},
   "outputs": [],
   "source": [
    "if not os.path.exists(tmp_dir):\n",
    "    os.makedirs(tmp_dir)\n",
    "    \n",
    "merge_tmp.to_csv(tmp_dir+sheet+'.csv', index=False)\n",
    "source_for.to_csv(tmp_dir+'source_Boreholes.csv', index=False) #all Boreholes/piezo and trenches data in the source"
   ]
  },
  {
   "cell_type": "markdown",
   "id": "exact-shanghai",
   "metadata": {},
   "source": [
    "* **Feuille : 'Equipement'**"
   ]
  },
  {
   "cell_type": "code",
   "execution_count": 24,
   "id": "aquatic-distance",
   "metadata": {},
   "outputs": [],
   "source": [
    "tmp_dir='../../CF_data/synthese/Result_traitem/profils_sols_donnees_forages/'\n",
    "sheet='Equipement'"
   ]
  },
  {
   "cell_type": "code",
   "execution_count": 25,
   "id": "dying-gentleman",
   "metadata": {
    "scrolled": false
   },
   "outputs": [
    {
     "name": "stdout",
     "output_type": "stream",
     "text": [
      "Rows : 36, columns : 7\n"
     ]
    },
    {
     "data": {
      "application/vnd.jupyter.widget-view+json": {
       "model_id": "551bc41baf14407098c6d5f5116760c4",
       "version_major": 2,
       "version_minor": 0
      },
      "text/plain": [
       "interactive(children=(IntSlider(value=10, description='rows', max=36, min=10, readout=False), IntSlider(value=…"
      ]
     },
     "metadata": {},
     "output_type": "display_data"
    }
   ],
   "source": [
    "tmp_for = pd.read_excel('../../CF_data/Data_UMONS/ouvrages/Profils sols et données forages.xls', sheet_name='Equipement')#, skiprows=1)\n",
    "gdf_viewer(tmp_for)"
   ]
  },
  {
   "cell_type": "code",
   "execution_count": 26,
   "id": "removable-india",
   "metadata": {},
   "outputs": [],
   "source": [
    "tmp_for.rename(columns={'Diam. Forage':'Diam_For', 'Diamètre ext. PZ':'Diam_ext_Pz'}, inplace=True)\n",
    "tmp_for[['Crep_top','Crep_base','Bent_top','Bent_base']]=np.nan"
   ]
  },
  {
   "cell_type": "code",
   "execution_count": 27,
   "id": "blind-sheep",
   "metadata": {},
   "outputs": [],
   "source": [
    "for idx, row in tmp_for.iterrows():\n",
    "    if row['Légende']=='Bentonite':\n",
    "        tmp_for.loc[idx,'Bent_top']=row['De']\n",
    "        tmp_for.loc[idx,'Bent_base']=row['A']\n",
    "    elif row['Légende']==\"Crépine\":\n",
    "        tmp_for.loc[idx,'Crep_top']=row['De']\n",
    "        tmp_for.loc[idx,'Crep_base']=row['A']"
   ]
  },
  {
   "cell_type": "code",
   "execution_count": 28,
   "id": "governing-plasma",
   "metadata": {},
   "outputs": [],
   "source": [
    "i=0\n",
    "for idx in range(len(tmp_for)-1):\n",
    "    i+=1\n",
    "    if tmp_for.loc[idx,'ID']==tmp_for.loc[i,'ID'] and pd.isnull(tmp_for.loc[idx,'Crep_top']) and not pd.isnull(tmp_for.loc[i,'Crep_top']):\n",
    "        tmp_for.loc[idx,'Crep_top']=tmp_for.loc[i,'Crep_top']\n",
    "        tmp_for.loc[idx,'Crep_base']=tmp_for.loc[i,'Crep_base']\n",
    "        \n",
    "    elif tmp_for.loc[idx,'ID']==tmp_for.loc[i,'ID'] and pd.isnull(tmp_for.loc[idx,'Bent_top']) and not pd.isnull(tmp_for.loc[i,'Bent_top']):\n",
    "        tmp_for.loc[idx,'Bent_top']=tmp_for.loc[i,'Bent_top']\n",
    "        tmp_for.loc[idx,'Bent_base']=tmp_for.loc[i,'Bent_base']"
   ]
  },
  {
   "cell_type": "code",
   "execution_count": 29,
   "id": "headed-attack",
   "metadata": {},
   "outputs": [
    {
     "name": "stderr",
     "output_type": "stream",
     "text": [
      "<ipython-input-29-3dfe015cc0a3>:2: SettingWithCopyWarning: \n",
      "A value is trying to be set on a copy of a slice from a DataFrame\n",
      "\n",
      "See the caveats in the documentation: https://pandas.pydata.org/pandas-docs/stable/user_guide/indexing.html#returning-a-view-versus-a-copy\n",
      "  tmp_for.drop_duplicates('ID', inplace=True)\n",
      "<ipython-input-29-3dfe015cc0a3>:4: SettingWithCopyWarning: \n",
      "A value is trying to be set on a copy of a slice from a DataFrame.\n",
      "Try using .loc[row_indexer,col_indexer] = value instead\n",
      "\n",
      "See the caveats in the documentation: https://pandas.pydata.org/pandas-docs/stable/user_guide/indexing.html#returning-a-view-versus-a-copy\n",
      "  tmp_for['Type']='Piezo'\n"
     ]
    }
   ],
   "source": [
    "tmp_for=tmp_for[['ID','Diam_For','Diam_ext_Pz','Crep_top','Crep_base','Bent_top','Bent_base']]\n",
    "tmp_for.drop_duplicates('ID', inplace=True)\n",
    "tmp_for.reset_index(inplace=True, drop=True)\n",
    "tmp_for['Type']='Piezo'"
   ]
  },
  {
   "cell_type": "code",
   "execution_count": 30,
   "id": "tough-jamaica",
   "metadata": {},
   "outputs": [
    {
     "name": "stdout",
     "output_type": "stream",
     "text": [
      "Rows : 12, columns : 8, Unique on 'ID': 12\n"
     ]
    },
    {
     "data": {
      "application/vnd.jupyter.widget-view+json": {
       "model_id": "764b9efe183447aeaef934f2a7de274d",
       "version_major": 2,
       "version_minor": 0
      },
      "text/plain": [
       "interactive(children=(IntSlider(value=3, description='rows', max=12, min=3, readout=False), IntSlider(value=8,…"
      ]
     },
     "metadata": {},
     "output_type": "display_data"
    }
   ],
   "source": [
    "gdf_viewer(tmp_for, un_val='ID', rows=3)"
   ]
  },
  {
   "cell_type": "markdown",
   "id": "catholic-translator",
   "metadata": {},
   "source": [
    " ------------------------ Merge with **'source_..._data'** (sheets data merge into one file for each source) ----------------------"
   ]
  },
  {
   "cell_type": "code",
   "execution_count": 31,
   "id": "bizarre-controversy",
   "metadata": {
    "scrolled": true
   },
   "outputs": [
    {
     "name": "stdout",
     "output_type": "stream",
     "text": [
      "Ambiguous values in both columns compared, change it manually !\n",
      "Columns ['Diam_For_x', 'Diam_For_y'] [16, 19, 20, 24] must be dropped manually !\n",
      "\n",
      "Creation of a dataframe for ambiguous values, check it !\n"
     ]
    }
   ],
   "source": [
    "source_for, error_df = gdf_merger(source_for, tmp_for, how='outer', col='ID')"
   ]
  },
  {
   "cell_type": "code",
   "execution_count": 32,
   "id": "separate-painting",
   "metadata": {},
   "outputs": [
    {
     "name": "stdout",
     "output_type": "stream",
     "text": [
      "Rows : 42, columns : 33\n"
     ]
    },
    {
     "data": {
      "application/vnd.jupyter.widget-view+json": {
       "model_id": "170897ccad5f47a49aca9fe8f2844d59",
       "version_major": 2,
       "version_minor": 0
      },
      "text/plain": [
       "interactive(children=(IntSlider(value=10, description='rows', max=42, min=10, readout=False), IntSlider(value=…"
      ]
     },
     "metadata": {},
     "output_type": "display_data"
    },
    {
     "name": "stdout",
     "output_type": "stream",
     "text": [
      "Rows : 4, columns : 3\n"
     ]
    },
    {
     "data": {
      "application/vnd.jupyter.widget-view+json": {
       "model_id": "a39fe4edf9994d7487b7e6f79fe00377",
       "version_major": 2,
       "version_minor": 0
      },
      "text/plain": [
       "interactive(children=(IntSlider(value=4, description='rows', max=4, min=4, readout=False), IntSlider(value=3, …"
      ]
     },
     "metadata": {},
     "output_type": "display_data"
    },
    {
     "data": {
      "text/plain": [
       "(None, None)"
      ]
     },
     "execution_count": 32,
     "metadata": {},
     "output_type": "execute_result"
    }
   ],
   "source": [
    "gdf_viewer(source_for), gdf_viewer(error_df)"
   ]
  },
  {
   "cell_type": "markdown",
   "id": "saved-vinyl",
   "metadata": {},
   "source": [
    "--------->  Une verification à faire ici (en haut)"
   ]
  },
  {
   "cell_type": "code",
   "execution_count": 33,
   "id": "balanced-jewelry",
   "metadata": {},
   "outputs": [],
   "source": [
    "if not os.path.exists(tmp_dir):\n",
    "    os.makedirs(tmp_dir)\n",
    "    \n",
    "merge_tmp.to_csv(tmp_dir+sheet+'.csv', index=False)\n",
    "source_for.to_csv(tmp_dir+'source_Boreholes.csv', index=False) #all Boreholes/piezo and trenches data in the source"
   ]
  },
  {
   "cell_type": "markdown",
   "id": "expensive-darwin",
   "metadata": {},
   "source": [
    "* **Feuilles : 'Echantillon' + 'Organoleptique'**"
   ]
  },
  {
   "cell_type": "code",
   "execution_count": 34,
   "id": "altered-watershed",
   "metadata": {},
   "outputs": [],
   "source": [
    "tmp_dir='../../CF_data/synthese/Result_traitem/profils_sols_donnees_forages/'\n",
    "sheet='Echant-organo'"
   ]
  },
  {
   "cell_type": "code",
   "execution_count": 35,
   "id": "electoral-groove",
   "metadata": {
    "scrolled": false
   },
   "outputs": [
    {
     "name": "stdout",
     "output_type": "stream",
     "text": [
      "Rows : 29, columns : 4\n"
     ]
    },
    {
     "data": {
      "application/vnd.jupyter.widget-view+json": {
       "model_id": "0259ce92e4134a89a8497d6f09d9cc20",
       "version_major": 2,
       "version_minor": 0
      },
      "text/plain": [
       "interactive(children=(IntSlider(value=10, description='rows', max=29, min=10, readout=False), IntSlider(value=…"
      ]
     },
     "metadata": {},
     "output_type": "display_data"
    }
   ],
   "source": [
    "tmp_for = pd.read_excel('../../CF_data/Data_UMONS/ouvrages/Profils sols et données forages.xls', sheet_name='Echantillon')#, skiprows=1)\n",
    "gdf_viewer(tmp_for)"
   ]
  },
  {
   "cell_type": "code",
   "execution_count": 36,
   "id": "assured-melbourne",
   "metadata": {},
   "outputs": [],
   "source": [
    "tmp_for.rename(columns={'De':'Ech_top', 'A':'Ech_base', 'Numéro':'Ech_ID'}, inplace=True)"
   ]
  },
  {
   "cell_type": "code",
   "execution_count": 37,
   "id": "abroad-report",
   "metadata": {
    "scrolled": false
   },
   "outputs": [
    {
     "name": "stdout",
     "output_type": "stream",
     "text": [
      "Rows : 7, columns : 5\n"
     ]
    },
    {
     "data": {
      "application/vnd.jupyter.widget-view+json": {
       "model_id": "26a842eb9cc94e4e8d25108fc2f33737",
       "version_major": 2,
       "version_minor": 0
      },
      "text/plain": [
       "interactive(children=(IntSlider(value=7, description='rows', max=7, min=7, readout=False), IntSlider(value=5, …"
      ]
     },
     "metadata": {},
     "output_type": "display_data"
    }
   ],
   "source": [
    "merge_tmp = pd.read_excel('../../CF_data/Data_UMONS/ouvrages/Profils sols et données forages.xls', sheet_name='Organoleptique')#, skiprows=1)\n",
    "gdf_viewer(merge_tmp)"
   ]
  },
  {
   "cell_type": "code",
   "execution_count": 38,
   "id": "threaded-buying",
   "metadata": {},
   "outputs": [
    {
     "data": {
      "text/plain": [
       "['ID', 'De', 'A', 'Polluant', 'Intensité']"
      ]
     },
     "execution_count": 38,
     "metadata": {},
     "output_type": "execute_result"
    }
   ],
   "source": [
    "list(merge_tmp.columns)"
   ]
  },
  {
   "cell_type": "code",
   "execution_count": 39,
   "id": "threatened-ribbon",
   "metadata": {},
   "outputs": [],
   "source": [
    "merge_tmp.rename(columns={'De':'Pol_top', 'A':'Pol_base'}, inplace=True)"
   ]
  },
  {
   "cell_type": "code",
   "execution_count": 40,
   "id": "challenging-stability",
   "metadata": {},
   "outputs": [],
   "source": [
    "merge_tmp, error_df = gdf_merger(tmp_for, merge_tmp, 'outer', 'ID')\n",
    "merge_tmp['Type_ech']='Sol'\n",
    "merge_tmp.insert(4, 'Type_ech', merge_tmp.pop('Type_ech'))"
   ]
  },
  {
   "cell_type": "code",
   "execution_count": 41,
   "id": "governing-subject",
   "metadata": {},
   "outputs": [
    {
     "name": "stdout",
     "output_type": "stream",
     "text": [
      "Rows : 32, columns : 9\n"
     ]
    },
    {
     "data": {
      "application/vnd.jupyter.widget-view+json": {
       "model_id": "fab1a2f466be459b8b45e9d448a7febe",
       "version_major": 2,
       "version_minor": 0
      },
      "text/plain": [
       "interactive(children=(IntSlider(value=10, description='rows', max=32, min=10, readout=False), IntSlider(value=…"
      ]
     },
     "metadata": {},
     "output_type": "display_data"
    }
   ],
   "source": [
    "gdf_viewer(merge_tmp)"
   ]
  },
  {
   "cell_type": "code",
   "execution_count": 42,
   "id": "varying-confusion",
   "metadata": {},
   "outputs": [],
   "source": [
    "source_ech=merge_tmp.copy()"
   ]
  },
  {
   "cell_type": "code",
   "execution_count": 43,
   "id": "modified-imagination",
   "metadata": {},
   "outputs": [],
   "source": [
    "if not os.path.exists(tmp_dir):\n",
    "    os.makedirs(tmp_dir)\n",
    "    \n",
    "merge_tmp.to_csv(tmp_dir+sheet+'.csv', index=False)\n",
    "source_ech.to_csv(tmp_dir+'Source_Samples.csv', index=False) #all Samples and organoleptic data in the source"
   ]
  },
  {
   "cell_type": "code",
   "execution_count": 44,
   "id": "seven-break",
   "metadata": {},
   "outputs": [
    {
     "name": "stdout",
     "output_type": "stream",
     "text": [
      "Rows : 32, columns : 9, Unique on 'ID': 15\n"
     ]
    },
    {
     "data": {
      "application/vnd.jupyter.widget-view+json": {
       "model_id": "f1b9506c045a4ff795e9e78575353a2f",
       "version_major": 2,
       "version_minor": 0
      },
      "text/plain": [
       "interactive(children=(IntSlider(value=10, description='rows', max=32, min=10, readout=False), IntSlider(value=…"
      ]
     },
     "metadata": {},
     "output_type": "display_data"
    }
   ],
   "source": [
    "gdf_viewer(source_ech, un_val='ID')"
   ]
  },
  {
   "cell_type": "markdown",
   "id": "objective-california",
   "metadata": {},
   "source": [
    "* **Feuille : 'Log'**"
   ]
  },
  {
   "cell_type": "code",
   "execution_count": 45,
   "id": "loaded-house",
   "metadata": {},
   "outputs": [],
   "source": [
    "tmp_dir='../../CF_data/synthese/Result_traitem/profils_sols_donnees_forages/'\n",
    "sheet='Log'"
   ]
  },
  {
   "cell_type": "code",
   "execution_count": 46,
   "id": "stupid-theater",
   "metadata": {
    "scrolled": false
   },
   "outputs": [
    {
     "name": "stdout",
     "output_type": "stream",
     "text": [
      "Rows : 55, columns : 5\n"
     ]
    },
    {
     "data": {
      "application/vnd.jupyter.widget-view+json": {
       "model_id": "131d9d9b7292432691fa96151eafcf93",
       "version_major": 2,
       "version_minor": 0
      },
      "text/plain": [
       "interactive(children=(IntSlider(value=10, description='rows', max=55, min=10, readout=False), IntSlider(value=…"
      ]
     },
     "metadata": {},
     "output_type": "display_data"
    }
   ],
   "source": [
    "tmp_for = pd.read_excel('../../CF_data/Data_UMONS/ouvrages/Profils sols et données forages.xls', sheet_name='Log')#, skiprows=1)\n",
    "gdf_viewer(tmp_for)"
   ]
  },
  {
   "cell_type": "code",
   "execution_count": 47,
   "id": "aerial-atlanta",
   "metadata": {},
   "outputs": [],
   "source": [
    "tmp_for.rename(columns={'De':'Litho_top', 'A':'Litho_base'}, inplace=True)"
   ]
  },
  {
   "cell_type": "code",
   "execution_count": 48,
   "id": "actual-pickup",
   "metadata": {
    "scrolled": true
   },
   "outputs": [],
   "source": [
    "q=tmp_for.query('Keyword.str.contains(\".ointe\", regex=True)', engine='python').index\n",
    "tmp_for.drop(q, inplace=True)\n",
    "tmp_for.reset_index(drop=True, inplace=True)"
   ]
  },
  {
   "cell_type": "code",
   "execution_count": 49,
   "id": "wired-pepper",
   "metadata": {
    "scrolled": false
   },
   "outputs": [
    {
     "name": "stdout",
     "output_type": "stream",
     "text": [
      "Rows : 54, columns : 5\n"
     ]
    },
    {
     "data": {
      "application/vnd.jupyter.widget-view+json": {
       "model_id": "0bcdd19fa15044ccaaf14217681fb72a",
       "version_major": 2,
       "version_minor": 0
      },
      "text/plain": [
       "interactive(children=(IntSlider(value=10, description='rows', max=54, min=10, readout=False), IntSlider(value=…"
      ]
     },
     "metadata": {},
     "output_type": "display_data"
    }
   ],
   "source": [
    "gdf_viewer(tmp_for)"
   ]
  },
  {
   "cell_type": "code",
   "execution_count": 50,
   "id": "cheap-shepherd",
   "metadata": {},
   "outputs": [],
   "source": [
    "source_litho=tmp_for.copy()"
   ]
  },
  {
   "cell_type": "code",
   "execution_count": 51,
   "id": "worse-necklace",
   "metadata": {},
   "outputs": [],
   "source": [
    "if not os.path.exists(tmp_dir):\n",
    "    os.makedirs(tmp_dir)\n",
    "    \n",
    "tmp_for.to_csv(tmp_dir+sheet+'.csv', index=False)\n",
    "source_litho.to_csv(tmp_dir+'source_Lithology.csv', index=False) #all lithologies or descriptions data in the source"
   ]
  },
  {
   "cell_type": "markdown",
   "id": "seeing-devices",
   "metadata": {},
   "source": [
    "=============  attempt to create a lexicon from description ===============================\n",
    "\n",
    "A function must be write for this operation"
   ]
  },
  {
   "cell_type": "code",
   "execution_count": 52,
   "id": "metallic-protection",
   "metadata": {},
   "outputs": [
    {
     "name": "stdout",
     "output_type": "stream",
     "text": [
      "['', 'couleur', 'arable', 'déchets', 'pierreuse,', 'petite', '(briquaillons', '4', 'pollué.', \"d'eau\", 'foncé/noir', 'vert/ocre.', 'base.', 'argileux', \"d'égout.\", 'beige/orange', 'briquaillons', '3,6', '2,4', 'caillasse', 'irrisation', 'mélange', 'orange.', 'pierreuse', 'plus', 'odeur', 'liner.', 'verdâtre/brun', 'graveleuse', 'forte', '2.4', '2,8', 'présence', \"d'eau.\", 'du', 'verdâtre', 'scories', 'décehts', 'brique.', 'limoneuse', 'remblais', 'sidérurgiques', 'ocre', 'sableux', 'Entre', '4,8', 'beige', 'poussière', 'frais', 'la', 'sableuse', 'divers', 'laitier', 'hétérogène', 'hétérogènes', 'limoneux', 'sur', '-', 'graviers.', '3.3', 'centimétrique', 'cm', '0,5', 'en', 'décimétrique', 'béton', 'verdâtre.', 'cendrées', 'Strate', 'noire', 'devient', '0.6', 'charge', 'cendrée', 'limons', 'caillouteuse.', '?', 'terreux', 'Stabilisé', 'taille', 'Mélange', \"l'eau.\", 'Bloqué', 'foncé.', 'entre', 'graveleuse.', 'orange).', 'dans', 'puis', '2', 'orange', 'scories/limons', 'Traces', 'gris', 'signe', 'Alluvions', 'ocre/orange', 'strate', 'induré', 'centimétrique.', 'limon', 'souterraine.', 'hétérogène,', 'graviers/scories.', 'noir', '1,2', 'schiste,', 'base', 'A', 'pierreux', 'à', 'et', 'argileux.', 'Irrisation', 'texture', 'composé', 'Début', '0', 'des', 'de', 'briquaillons/graviers/scories', 'construction', 'orange/beige,', 'Présence', 'Béton', 'liner', 'orange/beige/blanc', 'passe', '6', 'liner,', 'm.', 'bloqué', '0,8', 'sableuse/présence', 'béton.', 'Vers', 'Remblais', 'brun.', '10-20', 'nettes', 'Limon', \"l'eau\", 'pollution', 'barriolé', 'pierreuse/graviers', 'Interface', 'vers', 'visible', 'm,', 'brique', 'graviers/scories/laitier', 'Limons', 'type', 'foncé', 'alluviaux', 'décimétrique.', 'Pas', 'brun', 'hétérogène.', 'caillasse.', 'nette', '1,9', 'm', 'scories,', 'Odeur', 'naphtalène.', 'remblais/limons', 'scories.', 'pur.', 'jaune/gris', 'constructions', 'avec', 'naphtalène', 'créosote/naphtalène', 'remblais,', 'Terre', 'laitier.', '5.5', \"d'odeur.\", '4,6', 'produit', \"d'hydrocarbures.\"]\n"
     ]
    }
   ],
   "source": [
    "kw=[]\n",
    "for i in range(len(tmp_for)):\n",
    "    kw=kw+tmp_for.loc[i, 'Description'].split(' ')\n",
    "kw=list(set(kw))\n",
    "print(kw)"
   ]
  },
  {
   "cell_type": "code",
   "execution_count": 53,
   "id": "latest-tolerance",
   "metadata": {},
   "outputs": [
    {
     "name": "stdout",
     "output_type": "stream",
     "text": [
      "['arable', 'couleur', 'déchets', 'pierreuse,', 'petite', '(briquaillons', 'foncé/noir', 'argileux', 'beige/orange', 'briquaillons', 'caillasse', 'irrisation', 'vert/ocre', 'mélange', 'pierreuse', 'plus', 'odeur', 'verdâtre/brun', 'graveleuse', 'forte', 'graviers', 'présence', 'verdâtre', 'orange)', 'scories', 'décehts', 'limoneuse', 'remblais', 'sidérurgiques', 'eau', 'ocre', 'sableux', 'Entre', 'beige', 'poussière', 'frais', 'sableuse', 'divers', 'laitier', 'hétérogène', 'hétérogènes', 'limoneux', 'sur', 'centimétrique', 'décimétrique', 'béton', 'cendrées', 'Strate', 'noire', 'caillouteuse', 'devient', 'charge', 'cendrée', 'limons', 'terreux', 'Stabilisé', 'taille', 'Mélange', 'Bloqué', 'entre', 'dans', 'puis', 'scories/limons', 'orange', 'signe', 'Traces', 'gris', 'Alluvions', 'ocre/orange', 'strate', 'induré', 'limon', 'hétérogène,', 'noir', 'graviers/scories', 'base', 'schiste,', 'hydrocarbures', 'pierreux', 'Irrisation', 'texture', 'composé', 'pollué', 'Début', 'des', 'briquaillons/graviers/scories', 'construction', 'orange/beige,', 'Présence', 'Béton', 'liner', 'orange/beige/blanc', 'passe', 'liner,', 'bloqué', 'sableuse/présence', 'Vers', 'Remblais', 'nettes', 'Limon', 'pollution', 'égout', 'barriolé', 'pierreuse/graviers', 'Interface', 'vers', 'visible', 'brique', 'graviers/scories/laitier', 'Limons', 'type', 'foncé', 'alluviaux', 'Pas', 'brun', 'nette', 'scories,', 'Odeur', 'remblais/limons', 'souterraine', 'jaune/gris', 'constructions', 'avec', 'pur', 'naphtalène', 'créosote/naphtalène', 'remblais,', 'Terre', 'produit']\n"
     ]
    }
   ],
   "source": [
    "lexic=[]\n",
    "for i in range(len(kw)):\n",
    "    if len(kw[i])>2 and not re.search('\\d.*',kw[i]): #to eliminate all 'one letter words' and all numbers\n",
    "        lexic=lexic+[re.sub(\"\\.|l'|d'\",\"\",kw[i])]\n",
    "lexic=list(set(lexic))\n",
    "print(lexic)"
   ]
  },
  {
   "cell_type": "code",
   "execution_count": 54,
   "id": "adopted-shuttle",
   "metadata": {},
   "outputs": [
    {
     "name": "stdout",
     "output_type": "stream",
     "text": [
      "['scories', 'dans']\n"
     ]
    }
   ],
   "source": [
    "#TODO: classify words in each category (may be based on a list of common words in these categories)\n",
    "#idea : load info in a file that save words if there are not in the list (with possibility to add or not)\n",
    "\n",
    "sep_common=['et', 'par', 'dans', 'scories'] #just an example\n",
    "sep_lex=[]\n",
    "#colour_lex=[]\n",
    "#litho_lex=[]\n",
    "#state_lex=[]\n",
    "#qtity_lex=[]\n",
    "#other_lex=[]\n",
    "\n",
    "for w in lexic:\n",
    "    if w in sep_common: \n",
    "        sep_lex=sep_lex+[w]\n",
    "print(sep_lex) #will be used for generate a striplog.Lexicon as a file.py"
   ]
  },
  {
   "cell_type": "markdown",
   "id": "active-serial",
   "metadata": {},
   "source": [
    "--------------------------------------------------------------------------------------------------------"
   ]
  },
  {
   "cell_type": "markdown",
   "id": "italian-benjamin",
   "metadata": {},
   "source": [
    "## 2-Database MEMORIS3.xlsx\n",
    "* **Feuille : 'PROFILS_SOL'**"
   ]
  },
  {
   "cell_type": "code",
   "execution_count": 55,
   "id": "metropolitan-juvenile",
   "metadata": {},
   "outputs": [],
   "source": [
    "tmp_dir='../../CF_data/synthese/Result_traitem/database_Memoris3/'\n",
    "sheet='PROFILS_SOL'"
   ]
  },
  {
   "cell_type": "code",
   "execution_count": 56,
   "id": "indirect-korean",
   "metadata": {
    "scrolled": false
   },
   "outputs": [
    {
     "name": "stdout",
     "output_type": "stream",
     "text": [
      "Rows : 2041, columns : 16\n"
     ]
    },
    {
     "data": {
      "application/vnd.jupyter.widget-view+json": {
       "model_id": "96b82de45afe49c093d97b534fa6e562",
       "version_major": 2,
       "version_minor": 0
      },
      "text/plain": [
       "interactive(children=(IntSlider(value=10, description='rows', max=2041, min=10, readout=False), IntSlider(valu…"
      ]
     },
     "metadata": {},
     "output_type": "display_data"
    }
   ],
   "source": [
    "tmp_for = pd.read_excel('../../CF_data/Data_UMONS/Contamination/Doc_SITEREM/Rapport de synthèse des études de sol et des eaux souterraines. '+\n",
    "                        'Siterem - 2017/Database MEMORIS3.xlsx', sheet_name='PROFILS_SOL')#, skiprows=2)\n",
    "gdf_viewer(tmp_for)"
   ]
  },
  {
   "cell_type": "code",
   "execution_count": 57,
   "id": "contained-poker",
   "metadata": {},
   "outputs": [],
   "source": [
    "tmp_for = tmp_for[['Date', 'N°', 'Id', 'Profondeur', 'Description', 'Piézo', 'Unnamed: 6',\n",
    "                             'Gouge Ø75', 'MFT Ø145', 'carottier', 'tarrière', 'Liner Ø60']] "
   ]
  },
  {
   "cell_type": "code",
   "execution_count": 58,
   "id": "typical-century",
   "metadata": {
    "scrolled": false
   },
   "outputs": [
    {
     "name": "stderr",
     "output_type": "stream",
     "text": [
      "/home/su530201/.local/share/virtualenvs/GSDMA-tJb-HgI6/lib/python3.8/site-packages/pandas/core/frame.py:4438: SettingWithCopyWarning: \n",
      "A value is trying to be set on a copy of a slice from a DataFrame\n",
      "\n",
      "See the caveats in the documentation: https://pandas.pydata.org/pandas-docs/stable/user_guide/indexing.html#returning-a-view-versus-a-copy\n",
      "  return super().rename(\n"
     ]
    }
   ],
   "source": [
    "tmp_for.rename({'Date':'Date_ouv', 'N°':'Ref', 'Id':'idx', 'Piézo':'Type', 'Unnamed: 6':'Societe',\n",
    "                'MFT Ø145':'MFT_145', 'Gouge Ø75':'Gouge_75', 'Liner Ø60': 'Liner_60'}, axis=1, inplace=True)"
   ]
  },
  {
   "cell_type": "code",
   "execution_count": 59,
   "id": "durable-infection",
   "metadata": {},
   "outputs": [
    {
     "name": "stdout",
     "output_type": "stream",
     "text": [
      "[NaT, 2009, 2010, 2015]\n"
     ]
    }
   ],
   "source": [
    "print(list(set(tmp_for['Date_ouv'].apply(lambda x: x.year if not pd.isnull(x) else x))))"
   ]
  },
  {
   "cell_type": "code",
   "execution_count": 60,
   "id": "supreme-ceiling",
   "metadata": {},
   "outputs": [
    {
     "name": "stderr",
     "output_type": "stream",
     "text": [
      "/home/su530201/.local/share/virtualenvs/GSDMA-tJb-HgI6/lib/python3.8/site-packages/pandas/core/indexing.py:1720: SettingWithCopyWarning: \n",
      "A value is trying to be set on a copy of a slice from a DataFrame.\n",
      "Try using .loc[row_indexer,col_indexer] = value instead\n",
      "\n",
      "See the caveats in the documentation: https://pandas.pydata.org/pandas-docs/stable/user_guide/indexing.html#returning-a-view-versus-a-copy\n",
      "  self._setitem_single_column(loc, value, pi)\n"
     ]
    }
   ],
   "source": [
    "tmp_for.loc[tmp_for.fillna('').query(\"Societe.str.contains('x|X')\").index, 'Type']='X'"
   ]
  },
  {
   "cell_type": "code",
   "execution_count": 61,
   "id": "legislative-gibraltar",
   "metadata": {},
   "outputs": [],
   "source": [
    "tmp_for.loc[tmp_for.fillna('').query(\"Gouge_75.str.contains('SBS|SITER')\").index, 'Societe']='SBS Environnement'\n",
    "tmp_for.loc[tmp_for.fillna('').query(\"Gouge_75.str.contains('SBS|SITER')\").index, 'Gouge_75']=''"
   ]
  },
  {
   "cell_type": "code",
   "execution_count": 62,
   "id": "creative-virginia",
   "metadata": {},
   "outputs": [],
   "source": [
    "for i in range(len(tmp_for['Date_ouv'])-1):\n",
    "    if not pd.isnull(tmp_for.loc[i, 'Date_ouv']) and pd.isnull(tmp_for.loc[i+1, 'Date_ouv']):\n",
    "        tmp_for.loc[i+1, 'Date_ouv']=tmp_for.loc[i, 'Date_ouv']\n",
    "        \n",
    "    if not pd.isnull(tmp_for.loc[i, 'Societe']) and pd.isnull(tmp_for.loc[i+1, 'Societe']):\n",
    "        tmp_for.loc[i+1, 'Societe']=tmp_for.loc[i, 'Societe']\n",
    "        \n",
    "    if not pd.isnull(tmp_for.loc[i, 'Type']) and pd.isnull(tmp_for.loc[i+1, 'Type']) and \\\n",
    "       tmp_for.loc[i, 'Ref']==tmp_for.loc[i+1, 'Ref']:\n",
    "        tmp_for.loc[i+1, 'Type']=tmp_for.loc[i, 'Type']"
   ]
  },
  {
   "cell_type": "code",
   "execution_count": 63,
   "id": "upper-candidate",
   "metadata": {},
   "outputs": [
    {
     "data": {
      "text/plain": [
       "\"      \\n    if tmp_for.loc[i,'Ref']==tmp_for.loc[i+1,'Ref'] and not pd.isnull(tmp_for.loc[i, 'Profondeur'])    and re.findall('Moni',tmp_for.loc[i, 'Profondeur']):\\n        tmp_for.loc[i+1,'idx']=tmp_for.loc[i, 'Profondeur'][0]+str(tmp_for.loc[i, 'Ref'])\\n        w=tmp_for.loc[i, 'Profondeur'][0]\\n    elif tmp_for.loc[i,'Ref']==tmp_for.loc[i+1,'Ref'] and not pd.isnull(tmp_for.loc[i, 'Profondeur']):\\n        tmp_for.loc[i+1,'idx']=w+str(tmp_for.loc[i, 'Ref'])\""
      ]
     },
     "execution_count": 63,
     "metadata": {},
     "output_type": "execute_result"
    }
   ],
   "source": [
    "for i in range(len(tmp_for['idx'])-1):\n",
    "    if tmp_for.loc[i,'Ref']==tmp_for.loc[i+1,'Ref'] and not pd.isnull(tmp_for.loc[i, 'Profondeur'])\\\n",
    "    and re.findall('Forage',tmp_for.loc[i, 'Profondeur']):\n",
    "        tmp_for.loc[i+1,'idx']=tmp_for.loc[i, 'Profondeur'][0]+str(tmp_for.loc[i, 'Ref'])\n",
    "        w=tmp_for.loc[i, 'Profondeur'][0]\n",
    "    elif tmp_for.loc[i,'Ref']==tmp_for.loc[i+1,'Ref'] and not pd.isnull(tmp_for.loc[i, 'Profondeur']):\n",
    "        tmp_for.loc[i+1,'idx']=w+str(tmp_for.loc[i, 'Ref'])\n",
    "    \n",
    "    if tmp_for.loc[i,'Ref']==tmp_for.loc[i+1,'Ref'] and not pd.isnull(tmp_for.loc[i, 'Profondeur'])\\\n",
    "    and re.findall('Tranch',tmp_for.loc[i, 'Profondeur']):\n",
    "        tmp_for.loc[i+1,'idx']=tmp_for.loc[i, 'Profondeur'][0]+str(tmp_for.loc[i, 'Ref'])\n",
    "        w=tmp_for.loc[i, 'Profondeur'][0]\n",
    "    elif tmp_for.loc[i,'Ref']==tmp_for.loc[i+1,'Ref'] and not pd.isnull(tmp_for.loc[i, 'Profondeur']):\n",
    "        tmp_for.loc[i+1,'idx']=w+str(tmp_for.loc[i, 'Ref'])\n",
    "\"\"\"      \n",
    "    if tmp_for.loc[i,'Ref']==tmp_for.loc[i+1,'Ref'] and not pd.isnull(tmp_for.loc[i, 'Profondeur'])\\\n",
    "    and re.findall('Moni',tmp_for.loc[i, 'Profondeur']):\n",
    "        tmp_for.loc[i+1,'idx']=tmp_for.loc[i, 'Profondeur'][0]+str(tmp_for.loc[i, 'Ref'])\n",
    "        w=tmp_for.loc[i, 'Profondeur'][0]\n",
    "    elif tmp_for.loc[i,'Ref']==tmp_for.loc[i+1,'Ref'] and not pd.isnull(tmp_for.loc[i, 'Profondeur']):\n",
    "        tmp_for.loc[i+1,'idx']=w+str(tmp_for.loc[i, 'Ref'])\"\"\""
   ]
  },
  {
   "cell_type": "code",
   "execution_count": 64,
   "id": "noticed-basement",
   "metadata": {},
   "outputs": [
    {
     "name": "stderr",
     "output_type": "stream",
     "text": [
      "<ipython-input-64-9f124d03735a>:1: SettingWithCopyWarning: \n",
      "A value is trying to be set on a copy of a slice from a DataFrame.\n",
      "Try using .loc[row_indexer,col_indexer] = value instead\n",
      "\n",
      "See the caveats in the documentation: https://pandas.pydata.org/pandas-docs/stable/user_guide/indexing.html#returning-a-view-versus-a-copy\n",
      "  tmp_for['Ref']=tmp_for['idx'].apply(lambda x : x if re.findall('F|T', str(x)) else '')\n",
      "<ipython-input-64-9f124d03735a>:2: SettingWithCopyWarning: \n",
      "A value is trying to be set on a copy of a slice from a DataFrame.\n",
      "Try using .loc[row_indexer,col_indexer] = value instead\n",
      "\n",
      "See the caveats in the documentation: https://pandas.pydata.org/pandas-docs/stable/user_guide/indexing.html#returning-a-view-versus-a-copy\n",
      "  tmp_for['Ref']=tmp_for['idx'].apply(lambda x : x.replace('Monito ', 'Mon') if re.findall('Monit', str(x)) else x)\n"
     ]
    }
   ],
   "source": [
    "tmp_for['Ref']=tmp_for['idx'].apply(lambda x : x if re.findall('F|T', str(x)) else '')\n",
    "tmp_for['Ref']=tmp_for['idx'].apply(lambda x : x.replace('Monito ', 'Mon') if re.findall('Monit', str(x)) else x)"
   ]
  },
  {
   "cell_type": "code",
   "execution_count": 65,
   "id": "ignored-community",
   "metadata": {},
   "outputs": [
    {
     "name": "stderr",
     "output_type": "stream",
     "text": [
      "<ipython-input-65-b3f980806ea8>:1: SettingWithCopyWarning: \n",
      "A value is trying to be set on a copy of a slice from a DataFrame.\n",
      "Try using .loc[row_indexer,col_indexer] = value instead\n",
      "\n",
      "See the caveats in the documentation: https://pandas.pydata.org/pandas-docs/stable/user_guide/indexing.html#returning-a-view-versus-a-copy\n",
      "  tmp_for['Type']=tmp_for['Type'].apply(lambda x: 'Piezo' if not pd.isnull(x) else '')\n"
     ]
    }
   ],
   "source": [
    "tmp_for['Type']=tmp_for['Type'].apply(lambda x: 'Piezo' if not pd.isnull(x) else '')"
   ]
  },
  {
   "cell_type": "code",
   "execution_count": 66,
   "id": "thrown-parent",
   "metadata": {},
   "outputs": [
    {
     "name": "stderr",
     "output_type": "stream",
     "text": [
      "<ipython-input-66-9d4c7d510ecf>:1: SettingWithCopyWarning: \n",
      "A value is trying to be set on a copy of a slice from a DataFrame.\n",
      "Try using .loc[row_indexer,col_indexer] = value instead\n",
      "\n",
      "See the caveats in the documentation: https://pandas.pydata.org/pandas-docs/stable/user_guide/indexing.html#returning-a-view-versus-a-copy\n",
      "  tmp_for['Ref']=tmp_for['Ref'].apply(lambda x: re.sub(\"\\.1\",\"a\",str(x)) if re.search(r\"\\.1\", str(x)) else x)\n",
      "<ipython-input-66-9d4c7d510ecf>:2: SettingWithCopyWarning: \n",
      "A value is trying to be set on a copy of a slice from a DataFrame.\n",
      "Try using .loc[row_indexer,col_indexer] = value instead\n",
      "\n",
      "See the caveats in the documentation: https://pandas.pydata.org/pandas-docs/stable/user_guide/indexing.html#returning-a-view-versus-a-copy\n",
      "  tmp_for['Ref']=tmp_for['Ref'].apply(lambda x: re.sub(\"\\.2\",\"b\",str(x)) if re.search(r\"\\.2\", str(x)) else x)\n",
      "<ipython-input-66-9d4c7d510ecf>:3: SettingWithCopyWarning: \n",
      "A value is trying to be set on a copy of a slice from a DataFrame.\n",
      "Try using .loc[row_indexer,col_indexer] = value instead\n",
      "\n",
      "See the caveats in the documentation: https://pandas.pydata.org/pandas-docs/stable/user_guide/indexing.html#returning-a-view-versus-a-copy\n",
      "  tmp_for['Ref']=tmp_for['Ref'].apply(lambda x: re.sub(\"\\.3\",\"c\",str(x)) if re.search(r\"\\.3\", str(x)) else x)\n",
      "<ipython-input-66-9d4c7d510ecf>:4: SettingWithCopyWarning: \n",
      "A value is trying to be set on a copy of a slice from a DataFrame.\n",
      "Try using .loc[row_indexer,col_indexer] = value instead\n",
      "\n",
      "See the caveats in the documentation: https://pandas.pydata.org/pandas-docs/stable/user_guide/indexing.html#returning-a-view-versus-a-copy\n",
      "  tmp_for['Ref']=tmp_for['Ref'].apply(lambda x: re.sub(\"\\.4\",\"d\",str(x)) if re.search(r\"\\.4\", str(x)) else x)\n"
     ]
    }
   ],
   "source": [
    "tmp_for['Ref']=tmp_for['Ref'].apply(lambda x: re.sub(\"\\.1\",\"a\",str(x)) if re.search(r\"\\.1\", str(x)) else x)\n",
    "tmp_for['Ref']=tmp_for['Ref'].apply(lambda x: re.sub(\"\\.2\",\"b\",str(x)) if re.search(r\"\\.2\", str(x)) else x)\n",
    "tmp_for['Ref']=tmp_for['Ref'].apply(lambda x: re.sub(\"\\.3\",\"c\",str(x)) if re.search(r\"\\.3\", str(x)) else x)\n",
    "tmp_for['Ref']=tmp_for['Ref'].apply(lambda x: re.sub(\"\\.4\",\"d\",str(x)) if re.search(r\"\\.4\", str(x)) else x)"
   ]
  },
  {
   "cell_type": "code",
   "execution_count": 69,
   "id": "photographic-speaking",
   "metadata": {},
   "outputs": [
    {
     "name": "stdout",
     "output_type": "stream",
     "text": [
      "Generation of ID-dated...\n",
      "Using column ' Date_ouv ' in the (geo)dataframe !\n",
      "Process ended, check you (geo)dataframe\n"
     ]
    },
    {
     "name": "stderr",
     "output_type": "stream",
     "text": [
      "/home/su530201/PycharmProjects/GSDMA/utils/io.py:650: SettingWithCopyWarning: \n",
      "A value is trying to be set on a copy of a slice from a DataFrame.\n",
      "Try using .loc[row_indexer,col_indexer] = value instead\n",
      "\n",
      "See the caveats in the documentation: https://pandas.pydata.org/pandas-docs/stable/user_guide/indexing.html#returning-a-view-versus-a-copy\n",
      "  gdf['ID_date'] = gdf[date_col].apply(lambda x : str(x.year) + '-' if not pd.isnull(x) else '') + gdf[ref_col].apply(lambda x : str(x) if not pd.isnull(x) else '')\n"
     ]
    }
   ],
   "source": [
    "gen_id_dated(tmp_for, ref_col='Ref', date_col='Date_ouv')"
   ]
  },
  {
   "cell_type": "code",
   "execution_count": 70,
   "id": "utility-state",
   "metadata": {
    "scrolled": true
   },
   "outputs": [],
   "source": [
    "tmp_for.loc[tmp_for.query('Profondeur!=Profondeur' ).index,'Profondeur']=''"
   ]
  },
  {
   "cell_type": "code",
   "execution_count": 71,
   "id": "impaired-viewer",
   "metadata": {},
   "outputs": [
    {
     "name": "stderr",
     "output_type": "stream",
     "text": [
      "<ipython-input-71-6af8b8a7f004>:1: SettingWithCopyWarning: \n",
      "A value is trying to be set on a copy of a slice from a DataFrame.\n",
      "Try using .loc[row_indexer,col_indexer] = value instead\n",
      "\n",
      "See the caveats in the documentation: https://pandas.pydata.org/pandas-docs/stable/user_guide/indexing.html#returning-a-view-versus-a-copy\n",
      "  tmp_for['Method']=''\n"
     ]
    }
   ],
   "source": [
    "tmp_for['Method']=''\n",
    "            \n",
    "for i in range(len(tmp_for['Method'])):\n",
    "    if not pd.isnull(tmp_for.loc[i, 'Gouge_75']) : tmp_for.loc[i, 'Method']='Gouge_75'\n",
    "    if not pd.isnull(tmp_for.loc[i, 'MFT_145']) : tmp_for.loc[i, 'Method']='MFT_145'\n",
    "    if not pd.isnull(tmp_for.loc[i, 'Liner_60']) : tmp_for.loc[i, 'Method']='Liner_60'\n",
    "    if not pd.isnull(tmp_for.loc[i, 'carottier']) : tmp_for.loc[i, 'Method']='carrotier'\n",
    "    if not pd.isnull(tmp_for.loc[i, 'tarrière']) : tmp_for.loc[i, 'Method']='tarrière'"
   ]
  },
  {
   "cell_type": "code",
   "execution_count": 72,
   "id": "relevant-bobby",
   "metadata": {},
   "outputs": [
    {
     "name": "stderr",
     "output_type": "stream",
     "text": [
      "/home/su530201/.local/share/virtualenvs/GSDMA-tJb-HgI6/lib/python3.8/site-packages/pandas/core/frame.py:4305: SettingWithCopyWarning: \n",
      "A value is trying to be set on a copy of a slice from a DataFrame\n",
      "\n",
      "See the caveats in the documentation: https://pandas.pydata.org/pandas-docs/stable/user_guide/indexing.html#returning-a-view-versus-a-copy\n",
      "  return super().drop(\n"
     ]
    }
   ],
   "source": [
    "tmp_for.drop(tmp_for.query('Profondeur.str.contains(\"Forage\") and Profondeur!=\"Forage bloqué\"', engine='python').index, inplace=True)\n",
    "tmp_for.drop(tmp_for.query('Profondeur.str.contains(\"Tranc\") and Profondeur!=\"Tranchée bloqué\"', engine='python').index, inplace=True)\n",
    "tmp_for.drop(tmp_for.query('Profondeur.str.contains(\".orage|..ranch\", regex=True)', engine='python').index, inplace=True)\n",
    "tmp_for.drop(tmp_for.fillna('').query('Description.str.contains(\"^.orage bloq|^.ranc.* bloq|^.*efus\", regex=True)', engine='python').index, inplace=True)\n",
    "tmp_for.drop(tmp_for.query('Ref!=Ref').index, inplace=True)\n",
    "tmp_for.drop(columns=['MFT_145','Gouge_75','Liner_60', 'carottier', 'tarrière', 'idx'], axis=1, inplace=True)\n",
    "tmp_for.reset_index(drop=True, inplace=True)"
   ]
  },
  {
   "cell_type": "code",
   "execution_count": 73,
   "id": "satisfied-entry",
   "metadata": {},
   "outputs": [
    {
     "name": "stderr",
     "output_type": "stream",
     "text": [
      "<ipython-input-73-d159d790a2d9>:1: SettingWithCopyWarning: \n",
      "A value is trying to be set on a copy of a slice from a DataFrame.\n",
      "Try using .loc[row_indexer,col_indexer] = value instead\n",
      "\n",
      "See the caveats in the documentation: https://pandas.pydata.org/pandas-docs/stable/user_guide/indexing.html#returning-a-view-versus-a-copy\n",
      "  tmp_for['Litho_top'] = tmp_for['Profondeur'].apply(lambda x: x.replace(',','.').split('-')[0].strip(' m'))\n",
      "<ipython-input-73-d159d790a2d9>:2: SettingWithCopyWarning: \n",
      "A value is trying to be set on a copy of a slice from a DataFrame.\n",
      "Try using .loc[row_indexer,col_indexer] = value instead\n",
      "\n",
      "See the caveats in the documentation: https://pandas.pydata.org/pandas-docs/stable/user_guide/indexing.html#returning-a-view-versus-a-copy\n",
      "  tmp_for['Litho_base'] = tmp_for['Profondeur'].apply(lambda x: x.replace(',','.').split('-')[-1].strip(' m'))\n"
     ]
    }
   ],
   "source": [
    "tmp_for['Litho_top'] = tmp_for['Profondeur'].apply(lambda x: x.replace(',','.').split('-')[0].strip(' m'))\n",
    "tmp_for['Litho_base'] = tmp_for['Profondeur'].apply(lambda x: x.replace(',','.').split('-')[-1].strip(' m'))"
   ]
  },
  {
   "cell_type": "code",
   "execution_count": 74,
   "id": "human-zimbabwe",
   "metadata": {},
   "outputs": [],
   "source": [
    "tmp_for.rename({'Ref':'ID'}, axis=1, inplace=True)\n",
    "if 'Profondeur' in tmp_for.columns: tmp_for.drop(columns=['Profondeur'], axis=1, inplace=True)"
   ]
  },
  {
   "cell_type": "code",
   "execution_count": 75,
   "id": "micro-hampton",
   "metadata": {},
   "outputs": [],
   "source": [
    "trenches=tmp_for.loc[tmp_for.query('ID_date.str.contains(\"T\")', engine='python').index]\n",
    "boreholes=tmp_for.loc[tmp_for.query('ID_date.str.contains(\"F\")', engine='python').index]"
   ]
  },
  {
   "cell_type": "code",
   "execution_count": 76,
   "id": "ignored-canon",
   "metadata": {},
   "outputs": [
    {
     "data": {
      "text/plain": [
       "(1588, 40)"
      ]
     },
     "execution_count": 76,
     "metadata": {},
     "output_type": "execute_result"
    }
   ],
   "source": [
    "len(boreholes), len(trenches)"
   ]
  },
  {
   "cell_type": "code",
   "execution_count": 77,
   "id": "fixed-sender",
   "metadata": {
    "scrolled": false
   },
   "outputs": [
    {
     "name": "stdout",
     "output_type": "stream",
     "text": [
      "Rows : 1629, columns : 9, Unique on 'ID': 299\n"
     ]
    },
    {
     "data": {
      "application/vnd.jupyter.widget-view+json": {
       "model_id": "eaca44b2077c4dc2bd040e24ed0d736e",
       "version_major": 2,
       "version_minor": 0
      },
      "text/plain": [
       "interactive(children=(IntSlider(value=10, description='rows', max=1629, min=10, readout=False), IntSlider(valu…"
      ]
     },
     "metadata": {},
     "output_type": "display_data"
    }
   ],
   "source": [
    "gdf_viewer(tmp_for, un_val='ID')"
   ]
  },
  {
   "cell_type": "code",
   "execution_count": 78,
   "id": "pressing-nirvana",
   "metadata": {},
   "outputs": [],
   "source": [
    "source_litho=tmp_for.copy()"
   ]
  },
  {
   "cell_type": "code",
   "execution_count": 79,
   "id": "driving-peoples",
   "metadata": {},
   "outputs": [],
   "source": [
    "if not os.path.exists(tmp_dir):\n",
    "    os.makedirs(tmp_dir)\n",
    "    \n",
    "tmp_for.to_csv(tmp_dir+sheet+'.csv', index=False)\n",
    "boreholes.to_csv(tmp_dir+sheet+'_BH.csv', index=False)\n",
    "trenches.to_csv(tmp_dir+sheet+'_TRCH.csv', index=False)\n",
    "source_litho.to_csv(tmp_dir+'source_Lithology.csv', index=False) #all lithologies or descriptions data in the source"
   ]
  },
  {
   "cell_type": "markdown",
   "id": "applied-dress",
   "metadata": {},
   "source": [
    "* **Feuille : 'DONNEES PIEZOS'**"
   ]
  },
  {
   "cell_type": "code",
   "execution_count": 80,
   "id": "young-nicholas",
   "metadata": {},
   "outputs": [],
   "source": [
    "tmp_dir='../../CF_data/synthese/Result_traitem/database_Memoris3/'\n",
    "sheet='Donnees_piezos'"
   ]
  },
  {
   "cell_type": "code",
   "execution_count": 81,
   "id": "comfortable-injection",
   "metadata": {
    "scrolled": false
   },
   "outputs": [
    {
     "name": "stdout",
     "output_type": "stream",
     "text": [
      "Rows : 147, columns : 186\n"
     ]
    },
    {
     "data": {
      "application/vnd.jupyter.widget-view+json": {
       "model_id": "9bb739de8758448a94e94f21e4065e8a",
       "version_major": 2,
       "version_minor": 0
      },
      "text/plain": [
       "interactive(children=(IntSlider(value=10, description='rows', max=147, min=10, readout=False), IntSlider(value…"
      ]
     },
     "metadata": {},
     "output_type": "display_data"
    }
   ],
   "source": [
    "tmp_for = pd.read_excel('../../CF_data/Data_UMONS/Contamination/Doc_SITEREM/Rapport de synthèse des études de sol et des eaux souterraines. '+\n",
    "                        'Siterem - 2017/Database MEMORIS3.xlsx', sheet_name='DONNEES PIEZOS', skiprows=2)\n",
    "gdf_viewer(tmp_for)"
   ]
  },
  {
   "cell_type": "code",
   "execution_count": 82,
   "id": "multiple-passage",
   "metadata": {},
   "outputs": [],
   "source": [
    "tmp_survey=tmp_for[[tmp_for.columns.to_list()[1]]+tmp_for.columns.to_list()[13:17]]\n",
    "tmp_for=tmp_for[tmp_for.columns.to_list()[1:13]+tmp_for.columns.to_list()[17:22]]"
   ]
  },
  {
   "cell_type": "code",
   "execution_count": 83,
   "id": "catholic-batch",
   "metadata": {},
   "outputs": [
    {
     "name": "stderr",
     "output_type": "stream",
     "text": [
      "/home/su530201/.local/share/virtualenvs/GSDMA-tJb-HgI6/lib/python3.8/site-packages/pandas/core/frame.py:4438: SettingWithCopyWarning: \n",
      "A value is trying to be set on a copy of a slice from a DataFrame\n",
      "\n",
      "See the caveats in the documentation: https://pandas.pydata.org/pandas-docs/stable/user_guide/indexing.html#returning-a-view-versus-a-copy\n",
      "  return super().rename(\n"
     ]
    }
   ],
   "source": [
    "tmp_for.rename(columns={'Campagne':'Societe','N_piezo.':'ID','X [m]':'X','Y [m]':'Y','Z tête PZ [m]':'Z',\n",
    "                        'Zsol [m]':'Zsol', 'Prof_PZ [m]':'Long_Pz','Section_crépinée [m]':'Long_Crep',\n",
    "                        'Diamètre_int [m]':'Diam_Pz_int','Surnageant [cm]':'Surnageant','Sousnageant [cm]':'Sousnageant',\n",
    "                        'Description éch. \\nOd/turb.':'Opacite_eau','Remarques':'Organoleptique'}, inplace=True)\n",
    "\n",
    "#tmp_for=tmp_for[['ID','X', 'Y', 'Z', 'Zsol', 'Long_Pz', 'Long_Crep', 'Diam_Pz_int', 'Societe']]#[:130]\n",
    "tmp_for=tmp_for.query(\"ID ==ID\")\n",
    "tmp_for.replace('-',np.nan, inplace=True)"
   ]
  },
  {
   "cell_type": "code",
   "execution_count": 84,
   "id": "fiscal-triple",
   "metadata": {},
   "outputs": [],
   "source": [
    "tmp_for['Type']=tmp_for['Long_Crep'].apply(lambda x: 'Piezo' if not pd.isnull(x) else '')"
   ]
  },
  {
   "cell_type": "code",
   "execution_count": 85,
   "id": "pretty-muscle",
   "metadata": {},
   "outputs": [
    {
     "name": "stdout",
     "output_type": "stream",
     "text": [
      "Rows : 130, columns : 18, Unique on 'ID': 130\n"
     ]
    },
    {
     "data": {
      "application/vnd.jupyter.widget-view+json": {
       "model_id": "484d586cb0b2474786d71907614283bb",
       "version_major": 2,
       "version_minor": 0
      },
      "text/plain": [
       "interactive(children=(IntSlider(value=10, description='rows', max=130, min=10, readout=False), IntSlider(value…"
      ]
     },
     "metadata": {},
     "output_type": "display_data"
    }
   ],
   "source": [
    "gdf_viewer(tmp_for, un_val='ID') # all units in [m]"
   ]
  },
  {
   "cell_type": "code",
   "execution_count": 86,
   "id": "recorded-exposure",
   "metadata": {},
   "outputs": [],
   "source": [
    "tmp_for=tmp_for[['ID','Societe','X','Y','Z','Zsol','Type','Aquifère','Long_Pz','Long_Crep','Diam_Pz_int', 'Surnageant', \n",
    "         'Sousnageant','Caractéristique', 'Organoleptique', 'Opacite_eau','Zone', 'Sous_zone']]"
   ]
  },
  {
   "cell_type": "code",
   "execution_count": 87,
   "id": "bright-mainland",
   "metadata": {},
   "outputs": [
    {
     "name": "stderr",
     "output_type": "stream",
     "text": [
      "/home/su530201/.local/share/virtualenvs/GSDMA-tJb-HgI6/lib/python3.8/site-packages/pandas/core/frame.py:4438: SettingWithCopyWarning: \n",
      "A value is trying to be set on a copy of a slice from a DataFrame\n",
      "\n",
      "See the caveats in the documentation: https://pandas.pydata.org/pandas-docs/stable/user_guide/indexing.html#returning-a-view-versus-a-copy\n",
      "  return super().rename(\n"
     ]
    }
   ],
   "source": [
    "tmp_survey.rename(columns={'N_piezo.':'ID'}, inplace=True)\n",
    "tmp_survey=tmp_survey.query(\"ID==ID\")"
   ]
  },
  {
   "cell_type": "code",
   "execution_count": 88,
   "id": "powerful-spiritual",
   "metadata": {},
   "outputs": [],
   "source": [
    "tmp_mes=pd.DataFrame()\n",
    "col=tmp_survey.columns.to_list()\n",
    "mes_id=0\n",
    "\n",
    "for i in range(len(tmp_survey)):\n",
    "    for j in range(1,len(col)):\n",
    "        d=col[j].strip('\\n|.1').split('/')\n",
    "        tmp_mes.loc[mes_id,'Date_Mes']=datetime.date(int(d[2]), int(d[1]), int(d[0]))\n",
    "        tmp_mes.loc[mes_id,'ID']=str(tmp_survey.loc[i,'ID'])\n",
    "        \n",
    "        if j<=2: \n",
    "            tmp_mes.loc[mes_id,'Niv_Eau_Pz']=tmp_survey.iloc[i,j]\n",
    "            tmp_mes.loc[mes_id,'Niv_Eau_sol']=tmp_survey.iloc[i,j+2]\n",
    "            mes_id+=1\n",
    "\n",
    "tmp_mes=tmp_mes.sort_values('Date_Mes').reset_index(drop=True)\n",
    "tmp_mes['Mes_ID']=tmp_mes['ID'].apply(lambda x: 'Mes_'+str(x))\n",
    "tmp_mes.insert(0, 'Mes_ID', tmp_mes.pop('Mes_ID'))"
   ]
  },
  {
   "cell_type": "code",
   "execution_count": 89,
   "id": "speaking-cancer",
   "metadata": {},
   "outputs": [],
   "source": [
    "source_for=tmp_for.copy()\n",
    "source_survey=tmp_mes.copy()"
   ]
  },
  {
   "cell_type": "code",
   "execution_count": 90,
   "id": "narrative-boulder",
   "metadata": {},
   "outputs": [
    {
     "name": "stdout",
     "output_type": "stream",
     "text": [
      "Rows : 261, columns : 5\n"
     ]
    },
    {
     "data": {
      "application/vnd.jupyter.widget-view+json": {
       "model_id": "aadf9b904da44e9aaec2ccc95f090168",
       "version_major": 2,
       "version_minor": 0
      },
      "text/plain": [
       "interactive(children=(IntSlider(value=10, description='rows', max=261, min=10, readout=False), IntSlider(value…"
      ]
     },
     "metadata": {},
     "output_type": "display_data"
    }
   ],
   "source": [
    "gdf_viewer(source_survey)"
   ]
  },
  {
   "cell_type": "code",
   "execution_count": 91,
   "id": "pretty-means",
   "metadata": {},
   "outputs": [],
   "source": [
    "if not os.path.exists(tmp_dir):\n",
    "    os.makedirs(tmp_dir)"
   ]
  },
  {
   "cell_type": "code",
   "execution_count": 92,
   "id": "skilled-rubber",
   "metadata": {},
   "outputs": [],
   "source": [
    "tmp_for.to_csv(tmp_dir+sheet+'_BH.csv', index=False)\n",
    "tmp_mes.to_csv(tmp_dir+sheet+'_SRV.csv', index=False)"
   ]
  },
  {
   "cell_type": "code",
   "execution_count": 93,
   "id": "otherwise-jumping",
   "metadata": {},
   "outputs": [],
   "source": [
    "source_for.to_csv(tmp_dir+'source_Boreholes.csv', index=False) #all boreholes data in the source\n",
    "#source_litho.to_csv(tmp_dir+'source_Lithology.csv', index=False) #all lithologies or descriptions data in the source\n",
    "#source_ech.to_csv(tmp_dir+'Source_Samples.csv', index=False) #all Samples and organoleptic data in the source\n",
    "#source_analysis.to_csv(tmp_dir+'source_Analysis.csv', index=False) #all analysis data in the source\n",
    "source_survey.to_csv(tmp_dir+'source_Survey.csv', index=False) #all parameters' survey data in the source"
   ]
  },
  {
   "cell_type": "markdown",
   "id": "extended-collection",
   "metadata": {},
   "source": [
    "* **Feuille : 'DRAINS ET PIEZOS ENEL'**"
   ]
  },
  {
   "cell_type": "code",
   "execution_count": 94,
   "id": "visible-rogers",
   "metadata": {},
   "outputs": [],
   "source": [
    "tmp_dir='../../CF_data/synthese/Result_traitem/database_Memoris3/'\n",
    "sheet='Drains_Pz_ENEL'"
   ]
  },
  {
   "cell_type": "code",
   "execution_count": 95,
   "id": "sublime-thomson",
   "metadata": {},
   "outputs": [
    {
     "name": "stdout",
     "output_type": "stream",
     "text": [
      "Rows : 147, columns : 68\n"
     ]
    },
    {
     "data": {
      "application/vnd.jupyter.widget-view+json": {
       "model_id": "795e2e2b64ec43318fd59a9cebc6952f",
       "version_major": 2,
       "version_minor": 0
      },
      "text/plain": [
       "interactive(children=(IntSlider(value=10, description='rows', max=147, min=10, readout=False), IntSlider(value…"
      ]
     },
     "metadata": {},
     "output_type": "display_data"
    }
   ],
   "source": [
    "tmp_for = pd.read_excel('../../CF_data/Data_UMONS/Contamination/Doc_SITEREM/Rapport de synthèse des études de sol et des eaux souterraines. Siterem - 2017/Database MEMORIS3.xlsx', \n",
    "                        sheet_name='DRAINS ET PIEZOS ENEL', skiprows=1)\n",
    "gdf_viewer(tmp_for)"
   ]
  },
  {
   "cell_type": "code",
   "execution_count": 96,
   "id": "temporal-defendant",
   "metadata": {},
   "outputs": [],
   "source": [
    "tmp_for.rename(columns={'N°':'ID', 'Date ':'Date_prv','Hauteur de la chambre ':'Ht_Chbre','T':'Temp'}, inplace=True)\n",
    "\n",
    "tmp_mes=tmp_for[tmp_for.columns.to_list()[:2]+tmp_for.columns.to_list()[10:-2]]\n",
    "tmp_for=tmp_for[tmp_for.columns.to_list()[:7]]"
   ]
  },
  {
   "cell_type": "code",
   "execution_count": 97,
   "id": "acute-character",
   "metadata": {
    "scrolled": true
   },
   "outputs": [
    {
     "data": {
      "text/plain": [
       "['ID', 'Date_prv', 'ETUDE', 'X', 'Y', 'Zsol', 'Ht_Chbre']"
      ]
     },
     "execution_count": 97,
     "metadata": {},
     "output_type": "execute_result"
    }
   ],
   "source": [
    "tmp_for.columns.to_list()[:12]"
   ]
  },
  {
   "cell_type": "code",
   "execution_count": 98,
   "id": "temporal-emperor",
   "metadata": {},
   "outputs": [
    {
     "name": "stdout",
     "output_type": "stream",
     "text": [
      "Rows : 18, columns : 6, Unique on 'ID': 18\n"
     ]
    },
    {
     "data": {
      "application/vnd.jupyter.widget-view+json": {
       "model_id": "135f8ac388d94d68889a700f5249a08b",
       "version_major": 2,
       "version_minor": 0
      },
      "text/plain": [
       "interactive(children=(IntSlider(value=10, description='rows', max=18, min=10, readout=False), IntSlider(value=…"
      ]
     },
     "metadata": {},
     "output_type": "display_data"
    }
   ],
   "source": [
    "tmp_for=tmp_for[['ID', 'X', 'Y', 'Zsol', 'Ht_Chbre']][2:21]\n",
    "tmp_for.replace('-',np.nan, inplace=True)\n",
    "tmp_for.drop(index=[5], inplace=True)\n",
    "tmp_for['Type']='Piezo'\n",
    "#tmp_for['Zsol']=tmp_for['Zsol'].apply(lambda x: x if not pd.isnull(x) else np.nan)\n",
    "\n",
    "gdf_viewer(tmp_for, un_val='ID')"
   ]
  },
  {
   "cell_type": "code",
   "execution_count": 99,
   "id": "burning-lucas",
   "metadata": {},
   "outputs": [],
   "source": [
    "tmp_survey=tmp_mes.query('ID==ID').reset_index(drop=True)"
   ]
  },
  {
   "cell_type": "code",
   "execution_count": 100,
   "id": "lyric-rating",
   "metadata": {
    "scrolled": true
   },
   "outputs": [],
   "source": [
    "tmp_mes=pd.DataFrame()\n",
    "col=[tmp_survey.columns.to_list()[2]]+tmp_survey.columns.to_list()[4:6]\n",
    "mes_id=0\n",
    "d=['01/10/2013','01/11/2015','01/12/2016'] # 01/11/2015 added by me\n",
    "\n",
    "for i in range(len(tmp_survey)):\n",
    "    k=0\n",
    "    for j in col:\n",
    "        tmp_mes.loc[mes_id,'Mes_ID']='Mes_'+str(mes_id)\n",
    "        tmp_mes.loc[mes_id,'Date_Mes']=datetime.date(int(d[k].split('/')[2]), int(d[k].split('/')[1]), \n",
    "                                                             int(d[k].split('/')[0]))\n",
    "        tmp_mes.loc[mes_id,'ID']=str(tmp_survey.loc[i,'ID'])\n",
    "        tmp_mes.loc[mes_id,'Niv_Eau_sol']=tmp_survey.loc[i,j]\n",
    "                \n",
    "        if tmp_mes.loc[mes_id, 'Date_Mes']==tmp_survey.loc[i, 'Date_prv'] and \\\n",
    "        tmp_mes.loc[mes_id, 'ID']==tmp_survey.loc[i, 'ID']:\n",
    "            tmp_mes.loc[mes_id, tmp_survey.columns.to_list()[6:-1]]=tmp_survey.iloc[i, 6:-1]\n",
    "        \n",
    "        mes_id+=1\n",
    "        k+=1\n",
    "tmp_mes.replace('-', np.nan, inplace=True)"
   ]
  },
  {
   "cell_type": "code",
   "execution_count": 101,
   "id": "atmospheric-fitness",
   "metadata": {
    "scrolled": true
   },
   "outputs": [],
   "source": [
    "tmp_mes['line_na']=False\n",
    "for i in range(len(tmp_mes)):\n",
    "    verif=True\n",
    "    for j in tmp_mes.columns.to_list()[3:-1]:\n",
    "        if not pd.isnull(tmp_mes.loc[i,j]): verif=False\n",
    "    \n",
    "    tmp_mes.loc[i, 'line_na']=verif"
   ]
  },
  {
   "cell_type": "code",
   "execution_count": 102,
   "id": "foster-bracelet",
   "metadata": {},
   "outputs": [],
   "source": [
    "tmp_mes=tmp_mes.query('line_na==False')\n",
    "tmp_mes.reset_index(drop=True, inplace=True)\n",
    "tmp_mes.drop('line_na', axis=1, inplace=True)\n",
    "tmp_mes['Mes_ID']=tmp_mes['ID'].apply(lambda x: 'Mes_'+x)\n",
    "tmp_mes['CE']=tmp_mes['CE'].apply(lambda x: x/1000 if not pd.isnull(x) else x)"
   ]
  },
  {
   "cell_type": "code",
   "execution_count": 103,
   "id": "passive-moisture",
   "metadata": {},
   "outputs": [],
   "source": [
    "merge_tmp, error_df=gdf_merger(source_for, tmp_for, 'outer', 'ID')"
   ]
  },
  {
   "cell_type": "code",
   "execution_count": 104,
   "id": "clear-thermal",
   "metadata": {},
   "outputs": [],
   "source": [
    "source_for=merge_tmp.copy()"
   ]
  },
  {
   "cell_type": "code",
   "execution_count": 105,
   "id": "elegant-resolution",
   "metadata": {},
   "outputs": [
    {
     "name": "stderr",
     "output_type": "stream",
     "text": [
      "<ipython-input-105-f3cbae7f0ac4>:2: SettingWithCopyWarning: \n",
      "A value is trying to be set on a copy of a slice from a DataFrame.\n",
      "Try using .loc[row_indexer,col_indexer] = value instead\n",
      "\n",
      "See the caveats in the documentation: https://pandas.pydata.org/pandas-docs/stable/user_guide/indexing.html#returning-a-view-versus-a-copy\n",
      "  tmp_an['Type_ech']='Eau'\n"
     ]
    }
   ],
   "source": [
    "tmp_an=tmp_mes[tmp_mes.columns.to_list()[1:3]+tmp_mes.columns.to_list()[9:]]\n",
    "tmp_an['Type_ech']='Eau'\n",
    "tmp_an.insert(tmp_an.columns.to_list().index('ID')+1, 'Type_ech', tmp_an.pop('Type_ech'))\n",
    "tmp_mes=tmp_mes[tmp_mes.columns.to_list()[:9]]"
   ]
  },
  {
   "cell_type": "code",
   "execution_count": 106,
   "id": "daily-selling",
   "metadata": {},
   "outputs": [],
   "source": [
    "merge_tmp, error_df=gdf_merger(source_survey, tmp_mes, 'outer', 'ID', fcol='Mes_ID')"
   ]
  },
  {
   "cell_type": "code",
   "execution_count": 107,
   "id": "geographic-professor",
   "metadata": {},
   "outputs": [],
   "source": [
    "source_survey=merge_tmp.copy()"
   ]
  },
  {
   "cell_type": "code",
   "execution_count": 108,
   "id": "peaceful-linux",
   "metadata": {},
   "outputs": [],
   "source": [
    "source_analysis=tmp_an.copy()"
   ]
  },
  {
   "cell_type": "code",
   "execution_count": 109,
   "id": "portable-intellectual",
   "metadata": {},
   "outputs": [],
   "source": [
    "if not os.path.exists(tmp_dir):\n",
    "    os.makedirs(tmp_dir)"
   ]
  },
  {
   "cell_type": "code",
   "execution_count": 110,
   "id": "black-delaware",
   "metadata": {},
   "outputs": [],
   "source": [
    "tmp_for.to_csv(tmp_dir+sheet+'_BH.csv', index=False)\n",
    "tmp_mes.to_csv(tmp_dir+sheet+'_SRV.csv', index=False)\n",
    "tmp_an.to_csv(tmp_dir+sheet+'_ANL.csv', index=False)"
   ]
  },
  {
   "cell_type": "code",
   "execution_count": 111,
   "id": "concerned-translation",
   "metadata": {},
   "outputs": [],
   "source": [
    "source_for.to_csv(tmp_dir+'source_Boreholes.csv', index=False) #all boreholes data in the source\n",
    "#source_litho.to_csv(tmp_dir+'source_Lithology.csv', index=False) #all lithologies or descriptions data in the source\n",
    "#source_ech.to_csv(tmp_dir+'Source_Samples.csv', index=False) #all Samples and organoleptic data in the source\n",
    "source_analysis.to_csv(tmp_dir+'source_Analysis.csv', index=False) #all samples and pollutants data in the source\n",
    "source_survey.to_csv(tmp_dir+'source_Survey.csv', index=False) #all parameters' survey data in the source"
   ]
  },
  {
   "cell_type": "markdown",
   "id": "northern-fifteen",
   "metadata": {},
   "source": [
    "* **Feuille : 'RESULTS_EAU' (F)**"
   ]
  },
  {
   "cell_type": "code",
   "execution_count": 112,
   "id": "working-turkish",
   "metadata": {},
   "outputs": [],
   "source": [
    "tmp_dir='../../CF_data/synthese/Result_traitem/database_Memoris3/'\n",
    "sheet='RESULTS_EAU'"
   ]
  },
  {
   "cell_type": "code",
   "execution_count": 113,
   "id": "pressing-bidding",
   "metadata": {},
   "outputs": [
    {
     "name": "stdout",
     "output_type": "stream",
     "text": [
      "Rows : 204, columns : 185\n"
     ]
    },
    {
     "data": {
      "application/vnd.jupyter.widget-view+json": {
       "model_id": "84670804d0c14f53a31399a6424c83d4",
       "version_major": 2,
       "version_minor": 0
      },
      "text/plain": [
       "interactive(children=(IntSlider(value=5, description='rows', max=204, min=5, readout=False), IntSlider(value=1…"
      ]
     },
     "metadata": {},
     "output_type": "display_data"
    }
   ],
   "source": [
    "tmp_for = pd.read_excel('../../CF_data/Data_UMONS/Contamination/Doc_SITEREM/Rapport de synthèse des études de sol et des eaux souterraines. Siterem - 2017/Database MEMORIS3.xlsx', \n",
    "                        sheet_name='RESULTS_EAU', skiprows=1)\n",
    "gdf_viewer(tmp_for, rows=5)"
   ]
  },
  {
   "cell_type": "code",
   "execution_count": 114,
   "id": "above-action",
   "metadata": {},
   "outputs": [],
   "source": [
    "tmp_for.drop(0, inplace=True)\n",
    "tmp_for.reset_index(drop=True, inplace=True)"
   ]
  },
  {
   "cell_type": "code",
   "execution_count": 115,
   "id": "patent-lover",
   "metadata": {},
   "outputs": [
    {
     "name": "stderr",
     "output_type": "stream",
     "text": [
      "/home/su530201/.local/share/virtualenvs/GSDMA-tJb-HgI6/lib/python3.8/site-packages/pandas/core/frame.py:4521: SettingWithCopyWarning: \n",
      "A value is trying to be set on a copy of a slice from a DataFrame\n",
      "\n",
      "See the caveats in the documentation: https://pandas.pydata.org/pandas-docs/stable/user_guide/indexing.html#returning-a-view-versus-a-copy\n",
      "  return super().replace(\n"
     ]
    }
   ],
   "source": [
    "tmp_for.rename(columns={'Campagne':'Societe','N_piezo.':'ID','Z tête PZ':'Z','Zsol':'Zsol', 'Prof_PZ':'Long_Pz',\n",
    "                        'Section_crépinée':'Long_Crep','Diamètre_int':'Diam_Pz_int','Surnageant':'Surnageant',\n",
    "                        'Sousnageant':'Sousnageant','Description éch.':'Opacite_eau','Remarques':'Organoleptique',\n",
    "                        'Aquifère_échantillonné':'Aquifère'}, inplace=True)\n",
    "\n",
    "#tmp_for=tmp_for[['ID','X', 'Y', 'Z', 'Zsol', 'Long_Pz', 'Long_Crep', 'Diam_Pz_int', 'Societe']]#[:130]\n",
    "tmp_for=tmp_for.query(\"ID ==ID\")\n",
    "tmp_for.replace('-',np.nan, inplace=True)"
   ]
  },
  {
   "cell_type": "code",
   "execution_count": 116,
   "id": "thick-traffic",
   "metadata": {},
   "outputs": [],
   "source": [
    "tmp_survey=tmp_for[[tmp_for.columns.to_list()[0]]+tmp_for.columns.to_list()[12:16]+tmp_for.columns.to_list()[21:26]]\n",
    "tmp_an=tmp_for[[tmp_for.columns.to_list()[0]]+tmp_for.columns.to_list()[26:]]\n",
    "tmp_for=tmp_for[tmp_for.columns.to_list()[:12]+tmp_for.columns.to_list()[16:21]]"
   ]
  },
  {
   "cell_type": "code",
   "execution_count": 117,
   "id": "great-distribution",
   "metadata": {},
   "outputs": [],
   "source": [
    "tmp_for['Type']=tmp_for['Long_Crep'].apply(lambda x: 'Piezo' if not pd.isnull(x) else '')\n",
    "tmp_for.insert(8, 'Type', tmp_for.pop('Type'))\n",
    "tmp_for['Surnageant']=tmp_for['Surnageant'].apply(lambda x: x/100) # to express value in meter unit\n",
    "tmp_for['Sousnageant']=tmp_for['Sousnageant'].apply(lambda x: x/100)"
   ]
  },
  {
   "cell_type": "code",
   "execution_count": 118,
   "id": "enabling-charge",
   "metadata": {},
   "outputs": [
    {
     "name": "stdout",
     "output_type": "stream",
     "text": [
      "Rows : 130, columns : 18, Unique on 'ID': 130\n"
     ]
    },
    {
     "data": {
      "application/vnd.jupyter.widget-view+json": {
       "model_id": "c1d84dc7ffe74482ada6a9d584f92eae",
       "version_major": 2,
       "version_minor": 0
      },
      "text/plain": [
       "interactive(children=(IntSlider(value=5, description='rows', max=130, min=5, readout=False), IntSlider(value=1…"
      ]
     },
     "metadata": {},
     "output_type": "display_data"
    }
   ],
   "source": [
    "gdf_viewer(tmp_for, un_val='ID', rows=5) # all units in [m]"
   ]
  },
  {
   "cell_type": "code",
   "execution_count": 119,
   "id": "competent-forward",
   "metadata": {
    "scrolled": true
   },
   "outputs": [],
   "source": [
    "tmp_mes=pd.DataFrame()\n",
    "col=tmp_survey.columns.to_list()[5:]\n",
    "mes_id=0\n",
    "d=['27/04/2010', '08/09/2010']\n",
    "\n",
    "for i in range(len(tmp_survey)):\n",
    "    for k in [0,1]:\n",
    "        tmp_mes.loc[mes_id,'Mes_ID']='Mes_'+str(mes_id)\n",
    "        tmp_mes.loc[mes_id,'ID']=str(tmp_survey.loc[i,'ID'])\n",
    "        \n",
    "        dt=d[k].split('/')\n",
    "        tmp_mes.loc[mes_id,'Date_Mes']=datetime.date(int(dt[2]), int(dt[1]),int(dt[0]))\n",
    "        tmp_mes.loc[mes_id,'Niv_Eau_Pz']=tmp_survey.iloc[i,k+1]\n",
    "        tmp_mes.loc[mes_id,'Niv_Eau_sol']=tmp_survey.iloc[i,k+3]\n",
    "        tmp_mes.loc[mes_id, col]=list(tmp_survey.loc[i,col])\n",
    "        mes_id+=1          \n",
    "        \n",
    "tmp_mes.replace('-', np.nan, inplace=True)\n",
    "#tmp_mes=tmp_mes.sort_values('Date_Mes').reset_index(drop=True)\n",
    "tmp_mes['Mes_ID']=tmp_mes['ID'].apply(lambda x: 'Mes_'+str(x))\n",
    "tmp_mes.insert(0, 'Mes_ID', tmp_mes.pop('Mes_ID'))"
   ]
  },
  {
   "cell_type": "code",
   "execution_count": 120,
   "id": "broadband-inventory",
   "metadata": {},
   "outputs": [],
   "source": [
    "q=tmp_mes.query('Niv_Eau_Pz.isnull() and Niv_Eau_sol.isnull()').index\n",
    "tmp_mes.drop(q, inplace=True)\n",
    "tmp_mes['CE']=tmp_mes['CE'].apply(lambda x: x/1000 if not pd.isnull(x) else x)"
   ]
  },
  {
   "cell_type": "code",
   "execution_count": 121,
   "id": "electrical-niagara",
   "metadata": {
    "scrolled": true
   },
   "outputs": [],
   "source": [
    "tmp_an['line_na']=False\n",
    "for i in range(len(tmp_an)):\n",
    "    verif=True\n",
    "    for j in tmp_an.columns.to_list()[3:-1]:\n",
    "        if not pd.isnull(tmp_an.loc[i,j]): verif=False\n",
    "    \n",
    "    tmp_an.loc[i,'line_na']=verif"
   ]
  },
  {
   "cell_type": "code",
   "execution_count": 122,
   "id": "cardiovascular-tokyo",
   "metadata": {},
   "outputs": [],
   "source": [
    "tmp_an=tmp_an.query('line_na==False')\n",
    "tmp_an.reset_index(drop=True, inplace=True)\n",
    "tmp_an.drop('line_na', axis=1, inplace=True)\n",
    "tmp_an.insert(1, 'Type_ech', 'Eau')\n",
    "tmp_an['Anl_ID']=tmp_an['ID'].apply(lambda x: 'Anl_'+str(x))\n",
    "tmp_an.insert(0, 'Anl_ID', tmp_an.pop('Anl_ID'))"
   ]
  },
  {
   "cell_type": "markdown",
   "id": "demonstrated-supply",
   "metadata": {},
   "source": [
    "**Revoir bien cette partie à tête reposée (fusion sur la source)**"
   ]
  },
  {
   "cell_type": "code",
   "execution_count": 123,
   "id": "addressed-cemetery",
   "metadata": {},
   "outputs": [
    {
     "name": "stdout",
     "output_type": "stream",
     "text": [
      "Ambiguous values in both columns compared, change it manually !\n",
      "Columns ['Niv_Eau_Pz_x', 'Niv_Eau_Pz_y', 'Niv_Eau_sol_x', 'Niv_Eau_sol_y', 'Date_Mes_x', 'Date_Mes_y'] [1, 2, 5, 6, 9, 10, 13, 14, 17, 18, 21, 22, 25, 26, 29, 30, 33, 34, 37, 38, 41, 42, 45, 46, 51, 52, 58, 60, 63, 64, 67, 68, 71, 72, 75, 76, 79, 80, 83, 84, 87, 88, 91, 92, 97, 98, 101, 103, 104, 107, 108, 111, 112, 115, 116, 119, 120, 131, 132, 135, 136, 138, 140, 142, 144, 146, 148, 150, 152, 154, 156, 158, 160, 162, 164, 166, 168, 170, 172, 174, 176, 178, 181, 184, 185, 187, 189, 191, 193, 195, 197, 199, 201, 203, 205, 207, 209, 211, 213, 215, 217, 219, 221, 223, 225, 227, 230, 231, 234, 235, 238, 239, 242, 243, 246, 247, 250, 251, 254, 255, 260, 261, 264, 265, 268, 269, 272, 273, 276, 277, 280, 281, 284, 285, 288, 290, 291, 294, 295, 298, 299, 302, 303, 306, 307, 310, 311, 314, 315, 318, 319, 322, 323, 326, 327, 332, 333, 336, 337, 340, 341, 344, 345, 350, 351, 354, 355, 358, 359, 362, 363, 366, 367, 372, 373, 378, 379, 382, 383, 388, 389, 392, 393] must be dropped manually !\n",
      "\n",
      "Creation of a dataframe for ambiguous values, check it !\n"
     ]
    }
   ],
   "source": [
    "merge_tmp, error_df=gdf_merger(source_survey, tmp_mes, 'outer', 'ID', fcol='Mes_ID')"
   ]
  },
  {
   "cell_type": "code",
   "execution_count": 124,
   "id": "promotional-license",
   "metadata": {},
   "outputs": [
    {
     "name": "stdout",
     "output_type": "stream",
     "text": [
      "Rows : 431, columns : 17\n"
     ]
    },
    {
     "data": {
      "application/vnd.jupyter.widget-view+json": {
       "model_id": "85b8e022d67148c8ad4adef03178a69b",
       "version_major": 2,
       "version_minor": 0
      },
      "text/plain": [
       "interactive(children=(IntSlider(value=10, description='rows', max=431, min=10, readout=False), IntSlider(value…"
      ]
     },
     "metadata": {},
     "output_type": "display_data"
    }
   ],
   "source": [
    "gdf_viewer(merge_tmp)"
   ]
  },
  {
   "cell_type": "code",
   "execution_count": 125,
   "id": "purple-orleans",
   "metadata": {
    "scrolled": false
   },
   "outputs": [
    {
     "name": "stdout",
     "output_type": "stream",
     "text": [
      "Rows : 119, columns : 162\n"
     ]
    },
    {
     "data": {
      "application/vnd.jupyter.widget-view+json": {
       "model_id": "52eb2f3e5dcb4cfd87f44c4d7bdb8b5b",
       "version_major": 2,
       "version_minor": 0
      },
      "text/plain": [
       "interactive(children=(IntSlider(value=10, description='rows', max=119, min=10, readout=False), IntSlider(value…"
      ]
     },
     "metadata": {},
     "output_type": "display_data"
    }
   ],
   "source": [
    "gdf_viewer(tmp_an)"
   ]
  },
  {
   "cell_type": "raw",
   "id": "controlled-career",
   "metadata": {},
   "source": [
    "source_for=tmp_for.copy()\n",
    "source_survey=tmp_mes.copy()\n",
    "source_analysis=tmp"
   ]
  },
  {
   "cell_type": "raw",
   "id": "dense-allen",
   "metadata": {},
   "source": [
    "merge_tmp, error_df=gdf_merger(source_for, tmp_for, 'outer', 'ID')"
   ]
  },
  {
   "cell_type": "raw",
   "id": "different-atlanta",
   "metadata": {},
   "source": [
    "merge_tmp, error_df=gdf_merger(source_analysis, tmp_an, 'outer', 'ID', fcol='Mes_ID')"
   ]
  },
  {
   "cell_type": "raw",
   "id": "cross-escape",
   "metadata": {},
   "source": [
    "gdf_viewer(merge_tmp, rows=5), \n",
    "gdf_viewer(tmp_survey, un_val='ID', rows=5), \n",
    "gdf_viewer(tmp_mes) "
   ]
  },
  {
   "cell_type": "code",
   "execution_count": 126,
   "id": "classical-version",
   "metadata": {},
   "outputs": [],
   "source": [
    "if not os.path.exists(tmp_dir):\n",
    "    os.makedirs(tmp_dir)"
   ]
  },
  {
   "cell_type": "code",
   "execution_count": 127,
   "id": "inappropriate-methodology",
   "metadata": {},
   "outputs": [],
   "source": [
    "tmp_for.to_csv(tmp_dir+sheet+'_BH.csv', index=False)\n",
    "tmp_mes.to_csv(tmp_dir+sheet+'_SRV.csv', index=False)\n",
    "tmp_an.to_csv(tmp_dir+sheet+'_ANL.csv', index=False)"
   ]
  },
  {
   "cell_type": "raw",
   "id": "understanding-occupation",
   "metadata": {},
   "source": [
    "source_for.to_csv(tmp_dir+'source_Boreholes.csv', index=False) #all boreholes data in the source\n",
    "#source_litho.to_csv(tmp_dir+'source_Lithology.csv', index=False) #all lithologies or descriptions data in the source\n",
    "#source_ech.to_csv(tmp_dir+'Source_Samples.csv', index=False) #all Samples and organoleptic data in the source\n",
    "source_analysis.to_csv(tmp_dir+'source_Analysis.csv', index=False) #all analysis data in the source\n",
    "source_survey.to_csv(tmp_dir+'source_Survey.csv', index=False) #all parameters' survey data in the source"
   ]
  },
  {
   "cell_type": "markdown",
   "id": "permanent-house",
   "metadata": {},
   "source": [
    "* **Feuille : 'RESULTS_SOL'**"
   ]
  },
  {
   "cell_type": "raw",
   "id": "outdoor-major",
   "metadata": {},
   "source": [
    "tmp_for = pd.read_excel('../../CF_data/Data_UMONS/Contamination/Doc_SITEREM/Rapport de synthèse des études de sol et des eaux souterraines. Siterem - 2017/Database MEMORIS3.xlsx', sheet_name='RESULTS_SOL', skiprows=1)\n",
    "gdf_viewer(tmp_for)"
   ]
  },
  {
   "cell_type": "raw",
   "id": "amazing-minneapolis",
   "metadata": {},
   "source": [
    "tmp_for.rename(columns={'Campagne':'Societe','N_forage':'ID','Prof.\\nforage':'Long','refus':'Refus'}, inplace=True)\n",
    "tmp_for=tmp_for[['ID','X','Y','Z','Long','Refus','Societe']][:1422]\n",
    "tmp_for.replace('-',np.nan, inplace=True)\n",
    "tmp_for['Refus']=tmp_for['Refus'].apply(lambda x: not pd.isnull(x))\n",
    "tmp_for.drop_duplicates('ID', inplace=True)\n",
    "tmp_for.reset_index(inplace=True, drop=True)"
   ]
  },
  {
   "cell_type": "raw",
   "id": "behind-spectacular",
   "metadata": {},
   "source": [
    "gdf_viewer(tmp_for, un_val='ID')"
   ]
  },
  {
   "cell_type": "markdown",
   "id": "coupled-circle",
   "metadata": {},
   "source": [
    "============================================ ICI ==========================================================="
   ]
  },
  {
   "cell_type": "raw",
   "id": "metropolitan-wilson",
   "metadata": {},
   "source": [
    "q=[tmp_survey.columns.to_list()[0]]+tmp_survey.columns.to_list()[5:]\n",
    "merge_tmp, error_df=gdf_merger(tmp_mes, tmp_survey.loc[:,q], how='outer', col='ID')"
   ]
  },
  {
   "cell_type": "raw",
   "id": "short-ghana",
   "metadata": {},
   "source": [
    "print(tmp_for.columns.to_list()[:12]+tmp_for.columns.to_list()[16:21],'\\n\\n',\n",
    "      [tmp_for.columns.to_list()[0]]+tmp_for.columns.to_list()[12:16]+tmp_for.columns.to_list()[21:26],'\\n\\n',\n",
    "     [tmp_for.columns.to_list()[0]]+tmp_for.columns.to_list()[26:])"
   ]
  },
  {
   "cell_type": "raw",
   "id": "third-corpus",
   "metadata": {},
   "source": [
    "tmp_for.rename(columns={'N°':'ID', 'Date ':'Date_prv','Hauteur de la chambre ':'Ht_Chbre','T':'Temp'}, inplace=True)\n",
    "\n",
    "tmp_mes=tmp_for[tmp_for.columns.to_list()[:2]+tmp_for.columns.to_list()[10:-2]]\n",
    "tmp_for=tmp_for[tmp_for.columns.to_list()[:7]]"
   ]
  },
  {
   "cell_type": "raw",
   "id": "american-condition",
   "metadata": {},
   "source": [
    "tmp_for = pd.read_excel('../../CF_data/Data_UMONS/Contamination/Doc_SITEREM/Rapport de synthèse des études de sol et des eaux souterraines. Siterem - 2017/Database MEMORIS3.xlsx', sheet_name='RESULTS_EAU', skiprows=1)\n",
    "gdf_viewer(tmp_for)"
   ]
  },
  {
   "cell_type": "raw",
   "id": "unsigned-packaging",
   "metadata": {},
   "source": [
    "tmp_for.rename(columns={'Campagne':'Societe','N_piezo.':'ID','Z tête PZ':'Z','Prof_PZ':'Long_Pz',\n",
    "                        'Section_crépinée':'Long_Crep','Diamètre_int':'Diam_Pz'}, inplace=True)\n",
    "\n",
    "tmp_for=tmp_for[['ID','X','Y','Z','Zsol','Long_Pz','Long_Crep','Diam_Pz','Societe']][1:130]\n",
    "\n",
    "tmp_for.replace('-',np.nan, inplace=True)"
   ]
  },
  {
   "cell_type": "raw",
   "id": "solid-thanks",
   "metadata": {},
   "source": [
    "tmp_for['Type']=tmp_for['Long_Crep'].apply(lambda x: 'Piezo' if not pd.isnull(x) else '')"
   ]
  },
  {
   "cell_type": "raw",
   "id": "damaged-suspension",
   "metadata": {},
   "source": [
    "gdf_viewer(tmp_for, un_val='ID') # all units in [m]"
   ]
  },
  {
   "cell_type": "raw",
   "id": "after-wallpaper",
   "metadata": {},
   "source": [
    "For_synth.merge(tmp_for, how='inner', left_on='ID', right_on='ID')"
   ]
  },
  {
   "cell_type": "raw",
   "id": "falling-matrix",
   "metadata": {},
   "source": [
    "tmp_for=tmp_for.append(For_synth)"
   ]
  },
  {
   "cell_type": "raw",
   "id": "common-wrapping",
   "metadata": {},
   "source": [
    "gdf_viewer(tmp_for, un_val='ID')"
   ]
  },
  {
   "cell_type": "markdown",
   "id": "communist-injection",
   "metadata": {},
   "source": [
    "============================================ draft ==========================================================="
   ]
  },
  {
   "cell_type": "raw",
   "id": "manufactured-guess",
   "metadata": {},
   "source": [
    "gdf_viewer(source_survey), gdf_viewer(tmp_mes)"
   ]
  },
  {
   "cell_type": "raw",
   "id": "varied-walnut",
   "metadata": {},
   "source": [
    "* **Feuille : 'DONNEES PIEZOS'**"
   ]
  },
  {
   "cell_type": "raw",
   "id": "oriented-seeker",
   "metadata": {},
   "source": [
    "tmp_for.drop(columns=[tmp_for.columns.to_list()[x] for x in range(len(tmp_for.columns))\n",
    "                      if re.search(r\"Unnamed\",tmp_for.columns.to_list()[x])], axis=1, inplace=True) "
   ]
  },
  {
   "cell_type": "raw",
   "id": "large-shooting",
   "metadata": {},
   "source": [
    "tmp_dir='../../CF_data/synthese/Result_traitem/database_Memoris3/'\n",
    "sheet='Donnees_piezos'"
   ]
  },
  {
   "cell_type": "raw",
   "id": "north-blair",
   "metadata": {
    "scrolled": false
   },
   "source": [
    "tmp_for = pd.read_excel('../../CF_data/Data_UMONS/Contamination/Doc_SITEREM/Rapport de synthèse des études de sol et des eaux souterraines. '+\n",
    "                        'Siterem - 2017/Database MEMORIS3.xlsx', sheet_name='DONNEES PIEZOS', skiprows=2)\n",
    "gdf_viewer(tmp_for)"
   ]
  },
  {
   "cell_type": "raw",
   "id": "prompt-hostel",
   "metadata": {},
   "source": [
    "### A.5- ../Data_UMONS/geometrie_electrodes_et_sondes/Forages_Pilote_Decoupe.xlsx\n",
    "\n",
    "* **Feuille : 'leve' (F)**"
   ]
  },
  {
   "cell_type": "raw",
   "id": "decent-argument",
   "metadata": {},
   "source": [
    "For_synth=gpd.GeoDataFrame({})"
   ]
  },
  {
   "cell_type": "raw",
   "id": "forbidden-southwest",
   "metadata": {
    "scrolled": false
   },
   "source": [
    "tmp_for = pd.read_excel('../../CF_data/Data_UMONS/geometrie_electrodes_et_sondes/Forages_Pilote_Decoupe.xlsx', sheet_name='leve')#, skiprows=2)\n",
    "gdf_viewer(tmp_for)"
   ]
  },
  {
   "cell_type": "raw",
   "id": "drawn-turkish",
   "metadata": {},
   "source": [
    "tmp_for.columns"
   ]
  },
  {
   "cell_type": "raw",
   "id": "double-intention",
   "metadata": {},
   "source": [
    "tmp_for.rename(columns={'Ref_puits':'ID', 'Niveau corrigé':'Z','Z_diff [m] repere_local':'Diff_Z_Rloc', \n",
    "                        'long_fin [m]':'Long', 'Pos_Inox_#6 [m]':'Inox_first', \n",
    "                        'Pos_Impol_#3 [m]':'impol_first'}, inplace=True)\n",
    "tmp_for=tmp_for[['ID','Z','Diff_Z_Rloc','Long','Inox_first', 'impol_first']]\n",
    "#tmp_for.replace('-',np.nan, inplace=True)"
   ]
  },
  {
   "cell_type": "raw",
   "id": "ethical-stamp",
   "metadata": {},
   "source": [
    "gdf_viewer(tmp_for, un_val='ID') #"
   ]
  },
  {
   "cell_type": "raw",
   "id": "contemporary-diesel",
   "metadata": {},
   "source": [
    "tmp_for.to_csv('../../CF_data/synthese/Result_traitem/boreholes_Leve_Z_Pilote.csv', index=False)"
   ]
  },
  {
   "cell_type": "markdown",
   "id": "indirect-variety",
   "metadata": {},
   "source": [
    "* **Feuille : 'PROFILS_SOL'**\n",
    "DONNEES PIEZOS, DRAINS ET PIEZOS ENEL, RESULTS_SOL, RESULTS_EAU, Normes"
   ]
  },
  {
   "cell_type": "raw",
   "id": "contained-ecology",
   "metadata": {},
   "source": [
    "tmp_for.drop(columns=[tmp_for.columns.to_list()[x] for x in range(len(tmp_for.columns))\n",
    "                      if re.search(r\"Unnamed\",tmp_for.columns.to_list()[x])], axis=1, inplace=True) "
   ]
  },
  {
   "cell_type": "raw",
   "id": "brave-seventh",
   "metadata": {
    "scrolled": true
   },
   "source": [
    "tmp_for.loc[1121]"
   ]
  },
  {
   "cell_type": "raw",
   "id": "finished-heather",
   "metadata": {},
   "source": [
    "source_litho=tmp_for.copy()"
   ]
  },
  {
   "cell_type": "raw",
   "id": "arctic-table",
   "metadata": {},
   "source": [
    "if not os.path.exists(tmp_dir):\n",
    "    os.makedirs(tmp_dir)\n",
    "    \n",
    "tmp_for.to_csv(tmp_dir+sheet+'.csv', index=False)\n",
    "source_litho.to_csv(tmp_dir+'source_Lithology.csv', index=False) #all lithologies or descriptions data in the source"
   ]
  },
  {
   "cell_type": "raw",
   "id": "geographic-mambo",
   "metadata": {},
   "source": [
    "tmp_for.rename(columns={'Date':'Date_ouv','Profondeur':'Long_For', 'Méthode':'Method', \n",
    "                        'Diamètre forage':'Diam_For','Niv. Eau p/r sol':'Niv_Pz_sol',\n",
    "                        'PZ Prof.':'Long_Pz', 'PZ Diamètre':'Diam_Pz','PZ L.crépinée':'Long_Crep', \n",
    "                        'Société forage':'Societe'}, inplace=True)\n",
    "\n",
    "tmp_for=tmp_for[['ID', 'X', 'Y', 'Z', 'Date_ouv', 'Long_For', 'Diam_For', 'Long_Pz', 'Diam_Pz', 'Long_Crep',\n",
    "                 'Remarque','Niv_Pz_sol','Method', 'Societe']]"
   ]
  },
  {
   "cell_type": "raw",
   "id": "plain-communist",
   "metadata": {},
   "source": [
    "tmp_for.loc[3,'Description'].split(' ')"
   ]
  },
  {
   "cell_type": "raw",
   "id": "robust-arbor",
   "metadata": {},
   "source": [
    "text=tmp_for.loc[1,'Description']\n",
    "print(re.compile(r\"avec|charge|sableux\").search(text).span())#tring)\n",
    "print('ok' if re.findall('sableux|avec|charge', text) else 'No')\n",
    "#print(re.sub('sableux|avec','', text))"
   ]
  },
  {
   "cell_type": "raw",
   "id": "iraqi-drunk",
   "metadata": {},
   "source": [
    "#tmp_for['Description'].apply(lambda x: x.replace(r\"avec | charge\",' '))#.split(' '))#[0].strip(' m') if ' m' in x else np.nan)\n",
    "tmp_for['Description'].apply(lambda x: re.sub('charge|avec','', x))#.split(' '))#[0].strip(' m') if ' m' in x else np.nan)"
   ]
  },
  {
   "cell_type": "markdown",
   "id": "hazardous-diameter",
   "metadata": {},
   "source": [
    "============================================ old codes ==========================================="
   ]
  },
  {
   "cell_type": "raw",
   "id": "incomplete-tennis",
   "metadata": {},
   "source": [
    "### A.1- ../../CF_data//Data_UMONS/Logs_forages_vUmons_2018-03-20.xlsx\n",
    "* **Feuille : 'Sond2017v3' (F)**"
   ]
  },
  {
   "cell_type": "raw",
   "id": "desperate-trader",
   "metadata": {},
   "source": [
    "For_synth=gpd.GeoDataFrame({})"
   ]
  },
  {
   "cell_type": "raw",
   "id": "alike-herald",
   "metadata": {},
   "source": [
    "tmp_for = pd.read_excel('../../CF_data//Data_UMONS/Logs_forages_vUmons_2018-03-20.xlsx', sheet_name='Sond2017v3')#, skiprows=1)\n",
    "gdf_viewer(tmp_for)"
   ]
  },
  {
   "cell_type": "raw",
   "id": "magnetic-amateur",
   "metadata": {},
   "source": [
    "tmp_for.columns"
   ]
  },
  {
   "cell_type": "raw",
   "id": "normal-camping",
   "metadata": {},
   "source": [
    "tmp_for.rename(columns={'Ref_sond':'Ref_x','XL72':'X', 'YL72':'Y', 'Z (m)':'Z',\n",
    "        'Prof_sond':'Long', 'Base des Remblais (m)':'Base_RB',\n",
    "        'Sommet des Alluvions (m)':'Top_All', 'Sommet du Socle altéré (m)':'Top_SA',\n",
    "        'Sommet du Socle sain (m)':'Top_SS'}, inplace=True)\n",
    "\n",
    "tmp_for.drop(columns=[tmp_for.columns.to_list()[x] for x in range(len(tmp_for.columns))\n",
    "                      if re.compile(r\"Unnamed|Ref_GIS\").match(tmp_for.columns.to_list()[x])], axis=1, inplace=True) \n",
    "\n",
    "tmp_for.columns"
   ]
  },
  {
   "cell_type": "raw",
   "id": "acting-courage",
   "metadata": {},
   "source": [
    "tmp_for=tmp_for[['Date', 'Ref_x', 'X', 'Y', 'Z', 'Long', 'Refus', 'Base_RB','Top_All', 'Top_SA','Top_SS',]]"
   ]
  },
  {
   "cell_type": "raw",
   "id": "focused-turkish",
   "metadata": {},
   "source": [
    "tmp_for.loc[tmp_for.query('Long==9999').index, 'Long']=np.nan\n",
    "tmp_for.loc[tmp_for.query('Z==9999').index, 'Z']=np.nan"
   ]
  },
  {
   "cell_type": "raw",
   "id": "amateur-hawaiian",
   "metadata": {
    "scrolled": true
   },
   "source": [
    "for i,j in tmp_for.iterrows():\n",
    "    if tmp_for.loc[i, 'Refus']==1:\n",
    "        tmp_for.loc[i, 'Refus']=True\n",
    "    else :\n",
    "        tmp_for.loc[i, 'Refus']=False"
   ]
  },
  {
   "cell_type": "raw",
   "id": "ambient-victoria",
   "metadata": {},
   "source": [
    "geom = gpd.GeoSeries(tmp_for.apply(lambda x: Point(x['X'], x['Y']),1),crs={'init': 'epsg:31370'})\n",
    "tmp_for = gpd.GeoDataFrame(tmp_for, geometry=geom, crs=\"EPSG:31370\")\n",
    "tmp_for"
   ]
  },
  {
   "cell_type": "raw",
   "id": "caroline-african",
   "metadata": {},
   "source": [
    "len(set(tmp_for['Ref_x']))"
   ]
  },
  {
   "cell_type": "raw",
   "id": "desperate-baptist",
   "metadata": {},
   "source": [
    "For_synth=tmp_for.copy() #save tmp_for"
   ]
  },
  {
   "cell_type": "raw",
   "id": "afraid-antigua",
   "metadata": {},
   "source": [
    "#tmp_for = tmp_for.replace(np.nan, '', regex=True) #remove all 'NAN'\n",
    "#pd.concat([v8[['geometry','ID', 'Z']], v2017[['geometry','ID', 'Z']]], ignore_index=True)"
   ]
  },
  {
   "cell_type": "raw",
   "id": "ideal-arthritis",
   "metadata": {},
   "source": [
    "* **Feuille : 'DatabaseSOL20101005' (F,E)**"
   ]
  },
  {
   "cell_type": "raw",
   "id": "portable-tunnel",
   "metadata": {},
   "source": [
    "tmp_for = pd.read_excel('../../CF_data//Data_UMONS/Logs_forages_vUmons_2018-03-20.xlsx', sheet_name='DatabaseSOL20101005')#, skiprows=1)\n",
    "gdf_viewer(tmp_for)"
   ]
  },
  {
   "cell_type": "raw",
   "id": "dramatic-treasurer",
   "metadata": {
    "scrolled": false
   },
   "source": [
    "tmp_for.columns"
   ]
  },
  {
   "cell_type": "raw",
   "id": "forbidden-earth",
   "metadata": {
    "scrolled": true
   },
   "source": [
    "tmp_for=tmp_for[['N', 'X', 'Y', 'Z', 'PROF_FORAG', 'CAMPAGNE']]\n",
    "tmp_for.rename(columns={'N':'Ref_y','PROF_FORAG':'Long', 'CAMPAGNE':'Societe'}, inplace=True)"
   ]
  },
  {
   "cell_type": "raw",
   "id": "large-lesbian",
   "metadata": {},
   "source": [
    "tmp_for=tmp_for[:30] # infos utiles\n",
    "tmp_for.insert(0, 'Date', pd.NaT) \n",
    "tmp_for.head(5)"
   ]
  },
  {
   "cell_type": "raw",
   "id": "regular-hearing",
   "metadata": {
    "scrolled": true
   },
   "source": [
    "set(tmp_for['Societe'])"
   ]
  },
  {
   "cell_type": "raw",
   "id": "loaded-match",
   "metadata": {
    "scrolled": true
   },
   "source": [
    "for i,j in tmp_for.iterrows():\n",
    "    if tmp_for.loc[i, 'Societe']=='SITERE':\n",
    "        tmp_for.loc[i, 'Societe']='SITEREM'\n",
    "    #else :\n",
    "    #    tmp_for.loc[i, 'Refus']='-'"
   ]
  },
  {
   "cell_type": "raw",
   "id": "polished-dining",
   "metadata": {},
   "source": [
    "geom = gpd.GeoSeries(tmp_for.apply(lambda x: Point(x['X'], x['Y']),1),crs={'init': 'epsg:31370'})\n",
    "tmp_for = gpd.GeoDataFrame(tmp_for, geometry=geom, crs=\"EPSG:31370\")\n",
    "tmp_for.head(5)"
   ]
  },
  {
   "cell_type": "raw",
   "id": "fixed-anderson",
   "metadata": {},
   "source": [
    "print('unique: ',len(set(tmp_for['Ref_y'])),'/', len(tmp_for))"
   ]
  },
  {
   "cell_type": "raw",
   "id": "valued-boards",
   "metadata": {},
   "source": [
    "tmp_for.drop_duplicates('Ref_y', inplace=True)\n",
    "tmp_for.reset_index(inplace=True, drop=True)\n",
    "tmp_for"
   ]
  },
  {
   "cell_type": "raw",
   "id": "reflected-matthew",
   "metadata": {},
   "source": [
    "For_synth"
   ]
  },
  {
   "cell_type": "raw",
   "id": "bigger-municipality",
   "metadata": {},
   "source": [
    "genID_dated(tmp_for, 'Ref_y', '2010'), genID_dated(For_synth, 'Ref_x')"
   ]
  },
  {
   "cell_type": "raw",
   "id": "arbitrary-logan",
   "metadata": {},
   "source": [
    "For_synth=For_synth.append(tmp_for)"
   ]
  },
  {
   "cell_type": "raw",
   "id": "cordless-leonard",
   "metadata": {},
   "source": [
    "For_synth.reset_index(inplace=True, drop=True)\n",
    "For_synth.loc[For_synth.query('Ref_x!=Ref_x').index, 'Ref_x']=For_synth.loc[For_synth.query('Ref_x!=Ref_x').index, 'Ref_y']\n",
    "For_synth.drop('Ref_y', axis=1, inplace=True)"
   ]
  },
  {
   "cell_type": "raw",
   "id": "internal-mixture",
   "metadata": {},
   "source": [
    "For_synth.loc[For_synth.query(\"Date >= '2017-02-22' and Date <= '2017-05-18'\").index, \"Societe\"]='ECOPLANNING'\n",
    "For_synth.rename(columns={'Ref_x':'ID'}, inplace=True)\n",
    "#df.query()'Profondeur.str.contains(\"Forage\") and Profondeur!=\"Forage bloqué\"', engine='python')\n",
    "#df.loc[(df['date'] >= '2020-09-01') & (df['date'] < '2020-09-15')] \n",
    "#df.query(\"date >= '2020-08-01' and date < '2020-09-01'\") "
   ]
  },
  {
   "cell_type": "raw",
   "id": "married-mistress",
   "metadata": {},
   "source": [
    "gdf_viewer(For_synth)"
   ]
  },
  {
   "cell_type": "raw",
   "id": "welcome-nicholas",
   "metadata": {},
   "source": [
    "pd.DataFrame(For_synth)[['ID', 'X', 'Y', 'Z', 'Long', 'Refus', 'Societe']].to_csv('../../CF_data/synthese/Result_traitem/boreholes_2.csv', index=False)"
   ]
  },
  {
   "cell_type": "raw",
   "id": "hearing-resort",
   "metadata": {},
   "source": [
    "* **Feuilles : 'Sond_all_loc' (F) / 'Feuil1' {autre fichier}(F,E) / 'Obs_siterem_phase2' (F)**"
   ]
  },
  {
   "cell_type": "raw",
   "id": "infinite-russell",
   "metadata": {},
   "source": [
    "tmp_for = pd.read_excel('../../CF_data//Data_UMONS/Logs_forages_vUmons_2018-03-20.xlsx', sheet_name='Sond_all_loc')#, skiprows=1)\n",
    "gdf_viewer(tmp_for)"
   ]
  },
  {
   "cell_type": "raw",
   "id": "productive-fundamental",
   "metadata": {},
   "source": [
    "tmp_for.rename(columns={'Ref_sond':'Ref_x','XL72':'X', 'YL72':'Y'}, inplace=True)\n",
    "tmp_for=tmp_for[['Ref_x', 'X', 'Y', 'Z']]\n",
    "len(tmp_for)"
   ]
  },
  {
   "cell_type": "raw",
   "id": "adequate-monitor",
   "metadata": {},
   "source": [
    "gdf_geom(tmp_for)"
   ]
  },
  {
   "cell_type": "raw",
   "id": "stuffed-pharmaceutical",
   "metadata": {},
   "source": [
    "For_synth=tmp_for.copy() #save tmp_for"
   ]
  },
  {
   "cell_type": "raw",
   "id": "large-honor",
   "metadata": {},
   "source": [
    "tmp_for = pd.read_excel('../../CF_data//Data_UMONS/ouvrages/profondeur de contact campagne de forages octobre 2019.xlsx', sheet_name='Feuil1', skiprows=2)\n",
    "gdf_viewer(tmp_for)"
   ]
  },
  {
   "cell_type": "raw",
   "id": "designing-monte",
   "metadata": {},
   "source": [
    "tmp_for.rename(columns={'n°forage ':'Ref_y','x':'X', 'y':'Y', 'z':'Z', 'profondeur(m)':'Long'}, inplace=True)\n",
    "tmp_for=tmp_for[['Ref_y', 'X', 'Y', 'Z', 'Long']]"
   ]
  },
  {
   "cell_type": "raw",
   "id": "maritime-processor",
   "metadata": {},
   "source": [
    "tmp_for=tmp_for[:8]"
   ]
  },
  {
   "cell_type": "raw",
   "id": "responsible-abuse",
   "metadata": {},
   "source": [
    "gdf_geom(tmp_for)"
   ]
  },
  {
   "cell_type": "raw",
   "id": "driving-still",
   "metadata": {},
   "source": [
    "For_synth.merge(tmp_for, how='inner', left_on='Ref_x', right_on='Ref_y')"
   ]
  },
  {
   "cell_type": "raw",
   "id": "spare-tender",
   "metadata": {},
   "source": [
    "genID_dated(tmp_for, 'Ref_y', '2019')"
   ]
  },
  {
   "cell_type": "raw",
   "id": "willing-fortune",
   "metadata": {},
   "source": [
    "For_synth=For_synth.append(tmp_for)"
   ]
  },
  {
   "cell_type": "raw",
   "id": "desirable-holly",
   "metadata": {},
   "source": [
    "For_synth.reset_index(inplace=True, drop=True)\n",
    "For_synth.loc[For_synth.query('Ref_x!=Ref_x').index, 'Ref_x']=For_synth.loc[For_synth.query('Ref_x!=Ref_x').index, 'Ref_y']\n",
    "For_synth.drop('Ref_y', axis=1, inplace=True)"
   ]
  },
  {
   "cell_type": "raw",
   "id": "complete-letters",
   "metadata": {},
   "source": [
    "gdf_viewer(For_synth)"
   ]
  },
  {
   "cell_type": "raw",
   "id": "aggregate-taste",
   "metadata": {},
   "source": [
    "tmp_for = pd.read_excel('../../CF_data//Data_UMONS/Logs_forages_vUmons_2018-03-20.xlsx', sheet_name='Obs_siterem_phase2')#, skiprows=2)\n",
    "gdf_viewer(tmp_for)"
   ]
  },
  {
   "cell_type": "raw",
   "id": "rational-drunk",
   "metadata": {},
   "source": [
    "tmp_for.rename(columns={'Date':'Date_Prv','ref_piezo':'Ref_Pz', 'Prof_piézo':'Long_Pz', 'Nappe':'Aquifer', 'Niv_nappe':'Niv_Pz'}, inplace=True)\n",
    "tmp_for=tmp_for[['Date_Prv','Ref_Pz', 'X', 'Y', 'Z', 'Long_Pz', 'Niv_Pz', 'Aquifer']]\n",
    "tmp_for['Type']=tmp_for['Long_Pz'].apply(lambda x: 'Piezo' if not pd.isnull(x) else '')"
   ]
  },
  {
   "cell_type": "raw",
   "id": "scheduled-authorization",
   "metadata": {},
   "source": [
    "tmp_for.columns"
   ]
  },
  {
   "cell_type": "raw",
   "id": "graphic-approach",
   "metadata": {
    "scrolled": false
   },
   "source": [
    "#merge_tmp=For_synth.merge(tmp_for, how='inner', left_on='Ref_x', right_on='Ref_Pz', indicator=True)\n",
    "#gdf_viewer(merge_tmp[['Ref_x', 'Ref_Pz','geometry_x', 'geometry_y']])"
   ]
  },
  {
   "cell_type": "raw",
   "id": "centered-combining",
   "metadata": {},
   "source": [
    "merge_tmp=For_synth.merge(tmp_for, how='outer', left_on='Ref_x', right_on='Ref_Pz')\n",
    "merge_tmp.loc[merge_tmp.query('Ref_x==Ref_Pz').index, 'Long']=merge_tmp['Long_Pz']\n",
    "merge_tmp=merge_tmp[['Date_Prv', 'Ref_x', 'X_x', 'Y_x', 'Z_x', 'Long', 'Niv_Pz', 'Type', 'Aquifer']]"
   ]
  },
  {
   "cell_type": "raw",
   "id": "comfortable-porcelain",
   "metadata": {},
   "source": [
    "#gdf_viewer(merge_tmp.query('Ref_x==Ref_Pz'))\n",
    "gdf_viewer(merge_tmp)"
   ]
  },
  {
   "cell_type": "raw",
   "id": "stuck-toyota",
   "metadata": {},
   "source": [
    "len(set(merge_tmp['Ref_x']))"
   ]
  },
  {
   "cell_type": "raw",
   "id": "signal-ready",
   "metadata": {},
   "source": [
    "merge_tmp.rename(columns={'Ref_x':'ID', 'X_x':'X', 'Y_x':'Y', 'Z_x':'Z'}, inplace=True)"
   ]
  },
  {
   "cell_type": "raw",
   "id": "hindu-stake",
   "metadata": {
    "scrolled": true
   },
   "source": [
    "merge_tmp[['ID','X','Y','Z','Long','Type']].to_csv('../../CF_data/synthese/Result_traitem/boreholes_3.csv', index=False)"
   ]
  },
  {
   "cell_type": "raw",
   "id": "preliminary-cambodia",
   "metadata": {},
   "source": [
    "* **Feuille : 'Analyse_eau_Phases1&2_toSIG' (F,E)**"
   ]
  },
  {
   "cell_type": "raw",
   "id": "public-examination",
   "metadata": {
    "scrolled": false
   },
   "source": [
    "tmp_for = pd.read_excel('../../CF_data//Data_UMONS/Logs_forages_vUmons_2018-03-20.xlsx', sheet_name='Analyse_eau_Phases1&2_toSIG')#, skiprows=2)\n",
    "gdf_viewer(tmp_for)"
   ]
  },
  {
   "cell_type": "raw",
   "id": "international-recommendation",
   "metadata": {
    "scrolled": false
   },
   "source": [
    "# ici c'est la date de prélèvement des échantillons d'eau !!!\n",
    "tmp_for.rename(columns={'Crep_min':'Crep_top','Crep_max':'Crep_base','Date':'Date_Prv','Ref_forage':'ID',\n",
    "                        'XL72':'X', 'YL72':'Y','Prof_forage':'Long','Prof_ piezo':'Long_Pz'}, inplace=True)\n",
    "tmp_for.loc[tmp_for.query('Crep_top==999').index, 'Crep_top']=np.nan\n",
    "tmp_for.loc[tmp_for.query('Crep_base==999').index, 'Crep_base']=np.nan\n",
    "tmp_for.loc[tmp_for.query('Long_Pz==9999.0').index, 'Long_Pz']=np.nan\n",
    "\n",
    "tmp_for['Type']=tmp_for['Crep_top'].apply(lambda x: 'Piezo' if not pd.isnull(x) else '')\n",
    "#tmp_for['Date_Prv'] = tmp_for['Date_Prv'].apply(lambda x : datetime.date(1900, 1, 1) + datetime.timedelta(days=x-2))\n",
    "tmp_for=tmp_for[['Date_Prv','ID', 'X', 'Y','Z', 'Long', 'Type', 'Long_Pz','Crep_top', 'Crep_base']]\n",
    "gdf_viewer(tmp_for, un_val='ID')"
   ]
  },
  {
   "cell_type": "raw",
   "id": "declared-tourism",
   "metadata": {},
   "source": [
    "tmp_for.drop_duplicates('ID', inplace=True)\n",
    "tmp_for.reset_index(inplace=True, drop=True)"
   ]
  },
  {
   "cell_type": "raw",
   "id": "hairy-narrative",
   "metadata": {},
   "source": [
    "For_synth=tmp_for.copy()"
   ]
  },
  {
   "cell_type": "raw",
   "id": "improving-documentary",
   "metadata": {},
   "source": [
    "* **Feuille : 'Analyse_Sol_Phases1&2' (F,E)**"
   ]
  },
  {
   "cell_type": "raw",
   "id": "russian-asbestos",
   "metadata": {
    "scrolled": false
   },
   "source": [
    "tmp_for = pd.read_excel('../../CF_data//Data_UMONS/Logs_forages_vUmons_2018-03-20.xlsx', sheet_name='Analyse_sol_Phases1&2', skiprows=4)\n",
    "gdf_viewer(tmp_for)"
   ]
  },
  {
   "cell_type": "raw",
   "id": "absolute-slovenia",
   "metadata": {},
   "source": [
    "# ici c'est la date de prélèvement des échantillons d'eau !!!\n",
    "tmp_for.rename(columns={'Date':'Date_Prv','Ref_forage':'Ref_x','XL72':'X', 'YL72':'Y','Unnamed: 8':'Long',\n",
    "                        'Unnamed: 9':'Refus'}, inplace=True)\n",
    "#tmp_for['Type']='Piezo'\n",
    "#tmp_for['Date_Prv'] = tmp_for['Date_Prv'].apply(lambda x : datetime.date(1900, 1, 1) + datetime.timedelta(days=x-2))\n",
    "tmp_for=tmp_for[['Date_Prv','Ref_x', 'X', 'Y','Z', 'Long', 'Refus']]\n",
    "gdf_viewer(tmp_for)"
   ]
  },
  {
   "cell_type": "raw",
   "id": "meaning-dividend",
   "metadata": {},
   "source": [
    "len(set(tmp_for['Ref_x']))"
   ]
  },
  {
   "cell_type": "raw",
   "id": "outside-nevada",
   "metadata": {},
   "source": [
    "tmp_for.drop_duplicates('Ref_x', inplace=True)\n",
    "tmp_for.reset_index(inplace=True, drop=True)"
   ]
  },
  {
   "cell_type": "raw",
   "id": "mysterious-collect",
   "metadata": {},
   "source": [
    "tmp_for['Refus'] = tmp_for['Refus'].apply(lambda x: True if x.lstrip(' ').split('-')[0].lower()=='x' else False)\n",
    "tmp_for.loc[tmp_for.query('Z==9999').index, 'Z']=np.nan\n",
    "tmp_for.loc[[31,32], 'Refus']=True"
   ]
  },
  {
   "cell_type": "raw",
   "id": "bigger-listing",
   "metadata": {},
   "source": [
    "merge_tmp=For_synth.merge(tmp_for, how='outer', left_on='ID', right_on='Ref_x')"
   ]
  },
  {
   "cell_type": "raw",
   "id": "recreational-house",
   "metadata": {},
   "source": [
    "for idx, row in merge_tmp.iterrows():\n",
    "    if pd.isnull(merge_tmp.loc[idx, 'ID']) is True:\n",
    "        #merge_tmp.loc[idx, ['ID','X_x', 'Y_x', 'Z_x', 'Long_x', 'Long_Pz']]=merge_tmp.loc[idx, ['Ref_x','X_y', 'Y_y', 'Z_y', 'Long_y']]\n",
    "        merge_tmp.loc[idx, 'ID']=merge_tmp.loc[idx, 'Ref_x']\n",
    "        merge_tmp.loc[idx, 'X_x']=merge_tmp.loc[idx, 'X_y']\n",
    "        merge_tmp.loc[idx, 'Y_x']=merge_tmp.loc[idx, 'Y_y']\n",
    "        merge_tmp.loc[idx, 'Z_x']=merge_tmp.loc[idx, 'Z_y']\n",
    "        merge_tmp.loc[idx, 'Long_x']=merge_tmp.loc[idx, 'Long_y']\n",
    "\n",
    "merge_tmp=merge_tmp[['ID', 'X_x', 'Y_x', 'Z_x', 'Long_x', 'Long_Pz', 'Type', 'Crep_top','Crep_base','Refus']]\n",
    "merge_tmp.rename(columns={'X_x':'X', 'Y_x':'Y', 'Z_x':'Z', 'Long_x':'Long'}, inplace=True)"
   ]
  },
  {
   "cell_type": "raw",
   "id": "fantastic-guarantee",
   "metadata": {},
   "source": [
    "#gdf_viewer(merge_tmp.query('ID!=Ref_x')) #correspond à (query 'how=inner')!\n",
    "#gdf_viewer(merge_tmp[['Refus','Long_Pz']])\n",
    "gdf_viewer(merge_tmp, un_val='ID')"
   ]
  },
  {
   "cell_type": "raw",
   "id": "ranging-allocation",
   "metadata": {},
   "source": [
    "merge_tmp.to_csv('../../CF_data/synthese/Result_traitem/boreholes_4.csv', index=False)"
   ]
  },
  {
   "cell_type": "raw",
   "id": "developing-cartridge",
   "metadata": {},
   "source": [
    "### A.2- ../Data_UMONS/ouvrages/Database_piezometres_et_forages.xlsx\n",
    "* **Feuille : 'DONNEES PIEZOS' (F)**"
   ]
  },
  {
   "cell_type": "raw",
   "id": "exciting-apollo",
   "metadata": {},
   "source": [
    "For_synth=gpd.GeoDataFrame({})"
   ]
  },
  {
   "cell_type": "raw",
   "id": "creative-temple",
   "metadata": {
    "scrolled": false
   },
   "source": [
    "tmp_for = pd.read_excel('../../CF_data/Data_UMONS/ouvrages/Database_piezometres_et_forages.xlsx', sheet_name='DONNEES PIEZOS', skiprows=2)\n",
    "gdf_viewer(tmp_for)"
   ]
  },
  {
   "cell_type": "raw",
   "id": "front-journalist",
   "metadata": {},
   "source": [
    "tmp_for.rename(columns={'N_piezo.':'Ref_Pz','X [m]':'X','Y [m]':'Y','Z tête PZ [m]':'Z','Zsol [m]':'Zsol', \n",
    "                        'Prof_PZ [m]':'Long_Pz','Section_crépinée [m]':'Long_Crep','Diamètre_int [m]':'Diam_Pz'}, inplace=True)\n",
    "\n",
    "tmp_for=tmp_for[['Ref_Pz','X', 'Y', 'Z', 'Zsol', 'Long_Pz', 'Long_Crep', 'Diam_Pz']][:130]\n",
    "tmp_for.replace('-',np.nan, inplace=True)\n",
    "tmp_for.rename(columns={'Ref_Pz':'ID'}, inplace=True)"
   ]
  },
  {
   "cell_type": "raw",
   "id": "muslim-mortality",
   "metadata": {},
   "source": [
    "tmp_for['Type']=tmp_for['Long_Crep'].apply(lambda x: 'Piezo' if not pd.isnull(x) else '')"
   ]
  },
  {
   "cell_type": "raw",
   "id": "chinese-baptist",
   "metadata": {},
   "source": [
    "gdf_viewer(tmp_for) # all units in [m], no dates"
   ]
  },
  {
   "cell_type": "raw",
   "id": "humanitarian-permission",
   "metadata": {},
   "source": [
    "For_synth=tmp_for.copy()"
   ]
  },
  {
   "cell_type": "markdown",
   "id": "moral-tribune",
   "metadata": {},
   "source": [
    "pour la suite extraire les fichiers avec XY"
   ]
  },
  {
   "cell_type": "markdown",
   "id": "certain-colony",
   "metadata": {},
   "source": [
    "/////////////////////////////----- Brouillon de codes -----//////////////////////////////////////////////////////////////"
   ]
  },
  {
   "cell_type": "raw",
   "id": "organizational-trance",
   "metadata": {},
   "source": [
    "For_synth=tmp_for.copy()"
   ]
  },
  {
   "cell_type": "raw",
   "id": "trained-vermont",
   "metadata": {},
   "source": [
    "merge_tmp['Date_Prv'] = merge_tmp['Date_Prv'].apply(lambda x : datetime.date(1900, 1, 1) + datetime.timedelta(days=x-2))"
   ]
  },
  {
   "cell_type": "raw",
   "id": "relative-exploration",
   "metadata": {},
   "source": [
    "### A.3- ../Data_UMONS/ouvrages/Profils sols et données forages.xls\n",
    "* **Feuille : 'Données de forage' (F)**"
   ]
  },
  {
   "cell_type": "raw",
   "id": "hourly-trash",
   "metadata": {},
   "source": [
    "For_synth=tmp_for.copy()"
   ]
  },
  {
   "cell_type": "raw",
   "id": "noted-shift",
   "metadata": {},
   "source": [
    "tmp_for.rename(columns={}, inplace=True)\n",
    "tmp_for=tmp_for[[]]"
   ]
  },
  {
   "cell_type": "raw",
   "id": "african-plenty",
   "metadata": {},
   "source": [
    "len(set(For_synth.merge(tmp_for, how='outer', left_on='ID', right_on='ID')['ID']))"
   ]
  },
  {
   "cell_type": "raw",
   "id": "potential-action",
   "metadata": {},
   "source": [
    "merge_tmp=tmp_for[:11].copy()\n",
    "merge_tmp.reset_index(inplace=True, drop=True)\n",
    "merge_tmp.rename(columns={'Niveau piézométrique':'Niv_Pz','z':'Z',}, inplace=True)\n",
    "merge_tmp=merge_tmp[['ID', 'Niv_Pz', 'Z']]\n",
    "merge_tmp['Type']='Piezo'\n",
    "#merge_tmp['Type']='Piezo'\n",
    "#merge_tmp['Date_Prv'] = merge_tmp['Date_Prv'].apply(lambda x : datetime.date(1900, 1, 1) + datetime.timedelta(days=x-2))"
   ]
  },
  {
   "cell_type": "raw",
   "id": "undefined-trinity",
   "metadata": {},
   "source": [
    "tmp_for.rename(columns={'Date':'Date_Prv','Ref_forage':'Ref_Pz','XL72':'X', 'YL72':'Y','Prof_forage':'Long','Prof_ piézo':'Long_Pz', 'Niveau_nappe':'Niv_nappe'}, inplace=True)\n",
    "merge_tmp=tmp_for[46:][['Date_Prv', 'Ref_Pz', 'X','Y','Z','Long','Long_Pz']].copy()\n",
    "merge_tmp.reset_index(inplace=True, drop=True)\n",
    "merge_tmp['Type']='Piezo'\n",
    "merge_tmp['Date_Prv'] = merge_tmp['Date_Prv'].apply(lambda x : datetime.date(1900, 1, 1) + datetime.timedelta(days=x-2))\n",
    "\n",
    "# ici c'est la date de prélèvement des échantillons d'eau !!!\n",
    "# il faut enlever le niveau de la nappe pour l'instant. on l'integrera dans un objet spécifique 'param_PhysChim'\n",
    "merge_tmp"
   ]
  },
  {
   "cell_type": "raw",
   "id": "featured-specification",
   "metadata": {},
   "source": [
    "tmp_for.rename(columns={}, inplace=True)\n",
    "tmp_for=tmp_for[[]]"
   ]
  },
  {
   "cell_type": "raw",
   "id": "saved-perth",
   "metadata": {},
   "source": [
    "For_synth.merge(tmp_for, how='inner', left_on='ID', right_on='ID')"
   ]
  },
  {
   "cell_type": "raw",
   "id": "structured-professional",
   "metadata": {},
   "source": [
    "merge_tmp=For_synth.copy()"
   ]
  },
  {
   "cell_type": "raw",
   "id": "polished-server",
   "metadata": {
    "scrolled": false
   },
   "source": [
    "tmp_for=tmp_for.append(merge_tmp)\n",
    "tmp_for.reset_index(inplace=True, drop=True)"
   ]
  },
  {
   "cell_type": "raw",
   "id": "substantial-equality",
   "metadata": {},
   "source": [
    "For_synth.to_csv('../../CF_data/synthese/Result_traitem/Boreholes_5.csv', index=False)"
   ]
  },
  {
   "cell_type": "raw",
   "id": "circular-butter",
   "metadata": {
    "scrolled": true
   },
   "source": [
    "merge_tmp=For_synth.merge(tmp_for, how='outer', left_on='Ref_Pz', right_on='Ref_Pz_y')\n",
    "gdf_viewer(merge_tmp)"
   ]
  },
  {
   "cell_type": "raw",
   "id": "uniform-murder",
   "metadata": {},
   "source": [
    "merge_tmp.query(\"Ref_Pz==Ref_Pz_y\")"
   ]
  },
  {
   "cell_type": "raw",
   "id": "hispanic-communication",
   "metadata": {},
   "source": [
    "genID_dated(tmp_for, 'Ref_x', '2019')"
   ]
  },
  {
   "cell_type": "raw",
   "id": "creative-nightmare",
   "metadata": {},
   "source": [
    "idx=merge_tmp.query('Ref_x==Ref_y').index#, ['geometry_x', 'geometry_y']]\n",
    "#gtmp.loc[idx, 'distance'] = row['geometry_x'].distance(row['geometry_y'])\n",
    "dist=[]\n",
    "for i in idx:\n",
    "    dist.append(merge_tmp.loc[i, 'geometry_x'].distance(merge_tmp.loc[i, 'geometry_y']))\n",
    "dist    "
   ]
  },
  {
   "cell_type": "raw",
   "id": "general-intellectual",
   "metadata": {},
   "source": [
    "%time merge_tmp.isnull().sum()"
   ]
  },
  {
   "cell_type": "raw",
   "id": "delayed-deposit",
   "metadata": {},
   "source": [
    "merge_tmp.loc[96,'Ref_x'], pd.isna(merge_tmp.loc[96,'Ref_x']), merge_tmp.loc[96,'Ref_x'] == type(np.nan)"
   ]
  },
  {
   "cell_type": "raw",
   "id": "organizational-monkey",
   "metadata": {},
   "source": [
    "geom_x, geom_y = [], []\n",
    "for idx, row in merge_tmp.iterrows():\n",
    "    if not pd.isna(merge_tmp.loc[idx,'Ref_x']):\n",
    "        geom_x.append(Point(row['X_x'], row['Y_x']))\n",
    "    #else :\n",
    "    #    geom_x.append(Point())\n",
    "        \n",
    "    if not pd.isna(merge_tmp.loc[idx,'Ref_y']):\n",
    "        geom_y.append(Point(row['X_y'], row['Y_y']))\n",
    "    #else :\n",
    "    #    geom_y.append(Point())\n",
    "        \n",
    "    \n",
    "geom_x=gpd.GeoSeries(geom_x)\n",
    "geom_y=gpd.GeoSeries(geom_y)\n",
    "\n",
    "geom_x,'-------------------------------------------------', geom_y"
   ]
  },
  {
   "cell_type": "raw",
   "id": "printable-productivity",
   "metadata": {},
   "source": [
    "tmp_for=tmp_for[4:43][['Date', 'Ref_Pz', 'X','Y','Z','Long_For','Long_Pz', 'Niv_nappe']]\n",
    "tmp_for.reset_index(inplace=True, drop=True)\n",
    "tmp_for['Piezo']=True\n",
    "gdf_viewer(tmp_for)"
   ]
  },
  {
   "cell_type": "raw",
   "id": "jewish-writer",
   "metadata": {},
   "source": [
    "#filter duplicates #I will use it after to controle removing of duplicates by comparison of distance\n",
    "lidx=[]\n",
    "for idx, row in tmp_for.iterrows():\n",
    "    if idx < len(tmp_for)-1 and tmp_for.loc[idx, 'Ref_y'] == tmp_for.loc[idx+1, 'Ref_y']: lidx.append(idx)\n",
    "\n",
    "len(set(lidx) ^ set(tmp_for.index))\n",
    "tmp_for.drop(index=lidx, inplace=True)\n",
    "tmp_for"
   ]
  },
  {
   "cell_type": "raw",
   "id": "activated-mechanics",
   "metadata": {},
   "source": [
    "col='X'\n",
    "a=0\n",
    "t=[]\n",
    "for i in df_all[col]:\n",
    "    if type(i) not in t:\n",
    "        t.append(type(i))\n",
    "    if type(i) is not str:\n",
    "        a+=1\n",
    "        #print(i)\n",
    "print(f\"{a}/{len(df_all)}\",\"\\n\\n\", t)"
   ]
  },
  {
   "cell_type": "markdown",
   "id": "local-silly",
   "metadata": {},
   "source": [
    "////////////////////////////////////////-------------------------------------------------------------------------------///////////////////////////////////////////////"
   ]
  },
  {
   "cell_type": "markdown",
   "id": "hungarian-symbol",
   "metadata": {},
   "source": [
    "## Extraction des dates de forages du type de forage et du foreur de l'étude de caractérisation"
   ]
  },
  {
   "cell_type": "markdown",
   "id": "central-simple",
   "metadata": {},
   "source": [
    "### Informations sur les forages de l'étude de caractérisation de 2010"
   ]
  },
  {
   "cell_type": "raw",
   "id": "reserved-jimmy",
   "metadata": {},
   "source": [
    "Logs_forages = pd.read_excel('../../CF_data/Data_SITEREM/Logs forages.xls',sheet_name='Forages, tranchées')\n",
    "gdf_viewer(Logs_forages)"
   ]
  },
  {
   "cell_type": "raw",
   "id": "ecological-discrimination",
   "metadata": {},
   "source": [
    "Logs_forages = Logs_forages[['Date', 'N°', 'Id', 'Profondeur', 'Description', 'Piézo', 'Unnamed: 6',\n",
    "                             'Gouge Ø75', 'MFT Ø145', 'carottier', 'tarrière', 'Liner Ø60']] "
   ]
  },
  {
   "cell_type": "raw",
   "id": "comparative-wright",
   "metadata": {},
   "source": [
    "Logs_forages.rename({'Gouge Ø75':'Gouge_75', 'Liner Ø60': 'Liner_60'}, axis=1, inplace=True)"
   ]
  },
  {
   "cell_type": "raw",
   "id": "appreciated-election",
   "metadata": {},
   "source": [
    "Logs_forages.loc[Logs_forages.query('Profondeur!=Profondeur' ).index,'Profondeur']=''"
   ]
  },
  {
   "cell_type": "raw",
   "id": "composite-membrane",
   "metadata": {},
   "source": [
    "forages = Logs_forages.query('Profondeur.str.contains(\"Forage\") and Profondeur!=\"Forage bloqué\"', engine='python')\n",
    "#Logs_forages[\"Id\"].astype(str).str.contains('T')"
   ]
  },
  {
   "cell_type": "raw",
   "id": "square-charles",
   "metadata": {},
   "source": [
    "forages['Ref'] = forages['Profondeur'].apply(lambda x: x.split('Forage ')[1].replace(' ', ''))"
   ]
  },
  {
   "cell_type": "raw",
   "id": "approximate-triumph",
   "metadata": {},
   "source": [
    "forages['tmp'] = forages['Piézo'].replace(np.nan, '', regex=True) + '-' + forages['Unnamed: 6'].replace(np.nan, '', regex=True) + '-' + forages['Gouge_75'].replace(np.nan, '', regex=True)"
   ]
  },
  {
   "cell_type": "raw",
   "id": "coordinated-compensation",
   "metadata": {},
   "source": [
    "#forages['Piezo'] = forages['tmp'].apply(lambda x: x.lstrip(' ').split('-')[0].lower()=='x') #1er code\n",
    "forages['Type'] = forages['tmp'].apply(lambda x: 'Piezo' if x.lstrip(' ').split('-')[0].lower()=='x' else '')"
   ]
  },
  {
   "cell_type": "raw",
   "id": "employed-huntington",
   "metadata": {},
   "source": [
    "forages['Societe'] = forages['tmp'].apply(lambda x: x.rstrip('-').split('-')[-1].upper()) "
   ]
  },
  {
   "cell_type": "raw",
   "id": "peripheral-quilt",
   "metadata": {},
   "source": [
    "forages.loc[123, 'Societe']='SITEREM'"
   ]
  },
  {
   "cell_type": "raw",
   "id": "inside-winter",
   "metadata": {},
   "source": [
    "forages = forages[['Date', 'Ref', 'Societe', 'Type']]\n",
    "forages"
   ]
  },
  {
   "cell_type": "raw",
   "id": "derived-metadata",
   "metadata": {},
   "source": [
    "str(forages['Date'][0].year)"
   ]
  },
  {
   "cell_type": "raw",
   "id": "administrative-printer",
   "metadata": {},
   "source": [
    "forages['ID'] = forages['Date'].apply(lambda x : str(x.year) + '-') + forages['Ref']\n",
    "forages.drop('Ref', axis=1, inplace=True)"
   ]
  },
  {
   "cell_type": "raw",
   "id": "julian-determination",
   "metadata": {},
   "source": [
    "forages"
   ]
  },
  {
   "cell_type": "raw",
   "id": "better-bradford",
   "metadata": {},
   "source": [
    "forages[['ID', 'Type', 'Societe']].to_csv('../../CF_data/synthese/Result_traitem/boreholes_No_XYZ.csv', index=False) #No position"
   ]
  },
  {
   "cell_type": "raw",
   "id": "addressed-edition",
   "metadata": {},
   "source": [
    "### Lecture des fichiers de position des forages du pilote (version 8)"
   ]
  },
  {
   "cell_type": "raw",
   "id": "understanding-central",
   "metadata": {
    "scrolled": true
   },
   "source": [
    "v8 = gpd.read_file('../../CF_data/Data_UMONS/SIG/Pilote_v8.0.shp')\n",
    "v8.query('GPS2021==\"NON\"')"
   ]
  },
  {
   "cell_type": "raw",
   "id": "anonymous-welcome",
   "metadata": {},
   "source": [
    "### forages phase 1"
   ]
  },
  {
   "cell_type": "raw",
   "id": "outside-baptist",
   "metadata": {},
   "source": [
    "v2017 = gpd.read_file('../../CF_data/Data_UMONS/SIG/sondages_v2017-05-18.shp')\n",
    "gdf_viewer(v2017, 10, 15)"
   ]
  },
  {
   "cell_type": "raw",
   "id": "balanced-denver",
   "metadata": {
    "scrolled": true
   },
   "source": [
    "v2017['Ref'] = v2017['Date'].apply(lambda x : str(datetime.datetime.strptime(x, '%Y-%m-%d').year) + '-') + v2017['Ref_sond']"
   ]
  },
  {
   "cell_type": "raw",
   "id": "caring-palestinian",
   "metadata": {},
   "source": [
    "### lecture des données des sondages antérieurs"
   ]
  },
  {
   "cell_type": "raw",
   "id": "pediatric-jenny",
   "metadata": {},
   "source": [
    "sond_ant = pd.read_excel('../../CF_data/Data_UMONS/Logs_forages_vUmons_2018-03-20.xlsx', sheet_name='Sond_ant')"
   ]
  },
  {
   "cell_type": "raw",
   "id": "detailed-bangladesh",
   "metadata": {},
   "source": [
    "sond_ant['Ref'] = sond_ant['Ref_siterem'].apply(lambda x: '2010-' + str(x)) # Identifiant sur base de l'année"
   ]
  },
  {
   "cell_type": "raw",
   "id": "silent-fitness",
   "metadata": {},
   "source": [
    "sond_ant"
   ]
  },
  {
   "cell_type": "raw",
   "id": "mature-packaging",
   "metadata": {},
   "source": [
    "sond_ant_gdf = gpd.GeoDataFrame(sond_ant, geometry=gpd.points_from_xy(sond_ant.X, sond_ant.Y, crs=str('EPSG:31370')))"
   ]
  },
  {
   "cell_type": "raw",
   "id": "arctic-facing",
   "metadata": {},
   "source": [
    "sond_ant_gdf.geometry.x"
   ]
  },
  {
   "cell_type": "raw",
   "id": "recognized-booth",
   "metadata": {},
   "source": [
    "### Lecture de l'extension du projet MEMORIS"
   ]
  },
  {
   "cell_type": "raw",
   "id": "suspected-damages",
   "metadata": {},
   "source": [
    "ext = gpd.read_file('../../CF_data/Data_UMONS/SIG/Site_Memoris.shp')"
   ]
  },
  {
   "cell_type": "raw",
   "id": "pressing-century",
   "metadata": {},
   "source": [
    "### Affichage carte"
   ]
  },
  {
   "cell_type": "raw",
   "id": "contemporary-reply",
   "metadata": {},
   "source": [
    "def label(gdf, field, ax, size='xx-small'):\n",
    "    for x, y, label in zip(gdf.geometry.x, gdf.geometry.y, gdf[field]):\n",
    "        ax.annotate(label, xy=(x, y), xytext=(3, 3), textcoords='offset points', size=size)"
   ]
  },
  {
   "cell_type": "raw",
   "id": "invalid-officer",
   "metadata": {},
   "source": [
    "fig, ax = plt.subplots(figsize=(6,6))\n",
    "ext.plot(ax=ax, color='grey')\n",
    "v2017.plot(ax=ax, color='r')\n",
    "\n",
    "#for x, y, label in zip(v2017.geometry.x, v2017.geometry.y, v2017.Ref_sond):\n",
    "#    ax.annotate(label, xy=(x, y), xytext=(3, 3), textcoords=\"offset points\")\n",
    "label(v2017, 'Ref', ax)\n",
    "v8.plot(ax=ax, color='g')\n",
    "label(v8, 'Ref', ax)  \n",
    "sond_ant_gdf.plot(ax=ax, color='b', markersize=1)\n",
    "label(sond_ant_gdf, 'Ref', ax)"
   ]
  },
  {
   "cell_type": "raw",
   "id": "immune-scenario",
   "metadata": {},
   "source": [
    "En ignorant Sond_ant_gdf"
   ]
  },
  {
   "cell_type": "raw",
   "id": "domestic-mobility",
   "metadata": {},
   "source": [
    "v8['new_Ref'] = 'F'+v8['Ref']"
   ]
  },
  {
   "cell_type": "raw",
   "id": "coastal-fluid",
   "metadata": {},
   "source": [
    "BH = []\n",
    "BH.extend(v2017['Ref_sond'].to_list())\n",
    "BH.extend(v8['new_Ref'].to_list())"
   ]
  },
  {
   "cell_type": "raw",
   "id": "experienced-colombia",
   "metadata": {},
   "source": [
    "v8['ID'] = v8.new_Ref\n",
    "v2017['ID'] = v2017.Ref_sond"
   ]
  },
  {
   "cell_type": "raw",
   "id": "reserved-welding",
   "metadata": {},
   "source": [
    "v8['Z']=101."
   ]
  },
  {
   "cell_type": "raw",
   "id": "improving-chain",
   "metadata": {},
   "source": [
    "gdf = gpd.GeoDataFrame(pd.concat([v8[['geometry','ID', 'Z']], v2017[['geometry','ID', 'Z']]], ignore_index=True))"
   ]
  },
  {
   "cell_type": "raw",
   "id": "french-midwest",
   "metadata": {},
   "source": [
    "fig, ax = plt.subplots(figsize=(6,6))\n",
    "ext.plot(ax=ax, color='lightgrey')\n",
    "gdf.plot(ax=ax, markersize=1)\n",
    "label(gdf, 'ID', ax)"
   ]
  },
  {
   "cell_type": "raw",
   "id": "aboriginal-matthew",
   "metadata": {},
   "source": [
    "gdf['X']=gdf.geometry.x\n",
    "gdf['Y']=gdf.geometry.y"
   ]
  },
  {
   "cell_type": "raw",
   "id": "opposite-heading",
   "metadata": {},
   "source": [
    "gdf[['ID', 'X', 'Y', 'Z']].to_csv('../../CF_data/synthese/Result_traitem/boreholes_1.csv', index=False)"
   ]
  },
  {
   "cell_type": "raw",
   "id": "protective-plasma",
   "metadata": {},
   "source": [
    "### Liste de tous les ouvrages références y compris les doublons entre jeux de données (et dans chaque jeu de donnée) "
   ]
  },
  {
   "cell_type": "raw",
   "id": "israeli-anaheim",
   "metadata": {},
   "source": [
    "BH = []\n",
    "BH.extend(v2017['Ref_sond'].to_list())\n",
    "BH.extend(v8['Ref'].to_list())\n",
    "BH.extend(sond_ant_gdf['Ref_siterem'].to_list())"
   ]
  },
  {
   "cell_type": "raw",
   "id": "supported-portrait",
   "metadata": {},
   "source": [
    "gdf = v2017.merge(sond_ant_gdf, how='outer', left_on='Ref_sond', right_on='Ref_siterem')\n",
    "gdf[['Ref_sond', 'Ref_siterem']][0:100]"
   ]
  },
  {
   "cell_type": "raw",
   "id": "ceramic-somerset",
   "metadata": {
    "scrolled": true
   },
   "source": [
    "gdf.query('Ref_sond==Ref_siterem')['Ref_sond']"
   ]
  },
  {
   "cell_type": "raw",
   "id": "jewish-thomas",
   "metadata": {},
   "source": [
    "gdf.query('Ref_sond!=Ref_sond')['Ref_siterem'].to_list()"
   ]
  },
  {
   "cell_type": "raw",
   "id": "regulated-requirement",
   "metadata": {},
   "source": [
    "len(BH)"
   ]
  },
  {
   "cell_type": "raw",
   "id": "thirty-complexity",
   "metadata": {},
   "source": [
    "len(set(BH)) # uniques values"
   ]
  },
  {
   "cell_type": "raw",
   "id": "approved-square",
   "metadata": {
    "scrolled": true
   },
   "source": [
    "gdf.query('Ref_siterem!=Ref_siterem')['Ref_sond'].to_list()"
   ]
  },
  {
   "cell_type": "raw",
   "id": "another-music",
   "metadata": {},
   "source": [
    "gdf.columns"
   ]
  },
  {
   "cell_type": "raw",
   "id": "chemical-confusion",
   "metadata": {},
   "source": [
    "for idx, row in gdf.iterrows():\n",
    "    if row['geometry_x'] is None:\n",
    "        if row['geometry_y'] is not None:\n",
    "            gdf.loc[idx, 'distance'] = 0.\n",
    "        else:\n",
    "            gdf.loc[idx, 'distance'] = None\n",
    "    else:\n",
    "        if row['geometry_y'] is None:\n",
    "            gdf.loc[idx, 'distance'] = 0.\n",
    "        else:\n",
    "            gdf.loc[idx, 'distance'] = row['geometry_x'].distance(row['geometry_y'])"
   ]
  },
  {
   "cell_type": "raw",
   "id": "relative-season",
   "metadata": {},
   "source": [
    "gdf.query('distance != distance') # recherche de forages n'ayant aucune coordonnées"
   ]
  },
  {
   "cell_type": "raw",
   "id": "professional-conference",
   "metadata": {},
   "source": [
    "gdf.rename(columns={'Prof_sond':'Long'}, inplace=True)\n",
    "gdf.loc[gdf.query('Refus==1').index, 'Refus']=True\n",
    "gdf.loc[gdf.query('Refus==0').index, 'Refus']=False"
   ]
  },
  {
   "cell_type": "raw",
   "id": "vertical-usage",
   "metadata": {},
   "source": [
    "gdf_viewer(gdf)"
   ]
  },
  {
   "cell_type": "raw",
   "id": "induced-champion",
   "metadata": {},
   "source": [
    "pd.DataFrame(gdf)[['ID', 'X', 'Y', 'Z', 'Long','Refus']].to_csv('../../CF_data/synthese/Result_traitem/boreholes_1geom.csv', index=False)"
   ]
  }
 ],
 "metadata": {
  "kernelspec": {
   "display_name": "Python 3",
   "language": "python",
   "name": "python3"
  },
  "language_info": {
   "codemirror_mode": {
    "name": "ipython",
    "version": 3
   },
   "file_extension": ".py",
   "mimetype": "text/x-python",
   "name": "python",
   "nbconvert_exporter": "python",
   "pygments_lexer": "ipython3",
   "version": "3.8.5"
  }
 },
 "nbformat": 4,
 "nbformat_minor": 5
}
