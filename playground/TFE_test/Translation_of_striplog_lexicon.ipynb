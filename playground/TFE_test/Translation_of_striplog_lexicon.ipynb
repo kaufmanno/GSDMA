{
 "cells": [
  {
   "cell_type": "code",
   "execution_count": 1,
   "id": "built-chest",
   "metadata": {},
   "outputs": [],
   "source": [
    "from google_trans_new import google_translator \n",
    "from striplog import Legend, Decor, Lexicon"
   ]
  },
  {
   "cell_type": "code",
   "execution_count": 2,
   "id": "presidential-packing",
   "metadata": {},
   "outputs": [],
   "source": [
    "#lex=Lexicon(lexique.LEXIQUE)\n",
    "#t=lex.lithologie[0]"
   ]
  },
  {
   "cell_type": "code",
   "execution_count": 3,
   "id": "skilled-trouble",
   "metadata": {},
   "outputs": [],
   "source": [
    "COLOURS = {'k':'#000000','w':'#FFFFFF','r':'#FF0000','g':'#00FF00','b':'#0000FF','c':'#00FFFF','m':'#FF00FF',\n",
    "'y':'#FFFF00','aliceblue':'#F0F8FF','antiquewhite':'#FAEBD7','aqua':'#00FFFF','aquamarine':'#7FFFD4',\n",
    "'azure':'#F0FFFF','beige':'#F5F5DC','bisque':'#FFE4C4','black':'#000000','blanchedalmond':'#FFEBCD',\n",
    "'blue':'#0000FF','blueviolet':'#8A2BE2','brown':'#A52A2A','burlywood':'#DEB887','cadetblue':'#5F9EA0',\n",
    "'chartreuse':'#7FFF00','chocolate':'#D2691E','coral':'#FF7F50','cornflowerblue':'#6495ED','cornsilk':'#FFF8DC',\n",
    "'crimson':'#DC143C','cyan':'#00FFFF','darkblue':'#00008B','darkcyan':'#008B8B','darkgoldenrod':'#B8860B',\n",
    "'darkgray':'#A9A9A9','darkgreen':'#006400','darkkhaki':'#BDB76B','darkmagenta':'#8B008B','darkolivegreen':'#556B2F',\n",
    "'darkorange':'#FF8C00','darkorchid':'#9932CC','darkred':'#8B0000','darksage':'#598556','darksalmon':'#E9967A',\n",
    "'darkseagreen':'#8FBC8F','darkslateblue':'#483D8B','darkslategray':'#2F4F4F','darkturquoise':'#00CED1',\n",
    "'darkviolet':'#9400D3','deeppink':'#FF1493','deepskyblue':'#00BFFF','dimgray':'#696969','dodgerblue':'#1E90FF',\n",
    "'firebrick':'#B22222','floralwhite':'#FFFAF0','forestgreen':'#228B22','fuchsia':'#FF00FF','gainsboro':'#DCDCDC',\n",
    "'ghostwhite':'#F8F8FF','gold':'#FFD700','goldenrod':'#DAA520','gray':'#808080','green':'#008000','greenyellow':'#ADFF2F',\n",
    "'honeydew':'#F0FFF0','hotpink':'#FF69B4','indianred':'#CD5C5C','indigo':'#4B0082','ivory':'#FFFFF0','khaki':'#F0E68C',\n",
    "'lavender':'#E6E6FA','lavenderblush':'#FFF0F5','lawngreen':'#7CFC00','lemonchiffon':'#FFFACD','lightblue':'#ADD8E6',\n",
    "'lightcoral':'#F08080','lightcyan':'#E0FFFF','lightgoldenrodyellow':'#FAFAD2','lightgreen':'#90EE90','lightgray':'#D3D3D3',\n",
    "'lightpink':'#FFB6C1','lightsage':'#BCECAC','lightsalmon':'#FFA07A','lightseagreen':'#20B2AA','lightskyblue':'#87CEFA',\n",
    "'lightslategray':'#778899','lightsteelblue':'#B0C4DE','lightyellow':'#FFFFE0','lime':'#00FF00','limegreen':'#32CD32',\n",
    "'linen':'#FAF0E6','magenta':'#FF00FF','maroon':'#800000','mediumaquamarine':'#66CDAA','mediumblue':'#0000CD',\n",
    "'mediumorchid':'#BA55D3','mediumpurple':'#9370DB','mediumseagreen':'#3CB371','mediumslateblue':'#7B68EE',\n",
    "'mediumspringgreen':'#00FA9A','mediumturquoise':'#48D1CC','mediumvioletred':'#C71585','midnightblue':'#191970',\n",
    "'mintcream':'#F5FFFA','mistyrose':'#FFE4E1','moccasin':'#FFE4B5','navajowhite':'#FFDEAD','navy':'#000080',\n",
    "'oldlace':'#FDF5E6','olive':'#808000','olivedrab':'#6B8E23','orange':'#FFA500','orangered':'#FF4500','orchid':'#DA70D6',\n",
    "'palegoldenrod':'#EEE8AA','palegreen':'#98FB98','paleturquoise':'#AFEEEE','palevioletred':'#DB7093','papayawhip':'#FFEFD5',\n",
    "'peachpuff':'#FFDAB9','peru':'#CD853F','pink':'#FFC0CB','plum':'#DDA0DD','powderblue':'#B0E0E6','purple':'#800080',\n",
    "'red':'#FF0000','rosybrown':'#BC8F8F','royalblue':'#4169E1','saddlebrown':'#8B4513','salmon':'#FA8072','sage':'#87AE73',\n",
    "'sandybrown':'#FAA460','seagreen':'#2E8B57','seashell':'#FFF5EE','sienna':'#A0522D','silver':'#C0C0C0','skyblue':'#87CEEB',\n",
    "'slateblue':'#6A5ACD','slategray':'#708090','snow':'#FFFAFA','springgreen':'#00FF7F','steelblue':'#4682B4','tan':'#D2B48C',\n",
    "'teal':'#008080','thistle':'#D8BFD8','tomato':'#FF6347','turquoise':'#40E0D0','violet':'#EE82EE','wheat':'#F5DEB3',\n",
    "'white':'#FFFFFF','whitesmoke':'#F5F5F5','yellow':'#FFFF00','yellowgreen':'#9ACD32'}"
   ]
  },
  {
   "cell_type": "code",
   "execution_count": 4,
   "id": "premier-steal",
   "metadata": {},
   "outputs": [],
   "source": [
    "LEXIQUE = {'lithology': [r'mort-terrain', r'remblais', r'silt', r'grès', r'siltstone', r'shale',r'conglomérat',r'mudstone', \n",
    "                          r'calcaire', r'dolomite',r'sel', r'halite', r'anhydrite',r'gypse', \n",
    "                          r'sylvite', r'argile', r'boue', r'limon', r'sable', r'gravier', r'blocs rocheux',],\n",
    "           \n",
    "           'modifier': [r'silteu(?:x|se)', r'sableu(?:x|se)', r'argileu(?:x|se)', r'shisteu(?:x|se)', r'boueu(?:x|se)',\n",
    "                        r'caillouteu(?:x|se)', r'graveleu(?:x|se)', r'bitumineu(?:x|se)',],\n",
    "           \n",
    "           'quantity': [r'strie(?:s)?', r'veine(?:s)?', r'filet(?:s)?', r'intercalé(?:s|e|es)?', r'intercalation(?:s)?', r'beaucoup', r'plusieurs', r'interstratifié(?:s|e|es)?', r'tacheté(?:s)?',\n",
    "                        r'bande(?:s)?', r'fragment(?:s)?', r'impurité(?:es)', r'abondant(?:e|es)', r'mineur', r'quelques', \n",
    "                        r'rare', r'flocon(?:s)?', r'trace(?:s)', r'[-.\\d]+%', r'[-.\\d]+pc', r'[-.\\d]+pourcent',],\n",
    "           \n",
    "           'grainsize': [r'vf(?:-)?', r'f(?:-)?', r'm(?:-)?', r'c(?:-)?', r'vc', r'très fin(?:e à)?', \n",
    "                            r'fin(?:e|s|es à)?',r'moyen(?:ne à)?', r'grossi(?:er|ers|ère|ères à)?', r'très grossi(?:er|ère)', \n",
    "                            r't fin(?:e|s|es à)?', r'moy(?: à)?', r'moy.(?: à)?', r't grossier(?:s)?', \n",
    "                            r'granules?', r'cailloux?', r'galets?', r'blocs rocheux?',],\n",
    "           \n",
    "           'colour': [r\"rouge(?:âtre)?\", r\"gris(?:e|âtre)?\", r\"noir(?:e|âtre)?\", r\"blanc(?:he|hâtre)\",\n",
    "                       r\"bleu(?:e|âtre)\", r\"rose(?:âtre)\", r\"jaun(?:e|âtre)?\", r\"ver(?:t|dâtre)?\", \n",
    "                       r\"marron?\", r\"clair\", \"sombre\",],\n",
    "           \n",
    "           'synonyms': {'mort-terrain': ['terres'], 'Anhydrite': ['Gypse'], 'Sel': ['Halite', 'Sylvite'],},\n",
    "           \n",
    "           'splitters': [r' avec ', r' de ', r' cont(?:ient|enant) ', r'\\. ',],\n",
    "           \n",
    "           'parts_of_speech': {'noun': ['lithologie'],\n",
    "                          'adjective': ['couleur', 'taille_grain', 'modifier'],\n",
    "                          'subordinate': ['quantité'],}\n",
    "          }"
   ]
  },
  {
   "cell_type": "code",
   "execution_count": 5,
   "id": "frequent-receipt",
   "metadata": {},
   "outputs": [],
   "source": [
    "def translate_legend(legend=None, timescale=None, svg=None, src='en', dest='fr'):\n",
    "    trans=google_translator()\n",
    "    \n",
    "    leg_name = {1:'Canstrat', 2:'NAGMDM__6_1', 3:'NAGMDM__6_2', 4:'NSDOE', 5:'SGMC'} #6:'NAGMDM__4_3' #(issue) \n",
    "    time_name = {1:'DNAG', 2:'ISC', 3:'USGS_ISC'}\n",
    "    #lex_head=['lithology','modifier', 'amount', 'grainsize', 'colour', 'synonyms', 'splitters', 'parts_of_speech']\n",
    "    \n",
    "    if svg is None: \n",
    "        svg=f'default_Lexicon_{dest.upper()}.py'\n",
    "        \n",
    "    if legend is None:\n",
    "        print('Process with all legends known !')\n",
    "        legend=[1,2,3,4,5]\n",
    "\n",
    "    if timescale is None:\n",
    "        print('Process with all timescales known !')\n",
    "        timescale=[1,2,3]\n",
    "\n",
    "    #------------------------- writting file.py -----------------\n",
    "    leg, time = 0,0\n",
    "\n",
    "    with open(svg, 'w+') as f:\n",
    "        f.write(f'\"\"\"\\nDefinition de quelques valeurs par défault pour les descriptions de cuttings.\\n'+\n",
    "        ':copyright: 2015 Agile Geoscience\\n:license: Apache 2.0\\n:Traduction: N.Y.H \\n\"\"\"')\n",
    "\n",
    "        f.write(f'\\n\\n# =========== LEGENDES ===========\\n')\n",
    "        for n in legend:\n",
    "            if isinstance(n, int) and n in leg_name.keys(): \n",
    "                f.write(f'\\n# {leg_name[n]}\\n')\n",
    "                f.write(f'{leg_name[n]}_LEGEND = \"\"\"colour,width,component lithology\\n')\n",
    "                print(f'|__ {leg_name[n]} Legend processing ...')\n",
    "                leg = Legend.default(name=leg_name[n])\n",
    "                for i in range(len(leg)):\n",
    "                    w = trans.translate(leg[i].component.lithology, lang_src=src, lang_tgt=dest) \n",
    "                    f.write(f'{leg[i].colour},None,{w},\\n')\n",
    "                f.write(f'\"\"\"\\n')\n",
    "\n",
    "            elif isinstance(n, Legend):\n",
    "                for d in n:\n",
    "                    f.write(f'\\n# {n}\\n')\n",
    "                    f.write(f'{n}_LEGEND = \"\"\"colour,width,component lithology\\n')\n",
    "\n",
    "                    for i in range(len(n)):\n",
    "                        w = trans.translate(n[d].component.lithology, lang_src=src, lang_tgt=dest) \n",
    "                        f.write(f'{n[i].colour},None,{w},\\n')\n",
    "                    f.write(f'\"\"\"\\n')\n",
    "            else: \n",
    "                print(\"Error! param 'legend' must be a 'int' [1-6] or a 'Striplog.legend.Legend' object\")\n",
    "\n",
    "\n",
    "        f.write(f'\\n\\n# =========== ECHELLES DES TEMPS ===========\\n')\n",
    "\n",
    "        for n in timescale:\n",
    "            if isinstance(n, int) and n in time_name.keys(): \n",
    "                f.write(f'\\n# {time_name[n]}\\n')\n",
    "                f.write(f'{time_name[n]}_TIMESCALE = \"\"\"colour,width,component age\\n')\n",
    "                print(f'|__ {time_name[n]} Timescale processing ...')\n",
    "                time = Legend.default_timescale(name=time_name[n])\n",
    "                for i in range(len(time)):\n",
    "                    w = trans.translate(time[i].component.age, lang_src=src, lang_tgt=dest) \n",
    "                    f.write(f'{time[i].colour},None,{w},\\n')\n",
    "                f.write(f'\"\"\"\\n')\n",
    "\n",
    "            elif isinstance(n, Decor):\n",
    "                for d in n:\n",
    "                    f.write(f'\\n# {n}\\n')\n",
    "                    f.write(f'{n}_TIMESCALE = \"\"\"colour,width,component age\\n')\n",
    "\n",
    "                    for i in range(len(n)):\n",
    "                        w = trans.translate(n[d].component.age, lang_src=src, lang_tgt=dest) \n",
    "                        f.write(f'{n[i].colour},None,{w},\\n')\n",
    "                    f.write(f'\"\"\"\\n')\n",
    "            else: \n",
    "                print(\"Error! param 'timescale' must be a 'int' [1-3] or a 'Striplog.legend.Decor' object\")\n",
    "\n",
    "\n",
    "        f.write(f'\\n\\n# =========== LEXIQUE ===========\\n')\n",
    "        f.write(f'LEXICON = {LEXIQUE}')\n",
    "        \n",
    "        f.write(f'\\n\\n# =========== COULEURS ===========\\n')\n",
    "        f.write(f'COLORS = {COLOURS}')\n",
    "\n",
    "        \n",
    "    # we can also modify the 'file.py' file directly if we want (to correct some translations)\n",
    "    #TODO: try to choose hatch according to the lithology with a dict or random function"
   ]
  },
  {
   "cell_type": "raw",
   "id": "pretty-natural",
   "metadata": {},
   "source": [
    "translate_legend()"
   ]
  },
  {
   "cell_type": "markdown",
   "id": "mediterranean-pattern",
   "metadata": {},
   "source": [
    "a simple test of building a legend from the new lexicon"
   ]
  },
  {
   "cell_type": "code",
   "execution_count": 1,
   "id": "american-proceeding",
   "metadata": {},
   "outputs": [],
   "source": [
    "from striplog import Component, Legend, Decor, Lexicon\n",
    "import Lexicon_FRA as lexique\n",
    "#import Lexicon_FR as lexique"
   ]
  },
  {
   "cell_type": "raw",
   "id": "otherwise-fleece",
   "metadata": {},
   "source": [
    "print(lexique.LEXICON)"
   ]
  },
  {
   "cell_type": "raw",
   "id": "elder-closing",
   "metadata": {},
   "source": [
    "#add regex '(s)?' to take account of plurals\n",
    "for i in range(len(lexique.LEXICON['lithology'])):\n",
    "    w=lexique.LEXICON['lithology']\n",
    "    #print(w[i][-1])\n",
    "    if w[i][-1]!='s' and w[i][-1]!='?':\n",
    "        w[i]=w[i]+'(s)?'\n",
    "print(lexique.LEXICON['lithology'])"
   ]
  },
  {
   "cell_type": "code",
   "execution_count": 14,
   "id": "moral-headquarters",
   "metadata": {},
   "outputs": [
    {
     "data": {
      "text/html": [
       "<table><tr><td><strong>lithology</strong></td><td>sables</td></tr><tr><td><strong>state</strong></td><td>hétérogène</td></tr><tr><td><strong>material</strong></td><td>laitier</td></tr><tr><td><strong>modifier</strong></td><td>pierreuse</td></tr><tr><td><strong>colour</strong></td><td>gris clair</td></tr></table>"
      ],
      "text/plain": [
       "Component({'lithology': 'sables', 'state': 'hétérogène', 'material': 'laitier', 'modifier': 'pierreuse', 'colour': 'gris clair'})"
      ]
     },
     "execution_count": 14,
     "metadata": {},
     "output_type": "execute_result"
    }
   ],
   "source": [
    "desc=\"sables hétérogène gris-clair foncé avec 20-25% charge pierreuse de type laitier\"#, à peu de grains fins à. Vers 2 - 2.4 m, présence d'eau.\"\n",
    "#desc='shaly sand with vf'\n",
    "\n",
    "lexicon=Lexicon(lexique.LEXICON) # our french lexicon\n",
    "#lexicon=Lexicon.default() # the striplog default lexicon (english)\n",
    "\n",
    "comp=Component.from_text(desc, lexicon)#lexique.LEXIQUE)\n",
    "comp"
   ]
  },
  {
   "cell_type": "code",
   "execution_count": 5,
   "id": "seventh-nightmare",
   "metadata": {
    "scrolled": true
   },
   "outputs": [
    {
     "data": {
      "text/plain": [
       "'sables'"
      ]
     },
     "execution_count": 5,
     "metadata": {},
     "output_type": "execute_result"
    }
   ],
   "source": [
    "comp.lithology"
   ]
  },
  {
   "cell_type": "raw",
   "id": "saving-karaoke",
   "metadata": {},
   "source": [
    "#lgd=Legend.default(name='NAGMDM__4_3') # issue because of the header of this legend in the default.py file\n",
    "lgd=Legend.from_csv(text=lexique.NSDOE_LEGEND)\n",
    "#lgd=Legend.default()\n",
    "len(lgd)"
   ]
  },
  {
   "cell_type": "raw",
   "id": "stock-flooring",
   "metadata": {},
   "source": [
    "lgd"
   ]
  },
  {
   "cell_type": "raw",
   "id": "circular-thriller",
   "metadata": {},
   "source": [
    "#lgd[0].colour\n",
    "#lgd[0].int\n",
    "#lgd[0].data\n",
    "#lgd[0].width\n",
    "lgd[0].component.lithology #='Roche basique ignée'\n"
   ]
  },
  {
   "cell_type": "markdown",
   "id": "thick-charger",
   "metadata": {},
   "source": [
    "============================= Draft ========================="
   ]
  },
  {
   "cell_type": "raw",
   "id": "european-virginia",
   "metadata": {},
   "source": [
    "#dir(module) gives a list of elements or functions in a module\n",
    "lexi_comp=[f for f in dir(lexicon) if not re.compile(r\"__\").match(f)]\n",
    "print(lexi_comp)"
   ]
  }
 ],
 "metadata": {
  "kernelspec": {
   "display_name": "Python 3",
   "language": "python",
   "name": "python3"
  },
  "language_info": {
   "codemirror_mode": {
    "name": "ipython",
    "version": 3
   },
   "file_extension": ".py",
   "mimetype": "text/x-python",
   "name": "python",
   "nbconvert_exporter": "python",
   "pygments_lexer": "ipython3",
   "version": "3.8.5"
  }
 },
 "nbformat": 4,
 "nbformat_minor": 5
}
