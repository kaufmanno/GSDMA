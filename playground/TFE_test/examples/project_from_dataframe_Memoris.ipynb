{
 "cells": [
  {
   "cell_type": "markdown",
   "metadata": {},
   "source": [
    "# Memoris project"
   ]
  },
  {
   "cell_type": "markdown",
   "metadata": {},
   "source": [
    "## Imports"
   ]
  },
  {
   "cell_type": "markdown",
   "metadata": {},
   "source": [
    "#### Internal modules"
   ]
  },
  {
   "cell_type": "code",
   "execution_count": null,
   "metadata": {},
   "outputs": [],
   "source": [
    "from utils.io import dataframe_viewer\n",
    "from utils.orm import orm_boreholes_from_dataframe\n",
    "from utils.visual import legend_from_attributes, find_new_word_for_legend\n",
    "from utils.config import DEFAULT_LITHO_LEXICON, DEFAULT_LITHO_LEGEND, DEFAULT_BOREHOLE_LEGEND, DEFAULT_POL_LEXICON\n",
    "\n",
    "from core.project import Project\n",
    "from definitions import ROOT_DIR"
   ]
  },
  {
   "cell_type": "markdown",
   "metadata": {},
   "source": [
    "#### External modules"
   ]
  },
  {
   "cell_type": "code",
   "execution_count": null,
   "metadata": {},
   "outputs": [],
   "source": [
    "import os\n",
    "import re\n",
    "import pandas as pd\n",
    "import pyvista as pv"
   ]
  },
  {
   "cell_type": "markdown",
   "metadata": {},
   "source": [
    "## Reading of CSV files in a dir"
   ]
  },
  {
   "cell_type": "code",
   "execution_count": null,
   "metadata": {},
   "outputs": [],
   "source": [
    "data_dir = ROOT_DIR + '/CF_data/Result_traitem/fusion_finale/filtered/' "
   ]
  },
  {
   "cell_type": "code",
   "execution_count": null,
   "metadata": {},
   "outputs": [],
   "source": [
    "litho_file = data_dir + 'Lithologies.csv'\n",
    "sample_file = data_dir + 'Samples.csv'\n",
    "bh_file = data_dir + 'Boreholes.csv'"
   ]
  },
  {
   "cell_type": "code",
   "execution_count": null,
   "metadata": {},
   "outputs": [],
   "source": [
    "litho = pd.read_csv(litho_file, sep=',')\n",
    "sample = pd.read_csv(sample_file, sep=',')"
   ]
  },
  {
   "cell_type": "code",
   "execution_count": null,
   "metadata": {
    "scrolled": false
   },
   "outputs": [],
   "source": [
    "dataframe_viewer(litho, rows=5, un_val='ID'), dataframe_viewer(sample, rows=5, un_val='ID')"
   ]
  },
  {
   "cell_type": "code",
   "execution_count": null,
   "metadata": {},
   "outputs": [],
   "source": [
    "litho.loc[1573, 'Litho_base'] = 4.5\n",
    "litho['Type_ech'] = 'Sol'"
   ]
  },
  {
   "cell_type": "markdown",
   "metadata": {},
   "source": [
    "### Keep data concerning Memoris site only"
   ]
  },
  {
   "cell_type": "code",
   "execution_count": null,
   "metadata": {},
   "outputs": [],
   "source": [
    "data_list = [litho, sample]\n",
    "x_lim = (152804.75, 152921.12)\n",
    "y_lim = (122545.08, 122667.38)\n",
    "qry = f'X>={x_lim[0]} and X<={x_lim[1]} and Y>={y_lim[0]} and Y<={y_lim[1]}'\n",
    "\n",
    "final_df = pd.DataFrame()\n",
    "last_index = None\n",
    "skip_cols = []\n",
    "for dataf in data_list:\n",
    "    assert isinstance(dataf, pd.DataFrame)\n",
    "    df = dataf.query(qry).copy()\n",
    "\n",
    "    # rename certain columns' name\n",
    "    for col in df.columns:\n",
    "        if col not in skip_cols:\n",
    "            if re.search('top|toit', col, re.I):\n",
    "                df.rename(columns={col: 'Top_intv'}, inplace=True)\n",
    "            elif re.search('base|mur|assise', col, re.I):\n",
    "                df.rename(columns={col: 'Base_intv'}, inplace=True)\n",
    "            elif re.search('thick|epais', col, re.I):\n",
    "                df.rename(columns={col: 'Thick_intv'}, inplace=True)\n",
    "            elif re.search('descr', col, re.I):\n",
    "                df.rename(columns={col: 'Descr_intv'}, inplace=True)\n",
    "\n",
    "    if last_index is not None:\n",
    "        df.index = range(last_index, last_index + len(df))\n",
    "\n",
    "    final_df = final_df.append(df, ignore_index=True)\n",
    "    last_index = len(final_df)\n",
    "print(last_index, 'rows')"
   ]
  },
  {
   "cell_type": "code",
   "execution_count": null,
   "metadata": {},
   "outputs": [],
   "source": [
    "memoris_site_data = final_df"
   ]
  },
  {
   "cell_type": "markdown",
   "metadata": {},
   "source": [
    "### Rename boreholes by synonyms"
   ]
  },
  {
   "cell_type": "code",
   "execution_count": null,
   "metadata": {},
   "outputs": [],
   "source": [
    "from utils.io import dict_viewer, find_bh_synonyms, choose_bh_synonym, value_replication"
   ]
  },
  {
   "cell_type": "code",
   "execution_count": null,
   "metadata": {
    "scrolled": true
   },
   "outputs": [],
   "source": [
    "syn_dict = find_bh_synonyms(memoris_site_data, regex_skip='bloqu|bis$|\\d+[a-e]\\'?M?$', dist_max=0.2, display=True)"
   ]
  },
  {
   "cell_type": "code",
   "execution_count": null,
   "metadata": {},
   "outputs": [],
   "source": [
    "#choices = {63:'Mon3', 71:'_100_', 72:'_102_', 73:'_103_', 74:'_105_', 75:'_108_'}\n",
    "memoris_site_data, syn_dict = choose_bh_synonym(memoris_site_data, syn_dict, regex_choice='^F|^P|^_F|^\\d+$')#, choice_dict=choices)"
   ]
  },
  {
   "cell_type": "code",
   "execution_count": null,
   "metadata": {},
   "outputs": [],
   "source": [
    "crit_cols = ['ID','X','Y']\n",
    "#pass_cols = crit_cols + ['Litho_top','Litho_base','Litho_epais','Description']\n",
    "copy_cols = ['Type', 'Long_for', 'Diam_for'] #list(data.columns)\n",
    "memoris_site_data = value_replication(memoris_site_data, crit_cols=crit_cols, pass_cols=None, copy_cols=copy_cols)"
   ]
  },
  {
   "cell_type": "code",
   "execution_count": null,
   "metadata": {},
   "outputs": [],
   "source": [
    "cols=['ID', 'Date_for', 'Diam_for', 'Long_for', 'top', 'base', 'Type', 'Descr_intv', 'ID_ech', 'Date_ech']\n",
    "view_cols = []\n",
    "for col in memoris_site_data.columns:\n",
    "    for c in cols:\n",
    "        if re.search(c, col, re.I):\n",
    "            view_cols.append(col)"
   ]
  },
  {
   "cell_type": "code",
   "execution_count": null,
   "metadata": {},
   "outputs": [],
   "source": [
    "memoris_site_data = memoris_site_data.sort_values(['ID','Top_intv', 'Base_intv']).reset_index(drop=True)"
   ]
  },
  {
   "cell_type": "code",
   "execution_count": null,
   "metadata": {},
   "outputs": [],
   "source": [
    "bh_id='205'\n",
    "dataframe_viewer(memoris_site_data.query(f\"ID=='{bh_id}'\")[view_cols], rows=12, cols=16)\n",
    "#dataframe_viewer(memoris_site_data.query(f\"ID=='{bh_id}'\"), rows=10, cols=16)"
   ]
  },
  {
   "cell_type": "markdown",
   "metadata": {},
   "source": [
    "## Create pollutants list from the dataframe columns name"
   ]
  },
  {
   "cell_type": "code",
   "execution_count": null,
   "metadata": {
    "scrolled": true
   },
   "outputs": [],
   "source": [
    "pollutants = []\n",
    "skipped = []\n",
    "for i, c in enumerate(sample.columns):\n",
    "    if c in DEFAULT_POL_LEXICON.abbreviations.keys() or c in DEFAULT_POL_LEXICON.abbreviations.values():\n",
    "        #print(f\"{i}: {c}\")\n",
    "        pollutants.append(c)\n",
    "    else:\n",
    "        skipped.append(c)\n",
    "print(pollutants)"
   ]
  },
  {
   "cell_type": "raw",
   "metadata": {},
   "source": [
    "# add to lexicon_memoris\n",
    "['Sulfure_libre', '1.2-DCBzn', '4-CPhn', 'Fract_16µ', 'DBO_5j', '3.4.5-TMetPhn', 'DiBCM','IPh', '1.3.5-TCBzn', \n",
    " 'ThioCN', '3-CPhn', 'C30-C40', 'K', 'MonoCPhn_tot', 'Ar_C10-C12', 'Ca', '2.6-DMetPhn', 'O-cresol', '2-Naphtol', \n",
    " '1.2.3.4-TCBzn', 'MonoCBzn', '3.4-DMetPhn', 'N_Kjdl', 'Ar_C16-C21', 'Fe_tot', '2.5-DMetPhn', '2.4.5-TCPhn', \n",
    " 'Cresol_tot', '2.4_5-DCPhn', '2.6-DCPhn', 'EthBnz', 'P-cresol', '2.4-DMetPhn', 'DMetPhn_4-EthPhn', '3.4.5-TCPhn', \n",
    " '1.4-DCBzn', 'PCBzn', 'P', '2.3.5-TMPethn', 'Non_chloro_destr', 'CaCO3', 'Fract_2+', 'P(T)ButPhn', '1.3-DCBzn', \n",
    " '2-CPhn', 'HCBzn', 'AlkPhn_C4_tot', 'sulfate', 'Alp_C16-C35', 'Alp_C10-C12', '2.3.4-TCPhn', '2-IsoPropPhn', \n",
    " 'HAP_tot_vrom', 'Fe2', '2.3-DCPhn', 'NH4', '1.2.3-TCBzn', 'HNO2', '2.4.6-TCPhn', '2.3.4.6-TCPhn', 'NH3_libre', \n",
    " 'Cr_tot', 'Alp_C12-C16', 'Sulfure_tot', 'Ar_C12-C16', '2.3.6-TCPhn', 'Thymol', 'C12-C20', 'Ar_C21-C35', 'CPhn_tot',\n",
    " 'DCPhn_tot', 'C20-C30', '3-EthPhn', '2.3.4.5-TCPhn', 'HC_tot_C15-C35', '3.4-DCPhn', '1.2.4-TCBzn', 'Flrn', \n",
    " 'Phosphate_tot', 'M-cresol', 'Mg', 'TriCPhn_tot', 'Mn', '3.5-DCPhn', 'AlkPhn_C2_tot', 'PCPhn', 'TCPhn_tot', 'Na', \n",
    " '2-EthPhn', '1.2.3.4_5-TCBzn', 'Fluorure', 'sulfite', 'Bicarb', '2.3.5.6-TCPhn', 'CN_tot_APE', 'Br_libre', \n",
    " 'Bromoforme', 'BromoDCM', 'AlkPhn_C3_tot', 'C30-C35', 'Fe', 'CN_NCl', '2.3.5-TCPhn', 'HNO3']"
   ]
  },
  {
   "cell_type": "markdown",
   "metadata": {},
   "source": [
    "## Create Boreholes and components from dataframes"
   ]
  },
  {
   "cell_type": "code",
   "execution_count": null,
   "metadata": {
    "scrolled": true
   },
   "outputs": [],
   "source": [
    "boreholes_orm, components_orm, link_intv_comp = orm_boreholes_from_dataframe(\n",
    "                                                data_list=[memoris_site_data], default_z=102, id_col='ID', \n",
    "                                                bh_type_col='Type', date_col='Date_for', \n",
    "                                                length_col = 'Long_for', diameter_col='Diam_for',\n",
    "                                                sample_type_col='Type_ech', sample_id_col='ID_ech',\n",
    "                                                attributes=['lithology']+pollutants, \n",
    "                                                lexicons={'lithology':{'lexicon':DEFAULT_LITHO_LEXICON}}\n",
    "                                                )"
   ]
  },
  {
   "cell_type": "code",
   "execution_count": null,
   "metadata": {},
   "outputs": [],
   "source": [
    "len(boreholes_orm), len(components_orm)"
   ]
  },
  {
   "cell_type": "code",
   "execution_count": null,
   "metadata": {
    "scrolled": true
   },
   "outputs": [],
   "source": [
    "boreholes_orm # list of core.BoreholeOrm objects"
   ]
  },
  {
   "cell_type": "code",
   "execution_count": null,
   "metadata": {
    "scrolled": true
   },
   "outputs": [],
   "source": [
    "components_orm # dict of striplog.Component objects"
   ]
  },
  {
   "cell_type": "code",
   "execution_count": null,
   "metadata": {},
   "outputs": [],
   "source": [
    "link_intv_comp"
   ]
  },
  {
   "cell_type": "markdown",
   "metadata": {},
   "source": [
    "## Create a dictionary containing legends for each representation attribute"
   ]
  },
  {
   "cell_type": "code",
   "execution_count": null,
   "metadata": {},
   "outputs": [],
   "source": [
    "legend_dict = legend_from_attributes([('borehole_type', DEFAULT_BOREHOLE_LEGEND), \n",
    "                                      ('lithology', DEFAULT_LITHO_LEGEND)] + pollutants)"
   ]
  },
  {
   "cell_type": "markdown",
   "metadata": {},
   "source": [
    "## create a project"
   ]
  },
  {
   "cell_type": "code",
   "execution_count": null,
   "metadata": {},
   "outputs": [],
   "source": [
    "p = Project.load(db_name='../tmp_files/Memoris_project', legend_dict=legend_dict, lexicon=DEFAULT_LITHO_LEXICON, \n",
    "                 auto_erase_db=True)"
   ]
  },
  {
   "cell_type": "markdown",
   "metadata": {},
   "source": [
    "### Insert boreholes and components into the project"
   ]
  },
  {
   "cell_type": "code",
   "execution_count": null,
   "metadata": {},
   "outputs": [],
   "source": [
    "p.add_components(components_orm)"
   ]
  },
  {
   "cell_type": "code",
   "execution_count": null,
   "metadata": {
    "scrolled": true
   },
   "outputs": [],
   "source": [
    "for bhorm in boreholes_orm:\n",
    "    p.add_borehole(bhorm)"
   ]
  },
  {
   "cell_type": "code",
   "execution_count": null,
   "metadata": {},
   "outputs": [],
   "source": [
    "p.add_link_components_intervals(link_intv_comp)"
   ]
  },
  {
   "cell_type": "markdown",
   "metadata": {},
   "source": [
    "### Validate modifications "
   ]
  },
  {
   "cell_type": "code",
   "execution_count": null,
   "metadata": {},
   "outputs": [],
   "source": [
    "p.commit()"
   ]
  },
  {
   "cell_type": "code",
   "execution_count": null,
   "metadata": {
    "scrolled": true
   },
   "outputs": [],
   "source": [
    "p.refresh(update_3d=True, update_legend=True)"
   ]
  },
  {
   "cell_type": "code",
   "execution_count": null,
   "metadata": {},
   "outputs": [],
   "source": [
    "p.session.close()"
   ]
  },
  {
   "cell_type": "markdown",
   "metadata": {},
   "source": [
    "## Visualization"
   ]
  },
  {
   "cell_type": "markdown",
   "metadata": {},
   "source": [
    "### Localization of project boreholes"
   ]
  },
  {
   "cell_type": "code",
   "execution_count": null,
   "metadata": {},
   "outputs": [],
   "source": [
    "p.plot_map()"
   ]
  },
  {
   "cell_type": "markdown",
   "metadata": {},
   "source": [
    "## Plot a log for one specific borehole, according to the representation attribute"
   ]
  },
  {
   "cell_type": "code",
   "execution_count": null,
   "metadata": {},
   "outputs": [],
   "source": [
    "attributes = list(legend_dict.keys())\n",
    "print(attributes)"
   ]
  },
  {
   "cell_type": "code",
   "execution_count": null,
   "metadata": {},
   "outputs": [],
   "source": [
    "n = 'lithology' #'borehole_type'\n",
    "if isinstance(n, str):\n",
    "    n = attributes.index(n)\n",
    "\n",
    "print('Chosen attribute is :', attributes[n])\n",
    "p.repr_attribute = attributes[n]"
   ]
  },
  {
   "cell_type": "code",
   "execution_count": null,
   "metadata": {
    "scrolled": true
   },
   "outputs": [],
   "source": [
    "p.attrib_legend"
   ]
  },
  {
   "cell_type": "code",
   "execution_count": null,
   "metadata": {},
   "outputs": [],
   "source": [
    "p.attrib_cmap"
   ]
  },
  {
   "cell_type": "code",
   "execution_count": null,
   "metadata": {},
   "outputs": [],
   "source": [
    "print(p.attrib_values)"
   ]
  },
  {
   "cell_type": "code",
   "execution_count": null,
   "metadata": {
    "scrolled": true
   },
   "outputs": [],
   "source": [
    "find_new_word_for_legend(p.legend_dict, p.repr_attribute)"
   ]
  },
  {
   "cell_type": "markdown",
   "metadata": {},
   "source": [
    "### Borehole log"
   ]
  },
  {
   "cell_type": "code",
   "execution_count": null,
   "metadata": {},
   "outputs": [],
   "source": [
    "bh_name = '205'"
   ]
  },
  {
   "cell_type": "code",
   "execution_count": null,
   "metadata": {},
   "outputs": [],
   "source": [
    "ticks=(0.1, 0.5)\n",
    "p.plot_log(bh_name=bh_name, ticks=ticks)"
   ]
  },
  {
   "cell_type": "code",
   "execution_count": null,
   "metadata": {},
   "outputs": [],
   "source": [
    "p.boreholes_3d[bh_name]#.attrib_components()"
   ]
  },
  {
   "cell_type": "markdown",
   "metadata": {},
   "source": [
    "#### add ground surface to the plotter"
   ]
  },
  {
   "cell_type": "code",
   "execution_count": null,
   "metadata": {},
   "outputs": [],
   "source": [
    "other_vtks = {'ground_surface':{'mesh':pv.read('../20211122/ground_surface.vtk'),\n",
    "                                'color':'green', \n",
    "                                'opacity':0.2}}"
   ]
  },
  {
   "cell_type": "code",
   "execution_count": null,
   "metadata": {},
   "outputs": [],
   "source": [
    "bg_color = 'white'\n",
    "p.plot_3d(bh_name_size=10, legend_title_size=25, legend_label_size=6, legend_vertical=True, \n",
    "          bg_color=bg_color, window_size=(800, 600), diam=0.2, smooth_shading=True,\n",
    "         add_vtks_obj=other_vtks)"
   ]
  },
  {
   "cell_type": "markdown",
   "metadata": {},
   "source": [
    "* Change repr_attribute"
   ]
  },
  {
   "cell_type": "code",
   "execution_count": null,
   "metadata": {},
   "outputs": [],
   "source": [
    "n = 'lithology'\n",
    "if isinstance(n, str):\n",
    "    n = attributes.index(n)\n",
    "\n",
    "print('Chosen attribute is :', attributes[n])\n",
    "p.repr_attribute = attributes[n]"
   ]
  },
  {
   "cell_type": "code",
   "execution_count": null,
   "metadata": {},
   "outputs": [],
   "source": [
    "from striplog import Interval, Component, Striplog"
   ]
  },
  {
   "cell_type": "code",
   "execution_count": null,
   "metadata": {},
   "outputs": [],
   "source": [
    "intv = [Interval(0,1,description=None, components=[Component({'lithology':'sable'})]), \n",
    "        Interval(1,2,components=[]), \n",
    "        Interval(2,3,components=[Component({'lithology':'limon'})]),\n",
    "        Interval(3,4,components=[Component({'lithology':'remblai'})])]"
   ]
  },
  {
   "cell_type": "code",
   "execution_count": null,
   "metadata": {},
   "outputs": [],
   "source": [
    "Striplog(intv).plot(aspect=2, ticks=(.5, 1))"
   ]
  },
  {
   "cell_type": "code",
   "execution_count": null,
   "metadata": {
    "scrolled": true
   },
   "outputs": [],
   "source": [
    "n = 'arsenic'\n",
    "if isinstance(n, str):\n",
    "    n = attributes.index(n)\n",
    "\n",
    "print('Chosen attribute is :', attributes[n])\n",
    "p.repr_attribute = attributes[n]"
   ]
  },
  {
   "cell_type": "code",
   "execution_count": null,
   "metadata": {},
   "outputs": [],
   "source": [
    "ticks=(0.05, 0.2)\n",
    "p.plot_log(bh_name=bh_name, ticks=ticks)"
   ]
  },
  {
   "cell_type": "code",
   "execution_count": null,
   "metadata": {},
   "outputs": [],
   "source": [
    "p.boreholes_3d[bh_name]#.attrib_components()"
   ]
  },
  {
   "cell_type": "code",
   "execution_count": null,
   "metadata": {},
   "outputs": [],
   "source": [
    "p.attrib_legend"
   ]
  },
  {
   "cell_type": "code",
   "execution_count": null,
   "metadata": {},
   "outputs": [],
   "source": [
    "p.attrib_cmap"
   ]
  },
  {
   "cell_type": "code",
   "execution_count": null,
   "metadata": {},
   "outputs": [],
   "source": [
    "p.repr_attribute"
   ]
  },
  {
   "cell_type": "code",
   "execution_count": null,
   "metadata": {},
   "outputs": [],
   "source": [
    "p.boreholes_3d[bh_name].attrib_components()"
   ]
  },
  {
   "cell_type": "raw",
   "metadata": {},
   "source": [
    "p.boreholes_3d[bh_name].intervals[1]"
   ]
  },
  {
   "cell_type": "code",
   "execution_count": null,
   "metadata": {},
   "outputs": [],
   "source": [
    "p.__fictive_bh3d__.plot_log()"
   ]
  },
  {
   "cell_type": "raw",
   "metadata": {},
   "source": [
    "bg_color = 'w'#[\"royalblue\", \"aliceblue\"] #'white'\n",
    "p.plot_3d(bh_name_size=10, legend_title_size=25, legend_label_size=6, legend_vertical=True, \n",
    "          bg_color=bg_color, window_size=(800, 600), diam=0.2, smooth_shading=True,\n",
    "         add_vtks_obj=other_vtks)#, verbose=True)#, jupyter_backend='panel', verbose=False)"
   ]
  },
  {
   "cell_type": "markdown",
   "metadata": {},
   "source": [
    "### 3D display of project's boreholes"
   ]
  },
  {
   "cell_type": "raw",
   "metadata": {},
   "source": [
    "n = 'lithology' #'borehole_type'\n",
    "if isinstance(n, str):\n",
    "    n = attributes.index(n)\n",
    "\n",
    "print('Chosen attribute is :', attributes[n])\n",
    "p.repr_attribute = attributes[n]"
   ]
  },
  {
   "cell_type": "raw",
   "metadata": {},
   "source": [
    "bg_color = [\"royalblue\", \"aliceblue\"] #'white'\n",
    "p.plot_3d(labels_size=15, bg_color=bg_color, window_size=(800, 600), diam=0.2, smooth_shading=True,\n",
    "         add_vtks_obj=other_vtks)#, verbose=True)#, jupyter_backend='panel', verbose=False)"
   ]
  },
  {
   "cell_type": "markdown",
   "metadata": {},
   "source": [
    "### 3D display of one borehole"
   ]
  },
  {
   "cell_type": "raw",
   "metadata": {},
   "source": [
    "p.boreholes_3d[bh_name].intervals[1]"
   ]
  },
  {
   "cell_type": "raw",
   "metadata": {},
   "source": [
    "p.boreholes_3d[bh_name].plot_3d(str_annotations=True, custom_legend=True)"
   ]
  },
  {
   "cell_type": "raw",
   "metadata": {},
   "source": [
    "p.boreholes_3d[bh_name]._vtk"
   ]
  },
  {
   "cell_type": "raw",
   "metadata": {},
   "source": [
    "p.boreholes_3d[bh_name]._vtk.CELL_DATA_FIELD #.get_array #geometry.data[2].array.array"
   ]
  }
 ],
 "metadata": {
  "kernelspec": {
   "display_name": "Python 3 (ipykernel)",
   "language": "python",
   "name": "python3"
  },
  "language_info": {
   "codemirror_mode": {
    "name": "ipython",
    "version": 3
   },
   "file_extension": ".py",
   "mimetype": "text/x-python",
   "name": "python",
   "nbconvert_exporter": "python",
   "pygments_lexer": "ipython3",
   "version": "3.8.10"
  }
 },
 "nbformat": 4,
 "nbformat_minor": 4
}
