{
 "cells": [
  {
   "cell_type": "markdown",
   "metadata": {},
   "source": [
    "# Memoris project"
   ]
  },
  {
   "cell_type": "markdown",
   "metadata": {},
   "source": [
    "## Imports"
   ]
  },
  {
   "cell_type": "markdown",
   "metadata": {},
   "source": [
    "#### Internal modules"
   ]
  },
  {
   "cell_type": "code",
   "execution_count": null,
   "metadata": {},
   "outputs": [],
   "source": [
    "from core.visual import Borehole3D, striplog_legend_to_omf_legend \n",
    "from utils.lexicon_memoris import LEG_CONTAMINATION_LEV\n",
    "from utils.io import dataframe_viewer, dict_viewer\n",
    "from utils.orm import orm_boreholes_from_dataframe\n",
    "from utils.visual import legend_from_attributes, find_new_word_for_legend\n",
    "from core.project import Project\n",
    "from core.orm import BoreholeOrm, PositionOrm, Base \n",
    "from utils.config import DEFAULT_LITHO_LEXICON, DEFAULT_LITHO_LEGEND, DEFAULT_BOREHOLE_LEXICON, \\\n",
    "DEFAULT_BOREHOLE_LEGEND, DEFAULT_POL_LEXICON"
   ]
  },
  {
   "cell_type": "markdown",
   "metadata": {},
   "source": [
    "#### External modules"
   ]
  },
  {
   "cell_type": "code",
   "execution_count": null,
   "metadata": {},
   "outputs": [],
   "source": [
    "import matplotlib.pyplot as plt\n",
    "import os\n",
    "import re\n",
    "import pandas as pd\n",
    "import numpy as np\n",
    "from striplog import Component, Decor, Legend, Lexicon, Striplog\n",
    "from sqlalchemy import create_engine\n",
    "from sqlalchemy.orm import sessionmaker\n",
    "from definitions import ROOT_DIR"
   ]
  },
  {
   "cell_type": "markdown",
   "metadata": {},
   "source": [
    "## Reading of CSV files in a dir"
   ]
  },
  {
   "cell_type": "code",
   "execution_count": null,
   "metadata": {},
   "outputs": [],
   "source": [
    "data_dir = ROOT_DIR + '/CF_data/Result_traitem/fusion_finale/filtered/' "
   ]
  },
  {
   "cell_type": "code",
   "execution_count": null,
   "metadata": {},
   "outputs": [],
   "source": [
    "litho_file = data_dir + 'Lithologies.csv'\n",
    "sample_file = data_dir + 'Samples.csv'\n",
    "bh_file = data_dir + 'Boreholes.csv'"
   ]
  },
  {
   "cell_type": "code",
   "execution_count": null,
   "metadata": {},
   "outputs": [],
   "source": [
    "litho = pd.read_csv(litho_file, sep=',')\n",
    "sample = pd.read_csv(sample_file, sep=',')\n",
    "borehole = pd.read_csv(bh_file, sep=',')"
   ]
  },
  {
   "cell_type": "code",
   "execution_count": null,
   "metadata": {
    "scrolled": false
   },
   "outputs": [],
   "source": [
    "dataframe_viewer(borehole, rows=5, un_val='ID'), dataframe_viewer(litho, rows=5, un_val='ID'), dataframe_viewer(sample, rows=5, un_val='ID')"
   ]
  },
  {
   "cell_type": "code",
   "execution_count": null,
   "metadata": {},
   "outputs": [],
   "source": [
    "litho.loc[1573, 'Litho_base'] = 4.5"
   ]
  },
  {
   "cell_type": "raw",
   "metadata": {},
   "source": [
    "litho['Type'] = litho['Type'].apply(lambda x: 'Piezometre')"
   ]
  },
  {
   "cell_type": "code",
   "execution_count": null,
   "metadata": {},
   "outputs": [],
   "source": [
    "data_list = [litho, sample]\n",
    "bh_id='F81'\n",
    "cols=['Long_for', '_top', '_base']\n",
    "\n",
    "for data in data_list:\n",
    "    view_cols = []\n",
    "    for col in data.columns:\n",
    "        for c in cols:\n",
    "            if re.search(c, col, re.I):\n",
    "                view_cols.append(col)\n",
    "                \n",
    "    dataframe_viewer(data.query(f\"ID=='{bh_id}'\")[view_cols], rows=3, cols=16)"
   ]
  },
  {
   "cell_type": "markdown",
   "metadata": {},
   "source": [
    "## Create pollutants list from the dataframe columns name"
   ]
  },
  {
   "cell_type": "code",
   "execution_count": null,
   "metadata": {
    "scrolled": true
   },
   "outputs": [],
   "source": [
    "pollutants = []\n",
    "skipped = []\n",
    "for i, c in enumerate(sample.columns):\n",
    "    if c in DEFAULT_POL_LEXICON.abbreviations.keys() or c in DEFAULT_POL_LEXICON.abbreviations.values():\n",
    "        #print(f\"{i}: {c}\")\n",
    "        pollutants.append(c)\n",
    "    else:\n",
    "        skipped.append(c)\n",
    "print(pollutants)"
   ]
  },
  {
   "cell_type": "raw",
   "metadata": {},
   "source": [
    "# add to lexicon_memoris\n",
    "['Sulfure_libre', '1.2-DCBzn', '4-CPhn', 'Fract_16µ', 'DBO_5j', '3.4.5-TMetPhn', 'DiBCM','IPh', '1.3.5-TCBzn', \n",
    " 'ThioCN', '3-CPhn', 'C30-C40', 'K', 'MonoCPhn_tot', 'Ar_C10-C12', 'Ca', '2.6-DMetPhn', 'O-cresol', '2-Naphtol', \n",
    " '1.2.3.4-TCBzn', 'MonoCBzn', '3.4-DMetPhn', 'N_Kjdl', 'Ar_C16-C21', 'Fe_tot', '2.5-DMetPhn', '2.4.5-TCPhn', \n",
    " 'Cresol_tot', '2.4_5-DCPhn', '2.6-DCPhn', 'EthBnz', 'P-cresol', '2.4-DMetPhn', 'DMetPhn_4-EthPhn', '3.4.5-TCPhn', \n",
    " '1.4-DCBzn', 'PCBzn', 'P', '2.3.5-TMPethn', 'Non_chloro_destr', 'CaCO3', 'Fract_2+', 'P(T)ButPhn', '1.3-DCBzn', \n",
    " '2-CPhn', 'HCBzn', 'AlkPhn_C4_tot', 'sulfate', 'Alp_C16-C35', 'Alp_C10-C12', '2.3.4-TCPhn', '2-IsoPropPhn', \n",
    " 'HAP_tot_vrom', 'Fe2', '2.3-DCPhn', 'NH4', '1.2.3-TCBzn', 'HNO2', '2.4.6-TCPhn', '2.3.4.6-TCPhn', 'NH3_libre', \n",
    " 'Cr_tot', 'Alp_C12-C16', 'Sulfure_tot', 'Ar_C12-C16', '2.3.6-TCPhn', 'Thymol', 'C12-C20', 'Ar_C21-C35', 'CPhn_tot',\n",
    " 'DCPhn_tot', 'C20-C30', '3-EthPhn', '2.3.4.5-TCPhn', 'HC_tot_C15-C35', '3.4-DCPhn', '1.2.4-TCBzn', 'Flrn', \n",
    " 'Phosphate_tot', 'M-cresol', 'Mg', 'TriCPhn_tot', 'Mn', '3.5-DCPhn', 'AlkPhn_C2_tot', 'PCPhn', 'TCPhn_tot', 'Na', \n",
    " '2-EthPhn', '1.2.3.4_5-TCBzn', 'Fluorure', 'sulfite', 'Bicarb', '2.3.5.6-TCPhn', 'CN_tot_APE', 'Br_libre', \n",
    " 'Bromoforme', 'BromoDCM', 'AlkPhn_C3_tot', 'C30-C35', 'Fe', 'CN_NCl', '2.3.5-TCPhn', 'HNO3']"
   ]
  },
  {
   "cell_type": "markdown",
   "metadata": {},
   "source": [
    "## Create Boreholes and components from dataframes"
   ]
  },
  {
   "cell_type": "code",
   "execution_count": null,
   "metadata": {},
   "outputs": [],
   "source": [
    "data_list = [litho[:500], sample[:500]]"
   ]
  },
  {
   "cell_type": "code",
   "execution_count": null,
   "metadata": {
    "scrolled": true
   },
   "outputs": [],
   "source": [
    "boreholes_orm, components, link_intv_comp = orm_boreholes_from_dataframe(data_list, default_z=102, id_col='ID', \n",
    "                                                bh_type_col='Type', date_col='Date_for',\n",
    "                                                length_col = 'Long_for', diameter_col='Diam_for',\n",
    "                                                sample_type_col='Type_ech', sample_id_col='ID_ech',\n",
    "                                                attributes=['lithology']+pollutants, \n",
    "                                                symbols={'lithology':{'lexicon':DEFAULT_LITHO_LEXICON}}\n",
    "                                                )"
   ]
  },
  {
   "cell_type": "code",
   "execution_count": null,
   "metadata": {},
   "outputs": [],
   "source": [
    "len(boreholes_orm), len(components)"
   ]
  },
  {
   "cell_type": "code",
   "execution_count": null,
   "metadata": {
    "scrolled": true
   },
   "outputs": [],
   "source": [
    "boreholes_orm # list of core.BoreholeOrm objects"
   ]
  },
  {
   "cell_type": "code",
   "execution_count": null,
   "metadata": {
    "scrolled": true
   },
   "outputs": [],
   "source": [
    "components # dict of striplog.Component objects"
   ]
  },
  {
   "cell_type": "raw",
   "metadata": {},
   "source": [
    "link_intv_comp"
   ]
  },
  {
   "cell_type": "markdown",
   "metadata": {},
   "source": [
    "## Create a dictionary containing legends for each representation attribute"
   ]
  },
  {
   "cell_type": "code",
   "execution_count": null,
   "metadata": {},
   "outputs": [],
   "source": [
    "legend_dict = legend_from_attributes([('borehole_type', DEFAULT_BOREHOLE_LEGEND), \n",
    "                                      ('lithology', DEFAULT_LITHO_LEGEND)] + pollutants)"
   ]
  },
  {
   "cell_type": "markdown",
   "metadata": {},
   "source": [
    "## Create a database for the project"
   ]
  },
  {
   "cell_type": "code",
   "execution_count": null,
   "metadata": {},
   "outputs": [],
   "source": [
    "DB_name = '../tmp_files/memoris_db.db'\n",
    "\n",
    "if os.path.exists(DB_name):\n",
    "    os.remove(DB_name)\n",
    "\n",
    "engine = create_engine(f\"sqlite:///{DB_name}\", echo=False)"
   ]
  },
  {
   "cell_type": "code",
   "execution_count": null,
   "metadata": {
    "scrolled": true
   },
   "outputs": [],
   "source": [
    "Base.metadata.create_all(engine)"
   ]
  },
  {
   "cell_type": "code",
   "execution_count": null,
   "metadata": {},
   "outputs": [],
   "source": [
    "Session = sessionmaker(bind=engine)\n",
    "session = Session()"
   ]
  },
  {
   "cell_type": "markdown",
   "metadata": {},
   "source": [
    "## create a project"
   ]
  },
  {
   "cell_type": "code",
   "execution_count": null,
   "metadata": {},
   "outputs": [],
   "source": [
    "p = Project(session, name='Memoris_project', legend_dict=legend_dict, lexicon=DEFAULT_LITHO_LEXICON)"
   ]
  },
  {
   "cell_type": "markdown",
   "metadata": {},
   "source": [
    "### Insert boreholes and components into the project"
   ]
  },
  {
   "cell_type": "code",
   "execution_count": null,
   "metadata": {},
   "outputs": [],
   "source": [
    "p.add_components(components)"
   ]
  },
  {
   "cell_type": "code",
   "execution_count": null,
   "metadata": {
    "scrolled": true
   },
   "outputs": [],
   "source": [
    "for bhorm in boreholes_orm:\n",
    "    p.add_borehole(bhorm)"
   ]
  },
  {
   "cell_type": "code",
   "execution_count": null,
   "metadata": {},
   "outputs": [],
   "source": [
    "p.add_link_components_intervals(link_intv_comp)"
   ]
  },
  {
   "cell_type": "markdown",
   "metadata": {},
   "source": [
    "### Validate modifications "
   ]
  },
  {
   "cell_type": "code",
   "execution_count": null,
   "metadata": {},
   "outputs": [],
   "source": [
    "p.commit()"
   ]
  },
  {
   "cell_type": "code",
   "execution_count": null,
   "metadata": {
    "scrolled": true
   },
   "outputs": [],
   "source": [
    "p.refresh(update_3d=True)"
   ]
  },
  {
   "cell_type": "code",
   "execution_count": null,
   "metadata": {},
   "outputs": [],
   "source": [
    "len(p.boreholes_3d)"
   ]
  },
  {
   "cell_type": "code",
   "execution_count": null,
   "metadata": {},
   "outputs": [],
   "source": [
    "session.close()"
   ]
  },
  {
   "cell_type": "markdown",
   "metadata": {},
   "source": [
    "## Project legend dict"
   ]
  },
  {
   "cell_type": "code",
   "execution_count": null,
   "metadata": {},
   "outputs": [],
   "source": [
    "attributes = list(legend_dict.keys())\n",
    "print(attributes)"
   ]
  },
  {
   "cell_type": "raw",
   "metadata": {
    "scrolled": true
   },
   "source": [
    "p.update_legend_cmap(compute_all_attrib=True, legend_dict=legend_dict, update_project_legend=True, verbose=False)"
   ]
  },
  {
   "cell_type": "code",
   "execution_count": null,
   "metadata": {},
   "outputs": [],
   "source": [
    "n = 1\n",
    "print('Chosen attribute is :', attributes[n])\n",
    "p.repr_attribute = attributes[n]"
   ]
  },
  {
   "cell_type": "code",
   "execution_count": null,
   "metadata": {
    "scrolled": true
   },
   "outputs": [],
   "source": [
    "p.legend_dict[p.repr_attribute]['legend']"
   ]
  },
  {
   "cell_type": "code",
   "execution_count": null,
   "metadata": {},
   "outputs": [],
   "source": [
    "p.legend_dict[attributes[n]]['cmap']"
   ]
  },
  {
   "cell_type": "code",
   "execution_count": null,
   "metadata": {},
   "outputs": [],
   "source": [
    "find_new_word_for_legend(p.legend_dict, p.repr_attribute)"
   ]
  },
  {
   "cell_type": "raw",
   "metadata": {
    "scrolled": true
   },
   "source": [
    "print(p.legend_dict[attributes[n]]['values']), len(p.legend_dict[attributes[n]]['legend'])"
   ]
  },
  {
   "cell_type": "markdown",
   "metadata": {},
   "source": [
    "## Visualization"
   ]
  },
  {
   "cell_type": "code",
   "execution_count": null,
   "metadata": {},
   "outputs": [],
   "source": [
    "bh_name = '201'"
   ]
  },
  {
   "cell_type": "markdown",
   "metadata": {},
   "source": [
    "### Plot a log for one borehole, according to the representation attribute"
   ]
  },
  {
   "cell_type": "code",
   "execution_count": null,
   "metadata": {},
   "outputs": [],
   "source": [
    "p.boreholes_3d[bh_name]#.attrib_components()"
   ]
  },
  {
   "cell_type": "code",
   "execution_count": null,
   "metadata": {
    "scrolled": true
   },
   "outputs": [],
   "source": [
    "p.boreholes_3d[bh_name].attrib_components()"
   ]
  },
  {
   "cell_type": "code",
   "execution_count": null,
   "metadata": {},
   "outputs": [],
   "source": [
    "p.plot_log(bh_name=bh_name)"
   ]
  },
  {
   "cell_type": "markdown",
   "metadata": {},
   "source": [
    "### Localization of project boreholes"
   ]
  },
  {
   "cell_type": "code",
   "execution_count": null,
   "metadata": {},
   "outputs": [],
   "source": [
    "p.plot_map()"
   ]
  },
  {
   "cell_type": "markdown",
   "metadata": {},
   "source": [
    "### 3D display of one borehole"
   ]
  },
  {
   "cell_type": "raw",
   "metadata": {},
   "source": [
    "p.boreholes_3d[bh_name].plot_3d(str_annotations=True)"
   ]
  },
  {
   "cell_type": "raw",
   "metadata": {},
   "source": [
    "p.boreholes_3d[bh_name]._vtk.CELL_DATA_FIELD #.get_array #geometry.data[2].array.array"
   ]
  },
  {
   "cell_type": "raw",
   "metadata": {},
   "source": [
    "p.boreholes_3d[bh_name]._vtk"
   ]
  },
  {
   "cell_type": "code",
   "execution_count": null,
   "metadata": {},
   "outputs": [],
   "source": [
    "from utils.orm import create_bh3d_from_bhorm, interval_orm_to_interval"
   ]
  },
  {
   "cell_type": "code",
   "execution_count": null,
   "metadata": {},
   "outputs": [],
   "source": [
    "def get_interval_list(bh_orm, attribute=None, project=None):\n",
    "    \"\"\"create a list of interval from a boreholeORM object, based on an attribute if not None\n",
    "\n",
    "    Parameters\n",
    "    -------------\n",
    "    bh_orm: boreholeOrm object\n",
    "        A BoreholeOrm object from which intervals matching the attribute will be listed\n",
    "    attribute: str\n",
    "        The attribute of components to search in components associated with the borehole intervals\n",
    "    project: Project object\n",
    "\n",
    "    Returns\n",
    "    ---------\n",
    "    interval_list: list\n",
    "        List of Interval objects for each type of interval\n",
    "    max_depth: float\n",
    "        Borehole's maximum depth for all intervals\n",
    "\n",
    "    \"\"\"\n",
    "\n",
    "    max_depth = None\n",
    "    interval_list = []\n",
    "    for int_id, intv_orm in bh_orm.intervals.items():\n",
    "        for c in intv_orm.components:\n",
    "            interval_attributes = [i for i in eval(c.description).keys()]\n",
    "            if interval_attributes[0] == 'pollutant':\n",
    "                interval_attributes = [eval(c.description)['pollutant']]\n",
    "\n",
    "            if (attribute in interval_attributes) or (attribute is None):\n",
    "                interval_list.append(interval_orm_to_interval(intv_orm, project))\n",
    "\n",
    "            if 'borehole_type' in interval_attributes:\n",
    "                max_depth = intv_orm.base.middle\n",
    "    assert max_depth is not None\n",
    "    return interval_list, max_depth"
   ]
  },
  {
   "cell_type": "code",
   "execution_count": null,
   "metadata": {},
   "outputs": [],
   "source": [
    "n = 'zinc'\n",
    "if isinstance(n, str):\n",
    "    n = attributes.index(n)\n",
    "\n",
    "print('Chosen attribute is :', attributes[n])"
   ]
  },
  {
   "cell_type": "code",
   "execution_count": null,
   "metadata": {
    "scrolled": true
   },
   "outputs": [],
   "source": [
    "p.repr_attribute = attributes[n]\n",
    "self = p\n",
    "bhs_3d = {}\n",
    "for bh in self.boreholes_orm.values():\n",
    "    if len(get_interval_list(bh, self.repr_attribute)[0])>0:\n",
    "        z_ref = get_interval_list(bh, 'borehole_type')[0][0].top.z\n",
    "        bhs_3d.update({bh.id : create_bh3d_from_bhorm(bh, z_ref=z_ref, attribute=self.repr_attribute, \n",
    "                                                      legend_dict=self.legend_dict)})"
   ]
  },
  {
   "cell_type": "code",
   "execution_count": null,
   "metadata": {},
   "outputs": [],
   "source": [
    "bhs_3d"
   ]
  },
  {
   "cell_type": "code",
   "execution_count": null,
   "metadata": {},
   "outputs": [],
   "source": [
    "pause"
   ]
  },
  {
   "cell_type": "markdown",
   "metadata": {},
   "source": [
    "### 3D display of project boreholes"
   ]
  },
  {
   "cell_type": "code",
   "execution_count": null,
   "metadata": {},
   "outputs": [],
   "source": [
    "n = 5\n",
    "print('Chosen attribute is :', attributes[n])"
   ]
  },
  {
   "cell_type": "code",
   "execution_count": null,
   "metadata": {},
   "outputs": [],
   "source": [
    "p.repr_attribute = attributes[n]"
   ]
  },
  {
   "cell_type": "code",
   "execution_count": null,
   "metadata": {},
   "outputs": [],
   "source": [
    "p.legend_dict[p.repr_attribute]['legend']"
   ]
  },
  {
   "cell_type": "code",
   "execution_count": null,
   "metadata": {},
   "outputs": [],
   "source": [
    "bg_color=\"white\" # [\"royalblue\", \"aliceblue\"]\n",
    "p.plot_3d(labels_size=15, bg_color=bg_color, window_size=(800, 600), jupyter_backend='panel', \n",
    "          verbose=True)"
   ]
  },
  {
   "cell_type": "code",
   "execution_count": null,
   "metadata": {},
   "outputs": [],
   "source": []
  }
 ],
 "metadata": {
  "kernelspec": {
   "display_name": "Python 3 (ipykernel)",
   "language": "python",
   "name": "python3"
  },
  "language_info": {
   "codemirror_mode": {
    "name": "ipython",
    "version": 3
   },
   "file_extension": ".py",
   "mimetype": "text/x-python",
   "name": "python",
   "nbconvert_exporter": "python",
   "pygments_lexer": "ipython3",
   "version": "3.8.10"
  }
 },
 "nbformat": 4,
 "nbformat_minor": 4
}
