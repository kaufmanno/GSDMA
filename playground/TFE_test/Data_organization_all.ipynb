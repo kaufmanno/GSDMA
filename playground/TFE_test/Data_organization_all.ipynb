{
 "cells": [
  {
   "cell_type": "markdown",
   "id": "indonesian-alloy",
   "metadata": {},
   "source": [
    "# DATA ORGANIZATION"
   ]
  },
  {
   "cell_type": "raw",
   "id": "demanding-former",
   "metadata": {},
   "source": [
    "config Completer.use_jedi = False"
   ]
  },
  {
   "cell_type": "code",
   "execution_count": 12,
   "id": "naughty-clerk",
   "metadata": {},
   "outputs": [],
   "source": [
    "from utils.io import update_dict, gen_dated_id, dataframe_viewer, gen_geodf_geom, data_merger, data_validation, \\\n",
    "data_slicer, replicate_values, collect_measure, collect_time_data, gen_id_from_ech, na_col_drop, na_line_drop, col_ren, \\\n",
    "dble_col_drop, dict_viewer\n",
    "\n",
    "from utils.config import DEFAULT_POL_LEXICON, POL_NAMES_MODEL \n",
    "from difflib import get_close_matches\n",
    "\n",
    "import re, os\n",
    "import numpy as np\n",
    "import geopandas as gpd\n",
    "import pandas as pd\n",
    "import datetime as dtm\n",
    "import matplotlib.pyplot as plt\n",
    "from definitions import ROOT_DIR"
   ]
  },
  {
   "cell_type": "code",
   "execution_count": 13,
   "id": "limiting-bracket",
   "metadata": {},
   "outputs": [],
   "source": [
    "def compute_BH_length(df, id_col='ID', length_col_name='Long_for', top_col='Intv_top', base_col='Intv_base', verbose=False):\n",
    "    \n",
    "    if length_col_name in df.columns:\n",
    "        raise(NameError(f'{length_col_name} is already in columns. Give another name'))\n",
    "    \n",
    "    for i in df.index:\n",
    "        try:\n",
    "            float(df.loc[i, top_col])\n",
    "        except ValueError:\n",
    "            df.loc[i, top_col] = np.nan\n",
    "\n",
    "        try:\n",
    "            float(df.loc[i, base_col])\n",
    "        except ValueError:\n",
    "            df.loc[i, base_col] = np.nan\n",
    "\n",
    "    df[top_col] = df[top_col].astype('float64')\n",
    "    df[base_col] = df[base_col].astype('float64')\n",
    "\n",
    "    # compute length based on litho_top and litho_base\n",
    "    id_list = []\n",
    "\n",
    "    for i in df.index:\n",
    "        id_ = df.loc[i,id_col]\n",
    "        \n",
    "        if verbose : print(i, id_, df.loc[i, top_col], df.loc[i, base_col])\n",
    "        if id_ not in id_list:\n",
    "            id_list.append(id_)\n",
    "            if isinstance(id_, str):\n",
    "                sql_id = f\"{id_}\"\n",
    "            elif isinstance(id_, float) or isinstance(id_, int):\n",
    "                sql_id = id_\n",
    "                \n",
    "            tmp = df[df[id_col] == sql_id]\n",
    "            \n",
    "            if verbose : print(len(tmp))\n",
    "            #if len(tmp) > 0:\n",
    "            df.loc[tmp.index, length_col_name] = float(max(tmp[base_col])) - float(min(tmp[top_col]))\n",
    "    \n",
    "    df.drop(index=df.query(f'{base_col}.isnull() and {top_col}.isnull()').index, inplace=True)\n",
    "    df.insert(df.columns.to_list().index(id_col)+1, length_col_name, df.pop(length_col_name))\n",
    "    #df.reset_index(drop=True, inplace=True)\n",
    "    "
   ]
  },
  {
   "cell_type": "code",
   "execution_count": 14,
   "id": "c7a9c848",
   "metadata": {},
   "outputs": [],
   "source": [
    "POL_NAMES_MODEL = {'Arsenic': 'As', 'Cobalt': 'Co', 'Cadmium': 'Cd', 'Chrome': 'Cr', 'Chrome VI': 'Cr_VI', 'Chrome (VI)': 'Cr_VI', 'Chrome_total': 'Cr_tot', 'Cuivre': 'Cu', 'Mercure': 'Hg', 'Plomb': 'Pb', 'Nickel': 'Ni', 'Zinc': 'Zn', 'Cyanure(?:s)? (?libre(?:s)?)?': 'CN_libre', 'Cyanures (totaux)': 'CN_tot', 'CN_totaux': 'CN_tot', 'Cyanures (APE)': 'CN_tot_APE', 'Cyanures totaux APE':'CN_tot_APE', 'cyanure complex': 'CN_cplx', \"Cyanures (libres) - NEN-EN-ISO 14403\": 'CN_libre', 'Cyanures (libres)': 'CN_libre', 'CN_libres': 'CN_libre', 'thiocyanate': 'ThioCN', 'Benzène': 'Bnz', 'Toluène': 'Toln', 'Éthylbenzène': 'EthBnz', 'Orthoxylène': 'O-Xyl', 'O-xylènes': 'O-Xyl', 'mp-xylènes': 'P-M-Xyl', 'Para- et métaxylène': 'P-M-Xyl', 'Xylènes': 'Xyl', 'Styrène': 'Styr', 'BTEX totaux': 'BTEX_tot', 'Phénol': 'Phenol', 'Indice phénol': 'IPh', 'Naphtalène': 'Naphta', 'Acénaphtylène': 'Acenaphtyl', 'Acénaphtène': 'Acenaphtn', 'Fluorène': 'Flrn', 'Phénanthrène': 'Phenanthr', 'Anthracène': 'Anthrc', 'Fluoranthène': 'Flranth', 'Pyrène': 'Pyr', 'Benzo(a)anthracène': 'Bnz(a)anthrc', 'Chrysène': 'Chrys', 'Benzo(b)fluoranthène': 'Bnz(b)flranth', 'Benzo(k)fluoranthène': 'Bnz(k)flranth', 'Benzo(a)pyrène': 'Bnz(a)pyr', 'Dibenzo(ah)anthracène': 'Dibnz(ah)anthrc', 'Benzo(ghi)pérylène': 'Bnz(ghi)peryl', 'Indéno(1,2,3-cd)pyrène': 'Indeno(1.2.3-cd)pyr', 'HAP Totaux (16) - EPA': 'HAP_tot_EPA', '1,1-Dichloroéthane': '1.1-DCE', '1,2-Dichloroéthane': '1.2-DCE', '1,1-dichloroéthène': '1.1-DCEn', 'Cis-1,2-dichloroéthène': 'Cis-1.2-DCEn', 'Trans 1,2-dichloroéthylène': 'Trans-1.2-DCEyl', 'Dichlorométhane': 'DCM', 'dibromochlorométhane': 'DiBCM', 'bromodichlorométhane': 'BromoDCM', 'Totaux (cis,trans) 1,2-dichloroéthènes': '(cis.trans)-1.2-DCEn_tot', '1,2-dichloropropane': '1.2-DCP', 'Tétrachloroéthylène': 'TetraCEyn', 'Tétrachlorométhane': 'TCM', '1,1,1-Trichloroéthane': '1.1.1-TCE', '1,1,2-Trichloroéthane': '1.1.2-TCE', 'Trichloroéthylène': 'TCEyn', 'Chlorure de vinyle': 'CVinyl', '3-éthylphénol': '3-EthPhn', 'métacrésol': 'M-cresol', 'o-crésol': 'O-cresol', 'p-crésol': 'P-cresol', 'crésols (total)': 'Cresol_tot', '2,4-dimethylphénol': '2.4-DMetPhn', '2,5-dimethylphénol': '2.5-DMetPhn', '3,5+2,3-dimethylphénol+4-ethylphénol': 'DMetPhn_4-EthPhn', '2,6-dimethylphénol': '2.6-DMetPhn', '3,4-dimethylphénol': '3.4-DMetPhn', 'alkylphénols C2 total': 'AlkPhn_C2_tot', '2-éthylphénol': '2-EthPhn', 'para(tert)butylphénol': 'P(T)ButPhn', 'alkylphénols C4 total': 'AlkPhn_C4_tot', '2,3,5-triméthylphénol': '2.3.5-TMPethn', '3,4,5-triméthylphénol': '3.4.5-TMetPhn', '2-isopropylphénol': '2-IsoPropPhn', 'alkylphénols C3 total': 'AlkPhn_C3_tot', 'HAP totaux (10) VROM': 'HAP_tot_vrom', 'monochlorobenzène': 'MonoCBzn', '1,2-dichlorobenzène': '1.2-DCBzn', '1,3-dichlorobenzène': '1.3-DCBzn', '1,4-Dichlorobenzène': '1.4-DCBzn', '1,2,3-trichlorobenzène': '1.2.3-TCBzn', '1,2,4-trichlorobenzène': '1.2.4-TCBzn', '1,3,5-trichlorobenzène': '1.3.5-TCBzn', '1,2,4,5- et 1,2,3,5-tétrachlorobenzènes': '1.2.3.4_5-TCBzn', '1,2,3,4-tétrachlorobenzène': '1.2.3.4-TCBzn', 'hexachlorobenzène': 'HCBzn', '2-chlorophénol': '2-CPhn', '4-chlorophénol': '4-CPhn', '3-chlorophénol': '3-CPhn', 'monochlorophénol total': 'MonoCPhn_tot', '2,3-dichlorophénol': '2.3-DCPhn', '2,4+2,5-dichlorophénol': '2.4_5-DCPhn', '2,6-dichlorophénol': '2.6-DCPhn', '3,4-dichlorophénol': '3.4-DCPhn', '3,5-dichlorophénol': '3.5-DCPhn', 'dichlorophénol total': 'DCPhn_tot', '2,3,4-trichlorophénol': '2.3.4-TCPhn', '2,3,5-trichlorophénol': '2.3.5-TCPhn', '2,3,6-trichlorophénol': '2.3.6-TCPhn', '2,4,5-trichlorophénol': '2.4.5-TCPhn', '2,4,6-trichlorophénol': '2.4.6-TCPhn', '3,4,5-trichlorophénol': '3.4.5-TCPhn', 'trichlorophénol total': 'TriCPhn_tot', '2,3,5,6-tétrachlorophénol': '2.3.5.6-TCPhn', '2,3,4,6- tétrachlorophénol': '2.3.4.6-TCPhn', '2,3,4,5- tétrachlorophénol': '2.3.4.5-TCPhn', 'tétrachlorophénol total': 'TCPhn_tot', 'pentachlorobenzène': 'PCBzn', 'pentachlorophénol': 'PCPhn', 'chlorophénol total': 'CPhn_tot', 'EOX': 'EOX', 'fraction aromat. >C6-C7': 'Ar_C6-C7', 'fraction aromat. >C7-C8': 'Ar_C7-C8', 'fraction aromat. >C8-C10': 'Ar_C8-C10', 'fraction aliphat. C5-C6': 'Alp_C5-C6', 'fraction aliphat. >C6-C8': 'Alp_C6-C8', 'fraction aliphat. >C8-C10': 'Alp_C8-C10', 'Fraction C5-C8': 'C5-C8', 'Fraction C8-C10': 'C8-C10', 'Fraction C10-C12': 'C10-C12', 'Fraction C12-C16': 'C12-C16', 'Fraction C16-C21': 'C16-C21', 'Fraction C21 - C35': 'C21-C35', 'Fraction C35 - C40': 'C35-C40', 'C16 - C21': 'C16-C21', 'C21 - C35': 'C21-C35', 'C30 - C40': 'C30-C40', 'C35 - C40': 'C35-C40', 'aromat.>C6-C7': 'Ar_C6-C7', 'aromat.>C7-C8': 'Ar_C7-C8', 'aromat.>C8-C10': 'Ar_C8-C10', 'aromat.>C10-C12': 'Ar_C10-C12', 'aromat.>C12-C16': 'Ar_C12-C16', 'aromat.>C16-C21': 'Ar_C16-C21', 'aromat.>C21-C35': 'Ar_C21-C35', 'aliphat.>C5-C6': 'Alp_C5-C6', 'aliphat.>C6-C8': 'Alp_C6-C8', 'aliphat.>C8-C10': 'Alp_C8-C10', 'aliphat.>C10-C12': 'Alp_C10-C12', 'aliphat.>C12-C16': 'Alp_C12-C16', 'aliphat.>C16-C35': 'Alp_C16-C35', 'Hydrocarbures totaux C10-C35': 'HC_tot_C10-C35', 'totaux C10-C35': 'HC_tot_C10-C35', 'Totaux C10-C40': 'HC_tot_C10-C40', 'Hydrocarbures totaux C10-C40': 'HC_tot_C10-C40', 'MTBE': 'MTBE', 'PCB 28': 'PCB_28', 'PCB 52': 'PCB_52', 'PCB 101': 'PCB_101', 'PCB 118': 'PCB_118', 'PCB 138': 'PCB_138', 'PCB 153': 'PCB_153', 'PCB 180': 'PCB_180', 'PCB totaux (7)?': 'PCB_tot', 'Chlorure(?:s)?': 'Chlorure', 'Soufre Total': 'S_tot', 'sulfite(?:s)?': 'sulfite', 'sulfate(?:s)?': 'sulfate', 'COT': 'COT', 'DBO (5 jours)': 'DBO_5j', 'DCO': 'DCO', 'Ammonium': 'NH4', 'ammoniaque libre': 'NH3_libre', 'Nitrate': 'HNO3', 'Nitrite': 'HNO2', 'azote Kjeldahl': 'N_Kjdl', 'sulfures totaux': 'Sulfure_tot', 'sulfure(?:s)? (libre(?:s)?)': 'Sulfure_libre', 'calcium': 'Ca', 'potassium': 'K', 'magnésium': 'Mg', 'manganèse': 'Mn', 'sodium': \"Na\", 'fer': 'Fe', 'phosphore (total)': 'P_tot', 'phosphates (totaux)': 'Phosphate_tot', 'carbonate': 'CaCO3', 'bicarbonate': 'Bicarb', 'Phoshore': 'P', 'fer ((Fe))? total': 'Fe_tot', 'fer (2\\+)': 'Fe2', 'fluorure(?:s)?': 'Fluorure', 'chlorures': 'Chlorure', 'chloroformes': 'Chloroforme', 'bromoformes': 'Bromoforme', 'bromure (libre)': 'Br_libre', 'Iph.': 'IPh', 'CN_NCl': 'CN_NCl', '2-naphtol': '2-Naphtol', 'thymol': 'Thymol', 'chloroforme': 'Chloroforme', 'bromoforme': 'Bromoforme', 'C12-C20': 'C12-C20', 'C20-C30': 'C20-C30', 'Non chloro destruct.':'Non_chloro_destr', 'SOM VROM 10':'HAP_tot_vrom','SOM EPA 16':'HAP_tot_EPA', 'SOM_C5_C35':'HC_tot_C15-C35', 'SOM_C10_C40':'HC_tot_C10-C40', 'SOM BTEX':'BTEX_tot','C5_C8':'C5-C8', 'C8_C10':'C8-C10', 'C10_C12':'C10-C12', 'C12_C16':'C12-C16', 'C30_C35':'C30-C35','Fraction   2000 µm':'Fract_2000µ','Fraction   63 µm':'Fract_63µ', 'Fraction   45 µm':'Fract_45µ','Fraction   16 µm':'Fract_16µ','Fraction   2 µm':'Fract_2µ', 'Fraction 2 mm':'Fract_2', 'Fraction +2 mm':'Fract_2+', 'Fract_2':'Fract_2', 'Fract_2+':'Fract_2+', 'Mat. organique':'MO', 'Mat. sèche':'MS', 'Argile':'Argile'}"
   ]
  },
  {
   "cell_type": "code",
   "execution_count": 15,
   "id": "1d4e08df",
   "metadata": {},
   "outputs": [],
   "source": [
    "params_kw = ['O_diss','Niv_eau', 'temp', '^T$', '^CE$', 'pH$', 'ORP']\n",
    "meas_kw_col = ['O_diss','pH','CE','ORP','Niv_eau_pz','Niv_eau_sol','Temp', 'T']\n",
    "sufx = ['sup', 'prof', 'inf', '/\\dM(\\*)?']\n",
    "prefx = ['eau forage ']\n",
    "id_reg = '\\s*(?P<id>(?:^canne )*\\w*\\d+\\w*)\\s*'\n",
    "pollutants_names = list(set(list(DEFAULT_POL_LEXICON.abbreviations.keys()) + list(POL_NAMES_MODEL.values())))"
   ]
  },
  {
   "cell_type": "code",
   "execution_count": 16,
   "id": "c16edcac",
   "metadata": {},
   "outputs": [],
   "source": [
    "bh_cols = ['Date_for','ID','X','Y','Z','Zsol','Type','Long_for','Long_pz','Sect_crep','Long_pz_sol','Ht_pz_sol',\n",
    "           'Diam_for','Diam_int_pz','Diam_ext_pz','Ht_chbre','Refus','Societe','Zone','Sous_zone','Etude','Method','Resp_chantier',\n",
    "           'ID_date','Rmq']\n",
    "\n",
    "mes_cols = ['Date_mes','ID','X','Y','Z','Zsol','pH_H2O', 'Temp_pH_H2O', 'Temp_pH_CaCl2','pH_CaCl2','Temp_pH_KCl',\n",
    "            'pH_KCl', 'Temp_CE', 'Temp_pH','Nappe','Rmq'] + meas_kw_col\n",
    "\n",
    "eqp_cols = ['Date_for','ID','X','Y','Z','Zsol','Type_equip','Equip_base','Equip_top','Rmq']\n",
    "\n",
    "litho_cols = ['Date_for','ID','X','Y','Z','Zsol','Long_for','Litho_top','Litho_base','Intv_top','Intv_base',\n",
    "              'Description','Rmq']\n",
    "\n",
    "an_cols = ['ID','X','Y','Z','Zsol','Date_ech','ID_ech','Type_ech','Ech_top','Ech_base','Intv_top','Intv_base',\n",
    "           'Description','Nappe','Organo','Intensite', 'Min_organo', 'Max_organo', 'Polluant',\n",
    "           'Surnageant','Sousnageant','Caractere','Opacite','Rmq'] + pollutants_names\n",
    "\n",
    "ukw_cols = ['Date_for','ID','X','Y','Z','Zsol','Type','Long_for','Method','Societe','Rmq']\n",
    "\n",
    "cols_dict = {'borehole': bh_cols, 'measure': mes_cols, 'lithology': litho_cols, 'analysis': an_cols, \n",
    " 'equipement': eqp_cols, 'unknown': ukw_cols}"
   ]
  },
  {
   "cell_type": "code",
   "execution_count": 17,
   "id": "d4674736",
   "metadata": {},
   "outputs": [],
   "source": [
    "bh_crit = ['ID','X','Y','Z','Zsol','Type','Long_for','Long_pz','Diam_for','Diam_int_pz','Diam_ext_pz']\n",
    "\n",
    "mes_crit = ['ID','Date_mes'] + meas_kw_col\n",
    "\n",
    "eqp_crit = ['Type_equip','Equip_base','Equip_top']\n",
    "\n",
    "litho_crit = ['Litho_top','Litho_base','Intv_top','Intv_base','Description']\n",
    "\n",
    "an_crit = ['ID_ech','Type_ech','Organo','Surnageant','Sousnageant'] + list(DEFAULT_POL_LEXICON.abbreviations.keys()) \n",
    "\n",
    "ukw_crit = ['ID','X','Y','Z','Zsol','Long_for','Type']\n",
    "\n",
    "crit_dict = {'borehole': bh_crit, 'measure': mes_crit, 'lithology': litho_crit, 'analysis': an_crit, \n",
    " 'equipement': eqp_crit, 'unknown': ukw_crit}"
   ]
  },
  {
   "cell_type": "markdown",
   "id": "6adfd064",
   "metadata": {},
   "source": [
    "variables utilisées \n",
    "==========================\n",
    "- bh \t: \tforages (simple ou piezo)\n",
    "- equip\t:\tequipements d'un forage (outils, méthodes utilisés, ...)\n",
    "- ukw\t:\tobjets physiques indéterminés\n",
    "- litho :\tdescriptions lithologiques\n",
    "- an \t: \tanalyses de contaminants sur des échantillons (sol, eau)\n",
    "- mes\t:\tmesures de propriétés sur des échantillons (sol, eau), de paramètres hydrochimiques, ...\n"
   ]
  },
  {
   "cell_type": "markdown",
   "id": "45736216",
   "metadata": {},
   "source": [
    "# ---------------------------------------------------------"
   ]
  },
  {
   "cell_type": "markdown",
   "id": "driving-script",
   "metadata": {},
   "source": [
    "source dataframes initialization"
   ]
  },
  {
   "cell_type": "code",
   "execution_count": 7,
   "id": "flying-disabled",
   "metadata": {},
   "outputs": [
    {
     "name": "stdout",
     "output_type": "stream",
     "text": [
      "source_bh: 0 ; source_eqp: 0 ; source_uknw: 0 ; source_litho: 0 ; source_an: 0 ; source_mes: 0\n"
     ]
    }
   ],
   "source": [
    "# initialisation des variables\n",
    "_df = pd.DataFrame()\n",
    "source_bh, source_eqp, source_ukw = _df, _df, _df\n",
    "source_litho, source_an, source_mes = _df, _df, _df\n",
    "\n",
    "print(f'source_bh: {len(source_bh)} ; source_eqp: {len(source_eqp)} ; source_uknw: {len(source_ukw)} ; '\n",
    "      f'source_litho: {len(source_litho)} ; source_an: {len(source_an)} ; source_mes: {len(source_mes)}')"
   ]
  },
  {
   "cell_type": "markdown",
   "id": "current-taxation",
   "metadata": {},
   "source": [
    "## 1- Profils sols et données forages.xls\n",
    "* **Sheet : 'Données de forage'**"
   ]
  },
  {
   "cell_type": "code",
   "execution_count": 8,
   "id": "emerging-dylan",
   "metadata": {},
   "outputs": [],
   "source": [
    "tmp_dir=ROOT_DIR + '/CF_data/Result_traitem/profils_sols_donnees_forages/'\n",
    "sheet='donnees_forage'"
   ]
  },
  {
   "cell_type": "code",
   "execution_count": 9,
   "id": "referenced-violin",
   "metadata": {
    "scrolled": false
   },
   "outputs": [
    {
     "name": "stdout",
     "output_type": "stream",
     "text": [
      "Rows : 25, columns : 15\n"
     ]
    },
    {
     "data": {
      "application/vnd.jupyter.widget-view+json": {
       "model_id": "8a5b159d27304f1a8d1daec3c2e77192",
       "version_major": 2,
       "version_minor": 0
      },
      "text/plain": [
       "interactive(children=(IntSlider(value=5, description='rows', max=25, min=5, readout=False), IntSlider(value=12…"
      ]
     },
     "metadata": {},
     "output_type": "display_data"
    }
   ],
   "source": [
    "df = pd.read_excel(ROOT_DIR + '/CF_data/Data_UMONS/ouvrages/Profils sols et données forages.xls', \n",
    "                   sheet_name='Données de forage')#, skiprows=2)\n",
    "df.replace(r'<|>','', inplace=True, regex=True)\n",
    "df.replace(r'-$',np.nan, inplace=True, regex=True)\n",
    "\n",
    "dataframe_viewer(df, rows=5)"
   ]
  },
  {
   "cell_type": "code",
   "execution_count": 10,
   "id": "b5ecdf20",
   "metadata": {},
   "outputs": [],
   "source": [
    "df.rename(columns={'Date':'Date_for','Profondeur':'Long_for', 'Méthode':'Method', \n",
    "                        'Diamètre forage':'Diam_for','Niv. Eau p/r sol':'Niv_eau_sol',\n",
    "                        'PZ Prof.':'Long_pz', 'PZ Diamètre':'Diam_pz','PZ L.crépinée':'Sect_crep', \n",
    "                        'Société forage':'Societe', 'Resp. chantier':'Resp_chantier'}, inplace=True)"
   ]
  },
  {
   "cell_type": "code",
   "execution_count": 11,
   "id": "furnished-rally",
   "metadata": {},
   "outputs": [
    {
     "name": "stdout",
     "output_type": "stream",
     "text": [
      "Generation of ID-dated...\n",
      "Using column ' Date_for ' in the (geo)dataframe !\n",
      "Process ended, check the (geo)dataframe\n"
     ]
    }
   ],
   "source": [
    "df['Type'] = df['Long_pz'].apply(lambda x: 'Forage' if pd.isnull(x) else 'Piezo')\n",
    "df['Refus'] = ''\n",
    "\n",
    "for i in range(len(df['Remarque'])):\n",
    "    val = str(df.loc[i,'Remarque'])\n",
    "    if re.search('[Bb]loqué', val) :        \n",
    "        if re.search('[lL]aitier', val):\n",
    "            df.loc[i,'Refus'] = 'Laitier'\n",
    "        elif re.search('[Bb]éton', val):\n",
    "            df.loc[i,'Refus'] = 'Béton'\n",
    "        elif re.search('[Mm]atériaux', val):\n",
    "            df.loc[i,'Refus'] = 'Matériaux indurés' \n",
    "    else: \n",
    "        df.loc[i,'Refus'] = np.nan\n",
    "\n",
    "# convert diameter values unit from mm to m\n",
    "df['Diam_int_pz'] = df['Diam_pz'].apply(lambda x: pd.to_numeric(x.replace(' mm','').split('x')[1].strip(' m'))/1000 \n",
    "                                        if not pd.isnull(x) else x)\n",
    "df['Diam_ext_pz'] = df['Diam_pz'].apply(lambda x: pd.to_numeric(x.replace(' mm','').split('x')[0].strip(' m'))/1000 \n",
    "                                        if not pd.isnull(x) else x)\n",
    "df['Diam_for'] = df['Diam_for'].apply(lambda x: pd.to_numeric(x)/1000 if not pd.isnull(x) else x)\n",
    "\n",
    "df.insert(7, 'Diam_ext_pz', df.pop('Diam_ext_pz')) # move to a specified position\n",
    "df.insert(8, 'Diam_int_pz', df.pop('Diam_int_pz'))\n",
    "df.drop(columns=['Remarque', 'Diam_pz'], axis=1, inplace=True)\n",
    "df.drop(df.query(\"ID!=ID\").index, inplace=True) # delete all ID='NaN' lines\n",
    "df['Date_mes'] = df['Date_for']\n",
    "\n",
    "gen_dated_id(df,'ID','Date_for')  "
   ]
  },
  {
   "cell_type": "code",
   "execution_count": 12,
   "id": "e0b27dfe",
   "metadata": {},
   "outputs": [],
   "source": [
    "if 'Date_for' in df.columns:\n",
    "    df['Date_for'] = df['Date_for'].astype('datetime64')\n",
    "if 'Date_mes' in df.columns:\n",
    "    df['Date_mes'] = df['Date_mes'].astype('datetime64')"
   ]
  },
  {
   "cell_type": "code",
   "execution_count": 13,
   "id": "7175471f",
   "metadata": {},
   "outputs": [
    {
     "name": "stdout",
     "output_type": "stream",
     "text": [
      "borehole: 25 ; measure: 25 ; lithology: 0 ; analysis: 0 ; equipement: 0 ; unknown: 0 ; \n"
     ]
    }
   ],
   "source": [
    "df_dict = data_slicer(df, cols_dict, crit_dict)"
   ]
  },
  {
   "cell_type": "code",
   "execution_count": 14,
   "id": "fe35e616",
   "metadata": {},
   "outputs": [
    {
     "name": "stdout",
     "output_type": "stream",
     "text": [
      "borehole: 25 ; measure: 25 ; lithology: 0 ; analysis: 0 ;equipement: 0 ; unknown: 0\n"
     ]
    }
   ],
   "source": [
    "ukw = df_dict['unknown']\n",
    "bh = df_dict['borehole']\n",
    "\n",
    "bh = bh.drop(index=ukw.index)\n",
    "ukw.drop_duplicates(['ID'], inplace=True)\n",
    "ukw.reset_index(drop=True, inplace=True)\n",
    "bh.drop_duplicates(['ID'], inplace=True)\n",
    "if 'X' in bh.columns: bh = bh.query('ID==ID and X==X')\n",
    "bh.reset_index(drop=True, inplace=True)\n",
    "\n",
    "mes = df_dict['measure']\n",
    "an = df_dict['analysis']\n",
    "litho = df_dict['lithology']\n",
    "eqp = df_dict['equipement']\n",
    "\n",
    "print(f'borehole: {len(bh)} ; measure: {len(mes)} ; lithology: {len(litho)} ; analysis: {len(an)} ;' \n",
    "      f'equipement: {len(eqp)} ; unknown: {len(ukw)}')"
   ]
  },
  {
   "cell_type": "code",
   "execution_count": 15,
   "id": "chief-recovery",
   "metadata": {},
   "outputs": [],
   "source": [
    "source_mes = mes\n",
    "source_bh = bh"
   ]
  },
  {
   "cell_type": "code",
   "execution_count": 16,
   "id": "becoming-bouquet",
   "metadata": {},
   "outputs": [
    {
     "name": "stdout",
     "output_type": "stream",
     "text": [
      "source_bh: 25 ; source_eqp: 0 ; source_uknw: 0 ; source_litho: 0 ; source_an: 0 ; source_mes: 25\n"
     ]
    }
   ],
   "source": [
    "if not os.path.exists(tmp_dir):\n",
    "    os.makedirs(tmp_dir), os.makedirs(tmp_dir+'source_merge/') \n",
    "    \n",
    "mes.to_csv(tmp_dir+sheet+'_Measures.csv', index=False)\n",
    "bh.to_csv(tmp_dir+sheet+'_Boreholes.csv', index=False)\n",
    "\n",
    "source_bh.to_csv(tmp_dir+'source_merge/source_Boreholes.csv', index=False) #all Boreholes data in the source\n",
    "source_mes.to_csv(tmp_dir+'source_merge/source_Measures.csv', index=False) #all Measures data in the source\n",
    "\n",
    "print(f'source_bh: {len(source_bh)} ; source_eqp: {len(source_eqp)} ; source_uknw: {len(source_ukw)} ; '\n",
    "      f'source_litho: {len(source_litho)} ; source_an: {len(source_an)} ; source_mes: {len(source_mes)}')"
   ]
  },
  {
   "cell_type": "markdown",
   "id": "negative-crack",
   "metadata": {},
   "source": [
    "* **Sheet : 'Piézométrie'**"
   ]
  },
  {
   "cell_type": "code",
   "execution_count": 17,
   "id": "pregnant-creativity",
   "metadata": {},
   "outputs": [],
   "source": [
    "tmp_dir=ROOT_DIR + '/CF_data/Result_traitem/profils_sols_donnees_forages/'\n",
    "sheet='piezometrie'"
   ]
  },
  {
   "cell_type": "code",
   "execution_count": 18,
   "id": "future-israeli",
   "metadata": {
    "scrolled": false
   },
   "outputs": [
    {
     "name": "stdout",
     "output_type": "stream",
     "text": [
      "Rows : 37, columns : 21\n"
     ]
    },
    {
     "data": {
      "application/vnd.jupyter.widget-view+json": {
       "model_id": "18523a4eba544a7bb750f11c1dd40b45",
       "version_major": 2,
       "version_minor": 0
      },
      "text/plain": [
       "interactive(children=(IntSlider(value=5, description='rows', max=37, min=5, readout=False), IntSlider(value=12…"
      ]
     },
     "metadata": {},
     "output_type": "display_data"
    }
   ],
   "source": [
    "df = pd.read_excel(ROOT_DIR + '/CF_data/Data_UMONS/ouvrages/Profils sols et données forages.xls', sheet_name='Piézométrie', skiprows=1)\n",
    "df.replace(r'<|>','', inplace=True, regex=True)\n",
    "df.replace(r'-$',np.nan, inplace=True, regex=True)\n",
    "\n",
    "dataframe_viewer(df, rows=5)"
   ]
  },
  {
   "cell_type": "code",
   "execution_count": 19,
   "id": "123702f2",
   "metadata": {},
   "outputs": [
    {
     "name": "stdout",
     "output_type": "stream",
     "text": [
      "Columns dropped :['Label', 'Commentaires ', 'Unnamed: 5', 'Unnamed: 6', 'Unnamed: 7', 'Unnamed: 8', 'Unnamed: 9', 'Unnamed: 10', 'Unnamed: 11', 'Unnamed: 12', 'Unnamed: 13', 'Unnamed: 14', 'Unnamed: 15', 'Unnamed: 16', 'Unnamed: 17', 'Unnamed: 18', 'Unnamed: 19', 'Unnamed: 20']\n",
      "\n"
     ]
    }
   ],
   "source": [
    "sdf = na_col_drop(df[:12], 3)\n",
    "sdf.rename(columns={'z':'Z'}, inplace=True)"
   ]
  },
  {
   "cell_type": "code",
   "execution_count": 20,
   "id": "recognized-charles",
   "metadata": {},
   "outputs": [],
   "source": [
    "a=0\n",
    "for x in df.columns:\n",
    "    if pd.isnull(df.loc[16,x]):\n",
    "        df.loc[16,x]='col'+str(a)\n",
    "    a+=1"
   ]
  },
  {
   "cell_type": "code",
   "execution_count": 21,
   "id": "a9bffc24",
   "metadata": {},
   "outputs": [],
   "source": [
    "if not 'tmp_df' in vars().keys():\n",
    "    tmp_df = df.copy()\n",
    "    \n",
    "df = tmp_df.copy()\n",
    "df.loc[16]=df.loc[16].apply(lambda x : x if not pd.isnull(x) else '')\n",
    "df.columns = df.loc[16]"
   ]
  },
  {
   "cell_type": "code",
   "execution_count": 22,
   "id": "heavy-market",
   "metadata": {},
   "outputs": [],
   "source": [
    "df=df[17:]\n",
    "df.reset_index(inplace=True, drop=True)\n",
    "\n",
    "#df.drop(columns=[df.columns.to_list()[x] for x in range(0,8)\n",
    "#                      if re.compile(r\"col|unnamed\").match(df.columns.to_list()[x])], axis=1, inplace=True) "
   ]
  },
  {
   "cell_type": "code",
   "execution_count": 23,
   "id": "english-television",
   "metadata": {},
   "outputs": [],
   "source": [
    "df.rename(columns={'col8':'Date_mes', 'col9':'Nappe', 'col10':'ID', 'NP/piézo [m]':'Niv_eau_pz', \n",
    "                        'dim. piezo hors sol [m]':'Ht_pz_sol', 'NP/sol [m]':'Niv_eau_sol', \n",
    "                        'Prof. piézo/piézo [m]':'Long_pz', 'Prof. piézo/sol [m]':'Long_pz_sol', \n",
    "                        't° [°C]':'Temp', 'Observations':'Rmq'}, inplace=True)"
   ]
  },
  {
   "cell_type": "code",
   "execution_count": 24,
   "id": "e839d943",
   "metadata": {},
   "outputs": [
    {
     "name": "stdout",
     "output_type": "stream",
     "text": [
      "Columns dropped :['col0', 'col1', 'col2', 'col3', 'col4', 'col5', 'col6', 'col7']\n",
      "\n"
     ]
    }
   ],
   "source": [
    "df = na_col_drop(df, 3)\n",
    "df.reset_index(drop=True, inplace=True)"
   ]
  },
  {
   "cell_type": "code",
   "execution_count": 25,
   "id": "115ac3aa",
   "metadata": {},
   "outputs": [],
   "source": [
    "df['CE'] = df[['CE [µS/cm]', 'CE [mS/cm]']].apply(lambda x: x[0]/1000 if pd.isnull(x[1]) else x[1], axis=1) # mS/cm\n",
    "df.drop(columns=['CE [µS/cm]', 'CE [mS/cm]'], inplace=True)\n",
    "df['ID'] = df['ID'].apply(lambda x: re.sub('P','F',x) if not pd.isnull(x) else x)\n",
    "df.insert(0, 'ID', df.pop('ID')) # move to first column\n",
    "df['Type'] = 'Piezo'"
   ]
  },
  {
   "cell_type": "code",
   "execution_count": 26,
   "id": "da944937",
   "metadata": {},
   "outputs": [],
   "source": [
    "df.rename_axis(None, inplace=True, axis=1)\n",
    "df.drop(df.query(\"ID!=ID\").index, inplace=True) # supprimer les lignes avec ID='NaN'\n",
    "df.reset_index(inplace=True, drop=True)"
   ]
  },
  {
   "cell_type": "code",
   "execution_count": 27,
   "id": "45d6af70",
   "metadata": {},
   "outputs": [],
   "source": [
    "if 'Date_for' in df.columns:\n",
    "    df['Date_for'] = df['Date_for'].astype('datetime64')\n",
    "if 'Date_mes' in df.columns:\n",
    "    df['Date_mes'] = df['Date_mes'].astype('datetime64')"
   ]
  },
  {
   "cell_type": "code",
   "execution_count": 28,
   "id": "c923ec4b",
   "metadata": {},
   "outputs": [
    {
     "name": "stdout",
     "output_type": "stream",
     "text": [
      "borehole: 17 ; measure: 17 ; lithology: 0 ; analysis: 0 ; equipement: 0 ; unknown: 0 ; \n"
     ]
    }
   ],
   "source": [
    "df_dict = data_slicer(df, cols_dict, crit_dict)"
   ]
  },
  {
   "cell_type": "code",
   "execution_count": 29,
   "id": "d322e573",
   "metadata": {},
   "outputs": [
    {
     "name": "stdout",
     "output_type": "stream",
     "text": [
      "borehole: 17 ; measure: 17 ; lithology: 0 ; analysis: 0 ;equipement: 0 ; unknown: 0\n"
     ]
    }
   ],
   "source": [
    "ukw = df_dict['unknown']\n",
    "bh = df_dict['borehole']\n",
    "\n",
    "bh = bh.drop(index=ukw.index)\n",
    "ukw.drop_duplicates(['ID'], inplace=True)\n",
    "ukw.reset_index(drop=True, inplace=True)\n",
    "bh.drop_duplicates(['ID'], inplace=True)\n",
    "if 'X' in bh.columns: bh = bh.query('ID==ID and X==X')\n",
    "bh.reset_index(drop=True, inplace=True)\n",
    "\n",
    "mes = df_dict['measure']\n",
    "an = df_dict['analysis']\n",
    "litho = df_dict['lithology']\n",
    "eqp = df_dict['equipement']\n",
    "\n",
    "print(f'borehole: {len(bh)} ; measure: {len(mes)} ; lithology: {len(litho)} ; analysis: {len(an)} ;' \n",
    "      f'equipement: {len(eqp)} ; unknown: {len(ukw)}')"
   ]
  },
  {
   "cell_type": "markdown",
   "id": "796be255",
   "metadata": {},
   "source": [
    "##### Data merging"
   ]
  },
  {
   "cell_type": "code",
   "execution_count": 30,
   "id": "2ddf8c6b",
   "metadata": {},
   "outputs": [],
   "source": [
    "bh, conflict_df = data_merger(bh, sdf[['ID', 'Z']], how='outer', on='ID', dist_max=1., drop_skip_col=['index'])"
   ]
  },
  {
   "cell_type": "code",
   "execution_count": 31,
   "id": "bba393a6",
   "metadata": {},
   "outputs": [
    {
     "name": "stdout",
     "output_type": "stream",
     "text": [
      "Conflict values present. Please resolve this manually !\n"
     ]
    }
   ],
   "source": [
    "mdf, conflict_df = data_merger(source_bh, bh, how='outer', on='ID', dist_max=1., drop_skip_col=['index'])"
   ]
  },
  {
   "cell_type": "code",
   "execution_count": 32,
   "id": "6d5c1664",
   "metadata": {},
   "outputs": [
    {
     "name": "stdout",
     "output_type": "stream",
     "text": [
      "all conflicts have been fixed!\n"
     ]
    }
   ],
   "source": [
    "dataset = mdf\n",
    "data_validation(overall_data=dataset, conflict_data=conflict_df, index_col='index', \n",
    "                valid_dict={'Long_pz_y':list(conflict_df.index)})\n",
    "\n",
    "if 'level_0' in dataset.columns:\n",
    "    if 'index' in dataset.columns:\n",
    "        dataset.drop(columns='index', inplace=True)\n",
    "    dataset.rename(columns={'level_0':'index'}, inplace=True)"
   ]
  },
  {
   "cell_type": "code",
   "execution_count": 33,
   "id": "ac7cec3b",
   "metadata": {},
   "outputs": [],
   "source": [
    "source_bh = dataset.copy()"
   ]
  },
  {
   "cell_type": "code",
   "execution_count": 34,
   "id": "a86e331e",
   "metadata": {},
   "outputs": [],
   "source": [
    "source_mes, conflict_df = data_merger(source_mes, mes, how='outer', on=['ID', 'Date_mes'], dist_max=1., drop_skip_col=['index'])"
   ]
  },
  {
   "cell_type": "code",
   "execution_count": 35,
   "id": "1a1d7843",
   "metadata": {},
   "outputs": [],
   "source": [
    "cols_rep = ['X', 'Y', 'Z']\n",
    "source_bh = replicate_values(source_bh, id_col='ID', cols_to_replicate=cols_rep, suffix=['sup', 'inf'], replace_id=True)\n",
    "source_mes = replicate_values(source_mes, id_col='ID', cols_to_replicate=cols_rep, suffix=['sup', 'inf'], replace_id=False)"
   ]
  },
  {
   "cell_type": "code",
   "execution_count": 36,
   "id": "d7fe5bc1",
   "metadata": {},
   "outputs": [
    {
     "name": "stdout",
     "output_type": "stream",
     "text": [
      "source_bh: 30 ; source_eqp: 0 ; source_uknw: 0 ; source_litho: 0 ; source_an: 0 ; source_mes: 42\n"
     ]
    }
   ],
   "source": [
    "if not os.path.exists(tmp_dir):\n",
    "    os.makedirs(tmp_dir), os.makedirs(tmp_dir+'source_merge/') \n",
    "    \n",
    "mes.to_csv(tmp_dir+sheet+'_Measures.csv', index=False)\n",
    "bh.to_csv(tmp_dir+sheet+'_Boreholes.csv', index=False)\n",
    "\n",
    "source_bh.to_csv(tmp_dir+'source_merge/source_Boreholes.csv', index=False) #all Boreholes data in the source\n",
    "source_mes.to_csv(tmp_dir+'source_merge/source_Measures.csv', index=False) #all Measures data in the source\n",
    "\n",
    "print(f'source_bh: {len(source_bh)} ; source_eqp: {len(source_eqp)} ; source_uknw: {len(source_ukw)} ; '\n",
    "      f'source_litho: {len(source_litho)} ; source_an: {len(source_an)} ; source_mes: {len(source_mes)}')"
   ]
  },
  {
   "cell_type": "markdown",
   "id": "exact-shanghai",
   "metadata": {},
   "source": [
    "* **Sheet : 'Equipement'**"
   ]
  },
  {
   "cell_type": "code",
   "execution_count": 37,
   "id": "aquatic-distance",
   "metadata": {},
   "outputs": [],
   "source": [
    "tmp_dir=ROOT_DIR + '/CF_data/Result_traitem/profils_sols_donnees_forages/'\n",
    "sheet='Equipement'"
   ]
  },
  {
   "cell_type": "code",
   "execution_count": 38,
   "id": "dying-gentleman",
   "metadata": {
    "scrolled": false
   },
   "outputs": [
    {
     "name": "stdout",
     "output_type": "stream",
     "text": [
      "Rows : 36, columns : 7\n"
     ]
    },
    {
     "data": {
      "application/vnd.jupyter.widget-view+json": {
       "model_id": "87a022458c354a969897676ec0e5580a",
       "version_major": 2,
       "version_minor": 0
      },
      "text/plain": [
       "interactive(children=(IntSlider(value=5, description='rows', max=36, min=5, readout=False), IntSlider(value=7,…"
      ]
     },
     "metadata": {},
     "output_type": "display_data"
    }
   ],
   "source": [
    "df = pd.read_excel(ROOT_DIR + '/CF_data/Data_UMONS/ouvrages/Profils sols et données forages.xls', \n",
    "                   sheet_name='Equipement')#, skiprows=1)\n",
    "df=na_line_drop(df,0)\n",
    "df=na_col_drop(df,1)\n",
    "df.replace(r'<|>','', inplace=True, regex=True)\n",
    "df.replace(r'-$',np.nan, inplace=True, regex=True)\n",
    "\n",
    "dataframe_viewer(df, rows=5)"
   ]
  },
  {
   "cell_type": "code",
   "execution_count": 39,
   "id": "speaking-mandate",
   "metadata": {},
   "outputs": [],
   "source": [
    "df.drop(columns=['Déplacement'], inplace=True)\n",
    "name=['ID', 'Equip_top', 'Equip_base', 'Diam_for','Diam_int_pz', 'Type_equip']\n",
    "df=col_ren(df, mode=1, name=name)"
   ]
  },
  {
   "cell_type": "code",
   "execution_count": 40,
   "id": "thermal-insert",
   "metadata": {},
   "outputs": [],
   "source": [
    "compute_BH_length(df, id_col='ID', length_col_name='Long_pz', top_col='Equip_top', base_col='Equip_base')"
   ]
  },
  {
   "cell_type": "code",
   "execution_count": 41,
   "id": "d0ebc436",
   "metadata": {},
   "outputs": [],
   "source": [
    "df['Diam_for'] = df['Diam_for'].apply(lambda x: pd.to_numeric(x)/1000 if not pd.isnull(x) else x)\n",
    "df['Diam_int_pz'] = df['Diam_int_pz'].apply(lambda x: pd.to_numeric(x)/1000 if not pd.isnull(x) else x)"
   ]
  },
  {
   "cell_type": "code",
   "execution_count": 42,
   "id": "2b24521e",
   "metadata": {},
   "outputs": [],
   "source": [
    "bh_ = source_bh[['ID', 'X', 'Y', 'Z']]\n",
    "df, conflict_df = data_merger(bh_, df, how='outer', on=['ID'], dist_max=1., drop_skip_col=['index'])"
   ]
  },
  {
   "cell_type": "code",
   "execution_count": 43,
   "id": "37745b8d",
   "metadata": {
    "scrolled": true
   },
   "outputs": [
    {
     "name": "stdout",
     "output_type": "stream",
     "text": [
      "15 NaN lines dropped\n"
     ]
    },
    {
     "name": "stderr",
     "output_type": "stream",
     "text": [
      "/home/yanathan/.local/share/virtualenvs/GSDMA-DRfwm83x/lib/python3.8/site-packages/pandas/core/frame.py:4901: SettingWithCopyWarning: \n",
      "A value is trying to be set on a copy of a slice from a DataFrame\n",
      "\n",
      "See the caveats in the documentation: https://pandas.pydata.org/pandas-docs/stable/user_guide/indexing.html#returning-a-view-versus-a-copy\n",
      "  return super().drop(\n"
     ]
    }
   ],
   "source": [
    "df = na_line_drop(df, 3, 2)"
   ]
  },
  {
   "cell_type": "code",
   "execution_count": 44,
   "id": "4e28acad",
   "metadata": {},
   "outputs": [],
   "source": [
    "if 'Date_for' in df.columns:\n",
    "    df['Date_for'] = df['Date_for'].astype('datetime64')"
   ]
  },
  {
   "cell_type": "code",
   "execution_count": 45,
   "id": "c1729409",
   "metadata": {},
   "outputs": [
    {
     "name": "stdout",
     "output_type": "stream",
     "text": [
      "borehole: 36 ; measure: 0 ; lithology: 0 ; analysis: 0 ; equipement: 36 ; unknown: 0 ; \n"
     ]
    }
   ],
   "source": [
    "df_dict = data_slicer(df, cols_dict, crit_dict)"
   ]
  },
  {
   "cell_type": "code",
   "execution_count": 46,
   "id": "36f38fb5",
   "metadata": {},
   "outputs": [
    {
     "name": "stdout",
     "output_type": "stream",
     "text": [
      "borehole: 12 ; measure: 0 ; lithology: 0 ; analysis: 0 ;equipement: 36 ; unknown: 0\n"
     ]
    }
   ],
   "source": [
    "ukw = df_dict['unknown']\n",
    "bh = df_dict['borehole']\n",
    "\n",
    "bh = bh.drop(index=ukw.index)\n",
    "ukw.drop_duplicates(['ID'], inplace=True)\n",
    "ukw.reset_index(drop=True, inplace=True)\n",
    "bh.drop_duplicates(['ID'], inplace=True)\n",
    "if 'X' in bh.columns: bh = bh.query('ID==ID and X==X')\n",
    "bh.reset_index(drop=True, inplace=True)\n",
    "\n",
    "mes = df_dict['measure']\n",
    "an = df_dict['analysis']\n",
    "litho = df_dict['lithology']\n",
    "eqp = df_dict['equipement']\n",
    "\n",
    "print(f'borehole: {len(bh)} ; measure: {len(mes)} ; lithology: {len(litho)} ; analysis: {len(an)} ;' \n",
    "      f'equipement: {len(eqp)} ; unknown: {len(ukw)}')"
   ]
  },
  {
   "cell_type": "markdown",
   "id": "5be0abb8",
   "metadata": {},
   "source": [
    "##### Data merging"
   ]
  },
  {
   "cell_type": "code",
   "execution_count": 47,
   "id": "af86bae9",
   "metadata": {},
   "outputs": [
    {
     "name": "stdout",
     "output_type": "stream",
     "text": [
      "Conflict values present. Please resolve this manually !\n"
     ]
    }
   ],
   "source": [
    "mdf, conflict_df = data_merger(source_bh, bh, how='outer', on=['ID'], dist_max=1., drop_skip_col=['index'])"
   ]
  },
  {
   "cell_type": "code",
   "execution_count": 48,
   "id": "ea80f316",
   "metadata": {},
   "outputs": [
    {
     "name": "stdout",
     "output_type": "stream",
     "text": [
      "all conflicts have been fixed!\n"
     ]
    }
   ],
   "source": [
    "data_validation(overall_data=mdf, conflict_data=conflict_df, index_col='index', \n",
    "                valid_dict={'Long_pz_x':list(conflict_df.index), 'Diam_for_y':list(conflict_df.index), \n",
    "                           'Diam_int_pz_y':list(conflict_df.index)})"
   ]
  },
  {
   "cell_type": "code",
   "execution_count": 49,
   "id": "edbdeeb1",
   "metadata": {},
   "outputs": [],
   "source": [
    "dataset = mdf\n",
    "if 'level_0' in dataset.columns:\n",
    "    if 'index' in dataset.columns:\n",
    "        dataset.drop(columns='index', inplace=True)\n",
    "    dataset.rename(columns={'level_0':'index'}, inplace=True)"
   ]
  },
  {
   "cell_type": "code",
   "execution_count": 50,
   "id": "9395f309",
   "metadata": {},
   "outputs": [],
   "source": [
    "source_bh = mdf.copy()"
   ]
  },
  {
   "cell_type": "code",
   "execution_count": 51,
   "id": "d95b0615",
   "metadata": {},
   "outputs": [],
   "source": [
    "data = source_bh\n",
    "source_bh = replicate_values(data, 'ID', list(data.columns)).drop_duplicates(list(data.columns))\n",
    "source_bh.reset_index(drop=True, inplace=True)"
   ]
  },
  {
   "cell_type": "code",
   "execution_count": 52,
   "id": "arbitrary-irrigation",
   "metadata": {},
   "outputs": [],
   "source": [
    "source_eqp = eqp"
   ]
  },
  {
   "cell_type": "code",
   "execution_count": 53,
   "id": "sixth-character",
   "metadata": {},
   "outputs": [
    {
     "name": "stdout",
     "output_type": "stream",
     "text": [
      "source_bh: 27 ; source_eqp: 36 ; source_uknw: 0 ; source_litho: 0 ; source_an: 0 ; source_mes: 42\n"
     ]
    }
   ],
   "source": [
    "if not os.path.exists(tmp_dir):\n",
    "    os.makedirs(tmp_dir), os.makedirs(tmp_dir+'source_merge/') \n",
    "    \n",
    "eqp.to_csv(tmp_dir+sheet+'_Equipments.csv', index=False)\n",
    "#mes.to_csv(tmp_dir+sheet+'_Measures.csv', index=False)\n",
    "bh.to_csv(tmp_dir+sheet+'_Boreholes.csv', index=False)\n",
    "\n",
    "source_bh.to_csv(tmp_dir+'source_merge/source_Boreholes.csv', index=False) #all Boreholes data in the source\n",
    "#source_mes.to_csv(tmp_dir+'source_merge/source_Measures.csv', index=False) #all Measures data in the source\n",
    "source_eqp.to_csv(tmp_dir+'source_merge/source_Equipments.csv', index=False)\n",
    "\n",
    "print(f'source_bh: {len(source_bh)} ; source_eqp: {len(source_eqp)} ; source_uknw: {len(source_ukw)} ; '\n",
    "      f'source_litho: {len(source_litho)} ; source_an: {len(source_an)} ; source_mes: {len(source_mes)}')"
   ]
  },
  {
   "cell_type": "markdown",
   "id": "expensive-darwin",
   "metadata": {},
   "source": [
    "* **Sheets: 'Echantillon' + 'Organoleptique'**"
   ]
  },
  {
   "cell_type": "code",
   "execution_count": 54,
   "id": "altered-watershed",
   "metadata": {},
   "outputs": [],
   "source": [
    "tmp_dir=ROOT_DIR + '/CF_data/Result_traitem/profils_sols_donnees_forages/'\n",
    "sheet='Echant-organo'"
   ]
  },
  {
   "cell_type": "code",
   "execution_count": 55,
   "id": "electoral-groove",
   "metadata": {
    "scrolled": false
   },
   "outputs": [
    {
     "name": "stdout",
     "output_type": "stream",
     "text": [
      "Rows : 29, columns : 4\n"
     ]
    },
    {
     "data": {
      "application/vnd.jupyter.widget-view+json": {
       "model_id": "ba2b584292674e89b32f600edcfc1323",
       "version_major": 2,
       "version_minor": 0
      },
      "text/plain": [
       "interactive(children=(IntSlider(value=5, description='rows', max=29, min=5, readout=False), IntSlider(value=4,…"
      ]
     },
     "metadata": {},
     "output_type": "display_data"
    }
   ],
   "source": [
    "df = pd.read_excel(ROOT_DIR + '/CF_data/Data_UMONS/ouvrages/Profils sols et données forages.xls', sheet_name='Echantillon')#, skiprows=1)\n",
    "df.replace(r'<|>','', inplace=True, regex=True)\n",
    "df.replace(r'-$',np.nan, inplace=True, regex=True)\n",
    "\n",
    "dataframe_viewer(df, rows=5)"
   ]
  },
  {
   "cell_type": "code",
   "execution_count": 56,
   "id": "assured-melbourne",
   "metadata": {},
   "outputs": [],
   "source": [
    "df.rename(columns={'De':'Ech_top', 'A':'Ech_base', 'Numéro':'ID_ech'}, inplace=True)"
   ]
  },
  {
   "cell_type": "code",
   "execution_count": 57,
   "id": "2326d8d2",
   "metadata": {},
   "outputs": [],
   "source": [
    "# df, conflict_df = data_merger(df, sdf, 'outer', ['ID', 'Ech_top', 'Ech_base'])\n",
    "df['Type_ech']='Sol'"
   ]
  },
  {
   "cell_type": "code",
   "execution_count": 58,
   "id": "505738d2",
   "metadata": {},
   "outputs": [],
   "source": [
    "if 'Date_for' in df.columns:\n",
    "    df['Date_for'] = df['Date_for'].astype('datetime64')\n",
    "if 'Date_mes' in df.columns:\n",
    "    df['Date_mes'] = df['Date_mes'].astype('datetime64')"
   ]
  },
  {
   "cell_type": "raw",
   "id": "2e54099a",
   "metadata": {},
   "source": [
    "cnt = 0\n",
    "for i in df.index:\n",
    "    if pd.isnull(df.loc[i, 'ID_ech']):\n",
    "        cnt +=1\n",
    "        df.loc[i, 'ID_ech'] = df.loc[i, 'ID'] + '_org_' + str(cnt)"
   ]
  },
  {
   "cell_type": "markdown",
   "id": "1d4dff74",
   "metadata": {},
   "source": [
    "##### Data merging"
   ]
  },
  {
   "cell_type": "code",
   "execution_count": 59,
   "id": "ed205991",
   "metadata": {},
   "outputs": [],
   "source": [
    "bh_ = source_bh[['ID', 'X', 'Y', 'Z']]\n",
    "df, conflict_df = data_merger(bh_, df, how='inner', on=['ID'], dist_max=1., drop_skip_col=['index'])"
   ]
  },
  {
   "cell_type": "code",
   "execution_count": 60,
   "id": "5768257e",
   "metadata": {
    "scrolled": true
   },
   "outputs": [
    {
     "name": "stdout",
     "output_type": "stream",
     "text": [
      "borehole: 29 ; measure: 0 ; lithology: 0 ; analysis: 29 ; equipement: 0 ; unknown: 0 ; \n"
     ]
    }
   ],
   "source": [
    "df_dict = data_slicer(df, cols_dict, crit_dict)"
   ]
  },
  {
   "cell_type": "code",
   "execution_count": 61,
   "id": "c949db23",
   "metadata": {},
   "outputs": [
    {
     "name": "stdout",
     "output_type": "stream",
     "text": [
      "borehole: 15 ; measure: 0 ; lithology: 0 ; analysis: 29 ;equipement: 0 ; unknown: 0\n"
     ]
    }
   ],
   "source": [
    "ukw = df_dict['unknown']\n",
    "bh = df_dict['borehole']\n",
    "\n",
    "bh = bh.drop(index=ukw.index)\n",
    "ukw.drop_duplicates(['ID'], inplace=True)\n",
    "ukw.reset_index(drop=True, inplace=True)\n",
    "bh.drop_duplicates(['ID'], inplace=True)\n",
    "if 'X' in bh.columns: bh = bh.query('ID==ID and X==X')\n",
    "bh.reset_index(drop=True, inplace=True)\n",
    "\n",
    "mes = df_dict['measure']\n",
    "an = df_dict['analysis']\n",
    "litho = df_dict['lithology']\n",
    "eqp = df_dict['equipement']\n",
    "\n",
    "print(f'borehole: {len(bh)} ; measure: {len(mes)} ; lithology: {len(litho)} ; analysis: {len(an)} ;' \n",
    "      f'equipement: {len(eqp)} ; unknown: {len(ukw)}')"
   ]
  },
  {
   "cell_type": "code",
   "execution_count": 62,
   "id": "9bf95c6e",
   "metadata": {},
   "outputs": [],
   "source": [
    "source_an = an"
   ]
  },
  {
   "cell_type": "code",
   "execution_count": 63,
   "id": "d27fb423",
   "metadata": {},
   "outputs": [
    {
     "name": "stdout",
     "output_type": "stream",
     "text": [
      "source_bh: 27 ; source_eqp: 36 ; source_uknw: 0 ; source_litho: 0 ; source_an: 29 ; source_mes: 42\n"
     ]
    }
   ],
   "source": [
    "if not os.path.exists(tmp_dir):\n",
    "    os.makedirs(tmp_dir), os.makedirs(tmp_dir+'source_merge/') \n",
    "    \n",
    "#eqp.to_csv(tmp_dir+sheet+'_Equipments.csv', index=False)\n",
    "#mes.to_csv(tmp_dir+sheet+'_Measures.csv', index=False)\n",
    "#bh.to_csv(tmp_dir+sheet+'_Boreholes.csv', index=False)\n",
    "an.to_csv(tmp_dir+sheet+'_Samples.csv', index=False)\n",
    "\n",
    "#source_bh.to_csv(tmp_dir+'source_merge/source_Boreholes.csv', index=False) #all Boreholes data in the source\n",
    "#source_mes.to_csv(tmp_dir+'source_merge/source_Measures.csv', index=False) #all Measures data in the source\n",
    "#source_eqp.to_csv(tmp_dir+'source_merge/source_Equipments.csv', index=False)\n",
    "source_an.to_csv(tmp_dir+'source_merge/source_Samples.csv', index=False)\n",
    "\n",
    "print(f'source_bh: {len(source_bh)} ; source_eqp: {len(source_eqp)} ; source_uknw: {len(source_ukw)} ; '\n",
    "      f'source_litho: {len(source_litho)} ; source_an: {len(source_an)} ; source_mes: {len(source_mes)}')"
   ]
  },
  {
   "cell_type": "markdown",
   "id": "objective-california",
   "metadata": {},
   "source": [
    "* **Sheet : 'Log'**"
   ]
  },
  {
   "cell_type": "code",
   "execution_count": 64,
   "id": "loaded-house",
   "metadata": {},
   "outputs": [],
   "source": [
    "tmp_dir=ROOT_DIR + '/CF_data/Result_traitem/profils_sols_donnees_forages/'\n",
    "sheet='Log'"
   ]
  },
  {
   "cell_type": "code",
   "execution_count": 65,
   "id": "stupid-theater",
   "metadata": {
    "scrolled": false
   },
   "outputs": [
    {
     "name": "stdout",
     "output_type": "stream",
     "text": [
      "Rows : 55, columns : 5\n"
     ]
    },
    {
     "data": {
      "application/vnd.jupyter.widget-view+json": {
       "model_id": "de5e51652e394f16b76b07552bef85e6",
       "version_major": 2,
       "version_minor": 0
      },
      "text/plain": [
       "interactive(children=(IntSlider(value=5, description='rows', max=55, min=5, readout=False), IntSlider(value=5,…"
      ]
     },
     "metadata": {},
     "output_type": "display_data"
    }
   ],
   "source": [
    "df = pd.read_excel(ROOT_DIR + '/CF_data/Data_UMONS/ouvrages/Profils sols et données forages.xls', sheet_name='Log')#, skiprows=1)\n",
    "dataframe_viewer(df, rows=5)"
   ]
  },
  {
   "cell_type": "code",
   "execution_count": 66,
   "id": "aerial-atlanta",
   "metadata": {},
   "outputs": [],
   "source": [
    "df.rename(columns={'De':'Litho_top', 'A':'Litho_base'}, inplace=True)"
   ]
  },
  {
   "cell_type": "raw",
   "id": "5c336be3",
   "metadata": {
    "scrolled": true
   },
   "source": [
    "q=df.query('Keyword.str.contains(\".ointe\", regex=True)', engine='python').index\n",
    "df.drop(q, inplace=True)\n",
    "df.reset_index(drop=True, inplace=True)"
   ]
  },
  {
   "cell_type": "code",
   "execution_count": 67,
   "id": "burning-huntington",
   "metadata": {},
   "outputs": [],
   "source": [
    "compute_BH_length(df, id_col='ID', length_col_name='Long_for', top_col='Litho_top', base_col='Litho_base')"
   ]
  },
  {
   "cell_type": "code",
   "execution_count": 68,
   "id": "1cbfd506",
   "metadata": {},
   "outputs": [
    {
     "name": "stdout",
     "output_type": "stream",
     "text": [
      "Conflict values present. Please resolve this manually !\n"
     ]
    }
   ],
   "source": [
    "bh_ = source_bh[['ID', 'X', 'Y', 'Z','Long_for']]\n",
    "df, conflict_df = data_merger(bh_, df, how='inner', on=['ID'], dist_max=1., drop_skip_col=['index'])"
   ]
  },
  {
   "cell_type": "code",
   "execution_count": 69,
   "id": "c10f3165",
   "metadata": {},
   "outputs": [
    {
     "name": "stdout",
     "output_type": "stream",
     "text": [
      "all conflicts have been fixed!\n"
     ]
    }
   ],
   "source": [
    "data_validation(overall_data=df, conflict_data=conflict_df, index_col='index', \n",
    "                valid_dict={'Long_for_x':list(conflict_df.index)})"
   ]
  },
  {
   "cell_type": "code",
   "execution_count": 70,
   "id": "0e4ca304",
   "metadata": {},
   "outputs": [],
   "source": [
    "dataset = df\n",
    "if 'level_0' in dataset.columns:\n",
    "    if 'index' in dataset.columns:\n",
    "        dataset.drop(columns='index', inplace=True)\n",
    "    dataset.rename(columns={'level_0':'index'}, inplace=True)"
   ]
  },
  {
   "cell_type": "code",
   "execution_count": 71,
   "id": "edbc0b25",
   "metadata": {
    "scrolled": true
   },
   "outputs": [
    {
     "name": "stdout",
     "output_type": "stream",
     "text": [
      "borehole: 55 ; measure: 0 ; lithology: 55 ; analysis: 0 ; equipement: 0 ; unknown: 0 ; \n",
      "\n",
      "\u001b[1;32mNot used columns:\u001b[0;0m\n",
      " ['Keyword']\n"
     ]
    }
   ],
   "source": [
    "df_dict = data_slicer(df, cols_dict, crit_dict)"
   ]
  },
  {
   "cell_type": "code",
   "execution_count": 72,
   "id": "56849fbb",
   "metadata": {},
   "outputs": [
    {
     "name": "stdout",
     "output_type": "stream",
     "text": [
      "borehole: 25 ; measure: 0 ; lithology: 55 ; analysis: 0 ;equipement: 0 ; unknown: 0\n"
     ]
    }
   ],
   "source": [
    "ukw = df_dict['unknown']\n",
    "bh = df_dict['borehole']\n",
    "\n",
    "bh = bh.drop(index=ukw.index)\n",
    "ukw.drop_duplicates(['ID'], inplace=True)\n",
    "ukw.reset_index(drop=True, inplace=True)\n",
    "bh.drop_duplicates(['ID'], inplace=True)\n",
    "if 'X' in bh.columns: bh = bh.query('ID==ID and X==X')\n",
    "bh.reset_index(drop=True, inplace=True)\n",
    "\n",
    "mes = df_dict['measure']\n",
    "an = df_dict['analysis']\n",
    "litho = df_dict['lithology']\n",
    "eqp = df_dict['equipement']\n",
    "\n",
    "print(f'borehole: {len(bh)} ; measure: {len(mes)} ; lithology: {len(litho)} ; analysis: {len(an)} ;' \n",
    "      f'equipement: {len(eqp)} ; unknown: {len(ukw)}')"
   ]
  },
  {
   "cell_type": "code",
   "execution_count": 73,
   "id": "cheap-shepherd",
   "metadata": {},
   "outputs": [],
   "source": [
    "source_litho=litho"
   ]
  },
  {
   "cell_type": "code",
   "execution_count": 74,
   "id": "1fc0bc92",
   "metadata": {},
   "outputs": [
    {
     "name": "stdout",
     "output_type": "stream",
     "text": [
      "source_bh: 27 ; source_eqp: 36 ; source_uknw: 0 ; source_litho: 55 ; source_an: 29 ; source_mes: 42\n"
     ]
    }
   ],
   "source": [
    "if not os.path.exists(tmp_dir):\n",
    "    os.makedirs(tmp_dir), os.makedirs(tmp_dir+'source_merge/')\n",
    "    \n",
    "#eqp.to_csv(tmp_dir+sheet+'_Equipments.csv', index=False)\n",
    "#mes.to_csv(tmp_dir+sheet+'_Measures.csv', index=False)\n",
    "#bh.to_csv(tmp_dir+sheet+'_Boreholes.csv', index=False)\n",
    "#an.to_csv(tmp_dir+sheet+'_Samples.csv', index=False)\n",
    "litho.to_csv(tmp_dir+sheet+'_Lithologies.csv', index=False)\n",
    "\n",
    "#source_bh.to_csv(tmp_dir+'source_merge/source_Boreholes.csv', index=False) #all Boreholes data in the source\n",
    "#source_mes.to_csv(tmp_dir+'source_merge/source_Measures.csv', index=False) #all Measures data in the source\n",
    "#source_eqp.to_csv(tmp_dir+'source_merge/source_Equipments.csv', index=False)\n",
    "#source_an.to_csv(tmp_dir+'source_merge/source_Samples.csv', index=False)\n",
    "source_litho.to_csv(tmp_dir+'source_merge/source_Lithologies.csv', index=False)\n",
    "\n",
    "print(f'source_bh: {len(source_bh)} ; source_eqp: {len(source_eqp)} ; source_uknw: {len(source_ukw)} ; '\n",
    "      f'source_litho: {len(source_litho)} ; source_an: {len(source_an)} ; source_mes: {len(source_mes)}')"
   ]
  },
  {
   "cell_type": "markdown",
   "id": "35de59de",
   "metadata": {},
   "source": [
    "### $\\color{red}{\\textbf{Excel data final merge}}$"
   ]
  },
  {
   "cell_type": "raw",
   "id": "0c5ee9cc",
   "metadata": {},
   "source": [
    "# Not really needed here because all source data have XYZ coordinates"
   ]
  },
  {
   "cell_type": "code",
   "execution_count": 75,
   "id": "a4879afb",
   "metadata": {},
   "outputs": [],
   "source": [
    "bh_coords = source_bh[['ID', 'X', 'Y', 'Z','Date_for']].copy()"
   ]
  },
  {
   "cell_type": "code",
   "execution_count": 76,
   "id": "bf14e065",
   "metadata": {},
   "outputs": [],
   "source": [
    "source_eqp, conflict_df = data_merger(bh_coords, source_eqp, how='inner', on='ID', dist_max=1., drop_skip_col=['index'])"
   ]
  },
  {
   "cell_type": "code",
   "execution_count": 77,
   "id": "90fa60e6",
   "metadata": {},
   "outputs": [],
   "source": [
    "source_litho, conflict_df = data_merger(bh_coords, source_litho, how='inner', on='ID', dist_max=1., drop_skip_col=['index'])"
   ]
  },
  {
   "cell_type": "raw",
   "id": "b27b5994",
   "metadata": {},
   "source": [
    "# merging issue here\n",
    "t, conflict_df = data_merger(bh_coords, source_an, how='outer', on='ID', dist_max=1., drop_skip_col=['index'])"
   ]
  },
  {
   "cell_type": "raw",
   "id": "74724942",
   "metadata": {},
   "source": [
    "dataframe_viewer(bh_coords, rows=5), dataframe_viewer(source_an, rows=5)"
   ]
  },
  {
   "cell_type": "code",
   "execution_count": 78,
   "id": "f88c9e54",
   "metadata": {
    "scrolled": true
   },
   "outputs": [
    {
     "name": "stdout",
     "output_type": "stream",
     "text": [
      "source_bh: 27 ; source_eqp: 36 ; source_uknw: 0 ; source_litho: 55 ; source_an: 29 ; source_mes: 42\n"
     ]
    }
   ],
   "source": [
    "if not os.path.exists(tmp_dir):\n",
    "    os.makedirs(tmp_dir), os.makedirs(tmp_dir+'source_merge/')\n",
    "\n",
    "source_bh.to_csv(tmp_dir+'source_merge/source_Boreholes.csv', index=False)\n",
    "source_mes.to_csv(tmp_dir+'source_merge/source_Measures.csv', index=False)\n",
    "source_eqp.to_csv(tmp_dir+'source_merge/source_Equipments.csv', index=False)\n",
    "source_an.to_csv(tmp_dir+'source_merge/source_Samples.csv', index=False)\n",
    "source_litho.to_csv(tmp_dir+'source_merge/source_Lithologies.csv', index=False)\n",
    "#source_ukw.to_csv(tmp_dir+'source_merge/source_Unknown.csv', index=False)\n",
    "\n",
    "print(f'source_bh: {len(source_bh)} ; source_eqp: {len(source_eqp)} ; source_uknw: {len(source_ukw)} ; '\n",
    "      f'source_litho: {len(source_litho)} ; source_an: {len(source_an)} ; source_mes: {len(source_mes)}')"
   ]
  },
  {
   "cell_type": "markdown",
   "id": "90e3c0e5",
   "metadata": {},
   "source": [
    "#### ======================================================================================"
   ]
  },
  {
   "cell_type": "code",
   "execution_count": 79,
   "id": "e63c096d",
   "metadata": {},
   "outputs": [
    {
     "name": "stdout",
     "output_type": "stream",
     "text": [
      "source_bh: 0 ; source_eqp: 0 ; source_uknw: 0 ; source_litho: 0 ; source_an: 0 ; source_mes: 0\n"
     ]
    }
   ],
   "source": [
    "# initialisation des variables\n",
    "_df = pd.DataFrame()\n",
    "source_bh, source_eqp, source_ukw = _df, _df, _df\n",
    "source_litho, source_an, source_mes = _df, _df, _df\n",
    "\n",
    "print(f'source_bh: {len(source_bh)} ; source_eqp: {len(source_eqp)} ; source_uknw: {len(source_ukw)} ; '\n",
    "      f'source_litho: {len(source_litho)} ; source_an: {len(source_an)} ; source_mes: {len(source_mes)}')"
   ]
  },
  {
   "cell_type": "markdown",
   "id": "italian-benjamin",
   "metadata": {},
   "source": [
    "## 2-Database MEMORIS3.xlsx\n",
    "* **Sheet : 'PROFILS_SOL'**"
   ]
  },
  {
   "cell_type": "code",
   "execution_count": 80,
   "id": "metropolitan-juvenile",
   "metadata": {},
   "outputs": [],
   "source": [
    "tmp_dir=ROOT_DIR + '/CF_data/Result_traitem/database_Memoris3/'\n",
    "sheet='Profils_sol'"
   ]
  },
  {
   "cell_type": "code",
   "execution_count": 81,
   "id": "indirect-korean",
   "metadata": {
    "scrolled": false
   },
   "outputs": [
    {
     "name": "stdout",
     "output_type": "stream",
     "text": [
      "Rows : 2041, columns : 16\n"
     ]
    },
    {
     "data": {
      "application/vnd.jupyter.widget-view+json": {
       "model_id": "1d71e96034244d5bb5ed63b5c272270c",
       "version_major": 2,
       "version_minor": 0
      },
      "text/plain": [
       "interactive(children=(IntSlider(value=3, description='rows', max=2041, min=3, readout=False), IntSlider(value=…"
      ]
     },
     "metadata": {},
     "output_type": "display_data"
    }
   ],
   "source": [
    "df = pd.read_excel(ROOT_DIR + '/CF_data/Data_UMONS/Contamination/Doc_SITEREM/Rapport de synthèse des études de sol et des eaux souterraines. '+\n",
    "                        'Siterem - 2017/Database MEMORIS3.xlsx', sheet_name='PROFILS_SOL')#, skiprows=2)\n",
    "df.replace(r'<|>','', inplace=True, regex=True)\n",
    "df.replace(r'-$',np.nan, inplace=True, regex=True)\n",
    "\n",
    "dataframe_viewer(df, rows=3)"
   ]
  },
  {
   "cell_type": "code",
   "execution_count": 82,
   "id": "0c808e12",
   "metadata": {},
   "outputs": [
    {
     "name": "stdout",
     "output_type": "stream",
     "text": [
      "Columns dropped :['Unnamed: 12', 1927, 'Unnamed: 14', 'Unnamed: 15']\n",
      "\n"
     ]
    }
   ],
   "source": [
    "df = na_col_drop(df, 3)"
   ]
  },
  {
   "cell_type": "code",
   "execution_count": 83,
   "id": "typical-century",
   "metadata": {
    "scrolled": false
   },
   "outputs": [],
   "source": [
    "df.rename({'Date':'Date_for', 'N°':'Ref', 'Id':'idx', 'Piézo':'Type', 'Unnamed: 6':'Societe',\n",
    "                'MFT Ø145':'MFT_145', 'Gouge Ø75':'Gouge_75', 'Liner Ø60': 'Liner_60'}, axis=1, inplace=True)"
   ]
  },
  {
   "cell_type": "code",
   "execution_count": 84,
   "id": "durable-infection",
   "metadata": {
    "scrolled": true
   },
   "outputs": [
    {
     "name": "stdout",
     "output_type": "stream",
     "text": [
      "[NaT, 2009, 2010, 2015]\n"
     ]
    }
   ],
   "source": [
    "print(list(set(df['Date_for'].apply(lambda x: x.year if not pd.isnull(x) else x))))"
   ]
  },
  {
   "cell_type": "code",
   "execution_count": 85,
   "id": "supreme-ceiling",
   "metadata": {},
   "outputs": [],
   "source": [
    "df.loc[df.fillna('').query(\"Societe.str.contains('x|X')\").index, 'Type']='X'"
   ]
  },
  {
   "cell_type": "code",
   "execution_count": 86,
   "id": "legislative-gibraltar",
   "metadata": {},
   "outputs": [],
   "source": [
    "df.loc[df.fillna('').query(\"Gouge_75.str.contains('SBS|SITER')\").index, 'Societe']='SBS Environnement'\n",
    "df.loc[df.fillna('').query(\"Gouge_75.str.contains('SBS|SITER')\").index, 'Gouge_75']=''"
   ]
  },
  {
   "cell_type": "code",
   "execution_count": 87,
   "id": "creative-virginia",
   "metadata": {},
   "outputs": [],
   "source": [
    "for i in range(len(df['Date_for'])-1):\n",
    "    if not pd.isnull(df.loc[i, 'Date_for']) and pd.isnull(df.loc[i+1, 'Date_for']):\n",
    "        df.loc[i+1, 'Date_for']=df.loc[i, 'Date_for']\n",
    "        \n",
    "    if not pd.isnull(df.loc[i, 'Societe']) and pd.isnull(df.loc[i+1, 'Societe']):\n",
    "        df.loc[i+1, 'Societe']=df.loc[i, 'Societe']\n",
    "        \n",
    "    if not pd.isnull(df.loc[i, 'Type']) and pd.isnull(df.loc[i+1, 'Type']) and \\\n",
    "       df.loc[i, 'Ref']==df.loc[i+1, 'Ref']:\n",
    "        df.loc[i+1, 'Type']=df.loc[i, 'Type']"
   ]
  },
  {
   "cell_type": "code",
   "execution_count": 88,
   "id": "upper-candidate",
   "metadata": {},
   "outputs": [],
   "source": [
    "for i in range(len(df['idx'])-1):    \n",
    "    if df.loc[i,'Ref']==df.loc[i+1,'Ref'] and not pd.isnull(df.loc[i, 'Profondeur'])\\\n",
    "    and re.findall('Forage',df.loc[i, 'Profondeur']):\n",
    "        df.loc[i+1,'idx']=df.loc[i, 'Profondeur'][0]+str(df.loc[i, 'Ref'])\n",
    "        w=df.loc[i, 'Profondeur'][0]\n",
    "    elif df.loc[i,'Ref']==df.loc[i+1,'Ref'] and not pd.isnull(df.loc[i, 'Profondeur']):\n",
    "        df.loc[i+1,'idx']=w+str(df.loc[i, 'Ref'])\n",
    "    \n",
    "    if df.loc[i,'Ref']==df.loc[i+1,'Ref'] and not pd.isnull(df.loc[i, 'Profondeur'])\\\n",
    "    and re.findall('Tranch',df.loc[i, 'Profondeur']):\n",
    "        df.loc[i+1,'idx']=df.loc[i, 'Profondeur'][0]+str(df.loc[i, 'Ref'])\n",
    "        w=df.loc[i, 'Profondeur'][0]\n",
    "    elif df.loc[i,'Ref']==df.loc[i+1,'Ref'] and not pd.isnull(df.loc[i, 'Profondeur']):\n",
    "        df.loc[i+1,'idx']=w+str(df.loc[i, 'Ref'])\n",
    "     \n",
    "   # if df.loc[i,'Ref']==df.loc[i+1,'Ref'] and not pd.isnull(df.loc[i, 'Profondeur'])\\\n",
    "   # and re.findall('Moni',df.loc[i, 'Profondeur']):\n",
    "   #     df.loc[i+1,'idx']=df.loc[i, 'Profondeur'][0]+str(df.loc[i, 'Ref'])\n",
    "   #     w=df.loc[i, 'Profondeur'][0]\n",
    "   # elif df.loc[i,'Ref']==df.loc[i+1,'Ref'] and not pd.isnull(df.loc[i, 'Profondeur']):\n",
    "   #     df.loc[i+1,'idx']=w+str(df.loc[i, 'Ref'])"
   ]
  },
  {
   "cell_type": "code",
   "execution_count": 89,
   "id": "noticed-basement",
   "metadata": {},
   "outputs": [],
   "source": [
    "df['Ref']=df['idx'].apply(lambda x : x if re.findall('F|T', str(x)) else '')\n",
    "df['Ref']=df['idx'].apply(lambda x : x.replace('Monito ', 'Mon') if re.findall('Monit', str(x)) else x)"
   ]
  },
  {
   "cell_type": "code",
   "execution_count": 90,
   "id": "ignored-community",
   "metadata": {},
   "outputs": [],
   "source": [
    "df['Type']=df['Type'].apply(lambda x: 'Piezo' if not pd.isnull(x) else '')"
   ]
  },
  {
   "cell_type": "code",
   "execution_count": 91,
   "id": "thrown-parent",
   "metadata": {},
   "outputs": [],
   "source": [
    "df['Ref']=df['Ref'].apply(lambda x: re.sub(\"\\.1\",\"a\",str(x)) if re.search(r\"\\.1\", str(x)) else x)\n",
    "df['Ref']=df['Ref'].apply(lambda x: re.sub(\"\\.2\",\"b\",str(x)) if re.search(r\"\\.2\", str(x)) else x)\n",
    "df['Ref']=df['Ref'].apply(lambda x: re.sub(\"\\.3\",\"c\",str(x)) if re.search(r\"\\.3\", str(x)) else x)\n",
    "df['Ref']=df['Ref'].apply(lambda x: re.sub(\"\\.4\",\"d\",str(x)) if re.search(r\"\\.4\", str(x)) else x)"
   ]
  },
  {
   "cell_type": "code",
   "execution_count": 92,
   "id": "photographic-speaking",
   "metadata": {},
   "outputs": [
    {
     "name": "stdout",
     "output_type": "stream",
     "text": [
      "Generation of ID-dated...\n",
      "Using column ' Date_for ' in the (geo)dataframe !\n",
      "Process ended, check the (geo)dataframe\n"
     ]
    }
   ],
   "source": [
    "gen_dated_id(df, ref_col='Ref', date_col='Date_for')"
   ]
  },
  {
   "cell_type": "code",
   "execution_count": 93,
   "id": "utility-state",
   "metadata": {
    "scrolled": true
   },
   "outputs": [],
   "source": [
    "df.loc[df.query('Profondeur!=Profondeur' ).index,'Profondeur']=''"
   ]
  },
  {
   "cell_type": "code",
   "execution_count": 94,
   "id": "impaired-viewer",
   "metadata": {},
   "outputs": [],
   "source": [
    "df['Method']=''\n",
    "            \n",
    "for i in range(len(df['Method'])):\n",
    "    if not pd.isnull(df.loc[i, 'Gouge_75']) : df.loc[i, 'Method']='Gouge_75'\n",
    "    if not pd.isnull(df.loc[i, 'MFT_145']) : df.loc[i, 'Method']='MFT_145'\n",
    "    if not pd.isnull(df.loc[i, 'Liner_60']) : df.loc[i, 'Method']='Liner_60'\n",
    "    if not pd.isnull(df.loc[i, 'carottier']) : df.loc[i, 'Method']='carrotier'\n",
    "    if not pd.isnull(df.loc[i, 'tarrière']) : df.loc[i, 'Method']='tarrière'"
   ]
  },
  {
   "cell_type": "code",
   "execution_count": 95,
   "id": "relevant-bobby",
   "metadata": {},
   "outputs": [],
   "source": [
    "df.drop(df.query('Profondeur.str.contains(\"Forage\") and Profondeur!=\"Forage bloqué\"', engine='python').index, inplace=True)\n",
    "df.drop(df.query('Profondeur.str.contains(\"Tranc\") and Profondeur!=\"Tranchée bloqué\"', engine='python').index, inplace=True)\n",
    "df.drop(df.query('Profondeur.str.contains(\".orage|..ranch\", regex=True)', engine='python').index, inplace=True)\n",
    "df.drop(df.fillna('').query('Description.str.contains(\"^.orage bloq|^.ranc.* bloq|^.*efus\", regex=True)', engine='python').index, inplace=True)\n",
    "df.drop(df.query('Ref!=Ref').index, inplace=True)\n",
    "df.drop(columns=['MFT_145','Gouge_75','Liner_60', 'carottier', 'tarrière', 'idx'], axis=1, inplace=True)\n",
    "df.reset_index(drop=True, inplace=True)"
   ]
  },
  {
   "cell_type": "code",
   "execution_count": 96,
   "id": "satisfied-entry",
   "metadata": {},
   "outputs": [],
   "source": [
    "df['Litho_top'] = df['Profondeur'].apply(lambda x: x.replace(',','.').split('-')[0].strip(' m'))\n",
    "df['Litho_base'] = df['Profondeur'].apply(lambda x: x.replace(',','.').split('-')[-1].strip(' m'))"
   ]
  },
  {
   "cell_type": "code",
   "execution_count": 97,
   "id": "human-zimbabwe",
   "metadata": {},
   "outputs": [],
   "source": [
    "df.rename({'Ref':'ID'}, axis=1, inplace=True)\n",
    "if 'Profondeur' in df.columns: df.drop(columns=['Profondeur'], axis=1, inplace=True)"
   ]
  },
  {
   "cell_type": "code",
   "execution_count": 98,
   "id": "appreciated-termination",
   "metadata": {},
   "outputs": [
    {
     "data": {
      "text/plain": [
       "{'F', 'T'}"
      ]
     },
     "execution_count": 98,
     "metadata": {},
     "output_type": "execute_result"
    }
   ],
   "source": [
    "set([x[0] for x in list(set(df.ID)) if isinstance(x,str)])"
   ]
  },
  {
   "cell_type": "code",
   "execution_count": 99,
   "id": "minor-billion",
   "metadata": {},
   "outputs": [],
   "source": [
    "df.loc[df.query('ID_date.str.contains(\"T\")', engine='python').index, 'Type'] = 'Tranchee'\n",
    "df.loc[df.query('Type==\"\"', engine='python').index, 'Type'] = 'Forage'"
   ]
  },
  {
   "cell_type": "code",
   "execution_count": 100,
   "id": "dimensional-philippines",
   "metadata": {},
   "outputs": [],
   "source": [
    "df.loc[1268, ['ID_date','ID']] = df.loc[1267, ['ID_date','ID']]\n",
    "df.loc[df.query('Description.isnull() or Description.str.len()<1').index, 'Description'] = ''"
   ]
  },
  {
   "cell_type": "code",
   "execution_count": 101,
   "id": "planned-going",
   "metadata": {},
   "outputs": [],
   "source": [
    "df.drop(index=df.query('Litho_base.isnull() or Litho_base.str.len()<1').index, inplace=True)\n",
    "df.reset_index(drop=True, inplace=True)"
   ]
  },
  {
   "cell_type": "code",
   "execution_count": 102,
   "id": "ongoing-electron",
   "metadata": {},
   "outputs": [],
   "source": [
    "compute_BH_length(df, id_col='ID', length_col_name='Long_for', top_col='Litho_top', base_col='Litho_base')"
   ]
  },
  {
   "cell_type": "code",
   "execution_count": 103,
   "id": "df16680d",
   "metadata": {
    "scrolled": true
   },
   "outputs": [
    {
     "name": "stdout",
     "output_type": "stream",
     "text": [
      "borehole: 1628 ; measure: 0 ; lithology: 1628 ; analysis: 0 ; equipement: 0 ; unknown: 0 ; \n"
     ]
    }
   ],
   "source": [
    "df_dict = data_slicer(df, cols_dict, crit_dict)"
   ]
  },
  {
   "cell_type": "code",
   "execution_count": 104,
   "id": "4223bab1",
   "metadata": {},
   "outputs": [
    {
     "name": "stdout",
     "output_type": "stream",
     "text": [
      "borehole: 298 ; measure: 0 ; lithology: 1628 ; analysis: 0 ;equipement: 0 ; unknown: 0\n"
     ]
    }
   ],
   "source": [
    "ukw = df_dict['unknown']\n",
    "bh = df_dict['borehole']\n",
    "\n",
    "bh = bh.drop(index=ukw.index)\n",
    "ukw.drop_duplicates(['ID'], inplace=True)\n",
    "ukw.reset_index(drop=True, inplace=True)\n",
    "bh.drop_duplicates(['ID'], inplace=True)\n",
    "if 'X' in bh.columns: bh = bh.query('ID==ID and X==X')\n",
    "bh.reset_index(drop=True, inplace=True)\n",
    "\n",
    "mes = df_dict['measure']\n",
    "an = df_dict['analysis']\n",
    "litho = df_dict['lithology']\n",
    "eqp = df_dict['equipement']\n",
    "\n",
    "print(f'borehole: {len(bh)} ; measure: {len(mes)} ; lithology: {len(litho)} ; analysis: {len(an)} ;' \n",
    "      f'equipement: {len(eqp)} ; unknown: {len(ukw)}')"
   ]
  },
  {
   "cell_type": "code",
   "execution_count": 105,
   "id": "equivalent-comment",
   "metadata": {},
   "outputs": [],
   "source": [
    "ukw = bh.loc[bh.query('Type==\"Tranchee\"', engine='python')[list(ukw.columns)].index] # trenches\n",
    "ukw['Type'] = 'Inconnu'\n",
    "ukw.drop_duplicates(['ID'], inplace=True)\n",
    "ukw.reset_index(drop=True, inplace=True)\n",
    "\n",
    "bh = bh.drop(index=ukw.index).reset_index(drop=True)"
   ]
  },
  {
   "cell_type": "raw",
   "id": "finite-arbor",
   "metadata": {},
   "source": [
    "print(df.loc[802, ['ID','Description','Method','Litho_top', 'Litho_base']])\n",
    "df.query('Description.isnull() or Description.str.contains(\"Bloqu\")', engine='python')"
   ]
  },
  {
   "cell_type": "code",
   "execution_count": 106,
   "id": "pressing-nirvana",
   "metadata": {},
   "outputs": [],
   "source": [
    "source_litho = litho\n",
    "source_bh = bh\n",
    "source_ukw = ukw"
   ]
  },
  {
   "cell_type": "code",
   "execution_count": 107,
   "id": "31d71274",
   "metadata": {},
   "outputs": [
    {
     "name": "stdout",
     "output_type": "stream",
     "text": [
      "source_bh: 281 ; source_eqp: 0 ; source_uknw: 17 ; source_litho: 1628 ; source_an: 0 ; source_mes: 0\n"
     ]
    }
   ],
   "source": [
    "if not os.path.exists(tmp_dir):\n",
    "    os.makedirs(tmp_dir), os.makedirs(tmp_dir+'source_merge/') \n",
    "    \n",
    "#eqp.to_csv(tmp_dir+sheet+'_Equipments.csv', index=False)\n",
    "#mes.to_csv(tmp_dir+sheet+'_Measures.csv', index=False)\n",
    "bh.to_csv(tmp_dir+sheet+'_Boreholes.csv', index=False)\n",
    "#an.to_csv(tmp_dir+sheet+'_Samples.csv', index=False)\n",
    "litho.to_csv(tmp_dir+sheet+'_Lithologies.csv', index=False)\n",
    "ukw.to_csv(tmp_dir+sheet+'_Unknown.csv', index=False)\n",
    "\n",
    "source_bh.to_csv(tmp_dir+'source_merge/source_Boreholes.csv', index=False) #all Boreholes data in the source\n",
    "#source_mes.to_csv(tmp_dir+'source_merge/source_merge/source_Measures.csv', index=False) #all Measures data in the source\n",
    "#source_eqp.to_csv(tmp_dir+'source_merge/source_Equipments.csv', index=False)\n",
    "#source_an.to_csv(tmp_dir+'source_merge/source_Samples.csv', index=False)\n",
    "source_litho.to_csv(tmp_dir+'source_merge/source_Lithologies.csv', index=False)\n",
    "source_ukw.to_csv(tmp_dir+'source_merge/source_Unknown.csv', index=False)\n",
    "\n",
    "print(f'source_bh: {len(source_bh)} ; source_eqp: {len(source_eqp)} ; source_uknw: {len(source_ukw)} ; '\n",
    "      f'source_litho: {len(source_litho)} ; source_an: {len(source_an)} ; source_mes: {len(source_mes)}')"
   ]
  },
  {
   "cell_type": "markdown",
   "id": "applied-dress",
   "metadata": {},
   "source": [
    "* **Sheet : 'DONNEES PIEZOS'**"
   ]
  },
  {
   "cell_type": "code",
   "execution_count": 108,
   "id": "young-nicholas",
   "metadata": {},
   "outputs": [],
   "source": [
    "tmp_dir=ROOT_DIR + '/CF_data/Result_traitem/database_Memoris3/'\n",
    "sheet='Donnees_piezos'"
   ]
  },
  {
   "cell_type": "code",
   "execution_count": 109,
   "id": "comfortable-injection",
   "metadata": {
    "scrolled": false
   },
   "outputs": [
    {
     "name": "stdout",
     "output_type": "stream",
     "text": [
      "Rows : 130, columns : 22\n"
     ]
    },
    {
     "data": {
      "application/vnd.jupyter.widget-view+json": {
       "model_id": "73ae8ee9755e48b9ba962f515dd11aec",
       "version_major": 2,
       "version_minor": 0
      },
      "text/plain": [
       "interactive(children=(IntSlider(value=3, description='rows', max=130, min=3, readout=False), IntSlider(value=1…"
      ]
     },
     "metadata": {},
     "output_type": "display_data"
    }
   ],
   "source": [
    "df = pd.read_excel(ROOT_DIR + '/CF_data/Data_UMONS/Contamination/Doc_SITEREM/Rapport de synthèse des études de sol et des eaux souterraines. '+\n",
    "                        'Siterem - 2017/Database MEMORIS3.xlsx', sheet_name='DONNEES PIEZOS', skiprows=2)\n",
    "df.replace(r'<|>','', inplace=True, regex=True)\n",
    "df.replace(r'-$',np.nan, inplace=True, regex=True)\n",
    "\n",
    "dataframe_viewer(df, rows=3)"
   ]
  },
  {
   "cell_type": "code",
   "execution_count": 110,
   "id": "eba741e7",
   "metadata": {},
   "outputs": [],
   "source": [
    "names = ['Ref_id','ID','Societe','Zone','Sous_zone','X','Y','Zsol','Z','Nappe','Long_pz','Sect_crep',\n",
    "         'Diam_int_pz','Niv_eau_pz_27/04/2010','Niv_eau_pz_08/09/2010','Niv_eau_sol_27/04/2010',\n",
    "         'Niv_eau_sol_08/09/2010','Surnageant','Sousnageant','Caractere','Opacite','Rmq']\n",
    "df = col_ren(df, mode=1, name=names)\n",
    "df = na_col_drop(df, 3)"
   ]
  },
  {
   "cell_type": "code",
   "execution_count": 111,
   "id": "catholic-batch",
   "metadata": {},
   "outputs": [],
   "source": [
    "df=df.query(\"ID==ID\")\n",
    "df.replace('-',np.nan, inplace=True)"
   ]
  },
  {
   "cell_type": "code",
   "execution_count": 112,
   "id": "dc43f551",
   "metadata": {},
   "outputs": [],
   "source": [
    "df['Sousnageant']=df['Sousnageant'].apply(lambda x: x/100 if not pd.isnull(x) else x) #convert unit in [m]\n",
    "df['Surnageant']=df['Surnageant'].apply(lambda x: x/100 if not pd.isnull(x) else x)\n",
    "df['Type']=df['Sect_crep'].apply(lambda x: 'Piezo' if not pd.isnull(x) else 'Inconnu')"
   ]
  },
  {
   "cell_type": "code",
   "execution_count": 113,
   "id": "fiscal-triple",
   "metadata": {},
   "outputs": [],
   "source": [
    "df = df[['ID','X','Y','Z','Zsol','Type','Long_pz','Diam_int_pz','Sect_crep','Nappe','Societe','Zone','Sous_zone',\n",
    "         'Niv_eau_pz_27/04/2010','Niv_eau_pz_08/09/2010','Niv_eau_sol_27/04/2010','Niv_eau_sol_08/09/2010',\n",
    "         'Surnageant','Sousnageant','Caractere',\n",
    "      'Opacite','Rmq']]"
   ]
  },
  {
   "cell_type": "code",
   "execution_count": 114,
   "id": "434f61e0",
   "metadata": {},
   "outputs": [
    {
     "name": "stdout",
     "output_type": "stream",
     "text": [
      "dates found: ['27/04/2010', '08/09/2010']\n"
     ]
    }
   ],
   "source": [
    "df = collect_time_data(df)"
   ]
  },
  {
   "cell_type": "raw",
   "id": "29f49190",
   "metadata": {},
   "source": [
    "cols = ['X','Y','Z']\n",
    "df = data\n",
    "df = replicate_values(df, 'ID', cols, ['prof', 'sup', 'inf'])"
   ]
  },
  {
   "cell_type": "code",
   "execution_count": 115,
   "id": "c81fbeb7",
   "metadata": {},
   "outputs": [],
   "source": [
    "df = gen_id_from_ech(df, id_ech_col='ID', suffixes=sufx, prefixes=prefx, capture_regex=id_reg)"
   ]
  },
  {
   "cell_type": "code",
   "execution_count": 116,
   "id": "b6aa7ef6",
   "metadata": {},
   "outputs": [
    {
     "name": "stdout",
     "output_type": "stream",
     "text": [
      "borehole: 260 ; measure: 260 ; lithology: 0 ; analysis: 260 ; equipement: 0 ; unknown: 26 ; \n"
     ]
    }
   ],
   "source": [
    "df_dict = data_slicer(df, cols_dict, crit_dict)"
   ]
  },
  {
   "cell_type": "code",
   "execution_count": 117,
   "id": "028be1c5",
   "metadata": {},
   "outputs": [
    {
     "name": "stdout",
     "output_type": "stream",
     "text": [
      "borehole: 111 ; measure: 260 ; lithology: 0 ; analysis: 260 ;equipement: 0 ; unknown: 13\n"
     ]
    }
   ],
   "source": [
    "ukw = df_dict['unknown']\n",
    "bh = df_dict['borehole']\n",
    "\n",
    "bh = bh.drop(index=ukw.index)\n",
    "ukw.drop_duplicates(['ID'], inplace=True)\n",
    "ukw.reset_index(drop=True, inplace=True)\n",
    "bh.drop_duplicates(['ID'], inplace=True)\n",
    "if 'X' in bh.columns: bh = bh.query('ID==ID and X==X')\n",
    "bh.reset_index(drop=True, inplace=True)\n",
    "\n",
    "mes = df_dict['measure']\n",
    "an = df_dict['analysis']\n",
    "litho = df_dict['lithology']\n",
    "eqp = df_dict['equipement']\n",
    "\n",
    "print(f'borehole: {len(bh)} ; measure: {len(mes)} ; lithology: {len(litho)} ; analysis: {len(an)} ;' \n",
    "      f'equipement: {len(eqp)} ; unknown: {len(ukw)}')"
   ]
  },
  {
   "cell_type": "code",
   "execution_count": 118,
   "id": "67a525e3",
   "metadata": {
    "scrolled": true
   },
   "outputs": [],
   "source": [
    "an['Type_ech'] = 'Eau'\n",
    "an = an.drop_duplicates('ID_ech').reset_index(drop=True)"
   ]
  },
  {
   "cell_type": "raw",
   "id": "eb7662b4",
   "metadata": {},
   "source": [
    "mes = collect_measure(mes, ['niv'])"
   ]
  },
  {
   "cell_type": "markdown",
   "id": "f2259dee",
   "metadata": {},
   "source": [
    "##### Data merging"
   ]
  },
  {
   "cell_type": "code",
   "execution_count": 119,
   "id": "7757261d",
   "metadata": {},
   "outputs": [],
   "source": [
    "source_an = an"
   ]
  },
  {
   "cell_type": "code",
   "execution_count": 120,
   "id": "a5c3f8d6",
   "metadata": {},
   "outputs": [],
   "source": [
    "source_mes = mes"
   ]
  },
  {
   "cell_type": "code",
   "execution_count": 121,
   "id": "82670bf0",
   "metadata": {},
   "outputs": [],
   "source": [
    "source_bh, conflict_df = data_merger(source_bh, bh, how='outer', on=['ID'], dist_max=1., drop_skip_col=['index'])"
   ]
  },
  {
   "cell_type": "code",
   "execution_count": 122,
   "id": "fc628e0e",
   "metadata": {},
   "outputs": [],
   "source": [
    "source_ukw, conflict_df = data_merger(source_ukw, ukw, how='outer', on=['ID'], dist_max=1., drop_skip_col=['index'])"
   ]
  },
  {
   "cell_type": "code",
   "execution_count": 123,
   "id": "814a9439",
   "metadata": {},
   "outputs": [
    {
     "name": "stdout",
     "output_type": "stream",
     "text": [
      "source_bh: 392 ; source_eqp: 0 ; source_uknw: 30 ; source_litho: 1628 ; source_an: 130 ; source_mes: 260\n"
     ]
    }
   ],
   "source": [
    "if not os.path.exists(tmp_dir):\n",
    "    os.makedirs(tmp_dir), os.makedirs(tmp_dir+'source_merge/') \n",
    "    \n",
    "#eqp.to_csv(tmp_dir+sheet+'_Equipments.csv', index=False)\n",
    "mes.to_csv(tmp_dir+sheet+'_Measures.csv', index=False)\n",
    "bh.to_csv(tmp_dir+sheet+'_Boreholes.csv', index=False)\n",
    "an.to_csv(tmp_dir+sheet+'_Samples.csv', index=False)\n",
    "#litho.to_csv(tmp_dir+sheet+'_Lithologies.csv', index=False)\n",
    "ukw.to_csv(tmp_dir+sheet+'_Unknown.csv', index=False)\n",
    "\n",
    "source_bh.to_csv(tmp_dir+'source_merge/source_Boreholes.csv', index=False) #all Boreholes data in the source\n",
    "source_mes.to_csv(tmp_dir+'source_merge/source_Measures.csv', index=False) #all Measures data in the source\n",
    "#source_eqp.to_csv(tmp_dir+'source_merge/source_Equipments.csv', index=False)\n",
    "source_an.to_csv(tmp_dir+'source_merge/source_Samples.csv', index=False)\n",
    "#source_litho.to_csv(tmp_dir+'source_merge/source_Lithologies.csv', index=False)\n",
    "source_ukw.to_csv(tmp_dir+'source_merge/source_Unknown.csv', index=False)\n",
    "\n",
    "print(f'source_bh: {len(source_bh)} ; source_eqp: {len(source_eqp)} ; source_uknw: {len(source_ukw)} ; '\n",
    "      f'source_litho: {len(source_litho)} ; source_an: {len(source_an)} ; source_mes: {len(source_mes)}')"
   ]
  },
  {
   "cell_type": "markdown",
   "id": "extended-collection",
   "metadata": {},
   "source": [
    "* **Sheet : 'DRAINS ET PIEZOS ENEL'**"
   ]
  },
  {
   "cell_type": "code",
   "execution_count": 124,
   "id": "visible-rogers",
   "metadata": {},
   "outputs": [],
   "source": [
    "tmp_dir=ROOT_DIR + '/CF_data/Result_traitem/database_Memoris3/'\n",
    "sheet='Drains_Pz_ENEL'"
   ]
  },
  {
   "cell_type": "code",
   "execution_count": 125,
   "id": "sublime-thomson",
   "metadata": {},
   "outputs": [
    {
     "name": "stdout",
     "output_type": "stream",
     "text": [
      "Rows : 21, columns : 65\n"
     ]
    },
    {
     "data": {
      "application/vnd.jupyter.widget-view+json": {
       "model_id": "8d8dcee2ba754a4496498430fc54632b",
       "version_major": 2,
       "version_minor": 0
      },
      "text/plain": [
       "interactive(children=(IntSlider(value=3, description='rows', max=21, min=3, readout=False), IntSlider(value=12…"
      ]
     },
     "metadata": {},
     "output_type": "display_data"
    }
   ],
   "source": [
    "df = pd.read_excel(ROOT_DIR + '/CF_data/Data_UMONS/Contamination/Doc_SITEREM/Rapport de synthèse des études de sol et des eaux souterraines. Siterem - 2017/Database MEMORIS3.xlsx', \n",
    "                        sheet_name='DRAINS ET PIEZOS ENEL', skiprows=1)\n",
    "\n",
    "df=na_line_drop(df,0)\n",
    "df=na_col_drop(df,1)\n",
    "df.replace(r'<|>','', inplace=True, regex=True)\n",
    "df.replace(r'-$',np.nan, inplace=True, regex=True)\n",
    "\n",
    "dataframe_viewer(df, rows=3)"
   ]
  },
  {
   "cell_type": "code",
   "execution_count": 126,
   "id": "0b22a630",
   "metadata": {},
   "outputs": [],
   "source": [
    "df.insert(5, 'Z', df.pop('PZ absolue (m)'))\n",
    "df.rename(columns={'N°':'ID', 'Date ':'Date_ech','Hauteur de la chambre ':'Ht_chbre','T':'Temp', 'ETUDE':'Etude',\n",
    "                   'Niv_EAU_SOL (m)': 'Niv_eau_sol_01/10/2013', 'Niv_EAU_SOL (m).1':'Niv_eau_sol_14/12/2016', \n",
    "                   'Prof_PZ':'Long_pz','Section_crépinée':'Sect_crep', 'Diamètre_int':'Diam_int_pz', 'Odiss':'O_diss',\n",
    "                   '\\nC5-C8':'C5-C8'}, inplace=True)\n",
    "df = df.query('ID==ID')"
   ]
  },
  {
   "cell_type": "code",
   "execution_count": 127,
   "id": "41083ca4",
   "metadata": {},
   "outputs": [
    {
     "name": "stdout",
     "output_type": "stream",
     "text": [
      "dates found: ['01/10/2013', '14/12/2016']\n"
     ]
    }
   ],
   "source": [
    "df = collect_time_data(df)"
   ]
  },
  {
   "cell_type": "raw",
   "id": "64bb7de9",
   "metadata": {},
   "source": [
    "cols = list(df.columns)[:-2]\n",
    "df = replicate_values(df, 'ID', cols, suffix=['prof', 'sup', 'inf'], replace_id=False)"
   ]
  },
  {
   "cell_type": "code",
   "execution_count": 128,
   "id": "373f4d30",
   "metadata": {},
   "outputs": [],
   "source": [
    "df['CE']=df['CE'].apply(lambda x: pd.to_numeric(x)/1000 \n",
    "                                  if re.search('^\\d+', str(x)) and not pd.isnull(x) else np.nan) # -> in mS/cm"
   ]
  },
  {
   "cell_type": "raw",
   "id": "24857fb4",
   "metadata": {},
   "source": [
    "df = collect_measure(df, params_kw)"
   ]
  },
  {
   "cell_type": "code",
   "execution_count": 129,
   "id": "f2f914cc",
   "metadata": {},
   "outputs": [],
   "source": [
    "df.drop(index=df.query('ID.str.contains(\"nan\", regex=True)', engine='python').index, inplace=True)"
   ]
  },
  {
   "cell_type": "code",
   "execution_count": 130,
   "id": "846611e2",
   "metadata": {},
   "outputs": [],
   "source": [
    "df = gen_id_from_ech(df, id_ech_col='ID', suffixes=sufx, prefixes=prefx, capture_regex=id_reg)"
   ]
  },
  {
   "cell_type": "code",
   "execution_count": 131,
   "id": "7008d5da",
   "metadata": {
    "scrolled": true
   },
   "outputs": [
    {
     "name": "stdout",
     "output_type": "stream",
     "text": [
      "\n",
      "\u001b[1;34mPossible new pollutants names:\u001b[0;0m\n",
      "['ID', 'ID_ech', 'Date_ech', 'Etude', 'X', 'Y', 'Z', 'Zsol', 'Ht_chbre', 'Long_pz', 'Sect_crep', 'Diam_int_pz', 'PZ relative (m)', 'pH', 'CE', 'Temp', 'ORP', 'O_diss', 'CN_libre', 'CN_totaux.1', 'CN_totaux.2', 'BTEX total', 'C5-C8', 'C8-C10', 'C10-C12', 'C12-C16', ' C16 - C21', 'C10-C12.1', 'C12-C22', 'C22-C30', 'C30-C40', 'Date_mes', 'Niv_eau_sol']\n"
     ]
    }
   ],
   "source": [
    "df = col_ren(df, name=POL_NAMES_MODEL, mode=1)"
   ]
  },
  {
   "cell_type": "code",
   "execution_count": 132,
   "id": "90f3dc20",
   "metadata": {},
   "outputs": [],
   "source": [
    "data = df.copy()\n",
    "drop = []\n",
    "for c in data.columns:\n",
    "    c = re.sub('\\s+$|\\\\n','', c)\n",
    "    if re.match('\\s*\\w+\\s*-\\s*\\w+\\s*', c):\n",
    "        c_mod = c.replace(' ','')\n",
    "        data.rename(columns={c:c_mod}, inplace=True)\n",
    "        c = c_mod\n",
    "    if re.search('\\w+_<\\d*>', c):\n",
    "        drop.append(c)\n",
    "data.drop(columns=drop, inplace=True)\n",
    "df = data.copy()"
   ]
  },
  {
   "cell_type": "code",
   "execution_count": 133,
   "id": "640de751",
   "metadata": {},
   "outputs": [
    {
     "name": "stdout",
     "output_type": "stream",
     "text": [
      "borehole: 38 ; measure: 38 ; lithology: 0 ; analysis: 38 ; equipement: 0 ; unknown: 0 ; \n",
      "\n",
      "\u001b[1;32mNot used columns:\u001b[0;0m\n",
      " ['PZ relative (m)']\n"
     ]
    }
   ],
   "source": [
    "df_dict = data_slicer(df, cols_dict, crit_dict)"
   ]
  },
  {
   "cell_type": "code",
   "execution_count": 134,
   "id": "c2368f20",
   "metadata": {},
   "outputs": [
    {
     "name": "stdout",
     "output_type": "stream",
     "text": [
      "borehole: 15 ; measure: 38 ; lithology: 0 ; analysis: 38 ;equipement: 0 ; unknown: 0\n"
     ]
    }
   ],
   "source": [
    "ukw = df_dict['unknown']\n",
    "bh = df_dict['borehole']\n",
    "\n",
    "bh = bh.drop(index=ukw.index)\n",
    "ukw.drop_duplicates(['ID'], inplace=True)\n",
    "ukw.reset_index(drop=True, inplace=True)\n",
    "bh.drop_duplicates(['ID'], inplace=True)\n",
    "if 'X' in bh.columns: bh = bh.query('ID==ID and X==X')\n",
    "bh.reset_index(drop=True, inplace=True)\n",
    "\n",
    "mes = df_dict['measure']\n",
    "an = df_dict['analysis']\n",
    "litho = df_dict['lithology']\n",
    "eqp = df_dict['equipement']\n",
    "\n",
    "print(f'borehole: {len(bh)} ; measure: {len(mes)} ; lithology: {len(litho)} ; analysis: {len(an)} ;' \n",
    "      f'equipement: {len(eqp)} ; unknown: {len(ukw)}')"
   ]
  },
  {
   "cell_type": "code",
   "execution_count": 135,
   "id": "01f06097",
   "metadata": {},
   "outputs": [],
   "source": [
    "bh.insert(0, 'Type', 'Piezo')\n",
    "an.insert(0, 'Type_ech', 'Eau')"
   ]
  },
  {
   "cell_type": "code",
   "execution_count": 136,
   "id": "7a88e370",
   "metadata": {},
   "outputs": [
    {
     "data": {
      "text/html": [
       "<div>\n",
       "<style scoped>\n",
       "    .dataframe tbody tr th:only-of-type {\n",
       "        vertical-align: middle;\n",
       "    }\n",
       "\n",
       "    .dataframe tbody tr th {\n",
       "        vertical-align: top;\n",
       "    }\n",
       "\n",
       "    .dataframe thead th {\n",
       "        text-align: right;\n",
       "    }\n",
       "</style>\n",
       "<table border=\"1\" class=\"dataframe\">\n",
       "  <thead>\n",
       "    <tr style=\"text-align: right;\">\n",
       "      <th></th>\n",
       "      <th>ID</th>\n",
       "      <th>X</th>\n",
       "      <th>Y</th>\n",
       "      <th>Z</th>\n",
       "      <th>Zsol</th>\n",
       "      <th>ID_ech</th>\n",
       "      <th>Nappe</th>\n",
       "      <th>Surnageant</th>\n",
       "      <th>Sousnageant</th>\n",
       "      <th>Caractere</th>\n",
       "      <th>Opacite</th>\n",
       "      <th>Rmq</th>\n",
       "      <th>Type_ech</th>\n",
       "    </tr>\n",
       "  </thead>\n",
       "  <tbody>\n",
       "    <tr>\n",
       "      <th>0</th>\n",
       "      <td>1</td>\n",
       "      <td>153124.0710</td>\n",
       "      <td>122653.3820</td>\n",
       "      <td>102.622</td>\n",
       "      <td>101.983</td>\n",
       "      <td>1</td>\n",
       "      <td>Remblai_All</td>\n",
       "      <td>0.0</td>\n",
       "      <td>0.0</td>\n",
       "      <td>coupant</td>\n",
       "      <td>Translucide</td>\n",
       "      <td>très légère irisation et odeur de mazout et HAP</td>\n",
       "      <td>Eau</td>\n",
       "    </tr>\n",
       "    <tr>\n",
       "      <th>1</th>\n",
       "      <td>523</td>\n",
       "      <td>152701.3000</td>\n",
       "      <td>122778.5100</td>\n",
       "      <td>104.69</td>\n",
       "      <td>104.24</td>\n",
       "      <td>523</td>\n",
       "      <td>Remblais</td>\n",
       "      <td>0.0</td>\n",
       "      <td>0.0</td>\n",
       "      <td>coupant</td>\n",
       "      <td>Translucide</td>\n",
       "      <td>NaN</td>\n",
       "      <td>Eau</td>\n",
       "    </tr>\n",
       "    <tr>\n",
       "      <th>2</th>\n",
       "      <td>522</td>\n",
       "      <td>152650.1700</td>\n",
       "      <td>122765.7700</td>\n",
       "      <td>103.59</td>\n",
       "      <td>103.07</td>\n",
       "      <td>522</td>\n",
       "      <td>Remblai_All</td>\n",
       "      <td>0.0</td>\n",
       "      <td>0.0</td>\n",
       "      <td>coupant</td>\n",
       "      <td>Chargé</td>\n",
       "      <td>NaN</td>\n",
       "      <td>Eau</td>\n",
       "    </tr>\n",
       "    <tr>\n",
       "      <th>3</th>\n",
       "      <td>517</td>\n",
       "      <td>152576.5800</td>\n",
       "      <td>122884.3400</td>\n",
       "      <td>106</td>\n",
       "      <td>105.42</td>\n",
       "      <td>517</td>\n",
       "      <td>Remblais</td>\n",
       "      <td>0.0</td>\n",
       "      <td>0.0</td>\n",
       "      <td>coupant</td>\n",
       "      <td>Translucide</td>\n",
       "      <td>NaN</td>\n",
       "      <td>Eau</td>\n",
       "    </tr>\n",
       "    <tr>\n",
       "      <th>4</th>\n",
       "      <td>528</td>\n",
       "      <td>152555.3200</td>\n",
       "      <td>122706.5300</td>\n",
       "      <td>103.83</td>\n",
       "      <td>103.5</td>\n",
       "      <td>528</td>\n",
       "      <td>Remblai_All</td>\n",
       "      <td>0.0</td>\n",
       "      <td>0.0</td>\n",
       "      <td>coupant</td>\n",
       "      <td>Translucide</td>\n",
       "      <td>NaN</td>\n",
       "      <td>Eau</td>\n",
       "    </tr>\n",
       "    <tr>\n",
       "      <th>...</th>\n",
       "      <td>...</td>\n",
       "      <td>...</td>\n",
       "      <td>...</td>\n",
       "      <td>...</td>\n",
       "      <td>...</td>\n",
       "      <td>...</td>\n",
       "      <td>...</td>\n",
       "      <td>...</td>\n",
       "      <td>...</td>\n",
       "      <td>...</td>\n",
       "      <td>...</td>\n",
       "      <td>...</td>\n",
       "      <td>...</td>\n",
       "    </tr>\n",
       "    <tr>\n",
       "      <th>125</th>\n",
       "      <td>405</td>\n",
       "      <td>152553.0230</td>\n",
       "      <td>122875.1550</td>\n",
       "      <td>106.253</td>\n",
       "      <td>105.53</td>\n",
       "      <td>405</td>\n",
       "      <td>Remblais</td>\n",
       "      <td>0.0</td>\n",
       "      <td>0.0</td>\n",
       "      <td>coupant</td>\n",
       "      <td>Translucide</td>\n",
       "      <td>NaN</td>\n",
       "      <td>Eau</td>\n",
       "    </tr>\n",
       "    <tr>\n",
       "      <th>126</th>\n",
       "      <td>406</td>\n",
       "      <td>152671.2450</td>\n",
       "      <td>122785.6580</td>\n",
       "      <td>103.858</td>\n",
       "      <td>103.207</td>\n",
       "      <td>406</td>\n",
       "      <td>Remblais</td>\n",
       "      <td>0.0</td>\n",
       "      <td>0.0</td>\n",
       "      <td>coupant</td>\n",
       "      <td>Translucide</td>\n",
       "      <td>forte odeur H2S</td>\n",
       "      <td>Eau</td>\n",
       "    </tr>\n",
       "    <tr>\n",
       "      <th>127</th>\n",
       "      <td>410</td>\n",
       "      <td>153094.7422</td>\n",
       "      <td>122552.6908</td>\n",
       "      <td>102.32</td>\n",
       "      <td>102.35</td>\n",
       "      <td>410</td>\n",
       "      <td>Remblais</td>\n",
       "      <td>0.0</td>\n",
       "      <td>0.0</td>\n",
       "      <td>coupant</td>\n",
       "      <td>Translucide</td>\n",
       "      <td>NaN</td>\n",
       "      <td>Eau</td>\n",
       "    </tr>\n",
       "    <tr>\n",
       "      <th>128</th>\n",
       "      <td>411</td>\n",
       "      <td>153066.7005</td>\n",
       "      <td>122556.2908</td>\n",
       "      <td>102.1762</td>\n",
       "      <td>102.24</td>\n",
       "      <td>411</td>\n",
       "      <td>All_limoneuse</td>\n",
       "      <td>0.0</td>\n",
       "      <td>0.0</td>\n",
       "      <td>non coupant</td>\n",
       "      <td>Translucide</td>\n",
       "      <td>NaN</td>\n",
       "      <td>Eau</td>\n",
       "    </tr>\n",
       "    <tr>\n",
       "      <th>129</th>\n",
       "      <td>400</td>\n",
       "      <td>152625.5900</td>\n",
       "      <td>122837.5100</td>\n",
       "      <td>104.779</td>\n",
       "      <td>104.779</td>\n",
       "      <td>400</td>\n",
       "      <td>Remblais</td>\n",
       "      <td>0.0</td>\n",
       "      <td>0.0</td>\n",
       "      <td>coupant</td>\n",
       "      <td>Translucide</td>\n",
       "      <td>NaN</td>\n",
       "      <td>Eau</td>\n",
       "    </tr>\n",
       "  </tbody>\n",
       "</table>\n",
       "<p>130 rows × 13 columns</p>\n",
       "</div>"
      ],
      "text/plain": [
       "      ID            X            Y         Z     Zsol ID_ech          Nappe  \\\n",
       "0      1  153124.0710  122653.3820   102.622  101.983      1    Remblai_All   \n",
       "1    523  152701.3000  122778.5100    104.69   104.24    523       Remblais   \n",
       "2    522  152650.1700  122765.7700    103.59   103.07    522    Remblai_All   \n",
       "3    517  152576.5800  122884.3400       106   105.42    517       Remblais   \n",
       "4    528  152555.3200  122706.5300    103.83    103.5    528    Remblai_All   \n",
       "..   ...          ...          ...       ...      ...    ...            ...   \n",
       "125  405  152553.0230  122875.1550   106.253   105.53    405       Remblais   \n",
       "126  406  152671.2450  122785.6580   103.858  103.207    406       Remblais   \n",
       "127  410  153094.7422  122552.6908    102.32   102.35    410       Remblais   \n",
       "128  411  153066.7005  122556.2908  102.1762   102.24    411  All_limoneuse   \n",
       "129  400  152625.5900  122837.5100   104.779  104.779    400       Remblais   \n",
       "\n",
       "     Surnageant  Sousnageant    Caractere      Opacite  \\\n",
       "0           0.0          0.0      coupant  Translucide   \n",
       "1           0.0          0.0      coupant  Translucide   \n",
       "2           0.0          0.0      coupant       Chargé   \n",
       "3           0.0          0.0      coupant  Translucide   \n",
       "4           0.0          0.0      coupant  Translucide   \n",
       "..          ...          ...          ...          ...   \n",
       "125         0.0          0.0      coupant  Translucide   \n",
       "126         0.0          0.0      coupant  Translucide   \n",
       "127         0.0          0.0      coupant  Translucide   \n",
       "128         0.0          0.0  non coupant  Translucide   \n",
       "129         0.0          0.0      coupant  Translucide   \n",
       "\n",
       "                                                 Rmq Type_ech  \n",
       "0    très légère irisation et odeur de mazout et HAP      Eau  \n",
       "1                                                NaN      Eau  \n",
       "2                                                NaN      Eau  \n",
       "3                                                NaN      Eau  \n",
       "4                                                NaN      Eau  \n",
       "..                                               ...      ...  \n",
       "125                                              NaN      Eau  \n",
       "126                                  forte odeur H2S      Eau  \n",
       "127                                              NaN      Eau  \n",
       "128                                              NaN      Eau  \n",
       "129                                              NaN      Eau  \n",
       "\n",
       "[130 rows x 13 columns]"
      ]
     },
     "execution_count": 136,
     "metadata": {},
     "output_type": "execute_result"
    }
   ],
   "source": [
    "source_an"
   ]
  },
  {
   "cell_type": "markdown",
   "id": "e855e711",
   "metadata": {},
   "source": [
    "##### Data merging"
   ]
  },
  {
   "cell_type": "code",
   "execution_count": 137,
   "id": "067e6588",
   "metadata": {},
   "outputs": [],
   "source": [
    "source_an, conflict_df = data_merger(source_an, an, how='outer', on=['ID_ech'], dist_max=1., drop_skip_col=['index'])"
   ]
  },
  {
   "cell_type": "code",
   "execution_count": 138,
   "id": "9e756bad",
   "metadata": {},
   "outputs": [],
   "source": [
    "source_bh, conflict_df = data_merger(source_bh, bh, how='outer', on=['ID'], dist_max=1., drop_skip_col=['index'])"
   ]
  },
  {
   "cell_type": "code",
   "execution_count": 139,
   "id": "e76e919d",
   "metadata": {},
   "outputs": [],
   "source": [
    "source_mes, conflict_df = data_merger(source_mes, mes, how='outer', on=['ID','Date_mes'], dist_max=1., drop_skip_col=['index'])"
   ]
  },
  {
   "cell_type": "code",
   "execution_count": 140,
   "id": "3778a182",
   "metadata": {},
   "outputs": [
    {
     "name": "stdout",
     "output_type": "stream",
     "text": [
      "source_bh: 407 ; source_eqp: 0 ; source_uknw: 30 ; source_litho: 1628 ; source_an: 149 ; source_mes: 298\n"
     ]
    }
   ],
   "source": [
    "if not os.path.exists(tmp_dir):\n",
    "    os.makedirs(tmp_dir), os.makedirs(tmp_dir+'source_merge/') \n",
    "    \n",
    "#eqp.to_csv(tmp_dir+sheet+'_Equipments.csv', index=False)\n",
    "mes.to_csv(tmp_dir+sheet+'_Measures.csv', index=False)\n",
    "bh.to_csv(tmp_dir+sheet+'_Boreholes.csv', index=False)\n",
    "an.to_csv(tmp_dir+sheet+'_Samples.csv', index=False)\n",
    "#litho.to_csv(tmp_dir+sheet+'_Lithologies.csv', index=False)\n",
    "ukw.to_csv(tmp_dir+sheet+'_Unknown.csv', index=False)\n",
    "\n",
    "source_bh.to_csv(tmp_dir+'source_merge/source_Boreholes.csv', index=False) #all Boreholes data in the source\n",
    "source_mes.to_csv(tmp_dir+'source_merge/source_Measures.csv', index=False) #all Measures data in the source\n",
    "#source_eqp.to_csv(tmp_dir+'source_merge/source_Equipments.csv', index=False)\n",
    "source_an.to_csv(tmp_dir+'source_merge/source_Samples.csv', index=False)\n",
    "#source_litho.to_csv(tmp_dir+'source_merge/source_Lithologies.csv', index=False)\n",
    "source_ukw.to_csv(tmp_dir+'source_merge/source_Unknown.csv', index=False)\n",
    "\n",
    "print(f'source_bh: {len(source_bh)} ; source_eqp: {len(source_eqp)} ; source_uknw: {len(source_ukw)} ; '\n",
    "      f'source_litho: {len(source_litho)} ; source_an: {len(source_an)} ; source_mes: {len(source_mes)}')"
   ]
  },
  {
   "cell_type": "markdown",
   "id": "northern-fifteen",
   "metadata": {},
   "source": [
    "* **Sheet : 'RESULTS_EAU' (F)**"
   ]
  },
  {
   "cell_type": "code",
   "execution_count": 141,
   "id": "working-turkish",
   "metadata": {},
   "outputs": [],
   "source": [
    "tmp_dir=ROOT_DIR + '/CF_data/Result_traitem/database_Memoris3/'\n",
    "sheet='Result_eau'"
   ]
  },
  {
   "cell_type": "code",
   "execution_count": 142,
   "id": "pressing-bidding",
   "metadata": {},
   "outputs": [
    {
     "name": "stdout",
     "output_type": "stream",
     "text": [
      "Rows : 131, columns : 185\n"
     ]
    },
    {
     "data": {
      "application/vnd.jupyter.widget-view+json": {
       "model_id": "3978eb948f6142c8bf1ac5ade57fb173",
       "version_major": 2,
       "version_minor": 0
      },
      "text/plain": [
       "interactive(children=(IntSlider(value=5, description='rows', max=131, min=5, readout=False), IntSlider(value=1…"
      ]
     },
     "metadata": {},
     "output_type": "display_data"
    }
   ],
   "source": [
    "df = pd.read_excel(ROOT_DIR + '/CF_data/Data_UMONS/Contamination/Doc_SITEREM/Rapport de synthèse des études de sol et des eaux souterraines. Siterem - 2017/Database MEMORIS3.xlsx', \n",
    "                        sheet_name='RESULTS_EAU', skiprows=1)\n",
    "\n",
    "df.replace(r'<|>','', inplace=True, regex=True)\n",
    "df.replace(r'-$',np.nan, inplace=True, regex=True)\n",
    "\n",
    "dataframe_viewer(df, rows=5)"
   ]
  },
  {
   "cell_type": "code",
   "execution_count": 143,
   "id": "patent-lover",
   "metadata": {},
   "outputs": [
    {
     "name": "stderr",
     "output_type": "stream",
     "text": [
      "/home/yanathan/.local/share/virtualenvs/GSDMA-DRfwm83x/lib/python3.8/site-packages/pandas/core/frame.py:5233: SettingWithCopyWarning: \n",
      "A value is trying to be set on a copy of a slice from a DataFrame\n",
      "\n",
      "See the caveats in the documentation: https://pandas.pydata.org/pandas-docs/stable/user_guide/indexing.html#returning-a-view-versus-a-copy\n",
      "  return super().replace(\n"
     ]
    }
   ],
   "source": [
    "df.rename(columns={'Campagne':'Societe','N_piezo.':'ID','Z tête PZ':'Z', 'Prof_PZ':'Long_pz',\n",
    "                   'Niv_EAU_TETE (m)':'Niv_eau_pz_27/04/2010','Niv_EAU_SOL (m)':'Niv_eau_sol_27/04/2010',\n",
    "                   'Unnamed: 13':'Niv_eau_pz_08/09/2010','Unnamed: 15':'Niv_eau_sol_08/09/2010','T':'Temp',\n",
    "                   'Section_crépinée':'Sect_crep','Diamètre_int':'Diam_int_pz','Description éch.':'Opacite',\n",
    "                   'O_diss':'O_diss','Remarques':'Rmq','Aquifère_échantillonné':'Nappe', \n",
    "                   'Caractéristique':'Caractere'}, inplace=True)\n",
    "\n",
    "df=df.query(\"ID ==ID\")\n",
    "df.replace('-',np.nan, inplace=True)"
   ]
  },
  {
   "cell_type": "code",
   "execution_count": 144,
   "id": "cc48ad2b",
   "metadata": {
    "scrolled": true
   },
   "outputs": [
    {
     "name": "stderr",
     "output_type": "stream",
     "text": [
      "/home/yanathan/.local/share/virtualenvs/GSDMA-DRfwm83x/lib/python3.8/site-packages/pandas/core/frame.py:3607: SettingWithCopyWarning: \n",
      "A value is trying to be set on a copy of a slice from a DataFrame.\n",
      "Try using .loc[row_indexer,col_indexer] = value instead\n",
      "\n",
      "See the caveats in the documentation: https://pandas.pydata.org/pandas-docs/stable/user_guide/indexing.html#returning-a-view-versus-a-copy\n",
      "  self._set_item(key, value)\n"
     ]
    }
   ],
   "source": [
    "df['Type']=df['Sect_crep'].apply(lambda x: 'Piezo' if not pd.isnull(x) else 'Inconnu')\n",
    "df.insert(8, 'Type', df.pop('Type'))"
   ]
  },
  {
   "cell_type": "code",
   "execution_count": 145,
   "id": "ab1620be",
   "metadata": {},
   "outputs": [],
   "source": [
    "# to express value in [m]\n",
    "df['Surnageant']=df['Surnageant'].apply(lambda x: x/100)\n",
    "df['Sousnageant']=df['Sousnageant'].apply(lambda x: x/100)\n",
    "df['CE']=df['CE'].apply(lambda x: pd.to_numeric(x)/1000 \n",
    "                        if re.search('^\\d+', str(x)) and not pd.isnull(x) else np.nan)"
   ]
  },
  {
   "cell_type": "code",
   "execution_count": 146,
   "id": "9e363665",
   "metadata": {},
   "outputs": [
    {
     "name": "stdout",
     "output_type": "stream",
     "text": [
      "dates found: ['27/04/2010', '08/09/2010']\n"
     ]
    }
   ],
   "source": [
    "df = collect_time_data(df)"
   ]
  },
  {
   "cell_type": "code",
   "execution_count": 147,
   "id": "71785471",
   "metadata": {},
   "outputs": [],
   "source": [
    "data = df.copy()\n",
    "drop = []\n",
    "for c in data.columns:\n",
    "    c_mod = re.sub('\\s+$|\\n','', c)\n",
    "    if re.match('\\s*\\w+\\s*-\\s*\\w+\\s*', c_mod):\n",
    "        c_mod = c_mod.replace(' ','')\n",
    "    if re.search('\\w+_<\\d*>', c_mod):\n",
    "        drop.append(c)\n",
    "    data.rename(columns={c:c_mod}, inplace=True)\n",
    "data.drop(columns=drop, inplace=True)"
   ]
  },
  {
   "cell_type": "code",
   "execution_count": 148,
   "id": "400b8d57",
   "metadata": {},
   "outputs": [],
   "source": [
    "df = data.copy()"
   ]
  },
  {
   "cell_type": "code",
   "execution_count": 149,
   "id": "8548ee37",
   "metadata": {
    "scrolled": true
   },
   "outputs": [
    {
     "name": "stdout",
     "output_type": "stream",
     "text": [
      "\n",
      "\u001b[1;34mPossible new pollutants names:\u001b[0;0m\n",
      "['ID', 'Societe', 'Zone', 'Sous_zone', 'X', 'Y', 'Zsol', 'Z', 'Type', 'Long_pz', 'Sect_crep', 'Diam_int_pz', 'Nappe', 'Surnageant', 'Sousnageant', 'Caractere', 'Opacite', 'Rmq', 'pH', 'CE', 'Temp', 'ORP', 'Odiss', 'CN_libre', 'para-etmétaxylène', 'BTEX total', 'PCB totaux (7)', 'C5-C8', 'C8-C10', 'C10-C12', 'C12-C16', 'C16-C21', 'C21-C35', 'C35-C40', 'C30-C40', 'sulfites', 'sulfate', 'Date_mes', 'Niv_eau_pz', 'Niv_eau_sol']\n"
     ]
    }
   ],
   "source": [
    "df = col_ren(df, name=POL_NAMES_MODEL, mode=1, cutoff=0.7)#, verbose=True)"
   ]
  },
  {
   "cell_type": "code",
   "execution_count": 150,
   "id": "751cb70b",
   "metadata": {},
   "outputs": [],
   "source": [
    "df.rename(columns={'3,5+2,3-dimethylphénol+4-ethylphénol' : 'DMetPhn_4-EthPhn', 'chrome (VI)': 'Cr_VI',\n",
    "                   '2,4+2,5-dichlorophénol' : '2.4_5-DCPhn', 'sulfites':'Sulfite'}, inplace=True)"
   ]
  },
  {
   "cell_type": "raw",
   "id": "afa501e4",
   "metadata": {},
   "source": [
    "df = collect_measure(df, params_kw, params_col='Params')"
   ]
  },
  {
   "cell_type": "code",
   "execution_count": 151,
   "id": "446cec86",
   "metadata": {},
   "outputs": [],
   "source": [
    "df = gen_id_from_ech(df, id_ech_col='ID', suffixes=sufx, prefixes=prefx, capture_regex=id_reg)"
   ]
  },
  {
   "cell_type": "code",
   "execution_count": 152,
   "id": "505b837e",
   "metadata": {},
   "outputs": [
    {
     "name": "stdout",
     "output_type": "stream",
     "text": [
      "borehole: 260 ; measure: 260 ; lithology: 0 ; analysis: 260 ; equipement: 0 ; unknown: 26 ; \n",
      "\n",
      "\u001b[1;32mNot used columns:\u001b[0;0m\n",
      " ['Odiss']\n"
     ]
    }
   ],
   "source": [
    "df_dict = data_slicer(df, cols_dict, crit_dict)"
   ]
  },
  {
   "cell_type": "code",
   "execution_count": 153,
   "id": "348ecb6a",
   "metadata": {},
   "outputs": [
    {
     "name": "stdout",
     "output_type": "stream",
     "text": [
      "borehole: 111 ; measure: 260 ; lithology: 0 ; analysis: 260 ;equipement: 0 ; unknown: 13\n"
     ]
    }
   ],
   "source": [
    "ukw = df_dict['unknown']\n",
    "bh = df_dict['borehole']\n",
    "\n",
    "bh = bh.drop(index=ukw.index)\n",
    "ukw.drop_duplicates(['ID'], inplace=True)\n",
    "ukw.reset_index(drop=True, inplace=True)\n",
    "bh.drop_duplicates(['ID'], inplace=True)\n",
    "if 'X' in bh.columns: bh = bh.query('ID==ID and X==X')\n",
    "bh.reset_index(drop=True, inplace=True)\n",
    "\n",
    "mes = df_dict['measure']\n",
    "an = df_dict['analysis']\n",
    "litho = df_dict['lithology']\n",
    "eqp = df_dict['equipement']\n",
    "\n",
    "print(f'borehole: {len(bh)} ; measure: {len(mes)} ; lithology: {len(litho)} ; analysis: {len(an)} ;' \n",
    "      f'equipement: {len(eqp)} ; unknown: {len(ukw)}')"
   ]
  },
  {
   "cell_type": "code",
   "execution_count": 154,
   "id": "dd8c217d",
   "metadata": {},
   "outputs": [],
   "source": [
    "data = an\n",
    "data.drop_duplicates(list(data.columns), inplace=True)\n",
    "data.reset_index(drop=True, inplace=True)\n",
    "data['Type_ech'] = 'eau'"
   ]
  },
  {
   "cell_type": "code",
   "execution_count": 155,
   "id": "faef42e0",
   "metadata": {},
   "outputs": [],
   "source": [
    "an = data.copy()"
   ]
  },
  {
   "cell_type": "markdown",
   "id": "d0178a1c",
   "metadata": {},
   "source": [
    "##### data merging"
   ]
  },
  {
   "cell_type": "code",
   "execution_count": 156,
   "id": "40e20ecd",
   "metadata": {},
   "outputs": [],
   "source": [
    "source_bh, conflict_df = data_merger(source_bh, bh, how='outer', on=['ID'], dist_max=1., drop_skip_col=['index'])"
   ]
  },
  {
   "cell_type": "code",
   "execution_count": 157,
   "id": "6a96db2f",
   "metadata": {
    "scrolled": true
   },
   "outputs": [
    {
     "name": "stderr",
     "output_type": "stream",
     "text": [
      "/home/yanathan/.local/share/virtualenvs/GSDMA-DRfwm83x/lib/python3.8/site-packages/IPython/core/interactiveshell.py:3441: PerformanceWarning: DataFrame is highly fragmented.  This is usually the result of calling `frame.insert` many times, which has poor performance.  Consider using pd.concat instead.  To get a de-fragmented frame, use `newframe = frame.copy()`\n",
      "  exec(code_obj, self.user_global_ns, self.user_ns)\n"
     ]
    }
   ],
   "source": [
    "source_an, conflict_df = data_merger(source_an, an, how='outer', on=['ID_ech'], dist_max=1., drop_skip_col=['index'])"
   ]
  },
  {
   "cell_type": "code",
   "execution_count": 158,
   "id": "74b4373c",
   "metadata": {},
   "outputs": [
    {
     "name": "stdout",
     "output_type": "stream",
     "text": [
      "Conflict values present. Please resolve this manually !\n"
     ]
    }
   ],
   "source": [
    "source_mes, conflict_df = data_merger(source_mes, mes, how='outer', on=['ID', 'Z', 'Date_mes'], dist_max=1., drop_skip_col=['index'])"
   ]
  },
  {
   "cell_type": "code",
   "execution_count": 159,
   "id": "bd01c02f",
   "metadata": {},
   "outputs": [
    {
     "name": "stdout",
     "output_type": "stream",
     "text": [
      "Rows : 0, columns : 16, Unique values on cols: {'ID': 0, 'ID_ech': 'NA', 'Date_mes': 0}\n"
     ]
    },
    {
     "data": {
      "application/vnd.jupyter.widget-view+json": {
       "model_id": "661749ec42b0425cb356aa58d14e1569",
       "version_major": 2,
       "version_minor": 0
      },
      "text/plain": [
       "interactive(children=(IntSlider(value=0, description='rows', max=0, readout=False), IntSlider(value=12, descri…"
      ]
     },
     "metadata": {},
     "output_type": "display_data"
    }
   ],
   "source": [
    "dataframe_viewer(source_mes.query('ID==522'), rows=10, un_val=['ID','ID_ech', 'Date_mes'])"
   ]
  },
  {
   "cell_type": "raw",
   "id": "f4139cb6",
   "metadata": {},
   "source": [
    "dataset = source_mes\n",
    "data_validation(overall_data=dataset, conflict_data=conflict_df, index_col='index', pass_col='ID',\n",
    "                valid_dict={'Niv_eau_sol_y':list(conflict_df.index), 'Nappe_y':list(conflict_df.index)})\n",
    "\n",
    "if 'level_0' in dataset.columns:\n",
    "    if 'index' in dataset.columns:\n",
    "        dataset.drop(columns='index', inplace=True)\n",
    "    dataset.rename(columns={'level_0':'index'}, inplace=True)"
   ]
  },
  {
   "cell_type": "code",
   "execution_count": 160,
   "id": "ea9d88d8",
   "metadata": {},
   "outputs": [],
   "source": [
    "source_ukw, conflict_df = data_merger(source_ukw, ukw, how='outer', on=['ID'], dist_max=1., drop_skip_col=['index'])"
   ]
  },
  {
   "cell_type": "code",
   "execution_count": 161,
   "id": "f86fe0f9",
   "metadata": {},
   "outputs": [
    {
     "name": "stdout",
     "output_type": "stream",
     "text": [
      "source_bh: 409 ; source_eqp: 0 ; source_uknw: 30 ; source_litho: 1628 ; source_an: 149 ; source_mes: 300\n"
     ]
    }
   ],
   "source": [
    "if not os.path.exists(tmp_dir):\n",
    "    os.makedirs(tmp_dir), os.makedirs(tmp_dir+'source_merge/') \n",
    "    \n",
    "#eqp.to_csv(tmp_dir+sheet+'_Equipments.csv', index=False)\n",
    "mes.to_csv(tmp_dir+sheet+'_Measures.csv', index=False)\n",
    "bh.to_csv(tmp_dir+sheet+'_Boreholes.csv', index=False)\n",
    "an.to_csv(tmp_dir+sheet+'_Samples.csv', index=False)\n",
    "#litho.to_csv(tmp_dir+sheet+'_Lithologies.csv', index=False)\n",
    "ukw.to_csv(tmp_dir+sheet+'_Unknown.csv', index=False)\n",
    "\n",
    "source_bh.to_csv(tmp_dir+'source_merge/source_Boreholes.csv', index=False) #all Boreholes data in the source\n",
    "source_mes.to_csv(tmp_dir+'source_merge/source_Measures.csv', index=False) #all Measures data in the source\n",
    "#source_eqp.to_csv(tmp_dir+'source_merge/source_Equipments.csv', index=False)\n",
    "source_an.to_csv(tmp_dir+'source_merge/source_Samples.csv', index=False)\n",
    "#source_litho.to_csv(tmp_dir+'source_merge/source_Lithologies.csv', index=False)\n",
    "source_ukw.to_csv(tmp_dir+'source_merge/source_Unknown.csv', index=False)\n",
    "\n",
    "print(f'source_bh: {len(source_bh)} ; source_eqp: {len(source_eqp)} ; source_uknw: {len(source_ukw)} ; '\n",
    "      f'source_litho: {len(source_litho)} ; source_an: {len(source_an)} ; source_mes: {len(source_mes)}')"
   ]
  },
  {
   "cell_type": "markdown",
   "id": "permanent-house",
   "metadata": {},
   "source": [
    "* **Sheet : 'RESULTS_SOL'**"
   ]
  },
  {
   "cell_type": "code",
   "execution_count": 162,
   "id": "coordinated-rolling",
   "metadata": {},
   "outputs": [],
   "source": [
    "tmp_dir=ROOT_DIR + '/CF_data/Result_traitem/database_Memoris3/'\n",
    "sheet='Result_sol'"
   ]
  },
  {
   "cell_type": "code",
   "execution_count": 163,
   "id": "green-joyce",
   "metadata": {
    "scrolled": false
   },
   "outputs": [
    {
     "name": "stderr",
     "output_type": "stream",
     "text": [
      "/home/yanathan/.local/share/virtualenvs/GSDMA-DRfwm83x/lib/python3.8/site-packages/openpyxl/worksheet/_reader.py:312: UserWarning: Data Validation extension is not supported and will be removed\n",
      "  warn(msg)\n"
     ]
    },
    {
     "name": "stdout",
     "output_type": "stream",
     "text": [
      "Rows : 1423, columns : 94\n"
     ]
    },
    {
     "data": {
      "application/vnd.jupyter.widget-view+json": {
       "model_id": "f2c3371610544f85b8fd96b8ec4c27fa",
       "version_major": 2,
       "version_minor": 0
      },
      "text/plain": [
       "interactive(children=(IntSlider(value=10, description='rows', max=1423, min=10, readout=False), IntSlider(valu…"
      ]
     },
     "metadata": {},
     "output_type": "display_data"
    }
   ],
   "source": [
    "df = pd.read_excel(ROOT_DIR + '/CF_data/Data_UMONS/Contamination/Doc_SITEREM/Rapport de synthèse des études de sol et des eaux souterraines. Siterem - 2017/'\n",
    "                   'Database MEMORIS3.xlsx', sheet_name='RESULTS_SOL', skiprows=1)\n",
    "df=na_line_drop(df,0)\n",
    "df=na_col_drop(df,1)\n",
    "df.replace(r'<|>','', inplace=True, regex=True)\n",
    "df.replace(r'-$',np.nan, inplace=True, regex=True)\n",
    "\n",
    "dataframe_viewer(df)"
   ]
  },
  {
   "cell_type": "code",
   "execution_count": 164,
   "id": "amateur-payday",
   "metadata": {},
   "outputs": [],
   "source": [
    "df.rename(columns={'Unnamed: 92':'EOX', 'Unnamed: 93':'Idc_phenol','Campagne':'Societe','N_forage':'ID','refus':'Refus',\n",
    "                   'Prof.\\nforage':'Long_for', 'N_ech':'ID_ech', 'Min_Ech':'Ech_top','Max_Ech':'Ech_base',\n",
    "                   'Terrain':'Nappe','Epaisseur remblais':'Ep_remb', 'Epaisseur alluvions':'Ep_alluv',\n",
    "                   'pH H2O':'pH_H2O','T° pH H2O':'Temp_pH_H2O','T° pH CaCl2':'Temp_pH_CaCl2','pH CaCl2':'pH_CaCl2', \n",
    "                   'T° pH KCl':'Temp_pH_KCl', 'pH KCl':'pH_KCl', 'T° CE':'Temp_CE', 'Argile ':'Argile', \n",
    "                   'Résidus chauffage':'Residu_chauf','Nature':'Polluant', 'Intensité':'Intensite',\n",
    "                   'Libres':'CN_libre','Fraction   2000 µm':'Fract_2000µ','Fraction   63 µm':'Fract_63µ', \n",
    "                   'Fraction   45 µm':'Fract_45µ','Fraction   16 µm':'Fract_16µ','Fraction   2 µm':'Fract_2µ',\n",
    "                   'Totaux':'CN_tot'\n",
    "                  }, inplace=True)"
   ]
  },
  {
   "cell_type": "code",
   "execution_count": 165,
   "id": "disturbed-trace",
   "metadata": {},
   "outputs": [],
   "source": [
    "df.drop(columns=[df.columns.to_list()[x] for x in range(len(df.columns))\n",
    "                      if re.search(r\"Unnamed\",df.columns.to_list()[x])], axis=1, inplace=True) \n",
    "df.replace(r'<|>','', inplace=True, regex=True)\n",
    "df=df.query('ID==ID')\n",
    "df['ID']=df['ID'].apply(lambda x : x.replace('Monito ', 'Mon') if re.findall('Monit', str(x)) else x)\n",
    "df['ID_ech']=df['ID_ech'].apply(lambda x : x.replace('Monito ', 'Mon') if re.findall('Monit', str(x)) else x)\n",
    "df.replace('-',np.nan, inplace=True)\n",
    "df.insert(5, 'Type', 'Piezo')\n",
    "df.insert(6, 'Type_ech', 'Sol')"
   ]
  },
  {
   "cell_type": "code",
   "execution_count": 166,
   "id": "boolean-terrace",
   "metadata": {},
   "outputs": [],
   "source": [
    "for i in df.index:\n",
    "    #r=re.search('(\\w+)/.+',str(df.loc[i, 'ID_ech']))\n",
    "    #if r : df.loc[i, 'ID']=r.group(1)\n",
    "    r=re.search('^\\d+',str(df.loc[i, 'ID']))\n",
    "    if r : df.loc[i, 'ID']='F'+str(df.loc[i, 'ID'])"
   ]
  },
  {
   "cell_type": "code",
   "execution_count": 167,
   "id": "champion-token",
   "metadata": {},
   "outputs": [],
   "source": [
    "df['Refus']=df['Refus'].apply(lambda x: 'x' if not pd.isnull(x) else '')\n",
    "df.replace('#',np.nan, inplace=True)"
   ]
  },
  {
   "cell_type": "code",
   "execution_count": 168,
   "id": "fancy-ethics",
   "metadata": {},
   "outputs": [],
   "source": [
    "for i in df.index:\n",
    "    x=df.loc[i,'Nappe']\n",
    "    if not re.search('^F|^Mo', str(df.loc[i,'ID'])) : df.loc[i,'Type']='Inconnu'\n",
    "        \n",
    "    if re.search('[R|r]em', str(x)) : df.loc[i,'Nappe']='Remblais'\n",
    "    elif re.search('[A|a]ll', str(x)) : df.loc[i,'Nappe']='Alluvions'\n",
    "    elif re.search('[S|s]oc', str(x)) : df.loc[i,'Nappe']='Socle'\n",
    "    elif re.search('[A|a]rg', str(x)) : df.loc[i,'Nappe']='Argile'\n",
    "    else : df.loc[i,'Nappe']=''"
   ]
  },
  {
   "cell_type": "code",
   "execution_count": 169,
   "id": "aa2cec92",
   "metadata": {},
   "outputs": [],
   "source": [
    "df['Date_mes'] = '2050-01-01'\n",
    "#df['Date_mes'] = df['Date_mes'].astype('datetime64')"
   ]
  },
  {
   "cell_type": "code",
   "execution_count": 170,
   "id": "0a3d78be",
   "metadata": {},
   "outputs": [],
   "source": [
    "POL_NAMES_MODEL = {'Arsenic': 'As', 'Cobalt': 'Co', 'Cadmium': 'Cd', 'Chrome': 'Cr', 'Chrome VI': 'Cr_VI', 'Chrome (VI)': 'Cr_VI', 'Chrome_total': 'Cr_tot', 'Cuivre': 'Cu', 'Mercure': 'Hg', 'Plomb': 'Pb', 'Nickel': 'Ni', 'Zinc': 'Zn', 'Cyanure(?:s)? (?libre(?:s)?)?': 'CN_libre', 'Cyanures (totaux)': 'CN_tot', 'CN_totaux': 'CN_tot', 'Cyanures (APE)': 'CN_tot_APE', 'Cyanures totaux APE':'CN_tot_APE', 'cyanure complex': 'CN_cplx', \"Cyanures (libres) - NEN-EN-ISO 14403\": 'CN_libre', 'Cyanures (libres)': 'CN_libre', 'CN_libres': 'CN_libre', 'thiocyanate': 'ThioCN', 'Benzène': 'Bnz', 'Toluène': 'Toln', 'Éthylbenzène': 'EthBnz', 'Orthoxylène': 'O-Xyl', 'O-xylènes': 'O-Xyl', 'mp-xylènes': 'P-M-Xyl', 'Para- et métaxylène': 'P-M-Xyl', 'Xylènes': 'Xyl', 'Styrène': 'Styr', 'BTEX totaux': 'BTEX_tot', 'Phénol': 'Phenol', 'Indice phénol': 'IPh', 'Naphtalène': 'Naphta', 'Acénaphtylène': 'Acenaphtyl', 'Acénaphtène': 'Acenaphtn', 'Fluorène': 'Flrn', 'Phénanthrène': 'Phenanthr', 'Anthracène': 'Anthrc', 'Fluoranthène': 'Flranth', 'Pyrène': 'Pyr', 'Benzo(a)anthracène': 'Bnz(a)anthrc', 'Chrysène': 'Chrys', 'Benzo(b)fluoranthène': 'Bnz(b)flranth', 'Benzo(k)fluoranthène': 'Bnz(k)flranth', 'Benzo(a)pyrène': 'Bnz(a)pyr', 'Dibenzo(ah)anthracène': 'Dibnz(ah)anthrc', 'Benzo(ghi)pérylène': 'Bnz(ghi)peryl', 'Indéno(1,2,3-cd)pyrène': 'Indeno(1.2.3-cd)pyr', 'HAP Totaux (16) - EPA': 'HAP_tot_EPA', '1,1-Dichloroéthane': '1.1-DCE', '1,2-Dichloroéthane': '1.2-DCE', '1,1-dichloroéthène': '1.1-DCEn', 'Cis-1,2-dichloroéthène': 'Cis-1.2-DCEn', 'Trans 1,2-dichloroéthylène': 'Trans-1.2-DCEyl', 'Dichlorométhane': 'DCM', 'dibromochlorométhane': 'DiBCM', 'bromodichlorométhane': 'BromoDCM', 'Totaux (cis,trans) 1,2-dichloroéthènes': '(cis.trans)-1.2-DCEn_tot', '1,2-dichloropropane': '1.2-DCP', 'Tétrachloroéthylène': 'TetraCEyn', 'Tétrachlorométhane': 'TCM', '1,1,1-Trichloroéthane': '1.1.1-TCE', '1,1,2-Trichloroéthane': '1.1.2-TCE', 'Trichloroéthylène': 'TCEyn', 'Chlorure de vinyle': 'CVinyl', '3-éthylphénol': '3-EthPhn', 'métacrésol': 'M-cresol', 'o-crésol': 'O-cresol', 'p-crésol': 'P-cresol', 'crésols (total)': 'Cresol_tot', '2,4-dimethylphénol': '2.4-DMetPhn', '2,5-dimethylphénol': '2.5-DMetPhn', '3,5+2,3-dimethylphénol+4-ethylphénol': 'DMetPhn_4-EthPhn', '2,6-dimethylphénol': '2.6-DMetPhn', '3,4-dimethylphénol': '3.4-DMetPhn', 'alkylphénols C2 total': 'AlkPhn_C2_tot', '2-éthylphénol': '2-EthPhn', 'para(tert)butylphénol': 'P(T)ButPhn', 'alkylphénols C4 total': 'AlkPhn_C4_tot', '2,3,5-triméthylphénol': '2.3.5-TMPethn', '3,4,5-triméthylphénol': '3.4.5-TMetPhn', '2-isopropylphénol': '2-IsoPropPhn', 'alkylphénols C3 total': 'AlkPhn_C3_tot', 'HAP totaux (10) VROM': 'HAP_tot_vrom', 'monochlorobenzène': 'MonoCBzn', '1,2-dichlorobenzène': '1.2-DCBzn', '1,3-dichlorobenzène': '1.3-DCBzn', '1,4-Dichlorobenzène': '1.4-DCBzn', '1,2,3-trichlorobenzène': '1.2.3-TCBzn', '1,2,4-trichlorobenzène': '1.2.4-TCBzn', '1,3,5-trichlorobenzène': '1.3.5-TCBzn', '1,2,4,5- et 1,2,3,5-tétrachlorobenzènes': '1.2.3.4_5-TCBzn', '1,2,3,4-tétrachlorobenzène': '1.2.3.4-TCBzn', 'hexachlorobenzène': 'HCBzn', '2-chlorophénol': '2-CPhn', '4-chlorophénol': '4-CPhn', '3-chlorophénol': '3-CPhn', 'monochlorophénol total': 'MonoCPhn_tot', '2,3-dichlorophénol': '2.3-DCPhn', '2,4+2,5-dichlorophénol': '2.4_5-DCPhn', '2,6-dichlorophénol': '2.6-DCPhn', '3,4-dichlorophénol': '3.4-DCPhn', '3,5-dichlorophénol': '3.5-DCPhn', 'dichlorophénol total': 'DCPhn_tot', '2,3,4-trichlorophénol': '2.3.4-TCPhn', '2,3,5-trichlorophénol': '2.3.5-TCPhn', '2,3,6-trichlorophénol': '2.3.6-TCPhn', '2,4,5-trichlorophénol': '2.4.5-TCPhn', '2,4,6-trichlorophénol': '2.4.6-TCPhn', '3,4,5-trichlorophénol': '3.4.5-TCPhn', 'trichlorophénol total': 'TriCPhn_tot', '2,3,5,6-tétrachlorophénol': '2.3.5.6-TCPhn', '2,3,4,6- tétrachlorophénol': '2.3.4.6-TCPhn', '2,3,4,5- tétrachlorophénol': '2.3.4.5-TCPhn', 'tétrachlorophénol total': 'TCPhn_tot', 'pentachlorobenzène': 'PCBzn', 'pentachlorophénol': 'PCPhn', 'chlorophénol total': 'CPhn_tot', 'EOX': 'EOX', 'fraction aromat. >C6-C7': 'Ar_C6-C7', 'fraction aromat. >C7-C8': 'Ar_C7-C8', 'fraction aromat. >C8-C10': 'Ar_C8-C10', 'fraction aliphat. C5-C6': 'Aliphat_C5-C6', 'fraction aliphat. >C6-C8': 'Aliphat_C6-C8', 'fraction aliphat. >C8-C10': 'Aliphat_C8-C10', 'Fraction C5-C8': 'C5-C8', 'Fraction C8-C10': 'C8-C10', 'Fraction C10-C12': 'C10-C12', 'Fraction C12-C16': 'C12-C16', 'Fraction C16-C21': 'C16-C21', 'Fraction C21 - C35': 'C21-C35', 'Fraction C35 - C40': 'C35-C40', 'C16 - C21': 'C16-C21', 'C21 - C35': 'C21-C35', 'C30 - C40': 'C30-C40', 'C35 - C40': 'C35-C40', 'aromat.>C6-C7': 'Ar_C6-C7', 'aromat.>C7-C8': 'Ar_C7-C8', 'aromat.>C8-C10': 'Ar_C8-C10', 'aromat.>C10-C12': 'Ar_C10-C12', 'aromat.>C12-C16': 'Ar_C12-C16', 'aromat.>C16-C21': 'Ar_C16-C21', 'aromat.>C21-C35': 'Ar_C21-C35', 'aliphat.>C5-C6': 'Alp_C5-C6', 'aliphat.>C6-C8': 'Alp_C6-C8', 'aliphat.>C8-C10': 'Alp_C8-C10', 'aliphat.>C10-C12': 'Alp_C10-C12', 'aliphat.>C12-C16': 'Alp_C12-C16', 'aliphat.>C16-C35': 'Alp_C16-C35', 'Hydrocarbures totaux C10-C35': 'HC_tot_C10-C35', 'totaux C10-C35': 'HC_tot_C10-C35', 'Totaux C10-C40': 'HC_tot_C10-C40', 'Hydrocarbures totaux C10-C40': 'HC_tot_C10-C40', 'MTBE': 'MTBE', 'PCB 28': 'PCB_28', 'PCB 52': 'PCB_52', 'PCB 101': 'PCB_101', 'PCB 118': 'PCB_118', 'PCB 138': 'PCB_138', 'PCB 153': 'PCB_153', 'PCB 180': 'PCB_180', 'PCB totaux (7)?': 'PCB_tot', 'Chlorure(?:s)?': 'Chlorure', 'Soufre Total': 'S_tot', 'sulfite(?:s)?': 'sulfite', 'sulfate(?:s)?': 'sulfate', 'COT': 'COT', 'DBO (5 jours)': 'DBO_5j', 'DCO': 'DCO', 'Ammonium': 'NH4', 'ammoniaque libre': 'NH3_libre', 'Nitrate': 'HNO3', 'Nitrite': 'HNO2', 'azote Kjeldahl': 'N_Kjdl', 'sulfures totaux': 'Sulfure_tot', 'sulfure(?:s)? (libre(?:s)?)': 'Sulfure_libre', 'calcium': 'Ca', 'potassium': 'K', 'magnésium': 'Mg', 'manganèse': 'Mn', 'sodium': \"Na\", 'fer': 'Fe', 'phosphore (total)': 'P_tot', 'phosphates (totaux)': 'Phosphate_tot', 'carbonate': 'CaCO3', 'bicarbonate': 'Bicarb', 'Phoshore': 'P', 'fer ((Fe))? total': 'Fe_tot', 'fer (2\\+)': 'Fe2', 'fluorure(?:s)?': 'Fluorure', 'chlorures': 'Chlorure', 'chloroformes': 'Chloroforme', 'bromoformes': 'Bromoforme', 'bromure (libre)': 'Br_libre', 'Iph.': 'IPh', 'CN_NCl': 'CN_NCl', '2-naphtol': '2-Naphtol', 'thymol': 'Thymol', 'chloroforme': 'Chloroforme', 'bromoforme': 'Bromoforme', 'C12-C20': 'C12-C20', 'C20-C30': 'C20-C30', 'Non chloro destruct.':'Non_chloro_destr', 'SOM VROM 10':'HAP_tot_vrom','SOM EPA 16':'HAP_tot_EPA', 'SOM_C5_C35':'HC_tot_C15-C35', 'SOM_C10_C40':'HC_tot_C10-C40', 'SOM BTEX':'BTEX_tot','C5_C8':'C5-C8', 'C8_C10':'C8-C10', 'C10_C12':'C10-C12', 'C12_C16':'C12-C16', 'C30_C35':'C30-C35'}"
   ]
  },
  {
   "cell_type": "code",
   "execution_count": 171,
   "id": "b643100e",
   "metadata": {
    "scrolled": true
   },
   "outputs": [
    {
     "name": "stdout",
     "output_type": "stream",
     "text": [
      "\n",
      "\u001b[1;34mPossible new pollutants names:\u001b[0;0m\n",
      "['Societe', 'Zone', 'Sous_zone', 'Numéro_zone', 'ID', 'Type', 'Type_ech', 'Affectation', 'X', 'Y', 'Z', 'Long_for', 'Refus', 'ID_ech', 'Ech_top', 'Ech_base', 'Soumis', 'Nappe', 'Description', 'Ep_remb', 'Ep_alluv', 'Intensite', 'Min_organo', 'Max_organo', 'Polluant', 'MS', 'pH_H2O', 'Temp_pH_H2O', 'Temp_pH_CaCl2', 'pH_CaCl2', 'Temp_pH_KCl', 'pH_KCl', 'Temp_CE', 'CE', 'MO', 'Residu_chauf', 'Argile', 'Fract_2000µ', 'Fract_63µ', 'Fract_45µ', 'Fract_16µ', 'Fract_2µ', 'Chrome_VI', 'CN_libre', 'CN_tot', 'Thiocyantes', 'Cyanures totaux EPA', 'Ethylbenzène', 'Anthracene', 'Benzoaanthracène', 'Benzo(a)pyrene', 'Indéno[123cd]pyrène', 'Acenaphtylene', 'Acenaphthene', 'Benzo_b_fluoranthene', 'Dibenzo[ah]anthracène', 'C16_C21', 'C21_C35', 'C35_C40', 'C21_C30', 'SOM C10_C40', 'Idc_phenol', 'Date_mes']\n"
     ]
    }
   ],
   "source": [
    "df = col_ren(df, name=POL_NAMES_MODEL, mode=1, cutoff=0.7)#, verbose=True)"
   ]
  },
  {
   "cell_type": "code",
   "execution_count": 172,
   "id": "ca11831e",
   "metadata": {
    "scrolled": true
   },
   "outputs": [
    {
     "name": "stdout",
     "output_type": "stream",
     "text": [
      "borehole: 1423 ; measure: 1423 ; lithology: 0 ; analysis: 1423 ; equipement: 0 ; unknown: 49 ; \n",
      "\n",
      "\u001b[1;32mNot used columns:\u001b[0;0m\n",
      " ['Numéro_zone', 'Affectation', 'Soumis', 'Ep_remb', 'Ep_alluv', 'Residu_chauf']\n"
     ]
    }
   ],
   "source": [
    "df_dict = data_slicer(df, cols_dict, crit_dict)"
   ]
  },
  {
   "cell_type": "code",
   "execution_count": 173,
   "id": "c0b8d925",
   "metadata": {},
   "outputs": [
    {
     "name": "stdout",
     "output_type": "stream",
     "text": [
      "borehole: 304 ; measure: 1423 ; lithology: 0 ; analysis: 1423 ;equipement: 0 ; unknown: 17\n"
     ]
    }
   ],
   "source": [
    "ukw = df_dict['unknown']\n",
    "bh = df_dict['borehole']\n",
    "\n",
    "bh = bh.drop(index=ukw.index)\n",
    "ukw.drop_duplicates(['ID'], inplace=True)\n",
    "ukw.reset_index(drop=True, inplace=True)\n",
    "bh.drop_duplicates(['ID'], inplace=True)\n",
    "if 'X' in bh.columns: bh = bh.query('ID==ID and X==X')\n",
    "bh.reset_index(drop=True, inplace=True)\n",
    "\n",
    "mes = df_dict['measure']\n",
    "an = df_dict['analysis']\n",
    "litho = df_dict['lithology']\n",
    "eqp = df_dict['equipement']\n",
    "\n",
    "print(f'borehole: {len(bh)} ; measure: {len(mes)} ; lithology: {len(litho)} ; analysis: {len(an)} ;' \n",
    "      f'equipement: {len(eqp)} ; unknown: {len(ukw)}')"
   ]
  },
  {
   "cell_type": "markdown",
   "id": "1bb5c8a7",
   "metadata": {},
   "source": [
    "##### data merging"
   ]
  },
  {
   "cell_type": "code",
   "execution_count": 174,
   "id": "72c1d0b1",
   "metadata": {},
   "outputs": [
    {
     "name": "stdout",
     "output_type": "stream",
     "text": [
      "Conflict values present. Please resolve this manually !\n"
     ]
    }
   ],
   "source": [
    "source_bh, conflict_df = data_merger(source_bh, bh, how='outer', on=['ID'], dist_max=1., drop_skip_col=['index'])"
   ]
  },
  {
   "cell_type": "code",
   "execution_count": 175,
   "id": "689e2d4d",
   "metadata": {},
   "outputs": [
    {
     "name": "stdout",
     "output_type": "stream",
     "text": [
      "all conflicts have been fixed!\n"
     ]
    }
   ],
   "source": [
    "dataset = source_bh\n",
    "data_validation(overall_data=dataset, conflict_data=conflict_df, index_col='index', pass_col='ID',\n",
    "                valid_dict={'Societe_x':list(conflict_df.index), 'Type_x':list(conflict_df.index),\n",
    "                            'Long_for_x':list(conflict_df.index)})\n",
    "\n",
    "if 'level_0' in dataset.columns:\n",
    "    if 'index' in dataset.columns:\n",
    "        dataset.drop(columns='index', inplace=True)\n",
    "    dataset.rename(columns={'level_0':'index'}, inplace=True)"
   ]
  },
  {
   "cell_type": "code",
   "execution_count": 176,
   "id": "9383b275",
   "metadata": {},
   "outputs": [],
   "source": [
    "source_bh = dataset.copy()"
   ]
  },
  {
   "cell_type": "code",
   "execution_count": 177,
   "id": "02fa1997",
   "metadata": {
    "scrolled": true
   },
   "outputs": [],
   "source": [
    "source_an, conflict_df = data_merger(source_an, an, how='outer', on=['ID_ech'], dist_max=1., drop_skip_col=['index'])"
   ]
  },
  {
   "cell_type": "code",
   "execution_count": 178,
   "id": "d4060b4c",
   "metadata": {
    "scrolled": true
   },
   "outputs": [],
   "source": [
    "source_mes, conflict_df = data_merger(source_mes, mes, how='outer', on=['ID','Date_mes'], dist_max=1., drop_skip_col=['index'])"
   ]
  },
  {
   "cell_type": "code",
   "execution_count": 179,
   "id": "7d15c38e",
   "metadata": {},
   "outputs": [],
   "source": [
    "dataset = source_mes\n",
    "if 'level_0' in dataset.columns:\n",
    "    if 'index' in dataset.columns:\n",
    "        dataset.drop(columns='index', inplace=True)\n",
    "    dataset.rename(columns={'level_0':'index'}, inplace=True)\n",
    "source_mes = dataset.copy()"
   ]
  },
  {
   "cell_type": "code",
   "execution_count": 180,
   "id": "484a7068",
   "metadata": {
    "scrolled": true
   },
   "outputs": [],
   "source": [
    "source_ukw, conflict_df = data_merger(source_ukw, ukw, how='outer', on=['ID'], dist_max=1., drop_skip_col=['index'])"
   ]
  },
  {
   "cell_type": "code",
   "execution_count": 181,
   "id": "5cd86a0a",
   "metadata": {},
   "outputs": [
    {
     "name": "stdout",
     "output_type": "stream",
     "text": [
      "source_bh: 520 ; source_eqp: 0 ; source_uknw: 32 ; source_litho: 1628 ; source_an: 1572 ; source_mes: 1723\n"
     ]
    }
   ],
   "source": [
    "if not os.path.exists(tmp_dir):\n",
    "    os.makedirs(tmp_dir), os.makedirs(tmp_dir+'source_merge/')\n",
    "    \n",
    "eqp.to_csv(tmp_dir+sheet+'_Equipments.csv', index=False)\n",
    "mes.to_csv(tmp_dir+sheet+'_Measures.csv', index=False)\n",
    "bh.to_csv(tmp_dir+sheet+'_Boreholes.csv', index=False)\n",
    "an.to_csv(tmp_dir+sheet+'_Samples.csv', index=False)\n",
    "ukw.to_csv(tmp_dir+sheet+'_Unknow.csv', index=False)\n",
    "litho.to_csv(tmp_dir+sheet+'_Lithologies.csv', index=False)\n",
    "\n",
    "source_bh.to_csv(tmp_dir+'source_merge/source_Boreholes.csv', index=False) #all Boreholes data in the source\n",
    "source_mes.to_csv(tmp_dir+'source_merge/source_Measures.csv', index=False) #all Measures data in the source\n",
    "source_eqp.to_csv(tmp_dir+'source_merge/source_Equipments.csv', index=False)\n",
    "source_an.to_csv(tmp_dir+'source_merge/source_Samples.csv', index=False)\n",
    "source_ukw.to_csv(tmp_dir+'source_merge/source_Unknow.csv', index=False)\n",
    "source_litho.to_csv(tmp_dir+'source_merge/source_Lithologies.csv', index=False)\n",
    "\n",
    "print(f'source_bh: {len(source_bh)} ; source_eqp: {len(source_eqp)} ; source_uknw: {len(source_ukw)} ; '\n",
    "      f'source_litho: {len(source_litho)} ; source_an: {len(source_an)} ; source_mes: {len(source_mes)}')"
   ]
  },
  {
   "cell_type": "markdown",
   "id": "9737593b",
   "metadata": {},
   "source": [
    "### $\\color{red}{\\textbf{Excel data final merge}}$"
   ]
  },
  {
   "cell_type": "raw",
   "id": "84f7589c",
   "metadata": {},
   "source": [
    "source_dict = {'bh':bh.copy(),'eqp':eqp.copy(),'ukw':ukw.copy(),'litho':litho.copy(),'an':an.copy(),'mes':mes.copy()}"
   ]
  },
  {
   "cell_type": "raw",
   "id": "34d188b5",
   "metadata": {},
   "source": [
    "# Not really needed here because all source data have XYZ coordinates"
   ]
  },
  {
   "cell_type": "code",
   "execution_count": 182,
   "id": "43831f81",
   "metadata": {},
   "outputs": [],
   "source": [
    "bh_coords = source_bh[['ID', 'X', 'Y', 'Z','Date_for']].copy()"
   ]
  },
  {
   "cell_type": "code",
   "execution_count": 183,
   "id": "94a2d00a",
   "metadata": {},
   "outputs": [],
   "source": [
    "source_an, conflict_df = data_merger(source_an, bh_coords, how='left', on='ID', dist_max=1., drop_skip_col=['index'])"
   ]
  },
  {
   "cell_type": "code",
   "execution_count": 184,
   "id": "679fd3b9",
   "metadata": {},
   "outputs": [
    {
     "name": "stdout",
     "output_type": "stream",
     "text": [
      "Conflict values present. Please resolve this manually !\n"
     ]
    }
   ],
   "source": [
    "source_litho, conflict_df = data_merger(source_litho, bh_coords, how='left', on='ID', dist_max=1., drop_skip_col=['index'])"
   ]
  },
  {
   "cell_type": "code",
   "execution_count": 185,
   "id": "176f81f2",
   "metadata": {},
   "outputs": [
    {
     "name": "stdout",
     "output_type": "stream",
     "text": [
      "all conflicts have been fixed!\n"
     ]
    }
   ],
   "source": [
    "dataset = source_litho\n",
    "data_validation(overall_data=dataset, conflict_data=conflict_df, index_col='index', pass_col='ID', \n",
    "                valid_dict={'Date_for_y':list(conflict_df.index)})\n",
    "\n",
    "if 'level_0' in dataset.columns:\n",
    "    if 'index' in dataset.columns:\n",
    "        dataset.drop(columns='index', inplace=True)\n",
    "    dataset.rename(columns={'level_0':'index'}, inplace=True)\n",
    "source_litho = dataset.copy()"
   ]
  },
  {
   "cell_type": "code",
   "execution_count": 186,
   "id": "fbb4bfcd",
   "metadata": {},
   "outputs": [],
   "source": [
    "source_mes, conflict_df = data_merger(source_mes, bh_coords, how='left', on=['ID'], dist_max=1., drop_skip_col=['index'])"
   ]
  },
  {
   "cell_type": "code",
   "execution_count": 187,
   "id": "d9f21163",
   "metadata": {},
   "outputs": [],
   "source": [
    "source_ukw, conflict_df = data_merger(source_ukw, bh_coords, how='left', on=['ID'], dist_max=1., drop_skip_col=['index'])"
   ]
  },
  {
   "cell_type": "code",
   "execution_count": 188,
   "id": "87c72bc7",
   "metadata": {
    "scrolled": true
   },
   "outputs": [
    {
     "name": "stdout",
     "output_type": "stream",
     "text": [
      "source_bh: 520 ; source_eqp: 0 ; source_uknw: 32 ; source_litho: 1627 ; source_an: 1583 ; source_mes: 1740\n"
     ]
    }
   ],
   "source": [
    "if not os.path.exists(tmp_dir):\n",
    "    os.makedirs(tmp_dir), os.makedirs(tmp_dir+'source_merge/')\n",
    "\n",
    "source_bh.to_csv(tmp_dir+'source_merge/source_Boreholes.csv', index=False)\n",
    "source_mes.to_csv(tmp_dir+'source_merge/source_Measures.csv', index=False)\n",
    "#source_eqp.to_csv(tmp_dir+'source_merge/source_Equipments.csv', index=False)\n",
    "source_an.to_csv(tmp_dir+'source_merge/source_Samples.csv', index=False)\n",
    "source_litho.to_csv(tmp_dir+'source_merge/source_Lithologies.csv', index=False)\n",
    "source_ukw.to_csv(tmp_dir+'source_merge/source_Unknown.csv', index=False)\n",
    "\n",
    "print(f'source_bh: {len(source_bh)} ; source_eqp: {len(source_eqp)} ; source_uknw: {len(source_ukw)} ; '\n",
    "      f'source_litho: {len(source_litho)} ; source_an: {len(source_an)} ; source_mes: {len(source_mes)}')"
   ]
  },
  {
   "cell_type": "markdown",
   "id": "3187304e",
   "metadata": {},
   "source": [
    "#### ======================================================================================"
   ]
  },
  {
   "cell_type": "code",
   "execution_count": 189,
   "id": "029bdabe",
   "metadata": {},
   "outputs": [
    {
     "name": "stdout",
     "output_type": "stream",
     "text": [
      "source_bh: 0 ; source_eqp: 0 ; source_uknw: 0 ; source_litho: 0 ; source_an: 0 ; source_mes: 0\n"
     ]
    }
   ],
   "source": [
    "# initialisation des variables\n",
    "_df = pd.DataFrame()\n",
    "source_bh, source_eqp, source_ukw = _df, _df, _df\n",
    "source_litho, source_an, source_mes = _df, _df, _df\n",
    "\n",
    "print(f'source_bh: {len(source_bh)} ; source_eqp: {len(source_eqp)} ; source_uknw: {len(source_ukw)} ; '\n",
    "      f'source_litho: {len(source_litho)} ; source_an: {len(source_an)} ; source_mes: {len(source_mes)}')"
   ]
  },
  {
   "cell_type": "markdown",
   "id": "informed-rwanda",
   "metadata": {},
   "source": [
    "## 3-obsrevations terrain et mesures piézos phase 2.xlsx\n",
    "\n",
    "* **Sheet : 'Piézométrie'**"
   ]
  },
  {
   "cell_type": "code",
   "execution_count": 190,
   "id": "variable-remains",
   "metadata": {},
   "outputs": [],
   "source": [
    "tmp_dir=ROOT_DIR + '/CF_data/Result_traitem/observ_terrain/'\n",
    "sheet='Piezometrie'"
   ]
  },
  {
   "cell_type": "code",
   "execution_count": 191,
   "id": "black-thinking",
   "metadata": {},
   "outputs": [
    {
     "name": "stdout",
     "output_type": "stream",
     "text": [
      "Columns dropped :['Unnamed: 3', 'Unnamed: 4', 'Unnamed: 5', 'Unnamed: 6']\n",
      "\n",
      "Rows : 31, columns : 19\n"
     ]
    },
    {
     "data": {
      "application/vnd.jupyter.widget-view+json": {
       "model_id": "4999f72adbd24d5c8448644d0111aac0",
       "version_major": 2,
       "version_minor": 0
      },
      "text/plain": [
       "interactive(children=(IntSlider(value=10, description='rows', max=31, min=10, readout=False), IntSlider(value=…"
      ]
     },
     "metadata": {},
     "output_type": "display_data"
    }
   ],
   "source": [
    "df = pd.read_excel(ROOT_DIR + '/CF_data/Data_UMONS/Contamination/Résultats et mesures Siterem/résultats phase 2/'\n",
    "                   'obsrevations terrain et mesures piézos phase 2.xlsx', sheet_name='Piézométrie', skiprows=1)\n",
    "df=na_line_drop(df,0)\n",
    "df=na_col_drop(df,1)\n",
    "df.replace(r'<|>','', inplace=True, regex=True)\n",
    "df.replace(r'-$',np.nan, inplace=True, regex=True)\n",
    "\n",
    "dataframe_viewer(df)"
   ]
  },
  {
   "cell_type": "code",
   "execution_count": 192,
   "id": "worth-sacrifice",
   "metadata": {},
   "outputs": [
    {
     "name": "stdout",
     "output_type": "stream",
     "text": [
      "9 NaN lines dropped\n"
     ]
    },
    {
     "name": "stderr",
     "output_type": "stream",
     "text": [
      "/home/yanathan/.local/share/virtualenvs/GSDMA-DRfwm83x/lib/python3.8/site-packages/pandas/core/frame.py:4901: SettingWithCopyWarning: \n",
      "A value is trying to be set on a copy of a slice from a DataFrame\n",
      "\n",
      "See the caveats in the documentation: https://pandas.pydata.org/pandas-docs/stable/user_guide/indexing.html#returning-a-view-versus-a-copy\n",
      "  return super().drop(\n"
     ]
    }
   ],
   "source": [
    "sdf=df[df.columns.to_list()[:3]]\n",
    "sdf=na_line_drop(sdf,0)\n",
    "sdf.rename(columns={'Niveau \\npiézométrique':'Niv_eau_sol', 'Commentaires ':'Date_ech'}, inplace=True)"
   ]
  },
  {
   "cell_type": "code",
   "execution_count": 193,
   "id": "recovered-vault",
   "metadata": {},
   "outputs": [],
   "source": [
    "sdf2=df.loc[:11, df.columns.to_list()[3:-1]]\n",
    "sdf2.rename(columns={'Unnamed: 7':'Date_mes', 'Unnamed: 8':'Nappe', 'Unnamed: 9':'ID', 'NP/piézo [m]':'Niv_eau_pz',\n",
    "       'dim. piezo hors sol [m]':'Ht_pz_sol', 'NP/sol [m]':'Niv_eau_sol', 'Prof. piézo/piézo [m]':'Long_pz',\n",
    "       'Prof. piézo/sol [m]':'Long_pz_sol', 'CE [mS/cm]':'CE','t° [°C]':'Temp','O2 dissous\\n[%]':'O_diss', \n",
    "        'Observations':'Rmq'}, \n",
    "           inplace=True)"
   ]
  },
  {
   "cell_type": "code",
   "execution_count": 194,
   "id": "disturbed-mediterranean",
   "metadata": {},
   "outputs": [],
   "source": [
    "for i in range(len(sdf2['ID'])):\n",
    "    sdf2.loc[i,'ID']=re.sub(r'^P','F', sdf2.loc[i,'ID'])\n",
    "    \n",
    "    if pd.isnull(sdf2.loc[i,'CE']) and not pd.isnull(sdf2.loc[i,'CE [µS/cm]']):\n",
    "        sdf2.loc[i,'CE']=sdf2.loc[i,'CE [µS/cm]']/1000\n",
    "\n",
    "sdf2.drop(['CE [µS/cm]'], axis=1, inplace=True)"
   ]
  },
  {
   "cell_type": "code",
   "execution_count": 195,
   "id": "internal-astrology",
   "metadata": {},
   "outputs": [],
   "source": [
    "df=df.loc[14:, df.columns.to_list()[3:-1]]\n",
    "df.rename(columns={'Unnamed: 7':'Date_mes', 'Unnamed: 8':'Nappe', 'Unnamed: 9':'ID', 'NP/piézo [m]':'Niv_eau_pz',\n",
    "       'dim. piezo hors sol [m]':'Ht_pz_sol', 'NP/sol [m]':'Niv_eau_sol', 'Prof. piézo/piézo [m]':'Long_pz',\n",
    "       'Prof. piézo/sol [m]':'Long_pz_sol', 'CE [mS/cm]':'CE','t° [°C]':'Temp','O2 dissous\\n[%]':'O_diss', \n",
    "        'Observations':'Rmq'}, \n",
    "           inplace=True)\n",
    "df.drop([19,20], inplace=True)\n",
    "df.reset_index(drop=True, inplace=True)"
   ]
  },
  {
   "cell_type": "code",
   "execution_count": 196,
   "id": "received-jersey",
   "metadata": {},
   "outputs": [],
   "source": [
    "for i in range(len(df['ID'])):\n",
    "    df.loc[i,'ID']=re.sub(r'^P','F', df.loc[i,'ID'])\n",
    "    \n",
    "    if pd.isnull(df.loc[i,'CE']) and not pd.isnull(df.loc[i,'CE [µS/cm]']):\n",
    "        df.loc[i,'CE']=df.loc[i,'CE [µS/cm]']/1000\n",
    "        \n",
    "df.drop(['CE [µS/cm]', 'O_diss'], axis=1, inplace=True)"
   ]
  },
  {
   "cell_type": "code",
   "execution_count": 197,
   "id": "configured-cause",
   "metadata": {},
   "outputs": [],
   "source": [
    "df, conflict_df=data_merger(sdf2, df, how='outer', on='ID')"
   ]
  },
  {
   "cell_type": "code",
   "execution_count": 198,
   "id": "5e02292e",
   "metadata": {},
   "outputs": [
    {
     "name": "stdout",
     "output_type": "stream",
     "text": [
      "Columns dropped :['O_diss']\n",
      "\n"
     ]
    }
   ],
   "source": [
    "df = na_col_drop(df, 5)\n",
    "df['Type'] = 'Piezo'"
   ]
  },
  {
   "cell_type": "code",
   "execution_count": 199,
   "id": "391dc7bf",
   "metadata": {},
   "outputs": [
    {
     "name": "stdout",
     "output_type": "stream",
     "text": [
      "Rows : 27, columns : 14, Unique values on cols: {'ID': 27, 'ID_ech': 'NA'}\n"
     ]
    },
    {
     "data": {
      "application/vnd.jupyter.widget-view+json": {
       "model_id": "1b13787e9da54dcaae3dfc506a370e8b",
       "version_major": 2,
       "version_minor": 0
      },
      "text/plain": [
       "interactive(children=(IntSlider(value=3, description='rows', max=27, min=3, readout=False), IntSlider(value=12…"
      ]
     },
     "metadata": {},
     "output_type": "display_data"
    }
   ],
   "source": [
    "dataframe_viewer(df, rows=3, un_val=['ID','ID_ech'])"
   ]
  },
  {
   "cell_type": "code",
   "execution_count": 200,
   "id": "b75c1420",
   "metadata": {
    "scrolled": true
   },
   "outputs": [
    {
     "name": "stdout",
     "output_type": "stream",
     "text": [
      "borehole: 27 ; measure: 27 ; lithology: 0 ; analysis: 0 ; equipement: 0 ; unknown: 0 ; \n"
     ]
    }
   ],
   "source": [
    "df_dict = data_slicer(df, cols_dict, crit_dict)"
   ]
  },
  {
   "cell_type": "code",
   "execution_count": 201,
   "id": "31572ea5",
   "metadata": {},
   "outputs": [
    {
     "name": "stdout",
     "output_type": "stream",
     "text": [
      "borehole: 27 ; measure: 27 ; lithology: 0 ; analysis: 0 ;equipement: 0 ; unknown: 0\n"
     ]
    }
   ],
   "source": [
    "ukw = df_dict['unknown']\n",
    "bh = df_dict['borehole']\n",
    "\n",
    "bh = bh.drop(index=ukw.index)\n",
    "ukw.drop_duplicates(['ID'], inplace=True)\n",
    "ukw.reset_index(drop=True, inplace=True)\n",
    "bh.drop_duplicates(['ID'], inplace=True)\n",
    "if 'X' in bh.columns: bh = bh.query('ID==ID and X==X')\n",
    "bh.reset_index(drop=True, inplace=True)\n",
    "\n",
    "mes = df_dict['measure']\n",
    "an = df_dict['analysis']\n",
    "litho = df_dict['lithology']\n",
    "eqp = df_dict['equipement']\n",
    "\n",
    "print(f'borehole: {len(bh)} ; measure: {len(mes)} ; lithology: {len(litho)} ; analysis: {len(an)} ;' \n",
    "      f'equipement: {len(eqp)} ; unknown: {len(ukw)}')"
   ]
  },
  {
   "cell_type": "code",
   "execution_count": 202,
   "id": "db9fabf3",
   "metadata": {},
   "outputs": [],
   "source": [
    "source_bh = bh\n",
    "source_mes = mes"
   ]
  },
  {
   "cell_type": "code",
   "execution_count": 203,
   "id": "259c46d2",
   "metadata": {},
   "outputs": [
    {
     "name": "stdout",
     "output_type": "stream",
     "text": [
      "source_bh: 27 ; source_eqp: 0 ; source_uknw: 0 ; source_litho: 0 ; source_an: 0 ; source_mes: 27\n"
     ]
    }
   ],
   "source": [
    "if not os.path.exists(tmp_dir):\n",
    "    os.makedirs(tmp_dir), os.makedirs(tmp_dir+'source_merge/')\n",
    "    \n",
    "#eqp.to_csv(tmp_dir+sheet+'_Equipments.csv', index=False)\n",
    "mes.to_csv(tmp_dir+sheet+'_Measures.csv', index=False)\n",
    "bh.to_csv(tmp_dir+sheet+'_Boreholes.csv', index=False)\n",
    "#an.to_csv(tmp_dir+sheet+'_Samples.csv', index=False)\n",
    "#ukw.to_csv(tmp_dir+sheet+'_Unknow.csv', index=False)\n",
    "#litho.to_csv(tmp_dir+sheet+'_Lithologies.csv', index=False)\n",
    "\n",
    "source_bh.to_csv(tmp_dir+'source_merge/source_Boreholes.csv', index=False) #all Boreholes data in the source\n",
    "source_mes.to_csv(tmp_dir+'source_merge/source_Measures.csv', index=False) #all Measures data in the source\n",
    "#source_eqp.to_csv(tmp_dir+'source_merge/source_Equipments.csv', index=False)\n",
    "#source_an.to_csv(tmp_dir+'source_merge/source_Samples.csv', index=False)\n",
    "#source_ukw.to_csv(tmp_dir+'source_merge/source_Unknow.csv', index=False)\n",
    "#source_litho.to_csv(tmp_dir+'source_merge/source_Lithologies.csv', index=False)\n",
    "\n",
    "print(f'source_bh: {len(source_bh)} ; source_eqp: {len(source_eqp)} ; source_uknw: {len(source_ukw)} ; '\n",
    "      f'source_litho: {len(source_litho)} ; source_an: {len(source_an)} ; source_mes: {len(source_mes)}')"
   ]
  },
  {
   "cell_type": "markdown",
   "id": "b555efda",
   "metadata": {},
   "source": [
    "#### ======================================================================================"
   ]
  },
  {
   "cell_type": "code",
   "execution_count": 204,
   "id": "5e6124c0",
   "metadata": {},
   "outputs": [
    {
     "name": "stdout",
     "output_type": "stream",
     "text": [
      "source_bh: 0 ; source_eqp: 0 ; source_uknw: 0 ; source_litho: 0 ; source_an: 0 ; source_mes: 0\n"
     ]
    }
   ],
   "source": [
    "# initialisation des variables\n",
    "_df = pd.DataFrame()\n",
    "source_bh, source_eqp, source_ukw = _df, _df, _df\n",
    "source_litho, source_an, source_mes = _df, _df, _df\n",
    "\n",
    "print(f'source_bh: {len(source_bh)} ; source_eqp: {len(source_eqp)} ; source_uknw: {len(source_ukw)} ; '\n",
    "      f'source_litho: {len(source_litho)} ; source_an: {len(source_an)} ; source_mes: {len(source_mes)}')"
   ]
  },
  {
   "cell_type": "markdown",
   "id": "breeding-siemens",
   "metadata": {},
   "source": [
    "## 4-profondeur de contact campagne de forages octobre 2019.xlsx\n",
    "\n",
    "* **Sheet : 'Feuil1'**"
   ]
  },
  {
   "cell_type": "code",
   "execution_count": 205,
   "id": "patient-corner",
   "metadata": {},
   "outputs": [],
   "source": [
    "tmp_dir=ROOT_DIR + '/CF_data/Result_traitem/Prof_contact_sol_forage/'\n",
    "sheet='Feuil1'"
   ]
  },
  {
   "cell_type": "code",
   "execution_count": 206,
   "id": "instant-carolina",
   "metadata": {},
   "outputs": [
    {
     "name": "stdout",
     "output_type": "stream",
     "text": [
      "Rows : 8, columns : 5\n"
     ]
    },
    {
     "data": {
      "application/vnd.jupyter.widget-view+json": {
       "model_id": "1c4332316e324e3eb09a8a0b43d1f593",
       "version_major": 2,
       "version_minor": 0
      },
      "text/plain": [
       "interactive(children=(IntSlider(value=8, description='rows', max=8, min=8, readout=False), IntSlider(value=5, …"
      ]
     },
     "metadata": {},
     "output_type": "display_data"
    }
   ],
   "source": [
    "df = pd.read_excel(ROOT_DIR + '/CF_data/Data_UMONS/ouvrages/profondeur de contact campagne de forages octobre 2019.xlsx', \n",
    "                   sheet_name='Feuil1', skiprows=2)\n",
    "df=na_line_drop(df,0)\n",
    "df=na_col_drop(df,1)\n",
    "df.replace(r'<|>','', inplace=True, regex=True)\n",
    "df.replace(r'-$',np.nan, inplace=True, regex=True)\n",
    "\n",
    "dataframe_viewer(df)"
   ]
  },
  {
   "cell_type": "code",
   "execution_count": 207,
   "id": "early-wrong",
   "metadata": {},
   "outputs": [],
   "source": [
    "df.rename(columns={'n°forage ':'ID','profondeur(m)':'Long_for','x':'X', 'y':'Y', 'z':'Z'}, inplace=True)\n",
    "df['Type']='Forage' # type is not defined clearly in data\n",
    "df['ID']=df['ID'].apply(lambda x: 'F'+str(x).replace('.0',''))\n",
    "\n",
    "bh=df"
   ]
  },
  {
   "cell_type": "code",
   "execution_count": 208,
   "id": "exempt-weight",
   "metadata": {},
   "outputs": [],
   "source": [
    "source_bh=bh"
   ]
  },
  {
   "cell_type": "code",
   "execution_count": 209,
   "id": "be073ec3",
   "metadata": {},
   "outputs": [
    {
     "name": "stdout",
     "output_type": "stream",
     "text": [
      "source_bh: 8 ; source_eqp: 0 ; source_uknw: 0 ; source_litho: 0 ; source_an: 0 ; source_mes: 0\n"
     ]
    }
   ],
   "source": [
    "if not os.path.exists(tmp_dir):\n",
    "    os.makedirs(tmp_dir), os.makedirs(tmp_dir+'source_merge/')\n",
    "    \n",
    "#eqp.to_csv(tmp_dir+sheet+'_Equipments.csv', index=False)\n",
    "#mes.to_csv(tmp_dir+sheet+'_Measures.csv', index=False)\n",
    "bh.to_csv(tmp_dir+sheet+'_Boreholes.csv', index=False)\n",
    "#an.to_csv(tmp_dir+sheet+'_Samples.csv', index=False)\n",
    "#ukw.to_csv(tmp_dir+sheet+'_Unknow.csv', index=False)\n",
    "#litho.to_csv(tmp_dir+sheet+'_Lithologies.csv', index=False)\n",
    "\n",
    "source_bh.to_csv(tmp_dir+'source_merge/source_Boreholes.csv', index=False) #all Boreholes data in the source\n",
    "#source_mes.to_csv(tmp_dir+'source_merge/source_Measures.csv', index=False) #all Measures data in the source\n",
    "#source_eqp.to_csv(tmp_dir+'source_merge/source_Equipments.csv', index=False)\n",
    "#source_an.to_csv(tmp_dir+'source_merge/source_Samples.csv', index=False)\n",
    "#source_ukw.to_csv(tmp_dir+'source_merge/source_Unknow.csv', index=False)\n",
    "#source_litho.to_csv(tmp_dir+'source_merge/source_Lithologies.csv', index=False)\n",
    "\n",
    "print(f'source_bh: {len(source_bh)} ; source_eqp: {len(source_eqp)} ; source_uknw: {len(source_ukw)} ; '\n",
    "      f'source_litho: {len(source_litho)} ; source_an: {len(source_an)} ; source_mes: {len(source_mes)}')"
   ]
  },
  {
   "cell_type": "markdown",
   "id": "05f389d7",
   "metadata": {},
   "source": [
    "#### ======================================================================================"
   ]
  },
  {
   "cell_type": "code",
   "execution_count": 210,
   "id": "733096b7",
   "metadata": {},
   "outputs": [
    {
     "name": "stdout",
     "output_type": "stream",
     "text": [
      "source_bh: 0 ; source_eqp: 0 ; source_uknw: 0 ; source_litho: 0 ; source_an: 0 ; source_mes: 0\n"
     ]
    }
   ],
   "source": [
    "# initialisation des variables\n",
    "_df = pd.DataFrame()\n",
    "source_bh, source_eqp, source_ukw = _df, _df, _df\n",
    "source_litho, source_an, source_mes = _df, _df, _df\n",
    "\n",
    "print(f'source_bh: {len(source_bh)} ; source_eqp: {len(source_eqp)} ; source_uknw: {len(source_ukw)} ; '\n",
    "      f'source_litho: {len(source_litho)} ; source_an: {len(source_an)} ; source_mes: {len(source_mes)}')"
   ]
  },
  {
   "cell_type": "markdown",
   "id": "dedicated-houston",
   "metadata": {},
   "source": [
    "## 5-Forages_Pilote_Decoupe.xlsx\n",
    "\n",
    "* **Sheet : 'leve'**"
   ]
  },
  {
   "cell_type": "code",
   "execution_count": 211,
   "id": "hourly-lewis",
   "metadata": {},
   "outputs": [],
   "source": [
    "tmp_dir=ROOT_DIR + '/CF_data/Result_traitem/Forage_Pilote/'\n",
    "sheet='leve_Z_elect_pos'"
   ]
  },
  {
   "cell_type": "code",
   "execution_count": 212,
   "id": "approved-situation",
   "metadata": {},
   "outputs": [
    {
     "name": "stdout",
     "output_type": "stream",
     "text": [
      "Columns dropped :['Unnamed: 10']\n",
      "\n",
      "Rows : 72, columns : 11\n"
     ]
    },
    {
     "data": {
      "application/vnd.jupyter.widget-view+json": {
       "model_id": "287f82bade8c479b9a19a60665238d61",
       "version_major": 2,
       "version_minor": 0
      },
      "text/plain": [
       "interactive(children=(IntSlider(value=5, description='rows', max=72, min=5, readout=False), IntSlider(value=11…"
      ]
     },
     "metadata": {},
     "output_type": "display_data"
    }
   ],
   "source": [
    "df = pd.read_excel(ROOT_DIR + '/CF_data/Data_UMONS/geometrie_electrodes_et_sondes/Forages_Pilote_Decoupe.xlsx', \n",
    "                   sheet_name='leve')#, skiprows=0)\n",
    "df=na_line_drop(df,0)\n",
    "df=na_col_drop(df,1)\n",
    "df.replace(r'<|>','', inplace=True, regex=True)\n",
    "df.replace(r'-$',np.nan, inplace=True, regex=True)\n",
    "\n",
    "dataframe_viewer(df, rows=5)"
   ]
  },
  {
   "cell_type": "code",
   "execution_count": 213,
   "id": "studied-given",
   "metadata": {},
   "outputs": [],
   "source": [
    "df.rename(columns={'Ref_puits':'ID','Niveau mesuré':'Z_mes', 'Niveau corrigé':'Z','Z_diff [m] repere_local':'Diff_Z_local',\n",
    "                   'long_fin [m]':'Long_for','Pos_Inox_#1 [m]':'Pos_Inox_#1', 'Unnamed: 11':'Rmq',\n",
    "                   'Pos_Inox_#6 [m]':'Pos_Inox_#6', 'Pos_Impol_#3 [m]':'Pos_Impol_#3'}, inplace=True)"
   ]
  },
  {
   "cell_type": "code",
   "execution_count": 214,
   "id": "coated-formation",
   "metadata": {},
   "outputs": [],
   "source": [
    "df['Type']='Forage' # type is not defined clearly in data\n",
    "df['ID']=df['ID'].apply(lambda x: 'F'+str(x).replace('.0',''))\n",
    "\n",
    "elc = df[['ID','Pos_Inox_#6', 'Pos_Impol_#3']] # 'ID' is for boreholes\n",
    "bh = df[['ID','Z','Diff_Z_local','Long_for', 'Type']]# Z_local origin = 145.5 [m]"
   ]
  },
  {
   "cell_type": "code",
   "execution_count": 215,
   "id": "85161c0e",
   "metadata": {},
   "outputs": [
    {
     "name": "stdout",
     "output_type": "stream",
     "text": [
      "Rows : 72, columns : 12, Unique values on cols: {'ID': 72, 'ID_ech': 'NA'}\n"
     ]
    },
    {
     "data": {
      "application/vnd.jupyter.widget-view+json": {
       "model_id": "95e55a057d2c4903ba8741abee6e28d3",
       "version_major": 2,
       "version_minor": 0
      },
      "text/plain": [
       "interactive(children=(IntSlider(value=3, description='rows', max=72, min=3, readout=False), IntSlider(value=12…"
      ]
     },
     "metadata": {},
     "output_type": "display_data"
    }
   ],
   "source": [
    "dataframe_viewer(df, rows=3, un_val=['ID','ID_ech'])"
   ]
  },
  {
   "cell_type": "code",
   "execution_count": 216,
   "id": "phantom-accessory",
   "metadata": {},
   "outputs": [],
   "source": [
    "source_bh = bh\n",
    "source_elc = elc"
   ]
  },
  {
   "cell_type": "code",
   "execution_count": 217,
   "id": "other-technology",
   "metadata": {},
   "outputs": [
    {
     "name": "stdout",
     "output_type": "stream",
     "text": [
      "source_bh:72 ; source_elect:72 ;\n"
     ]
    }
   ],
   "source": [
    "if not os.path.exists(tmp_dir):\n",
    "    os.makedirs(tmp_dir), os.makedirs(tmp_dir+'source_merge/') \n",
    "\n",
    "bh.to_csv(tmp_dir+sheet+'_Boreholes.csv', index=False)\n",
    "elc.to_csv(tmp_dir+sheet+'_Electrodes.csv', index=False)\n",
    "\n",
    "source_bh.to_csv(tmp_dir+'source_merge/source_Boreholes.csv', index=False)\n",
    "source_elc.to_csv(tmp_dir+'source_merge/source_Electrodes.csv', index=False)\n",
    "\n",
    "print(f'source_bh:{len(source_bh)} ; source_elect:{len(source_elc)} ;')"
   ]
  },
  {
   "cell_type": "markdown",
   "id": "f40e2de6",
   "metadata": {},
   "source": [
    "#### ======================================================================================"
   ]
  },
  {
   "cell_type": "code",
   "execution_count": 11,
   "id": "51996243",
   "metadata": {},
   "outputs": [
    {
     "ename": "NameError",
     "evalue": "name 'pd' is not defined",
     "output_type": "error",
     "traceback": [
      "\u001b[0;31m---------------------------------------------------------------------------\u001b[0m",
      "\u001b[0;31mNameError\u001b[0m                                 Traceback (most recent call last)",
      "\u001b[0;32m/tmp/ipykernel_8725/3131214070.py\u001b[0m in \u001b[0;36m<module>\u001b[0;34m\u001b[0m\n\u001b[1;32m      1\u001b[0m \u001b[0;31m# initialisation des variables\u001b[0m\u001b[0;34m\u001b[0m\u001b[0;34m\u001b[0m\u001b[0;34m\u001b[0m\u001b[0m\n\u001b[0;32m----> 2\u001b[0;31m \u001b[0m_df\u001b[0m \u001b[0;34m=\u001b[0m \u001b[0mpd\u001b[0m\u001b[0;34m.\u001b[0m\u001b[0mDataFrame\u001b[0m\u001b[0;34m(\u001b[0m\u001b[0;34m)\u001b[0m\u001b[0;34m\u001b[0m\u001b[0;34m\u001b[0m\u001b[0m\n\u001b[0m\u001b[1;32m      3\u001b[0m \u001b[0msource_bh\u001b[0m\u001b[0;34m,\u001b[0m \u001b[0msource_eqp\u001b[0m\u001b[0;34m,\u001b[0m \u001b[0msource_ukw\u001b[0m \u001b[0;34m=\u001b[0m \u001b[0m_df\u001b[0m\u001b[0;34m,\u001b[0m \u001b[0m_df\u001b[0m\u001b[0;34m,\u001b[0m \u001b[0m_df\u001b[0m\u001b[0;34m\u001b[0m\u001b[0;34m\u001b[0m\u001b[0m\n\u001b[1;32m      4\u001b[0m \u001b[0msource_litho\u001b[0m\u001b[0;34m,\u001b[0m \u001b[0msource_an\u001b[0m\u001b[0;34m,\u001b[0m \u001b[0msource_mes\u001b[0m \u001b[0;34m=\u001b[0m \u001b[0m_df\u001b[0m\u001b[0;34m,\u001b[0m \u001b[0m_df\u001b[0m\u001b[0;34m,\u001b[0m \u001b[0m_df\u001b[0m\u001b[0;34m\u001b[0m\u001b[0;34m\u001b[0m\u001b[0m\n\u001b[1;32m      5\u001b[0m \u001b[0;34m\u001b[0m\u001b[0m\n",
      "\u001b[0;31mNameError\u001b[0m: name 'pd' is not defined"
     ]
    }
   ],
   "source": [
    "# initialisation des variables\n",
    "_df = pd.DataFrame()\n",
    "source_bh, source_eqp, source_ukw = _df, _df, _df\n",
    "source_litho, source_an, source_mes = _df, _df, _df\n",
    "\n",
    "print(f'source_bh: {len(source_bh)} ; source_eqp: {len(source_eqp)} ; source_uknw: {len(source_ukw)} ; '\n",
    "      f'source_litho: {len(source_litho)} ; source_an: {len(source_an)} ; source_mes: {len(source_mes)}')"
   ]
  },
  {
   "cell_type": "markdown",
   "id": "imperial-belize",
   "metadata": {},
   "source": [
    "## 6-Liste XY investigations.xlsx\n",
    "* **Sheet : 'SOL_EAU'**"
   ]
  },
  {
   "cell_type": "code",
   "execution_count": 219,
   "id": "rental-trustee",
   "metadata": {},
   "outputs": [],
   "source": [
    "tmp_dir=ROOT_DIR + '/CF_data/Result_traitem/Liste_XY/'\n",
    "sheet='Sol_Eau'"
   ]
  },
  {
   "cell_type": "code",
   "execution_count": 220,
   "id": "operating-developer",
   "metadata": {},
   "outputs": [],
   "source": [
    "df = pd.read_excel(ROOT_DIR + '/CF_data/Data_UMONS/Contamination/Doc_SITEREM/Etude de caracterisation. SITEREM - 2011/Documents '\n",
    "                   'supplémentaires/Liste XY investigations.xlsx', sheet_name='SOL')#, skiprows=4)\n",
    "df['Type_ech']='Sol'\n",
    "df.rename(columns={'N°':'ID_ech'}, inplace=True)\n",
    "\n",
    "df1 = pd.read_excel(ROOT_DIR + '/CF_data/Data_UMONS/Contamination/Doc_SITEREM/Etude de caracterisation. SITEREM - 2011/Documents '\n",
    "                   'supplémentaires/Liste XY investigations.xlsx', sheet_name='EAU PR')#, skiprows=4)\n",
    "df1['Type_ech']='Eau'\n",
    "df1['Nappe']='Socle'\n",
    "df1.rename(columns={'N°':'ID_ech'}, inplace=True)\n",
    "\n",
    "df2 = pd.read_excel(ROOT_DIR + '/CF_data/Data_UMONS/Contamination/Doc_SITEREM/Etude de caracterisation. SITEREM - 2011/Documents '\n",
    "                   'supplémentaires/Liste XY investigations.xlsx', sheet_name='EAU RB')#, skiprows=4)\n",
    "df2['Type_ech']='Eau'\n",
    "df2['Nappe']='remblais'\n",
    "df2.rename(columns={'N°':'ID_ech'}, inplace=True)\n",
    "\n",
    "df3 = pd.read_excel(ROOT_DIR + '/CF_data/Data_UMONS/Contamination/Doc_SITEREM/Etude de caracterisation. SITEREM - 2011/Documents '\n",
    "                   'supplémentaires/Liste XY investigations.xlsx', sheet_name='EAU ALL')#, skiprows=4)\n",
    "df3['Type_ech']='Eau'\n",
    "df3['Nappe']='Alluvions'\n",
    "df3.rename(columns={'N°':'ID_ech'}, inplace=True)"
   ]
  },
  {
   "cell_type": "code",
   "execution_count": 221,
   "id": "792ab42e",
   "metadata": {},
   "outputs": [
    {
     "name": "stdout",
     "output_type": "stream",
     "text": [
      "Rows : 134, columns : 4, Unique values on cols: {'ID': 'NA', 'ID_ech': 134}\n"
     ]
    },
    {
     "data": {
      "application/vnd.jupyter.widget-view+json": {
       "model_id": "4569c320bd4f41f3b9a230256bfe07c9",
       "version_major": 2,
       "version_minor": 0
      },
      "text/plain": [
       "interactive(children=(IntSlider(value=3, description='rows', max=134, min=3, readout=False), IntSlider(value=4…"
      ]
     },
     "metadata": {},
     "output_type": "display_data"
    }
   ],
   "source": [
    "dataframe_viewer(df, rows=3, un_val=['ID','ID_ech'])"
   ]
  },
  {
   "cell_type": "code",
   "execution_count": 222,
   "id": "computational-abortion",
   "metadata": {
    "scrolled": true
   },
   "outputs": [],
   "source": [
    "mdf, conflict_df=data_merger(df1, df, 'outer', 'ID_ech')"
   ]
  },
  {
   "cell_type": "code",
   "execution_count": 223,
   "id": "c83e2c9f",
   "metadata": {
    "scrolled": true
   },
   "outputs": [],
   "source": [
    "mdf, conflict_df=data_merger(mdf, df2, 'outer', 'ID_ech')"
   ]
  },
  {
   "cell_type": "code",
   "execution_count": 224,
   "id": "a867a2aa",
   "metadata": {
    "scrolled": true
   },
   "outputs": [
    {
     "name": "stdout",
     "output_type": "stream",
     "text": [
      "Conflict values present. Please resolve this manually !\n"
     ]
    }
   ],
   "source": [
    "mdf, conflict_df=data_merger(mdf, df3, 'outer', 'ID_ech')"
   ]
  },
  {
   "cell_type": "code",
   "execution_count": 225,
   "id": "52d54c8e",
   "metadata": {},
   "outputs": [
    {
     "name": "stdout",
     "output_type": "stream",
     "text": [
      "all conflicts have been fixed!\n"
     ]
    }
   ],
   "source": [
    "dataset = mdf\n",
    "data_validation(overall_data=dataset, conflict_data=conflict_df, index_col='index', pass_col='ID', \n",
    "                valid_dict={'Nappe_x':list(conflict_df.index)})\n",
    "\n",
    "if 'level_0' in dataset.columns:\n",
    "    if 'index' in dataset.columns:\n",
    "        dataset.drop(columns='index', inplace=True)\n",
    "    dataset.rename(columns={'level_0':'index'}, inplace=True)\n",
    "mdf = dataset.copy()"
   ]
  },
  {
   "cell_type": "code",
   "execution_count": 226,
   "id": "1952e957",
   "metadata": {},
   "outputs": [],
   "source": [
    "source_an = mdf\n",
    "#source_an.insert(0,'ID', source_an.pop('ID_ech'))"
   ]
  },
  {
   "cell_type": "code",
   "execution_count": 227,
   "id": "da1a6415",
   "metadata": {},
   "outputs": [],
   "source": [
    "source_an = gen_id_from_ech(source_an, suffixes=sufx, prefixes=prefx, capture_regex=id_reg)"
   ]
  },
  {
   "cell_type": "code",
   "execution_count": 228,
   "id": "93b1383f",
   "metadata": {},
   "outputs": [
    {
     "name": "stdout",
     "output_type": "stream",
     "text": [
      "source_bh: 0 ; source_eqp: 0 ; source_uknw: 0 ; source_litho: 0 ; source_an: 254 ; source_mes: 0\n"
     ]
    }
   ],
   "source": [
    "if not os.path.exists(tmp_dir):\n",
    "    os.makedirs(tmp_dir), os.makedirs(tmp_dir+'source_merge/')\n",
    "    \n",
    "#eqp.to_csv(tmp_dir+sheet+'_Equipments.csv', index=False)\n",
    "#mes.to_csv(tmp_dir+sheet+'_Measures.csv', index=False)\n",
    "#bh.to_csv(tmp_dir+sheet+'_Boreholes.csv', index=False)\n",
    "an.to_csv(tmp_dir+sheet+'_Samples.csv', index=False)\n",
    "#ukw.to_csv(tmp_dir+sheet+'_Unknow.csv', index=False)\n",
    "#litho.to_csv(tmp_dir+sheet+'_Lithologies.csv', index=False)\n",
    "\n",
    "#source_bh.to_csv(tmp_dir+'source_merge/source_Boreholes.csv', index=False) #all Boreholes data in the source\n",
    "#source_mes.to_csv(tmp_dir+'source_merge/source_Measures.csv', index=False) #all Measures data in the source\n",
    "#source_eqp.to_csv(tmp_dir+'source_merge/source_Equipments.csv', index=False)\n",
    "source_an.to_csv(tmp_dir+'source_merge/source_Samples.csv', index=False)\n",
    "#source_ukw.to_csv(tmp_dir+'source_merge/source_Unknow.csv', index=False)\n",
    "#source_litho.to_csv(tmp_dir+'source_merge/source_Lithologies.csv', index=False)\n",
    "\n",
    "print(f'source_bh: {len(source_bh)} ; source_eqp: {len(source_eqp)} ; source_uknw: {len(source_ukw)} ; '\n",
    "      f'source_litho: {len(source_litho)} ; source_an: {len(source_an)} ; source_mes: {len(source_mes)}')"
   ]
  },
  {
   "cell_type": "markdown",
   "id": "4e6af835",
   "metadata": {},
   "source": [
    "#### ======================================================================================"
   ]
  },
  {
   "cell_type": "markdown",
   "id": "express-library",
   "metadata": {},
   "source": [
    "## 7-Résultats phase 1_MEMORIS.xls\n",
    "* **Sheet : 'Résult SOL'**"
   ]
  },
  {
   "cell_type": "code",
   "execution_count": 229,
   "id": "1f6e4faa",
   "metadata": {},
   "outputs": [
    {
     "name": "stdout",
     "output_type": "stream",
     "text": [
      "source_bh: 0 ; source_eqp: 0 ; source_uknw: 0 ; source_litho: 0 ; source_an: 0 ; source_mes: 0\n"
     ]
    }
   ],
   "source": [
    "# initialisation des variables\n",
    "_df = pd.DataFrame()\n",
    "source_bh, source_eqp, source_ukw = _df, _df, _df\n",
    "source_litho, source_an, source_mes = _df, _df, _df\n",
    "\n",
    "print(f'source_bh: {len(source_bh)} ; source_eqp: {len(source_eqp)} ; source_uknw: {len(source_ukw)} ; '\n",
    "      f'source_litho: {len(source_litho)} ; source_an: {len(source_an)} ; source_mes: {len(source_mes)}')"
   ]
  },
  {
   "cell_type": "code",
   "execution_count": 230,
   "id": "white-pursuit",
   "metadata": {},
   "outputs": [],
   "source": [
    "tmp_dir=ROOT_DIR + '/CF_data/Result_traitem/Phase_1_Memoris/'\n",
    "sheet='Result_sol'"
   ]
  },
  {
   "cell_type": "code",
   "execution_count": 231,
   "id": "concerned-leader",
   "metadata": {},
   "outputs": [
    {
     "name": "stdout",
     "output_type": "stream",
     "text": [
      "1 NaN lines dropped\n",
      "Columns dropped :['Unnamed: 0', 'Unnamed: 2']\n",
      "\n",
      "Rows : 135, columns : 35\n"
     ]
    },
    {
     "name": "stderr",
     "output_type": "stream",
     "text": [
      "/home/yanathan/.local/share/virtualenvs/GSDMA-DRfwm83x/lib/python3.8/site-packages/pandas/core/frame.py:4901: SettingWithCopyWarning: \n",
      "A value is trying to be set on a copy of a slice from a DataFrame\n",
      "\n",
      "See the caveats in the documentation: https://pandas.pydata.org/pandas-docs/stable/user_guide/indexing.html#returning-a-view-versus-a-copy\n",
      "  return super().drop(\n"
     ]
    },
    {
     "data": {
      "application/vnd.jupyter.widget-view+json": {
       "model_id": "e73b42587ca94b0ab60f66e17974d295",
       "version_major": 2,
       "version_minor": 0
      },
      "text/plain": [
       "interactive(children=(IntSlider(value=5, description='rows', max=135, min=5, readout=False), IntSlider(value=1…"
      ]
     },
     "metadata": {},
     "output_type": "display_data"
    }
   ],
   "source": [
    "df = pd.read_excel(ROOT_DIR + '/CF_data/Data_UMONS/Contamination/Résultats et mesures Siterem/résultats phase 1/'\n",
    "                   'Résultats phase 1_MEMORIS.xls', sheet_name='Résult SOL', skiprows=4)\n",
    "df=na_line_drop(df,0)\n",
    "df=na_col_drop(df,1)\n",
    "df.replace(r'<|>','', inplace=True, regex=True)\n",
    "df.replace(r'-$',np.nan, inplace=True, regex=True)\n",
    "\n",
    "dataframe_viewer(df, rows=5)"
   ]
  },
  {
   "cell_type": "code",
   "execution_count": 232,
   "id": "satisfied-constitutional",
   "metadata": {},
   "outputs": [],
   "source": [
    "ech_df=df.loc[:35]\n",
    "an=df.loc[36:]"
   ]
  },
  {
   "cell_type": "code",
   "execution_count": 233,
   "id": "pleasant-prayer",
   "metadata": {},
   "outputs": [
    {
     "name": "stderr",
     "output_type": "stream",
     "text": [
      "/home/yanathan/.local/share/virtualenvs/GSDMA-DRfwm83x/lib/python3.8/site-packages/pandas/core/indexing.py:723: SettingWithCopyWarning: \n",
      "A value is trying to be set on a copy of a slice from a DataFrame\n",
      "\n",
      "See the caveats in the documentation: https://pandas.pydata.org/pandas-docs/stable/user_guide/indexing.html#returning-a-view-versus-a-copy\n",
      "  iloc._setitem_with_indexer(indexer, value, self.name)\n"
     ]
    }
   ],
   "source": [
    "an.loc[0.5] = df.loc[0] # put data on first line\n",
    "an = an.sort_index().reset_index(drop=True)"
   ]
  },
  {
   "cell_type": "code",
   "execution_count": 234,
   "id": "republican-physiology",
   "metadata": {},
   "outputs": [],
   "source": [
    "ech_df=ech_df.transpose()\n",
    "ech_df.reset_index(drop=True, inplace=True)\n",
    "ech_df=col_ren(ech_df, 1)"
   ]
  },
  {
   "cell_type": "code",
   "execution_count": 235,
   "id": "designed-industry",
   "metadata": {},
   "outputs": [
    {
     "name": "stdout",
     "output_type": "stream",
     "text": [
      "Columns dropped :['col_1', \"Nom / description d'échantillon\", 'Date de prélèvement', \"Nature de l'étude (*)\", 'Terrain', 'Epaisseur de remblais', 'Epaisseur alluvions', \"Nature de l'observation organoleptique\", 'LOCALISATION/AFFECTATION(S) - USAGE(S)', 'zone', 'parcelle (selon dénom.)', \"Type d'usage de fait actuel\", \"Type d'usage de fait futur\", \"Type d'usage utilisé pour comparer les résultats\", 'Lieux de prélèvement', 'X Lambert', 'Y Lambert', 'DESCRIPTION SOMMAIRE', 'Type de recouvrement de surface (***)', 'Sol en place (S : souillé, NS : non souillé)', 'Remblais de terre (S : souillé, NS : non souillé)', 'Remblais technique (S : souillé, NS : non souillé)', 'Déchet', 'Matières organiques', 'GRANULOMETRIE', 'Fraction argileuse']\n",
      "\n"
     ]
    }
   ],
   "source": [
    "ech_df.drop(list(range(5)), axis=0, inplace=True)\n",
    "ech_df.reset_index(drop=True, inplace=True)\n",
    "ech_df=na_col_drop(ech_df,1)\n",
    "ech_df=na_line_drop(ech_df,3)\n",
    "ech_df.reset_index(drop=True, inplace=True)"
   ]
  },
  {
   "cell_type": "code",
   "execution_count": 236,
   "id": "specialized-chemical",
   "metadata": {},
   "outputs": [],
   "source": [
    "name=['ID_ech', 'Description','Organo', 'Long_for', 'Refus','Ech_top', 'Ech_base', 'MS','Fract_2','Fract_2+']\n",
    "ech_df=col_ren(ech_df, name=name, mode=1)"
   ]
  },
  {
   "cell_type": "code",
   "execution_count": 237,
   "id": "accomplished-exception",
   "metadata": {},
   "outputs": [],
   "source": [
    "for i in range(len(ech_df['Description'])):\n",
    "    x = ech_df.loc[i,'Description']\n",
    "    if x=='R': ech_df.loc[i,'Description']='Remblais'\n",
    "    elif x=='L': ech_df.loc[i,'Description']='Limons'\n",
    "    elif x=='A': ech_df.loc[i,'Description']='Argiles'\n",
    "    elif x=='S': ech_df.loc[i,'Description']='Sables'\n",
    "\n",
    "ech_df['Refus']=ech_df['Refus'].apply(lambda x: 'x' if not re.search('x|X', str(x)) else '')\n",
    "ech_df.insert(1,'Type_ech','Sol')"
   ]
  },
  {
   "cell_type": "code",
   "execution_count": 238,
   "id": "armed-steal",
   "metadata": {},
   "outputs": [],
   "source": [
    "an=an.transpose()\n",
    "an.reset_index(drop=True, inplace=True)"
   ]
  },
  {
   "cell_type": "code",
   "execution_count": 239,
   "id": "invalid-bubble",
   "metadata": {},
   "outputs": [],
   "source": [
    "an=col_ren(an, 1)"
   ]
  },
  {
   "cell_type": "code",
   "execution_count": 240,
   "id": "activated-wallpaper",
   "metadata": {},
   "outputs": [],
   "source": [
    "an.replace(r'<|>','', inplace=True, regex=True)\n",
    "an.replace(r'-',np.nan, inplace=True, regex=True)\n",
    "an.rename(columns={'col_0':'ID_ech', 'col_34':'phénanthrène', 'col_63':'EOX'}, inplace=True)"
   ]
  },
  {
   "cell_type": "code",
   "execution_count": 241,
   "id": "enabling-travel",
   "metadata": {},
   "outputs": [
    {
     "name": "stdout",
     "output_type": "stream",
     "text": [
      "Columns dropped :['METAUX LOURDS', 'CYANURES', 'COMPOSES AROMATIQUES VOLATILS', 'BTEX totaux', 'PHENOLS', 'Indice phénol', 'HYDROCARBURES AROMATIQUES POLYCYCLIQUES', 'COMPOSES ORGANOHALOGENES VOLATILS', 'EOX', 'EOX (****)', 'HYDROCARBURES TOTAUX', 'fraction aromat. C6-C7', 'fraction aromat. C7-C8', 'fraction aromat. C8-C10', 'fraction aliphat. C5-C6', 'fraction aliphat. C6-C8', 'fraction aliphat. C8-C10', 'Fraction C35 - C40', 'Hydrocarbures totaux C10-C40', 'METHYL-TERT-BUTYL-ETHER', 'POLYCHLOROBIPHENYL (PCB)', 'PCB 28', 'PCB 52', 'PCB 101', 'PCB 118', 'PCB 138', 'PCB 153', 'PCB 180', 'PCB totaux (7)', 'F4/2M*', 'Teneur mesurée', 'Teneur mesurée (souligne/gras)', 'Teneur mesurée (gras/grisé)', \"(*) CP = Campagne de prélèvements; Ex = Expertise; ES = Etude de sol; EO = Etude d'orientation; EC = Etude de caractérisation; SA = Suivi d'assainissement\", '(**) L: limon, A: Argile, S: Sable, R: Remblai', '(***) ib : imperméable (béton) ; ih : imperméable hydrocarboné ; p : perméable (gravier, fissuré,…) ; tvh : terres végétation haute ; tvb : terres végétation basse ', '(****) 3 mg/kg = Seuil limite défini dans le GREO ']\n",
      "\n"
     ]
    }
   ],
   "source": [
    "an.drop(list(range(5)), axis=0, inplace=True)\n",
    "an.reset_index(drop=True, inplace=True)\n",
    "an=na_col_drop(an,1)\n",
    "an.insert(1,'Type_ech','Sol')"
   ]
  },
  {
   "cell_type": "code",
   "execution_count": 242,
   "id": "crude-degree",
   "metadata": {
    "scrolled": true
   },
   "outputs": [
    {
     "name": "stdout",
     "output_type": "stream",
     "text": [
      "\n",
      "\u001b[1;34mPossible new pollutants names:\u001b[0;0m\n",
      "['ID_ech', 'Type_ech', 'Cyanure (libre)', 'Cyanure (totaux)', 'cyanure (APE)', 'Fraction C5 - C8', 'Fraction C8 - C10', 'Fraction C16 - C21']\n"
     ]
    }
   ],
   "source": [
    "an = col_ren(an, name=POL_NAMES_MODEL, mode=1)#, verbose=True)"
   ]
  },
  {
   "cell_type": "code",
   "execution_count": 243,
   "id": "f741c356",
   "metadata": {},
   "outputs": [],
   "source": [
    "mdf, conflict_df = data_merger(ech_df, an, how='outer', on=['ID_ech'], dist_max=1., drop_skip_col=['index'])"
   ]
  },
  {
   "cell_type": "code",
   "execution_count": 244,
   "id": "e682eb8f",
   "metadata": {
    "scrolled": true
   },
   "outputs": [],
   "source": [
    "an = gen_id_from_ech(mdf, suffixes=sufx, prefixes=prefx, capture_regex=id_reg)"
   ]
  },
  {
   "cell_type": "raw",
   "id": "ranking-underwear",
   "metadata": {},
   "source": [
    "set(ech_df['ID_ech']).symmetric_difference(set(an['ID_ech'])) #lacking ID between the 2 sets"
   ]
  },
  {
   "cell_type": "code",
   "execution_count": 245,
   "id": "sacred-collect",
   "metadata": {},
   "outputs": [],
   "source": [
    "source_an=an"
   ]
  },
  {
   "cell_type": "code",
   "execution_count": 246,
   "id": "8987cfea",
   "metadata": {},
   "outputs": [
    {
     "name": "stdout",
     "output_type": "stream",
     "text": [
      "source_bh: 0 ; source_eqp: 0 ; source_uknw: 0 ; source_litho: 0 ; source_an: 29 ; source_mes: 0\n"
     ]
    }
   ],
   "source": [
    "if not os.path.exists(tmp_dir):\n",
    "    os.makedirs(tmp_dir), os.makedirs(tmp_dir+'source_merge/')\n",
    "    \n",
    "#eqp.to_csv(tmp_dir+sheet+'_Equipments.csv', index=False)\n",
    "#mes.to_csv(tmp_dir+sheet+'_Measures.csv', index=False)\n",
    "#bh.to_csv(tmp_dir+sheet+'_Boreholes.csv', index=False)\n",
    "an.to_csv(tmp_dir+sheet+'_Samples.csv', index=False)\n",
    "#ukw.to_csv(tmp_dir+sheet+'_Unknow.csv', index=False)\n",
    "#litho.to_csv(tmp_dir+sheet+'_Lithologies.csv', index=False)\n",
    "\n",
    "#source_bh.to_csv(tmp_dir+'source_merge/source_Boreholes.csv', index=False) #all Boreholes data in the source\n",
    "#source_mes.to_csv(tmp_dir+'source_merge/source_Measures.csv', index=False) #all Measures data in the source\n",
    "#source_eqp.to_csv(tmp_dir+'source_merge/source_Equipments.csv', index=False)\n",
    "source_an.to_csv(tmp_dir+'source_merge/source_Samples.csv', index=False)\n",
    "#source_ukw.to_csv(tmp_dir+'source_merge/source_Unknow.csv', index=False)\n",
    "#source_litho.to_csv(tmp_dir+'source_merge/source_Lithologies.csv', index=False)\n",
    "\n",
    "print(f'source_bh: {len(source_bh)} ; source_eqp: {len(source_eqp)} ; source_uknw: {len(source_ukw)} ; '\n",
    "      f'source_litho: {len(source_litho)} ; source_an: {len(source_an)} ; source_mes: {len(source_mes)}')"
   ]
  },
  {
   "cell_type": "markdown",
   "id": "welsh-expense",
   "metadata": {},
   "source": [
    "* **Sheet : 'Résult EAU'**"
   ]
  },
  {
   "cell_type": "code",
   "execution_count": 247,
   "id": "identical-biodiversity",
   "metadata": {},
   "outputs": [],
   "source": [
    "tmp_dir=ROOT_DIR + '/CF_data/Result_traitem/Phase_1_Memoris/'\n",
    "sheet='Result_eau'"
   ]
  },
  {
   "cell_type": "code",
   "execution_count": 248,
   "id": "damaged-delivery",
   "metadata": {
    "scrolled": false
   },
   "outputs": [
    {
     "name": "stdout",
     "output_type": "stream",
     "text": [
      "1 NaN lines dropped\n",
      "Columns dropped :['Unnamed: 0', 'Unnamed: 2']\n",
      "\n",
      "Rows : 136, columns : 23\n"
     ]
    },
    {
     "name": "stderr",
     "output_type": "stream",
     "text": [
      "/home/yanathan/.local/share/virtualenvs/GSDMA-DRfwm83x/lib/python3.8/site-packages/pandas/core/frame.py:4901: SettingWithCopyWarning: \n",
      "A value is trying to be set on a copy of a slice from a DataFrame\n",
      "\n",
      "See the caveats in the documentation: https://pandas.pydata.org/pandas-docs/stable/user_guide/indexing.html#returning-a-view-versus-a-copy\n",
      "  return super().drop(\n"
     ]
    },
    {
     "data": {
      "application/vnd.jupyter.widget-view+json": {
       "model_id": "3ccf350b009b4e0f9ef2f3733b0ecd78",
       "version_major": 2,
       "version_minor": 0
      },
      "text/plain": [
       "interactive(children=(IntSlider(value=5, description='rows', max=136, min=5, readout=False), IntSlider(value=1…"
      ]
     },
     "metadata": {},
     "output_type": "display_data"
    }
   ],
   "source": [
    "df = pd.read_excel(ROOT_DIR + '/CF_data/Data_UMONS/Contamination/Résultats et mesures Siterem/résultats phase 1/'\n",
    "                   'Résultats phase 1_MEMORIS.xls', sheet_name='Résult EAU', skiprows=4)\n",
    "df=na_line_drop(df,0)\n",
    "df=na_col_drop(df,1)\n",
    "df.replace(r'<|>','', inplace=True, regex=True)\n",
    "df.replace(r'-$',np.nan, inplace=True, regex=True)\n",
    "dataframe_viewer(df, rows=5)"
   ]
  },
  {
   "cell_type": "code",
   "execution_count": 249,
   "id": "present-indicator",
   "metadata": {},
   "outputs": [],
   "source": [
    "ech_df=df.loc[:32]\n",
    "an=df.loc[33:]"
   ]
  },
  {
   "cell_type": "code",
   "execution_count": 250,
   "id": "interstate-animal",
   "metadata": {},
   "outputs": [
    {
     "name": "stderr",
     "output_type": "stream",
     "text": [
      "/home/yanathan/.local/share/virtualenvs/GSDMA-DRfwm83x/lib/python3.8/site-packages/pandas/core/indexing.py:723: SettingWithCopyWarning: \n",
      "A value is trying to be set on a copy of a slice from a DataFrame\n",
      "\n",
      "See the caveats in the documentation: https://pandas.pydata.org/pandas-docs/stable/user_guide/indexing.html#returning-a-view-versus-a-copy\n",
      "  iloc._setitem_with_indexer(indexer, value, self.name)\n"
     ]
    }
   ],
   "source": [
    "an.loc[0.5] = df.loc[0] # put data on first line\n",
    "an = an.sort_index().reset_index(drop=True)"
   ]
  },
  {
   "cell_type": "code",
   "execution_count": 251,
   "id": "dated-philip",
   "metadata": {},
   "outputs": [
    {
     "name": "stdout",
     "output_type": "stream",
     "text": [
      "\u001b[1;31mDouble columns' name found :\u001b[0;0m\n",
      "[('DESCRIPTION SOMMAIRE', 2), ('Prof. arrêt du forage', 2)]\n"
     ]
    }
   ],
   "source": [
    "ech_df=ech_df.transpose()\n",
    "ech_df.reset_index(drop=True, inplace=True)\n",
    "ech_df=col_ren(ech_df, 1)"
   ]
  },
  {
   "cell_type": "code",
   "execution_count": 252,
   "id": "precious-furniture",
   "metadata": {},
   "outputs": [],
   "source": [
    "ech_df['CE']=ech_df['CE'].apply(lambda x: pd.to_numeric(x)/1000 \n",
    "                                  if re.search('^\\d+', str(x)) and not pd.isnull(x) else np.nan)"
   ]
  },
  {
   "cell_type": "code",
   "execution_count": 253,
   "id": "exciting-velvet",
   "metadata": {},
   "outputs": [],
   "source": [
    "ech_df.drop(list(range(5)), axis=0, inplace=True)\n",
    "ech_df.reset_index(drop=True, inplace=True)"
   ]
  },
  {
   "cell_type": "code",
   "execution_count": 254,
   "id": "hired-eleven",
   "metadata": {},
   "outputs": [
    {
     "name": "stdout",
     "output_type": "stream",
     "text": [
      "column(s) dropped: ['21:DESCRIPTION SOMMAIRE', '27:Prof. arrêt du forage']\n"
     ]
    }
   ],
   "source": [
    "ech_df=dble_col_drop(ech_df)"
   ]
  },
  {
   "cell_type": "code",
   "execution_count": 255,
   "id": "continued-greeting",
   "metadata": {},
   "outputs": [
    {
     "name": "stdout",
     "output_type": "stream",
     "text": [
      "Columns dropped :['col_1', \"Nature de l'étude (*)\", 'Observations organoleptiques', 'LOCALISATION/AFFECTATION(S) - USAGE(S)', 'parcelle (selon dénom.)', \"Type d'usage de fait actuel\", \"Type d'usage de fait futur\", \"Type d'usage utilisé pour comparer les résultats\", 'Lieux de prélèvement', 'DESCRIPTION SOMMAIRE', 'Type de recouvrement de surface (**)', 'Sol en place (S : souillé, NS : non souillé)', 'Remblais de terre (S : souillé, NS : non souillé)', 'Remblais technique (S : souillé, NS : non souillé)', 'Déchet', 'PARAMETRES PHYSICO-CHIMIQUES ', 'ORP']\n",
      "\n"
     ]
    }
   ],
   "source": [
    "ech_df=na_col_drop(ech_df,1)\n",
    "ech_df=na_line_drop(ech_df,3)\n",
    "ech_df.reset_index(drop=True, inplace=True)"
   ]
  },
  {
   "cell_type": "code",
   "execution_count": 256,
   "id": "premier-absence",
   "metadata": {},
   "outputs": [],
   "source": [
    "name=['ID_ech','Date_ech','Num_maille','Affectation','X','Y','Zsol','Long_for','Prof_crep','Long_pz',\n",
    "      'Niv_eau_sol','pH','CE','T']\n",
    "ech_df=col_ren(ech_df, name=name, mode=1)\n",
    "ech_df.insert(1,'Type_ech','Eau')"
   ]
  },
  {
   "cell_type": "code",
   "execution_count": 257,
   "id": "divine-factor",
   "metadata": {},
   "outputs": [],
   "source": [
    "ech_df['Prof_crep'].replace('\\[|\\]','', regex=True, inplace=True)\n",
    "for i in range(len(ech_df)):\n",
    "    c=ech_df.loc[i,'Prof_crep']\n",
    "    ech_df.loc[i,'Equip_top']=c.split('-')[0]\n",
    "    ech_df.loc[i,'Equip_base']=c.split('-')[1]\n",
    "\n",
    "ech_df['Type_equip'] = 'Crepine'\n",
    "ech_df.drop(columns=['Prof_crep'], inplace=True)"
   ]
  },
  {
   "cell_type": "code",
   "execution_count": 258,
   "id": "handed-veteran",
   "metadata": {},
   "outputs": [],
   "source": [
    "#ech_df['ID_ech'].replace('Canne ', 'Can', inplace=True, regex=True)\n",
    "ech_df['ID_ech'].replace('\\n', ' ', inplace=True, regex=True)"
   ]
  },
  {
   "cell_type": "code",
   "execution_count": 259,
   "id": "embedded-greene",
   "metadata": {},
   "outputs": [],
   "source": [
    "an=an.transpose()\n",
    "an.reset_index(drop=True, inplace=True)"
   ]
  },
  {
   "cell_type": "code",
   "execution_count": 260,
   "id": "mental-bacon",
   "metadata": {},
   "outputs": [
    {
     "name": "stdout",
     "output_type": "stream",
     "text": [
      "\u001b[1;31mDouble columns' name found :\u001b[0;0m\n",
      "[('Teneur mesurée', 2)]\n"
     ]
    }
   ],
   "source": [
    "an=col_ren(an, 1)"
   ]
  },
  {
   "cell_type": "code",
   "execution_count": 261,
   "id": "insured-traffic",
   "metadata": {},
   "outputs": [],
   "source": [
    "an.replace(r'<|>','', inplace=True, regex=True)\n",
    "an.replace(r'-',np.nan, inplace=True, regex=True)\n",
    "an.rename(columns={an.columns[0]:'ID_ech', 'col_43':'phénanthrène'}, inplace=True)"
   ]
  },
  {
   "cell_type": "code",
   "execution_count": 262,
   "id": "employed-stack",
   "metadata": {},
   "outputs": [],
   "source": [
    "an.drop(list(range(5)), axis=0, inplace=True)\n",
    "an.reset_index(drop=True, inplace=True)"
   ]
  },
  {
   "cell_type": "code",
   "execution_count": 263,
   "id": "short-bennett",
   "metadata": {},
   "outputs": [
    {
     "name": "stdout",
     "output_type": "stream",
     "text": [
      "Columns dropped :['METAUX LOURDS', 'CYANURES', 'COMPOSES AROMATIQUES VOLATILS', 'PHENOLS', 'crésols (total)', 'CHLOROPHENOLS', '2-chlorophénol', 'monochlorophénol total', 'dichlorophénol total', '2,4,5-trichlorophénol', '2,4,6-trichlorophénol', 'trichlorophénol total', '2,3,4,6- tétrachlorophénol', 'tétrachlorophénol total', 'pentachlorophénol', 'HYDROCARBURES AROMATIQUES POLYCYCLIQUES', 'COMPOSES ORGANOCHLORES VOLATILS', 'CHLOROBENZENES', 'monochlorobenzène', '1,3-dichlorobenzène', '1,2-dichlorobenzène', '1,4-Dichlorobenzène', '1,2,4,5- et 1,2,3,5-tétrachlorobenzènes', 'pentachlorobenzène', 'hexachlorobenzène', 'HYDROCARBURES TOTAUX', 'METHYL-TERT-BUTYL-ETHER', 'POLYCHLOROBIPHENYLS (PCB)', 'PCB totaux (7)', 'Teneur mesurée (souligne/gras)', 'Teneur mesurée (gras/grisé)', \"(*) CP = Campagne de prélèvements; Ex = Expertise; ES = Etude de sol; EO = Etude d'orientation; EC = Etude de caractérisation; SA = Suivi d'assainissement\", '(**) ib : imperméable (béton) ; ih : imperméable hydrocarboné ; p : perméable (gravier, fissuré,…) ; tvh : terres végétation haute ; tvb : terres végétation basse ']\n",
      "\n"
     ]
    }
   ],
   "source": [
    "an.drop(columns=an.columns[[-6,-5]], axis=1, inplace=True)\n",
    "an=na_col_drop(an,1)\n",
    "an.insert(1,'Type_ech','Eau')"
   ]
  },
  {
   "cell_type": "code",
   "execution_count": 264,
   "id": "featured-finding",
   "metadata": {},
   "outputs": [
    {
     "name": "stdout",
     "output_type": "stream",
     "text": [
      "\n",
      "\u001b[1;34mPossible new pollutants names:\u001b[0;0m\n",
      "['ID_ech', 'Type_ech', 'cyanure (APE)', 'Tétrachloroéthylène ', 'fraction aromat. C6-C7', 'fraction aromat. C7-C8', 'fraction aromat. C8-C10', 'fraction aliphat. C6-C8', 'fraction aliphat. C8-C10', 'Fraction C5 - C8', 'Fraction C8 - C10', 'Fraction C16 - C21']\n"
     ]
    }
   ],
   "source": [
    "an=col_ren(an, name=POL_NAMES_MODEL, mode=1)"
   ]
  },
  {
   "cell_type": "code",
   "execution_count": 265,
   "id": "39ce75ea",
   "metadata": {},
   "outputs": [],
   "source": [
    "mdf, conflict_df = data_merger(ech_df, an, how='outer', on=['ID_ech'], dist_max=1., drop_skip_col=['index'])"
   ]
  },
  {
   "cell_type": "code",
   "execution_count": 266,
   "id": "e8d82e23",
   "metadata": {
    "scrolled": true
   },
   "outputs": [],
   "source": [
    "df = gen_id_from_ech(mdf, suffixes=sufx, prefixes=prefx, capture_regex=id_reg)"
   ]
  },
  {
   "cell_type": "code",
   "execution_count": 267,
   "id": "ca60214c",
   "metadata": {},
   "outputs": [],
   "source": [
    "df['Type'] = 'Piezo'\n",
    "df['Date_mes'] = df['Date_ech']"
   ]
  },
  {
   "cell_type": "code",
   "execution_count": 268,
   "id": "052b2282",
   "metadata": {
    "scrolled": true
   },
   "outputs": [
    {
     "name": "stdout",
     "output_type": "stream",
     "text": [
      "borehole: 17 ; measure: 17 ; lithology: 0 ; analysis: 17 ; equipement: 17 ; unknown: 0 ; \n",
      "\n",
      "\u001b[1;32mNot used columns:\u001b[0;0m\n",
      " ['Aliphat_C8-C10', 'Affectation', 'Aliphat_C5-C6', 'Num_maille', 'Aliphat_C6-C8']\n"
     ]
    }
   ],
   "source": [
    "df_dict = data_slicer(df, cols_dict, crit_dict)"
   ]
  },
  {
   "cell_type": "code",
   "execution_count": 269,
   "id": "42a230f4",
   "metadata": {},
   "outputs": [
    {
     "name": "stdout",
     "output_type": "stream",
     "text": [
      "borehole: 14 ; measure: 17 ; lithology: 0 ; analysis: 17 ; equipement: 17 ; unknown: 0\n"
     ]
    }
   ],
   "source": [
    "ukw = df_dict['unknown']\n",
    "bh = df_dict['borehole']\n",
    "\n",
    "bh = bh.drop(index=ukw.index)\n",
    "ukw.drop_duplicates(['ID'], inplace=True)\n",
    "ukw.reset_index(drop=True, inplace=True)\n",
    "bh.drop_duplicates(['ID'], inplace=True)\n",
    "if 'X' in bh.columns: bh = bh.query('ID==ID and X==X')\n",
    "bh.reset_index(drop=True, inplace=True)\n",
    "\n",
    "mes = df_dict['measure']\n",
    "an = df_dict['analysis']\n",
    "litho = df_dict['lithology']\n",
    "eqp = df_dict['equipement']\n",
    "\n",
    "print(f'borehole: {len(bh)} ; measure: {len(mes)} ; lithology: {len(litho)} ; analysis: {len(an)} ; ' \n",
    "      f'equipement: {len(eqp)} ; unknown: {len(ukw)}')"
   ]
  },
  {
   "cell_type": "code",
   "execution_count": 270,
   "id": "5564e013",
   "metadata": {},
   "outputs": [],
   "source": [
    "source_an, conflict_df = data_merger(source_an, an, how='outer', on=['ID_ech', 'Type_ech'], dist_max=1., drop_skip_col=['index'])"
   ]
  },
  {
   "cell_type": "code",
   "execution_count": 271,
   "id": "0ba05c02",
   "metadata": {},
   "outputs": [],
   "source": [
    "source_bh = bh\n",
    "source_mes = mes\n",
    "source_eqp = eqp"
   ]
  },
  {
   "cell_type": "code",
   "execution_count": 272,
   "id": "a8dc575b",
   "metadata": {},
   "outputs": [
    {
     "name": "stdout",
     "output_type": "stream",
     "text": [
      "source_bh: 14 ; source_eqp: 17 ; source_uknw: 0 ; source_litho: 0 ; source_an: 46 ; source_mes: 17\n"
     ]
    }
   ],
   "source": [
    "if not os.path.exists(tmp_dir):\n",
    "    os.makedirs(tmp_dir), os.makedirs(tmp_dir+'source_merge/')\n",
    "    \n",
    "eqp.to_csv(tmp_dir+sheet+'_Equipments.csv', index=False)\n",
    "mes.to_csv(tmp_dir+sheet+'_Measures.csv', index=False)\n",
    "bh.to_csv(tmp_dir+sheet+'_Boreholes.csv', index=False)\n",
    "an.to_csv(tmp_dir+sheet+'_Samples.csv', index=False)\n",
    "#ukw.to_csv(tmp_dir+sheet+'_Unknow.csv', index=False)\n",
    "#litho.to_csv(tmp_dir+sheet+'_Lithologies.csv', index=False)\n",
    "\n",
    "source_bh.to_csv(tmp_dir+'source_merge/source_Boreholes.csv', index=False) #all Boreholes data in the source\n",
    "source_mes.to_csv(tmp_dir+'source_merge/source_Measures.csv', index=False) #all Measures data in the source\n",
    "source_eqp.to_csv(tmp_dir+'source_merge/source_Equipments.csv', index=False)\n",
    "source_an.to_csv(tmp_dir+'source_merge/source_Samples.csv', index=False)\n",
    "#source_ukw.to_csv(tmp_dir+'source_merge/source_Unknow.csv', index=False)\n",
    "#source_litho.to_csv(tmp_dir+'source_merge/source_Lithologies.csv', index=False)\n",
    "\n",
    "print(f'source_bh: {len(source_bh)} ; source_eqp: {len(source_eqp)} ; source_uknw: {len(source_ukw)} ; '\n",
    "      f'source_litho: {len(source_litho)} ; source_an: {len(source_an)} ; source_mes: {len(source_mes)}')"
   ]
  },
  {
   "cell_type": "markdown",
   "id": "153c3201",
   "metadata": {},
   "source": [
    "#### ======================================================================================"
   ]
  },
  {
   "cell_type": "code",
   "execution_count": 18,
   "id": "4c54e59f",
   "metadata": {},
   "outputs": [
    {
     "name": "stdout",
     "output_type": "stream",
     "text": [
      "source_bh: 0 ; source_eqp: 0 ; source_uknw: 0 ; source_litho: 0 ; source_an: 0 ; source_mes: 0\n"
     ]
    }
   ],
   "source": [
    "# initialisation des variables\n",
    "_df = pd.DataFrame()\n",
    "source_bh, source_eqp, source_ukw = _df, _df, _df\n",
    "source_litho, source_an, source_mes = _df, _df, _df\n",
    "\n",
    "print(f'source_bh: {len(source_bh)} ; source_eqp: {len(source_eqp)} ; source_uknw: {len(source_ukw)} ; '\n",
    "      f'source_litho: {len(source_litho)} ; source_an: {len(source_an)} ; source_mes: {len(source_mes)}')"
   ]
  },
  {
   "cell_type": "markdown",
   "id": "western-concord",
   "metadata": {},
   "source": [
    "## 8-Résultats phase 2_MEMORIS.xls\n",
    "* **Sheet : 'Résult SOL'**"
   ]
  },
  {
   "cell_type": "code",
   "execution_count": 19,
   "id": "conceptual-youth",
   "metadata": {},
   "outputs": [],
   "source": [
    "tmp_dir=ROOT_DIR + '/CF_data/Result_traitem/Phase_2_Memoris/'\n",
    "sheet='Result_SOL'"
   ]
  },
  {
   "cell_type": "code",
   "execution_count": 20,
   "id": "thick-black",
   "metadata": {},
   "outputs": [
    {
     "name": "stdout",
     "output_type": "stream",
     "text": [
      "1 NaN lines dropped\n",
      "Columns dropped :['Unnamed: 0', 'Unnamed: 2']\n",
      "\n",
      "Rows : 135, columns : 31\n"
     ]
    },
    {
     "name": "stderr",
     "output_type": "stream",
     "text": [
      "/home/yanathan/.local/share/virtualenvs/GSDMA-DRfwm83x/lib/python3.8/site-packages/pandas/core/frame.py:4901: SettingWithCopyWarning: \n",
      "A value is trying to be set on a copy of a slice from a DataFrame\n",
      "\n",
      "See the caveats in the documentation: https://pandas.pydata.org/pandas-docs/stable/user_guide/indexing.html#returning-a-view-versus-a-copy\n",
      "  return super().drop(\n"
     ]
    },
    {
     "data": {
      "application/vnd.jupyter.widget-view+json": {
       "model_id": "72e027f08b5840abb793fddbea76f67d",
       "version_major": 2,
       "version_minor": 0
      },
      "text/plain": [
       "interactive(children=(IntSlider(value=5, description='rows', max=135, min=5, readout=False), IntSlider(value=1…"
      ]
     },
     "metadata": {},
     "output_type": "display_data"
    }
   ],
   "source": [
    "df = pd.read_excel(ROOT_DIR + '/CF_data/Data_UMONS/Contamination/Résultats et mesures Siterem/résultats phase 2/'\n",
    "                   'Résultats phase 2_MEMORIS.xls', sheet_name='Résult SOL', skiprows=4)\n",
    "df=na_line_drop(df,0)\n",
    "df=na_col_drop(df,1)\n",
    "df.replace(r'<|>','', inplace=True, regex=True)\n",
    "df.replace(r'-$',np.nan, inplace=True, regex=True)\n",
    "dataframe_viewer(df, rows=5)"
   ]
  },
  {
   "cell_type": "code",
   "execution_count": 21,
   "id": "seven-roman",
   "metadata": {},
   "outputs": [],
   "source": [
    "ech_df=df.loc[:35]\n",
    "an=df.loc[36:]"
   ]
  },
  {
   "cell_type": "code",
   "execution_count": 22,
   "id": "metropolitan-adelaide",
   "metadata": {},
   "outputs": [
    {
     "name": "stderr",
     "output_type": "stream",
     "text": [
      "/home/yanathan/.local/share/virtualenvs/GSDMA-DRfwm83x/lib/python3.8/site-packages/pandas/core/indexing.py:723: SettingWithCopyWarning: \n",
      "A value is trying to be set on a copy of a slice from a DataFrame\n",
      "\n",
      "See the caveats in the documentation: https://pandas.pydata.org/pandas-docs/stable/user_guide/indexing.html#returning-a-view-versus-a-copy\n",
      "  iloc._setitem_with_indexer(indexer, value, self.name)\n"
     ]
    }
   ],
   "source": [
    "an.loc[0.5] = df.loc[1] # put data on first line\n",
    "an = an.sort_index().reset_index(drop=True)"
   ]
  },
  {
   "cell_type": "code",
   "execution_count": 23,
   "id": "neither-scanner",
   "metadata": {},
   "outputs": [],
   "source": [
    "ech_df=ech_df.transpose()\n",
    "ech_df.reset_index(drop=True, inplace=True)\n",
    "ech_df=col_ren(ech_df, 1)"
   ]
  },
  {
   "cell_type": "code",
   "execution_count": 24,
   "id": "constant-showcase",
   "metadata": {},
   "outputs": [
    {
     "name": "stdout",
     "output_type": "stream",
     "text": [
      "Columns dropped :['col_0', \"Nom / description d'échantillon\", \"Nature de l'étude (*)\", 'Terrain', 'Epaisseur de remblais', 'Epaisseur alluvions', \"Nature de l'observation organoleptique\", 'LOCALISATION/AFFECTATION(S) - USAGE(S)', 'zone', 'parcelle (selon dénom.)', \"Type d'usage de fait actuel\", \"Type d'usage de fait futur\", \"Type d'usage utilisé pour comparer les résultats\", 'Lieux de prélèvement', 'X Lambert', 'Y Lambert', 'DESCRIPTION SOMMAIRE', 'Type de recouvrement de surface (***)', 'Sol en place (S : souillé, NS : non souillé)', 'Remblais de terre (S : souillé, NS : non souillé)', 'Remblais technique (S : souillé, NS : non souillé)', 'Déchet', 'Matières organiques', 'GRANULOMETRIE', 'Fraction argileuse']\n",
      "\n"
     ]
    }
   ],
   "source": [
    "ech_df.drop(list(range(5)), axis=0, inplace=True)\n",
    "ech_df.reset_index(drop=True, inplace=True)\n",
    "ech_df=na_col_drop(ech_df,1)\n",
    "ech_df=na_line_drop(ech_df,3)\n",
    "ech_df.reset_index(drop=True, inplace=True)"
   ]
  },
  {
   "cell_type": "code",
   "execution_count": 25,
   "id": "derived-bookmark",
   "metadata": {},
   "outputs": [],
   "source": [
    "name=['ID_ech', 'Date_ech', 'Description','Organo', 'Long_for', 'Refus','Ech_top', 'Ech_base', 'MS','Fract_2','Fract_2+']\n",
    "ech_df=col_ren(ech_df, name=name, mode=1)"
   ]
  },
  {
   "cell_type": "code",
   "execution_count": 26,
   "id": "thirty-disease",
   "metadata": {},
   "outputs": [
    {
     "data": {
      "text/plain": [
       "{'L', 'LA', 'LS', 'R'}"
      ]
     },
     "execution_count": 26,
     "metadata": {},
     "output_type": "execute_result"
    }
   ],
   "source": [
    "set(ech_df['Description'])"
   ]
  },
  {
   "cell_type": "code",
   "execution_count": 27,
   "id": "defensive-compilation",
   "metadata": {},
   "outputs": [],
   "source": [
    "for i in range(len(ech_df['Description'])):\n",
    "    x = ech_df.loc[i,'Description']\n",
    "    if x=='R': ech_df.loc[i,'Description']='Remblais'\n",
    "    elif x=='L': ech_df.loc[i,'Description']='Limons'\n",
    "    elif x=='LA': ech_df.loc[i,'Description']='Limons et argiles'\n",
    "    elif x=='LS': ech_df.loc[i,'Description']='Limons et sables'\n",
    "\n",
    "ech_df['Refus']=ech_df['Refus'].apply(lambda x: 'x' if not re.search('#', str(x)) else '')\n",
    "ech_df.insert(1,'Type_ech','Sol')"
   ]
  },
  {
   "cell_type": "code",
   "execution_count": 28,
   "id": "adjusted-anger",
   "metadata": {},
   "outputs": [],
   "source": [
    "an=an.transpose()\n",
    "an.reset_index(drop=True, inplace=True)"
   ]
  },
  {
   "cell_type": "code",
   "execution_count": 29,
   "id": "impaired-listing",
   "metadata": {},
   "outputs": [],
   "source": [
    "an=col_ren(an, 1)"
   ]
  },
  {
   "cell_type": "code",
   "execution_count": 30,
   "id": "ecological-arlington",
   "metadata": {},
   "outputs": [],
   "source": [
    "an.replace(r'<|>','', inplace=True, regex=True)\n",
    "an.replace(r'-',np.nan, inplace=True, regex=True)\n",
    "an.rename(columns={'col_0':'ID_ech', 'col_34':'phénanthrène'}, inplace=True)"
   ]
  },
  {
   "cell_type": "code",
   "execution_count": 31,
   "id": "relative-affiliation",
   "metadata": {},
   "outputs": [
    {
     "name": "stdout",
     "output_type": "stream",
     "text": [
      "Columns dropped :['METAUX LOURDS', 'CYANURES', 'COMPOSES AROMATIQUES VOLATILS', 'BTEX totaux', 'PHENOLS', 'Phénol', 'Indice phénol', 'HYDROCARBURES AROMATIQUES POLYCYCLIQUES', 'COMPOSES ORGANOHALOGENES VOLATILS', '1,1-Dichloroéthane', '1,2-Dichloroéthane', '1,1-dichloroéthène', 'Cis-1,2-dichloroéthène', 'Trans 1,2-dichloroéthylène', 'Dichlorométhane', 'Totaux (cis,trans) 1,2-dichloroéthènes', '1,2-dichloropropane', 'Tétrachloroéthylène', 'Tétrachlorométhane', '1,1,1-Trichloroéthane', '1,1,2-Trichloroéthane', 'Trichloroéthylène', 'Chloroforme', 'Chlorure de vinyle', 'col_63', 'EOX (****)', 'HYDROCARBURES TOTAUX', 'Fraction C35 - C40', 'Hydrocarbures totaux C10-C40', 'METHYL-TERT-BUTYL-ETHER', 'MTBE', 'POLYCHLOROBIPHENYL (PCB)', 'PCB 28', 'PCB 52', 'PCB 101', 'PCB 118', 'PCB 138', 'PCB 153', 'PCB 180', 'PCB totaux (7)', 'F4/2M*', 'Teneur mesurée', 'Teneur mesurée (souligne/gras)', 'Teneur mesurée (gras/grisé)', \"(*) CP = Campagne de prélèvements; Ex = Expertise; ES = Etude de sol; EO = Etude d'orientation; EC = Etude de caractérisation; SA = Suivi d'assainissement\", '(**) L: limon, A: Argile, S: Sable, R: Remblai', '(***) ib : imperméable (béton) ; ih : imperméable hydrocarboné ; p : perméable (gravier, fissuré,…) ; tvh : terres végétation haute ; tvb : terres végétation basse ', '(****) 3 mg/kg = Seuil limite défini dans le GREO ']\n",
      "\n"
     ]
    }
   ],
   "source": [
    "an.drop(list(range(5)), axis=0, inplace=True)\n",
    "an=na_col_drop(an,1)\n",
    "an.insert(1,'Type_ech','Sol')"
   ]
  },
  {
   "cell_type": "code",
   "execution_count": 32,
   "id": "1106c004",
   "metadata": {},
   "outputs": [],
   "source": [
    "POL_NAMES_MODEL = {'Arsenic': 'As', 'Cobalt': 'Co', 'Cadmium': 'Cd', 'Chrome': 'Cr', 'Chrome VI': 'Cr_VI', 'Chrome (VI)': 'Cr_VI', 'Chrome_total': 'Cr_tot', 'Cuivre': 'Cu', 'Mercure': 'Hg', 'Plomb': 'Pb', 'Nickel': 'Ni', 'Zinc': 'Zn', 'Cyanure(?:s)? (?libre(?:s)?)?': 'CN_libre', 'Cyanures (totaux)': 'CN_tot', 'CN_totaux': 'CN_tot', 'Cyanures (APE)': 'CN_tot_APE', 'Cyanures totaux APE':'CN_tot_APE', 'cyanure complex': 'CN_cplx', \"Cyanures (libres) - NEN-EN-ISO 14403\": 'CN_libre', 'Cyanures (libres)': 'CN_libre', 'CN_libres': 'CN_libre', 'thiocyanate': 'ThioCN', 'Benzène': 'Bnz', 'Toluène': 'Toln', 'Éthylbenzène': 'EthBnz', 'Orthoxylène': 'O-Xyl', 'O-xylènes': 'O-Xyl', 'mp-xylènes': 'P-M-Xyl', 'Para- et métaxylène': 'P-M-Xyl', 'Xylènes': 'Xyl', 'Styrène': 'Styr', 'BTEX totaux': 'BTEX_tot', 'Phénol': 'Phenol', 'Indice phénol': 'IPh', 'Naphtalène': 'Naphta', 'Acénaphtylène': 'Acenaphtyl', 'Acénaphtène': 'Acenaphtn', 'Fluorène': 'Flrn', 'Phénanthrène': 'Phenanthr', 'Anthracène': 'Anthrc', 'Fluoranthène': 'Flranth', 'Pyrène': 'Pyr', 'Benzo(a)anthracène': 'Bnz(a)anthrc', 'Chrysène': 'Chrys', 'Benzo(b)fluoranthène': 'Bnz(b)flranth', 'Benzo(k)fluoranthène': 'Bnz(k)flranth', 'Benzo(a)pyrène': 'Bnz(a)pyr', 'Dibenzo(ah)anthracène': 'Dibnz(ah)anthrc', 'Benzo(ghi)pérylène': 'Bnz(ghi)peryl', 'Indéno(1,2,3-cd)pyrène': 'Indeno(1.2.3-cd)pyr', 'HAP Totaux (16) - EPA': 'HAP_tot_EPA', '1,1-Dichloroéthane': '1.1-DCE', '1,2-Dichloroéthane': '1.2-DCE', '1,1-dichloroéthène': '1.1-DCEn', 'Cis-1,2-dichloroéthène': 'Cis-1.2-DCEn', 'Trans 1,2-dichloroéthylène': 'Trans-1.2-DCEyl', 'Dichlorométhane': 'DCM', 'dibromochlorométhane': 'DiBCM', 'bromodichlorométhane': 'BromoDCM', 'Totaux (cis,trans) 1,2-dichloroéthènes': '(cis.trans)-1.2-DCEn_tot', '1,2-dichloropropane': '1.2-DCP', 'Tétrachloroéthylène': 'TetraCEyn', 'Tétrachlorométhane': 'TCM', '1,1,1-Trichloroéthane': '1.1.1-TCE', '1,1,2-Trichloroéthane': '1.1.2-TCE', 'Trichloroéthylène': 'TCEyn', 'Chlorure de vinyle': 'CVinyl', '3-éthylphénol': '3-EthPhn', 'métacrésol': 'M-cresol', 'o-crésol': 'O-cresol', 'p-crésol': 'P-cresol', 'crésols (total)': 'Cresol_tot', '2,4-dimethylphénol': '2.4-DMetPhn', '2,5-dimethylphénol': '2.5-DMetPhn', '3,5+2,3-dimethylphénol+4-ethylphénol': 'DMetPhn_4-EthPhn', '2,6-dimethylphénol': '2.6-DMetPhn', '3,4-dimethylphénol': '3.4-DMetPhn', 'alkylphénols C2 total': 'AlkPhn_C2_tot', '2-éthylphénol': '2-EthPhn', 'para(tert)butylphénol': 'P(T)ButPhn', 'alkylphénols C4 total': 'AlkPhn_C4_tot', '2,3,5-triméthylphénol': '2.3.5-TMPethn', '3,4,5-triméthylphénol': '3.4.5-TMetPhn', '2-isopropylphénol': '2-IsoPropPhn', 'alkylphénols C3 total': 'AlkPhn_C3_tot', 'HAP totaux (10) VROM': 'HAP_tot_vrom', 'monochlorobenzène': 'MonoCBzn', '1,2-dichlorobenzène': '1.2-DCBzn', '1,3-dichlorobenzène': '1.3-DCBzn', '1,4-Dichlorobenzène': '1.4-DCBzn', '1,2,3-trichlorobenzène': '1.2.3-TCBzn', '1,2,4-trichlorobenzène': '1.2.4-TCBzn', '1,3,5-trichlorobenzène': '1.3.5-TCBzn', '1,2,4,5- et 1,2,3,5-tétrachlorobenzènes': '1.2.3.4_5-TCBzn', '1,2,3,4-tétrachlorobenzène': '1.2.3.4-TCBzn', 'hexachlorobenzène': 'HCBzn', '2-chlorophénol': '2-CPhn', '4-chlorophénol': '4-CPhn', '3-chlorophénol': '3-CPhn', 'monochlorophénol total': 'MonoCPhn_tot', '2,3-dichlorophénol': '2.3-DCPhn', '2,4+2,5-dichlorophénol': '2.4_5-DCPhn', '2,6-dichlorophénol': '2.6-DCPhn', '3,4-dichlorophénol': '3.4-DCPhn', '3,5-dichlorophénol': '3.5-DCPhn', 'dichlorophénol total': 'DCPhn_tot', '2,3,4-trichlorophénol': '2.3.4-TCPhn', '2,3,5-trichlorophénol': '2.3.5-TCPhn', '2,3,6-trichlorophénol': '2.3.6-TCPhn', '2,4,5-trichlorophénol': '2.4.5-TCPhn', '2,4,6-trichlorophénol': '2.4.6-TCPhn', '3,4,5-trichlorophénol': '3.4.5-TCPhn', 'trichlorophénol total': 'TriCPhn_tot', '2,3,5,6-tétrachlorophénol': '2.3.5.6-TCPhn', '2,3,4,6- tétrachlorophénol': '2.3.4.6-TCPhn', '2,3,4,5- tétrachlorophénol': '2.3.4.5-TCPhn', 'tétrachlorophénol total': 'TCPhn_tot', 'pentachlorobenzène': 'PCBzn', 'pentachlorophénol': 'PCPhn', 'chlorophénol total': 'CPhn_tot', 'EOX': 'EOX', 'fraction aromat. >C6-C7': 'Ar_C6-C7', 'fraction aromat. >C7-C8': 'Ar_C7-C8', 'fraction aromat. >C8-C10': 'Ar_C8-C10', 'fraction aliphat. C5-C6': 'Alp_C5-C6', 'fraction aliphat. >C6-C8': 'Alp_C6-C8', 'fraction aliphat. >C8-C10': 'Alp_C8-C10', 'Fraction C5-C8': 'C5-C8', 'Fraction C8-C10': 'C8-C10', 'Fraction C10-C12': 'C10-C12', 'Fraction C12-C16': 'C12-C16', 'Fraction C16-C21': 'C16-C21', 'Fraction C21 - C35': 'C21-C35', 'Fraction C35 - C40': 'C35-C40', 'C16 - C21': 'C16-C21', 'C21 - C35': 'C21-C35', 'C30 - C40': 'C30-C40', 'C35 - C40': 'C35-C40', 'aromat.>C6-C7': 'Ar_C6-C7', 'aromat.>C7-C8': 'Ar_C7-C8', 'aromat.>C8-C10': 'Ar_C8-C10', 'aromat.>C10-C12': 'Ar_C10-C12', 'aromat.>C12-C16': 'Ar_C12-C16', 'aromat.>C16-C21': 'Ar_C16-C21', 'aromat.>C21-C35': 'Ar_C21-C35', 'aliphat.>C5-C6': 'Alp_C5-C6', 'aliphat.>C6-C8': 'Alp_C6-C8', 'aliphat.>C8-C10': 'Alp_C8-C10', 'aliphat.>C10-C12': 'Alp_C10-C12', 'aliphat.>C12-C16': 'Alp_C12-C16', 'aliphat.>C16-C35': 'Alp_C16-C35', 'Hydrocarbures totaux C10-C35': 'HC_tot_C10-C35', 'totaux C10-C35': 'HC_tot_C10-C35', 'Totaux C10-C40': 'HC_tot_C10-C40', 'Hydrocarbures totaux C10-C40': 'HC_tot_C10-C40', 'MTBE': 'MTBE', 'PCB 28': 'PCB_28', 'PCB 52': 'PCB_52', 'PCB 101': 'PCB_101', 'PCB 118': 'PCB_118', 'PCB 138': 'PCB_138', 'PCB 153': 'PCB_153', 'PCB 180': 'PCB_180', 'PCB totaux (7)?': 'PCB_tot', 'Chlorure(?:s)?': 'Chlorure', 'Soufre Total': 'S_tot', 'sulfite(?:s)?': 'sulfite', 'sulfate(?:s)?': 'sulfate', 'COT': 'COT', 'DBO (5 jours)': 'DBO_5j', 'DCO': 'DCO', 'Ammonium': 'NH4', 'ammoniaque libre': 'NH3_libre', 'Nitrate': 'HNO3', 'Nitrite': 'HNO2', 'azote Kjeldahl': 'N_Kjdl', 'sulfures totaux': 'Sulfure_tot', 'sulfure(?:s)? (libre(?:s)?)': 'Sulfure_libre', 'calcium': 'Ca', 'potassium': 'K', 'magnésium': 'Mg', 'manganèse': 'Mn', 'sodium': \"Na\", 'fer': 'Fe', 'phosphore (total)': 'P_tot', 'phosphates (totaux)': 'Phosphate_tot', 'carbonate': 'CaCO3', 'bicarbonate': 'Bicarb', 'Phoshore': 'P', 'fer ((Fe))? total': 'Fe_tot', 'fer (2\\+)': 'Fe2', 'fluorure(?:s)?': 'Fluorure', 'chlorures': 'Chlorure', 'chloroformes': 'Chloroforme', 'bromoformes': 'Bromoforme', 'bromure (libre)': 'Br_libre', 'Iph.': 'IPh', 'CN_NCl': 'CN_NCl', '2-naphtol': '2-Naphtol', 'thymol': 'Thymol', 'chloroforme': 'Chloroforme', 'bromoforme': 'Bromoforme', 'C12-C20': 'C12-C20', 'C20-C30': 'C20-C30', 'Non chloro destruct.':'Non_chloro_destr', 'SOM VROM 10':'HAP_tot_vrom','SOM EPA 16':'HAP_tot_EPA', 'SOM_C5_C35':'HC_tot_C15-C35', 'SOM_C10_C40':'HC_tot_C10-C40', 'SOM BTEX':'BTEX_tot','C5_C8':'C5-C8', 'C8_C10':'C8-C10', 'C10_C12':'C10-C12', 'C12_C16':'C12-C16', 'C30_C35':'C30-C35','Fraction   2000 µm':'Fract_2000µ','Fraction   63 µm':'Fract_63µ', 'Fraction   45 µm':'Fract_45µ','Fraction   16 µm':'Fract_16µ','Fraction   2 µm':'Fract_2µ', 'Fraction 2 mm':'Fract_2', 'Fraction +2 mm':'Fract_2+', 'Fract_2':'Fract_2', 'Fract_2+':'Fract_2+', 'Mat. organique':'MO', 'Mat. sèche':'MS', 'Argile':'Argile'}"
   ]
  },
  {
   "cell_type": "code",
   "execution_count": 33,
   "id": "robust-waters",
   "metadata": {},
   "outputs": [
    {
     "name": "stdout",
     "output_type": "stream",
     "text": [
      "\n",
      "\u001b[1;34mPossible new pollutants names:\u001b[0;0m\n",
      "['ID_ech', 'Type_ech', 'Cyanure (libre)', 'Cyanure (totaux)', 'cyanure (APE)', 'fraction aromat. C6-C7', 'fraction aromat. C7-C8', 'fraction aromat. C8-C10', 'fraction aliphat. C6-C8', 'fraction aliphat. C8-C10', 'Fraction C5 - C8', 'Fraction C8 - C10', 'Fraction C16 - C21']\n"
     ]
    }
   ],
   "source": [
    "an=col_ren(an, name=POL_NAMES_MODEL, mode=1)"
   ]
  },
  {
   "cell_type": "code",
   "execution_count": 34,
   "id": "f43e5b0d",
   "metadata": {},
   "outputs": [],
   "source": [
    "mdf, conflict_df = data_merger(ech_df, an, how='outer', on=['ID_ech'], dist_max=1., drop_skip_col=['index'])"
   ]
  },
  {
   "cell_type": "code",
   "execution_count": 35,
   "id": "e2b938ff",
   "metadata": {
    "scrolled": true
   },
   "outputs": [],
   "source": [
    "df = gen_id_from_ech(mdf, suffixes=sufx, prefixes=prefx, capture_regex=id_reg)"
   ]
  },
  {
   "cell_type": "code",
   "execution_count": 36,
   "id": "c615720b",
   "metadata": {},
   "outputs": [],
   "source": [
    "df['Type'] = 'Forage'"
   ]
  },
  {
   "cell_type": "code",
   "execution_count": 37,
   "id": "c00a2641",
   "metadata": {
    "scrolled": true
   },
   "outputs": [
    {
     "name": "stdout",
     "output_type": "stream",
     "text": [
      "borehole: 25 ; measure: 0 ; lithology: 0 ; analysis: 25 ; equipement: 0 ; unknown: 0 ; \n"
     ]
    }
   ],
   "source": [
    "df_dict = data_slicer(df, cols_dict, crit_dict)"
   ]
  },
  {
   "cell_type": "code",
   "execution_count": 38,
   "id": "8925ef7e",
   "metadata": {},
   "outputs": [
    {
     "name": "stdout",
     "output_type": "stream",
     "text": [
      "borehole: 12 ; measure: 0 ; lithology: 0 ; analysis: 25 ; equipement: 0 ; unknown: 0\n"
     ]
    }
   ],
   "source": [
    "ukw = df_dict['unknown']\n",
    "bh = df_dict['borehole']\n",
    "\n",
    "bh = bh.drop(index=ukw.index)\n",
    "ukw.drop_duplicates(['ID'], inplace=True)\n",
    "ukw.reset_index(drop=True, inplace=True)\n",
    "bh.drop_duplicates(['ID'], inplace=True)\n",
    "if 'X' in bh.columns: bh = bh.query('ID==ID and X==X')\n",
    "bh.reset_index(drop=True, inplace=True)\n",
    "\n",
    "mes = df_dict['measure']\n",
    "an = df_dict['analysis']\n",
    "litho = df_dict['lithology']\n",
    "eqp = df_dict['equipement']\n",
    "\n",
    "print(f'borehole: {len(bh)} ; measure: {len(mes)} ; lithology: {len(litho)} ; analysis: {len(an)} ; ' \n",
    "      f'equipement: {len(eqp)} ; unknown: {len(ukw)}')"
   ]
  },
  {
   "cell_type": "raw",
   "id": "c3ae73ac",
   "metadata": {},
   "source": [
    "source_an, conflict_df = data_merger(source_an, an, how='outer', on=['ID_ech', 'Type_ech'], dist_max=1., drop_skip_col=['index'])"
   ]
  },
  {
   "cell_type": "code",
   "execution_count": 39,
   "id": "62b66808",
   "metadata": {},
   "outputs": [],
   "source": [
    "source_bh = bh\n",
    "source_an = an"
   ]
  },
  {
   "cell_type": "code",
   "execution_count": 40,
   "id": "672b1853",
   "metadata": {},
   "outputs": [
    {
     "name": "stdout",
     "output_type": "stream",
     "text": [
      "source_bh: 12 ; source_eqp: 0 ; source_uknw: 0 ; source_litho: 0 ; source_an: 25 ; source_mes: 0\n"
     ]
    }
   ],
   "source": [
    "if not os.path.exists(tmp_dir):\n",
    "    os.makedirs(tmp_dir), os.makedirs(tmp_dir+'source_merge/')\n",
    "    \n",
    "#eqp.to_csv(tmp_dir+sheet+'_Equipments.csv', index=False)\n",
    "#mes.to_csv(tmp_dir+sheet+'_Measures.csv', index=False)\n",
    "bh.to_csv(tmp_dir+sheet+'_Boreholes.csv', index=False)\n",
    "an.to_csv(tmp_dir+sheet+'_Samples.csv', index=False)\n",
    "#ukw.to_csv(tmp_dir+sheet+'_Unknow.csv', index=False)\n",
    "#litho.to_csv(tmp_dir+sheet+'_Lithologies.csv', index=False)\n",
    "\n",
    "source_bh.to_csv(tmp_dir+'source_merge/source_Boreholes.csv', index=False) #all Boreholes data in the source\n",
    "#source_mes.to_csv(tmp_dir+'source_merge/source_Measures.csv', index=False) #all Measures data in the source\n",
    "#source_eqp.to_csv(tmp_dir+'source_merge/source_Equipments.csv', index=False)\n",
    "source_an.to_csv(tmp_dir+'source_merge/source_Samples.csv', index=False)\n",
    "#source_ukw.to_csv(tmp_dir+'source_merge/source_Unknow.csv', index=False)\n",
    "#source_litho.to_csv(tmp_dir+'source_merge/source_Lithologies.csv', index=False)\n",
    "\n",
    "print(f'source_bh: {len(source_bh)} ; source_eqp: {len(source_eqp)} ; source_uknw: {len(source_ukw)} ; '\n",
    "      f'source_litho: {len(source_litho)} ; source_an: {len(source_an)} ; source_mes: {len(source_mes)}')"
   ]
  },
  {
   "cell_type": "markdown",
   "id": "indian-testament",
   "metadata": {},
   "source": [
    "* **Sheet : 'Résult EAU'**"
   ]
  },
  {
   "cell_type": "code",
   "execution_count": 41,
   "id": "certain-vienna",
   "metadata": {},
   "outputs": [],
   "source": [
    "tmp_dir=ROOT_DIR + '/CF_data/Result_traitem/Phase_2_Memoris/'\n",
    "sheet='Result_eau'"
   ]
  },
  {
   "cell_type": "code",
   "execution_count": 42,
   "id": "accredited-costs",
   "metadata": {},
   "outputs": [
    {
     "name": "stdout",
     "output_type": "stream",
     "text": [
      "Columns dropped :['Unnamed: 0', 'Unnamed: 2']\n",
      "\n",
      "Rows : 138, columns : 17\n"
     ]
    },
    {
     "data": {
      "application/vnd.jupyter.widget-view+json": {
       "model_id": "fa4cf0d84eb6481aa47e5ebbdd318928",
       "version_major": 2,
       "version_minor": 0
      },
      "text/plain": [
       "interactive(children=(IntSlider(value=5, description='rows', max=138, min=5, readout=False), IntSlider(value=1…"
      ]
     },
     "metadata": {},
     "output_type": "display_data"
    }
   ],
   "source": [
    "df = pd.read_excel(ROOT_DIR + '/CF_data/Data_UMONS/Contamination/Résultats et mesures Siterem/résultats phase 2/'\n",
    "                   'Résultats phase 2_MEMORIS.xls', sheet_name='Résult EAU', skiprows=4)\n",
    "df=na_line_drop(df,0)\n",
    "df=na_col_drop(df,1)\n",
    "df.replace(r'<|>','', inplace=True, regex=True)\n",
    "df.replace(r'-$',np.nan, inplace=True, regex=True)\n",
    "\n",
    "dataframe_viewer(df, rows=5)"
   ]
  },
  {
   "cell_type": "code",
   "execution_count": 43,
   "id": "parliamentary-flower",
   "metadata": {},
   "outputs": [],
   "source": [
    "ech_df=df.loc[:32]\n",
    "an=df.loc[33:]"
   ]
  },
  {
   "cell_type": "code",
   "execution_count": 44,
   "id": "complicated-objective",
   "metadata": {},
   "outputs": [
    {
     "name": "stderr",
     "output_type": "stream",
     "text": [
      "/home/yanathan/.local/share/virtualenvs/GSDMA-DRfwm83x/lib/python3.8/site-packages/pandas/core/indexing.py:723: SettingWithCopyWarning: \n",
      "A value is trying to be set on a copy of a slice from a DataFrame\n",
      "\n",
      "See the caveats in the documentation: https://pandas.pydata.org/pandas-docs/stable/user_guide/indexing.html#returning-a-view-versus-a-copy\n",
      "  iloc._setitem_with_indexer(indexer, value, self.name)\n"
     ]
    }
   ],
   "source": [
    "an.loc[0.5] = df.loc[1] # put data on first line\n",
    "an = an.sort_index().reset_index(drop=True)"
   ]
  },
  {
   "cell_type": "code",
   "execution_count": 45,
   "id": "exempt-korea",
   "metadata": {},
   "outputs": [
    {
     "name": "stdout",
     "output_type": "stream",
     "text": [
      "\u001b[1;31mDouble columns' name found :\u001b[0;0m\n",
      "[('DESCRIPTION SOMMAIRE', 2), ('Prof. arrêt du forage', 2)]\n"
     ]
    }
   ],
   "source": [
    "ech_df=ech_df.transpose()\n",
    "ech_df.reset_index(drop=True, inplace=True)\n",
    "ech_df=col_ren(ech_df, 1)"
   ]
  },
  {
   "cell_type": "code",
   "execution_count": 46,
   "id": "indie-scanning",
   "metadata": {},
   "outputs": [],
   "source": [
    "ech_df['CE']=ech_df['CE'].apply(lambda x: pd.to_numeric(x)/1000 \n",
    "                                  if re.search('^\\d+', str(x)) and not pd.isnull(x) else np.nan)"
   ]
  },
  {
   "cell_type": "code",
   "execution_count": 47,
   "id": "chinese-analyst",
   "metadata": {},
   "outputs": [],
   "source": [
    "ech_df.drop(list(range(5)), axis=0, inplace=True)\n",
    "ech_df.reset_index(drop=True, inplace=True)"
   ]
  },
  {
   "cell_type": "code",
   "execution_count": 48,
   "id": "distributed-sudan",
   "metadata": {},
   "outputs": [
    {
     "name": "stdout",
     "output_type": "stream",
     "text": [
      "column(s) dropped: ['21:DESCRIPTION SOMMAIRE', '27:Prof. arrêt du forage']\n"
     ]
    }
   ],
   "source": [
    "ech_df=dble_col_drop(ech_df)"
   ]
  },
  {
   "cell_type": "code",
   "execution_count": 49,
   "id": "american-section",
   "metadata": {
    "scrolled": true
   },
   "outputs": [
    {
     "name": "stdout",
     "output_type": "stream",
     "text": [
      "Columns dropped :['Nom du piézomètre', \"Nature de l'étude (*)\", 'Observations organoleptiques', 'LOCALISATION/AFFECTATION(S) - USAGE(S)', 'Numéro de maille', 'parcelle (selon dénom.)', \"Type d'usage de fait actuel\", \"Type d'usage de fait futur\", \"Type d'usage utilisé pour comparer les résultats\", 'Lieux de prélèvement', 'DESCRIPTION SOMMAIRE', 'Type de recouvrement de surface (**)', 'Sol en place (S : souillé, NS : non souillé)', 'Remblais de terre (S : souillé, NS : non souillé)', 'Remblais technique (S : souillé, NS : non souillé)', 'Déchet', 'PARAMETRES PHYSICO-CHIMIQUES ', 'ORP']\n",
      "\n"
     ]
    }
   ],
   "source": [
    "ech_df=na_col_drop(ech_df,1)\n",
    "ech_df=na_line_drop(ech_df,3)\n",
    "ech_df.reset_index(drop=True, inplace=True)"
   ]
  },
  {
   "cell_type": "code",
   "execution_count": 50,
   "id": "harmful-burns",
   "metadata": {},
   "outputs": [],
   "source": [
    "name=['ID_ech', 'Date_ech','Affectation','X', 'Y','Zsol', 'Long_for','Prof_crep','Long_pz_sol',\n",
    "      'Niv_eau_sol','pH', 'CE', 'T']\n",
    "ech_df=col_ren(ech_df, name=name, mode=1)\n",
    "ech_df.insert(1,'Type_ech','Eau')"
   ]
  },
  {
   "cell_type": "code",
   "execution_count": 51,
   "id": "furnished-premium",
   "metadata": {
    "scrolled": true
   },
   "outputs": [],
   "source": [
    "ech_df['ID_ech'].replace('\\n', ' ', inplace=True, regex=True)"
   ]
  },
  {
   "cell_type": "code",
   "execution_count": 52,
   "id": "earlier-edgar",
   "metadata": {},
   "outputs": [],
   "source": [
    "ech_df['Prof_crep'].replace('\\[|\\]','', regex=True, inplace=True)\n",
    "for i in range(len(ech_df)):\n",
    "    c=ech_df.loc[i,'Prof_crep']\n",
    "    ech_df.loc[i,'Equip_top']=c.split('-')[0]\n",
    "    ech_df.loc[i,'Equip_base']=c.split('-')[1]\n",
    "    \n",
    "ech_df.drop(columns=['Prof_crep'], inplace=True)\n",
    "ech_df['Type_equip'] = 'Crepine'\n",
    "ech_df['Type']='Piezo'"
   ]
  },
  {
   "cell_type": "code",
   "execution_count": 53,
   "id": "forced-imaging",
   "metadata": {},
   "outputs": [],
   "source": [
    "an=an.transpose()\n",
    "an.reset_index(drop=True, inplace=True)"
   ]
  },
  {
   "cell_type": "code",
   "execution_count": 54,
   "id": "representative-firewall",
   "metadata": {},
   "outputs": [
    {
     "name": "stdout",
     "output_type": "stream",
     "text": [
      "\u001b[1;31mDouble columns' name found :\u001b[0;0m\n",
      "[('Teneur mesurée', 2)]\n"
     ]
    }
   ],
   "source": [
    "an=col_ren(an, 1)"
   ]
  },
  {
   "cell_type": "code",
   "execution_count": 55,
   "id": "incomplete-clark",
   "metadata": {},
   "outputs": [],
   "source": [
    "an.replace(r'<|>','', inplace=True, regex=True)\n",
    "an.replace(r'-',np.nan, inplace=True, regex=True)\n",
    "an.rename(columns={'col_0':'ID_ech', 'col_43':'phénanthrène'}, inplace=True)"
   ]
  },
  {
   "cell_type": "code",
   "execution_count": 56,
   "id": "neither-transfer",
   "metadata": {},
   "outputs": [],
   "source": [
    "an.drop(list(range(5)), axis=0, inplace=True)\n",
    "an.reset_index(drop=True, inplace=True)"
   ]
  },
  {
   "cell_type": "code",
   "execution_count": 57,
   "id": "written-humanity",
   "metadata": {},
   "outputs": [
    {
     "name": "stdout",
     "output_type": "stream",
     "text": [
      "Columns dropped :['METAUX LOURDS', 'Chrome VI', 'CYANURES', 'COMPOSES AROMATIQUES VOLATILS', 'PHENOLS', 'crésols (total)', 'CHLOROPHENOLS', '2-chlorophénol', 'monochlorophénol total', 'dichlorophénol total', '2,4,5-trichlorophénol', '2,4,6-trichlorophénol', 'trichlorophénol total', '2,3,4,6- tétrachlorophénol', 'tétrachlorophénol total', 'pentachlorophénol', 'HYDROCARBURES AROMATIQUES POLYCYCLIQUES', 'COMPOSES ORGANOCHLORES VOLATILS', 'CHLOROBENZENES', 'monochlorobenzène', '1,3-dichlorobenzène', '1,2-dichlorobenzène', '1,4-Dichlorobenzène', '1,2,4,5- et 1,2,3,5-tétrachlorobenzènes', 'pentachlorobenzène', 'hexachlorobenzène', 'HYDROCARBURES TOTAUX', 'METHYL-TERT-BUTYL-ETHER', 'POLYCHLOROBIPHENYLS (PCB)', 'PCB totaux (7)', 'AUTRES ANALYSES ', 'Teneur mesurée (souligne/gras)', 'Teneur mesurée (gras/grisé)', \"(*) CP = Campagne de prélèvements; Ex = Expertise; ES = Etude de sol; EO = Etude d'orientation; EC = Etude de caractérisation; SA = Suivi d'assainissement\", '(**) ib : imperméable (béton) ; ih : imperméable hydrocarboné ; p : perméable (gravier, fissuré,…) ; tvh : terres végétation haute ; tvb : terres végétation basse ']\n",
      "\n"
     ]
    }
   ],
   "source": [
    "an.drop(columns=an.columns[[-6,-5]], axis=1, inplace=True)\n",
    "an=na_col_drop(an,1)\n",
    "an.insert(1,'Type_ech','Eau')"
   ]
  },
  {
   "cell_type": "code",
   "execution_count": 58,
   "id": "enclosed-abuse",
   "metadata": {},
   "outputs": [
    {
     "name": "stdout",
     "output_type": "stream",
     "text": [
      "\n",
      "\u001b[1;34mPossible new pollutants names:\u001b[0;0m\n",
      "['ID_ech', 'Type_ech', 'cyanure (APE)', 'Tétrachloroéthylène ', 'fraction aromat. C6-C7', 'fraction aromat. C7-C8', 'fraction aromat. C8-C10', 'fraction aliphat. C6-C8', 'fraction aliphat. C8-C10', 'Fraction C5 - C8', 'Fraction C8 - C10', 'Fraction C16 - C21']\n"
     ]
    }
   ],
   "source": [
    "an=col_ren(an, name=POL_NAMES_MODEL, mode=1)"
   ]
  },
  {
   "cell_type": "code",
   "execution_count": 59,
   "id": "33289ae4",
   "metadata": {},
   "outputs": [],
   "source": [
    "mdf, conflict_df = data_merger(ech_df, an, how='outer', on=['ID_ech'], dist_max=1., drop_skip_col=['index'])"
   ]
  },
  {
   "cell_type": "code",
   "execution_count": 60,
   "id": "f435d055",
   "metadata": {},
   "outputs": [],
   "source": [
    "mdf['Type'] = 'Piezo'\n",
    "mdf['Date_mes'] = mdf['Date_ech']"
   ]
  },
  {
   "cell_type": "code",
   "execution_count": 61,
   "id": "211c02d4",
   "metadata": {
    "scrolled": true
   },
   "outputs": [],
   "source": [
    "df = gen_id_from_ech(mdf, suffixes=sufx, prefixes=prefx)"
   ]
  },
  {
   "cell_type": "code",
   "execution_count": 62,
   "id": "adb922be",
   "metadata": {
    "scrolled": true
   },
   "outputs": [
    {
     "name": "stdout",
     "output_type": "stream",
     "text": [
      "borehole: 11 ; measure: 11 ; lithology: 0 ; analysis: 11 ; equipement: 11 ; unknown: 0 ; \n",
      "\n",
      "\u001b[1;32mNot used columns:\u001b[0;0m\n",
      " ['Affectation']\n"
     ]
    }
   ],
   "source": [
    "df_dict = data_slicer(df, cols_dict, crit_dict)"
   ]
  },
  {
   "cell_type": "code",
   "execution_count": 63,
   "id": "b251773d",
   "metadata": {},
   "outputs": [
    {
     "name": "stdout",
     "output_type": "stream",
     "text": [
      "borehole: 10 ; measure: 11 ; lithology: 0 ; analysis: 11 ; equipement: 11 ; unknown: 0\n"
     ]
    }
   ],
   "source": [
    "ukw = df_dict['unknown']\n",
    "bh = df_dict['borehole']\n",
    "\n",
    "bh = bh.drop(index=ukw.index)\n",
    "ukw.drop_duplicates(['ID'], inplace=True)\n",
    "ukw.reset_index(drop=True, inplace=True)\n",
    "bh.drop_duplicates(['ID'], inplace=True)\n",
    "if 'X' in bh.columns: bh = bh.query('ID==ID and X==X')\n",
    "bh.reset_index(drop=True, inplace=True)\n",
    "\n",
    "mes = df_dict['measure']\n",
    "an = df_dict['analysis']\n",
    "litho = df_dict['lithology']\n",
    "eqp = df_dict['equipement']\n",
    "\n",
    "print(f'borehole: {len(bh)} ; measure: {len(mes)} ; lithology: {len(litho)} ; analysis: {len(an)} ; ' \n",
    "      f'equipement: {len(eqp)} ; unknown: {len(ukw)}')"
   ]
  },
  {
   "cell_type": "code",
   "execution_count": 68,
   "id": "50029a97",
   "metadata": {},
   "outputs": [],
   "source": [
    "source_bh, conflict_df = data_merger(source_bh, bh, how='outer', on=['ID'], dist_max=1., drop_skip_col=['index'])"
   ]
  },
  {
   "cell_type": "code",
   "execution_count": 69,
   "id": "c7e54adb",
   "metadata": {},
   "outputs": [],
   "source": [
    "source_an, conflict_df = data_merger(source_an, an, how='outer', on=['ID_ech', 'Type_ech'], dist_max=1., drop_skip_col=['index'])"
   ]
  },
  {
   "cell_type": "code",
   "execution_count": 70,
   "id": "e8a47a08",
   "metadata": {},
   "outputs": [],
   "source": [
    "source_mes = mes\n",
    "source_eqp = eqp"
   ]
  },
  {
   "cell_type": "code",
   "execution_count": 71,
   "id": "efbcb04e",
   "metadata": {},
   "outputs": [
    {
     "name": "stdout",
     "output_type": "stream",
     "text": [
      "source_bh: 22 ; source_eqp: 11 ; source_uknw: 0 ; source_litho: 0 ; source_an: 36 ; source_mes: 11\n"
     ]
    }
   ],
   "source": [
    "if not os.path.exists(tmp_dir):\n",
    "    os.makedirs(tmp_dir), os.makedirs(tmp_dir+'source_merge/')\n",
    "    \n",
    "eqp.to_csv(tmp_dir+sheet+'_Equipments.csv', index=False)\n",
    "mes.to_csv(tmp_dir+sheet+'_Measures.csv', index=False)\n",
    "bh.to_csv(tmp_dir+sheet+'_Boreholes.csv', index=False)\n",
    "an.to_csv(tmp_dir+sheet+'_Samples.csv', index=False)\n",
    "#ukw.to_csv(tmp_dir+sheet+'_Unknow.csv', index=False)\n",
    "#litho.to_csv(tmp_dir+sheet+'_Lithologies.csv', index=False)\n",
    "\n",
    "source_bh.to_csv(tmp_dir+'source_merge/source_Boreholes.csv', index=False) #all Boreholes data in the source\n",
    "source_mes.to_csv(tmp_dir+'source_merge/source_Measures.csv', index=False) #all Measures data in the source\n",
    "source_eqp.to_csv(tmp_dir+'source_merge/source_Equipments.csv', index=False)\n",
    "source_an.to_csv(tmp_dir+'source_merge/source_Samples.csv', index=False)\n",
    "#source_ukw.to_csv(tmp_dir+'source_merge/source_Unknow.csv', index=False)\n",
    "#source_litho.to_csv(tmp_dir+'source_merge/source_Lithologies.csv', index=False)\n",
    "\n",
    "print(f'source_bh: {len(source_bh)} ; source_eqp: {len(source_eqp)} ; source_uknw: {len(source_ukw)} ; '\n",
    "      f'source_litho: {len(source_litho)} ; source_an: {len(source_an)} ; source_mes: {len(source_mes)}')"
   ]
  },
  {
   "cell_type": "markdown",
   "id": "ada38ee1",
   "metadata": {},
   "source": [
    "#### ======================================================================================"
   ]
  },
  {
   "cell_type": "code",
   "execution_count": 72,
   "id": "19db8189",
   "metadata": {},
   "outputs": [
    {
     "name": "stdout",
     "output_type": "stream",
     "text": [
      "source_bh: 0 ; source_eqp: 0 ; source_uknw: 0 ; source_litho: 0 ; source_an: 0 ; source_mes: 0\n"
     ]
    }
   ],
   "source": [
    "# initialisation des variables\n",
    "_df = pd.DataFrame()\n",
    "source_bh, source_eqp, source_ukw = _df, _df, _df\n",
    "source_litho, source_an, source_mes = _df, _df, _df\n",
    "\n",
    "print(f'source_bh: {len(source_bh)} ; source_eqp: {len(source_eqp)} ; source_uknw: {len(source_ukw)} ; '\n",
    "      f'source_litho: {len(source_litho)} ; source_an: {len(source_an)} ; source_mes: {len(source_mes)}')"
   ]
  },
  {
   "cell_type": "markdown",
   "id": "consistent-garage",
   "metadata": {},
   "source": [
    "## 9-Ensemble des résultats Memoris version Seafile.xls\n",
    "* **Sheet : 'Résult SOL'**"
   ]
  },
  {
   "cell_type": "code",
   "execution_count": 73,
   "id": "large-intervention",
   "metadata": {},
   "outputs": [],
   "source": [
    "tmp_dir=ROOT_DIR + '/CF_data/Result_traitem/Memoris_seafile/'\n",
    "sheet='Result_SOL'"
   ]
  },
  {
   "cell_type": "code",
   "execution_count": 74,
   "id": "democratic-christianity",
   "metadata": {},
   "outputs": [
    {
     "name": "stdout",
     "output_type": "stream",
     "text": [
      "2 NaN lines dropped\n",
      "Columns dropped :['Unnamed: 0', 'Unnamed: 2']\n",
      "\n",
      "Rows : 138, columns : 66\n"
     ]
    },
    {
     "name": "stderr",
     "output_type": "stream",
     "text": [
      "/home/yanathan/.local/share/virtualenvs/GSDMA-DRfwm83x/lib/python3.8/site-packages/pandas/core/frame.py:4901: SettingWithCopyWarning: \n",
      "A value is trying to be set on a copy of a slice from a DataFrame\n",
      "\n",
      "See the caveats in the documentation: https://pandas.pydata.org/pandas-docs/stable/user_guide/indexing.html#returning-a-view-versus-a-copy\n",
      "  return super().drop(\n"
     ]
    },
    {
     "data": {
      "application/vnd.jupyter.widget-view+json": {
       "model_id": "4b7aca80ceb24814aa3cd5d44a42e358",
       "version_major": 2,
       "version_minor": 0
      },
      "text/plain": [
       "interactive(children=(IntSlider(value=5, description='rows', max=138, min=5, readout=False), IntSlider(value=1…"
      ]
     },
     "metadata": {},
     "output_type": "display_data"
    }
   ],
   "source": [
    "df = pd.read_excel(ROOT_DIR + '/CF_data/Data_UMONS/Contamination/Résultats et mesures Siterem/'\n",
    "                   'Ensemble des résultats Memoris version Seafile.xls', sheet_name='Résult SOL', skiprows=4)\n",
    "df=na_line_drop(df,0)\n",
    "df=na_col_drop(df,1)\n",
    "dataframe_viewer(df, rows=5)"
   ]
  },
  {
   "cell_type": "code",
   "execution_count": 75,
   "id": "coastal-stable",
   "metadata": {},
   "outputs": [],
   "source": [
    "ech_df=df.loc[:37]\n",
    "an=df.loc[38:]"
   ]
  },
  {
   "cell_type": "code",
   "execution_count": 76,
   "id": "adopted-thermal",
   "metadata": {},
   "outputs": [
    {
     "name": "stderr",
     "output_type": "stream",
     "text": [
      "/home/yanathan/.local/share/virtualenvs/GSDMA-DRfwm83x/lib/python3.8/site-packages/pandas/core/indexing.py:723: SettingWithCopyWarning: \n",
      "A value is trying to be set on a copy of a slice from a DataFrame\n",
      "\n",
      "See the caveats in the documentation: https://pandas.pydata.org/pandas-docs/stable/user_guide/indexing.html#returning-a-view-versus-a-copy\n",
      "  iloc._setitem_with_indexer(indexer, value, self.name)\n"
     ]
    }
   ],
   "source": [
    "an.loc[0.5] = df.loc[0] # put data on first line\n",
    "an = an.sort_index().reset_index(drop=True)"
   ]
  },
  {
   "cell_type": "code",
   "execution_count": 77,
   "id": "honest-wallace",
   "metadata": {},
   "outputs": [],
   "source": [
    "ech_df=ech_df.transpose()\n",
    "ech_df.reset_index(drop=True, inplace=True)\n",
    "ech_df=col_ren(ech_df, 1)"
   ]
  },
  {
   "cell_type": "code",
   "execution_count": 78,
   "id": "potential-lender",
   "metadata": {},
   "outputs": [
    {
     "name": "stdout",
     "output_type": "stream",
     "text": [
      "Columns dropped :['col_1', \"Nom / description d'échantillon\", \"Nature de l'étude (*)\", 'Terrain', 'Epaisseur de remblais', 'Epaisseur alluvions', \"Nature de l'observation organoleptique\", 'LOCALISATION/AFFECTATION(S) - USAGE(S)', 'zone', 'parcelle (selon dénom.)', \"Type d'usage de fait actuel\", \"Type d'usage de fait futur\", \"Type d'usage utilisé pour comparer les résultats\", 'Lieux de prélèvement', 'X Lambert', 'Y Lambert', 'DESCRIPTION SOMMAIRE', 'Type de recouvrement de surface (***)', 'Sol en place (S : souillé, NS : non souillé)', 'Remblais de terre (S : souillé, NS : non souillé)', 'Remblais technique (S : souillé, NS : non souillé)', 'Déchet', 'Matières organiques', 'GRANULOMETRIE', 'Fraction argileuse']\n",
      "\n"
     ]
    }
   ],
   "source": [
    "ech_df.drop(list(range(5)), axis=0, inplace=True)\n",
    "ech_df.reset_index(drop=True, inplace=True)\n",
    "ech_df=na_col_drop(ech_df,1)\n",
    "ech_df=na_line_drop(ech_df,3)\n",
    "ech_df.reset_index(drop=True, inplace=True)"
   ]
  },
  {
   "cell_type": "code",
   "execution_count": 79,
   "id": "optimum-snowboard",
   "metadata": {},
   "outputs": [],
   "source": [
    "ech_df.drop(columns=ech_df.columns[[-3,-4]], axis=1, inplace=True)"
   ]
  },
  {
   "cell_type": "code",
   "execution_count": 80,
   "id": "broke-emerald",
   "metadata": {},
   "outputs": [],
   "source": [
    "name=['ID_ech', 'Date_ech', 'Description','Organo', 'Long_for', 'Refus','Ech_top', 'Ech_base', 'MS','Fract_2','Fract_2+']\n",
    "ech_df=col_ren(ech_df, name=name, mode=1)"
   ]
  },
  {
   "cell_type": "code",
   "execution_count": 81,
   "id": "stable-amber",
   "metadata": {},
   "outputs": [
    {
     "data": {
      "text/plain": [
       "{'L', 'LA', 'LS', 'R', 'R '}"
      ]
     },
     "execution_count": 81,
     "metadata": {},
     "output_type": "execute_result"
    }
   ],
   "source": [
    "set(ech_df['Description'])"
   ]
  },
  {
   "cell_type": "code",
   "execution_count": 82,
   "id": "eligible-cabinet",
   "metadata": {},
   "outputs": [],
   "source": [
    "for i in range(len(ech_df['Description'])):\n",
    "    x = ech_df.loc[i,'Description']\n",
    "    if x=='R' or x=='R ': ech_df.loc[i,'Description']='Remblais'\n",
    "    elif x=='L': ech_df.loc[i,'Description']='Limons'\n",
    "    elif x=='LA': ech_df.loc[i,'Description']='Limons et argiles'\n",
    "    elif x=='LS': ech_df.loc[i,'Description']='Limons et sables'\n",
    "\n",
    "ech_df['Refus']=ech_df['Refus'].apply(lambda x: 'x' if not re.search('#', str(x)) else '')\n",
    "ech_df.insert(1,'Type_ech','Sol')"
   ]
  },
  {
   "cell_type": "code",
   "execution_count": 83,
   "id": "infinite-reading",
   "metadata": {
    "scrolled": false
   },
   "outputs": [
    {
     "name": "stdout",
     "output_type": "stream",
     "text": [
      "Rows : 60, columns : 12\n"
     ]
    },
    {
     "data": {
      "application/vnd.jupyter.widget-view+json": {
       "model_id": "7985eaf7975242d084013a291fb9eb56",
       "version_major": 2,
       "version_minor": 0
      },
      "text/plain": [
       "interactive(children=(IntSlider(value=3, description='rows', max=60, min=3, readout=False), IntSlider(value=12…"
      ]
     },
     "metadata": {},
     "output_type": "display_data"
    }
   ],
   "source": [
    "dataframe_viewer(ech_df, rows=3)"
   ]
  },
  {
   "cell_type": "code",
   "execution_count": 84,
   "id": "unauthorized-optimization",
   "metadata": {},
   "outputs": [],
   "source": [
    "an=an.transpose()\n",
    "an.reset_index(drop=True, inplace=True)"
   ]
  },
  {
   "cell_type": "code",
   "execution_count": 85,
   "id": "corporate-restriction",
   "metadata": {},
   "outputs": [],
   "source": [
    "an=col_ren(an, 1)"
   ]
  },
  {
   "cell_type": "code",
   "execution_count": 87,
   "id": "diagnostic-archives",
   "metadata": {},
   "outputs": [],
   "source": [
    "an.replace(r'<|>','', inplace=True, regex=True)\n",
    "an.replace(r'-',np.nan, inplace=True, regex=True)"
   ]
  },
  {
   "cell_type": "code",
   "execution_count": 88,
   "id": "bright-tension",
   "metadata": {},
   "outputs": [
    {
     "name": "stdout",
     "output_type": "stream",
     "text": [
      "column(s) dropped: []\n"
     ]
    }
   ],
   "source": [
    "an=dble_col_drop(an)"
   ]
  },
  {
   "cell_type": "code",
   "execution_count": 89,
   "id": "c424a5bf",
   "metadata": {},
   "outputs": [
    {
     "name": "stdout",
     "output_type": "stream",
     "text": [
      "Columns dropped :['METAUX LOURDS', 'CYANURES', 'COMPOSES AROMATIQUES VOLATILS', 'BTEX totaux', 'PHENOLS', 'Indice phénol', 'HYDROCARBURES AROMATIQUES POLYCYCLIQUES', 'COMPOSES ORGANOHALOGENES VOLATILS', 'col_63', 'EOX (****)', 'HYDROCARBURES TOTAUX', 'Hydrocarbures totaux C10-C40', 'METHYL-TERT-BUTYL-ETHER', 'POLYCHLOROBIPHENYL (PCB)', 'PCB 28', 'PCB 52', 'PCB 101', 'PCB 118', 'PCB 138', 'PCB 153', 'PCB 180', 'PCB totaux (7)', 'F4/2M*', 'Teneur mesurée', 'Teneur mesurée (souligne/gras)', 'Teneur mesurée (gras/grisé)', \"(*) CP = Campagne de prélèvements; Ex = Expertise; ES = Etude de sol; EO = Etude d'orientation; EC = Etude de caractérisation; SA = Suivi d'assainissement\", '(**) L: limon, A: Argile, S: Sable, R: Remblai', '(***) ib : imperméable (béton) ; ih : imperméable hydrocarboné ; p : perméable (gravier, fissuré,…) ; tvh : terres végétation haute ; tvb : terres végétation basse ', '(****) 3 mg/kg = Seuil limite défini dans le GREO ', \"(1) l'échantillon n'a pas pu être extrait ni analysé en raison d'une interférence due à la matrice\"]\n",
      "\n"
     ]
    }
   ],
   "source": [
    "an.drop(list(range(5)), axis=0, inplace=True)\n",
    "an.reset_index(drop=True, inplace=True)\n",
    "an=na_col_drop(an,1)"
   ]
  },
  {
   "cell_type": "code",
   "execution_count": 90,
   "id": "3cdf4497",
   "metadata": {},
   "outputs": [
    {
     "data": {
      "text/plain": [
       "Index(['col_0', 'Arsenic', 'Cadmium', 'Chrome', 'Chrome VI', 'Cuivre',\n",
       "       'Mercure', 'Plomb', 'Nickel', 'Zinc', 'Cyanure (libre)',\n",
       "       'Cyanure (totaux)', 'cyanure (APE)', 'cyanure complex', 'thiocyanate',\n",
       "       'Benzène', 'Toluène', 'Éthylbenzène', 'Orthoxylène',\n",
       "       'Para- et métaxylène', 'Xylènes', 'Styrène', 'Phénol', 'Naphtalène',\n",
       "       'Acénaphtylène', 'Acénaphtène', 'Fluorène', 'col_34', 'Anthracène',\n",
       "       'Fluoranthène', 'Pyrène', 'Benzo(a)anthracène', 'Chrysène',\n",
       "       'Benzo(b)fluoranthène', 'Benzo(k)fluoranthène', 'Benzo(a)pyrène',\n",
       "       'Dibenzo(ah)anthracène', 'Benzo(ghi)pérylène', 'Indéno(1,2,3-cd)pyrène',\n",
       "       'HAP Totaux (16) - EPA', '1,1-Dichloroéthane', '1,2-Dichloroéthane',\n",
       "       '1,1-dichloroéthène', 'Cis-1,2-dichloroéthène',\n",
       "       'Trans 1,2-dichloroéthylène', 'Dichlorométhane',\n",
       "       'Totaux (cis,trans) 1,2-dichloroéthènes', '1,2-dichloropropane',\n",
       "       'Tétrachloroéthylène', 'Tétrachlorométhane', '1,1,1-Trichloroéthane',\n",
       "       '1,1,2-Trichloroéthane', 'Trichloroéthylène', 'Chloroforme',\n",
       "       'Chlorure de vinyle', 'fraction aromat. >C6-C7',\n",
       "       'fraction aromat. >C7-C8', 'fraction aromat. >C8-C10',\n",
       "       'fraction aliphat. C5-C6', 'fraction aliphat. >C6-C8',\n",
       "       'fraction aliphat. >C8-C10', 'Fraction C5 - C8', 'Fraction C8 - C10',\n",
       "       'Fraction C10-C12', 'Fraction C12-C16', 'Fraction C16 - C21',\n",
       "       'Fraction C21 - C35', 'Fraction C35 - C40',\n",
       "       'Hydrocarbures totaux C10-C35', 'MTBE'],\n",
       "      dtype='object')"
      ]
     },
     "execution_count": 90,
     "metadata": {},
     "output_type": "execute_result"
    }
   ],
   "source": [
    "an.columns"
   ]
  },
  {
   "cell_type": "code",
   "execution_count": 91,
   "id": "short-jonathan",
   "metadata": {},
   "outputs": [],
   "source": [
    "an.rename(columns={'col_0':'ID_ech', 'col_34':'phénanthrène'}, inplace=True)\n",
    "an.insert(1,'Type_ech','Sol')"
   ]
  },
  {
   "cell_type": "code",
   "execution_count": 92,
   "id": "incredible-parameter",
   "metadata": {},
   "outputs": [
    {
     "name": "stdout",
     "output_type": "stream",
     "text": [
      "\n",
      "\u001b[1;34mPossible new pollutants names:\u001b[0;0m\n",
      "['ID_ech', 'Type_ech', 'Cyanure (libre)', 'Cyanure (totaux)', 'cyanure (APE)', 'Fraction C5 - C8', 'Fraction C8 - C10', 'Fraction C16 - C21']\n"
     ]
    }
   ],
   "source": [
    "an=col_ren(an, name=POL_NAMES_MODEL, mode=1)"
   ]
  },
  {
   "cell_type": "code",
   "execution_count": 95,
   "id": "fleet-enemy",
   "metadata": {
    "scrolled": true
   },
   "outputs": [
    {
     "name": "stdout",
     "output_type": "stream",
     "text": [
      "Rows : 60, columns : 12\n"
     ]
    },
    {
     "data": {
      "application/vnd.jupyter.widget-view+json": {
       "model_id": "46a505cc79634e539b1fe1ee9cb282aa",
       "version_major": 2,
       "version_minor": 0
      },
      "text/plain": [
       "interactive(children=(IntSlider(value=5, description='rows', max=60, min=5, readout=False), IntSlider(value=12…"
      ]
     },
     "metadata": {},
     "output_type": "display_data"
    }
   ],
   "source": [
    "dataframe_viewer(ech_df, rows=5) "
   ]
  },
  {
   "cell_type": "code",
   "execution_count": 96,
   "id": "079819ca",
   "metadata": {},
   "outputs": [],
   "source": [
    "mdf, conflict_df = data_merger(ech_df, an, how='outer', on=['ID_ech'], dist_max=1., drop_skip_col=['index'])"
   ]
  },
  {
   "cell_type": "code",
   "execution_count": 97,
   "id": "dfe6de48",
   "metadata": {},
   "outputs": [],
   "source": [
    "mdf['Type'] = 'Forage'"
   ]
  },
  {
   "cell_type": "code",
   "execution_count": 98,
   "id": "947740b3",
   "metadata": {
    "scrolled": true
   },
   "outputs": [],
   "source": [
    "df = gen_id_from_ech(mdf, suffixes=sufx, prefixes=prefx)"
   ]
  },
  {
   "cell_type": "code",
   "execution_count": 99,
   "id": "fdb96eb5",
   "metadata": {
    "scrolled": true
   },
   "outputs": [
    {
     "name": "stdout",
     "output_type": "stream",
     "text": [
      "borehole: 60 ; measure: 0 ; lithology: 0 ; analysis: 60 ; equipement: 0 ; unknown: 0 ; \n"
     ]
    }
   ],
   "source": [
    "df_dict = data_slicer(df, cols_dict, crit_dict)"
   ]
  },
  {
   "cell_type": "code",
   "execution_count": 100,
   "id": "75763482",
   "metadata": {},
   "outputs": [
    {
     "name": "stdout",
     "output_type": "stream",
     "text": [
      "borehole: 46 ; measure: 0 ; lithology: 0 ; analysis: 60 ; equipement: 0 ; unknown: 0\n"
     ]
    }
   ],
   "source": [
    "ukw = df_dict['unknown']\n",
    "bh = df_dict['borehole']\n",
    "\n",
    "bh = bh.drop(index=ukw.index)\n",
    "ukw.drop_duplicates(['ID'], inplace=True)\n",
    "ukw.reset_index(drop=True, inplace=True)\n",
    "bh.drop_duplicates(['ID'], inplace=True)\n",
    "if 'X' in bh.columns: bh = bh.query('ID==ID and X==X')\n",
    "bh.reset_index(drop=True, inplace=True)\n",
    "\n",
    "mes = df_dict['measure']\n",
    "an = df_dict['analysis']\n",
    "litho = df_dict['lithology']\n",
    "eqp = df_dict['equipement']\n",
    "\n",
    "print(f'borehole: {len(bh)} ; measure: {len(mes)} ; lithology: {len(litho)} ; analysis: {len(an)} ; ' \n",
    "      f'equipement: {len(eqp)} ; unknown: {len(ukw)}')"
   ]
  },
  {
   "cell_type": "raw",
   "id": "4d1d70a4",
   "metadata": {},
   "source": [
    "source_bh, conflict_df = data_merger(source_bh, bh, how='outer', on=['ID'], dist_max=1., drop_skip_col=['index'])"
   ]
  },
  {
   "cell_type": "raw",
   "id": "96e3e269",
   "metadata": {},
   "source": [
    "source_an, conflict_df = data_merger(source_an, an, how='outer', on=['ID_ech', 'Type_ech'], dist_max=1., drop_skip_col=['index'])"
   ]
  },
  {
   "cell_type": "code",
   "execution_count": 101,
   "id": "c6b67c81",
   "metadata": {},
   "outputs": [],
   "source": [
    "source_bh = bh\n",
    "source_an = an"
   ]
  },
  {
   "cell_type": "code",
   "execution_count": 102,
   "id": "92066059",
   "metadata": {},
   "outputs": [
    {
     "name": "stdout",
     "output_type": "stream",
     "text": [
      "source_bh: 46 ; source_eqp: 0 ; source_uknw: 0 ; source_litho: 0 ; source_an: 60 ; source_mes: 0\n"
     ]
    }
   ],
   "source": [
    "if not os.path.exists(tmp_dir):\n",
    "    os.makedirs(tmp_dir), os.makedirs(tmp_dir+'source_merge/')\n",
    "    \n",
    "#eqp.to_csv(tmp_dir+sheet+'_Equipments.csv', index=False)\n",
    "#mes.to_csv(tmp_dir+sheet+'_Measures.csv', index=False)\n",
    "bh.to_csv(tmp_dir+sheet+'_Boreholes.csv', index=False)\n",
    "an.to_csv(tmp_dir+sheet+'_Samples.csv', index=False)\n",
    "#ukw.to_csv(tmp_dir+sheet+'_Unknow.csv', index=False)\n",
    "#litho.to_csv(tmp_dir+sheet+'_Lithologies.csv', index=False)\n",
    "\n",
    "source_bh.to_csv(tmp_dir+'source_merge/source_Boreholes.csv', index=False) #all Boreholes data in the source\n",
    "#source_mes.to_csv(tmp_dir+'source_merge/source_Measures.csv', index=False) #all Measures data in the source\n",
    "#source_eqp.to_csv(tmp_dir+'source_merge/source_Equipments.csv', index=False)\n",
    "source_an.to_csv(tmp_dir+'source_merge/source_Samples.csv', index=False)\n",
    "#source_ukw.to_csv(tmp_dir+'source_merge/source_Unknow.csv', index=False)\n",
    "#source_litho.to_csv(tmp_dir+'source_merge/source_Lithologies.csv', index=False)\n",
    "\n",
    "print(f'source_bh: {len(source_bh)} ; source_eqp: {len(source_eqp)} ; source_uknw: {len(source_ukw)} ; '\n",
    "      f'source_litho: {len(source_litho)} ; source_an: {len(source_an)} ; source_mes: {len(source_mes)}')"
   ]
  },
  {
   "cell_type": "markdown",
   "id": "scientific-providence",
   "metadata": {},
   "source": [
    "* **Sheet : 'Résult EAU'**"
   ]
  },
  {
   "cell_type": "code",
   "execution_count": 148,
   "id": "european-pendant",
   "metadata": {},
   "outputs": [],
   "source": [
    "tmp_dir=ROOT_DIR + '/CF_data/Result_traitem/Memoris_seafile/'\n",
    "sheet='Result_eau'"
   ]
  },
  {
   "cell_type": "code",
   "execution_count": 149,
   "id": "dramatic-wilderness",
   "metadata": {},
   "outputs": [
    {
     "name": "stdout",
     "output_type": "stream",
     "text": [
      "4 NaN lines dropped\n",
      "Columns dropped :['Unnamed: 0', 'Unnamed: 2']\n",
      "\n",
      "Rows : 154, columns : 51\n"
     ]
    },
    {
     "name": "stderr",
     "output_type": "stream",
     "text": [
      "/home/yanathan/.local/share/virtualenvs/GSDMA-DRfwm83x/lib/python3.8/site-packages/pandas/core/frame.py:4901: SettingWithCopyWarning: \n",
      "A value is trying to be set on a copy of a slice from a DataFrame\n",
      "\n",
      "See the caveats in the documentation: https://pandas.pydata.org/pandas-docs/stable/user_guide/indexing.html#returning-a-view-versus-a-copy\n",
      "  return super().drop(\n"
     ]
    },
    {
     "data": {
      "application/vnd.jupyter.widget-view+json": {
       "model_id": "ed6fd403be104e2e9271ef7d809282d0",
       "version_major": 2,
       "version_minor": 0
      },
      "text/plain": [
       "interactive(children=(IntSlider(value=5, description='rows', max=154, min=5, readout=False), IntSlider(value=1…"
      ]
     },
     "metadata": {},
     "output_type": "display_data"
    }
   ],
   "source": [
    "df = pd.read_excel(ROOT_DIR + '/CF_data/Data_UMONS/Contamination/Résultats et mesures Siterem/'\n",
    "                   'Ensemble des résultats Memoris version Seafile.xls', sheet_name='Résult EAU', skiprows=4)\n",
    "df=na_line_drop(df,0)\n",
    "df=na_col_drop(df,1)\n",
    "df.replace(r'<|>','', inplace=True, regex=True)\n",
    "df.replace(r'-$',np.nan, inplace=True, regex=True)\n",
    "\n",
    "dataframe_viewer(df, rows=5)"
   ]
  },
  {
   "cell_type": "code",
   "execution_count": 150,
   "id": "average-humor",
   "metadata": {},
   "outputs": [],
   "source": [
    "ech_df=df.loc[:32]\n",
    "an=df.loc[33:]"
   ]
  },
  {
   "cell_type": "code",
   "execution_count": 151,
   "id": "lovely-priority",
   "metadata": {},
   "outputs": [
    {
     "name": "stderr",
     "output_type": "stream",
     "text": [
      "/home/yanathan/.local/share/virtualenvs/GSDMA-DRfwm83x/lib/python3.8/site-packages/pandas/core/indexing.py:723: SettingWithCopyWarning: \n",
      "A value is trying to be set on a copy of a slice from a DataFrame\n",
      "\n",
      "See the caveats in the documentation: https://pandas.pydata.org/pandas-docs/stable/user_guide/indexing.html#returning-a-view-versus-a-copy\n",
      "  iloc._setitem_with_indexer(indexer, value, self.name)\n"
     ]
    }
   ],
   "source": [
    "an.loc[0.5] = df.loc[0] # put data on first line\n",
    "an = an.sort_index().reset_index(drop=True)"
   ]
  },
  {
   "cell_type": "code",
   "execution_count": 152,
   "id": "hourly-specialist",
   "metadata": {},
   "outputs": [
    {
     "name": "stdout",
     "output_type": "stream",
     "text": [
      "\u001b[1;31mDouble columns' name found :\u001b[0;0m\n",
      "[('DESCRIPTION SOMMAIRE', 2), ('Prof. arrêt du forage', 2)]\n"
     ]
    }
   ],
   "source": [
    "ech_df=ech_df.transpose()\n",
    "ech_df.reset_index(drop=True, inplace=True)\n",
    "ech_df=col_ren(ech_df, 1)"
   ]
  },
  {
   "cell_type": "code",
   "execution_count": 153,
   "id": "convertible-failing",
   "metadata": {},
   "outputs": [],
   "source": [
    "ech_df['CE']=ech_df['CE'].apply(lambda x: pd.to_numeric(x)/1000 \n",
    "                                  if re.search('^\\d+', str(x)) and not pd.isnull(x) else np.nan)"
   ]
  },
  {
   "cell_type": "code",
   "execution_count": 154,
   "id": "distinct-vinyl",
   "metadata": {},
   "outputs": [],
   "source": [
    "ech_df.drop(list(range(5)), axis=0, inplace=True)\n",
    "ech_df.reset_index(drop=True, inplace=True)"
   ]
  },
  {
   "cell_type": "code",
   "execution_count": 155,
   "id": "supreme-minority",
   "metadata": {},
   "outputs": [
    {
     "name": "stdout",
     "output_type": "stream",
     "text": [
      "column(s) dropped: ['21:DESCRIPTION SOMMAIRE', '27:Prof. arrêt du forage']\n"
     ]
    }
   ],
   "source": [
    "ech_df=dble_col_drop(ech_df)"
   ]
  },
  {
   "cell_type": "code",
   "execution_count": 156,
   "id": "elegant-underwear",
   "metadata": {},
   "outputs": [
    {
     "name": "stdout",
     "output_type": "stream",
     "text": [
      "Columns dropped :['col_1', \"Nature de l'étude (*)\", 'Observations organoleptiques', 'LOCALISATION/AFFECTATION(S) - USAGE(S)', 'parcelle (selon dénom.)', \"Type d'usage de fait actuel\", \"Type d'usage de fait futur\", \"Type d'usage utilisé pour comparer les résultats\", 'Lieux de prélèvement', 'DESCRIPTION SOMMAIRE', 'Type de recouvrement de surface (**)', 'Sol en place (S : souillé, NS : non souillé)', 'Remblais de terre (S : souillé, NS : non souillé)', 'Remblais technique (S : souillé, NS : non souillé)', 'Déchet', 'PARAMETRES PHYSICO-CHIMIQUES ', 'ORP']\n",
      "\n"
     ]
    }
   ],
   "source": [
    "ech_df=na_col_drop(ech_df,1)\n",
    "ech_df=na_line_drop(ech_df,3)\n",
    "ech_df.reset_index(drop=True, inplace=True)"
   ]
  },
  {
   "cell_type": "code",
   "execution_count": 157,
   "id": "still-shade",
   "metadata": {},
   "outputs": [],
   "source": [
    "ech_df.drop(columns=ech_df.columns[[2]], axis=2, inplace=True)"
   ]
  },
  {
   "cell_type": "code",
   "execution_count": 158,
   "id": "obvious-emission",
   "metadata": {},
   "outputs": [],
   "source": [
    "name=['ID_ech', 'Date_ech','Affectation','X', 'Y','Zsol', 'Long_for','Prof_crep','Long_pz_sol', \n",
    "      'Niv_eau_sol','pH', 'CE', 'T']\n",
    "ech_df=col_ren(ech_df, name=name, mode=1)\n",
    "ech_df.insert(1,'Type_ech','Eau')"
   ]
  },
  {
   "cell_type": "code",
   "execution_count": 159,
   "id": "diverse-action",
   "metadata": {},
   "outputs": [],
   "source": [
    "ech_df['Prof_crep'].replace('\\[|\\]','', regex=True, inplace=True)\n",
    "for i in range(len(ech_df)):\n",
    "    c=ech_df.loc[i,'Prof_crep']\n",
    "    ech_df.loc[i,'Equip_top']=c.split('-')[0]\n",
    "    ech_df.loc[i,'Equip_base']=c.split('-')[1]\n",
    "    \n",
    "ech_df.drop(columns=['Prof_crep'], inplace=True)\n",
    "ech_df['Type_equip'] = 'Crepine'"
   ]
  },
  {
   "cell_type": "code",
   "execution_count": 160,
   "id": "treated-benchmark",
   "metadata": {},
   "outputs": [],
   "source": [
    "ech_df['ID_ech'].replace('\\n', ' ', inplace=True, regex=True)"
   ]
  },
  {
   "cell_type": "code",
   "execution_count": 162,
   "id": "collective-words",
   "metadata": {},
   "outputs": [],
   "source": [
    "an=an.transpose()\n",
    "an.reset_index(drop=True, inplace=True)"
   ]
  },
  {
   "cell_type": "code",
   "execution_count": 163,
   "id": "tested-cruise",
   "metadata": {},
   "outputs": [
    {
     "name": "stdout",
     "output_type": "stream",
     "text": [
      "\u001b[1;31mDouble columns' name found :\u001b[0;0m\n",
      "[('nitrite', 2), ('Teneur mesurée', 2), ('nitrate', 2), ('ammonium', 2)]\n"
     ]
    }
   ],
   "source": [
    "an=col_ren(an, 1)"
   ]
  },
  {
   "cell_type": "code",
   "execution_count": 164,
   "id": "bulgarian-little",
   "metadata": {},
   "outputs": [],
   "source": [
    "an.replace(r'<|>','', inplace=True, regex=True)\n",
    "an.replace(r'-',np.nan, inplace=True, regex=True)\n",
    "an.rename(columns={an.columns[0]:'ID_ech','Température pour mes. pH':'Temp_pH' 'col_43':'phénanthrène'}, inplace=True)"
   ]
  },
  {
   "cell_type": "code",
   "execution_count": 165,
   "id": "every-progress",
   "metadata": {},
   "outputs": [],
   "source": [
    "an.drop(list(range(5)), axis=0, inplace=True)\n",
    "an.reset_index(drop=True, inplace=True)"
   ]
  },
  {
   "cell_type": "code",
   "execution_count": 166,
   "id": "mexican-principal",
   "metadata": {},
   "outputs": [
    {
     "name": "stdout",
     "output_type": "stream",
     "text": [
      "column(s) dropped: ['104:nitrite', '106:nitrate', '112:ammonium', '117:Teneur mesurée']\n"
     ]
    }
   ],
   "source": [
    "an=dble_col_drop(an)"
   ]
  },
  {
   "cell_type": "code",
   "execution_count": 167,
   "id": "satisfied-italian",
   "metadata": {},
   "outputs": [
    {
     "name": "stdout",
     "output_type": "stream",
     "text": [
      "Columns dropped :['METAUX LOURDS', 'CYANURES', 'COMPOSES AROMATIQUES VOLATILS', 'PHENOLS', 'crésols (total)', 'CHLOROPHENOLS', '2-chlorophénol', 'monochlorophénol total', 'dichlorophénol total', '2,4,5-trichlorophénol', '2,4,6-trichlorophénol', 'trichlorophénol total', '2,3,4,6- tétrachlorophénol', 'tétrachlorophénol total', 'pentachlorophénol', 'HYDROCARBURES AROMATIQUES POLYCYCLIQUES', 'COMPOSES ORGANOCHLORES VOLATILS', 'CHLOROBENZENES', 'monochlorobenzène', '1,3-dichlorobenzène', '1,2-dichlorobenzène', '1,4-Dichlorobenzène', '1,2,4,5- et 1,2,3,5-tétrachlorobenzènes', 'pentachlorobenzène', 'hexachlorobenzène', 'HYDROCARBURES TOTAUX', 'METHYL-TERT-BUTYL-ETHER', 'POLYCHLOROBIPHENYLS (PCB)', 'PCB totaux (7)', 'AUTRES ANALYSES ', 'azote Kjeldahl', 'COMPOSES INORGANIQUES ', 'sulfures totaux', 'Teneur mesurée (souligne/gras)', 'Teneur mesurée (gras/grisé)', \"(*) CP = Campagne de prélèvements; Ex = Expertise; ES = Etude de sol; EO = Etude d'orientation; EC = Etude de caractérisation; SA = Suivi d'assainissement\", '(**) ib : imperméable (béton) ; ih : imperméable hydrocarboné ; p : perméable (gravier, fissuré,…) ; tvh : terres végétation haute ; tvb : terres végétation basse ']\n",
      "\n"
     ]
    }
   ],
   "source": [
    "an.drop(columns=an.columns[[-6,-5]], axis=1, inplace=True)\n",
    "an=na_col_drop(an,1)\n",
    "an.insert(1,'Type_ech','Eau')"
   ]
  },
  {
   "cell_type": "code",
   "execution_count": 168,
   "id": "surprised-portuguese",
   "metadata": {},
   "outputs": [],
   "source": [
    "an['ID_ech'].replace('\\n', ' ', inplace=True, regex=True)"
   ]
  },
  {
   "cell_type": "code",
   "execution_count": 170,
   "id": "comfortable-mobility",
   "metadata": {},
   "outputs": [
    {
     "name": "stdout",
     "output_type": "stream",
     "text": [
      "\n",
      "\u001b[1;34mPossible new pollutants names:\u001b[0;0m\n",
      "['ID_ech', 'Type_ech', 'cyanure (APE)', 'Tétrachloroéthylène ', 'fraction aromat. C6-C7', 'fraction aromat. C7-C8', 'fraction aromat. C8-C10', 'fraction aliphat. C6-C8', 'fraction aliphat. C8-C10', 'Fraction C5 - C8', 'Fraction C8 - C10', 'Fraction C16 - C21', 'pH', 'Température pour mes. pH', 'sulfites', 'sulfate', 'sulfures (libre)']\n"
     ]
    }
   ],
   "source": [
    "an=col_ren(an, name=POL_NAMES_MODEL, mode=1)"
   ]
  },
  {
   "cell_type": "code",
   "execution_count": 172,
   "id": "e0c6991a",
   "metadata": {},
   "outputs": [],
   "source": [
    "mdf, conflict_df = data_merger(ech_df, an, how='outer', on=['ID_ech'], dist_max=1., drop_skip_col=['index'])"
   ]
  },
  {
   "cell_type": "code",
   "execution_count": 173,
   "id": "06e65b2c",
   "metadata": {},
   "outputs": [],
   "source": [
    "mdf['Type'] = 'Piezo'\n",
    "mdf['Date_mes'] = mdf['Date_ech']"
   ]
  },
  {
   "cell_type": "code",
   "execution_count": 211,
   "id": "c53b3211",
   "metadata": {
    "scrolled": true
   },
   "outputs": [],
   "source": [
    "df = gen_id_from_ech(mdf, suffixes=sufx, prefixes=prefx, capture_regex=id_reg)"
   ]
  },
  {
   "cell_type": "code",
   "execution_count": 212,
   "id": "7a779e88",
   "metadata": {},
   "outputs": [
    {
     "name": "stdout",
     "output_type": "stream",
     "text": [
      "Rows : 45, columns : 96, Unique values on cols: {'ID': 30, 'ID_ech': 45}\n"
     ]
    },
    {
     "data": {
      "application/vnd.jupyter.widget-view+json": {
       "model_id": "7eefdd8da2b24cd6bd9c5509b6662a63",
       "version_major": 2,
       "version_minor": 0
      },
      "text/plain": [
       "interactive(children=(IntSlider(value=3, description='rows', max=45, min=3, readout=False), IntSlider(value=12…"
      ]
     },
     "metadata": {},
     "output_type": "display_data"
    }
   ],
   "source": [
    "dataframe_viewer(df, rows=3, un_val=['ID','ID_ech'])"
   ]
  },
  {
   "cell_type": "code",
   "execution_count": 213,
   "id": "7063a182",
   "metadata": {
    "scrolled": true
   },
   "outputs": [
    {
     "name": "stdout",
     "output_type": "stream",
     "text": [
      "borehole: 45 ; measure: 45 ; lithology: 0 ; analysis: 45 ; equipement: 45 ; unknown: 0 ; \n",
      "\n",
      "\u001b[1;32mNot used columns:\u001b[0;0m\n",
      " ['Température pour mes. pH', 'Affectation']\n"
     ]
    }
   ],
   "source": [
    "df_dict = data_slicer(df, cols_dict, crit_dict)"
   ]
  },
  {
   "cell_type": "code",
   "execution_count": 214,
   "id": "e1978133",
   "metadata": {},
   "outputs": [
    {
     "name": "stdout",
     "output_type": "stream",
     "text": [
      "borehole: 24 ; measure: 45 ; lithology: 0 ; analysis: 45 ; equipement: 45 ; unknown: 0\n"
     ]
    }
   ],
   "source": [
    "ukw = df_dict['unknown']\n",
    "bh = df_dict['borehole']\n",
    "\n",
    "bh = bh.drop(index=ukw.index)\n",
    "ukw.drop_duplicates(['ID'], inplace=True)\n",
    "ukw.reset_index(drop=True, inplace=True)\n",
    "bh.drop_duplicates(['ID'], inplace=True)\n",
    "if 'X' in bh.columns: bh = bh.query('ID==ID and X==X')\n",
    "bh.reset_index(drop=True, inplace=True)\n",
    "\n",
    "mes = df_dict['measure']\n",
    "an = df_dict['analysis']\n",
    "litho = df_dict['lithology']\n",
    "eqp = df_dict['equipement']\n",
    "\n",
    "print(f'borehole: {len(bh)} ; measure: {len(mes)} ; lithology: {len(litho)} ; analysis: {len(an)} ; ' \n",
    "      f'equipement: {len(eqp)} ; unknown: {len(ukw)}')"
   ]
  },
  {
   "cell_type": "code",
   "execution_count": 216,
   "id": "824bbadd",
   "metadata": {},
   "outputs": [],
   "source": [
    "source_bh, conflict_df = data_merger(source_bh, bh, how='outer', on=['ID'], dist_max=1., drop_skip_col=['index'])"
   ]
  },
  {
   "cell_type": "code",
   "execution_count": 217,
   "id": "8d8a4079",
   "metadata": {},
   "outputs": [],
   "source": [
    "source_an, conflict_df = data_merger(source_an, an, how='outer', on=['ID_ech', 'Type_ech'], dist_max=1., drop_skip_col=['index'])"
   ]
  },
  {
   "cell_type": "code",
   "execution_count": 218,
   "id": "8c36e941",
   "metadata": {},
   "outputs": [],
   "source": [
    "source_mes = mes\n",
    "source_eqp = eqp"
   ]
  },
  {
   "cell_type": "code",
   "execution_count": 219,
   "id": "58ebc9c1",
   "metadata": {},
   "outputs": [
    {
     "name": "stdout",
     "output_type": "stream",
     "text": [
      "source_bh: 70 ; source_eqp: 45 ; source_uknw: 0 ; source_litho: 0 ; source_an: 105 ; source_mes: 45\n"
     ]
    }
   ],
   "source": [
    "if not os.path.exists(tmp_dir):\n",
    "    os.makedirs(tmp_dir), os.makedirs(tmp_dir+'source_merge/')\n",
    "    \n",
    "eqp.to_csv(tmp_dir+sheet+'_Equipments.csv', index=False)\n",
    "mes.to_csv(tmp_dir+sheet+'_Measures.csv', index=False)\n",
    "bh.to_csv(tmp_dir+sheet+'_Boreholes.csv', index=False)\n",
    "an.to_csv(tmp_dir+sheet+'_Samples.csv', index=False)\n",
    "#ukw.to_csv(tmp_dir+sheet+'_Unknow.csv', index=False)\n",
    "#litho.to_csv(tmp_dir+sheet+'_Lithologies.csv', index=False)\n",
    "\n",
    "source_bh.to_csv(tmp_dir+'source_merge/source_Boreholes.csv', index=False) #all Boreholes data in the source\n",
    "source_mes.to_csv(tmp_dir+'source_merge/source_Measures.csv', index=False) #all Measures data in the source\n",
    "source_eqp.to_csv(tmp_dir+'source_merge/source_Equipments.csv', index=False)\n",
    "source_an.to_csv(tmp_dir+'source_merge/source_Samples.csv', index=False)\n",
    "#source_ukw.to_csv(tmp_dir+'source_merge/source_Unknow.csv', index=False)\n",
    "#source_litho.to_csv(tmp_dir+'source_merge/source_Lithologies.csv', index=False)\n",
    "\n",
    "print(f'source_bh: {len(source_bh)} ; source_eqp: {len(source_eqp)} ; source_uknw: {len(source_ukw)} ; '\n",
    "      f'source_litho: {len(source_litho)} ; source_an: {len(source_an)} ; source_mes: {len(source_mes)}')"
   ]
  },
  {
   "cell_type": "markdown",
   "id": "2e407dc5",
   "metadata": {},
   "source": [
    "#### ======================================================================================"
   ]
  },
  {
   "cell_type": "code",
   "execution_count": null,
   "id": "0e56f5b6",
   "metadata": {},
   "outputs": [],
   "source": [
    "# initialisation des variables\n",
    "_df = pd.DataFrame()\n",
    "source_bh, source_eqp, source_ukw = _df, _df, _df\n",
    "source_litho, source_an, source_mes = _df, _df, _df\n",
    "\n",
    "print(f'source_bh: {len(source_bh)} ; source_eqp: {len(source_eqp)} ; source_uknw: {len(source_ukw)} ; '\n",
    "      f'source_litho: {len(source_litho)} ; source_an: {len(source_an)} ; source_mes: {len(source_mes)}')"
   ]
  },
  {
   "cell_type": "markdown",
   "id": "indoor-spotlight",
   "metadata": {},
   "source": [
    "## 10-Résultats SOL container phyto t=0_décret sol.xls\n",
    "* **Sheet : 'Résult SOL'**"
   ]
  },
  {
   "cell_type": "code",
   "execution_count": null,
   "id": "invalid-pressure",
   "metadata": {},
   "outputs": [],
   "source": [
    "tmp_dir=ROOT_DIR + '/CF_data/Result_traitem/Container_phyto/'\n",
    "sheet='Result_SOL'"
   ]
  },
  {
   "cell_type": "code",
   "execution_count": null,
   "id": "hungry-candle",
   "metadata": {},
   "outputs": [],
   "source": [
    "df = pd.read_excel(ROOT_DIR + '/CF_data/Data_UMONS/Contamination/Résultats et mesures Siterem/'\n",
    "                   'Résultats SOL container phyto t=0_décret sol.xls', sheet_name='Résult SOL', skiprows=4)\n",
    "df=na_line_drop(df,0)\n",
    "df=na_col_drop(df,1)\n",
    "df.replace(r'<|>','', inplace=True, regex=True)\n",
    "df.replace(r'-$',np.nan, inplace=True, regex=True)\n",
    "\n",
    "dataframe_viewer(df, rows=5)"
   ]
  },
  {
   "cell_type": "code",
   "execution_count": null,
   "id": "ongoing-senate",
   "metadata": {},
   "outputs": [],
   "source": [
    "ech_df=df.loc[:21]\n",
    "an=df.loc[22:]"
   ]
  },
  {
   "cell_type": "code",
   "execution_count": null,
   "id": "spare-medicare",
   "metadata": {},
   "outputs": [],
   "source": [
    "an.loc[0.5] = df.loc[0] # put data on first line\n",
    "an = an.sort_index().reset_index(drop=True)"
   ]
  },
  {
   "cell_type": "code",
   "execution_count": null,
   "id": "tight-response",
   "metadata": {},
   "outputs": [],
   "source": [
    "ech_df=ech_df.transpose()\n",
    "ech_df.reset_index(drop=True, inplace=True)\n",
    "ech_df=col_ren(ech_df, 1)"
   ]
  },
  {
   "cell_type": "code",
   "execution_count": null,
   "id": "brown-sarah",
   "metadata": {},
   "outputs": [],
   "source": [
    "ech_df=dble_col_drop(ech_df)"
   ]
  },
  {
   "cell_type": "code",
   "execution_count": null,
   "id": "comparative-tackle",
   "metadata": {},
   "outputs": [],
   "source": [
    "ech_df.drop(list(range(5)), axis=0, inplace=True)\n",
    "ech_df.reset_index(drop=True, inplace=True)\n",
    "ech_df=na_col_drop(ech_df,2)\n",
    "ech_df=na_line_drop(ech_df,3)\n",
    "ech_df.reset_index(drop=True, inplace=True)"
   ]
  },
  {
   "cell_type": "code",
   "execution_count": null,
   "id": "prospective-layer",
   "metadata": {},
   "outputs": [],
   "source": [
    "ech_df.drop(columns=ech_df.columns[[-3]], axis=1, inplace=True)"
   ]
  },
  {
   "cell_type": "code",
   "execution_count": null,
   "id": "center-dispatch",
   "metadata": {},
   "outputs": [],
   "source": [
    "name=['ID_ech', 'Ech_top', 'Ech_base','MS','Date_ech','Fract_2','Fract_2+']\n",
    "ech_df=col_ren(ech_df, name=name, mode=1)\n",
    "ech_df=ech_df.query('ID_ech==ID_ech')\n",
    "ech_df.insert(1,'Type_ech','Sol')"
   ]
  },
  {
   "cell_type": "code",
   "execution_count": null,
   "id": "human-study",
   "metadata": {
    "scrolled": false
   },
   "outputs": [],
   "source": [
    "dataframe_viewer(ech_df, rows=3)"
   ]
  },
  {
   "cell_type": "code",
   "execution_count": null,
   "id": "direct-fisher",
   "metadata": {},
   "outputs": [],
   "source": [
    "an=an.transpose()\n",
    "an.reset_index(drop=True, inplace=True)"
   ]
  },
  {
   "cell_type": "code",
   "execution_count": 587,
   "id": "radio-arnold",
   "metadata": {},
   "outputs": [
    {
     "name": "stdout",
     "output_type": "stream",
     "text": [
      "\u001b[1;31mDouble columns' name found :\u001b[0;0m\n",
      "[('0.1', 6), ('1', 2)]\n"
     ]
    }
   ],
   "source": [
    "an=col_ren(an, 1)"
   ]
  },
  {
   "cell_type": "code",
   "execution_count": 588,
   "id": "fixed-continuity",
   "metadata": {},
   "outputs": [],
   "source": [
    "an.replace(r'<|>','', inplace=True, regex=True)\n",
    "an.replace(r'-',np.nan, inplace=True, regex=True)\n",
    "an.rename(columns={an.columns[0]:'ID_ech'}, inplace=True)"
   ]
  },
  {
   "cell_type": "code",
   "execution_count": 589,
   "id": "cubic-graham",
   "metadata": {},
   "outputs": [
    {
     "name": "stdout",
     "output_type": "stream",
     "text": [
      "column(s) dropped: ['3:ID_ech', '4:0.1', '5:0.1', '6:0.1', '7:0.1', '8:0.1']\n"
     ]
    }
   ],
   "source": [
    "an=dble_col_drop(an)"
   ]
  },
  {
   "cell_type": "code",
   "execution_count": 590,
   "id": "selective-broad",
   "metadata": {},
   "outputs": [],
   "source": [
    "an.drop(list(range(5)), axis=0, inplace=True)\n",
    "an.reset_index(drop=True, inplace=True)\n",
    "an=na_col_drop(an,1)\n",
    "an.insert(1,'Type_ech','Sol')"
   ]
  },
  {
   "cell_type": "code",
   "execution_count": 591,
   "id": "outstanding-thickness",
   "metadata": {},
   "outputs": [
    {
     "name": "stdout",
     "output_type": "stream",
     "text": [
      "\n",
      "\u001b[1;34mPossible new pollutants names:\u001b[0;0m\n",
      "['ID_ech', 'Type_ech', 'Eau', '0.1']\n"
     ]
    }
   ],
   "source": [
    "an=col_ren(an, name=POL_NAMES_MODEL, mode=1)"
   ]
  },
  {
   "cell_type": "code",
   "execution_count": 592,
   "id": "growing-childhood",
   "metadata": {
    "scrolled": true
   },
   "outputs": [
    {
     "name": "stdout",
     "output_type": "stream",
     "text": [
      "Rows : 63, columns : 4\n"
     ]
    },
    {
     "data": {
      "application/vnd.jupyter.widget-view+json": {
       "model_id": "45fe9a56dca64155ad8a3feb1915bd01",
       "version_major": 2,
       "version_minor": 0
      },
      "text/plain": [
       "interactive(children=(IntSlider(value=5, description='rows', max=63, min=5, readout=False), IntSlider(value=4,…"
      ]
     },
     "metadata": {},
     "output_type": "display_data"
    }
   ],
   "source": [
    "dataframe_viewer(an, rows=5) "
   ]
  },
  {
   "cell_type": "code",
   "execution_count": 593,
   "id": "attempted-longer",
   "metadata": {},
   "outputs": [],
   "source": [
    "source_ech_df=ech_df\n",
    "source_an=an"
   ]
  },
  {
   "cell_type": "code",
   "execution_count": 594,
   "id": "deluxe-berlin",
   "metadata": {
    "scrolled": true
   },
   "outputs": [
    {
     "ename": "NameError",
     "evalue": "name 'source_mes_pz' is not defined",
     "output_type": "error",
     "traceback": [
      "\u001b[0;31m---------------------------------------------------------------------------\u001b[0m",
      "\u001b[0;31mNameError\u001b[0m                                 Traceback (most recent call last)",
      "\u001b[0;32m/tmp/ipykernel_8568/1539028298.py\u001b[0m in \u001b[0;36m<module>\u001b[0;34m\u001b[0m\n\u001b[1;32m     24\u001b[0m \u001b[0;34m\u001b[0m\u001b[0m\n\u001b[1;32m     25\u001b[0m \u001b[0;34m\u001b[0m\u001b[0m\n\u001b[0;32m---> 26\u001b[0;31m print(f'source_bh:{len(source_bh)} ; source_pz:{len(source_pz)} ; source_litho:{len(source_litho)} ; '\n\u001b[0m\u001b[1;32m     27\u001b[0m      \u001b[0;34mf'source_Fac-uknw:{len(source_ukw)} ; source_an:{len(source_an)} ;\\nsource_ech_df:{len(source_ech_df)} ;'\u001b[0m\u001b[0;34m\u001b[0m\u001b[0;34m\u001b[0m\u001b[0m\n\u001b[1;32m     28\u001b[0m      f'source_ech_df:{len(source_ech_df)} ; source_mes_pz:{len(source_mes_pz)} ; source_mes_sol:{len(source_mes_sol)} ;')\n",
      "\u001b[0;31mNameError\u001b[0m: name 'source_mes_pz' is not defined"
     ]
    }
   ],
   "source": [
    "if not os.path.exists(tmp_dir):\n",
    "    os.makedirs(tmp_dir), os.makedirs(tmp_dir+'source_merge/') \n",
    "\n",
    "#bh.to_csv(tmp_dir+'source_merge/source_Boreholes.csv', index=False)\n",
    "#pz.to_csv(tmp_dir+sheet+'_Piezometers.csv', index=False)\n",
    "#ouv.to_csv(tmp_dir+sheet+'_Unkown-facility.csv', index=False)\n",
    "#litho.to_csv(tmp_dir+sheet+'_Lithology.csv', index=False)\n",
    "#mes_pz.to_csv(tmp_dir+sheet+'_Measures.csv', index=False)\n",
    "#mes_sol.to_csv(tmp_dir+sheet+'_Measures-soil.csv', index=False)\n",
    "#ech_df.to_csv(tmp_dir+sheet+'_Samples-water.csv', index=False)\n",
    "ech_df.to_csv(tmp_dir+sheet+'_Samples-soil.csv', index=False)\n",
    "an.to_csv(tmp_dir+sheet+'_Analysis.csv', index=False)\n",
    "\n",
    "\n",
    "#source_bh.to_csv(tmp_dir+'source_merge/source_Boreholes.csv', index=False)\n",
    "#source_pz.to_csv(tmp_dir+'source_merge/source_Piezometers.csv', index=False)\n",
    "#source_ukw.to_csv(tmp_dir+'source_merge/source_Unkown-facility.csv', index=False)\n",
    "#source_litho.to_csv(tmp_dir+'source_merge/source_Lithology.csv', index=False)\n",
    "#source_mes_pz.to_csv(tmp_dir+'source_merge/source_Measures.csv', index=False)\n",
    "#source_mes_sol.to_csv(tmp_dir+'source_merge/source_Measures-soil.csv', index=False)\n",
    "#source_ech_df.to_csv(tmp_dir+'source_merge/source_Samples-water.csv', index=False)\n",
    "source_ech_df.to_csv(tmp_dir+'source_merge/source_Samples-soil.csv', index=False)\n",
    "source_an.to_csv(tmp_dir+'source_merge/source_Analysis.csv', index=False)\n",
    "\n",
    "\n",
    "print(f'source_bh:{len(source_bh)} ; source_pz:{len(source_pz)} ; source_litho:{len(source_litho)} ; '\n",
    "     f'source_Fac-uknw:{len(source_ukw)} ; source_an:{len(source_an)} ;\\nsource_ech_df:{len(source_ech_df)} ;'\n",
    "     f'source_ech_df:{len(source_ech_df)} ; source_mes_pz:{len(source_mes_pz)} ; source_mes_sol:{len(source_mes_sol)} ;')"
   ]
  },
  {
   "cell_type": "markdown",
   "id": "static-diversity",
   "metadata": {},
   "source": [
    "* **Sheet : 'Paramètres agro.'**"
   ]
  },
  {
   "cell_type": "code",
   "execution_count": null,
   "id": "shaped-coating",
   "metadata": {},
   "outputs": [],
   "source": [
    "tmp_dir=ROOT_DIR + '/CF_data/Result_traitem/Container_phyto/'\n",
    "sheet='Param_agro'"
   ]
  },
  {
   "cell_type": "code",
   "execution_count": null,
   "id": "theoretical-defensive",
   "metadata": {},
   "outputs": [],
   "source": [
    "df = pd.read_excel(ROOT_DIR + '/CF_data/Data_UMONS/Contamination/Résultats et mesures Siterem/'\n",
    "                   'Résultats SOL container phyto t=0_décret sol.xls', sheet_name='Paramètres agro.', skiprows=4)\n",
    "df=na_line_drop(df,0)\n",
    "df=na_col_drop(df,1)\n",
    "df.replace(r'<|>','', inplace=True, regex=True)\n",
    "df.replace(r'-$',np.nan, inplace=True, regex=True)\n",
    "\n",
    "dataframe_viewer(df, rows=5)"
   ]
  },
  {
   "cell_type": "code",
   "execution_count": null,
   "id": "statewide-roommate",
   "metadata": {},
   "outputs": [],
   "source": [
    "df=df.transpose()\n",
    "df.reset_index(drop=True, inplace=True)\n",
    "df=col_ren(df, 0)"
   ]
  },
  {
   "cell_type": "code",
   "execution_count": null,
   "id": "neither-charity",
   "metadata": {},
   "outputs": [],
   "source": [
    "df.drop(list(range(1)), axis=0, inplace=True)\n",
    "df.reset_index(drop=True, inplace=True)"
   ]
  },
  {
   "cell_type": "code",
   "execution_count": null,
   "id": "fifty-germany",
   "metadata": {},
   "outputs": [],
   "source": [
    "df=dble_col_drop(df)"
   ]
  },
  {
   "cell_type": "code",
   "execution_count": null,
   "id": "scientific-breach",
   "metadata": {
    "scrolled": true
   },
   "outputs": [],
   "source": [
    "df=na_col_drop(df,1)\n",
    "df=na_line_drop(df,3)\n",
    "df.reset_index(drop=True, inplace=True)"
   ]
  },
  {
   "cell_type": "code",
   "execution_count": null,
   "id": "modified-decline",
   "metadata": {},
   "outputs": [],
   "source": [
    "df.drop(columns=df.columns[[5,6]], axis=2, inplace=True)"
   ]
  },
  {
   "cell_type": "code",
   "execution_count": null,
   "id": "forward-poland",
   "metadata": {},
   "outputs": [],
   "source": [
    "df.columns"
   ]
  },
  {
   "cell_type": "code",
   "execution_count": null,
   "id": "plain-evanescence",
   "metadata": {},
   "outputs": [],
   "source": [
    "name=['ID_ech','Ech_top','Ech_base','MS','Date_ech','MO','Residu_perte_feu','COT','Fract_arg','Fract_min_2µ', \n",
    "      'Fract_min_50µ', 'Fract_min_2', 'Fract_2', 'Fract_2+', 'pH_KCl','Tem_pH_mes', 'pH_H20', 'sulfures_tot', \n",
    "      'chlorures', 'azote_Kjeldahl']\n",
    "df=col_ren(df, name=name, mode=1)\n",
    "df.insert(1,'Type_ech','Sol')"
   ]
  },
  {
   "cell_type": "code",
   "execution_count": null,
   "id": "posted-specialist",
   "metadata": {},
   "outputs": [],
   "source": [
    "ech_df=df"
   ]
  },
  {
   "cell_type": "code",
   "execution_count": null,
   "id": "breathing-brunswick",
   "metadata": {
    "scrolled": false
   },
   "outputs": [],
   "source": [
    "dataframe_viewer(ech_df, rows=5)"
   ]
  },
  {
   "cell_type": "code",
   "execution_count": null,
   "id": "ahead-illness",
   "metadata": {},
   "outputs": [],
   "source": [
    "data_merger(source_ech_df, ech_df, on='ID_ech', how='outer', )[0]"
   ]
  },
  {
   "cell_type": "code",
   "execution_count": null,
   "id": "postal-medium",
   "metadata": {
    "scrolled": false
   },
   "outputs": [],
   "source": [
    "if not os.path.exists(tmp_dir):\n",
    "    os.makedirs(tmp_dir), os.makedirs(tmp_dir+'source_merge/') \n",
    "\n",
    "#bh.to_csv(tmp_dir+'source_merge/source_Boreholes.csv', index=False)\n",
    "#pz.to_csv(tmp_dir+sheet+'_Piezometers.csv', index=False)\n",
    "#ouv.to_csv(tmp_dir+sheet+'_Unkown-facility.csv', index=False)\n",
    "#litho.to_csv(tmp_dir+sheet+'_Lithology.csv', index=False)\n",
    "#mes_pz.to_csv(tmp_dir+sheet+'_Measures.csv', index=False)\n",
    "#mes_sol.to_csv(tmp_dir+sheet+'_Measures-soil.csv', index=False)\n",
    "#ech_df.to_csv(tmp_dir+sheet+'_Samples-water.csv', index=False)\n",
    "ech_df.to_csv(tmp_dir+sheet+'_Samples-soil.csv', index=False)\n",
    "#an.to_csv(tmp_dir+sheet+'_Analysis.csv', index=False)\n",
    "\n",
    "\n",
    "#source_bh.to_csv(tmp_dir+'source_merge/source_Boreholes.csv', index=False)\n",
    "#source_pz.to_csv(tmp_dir+'source_merge/source_Piezometers.csv', index=False)\n",
    "#source_ukw.to_csv(tmp_dir+'source_merge/source_Unkown-facility.csv', index=False)\n",
    "#source_litho.to_csv(tmp_dir+'source_merge/source_Lithology.csv', index=False)\n",
    "#source_mes_pz.to_csv(tmp_dir+'source_merge/source_Measures.csv', index=False)\n",
    "#source_mes_sol.to_csv(tmp_dir+'source_merge/source_Measures-soil.csv', index=False)\n",
    "#source_ech_df.to_csv(tmp_dir+'source_merge/source_Samples-water.csv', index=False)\n",
    "source_ech_df.to_csv(tmp_dir+'source_merge/source_Samples-soil.csv', index=False)\n",
    "#source_an.to_csv(tmp_dir+'source_merge/source_Analysis.csv', index=False)\n",
    "\n",
    "\n",
    "print(f'source_bh:{len(source_bh)} ; source_pz:{len(source_pz)} ; source_litho:{len(source_litho)} ; '\n",
    "     f'source_Fac-uknw:{len(source_ukw)} ; source_an:{len(source_an)} ;\\nsource_ech_df:{len(source_ech_df)} ;'\n",
    "     f'source_ech_df:{len(source_ech_df)} ; source_mes_pz:{len(source_mes_pz)} ; source_mes_sol:{len(source_mes_sol)} ;')"
   ]
  },
  {
   "cell_type": "markdown",
   "id": "b9a18061",
   "metadata": {},
   "source": [
    "#### ======================================================================================"
   ]
  },
  {
   "cell_type": "raw",
   "id": "a09ebb9c",
   "metadata": {},
   "source": [
    "hwg continue above"
   ]
  },
  {
   "cell_type": "raw",
   "id": "548b08aa",
   "metadata": {
    "scrolled": false
   },
   "source": [
    "dataframe_viewer(ech_df, rows=3, un_val=['ID','ID_ech']), dataframe_viewer(an, rows=3, un_val=['ID','ID_ech'])"
   ]
  },
  {
   "cell_type": "raw",
   "id": "4cd3813e",
   "metadata": {},
   "source": [
    "source_vars = [source_bh, source_mes, source_litho, source_an, source_eqp, source_ukw]\n",
    "[i for i in range(len(source_vars)) if len(source_vars[i]) != 0]"
   ]
  },
  {
   "cell_type": "code",
   "execution_count": null,
   "id": "2e022dce",
   "metadata": {},
   "outputs": [],
   "source": [
    "# initialisation des variables\n",
    "_df = pd.DataFrame()\n",
    "source_bh, source_eqp, source_ukw = _df, _df, _df\n",
    "source_litho, source_an, source_mes = _df, _df, _df\n",
    "\n",
    "print(f'source_bh: {len(source_bh)} ; source_eqp: {len(source_eqp)} ; source_uknw: {len(source_ukw)} ; '\n",
    "      f'source_litho: {len(source_litho)} ; source_an: {len(source_an)} ; source_mes: {len(source_mes)}')"
   ]
  },
  {
   "cell_type": "markdown",
   "id": "organized-copying",
   "metadata": {},
   "source": [
    "## 11-Resultats_Siterem_eau_extension_pilote_jusque_decembre_2020.xlsx\n",
    "* **Sheet : 'Résult EAU'**"
   ]
  },
  {
   "cell_type": "code",
   "execution_count": null,
   "id": "alpine-nitrogen",
   "metadata": {},
   "outputs": [],
   "source": [
    "tmp_dir=ROOT_DIR + '/CF_data/Result_traitem/Siterem_Ext_Pilote/'\n",
    "sheet='Result_eau'"
   ]
  },
  {
   "cell_type": "code",
   "execution_count": null,
   "id": "technical-montana",
   "metadata": {},
   "outputs": [],
   "source": [
    "df = pd.read_excel(ROOT_DIR + '/CF_data/Data_SITEREM/Resultats_Siterem_eau_extension_pilote_jusque_decembre_2020.xlsx', \n",
    "                   sheet_name='Résult EAU', skiprows=2)\n",
    "df=na_line_drop(df,0)\n",
    "df=na_col_drop(df,1)\n",
    "df.replace(r'<|>','', inplace=True, regex=True)\n",
    "df.replace(r'-$',np.nan, inplace=True, regex=True)\n",
    "\n",
    "dataframe_viewer(df, rows=5)"
   ]
  },
  {
   "cell_type": "raw",
   "id": "a61ee6a9",
   "metadata": {},
   "source": [
    "indexes = list(range(1,5))+list(range(32, len(df)))\n",
    "df.loc[indexes]"
   ]
  },
  {
   "cell_type": "code",
   "execution_count": null,
   "id": "focal-turtle",
   "metadata": {},
   "outputs": [],
   "source": [
    "ech_df=df.loc[:31]\n",
    "an=df.loc[list(range(0,4))+list(range(32, len(df)))]"
   ]
  },
  {
   "cell_type": "code",
   "execution_count": null,
   "id": "nasty-algorithm",
   "metadata": {},
   "outputs": [],
   "source": [
    "an = an.sort_index().reset_index(drop=True)"
   ]
  },
  {
   "cell_type": "code",
   "execution_count": null,
   "id": "threatened-spokesman",
   "metadata": {},
   "outputs": [],
   "source": [
    "ech_df=ech_df.transpose()\n",
    "ech_df.reset_index(drop=True, inplace=True)\n",
    "ech_df=col_ren(ech_df, 1)"
   ]
  },
  {
   "cell_type": "code",
   "execution_count": null,
   "id": "phantom-firewall",
   "metadata": {},
   "outputs": [],
   "source": [
    "ech_df=dble_col_drop(ech_df)"
   ]
  },
  {
   "cell_type": "code",
   "execution_count": null,
   "id": "global-capacity",
   "metadata": {},
   "outputs": [],
   "source": [
    "ech_df.drop(list(range(5)), axis=0, inplace=True)\n",
    "ech_df.reset_index(drop=True, inplace=True)\n",
    "ech_df=na_col_drop(ech_df,2)\n",
    "ech_df=na_line_drop(ech_df,3)\n",
    "ech_df.reset_index(drop=True, inplace=True)"
   ]
  },
  {
   "cell_type": "code",
   "execution_count": null,
   "id": "therapeutic-aaron",
   "metadata": {},
   "outputs": [],
   "source": [
    "name=['ID_ech', 'Periode', 'Emplacement','Date_ech','pH','Temp_prv','Temp_pH']\n",
    "ech_df=col_ren(ech_df, name=name, mode=1)\n",
    "ech_df=ech_df.query('ID_ech==ID_ech')\n",
    "ech_df.insert(1,'Type_ech','Eau')"
   ]
  },
  {
   "cell_type": "code",
   "execution_count": null,
   "id": "entitled-stephen",
   "metadata": {
    "scrolled": false
   },
   "outputs": [],
   "source": [
    "dataframe_viewer(ech_df, rows=3)"
   ]
  },
  {
   "cell_type": "code",
   "execution_count": null,
   "id": "reasonable-platform",
   "metadata": {},
   "outputs": [],
   "source": [
    "an=an.transpose()\n",
    "an.reset_index(drop=True, inplace=True)"
   ]
  },
  {
   "cell_type": "code",
   "execution_count": null,
   "id": "floating-baseline",
   "metadata": {},
   "outputs": [],
   "source": [
    "an=col_ren(an, 1)"
   ]
  },
  {
   "cell_type": "code",
   "execution_count": null,
   "id": "tired-livestock",
   "metadata": {},
   "outputs": [],
   "source": [
    "an.replace(r'<|>','', inplace=True, regex=True)\n",
    "an.replace(r'-',np.nan, inplace=True, regex=True)\n",
    "an.rename(columns={an.columns[0]:'ID_ech'}, inplace=True)"
   ]
  },
  {
   "cell_type": "code",
   "execution_count": null,
   "id": "indian-annotation",
   "metadata": {},
   "outputs": [],
   "source": [
    "an=dble_col_drop(an)"
   ]
  },
  {
   "cell_type": "code",
   "execution_count": null,
   "id": "connected-arthritis",
   "metadata": {},
   "outputs": [],
   "source": [
    "# rename in a first time before dropping columns (because of names like 'col_xx' in columns)\n",
    "name=['ID_ech', 'Periode', 'Emplacement','Date_ech', 'METAUX LOURDS', 'Arsenic', 'Cadmium', 'Chrome', 'Cuivre',\n",
    "      'Mercure', 'Plomb', 'Nickel', 'Zinc', \n",
    "      'CYANURES',\"Cyanures (libres)  -  NEN-EN-ISO 14403\", \"CN_totaux - NEN-EN-ISO 14403\", \n",
    "      \"cyanure (APE) - méthode basée sur EPA 335.3\", \"cyanure complex - méthode interne \", \n",
    "      \"thiocyanate - méthode interne\", \"COMPOSES AROMATIQUES VOLATILS\", \"Benzène\", \"Toluène\", \"Éthylbenzène\",\n",
    "      \"Orthoxylène\", \"Para- et métaxylène\", \"Xylènes\", \"Styrène\", \"PHENOLS\", \"Phénol\", \"Indice phénol\", \n",
    "      \"HYDROCARBURES AROMATIQUES POLYCYCLIQUES\", \"Naphtalène\", \"Acénaphtylène\", \"Acénaphtène\", \"Fluorène\", \n",
    "      \"Phénanthrène\", \"Anthracène\", \"Fluoranthène\", \"Pyrène\", \"Benzo(a)anthracène\", \"Chrysène\", \n",
    "      \"Benzo(b)fluoranthène\", \"Benzo(k)fluoranthène\", \"Benzo(a)pyrène\", \"Dibenzo(ah)anthracène\", \n",
    "      \"Benzo(ghi)pérylène\", \"Indéno(1,2,3-cd)pyrène\", \"HAP Totaux (16) - EPA\", \n",
    "      \"COMPOSES ORGANOCHLORES VOLATILS\", \"1,1-Dichloroéthane\", \"1,2-Dichloroéthane\", \n",
    "      \"1,1-dichloroéthène\", \"Cis-1,2-dichloroéthène\", \"Totaux (cis,trans) 1,2-dichloroéthènes\", \n",
    "      \"Trans 1,2-dichloroéthylène\", \"Dichlorométhane\", \"1,2-dichloropropane\", \"Tétrachloroéthylène \", \n",
    "      \"Tétrachlorométhane\", \"1,1,1-Trichloroéthane\", \"1,1,2-Trichloroéthane\", \"Trichloroéthylène\",\n",
    "      \"Chloroforme\", \"Chlorure de vinyle\", \"HYDROCARBURES TOTAUX\", \"fraction aromat. >C6-C7\", \n",
    "      \"fraction aromat. >C7-C8\", \"fraction aromat. >C8-C10\", \"fraction aliphat. C5-C6\", \"fraction aliphat. >C6-C8\",\n",
    "      \"fraction aliphat. >C8-C10\", \"Fraction C5 - C8\", \"Fraction C8 - C10\", \"Fraction C10-C12\", \"Fraction C12-C16\",\n",
    "      \"Fraction C16 - C21\", \"Fraction C21 - C35\", \"Hydrocarbures totaux C10-C35\", \"METHYL-TERT-BUTYL-ETHER\", \"MTBE\",\n",
    "     \"a\",\"b\",\"c\",\"d\",\"e\",\"f\",\"g\"]\n",
    "\n",
    "an=col_ren(an, name=name, mode=1)\n",
    "an=an.iloc[:,:-7]"
   ]
  },
  {
   "cell_type": "code",
   "execution_count": null,
   "id": "desirable-elements",
   "metadata": {},
   "outputs": [],
   "source": [
    "an.drop(list(range(3)), axis=0, inplace=True)\n",
    "an.reset_index(drop=True, inplace=True)\n",
    "an=na_col_drop(an,1)\n",
    "an.insert(1,'Type_ech','Eau')"
   ]
  },
  {
   "cell_type": "code",
   "execution_count": null,
   "id": "interested-exposure",
   "metadata": {},
   "outputs": [],
   "source": [
    "an=col_ren(an, name=POL_NAMES_MODEL, mode=1)"
   ]
  },
  {
   "cell_type": "code",
   "execution_count": null,
   "id": "impressive-absence",
   "metadata": {
    "scrolled": true
   },
   "outputs": [],
   "source": [
    "dataframe_viewer(an, rows=3)"
   ]
  },
  {
   "cell_type": "code",
   "execution_count": null,
   "id": "ready-korea",
   "metadata": {},
   "outputs": [],
   "source": [
    "source_ech_df=ech_df\n",
    "source_an=an"
   ]
  },
  {
   "cell_type": "code",
   "execution_count": null,
   "id": "administrative-guide",
   "metadata": {
    "scrolled": false
   },
   "outputs": [],
   "source": [
    "if not os.path.exists(tmp_dir):\n",
    "    os.makedirs(tmp_dir), os.makedirs(tmp_dir+'source_merge/') \n",
    "\n",
    "#bh.to_csv(tmp_dir+'source_merge/source_Boreholes.csv', index=False)\n",
    "#pz.to_csv(tmp_dir+sheet+'_Piezometers.csv', index=False)\n",
    "#ouv.to_csv(tmp_dir+sheet+'_Unkown-facility.csv', index=False)\n",
    "#litho.to_csv(tmp_dir+sheet+'_Lithology.csv', index=False)\n",
    "#mes_pz.to_csv(tmp_dir+sheet+'_Measures.csv', index=False)\n",
    "#mes_sol.to_csv(tmp_dir+sheet+'_Measures-soil.csv', index=False)\n",
    "ech_df.to_csv(tmp_dir+sheet+'_Samples-water.csv', index=False)\n",
    "#ech_df.to_csv(tmp_dir+sheet+'_Samples-soil.csv', index=False)\n",
    "an.to_csv(tmp_dir+sheet+'_Analysis.csv', index=False)\n",
    "\n",
    "\n",
    "#source_bh.to_csv(tmp_dir+'source_merge/source_Boreholes.csv', index=False)\n",
    "#source_pz.to_csv(tmp_dir+'source_merge/source_Piezometers.csv', index=False)\n",
    "#source_ukw.to_csv(tmp_dir+'source_merge/source_Unkown-facility.csv', index=False)\n",
    "#source_litho.to_csv(tmp_dir+'source_merge/source_Lithology.csv', index=False)\n",
    "#source_mes_pz.to_csv(tmp_dir+'source_merge/source_Measures.csv', index=False)\n",
    "#source_mes_sol.to_csv(tmp_dir+'source_merge/source_Measures-soil.csv', index=False)\n",
    "source_ech_df.to_csv(tmp_dir+'source_merge/source_Samples-water.csv', index=False)\n",
    "#source_ech_df.to_csv(tmp_dir+'source_merge/source_Samples-soil.csv', index=False)\n",
    "source_an.to_csv(tmp_dir+'source_merge/source_Analysis.csv', index=False)\n",
    "\n",
    "\n",
    "print(f'source_bh:{len(source_bh)} ; source_pz:{len(source_pz)} ; source_litho:{len(source_litho)} ; '\n",
    "     f'source_Fac-uknw:{len(source_ukw)} ; source_an:{len(source_an)} ;\\nsource_ech_df:{len(source_ech_df)} ;'\n",
    "     f'source_ech_df:{len(source_ech_df)} ; source_mes_pz:{len(source_mes_pz)} ; source_mes_sol:{len(source_mes_sol)} ;')"
   ]
  },
  {
   "cell_type": "markdown",
   "id": "alive-study",
   "metadata": {},
   "source": [
    "* **Sheet : 'Param physico'**"
   ]
  },
  {
   "cell_type": "code",
   "execution_count": null,
   "id": "postal-patio",
   "metadata": {},
   "outputs": [],
   "source": [
    "tmp_dir=ROOT_DIR + '/CF_data/Result_traitem/Siterem_Ext_Pilote/'\n",
    "sheet='Param_physico'"
   ]
  },
  {
   "cell_type": "code",
   "execution_count": null,
   "id": "fabulous-litigation",
   "metadata": {},
   "outputs": [],
   "source": [
    "df = pd.read_excel(ROOT_DIR + '/CF_data/Data_SITEREM/Resultats_Siterem_eau_extension_pilote_jusque_decembre_2020.xlsx', \n",
    "                   sheet_name='param. physico', skiprows=2)\n",
    "df=na_line_drop(df,0)\n",
    "df=na_col_drop(df,1)\n",
    "df.replace(r'<|>','', inplace=True, regex=True)\n",
    "df.replace(r'-$',np.nan, inplace=True, regex=True)\n",
    "\n",
    "dataframe_viewer(df, rows=5)"
   ]
  },
  {
   "cell_type": "code",
   "execution_count": null,
   "id": "tough-sewing",
   "metadata": {},
   "outputs": [],
   "source": [
    "df=df.transpose()\n",
    "df.reset_index(drop=True, inplace=True)"
   ]
  },
  {
   "cell_type": "code",
   "execution_count": null,
   "id": "alpha-concrete",
   "metadata": {},
   "outputs": [],
   "source": [
    "df=col_ren(df, 1)"
   ]
  },
  {
   "cell_type": "code",
   "execution_count": null,
   "id": "noticed-supplement",
   "metadata": {},
   "outputs": [],
   "source": [
    "df.drop(list(range(2)), axis=0, inplace=True)\n",
    "df.reset_index(drop=True, inplace=True)"
   ]
  },
  {
   "cell_type": "code",
   "execution_count": null,
   "id": "floating-sweet",
   "metadata": {},
   "outputs": [],
   "source": [
    "sdf=df.iloc[:,:33]\n",
    "df=df.iloc[:,34:]"
   ]
  },
  {
   "cell_type": "code",
   "execution_count": null,
   "id": "basic-marking",
   "metadata": {},
   "outputs": [],
   "source": [
    "df=dble_col_drop(df)\n",
    "sdf=dble_col_drop(sdf)"
   ]
  },
  {
   "cell_type": "code",
   "execution_count": null,
   "id": "labeled-consolidation",
   "metadata": {},
   "outputs": [],
   "source": [
    "df=na_line_drop(df,1)\n",
    "sdf=na_line_drop(sdf,1)"
   ]
  },
  {
   "cell_type": "code",
   "execution_count": null,
   "id": "closed-spoke",
   "metadata": {},
   "outputs": [],
   "source": [
    "df=na_col_drop(df,1)\n",
    "sdf=na_col_drop(sdf,1)"
   ]
  },
  {
   "cell_type": "code",
   "execution_count": null,
   "id": "sonic-immigration",
   "metadata": {},
   "outputs": [],
   "source": [
    "name=['ID_ech','Periode','Emplacement','Date_ech','Niv_eau_pz','Long_pz','Temp_prv ','pH', 'CE', 'ORP','O_diss']\n",
    "df=col_ren(df, mode=1, name=name)"
   ]
  },
  {
   "cell_type": "code",
   "execution_count": null,
   "id": "adult-conversion",
   "metadata": {},
   "outputs": [],
   "source": [
    "sdf=sdf.iloc[:,:-1]\n",
    "name=['ID_ech','Periode','Emplacement','Date_ech','Niv_eau_pz','Niv_eau_chbre','pH','Niv_eau_sol','Long_pz',\n",
    "      'Temp_prv ','CE','ORP','O_diss']\n",
    "sdf=col_ren(sdf, mode=1, name=name)"
   ]
  },
  {
   "cell_type": "code",
   "execution_count": null,
   "id": "mature-occasions",
   "metadata": {},
   "outputs": [],
   "source": [
    "df['CE']=df['CE'].apply(lambda x: pd.to_numeric(x)/1000 \n",
    "                                  if re.search('^\\d+', str(x)) and not pd.isnull(x) else np.nan)\n",
    "sdf['CE']=sdf['CE'].apply(lambda x: pd.to_numeric(x)/1000 \n",
    "                                  if re.search('^\\d+', str(x)) and not pd.isnull(x) else np.nan)"
   ]
  },
  {
   "cell_type": "code",
   "execution_count": null,
   "id": "ecological-thomson",
   "metadata": {},
   "outputs": [],
   "source": [
    "sdf['Periode'].replace('\\n',' ', regex=True, inplace=True)\n",
    "sdf.replace('\\n','', regex=True, inplace=True)"
   ]
  },
  {
   "cell_type": "code",
   "execution_count": null,
   "id": "tracked-course",
   "metadata": {
    "scrolled": true
   },
   "outputs": [],
   "source": [
    "data=[df, sdf]\n",
    "for d in data:\n",
    "    d['Rmq']=''\n",
    "    for i in range(len(d['ID_ech'])):\n",
    "        e=str(d.loc[i, 'Emplacement'])\n",
    "        n=str(d.loc[i, 'ID_ech'])\n",
    "        d.loc[i,'ID_ech']=n.replace('*', '')\n",
    "        \n",
    "        if re.match('S',e, re.I): \n",
    "            d.loc[i,'Emplacement']='Simulateur'\n",
    "        elif re.match('HZS',e, re.I): \n",
    "            d.loc[i,'Emplacement']='Hors simulateur'\n",
    "        else:\n",
    "            d.loc[i,'Emplacement']=np.nan\n",
    "        \n",
    "        if re.match('\\d+\\*{1}$',n, re.I): \n",
    "            d.loc[i,'Rmq']=\"mesures faites dans un seau (débit non continu ou peu de débit)\"\n",
    "        elif re.match('\\d+\\*{2}$',n, re.I): \n",
    "            d.loc[i,'Rmq']=\"mésures faites dans une eau quasi-stagnante (Piezo rempli de sédiment et débit très faible)\""
   ]
  },
  {
   "cell_type": "code",
   "execution_count": null,
   "id": "intimate-pregnancy",
   "metadata": {},
   "outputs": [],
   "source": [
    "df.insert(1, 'Type_ech', 'Eau')\n",
    "sdf.insert(1, 'Type_ech', 'Eau')"
   ]
  },
  {
   "cell_type": "code",
   "execution_count": null,
   "id": "further-blind",
   "metadata": {},
   "outputs": [],
   "source": [
    "ech_df=data_merger(sdf, df, 'outer', 'ID_ech')[0]"
   ]
  },
  {
   "cell_type": "code",
   "execution_count": null,
   "id": "scheduled-prize",
   "metadata": {},
   "outputs": [],
   "source": [
    "ech_df=na_col_drop(df,2)\n",
    "ech_df=na_line_drop(df,1)\n",
    "ech_df.reset_index(drop=True, inplace=True)"
   ]
  },
  {
   "cell_type": "code",
   "execution_count": null,
   "id": "58350c1b",
   "metadata": {},
   "outputs": [],
   "source": [
    "for i in ech_df.index:\n",
    "    if not pd.isnull(ech_df.loc[i, 'Emplacement']):\n",
    "        val = ech_df.loc[i, 'Emplacement']\n",
    "    else:\n",
    "        ech_df.loc[i, 'Emplacement'] = val"
   ]
  },
  {
   "cell_type": "code",
   "execution_count": null,
   "id": "literary-nicaragua",
   "metadata": {
    "scrolled": true
   },
   "outputs": [],
   "source": [
    "dataframe_viewer(ech_df, rows=3)"
   ]
  },
  {
   "cell_type": "code",
   "execution_count": null,
   "id": "unavailable-force",
   "metadata": {},
   "outputs": [],
   "source": [
    "source_ech_df, conflict_df = data_merger(source_ech_df, ech_df, on=['ID_ech', 'Date_ech'], how='outer')"
   ]
  },
  {
   "cell_type": "code",
   "execution_count": null,
   "id": "b4495851",
   "metadata": {},
   "outputs": [],
   "source": [
    "dataframe_viewer(conflict_df, rows=3)"
   ]
  },
  {
   "cell_type": "code",
   "execution_count": null,
   "id": "6692ab92",
   "metadata": {},
   "outputs": [],
   "source": [
    "data_validation(overall_data=source_ech_df, conflict_data=conflict_df, index_col='index', \n",
    "                valid_dict={'Emplacement_x':list(conflict_df.index), 'pH_y':list(conflict_df.index), \n",
    "                           'Periode_x':list(conflict_df.index)})"
   ]
  },
  {
   "cell_type": "code",
   "execution_count": 595,
   "id": "higher-visiting",
   "metadata": {
    "scrolled": false
   },
   "outputs": [
    {
     "ename": "NameError",
     "evalue": "name 'source_mes_pz' is not defined",
     "output_type": "error",
     "traceback": [
      "\u001b[0;31m---------------------------------------------------------------------------\u001b[0m",
      "\u001b[0;31mNameError\u001b[0m                                 Traceback (most recent call last)",
      "\u001b[0;32m/tmp/ipykernel_8568/44709357.py\u001b[0m in \u001b[0;36m<module>\u001b[0;34m\u001b[0m\n\u001b[1;32m     24\u001b[0m \u001b[0;34m\u001b[0m\u001b[0m\n\u001b[1;32m     25\u001b[0m \u001b[0;34m\u001b[0m\u001b[0m\n\u001b[0;32m---> 26\u001b[0;31m print(f'source_bh:{len(source_bh)} ; source_pz:{len(source_pz)} ; source_litho:{len(source_litho)} ; '\n\u001b[0m\u001b[1;32m     27\u001b[0m      \u001b[0;34mf'source_Fac-uknw:{len(source_ukw)} ; source_an:{len(source_an)} ;\\nsource_ech_df:{len(source_ech_df)} ;'\u001b[0m\u001b[0;34m\u001b[0m\u001b[0;34m\u001b[0m\u001b[0m\n\u001b[1;32m     28\u001b[0m      f'source_ech_df:{len(source_ech_df)} ; source_mes_pz:{len(source_mes_pz)} ; source_mes_sol:{len(source_mes_sol)} ;')\n",
      "\u001b[0;31mNameError\u001b[0m: name 'source_mes_pz' is not defined"
     ]
    }
   ],
   "source": [
    "if not os.path.exists(tmp_dir):\n",
    "    os.makedirs(tmp_dir), os.makedirs(tmp_dir+'source_merge/') \n",
    "\n",
    "#bh.to_csv(tmp_dir+'source_merge/source_Boreholes.csv', index=False)\n",
    "#pz.to_csv(tmp_dir+sheet+'_Piezometers.csv', index=False)\n",
    "#ouv.to_csv(tmp_dir+sheet+'_Unkown-facility.csv', index=False)\n",
    "#litho.to_csv(tmp_dir+sheet+'_Lithology.csv', index=False)\n",
    "#mes_pz.to_csv(tmp_dir+sheet+'_Measures.csv', index=False)\n",
    "#mes_sol.to_csv(tmp_dir+sheet+'_Measures-soil.csv', index=False)\n",
    "ech_df.to_csv(tmp_dir+sheet+'_Samples-water.csv', index=False)\n",
    "#ech_df.to_csv(tmp_dir+sheet+'_Samples-soil.csv', index=False)\n",
    "#an.to_csv(tmp_dir+sheet+'_Analysis.csv', index=False)\n",
    "\n",
    "\n",
    "#source_bh.to_csv(tmp_dir+'source_merge/source_Boreholes.csv', index=False)\n",
    "#source_pz.to_csv(tmp_dir+'source_merge/source_Piezometers.csv', index=False)\n",
    "#source_ukw.to_csv(tmp_dir+'source_merge/source_Unkown-facility.csv', index=False)\n",
    "#source_litho.to_csv(tmp_dir+'source_merge/source_Lithology.csv', index=False)\n",
    "#source_mes_pz.to_csv(tmp_dir+'source_merge/source_Measures.csv', index=False)\n",
    "#source_mes_sol.to_csv(tmp_dir+'source_merge/source_Measures-soil.csv', index=False)\n",
    "source_ech_df.to_csv(tmp_dir+'source_merge/source_Samples-water.csv', index=False)\n",
    "#source_ech_df.to_csv(tmp_dir+'source_merge/source_Samples-soil.csv', index=False)\n",
    "#source_an.to_csv(tmp_dir+'source_merge/source_Analysis.csv', index=False)\n",
    "\n",
    "\n",
    "print(f'source_bh:{len(source_bh)} ; source_pz:{len(source_pz)} ; source_litho:{len(source_litho)} ; '\n",
    "     f'source_Fac-uknw:{len(source_ukw)} ; source_an:{len(source_an)} ;\\nsource_ech_df:{len(source_ech_df)} ;'\n",
    "     f'source_ech_df:{len(source_ech_df)} ; source_mes_pz:{len(source_mes_pz)} ; source_mes_sol:{len(source_mes_sol)} ;')"
   ]
  },
  {
   "cell_type": "markdown",
   "id": "knowing-crown",
   "metadata": {},
   "source": [
    "* **Sheet : 'Inorganiques et composés majeurs'**"
   ]
  },
  {
   "cell_type": "code",
   "execution_count": null,
   "id": "japanese-blame",
   "metadata": {},
   "outputs": [],
   "source": [
    "tmp_dir=ROOT_DIR + '/CF_data/Result_traitem/Siterem_Ext_Pilote/'\n",
    "sheet='Inorganic_major'"
   ]
  },
  {
   "cell_type": "code",
   "execution_count": null,
   "id": "legal-kitchen",
   "metadata": {},
   "outputs": [],
   "source": [
    "df = pd.read_excel(ROOT_DIR + '/CF_data/Data_SITEREM/Resultats_Siterem_eau_extension_pilote_jusque_decembre_2020.xlsx', \n",
    "                   sheet_name='inorganiques et composés majeur', skiprows=2)\n",
    "df=na_line_drop(df,0)\n",
    "df=na_col_drop(df,1)\n",
    "df.replace(r'<|>','', inplace=True, regex=True)\n",
    "df.replace(r'-$',np.nan, inplace=True, regex=True)\n",
    "\n",
    "dataframe_viewer(df, rows=5)"
   ]
  },
  {
   "cell_type": "code",
   "execution_count": null,
   "id": "broken-undergraduate",
   "metadata": {},
   "outputs": [],
   "source": [
    "ech_df=df.loc[:21]\n",
    "an=df.loc[list(range(0,4))+list(range(22, len(df)))]"
   ]
  },
  {
   "cell_type": "code",
   "execution_count": null,
   "id": "finished-native",
   "metadata": {},
   "outputs": [],
   "source": [
    "an = an.sort_index().reset_index(drop=True)"
   ]
  },
  {
   "cell_type": "code",
   "execution_count": null,
   "id": "genuine-florist",
   "metadata": {},
   "outputs": [],
   "source": [
    "ech_df=ech_df.transpose()\n",
    "ech_df.reset_index(drop=True, inplace=True)\n",
    "ech_df=col_ren(ech_df, 1)"
   ]
  },
  {
   "cell_type": "code",
   "execution_count": null,
   "id": "proper-happening",
   "metadata": {},
   "outputs": [],
   "source": [
    "ech_df=dble_col_drop(ech_df)"
   ]
  },
  {
   "cell_type": "code",
   "execution_count": null,
   "id": "ordered-egypt",
   "metadata": {},
   "outputs": [],
   "source": [
    "ech_df.drop(list(range(2)), axis=0, inplace=True)\n",
    "ech_df.reset_index(drop=True, inplace=True)\n",
    "ech_df=na_col_drop(ech_df,2)\n",
    "ech_df=na_line_drop(ech_df,2)\n",
    "ech_df.reset_index(drop=True, inplace=True)"
   ]
  },
  {
   "cell_type": "code",
   "execution_count": null,
   "id": "greater-belgium",
   "metadata": {},
   "outputs": [],
   "source": [
    "ech_df.columns"
   ]
  },
  {
   "cell_type": "code",
   "execution_count": 596,
   "id": "narrow-trading",
   "metadata": {},
   "outputs": [
    {
     "ename": "TypeError",
     "evalue": "Error! names list length and columns length are not the same.",
     "output_type": "error",
     "traceback": [
      "\u001b[0;31m---------------------------------------------------------------------------\u001b[0m",
      "\u001b[0;31mTypeError\u001b[0m                                 Traceback (most recent call last)",
      "\u001b[0;32m/tmp/ipykernel_8568/3902065290.py\u001b[0m in \u001b[0;36m<module>\u001b[0;34m\u001b[0m\n\u001b[1;32m      1\u001b[0m \u001b[0mname\u001b[0m\u001b[0;34m=\u001b[0m\u001b[0;34m[\u001b[0m\u001b[0;34m'ID_ech'\u001b[0m\u001b[0;34m,\u001b[0m \u001b[0;34m'Periode'\u001b[0m\u001b[0;34m,\u001b[0m \u001b[0;34m'Emplacement'\u001b[0m\u001b[0;34m,\u001b[0m\u001b[0;34m'Date_ech'\u001b[0m\u001b[0;34m,\u001b[0m\u001b[0;34m'Temp_prv'\u001b[0m\u001b[0;34m]\u001b[0m\u001b[0;34m\u001b[0m\u001b[0;34m\u001b[0m\u001b[0m\n\u001b[0;32m----> 2\u001b[0;31m \u001b[0mech_df\u001b[0m\u001b[0;34m=\u001b[0m\u001b[0mcol_ren\u001b[0m\u001b[0;34m(\u001b[0m\u001b[0mech_df\u001b[0m\u001b[0;34m,\u001b[0m \u001b[0mname\u001b[0m\u001b[0;34m=\u001b[0m\u001b[0mname\u001b[0m\u001b[0;34m,\u001b[0m \u001b[0mmode\u001b[0m\u001b[0;34m=\u001b[0m\u001b[0;36m1\u001b[0m\u001b[0;34m)\u001b[0m\u001b[0;34m\u001b[0m\u001b[0;34m\u001b[0m\u001b[0m\n\u001b[0m\u001b[1;32m      3\u001b[0m \u001b[0mech_df\u001b[0m\u001b[0;34m=\u001b[0m\u001b[0mech_df\u001b[0m\u001b[0;34m.\u001b[0m\u001b[0mquery\u001b[0m\u001b[0;34m(\u001b[0m\u001b[0;34m'ID_ech==ID_ech'\u001b[0m\u001b[0;34m)\u001b[0m\u001b[0;34m\u001b[0m\u001b[0;34m\u001b[0m\u001b[0m\n\u001b[1;32m      4\u001b[0m \u001b[0mech_df\u001b[0m\u001b[0;34m.\u001b[0m\u001b[0minsert\u001b[0m\u001b[0;34m(\u001b[0m\u001b[0;36m1\u001b[0m\u001b[0;34m,\u001b[0m\u001b[0;34m'Type_ech'\u001b[0m\u001b[0;34m,\u001b[0m\u001b[0;34m'Eau'\u001b[0m\u001b[0;34m)\u001b[0m\u001b[0;34m\u001b[0m\u001b[0;34m\u001b[0m\u001b[0m\n",
      "\u001b[0;32m~/Projects/GSDMA/utils/io.py\u001b[0m in \u001b[0;36mcol_ren\u001b[0;34m(df, row_num, mode, name, strip_regex, cutoff, col_num_sep, verbose)\u001b[0m\n\u001b[1;32m   1297\u001b[0m             \u001b[0;32mif\u001b[0m \u001b[0mlen\u001b[0m\u001b[0;34m(\u001b[0m\u001b[0mname\u001b[0m\u001b[0;34m)\u001b[0m \u001b[0;34m==\u001b[0m \u001b[0mlen\u001b[0m\u001b[0;34m(\u001b[0m\u001b[0mdata\u001b[0m\u001b[0;34m.\u001b[0m\u001b[0mcolumns\u001b[0m\u001b[0;34m)\u001b[0m\u001b[0;34m:\u001b[0m\u001b[0;34m\u001b[0m\u001b[0;34m\u001b[0m\u001b[0m\n\u001b[1;32m   1298\u001b[0m                 \u001b[0;32mfor\u001b[0m \u001b[0mi\u001b[0m \u001b[0;32min\u001b[0m \u001b[0mrange\u001b[0m\u001b[0;34m(\u001b[0m\u001b[0mlen\u001b[0m\u001b[0;34m(\u001b[0m\u001b[0mname\u001b[0m\u001b[0;34m)\u001b[0m\u001b[0;34m)\u001b[0m\u001b[0;34m:\u001b[0m\u001b[0;34m\u001b[0m\u001b[0;34m\u001b[0m\u001b[0m\n\u001b[0;32m-> 1299\u001b[0;31m                     \u001b[0mnew_names_dict\u001b[0m\u001b[0;34m.\u001b[0m\u001b[0mupdate\u001b[0m\u001b[0;34m(\u001b[0m\u001b[0;34m{\u001b[0m\u001b[0mdata\u001b[0m\u001b[0;34m.\u001b[0m\u001b[0mcolumns\u001b[0m\u001b[0;34m[\u001b[0m\u001b[0mi\u001b[0m\u001b[0;34m]\u001b[0m\u001b[0;34m:\u001b[0m \u001b[0mname\u001b[0m\u001b[0;34m[\u001b[0m\u001b[0mi\u001b[0m\u001b[0;34m]\u001b[0m\u001b[0;34m}\u001b[0m\u001b[0;34m)\u001b[0m\u001b[0;34m\u001b[0m\u001b[0;34m\u001b[0m\u001b[0m\n\u001b[0m\u001b[1;32m   1300\u001b[0m             \u001b[0;32melse\u001b[0m\u001b[0;34m:\u001b[0m\u001b[0;34m\u001b[0m\u001b[0;34m\u001b[0m\u001b[0m\n\u001b[1;32m   1301\u001b[0m                 \u001b[0;32mraise\u001b[0m \u001b[0;34m(\u001b[0m\u001b[0mTypeError\u001b[0m\u001b[0;34m(\u001b[0m\u001b[0;34m'Error! names list length and columns length are not the same.'\u001b[0m\u001b[0;34m)\u001b[0m\u001b[0;34m)\u001b[0m\u001b[0;34m\u001b[0m\u001b[0;34m\u001b[0m\u001b[0m\n",
      "\u001b[0;31mTypeError\u001b[0m: Error! names list length and columns length are not the same."
     ]
    }
   ],
   "source": [
    "name=['ID_ech', 'Periode', 'Emplacement','Date_ech','Temp_prv']\n",
    "ech_df=col_ren(ech_df, name=name, mode=1)\n",
    "ech_df=ech_df.query('ID_ech==ID_ech')\n",
    "ech_df.insert(1,'Type_ech','Eau')"
   ]
  },
  {
   "cell_type": "code",
   "execution_count": null,
   "id": "coral-spending",
   "metadata": {
    "scrolled": true
   },
   "outputs": [],
   "source": [
    "dataframe_viewer(ech_df, rows=3)"
   ]
  },
  {
   "cell_type": "code",
   "execution_count": null,
   "id": "healthy-synthesis",
   "metadata": {},
   "outputs": [],
   "source": [
    "an=an.transpose()\n",
    "an.reset_index(drop=True, inplace=True)"
   ]
  },
  {
   "cell_type": "code",
   "execution_count": 597,
   "id": "bronze-history",
   "metadata": {},
   "outputs": [],
   "source": [
    "an=col_ren(an, 1)"
   ]
  },
  {
   "cell_type": "code",
   "execution_count": 598,
   "id": "arranged-sociology",
   "metadata": {},
   "outputs": [],
   "source": [
    "an.replace(r'<|>','', inplace=True, regex=True)\n",
    "an.replace(r'-',np.nan, inplace=True, regex=True)\n",
    "an.rename(columns={an.columns[0]:'ID_ech'}, inplace=True)"
   ]
  },
  {
   "cell_type": "code",
   "execution_count": 599,
   "id": "worldwide-struggle",
   "metadata": {},
   "outputs": [
    {
     "name": "stdout",
     "output_type": "stream",
     "text": [
      "column(s) dropped: []\n"
     ]
    }
   ],
   "source": [
    "an=dble_col_drop(an)"
   ]
  },
  {
   "cell_type": "code",
   "execution_count": 600,
   "id": "protected-decrease",
   "metadata": {},
   "outputs": [],
   "source": [
    "an=na_col_drop(an,3)"
   ]
  },
  {
   "cell_type": "code",
   "execution_count": 601,
   "id": "loaded-thong",
   "metadata": {},
   "outputs": [
    {
     "data": {
      "text/plain": [
       "Index(['ID_ech', 'Sol', 'Eau', '0.06'], dtype='object')"
      ]
     },
     "execution_count": 601,
     "metadata": {},
     "output_type": "execute_result"
    }
   ],
   "source": [
    "an.columns"
   ]
  },
  {
   "cell_type": "code",
   "execution_count": 602,
   "id": "9e7daf20",
   "metadata": {},
   "outputs": [],
   "source": [
    "an.rename(columns={'ammoniaque - libre':'ammoniaque libre'}, inplace=True)"
   ]
  },
  {
   "cell_type": "code",
   "execution_count": 603,
   "id": "harmful-steel",
   "metadata": {},
   "outputs": [],
   "source": [
    "an.drop(list(range(2)), axis=0, inplace=True)\n",
    "an.reset_index(drop=True, inplace=True)\n",
    "an=na_col_drop(an,1)\n",
    "an.insert(1,'Type_ech','Eau')"
   ]
  },
  {
   "cell_type": "code",
   "execution_count": 604,
   "id": "standard-chuck",
   "metadata": {},
   "outputs": [
    {
     "name": "stdout",
     "output_type": "stream",
     "text": [
      "\n",
      "\u001b[1;34mPossible new pollutants names:\u001b[0;0m\n",
      "['ID_ech', 'Type_ech', 'Sol', 'Eau', '0.06']\n"
     ]
    }
   ],
   "source": [
    "an=col_ren(an, name=POL_NAMES_MODEL, mode=1)\n",
    "an.rename(columns={'Période ':'Periode', 'Date de prélèvement':'Date_ech'}, inplace=True)\n",
    "#an=an.iloc[:,:-7]"
   ]
  },
  {
   "cell_type": "code",
   "execution_count": 605,
   "id": "dying-tolerance",
   "metadata": {
    "scrolled": false
   },
   "outputs": [
    {
     "name": "stdout",
     "output_type": "stream",
     "text": [
      "Rows : 60, columns : 5\n"
     ]
    },
    {
     "data": {
      "application/vnd.jupyter.widget-view+json": {
       "model_id": "156be045099e4ca88e9cb6e02503255d",
       "version_major": 2,
       "version_minor": 0
      },
      "text/plain": [
       "interactive(children=(IntSlider(value=3, description='rows', max=60, min=3, readout=False), IntSlider(value=5,…"
      ]
     },
     "metadata": {},
     "output_type": "display_data"
    }
   ],
   "source": [
    "dataframe_viewer(an, rows=3)"
   ]
  },
  {
   "cell_type": "code",
   "execution_count": 606,
   "id": "mineral-charity",
   "metadata": {},
   "outputs": [
    {
     "name": "stdout",
     "output_type": "stream",
     "text": [
      "Rows : 11, columns : 10\n"
     ]
    },
    {
     "data": {
      "application/vnd.jupyter.widget-view+json": {
       "model_id": "c4c12ca97f384b4eb2b9a9e3c62f7434",
       "version_major": 2,
       "version_minor": 0
      },
      "text/plain": [
       "interactive(children=(IntSlider(value=3, description='rows', max=11, min=3, readout=False), IntSlider(value=10…"
      ]
     },
     "metadata": {},
     "output_type": "display_data"
    }
   ],
   "source": [
    "dataframe_viewer(source_ech_df, rows=3)"
   ]
  },
  {
   "cell_type": "code",
   "execution_count": 607,
   "id": "9b491abf",
   "metadata": {},
   "outputs": [
    {
     "name": "stderr",
     "output_type": "stream",
     "text": [
      "/home/yanathan/.local/share/virtualenvs/GSDMA-DRfwm83x/lib/python3.8/site-packages/pandas/core/frame.py:3607: SettingWithCopyWarning: \n",
      "A value is trying to be set on a copy of a slice from a DataFrame.\n",
      "Try using .loc[row_indexer,col_indexer] = value instead\n",
      "\n",
      "See the caveats in the documentation: https://pandas.pydata.org/pandas-docs/stable/user_guide/indexing.html#returning-a-view-versus-a-copy\n",
      "  self._set_item(key, value)\n"
     ]
    }
   ],
   "source": [
    "source_ech_df.Date_ech = source_ech_df.Date_ech.astype(object)"
   ]
  },
  {
   "cell_type": "code",
   "execution_count": 608,
   "id": "6a8b720d",
   "metadata": {},
   "outputs": [],
   "source": [
    "source_ech_df, conflict_df=data_merger(source_ech_df, ech_df, 'outer', ['ID_ech', 'Date_ech'])"
   ]
  },
  {
   "cell_type": "code",
   "execution_count": 609,
   "id": "c607afeb",
   "metadata": {},
   "outputs": [
    {
     "ename": "KeyError",
     "evalue": "'Check_col'",
     "output_type": "error",
     "traceback": [
      "\u001b[0;31m---------------------------------------------------------------------------\u001b[0m",
      "\u001b[0;31mKeyError\u001b[0m                                  Traceback (most recent call last)",
      "\u001b[0;32m~/.local/share/virtualenvs/GSDMA-DRfwm83x/lib/python3.8/site-packages/pandas/core/indexes/base.py\u001b[0m in \u001b[0;36mget_loc\u001b[0;34m(self, key, method, tolerance)\u001b[0m\n\u001b[1;32m   3360\u001b[0m             \u001b[0;32mtry\u001b[0m\u001b[0;34m:\u001b[0m\u001b[0;34m\u001b[0m\u001b[0;34m\u001b[0m\u001b[0m\n\u001b[0;32m-> 3361\u001b[0;31m                 \u001b[0;32mreturn\u001b[0m \u001b[0mself\u001b[0m\u001b[0;34m.\u001b[0m\u001b[0m_engine\u001b[0m\u001b[0;34m.\u001b[0m\u001b[0mget_loc\u001b[0m\u001b[0;34m(\u001b[0m\u001b[0mcasted_key\u001b[0m\u001b[0;34m)\u001b[0m\u001b[0;34m\u001b[0m\u001b[0;34m\u001b[0m\u001b[0m\n\u001b[0m\u001b[1;32m   3362\u001b[0m             \u001b[0;32mexcept\u001b[0m \u001b[0mKeyError\u001b[0m \u001b[0;32mas\u001b[0m \u001b[0merr\u001b[0m\u001b[0;34m:\u001b[0m\u001b[0;34m\u001b[0m\u001b[0;34m\u001b[0m\u001b[0m\n",
      "\u001b[0;32m~/.local/share/virtualenvs/GSDMA-DRfwm83x/lib/python3.8/site-packages/pandas/_libs/index.pyx\u001b[0m in \u001b[0;36mpandas._libs.index.IndexEngine.get_loc\u001b[0;34m()\u001b[0m\n",
      "\u001b[0;32m~/.local/share/virtualenvs/GSDMA-DRfwm83x/lib/python3.8/site-packages/pandas/_libs/index.pyx\u001b[0m in \u001b[0;36mpandas._libs.index.IndexEngine.get_loc\u001b[0;34m()\u001b[0m\n",
      "\u001b[0;32mpandas/_libs/hashtable_class_helper.pxi\u001b[0m in \u001b[0;36mpandas._libs.hashtable.PyObjectHashTable.get_item\u001b[0;34m()\u001b[0m\n",
      "\u001b[0;32mpandas/_libs/hashtable_class_helper.pxi\u001b[0m in \u001b[0;36mpandas._libs.hashtable.PyObjectHashTable.get_item\u001b[0;34m()\u001b[0m\n",
      "\u001b[0;31mKeyError\u001b[0m: 'Check_col'",
      "\nThe above exception was the direct cause of the following exception:\n",
      "\u001b[0;31mKeyError\u001b[0m                                  Traceback (most recent call last)",
      "\u001b[0;32m/tmp/ipykernel_8568/536133816.py\u001b[0m in \u001b[0;36m<module>\u001b[0;34m\u001b[0m\n\u001b[0;32m----> 1\u001b[0;31m data_validation(overall_data=source_ech_df, conflict_data=conflict_df, index_col='index', \n\u001b[0m\u001b[1;32m      2\u001b[0m                 valid_dict={'Periode_y':list(conflict_df.index), 'Emplacement_y':list(conflict_df.index)})\n",
      "\u001b[0;32m~/Projects/GSDMA/utils/io.py\u001b[0m in \u001b[0;36mdata_validation\u001b[0;34m(overall_data, conflict_data, valid_dict, index_col, pass_col, valid_all, verbose)\u001b[0m\n\u001b[1;32m    726\u001b[0m         \u001b[0muse\u001b[0m \u001b[0mit\u001b[0m \u001b[0mwhen\u001b[0m \u001b[0mall\u001b[0m \u001b[0mconflict\u001b[0m \u001b[0mvalues\u001b[0m \u001b[0mare\u001b[0m \u001b[0mcorrect\u001b[0m\u001b[0;34m.\u001b[0m \u001b[0mthis\u001b[0m \u001b[0mcreates\u001b[0m \u001b[0mnew\u001b[0m \u001b[0mrows\u001b[0m \u001b[0mto\u001b[0m \u001b[0madd\u001b[0m \u001b[0mvalues_y\u001b[0m\u001b[0;34m\u001b[0m\u001b[0;34m\u001b[0m\u001b[0m\n\u001b[1;32m    727\u001b[0m     \"\"\"\n\u001b[0;32m--> 728\u001b[0;31m \u001b[0;34m\u001b[0m\u001b[0m\n\u001b[0m\u001b[1;32m    729\u001b[0m     \u001b[0mcheck_cols\u001b[0m \u001b[0;34m=\u001b[0m \u001b[0;34m[\u001b[0m\u001b[0;34m]\u001b[0m\u001b[0;34m\u001b[0m\u001b[0;34m\u001b[0m\u001b[0m\n\u001b[1;32m    730\u001b[0m     \u001b[0mconflict_cols_list\u001b[0m \u001b[0;34m=\u001b[0m \u001b[0mpd\u001b[0m\u001b[0;34m.\u001b[0m\u001b[0munique\u001b[0m\u001b[0;34m(\u001b[0m\u001b[0;34m', '\u001b[0m\u001b[0;34m.\u001b[0m\u001b[0mjoin\u001b[0m\u001b[0;34m(\u001b[0m\u001b[0;34m[\u001b[0m\u001b[0mx\u001b[0m \u001b[0;32mfor\u001b[0m \u001b[0mx\u001b[0m \u001b[0;32min\u001b[0m \u001b[0mpd\u001b[0m\u001b[0;34m.\u001b[0m\u001b[0munique\u001b[0m\u001b[0;34m(\u001b[0m\u001b[0mconflict_data\u001b[0m\u001b[0;34m[\u001b[0m\u001b[0;34m'Check_col'\u001b[0m\u001b[0;34m]\u001b[0m\u001b[0;34m)\u001b[0m\u001b[0;34m]\u001b[0m\u001b[0;34m)\u001b[0m\u001b[0;34m.\u001b[0m\u001b[0msplit\u001b[0m\u001b[0;34m(\u001b[0m\u001b[0;34m', '\u001b[0m\u001b[0;34m)\u001b[0m\u001b[0;34m)\u001b[0m\u001b[0;34m\u001b[0m\u001b[0;34m\u001b[0m\u001b[0m\n",
      "\u001b[0;32m~/.local/share/virtualenvs/GSDMA-DRfwm83x/lib/python3.8/site-packages/pandas/core/frame.py\u001b[0m in \u001b[0;36m__getitem__\u001b[0;34m(self, key)\u001b[0m\n\u001b[1;32m   3453\u001b[0m             \u001b[0;32mif\u001b[0m \u001b[0mself\u001b[0m\u001b[0;34m.\u001b[0m\u001b[0mcolumns\u001b[0m\u001b[0;34m.\u001b[0m\u001b[0mnlevels\u001b[0m \u001b[0;34m>\u001b[0m \u001b[0;36m1\u001b[0m\u001b[0;34m:\u001b[0m\u001b[0;34m\u001b[0m\u001b[0;34m\u001b[0m\u001b[0m\n\u001b[1;32m   3454\u001b[0m                 \u001b[0;32mreturn\u001b[0m \u001b[0mself\u001b[0m\u001b[0;34m.\u001b[0m\u001b[0m_getitem_multilevel\u001b[0m\u001b[0;34m(\u001b[0m\u001b[0mkey\u001b[0m\u001b[0;34m)\u001b[0m\u001b[0;34m\u001b[0m\u001b[0;34m\u001b[0m\u001b[0m\n\u001b[0;32m-> 3455\u001b[0;31m             \u001b[0mindexer\u001b[0m \u001b[0;34m=\u001b[0m \u001b[0mself\u001b[0m\u001b[0;34m.\u001b[0m\u001b[0mcolumns\u001b[0m\u001b[0;34m.\u001b[0m\u001b[0mget_loc\u001b[0m\u001b[0;34m(\u001b[0m\u001b[0mkey\u001b[0m\u001b[0;34m)\u001b[0m\u001b[0;34m\u001b[0m\u001b[0;34m\u001b[0m\u001b[0m\n\u001b[0m\u001b[1;32m   3456\u001b[0m             \u001b[0;32mif\u001b[0m \u001b[0mis_integer\u001b[0m\u001b[0;34m(\u001b[0m\u001b[0mindexer\u001b[0m\u001b[0;34m)\u001b[0m\u001b[0;34m:\u001b[0m\u001b[0;34m\u001b[0m\u001b[0;34m\u001b[0m\u001b[0m\n\u001b[1;32m   3457\u001b[0m                 \u001b[0mindexer\u001b[0m \u001b[0;34m=\u001b[0m \u001b[0;34m[\u001b[0m\u001b[0mindexer\u001b[0m\u001b[0;34m]\u001b[0m\u001b[0;34m\u001b[0m\u001b[0;34m\u001b[0m\u001b[0m\n",
      "\u001b[0;32m~/.local/share/virtualenvs/GSDMA-DRfwm83x/lib/python3.8/site-packages/pandas/core/indexes/base.py\u001b[0m in \u001b[0;36mget_loc\u001b[0;34m(self, key, method, tolerance)\u001b[0m\n\u001b[1;32m   3361\u001b[0m                 \u001b[0;32mreturn\u001b[0m \u001b[0mself\u001b[0m\u001b[0;34m.\u001b[0m\u001b[0m_engine\u001b[0m\u001b[0;34m.\u001b[0m\u001b[0mget_loc\u001b[0m\u001b[0;34m(\u001b[0m\u001b[0mcasted_key\u001b[0m\u001b[0;34m)\u001b[0m\u001b[0;34m\u001b[0m\u001b[0;34m\u001b[0m\u001b[0m\n\u001b[1;32m   3362\u001b[0m             \u001b[0;32mexcept\u001b[0m \u001b[0mKeyError\u001b[0m \u001b[0;32mas\u001b[0m \u001b[0merr\u001b[0m\u001b[0;34m:\u001b[0m\u001b[0;34m\u001b[0m\u001b[0;34m\u001b[0m\u001b[0m\n\u001b[0;32m-> 3363\u001b[0;31m                 \u001b[0;32mraise\u001b[0m \u001b[0mKeyError\u001b[0m\u001b[0;34m(\u001b[0m\u001b[0mkey\u001b[0m\u001b[0;34m)\u001b[0m \u001b[0;32mfrom\u001b[0m \u001b[0merr\u001b[0m\u001b[0;34m\u001b[0m\u001b[0;34m\u001b[0m\u001b[0m\n\u001b[0m\u001b[1;32m   3364\u001b[0m \u001b[0;34m\u001b[0m\u001b[0m\n\u001b[1;32m   3365\u001b[0m         \u001b[0;32mif\u001b[0m \u001b[0mis_scalar\u001b[0m\u001b[0;34m(\u001b[0m\u001b[0mkey\u001b[0m\u001b[0;34m)\u001b[0m \u001b[0;32mand\u001b[0m \u001b[0misna\u001b[0m\u001b[0;34m(\u001b[0m\u001b[0mkey\u001b[0m\u001b[0;34m)\u001b[0m \u001b[0;32mand\u001b[0m \u001b[0;32mnot\u001b[0m \u001b[0mself\u001b[0m\u001b[0;34m.\u001b[0m\u001b[0mhasnans\u001b[0m\u001b[0;34m:\u001b[0m\u001b[0;34m\u001b[0m\u001b[0;34m\u001b[0m\u001b[0m\n",
      "\u001b[0;31mKeyError\u001b[0m: 'Check_col'"
     ]
    }
   ],
   "source": [
    "data_validation(overall_data=source_ech_df, conflict_data=conflict_df, index_col='index', \n",
    "                valid_dict={'Periode_y':list(conflict_df.index), 'Emplacement_y':list(conflict_df.index)})"
   ]
  },
  {
   "cell_type": "code",
   "execution_count": null,
   "id": "d51440e7",
   "metadata": {},
   "outputs": [],
   "source": [
    "source_an, conflict_df=data_merger(source_an, an, 'outer', ['ID_ech', 'Date_ech'])"
   ]
  },
  {
   "cell_type": "code",
   "execution_count": null,
   "id": "5862ac3c",
   "metadata": {},
   "outputs": [],
   "source": [
    "source_an.Date_ech = source_an.Date_ech.astype(object)"
   ]
  },
  {
   "cell_type": "code",
   "execution_count": null,
   "id": "72f91248",
   "metadata": {},
   "outputs": [],
   "source": [
    "dataframe_viewer(source_an, rows=5, cols=13), dataframe_viewer(source_ech_df, rows=5, cols=13)"
   ]
  },
  {
   "cell_type": "code",
   "execution_count": null,
   "id": "chinese-sensitivity",
   "metadata": {},
   "outputs": [],
   "source": [
    "if not os.path.exists(tmp_dir):\n",
    "    os.makedirs(tmp_dir), os.makedirs(tmp_dir+'source_merge/') \n",
    "\n",
    "#bh.to_csv(tmp_dir+'source_merge/source_Boreholes.csv', index=False)\n",
    "#pz.to_csv(tmp_dir+sheet+'_Piezometers.csv', index=False)\n",
    "#ouv.to_csv(tmp_dir+sheet+'_Unkown-facility.csv', index=False)\n",
    "#litho.to_csv(tmp_dir+sheet+'_Lithology.csv', index=False)\n",
    "#mes_pz.to_csv(tmp_dir+sheet+'_Measures.csv', index=False)\n",
    "#mes_sol.to_csv(tmp_dir+sheet+'_Measures-soil.csv', index=False)\n",
    "ech_df.to_csv(tmp_dir+sheet+'_Samples-water.csv', index=False)\n",
    "#ech_df.to_csv(tmp_dir+sheet+'_Samples-soil.csv', index=False)\n",
    "an.to_csv(tmp_dir+sheet+'_Analysis.csv', index=False)\n",
    "\n",
    "\n",
    "#source_bh.to_csv(tmp_dir+'source_merge/source_Boreholes.csv', index=False)\n",
    "#source_pz.to_csv(tmp_dir+'source_merge/source_Piezometers.csv', index=False)\n",
    "#source_ukw.to_csv(tmp_dir+'source_merge/source_Unkown-facility.csv', index=False)\n",
    "#source_litho.to_csv(tmp_dir+'source_merge/source_Lithology.csv', index=False)\n",
    "#source_mes_pz.to_csv(tmp_dir+'source_merge/source_Measures.csv', index=False)\n",
    "#source_mes_sol.to_csv(tmp_dir+'source_merge/source_Measures-soil.csv', index=False)\n",
    "source_ech_df.to_csv(tmp_dir+'source_merge/source_Samples-water.csv', index=False)\n",
    "#source_ech_df.to_csv(tmp_dir+'source_merge/source_Samples-soil.csv', index=False)\n",
    "source_an.to_csv(tmp_dir+'source_merge/source_Analysis.csv', index=False)\n",
    "\n",
    "\n",
    "print(f'source_bh:{len(source_bh)} ; source_pz:{len(source_pz)} ; source_litho:{len(source_litho)} ; '\n",
    "     f'source_Fac-uknw:{len(source_ukw)} ; source_an:{len(source_an)} ;\\nsource_ech_df:{len(source_ech_df)} ;'\n",
    "     f'source_ech_df:{len(source_ech_df)} ; source_mes_pz:{len(source_mes_pz)} ; source_mes_sol:{len(source_mes_sol)} ;')"
   ]
  },
  {
   "cell_type": "markdown",
   "id": "1e29414f",
   "metadata": {},
   "source": [
    "### $\\color{red}{\\textbf{Excel source data merging}}$"
   ]
  },
  {
   "cell_type": "code",
   "execution_count": null,
   "id": "c8aad90e",
   "metadata": {},
   "outputs": [],
   "source": [
    "excel_bh_water_an, conflict_df = data_merger(source_an, source_ech_df, how='outer', on=['ID_ech', 'Date_ech'], drop_skip_col=['index'])"
   ]
  },
  {
   "cell_type": "code",
   "execution_count": null,
   "id": "65551369",
   "metadata": {},
   "outputs": [],
   "source": [
    "save_dir = tmp_dir + 'source_merge/final_'\n",
    "if not os.path.exists(save_dir):\n",
    "    os.makedirs(save_dir)\n",
    "\n",
    "#excel_bhs.to_csv(save_dir + 'Boreholes.csv', index=False)\n",
    "#excel_bh_litho.to_csv(save_dir+'Lithologies.csv', index=False)\n",
    "#excel_bh_equip.to_csv(save_dir+'Equipments.csv', index=False)\n",
    "#excel_bh_soil_sp.to_csv(save_dir+'Soil_samples.csv', index=False)\n",
    "#excel_bh_water_sp.to_csv(save_dir+'Water_samples.csv', index=False)\n",
    "#excel_bh_soil_an.to_csv(save_dir+'Soil_analysis.csv', index=False)\n",
    "excel_bh_water_an.to_csv(save_dir+'water_analysis.csv', index=False)\n",
    "#excel_bh_mes.to_csv(save_dir+'Measures.csv', index=False)\n",
    "#excel_bh_fac.to_csv(save_dir+'Unknow_facilities.csv', index=False)"
   ]
  },
  {
   "cell_type": "markdown",
   "id": "ee8c92ff",
   "metadata": {},
   "source": [
    "#### ======================================================================================"
   ]
  },
  {
   "cell_type": "code",
   "execution_count": null,
   "id": "f87b2098",
   "metadata": {},
   "outputs": [],
   "source": [
    "# initialisation des variables\n",
    "_df = pd.DataFrame()\n",
    "source_bh, source_eqp, source_ukw = _df, _df, _df\n",
    "source_litho, source_an, source_mes = _df, _df, _df\n",
    "\n",
    "print(f'source_bh: {len(source_bh)} ; source_eqp: {len(source_eqp)} ; source_uknw: {len(source_ukw)} ; '\n",
    "      f'source_litho: {len(source_litho)} ; source_an: {len(source_an)} ; source_mes: {len(source_mes)}')"
   ]
  },
  {
   "cell_type": "markdown",
   "id": "yellow-burke",
   "metadata": {},
   "source": [
    "## 12-Resultats_Siterem_eau_pilote_jusque_decembre_2020.xlsx\n",
    "* **Sheet : 'Résult EAU'**"
   ]
  },
  {
   "cell_type": "code",
   "execution_count": null,
   "id": "vocal-longer",
   "metadata": {},
   "outputs": [],
   "source": [
    "tmp_dir=ROOT_DIR + '/CF_data/Result_traitem/Siterem_Pilote/'\n",
    "sheet='Result_eau'"
   ]
  },
  {
   "cell_type": "code",
   "execution_count": null,
   "id": "objective-psychology",
   "metadata": {},
   "outputs": [],
   "source": [
    "df = pd.read_excel(ROOT_DIR + '/CF_data/Data_SITEREM/Resultats_Siterem_eau_pilote_jusque_decembre_2020.xlsx', \n",
    "                   sheet_name='Résult EAU', skiprows=2)\n",
    "df=na_line_drop(df,0)\n",
    "df=na_col_drop(df,1)\n",
    "df.replace(r'<|>','', inplace=True, regex=True)\n",
    "df.replace(r'-$',np.nan, inplace=True, regex=True)\n",
    "\n",
    "dataframe_viewer(df, rows=5)"
   ]
  },
  {
   "cell_type": "code",
   "execution_count": null,
   "id": "understood-mistress",
   "metadata": {},
   "outputs": [],
   "source": [
    "ech_df=df.loc[:32]\n",
    "an=df.loc[list(range(0,4))+list(range(33, len(df)))]"
   ]
  },
  {
   "cell_type": "code",
   "execution_count": null,
   "id": "bibliographic-religious",
   "metadata": {},
   "outputs": [],
   "source": [
    "an = an.sort_index().reset_index(drop=True)"
   ]
  },
  {
   "cell_type": "code",
   "execution_count": null,
   "id": "short-crawford",
   "metadata": {},
   "outputs": [],
   "source": [
    "ech_df=ech_df.transpose()\n",
    "ech_df.reset_index(drop=True, inplace=True)\n",
    "ech_df=col_ren(ech_df, 1)"
   ]
  },
  {
   "cell_type": "code",
   "execution_count": null,
   "id": "technical-median",
   "metadata": {},
   "outputs": [],
   "source": [
    "ech_df=dble_col_drop(ech_df)"
   ]
  },
  {
   "cell_type": "code",
   "execution_count": null,
   "id": "signal-lucas",
   "metadata": {},
   "outputs": [],
   "source": [
    "ech_df.drop(list(range(3)), axis=0, inplace=True)\n",
    "ech_df.reset_index(drop=True, inplace=True)\n",
    "ech_df=na_col_drop(ech_df,2)\n",
    "ech_df=na_line_drop(ech_df,3)\n",
    "ech_df.reset_index(drop=True, inplace=True)"
   ]
  },
  {
   "cell_type": "code",
   "execution_count": null,
   "id": "recognized-inspection",
   "metadata": {},
   "outputs": [],
   "source": [
    "ech_df.columns"
   ]
  },
  {
   "cell_type": "code",
   "execution_count": null,
   "id": "sized-straight",
   "metadata": {},
   "outputs": [],
   "source": [
    "name=['ID_ech', 'Periode', 'Emplacement','Date_ech','Niv_eau_pz','Niv_eau_chbre','pH','Temp_prv','CE','ORP',\n",
    "      'O_diss','col_29','Temp_pH']\n",
    "ech_df=col_ren(ech_df, name=name, mode=1)\n",
    "ech_df=ech_df.query('ID_ech==ID_ech')\n",
    "ech_df.insert(1,'Type_ech','Eau')"
   ]
  },
  {
   "cell_type": "code",
   "execution_count": null,
   "id": "surprising-bangkok",
   "metadata": {},
   "outputs": [],
   "source": [
    "ech_df.drop(columns=['col_29'], inplace=True)\n",
    "ech_df['CE']=ech_df['CE'].apply(lambda x: pd.to_numeric(x)/1000 \n",
    "                                  if re.search('^\\d+', str(x)) and not pd.isnull(x) else np.nan)"
   ]
  },
  {
   "cell_type": "code",
   "execution_count": null,
   "id": "experimental-transparency",
   "metadata": {},
   "outputs": [],
   "source": [
    "ech_df['Periode'].replace('\\n',' ', regex=True, inplace=True)\n",
    "ech_df.replace('\\n','', regex=True, inplace=True)"
   ]
  },
  {
   "cell_type": "code",
   "execution_count": null,
   "id": "collective-optimization",
   "metadata": {
    "scrolled": true
   },
   "outputs": [],
   "source": [
    "data=[ech_df]\n",
    "for d in data:\n",
    "    for i in range(len(d['ID_ech'])):\n",
    "        e=str(d.loc[i, 'Emplacement'])        \n",
    "        if re.match('P',e, re.I): \n",
    "            d.loc[i,'Emplacement']='Pilote'\n",
    "        elif re.match('HZP',e, re.I): \n",
    "            d.loc[i,'Emplacement']='Hors Pilote'\n",
    "        else:\n",
    "            d.loc[i,'Emplacement']=np.nan"
   ]
  },
  {
   "cell_type": "code",
   "execution_count": 610,
   "id": "wireless-former",
   "metadata": {
    "scrolled": false
   },
   "outputs": [
    {
     "name": "stdout",
     "output_type": "stream",
     "text": [
      "Rows : 11, columns : 10\n"
     ]
    },
    {
     "data": {
      "application/vnd.jupyter.widget-view+json": {
       "model_id": "05ad48a5fa5d4ff592f99bfa4dcde4c0",
       "version_major": 2,
       "version_minor": 0
      },
      "text/plain": [
       "interactive(children=(IntSlider(value=3, description='rows', max=11, min=3, readout=False), IntSlider(value=10…"
      ]
     },
     "metadata": {},
     "output_type": "display_data"
    }
   ],
   "source": [
    "dataframe_viewer(ech_df, rows=3)"
   ]
  },
  {
   "cell_type": "code",
   "execution_count": 611,
   "id": "consolidated-milton",
   "metadata": {},
   "outputs": [],
   "source": [
    "an=an.transpose()\n",
    "an.reset_index(drop=True, inplace=True)"
   ]
  },
  {
   "cell_type": "code",
   "execution_count": 612,
   "id": "important-hanging",
   "metadata": {},
   "outputs": [
    {
     "name": "stdout",
     "output_type": "stream",
     "text": [
      "\u001b[1;31mDouble columns' name found :\u001b[0;0m\n",
      "[('Eau', 60)]\n"
     ]
    }
   ],
   "source": [
    "an=col_ren(an, 1)"
   ]
  },
  {
   "cell_type": "code",
   "execution_count": 613,
   "id": "better-majority",
   "metadata": {},
   "outputs": [],
   "source": [
    "an.replace(r'<|>','', inplace=True, regex=True)\n",
    "an.replace(r'-',np.nan, inplace=True, regex=True)\n",
    "an.rename(columns={an.columns[0]:'ID_ech'}, inplace=True)"
   ]
  },
  {
   "cell_type": "code",
   "execution_count": 614,
   "id": "clinical-charger",
   "metadata": {
    "scrolled": true
   },
   "outputs": [
    {
     "name": "stdout",
     "output_type": "stream",
     "text": [
      "column(s) dropped: ['1:ID_ech', '2:ID_ech', '3:ID_ech', '4:ID_ech', '5:ID_ech', '6:ID_ech', '7:ID_ech', '8:ID_ech', '9:ID_ech', '10:ID_ech', '11:ID_ech', '12:ID_ech', '13:ID_ech', '14:ID_ech', '15:ID_ech', '16:ID_ech', '17:ID_ech', '18:ID_ech', '19:ID_ech', '20:ID_ech', '21:ID_ech', '22:ID_ech', '23:ID_ech', '24:ID_ech', '25:ID_ech', '26:ID_ech', '27:ID_ech', '28:ID_ech', '29:ID_ech', '30:ID_ech', '31:ID_ech', '32:ID_ech', '33:ID_ech', '34:ID_ech', '35:ID_ech', '36:ID_ech', '37:ID_ech', '38:ID_ech', '39:ID_ech', '40:ID_ech', '41:ID_ech', '42:ID_ech', '43:ID_ech', '44:ID_ech', '45:ID_ech', '46:ID_ech', '47:ID_ech', '48:ID_ech', '49:ID_ech', '50:ID_ech', '51:ID_ech', '52:ID_ech', '53:ID_ech', '54:ID_ech', '55:ID_ech', '56:ID_ech', '57:ID_ech', '58:ID_ech', '59:ID_ech']\n"
     ]
    }
   ],
   "source": [
    "an=dble_col_drop(an)"
   ]
  },
  {
   "cell_type": "code",
   "execution_count": 615,
   "id": "33323065",
   "metadata": {},
   "outputs": [],
   "source": [
    "an.rename(columns={'Période ':'Periode', 'Emplacement \\n- P : Pilote \\n- HZP : Hors zone pilote':'Emplacement',\n",
    "                  'Date de prélèvement':'Date_ech'}, inplace=True)"
   ]
  },
  {
   "cell_type": "code",
   "execution_count": 616,
   "id": "dental-strengthening",
   "metadata": {},
   "outputs": [],
   "source": [
    "# rename in a first time before dropping columns (because of names like 'col_xx' in columns)\n",
    "name=['ID_ech', 'Periode', 'Emplacement', 'Date_ech', 'METAUX LOURDS', 'Arsenic', 'Cadmium', 'Chrome', 'Cuivre','Mercure', 'Plomb', 'Nickel', 'Zinc', \n",
    "      'CYANURES',\"Cyanures (libres)  -  NEN-EN-ISO 14403\", \"CN_totaux - NEN-EN-ISO 14403\", \n",
    "      \"cyanure (APE) - méthode basée sur EPA 335.3\", \"cyanure complex - méthode interne \", \n",
    "      \"thiocyanate - méthode interne\", \"COMPOSES AROMATIQUES VOLATILS\", \"Benzène\", \"Toluène\", \"Éthylbenzène\",\n",
    "      \"Orthoxylène\", \"Para- et métaxylène\", \"Xylènes\", \"Styrène\", \"PHENOLS\", \"Phénol\", \"Indice phénol\", \n",
    "      \"HYDROCARBURES AROMATIQUES POLYCYCLIQUES\", \"Naphtalène\", \"Acénaphtylène\", \"Acénaphtène\", \"Fluorène\", \n",
    "      \"Phénanthrène\", \"Anthracène\", \"Fluoranthène\", \"Pyrène\", \"Benzo(a)anthracène\", \"Chrysène\", \n",
    "      \"Benzo(b)fluoranthène\", \"Benzo(k)fluoranthène\", \"Benzo(a)pyrène\", \"Dibenzo(ah)anthracène\", \n",
    "      \"Benzo(ghi)pérylène\", \"Indéno(1,2,3-cd)pyrène\", \"HAP Totaux (16) - EPA\", \n",
    "      \"COMPOSES ORGANOCHLORES VOLATILS\", \"1,1-Dichloroéthane\", \"1,2-Dichloroéthane\", \n",
    "      \"1,1-dichloroéthène\", \"Cis-1,2-dichloroéthène\", \"Totaux (cis,trans) 1,2-dichloroéthènes\", \n",
    "      \"Trans 1,2-dichloroéthylène\", \"Dichlorométhane\", \"1,2-dichloropropane\", \"Tétrachloroéthylène \", \n",
    "      \"Tétrachlorométhane\", \"1,1,1-Trichloroéthane\", \"1,1,2-Trichloroéthane\", \"Trichloroéthylène\",\n",
    "      \"Chloroforme\", \"Chlorure de vinyle\", \"HYDROCARBURES TOTAUX\", \"fraction aromat. >C6-C7\", \n",
    "      \"fraction aromat. >C7-C8\", \"fraction aromat. >C8-C10\", \"fraction aliphat. C5-C6\", \"fraction aliphat. >C6-C8\",\n",
    "      \"fraction aliphat. >C8-C10\", \"Fraction C5 - C8\", \"Fraction C8 - C10\", \"Fraction C10-C12\", \"Fraction C12-C16\",\n",
    "      \"Fraction C16 - C21\", \"Fraction C21 - C35\", \"Hydrocarbures totaux C10-C35\", \"METHYL-TERT-BUTYL-ETHER\", \"MTBE\",\n",
    "     \"a\",\"b\",\"c\",\"d\",\"e\",\"f\",\"g\",\"h\"]"
   ]
  },
  {
   "cell_type": "code",
   "execution_count": 617,
   "id": "norman-devices",
   "metadata": {},
   "outputs": [
    {
     "ename": "TypeError",
     "evalue": "Error! names list length and columns length are not the same.",
     "output_type": "error",
     "traceback": [
      "\u001b[0;31m---------------------------------------------------------------------------\u001b[0m",
      "\u001b[0;31mTypeError\u001b[0m                                 Traceback (most recent call last)",
      "\u001b[0;32m/tmp/ipykernel_8568/2137494861.py\u001b[0m in \u001b[0;36m<module>\u001b[0;34m\u001b[0m\n\u001b[0;32m----> 1\u001b[0;31m \u001b[0man\u001b[0m\u001b[0;34m=\u001b[0m\u001b[0mcol_ren\u001b[0m\u001b[0;34m(\u001b[0m\u001b[0man\u001b[0m\u001b[0;34m,\u001b[0m \u001b[0mname\u001b[0m\u001b[0;34m=\u001b[0m\u001b[0mname\u001b[0m\u001b[0;34m,\u001b[0m \u001b[0mmode\u001b[0m\u001b[0;34m=\u001b[0m\u001b[0;36m1\u001b[0m\u001b[0;34m)\u001b[0m\u001b[0;34m\u001b[0m\u001b[0;34m\u001b[0m\u001b[0m\n\u001b[0m\u001b[1;32m      2\u001b[0m \u001b[0man\u001b[0m\u001b[0;34m=\u001b[0m\u001b[0man\u001b[0m\u001b[0;34m.\u001b[0m\u001b[0miloc\u001b[0m\u001b[0;34m[\u001b[0m\u001b[0;34m:\u001b[0m\u001b[0;34m,\u001b[0m\u001b[0;34m:\u001b[0m\u001b[0;34m-\u001b[0m\u001b[0;36m8\u001b[0m\u001b[0;34m]\u001b[0m\u001b[0;34m\u001b[0m\u001b[0;34m\u001b[0m\u001b[0m\n",
      "\u001b[0;32m~/Projects/GSDMA/utils/io.py\u001b[0m in \u001b[0;36mcol_ren\u001b[0;34m(df, row_num, mode, name, strip_regex, cutoff, col_num_sep, verbose)\u001b[0m\n\u001b[1;32m   1297\u001b[0m             \u001b[0;32mif\u001b[0m \u001b[0mlen\u001b[0m\u001b[0;34m(\u001b[0m\u001b[0mname\u001b[0m\u001b[0;34m)\u001b[0m \u001b[0;34m==\u001b[0m \u001b[0mlen\u001b[0m\u001b[0;34m(\u001b[0m\u001b[0mdata\u001b[0m\u001b[0;34m.\u001b[0m\u001b[0mcolumns\u001b[0m\u001b[0;34m)\u001b[0m\u001b[0;34m:\u001b[0m\u001b[0;34m\u001b[0m\u001b[0;34m\u001b[0m\u001b[0m\n\u001b[1;32m   1298\u001b[0m                 \u001b[0;32mfor\u001b[0m \u001b[0mi\u001b[0m \u001b[0;32min\u001b[0m \u001b[0mrange\u001b[0m\u001b[0;34m(\u001b[0m\u001b[0mlen\u001b[0m\u001b[0;34m(\u001b[0m\u001b[0mname\u001b[0m\u001b[0;34m)\u001b[0m\u001b[0;34m)\u001b[0m\u001b[0;34m:\u001b[0m\u001b[0;34m\u001b[0m\u001b[0;34m\u001b[0m\u001b[0m\n\u001b[0;32m-> 1299\u001b[0;31m                     \u001b[0mnew_names_dict\u001b[0m\u001b[0;34m.\u001b[0m\u001b[0mupdate\u001b[0m\u001b[0;34m(\u001b[0m\u001b[0;34m{\u001b[0m\u001b[0mdata\u001b[0m\u001b[0;34m.\u001b[0m\u001b[0mcolumns\u001b[0m\u001b[0;34m[\u001b[0m\u001b[0mi\u001b[0m\u001b[0;34m]\u001b[0m\u001b[0;34m:\u001b[0m \u001b[0mname\u001b[0m\u001b[0;34m[\u001b[0m\u001b[0mi\u001b[0m\u001b[0;34m]\u001b[0m\u001b[0;34m}\u001b[0m\u001b[0;34m)\u001b[0m\u001b[0;34m\u001b[0m\u001b[0;34m\u001b[0m\u001b[0m\n\u001b[0m\u001b[1;32m   1300\u001b[0m             \u001b[0;32melse\u001b[0m\u001b[0;34m:\u001b[0m\u001b[0;34m\u001b[0m\u001b[0;34m\u001b[0m\u001b[0m\n\u001b[1;32m   1301\u001b[0m                 \u001b[0;32mraise\u001b[0m \u001b[0;34m(\u001b[0m\u001b[0mTypeError\u001b[0m\u001b[0;34m(\u001b[0m\u001b[0;34m'Error! names list length and columns length are not the same.'\u001b[0m\u001b[0;34m)\u001b[0m\u001b[0;34m)\u001b[0m\u001b[0;34m\u001b[0m\u001b[0;34m\u001b[0m\u001b[0m\n",
      "\u001b[0;31mTypeError\u001b[0m: Error! names list length and columns length are not the same."
     ]
    }
   ],
   "source": [
    "an=col_ren(an, name=name, mode=1)\n",
    "an=an.iloc[:,:-8]"
   ]
  },
  {
   "cell_type": "code",
   "execution_count": null,
   "id": "exposed-color",
   "metadata": {},
   "outputs": [],
   "source": [
    "an.drop(list(range(3)), axis=0, inplace=True)\n",
    "an.reset_index(drop=True, inplace=True)\n",
    "an=na_col_drop(an,1)\n",
    "an.insert(1,'Type_ech','Eau')"
   ]
  },
  {
   "cell_type": "code",
   "execution_count": null,
   "id": "female-complement",
   "metadata": {},
   "outputs": [],
   "source": [
    "an=col_ren(an, name=POL_NAMES_MODEL, mode=1)"
   ]
  },
  {
   "cell_type": "code",
   "execution_count": null,
   "id": "1df0ea54",
   "metadata": {},
   "outputs": [],
   "source": [
    "an['Periode'].replace('\\n',' ', regex=True, inplace=True)\n",
    "an.replace('\\n','', regex=True, inplace=True)"
   ]
  },
  {
   "cell_type": "code",
   "execution_count": null,
   "id": "8d04fe39",
   "metadata": {
    "scrolled": true
   },
   "outputs": [],
   "source": [
    "data=[an]\n",
    "for d in data:\n",
    "    for i in range(len(d['ID_ech'])):\n",
    "        e=str(d.loc[i, 'Emplacement'])        \n",
    "        if re.match('P',e, re.I): \n",
    "            d.loc[i,'Emplacement']='Pilote'\n",
    "        elif re.match('HZP',e, re.I): \n",
    "            d.loc[i,'Emplacement']='Hors Pilote'\n",
    "        else:\n",
    "            d.loc[i,'Emplacement']=np.nan"
   ]
  },
  {
   "cell_type": "code",
   "execution_count": null,
   "id": "major-shoot",
   "metadata": {
    "scrolled": false
   },
   "outputs": [],
   "source": [
    "dataframe_viewer(an, rows=3)"
   ]
  },
  {
   "cell_type": "raw",
   "id": "be78d5cb",
   "metadata": {},
   "source": [
    "#an.columns \n",
    "an.info()"
   ]
  },
  {
   "cell_type": "code",
   "execution_count": null,
   "id": "946720cf",
   "metadata": {},
   "outputs": [],
   "source": [
    "data = [ech_df, an]\n",
    "for d in data:\n",
    "    print('-------------')\n",
    "    for i, r in d.iterrows():\n",
    "        for c in d.columns:\n",
    "            if c not in ['ID_ech', 'Type_ech', 'Periode', 'Emplacement', 'Date_ech'] and \\\n",
    "            str(type(r[c])) not in [\"<class 'float'>\", \"<class 'int'>\"]:\n",
    "                d.loc[i, c] = np.nan\n",
    "                #print(f'{i}- {str(type(r[c]))}- {c} : {r[c]}')"
   ]
  },
  {
   "cell_type": "code",
   "execution_count": null,
   "id": "received-blink",
   "metadata": {},
   "outputs": [],
   "source": [
    "source_ech_df=ech_df\n",
    "source_an=an"
   ]
  },
  {
   "cell_type": "code",
   "execution_count": null,
   "id": "minimal-kansas",
   "metadata": {
    "scrolled": false
   },
   "outputs": [],
   "source": [
    "if not os.path.exists(tmp_dir):\n",
    "    os.makedirs(tmp_dir), os.makedirs(tmp_dir+'source_merge/') \n",
    "\n",
    "#bh.to_csv(tmp_dir+'source_merge/source_Boreholes.csv', index=False)\n",
    "#pz.to_csv(tmp_dir+sheet+'_Piezometers.csv', index=False)\n",
    "#ouv.to_csv(tmp_dir+sheet+'_Unkown-facility.csv', index=False)\n",
    "#litho.to_csv(tmp_dir+sheet+'_Lithology.csv', index=False)\n",
    "#mes_pz.to_csv(tmp_dir+sheet+'_Measures.csv', index=False)\n",
    "#mes_sol.to_csv(tmp_dir+sheet+'_Measures-soil.csv', index=False)\n",
    "ech_df.to_csv(tmp_dir+sheet+'_Samples-water.csv', index=False)\n",
    "#ech_df.to_csv(tmp_dir+sheet+'_Samples-soil.csv', index=False)\n",
    "an.to_csv(tmp_dir+sheet+'_Analysis.csv', index=False)\n",
    "\n",
    "\n",
    "#source_bh.to_csv(tmp_dir+'source_merge/source_Boreholes.csv', index=False)\n",
    "#source_pz.to_csv(tmp_dir+'source_merge/source_Piezometers.csv', index=False)\n",
    "#source_ukw.to_csv(tmp_dir+'source_merge/source_Unkown-facility.csv', index=False)\n",
    "#source_litho.to_csv(tmp_dir+'source_merge/source_Lithology.csv', index=False)\n",
    "#source_mes_pz.to_csv(tmp_dir+'source_merge/source_Measures.csv', index=False)\n",
    "#source_mes_sol.to_csv(tmp_dir+'source_merge/source_Measures-soil.csv', index=False)\n",
    "source_ech_df.to_csv(tmp_dir+'source_merge/source_Samples-water.csv', index=False)\n",
    "#source_ech_df.to_csv(tmp_dir+'source_merge/source_Samples-soil.csv', index=False)\n",
    "source_an.to_csv(tmp_dir+'source_merge/source_Analysis.csv', index=False)\n",
    "\n",
    "\n",
    "print(f'source_bh:{len(source_bh)} ; source_pz:{len(source_pz)} ; source_litho:{len(source_litho)} ; '\n",
    "     f'source_Fac-uknw:{len(source_ukw)} ; source_an:{len(source_an)} ;\\nsource_ech_df:{len(source_ech_df)} ;'\n",
    "     f'source_ech_df:{len(source_ech_df)} ; source_mes_pz:{len(source_mes_pz)} ; source_mes_sol:{len(source_mes_sol)} ;')"
   ]
  },
  {
   "cell_type": "markdown",
   "id": "assumed-safety",
   "metadata": {},
   "source": [
    "* **Sheet : 'Param physico'**"
   ]
  },
  {
   "cell_type": "code",
   "execution_count": null,
   "id": "pressed-corner",
   "metadata": {},
   "outputs": [],
   "source": [
    "tmp_dir=ROOT_DIR + '/CF_data/Result_traitem/Siterem_Pilote/'\n",
    "sheet='Param_physico'"
   ]
  },
  {
   "cell_type": "code",
   "execution_count": null,
   "id": "signal-assistant",
   "metadata": {},
   "outputs": [],
   "source": [
    "df = pd.read_excel(ROOT_DIR + '/CF_data/Data_SITEREM/Resultats_Siterem_eau_pilote_jusque_decembre_2020.xlsx', \n",
    "                   sheet_name='param. physico', skiprows=2)\n",
    "df=na_line_drop(df,0)\n",
    "df=na_col_drop(df,1)\n",
    "df.replace(r'<|>','', inplace=True, regex=True)\n",
    "df.replace(r'-$',np.nan, inplace=True, regex=True)\n",
    "\n",
    "dataframe_viewer(df, rows=5)"
   ]
  },
  {
   "cell_type": "code",
   "execution_count": null,
   "id": "wicked-father",
   "metadata": {},
   "outputs": [],
   "source": [
    "df=df.transpose()\n",
    "df.reset_index(drop=True, inplace=True)"
   ]
  },
  {
   "cell_type": "code",
   "execution_count": null,
   "id": "engaged-geography",
   "metadata": {},
   "outputs": [],
   "source": [
    "df=col_ren(df, 1)"
   ]
  },
  {
   "cell_type": "code",
   "execution_count": null,
   "id": "dressed-tobacco",
   "metadata": {},
   "outputs": [],
   "source": [
    "df.drop(list(range(2)), axis=0, inplace=True)\n",
    "df.reset_index(drop=True, inplace=True)"
   ]
  },
  {
   "cell_type": "code",
   "execution_count": null,
   "id": "continuing-tradition",
   "metadata": {},
   "outputs": [],
   "source": [
    "sdf=df.iloc[:,:33]\n",
    "df=df.iloc[:,34:]"
   ]
  },
  {
   "cell_type": "code",
   "execution_count": null,
   "id": "premier-leather",
   "metadata": {},
   "outputs": [],
   "source": [
    "df=dble_col_drop(df)\n",
    "sdf=dble_col_drop(sdf)"
   ]
  },
  {
   "cell_type": "code",
   "execution_count": null,
   "id": "adopted-counter",
   "metadata": {},
   "outputs": [],
   "source": [
    "df=na_line_drop(df,1)\n",
    "sdf=na_line_drop(sdf,1)"
   ]
  },
  {
   "cell_type": "code",
   "execution_count": null,
   "id": "automatic-pearl",
   "metadata": {},
   "outputs": [],
   "source": [
    "df=na_col_drop(df,1)\n",
    "sdf=na_col_drop(sdf,1)"
   ]
  },
  {
   "cell_type": "code",
   "execution_count": null,
   "id": "designed-cemetery",
   "metadata": {},
   "outputs": [],
   "source": [
    "df=df.iloc[:,:-1]\n",
    "name=['ID_ech','Periode','Emplacement','Date_ech','Niv_eau_pz','Long_pz','Temp_prv ','pH', 'CE', 'ORP','O_diss']\n",
    "df=col_ren(df, mode=1, name=name)"
   ]
  },
  {
   "cell_type": "code",
   "execution_count": null,
   "id": "meaningful-ability",
   "metadata": {},
   "outputs": [],
   "source": [
    "sdf.drop(columns=['col_29'], inplace=True)\n",
    "name=['ID_ech','Periode','Emplacement','Date_ech','Niv_eau_pz','Long_pz','pH','Niv_eau_sol','Temp_prv ','CE',\n",
    "      'ORP','O_diss','Temp_pH']\n",
    "sdf=col_ren(sdf, mode=1, name=name)"
   ]
  },
  {
   "cell_type": "raw",
   "id": "loving-finding",
   "metadata": {},
   "source": [
    "len(name), len(sdf.columns), sdf.info()"
   ]
  },
  {
   "cell_type": "code",
   "execution_count": null,
   "id": "funny-arlington",
   "metadata": {},
   "outputs": [],
   "source": [
    "df['CE']=df['CE'].apply(lambda x: pd.to_numeric(x)/1000 \n",
    "                                  if re.search('^\\d+', str(x)) and not pd.isnull(x) else np.nan)\n",
    "sdf['CE']=sdf['CE'].apply(lambda x: pd.to_numeric(x)/1000 \n",
    "                                  if re.search('^\\d+', str(x)) and not pd.isnull(x) else np.nan)"
   ]
  },
  {
   "cell_type": "code",
   "execution_count": null,
   "id": "attended-particle",
   "metadata": {},
   "outputs": [],
   "source": [
    "sdf['Periode'].replace('\\n',' ', regex=True, inplace=True)\n",
    "sdf.replace('\\n','', regex=True, inplace=True)\n",
    "sdf.drop(columns=[\"Niv_eau_sol\"], inplace=True)"
   ]
  },
  {
   "cell_type": "code",
   "execution_count": null,
   "id": "electoral-aircraft",
   "metadata": {
    "scrolled": true
   },
   "outputs": [],
   "source": [
    "set(sdf['Emplacement'])"
   ]
  },
  {
   "cell_type": "code",
   "execution_count": null,
   "id": "overall-collector",
   "metadata": {
    "scrolled": true
   },
   "outputs": [],
   "source": [
    "data=[df, sdf]\n",
    "for d in data:\n",
    "    for i in range(len(d['ID_ech'])):\n",
    "        e=str(d.loc[i, 'Emplacement'])\n",
    "        \n",
    "        if re.match('P',e, re.I): \n",
    "            d.loc[i,'Emplacement']='Pilote'\n",
    "        elif re.match('HZP',e, re.I): \n",
    "            d.loc[i,'Emplacement']='Hors Pilote'\n",
    "        else:\n",
    "            d.loc[i,'Emplacement']=np.nan"
   ]
  },
  {
   "cell_type": "code",
   "execution_count": null,
   "id": "explicit-student",
   "metadata": {},
   "outputs": [],
   "source": [
    "df.insert(1, 'Type_ech', 'Eau')\n",
    "sdf.insert(1, 'Type_ech', 'Eau')"
   ]
  },
  {
   "cell_type": "code",
   "execution_count": null,
   "id": "mental-latex",
   "metadata": {},
   "outputs": [],
   "source": [
    "df.replace('\\*|à compléter',np.nan, inplace=True, regex=True)"
   ]
  },
  {
   "cell_type": "code",
   "execution_count": null,
   "id": "minor-malta",
   "metadata": {},
   "outputs": [],
   "source": [
    "ech_df, conflict_df = data_merger(sdf, df, 'outer', 'ID_ech')"
   ]
  },
  {
   "cell_type": "code",
   "execution_count": null,
   "id": "49b0f2ca",
   "metadata": {},
   "outputs": [],
   "source": [
    "source_ech_df, conflict_df=data_merger(source_ech_df, ech_df, on=['ID_ech', 'Date_ech', 'Periode'], how='outer')"
   ]
  },
  {
   "cell_type": "code",
   "execution_count": null,
   "id": "aging-assumption",
   "metadata": {
    "scrolled": true
   },
   "outputs": [],
   "source": [
    "dataframe_viewer(source_ech_df, rows=3)"
   ]
  },
  {
   "cell_type": "code",
   "execution_count": null,
   "id": "jewish-activity",
   "metadata": {
    "scrolled": false
   },
   "outputs": [],
   "source": [
    "if not os.path.exists(tmp_dir):\n",
    "    os.makedirs(tmp_dir), os.makedirs(tmp_dir+'source_merge/') \n",
    "\n",
    "#bh.to_csv(tmp_dir+'source_merge/source_Boreholes.csv', index=False)\n",
    "#pz.to_csv(tmp_dir+sheet+'_Piezometers.csv', index=False)\n",
    "#ouv.to_csv(tmp_dir+sheet+'_Unkown-facility.csv', index=False)\n",
    "#litho.to_csv(tmp_dir+sheet+'_Lithology.csv', index=False)\n",
    "#mes_pz.to_csv(tmp_dir+sheet+'_Measures.csv', index=False)\n",
    "#mes_sol.to_csv(tmp_dir+sheet+'_Measures-soil.csv', index=False)\n",
    "ech_df.to_csv(tmp_dir+sheet+'_Samples-water.csv', index=False)\n",
    "#ech_df.to_csv(tmp_dir+sheet+'_Samples-soil.csv', index=False)\n",
    "#an.to_csv(tmp_dir+sheet+'_Analysis.csv', index=False)\n",
    "\n",
    "\n",
    "#source_bh.to_csv(tmp_dir+'source_merge/source_Boreholes.csv', index=False)\n",
    "#source_pz.to_csv(tmp_dir+'source_merge/source_Piezometers.csv', index=False)\n",
    "#source_ukw.to_csv(tmp_dir+'source_merge/source_Unkown-facility.csv', index=False)\n",
    "#source_litho.to_csv(tmp_dir+'source_merge/source_Lithology.csv', index=False)\n",
    "#source_mes_pz.to_csv(tmp_dir+'source_merge/source_Measures.csv', index=False)\n",
    "#source_mes_sol.to_csv(tmp_dir+'source_merge/source_Measures-soil.csv', index=False)\n",
    "source_ech_df.to_csv(tmp_dir+'source_merge/source_Samples-water.csv', index=False)\n",
    "#source_ech_df.to_csv(tmp_dir+'source_merge/source_Samples-soil.csv', index=False)\n",
    "#source_an.to_csv(tmp_dir+'source_merge/source_Analysis.csv', index=False)\n",
    "\n",
    "\n",
    "print(f'source_bh:{len(source_bh)} ; source_pz:{len(source_pz)} ; source_litho:{len(source_litho)} ; '\n",
    "     f'source_Fac-uknw:{len(source_ukw)} ; source_an:{len(source_an)} ;\\nsource_ech_df:{len(source_ech_df)} ;'\n",
    "     f'source_ech_df:{len(source_ech_df)} ; source_mes_pz:{len(source_mes_pz)} ; source_mes_sol:{len(source_mes_sol)} ;')"
   ]
  },
  {
   "cell_type": "markdown",
   "id": "selected-liver",
   "metadata": {},
   "source": [
    "* **Sheet : 'Inorganiques et composés majeurs'**"
   ]
  },
  {
   "cell_type": "code",
   "execution_count": null,
   "id": "regulation-repository",
   "metadata": {},
   "outputs": [],
   "source": [
    "tmp_dir=ROOT_DIR + '/CF_data/Result_traitem/Siterem_Pilote/'\n",
    "sheet='Inorganic_major'"
   ]
  },
  {
   "cell_type": "code",
   "execution_count": null,
   "id": "approved-winner",
   "metadata": {},
   "outputs": [],
   "source": [
    "df = pd.read_excel(ROOT_DIR + '/CF_data/Data_SITEREM/Resultats_Siterem_eau_pilote_jusque_decembre_2020.xlsx', \n",
    "                   sheet_name='inorganiques et composés majeur', skiprows=2)\n",
    "df=na_line_drop(df,0)\n",
    "df=na_col_drop(df,1)\n",
    "df.replace(r'<|>','', inplace=True, regex=True)\n",
    "df.replace(r'-$',np.nan, inplace=True, regex=True)\n",
    "\n",
    "dataframe_viewer(df, rows=5)"
   ]
  },
  {
   "cell_type": "code",
   "execution_count": null,
   "id": "baking-headset",
   "metadata": {},
   "outputs": [],
   "source": [
    "ech_df=df.loc[:21]\n",
    "an=df.loc[list(range(0,4))+list(range(22, len(df)))]"
   ]
  },
  {
   "cell_type": "code",
   "execution_count": null,
   "id": "human-queen",
   "metadata": {},
   "outputs": [],
   "source": [
    "an = an.sort_index().reset_index(drop=True)"
   ]
  },
  {
   "cell_type": "code",
   "execution_count": null,
   "id": "meaning-raleigh",
   "metadata": {},
   "outputs": [],
   "source": [
    "ech_df=ech_df.transpose()\n",
    "ech_df.reset_index(drop=True, inplace=True)\n",
    "ech_df=col_ren(ech_df, 1)"
   ]
  },
  {
   "cell_type": "code",
   "execution_count": null,
   "id": "molecular-pathology",
   "metadata": {},
   "outputs": [],
   "source": [
    "ech_df=dble_col_drop(ech_df)"
   ]
  },
  {
   "cell_type": "code",
   "execution_count": null,
   "id": "bridal-north",
   "metadata": {},
   "outputs": [],
   "source": [
    "ech_df.drop(list(range(2)), axis=0, inplace=True)\n",
    "ech_df.reset_index(drop=True, inplace=True)\n",
    "ech_df=na_col_drop(ech_df,2)\n",
    "ech_df=na_line_drop(ech_df,2)\n",
    "ech_df.reset_index(drop=True, inplace=True)"
   ]
  },
  {
   "cell_type": "code",
   "execution_count": null,
   "id": "bridal-spending",
   "metadata": {},
   "outputs": [],
   "source": [
    "ech_df.columns"
   ]
  },
  {
   "cell_type": "code",
   "execution_count": null,
   "id": "determined-mechanics",
   "metadata": {},
   "outputs": [],
   "source": [
    "name=['ID_ech', 'Periode', 'Emplacement','Date_ech','Temp_prv']\n",
    "ech_df.replace(r'\\n',' ', inplace=True, regex=True)\n",
    "ech_df=col_ren(ech_df, name=name, mode=1)\n",
    "ech_df=ech_df.query('ID_ech==ID_ech')\n",
    "ech_df.insert(1,'Type_ech','Eau')"
   ]
  },
  {
   "cell_type": "code",
   "execution_count": null,
   "id": "frank-health",
   "metadata": {
    "scrolled": true
   },
   "outputs": [],
   "source": [
    "dataframe_viewer(ech_df, rows=3)"
   ]
  },
  {
   "cell_type": "code",
   "execution_count": null,
   "id": "italian-explanation",
   "metadata": {},
   "outputs": [],
   "source": [
    "an=an.transpose()\n",
    "an.reset_index(drop=True, inplace=True)"
   ]
  },
  {
   "cell_type": "code",
   "execution_count": null,
   "id": "victorian-sugar",
   "metadata": {},
   "outputs": [],
   "source": [
    "an=col_ren(an, 1)"
   ]
  },
  {
   "cell_type": "code",
   "execution_count": null,
   "id": "yellow-fence",
   "metadata": {},
   "outputs": [],
   "source": [
    "an.replace(r'<|>','', inplace=True, regex=True)\n",
    "an.replace(r'-',np.nan, inplace=True, regex=True)\n",
    "an.rename(columns={an.columns[0]:'ID_ech'}, inplace=True)"
   ]
  },
  {
   "cell_type": "code",
   "execution_count": null,
   "id": "hollywood-amsterdam",
   "metadata": {},
   "outputs": [],
   "source": [
    "an=dble_col_drop(an)"
   ]
  },
  {
   "cell_type": "code",
   "execution_count": null,
   "id": "sustained-projector",
   "metadata": {},
   "outputs": [],
   "source": [
    "an=na_col_drop(an,3)"
   ]
  },
  {
   "cell_type": "code",
   "execution_count": null,
   "id": "71a34bd5",
   "metadata": {},
   "outputs": [],
   "source": [
    "an.rename(columns={'Période ':'Periode', 'Emplacement \\n- S : Simulateur \\n- HZS : Hors zone simulateur':'Emplacement',\n",
    "                  'Date de prélèvement':'Date_ech', 'col_9':'ammoniaque libre'}, inplace=True)"
   ]
  },
  {
   "cell_type": "code",
   "execution_count": null,
   "id": "utility-enhancement",
   "metadata": {},
   "outputs": [],
   "source": [
    "an.drop(list(range(2)), axis=0, inplace=True)\n",
    "an.reset_index(drop=True, inplace=True)\n",
    "an=na_col_drop(an,1)\n",
    "an.insert(1,'Type_ech','Eau')"
   ]
  },
  {
   "cell_type": "code",
   "execution_count": null,
   "id": "phantom-header",
   "metadata": {},
   "outputs": [],
   "source": [
    "an=col_ren(an, name=POL_NAMES_MODEL, mode=1)\n",
    "#an=an.iloc[:,:-7]"
   ]
  },
  {
   "cell_type": "code",
   "execution_count": null,
   "id": "eeb4404b",
   "metadata": {
    "scrolled": true
   },
   "outputs": [],
   "source": [
    "data=[ech_df, an]\n",
    "for d in data:\n",
    "    for i in range(len(d['ID_ech'])):\n",
    "        e=str(d.loc[i, 'Emplacement'])\n",
    "        \n",
    "        if re.match('S',e, re.I): \n",
    "            d.loc[i,'Emplacement']='Simulateur'\n",
    "        elif re.match('HZS',e, re.I): \n",
    "            d.loc[i,'Emplacement']='Hors simulateur'\n",
    "        else:\n",
    "            d.loc[i,'Emplacement']=np.nan"
   ]
  },
  {
   "cell_type": "code",
   "execution_count": null,
   "id": "07df8bb9",
   "metadata": {},
   "outputs": [],
   "source": [
    "data = [ech_df, an]\n",
    "for d in data:\n",
    "    print('-------------')\n",
    "    for i, r in d.iterrows():\n",
    "        for c in d.columns:\n",
    "            if c not in ['ID', 'ID_ech', 'Type', 'Type_ech', 'Periode', 'Emplacement', 'Date_ech'] and \\\n",
    "            str(type(r[c])) not in [\"<class 'float'>\", \"<class 'int'>\"]:\n",
    "                d.loc[i, c] = np.nan\n",
    "                #print(f'{i}- {str(type(r[c]))}- {c} : {r[c]}')"
   ]
  },
  {
   "cell_type": "code",
   "execution_count": null,
   "id": "blind-duration",
   "metadata": {
    "scrolled": false
   },
   "outputs": [],
   "source": [
    "dataframe_viewer(an, rows=3)"
   ]
  },
  {
   "cell_type": "code",
   "execution_count": null,
   "id": "5e9c6e7f",
   "metadata": {},
   "outputs": [],
   "source": [
    "source_ech_df.Date_ech = source_ech_df.Date_ech.astype(object)"
   ]
  },
  {
   "cell_type": "code",
   "execution_count": null,
   "id": "472d4063",
   "metadata": {},
   "outputs": [],
   "source": [
    "source_ech_df, conflict_df=data_merger(source_ech_df, ech_df, 'outer', ['ID_ech', 'Date_ech'] )"
   ]
  },
  {
   "cell_type": "code",
   "execution_count": null,
   "id": "2e91824f",
   "metadata": {},
   "outputs": [],
   "source": [
    "data_validation(overall_data=source_ech_df, conflict_data=conflict_df, index_col='index', \n",
    "                valid_dict={'Periode_y':list(conflict_df.index), 'Temp_prv_y':list(conflict_df.index), \n",
    "                            'Emplacement_y':list(conflict_df.index)})"
   ]
  },
  {
   "cell_type": "code",
   "execution_count": null,
   "id": "c5df5bb2",
   "metadata": {},
   "outputs": [],
   "source": [
    "source_an, conflict_df=data_merger(source_an, an, 'outer', ['ID_ech', 'Date_ech', 'Periode'])"
   ]
  },
  {
   "cell_type": "code",
   "execution_count": null,
   "id": "fa9ed3d8",
   "metadata": {},
   "outputs": [],
   "source": [
    "data_validation(overall_data=source_an, conflict_data=conflict_df, index_col='index', \n",
    "                valid_dict={'Emplacement_y':list(conflict_df.index)})"
   ]
  },
  {
   "cell_type": "code",
   "execution_count": null,
   "id": "subsequent-trace",
   "metadata": {},
   "outputs": [],
   "source": [
    "if not os.path.exists(tmp_dir):\n",
    "    os.makedirs(tmp_dir), os.makedirs(tmp_dir+'source_merge/') \n",
    "\n",
    "#bh.to_csv(tmp_dir+'source_merge/source_Boreholes.csv', index=False)\n",
    "#pz.to_csv(tmp_dir+sheet+'_Piezometers.csv', index=False)\n",
    "#ouv.to_csv(tmp_dir+sheet+'_Unkown-facility.csv', index=False)\n",
    "#litho.to_csv(tmp_dir+sheet+'_Lithology.csv', index=False)\n",
    "#mes_pz.to_csv(tmp_dir+sheet+'_Measures.csv', index=False)\n",
    "#mes_sol.to_csv(tmp_dir+sheet+'_Measures-soil.csv', index=False)\n",
    "ech_df.to_csv(tmp_dir+sheet+'_Samples-water.csv', index=False)\n",
    "#ech_df.to_csv(tmp_dir+sheet+'_Samples-soil.csv', index=False)\n",
    "an.to_csv(tmp_dir+sheet+'_Analysis.csv', index=False)\n",
    "\n",
    "\n",
    "#source_bh.to_csv(tmp_dir+'source_merge/source_Boreholes.csv', index=False)\n",
    "#source_pz.to_csv(tmp_dir+'source_merge/source_Piezometers.csv', index=False)\n",
    "#source_ukw.to_csv(tmp_dir+'source_merge/source_Unkown-facility.csv', index=False)\n",
    "#source_litho.to_csv(tmp_dir+'source_merge/source_Lithology.csv', index=False)\n",
    "#source_mes_pz.to_csv(tmp_dir+'source_merge/source_Measures.csv', index=False)\n",
    "#source_mes_sol.to_csv(tmp_dir+'source_merge/source_Measures-soil.csv', index=False)\n",
    "source_ech_df.to_csv(tmp_dir+'source_merge/source_Samples-water.csv', index=False)\n",
    "#source_ech_df.to_csv(tmp_dir+'source_merge/source_Samples-soil.csv', index=False)\n",
    "source_an.to_csv(tmp_dir+'source_merge/source_Analysis.csv', index=False)\n",
    "\n",
    "\n",
    "print(f'source_bh:{len(source_bh)} ; source_pz:{len(source_pz)} ; source_litho:{len(source_litho)} ; '\n",
    "     f'source_Fac-uknw:{len(source_ukw)} ; source_an:{len(source_an)} ;\\nsource_ech_df:{len(source_ech_df)} ;'\n",
    "     f'source_ech_df:{len(source_ech_df)} ; source_mes_pz:{len(source_mes_pz)} ; source_mes_sol:{len(source_mes_sol)} ;')"
   ]
  },
  {
   "cell_type": "markdown",
   "id": "673fa0f2",
   "metadata": {},
   "source": [
    "### $\\color{red}{\\textbf{Excel source data merging}}$"
   ]
  },
  {
   "cell_type": "code",
   "execution_count": null,
   "id": "9b95c414",
   "metadata": {},
   "outputs": [],
   "source": [
    "excel_bh_water_an, conflict_df = data_merger(source_an, source_ech_df, how='outer', on=['ID_ech', 'Date_ech', 'Periode'],\n",
    "                                             drop_skip_col=['index'])"
   ]
  },
  {
   "cell_type": "code",
   "execution_count": null,
   "id": "48321d6b",
   "metadata": {},
   "outputs": [],
   "source": [
    "dataframe_viewer(excel_bh_water_an, rows=5)"
   ]
  },
  {
   "cell_type": "code",
   "execution_count": null,
   "id": "48f183eb",
   "metadata": {},
   "outputs": [],
   "source": [
    "save_dir = tmp_dir + 'source_merge/final_'\n",
    "if not os.path.exists(save_dir):\n",
    "    os.makedirs(save_dir)\n",
    "\n",
    "#excel_bhs.to_csv(save_dir + 'Boreholes.csv', index=False)\n",
    "#excel_bh_litho.to_csv(save_dir+'Lithologies.csv', index=False)\n",
    "#excel_bh_equip.to_csv(save_dir+'Equipments.csv', index=False)\n",
    "#excel_bh_soil_sp.to_csv(save_dir+'Soil_samples.csv', index=False)\n",
    "#excel_bh_water_sp.to_csv(save_dir+'Water_samples.csv', index=False)\n",
    "#excel_bh_soil_an.to_csv(save_dir+'Soil_analysis.csv', index=False)\n",
    "excel_bh_water_an.to_csv(save_dir+'water_analysis.csv', index=False)\n",
    "#excel_bh_mes.to_csv(save_dir+'Measures.csv', index=False)\n",
    "#excel_bh_fac.to_csv(save_dir+'Unknow_facilities.csv', index=False)"
   ]
  },
  {
   "cell_type": "markdown",
   "id": "ee3ea062",
   "metadata": {},
   "source": [
    "#### ======================================================================================"
   ]
  },
  {
   "cell_type": "code",
   "execution_count": null,
   "id": "5c636569",
   "metadata": {},
   "outputs": [],
   "source": [
    "# initialisation des variables\n",
    "_df = pd.DataFrame()\n",
    "source_bh, source_eqp, source_ukw = _df, _df, _df\n",
    "source_litho, source_an, source_mes = _df, _df, _df\n",
    "\n",
    "print(f'source_bh: {len(source_bh)} ; source_eqp: {len(source_eqp)} ; source_uknw: {len(source_ukw)} ; '\n",
    "      f'source_litho: {len(source_litho)} ; source_an: {len(source_an)} ; source_mes: {len(source_mes)}')"
   ]
  },
  {
   "cell_type": "markdown",
   "id": "measured-realtor",
   "metadata": {},
   "source": [
    "## 13-Resultats_Siterem_SOL.xlsx\n",
    "* **Sheet : 'Résult SOL ext. pilote'**"
   ]
  },
  {
   "cell_type": "code",
   "execution_count": null,
   "id": "sorted-president",
   "metadata": {},
   "outputs": [],
   "source": [
    "tmp_dir=ROOT_DIR + '/CF_data/Result_traitem/Siterem_Result_Sol/'\n",
    "sheet='Result_sol_ExtP'"
   ]
  },
  {
   "cell_type": "code",
   "execution_count": null,
   "id": "finite-supply",
   "metadata": {
    "scrolled": true
   },
   "outputs": [],
   "source": [
    "df = pd.read_excel(ROOT_DIR + '/CF_data/Data_SITEREM/Resultats_Siterem_SOL.xlsx', \n",
    "                   sheet_name='Résult SOL ext. pilote', skiprows=5)\n",
    "df=na_line_drop(df,0)\n",
    "df=na_col_drop(df,1)\n",
    "df.replace(r'<|>','', inplace=True, regex=True)\n",
    "df.replace(r'-$',np.nan, inplace=True, regex=True)\n",
    "\n",
    "dataframe_viewer(df, rows=5)"
   ]
  },
  {
   "cell_type": "code",
   "execution_count": null,
   "id": "exciting-identification",
   "metadata": {},
   "outputs": [],
   "source": [
    "ech_df=df.loc[:22]\n",
    "an=df.loc[23:]"
   ]
  },
  {
   "cell_type": "code",
   "execution_count": null,
   "id": "verbal-local",
   "metadata": {},
   "outputs": [],
   "source": [
    "an.loc[0.5] = df.loc[0] # put data on first line\n",
    "an = an.sort_index().reset_index(drop=True)"
   ]
  },
  {
   "cell_type": "code",
   "execution_count": null,
   "id": "minute-boards",
   "metadata": {},
   "outputs": [],
   "source": [
    "ech_df=ech_df.transpose()\n",
    "ech_df.reset_index(drop=True, inplace=True)\n",
    "ech_df=col_ren(ech_df, 1)"
   ]
  },
  {
   "cell_type": "code",
   "execution_count": null,
   "id": "passive-clock",
   "metadata": {},
   "outputs": [],
   "source": [
    "ech_df=dble_col_drop(ech_df)"
   ]
  },
  {
   "cell_type": "code",
   "execution_count": null,
   "id": "coordinated-winner",
   "metadata": {},
   "outputs": [],
   "source": [
    "ech_df.drop(list(range(3)), axis=0, inplace=True)\n",
    "ech_df.reset_index(drop=True, inplace=True)\n",
    "ech_df=na_col_drop(ech_df,1)\n",
    "ech_df=na_line_drop(ech_df,3)\n",
    "ech_df.reset_index(drop=True, inplace=True)"
   ]
  },
  {
   "cell_type": "code",
   "execution_count": null,
   "id": "extreme-champion",
   "metadata": {},
   "outputs": [],
   "source": [
    "dataframe_viewer(ech_df, rows=3)"
   ]
  },
  {
   "cell_type": "code",
   "execution_count": null,
   "id": "tropical-reset",
   "metadata": {},
   "outputs": [],
   "source": [
    "ech_df=ech_df[:-1]\n",
    "ech_df.drop(columns=['broyage'], inplace=True)"
   ]
  },
  {
   "cell_type": "code",
   "execution_count": null,
   "id": "continental-street",
   "metadata": {},
   "outputs": [],
   "source": [
    "name=['ID_ech','Ech_top', 'Ech_base','MS','Date_ech','Long_for','Refus','Description','MO','COT','pH_KCl', \n",
    "      'Temp_pH','pH_H20','Fract_2','Fract_2+', 'Fract_min_2µ','Fract_min_50µ','Fract_min_2']\n",
    "ech_df=col_ren(ech_df, name=name, mode=1)"
   ]
  },
  {
   "cell_type": "code",
   "execution_count": null,
   "id": "respiratory-meaning",
   "metadata": {},
   "outputs": [],
   "source": [
    "set(ech_df.Description)"
   ]
  },
  {
   "cell_type": "code",
   "execution_count": null,
   "id": "economic-buffalo",
   "metadata": {},
   "outputs": [],
   "source": [
    "for i in range(len(ech_df['Description'])):\n",
    "    x = ech_df.loc[i,'Description']\n",
    "    if x in ['R','R ']: ech_df.loc[i,'Description']='Remblais'\n",
    "    elif x in ['TN','TN ']: ech_df.loc[i,'Description']='Terrain naturel'\n",
    "\n",
    "ech_df['Refus']=ech_df['Refus'].apply(lambda x: 'x' if not pd.isnull(x) else '')\n",
    "ech_df.insert(1,'Type_ech','Sol')#"
   ]
  },
  {
   "cell_type": "code",
   "execution_count": null,
   "id": "respected-eight",
   "metadata": {
    "scrolled": false
   },
   "outputs": [],
   "source": [
    "dataframe_viewer(ech_df, rows=3)"
   ]
  },
  {
   "cell_type": "code",
   "execution_count": null,
   "id": "human-interaction",
   "metadata": {},
   "outputs": [],
   "source": [
    "an=an.transpose()\n",
    "an.reset_index(drop=True, inplace=True)"
   ]
  },
  {
   "cell_type": "code",
   "execution_count": null,
   "id": "sufficient-opinion",
   "metadata": {},
   "outputs": [],
   "source": [
    "an=col_ren(an, 1)"
   ]
  },
  {
   "cell_type": "code",
   "execution_count": null,
   "id": "certified-topic",
   "metadata": {},
   "outputs": [],
   "source": [
    "an.rename(columns={an.columns[0]:'ID_ech'}, inplace=True)"
   ]
  },
  {
   "cell_type": "code",
   "execution_count": null,
   "id": "blind-ensemble",
   "metadata": {},
   "outputs": [],
   "source": [
    "name=['ID_ech','METAUX LOURDS','Arsenic','Cadmium','Chrome','Chrome VI','Cuivre','Mercure','Plomb','Nickel',\n",
    "'Zinc','CYANURES','cyanure (libre)','cyanure (totaux)','cyanure (APE)','cyanure complex','thiocyanate',\n",
    "'COMPOSES AROMATIQUES VOLATILS','Benzène','Toluène','Éthylbenzène','Orthoxylène','Para- et métaxylène','Xylènes',\n",
    "'Styrène','BTEX totaux','PHENOLS','Phénol','HYDROCARBURES AROMATIQUES POLYCYCLIQUES','Naphtalène','Acénaphtylène',\n",
    "'Acénaphtène','Fluorène','Phénanthrène','Anthracène','Fluoranthène','Pyrène','Benzo(a)anthracène','Chrysène',\n",
    "'Benzo(b)fluoranthène','Benzo(k)fluoranthène','Benzo(a)pyrène','Dibenzo(ah)anthracène','Benzo(ghi)pérylène',\n",
    "'Indéno(1,2,3-cd)pyrène','HAP Totaux (16) - EPA','COMPOSES ORGANOHALOGENES VOLATILS','Tétrachloroéthylène',\n",
    "'Trichloroéthylène','1,1-dichloroéthène','Cis-1,2-dichloroéthène','Trans 1,2-dichloroéthylène',\n",
    "'Totaux (cis,trans) 1,2-dichloroéthènes','Chlorure de vinyle','1,1,1-Trichloroéthane','1,1,2-Trichloroéthane',\n",
    "'1,1-Dichloroéthane','1,2-Dichloroéthane','Tétrachlorométhane','Chloroforme','Dichlorométhane',\n",
    "'1,2-dichloropropane','HYDROCARBURES TOTAUX','fraction aromat. >C6-C7','fraction aromat. >C7-C8',\n",
    "'fraction aromat. >C8-C10','fraction aliphat. C5-C6','fraction aliphat. >C6-C8','fraction aliphat. >C8-C10',\n",
    "'Fraction C5 - C8','Fraction C8 - C10','Fraction C10-C12','Fraction C12-C16','Fraction C16 - C21',\n",
    "'Fraction C21 - C35','Fraction C35 - C40','Hydrocarbures totaux C10-C35','Hydrocarbures totaux C10-C40',\n",
    "'Teneur mesurée','Teneur mesurée','VS : Valeur seuil']\n",
    "\n",
    "an=col_ren(an, name=name, mode=1)"
   ]
  },
  {
   "cell_type": "code",
   "execution_count": null,
   "id": "caroline-suggestion",
   "metadata": {},
   "outputs": [],
   "source": [
    "an=dble_col_drop(an)"
   ]
  },
  {
   "cell_type": "code",
   "execution_count": null,
   "id": "informed-driver",
   "metadata": {},
   "outputs": [],
   "source": [
    "an.drop(list(range(3)), axis=0, inplace=True)\n",
    "an.reset_index(drop=True, inplace=True)\n",
    "an=na_col_drop(an,1)\n",
    "an.insert(1,'Type_ech','Sol')"
   ]
  },
  {
   "cell_type": "code",
   "execution_count": null,
   "id": "lonely-gender",
   "metadata": {},
   "outputs": [],
   "source": [
    "an=col_ren(an, name=POL_NAMES_MODEL, mode=1)"
   ]
  },
  {
   "cell_type": "code",
   "execution_count": null,
   "id": "acquired-bundle",
   "metadata": {},
   "outputs": [],
   "source": [
    "an.rename(columns={'cyanure (totaux)':'CN_tot', 'cyanure (APE)':'CN_EPA'}, inplace=True)"
   ]
  },
  {
   "cell_type": "raw",
   "id": "scheduled-vault",
   "metadata": {},
   "source": [
    "set(ech_df['ID_ech']).symmetric_difference(set(an['ID_ech'])) #lacking ID between the 2 sets"
   ]
  },
  {
   "cell_type": "code",
   "execution_count": null,
   "id": "antique-spouse",
   "metadata": {},
   "outputs": [],
   "source": [
    "dataframe_viewer(an, rows=5) "
   ]
  },
  {
   "cell_type": "code",
   "execution_count": null,
   "id": "877b44c2",
   "metadata": {},
   "outputs": [],
   "source": [
    "dataframe_viewer(ech_df, rows=5)"
   ]
  },
  {
   "cell_type": "code",
   "execution_count": null,
   "id": "demanding-zimbabwe",
   "metadata": {},
   "outputs": [],
   "source": [
    "source_ech_df=ech_df\n",
    "source_an=an"
   ]
  },
  {
   "cell_type": "code",
   "execution_count": null,
   "id": "encouraging-eclipse",
   "metadata": {
    "scrolled": false
   },
   "outputs": [],
   "source": [
    "if not os.path.exists(tmp_dir):\n",
    "    os.makedirs(tmp_dir), os.makedirs(tmp_dir+'source_merge/') \n",
    "\n",
    "#bh.to_csv(tmp_dir+'source_merge/source_Boreholes.csv', index=False)\n",
    "#pz.to_csv(tmp_dir+sheet+'_Piezometers.csv', index=False)\n",
    "#ouv.to_csv(tmp_dir+sheet+'_Unkown-facility.csv', index=False)\n",
    "#litho.to_csv(tmp_dir+sheet+'_Lithology.csv', index=False)\n",
    "#mes_pz.to_csv(tmp_dir+sheet+'_Measures.csv', index=False)\n",
    "#mes_sol.to_csv(tmp_dir+sheet+'_Measures-soil.csv', index=False)\n",
    "#ech_df.to_csv(tmp_dir+sheet+'_Samples-water.csv', index=False)\n",
    "ech_df.to_csv(tmp_dir+sheet+'_Samples-soil.csv', index=False)\n",
    "an.to_csv(tmp_dir+sheet+'_Analysis.csv', index=False)\n",
    "\n",
    "\n",
    "#source_bh.to_csv(tmp_dir+'source_merge/source_Boreholes.csv', index=False)\n",
    "#source_pz.to_csv(tmp_dir+'source_merge/source_Piezometers.csv', index=False)\n",
    "#source_ukw.to_csv(tmp_dir+'source_merge/source_Unkown-facility.csv', index=False)\n",
    "#source_litho.to_csv(tmp_dir+'source_merge/source_Lithology.csv', index=False)\n",
    "#source_mes_pz.to_csv(tmp_dir+'source_merge/source_Measures.csv', index=False)\n",
    "#source_mes_sol.to_csv(tmp_dir+'source_merge/source_Measures-soil.csv', index=False)\n",
    "#source_ech_df.to_csv(tmp_dir+'source_merge/source_Samples-water.csv', index=False)\n",
    "source_ech_df.to_csv(tmp_dir+'source_merge/source_Samples-soil.csv', index=False)\n",
    "source_an.to_csv(tmp_dir+'source_merge/source_Analysis.csv', index=False)\n",
    "\n",
    "\n",
    "print(f'source_bh:{len(source_bh)} ; source_pz:{len(source_pz)} ; source_litho:{len(source_litho)} ; '\n",
    "     f'source_Fac-uknw:{len(source_ukw)} ; source_an:{len(source_an)} ;\\nsource_ech_df:{len(source_ech_df)} ;'\n",
    "     f'source_ech_df:{len(source_ech_df)} ; source_mes_pz:{len(source_mes_pz)} ; source_mes_sol:{len(source_mes_sol)} ;')"
   ]
  },
  {
   "cell_type": "markdown",
   "id": "nutritional-falls",
   "metadata": {},
   "source": [
    "* **Sheet : 'SOL T1 pilote'**"
   ]
  },
  {
   "cell_type": "code",
   "execution_count": null,
   "id": "brilliant-visit",
   "metadata": {},
   "outputs": [],
   "source": [
    "tmp_dir=ROOT_DIR + '/CF_data/Result_traitem/Siterem_Result_Sol/'\n",
    "sheet='SOL_T1_Pilote'"
   ]
  },
  {
   "cell_type": "code",
   "execution_count": null,
   "id": "sorted-purple",
   "metadata": {
    "scrolled": true
   },
   "outputs": [],
   "source": [
    "df = pd.read_excel(ROOT_DIR + '/CF_data/Data_SITEREM/Resultats_Siterem_SOL.xlsx', \n",
    "                   sheet_name='SOL T1 pilote', skiprows=5)\n",
    "df=na_line_drop(df,0)\n",
    "df=na_col_drop(df,1)\n",
    "df.replace(r'<|>','', inplace=True, regex=True)\n",
    "df.replace(r'-$',np.nan, inplace=True, regex=True)\n",
    "\n",
    "dataframe_viewer(df, rows=5)"
   ]
  },
  {
   "cell_type": "code",
   "execution_count": null,
   "id": "streaming-oriental",
   "metadata": {},
   "outputs": [],
   "source": [
    "ech_df=df.loc[:35]\n",
    "an=df.loc[36:]"
   ]
  },
  {
   "cell_type": "code",
   "execution_count": null,
   "id": "aging-balance",
   "metadata": {},
   "outputs": [],
   "source": [
    "an.loc[0.5] = df.loc[0] # put data on first line\n",
    "an = an.sort_index().reset_index(drop=True)"
   ]
  },
  {
   "cell_type": "code",
   "execution_count": null,
   "id": "psychological-insured",
   "metadata": {},
   "outputs": [],
   "source": [
    "ech_df=ech_df.transpose()\n",
    "ech_df.reset_index(drop=True, inplace=True)\n",
    "ech_df=col_ren(ech_df, 1)"
   ]
  },
  {
   "cell_type": "code",
   "execution_count": null,
   "id": "elegant-angel",
   "metadata": {},
   "outputs": [],
   "source": [
    "ech_df=dble_col_drop(ech_df)"
   ]
  },
  {
   "cell_type": "code",
   "execution_count": null,
   "id": "short-constitution",
   "metadata": {},
   "outputs": [],
   "source": [
    "ech_df.drop(list(range(3)), axis=0, inplace=True)\n",
    "ech_df.reset_index(drop=True, inplace=True)\n",
    "ech_df=na_col_drop(ech_df,1)\n",
    "ech_df=na_line_drop(ech_df,3)\n",
    "ech_df.reset_index(drop=True, inplace=True)"
   ]
  },
  {
   "cell_type": "code",
   "execution_count": null,
   "id": "controlled-florence",
   "metadata": {},
   "outputs": [],
   "source": [
    "ech_df=ech_df[:-1]\n",
    "ech_df.drop(columns=['broyage'], inplace=True)"
   ]
  },
  {
   "cell_type": "code",
   "execution_count": null,
   "id": "industrial-bearing",
   "metadata": {},
   "outputs": [],
   "source": [
    "ech_df.columns"
   ]
  },
  {
   "cell_type": "code",
   "execution_count": null,
   "id": "compliant-conversion",
   "metadata": {},
   "outputs": [],
   "source": [
    "name=['ID_ech','Ech_top', 'Ech_base','MS','Date_ech','Long_for','Refus','Nature_ech','Fract_2','Fract_2+']\n",
    "ech_df=col_ren(ech_df, name=name, mode=1)"
   ]
  },
  {
   "cell_type": "code",
   "execution_count": null,
   "id": "planned-trinity",
   "metadata": {},
   "outputs": [],
   "source": [
    "for i in range(len(ech_df['Nature_ech'])):\n",
    "    x = ech_df.loc[i,'Nature_ech']\n",
    "    if x in ['R','R ']: ech_df.loc[i,'Nature_ech']='Remblais'\n",
    "    elif x in ['TN','TN ']: ech_df.loc[i,'Nature_ech']='Terrain naturel'\n",
    "\n",
    "ech_df['Refus']=ech_df['Refus'].apply(lambda x: 'x' if not pd.isnull(x) else '')\n",
    "ech_df.insert(1,'Type_ech','Sol')#"
   ]
  },
  {
   "cell_type": "code",
   "execution_count": null,
   "id": "continental-howard",
   "metadata": {
    "scrolled": false
   },
   "outputs": [],
   "source": [
    "dataframe_viewer(ech_df, rows=3)"
   ]
  },
  {
   "cell_type": "code",
   "execution_count": null,
   "id": "opposite-qatar",
   "metadata": {},
   "outputs": [],
   "source": [
    "an=an.transpose()\n",
    "an.reset_index(drop=True, inplace=True)"
   ]
  },
  {
   "cell_type": "code",
   "execution_count": null,
   "id": "distributed-civilization",
   "metadata": {},
   "outputs": [],
   "source": [
    "an=col_ren(an, 1)"
   ]
  },
  {
   "cell_type": "code",
   "execution_count": null,
   "id": "drawn-wyoming",
   "metadata": {},
   "outputs": [],
   "source": [
    "an.rename(columns={an.columns[0]:'ID_ech'}, inplace=True)"
   ]
  },
  {
   "cell_type": "code",
   "execution_count": null,
   "id": "beautiful-trading",
   "metadata": {},
   "outputs": [],
   "source": [
    "name=['ID_ech','METAUX LOURDS','Arsenic','Cadmium','Chrome','Chrome VI','Cobalt','Cuivre','Mercure','Plomb', \n",
    "'Nickel','Zinc','CYANURES','cyanure (libre)','cyanure (totaux)','cyanure (APE)','cyanure complex','thiocyanate',\n",
    "'COMPOSES AROMATIQUES VOLATILS','Benzène','Toluène','Éthylbenzène', 'Orthoxylène','Para- et métaxylène','Xylènes',\n",
    "'Styrène','BTEX totaux','PHENOLS','Phénol','Indice phénol','HYDROCARBURES AROMATIQUES POLYCYCLIQUES','Naphtalène',\n",
    "'Acénaphtylène','Acénaphtène', 'Fluorène','Phénanthrène','Anthracène','Fluoranthène','Pyrène','Benzo(a)anthracène',\n",
    "'Chrysène','Benzo(b)fluoranthène','Benzo(k)fluoranthène','Benzo(a)pyrène','Dibenzo(ah)anthracène',\n",
    "'Benzo(ghi)pérylène','Indéno(1,2,3-cd)pyrène','HAP Totaux (16) - EPA','COMPOSES ORGANOHALOGENES VOLATILS',\n",
    "'Tétrachloroéthylène','Trichloroéthylène','1,1-dichloroéthène','Cis-1,2-dichloroéthène',\n",
    "'Trans 1,2-dichloroéthylène','Totaux (cis,trans) 1,2-dichloroéthènes','Chlorure de vinyle',\n",
    "'1,1,1-Trichloroéthane','1,1,2-Trichloroéthane','1,1-Dichloroéthane','1,2-Dichloroéthane','Tétrachlorométhane',\n",
    "'Chloroforme','Dichlorométhane','1,2-dichloropropane','EOX','HYDROCARBURES TOTAUX',\n",
    "'fraction aromat. >C6-C7','fraction aromat. >C7-C8','fraction aromat. >C8-C10','fraction aliphat. C5-C6',\n",
    "'fraction aliphat. >C6-C8','fraction aliphat. >C8-C10','Fraction C5 - C8','Fraction C8 - C10','Fraction C10-C12',\n",
    "'Fraction C12-C16','Fraction C16 - C21','Fraction C21 - C35','Fraction C35 - C40','Hydrocarbures totaux C10-C35',\n",
    "'Hydrocarbures totaux C10-C40','METHYL-TERT-BUTYL-ETHER','MTBE']\n",
    "\n",
    "an=an.iloc[:,:-17]\n",
    "an=col_ren(an, name=name, mode=1)"
   ]
  },
  {
   "cell_type": "raw",
   "id": "threatened-southeast",
   "metadata": {},
   "source": [
    "len(name), len(an.columns[:-17]), print(list(an.columns[:-17]))"
   ]
  },
  {
   "cell_type": "code",
   "execution_count": null,
   "id": "still-legend",
   "metadata": {},
   "outputs": [],
   "source": [
    "an=dble_col_drop(an)"
   ]
  },
  {
   "cell_type": "code",
   "execution_count": null,
   "id": "colonial-tuition",
   "metadata": {},
   "outputs": [],
   "source": [
    "an.drop(list(range(3)), axis=0, inplace=True)\n",
    "an.reset_index(drop=True, inplace=True)\n",
    "an=na_col_drop(an,3)\n",
    "an.insert(1,'Type_ech','Sol')"
   ]
  },
  {
   "cell_type": "code",
   "execution_count": null,
   "id": "stable-consolidation",
   "metadata": {},
   "outputs": [],
   "source": [
    "an=col_ren(an, name=POL_NAMES_MODEL, mode=1)"
   ]
  },
  {
   "cell_type": "code",
   "execution_count": null,
   "id": "romantic-dylan",
   "metadata": {},
   "outputs": [],
   "source": [
    "an.rename(columns={'cyanure (totaux)':'CN_tot', 'cyanure (APE)':'CN_EPA'}, inplace=True)"
   ]
  },
  {
   "cell_type": "code",
   "execution_count": null,
   "id": "planned-charger",
   "metadata": {},
   "outputs": [],
   "source": [
    "dataframe_viewer(an, rows=5) "
   ]
  },
  {
   "cell_type": "code",
   "execution_count": null,
   "id": "1f519912",
   "metadata": {},
   "outputs": [],
   "source": [
    "dataframe_viewer(ech_df, rows=5) "
   ]
  },
  {
   "cell_type": "raw",
   "id": "pharmaceutical-teddy",
   "metadata": {},
   "source": [
    "set(ech_df['ID_ech']).symmetric_difference(set(an['ID_ech'])) #lacking ID between the 2 sets"
   ]
  },
  {
   "cell_type": "code",
   "execution_count": null,
   "id": "extra-controversy",
   "metadata": {},
   "outputs": [],
   "source": [
    "#source_ech_df.info()#, ech_df.info()"
   ]
  },
  {
   "cell_type": "code",
   "execution_count": null,
   "id": "german-checkout",
   "metadata": {},
   "outputs": [],
   "source": [
    "source_ech_df=source_ech_df[['ID_ech', 'Type_ech', 'Date_ech','Long_for', 'Refus', 'Description', \n",
    "                               'Ech_top', 'Ech_base', 'MS', 'Fract_2', 'Fract_2+']]"
   ]
  },
  {
   "cell_type": "code",
   "execution_count": null,
   "id": "scheduled-swedish",
   "metadata": {},
   "outputs": [],
   "source": [
    "source_ech_df=data_merger(source_ech_df, ech_df, on='ID_ech', how='outer')[0]"
   ]
  },
  {
   "cell_type": "code",
   "execution_count": null,
   "id": "c8520229",
   "metadata": {},
   "outputs": [],
   "source": [
    "source_an, conflict=data_merger(source_an,an, on='ID_ech', how='outer')"
   ]
  },
  {
   "cell_type": "code",
   "execution_count": null,
   "id": "duplicate-bolivia",
   "metadata": {},
   "outputs": [],
   "source": [
    "source_an=source_an.query('ID_ech==ID_ech')"
   ]
  },
  {
   "cell_type": "code",
   "execution_count": null,
   "id": "smaller-clearance",
   "metadata": {
    "scrolled": false
   },
   "outputs": [],
   "source": [
    "if not os.path.exists(tmp_dir):\n",
    "    os.makedirs(tmp_dir), os.makedirs(tmp_dir+'source_merge/') \n",
    "\n",
    "#bh.to_csv(tmp_dir+'source_merge/source_Boreholes.csv', index=False)\n",
    "#pz.to_csv(tmp_dir+sheet+'_Piezometers.csv', index=False)\n",
    "#ouv.to_csv(tmp_dir+sheet+'_Unkown-facility.csv', index=False)\n",
    "#litho.to_csv(tmp_dir+sheet+'_Lithology.csv', index=False)\n",
    "#mes_pz.to_csv(tmp_dir+sheet+'_Measures.csv', index=False)\n",
    "#mes_sol.to_csv(tmp_dir+sheet+'_Measures-soil.csv', index=False)\n",
    "#ech_df.to_csv(tmp_dir+sheet+'_Samples-water.csv', index=False)\n",
    "ech_df.to_csv(tmp_dir+sheet+'_Samples-soil.csv', index=False)\n",
    "an.to_csv(tmp_dir+sheet+'_Analysis.csv', index=False)\n",
    "\n",
    "\n",
    "#source_bh.to_csv(tmp_dir+'source_merge/source_Boreholes.csv', index=False)\n",
    "#source_pz.to_csv(tmp_dir+'source_merge/source_Piezometers.csv', index=False)\n",
    "#source_ukw.to_csv(tmp_dir+'source_merge/source_Unkown-facility.csv', index=False)\n",
    "#source_litho.to_csv(tmp_dir+'source_merge/source_Lithology.csv', index=False)\n",
    "#source_mes_pz.to_csv(tmp_dir+'source_merge/source_Measures.csv', index=False)\n",
    "#source_mes_sol.to_csv(tmp_dir+'source_merge/source_Measures-soil.csv', index=False)\n",
    "#source_ech_df.to_csv(tmp_dir+'source_merge/source_Samples-water.csv', index=False)\n",
    "source_ech_df.to_csv(tmp_dir+'source_merge/source_Samples-soil.csv', index=False)\n",
    "source_an.to_csv(tmp_dir+'source_merge/source_Analysis.csv', index=False)\n",
    "\n",
    "\n",
    "print(f'source_bh:{len(source_bh)} ; source_pz:{len(source_pz)} ; source_litho:{len(source_litho)} ; '\n",
    "     f'source_Fac-uknw:{len(source_ukw)} ; source_an:{len(source_an)} ;\\nsource_ech_df:{len(source_ech_df)} ;'\n",
    "     f'source_ech_df:{len(source_ech_df)} ; source_mes_pz:{len(source_mes_pz)} ; source_mes_sol:{len(source_mes_sol)} ;')"
   ]
  },
  {
   "cell_type": "markdown",
   "id": "28783397",
   "metadata": {},
   "source": [
    "### $\\color{red}{\\textbf{Excel source data merging}}$"
   ]
  },
  {
   "cell_type": "code",
   "execution_count": null,
   "id": "28988a81",
   "metadata": {},
   "outputs": [],
   "source": [
    "excel_bh_soil_an, conflict_df = data_merger(source_ech_df, source_an, how='outer', on='ID_ech', drop_skip_col=['index'])"
   ]
  },
  {
   "cell_type": "code",
   "execution_count": null,
   "id": "0a75a241",
   "metadata": {},
   "outputs": [],
   "source": [
    "save_dir = tmp_dir + 'source_merge/final_'\n",
    "if not os.path.exists(save_dir):\n",
    "    os.makedirs(save_dir)\n",
    "\n",
    "#excel_bhs.to_csv(save_dir + 'Boreholes.csv', index=False)\n",
    "#excel_bh_litho.to_csv(save_dir+'Lithologies.csv', index=False)\n",
    "#excel_bh_equip.to_csv(save_dir+'Equipments.csv', index=False)\n",
    "#excel_bh_soil_sp.to_csv(save_dir+'Soil_samples.csv', index=False)\n",
    "#excel_bh_water_sp.to_csv(save_dir+'Water_samples.csv', index=False)\n",
    "excel_bh_soil_an.to_csv(save_dir+'Soil_analysis.csv', index=False)\n",
    "#excel_bh_water_an.to_csv(save_dir+'water_analysis.csv', index=False)\n",
    "#excel_bh_mes.to_csv(save_dir+'Measures.csv', index=False)\n",
    "#excel_bh_fac.to_csv(save_dir+'Unknow_facilities.csv', index=False)"
   ]
  },
  {
   "cell_type": "markdown",
   "id": "a0ddbb8b",
   "metadata": {},
   "source": [
    "#### ======================================================================================"
   ]
  },
  {
   "cell_type": "code",
   "execution_count": null,
   "id": "c0905ef8",
   "metadata": {},
   "outputs": [],
   "source": [
    "# initialisation des variables\n",
    "_df = pd.DataFrame()\n",
    "source_bh, source_eqp, source_ukw = _df, _df, _df\n",
    "source_litho, source_an, source_mes = _df, _df, _df\n",
    "\n",
    "print(f'source_bh: {len(source_bh)} ; source_eqp: {len(source_eqp)} ; source_uknw: {len(source_ukw)} ; '\n",
    "      f'source_litho: {len(source_litho)} ; source_an: {len(source_an)} ; source_mes: {len(source_mes)}')"
   ]
  },
  {
   "cell_type": "markdown",
   "id": "iraqi-uruguay",
   "metadata": {},
   "source": [
    "## 14-Logs_forages_vUmons_2018-03-20.xlsx\n",
    "* **Sheet : 'Analyse_eau_Phases1&2'**"
   ]
  },
  {
   "cell_type": "code",
   "execution_count": null,
   "id": "coral-wagon",
   "metadata": {},
   "outputs": [],
   "source": [
    "tmp_dir=ROOT_DIR + '/CF_data/Result_traitem/vUmons_logsFor/'\n",
    "sheet='Analyse_eau_Phases1&2'"
   ]
  },
  {
   "cell_type": "code",
   "execution_count": null,
   "id": "stretch-stone",
   "metadata": {
    "scrolled": true
   },
   "outputs": [],
   "source": [
    "df = pd.read_excel(ROOT_DIR + '/CF_data/Data_UMONS/Logs_forages_vUmons_2018-03-20.xlsx', \n",
    "                   sheet_name='Analyse_eau_Phases1&2', skiprows=0)\n",
    "df=na_line_drop(df,0)\n",
    "df=na_col_drop(df,1)\n",
    "df.replace(r'<|>','', inplace=True, regex=True)\n",
    "df.replace(r'-$',np.nan, inplace=True, regex=True)\n",
    "\n",
    "dataframe_viewer(df, rows=5)"
   ]
  },
  {
   "cell_type": "code",
   "execution_count": null,
   "id": "placed-receipt",
   "metadata": {},
   "outputs": [],
   "source": [
    "df.drop(list(range(4)), axis=0, inplace=True)\n",
    "df.reset_index(drop=True, inplace=True)"
   ]
  },
  {
   "cell_type": "code",
   "execution_count": null,
   "id": "lightweight-oakland",
   "metadata": {},
   "outputs": [],
   "source": [
    "df.replace(9999,np.nan, inplace=True, regex=True) #int\n",
    "df.replace(f'[{9999}|9999].',np.nan, inplace=True, regex=True) #float, str"
   ]
  },
  {
   "cell_type": "code",
   "execution_count": null,
   "id": "conventional-moderator",
   "metadata": {},
   "outputs": [],
   "source": [
    "df['CE']=df['CE'].apply(lambda x: pd.to_numeric(x)/1000 \n",
    "                                  if re.search('^\\d+', str(x)) and not pd.isnull(x) else np.nan)"
   ]
  },
  {
   "cell_type": "code",
   "execution_count": null,
   "id": "right-actor",
   "metadata": {},
   "outputs": [],
   "source": [
    "df=col_ren(df,mode=1,name=[re.sub('9999','-',x) for x in df.columns])\n",
    "df=col_ren(df,mode=1, name=POL_NAMES_MODEL)"
   ]
  },
  {
   "cell_type": "code",
   "execution_count": null,
   "id": "frequent-necklace",
   "metadata": {},
   "outputs": [],
   "source": [
    "name=['ID', 'ID_ech', 'Date_ech', 'X', 'Y', 'Z', 'Long_for','Long_pz_sol', 'Niv_eau_sol', 'pH', 'CE', 'T', \n",
    "      'As', 'Cd', 'Cr', 'Cr_VI', 'Cu', 'Hg','Pb', 'Ni', 'Zn', 'CN_libre', 'CN_tot', 'CN_APE', 'CN_comp',\n",
    "      'thioCN', 'Bnz_vn', 'Bnz', 'Toln_vn', 'Toln', 'EthylBnz','O-Xyl', 'P-M-Xyl', 'Xyl_vn', 'Xyl', 'Styr', \n",
    "      'Phenol','Naphta_vn', 'Naphta', 'Acenaphtyl', 'Acenaphtn', 'Fluorene',\n",
    "       'Phenanthr', 'Anthrc', 'Flranth', 'Pyr', 'Bnz(a)anthrc', 'Chrys',\n",
    "       'Bnz(b)flranth', 'Bnz(k)flranth', 'Bnz(a)pyr', 'Dibnz(ah)anthrc',\n",
    "       'Bnz(ghi)peryl', 'Indeno(1,2,3-cd)pyr', 'HAP_tot_EPA',\n",
    "       '1,1-DCE', '1,2-DCE', '1,1-DCEn', 'Cis-1,2-DCEn',\n",
    "       '(cis,trans) 1,2-DCE_tot', 'Trans 1,2-DCEyl', 'DCM', '1,2-DCP',\n",
    "       'TetraCEyn', 'TCM', '1,1,1-TCE', '1,1,2-TCE', 'TCEyn', 'Chloroforme',\n",
    "       'CVinyl', 'Arom_C6C7', 'Arom_C7C8', 'Arom_C8C10', 'Aliphat_C5C6',\n",
    "       'Aliphat_C6C8', 'Aliphat_C8C10', 'Fract_C5C8', 'Fract_C8C10',\n",
    "       'Fract_C10C12', 'Fract_C12C16', 'Fract_C16C21', 'Fract_C21C35',\n",
    "       'HC_tot_C10C35', 'MTBE', 'Chlorure']\n",
    "df=col_ren(df, mode=1,name=name)"
   ]
  },
  {
   "cell_type": "code",
   "execution_count": null,
   "id": "treated-archive",
   "metadata": {
    "scrolled": true
   },
   "outputs": [],
   "source": [
    "df['ID_ech'].replace('\\n', ' ', inplace=True, regex=True)\n",
    "df.insert(1,'Type_ech','Eau')"
   ]
  },
  {
   "cell_type": "code",
   "execution_count": null,
   "id": "athletic-craps",
   "metadata": {
    "scrolled": true
   },
   "outputs": [],
   "source": [
    "df.drop([20,39], axis=0,inplace=True)\n",
    "df.reset_index(drop=True, inplace=True)"
   ]
  },
  {
   "cell_type": "code",
   "execution_count": null,
   "id": "headed-chart",
   "metadata": {},
   "outputs": [],
   "source": [
    "df.loc[38:,'Date_ech']=df.loc[38:,'Date_ech'].apply(lambda x : dtm.datetime.fromordinal(dtm.datetime(1900, 1, 1).toordinal() + x - 2))"
   ]
  },
  {
   "cell_type": "code",
   "execution_count": null,
   "id": "compact-parliament",
   "metadata": {},
   "outputs": [],
   "source": [
    "for i in range(len(df['ID_ech'])):\n",
    "    if pd.isnull(df.loc[i,'ID_ech']): \n",
    "        df.loc[i,'ID_ech']=df.loc[i,'ID']"
   ]
  },
  {
   "cell_type": "code",
   "execution_count": null,
   "id": "substantial-value",
   "metadata": {},
   "outputs": [],
   "source": [
    "pz=df[['ID', 'X', 'Y', 'Z', 'Long_for','Long_pz_sol']]\n",
    "pz['Type'] = 'Piezo'\n",
    "\n",
    "ech_df=df[['ID','ID_ech','Type_ech','Date_ech', 'X', 'Y', 'Z','Niv_eau_sol', 'pH', 'CE', 'T']]\n",
    "an=df[['ID','ID_ech','Type_ech','Date_ech', 'X', 'Y', 'Z','As', 'Cd', 'Cr', 'Cr_VI', 'Cu', 'Hg','Pb', 'Ni', 'Zn', 'CN_libre', 'CN_tot', 'CN_APE', \n",
    "       'CN_comp','thioCN', 'Bnz_vn', 'Bnz', 'Toln_vn', 'Toln', 'EthylBnz','O-Xyl', 'P-M-Xyl', 'Xyl_vn', 'Xyl',\n",
    "       'Styr', 'Phenol','Naphta_vn', 'Naphta', 'Acenaphtyl', 'Acenaphtn', 'Fluorene',\n",
    "       'Phenanthr', 'Anthrc', 'Flranth', 'Pyr', 'Bnz(a)anthrc', 'Chrys',\n",
    "       'Bnz(b)flranth', 'Bnz(k)flranth', 'Bnz(a)pyr', 'Dibnz(ah)anthrc',\n",
    "       'Bnz(ghi)peryl', 'Indeno(1,2,3-cd)pyr', 'HAP_tot_EPA',\n",
    "       '1,1-DCE', '1,2-DCE', '1,1-DCEn', 'Cis-1,2-DCEn',\n",
    "       '(cis,trans) 1,2-DCE_tot', 'Trans 1,2-DCEyl', 'DCM', '1,2-DCP',\n",
    "       'TetraCEyn', 'TCM', '1,1,1-TCE', '1,1,2-TCE', 'TCEyn', 'Chloroforme',\n",
    "       'CVinyl', 'Arom_C6C7', 'Arom_C7C8', 'Arom_C8C10', 'Aliphat_C5C6',\n",
    "       'Aliphat_C6C8', 'Aliphat_C8C10', 'Fract_C5C8', 'Fract_C8C10',\n",
    "       'Fract_C10C12', 'Fract_C12C16', 'Fract_C16C21', 'Fract_C21C35',\n",
    "       'HC_tot_C10C35', 'MTBE', 'Chlorure']]"
   ]
  },
  {
   "cell_type": "code",
   "execution_count": null,
   "id": "recent-piece",
   "metadata": {},
   "outputs": [],
   "source": [
    "pz.drop_duplicates(subset=['ID'], keep='first', ignore_index=True, inplace=True)"
   ]
  },
  {
   "cell_type": "code",
   "execution_count": null,
   "id": "former-while",
   "metadata": {},
   "outputs": [],
   "source": [
    "dataframe_viewer(an, rows=5)"
   ]
  },
  {
   "cell_type": "code",
   "execution_count": null,
   "id": "reduced-medicare",
   "metadata": {},
   "outputs": [],
   "source": [
    "source_an=an\n",
    "source_pz=pz\n",
    "source_ech_df=ech_df"
   ]
  },
  {
   "cell_type": "code",
   "execution_count": null,
   "id": "8b71e380",
   "metadata": {},
   "outputs": [],
   "source": [
    "for i in range(len(excel_water_an.ID_ech)):\n",
    "    c=excel_water_an.loc[i, 'ID_ech']\n",
    "    excel_water_an.loc[i, 'ID']=re.search(\"(\\w+\\d+(?:\\w)?)\",c).group(1)"
   ]
  },
  {
   "cell_type": "code",
   "execution_count": null,
   "id": "583d97b1",
   "metadata": {},
   "outputs": [],
   "source": [
    "save_dir = tmp_dir + 'source_merge/final_'\n",
    "if not os.path.exists(save_dir):\n",
    "    os.makedirs(save_dir)\n",
    "\n",
    "#excel_bhs.to_csv(save_dir + 'Boreholes.csv', index=False)\n",
    "#excel_bh_litho.to_csv(save_dir+'Lithologies.csv', index=False)\n",
    "#excel_bh_equip.to_csv(save_dir+'Equipments.csv', index=False)\n",
    "#excel_bh_soil_sp.to_csv(save_dir+'Soil_samples.csv', index=False)\n",
    "#excel_bh_water_sp.to_csv(save_dir+'Water_samples.csv', index=False)\n",
    "#excel_bh_soil_an.to_csv(save_dir+'Soil_analysis.csv', index=False)\n",
    "#excel_bh_water_an.to_csv(save_dir+'water_analysis.csv', index=False)\n",
    "#excel_bh_mes.to_csv(save_dir+'Measures.csv', index=False)\n",
    "#excel_bh_fac.to_csv(save_dir+'Unknow_facilities.csv', index=False)\n",
    "\n",
    "an.to_csv(save_dir+'Water_analysis.csv', index=False)"
   ]
  },
  {
   "cell_type": "code",
   "execution_count": null,
   "id": "recovered-extraction",
   "metadata": {
    "scrolled": false
   },
   "outputs": [],
   "source": [
    "if not os.path.exists(tmp_dir):\n",
    "    os.makedirs(tmp_dir), os.makedirs(tmp_dir+'source_merge/') \n",
    "\n",
    "#bh.to_csv(tmp_dir+'source_merge/source_Boreholes.csv', index=False)\n",
    "pz.to_csv(tmp_dir+sheet+'_Piezometers.csv', index=False)\n",
    "#ouv.to_csv(tmp_dir+sheet+'_Unkown-facility.csv', index=False)\n",
    "#litho.to_csv(tmp_dir+sheet+'_Lithology.csv', index=False)\n",
    "#mes_pz.to_csv(tmp_dir+sheet+'_Measures.csv', index=False)\n",
    "#mes_sol.to_csv(tmp_dir+sheet+'_Measures-soil.csv', index=False)\n",
    "ech_df.to_csv(tmp_dir+sheet+'_Samples-water.csv', index=False)\n",
    "#ech_df.to_csv(tmp_dir+sheet+'_Samples-soil.csv', index=False)\n",
    "an.to_csv(tmp_dir+sheet+'_Analysis.csv', index=False)\n",
    "\n",
    "\n",
    "#source_bh.to_csv(tmp_dir+'source_merge/source_Boreholes.csv', index=False)\n",
    "source_pz.to_csv(tmp_dir+'source_merge/source_Piezometers.csv', index=False)\n",
    "#source_ukw.to_csv(tmp_dir+'source_merge/source_Unkown-facility.csv', index=False)\n",
    "#source_litho.to_csv(tmp_dir+'source_merge/source_Lithology.csv', index=False)\n",
    "#source_mes_pz.to_csv(tmp_dir+'source_merge/source_Measures.csv', index=False)\n",
    "#source_mes_sol.to_csv(tmp_dir+'source_merge/source_Measures-soil.csv', index=False)\n",
    "source_ech_df.to_csv(tmp_dir+'source_merge/source_Samples-water.csv', index=False)\n",
    "#source_ech_df.to_csv(tmp_dir+'source_merge/source_Samples-soil.csv', index=False)\n",
    "source_an.to_csv(tmp_dir+'source_merge/source_Analysis.csv', index=False)\n",
    "\n",
    "\n",
    "print(f'source_bh:{len(source_bh)} ; source_pz:{len(source_pz)} ; source_litho:{len(source_litho)} ; '\n",
    "     f'source_Fac-uknw:{len(source_ukw)} ; source_an:{len(source_an)} ;\\nsource_ech_df:{len(source_ech_df)} ;'\n",
    "     f'source_ech_df:{len(source_ech_df)} ; source_mes_pz:{len(source_mes_pz)} ; source_mes_sol:{len(source_mes_sol)} ;')"
   ]
  },
  {
   "cell_type": "markdown",
   "id": "noted-citizenship",
   "metadata": {},
   "source": [
    "* **Sheet : 'Analyse_sol_Phases1&2'**"
   ]
  },
  {
   "cell_type": "code",
   "execution_count": null,
   "id": "controlling-enlargement",
   "metadata": {},
   "outputs": [],
   "source": [
    "tmp_dir=ROOT_DIR + '/CF_data/Result_traitem/vUmons_logsFor/'\n",
    "sheet='Analyse_sol_Phases1&2'"
   ]
  },
  {
   "cell_type": "code",
   "execution_count": null,
   "id": "adverse-wells",
   "metadata": {
    "scrolled": false
   },
   "outputs": [],
   "source": [
    "df = pd.read_excel(ROOT_DIR + '/CF_data/Data_UMONS/Logs_forages_vUmons_2018-03-20.xlsx', \n",
    "                   sheet_name='Analyse_sol_Phases1&2', skiprows=0)\n",
    "df=na_line_drop(df,0)\n",
    "df=na_col_drop(df,1)\n",
    "df.replace(r'<|>','', inplace=True, regex=True)\n",
    "df.replace(r'-$',np.nan, inplace=True, regex=True)\n",
    "\n",
    "dataframe_viewer(df, rows=5)"
   ]
  },
  {
   "cell_type": "code",
   "execution_count": null,
   "id": "interesting-present",
   "metadata": {},
   "outputs": [],
   "source": [
    "df=col_ren(df, mode=1, name=POL_NAMES_MODEL)"
   ]
  },
  {
   "cell_type": "code",
   "execution_count": null,
   "id": "through-smooth",
   "metadata": {},
   "outputs": [],
   "source": [
    "name=['ID_ech','Date_ech','ID','X','Y','Z','Nature_ech','Organo','Long_for','Refus','Ech_top','Ech_base',\n",
    "      'MS','Broyage < 150 µm','Broyage ','Fract_2','Fract_2+','As','Cd','Cr','Cr_VI','Cu',\n",
    "       'Hg','Pb','Ni','Zn','CN_libre','CN_tot','CN_APE',\n",
    "       'CN_comp','thioCN','Bnz','Toln','EthylBnz','O-Xyl','P-M-Xyl',\n",
    "       'Xyl','Styr','Phenol','Naphta','Acenaphtyl','Acenaphtn',\n",
    "       'Fluorene','Phenanthr','Anthrc','Flranth','Pyr','Bnz(a)anthrc',\n",
    "       'Chrys','Bnz(b)flranth','Bnz(k)flranth','Bnz(a)pyr',\n",
    "       'Dibnz(ah)anthrc','Bnz(ghi)peryl','Indeno(1,2,3-cd)pyr',\n",
    "       'HAP_tot_EPA','1,1-DCE','1,2-DCE','1,1-DCEn',\n",
    "       'Cis-1,2-DCEn','Trans 1,2-DCEyl','DCM',\n",
    "       '(cis,trans) 1,2-DCE_tot','1,2-DCP','TetraCEyn','TCM',\n",
    "       '1,1,1-TCE','1,1,2-TCE','TCEyn','Chloroforme','CVinyl','Arom_C6C7',\n",
    "       'Arom_C7C8','Arom_C8C10','Aliphat_C5C6','Aliphat_C6C8',\n",
    "       'Aliphat_C8C10','Fract_C5C8','Fract_C8C10','Fract_C10C12',\n",
    "       'Fract_C12C16','Fract_C16C21','Fract_C21C35','HC_tot_C10C35']\n",
    "df=col_ren(df, mode=1, name=name)"
   ]
  },
  {
   "cell_type": "code",
   "execution_count": null,
   "id": "funny-operator",
   "metadata": {},
   "outputs": [],
   "source": [
    "df.drop(list(range(4)), axis=0, inplace=True)\n",
    "df.reset_index(drop=True, inplace=True)"
   ]
  },
  {
   "cell_type": "code",
   "execution_count": null,
   "id": "excited-substitute",
   "metadata": {},
   "outputs": [],
   "source": [
    "df.replace(9999,np.nan, inplace=True, regex=True) #int\n",
    "df.replace(f'[{9999}|9999].',np.nan, inplace=True, regex=True) #float, str"
   ]
  },
  {
   "cell_type": "code",
   "execution_count": null,
   "id": "accurate-hypothesis",
   "metadata": {},
   "outputs": [],
   "source": [
    "for i in range(len(df['Nature_ech'])):\n",
    "    x = df.loc[i,'Nature_ech']\n",
    "    if x in ['R','R ']: df.loc[i,'Nature_ech']='Remblais'\n",
    "    elif x in ['L']: df.loc[i,'Nature_ech']='Limons'\n",
    "    elif x in ['LA']: df.loc[i,'Nature_ech']='Limons et argiles'\n",
    "    elif x in ['LS']: df.loc[i,'Nature_ech']='Limons et sables'\n",
    "\n",
    "df['Refus']=df['Refus'].apply(lambda x: 'x' if not pd.isnull(x) else '')\n",
    "df.insert(1,'Type_ech','Sol')"
   ]
  },
  {
   "cell_type": "code",
   "execution_count": null,
   "id": "improving-advocacy",
   "metadata": {},
   "outputs": [],
   "source": [
    "df.drop(14, axis=0, inplace=True)\n",
    "df.drop(['Broyage < 150 µm', 'Broyage '], axis=1, inplace=True)\n",
    "df.reset_index(drop=True, inplace=True)"
   ]
  },
  {
   "cell_type": "code",
   "execution_count": null,
   "id": "retired-melissa",
   "metadata": {},
   "outputs": [],
   "source": [
    "df.loc[8, 'ID_ech']='F4/2M'\n",
    "df.loc[31, 'ID_ech']='P19/1'\n",
    "df.loc[32, 'ID_ech']='P19/2'"
   ]
  },
  {
   "cell_type": "code",
   "execution_count": null,
   "id": "convinced-deviation",
   "metadata": {},
   "outputs": [],
   "source": [
    "pz=df[['ID', 'X', 'Y', 'Z', 'Long_for','Refus']]\n",
    "pz['Type'] = 'Piezo'\n",
    "\n",
    "ech_df=df[['ID_ech', 'Type_ech', 'Date_ech', 'X', 'Y', 'Z', 'Nature_ech','Organo', \n",
    "            'Ech_top', 'Ech_base', 'MS', 'Fract_2','Fract_2+']]\n",
    "an=df[['ID','ID_ech', 'Date_ech', 'X', 'Y', 'Z', 'Type_ech','As', 'Cd', 'Cr', 'Cr_VI', 'Cu', 'Hg', 'Pb', 'Ni', 'Zn',\n",
    "       'CN_libre', 'CN_tot', 'CN_APE', 'CN_comp', 'thioCN', 'Bnz', 'Toln',\n",
    "       'EthylBnz', 'O-Xyl', 'P-M-Xyl', 'Xyl', 'Styr', 'Phenol', 'Naphta',\n",
    "       'Acenaphtyl', 'Acenaphtn', 'Fluorene', 'Phenanthr', 'Anthrc', 'Flranth',\n",
    "       'Pyr', 'Bnz(a)anthrc', 'Chrys', 'Bnz(b)flranth', 'Bnz(k)flranth',\n",
    "       'Bnz(a)pyr', 'Dibnz(ah)anthrc', 'Bnz(ghi)peryl', 'Indeno(1,2,3-cd)pyr',\n",
    "       'HAP_tot_EPA', '1,1-DCE', '1,2-DCE', '1,1-DCEn', 'Cis-1,2-DCEn',\n",
    "       'Trans 1,2-DCEyl', 'DCM', '(cis,trans) 1,2-DCE_tot', '1,2-DCP',\n",
    "       'TetraCEyn', 'TCM', '1,1,1-TCE', '1,1,2-TCE', 'TCEyn', 'Chloroforme',\n",
    "       'CVinyl', 'Arom_C6C7', 'Arom_C7C8', 'Arom_C8C10', 'Aliphat_C5C6',\n",
    "       'Aliphat_C6C8', 'Aliphat_C8C10', 'Fract_C5C8', 'Fract_C8C10',\n",
    "       'Fract_C10C12', 'Fract_C12C16', 'Fract_C16C21', 'Fract_C21C35',\n",
    "       'HC_tot_C10C35']]"
   ]
  },
  {
   "cell_type": "code",
   "execution_count": null,
   "id": "14168ca8",
   "metadata": {},
   "outputs": [],
   "source": [
    "an['ID'] = an['ID'].apply(lambda x: re.sub('^P', 'F', x)) "
   ]
  },
  {
   "cell_type": "code",
   "execution_count": null,
   "id": "reflected-reduction",
   "metadata": {},
   "outputs": [],
   "source": [
    "dataframe_viewer(an, rows=5)"
   ]
  },
  {
   "cell_type": "code",
   "execution_count": null,
   "id": "610dc1f4",
   "metadata": {},
   "outputs": [],
   "source": [
    "save_dir = tmp_dir + 'source_merge/final_'\n",
    "if not os.path.exists(save_dir):\n",
    "    os.makedirs(save_dir)\n",
    "\n",
    "#excel_bhs.to_csv(save_dir + 'Boreholes.csv', index=False)\n",
    "#excel_bh_litho.to_csv(save_dir+'Lithologies.csv', index=False)\n",
    "#excel_bh_equip.to_csv(save_dir+'Equipments.csv', index=False)\n",
    "#excel_bh_soil_sp.to_csv(save_dir+'Soil_samples.csv', index=False)\n",
    "#excel_bh_water_sp.to_csv(save_dir+'Water_samples.csv', index=False)\n",
    "#excel_bh_soil_an.to_csv(save_dir+'Soil_analysis.csv', index=False)\n",
    "#excel_bh_water_an.to_csv(save_dir+'water_analysis.csv', index=False)\n",
    "#excel_bh_mes.to_csv(save_dir+'Measures.csv', index=False)\n",
    "#excel_bh_fac.to_csv(save_dir+'Unknow_facilities.csv', index=False)\n",
    "\n",
    "an.to_csv(save_dir+'Soil_analysis.csv', index=False)"
   ]
  },
  {
   "cell_type": "code",
   "execution_count": null,
   "id": "horizontal-pathology",
   "metadata": {},
   "outputs": [],
   "source": [
    "source_an=source_an.append(an, ignore_index=True)\n",
    "source_pz=pz\n",
    "source_ech_df=ech_df"
   ]
  },
  {
   "cell_type": "code",
   "execution_count": null,
   "id": "floating-denmark",
   "metadata": {
    "scrolled": false
   },
   "outputs": [],
   "source": [
    "if not os.path.exists(tmp_dir):\n",
    "    os.makedirs(tmp_dir), os.makedirs(tmp_dir+'source_merge/') \n",
    "\n",
    "#bh.to_csv(tmp_dir+'source_merge/source_Boreholes.csv', index=False)\n",
    "pz.to_csv(tmp_dir+sheet+'_Piezometers.csv', index=False)\n",
    "#ouv.to_csv(tmp_dir+sheet+'_Unkown-facility.csv', index=False)\n",
    "#litho.to_csv(tmp_dir+sheet+'_Lithology.csv', index=False)\n",
    "#mes_pz.to_csv(tmp_dir+sheet+'_Measures.csv', index=False)\n",
    "#mes_sol.to_csv(tmp_dir+sheet+'_Measures-soil.csv', index=False)\n",
    "#ech_df.to_csv(tmp_dir+sheet+'_Samples-water.csv', index=False)\n",
    "ech_df.to_csv(tmp_dir+sheet+'_Samples-soil.csv', index=False)\n",
    "an.to_csv(tmp_dir+sheet+'_Analysis.csv', index=False)\n",
    "\n",
    "\n",
    "#source_bh.to_csv(tmp_dir+'source_merge/source_Boreholes.csv', index=False)\n",
    "source_pz.to_csv(tmp_dir+'source_merge/source_Piezometers.csv', index=False)\n",
    "#source_ukw.to_csv(tmp_dir+'source_merge/source_Unkown-facility.csv', index=False)\n",
    "#source_litho.to_csv(tmp_dir+'source_merge/source_Lithology.csv', index=False)\n",
    "#source_mes_pz.to_csv(tmp_dir+'source_merge/source_Measures.csv', index=False)\n",
    "#source_mes_sol.to_csv(tmp_dir+'source_merge/source_Measures-soil.csv', index=False)\n",
    "#source_ech_df.to_csv(tmp_dir+'source_merge/source_Samples-water.csv', index=False)\n",
    "source_ech_df.to_csv(tmp_dir+'source_merge/source_Samples-soil.csv', index=False)\n",
    "source_an.to_csv(tmp_dir+'source_merge/source_Analysis.csv', index=False)\n",
    "\n",
    "\n",
    "print(f'source_bh:{len(source_bh)} ; source_pz:{len(source_pz)} ; source_litho:{len(source_litho)} ; '\n",
    "     f'source_Fac-uknw:{len(source_ukw)} ; source_an:{len(source_an)} ;\\nsource_ech_df:{len(source_ech_df)} ;'\n",
    "     f'source_ech_df:{len(source_ech_df)} ; source_mes_pz:{len(source_mes_pz)} ; source_mes_sol:{len(source_mes_sol)} ;')"
   ]
  },
  {
   "cell_type": "markdown",
   "id": "diverse-italic",
   "metadata": {},
   "source": [
    "* **Sheet : 'Synthèse'**"
   ]
  },
  {
   "cell_type": "code",
   "execution_count": null,
   "id": "grand-token",
   "metadata": {},
   "outputs": [],
   "source": [
    "tmp_dir=ROOT_DIR + '/CF_data/Result_traitem/vUmons_logsFor/'\n",
    "sheet='Synthese'"
   ]
  },
  {
   "cell_type": "code",
   "execution_count": null,
   "id": "spoken-cycling",
   "metadata": {
    "scrolled": false
   },
   "outputs": [],
   "source": [
    "df = pd.read_excel(ROOT_DIR + '/CF_data/Data_UMONS/Logs_forages_vUmons_2018-03-20.xlsx', \n",
    "                   sheet_name='Synthèse', skiprows=1)\n",
    "df=na_line_drop(df,0)\n",
    "df=na_col_drop(df,1)\n",
    "df.replace(r'<|>','', inplace=True, regex=True)\n",
    "df.replace(r'-$',np.nan, inplace=True, regex=True)\n",
    "\n",
    "dataframe_viewer(df, rows=5)"
   ]
  },
  {
   "cell_type": "code",
   "execution_count": null,
   "id": "martial-delta",
   "metadata": {},
   "outputs": [],
   "source": [
    "df=df[:29]\n",
    "df.replace('\\*','', inplace=True, regex=True)\n",
    "df['Refus']=df['Refus'].apply(lambda x: 'x' if not pd.isnull(x) else '')"
   ]
  },
  {
   "cell_type": "code",
   "execution_count": null,
   "id": "mineral-bridges",
   "metadata": {},
   "outputs": [],
   "source": [
    "name=['ID','X','Y','Z', 'Refus','Long_for', 'RB', 'ALL', 'S_A', 'S_S', \n",
    "      'Rb_base','All_top', 'Soc_alt_top','Soc_sn_top']\n",
    "df=col_ren(df, mode=1, name=name)"
   ]
  },
  {
   "cell_type": "code",
   "execution_count": null,
   "id": "silver-breath",
   "metadata": {
    "scrolled": true
   },
   "outputs": [],
   "source": [
    "cols=['ID','X','Y','Z', 'Refus','Long_for']\n",
    "\n",
    "for i in range(len(df)):\n",
    "    if not pd.isnull(df.loc[i, 'RB']): \n",
    "        df.loc[i, 'Nappe']='Remblais'\n",
    "        df.loc[i, 'Litho_top']=0\n",
    "        if not pd.isnull(df.loc[i, 'Rb_base']):\n",
    "            df.loc[i, 'Litho_base']=df.loc[i, 'Rb_base']\n",
    "        else:\n",
    "            df.loc[i, 'Litho_base']=df.loc[i, 'Long_for']\n",
    "    \n",
    "    if not pd.isnull(df.loc[i, 'ALL']):\n",
    "        df.loc[i+.2,cols]=df.loc[i,cols]\n",
    "        df.loc[i+.2, 'Nappe']='Alluvions'\n",
    "        df.loc[i+.2, 'Litho_top']=df.loc[i, 'All_top']\n",
    "        if not pd.isnull(df.loc[i, 'S_A']):\n",
    "            df.loc[i+.2, 'Litho_base']=df.loc[i, 'Soc_alt_top']\n",
    "        else:\n",
    "            df.loc[i+.2, 'Litho_base']=df.loc[i, 'Long_for']\n",
    "    \n",
    "    if not pd.isnull(df.loc[i, 'S_A']):\n",
    "        df.loc[i+.5,cols]=df.loc[i,cols]\n",
    "        df.loc[i+.5, 'Nappe']='Socle altéré'\n",
    "        df.loc[i+.5, 'Litho_top']=df.loc[i, 'Soc_alt_top']\n",
    "        if not pd.isnull(df.loc[i, 'S_S']):\n",
    "            df.loc[i+.5, 'Litho_base']=df.loc[i, 'Soc_sn_top']\n",
    "        else:\n",
    "            df.loc[i+.5, 'Litho_base']=df.loc[i, 'Long_for']\n",
    "            \n",
    "    if not pd.isnull(df.loc[i, 'S_S']):\n",
    "        df.loc[i+.7,cols]=df.loc[i,cols]\n",
    "        df.loc[i+.7, 'Nappe']='Socle sain'\n",
    "        df.loc[i+.7, 'Litho_top']=df.loc[i, 'Soc_sn_top']\n",
    "        df.loc[i+.7, 'Litho_base']=df.loc[i, 'Long_for']\n",
    "\n",
    "df.drop(columns=['RB', 'ALL', 'S_A', 'S_S', 'Rb_base','All_top', 'Soc_alt_top','Soc_sn_top'], inplace=True)\n",
    "df.sort_index(inplace=True)\n",
    "df.reset_index(drop=True, inplace=True)"
   ]
  },
  {
   "cell_type": "code",
   "execution_count": null,
   "id": "devoted-pathology",
   "metadata": {},
   "outputs": [],
   "source": [
    "dataframe_viewer(df, rows=5, cols=15)"
   ]
  },
  {
   "cell_type": "code",
   "execution_count": null,
   "id": "specialized-pledge",
   "metadata": {
    "scrolled": true
   },
   "outputs": [],
   "source": [
    "df.columns"
   ]
  },
  {
   "cell_type": "code",
   "execution_count": null,
   "id": "personalized-switch",
   "metadata": {},
   "outputs": [],
   "source": [
    "bh=df[['ID','X','Y','Z','Long_for','Refus']]\n",
    "bh['Type']='Forage'\n",
    "\n",
    "litho=df[['ID','X','Y','Z','Litho_top','Litho_base','Nappe']]\n",
    "source_litho=litho"
   ]
  },
  {
   "cell_type": "code",
   "execution_count": null,
   "id": "accepted-vienna",
   "metadata": {
    "scrolled": true
   },
   "outputs": [],
   "source": [
    "if not os.path.exists(tmp_dir):\n",
    "    os.makedirs(tmp_dir), os.makedirs(tmp_dir+'source_merge/') \n",
    "\n",
    "bh.to_csv(tmp_dir+'source_Boreholes.csv', index=False)\n",
    "#pz.to_csv(tmp_dir+sheet+'_Piezometers.csv', index=False)\n",
    "#ouv.to_csv(tmp_dir+sheet+'_Unkown-facility.csv', index=False)\n",
    "litho.to_csv(tmp_dir+sheet+'_Lithology.csv', index=False)\n",
    "#mes_pz.to_csv(tmp_dir+sheet+'_Measures.csv', index=False)\n",
    "#mes_sol.to_csv(tmp_dir+sheet+'_Measures-soil.csv', index=False)\n",
    "#ech_df.to_csv(tmp_dir+sheet+'_Samples-water.csv', index=False)\n",
    "#ech_df.to_csv(tmp_dir+sheet+'_Samples-soil.csv', index=False)\n",
    "#an.to_csv(tmp_dir+sheet+'_Analysis.csv', index=False)\n",
    "\n",
    "\n",
    "#source_bh.to_csv(tmp_dir+'source_merge/source_Boreholes.csv', index=False)\n",
    "#source_pz.to_csv(tmp_dir+'source_merge/source_Piezometers.csv', index=False)\n",
    "#source_ukw.to_csv(tmp_dir+'source_merge/source_Unkown-facility.csv', index=False)\n",
    "source_litho.to_csv(tmp_dir+'source_merge/source_Lithology.csv', index=False)\n",
    "#source_mes_pz.to_csv(tmp_dir+'source_merge/source_Measures.csv', index=False)\n",
    "#source_mes_sol.to_csv(tmp_dir+'source_merge/source_Measures-soil.csv', index=False)\n",
    "#source_ech_df.to_csv(tmp_dir+'source_merge/source_Samples-water.csv', index=False)\n",
    "#source_ech_df.to_csv(tmp_dir+'source_merge/source_Samples-soil.csv', index=False)\n",
    "#source_an.to_csv(tmp_dir+'source_merge/source_Analysis.csv', index=False)\n",
    "\n",
    "\n",
    "print(f'source_bh:{len(source_bh)} ; source_pz:{len(source_pz)} ; source_litho:{len(source_litho)} ; '\n",
    "     f'source_Fac-uknw:{len(source_ukw)} ; source_an:{len(source_an)} ;\\nsource_ech_df:{len(source_ech_df)} ;'\n",
    "     f'source_ech_df:{len(source_ech_df)} ; source_mes_pz:{len(source_mes_pz)} ; source_mes_sol:{len(source_mes_sol)} ;')"
   ]
  },
  {
   "cell_type": "markdown",
   "id": "alien-career",
   "metadata": {},
   "source": [
    "* **Sheet : 'Sond2017v2'**"
   ]
  },
  {
   "cell_type": "code",
   "execution_count": null,
   "id": "electric-martial",
   "metadata": {},
   "outputs": [],
   "source": [
    "tmp_dir=ROOT_DIR + '/CF_data/Result_traitem/vUmons_logsFor/'\n",
    "sheet='Sond2017v2'"
   ]
  },
  {
   "cell_type": "code",
   "execution_count": null,
   "id": "decent-basis",
   "metadata": {
    "scrolled": true
   },
   "outputs": [],
   "source": [
    "df = pd.read_excel(ROOT_DIR + '/CF_data/Data_UMONS/Logs_forages_vUmons_2018-03-20.xlsx', \n",
    "                   sheet_name='Sond2017v2', skiprows=0)\n",
    "df=na_line_drop(df,0)\n",
    "df=na_col_drop(df,1)\n",
    "df.replace(r'<|>','', inplace=True, regex=True)\n",
    "df.replace(r'-$',np.nan, inplace=True, regex=True)\n",
    "\n",
    "dataframe_viewer(df, rows=5)"
   ]
  },
  {
   "cell_type": "code",
   "execution_count": null,
   "id": "structured-apartment",
   "metadata": {},
   "outputs": [],
   "source": [
    "df.replace('\\*','', inplace=True, regex=True)\n",
    "df['Refus']=df['Refus'].apply(lambda x: 'x' if x==1 else '')"
   ]
  },
  {
   "cell_type": "code",
   "execution_count": null,
   "id": "random-slope",
   "metadata": {},
   "outputs": [],
   "source": [
    "name=['R_ID','ID','X','Y','Z','Refus','Date_for','Long_for','Z_fond','RB','ALL', 'S_A', 'S_S', \n",
    "      'Rb_base','cote_rb','All_top', 'Soc_alt_top','Soc_sn_top']\n",
    "df=col_ren(df, mode=1, name=name)\n",
    "df=df[['ID','X','Y','Z','Refus','Date_for','Long_for','Z_fond','RB','ALL', 'S_A', 'S_S', \n",
    "      'Rb_base','All_top', 'Soc_alt_top','Soc_sn_top']]"
   ]
  },
  {
   "cell_type": "code",
   "execution_count": null,
   "id": "younger-practitioner",
   "metadata": {
    "scrolled": true
   },
   "outputs": [],
   "source": [
    "cols=['ID','Date_for','X','Y','Z','Z_fond','Refus','Long_for']\n",
    "\n",
    "for i in range(len(df)):    \n",
    "    if df.loc[i, 'RB']==1: \n",
    "        df.loc[i, 'Nappe']='Remblais'\n",
    "        df.loc[i, 'Litho_top']=0\n",
    "        \n",
    "        if not pd.isnull(df.loc[i, 'Rb_base']): df.loc[i, 'Litho_base']=df.loc[i, 'Rb_base']\n",
    "        else: df.loc[i, 'Litho_base']=df.loc[i, 'Long_for']\n",
    "    \n",
    "    val_def=df.loc[i, 'Litho_base'] # temporary value of litho_base if nan\n",
    "    \n",
    "    if df.loc[i, 'ALL']==1:\n",
    "        df.loc[i+.2,cols]=df.loc[i,cols]\n",
    "        df.loc[i+.2, 'Nappe']='Alluvions'\n",
    "        \n",
    "        if not pd.isnull(df.loc[i, 'All_top']): df.loc[i+.2, 'Litho_top']=df.loc[i, 'All_top']\n",
    "        else: df.loc[i+.2, 'Litho_top']=val_def #df.loc[i, 'litho_base']\n",
    "            \n",
    "        if df.loc[i, 'S_A']==1: df.loc[i+.2, 'Litho_base']=df.loc[i, 'Soc_alt_top']\n",
    "        else: df.loc[i+.2, 'Litho_base']=df.loc[i, 'Long_for']\n",
    "    \n",
    "    if df.loc[i, 'S_A']==1:\n",
    "        df.loc[i+.5,cols]=df.loc[i,cols]\n",
    "        df.loc[i+.5, 'Nappe']='Socle altéré'\n",
    "        \n",
    "        if not pd.isnull(df.loc[i, 'Soc_alt_top']): df.loc[i+.5, 'Litho_top']=df.loc[i, 'Soc_alt_top']\n",
    "        else: df.loc[i+.5, 'Litho_top']=val_def #df.loc[i+.2, 'litho_base']\n",
    "        \n",
    "        if df.loc[i, 'S_S']==1: df.loc[i+.5, 'Litho_base']=df.loc[i, 'Soc_sn_top']\n",
    "        else: df.loc[i+.5, 'Litho_base']=df.loc[i, 'Long_for']\n",
    "            \n",
    "    if df.loc[i, 'S_S']==1:\n",
    "        df.loc[i+.7,cols]=df.loc[i,cols]\n",
    "        df.loc[i+.7, 'Nappe']='Socle sain'\n",
    "        df.loc[i+.7, 'Litho_top']=df.loc[i, 'Soc_sn_top']\n",
    "        df.loc[i+.7, 'Litho_base']=df.loc[i, 'Long_for']\n",
    "\n",
    "df.drop(columns=['RB', 'ALL', 'S_A', 'S_S','Rb_base','All_top', 'Soc_alt_top','Soc_sn_top'], inplace=True)\n",
    "df.sort_index(inplace=True)\n",
    "df.reset_index(drop=True, inplace=True)"
   ]
  },
  {
   "cell_type": "code",
   "execution_count": null,
   "id": "smaller-extension",
   "metadata": {},
   "outputs": [],
   "source": [
    "df=df[:-1]"
   ]
  },
  {
   "cell_type": "code",
   "execution_count": null,
   "id": "pediatric-dylan",
   "metadata": {
    "scrolled": true
   },
   "outputs": [],
   "source": [
    "dataframe_viewer(df, rows=5, cols=15)"
   ]
  },
  {
   "cell_type": "code",
   "execution_count": null,
   "id": "innocent-serum",
   "metadata": {
    "scrolled": true
   },
   "outputs": [],
   "source": [
    "bh=df[['ID','X','Y','Z','Z_fond','Date_for','Long_for','Refus']]\n",
    "bh['Type']='Forage'\n",
    "\n",
    "litho=df[['ID','X','Y','Z','Litho_top','Litho_base','Nappe']]\n",
    "source_litho = source_litho.merge(df, 'outer')"
   ]
  },
  {
   "cell_type": "code",
   "execution_count": null,
   "id": "mighty-steel",
   "metadata": {
    "scrolled": true
   },
   "outputs": [],
   "source": [
    "if not os.path.exists(tmp_dir):\n",
    "    os.makedirs(tmp_dir), os.makedirs(tmp_dir+'source_merge/') \n",
    "\n",
    "bh.to_csv(tmp_dir+'source_Boreholes.csv', index=False)\n",
    "#pz.to_csv(tmp_dir+sheet+'_Piezometers.csv', index=False)\n",
    "#ouv.to_csv(tmp_dir+sheet+'_Unkown-facility.csv', index=False)\n",
    "litho.to_csv(tmp_dir+sheet+'_Lithology.csv', index=False)\n",
    "#mes_pz.to_csv(tmp_dir+sheet+'_Measures.csv', index=False)\n",
    "#mes_sol.to_csv(tmp_dir+sheet+'_Measures-soil.csv', index=False)\n",
    "#ech_df.to_csv(tmp_dir+sheet+'_Samples-water.csv', index=False)\n",
    "#ech_df.to_csv(tmp_dir+sheet+'_Samples-soil.csv', index=False)\n",
    "#an.to_csv(tmp_dir+sheet+'_Analysis.csv', index=False)\n",
    "\n",
    "\n",
    "#source_bh.to_csv(tmp_dir+'source_merge/source_Boreholes.csv', index=False)\n",
    "#source_pz.to_csv(tmp_dir+'source_merge/source_Piezometers.csv', index=False)\n",
    "#source_ukw.to_csv(tmp_dir+'source_merge/source_Unkown-facility.csv', index=False)\n",
    "source_litho.to_csv(tmp_dir+'source_merge/source_Lithology.csv', index=False)\n",
    "#source_mes_pz.to_csv(tmp_dir+'source_merge/source_Measures.csv', index=False)\n",
    "#source_mes_sol.to_csv(tmp_dir+'source_merge/source_Measures-soil.csv', index=False)\n",
    "#source_ech_df.to_csv(tmp_dir+'source_merge/source_Samples-water.csv', index=False)\n",
    "#source_ech_df.to_csv(tmp_dir+'source_merge/source_Samples-soil.csv', index=False)\n",
    "#source_an.to_csv(tmp_dir+'source_merge/source_Analysis.csv', index=False)\n",
    "\n",
    "\n",
    "print(f'source_bh:{len(source_bh)} ; source_pz:{len(source_pz)} ; source_litho:{len(source_litho)} ; '\n",
    "     f'source_Fac-uknw:{len(source_ukw)} ; source_an:{len(source_an)} ;\\nsource_ech_df:{len(source_ech_df)} ;'\n",
    "     f'source_ech_df:{len(source_ech_df)} ; source_mes_pz:{len(source_mes_pz)} ; source_mes_sol:{len(source_mes_sol)} ;')"
   ]
  },
  {
   "cell_type": "markdown",
   "id": "excessive-convert",
   "metadata": {},
   "source": [
    "# Processing for new data added - April 2021"
   ]
  },
  {
   "cell_type": "markdown",
   "id": "b5d4ff8d",
   "metadata": {},
   "source": [
    "#### ======================================================================================"
   ]
  },
  {
   "cell_type": "code",
   "execution_count": null,
   "id": "e36e85cc",
   "metadata": {},
   "outputs": [],
   "source": [
    "# initialisation des variables\n",
    "_df = pd.DataFrame()\n",
    "source_bh, source_eqp, source_ukw = _df, _df, _df\n",
    "source_litho, source_an, source_mes = _df, _df, _df\n",
    "\n",
    "print(f'source_bh: {len(source_bh)} ; source_eqp: {len(source_eqp)} ; source_uknw: {len(source_ukw)} ; '\n",
    "      f'source_litho: {len(source_litho)} ; source_an: {len(source_an)} ; source_mes: {len(source_mes)}')"
   ]
  },
  {
   "cell_type": "markdown",
   "id": "framed-assignment",
   "metadata": {},
   "source": [
    "## 15-Profils de sol et données de terrain 2019.xlsx\n",
    "* **Sheet : 'Log'**"
   ]
  },
  {
   "cell_type": "code",
   "execution_count": null,
   "id": "bizarre-fundamental",
   "metadata": {},
   "outputs": [],
   "source": [
    "tmp_dir=ROOT_DIR + '/CF_data/Result_traitem/donnees_terrain_2019/'\n",
    "sheet='Log'"
   ]
  },
  {
   "cell_type": "code",
   "execution_count": null,
   "id": "compound-cricket",
   "metadata": {
    "scrolled": false
   },
   "outputs": [],
   "source": [
    "df = pd.read_excel(ROOT_DIR + '/CF_data/Data_UMONS/Profils_de_sol_Siterem- extension_pilote_et_pilote/'\n",
    "                   'Profils de sol et donnees de terrain 2019.xlsx', \n",
    "                   sheet_name='Log', skiprows=0)\n",
    "df=na_line_drop(df,0)\n",
    "df=na_col_drop(df,2)\n",
    "df.replace(r'<|>','', inplace=True, regex=True)\n",
    "df.replace(r'-$',np.nan, inplace=True, regex=True)\n",
    "\n",
    "dataframe_viewer(df, rows=5)"
   ]
  },
  {
   "cell_type": "code",
   "execution_count": null,
   "id": "rapid-concert",
   "metadata": {},
   "outputs": [],
   "source": [
    "name = ['ID','Litho_top', 'Litho_base', 'Keyword', 'Description']\n",
    "df = col_ren(df, name=name, mode=1, )\n",
    "df = df[1:]\n",
    "df['Date_for'] = dtm.datetime(2019,12,18)"
   ]
  },
  {
   "cell_type": "raw",
   "id": "580fd76b",
   "metadata": {},
   "source": [
    "df['ID'] = df['ID'].apply(lambda x: 'F'+str(x))"
   ]
  },
  {
   "cell_type": "code",
   "execution_count": null,
   "id": "popular-nursing",
   "metadata": {},
   "outputs": [],
   "source": [
    "df.drop(index=df.query('Litho_base.isnull() or Litho_top.isnull()').index, inplace=True)"
   ]
  },
  {
   "cell_type": "code",
   "execution_count": null,
   "id": "international-butterfly",
   "metadata": {
    "scrolled": true
   },
   "outputs": [],
   "source": [
    "compute_BH_length(df)"
   ]
  },
  {
   "cell_type": "code",
   "execution_count": null,
   "id": "proper-ribbon",
   "metadata": {},
   "outputs": [],
   "source": [
    "df.query('Litho_base.isnull() or Litho_top.isnull()')"
   ]
  },
  {
   "cell_type": "code",
   "execution_count": null,
   "id": "amber-likelihood",
   "metadata": {
    "scrolled": true
   },
   "outputs": [],
   "source": [
    "dataframe_viewer(df, rows=5, cols=15)"
   ]
  },
  {
   "cell_type": "code",
   "execution_count": null,
   "id": "solved-latitude",
   "metadata": {},
   "outputs": [],
   "source": [
    "bh = df[1:62]\n",
    "pza = df[65:80] #piezair\n",
    "pz = df[83:]"
   ]
  },
  {
   "cell_type": "code",
   "execution_count": null,
   "id": "interpreted-fiber",
   "metadata": {},
   "outputs": [],
   "source": [
    "bh.reset_index(drop=True, inplace=True)\n",
    "pza.reset_index(drop=True, inplace=True)\n",
    "pz.reset_index(drop=True, inplace=True)"
   ]
  },
  {
   "cell_type": "code",
   "execution_count": null,
   "id": "separate-father",
   "metadata": {},
   "outputs": [],
   "source": [
    "bh.insert(1,'Type', 'Forage')\n",
    "bh.insert(1,'Zone', 'Extension Pilote')\n",
    "pza.insert(1,'Type', 'Piezair')\n",
    "pza.insert(1,'Zone', 'Extension Pilote')\n",
    "pz.insert(1,'Type', 'Piezo')\n",
    "pz.insert(1,'Zone', 'Mini-Pilote')"
   ]
  },
  {
   "cell_type": "code",
   "execution_count": null,
   "id": "standard-clinton",
   "metadata": {
    "scrolled": true
   },
   "outputs": [],
   "source": [
    "litho=bh.append(pza)\n",
    "litho=litho.append(pz)\n",
    "litho=litho[['ID','Type','Zone','Litho_top','Litho_base','Description','Keyword']]\n",
    "litho.reset_index(inplace=True, drop=True)"
   ]
  },
  {
   "cell_type": "code",
   "execution_count": null,
   "id": "e9b53d7d",
   "metadata": {},
   "outputs": [],
   "source": [
    "litho.loc[litho[litho['ID']==50].index, 'Type'] = 'Piezo'"
   ]
  },
  {
   "cell_type": "code",
   "execution_count": null,
   "id": "empty-creek",
   "metadata": {
    "scrolled": true
   },
   "outputs": [],
   "source": [
    "dataframe_viewer(litho, rows=3)"
   ]
  },
  {
   "cell_type": "code",
   "execution_count": null,
   "id": "healthy-pontiac",
   "metadata": {},
   "outputs": [],
   "source": [
    "source_litho=litho"
   ]
  },
  {
   "cell_type": "code",
   "execution_count": null,
   "id": "recognized-entity",
   "metadata": {
    "scrolled": true
   },
   "outputs": [],
   "source": [
    "if not os.path.exists(tmp_dir):\n",
    "    os.makedirs(tmp_dir), os.makedirs(tmp_dir+'source_merge/') \n",
    "\n",
    "#bh.to_csv(tmp_dir+sheet+'_Boreholes.csv', index=False)\n",
    "#pz.to_csv(tmp_dir+sheet+'_Piezometers.csv', index=False)\n",
    "#pza.to_csv(tmp_dir+sheet+'_Piezairs.csv', index=False)\n",
    "#ouv.to_csv(tmp_dir+sheet+'_Unkown-facility.csv', index=False)\n",
    "litho.to_csv(tmp_dir+sheet+'_Lithology.csv', index=False)\n",
    "#mes_pz.to_csv(tmp_dir+sheet+'_Measures.csv', index=False)\n",
    "#mes_sol.to_csv(tmp_dir+sheet+'_Measures-soil.csv', index=False)\n",
    "#ech_df.to_csv(tmp_dir+sheet+'_Samples-water.csv', index=False)\n",
    "#ech_df.to_csv(tmp_dir+sheet+'_Samples-soil.csv', index=False)\n",
    "#an.to_csv(tmp_dir+sheet+'_Analysis.csv', index=False)\n",
    "\n",
    "\n",
    "#source_bh.to_csv(tmp_dir+'source_merge/source_Boreholes.csv', index=False)\n",
    "#source_pz.to_csv(tmp_dir+'source_merge/source_Piezometers.csv', index=False)\n",
    "#source_ukw.to_csv(tmp_dir+'source_merge/source_Unkown-facility.csv', index=False)\n",
    "source_litho.to_csv(tmp_dir+'source_merge/source_Lithology.csv', index=False)\n",
    "#source_mes_pz.to_csv(tmp_dir+'source_merge/source_Measures.csv', index=False)\n",
    "#source_mes_sol.to_csv(tmp_dir+'source_merge/source_Measures-soil.csv', index=False)\n",
    "#source_ech_df.to_csv(tmp_dir+'source_merge/source_Samples-water.csv', index=False)\n",
    "#source_ech_df.to_csv(tmp_dir+'source_merge/source_Samples-soil.csv', index=False)\n",
    "#source_an.to_csv(tmp_dir+'source_merge/source_Analysis.csv', index=False)\n",
    "\n",
    "\n",
    "print(f'source_bh:{len(source_bh)} ; source_pz:{len(source_pz)} ; source_litho:{len(source_litho)} ; '\n",
    "     f'source_Fac-uknw:{len(source_ukw)} ; source_an:{len(source_an)} ;\\nsource_ech_df:{len(source_ech_df)} ;'\n",
    "     f'source_ech_df:{len(source_ech_df)} ; source_mes_pz:{len(source_mes_pz)} ; source_mes_sol:{len(source_mes_sol)} ;')"
   ]
  },
  {
   "cell_type": "markdown",
   "id": "northern-accessory",
   "metadata": {},
   "source": [
    "* **Sheet : 'Echantillon'+'Organoleptique**"
   ]
  },
  {
   "cell_type": "code",
   "execution_count": null,
   "id": "union-lease",
   "metadata": {},
   "outputs": [],
   "source": [
    "tmp_dir=ROOT_DIR + '/CF_data/Result_traitem/donnees_terrain_2019/'\n",
    "sheet='Echantillon'"
   ]
  },
  {
   "cell_type": "code",
   "execution_count": null,
   "id": "increased-munich",
   "metadata": {
    "scrolled": false
   },
   "outputs": [],
   "source": [
    "df = pd.read_excel(ROOT_DIR + '/CF_data/Data_UMONS/Profils_de_sol_Siterem- extension_pilote_et_pilote/'\n",
    "                   'Profils de sol et donnees de terrain 2019.xlsx', \n",
    "                   sheet_name='Echantillon', skiprows=1)\n",
    "df=na_line_drop(df,0)\n",
    "df=na_col_drop(df,2)\n",
    "df.replace(r'<|>','', inplace=True, regex=True)\n",
    "df.replace(r'-$',np.nan, inplace=True, regex=True)\n",
    "\n",
    "dataframe_viewer(df, rows=5)"
   ]
  },
  {
   "cell_type": "code",
   "execution_count": null,
   "id": "cordless-scheme",
   "metadata": {},
   "outputs": [],
   "source": [
    "name=['ID','Ech_top', 'Ech_base', 'ID_ech']\n",
    "df=col_ren(df, name=name, mode=1)\n",
    "df.insert(1,'Type_ech','Sol')"
   ]
  },
  {
   "cell_type": "code",
   "execution_count": null,
   "id": "equivalent-roots",
   "metadata": {},
   "outputs": [],
   "source": [
    "df.drop(index=[43,44,55,56,66], inplace=True)\n",
    "df.reset_index(drop=True, inplace=True)"
   ]
  },
  {
   "cell_type": "code",
   "execution_count": null,
   "id": "annual-organization",
   "metadata": {},
   "outputs": [],
   "source": [
    "ech=df.copy()"
   ]
  },
  {
   "cell_type": "code",
   "execution_count": null,
   "id": "accepted-marketing",
   "metadata": {
    "scrolled": false
   },
   "outputs": [],
   "source": [
    "df = pd.read_excel(ROOT_DIR + '/CF_data/Data_UMONS/Profils_de_sol_Siterem- extension_pilote_et_pilote/'\n",
    "                   'Profils de sol et donnees de terrain 2019.xlsx', \n",
    "                   sheet_name='Organoleptique', skiprows=1)\n",
    "df=na_line_drop(df,0)\n",
    "df=na_col_drop(df,4)\n",
    "df.replace(r'<|>','', inplace=True, regex=True)\n",
    "df.replace(r'-$',np.nan, inplace=True, regex=True)\n",
    "\n",
    "dataframe_viewer(df, rows=5)"
   ]
  },
  {
   "cell_type": "code",
   "execution_count": null,
   "id": "ahead-lunch",
   "metadata": {},
   "outputs": [],
   "source": [
    "name=['ID','Pol_top', 'Pol_base','Polluant','Intensite']\n",
    "df=col_ren(df, name=name, mode=1)"
   ]
  },
  {
   "cell_type": "code",
   "execution_count": null,
   "id": "occupational-sugar",
   "metadata": {},
   "outputs": [],
   "source": [
    "df.drop(index=[10,11,14,15], inplace=True)\n",
    "df.reset_index(drop=True, inplace=True)"
   ]
  },
  {
   "cell_type": "code",
   "execution_count": null,
   "id": "worse-colombia",
   "metadata": {},
   "outputs": [],
   "source": [
    "mdf, conflict_df =data_merger(ech, df, on='ID', how='outer')"
   ]
  },
  {
   "cell_type": "code",
   "execution_count": null,
   "id": "twelve-cylinder",
   "metadata": {},
   "outputs": [],
   "source": [
    "dataframe_viewer(mdf)"
   ]
  },
  {
   "cell_type": "code",
   "execution_count": null,
   "id": "limited-prerequisite",
   "metadata": {},
   "outputs": [],
   "source": [
    "ech_df=mdf\n",
    "source_ech_df=ech_df"
   ]
  },
  {
   "cell_type": "code",
   "execution_count": null,
   "id": "organic-jason",
   "metadata": {
    "scrolled": true
   },
   "outputs": [],
   "source": [
    "if not os.path.exists(tmp_dir):\n",
    "    os.makedirs(tmp_dir), os.makedirs(tmp_dir+'source_merge/') \n",
    "\n",
    "#bh.to_csv(tmp_dir+'source_merge/source_Boreholes.csv', index=False)\n",
    "#pz.to_csv(tmp_dir+sheet+'_Piezometers.csv', index=False)\n",
    "#ouv.to_csv(tmp_dir+sheet+'_Unkown-facility.csv', index=False)\n",
    "#litho.to_csv(tmp_dir+sheet+'_Lithology.csv', index=False)\n",
    "#mes_pz.to_csv(tmp_dir+sheet+'_Measures.csv', index=False)\n",
    "#mes_sol.to_csv(tmp_dir+sheet+'_Measures-soil.csv', index=False)\n",
    "#ech_df.to_csv(tmp_dir+sheet+'_Samples-water.csv', index=False)\n",
    "ech_df.to_csv(tmp_dir+sheet+'_Samples-soil.csv', index=False)\n",
    "#an.to_csv(tmp_dir+sheet+'_Analysis.csv', index=False)\n",
    "\n",
    "\n",
    "#source_bh.to_csv(tmp_dir+'source_merge/source_Boreholes.csv', index=False)\n",
    "#source_pz.to_csv(tmp_dir+'source_merge/source_Piezometers.csv', index=False)\n",
    "#source_ukw.to_csv(tmp_dir+'source_merge/source_Unkown-facility.csv', index=False)\n",
    "#source_litho.to_csv(tmp_dir+'source_merge/source_Lithology.csv', index=False)\n",
    "#source_mes_pz.to_csv(tmp_dir+'source_merge/source_Measures.csv', index=False)\n",
    "#source_mes_sol.to_csv(tmp_dir+'source_merge/source_Measures-soil.csv', index=False)\n",
    "#source_ech_df.to_csv(tmp_dir+'source_merge/source_Samples-water.csv', index=False)\n",
    "source_ech_df.to_csv(tmp_dir+'source_merge/source_Samples-soil.csv', index=False)\n",
    "#source_an.to_csv(tmp_dir+'source_merge/source_Analysis.csv', index=False)\n",
    "\n",
    "\n",
    "print(f'source_bh:{len(source_bh)} ; source_pz:{len(source_pz)} ; source_litho:{len(source_litho)} ; '\n",
    "     f'source_Fac-uknw:{len(source_ukw)} ; source_an:{len(source_an)} ;\\nsource_ech_df:{len(source_ech_df)} ;'\n",
    "     f'source_ech_df:{len(source_ech_df)} ; source_mes_pz:{len(source_mes_pz)} ; source_mes_sol:{len(source_mes_sol)} ;')"
   ]
  },
  {
   "cell_type": "markdown",
   "id": "tropical-duplicate",
   "metadata": {},
   "source": [
    "* **Sheet : 'Données de forage'**"
   ]
  },
  {
   "cell_type": "code",
   "execution_count": null,
   "id": "naughty-ending",
   "metadata": {},
   "outputs": [],
   "source": [
    "tmp_dir=ROOT_DIR + '/CF_data/Result_traitem/donnees_terrain_2019/'\n",
    "sheet='Donnees_forage'"
   ]
  },
  {
   "cell_type": "code",
   "execution_count": null,
   "id": "baking-duration",
   "metadata": {
    "scrolled": false
   },
   "outputs": [],
   "source": [
    "df = pd.read_excel(ROOT_DIR + '/CF_data/Data_UMONS/Profils_de_sol_Siterem- extension_pilote_et_pilote/'\n",
    "                   'Profils de sol et donnees de terrain 2019.xlsx', \n",
    "                   sheet_name='Données de forage', skiprows=1)\n",
    "df=na_line_drop(df,0)\n",
    "df=na_col_drop(df,2)\n",
    "df.replace(r'<|>','', inplace=True, regex=True)\n",
    "df.replace(r'-$',np.nan, inplace=True, regex=True)\n",
    "\n",
    "dataframe_viewer(df, rows=5)"
   ]
  },
  {
   "cell_type": "code",
   "execution_count": null,
   "id": "finnish-housing",
   "metadata": {},
   "outputs": [],
   "source": [
    "name=['ID', 'X', 'Y', 'Z', 'Date_for', 'Long_for', 'Methode', 'Diam_for','Rmq', 'Long_pz', 'Diam_pz', \n",
    "      'Crep_long','Societe', 'Resp_chantier']\n",
    "df=col_ren(df, name=name, mode=1)\n",
    "df.drop(index=[16,23], inplace=True)\n",
    "df.reset_index(drop=True, inplace=True)"
   ]
  },
  {
   "cell_type": "code",
   "execution_count": null,
   "id": "phantom-chick",
   "metadata": {},
   "outputs": [],
   "source": [
    "df.insert(5, 'Type', '')\n",
    "df.loc[:15,'Type']='Forage'\n",
    "df.loc[16:21,'Type']='Piezair'\n",
    "df.loc[22:,'Type']='Piezo'"
   ]
  },
  {
   "cell_type": "code",
   "execution_count": null,
   "id": "numeric-remainder",
   "metadata": {},
   "outputs": [],
   "source": [
    "df.loc[9,'ID']='224 bis'"
   ]
  },
  {
   "cell_type": "code",
   "execution_count": null,
   "id": "fleet-litigation",
   "metadata": {},
   "outputs": [],
   "source": [
    "df['Refus'] = ''\n",
    "df['Type_refus']=''\n",
    "\n",
    "for i in range(len(df['Rmq'])):\n",
    "    val = str(df.loc[i,'Rmq'])\n",
    "    if re.search('[Bb]loqué', val) :\n",
    "        df.loc[i,'Refus'] = 'x'\n",
    "        \n",
    "        if re.search('[lL]aitier', val):\n",
    "            df.loc[i,'Type_refus'] = 'Laitier'\n",
    "        elif re.search('[Bb]éton', val):\n",
    "            df.loc[i,'Type_refus'] = 'Béton'\n",
    "        elif re.search('[Mm]atériaux', val):\n",
    "            df.loc[i,'Type_refus'] = 'Matériaux indurés' \n",
    "    else: \n",
    "        df.loc[i,'Refus'] = '' \n",
    "\n",
    "df['Diam_int_pz'] = df['Diam_pz'].apply(lambda x: pd.to_numeric(x.replace('mm','').split('x')[1]) if not pd.isnull(x) else x)\n",
    "df['Diam_ext_pz'] = df['Diam_pz'].apply(lambda x: pd.to_numeric(x.replace('mm','').split('x')[0]) if not pd.isnull(x) else x)\n",
    "df['Diam_for'] = df['Diam_for'].apply(lambda x: pd.to_numeric(x) if not pd.isnull(x) else x)\n",
    "\n",
    "df.insert(10, 'Diam_ext_pz', df.pop('Diam_ext_pz')) # move to a specified position\n",
    "df.insert(11, 'Diam_int_pz', df.pop('Diam_int_pz'))\n",
    "df.drop(columns=['Rmq', 'Diam_pz'], axis=1, inplace=True)\n",
    "df.drop(df.query(\"ID!=ID\").index, inplace=True) # delete all ID='NaN' lines\n",
    "df.reset_index(drop=True, inplace=True)\n",
    "\n",
    "gen_dated_id(df,'ID','Date_for')  "
   ]
  },
  {
   "cell_type": "code",
   "execution_count": null,
   "id": "positive-shopper",
   "metadata": {},
   "outputs": [],
   "source": [
    "pz = df.query(\"Type=='Piezo'\")\n",
    "pza=df.query(\"Type=='Piezair'\")\n",
    "bh = df.query(\"Type=='Forage'\")\n",
    "\n",
    "pz.reset_index(inplace=True, drop=True)\n",
    "pza.reset_index(inplace=True, drop=True)\n",
    "bh.reset_index(inplace=True, drop=True)"
   ]
  },
  {
   "cell_type": "code",
   "execution_count": null,
   "id": "fuzzy-minimum",
   "metadata": {},
   "outputs": [],
   "source": [
    "dataframe_viewer(df, rows=3)"
   ]
  },
  {
   "cell_type": "code",
   "execution_count": null,
   "id": "determined-movie",
   "metadata": {},
   "outputs": [],
   "source": [
    "source_pz = pz\n",
    "source_pza = pza\n",
    "source_bh = bh"
   ]
  },
  {
   "cell_type": "code",
   "execution_count": null,
   "id": "valid-substance",
   "metadata": {
    "scrolled": true
   },
   "outputs": [],
   "source": [
    "if not os.path.exists(tmp_dir):\n",
    "    os.makedirs(tmp_dir), os.makedirs(tmp_dir+'source_merge/') \n",
    "\n",
    "bh.to_csv(tmp_dir+sheet+'_Boreholes.csv', index=False)\n",
    "pz.to_csv(tmp_dir+sheet+'_Piezometers.csv', index=False)\n",
    "pza.to_csv(tmp_dir+sheet+'_Piezairs.csv', index=False)\n",
    "#ouv.to_csv(tmp_dir+sheet+'_Unkown-facility.csv', index=False)\n",
    "#litho.to_csv(tmp_dir+sheet+'_Lithology.csv', index=False)\n",
    "#mes_pz.to_csv(tmp_dir+sheet+'_Measures.csv', index=False)\n",
    "#mes_sol.to_csv(tmp_dir+sheet+'_Measures-soil.csv', index=False)\n",
    "#ech_df.to_csv(tmp_dir+sheet+'_Samples-water.csv', index=False)\n",
    "#ech_df.to_csv(tmp_dir+sheet+'_Samples-soil.csv', index=False)\n",
    "#an.to_csv(tmp_dir+sheet+'_Analysis.csv', index=False)\n",
    "\n",
    "\n",
    "source_bh.to_csv(tmp_dir+'source_merge/source_Boreholes.csv', index=False)\n",
    "source_pz.to_csv(tmp_dir+'source_merge/source_Piezometers.csv', index=False)\n",
    "source_pza.to_csv(tmp_dir+'source_merge/source_Piezairs.csv', index=False)\n",
    "#source_ukw.to_csv(tmp_dir+'source_merge/source_Unkown-facility.csv', index=False)\n",
    "#source_litho.to_csv(tmp_dir+'source_merge/source_Lithology.csv', index=False)\n",
    "#source_mes_pz.to_csv(tmp_dir+'source_merge/source_Measures.csv', index=False)\n",
    "#source_mes_sol.to_csv(tmp_dir+'source_merge/source_Measures-soil.csv', index=False)\n",
    "#source_ech_df.to_csv(tmp_dir+'source_merge/source_Samples-water.csv', index=False)\n",
    "#source_ech_df.to_csv(tmp_dir+'source_merge/source_Samples-soil.csv', index=False)\n",
    "#source_an.to_csv(tmp_dir+'source_merge/source_Analysis.csv', index=False)\n",
    "\n",
    "\n",
    "print(f'source_bh:{len(source_bh)} ; source_pz:{len(source_pz)}; source_pza:{len(source_pza)} ;'\n",
    "      f'source_litho:{len(source_litho)} ; '\n",
    "     f'source_Fac-uknw:{len(source_ukw)} ; source_an:{len(source_an)} ;\\nsource_ech_df:{len(source_ech_df)} ;'\n",
    "     f'source_ech_df:{len(source_ech_df)} ; source_mes_pz:{len(source_mes_pz)} ; source_mes_sol:{len(source_mes_sol)} ;')"
   ]
  },
  {
   "cell_type": "markdown",
   "id": "present-shock",
   "metadata": {},
   "source": [
    "* **Sheet : 'Equipement'**"
   ]
  },
  {
   "cell_type": "code",
   "execution_count": null,
   "id": "furnished-prescription",
   "metadata": {},
   "outputs": [],
   "source": [
    "tmp_dir=ROOT_DIR + '/CF_data/Result_traitem/donnees_terrain_2019/'\n",
    "sheet='Equipement'"
   ]
  },
  {
   "cell_type": "code",
   "execution_count": null,
   "id": "occasional-cedar",
   "metadata": {
    "scrolled": false
   },
   "outputs": [],
   "source": [
    "df = pd.read_excel(ROOT_DIR + '/CF_data/Data_UMONS/Profils_de_sol_Siterem- extension_pilote_et_pilote/'\n",
    "                   'Profils de sol et donnees de terrain 2019.xlsx', \n",
    "                   sheet_name='Equipement', skiprows=1)\n",
    "df=na_line_drop(df,0)\n",
    "df=na_col_drop(df,2)\n",
    "df.replace(r'<|>','', inplace=True, regex=True)\n",
    "df.replace(r'-$',np.nan, inplace=True, regex=True)\n",
    "\n",
    "dataframe_viewer(df, rows=5)"
   ]
  },
  {
   "cell_type": "code",
   "execution_count": null,
   "id": "logical-classroom",
   "metadata": {},
   "outputs": [],
   "source": [
    "df.drop(columns=['Déplacement'], inplace=True)\n",
    "name=['ID','Equip_top', 'Equip_base', 'Diam_for', 'Diam_ext_pz', 'Legende']\n",
    "df=col_ren(df, mode=1, name=name)"
   ]
  },
  {
   "cell_type": "code",
   "execution_count": null,
   "id": "beginning-register",
   "metadata": {},
   "outputs": [],
   "source": [
    "df.drop(index=[24,25], inplace=True)\n",
    "df.reset_index(drop=True, inplace=True)"
   ]
  },
  {
   "cell_type": "code",
   "execution_count": null,
   "id": "impossible-summit",
   "metadata": {},
   "outputs": [],
   "source": [
    "compute_BH_length(df, top_col='Equip_top', base_col='Equip_base')"
   ]
  },
  {
   "cell_type": "code",
   "execution_count": null,
   "id": "american-intro",
   "metadata": {},
   "outputs": [],
   "source": [
    "coi = ['ID', 'Profondeur', 'Diam_for', 'Diam_ext_pz']\n",
    "pz=df[coi].drop_duplicates(['ID'])\n",
    "pz['Type'] = 'Piezo'"
   ]
  },
  {
   "cell_type": "code",
   "execution_count": null,
   "id": "three-optimization",
   "metadata": {},
   "outputs": [],
   "source": [
    "dataframe_viewer(df)"
   ]
  },
  {
   "cell_type": "code",
   "execution_count": null,
   "id": "placed-organ",
   "metadata": {},
   "outputs": [],
   "source": [
    "equip=df\n",
    "source_eqp=equip"
   ]
  },
  {
   "cell_type": "code",
   "execution_count": null,
   "id": "extensive-charge",
   "metadata": {
    "scrolled": true
   },
   "outputs": [],
   "source": [
    "if not os.path.exists(tmp_dir):\n",
    "    os.makedirs(tmp_dir), os.makedirs(tmp_dir+'source_merge/') \n",
    "\n",
    "#bh.to_csv(tmp_dir+'source_merge/source_Boreholes.csv', index=False)\n",
    "pz.to_csv(tmp_dir+sheet+'_Piezometers.csv', index=False)\n",
    "#ouv.to_csv(tmp_dir+sheet+'_Unkown-facility.csv', index=False)\n",
    "#litho.to_csv(tmp_dir+sheet+'_Lithology.csv', index=False)\n",
    "#mes_pz.to_csv(tmp_dir+sheet+'_Measures.csv', index=False)\n",
    "#mes_sol.to_csv(tmp_dir+sheet+'_Measures-soil.csv', index=False)\n",
    "#ech_df.to_csv(tmp_dir+sheet+'_Samples-water.csv', index=False)\n",
    "#ech_df.to_csv(tmp_dir+sheet+'_Samples-soil.csv', index=False)\n",
    "#an.to_csv(tmp_dir+sheet+'_Analysis.csv', index=False)\n",
    "equip.to_csv(tmp_dir+sheet+'_Equipment.csv', index=False)\n",
    "\n",
    "#source_bh.to_csv(tmp_dir+'source_merge/source_Boreholes.csv', index=False)\n",
    "source_pz.to_csv(tmp_dir+'source_merge/source_Piezometers.csv', index=False)\n",
    "#source_ukw.to_csv(tmp_dir+'source_merge/source_Unkown-facility.csv', index=False)\n",
    "#source_litho.to_csv(tmp_dir+'source_merge/source_Lithology.csv', index=False)\n",
    "#source_mes_pz.to_csv(tmp_dir+'source_merge/source_Measures.csv', index=False)\n",
    "#source_mes_sol.to_csv(tmp_dir+'source_merge/source_Measures-soil.csv', index=False)\n",
    "#source_ech_df.to_csv(tmp_dir+'source_merge/source_Samples-water.csv', index=False)\n",
    "#source_ech_df.to_csv(tmp_dir+'source_merge/source_Samples-soil.csv', index=False)\n",
    "#source_an.to_csv(tmp_dir+'source_merge/source_Analysis.csv', index=False)\n",
    "source_eqp.to_csv(tmp_dir+'source_merge/source_eqpment.csv', index=False)\n",
    "\n",
    "print(f'source_bh:{len(source_bh)} ; source_pz:{len(source_pz)} ; source_litho:{len(source_litho)} ; '\n",
    "     f'source_Fac-uknw:{len(source_ukw)} ; source_an:{len(source_an)} ;\\nsource_ech_df:{len(source_ech_df)} ;'\n",
    "     f'source_ech_df:{len(source_ech_df)} ; source_mes_pz:{len(source_mes_pz)} ; source_mes_sol:{len(source_mes_sol)} ;')"
   ]
  },
  {
   "cell_type": "markdown",
   "id": "increased-tonight",
   "metadata": {},
   "source": [
    "* **Sheet : 'Piézométrie'**"
   ]
  },
  {
   "cell_type": "code",
   "execution_count": 618,
   "id": "existing-college",
   "metadata": {},
   "outputs": [],
   "source": [
    "tmp_dir=ROOT_DIR + '/CF_data/Result_traitem/donnees_terrain_2019/'\n",
    "sheet='piezometrie'"
   ]
  },
  {
   "cell_type": "code",
   "execution_count": 619,
   "id": "brazilian-judgment",
   "metadata": {
    "scrolled": false
   },
   "outputs": [
    {
     "name": "stdout",
     "output_type": "stream",
     "text": [
      "Rows : 3, columns : 4\n"
     ]
    },
    {
     "data": {
      "application/vnd.jupyter.widget-view+json": {
       "model_id": "1fad98b2ede94317abe9ce5d06351b10",
       "version_major": 2,
       "version_minor": 0
      },
      "text/plain": [
       "interactive(children=(IntSlider(value=3, description='rows', max=3, min=3, readout=False), IntSlider(value=4, …"
      ]
     },
     "metadata": {},
     "output_type": "display_data"
    }
   ],
   "source": [
    "df = pd.read_excel(ROOT_DIR + '/CF_data/Data_UMONS/Profils_de_sol_Siterem- extension_pilote_et_pilote/'\n",
    "                   'Profils de sol et donnees de terrain 2019.xlsx', \n",
    "                   sheet_name='Piézométrie', skiprows=1)\n",
    "df=na_line_drop(df,0)\n",
    "df=na_col_drop(df,2)\n",
    "df.replace(r'<|>','', inplace=True, regex=True)\n",
    "df.replace(r'-$',np.nan, inplace=True, regex=True)\n",
    "\n",
    "dataframe_viewer(df, rows=5)"
   ]
  },
  {
   "cell_type": "code",
   "execution_count": 620,
   "id": "selected-technology",
   "metadata": {},
   "outputs": [],
   "source": [
    "name=['ID','Niv_pz_sol', 'Type_ech', 'Date_mes']\n",
    "df=col_ren(df, name=name, mode=1)"
   ]
  },
  {
   "cell_type": "code",
   "execution_count": 621,
   "id": "sudden-yemen",
   "metadata": {},
   "outputs": [],
   "source": [
    "mes_pz=df\n",
    "source_mes_pz=mes_pz"
   ]
  },
  {
   "cell_type": "code",
   "execution_count": 622,
   "id": "terminal-gender",
   "metadata": {
    "scrolled": true
   },
   "outputs": [
    {
     "ename": "NameError",
     "evalue": "name 'source_mes_sol' is not defined",
     "output_type": "error",
     "traceback": [
      "\u001b[0;31m---------------------------------------------------------------------------\u001b[0m",
      "\u001b[0;31mNameError\u001b[0m                                 Traceback (most recent call last)",
      "\u001b[0;32m/tmp/ipykernel_8568/3902897683.py\u001b[0m in \u001b[0;36m<module>\u001b[0;34m\u001b[0m\n\u001b[1;32m     24\u001b[0m \u001b[0;34m\u001b[0m\u001b[0m\n\u001b[1;32m     25\u001b[0m \u001b[0;34m\u001b[0m\u001b[0m\n\u001b[0;32m---> 26\u001b[0;31m print(f'source_bh:{len(source_bh)} ; source_pz:{len(source_pz)} ; source_litho:{len(source_litho)} ; '\n\u001b[0m\u001b[1;32m     27\u001b[0m      \u001b[0;34mf'source_Fac-uknw:{len(source_ukw)} ; source_an:{len(source_an)} ;\\nsource_ech_df:{len(source_ech_df)} ;'\u001b[0m\u001b[0;34m\u001b[0m\u001b[0;34m\u001b[0m\u001b[0m\n\u001b[1;32m     28\u001b[0m      f'source_ech_df:{len(source_ech_df)} ; source_mes_pz:{len(source_mes_pz)} ; source_mes_sol:{len(source_mes_sol)} ;')\n",
      "\u001b[0;31mNameError\u001b[0m: name 'source_mes_sol' is not defined"
     ]
    }
   ],
   "source": [
    "if not os.path.exists(tmp_dir):\n",
    "    os.makedirs(tmp_dir), os.makedirs(tmp_dir+'source_merge/') \n",
    "\n",
    "#bh.to_csv(tmp_dir+'source_merge/source_Boreholes.csv', index=False)\n",
    "#pz.to_csv(tmp_dir+sheet+'_Piezometers.csv', index=False)\n",
    "#ouv.to_csv(tmp_dir+sheet+'_Unkown-facility.csv', index=False)\n",
    "#litho.to_csv(tmp_dir+sheet+'_Lithology.csv', index=False)\n",
    "mes_pz.to_csv(tmp_dir+sheet+'_Measures.csv', index=False)\n",
    "#mes_sol.to_csv(tmp_dir+sheet+'_Measures-soil.csv', index=False)\n",
    "#ech_df.to_csv(tmp_dir+sheet+'_Samples-water.csv', index=False)\n",
    "#ech_df.to_csv(tmp_dir+sheet+'_Samples-soil.csv', index=False)\n",
    "#an.to_csv(tmp_dir+sheet+'_Analysis.csv', index=False)\n",
    "\n",
    "\n",
    "#source_bh.to_csv(tmp_dir+'source_merge/source_Boreholes.csv', index=False)\n",
    "#source_pz.to_csv(tmp_dir+'source_merge/source_Piezometers.csv', index=False)\n",
    "#source_ukw.to_csv(tmp_dir+'source_merge/source_Unkown-facility.csv', index=False)\n",
    "#source_litho.to_csv(tmp_dir+'source_merge/source_Lithology.csv', index=False)\n",
    "source_mes_pz.to_csv(tmp_dir+'source_merge/source_Measures.csv', index=False)\n",
    "#source_mes_sol.to_csv(tmp_dir+'source_merge/source_Measures-soil.csv', index=False)\n",
    "#source_ech_df.to_csv(tmp_dir+'source_merge/source_Samples-water.csv', index=False)\n",
    "#source_ech_df.to_csv(tmp_dir+'source_merge/source_Samples-soil.csv', index=False)\n",
    "#source_an.to_csv(tmp_dir+'source_merge/source_Analysis.csv', index=False)\n",
    "\n",
    "\n",
    "print(f'source_bh:{len(source_bh)} ; source_pz:{len(source_pz)} ; source_litho:{len(source_litho)} ; '\n",
    "     f'source_Fac-uknw:{len(source_ukw)} ; source_an:{len(source_an)} ;\\nsource_ech_df:{len(source_ech_df)} ;'\n",
    "     f'source_ech_df:{len(source_ech_df)} ; source_mes_pz:{len(source_mes_pz)} ; source_mes_sol:{len(source_mes_sol)} ;')"
   ]
  },
  {
   "cell_type": "code",
   "execution_count": null,
   "id": "28c26930",
   "metadata": {},
   "outputs": [],
   "source": [
    "dataframe_viewer(source_ech_df, rows=5)"
   ]
  },
  {
   "cell_type": "code",
   "execution_count": null,
   "id": "e1d5165b",
   "metadata": {},
   "outputs": [],
   "source": [
    "dataframe_viewer(excel_bhs, rows=5)"
   ]
  },
  {
   "cell_type": "markdown",
   "id": "7fd4e2ca",
   "metadata": {},
   "source": [
    "### $\\color{red}{\\textbf{Excel source data merging}}$"
   ]
  },
  {
   "cell_type": "code",
   "execution_count": null,
   "id": "e2f78aed",
   "metadata": {},
   "outputs": [],
   "source": [
    "excel_bhs, conflict_df = data_merger(source_bh, source_pz, how='outer', on='ID', dist_max=1., drop_skip_col=['index'])"
   ]
  },
  {
   "cell_type": "code",
   "execution_count": null,
   "id": "38fbe3a6",
   "metadata": {},
   "outputs": [],
   "source": [
    "excel_bhs, conflict_df = data_merger(excel_bhs, source_pza, how='outer', on='ID', dist_max=1., drop_skip_col=['index'])"
   ]
  },
  {
   "cell_type": "code",
   "execution_count": null,
   "id": "d9e8aa90",
   "metadata": {},
   "outputs": [],
   "source": [
    "excel_bh_litho, conflict_df = data_merger(excel_bhs, source_litho, how='outer', on='ID', dist_max=1., drop_skip_col=['index'])"
   ]
  },
  {
   "cell_type": "code",
   "execution_count": null,
   "id": "8df3b3cd",
   "metadata": {},
   "outputs": [],
   "source": [
    "excel_bh_soil_sp, conflict_df = data_merger(excel_bhs, source_ech_df, how='outer', on='ID', dist_max=1., drop_skip_col=['index'])"
   ]
  },
  {
   "cell_type": "code",
   "execution_count": null,
   "id": "6216e946",
   "metadata": {},
   "outputs": [],
   "source": [
    "excel_bh_equip, conflict_df = data_merger(excel_bhs, source_eqp, how='outer', on='ID', dist_max=1., drop_skip_col=['index'])"
   ]
  },
  {
   "cell_type": "code",
   "execution_count": null,
   "id": "b113f3f4",
   "metadata": {},
   "outputs": [],
   "source": [
    "data_validation(overall_data=excel_bh_equip, conflict_data=conflict_df, index_col='index', \n",
    "                valid_dict={'Diam_ext_pz_x':list(conflict_df.index)})"
   ]
  },
  {
   "cell_type": "code",
   "execution_count": null,
   "id": "c10fa3ad",
   "metadata": {
    "scrolled": true
   },
   "outputs": [],
   "source": [
    "excel_bh_mes, conflict_df = data_merger(excel_bhs, source_mes_pz, how='outer', on='ID', dist_max=1., drop_skip_col=['index'])"
   ]
  },
  {
   "cell_type": "code",
   "execution_count": null,
   "id": "3e9e622e",
   "metadata": {},
   "outputs": [],
   "source": [
    "save_dir = tmp_dir + 'source_merge/final_'\n",
    "if not os.path.exists(save_dir):\n",
    "    os.makedirs(save_dir)\n",
    "\n",
    "excel_bhs.to_csv(save_dir + 'Boreholes.csv', index=False)\n",
    "excel_bh_litho.to_csv(save_dir+'Lithologies.csv', index=False)\n",
    "excel_bh_equip.to_csv(save_dir+'Equipments.csv', index=False)\n",
    "excel_bh_soil_sp.to_csv(save_dir+'Soil_samples.csv', index=False)\n",
    "#excel_bh_water_sp.to_csv(save_dir+'Water_samples.csv', index=False)\n",
    "#excel_bh_soil_an.to_csv(save_dir+'Soil_analysis.csv', index=False)\n",
    "#excel_bh_water_an.to_csv(save_dir+'water_analysis.csv', index=False)\n",
    "excel_bh_mes.to_csv(save_dir+'Measures.csv', index=False)\n",
    "#excel_bh_fac.to_csv(save_dir+'Unknow_facilities.csv', index=False)"
   ]
  },
  {
   "cell_type": "markdown",
   "id": "9d0a8f31",
   "metadata": {},
   "source": [
    "#### ======================================================================================"
   ]
  },
  {
   "cell_type": "code",
   "execution_count": null,
   "id": "561c6119",
   "metadata": {},
   "outputs": [],
   "source": [
    "# initialisation des variables\n",
    "_df = pd.DataFrame()\n",
    "source_bh, source_eqp, source_ukw = _df, _df, _df\n",
    "source_litho, source_an, source_mes = _df, _df, _df\n",
    "\n",
    "print(f'source_bh: {len(source_bh)} ; source_eqp: {len(source_eqp)} ; source_uknw: {len(source_ukw)} ; '\n",
    "      f'source_litho: {len(source_litho)} ; source_an: {len(source_an)} ; source_mes: {len(source_mes)}')"
   ]
  },
  {
   "cell_type": "markdown",
   "id": "adjacent-conversation",
   "metadata": {},
   "source": [
    "## 16-Résultats SOL extension pilote et piézairs.xlsx\n",
    "* **Sheet : 'Résult SOL'**"
   ]
  },
  {
   "cell_type": "code",
   "execution_count": null,
   "id": "rental-unknown",
   "metadata": {},
   "outputs": [],
   "source": [
    "tmp_dir=ROOT_DIR + '/CF_data/Result_traitem/result_sol_ext_pilote/'\n",
    "sheet='Result_Sol'"
   ]
  },
  {
   "cell_type": "code",
   "execution_count": null,
   "id": "forced-variance",
   "metadata": {
    "scrolled": false
   },
   "outputs": [],
   "source": [
    "df = pd.read_excel(ROOT_DIR + '/CF_data/Data_UMONS/Profils_de_sol_Siterem- extension_pilote_et_pilote/'\n",
    "                   'Resultats SOL extension pilote et piezairs.xlsx', \n",
    "                   sheet_name='Résult SOL', skiprows=5)\n",
    "df=na_line_drop(df,0)\n",
    "df=na_col_drop(df,1)\n",
    "df.replace(r'<|>','', inplace=True, regex=True)\n",
    "df.replace(r'-$',np.nan, inplace=True, regex=True)\n",
    "\n",
    "dataframe_viewer(df, rows=5)"
   ]
  },
  {
   "cell_type": "code",
   "execution_count": null,
   "id": "isolated-mayor",
   "metadata": {},
   "outputs": [],
   "source": [
    "ech_df=df.loc[:35]\n",
    "an=df.loc[36:]"
   ]
  },
  {
   "cell_type": "code",
   "execution_count": null,
   "id": "global-reynolds",
   "metadata": {},
   "outputs": [],
   "source": [
    "an.loc[0.5] = df.loc[0] # put data on first line\n",
    "an = an.sort_index().reset_index(drop=True)"
   ]
  },
  {
   "cell_type": "code",
   "execution_count": null,
   "id": "banned-sheffield",
   "metadata": {},
   "outputs": [],
   "source": [
    "ech_df=ech_df.transpose()\n",
    "ech_df.reset_index(drop=True, inplace=True)\n",
    "ech_df=col_ren(ech_df, 1)"
   ]
  },
  {
   "cell_type": "code",
   "execution_count": null,
   "id": "signed-store",
   "metadata": {},
   "outputs": [],
   "source": [
    "ech_df=dble_col_drop(ech_df)"
   ]
  },
  {
   "cell_type": "code",
   "execution_count": null,
   "id": "unlikely-hardware",
   "metadata": {},
   "outputs": [],
   "source": [
    "ech_df.drop(list(range(3)), axis=0, inplace=True)\n",
    "ech_df.reset_index(drop=True, inplace=True)\n",
    "ech_df=na_col_drop(ech_df,3)\n",
    "ech_df=na_line_drop(ech_df,3)\n",
    "ech_df.reset_index(drop=True, inplace=True)"
   ]
  },
  {
   "cell_type": "code",
   "execution_count": null,
   "id": "recent-kingston",
   "metadata": {},
   "outputs": [],
   "source": [
    "ech_df=ech_df[:-1]\n",
    "ech_df.drop(columns=['broyage'], inplace=True)"
   ]
  },
  {
   "cell_type": "code",
   "execution_count": null,
   "id": "approximate-relevance",
   "metadata": {},
   "outputs": [],
   "source": [
    "name=['ID_ech','Ech_top', 'Ech_base','MS','Date_ech','Long_for','Refus','Description','MO','COT','pH_KCl', \n",
    "      'Temp_pH','pH_H20','Fract_2','Fract_2+', 'Fract_min_2µ','Fract_min_50µ','Fract_min_2']\n",
    "ech_df=col_ren(ech_df, name=name, mode=1)"
   ]
  },
  {
   "cell_type": "code",
   "execution_count": null,
   "id": "incorrect-gates",
   "metadata": {},
   "outputs": [],
   "source": [
    "set(ech_df.Description)"
   ]
  },
  {
   "cell_type": "code",
   "execution_count": null,
   "id": "mounted-renaissance",
   "metadata": {},
   "outputs": [],
   "source": [
    "for i in range(len(ech_df['Description'])):\n",
    "    x = ech_df.loc[i,'Description']\n",
    "    if x in ['R','R ']: ech_df.loc[i,'Description']='Remblais'\n",
    "    elif x in ['TN','TN ']: ech_df.loc[i,'Description']='Terrain naturel'\n",
    "\n",
    "ech_df['Refus']=ech_df['Refus'].apply(lambda x: 'x' if not pd.isnull(x) else '')\n",
    "ech_df.insert(1,'Type_ech','Sol')#"
   ]
  },
  {
   "cell_type": "code",
   "execution_count": null,
   "id": "inside-dialogue",
   "metadata": {},
   "outputs": [],
   "source": [
    "for i in range(len(ech_df)):\n",
    "    x=ech_df.loc[i,'ID_ech']\n",
    "    r=re.search('([\\w|\\d]+)\\n.+$', x)\n",
    "    if r: \n",
    "        ech_df.loc[i,'ID_ech']='226/'+r.group(1) # Rename borehole 304 to 226 because of conflict with piezair"
   ]
  },
  {
   "cell_type": "raw",
   "id": "859aa918",
   "metadata": {
    "scrolled": true
   },
   "source": [
    "ech_df.info()"
   ]
  },
  {
   "cell_type": "code",
   "execution_count": null,
   "id": "normal-narrative",
   "metadata": {
    "scrolled": false
   },
   "outputs": [],
   "source": [
    "dataframe_viewer(ech_df, rows=3)"
   ]
  },
  {
   "cell_type": "code",
   "execution_count": 623,
   "id": "affected-window",
   "metadata": {},
   "outputs": [],
   "source": [
    "an=an.transpose()\n",
    "an.reset_index(drop=True, inplace=True)"
   ]
  },
  {
   "cell_type": "code",
   "execution_count": 624,
   "id": "unavailable-roads",
   "metadata": {},
   "outputs": [
    {
     "ename": "IndexError",
     "evalue": "single positional indexer is out-of-bounds",
     "output_type": "error",
     "traceback": [
      "\u001b[0;31m---------------------------------------------------------------------------\u001b[0m",
      "\u001b[0;31mIndexError\u001b[0m                                Traceback (most recent call last)",
      "\u001b[0;32m/tmp/ipykernel_8568/997592930.py\u001b[0m in \u001b[0;36m<module>\u001b[0;34m\u001b[0m\n\u001b[0;32m----> 1\u001b[0;31m \u001b[0man\u001b[0m\u001b[0;34m=\u001b[0m\u001b[0mcol_ren\u001b[0m\u001b[0;34m(\u001b[0m\u001b[0man\u001b[0m\u001b[0;34m,\u001b[0m \u001b[0;36m1\u001b[0m\u001b[0;34m)\u001b[0m\u001b[0;34m\u001b[0m\u001b[0;34m\u001b[0m\u001b[0m\n\u001b[0m",
      "\u001b[0;32m~/Projects/GSDMA/utils/io.py\u001b[0m in \u001b[0;36mcol_ren\u001b[0;34m(df, row_num, mode, name, strip_regex, cutoff, col_num_sep, verbose)\u001b[0m\n\u001b[1;32m   1282\u001b[0m         \u001b[0mprint\u001b[0m\u001b[0;34m(\u001b[0m\u001b[0;34m\"Error! Parameter \\'Mode\\' must be 0 or 1 (if 1, colums length must be equal to name length)\"\u001b[0m\u001b[0;34m)\u001b[0m\u001b[0;34m\u001b[0m\u001b[0;34m\u001b[0m\u001b[0m\n\u001b[1;32m   1283\u001b[0m \u001b[0;34m\u001b[0m\u001b[0m\n\u001b[0;32m-> 1284\u001b[0;31m     \u001b[0;32melif\u001b[0m \u001b[0mmode\u001b[0m \u001b[0;34m==\u001b[0m \u001b[0;36m0\u001b[0m\u001b[0;34m:\u001b[0m\u001b[0;34m\u001b[0m\u001b[0;34m\u001b[0m\u001b[0m\n\u001b[0m\u001b[1;32m   1285\u001b[0m         \u001b[0;32mfor\u001b[0m \u001b[0mi\u001b[0m \u001b[0;32min\u001b[0m \u001b[0mrange\u001b[0m\u001b[0;34m(\u001b[0m\u001b[0mlen\u001b[0m\u001b[0;34m(\u001b[0m\u001b[0mdata\u001b[0m\u001b[0;34m.\u001b[0m\u001b[0mcolumns\u001b[0m\u001b[0;34m)\u001b[0m\u001b[0;34m)\u001b[0m\u001b[0;34m:\u001b[0m\u001b[0;34m\u001b[0m\u001b[0;34m\u001b[0m\u001b[0m\n\u001b[1;32m   1286\u001b[0m             \u001b[0mcol\u001b[0m \u001b[0;34m=\u001b[0m \u001b[0mstr\u001b[0m\u001b[0;34m(\u001b[0m\u001b[0mdata\u001b[0m\u001b[0;34m.\u001b[0m\u001b[0miloc\u001b[0m\u001b[0;34m[\u001b[0m\u001b[0mrow_num\u001b[0m\u001b[0;34m,\u001b[0m \u001b[0mi\u001b[0m\u001b[0;34m]\u001b[0m\u001b[0;34m)\u001b[0m\u001b[0;34m\u001b[0m\u001b[0;34m\u001b[0m\u001b[0m\n",
      "\u001b[0;32m~/.local/share/virtualenvs/GSDMA-DRfwm83x/lib/python3.8/site-packages/pandas/core/indexing.py\u001b[0m in \u001b[0;36m__getitem__\u001b[0;34m(self, key)\u001b[0m\n\u001b[1;32m    923\u001b[0m                 \u001b[0;32mwith\u001b[0m \u001b[0msuppress\u001b[0m\u001b[0;34m(\u001b[0m\u001b[0mKeyError\u001b[0m\u001b[0;34m,\u001b[0m \u001b[0mIndexError\u001b[0m\u001b[0;34m)\u001b[0m\u001b[0;34m:\u001b[0m\u001b[0;34m\u001b[0m\u001b[0;34m\u001b[0m\u001b[0m\n\u001b[1;32m    924\u001b[0m                     \u001b[0;32mreturn\u001b[0m \u001b[0mself\u001b[0m\u001b[0;34m.\u001b[0m\u001b[0mobj\u001b[0m\u001b[0;34m.\u001b[0m\u001b[0m_get_value\u001b[0m\u001b[0;34m(\u001b[0m\u001b[0;34m*\u001b[0m\u001b[0mkey\u001b[0m\u001b[0;34m,\u001b[0m \u001b[0mtakeable\u001b[0m\u001b[0;34m=\u001b[0m\u001b[0mself\u001b[0m\u001b[0;34m.\u001b[0m\u001b[0m_takeable\u001b[0m\u001b[0;34m)\u001b[0m\u001b[0;34m\u001b[0m\u001b[0;34m\u001b[0m\u001b[0m\n\u001b[0;32m--> 925\u001b[0;31m             \u001b[0;32mreturn\u001b[0m \u001b[0mself\u001b[0m\u001b[0;34m.\u001b[0m\u001b[0m_getitem_tuple\u001b[0m\u001b[0;34m(\u001b[0m\u001b[0mkey\u001b[0m\u001b[0;34m)\u001b[0m\u001b[0;34m\u001b[0m\u001b[0;34m\u001b[0m\u001b[0m\n\u001b[0m\u001b[1;32m    926\u001b[0m         \u001b[0;32melse\u001b[0m\u001b[0;34m:\u001b[0m\u001b[0;34m\u001b[0m\u001b[0;34m\u001b[0m\u001b[0m\n\u001b[1;32m    927\u001b[0m             \u001b[0;31m# we by definition only have the 0th axis\u001b[0m\u001b[0;34m\u001b[0m\u001b[0;34m\u001b[0m\u001b[0;34m\u001b[0m\u001b[0m\n",
      "\u001b[0;32m~/.local/share/virtualenvs/GSDMA-DRfwm83x/lib/python3.8/site-packages/pandas/core/indexing.py\u001b[0m in \u001b[0;36m_getitem_tuple\u001b[0;34m(self, tup)\u001b[0m\n\u001b[1;32m   1504\u001b[0m     \u001b[0;32mdef\u001b[0m \u001b[0m_getitem_tuple\u001b[0m\u001b[0;34m(\u001b[0m\u001b[0mself\u001b[0m\u001b[0;34m,\u001b[0m \u001b[0mtup\u001b[0m\u001b[0;34m:\u001b[0m \u001b[0mtuple\u001b[0m\u001b[0;34m)\u001b[0m\u001b[0;34m:\u001b[0m\u001b[0;34m\u001b[0m\u001b[0;34m\u001b[0m\u001b[0m\n\u001b[1;32m   1505\u001b[0m \u001b[0;34m\u001b[0m\u001b[0m\n\u001b[0;32m-> 1506\u001b[0;31m         \u001b[0mself\u001b[0m\u001b[0;34m.\u001b[0m\u001b[0m_has_valid_tuple\u001b[0m\u001b[0;34m(\u001b[0m\u001b[0mtup\u001b[0m\u001b[0;34m)\u001b[0m\u001b[0;34m\u001b[0m\u001b[0;34m\u001b[0m\u001b[0m\n\u001b[0m\u001b[1;32m   1507\u001b[0m         \u001b[0;32mwith\u001b[0m \u001b[0msuppress\u001b[0m\u001b[0;34m(\u001b[0m\u001b[0mIndexingError\u001b[0m\u001b[0;34m)\u001b[0m\u001b[0;34m:\u001b[0m\u001b[0;34m\u001b[0m\u001b[0;34m\u001b[0m\u001b[0m\n\u001b[1;32m   1508\u001b[0m             \u001b[0;32mreturn\u001b[0m \u001b[0mself\u001b[0m\u001b[0;34m.\u001b[0m\u001b[0m_getitem_lowerdim\u001b[0m\u001b[0;34m(\u001b[0m\u001b[0mtup\u001b[0m\u001b[0;34m)\u001b[0m\u001b[0;34m\u001b[0m\u001b[0;34m\u001b[0m\u001b[0m\n",
      "\u001b[0;32m~/.local/share/virtualenvs/GSDMA-DRfwm83x/lib/python3.8/site-packages/pandas/core/indexing.py\u001b[0m in \u001b[0;36m_has_valid_tuple\u001b[0;34m(self, key)\u001b[0m\n\u001b[1;32m    752\u001b[0m         \u001b[0;32mfor\u001b[0m \u001b[0mi\u001b[0m\u001b[0;34m,\u001b[0m \u001b[0mk\u001b[0m \u001b[0;32min\u001b[0m \u001b[0menumerate\u001b[0m\u001b[0;34m(\u001b[0m\u001b[0mkey\u001b[0m\u001b[0;34m)\u001b[0m\u001b[0;34m:\u001b[0m\u001b[0;34m\u001b[0m\u001b[0;34m\u001b[0m\u001b[0m\n\u001b[1;32m    753\u001b[0m             \u001b[0;32mtry\u001b[0m\u001b[0;34m:\u001b[0m\u001b[0;34m\u001b[0m\u001b[0;34m\u001b[0m\u001b[0m\n\u001b[0;32m--> 754\u001b[0;31m                 \u001b[0mself\u001b[0m\u001b[0;34m.\u001b[0m\u001b[0m_validate_key\u001b[0m\u001b[0;34m(\u001b[0m\u001b[0mk\u001b[0m\u001b[0;34m,\u001b[0m \u001b[0mi\u001b[0m\u001b[0;34m)\u001b[0m\u001b[0;34m\u001b[0m\u001b[0;34m\u001b[0m\u001b[0m\n\u001b[0m\u001b[1;32m    755\u001b[0m             \u001b[0;32mexcept\u001b[0m \u001b[0mValueError\u001b[0m \u001b[0;32mas\u001b[0m \u001b[0merr\u001b[0m\u001b[0;34m:\u001b[0m\u001b[0;34m\u001b[0m\u001b[0;34m\u001b[0m\u001b[0m\n\u001b[1;32m    756\u001b[0m                 raise ValueError(\n",
      "\u001b[0;32m~/.local/share/virtualenvs/GSDMA-DRfwm83x/lib/python3.8/site-packages/pandas/core/indexing.py\u001b[0m in \u001b[0;36m_validate_key\u001b[0;34m(self, key, axis)\u001b[0m\n\u001b[1;32m   1407\u001b[0m             \u001b[0;32mreturn\u001b[0m\u001b[0;34m\u001b[0m\u001b[0;34m\u001b[0m\u001b[0m\n\u001b[1;32m   1408\u001b[0m         \u001b[0;32melif\u001b[0m \u001b[0mis_integer\u001b[0m\u001b[0;34m(\u001b[0m\u001b[0mkey\u001b[0m\u001b[0;34m)\u001b[0m\u001b[0;34m:\u001b[0m\u001b[0;34m\u001b[0m\u001b[0;34m\u001b[0m\u001b[0m\n\u001b[0;32m-> 1409\u001b[0;31m             \u001b[0mself\u001b[0m\u001b[0;34m.\u001b[0m\u001b[0m_validate_integer\u001b[0m\u001b[0;34m(\u001b[0m\u001b[0mkey\u001b[0m\u001b[0;34m,\u001b[0m \u001b[0maxis\u001b[0m\u001b[0;34m)\u001b[0m\u001b[0;34m\u001b[0m\u001b[0;34m\u001b[0m\u001b[0m\n\u001b[0m\u001b[1;32m   1410\u001b[0m         \u001b[0;32melif\u001b[0m \u001b[0misinstance\u001b[0m\u001b[0;34m(\u001b[0m\u001b[0mkey\u001b[0m\u001b[0;34m,\u001b[0m \u001b[0mtuple\u001b[0m\u001b[0;34m)\u001b[0m\u001b[0;34m:\u001b[0m\u001b[0;34m\u001b[0m\u001b[0;34m\u001b[0m\u001b[0m\n\u001b[1;32m   1411\u001b[0m             \u001b[0;31m# a tuple should already have been caught by this point\u001b[0m\u001b[0;34m\u001b[0m\u001b[0;34m\u001b[0m\u001b[0;34m\u001b[0m\u001b[0m\n",
      "\u001b[0;32m~/.local/share/virtualenvs/GSDMA-DRfwm83x/lib/python3.8/site-packages/pandas/core/indexing.py\u001b[0m in \u001b[0;36m_validate_integer\u001b[0;34m(self, key, axis)\u001b[0m\n\u001b[1;32m   1498\u001b[0m         \u001b[0mlen_axis\u001b[0m \u001b[0;34m=\u001b[0m \u001b[0mlen\u001b[0m\u001b[0;34m(\u001b[0m\u001b[0mself\u001b[0m\u001b[0;34m.\u001b[0m\u001b[0mobj\u001b[0m\u001b[0;34m.\u001b[0m\u001b[0m_get_axis\u001b[0m\u001b[0;34m(\u001b[0m\u001b[0maxis\u001b[0m\u001b[0;34m)\u001b[0m\u001b[0;34m)\u001b[0m\u001b[0;34m\u001b[0m\u001b[0;34m\u001b[0m\u001b[0m\n\u001b[1;32m   1499\u001b[0m         \u001b[0;32mif\u001b[0m \u001b[0mkey\u001b[0m \u001b[0;34m>=\u001b[0m \u001b[0mlen_axis\u001b[0m \u001b[0;32mor\u001b[0m \u001b[0mkey\u001b[0m \u001b[0;34m<\u001b[0m \u001b[0;34m-\u001b[0m\u001b[0mlen_axis\u001b[0m\u001b[0;34m:\u001b[0m\u001b[0;34m\u001b[0m\u001b[0;34m\u001b[0m\u001b[0m\n\u001b[0;32m-> 1500\u001b[0;31m             \u001b[0;32mraise\u001b[0m \u001b[0mIndexError\u001b[0m\u001b[0;34m(\u001b[0m\u001b[0;34m\"single positional indexer is out-of-bounds\"\u001b[0m\u001b[0;34m)\u001b[0m\u001b[0;34m\u001b[0m\u001b[0;34m\u001b[0m\u001b[0m\n\u001b[0m\u001b[1;32m   1501\u001b[0m \u001b[0;34m\u001b[0m\u001b[0m\n\u001b[1;32m   1502\u001b[0m     \u001b[0;31m# -------------------------------------------------------------------\u001b[0m\u001b[0;34m\u001b[0m\u001b[0;34m\u001b[0m\u001b[0;34m\u001b[0m\u001b[0m\n",
      "\u001b[0;31mIndexError\u001b[0m: single positional indexer is out-of-bounds"
     ]
    }
   ],
   "source": [
    "an=col_ren(an, 1)"
   ]
  },
  {
   "cell_type": "code",
   "execution_count": null,
   "id": "beautiful-casting",
   "metadata": {},
   "outputs": [],
   "source": [
    "an.rename(columns={an.columns[0]:'ID_ech'}, inplace=True)"
   ]
  },
  {
   "cell_type": "code",
   "execution_count": null,
   "id": "elder-andorra",
   "metadata": {},
   "outputs": [],
   "source": [
    "an.columns"
   ]
  },
  {
   "cell_type": "code",
   "execution_count": null,
   "id": "white-costume",
   "metadata": {},
   "outputs": [],
   "source": [
    "an=an[an.columns[:-17]]\n",
    "an.rename(columns={'col_35':'Phénanthrène'}, inplace=True)"
   ]
  },
  {
   "cell_type": "code",
   "execution_count": null,
   "id": "fresh-houston",
   "metadata": {},
   "outputs": [],
   "source": [
    "an=col_ren(an, name=POL_NAMES_MODEL, mode=1)"
   ]
  },
  {
   "cell_type": "code",
   "execution_count": 625,
   "id": "planned-reporter",
   "metadata": {},
   "outputs": [
    {
     "name": "stdout",
     "output_type": "stream",
     "text": [
      "column(s) dropped: []\n"
     ]
    }
   ],
   "source": [
    "an=dble_col_drop(an)"
   ]
  },
  {
   "cell_type": "code",
   "execution_count": 626,
   "id": "thrown-interview",
   "metadata": {},
   "outputs": [
    {
     "ename": "KeyError",
     "evalue": "'[1 2] not found in axis'",
     "output_type": "error",
     "traceback": [
      "\u001b[0;31m---------------------------------------------------------------------------\u001b[0m",
      "\u001b[0;31mKeyError\u001b[0m                                  Traceback (most recent call last)",
      "\u001b[0;32m/tmp/ipykernel_8568/4261755283.py\u001b[0m in \u001b[0;36m<module>\u001b[0;34m\u001b[0m\n\u001b[0;32m----> 1\u001b[0;31m \u001b[0man\u001b[0m\u001b[0;34m.\u001b[0m\u001b[0mdrop\u001b[0m\u001b[0;34m(\u001b[0m\u001b[0mlist\u001b[0m\u001b[0;34m(\u001b[0m\u001b[0mrange\u001b[0m\u001b[0;34m(\u001b[0m\u001b[0;36m3\u001b[0m\u001b[0;34m)\u001b[0m\u001b[0;34m)\u001b[0m\u001b[0;34m,\u001b[0m \u001b[0maxis\u001b[0m\u001b[0;34m=\u001b[0m\u001b[0;36m0\u001b[0m\u001b[0;34m,\u001b[0m \u001b[0minplace\u001b[0m\u001b[0;34m=\u001b[0m\u001b[0;32mTrue\u001b[0m\u001b[0;34m)\u001b[0m\u001b[0;34m\u001b[0m\u001b[0;34m\u001b[0m\u001b[0m\n\u001b[0m\u001b[1;32m      2\u001b[0m \u001b[0man\u001b[0m\u001b[0;34m.\u001b[0m\u001b[0mreset_index\u001b[0m\u001b[0;34m(\u001b[0m\u001b[0mdrop\u001b[0m\u001b[0;34m=\u001b[0m\u001b[0;32mTrue\u001b[0m\u001b[0;34m,\u001b[0m \u001b[0minplace\u001b[0m\u001b[0;34m=\u001b[0m\u001b[0;32mTrue\u001b[0m\u001b[0;34m)\u001b[0m\u001b[0;34m\u001b[0m\u001b[0;34m\u001b[0m\u001b[0m\n\u001b[1;32m      3\u001b[0m \u001b[0man\u001b[0m\u001b[0;34m=\u001b[0m\u001b[0mna_col_drop\u001b[0m\u001b[0;34m(\u001b[0m\u001b[0man\u001b[0m\u001b[0;34m,\u001b[0m\u001b[0;36m1\u001b[0m\u001b[0;34m)\u001b[0m\u001b[0;34m\u001b[0m\u001b[0;34m\u001b[0m\u001b[0m\n\u001b[1;32m      4\u001b[0m \u001b[0man\u001b[0m \u001b[0;34m=\u001b[0m \u001b[0mna_line_drop\u001b[0m\u001b[0;34m(\u001b[0m\u001b[0man\u001b[0m\u001b[0;34m,\u001b[0m \u001b[0;36m1\u001b[0m\u001b[0;34m)\u001b[0m\u001b[0;34m\u001b[0m\u001b[0;34m\u001b[0m\u001b[0m\n\u001b[1;32m      5\u001b[0m \u001b[0man\u001b[0m\u001b[0;34m.\u001b[0m\u001b[0minsert\u001b[0m\u001b[0;34m(\u001b[0m\u001b[0;36m1\u001b[0m\u001b[0;34m,\u001b[0m\u001b[0;34m'Type_ech'\u001b[0m\u001b[0;34m,\u001b[0m\u001b[0;34m'Sol'\u001b[0m\u001b[0;34m)\u001b[0m\u001b[0;34m\u001b[0m\u001b[0;34m\u001b[0m\u001b[0m\n",
      "\u001b[0;32m~/.local/share/virtualenvs/GSDMA-DRfwm83x/lib/python3.8/site-packages/pandas/util/_decorators.py\u001b[0m in \u001b[0;36mwrapper\u001b[0;34m(*args, **kwargs)\u001b[0m\n\u001b[1;32m    309\u001b[0m                     \u001b[0mstacklevel\u001b[0m\u001b[0;34m=\u001b[0m\u001b[0mstacklevel\u001b[0m\u001b[0;34m,\u001b[0m\u001b[0;34m\u001b[0m\u001b[0;34m\u001b[0m\u001b[0m\n\u001b[1;32m    310\u001b[0m                 )\n\u001b[0;32m--> 311\u001b[0;31m             \u001b[0;32mreturn\u001b[0m \u001b[0mfunc\u001b[0m\u001b[0;34m(\u001b[0m\u001b[0;34m*\u001b[0m\u001b[0margs\u001b[0m\u001b[0;34m,\u001b[0m \u001b[0;34m**\u001b[0m\u001b[0mkwargs\u001b[0m\u001b[0;34m)\u001b[0m\u001b[0;34m\u001b[0m\u001b[0;34m\u001b[0m\u001b[0m\n\u001b[0m\u001b[1;32m    312\u001b[0m \u001b[0;34m\u001b[0m\u001b[0m\n\u001b[1;32m    313\u001b[0m         \u001b[0;32mreturn\u001b[0m \u001b[0mwrapper\u001b[0m\u001b[0;34m\u001b[0m\u001b[0;34m\u001b[0m\u001b[0m\n",
      "\u001b[0;32m~/.local/share/virtualenvs/GSDMA-DRfwm83x/lib/python3.8/site-packages/pandas/core/frame.py\u001b[0m in \u001b[0;36mdrop\u001b[0;34m(self, labels, axis, index, columns, level, inplace, errors)\u001b[0m\n\u001b[1;32m   4899\u001b[0m                 \u001b[0mweight\u001b[0m  \u001b[0;36m1.0\u001b[0m     \u001b[0;36m0.8\u001b[0m\u001b[0;34m\u001b[0m\u001b[0;34m\u001b[0m\u001b[0m\n\u001b[1;32m   4900\u001b[0m         \"\"\"\n\u001b[0;32m-> 4901\u001b[0;31m         return super().drop(\n\u001b[0m\u001b[1;32m   4902\u001b[0m             \u001b[0mlabels\u001b[0m\u001b[0;34m=\u001b[0m\u001b[0mlabels\u001b[0m\u001b[0;34m,\u001b[0m\u001b[0;34m\u001b[0m\u001b[0;34m\u001b[0m\u001b[0m\n\u001b[1;32m   4903\u001b[0m             \u001b[0maxis\u001b[0m\u001b[0;34m=\u001b[0m\u001b[0maxis\u001b[0m\u001b[0;34m,\u001b[0m\u001b[0;34m\u001b[0m\u001b[0;34m\u001b[0m\u001b[0m\n",
      "\u001b[0;32m~/.local/share/virtualenvs/GSDMA-DRfwm83x/lib/python3.8/site-packages/pandas/core/generic.py\u001b[0m in \u001b[0;36mdrop\u001b[0;34m(self, labels, axis, index, columns, level, inplace, errors)\u001b[0m\n\u001b[1;32m   4145\u001b[0m         \u001b[0;32mfor\u001b[0m \u001b[0maxis\u001b[0m\u001b[0;34m,\u001b[0m \u001b[0mlabels\u001b[0m \u001b[0;32min\u001b[0m \u001b[0maxes\u001b[0m\u001b[0;34m.\u001b[0m\u001b[0mitems\u001b[0m\u001b[0;34m(\u001b[0m\u001b[0;34m)\u001b[0m\u001b[0;34m:\u001b[0m\u001b[0;34m\u001b[0m\u001b[0;34m\u001b[0m\u001b[0m\n\u001b[1;32m   4146\u001b[0m             \u001b[0;32mif\u001b[0m \u001b[0mlabels\u001b[0m \u001b[0;32mis\u001b[0m \u001b[0;32mnot\u001b[0m \u001b[0;32mNone\u001b[0m\u001b[0;34m:\u001b[0m\u001b[0;34m\u001b[0m\u001b[0;34m\u001b[0m\u001b[0m\n\u001b[0;32m-> 4147\u001b[0;31m                 \u001b[0mobj\u001b[0m \u001b[0;34m=\u001b[0m \u001b[0mobj\u001b[0m\u001b[0;34m.\u001b[0m\u001b[0m_drop_axis\u001b[0m\u001b[0;34m(\u001b[0m\u001b[0mlabels\u001b[0m\u001b[0;34m,\u001b[0m \u001b[0maxis\u001b[0m\u001b[0;34m,\u001b[0m \u001b[0mlevel\u001b[0m\u001b[0;34m=\u001b[0m\u001b[0mlevel\u001b[0m\u001b[0;34m,\u001b[0m \u001b[0merrors\u001b[0m\u001b[0;34m=\u001b[0m\u001b[0merrors\u001b[0m\u001b[0;34m)\u001b[0m\u001b[0;34m\u001b[0m\u001b[0;34m\u001b[0m\u001b[0m\n\u001b[0m\u001b[1;32m   4148\u001b[0m \u001b[0;34m\u001b[0m\u001b[0m\n\u001b[1;32m   4149\u001b[0m         \u001b[0;32mif\u001b[0m \u001b[0minplace\u001b[0m\u001b[0;34m:\u001b[0m\u001b[0;34m\u001b[0m\u001b[0;34m\u001b[0m\u001b[0m\n",
      "\u001b[0;32m~/.local/share/virtualenvs/GSDMA-DRfwm83x/lib/python3.8/site-packages/pandas/core/generic.py\u001b[0m in \u001b[0;36m_drop_axis\u001b[0;34m(self, labels, axis, level, errors)\u001b[0m\n\u001b[1;32m   4180\u001b[0m                 \u001b[0mnew_axis\u001b[0m \u001b[0;34m=\u001b[0m \u001b[0maxis\u001b[0m\u001b[0;34m.\u001b[0m\u001b[0mdrop\u001b[0m\u001b[0;34m(\u001b[0m\u001b[0mlabels\u001b[0m\u001b[0;34m,\u001b[0m \u001b[0mlevel\u001b[0m\u001b[0;34m=\u001b[0m\u001b[0mlevel\u001b[0m\u001b[0;34m,\u001b[0m \u001b[0merrors\u001b[0m\u001b[0;34m=\u001b[0m\u001b[0merrors\u001b[0m\u001b[0;34m)\u001b[0m\u001b[0;34m\u001b[0m\u001b[0;34m\u001b[0m\u001b[0m\n\u001b[1;32m   4181\u001b[0m             \u001b[0;32melse\u001b[0m\u001b[0;34m:\u001b[0m\u001b[0;34m\u001b[0m\u001b[0;34m\u001b[0m\u001b[0m\n\u001b[0;32m-> 4182\u001b[0;31m                 \u001b[0mnew_axis\u001b[0m \u001b[0;34m=\u001b[0m \u001b[0maxis\u001b[0m\u001b[0;34m.\u001b[0m\u001b[0mdrop\u001b[0m\u001b[0;34m(\u001b[0m\u001b[0mlabels\u001b[0m\u001b[0;34m,\u001b[0m \u001b[0merrors\u001b[0m\u001b[0;34m=\u001b[0m\u001b[0merrors\u001b[0m\u001b[0;34m)\u001b[0m\u001b[0;34m\u001b[0m\u001b[0;34m\u001b[0m\u001b[0m\n\u001b[0m\u001b[1;32m   4183\u001b[0m             \u001b[0mresult\u001b[0m \u001b[0;34m=\u001b[0m \u001b[0mself\u001b[0m\u001b[0;34m.\u001b[0m\u001b[0mreindex\u001b[0m\u001b[0;34m(\u001b[0m\u001b[0;34m**\u001b[0m\u001b[0;34m{\u001b[0m\u001b[0maxis_name\u001b[0m\u001b[0;34m:\u001b[0m \u001b[0mnew_axis\u001b[0m\u001b[0;34m}\u001b[0m\u001b[0;34m)\u001b[0m\u001b[0;34m\u001b[0m\u001b[0;34m\u001b[0m\u001b[0m\n\u001b[1;32m   4184\u001b[0m \u001b[0;34m\u001b[0m\u001b[0m\n",
      "\u001b[0;32m~/.local/share/virtualenvs/GSDMA-DRfwm83x/lib/python3.8/site-packages/pandas/core/indexes/base.py\u001b[0m in \u001b[0;36mdrop\u001b[0;34m(self, labels, errors)\u001b[0m\n\u001b[1;32m   6016\u001b[0m         \u001b[0;32mif\u001b[0m \u001b[0mmask\u001b[0m\u001b[0;34m.\u001b[0m\u001b[0many\u001b[0m\u001b[0;34m(\u001b[0m\u001b[0;34m)\u001b[0m\u001b[0;34m:\u001b[0m\u001b[0;34m\u001b[0m\u001b[0;34m\u001b[0m\u001b[0m\n\u001b[1;32m   6017\u001b[0m             \u001b[0;32mif\u001b[0m \u001b[0merrors\u001b[0m \u001b[0;34m!=\u001b[0m \u001b[0;34m\"ignore\"\u001b[0m\u001b[0;34m:\u001b[0m\u001b[0;34m\u001b[0m\u001b[0;34m\u001b[0m\u001b[0m\n\u001b[0;32m-> 6018\u001b[0;31m                 \u001b[0;32mraise\u001b[0m \u001b[0mKeyError\u001b[0m\u001b[0;34m(\u001b[0m\u001b[0;34mf\"{labels[mask]} not found in axis\"\u001b[0m\u001b[0;34m)\u001b[0m\u001b[0;34m\u001b[0m\u001b[0;34m\u001b[0m\u001b[0m\n\u001b[0m\u001b[1;32m   6019\u001b[0m             \u001b[0mindexer\u001b[0m \u001b[0;34m=\u001b[0m \u001b[0mindexer\u001b[0m\u001b[0;34m[\u001b[0m\u001b[0;34m~\u001b[0m\u001b[0mmask\u001b[0m\u001b[0;34m]\u001b[0m\u001b[0;34m\u001b[0m\u001b[0;34m\u001b[0m\u001b[0m\n\u001b[1;32m   6020\u001b[0m         \u001b[0;32mreturn\u001b[0m \u001b[0mself\u001b[0m\u001b[0;34m.\u001b[0m\u001b[0mdelete\u001b[0m\u001b[0;34m(\u001b[0m\u001b[0mindexer\u001b[0m\u001b[0;34m)\u001b[0m\u001b[0;34m\u001b[0m\u001b[0;34m\u001b[0m\u001b[0m\n",
      "\u001b[0;31mKeyError\u001b[0m: '[1 2] not found in axis'"
     ]
    }
   ],
   "source": [
    "an.drop(list(range(3)), axis=0, inplace=True)\n",
    "an.reset_index(drop=True, inplace=True)\n",
    "an=na_col_drop(an,1)\n",
    "an = na_line_drop(an, 1)\n",
    "an.insert(1,'Type_ech','Sol')"
   ]
  },
  {
   "cell_type": "code",
   "execution_count": null,
   "id": "5765e4a1",
   "metadata": {},
   "outputs": [],
   "source": [
    "data = an\n",
    "for i in range(len(data)):\n",
    "    x=data.loc[i,'ID_ech']\n",
    "    r=re.search('([\\w|\\d]+)\\n.+$', x)\n",
    "    if r: \n",
    "        data.loc[i,'ID_ech']='226/'+r.group(1) # Rename borehole 304 to 226 because of conflict with piezair"
   ]
  },
  {
   "cell_type": "code",
   "execution_count": null,
   "id": "comprehensive-highway",
   "metadata": {},
   "outputs": [],
   "source": [
    "dataframe_viewer(an, rows=5) "
   ]
  },
  {
   "cell_type": "code",
   "execution_count": 627,
   "id": "silver-algebra",
   "metadata": {},
   "outputs": [],
   "source": [
    "source_ech_df=ech_df\n",
    "source_an=an"
   ]
  },
  {
   "cell_type": "code",
   "execution_count": 628,
   "id": "specific-suspension",
   "metadata": {
    "scrolled": true
   },
   "outputs": [
    {
     "ename": "NameError",
     "evalue": "name 'source_mes_sol' is not defined",
     "output_type": "error",
     "traceback": [
      "\u001b[0;31m---------------------------------------------------------------------------\u001b[0m",
      "\u001b[0;31mNameError\u001b[0m                                 Traceback (most recent call last)",
      "\u001b[0;32m/tmp/ipykernel_8568/1539028298.py\u001b[0m in \u001b[0;36m<module>\u001b[0;34m\u001b[0m\n\u001b[1;32m     24\u001b[0m \u001b[0;34m\u001b[0m\u001b[0m\n\u001b[1;32m     25\u001b[0m \u001b[0;34m\u001b[0m\u001b[0m\n\u001b[0;32m---> 26\u001b[0;31m print(f'source_bh:{len(source_bh)} ; source_pz:{len(source_pz)} ; source_litho:{len(source_litho)} ; '\n\u001b[0m\u001b[1;32m     27\u001b[0m      \u001b[0;34mf'source_Fac-uknw:{len(source_ukw)} ; source_an:{len(source_an)} ;\\nsource_ech_df:{len(source_ech_df)} ;'\u001b[0m\u001b[0;34m\u001b[0m\u001b[0;34m\u001b[0m\u001b[0m\n\u001b[1;32m     28\u001b[0m      f'source_ech_df:{len(source_ech_df)} ; source_mes_pz:{len(source_mes_pz)} ; source_mes_sol:{len(source_mes_sol)} ;')\n",
      "\u001b[0;31mNameError\u001b[0m: name 'source_mes_sol' is not defined"
     ]
    }
   ],
   "source": [
    "if not os.path.exists(tmp_dir):\n",
    "    os.makedirs(tmp_dir), os.makedirs(tmp_dir+'source_merge/') \n",
    "\n",
    "#bh.to_csv(tmp_dir+'source_merge/source_Boreholes.csv', index=False)\n",
    "#pz.to_csv(tmp_dir+sheet+'_Piezometers.csv', index=False)\n",
    "#ouv.to_csv(tmp_dir+sheet+'_Unkown-facility.csv', index=False)\n",
    "#litho.to_csv(tmp_dir+sheet+'_Lithology.csv', index=False)\n",
    "#mes_pz.to_csv(tmp_dir+sheet+'_Measures.csv', index=False)\n",
    "#mes_sol.to_csv(tmp_dir+sheet+'_Measures-soil.csv', index=False)\n",
    "#ech_df.to_csv(tmp_dir+sheet+'_Samples-water.csv', index=False)\n",
    "ech_df.to_csv(tmp_dir+sheet+'_Samples-soil.csv', index=False)\n",
    "an.to_csv(tmp_dir+sheet+'_Analysis.csv', index=False)\n",
    "\n",
    "\n",
    "#source_bh.to_csv(tmp_dir+'source_merge/source_Boreholes.csv', index=False)\n",
    "#source_pz.to_csv(tmp_dir+'source_merge/source_Piezometers.csv', index=False)\n",
    "#source_ukw.to_csv(tmp_dir+'source_merge/source_Unkown-facility.csv', index=False)\n",
    "#source_litho.to_csv(tmp_dir+'source_merge/source_Lithology.csv', index=False)\n",
    "#source_mes_pz.to_csv(tmp_dir+'source_merge/source_Measures.csv', index=False)\n",
    "#source_mes_sol.to_csv(tmp_dir+'source_merge/source_Measures-soil.csv', index=False)\n",
    "#source_ech_df.to_csv(tmp_dir+'source_merge/source_Samples-water.csv', index=False)\n",
    "source_ech_df.to_csv(tmp_dir+'source_merge/source_Samples-soil.csv', index=False)\n",
    "source_an.to_csv(tmp_dir+'source_merge/source_Analysis.csv', index=False)\n",
    "\n",
    "\n",
    "print(f'source_bh:{len(source_bh)} ; source_pz:{len(source_pz)} ; source_litho:{len(source_litho)} ; '\n",
    "     f'source_Fac-uknw:{len(source_ukw)} ; source_an:{len(source_an)} ;\\nsource_ech_df:{len(source_ech_df)} ;'\n",
    "     f'source_ech_df:{len(source_ech_df)} ; source_mes_pz:{len(source_mes_pz)} ; source_mes_sol:{len(source_mes_sol)} ;')"
   ]
  },
  {
   "cell_type": "markdown",
   "id": "raised-semiconductor",
   "metadata": {},
   "source": [
    "* **Sheet : 'inorganiques et composés majeur'**"
   ]
  },
  {
   "cell_type": "code",
   "execution_count": null,
   "id": "detected-namibia",
   "metadata": {},
   "outputs": [],
   "source": [
    "tmp_dir=ROOT_DIR + '/CF_data/Result_traitem/donnees_terrain_2019/'\n",
    "sheet='Inorg_comp_majeur'"
   ]
  },
  {
   "cell_type": "code",
   "execution_count": null,
   "id": "weighted-breed",
   "metadata": {
    "scrolled": false
   },
   "outputs": [],
   "source": [
    "df = pd.read_excel(ROOT_DIR + '/CF_data/Data_UMONS/Profils_de_sol_Siterem- extension_pilote_et_pilote/'\n",
    "                   'Resultats SOL extension pilote et piezairs.xlsx', \n",
    "                   sheet_name='inorganiques et composés majeur', skiprows=1)\n",
    "df=na_line_drop(df,0)\n",
    "df=na_col_drop(df,1)\n",
    "df.replace(r'<|>','', inplace=True, regex=True)\n",
    "df.replace(r'-$',np.nan, inplace=True, regex=True)\n",
    "\n",
    "dataframe_viewer(df, rows=5)"
   ]
  },
  {
   "cell_type": "code",
   "execution_count": 629,
   "id": "virgin-concept",
   "metadata": {},
   "outputs": [],
   "source": [
    "ech_df=df.loc[:20] # not really interesting here!\n",
    "an=df.loc[21:]"
   ]
  },
  {
   "cell_type": "code",
   "execution_count": 630,
   "id": "exclusive-escape",
   "metadata": {},
   "outputs": [
    {
     "name": "stderr",
     "output_type": "stream",
     "text": [
      "/home/yanathan/.local/share/virtualenvs/GSDMA-DRfwm83x/lib/python3.8/site-packages/pandas/core/indexing.py:723: SettingWithCopyWarning: \n",
      "A value is trying to be set on a copy of a slice from a DataFrame\n",
      "\n",
      "See the caveats in the documentation: https://pandas.pydata.org/pandas-docs/stable/user_guide/indexing.html#returning-a-view-versus-a-copy\n",
      "  iloc._setitem_with_indexer(indexer, value, self.name)\n"
     ]
    }
   ],
   "source": [
    "an.loc[0.5] = df.loc[0] # put data on first line\n",
    "an = an.sort_index().reset_index(drop=True)"
   ]
  },
  {
   "cell_type": "code",
   "execution_count": 631,
   "id": "pediatric-template",
   "metadata": {},
   "outputs": [],
   "source": [
    "an=an.transpose()\n",
    "an.reset_index(drop=True, inplace=True)"
   ]
  },
  {
   "cell_type": "code",
   "execution_count": 632,
   "id": "desperate-turkish",
   "metadata": {},
   "outputs": [],
   "source": [
    "an=col_ren(an, 1)"
   ]
  },
  {
   "cell_type": "code",
   "execution_count": 633,
   "id": "saving-nightmare",
   "metadata": {},
   "outputs": [],
   "source": [
    "an.rename(columns={an.columns[0]:'ID_ech'}, inplace=True)"
   ]
  },
  {
   "cell_type": "code",
   "execution_count": 634,
   "id": "buried-carolina",
   "metadata": {},
   "outputs": [],
   "source": [
    "an=an[an.columns[:-7]]"
   ]
  },
  {
   "cell_type": "code",
   "execution_count": 635,
   "id": "representative-adolescent",
   "metadata": {},
   "outputs": [],
   "source": [
    "an=col_ren(an, name=POL_NAMES_MODEL, mode=1)"
   ]
  },
  {
   "cell_type": "code",
   "execution_count": 636,
   "id": "tested-europe",
   "metadata": {},
   "outputs": [
    {
     "name": "stdout",
     "output_type": "stream",
     "text": [
      "column(s) dropped: []\n"
     ]
    }
   ],
   "source": [
    "an=dble_col_drop(an)"
   ]
  },
  {
   "cell_type": "code",
   "execution_count": 637,
   "id": "ruled-plastic",
   "metadata": {},
   "outputs": [
    {
     "ename": "IndexError",
     "evalue": "index 1 is out of bounds for axis 0 with size 0",
     "output_type": "error",
     "traceback": [
      "\u001b[0;31m---------------------------------------------------------------------------\u001b[0m",
      "\u001b[0;31mIndexError\u001b[0m                                Traceback (most recent call last)",
      "\u001b[0;32m/tmp/ipykernel_8568/2913946178.py\u001b[0m in \u001b[0;36m<module>\u001b[0;34m\u001b[0m\n\u001b[1;32m      3\u001b[0m \u001b[0man\u001b[0m\u001b[0;34m=\u001b[0m\u001b[0mna_col_drop\u001b[0m\u001b[0;34m(\u001b[0m\u001b[0man\u001b[0m\u001b[0;34m,\u001b[0m\u001b[0;36m2\u001b[0m\u001b[0;34m)\u001b[0m\u001b[0;34m\u001b[0m\u001b[0;34m\u001b[0m\u001b[0m\n\u001b[1;32m      4\u001b[0m \u001b[0man\u001b[0m \u001b[0;34m=\u001b[0m \u001b[0mna_line_drop\u001b[0m\u001b[0;34m(\u001b[0m\u001b[0man\u001b[0m\u001b[0;34m,\u001b[0m\u001b[0;36m1\u001b[0m\u001b[0;34m)\u001b[0m\u001b[0;34m\u001b[0m\u001b[0;34m\u001b[0m\u001b[0m\n\u001b[0;32m----> 5\u001b[0;31m \u001b[0man\u001b[0m\u001b[0;34m.\u001b[0m\u001b[0minsert\u001b[0m\u001b[0;34m(\u001b[0m\u001b[0;36m1\u001b[0m\u001b[0;34m,\u001b[0m\u001b[0;34m'Type_ech'\u001b[0m\u001b[0;34m,\u001b[0m\u001b[0;34m'Sol'\u001b[0m\u001b[0;34m)\u001b[0m\u001b[0;34m\u001b[0m\u001b[0;34m\u001b[0m\u001b[0m\n\u001b[0m",
      "\u001b[0;32m~/.local/share/virtualenvs/GSDMA-DRfwm83x/lib/python3.8/site-packages/pandas/core/frame.py\u001b[0m in \u001b[0;36minsert\u001b[0;34m(self, loc, column, value, allow_duplicates)\u001b[0m\n\u001b[1;32m   4412\u001b[0m \u001b[0;34m\u001b[0m\u001b[0m\n\u001b[1;32m   4413\u001b[0m         \u001b[0mvalue\u001b[0m \u001b[0;34m=\u001b[0m \u001b[0mself\u001b[0m\u001b[0;34m.\u001b[0m\u001b[0m_sanitize_column\u001b[0m\u001b[0;34m(\u001b[0m\u001b[0mvalue\u001b[0m\u001b[0;34m)\u001b[0m\u001b[0;34m\u001b[0m\u001b[0;34m\u001b[0m\u001b[0m\n\u001b[0;32m-> 4414\u001b[0;31m         \u001b[0mself\u001b[0m\u001b[0;34m.\u001b[0m\u001b[0m_mgr\u001b[0m\u001b[0;34m.\u001b[0m\u001b[0minsert\u001b[0m\u001b[0;34m(\u001b[0m\u001b[0mloc\u001b[0m\u001b[0;34m,\u001b[0m \u001b[0mcolumn\u001b[0m\u001b[0;34m,\u001b[0m \u001b[0mvalue\u001b[0m\u001b[0;34m)\u001b[0m\u001b[0;34m\u001b[0m\u001b[0;34m\u001b[0m\u001b[0m\n\u001b[0m\u001b[1;32m   4415\u001b[0m \u001b[0;34m\u001b[0m\u001b[0m\n\u001b[1;32m   4416\u001b[0m     \u001b[0;32mdef\u001b[0m \u001b[0massign\u001b[0m\u001b[0;34m(\u001b[0m\u001b[0mself\u001b[0m\u001b[0;34m,\u001b[0m \u001b[0;34m**\u001b[0m\u001b[0mkwargs\u001b[0m\u001b[0;34m)\u001b[0m \u001b[0;34m->\u001b[0m \u001b[0mDataFrame\u001b[0m\u001b[0;34m:\u001b[0m\u001b[0;34m\u001b[0m\u001b[0;34m\u001b[0m\u001b[0m\n",
      "\u001b[0;32m~/.local/share/virtualenvs/GSDMA-DRfwm83x/lib/python3.8/site-packages/pandas/core/internals/managers.py\u001b[0m in \u001b[0;36minsert\u001b[0;34m(self, loc, item, value)\u001b[0m\n\u001b[1;32m   1170\u001b[0m             \u001b[0mself\u001b[0m\u001b[0;34m.\u001b[0m\u001b[0m_blknos\u001b[0m \u001b[0;34m=\u001b[0m \u001b[0mnp\u001b[0m\u001b[0;34m.\u001b[0m\u001b[0mappend\u001b[0m\u001b[0;34m(\u001b[0m\u001b[0mself\u001b[0m\u001b[0;34m.\u001b[0m\u001b[0m_blknos\u001b[0m\u001b[0;34m,\u001b[0m \u001b[0mlen\u001b[0m\u001b[0;34m(\u001b[0m\u001b[0mself\u001b[0m\u001b[0;34m.\u001b[0m\u001b[0mblocks\u001b[0m\u001b[0;34m)\u001b[0m\u001b[0;34m)\u001b[0m\u001b[0;34m\u001b[0m\u001b[0;34m\u001b[0m\u001b[0m\n\u001b[1;32m   1171\u001b[0m         \u001b[0;32melse\u001b[0m\u001b[0;34m:\u001b[0m\u001b[0;34m\u001b[0m\u001b[0;34m\u001b[0m\u001b[0m\n\u001b[0;32m-> 1172\u001b[0;31m             \u001b[0mself\u001b[0m\u001b[0;34m.\u001b[0m\u001b[0m_blklocs\u001b[0m \u001b[0;34m=\u001b[0m \u001b[0mnp\u001b[0m\u001b[0;34m.\u001b[0m\u001b[0minsert\u001b[0m\u001b[0;34m(\u001b[0m\u001b[0mself\u001b[0m\u001b[0;34m.\u001b[0m\u001b[0m_blklocs\u001b[0m\u001b[0;34m,\u001b[0m \u001b[0mloc\u001b[0m\u001b[0;34m,\u001b[0m \u001b[0;36m0\u001b[0m\u001b[0;34m)\u001b[0m\u001b[0;34m\u001b[0m\u001b[0;34m\u001b[0m\u001b[0m\n\u001b[0m\u001b[1;32m   1173\u001b[0m             \u001b[0mself\u001b[0m\u001b[0;34m.\u001b[0m\u001b[0m_blknos\u001b[0m \u001b[0;34m=\u001b[0m \u001b[0mnp\u001b[0m\u001b[0;34m.\u001b[0m\u001b[0minsert\u001b[0m\u001b[0;34m(\u001b[0m\u001b[0mself\u001b[0m\u001b[0;34m.\u001b[0m\u001b[0m_blknos\u001b[0m\u001b[0;34m,\u001b[0m \u001b[0mloc\u001b[0m\u001b[0;34m,\u001b[0m \u001b[0mlen\u001b[0m\u001b[0;34m(\u001b[0m\u001b[0mself\u001b[0m\u001b[0;34m.\u001b[0m\u001b[0mblocks\u001b[0m\u001b[0;34m)\u001b[0m\u001b[0;34m)\u001b[0m\u001b[0;34m\u001b[0m\u001b[0;34m\u001b[0m\u001b[0m\n\u001b[1;32m   1174\u001b[0m \u001b[0;34m\u001b[0m\u001b[0m\n",
      "\u001b[0;32m<__array_function__ internals>\u001b[0m in \u001b[0;36minsert\u001b[0;34m(*args, **kwargs)\u001b[0m\n",
      "\u001b[0;32m~/.local/share/virtualenvs/GSDMA-DRfwm83x/lib/python3.8/site-packages/numpy/lib/function_base.py\u001b[0m in \u001b[0;36minsert\u001b[0;34m(arr, obj, values, axis)\u001b[0m\n\u001b[1;32m   4702\u001b[0m         \u001b[0mindex\u001b[0m \u001b[0;34m=\u001b[0m \u001b[0mindices\u001b[0m\u001b[0;34m.\u001b[0m\u001b[0mitem\u001b[0m\u001b[0;34m(\u001b[0m\u001b[0;34m)\u001b[0m\u001b[0;34m\u001b[0m\u001b[0;34m\u001b[0m\u001b[0m\n\u001b[1;32m   4703\u001b[0m         \u001b[0;32mif\u001b[0m \u001b[0mindex\u001b[0m \u001b[0;34m<\u001b[0m \u001b[0;34m-\u001b[0m\u001b[0mN\u001b[0m \u001b[0;32mor\u001b[0m \u001b[0mindex\u001b[0m \u001b[0;34m>\u001b[0m \u001b[0mN\u001b[0m\u001b[0;34m:\u001b[0m\u001b[0;34m\u001b[0m\u001b[0;34m\u001b[0m\u001b[0m\n\u001b[0;32m-> 4704\u001b[0;31m             raise IndexError(\n\u001b[0m\u001b[1;32m   4705\u001b[0m                 \u001b[0;34m\"index %i is out of bounds for axis %i with \"\u001b[0m\u001b[0;34m\u001b[0m\u001b[0;34m\u001b[0m\u001b[0m\n\u001b[1;32m   4706\u001b[0m                 \"size %i\" % (obj, axis, N))\n",
      "\u001b[0;31mIndexError\u001b[0m: index 1 is out of bounds for axis 0 with size 0"
     ]
    }
   ],
   "source": [
    "an.drop(list(range(3)), axis=0, inplace=True)\n",
    "an.reset_index(drop=True, inplace=True)\n",
    "an=na_col_drop(an,2)\n",
    "an = na_line_drop(an,1)\n",
    "an.insert(1,'Type_ech','Sol')"
   ]
  },
  {
   "cell_type": "code",
   "execution_count": null,
   "id": "e0d1a30d",
   "metadata": {},
   "outputs": [],
   "source": [
    "data = an\n",
    "for i in range(len(data)):\n",
    "    x=data.loc[i,'ID_ech']\n",
    "    r=re.search('([\\w|\\d]+)\\n.+$', x)\n",
    "    if r: \n",
    "        data.loc[i,'ID_ech']='226/'+r.group(1) # Rename borehole 304 to 226 because of conflict with piezair"
   ]
  },
  {
   "cell_type": "code",
   "execution_count": null,
   "id": "extra-inquiry",
   "metadata": {
    "scrolled": true
   },
   "outputs": [],
   "source": [
    "#source_ech_df=ech_df\n",
    "source_an=data_merger(source_an, an, how='outer', on='ID_ech')[0]"
   ]
  },
  {
   "cell_type": "code",
   "execution_count": null,
   "id": "graphic-construction",
   "metadata": {
    "scrolled": false
   },
   "outputs": [],
   "source": [
    "dataframe_viewer(source_an, rows=5) "
   ]
  },
  {
   "cell_type": "code",
   "execution_count": 638,
   "id": "middle-convertible",
   "metadata": {
    "scrolled": true
   },
   "outputs": [
    {
     "ename": "NameError",
     "evalue": "name 'source_mes_sol' is not defined",
     "output_type": "error",
     "traceback": [
      "\u001b[0;31m---------------------------------------------------------------------------\u001b[0m",
      "\u001b[0;31mNameError\u001b[0m                                 Traceback (most recent call last)",
      "\u001b[0;32m/tmp/ipykernel_8568/1409828776.py\u001b[0m in \u001b[0;36m<module>\u001b[0;34m\u001b[0m\n\u001b[1;32m     24\u001b[0m \u001b[0;34m\u001b[0m\u001b[0m\n\u001b[1;32m     25\u001b[0m \u001b[0;34m\u001b[0m\u001b[0m\n\u001b[0;32m---> 26\u001b[0;31m print(f'source_bh:{len(source_bh)} ; source_pz:{len(source_pz)} ; source_litho:{len(source_litho)} ; '\n\u001b[0m\u001b[1;32m     27\u001b[0m      \u001b[0;34mf'source_Fac-uknw:{len(source_ukw)} ; source_an:{len(source_an)} ;\\nsource_ech_df:{len(source_ech_df)} ;'\u001b[0m\u001b[0;34m\u001b[0m\u001b[0;34m\u001b[0m\u001b[0m\n\u001b[1;32m     28\u001b[0m      f'source_ech_df:{len(source_ech_df)} ; source_mes_pz:{len(source_mes_pz)} ; source_mes_sol:{len(source_mes_sol)} ;')\n",
      "\u001b[0;31mNameError\u001b[0m: name 'source_mes_sol' is not defined"
     ]
    }
   ],
   "source": [
    "if not os.path.exists(tmp_dir):\n",
    "    os.makedirs(tmp_dir), os.makedirs(tmp_dir+'source_merge/') \n",
    "\n",
    "#bh.to_csv(tmp_dir+'source_merge/source_Boreholes.csv', index=False)\n",
    "#pz.to_csv(tmp_dir+sheet+'_Piezometers.csv', index=False)\n",
    "#ouv.to_csv(tmp_dir+sheet+'_Unkown-facility.csv', index=False)\n",
    "#litho.to_csv(tmp_dir+sheet+'_Lithology.csv', index=False)\n",
    "#mes_pz.to_csv(tmp_dir+sheet+'_Measures.csv', index=False)\n",
    "#mes_sol.to_csv(tmp_dir+sheet+'_Measures-soil.csv', index=False)\n",
    "#ech_df.to_csv(tmp_dir+sheet+'_Samples-water.csv', index=False)\n",
    "#ech_df.to_csv(tmp_dir+sheet+'_Samples-soil.csv', index=False)\n",
    "an.to_csv(tmp_dir+sheet+'_Analysis.csv', index=False)\n",
    "\n",
    "\n",
    "#source_bh.to_csv(tmp_dir+'source_merge/source_Boreholes.csv', index=False)\n",
    "#source_pz.to_csv(tmp_dir+'source_merge/source_Piezometers.csv', index=False)\n",
    "#source_ukw.to_csv(tmp_dir+'source_merge/source_Unkown-facility.csv', index=False)\n",
    "#source_litho.to_csv(tmp_dir+'source_merge/source_Lithology.csv', index=False)\n",
    "#source_mes_pz.to_csv(tmp_dir+'source_merge/source_Measures.csv', index=False)\n",
    "#source_mes_sol.to_csv(tmp_dir+'source_merge/source_Measures-soil.csv', index=False)\n",
    "#source_ech_df.to_csv(tmp_dir+'source_merge/source_Samples-water.csv', index=False)\n",
    "#source_ech_df.to_csv(tmp_dir+'source_merge/source_Samples-soil.csv', index=False)\n",
    "source_an.to_csv(tmp_dir+'source_merge/source_Analysis.csv', index=False)\n",
    "\n",
    "\n",
    "print(f'source_bh:{len(source_bh)} ; source_pz:{len(source_pz)} ; source_litho:{len(source_litho)} ; '\n",
    "     f'source_Fac-uknw:{len(source_ukw)} ; source_an:{len(source_an)} ;\\nsource_ech_df:{len(source_ech_df)} ;'\n",
    "     f'source_ech_df:{len(source_ech_df)} ; source_mes_pz:{len(source_mes_pz)} ; source_mes_sol:{len(source_mes_sol)} ;')"
   ]
  },
  {
   "cell_type": "markdown",
   "id": "2b0fae05",
   "metadata": {},
   "source": [
    "### $\\color{red}{\\textbf{merging of 'Donnees_2019' and 'result_sol' data}}$"
   ]
  },
  {
   "cell_type": "code",
   "execution_count": 639,
   "id": "c98b17e7",
   "metadata": {},
   "outputs": [
    {
     "ename": "NameError",
     "evalue": "name 'excel_bh_soil_sp' is not defined",
     "output_type": "error",
     "traceback": [
      "\u001b[0;31m---------------------------------------------------------------------------\u001b[0m",
      "\u001b[0;31mNameError\u001b[0m                                 Traceback (most recent call last)",
      "\u001b[0;32m/tmp/ipykernel_8568/1606423833.py\u001b[0m in \u001b[0;36m<module>\u001b[0;34m\u001b[0m\n\u001b[0;32m----> 1\u001b[0;31m \u001b[0mexcel_bh_soil_an\u001b[0m\u001b[0;34m,\u001b[0m \u001b[0mconflict_df\u001b[0m \u001b[0;34m=\u001b[0m \u001b[0mdata_merger\u001b[0m\u001b[0;34m(\u001b[0m\u001b[0mexcel_bh_soil_sp\u001b[0m\u001b[0;34m,\u001b[0m \u001b[0msource_an\u001b[0m\u001b[0;34m,\u001b[0m \u001b[0mhow\u001b[0m\u001b[0;34m=\u001b[0m\u001b[0;34m'outer'\u001b[0m\u001b[0;34m,\u001b[0m \u001b[0mon\u001b[0m\u001b[0;34m=\u001b[0m\u001b[0;34m'ID_ech'\u001b[0m\u001b[0;34m,\u001b[0m \u001b[0mdist_max\u001b[0m\u001b[0;34m=\u001b[0m\u001b[0;36m1.\u001b[0m\u001b[0;34m,\u001b[0m \u001b[0mdrop_skip_col\u001b[0m\u001b[0;34m=\u001b[0m\u001b[0;34m[\u001b[0m\u001b[0;34m'index'\u001b[0m\u001b[0;34m]\u001b[0m\u001b[0;34m)\u001b[0m\u001b[0;34m\u001b[0m\u001b[0;34m\u001b[0m\u001b[0m\n\u001b[0m",
      "\u001b[0;31mNameError\u001b[0m: name 'excel_bh_soil_sp' is not defined"
     ]
    }
   ],
   "source": [
    "excel_bh_soil_an, conflict_df = data_merger(excel_bh_soil_sp, source_an, how='outer', on='ID_ech', dist_max=1., drop_skip_col=['index'])"
   ]
  },
  {
   "cell_type": "code",
   "execution_count": null,
   "id": "630f5f96",
   "metadata": {},
   "outputs": [],
   "source": [
    "tmp_dir=ROOT_DIR + '/CF_data/Result_traitem/donnees_terrain_2019/'"
   ]
  },
  {
   "cell_type": "code",
   "execution_count": 640,
   "id": "5a00692d",
   "metadata": {},
   "outputs": [],
   "source": [
    "save_dir = tmp_dir + 'source_merge/final_'\n",
    "if not os.path.exists(save_dir):\n",
    "    os.makedirs(save_dir)\n",
    "\n",
    "#excel_bhs.to_csv(save_dir + 'Boreholes.csv', index=False)\n",
    "#excel_bh_litho.to_csv(save_dir+'Lithologies.csv', index=False)\n",
    "#excel_bh_equip.to_csv(save_dir+'Equipments.csv', index=False)\n",
    "#excel_bh_soil_sp.to_csv(save_dir+'Soil_samples.csv', index=False)\n",
    "#excel_bh_water_sp.to_csv(save_dir+'Water_samples.csv', index=False)\n",
    "excel_bh_soil_an.to_csv(save_dir+'Soil_analysis.csv', index=False)\n",
    "#excel_bh_water_an.to_csv(save_dir+'water_analysis.csv', index=False)\n",
    "#excel_bh_mes.to_csv(save_dir+'Measures.csv', index=False)\n",
    "#excel_bh_fac.to_csv(save_dir+'Unknow_facilities.csv', index=False)"
   ]
  },
  {
   "cell_type": "raw",
   "id": "33b68a27",
   "metadata": {},
   "source": [
    "l = []\n",
    "valid_dict = {}\n",
    "for i in pd.unique(conflict_df.Check_col):\n",
    "    for c in i.split(', '):\n",
    "        l.append(c + '_x')\n",
    "l = list(set(l))\n",
    "for i in l:\n",
    "    valid_dict.update({i:list(conflict_df.index)})\n",
    "print(valid_dict)"
   ]
  },
  {
   "cell_type": "raw",
   "id": "8b7f5dbc",
   "metadata": {},
   "source": [
    "l = []\n",
    "for i in pd.unique(conflict_df.Check_col):\n",
    "    for c in i.split(', '):\n",
    "        l.append(c)\n",
    "print(list(set(l)))"
   ]
  },
  {
   "cell_type": "code",
   "execution_count": 641,
   "id": "c7f83159",
   "metadata": {},
   "outputs": [
    {
     "name": "stdout",
     "output_type": "stream",
     "text": [
      "Rows : 11, columns : 86\n"
     ]
    },
    {
     "data": {
      "application/vnd.jupyter.widget-view+json": {
       "model_id": "ec0e763eb2d34db5b124b27116bb6880",
       "version_major": 2,
       "version_minor": 0
      },
      "text/plain": [
       "interactive(children=(IntSlider(value=5, description='rows', max=11, min=5, readout=False), IntSlider(value=12…"
      ]
     },
     "metadata": {},
     "output_type": "display_data"
    },
    {
     "name": "stdout",
     "output_type": "stream",
     "text": [
      "Rows : 0, columns : 0\n"
     ]
    },
    {
     "data": {
      "application/vnd.jupyter.widget-view+json": {
       "model_id": "ebf50488a6cb407491146c2274f54a0d",
       "version_major": 2,
       "version_minor": 0
      },
      "text/plain": [
       "interactive(children=(IntSlider(value=0, description='rows', max=0, readout=False), IntSlider(value=0, descrip…"
      ]
     },
     "metadata": {},
     "output_type": "display_data"
    },
    {
     "data": {
      "text/plain": [
       "(None, None)"
      ]
     },
     "execution_count": 641,
     "metadata": {},
     "output_type": "execute_result"
    }
   ],
   "source": [
    "#dataframe_viewer(test.query('ID==\"F16M\"'), rows=5)\n",
    "dataframe_viewer(mdf, rows=5), dataframe_viewer(conflict_df, rows=5)\n",
    "#dataframe_viewer(source_bh, rows=5), dataframe_viewer(source_mes, rows=5)\n",
    "#dataframe_viewer(bh, rows=5), dataframe_viewer(eqp, rows=5)"
   ]
  },
  {
   "cell_type": "code",
   "execution_count": null,
   "id": "executive-providence",
   "metadata": {},
   "outputs": [],
   "source": []
  }
 ],
 "metadata": {
  "kernelspec": {
   "display_name": "Python 3 (ipykernel)",
   "language": "python",
   "name": "python3"
  },
  "language_info": {
   "codemirror_mode": {
    "name": "ipython",
    "version": 3
   },
   "file_extension": ".py",
   "mimetype": "text/x-python",
   "name": "python",
   "nbconvert_exporter": "python",
   "pygments_lexer": "ipython3",
   "version": "3.8.10"
  }
 },
 "nbformat": 4,
 "nbformat_minor": 5
}
