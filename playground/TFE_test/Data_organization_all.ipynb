{
 "cells": [
  {
   "cell_type": "markdown",
   "id": "indonesian-alloy",
   "metadata": {},
   "source": [
    "# DATA ORGANIZATION"
   ]
  },
  {
   "cell_type": "raw",
   "id": "demanding-former",
   "metadata": {},
   "source": [
    "config Completer.use_jedi = False"
   ]
  },
  {
   "cell_type": "code",
   "execution_count": null,
   "id": "naughty-clerk",
   "metadata": {},
   "outputs": [],
   "source": [
    "from utils.io import update_dict, gen_id_dated, dataframe_viewer, gen_geodf_geom, data_merger, data_validation, \\\n",
    "data_slicer, replicate_values, collect_measure, collect_time_data, na_col_drop, na_line_drop, col_ren, \\\n",
    "dble_col_drop, dict_viewer\n",
    "\n",
    "from utils.config import DEFAULT_POL_LEXICON, pol_field_model \n",
    "from difflib import get_close_matches\n",
    "\n",
    "import re, os\n",
    "import numpy as np\n",
    "import geopandas as gpd\n",
    "import pandas as pd\n",
    "import datetime as dtm\n",
    "import matplotlib.pyplot as plt\n",
    "from definitions import ROOT_DIR"
   ]
  },
  {
   "cell_type": "code",
   "execution_count": null,
   "id": "limiting-bracket",
   "metadata": {},
   "outputs": [],
   "source": [
    "def compute_BH_length(df, id_col='ID', length_col_name='Long_for', top_col='Intv_top', base_col='Intv_base', verbose=False):\n",
    "    \n",
    "    if length_col_name in df.columns:\n",
    "        raise(NameError(f'{length_col_name} is already in columns. Give another name'))\n",
    "    \n",
    "    for i in df.index:\n",
    "        try:\n",
    "            float(df.loc[i, top_col])\n",
    "        except ValueError:\n",
    "            df.loc[i, top_col] = np.nan\n",
    "\n",
    "        try:\n",
    "            float(df.loc[i, base_col])\n",
    "        except ValueError:\n",
    "            df.loc[i, base_col] = np.nan\n",
    "\n",
    "    df[top_col] = df[top_col].astype('float64')\n",
    "    df[base_col] = df[base_col].astype('float64')\n",
    "\n",
    "    # compute length based on litho_top and litho_base\n",
    "    id_list = []\n",
    "\n",
    "    for i in df.index:\n",
    "        id_ = df.loc[i,id_col]\n",
    "        \n",
    "        if verbose : print(i, id_, df.loc[i, top_col], df.loc[i, base_col])\n",
    "        if id_ not in id_list:\n",
    "            id_list.append(id_)\n",
    "            if isinstance(id_, str):\n",
    "                sql_id = f\"{id_}\"\n",
    "            elif isinstance(id_, float) or isinstance(id_, int):\n",
    "                sql_id = id_\n",
    "                \n",
    "            tmp = df[df[id_col] == sql_id]\n",
    "            \n",
    "            if verbose : print(len(tmp))\n",
    "            #if len(tmp) > 0:\n",
    "            df.loc[tmp.index, length_col_name] = float(max(tmp[base_col])) - float(min(tmp[top_col]))\n",
    "    \n",
    "    df.drop(index=df.query(f'{base_col}.isnull() and {top_col}.isnull()').index, inplace=True)\n",
    "    df.insert(df.columns.to_list().index(id_col)+1, length_col_name, df.pop(length_col_name))\n",
    "    #df.reset_index(drop=True, inplace=True)\n",
    "    "
   ]
  },
  {
   "cell_type": "raw",
   "id": "a6fc876c",
   "metadata": {},
   "source": [
    "pol_field_model={'Arsenic': 'As', 'Cobalt':'Co', 'Cadmium': 'Cd', 'Chrome': 'Cr', 'Chrome VI': 'Cr_VI', 'Cuivre': 'Cu', 'Mercure': 'Hg', 'Plomb': 'Pb', 'Nickel': 'Ni', 'Zinc': 'Zn', 'Cyanure(?:s)? (?libre(?:s)?)?': 'CN_lib', 'Cyanures (totaux)': 'CN_tot','Cyanure (totaux)': 'CN_tot', 'CN_totaux':'CN_tot','Cyanures (APE)': 'CN_APE', 'cyanure (totaux)':'CN_tot', 'cyanure (APE)':'CN_APE', 'cyanure complex': 'CN_cplx','Cyanure (APE)': 'CN_APE', \"Cyanures (libres) - NEN-EN-ISO 14403\": 'CN_libre', 'Cyanures (libres)':'CN_libre', 'thiocyanate': 'thioCN', 'Benzène': 'Bnz', 'Toluène': 'Toln', 'Éthylbenzène': 'EthylBnz', 'Orthoxylène': 'O-Xyl', 'Para- et métaxylène': 'P-M-Xyl', 'Xylènes': 'Xyl', 'Styrène': 'Styr', 'BTEX totaux': 'BTEX_tot', 'Phénol': 'Phenol', 'Indice phénol': 'Idc_Phenol', 'Naphtalène': 'Naphta', 'Acénaphtylène': 'Acenaphtyl', 'Acénaphtène': 'Acenaphtn', 'Fluorène': 'Fluorene', 'Phénanthrène': 'Phenanthr', 'Anthracène': 'Anthrc', 'Fluoranthène': 'Flranth', 'Pyrène': 'Pyr', 'Benzo(a)anthracène': 'Bnz(a)anthrc', 'Chrysène': 'Chrys', 'Benzo(b)fluoranthène': 'Bnz(b)flranth', 'Benzo(k)fluoranthène': 'Bnz(k)flranth', 'Benzo(a)pyrène': 'Bnz(a)pyr','Dibenzo(ah)anthracène': 'Dibnz(ah)anthrc', 'Benzo(ghi)pérylène': 'Bnz(ghi)peryl', 'Indéno(1,2,3-cd)pyrène': 'Indeno(1.2.3-cd)pyr', 'HAP Totaux (16) - EPA': 'HAP_tot_EPA', '1.1-Dichloroéthane': '1.1-DCE', '1.2-Dichloroéthane': '1.2-DCE', '1.1-dichloroéthène': '1.1-DCEn', 'Cis-1.2-dichloroéthène': 'Cis-1.2-DCEn', 'Trans 1.2-dichloroéthylène': 'Trans 1,2-DCEyl', 'Dichlorométhane': 'DCM', 'Totaux (cis,trans) 1,2-dichloroéthènes': '(cis,trans) 1,2-DCE_tot', '1,2-dichloropropane': '1,2-DCP', 'Tétrachloroéthylène': 'TetraCEyn', 'Tétrachlorométhane': 'TCM', '1,1,1-Trichloroéthane': '1.1.1-TCE', '1,1,2-Trichloroéthane': '1.1.2-TCE', 'Trichloroéthylène': 'TCEyn', 'Chloroforme': 'Chloroforme', 'Chlorure de vinyle': 'CVinyl', 'EOX': 'EOX', 'fraction aromat. >C6-C7': 'Arom_C6-C7', 'fraction aromat. >C7-C8': 'Arom_C7-C8', 'fraction aromat. >C8-C10': 'Arom_C8-C10', 'fraction aliphat. C5-C6': 'Aliphat_C5-C6', 'fraction aliphat. >C6-C8': 'Aliphat_C6-C8', 'fraction aliphat. >C8-C10': 'Aliphat_C8-C10', 'Fraction C5-C8': 'C5-C8', 'Fraction C8-C10': 'C8-C10', 'Fraction C10-C12': 'C10-C12', 'Fraction C12-C16': 'C12-C16', 'Fraction C16-C21': 'C16-C21', 'Fraction C21 - C35': 'C21-C35', 'Fraction C35 - C40': 'C35-C40', 'Hydrocarbures totaux C10-C35': 'HC_tot_C10-C35','totaux C10-C35':'HC_tot_C10-C35', 'Totaux C10-C40':'HC_tot_C10-C40', 'Hydrocarbures totaux C10-C40':'HC_tot_C10-C40', 'MTBE': 'MTBE', 'PCB 28': 'PCB_28', 'PCB 52': 'PCB_52', 'PCB 101': 'PCB_101', 'PCB 118': 'PCB_118', 'PCB 138': 'PCB_138', 'PCB 153': 'PCB_153', 'PCB 180': 'PCB_180', 'PCB totaux (7)?': 'PCB_tot', 'Chlorure(?:s)?': 'Chlorure', 'Soufre Total': 'S_tot', 'sulfite(?:s)?': 'sulfite', 'sulfate(?:s)?': 'sulfate', 'COT':'COT','DBO (5 jours)':'DBO_5j','DCO':'DCO', 'Ammonium':'NH4','ammoniaque libre':'NH3_libre','Nitrate':'HNO3', 'Nitrite':'HNO2','azote Kjeldahl':'N_Kjdl','sulfures totaux':'Sulfure_tot', 'sulfure(?:s)? (libre(?:s)?)':'Sulfure_libre','calcium':'Ca','potassium':'K', 'magnésium':'Mg', 'manganèse':'Mn', 'sodium':\"Na\", 'fer':'Fe','phosphore (total)':'P_tot','carbonate':'CaCO3', 'bicarbonate':'Bicarb','Phoshore':'P', 'fer ((Fe))? total':'Fe_tot', 'fer (2\\+)':'Fe2','fluorure(?:s)?':'Fluorure','bromure (libre)': 'Br_libre'}"
   ]
  },
  {
   "cell_type": "code",
   "execution_count": null,
   "id": "6c41bb8f",
   "metadata": {},
   "outputs": [],
   "source": [
    "bh_cols = ['Date_for','ID','X','Y','Z','Zsol','Type','Long_for','Long_pz','Long_crep','Long_pz-sol','haut_pz-sol',\n",
    "           'Diam_for','Diam_int_pz','Diam_ext_pz','Refus','Societe','Method','ID_date','Rmq']\n",
    "\n",
    "mes_cols = ['Date_mes','ID','X','Y','Z','Zsol','Params','Rmq']\n",
    "\n",
    "eqp_cols = ['Date_for','ID','X','Y','Z','Zsol','Type_equip','Equip_base','Equip_top','Rmq']\n",
    "\n",
    "litho_cols = ['Date_for','ID','X','Y','Z','Zsol','Long_for','Intv_top','Intv_base','Description','Rmq']\n",
    "\n",
    "an_cols = ['Date_for','ID','X','Y','Z','Zsol','Date_ech','ID_ech','Type_ech','Intv_top','Intv_base','Organo','Rmq']\n",
    "\n",
    "ukw_cols = ['Date_for','ID','X','Y','Z','Zsol','Type','Long_for','Method','Type','Societe','Rmq']\n",
    "\n",
    "coi_dict = {'borehole': bh_cols, 'measure': mes_cols, 'lithology': litho_cols, 'analysis': an_cols, \n",
    " 'equipement': eqp_cols, 'unknown': ukw_cols}"
   ]
  },
  {
   "cell_type": "code",
   "execution_count": null,
   "id": "e907f0f7",
   "metadata": {},
   "outputs": [],
   "source": [
    "params_kw = ['niv_eau', 'temp', 'CE', 'pH', 'ORP']"
   ]
  },
  {
   "cell_type": "markdown",
   "id": "6adfd064",
   "metadata": {},
   "source": [
    "variables utilisées \n",
    "==========================\n",
    "- bh \t: \tforages (simple ou piezo)\n",
    "- equip\t:\tequipements d'un forage (outils, méthodes utilisés, ...)\n",
    "- ukw\t:\tobjets physiques indéterminés\n",
    "- litho :\tdescriptions lithologiques\n",
    "- an \t: \tanalyses de contaminants sur des échantillons (sol, eau)\n",
    "- mes\t:\tmesures de propriétés sur des échantillons (sol, eau), de paramètres hydrochimiques, ...\n"
   ]
  },
  {
   "cell_type": "markdown",
   "id": "driving-script",
   "metadata": {},
   "source": [
    "source dataframes initialization"
   ]
  },
  {
   "cell_type": "code",
   "execution_count": null,
   "id": "flying-disabled",
   "metadata": {},
   "outputs": [],
   "source": [
    "# initialisation des variables\n",
    "_df = pd.DataFrame()\n",
    "source_bh, source_eqp, source_ukw = _df, _df, _df\n",
    "source_litho, source_an, source_mes = _df, _df, _df\n",
    "\n",
    "print(f'source_bh: {len(source_bh)} ; source_eqp: {len(source_eqp)} ; source_uknw: {len(source_ukw)} ; '\n",
    "      f'source_litho: {len(source_litho)} ; source_an: {len(source_an)} ; source_mes: {len(source_mes)}')"
   ]
  },
  {
   "cell_type": "markdown",
   "id": "current-taxation",
   "metadata": {},
   "source": [
    "## 1- Profils sols et données forages.xls\n",
    "* **Sheet : 'Données de forage'**"
   ]
  },
  {
   "cell_type": "code",
   "execution_count": null,
   "id": "emerging-dylan",
   "metadata": {},
   "outputs": [],
   "source": [
    "tmp_dir=ROOT_DIR + '/CF_data/Result_traitem/profils_sols_donnees_forages/'\n",
    "sheet='donnees_forage'"
   ]
  },
  {
   "cell_type": "code",
   "execution_count": null,
   "id": "referenced-violin",
   "metadata": {
    "scrolled": false
   },
   "outputs": [],
   "source": [
    "df = pd.read_excel(ROOT_DIR + '/CF_data/Data_UMONS/ouvrages/Profils sols et données forages.xls', \n",
    "                   sheet_name='Données de forage')#, skiprows=2)\n",
    "df.replace(r'<|>','', inplace=True, regex=True)\n",
    "df.replace(r'-$',np.nan, inplace=True, regex=True)\n",
    "\n",
    "dataframe_viewer(df, rows=5)"
   ]
  },
  {
   "cell_type": "code",
   "execution_count": null,
   "id": "b5ecdf20",
   "metadata": {},
   "outputs": [],
   "source": [
    "df.rename(columns={'Date':'Date_for','Profondeur':'Long_for', 'Méthode':'Method', \n",
    "                        'Diamètre forage':'Diam_for','Niv. Eau p/r sol':'Niv_eau_sol',\n",
    "                        'PZ Prof.':'Long_pz', 'PZ Diamètre':'Diam_pz','PZ L.crépinée':'Long_crep', \n",
    "                        'Société forage':'Societe'}, inplace=True)"
   ]
  },
  {
   "cell_type": "code",
   "execution_count": null,
   "id": "furnished-rally",
   "metadata": {},
   "outputs": [],
   "source": [
    "df['Type'] = df['Long_pz'].apply(lambda x: 'Forage' if pd.isnull(x) else 'Piezo')\n",
    "df['Refus'] = ''\n",
    "\n",
    "for i in range(len(df['Remarque'])):\n",
    "    val = str(df.loc[i,'Remarque'])\n",
    "    if re.search('[Bb]loqué', val) :        \n",
    "        if re.search('[lL]aitier', val):\n",
    "            df.loc[i,'Refus'] = 'Laitier'\n",
    "        elif re.search('[Bb]éton', val):\n",
    "            df.loc[i,'Refus'] = 'Béton'\n",
    "        elif re.search('[Mm]atériaux', val):\n",
    "            df.loc[i,'Refus'] = 'Matériaux indurés' \n",
    "    else: \n",
    "        df.loc[i,'Refus'] = np.nan\n",
    "\n",
    "# convert diameter values unit from mm to m\n",
    "df['Diam_int_pz'] = df['Diam_pz'].apply(lambda x: pd.to_numeric(x.replace(' mm','').split('x')[1].strip(' m'))/1000 \n",
    "                                        if not pd.isnull(x) else x)\n",
    "df['Diam_ext_pz'] = df['Diam_pz'].apply(lambda x: pd.to_numeric(x.replace(' mm','').split('x')[0].strip(' m'))/1000 \n",
    "                                        if not pd.isnull(x) else x)\n",
    "df['Diam_for'] = df['Diam_for'].apply(lambda x: pd.to_numeric(x)/1000 if not pd.isnull(x) else x)\n",
    "\n",
    "df.insert(7, 'Diam_ext_pz', df.pop('Diam_ext_pz')) # move to a specified position\n",
    "df.insert(8, 'Diam_int_pz', df.pop('Diam_int_pz'))\n",
    "df.drop(columns=['Remarque', 'Diam_pz'], axis=1, inplace=True)\n",
    "df.drop(df.query(\"ID!=ID\").index, inplace=True) # delete all ID='NaN' lines\n",
    "\n",
    "gen_id_dated(df,'ID','Date_for')  "
   ]
  },
  {
   "cell_type": "code",
   "execution_count": null,
   "id": "3fc8059f",
   "metadata": {},
   "outputs": [],
   "source": [
    "df['Date_for'] = df['Date_for'].astype('datetime64')"
   ]
  },
  {
   "cell_type": "code",
   "execution_count": null,
   "id": "998e385c",
   "metadata": {},
   "outputs": [],
   "source": [
    "bh = df[['ID_date','ID','X','Y','Z','Date_for','Type','Long_for','Diam_for','Long_pz','Long_crep',\n",
    "         'Diam_ext_pz','Diam_int_pz','Refus','Method','Societe']]\n",
    "\n",
    "mes = df[['ID','X','Y','Z','Date_for','Niv_eau_sol']]\n",
    "mes.rename(columns={'Date_for':'Date_mes'}, inplace=True)"
   ]
  },
  {
   "cell_type": "code",
   "execution_count": null,
   "id": "55b3baef",
   "metadata": {
    "scrolled": true
   },
   "outputs": [],
   "source": [
    "mes = collect_measure(mes, params_kw)"
   ]
  },
  {
   "cell_type": "code",
   "execution_count": null,
   "id": "chief-recovery",
   "metadata": {},
   "outputs": [],
   "source": [
    "source_mes = mes\n",
    "source_bh = bh"
   ]
  },
  {
   "cell_type": "code",
   "execution_count": null,
   "id": "becoming-bouquet",
   "metadata": {},
   "outputs": [],
   "source": [
    "if not os.path.exists(tmp_dir):\n",
    "    os.makedirs(tmp_dir), os.makedirs(tmp_dir+'source_merge/') \n",
    "    \n",
    "mes.to_csv(tmp_dir+sheet+'_Measures.csv', index=False)\n",
    "bh.to_csv(tmp_dir+sheet+'_Boreholes.csv', index=False)\n",
    "\n",
    "source_bh.to_csv(tmp_dir+'source_merge/source_Boreholes.csv', index=False) #all Boreholes data in the source\n",
    "source_mes.to_csv(tmp_dir+'source_merge/source_Measures.csv', index=False) #all Measures data in the source\n",
    "\n",
    "print(f'source_bh: {len(source_bh)} ; source_eqp: {len(source_eqp)} ; source_uknw: {len(source_ukw)} ; '\n",
    "      f'source_litho: {len(source_litho)} ; source_an: {len(source_an)} ; source_mes: {len(source_mes)}')"
   ]
  },
  {
   "cell_type": "markdown",
   "id": "negative-crack",
   "metadata": {},
   "source": [
    "* **Sheet : 'Piézométrie'**"
   ]
  },
  {
   "cell_type": "code",
   "execution_count": null,
   "id": "pregnant-creativity",
   "metadata": {},
   "outputs": [],
   "source": [
    "tmp_dir=ROOT_DIR + '/CF_data/Result_traitem/profils_sols_donnees_forages/'\n",
    "sheet='piezometrie'"
   ]
  },
  {
   "cell_type": "code",
   "execution_count": null,
   "id": "future-israeli",
   "metadata": {
    "scrolled": false
   },
   "outputs": [],
   "source": [
    "df = pd.read_excel(ROOT_DIR + '/CF_data/Data_UMONS/ouvrages/Profils sols et données forages.xls', sheet_name='Piézométrie', skiprows=1)\n",
    "df.replace(r'<|>','', inplace=True, regex=True)\n",
    "df.replace(r'-$',np.nan, inplace=True, regex=True)\n",
    "\n",
    "dataframe_viewer(df, rows=5)"
   ]
  },
  {
   "cell_type": "code",
   "execution_count": null,
   "id": "123702f2",
   "metadata": {},
   "outputs": [],
   "source": [
    "sdf = na_col_drop(df[:12], 3)\n",
    "sdf.rename(columns={'z':'Z'}, inplace=True)"
   ]
  },
  {
   "cell_type": "code",
   "execution_count": null,
   "id": "recognized-charles",
   "metadata": {},
   "outputs": [],
   "source": [
    "a=0\n",
    "for x in df.columns:\n",
    "    if pd.isnull(df.loc[16,x]):\n",
    "        df.loc[16,x]='col'+str(a)\n",
    "    a+=1"
   ]
  },
  {
   "cell_type": "code",
   "execution_count": null,
   "id": "a9bffc24",
   "metadata": {},
   "outputs": [],
   "source": [
    "if not 'tmp_df' in vars().keys():\n",
    "    tmp_df = df.copy()\n",
    "    \n",
    "df = tmp_df.copy()\n",
    "df.loc[16]=df.loc[16].apply(lambda x : x if not pd.isnull(x) else '')\n",
    "df.columns = df.loc[16]"
   ]
  },
  {
   "cell_type": "code",
   "execution_count": null,
   "id": "heavy-market",
   "metadata": {},
   "outputs": [],
   "source": [
    "df=df[17:]\n",
    "df.reset_index(inplace=True, drop=True)\n",
    "\n",
    "#df.drop(columns=[df.columns.to_list()[x] for x in range(0,8)\n",
    "#                      if re.compile(r\"col|unnamed\").match(df.columns.to_list()[x])], axis=1, inplace=True) "
   ]
  },
  {
   "cell_type": "code",
   "execution_count": null,
   "id": "english-television",
   "metadata": {},
   "outputs": [],
   "source": [
    "df.rename(columns={'col8':'Date_mes', 'col9':'Nappe', 'col10':'ID', 'NP/piézo [m]':'Niv_eau_pz', \n",
    "                        'dim. piezo hors sol [m]':'haut_pz-sol', 'NP/sol [m]':'Niv_eau_sol', \n",
    "                        'Prof. piézo/piézo [m]':'Long_pz', 'Prof. piézo/sol [m]':'Long_pz-sol', \n",
    "                        't° [°C]':'Temp', 'Observations':'Rmq'}, inplace=True)"
   ]
  },
  {
   "cell_type": "code",
   "execution_count": null,
   "id": "e839d943",
   "metadata": {},
   "outputs": [],
   "source": [
    "df = na_col_drop(df, 3)\n",
    "df.reset_index(drop=True, inplace=True)"
   ]
  },
  {
   "cell_type": "code",
   "execution_count": null,
   "id": "115ac3aa",
   "metadata": {},
   "outputs": [],
   "source": [
    "df['CE'] = df[['CE [µS/cm]', 'CE [mS/cm]']].apply(lambda x: x[0]/1000 if pd.isnull(x[1]) else x[1], axis=1) # mS/cm\n",
    "df.drop(columns=['CE [µS/cm]', 'CE [mS/cm]'], inplace=True)\n",
    "df['ID'] = df['ID'].apply(lambda x: re.sub('P','F',x) if not pd.isnull(x) else x)\n",
    "df.insert(0, 'ID', df.pop('ID')) # move to first column\n",
    "df['Type'] = 'Piezo'"
   ]
  },
  {
   "cell_type": "code",
   "execution_count": null,
   "id": "da944937",
   "metadata": {},
   "outputs": [],
   "source": [
    "df.rename_axis(None, inplace=True, axis=1)\n",
    "df.drop(df.query(\"ID!=ID\").index, inplace=True) # supprimer les lignes avec ID='NaN'\n",
    "df.reset_index(inplace=True, drop=True)"
   ]
  },
  {
   "cell_type": "code",
   "execution_count": null,
   "id": "23369663",
   "metadata": {
    "scrolled": true
   },
   "outputs": [],
   "source": [
    "df = collect_measure(df, params_kw)"
   ]
  },
  {
   "cell_type": "code",
   "execution_count": null,
   "id": "fba91933",
   "metadata": {},
   "outputs": [],
   "source": [
    "bh = df[['ID', 'Type','Long_pz', 'haut_pz-sol', 'Long_pz-sol']]\n",
    "mes = df[['ID', 'Date_mes', 'Params', 'Nappe', 'Rmq']]"
   ]
  },
  {
   "cell_type": "code",
   "execution_count": null,
   "id": "45d6af70",
   "metadata": {},
   "outputs": [],
   "source": [
    "mes['Date_mes'] = mes['Date_mes'].astype('datetime64')"
   ]
  },
  {
   "cell_type": "markdown",
   "id": "796be255",
   "metadata": {},
   "source": [
    "##### Data merging"
   ]
  },
  {
   "cell_type": "code",
   "execution_count": null,
   "id": "2ddf8c6b",
   "metadata": {},
   "outputs": [],
   "source": [
    "bh, conflict_df = data_merger(bh, sdf[['ID', 'Z']], how='outer', on='ID', dist_max=1., drop_skip_col=['index'])"
   ]
  },
  {
   "cell_type": "code",
   "execution_count": null,
   "id": "bba393a6",
   "metadata": {},
   "outputs": [],
   "source": [
    "mdf, conflict_df = data_merger(source_bh, bh, how='outer', on='ID', dist_max=1., drop_skip_col=['index'])"
   ]
  },
  {
   "cell_type": "code",
   "execution_count": null,
   "id": "1031f1e8",
   "metadata": {},
   "outputs": [],
   "source": [
    "data_validation(overall_data=mdf, conflict_data=conflict_df, index_col='index', \n",
    "                valid_dict={'Long_pz_y':list(conflict_df.index)})"
   ]
  },
  {
   "cell_type": "code",
   "execution_count": null,
   "id": "6d5c1664",
   "metadata": {},
   "outputs": [],
   "source": [
    "dataset = mdf\n",
    "if 'level_0' in dataset.columns:\n",
    "    if 'index' in dataset.columns:\n",
    "        dataset.drop(columns='index', inplace=True)\n",
    "    dataset.rename(columns={'level_0':'index'}, inplace=True)"
   ]
  },
  {
   "cell_type": "code",
   "execution_count": null,
   "id": "ac7cec3b",
   "metadata": {},
   "outputs": [],
   "source": [
    "source_bh = mdf.copy()"
   ]
  },
  {
   "cell_type": "code",
   "execution_count": null,
   "id": "a86e331e",
   "metadata": {},
   "outputs": [],
   "source": [
    "source_mes, conflict_df = data_merger(source_mes, mes, how='outer', on=['ID', 'Date_mes'], dist_max=1., drop_skip_col=['index'])"
   ]
  },
  {
   "cell_type": "code",
   "execution_count": null,
   "id": "1a1d7843",
   "metadata": {},
   "outputs": [],
   "source": [
    "cols_rep = ['X', 'Y', 'Z']\n",
    "source_bh = replicate_values(source_bh, id_col='ID', cols_to_replicate=cols_rep, suffix=['sup', 'inf'], replace_id=True)\n",
    "source_mes = replicate_values(source_mes, id_col='ID', cols_to_replicate=cols_rep, suffix=['sup', 'inf'], replace_id=False)"
   ]
  },
  {
   "cell_type": "code",
   "execution_count": null,
   "id": "d7fe5bc1",
   "metadata": {},
   "outputs": [],
   "source": [
    "if not os.path.exists(tmp_dir):\n",
    "    os.makedirs(tmp_dir), os.makedirs(tmp_dir+'source_merge/') \n",
    "    \n",
    "mes.to_csv(tmp_dir+sheet+'_Measures.csv', index=False)\n",
    "bh.to_csv(tmp_dir+sheet+'_Boreholes.csv', index=False)\n",
    "\n",
    "source_bh.to_csv(tmp_dir+'source_merge/source_Boreholes.csv', index=False) #all Boreholes data in the source\n",
    "source_mes.to_csv(tmp_dir+'source_merge/source_Measures.csv', index=False) #all Measures data in the source\n",
    "\n",
    "print(f'source_bh: {len(source_bh)} ; source_eqp: {len(source_eqp)} ; source_uknw: {len(source_ukw)} ; '\n",
    "      f'source_litho: {len(source_litho)} ; source_an: {len(source_an)} ; source_mes: {len(source_mes)}')"
   ]
  },
  {
   "cell_type": "markdown",
   "id": "exact-shanghai",
   "metadata": {},
   "source": [
    "* **Sheet : 'Equipement'**"
   ]
  },
  {
   "cell_type": "code",
   "execution_count": null,
   "id": "aquatic-distance",
   "metadata": {},
   "outputs": [],
   "source": [
    "tmp_dir=ROOT_DIR + '/CF_data/Result_traitem/profils_sols_donnees_forages/'\n",
    "sheet='Equipement'"
   ]
  },
  {
   "cell_type": "code",
   "execution_count": null,
   "id": "dying-gentleman",
   "metadata": {
    "scrolled": false
   },
   "outputs": [],
   "source": [
    "df = pd.read_excel(ROOT_DIR + '/CF_data/Data_UMONS/ouvrages/Profils sols et données forages.xls', \n",
    "                   sheet_name='Equipement')#, skiprows=1)\n",
    "df=na_line_drop(df,0)\n",
    "df=na_col_drop(df,1)\n",
    "df.replace(r'<|>','', inplace=True, regex=True)\n",
    "df.replace(r'-$',np.nan, inplace=True, regex=True)\n",
    "\n",
    "dataframe_viewer(df, rows=5)"
   ]
  },
  {
   "cell_type": "code",
   "execution_count": null,
   "id": "speaking-mandate",
   "metadata": {},
   "outputs": [],
   "source": [
    "df.drop(columns=['Déplacement'], inplace=True)\n",
    "name=['ID', 'Equip_top', 'Equip_base', 'Diam_for','Diam_int_pz', 'Type_equip']\n",
    "df=col_ren(df, mode=1, name=name)"
   ]
  },
  {
   "cell_type": "code",
   "execution_count": null,
   "id": "thermal-insert",
   "metadata": {},
   "outputs": [],
   "source": [
    "compute_BH_length(df, id_col='ID', length_col_name='Long_pz', top_col='Equip_top', base_col='Equip_base')"
   ]
  },
  {
   "cell_type": "code",
   "execution_count": null,
   "id": "d0ebc436",
   "metadata": {},
   "outputs": [],
   "source": [
    "df['Diam_for'] = df['Diam_for'].apply(lambda x: pd.to_numeric(x)/1000 if not pd.isnull(x) else x)\n",
    "df['Diam_int_pz'] = df['Diam_int_pz'].apply(lambda x: pd.to_numeric(x)/1000 if not pd.isnull(x) else x)"
   ]
  },
  {
   "cell_type": "code",
   "execution_count": null,
   "id": "2b24521e",
   "metadata": {},
   "outputs": [],
   "source": [
    "bh_ = source_bh[['ID', 'X', 'Y', 'Z']]\n",
    "df, conflict_df = data_merger(bh_, df, how='outer', on=['ID'], dist_max=1., drop_skip_col=['index'])"
   ]
  },
  {
   "cell_type": "code",
   "execution_count": null,
   "id": "37745b8d",
   "metadata": {
    "scrolled": true
   },
   "outputs": [],
   "source": [
    "df = na_line_drop(df, 3, 2)"
   ]
  },
  {
   "cell_type": "code",
   "execution_count": null,
   "id": "ce970717",
   "metadata": {},
   "outputs": [],
   "source": [
    "bh = df[['ID', 'Long_pz','Diam_for', 'Diam_int_pz']]\n",
    "bh.drop_duplicates(['ID'], inplace=True)\n",
    "eqp = df[['ID', 'Equip_top', 'Equip_base', 'Type_equip']]"
   ]
  },
  {
   "cell_type": "markdown",
   "id": "5be0abb8",
   "metadata": {},
   "source": [
    "##### Data merging"
   ]
  },
  {
   "cell_type": "code",
   "execution_count": null,
   "id": "af86bae9",
   "metadata": {},
   "outputs": [],
   "source": [
    "mdf, conflict_df = data_merger(source_bh, bh, how='outer', on=['ID'], dist_max=1., drop_skip_col=['index'])"
   ]
  },
  {
   "cell_type": "code",
   "execution_count": null,
   "id": "ea80f316",
   "metadata": {},
   "outputs": [],
   "source": [
    "data_validation(overall_data=mdf, conflict_data=conflict_df, index_col='index', \n",
    "                valid_dict={'Long_pz_x':list(conflict_df.index), 'Diam_for_y':list(conflict_df.index), \n",
    "                           'Diam_int_pz_y':list(conflict_df.index)})"
   ]
  },
  {
   "cell_type": "code",
   "execution_count": null,
   "id": "edbdeeb1",
   "metadata": {},
   "outputs": [],
   "source": [
    "dataset = mdf\n",
    "if 'level_0' in dataset.columns:\n",
    "    if 'index' in dataset.columns:\n",
    "        dataset.drop(columns='index', inplace=True)\n",
    "    dataset.rename(columns={'level_0':'index'}, inplace=True)"
   ]
  },
  {
   "cell_type": "code",
   "execution_count": null,
   "id": "9395f309",
   "metadata": {},
   "outputs": [],
   "source": [
    "source_bh = mdf.copy()"
   ]
  },
  {
   "cell_type": "code",
   "execution_count": null,
   "id": "d95b0615",
   "metadata": {},
   "outputs": [],
   "source": [
    "data = source_bh\n",
    "source_bh = replicate_values(data, 'ID', list(data.columns)).drop_duplicates(list(data.columns))"
   ]
  },
  {
   "cell_type": "code",
   "execution_count": null,
   "id": "arbitrary-irrigation",
   "metadata": {},
   "outputs": [],
   "source": [
    "source_eqp = eqp"
   ]
  },
  {
   "cell_type": "code",
   "execution_count": null,
   "id": "sixth-character",
   "metadata": {},
   "outputs": [],
   "source": [
    "if not os.path.exists(tmp_dir):\n",
    "    os.makedirs(tmp_dir), os.makedirs(tmp_dir+'source_merge/') \n",
    "    \n",
    "eqp.to_csv(tmp_dir+sheet+'_Equipments.csv', index=False)\n",
    "#mes.to_csv(tmp_dir+sheet+'_Measures.csv', index=False)\n",
    "bh.to_csv(tmp_dir+sheet+'_Boreholes.csv', index=False)\n",
    "\n",
    "source_bh.to_csv(tmp_dir+'source_merge/source_Boreholes.csv', index=False) #all Boreholes data in the source\n",
    "#source_mes.to_csv(tmp_dir+'source_merge/source_Measures.csv', index=False) #all Measures data in the source\n",
    "source_eqp.to_csv(tmp_dir+'source_merge/source_Equipments.csv', index=False)\n",
    "\n",
    "print(f'source_bh: {len(source_bh)} ; source_eqp: {len(source_eqp)} ; source_uknw: {len(source_ukw)} ; '\n",
    "      f'source_litho: {len(source_litho)} ; source_an: {len(source_an)} ; source_mes: {len(source_mes)}')"
   ]
  },
  {
   "cell_type": "markdown",
   "id": "expensive-darwin",
   "metadata": {},
   "source": [
    "* **Sheets: 'Echantillon' + 'Organoleptique'**"
   ]
  },
  {
   "cell_type": "code",
   "execution_count": null,
   "id": "altered-watershed",
   "metadata": {},
   "outputs": [],
   "source": [
    "tmp_dir=ROOT_DIR + '/CF_data/Result_traitem/profils_sols_donnees_forages/'\n",
    "sheet='Echant-organo'"
   ]
  },
  {
   "cell_type": "code",
   "execution_count": null,
   "id": "electoral-groove",
   "metadata": {
    "scrolled": false
   },
   "outputs": [],
   "source": [
    "df = pd.read_excel(ROOT_DIR + '/CF_data/Data_UMONS/ouvrages/Profils sols et données forages.xls', sheet_name='Echantillon')#, skiprows=1)\n",
    "df.replace(r'<|>','', inplace=True, regex=True)\n",
    "df.replace(r'-$',np.nan, inplace=True, regex=True)\n",
    "\n",
    "dataframe_viewer(df, rows=5)"
   ]
  },
  {
   "cell_type": "code",
   "execution_count": null,
   "id": "assured-melbourne",
   "metadata": {},
   "outputs": [],
   "source": [
    "df.rename(columns={'De':'Ech_top', 'A':'Ech_base', 'Numéro':'ID_ech'}, inplace=True)"
   ]
  },
  {
   "cell_type": "code",
   "execution_count": null,
   "id": "35d80780",
   "metadata": {},
   "outputs": [],
   "source": [
    "sdf = pd.read_excel(ROOT_DIR + '/CF_data/Data_UMONS/ouvrages/Profils sols et données forages.xls', sheet_name='Organoleptique')#, skiprows=1)\n",
    "sdf.replace(r'<|>','', inplace=True, regex=True)\n",
    "sdf.replace(r'-$',np.nan, inplace=True, regex=True)\n",
    "dataframe_viewer(sdf, rows=5)"
   ]
  },
  {
   "cell_type": "code",
   "execution_count": null,
   "id": "137d08da",
   "metadata": {},
   "outputs": [],
   "source": [
    "name=['ID', 'Ech_top', 'Ech_base', 'Polluant','Intensite']\n",
    "sdf=col_ren(sdf, mode=1, name=name)"
   ]
  },
  {
   "cell_type": "code",
   "execution_count": null,
   "id": "d065c226",
   "metadata": {},
   "outputs": [],
   "source": [
    "sdf = collect_measure(sdf, params_kw=['pol', 'inten'], params_col='Organo')"
   ]
  },
  {
   "cell_type": "markdown",
   "id": "1d4dff74",
   "metadata": {},
   "source": [
    "##### Data merging"
   ]
  },
  {
   "cell_type": "code",
   "execution_count": null,
   "id": "5b12fc11",
   "metadata": {},
   "outputs": [],
   "source": [
    "mdf, conflict_df = data_merger(df, sdf, 'outer', ['ID', 'Ech_top', 'Ech_base'])\n",
    "mdf['Type_ech']='Sol'\n",
    "mdf.insert(4, 'Type_ech', mdf.pop('Type_ech'))"
   ]
  },
  {
   "cell_type": "code",
   "execution_count": null,
   "id": "bc866ba7",
   "metadata": {},
   "outputs": [],
   "source": [
    "cnt = 0\n",
    "for i in mdf.index:\n",
    "    if pd.isnull(mdf.loc[i, 'ID_ech']):\n",
    "        cnt +=1\n",
    "        mdf.loc[i, 'ID_ech'] = mdf.loc[i, 'ID'] + '_org_' + str(cnt)"
   ]
  },
  {
   "cell_type": "code",
   "execution_count": null,
   "id": "9bf95c6e",
   "metadata": {},
   "outputs": [],
   "source": [
    "an = mdf.copy()\n",
    "source_an = an"
   ]
  },
  {
   "cell_type": "code",
   "execution_count": null,
   "id": "d27fb423",
   "metadata": {},
   "outputs": [],
   "source": [
    "if not os.path.exists(tmp_dir):\n",
    "    os.makedirs(tmp_dir), os.makedirs(tmp_dir+'source_merge/') \n",
    "    \n",
    "#eqp.to_csv(tmp_dir+sheet+'_Equipments.csv', index=False)\n",
    "#mes.to_csv(tmp_dir+sheet+'_Measures.csv', index=False)\n",
    "#bh.to_csv(tmp_dir+sheet+'_Boreholes.csv', index=False)\n",
    "an.to_csv(tmp_dir+sheet+'_Samples.csv', index=False)\n",
    "\n",
    "#source_bh.to_csv(tmp_dir+'source_merge/source_Boreholes.csv', index=False) #all Boreholes data in the source\n",
    "#source_mes.to_csv(tmp_dir+'source_merge/source_Measures.csv', index=False) #all Measures data in the source\n",
    "#source_eqp.to_csv(tmp_dir+'source_merge/source_Equipments.csv', index=False)\n",
    "source_an.to_csv(tmp_dir+'source_merge/source_Samples.csv', index=False)\n",
    "\n",
    "print(f'source_bh: {len(source_bh)} ; source_eqp: {len(source_eqp)} ; source_uknw: {len(source_ukw)} ; '\n",
    "      f'source_litho: {len(source_litho)} ; source_an: {len(source_an)} ; source_mes: {len(source_mes)}')"
   ]
  },
  {
   "cell_type": "markdown",
   "id": "objective-california",
   "metadata": {},
   "source": [
    "* **Sheet : 'Log'**"
   ]
  },
  {
   "cell_type": "code",
   "execution_count": null,
   "id": "loaded-house",
   "metadata": {},
   "outputs": [],
   "source": [
    "tmp_dir=ROOT_DIR + '/CF_data/Result_traitem/profils_sols_donnees_forages/'\n",
    "sheet='Log'"
   ]
  },
  {
   "cell_type": "code",
   "execution_count": null,
   "id": "stupid-theater",
   "metadata": {
    "scrolled": false
   },
   "outputs": [],
   "source": [
    "df = pd.read_excel(ROOT_DIR + '/CF_data/Data_UMONS/ouvrages/Profils sols et données forages.xls', sheet_name='Log')#, skiprows=1)\n",
    "dataframe_viewer(df, rows=5)"
   ]
  },
  {
   "cell_type": "code",
   "execution_count": null,
   "id": "aerial-atlanta",
   "metadata": {},
   "outputs": [],
   "source": [
    "df.rename(columns={'De':'Litho_top', 'A':'Litho_base'}, inplace=True)"
   ]
  },
  {
   "cell_type": "code",
   "execution_count": null,
   "id": "actual-pickup",
   "metadata": {
    "scrolled": true
   },
   "outputs": [],
   "source": [
    "q=df.query('Keyword.str.contains(\".ointe\", regex=True)', engine='python').index\n",
    "df.drop(q, inplace=True)\n",
    "df.reset_index(drop=True, inplace=True)"
   ]
  },
  {
   "cell_type": "code",
   "execution_count": null,
   "id": "burning-huntington",
   "metadata": {},
   "outputs": [],
   "source": [
    "compute_BH_length(df, id_col='ID', length_col_name='Long_for', top_col='Litho_top', base_col='Litho_base')"
   ]
  },
  {
   "cell_type": "code",
   "execution_count": null,
   "id": "cheap-shepherd",
   "metadata": {},
   "outputs": [],
   "source": [
    "litho=df\n",
    "source_litho=litho"
   ]
  },
  {
   "cell_type": "code",
   "execution_count": null,
   "id": "1fc0bc92",
   "metadata": {},
   "outputs": [],
   "source": [
    "if not os.path.exists(tmp_dir):\n",
    "    os.makedirs(tmp_dir), os.makedirs(tmp_dir+'source_merge/')\n",
    "    \n",
    "#eqp.to_csv(tmp_dir+sheet+'_Equipments.csv', index=False)\n",
    "#mes.to_csv(tmp_dir+sheet+'_Measures.csv', index=False)\n",
    "#bh.to_csv(tmp_dir+sheet+'_Boreholes.csv', index=False)\n",
    "#an.to_csv(tmp_dir+sheet+'_Samples.csv', index=False)\n",
    "litho.to_csv(tmp_dir+sheet+'_Lithologies.csv', index=False)\n",
    "\n",
    "#source_bh.to_csv(tmp_dir+'source_merge/source_Boreholes.csv', index=False) #all Boreholes data in the source\n",
    "#source_mes.to_csv(tmp_dir+'source_merge/source_Measures.csv', index=False) #all Measures data in the source\n",
    "#source_eqp.to_csv(tmp_dir+'source_merge/source_Equipments.csv', index=False)\n",
    "#source_an.to_csv(tmp_dir+'source_merge/source_Samples.csv', index=False)\n",
    "source_litho.to_csv(tmp_dir+'source_merge/source_Lithologies.csv', index=False)\n",
    "\n",
    "print(f'source_bh: {len(source_bh)} ; source_eqp: {len(source_eqp)} ; source_uknw: {len(source_ukw)} ; '\n",
    "      f'source_litho: {len(source_litho)} ; source_an: {len(source_an)} ; source_mes: {len(source_mes)}')"
   ]
  },
  {
   "cell_type": "markdown",
   "id": "35de59de",
   "metadata": {},
   "source": [
    "### $\\color{red}{\\textbf{Excel data final merge}}$"
   ]
  },
  {
   "cell_type": "raw",
   "id": "0c5ee9cc",
   "metadata": {},
   "source": [
    "# Not really needed here because all source data have XYZ coordinates"
   ]
  },
  {
   "cell_type": "code",
   "execution_count": null,
   "id": "a4879afb",
   "metadata": {},
   "outputs": [],
   "source": [
    "bh_coords = source_bh[['ID', 'X', 'Y', 'Z','Date_for']]"
   ]
  },
  {
   "cell_type": "code",
   "execution_count": null,
   "id": "bf14e065",
   "metadata": {},
   "outputs": [],
   "source": [
    "source_eqp, conflict_df = data_merger(bh_coords, source_eqp, how='outer', on='ID', dist_max=1., drop_skip_col=['index'])"
   ]
  },
  {
   "cell_type": "code",
   "execution_count": null,
   "id": "90b6d028",
   "metadata": {},
   "outputs": [],
   "source": [
    "source_an, conflict_df = data_merger(bh_coords, source_an, how='outer', on='ID', dist_max=1., drop_skip_col=['index'])"
   ]
  },
  {
   "cell_type": "code",
   "execution_count": null,
   "id": "90fa60e6",
   "metadata": {},
   "outputs": [],
   "source": [
    "source_litho, conflict_df = data_merger(bh_coords, source_litho, how='outer', on='ID', dist_max=1., drop_skip_col=['index'])"
   ]
  },
  {
   "cell_type": "code",
   "execution_count": null,
   "id": "f88c9e54",
   "metadata": {
    "scrolled": true
   },
   "outputs": [],
   "source": [
    "if not os.path.exists(tmp_dir):\n",
    "    os.makedirs(tmp_dir), os.makedirs(tmp_dir+'source_merge/')\n",
    "\n",
    "source_bh.to_csv(tmp_dir+'source_merge/source_Boreholes.csv', index=False)\n",
    "source_mes.to_csv(tmp_dir+'source_merge/source_Measures.csv', index=False)\n",
    "source_eqp.to_csv(tmp_dir+'source_merge/source_Equipments.csv', index=False)\n",
    "source_an.to_csv(tmp_dir+'source_merge/source_Samples.csv', index=False)\n",
    "source_litho.to_csv(tmp_dir+'source_merge/source_Lithologies.csv', index=False)\n",
    "#source_ukw.to_csv(tmp_dir+'source_merge/source_Unknown.csv', index=False)\n",
    "\n",
    "print(f'source_bh: {len(source_bh)} ; source_eqp: {len(source_eqp)} ; source_uknw: {len(source_ukw)} ; '\n",
    "      f'source_litho: {len(source_litho)} ; source_an: {len(source_an)} ; source_mes: {len(source_mes)}')"
   ]
  },
  {
   "cell_type": "markdown",
   "id": "90e3c0e5",
   "metadata": {},
   "source": [
    "#### ======================================================================================"
   ]
  },
  {
   "cell_type": "code",
   "execution_count": null,
   "id": "e63c096d",
   "metadata": {},
   "outputs": [],
   "source": [
    "# initialisation des variables\n",
    "_df = pd.DataFrame()\n",
    "source_bh, source_eqp, source_ukw = _df, _df, _df\n",
    "source_litho, source_an, source_mes = _df, _df, _df\n",
    "\n",
    "print(f'source_bh: {len(source_bh)} ; source_eqp: {len(source_eqp)} ; source_uknw: {len(source_ukw)} ; '\n",
    "      f'source_litho: {len(source_litho)} ; source_an: {len(source_an)} ; source_mes: {len(source_mes)}')"
   ]
  },
  {
   "cell_type": "markdown",
   "id": "italian-benjamin",
   "metadata": {},
   "source": [
    "## 2-Database MEMORIS3.xlsx\n",
    "* **Sheet : 'PROFILS_SOL'**"
   ]
  },
  {
   "cell_type": "code",
   "execution_count": null,
   "id": "metropolitan-juvenile",
   "metadata": {},
   "outputs": [],
   "source": [
    "tmp_dir=ROOT_DIR + '/CF_data/Result_traitem/database_Memoris3/'\n",
    "sheet='Profils_sol'"
   ]
  },
  {
   "cell_type": "code",
   "execution_count": null,
   "id": "indirect-korean",
   "metadata": {
    "scrolled": false
   },
   "outputs": [],
   "source": [
    "df = pd.read_excel(ROOT_DIR + '/CF_data/Data_UMONS/Contamination/Doc_SITEREM/Rapport de synthèse des études de sol et des eaux souterraines. '+\n",
    "                        'Siterem - 2017/Database MEMORIS3.xlsx', sheet_name='PROFILS_SOL')#, skiprows=2)\n",
    "df.replace(r'<|>','', inplace=True, regex=True)\n",
    "df.replace(r'-$',np.nan, inplace=True, regex=True)\n",
    "\n",
    "dataframe_viewer(df, rows=3)"
   ]
  },
  {
   "cell_type": "code",
   "execution_count": null,
   "id": "0c808e12",
   "metadata": {},
   "outputs": [],
   "source": [
    "df = na_col_drop(df, 3)"
   ]
  },
  {
   "cell_type": "code",
   "execution_count": null,
   "id": "typical-century",
   "metadata": {
    "scrolled": false
   },
   "outputs": [],
   "source": [
    "df.rename({'Date':'Date_for', 'N°':'Ref', 'Id':'idx', 'Piézo':'Type', 'Unnamed: 6':'Societe',\n",
    "                'MFT Ø145':'MFT_145', 'Gouge Ø75':'Gouge_75', 'Liner Ø60': 'Liner_60'}, axis=1, inplace=True)"
   ]
  },
  {
   "cell_type": "code",
   "execution_count": null,
   "id": "durable-infection",
   "metadata": {
    "scrolled": true
   },
   "outputs": [],
   "source": [
    "print(list(set(df['Date_for'].apply(lambda x: x.year if not pd.isnull(x) else x))))"
   ]
  },
  {
   "cell_type": "code",
   "execution_count": null,
   "id": "supreme-ceiling",
   "metadata": {},
   "outputs": [],
   "source": [
    "df.loc[df.fillna('').query(\"Societe.str.contains('x|X')\").index, 'Type']='X'"
   ]
  },
  {
   "cell_type": "code",
   "execution_count": null,
   "id": "legislative-gibraltar",
   "metadata": {},
   "outputs": [],
   "source": [
    "df.loc[df.fillna('').query(\"Gouge_75.str.contains('SBS|SITER')\").index, 'Societe']='SBS Environnement'\n",
    "df.loc[df.fillna('').query(\"Gouge_75.str.contains('SBS|SITER')\").index, 'Gouge_75']=''"
   ]
  },
  {
   "cell_type": "code",
   "execution_count": null,
   "id": "creative-virginia",
   "metadata": {},
   "outputs": [],
   "source": [
    "for i in range(len(df['Date_for'])-1):\n",
    "    if not pd.isnull(df.loc[i, 'Date_for']) and pd.isnull(df.loc[i+1, 'Date_for']):\n",
    "        df.loc[i+1, 'Date_for']=df.loc[i, 'Date_for']\n",
    "        \n",
    "    if not pd.isnull(df.loc[i, 'Societe']) and pd.isnull(df.loc[i+1, 'Societe']):\n",
    "        df.loc[i+1, 'Societe']=df.loc[i, 'Societe']\n",
    "        \n",
    "    if not pd.isnull(df.loc[i, 'Type']) and pd.isnull(df.loc[i+1, 'Type']) and \\\n",
    "       df.loc[i, 'Ref']==df.loc[i+1, 'Ref']:\n",
    "        df.loc[i+1, 'Type']=df.loc[i, 'Type']"
   ]
  },
  {
   "cell_type": "code",
   "execution_count": null,
   "id": "upper-candidate",
   "metadata": {},
   "outputs": [],
   "source": [
    "for i in range(len(df['idx'])-1):    \n",
    "    if df.loc[i,'Ref']==df.loc[i+1,'Ref'] and not pd.isnull(df.loc[i, 'Profondeur'])\\\n",
    "    and re.findall('Forage',df.loc[i, 'Profondeur']):\n",
    "        df.loc[i+1,'idx']=df.loc[i, 'Profondeur'][0]+str(df.loc[i, 'Ref'])\n",
    "        w=df.loc[i, 'Profondeur'][0]\n",
    "    elif df.loc[i,'Ref']==df.loc[i+1,'Ref'] and not pd.isnull(df.loc[i, 'Profondeur']):\n",
    "        df.loc[i+1,'idx']=w+str(df.loc[i, 'Ref'])\n",
    "    \n",
    "    if df.loc[i,'Ref']==df.loc[i+1,'Ref'] and not pd.isnull(df.loc[i, 'Profondeur'])\\\n",
    "    and re.findall('Tranch',df.loc[i, 'Profondeur']):\n",
    "        df.loc[i+1,'idx']=df.loc[i, 'Profondeur'][0]+str(df.loc[i, 'Ref'])\n",
    "        w=df.loc[i, 'Profondeur'][0]\n",
    "    elif df.loc[i,'Ref']==df.loc[i+1,'Ref'] and not pd.isnull(df.loc[i, 'Profondeur']):\n",
    "        df.loc[i+1,'idx']=w+str(df.loc[i, 'Ref'])\n",
    "     \n",
    "   # if df.loc[i,'Ref']==df.loc[i+1,'Ref'] and not pd.isnull(df.loc[i, 'Profondeur'])\\\n",
    "   # and re.findall('Moni',df.loc[i, 'Profondeur']):\n",
    "   #     df.loc[i+1,'idx']=df.loc[i, 'Profondeur'][0]+str(df.loc[i, 'Ref'])\n",
    "   #     w=df.loc[i, 'Profondeur'][0]\n",
    "   # elif df.loc[i,'Ref']==df.loc[i+1,'Ref'] and not pd.isnull(df.loc[i, 'Profondeur']):\n",
    "   #     df.loc[i+1,'idx']=w+str(df.loc[i, 'Ref'])"
   ]
  },
  {
   "cell_type": "code",
   "execution_count": null,
   "id": "noticed-basement",
   "metadata": {},
   "outputs": [],
   "source": [
    "df['Ref']=df['idx'].apply(lambda x : x if re.findall('F|T', str(x)) else '')\n",
    "df['Ref']=df['idx'].apply(lambda x : x.replace('Monito ', 'Mon') if re.findall('Monit', str(x)) else x)"
   ]
  },
  {
   "cell_type": "code",
   "execution_count": null,
   "id": "ignored-community",
   "metadata": {},
   "outputs": [],
   "source": [
    "df['Type']=df['Type'].apply(lambda x: 'Piezo' if not pd.isnull(x) else '')"
   ]
  },
  {
   "cell_type": "code",
   "execution_count": null,
   "id": "thrown-parent",
   "metadata": {},
   "outputs": [],
   "source": [
    "df['Ref']=df['Ref'].apply(lambda x: re.sub(\"\\.1\",\"a\",str(x)) if re.search(r\"\\.1\", str(x)) else x)\n",
    "df['Ref']=df['Ref'].apply(lambda x: re.sub(\"\\.2\",\"b\",str(x)) if re.search(r\"\\.2\", str(x)) else x)\n",
    "df['Ref']=df['Ref'].apply(lambda x: re.sub(\"\\.3\",\"c\",str(x)) if re.search(r\"\\.3\", str(x)) else x)\n",
    "df['Ref']=df['Ref'].apply(lambda x: re.sub(\"\\.4\",\"d\",str(x)) if re.search(r\"\\.4\", str(x)) else x)"
   ]
  },
  {
   "cell_type": "code",
   "execution_count": null,
   "id": "photographic-speaking",
   "metadata": {},
   "outputs": [],
   "source": [
    "gen_id_dated(df, ref_col='Ref', date_col='Date_for')"
   ]
  },
  {
   "cell_type": "code",
   "execution_count": null,
   "id": "utility-state",
   "metadata": {
    "scrolled": true
   },
   "outputs": [],
   "source": [
    "df.loc[df.query('Profondeur!=Profondeur' ).index,'Profondeur']=''"
   ]
  },
  {
   "cell_type": "code",
   "execution_count": null,
   "id": "impaired-viewer",
   "metadata": {},
   "outputs": [],
   "source": [
    "df['Method']=''\n",
    "            \n",
    "for i in range(len(df['Method'])):\n",
    "    if not pd.isnull(df.loc[i, 'Gouge_75']) : df.loc[i, 'Method']='Gouge_75'\n",
    "    if not pd.isnull(df.loc[i, 'MFT_145']) : df.loc[i, 'Method']='MFT_145'\n",
    "    if not pd.isnull(df.loc[i, 'Liner_60']) : df.loc[i, 'Method']='Liner_60'\n",
    "    if not pd.isnull(df.loc[i, 'carottier']) : df.loc[i, 'Method']='carrotier'\n",
    "    if not pd.isnull(df.loc[i, 'tarrière']) : df.loc[i, 'Method']='tarrière'"
   ]
  },
  {
   "cell_type": "code",
   "execution_count": null,
   "id": "relevant-bobby",
   "metadata": {},
   "outputs": [],
   "source": [
    "df.drop(df.query('Profondeur.str.contains(\"Forage\") and Profondeur!=\"Forage bloqué\"', engine='python').index, inplace=True)\n",
    "df.drop(df.query('Profondeur.str.contains(\"Tranc\") and Profondeur!=\"Tranchée bloqué\"', engine='python').index, inplace=True)\n",
    "df.drop(df.query('Profondeur.str.contains(\".orage|..ranch\", regex=True)', engine='python').index, inplace=True)\n",
    "df.drop(df.fillna('').query('Description.str.contains(\"^.orage bloq|^.ranc.* bloq|^.*efus\", regex=True)', engine='python').index, inplace=True)\n",
    "df.drop(df.query('Ref!=Ref').index, inplace=True)\n",
    "df.drop(columns=['MFT_145','Gouge_75','Liner_60', 'carottier', 'tarrière', 'idx'], axis=1, inplace=True)\n",
    "df.reset_index(drop=True, inplace=True)"
   ]
  },
  {
   "cell_type": "code",
   "execution_count": null,
   "id": "satisfied-entry",
   "metadata": {},
   "outputs": [],
   "source": [
    "df['Litho_top'] = df['Profondeur'].apply(lambda x: x.replace(',','.').split('-')[0].strip(' m'))\n",
    "df['Litho_base'] = df['Profondeur'].apply(lambda x: x.replace(',','.').split('-')[-1].strip(' m'))"
   ]
  },
  {
   "cell_type": "code",
   "execution_count": null,
   "id": "human-zimbabwe",
   "metadata": {},
   "outputs": [],
   "source": [
    "df.rename({'Ref':'ID'}, axis=1, inplace=True)\n",
    "if 'Profondeur' in df.columns: df.drop(columns=['Profondeur'], axis=1, inplace=True)"
   ]
  },
  {
   "cell_type": "code",
   "execution_count": null,
   "id": "appreciated-termination",
   "metadata": {},
   "outputs": [],
   "source": [
    "set([x[0] for x in list(set(df.ID)) if isinstance(x,str)])"
   ]
  },
  {
   "cell_type": "code",
   "execution_count": null,
   "id": "minor-billion",
   "metadata": {},
   "outputs": [],
   "source": [
    "df.loc[df.query('ID_date.str.contains(\"T\")', engine='python').index, 'Type'] = 'Tranchee'\n",
    "df.loc[df.query('Type==\"\"', engine='python').index, 'Type'] = 'Forage'"
   ]
  },
  {
   "cell_type": "code",
   "execution_count": null,
   "id": "dimensional-philippines",
   "metadata": {},
   "outputs": [],
   "source": [
    "df.loc[1268, ['ID_date','ID']] = df.loc[1267, ['ID_date','ID']]\n",
    "df.loc[df.query('Description.isnull() or Description.str.len()<1').index, 'Description'] = ''"
   ]
  },
  {
   "cell_type": "code",
   "execution_count": null,
   "id": "planned-going",
   "metadata": {},
   "outputs": [],
   "source": [
    "df.drop(index=df.query('Litho_base.isnull() or Litho_base.str.len()<1 or ' \n",
    "                       'Description.str.contains(\"Bloqu\")').index, inplace=True)\n",
    "df.reset_index(drop=True, inplace=True)"
   ]
  },
  {
   "cell_type": "code",
   "execution_count": null,
   "id": "ongoing-electron",
   "metadata": {},
   "outputs": [],
   "source": [
    "compute_BH_length(df, id_col='ID', length_col_name='Long_for', top_col='Litho_top', base_col='Litho_base')"
   ]
  },
  {
   "cell_type": "code",
   "execution_count": null,
   "id": "e944aa89",
   "metadata": {},
   "outputs": [],
   "source": [
    "df.columns"
   ]
  },
  {
   "cell_type": "code",
   "execution_count": null,
   "id": "852bba1d",
   "metadata": {},
   "outputs": [],
   "source": [
    "litho = df[['Date_for','ID','Long_for','Litho_top','Litho_base','Description']]\n",
    "df = df[['Date_for','ID','Type','Long_for','Societe','Method']]"
   ]
  },
  {
   "cell_type": "code",
   "execution_count": null,
   "id": "equivalent-comment",
   "metadata": {},
   "outputs": [],
   "source": [
    "df.drop_duplicates('ID', inplace=True)\n",
    "ukw = df.loc[df.query('Type==\"Tranchee\"', engine='python').index] # trenches\n",
    "ukw['Type'] = 'inconnu'\n",
    "bh = df.drop(index=ukw.index)"
   ]
  },
  {
   "cell_type": "raw",
   "id": "finite-arbor",
   "metadata": {},
   "source": [
    "print(df.loc[802, ['ID','Description','Method','Litho_top', 'Litho_base']])\n",
    "df.query('Description.isnull() or Description.str.contains(\"Bloqu\")', engine='python')"
   ]
  },
  {
   "cell_type": "code",
   "execution_count": null,
   "id": "pressing-nirvana",
   "metadata": {},
   "outputs": [],
   "source": [
    "source_litho = litho\n",
    "source_bh = bh\n",
    "source_ukw = ukw"
   ]
  },
  {
   "cell_type": "code",
   "execution_count": null,
   "id": "31d71274",
   "metadata": {},
   "outputs": [],
   "source": [
    "if not os.path.exists(tmp_dir):\n",
    "    os.makedirs(tmp_dir), os.makedirs(tmp_dir+'source_merge/') \n",
    "    \n",
    "#eqp.to_csv(tmp_dir+sheet+'_Equipments.csv', index=False)\n",
    "#mes.to_csv(tmp_dir+sheet+'_Measures.csv', index=False)\n",
    "bh.to_csv(tmp_dir+sheet+'_Boreholes.csv', index=False)\n",
    "#an.to_csv(tmp_dir+sheet+'_Samples.csv', index=False)\n",
    "litho.to_csv(tmp_dir+sheet+'_Lithologies.csv', index=False)\n",
    "ukw.to_csv(tmp_dir+sheet+'_Unknown.csv', index=False)\n",
    "\n",
    "source_bh.to_csv(tmp_dir+'source_merge/source_Boreholes.csv', index=False) #all Boreholes data in the source\n",
    "#source_mes.to_csv(tmp_dir+'source_merge/source_merge/source_Measures.csv', index=False) #all Measures data in the source\n",
    "#source_eqp.to_csv(tmp_dir+'source_merge/source_Equipments.csv', index=False)\n",
    "#source_an.to_csv(tmp_dir+'source_merge/source_Samples.csv', index=False)\n",
    "source_litho.to_csv(tmp_dir+'source_merge/source_Lithologies.csv', index=False)\n",
    "source_ukw.to_csv(tmp_dir+'source_merge/source_Unknown.csv', index=False)\n",
    "\n",
    "print(f'source_bh: {len(source_bh)} ; source_eqp: {len(source_eqp)} ; source_uknw: {len(source_ukw)} ; '\n",
    "      f'source_litho: {len(source_litho)} ; source_an: {len(source_an)} ; source_mes: {len(source_mes)}')"
   ]
  },
  {
   "cell_type": "markdown",
   "id": "applied-dress",
   "metadata": {},
   "source": [
    "* **Sheet : 'DONNEES PIEZOS'**"
   ]
  },
  {
   "cell_type": "code",
   "execution_count": null,
   "id": "young-nicholas",
   "metadata": {},
   "outputs": [],
   "source": [
    "tmp_dir=ROOT_DIR + '/CF_data/Result_traitem/database_Memoris3/'\n",
    "sheet='Donnees_piezos'"
   ]
  },
  {
   "cell_type": "code",
   "execution_count": null,
   "id": "comfortable-injection",
   "metadata": {
    "scrolled": false
   },
   "outputs": [],
   "source": [
    "df = pd.read_excel(ROOT_DIR + '/CF_data/Data_UMONS/Contamination/Doc_SITEREM/Rapport de synthèse des études de sol et des eaux souterraines. '+\n",
    "                        'Siterem - 2017/Database MEMORIS3.xlsx', sheet_name='DONNEES PIEZOS', skiprows=2)\n",
    "df.replace(r'<|>','', inplace=True, regex=True)\n",
    "df.replace(r'-$',np.nan, inplace=True, regex=True)\n",
    "\n",
    "dataframe_viewer(df, rows=3)"
   ]
  },
  {
   "cell_type": "code",
   "execution_count": null,
   "id": "eba741e7",
   "metadata": {},
   "outputs": [],
   "source": [
    "names = ['Ref_id','ID','Societe','Zone','Sous-zone','X','Y','Zsol','Z','Nappe','Long_pz','Sect_crep',\n",
    "         'Diam_int_pz','Niv_eau_pz_27/04/2010','Niv_eau_pz_08/09/2010','Niv_eau_sol_27/04/2010',\n",
    "         'Niv_eau_sol_08/09/2010','Surnageant','Sousnageant',\n",
    "         'Caractere','Opacite','Rmq']\n",
    "df = col_ren(df, mode=1, name=names)\n",
    "df = na_col_drop(df, 3)"
   ]
  },
  {
   "cell_type": "code",
   "execution_count": null,
   "id": "catholic-batch",
   "metadata": {},
   "outputs": [],
   "source": [
    "df=df.query(\"ID==ID\")\n",
    "df.replace('-',np.nan, inplace=True)"
   ]
  },
  {
   "cell_type": "code",
   "execution_count": null,
   "id": "dc43f551",
   "metadata": {},
   "outputs": [],
   "source": [
    "df['Sousnageant']=df['Sousnageant'].apply(lambda x: x/100 if not pd.isnull(x) else x) #convert unit in [m]\n",
    "df['Surnageant']=df['Surnageant'].apply(lambda x: x/100 if not pd.isnull(x) else x)\n",
    "df['Type']=df['Sect_crep'].apply(lambda x: 'Piezo' if not pd.isnull(x) else 'inconnu')"
   ]
  },
  {
   "cell_type": "code",
   "execution_count": null,
   "id": "fiscal-triple",
   "metadata": {},
   "outputs": [],
   "source": [
    "df = df[['ID','X','Y','Z','Zsol','Type','Long_pz','Diam_int_pz','Sect_crep','Nappe','Societe','Zone','Sous-zone',\n",
    "         'Niv_eau_pz_27/04/2010','Niv_eau_pz_08/09/2010','Niv_eau_sol_27/04/2010','Niv_eau_sol_08/09/2010',\n",
    "         'Surnageant','Sousnageant','Caractere',\n",
    "      'Opacite','Rmq']]"
   ]
  },
  {
   "cell_type": "code",
   "execution_count": null,
   "id": "434f61e0",
   "metadata": {},
   "outputs": [],
   "source": [
    "df = collect_time_data(df)"
   ]
  },
  {
   "cell_type": "raw",
   "id": "b02f914d",
   "metadata": {},
   "source": [
    "cols = ['X','Y','Z']\n",
    "df = data\n",
    "df = replicate_values(df, 'ID', cols, ['prof', 'sup', 'inf'])"
   ]
  },
  {
   "cell_type": "code",
   "execution_count": null,
   "id": "67a525e3",
   "metadata": {
    "scrolled": true
   },
   "outputs": [],
   "source": [
    "bh = df[['ID','X','Y','Z','Zsol','Type','Long_pz','Diam_int_pz','Sect_crep','Societe',\n",
    "         'Zone','Sous-zone']]\n",
    "bh.drop_duplicates('ID', inplace=True)\n",
    "\n",
    "mes = df[['Date_mes','ID','X','Y','Z','Niv_eau_pz','Niv_eau_sol']]\n",
    "\n",
    "an = df[['Date_mes','ID','X','Y','Z','Nappe','Surnageant','Sousnageant','Caractere','Opacite','Rmq']]\n",
    "an['Type_ech'] = 'Eau'\n",
    "an.drop_duplicates('ID', inplace=True)\n",
    "an.insert(1, 'ID_ech', an.ID)"
   ]
  },
  {
   "cell_type": "code",
   "execution_count": null,
   "id": "8da490fe",
   "metadata": {},
   "outputs": [],
   "source": [
    "mes = collect_measure(mes, ['niv'])"
   ]
  },
  {
   "cell_type": "code",
   "execution_count": null,
   "id": "interstate-upgrade",
   "metadata": {
    "scrolled": true
   },
   "outputs": [],
   "source": [
    "ukw=bh.query(\"Type!='Piezo'\") # unknown facilities' type (it seems they are not boreholes)\n",
    "ukw=ukw[['ID','X','Y','Z','Zsol','Type','Societe']]\n",
    "ukw['Type'] = 'inconnu'"
   ]
  },
  {
   "cell_type": "markdown",
   "id": "f2259dee",
   "metadata": {},
   "source": [
    "##### Data merging"
   ]
  },
  {
   "cell_type": "code",
   "execution_count": null,
   "id": "7757261d",
   "metadata": {},
   "outputs": [],
   "source": [
    "source_an = an"
   ]
  },
  {
   "cell_type": "code",
   "execution_count": null,
   "id": "5a55a4dc",
   "metadata": {},
   "outputs": [],
   "source": [
    "source_mes = mes"
   ]
  },
  {
   "cell_type": "code",
   "execution_count": null,
   "id": "82670bf0",
   "metadata": {},
   "outputs": [],
   "source": [
    "source_bh, conflict_df = data_merger(source_bh, bh, how='outer', on=['ID'], dist_max=1., drop_skip_col=['index'])"
   ]
  },
  {
   "cell_type": "code",
   "execution_count": null,
   "id": "fc628e0e",
   "metadata": {},
   "outputs": [],
   "source": [
    "source_ukw, conflict_df = data_merger(source_ukw, ukw, how='outer', on=['ID'], dist_max=1., drop_skip_col=['index'])"
   ]
  },
  {
   "cell_type": "code",
   "execution_count": null,
   "id": "814a9439",
   "metadata": {},
   "outputs": [],
   "source": [
    "if not os.path.exists(tmp_dir):\n",
    "    os.makedirs(tmp_dir), os.makedirs(tmp_dir+'source_merge/') \n",
    "    \n",
    "#eqp.to_csv(tmp_dir+sheet+'_Equipments.csv', index=False)\n",
    "mes.to_csv(tmp_dir+sheet+'_Measures.csv', index=False)\n",
    "bh.to_csv(tmp_dir+sheet+'_Boreholes.csv', index=False)\n",
    "an.to_csv(tmp_dir+sheet+'_Samples.csv', index=False)\n",
    "#litho.to_csv(tmp_dir+sheet+'_Lithologies.csv', index=False)\n",
    "ukw.to_csv(tmp_dir+sheet+'_Unknown.csv', index=False)\n",
    "\n",
    "source_bh.to_csv(tmp_dir+'source_merge/source_Boreholes.csv', index=False) #all Boreholes data in the source\n",
    "source_mes.to_csv(tmp_dir+'source_merge/source_Measures.csv', index=False) #all Measures data in the source\n",
    "#source_eqp.to_csv(tmp_dir+'source_merge/source_Equipments.csv', index=False)\n",
    "source_an.to_csv(tmp_dir+'source_merge/source_Samples.csv', index=False)\n",
    "#source_litho.to_csv(tmp_dir+'source_merge/source_Lithologies.csv', index=False)\n",
    "source_ukw.to_csv(tmp_dir+'source_merge/source_Unknown.csv', index=False)\n",
    "\n",
    "print(f'source_bh: {len(source_bh)} ; source_eqp: {len(source_eqp)} ; source_uknw: {len(source_ukw)} ; '\n",
    "      f'source_litho: {len(source_litho)} ; source_an: {len(source_an)} ; source_mes: {len(source_mes)}')"
   ]
  },
  {
   "cell_type": "markdown",
   "id": "extended-collection",
   "metadata": {},
   "source": [
    "* **Sheet : 'DRAINS ET PIEZOS ENEL'**"
   ]
  },
  {
   "cell_type": "code",
   "execution_count": null,
   "id": "visible-rogers",
   "metadata": {},
   "outputs": [],
   "source": [
    "tmp_dir=ROOT_DIR + '/CF_data/Result_traitem/database_Memoris3/'\n",
    "sheet='Drains_Pz_ENEL'"
   ]
  },
  {
   "cell_type": "code",
   "execution_count": null,
   "id": "sublime-thomson",
   "metadata": {},
   "outputs": [],
   "source": [
    "df = pd.read_excel(ROOT_DIR + '/CF_data/Data_UMONS/Contamination/Doc_SITEREM/Rapport de synthèse des études de sol et des eaux souterraines. Siterem - 2017/Database MEMORIS3.xlsx', \n",
    "                        sheet_name='DRAINS ET PIEZOS ENEL', skiprows=1)\n",
    "\n",
    "df=na_line_drop(df,0)\n",
    "df=na_col_drop(df,1)\n",
    "df.replace(r'<|>','', inplace=True, regex=True)\n",
    "df.replace(r'-$',np.nan, inplace=True, regex=True)\n",
    "\n",
    "dataframe_viewer(df, rows=3)"
   ]
  },
  {
   "cell_type": "code",
   "execution_count": null,
   "id": "0b22a630",
   "metadata": {},
   "outputs": [],
   "source": [
    "df.insert(5, 'Z', df.pop('PZ absolue (m)'))\n",
    "df.rename(columns={'N°':'ID', 'Date ':'Date_prv','Hauteur de la chambre ':'Ht_Chbre','T':'Temp', 'ETUDE':'Etude',\n",
    "                   'Niv_EAU_SOL (m)': 'Niv_eau_sol_01/10/2013', 'Niv_EAU_SOL (m).1':'Niv_eau_sol_14/12/2016', \n",
    "                   'Prof_PZ':'Long_pz','Section_crépinée':'Sect_crep', 'Diamètre_int':'Diam_int_pz', \n",
    "                   '\\nC5-C8':'C5-C8'}, inplace=True)\n",
    "df = df.query('ID==ID')"
   ]
  },
  {
   "cell_type": "code",
   "execution_count": null,
   "id": "54e2b97c",
   "metadata": {},
   "outputs": [],
   "source": [
    "df = collect_time_data(df)"
   ]
  },
  {
   "cell_type": "code",
   "execution_count": null,
   "id": "f04eaab2",
   "metadata": {},
   "outputs": [],
   "source": [
    "cols = list(df.columns)[:-2]\n",
    "df = replicate_values(df, 'ID', cols, suffix=['prof', 'sup', 'inf'], replace_id=False)"
   ]
  },
  {
   "cell_type": "code",
   "execution_count": null,
   "id": "373f4d30",
   "metadata": {},
   "outputs": [],
   "source": [
    "df['CE']=df['CE'].apply(lambda x: pd.to_numeric(x)/1000 \n",
    "                                  if re.search('^\\d+', str(x)) and not pd.isnull(x) else np.nan) # -> in mS/cm"
   ]
  },
  {
   "cell_type": "code",
   "execution_count": null,
   "id": "f2f914cc",
   "metadata": {},
   "outputs": [],
   "source": [
    "params_kw = ['Niv_','pH$','CE','Temp','ORP','Odiss']\n",
    "df = collect_measure(df, params_kw) # $ to fix the end of te word\n",
    "df.drop(index=df.query('ID.str.contains(\"nan\", regex=True)', engine='python').index, inplace=True)"
   ]
  },
  {
   "cell_type": "code",
   "execution_count": null,
   "id": "00e87842",
   "metadata": {},
   "outputs": [],
   "source": [
    "mes = df[['ID','X', 'Y', 'Z','Etude','Date_mes','Params']]"
   ]
  },
  {
   "cell_type": "code",
   "execution_count": null,
   "id": "94c7ef84",
   "metadata": {},
   "outputs": [],
   "source": [
    "df.drop_duplicates('ID', inplace=True)\n",
    "bh = df[['ID','Etude','X','Y','Z','Zsol','Ht_Chbre','Long_pz','Sect_crep','Diam_int_pz']]\n",
    "an = df[['ID','Date_prv','Etude','X','Y','Z','arsenic','cadmium','chrome','cobalt','cuivre','mercure','plomb',\n",
    "         'nickel','zinc','CN_libre','CN_totaux','CN_totaux.1','CN_totaux.2','thiocyanate','benzène','toluène',\n",
    "         'éthylbenzène','orthoxylène','para- et métaxylène','xylènes','BTEX total','styrène','Iph.','naphtalène',\n",
    "         'anthracène','phénanthrène','fluoranthène','benzo(a)anthracène','chrysène','benzo(a)pyrène',\n",
    "         'benzo(ghi)pérylène','benzo(k)fluoranthène','indéno(1,2,3-cd)pyrène','C5-C8','C8-C10','C10-C12','C12-C16',\n",
    "         ' C16 - C21','C21 - C35','C35 - C40','totaux C10-C35','C10-C12.1','C12-C22','C22-C30','C30-C40','Totaux C10-C40']]"
   ]
  },
  {
   "cell_type": "code",
   "execution_count": null,
   "id": "01f06097",
   "metadata": {},
   "outputs": [],
   "source": [
    "bh.insert(1, 'Type', 'Piezo')\n",
    "an.insert(2, 'Type_ech', 'Eau')\n",
    "an.insert(2, 'ID_ech', an.ID)"
   ]
  },
  {
   "cell_type": "code",
   "execution_count": null,
   "id": "bcfdf4f8",
   "metadata": {},
   "outputs": [],
   "source": [
    "data = an\n",
    "for c in data.columns:\n",
    "    if re.match('\\s*\\w+\\s*-\\s*\\w+\\s*', c):\n",
    "        c_mod = c.replace(' ','')\n",
    "        data.rename(columns={c:c_mod}, inplace=True)\n",
    "an = data.copy()"
   ]
  },
  {
   "cell_type": "code",
   "execution_count": null,
   "id": "e19575c8",
   "metadata": {},
   "outputs": [],
   "source": [
    "an = col_ren(an, name=pol_field_model, mode=1)"
   ]
  },
  {
   "cell_type": "code",
   "execution_count": null,
   "id": "4cce7162",
   "metadata": {},
   "outputs": [],
   "source": [
    "an.drop(columns=['CN_totaux_<1>', 'CN_totaux_<2>', 'C12_<1>'], inplace=True)"
   ]
  },
  {
   "cell_type": "markdown",
   "id": "e855e711",
   "metadata": {},
   "source": [
    "##### Data merging"
   ]
  },
  {
   "cell_type": "code",
   "execution_count": null,
   "id": "067e6588",
   "metadata": {},
   "outputs": [],
   "source": [
    "source_an, conflict_df = data_merger(source_an, an, how='outer', on=['ID_ech'], dist_max=1., drop_skip_col=['index'])"
   ]
  },
  {
   "cell_type": "code",
   "execution_count": null,
   "id": "9e756bad",
   "metadata": {},
   "outputs": [],
   "source": [
    "source_bh, conflict_df = data_merger(source_bh, bh, how='outer', on=['ID'], dist_max=1., drop_skip_col=['index'])"
   ]
  },
  {
   "cell_type": "code",
   "execution_count": null,
   "id": "e76e919d",
   "metadata": {},
   "outputs": [],
   "source": [
    "source_mes, conflict_df = data_merger(source_mes, mes, how='outer', on=['ID','Date_mes'], dist_max=1., drop_skip_col=['index'])"
   ]
  },
  {
   "cell_type": "code",
   "execution_count": null,
   "id": "3778a182",
   "metadata": {},
   "outputs": [],
   "source": [
    "if not os.path.exists(tmp_dir):\n",
    "    os.makedirs(tmp_dir), os.makedirs(tmp_dir+'source_merge/') \n",
    "    \n",
    "#eqp.to_csv(tmp_dir+sheet+'_Equipments.csv', index=False)\n",
    "mes.to_csv(tmp_dir+sheet+'_Measures.csv', index=False)\n",
    "bh.to_csv(tmp_dir+sheet+'_Boreholes.csv', index=False)\n",
    "an.to_csv(tmp_dir+sheet+'_Samples.csv', index=False)\n",
    "#litho.to_csv(tmp_dir+sheet+'_Lithologies.csv', index=False)\n",
    "ukw.to_csv(tmp_dir+sheet+'_Unknown.csv', index=False)\n",
    "\n",
    "source_bh.to_csv(tmp_dir+'source_merge/source_Boreholes.csv', index=False) #all Boreholes data in the source\n",
    "source_mes.to_csv(tmp_dir+'source_merge/source_Measures.csv', index=False) #all Measures data in the source\n",
    "#source_eqp.to_csv(tmp_dir+'source_merge/source_Equipments.csv', index=False)\n",
    "source_an.to_csv(tmp_dir+'source_merge/source_Samples.csv', index=False)\n",
    "#source_litho.to_csv(tmp_dir+'source_merge/source_Lithologies.csv', index=False)\n",
    "source_ukw.to_csv(tmp_dir+'source_merge/source_Unknown.csv', index=False)\n",
    "\n",
    "print(f'source_bh: {len(source_bh)} ; source_eqp: {len(source_eqp)} ; source_uknw: {len(source_ukw)} ; '\n",
    "      f'source_litho: {len(source_litho)} ; source_an: {len(source_an)} ; source_mes: {len(source_mes)}')"
   ]
  },
  {
   "cell_type": "markdown",
   "id": "northern-fifteen",
   "metadata": {},
   "source": [
    "* **Sheet : 'RESULTS_EAU' (F)**"
   ]
  },
  {
   "cell_type": "code",
   "execution_count": null,
   "id": "working-turkish",
   "metadata": {},
   "outputs": [],
   "source": [
    "tmp_dir=ROOT_DIR + '/CF_data/Result_traitem/database_Memoris3/'\n",
    "sheet='Result_eau'"
   ]
  },
  {
   "cell_type": "code",
   "execution_count": null,
   "id": "pressing-bidding",
   "metadata": {},
   "outputs": [],
   "source": [
    "df = pd.read_excel(ROOT_DIR + '/CF_data/Data_UMONS/Contamination/Doc_SITEREM/Rapport de synthèse des études de sol et des eaux souterraines. Siterem - 2017/Database MEMORIS3.xlsx', \n",
    "                        sheet_name='RESULTS_EAU', skiprows=1)\n",
    "\n",
    "df.replace(r'<|>','', inplace=True, regex=True)\n",
    "df.replace(r'-$',np.nan, inplace=True, regex=True)\n",
    "\n",
    "dataframe_viewer(df, rows=5)"
   ]
  },
  {
   "cell_type": "code",
   "execution_count": null,
   "id": "patent-lover",
   "metadata": {},
   "outputs": [],
   "source": [
    "df.rename(columns={'Campagne':'Societe','N_piezo.':'ID','Z tête PZ':'Z', 'Prof_PZ':'Long_pz',\n",
    "                   'Niv_EAU_TETE (m)':'Niv_eau_tete_27/04/2010','Niv_EAU_SOL (m)':'Niv_eau_sol_27/04/2010',\n",
    "                   'Unnamed: 13':'Niv_eau_tete_08/09/2010','Unnamed: 15':'Niv_eau_sol_08/09/2010',\n",
    "                   'Section_crépinée':'Sect_crep','Diamètre_int':'Diam_int_pz','Description éch.':'Opacite_eau',\n",
    "                   'Remarques':'Rmq','Aquifère_échantillonné':'Nappe', 'Caractéristique':'Caractere'}, inplace=True)\n",
    "\n",
    "df=df.query(\"ID ==ID\")\n",
    "df.replace('-',np.nan, inplace=True)"
   ]
  },
  {
   "cell_type": "code",
   "execution_count": null,
   "id": "62f04fbb",
   "metadata": {},
   "outputs": [],
   "source": [
    "an = df[['ID','X','Y','Z','Zsol'] + list(df.columns)[26:]]\n",
    "df = df[list(df.columns)[:26]]"
   ]
  },
  {
   "cell_type": "code",
   "execution_count": null,
   "id": "90525669",
   "metadata": {},
   "outputs": [],
   "source": [
    "df = collect_time_data(df)"
   ]
  },
  {
   "cell_type": "code",
   "execution_count": null,
   "id": "a2f2c0e2",
   "metadata": {},
   "outputs": [],
   "source": [
    "params_kw = ['pH$', 'CE$', '^T$', 'ORP', 'Odiss', 'Niv_']\n",
    "df = collect_measure(df, params_kw, params_col='Params')"
   ]
  },
  {
   "cell_type": "code",
   "execution_count": null,
   "id": "a98631ac",
   "metadata": {},
   "outputs": [],
   "source": [
    "df.columns"
   ]
  },
  {
   "cell_type": "code",
   "execution_count": null,
   "id": "fbc5c032",
   "metadata": {},
   "outputs": [],
   "source": [
    "#dataframe_viewer(test.query('ID==\"F16M\"'), rows=5)\n",
    "#dataframe_viewer(data.sort_values('ID'), rows=3)\n",
    "dataframe_viewer(df, rows=5, cols=12, un_val=['ID'])\n",
    "#dataframe_viewer(source_litho, rows=5), dataframe_viewer(source_an, rows=5)\n",
    "#dataframe_viewer(bh, rows=5), dataframe_viewer(eqp, rows=5)"
   ]
  },
  {
   "cell_type": "code",
   "execution_count": null,
   "id": "848ea66a",
   "metadata": {},
   "outputs": [],
   "source": [
    "df_dict = data_slicer(df, coi_dict)"
   ]
  },
  {
   "cell_type": "code",
   "execution_count": null,
   "id": "2bef9922",
   "metadata": {},
   "outputs": [],
   "source": [
    "df_dict['borehole']"
   ]
  },
  {
   "cell_type": "raw",
   "id": "b8bea12a",
   "metadata": {},
   "source": [
    "hwg"
   ]
  },
  {
   "cell_type": "code",
   "execution_count": null,
   "id": "thick-traffic",
   "metadata": {},
   "outputs": [],
   "source": [
    "# splitting\n",
    "sdf=df[['ID','X','Y','Z','Zsol']+df.columns.to_list()[12:16]+df.columns.to_list()[21:26]]\n",
    "an=df[['ID','X','Y','Z','Zsol']+df.columns.to_list()[26:]]\n",
    "prv_eau=df[df.columns.to_list()[:3]+['X','Y','Z','Zsol']+df.columns.to_list()[16:21]+['Nappe']]\n",
    "df=df[df.columns.to_list()[:12]]"
   ]
  },
  {
   "cell_type": "code",
   "execution_count": null,
   "id": "medieval-attack",
   "metadata": {},
   "outputs": [],
   "source": [
    "df['Type']=df['Long_crep'].apply(lambda x: 'Piezo' if not pd.isnull(x) else 'inconnu')\n",
    "df.insert(8, 'Type', df.pop('Type'))\n",
    "df['Diam_int_pz'] = df['Diam_int_pz'].apply(lambda x: x*1000 if not pd.isnull(x) else x)"
   ]
  },
  {
   "cell_type": "code",
   "execution_count": null,
   "id": "interim-clearance",
   "metadata": {},
   "outputs": [],
   "source": [
    "pz=df.query(\"Type=='Piezo'\")\n",
    "ukw=df.query(\"Type!='Piezo'\")[['ID', 'Societe', 'Zone', 'Sous_zone', 'X', 'Y', 'Z', 'Type']]"
   ]
  },
  {
   "cell_type": "code",
   "execution_count": null,
   "id": "great-distribution",
   "metadata": {},
   "outputs": [],
   "source": [
    "prv_eau['Surnageant']=prv_eau['Surnageant'].apply(lambda x: x/100) # to express value in [m]\n",
    "prv_eau['Sousnageant']=prv_eau['Sousnageant'].apply(lambda x: x/100)"
   ]
  },
  {
   "cell_type": "code",
   "execution_count": null,
   "id": "competent-forward",
   "metadata": {
    "scrolled": true
   },
   "outputs": [],
   "source": [
    "df_tmp=sdf[['ID','X','Y','Z','Zsol']]\n",
    "cols=sdf.columns.to_list()[9:]\n",
    "ID_mes=0\n",
    "d=['27/04/2010', '08/09/2010']\n",
    "\n",
    "for i in range(len(sdf)):\n",
    "    for k in [0,1]:\n",
    "        df_tmp.loc[ID_mes,'ID_mes']='Mes_'+str(ID_mes)\n",
    "        df_tmp.loc[ID_mes,'ID']=str(sdf.loc[i,'ID'])\n",
    "        \n",
    "        dt=d[k].split('/')\n",
    "        df_tmp.loc[ID_mes,'Date_mes']=dtm.date(int(dt[2]), int(dt[1]),int(dt[0]))\n",
    "        df_tmp.loc[ID_mes,'Niv_eau_pz']=sdf.iloc[i,k+1]\n",
    "        df_tmp.loc[ID_mes,'Niv_eau_sol']=sdf.iloc[i,k+3]\n",
    "        df_tmp.loc[ID_mes, cols]=list(sdf.loc[i,cols])\n",
    "        ID_mes+=1          \n",
    "        \n",
    "df_tmp.replace('-', np.nan, inplace=True)\n",
    "df_tmp=df_tmp.sort_values('Date_mes').reset_index(drop=True)\n",
    "df_tmp['ID_mes']=df_tmp['ID'].apply(lambda x: 'Mes_'+str(x))\n",
    "df_tmp.insert(0, 'ID_mes', df_tmp.pop('ID_mes'))"
   ]
  },
  {
   "cell_type": "code",
   "execution_count": null,
   "id": "broadband-inventory",
   "metadata": {},
   "outputs": [],
   "source": [
    "q=df_tmp.query('Niv_eau_pz.isnull() and Niv_eau_sol.isnull()').index\n",
    "df_tmp.drop(q, inplace=True)\n",
    "df_tmp['CE']=df_tmp['CE'].apply(lambda x: pd.to_numeric(x)/1000 \n",
    "                                  if re.search('^\\d+', str(x)) and not pd.isnull(x) else np.nan)\n",
    "mes_pz=df_tmp\n",
    "mes_pz['Type_mes'] = 'Phys-chim'"
   ]
  },
  {
   "cell_type": "code",
   "execution_count": null,
   "id": "treated-missouri",
   "metadata": {},
   "outputs": [],
   "source": [
    "source_mes_pz=source_mes_pz.sort_values('Date_mes').reset_index(drop=True)"
   ]
  },
  {
   "cell_type": "code",
   "execution_count": null,
   "id": "solved-handling",
   "metadata": {},
   "outputs": [],
   "source": [
    "dataframe_viewer(mes_pz, rows=3), dataframe_viewer(source_mes_pz, rows=3)"
   ]
  },
  {
   "cell_type": "code",
   "execution_count": null,
   "id": "67c4faa5",
   "metadata": {},
   "outputs": [],
   "source": [
    "source_mes_pz.columns, mes_pz.columns"
   ]
  },
  {
   "cell_type": "code",
   "execution_count": null,
   "id": "instructional-discussion",
   "metadata": {
    "scrolled": true
   },
   "outputs": [],
   "source": [
    "# source_mes_pz, conflict_df = data_merger(source_mes_pz, mes_pz, on=['ID', 'Date_mes'], how='outer')\n",
    "test, conflict_df = data_merger(source_mes_pz, mes_pz, on=['ID', 'Date_mes'], how='outer')"
   ]
  },
  {
   "cell_type": "code",
   "execution_count": null,
   "id": "split-hardwood",
   "metadata": {},
   "outputs": [],
   "source": [
    "dataframe_viewer(conflict_df, rows=3)"
   ]
  },
  {
   "cell_type": "code",
   "execution_count": null,
   "id": "82f61930",
   "metadata": {},
   "outputs": [],
   "source": [
    "pause"
   ]
  },
  {
   "cell_type": "code",
   "execution_count": null,
   "id": "2ca2a1a8",
   "metadata": {},
   "outputs": [],
   "source": [
    "conflict_df.columns"
   ]
  },
  {
   "cell_type": "code",
   "execution_count": null,
   "id": "a9426ba8",
   "metadata": {},
   "outputs": [],
   "source": [
    "data_validation(overall_data=source_litho, conflict_data=conflict_df, index_col='index', pass_col='ID',\n",
    "                valid_dict={'Description_x':list(conflict_df.index), 'Societe_x':list(conflict_df.index)})"
   ]
  },
  {
   "cell_type": "code",
   "execution_count": null,
   "id": "b03ef8da",
   "metadata": {},
   "outputs": [],
   "source": [
    "dataset = source_mes_pz\n",
    "if 'level_0' in dataset.columns:\n",
    "    if 'index' in dataset.columns:\n",
    "        dataset.drop(columns='index', inplace=True)\n",
    "    dataset.rename(columns={'level_0':'index'}, inplace=True)"
   ]
  },
  {
   "cell_type": "code",
   "execution_count": null,
   "id": "vanilla-drove",
   "metadata": {},
   "outputs": [],
   "source": [
    "an=na_line_drop(an,col_n=3)"
   ]
  },
  {
   "cell_type": "code",
   "execution_count": null,
   "id": "modified-copying",
   "metadata": {},
   "outputs": [],
   "source": [
    "an=dble_col_drop(an)"
   ]
  },
  {
   "cell_type": "code",
   "execution_count": null,
   "id": "cardiovascular-tokyo",
   "metadata": {},
   "outputs": [],
   "source": [
    "an.insert(1, 'Type_ech', 'Eau')\n",
    "an.rename(columns={'ID':'ID_ech'}, inplace=True)\n",
    "#an['Anl_ID']=an['ID'].apply(lambda x: 'Anl_'+str(x))\n",
    "#an.insert(an.columns.to_list().index('ID')+1, 'Type_ech', 'Eau')"
   ]
  },
  {
   "cell_type": "code",
   "execution_count": null,
   "id": "reduced-joshua",
   "metadata": {},
   "outputs": [],
   "source": [
    "an=col_ren(an, name=pol_field_model, mode=1)"
   ]
  },
  {
   "cell_type": "markdown",
   "id": "first-northwest",
   "metadata": {},
   "source": [
    "data merging"
   ]
  },
  {
   "cell_type": "code",
   "execution_count": null,
   "id": "dangerous-circular",
   "metadata": {
    "scrolled": true
   },
   "outputs": [],
   "source": [
    "source_pz, conflict_df=data_merger(source_pz, pz, 'outer', 'ID')"
   ]
  },
  {
   "cell_type": "code",
   "execution_count": null,
   "id": "consolidated-buffer",
   "metadata": {},
   "outputs": [],
   "source": [
    "source_mes_pz, conflict_df=data_merger(source_mes_pz, mes_pz, 'outer', 'ID')\n",
    "if len(conflict_df)>0 :dataframe_viewer(conflict_df, rows=3)"
   ]
  },
  {
   "cell_type": "code",
   "execution_count": null,
   "id": "opening-superintendent",
   "metadata": {},
   "outputs": [],
   "source": [
    "dataframe_viewer(source_mes_pz, rows=3)"
   ]
  },
  {
   "cell_type": "code",
   "execution_count": null,
   "id": "fresh-execution",
   "metadata": {},
   "outputs": [],
   "source": [
    "source_ukw, conflict_df=data_merger(source_ukw, ukw, 'outer', 'ID')\n",
    "if len(conflict_df)>0 :dataframe_viewer(conflict_df, rows=3)"
   ]
  },
  {
   "cell_type": "code",
   "execution_count": null,
   "id": "respected-creator",
   "metadata": {},
   "outputs": [],
   "source": [
    "len(source_an.columns),len(set(source_an.columns))\n",
    "source_an.columns"
   ]
  },
  {
   "cell_type": "code",
   "execution_count": null,
   "id": "considerable-curve",
   "metadata": {},
   "outputs": [],
   "source": [
    "source_an, conflict_df=data_merger(source_an, an, 'outer', 'ID_ech')\n",
    "if len(conflict_df)>0 :dataframe_viewer(conflict_df, rows=3)"
   ]
  },
  {
   "cell_type": "code",
   "execution_count": null,
   "id": "anticipated-surge",
   "metadata": {},
   "outputs": [],
   "source": [
    "dataframe_viewer(source_an)"
   ]
  },
  {
   "cell_type": "code",
   "execution_count": null,
   "id": "funny-persian",
   "metadata": {},
   "outputs": [],
   "source": [
    "if not os.path.exists(tmp_dir):\n",
    "    os.makedirs(tmp_dir), os.makedirs(tmp_dir+'source_merge/') \n",
    "\n",
    "#bh.to_csv(tmp_dir+'source_merge/source_Boreholes.csv', index=False)\n",
    "#litho.to_csv(tmp_dir+sheet+'_Lithology.csv', index=False)\n",
    "pz.to_csv(tmp_dir+sheet+'_Piezometers.csv', index=False)\n",
    "mes_pz.to_csv(tmp_dir+sheet+'_Measures.csv', index=False)\n",
    "ouv.to_csv(tmp_dir+sheet+'_Unkown-facility.csv', index=False)\n",
    "prv_eau.to_csv(tmp_dir+sheet+'_Samples-water.csv', index=False)\n",
    "an.to_csv(tmp_dir+sheet+'_Analysis.csv', index=False)\n",
    "\n",
    "\n",
    "source_mes_pz.to_csv(tmp_dir+'source_merge/source_Measures.csv', index=False) #all lithologies or descriptions data in the source\n",
    "source_pz.to_csv(tmp_dir+'source_merge/source_Piezometers.csv', index=False)\n",
    "source_prv_eau.to_csv(tmp_dir+'source_merge/source_Samples-water.csv', index=False)\n",
    "source_ukw.to_csv(tmp_dir+'source_merge/source_Unkown-facility.csv', index=False)\n",
    "source_an.to_csv(tmp_dir+'source_merge/source_Analysis.csv', index=False)\n",
    "#source_litho.to_csv(tmp_dir+'source_merge/source_Lithology.csv', index=False)\n",
    "#source_bh.to_csv(tmp_dir+'source_merge/source_Boreholes.csv', index=False)\n",
    "\n",
    "print(f'source_bh:{len(source_bh)} ; source_pz:{len(source_pz)} ; source_litho:{len(source_litho)} ; '\n",
    "     f'source_Fac-uknw:{len(source_ukw)} ; source_prv_sol:{len(source_prv_sol)} ; source_prv_eau:{len(source_prv_eau)} ;\\n'\n",
    "     f'source_mes_pz:{len(source_mes_pz)} ; source_an:{len(source_an)} ;')"
   ]
  },
  {
   "cell_type": "markdown",
   "id": "permanent-house",
   "metadata": {},
   "source": [
    "* **Sheet : 'RESULTS_SOL'**"
   ]
  },
  {
   "cell_type": "code",
   "execution_count": null,
   "id": "coordinated-rolling",
   "metadata": {},
   "outputs": [],
   "source": [
    "tmp_dir=ROOT_DIR + '/CF_data/Result_traitem/database_Memoris3/'\n",
    "sheet='Result_sol'"
   ]
  },
  {
   "cell_type": "code",
   "execution_count": null,
   "id": "green-joyce",
   "metadata": {},
   "outputs": [],
   "source": [
    "df = pd.read_excel(ROOT_DIR + '/CF_data/Data_UMONS/Contamination/Doc_SITEREM/Rapport de synthèse des études de sol et des eaux souterraines. Siterem - 2017/'\n",
    "                   'Database MEMORIS3.xlsx', sheet_name='RESULTS_SOL', skiprows=1)\n",
    "df=na_line_drop(df,0)\n",
    "df=na_col_drop(df,1)\n",
    "df.replace(r'<|>','', inplace=True, regex=True)\n",
    "df.replace(r'-$',np.nan, inplace=True, regex=True)\n",
    "\n",
    "dataframe_viewer(df)"
   ]
  },
  {
   "cell_type": "code",
   "execution_count": null,
   "id": "amateur-payday",
   "metadata": {},
   "outputs": [],
   "source": [
    "df.rename(columns={'Unnamed: 92':'EOX', 'Unnamed: 93':'Idc_phenol','Campagne':'Societe','N_forage':'ID','refus':'Refus',\n",
    "                   'Prof.\\nforage':'Long', 'N_ech':'ID_ech', 'Min_Ech':'Ech_top','Max_Ech':'Ech_base',\n",
    "                  'Terrain':'Nappe','Epaisseur remblais':'Ep_remb', 'Epaisseur alluvions':'Ep_alluv', \n",
    "                   'Nature':'Polluant','Min_organo':'Pol_top', 'Max_organo':'Pol_base', 'Fraction   2000 µm':'Fract_2000µ',\n",
    "                   'Fraction   63 µm':'Fract_63µ', 'Fraction   45 µm':'Fract_45µ','Fraction   16 µm':'Fract_16µ',\n",
    "                   'Fraction   2 µm':'Fract_2µ'}, inplace=True)"
   ]
  },
  {
   "cell_type": "code",
   "execution_count": null,
   "id": "disturbed-trace",
   "metadata": {},
   "outputs": [],
   "source": [
    "df.drop(columns=[df.columns.to_list()[x] for x in range(len(df.columns))\n",
    "                      if re.search(r\"Unnamed\",df.columns.to_list()[x])], axis=1, inplace=True) \n",
    "df.replace(r'<|>','', inplace=True, regex=True)\n",
    "df=df.query('ID==ID')\n",
    "df['ID']=df['ID'].apply(lambda x : x.replace('Monito ', 'Mon') if re.findall('Monit', str(x)) else x)\n",
    "df['ID_ech']=df['ID_ech'].apply(lambda x : x.replace('Monito ', 'Mon') if re.findall('Monit', str(x)) else x)\n",
    "df.replace('-',np.nan, inplace=True)"
   ]
  },
  {
   "cell_type": "code",
   "execution_count": null,
   "id": "boolean-terrace",
   "metadata": {},
   "outputs": [],
   "source": [
    "for i in range(len(df['ID'])):\n",
    "    #r=re.search('(\\w+)/.+',str(df.loc[i, 'ID_ech']))\n",
    "    #if r : df.loc[i, 'ID']=r.group(1)\n",
    "    r=re.search('^\\d+',str(df.loc[i, 'ID']))\n",
    "    if r : df.loc[i, 'ID']='F'+str(df.loc[i, 'ID'])"
   ]
  },
  {
   "cell_type": "code",
   "execution_count": null,
   "id": "balanced-england",
   "metadata": {},
   "outputs": [],
   "source": [
    "sdf=df[['ID','X','Y','Z','Long','ID_ech', 'Ech_top', 'Ech_base', 'Description','Nappe','Ep_remb','Ep_alluv','Refus','Societe','Zone','Sous_zone']]\n",
    "sdf.insert(5, 'Type', '')\n",
    "\n",
    "prv_sol=df[['ID','ID_ech', 'X','Y','Z', 'Ech_top', 'Ech_base','Polluant','Intensité', 'Pol_top','Pol_base','MS','pH H2O',\n",
    "            'T° pH H2O', 'T° pH CaCl2','pH CaCl2','T° pH KCl','pH KCl','T° CE','CE','MO',\n",
    "       'Résidus chauffage', 'Argile ', 'Fract_2000µ','Fract_63µ','Fract_45µ','Fract_16µ','Fract_2µ']]\n",
    "#mes_sol=df[['ID','ID_ech','MS','pH H2O', 'T° pH H2O', 'T° pH CaCl2','pH CaCl2','T° pH KCl','pH KCl','T° CE','CE','MO',\n",
    "#       'Résidus chauffage', 'Argile ', 'Fract_2000','Fract_63','Fract_45','Fract_16','Fract_2']]\n",
    "prv_sol.insert(2, 'Type_ech', 'Sol')\n",
    "\n",
    "an=df[['ID','ID_ech','X','Y','Z','Arsenic','Cadmium','Chrome_total','Chrome_VI','Cobalt','Cuivre','Mercure','Plomb','Nickel','Zinc','Libres',\n",
    "       'Totaux', 'Non chloro destruct.', 'Thiocyantes', 'Cyanures totaux EPA','Benzène', 'Toluène', 'Ethylbenzène',\n",
    "       'o-Xylènes','mp-Xylènes','Xylènes','SOM BTEX','Styrène','Naphtalène','Anthracene','Phénanthrène',\n",
    "       'Fluoranthène', 'Benzoaanthracène', 'Chrysène','Benzo(a)pyrene','Benzo(ghi)pérylène','Benzo(k)fluoranthène',\n",
    "       'Indéno[123cd]pyrène', 'Acenaphtylene', 'Acenaphthene', 'Fluorène','Pyrène', 'Benzo_b_fluoranthene', \n",
    "       'Dibenzo[ah]anthracène','SOM VROM 10', 'SOM EPA 16', 'C5_C8', 'C8_C10', 'C10_C12', 'C12_C16','C16_C21', \n",
    "       'C21_C35', 'C35_C40', 'SOM_C5_C35', 'C21_C30', 'C30_C35','SOM C10_C40', 'EOX', 'Idc_phenol']]"
   ]
  },
  {
   "cell_type": "markdown",
   "id": "abandoned-patient",
   "metadata": {},
   "source": [
    "dfs processing"
   ]
  },
  {
   "cell_type": "code",
   "execution_count": null,
   "id": "champion-token",
   "metadata": {},
   "outputs": [],
   "source": [
    "sdf['Refus']=sdf['Refus'].apply(lambda x: 'x' if not pd.isnull(x) else '')"
   ]
  },
  {
   "cell_type": "code",
   "execution_count": null,
   "id": "fancy-ethics",
   "metadata": {},
   "outputs": [],
   "source": [
    "for i in range(len(sdf['Nappe'])):\n",
    "    x=sdf.loc[i,'Nappe']\n",
    "    if re.search('[R|r]em', str(x)) : sdf.loc[i,'Nappe']='Remblais'\n",
    "    elif re.search('[A|a]ll', str(x)) : sdf.loc[i,'Nappe']='Alluvions'\n",
    "    elif re.search('[S|s]oc', str(x)) : sdf.loc[i,'Nappe']='Socle'\n",
    "    elif re.search('[A|a]rg', str(x)) : sdf.loc[i,'Nappe']='Argile'\n",
    "    else : sdf.loc[i,'Nappe']=''"
   ]
  },
  {
   "cell_type": "code",
   "execution_count": null,
   "id": "civic-chemistry",
   "metadata": {},
   "outputs": [],
   "source": [
    "litho=sdf #lithologies and all facilities without distinction here (because type of facility not defined clearly !)"
   ]
  },
  {
   "cell_type": "code",
   "execution_count": null,
   "id": "manual-encyclopedia",
   "metadata": {
    "scrolled": true
   },
   "outputs": [],
   "source": [
    "prv_sol=na_line_drop(prv_sol, 3)"
   ]
  },
  {
   "cell_type": "code",
   "execution_count": null,
   "id": "supposed-evans",
   "metadata": {
    "scrolled": false
   },
   "outputs": [],
   "source": [
    "prv_sol=na_col_drop(prv_sol, col_non_na=5, verbose=False)"
   ]
  },
  {
   "cell_type": "code",
   "execution_count": null,
   "id": "interim-survey",
   "metadata": {},
   "outputs": [],
   "source": [
    "an.replace('#',np.nan, inplace=True)\n",
    "an=na_line_drop(an, 2)\n",
    "an.insert(1, 'Type_ech', 'Sol')\n",
    "#an['Anl_ID']=an['ID'].apply(lambda x: 'Anl_'+str(x))\n",
    "#an.insert(0, 'Anl_ID', an.pop('Anl_ID'))"
   ]
  },
  {
   "cell_type": "raw",
   "id": "union-right",
   "metadata": {},
   "source": [
    "an=na_col_drop(an, non_na=10, drop=False, verbose=True)"
   ]
  },
  {
   "cell_type": "markdown",
   "id": "impressed-clinton",
   "metadata": {},
   "source": [
    "data merging"
   ]
  },
  {
   "cell_type": "code",
   "execution_count": null,
   "id": "6bd78c21",
   "metadata": {},
   "outputs": [],
   "source": [
    "dataframe_viewer(litho, rows=3), dataframe_viewer(source_litho, rows=3)"
   ]
  },
  {
   "cell_type": "code",
   "execution_count": null,
   "id": "hearing-thong",
   "metadata": {},
   "outputs": [],
   "source": [
    "#source_mes_sol=mes_sol\n",
    "source_prv_sol=prv_sol"
   ]
  },
  {
   "cell_type": "raw",
   "id": "a06a00e9",
   "metadata": {},
   "source": [
    "source_litho, conflict_df=data_merger(source_litho, litho, 'outer', 'ID', )"
   ]
  },
  {
   "cell_type": "code",
   "execution_count": null,
   "id": "6154e6b8",
   "metadata": {},
   "outputs": [],
   "source": [
    "dataframe_viewer(conflict_df, rows=3) "
   ]
  },
  {
   "cell_type": "raw",
   "id": "c81d302c",
   "metadata": {},
   "source": [
    "data_validation(overall_data=source_litho, conflict_data=conflict_df, index_col='index', pass_col='ID',\n",
    "                valid_dict={'Description_x':list(conflict_df.index), 'Societe_x':list(conflict_df.index)})"
   ]
  },
  {
   "cell_type": "code",
   "execution_count": null,
   "id": "49185fc3",
   "metadata": {},
   "outputs": [],
   "source": [
    "dataset = source_litho\n",
    "if 'level_0' in dataset.columns:\n",
    "    if 'index' in dataset.columns:\n",
    "        dataset.drop(columns='index', inplace=True)\n",
    "    dataset.rename(columns={'level_0':'index'}, inplace=True)"
   ]
  },
  {
   "cell_type": "raw",
   "id": "3e07f446",
   "metadata": {},
   "source": [
    "for i, r in conflict_df.iterrows():\n",
    "    print(i, sum(x == 'Done' for x in r), 2 * len(r['Check_col'].split(',')))"
   ]
  },
  {
   "cell_type": "code",
   "execution_count": null,
   "id": "ahead-avatar",
   "metadata": {},
   "outputs": [],
   "source": [
    "source_an, conflict_df=data_merger(source_an, an, 'outer', 'ID_ech', ) "
   ]
  },
  {
   "cell_type": "code",
   "execution_count": null,
   "id": "boring-discovery",
   "metadata": {},
   "outputs": [],
   "source": [
    "dataframe_viewer(prv_sol, un_val='ID', rows=3), dataframe_viewer(an, un_val='ID', rows=3) "
   ]
  },
  {
   "cell_type": "code",
   "execution_count": null,
   "id": "administrative-mobile",
   "metadata": {},
   "outputs": [],
   "source": [
    "if not os.path.exists(tmp_dir):\n",
    "    os.makedirs(tmp_dir), os.makedirs(tmp_dir+'source_merge/') \n",
    "\n",
    "#bh.to_csv(tmp_dir+'source_merge/source_Boreholes.csv', index=False)\n",
    "litho.to_csv(tmp_dir+sheet+'_Lithology.csv', index=False)\n",
    "pz.to_csv(tmp_dir+sheet+'_Piezometers.csv', index=False)\n",
    "mes_pz.to_csv(tmp_dir+sheet+'_Measures.csv', index=False)\n",
    "#mes_sol.to_csv(tmp_dir+sheet+'_Measures-soil.csv', index=False)\n",
    "ouv.to_csv(tmp_dir+sheet+'_Unkown-facility.csv', index=False)\n",
    "prv_eau.to_csv(tmp_dir+sheet+'_Samples-water.csv', index=False)\n",
    "prv_sol.to_csv(tmp_dir+sheet+'_Samples-soil.csv', index=False)\n",
    "an.to_csv(tmp_dir+sheet+'_Analysis.csv', index=False)\n",
    "\n",
    "\n",
    "source_mes_pz.to_csv(tmp_dir+'source_merge/source_Measures.csv', index=False)\n",
    "#source_mes_sol.to_csv(tmp_dir+'source_merge/source_Measures-soil.csv', index=False)\n",
    "source_pz.to_csv(tmp_dir+'source_merge/source_Piezometers.csv', index=False)\n",
    "source_prv_eau.to_csv(tmp_dir+'source_merge/source_Samples-water.csv', index=False)\n",
    "source_prv_sol.to_csv(tmp_dir+'source_merge/source_Samples-soil.csv', index=False)\n",
    "source_ukw.to_csv(tmp_dir+'source_merge/source_Unkown-facility.csv', index=False)\n",
    "source_an.to_csv(tmp_dir+'source_merge/source_Analysis.csv', index=False)\n",
    "source_litho.to_csv(tmp_dir+'source_merge/source_Lithology.csv', index=False)\n",
    "#source_bh.to_csv(tmp_dir+'source_merge/source_Boreholes.csv', index=False)\n",
    "\n",
    "print(f'source_bh:{len(source_bh)} ; source_pz:{len(source_pz)} ; source_litho:{len(source_litho)} ; '\n",
    "     f'source_Fac-uknw:{len(source_ukw)} ; source_an:{len(source_an)} ;\\nsource_prv_sol:{len(source_prv_sol)} ;'\n",
    "     f'source_prv_eau:{len(source_prv_eau)} ; source_mes_pz:{len(source_mes_pz)} ; source_mes_sol:{len(source_mes_sol)} ;')"
   ]
  },
  {
   "cell_type": "markdown",
   "id": "3ca43726",
   "metadata": {},
   "source": [
    "### $\\color{red}{\\textbf{Excel source data merging}}$"
   ]
  },
  {
   "cell_type": "code",
   "execution_count": null,
   "id": "254f0fd6",
   "metadata": {},
   "outputs": [],
   "source": [
    "excel_bhs, conflict_df = data_merger(source_bh, source_pz, how='outer', on='ID', dist_max=1., drop_skip_col=['index'])"
   ]
  },
  {
   "cell_type": "raw",
   "id": "4586155a",
   "metadata": {},
   "source": [
    "data_validation(overall_data=excel_bhs, conflict_data=conflict_df, index_col='index', \n",
    "                valid_dict={'Type_y':list(conflict_df.index)})"
   ]
  },
  {
   "cell_type": "code",
   "execution_count": null,
   "id": "f3ceff8d",
   "metadata": {},
   "outputs": [],
   "source": [
    "dataset = excel_bhs\n",
    "if 'level_0' in dataset.columns:\n",
    "    if 'index' in dataset.columns:\n",
    "        dataset.drop(columns='index', inplace=True)\n",
    "    dataset.rename(columns={'level_0':'index'}, inplace=True)"
   ]
  },
  {
   "cell_type": "code",
   "execution_count": null,
   "id": "b0726ce9",
   "metadata": {},
   "outputs": [],
   "source": [
    "excel_bh_litho, conflict_df = data_merger(source_bh, source_litho, how='outer', on='ID', dist_max=1., drop_skip_col=['index'])"
   ]
  },
  {
   "cell_type": "code",
   "execution_count": null,
   "id": "7634c0e5",
   "metadata": {},
   "outputs": [],
   "source": [
    "excel_bh_soil_sp, conflict_df = data_merger(source_bh, source_prv_sol, how='outer', on='ID', dist_max=1., drop_skip_col=['index'])"
   ]
  },
  {
   "cell_type": "code",
   "execution_count": null,
   "id": "9e622ab6",
   "metadata": {},
   "outputs": [],
   "source": [
    "source_bh.columns, source_mes_pz.columns"
   ]
  },
  {
   "cell_type": "raw",
   "id": "178c3293",
   "metadata": {},
   "source": [
    "excel_bh_equip, conflict_df = data_merger(source_bh, source_eqp, how='outer', on='ID', dist_max=1., drop_skip_col=['index'])"
   ]
  },
  {
   "cell_type": "code",
   "execution_count": null,
   "id": "80a4e937",
   "metadata": {
    "scrolled": true
   },
   "outputs": [],
   "source": [
    "excel_bh_mes, conflict_df = data_merger(source_bh, source_mes_pz, how='outer', on='ID', dist_max=1., \n",
    "                                        drop_skip_col=['index'])"
   ]
  },
  {
   "cell_type": "code",
   "execution_count": null,
   "id": "c9be9de5",
   "metadata": {},
   "outputs": [],
   "source": [
    "save_dir = tmp_dir + 'source_merge/final_'\n",
    "if not os.path.exists(save_dir):\n",
    "    os.makedirs(save_dir)\n",
    "\n",
    "excel_bhs.to_csv(save_dir + 'Boreholes.csv', index=False)\n",
    "excel_bh_litho.to_csv(save_dir+'Lithologies.csv', index=False)\n",
    "excel_bh_equip.to_csv(save_dir+'Equipments.csv', index=False)\n",
    "excel_bh_soil_sp.to_csv(save_dir+'Soil_samples.csv', index=False)\n",
    "excel_bh_mes.to_csv(save_dir+'Measures.csv', index=False)"
   ]
  },
  {
   "cell_type": "raw",
   "id": "cc08f41d",
   "metadata": {},
   "source": [
    "dataframe_viewer(source_bh, rows=5), dataframe_viewer(source_pz, rows=5)"
   ]
  },
  {
   "cell_type": "code",
   "execution_count": null,
   "id": "f75dd06e",
   "metadata": {},
   "outputs": [],
   "source": [
    "dataframe_viewer(excel_bh_mes, rows=3)"
   ]
  },
  {
   "cell_type": "markdown",
   "id": "8bfbb264",
   "metadata": {},
   "source": [
    "#### ------------------------------------------------------------------------------------------------------------------"
   ]
  },
  {
   "cell_type": "markdown",
   "id": "informed-rwanda",
   "metadata": {},
   "source": [
    "## 3-obsrevations terrain et mesures piézos phase 2.xlsx\n",
    "\n",
    "* **Sheet : 'Piézométrie'**"
   ]
  },
  {
   "cell_type": "code",
   "execution_count": null,
   "id": "intimate-inventory",
   "metadata": {},
   "outputs": [],
   "source": [
    "# New file, so the source variables must be overwritten !!\n",
    "_df=pd.DataFrame()\n",
    "source_mes_pz, source_mes_sol, source_pz, source_prv_eau, source_prv_sol =  _df, _df, _df, _df, _df\n",
    "source_ukw, source_an, source_litho, source_bh = _df, _df, _df, _df"
   ]
  },
  {
   "cell_type": "code",
   "execution_count": null,
   "id": "variable-remains",
   "metadata": {},
   "outputs": [],
   "source": [
    "tmp_dir=ROOT_DIR + '/CF_data/Result_traitem/observ_terrain/'\n",
    "sheet='Piezometrie'"
   ]
  },
  {
   "cell_type": "code",
   "execution_count": null,
   "id": "black-thinking",
   "metadata": {},
   "outputs": [],
   "source": [
    "df = pd.read_excel(ROOT_DIR + '/CF_data/Data_UMONS/Contamination/Résultats et mesures Siterem/résultats phase 2/'\n",
    "                   'obsrevations terrain et mesures piézos phase 2.xlsx', sheet_name='Piézométrie', skiprows=1)\n",
    "df=na_line_drop(df,0)\n",
    "df=na_col_drop(df,1)\n",
    "df.replace(r'<|>','', inplace=True, regex=True)\n",
    "df.replace(r'-$',np.nan, inplace=True, regex=True)\n",
    "\n",
    "dataframe_viewer(df)"
   ]
  },
  {
   "cell_type": "code",
   "execution_count": null,
   "id": "worth-sacrifice",
   "metadata": {},
   "outputs": [],
   "source": [
    "sdf=df[df.columns.to_list()[:3]]\n",
    "sdf=na_line_drop(sdf,0)\n",
    "sdf.rename(columns={'Niveau \\npiézométrique':'Niv_eau_sol', 'Commentaires ':'Date_prv'}, inplace=True)"
   ]
  },
  {
   "cell_type": "code",
   "execution_count": null,
   "id": "recovered-vault",
   "metadata": {},
   "outputs": [],
   "source": [
    "sdf2=df.loc[:11, df.columns.to_list()[3:-1]]\n",
    "sdf2.rename(columns={'Unnamed: 7':'Date_prv', 'Unnamed: 8':'Nappe', 'Unnamed: 9':'ID', 'NP/piézo [m]':'Niv_eau_pz',\n",
    "       'dim. piezo hors sol [m]':'Dim_pz_sol', 'NP/sol [m]':'Niv_eau_sol', 'Prof. piézo/piézo [m]':'Long_pz',\n",
    "       'Prof. piézo/sol [m]':'Long_pz_sol', 'CE [mS/cm]':'CE','t° [°C]':'Temp','O2 dissous\\n[%]':'O_diss', \n",
    "        'Observations':'Rmq'}, \n",
    "           inplace=True)"
   ]
  },
  {
   "cell_type": "code",
   "execution_count": null,
   "id": "disturbed-mediterranean",
   "metadata": {},
   "outputs": [],
   "source": [
    "for i in range(len(sdf2['ID'])):\n",
    "    sdf2.loc[i,'ID']=re.sub(r'^P','F', sdf2.loc[i,'ID'])\n",
    "    \n",
    "    if pd.isnull(sdf2.loc[i,'CE']) and not pd.isnull(sdf2.loc[i,'CE [µS/cm]']):\n",
    "        sdf2.loc[i,'CE']=sdf2.loc[i,'CE [µS/cm]']/1000\n",
    "\n",
    "sdf2.drop(['CE [µS/cm]'], axis=1, inplace=True)"
   ]
  },
  {
   "cell_type": "code",
   "execution_count": null,
   "id": "internal-astrology",
   "metadata": {},
   "outputs": [],
   "source": [
    "df=df.loc[14:, df.columns.to_list()[3:-1]]\n",
    "df.rename(columns={'Unnamed: 7':'Date_prv', 'Unnamed: 8':'Nappe', 'Unnamed: 9':'ID', 'NP/piézo [m]':'Niv_eau_pz',\n",
    "       'dim. piezo hors sol [m]':'Dim_pz_sol', 'NP/sol [m]':'Niv_eau_sol', 'Prof. piézo/piézo [m]':'Long_pz',\n",
    "       'Prof. piézo/sol [m]':'Long_pz_sol', 'CE [mS/cm]':'CE','t° [°C]':'Temp','O2 dissous\\n[%]':'O_diss', \n",
    "        'Observations':'Rmq'}, \n",
    "           inplace=True)\n",
    "df.drop([19,20], inplace=True)\n",
    "df.reset_index(drop=True, inplace=True)"
   ]
  },
  {
   "cell_type": "code",
   "execution_count": null,
   "id": "received-jersey",
   "metadata": {},
   "outputs": [],
   "source": [
    "for i in range(len(df['ID'])):\n",
    "    df.loc[i,'ID']=re.sub(r'^P','F', df.loc[i,'ID'])\n",
    "    \n",
    "    if pd.isnull(df.loc[i,'CE']) and not pd.isnull(df.loc[i,'CE [µS/cm]']):\n",
    "        df.loc[i,'CE']=df.loc[i,'CE [µS/cm]']/1000\n",
    "        \n",
    "df.drop(['CE [µS/cm]', 'O_diss'], axis=1, inplace=True)"
   ]
  },
  {
   "cell_type": "code",
   "execution_count": null,
   "id": "every-routine",
   "metadata": {},
   "outputs": [],
   "source": [
    "df=na_col_drop(df, 5)\n",
    "sdf2=na_col_drop(sdf2, 5,)"
   ]
  },
  {
   "cell_type": "raw",
   "id": "undefined-suspect",
   "metadata": {},
   "source": [
    "dataframe_viewer(sdf2, rows=5), dataframe_viewer(df, rows=5)"
   ]
  },
  {
   "cell_type": "code",
   "execution_count": null,
   "id": "configured-cause",
   "metadata": {},
   "outputs": [],
   "source": [
    "prv_eau, conflict_df=data_merger(sdf2, df, how='outer', on='ID')"
   ]
  },
  {
   "cell_type": "code",
   "execution_count": null,
   "id": "confident-technique",
   "metadata": {},
   "outputs": [],
   "source": [
    "dataframe_viewer(prv_eau, rows=5, un_val='ID')"
   ]
  },
  {
   "cell_type": "code",
   "execution_count": null,
   "id": "agricultural-moderator",
   "metadata": {},
   "outputs": [],
   "source": [
    "prv_eau=prv_eau[['ID','Date_prv','Long_pz', 'Long_pz_sol','Dim_pz_sol','Nappe','Niv_eau_sol', 'Niv_eau_pz',\n",
    "                 'pH', 'Temp', 'CE', 'ORP','Rmq']]\n",
    "prv_eau.insert(1,'Type_ech','Eau')\n",
    "\n",
    "source_prv_eau=prv_eau"
   ]
  },
  {
   "cell_type": "code",
   "execution_count": null,
   "id": "alleged-collection",
   "metadata": {},
   "outputs": [],
   "source": [
    "if not os.path.exists(tmp_dir):\n",
    "    os.makedirs(tmp_dir), os.makedirs(tmp_dir+'source_merge/') \n",
    "\n",
    "prv_eau.to_csv(tmp_dir+sheet+'_Samples-water.csv', index=False)\n",
    "\n",
    "source_prv_eau.to_csv(tmp_dir+'source_merge/source_Samples-water.csv', index=False)\n",
    "\n",
    "print(f'source_bh:{len(source_bh)} ; source_pz:{len(source_pz)} ; source_litho:{len(source_litho)} ; '\n",
    "     f'source_Fac-uknw:{len(source_ukw)} ; source_an:{len(source_an)} ;\\nsource_prv_sol:{len(source_prv_sol)} ;'\n",
    "     f'source_prv_eau:{len(source_prv_eau)} ; source_mes_pz:{len(source_mes_pz)} ; source_mes_sol:{len(source_mes_sol)} ;')"
   ]
  },
  {
   "cell_type": "markdown",
   "id": "realistic-healthcare",
   "metadata": {},
   "source": [
    "--------------------------------------------------------------------------------------------------------"
   ]
  },
  {
   "cell_type": "markdown",
   "id": "breeding-siemens",
   "metadata": {},
   "source": [
    "## 4-profondeur de contact campagne de forages octobre 2019.xlsx\n",
    "\n",
    "* **Sheet : 'Feuil1'**"
   ]
  },
  {
   "cell_type": "code",
   "execution_count": null,
   "id": "placed-cologne",
   "metadata": {},
   "outputs": [],
   "source": [
    "# New file, so the source variables must be overwritten !!\n",
    "_df=pd.DataFrame()\n",
    "source_mes_pz, source_mes_sol, source_pz, source_prv_eau, source_prv_sol =  _df, _df, _df, _df, _df\n",
    "source_ukw, source_an, source_litho, source_bh = _df, _df, _df, _df"
   ]
  },
  {
   "cell_type": "code",
   "execution_count": null,
   "id": "patient-corner",
   "metadata": {},
   "outputs": [],
   "source": [
    "tmp_dir=ROOT_DIR + '/CF_data/Result_traitem/Prof_contact_sol_forage/'\n",
    "sheet='Feuil1'"
   ]
  },
  {
   "cell_type": "code",
   "execution_count": null,
   "id": "instant-carolina",
   "metadata": {},
   "outputs": [],
   "source": [
    "df = pd.read_excel(ROOT_DIR + '/CF_data/Data_UMONS/ouvrages/profondeur de contact campagne de forages octobre 2019.xlsx', \n",
    "                   sheet_name='Feuil1', skiprows=2)\n",
    "df=na_line_drop(df,0)\n",
    "df=na_col_drop(df,1)\n",
    "df.replace(r'<|>','', inplace=True, regex=True)\n",
    "df.replace(r'-$',np.nan, inplace=True, regex=True)\n",
    "\n",
    "dataframe_viewer(df)"
   ]
  },
  {
   "cell_type": "code",
   "execution_count": null,
   "id": "early-wrong",
   "metadata": {},
   "outputs": [],
   "source": [
    "df.rename(columns={'n°forage ':'ID','profondeur(m)':'Long_for','x':'X', 'y':'Y', 'z':'Z'}, inplace=True)\n",
    "df['Type']='Forage' # type is not defined clearly in data\n",
    "df['ID']=df['ID'].apply(lambda x: 'F'+str(x).replace('.0',''))\n",
    "\n",
    "bh=df"
   ]
  },
  {
   "cell_type": "code",
   "execution_count": null,
   "id": "exempt-weight",
   "metadata": {},
   "outputs": [],
   "source": [
    "source_bh=bh"
   ]
  },
  {
   "cell_type": "code",
   "execution_count": null,
   "id": "severe-token",
   "metadata": {},
   "outputs": [],
   "source": [
    "if not os.path.exists(tmp_dir):\n",
    "    os.makedirs(tmp_dir), os.makedirs(tmp_dir+'source_merge/') \n",
    "\n",
    "bh.to_csv(tmp_dir+sheet+'_Boreholes.csv', index=False)\n",
    "source_bh.to_csv(tmp_dir+'source_merge/source_Boreholes.csv', index=False)\n",
    "\n",
    "print(f'source_bh:{len(source_bh)} ; source_pz:{len(source_pz)} ; source_litho:{len(source_litho)} ; '\n",
    "     f'source_Fac-uknw:{len(source_ukw)} ; source_an:{len(source_an)} ;\\nsource_prv_sol:{len(source_prv_sol)} ;'\n",
    "     f'source_prv_eau:{len(source_prv_eau)} ; source_mes_pz:{len(source_mes_pz)} ; source_mes_sol:{len(source_mes_sol)} ;')"
   ]
  },
  {
   "cell_type": "markdown",
   "id": "municipal-restriction",
   "metadata": {},
   "source": [
    "--------------------------------------------------------------------------------------------------------"
   ]
  },
  {
   "cell_type": "markdown",
   "id": "dedicated-houston",
   "metadata": {},
   "source": [
    "## 5-Forages_Pilote_Decoupe.xlsx\n",
    "\n",
    "* **Sheet : 'leve'**"
   ]
  },
  {
   "cell_type": "code",
   "execution_count": null,
   "id": "complicated-speaker",
   "metadata": {},
   "outputs": [],
   "source": [
    "# New file, so the source variables must be overwritten !!\n",
    "_df=pd.DataFrame()\n",
    "source_mes_pz, source_mes_sol, source_pz, source_prv_eau, source_prv_sol =  _df, _df, _df, _df, _df\n",
    "source_ukw, source_an, source_litho, source_bh = _df, _df, _df, _df"
   ]
  },
  {
   "cell_type": "code",
   "execution_count": null,
   "id": "hourly-lewis",
   "metadata": {},
   "outputs": [],
   "source": [
    "tmp_dir=ROOT_DIR + '/CF_data/Result_traitem/Forage_Pilote/'\n",
    "sheet='leve_Z_elect_pos'"
   ]
  },
  {
   "cell_type": "code",
   "execution_count": null,
   "id": "approved-situation",
   "metadata": {},
   "outputs": [],
   "source": [
    "df = pd.read_excel(ROOT_DIR + '/CF_data/Data_UMONS/geometrie_electrodes_et_sondes/Forages_Pilote_Decoupe.xlsx', \n",
    "                   sheet_name='leve')#, skiprows=0)\n",
    "df=na_line_drop(df,0)\n",
    "df=na_col_drop(df,1)\n",
    "df.replace(r'<|>','', inplace=True, regex=True)\n",
    "df.replace(r'-$',np.nan, inplace=True, regex=True)\n",
    "\n",
    "dataframe_viewer(df, rows=5)"
   ]
  },
  {
   "cell_type": "code",
   "execution_count": null,
   "id": "beneficial-mainstream",
   "metadata": {},
   "outputs": [],
   "source": [
    "df.columns"
   ]
  },
  {
   "cell_type": "code",
   "execution_count": null,
   "id": "studied-given",
   "metadata": {},
   "outputs": [],
   "source": [
    "df.rename(columns={'Ref_puits':'ID','Niveau mesuré':'Z_mes', 'Niveau corrigé':'Z','Z_diff [m] repere_local':'Diff_Z_local',\n",
    "                   'long_fin [m]':'Long_for','Pos_Inox_#1 [m]':'Pos_Inox_#1', \n",
    "                   'Pos_Inox_#6 [m]':'Pos_Inox_#6', 'Pos_Impol_#3 [m]':'Pos_Impol_#3'}, inplace=True)"
   ]
  },
  {
   "cell_type": "code",
   "execution_count": null,
   "id": "coated-formation",
   "metadata": {},
   "outputs": [],
   "source": [
    "df['Type']='Forage' # type is not defined clearly in data\n",
    "df['ID']=df['ID'].apply(lambda x: 'F'+str(x).replace('.0',''))\n",
    "\n",
    "elc = df[['ID','Pos_Inox_#6', 'Pos_Impol_#3']] # 'ID' is for boreholes\n",
    "bh = df[['ID','Z','Diff_Z_local','Long_for', 'Type']]# Z_local origin = 145.5 [m]"
   ]
  },
  {
   "cell_type": "code",
   "execution_count": null,
   "id": "phantom-accessory",
   "metadata": {},
   "outputs": [],
   "source": [
    "source_bh = bh\n",
    "source_elc = elc"
   ]
  },
  {
   "cell_type": "code",
   "execution_count": null,
   "id": "other-technology",
   "metadata": {},
   "outputs": [],
   "source": [
    "if not os.path.exists(tmp_dir):\n",
    "    os.makedirs(tmp_dir), os.makedirs(tmp_dir+'source_merge/') \n",
    "\n",
    "bh.to_csv(tmp_dir+sheet+'_Boreholes.csv', index=False)\n",
    "elc.to_csv(tmp_dir+sheet+'_Electrodes.csv', index=False)\n",
    "\n",
    "source_bh.to_csv(tmp_dir+'source_merge/source_Boreholes.csv', index=False)\n",
    "source_elc.to_csv(tmp_dir+'source_merge/source_Electrodes.csv', index=False)\n",
    "\n",
    "print(f'source_bh:{len(source_bh)} ; source_pz:{len(source_pz)} ; source_litho:{len(source_litho)} ; '\n",
    "     f'source_Fac-uknw:{len(source_ukw)} ; source_an:{len(source_an)} ;\\nsource_prv_sol:{len(source_prv_sol)} ;'\n",
    "     f'source_prv_eau:{len(source_prv_eau)} ; source_mes_pz:{len(source_mes_pz)} ; source_mes_sol:{len(source_mes_sol)} ;')"
   ]
  },
  {
   "cell_type": "markdown",
   "id": "developing-palmer",
   "metadata": {},
   "source": [
    "--------------------------------------------------------------------------------------------------------"
   ]
  },
  {
   "cell_type": "markdown",
   "id": "imperial-belize",
   "metadata": {},
   "source": [
    "## 6-Liste XY investigations.xlsx\n",
    "* **Sheet : 'SOL_EAU'**"
   ]
  },
  {
   "cell_type": "code",
   "execution_count": null,
   "id": "awful-configuration",
   "metadata": {},
   "outputs": [],
   "source": [
    "# New file, so the source variables must be overwritten !!\n",
    "_df=pd.DataFrame()\n",
    "source_mes_pz, source_mes_sol, source_pz, source_prv_eau, source_prv_sol =  _df, _df, _df, _df, _df\n",
    "source_ukw, source_an, source_litho, source_bh = _df, _df, _df, _df"
   ]
  },
  {
   "cell_type": "code",
   "execution_count": null,
   "id": "rental-trustee",
   "metadata": {},
   "outputs": [],
   "source": [
    "tmp_dir=ROOT_DIR + '/CF_data/Result_traitem/Liste_XY/'\n",
    "sheet='Sol_Eau'"
   ]
  },
  {
   "cell_type": "code",
   "execution_count": null,
   "id": "operating-developer",
   "metadata": {},
   "outputs": [],
   "source": [
    "df = pd.read_excel(ROOT_DIR + '/CF_data/Data_UMONS/Contamination/Doc_SITEREM/Etude de caracterisation. SITEREM - 2011/Documents '\n",
    "                   'supplémentaires/Liste XY investigations.xlsx', sheet_name='SOL')#, skiprows=4)\n",
    "df['Type_ech']='Sol'\n",
    "\n",
    "df1 = pd.read_excel(ROOT_DIR + '/CF_data/Data_UMONS/Contamination/Doc_SITEREM/Etude de caracterisation. SITEREM - 2011/Documents '\n",
    "                   'supplémentaires/Liste XY investigations.xlsx', sheet_name='EAU PR')#, skiprows=4)\n",
    "df1['Type_ech']='Eau'\n",
    "df1['Nappe']='Socle'\n",
    "\n",
    "df2 = pd.read_excel(ROOT_DIR + '/CF_data/Data_UMONS/Contamination/Doc_SITEREM/Etude de caracterisation. SITEREM - 2011/Documents '\n",
    "                   'supplémentaires/Liste XY investigations.xlsx', sheet_name='EAU RB')#, skiprows=4)\n",
    "df2['Type_ech']='Eau'\n",
    "df2['Nappe']='remblais'\n",
    "\n",
    "df3 = pd.read_excel(ROOT_DIR + '/CF_data/Data_UMONS/Contamination/Doc_SITEREM/Etude de caracterisation. SITEREM - 2011/Documents '\n",
    "                   'supplémentaires/Liste XY investigations.xlsx', sheet_name='EAU ALL')#, skiprows=4)\n",
    "df3['Type_ech']='Eau'\n",
    "df3['Nappe']='Alluvions'"
   ]
  },
  {
   "cell_type": "code",
   "execution_count": null,
   "id": "coastal-methodology",
   "metadata": {},
   "outputs": [],
   "source": [
    "df2=na_line_drop(df2,0)\n",
    "df2=na_col_drop(df2,1)"
   ]
  },
  {
   "cell_type": "code",
   "execution_count": null,
   "id": "computational-abortion",
   "metadata": {
    "scrolled": true
   },
   "outputs": [],
   "source": [
    "mdf, conflict_df=data_merger(df1, df2, 'outer', 'N°')"
   ]
  },
  {
   "cell_type": "code",
   "execution_count": null,
   "id": "subsequent-straight",
   "metadata": {},
   "outputs": [],
   "source": [
    "mdf=mdf.append(df3)\n",
    "mdf=mdf.dropna(how='any', subset=['N°'])"
   ]
  },
  {
   "cell_type": "code",
   "execution_count": null,
   "id": "studied-cologne",
   "metadata": {},
   "outputs": [],
   "source": [
    "mdf, conflict_df=data_merger(mdf, df, 'outer', 'N°') "
   ]
  },
  {
   "cell_type": "code",
   "execution_count": null,
   "id": "former-zimbabwe",
   "metadata": {},
   "outputs": [],
   "source": [
    "mdf.rename(columns={'N°':'ID'}, inplace=True)\n",
    "mdf['Type'] = 'Piezo'\n",
    "pz=mdf\n",
    "source_pz = pz # we only have boreholes 'ID' here, no Z, no date"
   ]
  },
  {
   "cell_type": "code",
   "execution_count": null,
   "id": "personalized-jaguar",
   "metadata": {},
   "outputs": [],
   "source": [
    "dataframe_viewer(source_bh, rows=5)"
   ]
  },
  {
   "cell_type": "code",
   "execution_count": null,
   "id": "precise-retreat",
   "metadata": {},
   "outputs": [],
   "source": [
    "if not os.path.exists(tmp_dir):\n",
    "    os.makedirs(tmp_dir), os.makedirs(tmp_dir+'source_merge/') \n",
    "\n",
    "pz.to_csv(tmp_dir+sheet+'_Piezometers.csv', index=False)    \n",
    "source_pz.to_csv(tmp_dir+'source_merge/source_Piezometers.csv', index=False)\n",
    "\n",
    "print(f'source_bh:{len(source_bh)} ; source_pz:{len(source_pz)} ; source_litho:{len(source_litho)} ; '\n",
    "     f'source_Fac-uknw:{len(source_ukw)} ; source_an:{len(source_an)} ;\\nsource_prv_sol:{len(source_prv_sol)} ;'\n",
    "     f'source_prv_eau:{len(source_prv_eau)} ; source_mes_pz:{len(source_mes_pz)} ; source_mes_sol:{len(source_mes_sol)} ;')"
   ]
  },
  {
   "cell_type": "markdown",
   "id": "transparent-connecticut",
   "metadata": {},
   "source": [
    "--------------------------------------------------------------------------------------------------------"
   ]
  },
  {
   "cell_type": "markdown",
   "id": "express-library",
   "metadata": {},
   "source": [
    "## 7-Résultats phase 1_MEMORIS.xls\n",
    "* **Sheet : 'Résult SOL'**"
   ]
  },
  {
   "cell_type": "code",
   "execution_count": null,
   "id": "employed-military",
   "metadata": {},
   "outputs": [],
   "source": [
    "# New file, so the source variables must be overwritten !!\n",
    "_df=pd.DataFrame()\n",
    "source_mes_pz, source_mes_sol, source_pz, source_prv_eau, source_prv_sol =  _df, _df, _df, _df, _df\n",
    "source_ukw, source_an, source_litho, source_bh = _df, _df, _df, _df"
   ]
  },
  {
   "cell_type": "code",
   "execution_count": null,
   "id": "white-pursuit",
   "metadata": {},
   "outputs": [],
   "source": [
    "tmp_dir=ROOT_DIR + '/CF_data/Result_traitem/Phase_1_Memoris/'\n",
    "sheet='Result_sol'"
   ]
  },
  {
   "cell_type": "code",
   "execution_count": null,
   "id": "concerned-leader",
   "metadata": {},
   "outputs": [],
   "source": [
    "df = pd.read_excel(ROOT_DIR + '/CF_data/Data_UMONS/Contamination/Résultats et mesures Siterem/résultats phase 1/'\n",
    "                   'Résultats phase 1_MEMORIS.xls', sheet_name='Résult SOL', skiprows=4)\n",
    "df=na_line_drop(df,0)\n",
    "df=na_col_drop(df,1)\n",
    "df.replace(r'<|>','', inplace=True, regex=True)\n",
    "df.replace(r'-$',np.nan, inplace=True, regex=True)\n",
    "\n",
    "dataframe_viewer(df, rows=5)"
   ]
  },
  {
   "cell_type": "code",
   "execution_count": null,
   "id": "satisfied-constitutional",
   "metadata": {},
   "outputs": [],
   "source": [
    "prv_sol=df.loc[:35]\n",
    "an=df.loc[36:]"
   ]
  },
  {
   "cell_type": "code",
   "execution_count": null,
   "id": "pleasant-prayer",
   "metadata": {},
   "outputs": [],
   "source": [
    "an.loc[0.5] = df.loc[0] # put data on first line\n",
    "an = an.sort_index().reset_index(drop=True)"
   ]
  },
  {
   "cell_type": "code",
   "execution_count": null,
   "id": "republican-physiology",
   "metadata": {},
   "outputs": [],
   "source": [
    "prv_sol=prv_sol.transpose()\n",
    "prv_sol.reset_index(drop=True, inplace=True)\n",
    "prv_sol=col_ren(prv_sol, 1)"
   ]
  },
  {
   "cell_type": "code",
   "execution_count": null,
   "id": "designed-industry",
   "metadata": {},
   "outputs": [],
   "source": [
    "prv_sol.drop(list(range(5)), axis=0, inplace=True)\n",
    "prv_sol.reset_index(drop=True, inplace=True)\n",
    "prv_sol=na_col_drop(prv_sol,1)\n",
    "prv_sol=na_line_drop(prv_sol,3)\n",
    "prv_sol.reset_index(drop=True, inplace=True)"
   ]
  },
  {
   "cell_type": "code",
   "execution_count": null,
   "id": "specialized-chemical",
   "metadata": {},
   "outputs": [],
   "source": [
    "name=['ID_ech', 'Description','Organo', 'Long_for', 'Refus','Ech_top', 'Ech_base', 'MS','Fract_2','Fract_2+']\n",
    "prv_sol=col_ren(prv_sol, name=name, mode=1)"
   ]
  },
  {
   "cell_type": "code",
   "execution_count": null,
   "id": "accomplished-exception",
   "metadata": {},
   "outputs": [],
   "source": [
    "for i in range(len(prv_sol['Description'])):\n",
    "    x = prv_sol.loc[i,'Description']\n",
    "    if x=='R': prv_sol.loc[i,'Description']='Remblais'\n",
    "    elif x=='L': prv_sol.loc[i,'Description']='Limons'\n",
    "\n",
    "prv_sol['Refus']=prv_sol['Refus'].apply(lambda x: 'x' if not re.search('x|X', str(x)) else '')\n",
    "prv_sol.insert(1,'Type_ech','Sol')"
   ]
  },
  {
   "cell_type": "code",
   "execution_count": null,
   "id": "solar-lottery",
   "metadata": {
    "scrolled": false
   },
   "outputs": [],
   "source": [
    "dataframe_viewer(prv_sol, rows=3)"
   ]
  },
  {
   "cell_type": "code",
   "execution_count": null,
   "id": "armed-steal",
   "metadata": {},
   "outputs": [],
   "source": [
    "an=an.transpose()\n",
    "an.reset_index(drop=True, inplace=True)"
   ]
  },
  {
   "cell_type": "code",
   "execution_count": null,
   "id": "invalid-bubble",
   "metadata": {},
   "outputs": [],
   "source": [
    "an=col_ren(an, 1)"
   ]
  },
  {
   "cell_type": "code",
   "execution_count": null,
   "id": "activated-wallpaper",
   "metadata": {},
   "outputs": [],
   "source": [
    "an.replace(r'<|>','', inplace=True, regex=True)\n",
    "an.replace(r'-',np.nan, inplace=True, regex=True)\n",
    "an.rename(columns={an.columns[0]:'ID_ech'}, inplace=True)"
   ]
  },
  {
   "cell_type": "code",
   "execution_count": null,
   "id": "enabling-travel",
   "metadata": {},
   "outputs": [],
   "source": [
    "an.drop(list(range(5)), axis=0, inplace=True)\n",
    "an.reset_index(drop=True, inplace=True)\n",
    "an=na_col_drop(an,1)\n",
    "an.insert(1,'Type_ech','Sol')"
   ]
  },
  {
   "cell_type": "code",
   "execution_count": null,
   "id": "crude-degree",
   "metadata": {},
   "outputs": [],
   "source": [
    "an=col_ren(an, name=pol_field_model, mode=1)"
   ]
  },
  {
   "cell_type": "code",
   "execution_count": null,
   "id": "ab3cedba",
   "metadata": {
    "scrolled": false
   },
   "outputs": [],
   "source": [
    "dataframe_viewer(prv_sol, rows=3)"
   ]
  },
  {
   "cell_type": "code",
   "execution_count": null,
   "id": "italian-architecture",
   "metadata": {},
   "outputs": [],
   "source": [
    "dataframe_viewer(an, rows=5) "
   ]
  },
  {
   "cell_type": "raw",
   "id": "ranking-underwear",
   "metadata": {},
   "source": [
    "set(prv_sol['ID_ech']).symmetric_difference(set(an['ID_ech'])) #lacking ID between the 2 sets"
   ]
  },
  {
   "cell_type": "code",
   "execution_count": null,
   "id": "sacred-collect",
   "metadata": {},
   "outputs": [],
   "source": [
    "source_prv_sol=prv_sol\n",
    "source_an=an"
   ]
  },
  {
   "cell_type": "code",
   "execution_count": null,
   "id": "arbitrary-driver",
   "metadata": {
    "scrolled": false
   },
   "outputs": [],
   "source": [
    "if not os.path.exists(tmp_dir):\n",
    "    os.makedirs(tmp_dir), os.makedirs(tmp_dir+'source_merge/') \n",
    "\n",
    "#bh.to_csv(tmp_dir+'source_merge/source_Boreholes.csv', index=False)\n",
    "#pz.to_csv(tmp_dir+sheet+'_Piezometers.csv', index=False)\n",
    "#ouv.to_csv(tmp_dir+sheet+'_Unkown-facility.csv', index=False)\n",
    "#litho.to_csv(tmp_dir+sheet+'_Lithology.csv', index=False)\n",
    "#mes_pz.to_csv(tmp_dir+sheet+'_Measures.csv', index=False)\n",
    "#mes_sol.to_csv(tmp_dir+sheet+'_Measures-soil.csv', index=False)\n",
    "#prv_eau.to_csv(tmp_dir+sheet+'_Samples-water.csv', index=False)\n",
    "prv_sol.to_csv(tmp_dir+sheet+'_Samples-soil.csv', index=False)\n",
    "an.to_csv(tmp_dir+sheet+'_Analysis.csv', index=False)\n",
    "\n",
    "\n",
    "#source_bh.to_csv(tmp_dir+'source_merge/source_Boreholes.csv', index=False)\n",
    "#source_pz.to_csv(tmp_dir+'source_merge/source_Piezometers.csv', index=False)\n",
    "#source_ukw.to_csv(tmp_dir+'source_merge/source_Unkown-facility.csv', index=False)\n",
    "#source_litho.to_csv(tmp_dir+'source_merge/source_Lithology.csv', index=False)\n",
    "#source_mes_pz.to_csv(tmp_dir+'source_merge/source_Measures.csv', index=False)\n",
    "#source_mes_sol.to_csv(tmp_dir+'source_merge/source_Measures-soil.csv', index=False)\n",
    "#source_prv_eau.to_csv(tmp_dir+'source_merge/source_Samples-water.csv', index=False)\n",
    "source_prv_sol.to_csv(tmp_dir+'source_merge/source_Samples-soil.csv', index=False)\n",
    "source_an.to_csv(tmp_dir+'source_merge/source_Analysis.csv', index=False)\n",
    "\n",
    "\n",
    "print(f'source_bh:{len(source_bh)} ; source_pz:{len(source_pz)} ; source_litho:{len(source_litho)} ; '\n",
    "     f'source_Fac-uknw:{len(source_ukw)} ; source_an:{len(source_an)} ;\\nsource_prv_sol:{len(source_prv_sol)} ;'\n",
    "     f'source_prv_eau:{len(source_prv_eau)} ; source_mes_pz:{len(source_mes_pz)} ; source_mes_sol:{len(source_mes_sol)} ;')"
   ]
  },
  {
   "cell_type": "code",
   "execution_count": null,
   "id": "50c1059c",
   "metadata": {},
   "outputs": [],
   "source": [
    "excel_soil_an, conflict_df = data_merger(source_an, source_prv_sol, how='outer', on='ID_ech', dist_max=1., drop_skip_col=['index'])"
   ]
  },
  {
   "cell_type": "code",
   "execution_count": null,
   "id": "f2319cee",
   "metadata": {},
   "outputs": [],
   "source": [
    "excel_soil_an['ID'] = excel_soil_an['ID_ech'].apply(lambda x: x.split('/')[0]) "
   ]
  },
  {
   "cell_type": "code",
   "execution_count": null,
   "id": "81035fdb",
   "metadata": {},
   "outputs": [],
   "source": [
    "save_dir = tmp_dir + 'source_merge/final_'\n",
    "if not os.path.exists(save_dir):\n",
    "    os.makedirs(save_dir)\n",
    "\n",
    "#excel_bhs.to_csv(save_dir + 'Boreholes.csv', index=False)\n",
    "#excel_bh_litho.to_csv(save_dir+'Lithologies.csv', index=False)\n",
    "#excel_bh_equip.to_csv(save_dir+'Equipments.csv', index=False)\n",
    "#excel_bh_soil_sp.to_csv(save_dir+'Soil_samples.csv', index=False)\n",
    "#excel_bh_water_sp.to_csv(save_dir+'Water_samples.csv', index=False)\n",
    "#excel_bh_soil_an.to_csv(save_dir+'Soil_analysis.csv', index=False)\n",
    "#excel_bh_water_an.to_csv(save_dir+'water_analysis.csv', index=False)\n",
    "#excel_bh_mes.to_csv(save_dir+'Measures.csv', index=False)\n",
    "#excel_bh_fac.to_csv(save_dir+'Unknow_facilities.csv', index=False)\n",
    "\n",
    "excel_soil_an.to_csv(save_dir+'Soil_analysis.csv', index=False)"
   ]
  },
  {
   "cell_type": "markdown",
   "id": "welsh-expense",
   "metadata": {},
   "source": [
    "* **Sheet : 'Résult EAU'**"
   ]
  },
  {
   "cell_type": "code",
   "execution_count": null,
   "id": "identical-biodiversity",
   "metadata": {},
   "outputs": [],
   "source": [
    "tmp_dir=ROOT_DIR + '/CF_data/Result_traitem/Phase_1_Memoris/'\n",
    "sheet='Result_eau'"
   ]
  },
  {
   "cell_type": "code",
   "execution_count": null,
   "id": "damaged-delivery",
   "metadata": {
    "scrolled": false
   },
   "outputs": [],
   "source": [
    "df = pd.read_excel(ROOT_DIR + '/CF_data/Data_UMONS/Contamination/Résultats et mesures Siterem/résultats phase 1/'\n",
    "                   'Résultats phase 1_MEMORIS.xls', sheet_name='Résult EAU', skiprows=4)\n",
    "df=na_line_drop(df,0)\n",
    "df=na_col_drop(df,1)\n",
    "df.replace(r'<|>','', inplace=True, regex=True)\n",
    "df.replace(r'-$',np.nan, inplace=True, regex=True)\n",
    "dataframe_viewer(df, rows=5)"
   ]
  },
  {
   "cell_type": "code",
   "execution_count": null,
   "id": "present-indicator",
   "metadata": {},
   "outputs": [],
   "source": [
    "prv_eau=df.loc[:32]\n",
    "an=df.loc[33:]"
   ]
  },
  {
   "cell_type": "code",
   "execution_count": null,
   "id": "interstate-animal",
   "metadata": {},
   "outputs": [],
   "source": [
    "an.loc[0.5] = df.loc[0] # put data on first line\n",
    "an = an.sort_index().reset_index(drop=True)"
   ]
  },
  {
   "cell_type": "code",
   "execution_count": null,
   "id": "dated-philip",
   "metadata": {},
   "outputs": [],
   "source": [
    "prv_eau=prv_eau.transpose()\n",
    "prv_eau.reset_index(drop=True, inplace=True)\n",
    "prv_eau=col_ren(prv_eau, 1)"
   ]
  },
  {
   "cell_type": "code",
   "execution_count": null,
   "id": "precious-furniture",
   "metadata": {},
   "outputs": [],
   "source": [
    "prv_eau['CE']=prv_eau['CE'].apply(lambda x: pd.to_numeric(x)/1000 \n",
    "                                  if re.search('^\\d+', str(x)) and not pd.isnull(x) else np.nan)"
   ]
  },
  {
   "cell_type": "code",
   "execution_count": null,
   "id": "exciting-velvet",
   "metadata": {},
   "outputs": [],
   "source": [
    "prv_eau.drop(list(range(5)), axis=0, inplace=True)\n",
    "prv_eau.reset_index(drop=True, inplace=True)"
   ]
  },
  {
   "cell_type": "code",
   "execution_count": null,
   "id": "hired-eleven",
   "metadata": {},
   "outputs": [],
   "source": [
    "prv_eau=dble_col_drop(prv_eau)"
   ]
  },
  {
   "cell_type": "raw",
   "id": "average-importance",
   "metadata": {},
   "source": [
    "prv_eau.drop(columns=prv_eau.columns[[8,16,21,27]], axis=1, inplace=True) "
   ]
  },
  {
   "cell_type": "code",
   "execution_count": null,
   "id": "continued-greeting",
   "metadata": {},
   "outputs": [],
   "source": [
    "prv_eau=na_col_drop(prv_eau,1)\n",
    "prv_eau=na_line_drop(prv_eau,3)\n",
    "prv_eau.reset_index(drop=True, inplace=True)"
   ]
  },
  {
   "cell_type": "code",
   "execution_count": null,
   "id": "premier-absence",
   "metadata": {},
   "outputs": [],
   "source": [
    "name=['ID_ech','Date_prv','Num_maille','Affectation','X','Y','Zsol','Long_for','Prof_crep','Long_pz',\n",
    "      'Niv_eau_sol','pH','CE','T']\n",
    "prv_eau=col_ren(prv_eau, name=name, mode=1)\n",
    "prv_eau.insert(1,'Type_ech','Eau')"
   ]
  },
  {
   "cell_type": "code",
   "execution_count": null,
   "id": "divine-factor",
   "metadata": {},
   "outputs": [],
   "source": [
    "prv_eau['Prof_crep'].replace('\\[|\\]','', regex=True, inplace=True)\n",
    "for i in range(len(prv_eau)):\n",
    "    c=prv_eau.loc[i,'Prof_crep']\n",
    "    prv_eau.loc[i,'Equip_top']=c.split('-')[0]\n",
    "    prv_eau.loc[i,'Equip_base']=c.split('-')[1]\n",
    "\n",
    "prv_eau['Type_equip'] = 'Crepine'\n",
    "prv_eau.drop(columns=['Prof_crep'], inplace=True)"
   ]
  },
  {
   "cell_type": "code",
   "execution_count": null,
   "id": "handed-veteran",
   "metadata": {},
   "outputs": [],
   "source": [
    "prv_eau['ID_ech'].replace('Canne ', 'Can', inplace=True, regex=True)\n",
    "prv_eau['ID_ech'].replace('\\n', ' ', inplace=True, regex=True)"
   ]
  },
  {
   "cell_type": "code",
   "execution_count": null,
   "id": "saved-coalition",
   "metadata": {
    "scrolled": true
   },
   "outputs": [],
   "source": [
    "pz=prv_eau[['ID_ech','X', 'Y', 'Zsol', 'Long_for','Long_pz', 'Equip_top', 'Equip_base', 'Type_equip']]\n",
    "pz.rename(columns={'ID_ech':'ID'}, inplace=True)\n",
    "pz['Type'] = 'Piezo'"
   ]
  },
  {
   "cell_type": "code",
   "execution_count": null,
   "id": "religious-radiation",
   "metadata": {},
   "outputs": [],
   "source": [
    "for i in range(len(pz.ID)):\n",
    "    c=pz.loc[i, 'ID']\n",
    "    pz.loc[i, 'ID']=re.search(\"(\\w+\\d+(?:\\w)?)\",c).group(1)"
   ]
  },
  {
   "cell_type": "code",
   "execution_count": null,
   "id": "herbal-nudist",
   "metadata": {},
   "outputs": [],
   "source": [
    "pz.drop_duplicates(subset=['ID'], keep='first', ignore_index=True, inplace=True)"
   ]
  },
  {
   "cell_type": "code",
   "execution_count": null,
   "id": "embedded-greene",
   "metadata": {},
   "outputs": [],
   "source": [
    "an=an.transpose()\n",
    "an.reset_index(drop=True, inplace=True)"
   ]
  },
  {
   "cell_type": "code",
   "execution_count": null,
   "id": "mental-bacon",
   "metadata": {},
   "outputs": [],
   "source": [
    "an=col_ren(an, 1)"
   ]
  },
  {
   "cell_type": "code",
   "execution_count": null,
   "id": "insured-traffic",
   "metadata": {},
   "outputs": [],
   "source": [
    "an.replace(r'<|>','', inplace=True, regex=True)\n",
    "an.replace(r'-',np.nan, inplace=True, regex=True)\n",
    "an.rename(columns={an.columns[0]:'ID_ech'}, inplace=True)"
   ]
  },
  {
   "cell_type": "code",
   "execution_count": null,
   "id": "employed-stack",
   "metadata": {},
   "outputs": [],
   "source": [
    "an.drop(list(range(5)), axis=0, inplace=True)\n",
    "an.reset_index(drop=True, inplace=True)"
   ]
  },
  {
   "cell_type": "code",
   "execution_count": null,
   "id": "short-bennett",
   "metadata": {},
   "outputs": [],
   "source": [
    "an.drop(columns=an.columns[[-6,-5]], axis=1, inplace=True)\n",
    "an=na_col_drop(an,1)\n",
    "an.insert(1,'Type_ech','Eau')"
   ]
  },
  {
   "cell_type": "code",
   "execution_count": null,
   "id": "featured-finding",
   "metadata": {},
   "outputs": [],
   "source": [
    "an=col_ren(an, name=pol_field_model, mode=1)"
   ]
  },
  {
   "cell_type": "code",
   "execution_count": null,
   "id": "e1d58e82",
   "metadata": {},
   "outputs": [],
   "source": [
    "an.columns"
   ]
  },
  {
   "cell_type": "code",
   "execution_count": null,
   "id": "appreciated-testing",
   "metadata": {},
   "outputs": [],
   "source": [
    "dataframe_viewer(an, rows=5) "
   ]
  },
  {
   "cell_type": "raw",
   "id": "designed-willow",
   "metadata": {},
   "source": [
    "set(prv_eau['ID_ech']) ^ set(an['ID_ech']) #lacking ID between the 2 sets"
   ]
  },
  {
   "cell_type": "code",
   "execution_count": null,
   "id": "portuguese-elevation",
   "metadata": {},
   "outputs": [],
   "source": [
    "source_pz=pz\n",
    "source_prv_eau=prv_eau\n",
    "#source_an=source_an.append(an)"
   ]
  },
  {
   "cell_type": "code",
   "execution_count": null,
   "id": "e71fb82b",
   "metadata": {},
   "outputs": [],
   "source": [
    "excel_water_an, conflict_df = data_merger(an, source_prv_eau, how='outer', on='ID_ech', dist_max=1., drop_skip_col=['index'])"
   ]
  },
  {
   "cell_type": "code",
   "execution_count": null,
   "id": "1a3b01a7",
   "metadata": {
    "scrolled": false
   },
   "outputs": [],
   "source": [
    "dataframe_viewer(excel_water_an, rows=5)"
   ]
  },
  {
   "cell_type": "code",
   "execution_count": null,
   "id": "94ca2889",
   "metadata": {},
   "outputs": [],
   "source": [
    "for i in range(len(excel_water_an.ID_ech)):\n",
    "    c=excel_water_an.loc[i, 'ID_ech']\n",
    "    excel_water_an.loc[i, 'ID']=re.search(\"(\\w+\\d+(?:\\w)?)\",c).group(1)"
   ]
  },
  {
   "cell_type": "code",
   "execution_count": null,
   "id": "b855ab76",
   "metadata": {},
   "outputs": [],
   "source": [
    "save_dir = tmp_dir + 'source_merge/final_'\n",
    "if not os.path.exists(save_dir):\n",
    "    os.makedirs(save_dir)\n",
    "\n",
    "#excel_bhs.to_csv(save_dir + 'Boreholes.csv', index=False)\n",
    "#excel_bh_litho.to_csv(save_dir+'Lithologies.csv', index=False)\n",
    "#excel_bh_equip.to_csv(save_dir+'Equipments.csv', index=False)\n",
    "#excel_bh_soil_sp.to_csv(save_dir+'Soil_samples.csv', index=False)\n",
    "#excel_bh_water_sp.to_csv(save_dir+'Water_samples.csv', index=False)\n",
    "#excel_bh_soil_an.to_csv(save_dir+'Soil_analysis.csv', index=False)\n",
    "#excel_bh_water_an.to_csv(save_dir+'water_analysis.csv', index=False)\n",
    "#excel_bh_mes.to_csv(save_dir+'Measures.csv', index=False)\n",
    "#excel_bh_fac.to_csv(save_dir+'Unknow_facilities.csv', index=False)\n",
    "\n",
    "excel_water_an.to_csv(save_dir+'Water_analysis.csv', index=False)"
   ]
  },
  {
   "cell_type": "code",
   "execution_count": null,
   "id": "accepting-narrative",
   "metadata": {},
   "outputs": [],
   "source": [
    "if not os.path.exists(tmp_dir):\n",
    "    os.makedirs(tmp_dir), os.makedirs(tmp_dir+'source_merge/') \n",
    "\n",
    "#bh.to_csv(tmp_dir+'source_merge/source_Boreholes.csv', index=False)\n",
    "pz.to_csv(tmp_dir+sheet+'_Piezometers.csv', index=False)\n",
    "#ouv.to_csv(tmp_dir+sheet+'_Unkown-facility.csv', index=False)\n",
    "#litho.to_csv(tmp_dir+sheet+'_Lithology.csv', index=False)\n",
    "#mes_pz.to_csv(tmp_dir+sheet+'_Measures.csv', index=False)\n",
    "#mes_sol.to_csv(tmp_dir+sheet+'_Measures-soil.csv', index=False)\n",
    "prv_eau.to_csv(tmp_dir+sheet+'_Samples-water.csv', index=False)\n",
    "#prv_sol.to_csv(tmp_dir+sheet+'_Samples-soil.csv', index=False)\n",
    "an.to_csv(tmp_dir+sheet+'_Analysis.csv', index=False)\n",
    "\n",
    "\n",
    "#source_bh.to_csv(tmp_dir+'source_merge/source_Boreholes.csv', index=False)\n",
    "source_pz.to_csv(tmp_dir+'source_merge/source_Piezometers.csv', index=False)\n",
    "#source_ukw.to_csv(tmp_dir+'source_merge/source_Unkown-facility.csv', index=False)\n",
    "#source_litho.to_csv(tmp_dir+'source_merge/source_Lithology.csv', index=False)\n",
    "#source_mes_pz.to_csv(tmp_dir+'source_merge/source_Measures.csv', index=False)\n",
    "#source_mes_sol.to_csv(tmp_dir+'source_merge/source_Measures-soil.csv', index=False)\n",
    "source_prv_eau.to_csv(tmp_dir+'source_merge/source_Samples-water.csv', index=False)\n",
    "#source_prv_sol.to_csv(tmp_dir+'source_merge/source_Samples-soil.csv', index=False)\n",
    "source_an.to_csv(tmp_dir+'source_merge/source_Analysis.csv', index=False)\n",
    "\n",
    "\n",
    "print(f'source_bh:{len(source_bh)} ; source_pz:{len(source_pz)} ; source_litho:{len(source_litho)} ; '\n",
    "     f'source_Fac-uknw:{len(source_ukw)} ; source_an:{len(source_an)} ;\\nsource_prv_sol:{len(source_prv_sol)} ;'\n",
    "     f'source_prv_eau:{len(source_prv_eau)} ; source_mes_pz:{len(source_mes_pz)} ; source_mes_sol:{len(source_mes_sol)} ;')"
   ]
  },
  {
   "cell_type": "markdown",
   "id": "western-concord",
   "metadata": {},
   "source": [
    "## 8-Résultats phase 2_MEMORIS.xls\n",
    "* **Sheet : 'Résult SOL'**"
   ]
  },
  {
   "cell_type": "code",
   "execution_count": null,
   "id": "backed-manitoba",
   "metadata": {},
   "outputs": [],
   "source": [
    "# New file, so the source variables must be overwritten !!\n",
    "_df=pd.DataFrame()\n",
    "source_mes_pz, source_mes_sol, source_pz, source_prv_eau, source_prv_sol =  _df, _df, _df, _df, _df\n",
    "source_ukw, source_an, source_litho, source_bh = _df, _df, _df, _df"
   ]
  },
  {
   "cell_type": "code",
   "execution_count": null,
   "id": "conceptual-youth",
   "metadata": {},
   "outputs": [],
   "source": [
    "tmp_dir=ROOT_DIR + '/CF_data/Result_traitem/Phase_2_Memoris/'\n",
    "sheet='Result_SOL'"
   ]
  },
  {
   "cell_type": "code",
   "execution_count": null,
   "id": "thick-black",
   "metadata": {},
   "outputs": [],
   "source": [
    "df = pd.read_excel(ROOT_DIR + '/CF_data/Data_UMONS/Contamination/Résultats et mesures Siterem/résultats phase 2/'\n",
    "                   'Résultats phase 2_MEMORIS.xls', sheet_name='Résult SOL', skiprows=4)\n",
    "df=na_line_drop(df,0)\n",
    "df=na_col_drop(df,1)\n",
    "df.replace(r'<|>','', inplace=True, regex=True)\n",
    "df.replace(r'-$',np.nan, inplace=True, regex=True)\n",
    "dataframe_viewer(df, rows=5)"
   ]
  },
  {
   "cell_type": "code",
   "execution_count": null,
   "id": "seven-roman",
   "metadata": {},
   "outputs": [],
   "source": [
    "prv_sol=df.loc[:35]\n",
    "an=df.loc[36:]"
   ]
  },
  {
   "cell_type": "code",
   "execution_count": null,
   "id": "metropolitan-adelaide",
   "metadata": {},
   "outputs": [],
   "source": [
    "an.loc[0.5] = df.loc[1] # put data on first line\n",
    "an = an.sort_index().reset_index(drop=True)"
   ]
  },
  {
   "cell_type": "code",
   "execution_count": null,
   "id": "neither-scanner",
   "metadata": {},
   "outputs": [],
   "source": [
    "prv_sol=prv_sol.transpose()\n",
    "prv_sol.reset_index(drop=True, inplace=True)\n",
    "prv_sol=col_ren(prv_sol, 1)"
   ]
  },
  {
   "cell_type": "code",
   "execution_count": null,
   "id": "constant-showcase",
   "metadata": {},
   "outputs": [],
   "source": [
    "prv_sol.drop(list(range(5)), axis=0, inplace=True)\n",
    "prv_sol.reset_index(drop=True, inplace=True)\n",
    "prv_sol=na_col_drop(prv_sol,1)\n",
    "prv_sol=na_line_drop(prv_sol,3)\n",
    "prv_sol.reset_index(drop=True, inplace=True)"
   ]
  },
  {
   "cell_type": "code",
   "execution_count": null,
   "id": "derived-bookmark",
   "metadata": {},
   "outputs": [],
   "source": [
    "name=['ID_ech', 'Date_prv', 'Description','Organo', 'Long_for', 'Refus','Ech_top', 'Ech_base', 'MS','Fract_2','Fract_2+']\n",
    "prv_sol=col_ren(prv_sol, name=name, mode=1)"
   ]
  },
  {
   "cell_type": "code",
   "execution_count": null,
   "id": "thirty-disease",
   "metadata": {},
   "outputs": [],
   "source": [
    "set(prv_sol['Description'])"
   ]
  },
  {
   "cell_type": "code",
   "execution_count": null,
   "id": "defensive-compilation",
   "metadata": {},
   "outputs": [],
   "source": [
    "for i in range(len(prv_sol['Description'])):\n",
    "    x = prv_sol.loc[i,'Description']\n",
    "    if x=='R': prv_sol.loc[i,'Description']='Remblais'\n",
    "    elif x=='L': prv_sol.loc[i,'Description']='Limons'\n",
    "    elif x=='LA': prv_sol.loc[i,'Description']='Limons et argiles'\n",
    "    elif x=='LS': prv_sol.loc[i,'Description']='Limons et sables'\n",
    "\n",
    "prv_sol['Refus']=prv_sol['Refus'].apply(lambda x: 'x' if not re.search('#', str(x)) else '')\n",
    "prv_sol.insert(1,'Type_ech','Sol')"
   ]
  },
  {
   "cell_type": "code",
   "execution_count": null,
   "id": "tracked-verification",
   "metadata": {
    "scrolled": false
   },
   "outputs": [],
   "source": [
    "dataframe_viewer(prv_sol, rows=3)"
   ]
  },
  {
   "cell_type": "code",
   "execution_count": null,
   "id": "adjusted-anger",
   "metadata": {},
   "outputs": [],
   "source": [
    "an=an.transpose()\n",
    "an.reset_index(drop=True, inplace=True)"
   ]
  },
  {
   "cell_type": "code",
   "execution_count": null,
   "id": "impaired-listing",
   "metadata": {},
   "outputs": [],
   "source": [
    "an=col_ren(an, 1)"
   ]
  },
  {
   "cell_type": "code",
   "execution_count": null,
   "id": "ecological-arlington",
   "metadata": {},
   "outputs": [],
   "source": [
    "an.replace(r'<|>','', inplace=True, regex=True)\n",
    "an.replace(r'-',np.nan, inplace=True, regex=True)\n",
    "an.rename(columns={an.columns[0]:'ID_ech'}, inplace=True)"
   ]
  },
  {
   "cell_type": "code",
   "execution_count": null,
   "id": "relative-affiliation",
   "metadata": {},
   "outputs": [],
   "source": [
    "an.drop(list(range(5)), axis=0, inplace=True)\n",
    "an=na_col_drop(an,1)\n",
    "an.insert(1,'Type_ech','Sol')"
   ]
  },
  {
   "cell_type": "code",
   "execution_count": null,
   "id": "robust-waters",
   "metadata": {},
   "outputs": [],
   "source": [
    "an=col_ren(an, name=pol_field_model, mode=1)"
   ]
  },
  {
   "cell_type": "code",
   "execution_count": null,
   "id": "sonic-governor",
   "metadata": {},
   "outputs": [],
   "source": [
    "dataframe_viewer(an, rows=5, cols=20) "
   ]
  },
  {
   "cell_type": "code",
   "execution_count": null,
   "id": "printable-testimony",
   "metadata": {},
   "outputs": [],
   "source": [
    "source_prv_sol=prv_sol\n",
    "source_an=an"
   ]
  },
  {
   "cell_type": "code",
   "execution_count": null,
   "id": "8444d673",
   "metadata": {},
   "outputs": [],
   "source": [
    "excel_soil_an, conflict_df = data_merger(prv_sol, an, how='outer', on='ID_ech', dist_max=1., drop_skip_col=['index'])"
   ]
  },
  {
   "cell_type": "code",
   "execution_count": null,
   "id": "1f504ec9",
   "metadata": {},
   "outputs": [],
   "source": [
    "excel_soil_an['ID'] = excel_soil_an['ID_ech'].apply(lambda x: x.split('/')[0]) "
   ]
  },
  {
   "cell_type": "code",
   "execution_count": null,
   "id": "cc712c23",
   "metadata": {},
   "outputs": [],
   "source": [
    "save_dir = tmp_dir + 'source_merge/final_'\n",
    "if not os.path.exists(save_dir):\n",
    "    os.makedirs(save_dir)\n",
    "\n",
    "#excel_bhs.to_csv(save_dir + 'Boreholes.csv', index=False)\n",
    "#excel_bh_litho.to_csv(save_dir+'Lithologies.csv', index=False)\n",
    "#excel_bh_equip.to_csv(save_dir+'Equipments.csv', index=False)\n",
    "#excel_bh_soil_sp.to_csv(save_dir+'Soil_samples.csv', index=False)\n",
    "#excel_bh_water_sp.to_csv(save_dir+'Water_samples.csv', index=False)\n",
    "#excel_bh_soil_an.to_csv(save_dir+'Soil_analysis.csv', index=False)\n",
    "#excel_bh_water_an.to_csv(save_dir+'water_analysis.csv', index=False)\n",
    "#excel_bh_mes.to_csv(save_dir+'Measures.csv', index=False)\n",
    "#excel_bh_fac.to_csv(save_dir+'Unknow_facilities.csv', index=False)\n",
    "\n",
    "excel_soil_an.to_csv(save_dir+'Soil_analysis.csv', index=False)"
   ]
  },
  {
   "cell_type": "code",
   "execution_count": null,
   "id": "cooperative-statistics",
   "metadata": {
    "scrolled": true
   },
   "outputs": [],
   "source": [
    "if not os.path.exists(tmp_dir):\n",
    "    os.makedirs(tmp_dir), os.makedirs(tmp_dir+'source_merge/') \n",
    "\n",
    "#bh.to_csv(tmp_dir+'source_merge/source_Boreholes.csv', index=False)\n",
    "#pz.to_csv(tmp_dir+sheet+'_Piezometers.csv', index=False)\n",
    "#ouv.to_csv(tmp_dir+sheet+'_Unkown-facility.csv', index=False)\n",
    "#litho.to_csv(tmp_dir+sheet+'_Lithology.csv', index=False)\n",
    "#mes_pz.to_csv(tmp_dir+sheet+'_Measures.csv', index=False)\n",
    "#mes_sol.to_csv(tmp_dir+sheet+'_Measures-soil.csv', index=False)\n",
    "#prv_eau.to_csv(tmp_dir+sheet+'_Samples-water.csv', index=False)\n",
    "prv_sol.to_csv(tmp_dir+sheet+'_Samples-soil.csv', index=False)\n",
    "an.to_csv(tmp_dir+sheet+'_Analysis.csv', index=False)\n",
    "\n",
    "\n",
    "#source_bh.to_csv(tmp_dir+'source_merge/source_Boreholes.csv', index=False)\n",
    "#source_pz.to_csv(tmp_dir+'source_merge/source_Piezometers.csv', index=False)\n",
    "#source_ukw.to_csv(tmp_dir+'source_merge/source_Unkown-facility.csv', index=False)\n",
    "#source_litho.to_csv(tmp_dir+'source_merge/source_Lithology.csv', index=False)\n",
    "#source_mes_pz.to_csv(tmp_dir+'source_merge/source_Measures.csv', index=False)\n",
    "#source_mes_sol.to_csv(tmp_dir+'source_merge/source_Measures-soil.csv', index=False)\n",
    "#source_prv_eau.to_csv(tmp_dir+'source_merge/source_Samples-water.csv', index=False)\n",
    "source_prv_sol.to_csv(tmp_dir+'source_merge/source_Samples-soil.csv', index=False)\n",
    "source_an.to_csv(tmp_dir+'source_merge/source_Analysis.csv', index=False)\n",
    "\n",
    "\n",
    "print(f'source_bh:{len(source_bh)} ; source_pz:{len(source_pz)} ; source_litho:{len(source_litho)} ; '\n",
    "     f'source_Fac-uknw:{len(source_ukw)} ; source_an:{len(source_an)} ;\\nsource_prv_sol:{len(source_prv_sol)} ;'\n",
    "     f'source_prv_eau:{len(source_prv_eau)} ; source_mes_pz:{len(source_mes_pz)} ; source_mes_sol:{len(source_mes_sol)} ;')"
   ]
  },
  {
   "cell_type": "markdown",
   "id": "indian-testament",
   "metadata": {},
   "source": [
    "* **Sheet : 'Résult EAU'**"
   ]
  },
  {
   "cell_type": "code",
   "execution_count": null,
   "id": "certain-vienna",
   "metadata": {},
   "outputs": [],
   "source": [
    "tmp_dir=ROOT_DIR + '/CF_data/Result_traitem/Phase_2_Memoris/'\n",
    "sheet='Result_eau'"
   ]
  },
  {
   "cell_type": "code",
   "execution_count": null,
   "id": "accredited-costs",
   "metadata": {},
   "outputs": [],
   "source": [
    "df = pd.read_excel(ROOT_DIR + '/CF_data/Data_UMONS/Contamination/Résultats et mesures Siterem/résultats phase 2/'\n",
    "                   'Résultats phase 2_MEMORIS.xls', sheet_name='Résult EAU', skiprows=4)\n",
    "df=na_line_drop(df,0)\n",
    "df=na_col_drop(df,1)\n",
    "df.replace(r'<|>','', inplace=True, regex=True)\n",
    "df.replace(r'-$',np.nan, inplace=True, regex=True)\n",
    "\n",
    "dataframe_viewer(df, rows=5)"
   ]
  },
  {
   "cell_type": "code",
   "execution_count": null,
   "id": "parliamentary-flower",
   "metadata": {},
   "outputs": [],
   "source": [
    "prv_eau=df.loc[:32]\n",
    "an=df.loc[33:]"
   ]
  },
  {
   "cell_type": "code",
   "execution_count": null,
   "id": "complicated-objective",
   "metadata": {},
   "outputs": [],
   "source": [
    "an.loc[0.5] = df.loc[1] # put data on first line\n",
    "an = an.sort_index().reset_index(drop=True)"
   ]
  },
  {
   "cell_type": "code",
   "execution_count": null,
   "id": "exempt-korea",
   "metadata": {},
   "outputs": [],
   "source": [
    "prv_eau=prv_eau.transpose()\n",
    "prv_eau.reset_index(drop=True, inplace=True)\n",
    "prv_eau=col_ren(prv_eau, 1)"
   ]
  },
  {
   "cell_type": "code",
   "execution_count": null,
   "id": "indie-scanning",
   "metadata": {},
   "outputs": [],
   "source": [
    "prv_eau['CE']=prv_eau['CE'].apply(lambda x: pd.to_numeric(x)/1000 \n",
    "                                  if re.search('^\\d+', str(x)) and not pd.isnull(x) else np.nan)"
   ]
  },
  {
   "cell_type": "code",
   "execution_count": null,
   "id": "chinese-analyst",
   "metadata": {},
   "outputs": [],
   "source": [
    "prv_eau.drop(list(range(5)), axis=0, inplace=True)\n",
    "prv_eau.reset_index(drop=True, inplace=True)"
   ]
  },
  {
   "cell_type": "code",
   "execution_count": null,
   "id": "distributed-sudan",
   "metadata": {},
   "outputs": [],
   "source": [
    "prv_eau=dble_col_drop(prv_eau)"
   ]
  },
  {
   "cell_type": "raw",
   "id": "flying-violence",
   "metadata": {},
   "source": [
    "prv_eau.drop(columns=prv_eau.columns[[8,16,21,27]], axis=1, inplace=True) "
   ]
  },
  {
   "cell_type": "code",
   "execution_count": null,
   "id": "american-section",
   "metadata": {},
   "outputs": [],
   "source": [
    "prv_eau=na_col_drop(prv_eau,1)\n",
    "prv_eau=na_line_drop(prv_eau,3)\n",
    "prv_eau.reset_index(drop=True, inplace=True)"
   ]
  },
  {
   "cell_type": "code",
   "execution_count": null,
   "id": "bottom-venice",
   "metadata": {},
   "outputs": [],
   "source": [
    "prv_eau.columns"
   ]
  },
  {
   "cell_type": "code",
   "execution_count": null,
   "id": "harmful-burns",
   "metadata": {},
   "outputs": [],
   "source": [
    "name=['ID_ech', 'Date_prv','Affectation','X', 'Y','Zsol', 'Long_for','Prof_crep','Long_pz_sol',\n",
    "      'Niv_eau_sol','pH', 'CE', 'T']\n",
    "prv_eau=col_ren(prv_eau, name=name, mode=1)\n",
    "prv_eau.insert(1,'Type_ech','Eau')"
   ]
  },
  {
   "cell_type": "code",
   "execution_count": null,
   "id": "furnished-premium",
   "metadata": {
    "scrolled": true
   },
   "outputs": [],
   "source": [
    "prv_eau['ID_ech'].replace('Canne ', 'Can', inplace=True, regex=True)\n",
    "prv_eau['ID_ech'].replace('\\n', ' ', inplace=True, regex=True)"
   ]
  },
  {
   "cell_type": "code",
   "execution_count": null,
   "id": "earlier-edgar",
   "metadata": {},
   "outputs": [],
   "source": [
    "prv_eau['Prof_crep'].replace('\\[|\\]','', regex=True, inplace=True)\n",
    "for i in range(len(prv_eau)):\n",
    "    c=prv_eau.loc[i,'Prof_crep']\n",
    "    prv_eau.loc[i,'Equip_top']=c.split('-')[0]\n",
    "    prv_eau.loc[i,'Equip_base']=c.split('-')[1]\n",
    "    \n",
    "prv_eau.drop(columns=['Prof_crep'], inplace=True)\n",
    "prv_eau['Type_equip'] = 'Crepine'"
   ]
  },
  {
   "cell_type": "code",
   "execution_count": null,
   "id": "comprehensive-origin",
   "metadata": {},
   "outputs": [],
   "source": [
    "prv_eau['ID_ech'].replace('Canne ', 'Can', inplace=True, regex=True)\n",
    "prv_eau['ID_ech'].replace('\\n', ' ', inplace=True, regex=True)"
   ]
  },
  {
   "cell_type": "code",
   "execution_count": null,
   "id": "friendly-ukraine",
   "metadata": {},
   "outputs": [],
   "source": [
    "pz=prv_eau[['ID_ech', 'X', 'Y', 'Zsol', 'Long_for','Long_pz_sol', 'Equip_top', 'Equip_base']]\n",
    "pz.rename(columns={'ID_ech':'ID'}, inplace=True)\n",
    "pz['Type']='Piezo'"
   ]
  },
  {
   "cell_type": "code",
   "execution_count": null,
   "id": "sticky-childhood",
   "metadata": {},
   "outputs": [],
   "source": [
    "for i in range(len(pz.ID)):\n",
    "    c=pz.loc[i, 'ID']\n",
    "    pz.loc[i, 'ID']=re.search(\"(\\w+\\d+(?:\\w)?)\",c).group(1)"
   ]
  },
  {
   "cell_type": "code",
   "execution_count": null,
   "id": "hollywood-parade",
   "metadata": {},
   "outputs": [],
   "source": [
    "pz.drop_duplicates(subset=['ID'], keep='first', ignore_index=True, inplace=True)"
   ]
  },
  {
   "cell_type": "code",
   "execution_count": null,
   "id": "informative-progress",
   "metadata": {},
   "outputs": [],
   "source": [
    "prv_eau=prv_eau[['ID_ech', 'Date_prv', 'X', 'Y', 'Zsol','Niv_eau_sol', 'pH', 'CE', 'T','Affectation']]"
   ]
  },
  {
   "cell_type": "code",
   "execution_count": null,
   "id": "abstract-steel",
   "metadata": {
    "scrolled": false
   },
   "outputs": [],
   "source": [
    "dataframe_viewer(prv_eau, rows=5)"
   ]
  },
  {
   "cell_type": "code",
   "execution_count": null,
   "id": "forced-imaging",
   "metadata": {},
   "outputs": [],
   "source": [
    "an=an.transpose()\n",
    "an.reset_index(drop=True, inplace=True)"
   ]
  },
  {
   "cell_type": "code",
   "execution_count": null,
   "id": "representative-firewall",
   "metadata": {},
   "outputs": [],
   "source": [
    "an=col_ren(an, 1)"
   ]
  },
  {
   "cell_type": "code",
   "execution_count": null,
   "id": "incomplete-clark",
   "metadata": {},
   "outputs": [],
   "source": [
    "an.replace(r'<|>','', inplace=True, regex=True)\n",
    "an.replace(r'-',np.nan, inplace=True, regex=True)\n",
    "an.rename(columns={an.columns[0]:'ID_ech'}, inplace=True)"
   ]
  },
  {
   "cell_type": "code",
   "execution_count": null,
   "id": "neither-transfer",
   "metadata": {},
   "outputs": [],
   "source": [
    "an.drop(list(range(5)), axis=0, inplace=True)\n",
    "an.reset_index(drop=True, inplace=True)"
   ]
  },
  {
   "cell_type": "code",
   "execution_count": null,
   "id": "written-humanity",
   "metadata": {},
   "outputs": [],
   "source": [
    "an.drop(columns=an.columns[[-6,-5]], axis=1, inplace=True)\n",
    "an=na_col_drop(an,1)\n",
    "an.insert(1,'Type_ech','Eau')"
   ]
  },
  {
   "cell_type": "code",
   "execution_count": null,
   "id": "enclosed-abuse",
   "metadata": {},
   "outputs": [],
   "source": [
    "an=col_ren(an, name=pol_field_model, mode=1)"
   ]
  },
  {
   "cell_type": "code",
   "execution_count": null,
   "id": "wired-flower",
   "metadata": {},
   "outputs": [],
   "source": [
    "dataframe_viewer(an, rows=5) "
   ]
  },
  {
   "cell_type": "code",
   "execution_count": null,
   "id": "located-factor",
   "metadata": {},
   "outputs": [],
   "source": [
    "source_prv_eau=prv_eau\n",
    "source_an=source_an.append(an)"
   ]
  },
  {
   "cell_type": "code",
   "execution_count": null,
   "id": "annoying-hawaii",
   "metadata": {
    "scrolled": true
   },
   "outputs": [],
   "source": [
    "if not os.path.exists(tmp_dir):\n",
    "    os.makedirs(tmp_dir), os.makedirs(tmp_dir+'source_merge/') \n",
    "\n",
    "#bh.to_csv(tmp_dir+'source_merge/source_Boreholes.csv', index=False)\n",
    "pz.to_csv(tmp_dir+sheet+'_Piezometers.csv', index=False)\n",
    "#ouv.to_csv(tmp_dir+sheet+'_Unkown-facility.csv', index=False)\n",
    "#litho.to_csv(tmp_dir+sheet+'_Lithology.csv', index=False)\n",
    "#mes_pz.to_csv(tmp_dir+sheet+'_Measures.csv', index=False)\n",
    "#mes_sol.to_csv(tmp_dir+sheet+'_Measures-soil.csv', index=False)\n",
    "prv_eau.to_csv(tmp_dir+sheet+'_Samples-water.csv', index=False)\n",
    "#prv_sol.to_csv(tmp_dir+sheet+'_Samples-soil.csv', index=False)\n",
    "an.to_csv(tmp_dir+sheet+'_Analysis.csv', index=False)\n",
    "\n",
    "\n",
    "#source_bh.to_csv(tmp_dir+'source_merge/source_Boreholes.csv', index=False)\n",
    "#source_pz.to_csv(tmp_dir+'source_merge/source_Piezometers.csv', index=False)\n",
    "#source_ukw.to_csv(tmp_dir+'source_merge/source_Unkown-facility.csv', index=False)\n",
    "#source_litho.to_csv(tmp_dir+'source_merge/source_Lithology.csv', index=False)\n",
    "#source_mes_pz.to_csv(tmp_dir+'source_merge/source_Measures.csv', index=False)\n",
    "#source_mes_sol.to_csv(tmp_dir+'source_merge/source_Measures-soil.csv', index=False)\n",
    "source_prv_eau.to_csv(tmp_dir+'source_merge/source_Samples-water.csv', index=False)\n",
    "#source_prv_sol.to_csv(tmp_dir+'source_merge/source_Samples-soil.csv', index=False)\n",
    "source_an.to_csv(tmp_dir+'source_merge/source_Analysis.csv', index=False)\n",
    "\n",
    "\n",
    "print(f'source_bh:{len(source_bh)} ; source_pz:{len(source_pz)} ; source_litho:{len(source_litho)} ; '\n",
    "     f'source_Fac-uknw:{len(source_ukw)} ; source_an:{len(source_an)} ;\\nsource_prv_sol:{len(source_prv_sol)} ;'\n",
    "     f'source_prv_eau:{len(source_prv_eau)} ; source_mes_pz:{len(source_mes_pz)} ; source_mes_sol:{len(source_mes_sol)} ;')"
   ]
  },
  {
   "cell_type": "code",
   "execution_count": null,
   "id": "682a7186",
   "metadata": {},
   "outputs": [],
   "source": [
    "excel_water_an, conflict_df = data_merger(an, source_prv_eau, how='outer', on='ID_ech', dist_max=1., drop_skip_col=['index'])"
   ]
  },
  {
   "cell_type": "code",
   "execution_count": null,
   "id": "5927d97a",
   "metadata": {
    "scrolled": false
   },
   "outputs": [],
   "source": [
    "dataframe_viewer(excel_water_an, rows=5)"
   ]
  },
  {
   "cell_type": "code",
   "execution_count": null,
   "id": "a5bb10a6",
   "metadata": {},
   "outputs": [],
   "source": [
    "for i in range(len(excel_water_an.ID_ech)):\n",
    "    c=excel_water_an.loc[i, 'ID_ech']\n",
    "    excel_water_an.loc[i, 'ID']=re.search(\"(\\w+\\d+(?:\\w)?)\",c).group(1)"
   ]
  },
  {
   "cell_type": "code",
   "execution_count": null,
   "id": "2b997b8e",
   "metadata": {},
   "outputs": [],
   "source": [
    "save_dir = tmp_dir + 'source_merge/final_'\n",
    "if not os.path.exists(save_dir):\n",
    "    os.makedirs(save_dir)\n",
    "\n",
    "#excel_bhs.to_csv(save_dir + 'Boreholes.csv', index=False)\n",
    "#excel_bh_litho.to_csv(save_dir+'Lithologies.csv', index=False)\n",
    "#excel_bh_equip.to_csv(save_dir+'Equipments.csv', index=False)\n",
    "#excel_bh_soil_sp.to_csv(save_dir+'Soil_samples.csv', index=False)\n",
    "#excel_bh_water_sp.to_csv(save_dir+'Water_samples.csv', index=False)\n",
    "#excel_bh_soil_an.to_csv(save_dir+'Soil_analysis.csv', index=False)\n",
    "#excel_bh_water_an.to_csv(save_dir+'water_analysis.csv', index=False)\n",
    "#excel_bh_mes.to_csv(save_dir+'Measures.csv', index=False)\n",
    "#excel_bh_fac.to_csv(save_dir+'Unknow_facilities.csv', index=False)\n",
    "\n",
    "excel_water_an.to_csv(save_dir+'Water_analysis.csv', index=False)"
   ]
  },
  {
   "cell_type": "markdown",
   "id": "consistent-garage",
   "metadata": {},
   "source": [
    "## 9-Ensemble des résultats Memoris version Seafile.xls\n",
    "* **Sheet : 'Résult SOL'**"
   ]
  },
  {
   "cell_type": "code",
   "execution_count": null,
   "id": "intensive-medicine",
   "metadata": {},
   "outputs": [],
   "source": [
    "# New file, so the source variables must be overwritten !!\n",
    "_df=pd.DataFrame()\n",
    "source_mes_pz, source_mes_sol, source_pz, source_prv_eau, source_prv_sol =  _df, _df, _df, _df, _df\n",
    "source_ukw, source_an, source_litho, source_bh = _df, _df, _df, _df"
   ]
  },
  {
   "cell_type": "code",
   "execution_count": null,
   "id": "large-intervention",
   "metadata": {},
   "outputs": [],
   "source": [
    "tmp_dir=ROOT_DIR + '/CF_data/Result_traitem/Memoris_seafile/'\n",
    "sheet='Result_SOL'"
   ]
  },
  {
   "cell_type": "code",
   "execution_count": null,
   "id": "democratic-christianity",
   "metadata": {},
   "outputs": [],
   "source": [
    "df = pd.read_excel(ROOT_DIR + '/CF_data/Data_UMONS/Contamination/Résultats et mesures Siterem/'\n",
    "                   'Ensemble des résultats Memoris version Seafile.xls', sheet_name='Résult SOL', skiprows=4)\n",
    "df=na_line_drop(df,0)\n",
    "df=na_col_drop(df,1)\n",
    "dataframe_viewer(df, rows=5)"
   ]
  },
  {
   "cell_type": "code",
   "execution_count": null,
   "id": "coastal-stable",
   "metadata": {},
   "outputs": [],
   "source": [
    "prv_sol=df.loc[:37]\n",
    "an=df.loc[38:]"
   ]
  },
  {
   "cell_type": "code",
   "execution_count": null,
   "id": "adopted-thermal",
   "metadata": {},
   "outputs": [],
   "source": [
    "an.loc[0.5] = df.loc[0] # put data on first line\n",
    "an = an.sort_index().reset_index(drop=True)"
   ]
  },
  {
   "cell_type": "code",
   "execution_count": null,
   "id": "honest-wallace",
   "metadata": {},
   "outputs": [],
   "source": [
    "prv_sol=prv_sol.transpose()\n",
    "prv_sol.reset_index(drop=True, inplace=True)\n",
    "prv_sol=col_ren(prv_sol, 1)"
   ]
  },
  {
   "cell_type": "code",
   "execution_count": null,
   "id": "potential-lender",
   "metadata": {},
   "outputs": [],
   "source": [
    "prv_sol.drop(list(range(5)), axis=0, inplace=True)\n",
    "prv_sol.reset_index(drop=True, inplace=True)\n",
    "prv_sol=na_col_drop(prv_sol,1)\n",
    "prv_sol=na_line_drop(prv_sol,3)\n",
    "prv_sol.reset_index(drop=True, inplace=True)"
   ]
  },
  {
   "cell_type": "code",
   "execution_count": null,
   "id": "optimum-snowboard",
   "metadata": {},
   "outputs": [],
   "source": [
    "prv_sol.drop(columns=prv_sol.columns[[-3,-4]], axis=1, inplace=True)"
   ]
  },
  {
   "cell_type": "code",
   "execution_count": null,
   "id": "broke-emerald",
   "metadata": {},
   "outputs": [],
   "source": [
    "name=['ID_ech', 'Date_prv', 'Description','Organo', 'Long_for', 'Refus','Ech_top', 'Ech_base', 'MS','Fract_2','Fract_2+']\n",
    "prv_sol=col_ren(prv_sol, name=name, mode=1)"
   ]
  },
  {
   "cell_type": "code",
   "execution_count": null,
   "id": "stable-amber",
   "metadata": {},
   "outputs": [],
   "source": [
    "set(prv_sol['Description'])"
   ]
  },
  {
   "cell_type": "code",
   "execution_count": null,
   "id": "eligible-cabinet",
   "metadata": {},
   "outputs": [],
   "source": [
    "for i in range(len(prv_sol['Description'])):\n",
    "    x = prv_sol.loc[i,'Description']\n",
    "    if x=='R' or x=='R ': prv_sol.loc[i,'Description']='Remblais'\n",
    "    elif x=='L': prv_sol.loc[i,'Description']='Limons'\n",
    "    elif x=='LA': prv_sol.loc[i,'Description']='Limons et argiles'\n",
    "    elif x=='LS': prv_sol.loc[i,'Description']='Limons et sables'\n",
    "\n",
    "prv_sol['Refus']=prv_sol['Refus'].apply(lambda x: 'x' if not re.search('#', str(x)) else '')\n",
    "prv_sol.insert(1,'Type_ech','Sol')"
   ]
  },
  {
   "cell_type": "code",
   "execution_count": null,
   "id": "infinite-reading",
   "metadata": {
    "scrolled": false
   },
   "outputs": [],
   "source": [
    "dataframe_viewer(prv_sol, rows=3)"
   ]
  },
  {
   "cell_type": "code",
   "execution_count": null,
   "id": "unauthorized-optimization",
   "metadata": {},
   "outputs": [],
   "source": [
    "an=an.transpose()\n",
    "an.reset_index(drop=True, inplace=True)"
   ]
  },
  {
   "cell_type": "code",
   "execution_count": null,
   "id": "corporate-restriction",
   "metadata": {},
   "outputs": [],
   "source": [
    "an=col_ren(an, 1)"
   ]
  },
  {
   "cell_type": "code",
   "execution_count": null,
   "id": "diagnostic-archives",
   "metadata": {},
   "outputs": [],
   "source": [
    "an.replace(r'<|>','', inplace=True, regex=True)\n",
    "an.replace(r'-',np.nan, inplace=True, regex=True)\n",
    "an.rename(columns={an.columns[0]:'ID_ech'}, inplace=True)"
   ]
  },
  {
   "cell_type": "code",
   "execution_count": null,
   "id": "bright-tension",
   "metadata": {},
   "outputs": [],
   "source": [
    "an=dble_col_drop(an)"
   ]
  },
  {
   "cell_type": "code",
   "execution_count": null,
   "id": "short-jonathan",
   "metadata": {},
   "outputs": [],
   "source": [
    "an.drop(list(range(5)), axis=0, inplace=True)\n",
    "an.reset_index(drop=True, inplace=True)\n",
    "an=na_col_drop(an,1)\n",
    "an.insert(1,'Type_ech','Sol')"
   ]
  },
  {
   "cell_type": "code",
   "execution_count": null,
   "id": "incredible-parameter",
   "metadata": {},
   "outputs": [],
   "source": [
    "an=col_ren(an, name=pol_field_model, mode=1)"
   ]
  },
  {
   "cell_type": "code",
   "execution_count": null,
   "id": "fleet-enemy",
   "metadata": {
    "scrolled": true
   },
   "outputs": [],
   "source": [
    "dataframe_viewer(an, rows=5) "
   ]
  },
  {
   "cell_type": "code",
   "execution_count": null,
   "id": "synthetic-course",
   "metadata": {},
   "outputs": [],
   "source": [
    "source_prv_sol=prv_sol\n",
    "source_an=an"
   ]
  },
  {
   "cell_type": "code",
   "execution_count": null,
   "id": "wireless-cycling",
   "metadata": {
    "scrolled": true
   },
   "outputs": [],
   "source": [
    "if not os.path.exists(tmp_dir):\n",
    "    os.makedirs(tmp_dir), os.makedirs(tmp_dir+'source_merge/') \n",
    "\n",
    "#bh.to_csv(tmp_dir+'source_merge/source_Boreholes.csv', index=False)\n",
    "#pz.to_csv(tmp_dir+sheet+'_Piezometers.csv', index=False)\n",
    "#ouv.to_csv(tmp_dir+sheet+'_Unkown-facility.csv', index=False)\n",
    "#litho.to_csv(tmp_dir+sheet+'_Lithology.csv', index=False)\n",
    "#mes_pz.to_csv(tmp_dir+sheet+'_Measures.csv', index=False)\n",
    "#mes_sol.to_csv(tmp_dir+sheet+'_Measures-soil.csv', index=False)\n",
    "#prv_eau.to_csv(tmp_dir+sheet+'_Samples-water.csv', index=False)\n",
    "prv_sol.to_csv(tmp_dir+sheet+'_Samples-soil.csv', index=False)\n",
    "an.to_csv(tmp_dir+sheet+'_Analysis.csv', index=False)\n",
    "\n",
    "\n",
    "#source_bh.to_csv(tmp_dir+'source_merge/source_Boreholes.csv', index=False)\n",
    "#source_pz.to_csv(tmp_dir+'source_merge/source_Piezometers.csv', index=False)\n",
    "#source_ukw.to_csv(tmp_dir+'source_merge/source_Unkown-facility.csv', index=False)\n",
    "#source_litho.to_csv(tmp_dir+'source_merge/source_Lithology.csv', index=False)\n",
    "#source_mes_pz.to_csv(tmp_dir+'source_merge/source_Measures.csv', index=False)\n",
    "#source_mes_sol.to_csv(tmp_dir+'source_merge/source_Measures-soil.csv', index=False)\n",
    "#source_prv_eau.to_csv(tmp_dir+'source_merge/source_Samples-water.csv', index=False)\n",
    "source_prv_sol.to_csv(tmp_dir+'source_merge/source_Samples-soil.csv', index=False)\n",
    "source_an.to_csv(tmp_dir+'source_merge/source_Analysis.csv', index=False)\n",
    "\n",
    "\n",
    "print(f'source_bh:{len(source_bh)} ; source_pz:{len(source_pz)} ; source_litho:{len(source_litho)} ; '\n",
    "     f'source_Fac-uknw:{len(source_ukw)} ; source_an:{len(source_an)} ;\\nsource_prv_sol:{len(source_prv_sol)} ;'\n",
    "     f'source_prv_eau:{len(source_prv_eau)} ; source_mes_pz:{len(source_mes_pz)} ; source_mes_sol:{len(source_mes_sol)} ;')"
   ]
  },
  {
   "cell_type": "markdown",
   "id": "scientific-providence",
   "metadata": {},
   "source": [
    "* **Sheet : 'Résult EAU'**"
   ]
  },
  {
   "cell_type": "code",
   "execution_count": null,
   "id": "european-pendant",
   "metadata": {},
   "outputs": [],
   "source": [
    "tmp_dir=ROOT_DIR + '/CF_data/Result_traitem/Memoris_seafile/'\n",
    "sheet='Result_eau'"
   ]
  },
  {
   "cell_type": "code",
   "execution_count": null,
   "id": "dramatic-wilderness",
   "metadata": {},
   "outputs": [],
   "source": [
    "df = pd.read_excel(ROOT_DIR + '/CF_data/Data_UMONS/Contamination/Résultats et mesures Siterem/'\n",
    "                   'Ensemble des résultats Memoris version Seafile.xls', sheet_name='Résult EAU', skiprows=4)\n",
    "df=na_line_drop(df,0)\n",
    "df=na_col_drop(df,1)\n",
    "df.replace(r'<|>','', inplace=True, regex=True)\n",
    "df.replace(r'-$',np.nan, inplace=True, regex=True)\n",
    "\n",
    "dataframe_viewer(df, rows=5)"
   ]
  },
  {
   "cell_type": "code",
   "execution_count": null,
   "id": "average-humor",
   "metadata": {},
   "outputs": [],
   "source": [
    "prv_eau=df.loc[:32]\n",
    "an=df.loc[33:]"
   ]
  },
  {
   "cell_type": "code",
   "execution_count": null,
   "id": "lovely-priority",
   "metadata": {},
   "outputs": [],
   "source": [
    "an.loc[0.5] = df.loc[0] # put data on first line\n",
    "an = an.sort_index().reset_index(drop=True)"
   ]
  },
  {
   "cell_type": "code",
   "execution_count": null,
   "id": "hourly-specialist",
   "metadata": {},
   "outputs": [],
   "source": [
    "prv_eau=prv_eau.transpose()\n",
    "prv_eau.reset_index(drop=True, inplace=True)\n",
    "prv_eau=col_ren(prv_eau, 1)"
   ]
  },
  {
   "cell_type": "code",
   "execution_count": null,
   "id": "convertible-failing",
   "metadata": {},
   "outputs": [],
   "source": [
    "prv_eau['CE']=prv_eau['CE'].apply(lambda x: pd.to_numeric(x)/1000 \n",
    "                                  if re.search('^\\d+', str(x)) and not pd.isnull(x) else np.nan)"
   ]
  },
  {
   "cell_type": "code",
   "execution_count": null,
   "id": "distinct-vinyl",
   "metadata": {},
   "outputs": [],
   "source": [
    "prv_eau.drop(list(range(5)), axis=0, inplace=True)\n",
    "prv_eau.reset_index(drop=True, inplace=True)"
   ]
  },
  {
   "cell_type": "code",
   "execution_count": null,
   "id": "supreme-minority",
   "metadata": {},
   "outputs": [],
   "source": [
    "prv_eau=dble_col_drop(prv_eau)"
   ]
  },
  {
   "cell_type": "code",
   "execution_count": null,
   "id": "elegant-underwear",
   "metadata": {},
   "outputs": [],
   "source": [
    "prv_eau=na_col_drop(prv_eau,1)\n",
    "prv_eau=na_line_drop(prv_eau,3)\n",
    "prv_eau.reset_index(drop=True, inplace=True)"
   ]
  },
  {
   "cell_type": "code",
   "execution_count": null,
   "id": "still-shade",
   "metadata": {},
   "outputs": [],
   "source": [
    "prv_eau.drop(columns=prv_eau.columns[[2]], axis=2, inplace=True)"
   ]
  },
  {
   "cell_type": "code",
   "execution_count": null,
   "id": "obvious-emission",
   "metadata": {},
   "outputs": [],
   "source": [
    "name=['ID_ech', 'Date_prv','Affectation','X', 'Y','Zsol', 'Long_for','Prof_crep','Long_pz_sol', \n",
    "      'Niv_eau_sol','pH', 'CE', 'T']\n",
    "prv_eau=col_ren(prv_eau, name=name, mode=1)\n",
    "prv_eau.insert(1,'Type_ech','Eau')"
   ]
  },
  {
   "cell_type": "code",
   "execution_count": null,
   "id": "diverse-action",
   "metadata": {},
   "outputs": [],
   "source": [
    "prv_eau['Prof_crep'].replace('\\[|\\]','', regex=True, inplace=True)\n",
    "for i in range(len(prv_eau)):\n",
    "    c=prv_eau.loc[i,'Prof_crep']\n",
    "    prv_eau.loc[i,'Equip_top']=c.split('-')[0]\n",
    "    prv_eau.loc[i,'Equip_base']=c.split('-')[1]\n",
    "    \n",
    "prv_eau.drop(columns=['Prof_crep'], inplace=True)\n",
    "prv_eau['Type_equip'] = 'Crepine'"
   ]
  },
  {
   "cell_type": "code",
   "execution_count": null,
   "id": "treated-benchmark",
   "metadata": {},
   "outputs": [],
   "source": [
    "prv_eau['ID_ech'].replace('Canne ', 'Can', inplace=True, regex=True)\n",
    "prv_eau['ID_ech'].replace('\\n', ' ', inplace=True, regex=True)"
   ]
  },
  {
   "cell_type": "code",
   "execution_count": null,
   "id": "rural-termination",
   "metadata": {
    "scrolled": true
   },
   "outputs": [],
   "source": [
    "pz=prv_eau[['ID_ech', 'X', 'Y', 'Zsol', 'Long_for','Long_pz_sol', 'Equip_top', 'Equip_base', 'Type_equip']]\n",
    "pz.rename(columns={'ID_ech':'ID'}, inplace=True)"
   ]
  },
  {
   "cell_type": "code",
   "execution_count": null,
   "id": "clean-following",
   "metadata": {},
   "outputs": [],
   "source": [
    "for i in range(len(pz.ID)):\n",
    "    c=pz.loc[i, 'ID']\n",
    "    pz.loc[i, 'ID']=re.search(\"(\\w+\\d+)\",c).group(1)"
   ]
  },
  {
   "cell_type": "code",
   "execution_count": null,
   "id": "numerical-lithuania",
   "metadata": {},
   "outputs": [],
   "source": [
    "pz.drop_duplicates(subset=['ID'], keep='first', ignore_index=True, inplace=True)"
   ]
  },
  {
   "cell_type": "code",
   "execution_count": null,
   "id": "mechanical-offer",
   "metadata": {},
   "outputs": [],
   "source": [
    "prv_eau=prv_eau[['ID_ech', 'Date_prv', 'X', 'Y', 'Zsol','Niv_eau_sol', 'pH', 'CE', 'T','Affectation']]"
   ]
  },
  {
   "cell_type": "code",
   "execution_count": null,
   "id": "bored-outdoors",
   "metadata": {
    "scrolled": true
   },
   "outputs": [],
   "source": [
    "dataframe_viewer(prv_eau, rows=3)"
   ]
  },
  {
   "cell_type": "code",
   "execution_count": null,
   "id": "collective-words",
   "metadata": {},
   "outputs": [],
   "source": [
    "an=an.transpose()\n",
    "an.reset_index(drop=True, inplace=True)"
   ]
  },
  {
   "cell_type": "code",
   "execution_count": null,
   "id": "tested-cruise",
   "metadata": {},
   "outputs": [],
   "source": [
    "an=col_ren(an, 1)"
   ]
  },
  {
   "cell_type": "code",
   "execution_count": null,
   "id": "bulgarian-little",
   "metadata": {},
   "outputs": [],
   "source": [
    "an.replace(r'<|>','', inplace=True, regex=True)\n",
    "an.replace(r'-',np.nan, inplace=True, regex=True)\n",
    "an.rename(columns={an.columns[0]:'ID_ech'}, inplace=True)"
   ]
  },
  {
   "cell_type": "code",
   "execution_count": null,
   "id": "every-progress",
   "metadata": {},
   "outputs": [],
   "source": [
    "an.drop(list(range(5)), axis=0, inplace=True)\n",
    "an.reset_index(drop=True, inplace=True)"
   ]
  },
  {
   "cell_type": "code",
   "execution_count": null,
   "id": "mexican-principal",
   "metadata": {},
   "outputs": [],
   "source": [
    "an=dble_col_drop(an)"
   ]
  },
  {
   "cell_type": "code",
   "execution_count": null,
   "id": "satisfied-italian",
   "metadata": {},
   "outputs": [],
   "source": [
    "an.drop(columns=an.columns[[-6,-5]], axis=1, inplace=True)\n",
    "an=na_col_drop(an,1)\n",
    "an.insert(1,'Type_ech','Eau')"
   ]
  },
  {
   "cell_type": "code",
   "execution_count": null,
   "id": "surprised-portuguese",
   "metadata": {},
   "outputs": [],
   "source": [
    "an['ID_ech'].replace('Canne ', 'Can', inplace=True, regex=True)\n",
    "an['ID_ech'].replace('\\n', ' ', inplace=True, regex=True)"
   ]
  },
  {
   "cell_type": "code",
   "execution_count": null,
   "id": "comfortable-mobility",
   "metadata": {},
   "outputs": [],
   "source": [
    "an=col_ren(an, name=pol_field_model, mode=1)"
   ]
  },
  {
   "cell_type": "code",
   "execution_count": null,
   "id": "swedish-sensitivity",
   "metadata": {},
   "outputs": [],
   "source": [
    "dataframe_viewer(an, rows=5) "
   ]
  },
  {
   "cell_type": "code",
   "execution_count": null,
   "id": "medieval-atmosphere",
   "metadata": {},
   "outputs": [],
   "source": [
    "source_pz=pz\n",
    "source_prv_eau=prv_eau\n",
    "source_an=source_an.append(an)"
   ]
  },
  {
   "cell_type": "code",
   "execution_count": null,
   "id": "academic-basis",
   "metadata": {
    "scrolled": true
   },
   "outputs": [],
   "source": [
    "if not os.path.exists(tmp_dir):\n",
    "    os.makedirs(tmp_dir), os.makedirs(tmp_dir+'source_merge/') \n",
    "\n",
    "#bh.to_csv(tmp_dir+'source_merge/source_Boreholes.csv', index=False)\n",
    "pz.to_csv(tmp_dir+sheet+'_Piezometers.csv', index=False)\n",
    "#ouv.to_csv(tmp_dir+sheet+'_Unkown-facility.csv', index=False)\n",
    "#litho.to_csv(tmp_dir+sheet+'_Lithology.csv', index=False)\n",
    "#mes_pz.to_csv(tmp_dir+sheet+'_Measures.csv', index=False)\n",
    "#mes_sol.to_csv(tmp_dir+sheet+'_Measures-soil.csv', index=False)\n",
    "prv_eau.to_csv(tmp_dir+sheet+'_Samples-water.csv', index=False)\n",
    "#prv_sol.to_csv(tmp_dir+sheet+'_Samples-soil.csv', index=False)\n",
    "an.to_csv(tmp_dir+sheet+'_Analysis.csv', index=False)\n",
    "\n",
    "\n",
    "#source_bh.to_csv(tmp_dir+'source_merge/source_Boreholes.csv', index=False)\n",
    "source_pz.to_csv(tmp_dir+'source_merge/source_Piezometers.csv', index=False)\n",
    "#source_ukw.to_csv(tmp_dir+'source_merge/source_Unkown-facility.csv', index=False)\n",
    "#source_litho.to_csv(tmp_dir+'source_merge/source_Lithology.csv', index=False)\n",
    "#source_mes_pz.to_csv(tmp_dir+'source_merge/source_Measures.csv', index=False)\n",
    "#source_mes_sol.to_csv(tmp_dir+'source_merge/source_Measures-soil.csv', index=False)\n",
    "source_prv_eau.to_csv(tmp_dir+'source_merge/source_Samples-water.csv', index=False)\n",
    "#source_prv_sol.to_csv(tmp_dir+'source_merge/source_Samples-soil.csv', index=False)\n",
    "source_an.to_csv(tmp_dir+'source_merge/source_Analysis.csv', index=False)\n",
    "\n",
    "\n",
    "print(f'source_bh:{len(source_bh)} ; source_pz:{len(source_pz)} ; source_litho:{len(source_litho)} ; '\n",
    "     f'source_Fac-uknw:{len(source_ukw)} ; source_an:{len(source_an)} ;\\nsource_prv_sol:{len(source_prv_sol)} ;'\n",
    "     f'source_prv_eau:{len(source_prv_eau)} ; source_mes_pz:{len(source_mes_pz)} ; source_mes_sol:{len(source_mes_sol)} ;')"
   ]
  },
  {
   "cell_type": "markdown",
   "id": "indoor-spotlight",
   "metadata": {},
   "source": [
    "## 10-Résultats SOL container phyto t=0_décret sol.xls\n",
    "* **Sheet : 'Résult SOL'**"
   ]
  },
  {
   "cell_type": "code",
   "execution_count": null,
   "id": "dangerous-northern",
   "metadata": {},
   "outputs": [],
   "source": [
    "# New file, so the source variables must be overwritten !!\n",
    "_df=pd.DataFrame()\n",
    "source_mes_pz, source_mes_sol, source_pz, source_prv_eau, source_prv_sol =  _df, _df, _df, _df, _df\n",
    "source_ukw, source_an, source_litho, source_bh = _df, _df, _df, _df"
   ]
  },
  {
   "cell_type": "code",
   "execution_count": null,
   "id": "invalid-pressure",
   "metadata": {},
   "outputs": [],
   "source": [
    "tmp_dir=ROOT_DIR + '/CF_data/Result_traitem/Container_phyto/'\n",
    "sheet='Result_SOL'"
   ]
  },
  {
   "cell_type": "code",
   "execution_count": null,
   "id": "hungry-candle",
   "metadata": {},
   "outputs": [],
   "source": [
    "df = pd.read_excel(ROOT_DIR + '/CF_data/Data_UMONS/Contamination/Résultats et mesures Siterem/'\n",
    "                   'Résultats SOL container phyto t=0_décret sol.xls', sheet_name='Résult SOL', skiprows=4)\n",
    "df=na_line_drop(df,0)\n",
    "df=na_col_drop(df,1)\n",
    "df.replace(r'<|>','', inplace=True, regex=True)\n",
    "df.replace(r'-$',np.nan, inplace=True, regex=True)\n",
    "\n",
    "dataframe_viewer(df, rows=5)"
   ]
  },
  {
   "cell_type": "code",
   "execution_count": null,
   "id": "ongoing-senate",
   "metadata": {},
   "outputs": [],
   "source": [
    "prv_sol=df.loc[:21]\n",
    "an=df.loc[22:]"
   ]
  },
  {
   "cell_type": "code",
   "execution_count": null,
   "id": "spare-medicare",
   "metadata": {},
   "outputs": [],
   "source": [
    "an.loc[0.5] = df.loc[0] # put data on first line\n",
    "an = an.sort_index().reset_index(drop=True)"
   ]
  },
  {
   "cell_type": "code",
   "execution_count": null,
   "id": "tight-response",
   "metadata": {},
   "outputs": [],
   "source": [
    "prv_sol=prv_sol.transpose()\n",
    "prv_sol.reset_index(drop=True, inplace=True)\n",
    "prv_sol=col_ren(prv_sol, 1)"
   ]
  },
  {
   "cell_type": "code",
   "execution_count": null,
   "id": "brown-sarah",
   "metadata": {},
   "outputs": [],
   "source": [
    "prv_sol=dble_col_drop(prv_sol)"
   ]
  },
  {
   "cell_type": "code",
   "execution_count": null,
   "id": "comparative-tackle",
   "metadata": {},
   "outputs": [],
   "source": [
    "prv_sol.drop(list(range(5)), axis=0, inplace=True)\n",
    "prv_sol.reset_index(drop=True, inplace=True)\n",
    "prv_sol=na_col_drop(prv_sol,2)\n",
    "prv_sol=na_line_drop(prv_sol,3)\n",
    "prv_sol.reset_index(drop=True, inplace=True)"
   ]
  },
  {
   "cell_type": "code",
   "execution_count": null,
   "id": "prospective-layer",
   "metadata": {},
   "outputs": [],
   "source": [
    "prv_sol.drop(columns=prv_sol.columns[[-3]], axis=1, inplace=True)"
   ]
  },
  {
   "cell_type": "code",
   "execution_count": null,
   "id": "center-dispatch",
   "metadata": {},
   "outputs": [],
   "source": [
    "name=['ID_ech', 'Ech_top', 'Ech_base','MS','Date_prv','Fract_2','Fract_2+']\n",
    "prv_sol=col_ren(prv_sol, name=name, mode=1)\n",
    "prv_sol=prv_sol.query('ID_ech==ID_ech')\n",
    "prv_sol.insert(1,'Type_ech','Sol')"
   ]
  },
  {
   "cell_type": "code",
   "execution_count": null,
   "id": "human-study",
   "metadata": {
    "scrolled": false
   },
   "outputs": [],
   "source": [
    "dataframe_viewer(prv_sol, rows=3)"
   ]
  },
  {
   "cell_type": "code",
   "execution_count": null,
   "id": "direct-fisher",
   "metadata": {},
   "outputs": [],
   "source": [
    "an=an.transpose()\n",
    "an.reset_index(drop=True, inplace=True)"
   ]
  },
  {
   "cell_type": "code",
   "execution_count": null,
   "id": "radio-arnold",
   "metadata": {},
   "outputs": [],
   "source": [
    "an=col_ren(an, 1)"
   ]
  },
  {
   "cell_type": "code",
   "execution_count": null,
   "id": "fixed-continuity",
   "metadata": {},
   "outputs": [],
   "source": [
    "an.replace(r'<|>','', inplace=True, regex=True)\n",
    "an.replace(r'-',np.nan, inplace=True, regex=True)\n",
    "an.rename(columns={an.columns[0]:'ID_ech'}, inplace=True)"
   ]
  },
  {
   "cell_type": "code",
   "execution_count": null,
   "id": "cubic-graham",
   "metadata": {},
   "outputs": [],
   "source": [
    "an=dble_col_drop(an)"
   ]
  },
  {
   "cell_type": "code",
   "execution_count": null,
   "id": "selective-broad",
   "metadata": {},
   "outputs": [],
   "source": [
    "an.drop(list(range(5)), axis=0, inplace=True)\n",
    "an.reset_index(drop=True, inplace=True)\n",
    "an=na_col_drop(an,1)\n",
    "an.insert(1,'Type_ech','Sol')"
   ]
  },
  {
   "cell_type": "code",
   "execution_count": null,
   "id": "outstanding-thickness",
   "metadata": {},
   "outputs": [],
   "source": [
    "an=col_ren(an, name=pol_field_model, mode=1)"
   ]
  },
  {
   "cell_type": "code",
   "execution_count": null,
   "id": "growing-childhood",
   "metadata": {
    "scrolled": true
   },
   "outputs": [],
   "source": [
    "dataframe_viewer(an, rows=5) "
   ]
  },
  {
   "cell_type": "code",
   "execution_count": null,
   "id": "attempted-longer",
   "metadata": {},
   "outputs": [],
   "source": [
    "source_prv_sol=prv_sol\n",
    "source_an=an"
   ]
  },
  {
   "cell_type": "code",
   "execution_count": null,
   "id": "deluxe-berlin",
   "metadata": {
    "scrolled": true
   },
   "outputs": [],
   "source": [
    "if not os.path.exists(tmp_dir):\n",
    "    os.makedirs(tmp_dir), os.makedirs(tmp_dir+'source_merge/') \n",
    "\n",
    "#bh.to_csv(tmp_dir+'source_merge/source_Boreholes.csv', index=False)\n",
    "#pz.to_csv(tmp_dir+sheet+'_Piezometers.csv', index=False)\n",
    "#ouv.to_csv(tmp_dir+sheet+'_Unkown-facility.csv', index=False)\n",
    "#litho.to_csv(tmp_dir+sheet+'_Lithology.csv', index=False)\n",
    "#mes_pz.to_csv(tmp_dir+sheet+'_Measures.csv', index=False)\n",
    "#mes_sol.to_csv(tmp_dir+sheet+'_Measures-soil.csv', index=False)\n",
    "#prv_eau.to_csv(tmp_dir+sheet+'_Samples-water.csv', index=False)\n",
    "prv_sol.to_csv(tmp_dir+sheet+'_Samples-soil.csv', index=False)\n",
    "an.to_csv(tmp_dir+sheet+'_Analysis.csv', index=False)\n",
    "\n",
    "\n",
    "#source_bh.to_csv(tmp_dir+'source_merge/source_Boreholes.csv', index=False)\n",
    "#source_pz.to_csv(tmp_dir+'source_merge/source_Piezometers.csv', index=False)\n",
    "#source_ukw.to_csv(tmp_dir+'source_merge/source_Unkown-facility.csv', index=False)\n",
    "#source_litho.to_csv(tmp_dir+'source_merge/source_Lithology.csv', index=False)\n",
    "#source_mes_pz.to_csv(tmp_dir+'source_merge/source_Measures.csv', index=False)\n",
    "#source_mes_sol.to_csv(tmp_dir+'source_merge/source_Measures-soil.csv', index=False)\n",
    "#source_prv_eau.to_csv(tmp_dir+'source_merge/source_Samples-water.csv', index=False)\n",
    "source_prv_sol.to_csv(tmp_dir+'source_merge/source_Samples-soil.csv', index=False)\n",
    "source_an.to_csv(tmp_dir+'source_merge/source_Analysis.csv', index=False)\n",
    "\n",
    "\n",
    "print(f'source_bh:{len(source_bh)} ; source_pz:{len(source_pz)} ; source_litho:{len(source_litho)} ; '\n",
    "     f'source_Fac-uknw:{len(source_ukw)} ; source_an:{len(source_an)} ;\\nsource_prv_sol:{len(source_prv_sol)} ;'\n",
    "     f'source_prv_eau:{len(source_prv_eau)} ; source_mes_pz:{len(source_mes_pz)} ; source_mes_sol:{len(source_mes_sol)} ;')"
   ]
  },
  {
   "cell_type": "markdown",
   "id": "static-diversity",
   "metadata": {},
   "source": [
    "* **Sheet : 'Paramètres agro.'**"
   ]
  },
  {
   "cell_type": "code",
   "execution_count": null,
   "id": "shaped-coating",
   "metadata": {},
   "outputs": [],
   "source": [
    "tmp_dir=ROOT_DIR + '/CF_data/Result_traitem/Container_phyto/'\n",
    "sheet='Param_agro'"
   ]
  },
  {
   "cell_type": "code",
   "execution_count": null,
   "id": "theoretical-defensive",
   "metadata": {},
   "outputs": [],
   "source": [
    "df = pd.read_excel(ROOT_DIR + '/CF_data/Data_UMONS/Contamination/Résultats et mesures Siterem/'\n",
    "                   'Résultats SOL container phyto t=0_décret sol.xls', sheet_name='Paramètres agro.', skiprows=4)\n",
    "df=na_line_drop(df,0)\n",
    "df=na_col_drop(df,1)\n",
    "df.replace(r'<|>','', inplace=True, regex=True)\n",
    "df.replace(r'-$',np.nan, inplace=True, regex=True)\n",
    "\n",
    "dataframe_viewer(df, rows=5)"
   ]
  },
  {
   "cell_type": "code",
   "execution_count": null,
   "id": "statewide-roommate",
   "metadata": {},
   "outputs": [],
   "source": [
    "df=df.transpose()\n",
    "df.reset_index(drop=True, inplace=True)\n",
    "df=col_ren(df, 0)"
   ]
  },
  {
   "cell_type": "code",
   "execution_count": null,
   "id": "neither-charity",
   "metadata": {},
   "outputs": [],
   "source": [
    "df.drop(list(range(1)), axis=0, inplace=True)\n",
    "df.reset_index(drop=True, inplace=True)"
   ]
  },
  {
   "cell_type": "code",
   "execution_count": null,
   "id": "fifty-germany",
   "metadata": {},
   "outputs": [],
   "source": [
    "df=dble_col_drop(df)"
   ]
  },
  {
   "cell_type": "code",
   "execution_count": null,
   "id": "scientific-breach",
   "metadata": {
    "scrolled": true
   },
   "outputs": [],
   "source": [
    "df=na_col_drop(df,1)\n",
    "df=na_line_drop(df,3)\n",
    "df.reset_index(drop=True, inplace=True)"
   ]
  },
  {
   "cell_type": "code",
   "execution_count": null,
   "id": "modified-decline",
   "metadata": {},
   "outputs": [],
   "source": [
    "df.drop(columns=df.columns[[5,6]], axis=2, inplace=True)"
   ]
  },
  {
   "cell_type": "code",
   "execution_count": null,
   "id": "forward-poland",
   "metadata": {},
   "outputs": [],
   "source": [
    "df.columns"
   ]
  },
  {
   "cell_type": "code",
   "execution_count": null,
   "id": "plain-evanescence",
   "metadata": {},
   "outputs": [],
   "source": [
    "name=['ID_ech','Ech_top','Ech_base','MS','Date_prv','MO','Residu_perte_feu','COT','Fract_arg','Fract_min_2µ', \n",
    "      'Fract_min_50µ', 'Fract_min_2', 'Fract_2', 'Fract_2+', 'pH_KCl','Tem_pH_mes', 'pH_H20', 'sulfures_tot', \n",
    "      'chlorures', 'azote_Kjeldahl']\n",
    "df=col_ren(df, name=name, mode=1)\n",
    "df.insert(1,'Type_ech','Sol')"
   ]
  },
  {
   "cell_type": "code",
   "execution_count": null,
   "id": "posted-specialist",
   "metadata": {},
   "outputs": [],
   "source": [
    "prv_sol=df"
   ]
  },
  {
   "cell_type": "code",
   "execution_count": null,
   "id": "breathing-brunswick",
   "metadata": {
    "scrolled": false
   },
   "outputs": [],
   "source": [
    "dataframe_viewer(prv_sol, rows=5)"
   ]
  },
  {
   "cell_type": "code",
   "execution_count": null,
   "id": "ahead-illness",
   "metadata": {},
   "outputs": [],
   "source": [
    "data_merger(source_prv_sol, prv_sol, on='ID_ech', how='outer', )[0]"
   ]
  },
  {
   "cell_type": "code",
   "execution_count": null,
   "id": "postal-medium",
   "metadata": {
    "scrolled": false
   },
   "outputs": [],
   "source": [
    "if not os.path.exists(tmp_dir):\n",
    "    os.makedirs(tmp_dir), os.makedirs(tmp_dir+'source_merge/') \n",
    "\n",
    "#bh.to_csv(tmp_dir+'source_merge/source_Boreholes.csv', index=False)\n",
    "#pz.to_csv(tmp_dir+sheet+'_Piezometers.csv', index=False)\n",
    "#ouv.to_csv(tmp_dir+sheet+'_Unkown-facility.csv', index=False)\n",
    "#litho.to_csv(tmp_dir+sheet+'_Lithology.csv', index=False)\n",
    "#mes_pz.to_csv(tmp_dir+sheet+'_Measures.csv', index=False)\n",
    "#mes_sol.to_csv(tmp_dir+sheet+'_Measures-soil.csv', index=False)\n",
    "#prv_eau.to_csv(tmp_dir+sheet+'_Samples-water.csv', index=False)\n",
    "prv_sol.to_csv(tmp_dir+sheet+'_Samples-soil.csv', index=False)\n",
    "#an.to_csv(tmp_dir+sheet+'_Analysis.csv', index=False)\n",
    "\n",
    "\n",
    "#source_bh.to_csv(tmp_dir+'source_merge/source_Boreholes.csv', index=False)\n",
    "#source_pz.to_csv(tmp_dir+'source_merge/source_Piezometers.csv', index=False)\n",
    "#source_ukw.to_csv(tmp_dir+'source_merge/source_Unkown-facility.csv', index=False)\n",
    "#source_litho.to_csv(tmp_dir+'source_merge/source_Lithology.csv', index=False)\n",
    "#source_mes_pz.to_csv(tmp_dir+'source_merge/source_Measures.csv', index=False)\n",
    "#source_mes_sol.to_csv(tmp_dir+'source_merge/source_Measures-soil.csv', index=False)\n",
    "#source_prv_eau.to_csv(tmp_dir+'source_merge/source_Samples-water.csv', index=False)\n",
    "source_prv_sol.to_csv(tmp_dir+'source_merge/source_Samples-soil.csv', index=False)\n",
    "#source_an.to_csv(tmp_dir+'source_merge/source_Analysis.csv', index=False)\n",
    "\n",
    "\n",
    "print(f'source_bh:{len(source_bh)} ; source_pz:{len(source_pz)} ; source_litho:{len(source_litho)} ; '\n",
    "     f'source_Fac-uknw:{len(source_ukw)} ; source_an:{len(source_an)} ;\\nsource_prv_sol:{len(source_prv_sol)} ;'\n",
    "     f'source_prv_eau:{len(source_prv_eau)} ; source_mes_pz:{len(source_mes_pz)} ; source_mes_sol:{len(source_mes_sol)} ;')"
   ]
  },
  {
   "cell_type": "markdown",
   "id": "julian-spare",
   "metadata": {},
   "source": [
    "--------------------------------------------------------------------------------------------------------"
   ]
  },
  {
   "cell_type": "markdown",
   "id": "organized-copying",
   "metadata": {},
   "source": [
    "## 11-Resultats_Siterem_eau_extension_pilote_jusque_decembre_2020.xlsx\n",
    "* **Sheet : 'Résult EAU'**"
   ]
  },
  {
   "cell_type": "code",
   "execution_count": null,
   "id": "activated-rental",
   "metadata": {},
   "outputs": [],
   "source": [
    "# New file, so the source variables must be overwritten !!\n",
    "_df=pd.DataFrame()\n",
    "source_mes_pz, source_mes_sol, source_pz, source_prv_eau, source_prv_sol =  _df, _df, _df, _df, _df\n",
    "source_ukw, source_an, source_litho, source_bh = _df, _df, _df, _df"
   ]
  },
  {
   "cell_type": "code",
   "execution_count": null,
   "id": "alpine-nitrogen",
   "metadata": {},
   "outputs": [],
   "source": [
    "tmp_dir=ROOT_DIR + '/CF_data/Result_traitem/Siterem_Ext_Pilote/'\n",
    "sheet='Result_eau'"
   ]
  },
  {
   "cell_type": "code",
   "execution_count": null,
   "id": "technical-montana",
   "metadata": {},
   "outputs": [],
   "source": [
    "df = pd.read_excel(ROOT_DIR + '/CF_data/Data_SITEREM/Resultats_Siterem_eau_extension_pilote_jusque_decembre_2020.xlsx', \n",
    "                   sheet_name='Résult EAU', skiprows=2)\n",
    "df=na_line_drop(df,0)\n",
    "df=na_col_drop(df,1)\n",
    "df.replace(r'<|>','', inplace=True, regex=True)\n",
    "df.replace(r'-$',np.nan, inplace=True, regex=True)\n",
    "\n",
    "dataframe_viewer(df, rows=5)"
   ]
  },
  {
   "cell_type": "raw",
   "id": "a61ee6a9",
   "metadata": {},
   "source": [
    "indexes = list(range(1,5))+list(range(32, len(df)))\n",
    "df.loc[indexes]"
   ]
  },
  {
   "cell_type": "code",
   "execution_count": null,
   "id": "focal-turtle",
   "metadata": {},
   "outputs": [],
   "source": [
    "prv_eau=df.loc[:31]\n",
    "an=df.loc[list(range(0,4))+list(range(32, len(df)))]"
   ]
  },
  {
   "cell_type": "code",
   "execution_count": null,
   "id": "nasty-algorithm",
   "metadata": {},
   "outputs": [],
   "source": [
    "an = an.sort_index().reset_index(drop=True)"
   ]
  },
  {
   "cell_type": "code",
   "execution_count": null,
   "id": "threatened-spokesman",
   "metadata": {},
   "outputs": [],
   "source": [
    "prv_eau=prv_eau.transpose()\n",
    "prv_eau.reset_index(drop=True, inplace=True)\n",
    "prv_eau=col_ren(prv_eau, 1)"
   ]
  },
  {
   "cell_type": "code",
   "execution_count": null,
   "id": "phantom-firewall",
   "metadata": {},
   "outputs": [],
   "source": [
    "prv_eau=dble_col_drop(prv_eau)"
   ]
  },
  {
   "cell_type": "code",
   "execution_count": null,
   "id": "global-capacity",
   "metadata": {},
   "outputs": [],
   "source": [
    "prv_eau.drop(list(range(5)), axis=0, inplace=True)\n",
    "prv_eau.reset_index(drop=True, inplace=True)\n",
    "prv_eau=na_col_drop(prv_eau,2)\n",
    "prv_eau=na_line_drop(prv_eau,3)\n",
    "prv_eau.reset_index(drop=True, inplace=True)"
   ]
  },
  {
   "cell_type": "code",
   "execution_count": null,
   "id": "therapeutic-aaron",
   "metadata": {},
   "outputs": [],
   "source": [
    "name=['ID_ech', 'Periode', 'Emplacement','Date_prv','pH','Temp_prv','Temp_pH_mes']\n",
    "prv_eau=col_ren(prv_eau, name=name, mode=1)\n",
    "prv_eau=prv_eau.query('ID_ech==ID_ech')\n",
    "prv_eau.insert(1,'Type_ech','Eau')"
   ]
  },
  {
   "cell_type": "code",
   "execution_count": null,
   "id": "entitled-stephen",
   "metadata": {
    "scrolled": false
   },
   "outputs": [],
   "source": [
    "dataframe_viewer(prv_eau, rows=3)"
   ]
  },
  {
   "cell_type": "code",
   "execution_count": null,
   "id": "reasonable-platform",
   "metadata": {},
   "outputs": [],
   "source": [
    "an=an.transpose()\n",
    "an.reset_index(drop=True, inplace=True)"
   ]
  },
  {
   "cell_type": "code",
   "execution_count": null,
   "id": "floating-baseline",
   "metadata": {},
   "outputs": [],
   "source": [
    "an=col_ren(an, 1)"
   ]
  },
  {
   "cell_type": "code",
   "execution_count": null,
   "id": "tired-livestock",
   "metadata": {},
   "outputs": [],
   "source": [
    "an.replace(r'<|>','', inplace=True, regex=True)\n",
    "an.replace(r'-',np.nan, inplace=True, regex=True)\n",
    "an.rename(columns={an.columns[0]:'ID_ech'}, inplace=True)"
   ]
  },
  {
   "cell_type": "code",
   "execution_count": null,
   "id": "indian-annotation",
   "metadata": {},
   "outputs": [],
   "source": [
    "an=dble_col_drop(an)"
   ]
  },
  {
   "cell_type": "code",
   "execution_count": null,
   "id": "connected-arthritis",
   "metadata": {},
   "outputs": [],
   "source": [
    "# rename in a first time before dropping columns (because of names like 'col_xx' in columns)\n",
    "name=['ID_ech', 'Periode', 'Emplacement','Date_prv', 'METAUX LOURDS', 'Arsenic', 'Cadmium', 'Chrome', 'Cuivre',\n",
    "      'Mercure', 'Plomb', 'Nickel', 'Zinc', \n",
    "      'CYANURES',\"Cyanures (libres)  -  NEN-EN-ISO 14403\", \"CN_totaux - NEN-EN-ISO 14403\", \n",
    "      \"cyanure (APE) - méthode basée sur EPA 335.3\", \"cyanure complex - méthode interne \", \n",
    "      \"thiocyanate - méthode interne\", \"COMPOSES AROMATIQUES VOLATILS\", \"Benzène\", \"Toluène\", \"Éthylbenzène\",\n",
    "      \"Orthoxylène\", \"Para- et métaxylène\", \"Xylènes\", \"Styrène\", \"PHENOLS\", \"Phénol\", \"Indice phénol\", \n",
    "      \"HYDROCARBURES AROMATIQUES POLYCYCLIQUES\", \"Naphtalène\", \"Acénaphtylène\", \"Acénaphtène\", \"Fluorène\", \n",
    "      \"Phénanthrène\", \"Anthracène\", \"Fluoranthène\", \"Pyrène\", \"Benzo(a)anthracène\", \"Chrysène\", \n",
    "      \"Benzo(b)fluoranthène\", \"Benzo(k)fluoranthène\", \"Benzo(a)pyrène\", \"Dibenzo(ah)anthracène\", \n",
    "      \"Benzo(ghi)pérylène\", \"Indéno(1,2,3-cd)pyrène\", \"HAP Totaux (16) - EPA\", \n",
    "      \"COMPOSES ORGANOCHLORES VOLATILS\", \"1,1-Dichloroéthane\", \"1,2-Dichloroéthane\", \n",
    "      \"1,1-dichloroéthène\", \"Cis-1,2-dichloroéthène\", \"Totaux (cis,trans) 1,2-dichloroéthènes\", \n",
    "      \"Trans 1,2-dichloroéthylène\", \"Dichlorométhane\", \"1,2-dichloropropane\", \"Tétrachloroéthylène \", \n",
    "      \"Tétrachlorométhane\", \"1,1,1-Trichloroéthane\", \"1,1,2-Trichloroéthane\", \"Trichloroéthylène\",\n",
    "      \"Chloroforme\", \"Chlorure de vinyle\", \"HYDROCARBURES TOTAUX\", \"fraction aromat. >C6-C7\", \n",
    "      \"fraction aromat. >C7-C8\", \"fraction aromat. >C8-C10\", \"fraction aliphat. C5-C6\", \"fraction aliphat. >C6-C8\",\n",
    "      \"fraction aliphat. >C8-C10\", \"Fraction C5 - C8\", \"Fraction C8 - C10\", \"Fraction C10-C12\", \"Fraction C12-C16\",\n",
    "      \"Fraction C16 - C21\", \"Fraction C21 - C35\", \"Hydrocarbures totaux C10-C35\", \"METHYL-TERT-BUTYL-ETHER\", \"MTBE\",\n",
    "     \"a\",\"b\",\"c\",\"d\",\"e\",\"f\",\"g\"]\n",
    "\n",
    "an=col_ren(an, name=name, mode=1)\n",
    "an=an.iloc[:,:-7]"
   ]
  },
  {
   "cell_type": "code",
   "execution_count": null,
   "id": "desirable-elements",
   "metadata": {},
   "outputs": [],
   "source": [
    "an.drop(list(range(3)), axis=0, inplace=True)\n",
    "an.reset_index(drop=True, inplace=True)\n",
    "an=na_col_drop(an,1)\n",
    "an.insert(1,'Type_ech','Eau')"
   ]
  },
  {
   "cell_type": "code",
   "execution_count": null,
   "id": "interested-exposure",
   "metadata": {},
   "outputs": [],
   "source": [
    "an=col_ren(an, name=pol_field_model, mode=1)"
   ]
  },
  {
   "cell_type": "code",
   "execution_count": null,
   "id": "impressive-absence",
   "metadata": {
    "scrolled": true
   },
   "outputs": [],
   "source": [
    "dataframe_viewer(an, rows=3)"
   ]
  },
  {
   "cell_type": "code",
   "execution_count": null,
   "id": "ready-korea",
   "metadata": {},
   "outputs": [],
   "source": [
    "source_prv_eau=prv_eau\n",
    "source_an=an"
   ]
  },
  {
   "cell_type": "code",
   "execution_count": null,
   "id": "administrative-guide",
   "metadata": {
    "scrolled": false
   },
   "outputs": [],
   "source": [
    "if not os.path.exists(tmp_dir):\n",
    "    os.makedirs(tmp_dir), os.makedirs(tmp_dir+'source_merge/') \n",
    "\n",
    "#bh.to_csv(tmp_dir+'source_merge/source_Boreholes.csv', index=False)\n",
    "#pz.to_csv(tmp_dir+sheet+'_Piezometers.csv', index=False)\n",
    "#ouv.to_csv(tmp_dir+sheet+'_Unkown-facility.csv', index=False)\n",
    "#litho.to_csv(tmp_dir+sheet+'_Lithology.csv', index=False)\n",
    "#mes_pz.to_csv(tmp_dir+sheet+'_Measures.csv', index=False)\n",
    "#mes_sol.to_csv(tmp_dir+sheet+'_Measures-soil.csv', index=False)\n",
    "prv_eau.to_csv(tmp_dir+sheet+'_Samples-water.csv', index=False)\n",
    "#prv_sol.to_csv(tmp_dir+sheet+'_Samples-soil.csv', index=False)\n",
    "an.to_csv(tmp_dir+sheet+'_Analysis.csv', index=False)\n",
    "\n",
    "\n",
    "#source_bh.to_csv(tmp_dir+'source_merge/source_Boreholes.csv', index=False)\n",
    "#source_pz.to_csv(tmp_dir+'source_merge/source_Piezometers.csv', index=False)\n",
    "#source_ukw.to_csv(tmp_dir+'source_merge/source_Unkown-facility.csv', index=False)\n",
    "#source_litho.to_csv(tmp_dir+'source_merge/source_Lithology.csv', index=False)\n",
    "#source_mes_pz.to_csv(tmp_dir+'source_merge/source_Measures.csv', index=False)\n",
    "#source_mes_sol.to_csv(tmp_dir+'source_merge/source_Measures-soil.csv', index=False)\n",
    "source_prv_eau.to_csv(tmp_dir+'source_merge/source_Samples-water.csv', index=False)\n",
    "#source_prv_sol.to_csv(tmp_dir+'source_merge/source_Samples-soil.csv', index=False)\n",
    "source_an.to_csv(tmp_dir+'source_merge/source_Analysis.csv', index=False)\n",
    "\n",
    "\n",
    "print(f'source_bh:{len(source_bh)} ; source_pz:{len(source_pz)} ; source_litho:{len(source_litho)} ; '\n",
    "     f'source_Fac-uknw:{len(source_ukw)} ; source_an:{len(source_an)} ;\\nsource_prv_sol:{len(source_prv_sol)} ;'\n",
    "     f'source_prv_eau:{len(source_prv_eau)} ; source_mes_pz:{len(source_mes_pz)} ; source_mes_sol:{len(source_mes_sol)} ;')"
   ]
  },
  {
   "cell_type": "markdown",
   "id": "alive-study",
   "metadata": {},
   "source": [
    "* **Sheet : 'Param physico'**"
   ]
  },
  {
   "cell_type": "code",
   "execution_count": null,
   "id": "postal-patio",
   "metadata": {},
   "outputs": [],
   "source": [
    "tmp_dir=ROOT_DIR + '/CF_data/Result_traitem/Siterem_Ext_Pilote/'\n",
    "sheet='Param_physico'"
   ]
  },
  {
   "cell_type": "code",
   "execution_count": null,
   "id": "fabulous-litigation",
   "metadata": {},
   "outputs": [],
   "source": [
    "df = pd.read_excel(ROOT_DIR + '/CF_data/Data_SITEREM/Resultats_Siterem_eau_extension_pilote_jusque_decembre_2020.xlsx', \n",
    "                   sheet_name='param. physico', skiprows=2)\n",
    "df=na_line_drop(df,0)\n",
    "df=na_col_drop(df,1)\n",
    "df.replace(r'<|>','', inplace=True, regex=True)\n",
    "df.replace(r'-$',np.nan, inplace=True, regex=True)\n",
    "\n",
    "dataframe_viewer(df, rows=5)"
   ]
  },
  {
   "cell_type": "code",
   "execution_count": null,
   "id": "tough-sewing",
   "metadata": {},
   "outputs": [],
   "source": [
    "df=df.transpose()\n",
    "df.reset_index(drop=True, inplace=True)"
   ]
  },
  {
   "cell_type": "code",
   "execution_count": null,
   "id": "alpha-concrete",
   "metadata": {},
   "outputs": [],
   "source": [
    "df=col_ren(df, 1)"
   ]
  },
  {
   "cell_type": "code",
   "execution_count": null,
   "id": "noticed-supplement",
   "metadata": {},
   "outputs": [],
   "source": [
    "df.drop(list(range(2)), axis=0, inplace=True)\n",
    "df.reset_index(drop=True, inplace=True)"
   ]
  },
  {
   "cell_type": "code",
   "execution_count": null,
   "id": "floating-sweet",
   "metadata": {},
   "outputs": [],
   "source": [
    "sdf=df.iloc[:,:33]\n",
    "df=df.iloc[:,34:]"
   ]
  },
  {
   "cell_type": "code",
   "execution_count": null,
   "id": "basic-marking",
   "metadata": {},
   "outputs": [],
   "source": [
    "df=dble_col_drop(df)\n",
    "sdf=dble_col_drop(sdf)"
   ]
  },
  {
   "cell_type": "code",
   "execution_count": null,
   "id": "labeled-consolidation",
   "metadata": {},
   "outputs": [],
   "source": [
    "df=na_line_drop(df,1)\n",
    "sdf=na_line_drop(sdf,1)"
   ]
  },
  {
   "cell_type": "code",
   "execution_count": null,
   "id": "closed-spoke",
   "metadata": {},
   "outputs": [],
   "source": [
    "df=na_col_drop(df,1)\n",
    "sdf=na_col_drop(sdf,1)"
   ]
  },
  {
   "cell_type": "code",
   "execution_count": null,
   "id": "sonic-immigration",
   "metadata": {},
   "outputs": [],
   "source": [
    "name=['ID_ech','Periode','Emplacement','Date_prv','Niv_eau_pz','Long_pz','Temp_prv ','pH', 'CE', 'ORP','O_diss']\n",
    "df=col_ren(df, mode=1, name=name)"
   ]
  },
  {
   "cell_type": "code",
   "execution_count": null,
   "id": "adult-conversion",
   "metadata": {},
   "outputs": [],
   "source": [
    "sdf=sdf.iloc[:,:-1]\n",
    "name=['ID_ech','Periode','Emplacement','Date_prv','Niv_eau_pz','Niv_eau_chbre','pH','Niv_eau_sol','Long_pz',\n",
    "      'Temp_prv ','CE','ORP','O_diss']\n",
    "sdf=col_ren(sdf, mode=1, name=name)"
   ]
  },
  {
   "cell_type": "code",
   "execution_count": null,
   "id": "mature-occasions",
   "metadata": {},
   "outputs": [],
   "source": [
    "df['CE']=df['CE'].apply(lambda x: pd.to_numeric(x)/1000 \n",
    "                                  if re.search('^\\d+', str(x)) and not pd.isnull(x) else np.nan)\n",
    "sdf['CE']=sdf['CE'].apply(lambda x: pd.to_numeric(x)/1000 \n",
    "                                  if re.search('^\\d+', str(x)) and not pd.isnull(x) else np.nan)"
   ]
  },
  {
   "cell_type": "code",
   "execution_count": null,
   "id": "ecological-thomson",
   "metadata": {},
   "outputs": [],
   "source": [
    "sdf['Periode'].replace('\\n',' ', regex=True, inplace=True)\n",
    "sdf.replace('\\n','', regex=True, inplace=True)"
   ]
  },
  {
   "cell_type": "code",
   "execution_count": null,
   "id": "tracked-course",
   "metadata": {
    "scrolled": true
   },
   "outputs": [],
   "source": [
    "data=[df, sdf]\n",
    "for d in data:\n",
    "    d['Rmq']=''\n",
    "    for i in range(len(d['ID_ech'])):\n",
    "        e=str(d.loc[i, 'Emplacement'])\n",
    "        n=str(d.loc[i, 'ID_ech'])\n",
    "        d.loc[i,'ID_ech']=n.replace('*', '')\n",
    "        \n",
    "        if re.match('S',e, re.I): \n",
    "            d.loc[i,'Emplacement']='Simulateur'\n",
    "        elif re.match('HZS',e, re.I): \n",
    "            d.loc[i,'Emplacement']='Hors simulateur'\n",
    "        else:\n",
    "            d.loc[i,'Emplacement']=np.nan\n",
    "        \n",
    "        if re.match('\\d+\\*{1}$',n, re.I): \n",
    "            d.loc[i,'Rmq']=\"mesures faites dans un seau (débit non continu ou peu de débit)\"\n",
    "        elif re.match('\\d+\\*{2}$',n, re.I): \n",
    "            d.loc[i,'Rmq']=\"mésures faites dans une eau quasi-stagnante (Piezo rempli de sédiment et débit très faible)\""
   ]
  },
  {
   "cell_type": "code",
   "execution_count": null,
   "id": "intimate-pregnancy",
   "metadata": {},
   "outputs": [],
   "source": [
    "df.insert(1, 'Type_ech', 'Eau')\n",
    "sdf.insert(1, 'Type_ech', 'Eau')"
   ]
  },
  {
   "cell_type": "code",
   "execution_count": null,
   "id": "further-blind",
   "metadata": {},
   "outputs": [],
   "source": [
    "prv_eau=data_merger(sdf, df, 'outer', 'ID_ech')[0]"
   ]
  },
  {
   "cell_type": "code",
   "execution_count": null,
   "id": "scheduled-prize",
   "metadata": {},
   "outputs": [],
   "source": [
    "prv_eau=na_col_drop(df,2)\n",
    "prv_eau=na_line_drop(df,1)\n",
    "prv_eau.reset_index(drop=True, inplace=True)"
   ]
  },
  {
   "cell_type": "code",
   "execution_count": null,
   "id": "58350c1b",
   "metadata": {},
   "outputs": [],
   "source": [
    "for i in prv_eau.index:\n",
    "    if not pd.isnull(prv_eau.loc[i, 'Emplacement']):\n",
    "        val = prv_eau.loc[i, 'Emplacement']\n",
    "    else:\n",
    "        prv_eau.loc[i, 'Emplacement'] = val"
   ]
  },
  {
   "cell_type": "code",
   "execution_count": null,
   "id": "literary-nicaragua",
   "metadata": {
    "scrolled": true
   },
   "outputs": [],
   "source": [
    "dataframe_viewer(prv_eau, rows=3)"
   ]
  },
  {
   "cell_type": "code",
   "execution_count": null,
   "id": "unavailable-force",
   "metadata": {},
   "outputs": [],
   "source": [
    "source_prv_eau, conflict_df = data_merger(source_prv_eau, prv_eau, on=['ID_ech', 'Date_prv'], how='outer')"
   ]
  },
  {
   "cell_type": "code",
   "execution_count": null,
   "id": "b4495851",
   "metadata": {},
   "outputs": [],
   "source": [
    "dataframe_viewer(conflict_df, rows=3)"
   ]
  },
  {
   "cell_type": "code",
   "execution_count": null,
   "id": "6692ab92",
   "metadata": {},
   "outputs": [],
   "source": [
    "data_validation(overall_data=source_prv_eau, conflict_data=conflict_df, index_col='index', \n",
    "                valid_dict={'Emplacement_x':list(conflict_df.index), 'pH_y':list(conflict_df.index), \n",
    "                           'Periode_x':list(conflict_df.index)})"
   ]
  },
  {
   "cell_type": "code",
   "execution_count": null,
   "id": "higher-visiting",
   "metadata": {
    "scrolled": false
   },
   "outputs": [],
   "source": [
    "if not os.path.exists(tmp_dir):\n",
    "    os.makedirs(tmp_dir), os.makedirs(tmp_dir+'source_merge/') \n",
    "\n",
    "#bh.to_csv(tmp_dir+'source_merge/source_Boreholes.csv', index=False)\n",
    "#pz.to_csv(tmp_dir+sheet+'_Piezometers.csv', index=False)\n",
    "#ouv.to_csv(tmp_dir+sheet+'_Unkown-facility.csv', index=False)\n",
    "#litho.to_csv(tmp_dir+sheet+'_Lithology.csv', index=False)\n",
    "#mes_pz.to_csv(tmp_dir+sheet+'_Measures.csv', index=False)\n",
    "#mes_sol.to_csv(tmp_dir+sheet+'_Measures-soil.csv', index=False)\n",
    "prv_eau.to_csv(tmp_dir+sheet+'_Samples-water.csv', index=False)\n",
    "#prv_sol.to_csv(tmp_dir+sheet+'_Samples-soil.csv', index=False)\n",
    "#an.to_csv(tmp_dir+sheet+'_Analysis.csv', index=False)\n",
    "\n",
    "\n",
    "#source_bh.to_csv(tmp_dir+'source_merge/source_Boreholes.csv', index=False)\n",
    "#source_pz.to_csv(tmp_dir+'source_merge/source_Piezometers.csv', index=False)\n",
    "#source_ukw.to_csv(tmp_dir+'source_merge/source_Unkown-facility.csv', index=False)\n",
    "#source_litho.to_csv(tmp_dir+'source_merge/source_Lithology.csv', index=False)\n",
    "#source_mes_pz.to_csv(tmp_dir+'source_merge/source_Measures.csv', index=False)\n",
    "#source_mes_sol.to_csv(tmp_dir+'source_merge/source_Measures-soil.csv', index=False)\n",
    "source_prv_eau.to_csv(tmp_dir+'source_merge/source_Samples-water.csv', index=False)\n",
    "#source_prv_sol.to_csv(tmp_dir+'source_merge/source_Samples-soil.csv', index=False)\n",
    "#source_an.to_csv(tmp_dir+'source_merge/source_Analysis.csv', index=False)\n",
    "\n",
    "\n",
    "print(f'source_bh:{len(source_bh)} ; source_pz:{len(source_pz)} ; source_litho:{len(source_litho)} ; '\n",
    "     f'source_Fac-uknw:{len(source_ukw)} ; source_an:{len(source_an)} ;\\nsource_prv_sol:{len(source_prv_sol)} ;'\n",
    "     f'source_prv_eau:{len(source_prv_eau)} ; source_mes_pz:{len(source_mes_pz)} ; source_mes_sol:{len(source_mes_sol)} ;')"
   ]
  },
  {
   "cell_type": "markdown",
   "id": "knowing-crown",
   "metadata": {},
   "source": [
    "* **Sheet : 'Inorganiques et composés majeurs'**"
   ]
  },
  {
   "cell_type": "code",
   "execution_count": null,
   "id": "japanese-blame",
   "metadata": {},
   "outputs": [],
   "source": [
    "tmp_dir=ROOT_DIR + '/CF_data/Result_traitem/Siterem_Ext_Pilote/'\n",
    "sheet='Inorganic_major'"
   ]
  },
  {
   "cell_type": "code",
   "execution_count": null,
   "id": "legal-kitchen",
   "metadata": {},
   "outputs": [],
   "source": [
    "df = pd.read_excel(ROOT_DIR + '/CF_data/Data_SITEREM/Resultats_Siterem_eau_extension_pilote_jusque_decembre_2020.xlsx', \n",
    "                   sheet_name='inorganiques et composés majeur', skiprows=2)\n",
    "df=na_line_drop(df,0)\n",
    "df=na_col_drop(df,1)\n",
    "df.replace(r'<|>','', inplace=True, regex=True)\n",
    "df.replace(r'-$',np.nan, inplace=True, regex=True)\n",
    "\n",
    "dataframe_viewer(df, rows=5)"
   ]
  },
  {
   "cell_type": "code",
   "execution_count": null,
   "id": "broken-undergraduate",
   "metadata": {},
   "outputs": [],
   "source": [
    "prv_eau=df.loc[:21]\n",
    "an=df.loc[list(range(0,4))+list(range(22, len(df)))]"
   ]
  },
  {
   "cell_type": "code",
   "execution_count": null,
   "id": "finished-native",
   "metadata": {},
   "outputs": [],
   "source": [
    "an = an.sort_index().reset_index(drop=True)"
   ]
  },
  {
   "cell_type": "code",
   "execution_count": null,
   "id": "genuine-florist",
   "metadata": {},
   "outputs": [],
   "source": [
    "prv_eau=prv_eau.transpose()\n",
    "prv_eau.reset_index(drop=True, inplace=True)\n",
    "prv_eau=col_ren(prv_eau, 1)"
   ]
  },
  {
   "cell_type": "code",
   "execution_count": null,
   "id": "proper-happening",
   "metadata": {},
   "outputs": [],
   "source": [
    "prv_eau=dble_col_drop(prv_eau)"
   ]
  },
  {
   "cell_type": "code",
   "execution_count": null,
   "id": "ordered-egypt",
   "metadata": {},
   "outputs": [],
   "source": [
    "prv_eau.drop(list(range(2)), axis=0, inplace=True)\n",
    "prv_eau.reset_index(drop=True, inplace=True)\n",
    "prv_eau=na_col_drop(prv_eau,2)\n",
    "prv_eau=na_line_drop(prv_eau,2)\n",
    "prv_eau.reset_index(drop=True, inplace=True)"
   ]
  },
  {
   "cell_type": "code",
   "execution_count": null,
   "id": "greater-belgium",
   "metadata": {},
   "outputs": [],
   "source": [
    "prv_eau.columns"
   ]
  },
  {
   "cell_type": "code",
   "execution_count": null,
   "id": "narrow-trading",
   "metadata": {},
   "outputs": [],
   "source": [
    "name=['ID_ech', 'Periode', 'Emplacement','Date_prv','Temp_prv']\n",
    "prv_eau=col_ren(prv_eau, name=name, mode=1)\n",
    "prv_eau=prv_eau.query('ID_ech==ID_ech')\n",
    "prv_eau.insert(1,'Type_ech','Eau')"
   ]
  },
  {
   "cell_type": "code",
   "execution_count": null,
   "id": "coral-spending",
   "metadata": {
    "scrolled": true
   },
   "outputs": [],
   "source": [
    "dataframe_viewer(prv_eau, rows=3)"
   ]
  },
  {
   "cell_type": "code",
   "execution_count": null,
   "id": "healthy-synthesis",
   "metadata": {},
   "outputs": [],
   "source": [
    "an=an.transpose()\n",
    "an.reset_index(drop=True, inplace=True)"
   ]
  },
  {
   "cell_type": "code",
   "execution_count": null,
   "id": "bronze-history",
   "metadata": {},
   "outputs": [],
   "source": [
    "an=col_ren(an, 1)"
   ]
  },
  {
   "cell_type": "code",
   "execution_count": null,
   "id": "arranged-sociology",
   "metadata": {},
   "outputs": [],
   "source": [
    "an.replace(r'<|>','', inplace=True, regex=True)\n",
    "an.replace(r'-',np.nan, inplace=True, regex=True)\n",
    "an.rename(columns={an.columns[0]:'ID_ech'}, inplace=True)"
   ]
  },
  {
   "cell_type": "code",
   "execution_count": null,
   "id": "worldwide-struggle",
   "metadata": {},
   "outputs": [],
   "source": [
    "an=dble_col_drop(an)"
   ]
  },
  {
   "cell_type": "code",
   "execution_count": null,
   "id": "protected-decrease",
   "metadata": {},
   "outputs": [],
   "source": [
    "an=na_col_drop(an,3)"
   ]
  },
  {
   "cell_type": "code",
   "execution_count": null,
   "id": "loaded-thong",
   "metadata": {},
   "outputs": [],
   "source": [
    "an.columns"
   ]
  },
  {
   "cell_type": "code",
   "execution_count": null,
   "id": "9e7daf20",
   "metadata": {},
   "outputs": [],
   "source": [
    "an.rename(columns={'ammoniaque - libre':'ammoniaque libre'}, inplace=True)"
   ]
  },
  {
   "cell_type": "code",
   "execution_count": null,
   "id": "harmful-steel",
   "metadata": {},
   "outputs": [],
   "source": [
    "an.drop(list(range(2)), axis=0, inplace=True)\n",
    "an.reset_index(drop=True, inplace=True)\n",
    "an=na_col_drop(an,1)\n",
    "an.insert(1,'Type_ech','Eau')"
   ]
  },
  {
   "cell_type": "code",
   "execution_count": null,
   "id": "standard-chuck",
   "metadata": {},
   "outputs": [],
   "source": [
    "an=col_ren(an, name=pol_field_model, mode=1)\n",
    "an.rename(columns={'Période ':'Periode', 'Date de prélèvement':'Date_prv'}, inplace=True)\n",
    "#an=an.iloc[:,:-7]"
   ]
  },
  {
   "cell_type": "code",
   "execution_count": null,
   "id": "dying-tolerance",
   "metadata": {
    "scrolled": false
   },
   "outputs": [],
   "source": [
    "dataframe_viewer(an, rows=3)"
   ]
  },
  {
   "cell_type": "code",
   "execution_count": null,
   "id": "mineral-charity",
   "metadata": {},
   "outputs": [],
   "source": [
    "dataframe_viewer(source_prv_eau, rows=3)"
   ]
  },
  {
   "cell_type": "code",
   "execution_count": null,
   "id": "9b491abf",
   "metadata": {},
   "outputs": [],
   "source": [
    "source_prv_eau.Date_prv = source_prv_eau.Date_prv.astype(object)"
   ]
  },
  {
   "cell_type": "code",
   "execution_count": null,
   "id": "6a8b720d",
   "metadata": {},
   "outputs": [],
   "source": [
    "source_prv_eau, conflict_df=data_merger(source_prv_eau, prv_eau, 'outer', ['ID_ech', 'Date_prv'])"
   ]
  },
  {
   "cell_type": "code",
   "execution_count": null,
   "id": "c607afeb",
   "metadata": {},
   "outputs": [],
   "source": [
    "data_validation(overall_data=source_prv_eau, conflict_data=conflict_df, index_col='index', \n",
    "                valid_dict={'Periode_y':list(conflict_df.index), 'Emplacement_y':list(conflict_df.index)})"
   ]
  },
  {
   "cell_type": "code",
   "execution_count": null,
   "id": "d51440e7",
   "metadata": {},
   "outputs": [],
   "source": [
    "source_an, conflict_df=data_merger(source_an, an, 'outer', ['ID_ech', 'Date_prv'])"
   ]
  },
  {
   "cell_type": "code",
   "execution_count": null,
   "id": "5862ac3c",
   "metadata": {},
   "outputs": [],
   "source": [
    "source_an.Date_prv = source_an.Date_prv.astype(object)"
   ]
  },
  {
   "cell_type": "code",
   "execution_count": null,
   "id": "72f91248",
   "metadata": {},
   "outputs": [],
   "source": [
    "dataframe_viewer(source_an, rows=5, cols=13), dataframe_viewer(source_prv_eau, rows=5, cols=13)"
   ]
  },
  {
   "cell_type": "code",
   "execution_count": null,
   "id": "chinese-sensitivity",
   "metadata": {},
   "outputs": [],
   "source": [
    "if not os.path.exists(tmp_dir):\n",
    "    os.makedirs(tmp_dir), os.makedirs(tmp_dir+'source_merge/') \n",
    "\n",
    "#bh.to_csv(tmp_dir+'source_merge/source_Boreholes.csv', index=False)\n",
    "#pz.to_csv(tmp_dir+sheet+'_Piezometers.csv', index=False)\n",
    "#ouv.to_csv(tmp_dir+sheet+'_Unkown-facility.csv', index=False)\n",
    "#litho.to_csv(tmp_dir+sheet+'_Lithology.csv', index=False)\n",
    "#mes_pz.to_csv(tmp_dir+sheet+'_Measures.csv', index=False)\n",
    "#mes_sol.to_csv(tmp_dir+sheet+'_Measures-soil.csv', index=False)\n",
    "prv_eau.to_csv(tmp_dir+sheet+'_Samples-water.csv', index=False)\n",
    "#prv_sol.to_csv(tmp_dir+sheet+'_Samples-soil.csv', index=False)\n",
    "an.to_csv(tmp_dir+sheet+'_Analysis.csv', index=False)\n",
    "\n",
    "\n",
    "#source_bh.to_csv(tmp_dir+'source_merge/source_Boreholes.csv', index=False)\n",
    "#source_pz.to_csv(tmp_dir+'source_merge/source_Piezometers.csv', index=False)\n",
    "#source_ukw.to_csv(tmp_dir+'source_merge/source_Unkown-facility.csv', index=False)\n",
    "#source_litho.to_csv(tmp_dir+'source_merge/source_Lithology.csv', index=False)\n",
    "#source_mes_pz.to_csv(tmp_dir+'source_merge/source_Measures.csv', index=False)\n",
    "#source_mes_sol.to_csv(tmp_dir+'source_merge/source_Measures-soil.csv', index=False)\n",
    "source_prv_eau.to_csv(tmp_dir+'source_merge/source_Samples-water.csv', index=False)\n",
    "#source_prv_sol.to_csv(tmp_dir+'source_merge/source_Samples-soil.csv', index=False)\n",
    "source_an.to_csv(tmp_dir+'source_merge/source_Analysis.csv', index=False)\n",
    "\n",
    "\n",
    "print(f'source_bh:{len(source_bh)} ; source_pz:{len(source_pz)} ; source_litho:{len(source_litho)} ; '\n",
    "     f'source_Fac-uknw:{len(source_ukw)} ; source_an:{len(source_an)} ;\\nsource_prv_sol:{len(source_prv_sol)} ;'\n",
    "     f'source_prv_eau:{len(source_prv_eau)} ; source_mes_pz:{len(source_mes_pz)} ; source_mes_sol:{len(source_mes_sol)} ;')"
   ]
  },
  {
   "cell_type": "markdown",
   "id": "1e29414f",
   "metadata": {},
   "source": [
    "### $\\color{red}{\\textbf{Excel source data merging}}$"
   ]
  },
  {
   "cell_type": "code",
   "execution_count": null,
   "id": "c8aad90e",
   "metadata": {},
   "outputs": [],
   "source": [
    "excel_bh_water_an, conflict_df = data_merger(source_an, source_prv_eau, how='outer', on=['ID_ech', 'Date_prv'], drop_skip_col=['index'])"
   ]
  },
  {
   "cell_type": "code",
   "execution_count": null,
   "id": "65551369",
   "metadata": {},
   "outputs": [],
   "source": [
    "save_dir = tmp_dir + 'source_merge/final_'\n",
    "if not os.path.exists(save_dir):\n",
    "    os.makedirs(save_dir)\n",
    "\n",
    "#excel_bhs.to_csv(save_dir + 'Boreholes.csv', index=False)\n",
    "#excel_bh_litho.to_csv(save_dir+'Lithologies.csv', index=False)\n",
    "#excel_bh_equip.to_csv(save_dir+'Equipments.csv', index=False)\n",
    "#excel_bh_soil_sp.to_csv(save_dir+'Soil_samples.csv', index=False)\n",
    "#excel_bh_water_sp.to_csv(save_dir+'Water_samples.csv', index=False)\n",
    "#excel_bh_soil_an.to_csv(save_dir+'Soil_analysis.csv', index=False)\n",
    "excel_bh_water_an.to_csv(save_dir+'water_analysis.csv', index=False)\n",
    "#excel_bh_mes.to_csv(save_dir+'Measures.csv', index=False)\n",
    "#excel_bh_fac.to_csv(save_dir+'Unknow_facilities.csv', index=False)"
   ]
  },
  {
   "cell_type": "markdown",
   "id": "yellow-burke",
   "metadata": {},
   "source": [
    "## 12-Resultats_Siterem_eau_pilote_jusque_decembre_2020.xlsx\n",
    "* **Sheet : 'Résult EAU'**"
   ]
  },
  {
   "cell_type": "code",
   "execution_count": null,
   "id": "strategic-albany",
   "metadata": {},
   "outputs": [],
   "source": [
    "# New file, so the source variables must be overwritten !!\n",
    "_df=pd.DataFrame()\n",
    "source_mes_pz, source_mes_sol, source_pz, source_prv_eau, source_prv_sol =  _df, _df, _df, _df, _df\n",
    "source_ukw, source_an, source_litho, source_bh = _df, _df, _df, _df"
   ]
  },
  {
   "cell_type": "code",
   "execution_count": null,
   "id": "vocal-longer",
   "metadata": {},
   "outputs": [],
   "source": [
    "tmp_dir=ROOT_DIR + '/CF_data/Result_traitem/Siterem_Pilote/'\n",
    "sheet='Result_eau'"
   ]
  },
  {
   "cell_type": "code",
   "execution_count": null,
   "id": "objective-psychology",
   "metadata": {},
   "outputs": [],
   "source": [
    "df = pd.read_excel(ROOT_DIR + '/CF_data/Data_SITEREM/Resultats_Siterem_eau_pilote_jusque_decembre_2020.xlsx', \n",
    "                   sheet_name='Résult EAU', skiprows=2)\n",
    "df=na_line_drop(df,0)\n",
    "df=na_col_drop(df,1)\n",
    "df.replace(r'<|>','', inplace=True, regex=True)\n",
    "df.replace(r'-$',np.nan, inplace=True, regex=True)\n",
    "\n",
    "dataframe_viewer(df, rows=5)"
   ]
  },
  {
   "cell_type": "code",
   "execution_count": null,
   "id": "understood-mistress",
   "metadata": {},
   "outputs": [],
   "source": [
    "prv_eau=df.loc[:32]\n",
    "an=df.loc[list(range(0,4))+list(range(33, len(df)))]"
   ]
  },
  {
   "cell_type": "code",
   "execution_count": null,
   "id": "bibliographic-religious",
   "metadata": {},
   "outputs": [],
   "source": [
    "an = an.sort_index().reset_index(drop=True)"
   ]
  },
  {
   "cell_type": "code",
   "execution_count": null,
   "id": "short-crawford",
   "metadata": {},
   "outputs": [],
   "source": [
    "prv_eau=prv_eau.transpose()\n",
    "prv_eau.reset_index(drop=True, inplace=True)\n",
    "prv_eau=col_ren(prv_eau, 1)"
   ]
  },
  {
   "cell_type": "code",
   "execution_count": null,
   "id": "technical-median",
   "metadata": {},
   "outputs": [],
   "source": [
    "prv_eau=dble_col_drop(prv_eau)"
   ]
  },
  {
   "cell_type": "code",
   "execution_count": null,
   "id": "signal-lucas",
   "metadata": {},
   "outputs": [],
   "source": [
    "prv_eau.drop(list(range(3)), axis=0, inplace=True)\n",
    "prv_eau.reset_index(drop=True, inplace=True)\n",
    "prv_eau=na_col_drop(prv_eau,2)\n",
    "prv_eau=na_line_drop(prv_eau,3)\n",
    "prv_eau.reset_index(drop=True, inplace=True)"
   ]
  },
  {
   "cell_type": "code",
   "execution_count": null,
   "id": "recognized-inspection",
   "metadata": {},
   "outputs": [],
   "source": [
    "prv_eau.columns"
   ]
  },
  {
   "cell_type": "code",
   "execution_count": null,
   "id": "sized-straight",
   "metadata": {},
   "outputs": [],
   "source": [
    "name=['ID_ech', 'Periode', 'Emplacement','Date_prv','Niv_eau_pz','Niv_eau_chbre','pH','Temp_prv','CE','ORP',\n",
    "      'O_diss','col_29','Temp_pH_mes']\n",
    "prv_eau=col_ren(prv_eau, name=name, mode=1)\n",
    "prv_eau=prv_eau.query('ID_ech==ID_ech')\n",
    "prv_eau.insert(1,'Type_ech','Eau')"
   ]
  },
  {
   "cell_type": "code",
   "execution_count": null,
   "id": "surprising-bangkok",
   "metadata": {},
   "outputs": [],
   "source": [
    "prv_eau.drop(columns=['col_29'], inplace=True)\n",
    "prv_eau['CE']=prv_eau['CE'].apply(lambda x: pd.to_numeric(x)/1000 \n",
    "                                  if re.search('^\\d+', str(x)) and not pd.isnull(x) else np.nan)"
   ]
  },
  {
   "cell_type": "code",
   "execution_count": null,
   "id": "experimental-transparency",
   "metadata": {},
   "outputs": [],
   "source": [
    "prv_eau['Periode'].replace('\\n',' ', regex=True, inplace=True)\n",
    "prv_eau.replace('\\n','', regex=True, inplace=True)"
   ]
  },
  {
   "cell_type": "code",
   "execution_count": null,
   "id": "collective-optimization",
   "metadata": {
    "scrolled": true
   },
   "outputs": [],
   "source": [
    "data=[prv_eau]\n",
    "for d in data:\n",
    "    for i in range(len(d['ID_ech'])):\n",
    "        e=str(d.loc[i, 'Emplacement'])        \n",
    "        if re.match('P',e, re.I): \n",
    "            d.loc[i,'Emplacement']='Pilote'\n",
    "        elif re.match('HZP',e, re.I): \n",
    "            d.loc[i,'Emplacement']='Hors Pilote'\n",
    "        else:\n",
    "            d.loc[i,'Emplacement']=np.nan"
   ]
  },
  {
   "cell_type": "code",
   "execution_count": null,
   "id": "wireless-former",
   "metadata": {
    "scrolled": false
   },
   "outputs": [],
   "source": [
    "dataframe_viewer(prv_eau, rows=3)"
   ]
  },
  {
   "cell_type": "code",
   "execution_count": null,
   "id": "consolidated-milton",
   "metadata": {},
   "outputs": [],
   "source": [
    "an=an.transpose()\n",
    "an.reset_index(drop=True, inplace=True)"
   ]
  },
  {
   "cell_type": "code",
   "execution_count": null,
   "id": "important-hanging",
   "metadata": {},
   "outputs": [],
   "source": [
    "an=col_ren(an, 1)"
   ]
  },
  {
   "cell_type": "code",
   "execution_count": null,
   "id": "better-majority",
   "metadata": {},
   "outputs": [],
   "source": [
    "an.replace(r'<|>','', inplace=True, regex=True)\n",
    "an.replace(r'-',np.nan, inplace=True, regex=True)\n",
    "an.rename(columns={an.columns[0]:'ID_ech'}, inplace=True)"
   ]
  },
  {
   "cell_type": "code",
   "execution_count": null,
   "id": "clinical-charger",
   "metadata": {
    "scrolled": true
   },
   "outputs": [],
   "source": [
    "an=dble_col_drop(an)"
   ]
  },
  {
   "cell_type": "code",
   "execution_count": null,
   "id": "33323065",
   "metadata": {},
   "outputs": [],
   "source": [
    "an.rename(columns={'Période ':'Periode', 'Emplacement \\n- P : Pilote \\n- HZP : Hors zone pilote':'Emplacement',\n",
    "                  'Date de prélèvement':'Date_prv'}, inplace=True)"
   ]
  },
  {
   "cell_type": "code",
   "execution_count": null,
   "id": "dental-strengthening",
   "metadata": {},
   "outputs": [],
   "source": [
    "# rename in a first time before dropping columns (because of names like 'col_xx' in columns)\n",
    "name=['ID_ech', 'Periode', 'Emplacement', 'Date_prv', 'METAUX LOURDS', 'Arsenic', 'Cadmium', 'Chrome', 'Cuivre','Mercure', 'Plomb', 'Nickel', 'Zinc', \n",
    "      'CYANURES',\"Cyanures (libres)  -  NEN-EN-ISO 14403\", \"CN_totaux - NEN-EN-ISO 14403\", \n",
    "      \"cyanure (APE) - méthode basée sur EPA 335.3\", \"cyanure complex - méthode interne \", \n",
    "      \"thiocyanate - méthode interne\", \"COMPOSES AROMATIQUES VOLATILS\", \"Benzène\", \"Toluène\", \"Éthylbenzène\",\n",
    "      \"Orthoxylène\", \"Para- et métaxylène\", \"Xylènes\", \"Styrène\", \"PHENOLS\", \"Phénol\", \"Indice phénol\", \n",
    "      \"HYDROCARBURES AROMATIQUES POLYCYCLIQUES\", \"Naphtalène\", \"Acénaphtylène\", \"Acénaphtène\", \"Fluorène\", \n",
    "      \"Phénanthrène\", \"Anthracène\", \"Fluoranthène\", \"Pyrène\", \"Benzo(a)anthracène\", \"Chrysène\", \n",
    "      \"Benzo(b)fluoranthène\", \"Benzo(k)fluoranthène\", \"Benzo(a)pyrène\", \"Dibenzo(ah)anthracène\", \n",
    "      \"Benzo(ghi)pérylène\", \"Indéno(1,2,3-cd)pyrène\", \"HAP Totaux (16) - EPA\", \n",
    "      \"COMPOSES ORGANOCHLORES VOLATILS\", \"1,1-Dichloroéthane\", \"1,2-Dichloroéthane\", \n",
    "      \"1,1-dichloroéthène\", \"Cis-1,2-dichloroéthène\", \"Totaux (cis,trans) 1,2-dichloroéthènes\", \n",
    "      \"Trans 1,2-dichloroéthylène\", \"Dichlorométhane\", \"1,2-dichloropropane\", \"Tétrachloroéthylène \", \n",
    "      \"Tétrachlorométhane\", \"1,1,1-Trichloroéthane\", \"1,1,2-Trichloroéthane\", \"Trichloroéthylène\",\n",
    "      \"Chloroforme\", \"Chlorure de vinyle\", \"HYDROCARBURES TOTAUX\", \"fraction aromat. >C6-C7\", \n",
    "      \"fraction aromat. >C7-C8\", \"fraction aromat. >C8-C10\", \"fraction aliphat. C5-C6\", \"fraction aliphat. >C6-C8\",\n",
    "      \"fraction aliphat. >C8-C10\", \"Fraction C5 - C8\", \"Fraction C8 - C10\", \"Fraction C10-C12\", \"Fraction C12-C16\",\n",
    "      \"Fraction C16 - C21\", \"Fraction C21 - C35\", \"Hydrocarbures totaux C10-C35\", \"METHYL-TERT-BUTYL-ETHER\", \"MTBE\",\n",
    "     \"a\",\"b\",\"c\",\"d\",\"e\",\"f\",\"g\",\"h\"]"
   ]
  },
  {
   "cell_type": "code",
   "execution_count": null,
   "id": "norman-devices",
   "metadata": {},
   "outputs": [],
   "source": [
    "an=col_ren(an, name=name, mode=1)\n",
    "an=an.iloc[:,:-8]"
   ]
  },
  {
   "cell_type": "code",
   "execution_count": null,
   "id": "exposed-color",
   "metadata": {},
   "outputs": [],
   "source": [
    "an.drop(list(range(3)), axis=0, inplace=True)\n",
    "an.reset_index(drop=True, inplace=True)\n",
    "an=na_col_drop(an,1)\n",
    "an.insert(1,'Type_ech','Eau')"
   ]
  },
  {
   "cell_type": "code",
   "execution_count": null,
   "id": "female-complement",
   "metadata": {},
   "outputs": [],
   "source": [
    "an=col_ren(an, name=pol_field_model, mode=1)"
   ]
  },
  {
   "cell_type": "code",
   "execution_count": null,
   "id": "1df0ea54",
   "metadata": {},
   "outputs": [],
   "source": [
    "an['Periode'].replace('\\n',' ', regex=True, inplace=True)\n",
    "an.replace('\\n','', regex=True, inplace=True)"
   ]
  },
  {
   "cell_type": "code",
   "execution_count": null,
   "id": "8d04fe39",
   "metadata": {
    "scrolled": true
   },
   "outputs": [],
   "source": [
    "data=[an]\n",
    "for d in data:\n",
    "    for i in range(len(d['ID_ech'])):\n",
    "        e=str(d.loc[i, 'Emplacement'])        \n",
    "        if re.match('P',e, re.I): \n",
    "            d.loc[i,'Emplacement']='Pilote'\n",
    "        elif re.match('HZP',e, re.I): \n",
    "            d.loc[i,'Emplacement']='Hors Pilote'\n",
    "        else:\n",
    "            d.loc[i,'Emplacement']=np.nan"
   ]
  },
  {
   "cell_type": "code",
   "execution_count": null,
   "id": "major-shoot",
   "metadata": {
    "scrolled": false
   },
   "outputs": [],
   "source": [
    "dataframe_viewer(an, rows=3)"
   ]
  },
  {
   "cell_type": "raw",
   "id": "be78d5cb",
   "metadata": {},
   "source": [
    "#an.columns \n",
    "an.info()"
   ]
  },
  {
   "cell_type": "code",
   "execution_count": null,
   "id": "946720cf",
   "metadata": {},
   "outputs": [],
   "source": [
    "data = [prv_eau, an]\n",
    "for d in data:\n",
    "    print('-------------')\n",
    "    for i, r in d.iterrows():\n",
    "        for c in d.columns:\n",
    "            if c not in ['ID_ech', 'Type_ech', 'Periode', 'Emplacement', 'Date_prv'] and \\\n",
    "            str(type(r[c])) not in [\"<class 'float'>\", \"<class 'int'>\"]:\n",
    "                d.loc[i, c] = np.nan\n",
    "                #print(f'{i}- {str(type(r[c]))}- {c} : {r[c]}')"
   ]
  },
  {
   "cell_type": "code",
   "execution_count": null,
   "id": "received-blink",
   "metadata": {},
   "outputs": [],
   "source": [
    "source_prv_eau=prv_eau\n",
    "source_an=an"
   ]
  },
  {
   "cell_type": "code",
   "execution_count": null,
   "id": "minimal-kansas",
   "metadata": {
    "scrolled": false
   },
   "outputs": [],
   "source": [
    "if not os.path.exists(tmp_dir):\n",
    "    os.makedirs(tmp_dir), os.makedirs(tmp_dir+'source_merge/') \n",
    "\n",
    "#bh.to_csv(tmp_dir+'source_merge/source_Boreholes.csv', index=False)\n",
    "#pz.to_csv(tmp_dir+sheet+'_Piezometers.csv', index=False)\n",
    "#ouv.to_csv(tmp_dir+sheet+'_Unkown-facility.csv', index=False)\n",
    "#litho.to_csv(tmp_dir+sheet+'_Lithology.csv', index=False)\n",
    "#mes_pz.to_csv(tmp_dir+sheet+'_Measures.csv', index=False)\n",
    "#mes_sol.to_csv(tmp_dir+sheet+'_Measures-soil.csv', index=False)\n",
    "prv_eau.to_csv(tmp_dir+sheet+'_Samples-water.csv', index=False)\n",
    "#prv_sol.to_csv(tmp_dir+sheet+'_Samples-soil.csv', index=False)\n",
    "an.to_csv(tmp_dir+sheet+'_Analysis.csv', index=False)\n",
    "\n",
    "\n",
    "#source_bh.to_csv(tmp_dir+'source_merge/source_Boreholes.csv', index=False)\n",
    "#source_pz.to_csv(tmp_dir+'source_merge/source_Piezometers.csv', index=False)\n",
    "#source_ukw.to_csv(tmp_dir+'source_merge/source_Unkown-facility.csv', index=False)\n",
    "#source_litho.to_csv(tmp_dir+'source_merge/source_Lithology.csv', index=False)\n",
    "#source_mes_pz.to_csv(tmp_dir+'source_merge/source_Measures.csv', index=False)\n",
    "#source_mes_sol.to_csv(tmp_dir+'source_merge/source_Measures-soil.csv', index=False)\n",
    "source_prv_eau.to_csv(tmp_dir+'source_merge/source_Samples-water.csv', index=False)\n",
    "#source_prv_sol.to_csv(tmp_dir+'source_merge/source_Samples-soil.csv', index=False)\n",
    "source_an.to_csv(tmp_dir+'source_merge/source_Analysis.csv', index=False)\n",
    "\n",
    "\n",
    "print(f'source_bh:{len(source_bh)} ; source_pz:{len(source_pz)} ; source_litho:{len(source_litho)} ; '\n",
    "     f'source_Fac-uknw:{len(source_ukw)} ; source_an:{len(source_an)} ;\\nsource_prv_sol:{len(source_prv_sol)} ;'\n",
    "     f'source_prv_eau:{len(source_prv_eau)} ; source_mes_pz:{len(source_mes_pz)} ; source_mes_sol:{len(source_mes_sol)} ;')"
   ]
  },
  {
   "cell_type": "markdown",
   "id": "assumed-safety",
   "metadata": {},
   "source": [
    "* **Sheet : 'Param physico'**"
   ]
  },
  {
   "cell_type": "code",
   "execution_count": null,
   "id": "pressed-corner",
   "metadata": {},
   "outputs": [],
   "source": [
    "tmp_dir=ROOT_DIR + '/CF_data/Result_traitem/Siterem_Pilote/'\n",
    "sheet='Param_physico'"
   ]
  },
  {
   "cell_type": "code",
   "execution_count": null,
   "id": "signal-assistant",
   "metadata": {},
   "outputs": [],
   "source": [
    "df = pd.read_excel(ROOT_DIR + '/CF_data/Data_SITEREM/Resultats_Siterem_eau_pilote_jusque_decembre_2020.xlsx', \n",
    "                   sheet_name='param. physico', skiprows=2)\n",
    "df=na_line_drop(df,0)\n",
    "df=na_col_drop(df,1)\n",
    "df.replace(r'<|>','', inplace=True, regex=True)\n",
    "df.replace(r'-$',np.nan, inplace=True, regex=True)\n",
    "\n",
    "dataframe_viewer(df, rows=5)"
   ]
  },
  {
   "cell_type": "code",
   "execution_count": null,
   "id": "wicked-father",
   "metadata": {},
   "outputs": [],
   "source": [
    "df=df.transpose()\n",
    "df.reset_index(drop=True, inplace=True)"
   ]
  },
  {
   "cell_type": "code",
   "execution_count": null,
   "id": "engaged-geography",
   "metadata": {},
   "outputs": [],
   "source": [
    "df=col_ren(df, 1)"
   ]
  },
  {
   "cell_type": "code",
   "execution_count": null,
   "id": "dressed-tobacco",
   "metadata": {},
   "outputs": [],
   "source": [
    "df.drop(list(range(2)), axis=0, inplace=True)\n",
    "df.reset_index(drop=True, inplace=True)"
   ]
  },
  {
   "cell_type": "code",
   "execution_count": null,
   "id": "continuing-tradition",
   "metadata": {},
   "outputs": [],
   "source": [
    "sdf=df.iloc[:,:33]\n",
    "df=df.iloc[:,34:]"
   ]
  },
  {
   "cell_type": "code",
   "execution_count": null,
   "id": "premier-leather",
   "metadata": {},
   "outputs": [],
   "source": [
    "df=dble_col_drop(df)\n",
    "sdf=dble_col_drop(sdf)"
   ]
  },
  {
   "cell_type": "code",
   "execution_count": null,
   "id": "adopted-counter",
   "metadata": {},
   "outputs": [],
   "source": [
    "df=na_line_drop(df,1)\n",
    "sdf=na_line_drop(sdf,1)"
   ]
  },
  {
   "cell_type": "code",
   "execution_count": null,
   "id": "automatic-pearl",
   "metadata": {},
   "outputs": [],
   "source": [
    "df=na_col_drop(df,1)\n",
    "sdf=na_col_drop(sdf,1)"
   ]
  },
  {
   "cell_type": "code",
   "execution_count": null,
   "id": "designed-cemetery",
   "metadata": {},
   "outputs": [],
   "source": [
    "df=df.iloc[:,:-1]\n",
    "name=['ID_ech','Periode','Emplacement','Date_prv','Niv_eau_pz','Long_pz','Temp_prv ','pH', 'CE', 'ORP','O_diss']\n",
    "df=col_ren(df, mode=1, name=name)"
   ]
  },
  {
   "cell_type": "code",
   "execution_count": null,
   "id": "meaningful-ability",
   "metadata": {},
   "outputs": [],
   "source": [
    "sdf.drop(columns=['col_29'], inplace=True)\n",
    "name=['ID_ech','Periode','Emplacement','Date_prv','Niv_eau_pz','Long_pz','pH','Niv_eau_sol','Temp_prv ','CE',\n",
    "      'ORP','O_diss','Temp_pH_mes']\n",
    "sdf=col_ren(sdf, mode=1, name=name)"
   ]
  },
  {
   "cell_type": "raw",
   "id": "loving-finding",
   "metadata": {},
   "source": [
    "len(name), len(sdf.columns), sdf.info()"
   ]
  },
  {
   "cell_type": "code",
   "execution_count": null,
   "id": "funny-arlington",
   "metadata": {},
   "outputs": [],
   "source": [
    "df['CE']=df['CE'].apply(lambda x: pd.to_numeric(x)/1000 \n",
    "                                  if re.search('^\\d+', str(x)) and not pd.isnull(x) else np.nan)\n",
    "sdf['CE']=sdf['CE'].apply(lambda x: pd.to_numeric(x)/1000 \n",
    "                                  if re.search('^\\d+', str(x)) and not pd.isnull(x) else np.nan)"
   ]
  },
  {
   "cell_type": "code",
   "execution_count": null,
   "id": "attended-particle",
   "metadata": {},
   "outputs": [],
   "source": [
    "sdf['Periode'].replace('\\n',' ', regex=True, inplace=True)\n",
    "sdf.replace('\\n','', regex=True, inplace=True)\n",
    "sdf.drop(columns=[\"Niv_eau_sol\"], inplace=True)"
   ]
  },
  {
   "cell_type": "code",
   "execution_count": null,
   "id": "electoral-aircraft",
   "metadata": {
    "scrolled": true
   },
   "outputs": [],
   "source": [
    "set(sdf['Emplacement'])"
   ]
  },
  {
   "cell_type": "code",
   "execution_count": null,
   "id": "overall-collector",
   "metadata": {
    "scrolled": true
   },
   "outputs": [],
   "source": [
    "data=[df, sdf]\n",
    "for d in data:\n",
    "    for i in range(len(d['ID_ech'])):\n",
    "        e=str(d.loc[i, 'Emplacement'])\n",
    "        \n",
    "        if re.match('P',e, re.I): \n",
    "            d.loc[i,'Emplacement']='Pilote'\n",
    "        elif re.match('HZP',e, re.I): \n",
    "            d.loc[i,'Emplacement']='Hors Pilote'\n",
    "        else:\n",
    "            d.loc[i,'Emplacement']=np.nan"
   ]
  },
  {
   "cell_type": "code",
   "execution_count": null,
   "id": "explicit-student",
   "metadata": {},
   "outputs": [],
   "source": [
    "df.insert(1, 'Type_ech', 'Eau')\n",
    "sdf.insert(1, 'Type_ech', 'Eau')"
   ]
  },
  {
   "cell_type": "code",
   "execution_count": null,
   "id": "mental-latex",
   "metadata": {},
   "outputs": [],
   "source": [
    "df.replace('\\*|à compléter',np.nan, inplace=True, regex=True)"
   ]
  },
  {
   "cell_type": "code",
   "execution_count": null,
   "id": "minor-malta",
   "metadata": {},
   "outputs": [],
   "source": [
    "prv_eau, conflict_df = data_merger(sdf, df, 'outer', 'ID_ech')"
   ]
  },
  {
   "cell_type": "code",
   "execution_count": null,
   "id": "49b0f2ca",
   "metadata": {},
   "outputs": [],
   "source": [
    "source_prv_eau, conflict_df=data_merger(source_prv_eau, prv_eau, on=['ID_ech', 'Date_prv', 'Periode'], how='outer')"
   ]
  },
  {
   "cell_type": "code",
   "execution_count": null,
   "id": "aging-assumption",
   "metadata": {
    "scrolled": true
   },
   "outputs": [],
   "source": [
    "dataframe_viewer(source_prv_eau, rows=3)"
   ]
  },
  {
   "cell_type": "code",
   "execution_count": null,
   "id": "jewish-activity",
   "metadata": {
    "scrolled": false
   },
   "outputs": [],
   "source": [
    "if not os.path.exists(tmp_dir):\n",
    "    os.makedirs(tmp_dir), os.makedirs(tmp_dir+'source_merge/') \n",
    "\n",
    "#bh.to_csv(tmp_dir+'source_merge/source_Boreholes.csv', index=False)\n",
    "#pz.to_csv(tmp_dir+sheet+'_Piezometers.csv', index=False)\n",
    "#ouv.to_csv(tmp_dir+sheet+'_Unkown-facility.csv', index=False)\n",
    "#litho.to_csv(tmp_dir+sheet+'_Lithology.csv', index=False)\n",
    "#mes_pz.to_csv(tmp_dir+sheet+'_Measures.csv', index=False)\n",
    "#mes_sol.to_csv(tmp_dir+sheet+'_Measures-soil.csv', index=False)\n",
    "prv_eau.to_csv(tmp_dir+sheet+'_Samples-water.csv', index=False)\n",
    "#prv_sol.to_csv(tmp_dir+sheet+'_Samples-soil.csv', index=False)\n",
    "#an.to_csv(tmp_dir+sheet+'_Analysis.csv', index=False)\n",
    "\n",
    "\n",
    "#source_bh.to_csv(tmp_dir+'source_merge/source_Boreholes.csv', index=False)\n",
    "#source_pz.to_csv(tmp_dir+'source_merge/source_Piezometers.csv', index=False)\n",
    "#source_ukw.to_csv(tmp_dir+'source_merge/source_Unkown-facility.csv', index=False)\n",
    "#source_litho.to_csv(tmp_dir+'source_merge/source_Lithology.csv', index=False)\n",
    "#source_mes_pz.to_csv(tmp_dir+'source_merge/source_Measures.csv', index=False)\n",
    "#source_mes_sol.to_csv(tmp_dir+'source_merge/source_Measures-soil.csv', index=False)\n",
    "source_prv_eau.to_csv(tmp_dir+'source_merge/source_Samples-water.csv', index=False)\n",
    "#source_prv_sol.to_csv(tmp_dir+'source_merge/source_Samples-soil.csv', index=False)\n",
    "#source_an.to_csv(tmp_dir+'source_merge/source_Analysis.csv', index=False)\n",
    "\n",
    "\n",
    "print(f'source_bh:{len(source_bh)} ; source_pz:{len(source_pz)} ; source_litho:{len(source_litho)} ; '\n",
    "     f'source_Fac-uknw:{len(source_ukw)} ; source_an:{len(source_an)} ;\\nsource_prv_sol:{len(source_prv_sol)} ;'\n",
    "     f'source_prv_eau:{len(source_prv_eau)} ; source_mes_pz:{len(source_mes_pz)} ; source_mes_sol:{len(source_mes_sol)} ;')"
   ]
  },
  {
   "cell_type": "markdown",
   "id": "selected-liver",
   "metadata": {},
   "source": [
    "* **Sheet : 'Inorganiques et composés majeurs'**"
   ]
  },
  {
   "cell_type": "code",
   "execution_count": null,
   "id": "regulation-repository",
   "metadata": {},
   "outputs": [],
   "source": [
    "tmp_dir=ROOT_DIR + '/CF_data/Result_traitem/Siterem_Pilote/'\n",
    "sheet='Inorganic_major'"
   ]
  },
  {
   "cell_type": "code",
   "execution_count": null,
   "id": "approved-winner",
   "metadata": {},
   "outputs": [],
   "source": [
    "df = pd.read_excel(ROOT_DIR + '/CF_data/Data_SITEREM/Resultats_Siterem_eau_pilote_jusque_decembre_2020.xlsx', \n",
    "                   sheet_name='inorganiques et composés majeur', skiprows=2)\n",
    "df=na_line_drop(df,0)\n",
    "df=na_col_drop(df,1)\n",
    "df.replace(r'<|>','', inplace=True, regex=True)\n",
    "df.replace(r'-$',np.nan, inplace=True, regex=True)\n",
    "\n",
    "dataframe_viewer(df, rows=5)"
   ]
  },
  {
   "cell_type": "code",
   "execution_count": null,
   "id": "baking-headset",
   "metadata": {},
   "outputs": [],
   "source": [
    "prv_eau=df.loc[:21]\n",
    "an=df.loc[list(range(0,4))+list(range(22, len(df)))]"
   ]
  },
  {
   "cell_type": "code",
   "execution_count": null,
   "id": "human-queen",
   "metadata": {},
   "outputs": [],
   "source": [
    "an = an.sort_index().reset_index(drop=True)"
   ]
  },
  {
   "cell_type": "code",
   "execution_count": null,
   "id": "meaning-raleigh",
   "metadata": {},
   "outputs": [],
   "source": [
    "prv_eau=prv_eau.transpose()\n",
    "prv_eau.reset_index(drop=True, inplace=True)\n",
    "prv_eau=col_ren(prv_eau, 1)"
   ]
  },
  {
   "cell_type": "code",
   "execution_count": null,
   "id": "molecular-pathology",
   "metadata": {},
   "outputs": [],
   "source": [
    "prv_eau=dble_col_drop(prv_eau)"
   ]
  },
  {
   "cell_type": "code",
   "execution_count": null,
   "id": "bridal-north",
   "metadata": {},
   "outputs": [],
   "source": [
    "prv_eau.drop(list(range(2)), axis=0, inplace=True)\n",
    "prv_eau.reset_index(drop=True, inplace=True)\n",
    "prv_eau=na_col_drop(prv_eau,2)\n",
    "prv_eau=na_line_drop(prv_eau,2)\n",
    "prv_eau.reset_index(drop=True, inplace=True)"
   ]
  },
  {
   "cell_type": "code",
   "execution_count": null,
   "id": "bridal-spending",
   "metadata": {},
   "outputs": [],
   "source": [
    "prv_eau.columns"
   ]
  },
  {
   "cell_type": "code",
   "execution_count": null,
   "id": "determined-mechanics",
   "metadata": {},
   "outputs": [],
   "source": [
    "name=['ID_ech', 'Periode', 'Emplacement','Date_prv','Temp_prv']\n",
    "prv_eau.replace(r'\\n',' ', inplace=True, regex=True)\n",
    "prv_eau=col_ren(prv_eau, name=name, mode=1)\n",
    "prv_eau=prv_eau.query('ID_ech==ID_ech')\n",
    "prv_eau.insert(1,'Type_ech','Eau')"
   ]
  },
  {
   "cell_type": "code",
   "execution_count": null,
   "id": "frank-health",
   "metadata": {
    "scrolled": true
   },
   "outputs": [],
   "source": [
    "dataframe_viewer(prv_eau, rows=3)"
   ]
  },
  {
   "cell_type": "code",
   "execution_count": null,
   "id": "italian-explanation",
   "metadata": {},
   "outputs": [],
   "source": [
    "an=an.transpose()\n",
    "an.reset_index(drop=True, inplace=True)"
   ]
  },
  {
   "cell_type": "code",
   "execution_count": null,
   "id": "victorian-sugar",
   "metadata": {},
   "outputs": [],
   "source": [
    "an=col_ren(an, 1)"
   ]
  },
  {
   "cell_type": "code",
   "execution_count": null,
   "id": "yellow-fence",
   "metadata": {},
   "outputs": [],
   "source": [
    "an.replace(r'<|>','', inplace=True, regex=True)\n",
    "an.replace(r'-',np.nan, inplace=True, regex=True)\n",
    "an.rename(columns={an.columns[0]:'ID_ech'}, inplace=True)"
   ]
  },
  {
   "cell_type": "code",
   "execution_count": null,
   "id": "hollywood-amsterdam",
   "metadata": {},
   "outputs": [],
   "source": [
    "an=dble_col_drop(an)"
   ]
  },
  {
   "cell_type": "code",
   "execution_count": null,
   "id": "sustained-projector",
   "metadata": {},
   "outputs": [],
   "source": [
    "an=na_col_drop(an,3)"
   ]
  },
  {
   "cell_type": "code",
   "execution_count": null,
   "id": "71a34bd5",
   "metadata": {},
   "outputs": [],
   "source": [
    "an.rename(columns={'Période ':'Periode', 'Emplacement \\n- S : Simulateur \\n- HZS : Hors zone simulateur':'Emplacement',\n",
    "                  'Date de prélèvement':'Date_prv', 'col_9':'ammoniaque libre'}, inplace=True)"
   ]
  },
  {
   "cell_type": "code",
   "execution_count": null,
   "id": "utility-enhancement",
   "metadata": {},
   "outputs": [],
   "source": [
    "an.drop(list(range(2)), axis=0, inplace=True)\n",
    "an.reset_index(drop=True, inplace=True)\n",
    "an=na_col_drop(an,1)\n",
    "an.insert(1,'Type_ech','Eau')"
   ]
  },
  {
   "cell_type": "code",
   "execution_count": null,
   "id": "phantom-header",
   "metadata": {},
   "outputs": [],
   "source": [
    "an=col_ren(an, name=pol_field_model, mode=1)\n",
    "#an=an.iloc[:,:-7]"
   ]
  },
  {
   "cell_type": "code",
   "execution_count": null,
   "id": "eeb4404b",
   "metadata": {
    "scrolled": true
   },
   "outputs": [],
   "source": [
    "data=[prv_eau, an]\n",
    "for d in data:\n",
    "    for i in range(len(d['ID_ech'])):\n",
    "        e=str(d.loc[i, 'Emplacement'])\n",
    "        \n",
    "        if re.match('S',e, re.I): \n",
    "            d.loc[i,'Emplacement']='Simulateur'\n",
    "        elif re.match('HZS',e, re.I): \n",
    "            d.loc[i,'Emplacement']='Hors simulateur'\n",
    "        else:\n",
    "            d.loc[i,'Emplacement']=np.nan"
   ]
  },
  {
   "cell_type": "code",
   "execution_count": null,
   "id": "07df8bb9",
   "metadata": {},
   "outputs": [],
   "source": [
    "data = [prv_eau, an]\n",
    "for d in data:\n",
    "    print('-------------')\n",
    "    for i, r in d.iterrows():\n",
    "        for c in d.columns:\n",
    "            if c not in ['ID', 'ID_ech', 'Type', 'Type_ech', 'Periode', 'Emplacement', 'Date_prv'] and \\\n",
    "            str(type(r[c])) not in [\"<class 'float'>\", \"<class 'int'>\"]:\n",
    "                d.loc[i, c] = np.nan\n",
    "                #print(f'{i}- {str(type(r[c]))}- {c} : {r[c]}')"
   ]
  },
  {
   "cell_type": "code",
   "execution_count": null,
   "id": "blind-duration",
   "metadata": {
    "scrolled": false
   },
   "outputs": [],
   "source": [
    "dataframe_viewer(an, rows=3)"
   ]
  },
  {
   "cell_type": "code",
   "execution_count": null,
   "id": "5e9c6e7f",
   "metadata": {},
   "outputs": [],
   "source": [
    "source_prv_eau.Date_prv = source_prv_eau.Date_prv.astype(object)"
   ]
  },
  {
   "cell_type": "code",
   "execution_count": null,
   "id": "472d4063",
   "metadata": {},
   "outputs": [],
   "source": [
    "source_prv_eau, conflict_df=data_merger(source_prv_eau, prv_eau, 'outer', ['ID_ech', 'Date_prv'] )"
   ]
  },
  {
   "cell_type": "code",
   "execution_count": null,
   "id": "2e91824f",
   "metadata": {},
   "outputs": [],
   "source": [
    "data_validation(overall_data=source_prv_eau, conflict_data=conflict_df, index_col='index', \n",
    "                valid_dict={'Periode_y':list(conflict_df.index), 'Temp_prv_y':list(conflict_df.index), \n",
    "                            'Emplacement_y':list(conflict_df.index)})"
   ]
  },
  {
   "cell_type": "code",
   "execution_count": null,
   "id": "c5df5bb2",
   "metadata": {},
   "outputs": [],
   "source": [
    "source_an, conflict_df=data_merger(source_an, an, 'outer', ['ID_ech', 'Date_prv', 'Periode'])"
   ]
  },
  {
   "cell_type": "code",
   "execution_count": null,
   "id": "fa9ed3d8",
   "metadata": {},
   "outputs": [],
   "source": [
    "data_validation(overall_data=source_an, conflict_data=conflict_df, index_col='index', \n",
    "                valid_dict={'Emplacement_y':list(conflict_df.index)})"
   ]
  },
  {
   "cell_type": "code",
   "execution_count": null,
   "id": "subsequent-trace",
   "metadata": {},
   "outputs": [],
   "source": [
    "if not os.path.exists(tmp_dir):\n",
    "    os.makedirs(tmp_dir), os.makedirs(tmp_dir+'source_merge/') \n",
    "\n",
    "#bh.to_csv(tmp_dir+'source_merge/source_Boreholes.csv', index=False)\n",
    "#pz.to_csv(tmp_dir+sheet+'_Piezometers.csv', index=False)\n",
    "#ouv.to_csv(tmp_dir+sheet+'_Unkown-facility.csv', index=False)\n",
    "#litho.to_csv(tmp_dir+sheet+'_Lithology.csv', index=False)\n",
    "#mes_pz.to_csv(tmp_dir+sheet+'_Measures.csv', index=False)\n",
    "#mes_sol.to_csv(tmp_dir+sheet+'_Measures-soil.csv', index=False)\n",
    "prv_eau.to_csv(tmp_dir+sheet+'_Samples-water.csv', index=False)\n",
    "#prv_sol.to_csv(tmp_dir+sheet+'_Samples-soil.csv', index=False)\n",
    "an.to_csv(tmp_dir+sheet+'_Analysis.csv', index=False)\n",
    "\n",
    "\n",
    "#source_bh.to_csv(tmp_dir+'source_merge/source_Boreholes.csv', index=False)\n",
    "#source_pz.to_csv(tmp_dir+'source_merge/source_Piezometers.csv', index=False)\n",
    "#source_ukw.to_csv(tmp_dir+'source_merge/source_Unkown-facility.csv', index=False)\n",
    "#source_litho.to_csv(tmp_dir+'source_merge/source_Lithology.csv', index=False)\n",
    "#source_mes_pz.to_csv(tmp_dir+'source_merge/source_Measures.csv', index=False)\n",
    "#source_mes_sol.to_csv(tmp_dir+'source_merge/source_Measures-soil.csv', index=False)\n",
    "source_prv_eau.to_csv(tmp_dir+'source_merge/source_Samples-water.csv', index=False)\n",
    "#source_prv_sol.to_csv(tmp_dir+'source_merge/source_Samples-soil.csv', index=False)\n",
    "source_an.to_csv(tmp_dir+'source_merge/source_Analysis.csv', index=False)\n",
    "\n",
    "\n",
    "print(f'source_bh:{len(source_bh)} ; source_pz:{len(source_pz)} ; source_litho:{len(source_litho)} ; '\n",
    "     f'source_Fac-uknw:{len(source_ukw)} ; source_an:{len(source_an)} ;\\nsource_prv_sol:{len(source_prv_sol)} ;'\n",
    "     f'source_prv_eau:{len(source_prv_eau)} ; source_mes_pz:{len(source_mes_pz)} ; source_mes_sol:{len(source_mes_sol)} ;')"
   ]
  },
  {
   "cell_type": "markdown",
   "id": "673fa0f2",
   "metadata": {},
   "source": [
    "### $\\color{red}{\\textbf{Excel source data merging}}$"
   ]
  },
  {
   "cell_type": "code",
   "execution_count": null,
   "id": "9b95c414",
   "metadata": {},
   "outputs": [],
   "source": [
    "excel_bh_water_an, conflict_df = data_merger(source_an, source_prv_eau, how='outer', on=['ID_ech', 'Date_prv', 'Periode'],\n",
    "                                             drop_skip_col=['index'])"
   ]
  },
  {
   "cell_type": "code",
   "execution_count": null,
   "id": "48321d6b",
   "metadata": {},
   "outputs": [],
   "source": [
    "dataframe_viewer(excel_bh_water_an, rows=5)"
   ]
  },
  {
   "cell_type": "code",
   "execution_count": null,
   "id": "48f183eb",
   "metadata": {},
   "outputs": [],
   "source": [
    "save_dir = tmp_dir + 'source_merge/final_'\n",
    "if not os.path.exists(save_dir):\n",
    "    os.makedirs(save_dir)\n",
    "\n",
    "#excel_bhs.to_csv(save_dir + 'Boreholes.csv', index=False)\n",
    "#excel_bh_litho.to_csv(save_dir+'Lithologies.csv', index=False)\n",
    "#excel_bh_equip.to_csv(save_dir+'Equipments.csv', index=False)\n",
    "#excel_bh_soil_sp.to_csv(save_dir+'Soil_samples.csv', index=False)\n",
    "#excel_bh_water_sp.to_csv(save_dir+'Water_samples.csv', index=False)\n",
    "#excel_bh_soil_an.to_csv(save_dir+'Soil_analysis.csv', index=False)\n",
    "excel_bh_water_an.to_csv(save_dir+'water_analysis.csv', index=False)\n",
    "#excel_bh_mes.to_csv(save_dir+'Measures.csv', index=False)\n",
    "#excel_bh_fac.to_csv(save_dir+'Unknow_facilities.csv', index=False)"
   ]
  },
  {
   "cell_type": "markdown",
   "id": "measured-realtor",
   "metadata": {},
   "source": [
    "## 13-Resultats_Siterem_SOL.xlsx\n",
    "* **Sheet : 'Résult SOL ext. pilote'**"
   ]
  },
  {
   "cell_type": "code",
   "execution_count": null,
   "id": "measured-surgeon",
   "metadata": {},
   "outputs": [],
   "source": [
    "# New file, so the source variables must be overwritten !!\n",
    "_df=pd.DataFrame()\n",
    "source_mes_pz, source_mes_sol, source_pz, source_prv_eau, source_prv_sol =  _df, _df, _df, _df, _df\n",
    "source_ukw, source_an, source_litho, source_bh = _df, _df, _df, _df"
   ]
  },
  {
   "cell_type": "code",
   "execution_count": null,
   "id": "sorted-president",
   "metadata": {},
   "outputs": [],
   "source": [
    "tmp_dir=ROOT_DIR + '/CF_data/Result_traitem/Siterem_Result_Sol/'\n",
    "sheet='Result_sol_ExtP'"
   ]
  },
  {
   "cell_type": "code",
   "execution_count": null,
   "id": "finite-supply",
   "metadata": {
    "scrolled": true
   },
   "outputs": [],
   "source": [
    "df = pd.read_excel(ROOT_DIR + '/CF_data/Data_SITEREM/Resultats_Siterem_SOL.xlsx', \n",
    "                   sheet_name='Résult SOL ext. pilote', skiprows=5)\n",
    "df=na_line_drop(df,0)\n",
    "df=na_col_drop(df,1)\n",
    "df.replace(r'<|>','', inplace=True, regex=True)\n",
    "df.replace(r'-$',np.nan, inplace=True, regex=True)\n",
    "\n",
    "dataframe_viewer(df, rows=5)"
   ]
  },
  {
   "cell_type": "code",
   "execution_count": null,
   "id": "exciting-identification",
   "metadata": {},
   "outputs": [],
   "source": [
    "prv_sol=df.loc[:22]\n",
    "an=df.loc[23:]"
   ]
  },
  {
   "cell_type": "code",
   "execution_count": null,
   "id": "verbal-local",
   "metadata": {},
   "outputs": [],
   "source": [
    "an.loc[0.5] = df.loc[0] # put data on first line\n",
    "an = an.sort_index().reset_index(drop=True)"
   ]
  },
  {
   "cell_type": "code",
   "execution_count": null,
   "id": "minute-boards",
   "metadata": {},
   "outputs": [],
   "source": [
    "prv_sol=prv_sol.transpose()\n",
    "prv_sol.reset_index(drop=True, inplace=True)\n",
    "prv_sol=col_ren(prv_sol, 1)"
   ]
  },
  {
   "cell_type": "code",
   "execution_count": null,
   "id": "passive-clock",
   "metadata": {},
   "outputs": [],
   "source": [
    "prv_sol=dble_col_drop(prv_sol)"
   ]
  },
  {
   "cell_type": "code",
   "execution_count": null,
   "id": "coordinated-winner",
   "metadata": {},
   "outputs": [],
   "source": [
    "prv_sol.drop(list(range(3)), axis=0, inplace=True)\n",
    "prv_sol.reset_index(drop=True, inplace=True)\n",
    "prv_sol=na_col_drop(prv_sol,1)\n",
    "prv_sol=na_line_drop(prv_sol,3)\n",
    "prv_sol.reset_index(drop=True, inplace=True)"
   ]
  },
  {
   "cell_type": "code",
   "execution_count": null,
   "id": "extreme-champion",
   "metadata": {},
   "outputs": [],
   "source": [
    "dataframe_viewer(prv_sol, rows=3)"
   ]
  },
  {
   "cell_type": "code",
   "execution_count": null,
   "id": "tropical-reset",
   "metadata": {},
   "outputs": [],
   "source": [
    "prv_sol=prv_sol[:-1]\n",
    "prv_sol.drop(columns=['broyage'], inplace=True)"
   ]
  },
  {
   "cell_type": "code",
   "execution_count": null,
   "id": "continental-street",
   "metadata": {},
   "outputs": [],
   "source": [
    "name=['ID_ech','Ech_top', 'Ech_base','MS','Date_prv','Long_for','Refus','Description','MO','COT','pH_KCl', \n",
    "      'Temp_pH_mes','pH_H20','Fract_2','Fract_2+', 'Fract_min_2µ','Fract_min_50µ','Fract_min_2']\n",
    "prv_sol=col_ren(prv_sol, name=name, mode=1)"
   ]
  },
  {
   "cell_type": "code",
   "execution_count": null,
   "id": "respiratory-meaning",
   "metadata": {},
   "outputs": [],
   "source": [
    "set(prv_sol.Description)"
   ]
  },
  {
   "cell_type": "code",
   "execution_count": null,
   "id": "economic-buffalo",
   "metadata": {},
   "outputs": [],
   "source": [
    "for i in range(len(prv_sol['Description'])):\n",
    "    x = prv_sol.loc[i,'Description']\n",
    "    if x in ['R','R ']: prv_sol.loc[i,'Description']='Remblais'\n",
    "    elif x in ['TN','TN ']: prv_sol.loc[i,'Description']='Terrain naturel'\n",
    "\n",
    "prv_sol['Refus']=prv_sol['Refus'].apply(lambda x: 'x' if not pd.isnull(x) else '')\n",
    "prv_sol.insert(1,'Type_ech','Sol')#"
   ]
  },
  {
   "cell_type": "code",
   "execution_count": null,
   "id": "respected-eight",
   "metadata": {
    "scrolled": false
   },
   "outputs": [],
   "source": [
    "dataframe_viewer(prv_sol, rows=3)"
   ]
  },
  {
   "cell_type": "code",
   "execution_count": null,
   "id": "human-interaction",
   "metadata": {},
   "outputs": [],
   "source": [
    "an=an.transpose()\n",
    "an.reset_index(drop=True, inplace=True)"
   ]
  },
  {
   "cell_type": "code",
   "execution_count": null,
   "id": "sufficient-opinion",
   "metadata": {},
   "outputs": [],
   "source": [
    "an=col_ren(an, 1)"
   ]
  },
  {
   "cell_type": "code",
   "execution_count": null,
   "id": "certified-topic",
   "metadata": {},
   "outputs": [],
   "source": [
    "an.rename(columns={an.columns[0]:'ID_ech'}, inplace=True)"
   ]
  },
  {
   "cell_type": "code",
   "execution_count": null,
   "id": "blind-ensemble",
   "metadata": {},
   "outputs": [],
   "source": [
    "name=['ID_ech','METAUX LOURDS','Arsenic','Cadmium','Chrome','Chrome VI','Cuivre','Mercure','Plomb','Nickel',\n",
    "'Zinc','CYANURES','cyanure (libre)','cyanure (totaux)','cyanure (APE)','cyanure complex','thiocyanate',\n",
    "'COMPOSES AROMATIQUES VOLATILS','Benzène','Toluène','Éthylbenzène','Orthoxylène','Para- et métaxylène','Xylènes',\n",
    "'Styrène','BTEX totaux','PHENOLS','Phénol','HYDROCARBURES AROMATIQUES POLYCYCLIQUES','Naphtalène','Acénaphtylène',\n",
    "'Acénaphtène','Fluorène','Phénanthrène','Anthracène','Fluoranthène','Pyrène','Benzo(a)anthracène','Chrysène',\n",
    "'Benzo(b)fluoranthène','Benzo(k)fluoranthène','Benzo(a)pyrène','Dibenzo(ah)anthracène','Benzo(ghi)pérylène',\n",
    "'Indéno(1,2,3-cd)pyrène','HAP Totaux (16) - EPA','COMPOSES ORGANOHALOGENES VOLATILS','Tétrachloroéthylène',\n",
    "'Trichloroéthylène','1,1-dichloroéthène','Cis-1,2-dichloroéthène','Trans 1,2-dichloroéthylène',\n",
    "'Totaux (cis,trans) 1,2-dichloroéthènes','Chlorure de vinyle','1,1,1-Trichloroéthane','1,1,2-Trichloroéthane',\n",
    "'1,1-Dichloroéthane','1,2-Dichloroéthane','Tétrachlorométhane','Chloroforme','Dichlorométhane',\n",
    "'1,2-dichloropropane','HYDROCARBURES TOTAUX','fraction aromat. >C6-C7','fraction aromat. >C7-C8',\n",
    "'fraction aromat. >C8-C10','fraction aliphat. C5-C6','fraction aliphat. >C6-C8','fraction aliphat. >C8-C10',\n",
    "'Fraction C5 - C8','Fraction C8 - C10','Fraction C10-C12','Fraction C12-C16','Fraction C16 - C21',\n",
    "'Fraction C21 - C35','Fraction C35 - C40','Hydrocarbures totaux C10-C35','Hydrocarbures totaux C10-C40',\n",
    "'Teneur mesurée','Teneur mesurée','VS : Valeur seuil']\n",
    "\n",
    "an=col_ren(an, name=name, mode=1)"
   ]
  },
  {
   "cell_type": "code",
   "execution_count": null,
   "id": "caroline-suggestion",
   "metadata": {},
   "outputs": [],
   "source": [
    "an=dble_col_drop(an)"
   ]
  },
  {
   "cell_type": "code",
   "execution_count": null,
   "id": "informed-driver",
   "metadata": {},
   "outputs": [],
   "source": [
    "an.drop(list(range(3)), axis=0, inplace=True)\n",
    "an.reset_index(drop=True, inplace=True)\n",
    "an=na_col_drop(an,1)\n",
    "an.insert(1,'Type_ech','Sol')"
   ]
  },
  {
   "cell_type": "code",
   "execution_count": null,
   "id": "lonely-gender",
   "metadata": {},
   "outputs": [],
   "source": [
    "an=col_ren(an, name=pol_field_model, mode=1)"
   ]
  },
  {
   "cell_type": "code",
   "execution_count": null,
   "id": "acquired-bundle",
   "metadata": {},
   "outputs": [],
   "source": [
    "an.rename(columns={'cyanure (totaux)':'CN_tot', 'cyanure (APE)':'CN_EPA'}, inplace=True)"
   ]
  },
  {
   "cell_type": "raw",
   "id": "scheduled-vault",
   "metadata": {},
   "source": [
    "set(prv_sol['ID_ech']).symmetric_difference(set(an['ID_ech'])) #lacking ID between the 2 sets"
   ]
  },
  {
   "cell_type": "code",
   "execution_count": null,
   "id": "antique-spouse",
   "metadata": {},
   "outputs": [],
   "source": [
    "dataframe_viewer(an, rows=5) "
   ]
  },
  {
   "cell_type": "code",
   "execution_count": null,
   "id": "877b44c2",
   "metadata": {},
   "outputs": [],
   "source": [
    "dataframe_viewer(prv_sol, rows=5)"
   ]
  },
  {
   "cell_type": "code",
   "execution_count": null,
   "id": "demanding-zimbabwe",
   "metadata": {},
   "outputs": [],
   "source": [
    "source_prv_sol=prv_sol\n",
    "source_an=an"
   ]
  },
  {
   "cell_type": "code",
   "execution_count": null,
   "id": "encouraging-eclipse",
   "metadata": {
    "scrolled": false
   },
   "outputs": [],
   "source": [
    "if not os.path.exists(tmp_dir):\n",
    "    os.makedirs(tmp_dir), os.makedirs(tmp_dir+'source_merge/') \n",
    "\n",
    "#bh.to_csv(tmp_dir+'source_merge/source_Boreholes.csv', index=False)\n",
    "#pz.to_csv(tmp_dir+sheet+'_Piezometers.csv', index=False)\n",
    "#ouv.to_csv(tmp_dir+sheet+'_Unkown-facility.csv', index=False)\n",
    "#litho.to_csv(tmp_dir+sheet+'_Lithology.csv', index=False)\n",
    "#mes_pz.to_csv(tmp_dir+sheet+'_Measures.csv', index=False)\n",
    "#mes_sol.to_csv(tmp_dir+sheet+'_Measures-soil.csv', index=False)\n",
    "#prv_eau.to_csv(tmp_dir+sheet+'_Samples-water.csv', index=False)\n",
    "prv_sol.to_csv(tmp_dir+sheet+'_Samples-soil.csv', index=False)\n",
    "an.to_csv(tmp_dir+sheet+'_Analysis.csv', index=False)\n",
    "\n",
    "\n",
    "#source_bh.to_csv(tmp_dir+'source_merge/source_Boreholes.csv', index=False)\n",
    "#source_pz.to_csv(tmp_dir+'source_merge/source_Piezometers.csv', index=False)\n",
    "#source_ukw.to_csv(tmp_dir+'source_merge/source_Unkown-facility.csv', index=False)\n",
    "#source_litho.to_csv(tmp_dir+'source_merge/source_Lithology.csv', index=False)\n",
    "#source_mes_pz.to_csv(tmp_dir+'source_merge/source_Measures.csv', index=False)\n",
    "#source_mes_sol.to_csv(tmp_dir+'source_merge/source_Measures-soil.csv', index=False)\n",
    "#source_prv_eau.to_csv(tmp_dir+'source_merge/source_Samples-water.csv', index=False)\n",
    "source_prv_sol.to_csv(tmp_dir+'source_merge/source_Samples-soil.csv', index=False)\n",
    "source_an.to_csv(tmp_dir+'source_merge/source_Analysis.csv', index=False)\n",
    "\n",
    "\n",
    "print(f'source_bh:{len(source_bh)} ; source_pz:{len(source_pz)} ; source_litho:{len(source_litho)} ; '\n",
    "     f'source_Fac-uknw:{len(source_ukw)} ; source_an:{len(source_an)} ;\\nsource_prv_sol:{len(source_prv_sol)} ;'\n",
    "     f'source_prv_eau:{len(source_prv_eau)} ; source_mes_pz:{len(source_mes_pz)} ; source_mes_sol:{len(source_mes_sol)} ;')"
   ]
  },
  {
   "cell_type": "markdown",
   "id": "nutritional-falls",
   "metadata": {},
   "source": [
    "* **Sheet : 'SOL T1 pilote'**"
   ]
  },
  {
   "cell_type": "code",
   "execution_count": null,
   "id": "brilliant-visit",
   "metadata": {},
   "outputs": [],
   "source": [
    "tmp_dir=ROOT_DIR + '/CF_data/Result_traitem/Siterem_Result_Sol/'\n",
    "sheet='SOL_T1_Pilote'"
   ]
  },
  {
   "cell_type": "code",
   "execution_count": null,
   "id": "sorted-purple",
   "metadata": {
    "scrolled": true
   },
   "outputs": [],
   "source": [
    "df = pd.read_excel(ROOT_DIR + '/CF_data/Data_SITEREM/Resultats_Siterem_SOL.xlsx', \n",
    "                   sheet_name='SOL T1 pilote', skiprows=5)\n",
    "df=na_line_drop(df,0)\n",
    "df=na_col_drop(df,1)\n",
    "df.replace(r'<|>','', inplace=True, regex=True)\n",
    "df.replace(r'-$',np.nan, inplace=True, regex=True)\n",
    "\n",
    "dataframe_viewer(df, rows=5)"
   ]
  },
  {
   "cell_type": "code",
   "execution_count": null,
   "id": "streaming-oriental",
   "metadata": {},
   "outputs": [],
   "source": [
    "prv_sol=df.loc[:35]\n",
    "an=df.loc[36:]"
   ]
  },
  {
   "cell_type": "code",
   "execution_count": null,
   "id": "aging-balance",
   "metadata": {},
   "outputs": [],
   "source": [
    "an.loc[0.5] = df.loc[0] # put data on first line\n",
    "an = an.sort_index().reset_index(drop=True)"
   ]
  },
  {
   "cell_type": "code",
   "execution_count": null,
   "id": "psychological-insured",
   "metadata": {},
   "outputs": [],
   "source": [
    "prv_sol=prv_sol.transpose()\n",
    "prv_sol.reset_index(drop=True, inplace=True)\n",
    "prv_sol=col_ren(prv_sol, 1)"
   ]
  },
  {
   "cell_type": "code",
   "execution_count": null,
   "id": "elegant-angel",
   "metadata": {},
   "outputs": [],
   "source": [
    "prv_sol=dble_col_drop(prv_sol)"
   ]
  },
  {
   "cell_type": "code",
   "execution_count": null,
   "id": "short-constitution",
   "metadata": {},
   "outputs": [],
   "source": [
    "prv_sol.drop(list(range(3)), axis=0, inplace=True)\n",
    "prv_sol.reset_index(drop=True, inplace=True)\n",
    "prv_sol=na_col_drop(prv_sol,1)\n",
    "prv_sol=na_line_drop(prv_sol,3)\n",
    "prv_sol.reset_index(drop=True, inplace=True)"
   ]
  },
  {
   "cell_type": "code",
   "execution_count": null,
   "id": "controlled-florence",
   "metadata": {},
   "outputs": [],
   "source": [
    "prv_sol=prv_sol[:-1]\n",
    "prv_sol.drop(columns=['broyage'], inplace=True)"
   ]
  },
  {
   "cell_type": "code",
   "execution_count": null,
   "id": "industrial-bearing",
   "metadata": {},
   "outputs": [],
   "source": [
    "prv_sol.columns"
   ]
  },
  {
   "cell_type": "code",
   "execution_count": null,
   "id": "compliant-conversion",
   "metadata": {},
   "outputs": [],
   "source": [
    "name=['ID_ech','Ech_top', 'Ech_base','MS','Date_prv','Long_for','Refus','Nature_ech','Fract_2','Fract_2+']\n",
    "prv_sol=col_ren(prv_sol, name=name, mode=1)"
   ]
  },
  {
   "cell_type": "code",
   "execution_count": null,
   "id": "planned-trinity",
   "metadata": {},
   "outputs": [],
   "source": [
    "for i in range(len(prv_sol['Nature_ech'])):\n",
    "    x = prv_sol.loc[i,'Nature_ech']\n",
    "    if x in ['R','R ']: prv_sol.loc[i,'Nature_ech']='Remblais'\n",
    "    elif x in ['TN','TN ']: prv_sol.loc[i,'Nature_ech']='Terrain naturel'\n",
    "\n",
    "prv_sol['Refus']=prv_sol['Refus'].apply(lambda x: 'x' if not pd.isnull(x) else '')\n",
    "prv_sol.insert(1,'Type_ech','Sol')#"
   ]
  },
  {
   "cell_type": "code",
   "execution_count": null,
   "id": "continental-howard",
   "metadata": {
    "scrolled": false
   },
   "outputs": [],
   "source": [
    "dataframe_viewer(prv_sol, rows=3)"
   ]
  },
  {
   "cell_type": "code",
   "execution_count": null,
   "id": "opposite-qatar",
   "metadata": {},
   "outputs": [],
   "source": [
    "an=an.transpose()\n",
    "an.reset_index(drop=True, inplace=True)"
   ]
  },
  {
   "cell_type": "code",
   "execution_count": null,
   "id": "distributed-civilization",
   "metadata": {},
   "outputs": [],
   "source": [
    "an=col_ren(an, 1)"
   ]
  },
  {
   "cell_type": "code",
   "execution_count": null,
   "id": "drawn-wyoming",
   "metadata": {},
   "outputs": [],
   "source": [
    "an.rename(columns={an.columns[0]:'ID_ech'}, inplace=True)"
   ]
  },
  {
   "cell_type": "code",
   "execution_count": null,
   "id": "beautiful-trading",
   "metadata": {},
   "outputs": [],
   "source": [
    "name=['ID_ech','METAUX LOURDS','Arsenic','Cadmium','Chrome','Chrome VI','Cobalt','Cuivre','Mercure','Plomb', \n",
    "'Nickel','Zinc','CYANURES','cyanure (libre)','cyanure (totaux)','cyanure (APE)','cyanure complex','thiocyanate',\n",
    "'COMPOSES AROMATIQUES VOLATILS','Benzène','Toluène','Éthylbenzène', 'Orthoxylène','Para- et métaxylène','Xylènes',\n",
    "'Styrène','BTEX totaux','PHENOLS','Phénol','Indice phénol','HYDROCARBURES AROMATIQUES POLYCYCLIQUES','Naphtalène',\n",
    "'Acénaphtylène','Acénaphtène', 'Fluorène','Phénanthrène','Anthracène','Fluoranthène','Pyrène','Benzo(a)anthracène',\n",
    "'Chrysène','Benzo(b)fluoranthène','Benzo(k)fluoranthène','Benzo(a)pyrène','Dibenzo(ah)anthracène',\n",
    "'Benzo(ghi)pérylène','Indéno(1,2,3-cd)pyrène','HAP Totaux (16) - EPA','COMPOSES ORGANOHALOGENES VOLATILS',\n",
    "'Tétrachloroéthylène','Trichloroéthylène','1,1-dichloroéthène','Cis-1,2-dichloroéthène',\n",
    "'Trans 1,2-dichloroéthylène','Totaux (cis,trans) 1,2-dichloroéthènes','Chlorure de vinyle',\n",
    "'1,1,1-Trichloroéthane','1,1,2-Trichloroéthane','1,1-Dichloroéthane','1,2-Dichloroéthane','Tétrachlorométhane',\n",
    "'Chloroforme','Dichlorométhane','1,2-dichloropropane','EOX','HYDROCARBURES TOTAUX',\n",
    "'fraction aromat. >C6-C7','fraction aromat. >C7-C8','fraction aromat. >C8-C10','fraction aliphat. C5-C6',\n",
    "'fraction aliphat. >C6-C8','fraction aliphat. >C8-C10','Fraction C5 - C8','Fraction C8 - C10','Fraction C10-C12',\n",
    "'Fraction C12-C16','Fraction C16 - C21','Fraction C21 - C35','Fraction C35 - C40','Hydrocarbures totaux C10-C35',\n",
    "'Hydrocarbures totaux C10-C40','METHYL-TERT-BUTYL-ETHER','MTBE']\n",
    "\n",
    "an=an.iloc[:,:-17]\n",
    "an=col_ren(an, name=name, mode=1)"
   ]
  },
  {
   "cell_type": "raw",
   "id": "threatened-southeast",
   "metadata": {},
   "source": [
    "len(name), len(an.columns[:-17]), print(list(an.columns[:-17]))"
   ]
  },
  {
   "cell_type": "code",
   "execution_count": null,
   "id": "still-legend",
   "metadata": {},
   "outputs": [],
   "source": [
    "an=dble_col_drop(an)"
   ]
  },
  {
   "cell_type": "code",
   "execution_count": null,
   "id": "colonial-tuition",
   "metadata": {},
   "outputs": [],
   "source": [
    "an.drop(list(range(3)), axis=0, inplace=True)\n",
    "an.reset_index(drop=True, inplace=True)\n",
    "an=na_col_drop(an,3)\n",
    "an.insert(1,'Type_ech','Sol')"
   ]
  },
  {
   "cell_type": "code",
   "execution_count": null,
   "id": "stable-consolidation",
   "metadata": {},
   "outputs": [],
   "source": [
    "an=col_ren(an, name=pol_field_model, mode=1)"
   ]
  },
  {
   "cell_type": "code",
   "execution_count": null,
   "id": "romantic-dylan",
   "metadata": {},
   "outputs": [],
   "source": [
    "an.rename(columns={'cyanure (totaux)':'CN_tot', 'cyanure (APE)':'CN_EPA'}, inplace=True)"
   ]
  },
  {
   "cell_type": "code",
   "execution_count": null,
   "id": "planned-charger",
   "metadata": {},
   "outputs": [],
   "source": [
    "dataframe_viewer(an, rows=5) "
   ]
  },
  {
   "cell_type": "code",
   "execution_count": null,
   "id": "1f519912",
   "metadata": {},
   "outputs": [],
   "source": [
    "dataframe_viewer(prv_sol, rows=5) "
   ]
  },
  {
   "cell_type": "raw",
   "id": "pharmaceutical-teddy",
   "metadata": {},
   "source": [
    "set(prv_sol['ID_ech']).symmetric_difference(set(an['ID_ech'])) #lacking ID between the 2 sets"
   ]
  },
  {
   "cell_type": "code",
   "execution_count": null,
   "id": "extra-controversy",
   "metadata": {},
   "outputs": [],
   "source": [
    "#source_prv_sol.info()#, prv_sol.info()"
   ]
  },
  {
   "cell_type": "code",
   "execution_count": null,
   "id": "german-checkout",
   "metadata": {},
   "outputs": [],
   "source": [
    "source_prv_sol=source_prv_sol[['ID_ech', 'Type_ech', 'Date_prv','Long_for', 'Refus', 'Description', \n",
    "                               'Ech_top', 'Ech_base', 'MS', 'Fract_2', 'Fract_2+']]"
   ]
  },
  {
   "cell_type": "code",
   "execution_count": null,
   "id": "scheduled-swedish",
   "metadata": {},
   "outputs": [],
   "source": [
    "source_prv_sol=data_merger(source_prv_sol, prv_sol, on='ID_ech', how='outer')[0]"
   ]
  },
  {
   "cell_type": "code",
   "execution_count": null,
   "id": "c8520229",
   "metadata": {},
   "outputs": [],
   "source": [
    "source_an, conflict=data_merger(source_an,an, on='ID_ech', how='outer')"
   ]
  },
  {
   "cell_type": "code",
   "execution_count": null,
   "id": "duplicate-bolivia",
   "metadata": {},
   "outputs": [],
   "source": [
    "source_an=source_an.query('ID_ech==ID_ech')"
   ]
  },
  {
   "cell_type": "code",
   "execution_count": null,
   "id": "smaller-clearance",
   "metadata": {
    "scrolled": false
   },
   "outputs": [],
   "source": [
    "if not os.path.exists(tmp_dir):\n",
    "    os.makedirs(tmp_dir), os.makedirs(tmp_dir+'source_merge/') \n",
    "\n",
    "#bh.to_csv(tmp_dir+'source_merge/source_Boreholes.csv', index=False)\n",
    "#pz.to_csv(tmp_dir+sheet+'_Piezometers.csv', index=False)\n",
    "#ouv.to_csv(tmp_dir+sheet+'_Unkown-facility.csv', index=False)\n",
    "#litho.to_csv(tmp_dir+sheet+'_Lithology.csv', index=False)\n",
    "#mes_pz.to_csv(tmp_dir+sheet+'_Measures.csv', index=False)\n",
    "#mes_sol.to_csv(tmp_dir+sheet+'_Measures-soil.csv', index=False)\n",
    "#prv_eau.to_csv(tmp_dir+sheet+'_Samples-water.csv', index=False)\n",
    "prv_sol.to_csv(tmp_dir+sheet+'_Samples-soil.csv', index=False)\n",
    "an.to_csv(tmp_dir+sheet+'_Analysis.csv', index=False)\n",
    "\n",
    "\n",
    "#source_bh.to_csv(tmp_dir+'source_merge/source_Boreholes.csv', index=False)\n",
    "#source_pz.to_csv(tmp_dir+'source_merge/source_Piezometers.csv', index=False)\n",
    "#source_ukw.to_csv(tmp_dir+'source_merge/source_Unkown-facility.csv', index=False)\n",
    "#source_litho.to_csv(tmp_dir+'source_merge/source_Lithology.csv', index=False)\n",
    "#source_mes_pz.to_csv(tmp_dir+'source_merge/source_Measures.csv', index=False)\n",
    "#source_mes_sol.to_csv(tmp_dir+'source_merge/source_Measures-soil.csv', index=False)\n",
    "#source_prv_eau.to_csv(tmp_dir+'source_merge/source_Samples-water.csv', index=False)\n",
    "source_prv_sol.to_csv(tmp_dir+'source_merge/source_Samples-soil.csv', index=False)\n",
    "source_an.to_csv(tmp_dir+'source_merge/source_Analysis.csv', index=False)\n",
    "\n",
    "\n",
    "print(f'source_bh:{len(source_bh)} ; source_pz:{len(source_pz)} ; source_litho:{len(source_litho)} ; '\n",
    "     f'source_Fac-uknw:{len(source_ukw)} ; source_an:{len(source_an)} ;\\nsource_prv_sol:{len(source_prv_sol)} ;'\n",
    "     f'source_prv_eau:{len(source_prv_eau)} ; source_mes_pz:{len(source_mes_pz)} ; source_mes_sol:{len(source_mes_sol)} ;')"
   ]
  },
  {
   "cell_type": "markdown",
   "id": "28783397",
   "metadata": {},
   "source": [
    "### $\\color{red}{\\textbf{Excel source data merging}}$"
   ]
  },
  {
   "cell_type": "code",
   "execution_count": null,
   "id": "28988a81",
   "metadata": {},
   "outputs": [],
   "source": [
    "excel_bh_soil_an, conflict_df = data_merger(source_prv_sol, source_an, how='outer', on='ID_ech', drop_skip_col=['index'])"
   ]
  },
  {
   "cell_type": "code",
   "execution_count": null,
   "id": "0a75a241",
   "metadata": {},
   "outputs": [],
   "source": [
    "save_dir = tmp_dir + 'source_merge/final_'\n",
    "if not os.path.exists(save_dir):\n",
    "    os.makedirs(save_dir)\n",
    "\n",
    "#excel_bhs.to_csv(save_dir + 'Boreholes.csv', index=False)\n",
    "#excel_bh_litho.to_csv(save_dir+'Lithologies.csv', index=False)\n",
    "#excel_bh_equip.to_csv(save_dir+'Equipments.csv', index=False)\n",
    "#excel_bh_soil_sp.to_csv(save_dir+'Soil_samples.csv', index=False)\n",
    "#excel_bh_water_sp.to_csv(save_dir+'Water_samples.csv', index=False)\n",
    "excel_bh_soil_an.to_csv(save_dir+'Soil_analysis.csv', index=False)\n",
    "#excel_bh_water_an.to_csv(save_dir+'water_analysis.csv', index=False)\n",
    "#excel_bh_mes.to_csv(save_dir+'Measures.csv', index=False)\n",
    "#excel_bh_fac.to_csv(save_dir+'Unknow_facilities.csv', index=False)"
   ]
  },
  {
   "cell_type": "markdown",
   "id": "iraqi-uruguay",
   "metadata": {},
   "source": [
    "## 14-Logs_forages_vUmons_2018-03-20.xlsx\n",
    "* **Sheet : 'Analyse_eau_Phases1&2'**"
   ]
  },
  {
   "cell_type": "code",
   "execution_count": null,
   "id": "civic-europe",
   "metadata": {},
   "outputs": [],
   "source": [
    "# New file, so the source variables must be overwritten !!\n",
    "_df=pd.DataFrame()\n",
    "source_mes_pz, source_mes_sol, source_pz, source_prv_eau, source_prv_sol =  _df, _df, _df, _df, _df\n",
    "source_ukw, source_an, source_litho, source_bh = _df, _df, _df, _df"
   ]
  },
  {
   "cell_type": "code",
   "execution_count": null,
   "id": "coral-wagon",
   "metadata": {},
   "outputs": [],
   "source": [
    "tmp_dir=ROOT_DIR + '/CF_data/Result_traitem/vUmons_logsFor/'\n",
    "sheet='Analyse_eau_Phases1&2'"
   ]
  },
  {
   "cell_type": "code",
   "execution_count": null,
   "id": "stretch-stone",
   "metadata": {
    "scrolled": true
   },
   "outputs": [],
   "source": [
    "df = pd.read_excel(ROOT_DIR + '/CF_data/Data_UMONS/Logs_forages_vUmons_2018-03-20.xlsx', \n",
    "                   sheet_name='Analyse_eau_Phases1&2', skiprows=0)\n",
    "df=na_line_drop(df,0)\n",
    "df=na_col_drop(df,1)\n",
    "df.replace(r'<|>','', inplace=True, regex=True)\n",
    "df.replace(r'-$',np.nan, inplace=True, regex=True)\n",
    "\n",
    "dataframe_viewer(df, rows=5)"
   ]
  },
  {
   "cell_type": "code",
   "execution_count": null,
   "id": "placed-receipt",
   "metadata": {},
   "outputs": [],
   "source": [
    "df.drop(list(range(4)), axis=0, inplace=True)\n",
    "df.reset_index(drop=True, inplace=True)"
   ]
  },
  {
   "cell_type": "code",
   "execution_count": null,
   "id": "lightweight-oakland",
   "metadata": {},
   "outputs": [],
   "source": [
    "df.replace(9999,np.nan, inplace=True, regex=True) #int\n",
    "df.replace(f'[{9999}|9999].',np.nan, inplace=True, regex=True) #float, str"
   ]
  },
  {
   "cell_type": "code",
   "execution_count": null,
   "id": "conventional-moderator",
   "metadata": {},
   "outputs": [],
   "source": [
    "df['CE']=df['CE'].apply(lambda x: pd.to_numeric(x)/1000 \n",
    "                                  if re.search('^\\d+', str(x)) and not pd.isnull(x) else np.nan)"
   ]
  },
  {
   "cell_type": "code",
   "execution_count": null,
   "id": "right-actor",
   "metadata": {},
   "outputs": [],
   "source": [
    "df=col_ren(df,mode=1,name=[re.sub('9999','-',x) for x in df.columns])\n",
    "df=col_ren(df,mode=1, name=pol_field_model)"
   ]
  },
  {
   "cell_type": "code",
   "execution_count": null,
   "id": "frequent-necklace",
   "metadata": {},
   "outputs": [],
   "source": [
    "name=['ID', 'ID_ech', 'Date_prv', 'X', 'Y', 'Z', 'Long_for','Long_pz_sol', 'Niv_eau_sol', 'pH', 'CE', 'T', \n",
    "      'As', 'Cd', 'Cr', 'Cr_VI', 'Cu', 'Hg','Pb', 'Ni', 'Zn', 'CN_libre', 'CN_tot', 'CN_APE', 'CN_comp',\n",
    "      'thioCN', 'Bnz_vn', 'Bnz', 'Toln_vn', 'Toln', 'EthylBnz','O-Xyl', 'P-M-Xyl', 'Xyl_vn', 'Xyl', 'Styr', \n",
    "      'Phenol','Naphta_vn', 'Naphta', 'Acenaphtyl', 'Acenaphtn', 'Fluorene',\n",
    "       'Phenanthr', 'Anthrc', 'Flranth', 'Pyr', 'Bnz(a)anthrc', 'Chrys',\n",
    "       'Bnz(b)flranth', 'Bnz(k)flranth', 'Bnz(a)pyr', 'Dibnz(ah)anthrc',\n",
    "       'Bnz(ghi)peryl', 'Indeno(1,2,3-cd)pyr', 'HAP_tot_EPA',\n",
    "       '1,1-DCE', '1,2-DCE', '1,1-DCEn', 'Cis-1,2-DCEn',\n",
    "       '(cis,trans) 1,2-DCE_tot', 'Trans 1,2-DCEyl', 'DCM', '1,2-DCP',\n",
    "       'TetraCEyn', 'TCM', '1,1,1-TCE', '1,1,2-TCE', 'TCEyn', 'Chloroforme',\n",
    "       'CVinyl', 'Arom_C6C7', 'Arom_C7C8', 'Arom_C8C10', 'Aliphat_C5C6',\n",
    "       'Aliphat_C6C8', 'Aliphat_C8C10', 'Fract_C5C8', 'Fract_C8C10',\n",
    "       'Fract_C10C12', 'Fract_C12C16', 'Fract_C16C21', 'Fract_C21C35',\n",
    "       'HC_tot_C10C35', 'MTBE', 'Chlorure']\n",
    "df=col_ren(df, mode=1,name=name)"
   ]
  },
  {
   "cell_type": "code",
   "execution_count": null,
   "id": "treated-archive",
   "metadata": {
    "scrolled": true
   },
   "outputs": [],
   "source": [
    "df['ID_ech'].replace('Canne ', 'Can', inplace=True, regex=True)\n",
    "df['ID_ech'].replace('\\n', ' ', inplace=True, regex=True)\n",
    "df.insert(1,'Type_ech','Eau')"
   ]
  },
  {
   "cell_type": "code",
   "execution_count": null,
   "id": "athletic-craps",
   "metadata": {
    "scrolled": true
   },
   "outputs": [],
   "source": [
    "df.drop([20,39], axis=0,inplace=True)\n",
    "df.reset_index(drop=True, inplace=True)"
   ]
  },
  {
   "cell_type": "code",
   "execution_count": null,
   "id": "headed-chart",
   "metadata": {},
   "outputs": [],
   "source": [
    "df.loc[38:,'Date_prv']=df.loc[38:,'Date_prv'].apply(lambda x : dtm.datetime.fromordinal(dtm.datetime(1900, 1, 1).toordinal() + x - 2))"
   ]
  },
  {
   "cell_type": "code",
   "execution_count": null,
   "id": "compact-parliament",
   "metadata": {},
   "outputs": [],
   "source": [
    "for i in range(len(df['ID_ech'])):\n",
    "    if pd.isnull(df.loc[i,'ID_ech']): \n",
    "        df.loc[i,'ID_ech']=df.loc[i,'ID']"
   ]
  },
  {
   "cell_type": "code",
   "execution_count": null,
   "id": "substantial-value",
   "metadata": {},
   "outputs": [],
   "source": [
    "pz=df[['ID', 'X', 'Y', 'Z', 'Long_for','Long_pz_sol']]\n",
    "pz['Type'] = 'Piezo'\n",
    "\n",
    "prv_eau=df[['ID','ID_ech','Type_ech','Date_prv', 'X', 'Y', 'Z','Niv_eau_sol', 'pH', 'CE', 'T']]\n",
    "an=df[['ID','ID_ech','Type_ech','Date_prv', 'X', 'Y', 'Z','As', 'Cd', 'Cr', 'Cr_VI', 'Cu', 'Hg','Pb', 'Ni', 'Zn', 'CN_libre', 'CN_tot', 'CN_APE', \n",
    "       'CN_comp','thioCN', 'Bnz_vn', 'Bnz', 'Toln_vn', 'Toln', 'EthylBnz','O-Xyl', 'P-M-Xyl', 'Xyl_vn', 'Xyl',\n",
    "       'Styr', 'Phenol','Naphta_vn', 'Naphta', 'Acenaphtyl', 'Acenaphtn', 'Fluorene',\n",
    "       'Phenanthr', 'Anthrc', 'Flranth', 'Pyr', 'Bnz(a)anthrc', 'Chrys',\n",
    "       'Bnz(b)flranth', 'Bnz(k)flranth', 'Bnz(a)pyr', 'Dibnz(ah)anthrc',\n",
    "       'Bnz(ghi)peryl', 'Indeno(1,2,3-cd)pyr', 'HAP_tot_EPA',\n",
    "       '1,1-DCE', '1,2-DCE', '1,1-DCEn', 'Cis-1,2-DCEn',\n",
    "       '(cis,trans) 1,2-DCE_tot', 'Trans 1,2-DCEyl', 'DCM', '1,2-DCP',\n",
    "       'TetraCEyn', 'TCM', '1,1,1-TCE', '1,1,2-TCE', 'TCEyn', 'Chloroforme',\n",
    "       'CVinyl', 'Arom_C6C7', 'Arom_C7C8', 'Arom_C8C10', 'Aliphat_C5C6',\n",
    "       'Aliphat_C6C8', 'Aliphat_C8C10', 'Fract_C5C8', 'Fract_C8C10',\n",
    "       'Fract_C10C12', 'Fract_C12C16', 'Fract_C16C21', 'Fract_C21C35',\n",
    "       'HC_tot_C10C35', 'MTBE', 'Chlorure']]"
   ]
  },
  {
   "cell_type": "code",
   "execution_count": null,
   "id": "recent-piece",
   "metadata": {},
   "outputs": [],
   "source": [
    "pz.drop_duplicates(subset=['ID'], keep='first', ignore_index=True, inplace=True)"
   ]
  },
  {
   "cell_type": "code",
   "execution_count": null,
   "id": "former-while",
   "metadata": {},
   "outputs": [],
   "source": [
    "dataframe_viewer(an, rows=5)"
   ]
  },
  {
   "cell_type": "code",
   "execution_count": null,
   "id": "reduced-medicare",
   "metadata": {},
   "outputs": [],
   "source": [
    "source_an=an\n",
    "source_pz=pz\n",
    "source_prv_eau=prv_eau"
   ]
  },
  {
   "cell_type": "code",
   "execution_count": null,
   "id": "8b71e380",
   "metadata": {},
   "outputs": [],
   "source": [
    "for i in range(len(excel_water_an.ID_ech)):\n",
    "    c=excel_water_an.loc[i, 'ID_ech']\n",
    "    excel_water_an.loc[i, 'ID']=re.search(\"(\\w+\\d+(?:\\w)?)\",c).group(1)"
   ]
  },
  {
   "cell_type": "code",
   "execution_count": null,
   "id": "583d97b1",
   "metadata": {},
   "outputs": [],
   "source": [
    "save_dir = tmp_dir + 'source_merge/final_'\n",
    "if not os.path.exists(save_dir):\n",
    "    os.makedirs(save_dir)\n",
    "\n",
    "#excel_bhs.to_csv(save_dir + 'Boreholes.csv', index=False)\n",
    "#excel_bh_litho.to_csv(save_dir+'Lithologies.csv', index=False)\n",
    "#excel_bh_equip.to_csv(save_dir+'Equipments.csv', index=False)\n",
    "#excel_bh_soil_sp.to_csv(save_dir+'Soil_samples.csv', index=False)\n",
    "#excel_bh_water_sp.to_csv(save_dir+'Water_samples.csv', index=False)\n",
    "#excel_bh_soil_an.to_csv(save_dir+'Soil_analysis.csv', index=False)\n",
    "#excel_bh_water_an.to_csv(save_dir+'water_analysis.csv', index=False)\n",
    "#excel_bh_mes.to_csv(save_dir+'Measures.csv', index=False)\n",
    "#excel_bh_fac.to_csv(save_dir+'Unknow_facilities.csv', index=False)\n",
    "\n",
    "an.to_csv(save_dir+'Water_analysis.csv', index=False)"
   ]
  },
  {
   "cell_type": "code",
   "execution_count": null,
   "id": "recovered-extraction",
   "metadata": {
    "scrolled": false
   },
   "outputs": [],
   "source": [
    "if not os.path.exists(tmp_dir):\n",
    "    os.makedirs(tmp_dir), os.makedirs(tmp_dir+'source_merge/') \n",
    "\n",
    "#bh.to_csv(tmp_dir+'source_merge/source_Boreholes.csv', index=False)\n",
    "pz.to_csv(tmp_dir+sheet+'_Piezometers.csv', index=False)\n",
    "#ouv.to_csv(tmp_dir+sheet+'_Unkown-facility.csv', index=False)\n",
    "#litho.to_csv(tmp_dir+sheet+'_Lithology.csv', index=False)\n",
    "#mes_pz.to_csv(tmp_dir+sheet+'_Measures.csv', index=False)\n",
    "#mes_sol.to_csv(tmp_dir+sheet+'_Measures-soil.csv', index=False)\n",
    "prv_eau.to_csv(tmp_dir+sheet+'_Samples-water.csv', index=False)\n",
    "#prv_sol.to_csv(tmp_dir+sheet+'_Samples-soil.csv', index=False)\n",
    "an.to_csv(tmp_dir+sheet+'_Analysis.csv', index=False)\n",
    "\n",
    "\n",
    "#source_bh.to_csv(tmp_dir+'source_merge/source_Boreholes.csv', index=False)\n",
    "source_pz.to_csv(tmp_dir+'source_merge/source_Piezometers.csv', index=False)\n",
    "#source_ukw.to_csv(tmp_dir+'source_merge/source_Unkown-facility.csv', index=False)\n",
    "#source_litho.to_csv(tmp_dir+'source_merge/source_Lithology.csv', index=False)\n",
    "#source_mes_pz.to_csv(tmp_dir+'source_merge/source_Measures.csv', index=False)\n",
    "#source_mes_sol.to_csv(tmp_dir+'source_merge/source_Measures-soil.csv', index=False)\n",
    "source_prv_eau.to_csv(tmp_dir+'source_merge/source_Samples-water.csv', index=False)\n",
    "#source_prv_sol.to_csv(tmp_dir+'source_merge/source_Samples-soil.csv', index=False)\n",
    "source_an.to_csv(tmp_dir+'source_merge/source_Analysis.csv', index=False)\n",
    "\n",
    "\n",
    "print(f'source_bh:{len(source_bh)} ; source_pz:{len(source_pz)} ; source_litho:{len(source_litho)} ; '\n",
    "     f'source_Fac-uknw:{len(source_ukw)} ; source_an:{len(source_an)} ;\\nsource_prv_sol:{len(source_prv_sol)} ;'\n",
    "     f'source_prv_eau:{len(source_prv_eau)} ; source_mes_pz:{len(source_mes_pz)} ; source_mes_sol:{len(source_mes_sol)} ;')"
   ]
  },
  {
   "cell_type": "markdown",
   "id": "noted-citizenship",
   "metadata": {},
   "source": [
    "* **Sheet : 'Analyse_sol_Phases1&2'**"
   ]
  },
  {
   "cell_type": "code",
   "execution_count": null,
   "id": "controlling-enlargement",
   "metadata": {},
   "outputs": [],
   "source": [
    "tmp_dir=ROOT_DIR + '/CF_data/Result_traitem/vUmons_logsFor/'\n",
    "sheet='Analyse_sol_Phases1&2'"
   ]
  },
  {
   "cell_type": "code",
   "execution_count": null,
   "id": "adverse-wells",
   "metadata": {
    "scrolled": false
   },
   "outputs": [],
   "source": [
    "df = pd.read_excel(ROOT_DIR + '/CF_data/Data_UMONS/Logs_forages_vUmons_2018-03-20.xlsx', \n",
    "                   sheet_name='Analyse_sol_Phases1&2', skiprows=0)\n",
    "df=na_line_drop(df,0)\n",
    "df=na_col_drop(df,1)\n",
    "df.replace(r'<|>','', inplace=True, regex=True)\n",
    "df.replace(r'-$',np.nan, inplace=True, regex=True)\n",
    "\n",
    "dataframe_viewer(df, rows=5)"
   ]
  },
  {
   "cell_type": "code",
   "execution_count": null,
   "id": "interesting-present",
   "metadata": {},
   "outputs": [],
   "source": [
    "df=col_ren(df, mode=1, name=pol_field_model)"
   ]
  },
  {
   "cell_type": "code",
   "execution_count": null,
   "id": "through-smooth",
   "metadata": {},
   "outputs": [],
   "source": [
    "name=['ID_ech','Date_prv','ID','X','Y','Z','Nature_ech','Organo','Long_for','Refus','Ech_top','Ech_base',\n",
    "      'MS','Broyage < 150 µm','Broyage ','Fract_2','Fract_2+','As','Cd','Cr','Cr_VI','Cu',\n",
    "       'Hg','Pb','Ni','Zn','CN_libre','CN_tot','CN_APE',\n",
    "       'CN_comp','thioCN','Bnz','Toln','EthylBnz','O-Xyl','P-M-Xyl',\n",
    "       'Xyl','Styr','Phenol','Naphta','Acenaphtyl','Acenaphtn',\n",
    "       'Fluorene','Phenanthr','Anthrc','Flranth','Pyr','Bnz(a)anthrc',\n",
    "       'Chrys','Bnz(b)flranth','Bnz(k)flranth','Bnz(a)pyr',\n",
    "       'Dibnz(ah)anthrc','Bnz(ghi)peryl','Indeno(1,2,3-cd)pyr',\n",
    "       'HAP_tot_EPA','1,1-DCE','1,2-DCE','1,1-DCEn',\n",
    "       'Cis-1,2-DCEn','Trans 1,2-DCEyl','DCM',\n",
    "       '(cis,trans) 1,2-DCE_tot','1,2-DCP','TetraCEyn','TCM',\n",
    "       '1,1,1-TCE','1,1,2-TCE','TCEyn','Chloroforme','CVinyl','Arom_C6C7',\n",
    "       'Arom_C7C8','Arom_C8C10','Aliphat_C5C6','Aliphat_C6C8',\n",
    "       'Aliphat_C8C10','Fract_C5C8','Fract_C8C10','Fract_C10C12',\n",
    "       'Fract_C12C16','Fract_C16C21','Fract_C21C35','HC_tot_C10C35']\n",
    "df=col_ren(df, mode=1, name=name)"
   ]
  },
  {
   "cell_type": "code",
   "execution_count": null,
   "id": "funny-operator",
   "metadata": {},
   "outputs": [],
   "source": [
    "df.drop(list(range(4)), axis=0, inplace=True)\n",
    "df.reset_index(drop=True, inplace=True)"
   ]
  },
  {
   "cell_type": "code",
   "execution_count": null,
   "id": "excited-substitute",
   "metadata": {},
   "outputs": [],
   "source": [
    "df.replace(9999,np.nan, inplace=True, regex=True) #int\n",
    "df.replace(f'[{9999}|9999].',np.nan, inplace=True, regex=True) #float, str"
   ]
  },
  {
   "cell_type": "code",
   "execution_count": null,
   "id": "accurate-hypothesis",
   "metadata": {},
   "outputs": [],
   "source": [
    "for i in range(len(df['Nature_ech'])):\n",
    "    x = df.loc[i,'Nature_ech']\n",
    "    if x in ['R','R ']: df.loc[i,'Nature_ech']='Remblais'\n",
    "    elif x in ['L']: df.loc[i,'Nature_ech']='Limons'\n",
    "    elif x in ['LA']: df.loc[i,'Nature_ech']='Limons et argiles'\n",
    "    elif x in ['LS']: df.loc[i,'Nature_ech']='Limons et sables'\n",
    "\n",
    "df['Refus']=df['Refus'].apply(lambda x: 'x' if not pd.isnull(x) else '')\n",
    "df.insert(1,'Type_ech','Sol')"
   ]
  },
  {
   "cell_type": "code",
   "execution_count": null,
   "id": "improving-advocacy",
   "metadata": {},
   "outputs": [],
   "source": [
    "df.drop(14, axis=0, inplace=True)\n",
    "df.drop(['Broyage < 150 µm', 'Broyage '], axis=1, inplace=True)\n",
    "df.reset_index(drop=True, inplace=True)"
   ]
  },
  {
   "cell_type": "code",
   "execution_count": null,
   "id": "retired-melissa",
   "metadata": {},
   "outputs": [],
   "source": [
    "df.loc[8, 'ID_ech']='F4/2M'\n",
    "df.loc[31, 'ID_ech']='P19/1'\n",
    "df.loc[32, 'ID_ech']='P19/2'"
   ]
  },
  {
   "cell_type": "code",
   "execution_count": null,
   "id": "convinced-deviation",
   "metadata": {},
   "outputs": [],
   "source": [
    "pz=df[['ID', 'X', 'Y', 'Z', 'Long_for','Refus']]\n",
    "pz['Type'] = 'Piezo'\n",
    "\n",
    "prv_sol=df[['ID_ech', 'Type_ech', 'Date_prv', 'X', 'Y', 'Z', 'Nature_ech','Organo', \n",
    "            'Ech_top', 'Ech_base', 'MS', 'Fract_2','Fract_2+']]\n",
    "an=df[['ID','ID_ech', 'Date_prv', 'X', 'Y', 'Z', 'Type_ech','As', 'Cd', 'Cr', 'Cr_VI', 'Cu', 'Hg', 'Pb', 'Ni', 'Zn',\n",
    "       'CN_libre', 'CN_tot', 'CN_APE', 'CN_comp', 'thioCN', 'Bnz', 'Toln',\n",
    "       'EthylBnz', 'O-Xyl', 'P-M-Xyl', 'Xyl', 'Styr', 'Phenol', 'Naphta',\n",
    "       'Acenaphtyl', 'Acenaphtn', 'Fluorene', 'Phenanthr', 'Anthrc', 'Flranth',\n",
    "       'Pyr', 'Bnz(a)anthrc', 'Chrys', 'Bnz(b)flranth', 'Bnz(k)flranth',\n",
    "       'Bnz(a)pyr', 'Dibnz(ah)anthrc', 'Bnz(ghi)peryl', 'Indeno(1,2,3-cd)pyr',\n",
    "       'HAP_tot_EPA', '1,1-DCE', '1,2-DCE', '1,1-DCEn', 'Cis-1,2-DCEn',\n",
    "       'Trans 1,2-DCEyl', 'DCM', '(cis,trans) 1,2-DCE_tot', '1,2-DCP',\n",
    "       'TetraCEyn', 'TCM', '1,1,1-TCE', '1,1,2-TCE', 'TCEyn', 'Chloroforme',\n",
    "       'CVinyl', 'Arom_C6C7', 'Arom_C7C8', 'Arom_C8C10', 'Aliphat_C5C6',\n",
    "       'Aliphat_C6C8', 'Aliphat_C8C10', 'Fract_C5C8', 'Fract_C8C10',\n",
    "       'Fract_C10C12', 'Fract_C12C16', 'Fract_C16C21', 'Fract_C21C35',\n",
    "       'HC_tot_C10C35']]"
   ]
  },
  {
   "cell_type": "code",
   "execution_count": null,
   "id": "14168ca8",
   "metadata": {},
   "outputs": [],
   "source": [
    "an['ID'] = an['ID'].apply(lambda x: re.sub('^P', 'F', x)) "
   ]
  },
  {
   "cell_type": "code",
   "execution_count": null,
   "id": "reflected-reduction",
   "metadata": {},
   "outputs": [],
   "source": [
    "dataframe_viewer(an, rows=5)"
   ]
  },
  {
   "cell_type": "code",
   "execution_count": null,
   "id": "610dc1f4",
   "metadata": {},
   "outputs": [],
   "source": [
    "save_dir = tmp_dir + 'source_merge/final_'\n",
    "if not os.path.exists(save_dir):\n",
    "    os.makedirs(save_dir)\n",
    "\n",
    "#excel_bhs.to_csv(save_dir + 'Boreholes.csv', index=False)\n",
    "#excel_bh_litho.to_csv(save_dir+'Lithologies.csv', index=False)\n",
    "#excel_bh_equip.to_csv(save_dir+'Equipments.csv', index=False)\n",
    "#excel_bh_soil_sp.to_csv(save_dir+'Soil_samples.csv', index=False)\n",
    "#excel_bh_water_sp.to_csv(save_dir+'Water_samples.csv', index=False)\n",
    "#excel_bh_soil_an.to_csv(save_dir+'Soil_analysis.csv', index=False)\n",
    "#excel_bh_water_an.to_csv(save_dir+'water_analysis.csv', index=False)\n",
    "#excel_bh_mes.to_csv(save_dir+'Measures.csv', index=False)\n",
    "#excel_bh_fac.to_csv(save_dir+'Unknow_facilities.csv', index=False)\n",
    "\n",
    "an.to_csv(save_dir+'Soil_analysis.csv', index=False)"
   ]
  },
  {
   "cell_type": "code",
   "execution_count": null,
   "id": "horizontal-pathology",
   "metadata": {},
   "outputs": [],
   "source": [
    "source_an=source_an.append(an, ignore_index=True)\n",
    "source_pz=pz\n",
    "source_prv_sol=prv_sol"
   ]
  },
  {
   "cell_type": "code",
   "execution_count": null,
   "id": "floating-denmark",
   "metadata": {
    "scrolled": false
   },
   "outputs": [],
   "source": [
    "if not os.path.exists(tmp_dir):\n",
    "    os.makedirs(tmp_dir), os.makedirs(tmp_dir+'source_merge/') \n",
    "\n",
    "#bh.to_csv(tmp_dir+'source_merge/source_Boreholes.csv', index=False)\n",
    "pz.to_csv(tmp_dir+sheet+'_Piezometers.csv', index=False)\n",
    "#ouv.to_csv(tmp_dir+sheet+'_Unkown-facility.csv', index=False)\n",
    "#litho.to_csv(tmp_dir+sheet+'_Lithology.csv', index=False)\n",
    "#mes_pz.to_csv(tmp_dir+sheet+'_Measures.csv', index=False)\n",
    "#mes_sol.to_csv(tmp_dir+sheet+'_Measures-soil.csv', index=False)\n",
    "#prv_eau.to_csv(tmp_dir+sheet+'_Samples-water.csv', index=False)\n",
    "prv_sol.to_csv(tmp_dir+sheet+'_Samples-soil.csv', index=False)\n",
    "an.to_csv(tmp_dir+sheet+'_Analysis.csv', index=False)\n",
    "\n",
    "\n",
    "#source_bh.to_csv(tmp_dir+'source_merge/source_Boreholes.csv', index=False)\n",
    "source_pz.to_csv(tmp_dir+'source_merge/source_Piezometers.csv', index=False)\n",
    "#source_ukw.to_csv(tmp_dir+'source_merge/source_Unkown-facility.csv', index=False)\n",
    "#source_litho.to_csv(tmp_dir+'source_merge/source_Lithology.csv', index=False)\n",
    "#source_mes_pz.to_csv(tmp_dir+'source_merge/source_Measures.csv', index=False)\n",
    "#source_mes_sol.to_csv(tmp_dir+'source_merge/source_Measures-soil.csv', index=False)\n",
    "#source_prv_eau.to_csv(tmp_dir+'source_merge/source_Samples-water.csv', index=False)\n",
    "source_prv_sol.to_csv(tmp_dir+'source_merge/source_Samples-soil.csv', index=False)\n",
    "source_an.to_csv(tmp_dir+'source_merge/source_Analysis.csv', index=False)\n",
    "\n",
    "\n",
    "print(f'source_bh:{len(source_bh)} ; source_pz:{len(source_pz)} ; source_litho:{len(source_litho)} ; '\n",
    "     f'source_Fac-uknw:{len(source_ukw)} ; source_an:{len(source_an)} ;\\nsource_prv_sol:{len(source_prv_sol)} ;'\n",
    "     f'source_prv_eau:{len(source_prv_eau)} ; source_mes_pz:{len(source_mes_pz)} ; source_mes_sol:{len(source_mes_sol)} ;')"
   ]
  },
  {
   "cell_type": "markdown",
   "id": "diverse-italic",
   "metadata": {},
   "source": [
    "* **Sheet : 'Synthèse'**"
   ]
  },
  {
   "cell_type": "code",
   "execution_count": null,
   "id": "grand-token",
   "metadata": {},
   "outputs": [],
   "source": [
    "tmp_dir=ROOT_DIR + '/CF_data/Result_traitem/vUmons_logsFor/'\n",
    "sheet='Synthese'"
   ]
  },
  {
   "cell_type": "code",
   "execution_count": null,
   "id": "spoken-cycling",
   "metadata": {
    "scrolled": false
   },
   "outputs": [],
   "source": [
    "df = pd.read_excel(ROOT_DIR + '/CF_data/Data_UMONS/Logs_forages_vUmons_2018-03-20.xlsx', \n",
    "                   sheet_name='Synthèse', skiprows=1)\n",
    "df=na_line_drop(df,0)\n",
    "df=na_col_drop(df,1)\n",
    "df.replace(r'<|>','', inplace=True, regex=True)\n",
    "df.replace(r'-$',np.nan, inplace=True, regex=True)\n",
    "\n",
    "dataframe_viewer(df, rows=5)"
   ]
  },
  {
   "cell_type": "code",
   "execution_count": null,
   "id": "martial-delta",
   "metadata": {},
   "outputs": [],
   "source": [
    "df=df[:29]\n",
    "df.replace('\\*','', inplace=True, regex=True)\n",
    "df['Refus']=df['Refus'].apply(lambda x: 'x' if not pd.isnull(x) else '')"
   ]
  },
  {
   "cell_type": "code",
   "execution_count": null,
   "id": "mineral-bridges",
   "metadata": {},
   "outputs": [],
   "source": [
    "name=['ID','X','Y','Z', 'Refus','Long_for', 'RB', 'ALL', 'S_A', 'S_S', \n",
    "      'Rb_base','All_top', 'Soc_alt_top','Soc_sn_top']\n",
    "df=col_ren(df, mode=1, name=name)"
   ]
  },
  {
   "cell_type": "code",
   "execution_count": null,
   "id": "silver-breath",
   "metadata": {
    "scrolled": true
   },
   "outputs": [],
   "source": [
    "cols=['ID','X','Y','Z', 'Refus','Long_for']\n",
    "\n",
    "for i in range(len(df)):\n",
    "    if not pd.isnull(df.loc[i, 'RB']): \n",
    "        df.loc[i, 'Nappe']='Remblais'\n",
    "        df.loc[i, 'Litho_top']=0\n",
    "        if not pd.isnull(df.loc[i, 'Rb_base']):\n",
    "            df.loc[i, 'Litho_base']=df.loc[i, 'Rb_base']\n",
    "        else:\n",
    "            df.loc[i, 'Litho_base']=df.loc[i, 'Long_for']\n",
    "    \n",
    "    if not pd.isnull(df.loc[i, 'ALL']):\n",
    "        df.loc[i+.2,cols]=df.loc[i,cols]\n",
    "        df.loc[i+.2, 'Nappe']='Alluvions'\n",
    "        df.loc[i+.2, 'Litho_top']=df.loc[i, 'All_top']\n",
    "        if not pd.isnull(df.loc[i, 'S_A']):\n",
    "            df.loc[i+.2, 'Litho_base']=df.loc[i, 'Soc_alt_top']\n",
    "        else:\n",
    "            df.loc[i+.2, 'Litho_base']=df.loc[i, 'Long_for']\n",
    "    \n",
    "    if not pd.isnull(df.loc[i, 'S_A']):\n",
    "        df.loc[i+.5,cols]=df.loc[i,cols]\n",
    "        df.loc[i+.5, 'Nappe']='Socle altéré'\n",
    "        df.loc[i+.5, 'Litho_top']=df.loc[i, 'Soc_alt_top']\n",
    "        if not pd.isnull(df.loc[i, 'S_S']):\n",
    "            df.loc[i+.5, 'Litho_base']=df.loc[i, 'Soc_sn_top']\n",
    "        else:\n",
    "            df.loc[i+.5, 'Litho_base']=df.loc[i, 'Long_for']\n",
    "            \n",
    "    if not pd.isnull(df.loc[i, 'S_S']):\n",
    "        df.loc[i+.7,cols]=df.loc[i,cols]\n",
    "        df.loc[i+.7, 'Nappe']='Socle sain'\n",
    "        df.loc[i+.7, 'Litho_top']=df.loc[i, 'Soc_sn_top']\n",
    "        df.loc[i+.7, 'Litho_base']=df.loc[i, 'Long_for']\n",
    "\n",
    "df.drop(columns=['RB', 'ALL', 'S_A', 'S_S', 'Rb_base','All_top', 'Soc_alt_top','Soc_sn_top'], inplace=True)\n",
    "df.sort_index(inplace=True)\n",
    "df.reset_index(drop=True, inplace=True)"
   ]
  },
  {
   "cell_type": "code",
   "execution_count": null,
   "id": "devoted-pathology",
   "metadata": {},
   "outputs": [],
   "source": [
    "dataframe_viewer(df, rows=5, cols=15)"
   ]
  },
  {
   "cell_type": "code",
   "execution_count": null,
   "id": "specialized-pledge",
   "metadata": {
    "scrolled": true
   },
   "outputs": [],
   "source": [
    "df.columns"
   ]
  },
  {
   "cell_type": "code",
   "execution_count": null,
   "id": "personalized-switch",
   "metadata": {},
   "outputs": [],
   "source": [
    "bh=df[['ID','X','Y','Z','Long_for','Refus']]\n",
    "bh['Type']='Forage'\n",
    "\n",
    "litho=df[['ID','X','Y','Z','Litho_top','Litho_base','Nappe']]\n",
    "source_litho=litho"
   ]
  },
  {
   "cell_type": "code",
   "execution_count": null,
   "id": "accepted-vienna",
   "metadata": {
    "scrolled": true
   },
   "outputs": [],
   "source": [
    "if not os.path.exists(tmp_dir):\n",
    "    os.makedirs(tmp_dir), os.makedirs(tmp_dir+'source_merge/') \n",
    "\n",
    "bh.to_csv(tmp_dir+'source_Boreholes.csv', index=False)\n",
    "#pz.to_csv(tmp_dir+sheet+'_Piezometers.csv', index=False)\n",
    "#ouv.to_csv(tmp_dir+sheet+'_Unkown-facility.csv', index=False)\n",
    "litho.to_csv(tmp_dir+sheet+'_Lithology.csv', index=False)\n",
    "#mes_pz.to_csv(tmp_dir+sheet+'_Measures.csv', index=False)\n",
    "#mes_sol.to_csv(tmp_dir+sheet+'_Measures-soil.csv', index=False)\n",
    "#prv_eau.to_csv(tmp_dir+sheet+'_Samples-water.csv', index=False)\n",
    "#prv_sol.to_csv(tmp_dir+sheet+'_Samples-soil.csv', index=False)\n",
    "#an.to_csv(tmp_dir+sheet+'_Analysis.csv', index=False)\n",
    "\n",
    "\n",
    "#source_bh.to_csv(tmp_dir+'source_merge/source_Boreholes.csv', index=False)\n",
    "#source_pz.to_csv(tmp_dir+'source_merge/source_Piezometers.csv', index=False)\n",
    "#source_ukw.to_csv(tmp_dir+'source_merge/source_Unkown-facility.csv', index=False)\n",
    "source_litho.to_csv(tmp_dir+'source_merge/source_Lithology.csv', index=False)\n",
    "#source_mes_pz.to_csv(tmp_dir+'source_merge/source_Measures.csv', index=False)\n",
    "#source_mes_sol.to_csv(tmp_dir+'source_merge/source_Measures-soil.csv', index=False)\n",
    "#source_prv_eau.to_csv(tmp_dir+'source_merge/source_Samples-water.csv', index=False)\n",
    "#source_prv_sol.to_csv(tmp_dir+'source_merge/source_Samples-soil.csv', index=False)\n",
    "#source_an.to_csv(tmp_dir+'source_merge/source_Analysis.csv', index=False)\n",
    "\n",
    "\n",
    "print(f'source_bh:{len(source_bh)} ; source_pz:{len(source_pz)} ; source_litho:{len(source_litho)} ; '\n",
    "     f'source_Fac-uknw:{len(source_ukw)} ; source_an:{len(source_an)} ;\\nsource_prv_sol:{len(source_prv_sol)} ;'\n",
    "     f'source_prv_eau:{len(source_prv_eau)} ; source_mes_pz:{len(source_mes_pz)} ; source_mes_sol:{len(source_mes_sol)} ;')"
   ]
  },
  {
   "cell_type": "markdown",
   "id": "alien-career",
   "metadata": {},
   "source": [
    "* **Sheet : 'Sond2017v2'**"
   ]
  },
  {
   "cell_type": "code",
   "execution_count": null,
   "id": "electric-martial",
   "metadata": {},
   "outputs": [],
   "source": [
    "tmp_dir=ROOT_DIR + '/CF_data/Result_traitem/vUmons_logsFor/'\n",
    "sheet='Sond2017v2'"
   ]
  },
  {
   "cell_type": "code",
   "execution_count": null,
   "id": "decent-basis",
   "metadata": {
    "scrolled": true
   },
   "outputs": [],
   "source": [
    "df = pd.read_excel(ROOT_DIR + '/CF_data/Data_UMONS/Logs_forages_vUmons_2018-03-20.xlsx', \n",
    "                   sheet_name='Sond2017v2', skiprows=0)\n",
    "df=na_line_drop(df,0)\n",
    "df=na_col_drop(df,1)\n",
    "df.replace(r'<|>','', inplace=True, regex=True)\n",
    "df.replace(r'-$',np.nan, inplace=True, regex=True)\n",
    "\n",
    "dataframe_viewer(df, rows=5)"
   ]
  },
  {
   "cell_type": "code",
   "execution_count": null,
   "id": "structured-apartment",
   "metadata": {},
   "outputs": [],
   "source": [
    "df.replace('\\*','', inplace=True, regex=True)\n",
    "df['Refus']=df['Refus'].apply(lambda x: 'x' if x==1 else '')"
   ]
  },
  {
   "cell_type": "code",
   "execution_count": null,
   "id": "random-slope",
   "metadata": {},
   "outputs": [],
   "source": [
    "name=['R_ID','ID','X','Y','Z','Refus','Date_for','Long_for','Z_fond','RB','ALL', 'S_A', 'S_S', \n",
    "      'Rb_base','cote_rb','All_top', 'Soc_alt_top','Soc_sn_top']\n",
    "df=col_ren(df, mode=1, name=name)\n",
    "df=df[['ID','X','Y','Z','Refus','Date_for','Long_for','Z_fond','RB','ALL', 'S_A', 'S_S', \n",
    "      'Rb_base','All_top', 'Soc_alt_top','Soc_sn_top']]"
   ]
  },
  {
   "cell_type": "code",
   "execution_count": null,
   "id": "younger-practitioner",
   "metadata": {
    "scrolled": true
   },
   "outputs": [],
   "source": [
    "cols=['ID','Date_for','X','Y','Z','Z_fond','Refus','Long_for']\n",
    "\n",
    "for i in range(len(df)):    \n",
    "    if df.loc[i, 'RB']==1: \n",
    "        df.loc[i, 'Nappe']='Remblais'\n",
    "        df.loc[i, 'Litho_top']=0\n",
    "        \n",
    "        if not pd.isnull(df.loc[i, 'Rb_base']): df.loc[i, 'Litho_base']=df.loc[i, 'Rb_base']\n",
    "        else: df.loc[i, 'Litho_base']=df.loc[i, 'Long_for']\n",
    "    \n",
    "    val_def=df.loc[i, 'Litho_base'] # temporary value of litho_base if nan\n",
    "    \n",
    "    if df.loc[i, 'ALL']==1:\n",
    "        df.loc[i+.2,cols]=df.loc[i,cols]\n",
    "        df.loc[i+.2, 'Nappe']='Alluvions'\n",
    "        \n",
    "        if not pd.isnull(df.loc[i, 'All_top']): df.loc[i+.2, 'Litho_top']=df.loc[i, 'All_top']\n",
    "        else: df.loc[i+.2, 'Litho_top']=val_def #df.loc[i, 'litho_base']\n",
    "            \n",
    "        if df.loc[i, 'S_A']==1: df.loc[i+.2, 'Litho_base']=df.loc[i, 'Soc_alt_top']\n",
    "        else: df.loc[i+.2, 'Litho_base']=df.loc[i, 'Long_for']\n",
    "    \n",
    "    if df.loc[i, 'S_A']==1:\n",
    "        df.loc[i+.5,cols]=df.loc[i,cols]\n",
    "        df.loc[i+.5, 'Nappe']='Socle altéré'\n",
    "        \n",
    "        if not pd.isnull(df.loc[i, 'Soc_alt_top']): df.loc[i+.5, 'Litho_top']=df.loc[i, 'Soc_alt_top']\n",
    "        else: df.loc[i+.5, 'Litho_top']=val_def #df.loc[i+.2, 'litho_base']\n",
    "        \n",
    "        if df.loc[i, 'S_S']==1: df.loc[i+.5, 'Litho_base']=df.loc[i, 'Soc_sn_top']\n",
    "        else: df.loc[i+.5, 'Litho_base']=df.loc[i, 'Long_for']\n",
    "            \n",
    "    if df.loc[i, 'S_S']==1:\n",
    "        df.loc[i+.7,cols]=df.loc[i,cols]\n",
    "        df.loc[i+.7, 'Nappe']='Socle sain'\n",
    "        df.loc[i+.7, 'Litho_top']=df.loc[i, 'Soc_sn_top']\n",
    "        df.loc[i+.7, 'Litho_base']=df.loc[i, 'Long_for']\n",
    "\n",
    "df.drop(columns=['RB', 'ALL', 'S_A', 'S_S','Rb_base','All_top', 'Soc_alt_top','Soc_sn_top'], inplace=True)\n",
    "df.sort_index(inplace=True)\n",
    "df.reset_index(drop=True, inplace=True)"
   ]
  },
  {
   "cell_type": "code",
   "execution_count": null,
   "id": "smaller-extension",
   "metadata": {},
   "outputs": [],
   "source": [
    "df=df[:-1]"
   ]
  },
  {
   "cell_type": "code",
   "execution_count": null,
   "id": "pediatric-dylan",
   "metadata": {
    "scrolled": true
   },
   "outputs": [],
   "source": [
    "dataframe_viewer(df, rows=5, cols=15)"
   ]
  },
  {
   "cell_type": "code",
   "execution_count": null,
   "id": "innocent-serum",
   "metadata": {
    "scrolled": true
   },
   "outputs": [],
   "source": [
    "bh=df[['ID','X','Y','Z','Z_fond','Date_for','Long_for','Refus']]\n",
    "bh['Type']='Forage'\n",
    "\n",
    "litho=df[['ID','X','Y','Z','Litho_top','Litho_base','Nappe']]\n",
    "source_litho = source_litho.merge(df, 'outer')"
   ]
  },
  {
   "cell_type": "code",
   "execution_count": null,
   "id": "mighty-steel",
   "metadata": {
    "scrolled": true
   },
   "outputs": [],
   "source": [
    "if not os.path.exists(tmp_dir):\n",
    "    os.makedirs(tmp_dir), os.makedirs(tmp_dir+'source_merge/') \n",
    "\n",
    "bh.to_csv(tmp_dir+'source_Boreholes.csv', index=False)\n",
    "#pz.to_csv(tmp_dir+sheet+'_Piezometers.csv', index=False)\n",
    "#ouv.to_csv(tmp_dir+sheet+'_Unkown-facility.csv', index=False)\n",
    "litho.to_csv(tmp_dir+sheet+'_Lithology.csv', index=False)\n",
    "#mes_pz.to_csv(tmp_dir+sheet+'_Measures.csv', index=False)\n",
    "#mes_sol.to_csv(tmp_dir+sheet+'_Measures-soil.csv', index=False)\n",
    "#prv_eau.to_csv(tmp_dir+sheet+'_Samples-water.csv', index=False)\n",
    "#prv_sol.to_csv(tmp_dir+sheet+'_Samples-soil.csv', index=False)\n",
    "#an.to_csv(tmp_dir+sheet+'_Analysis.csv', index=False)\n",
    "\n",
    "\n",
    "#source_bh.to_csv(tmp_dir+'source_merge/source_Boreholes.csv', index=False)\n",
    "#source_pz.to_csv(tmp_dir+'source_merge/source_Piezometers.csv', index=False)\n",
    "#source_ukw.to_csv(tmp_dir+'source_merge/source_Unkown-facility.csv', index=False)\n",
    "source_litho.to_csv(tmp_dir+'source_merge/source_Lithology.csv', index=False)\n",
    "#source_mes_pz.to_csv(tmp_dir+'source_merge/source_Measures.csv', index=False)\n",
    "#source_mes_sol.to_csv(tmp_dir+'source_merge/source_Measures-soil.csv', index=False)\n",
    "#source_prv_eau.to_csv(tmp_dir+'source_merge/source_Samples-water.csv', index=False)\n",
    "#source_prv_sol.to_csv(tmp_dir+'source_merge/source_Samples-soil.csv', index=False)\n",
    "#source_an.to_csv(tmp_dir+'source_merge/source_Analysis.csv', index=False)\n",
    "\n",
    "\n",
    "print(f'source_bh:{len(source_bh)} ; source_pz:{len(source_pz)} ; source_litho:{len(source_litho)} ; '\n",
    "     f'source_Fac-uknw:{len(source_ukw)} ; source_an:{len(source_an)} ;\\nsource_prv_sol:{len(source_prv_sol)} ;'\n",
    "     f'source_prv_eau:{len(source_prv_eau)} ; source_mes_pz:{len(source_mes_pz)} ; source_mes_sol:{len(source_mes_sol)} ;')"
   ]
  },
  {
   "cell_type": "markdown",
   "id": "excessive-convert",
   "metadata": {},
   "source": [
    "# Processing for new data added - April 2021"
   ]
  },
  {
   "cell_type": "markdown",
   "id": "framed-assignment",
   "metadata": {},
   "source": [
    "## 15-Profils de sol et données de terrain 2019.xlsx\n",
    "* **Sheet : 'Log'**"
   ]
  },
  {
   "cell_type": "code",
   "execution_count": null,
   "id": "heated-nightmare",
   "metadata": {},
   "outputs": [],
   "source": [
    "# New file, so the source variables must be overwritten !!\n",
    "_df=pd.DataFrame()\n",
    "source_mes_pz, source_mes_sol, source_pz, source_prv_eau, source_prv_sol =  _df, _df, _df, _df, _df\n",
    "source_ukw, source_an, source_litho, source_bh = _df, _df, _df, _df"
   ]
  },
  {
   "cell_type": "code",
   "execution_count": null,
   "id": "bizarre-fundamental",
   "metadata": {},
   "outputs": [],
   "source": [
    "tmp_dir=ROOT_DIR + '/CF_data/Result_traitem/donnees_terrain_2019/'\n",
    "sheet='Log'"
   ]
  },
  {
   "cell_type": "code",
   "execution_count": null,
   "id": "compound-cricket",
   "metadata": {
    "scrolled": false
   },
   "outputs": [],
   "source": [
    "df = pd.read_excel(ROOT_DIR + '/CF_data/Data_UMONS/Profils_de_sol_Siterem- extension_pilote_et_pilote/'\n",
    "                   'Profils de sol et donnees de terrain 2019.xlsx', \n",
    "                   sheet_name='Log', skiprows=0)\n",
    "df=na_line_drop(df,0)\n",
    "df=na_col_drop(df,2)\n",
    "df.replace(r'<|>','', inplace=True, regex=True)\n",
    "df.replace(r'-$',np.nan, inplace=True, regex=True)\n",
    "\n",
    "dataframe_viewer(df, rows=5)"
   ]
  },
  {
   "cell_type": "code",
   "execution_count": null,
   "id": "rapid-concert",
   "metadata": {},
   "outputs": [],
   "source": [
    "name = ['ID','Litho_top', 'Litho_base', 'Keyword', 'Description']\n",
    "df = col_ren(df, name=name, mode=1, )\n",
    "df = df[1:]\n",
    "df['Date_for'] = dtm.datetime(2019,12,18)"
   ]
  },
  {
   "cell_type": "raw",
   "id": "580fd76b",
   "metadata": {},
   "source": [
    "df['ID'] = df['ID'].apply(lambda x: 'F'+str(x))"
   ]
  },
  {
   "cell_type": "code",
   "execution_count": null,
   "id": "popular-nursing",
   "metadata": {},
   "outputs": [],
   "source": [
    "df.drop(index=df.query('Litho_base.isnull() or Litho_top.isnull()').index, inplace=True)"
   ]
  },
  {
   "cell_type": "code",
   "execution_count": null,
   "id": "international-butterfly",
   "metadata": {
    "scrolled": true
   },
   "outputs": [],
   "source": [
    "compute_BH_length(df)"
   ]
  },
  {
   "cell_type": "code",
   "execution_count": null,
   "id": "proper-ribbon",
   "metadata": {},
   "outputs": [],
   "source": [
    "df.query('Litho_base.isnull() or Litho_top.isnull()')"
   ]
  },
  {
   "cell_type": "code",
   "execution_count": null,
   "id": "amber-likelihood",
   "metadata": {
    "scrolled": true
   },
   "outputs": [],
   "source": [
    "dataframe_viewer(df, rows=5, cols=15)"
   ]
  },
  {
   "cell_type": "code",
   "execution_count": null,
   "id": "solved-latitude",
   "metadata": {},
   "outputs": [],
   "source": [
    "bh = df[1:62]\n",
    "pza = df[65:80] #piezair\n",
    "pz = df[83:]"
   ]
  },
  {
   "cell_type": "code",
   "execution_count": null,
   "id": "interpreted-fiber",
   "metadata": {},
   "outputs": [],
   "source": [
    "bh.reset_index(drop=True, inplace=True)\n",
    "pza.reset_index(drop=True, inplace=True)\n",
    "pz.reset_index(drop=True, inplace=True)"
   ]
  },
  {
   "cell_type": "code",
   "execution_count": null,
   "id": "separate-father",
   "metadata": {},
   "outputs": [],
   "source": [
    "bh.insert(1,'Type', 'Forage')\n",
    "bh.insert(1,'Zone', 'Extension Pilote')\n",
    "pza.insert(1,'Type', 'Piezair')\n",
    "pza.insert(1,'Zone', 'Extension Pilote')\n",
    "pz.insert(1,'Type', 'Piezo')\n",
    "pz.insert(1,'Zone', 'Mini-Pilote')"
   ]
  },
  {
   "cell_type": "code",
   "execution_count": null,
   "id": "standard-clinton",
   "metadata": {
    "scrolled": true
   },
   "outputs": [],
   "source": [
    "litho=bh.append(pza)\n",
    "litho=litho.append(pz)\n",
    "litho=litho[['ID','Type','Zone','Litho_top','Litho_base','Description','Keyword']]\n",
    "litho.reset_index(inplace=True, drop=True)"
   ]
  },
  {
   "cell_type": "code",
   "execution_count": null,
   "id": "e9b53d7d",
   "metadata": {},
   "outputs": [],
   "source": [
    "litho.loc[litho[litho['ID']==50].index, 'Type'] = 'Piezo'"
   ]
  },
  {
   "cell_type": "code",
   "execution_count": null,
   "id": "empty-creek",
   "metadata": {
    "scrolled": true
   },
   "outputs": [],
   "source": [
    "dataframe_viewer(litho, rows=3)"
   ]
  },
  {
   "cell_type": "code",
   "execution_count": null,
   "id": "healthy-pontiac",
   "metadata": {},
   "outputs": [],
   "source": [
    "source_litho=litho"
   ]
  },
  {
   "cell_type": "code",
   "execution_count": null,
   "id": "recognized-entity",
   "metadata": {
    "scrolled": true
   },
   "outputs": [],
   "source": [
    "if not os.path.exists(tmp_dir):\n",
    "    os.makedirs(tmp_dir), os.makedirs(tmp_dir+'source_merge/') \n",
    "\n",
    "#bh.to_csv(tmp_dir+sheet+'_Boreholes.csv', index=False)\n",
    "#pz.to_csv(tmp_dir+sheet+'_Piezometers.csv', index=False)\n",
    "#pza.to_csv(tmp_dir+sheet+'_Piezairs.csv', index=False)\n",
    "#ouv.to_csv(tmp_dir+sheet+'_Unkown-facility.csv', index=False)\n",
    "litho.to_csv(tmp_dir+sheet+'_Lithology.csv', index=False)\n",
    "#mes_pz.to_csv(tmp_dir+sheet+'_Measures.csv', index=False)\n",
    "#mes_sol.to_csv(tmp_dir+sheet+'_Measures-soil.csv', index=False)\n",
    "#prv_eau.to_csv(tmp_dir+sheet+'_Samples-water.csv', index=False)\n",
    "#prv_sol.to_csv(tmp_dir+sheet+'_Samples-soil.csv', index=False)\n",
    "#an.to_csv(tmp_dir+sheet+'_Analysis.csv', index=False)\n",
    "\n",
    "\n",
    "#source_bh.to_csv(tmp_dir+'source_merge/source_Boreholes.csv', index=False)\n",
    "#source_pz.to_csv(tmp_dir+'source_merge/source_Piezometers.csv', index=False)\n",
    "#source_ukw.to_csv(tmp_dir+'source_merge/source_Unkown-facility.csv', index=False)\n",
    "source_litho.to_csv(tmp_dir+'source_merge/source_Lithology.csv', index=False)\n",
    "#source_mes_pz.to_csv(tmp_dir+'source_merge/source_Measures.csv', index=False)\n",
    "#source_mes_sol.to_csv(tmp_dir+'source_merge/source_Measures-soil.csv', index=False)\n",
    "#source_prv_eau.to_csv(tmp_dir+'source_merge/source_Samples-water.csv', index=False)\n",
    "#source_prv_sol.to_csv(tmp_dir+'source_merge/source_Samples-soil.csv', index=False)\n",
    "#source_an.to_csv(tmp_dir+'source_merge/source_Analysis.csv', index=False)\n",
    "\n",
    "\n",
    "print(f'source_bh:{len(source_bh)} ; source_pz:{len(source_pz)} ; source_litho:{len(source_litho)} ; '\n",
    "     f'source_Fac-uknw:{len(source_ukw)} ; source_an:{len(source_an)} ;\\nsource_prv_sol:{len(source_prv_sol)} ;'\n",
    "     f'source_prv_eau:{len(source_prv_eau)} ; source_mes_pz:{len(source_mes_pz)} ; source_mes_sol:{len(source_mes_sol)} ;')"
   ]
  },
  {
   "cell_type": "markdown",
   "id": "northern-accessory",
   "metadata": {},
   "source": [
    "* **Sheet : 'Echantillon'+'Organoleptique**"
   ]
  },
  {
   "cell_type": "code",
   "execution_count": null,
   "id": "union-lease",
   "metadata": {},
   "outputs": [],
   "source": [
    "tmp_dir=ROOT_DIR + '/CF_data/Result_traitem/donnees_terrain_2019/'\n",
    "sheet='Echantillon'"
   ]
  },
  {
   "cell_type": "code",
   "execution_count": null,
   "id": "increased-munich",
   "metadata": {
    "scrolled": false
   },
   "outputs": [],
   "source": [
    "df = pd.read_excel(ROOT_DIR + '/CF_data/Data_UMONS/Profils_de_sol_Siterem- extension_pilote_et_pilote/'\n",
    "                   'Profils de sol et donnees de terrain 2019.xlsx', \n",
    "                   sheet_name='Echantillon', skiprows=1)\n",
    "df=na_line_drop(df,0)\n",
    "df=na_col_drop(df,2)\n",
    "df.replace(r'<|>','', inplace=True, regex=True)\n",
    "df.replace(r'-$',np.nan, inplace=True, regex=True)\n",
    "\n",
    "dataframe_viewer(df, rows=5)"
   ]
  },
  {
   "cell_type": "code",
   "execution_count": null,
   "id": "cordless-scheme",
   "metadata": {},
   "outputs": [],
   "source": [
    "name=['ID','Ech_top', 'Ech_base', 'ID_ech']\n",
    "df=col_ren(df, name=name, mode=1)\n",
    "df.insert(1,'Type_ech','Sol')"
   ]
  },
  {
   "cell_type": "code",
   "execution_count": null,
   "id": "equivalent-roots",
   "metadata": {},
   "outputs": [],
   "source": [
    "df.drop(index=[43,44,55,56,66], inplace=True)\n",
    "df.reset_index(drop=True, inplace=True)"
   ]
  },
  {
   "cell_type": "code",
   "execution_count": null,
   "id": "annual-organization",
   "metadata": {},
   "outputs": [],
   "source": [
    "ech=df.copy()"
   ]
  },
  {
   "cell_type": "code",
   "execution_count": null,
   "id": "accepted-marketing",
   "metadata": {
    "scrolled": false
   },
   "outputs": [],
   "source": [
    "df = pd.read_excel(ROOT_DIR + '/CF_data/Data_UMONS/Profils_de_sol_Siterem- extension_pilote_et_pilote/'\n",
    "                   'Profils de sol et donnees de terrain 2019.xlsx', \n",
    "                   sheet_name='Organoleptique', skiprows=1)\n",
    "df=na_line_drop(df,0)\n",
    "df=na_col_drop(df,4)\n",
    "df.replace(r'<|>','', inplace=True, regex=True)\n",
    "df.replace(r'-$',np.nan, inplace=True, regex=True)\n",
    "\n",
    "dataframe_viewer(df, rows=5)"
   ]
  },
  {
   "cell_type": "code",
   "execution_count": null,
   "id": "ahead-lunch",
   "metadata": {},
   "outputs": [],
   "source": [
    "name=['ID','Pol_top', 'Pol_base','Polluant','Intensite']\n",
    "df=col_ren(df, name=name, mode=1)"
   ]
  },
  {
   "cell_type": "code",
   "execution_count": null,
   "id": "occupational-sugar",
   "metadata": {},
   "outputs": [],
   "source": [
    "df.drop(index=[10,11,14,15], inplace=True)\n",
    "df.reset_index(drop=True, inplace=True)"
   ]
  },
  {
   "cell_type": "code",
   "execution_count": null,
   "id": "worse-colombia",
   "metadata": {},
   "outputs": [],
   "source": [
    "mdf, conflict_df =data_merger(ech, df, on='ID', how='outer')"
   ]
  },
  {
   "cell_type": "code",
   "execution_count": null,
   "id": "twelve-cylinder",
   "metadata": {},
   "outputs": [],
   "source": [
    "dataframe_viewer(mdf)"
   ]
  },
  {
   "cell_type": "code",
   "execution_count": null,
   "id": "limited-prerequisite",
   "metadata": {},
   "outputs": [],
   "source": [
    "prv_sol=mdf\n",
    "source_prv_sol=prv_sol"
   ]
  },
  {
   "cell_type": "code",
   "execution_count": null,
   "id": "organic-jason",
   "metadata": {
    "scrolled": true
   },
   "outputs": [],
   "source": [
    "if not os.path.exists(tmp_dir):\n",
    "    os.makedirs(tmp_dir), os.makedirs(tmp_dir+'source_merge/') \n",
    "\n",
    "#bh.to_csv(tmp_dir+'source_merge/source_Boreholes.csv', index=False)\n",
    "#pz.to_csv(tmp_dir+sheet+'_Piezometers.csv', index=False)\n",
    "#ouv.to_csv(tmp_dir+sheet+'_Unkown-facility.csv', index=False)\n",
    "#litho.to_csv(tmp_dir+sheet+'_Lithology.csv', index=False)\n",
    "#mes_pz.to_csv(tmp_dir+sheet+'_Measures.csv', index=False)\n",
    "#mes_sol.to_csv(tmp_dir+sheet+'_Measures-soil.csv', index=False)\n",
    "#prv_eau.to_csv(tmp_dir+sheet+'_Samples-water.csv', index=False)\n",
    "prv_sol.to_csv(tmp_dir+sheet+'_Samples-soil.csv', index=False)\n",
    "#an.to_csv(tmp_dir+sheet+'_Analysis.csv', index=False)\n",
    "\n",
    "\n",
    "#source_bh.to_csv(tmp_dir+'source_merge/source_Boreholes.csv', index=False)\n",
    "#source_pz.to_csv(tmp_dir+'source_merge/source_Piezometers.csv', index=False)\n",
    "#source_ukw.to_csv(tmp_dir+'source_merge/source_Unkown-facility.csv', index=False)\n",
    "#source_litho.to_csv(tmp_dir+'source_merge/source_Lithology.csv', index=False)\n",
    "#source_mes_pz.to_csv(tmp_dir+'source_merge/source_Measures.csv', index=False)\n",
    "#source_mes_sol.to_csv(tmp_dir+'source_merge/source_Measures-soil.csv', index=False)\n",
    "#source_prv_eau.to_csv(tmp_dir+'source_merge/source_Samples-water.csv', index=False)\n",
    "source_prv_sol.to_csv(tmp_dir+'source_merge/source_Samples-soil.csv', index=False)\n",
    "#source_an.to_csv(tmp_dir+'source_merge/source_Analysis.csv', index=False)\n",
    "\n",
    "\n",
    "print(f'source_bh:{len(source_bh)} ; source_pz:{len(source_pz)} ; source_litho:{len(source_litho)} ; '\n",
    "     f'source_Fac-uknw:{len(source_ukw)} ; source_an:{len(source_an)} ;\\nsource_prv_sol:{len(source_prv_sol)} ;'\n",
    "     f'source_prv_eau:{len(source_prv_eau)} ; source_mes_pz:{len(source_mes_pz)} ; source_mes_sol:{len(source_mes_sol)} ;')"
   ]
  },
  {
   "cell_type": "markdown",
   "id": "tropical-duplicate",
   "metadata": {},
   "source": [
    "* **Sheet : 'Données de forage'**"
   ]
  },
  {
   "cell_type": "code",
   "execution_count": null,
   "id": "naughty-ending",
   "metadata": {},
   "outputs": [],
   "source": [
    "tmp_dir=ROOT_DIR + '/CF_data/Result_traitem/donnees_terrain_2019/'\n",
    "sheet='Donnees_forage'"
   ]
  },
  {
   "cell_type": "code",
   "execution_count": null,
   "id": "baking-duration",
   "metadata": {
    "scrolled": false
   },
   "outputs": [],
   "source": [
    "df = pd.read_excel(ROOT_DIR + '/CF_data/Data_UMONS/Profils_de_sol_Siterem- extension_pilote_et_pilote/'\n",
    "                   'Profils de sol et donnees de terrain 2019.xlsx', \n",
    "                   sheet_name='Données de forage', skiprows=1)\n",
    "df=na_line_drop(df,0)\n",
    "df=na_col_drop(df,2)\n",
    "df.replace(r'<|>','', inplace=True, regex=True)\n",
    "df.replace(r'-$',np.nan, inplace=True, regex=True)\n",
    "\n",
    "dataframe_viewer(df, rows=5)"
   ]
  },
  {
   "cell_type": "code",
   "execution_count": null,
   "id": "finnish-housing",
   "metadata": {},
   "outputs": [],
   "source": [
    "name=['ID', 'X', 'Y', 'Z', 'Date_for', 'Long_for', 'Methode', 'Diam_for','Rmq', 'Long_pz', 'Diam_pz', \n",
    "      'Crep_long','Societe', 'Resp_chantier']\n",
    "df=col_ren(df, name=name, mode=1)\n",
    "df.drop(index=[16,23], inplace=True)\n",
    "df.reset_index(drop=True, inplace=True)"
   ]
  },
  {
   "cell_type": "code",
   "execution_count": null,
   "id": "phantom-chick",
   "metadata": {},
   "outputs": [],
   "source": [
    "df.insert(5, 'Type', '')\n",
    "df.loc[:15,'Type']='Forage'\n",
    "df.loc[16:21,'Type']='Piezair'\n",
    "df.loc[22:,'Type']='Piezo'"
   ]
  },
  {
   "cell_type": "code",
   "execution_count": null,
   "id": "numeric-remainder",
   "metadata": {},
   "outputs": [],
   "source": [
    "df.loc[9,'ID']='224 bis'"
   ]
  },
  {
   "cell_type": "code",
   "execution_count": null,
   "id": "fleet-litigation",
   "metadata": {},
   "outputs": [],
   "source": [
    "df['Refus'] = ''\n",
    "df['Type_refus']=''\n",
    "\n",
    "for i in range(len(df['Rmq'])):\n",
    "    val = str(df.loc[i,'Rmq'])\n",
    "    if re.search('[Bb]loqué', val) :\n",
    "        df.loc[i,'Refus'] = 'x'\n",
    "        \n",
    "        if re.search('[lL]aitier', val):\n",
    "            df.loc[i,'Type_refus'] = 'Laitier'\n",
    "        elif re.search('[Bb]éton', val):\n",
    "            df.loc[i,'Type_refus'] = 'Béton'\n",
    "        elif re.search('[Mm]atériaux', val):\n",
    "            df.loc[i,'Type_refus'] = 'Matériaux indurés' \n",
    "    else: \n",
    "        df.loc[i,'Refus'] = '' \n",
    "\n",
    "df['Diam_int_pz'] = df['Diam_pz'].apply(lambda x: pd.to_numeric(x.replace('mm','').split('x')[1]) if not pd.isnull(x) else x)\n",
    "df['Diam_ext_pz'] = df['Diam_pz'].apply(lambda x: pd.to_numeric(x.replace('mm','').split('x')[0]) if not pd.isnull(x) else x)\n",
    "df['Diam_for'] = df['Diam_for'].apply(lambda x: pd.to_numeric(x) if not pd.isnull(x) else x)\n",
    "\n",
    "df.insert(10, 'Diam_ext_pz', df.pop('Diam_ext_pz')) # move to a specified position\n",
    "df.insert(11, 'Diam_int_pz', df.pop('Diam_int_pz'))\n",
    "df.drop(columns=['Rmq', 'Diam_pz'], axis=1, inplace=True)\n",
    "df.drop(df.query(\"ID!=ID\").index, inplace=True) # delete all ID='NaN' lines\n",
    "df.reset_index(drop=True, inplace=True)\n",
    "\n",
    "gen_id_dated(df,'ID','Date_for')  "
   ]
  },
  {
   "cell_type": "code",
   "execution_count": null,
   "id": "positive-shopper",
   "metadata": {},
   "outputs": [],
   "source": [
    "pz = df.query(\"Type=='Piezo'\")\n",
    "pza=df.query(\"Type=='Piezair'\")\n",
    "bh = df.query(\"Type=='Forage'\")\n",
    "\n",
    "pz.reset_index(inplace=True, drop=True)\n",
    "pza.reset_index(inplace=True, drop=True)\n",
    "bh.reset_index(inplace=True, drop=True)"
   ]
  },
  {
   "cell_type": "code",
   "execution_count": null,
   "id": "fuzzy-minimum",
   "metadata": {},
   "outputs": [],
   "source": [
    "dataframe_viewer(df, rows=3)"
   ]
  },
  {
   "cell_type": "code",
   "execution_count": null,
   "id": "determined-movie",
   "metadata": {},
   "outputs": [],
   "source": [
    "source_pz = pz\n",
    "source_pza = pza\n",
    "source_bh = bh"
   ]
  },
  {
   "cell_type": "code",
   "execution_count": null,
   "id": "valid-substance",
   "metadata": {
    "scrolled": true
   },
   "outputs": [],
   "source": [
    "if not os.path.exists(tmp_dir):\n",
    "    os.makedirs(tmp_dir), os.makedirs(tmp_dir+'source_merge/') \n",
    "\n",
    "bh.to_csv(tmp_dir+sheet+'_Boreholes.csv', index=False)\n",
    "pz.to_csv(tmp_dir+sheet+'_Piezometers.csv', index=False)\n",
    "pza.to_csv(tmp_dir+sheet+'_Piezairs.csv', index=False)\n",
    "#ouv.to_csv(tmp_dir+sheet+'_Unkown-facility.csv', index=False)\n",
    "#litho.to_csv(tmp_dir+sheet+'_Lithology.csv', index=False)\n",
    "#mes_pz.to_csv(tmp_dir+sheet+'_Measures.csv', index=False)\n",
    "#mes_sol.to_csv(tmp_dir+sheet+'_Measures-soil.csv', index=False)\n",
    "#prv_eau.to_csv(tmp_dir+sheet+'_Samples-water.csv', index=False)\n",
    "#prv_sol.to_csv(tmp_dir+sheet+'_Samples-soil.csv', index=False)\n",
    "#an.to_csv(tmp_dir+sheet+'_Analysis.csv', index=False)\n",
    "\n",
    "\n",
    "source_bh.to_csv(tmp_dir+'source_merge/source_Boreholes.csv', index=False)\n",
    "source_pz.to_csv(tmp_dir+'source_merge/source_Piezometers.csv', index=False)\n",
    "source_pza.to_csv(tmp_dir+'source_merge/source_Piezairs.csv', index=False)\n",
    "#source_ukw.to_csv(tmp_dir+'source_merge/source_Unkown-facility.csv', index=False)\n",
    "#source_litho.to_csv(tmp_dir+'source_merge/source_Lithology.csv', index=False)\n",
    "#source_mes_pz.to_csv(tmp_dir+'source_merge/source_Measures.csv', index=False)\n",
    "#source_mes_sol.to_csv(tmp_dir+'source_merge/source_Measures-soil.csv', index=False)\n",
    "#source_prv_eau.to_csv(tmp_dir+'source_merge/source_Samples-water.csv', index=False)\n",
    "#source_prv_sol.to_csv(tmp_dir+'source_merge/source_Samples-soil.csv', index=False)\n",
    "#source_an.to_csv(tmp_dir+'source_merge/source_Analysis.csv', index=False)\n",
    "\n",
    "\n",
    "print(f'source_bh:{len(source_bh)} ; source_pz:{len(source_pz)}; source_pza:{len(source_pza)} ;'\n",
    "      f'source_litho:{len(source_litho)} ; '\n",
    "     f'source_Fac-uknw:{len(source_ukw)} ; source_an:{len(source_an)} ;\\nsource_prv_sol:{len(source_prv_sol)} ;'\n",
    "     f'source_prv_eau:{len(source_prv_eau)} ; source_mes_pz:{len(source_mes_pz)} ; source_mes_sol:{len(source_mes_sol)} ;')"
   ]
  },
  {
   "cell_type": "markdown",
   "id": "present-shock",
   "metadata": {},
   "source": [
    "* **Sheet : 'Equipement'**"
   ]
  },
  {
   "cell_type": "code",
   "execution_count": null,
   "id": "furnished-prescription",
   "metadata": {},
   "outputs": [],
   "source": [
    "tmp_dir=ROOT_DIR + '/CF_data/Result_traitem/donnees_terrain_2019/'\n",
    "sheet='Equipement'"
   ]
  },
  {
   "cell_type": "code",
   "execution_count": null,
   "id": "occasional-cedar",
   "metadata": {
    "scrolled": false
   },
   "outputs": [],
   "source": [
    "df = pd.read_excel(ROOT_DIR + '/CF_data/Data_UMONS/Profils_de_sol_Siterem- extension_pilote_et_pilote/'\n",
    "                   'Profils de sol et donnees de terrain 2019.xlsx', \n",
    "                   sheet_name='Equipement', skiprows=1)\n",
    "df=na_line_drop(df,0)\n",
    "df=na_col_drop(df,2)\n",
    "df.replace(r'<|>','', inplace=True, regex=True)\n",
    "df.replace(r'-$',np.nan, inplace=True, regex=True)\n",
    "\n",
    "dataframe_viewer(df, rows=5)"
   ]
  },
  {
   "cell_type": "code",
   "execution_count": null,
   "id": "logical-classroom",
   "metadata": {},
   "outputs": [],
   "source": [
    "df.drop(columns=['Déplacement'], inplace=True)\n",
    "name=['ID','Equip_top', 'Equip_base', 'Diam_for', 'Diam_ext_pz', 'Legende']\n",
    "df=col_ren(df, mode=1, name=name)"
   ]
  },
  {
   "cell_type": "code",
   "execution_count": null,
   "id": "beginning-register",
   "metadata": {},
   "outputs": [],
   "source": [
    "df.drop(index=[24,25], inplace=True)\n",
    "df.reset_index(drop=True, inplace=True)"
   ]
  },
  {
   "cell_type": "code",
   "execution_count": null,
   "id": "impossible-summit",
   "metadata": {},
   "outputs": [],
   "source": [
    "compute_BH_length(df, top_col='Equip_top', base_col='Equip_base')"
   ]
  },
  {
   "cell_type": "code",
   "execution_count": null,
   "id": "american-intro",
   "metadata": {},
   "outputs": [],
   "source": [
    "coi = ['ID', 'Profondeur', 'Diam_for', 'Diam_ext_pz']\n",
    "pz=df[coi].drop_duplicates(['ID'])\n",
    "pz['Type'] = 'Piezo'"
   ]
  },
  {
   "cell_type": "code",
   "execution_count": null,
   "id": "three-optimization",
   "metadata": {},
   "outputs": [],
   "source": [
    "dataframe_viewer(df)"
   ]
  },
  {
   "cell_type": "code",
   "execution_count": null,
   "id": "placed-organ",
   "metadata": {},
   "outputs": [],
   "source": [
    "equip=df\n",
    "source_eqp=equip"
   ]
  },
  {
   "cell_type": "code",
   "execution_count": null,
   "id": "extensive-charge",
   "metadata": {
    "scrolled": true
   },
   "outputs": [],
   "source": [
    "if not os.path.exists(tmp_dir):\n",
    "    os.makedirs(tmp_dir), os.makedirs(tmp_dir+'source_merge/') \n",
    "\n",
    "#bh.to_csv(tmp_dir+'source_merge/source_Boreholes.csv', index=False)\n",
    "pz.to_csv(tmp_dir+sheet+'_Piezometers.csv', index=False)\n",
    "#ouv.to_csv(tmp_dir+sheet+'_Unkown-facility.csv', index=False)\n",
    "#litho.to_csv(tmp_dir+sheet+'_Lithology.csv', index=False)\n",
    "#mes_pz.to_csv(tmp_dir+sheet+'_Measures.csv', index=False)\n",
    "#mes_sol.to_csv(tmp_dir+sheet+'_Measures-soil.csv', index=False)\n",
    "#prv_eau.to_csv(tmp_dir+sheet+'_Samples-water.csv', index=False)\n",
    "#prv_sol.to_csv(tmp_dir+sheet+'_Samples-soil.csv', index=False)\n",
    "#an.to_csv(tmp_dir+sheet+'_Analysis.csv', index=False)\n",
    "equip.to_csv(tmp_dir+sheet+'_Equipment.csv', index=False)\n",
    "\n",
    "#source_bh.to_csv(tmp_dir+'source_merge/source_Boreholes.csv', index=False)\n",
    "source_pz.to_csv(tmp_dir+'source_merge/source_Piezometers.csv', index=False)\n",
    "#source_ukw.to_csv(tmp_dir+'source_merge/source_Unkown-facility.csv', index=False)\n",
    "#source_litho.to_csv(tmp_dir+'source_merge/source_Lithology.csv', index=False)\n",
    "#source_mes_pz.to_csv(tmp_dir+'source_merge/source_Measures.csv', index=False)\n",
    "#source_mes_sol.to_csv(tmp_dir+'source_merge/source_Measures-soil.csv', index=False)\n",
    "#source_prv_eau.to_csv(tmp_dir+'source_merge/source_Samples-water.csv', index=False)\n",
    "#source_prv_sol.to_csv(tmp_dir+'source_merge/source_Samples-soil.csv', index=False)\n",
    "#source_an.to_csv(tmp_dir+'source_merge/source_Analysis.csv', index=False)\n",
    "source_eqp.to_csv(tmp_dir+'source_merge/source_eqpment.csv', index=False)\n",
    "\n",
    "print(f'source_bh:{len(source_bh)} ; source_pz:{len(source_pz)} ; source_litho:{len(source_litho)} ; '\n",
    "     f'source_Fac-uknw:{len(source_ukw)} ; source_an:{len(source_an)} ;\\nsource_prv_sol:{len(source_prv_sol)} ;'\n",
    "     f'source_prv_eau:{len(source_prv_eau)} ; source_mes_pz:{len(source_mes_pz)} ; source_mes_sol:{len(source_mes_sol)} ;')"
   ]
  },
  {
   "cell_type": "markdown",
   "id": "increased-tonight",
   "metadata": {},
   "source": [
    "* **Sheet : 'Piézométrie'**"
   ]
  },
  {
   "cell_type": "code",
   "execution_count": null,
   "id": "existing-college",
   "metadata": {},
   "outputs": [],
   "source": [
    "tmp_dir=ROOT_DIR + '/CF_data/Result_traitem/donnees_terrain_2019/'\n",
    "sheet='piezometrie'"
   ]
  },
  {
   "cell_type": "code",
   "execution_count": null,
   "id": "brazilian-judgment",
   "metadata": {
    "scrolled": false
   },
   "outputs": [],
   "source": [
    "df = pd.read_excel(ROOT_DIR + '/CF_data/Data_UMONS/Profils_de_sol_Siterem- extension_pilote_et_pilote/'\n",
    "                   'Profils de sol et donnees de terrain 2019.xlsx', \n",
    "                   sheet_name='Piézométrie', skiprows=1)\n",
    "df=na_line_drop(df,0)\n",
    "df=na_col_drop(df,2)\n",
    "df.replace(r'<|>','', inplace=True, regex=True)\n",
    "df.replace(r'-$',np.nan, inplace=True, regex=True)\n",
    "\n",
    "dataframe_viewer(df, rows=5)"
   ]
  },
  {
   "cell_type": "code",
   "execution_count": null,
   "id": "selected-technology",
   "metadata": {},
   "outputs": [],
   "source": [
    "name=['ID','Niv_pz_sol', 'Type_ech', 'Date_mes']\n",
    "df=col_ren(df, name=name, mode=1)"
   ]
  },
  {
   "cell_type": "code",
   "execution_count": null,
   "id": "sudden-yemen",
   "metadata": {},
   "outputs": [],
   "source": [
    "mes_pz=df\n",
    "source_mes_pz=mes_pz"
   ]
  },
  {
   "cell_type": "code",
   "execution_count": null,
   "id": "terminal-gender",
   "metadata": {
    "scrolled": true
   },
   "outputs": [],
   "source": [
    "if not os.path.exists(tmp_dir):\n",
    "    os.makedirs(tmp_dir), os.makedirs(tmp_dir+'source_merge/') \n",
    "\n",
    "#bh.to_csv(tmp_dir+'source_merge/source_Boreholes.csv', index=False)\n",
    "#pz.to_csv(tmp_dir+sheet+'_Piezometers.csv', index=False)\n",
    "#ouv.to_csv(tmp_dir+sheet+'_Unkown-facility.csv', index=False)\n",
    "#litho.to_csv(tmp_dir+sheet+'_Lithology.csv', index=False)\n",
    "mes_pz.to_csv(tmp_dir+sheet+'_Measures.csv', index=False)\n",
    "#mes_sol.to_csv(tmp_dir+sheet+'_Measures-soil.csv', index=False)\n",
    "#prv_eau.to_csv(tmp_dir+sheet+'_Samples-water.csv', index=False)\n",
    "#prv_sol.to_csv(tmp_dir+sheet+'_Samples-soil.csv', index=False)\n",
    "#an.to_csv(tmp_dir+sheet+'_Analysis.csv', index=False)\n",
    "\n",
    "\n",
    "#source_bh.to_csv(tmp_dir+'source_merge/source_Boreholes.csv', index=False)\n",
    "#source_pz.to_csv(tmp_dir+'source_merge/source_Piezometers.csv', index=False)\n",
    "#source_ukw.to_csv(tmp_dir+'source_merge/source_Unkown-facility.csv', index=False)\n",
    "#source_litho.to_csv(tmp_dir+'source_merge/source_Lithology.csv', index=False)\n",
    "source_mes_pz.to_csv(tmp_dir+'source_merge/source_Measures.csv', index=False)\n",
    "#source_mes_sol.to_csv(tmp_dir+'source_merge/source_Measures-soil.csv', index=False)\n",
    "#source_prv_eau.to_csv(tmp_dir+'source_merge/source_Samples-water.csv', index=False)\n",
    "#source_prv_sol.to_csv(tmp_dir+'source_merge/source_Samples-soil.csv', index=False)\n",
    "#source_an.to_csv(tmp_dir+'source_merge/source_Analysis.csv', index=False)\n",
    "\n",
    "\n",
    "print(f'source_bh:{len(source_bh)} ; source_pz:{len(source_pz)} ; source_litho:{len(source_litho)} ; '\n",
    "     f'source_Fac-uknw:{len(source_ukw)} ; source_an:{len(source_an)} ;\\nsource_prv_sol:{len(source_prv_sol)} ;'\n",
    "     f'source_prv_eau:{len(source_prv_eau)} ; source_mes_pz:{len(source_mes_pz)} ; source_mes_sol:{len(source_mes_sol)} ;')"
   ]
  },
  {
   "cell_type": "code",
   "execution_count": null,
   "id": "28c26930",
   "metadata": {},
   "outputs": [],
   "source": [
    "dataframe_viewer(source_prv_sol, rows=5)"
   ]
  },
  {
   "cell_type": "code",
   "execution_count": null,
   "id": "e1d5165b",
   "metadata": {},
   "outputs": [],
   "source": [
    "dataframe_viewer(excel_bhs, rows=5)"
   ]
  },
  {
   "cell_type": "markdown",
   "id": "7fd4e2ca",
   "metadata": {},
   "source": [
    "### $\\color{red}{\\textbf{Excel source data merging}}$"
   ]
  },
  {
   "cell_type": "code",
   "execution_count": null,
   "id": "e2f78aed",
   "metadata": {},
   "outputs": [],
   "source": [
    "excel_bhs, conflict_df = data_merger(source_bh, source_pz, how='outer', on='ID', dist_max=1., drop_skip_col=['index'])"
   ]
  },
  {
   "cell_type": "code",
   "execution_count": null,
   "id": "38fbe3a6",
   "metadata": {},
   "outputs": [],
   "source": [
    "excel_bhs, conflict_df = data_merger(excel_bhs, source_pza, how='outer', on='ID', dist_max=1., drop_skip_col=['index'])"
   ]
  },
  {
   "cell_type": "code",
   "execution_count": null,
   "id": "d9e8aa90",
   "metadata": {},
   "outputs": [],
   "source": [
    "excel_bh_litho, conflict_df = data_merger(excel_bhs, source_litho, how='outer', on='ID', dist_max=1., drop_skip_col=['index'])"
   ]
  },
  {
   "cell_type": "code",
   "execution_count": null,
   "id": "8df3b3cd",
   "metadata": {},
   "outputs": [],
   "source": [
    "excel_bh_soil_sp, conflict_df = data_merger(excel_bhs, source_prv_sol, how='outer', on='ID', dist_max=1., drop_skip_col=['index'])"
   ]
  },
  {
   "cell_type": "code",
   "execution_count": null,
   "id": "6216e946",
   "metadata": {},
   "outputs": [],
   "source": [
    "excel_bh_equip, conflict_df = data_merger(excel_bhs, source_eqp, how='outer', on='ID', dist_max=1., drop_skip_col=['index'])"
   ]
  },
  {
   "cell_type": "code",
   "execution_count": null,
   "id": "b113f3f4",
   "metadata": {},
   "outputs": [],
   "source": [
    "data_validation(overall_data=excel_bh_equip, conflict_data=conflict_df, index_col='index', \n",
    "                valid_dict={'Diam_ext_pz_x':list(conflict_df.index)})"
   ]
  },
  {
   "cell_type": "code",
   "execution_count": null,
   "id": "c10fa3ad",
   "metadata": {
    "scrolled": true
   },
   "outputs": [],
   "source": [
    "excel_bh_mes, conflict_df = data_merger(excel_bhs, source_mes_pz, how='outer', on='ID', dist_max=1., drop_skip_col=['index'])"
   ]
  },
  {
   "cell_type": "code",
   "execution_count": null,
   "id": "3e9e622e",
   "metadata": {},
   "outputs": [],
   "source": [
    "save_dir = tmp_dir + 'source_merge/final_'\n",
    "if not os.path.exists(save_dir):\n",
    "    os.makedirs(save_dir)\n",
    "\n",
    "excel_bhs.to_csv(save_dir + 'Boreholes.csv', index=False)\n",
    "excel_bh_litho.to_csv(save_dir+'Lithologies.csv', index=False)\n",
    "excel_bh_equip.to_csv(save_dir+'Equipments.csv', index=False)\n",
    "excel_bh_soil_sp.to_csv(save_dir+'Soil_samples.csv', index=False)\n",
    "#excel_bh_water_sp.to_csv(save_dir+'Water_samples.csv', index=False)\n",
    "#excel_bh_soil_an.to_csv(save_dir+'Soil_analysis.csv', index=False)\n",
    "#excel_bh_water_an.to_csv(save_dir+'water_analysis.csv', index=False)\n",
    "excel_bh_mes.to_csv(save_dir+'Measures.csv', index=False)\n",
    "#excel_bh_fac.to_csv(save_dir+'Unknow_facilities.csv', index=False)"
   ]
  },
  {
   "cell_type": "markdown",
   "id": "adjacent-conversation",
   "metadata": {},
   "source": [
    "## 16-Résultats SOL extension pilote et piézairs.xlsx\n",
    "* **Sheet : 'Résult SOL'**"
   ]
  },
  {
   "cell_type": "code",
   "execution_count": null,
   "id": "valued-exchange",
   "metadata": {},
   "outputs": [],
   "source": [
    "# New file, so the source variables must be overwritten !!\n",
    "_df=pd.DataFrame()\n",
    "source_mes_pz, source_mes_sol, source_pz, source_prv_eau, source_prv_sol =  _df, _df, _df, _df, _df\n",
    "source_ukw, source_an, source_litho, source_bh = _df, _df, _df, _df"
   ]
  },
  {
   "cell_type": "code",
   "execution_count": null,
   "id": "rental-unknown",
   "metadata": {},
   "outputs": [],
   "source": [
    "tmp_dir=ROOT_DIR + '/CF_data/Result_traitem/result_sol_ext_pilote/'\n",
    "sheet='Result_Sol'"
   ]
  },
  {
   "cell_type": "code",
   "execution_count": null,
   "id": "forced-variance",
   "metadata": {
    "scrolled": false
   },
   "outputs": [],
   "source": [
    "df = pd.read_excel(ROOT_DIR + '/CF_data/Data_UMONS/Profils_de_sol_Siterem- extension_pilote_et_pilote/'\n",
    "                   'Resultats SOL extension pilote et piezairs.xlsx', \n",
    "                   sheet_name='Résult SOL', skiprows=5)\n",
    "df=na_line_drop(df,0)\n",
    "df=na_col_drop(df,1)\n",
    "df.replace(r'<|>','', inplace=True, regex=True)\n",
    "df.replace(r'-$',np.nan, inplace=True, regex=True)\n",
    "\n",
    "dataframe_viewer(df, rows=5)"
   ]
  },
  {
   "cell_type": "code",
   "execution_count": null,
   "id": "isolated-mayor",
   "metadata": {},
   "outputs": [],
   "source": [
    "prv_sol=df.loc[:35]\n",
    "an=df.loc[36:]"
   ]
  },
  {
   "cell_type": "code",
   "execution_count": null,
   "id": "global-reynolds",
   "metadata": {},
   "outputs": [],
   "source": [
    "an.loc[0.5] = df.loc[0] # put data on first line\n",
    "an = an.sort_index().reset_index(drop=True)"
   ]
  },
  {
   "cell_type": "code",
   "execution_count": null,
   "id": "banned-sheffield",
   "metadata": {},
   "outputs": [],
   "source": [
    "prv_sol=prv_sol.transpose()\n",
    "prv_sol.reset_index(drop=True, inplace=True)\n",
    "prv_sol=col_ren(prv_sol, 1)"
   ]
  },
  {
   "cell_type": "code",
   "execution_count": null,
   "id": "signed-store",
   "metadata": {},
   "outputs": [],
   "source": [
    "prv_sol=dble_col_drop(prv_sol)"
   ]
  },
  {
   "cell_type": "code",
   "execution_count": null,
   "id": "unlikely-hardware",
   "metadata": {},
   "outputs": [],
   "source": [
    "prv_sol.drop(list(range(3)), axis=0, inplace=True)\n",
    "prv_sol.reset_index(drop=True, inplace=True)\n",
    "prv_sol=na_col_drop(prv_sol,3)\n",
    "prv_sol=na_line_drop(prv_sol,3)\n",
    "prv_sol.reset_index(drop=True, inplace=True)"
   ]
  },
  {
   "cell_type": "code",
   "execution_count": null,
   "id": "recent-kingston",
   "metadata": {},
   "outputs": [],
   "source": [
    "prv_sol=prv_sol[:-1]\n",
    "prv_sol.drop(columns=['broyage'], inplace=True)"
   ]
  },
  {
   "cell_type": "code",
   "execution_count": null,
   "id": "approximate-relevance",
   "metadata": {},
   "outputs": [],
   "source": [
    "name=['ID_ech','Ech_top', 'Ech_base','MS','Date_prv','Long_for','Refus','Description','MO','COT','pH_KCl', \n",
    "      'Temp_pH_mes','pH_H20','Fract_2','Fract_2+', 'Fract_min_2µ','Fract_min_50µ','Fract_min_2']\n",
    "prv_sol=col_ren(prv_sol, name=name, mode=1)"
   ]
  },
  {
   "cell_type": "code",
   "execution_count": null,
   "id": "incorrect-gates",
   "metadata": {},
   "outputs": [],
   "source": [
    "set(prv_sol.Description)"
   ]
  },
  {
   "cell_type": "code",
   "execution_count": null,
   "id": "mounted-renaissance",
   "metadata": {},
   "outputs": [],
   "source": [
    "for i in range(len(prv_sol['Description'])):\n",
    "    x = prv_sol.loc[i,'Description']\n",
    "    if x in ['R','R ']: prv_sol.loc[i,'Description']='Remblais'\n",
    "    elif x in ['TN','TN ']: prv_sol.loc[i,'Description']='Terrain naturel'\n",
    "\n",
    "prv_sol['Refus']=prv_sol['Refus'].apply(lambda x: 'x' if not pd.isnull(x) else '')\n",
    "prv_sol.insert(1,'Type_ech','Sol')#"
   ]
  },
  {
   "cell_type": "code",
   "execution_count": null,
   "id": "inside-dialogue",
   "metadata": {},
   "outputs": [],
   "source": [
    "for i in range(len(prv_sol)):\n",
    "    x=prv_sol.loc[i,'ID_ech']\n",
    "    r=re.search('([\\w|\\d]+)\\n.+$', x)\n",
    "    if r: \n",
    "        prv_sol.loc[i,'ID_ech']='226/'+r.group(1) # Rename borehole 304 to 226 because of conflict with piezair"
   ]
  },
  {
   "cell_type": "raw",
   "id": "859aa918",
   "metadata": {
    "scrolled": true
   },
   "source": [
    "prv_sol.info()"
   ]
  },
  {
   "cell_type": "code",
   "execution_count": null,
   "id": "normal-narrative",
   "metadata": {
    "scrolled": false
   },
   "outputs": [],
   "source": [
    "dataframe_viewer(prv_sol, rows=3)"
   ]
  },
  {
   "cell_type": "code",
   "execution_count": null,
   "id": "affected-window",
   "metadata": {},
   "outputs": [],
   "source": [
    "an=an.transpose()\n",
    "an.reset_index(drop=True, inplace=True)"
   ]
  },
  {
   "cell_type": "code",
   "execution_count": null,
   "id": "unavailable-roads",
   "metadata": {},
   "outputs": [],
   "source": [
    "an=col_ren(an, 1)"
   ]
  },
  {
   "cell_type": "code",
   "execution_count": null,
   "id": "beautiful-casting",
   "metadata": {},
   "outputs": [],
   "source": [
    "an.rename(columns={an.columns[0]:'ID_ech'}, inplace=True)"
   ]
  },
  {
   "cell_type": "code",
   "execution_count": null,
   "id": "elder-andorra",
   "metadata": {},
   "outputs": [],
   "source": [
    "an.columns"
   ]
  },
  {
   "cell_type": "code",
   "execution_count": null,
   "id": "white-costume",
   "metadata": {},
   "outputs": [],
   "source": [
    "an=an[an.columns[:-17]]\n",
    "an.rename(columns={'col_35':'Phénanthrène'}, inplace=True)"
   ]
  },
  {
   "cell_type": "code",
   "execution_count": null,
   "id": "fresh-houston",
   "metadata": {},
   "outputs": [],
   "source": [
    "an=col_ren(an, name=pol_field_model, mode=1)"
   ]
  },
  {
   "cell_type": "code",
   "execution_count": null,
   "id": "planned-reporter",
   "metadata": {},
   "outputs": [],
   "source": [
    "an=dble_col_drop(an)"
   ]
  },
  {
   "cell_type": "code",
   "execution_count": null,
   "id": "thrown-interview",
   "metadata": {},
   "outputs": [],
   "source": [
    "an.drop(list(range(3)), axis=0, inplace=True)\n",
    "an.reset_index(drop=True, inplace=True)\n",
    "an=na_col_drop(an,1)\n",
    "an = na_line_drop(an, 1)\n",
    "an.insert(1,'Type_ech','Sol')"
   ]
  },
  {
   "cell_type": "code",
   "execution_count": null,
   "id": "5765e4a1",
   "metadata": {},
   "outputs": [],
   "source": [
    "data = an\n",
    "for i in range(len(data)):\n",
    "    x=data.loc[i,'ID_ech']\n",
    "    r=re.search('([\\w|\\d]+)\\n.+$', x)\n",
    "    if r: \n",
    "        data.loc[i,'ID_ech']='226/'+r.group(1) # Rename borehole 304 to 226 because of conflict with piezair"
   ]
  },
  {
   "cell_type": "code",
   "execution_count": null,
   "id": "comprehensive-highway",
   "metadata": {},
   "outputs": [],
   "source": [
    "dataframe_viewer(an, rows=5) "
   ]
  },
  {
   "cell_type": "code",
   "execution_count": null,
   "id": "silver-algebra",
   "metadata": {},
   "outputs": [],
   "source": [
    "source_prv_sol=prv_sol\n",
    "source_an=an"
   ]
  },
  {
   "cell_type": "code",
   "execution_count": null,
   "id": "specific-suspension",
   "metadata": {
    "scrolled": true
   },
   "outputs": [],
   "source": [
    "if not os.path.exists(tmp_dir):\n",
    "    os.makedirs(tmp_dir), os.makedirs(tmp_dir+'source_merge/') \n",
    "\n",
    "#bh.to_csv(tmp_dir+'source_merge/source_Boreholes.csv', index=False)\n",
    "#pz.to_csv(tmp_dir+sheet+'_Piezometers.csv', index=False)\n",
    "#ouv.to_csv(tmp_dir+sheet+'_Unkown-facility.csv', index=False)\n",
    "#litho.to_csv(tmp_dir+sheet+'_Lithology.csv', index=False)\n",
    "#mes_pz.to_csv(tmp_dir+sheet+'_Measures.csv', index=False)\n",
    "#mes_sol.to_csv(tmp_dir+sheet+'_Measures-soil.csv', index=False)\n",
    "#prv_eau.to_csv(tmp_dir+sheet+'_Samples-water.csv', index=False)\n",
    "prv_sol.to_csv(tmp_dir+sheet+'_Samples-soil.csv', index=False)\n",
    "an.to_csv(tmp_dir+sheet+'_Analysis.csv', index=False)\n",
    "\n",
    "\n",
    "#source_bh.to_csv(tmp_dir+'source_merge/source_Boreholes.csv', index=False)\n",
    "#source_pz.to_csv(tmp_dir+'source_merge/source_Piezometers.csv', index=False)\n",
    "#source_ukw.to_csv(tmp_dir+'source_merge/source_Unkown-facility.csv', index=False)\n",
    "#source_litho.to_csv(tmp_dir+'source_merge/source_Lithology.csv', index=False)\n",
    "#source_mes_pz.to_csv(tmp_dir+'source_merge/source_Measures.csv', index=False)\n",
    "#source_mes_sol.to_csv(tmp_dir+'source_merge/source_Measures-soil.csv', index=False)\n",
    "#source_prv_eau.to_csv(tmp_dir+'source_merge/source_Samples-water.csv', index=False)\n",
    "source_prv_sol.to_csv(tmp_dir+'source_merge/source_Samples-soil.csv', index=False)\n",
    "source_an.to_csv(tmp_dir+'source_merge/source_Analysis.csv', index=False)\n",
    "\n",
    "\n",
    "print(f'source_bh:{len(source_bh)} ; source_pz:{len(source_pz)} ; source_litho:{len(source_litho)} ; '\n",
    "     f'source_Fac-uknw:{len(source_ukw)} ; source_an:{len(source_an)} ;\\nsource_prv_sol:{len(source_prv_sol)} ;'\n",
    "     f'source_prv_eau:{len(source_prv_eau)} ; source_mes_pz:{len(source_mes_pz)} ; source_mes_sol:{len(source_mes_sol)} ;')"
   ]
  },
  {
   "cell_type": "markdown",
   "id": "raised-semiconductor",
   "metadata": {},
   "source": [
    "* **Sheet : 'inorganiques et composés majeur'**"
   ]
  },
  {
   "cell_type": "code",
   "execution_count": null,
   "id": "detected-namibia",
   "metadata": {},
   "outputs": [],
   "source": [
    "tmp_dir=ROOT_DIR + '/CF_data/Result_traitem/donnees_terrain_2019/'\n",
    "sheet='Inorg_comp_majeur'"
   ]
  },
  {
   "cell_type": "code",
   "execution_count": null,
   "id": "weighted-breed",
   "metadata": {
    "scrolled": false
   },
   "outputs": [],
   "source": [
    "df = pd.read_excel(ROOT_DIR + '/CF_data/Data_UMONS/Profils_de_sol_Siterem- extension_pilote_et_pilote/'\n",
    "                   'Resultats SOL extension pilote et piezairs.xlsx', \n",
    "                   sheet_name='inorganiques et composés majeur', skiprows=1)\n",
    "df=na_line_drop(df,0)\n",
    "df=na_col_drop(df,1)\n",
    "df.replace(r'<|>','', inplace=True, regex=True)\n",
    "df.replace(r'-$',np.nan, inplace=True, regex=True)\n",
    "\n",
    "dataframe_viewer(df, rows=5)"
   ]
  },
  {
   "cell_type": "code",
   "execution_count": null,
   "id": "virgin-concept",
   "metadata": {},
   "outputs": [],
   "source": [
    "prv_sol=df.loc[:20] # not really interesting here!\n",
    "an=df.loc[21:]"
   ]
  },
  {
   "cell_type": "code",
   "execution_count": null,
   "id": "exclusive-escape",
   "metadata": {},
   "outputs": [],
   "source": [
    "an.loc[0.5] = df.loc[0] # put data on first line\n",
    "an = an.sort_index().reset_index(drop=True)"
   ]
  },
  {
   "cell_type": "code",
   "execution_count": null,
   "id": "pediatric-template",
   "metadata": {},
   "outputs": [],
   "source": [
    "an=an.transpose()\n",
    "an.reset_index(drop=True, inplace=True)"
   ]
  },
  {
   "cell_type": "code",
   "execution_count": null,
   "id": "desperate-turkish",
   "metadata": {},
   "outputs": [],
   "source": [
    "an=col_ren(an, 1)"
   ]
  },
  {
   "cell_type": "code",
   "execution_count": null,
   "id": "saving-nightmare",
   "metadata": {},
   "outputs": [],
   "source": [
    "an.rename(columns={an.columns[0]:'ID_ech'}, inplace=True)"
   ]
  },
  {
   "cell_type": "code",
   "execution_count": null,
   "id": "buried-carolina",
   "metadata": {},
   "outputs": [],
   "source": [
    "an=an[an.columns[:-7]]"
   ]
  },
  {
   "cell_type": "code",
   "execution_count": null,
   "id": "representative-adolescent",
   "metadata": {},
   "outputs": [],
   "source": [
    "an=col_ren(an, name=pol_field_model, mode=1)"
   ]
  },
  {
   "cell_type": "code",
   "execution_count": null,
   "id": "tested-europe",
   "metadata": {},
   "outputs": [],
   "source": [
    "an=dble_col_drop(an)"
   ]
  },
  {
   "cell_type": "code",
   "execution_count": null,
   "id": "ruled-plastic",
   "metadata": {},
   "outputs": [],
   "source": [
    "an.drop(list(range(3)), axis=0, inplace=True)\n",
    "an.reset_index(drop=True, inplace=True)\n",
    "an=na_col_drop(an,2)\n",
    "an = na_line_drop(an,1)\n",
    "an.insert(1,'Type_ech','Sol')"
   ]
  },
  {
   "cell_type": "code",
   "execution_count": null,
   "id": "e0d1a30d",
   "metadata": {},
   "outputs": [],
   "source": [
    "data = an\n",
    "for i in range(len(data)):\n",
    "    x=data.loc[i,'ID_ech']\n",
    "    r=re.search('([\\w|\\d]+)\\n.+$', x)\n",
    "    if r: \n",
    "        data.loc[i,'ID_ech']='226/'+r.group(1) # Rename borehole 304 to 226 because of conflict with piezair"
   ]
  },
  {
   "cell_type": "code",
   "execution_count": null,
   "id": "extra-inquiry",
   "metadata": {
    "scrolled": true
   },
   "outputs": [],
   "source": [
    "#source_prv_sol=prv_sol\n",
    "source_an=data_merger(source_an, an, how='outer', on='ID_ech')[0]"
   ]
  },
  {
   "cell_type": "code",
   "execution_count": null,
   "id": "graphic-construction",
   "metadata": {
    "scrolled": false
   },
   "outputs": [],
   "source": [
    "dataframe_viewer(source_an, rows=5) "
   ]
  },
  {
   "cell_type": "code",
   "execution_count": null,
   "id": "middle-convertible",
   "metadata": {
    "scrolled": true
   },
   "outputs": [],
   "source": [
    "if not os.path.exists(tmp_dir):\n",
    "    os.makedirs(tmp_dir), os.makedirs(tmp_dir+'source_merge/') \n",
    "\n",
    "#bh.to_csv(tmp_dir+'source_merge/source_Boreholes.csv', index=False)\n",
    "#pz.to_csv(tmp_dir+sheet+'_Piezometers.csv', index=False)\n",
    "#ouv.to_csv(tmp_dir+sheet+'_Unkown-facility.csv', index=False)\n",
    "#litho.to_csv(tmp_dir+sheet+'_Lithology.csv', index=False)\n",
    "#mes_pz.to_csv(tmp_dir+sheet+'_Measures.csv', index=False)\n",
    "#mes_sol.to_csv(tmp_dir+sheet+'_Measures-soil.csv', index=False)\n",
    "#prv_eau.to_csv(tmp_dir+sheet+'_Samples-water.csv', index=False)\n",
    "#prv_sol.to_csv(tmp_dir+sheet+'_Samples-soil.csv', index=False)\n",
    "an.to_csv(tmp_dir+sheet+'_Analysis.csv', index=False)\n",
    "\n",
    "\n",
    "#source_bh.to_csv(tmp_dir+'source_merge/source_Boreholes.csv', index=False)\n",
    "#source_pz.to_csv(tmp_dir+'source_merge/source_Piezometers.csv', index=False)\n",
    "#source_ukw.to_csv(tmp_dir+'source_merge/source_Unkown-facility.csv', index=False)\n",
    "#source_litho.to_csv(tmp_dir+'source_merge/source_Lithology.csv', index=False)\n",
    "#source_mes_pz.to_csv(tmp_dir+'source_merge/source_Measures.csv', index=False)\n",
    "#source_mes_sol.to_csv(tmp_dir+'source_merge/source_Measures-soil.csv', index=False)\n",
    "#source_prv_eau.to_csv(tmp_dir+'source_merge/source_Samples-water.csv', index=False)\n",
    "#source_prv_sol.to_csv(tmp_dir+'source_merge/source_Samples-soil.csv', index=False)\n",
    "source_an.to_csv(tmp_dir+'source_merge/source_Analysis.csv', index=False)\n",
    "\n",
    "\n",
    "print(f'source_bh:{len(source_bh)} ; source_pz:{len(source_pz)} ; source_litho:{len(source_litho)} ; '\n",
    "     f'source_Fac-uknw:{len(source_ukw)} ; source_an:{len(source_an)} ;\\nsource_prv_sol:{len(source_prv_sol)} ;'\n",
    "     f'source_prv_eau:{len(source_prv_eau)} ; source_mes_pz:{len(source_mes_pz)} ; source_mes_sol:{len(source_mes_sol)} ;')"
   ]
  },
  {
   "cell_type": "markdown",
   "id": "2b0fae05",
   "metadata": {},
   "source": [
    "### $\\color{red}{\\textbf{merging of 'Donnees_2019' and 'result_sol' data}}$"
   ]
  },
  {
   "cell_type": "code",
   "execution_count": null,
   "id": "c98b17e7",
   "metadata": {},
   "outputs": [],
   "source": [
    "excel_bh_soil_an, conflict_df = data_merger(excel_bh_soil_sp, source_an, how='outer', on='ID_ech', dist_max=1., drop_skip_col=['index'])"
   ]
  },
  {
   "cell_type": "code",
   "execution_count": null,
   "id": "630f5f96",
   "metadata": {},
   "outputs": [],
   "source": [
    "tmp_dir=ROOT_DIR + '/CF_data/Result_traitem/donnees_terrain_2019/'"
   ]
  },
  {
   "cell_type": "code",
   "execution_count": null,
   "id": "5a00692d",
   "metadata": {},
   "outputs": [],
   "source": [
    "save_dir = tmp_dir + 'source_merge/final_'\n",
    "if not os.path.exists(save_dir):\n",
    "    os.makedirs(save_dir)\n",
    "\n",
    "#excel_bhs.to_csv(save_dir + 'Boreholes.csv', index=False)\n",
    "#excel_bh_litho.to_csv(save_dir+'Lithologies.csv', index=False)\n",
    "#excel_bh_equip.to_csv(save_dir+'Equipments.csv', index=False)\n",
    "#excel_bh_soil_sp.to_csv(save_dir+'Soil_samples.csv', index=False)\n",
    "#excel_bh_water_sp.to_csv(save_dir+'Water_samples.csv', index=False)\n",
    "excel_bh_soil_an.to_csv(save_dir+'Soil_analysis.csv', index=False)\n",
    "#excel_bh_water_an.to_csv(save_dir+'water_analysis.csv', index=False)\n",
    "#excel_bh_mes.to_csv(save_dir+'Measures.csv', index=False)\n",
    "#excel_bh_fac.to_csv(save_dir+'Unknow_facilities.csv', index=False)"
   ]
  },
  {
   "cell_type": "raw",
   "id": "33b68a27",
   "metadata": {},
   "source": [
    "l = []\n",
    "valid_dict = {}\n",
    "for i in pd.unique(conflict_df.Check_col):\n",
    "    for c in i.split(', '):\n",
    "        l.append(c + '_x')\n",
    "l = list(set(l))\n",
    "for i in l:\n",
    "    valid_dict.update({i:list(conflict_df.index)})\n",
    "print(valid_dict)"
   ]
  },
  {
   "cell_type": "raw",
   "id": "8b7f5dbc",
   "metadata": {},
   "source": [
    "l = []\n",
    "for i in pd.unique(conflict_df.Check_col):\n",
    "    for c in i.split(', '):\n",
    "        l.append(c)\n",
    "print(list(set(l)))"
   ]
  },
  {
   "cell_type": "code",
   "execution_count": null,
   "id": "c7f83159",
   "metadata": {},
   "outputs": [],
   "source": [
    "#dataframe_viewer(test.query('ID==\"F16M\"'), rows=5)\n",
    "dataframe_viewer(mdf, rows=5), dataframe_viewer(conflict_df, rows=5)\n",
    "#dataframe_viewer(source_bh, rows=5), dataframe_viewer(source_mes, rows=5)\n",
    "#dataframe_viewer(bh, rows=5), dataframe_viewer(eqp, rows=5)"
   ]
  },
  {
   "cell_type": "code",
   "execution_count": null,
   "id": "executive-providence",
   "metadata": {},
   "outputs": [],
   "source": []
  }
 ],
 "metadata": {
  "kernelspec": {
   "display_name": "Python 3 (ipykernel)",
   "language": "python",
   "name": "python3"
  },
  "language_info": {
   "codemirror_mode": {
    "name": "ipython",
    "version": 3
   },
   "file_extension": ".py",
   "mimetype": "text/x-python",
   "name": "python",
   "nbconvert_exporter": "python",
   "pygments_lexer": "ipython3",
   "version": "3.8.10"
  }
 },
 "nbformat": 4,
 "nbformat_minor": 5
}
