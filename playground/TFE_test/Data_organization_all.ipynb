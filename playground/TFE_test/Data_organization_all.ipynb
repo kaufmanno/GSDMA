{
 "cells": [
  {
   "cell_type": "markdown",
   "id": "indonesian-alloy",
   "metadata": {},
   "source": [
    "# DATA ORGANIZATION"
   ]
  },
  {
   "cell_type": "raw",
   "id": "demanding-former",
   "metadata": {},
   "source": [
    "config Completer.use_jedi = False"
   ]
  },
  {
   "cell_type": "code",
   "execution_count": 5,
   "id": "naughty-clerk",
   "metadata": {},
   "outputs": [],
   "source": [
    "from utils.io import gen_id_dated, dataframe_viewer, gen_geodf_geom, data_merger, data_validation, \\\n",
    "na_col_drop, na_line_drop, col_ren, dble_col_drop\n",
    "import re, os\n",
    "import numpy as np\n",
    "import geopandas as gpd\n",
    "import pandas as pd\n",
    "import datetime as dtm\n",
    "import matplotlib.pyplot as plt"
   ]
  },
  {
   "cell_type": "markdown",
   "id": "baking-nitrogen",
   "metadata": {},
   "source": [
    "Data format (excel files)"
   ]
  },
  {
   "cell_type": "code",
   "execution_count": 6,
   "id": "limiting-bracket",
   "metadata": {},
   "outputs": [],
   "source": [
    "def compute_BH_length(df, length_col_name='Profondeur', top_col='Litho_top', base_col='Litho_base', verbose=False):\n",
    "    for i in df.index:\n",
    "        try:\n",
    "            float(df.loc[i, top_col])\n",
    "        except ValueError:\n",
    "            df.loc[i, top_col] = np.nan\n",
    "\n",
    "        try:\n",
    "            float(df.loc[i, base_col])\n",
    "        except ValueError:\n",
    "            df.loc[i, base_col] = np.nan\n",
    "\n",
    "    df[top_col] = df[top_col].astype('float64')\n",
    "    df[base_col] = df[base_col].astype('float64')\n",
    "\n",
    "    # compute length based on litho_top and litho_base\n",
    "    id_list = []\n",
    "\n",
    "    for i in df.index:\n",
    "        id_ = df.loc[i,'ID']\n",
    "        \n",
    "        if verbose : print(i, id_, df.loc[i, top_col], df.loc[i, base_col])\n",
    "        if id_ not in id_list:\n",
    "            id_list.append(id_)\n",
    "            if isinstance(id_, str):\n",
    "                sql_id = f\"{id_}\"\n",
    "            elif isinstance(id_, float) or isinstance(id_, int):\n",
    "                sql_id = id_\n",
    "                \n",
    "            tmp = df[df['ID'] == sql_id]\n",
    "            \n",
    "            if verbose : print(len(tmp))\n",
    "            #if len(tmp) > 0:\n",
    "            df.loc[tmp.index, length_col_name] = float(max(tmp[base_col])) - float(min(tmp[top_col]))\n",
    "    \n",
    "    df.drop(index=df.query(f'{base_col}.isnull() and {top_col}.isnull()').index, inplace=True)\n",
    "    df.insert(df.columns.to_list().index('ID')+1, length_col_name, df.pop(length_col_name))\n",
    "    #df.reset_index(drop=True, inplace=True)\n",
    "    "
   ]
  },
  {
   "cell_type": "raw",
   "id": "smoking-patio",
   "metadata": {},
   "source": [
    "test=['fraction aromat. >C6-C7','Fraction C5.\\n - C8','Fraction (C.5. -_-C,8)\\n', '1,1,1-TCE.1', 'crits']\n",
    "s=['C5-C8','1,1,1-TCE','111','fraction aromat. >C6-C7.1','C6C7', 'crits']\n",
    "strp=' |>|<|-|\\n|_|\\(|\\.|\\)|,'\n",
    "[test[i] for i in range(len(test)) if re.match(f\"{re.sub(strp,'',s[5])}\", test[i], re.I)] #re.sub(strp,'',test[i])\n",
    "#re.search(s[5],test[4], re.I)"
   ]
  },
  {
   "cell_type": "raw",
   "id": "miniature-running",
   "metadata": {},
   "source": [
    "test=['un', 'uns', 'deux', 'de', 'sans', 'san']\n",
    "for i in test:\n",
    "    if re.match('de(?:ux)?', i): print(i)"
   ]
  },
  {
   "cell_type": "code",
   "execution_count": 116,
   "id": "political-classroom",
   "metadata": {},
   "outputs": [],
   "source": [
    "pol_field_model={'Arsenic': 'As', 'Cadmium': 'Cd', 'Chrome': 'Cr', 'Chrome VI': 'Cr_VI', 'Cuivre': 'Cu', \n",
    "'Mercure': 'Hg', 'Plomb': 'Pb', 'Nickel': 'Ni', 'Zinc': 'Zn', 'Cyanure(?:s)? (?libre(?:s)?)?': 'CN_libre', \n",
    "'Cyanures (totaux)': 'CN_tot','Cyanure (totaux)': 'CN_tot','CN_totaux':'CN_tot','Cyanures (APE)': 'CN_APE',\n",
    "'cyanure (totaux)':'CN_tot', 'cyanure (APE)':'CN_APE', 'cyanure complex': 'CN_comp','Cyanure (APE)': 'CN_APE', \n",
    "\"Cyanures (libres)  -  NEN-EN-ISO 14403\": 'CN_libre', 'Cyanures (libres)':'CN_libre', 'thiocyanate': 'thioCN',\n",
    "'Benzène': 'Bnz', 'Toluène': 'Toln', 'Éthylbenzène': 'EthylBnz', 'Orthoxylène': 'O-Xyl', \n",
    "'Para- et métaxylène': 'P-M-Xyl', 'Xylènes': 'Xyl', 'Styrène': 'Styr', 'BTEX totaux': 'BTEX_tot', \n",
    "'Phénol': 'Phenol', 'Indice phénol': 'Idc_Phenol', 'Naphtalène': 'Naphta', 'Acénaphtylène': 'Acenaphtyl', \n",
    "'Acénaphtène': 'Acenaphtn', 'Fluorène': 'Fluorene', 'Phénanthrène': 'Phenanthr', 'Anthracène': 'Anthrc', \n",
    "'Fluoranthène': 'Flranth', 'Pyrène': 'Pyr', 'Benzo(a)anthracène': 'Bnz(a)anthrc', 'Chrysène': 'Chrys', \n",
    "'Benzo(b)fluoranthène': 'Bnz(b)flranth', 'Benzo(k)fluoranthène': 'Bnz(k)flranth', \n",
    "'Benzo(a)pyrène': 'Bnz(a)pyr','Dibenzo(ah)anthracène': 'Dibnz(ah)anthrc',\n",
    "'Benzo(ghi)pérylène': 'Bnz(ghi)peryl', \n",
    "'Indéno(1,2,3-cd)pyrène': 'Indeno(1,2,3-cd)pyr', 'HAP Totaux (16) - EPA': 'HAP_tot_EPA', \n",
    "'1,1-Dichloroéthane': '1,1-DCE', '1,2-Dichloroéthane': '1,2-DCE', '1,1-dichloroéthène': '1,1-DCEn', \n",
    "'Cis-1,2-dichloroéthène': 'Cis-1,2-DCEn', 'Trans 1,2-dichloroéthylène': 'Trans 1,2-DCEyl', \n",
    "'Dichlorométhane': 'DCM', 'Totaux (cis,trans) 1,2-dichloroéthènes': '(cis,trans) 1,2-DCE_tot', \n",
    "'1,2-dichloropropane': '1,2-DCP', 'Tétrachloroéthylène': 'TetraCEyn', 'Tétrachlorométhane': 'TCM', \n",
    "'1,1,1-Trichloroéthane': '1,1,1-TCE', '1,1,2-Trichloroéthane': '1,1,2-TCE', 'Trichloroéthylène': 'TCEyn', \n",
    "'Chloroforme': 'Chloroforme', 'Chlorure de vinyle': 'CVinyl', 'EOX': 'EOX', \n",
    "'fraction aromat. >C6-C7': 'Arom_C6C7', 'fraction aromat. >C7-C8': 'Arom_C7C8', \n",
    "'fraction aromat. >C8-C10': 'Arom_C8C10', 'fraction aliphat. C5-C6': 'Aliphat_C5C6', \n",
    "'fraction aliphat. >C6-C8': 'Aliphat_C6C8', 'fraction aliphat. >C8-C10': 'Aliphat_C8C10', \n",
    "'Fraction C5 - C8': 'Fract_C5C8', 'Fraction C8-C10': 'Fract_C8C10', 'Fraction C10-C12': 'Fract_C10C12', \n",
    "'Fraction C12-C16': 'Fract_C12C16', 'Fraction C16 - C21': 'Fract_C16C21', 'Fraction C21 - C35': 'Fract_C21C35', \n",
    "'Fraction C35 - C40': 'Fract_C35C40', 'Hydrocarbures totaux C10-C35': 'HC_tot_C10C35','C5-C8':'Fract_C5C8', \n",
    "'C8-C10':'Fract_C8C10','C10-C12':'Fract_C10C12','C12-C16':'Fract_C12C16','C16-C21':'Fract_C16C21', \n",
    "'C21-C35':'Fract_C21C35','C35-C40':'Fract_C35C40', 'totaux C10-C35':'HC_tot_C10C35','C12-C22':'Fract_C12C22', \n",
    "'C22-C30':'Fract_C22C30','C30-C40':'Fract_C30C40', 'Totaux C10-C40':'HC_tot_C10C40',\n",
    "'Hydrocarbures totaux C10-C40':'HC_tot_C10C40', 'MTBE': 'MTBE', 'PCB 28': 'PCB_28', 'PCB 52': 'PCB_52', \n",
    "'PCB 101': 'PCB_101', 'PCB 118': 'PCB_118', 'PCB 138': 'PCB_138', 'PCB 153': 'PCB_153', 'PCB 180': 'PCB_180', \n",
    "'PCB totaux (7)?': 'PCB_tot', 'Chlorure(?:s)?': 'Chlorure', 'Soufre Total': 'S_tot', 'sulfite(?:s)?': 'sulfite', \n",
    "'sulfate(?:s)?': 'sulfate', 'COT':'COT','DBO (5 jours)':'DBO_5j','DCO':'DCO', \n",
    "'Ammonium':'NH4','ammoniaque libre':'NH3_libre','Nitrate':'HNO3', 'Nitrite':'HNO2','azote Kjeldahl':'N_Kjdl','sulfures totaux':'Sulfure_tot', \n",
    "'sulfure(?:s)? (libre(?:s)?)':'Sulfure_libre','calcium':'Ca','potassium':'K', 'magnésium':'Mg', 'manganèse':'Mn', \n",
    "'sodium':\"Na\", 'fer':'Fe','phosphore (total)':'P_tot','carbonate':'CaCO3', 'bicarbonate':'Bicarb','Phoshore':'P',\n",
    "'fer ((Fe))? total':'Fe_tot', 'fer (2\\+)':'Fe2','fluorure(?:s)?':'Fluorure','bromure (libre)':'B_libre'}\n"
   ]
  },
  {
   "cell_type": "markdown",
   "id": "driving-script",
   "metadata": {},
   "source": [
    "source_dfs initialization"
   ]
  },
  {
   "cell_type": "code",
   "execution_count": 8,
   "id": "flying-disabled",
   "metadata": {},
   "outputs": [
    {
     "name": "stdout",
     "output_type": "stream",
     "text": [
      "source_bh:0 ; source_pz:0 ; source_litho:0 ; source_Fac-uknw:0 ; source_an:0 ;\n",
      "source_prv_sol:0 ;source_prv_eau:0 ; source_mes_pz:0 ; source_mes_sol:0 ;\n"
     ]
    }
   ],
   "source": [
    "_df = pd.DataFrame()\n",
    "source_mes_pz, source_mes_sol, source_pz, source_prv_eau = _df, _df, _df, _df\n",
    "source_prv_sol, source_ouv, source_an, source_litho, source_bh = _df, _df, _df, _df, _df\n",
    "\n",
    "print(f'source_bh:{len(source_bh)} ; source_pz:{len(source_pz)} ; source_litho:{len(source_litho)} ; '\n",
    "     f'source_Fac-uknw:{len(source_ouv)} ; source_an:{len(source_an)} ;\\nsource_prv_sol:{len(source_prv_sol)} ;'\n",
    "     f'source_prv_eau:{len(source_prv_eau)} ; source_mes_pz:{len(source_mes_pz)} ; source_mes_sol:{len(source_mes_sol)} ;')"
   ]
  },
  {
   "cell_type": "markdown",
   "id": "current-taxation",
   "metadata": {},
   "source": [
    "## 1- Profils sols et données forages.xls\n",
    "* **Sheet : 'Données de forage'**"
   ]
  },
  {
   "cell_type": "code",
   "execution_count": 9,
   "id": "emerging-dylan",
   "metadata": {},
   "outputs": [],
   "source": [
    "tmp_dir='../../CF_data/Result_traitem/profils_sols_donnees_forages/'\n",
    "sheet='donnees_forage'"
   ]
  },
  {
   "cell_type": "code",
   "execution_count": 10,
   "id": "referenced-violin",
   "metadata": {
    "scrolled": false
   },
   "outputs": [
    {
     "name": "stdout",
     "output_type": "stream",
     "text": [
      "Rows : 25, columns : 15\n"
     ]
    },
    {
     "data": {
      "application/vnd.jupyter.widget-view+json": {
       "model_id": "49dc4322f9fa4a5680157f0d76ef3975",
       "version_major": 2,
       "version_minor": 0
      },
      "text/plain": [
       "interactive(children=(IntSlider(value=10, description='rows', max=25, min=10, readout=False), IntSlider(value=…"
      ]
     },
     "metadata": {},
     "output_type": "display_data"
    }
   ],
   "source": [
    "df = pd.read_excel('../../CF_data/Data_UMONS/ouvrages/Profils sols et données forages.xls', \n",
    "                   sheet_name='Données de forage')#, skiprows=2)\n",
    "df.replace(r'<|>','', inplace=True, regex=True)\n",
    "df.replace(r'-$',np.nan, inplace=True, regex=True)\n",
    "\n",
    "dataframe_viewer(df)"
   ]
  },
  {
   "cell_type": "code",
   "execution_count": 11,
   "id": "beginning-mercy",
   "metadata": {},
   "outputs": [],
   "source": [
    "df.rename(columns={'Date':'Date_ouv','Profondeur':'Long_for', 'Méthode':'Method', \n",
    "                        'Diamètre forage':'Diam_for','Niv. Eau p/r sol':'Niv_eau_sol',\n",
    "                        'PZ Prof.':'Long_pz', 'PZ Diamètre':'Diam_pz','PZ L.crépinée':'Long_crep', \n",
    "                        'Société forage':'Societe'}, inplace=True)\n",
    "\n",
    "df=df[['ID', 'X', 'Y', 'Z', 'Date_ouv', 'Long_for', 'Diam_for', 'Long_pz', 'Diam_pz', 'Long_crep',\n",
    "                 'Remarque','Niv_eau_sol','Method', 'Societe']]"
   ]
  },
  {
   "cell_type": "code",
   "execution_count": 12,
   "id": "furnished-rally",
   "metadata": {},
   "outputs": [
    {
     "name": "stdout",
     "output_type": "stream",
     "text": [
      "Generation of ID-dated...\n",
      "Using column ' Date_ouv ' in the (geo)dataframe !\n",
      "Process ended, check the (geo)dataframe\n"
     ]
    }
   ],
   "source": [
    "df['Type'] = df['Long_pz'].apply(lambda x: 'Forage' if pd.isnull(x) else 'Piezo')\n",
    "df['Refus'] = ''\n",
    "df['Type_refus']=''\n",
    "\n",
    "for i in range(len(df['Remarque'])):\n",
    "    val = str(df.loc[i,'Remarque'])\n",
    "    if re.search('[Bb]loqué', val) :\n",
    "        df.loc[i,'Refus'] = 'x'\n",
    "        \n",
    "        if re.search('[lL]aitier', val):\n",
    "            df.loc[i,'Type_refus'] = 'Laitier'\n",
    "        elif re.search('[Bb]éton', val):\n",
    "            df.loc[i,'Type_refus'] = 'Béton'\n",
    "        elif re.search('[Mm]atériaux', val):\n",
    "            df.loc[i,'Type_refus'] = 'Matériaux indurés' \n",
    "    else: \n",
    "        df.loc[i,'Refus'] = '' \n",
    "\n",
    "df['Diam_int_pz'] = df['Diam_pz'].apply(lambda x: pd.to_numeric(x.replace(' mm','').split('x')[1].strip(' m')) if not pd.isnull(x) else x)\n",
    "df['Diam_ext_pz'] = df['Diam_pz'].apply(lambda x: pd.to_numeric(x.replace(' mm','').split('x')[0].strip(' m')) if not pd.isnull(x) else x)\n",
    "df['Diam_for'] = df['Diam_for'].apply(lambda x: pd.to_numeric(x) if not pd.isnull(x) else x)\n",
    "\n",
    "df.insert(7, 'Diam_ext_pz', df.pop('Diam_ext_pz')) # move to a specified position\n",
    "df.insert(8, 'Diam_int_pz', df.pop('Diam_int_pz'))\n",
    "df.drop(columns=['Remarque', 'Diam_pz'], axis=1, inplace=True)\n",
    "df.drop(df.query(\"ID!=ID\").index, inplace=True) # delete all ID='NaN' lines\n",
    "\n",
    "gen_id_dated(df,'ID','Date_ouv')  "
   ]
  },
  {
   "cell_type": "code",
   "execution_count": 13,
   "id": "polish-money",
   "metadata": {},
   "outputs": [],
   "source": [
    "pz = df.query(\"Type=='Piezo'\")\n",
    "bh = df.query(\"Type!='Piezo'\")\n",
    "\n",
    "pz.reset_index(inplace=True, drop=True)\n",
    "bh.reset_index(inplace=True, drop=True)"
   ]
  },
  {
   "cell_type": "code",
   "execution_count": 14,
   "id": "northern-medication",
   "metadata": {},
   "outputs": [
    {
     "name": "stderr",
     "output_type": "stream",
     "text": [
      "/home/yanathan/.local/share/virtualenvs/GSDMA-DRfwm83x/lib/python3.8/site-packages/pandas/core/frame.py:4901: SettingWithCopyWarning: \n",
      "A value is trying to be set on a copy of a slice from a DataFrame\n",
      "\n",
      "See the caveats in the documentation: https://pandas.pydata.org/pandas-docs/stable/user_guide/indexing.html#returning-a-view-versus-a-copy\n",
      "  return super().drop(\n"
     ]
    }
   ],
   "source": [
    "bh.drop(columns=['Diam_ext_pz', 'Diam_int_pz', 'Long_pz', 'Long_crep', 'Niv_eau_sol',], axis=1, inplace=True)"
   ]
  },
  {
   "cell_type": "code",
   "execution_count": 15,
   "id": "lasting-encoding",
   "metadata": {},
   "outputs": [
    {
     "name": "stdout",
     "output_type": "stream",
     "text": [
      "Rows : 13, columns : 13\n"
     ]
    },
    {
     "data": {
      "application/vnd.jupyter.widget-view+json": {
       "model_id": "bfdf9cd3c4964e87ad14cf0f805045fe",
       "version_major": 2,
       "version_minor": 0
      },
      "text/plain": [
       "interactive(children=(IntSlider(value=3, description='rows', max=13, min=3, readout=False), IntSlider(value=12…"
      ]
     },
     "metadata": {},
     "output_type": "display_data"
    },
    {
     "name": "stdout",
     "output_type": "stream",
     "text": [
      "Rows : 12, columns : 18\n"
     ]
    },
    {
     "data": {
      "application/vnd.jupyter.widget-view+json": {
       "model_id": "0284849a9b5e49e7831346a3ce5ce923",
       "version_major": 2,
       "version_minor": 0
      },
      "text/plain": [
       "interactive(children=(IntSlider(value=3, description='rows', max=12, min=3, readout=False), IntSlider(value=12…"
      ]
     },
     "metadata": {},
     "output_type": "display_data"
    },
    {
     "data": {
      "text/plain": [
       "(None, None)"
      ]
     },
     "execution_count": 15,
     "metadata": {},
     "output_type": "execute_result"
    }
   ],
   "source": [
    "dataframe_viewer(bh, rows=3), dataframe_viewer(pz, rows=3)"
   ]
  },
  {
   "cell_type": "code",
   "execution_count": 16,
   "id": "chief-recovery",
   "metadata": {},
   "outputs": [],
   "source": [
    "source_pz = pz\n",
    "source_bh = bh"
   ]
  },
  {
   "cell_type": "code",
   "execution_count": 17,
   "id": "becoming-bouquet",
   "metadata": {},
   "outputs": [
    {
     "name": "stdout",
     "output_type": "stream",
     "text": [
      "source_bh:13 ; source_pz:12\n"
     ]
    }
   ],
   "source": [
    "if not os.path.exists(tmp_dir):\n",
    "    os.makedirs(tmp_dir)\n",
    "    \n",
    "pz.to_csv(tmp_dir+sheet+'_Piezometers.csv', index=False)\n",
    "bh.to_csv(tmp_dir+sheet+'_Boreholes.csv', index=False)\n",
    "source_bh.to_csv(tmp_dir+'source_Boreholes.csv', index=False) #all Boreholes data in the source\n",
    "source_pz.to_csv(tmp_dir+'source_Piezometers.csv', index=False) #all Piezometers data in the source\n",
    "print(f'source_bh:{len(source_bh)} ; source_pz:{len(source_pz)}')"
   ]
  },
  {
   "cell_type": "markdown",
   "id": "negative-crack",
   "metadata": {},
   "source": [
    "* **Sheet : 'Piézométrie'**"
   ]
  },
  {
   "cell_type": "code",
   "execution_count": 18,
   "id": "pregnant-creativity",
   "metadata": {},
   "outputs": [],
   "source": [
    "tmp_dir='../../CF_data/Result_traitem/profils_sols_donnees_forages/'\n",
    "sheet='piezometrie'"
   ]
  },
  {
   "cell_type": "code",
   "execution_count": 19,
   "id": "future-israeli",
   "metadata": {
    "scrolled": false
   },
   "outputs": [
    {
     "name": "stdout",
     "output_type": "stream",
     "text": [
      "Rows : 37, columns : 21\n"
     ]
    },
    {
     "data": {
      "application/vnd.jupyter.widget-view+json": {
       "model_id": "70b450708ba3489bb4c675f0e5482bfe",
       "version_major": 2,
       "version_minor": 0
      },
      "text/plain": [
       "interactive(children=(IntSlider(value=10, description='rows', max=37, min=10, readout=False), IntSlider(value=…"
      ]
     },
     "metadata": {},
     "output_type": "display_data"
    }
   ],
   "source": [
    "df = pd.read_excel('../../CF_data/Data_UMONS/ouvrages/Profils sols et données forages.xls', sheet_name='Piézométrie', skiprows=1)\n",
    "df.replace(r'<|>','', inplace=True, regex=True)\n",
    "df.replace(r'-$',np.nan, inplace=True, regex=True)\n",
    "\n",
    "dataframe_viewer(df)"
   ]
  },
  {
   "cell_type": "code",
   "execution_count": 20,
   "id": "communist-white",
   "metadata": {
    "scrolled": false
   },
   "outputs": [
    {
     "name": "stdout",
     "output_type": "stream",
     "text": [
      "\n",
      "Columns dropped :['Label', 'Commentaires ', 'Unnamed: 5', 'Unnamed: 6', 'Unnamed: 7']\n",
      "\n"
     ]
    }
   ],
   "source": [
    "df=na_col_drop(df, 3)\n",
    "sdf=df[:11].copy()\n",
    "sdf.reset_index(inplace=True, drop=True)\n",
    "sdf.rename(columns={'z':'Z',}, inplace=True)\n",
    "sdf=sdf[['ID', 'Z']]\n",
    "sdf['Type']='Piezo'"
   ]
  },
  {
   "cell_type": "code",
   "execution_count": 21,
   "id": "recognized-charles",
   "metadata": {},
   "outputs": [],
   "source": [
    "a=0\n",
    "for x in df.columns:\n",
    "    if pd.isnull(df.loc[16,x]):\n",
    "        df.loc[16,x]='col'+str(a)\n",
    "    a+=1"
   ]
  },
  {
   "cell_type": "code",
   "execution_count": 22,
   "id": "heavy-market",
   "metadata": {},
   "outputs": [],
   "source": [
    "df.loc[16]=df.loc[16].apply(lambda x : x if not pd.isnull(x) else '')\n",
    "df.columns = df.loc[16]\n",
    "df=df[17:]\n",
    "df.reset_index(inplace=True, drop=True)\n",
    "\n",
    "#df.drop(columns=[df.columns.to_list()[x] for x in range(0,8)\n",
    "#                      if re.compile(r\"col|unnamed\").match(df.columns.to_list()[x])], axis=1, inplace=True) "
   ]
  },
  {
   "cell_type": "code",
   "execution_count": 23,
   "id": "massive-hormone",
   "metadata": {},
   "outputs": [
    {
     "name": "stdout",
     "output_type": "stream",
     "text": [
      "Rows : 20, columns : 16\n"
     ]
    },
    {
     "data": {
      "application/vnd.jupyter.widget-view+json": {
       "model_id": "598408293a2d4d679717a3906a132643",
       "version_major": 2,
       "version_minor": 0
      },
      "text/plain": [
       "interactive(children=(IntSlider(value=10, description='rows', max=20, min=10, readout=False), IntSlider(value=…"
      ]
     },
     "metadata": {},
     "output_type": "display_data"
    }
   ],
   "source": [
    "dataframe_viewer(df)"
   ]
  },
  {
   "cell_type": "code",
   "execution_count": 24,
   "id": "english-television",
   "metadata": {},
   "outputs": [
    {
     "name": "stderr",
     "output_type": "stream",
     "text": [
      "/home/yanathan/.local/share/virtualenvs/GSDMA-DRfwm83x/lib/python3.8/site-packages/pandas/core/frame.py:5034: SettingWithCopyWarning: \n",
      "A value is trying to be set on a copy of a slice from a DataFrame\n",
      "\n",
      "See the caveats in the documentation: https://pandas.pydata.org/pandas-docs/stable/user_guide/indexing.html#returning-a-view-versus-a-copy\n",
      "  return super().rename(\n"
     ]
    }
   ],
   "source": [
    "df.rename(columns={'col3':'Date_prv', 'col4':'Nappe', 'col5':'ID', 'NP/piézo [m]':'Niv_eau_pz', \n",
    "                        'dim. piezo hors sol [m]':'haut_pz-sol', 'NP/sol [m]':'Niv_eau_sol', \n",
    "                        'Prof. piézo/piézo [m]':'Long_pz', 'Prof. piézo/sol [m]':'Long_pz-sol', \n",
    "                        'CE [mS/cm]':'CE','t° [°C]':'Temp', 'Observations':'Organo'}, inplace=True)"
   ]
  },
  {
   "cell_type": "code",
   "execution_count": 25,
   "id": "significant-november",
   "metadata": {
    "scrolled": true
   },
   "outputs": [
    {
     "name": "stderr",
     "output_type": "stream",
     "text": [
      "/home/yanathan/.local/share/virtualenvs/GSDMA-DRfwm83x/lib/python3.8/site-packages/pandas/core/frame.py:5233: SettingWithCopyWarning: \n",
      "A value is trying to be set on a copy of a slice from a DataFrame\n",
      "\n",
      "See the caveats in the documentation: https://pandas.pydata.org/pandas-docs/stable/user_guide/indexing.html#returning-a-view-versus-a-copy\n",
      "  return super().replace(\n",
      "/home/yanathan/.local/share/virtualenvs/GSDMA-DRfwm83x/lib/python3.8/site-packages/pandas/core/frame.py:3607: SettingWithCopyWarning: \n",
      "A value is trying to be set on a copy of a slice from a DataFrame.\n",
      "Try using .loc[row_indexer,col_indexer] = value instead\n",
      "\n",
      "See the caveats in the documentation: https://pandas.pydata.org/pandas-docs/stable/user_guide/indexing.html#returning-a-view-versus-a-copy\n",
      "  self._set_item(key, value)\n",
      "/home/yanathan/.local/share/virtualenvs/GSDMA-DRfwm83x/lib/python3.8/site-packages/pandas/core/frame.py:4901: SettingWithCopyWarning: \n",
      "A value is trying to be set on a copy of a slice from a DataFrame\n",
      "\n",
      "See the caveats in the documentation: https://pandas.pydata.org/pandas-docs/stable/user_guide/indexing.html#returning-a-view-versus-a-copy\n",
      "  return super().drop(\n",
      "/home/yanathan/.local/share/virtualenvs/GSDMA-DRfwm83x/lib/python3.8/site-packages/pandas/core/indexing.py:1817: SettingWithCopyWarning: \n",
      "A value is trying to be set on a copy of a slice from a DataFrame.\n",
      "Try using .loc[row_indexer,col_indexer] = value instead\n",
      "\n",
      "See the caveats in the documentation: https://pandas.pydata.org/pandas-docs/stable/user_guide/indexing.html#returning-a-view-versus-a-copy\n",
      "  self._setitem_single_column(loc, value, pi)\n"
     ]
    }
   ],
   "source": [
    "df.insert(0, 'ID', df.pop('ID')) # move to first column\n",
    "df.replace('-', np.nan, inplace=True)\n",
    "df['CE']=df['CE [µS/cm]'].apply(lambda x: pd.to_numeric(x)/1000 \n",
    "                                  if re.search('^\\d+', str(x)) and not pd.isnull(x) else np.nan)\n",
    "df.drop('CE [µS/cm]', axis=1, inplace=True)\n",
    "df.loc[18, 'Niv_eau_pz']=np.nan\n",
    "#df['Date_prv']=df['Date_prv'].apply(lambda x : str(x.year) if not pd.isnull(x) else '')"
   ]
  },
  {
   "cell_type": "code",
   "execution_count": 26,
   "id": "confident-zoning",
   "metadata": {},
   "outputs": [
    {
     "name": "stdout",
     "output_type": "stream",
     "text": [
      "\n",
      "Columns dropped :['col0', 'col1', 'col2']\n",
      "\n"
     ]
    }
   ],
   "source": [
    "df.rename_axis(None, inplace=True, axis=1)\n",
    "df.drop(df.query(\"ID!=ID\").index, inplace=True) # supprimer les lignes avec ID='NaN'\n",
    "df.reset_index(inplace=True, drop=True)\n",
    "df=na_col_drop(df,2)\n",
    "df['Type_mes'] = 'phys-chim'"
   ]
  },
  {
   "cell_type": "code",
   "execution_count": 27,
   "id": "cellular-april",
   "metadata": {},
   "outputs": [],
   "source": [
    "cut_list = ['Nappe', 'haut_pz-sol', 'Long_pz', 'Long_pz-sol']\n",
    "for x in df.columns:\n",
    "    if x in cut_list:\n",
    "        sdf[x] = df[x]\n",
    "        \n",
    "df.drop(columns=cut_list, inplace=True)"
   ]
  },
  {
   "cell_type": "code",
   "execution_count": 28,
   "id": "preceding-maldives",
   "metadata": {},
   "outputs": [],
   "source": [
    "sdf['ID_2']=df['ID']"
   ]
  },
  {
   "cell_type": "code",
   "execution_count": 29,
   "id": "detailed-virgin",
   "metadata": {},
   "outputs": [],
   "source": [
    "mes_pz=df # piezometry and phys-chem measures\n",
    "pz=sdf # piezometers"
   ]
  },
  {
   "cell_type": "code",
   "execution_count": 30,
   "id": "running-rainbow",
   "metadata": {
    "scrolled": false
   },
   "outputs": [
    {
     "name": "stdout",
     "output_type": "stream",
     "text": [
      "Conflict values present. Please resolve this manually !\n"
     ]
    }
   ],
   "source": [
    "source_mes_pz = mes_pz\n",
    "source_pz, error_df = data_merger(source_pz, pz, how='outer', on='ID', )"
   ]
  },
  {
   "cell_type": "code",
   "execution_count": 31,
   "id": "anticipated-remains",
   "metadata": {},
   "outputs": [
    {
     "data": {
      "text/html": [
       "<div>\n",
       "<style scoped>\n",
       "    .dataframe tbody tr th:only-of-type {\n",
       "        vertical-align: middle;\n",
       "    }\n",
       "\n",
       "    .dataframe tbody tr th {\n",
       "        vertical-align: top;\n",
       "    }\n",
       "\n",
       "    .dataframe thead th {\n",
       "        text-align: right;\n",
       "    }\n",
       "</style>\n",
       "<table border=\"1\" class=\"dataframe\">\n",
       "  <thead>\n",
       "    <tr style=\"text-align: right;\">\n",
       "      <th></th>\n",
       "      <th>Check_col</th>\n",
       "      <th>ID</th>\n",
       "      <th>Long_pz_x</th>\n",
       "      <th>Long_pz_y</th>\n",
       "    </tr>\n",
       "  </thead>\n",
       "  <tbody>\n",
       "    <tr>\n",
       "      <th>1</th>\n",
       "      <td>Long_pz</td>\n",
       "      <td>F3M</td>\n",
       "      <td>3.3</td>\n",
       "      <td>2.98</td>\n",
       "    </tr>\n",
       "    <tr>\n",
       "      <th>7</th>\n",
       "      <td>Long_pz</td>\n",
       "      <td>F13M</td>\n",
       "      <td>3.5</td>\n",
       "      <td>4.04</td>\n",
       "    </tr>\n",
       "    <tr>\n",
       "      <th>9</th>\n",
       "      <td>Long_pz</td>\n",
       "      <td>F15bM</td>\n",
       "      <td>4.0</td>\n",
       "      <td>4.67</td>\n",
       "    </tr>\n",
       "    <tr>\n",
       "      <th>10</th>\n",
       "      <td>Long_pz</td>\n",
       "      <td>F16M</td>\n",
       "      <td>4.8</td>\n",
       "      <td>4.85</td>\n",
       "    </tr>\n",
       "    <tr>\n",
       "      <th>11</th>\n",
       "      <td>Long_pz</td>\n",
       "      <td>F17dM</td>\n",
       "      <td>3.6</td>\n",
       "      <td>3.97</td>\n",
       "    </tr>\n",
       "  </tbody>\n",
       "</table>\n",
       "</div>"
      ],
      "text/plain": [
       "   Check_col     ID  Long_pz_x Long_pz_y\n",
       "1    Long_pz    F3M        3.3      2.98\n",
       "7    Long_pz   F13M        3.5      4.04\n",
       "9    Long_pz  F15bM        4.0      4.67\n",
       "10   Long_pz   F16M        4.8      4.85\n",
       "11   Long_pz  F17dM        3.6      3.97"
      ]
     },
     "execution_count": 31,
     "metadata": {},
     "output_type": "execute_result"
    }
   ],
   "source": [
    "error_df"
   ]
  },
  {
   "cell_type": "code",
   "execution_count": 32,
   "id": "19188ee0",
   "metadata": {},
   "outputs": [
    {
     "name": "stdout",
     "output_type": "stream",
     "text": [
      "all conflicts have been fixed!\n"
     ]
    }
   ],
   "source": [
    "data_validation(overall_data=source_pz, conflict_data=error_df, index_col='index', \n",
    "                valid_dict={'Long_pz_x':list(error_df.index)})"
   ]
  },
  {
   "cell_type": "code",
   "execution_count": 33,
   "id": "d67b5257",
   "metadata": {},
   "outputs": [],
   "source": [
    "dataset = source_pz\n",
    "if 'level_0' in dataset.columns:\n",
    "    if 'index' in dataset.columns:\n",
    "        dataset.drop(columns='index', inplace=True)\n",
    "    dataset.rename(columns={'level_0':'index'}, inplace=True)"
   ]
  },
  {
   "cell_type": "code",
   "execution_count": 34,
   "id": "encouraging-western",
   "metadata": {},
   "outputs": [
    {
     "name": "stdout",
     "output_type": "stream",
     "text": [
      "Rows : 12, columns : 22\n"
     ]
    },
    {
     "data": {
      "application/vnd.jupyter.widget-view+json": {
       "model_id": "b1550840993f485c851e01a663cd86a5",
       "version_major": 2,
       "version_minor": 0
      },
      "text/plain": [
       "interactive(children=(IntSlider(value=3, description='rows', max=12, min=3, readout=False), IntSlider(value=12…"
      ]
     },
     "metadata": {},
     "output_type": "display_data"
    }
   ],
   "source": [
    "dataframe_viewer(source_pz, rows=3)#, dataframe_viewer(error_df)"
   ]
  },
  {
   "cell_type": "code",
   "execution_count": 35,
   "id": "sublime-baseline",
   "metadata": {},
   "outputs": [
    {
     "name": "stdout",
     "output_type": "stream",
     "text": [
      "source_bh:13 ; source_pz:12 ; source_mes_pz:17\n"
     ]
    }
   ],
   "source": [
    "if not os.path.exists(tmp_dir):\n",
    "    os.makedirs(tmp_dir)\n",
    "    \n",
    "pz.to_csv(tmp_dir+sheet+'_Piezometers.csv', index=False)\n",
    "mes_pz.to_csv(tmp_dir+sheet+'_Measures.csv', index=False)\n",
    "\n",
    "source_mes_pz.to_csv(tmp_dir+'source_Measures.csv', index=False) #all Boreholes data in the source\n",
    "source_pz.to_csv(tmp_dir+'source_Piezometers.csv', index=False) #all Piezometers data in the source\n",
    "\n",
    "print(f'source_bh:{len(source_bh)} ; source_pz:{len(source_pz)} ; source_mes_pz:{len(source_mes_pz)}')"
   ]
  },
  {
   "cell_type": "markdown",
   "id": "exact-shanghai",
   "metadata": {},
   "source": [
    "* **Sheet : 'Equipement'**"
   ]
  },
  {
   "cell_type": "code",
   "execution_count": 36,
   "id": "aquatic-distance",
   "metadata": {},
   "outputs": [],
   "source": [
    "tmp_dir='../../CF_data/Result_traitem/profils_sols_donnees_forages/'\n",
    "sheet='Equipement'"
   ]
  },
  {
   "cell_type": "code",
   "execution_count": 37,
   "id": "dying-gentleman",
   "metadata": {
    "scrolled": false
   },
   "outputs": [
    {
     "name": "stdout",
     "output_type": "stream",
     "text": [
      "Rows : 36, columns : 7\n"
     ]
    },
    {
     "data": {
      "application/vnd.jupyter.widget-view+json": {
       "model_id": "1f008f1c13c34ac8903e7b975877b224",
       "version_major": 2,
       "version_minor": 0
      },
      "text/plain": [
       "interactive(children=(IntSlider(value=10, description='rows', max=36, min=10, readout=False), IntSlider(value=…"
      ]
     },
     "metadata": {},
     "output_type": "display_data"
    }
   ],
   "source": [
    "df = pd.read_excel('../../CF_data/Data_UMONS/ouvrages/Profils sols et données forages.xls', sheet_name='Equipement')#, skiprows=1)\n",
    "df=na_line_drop(df,0)\n",
    "df=na_col_drop(df,1)\n",
    "df.replace(r'<|>','', inplace=True, regex=True)\n",
    "df.replace(r'-$',np.nan, inplace=True, regex=True)\n",
    "\n",
    "dataframe_viewer(df)"
   ]
  },
  {
   "cell_type": "code",
   "execution_count": 38,
   "id": "speaking-mandate",
   "metadata": {},
   "outputs": [],
   "source": [
    "df.drop(columns=['Déplacement'], inplace=True)\n",
    "name=['ID', 'Equip_top', 'Equip_base', 'Diam_for','Diam_ext_pz', 'Legende']\n",
    "df=col_ren(df, mode=1, name=name)"
   ]
  },
  {
   "cell_type": "code",
   "execution_count": 39,
   "id": "thermal-insert",
   "metadata": {},
   "outputs": [],
   "source": [
    "compute_BH_length(df, top_col='Equip_top', base_col='Equip_base')\n",
    "df.rename(columns={'Profondeur':'Long_equip'}, inplace=True)"
   ]
  },
  {
   "cell_type": "code",
   "execution_count": 40,
   "id": "divine-preparation",
   "metadata": {},
   "outputs": [],
   "source": [
    "coi = ['ID', 'Long_equip', 'Diam_for', 'Diam_ext_pz']\n",
    "pz=df[coi].drop_duplicates(['ID'])\n",
    "pz['Type'] = 'Piezo'"
   ]
  },
  {
   "cell_type": "code",
   "execution_count": 41,
   "id": "tough-jamaica",
   "metadata": {},
   "outputs": [
    {
     "name": "stdout",
     "output_type": "stream",
     "text": [
      "Rows : 36, columns : 7, Unique values on col 'ID': 12\n"
     ]
    },
    {
     "data": {
      "application/vnd.jupyter.widget-view+json": {
       "model_id": "b073e03e9a7943eeb54f6a46d8b73a2d",
       "version_major": 2,
       "version_minor": 0
      },
      "text/plain": [
       "interactive(children=(IntSlider(value=3, description='rows', max=36, min=3, readout=False), IntSlider(value=7,…"
      ]
     },
     "metadata": {},
     "output_type": "display_data"
    }
   ],
   "source": [
    "dataframe_viewer(df, un_val='ID', rows=3)"
   ]
  },
  {
   "cell_type": "code",
   "execution_count": 42,
   "id": "arbitrary-irrigation",
   "metadata": {},
   "outputs": [],
   "source": [
    "pz = pz\n",
    "equip = df\n",
    "source_equip = equip"
   ]
  },
  {
   "cell_type": "code",
   "execution_count": 43,
   "id": "sixth-character",
   "metadata": {},
   "outputs": [
    {
     "name": "stdout",
     "output_type": "stream",
     "text": [
      "source_bh:13 ; source_pz:12 ; source_mes_pz:17 ; source_equip:36\n"
     ]
    }
   ],
   "source": [
    "if not os.path.exists(tmp_dir):\n",
    "    os.makedirs(tmp_dir)\n",
    "    \n",
    "equip.to_csv(tmp_dir+sheet+'_Equipments.csv', index=False)\n",
    "pz.to_csv(tmp_dir+sheet+'_Piezometers.csv', index=False)\n",
    "#mes_pz.to_csv(tmp_dir+sheet+'_Measures.csv', index=False)\n",
    "\n",
    "source_equip.to_csv(tmp_dir+'source_Equipments.csv', index=False) #all Piezometers data in the source\n",
    "#source_mes_pz.to_csv(tmp_dir+'source_Measures.csv', index=False) #all Boreholes data in the source\n",
    "source_pz.to_csv(tmp_dir+'source_Piezometers.csv', index=False) #all Piezometers data in the source\n",
    "\n",
    "print(f'source_bh:{len(source_bh)} ; source_pz:{len(source_pz)} ; source_mes_pz:{len(source_mes_pz)} ; '\n",
    "     f'source_equip:{len(source_equip)}')"
   ]
  },
  {
   "cell_type": "markdown",
   "id": "expensive-darwin",
   "metadata": {},
   "source": [
    "* **Sheets: 'Echantillon' + 'Organoleptique'**"
   ]
  },
  {
   "cell_type": "code",
   "execution_count": 44,
   "id": "altered-watershed",
   "metadata": {},
   "outputs": [],
   "source": [
    "tmp_dir='../../CF_data/Result_traitem/profils_sols_donnees_forages/'\n",
    "sheet='Echant-organo'"
   ]
  },
  {
   "cell_type": "code",
   "execution_count": 45,
   "id": "electoral-groove",
   "metadata": {
    "scrolled": false
   },
   "outputs": [
    {
     "name": "stdout",
     "output_type": "stream",
     "text": [
      "Rows : 29, columns : 4\n"
     ]
    },
    {
     "data": {
      "application/vnd.jupyter.widget-view+json": {
       "model_id": "1966e725c033423c841b334af6c71357",
       "version_major": 2,
       "version_minor": 0
      },
      "text/plain": [
       "interactive(children=(IntSlider(value=10, description='rows', max=29, min=10, readout=False), IntSlider(value=…"
      ]
     },
     "metadata": {},
     "output_type": "display_data"
    }
   ],
   "source": [
    "df = pd.read_excel('../../CF_data/Data_UMONS/ouvrages/Profils sols et données forages.xls', sheet_name='Echantillon')#, skiprows=1)\n",
    "df.replace(r'<|>','', inplace=True, regex=True)\n",
    "df.replace(r'-$',np.nan, inplace=True, regex=True)\n",
    "\n",
    "dataframe_viewer(df)"
   ]
  },
  {
   "cell_type": "code",
   "execution_count": 46,
   "id": "assured-melbourne",
   "metadata": {},
   "outputs": [],
   "source": [
    "df.rename(columns={'De':'Ech_top', 'A':'Ech_base', 'Numéro':'ID_ech'}, inplace=True)"
   ]
  },
  {
   "cell_type": "code",
   "execution_count": 47,
   "id": "abroad-report",
   "metadata": {
    "scrolled": false
   },
   "outputs": [
    {
     "name": "stdout",
     "output_type": "stream",
     "text": [
      "Rows : 7, columns : 5\n"
     ]
    },
    {
     "data": {
      "application/vnd.jupyter.widget-view+json": {
       "model_id": "0eafedaa9c0047899f9cd700933427cc",
       "version_major": 2,
       "version_minor": 0
      },
      "text/plain": [
       "interactive(children=(IntSlider(value=7, description='rows', max=7, min=7, readout=False), IntSlider(value=5, …"
      ]
     },
     "metadata": {},
     "output_type": "display_data"
    }
   ],
   "source": [
    "sdf = pd.read_excel('../../CF_data/Data_UMONS/ouvrages/Profils sols et données forages.xls', sheet_name='Organoleptique')#, skiprows=1)\n",
    "df.replace(r'<|>','', inplace=True, regex=True)\n",
    "df.replace(r'-$',np.nan, inplace=True, regex=True)\n",
    "dataframe_viewer(sdf)"
   ]
  },
  {
   "cell_type": "code",
   "execution_count": 48,
   "id": "threatened-ribbon",
   "metadata": {},
   "outputs": [],
   "source": [
    "sdf.rename(columns={'De':'Pol_top', 'A':'Pol_base'}, inplace=True)"
   ]
  },
  {
   "cell_type": "code",
   "execution_count": 49,
   "id": "challenging-stability",
   "metadata": {},
   "outputs": [],
   "source": [
    "mdf, error_df = data_merger(df, sdf, 'outer', 'ID')\n",
    "mdf['Type_ech']='Sol'\n",
    "mdf.insert(4, 'Type_ech', mdf.pop('Type_ech'))"
   ]
  },
  {
   "cell_type": "code",
   "execution_count": 50,
   "id": "governing-subject",
   "metadata": {},
   "outputs": [
    {
     "name": "stdout",
     "output_type": "stream",
     "text": [
      "Rows : 32, columns : 9\n"
     ]
    },
    {
     "data": {
      "application/vnd.jupyter.widget-view+json": {
       "model_id": "ecf4902ecb874de289d7a6482a25e0f1",
       "version_major": 2,
       "version_minor": 0
      },
      "text/plain": [
       "interactive(children=(IntSlider(value=3, description='rows', max=32, min=3, readout=False), IntSlider(value=9,…"
      ]
     },
     "metadata": {},
     "output_type": "display_data"
    }
   ],
   "source": [
    "dataframe_viewer(mdf, rows=3)"
   ]
  },
  {
   "cell_type": "code",
   "execution_count": 51,
   "id": "varying-confusion",
   "metadata": {},
   "outputs": [],
   "source": [
    "prv_sol = mdf\n",
    "source_prv_sol=prv_sol"
   ]
  },
  {
   "cell_type": "code",
   "execution_count": 52,
   "id": "modified-imagination",
   "metadata": {},
   "outputs": [
    {
     "name": "stdout",
     "output_type": "stream",
     "text": [
      "source_bh:13 ; source_pz:12 ; source_mes_pz:17 ; source_prv_sol:32 ; source_equip:36\n"
     ]
    }
   ],
   "source": [
    "if not os.path.exists(tmp_dir):\n",
    "    os.makedirs(tmp_dir)\n",
    "    \n",
    "prv_sol.to_csv(tmp_dir+sheet+'_Samples-soil.csv', index=False)\n",
    "source_prv_sol.to_csv(tmp_dir+'Source_Samples-soil.csv', index=False) #all Samples and organoleptic data in the source\n",
    "print(f'source_bh:{len(source_bh)} ; source_pz:{len(source_pz)} ; source_mes_pz:{len(source_mes_pz)} ; '\n",
    "     f'source_prv_sol:{len(source_prv_sol)} ; source_equip:{len(source_equip)}')"
   ]
  },
  {
   "cell_type": "markdown",
   "id": "objective-california",
   "metadata": {},
   "source": [
    "* **Sheet : 'Log'**"
   ]
  },
  {
   "cell_type": "code",
   "execution_count": 53,
   "id": "loaded-house",
   "metadata": {},
   "outputs": [],
   "source": [
    "tmp_dir='../../CF_data/Result_traitem/profils_sols_donnees_forages/'\n",
    "sheet='Log'"
   ]
  },
  {
   "cell_type": "code",
   "execution_count": 54,
   "id": "stupid-theater",
   "metadata": {
    "scrolled": false
   },
   "outputs": [
    {
     "name": "stdout",
     "output_type": "stream",
     "text": [
      "Rows : 55, columns : 5\n"
     ]
    },
    {
     "data": {
      "application/vnd.jupyter.widget-view+json": {
       "model_id": "e09745b98de141be9ef094fe8620e2d3",
       "version_major": 2,
       "version_minor": 0
      },
      "text/plain": [
       "interactive(children=(IntSlider(value=10, description='rows', max=55, min=10, readout=False), IntSlider(value=…"
      ]
     },
     "metadata": {},
     "output_type": "display_data"
    }
   ],
   "source": [
    "df = pd.read_excel('../../CF_data/Data_UMONS/ouvrages/Profils sols et données forages.xls', sheet_name='Log')#, skiprows=1)\n",
    "dataframe_viewer(df)"
   ]
  },
  {
   "cell_type": "code",
   "execution_count": 55,
   "id": "aerial-atlanta",
   "metadata": {},
   "outputs": [],
   "source": [
    "df.rename(columns={'De':'Litho_top', 'A':'Litho_base'}, inplace=True)"
   ]
  },
  {
   "cell_type": "code",
   "execution_count": 56,
   "id": "actual-pickup",
   "metadata": {
    "scrolled": true
   },
   "outputs": [],
   "source": [
    "q=df.query('Keyword.str.contains(\".ointe\", regex=True)', engine='python').index\n",
    "df.drop(q, inplace=True)\n",
    "df.reset_index(drop=True, inplace=True)"
   ]
  },
  {
   "cell_type": "code",
   "execution_count": 57,
   "id": "burning-huntington",
   "metadata": {},
   "outputs": [],
   "source": [
    "compute_BH_length(df)"
   ]
  },
  {
   "cell_type": "code",
   "execution_count": 58,
   "id": "incomplete-tuner",
   "metadata": {},
   "outputs": [],
   "source": [
    "coi = ['ID', 'Profondeur']\n",
    "bh=df[coi].drop_duplicates(['ID'])\n",
    "bh['Type'] = 'Forage'"
   ]
  },
  {
   "cell_type": "code",
   "execution_count": 59,
   "id": "cheap-shepherd",
   "metadata": {},
   "outputs": [],
   "source": [
    "litho=df\n",
    "source_litho=litho"
   ]
  },
  {
   "cell_type": "code",
   "execution_count": 60,
   "id": "17e2c75c",
   "metadata": {},
   "outputs": [],
   "source": [
    "source_bh, conflict_df = data_merger(source_bh, bh, how='outer', on='ID', dist_max=1., drop_skip_col=['index'])"
   ]
  },
  {
   "cell_type": "code",
   "execution_count": 61,
   "id": "7d7e0496",
   "metadata": {},
   "outputs": [],
   "source": [
    "dataset = source_bh\n",
    "if 'level_0' in dataset.columns:\n",
    "    if 'index' in dataset.columns:\n",
    "        dataset.drop(columns='index', inplace=True)\n",
    "    dataset.rename(columns={'level_0':'index'}, inplace=True)"
   ]
  },
  {
   "cell_type": "code",
   "execution_count": 62,
   "id": "worse-necklace",
   "metadata": {},
   "outputs": [
    {
     "name": "stdout",
     "output_type": "stream",
     "text": [
      "source_bh:25 ; source_pz:12 ; source_mes_pz:17 ; source_prv_sol:32 ; source_equip:36 ; source_litho:54 ;\n"
     ]
    }
   ],
   "source": [
    "if not os.path.exists(tmp_dir):\n",
    "    os.makedirs(tmp_dir)\n",
    "\n",
    "bh.to_csv(tmp_dir+sheet+'_Boreholes.csv', index=False)\n",
    "litho.to_csv(tmp_dir+sheet+'_Lithology.csv', index=False)\n",
    "source_bh.to_csv(tmp_dir+'source_boreholes.csv', index=False)\n",
    "source_litho.to_csv(tmp_dir+'source_Lithology.csv', index=False) #all lithologies or descriptions data in the source\n",
    "\n",
    "print(f'source_bh:{len(source_bh)} ; source_pz:{len(source_pz)} ; source_mes_pz:{len(source_mes_pz)} ; '\n",
    "     f'source_prv_sol:{len(source_prv_sol)} ; source_equip:{len(source_equip)} ; source_litho:{len(source_litho)} ;')"
   ]
  },
  {
   "cell_type": "markdown",
   "id": "c30d7340",
   "metadata": {},
   "source": [
    "### $\\color{red}{\\textbf{Excel sheets data merging}}$"
   ]
  },
  {
   "cell_type": "code",
   "execution_count": 63,
   "id": "41bf07e7",
   "metadata": {},
   "outputs": [
    {
     "name": "stdout",
     "output_type": "stream",
     "text": [
      "Conflict values present. Please resolve this manually !\n"
     ]
    }
   ],
   "source": [
    "excel_bhs, conflict_df = data_merger(source_bh, source_pz, how='outer', on='ID', dist_max=1., drop_skip_col=['index'])"
   ]
  },
  {
   "cell_type": "code",
   "execution_count": 64,
   "id": "da8278ac",
   "metadata": {},
   "outputs": [
    {
     "name": "stdout",
     "output_type": "stream",
     "text": [
      "all conflicts have been fixed!\n"
     ]
    }
   ],
   "source": [
    "data_validation(overall_data=excel_bhs, conflict_data=conflict_df, index_col='index', \n",
    "                valid_dict={'Type_y':list(conflict_df.index)})"
   ]
  },
  {
   "cell_type": "code",
   "execution_count": 65,
   "id": "d53fe737",
   "metadata": {},
   "outputs": [],
   "source": [
    "dataset = excel_bhs\n",
    "if 'level_0' in dataset.columns:\n",
    "    if 'index' in dataset.columns:\n",
    "        dataset.drop(columns='index', inplace=True)\n",
    "    dataset.rename(columns={'level_0':'index'}, inplace=True)"
   ]
  },
  {
   "cell_type": "code",
   "execution_count": 66,
   "id": "000b044e",
   "metadata": {},
   "outputs": [],
   "source": [
    "excel_bh_litho, conflict_df = data_merger(source_bh, source_litho, how='outer', on='ID', dist_max=1., drop_skip_col=['index'])"
   ]
  },
  {
   "cell_type": "code",
   "execution_count": 67,
   "id": "20943fe8",
   "metadata": {},
   "outputs": [],
   "source": [
    "excel_bh_soil_sp, conflict_df = data_merger(source_bh, source_prv_sol, how='outer', on='ID', dist_max=1., drop_skip_col=['index'])"
   ]
  },
  {
   "cell_type": "code",
   "execution_count": 68,
   "id": "7a7571bc",
   "metadata": {},
   "outputs": [],
   "source": [
    "excel_bh_equip, conflict_df = data_merger(source_bh, source_equip, how='outer', on='ID', dist_max=1., drop_skip_col=['index'])"
   ]
  },
  {
   "cell_type": "code",
   "execution_count": 69,
   "id": "d6f09f63",
   "metadata": {
    "scrolled": true
   },
   "outputs": [],
   "source": [
    "excel_bh_mes, conflict_df = data_merger(source_bh, source_mes_pz, how='outer', on='ID', dist_max=1., drop_skip_col=['index'])"
   ]
  },
  {
   "cell_type": "code",
   "execution_count": 70,
   "id": "3876136c",
   "metadata": {},
   "outputs": [],
   "source": [
    "save_dir = tmp_dir + 'Final_merge/final_'\n",
    "if not os.path.exists(save_dir):\n",
    "    os.makedirs(save_dir)\n",
    "\n",
    "excel_bhs.to_csv(save_dir + 'Boreholes.csv', index=False)\n",
    "excel_bh_litho.to_csv(save_dir+'Lithologies.csv', index=False)\n",
    "excel_bh_equip.to_csv(save_dir+'Equipments.csv', index=False)\n",
    "excel_bh_soil_sp.to_csv(save_dir+'Soil_samples.csv', index=False)\n",
    "excel_bh_mes.to_csv(save_dir+'Measures.csv', index=False)"
   ]
  },
  {
   "cell_type": "markdown",
   "id": "90e3c0e5",
   "metadata": {},
   "source": [
    "#### ------------------------------------------------------------------------------------------------------------------"
   ]
  },
  {
   "cell_type": "markdown",
   "id": "italian-benjamin",
   "metadata": {},
   "source": [
    "## 2-Database MEMORIS3.xlsx\n",
    "* **Sheet : 'PROFILS_SOL'**"
   ]
  },
  {
   "cell_type": "code",
   "execution_count": 67,
   "id": "intended-interim",
   "metadata": {},
   "outputs": [],
   "source": [
    "# New file, so the source variables must be overwritten !!\n",
    "_df=pd.DataFrame()\n",
    "source_bh, source_pz, source_litho, source_prv_sol, source_mes_pz, source_equip= _df, _df, _df, _df, _df, _df"
   ]
  },
  {
   "cell_type": "code",
   "execution_count": 68,
   "id": "metropolitan-juvenile",
   "metadata": {},
   "outputs": [],
   "source": [
    "tmp_dir='../../CF_data/Result_traitem/database_Memoris3/'\n",
    "sheet='Profils_sol'"
   ]
  },
  {
   "cell_type": "code",
   "execution_count": 69,
   "id": "indirect-korean",
   "metadata": {
    "scrolled": false
   },
   "outputs": [
    {
     "name": "stdout",
     "output_type": "stream",
     "text": [
      "Rows : 2041, columns : 16\n"
     ]
    },
    {
     "data": {
      "application/vnd.jupyter.widget-view+json": {
       "model_id": "113d4b72e1b248a7893dede2bf7aa743",
       "version_major": 2,
       "version_minor": 0
      },
      "text/plain": [
       "interactive(children=(IntSlider(value=3, description='rows', max=2041, min=3, readout=False), IntSlider(value=…"
      ]
     },
     "metadata": {},
     "output_type": "display_data"
    }
   ],
   "source": [
    "df = pd.read_excel('../../CF_data/Data_UMONS/Contamination/Doc_SITEREM/Rapport de synthèse des études de sol et des eaux souterraines. '+\n",
    "                        'Siterem - 2017/Database MEMORIS3.xlsx', sheet_name='PROFILS_SOL')#, skiprows=2)\n",
    "df.replace(r'<|>','', inplace=True, regex=True)\n",
    "df.replace(r'-$',np.nan, inplace=True, regex=True)\n",
    "\n",
    "dataframe_viewer(df, rows=3)"
   ]
  },
  {
   "cell_type": "code",
   "execution_count": 70,
   "id": "contained-poker",
   "metadata": {},
   "outputs": [],
   "source": [
    "df = df[['Date', 'N°', 'Id', 'Profondeur', 'Description', 'Piézo', 'Unnamed: 6',\n",
    "                             'Gouge Ø75', 'MFT Ø145', 'carottier', 'tarrière', 'Liner Ø60']] "
   ]
  },
  {
   "cell_type": "code",
   "execution_count": 71,
   "id": "typical-century",
   "metadata": {
    "scrolled": false
   },
   "outputs": [
    {
     "name": "stderr",
     "output_type": "stream",
     "text": [
      "/home/yanathan/.local/share/virtualenvs/GSDMA-DRfwm83x/lib/python3.8/site-packages/pandas/core/frame.py:5034: SettingWithCopyWarning: \n",
      "A value is trying to be set on a copy of a slice from a DataFrame\n",
      "\n",
      "See the caveats in the documentation: https://pandas.pydata.org/pandas-docs/stable/user_guide/indexing.html#returning-a-view-versus-a-copy\n",
      "  return super().rename(\n"
     ]
    }
   ],
   "source": [
    "df.rename({'Date':'Date_ouv', 'N°':'Ref', 'Id':'idx', 'Piézo':'Type', 'Unnamed: 6':'Societe',\n",
    "                'MFT Ø145':'MFT_145', 'Gouge Ø75':'Gouge_75', 'Liner Ø60': 'Liner_60'}, axis=1, inplace=True)"
   ]
  },
  {
   "cell_type": "code",
   "execution_count": 72,
   "id": "durable-infection",
   "metadata": {
    "scrolled": true
   },
   "outputs": [
    {
     "name": "stdout",
     "output_type": "stream",
     "text": [
      "[NaT, 2009, 2010, 2015]\n"
     ]
    }
   ],
   "source": [
    "print(list(set(df['Date_ouv'].apply(lambda x: x.year if not pd.isnull(x) else x))))"
   ]
  },
  {
   "cell_type": "code",
   "execution_count": 73,
   "id": "supreme-ceiling",
   "metadata": {},
   "outputs": [
    {
     "name": "stderr",
     "output_type": "stream",
     "text": [
      "/home/yanathan/.local/share/virtualenvs/GSDMA-DRfwm83x/lib/python3.8/site-packages/pandas/core/indexing.py:1817: SettingWithCopyWarning: \n",
      "A value is trying to be set on a copy of a slice from a DataFrame.\n",
      "Try using .loc[row_indexer,col_indexer] = value instead\n",
      "\n",
      "See the caveats in the documentation: https://pandas.pydata.org/pandas-docs/stable/user_guide/indexing.html#returning-a-view-versus-a-copy\n",
      "  self._setitem_single_column(loc, value, pi)\n"
     ]
    }
   ],
   "source": [
    "df.loc[df.fillna('').query(\"Societe.str.contains('x|X')\").index, 'Type']='X'"
   ]
  },
  {
   "cell_type": "code",
   "execution_count": 74,
   "id": "legislative-gibraltar",
   "metadata": {},
   "outputs": [],
   "source": [
    "df.loc[df.fillna('').query(\"Gouge_75.str.contains('SBS|SITER')\").index, 'Societe']='SBS Environnement'\n",
    "df.loc[df.fillna('').query(\"Gouge_75.str.contains('SBS|SITER')\").index, 'Gouge_75']=''"
   ]
  },
  {
   "cell_type": "code",
   "execution_count": 75,
   "id": "creative-virginia",
   "metadata": {},
   "outputs": [],
   "source": [
    "for i in range(len(df['Date_ouv'])-1):\n",
    "    if not pd.isnull(df.loc[i, 'Date_ouv']) and pd.isnull(df.loc[i+1, 'Date_ouv']):\n",
    "        df.loc[i+1, 'Date_ouv']=df.loc[i, 'Date_ouv']\n",
    "        \n",
    "    if not pd.isnull(df.loc[i, 'Societe']) and pd.isnull(df.loc[i+1, 'Societe']):\n",
    "        df.loc[i+1, 'Societe']=df.loc[i, 'Societe']\n",
    "        \n",
    "    if not pd.isnull(df.loc[i, 'Type']) and pd.isnull(df.loc[i+1, 'Type']) and \\\n",
    "       df.loc[i, 'Ref']==df.loc[i+1, 'Ref']:\n",
    "        df.loc[i+1, 'Type']=df.loc[i, 'Type']"
   ]
  },
  {
   "cell_type": "code",
   "execution_count": 76,
   "id": "upper-candidate",
   "metadata": {},
   "outputs": [],
   "source": [
    "for i in range(len(df['idx'])-1):    \n",
    "    if df.loc[i,'Ref']==df.loc[i+1,'Ref'] and not pd.isnull(df.loc[i, 'Profondeur'])\\\n",
    "    and re.findall('Forage',df.loc[i, 'Profondeur']):\n",
    "        df.loc[i+1,'idx']=df.loc[i, 'Profondeur'][0]+str(df.loc[i, 'Ref'])\n",
    "        w=df.loc[i, 'Profondeur'][0]\n",
    "    elif df.loc[i,'Ref']==df.loc[i+1,'Ref'] and not pd.isnull(df.loc[i, 'Profondeur']):\n",
    "        df.loc[i+1,'idx']=w+str(df.loc[i, 'Ref'])\n",
    "    \n",
    "    if df.loc[i,'Ref']==df.loc[i+1,'Ref'] and not pd.isnull(df.loc[i, 'Profondeur'])\\\n",
    "    and re.findall('Tranch',df.loc[i, 'Profondeur']):\n",
    "        df.loc[i+1,'idx']=df.loc[i, 'Profondeur'][0]+str(df.loc[i, 'Ref'])\n",
    "        w=df.loc[i, 'Profondeur'][0]\n",
    "    elif df.loc[i,'Ref']==df.loc[i+1,'Ref'] and not pd.isnull(df.loc[i, 'Profondeur']):\n",
    "        df.loc[i+1,'idx']=w+str(df.loc[i, 'Ref'])\n",
    "     \n",
    "   # if df.loc[i,'Ref']==df.loc[i+1,'Ref'] and not pd.isnull(df.loc[i, 'Profondeur'])\\\n",
    "   # and re.findall('Moni',df.loc[i, 'Profondeur']):\n",
    "   #     df.loc[i+1,'idx']=df.loc[i, 'Profondeur'][0]+str(df.loc[i, 'Ref'])\n",
    "   #     w=df.loc[i, 'Profondeur'][0]\n",
    "   # elif df.loc[i,'Ref']==df.loc[i+1,'Ref'] and not pd.isnull(df.loc[i, 'Profondeur']):\n",
    "   #     df.loc[i+1,'idx']=w+str(df.loc[i, 'Ref'])"
   ]
  },
  {
   "cell_type": "code",
   "execution_count": 77,
   "id": "noticed-basement",
   "metadata": {},
   "outputs": [
    {
     "name": "stderr",
     "output_type": "stream",
     "text": [
      "/home/yanathan/.local/share/virtualenvs/GSDMA-DRfwm83x/lib/python3.8/site-packages/pandas/core/frame.py:3607: SettingWithCopyWarning: \n",
      "A value is trying to be set on a copy of a slice from a DataFrame.\n",
      "Try using .loc[row_indexer,col_indexer] = value instead\n",
      "\n",
      "See the caveats in the documentation: https://pandas.pydata.org/pandas-docs/stable/user_guide/indexing.html#returning-a-view-versus-a-copy\n",
      "  self._set_item(key, value)\n"
     ]
    }
   ],
   "source": [
    "df['Ref']=df['idx'].apply(lambda x : x if re.findall('F|T', str(x)) else '')\n",
    "df['Ref']=df['idx'].apply(lambda x : x.replace('Monito ', 'Mon') if re.findall('Monit', str(x)) else x)"
   ]
  },
  {
   "cell_type": "code",
   "execution_count": 78,
   "id": "ignored-community",
   "metadata": {},
   "outputs": [],
   "source": [
    "df['Type']=df['Type'].apply(lambda x: 'Piezo' if not pd.isnull(x) else '')"
   ]
  },
  {
   "cell_type": "code",
   "execution_count": 79,
   "id": "thrown-parent",
   "metadata": {},
   "outputs": [],
   "source": [
    "df['Ref']=df['Ref'].apply(lambda x: re.sub(\"\\.1\",\"a\",str(x)) if re.search(r\"\\.1\", str(x)) else x)\n",
    "df['Ref']=df['Ref'].apply(lambda x: re.sub(\"\\.2\",\"b\",str(x)) if re.search(r\"\\.2\", str(x)) else x)\n",
    "df['Ref']=df['Ref'].apply(lambda x: re.sub(\"\\.3\",\"c\",str(x)) if re.search(r\"\\.3\", str(x)) else x)\n",
    "df['Ref']=df['Ref'].apply(lambda x: re.sub(\"\\.4\",\"d\",str(x)) if re.search(r\"\\.4\", str(x)) else x)"
   ]
  },
  {
   "cell_type": "code",
   "execution_count": 80,
   "id": "photographic-speaking",
   "metadata": {},
   "outputs": [
    {
     "name": "stdout",
     "output_type": "stream",
     "text": [
      "Generation of ID-dated...\n",
      "Using column ' Date_ouv ' in the (geo)dataframe !\n",
      "Process ended, check the (geo)dataframe\n"
     ]
    }
   ],
   "source": [
    "gen_id_dated(df, ref_col='Ref', date_col='Date_ouv')"
   ]
  },
  {
   "cell_type": "code",
   "execution_count": 81,
   "id": "utility-state",
   "metadata": {
    "scrolled": true
   },
   "outputs": [],
   "source": [
    "df.loc[df.query('Profondeur!=Profondeur' ).index,'Profondeur']=''"
   ]
  },
  {
   "cell_type": "code",
   "execution_count": 82,
   "id": "impaired-viewer",
   "metadata": {},
   "outputs": [],
   "source": [
    "df['Method']=''\n",
    "            \n",
    "for i in range(len(df['Method'])):\n",
    "    if not pd.isnull(df.loc[i, 'Gouge_75']) : df.loc[i, 'Method']='Gouge_75'\n",
    "    if not pd.isnull(df.loc[i, 'MFT_145']) : df.loc[i, 'Method']='MFT_145'\n",
    "    if not pd.isnull(df.loc[i, 'Liner_60']) : df.loc[i, 'Method']='Liner_60'\n",
    "    if not pd.isnull(df.loc[i, 'carottier']) : df.loc[i, 'Method']='carrotier'\n",
    "    if not pd.isnull(df.loc[i, 'tarrière']) : df.loc[i, 'Method']='tarrière'"
   ]
  },
  {
   "cell_type": "code",
   "execution_count": 83,
   "id": "relevant-bobby",
   "metadata": {},
   "outputs": [
    {
     "name": "stderr",
     "output_type": "stream",
     "text": [
      "/home/yanathan/.local/share/virtualenvs/GSDMA-DRfwm83x/lib/python3.8/site-packages/pandas/core/frame.py:4901: SettingWithCopyWarning: \n",
      "A value is trying to be set on a copy of a slice from a DataFrame\n",
      "\n",
      "See the caveats in the documentation: https://pandas.pydata.org/pandas-docs/stable/user_guide/indexing.html#returning-a-view-versus-a-copy\n",
      "  return super().drop(\n"
     ]
    }
   ],
   "source": [
    "df.drop(df.query('Profondeur.str.contains(\"Forage\") and Profondeur!=\"Forage bloqué\"', engine='python').index, inplace=True)\n",
    "df.drop(df.query('Profondeur.str.contains(\"Tranc\") and Profondeur!=\"Tranchée bloqué\"', engine='python').index, inplace=True)\n",
    "df.drop(df.query('Profondeur.str.contains(\".orage|..ranch\", regex=True)', engine='python').index, inplace=True)\n",
    "df.drop(df.fillna('').query('Description.str.contains(\"^.orage bloq|^.ranc.* bloq|^.*efus\", regex=True)', engine='python').index, inplace=True)\n",
    "df.drop(df.query('Ref!=Ref').index, inplace=True)\n",
    "df.drop(columns=['MFT_145','Gouge_75','Liner_60', 'carottier', 'tarrière', 'idx'], axis=1, inplace=True)\n",
    "df.reset_index(drop=True, inplace=True)"
   ]
  },
  {
   "cell_type": "code",
   "execution_count": 84,
   "id": "satisfied-entry",
   "metadata": {},
   "outputs": [],
   "source": [
    "df['Litho_top'] = df['Profondeur'].apply(lambda x: x.replace(',','.').split('-')[0].strip(' m'))\n",
    "df['Litho_base'] = df['Profondeur'].apply(lambda x: x.replace(',','.').split('-')[-1].strip(' m'))"
   ]
  },
  {
   "cell_type": "code",
   "execution_count": 85,
   "id": "human-zimbabwe",
   "metadata": {},
   "outputs": [],
   "source": [
    "df.rename({'Ref':'ID'}, axis=1, inplace=True)\n",
    "if 'Profondeur' in df.columns: df.drop(columns=['Profondeur'], axis=1, inplace=True)"
   ]
  },
  {
   "cell_type": "code",
   "execution_count": 86,
   "id": "appreciated-termination",
   "metadata": {},
   "outputs": [
    {
     "data": {
      "text/plain": [
       "{'F', 'T'}"
      ]
     },
     "execution_count": 86,
     "metadata": {},
     "output_type": "execute_result"
    }
   ],
   "source": [
    "set([x[0] for x in list(set(df.ID)) if isinstance(x,str)])"
   ]
  },
  {
   "cell_type": "code",
   "execution_count": 87,
   "id": "minor-billion",
   "metadata": {},
   "outputs": [],
   "source": [
    "df.loc[df.query('ID_date.str.contains(\"T\")', engine='python').index, 'Type'] = 'Tranchee'\n",
    "df.loc[df.query('Type==\"\"', engine='python').index, 'Type'] = 'Forage'"
   ]
  },
  {
   "cell_type": "code",
   "execution_count": 88,
   "id": "dimensional-philippines",
   "metadata": {},
   "outputs": [
    {
     "name": "stderr",
     "output_type": "stream",
     "text": [
      "/home/yanathan/.local/share/virtualenvs/GSDMA-DRfwm83x/lib/python3.8/site-packages/pandas/core/indexing.py:1797: SettingWithCopyWarning: \n",
      "A value is trying to be set on a copy of a slice from a DataFrame.\n",
      "Try using .loc[row_indexer,col_indexer] = value instead\n",
      "\n",
      "See the caveats in the documentation: https://pandas.pydata.org/pandas-docs/stable/user_guide/indexing.html#returning-a-view-versus-a-copy\n",
      "  self._setitem_single_column(loc, v, pi)\n"
     ]
    }
   ],
   "source": [
    "df.loc[1268, ['ID_date','ID']] = df.loc[1267, ['ID_date','ID']]\n",
    "df.loc[df.query('Description.isnull() or Description.str.len()<1').index, 'Description'] = ''"
   ]
  },
  {
   "cell_type": "code",
   "execution_count": 89,
   "id": "planned-going",
   "metadata": {},
   "outputs": [],
   "source": [
    "df.drop(index=df.query('Litho_base.isnull() or Litho_base.str.len()<1 or ' \n",
    "                       'Description.str.contains(\"Bloqu\")').index, inplace=True)\n",
    "df.reset_index(drop=True, inplace=True)"
   ]
  },
  {
   "cell_type": "raw",
   "id": "finite-arbor",
   "metadata": {},
   "source": [
    "print(df.loc[802, ['ID','Description','Method','Litho_top', 'Litho_base']])\n",
    "df.query('Description.isnull() or Description.str.contains(\"Bloqu\")', engine='python')"
   ]
  },
  {
   "cell_type": "code",
   "execution_count": 90,
   "id": "ongoing-electron",
   "metadata": {},
   "outputs": [],
   "source": [
    "compute_BH_length(df)"
   ]
  },
  {
   "cell_type": "code",
   "execution_count": 91,
   "id": "equivalent-comment",
   "metadata": {},
   "outputs": [],
   "source": [
    "# we only have lithologies here, but separate facilities could be interesting for the following\n",
    "coi = ['ID_date', 'Date_ouv', 'ID', 'Profondeur','Type', 'Societe']\n",
    "\n",
    "litho = df\n",
    "bh = df.loc[df.query('Type==\"Forage\"', engine='python').index] # boreholes \n",
    "trch = df.loc[df.query('Type==\"Tranchee\"', engine='python').index] # trenches\n",
    "pz = df.loc[df.query('Type==\"Piezo\"', engine='python').index] # piezometers\n",
    "\n",
    "bh=bh[coi].drop_duplicates(['ID'])\n",
    "pz=pz[coi].drop_duplicates(['ID'])\n",
    "trch=trch[coi].drop_duplicates(['ID'])"
   ]
  },
  {
   "cell_type": "code",
   "execution_count": 92,
   "id": "ignored-canon",
   "metadata": {},
   "outputs": [
    {
     "data": {
      "text/plain": [
       "(172, 111, 17)"
      ]
     },
     "execution_count": 92,
     "metadata": {},
     "output_type": "execute_result"
    }
   ],
   "source": [
    "len(bh), len(pz), len(trch)"
   ]
  },
  {
   "cell_type": "code",
   "execution_count": 93,
   "id": "minus-initial",
   "metadata": {
    "scrolled": true
   },
   "outputs": [
    {
     "name": "stdout",
     "output_type": "stream",
     "text": [
      "Rows : 111, columns : 6, Unique values on col 'ID': 111\n"
     ]
    },
    {
     "data": {
      "application/vnd.jupyter.widget-view+json": {
       "model_id": "19fb650a7ee44242b9975b946d796c1b",
       "version_major": 2,
       "version_minor": 0
      },
      "text/plain": [
       "interactive(children=(IntSlider(value=3, description='rows', max=111, min=3, readout=False), IntSlider(value=6…"
      ]
     },
     "metadata": {},
     "output_type": "display_data"
    }
   ],
   "source": [
    "dataframe_viewer(pz, un_val='ID', rows=3)"
   ]
  },
  {
   "cell_type": "code",
   "execution_count": 94,
   "id": "pressing-nirvana",
   "metadata": {},
   "outputs": [],
   "source": [
    "source_litho = df\n",
    "source_bh = bh\n",
    "source_pz = pz\n",
    "source_trch = trch"
   ]
  },
  {
   "cell_type": "code",
   "execution_count": 95,
   "id": "honey-booking",
   "metadata": {},
   "outputs": [
    {
     "name": "stdout",
     "output_type": "stream",
     "text": [
      "source_bh:172 ; source_pz:111 ; source_mes_pz:0 ; source_prv_sol:0 ; source_litho:1626 ;\n"
     ]
    }
   ],
   "source": [
    "if not os.path.exists(tmp_dir):\n",
    "    os.makedirs(tmp_dir)\n",
    "    \n",
    "litho.to_csv(tmp_dir+sheet+'_Lithology.csv', index=False)\n",
    "bh.to_csv(tmp_dir+sheet+'_Boreholes.csv', index=False)\n",
    "pz.to_csv(tmp_dir+sheet+'_Piezometers.csv', index=False)\n",
    "trch.to_csv(tmp_dir+sheet+'_Trenches.csv', index=False)\n",
    "\n",
    "source_litho.to_csv(tmp_dir+'source_Lithology.csv', index=False) #all lithologies or descriptions data in the source\n",
    "source_bh.to_csv(tmp_dir+'source_Boreholes.csv', index=False)\n",
    "source_pz.to_csv(tmp_dir+'source_Piezometers.csv', index=False)\n",
    "source_trch.to_csv(tmp_dir+'source_Trenches.csv', index=False)\n",
    "\n",
    "print(f'source_bh:{len(source_bh)} ; source_pz:{len(source_pz)} ; source_mes_pz:{len(source_mes_pz)} ; '\n",
    "     f'source_prv_sol:{len(source_prv_sol)} ; source_litho:{len(source_litho)} ;')"
   ]
  },
  {
   "cell_type": "markdown",
   "id": "applied-dress",
   "metadata": {},
   "source": [
    "* **Sheet : 'DONNEES PIEZOS'**"
   ]
  },
  {
   "cell_type": "code",
   "execution_count": 96,
   "id": "young-nicholas",
   "metadata": {},
   "outputs": [],
   "source": [
    "tmp_dir='../../CF_data/Result_traitem/database_Memoris3/'\n",
    "sheet='Donnees_piezos'"
   ]
  },
  {
   "cell_type": "code",
   "execution_count": 97,
   "id": "comfortable-injection",
   "metadata": {
    "scrolled": false
   },
   "outputs": [
    {
     "name": "stdout",
     "output_type": "stream",
     "text": [
      "Rows : 130, columns : 22\n"
     ]
    },
    {
     "data": {
      "application/vnd.jupyter.widget-view+json": {
       "model_id": "ee931ddcde2b41c68c08ea1bbd564d86",
       "version_major": 2,
       "version_minor": 0
      },
      "text/plain": [
       "interactive(children=(IntSlider(value=3, description='rows', max=130, min=3, readout=False), IntSlider(value=1…"
      ]
     },
     "metadata": {},
     "output_type": "display_data"
    }
   ],
   "source": [
    "df = pd.read_excel('../../CF_data/Data_UMONS/Contamination/Doc_SITEREM/Rapport de synthèse des études de sol et des eaux souterraines. '+\n",
    "                        'Siterem - 2017/Database MEMORIS3.xlsx', sheet_name='DONNEES PIEZOS', skiprows=2)\n",
    "df.replace(r'<|>','', inplace=True, regex=True)\n",
    "df.replace(r'-$',np.nan, inplace=True, regex=True)\n",
    "\n",
    "dataframe_viewer(df, rows=3)"
   ]
  },
  {
   "cell_type": "code",
   "execution_count": 98,
   "id": "multiple-passage",
   "metadata": {},
   "outputs": [],
   "source": [
    "sdf=df[df.columns.to_list()[:9]+df.columns.to_list()[13:17]]\n",
    "df=df[df.columns.to_list()[:13]+df.columns.to_list()[17:22]]"
   ]
  },
  {
   "cell_type": "code",
   "execution_count": 99,
   "id": "6926893d",
   "metadata": {},
   "outputs": [
    {
     "name": "stdout",
     "output_type": "stream",
     "text": [
      "Rows : 130, columns : 18, Unique values on col 'ID': 130\n"
     ]
    },
    {
     "data": {
      "application/vnd.jupyter.widget-view+json": {
       "model_id": "16ec704563ce4cfa9c02cc5d57057d28",
       "version_major": 2,
       "version_minor": 0
      },
      "text/plain": [
       "interactive(children=(IntSlider(value=3, description='rows', max=130, min=3, readout=False), IntSlider(value=1…"
      ]
     },
     "metadata": {},
     "output_type": "display_data"
    },
    {
     "name": "stdout",
     "output_type": "stream",
     "text": [
      "Rows : 130, columns : 13, Unique values on col 'ID': 130\n"
     ]
    },
    {
     "data": {
      "application/vnd.jupyter.widget-view+json": {
       "model_id": "f76b8caec8f246a3b3218f2912fcc1dd",
       "version_major": 2,
       "version_minor": 0
      },
      "text/plain": [
       "interactive(children=(IntSlider(value=3, description='rows', max=130, min=3, readout=False), IntSlider(value=1…"
      ]
     },
     "metadata": {},
     "output_type": "display_data"
    },
    {
     "data": {
      "text/plain": [
       "(None, None)"
      ]
     },
     "execution_count": 99,
     "metadata": {},
     "output_type": "execute_result"
    }
   ],
   "source": [
    "dataframe_viewer(df, un_val='ID', rows=3), dataframe_viewer(sdf, un_val='ID', rows=3)"
   ]
  },
  {
   "cell_type": "code",
   "execution_count": 100,
   "id": "catholic-batch",
   "metadata": {},
   "outputs": [
    {
     "name": "stderr",
     "output_type": "stream",
     "text": [
      "/home/yanathan/.local/share/virtualenvs/GSDMA-DRfwm83x/lib/python3.8/site-packages/pandas/core/frame.py:5034: SettingWithCopyWarning: \n",
      "A value is trying to be set on a copy of a slice from a DataFrame\n",
      "\n",
      "See the caveats in the documentation: https://pandas.pydata.org/pandas-docs/stable/user_guide/indexing.html#returning-a-view-versus-a-copy\n",
      "  return super().rename(\n"
     ]
    }
   ],
   "source": [
    "df.rename(columns={'ID':'Ref_id', 'Campagne':'Societe','N_piezo.':'ID','X [m]':'X','Y [m]':'Y','Z tête PZ [m]':'Z',\n",
    "                        'Zsol [m]':'Zsol', 'Prof_PZ [m]':'Long_pz','Section_crépinée [m]':'Long_crep',\n",
    "                        'Aquifère':'Nappe', 'Caractéristique':'Caractere',\n",
    "                        'Diamètre_int [m]':'Diam_int_pz','Surnageant [cm]':'Surnageant','Sousnageant [cm]':'Sousnageant',\n",
    "                        'Description éch. \\nOd/turb.':'Opacite_eau','Remarques':'Rmq'}, inplace=True)\n",
    "\n",
    "df=df.query(\"ID==ID\")\n",
    "df.replace('-',np.nan, inplace=True)"
   ]
  },
  {
   "cell_type": "code",
   "execution_count": 101,
   "id": "fiscal-triple",
   "metadata": {},
   "outputs": [],
   "source": [
    "df['Type']=df['Long_crep'].apply(lambda x: 'Piezo' if not pd.isnull(x) else 'Unknown')"
   ]
  },
  {
   "cell_type": "code",
   "execution_count": 102,
   "id": "recorded-exposure",
   "metadata": {},
   "outputs": [],
   "source": [
    "df=df[['ID','X','Y','Z','Zsol','Type','Societe','Nappe','Long_pz','Long_crep','Diam_int_pz', 'Surnageant', \n",
    "         'Sousnageant','Caractere', 'Rmq', 'Opacite_eau','Zone', 'Sous_zone']]\n",
    "df['Sousnageant']=df['Sousnageant'].apply(lambda x: x/100 if not pd.isnull(x) else x) #convert unit in [m]\n",
    "df['Surnageant']=df['Surnageant'].apply(lambda x: x/100 if not pd.isnull(x) else x)"
   ]
  },
  {
   "cell_type": "code",
   "execution_count": 103,
   "id": "pretty-muscle",
   "metadata": {},
   "outputs": [
    {
     "name": "stdout",
     "output_type": "stream",
     "text": [
      "Rows : 130, columns : 18, Unique values on col 'ID': 130\n"
     ]
    },
    {
     "data": {
      "application/vnd.jupyter.widget-view+json": {
       "model_id": "34158f09b74543bd9972578db3d7b669",
       "version_major": 2,
       "version_minor": 0
      },
      "text/plain": [
       "interactive(children=(IntSlider(value=3, description='rows', max=130, min=3, readout=False), IntSlider(value=1…"
      ]
     },
     "metadata": {},
     "output_type": "display_data"
    }
   ],
   "source": [
    "dataframe_viewer(df, un_val='ID', rows=3) # all units in [m]"
   ]
  },
  {
   "cell_type": "code",
   "execution_count": 104,
   "id": "interstate-upgrade",
   "metadata": {},
   "outputs": [
    {
     "name": "stderr",
     "output_type": "stream",
     "text": [
      "/home/yanathan/.local/share/virtualenvs/GSDMA-DRfwm83x/lib/python3.8/site-packages/pandas/core/frame.py:3607: SettingWithCopyWarning: \n",
      "A value is trying to be set on a copy of a slice from a DataFrame.\n",
      "Try using .loc[row_indexer,col_indexer] = value instead\n",
      "\n",
      "See the caveats in the documentation: https://pandas.pydata.org/pandas-docs/stable/user_guide/indexing.html#returning-a-view-versus-a-copy\n",
      "  self._set_item(key, value)\n"
     ]
    }
   ],
   "source": [
    "prv_eau=df[['ID','X','Y','Z','Zsol','Type', 'Surnageant', 'Sousnageant', 'Caractere','Rmq', 'Opacite_eau']]\n",
    "prv_eau['Type_ech']='Eau'\n",
    "\n",
    "pz=df.query(\"Type=='Piezo'\")\n",
    "pz=pz[['ID','X','Y','Z','Zsol','Type','Societe','Nappe','Long_pz','Long_crep','Diam_int_pz','Zone','Sous_zone']]\n",
    "pz['Diam_int_pz']=pz['Diam_int_pz'].apply(lambda x: x*1000 if not pd.isnull(x) else x) # millimeters\n",
    "\n",
    "ouv=df.query(\"Type!='Piezo'\") # unknown facilities' type (it seems they are not boreholes)\n",
    "ouv=ouv[['ID','X','Y','Z','Type','Societe']]\n",
    "ouv['Type'] = 'Unknown'"
   ]
  },
  {
   "cell_type": "code",
   "execution_count": 105,
   "id": "bright-mainland",
   "metadata": {
    "scrolled": true
   },
   "outputs": [
    {
     "name": "stderr",
     "output_type": "stream",
     "text": [
      "/home/yanathan/.local/share/virtualenvs/GSDMA-DRfwm83x/lib/python3.8/site-packages/pandas/core/frame.py:5034: SettingWithCopyWarning: \n",
      "A value is trying to be set on a copy of a slice from a DataFrame\n",
      "\n",
      "See the caveats in the documentation: https://pandas.pydata.org/pandas-docs/stable/user_guide/indexing.html#returning-a-view-versus-a-copy\n",
      "  return super().rename(\n",
      "/home/yanathan/.local/share/virtualenvs/GSDMA-DRfwm83x/lib/python3.8/site-packages/pandas/core/frame.py:4901: SettingWithCopyWarning: \n",
      "A value is trying to be set on a copy of a slice from a DataFrame\n",
      "\n",
      "See the caveats in the documentation: https://pandas.pydata.org/pandas-docs/stable/user_guide/indexing.html#returning-a-view-versus-a-copy\n",
      "  return super().drop(\n"
     ]
    }
   ],
   "source": [
    "# data in the second part of the initial dataframe\n",
    "sdf.rename(columns={'ID':'Ref_id', 'Campagne':'Societe','N_piezo.':'ID','X [m]':'X','Y [m]':'Y','Z tête PZ [m]':'Z',\n",
    "                  'Zsol [m]':'Zsol'}, inplace=True)\n",
    "sdf.drop(columns='Ref_id', inplace=True)\n",
    "sdf=sdf.query(\"ID==ID\")"
   ]
  },
  {
   "cell_type": "code",
   "execution_count": 106,
   "id": "fd59fe3b",
   "metadata": {},
   "outputs": [],
   "source": [
    "sdf = sdf[['ID', '\\n27/04/2010', '\\n8/09/2010', '\\n27/04/2010.1', '\\n8/9/2010', 'Societe', 'Zone', \n",
    "          'Sous_zone', 'X', 'Y', 'Zsol', 'Z',]]"
   ]
  },
  {
   "cell_type": "code",
   "execution_count": 107,
   "id": "powerful-spiritual",
   "metadata": {},
   "outputs": [
    {
     "name": "stderr",
     "output_type": "stream",
     "text": [
      "/home/yanathan/.local/share/virtualenvs/GSDMA-DRfwm83x/lib/python3.8/site-packages/pandas/core/indexing.py:1817: SettingWithCopyWarning: \n",
      "A value is trying to be set on a copy of a slice from a DataFrame.\n",
      "Try using .loc[row_indexer,col_indexer] = value instead\n",
      "\n",
      "See the caveats in the documentation: https://pandas.pydata.org/pandas-docs/stable/user_guide/indexing.html#returning-a-view-versus-a-copy\n",
      "  self._setitem_single_column(loc, value, pi)\n",
      "/tmp/ipykernel_27445/1035597014.py:9: SettingWithCopyWarning: \n",
      "A value is trying to be set on a copy of a slice from a DataFrame\n",
      "\n",
      "See the caveats in the documentation: https://pandas.pydata.org/pandas-docs/stable/user_guide/indexing.html#returning-a-view-versus-a-copy\n",
      "  df_tmp.loc[ID_mes,'Date_mes']=dtm.date(int(d[2]), int(d[1]), int(d[0]))\n"
     ]
    }
   ],
   "source": [
    "df_tmp= sdf[['ID', 'X', 'Y', 'Zsol', 'Z']] # pd.DataFrame()\n",
    "col=['ID', '\\n27/04/2010', '\\n8/09/2010', '\\n27/04/2010.1', '\\n8/9/2010'] # sdf.columns.to_list()[:5]\n",
    "ID_mes=0\n",
    "\n",
    "for j in range(1,len(col)):\n",
    "    if re.search('/', col[j]):\n",
    "        for i in sdf.index: #range(len(sdf)):\n",
    "            d=col[j].strip('\\n|.1').split('/')\n",
    "            df_tmp.loc[ID_mes,'Date_mes']=dtm.date(int(d[2]), int(d[1]), int(d[0]))\n",
    "            df_tmp.loc[ID_mes,'ID']=str(sdf.loc[i,'ID'])\n",
    "\n",
    "            if j<=2: \n",
    "                df_tmp.loc[ID_mes,'Niv_eau_pz']=sdf.iloc[i,j]\n",
    "                df_tmp.loc[ID_mes,'Niv_eau_sol']=sdf.iloc[i,j+2]\n",
    "                ID_mes+=1\n",
    "\n",
    "df_tmp=df_tmp.sort_values('Date_mes').reset_index(drop=True)\n",
    "df_tmp['ID_mes']=df_tmp['ID'].apply(lambda x: 'Mes_'+str(x))\n",
    "df_tmp.insert(0, 'ID_mes', df_tmp.pop('ID_mes'))\n",
    "\n",
    "mes_pz = df_tmp[:-1]"
   ]
  },
  {
   "cell_type": "code",
   "execution_count": 108,
   "id": "persistent-glucose",
   "metadata": {},
   "outputs": [],
   "source": [
    "mes_pz['Type_mes'] = 'Phys-chim'"
   ]
  },
  {
   "cell_type": "code",
   "execution_count": 109,
   "id": "signal-belgium",
   "metadata": {},
   "outputs": [
    {
     "name": "stdout",
     "output_type": "stream",
     "text": [
      "Rows : 260, columns : 10\n"
     ]
    },
    {
     "data": {
      "application/vnd.jupyter.widget-view+json": {
       "model_id": "3d910b23b50642e1b58f8492c2cc7427",
       "version_major": 2,
       "version_minor": 0
      },
      "text/plain": [
       "interactive(children=(IntSlider(value=3, description='rows', max=260, min=3, readout=False), IntSlider(value=1…"
      ]
     },
     "metadata": {},
     "output_type": "display_data"
    },
    {
     "name": "stdout",
     "output_type": "stream",
     "text": [
      "Rows : 13, columns : 6\n"
     ]
    },
    {
     "data": {
      "application/vnd.jupyter.widget-view+json": {
       "model_id": "03f07dbe6695422a87089fd8ec5ec8fb",
       "version_major": 2,
       "version_minor": 0
      },
      "text/plain": [
       "interactive(children=(IntSlider(value=3, description='rows', max=13, min=3, readout=False), IntSlider(value=6,…"
      ]
     },
     "metadata": {},
     "output_type": "display_data"
    },
    {
     "data": {
      "text/plain": [
       "(None, None)"
      ]
     },
     "execution_count": 109,
     "metadata": {},
     "output_type": "execute_result"
    }
   ],
   "source": [
    "dataframe_viewer(mes_pz, rows=3), dataframe_viewer(ouv, rows=3)"
   ]
  },
  {
   "cell_type": "code",
   "execution_count": 110,
   "id": "amateur-gentleman",
   "metadata": {},
   "outputs": [],
   "source": [
    "source_pz = pz\n",
    "source_prv_eau = prv_eau\n",
    "source_ouv = ouv\n",
    "source_mes_pz = mes_pz"
   ]
  },
  {
   "cell_type": "code",
   "execution_count": 111,
   "id": "agricultural-furniture",
   "metadata": {},
   "outputs": [
    {
     "name": "stdout",
     "output_type": "stream",
     "text": [
      "source_bh:172 ; source_pz:117 ; source_litho:1626 ; source_Fac-uknw:13 ; source_prv_sol:0 ; source_prv_eau:130 ;\n",
      "source_mes_pz:260 ; \n"
     ]
    }
   ],
   "source": [
    "if not os.path.exists(tmp_dir):\n",
    "    os.makedirs(tmp_dir)\n",
    "\n",
    "#bh.to_csv(tmp_dir+'source_Boreholes.csv', index=False)\n",
    "#litho.to_csv(tmp_dir+sheet+'_Lithology.csv', index=False)\n",
    "pz.to_csv(tmp_dir+sheet+'_Piezometers.csv', index=False)\n",
    "mes_pz.to_csv(tmp_dir+sheet+'_Measures.csv', index=False)\n",
    "ouv.to_csv(tmp_dir+sheet+'_Unkown-facility.csv', index=False)\n",
    "prv_eau.to_csv(tmp_dir+sheet+'_Samples-water.csv', index=False)\n",
    "\n",
    "\n",
    "source_mes_pz.to_csv(tmp_dir+'source_Measures.csv', index=False) #all lithologies or descriptions data in the source\n",
    "source_pz.to_csv(tmp_dir+'source_Piezometers.csv', index=False)\n",
    "source_prv_eau.to_csv(tmp_dir+'source_Samples-water.csv', index=False)\n",
    "source_ouv.to_csv(tmp_dir+'source_Unkown-facility.csv', index=False)\n",
    "\n",
    "print(f'source_bh:{len(source_bh)} ; source_pz:{len(source_pz)} ; source_litho:{len(source_litho)} ; '\n",
    "     f'source_Fac-uknw:{len(source_ouv)} ; source_prv_sol:{len(source_prv_sol)} ; source_prv_eau:{len(source_prv_eau)} ;\\n'\n",
    "     f'source_mes_pz:{len(source_mes_pz)} ; ')"
   ]
  },
  {
   "cell_type": "markdown",
   "id": "extended-collection",
   "metadata": {},
   "source": [
    "* **Sheet : 'DRAINS ET PIEZOS ENEL'**"
   ]
  },
  {
   "cell_type": "code",
   "execution_count": 112,
   "id": "visible-rogers",
   "metadata": {},
   "outputs": [],
   "source": [
    "tmp_dir='../../CF_data/Result_traitem/database_Memoris3/'\n",
    "sheet='Drains_Pz_ENEL'"
   ]
  },
  {
   "cell_type": "code",
   "execution_count": 113,
   "id": "sublime-thomson",
   "metadata": {},
   "outputs": [
    {
     "name": "stdout",
     "output_type": "stream",
     "text": [
      "Rows : 21, columns : 65\n"
     ]
    },
    {
     "data": {
      "application/vnd.jupyter.widget-view+json": {
       "model_id": "2158805769124bf4bc7a3aa8565074c2",
       "version_major": 2,
       "version_minor": 0
      },
      "text/plain": [
       "interactive(children=(IntSlider(value=10, description='rows', max=21, min=10, readout=False), IntSlider(value=…"
      ]
     },
     "metadata": {},
     "output_type": "display_data"
    }
   ],
   "source": [
    "df = pd.read_excel('../../CF_data/Data_UMONS/Contamination/Doc_SITEREM/Rapport de synthèse des études de sol et des eaux souterraines. Siterem - 2017/Database MEMORIS3.xlsx', \n",
    "                        sheet_name='DRAINS ET PIEZOS ENEL', skiprows=1)\n",
    "\n",
    "df=na_line_drop(df,0)\n",
    "df=na_col_drop(df,1)\n",
    "df.replace(r'<|>','', inplace=True, regex=True)\n",
    "df.replace(r'-$',np.nan, inplace=True, regex=True)\n",
    "\n",
    "dataframe_viewer(df)"
   ]
  },
  {
   "cell_type": "code",
   "execution_count": 114,
   "id": "temporal-defendant",
   "metadata": {},
   "outputs": [],
   "source": [
    "df.rename(columns={'N°':'ID', 'Date ':'Date_prv','Hauteur de la chambre ':'Ht_Chbre','T':'Temp'}, inplace=True)\n",
    "\n",
    "df_tmp=df[df.columns.to_list()[:6]+df.columns.to_list()[10:-2]]\n",
    "df=df[df.columns.to_list()[:7]]"
   ]
  },
  {
   "cell_type": "code",
   "execution_count": 115,
   "id": "acute-character",
   "metadata": {
    "scrolled": true
   },
   "outputs": [
    {
     "data": {
      "text/plain": [
       "['ID', 'Date_prv', 'ETUDE', 'X', 'Y', 'Zsol', 'Ht_Chbre']"
      ]
     },
     "execution_count": 115,
     "metadata": {},
     "output_type": "execute_result"
    }
   ],
   "source": [
    "df.columns.to_list()[:12]"
   ]
  },
  {
   "cell_type": "code",
   "execution_count": 116,
   "id": "strange-capability",
   "metadata": {},
   "outputs": [],
   "source": [
    "df=df[['ID', 'X', 'Y', 'Zsol', 'Ht_Chbre']][2:21]\n",
    "df.replace('-',np.nan, inplace=True)\n",
    "df.drop(index=[5], inplace=True)\n",
    "df.loc[:14,'Type']='Unknown'\n",
    "df.loc[15:,'Type']='Piezo'\n",
    "#df['Zsol']=df['Zsol'].apply(lambda x: x if not pd.isnull(x) else np.nan)"
   ]
  },
  {
   "cell_type": "code",
   "execution_count": 117,
   "id": "temporal-emperor",
   "metadata": {},
   "outputs": [
    {
     "name": "stdout",
     "output_type": "stream",
     "text": [
      "Rows : 18, columns : 6, Unique values on col 'ID': 18\n"
     ]
    },
    {
     "data": {
      "application/vnd.jupyter.widget-view+json": {
       "model_id": "ede652e46b2d425faca1e6449b257d3b",
       "version_major": 2,
       "version_minor": 0
      },
      "text/plain": [
       "interactive(children=(IntSlider(value=3, description='rows', max=18, min=3, readout=False), IntSlider(value=6,…"
      ]
     },
     "metadata": {},
     "output_type": "display_data"
    }
   ],
   "source": [
    "dataframe_viewer(df, un_val='ID', rows=3)"
   ]
  },
  {
   "cell_type": "code",
   "execution_count": 118,
   "id": "young-transfer",
   "metadata": {},
   "outputs": [],
   "source": [
    "pz=df.query(\"Type=='Piezo'\")\n",
    "ouv=df.query(\"Type!='Piezo'\")"
   ]
  },
  {
   "cell_type": "code",
   "execution_count": 119,
   "id": "burning-lucas",
   "metadata": {},
   "outputs": [],
   "source": [
    "sdf=df_tmp.query('ID==ID').reset_index(drop=True)"
   ]
  },
  {
   "cell_type": "code",
   "execution_count": 120,
   "id": "b5cfd040",
   "metadata": {},
   "outputs": [
    {
     "data": {
      "text/plain": [
       "Index(['ID', 'Date_prv', 'ETUDE', 'X', 'Y', 'Zsol', 'Niv_EAU_SOL (m)',\n",
       "       'PZ absolue (m)', 'PZ relative (m)', 'Niv_EAU_SOL (m).1', 'pH', 'CE',\n",
       "       'Temp', 'ORP', 'Odiss', 'arsenic', 'cadmium', 'chrome', 'cobalt',\n",
       "       'cuivre', 'mercure', 'plomb', 'nickel', 'zinc', 'CN_libre', 'CN_totaux',\n",
       "       'CN_totaux.1', 'CN_totaux.2', 'thiocyanate', 'benzène', 'toluène',\n",
       "       'éthylbenzène', 'orthoxylène', 'para- et métaxylène', 'xylènes',\n",
       "       'BTEX total', 'styrène', 'Iph.', 'naphtalène', 'anthracène',\n",
       "       'phénanthrène', 'fluoranthène', 'benzo(a)anthracène', 'chrysène',\n",
       "       'benzo(a)pyrène', 'benzo(ghi)pérylène', 'benzo(k)fluoranthène',\n",
       "       'indéno(1,2,3-cd)pyrène', '\\nC5-C8', 'C8-C10', 'C10-C12', 'C12-C16',\n",
       "       ' C16 - C21', 'C21 - C35', 'C35 - C40', 'totaux C10-C35', 'C10-C12.1',\n",
       "       'C12-C22', 'C22-C30'],\n",
       "      dtype='object')"
      ]
     },
     "execution_count": 120,
     "metadata": {},
     "output_type": "execute_result"
    }
   ],
   "source": [
    "sdf.columns"
   ]
  },
  {
   "cell_type": "code",
   "execution_count": 121,
   "id": "lyric-rating",
   "metadata": {
    "scrolled": true
   },
   "outputs": [
    {
     "name": "stdout",
     "output_type": "stream",
     "text": [
      "['Niv_EAU_SOL (m)', 'PZ absolue (m)', 'Niv_EAU_SOL (m).1']\n"
     ]
    },
    {
     "name": "stderr",
     "output_type": "stream",
     "text": [
      "/home/yanathan/.local/share/virtualenvs/GSDMA-DRfwm83x/lib/python3.8/site-packages/pandas/core/frame.py:3607: SettingWithCopyWarning: \n",
      "A value is trying to be set on a copy of a slice from a DataFrame.\n",
      "Try using .loc[row_indexer,col_indexer] = value instead\n",
      "\n",
      "See the caveats in the documentation: https://pandas.pydata.org/pandas-docs/stable/user_guide/indexing.html#returning-a-view-versus-a-copy\n",
      "  self._set_item(key, value)\n",
      "/home/yanathan/.local/share/virtualenvs/GSDMA-DRfwm83x/lib/python3.8/site-packages/pandas/core/indexing.py:1817: SettingWithCopyWarning: \n",
      "A value is trying to be set on a copy of a slice from a DataFrame.\n",
      "Try using .loc[row_indexer,col_indexer] = value instead\n",
      "\n",
      "See the caveats in the documentation: https://pandas.pydata.org/pandas-docs/stable/user_guide/indexing.html#returning-a-view-versus-a-copy\n",
      "  self._setitem_single_column(loc, value, pi)\n",
      "/tmp/ipykernel_27445/4227729424.py:17: FutureWarning: Comparison of Timestamp with datetime.date is deprecated in order to match the standard library behavior.  In a future version these will be considered non-comparable.Use 'ts == pd.Timestamp(date)' or 'ts.date() == date' instead.\n",
      "  if df_tmp.loc[ID_mes, 'Date_mes']==sdf.loc[i, 'Date_prv'] and \\\n"
     ]
    }
   ],
   "source": [
    "df_tmp=sdf[['ID', 'Date_prv', 'X', 'Y', 'Zsol']] #pd.DataFrame()\n",
    "cols=['Niv_EAU_SOL (m)', 'PZ absolue (m)', 'Niv_EAU_SOL (m).1'] # sdf.columns.to_list()[6:10]\n",
    "#cols.remove('PZ relative (m)')\n",
    "print(cols)\n",
    "ID_mes=0\n",
    "d=['01/10/2013','01/11/2015','01/12/2016'] # 01/11/2015 added by me (according to data observation)\n",
    "\n",
    "for i in sdf.index:\n",
    "    k=0\n",
    "    for j in cols:\n",
    "        #df_tmp.loc[ID_mes,'ID_mes']='Mes_'+str(ID_mes)\n",
    "        df_tmp.loc[ID_mes,'Date_mes']=dtm.date(int(d[k].split('/')[2]), int(d[k].split('/')[1]), \n",
    "                                                             int(d[k].split('/')[0]))\n",
    "        df_tmp.loc[ID_mes,'ID']=str(sdf.loc[i,'ID'])\n",
    "        df_tmp.loc[ID_mes,'Niv_eau_sol']=sdf.loc[i,j]\n",
    "                \n",
    "        if df_tmp.loc[ID_mes, 'Date_mes']==sdf.loc[i, 'Date_prv'] and \\\n",
    "        df_tmp.loc[ID_mes, 'ID']==sdf.loc[i, 'ID']:\n",
    "            df_tmp.loc[ID_mes, sdf.columns.to_list()[6:-1]]=sdf.iloc[i, 6:-1]\n",
    "        \n",
    "        ID_mes+=1\n",
    "        k+=1\n",
    "df_tmp.replace('-', np.nan, inplace=True)\n",
    "df_tmp=df_tmp.sort_values('Date_mes').reset_index(drop=True)\n",
    "df_tmp['ID_mes']=df_tmp['ID'].apply(lambda x: 'Mes_'+str(x))\n",
    "df_tmp.insert(0, 'ID_mes', df_tmp.pop('ID_mes'))"
   ]
  },
  {
   "cell_type": "code",
   "execution_count": 122,
   "id": "atmospheric-fitness",
   "metadata": {
    "scrolled": true
   },
   "outputs": [],
   "source": [
    "df_tmp=na_line_drop(df_tmp, 3)"
   ]
  },
  {
   "cell_type": "code",
   "execution_count": 123,
   "id": "foster-bracelet",
   "metadata": {},
   "outputs": [],
   "source": [
    "df_tmp['ID_mes']=df_tmp['ID'].apply(lambda x: 'Mes_'+x)\n",
    "df_tmp['CE']=df_tmp['CE'].apply(lambda x: pd.to_numeric(x)/1000 \n",
    "                                  if re.search('^\\d+', str(x)) and not pd.isnull(x) else np.nan)"
   ]
  },
  {
   "cell_type": "code",
   "execution_count": 124,
   "id": "featured-invalid",
   "metadata": {},
   "outputs": [],
   "source": [
    "mes_pz=df_tmp[['ID_mes', 'Date_mes', 'ID', 'X', 'Y', 'Zsol', 'Niv_eau_sol', 'pH', 'CE', 'Temp', 'ORP','Odiss']]\n",
    "\n",
    "an=df_tmp[['ID','X', 'Y', 'Zsol', 'arsenic', 'cadmium', 'chrome', 'cobalt', 'cuivre', 'mercure',\n",
    "       'plomb', 'nickel', 'zinc', 'CN_libre', 'CN_totaux', 'CN_totaux.1',\n",
    "       'CN_totaux.2', 'thiocyanate', 'benzène', 'toluène', 'éthylbenzène',\n",
    "       'orthoxylène', 'para- et métaxylène', 'xylènes', 'BTEX total',\n",
    "       'styrène', 'Iph.', 'naphtalène', 'anthracène', 'phénanthrène',\n",
    "       'fluoranthène', 'benzo(a)anthracène', 'chrysène', 'benzo(a)pyrène',\n",
    "       'benzo(ghi)pérylène', 'benzo(k)fluoranthène', 'indéno(1,2,3-cd)pyrène',\n",
    "       '\\nC5-C8', 'C8-C10', 'C10-C12', 'C12-C16', ' C16 - C21', 'C21 - C35',\n",
    "       'C35 - C40', 'totaux C10-C35', 'C10-C12.1', 'C12-C22']]\n",
    "\n",
    "#another way to do this\n",
    "#an=df_tmp[df_tmp.columns.to_list()[1:3]+df_tmp.columns.to_list()[9:]]"
   ]
  },
  {
   "cell_type": "code",
   "execution_count": 125,
   "id": "incident-claim",
   "metadata": {},
   "outputs": [],
   "source": [
    "mes_pz['Type_mes'] = 'Phys-chim' "
   ]
  },
  {
   "cell_type": "code",
   "execution_count": 126,
   "id": "latest-rover",
   "metadata": {
    "scrolled": false
   },
   "outputs": [
    {
     "name": "stdout",
     "output_type": "stream",
     "text": [
      "28 NaN lines dropped\n"
     ]
    },
    {
     "name": "stderr",
     "output_type": "stream",
     "text": [
      "/home/yanathan/.local/share/virtualenvs/GSDMA-DRfwm83x/lib/python3.8/site-packages/pandas/core/frame.py:4901: SettingWithCopyWarning: \n",
      "A value is trying to be set on a copy of a slice from a DataFrame\n",
      "\n",
      "See the caveats in the documentation: https://pandas.pydata.org/pandas-docs/stable/user_guide/indexing.html#returning-a-view-versus-a-copy\n",
      "  return super().drop(\n"
     ]
    }
   ],
   "source": [
    "an=na_line_drop(an, 2)\n",
    "an.insert(1, 'Type_ech', 'Eau')\n",
    "an.rename(columns={'ID':'ID_ech'}, inplace=True)\n",
    "#an['Anl_ID']=an['ID'].apply(lambda x: 'Anl_'+str(x))\n",
    "#an.insert(an.columns.to_list().index('ID')+1, 'Type_ech', an.pop('Type_ech'))"
   ]
  },
  {
   "cell_type": "code",
   "execution_count": 127,
   "id": "multiple-momentum",
   "metadata": {
    "scrolled": true
   },
   "outputs": [],
   "source": [
    "an=col_ren(an, name=pol_field_model, mode=1)"
   ]
  },
  {
   "cell_type": "code",
   "execution_count": 128,
   "id": "suitable-reality",
   "metadata": {},
   "outputs": [
    {
     "name": "stdout",
     "output_type": "stream",
     "text": [
      "column(s) dropped: ['16:CN_tot', '17:CN_tot', '46:Fract_C10C12']\n"
     ]
    }
   ],
   "source": [
    "an=dble_col_drop(an)"
   ]
  },
  {
   "cell_type": "code",
   "execution_count": 129,
   "id": "metallic-setup",
   "metadata": {},
   "outputs": [
    {
     "name": "stdout",
     "output_type": "stream",
     "text": [
      "Rows : 260, columns : 10\n"
     ]
    },
    {
     "data": {
      "application/vnd.jupyter.widget-view+json": {
       "model_id": "7dd967a1ba844ae7895a625a8d581f70",
       "version_major": 2,
       "version_minor": 0
      },
      "text/plain": [
       "interactive(children=(IntSlider(value=5, description='rows', max=260, min=5, readout=False), IntSlider(value=1…"
      ]
     },
     "metadata": {},
     "output_type": "display_data"
    }
   ],
   "source": [
    "dataframe_viewer(source_mes_pz, rows=5)"
   ]
  },
  {
   "cell_type": "markdown",
   "id": "green-moderator",
   "metadata": {},
   "source": [
    "Data merging"
   ]
  },
  {
   "cell_type": "code",
   "execution_count": 130,
   "id": "paperback-participant",
   "metadata": {
    "scrolled": true
   },
   "outputs": [],
   "source": [
    "source_pz, error_df=data_merger(source_pz, pz, 'outer', 'ID')"
   ]
  },
  {
   "cell_type": "code",
   "execution_count": 131,
   "id": "indoor-visibility",
   "metadata": {
    "scrolled": true
   },
   "outputs": [],
   "source": [
    "source_mes_pz, error_df=data_merger(source_mes_pz, mes_pz, 'outer', 'ID_mes')"
   ]
  },
  {
   "cell_type": "code",
   "execution_count": 132,
   "id": "coral-location",
   "metadata": {
    "scrolled": true
   },
   "outputs": [],
   "source": [
    "source_ouv, error_df=data_merger(source_ouv, ouv, 'outer', 'ID')"
   ]
  },
  {
   "cell_type": "code",
   "execution_count": 133,
   "id": "worst-faculty",
   "metadata": {},
   "outputs": [],
   "source": [
    "source_an=an"
   ]
  },
  {
   "cell_type": "code",
   "execution_count": 134,
   "id": "agreed-patient",
   "metadata": {},
   "outputs": [
    {
     "name": "stdout",
     "output_type": "stream",
     "text": [
      "source_bh:172 ; source_pz:123 ; source_litho:1626 ; source_Fac-uknw:25 ; source_prv_sol:0 ; source_prv_eau:130 ;\n",
      "source_mes_pz:317 ; source_an:29 ;\n"
     ]
    }
   ],
   "source": [
    "if not os.path.exists(tmp_dir):\n",
    "    os.makedirs(tmp_dir)\n",
    "\n",
    "#bh.to_csv(tmp_dir+'source_Boreholes.csv', index=False)\n",
    "#litho.to_csv(tmp_dir+sheet+'_Lithology.csv', index=False)\n",
    "pz.to_csv(tmp_dir+sheet+'_Piezometers.csv', index=False)\n",
    "mes_pz.to_csv(tmp_dir+sheet+'_Measures.csv', index=False)\n",
    "ouv.to_csv(tmp_dir+sheet+'_Unkown-facility.csv', index=False)\n",
    "#prv_eau.to_csv(tmp_dir+sheet+'_Samples-water.csv', index=False)\n",
    "an.to_csv(tmp_dir+sheet+'_Analysis.csv', index=False)\n",
    "\n",
    "\n",
    "source_mes_pz.to_csv(tmp_dir+'source_Measures.csv', index=False) \n",
    "source_pz.to_csv(tmp_dir+'source_Piezometers.csv', index=False)\n",
    "#source_prv_eau.to_csv(tmp_dir+'source_Samples-water.csv', index=False)\n",
    "source_ouv.to_csv(tmp_dir+'source_Unkown-facility.csv', index=False)\n",
    "source_an.to_csv(tmp_dir+'source_Analysis.csv', index=False)\n",
    "\n",
    "print(f'source_bh:{len(source_bh)} ; source_pz:{len(source_pz)} ; source_litho:{len(source_litho)} ; '\n",
    "     f'source_Fac-uknw:{len(source_ouv)} ; source_prv_sol:{len(source_prv_sol)} ; source_prv_eau:{len(source_prv_eau)} ;\\n'\n",
    "     f'source_mes_pz:{len(source_mes_pz)} ; source_an:{len(source_an)} ;')"
   ]
  },
  {
   "cell_type": "markdown",
   "id": "northern-fifteen",
   "metadata": {},
   "source": [
    "* **Sheet : 'RESULTS_EAU' (F)**"
   ]
  },
  {
   "cell_type": "code",
   "execution_count": 135,
   "id": "working-turkish",
   "metadata": {},
   "outputs": [],
   "source": [
    "tmp_dir='../../CF_data/Result_traitem/database_Memoris3/'\n",
    "sheet='Result_eau'"
   ]
  },
  {
   "cell_type": "code",
   "execution_count": 136,
   "id": "pressing-bidding",
   "metadata": {},
   "outputs": [
    {
     "name": "stdout",
     "output_type": "stream",
     "text": [
      "Rows : 131, columns : 185\n"
     ]
    },
    {
     "data": {
      "application/vnd.jupyter.widget-view+json": {
       "model_id": "22e435db850e4fdcbd968d42c07a5287",
       "version_major": 2,
       "version_minor": 0
      },
      "text/plain": [
       "interactive(children=(IntSlider(value=5, description='rows', max=131, min=5, readout=False), IntSlider(value=1…"
      ]
     },
     "metadata": {},
     "output_type": "display_data"
    }
   ],
   "source": [
    "df = pd.read_excel('../../CF_data/Data_UMONS/Contamination/Doc_SITEREM/Rapport de synthèse des études de sol et des eaux souterraines. Siterem - 2017/Database MEMORIS3.xlsx', \n",
    "                        sheet_name='RESULTS_EAU', skiprows=1)\n",
    "\n",
    "df.replace(r'<|>','', inplace=True, regex=True)\n",
    "df.replace(r'-$',np.nan, inplace=True, regex=True)\n",
    "\n",
    "dataframe_viewer(df, rows=5)"
   ]
  },
  {
   "cell_type": "code",
   "execution_count": 137,
   "id": "above-action",
   "metadata": {},
   "outputs": [],
   "source": [
    "df.drop(0, inplace=True)\n",
    "df.reset_index(drop=True, inplace=True)"
   ]
  },
  {
   "cell_type": "code",
   "execution_count": 138,
   "id": "patent-lover",
   "metadata": {},
   "outputs": [],
   "source": [
    "df.rename(columns={'Campagne':'Societe','N_piezo.':'ID','Z tête PZ':'Z','Zsol':'Zsol', 'Prof_PZ':'Long_pz',\n",
    "                        'Section_crépinée':'Long_crep','Diamètre_int':'Diam_int_pz','Surnageant':'Surnageant',\n",
    "                        'Sousnageant':'Sousnageant','Description éch.':'Opacite_eau','Remarques':'Rmq',\n",
    "                        'Aquifère_échantillonné':'Nappe', 'Caractéristique':'Caractere'}, inplace=True)\n",
    "\n",
    "#df=df[['ID','X', 'Y', 'Z', 'Zsol', 'Long_pz', 'Long_crep', 'Diam_int_pz', 'Societe']]#[:130]\n",
    "df=df.query(\"ID ==ID\")\n",
    "df.replace('-',np.nan, inplace=True)"
   ]
  },
  {
   "cell_type": "code",
   "execution_count": 139,
   "id": "cfb4f334",
   "metadata": {},
   "outputs": [
    {
     "name": "stdout",
     "output_type": "stream",
     "text": [
      "Rows : 130, columns : 185\n"
     ]
    },
    {
     "data": {
      "application/vnd.jupyter.widget-view+json": {
       "model_id": "4d4c3b3715e245fcbfa46ce20783c341",
       "version_major": 2,
       "version_minor": 0
      },
      "text/plain": [
       "interactive(children=(IntSlider(value=5, description='rows', max=130, min=5, readout=False), IntSlider(value=1…"
      ]
     },
     "metadata": {},
     "output_type": "display_data"
    }
   ],
   "source": [
    "dataframe_viewer(df, rows=5)"
   ]
  },
  {
   "cell_type": "code",
   "execution_count": 140,
   "id": "thick-traffic",
   "metadata": {},
   "outputs": [],
   "source": [
    "# splitting\n",
    "sdf=df[[df.columns.to_list()[0]]+['X','Y','Z','Zsol']+df.columns.to_list()[12:16]+df.columns.to_list()[21:26]]\n",
    "an=df[[df.columns.to_list()[0]]+['X','Y','Z','Zsol']+df.columns.to_list()[26:]]\n",
    "prv_eau=df[df.columns.to_list()[:3]+['X','Y','Z','Zsol']+df.columns.to_list()[16:21]+['Nappe']]\n",
    "df=df[df.columns.to_list()[:12]]"
   ]
  },
  {
   "cell_type": "code",
   "execution_count": 141,
   "id": "medieval-attack",
   "metadata": {},
   "outputs": [
    {
     "name": "stderr",
     "output_type": "stream",
     "text": [
      "/home/yanathan/.local/share/virtualenvs/GSDMA-DRfwm83x/lib/python3.8/site-packages/pandas/core/frame.py:3607: SettingWithCopyWarning: \n",
      "A value is trying to be set on a copy of a slice from a DataFrame.\n",
      "Try using .loc[row_indexer,col_indexer] = value instead\n",
      "\n",
      "See the caveats in the documentation: https://pandas.pydata.org/pandas-docs/stable/user_guide/indexing.html#returning-a-view-versus-a-copy\n",
      "  self._set_item(key, value)\n"
     ]
    }
   ],
   "source": [
    "df['Type']=df['Long_crep'].apply(lambda x: 'Piezo' if not pd.isnull(x) else 'Unknown')\n",
    "df.insert(8, 'Type', df.pop('Type'))\n",
    "df['Diam_int_pz'] = df['Diam_int_pz'].apply(lambda x: x*1000 if not pd.isnull(x) else x)"
   ]
  },
  {
   "cell_type": "code",
   "execution_count": 142,
   "id": "interim-clearance",
   "metadata": {},
   "outputs": [],
   "source": [
    "pz=df.query(\"Type=='Piezo'\")\n",
    "ouv=df.query(\"Type!='Piezo'\")[['ID', 'Societe', 'Zone', 'Sous_zone', 'X', 'Y', 'Z', 'Type']]"
   ]
  },
  {
   "cell_type": "code",
   "execution_count": 143,
   "id": "great-distribution",
   "metadata": {},
   "outputs": [],
   "source": [
    "prv_eau['Surnageant']=prv_eau['Surnageant'].apply(lambda x: x/100) # to express value in [m]\n",
    "prv_eau['Sousnageant']=prv_eau['Sousnageant'].apply(lambda x: x/100)"
   ]
  },
  {
   "cell_type": "code",
   "execution_count": 144,
   "id": "competent-forward",
   "metadata": {
    "scrolled": true
   },
   "outputs": [
    {
     "name": "stderr",
     "output_type": "stream",
     "text": [
      "/home/yanathan/.local/share/virtualenvs/GSDMA-DRfwm83x/lib/python3.8/site-packages/pandas/core/indexing.py:1817: SettingWithCopyWarning: \n",
      "A value is trying to be set on a copy of a slice from a DataFrame.\n",
      "Try using .loc[row_indexer,col_indexer] = value instead\n",
      "\n",
      "See the caveats in the documentation: https://pandas.pydata.org/pandas-docs/stable/user_guide/indexing.html#returning-a-view-versus-a-copy\n",
      "  self._setitem_single_column(loc, value, pi)\n"
     ]
    }
   ],
   "source": [
    "df_tmp=sdf[['ID','X','Y','Z','Zsol']]\n",
    "cols=sdf.columns.to_list()[9:]\n",
    "ID_mes=0\n",
    "d=['27/04/2010', '08/09/2010']\n",
    "\n",
    "for i in range(len(sdf)):\n",
    "    for k in [0,1]:\n",
    "        df_tmp.loc[ID_mes,'ID_mes']='Mes_'+str(ID_mes)\n",
    "        df_tmp.loc[ID_mes,'ID']=str(sdf.loc[i,'ID'])\n",
    "        \n",
    "        dt=d[k].split('/')\n",
    "        df_tmp.loc[ID_mes,'Date_mes']=dtm.date(int(dt[2]), int(dt[1]),int(dt[0]))\n",
    "        df_tmp.loc[ID_mes,'Niv_eau_pz']=sdf.iloc[i,k+1]\n",
    "        df_tmp.loc[ID_mes,'Niv_eau_sol']=sdf.iloc[i,k+3]\n",
    "        df_tmp.loc[ID_mes, cols]=list(sdf.loc[i,cols])\n",
    "        ID_mes+=1          \n",
    "        \n",
    "df_tmp.replace('-', np.nan, inplace=True)\n",
    "df_tmp=df_tmp.sort_values('Date_mes').reset_index(drop=True)\n",
    "df_tmp['ID_mes']=df_tmp['ID'].apply(lambda x: 'Mes_'+str(x))\n",
    "df_tmp.insert(0, 'ID_mes', df_tmp.pop('ID_mes'))"
   ]
  },
  {
   "cell_type": "code",
   "execution_count": 145,
   "id": "broadband-inventory",
   "metadata": {},
   "outputs": [],
   "source": [
    "q=df_tmp.query('Niv_eau_pz.isnull() and Niv_eau_sol.isnull()').index\n",
    "df_tmp.drop(q, inplace=True)\n",
    "df_tmp['CE']=df_tmp['CE'].apply(lambda x: pd.to_numeric(x)/1000 \n",
    "                                  if re.search('^\\d+', str(x)) and not pd.isnull(x) else np.nan)\n",
    "mes_pz=df_tmp\n",
    "mes_pz['Type_mes'] = 'Phys-chim'"
   ]
  },
  {
   "cell_type": "code",
   "execution_count": 146,
   "id": "treated-missouri",
   "metadata": {},
   "outputs": [],
   "source": [
    "source_mes_pz=source_mes_pz.sort_values('Date_mes').reset_index(drop=True)"
   ]
  },
  {
   "cell_type": "code",
   "execution_count": 147,
   "id": "solved-handling",
   "metadata": {},
   "outputs": [
    {
     "name": "stdout",
     "output_type": "stream",
     "text": [
      "Rows : 260, columns : 15\n"
     ]
    },
    {
     "data": {
      "application/vnd.jupyter.widget-view+json": {
       "model_id": "026493b7d6e6418497e63a7753200306",
       "version_major": 2,
       "version_minor": 0
      },
      "text/plain": [
       "interactive(children=(IntSlider(value=3, description='rows', max=260, min=3, readout=False), IntSlider(value=1…"
      ]
     },
     "metadata": {},
     "output_type": "display_data"
    },
    {
     "name": "stdout",
     "output_type": "stream",
     "text": [
      "Rows : 317, columns : 15\n"
     ]
    },
    {
     "data": {
      "application/vnd.jupyter.widget-view+json": {
       "model_id": "9ec0664bf1934e15974739fbcd94b5f5",
       "version_major": 2,
       "version_minor": 0
      },
      "text/plain": [
       "interactive(children=(IntSlider(value=3, description='rows', max=317, min=3, readout=False), IntSlider(value=1…"
      ]
     },
     "metadata": {},
     "output_type": "display_data"
    },
    {
     "data": {
      "text/plain": [
       "(None, None)"
      ]
     },
     "execution_count": 147,
     "metadata": {},
     "output_type": "execute_result"
    }
   ],
   "source": [
    "dataframe_viewer(mes_pz, rows=3), dataframe_viewer(source_mes_pz, rows=3)"
   ]
  },
  {
   "cell_type": "code",
   "execution_count": 150,
   "id": "split-hardwood",
   "metadata": {},
   "outputs": [
    {
     "name": "stdout",
     "output_type": "stream",
     "text": [
      "Rows : 189, columns : 11\n"
     ]
    },
    {
     "data": {
      "application/vnd.jupyter.widget-view+json": {
       "model_id": "2b8395785b6d466a963281e3775721ad",
       "version_major": 2,
       "version_minor": 0
      },
      "text/plain": [
       "interactive(children=(IntSlider(value=3, description='rows', max=189, min=3, readout=False), IntSlider(value=1…"
      ]
     },
     "metadata": {},
     "output_type": "display_data"
    }
   ],
   "source": [
    "dataframe_viewer(error_df, rows=3)"
   ]
  },
  {
   "cell_type": "code",
   "execution_count": 151,
   "id": "6925061c",
   "metadata": {},
   "outputs": [
    {
     "data": {
      "text/plain": [
       "array(['Niv_eau_pz, Niv_eau_sol', 'Niv_eau_pz, Niv_eau_sol, Z, Zsol',\n",
       "       'Z, Zsol', 'Niv_eau_pz, Niv_eau_sol, Z', 'Niv_eau_pz'],\n",
       "      dtype=object)"
      ]
     },
     "execution_count": 151,
     "metadata": {},
     "output_type": "execute_result"
    }
   ],
   "source": [
    "pd.unique(error_df.Check_col)"
   ]
  },
  {
   "cell_type": "code",
   "execution_count": 149,
   "id": "instructional-discussion",
   "metadata": {
    "scrolled": true
   },
   "outputs": [
    {
     "name": "stdout",
     "output_type": "stream",
     "text": [
      "Conflict values present. Please resolve this manually !\n"
     ]
    }
   ],
   "source": [
    "source_mes_pz, error_df = data_merger(source_mes_pz, mes_pz, on=['ID', 'Date_mes'], how='outer', crit_2nd_col='Date_mes')"
   ]
  },
  {
   "cell_type": "code",
   "execution_count": 150,
   "id": "vanilla-drove",
   "metadata": {},
   "outputs": [
    {
     "name": "stderr",
     "output_type": "stream",
     "text": [
      "/home/yanathan/.local/share/virtualenvs/GSDMA-DRfwm83x/lib/python3.8/site-packages/pandas/core/frame.py:3607: SettingWithCopyWarning: \n",
      "A value is trying to be set on a copy of a slice from a DataFrame.\n",
      "Try using .loc[row_indexer,col_indexer] = value instead\n",
      "\n",
      "See the caveats in the documentation: https://pandas.pydata.org/pandas-docs/stable/user_guide/indexing.html#returning-a-view-versus-a-copy\n",
      "  self._set_item(key, value)\n"
     ]
    }
   ],
   "source": [
    "an=na_line_drop(an,col_n=3)"
   ]
  },
  {
   "cell_type": "code",
   "execution_count": 151,
   "id": "modified-copying",
   "metadata": {},
   "outputs": [
    {
     "name": "stdout",
     "output_type": "stream",
     "text": [
      "column(s) dropped: []\n"
     ]
    }
   ],
   "source": [
    "an=dble_col_drop(an)"
   ]
  },
  {
   "cell_type": "code",
   "execution_count": 152,
   "id": "cardiovascular-tokyo",
   "metadata": {},
   "outputs": [],
   "source": [
    "an.insert(1, 'Type_ech', 'Eau')\n",
    "an.rename(columns={'ID':'ID_ech'}, inplace=True)\n",
    "#an['Anl_ID']=an['ID'].apply(lambda x: 'Anl_'+str(x))\n",
    "#an.insert(an.columns.to_list().index('ID')+1, 'Type_ech', 'Eau')"
   ]
  },
  {
   "cell_type": "code",
   "execution_count": 153,
   "id": "reduced-joshua",
   "metadata": {},
   "outputs": [],
   "source": [
    "an=col_ren(an, name=pol_field_model, mode=1)"
   ]
  },
  {
   "cell_type": "markdown",
   "id": "first-northwest",
   "metadata": {},
   "source": [
    "data merging"
   ]
  },
  {
   "cell_type": "code",
   "execution_count": 154,
   "id": "dangerous-circular",
   "metadata": {
    "scrolled": true
   },
   "outputs": [],
   "source": [
    "source_pz, error_df=data_merger(source_pz, pz, 'outer', 'ID')"
   ]
  },
  {
   "cell_type": "code",
   "execution_count": 155,
   "id": "consolidated-buffer",
   "metadata": {},
   "outputs": [
    {
     "name": "stdout",
     "output_type": "stream",
     "text": [
      "Conflict values present. Please resolve this manually !\n",
      "Rows : 769, columns : 12\n"
     ]
    },
    {
     "data": {
      "application/vnd.jupyter.widget-view+json": {
       "model_id": "1003f176d8424e52b61a4dd8a828f728",
       "version_major": 2,
       "version_minor": 0
      },
      "text/plain": [
       "interactive(children=(IntSlider(value=3, description='rows', max=769, min=3, readout=False), IntSlider(value=1…"
      ]
     },
     "metadata": {},
     "output_type": "display_data"
    }
   ],
   "source": [
    "source_mes_pz, error_df=data_merger(source_mes_pz, mes_pz, 'outer', 'ID')\n",
    "if len(error_df)>0 :dataframe_viewer(error_df, rows=3)"
   ]
  },
  {
   "cell_type": "code",
   "execution_count": 156,
   "id": "opening-superintendent",
   "metadata": {},
   "outputs": [
    {
     "name": "stdout",
     "output_type": "stream",
     "text": [
      "Rows : 1162, columns : 18\n"
     ]
    },
    {
     "data": {
      "application/vnd.jupyter.widget-view+json": {
       "model_id": "a27d9749ff51424f9b66ab3239edd7df",
       "version_major": 2,
       "version_minor": 0
      },
      "text/plain": [
       "interactive(children=(IntSlider(value=3, description='rows', max=1162, min=3, readout=False), IntSlider(value=…"
      ]
     },
     "metadata": {},
     "output_type": "display_data"
    }
   ],
   "source": [
    "dataframe_viewer(source_mes_pz, rows=3)"
   ]
  },
  {
   "cell_type": "code",
   "execution_count": 157,
   "id": "fresh-execution",
   "metadata": {},
   "outputs": [],
   "source": [
    "source_ouv, error_df=data_merger(source_ouv, ouv, 'outer', 'ID')\n",
    "if len(error_df)>0 :dataframe_viewer(error_df, rows=3)"
   ]
  },
  {
   "cell_type": "code",
   "execution_count": 158,
   "id": "respected-creator",
   "metadata": {},
   "outputs": [
    {
     "data": {
      "text/plain": [
       "Index(['ID_ech', 'Type_ech', 'X', 'Y', 'Zsol', 'As', 'Cd', 'Cr', 'cobalt',\n",
       "       'Cu', 'Hg', 'Pb', 'Ni', 'Zn', 'CN_libre', 'CN_tot', 'thioCN', 'Bnz',\n",
       "       'Toln', 'EthylBnz', 'O-Xyl', 'P-M-Xyl', 'Xyl', 'BTEX total', 'Styr',\n",
       "       'Iph.', 'Naphta', 'Anthrc', 'Phenanthr', 'Flranth', 'Bnz(a)anthrc',\n",
       "       'Chrys', 'Bnz(a)pyr', 'Bnz(ghi)peryl', 'Bnz(k)flranth',\n",
       "       'Indeno(1,2,3-cd)pyr', 'Fract_C5C8', 'Fract_C8C10', 'Fract_C10C12',\n",
       "       'Fract_C12C16', 'Fract_C16C21', 'Fract_C21C35', 'Fract_C35C40',\n",
       "       'HC_tot_C10C35', 'Fract_C12C22'],\n",
       "      dtype='object')"
      ]
     },
     "execution_count": 158,
     "metadata": {},
     "output_type": "execute_result"
    }
   ],
   "source": [
    "len(source_an.columns),len(set(source_an.columns))\n",
    "source_an.columns"
   ]
  },
  {
   "cell_type": "code",
   "execution_count": 159,
   "id": "considerable-curve",
   "metadata": {},
   "outputs": [
    {
     "name": "stderr",
     "output_type": "stream",
     "text": [
      "/home/yanathan/.local/share/virtualenvs/GSDMA-DRfwm83x/lib/python3.8/site-packages/IPython/core/interactiveshell.py:3441: PerformanceWarning: DataFrame is highly fragmented.  This is usually the result of calling `frame.insert` many times, which has poor performance.  Consider using pd.concat instead.  To get a de-fragmented frame, use `newframe = frame.copy()`\n",
      "  exec(code_obj, self.user_global_ns, self.user_ns)\n"
     ]
    }
   ],
   "source": [
    "source_an, error_df=data_merger(source_an, an, 'outer', 'ID_ech')\n",
    "if len(error_df)>0 :dataframe_viewer(error_df, rows=3)"
   ]
  },
  {
   "cell_type": "code",
   "execution_count": 160,
   "id": "anticipated-surge",
   "metadata": {},
   "outputs": [
    {
     "name": "stdout",
     "output_type": "stream",
     "text": [
      "Rows : 159, columns : 167\n"
     ]
    },
    {
     "data": {
      "application/vnd.jupyter.widget-view+json": {
       "model_id": "8c7cb85d308340b3b196cc7b91545e9b",
       "version_major": 2,
       "version_minor": 0
      },
      "text/plain": [
       "interactive(children=(IntSlider(value=10, description='rows', max=159, min=10, readout=False), IntSlider(value…"
      ]
     },
     "metadata": {},
     "output_type": "display_data"
    }
   ],
   "source": [
    "dataframe_viewer(source_an)"
   ]
  },
  {
   "cell_type": "code",
   "execution_count": 161,
   "id": "funny-persian",
   "metadata": {},
   "outputs": [
    {
     "name": "stdout",
     "output_type": "stream",
     "text": [
      "source_bh:172 ; source_pz:123 ; source_litho:1626 ; source_Fac-uknw:25 ; source_prv_sol:0 ; source_prv_eau:130 ;\n",
      "source_mes_pz:1162 ; source_an:159 ;\n"
     ]
    }
   ],
   "source": [
    "if not os.path.exists(tmp_dir):\n",
    "    os.makedirs(tmp_dir)\n",
    "\n",
    "#bh.to_csv(tmp_dir+'source_Boreholes.csv', index=False)\n",
    "#litho.to_csv(tmp_dir+sheet+'_Lithology.csv', index=False)\n",
    "pz.to_csv(tmp_dir+sheet+'_Piezometers.csv', index=False)\n",
    "mes_pz.to_csv(tmp_dir+sheet+'_Measures.csv', index=False)\n",
    "ouv.to_csv(tmp_dir+sheet+'_Unkown-facility.csv', index=False)\n",
    "prv_eau.to_csv(tmp_dir+sheet+'_Samples-water.csv', index=False)\n",
    "an.to_csv(tmp_dir+sheet+'_Analysis.csv', index=False)\n",
    "\n",
    "\n",
    "source_mes_pz.to_csv(tmp_dir+'source_Measures.csv', index=False) #all lithologies or descriptions data in the source\n",
    "source_pz.to_csv(tmp_dir+'source_Piezometers.csv', index=False)\n",
    "source_prv_eau.to_csv(tmp_dir+'source_Samples-water.csv', index=False)\n",
    "source_ouv.to_csv(tmp_dir+'source_Unkown-facility.csv', index=False)\n",
    "source_an.to_csv(tmp_dir+'source_Analysis.csv', index=False)\n",
    "#source_litho.to_csv(tmp_dir+'source_Lithology.csv', index=False)\n",
    "#source_bh.to_csv(tmp_dir+'source_Boreholes.csv', index=False)\n",
    "\n",
    "print(f'source_bh:{len(source_bh)} ; source_pz:{len(source_pz)} ; source_litho:{len(source_litho)} ; '\n",
    "     f'source_Fac-uknw:{len(source_ouv)} ; source_prv_sol:{len(source_prv_sol)} ; source_prv_eau:{len(source_prv_eau)} ;\\n'\n",
    "     f'source_mes_pz:{len(source_mes_pz)} ; source_an:{len(source_an)} ;')"
   ]
  },
  {
   "cell_type": "markdown",
   "id": "permanent-house",
   "metadata": {},
   "source": [
    "* **Sheet : 'RESULTS_SOL'**"
   ]
  },
  {
   "cell_type": "code",
   "execution_count": 162,
   "id": "coordinated-rolling",
   "metadata": {},
   "outputs": [],
   "source": [
    "tmp_dir='../../CF_data/Result_traitem/database_Memoris3/'\n",
    "sheet='Result_sol'"
   ]
  },
  {
   "cell_type": "code",
   "execution_count": 163,
   "id": "green-joyce",
   "metadata": {},
   "outputs": [
    {
     "name": "stderr",
     "output_type": "stream",
     "text": [
      "/home/yanathan/.local/share/virtualenvs/GSDMA-DRfwm83x/lib/python3.8/site-packages/openpyxl/worksheet/_reader.py:312: UserWarning: Data Validation extension is not supported and will be removed\n",
      "  warn(msg)\n"
     ]
    },
    {
     "name": "stdout",
     "output_type": "stream",
     "text": [
      "Rows : 1423, columns : 94\n"
     ]
    },
    {
     "data": {
      "application/vnd.jupyter.widget-view+json": {
       "model_id": "538b4362bba04e13963658d9082d771a",
       "version_major": 2,
       "version_minor": 0
      },
      "text/plain": [
       "interactive(children=(IntSlider(value=10, description='rows', max=1423, min=10, readout=False), IntSlider(valu…"
      ]
     },
     "metadata": {},
     "output_type": "display_data"
    }
   ],
   "source": [
    "df = pd.read_excel('../../CF_data/Data_UMONS/Contamination/Doc_SITEREM/Rapport de synthèse des études de sol et des eaux souterraines. Siterem - 2017/'\n",
    "                   'Database MEMORIS3.xlsx', sheet_name='RESULTS_SOL', skiprows=1)\n",
    "df=na_line_drop(df,0)\n",
    "df=na_col_drop(df,1)\n",
    "df.replace(r'<|>','', inplace=True, regex=True)\n",
    "df.replace(r'-$',np.nan, inplace=True, regex=True)\n",
    "\n",
    "dataframe_viewer(df)"
   ]
  },
  {
   "cell_type": "code",
   "execution_count": 164,
   "id": "amateur-payday",
   "metadata": {},
   "outputs": [],
   "source": [
    "df.rename(columns={'Unnamed: 92':'EOX', 'Unnamed: 93':'Idc_phenol','Campagne':'Societe','N_forage':'ID','refus':'Refus',\n",
    "                   'Prof.\\nforage':'Long', 'N_ech':'ID_ech', 'Min_Ech':'Ech_top','Max_Ech':'Ech_base',\n",
    "                  'Terrain':'Nappe','Epaisseur remblais':'Ep_remb', 'Epaisseur alluvions':'Ep_alluv', \n",
    "                   'Nature':'Polluant','Min_organo':'Pol_top', 'Max_organo':'Pol_base', 'Fraction   2000 µm':'Fract_2000µ',\n",
    "                   'Fraction   63 µm':'Fract_63µ', 'Fraction   45 µm':'Fract_45µ','Fraction   16 µm':'Fract_16µ',\n",
    "                   'Fraction   2 µm':'Fract_2µ'}, inplace=True)"
   ]
  },
  {
   "cell_type": "code",
   "execution_count": 165,
   "id": "disturbed-trace",
   "metadata": {},
   "outputs": [],
   "source": [
    "df.drop(columns=[df.columns.to_list()[x] for x in range(len(df.columns))\n",
    "                      if re.search(r\"Unnamed\",df.columns.to_list()[x])], axis=1, inplace=True) \n",
    "df.replace(r'<|>','', inplace=True, regex=True)\n",
    "df=df.query('ID==ID')\n",
    "df['ID']=df['ID'].apply(lambda x : x.replace('Monito ', 'Mon') if re.findall('Monit', str(x)) else x)\n",
    "df['ID_ech']=df['ID_ech'].apply(lambda x : x.replace('Monito ', 'Mon') if re.findall('Monit', str(x)) else x)\n",
    "df.replace('-',np.nan, inplace=True)"
   ]
  },
  {
   "cell_type": "code",
   "execution_count": 166,
   "id": "boolean-terrace",
   "metadata": {},
   "outputs": [],
   "source": [
    "for i in range(len(df['ID'])):\n",
    "    #r=re.search('(\\w+)/.+',str(df.loc[i, 'ID_ech']))\n",
    "    #if r : df.loc[i, 'ID']=r.group(1)\n",
    "    r=re.search('^\\d+',str(df.loc[i, 'ID']))\n",
    "    if r : df.loc[i, 'ID']='F'+str(df.loc[i, 'ID'])"
   ]
  },
  {
   "cell_type": "code",
   "execution_count": 167,
   "id": "balanced-england",
   "metadata": {},
   "outputs": [],
   "source": [
    "sdf=df[['ID','X','Y','Z','Long','ID_ech', 'Ech_top', 'Ech_base', 'Description','Nappe','Ep_remb','Ep_alluv','Refus','Societe','Zone','Sous_zone']]\n",
    "sdf.insert(5, 'Type', '')\n",
    "\n",
    "prv_sol=df[['ID','ID_ech', 'X','Y','Z', 'Ech_top', 'Ech_base','Polluant','Intensité', 'Pol_top','Pol_base','MS','pH H2O',\n",
    "            'T° pH H2O', 'T° pH CaCl2','pH CaCl2','T° pH KCl','pH KCl','T° CE','CE','MO',\n",
    "       'Résidus chauffage', 'Argile ', 'Fract_2000µ','Fract_63µ','Fract_45µ','Fract_16µ','Fract_2µ']]\n",
    "#mes_sol=df[['ID','ID_ech','MS','pH H2O', 'T° pH H2O', 'T° pH CaCl2','pH CaCl2','T° pH KCl','pH KCl','T° CE','CE','MO',\n",
    "#       'Résidus chauffage', 'Argile ', 'Fract_2000','Fract_63','Fract_45','Fract_16','Fract_2']]\n",
    "prv_sol.insert(2, 'Type_ech', 'Sol')\n",
    "\n",
    "an=df[['ID','ID_ech','X','Y','Z','Arsenic','Cadmium','Chrome_total','Chrome_VI','Cobalt','Cuivre','Mercure','Plomb','Nickel','Zinc','Libres',\n",
    "       'Totaux', 'Non chloro destruct.', 'Thiocyantes', 'Cyanures totaux EPA','Benzène', 'Toluène', 'Ethylbenzène',\n",
    "       'o-Xylènes','mp-Xylènes','Xylènes','SOM BTEX','Styrène','Naphtalène','Anthracene','Phénanthrène',\n",
    "       'Fluoranthène', 'Benzoaanthracène', 'Chrysène','Benzo(a)pyrene','Benzo(ghi)pérylène','Benzo(k)fluoranthène',\n",
    "       'Indéno[123cd]pyrène', 'Acenaphtylene', 'Acenaphthene', 'Fluorène','Pyrène', 'Benzo_b_fluoranthene', \n",
    "       'Dibenzo[ah]anthracène','SOM VROM 10', 'SOM EPA 16', 'C5_C8', 'C8_C10', 'C10_C12', 'C12_C16','C16_C21', \n",
    "       'C21_C35', 'C35_C40', 'SOM_C5_C35', 'C21_C30', 'C30_C35','SOM C10_C40', 'EOX', 'Idc_phenol']]"
   ]
  },
  {
   "cell_type": "markdown",
   "id": "abandoned-patient",
   "metadata": {},
   "source": [
    "dfs processing"
   ]
  },
  {
   "cell_type": "code",
   "execution_count": 168,
   "id": "champion-token",
   "metadata": {},
   "outputs": [
    {
     "name": "stderr",
     "output_type": "stream",
     "text": [
      "/home/yanathan/.local/share/virtualenvs/GSDMA-DRfwm83x/lib/python3.8/site-packages/pandas/core/frame.py:3607: SettingWithCopyWarning: \n",
      "A value is trying to be set on a copy of a slice from a DataFrame.\n",
      "Try using .loc[row_indexer,col_indexer] = value instead\n",
      "\n",
      "See the caveats in the documentation: https://pandas.pydata.org/pandas-docs/stable/user_guide/indexing.html#returning-a-view-versus-a-copy\n",
      "  self._set_item(key, value)\n"
     ]
    }
   ],
   "source": [
    "sdf['Refus']=sdf['Refus'].apply(lambda x: 'x' if not pd.isnull(x) else '')"
   ]
  },
  {
   "cell_type": "code",
   "execution_count": 169,
   "id": "fancy-ethics",
   "metadata": {},
   "outputs": [
    {
     "name": "stderr",
     "output_type": "stream",
     "text": [
      "/home/yanathan/.local/share/virtualenvs/GSDMA-DRfwm83x/lib/python3.8/site-packages/pandas/core/indexing.py:1817: SettingWithCopyWarning: \n",
      "A value is trying to be set on a copy of a slice from a DataFrame.\n",
      "Try using .loc[row_indexer,col_indexer] = value instead\n",
      "\n",
      "See the caveats in the documentation: https://pandas.pydata.org/pandas-docs/stable/user_guide/indexing.html#returning-a-view-versus-a-copy\n",
      "  self._setitem_single_column(loc, value, pi)\n"
     ]
    }
   ],
   "source": [
    "for i in range(len(sdf['Nappe'])):\n",
    "    x=sdf.loc[i,'Nappe']\n",
    "    if re.search('[R|r]em', str(x)) : sdf.loc[i,'Nappe']='Remblais'\n",
    "    elif re.search('[A|a]ll', str(x)) : sdf.loc[i,'Nappe']='Alluvions'\n",
    "    elif re.search('[S|s]oc', str(x)) : sdf.loc[i,'Nappe']='Socle'\n",
    "    elif re.search('[A|a]rg', str(x)) : sdf.loc[i,'Nappe']='Argile'\n",
    "    else : sdf.loc[i,'Nappe']=''"
   ]
  },
  {
   "cell_type": "code",
   "execution_count": 170,
   "id": "civic-chemistry",
   "metadata": {},
   "outputs": [],
   "source": [
    "litho=sdf #lithologies and all facilities without distinction here (because type of facility not defined clearly !)"
   ]
  },
  {
   "cell_type": "code",
   "execution_count": 171,
   "id": "manual-encyclopedia",
   "metadata": {
    "scrolled": true
   },
   "outputs": [
    {
     "name": "stdout",
     "output_type": "stream",
     "text": [
      "9 NaN lines dropped\n"
     ]
    },
    {
     "name": "stderr",
     "output_type": "stream",
     "text": [
      "/home/yanathan/.local/share/virtualenvs/GSDMA-DRfwm83x/lib/python3.8/site-packages/pandas/core/frame.py:4901: SettingWithCopyWarning: \n",
      "A value is trying to be set on a copy of a slice from a DataFrame\n",
      "\n",
      "See the caveats in the documentation: https://pandas.pydata.org/pandas-docs/stable/user_guide/indexing.html#returning-a-view-versus-a-copy\n",
      "  return super().drop(\n"
     ]
    }
   ],
   "source": [
    "prv_sol=na_line_drop(prv_sol, 3)"
   ]
  },
  {
   "cell_type": "code",
   "execution_count": 172,
   "id": "supposed-evans",
   "metadata": {
    "scrolled": false
   },
   "outputs": [
    {
     "name": "stdout",
     "output_type": "stream",
     "text": [
      "\n",
      "Columns dropped :['Résidus chauffage']\n",
      "\n"
     ]
    }
   ],
   "source": [
    "prv_sol=na_col_drop(prv_sol, col_non_na=5, verbose=False)"
   ]
  },
  {
   "cell_type": "code",
   "execution_count": 173,
   "id": "interim-survey",
   "metadata": {},
   "outputs": [
    {
     "name": "stderr",
     "output_type": "stream",
     "text": [
      "/home/yanathan/.local/share/virtualenvs/GSDMA-DRfwm83x/lib/python3.8/site-packages/pandas/core/frame.py:5233: SettingWithCopyWarning: \n",
      "A value is trying to be set on a copy of a slice from a DataFrame\n",
      "\n",
      "See the caveats in the documentation: https://pandas.pydata.org/pandas-docs/stable/user_guide/indexing.html#returning-a-view-versus-a-copy\n",
      "  return super().replace(\n"
     ]
    },
    {
     "name": "stdout",
     "output_type": "stream",
     "text": [
      "9 NaN lines dropped\n"
     ]
    }
   ],
   "source": [
    "an.replace('#',np.nan, inplace=True)\n",
    "an=na_line_drop(an, 2)\n",
    "an.insert(1, 'Type_ech', 'Sol')\n",
    "#an['Anl_ID']=an['ID'].apply(lambda x: 'Anl_'+str(x))\n",
    "#an.insert(0, 'Anl_ID', an.pop('Anl_ID'))"
   ]
  },
  {
   "cell_type": "raw",
   "id": "union-right",
   "metadata": {},
   "source": [
    "an=na_col_drop(an, non_na=10, drop=False, verbose=True)"
   ]
  },
  {
   "cell_type": "markdown",
   "id": "impressed-clinton",
   "metadata": {},
   "source": [
    "data merging"
   ]
  },
  {
   "cell_type": "code",
   "execution_count": 177,
   "id": "6bd78c21",
   "metadata": {},
   "outputs": [
    {
     "name": "stdout",
     "output_type": "stream",
     "text": [
      "Rows : 1423, columns : 17\n"
     ]
    },
    {
     "data": {
      "application/vnd.jupyter.widget-view+json": {
       "model_id": "67645d0831bc4642ad4588c2d46eb745",
       "version_major": 2,
       "version_minor": 0
      },
      "text/plain": [
       "interactive(children=(IntSlider(value=3, description='rows', max=1423, min=3, readout=False), IntSlider(value=…"
      ]
     },
     "metadata": {},
     "output_type": "display_data"
    },
    {
     "name": "stdout",
     "output_type": "stream",
     "text": [
      "Rows : 1626, columns : 10\n"
     ]
    },
    {
     "data": {
      "application/vnd.jupyter.widget-view+json": {
       "model_id": "f3f841261bad4e87b9a67b6406f670aa",
       "version_major": 2,
       "version_minor": 0
      },
      "text/plain": [
       "interactive(children=(IntSlider(value=3, description='rows', max=1626, min=3, readout=False), IntSlider(value=…"
      ]
     },
     "metadata": {},
     "output_type": "display_data"
    },
    {
     "data": {
      "text/plain": [
       "(None, None)"
      ]
     },
     "execution_count": 177,
     "metadata": {},
     "output_type": "execute_result"
    }
   ],
   "source": [
    "dataframe_viewer(litho, rows=3), dataframe_viewer(source_litho, rows=3)"
   ]
  },
  {
   "cell_type": "code",
   "execution_count": 175,
   "id": "hearing-thong",
   "metadata": {},
   "outputs": [],
   "source": [
    "#source_mes_sol=mes_sol\n",
    "source_prv_sol=prv_sol"
   ]
  },
  {
   "cell_type": "raw",
   "id": "a06a00e9",
   "metadata": {},
   "source": [
    "source_litho, error_df=data_merger(source_litho, litho, 'outer', 'ID', )"
   ]
  },
  {
   "cell_type": "code",
   "execution_count": 176,
   "id": "6154e6b8",
   "metadata": {},
   "outputs": [
    {
     "name": "stdout",
     "output_type": "stream",
     "text": [
      "Rows : 6685, columns : 6, Unique values on col 'ID': 216\n"
     ]
    },
    {
     "data": {
      "application/vnd.jupyter.widget-view+json": {
       "model_id": "",
       "version_major": 2,
       "version_minor": 0
      },
      "text/plain": [
       "interactive(children=(IntSlider(value=3, description='rows', max=6685, min=3, readout=False), IntSlider(value=…"
      ]
     },
     "metadata": {},
     "output_type": "display_data"
    }
   ],
   "source": [
    "dataframe_viewer(error_df, un_val='ID', rows=3) "
   ]
  },
  {
   "cell_type": "raw",
   "id": "c81d302c",
   "metadata": {},
   "source": [
    "data_validation(overall_data=source_litho, conflict_data=error_df, index_col='index', pass_col='ID',\n",
    "                valid_dict={'Description_x':list(error_df.index), 'Societe_x':list(error_df.index)})"
   ]
  },
  {
   "cell_type": "code",
   "execution_count": 29,
   "id": "49185fc3",
   "metadata": {},
   "outputs": [],
   "source": [
    "dataset = source_litho\n",
    "if 'level_0' in dataset.columns:\n",
    "    if 'index' in dataset.columns:\n",
    "        dataset.drop(columns='index', inplace=True)\n",
    "    dataset.rename(columns={'level_0':'index'}, inplace=True)"
   ]
  },
  {
   "cell_type": "raw",
   "id": "3e07f446",
   "metadata": {},
   "source": [
    "for i, r in error_df.iterrows():\n",
    "    print(i, sum(x == 'Done' for x in r), 2 * len(r['Check_col'].split(',')))"
   ]
  },
  {
   "cell_type": "code",
   "execution_count": null,
   "id": "4ab66142",
   "metadata": {},
   "outputs": [],
   "source": [
    "dataframe_viewer(error_df.query(\"Societe_x!='Done' or Description_x!='Done'\"), un_val='ID', rows=3) "
   ]
  },
  {
   "cell_type": "code",
   "execution_count": null,
   "id": "ahead-avatar",
   "metadata": {},
   "outputs": [],
   "source": [
    "source_an, error_df=data_merger(source_an, an, 'outer', 'ID_ech', ) "
   ]
  },
  {
   "cell_type": "code",
   "execution_count": null,
   "id": "boring-discovery",
   "metadata": {},
   "outputs": [],
   "source": [
    "dataframe_viewer(prv_sol, un_val='ID', rows=3), dataframe_viewer(an, un_val='ID', rows=3) "
   ]
  },
  {
   "cell_type": "code",
   "execution_count": null,
   "id": "administrative-mobile",
   "metadata": {},
   "outputs": [],
   "source": [
    "if not os.path.exists(tmp_dir):\n",
    "    os.makedirs(tmp_dir)\n",
    "\n",
    "#bh.to_csv(tmp_dir+'source_Boreholes.csv', index=False)\n",
    "litho.to_csv(tmp_dir+sheet+'_Lithology.csv', index=False)\n",
    "pz.to_csv(tmp_dir+sheet+'_Piezometers.csv', index=False)\n",
    "mes_pz.to_csv(tmp_dir+sheet+'_Measures.csv', index=False)\n",
    "#mes_sol.to_csv(tmp_dir+sheet+'_Measures-soil.csv', index=False)\n",
    "ouv.to_csv(tmp_dir+sheet+'_Unkown-facility.csv', index=False)\n",
    "prv_eau.to_csv(tmp_dir+sheet+'_Samples-water.csv', index=False)\n",
    "prv_sol.to_csv(tmp_dir+sheet+'_Samples-soil.csv', index=False)\n",
    "an.to_csv(tmp_dir+sheet+'_Analysis.csv', index=False)\n",
    "\n",
    "\n",
    "source_mes_pz.to_csv(tmp_dir+'source_Measures.csv', index=False)\n",
    "#source_mes_sol.to_csv(tmp_dir+'source_Measures-soil.csv', index=False)\n",
    "source_pz.to_csv(tmp_dir+'source_Piezometers.csv', index=False)\n",
    "source_prv_eau.to_csv(tmp_dir+'source_Samples-water.csv', index=False)\n",
    "source_prv_sol.to_csv(tmp_dir+'source_Samples-soil.csv', index=False)\n",
    "source_ouv.to_csv(tmp_dir+'source_Unkown-facility.csv', index=False)\n",
    "source_an.to_csv(tmp_dir+'source_Analysis.csv', index=False)\n",
    "source_litho.to_csv(tmp_dir+'source_Lithology.csv', index=False)\n",
    "#source_bh.to_csv(tmp_dir+'source_Boreholes.csv', index=False)\n",
    "\n",
    "print(f'source_bh:{len(source_bh)} ; source_pz:{len(source_pz)} ; source_litho:{len(source_litho)} ; '\n",
    "     f'source_Fac-uknw:{len(source_ouv)} ; source_an:{len(source_an)} ;\\nsource_prv_sol:{len(source_prv_sol)} ;'\n",
    "     f'source_prv_eau:{len(source_prv_eau)} ; source_mes_pz:{len(source_mes_pz)} ; source_mes_sol:{len(source_mes_sol)} ;')"
   ]
  },
  {
   "cell_type": "markdown",
   "id": "3ca43726",
   "metadata": {},
   "source": [
    "### $\\color{red}{\\textbf{Excel sheets data merging}}$"
   ]
  },
  {
   "cell_type": "code",
   "execution_count": null,
   "id": "254f0fd6",
   "metadata": {},
   "outputs": [],
   "source": [
    "excel_bhs, conflict_df = data_merger(source_bh, source_pz, how='outer', on='ID', dist_max=1., drop_skip_col=['index'])"
   ]
  },
  {
   "cell_type": "code",
   "execution_count": null,
   "id": "5e3c5507",
   "metadata": {},
   "outputs": [],
   "source": [
    "data_validation(overall_data=excel_bhs, conflict_data=conflict_df, index_col='index', \n",
    "                valid_dict={'Type_y':list(conflict_df.index)})"
   ]
  },
  {
   "cell_type": "code",
   "execution_count": 29,
   "id": "f3ceff8d",
   "metadata": {},
   "outputs": [],
   "source": [
    "dataset = excel_bhs\n",
    "if 'level_0' in dataset.columns:\n",
    "    if 'index' in dataset.columns:\n",
    "        dataset.drop(columns='index', inplace=True)\n",
    "    dataset.rename(columns={'level_0':'index'}, inplace=True)"
   ]
  },
  {
   "cell_type": "code",
   "execution_count": null,
   "id": "b0726ce9",
   "metadata": {},
   "outputs": [],
   "source": [
    "excel_bh_litho, conflict_df = data_merger(source_bh, source_litho, how='outer', on='ID', dist_max=1., drop_skip_col=['index'])"
   ]
  },
  {
   "cell_type": "code",
   "execution_count": null,
   "id": "7634c0e5",
   "metadata": {},
   "outputs": [],
   "source": [
    "excel_bh_soil_sp, conflict_df = data_merger(source_bh, source_prv_sol, how='outer', on='ID', dist_max=1., drop_skip_col=['index'])"
   ]
  },
  {
   "cell_type": "code",
   "execution_count": null,
   "id": "14ba281e",
   "metadata": {},
   "outputs": [],
   "source": [
    "excel_bh_equip, conflict_df = data_merger(source_bh, source_equip, how='outer', on='ID', dist_max=1., drop_skip_col=['index'])"
   ]
  },
  {
   "cell_type": "code",
   "execution_count": null,
   "id": "80a4e937",
   "metadata": {
    "scrolled": true
   },
   "outputs": [],
   "source": [
    "excel_bh_mes, conflict_df = data_merger(source_bh, source_mes_pz, how='outer', on='ID', dist_max=1., drop_skip_col=['index'])"
   ]
  },
  {
   "cell_type": "code",
   "execution_count": null,
   "id": "c9be9de5",
   "metadata": {},
   "outputs": [],
   "source": [
    "save_dir = tmp_dir + 'Final_merge/final_'\n",
    "if not os.path.exists(save_dir):\n",
    "    os.makedirs(save_dir)\n",
    "\n",
    "excel_bhs.to_csv(save_dir + 'Boreholes.csv', index=False)\n",
    "excel_bh_litho.to_csv(save_dir+'Lithologies.csv', index=False)\n",
    "excel_bh_equip.to_csv(save_dir+'Equipments.csv', index=False)\n",
    "excel_bh_soil_sp.to_csv(save_dir+'Soil_samples.csv', index=False)\n",
    "excel_bh_mes.to_csv(save_dir+'Measures.csv', index=False)"
   ]
  },
  {
   "cell_type": "raw",
   "id": "cc08f41d",
   "metadata": {},
   "source": [
    "dataframe_viewer(source_bh, rows=5), dataframe_viewer(source_pz, rows=5)"
   ]
  },
  {
   "cell_type": "code",
   "execution_count": null,
   "id": "f75dd06e",
   "metadata": {},
   "outputs": [],
   "source": [
    "dataframe_viewer(excel_bh_mes, rows=3)"
   ]
  },
  {
   "cell_type": "markdown",
   "id": "8bfbb264",
   "metadata": {},
   "source": [
    "#### ------------------------------------------------------------------------------------------------------------------"
   ]
  },
  {
   "cell_type": "markdown",
   "id": "informed-rwanda",
   "metadata": {},
   "source": [
    "## 3-obsrevations terrain et mesures piézos phase 2.xlsx\n",
    "\n",
    "* **Sheet : 'Piézométrie'**"
   ]
  },
  {
   "cell_type": "code",
   "execution_count": 66,
   "id": "intimate-inventory",
   "metadata": {},
   "outputs": [],
   "source": [
    "# New file, so the source variables must be overwritten !!\n",
    "_df=pd.DataFrame()\n",
    "source_mes_pz, source_mes_sol, source_pz, source_prv_eau, source_prv_sol =  _df, _df, _df, _df, _df\n",
    "source_ouv, source_an, source_litho, source_bh = _df, _df, _df, _df"
   ]
  },
  {
   "cell_type": "code",
   "execution_count": 67,
   "id": "variable-remains",
   "metadata": {},
   "outputs": [],
   "source": [
    "tmp_dir='../../CF_data/Result_traitem/observ_terrain/'\n",
    "sheet='Piezometrie'"
   ]
  },
  {
   "cell_type": "code",
   "execution_count": 68,
   "id": "black-thinking",
   "metadata": {},
   "outputs": [
    {
     "name": "stdout",
     "output_type": "stream",
     "text": [
      "\n",
      "Columns dropped :['Unnamed: 3', 'Unnamed: 4', 'Unnamed: 5', 'Unnamed: 6']\n",
      "\n",
      "Rows : 31, columns : 19\n"
     ]
    },
    {
     "data": {
      "application/vnd.jupyter.widget-view+json": {
       "model_id": "c0d15d2128314b0da52d196566d52a22",
       "version_major": 2,
       "version_minor": 0
      },
      "text/plain": [
       "interactive(children=(IntSlider(value=10, description='rows', max=31, min=10, readout=False), IntSlider(value=…"
      ]
     },
     "metadata": {},
     "output_type": "display_data"
    }
   ],
   "source": [
    "df = pd.read_excel('../../CF_data/Data_UMONS/Contamination/Résultats et mesures Siterem/résultats phase 2/'\n",
    "                   'obsrevations terrain et mesures piézos phase 2.xlsx', sheet_name='Piézométrie', skiprows=1)\n",
    "df=na_line_drop(df,0)\n",
    "df=na_col_drop(df,1)\n",
    "df.replace(r'<|>','', inplace=True, regex=True)\n",
    "df.replace(r'-$',np.nan, inplace=True, regex=True)\n",
    "\n",
    "dataframe_viewer(df)"
   ]
  },
  {
   "cell_type": "code",
   "execution_count": 69,
   "id": "worth-sacrifice",
   "metadata": {},
   "outputs": [
    {
     "name": "stdout",
     "output_type": "stream",
     "text": [
      "9 NaN lines dropped\n"
     ]
    },
    {
     "name": "stderr",
     "output_type": "stream",
     "text": [
      "/home/yanathan/.local/share/virtualenvs/GSDMA-DRfwm83x/lib/python3.8/site-packages/pandas/core/frame.py:3607: SettingWithCopyWarning: \n",
      "A value is trying to be set on a copy of a slice from a DataFrame.\n",
      "Try using .loc[row_indexer,col_indexer] = value instead\n",
      "\n",
      "See the caveats in the documentation: https://pandas.pydata.org/pandas-docs/stable/user_guide/indexing.html#returning-a-view-versus-a-copy\n",
      "  self._set_item(key, value)\n",
      "/home/yanathan/.local/share/virtualenvs/GSDMA-DRfwm83x/lib/python3.8/site-packages/pandas/core/indexing.py:1817: SettingWithCopyWarning: \n",
      "A value is trying to be set on a copy of a slice from a DataFrame.\n",
      "Try using .loc[row_indexer,col_indexer] = value instead\n",
      "\n",
      "See the caveats in the documentation: https://pandas.pydata.org/pandas-docs/stable/user_guide/indexing.html#returning-a-view-versus-a-copy\n",
      "  self._setitem_single_column(loc, value, pi)\n",
      "/home/yanathan/.local/share/virtualenvs/GSDMA-DRfwm83x/lib/python3.8/site-packages/pandas/core/frame.py:4901: SettingWithCopyWarning: \n",
      "A value is trying to be set on a copy of a slice from a DataFrame\n",
      "\n",
      "See the caveats in the documentation: https://pandas.pydata.org/pandas-docs/stable/user_guide/indexing.html#returning-a-view-versus-a-copy\n",
      "  return super().drop(\n"
     ]
    }
   ],
   "source": [
    "sdf=df[df.columns.to_list()[:3]]\n",
    "sdf=na_line_drop(sdf,0)\n",
    "sdf.rename(columns={'Niveau \\npiézométrique':'Niv_eau_sol', 'Commentaires ':'Date_prv'}, inplace=True)"
   ]
  },
  {
   "cell_type": "code",
   "execution_count": 70,
   "id": "recovered-vault",
   "metadata": {},
   "outputs": [],
   "source": [
    "sdf2=df.loc[:11, df.columns.to_list()[3:-1]]\n",
    "sdf2.rename(columns={'Unnamed: 7':'Date_prv', 'Unnamed: 8':'Nappe', 'Unnamed: 9':'ID', 'NP/piézo [m]':'Niv_eau_pz',\n",
    "       'dim. piezo hors sol [m]':'Dim_pz_sol', 'NP/sol [m]':'Niv_eau_sol', 'Prof. piézo/piézo [m]':'Long_pz',\n",
    "       'Prof. piézo/sol [m]':'Long_pz_sol', 'CE [mS/cm]':'CE','t° [°C]':'Temp','O2 dissous\\n[%]':'O_diss', \n",
    "        'Observations':'Rmq'}, \n",
    "           inplace=True)"
   ]
  },
  {
   "cell_type": "code",
   "execution_count": 71,
   "id": "disturbed-mediterranean",
   "metadata": {},
   "outputs": [],
   "source": [
    "for i in range(len(sdf2['ID'])):\n",
    "    sdf2.loc[i,'ID']=re.sub(r'^P','F', sdf2.loc[i,'ID'])\n",
    "    \n",
    "    if pd.isnull(sdf2.loc[i,'CE']) and not pd.isnull(sdf2.loc[i,'CE [µS/cm]']):\n",
    "        sdf2.loc[i,'CE']=sdf2.loc[i,'CE [µS/cm]']/1000\n",
    "\n",
    "sdf2.drop(['CE [µS/cm]'], axis=1, inplace=True)"
   ]
  },
  {
   "cell_type": "code",
   "execution_count": 72,
   "id": "internal-astrology",
   "metadata": {},
   "outputs": [],
   "source": [
    "df=df.loc[14:, df.columns.to_list()[3:-1]]\n",
    "df.rename(columns={'Unnamed: 7':'Date_prv', 'Unnamed: 8':'Nappe', 'Unnamed: 9':'ID', 'NP/piézo [m]':'Niv_eau_pz',\n",
    "       'dim. piezo hors sol [m]':'Dim_pz_sol', 'NP/sol [m]':'Niv_eau_sol', 'Prof. piézo/piézo [m]':'Long_pz',\n",
    "       'Prof. piézo/sol [m]':'Long_pz_sol', 'CE [mS/cm]':'CE','t° [°C]':'Temp','O2 dissous\\n[%]':'O_diss', \n",
    "        'Observations':'Rmq'}, \n",
    "           inplace=True)\n",
    "df.drop([19,20], inplace=True)\n",
    "df.reset_index(drop=True, inplace=True)"
   ]
  },
  {
   "cell_type": "code",
   "execution_count": 74,
   "id": "received-jersey",
   "metadata": {},
   "outputs": [],
   "source": [
    "for i in range(len(df['ID'])):\n",
    "    df.loc[i,'ID']=re.sub(r'^P','F', df.loc[i,'ID'])\n",
    "    \n",
    "    if pd.isnull(df.loc[i,'CE']) and not pd.isnull(df.loc[i,'CE [µS/cm]']):\n",
    "        df.loc[i,'CE']=df.loc[i,'CE [µS/cm]']/1000\n",
    "        \n",
    "df.drop(['CE [µS/cm]', 'O_diss'], axis=1, inplace=True)"
   ]
  },
  {
   "cell_type": "code",
   "execution_count": 75,
   "id": "every-routine",
   "metadata": {},
   "outputs": [
    {
     "name": "stdout",
     "output_type": "stream",
     "text": [
      "\n",
      "Columns dropped :['ORP', 'O_diss']\n",
      "\n"
     ]
    }
   ],
   "source": [
    "df=na_col_drop(df, 5)\n",
    "sdf2=na_col_drop(sdf2, 5,)"
   ]
  },
  {
   "cell_type": "raw",
   "id": "undefined-suspect",
   "metadata": {},
   "source": [
    "dataframe_viewer(sdf2, rows=5), dataframe_viewer(df, rows=5)"
   ]
  },
  {
   "cell_type": "code",
   "execution_count": 80,
   "id": "configured-cause",
   "metadata": {},
   "outputs": [],
   "source": [
    "prv_eau, error_df=data_merger(sdf2, df, how='outer', on='ID')"
   ]
  },
  {
   "cell_type": "code",
   "execution_count": 81,
   "id": "confident-technique",
   "metadata": {},
   "outputs": [
    {
     "name": "stdout",
     "output_type": "stream",
     "text": [
      "Rows : 27, columns : 13, Unique values on col 'ID': 27\n"
     ]
    },
    {
     "data": {
      "application/vnd.jupyter.widget-view+json": {
       "model_id": "2580e09590744c9389825435c3509985",
       "version_major": 2,
       "version_minor": 0
      },
      "text/plain": [
       "interactive(children=(IntSlider(value=5, description='rows', max=27, min=5, readout=False), IntSlider(value=12…"
      ]
     },
     "metadata": {},
     "output_type": "display_data"
    }
   ],
   "source": [
    "dataframe_viewer(prv_eau, rows=5, un_val='ID')"
   ]
  },
  {
   "cell_type": "code",
   "execution_count": 82,
   "id": "agricultural-moderator",
   "metadata": {},
   "outputs": [],
   "source": [
    "prv_eau=prv_eau[['ID','Date_prv','Long_pz', 'Long_pz_sol','Dim_pz_sol','Nappe','Niv_eau_sol', 'Niv_eau_pz',\n",
    "                 'pH', 'Temp', 'CE', 'ORP','Rmq']]\n",
    "prv_eau.insert(1,'Type_ech','Eau')\n",
    "\n",
    "source_prv_eau=prv_eau"
   ]
  },
  {
   "cell_type": "code",
   "execution_count": 83,
   "id": "alleged-collection",
   "metadata": {},
   "outputs": [
    {
     "name": "stdout",
     "output_type": "stream",
     "text": [
      "source_bh:0 ; source_pz:0 ; source_litho:0 ; source_Fac-uknw:0 ; source_an:0 ;\n",
      "source_prv_sol:0 ;source_prv_eau:27 ; source_mes_pz:0 ; source_mes_sol:0 ;\n"
     ]
    }
   ],
   "source": [
    "if not os.path.exists(tmp_dir):\n",
    "    os.makedirs(tmp_dir)\n",
    "\n",
    "prv_eau.to_csv(tmp_dir+sheet+'_Samples-water.csv', index=False)\n",
    "\n",
    "source_prv_eau.to_csv(tmp_dir+'source_Samples-water.csv', index=False)\n",
    "\n",
    "print(f'source_bh:{len(source_bh)} ; source_pz:{len(source_pz)} ; source_litho:{len(source_litho)} ; '\n",
    "     f'source_Fac-uknw:{len(source_ouv)} ; source_an:{len(source_an)} ;\\nsource_prv_sol:{len(source_prv_sol)} ;'\n",
    "     f'source_prv_eau:{len(source_prv_eau)} ; source_mes_pz:{len(source_mes_pz)} ; source_mes_sol:{len(source_mes_sol)} ;')"
   ]
  },
  {
   "cell_type": "markdown",
   "id": "realistic-healthcare",
   "metadata": {},
   "source": [
    "--------------------------------------------------------------------------------------------------------"
   ]
  },
  {
   "cell_type": "markdown",
   "id": "breeding-siemens",
   "metadata": {},
   "source": [
    "## 4-profondeur de contact campagne de forages octobre 2019.xlsx\n",
    "\n",
    "* **Sheet : 'Feuil1'**"
   ]
  },
  {
   "cell_type": "code",
   "execution_count": 84,
   "id": "placed-cologne",
   "metadata": {},
   "outputs": [],
   "source": [
    "# New file, so the source variables must be overwritten !!\n",
    "_df=pd.DataFrame()\n",
    "source_mes_pz, source_mes_sol, source_pz, source_prv_eau, source_prv_sol =  _df, _df, _df, _df, _df\n",
    "source_ouv, source_an, source_litho, source_bh = _df, _df, _df, _df"
   ]
  },
  {
   "cell_type": "code",
   "execution_count": 85,
   "id": "patient-corner",
   "metadata": {},
   "outputs": [],
   "source": [
    "tmp_dir='../../CF_data/Result_traitem/Prof_contact_sol_forage/'\n",
    "sheet='Feuil1'"
   ]
  },
  {
   "cell_type": "code",
   "execution_count": 86,
   "id": "instant-carolina",
   "metadata": {},
   "outputs": [
    {
     "name": "stdout",
     "output_type": "stream",
     "text": [
      "Rows : 8, columns : 5\n"
     ]
    },
    {
     "data": {
      "application/vnd.jupyter.widget-view+json": {
       "model_id": "ea833900d14e4e628994bc423e008065",
       "version_major": 2,
       "version_minor": 0
      },
      "text/plain": [
       "interactive(children=(IntSlider(value=8, description='rows', max=8, min=8, readout=False), IntSlider(value=5, …"
      ]
     },
     "metadata": {},
     "output_type": "display_data"
    }
   ],
   "source": [
    "df = pd.read_excel('../../CF_data/Data_UMONS/ouvrages/profondeur de contact campagne de forages octobre 2019.xlsx', \n",
    "                   sheet_name='Feuil1', skiprows=2)\n",
    "df=na_line_drop(df,0)\n",
    "df=na_col_drop(df,1)\n",
    "df.replace(r'<|>','', inplace=True, regex=True)\n",
    "df.replace(r'-$',np.nan, inplace=True, regex=True)\n",
    "\n",
    "dataframe_viewer(df)"
   ]
  },
  {
   "cell_type": "code",
   "execution_count": 87,
   "id": "early-wrong",
   "metadata": {},
   "outputs": [],
   "source": [
    "df.rename(columns={'n°forage ':'ID','profondeur(m)':'Long_for','x':'X', 'y':'Y', 'z':'Z'}, inplace=True)\n",
    "df['Type']='Forage' # type is not defined clearly in data\n",
    "df['ID']=df['ID'].apply(lambda x: 'F'+str(x).replace('.0',''))\n",
    "\n",
    "bh=df"
   ]
  },
  {
   "cell_type": "code",
   "execution_count": 88,
   "id": "exempt-weight",
   "metadata": {},
   "outputs": [],
   "source": [
    "source_bh=bh"
   ]
  },
  {
   "cell_type": "code",
   "execution_count": 89,
   "id": "severe-token",
   "metadata": {},
   "outputs": [
    {
     "name": "stdout",
     "output_type": "stream",
     "text": [
      "source_bh:8 ; source_pz:0 ; source_litho:0 ; source_Fac-uknw:0 ; source_an:0 ;\n",
      "source_prv_sol:0 ;source_prv_eau:0 ; source_mes_pz:0 ; source_mes_sol:0 ;\n"
     ]
    }
   ],
   "source": [
    "if not os.path.exists(tmp_dir):\n",
    "    os.makedirs(tmp_dir)\n",
    "\n",
    "bh.to_csv(tmp_dir+sheet+'_Boreholes.csv', index=False)\n",
    "source_bh.to_csv(tmp_dir+'source_Boreholes.csv', index=False)\n",
    "\n",
    "print(f'source_bh:{len(source_bh)} ; source_pz:{len(source_pz)} ; source_litho:{len(source_litho)} ; '\n",
    "     f'source_Fac-uknw:{len(source_ouv)} ; source_an:{len(source_an)} ;\\nsource_prv_sol:{len(source_prv_sol)} ;'\n",
    "     f'source_prv_eau:{len(source_prv_eau)} ; source_mes_pz:{len(source_mes_pz)} ; source_mes_sol:{len(source_mes_sol)} ;')"
   ]
  },
  {
   "cell_type": "markdown",
   "id": "municipal-restriction",
   "metadata": {},
   "source": [
    "--------------------------------------------------------------------------------------------------------"
   ]
  },
  {
   "cell_type": "markdown",
   "id": "dedicated-houston",
   "metadata": {},
   "source": [
    "## 5-Forages_Pilote_Decoupe.xlsx\n",
    "\n",
    "* **Sheet : 'leve'**"
   ]
  },
  {
   "cell_type": "code",
   "execution_count": 90,
   "id": "complicated-speaker",
   "metadata": {},
   "outputs": [],
   "source": [
    "# New file, so the source variables must be overwritten !!\n",
    "_df=pd.DataFrame()\n",
    "source_mes_pz, source_mes_sol, source_pz, source_prv_eau, source_prv_sol =  _df, _df, _df, _df, _df\n",
    "source_ouv, source_an, source_litho, source_bh = _df, _df, _df, _df"
   ]
  },
  {
   "cell_type": "code",
   "execution_count": 91,
   "id": "hourly-lewis",
   "metadata": {},
   "outputs": [],
   "source": [
    "tmp_dir='../../CF_data/Result_traitem/Forage_Pilote/'\n",
    "sheet='leve_Z_elect_pos'"
   ]
  },
  {
   "cell_type": "code",
   "execution_count": 92,
   "id": "approved-situation",
   "metadata": {},
   "outputs": [
    {
     "name": "stdout",
     "output_type": "stream",
     "text": [
      "\n",
      "Columns dropped :['Unnamed: 10']\n",
      "\n",
      "Rows : 72, columns : 11\n"
     ]
    },
    {
     "data": {
      "application/vnd.jupyter.widget-view+json": {
       "model_id": "85f1d3b7cda44576a77db49909b7305f",
       "version_major": 2,
       "version_minor": 0
      },
      "text/plain": [
       "interactive(children=(IntSlider(value=5, description='rows', max=72, min=5, readout=False), IntSlider(value=11…"
      ]
     },
     "metadata": {},
     "output_type": "display_data"
    }
   ],
   "source": [
    "df = pd.read_excel('../../CF_data/Data_UMONS/geometrie_electrodes_et_sondes/Forages_Pilote_Decoupe.xlsx', \n",
    "                   sheet_name='leve')#, skiprows=0)\n",
    "df=na_line_drop(df,0)\n",
    "df=na_col_drop(df,1)\n",
    "df.replace(r'<|>','', inplace=True, regex=True)\n",
    "df.replace(r'-$',np.nan, inplace=True, regex=True)\n",
    "\n",
    "dataframe_viewer(df, rows=5)"
   ]
  },
  {
   "cell_type": "code",
   "execution_count": null,
   "id": "beneficial-mainstream",
   "metadata": {},
   "outputs": [],
   "source": [
    "df.columns"
   ]
  },
  {
   "cell_type": "code",
   "execution_count": null,
   "id": "studied-given",
   "metadata": {},
   "outputs": [],
   "source": [
    "df.rename(columns={'Ref_puits':'ID','Niveau mesuré':'Z_mes', 'Niveau corrigé':'Z','Z_diff [m] repere_local':'Diff_Z_local',\n",
    "                   'long_fin [m]':'Long_for','Pos_Inox_#1 [m]':'Pos_Inox_#1', \n",
    "                   'Pos_Inox_#6 [m]':'Pos_Inox_#6', 'Pos_Impol_#3 [m]':'Pos_Impol_#3'}, inplace=True)"
   ]
  },
  {
   "cell_type": "code",
   "execution_count": null,
   "id": "coated-formation",
   "metadata": {},
   "outputs": [],
   "source": [
    "df['Type']='Forage' # type is not defined clearly in data\n",
    "df['ID']=df['ID'].apply(lambda x: 'F'+str(x).replace('.0',''))\n",
    "\n",
    "elc = df[['ID','Pos_Inox_#6', 'Pos_Impol_#3']] # 'ID' is for boreholes\n",
    "bh = df[['ID','Z','Diff_Z_local','Long_for', 'Type']]# Z_local origin = 145.5 [m]"
   ]
  },
  {
   "cell_type": "code",
   "execution_count": null,
   "id": "phantom-accessory",
   "metadata": {},
   "outputs": [],
   "source": [
    "source_bh = bh\n",
    "source_elc = elc"
   ]
  },
  {
   "cell_type": "code",
   "execution_count": null,
   "id": "other-technology",
   "metadata": {},
   "outputs": [],
   "source": [
    "if not os.path.exists(tmp_dir):\n",
    "    os.makedirs(tmp_dir)\n",
    "\n",
    "bh.to_csv(tmp_dir+sheet+'_Boreholes.csv', index=False)\n",
    "elc.to_csv(tmp_dir+sheet+'_Electrodes.csv', index=False)\n",
    "\n",
    "source_bh.to_csv(tmp_dir+'source_Boreholes.csv', index=False)\n",
    "source_elc.to_csv(tmp_dir+'source_Electrodes.csv', index=False)\n",
    "\n",
    "print(f'source_bh:{len(source_bh)} ; source_pz:{len(source_pz)} ; source_litho:{len(source_litho)} ; '\n",
    "     f'source_Fac-uknw:{len(source_ouv)} ; source_an:{len(source_an)} ;\\nsource_prv_sol:{len(source_prv_sol)} ;'\n",
    "     f'source_prv_eau:{len(source_prv_eau)} ; source_mes_pz:{len(source_mes_pz)} ; source_mes_sol:{len(source_mes_sol)} ;')"
   ]
  },
  {
   "cell_type": "markdown",
   "id": "developing-palmer",
   "metadata": {},
   "source": [
    "--------------------------------------------------------------------------------------------------------"
   ]
  },
  {
   "cell_type": "markdown",
   "id": "imperial-belize",
   "metadata": {},
   "source": [
    "## 6-Liste XY investigations.xlsx\n",
    "* **Sheet : 'SOL_EAU'**"
   ]
  },
  {
   "cell_type": "code",
   "execution_count": 93,
   "id": "awful-configuration",
   "metadata": {},
   "outputs": [],
   "source": [
    "# New file, so the source variables must be overwritten !!\n",
    "_df=pd.DataFrame()\n",
    "source_mes_pz, source_mes_sol, source_pz, source_prv_eau, source_prv_sol =  _df, _df, _df, _df, _df\n",
    "source_ouv, source_an, source_litho, source_bh = _df, _df, _df, _df"
   ]
  },
  {
   "cell_type": "code",
   "execution_count": 94,
   "id": "rental-trustee",
   "metadata": {},
   "outputs": [],
   "source": [
    "tmp_dir='../../CF_data/Result_traitem/Liste_XY/'\n",
    "sheet='Sol_Eau'"
   ]
  },
  {
   "cell_type": "code",
   "execution_count": 95,
   "id": "operating-developer",
   "metadata": {},
   "outputs": [],
   "source": [
    "df = pd.read_excel('../../CF_data/Data_UMONS/Contamination/Doc_SITEREM/Etude de caracterisation. SITEREM - 2011/Documents '\n",
    "                   'supplémentaires/Liste XY investigations.xlsx', sheet_name='SOL')#, skiprows=4)\n",
    "df['Type_ech']='Sol'\n",
    "\n",
    "df1 = pd.read_excel('../../CF_data/Data_UMONS/Contamination/Doc_SITEREM/Etude de caracterisation. SITEREM - 2011/Documents '\n",
    "                   'supplémentaires/Liste XY investigations.xlsx', sheet_name='EAU PR')#, skiprows=4)\n",
    "df1['Type_ech']='Eau'\n",
    "df1['Nappe']='Socle'\n",
    "\n",
    "df2 = pd.read_excel('../../CF_data/Data_UMONS/Contamination/Doc_SITEREM/Etude de caracterisation. SITEREM - 2011/Documents '\n",
    "                   'supplémentaires/Liste XY investigations.xlsx', sheet_name='EAU RB')#, skiprows=4)\n",
    "df2['Type_ech']='Eau'\n",
    "df2['Nappe']='remblais'\n",
    "\n",
    "df3 = pd.read_excel('../../CF_data/Data_UMONS/Contamination/Doc_SITEREM/Etude de caracterisation. SITEREM - 2011/Documents '\n",
    "                   'supplémentaires/Liste XY investigations.xlsx', sheet_name='EAU ALL')#, skiprows=4)\n",
    "df3['Type_ech']='Eau'\n",
    "df3['Nappe']='Alluvions'"
   ]
  },
  {
   "cell_type": "code",
   "execution_count": 96,
   "id": "coastal-methodology",
   "metadata": {},
   "outputs": [],
   "source": [
    "df2=na_line_drop(df2,0)\n",
    "df2=na_col_drop(df2,1)"
   ]
  },
  {
   "cell_type": "code",
   "execution_count": 100,
   "id": "computational-abortion",
   "metadata": {
    "scrolled": true
   },
   "outputs": [
    {
     "ename": "KeyError",
     "evalue": "'`N°`'",
     "output_type": "error",
     "traceback": [
      "\u001b[0;31m---------------------------------------------------------------------------\u001b[0m",
      "\u001b[0;31mKeyError\u001b[0m                                  Traceback (most recent call last)",
      "\u001b[0;32m/tmp/ipykernel_92838/1798284783.py\u001b[0m in \u001b[0;36m<module>\u001b[0;34m\u001b[0m\n\u001b[0;32m----> 1\u001b[0;31m \u001b[0mmdf\u001b[0m\u001b[0;34m,\u001b[0m \u001b[0merror_df\u001b[0m\u001b[0;34m=\u001b[0m\u001b[0mdata_merger\u001b[0m\u001b[0;34m(\u001b[0m\u001b[0mdf1\u001b[0m\u001b[0;34m,\u001b[0m \u001b[0mdf2\u001b[0m\u001b[0;34m,\u001b[0m \u001b[0;34m'outer'\u001b[0m\u001b[0;34m,\u001b[0m \u001b[0;34m'`N°`'\u001b[0m\u001b[0;34m)\u001b[0m\u001b[0;34m\u001b[0m\u001b[0;34m\u001b[0m\u001b[0m\n\u001b[0m",
      "\u001b[0;32m~/Projects/GSDMA/utils/io.py\u001b[0m in \u001b[0;36mdata_merger\u001b[0;34m(gdf1, gdf2, how, on, dist_max, crit_2nd_col, error_tol_dict, drop_skip_col, verbose)\u001b[0m\n\u001b[1;32m    373\u001b[0m     \u001b[0midx_distinct_obj\u001b[0m \u001b[0;34m=\u001b[0m \u001b[0;36m0\u001b[0m\u001b[0;34m\u001b[0m\u001b[0;34m\u001b[0m\u001b[0m\n\u001b[1;32m    374\u001b[0m \u001b[0;34m\u001b[0m\u001b[0m\n\u001b[0;32m--> 375\u001b[0;31m     \u001b[0mmdf\u001b[0m \u001b[0;34m=\u001b[0m \u001b[0mpd\u001b[0m\u001b[0;34m.\u001b[0m\u001b[0mmerge\u001b[0m\u001b[0;34m(\u001b[0m\u001b[0mgdf1\u001b[0m\u001b[0;34m,\u001b[0m \u001b[0mgdf2\u001b[0m\u001b[0;34m,\u001b[0m \u001b[0mhow\u001b[0m\u001b[0;34m=\u001b[0m\u001b[0mhow\u001b[0m\u001b[0;34m,\u001b[0m \u001b[0mon\u001b[0m\u001b[0;34m=\u001b[0m\u001b[0mon\u001b[0m\u001b[0;34m)\u001b[0m\u001b[0;34m\u001b[0m\u001b[0;34m\u001b[0m\u001b[0m\n\u001b[0m\u001b[1;32m    376\u001b[0m     \u001b[0mmdf\u001b[0m\u001b[0;34m.\u001b[0m\u001b[0mreset_index\u001b[0m\u001b[0;34m(\u001b[0m\u001b[0mdrop\u001b[0m\u001b[0;34m=\u001b[0m\u001b[0;32mTrue\u001b[0m\u001b[0;34m,\u001b[0m \u001b[0minplace\u001b[0m\u001b[0;34m=\u001b[0m\u001b[0;32mTrue\u001b[0m\u001b[0;34m)\u001b[0m\u001b[0;34m\u001b[0m\u001b[0;34m\u001b[0m\u001b[0m\n\u001b[1;32m    377\u001b[0m     \u001b[0mmdf\u001b[0m\u001b[0;34m.\u001b[0m\u001b[0mreplace\u001b[0m\u001b[0;34m(\u001b[0m\u001b[0;34m'nan'\u001b[0m\u001b[0;34m,\u001b[0m \u001b[0mnp\u001b[0m\u001b[0;34m.\u001b[0m\u001b[0mnan\u001b[0m\u001b[0;34m,\u001b[0m \u001b[0minplace\u001b[0m\u001b[0;34m=\u001b[0m\u001b[0;32mTrue\u001b[0m\u001b[0;34m)\u001b[0m\u001b[0;34m\u001b[0m\u001b[0;34m\u001b[0m\u001b[0m\n",
      "\u001b[0;32m~/.local/share/virtualenvs/GSDMA-DRfwm83x/lib/python3.8/site-packages/pandas/core/frame.py\u001b[0m in \u001b[0;36mmerge\u001b[0;34m(self, right, how, on, left_on, right_on, left_index, right_index, sort, suffixes, copy, indicator, validate)\u001b[0m\n\u001b[1;32m   9184\u001b[0m         \u001b[0;32mfrom\u001b[0m \u001b[0mpandas\u001b[0m\u001b[0;34m.\u001b[0m\u001b[0mcore\u001b[0m\u001b[0;34m.\u001b[0m\u001b[0mreshape\u001b[0m\u001b[0;34m.\u001b[0m\u001b[0mmerge\u001b[0m \u001b[0;32mimport\u001b[0m \u001b[0mmerge\u001b[0m\u001b[0;34m\u001b[0m\u001b[0;34m\u001b[0m\u001b[0m\n\u001b[1;32m   9185\u001b[0m \u001b[0;34m\u001b[0m\u001b[0m\n\u001b[0;32m-> 9186\u001b[0;31m         return merge(\n\u001b[0m\u001b[1;32m   9187\u001b[0m             \u001b[0mself\u001b[0m\u001b[0;34m,\u001b[0m\u001b[0;34m\u001b[0m\u001b[0;34m\u001b[0m\u001b[0m\n\u001b[1;32m   9188\u001b[0m             \u001b[0mright\u001b[0m\u001b[0;34m,\u001b[0m\u001b[0;34m\u001b[0m\u001b[0;34m\u001b[0m\u001b[0m\n",
      "\u001b[0;32m~/.local/share/virtualenvs/GSDMA-DRfwm83x/lib/python3.8/site-packages/pandas/core/reshape/merge.py\u001b[0m in \u001b[0;36mmerge\u001b[0;34m(left, right, how, on, left_on, right_on, left_index, right_index, sort, suffixes, copy, indicator, validate)\u001b[0m\n\u001b[1;32m    105\u001b[0m     \u001b[0mvalidate\u001b[0m\u001b[0;34m:\u001b[0m \u001b[0mstr\u001b[0m \u001b[0;34m|\u001b[0m \u001b[0;32mNone\u001b[0m \u001b[0;34m=\u001b[0m \u001b[0;32mNone\u001b[0m\u001b[0;34m,\u001b[0m\u001b[0;34m\u001b[0m\u001b[0;34m\u001b[0m\u001b[0m\n\u001b[1;32m    106\u001b[0m ) -> DataFrame:\n\u001b[0;32m--> 107\u001b[0;31m     op = _MergeOperation(\n\u001b[0m\u001b[1;32m    108\u001b[0m         \u001b[0mleft\u001b[0m\u001b[0;34m,\u001b[0m\u001b[0;34m\u001b[0m\u001b[0;34m\u001b[0m\u001b[0m\n\u001b[1;32m    109\u001b[0m         \u001b[0mright\u001b[0m\u001b[0;34m,\u001b[0m\u001b[0;34m\u001b[0m\u001b[0;34m\u001b[0m\u001b[0m\n",
      "\u001b[0;32m~/.local/share/virtualenvs/GSDMA-DRfwm83x/lib/python3.8/site-packages/pandas/core/reshape/merge.py\u001b[0m in \u001b[0;36m__init__\u001b[0;34m(self, left, right, how, on, left_on, right_on, axis, left_index, right_index, sort, suffixes, copy, indicator, validate)\u001b[0m\n\u001b[1;32m    698\u001b[0m             \u001b[0mself\u001b[0m\u001b[0;34m.\u001b[0m\u001b[0mright_join_keys\u001b[0m\u001b[0;34m,\u001b[0m\u001b[0;34m\u001b[0m\u001b[0;34m\u001b[0m\u001b[0m\n\u001b[1;32m    699\u001b[0m             \u001b[0mself\u001b[0m\u001b[0;34m.\u001b[0m\u001b[0mjoin_names\u001b[0m\u001b[0;34m,\u001b[0m\u001b[0;34m\u001b[0m\u001b[0;34m\u001b[0m\u001b[0m\n\u001b[0;32m--> 700\u001b[0;31m         ) = self._get_merge_keys()\n\u001b[0m\u001b[1;32m    701\u001b[0m \u001b[0;34m\u001b[0m\u001b[0m\n\u001b[1;32m    702\u001b[0m         \u001b[0;31m# validate the merge keys dtypes. We may need to coerce\u001b[0m\u001b[0;34m\u001b[0m\u001b[0;34m\u001b[0m\u001b[0;34m\u001b[0m\u001b[0m\n",
      "\u001b[0;32m~/.local/share/virtualenvs/GSDMA-DRfwm83x/lib/python3.8/site-packages/pandas/core/reshape/merge.py\u001b[0m in \u001b[0;36m_get_merge_keys\u001b[0;34m(self)\u001b[0m\n\u001b[1;32m   1090\u001b[0m                     \u001b[0;32mif\u001b[0m \u001b[0;32mnot\u001b[0m \u001b[0mis_rkey\u001b[0m\u001b[0;34m(\u001b[0m\u001b[0mrk\u001b[0m\u001b[0;34m)\u001b[0m\u001b[0;34m:\u001b[0m\u001b[0;34m\u001b[0m\u001b[0;34m\u001b[0m\u001b[0m\n\u001b[1;32m   1091\u001b[0m                         \u001b[0;32mif\u001b[0m \u001b[0mrk\u001b[0m \u001b[0;32mis\u001b[0m \u001b[0;32mnot\u001b[0m \u001b[0;32mNone\u001b[0m\u001b[0;34m:\u001b[0m\u001b[0;34m\u001b[0m\u001b[0;34m\u001b[0m\u001b[0m\n\u001b[0;32m-> 1092\u001b[0;31m                             \u001b[0mright_keys\u001b[0m\u001b[0;34m.\u001b[0m\u001b[0mappend\u001b[0m\u001b[0;34m(\u001b[0m\u001b[0mright\u001b[0m\u001b[0;34m.\u001b[0m\u001b[0m_get_label_or_level_values\u001b[0m\u001b[0;34m(\u001b[0m\u001b[0mrk\u001b[0m\u001b[0;34m)\u001b[0m\u001b[0;34m)\u001b[0m\u001b[0;34m\u001b[0m\u001b[0;34m\u001b[0m\u001b[0m\n\u001b[0m\u001b[1;32m   1093\u001b[0m                         \u001b[0;32melse\u001b[0m\u001b[0;34m:\u001b[0m\u001b[0;34m\u001b[0m\u001b[0;34m\u001b[0m\u001b[0m\n\u001b[1;32m   1094\u001b[0m                             \u001b[0;31m# work-around for merge_asof(right_index=True)\u001b[0m\u001b[0;34m\u001b[0m\u001b[0;34m\u001b[0m\u001b[0;34m\u001b[0m\u001b[0m\n",
      "\u001b[0;32m~/.local/share/virtualenvs/GSDMA-DRfwm83x/lib/python3.8/site-packages/pandas/core/generic.py\u001b[0m in \u001b[0;36m_get_label_or_level_values\u001b[0;34m(self, key, axis)\u001b[0m\n\u001b[1;32m   1774\u001b[0m             \u001b[0mvalues\u001b[0m \u001b[0;34m=\u001b[0m \u001b[0mself\u001b[0m\u001b[0;34m.\u001b[0m\u001b[0maxes\u001b[0m\u001b[0;34m[\u001b[0m\u001b[0maxis\u001b[0m\u001b[0;34m]\u001b[0m\u001b[0;34m.\u001b[0m\u001b[0mget_level_values\u001b[0m\u001b[0;34m(\u001b[0m\u001b[0mkey\u001b[0m\u001b[0;34m)\u001b[0m\u001b[0;34m.\u001b[0m\u001b[0m_values\u001b[0m\u001b[0;34m\u001b[0m\u001b[0;34m\u001b[0m\u001b[0m\n\u001b[1;32m   1775\u001b[0m         \u001b[0;32melse\u001b[0m\u001b[0;34m:\u001b[0m\u001b[0;34m\u001b[0m\u001b[0;34m\u001b[0m\u001b[0m\n\u001b[0;32m-> 1776\u001b[0;31m             \u001b[0;32mraise\u001b[0m \u001b[0mKeyError\u001b[0m\u001b[0;34m(\u001b[0m\u001b[0mkey\u001b[0m\u001b[0;34m)\u001b[0m\u001b[0;34m\u001b[0m\u001b[0;34m\u001b[0m\u001b[0m\n\u001b[0m\u001b[1;32m   1777\u001b[0m \u001b[0;34m\u001b[0m\u001b[0m\n\u001b[1;32m   1778\u001b[0m         \u001b[0;31m# Check for duplicates\u001b[0m\u001b[0;34m\u001b[0m\u001b[0;34m\u001b[0m\u001b[0;34m\u001b[0m\u001b[0m\n",
      "\u001b[0;31mKeyError\u001b[0m: '`N°`'"
     ]
    }
   ],
   "source": [
    "mdf, error_df=data_merger(df1, df2, 'outer', 'N°')"
   ]
  },
  {
   "cell_type": "code",
   "execution_count": 98,
   "id": "subsequent-straight",
   "metadata": {},
   "outputs": [],
   "source": [
    "mdf=mdf.append(df3)\n",
    "mdf=mdf.dropna(how='any', subset=['N°'])"
   ]
  },
  {
   "cell_type": "code",
   "execution_count": null,
   "id": "studied-cologne",
   "metadata": {},
   "outputs": [],
   "source": [
    "mdf, error_df=data_merger(mdf, df, 'outer', 'N°') "
   ]
  },
  {
   "cell_type": "code",
   "execution_count": null,
   "id": "former-zimbabwe",
   "metadata": {},
   "outputs": [],
   "source": [
    "mdf.rename(columns={'N°':'ID'}, inplace=True)\n",
    "mdf['Type'] = 'Piezo'\n",
    "pz=mdf\n",
    "source_pz = pz # we only have boreholes 'ID' here, no Z, no date"
   ]
  },
  {
   "cell_type": "code",
   "execution_count": null,
   "id": "personalized-jaguar",
   "metadata": {},
   "outputs": [],
   "source": [
    "dataframe_viewer(source_bh, rows=5)"
   ]
  },
  {
   "cell_type": "code",
   "execution_count": null,
   "id": "precise-retreat",
   "metadata": {},
   "outputs": [],
   "source": [
    "if not os.path.exists(tmp_dir):\n",
    "    os.makedirs(tmp_dir)\n",
    "\n",
    "pz.to_csv(tmp_dir+sheet+'_Piezometers.csv', index=False)    \n",
    "source_pz.to_csv(tmp_dir+'source_Piezometers.csv', index=False)\n",
    "\n",
    "print(f'source_bh:{len(source_bh)} ; source_pz:{len(source_pz)} ; source_litho:{len(source_litho)} ; '\n",
    "     f'source_Fac-uknw:{len(source_ouv)} ; source_an:{len(source_an)} ;\\nsource_prv_sol:{len(source_prv_sol)} ;'\n",
    "     f'source_prv_eau:{len(source_prv_eau)} ; source_mes_pz:{len(source_mes_pz)} ; source_mes_sol:{len(source_mes_sol)} ;')"
   ]
  },
  {
   "cell_type": "markdown",
   "id": "transparent-connecticut",
   "metadata": {},
   "source": [
    "--------------------------------------------------------------------------------------------------------"
   ]
  },
  {
   "cell_type": "markdown",
   "id": "express-library",
   "metadata": {},
   "source": [
    "## 7-Résultats phase 1_MEMORIS.xls\n",
    "* **Sheet : 'Résult SOL'**"
   ]
  },
  {
   "cell_type": "code",
   "execution_count": 71,
   "id": "employed-military",
   "metadata": {},
   "outputs": [],
   "source": [
    "# New file, so the source variables must be overwritten !!\n",
    "_df=pd.DataFrame()\n",
    "source_mes_pz, source_mes_sol, source_pz, source_prv_eau, source_prv_sol =  _df, _df, _df, _df, _df\n",
    "source_ouv, source_an, source_litho, source_bh = _df, _df, _df, _df"
   ]
  },
  {
   "cell_type": "code",
   "execution_count": 72,
   "id": "white-pursuit",
   "metadata": {},
   "outputs": [],
   "source": [
    "tmp_dir='../../CF_data/Result_traitem/Phase_1_Memoris/'\n",
    "sheet='Result_sol'"
   ]
  },
  {
   "cell_type": "code",
   "execution_count": 73,
   "id": "concerned-leader",
   "metadata": {},
   "outputs": [
    {
     "name": "stdout",
     "output_type": "stream",
     "text": [
      "1 NaN lines dropped\n",
      "\n",
      "Columns dropped :['Unnamed: 0', 'Unnamed: 2']\n",
      "\n",
      "Rows : 135, columns : 35\n"
     ]
    },
    {
     "name": "stderr",
     "output_type": "stream",
     "text": [
      "/home/yanathan/.local/share/virtualenvs/GSDMA-DRfwm83x/lib/python3.8/site-packages/pandas/core/frame.py:4901: SettingWithCopyWarning: \n",
      "A value is trying to be set on a copy of a slice from a DataFrame\n",
      "\n",
      "See the caveats in the documentation: https://pandas.pydata.org/pandas-docs/stable/user_guide/indexing.html#returning-a-view-versus-a-copy\n",
      "  return super().drop(\n"
     ]
    },
    {
     "data": {
      "application/vnd.jupyter.widget-view+json": {
       "model_id": "a0b0ef9ec4d3451d942596ac8b43aeb3",
       "version_major": 2,
       "version_minor": 0
      },
      "text/plain": [
       "interactive(children=(IntSlider(value=5, description='rows', max=135, min=5, readout=False), IntSlider(value=1…"
      ]
     },
     "metadata": {},
     "output_type": "display_data"
    }
   ],
   "source": [
    "df = pd.read_excel('../../CF_data/Data_UMONS/Contamination/Résultats et mesures Siterem/résultats phase 1/'\n",
    "                   'Résultats phase 1_MEMORIS.xls', sheet_name='Résult SOL', skiprows=4)\n",
    "df=na_line_drop(df,0)\n",
    "df=na_col_drop(df,1)\n",
    "df.replace(r'<|>','', inplace=True, regex=True)\n",
    "df.replace(r'-$',np.nan, inplace=True, regex=True)\n",
    "\n",
    "dataframe_viewer(df, rows=5)"
   ]
  },
  {
   "cell_type": "code",
   "execution_count": 74,
   "id": "satisfied-constitutional",
   "metadata": {},
   "outputs": [],
   "source": [
    "prv_sol=df.loc[:35]\n",
    "an=df.loc[36:]"
   ]
  },
  {
   "cell_type": "code",
   "execution_count": 75,
   "id": "pleasant-prayer",
   "metadata": {},
   "outputs": [
    {
     "name": "stderr",
     "output_type": "stream",
     "text": [
      "/home/yanathan/.local/share/virtualenvs/GSDMA-DRfwm83x/lib/python3.8/site-packages/pandas/core/indexing.py:723: SettingWithCopyWarning: \n",
      "A value is trying to be set on a copy of a slice from a DataFrame\n",
      "\n",
      "See the caveats in the documentation: https://pandas.pydata.org/pandas-docs/stable/user_guide/indexing.html#returning-a-view-versus-a-copy\n",
      "  iloc._setitem_with_indexer(indexer, value, self.name)\n"
     ]
    }
   ],
   "source": [
    "an.loc[0.5] = df.loc[0] # put data on first line\n",
    "an = an.sort_index().reset_index(drop=True)"
   ]
  },
  {
   "cell_type": "code",
   "execution_count": 76,
   "id": "republican-physiology",
   "metadata": {},
   "outputs": [],
   "source": [
    "prv_sol=prv_sol.transpose()\n",
    "prv_sol.reset_index(drop=True, inplace=True)\n",
    "prv_sol=col_ren(prv_sol, 1)"
   ]
  },
  {
   "cell_type": "code",
   "execution_count": 77,
   "id": "designed-industry",
   "metadata": {},
   "outputs": [
    {
     "name": "stdout",
     "output_type": "stream",
     "text": [
      "\n",
      "Columns dropped :['col_1', \"Nom / description d'échantillon\", 'Date de prélèvement', \"Nature de l'étude (*)\", 'Terrain', 'Epaisseur de remblais', 'Epaisseur alluvions', \"Nature de l'observation organoleptique\", 'LOCALISATION/AFFECTATION(S) - USAGE(S)', 'zone', 'parcelle (selon dénom.)', \"Type d'usage de fait actuel\", \"Type d'usage de fait futur\", \"Type d'usage utilisé pour comparer les résultats\", 'Lieux de prélèvement', 'X Lambert', 'Y Lambert', 'DESCRIPTION SOMMAIRE', 'Type de recouvrement de surface (***)', 'Sol en place (S : souillé, NS : non souillé)', 'Remblais de terre (S : souillé, NS : non souillé)', 'Remblais technique (S : souillé, NS : non souillé)', 'Déchet', 'Matières organiques', 'GRANULOMETRIE', 'Fraction argileuse']\n",
      "\n"
     ]
    }
   ],
   "source": [
    "prv_sol.drop(list(range(5)), axis=0, inplace=True)\n",
    "prv_sol.reset_index(drop=True, inplace=True)\n",
    "prv_sol=na_col_drop(prv_sol,1)\n",
    "prv_sol=na_line_drop(prv_sol,3)\n",
    "prv_sol.reset_index(drop=True, inplace=True)"
   ]
  },
  {
   "cell_type": "code",
   "execution_count": 78,
   "id": "specialized-chemical",
   "metadata": {},
   "outputs": [],
   "source": [
    "name=['ID_ech', 'Description','Organo', 'Long_for', 'Refus','Ech_top', 'Ech_base', 'MS','Fract_2','Fract_2+']\n",
    "prv_sol=col_ren(prv_sol, name=name, mode=1)"
   ]
  },
  {
   "cell_type": "code",
   "execution_count": 79,
   "id": "accomplished-exception",
   "metadata": {},
   "outputs": [],
   "source": [
    "for i in range(len(prv_sol['Description'])):\n",
    "    x = prv_sol.loc[i,'Description']\n",
    "    if x=='R': prv_sol.loc[i,'Description']='Remblais'\n",
    "    elif x=='L': prv_sol.loc[i,'Description']='Limons'\n",
    "\n",
    "prv_sol['Refus']=prv_sol['Refus'].apply(lambda x: 'x' if not re.search('x|X', str(x)) else '')\n",
    "prv_sol.insert(1,'Type_ech','Sol')"
   ]
  },
  {
   "cell_type": "code",
   "execution_count": 80,
   "id": "solar-lottery",
   "metadata": {
    "scrolled": false
   },
   "outputs": [
    {
     "name": "stdout",
     "output_type": "stream",
     "text": [
      "Rows : 29, columns : 11\n"
     ]
    },
    {
     "data": {
      "application/vnd.jupyter.widget-view+json": {
       "model_id": "76b05ff60e544fd4805c4dd065d47766",
       "version_major": 2,
       "version_minor": 0
      },
      "text/plain": [
       "interactive(children=(IntSlider(value=3, description='rows', max=29, min=3, readout=False), IntSlider(value=11…"
      ]
     },
     "metadata": {},
     "output_type": "display_data"
    }
   ],
   "source": [
    "dataframe_viewer(prv_sol, rows=3)"
   ]
  },
  {
   "cell_type": "code",
   "execution_count": 81,
   "id": "armed-steal",
   "metadata": {},
   "outputs": [],
   "source": [
    "an=an.transpose()\n",
    "an.reset_index(drop=True, inplace=True)"
   ]
  },
  {
   "cell_type": "code",
   "execution_count": 82,
   "id": "invalid-bubble",
   "metadata": {},
   "outputs": [],
   "source": [
    "an=col_ren(an, 1)"
   ]
  },
  {
   "cell_type": "code",
   "execution_count": 83,
   "id": "activated-wallpaper",
   "metadata": {},
   "outputs": [],
   "source": [
    "an.replace(r'<|>','', inplace=True, regex=True)\n",
    "an.replace(r'-',np.nan, inplace=True, regex=True)\n",
    "an.rename(columns={an.columns[0]:'ID_ech'}, inplace=True)"
   ]
  },
  {
   "cell_type": "code",
   "execution_count": 84,
   "id": "enabling-travel",
   "metadata": {},
   "outputs": [
    {
     "name": "stdout",
     "output_type": "stream",
     "text": [
      "\n",
      "Columns dropped :['METAUX LOURDS', 'CYANURES', 'COMPOSES AROMATIQUES VOLATILS', 'BTEX totaux', 'PHENOLS', 'Indice phénol', 'HYDROCARBURES AROMATIQUES POLYCYCLIQUES', 'COMPOSES ORGANOHALOGENES VOLATILS', 'col_63', 'EOX (****)', 'HYDROCARBURES TOTAUX', 'fraction aromat. C6-C7', 'fraction aromat. C7-C8', 'fraction aromat. C8-C10', 'fraction aliphat. C5-C6', 'fraction aliphat. C6-C8', 'fraction aliphat. C8-C10', 'Fraction C35 - C40', 'Hydrocarbures totaux C10-C40', 'METHYL-TERT-BUTYL-ETHER', 'POLYCHLOROBIPHENYL (PCB)', 'PCB 28', 'PCB 52', 'PCB 101', 'PCB 118', 'PCB 138', 'PCB 153', 'PCB 180', 'PCB totaux (7)', 'F4/2M*', 'Teneur mesurée', 'Teneur mesurée (souligne/gras)', 'Teneur mesurée (gras/grisé)', \"(*) CP = Campagne de prélèvements; Ex = Expertise; ES = Etude de sol; EO = Etude d'orientation; EC = Etude de caractérisation; SA = Suivi d'assainissement\", '(**) L: limon, A: Argile, S: Sable, R: Remblai', '(***) ib : imperméable (béton) ; ih : imperméable hydrocarboné ; p : perméable (gravier, fissuré,…) ; tvh : terres végétation haute ; tvb : terres végétation basse ', '(****) 3 mg/kg = Seuil limite défini dans le GREO ']\n",
      "\n"
     ]
    }
   ],
   "source": [
    "an.drop(list(range(5)), axis=0, inplace=True)\n",
    "an.reset_index(drop=True, inplace=True)\n",
    "an=na_col_drop(an,1)\n",
    "an.insert(1,'Type_ech','Sol')"
   ]
  },
  {
   "cell_type": "code",
   "execution_count": 85,
   "id": "crude-degree",
   "metadata": {},
   "outputs": [],
   "source": [
    "an=col_ren(an, name=pol_field_model, mode=1)"
   ]
  },
  {
   "cell_type": "code",
   "execution_count": 86,
   "id": "ab3cedba",
   "metadata": {
    "scrolled": false
   },
   "outputs": [
    {
     "name": "stdout",
     "output_type": "stream",
     "text": [
      "Rows : 29, columns : 11\n"
     ]
    },
    {
     "data": {
      "application/vnd.jupyter.widget-view+json": {
       "model_id": "da5144d78ece427193d2a96dd9cc9990",
       "version_major": 2,
       "version_minor": 0
      },
      "text/plain": [
       "interactive(children=(IntSlider(value=3, description='rows', max=29, min=3, readout=False), IntSlider(value=11…"
      ]
     },
     "metadata": {},
     "output_type": "display_data"
    }
   ],
   "source": [
    "dataframe_viewer(prv_sol, rows=3)"
   ]
  },
  {
   "cell_type": "code",
   "execution_count": 87,
   "id": "italian-architecture",
   "metadata": {},
   "outputs": [
    {
     "name": "stdout",
     "output_type": "stream",
     "text": [
      "Rows : 29, columns : 64\n"
     ]
    },
    {
     "data": {
      "application/vnd.jupyter.widget-view+json": {
       "model_id": "7375c01be8704cd2920af6d221a32ea2",
       "version_major": 2,
       "version_minor": 0
      },
      "text/plain": [
       "interactive(children=(IntSlider(value=5, description='rows', max=29, min=5, readout=False), IntSlider(value=12…"
      ]
     },
     "metadata": {},
     "output_type": "display_data"
    }
   ],
   "source": [
    "dataframe_viewer(an, rows=5) "
   ]
  },
  {
   "cell_type": "raw",
   "id": "ranking-underwear",
   "metadata": {},
   "source": [
    "set(prv_sol['ID_ech']).symmetric_difference(set(an['ID_ech'])) #lacking ID between the 2 sets"
   ]
  },
  {
   "cell_type": "code",
   "execution_count": 88,
   "id": "sacred-collect",
   "metadata": {},
   "outputs": [],
   "source": [
    "source_prv_sol=prv_sol\n",
    "source_an=an"
   ]
  },
  {
   "cell_type": "code",
   "execution_count": 89,
   "id": "arbitrary-driver",
   "metadata": {
    "scrolled": false
   },
   "outputs": [
    {
     "name": "stdout",
     "output_type": "stream",
     "text": [
      "source_bh:0 ; source_pz:0 ; source_litho:0 ; source_Fac-uknw:0 ; source_an:29 ;\n",
      "source_prv_sol:29 ;source_prv_eau:0 ; source_mes_pz:0 ; source_mes_sol:0 ;\n"
     ]
    }
   ],
   "source": [
    "if not os.path.exists(tmp_dir):\n",
    "    os.makedirs(tmp_dir)\n",
    "\n",
    "#bh.to_csv(tmp_dir+'source_Boreholes.csv', index=False)\n",
    "#pz.to_csv(tmp_dir+sheet+'_Piezometers.csv', index=False)\n",
    "#ouv.to_csv(tmp_dir+sheet+'_Unkown-facility.csv', index=False)\n",
    "#litho.to_csv(tmp_dir+sheet+'_Lithology.csv', index=False)\n",
    "#mes_pz.to_csv(tmp_dir+sheet+'_Measures.csv', index=False)\n",
    "#mes_sol.to_csv(tmp_dir+sheet+'_Measures-soil.csv', index=False)\n",
    "#prv_eau.to_csv(tmp_dir+sheet+'_Samples-water.csv', index=False)\n",
    "prv_sol.to_csv(tmp_dir+sheet+'_Samples-soil.csv', index=False)\n",
    "an.to_csv(tmp_dir+sheet+'_Analysis.csv', index=False)\n",
    "\n",
    "\n",
    "#source_bh.to_csv(tmp_dir+'source_Boreholes.csv', index=False)\n",
    "#source_pz.to_csv(tmp_dir+'source_Piezometers.csv', index=False)\n",
    "#source_ouv.to_csv(tmp_dir+'source_Unkown-facility.csv', index=False)\n",
    "#source_litho.to_csv(tmp_dir+'source_Lithology.csv', index=False)\n",
    "#source_mes_pz.to_csv(tmp_dir+'source_Measures.csv', index=False)\n",
    "#source_mes_sol.to_csv(tmp_dir+'source_Measures-soil.csv', index=False)\n",
    "#source_prv_eau.to_csv(tmp_dir+'source_Samples-water.csv', index=False)\n",
    "source_prv_sol.to_csv(tmp_dir+'source_Samples-soil.csv', index=False)\n",
    "source_an.to_csv(tmp_dir+'source_Analysis.csv', index=False)\n",
    "\n",
    "\n",
    "print(f'source_bh:{len(source_bh)} ; source_pz:{len(source_pz)} ; source_litho:{len(source_litho)} ; '\n",
    "     f'source_Fac-uknw:{len(source_ouv)} ; source_an:{len(source_an)} ;\\nsource_prv_sol:{len(source_prv_sol)} ;'\n",
    "     f'source_prv_eau:{len(source_prv_eau)} ; source_mes_pz:{len(source_mes_pz)} ; source_mes_sol:{len(source_mes_sol)} ;')"
   ]
  },
  {
   "cell_type": "code",
   "execution_count": 90,
   "id": "50c1059c",
   "metadata": {},
   "outputs": [],
   "source": [
    "excel_soil_an, conflict_df = data_merger(source_an, source_prv_sol, how='outer', on='ID_ech', dist_max=1., drop_skip_col=['index'])"
   ]
  },
  {
   "cell_type": "code",
   "execution_count": 91,
   "id": "f2319cee",
   "metadata": {},
   "outputs": [],
   "source": [
    "excel_soil_an['ID'] = excel_soil_an['ID_ech'].apply(lambda x: x.split('/')[0]) "
   ]
  },
  {
   "cell_type": "code",
   "execution_count": 92,
   "id": "81035fdb",
   "metadata": {},
   "outputs": [],
   "source": [
    "save_dir = tmp_dir + 'Final_merge/final_'\n",
    "if not os.path.exists(save_dir):\n",
    "    os.makedirs(save_dir)\n",
    "\n",
    "#excel_bhs.to_csv(save_dir + 'Boreholes.csv', index=False)\n",
    "#excel_bh_litho.to_csv(save_dir+'Lithologies.csv', index=False)\n",
    "#excel_bh_equip.to_csv(save_dir+'Equipments.csv', index=False)\n",
    "#excel_bh_soil_sp.to_csv(save_dir+'Soil_samples.csv', index=False)\n",
    "#excel_bh_water_sp.to_csv(save_dir+'Water_samples.csv', index=False)\n",
    "#excel_bh_soil_an.to_csv(save_dir+'Soil_analysis.csv', index=False)\n",
    "#excel_bh_water_an.to_csv(save_dir+'water_analysis.csv', index=False)\n",
    "#excel_bh_mes.to_csv(save_dir+'Measures.csv', index=False)\n",
    "#excel_bh_fac.to_csv(save_dir+'Unknow_facilities.csv', index=False)\n",
    "\n",
    "excel_soil_an.to_csv(save_dir+'Soil_analysis.csv', index=False)"
   ]
  },
  {
   "cell_type": "markdown",
   "id": "welsh-expense",
   "metadata": {},
   "source": [
    "* **Sheet : 'Résult EAU'**"
   ]
  },
  {
   "cell_type": "code",
   "execution_count": 93,
   "id": "identical-biodiversity",
   "metadata": {},
   "outputs": [],
   "source": [
    "tmp_dir='../../CF_data/Result_traitem/Phase_1_Memoris/'\n",
    "sheet='Result_eau'"
   ]
  },
  {
   "cell_type": "code",
   "execution_count": 94,
   "id": "damaged-delivery",
   "metadata": {
    "scrolled": false
   },
   "outputs": [
    {
     "name": "stdout",
     "output_type": "stream",
     "text": [
      "1 NaN lines dropped\n",
      "\n",
      "Columns dropped :['Unnamed: 0', 'Unnamed: 2']\n",
      "\n",
      "Rows : 136, columns : 23\n"
     ]
    },
    {
     "name": "stderr",
     "output_type": "stream",
     "text": [
      "/home/yanathan/.local/share/virtualenvs/GSDMA-DRfwm83x/lib/python3.8/site-packages/pandas/core/frame.py:4901: SettingWithCopyWarning: \n",
      "A value is trying to be set on a copy of a slice from a DataFrame\n",
      "\n",
      "See the caveats in the documentation: https://pandas.pydata.org/pandas-docs/stable/user_guide/indexing.html#returning-a-view-versus-a-copy\n",
      "  return super().drop(\n"
     ]
    },
    {
     "data": {
      "application/vnd.jupyter.widget-view+json": {
       "model_id": "c836f4fdb7ff4fa1a0cad694bf91e4dd",
       "version_major": 2,
       "version_minor": 0
      },
      "text/plain": [
       "interactive(children=(IntSlider(value=5, description='rows', max=136, min=5, readout=False), IntSlider(value=1…"
      ]
     },
     "metadata": {},
     "output_type": "display_data"
    }
   ],
   "source": [
    "df = pd.read_excel('../../CF_data/Data_UMONS/Contamination/Résultats et mesures Siterem/résultats phase 1/'\n",
    "                   'Résultats phase 1_MEMORIS.xls', sheet_name='Résult EAU', skiprows=4)\n",
    "df=na_line_drop(df,0)\n",
    "df=na_col_drop(df,1)\n",
    "df.replace(r'<|>','', inplace=True, regex=True)\n",
    "df.replace(r'-$',np.nan, inplace=True, regex=True)\n",
    "dataframe_viewer(df, rows=5)"
   ]
  },
  {
   "cell_type": "code",
   "execution_count": 95,
   "id": "present-indicator",
   "metadata": {},
   "outputs": [],
   "source": [
    "prv_eau=df.loc[:32]\n",
    "an=df.loc[33:]"
   ]
  },
  {
   "cell_type": "code",
   "execution_count": 96,
   "id": "interstate-animal",
   "metadata": {},
   "outputs": [
    {
     "name": "stderr",
     "output_type": "stream",
     "text": [
      "/home/yanathan/.local/share/virtualenvs/GSDMA-DRfwm83x/lib/python3.8/site-packages/pandas/core/indexing.py:723: SettingWithCopyWarning: \n",
      "A value is trying to be set on a copy of a slice from a DataFrame\n",
      "\n",
      "See the caveats in the documentation: https://pandas.pydata.org/pandas-docs/stable/user_guide/indexing.html#returning-a-view-versus-a-copy\n",
      "  iloc._setitem_with_indexer(indexer, value, self.name)\n"
     ]
    }
   ],
   "source": [
    "an.loc[0.5] = df.loc[0] # put data on first line\n",
    "an = an.sort_index().reset_index(drop=True)"
   ]
  },
  {
   "cell_type": "code",
   "execution_count": 97,
   "id": "dated-philip",
   "metadata": {},
   "outputs": [],
   "source": [
    "prv_eau=prv_eau.transpose()\n",
    "prv_eau.reset_index(drop=True, inplace=True)\n",
    "prv_eau=col_ren(prv_eau, 1)"
   ]
  },
  {
   "cell_type": "code",
   "execution_count": 98,
   "id": "precious-furniture",
   "metadata": {},
   "outputs": [],
   "source": [
    "prv_eau['CE']=prv_eau['CE'].apply(lambda x: pd.to_numeric(x)/1000 \n",
    "                                  if re.search('^\\d+', str(x)) and not pd.isnull(x) else np.nan)"
   ]
  },
  {
   "cell_type": "code",
   "execution_count": 99,
   "id": "exciting-velvet",
   "metadata": {},
   "outputs": [],
   "source": [
    "prv_eau.drop(list(range(5)), axis=0, inplace=True)\n",
    "prv_eau.reset_index(drop=True, inplace=True)"
   ]
  },
  {
   "cell_type": "code",
   "execution_count": 100,
   "id": "hired-eleven",
   "metadata": {},
   "outputs": [
    {
     "name": "stdout",
     "output_type": "stream",
     "text": [
      "column(s) dropped: ['21:DESCRIPTION SOMMAIRE', '27:Prof. arrêt du forage']\n"
     ]
    }
   ],
   "source": [
    "prv_eau=dble_col_drop(prv_eau)"
   ]
  },
  {
   "cell_type": "raw",
   "id": "average-importance",
   "metadata": {},
   "source": [
    "prv_eau.drop(columns=prv_eau.columns[[8,16,21,27]], axis=1, inplace=True) "
   ]
  },
  {
   "cell_type": "code",
   "execution_count": 101,
   "id": "continued-greeting",
   "metadata": {},
   "outputs": [
    {
     "name": "stdout",
     "output_type": "stream",
     "text": [
      "\n",
      "Columns dropped :['col_1', \"Nature de l'étude (*)\", 'Observations organoleptiques', 'LOCALISATION/AFFECTATION(S) - USAGE(S)', 'parcelle (selon dénom.)', \"Type d'usage de fait actuel\", \"Type d'usage de fait futur\", \"Type d'usage utilisé pour comparer les résultats\", 'Lieux de prélèvement', 'DESCRIPTION SOMMAIRE', 'Type de recouvrement de surface (**)', 'Sol en place (S : souillé, NS : non souillé)', 'Remblais de terre (S : souillé, NS : non souillé)', 'Remblais technique (S : souillé, NS : non souillé)', 'Déchet', 'PARAMETRES PHYSICO-CHIMIQUES ', 'ORP']\n",
      "\n"
     ]
    }
   ],
   "source": [
    "prv_eau=na_col_drop(prv_eau,1)\n",
    "prv_eau=na_line_drop(prv_eau,3)\n",
    "prv_eau.reset_index(drop=True, inplace=True)"
   ]
  },
  {
   "cell_type": "code",
   "execution_count": 102,
   "id": "premier-absence",
   "metadata": {},
   "outputs": [],
   "source": [
    "name=['ID_ech','Date_prv','Num_maille','Affectation','X','Y','Zsol','Long_for','Prof_crep','Long_pz',\n",
    "      'Niv_eau_sol','pH','CE','T']\n",
    "prv_eau=col_ren(prv_eau, name=name, mode=1)\n",
    "prv_eau.insert(1,'Type_ech','Eau')"
   ]
  },
  {
   "cell_type": "code",
   "execution_count": 103,
   "id": "divine-factor",
   "metadata": {},
   "outputs": [],
   "source": [
    "prv_eau['Prof_crep'].replace('\\[|\\]','', regex=True, inplace=True)\n",
    "for i in range(len(prv_eau)):\n",
    "    c=prv_eau.loc[i,'Prof_crep']\n",
    "    prv_eau.loc[i,'Equip_top']=c.split('-')[0]\n",
    "    prv_eau.loc[i,'Equip_base']=c.split('-')[1]\n",
    "\n",
    "prv_eau['Type_equip'] = 'Crepine'\n",
    "prv_eau.drop(columns=['Prof_crep'], inplace=True)"
   ]
  },
  {
   "cell_type": "code",
   "execution_count": 104,
   "id": "handed-veteran",
   "metadata": {},
   "outputs": [],
   "source": [
    "prv_eau['ID_ech'].replace('Canne ', 'Can', inplace=True, regex=True)\n",
    "prv_eau['ID_ech'].replace('\\n', ' ', inplace=True, regex=True)"
   ]
  },
  {
   "cell_type": "code",
   "execution_count": 105,
   "id": "saved-coalition",
   "metadata": {
    "scrolled": true
   },
   "outputs": [
    {
     "name": "stderr",
     "output_type": "stream",
     "text": [
      "/home/yanathan/.local/share/virtualenvs/GSDMA-DRfwm83x/lib/python3.8/site-packages/pandas/core/frame.py:5034: SettingWithCopyWarning: \n",
      "A value is trying to be set on a copy of a slice from a DataFrame\n",
      "\n",
      "See the caveats in the documentation: https://pandas.pydata.org/pandas-docs/stable/user_guide/indexing.html#returning-a-view-versus-a-copy\n",
      "  return super().rename(\n",
      "/home/yanathan/.local/share/virtualenvs/GSDMA-DRfwm83x/lib/python3.8/site-packages/pandas/core/frame.py:3607: SettingWithCopyWarning: \n",
      "A value is trying to be set on a copy of a slice from a DataFrame.\n",
      "Try using .loc[row_indexer,col_indexer] = value instead\n",
      "\n",
      "See the caveats in the documentation: https://pandas.pydata.org/pandas-docs/stable/user_guide/indexing.html#returning-a-view-versus-a-copy\n",
      "  self._set_item(key, value)\n"
     ]
    }
   ],
   "source": [
    "pz=prv_eau[['ID_ech','X', 'Y', 'Zsol', 'Long_for','Long_pz', 'Equip_top', 'Equip_base', 'Type_equip']]\n",
    "pz.rename(columns={'ID_ech':'ID'}, inplace=True)\n",
    "pz['Type'] = 'Piezo'"
   ]
  },
  {
   "cell_type": "code",
   "execution_count": 106,
   "id": "religious-radiation",
   "metadata": {},
   "outputs": [
    {
     "name": "stderr",
     "output_type": "stream",
     "text": [
      "/home/yanathan/.local/share/virtualenvs/GSDMA-DRfwm83x/lib/python3.8/site-packages/pandas/core/indexing.py:1817: SettingWithCopyWarning: \n",
      "A value is trying to be set on a copy of a slice from a DataFrame.\n",
      "Try using .loc[row_indexer,col_indexer] = value instead\n",
      "\n",
      "See the caveats in the documentation: https://pandas.pydata.org/pandas-docs/stable/user_guide/indexing.html#returning-a-view-versus-a-copy\n",
      "  self._setitem_single_column(loc, value, pi)\n"
     ]
    }
   ],
   "source": [
    "for i in range(len(pz.ID)):\n",
    "    c=pz.loc[i, 'ID']\n",
    "    pz.loc[i, 'ID']=re.search(\"(\\w+\\d+(?:\\w)?)\",c).group(1)"
   ]
  },
  {
   "cell_type": "code",
   "execution_count": 107,
   "id": "herbal-nudist",
   "metadata": {},
   "outputs": [
    {
     "name": "stderr",
     "output_type": "stream",
     "text": [
      "/home/yanathan/.local/share/virtualenvs/GSDMA-DRfwm83x/lib/python3.8/site-packages/pandas/util/_decorators.py:311: SettingWithCopyWarning: \n",
      "A value is trying to be set on a copy of a slice from a DataFrame\n",
      "\n",
      "See the caveats in the documentation: https://pandas.pydata.org/pandas-docs/stable/user_guide/indexing.html#returning-a-view-versus-a-copy\n",
      "  return func(*args, **kwargs)\n"
     ]
    }
   ],
   "source": [
    "pz.drop_duplicates(subset=['ID'], keep='first', ignore_index=True, inplace=True)"
   ]
  },
  {
   "cell_type": "code",
   "execution_count": 108,
   "id": "embedded-greene",
   "metadata": {},
   "outputs": [],
   "source": [
    "an=an.transpose()\n",
    "an.reset_index(drop=True, inplace=True)"
   ]
  },
  {
   "cell_type": "code",
   "execution_count": 109,
   "id": "mental-bacon",
   "metadata": {},
   "outputs": [],
   "source": [
    "an=col_ren(an, 1)"
   ]
  },
  {
   "cell_type": "code",
   "execution_count": 110,
   "id": "insured-traffic",
   "metadata": {},
   "outputs": [],
   "source": [
    "an.replace(r'<|>','', inplace=True, regex=True)\n",
    "an.replace(r'-',np.nan, inplace=True, regex=True)\n",
    "an.rename(columns={an.columns[0]:'ID_ech'}, inplace=True)"
   ]
  },
  {
   "cell_type": "code",
   "execution_count": 111,
   "id": "employed-stack",
   "metadata": {},
   "outputs": [],
   "source": [
    "an.drop(list(range(5)), axis=0, inplace=True)\n",
    "an.reset_index(drop=True, inplace=True)"
   ]
  },
  {
   "cell_type": "code",
   "execution_count": 112,
   "id": "short-bennett",
   "metadata": {},
   "outputs": [
    {
     "name": "stdout",
     "output_type": "stream",
     "text": [
      "\n",
      "Columns dropped :['METAUX LOURDS', 'CYANURES', 'COMPOSES AROMATIQUES VOLATILS', 'PHENOLS', 'crésols (total)', 'CHLOROPHENOLS', '2-chlorophénol', 'monochlorophénol total', 'dichlorophénol total', '2,4,5-trichlorophénol', '2,4,6-trichlorophénol', 'trichlorophénol total', '2,3,4,6- tétrachlorophénol', 'tétrachlorophénol total', 'pentachlorophénol', 'HYDROCARBURES AROMATIQUES POLYCYCLIQUES', 'COMPOSES ORGANOCHLORES VOLATILS', 'CHLOROBENZENES', 'monochlorobenzène', '1,3-dichlorobenzène', '1,2-dichlorobenzène', '1,4-Dichlorobenzène', '1,2,4,5- et 1,2,3,5-tétrachlorobenzènes', 'pentachlorobenzène', 'hexachlorobenzène', 'HYDROCARBURES TOTAUX', 'METHYL-TERT-BUTYL-ETHER', 'POLYCHLOROBIPHENYLS (PCB)', 'PCB totaux (7)', 'Teneur mesurée (souligne/gras)', 'Teneur mesurée (gras/grisé)', \"(*) CP = Campagne de prélèvements; Ex = Expertise; ES = Etude de sol; EO = Etude d'orientation; EC = Etude de caractérisation; SA = Suivi d'assainissement\", '(**) ib : imperméable (béton) ; ih : imperméable hydrocarboné ; p : perméable (gravier, fissuré,…) ; tvh : terres végétation haute ; tvb : terres végétation basse ']\n",
      "\n"
     ]
    }
   ],
   "source": [
    "an.drop(columns=an.columns[[-6,-5]], axis=1, inplace=True)\n",
    "an=na_col_drop(an,1)\n",
    "an.insert(1,'Type_ech','Eau')"
   ]
  },
  {
   "cell_type": "code",
   "execution_count": 117,
   "id": "featured-finding",
   "metadata": {},
   "outputs": [],
   "source": [
    "an=col_ren(an, name=pol_field_model, mode=1)"
   ]
  },
  {
   "cell_type": "code",
   "execution_count": 118,
   "id": "e1d58e82",
   "metadata": {},
   "outputs": [
    {
     "data": {
      "text/plain": [
       "Index(['ID_ech', 'Type_ech', 'As', 'Cd', 'Cr', 'Cr_VI', 'Cu', 'Hg', 'Pb', 'Ni',\n",
       "       'Zn', 'CN_libre', 'CN_tot', 'CN_APE', 'CN_comp', 'thioCN', 'Bnz',\n",
       "       'Toln', 'EthylBnz', 'O-Xyl', 'P-M-Xyl', 'Xyl', 'Styr', 'Phenol',\n",
       "       'Naphta', 'Acenaphtyl', 'Acenaphtn', 'Fluorene', 'col_43', 'Anthrc',\n",
       "       'Flranth', 'Pyr', 'Bnz(a)anthrc', 'Chrys', 'Bnz(b)flranth',\n",
       "       'Bnz(k)flranth', 'Bnz(a)pyr', 'Dibnz(ah)anthrc', 'Bnz(ghi)peryl',\n",
       "       'Indeno(1,2,3-cd)pyr', 'HAP_tot_EPA', '1,1-DCE', '1,2-DCE', '1,1-DCEn',\n",
       "       'Cis-1,2-DCEn', '(cis,trans) 1,2-DCE_tot', 'Trans 1,2-DCEyl', 'DCM',\n",
       "       '1,2-DCP', 'TetraCEyn', 'TCM', '1,1,1-TCE', '1,1,2-TCE', 'TCEyn',\n",
       "       'Chloroforme', 'CVinyl', 'Arom_C6C7', 'Arom_C7C8', 'Arom_C8C10',\n",
       "       'Aliphat_C5C6', 'Aliphat_C6C8', 'Aliphat_C8C10', 'Fract_C5C8',\n",
       "       'Fract_C8C10', 'Fract_C10C12', 'Fract_C12C16', 'Fract_C16C21',\n",
       "       'Fract_C21C35', 'HC_tot_C10C35', 'MTBE'],\n",
       "      dtype='object')"
      ]
     },
     "execution_count": 118,
     "metadata": {},
     "output_type": "execute_result"
    }
   ],
   "source": [
    "an.columns"
   ]
  },
  {
   "cell_type": "code",
   "execution_count": 119,
   "id": "appreciated-testing",
   "metadata": {},
   "outputs": [
    {
     "name": "stdout",
     "output_type": "stream",
     "text": [
      "Rows : 17, columns : 70\n"
     ]
    },
    {
     "data": {
      "application/vnd.jupyter.widget-view+json": {
       "model_id": "d9ced530300b4d78b27cd65f84d1968a",
       "version_major": 2,
       "version_minor": 0
      },
      "text/plain": [
       "interactive(children=(IntSlider(value=5, description='rows', max=17, min=5, readout=False), IntSlider(value=12…"
      ]
     },
     "metadata": {},
     "output_type": "display_data"
    }
   ],
   "source": [
    "dataframe_viewer(an, rows=5) "
   ]
  },
  {
   "cell_type": "raw",
   "id": "designed-willow",
   "metadata": {},
   "source": [
    "set(prv_eau['ID_ech']) ^ set(an['ID_ech']) #lacking ID between the 2 sets"
   ]
  },
  {
   "cell_type": "code",
   "execution_count": 120,
   "id": "portuguese-elevation",
   "metadata": {},
   "outputs": [],
   "source": [
    "source_pz=pz\n",
    "source_prv_eau=prv_eau\n",
    "#source_an=source_an.append(an)"
   ]
  },
  {
   "cell_type": "code",
   "execution_count": 121,
   "id": "e71fb82b",
   "metadata": {},
   "outputs": [],
   "source": [
    "excel_water_an, conflict_df = data_merger(an, source_prv_eau, how='outer', on='ID_ech', dist_max=1., drop_skip_col=['index'])"
   ]
  },
  {
   "cell_type": "code",
   "execution_count": 122,
   "id": "1a3b01a7",
   "metadata": {
    "scrolled": false
   },
   "outputs": [
    {
     "name": "stdout",
     "output_type": "stream",
     "text": [
      "Rows : 17, columns : 85\n"
     ]
    },
    {
     "data": {
      "application/vnd.jupyter.widget-view+json": {
       "model_id": "6d78a317391948029239b2b2a85353fe",
       "version_major": 2,
       "version_minor": 0
      },
      "text/plain": [
       "interactive(children=(IntSlider(value=5, description='rows', max=17, min=5, readout=False), IntSlider(value=12…"
      ]
     },
     "metadata": {},
     "output_type": "display_data"
    }
   ],
   "source": [
    "dataframe_viewer(excel_water_an, rows=5)"
   ]
  },
  {
   "cell_type": "code",
   "execution_count": 123,
   "id": "94ca2889",
   "metadata": {},
   "outputs": [],
   "source": [
    "for i in range(len(excel_water_an.ID_ech)):\n",
    "    c=excel_water_an.loc[i, 'ID_ech']\n",
    "    excel_water_an.loc[i, 'ID']=re.search(\"(\\w+\\d+(?:\\w)?)\",c).group(1)"
   ]
  },
  {
   "cell_type": "code",
   "execution_count": 124,
   "id": "b855ab76",
   "metadata": {},
   "outputs": [],
   "source": [
    "save_dir = tmp_dir + 'Final_merge/final_'\n",
    "if not os.path.exists(save_dir):\n",
    "    os.makedirs(save_dir)\n",
    "\n",
    "#excel_bhs.to_csv(save_dir + 'Boreholes.csv', index=False)\n",
    "#excel_bh_litho.to_csv(save_dir+'Lithologies.csv', index=False)\n",
    "#excel_bh_equip.to_csv(save_dir+'Equipments.csv', index=False)\n",
    "#excel_bh_soil_sp.to_csv(save_dir+'Soil_samples.csv', index=False)\n",
    "#excel_bh_water_sp.to_csv(save_dir+'Water_samples.csv', index=False)\n",
    "#excel_bh_soil_an.to_csv(save_dir+'Soil_analysis.csv', index=False)\n",
    "#excel_bh_water_an.to_csv(save_dir+'water_analysis.csv', index=False)\n",
    "#excel_bh_mes.to_csv(save_dir+'Measures.csv', index=False)\n",
    "#excel_bh_fac.to_csv(save_dir+'Unknow_facilities.csv', index=False)\n",
    "\n",
    "excel_water_an.to_csv(save_dir+'Water_analysis.csv', index=False)"
   ]
  },
  {
   "cell_type": "code",
   "execution_count": 125,
   "id": "accepting-narrative",
   "metadata": {},
   "outputs": [
    {
     "name": "stdout",
     "output_type": "stream",
     "text": [
      "source_bh:0 ; source_pz:14 ; source_litho:0 ; source_Fac-uknw:0 ; source_an:29 ;\n",
      "source_prv_sol:29 ;source_prv_eau:17 ; source_mes_pz:0 ; source_mes_sol:0 ;\n"
     ]
    }
   ],
   "source": [
    "if not os.path.exists(tmp_dir):\n",
    "    os.makedirs(tmp_dir)\n",
    "\n",
    "#bh.to_csv(tmp_dir+'source_Boreholes.csv', index=False)\n",
    "pz.to_csv(tmp_dir+sheet+'_Piezometers.csv', index=False)\n",
    "#ouv.to_csv(tmp_dir+sheet+'_Unkown-facility.csv', index=False)\n",
    "#litho.to_csv(tmp_dir+sheet+'_Lithology.csv', index=False)\n",
    "#mes_pz.to_csv(tmp_dir+sheet+'_Measures.csv', index=False)\n",
    "#mes_sol.to_csv(tmp_dir+sheet+'_Measures-soil.csv', index=False)\n",
    "prv_eau.to_csv(tmp_dir+sheet+'_Samples-water.csv', index=False)\n",
    "#prv_sol.to_csv(tmp_dir+sheet+'_Samples-soil.csv', index=False)\n",
    "an.to_csv(tmp_dir+sheet+'_Analysis.csv', index=False)\n",
    "\n",
    "\n",
    "#source_bh.to_csv(tmp_dir+'source_Boreholes.csv', index=False)\n",
    "source_pz.to_csv(tmp_dir+'source_Piezometers.csv', index=False)\n",
    "#source_ouv.to_csv(tmp_dir+'source_Unkown-facility.csv', index=False)\n",
    "#source_litho.to_csv(tmp_dir+'source_Lithology.csv', index=False)\n",
    "#source_mes_pz.to_csv(tmp_dir+'source_Measures.csv', index=False)\n",
    "#source_mes_sol.to_csv(tmp_dir+'source_Measures-soil.csv', index=False)\n",
    "source_prv_eau.to_csv(tmp_dir+'source_Samples-water.csv', index=False)\n",
    "#source_prv_sol.to_csv(tmp_dir+'source_Samples-soil.csv', index=False)\n",
    "source_an.to_csv(tmp_dir+'source_Analysis.csv', index=False)\n",
    "\n",
    "\n",
    "print(f'source_bh:{len(source_bh)} ; source_pz:{len(source_pz)} ; source_litho:{len(source_litho)} ; '\n",
    "     f'source_Fac-uknw:{len(source_ouv)} ; source_an:{len(source_an)} ;\\nsource_prv_sol:{len(source_prv_sol)} ;'\n",
    "     f'source_prv_eau:{len(source_prv_eau)} ; source_mes_pz:{len(source_mes_pz)} ; source_mes_sol:{len(source_mes_sol)} ;')"
   ]
  },
  {
   "cell_type": "markdown",
   "id": "western-concord",
   "metadata": {},
   "source": [
    "## 8-Résultats phase 2_MEMORIS.xls\n",
    "* **Sheet : 'Résult SOL'**"
   ]
  },
  {
   "cell_type": "code",
   "execution_count": 126,
   "id": "backed-manitoba",
   "metadata": {},
   "outputs": [],
   "source": [
    "# New file, so the source variables must be overwritten !!\n",
    "_df=pd.DataFrame()\n",
    "source_mes_pz, source_mes_sol, source_pz, source_prv_eau, source_prv_sol =  _df, _df, _df, _df, _df\n",
    "source_ouv, source_an, source_litho, source_bh = _df, _df, _df, _df"
   ]
  },
  {
   "cell_type": "code",
   "execution_count": 127,
   "id": "conceptual-youth",
   "metadata": {},
   "outputs": [],
   "source": [
    "tmp_dir='../../CF_data/Result_traitem/Phase_2_Memoris/'\n",
    "sheet='Result_SOL'"
   ]
  },
  {
   "cell_type": "code",
   "execution_count": 128,
   "id": "thick-black",
   "metadata": {},
   "outputs": [
    {
     "name": "stdout",
     "output_type": "stream",
     "text": [
      "1 NaN lines dropped\n",
      "\n",
      "Columns dropped :['Unnamed: 0', 'Unnamed: 2']\n",
      "\n",
      "Rows : 135, columns : 31\n"
     ]
    },
    {
     "name": "stderr",
     "output_type": "stream",
     "text": [
      "/home/yanathan/.local/share/virtualenvs/GSDMA-DRfwm83x/lib/python3.8/site-packages/pandas/core/frame.py:4901: SettingWithCopyWarning: \n",
      "A value is trying to be set on a copy of a slice from a DataFrame\n",
      "\n",
      "See the caveats in the documentation: https://pandas.pydata.org/pandas-docs/stable/user_guide/indexing.html#returning-a-view-versus-a-copy\n",
      "  return super().drop(\n"
     ]
    },
    {
     "data": {
      "application/vnd.jupyter.widget-view+json": {
       "model_id": "2305be11893c45deb2f37173aa209369",
       "version_major": 2,
       "version_minor": 0
      },
      "text/plain": [
       "interactive(children=(IntSlider(value=5, description='rows', max=135, min=5, readout=False), IntSlider(value=1…"
      ]
     },
     "metadata": {},
     "output_type": "display_data"
    }
   ],
   "source": [
    "df = pd.read_excel('../../CF_data/Data_UMONS/Contamination/Résultats et mesures Siterem/résultats phase 2/'\n",
    "                   'Résultats phase 2_MEMORIS.xls', sheet_name='Résult SOL', skiprows=4)\n",
    "df=na_line_drop(df,0)\n",
    "df=na_col_drop(df,1)\n",
    "df.replace(r'<|>','', inplace=True, regex=True)\n",
    "df.replace(r'-$',np.nan, inplace=True, regex=True)\n",
    "dataframe_viewer(df, rows=5)"
   ]
  },
  {
   "cell_type": "code",
   "execution_count": 129,
   "id": "seven-roman",
   "metadata": {},
   "outputs": [],
   "source": [
    "prv_sol=df.loc[:35]\n",
    "an=df.loc[36:]"
   ]
  },
  {
   "cell_type": "code",
   "execution_count": 130,
   "id": "metropolitan-adelaide",
   "metadata": {},
   "outputs": [
    {
     "name": "stderr",
     "output_type": "stream",
     "text": [
      "/home/yanathan/.local/share/virtualenvs/GSDMA-DRfwm83x/lib/python3.8/site-packages/pandas/core/indexing.py:723: SettingWithCopyWarning: \n",
      "A value is trying to be set on a copy of a slice from a DataFrame\n",
      "\n",
      "See the caveats in the documentation: https://pandas.pydata.org/pandas-docs/stable/user_guide/indexing.html#returning-a-view-versus-a-copy\n",
      "  iloc._setitem_with_indexer(indexer, value, self.name)\n"
     ]
    }
   ],
   "source": [
    "an.loc[0.5] = df.loc[1] # put data on first line\n",
    "an = an.sort_index().reset_index(drop=True)"
   ]
  },
  {
   "cell_type": "code",
   "execution_count": 131,
   "id": "neither-scanner",
   "metadata": {},
   "outputs": [],
   "source": [
    "prv_sol=prv_sol.transpose()\n",
    "prv_sol.reset_index(drop=True, inplace=True)\n",
    "prv_sol=col_ren(prv_sol, 1)"
   ]
  },
  {
   "cell_type": "code",
   "execution_count": 132,
   "id": "constant-showcase",
   "metadata": {},
   "outputs": [
    {
     "name": "stdout",
     "output_type": "stream",
     "text": [
      "\n",
      "Columns dropped :['col_0', \"Nom / description d'échantillon\", \"Nature de l'étude (*)\", 'Terrain', 'Epaisseur de remblais', 'Epaisseur alluvions', \"Nature de l'observation organoleptique\", 'LOCALISATION/AFFECTATION(S) - USAGE(S)', 'zone', 'parcelle (selon dénom.)', \"Type d'usage de fait actuel\", \"Type d'usage de fait futur\", \"Type d'usage utilisé pour comparer les résultats\", 'Lieux de prélèvement', 'X Lambert', 'Y Lambert', 'DESCRIPTION SOMMAIRE', 'Type de recouvrement de surface (***)', 'Sol en place (S : souillé, NS : non souillé)', 'Remblais de terre (S : souillé, NS : non souillé)', 'Remblais technique (S : souillé, NS : non souillé)', 'Déchet', 'Matières organiques', 'GRANULOMETRIE', 'Fraction argileuse']\n",
      "\n"
     ]
    }
   ],
   "source": [
    "prv_sol.drop(list(range(5)), axis=0, inplace=True)\n",
    "prv_sol.reset_index(drop=True, inplace=True)\n",
    "prv_sol=na_col_drop(prv_sol,1)\n",
    "prv_sol=na_line_drop(prv_sol,3)\n",
    "prv_sol.reset_index(drop=True, inplace=True)"
   ]
  },
  {
   "cell_type": "code",
   "execution_count": 133,
   "id": "derived-bookmark",
   "metadata": {},
   "outputs": [],
   "source": [
    "name=['ID_ech', 'Date_prv', 'Description','Organo', 'Long_for', 'Refus','Ech_top', 'Ech_base', 'MS','Fract_2','Fract_2+']\n",
    "prv_sol=col_ren(prv_sol, name=name, mode=1)"
   ]
  },
  {
   "cell_type": "code",
   "execution_count": 134,
   "id": "thirty-disease",
   "metadata": {},
   "outputs": [
    {
     "data": {
      "text/plain": [
       "{'L', 'LA', 'LS', 'R'}"
      ]
     },
     "execution_count": 134,
     "metadata": {},
     "output_type": "execute_result"
    }
   ],
   "source": [
    "set(prv_sol['Description'])"
   ]
  },
  {
   "cell_type": "code",
   "execution_count": 135,
   "id": "defensive-compilation",
   "metadata": {},
   "outputs": [],
   "source": [
    "for i in range(len(prv_sol['Description'])):\n",
    "    x = prv_sol.loc[i,'Description']\n",
    "    if x=='R': prv_sol.loc[i,'Description']='Remblais'\n",
    "    elif x=='L': prv_sol.loc[i,'Description']='Limons'\n",
    "    elif x=='LA': prv_sol.loc[i,'Description']='Limons et argiles'\n",
    "    elif x=='LS': prv_sol.loc[i,'Description']='Limons et sables'\n",
    "\n",
    "prv_sol['Refus']=prv_sol['Refus'].apply(lambda x: 'x' if not re.search('#', str(x)) else '')\n",
    "prv_sol.insert(1,'Type_ech','Sol')"
   ]
  },
  {
   "cell_type": "code",
   "execution_count": 136,
   "id": "tracked-verification",
   "metadata": {
    "scrolled": false
   },
   "outputs": [
    {
     "name": "stdout",
     "output_type": "stream",
     "text": [
      "Rows : 25, columns : 12\n"
     ]
    },
    {
     "data": {
      "application/vnd.jupyter.widget-view+json": {
       "model_id": "8f04c9e49dd64bbeb59ea89b3cb75857",
       "version_major": 2,
       "version_minor": 0
      },
      "text/plain": [
       "interactive(children=(IntSlider(value=3, description='rows', max=25, min=3, readout=False), IntSlider(value=12…"
      ]
     },
     "metadata": {},
     "output_type": "display_data"
    }
   ],
   "source": [
    "dataframe_viewer(prv_sol, rows=3)"
   ]
  },
  {
   "cell_type": "code",
   "execution_count": 137,
   "id": "adjusted-anger",
   "metadata": {},
   "outputs": [],
   "source": [
    "an=an.transpose()\n",
    "an.reset_index(drop=True, inplace=True)"
   ]
  },
  {
   "cell_type": "code",
   "execution_count": 138,
   "id": "impaired-listing",
   "metadata": {},
   "outputs": [],
   "source": [
    "an=col_ren(an, 1)"
   ]
  },
  {
   "cell_type": "code",
   "execution_count": 139,
   "id": "ecological-arlington",
   "metadata": {},
   "outputs": [],
   "source": [
    "an.replace(r'<|>','', inplace=True, regex=True)\n",
    "an.replace(r'-',np.nan, inplace=True, regex=True)\n",
    "an.rename(columns={an.columns[0]:'ID_ech'}, inplace=True)"
   ]
  },
  {
   "cell_type": "code",
   "execution_count": 140,
   "id": "relative-affiliation",
   "metadata": {},
   "outputs": [
    {
     "name": "stdout",
     "output_type": "stream",
     "text": [
      "\n",
      "Columns dropped :['METAUX LOURDS', 'CYANURES', 'COMPOSES AROMATIQUES VOLATILS', 'BTEX totaux', 'PHENOLS', 'Phénol', 'Indice phénol', 'HYDROCARBURES AROMATIQUES POLYCYCLIQUES', 'COMPOSES ORGANOHALOGENES VOLATILS', '1,1-Dichloroéthane', '1,2-Dichloroéthane', '1,1-dichloroéthène', 'Cis-1,2-dichloroéthène', 'Trans 1,2-dichloroéthylène', 'Dichlorométhane', 'Totaux (cis,trans) 1,2-dichloroéthènes', '1,2-dichloropropane', 'Tétrachloroéthylène', 'Tétrachlorométhane', '1,1,1-Trichloroéthane', '1,1,2-Trichloroéthane', 'Trichloroéthylène', 'Chloroforme', 'Chlorure de vinyle', 'col_63', 'EOX (****)', 'HYDROCARBURES TOTAUX', 'Fraction C35 - C40', 'Hydrocarbures totaux C10-C40', 'METHYL-TERT-BUTYL-ETHER', 'MTBE', 'POLYCHLOROBIPHENYL (PCB)', 'PCB 28', 'PCB 52', 'PCB 101', 'PCB 118', 'PCB 138', 'PCB 153', 'PCB 180', 'PCB totaux (7)', 'F4/2M*', 'Teneur mesurée', 'Teneur mesurée (souligne/gras)', 'Teneur mesurée (gras/grisé)', \"(*) CP = Campagne de prélèvements; Ex = Expertise; ES = Etude de sol; EO = Etude d'orientation; EC = Etude de caractérisation; SA = Suivi d'assainissement\", '(**) L: limon, A: Argile, S: Sable, R: Remblai', '(***) ib : imperméable (béton) ; ih : imperméable hydrocarboné ; p : perméable (gravier, fissuré,…) ; tvh : terres végétation haute ; tvb : terres végétation basse ', '(****) 3 mg/kg = Seuil limite défini dans le GREO ']\n",
      "\n"
     ]
    }
   ],
   "source": [
    "an.drop(list(range(5)), axis=0, inplace=True)\n",
    "an=na_col_drop(an,1)\n",
    "an.insert(1,'Type_ech','Sol')"
   ]
  },
  {
   "cell_type": "code",
   "execution_count": 141,
   "id": "robust-waters",
   "metadata": {},
   "outputs": [],
   "source": [
    "an=col_ren(an, name=pol_field_model, mode=1)"
   ]
  },
  {
   "cell_type": "code",
   "execution_count": 142,
   "id": "sonic-governor",
   "metadata": {},
   "outputs": [
    {
     "name": "stdout",
     "output_type": "stream",
     "text": [
      "Rows : 25, columns : 53\n"
     ]
    },
    {
     "data": {
      "application/vnd.jupyter.widget-view+json": {
       "model_id": "c0d35016f0be4ccf9bbc3af3cf825dc8",
       "version_major": 2,
       "version_minor": 0
      },
      "text/plain": [
       "interactive(children=(IntSlider(value=5, description='rows', max=25, min=5, readout=False), IntSlider(value=20…"
      ]
     },
     "metadata": {},
     "output_type": "display_data"
    }
   ],
   "source": [
    "dataframe_viewer(an, rows=5, cols=20) "
   ]
  },
  {
   "cell_type": "code",
   "execution_count": 143,
   "id": "printable-testimony",
   "metadata": {},
   "outputs": [],
   "source": [
    "source_prv_sol=prv_sol\n",
    "source_an=an"
   ]
  },
  {
   "cell_type": "code",
   "execution_count": 144,
   "id": "8444d673",
   "metadata": {},
   "outputs": [],
   "source": [
    "excel_soil_an, conflict_df = data_merger(prv_sol, an, how='outer', on='ID_ech', dist_max=1., drop_skip_col=['index'])"
   ]
  },
  {
   "cell_type": "code",
   "execution_count": 145,
   "id": "1f504ec9",
   "metadata": {},
   "outputs": [],
   "source": [
    "excel_soil_an['ID'] = excel_soil_an['ID_ech'].apply(lambda x: x.split('/')[0]) "
   ]
  },
  {
   "cell_type": "code",
   "execution_count": 146,
   "id": "cc712c23",
   "metadata": {},
   "outputs": [],
   "source": [
    "save_dir = tmp_dir + 'Final_merge/final_'\n",
    "if not os.path.exists(save_dir):\n",
    "    os.makedirs(save_dir)\n",
    "\n",
    "#excel_bhs.to_csv(save_dir + 'Boreholes.csv', index=False)\n",
    "#excel_bh_litho.to_csv(save_dir+'Lithologies.csv', index=False)\n",
    "#excel_bh_equip.to_csv(save_dir+'Equipments.csv', index=False)\n",
    "#excel_bh_soil_sp.to_csv(save_dir+'Soil_samples.csv', index=False)\n",
    "#excel_bh_water_sp.to_csv(save_dir+'Water_samples.csv', index=False)\n",
    "#excel_bh_soil_an.to_csv(save_dir+'Soil_analysis.csv', index=False)\n",
    "#excel_bh_water_an.to_csv(save_dir+'water_analysis.csv', index=False)\n",
    "#excel_bh_mes.to_csv(save_dir+'Measures.csv', index=False)\n",
    "#excel_bh_fac.to_csv(save_dir+'Unknow_facilities.csv', index=False)\n",
    "\n",
    "excel_soil_an.to_csv(save_dir+'Soil_analysis.csv', index=False)"
   ]
  },
  {
   "cell_type": "code",
   "execution_count": 147,
   "id": "cooperative-statistics",
   "metadata": {
    "scrolled": true
   },
   "outputs": [
    {
     "name": "stdout",
     "output_type": "stream",
     "text": [
      "source_bh:0 ; source_pz:0 ; source_litho:0 ; source_Fac-uknw:0 ; source_an:25 ;\n",
      "source_prv_sol:25 ;source_prv_eau:0 ; source_mes_pz:0 ; source_mes_sol:0 ;\n"
     ]
    }
   ],
   "source": [
    "if not os.path.exists(tmp_dir):\n",
    "    os.makedirs(tmp_dir)\n",
    "\n",
    "#bh.to_csv(tmp_dir+'source_Boreholes.csv', index=False)\n",
    "#pz.to_csv(tmp_dir+sheet+'_Piezometers.csv', index=False)\n",
    "#ouv.to_csv(tmp_dir+sheet+'_Unkown-facility.csv', index=False)\n",
    "#litho.to_csv(tmp_dir+sheet+'_Lithology.csv', index=False)\n",
    "#mes_pz.to_csv(tmp_dir+sheet+'_Measures.csv', index=False)\n",
    "#mes_sol.to_csv(tmp_dir+sheet+'_Measures-soil.csv', index=False)\n",
    "#prv_eau.to_csv(tmp_dir+sheet+'_Samples-water.csv', index=False)\n",
    "prv_sol.to_csv(tmp_dir+sheet+'_Samples-soil.csv', index=False)\n",
    "an.to_csv(tmp_dir+sheet+'_Analysis.csv', index=False)\n",
    "\n",
    "\n",
    "#source_bh.to_csv(tmp_dir+'source_Boreholes.csv', index=False)\n",
    "#source_pz.to_csv(tmp_dir+'source_Piezometers.csv', index=False)\n",
    "#source_ouv.to_csv(tmp_dir+'source_Unkown-facility.csv', index=False)\n",
    "#source_litho.to_csv(tmp_dir+'source_Lithology.csv', index=False)\n",
    "#source_mes_pz.to_csv(tmp_dir+'source_Measures.csv', index=False)\n",
    "#source_mes_sol.to_csv(tmp_dir+'source_Measures-soil.csv', index=False)\n",
    "#source_prv_eau.to_csv(tmp_dir+'source_Samples-water.csv', index=False)\n",
    "source_prv_sol.to_csv(tmp_dir+'source_Samples-soil.csv', index=False)\n",
    "source_an.to_csv(tmp_dir+'source_Analysis.csv', index=False)\n",
    "\n",
    "\n",
    "print(f'source_bh:{len(source_bh)} ; source_pz:{len(source_pz)} ; source_litho:{len(source_litho)} ; '\n",
    "     f'source_Fac-uknw:{len(source_ouv)} ; source_an:{len(source_an)} ;\\nsource_prv_sol:{len(source_prv_sol)} ;'\n",
    "     f'source_prv_eau:{len(source_prv_eau)} ; source_mes_pz:{len(source_mes_pz)} ; source_mes_sol:{len(source_mes_sol)} ;')"
   ]
  },
  {
   "cell_type": "markdown",
   "id": "indian-testament",
   "metadata": {},
   "source": [
    "* **Sheet : 'Résult EAU'**"
   ]
  },
  {
   "cell_type": "code",
   "execution_count": 148,
   "id": "certain-vienna",
   "metadata": {},
   "outputs": [],
   "source": [
    "tmp_dir='../../CF_data/Result_traitem/Phase_2_Memoris/'\n",
    "sheet='Result_eau'"
   ]
  },
  {
   "cell_type": "code",
   "execution_count": 149,
   "id": "accredited-costs",
   "metadata": {},
   "outputs": [
    {
     "name": "stdout",
     "output_type": "stream",
     "text": [
      "\n",
      "Columns dropped :['Unnamed: 0', 'Unnamed: 2']\n",
      "\n",
      "Rows : 138, columns : 17\n"
     ]
    },
    {
     "data": {
      "application/vnd.jupyter.widget-view+json": {
       "model_id": "5b5c1126db924f74b535cf4f0b86a172",
       "version_major": 2,
       "version_minor": 0
      },
      "text/plain": [
       "interactive(children=(IntSlider(value=5, description='rows', max=138, min=5, readout=False), IntSlider(value=1…"
      ]
     },
     "metadata": {},
     "output_type": "display_data"
    }
   ],
   "source": [
    "df = pd.read_excel('../../CF_data/Data_UMONS/Contamination/Résultats et mesures Siterem/résultats phase 2/'\n",
    "                   'Résultats phase 2_MEMORIS.xls', sheet_name='Résult EAU', skiprows=4)\n",
    "df=na_line_drop(df,0)\n",
    "df=na_col_drop(df,1)\n",
    "df.replace(r'<|>','', inplace=True, regex=True)\n",
    "df.replace(r'-$',np.nan, inplace=True, regex=True)\n",
    "\n",
    "dataframe_viewer(df, rows=5)"
   ]
  },
  {
   "cell_type": "code",
   "execution_count": 150,
   "id": "parliamentary-flower",
   "metadata": {},
   "outputs": [],
   "source": [
    "prv_eau=df.loc[:32]\n",
    "an=df.loc[33:]"
   ]
  },
  {
   "cell_type": "code",
   "execution_count": 151,
   "id": "complicated-objective",
   "metadata": {},
   "outputs": [
    {
     "name": "stderr",
     "output_type": "stream",
     "text": [
      "/home/yanathan/.local/share/virtualenvs/GSDMA-DRfwm83x/lib/python3.8/site-packages/pandas/core/indexing.py:723: SettingWithCopyWarning: \n",
      "A value is trying to be set on a copy of a slice from a DataFrame\n",
      "\n",
      "See the caveats in the documentation: https://pandas.pydata.org/pandas-docs/stable/user_guide/indexing.html#returning-a-view-versus-a-copy\n",
      "  iloc._setitem_with_indexer(indexer, value, self.name)\n"
     ]
    }
   ],
   "source": [
    "an.loc[0.5] = df.loc[1] # put data on first line\n",
    "an = an.sort_index().reset_index(drop=True)"
   ]
  },
  {
   "cell_type": "code",
   "execution_count": 152,
   "id": "exempt-korea",
   "metadata": {},
   "outputs": [],
   "source": [
    "prv_eau=prv_eau.transpose()\n",
    "prv_eau.reset_index(drop=True, inplace=True)\n",
    "prv_eau=col_ren(prv_eau, 1)"
   ]
  },
  {
   "cell_type": "code",
   "execution_count": 153,
   "id": "indie-scanning",
   "metadata": {},
   "outputs": [],
   "source": [
    "prv_eau['CE']=prv_eau['CE'].apply(lambda x: pd.to_numeric(x)/1000 \n",
    "                                  if re.search('^\\d+', str(x)) and not pd.isnull(x) else np.nan)"
   ]
  },
  {
   "cell_type": "code",
   "execution_count": 154,
   "id": "chinese-analyst",
   "metadata": {},
   "outputs": [],
   "source": [
    "prv_eau.drop(list(range(5)), axis=0, inplace=True)\n",
    "prv_eau.reset_index(drop=True, inplace=True)"
   ]
  },
  {
   "cell_type": "code",
   "execution_count": 155,
   "id": "distributed-sudan",
   "metadata": {},
   "outputs": [
    {
     "name": "stdout",
     "output_type": "stream",
     "text": [
      "column(s) dropped: ['21:DESCRIPTION SOMMAIRE', '27:Prof. arrêt du forage']\n"
     ]
    }
   ],
   "source": [
    "prv_eau=dble_col_drop(prv_eau)"
   ]
  },
  {
   "cell_type": "raw",
   "id": "flying-violence",
   "metadata": {},
   "source": [
    "prv_eau.drop(columns=prv_eau.columns[[8,16,21,27]], axis=1, inplace=True) "
   ]
  },
  {
   "cell_type": "code",
   "execution_count": 156,
   "id": "american-section",
   "metadata": {},
   "outputs": [
    {
     "name": "stdout",
     "output_type": "stream",
     "text": [
      "\n",
      "Columns dropped :['Nom du piézomètre', \"Nature de l'étude (*)\", 'Observations organoleptiques', 'LOCALISATION/AFFECTATION(S) - USAGE(S)', 'Numéro de maille', 'parcelle (selon dénom.)', \"Type d'usage de fait actuel\", \"Type d'usage de fait futur\", \"Type d'usage utilisé pour comparer les résultats\", 'Lieux de prélèvement', 'DESCRIPTION SOMMAIRE', 'Type de recouvrement de surface (**)', 'Sol en place (S : souillé, NS : non souillé)', 'Remblais de terre (S : souillé, NS : non souillé)', 'Remblais technique (S : souillé, NS : non souillé)', 'Déchet', 'PARAMETRES PHYSICO-CHIMIQUES ', 'ORP']\n",
      "\n"
     ]
    }
   ],
   "source": [
    "prv_eau=na_col_drop(prv_eau,1)\n",
    "prv_eau=na_line_drop(prv_eau,3)\n",
    "prv_eau.reset_index(drop=True, inplace=True)"
   ]
  },
  {
   "cell_type": "code",
   "execution_count": 157,
   "id": "bottom-venice",
   "metadata": {},
   "outputs": [
    {
     "data": {
      "text/plain": [
       "Index(['col_1', 'Date de prélèvement', 'Type d'affectation (Plan de secteur)',\n",
       "       'X Lambert', 'Y Lambert', 'Z Sol', 'Prof. arrêt du forage',\n",
       "       'Profondeur crépine ', 'Prof. piézo/sol mesurée sur site',\n",
       "       'Niveau de la nappe/sol', 'pH', 'CE', 'T'],\n",
       "      dtype='object')"
      ]
     },
     "execution_count": 157,
     "metadata": {},
     "output_type": "execute_result"
    }
   ],
   "source": [
    "prv_eau.columns"
   ]
  },
  {
   "cell_type": "code",
   "execution_count": 158,
   "id": "harmful-burns",
   "metadata": {},
   "outputs": [],
   "source": [
    "name=['ID_ech', 'Date_prv','Affectation','X', 'Y','Zsol', 'Long_for','Prof_crep','Long_pz_sol',\n",
    "      'Niv_eau_sol','pH', 'CE', 'T']\n",
    "prv_eau=col_ren(prv_eau, name=name, mode=1)\n",
    "prv_eau.insert(1,'Type_ech','Eau')"
   ]
  },
  {
   "cell_type": "code",
   "execution_count": 159,
   "id": "furnished-premium",
   "metadata": {
    "scrolled": true
   },
   "outputs": [],
   "source": [
    "prv_eau['ID_ech'].replace('Canne ', 'Can', inplace=True, regex=True)\n",
    "prv_eau['ID_ech'].replace('\\n', ' ', inplace=True, regex=True)"
   ]
  },
  {
   "cell_type": "code",
   "execution_count": 160,
   "id": "earlier-edgar",
   "metadata": {},
   "outputs": [],
   "source": [
    "prv_eau['Prof_crep'].replace('\\[|\\]','', regex=True, inplace=True)\n",
    "for i in range(len(prv_eau)):\n",
    "    c=prv_eau.loc[i,'Prof_crep']\n",
    "    prv_eau.loc[i,'Equip_top']=c.split('-')[0]\n",
    "    prv_eau.loc[i,'Equip_base']=c.split('-')[1]\n",
    "    \n",
    "prv_eau.drop(columns=['Prof_crep'], inplace=True)\n",
    "prv_eau['Type_equip'] = 'Crepine'"
   ]
  },
  {
   "cell_type": "code",
   "execution_count": 161,
   "id": "comprehensive-origin",
   "metadata": {},
   "outputs": [],
   "source": [
    "prv_eau['ID_ech'].replace('Canne ', 'Can', inplace=True, regex=True)\n",
    "prv_eau['ID_ech'].replace('\\n', ' ', inplace=True, regex=True)"
   ]
  },
  {
   "cell_type": "code",
   "execution_count": 162,
   "id": "friendly-ukraine",
   "metadata": {},
   "outputs": [
    {
     "name": "stderr",
     "output_type": "stream",
     "text": [
      "/home/yanathan/.local/share/virtualenvs/GSDMA-DRfwm83x/lib/python3.8/site-packages/pandas/core/frame.py:5034: SettingWithCopyWarning: \n",
      "A value is trying to be set on a copy of a slice from a DataFrame\n",
      "\n",
      "See the caveats in the documentation: https://pandas.pydata.org/pandas-docs/stable/user_guide/indexing.html#returning-a-view-versus-a-copy\n",
      "  return super().rename(\n",
      "/home/yanathan/.local/share/virtualenvs/GSDMA-DRfwm83x/lib/python3.8/site-packages/pandas/core/frame.py:3607: SettingWithCopyWarning: \n",
      "A value is trying to be set on a copy of a slice from a DataFrame.\n",
      "Try using .loc[row_indexer,col_indexer] = value instead\n",
      "\n",
      "See the caveats in the documentation: https://pandas.pydata.org/pandas-docs/stable/user_guide/indexing.html#returning-a-view-versus-a-copy\n",
      "  self._set_item(key, value)\n"
     ]
    }
   ],
   "source": [
    "pz=prv_eau[['ID_ech', 'X', 'Y', 'Zsol', 'Long_for','Long_pz_sol', 'Equip_top', 'Equip_base']]\n",
    "pz.rename(columns={'ID_ech':'ID'}, inplace=True)\n",
    "pz['Type']='Piezo'"
   ]
  },
  {
   "cell_type": "code",
   "execution_count": 163,
   "id": "sticky-childhood",
   "metadata": {},
   "outputs": [
    {
     "name": "stderr",
     "output_type": "stream",
     "text": [
      "/home/yanathan/.local/share/virtualenvs/GSDMA-DRfwm83x/lib/python3.8/site-packages/pandas/core/indexing.py:1817: SettingWithCopyWarning: \n",
      "A value is trying to be set on a copy of a slice from a DataFrame.\n",
      "Try using .loc[row_indexer,col_indexer] = value instead\n",
      "\n",
      "See the caveats in the documentation: https://pandas.pydata.org/pandas-docs/stable/user_guide/indexing.html#returning-a-view-versus-a-copy\n",
      "  self._setitem_single_column(loc, value, pi)\n"
     ]
    }
   ],
   "source": [
    "for i in range(len(pz.ID)):\n",
    "    c=pz.loc[i, 'ID']\n",
    "    pz.loc[i, 'ID']=re.search(\"(\\w+\\d+(?:\\w)?)\",c).group(1)"
   ]
  },
  {
   "cell_type": "code",
   "execution_count": 164,
   "id": "hollywood-parade",
   "metadata": {},
   "outputs": [
    {
     "name": "stderr",
     "output_type": "stream",
     "text": [
      "/home/yanathan/.local/share/virtualenvs/GSDMA-DRfwm83x/lib/python3.8/site-packages/pandas/util/_decorators.py:311: SettingWithCopyWarning: \n",
      "A value is trying to be set on a copy of a slice from a DataFrame\n",
      "\n",
      "See the caveats in the documentation: https://pandas.pydata.org/pandas-docs/stable/user_guide/indexing.html#returning-a-view-versus-a-copy\n",
      "  return func(*args, **kwargs)\n"
     ]
    }
   ],
   "source": [
    "pz.drop_duplicates(subset=['ID'], keep='first', ignore_index=True, inplace=True)"
   ]
  },
  {
   "cell_type": "code",
   "execution_count": 165,
   "id": "informative-progress",
   "metadata": {},
   "outputs": [],
   "source": [
    "prv_eau=prv_eau[['ID_ech', 'Date_prv', 'X', 'Y', 'Zsol','Niv_eau_sol', 'pH', 'CE', 'T','Affectation']]"
   ]
  },
  {
   "cell_type": "code",
   "execution_count": 166,
   "id": "abstract-steel",
   "metadata": {
    "scrolled": false
   },
   "outputs": [
    {
     "name": "stdout",
     "output_type": "stream",
     "text": [
      "Rows : 11, columns : 10\n"
     ]
    },
    {
     "data": {
      "application/vnd.jupyter.widget-view+json": {
       "model_id": "ec410f7852724eed90f4855eaf6f9952",
       "version_major": 2,
       "version_minor": 0
      },
      "text/plain": [
       "interactive(children=(IntSlider(value=5, description='rows', max=11, min=5, readout=False), IntSlider(value=10…"
      ]
     },
     "metadata": {},
     "output_type": "display_data"
    }
   ],
   "source": [
    "dataframe_viewer(prv_eau, rows=5)"
   ]
  },
  {
   "cell_type": "code",
   "execution_count": 167,
   "id": "forced-imaging",
   "metadata": {},
   "outputs": [],
   "source": [
    "an=an.transpose()\n",
    "an.reset_index(drop=True, inplace=True)"
   ]
  },
  {
   "cell_type": "code",
   "execution_count": 168,
   "id": "representative-firewall",
   "metadata": {},
   "outputs": [],
   "source": [
    "an=col_ren(an, 1)"
   ]
  },
  {
   "cell_type": "code",
   "execution_count": 169,
   "id": "incomplete-clark",
   "metadata": {},
   "outputs": [],
   "source": [
    "an.replace(r'<|>','', inplace=True, regex=True)\n",
    "an.replace(r'-',np.nan, inplace=True, regex=True)\n",
    "an.rename(columns={an.columns[0]:'ID_ech'}, inplace=True)"
   ]
  },
  {
   "cell_type": "code",
   "execution_count": 170,
   "id": "neither-transfer",
   "metadata": {},
   "outputs": [],
   "source": [
    "an.drop(list(range(5)), axis=0, inplace=True)\n",
    "an.reset_index(drop=True, inplace=True)"
   ]
  },
  {
   "cell_type": "code",
   "execution_count": 171,
   "id": "written-humanity",
   "metadata": {},
   "outputs": [
    {
     "name": "stdout",
     "output_type": "stream",
     "text": [
      "\n",
      "Columns dropped :['METAUX LOURDS', 'Chrome VI', 'CYANURES', 'COMPOSES AROMATIQUES VOLATILS', 'PHENOLS', 'crésols (total)', 'CHLOROPHENOLS', '2-chlorophénol', 'monochlorophénol total', 'dichlorophénol total', '2,4,5-trichlorophénol', '2,4,6-trichlorophénol', 'trichlorophénol total', '2,3,4,6- tétrachlorophénol', 'tétrachlorophénol total', 'pentachlorophénol', 'HYDROCARBURES AROMATIQUES POLYCYCLIQUES', 'COMPOSES ORGANOCHLORES VOLATILS', 'CHLOROBENZENES', 'monochlorobenzène', '1,3-dichlorobenzène', '1,2-dichlorobenzène', '1,4-Dichlorobenzène', '1,2,4,5- et 1,2,3,5-tétrachlorobenzènes', 'pentachlorobenzène', 'hexachlorobenzène', 'HYDROCARBURES TOTAUX', 'METHYL-TERT-BUTYL-ETHER', 'POLYCHLOROBIPHENYLS (PCB)', 'PCB totaux (7)', 'AUTRES ANALYSES ', 'Teneur mesurée (souligne/gras)', 'Teneur mesurée (gras/grisé)', \"(*) CP = Campagne de prélèvements; Ex = Expertise; ES = Etude de sol; EO = Etude d'orientation; EC = Etude de caractérisation; SA = Suivi d'assainissement\", '(**) ib : imperméable (béton) ; ih : imperméable hydrocarboné ; p : perméable (gravier, fissuré,…) ; tvh : terres végétation haute ; tvb : terres végétation basse ']\n",
      "\n"
     ]
    }
   ],
   "source": [
    "an.drop(columns=an.columns[[-6,-5]], axis=1, inplace=True)\n",
    "an=na_col_drop(an,1)\n",
    "an.insert(1,'Type_ech','Eau')"
   ]
  },
  {
   "cell_type": "code",
   "execution_count": 172,
   "id": "enclosed-abuse",
   "metadata": {},
   "outputs": [],
   "source": [
    "an=col_ren(an, name=pol_field_model, mode=1)"
   ]
  },
  {
   "cell_type": "code",
   "execution_count": 173,
   "id": "wired-flower",
   "metadata": {},
   "outputs": [
    {
     "name": "stdout",
     "output_type": "stream",
     "text": [
      "Rows : 11, columns : 70\n"
     ]
    },
    {
     "data": {
      "application/vnd.jupyter.widget-view+json": {
       "model_id": "ed39061185c7469b8d1f53791837855c",
       "version_major": 2,
       "version_minor": 0
      },
      "text/plain": [
       "interactive(children=(IntSlider(value=5, description='rows', max=11, min=5, readout=False), IntSlider(value=12…"
      ]
     },
     "metadata": {},
     "output_type": "display_data"
    }
   ],
   "source": [
    "dataframe_viewer(an, rows=5) "
   ]
  },
  {
   "cell_type": "code",
   "execution_count": 174,
   "id": "located-factor",
   "metadata": {},
   "outputs": [],
   "source": [
    "source_prv_eau=prv_eau\n",
    "source_an=source_an.append(an)"
   ]
  },
  {
   "cell_type": "code",
   "execution_count": 175,
   "id": "annoying-hawaii",
   "metadata": {
    "scrolled": true
   },
   "outputs": [
    {
     "name": "stdout",
     "output_type": "stream",
     "text": [
      "source_bh:0 ; source_pz:0 ; source_litho:0 ; source_Fac-uknw:0 ; source_an:36 ;\n",
      "source_prv_sol:25 ;source_prv_eau:11 ; source_mes_pz:0 ; source_mes_sol:0 ;\n"
     ]
    }
   ],
   "source": [
    "if not os.path.exists(tmp_dir):\n",
    "    os.makedirs(tmp_dir)\n",
    "\n",
    "#bh.to_csv(tmp_dir+'source_Boreholes.csv', index=False)\n",
    "pz.to_csv(tmp_dir+sheet+'_Piezometers.csv', index=False)\n",
    "#ouv.to_csv(tmp_dir+sheet+'_Unkown-facility.csv', index=False)\n",
    "#litho.to_csv(tmp_dir+sheet+'_Lithology.csv', index=False)\n",
    "#mes_pz.to_csv(tmp_dir+sheet+'_Measures.csv', index=False)\n",
    "#mes_sol.to_csv(tmp_dir+sheet+'_Measures-soil.csv', index=False)\n",
    "prv_eau.to_csv(tmp_dir+sheet+'_Samples-water.csv', index=False)\n",
    "#prv_sol.to_csv(tmp_dir+sheet+'_Samples-soil.csv', index=False)\n",
    "an.to_csv(tmp_dir+sheet+'_Analysis.csv', index=False)\n",
    "\n",
    "\n",
    "#source_bh.to_csv(tmp_dir+'source_Boreholes.csv', index=False)\n",
    "#source_pz.to_csv(tmp_dir+'source_Piezometers.csv', index=False)\n",
    "#source_ouv.to_csv(tmp_dir+'source_Unkown-facility.csv', index=False)\n",
    "#source_litho.to_csv(tmp_dir+'source_Lithology.csv', index=False)\n",
    "#source_mes_pz.to_csv(tmp_dir+'source_Measures.csv', index=False)\n",
    "#source_mes_sol.to_csv(tmp_dir+'source_Measures-soil.csv', index=False)\n",
    "source_prv_eau.to_csv(tmp_dir+'source_Samples-water.csv', index=False)\n",
    "#source_prv_sol.to_csv(tmp_dir+'source_Samples-soil.csv', index=False)\n",
    "source_an.to_csv(tmp_dir+'source_Analysis.csv', index=False)\n",
    "\n",
    "\n",
    "print(f'source_bh:{len(source_bh)} ; source_pz:{len(source_pz)} ; source_litho:{len(source_litho)} ; '\n",
    "     f'source_Fac-uknw:{len(source_ouv)} ; source_an:{len(source_an)} ;\\nsource_prv_sol:{len(source_prv_sol)} ;'\n",
    "     f'source_prv_eau:{len(source_prv_eau)} ; source_mes_pz:{len(source_mes_pz)} ; source_mes_sol:{len(source_mes_sol)} ;')"
   ]
  },
  {
   "cell_type": "code",
   "execution_count": 176,
   "id": "682a7186",
   "metadata": {},
   "outputs": [],
   "source": [
    "excel_water_an, conflict_df = data_merger(an, source_prv_eau, how='outer', on='ID_ech', dist_max=1., drop_skip_col=['index'])"
   ]
  },
  {
   "cell_type": "code",
   "execution_count": 177,
   "id": "5927d97a",
   "metadata": {
    "scrolled": false
   },
   "outputs": [
    {
     "name": "stdout",
     "output_type": "stream",
     "text": [
      "Rows : 11, columns : 79\n"
     ]
    },
    {
     "data": {
      "application/vnd.jupyter.widget-view+json": {
       "model_id": "14655e9384684a7984fe115e75fe588f",
       "version_major": 2,
       "version_minor": 0
      },
      "text/plain": [
       "interactive(children=(IntSlider(value=5, description='rows', max=11, min=5, readout=False), IntSlider(value=12…"
      ]
     },
     "metadata": {},
     "output_type": "display_data"
    }
   ],
   "source": [
    "dataframe_viewer(excel_water_an, rows=5)"
   ]
  },
  {
   "cell_type": "code",
   "execution_count": 178,
   "id": "a5bb10a6",
   "metadata": {},
   "outputs": [],
   "source": [
    "for i in range(len(excel_water_an.ID_ech)):\n",
    "    c=excel_water_an.loc[i, 'ID_ech']\n",
    "    excel_water_an.loc[i, 'ID']=re.search(\"(\\w+\\d+(?:\\w)?)\",c).group(1)"
   ]
  },
  {
   "cell_type": "code",
   "execution_count": 179,
   "id": "2b997b8e",
   "metadata": {},
   "outputs": [],
   "source": [
    "save_dir = tmp_dir + 'Final_merge/final_'\n",
    "if not os.path.exists(save_dir):\n",
    "    os.makedirs(save_dir)\n",
    "\n",
    "#excel_bhs.to_csv(save_dir + 'Boreholes.csv', index=False)\n",
    "#excel_bh_litho.to_csv(save_dir+'Lithologies.csv', index=False)\n",
    "#excel_bh_equip.to_csv(save_dir+'Equipments.csv', index=False)\n",
    "#excel_bh_soil_sp.to_csv(save_dir+'Soil_samples.csv', index=False)\n",
    "#excel_bh_water_sp.to_csv(save_dir+'Water_samples.csv', index=False)\n",
    "#excel_bh_soil_an.to_csv(save_dir+'Soil_analysis.csv', index=False)\n",
    "#excel_bh_water_an.to_csv(save_dir+'water_analysis.csv', index=False)\n",
    "#excel_bh_mes.to_csv(save_dir+'Measures.csv', index=False)\n",
    "#excel_bh_fac.to_csv(save_dir+'Unknow_facilities.csv', index=False)\n",
    "\n",
    "excel_water_an.to_csv(save_dir+'Water_analysis.csv', index=False)"
   ]
  },
  {
   "cell_type": "markdown",
   "id": "consistent-garage",
   "metadata": {},
   "source": [
    "## 9-Ensemble des résultats Memoris version Seafile.xls\n",
    "* **Sheet : 'Résult SOL'**"
   ]
  },
  {
   "cell_type": "code",
   "execution_count": 114,
   "id": "intensive-medicine",
   "metadata": {},
   "outputs": [],
   "source": [
    "# New file, so the source variables must be overwritten !!\n",
    "_df=pd.DataFrame()\n",
    "source_mes_pz, source_mes_sol, source_pz, source_prv_eau, source_prv_sol =  _df, _df, _df, _df, _df\n",
    "source_ouv, source_an, source_litho, source_bh = _df, _df, _df, _df"
   ]
  },
  {
   "cell_type": "code",
   "execution_count": 115,
   "id": "large-intervention",
   "metadata": {},
   "outputs": [],
   "source": [
    "tmp_dir='../../CF_data/Result_traitem/Memoris_seafile/'\n",
    "sheet='Result_SOL'"
   ]
  },
  {
   "cell_type": "code",
   "execution_count": 116,
   "id": "democratic-christianity",
   "metadata": {},
   "outputs": [
    {
     "name": "stdout",
     "output_type": "stream",
     "text": [
      "2 NaN lines dropped\n",
      "\n",
      "Columns dropped :['Unnamed: 0', 'Unnamed: 2']\n",
      "\n",
      "Rows : 138, columns : 66\n"
     ]
    },
    {
     "name": "stderr",
     "output_type": "stream",
     "text": [
      "/home/yanathan/.local/share/virtualenvs/GSDMA-DRfwm83x/lib/python3.8/site-packages/pandas/core/frame.py:4901: SettingWithCopyWarning: \n",
      "A value is trying to be set on a copy of a slice from a DataFrame\n",
      "\n",
      "See the caveats in the documentation: https://pandas.pydata.org/pandas-docs/stable/user_guide/indexing.html#returning-a-view-versus-a-copy\n",
      "  return super().drop(\n"
     ]
    },
    {
     "data": {
      "application/vnd.jupyter.widget-view+json": {
       "model_id": "a6a3a1bb484d45b1bb71fd074a1ac5e0",
       "version_major": 2,
       "version_minor": 0
      },
      "text/plain": [
       "interactive(children=(IntSlider(value=5, description='rows', max=138, min=5, readout=False), IntSlider(value=1…"
      ]
     },
     "metadata": {},
     "output_type": "display_data"
    }
   ],
   "source": [
    "df = pd.read_excel('../../CF_data/Data_UMONS/Contamination/Résultats et mesures Siterem/'\n",
    "                   'Ensemble des résultats Memoris version Seafile.xls', sheet_name='Résult SOL', skiprows=4)\n",
    "df=na_line_drop(df,0)\n",
    "df=na_col_drop(df,1)\n",
    "dataframe_viewer(df, rows=5)"
   ]
  },
  {
   "cell_type": "code",
   "execution_count": 117,
   "id": "coastal-stable",
   "metadata": {},
   "outputs": [],
   "source": [
    "prv_sol=df.loc[:37]\n",
    "an=df.loc[38:]"
   ]
  },
  {
   "cell_type": "code",
   "execution_count": 118,
   "id": "adopted-thermal",
   "metadata": {},
   "outputs": [
    {
     "name": "stderr",
     "output_type": "stream",
     "text": [
      "/home/yanathan/.local/share/virtualenvs/GSDMA-DRfwm83x/lib/python3.8/site-packages/pandas/core/indexing.py:723: SettingWithCopyWarning: \n",
      "A value is trying to be set on a copy of a slice from a DataFrame\n",
      "\n",
      "See the caveats in the documentation: https://pandas.pydata.org/pandas-docs/stable/user_guide/indexing.html#returning-a-view-versus-a-copy\n",
      "  iloc._setitem_with_indexer(indexer, value, self.name)\n"
     ]
    }
   ],
   "source": [
    "an.loc[0.5] = df.loc[0] # put data on first line\n",
    "an = an.sort_index().reset_index(drop=True)"
   ]
  },
  {
   "cell_type": "code",
   "execution_count": 119,
   "id": "honest-wallace",
   "metadata": {},
   "outputs": [],
   "source": [
    "prv_sol=prv_sol.transpose()\n",
    "prv_sol.reset_index(drop=True, inplace=True)\n",
    "prv_sol=col_ren(prv_sol, 1)"
   ]
  },
  {
   "cell_type": "code",
   "execution_count": 120,
   "id": "potential-lender",
   "metadata": {},
   "outputs": [
    {
     "name": "stdout",
     "output_type": "stream",
     "text": [
      "\n",
      "Columns dropped :['col_1', \"Nom / description d'échantillon\", \"Nature de l'étude (*)\", 'Terrain', 'Epaisseur de remblais', 'Epaisseur alluvions', \"Nature de l'observation organoleptique\", 'LOCALISATION/AFFECTATION(S) - USAGE(S)', 'zone', 'parcelle (selon dénom.)', \"Type d'usage de fait actuel\", \"Type d'usage de fait futur\", \"Type d'usage utilisé pour comparer les résultats\", 'Lieux de prélèvement', 'X Lambert', 'Y Lambert', 'DESCRIPTION SOMMAIRE', 'Type de recouvrement de surface (***)', 'Sol en place (S : souillé, NS : non souillé)', 'Remblais de terre (S : souillé, NS : non souillé)', 'Remblais technique (S : souillé, NS : non souillé)', 'Déchet', 'Matières organiques', 'GRANULOMETRIE', 'Fraction argileuse']\n",
      "\n"
     ]
    }
   ],
   "source": [
    "prv_sol.drop(list(range(5)), axis=0, inplace=True)\n",
    "prv_sol.reset_index(drop=True, inplace=True)\n",
    "prv_sol=na_col_drop(prv_sol,1)\n",
    "prv_sol=na_line_drop(prv_sol,3)\n",
    "prv_sol.reset_index(drop=True, inplace=True)"
   ]
  },
  {
   "cell_type": "code",
   "execution_count": 121,
   "id": "optimum-snowboard",
   "metadata": {},
   "outputs": [],
   "source": [
    "prv_sol.drop(columns=prv_sol.columns[[-3,-4]], axis=1, inplace=True)"
   ]
  },
  {
   "cell_type": "code",
   "execution_count": 122,
   "id": "broke-emerald",
   "metadata": {},
   "outputs": [],
   "source": [
    "name=['ID_ech', 'Date_prv', 'Description','Organo', 'Long_for', 'Refus','Ech_top', 'Ech_base', 'MS','Fract_2','Fract_2+']\n",
    "prv_sol=col_ren(prv_sol, name=name, mode=1)"
   ]
  },
  {
   "cell_type": "code",
   "execution_count": 123,
   "id": "stable-amber",
   "metadata": {},
   "outputs": [
    {
     "data": {
      "text/plain": [
       "{'L', 'LA', 'LS', 'R', 'R '}"
      ]
     },
     "execution_count": 123,
     "metadata": {},
     "output_type": "execute_result"
    }
   ],
   "source": [
    "set(prv_sol['Description'])"
   ]
  },
  {
   "cell_type": "code",
   "execution_count": 124,
   "id": "eligible-cabinet",
   "metadata": {},
   "outputs": [],
   "source": [
    "for i in range(len(prv_sol['Description'])):\n",
    "    x = prv_sol.loc[i,'Description']\n",
    "    if x=='R' or x=='R ': prv_sol.loc[i,'Description']='Remblais'\n",
    "    elif x=='L': prv_sol.loc[i,'Description']='Limons'\n",
    "    elif x=='LA': prv_sol.loc[i,'Description']='Limons et argiles'\n",
    "    elif x=='LS': prv_sol.loc[i,'Description']='Limons et sables'\n",
    "\n",
    "prv_sol['Refus']=prv_sol['Refus'].apply(lambda x: 'x' if not re.search('#', str(x)) else '')\n",
    "prv_sol.insert(1,'Type_ech','Sol')"
   ]
  },
  {
   "cell_type": "code",
   "execution_count": 125,
   "id": "infinite-reading",
   "metadata": {
    "scrolled": false
   },
   "outputs": [
    {
     "name": "stdout",
     "output_type": "stream",
     "text": [
      "Rows : 60, columns : 12\n"
     ]
    },
    {
     "data": {
      "application/vnd.jupyter.widget-view+json": {
       "model_id": "705dd7a44d6e473f907ccf1c8aa1de04",
       "version_major": 2,
       "version_minor": 0
      },
      "text/plain": [
       "interactive(children=(IntSlider(value=3, description='rows', max=60, min=3, readout=False), IntSlider(value=12…"
      ]
     },
     "metadata": {},
     "output_type": "display_data"
    }
   ],
   "source": [
    "dataframe_viewer(prv_sol, rows=3)"
   ]
  },
  {
   "cell_type": "code",
   "execution_count": 126,
   "id": "unauthorized-optimization",
   "metadata": {},
   "outputs": [],
   "source": [
    "an=an.transpose()\n",
    "an.reset_index(drop=True, inplace=True)"
   ]
  },
  {
   "cell_type": "code",
   "execution_count": 127,
   "id": "corporate-restriction",
   "metadata": {},
   "outputs": [],
   "source": [
    "an=col_ren(an, 1)"
   ]
  },
  {
   "cell_type": "code",
   "execution_count": 128,
   "id": "diagnostic-archives",
   "metadata": {},
   "outputs": [],
   "source": [
    "an.replace(r'<|>','', inplace=True, regex=True)\n",
    "an.replace(r'-',np.nan, inplace=True, regex=True)\n",
    "an.rename(columns={an.columns[0]:'ID_ech'}, inplace=True)"
   ]
  },
  {
   "cell_type": "code",
   "execution_count": 129,
   "id": "bright-tension",
   "metadata": {},
   "outputs": [
    {
     "name": "stdout",
     "output_type": "stream",
     "text": [
      "column(s) dropped: []\n"
     ]
    }
   ],
   "source": [
    "an=dble_col_drop(an)"
   ]
  },
  {
   "cell_type": "code",
   "execution_count": 130,
   "id": "short-jonathan",
   "metadata": {},
   "outputs": [
    {
     "name": "stdout",
     "output_type": "stream",
     "text": [
      "\n",
      "Columns dropped :['METAUX LOURDS', 'CYANURES', 'COMPOSES AROMATIQUES VOLATILS', 'BTEX totaux', 'PHENOLS', 'Indice phénol', 'HYDROCARBURES AROMATIQUES POLYCYCLIQUES', 'COMPOSES ORGANOHALOGENES VOLATILS', 'col_63', 'EOX (****)', 'HYDROCARBURES TOTAUX', 'Hydrocarbures totaux C10-C40', 'METHYL-TERT-BUTYL-ETHER', 'POLYCHLOROBIPHENYL (PCB)', 'PCB 28', 'PCB 52', 'PCB 101', 'PCB 118', 'PCB 138', 'PCB 153', 'PCB 180', 'PCB totaux (7)', 'F4/2M*', 'Teneur mesurée', 'Teneur mesurée (souligne/gras)', 'Teneur mesurée (gras/grisé)', \"(*) CP = Campagne de prélèvements; Ex = Expertise; ES = Etude de sol; EO = Etude d'orientation; EC = Etude de caractérisation; SA = Suivi d'assainissement\", '(**) L: limon, A: Argile, S: Sable, R: Remblai', '(***) ib : imperméable (béton) ; ih : imperméable hydrocarboné ; p : perméable (gravier, fissuré,…) ; tvh : terres végétation haute ; tvb : terres végétation basse ', '(****) 3 mg/kg = Seuil limite défini dans le GREO ', \"(1) l'échantillon n'a pas pu être extrait ni analysé en raison d'une interférence due à la matrice\"]\n",
      "\n"
     ]
    }
   ],
   "source": [
    "an.drop(list(range(5)), axis=0, inplace=True)\n",
    "an.reset_index(drop=True, inplace=True)\n",
    "an=na_col_drop(an,1)\n",
    "an.insert(1,'Type_ech','Sol')"
   ]
  },
  {
   "cell_type": "code",
   "execution_count": 131,
   "id": "incredible-parameter",
   "metadata": {},
   "outputs": [],
   "source": [
    "an=col_ren(an, name=pol_field_model, mode=1)"
   ]
  },
  {
   "cell_type": "code",
   "execution_count": 132,
   "id": "fleet-enemy",
   "metadata": {
    "scrolled": true
   },
   "outputs": [
    {
     "name": "stdout",
     "output_type": "stream",
     "text": [
      "Rows : 60, columns : 71\n"
     ]
    },
    {
     "data": {
      "application/vnd.jupyter.widget-view+json": {
       "model_id": "b3c4b2c58ce8444197d17d66bc116086",
       "version_major": 2,
       "version_minor": 0
      },
      "text/plain": [
       "interactive(children=(IntSlider(value=5, description='rows', max=60, min=5, readout=False), IntSlider(value=12…"
      ]
     },
     "metadata": {},
     "output_type": "display_data"
    }
   ],
   "source": [
    "dataframe_viewer(an, rows=5) "
   ]
  },
  {
   "cell_type": "code",
   "execution_count": 133,
   "id": "synthetic-course",
   "metadata": {},
   "outputs": [],
   "source": [
    "source_prv_sol=prv_sol\n",
    "source_an=an"
   ]
  },
  {
   "cell_type": "code",
   "execution_count": 134,
   "id": "wireless-cycling",
   "metadata": {
    "scrolled": true
   },
   "outputs": [
    {
     "name": "stdout",
     "output_type": "stream",
     "text": [
      "source_bh:0 ; source_pz:0 ; source_litho:0 ; source_Fac-uknw:0 ; source_an:60 ;\n",
      "source_prv_sol:60 ;source_prv_eau:0 ; source_mes_pz:0 ; source_mes_sol:0 ;\n"
     ]
    }
   ],
   "source": [
    "if not os.path.exists(tmp_dir):\n",
    "    os.makedirs(tmp_dir)\n",
    "\n",
    "#bh.to_csv(tmp_dir+'source_Boreholes.csv', index=False)\n",
    "#pz.to_csv(tmp_dir+sheet+'_Piezometers.csv', index=False)\n",
    "#ouv.to_csv(tmp_dir+sheet+'_Unkown-facility.csv', index=False)\n",
    "#litho.to_csv(tmp_dir+sheet+'_Lithology.csv', index=False)\n",
    "#mes_pz.to_csv(tmp_dir+sheet+'_Measures.csv', index=False)\n",
    "#mes_sol.to_csv(tmp_dir+sheet+'_Measures-soil.csv', index=False)\n",
    "#prv_eau.to_csv(tmp_dir+sheet+'_Samples-water.csv', index=False)\n",
    "prv_sol.to_csv(tmp_dir+sheet+'_Samples-soil.csv', index=False)\n",
    "an.to_csv(tmp_dir+sheet+'_Analysis.csv', index=False)\n",
    "\n",
    "\n",
    "#source_bh.to_csv(tmp_dir+'source_Boreholes.csv', index=False)\n",
    "#source_pz.to_csv(tmp_dir+'source_Piezometers.csv', index=False)\n",
    "#source_ouv.to_csv(tmp_dir+'source_Unkown-facility.csv', index=False)\n",
    "#source_litho.to_csv(tmp_dir+'source_Lithology.csv', index=False)\n",
    "#source_mes_pz.to_csv(tmp_dir+'source_Measures.csv', index=False)\n",
    "#source_mes_sol.to_csv(tmp_dir+'source_Measures-soil.csv', index=False)\n",
    "#source_prv_eau.to_csv(tmp_dir+'source_Samples-water.csv', index=False)\n",
    "source_prv_sol.to_csv(tmp_dir+'source_Samples-soil.csv', index=False)\n",
    "source_an.to_csv(tmp_dir+'source_Analysis.csv', index=False)\n",
    "\n",
    "\n",
    "print(f'source_bh:{len(source_bh)} ; source_pz:{len(source_pz)} ; source_litho:{len(source_litho)} ; '\n",
    "     f'source_Fac-uknw:{len(source_ouv)} ; source_an:{len(source_an)} ;\\nsource_prv_sol:{len(source_prv_sol)} ;'\n",
    "     f'source_prv_eau:{len(source_prv_eau)} ; source_mes_pz:{len(source_mes_pz)} ; source_mes_sol:{len(source_mes_sol)} ;')"
   ]
  },
  {
   "cell_type": "markdown",
   "id": "scientific-providence",
   "metadata": {},
   "source": [
    "* **Sheet : 'Résult EAU'**"
   ]
  },
  {
   "cell_type": "code",
   "execution_count": 135,
   "id": "european-pendant",
   "metadata": {},
   "outputs": [],
   "source": [
    "tmp_dir='../../CF_data/Result_traitem/Memoris_seafile/'\n",
    "sheet='Result_eau'"
   ]
  },
  {
   "cell_type": "code",
   "execution_count": 136,
   "id": "dramatic-wilderness",
   "metadata": {},
   "outputs": [
    {
     "name": "stdout",
     "output_type": "stream",
     "text": [
      "4 NaN lines dropped\n",
      "\n",
      "Columns dropped :['Unnamed: 0', 'Unnamed: 2']\n",
      "\n",
      "Rows : 154, columns : 51\n"
     ]
    },
    {
     "name": "stderr",
     "output_type": "stream",
     "text": [
      "/home/yanathan/.local/share/virtualenvs/GSDMA-DRfwm83x/lib/python3.8/site-packages/pandas/core/frame.py:4901: SettingWithCopyWarning: \n",
      "A value is trying to be set on a copy of a slice from a DataFrame\n",
      "\n",
      "See the caveats in the documentation: https://pandas.pydata.org/pandas-docs/stable/user_guide/indexing.html#returning-a-view-versus-a-copy\n",
      "  return super().drop(\n"
     ]
    },
    {
     "data": {
      "application/vnd.jupyter.widget-view+json": {
       "model_id": "73ec93f9b8204dcb8918bf646a06a6d7",
       "version_major": 2,
       "version_minor": 0
      },
      "text/plain": [
       "interactive(children=(IntSlider(value=5, description='rows', max=154, min=5, readout=False), IntSlider(value=1…"
      ]
     },
     "metadata": {},
     "output_type": "display_data"
    }
   ],
   "source": [
    "df = pd.read_excel('../../CF_data/Data_UMONS/Contamination/Résultats et mesures Siterem/'\n",
    "                   'Ensemble des résultats Memoris version Seafile.xls', sheet_name='Résult EAU', skiprows=4)\n",
    "df=na_line_drop(df,0)\n",
    "df=na_col_drop(df,1)\n",
    "df.replace(r'<|>','', inplace=True, regex=True)\n",
    "df.replace(r'-$',np.nan, inplace=True, regex=True)\n",
    "\n",
    "dataframe_viewer(df, rows=5)"
   ]
  },
  {
   "cell_type": "code",
   "execution_count": 137,
   "id": "average-humor",
   "metadata": {},
   "outputs": [],
   "source": [
    "prv_eau=df.loc[:32]\n",
    "an=df.loc[33:]"
   ]
  },
  {
   "cell_type": "code",
   "execution_count": 138,
   "id": "lovely-priority",
   "metadata": {},
   "outputs": [
    {
     "name": "stderr",
     "output_type": "stream",
     "text": [
      "/home/yanathan/.local/share/virtualenvs/GSDMA-DRfwm83x/lib/python3.8/site-packages/pandas/core/indexing.py:723: SettingWithCopyWarning: \n",
      "A value is trying to be set on a copy of a slice from a DataFrame\n",
      "\n",
      "See the caveats in the documentation: https://pandas.pydata.org/pandas-docs/stable/user_guide/indexing.html#returning-a-view-versus-a-copy\n",
      "  iloc._setitem_with_indexer(indexer, value, self.name)\n"
     ]
    }
   ],
   "source": [
    "an.loc[0.5] = df.loc[0] # put data on first line\n",
    "an = an.sort_index().reset_index(drop=True)"
   ]
  },
  {
   "cell_type": "code",
   "execution_count": 139,
   "id": "hourly-specialist",
   "metadata": {},
   "outputs": [],
   "source": [
    "prv_eau=prv_eau.transpose()\n",
    "prv_eau.reset_index(drop=True, inplace=True)\n",
    "prv_eau=col_ren(prv_eau, 1)"
   ]
  },
  {
   "cell_type": "code",
   "execution_count": 140,
   "id": "convertible-failing",
   "metadata": {},
   "outputs": [],
   "source": [
    "prv_eau['CE']=prv_eau['CE'].apply(lambda x: pd.to_numeric(x)/1000 \n",
    "                                  if re.search('^\\d+', str(x)) and not pd.isnull(x) else np.nan)"
   ]
  },
  {
   "cell_type": "code",
   "execution_count": 141,
   "id": "distinct-vinyl",
   "metadata": {},
   "outputs": [],
   "source": [
    "prv_eau.drop(list(range(5)), axis=0, inplace=True)\n",
    "prv_eau.reset_index(drop=True, inplace=True)"
   ]
  },
  {
   "cell_type": "code",
   "execution_count": 142,
   "id": "supreme-minority",
   "metadata": {},
   "outputs": [
    {
     "name": "stdout",
     "output_type": "stream",
     "text": [
      "column(s) dropped: ['21:DESCRIPTION SOMMAIRE', '27:Prof. arrêt du forage']\n"
     ]
    }
   ],
   "source": [
    "prv_eau=dble_col_drop(prv_eau)"
   ]
  },
  {
   "cell_type": "code",
   "execution_count": 143,
   "id": "elegant-underwear",
   "metadata": {},
   "outputs": [
    {
     "name": "stdout",
     "output_type": "stream",
     "text": [
      "\n",
      "Columns dropped :['col_1', \"Nature de l'étude (*)\", 'Observations organoleptiques', 'LOCALISATION/AFFECTATION(S) - USAGE(S)', 'parcelle (selon dénom.)', \"Type d'usage de fait actuel\", \"Type d'usage de fait futur\", \"Type d'usage utilisé pour comparer les résultats\", 'Lieux de prélèvement', 'DESCRIPTION SOMMAIRE', 'Type de recouvrement de surface (**)', 'Sol en place (S : souillé, NS : non souillé)', 'Remblais de terre (S : souillé, NS : non souillé)', 'Remblais technique (S : souillé, NS : non souillé)', 'Déchet', 'PARAMETRES PHYSICO-CHIMIQUES ', 'ORP']\n",
      "\n"
     ]
    }
   ],
   "source": [
    "prv_eau=na_col_drop(prv_eau,1)\n",
    "prv_eau=na_line_drop(prv_eau,3)\n",
    "prv_eau.reset_index(drop=True, inplace=True)"
   ]
  },
  {
   "cell_type": "code",
   "execution_count": 144,
   "id": "still-shade",
   "metadata": {},
   "outputs": [],
   "source": [
    "prv_eau.drop(columns=prv_eau.columns[[2]], axis=2, inplace=True)"
   ]
  },
  {
   "cell_type": "code",
   "execution_count": 145,
   "id": "obvious-emission",
   "metadata": {},
   "outputs": [],
   "source": [
    "name=['ID_ech', 'Date_prv','Affectation','X', 'Y','Zsol', 'Long_for','Prof_crep','Long_pz_sol', \n",
    "      'Niv_eau_sol','pH', 'CE', 'T']\n",
    "prv_eau=col_ren(prv_eau, name=name, mode=1)\n",
    "prv_eau.insert(1,'Type_ech','Eau')"
   ]
  },
  {
   "cell_type": "code",
   "execution_count": 146,
   "id": "diverse-action",
   "metadata": {},
   "outputs": [],
   "source": [
    "prv_eau['Prof_crep'].replace('\\[|\\]','', regex=True, inplace=True)\n",
    "for i in range(len(prv_eau)):\n",
    "    c=prv_eau.loc[i,'Prof_crep']\n",
    "    prv_eau.loc[i,'Equip_top']=c.split('-')[0]\n",
    "    prv_eau.loc[i,'Equip_base']=c.split('-')[1]\n",
    "    \n",
    "prv_eau.drop(columns=['Prof_crep'], inplace=True)\n",
    "prv_eau['Type_equip'] = 'Crepine'"
   ]
  },
  {
   "cell_type": "code",
   "execution_count": 147,
   "id": "treated-benchmark",
   "metadata": {},
   "outputs": [],
   "source": [
    "prv_eau['ID_ech'].replace('Canne ', 'Can', inplace=True, regex=True)\n",
    "prv_eau['ID_ech'].replace('\\n', ' ', inplace=True, regex=True)"
   ]
  },
  {
   "cell_type": "code",
   "execution_count": 148,
   "id": "rural-termination",
   "metadata": {
    "scrolled": true
   },
   "outputs": [
    {
     "name": "stderr",
     "output_type": "stream",
     "text": [
      "/home/yanathan/.local/share/virtualenvs/GSDMA-DRfwm83x/lib/python3.8/site-packages/pandas/core/frame.py:5034: SettingWithCopyWarning: \n",
      "A value is trying to be set on a copy of a slice from a DataFrame\n",
      "\n",
      "See the caveats in the documentation: https://pandas.pydata.org/pandas-docs/stable/user_guide/indexing.html#returning-a-view-versus-a-copy\n",
      "  return super().rename(\n"
     ]
    }
   ],
   "source": [
    "pz=prv_eau[['ID_ech', 'X', 'Y', 'Zsol', 'Long_for','Long_pz_sol', 'Equip_top', 'Equip_base', 'Type_equip']]\n",
    "pz.rename(columns={'ID_ech':'ID'}, inplace=True)"
   ]
  },
  {
   "cell_type": "code",
   "execution_count": 149,
   "id": "clean-following",
   "metadata": {},
   "outputs": [
    {
     "name": "stderr",
     "output_type": "stream",
     "text": [
      "/home/yanathan/.local/share/virtualenvs/GSDMA-DRfwm83x/lib/python3.8/site-packages/pandas/core/indexing.py:1732: SettingWithCopyWarning: \n",
      "A value is trying to be set on a copy of a slice from a DataFrame\n",
      "\n",
      "See the caveats in the documentation: https://pandas.pydata.org/pandas-docs/stable/user_guide/indexing.html#returning-a-view-versus-a-copy\n",
      "  self._setitem_single_block(indexer, value, name)\n"
     ]
    }
   ],
   "source": [
    "for i in range(len(pz.ID)):\n",
    "    c=pz.loc[i, 'ID']\n",
    "    pz.loc[i, 'ID']=re.search(\"(\\w+\\d+)\",c).group(1)"
   ]
  },
  {
   "cell_type": "code",
   "execution_count": 150,
   "id": "numerical-lithuania",
   "metadata": {},
   "outputs": [
    {
     "name": "stderr",
     "output_type": "stream",
     "text": [
      "/home/yanathan/.local/share/virtualenvs/GSDMA-DRfwm83x/lib/python3.8/site-packages/pandas/util/_decorators.py:311: SettingWithCopyWarning: \n",
      "A value is trying to be set on a copy of a slice from a DataFrame\n",
      "\n",
      "See the caveats in the documentation: https://pandas.pydata.org/pandas-docs/stable/user_guide/indexing.html#returning-a-view-versus-a-copy\n",
      "  return func(*args, **kwargs)\n"
     ]
    }
   ],
   "source": [
    "pz.drop_duplicates(subset=['ID'], keep='first', ignore_index=True, inplace=True)"
   ]
  },
  {
   "cell_type": "code",
   "execution_count": 151,
   "id": "mechanical-offer",
   "metadata": {},
   "outputs": [],
   "source": [
    "prv_eau=prv_eau[['ID_ech', 'Date_prv', 'X', 'Y', 'Zsol','Niv_eau_sol', 'pH', 'CE', 'T','Affectation']]"
   ]
  },
  {
   "cell_type": "code",
   "execution_count": 152,
   "id": "bored-outdoors",
   "metadata": {
    "scrolled": true
   },
   "outputs": [
    {
     "name": "stdout",
     "output_type": "stream",
     "text": [
      "Rows : 45, columns : 10\n"
     ]
    },
    {
     "data": {
      "application/vnd.jupyter.widget-view+json": {
       "model_id": "4c412d8f12a24422b7599a6e702337b0",
       "version_major": 2,
       "version_minor": 0
      },
      "text/plain": [
       "interactive(children=(IntSlider(value=3, description='rows', max=45, min=3, readout=False), IntSlider(value=10…"
      ]
     },
     "metadata": {},
     "output_type": "display_data"
    }
   ],
   "source": [
    "dataframe_viewer(prv_eau, rows=3)"
   ]
  },
  {
   "cell_type": "code",
   "execution_count": 153,
   "id": "collective-words",
   "metadata": {},
   "outputs": [],
   "source": [
    "an=an.transpose()\n",
    "an.reset_index(drop=True, inplace=True)"
   ]
  },
  {
   "cell_type": "code",
   "execution_count": 154,
   "id": "tested-cruise",
   "metadata": {},
   "outputs": [],
   "source": [
    "an=col_ren(an, 1)"
   ]
  },
  {
   "cell_type": "code",
   "execution_count": 155,
   "id": "bulgarian-little",
   "metadata": {},
   "outputs": [],
   "source": [
    "an.replace(r'<|>','', inplace=True, regex=True)\n",
    "an.replace(r'-',np.nan, inplace=True, regex=True)\n",
    "an.rename(columns={an.columns[0]:'ID_ech'}, inplace=True)"
   ]
  },
  {
   "cell_type": "code",
   "execution_count": 156,
   "id": "every-progress",
   "metadata": {},
   "outputs": [],
   "source": [
    "an.drop(list(range(5)), axis=0, inplace=True)\n",
    "an.reset_index(drop=True, inplace=True)"
   ]
  },
  {
   "cell_type": "code",
   "execution_count": 157,
   "id": "mexican-principal",
   "metadata": {},
   "outputs": [
    {
     "name": "stdout",
     "output_type": "stream",
     "text": [
      "column(s) dropped: ['104:nitrite', '106:nitrate', '112:ammonium', '117:Teneur mesurée']\n"
     ]
    }
   ],
   "source": [
    "an=dble_col_drop(an)"
   ]
  },
  {
   "cell_type": "code",
   "execution_count": 158,
   "id": "satisfied-italian",
   "metadata": {},
   "outputs": [
    {
     "name": "stdout",
     "output_type": "stream",
     "text": [
      "\n",
      "Columns dropped :['METAUX LOURDS', 'CYANURES', 'COMPOSES AROMATIQUES VOLATILS', 'PHENOLS', 'crésols (total)', 'CHLOROPHENOLS', '2-chlorophénol', 'monochlorophénol total', 'dichlorophénol total', '2,4,5-trichlorophénol', '2,4,6-trichlorophénol', 'trichlorophénol total', '2,3,4,6- tétrachlorophénol', 'tétrachlorophénol total', 'pentachlorophénol', 'HYDROCARBURES AROMATIQUES POLYCYCLIQUES', 'COMPOSES ORGANOCHLORES VOLATILS', 'CHLOROBENZENES', 'monochlorobenzène', '1,3-dichlorobenzène', '1,2-dichlorobenzène', '1,4-Dichlorobenzène', '1,2,4,5- et 1,2,3,5-tétrachlorobenzènes', 'pentachlorobenzène', 'hexachlorobenzène', 'HYDROCARBURES TOTAUX', 'METHYL-TERT-BUTYL-ETHER', 'POLYCHLOROBIPHENYLS (PCB)', 'PCB totaux (7)', 'AUTRES ANALYSES ', 'azote Kjeldahl', 'COMPOSES INORGANIQUES ', 'sulfures totaux', 'Teneur mesurée (souligne/gras)', 'Teneur mesurée (gras/grisé)', \"(*) CP = Campagne de prélèvements; Ex = Expertise; ES = Etude de sol; EO = Etude d'orientation; EC = Etude de caractérisation; SA = Suivi d'assainissement\", '(**) ib : imperméable (béton) ; ih : imperméable hydrocarboné ; p : perméable (gravier, fissuré,…) ; tvh : terres végétation haute ; tvb : terres végétation basse ']\n",
      "\n"
     ]
    }
   ],
   "source": [
    "an.drop(columns=an.columns[[-6,-5]], axis=1, inplace=True)\n",
    "an=na_col_drop(an,1)\n",
    "an.insert(1,'Type_ech','Eau')"
   ]
  },
  {
   "cell_type": "code",
   "execution_count": 159,
   "id": "surprised-portuguese",
   "metadata": {},
   "outputs": [],
   "source": [
    "an['ID_ech'].replace('Canne ', 'Can', inplace=True, regex=True)\n",
    "an['ID_ech'].replace('\\n', ' ', inplace=True, regex=True)"
   ]
  },
  {
   "cell_type": "code",
   "execution_count": 160,
   "id": "comfortable-mobility",
   "metadata": {},
   "outputs": [],
   "source": [
    "an=col_ren(an, name=pol_field_model, mode=1)"
   ]
  },
  {
   "cell_type": "code",
   "execution_count": 161,
   "id": "swedish-sensitivity",
   "metadata": {},
   "outputs": [
    {
     "name": "stdout",
     "output_type": "stream",
     "text": [
      "Rows : 45, columns : 80\n"
     ]
    },
    {
     "data": {
      "application/vnd.jupyter.widget-view+json": {
       "model_id": "ab717a1bad9849f3a6c718664c14ba34",
       "version_major": 2,
       "version_minor": 0
      },
      "text/plain": [
       "interactive(children=(IntSlider(value=5, description='rows', max=45, min=5, readout=False), IntSlider(value=12…"
      ]
     },
     "metadata": {},
     "output_type": "display_data"
    }
   ],
   "source": [
    "dataframe_viewer(an, rows=5) "
   ]
  },
  {
   "cell_type": "code",
   "execution_count": 162,
   "id": "medieval-atmosphere",
   "metadata": {},
   "outputs": [],
   "source": [
    "source_pz=pz\n",
    "source_prv_eau=prv_eau\n",
    "source_an=source_an.append(an)"
   ]
  },
  {
   "cell_type": "code",
   "execution_count": 163,
   "id": "academic-basis",
   "metadata": {
    "scrolled": true
   },
   "outputs": [
    {
     "name": "stdout",
     "output_type": "stream",
     "text": [
      "source_bh:0 ; source_pz:30 ; source_litho:0 ; source_Fac-uknw:0 ; source_an:105 ;\n",
      "source_prv_sol:60 ;source_prv_eau:45 ; source_mes_pz:0 ; source_mes_sol:0 ;\n"
     ]
    }
   ],
   "source": [
    "if not os.path.exists(tmp_dir):\n",
    "    os.makedirs(tmp_dir)\n",
    "\n",
    "#bh.to_csv(tmp_dir+'source_Boreholes.csv', index=False)\n",
    "pz.to_csv(tmp_dir+sheet+'_Piezometers.csv', index=False)\n",
    "#ouv.to_csv(tmp_dir+sheet+'_Unkown-facility.csv', index=False)\n",
    "#litho.to_csv(tmp_dir+sheet+'_Lithology.csv', index=False)\n",
    "#mes_pz.to_csv(tmp_dir+sheet+'_Measures.csv', index=False)\n",
    "#mes_sol.to_csv(tmp_dir+sheet+'_Measures-soil.csv', index=False)\n",
    "prv_eau.to_csv(tmp_dir+sheet+'_Samples-water.csv', index=False)\n",
    "#prv_sol.to_csv(tmp_dir+sheet+'_Samples-soil.csv', index=False)\n",
    "an.to_csv(tmp_dir+sheet+'_Analysis.csv', index=False)\n",
    "\n",
    "\n",
    "#source_bh.to_csv(tmp_dir+'source_Boreholes.csv', index=False)\n",
    "source_pz.to_csv(tmp_dir+'source_Piezometers.csv', index=False)\n",
    "#source_ouv.to_csv(tmp_dir+'source_Unkown-facility.csv', index=False)\n",
    "#source_litho.to_csv(tmp_dir+'source_Lithology.csv', index=False)\n",
    "#source_mes_pz.to_csv(tmp_dir+'source_Measures.csv', index=False)\n",
    "#source_mes_sol.to_csv(tmp_dir+'source_Measures-soil.csv', index=False)\n",
    "source_prv_eau.to_csv(tmp_dir+'source_Samples-water.csv', index=False)\n",
    "#source_prv_sol.to_csv(tmp_dir+'source_Samples-soil.csv', index=False)\n",
    "source_an.to_csv(tmp_dir+'source_Analysis.csv', index=False)\n",
    "\n",
    "\n",
    "print(f'source_bh:{len(source_bh)} ; source_pz:{len(source_pz)} ; source_litho:{len(source_litho)} ; '\n",
    "     f'source_Fac-uknw:{len(source_ouv)} ; source_an:{len(source_an)} ;\\nsource_prv_sol:{len(source_prv_sol)} ;'\n",
    "     f'source_prv_eau:{len(source_prv_eau)} ; source_mes_pz:{len(source_mes_pz)} ; source_mes_sol:{len(source_mes_sol)} ;')"
   ]
  },
  {
   "cell_type": "markdown",
   "id": "indoor-spotlight",
   "metadata": {},
   "source": [
    "## 10-Résultats SOL container phyto t=0_décret sol.xls\n",
    "* **Sheet : 'Résult SOL'**"
   ]
  },
  {
   "cell_type": "code",
   "execution_count": 164,
   "id": "dangerous-northern",
   "metadata": {},
   "outputs": [],
   "source": [
    "# New file, so the source variables must be overwritten !!\n",
    "_df=pd.DataFrame()\n",
    "source_mes_pz, source_mes_sol, source_pz, source_prv_eau, source_prv_sol =  _df, _df, _df, _df, _df\n",
    "source_ouv, source_an, source_litho, source_bh = _df, _df, _df, _df"
   ]
  },
  {
   "cell_type": "code",
   "execution_count": 165,
   "id": "invalid-pressure",
   "metadata": {},
   "outputs": [],
   "source": [
    "tmp_dir='../../CF_data/Result_traitem/Container_phyto/'\n",
    "sheet='Result_SOL'"
   ]
  },
  {
   "cell_type": "code",
   "execution_count": 166,
   "id": "hungry-candle",
   "metadata": {},
   "outputs": [
    {
     "name": "stdout",
     "output_type": "stream",
     "text": [
      "2 NaN lines dropped\n",
      "\n",
      "Columns dropped :['Unnamed: 0', 'Unnamed: 2', 'Unnamed: 16', 'Unnamed: 17']\n",
      "\n",
      "Rows : 121, columns : 15\n"
     ]
    },
    {
     "name": "stderr",
     "output_type": "stream",
     "text": [
      "/home/yanathan/.local/share/virtualenvs/GSDMA-DRfwm83x/lib/python3.8/site-packages/pandas/core/frame.py:4901: SettingWithCopyWarning: \n",
      "A value is trying to be set on a copy of a slice from a DataFrame\n",
      "\n",
      "See the caveats in the documentation: https://pandas.pydata.org/pandas-docs/stable/user_guide/indexing.html#returning-a-view-versus-a-copy\n",
      "  return super().drop(\n"
     ]
    },
    {
     "data": {
      "application/vnd.jupyter.widget-view+json": {
       "model_id": "ef7db7bba89140f48023f75cfe37b131",
       "version_major": 2,
       "version_minor": 0
      },
      "text/plain": [
       "interactive(children=(IntSlider(value=5, description='rows', max=121, min=5, readout=False), IntSlider(value=1…"
      ]
     },
     "metadata": {},
     "output_type": "display_data"
    }
   ],
   "source": [
    "df = pd.read_excel('../../CF_data/Data_UMONS/Contamination/Résultats et mesures Siterem/'\n",
    "                   'Résultats SOL container phyto t=0_décret sol.xls', sheet_name='Résult SOL', skiprows=4)\n",
    "df=na_line_drop(df,0)\n",
    "df=na_col_drop(df,1)\n",
    "df.replace(r'<|>','', inplace=True, regex=True)\n",
    "df.replace(r'-$',np.nan, inplace=True, regex=True)\n",
    "\n",
    "dataframe_viewer(df, rows=5)"
   ]
  },
  {
   "cell_type": "code",
   "execution_count": 167,
   "id": "ongoing-senate",
   "metadata": {},
   "outputs": [],
   "source": [
    "prv_sol=df.loc[:21]\n",
    "an=df.loc[22:]"
   ]
  },
  {
   "cell_type": "code",
   "execution_count": 168,
   "id": "spare-medicare",
   "metadata": {},
   "outputs": [
    {
     "name": "stderr",
     "output_type": "stream",
     "text": [
      "/home/yanathan/.local/share/virtualenvs/GSDMA-DRfwm83x/lib/python3.8/site-packages/pandas/core/indexing.py:723: SettingWithCopyWarning: \n",
      "A value is trying to be set on a copy of a slice from a DataFrame\n",
      "\n",
      "See the caveats in the documentation: https://pandas.pydata.org/pandas-docs/stable/user_guide/indexing.html#returning-a-view-versus-a-copy\n",
      "  iloc._setitem_with_indexer(indexer, value, self.name)\n"
     ]
    }
   ],
   "source": [
    "an.loc[0.5] = df.loc[0] # put data on first line\n",
    "an = an.sort_index().reset_index(drop=True)"
   ]
  },
  {
   "cell_type": "code",
   "execution_count": 169,
   "id": "tight-response",
   "metadata": {},
   "outputs": [],
   "source": [
    "prv_sol=prv_sol.transpose()\n",
    "prv_sol.reset_index(drop=True, inplace=True)\n",
    "prv_sol=col_ren(prv_sol, 1)"
   ]
  },
  {
   "cell_type": "code",
   "execution_count": 170,
   "id": "brown-sarah",
   "metadata": {},
   "outputs": [
    {
     "name": "stdout",
     "output_type": "stream",
     "text": [
      "column(s) dropped: ['8:Autre zone suspecte investiguée']\n"
     ]
    }
   ],
   "source": [
    "prv_sol=dble_col_drop(prv_sol)"
   ]
  },
  {
   "cell_type": "code",
   "execution_count": 171,
   "id": "comparative-tackle",
   "metadata": {},
   "outputs": [
    {
     "name": "stdout",
     "output_type": "stream",
     "text": [
      "\n",
      "Columns dropped :['Matières organiques', 'SPP/zone suspecte invetiguée', 'Autre zone suspecte investiguée', 'Parcelle', 'X Lambert', 'Y Lambert', \"Type d'étude (*)\", 'Refus de forage', 'Terrain naturel/Remblai (**)', 'Organoleptique couleur suspecte', 'Organoleptique odeur intensité (***)', 'Organoleptique odeur type', 'GRANULOMETRIE']\n",
      "\n",
      "4 NaN lines dropped\n"
     ]
    },
    {
     "name": "stderr",
     "output_type": "stream",
     "text": [
      "/home/yanathan/.local/share/virtualenvs/GSDMA-DRfwm83x/lib/python3.8/site-packages/pandas/core/frame.py:4901: SettingWithCopyWarning: \n",
      "A value is trying to be set on a copy of a slice from a DataFrame\n",
      "\n",
      "See the caveats in the documentation: https://pandas.pydata.org/pandas-docs/stable/user_guide/indexing.html#returning-a-view-versus-a-copy\n",
      "  return super().drop(\n"
     ]
    }
   ],
   "source": [
    "prv_sol.drop(list(range(5)), axis=0, inplace=True)\n",
    "prv_sol.reset_index(drop=True, inplace=True)\n",
    "prv_sol=na_col_drop(prv_sol,2)\n",
    "prv_sol=na_line_drop(prv_sol,3)\n",
    "prv_sol.reset_index(drop=True, inplace=True)"
   ]
  },
  {
   "cell_type": "code",
   "execution_count": 172,
   "id": "prospective-layer",
   "metadata": {},
   "outputs": [],
   "source": [
    "prv_sol.drop(columns=prv_sol.columns[[-3]], axis=1, inplace=True)"
   ]
  },
  {
   "cell_type": "code",
   "execution_count": 173,
   "id": "center-dispatch",
   "metadata": {},
   "outputs": [],
   "source": [
    "name=['ID_ech', 'Ech_top', 'Ech_base','MS','Date_prv','Fract_2','Fract_2+']\n",
    "prv_sol=col_ren(prv_sol, name=name, mode=1)\n",
    "prv_sol=prv_sol.query('ID_ech==ID_ech')\n",
    "prv_sol.insert(1,'Type_ech','Sol')"
   ]
  },
  {
   "cell_type": "code",
   "execution_count": 174,
   "id": "human-study",
   "metadata": {
    "scrolled": false
   },
   "outputs": [
    {
     "name": "stdout",
     "output_type": "stream",
     "text": [
      "Rows : 5, columns : 8\n"
     ]
    },
    {
     "data": {
      "application/vnd.jupyter.widget-view+json": {
       "model_id": "6e61c0ecaf8d4325980a17146db42a49",
       "version_major": 2,
       "version_minor": 0
      },
      "text/plain": [
       "interactive(children=(IntSlider(value=3, description='rows', max=5, min=3, readout=False), IntSlider(value=8, …"
      ]
     },
     "metadata": {},
     "output_type": "display_data"
    }
   ],
   "source": [
    "dataframe_viewer(prv_sol, rows=3)"
   ]
  },
  {
   "cell_type": "code",
   "execution_count": 175,
   "id": "direct-fisher",
   "metadata": {},
   "outputs": [],
   "source": [
    "an=an.transpose()\n",
    "an.reset_index(drop=True, inplace=True)"
   ]
  },
  {
   "cell_type": "code",
   "execution_count": 176,
   "id": "radio-arnold",
   "metadata": {},
   "outputs": [],
   "source": [
    "an=col_ren(an, 1)"
   ]
  },
  {
   "cell_type": "code",
   "execution_count": 177,
   "id": "fixed-continuity",
   "metadata": {},
   "outputs": [],
   "source": [
    "an.replace(r'<|>','', inplace=True, regex=True)\n",
    "an.replace(r'-',np.nan, inplace=True, regex=True)\n",
    "an.rename(columns={an.columns[0]:'ID_ech'}, inplace=True)"
   ]
  },
  {
   "cell_type": "code",
   "execution_count": 178,
   "id": "cubic-graham",
   "metadata": {},
   "outputs": [
    {
     "name": "stdout",
     "output_type": "stream",
     "text": [
      "column(s) dropped: ['92:Teneur mesurée', '93:Teneur mesurée', '94:Teneur mesurée']\n"
     ]
    }
   ],
   "source": [
    "an=dble_col_drop(an)"
   ]
  },
  {
   "cell_type": "code",
   "execution_count": 179,
   "id": "selective-broad",
   "metadata": {},
   "outputs": [
    {
     "name": "stdout",
     "output_type": "stream",
     "text": [
      "\n",
      "Columns dropped :['METAUX LOURDS', 'Cobalt', 'CYANURES', 'COMPOSES AROMATIQUES VOLATILS', 'BTEX totaux', 'PHENOLS', 'Indice phénol', 'HYDROCARBURES AROMATIQUES POLYCYCLIQUES', 'COMPOSES ORGANOHALOGENES VOLATILS', 'col_64', 'EOX (****)', 'HYDROCARBURES TOTAUX', 'METHYL-TERT-BUTYL-ETHER', 'POLYCHLOROBIPHENYL (PCB)', 'PCB 28', 'PCB 52', 'PCB 101', 'PCB 118', 'PCB 138', 'PCB 153', 'PCB 180', 'PCB totaux (7)', 'Teneur mesurée', \"VR : Valeur de référence; VS : Valeur seuil; VI : Valeur d'intervention\", \"(*) RP : Rapport de prélèvements; ES : Etude de sol; EO : Etude d'orientation; EC : Etude de caractérisation; SA : Suivi d'assainissement; EF : Evaluation finale\", '(**) TN : Terrain naturel; R : Remblai', \"(***) - : Pas d'impression organoleptique; + : Impression organoleptique faible; ++ : Impression organoleptique forte\", '(****) 3 mg/kg = Seuil limite défini dans le GREO ']\n",
      "\n"
     ]
    }
   ],
   "source": [
    "an.drop(list(range(5)), axis=0, inplace=True)\n",
    "an.reset_index(drop=True, inplace=True)\n",
    "an=na_col_drop(an,1)\n",
    "an.insert(1,'Type_ech','Sol')"
   ]
  },
  {
   "cell_type": "code",
   "execution_count": 180,
   "id": "outstanding-thickness",
   "metadata": {},
   "outputs": [],
   "source": [
    "an=col_ren(an, name=pol_field_model, mode=1)"
   ]
  },
  {
   "cell_type": "code",
   "execution_count": 181,
   "id": "growing-childhood",
   "metadata": {
    "scrolled": true
   },
   "outputs": [
    {
     "name": "stdout",
     "output_type": "stream",
     "text": [
      "Rows : 9, columns : 70\n"
     ]
    },
    {
     "data": {
      "application/vnd.jupyter.widget-view+json": {
       "model_id": "1a14d3a13c7a466f8df3ed6805cad499",
       "version_major": 2,
       "version_minor": 0
      },
      "text/plain": [
       "interactive(children=(IntSlider(value=5, description='rows', max=9, min=5, readout=False), IntSlider(value=12,…"
      ]
     },
     "metadata": {},
     "output_type": "display_data"
    }
   ],
   "source": [
    "dataframe_viewer(an, rows=5) "
   ]
  },
  {
   "cell_type": "code",
   "execution_count": 182,
   "id": "attempted-longer",
   "metadata": {},
   "outputs": [],
   "source": [
    "source_prv_sol=prv_sol\n",
    "source_an=an"
   ]
  },
  {
   "cell_type": "code",
   "execution_count": 183,
   "id": "deluxe-berlin",
   "metadata": {
    "scrolled": true
   },
   "outputs": [
    {
     "name": "stdout",
     "output_type": "stream",
     "text": [
      "source_bh:0 ; source_pz:0 ; source_litho:0 ; source_Fac-uknw:0 ; source_an:9 ;\n",
      "source_prv_sol:5 ;source_prv_eau:0 ; source_mes_pz:0 ; source_mes_sol:0 ;\n"
     ]
    }
   ],
   "source": [
    "if not os.path.exists(tmp_dir):\n",
    "    os.makedirs(tmp_dir)\n",
    "\n",
    "#bh.to_csv(tmp_dir+'source_Boreholes.csv', index=False)\n",
    "#pz.to_csv(tmp_dir+sheet+'_Piezometers.csv', index=False)\n",
    "#ouv.to_csv(tmp_dir+sheet+'_Unkown-facility.csv', index=False)\n",
    "#litho.to_csv(tmp_dir+sheet+'_Lithology.csv', index=False)\n",
    "#mes_pz.to_csv(tmp_dir+sheet+'_Measures.csv', index=False)\n",
    "#mes_sol.to_csv(tmp_dir+sheet+'_Measures-soil.csv', index=False)\n",
    "#prv_eau.to_csv(tmp_dir+sheet+'_Samples-water.csv', index=False)\n",
    "prv_sol.to_csv(tmp_dir+sheet+'_Samples-soil.csv', index=False)\n",
    "an.to_csv(tmp_dir+sheet+'_Analysis.csv', index=False)\n",
    "\n",
    "\n",
    "#source_bh.to_csv(tmp_dir+'source_Boreholes.csv', index=False)\n",
    "#source_pz.to_csv(tmp_dir+'source_Piezometers.csv', index=False)\n",
    "#source_ouv.to_csv(tmp_dir+'source_Unkown-facility.csv', index=False)\n",
    "#source_litho.to_csv(tmp_dir+'source_Lithology.csv', index=False)\n",
    "#source_mes_pz.to_csv(tmp_dir+'source_Measures.csv', index=False)\n",
    "#source_mes_sol.to_csv(tmp_dir+'source_Measures-soil.csv', index=False)\n",
    "#source_prv_eau.to_csv(tmp_dir+'source_Samples-water.csv', index=False)\n",
    "source_prv_sol.to_csv(tmp_dir+'source_Samples-soil.csv', index=False)\n",
    "source_an.to_csv(tmp_dir+'source_Analysis.csv', index=False)\n",
    "\n",
    "\n",
    "print(f'source_bh:{len(source_bh)} ; source_pz:{len(source_pz)} ; source_litho:{len(source_litho)} ; '\n",
    "     f'source_Fac-uknw:{len(source_ouv)} ; source_an:{len(source_an)} ;\\nsource_prv_sol:{len(source_prv_sol)} ;'\n",
    "     f'source_prv_eau:{len(source_prv_eau)} ; source_mes_pz:{len(source_mes_pz)} ; source_mes_sol:{len(source_mes_sol)} ;')"
   ]
  },
  {
   "cell_type": "markdown",
   "id": "static-diversity",
   "metadata": {},
   "source": [
    "* **Sheet : 'Paramètres agro.'**"
   ]
  },
  {
   "cell_type": "code",
   "execution_count": 184,
   "id": "shaped-coating",
   "metadata": {},
   "outputs": [],
   "source": [
    "tmp_dir='../../CF_data/Result_traitem/Container_phyto/'\n",
    "sheet='Param_agro'"
   ]
  },
  {
   "cell_type": "code",
   "execution_count": 185,
   "id": "theoretical-defensive",
   "metadata": {},
   "outputs": [
    {
     "name": "stdout",
     "output_type": "stream",
     "text": [
      "1 NaN lines dropped\n",
      "\n",
      "Columns dropped :['Unnamed: 0', 'Unnamed: 1', 'Unnamed: 2']\n",
      "\n",
      "Rows : 28, columns : 10\n"
     ]
    },
    {
     "name": "stderr",
     "output_type": "stream",
     "text": [
      "/home/yanathan/.local/share/virtualenvs/GSDMA-DRfwm83x/lib/python3.8/site-packages/pandas/core/frame.py:4901: SettingWithCopyWarning: \n",
      "A value is trying to be set on a copy of a slice from a DataFrame\n",
      "\n",
      "See the caveats in the documentation: https://pandas.pydata.org/pandas-docs/stable/user_guide/indexing.html#returning-a-view-versus-a-copy\n",
      "  return super().drop(\n"
     ]
    },
    {
     "data": {
      "application/vnd.jupyter.widget-view+json": {
       "model_id": "b7cedf21410a4c9c86b2a0787f4530cb",
       "version_major": 2,
       "version_minor": 0
      },
      "text/plain": [
       "interactive(children=(IntSlider(value=5, description='rows', max=28, min=5, readout=False), IntSlider(value=10…"
      ]
     },
     "metadata": {},
     "output_type": "display_data"
    }
   ],
   "source": [
    "df = pd.read_excel('../../CF_data/Data_UMONS/Contamination/Résultats et mesures Siterem/'\n",
    "                   'Résultats SOL container phyto t=0_décret sol.xls', sheet_name='Paramètres agro.', skiprows=4)\n",
    "df=na_line_drop(df,0)\n",
    "df=na_col_drop(df,1)\n",
    "df.replace(r'<|>','', inplace=True, regex=True)\n",
    "df.replace(r'-$',np.nan, inplace=True, regex=True)\n",
    "\n",
    "dataframe_viewer(df, rows=5)"
   ]
  },
  {
   "cell_type": "code",
   "execution_count": 186,
   "id": "statewide-roommate",
   "metadata": {},
   "outputs": [],
   "source": [
    "df=df.transpose()\n",
    "df.reset_index(drop=True, inplace=True)\n",
    "df=col_ren(df, 0)"
   ]
  },
  {
   "cell_type": "code",
   "execution_count": 187,
   "id": "neither-charity",
   "metadata": {},
   "outputs": [],
   "source": [
    "df.drop(list(range(1)), axis=0, inplace=True)\n",
    "df.reset_index(drop=True, inplace=True)"
   ]
  },
  {
   "cell_type": "code",
   "execution_count": 188,
   "id": "fifty-germany",
   "metadata": {},
   "outputs": [
    {
     "name": "stdout",
     "output_type": "stream",
     "text": [
      "column(s) dropped: ['22:température pour mes. pH']\n"
     ]
    }
   ],
   "source": [
    "df=dble_col_drop(df)"
   ]
  },
  {
   "cell_type": "code",
   "execution_count": 189,
   "id": "scientific-breach",
   "metadata": {
    "scrolled": true
   },
   "outputs": [
    {
     "name": "stdout",
     "output_type": "stream",
     "text": [
      "\n",
      "Columns dropped :['Matières organiques', 'GRANULOMETRIE', 'pH', 'Composés inorganiques ', 'Autres analyses chimiques ']\n",
      "\n",
      "3 NaN lines dropped\n"
     ]
    },
    {
     "name": "stderr",
     "output_type": "stream",
     "text": [
      "/home/yanathan/.local/share/virtualenvs/GSDMA-DRfwm83x/lib/python3.8/site-packages/pandas/core/frame.py:4901: SettingWithCopyWarning: \n",
      "A value is trying to be set on a copy of a slice from a DataFrame\n",
      "\n",
      "See the caveats in the documentation: https://pandas.pydata.org/pandas-docs/stable/user_guide/indexing.html#returning-a-view-versus-a-copy\n",
      "  return super().drop(\n"
     ]
    }
   ],
   "source": [
    "df=na_col_drop(df,1)\n",
    "df=na_line_drop(df,3)\n",
    "df.reset_index(drop=True, inplace=True)"
   ]
  },
  {
   "cell_type": "code",
   "execution_count": 190,
   "id": "modified-decline",
   "metadata": {},
   "outputs": [],
   "source": [
    "df.drop(columns=df.columns[[5,6]], axis=2, inplace=True)"
   ]
  },
  {
   "cell_type": "code",
   "execution_count": 681,
   "id": "forward-poland",
   "metadata": {},
   "outputs": [
    {
     "data": {
      "text/plain": [
       "Index(['ID_ech', 'Type_ech', 'Periode', 'Emplacement', 'Date_prv',\n",
       "       'Niv_eau_pz', 'Long_pz', 'Temp_prv ', 'pH', 'CE', 'ORP', 'O_diss',\n",
       "       'Rmq', 'line_na'],\n",
       "      dtype='object')"
      ]
     },
     "execution_count": 681,
     "metadata": {},
     "output_type": "execute_result"
    }
   ],
   "source": [
    "df.columns"
   ]
  },
  {
   "cell_type": "code",
   "execution_count": 192,
   "id": "plain-evanescence",
   "metadata": {},
   "outputs": [],
   "source": [
    "name=['ID_ech','Ech_top','Ech_base','MS','Date_prv','MO','Residu_perte_feu','COT','Fract_arg','Fract_min_2µ', \n",
    "      'Fract_min_50µ', 'Fract_min_2', 'Fract_2', 'Fract_2+', 'pH_KCl','Tem_pH_mes', 'pH_H20', 'sulfures_tot', \n",
    "      'chlorures', 'azote_Kjeldahl']\n",
    "df=col_ren(df, name=name, mode=1)\n",
    "df.insert(1,'Type_ech','Sol')"
   ]
  },
  {
   "cell_type": "code",
   "execution_count": 193,
   "id": "posted-specialist",
   "metadata": {},
   "outputs": [],
   "source": [
    "prv_sol=df"
   ]
  },
  {
   "cell_type": "code",
   "execution_count": 194,
   "id": "breathing-brunswick",
   "metadata": {
    "scrolled": false
   },
   "outputs": [
    {
     "name": "stdout",
     "output_type": "stream",
     "text": [
      "Rows : 5, columns : 21\n"
     ]
    },
    {
     "data": {
      "application/vnd.jupyter.widget-view+json": {
       "model_id": "f6a3d3d96e3b4612a170d54d071be914",
       "version_major": 2,
       "version_minor": 0
      },
      "text/plain": [
       "interactive(children=(IntSlider(value=5, description='rows', max=5, min=5, readout=False), IntSlider(value=12,…"
      ]
     },
     "metadata": {},
     "output_type": "display_data"
    }
   ],
   "source": [
    "dataframe_viewer(prv_sol, rows=5)"
   ]
  },
  {
   "cell_type": "code",
   "execution_count": 195,
   "id": "ahead-illness",
   "metadata": {},
   "outputs": [
    {
     "ename": "TypeError",
     "evalue": "data_merger() got an unexpected keyword argument 'col'",
     "output_type": "error",
     "traceback": [
      "\u001b[0;31m---------------------------------------------------------------------------\u001b[0m",
      "\u001b[0;31mTypeError\u001b[0m                                 Traceback (most recent call last)",
      "\u001b[0;32m/tmp/ipykernel_91528/519622851.py\u001b[0m in \u001b[0;36m<module>\u001b[0;34m\u001b[0m\n\u001b[0;32m----> 1\u001b[0;31m \u001b[0mdata_merger\u001b[0m\u001b[0;34m(\u001b[0m\u001b[0msource_prv_sol\u001b[0m\u001b[0;34m,\u001b[0m \u001b[0mprv_sol\u001b[0m\u001b[0;34m,\u001b[0m \u001b[0mcol\u001b[0m\u001b[0;34m=\u001b[0m\u001b[0;34m'ID_ech'\u001b[0m\u001b[0;34m,\u001b[0m \u001b[0mhow\u001b[0m\u001b[0;34m=\u001b[0m\u001b[0;34m'outer'\u001b[0m\u001b[0;34m,\u001b[0m \u001b[0;34m)\u001b[0m\u001b[0;34m[\u001b[0m\u001b[0;36m0\u001b[0m\u001b[0;34m]\u001b[0m\u001b[0;34m\u001b[0m\u001b[0;34m\u001b[0m\u001b[0m\n\u001b[0m",
      "\u001b[0;31mTypeError\u001b[0m: data_merger() got an unexpected keyword argument 'col'"
     ]
    }
   ],
   "source": [
    "data_merger(source_prv_sol, prv_sol, on='ID_ech', how='outer', )[0]"
   ]
  },
  {
   "cell_type": "code",
   "execution_count": null,
   "id": "postal-medium",
   "metadata": {
    "scrolled": false
   },
   "outputs": [],
   "source": [
    "if not os.path.exists(tmp_dir):\n",
    "    os.makedirs(tmp_dir)\n",
    "\n",
    "#bh.to_csv(tmp_dir+'source_Boreholes.csv', index=False)\n",
    "#pz.to_csv(tmp_dir+sheet+'_Piezometers.csv', index=False)\n",
    "#ouv.to_csv(tmp_dir+sheet+'_Unkown-facility.csv', index=False)\n",
    "#litho.to_csv(tmp_dir+sheet+'_Lithology.csv', index=False)\n",
    "#mes_pz.to_csv(tmp_dir+sheet+'_Measures.csv', index=False)\n",
    "#mes_sol.to_csv(tmp_dir+sheet+'_Measures-soil.csv', index=False)\n",
    "#prv_eau.to_csv(tmp_dir+sheet+'_Samples-water.csv', index=False)\n",
    "prv_sol.to_csv(tmp_dir+sheet+'_Samples-soil.csv', index=False)\n",
    "#an.to_csv(tmp_dir+sheet+'_Analysis.csv', index=False)\n",
    "\n",
    "\n",
    "#source_bh.to_csv(tmp_dir+'source_Boreholes.csv', index=False)\n",
    "#source_pz.to_csv(tmp_dir+'source_Piezometers.csv', index=False)\n",
    "#source_ouv.to_csv(tmp_dir+'source_Unkown-facility.csv', index=False)\n",
    "#source_litho.to_csv(tmp_dir+'source_Lithology.csv', index=False)\n",
    "#source_mes_pz.to_csv(tmp_dir+'source_Measures.csv', index=False)\n",
    "#source_mes_sol.to_csv(tmp_dir+'source_Measures-soil.csv', index=False)\n",
    "#source_prv_eau.to_csv(tmp_dir+'source_Samples-water.csv', index=False)\n",
    "source_prv_sol.to_csv(tmp_dir+'source_Samples-soil.csv', index=False)\n",
    "#source_an.to_csv(tmp_dir+'source_Analysis.csv', index=False)\n",
    "\n",
    "\n",
    "print(f'source_bh:{len(source_bh)} ; source_pz:{len(source_pz)} ; source_litho:{len(source_litho)} ; '\n",
    "     f'source_Fac-uknw:{len(source_ouv)} ; source_an:{len(source_an)} ;\\nsource_prv_sol:{len(source_prv_sol)} ;'\n",
    "     f'source_prv_eau:{len(source_prv_eau)} ; source_mes_pz:{len(source_mes_pz)} ; source_mes_sol:{len(source_mes_sol)} ;')"
   ]
  },
  {
   "cell_type": "markdown",
   "id": "julian-spare",
   "metadata": {},
   "source": [
    "--------------------------------------------------------------------------------------------------------"
   ]
  },
  {
   "cell_type": "markdown",
   "id": "organized-copying",
   "metadata": {},
   "source": [
    "## 11-Resultats_Siterem_eau_extension_pilote_jusque_decembre_2020.xlsx\n",
    "* **Sheet : 'Résult EAU'**"
   ]
  },
  {
   "cell_type": "code",
   "execution_count": 180,
   "id": "activated-rental",
   "metadata": {},
   "outputs": [],
   "source": [
    "# New file, so the source variables must be overwritten !!\n",
    "_df=pd.DataFrame()\n",
    "source_mes_pz, source_mes_sol, source_pz, source_prv_eau, source_prv_sol =  _df, _df, _df, _df, _df\n",
    "source_ouv, source_an, source_litho, source_bh = _df, _df, _df, _df"
   ]
  },
  {
   "cell_type": "code",
   "execution_count": 181,
   "id": "alpine-nitrogen",
   "metadata": {},
   "outputs": [],
   "source": [
    "tmp_dir='../../CF_data/Result_traitem/Siterem_Ext_Pilote/'\n",
    "sheet='Result_eau'"
   ]
  },
  {
   "cell_type": "code",
   "execution_count": 182,
   "id": "technical-montana",
   "metadata": {},
   "outputs": [
    {
     "name": "stdout",
     "output_type": "stream",
     "text": [
      "5 NaN lines dropped\n",
      "\n",
      "Columns dropped :['Unnamed: 0', 'Unnamed: 2']\n",
      "\n",
      "Rows : 115, columns : 37\n"
     ]
    },
    {
     "name": "stderr",
     "output_type": "stream",
     "text": [
      "/home/yanathan/.local/share/virtualenvs/GSDMA-DRfwm83x/lib/python3.8/site-packages/openpyxl/worksheet/_reader.py:312: UserWarning: Data Validation extension is not supported and will be removed\n",
      "  warn(msg)\n",
      "/home/yanathan/.local/share/virtualenvs/GSDMA-DRfwm83x/lib/python3.8/site-packages/pandas/core/frame.py:4901: SettingWithCopyWarning: \n",
      "A value is trying to be set on a copy of a slice from a DataFrame\n",
      "\n",
      "See the caveats in the documentation: https://pandas.pydata.org/pandas-docs/stable/user_guide/indexing.html#returning-a-view-versus-a-copy\n",
      "  return super().drop(\n"
     ]
    },
    {
     "data": {
      "application/vnd.jupyter.widget-view+json": {
       "model_id": "4d3c4e67066c454e894c90e887af4f16",
       "version_major": 2,
       "version_minor": 0
      },
      "text/plain": [
       "interactive(children=(IntSlider(value=5, description='rows', max=115, min=5, readout=False), IntSlider(value=1…"
      ]
     },
     "metadata": {},
     "output_type": "display_data"
    }
   ],
   "source": [
    "df = pd.read_excel('../../CF_data/Data_SITEREM/Resultats_Siterem_eau_extension_pilote_jusque_decembre_2020.xlsx', \n",
    "                   sheet_name='Résult EAU', skiprows=2)\n",
    "df=na_line_drop(df,0)\n",
    "df=na_col_drop(df,1)\n",
    "df.replace(r'<|>','', inplace=True, regex=True)\n",
    "df.replace(r'-$',np.nan, inplace=True, regex=True)\n",
    "\n",
    "dataframe_viewer(df, rows=5)"
   ]
  },
  {
   "cell_type": "raw",
   "id": "a61ee6a9",
   "metadata": {},
   "source": [
    "indexes = list(range(1,5))+list(range(32, len(df)))\n",
    "df.loc[indexes]"
   ]
  },
  {
   "cell_type": "code",
   "execution_count": 183,
   "id": "focal-turtle",
   "metadata": {},
   "outputs": [],
   "source": [
    "prv_eau=df.loc[:31]\n",
    "an=df.loc[list(range(0,4))+list(range(32, len(df)))]"
   ]
  },
  {
   "cell_type": "code",
   "execution_count": 184,
   "id": "nasty-algorithm",
   "metadata": {},
   "outputs": [],
   "source": [
    "an = an.sort_index().reset_index(drop=True)"
   ]
  },
  {
   "cell_type": "code",
   "execution_count": 185,
   "id": "threatened-spokesman",
   "metadata": {},
   "outputs": [],
   "source": [
    "prv_eau=prv_eau.transpose()\n",
    "prv_eau.reset_index(drop=True, inplace=True)\n",
    "prv_eau=col_ren(prv_eau, 1)"
   ]
  },
  {
   "cell_type": "code",
   "execution_count": 186,
   "id": "phantom-firewall",
   "metadata": {},
   "outputs": [
    {
     "name": "stdout",
     "output_type": "stream",
     "text": [
      "column(s) dropped: ['6:Autre zone suspecte investiguée', '25:pH', '30:pH']\n"
     ]
    }
   ],
   "source": [
    "prv_eau=dble_col_drop(prv_eau)"
   ]
  },
  {
   "cell_type": "code",
   "execution_count": 187,
   "id": "global-capacity",
   "metadata": {},
   "outputs": [
    {
     "name": "stdout",
     "output_type": "stream",
     "text": [
      "\n",
      "Columns dropped :['SPP/zone suspecte investiguée', 'Autre zone suspecte investiguée', 'Parcelle', 'X Lambert', 'Y Lambert', \"Type d'étude (*)\", 'Profondeur minimum de la crépine', 'Profondeur maximum de la crépine', 'Profondeur du fond du piézomètre', 'Profondeur de la nappe/piezo', 'Profondeur de la nappe/chambre visite', 'Organoleptique odeur intensité (**)', 'Organoleptique odeur type', 'Limpidité (***)', 'Température', 'Conductivité électrique', 'Profondeur de la nappe/sol ', 'PARAMETRES PHYSICO-CHIMIQUES \\n(lors du prélèvement)', 'CE', 'ORP', 'Oxygène dissous', 'PARAMETRES PHYSICO-CHIMIQUES \\n(mesures au labo)']\n",
      "\n"
     ]
    }
   ],
   "source": [
    "prv_eau.drop(list(range(5)), axis=0, inplace=True)\n",
    "prv_eau.reset_index(drop=True, inplace=True)\n",
    "prv_eau=na_col_drop(prv_eau,2)\n",
    "prv_eau=na_line_drop(prv_eau,3)\n",
    "prv_eau.reset_index(drop=True, inplace=True)"
   ]
  },
  {
   "cell_type": "code",
   "execution_count": 188,
   "id": "therapeutic-aaron",
   "metadata": {},
   "outputs": [],
   "source": [
    "name=['ID_ech', 'Periode', 'Emplacement','Date_prv','pH','Temp_prv','Temp_pH_mes']\n",
    "prv_eau=col_ren(prv_eau, name=name, mode=1)\n",
    "prv_eau=prv_eau.query('ID_ech==ID_ech')\n",
    "prv_eau.insert(1,'Type_ech','Eau')"
   ]
  },
  {
   "cell_type": "code",
   "execution_count": 189,
   "id": "entitled-stephen",
   "metadata": {
    "scrolled": false
   },
   "outputs": [
    {
     "name": "stdout",
     "output_type": "stream",
     "text": [
      "Rows : 31, columns : 8\n"
     ]
    },
    {
     "data": {
      "application/vnd.jupyter.widget-view+json": {
       "model_id": "e90f6b426408479ca4fd46ba71509f49",
       "version_major": 2,
       "version_minor": 0
      },
      "text/plain": [
       "interactive(children=(IntSlider(value=3, description='rows', max=31, min=3, readout=False), IntSlider(value=8,…"
      ]
     },
     "metadata": {},
     "output_type": "display_data"
    }
   ],
   "source": [
    "dataframe_viewer(prv_eau, rows=3)"
   ]
  },
  {
   "cell_type": "code",
   "execution_count": 190,
   "id": "reasonable-platform",
   "metadata": {},
   "outputs": [],
   "source": [
    "an=an.transpose()\n",
    "an.reset_index(drop=True, inplace=True)"
   ]
  },
  {
   "cell_type": "code",
   "execution_count": 191,
   "id": "floating-baseline",
   "metadata": {},
   "outputs": [],
   "source": [
    "an=col_ren(an, 1)"
   ]
  },
  {
   "cell_type": "code",
   "execution_count": 192,
   "id": "tired-livestock",
   "metadata": {},
   "outputs": [],
   "source": [
    "an.replace(r'<|>','', inplace=True, regex=True)\n",
    "an.replace(r'-',np.nan, inplace=True, regex=True)\n",
    "an.rename(columns={an.columns[0]:'ID_ech'}, inplace=True)"
   ]
  },
  {
   "cell_type": "code",
   "execution_count": 193,
   "id": "indian-annotation",
   "metadata": {},
   "outputs": [
    {
     "name": "stdout",
     "output_type": "stream",
     "text": [
      "column(s) dropped: []\n"
     ]
    }
   ],
   "source": [
    "an=dble_col_drop(an)"
   ]
  },
  {
   "cell_type": "code",
   "execution_count": 194,
   "id": "connected-arthritis",
   "metadata": {},
   "outputs": [],
   "source": [
    "# rename in a first time before dropping columns (because of names like 'col_xx' in columns)\n",
    "name=['ID_ech', 'Periode', 'Emplacement','Date_prv', 'METAUX LOURDS', 'Arsenic', 'Cadmium', 'Chrome', 'Cuivre',\n",
    "      'Mercure', 'Plomb', 'Nickel', 'Zinc', \n",
    "      'CYANURES',\"Cyanures (libres)  -  NEN-EN-ISO 14403\", \"CN_totaux - NEN-EN-ISO 14403\", \n",
    "      \"cyanure (APE) - méthode basée sur EPA 335.3\", \"cyanure complex - méthode interne \", \n",
    "      \"thiocyanate - méthode interne\", \"COMPOSES AROMATIQUES VOLATILS\", \"Benzène\", \"Toluène\", \"Éthylbenzène\",\n",
    "      \"Orthoxylène\", \"Para- et métaxylène\", \"Xylènes\", \"Styrène\", \"PHENOLS\", \"Phénol\", \"Indice phénol\", \n",
    "      \"HYDROCARBURES AROMATIQUES POLYCYCLIQUES\", \"Naphtalène\", \"Acénaphtylène\", \"Acénaphtène\", \"Fluorène\", \n",
    "      \"Phénanthrène\", \"Anthracène\", \"Fluoranthène\", \"Pyrène\", \"Benzo(a)anthracène\", \"Chrysène\", \n",
    "      \"Benzo(b)fluoranthène\", \"Benzo(k)fluoranthène\", \"Benzo(a)pyrène\", \"Dibenzo(ah)anthracène\", \n",
    "      \"Benzo(ghi)pérylène\", \"Indéno(1,2,3-cd)pyrène\", \"HAP Totaux (16) - EPA\", \n",
    "      \"COMPOSES ORGANOCHLORES VOLATILS\", \"1,1-Dichloroéthane\", \"1,2-Dichloroéthane\", \n",
    "      \"1,1-dichloroéthène\", \"Cis-1,2-dichloroéthène\", \"Totaux (cis,trans) 1,2-dichloroéthènes\", \n",
    "      \"Trans 1,2-dichloroéthylène\", \"Dichlorométhane\", \"1,2-dichloropropane\", \"Tétrachloroéthylène \", \n",
    "      \"Tétrachlorométhane\", \"1,1,1-Trichloroéthane\", \"1,1,2-Trichloroéthane\", \"Trichloroéthylène\",\n",
    "      \"Chloroforme\", \"Chlorure de vinyle\", \"HYDROCARBURES TOTAUX\", \"fraction aromat. >C6-C7\", \n",
    "      \"fraction aromat. >C7-C8\", \"fraction aromat. >C8-C10\", \"fraction aliphat. C5-C6\", \"fraction aliphat. >C6-C8\",\n",
    "      \"fraction aliphat. >C8-C10\", \"Fraction C5 - C8\", \"Fraction C8 - C10\", \"Fraction C10-C12\", \"Fraction C12-C16\",\n",
    "      \"Fraction C16 - C21\", \"Fraction C21 - C35\", \"Hydrocarbures totaux C10-C35\", \"METHYL-TERT-BUTYL-ETHER\", \"MTBE\",\n",
    "     \"a\",\"b\",\"c\",\"d\",\"e\",\"f\",\"g\"]\n",
    "\n",
    "an=col_ren(an, name=name, mode=1)\n",
    "an=an.iloc[:,:-7]"
   ]
  },
  {
   "cell_type": "code",
   "execution_count": 195,
   "id": "desirable-elements",
   "metadata": {},
   "outputs": [
    {
     "name": "stdout",
     "output_type": "stream",
     "text": [
      "\n",
      "Columns dropped :['METAUX LOURDS', 'CYANURES', 'COMPOSES AROMATIQUES VOLATILS', 'Styrène', 'PHENOLS', 'Indice phénol', 'HYDROCARBURES AROMATIQUES POLYCYCLIQUES', 'COMPOSES ORGANOCHLORES VOLATILS', 'HYDROCARBURES TOTAUX', 'METHYL-TERT-BUTYL-ETHER', 'MTBE']\n",
      "\n"
     ]
    }
   ],
   "source": [
    "an.drop(list(range(3)), axis=0, inplace=True)\n",
    "an.reset_index(drop=True, inplace=True)\n",
    "an=na_col_drop(an,1)\n",
    "an.insert(1,'Type_ech','Eau')"
   ]
  },
  {
   "cell_type": "code",
   "execution_count": 196,
   "id": "interested-exposure",
   "metadata": {},
   "outputs": [],
   "source": [
    "an=col_ren(an, name=pol_field_model, mode=1)"
   ]
  },
  {
   "cell_type": "code",
   "execution_count": 197,
   "id": "impressive-absence",
   "metadata": {
    "scrolled": true
   },
   "outputs": [
    {
     "name": "stdout",
     "output_type": "stream",
     "text": [
      "Rows : 33, columns : 70\n"
     ]
    },
    {
     "data": {
      "application/vnd.jupyter.widget-view+json": {
       "model_id": "e1aab6f5df5f4dd88838fc7fb168636d",
       "version_major": 2,
       "version_minor": 0
      },
      "text/plain": [
       "interactive(children=(IntSlider(value=3, description='rows', max=33, min=3, readout=False), IntSlider(value=12…"
      ]
     },
     "metadata": {},
     "output_type": "display_data"
    }
   ],
   "source": [
    "dataframe_viewer(an, rows=3)"
   ]
  },
  {
   "cell_type": "code",
   "execution_count": 198,
   "id": "ready-korea",
   "metadata": {},
   "outputs": [],
   "source": [
    "source_prv_eau=prv_eau\n",
    "source_an=an"
   ]
  },
  {
   "cell_type": "code",
   "execution_count": 199,
   "id": "administrative-guide",
   "metadata": {
    "scrolled": false
   },
   "outputs": [
    {
     "name": "stdout",
     "output_type": "stream",
     "text": [
      "source_bh:0 ; source_pz:0 ; source_litho:0 ; source_Fac-uknw:0 ; source_an:33 ;\n",
      "source_prv_sol:0 ;source_prv_eau:31 ; source_mes_pz:0 ; source_mes_sol:0 ;\n"
     ]
    }
   ],
   "source": [
    "if not os.path.exists(tmp_dir):\n",
    "    os.makedirs(tmp_dir)\n",
    "\n",
    "#bh.to_csv(tmp_dir+'source_Boreholes.csv', index=False)\n",
    "#pz.to_csv(tmp_dir+sheet+'_Piezometers.csv', index=False)\n",
    "#ouv.to_csv(tmp_dir+sheet+'_Unkown-facility.csv', index=False)\n",
    "#litho.to_csv(tmp_dir+sheet+'_Lithology.csv', index=False)\n",
    "#mes_pz.to_csv(tmp_dir+sheet+'_Measures.csv', index=False)\n",
    "#mes_sol.to_csv(tmp_dir+sheet+'_Measures-soil.csv', index=False)\n",
    "prv_eau.to_csv(tmp_dir+sheet+'_Samples-water.csv', index=False)\n",
    "#prv_sol.to_csv(tmp_dir+sheet+'_Samples-soil.csv', index=False)\n",
    "an.to_csv(tmp_dir+sheet+'_Analysis.csv', index=False)\n",
    "\n",
    "\n",
    "#source_bh.to_csv(tmp_dir+'source_Boreholes.csv', index=False)\n",
    "#source_pz.to_csv(tmp_dir+'source_Piezometers.csv', index=False)\n",
    "#source_ouv.to_csv(tmp_dir+'source_Unkown-facility.csv', index=False)\n",
    "#source_litho.to_csv(tmp_dir+'source_Lithology.csv', index=False)\n",
    "#source_mes_pz.to_csv(tmp_dir+'source_Measures.csv', index=False)\n",
    "#source_mes_sol.to_csv(tmp_dir+'source_Measures-soil.csv', index=False)\n",
    "source_prv_eau.to_csv(tmp_dir+'source_Samples-water.csv', index=False)\n",
    "#source_prv_sol.to_csv(tmp_dir+'source_Samples-soil.csv', index=False)\n",
    "source_an.to_csv(tmp_dir+'source_Analysis.csv', index=False)\n",
    "\n",
    "\n",
    "print(f'source_bh:{len(source_bh)} ; source_pz:{len(source_pz)} ; source_litho:{len(source_litho)} ; '\n",
    "     f'source_Fac-uknw:{len(source_ouv)} ; source_an:{len(source_an)} ;\\nsource_prv_sol:{len(source_prv_sol)} ;'\n",
    "     f'source_prv_eau:{len(source_prv_eau)} ; source_mes_pz:{len(source_mes_pz)} ; source_mes_sol:{len(source_mes_sol)} ;')"
   ]
  },
  {
   "cell_type": "markdown",
   "id": "alive-study",
   "metadata": {},
   "source": [
    "* **Sheet : 'Param physico'**"
   ]
  },
  {
   "cell_type": "code",
   "execution_count": 200,
   "id": "postal-patio",
   "metadata": {},
   "outputs": [],
   "source": [
    "tmp_dir='../../CF_data/Result_traitem/Siterem_Ext_Pilote/'\n",
    "sheet='Param_physico'"
   ]
  },
  {
   "cell_type": "code",
   "execution_count": 201,
   "id": "fabulous-litigation",
   "metadata": {},
   "outputs": [
    {
     "name": "stdout",
     "output_type": "stream",
     "text": [
      "8 NaN lines dropped\n",
      "\n",
      "Columns dropped :['Unnamed: 0', 'Unnamed: 2']\n",
      "\n",
      "Rows : 53, columns : 77\n"
     ]
    },
    {
     "name": "stderr",
     "output_type": "stream",
     "text": [
      "/home/yanathan/.local/share/virtualenvs/GSDMA-DRfwm83x/lib/python3.8/site-packages/pandas/core/frame.py:4901: SettingWithCopyWarning: \n",
      "A value is trying to be set on a copy of a slice from a DataFrame\n",
      "\n",
      "See the caveats in the documentation: https://pandas.pydata.org/pandas-docs/stable/user_guide/indexing.html#returning-a-view-versus-a-copy\n",
      "  return super().drop(\n"
     ]
    },
    {
     "data": {
      "application/vnd.jupyter.widget-view+json": {
       "model_id": "4046d934ba0e475f8dd4b4d3b32268e9",
       "version_major": 2,
       "version_minor": 0
      },
      "text/plain": [
       "interactive(children=(IntSlider(value=5, description='rows', max=53, min=5, readout=False), IntSlider(value=12…"
      ]
     },
     "metadata": {},
     "output_type": "display_data"
    }
   ],
   "source": [
    "df = pd.read_excel('../../CF_data/Data_SITEREM/Resultats_Siterem_eau_extension_pilote_jusque_decembre_2020.xlsx', \n",
    "                   sheet_name='param. physico', skiprows=2)\n",
    "df=na_line_drop(df,0)\n",
    "df=na_col_drop(df,1)\n",
    "df.replace(r'<|>','', inplace=True, regex=True)\n",
    "df.replace(r'-$',np.nan, inplace=True, regex=True)\n",
    "\n",
    "dataframe_viewer(df, rows=5)"
   ]
  },
  {
   "cell_type": "code",
   "execution_count": 202,
   "id": "tough-sewing",
   "metadata": {},
   "outputs": [],
   "source": [
    "df=df.transpose()\n",
    "df.reset_index(drop=True, inplace=True)"
   ]
  },
  {
   "cell_type": "code",
   "execution_count": 203,
   "id": "alpha-concrete",
   "metadata": {},
   "outputs": [],
   "source": [
    "df=col_ren(df, 1)"
   ]
  },
  {
   "cell_type": "code",
   "execution_count": 204,
   "id": "noticed-supplement",
   "metadata": {},
   "outputs": [],
   "source": [
    "df.drop(list(range(2)), axis=0, inplace=True)\n",
    "df.reset_index(drop=True, inplace=True)"
   ]
  },
  {
   "cell_type": "code",
   "execution_count": 205,
   "id": "floating-sweet",
   "metadata": {},
   "outputs": [],
   "source": [
    "sdf=df.iloc[:,:33]\n",
    "df=df.iloc[:,34:]"
   ]
  },
  {
   "cell_type": "code",
   "execution_count": 206,
   "id": "basic-marking",
   "metadata": {},
   "outputs": [
    {
     "name": "stdout",
     "output_type": "stream",
     "text": [
      "column(s) dropped: ['3:Période ']\n",
      "column(s) dropped: ['6:Autre zone suspecte investiguée', '26:pH', '32:pH']\n"
     ]
    }
   ],
   "source": [
    "df=dble_col_drop(df)\n",
    "sdf=dble_col_drop(sdf)"
   ]
  },
  {
   "cell_type": "code",
   "execution_count": 207,
   "id": "labeled-consolidation",
   "metadata": {},
   "outputs": [
    {
     "name": "stderr",
     "output_type": "stream",
     "text": [
      "/home/yanathan/.local/share/virtualenvs/GSDMA-DRfwm83x/lib/python3.8/site-packages/pandas/core/frame.py:4901: SettingWithCopyWarning: \n",
      "A value is trying to be set on a copy of a slice from a DataFrame\n",
      "\n",
      "See the caveats in the documentation: https://pandas.pydata.org/pandas-docs/stable/user_guide/indexing.html#returning-a-view-versus-a-copy\n",
      "  return super().drop(\n"
     ]
    },
    {
     "name": "stdout",
     "output_type": "stream",
     "text": [
      "41 NaN lines dropped\n",
      "27 NaN lines dropped\n"
     ]
    }
   ],
   "source": [
    "df=na_line_drop(df,1)\n",
    "sdf=na_line_drop(sdf,1)"
   ]
  },
  {
   "cell_type": "code",
   "execution_count": 208,
   "id": "closed-spoke",
   "metadata": {},
   "outputs": [
    {
     "name": "stdout",
     "output_type": "stream",
     "text": [
      "\n",
      "Columns dropped :['Profondeur de la nappe/chambre visite', 'Organoleptique odeur intensité (**)', 'Organoleptique odeur type', 'Profondeur de la nappe/sol ', 'PARAMETRES PHYSICO-CHIMIQUES \\n(lors du prélèvement)', \"*paramètres n'ont pas été pris en débit continu (dans seau) - peu de débit\", 'col_52']\n",
      "\n",
      "\n",
      "Columns dropped :['SPP/zone suspecte investiguée', 'Autre zone suspecte investiguée', 'Parcelle', 'X Lambert', 'Y Lambert', \"Type d'étude (*)\", 'Profondeur minimum de la crépine', 'Profondeur maximum de la crépine', 'Profondeur du fond du piézomètre', 'Organoleptique odeur intensité (**)', 'Organoleptique odeur type', 'Limpidité (***)', 'Température', 'Conductivité électrique', 'PARAMETRES PHYSICO-CHIMIQUES \\n(lors du prélèvement)', 'PARAMETRES PHYSICO-CHIMIQUES \\n(mesures au labo)']\n",
      "\n"
     ]
    }
   ],
   "source": [
    "df=na_col_drop(df,1)\n",
    "sdf=na_col_drop(sdf,1)"
   ]
  },
  {
   "cell_type": "code",
   "execution_count": 209,
   "id": "sonic-immigration",
   "metadata": {},
   "outputs": [],
   "source": [
    "name=['ID_ech','Periode','Emplacement','Date_prv','Niv_eau_pz','Long_pz','Temp_prv ','pH', 'CE', 'ORP','O_diss']\n",
    "df=col_ren(df, mode=1, name=name)"
   ]
  },
  {
   "cell_type": "code",
   "execution_count": 210,
   "id": "adult-conversion",
   "metadata": {},
   "outputs": [],
   "source": [
    "sdf=sdf.iloc[:,:-1]\n",
    "name=['ID_ech','Periode','Emplacement','Date_prv','Niv_eau_pz','Niv_eau_chbre','pH','Niv_eau_sol','Long_pz',\n",
    "      'Temp_prv ','CE','ORP','O_diss']\n",
    "sdf=col_ren(sdf, mode=1, name=name)"
   ]
  },
  {
   "cell_type": "code",
   "execution_count": 211,
   "id": "mature-occasions",
   "metadata": {},
   "outputs": [],
   "source": [
    "df['CE']=df['CE'].apply(lambda x: pd.to_numeric(x)/1000 \n",
    "                                  if re.search('^\\d+', str(x)) and not pd.isnull(x) else np.nan)\n",
    "sdf['CE']=sdf['CE'].apply(lambda x: pd.to_numeric(x)/1000 \n",
    "                                  if re.search('^\\d+', str(x)) and not pd.isnull(x) else np.nan)"
   ]
  },
  {
   "cell_type": "code",
   "execution_count": 212,
   "id": "ecological-thomson",
   "metadata": {},
   "outputs": [],
   "source": [
    "sdf['Periode'].replace('\\n',' ', regex=True, inplace=True)\n",
    "sdf.replace('\\n','', regex=True, inplace=True)"
   ]
  },
  {
   "cell_type": "code",
   "execution_count": 213,
   "id": "tracked-course",
   "metadata": {
    "scrolled": true
   },
   "outputs": [],
   "source": [
    "data=[df, sdf]\n",
    "for d in data:\n",
    "    d['Rmq']=''\n",
    "    for i in range(len(d['ID_ech'])):\n",
    "        e=str(d.loc[i, 'Emplacement'])\n",
    "        n=str(d.loc[i, 'ID_ech'])\n",
    "        d.loc[i,'ID_ech']=n.replace('*', '')\n",
    "        \n",
    "        if re.match('S',e, re.I): \n",
    "            d.loc[i,'Emplacement']='Simulateur'\n",
    "        elif re.match('HZS',e, re.I): \n",
    "            d.loc[i,'Emplacement']='Hors simulateur'\n",
    "        else:\n",
    "            d.loc[i,'Emplacement']=np.nan\n",
    "        \n",
    "        if re.match('\\d+\\*{1}$',n, re.I): \n",
    "            d.loc[i,'Rmq']=\"mesures faites dans un seau (débit non continu ou peu de débit)\"\n",
    "        elif re.match('\\d+\\*{2}$',n, re.I): \n",
    "            d.loc[i,'Rmq']=\"mésures faites dans une eau quasi-stagnante (Piezo rempli de sédiment et débit très faible)\""
   ]
  },
  {
   "cell_type": "code",
   "execution_count": 214,
   "id": "intimate-pregnancy",
   "metadata": {},
   "outputs": [],
   "source": [
    "df.insert(1, 'Type_ech', 'Eau')\n",
    "sdf.insert(1, 'Type_ech', 'Eau')"
   ]
  },
  {
   "cell_type": "code",
   "execution_count": 215,
   "id": "further-blind",
   "metadata": {},
   "outputs": [],
   "source": [
    "prv_eau=data_merger(sdf, df, 'outer', 'ID_ech')[0]"
   ]
  },
  {
   "cell_type": "code",
   "execution_count": 216,
   "id": "scheduled-prize",
   "metadata": {},
   "outputs": [],
   "source": [
    "prv_eau=na_col_drop(df,2)\n",
    "prv_eau=na_line_drop(df,1)\n",
    "prv_eau.reset_index(drop=True, inplace=True)"
   ]
  },
  {
   "cell_type": "code",
   "execution_count": 217,
   "id": "58350c1b",
   "metadata": {},
   "outputs": [],
   "source": [
    "for i in prv_eau.index:\n",
    "    if not pd.isnull(prv_eau.loc[i, 'Emplacement']):\n",
    "        val = prv_eau.loc[i, 'Emplacement']\n",
    "    else:\n",
    "        prv_eau.loc[i, 'Emplacement'] = val"
   ]
  },
  {
   "cell_type": "code",
   "execution_count": 218,
   "id": "literary-nicaragua",
   "metadata": {
    "scrolled": true
   },
   "outputs": [
    {
     "name": "stdout",
     "output_type": "stream",
     "text": [
      "Rows : 33, columns : 13\n"
     ]
    },
    {
     "data": {
      "application/vnd.jupyter.widget-view+json": {
       "model_id": "253e3d584ad14927b05aebceaab4bd7d",
       "version_major": 2,
       "version_minor": 0
      },
      "text/plain": [
       "interactive(children=(IntSlider(value=3, description='rows', max=33, min=3, readout=False), IntSlider(value=12…"
      ]
     },
     "metadata": {},
     "output_type": "display_data"
    }
   ],
   "source": [
    "dataframe_viewer(prv_eau, rows=3)"
   ]
  },
  {
   "cell_type": "code",
   "execution_count": 219,
   "id": "unavailable-force",
   "metadata": {},
   "outputs": [
    {
     "name": "stdout",
     "output_type": "stream",
     "text": [
      "Conflict values present. Please resolve this manually !\n"
     ]
    }
   ],
   "source": [
    "source_prv_eau, conflict_df = data_merger(source_prv_eau, prv_eau, on=['ID_ech', 'Date_prv'], how='outer')"
   ]
  },
  {
   "cell_type": "code",
   "execution_count": 220,
   "id": "b4495851",
   "metadata": {},
   "outputs": [
    {
     "name": "stdout",
     "output_type": "stream",
     "text": [
      "Rows : 21, columns : 9\n"
     ]
    },
    {
     "data": {
      "application/vnd.jupyter.widget-view+json": {
       "model_id": "6870822032c240d79aded16cb18f42cc",
       "version_major": 2,
       "version_minor": 0
      },
      "text/plain": [
       "interactive(children=(IntSlider(value=3, description='rows', max=21, min=3, readout=False), IntSlider(value=9,…"
      ]
     },
     "metadata": {},
     "output_type": "display_data"
    }
   ],
   "source": [
    "dataframe_viewer(conflict_df, rows=3)"
   ]
  },
  {
   "cell_type": "code",
   "execution_count": 221,
   "id": "6692ab92",
   "metadata": {},
   "outputs": [
    {
     "name": "stdout",
     "output_type": "stream",
     "text": [
      "all conflicts have been fixed!\n"
     ]
    }
   ],
   "source": [
    "data_validation(overall_data=source_prv_eau, conflict_data=conflict_df, index_col='index', \n",
    "                valid_dict={'Emplacement_x':list(conflict_df.index), 'pH_y':list(conflict_df.index), \n",
    "                           'Periode_x':list(conflict_df.index)})"
   ]
  },
  {
   "cell_type": "code",
   "execution_count": 222,
   "id": "higher-visiting",
   "metadata": {
    "scrolled": false
   },
   "outputs": [
    {
     "name": "stdout",
     "output_type": "stream",
     "text": [
      "source_bh:0 ; source_pz:0 ; source_litho:0 ; source_Fac-uknw:0 ; source_an:33 ;\n",
      "source_prv_sol:0 ;source_prv_eau:43 ; source_mes_pz:0 ; source_mes_sol:0 ;\n"
     ]
    }
   ],
   "source": [
    "if not os.path.exists(tmp_dir):\n",
    "    os.makedirs(tmp_dir)\n",
    "\n",
    "#bh.to_csv(tmp_dir+'source_Boreholes.csv', index=False)\n",
    "#pz.to_csv(tmp_dir+sheet+'_Piezometers.csv', index=False)\n",
    "#ouv.to_csv(tmp_dir+sheet+'_Unkown-facility.csv', index=False)\n",
    "#litho.to_csv(tmp_dir+sheet+'_Lithology.csv', index=False)\n",
    "#mes_pz.to_csv(tmp_dir+sheet+'_Measures.csv', index=False)\n",
    "#mes_sol.to_csv(tmp_dir+sheet+'_Measures-soil.csv', index=False)\n",
    "prv_eau.to_csv(tmp_dir+sheet+'_Samples-water.csv', index=False)\n",
    "#prv_sol.to_csv(tmp_dir+sheet+'_Samples-soil.csv', index=False)\n",
    "#an.to_csv(tmp_dir+sheet+'_Analysis.csv', index=False)\n",
    "\n",
    "\n",
    "#source_bh.to_csv(tmp_dir+'source_Boreholes.csv', index=False)\n",
    "#source_pz.to_csv(tmp_dir+'source_Piezometers.csv', index=False)\n",
    "#source_ouv.to_csv(tmp_dir+'source_Unkown-facility.csv', index=False)\n",
    "#source_litho.to_csv(tmp_dir+'source_Lithology.csv', index=False)\n",
    "#source_mes_pz.to_csv(tmp_dir+'source_Measures.csv', index=False)\n",
    "#source_mes_sol.to_csv(tmp_dir+'source_Measures-soil.csv', index=False)\n",
    "source_prv_eau.to_csv(tmp_dir+'source_Samples-water.csv', index=False)\n",
    "#source_prv_sol.to_csv(tmp_dir+'source_Samples-soil.csv', index=False)\n",
    "#source_an.to_csv(tmp_dir+'source_Analysis.csv', index=False)\n",
    "\n",
    "\n",
    "print(f'source_bh:{len(source_bh)} ; source_pz:{len(source_pz)} ; source_litho:{len(source_litho)} ; '\n",
    "     f'source_Fac-uknw:{len(source_ouv)} ; source_an:{len(source_an)} ;\\nsource_prv_sol:{len(source_prv_sol)} ;'\n",
    "     f'source_prv_eau:{len(source_prv_eau)} ; source_mes_pz:{len(source_mes_pz)} ; source_mes_sol:{len(source_mes_sol)} ;')"
   ]
  },
  {
   "cell_type": "markdown",
   "id": "knowing-crown",
   "metadata": {},
   "source": [
    "* **Sheet : 'Inorganiques et composés majeurs'**"
   ]
  },
  {
   "cell_type": "code",
   "execution_count": 223,
   "id": "japanese-blame",
   "metadata": {},
   "outputs": [],
   "source": [
    "tmp_dir='../../CF_data/Result_traitem/Siterem_Ext_Pilote/'\n",
    "sheet='Inorganic_major'"
   ]
  },
  {
   "cell_type": "code",
   "execution_count": 224,
   "id": "legal-kitchen",
   "metadata": {},
   "outputs": [
    {
     "name": "stdout",
     "output_type": "stream",
     "text": [
      "3 NaN lines dropped\n",
      "\n",
      "Columns dropped :['Unnamed: 0', 'Unnamed: 2', 'Unnamed: 29', 'Unnamed: 30', 'Unnamed: 31', 'Unnamed: 32', 'Unnamed: 33', 'Unnamed: 34']\n",
      "\n",
      "Rows : 68, columns : 28\n"
     ]
    },
    {
     "name": "stderr",
     "output_type": "stream",
     "text": [
      "/home/yanathan/.local/share/virtualenvs/GSDMA-DRfwm83x/lib/python3.8/site-packages/pandas/core/frame.py:4901: SettingWithCopyWarning: \n",
      "A value is trying to be set on a copy of a slice from a DataFrame\n",
      "\n",
      "See the caveats in the documentation: https://pandas.pydata.org/pandas-docs/stable/user_guide/indexing.html#returning-a-view-versus-a-copy\n",
      "  return super().drop(\n"
     ]
    },
    {
     "data": {
      "application/vnd.jupyter.widget-view+json": {
       "model_id": "ffae0df0410d4f8c9a1c588e2c4d7e35",
       "version_major": 2,
       "version_minor": 0
      },
      "text/plain": [
       "interactive(children=(IntSlider(value=5, description='rows', max=68, min=5, readout=False), IntSlider(value=12…"
      ]
     },
     "metadata": {},
     "output_type": "display_data"
    }
   ],
   "source": [
    "df = pd.read_excel('../../CF_data/Data_SITEREM/Resultats_Siterem_eau_extension_pilote_jusque_decembre_2020.xlsx', \n",
    "                   sheet_name='inorganiques et composés majeur', skiprows=2)\n",
    "df=na_line_drop(df,0)\n",
    "df=na_col_drop(df,1)\n",
    "df.replace(r'<|>','', inplace=True, regex=True)\n",
    "df.replace(r'-$',np.nan, inplace=True, regex=True)\n",
    "\n",
    "dataframe_viewer(df, rows=5)"
   ]
  },
  {
   "cell_type": "code",
   "execution_count": 225,
   "id": "broken-undergraduate",
   "metadata": {},
   "outputs": [],
   "source": [
    "prv_eau=df.loc[:21]\n",
    "an=df.loc[list(range(0,4))+list(range(22, len(df)))]"
   ]
  },
  {
   "cell_type": "code",
   "execution_count": 226,
   "id": "finished-native",
   "metadata": {},
   "outputs": [],
   "source": [
    "an = an.sort_index().reset_index(drop=True)"
   ]
  },
  {
   "cell_type": "code",
   "execution_count": 227,
   "id": "genuine-florist",
   "metadata": {},
   "outputs": [],
   "source": [
    "prv_eau=prv_eau.transpose()\n",
    "prv_eau.reset_index(drop=True, inplace=True)\n",
    "prv_eau=col_ren(prv_eau, 1)"
   ]
  },
  {
   "cell_type": "code",
   "execution_count": 228,
   "id": "proper-happening",
   "metadata": {},
   "outputs": [
    {
     "name": "stdout",
     "output_type": "stream",
     "text": [
      "column(s) dropped: ['6:Autre zone suspecte investiguée']\n"
     ]
    }
   ],
   "source": [
    "prv_eau=dble_col_drop(prv_eau)"
   ]
  },
  {
   "cell_type": "code",
   "execution_count": 229,
   "id": "ordered-egypt",
   "metadata": {},
   "outputs": [
    {
     "name": "stdout",
     "output_type": "stream",
     "text": [
      "\n",
      "Columns dropped :['SPP/zone suspecte investiguée', 'Autre zone suspecte investiguée', 'Parcelle', 'X Lambert', 'Y Lambert', \"Type d'étude (*)\", 'Profondeur minimum de la crépine', 'Profondeur maximum de la crépine', 'Profondeur du fond du piézomètre', 'Profondeur de la nappe', 'Organoleptique odeur intensité (**)', 'Organoleptique odeur type', 'Limpidité (***)', 'Température', 'Conductivité électrique', 'pH']\n",
      "\n",
      "1 NaN lines dropped\n"
     ]
    },
    {
     "name": "stderr",
     "output_type": "stream",
     "text": [
      "/home/yanathan/.local/share/virtualenvs/GSDMA-DRfwm83x/lib/python3.8/site-packages/pandas/core/frame.py:4901: SettingWithCopyWarning: \n",
      "A value is trying to be set on a copy of a slice from a DataFrame\n",
      "\n",
      "See the caveats in the documentation: https://pandas.pydata.org/pandas-docs/stable/user_guide/indexing.html#returning-a-view-versus-a-copy\n",
      "  return super().drop(\n"
     ]
    }
   ],
   "source": [
    "prv_eau.drop(list(range(2)), axis=0, inplace=True)\n",
    "prv_eau.reset_index(drop=True, inplace=True)\n",
    "prv_eau=na_col_drop(prv_eau,2)\n",
    "prv_eau=na_line_drop(prv_eau,2)\n",
    "prv_eau.reset_index(drop=True, inplace=True)"
   ]
  },
  {
   "cell_type": "code",
   "execution_count": 230,
   "id": "greater-belgium",
   "metadata": {},
   "outputs": [
    {
     "data": {
      "text/plain": [
       "Index(['Nom échantillon', 'Période ', 'Emplacement ', 'Date de prélèvement',\n",
       "       'Température de prélèvement '],\n",
       "      dtype='object')"
      ]
     },
     "execution_count": 230,
     "metadata": {},
     "output_type": "execute_result"
    }
   ],
   "source": [
    "prv_eau.columns"
   ]
  },
  {
   "cell_type": "code",
   "execution_count": 231,
   "id": "narrow-trading",
   "metadata": {},
   "outputs": [],
   "source": [
    "name=['ID_ech', 'Periode', 'Emplacement','Date_prv','Temp_prv']\n",
    "prv_eau=col_ren(prv_eau, name=name, mode=1)\n",
    "prv_eau=prv_eau.query('ID_ech==ID_ech')\n",
    "prv_eau.insert(1,'Type_ech','Eau')"
   ]
  },
  {
   "cell_type": "code",
   "execution_count": 232,
   "id": "coral-spending",
   "metadata": {
    "scrolled": true
   },
   "outputs": [
    {
     "name": "stdout",
     "output_type": "stream",
     "text": [
      "Rows : 24, columns : 6\n"
     ]
    },
    {
     "data": {
      "application/vnd.jupyter.widget-view+json": {
       "model_id": "6e9a494cb93648038deb3293f65af7a9",
       "version_major": 2,
       "version_minor": 0
      },
      "text/plain": [
       "interactive(children=(IntSlider(value=3, description='rows', max=24, min=3, readout=False), IntSlider(value=6,…"
      ]
     },
     "metadata": {},
     "output_type": "display_data"
    }
   ],
   "source": [
    "dataframe_viewer(prv_eau, rows=3)"
   ]
  },
  {
   "cell_type": "code",
   "execution_count": 233,
   "id": "healthy-synthesis",
   "metadata": {},
   "outputs": [],
   "source": [
    "an=an.transpose()\n",
    "an.reset_index(drop=True, inplace=True)"
   ]
  },
  {
   "cell_type": "code",
   "execution_count": 234,
   "id": "bronze-history",
   "metadata": {},
   "outputs": [],
   "source": [
    "an=col_ren(an, 1)"
   ]
  },
  {
   "cell_type": "code",
   "execution_count": 235,
   "id": "arranged-sociology",
   "metadata": {},
   "outputs": [],
   "source": [
    "an.replace(r'<|>','', inplace=True, regex=True)\n",
    "an.replace(r'-',np.nan, inplace=True, regex=True)\n",
    "an.rename(columns={an.columns[0]:'ID_ech'}, inplace=True)"
   ]
  },
  {
   "cell_type": "code",
   "execution_count": 236,
   "id": "worldwide-struggle",
   "metadata": {},
   "outputs": [
    {
     "name": "stdout",
     "output_type": "stream",
     "text": [
      "column(s) dropped: ['11:ammonium', '15:nitrite', '17:nitrate']\n"
     ]
    }
   ],
   "source": [
    "an=dble_col_drop(an)"
   ]
  },
  {
   "cell_type": "code",
   "execution_count": 237,
   "id": "protected-decrease",
   "metadata": {},
   "outputs": [
    {
     "name": "stdout",
     "output_type": "stream",
     "text": [
      "\n",
      "Columns dropped :['CARBONE ORGANIQUE', 'DEMANDE EN O2', 'COMPOSES AZOTES', 'COMPOSES SOUFRES ', 'ELEMENTS MAJEURS', 'AUTRES ANALYSES', 'cyanure (libre)', 'METHYL-TERT-BUTYL-ETHER', 'MTBE', 'Teneur mesurée ', 'Teneur mesurée', 'VS : Valeur seuil', \"(*) RP : Rapport de prélèvements; ES : Etude de sol; EO : Etude d'orientation; EC : Etude de caractérisation; SA : Suivi d'assainissement; EF : Evaluation finale\", \"(**) - : Pas d'impression organoleptique; + : Impression organoleptique faible; ++ : Impression organoleptique forte\", '(***) + : Limpide; - : Trouble; -- : Opaque', \"Le contenu des tableaux est conforme au modèle repris à l'annexe IX du GREO V03. Le formalisme a été adapté par SITEREM tout en garantissant la lisibilité du document imprimé. \"]\n",
      "\n"
     ]
    }
   ],
   "source": [
    "an=na_col_drop(an,3)"
   ]
  },
  {
   "cell_type": "code",
   "execution_count": 238,
   "id": "loaded-thong",
   "metadata": {},
   "outputs": [
    {
     "data": {
      "text/plain": [
       "Index(['ID_ech', 'Période ', 'Emplacement ', 'Date de prélèvement', 'COT',\n",
       "       'DBO (5 jours)', 'DCO', 'ammonium', 'ammoniaque - libre',\n",
       "       'azote Kjeldahl', 'nitrite', 'nitrate', 'sulfures totaux',\n",
       "       'sulfures (libre)', 'Soufre Total', 'sulfites', 'sulfate', 'calcium',\n",
       "       'potassium', 'magnésium', 'manganèse', 'sodium', 'fer',\n",
       "       'fer (Fe) total', 'fer (2+)', 'chlorures', 'fluorures',\n",
       "       'bromure (libre)', 'phosphore (total)', 'carbonate', 'bicarbonate'],\n",
       "      dtype='object')"
      ]
     },
     "execution_count": 238,
     "metadata": {},
     "output_type": "execute_result"
    }
   ],
   "source": [
    "an.columns"
   ]
  },
  {
   "cell_type": "code",
   "execution_count": 239,
   "id": "9e7daf20",
   "metadata": {},
   "outputs": [],
   "source": [
    "an.rename(columns={'ammoniaque - libre':'ammoniaque libre'}, inplace=True)"
   ]
  },
  {
   "cell_type": "code",
   "execution_count": 240,
   "id": "harmful-steel",
   "metadata": {},
   "outputs": [],
   "source": [
    "an.drop(list(range(2)), axis=0, inplace=True)\n",
    "an.reset_index(drop=True, inplace=True)\n",
    "an=na_col_drop(an,1)\n",
    "an.insert(1,'Type_ech','Eau')"
   ]
  },
  {
   "cell_type": "code",
   "execution_count": 241,
   "id": "standard-chuck",
   "metadata": {},
   "outputs": [],
   "source": [
    "an=col_ren(an, name=pol_field_model, mode=1)\n",
    "an.rename(columns={'Période ':'Periode', 'Date de prélèvement':'Date_prv'}, inplace=True)\n",
    "#an=an.iloc[:,:-7]"
   ]
  },
  {
   "cell_type": "code",
   "execution_count": 242,
   "id": "dying-tolerance",
   "metadata": {
    "scrolled": false
   },
   "outputs": [
    {
     "name": "stdout",
     "output_type": "stream",
     "text": [
      "Rows : 25, columns : 32\n"
     ]
    },
    {
     "data": {
      "application/vnd.jupyter.widget-view+json": {
       "model_id": "7374e652a32a47c58446493c6ce83499",
       "version_major": 2,
       "version_minor": 0
      },
      "text/plain": [
       "interactive(children=(IntSlider(value=3, description='rows', max=25, min=3, readout=False), IntSlider(value=12…"
      ]
     },
     "metadata": {},
     "output_type": "display_data"
    }
   ],
   "source": [
    "dataframe_viewer(an, rows=3)"
   ]
  },
  {
   "cell_type": "code",
   "execution_count": 243,
   "id": "mineral-charity",
   "metadata": {},
   "outputs": [
    {
     "name": "stdout",
     "output_type": "stream",
     "text": [
      "Rows : 43, columns : 15\n"
     ]
    },
    {
     "data": {
      "application/vnd.jupyter.widget-view+json": {
       "model_id": "ef29f84301d04eceae12296be2555847",
       "version_major": 2,
       "version_minor": 0
      },
      "text/plain": [
       "interactive(children=(IntSlider(value=3, description='rows', max=43, min=3, readout=False), IntSlider(value=12…"
      ]
     },
     "metadata": {},
     "output_type": "display_data"
    }
   ],
   "source": [
    "dataframe_viewer(source_prv_eau, rows=3)"
   ]
  },
  {
   "cell_type": "code",
   "execution_count": 244,
   "id": "9b491abf",
   "metadata": {},
   "outputs": [],
   "source": [
    "source_prv_eau.Date_prv = source_prv_eau.Date_prv.astype(object)"
   ]
  },
  {
   "cell_type": "code",
   "execution_count": 245,
   "id": "6a8b720d",
   "metadata": {},
   "outputs": [
    {
     "name": "stdout",
     "output_type": "stream",
     "text": [
      "Conflict values present. Please resolve this manually !\n"
     ]
    }
   ],
   "source": [
    "source_prv_eau, conflict_df=data_merger(source_prv_eau, prv_eau, 'outer', ['ID_ech', 'Date_prv'])"
   ]
  },
  {
   "cell_type": "code",
   "execution_count": 246,
   "id": "c607afeb",
   "metadata": {},
   "outputs": [
    {
     "name": "stdout",
     "output_type": "stream",
     "text": [
      "all conflicts have been fixed!\n"
     ]
    }
   ],
   "source": [
    "data_validation(overall_data=source_prv_eau, conflict_data=conflict_df, index_col='index', \n",
    "                valid_dict={'Periode_y':list(conflict_df.index), 'Emplacement_y':list(conflict_df.index)})"
   ]
  },
  {
   "cell_type": "code",
   "execution_count": 247,
   "id": "d51440e7",
   "metadata": {},
   "outputs": [],
   "source": [
    "source_an, conflict_df=data_merger(source_an, an, 'outer', ['ID_ech', 'Date_prv'])"
   ]
  },
  {
   "cell_type": "code",
   "execution_count": 248,
   "id": "5862ac3c",
   "metadata": {},
   "outputs": [],
   "source": [
    "source_an.Date_prv = source_an.Date_prv.astype(object)"
   ]
  },
  {
   "cell_type": "code",
   "execution_count": 249,
   "id": "72f91248",
   "metadata": {},
   "outputs": [
    {
     "name": "stdout",
     "output_type": "stream",
     "text": [
      "Rows : 38, columns : 98\n"
     ]
    },
    {
     "data": {
      "application/vnd.jupyter.widget-view+json": {
       "model_id": "d5b41593308846fe9099dd7ca4bc11a8",
       "version_major": 2,
       "version_minor": 0
      },
      "text/plain": [
       "interactive(children=(IntSlider(value=5, description='rows', max=38, min=5, readout=False), IntSlider(value=13…"
      ]
     },
     "metadata": {},
     "output_type": "display_data"
    },
    {
     "name": "stdout",
     "output_type": "stream",
     "text": [
      "Rows : 43, columns : 15\n"
     ]
    },
    {
     "data": {
      "application/vnd.jupyter.widget-view+json": {
       "model_id": "214a4f091d084f919ce47e23efc1e3a7",
       "version_major": 2,
       "version_minor": 0
      },
      "text/plain": [
       "interactive(children=(IntSlider(value=5, description='rows', max=43, min=5, readout=False), IntSlider(value=13…"
      ]
     },
     "metadata": {},
     "output_type": "display_data"
    },
    {
     "data": {
      "text/plain": [
       "(None, None)"
      ]
     },
     "execution_count": 249,
     "metadata": {},
     "output_type": "execute_result"
    }
   ],
   "source": [
    "dataframe_viewer(source_an, rows=5, cols=13), dataframe_viewer(source_prv_eau, rows=5, cols=13)"
   ]
  },
  {
   "cell_type": "code",
   "execution_count": 250,
   "id": "chinese-sensitivity",
   "metadata": {},
   "outputs": [
    {
     "name": "stdout",
     "output_type": "stream",
     "text": [
      "source_bh:0 ; source_pz:0 ; source_litho:0 ; source_Fac-uknw:0 ; source_an:38 ;\n",
      "source_prv_sol:0 ;source_prv_eau:43 ; source_mes_pz:0 ; source_mes_sol:0 ;\n"
     ]
    }
   ],
   "source": [
    "if not os.path.exists(tmp_dir):\n",
    "    os.makedirs(tmp_dir)\n",
    "\n",
    "#bh.to_csv(tmp_dir+'source_Boreholes.csv', index=False)\n",
    "#pz.to_csv(tmp_dir+sheet+'_Piezometers.csv', index=False)\n",
    "#ouv.to_csv(tmp_dir+sheet+'_Unkown-facility.csv', index=False)\n",
    "#litho.to_csv(tmp_dir+sheet+'_Lithology.csv', index=False)\n",
    "#mes_pz.to_csv(tmp_dir+sheet+'_Measures.csv', index=False)\n",
    "#mes_sol.to_csv(tmp_dir+sheet+'_Measures-soil.csv', index=False)\n",
    "prv_eau.to_csv(tmp_dir+sheet+'_Samples-water.csv', index=False)\n",
    "#prv_sol.to_csv(tmp_dir+sheet+'_Samples-soil.csv', index=False)\n",
    "an.to_csv(tmp_dir+sheet+'_Analysis.csv', index=False)\n",
    "\n",
    "\n",
    "#source_bh.to_csv(tmp_dir+'source_Boreholes.csv', index=False)\n",
    "#source_pz.to_csv(tmp_dir+'source_Piezometers.csv', index=False)\n",
    "#source_ouv.to_csv(tmp_dir+'source_Unkown-facility.csv', index=False)\n",
    "#source_litho.to_csv(tmp_dir+'source_Lithology.csv', index=False)\n",
    "#source_mes_pz.to_csv(tmp_dir+'source_Measures.csv', index=False)\n",
    "#source_mes_sol.to_csv(tmp_dir+'source_Measures-soil.csv', index=False)\n",
    "source_prv_eau.to_csv(tmp_dir+'source_Samples-water.csv', index=False)\n",
    "#source_prv_sol.to_csv(tmp_dir+'source_Samples-soil.csv', index=False)\n",
    "source_an.to_csv(tmp_dir+'source_Analysis.csv', index=False)\n",
    "\n",
    "\n",
    "print(f'source_bh:{len(source_bh)} ; source_pz:{len(source_pz)} ; source_litho:{len(source_litho)} ; '\n",
    "     f'source_Fac-uknw:{len(source_ouv)} ; source_an:{len(source_an)} ;\\nsource_prv_sol:{len(source_prv_sol)} ;'\n",
    "     f'source_prv_eau:{len(source_prv_eau)} ; source_mes_pz:{len(source_mes_pz)} ; source_mes_sol:{len(source_mes_sol)} ;')"
   ]
  },
  {
   "cell_type": "markdown",
   "id": "1e29414f",
   "metadata": {},
   "source": [
    "### $\\color{red}{\\textbf{Excel sheets data merging}}$"
   ]
  },
  {
   "cell_type": "code",
   "execution_count": 251,
   "id": "c8aad90e",
   "metadata": {},
   "outputs": [],
   "source": [
    "excel_bh_water_an, conflict_df = data_merger(source_an, source_prv_eau, how='outer', on=['ID_ech', 'Date_prv'], drop_skip_col=['index'])"
   ]
  },
  {
   "cell_type": "code",
   "execution_count": 252,
   "id": "65551369",
   "metadata": {},
   "outputs": [],
   "source": [
    "save_dir = tmp_dir + 'Final_merge/final_'\n",
    "if not os.path.exists(save_dir):\n",
    "    os.makedirs(save_dir)\n",
    "\n",
    "#excel_bhs.to_csv(save_dir + 'Boreholes.csv', index=False)\n",
    "#excel_bh_litho.to_csv(save_dir+'Lithologies.csv', index=False)\n",
    "#excel_bh_equip.to_csv(save_dir+'Equipments.csv', index=False)\n",
    "#excel_bh_soil_sp.to_csv(save_dir+'Soil_samples.csv', index=False)\n",
    "#excel_bh_water_sp.to_csv(save_dir+'Water_samples.csv', index=False)\n",
    "#excel_bh_soil_an.to_csv(save_dir+'Soil_analysis.csv', index=False)\n",
    "excel_bh_water_an.to_csv(save_dir+'water_analysis.csv', index=False)\n",
    "#excel_bh_mes.to_csv(save_dir+'Measures.csv', index=False)\n",
    "#excel_bh_fac.to_csv(save_dir+'Unknow_facilities.csv', index=False)"
   ]
  },
  {
   "cell_type": "markdown",
   "id": "yellow-burke",
   "metadata": {},
   "source": [
    "## 12-Resultats_Siterem_eau_pilote_jusque_decembre_2020.xlsx\n",
    "* **Sheet : 'Résult EAU'**"
   ]
  },
  {
   "cell_type": "code",
   "execution_count": 253,
   "id": "strategic-albany",
   "metadata": {},
   "outputs": [],
   "source": [
    "# New file, so the source variables must be overwritten !!\n",
    "_df=pd.DataFrame()\n",
    "source_mes_pz, source_mes_sol, source_pz, source_prv_eau, source_prv_sol =  _df, _df, _df, _df, _df\n",
    "source_ouv, source_an, source_litho, source_bh = _df, _df, _df, _df"
   ]
  },
  {
   "cell_type": "code",
   "execution_count": 254,
   "id": "vocal-longer",
   "metadata": {},
   "outputs": [],
   "source": [
    "tmp_dir='../../CF_data/Result_traitem/Siterem_Pilote/'\n",
    "sheet='Result_eau'"
   ]
  },
  {
   "cell_type": "code",
   "execution_count": 255,
   "id": "objective-psychology",
   "metadata": {},
   "outputs": [
    {
     "name": "stdout",
     "output_type": "stream",
     "text": [
      "3 NaN lines dropped\n",
      "\n",
      "Columns dropped :['Unnamed: 0', 'Unnamed: 2']\n",
      "\n",
      "Rows : 117, columns : 91\n"
     ]
    },
    {
     "name": "stderr",
     "output_type": "stream",
     "text": [
      "/home/yanathan/.local/share/virtualenvs/GSDMA-DRfwm83x/lib/python3.8/site-packages/openpyxl/worksheet/_reader.py:312: UserWarning: Data Validation extension is not supported and will be removed\n",
      "  warn(msg)\n",
      "/home/yanathan/.local/share/virtualenvs/GSDMA-DRfwm83x/lib/python3.8/site-packages/pandas/core/frame.py:4901: SettingWithCopyWarning: \n",
      "A value is trying to be set on a copy of a slice from a DataFrame\n",
      "\n",
      "See the caveats in the documentation: https://pandas.pydata.org/pandas-docs/stable/user_guide/indexing.html#returning-a-view-versus-a-copy\n",
      "  return super().drop(\n"
     ]
    },
    {
     "data": {
      "application/vnd.jupyter.widget-view+json": {
       "model_id": "332488979c444f4eb90cd07031d6dc5c",
       "version_major": 2,
       "version_minor": 0
      },
      "text/plain": [
       "interactive(children=(IntSlider(value=5, description='rows', max=117, min=5, readout=False), IntSlider(value=1…"
      ]
     },
     "metadata": {},
     "output_type": "display_data"
    }
   ],
   "source": [
    "df = pd.read_excel('../../CF_data/Data_SITEREM/Resultats_Siterem_eau_pilote_jusque_decembre_2020.xlsx', \n",
    "                   sheet_name='Résult EAU', skiprows=2)\n",
    "df=na_line_drop(df,0)\n",
    "df=na_col_drop(df,1)\n",
    "df.replace(r'<|>','', inplace=True, regex=True)\n",
    "df.replace(r'-$',np.nan, inplace=True, regex=True)\n",
    "\n",
    "dataframe_viewer(df, rows=5)"
   ]
  },
  {
   "cell_type": "code",
   "execution_count": 256,
   "id": "understood-mistress",
   "metadata": {},
   "outputs": [],
   "source": [
    "prv_eau=df.loc[:32]\n",
    "an=df.loc[list(range(0,4))+list(range(33, len(df)))]"
   ]
  },
  {
   "cell_type": "code",
   "execution_count": 257,
   "id": "bibliographic-religious",
   "metadata": {},
   "outputs": [],
   "source": [
    "an = an.sort_index().reset_index(drop=True)"
   ]
  },
  {
   "cell_type": "code",
   "execution_count": 258,
   "id": "short-crawford",
   "metadata": {},
   "outputs": [],
   "source": [
    "prv_eau=prv_eau.transpose()\n",
    "prv_eau.reset_index(drop=True, inplace=True)\n",
    "prv_eau=col_ren(prv_eau, 1)"
   ]
  },
  {
   "cell_type": "code",
   "execution_count": 259,
   "id": "technical-median",
   "metadata": {},
   "outputs": [
    {
     "name": "stdout",
     "output_type": "stream",
     "text": [
      "column(s) dropped: ['6:Autre zone suspecte investiguée', '25:pH', '31:pH']\n"
     ]
    }
   ],
   "source": [
    "prv_eau=dble_col_drop(prv_eau)"
   ]
  },
  {
   "cell_type": "code",
   "execution_count": 260,
   "id": "signal-lucas",
   "metadata": {},
   "outputs": [
    {
     "name": "stdout",
     "output_type": "stream",
     "text": [
      "\n",
      "Columns dropped :['SPP/zone suspecte investiguée', 'Autre zone suspecte investiguée', 'Parcelle', 'X Lambert', 'Y Lambert', \"Type d'étude (*)\", 'Profondeur minimum de la crépine', 'Profondeur maximum de la crépine', 'Profondeur du fond du piézomètre', 'Organoleptique odeur intensité (**)', 'Organoleptique odeur type', 'Limpidité (***)', 'Température', 'Conductivité électrique', 'Profondeur de la nappe/sol ', 'PARAMETRES PHYSICO-CHIMIQUES \\n(lors du prélèvement)', 'PARAMETRES PHYSICO-CHIMIQUES \\n(mesures au labo)']\n",
      "\n"
     ]
    }
   ],
   "source": [
    "prv_eau.drop(list(range(3)), axis=0, inplace=True)\n",
    "prv_eau.reset_index(drop=True, inplace=True)\n",
    "prv_eau=na_col_drop(prv_eau,2)\n",
    "prv_eau=na_line_drop(prv_eau,3)\n",
    "prv_eau.reset_index(drop=True, inplace=True)"
   ]
  },
  {
   "cell_type": "code",
   "execution_count": 261,
   "id": "recognized-inspection",
   "metadata": {},
   "outputs": [
    {
     "data": {
      "text/plain": [
       "Index(['Nom échantillon', 'Période ',\n",
       "       'Emplacement \\n- P : Pilote \\n- HZP : Hors zone pilote',\n",
       "       'Date de prélèvement', 'Profondeur de la nappe/piezo',\n",
       "       'Profondeur de la nappe/chambre visite', 'pH',\n",
       "       'Température de prélèvement ', 'CE', 'ORP', 'Oxygène dissous', 'col_29',\n",
       "       'température pour mes. pH'],\n",
       "      dtype='object')"
      ]
     },
     "execution_count": 261,
     "metadata": {},
     "output_type": "execute_result"
    }
   ],
   "source": [
    "prv_eau.columns"
   ]
  },
  {
   "cell_type": "code",
   "execution_count": 262,
   "id": "sized-straight",
   "metadata": {},
   "outputs": [],
   "source": [
    "name=['ID_ech', 'Periode', 'Emplacement','Date_prv','Niv_eau_pz','Niv_eau_chbre','pH','Temp_prv','CE','ORP',\n",
    "      'O_diss','col_29','Temp_pH_mes']\n",
    "prv_eau=col_ren(prv_eau, name=name, mode=1)\n",
    "prv_eau=prv_eau.query('ID_ech==ID_ech')\n",
    "prv_eau.insert(1,'Type_ech','Eau')"
   ]
  },
  {
   "cell_type": "code",
   "execution_count": 263,
   "id": "surprising-bangkok",
   "metadata": {},
   "outputs": [],
   "source": [
    "prv_eau.drop(columns=['col_29'], inplace=True)\n",
    "prv_eau['CE']=prv_eau['CE'].apply(lambda x: pd.to_numeric(x)/1000 \n",
    "                                  if re.search('^\\d+', str(x)) and not pd.isnull(x) else np.nan)"
   ]
  },
  {
   "cell_type": "code",
   "execution_count": 264,
   "id": "experimental-transparency",
   "metadata": {},
   "outputs": [],
   "source": [
    "prv_eau['Periode'].replace('\\n',' ', regex=True, inplace=True)\n",
    "prv_eau.replace('\\n','', regex=True, inplace=True)"
   ]
  },
  {
   "cell_type": "code",
   "execution_count": 265,
   "id": "collective-optimization",
   "metadata": {
    "scrolled": true
   },
   "outputs": [],
   "source": [
    "data=[prv_eau]\n",
    "for d in data:\n",
    "    for i in range(len(d['ID_ech'])):\n",
    "        e=str(d.loc[i, 'Emplacement'])        \n",
    "        if re.match('P',e, re.I): \n",
    "            d.loc[i,'Emplacement']='Pilote'\n",
    "        elif re.match('HZP',e, re.I): \n",
    "            d.loc[i,'Emplacement']='Hors Pilote'\n",
    "        else:\n",
    "            d.loc[i,'Emplacement']=np.nan"
   ]
  },
  {
   "cell_type": "code",
   "execution_count": 266,
   "id": "wireless-former",
   "metadata": {
    "scrolled": false
   },
   "outputs": [
    {
     "name": "stdout",
     "output_type": "stream",
     "text": [
      "Rows : 87, columns : 13\n"
     ]
    },
    {
     "data": {
      "application/vnd.jupyter.widget-view+json": {
       "model_id": "53c5e333aa71462a9ea211df0f0b3f05",
       "version_major": 2,
       "version_minor": 0
      },
      "text/plain": [
       "interactive(children=(IntSlider(value=3, description='rows', max=87, min=3, readout=False), IntSlider(value=12…"
      ]
     },
     "metadata": {},
     "output_type": "display_data"
    }
   ],
   "source": [
    "dataframe_viewer(prv_eau, rows=3)"
   ]
  },
  {
   "cell_type": "code",
   "execution_count": 267,
   "id": "consolidated-milton",
   "metadata": {},
   "outputs": [],
   "source": [
    "an=an.transpose()\n",
    "an.reset_index(drop=True, inplace=True)"
   ]
  },
  {
   "cell_type": "code",
   "execution_count": 268,
   "id": "important-hanging",
   "metadata": {},
   "outputs": [],
   "source": [
    "an=col_ren(an, 1)"
   ]
  },
  {
   "cell_type": "code",
   "execution_count": 269,
   "id": "better-majority",
   "metadata": {},
   "outputs": [],
   "source": [
    "an.replace(r'<|>','', inplace=True, regex=True)\n",
    "an.replace(r'-',np.nan, inplace=True, regex=True)\n",
    "an.rename(columns={an.columns[0]:'ID_ech'}, inplace=True)"
   ]
  },
  {
   "cell_type": "code",
   "execution_count": 270,
   "id": "clinical-charger",
   "metadata": {
    "scrolled": true
   },
   "outputs": [
    {
     "name": "stdout",
     "output_type": "stream",
     "text": [
      "column(s) dropped: []\n"
     ]
    }
   ],
   "source": [
    "an=dble_col_drop(an)"
   ]
  },
  {
   "cell_type": "code",
   "execution_count": 271,
   "id": "33323065",
   "metadata": {},
   "outputs": [],
   "source": [
    "an.rename(columns={'Période ':'Periode', 'Emplacement \\n- P : Pilote \\n- HZP : Hors zone pilote':'Emplacement',\n",
    "                  'Date de prélèvement':'Date_prv'}, inplace=True)"
   ]
  },
  {
   "cell_type": "code",
   "execution_count": 272,
   "id": "dental-strengthening",
   "metadata": {},
   "outputs": [],
   "source": [
    "# rename in a first time before dropping columns (because of names like 'col_xx' in columns)\n",
    "name=['ID_ech', 'Periode', 'Emplacement', 'Date_prv', 'METAUX LOURDS', 'Arsenic', 'Cadmium', 'Chrome', 'Cuivre','Mercure', 'Plomb', 'Nickel', 'Zinc', \n",
    "      'CYANURES',\"Cyanures (libres)  -  NEN-EN-ISO 14403\", \"CN_totaux - NEN-EN-ISO 14403\", \n",
    "      \"cyanure (APE) - méthode basée sur EPA 335.3\", \"cyanure complex - méthode interne \", \n",
    "      \"thiocyanate - méthode interne\", \"COMPOSES AROMATIQUES VOLATILS\", \"Benzène\", \"Toluène\", \"Éthylbenzène\",\n",
    "      \"Orthoxylène\", \"Para- et métaxylène\", \"Xylènes\", \"Styrène\", \"PHENOLS\", \"Phénol\", \"Indice phénol\", \n",
    "      \"HYDROCARBURES AROMATIQUES POLYCYCLIQUES\", \"Naphtalène\", \"Acénaphtylène\", \"Acénaphtène\", \"Fluorène\", \n",
    "      \"Phénanthrène\", \"Anthracène\", \"Fluoranthène\", \"Pyrène\", \"Benzo(a)anthracène\", \"Chrysène\", \n",
    "      \"Benzo(b)fluoranthène\", \"Benzo(k)fluoranthène\", \"Benzo(a)pyrène\", \"Dibenzo(ah)anthracène\", \n",
    "      \"Benzo(ghi)pérylène\", \"Indéno(1,2,3-cd)pyrène\", \"HAP Totaux (16) - EPA\", \n",
    "      \"COMPOSES ORGANOCHLORES VOLATILS\", \"1,1-Dichloroéthane\", \"1,2-Dichloroéthane\", \n",
    "      \"1,1-dichloroéthène\", \"Cis-1,2-dichloroéthène\", \"Totaux (cis,trans) 1,2-dichloroéthènes\", \n",
    "      \"Trans 1,2-dichloroéthylène\", \"Dichlorométhane\", \"1,2-dichloropropane\", \"Tétrachloroéthylène \", \n",
    "      \"Tétrachlorométhane\", \"1,1,1-Trichloroéthane\", \"1,1,2-Trichloroéthane\", \"Trichloroéthylène\",\n",
    "      \"Chloroforme\", \"Chlorure de vinyle\", \"HYDROCARBURES TOTAUX\", \"fraction aromat. >C6-C7\", \n",
    "      \"fraction aromat. >C7-C8\", \"fraction aromat. >C8-C10\", \"fraction aliphat. C5-C6\", \"fraction aliphat. >C6-C8\",\n",
    "      \"fraction aliphat. >C8-C10\", \"Fraction C5 - C8\", \"Fraction C8 - C10\", \"Fraction C10-C12\", \"Fraction C12-C16\",\n",
    "      \"Fraction C16 - C21\", \"Fraction C21 - C35\", \"Hydrocarbures totaux C10-C35\", \"METHYL-TERT-BUTYL-ETHER\", \"MTBE\",\n",
    "     \"a\",\"b\",\"c\",\"d\",\"e\",\"f\",\"g\",\"h\"]"
   ]
  },
  {
   "cell_type": "code",
   "execution_count": 273,
   "id": "norman-devices",
   "metadata": {},
   "outputs": [],
   "source": [
    "an=col_ren(an, name=name, mode=1)\n",
    "an=an.iloc[:,:-8]"
   ]
  },
  {
   "cell_type": "code",
   "execution_count": 274,
   "id": "exposed-color",
   "metadata": {},
   "outputs": [
    {
     "name": "stdout",
     "output_type": "stream",
     "text": [
      "\n",
      "Columns dropped :['METAUX LOURDS', 'CYANURES', 'COMPOSES AROMATIQUES VOLATILS', 'PHENOLS', 'Indice phénol', 'HYDROCARBURES AROMATIQUES POLYCYCLIQUES', 'COMPOSES ORGANOCHLORES VOLATILS', 'HYDROCARBURES TOTAUX', 'METHYL-TERT-BUTYL-ETHER', 'MTBE']\n",
      "\n"
     ]
    }
   ],
   "source": [
    "an.drop(list(range(3)), axis=0, inplace=True)\n",
    "an.reset_index(drop=True, inplace=True)\n",
    "an=na_col_drop(an,1)\n",
    "an.insert(1,'Type_ech','Eau')"
   ]
  },
  {
   "cell_type": "code",
   "execution_count": 275,
   "id": "female-complement",
   "metadata": {},
   "outputs": [],
   "source": [
    "an=col_ren(an, name=pol_field_model, mode=1)"
   ]
  },
  {
   "cell_type": "code",
   "execution_count": 276,
   "id": "1df0ea54",
   "metadata": {},
   "outputs": [],
   "source": [
    "an['Periode'].replace('\\n',' ', regex=True, inplace=True)\n",
    "an.replace('\\n','', regex=True, inplace=True)"
   ]
  },
  {
   "cell_type": "code",
   "execution_count": 277,
   "id": "8d04fe39",
   "metadata": {
    "scrolled": true
   },
   "outputs": [],
   "source": [
    "data=[an]\n",
    "for d in data:\n",
    "    for i in range(len(d['ID_ech'])):\n",
    "        e=str(d.loc[i, 'Emplacement'])        \n",
    "        if re.match('P',e, re.I): \n",
    "            d.loc[i,'Emplacement']='Pilote'\n",
    "        elif re.match('HZP',e, re.I): \n",
    "            d.loc[i,'Emplacement']='Hors Pilote'\n",
    "        else:\n",
    "            d.loc[i,'Emplacement']=np.nan"
   ]
  },
  {
   "cell_type": "code",
   "execution_count": 278,
   "id": "major-shoot",
   "metadata": {
    "scrolled": false
   },
   "outputs": [
    {
     "name": "stdout",
     "output_type": "stream",
     "text": [
      "Rows : 87, columns : 71\n"
     ]
    },
    {
     "data": {
      "application/vnd.jupyter.widget-view+json": {
       "model_id": "2900b2db1ef24b1892b6cbb76022673f",
       "version_major": 2,
       "version_minor": 0
      },
      "text/plain": [
       "interactive(children=(IntSlider(value=3, description='rows', max=87, min=3, readout=False), IntSlider(value=12…"
      ]
     },
     "metadata": {},
     "output_type": "display_data"
    }
   ],
   "source": [
    "dataframe_viewer(an, rows=3)"
   ]
  },
  {
   "cell_type": "raw",
   "id": "be78d5cb",
   "metadata": {},
   "source": [
    "#an.columns \n",
    "an.info()"
   ]
  },
  {
   "cell_type": "code",
   "execution_count": 279,
   "id": "946720cf",
   "metadata": {},
   "outputs": [
    {
     "name": "stdout",
     "output_type": "stream",
     "text": [
      "-------------\n",
      "-------------\n"
     ]
    }
   ],
   "source": [
    "data = [prv_eau, an]\n",
    "for d in data:\n",
    "    print('-------------')\n",
    "    for i, r in d.iterrows():\n",
    "        for c in d.columns:\n",
    "            if c not in ['ID_ech', 'Type_ech', 'Periode', 'Emplacement', 'Date_prv'] and \\\n",
    "            str(type(r[c])) not in [\"<class 'float'>\", \"<class 'int'>\"]:\n",
    "                d.loc[i, c] = np.nan\n",
    "                #print(f'{i}- {str(type(r[c]))}- {c} : {r[c]}')"
   ]
  },
  {
   "cell_type": "code",
   "execution_count": 280,
   "id": "received-blink",
   "metadata": {},
   "outputs": [],
   "source": [
    "source_prv_eau=prv_eau\n",
    "source_an=an"
   ]
  },
  {
   "cell_type": "code",
   "execution_count": 281,
   "id": "minimal-kansas",
   "metadata": {
    "scrolled": false
   },
   "outputs": [
    {
     "name": "stdout",
     "output_type": "stream",
     "text": [
      "source_bh:0 ; source_pz:0 ; source_litho:0 ; source_Fac-uknw:0 ; source_an:87 ;\n",
      "source_prv_sol:0 ;source_prv_eau:87 ; source_mes_pz:0 ; source_mes_sol:0 ;\n"
     ]
    }
   ],
   "source": [
    "if not os.path.exists(tmp_dir):\n",
    "    os.makedirs(tmp_dir)\n",
    "\n",
    "#bh.to_csv(tmp_dir+'source_Boreholes.csv', index=False)\n",
    "#pz.to_csv(tmp_dir+sheet+'_Piezometers.csv', index=False)\n",
    "#ouv.to_csv(tmp_dir+sheet+'_Unkown-facility.csv', index=False)\n",
    "#litho.to_csv(tmp_dir+sheet+'_Lithology.csv', index=False)\n",
    "#mes_pz.to_csv(tmp_dir+sheet+'_Measures.csv', index=False)\n",
    "#mes_sol.to_csv(tmp_dir+sheet+'_Measures-soil.csv', index=False)\n",
    "prv_eau.to_csv(tmp_dir+sheet+'_Samples-water.csv', index=False)\n",
    "#prv_sol.to_csv(tmp_dir+sheet+'_Samples-soil.csv', index=False)\n",
    "an.to_csv(tmp_dir+sheet+'_Analysis.csv', index=False)\n",
    "\n",
    "\n",
    "#source_bh.to_csv(tmp_dir+'source_Boreholes.csv', index=False)\n",
    "#source_pz.to_csv(tmp_dir+'source_Piezometers.csv', index=False)\n",
    "#source_ouv.to_csv(tmp_dir+'source_Unkown-facility.csv', index=False)\n",
    "#source_litho.to_csv(tmp_dir+'source_Lithology.csv', index=False)\n",
    "#source_mes_pz.to_csv(tmp_dir+'source_Measures.csv', index=False)\n",
    "#source_mes_sol.to_csv(tmp_dir+'source_Measures-soil.csv', index=False)\n",
    "source_prv_eau.to_csv(tmp_dir+'source_Samples-water.csv', index=False)\n",
    "#source_prv_sol.to_csv(tmp_dir+'source_Samples-soil.csv', index=False)\n",
    "source_an.to_csv(tmp_dir+'source_Analysis.csv', index=False)\n",
    "\n",
    "\n",
    "print(f'source_bh:{len(source_bh)} ; source_pz:{len(source_pz)} ; source_litho:{len(source_litho)} ; '\n",
    "     f'source_Fac-uknw:{len(source_ouv)} ; source_an:{len(source_an)} ;\\nsource_prv_sol:{len(source_prv_sol)} ;'\n",
    "     f'source_prv_eau:{len(source_prv_eau)} ; source_mes_pz:{len(source_mes_pz)} ; source_mes_sol:{len(source_mes_sol)} ;')"
   ]
  },
  {
   "cell_type": "markdown",
   "id": "assumed-safety",
   "metadata": {},
   "source": [
    "* **Sheet : 'Param physico'**"
   ]
  },
  {
   "cell_type": "code",
   "execution_count": 282,
   "id": "pressed-corner",
   "metadata": {},
   "outputs": [],
   "source": [
    "tmp_dir='../../CF_data/Result_traitem/Siterem_Pilote/'\n",
    "sheet='Param_physico'"
   ]
  },
  {
   "cell_type": "code",
   "execution_count": 283,
   "id": "signal-assistant",
   "metadata": {},
   "outputs": [
    {
     "name": "stdout",
     "output_type": "stream",
     "text": [
      "7 NaN lines dropped\n",
      "\n",
      "Columns dropped :['Unnamed: 0', 'Unnamed: 2']\n",
      "\n",
      "Rows : 52, columns : 92\n"
     ]
    },
    {
     "name": "stderr",
     "output_type": "stream",
     "text": [
      "/home/yanathan/.local/share/virtualenvs/GSDMA-DRfwm83x/lib/python3.8/site-packages/pandas/core/frame.py:4901: SettingWithCopyWarning: \n",
      "A value is trying to be set on a copy of a slice from a DataFrame\n",
      "\n",
      "See the caveats in the documentation: https://pandas.pydata.org/pandas-docs/stable/user_guide/indexing.html#returning-a-view-versus-a-copy\n",
      "  return super().drop(\n"
     ]
    },
    {
     "data": {
      "application/vnd.jupyter.widget-view+json": {
       "model_id": "584f4b3eec2d4e2eb2d09fe71ae233d3",
       "version_major": 2,
       "version_minor": 0
      },
      "text/plain": [
       "interactive(children=(IntSlider(value=5, description='rows', max=52, min=5, readout=False), IntSlider(value=12…"
      ]
     },
     "metadata": {},
     "output_type": "display_data"
    }
   ],
   "source": [
    "df = pd.read_excel('../../CF_data/Data_SITEREM/Resultats_Siterem_eau_pilote_jusque_decembre_2020.xlsx', \n",
    "                   sheet_name='param. physico', skiprows=2)\n",
    "df=na_line_drop(df,0)\n",
    "df=na_col_drop(df,1)\n",
    "df.replace(r'<|>','', inplace=True, regex=True)\n",
    "df.replace(r'-$',np.nan, inplace=True, regex=True)\n",
    "\n",
    "dataframe_viewer(df, rows=5)"
   ]
  },
  {
   "cell_type": "code",
   "execution_count": 284,
   "id": "wicked-father",
   "metadata": {},
   "outputs": [],
   "source": [
    "df=df.transpose()\n",
    "df.reset_index(drop=True, inplace=True)"
   ]
  },
  {
   "cell_type": "code",
   "execution_count": 285,
   "id": "engaged-geography",
   "metadata": {},
   "outputs": [],
   "source": [
    "df=col_ren(df, 1)"
   ]
  },
  {
   "cell_type": "code",
   "execution_count": 286,
   "id": "dressed-tobacco",
   "metadata": {},
   "outputs": [],
   "source": [
    "df.drop(list(range(2)), axis=0, inplace=True)\n",
    "df.reset_index(drop=True, inplace=True)"
   ]
  },
  {
   "cell_type": "code",
   "execution_count": 287,
   "id": "continuing-tradition",
   "metadata": {},
   "outputs": [],
   "source": [
    "sdf=df.iloc[:,:33]\n",
    "df=df.iloc[:,34:]"
   ]
  },
  {
   "cell_type": "code",
   "execution_count": 288,
   "id": "premier-leather",
   "metadata": {},
   "outputs": [
    {
     "name": "stdout",
     "output_type": "stream",
     "text": [
      "column(s) dropped: []\n",
      "column(s) dropped: ['6:Autre zone suspecte investiguée', '25:pH', '31:pH']\n"
     ]
    }
   ],
   "source": [
    "df=dble_col_drop(df)\n",
    "sdf=dble_col_drop(sdf)"
   ]
  },
  {
   "cell_type": "code",
   "execution_count": 289,
   "id": "adopted-counter",
   "metadata": {},
   "outputs": [
    {
     "name": "stdout",
     "output_type": "stream",
     "text": [
      "83 NaN lines dropped\n"
     ]
    },
    {
     "name": "stderr",
     "output_type": "stream",
     "text": [
      "/home/yanathan/.local/share/virtualenvs/GSDMA-DRfwm83x/lib/python3.8/site-packages/pandas/core/frame.py:4901: SettingWithCopyWarning: \n",
      "A value is trying to be set on a copy of a slice from a DataFrame\n",
      "\n",
      "See the caveats in the documentation: https://pandas.pydata.org/pandas-docs/stable/user_guide/indexing.html#returning-a-view-versus-a-copy\n",
      "  return super().drop(\n"
     ]
    }
   ],
   "source": [
    "df=na_line_drop(df,1)\n",
    "sdf=na_line_drop(sdf,1)"
   ]
  },
  {
   "cell_type": "code",
   "execution_count": 290,
   "id": "automatic-pearl",
   "metadata": {},
   "outputs": [
    {
     "name": "stdout",
     "output_type": "stream",
     "text": [
      "\n",
      "Columns dropped :['Profondeur de la nappe/chambre visite', 'Organoleptique odeur intensité (**)', 'Organoleptique odeur type', 'Profondeur de la nappe/sol ', 'PARAMETRES PHYSICO-CHIMIQUES \\n(lors du prélèvement)', 'col_51']\n",
      "\n",
      "\n",
      "Columns dropped :['SPP/zone suspecte investiguée', 'Autre zone suspecte investiguée', 'Parcelle', 'X Lambert', 'Y Lambert', \"Type d'étude (*)\", 'Profondeur minimum de la crépine', 'Profondeur maximum de la crépine', 'Profondeur du fond du piézomètre', 'Organoleptique odeur intensité (**)', 'Organoleptique odeur type', 'Limpidité (***)', 'Température', 'Conductivité électrique', 'PARAMETRES PHYSICO-CHIMIQUES \\n(lors du prélèvement)', 'PARAMETRES PHYSICO-CHIMIQUES \\n(mesures au labo)']\n",
      "\n"
     ]
    }
   ],
   "source": [
    "df=na_col_drop(df,1)\n",
    "sdf=na_col_drop(sdf,1)"
   ]
  },
  {
   "cell_type": "code",
   "execution_count": 291,
   "id": "designed-cemetery",
   "metadata": {},
   "outputs": [],
   "source": [
    "df=df.iloc[:,:-1]\n",
    "name=['ID_ech','Periode','Emplacement','Date_prv','Niv_eau_pz','Long_pz','Temp_prv ','pH', 'CE', 'ORP','O_diss']\n",
    "df=col_ren(df, mode=1, name=name)"
   ]
  },
  {
   "cell_type": "code",
   "execution_count": 292,
   "id": "meaningful-ability",
   "metadata": {},
   "outputs": [],
   "source": [
    "sdf.drop(columns=['col_29'], inplace=True)\n",
    "name=['ID_ech','Periode','Emplacement','Date_prv','Niv_eau_pz','Long_pz','pH','Niv_eau_sol','Temp_prv ','CE',\n",
    "      'ORP','O_diss','Temp_pH_mes']\n",
    "sdf=col_ren(sdf, mode=1, name=name)"
   ]
  },
  {
   "cell_type": "raw",
   "id": "loving-finding",
   "metadata": {},
   "source": [
    "len(name), len(sdf.columns), sdf.info()"
   ]
  },
  {
   "cell_type": "code",
   "execution_count": 293,
   "id": "funny-arlington",
   "metadata": {},
   "outputs": [],
   "source": [
    "df['CE']=df['CE'].apply(lambda x: pd.to_numeric(x)/1000 \n",
    "                                  if re.search('^\\d+', str(x)) and not pd.isnull(x) else np.nan)\n",
    "sdf['CE']=sdf['CE'].apply(lambda x: pd.to_numeric(x)/1000 \n",
    "                                  if re.search('^\\d+', str(x)) and not pd.isnull(x) else np.nan)"
   ]
  },
  {
   "cell_type": "code",
   "execution_count": 294,
   "id": "attended-particle",
   "metadata": {},
   "outputs": [],
   "source": [
    "sdf['Periode'].replace('\\n',' ', regex=True, inplace=True)\n",
    "sdf.replace('\\n','', regex=True, inplace=True)\n",
    "sdf.drop(columns=[\"Niv_eau_sol\"], inplace=True)"
   ]
  },
  {
   "cell_type": "code",
   "execution_count": 295,
   "id": "electoral-aircraft",
   "metadata": {
    "scrolled": true
   },
   "outputs": [
    {
     "data": {
      "text/plain": [
       "{'HZP', 'P'}"
      ]
     },
     "execution_count": 295,
     "metadata": {},
     "output_type": "execute_result"
    }
   ],
   "source": [
    "set(sdf['Emplacement'])"
   ]
  },
  {
   "cell_type": "code",
   "execution_count": 296,
   "id": "overall-collector",
   "metadata": {
    "scrolled": true
   },
   "outputs": [],
   "source": [
    "data=[df, sdf]\n",
    "for d in data:\n",
    "    for i in range(len(d['ID_ech'])):\n",
    "        e=str(d.loc[i, 'Emplacement'])\n",
    "        \n",
    "        if re.match('P',e, re.I): \n",
    "            d.loc[i,'Emplacement']='Pilote'\n",
    "        elif re.match('HZP',e, re.I): \n",
    "            d.loc[i,'Emplacement']='Hors Pilote'\n",
    "        else:\n",
    "            d.loc[i,'Emplacement']=np.nan"
   ]
  },
  {
   "cell_type": "code",
   "execution_count": 297,
   "id": "explicit-student",
   "metadata": {},
   "outputs": [],
   "source": [
    "df.insert(1, 'Type_ech', 'Eau')\n",
    "sdf.insert(1, 'Type_ech', 'Eau')"
   ]
  },
  {
   "cell_type": "code",
   "execution_count": 298,
   "id": "mental-latex",
   "metadata": {},
   "outputs": [],
   "source": [
    "df.replace('\\*|à compléter',np.nan, inplace=True, regex=True)"
   ]
  },
  {
   "cell_type": "code",
   "execution_count": 299,
   "id": "minor-malta",
   "metadata": {},
   "outputs": [],
   "source": [
    "prv_eau, conflict_df = data_merger(sdf, df, 'outer', 'ID_ech')"
   ]
  },
  {
   "cell_type": "code",
   "execution_count": 300,
   "id": "49b0f2ca",
   "metadata": {},
   "outputs": [],
   "source": [
    "source_prv_eau, conflict_df=data_merger(source_prv_eau, prv_eau, on=['ID_ech', 'Date_prv', 'Periode'], how='outer')"
   ]
  },
  {
   "cell_type": "code",
   "execution_count": 301,
   "id": "aging-assumption",
   "metadata": {
    "scrolled": true
   },
   "outputs": [
    {
     "name": "stdout",
     "output_type": "stream",
     "text": [
      "Rows : 178, columns : 16\n"
     ]
    },
    {
     "data": {
      "application/vnd.jupyter.widget-view+json": {
       "model_id": "9ac70e077e2d4621af0314515a92dee0",
       "version_major": 2,
       "version_minor": 0
      },
      "text/plain": [
       "interactive(children=(IntSlider(value=3, description='rows', max=178, min=3, readout=False), IntSlider(value=1…"
      ]
     },
     "metadata": {},
     "output_type": "display_data"
    }
   ],
   "source": [
    "dataframe_viewer(source_prv_eau, rows=3)"
   ]
  },
  {
   "cell_type": "code",
   "execution_count": 302,
   "id": "jewish-activity",
   "metadata": {
    "scrolled": false
   },
   "outputs": [
    {
     "name": "stdout",
     "output_type": "stream",
     "text": [
      "source_bh:0 ; source_pz:0 ; source_litho:0 ; source_Fac-uknw:0 ; source_an:87 ;\n",
      "source_prv_sol:0 ;source_prv_eau:178 ; source_mes_pz:0 ; source_mes_sol:0 ;\n"
     ]
    }
   ],
   "source": [
    "if not os.path.exists(tmp_dir):\n",
    "    os.makedirs(tmp_dir)\n",
    "\n",
    "#bh.to_csv(tmp_dir+'source_Boreholes.csv', index=False)\n",
    "#pz.to_csv(tmp_dir+sheet+'_Piezometers.csv', index=False)\n",
    "#ouv.to_csv(tmp_dir+sheet+'_Unkown-facility.csv', index=False)\n",
    "#litho.to_csv(tmp_dir+sheet+'_Lithology.csv', index=False)\n",
    "#mes_pz.to_csv(tmp_dir+sheet+'_Measures.csv', index=False)\n",
    "#mes_sol.to_csv(tmp_dir+sheet+'_Measures-soil.csv', index=False)\n",
    "prv_eau.to_csv(tmp_dir+sheet+'_Samples-water.csv', index=False)\n",
    "#prv_sol.to_csv(tmp_dir+sheet+'_Samples-soil.csv', index=False)\n",
    "#an.to_csv(tmp_dir+sheet+'_Analysis.csv', index=False)\n",
    "\n",
    "\n",
    "#source_bh.to_csv(tmp_dir+'source_Boreholes.csv', index=False)\n",
    "#source_pz.to_csv(tmp_dir+'source_Piezometers.csv', index=False)\n",
    "#source_ouv.to_csv(tmp_dir+'source_Unkown-facility.csv', index=False)\n",
    "#source_litho.to_csv(tmp_dir+'source_Lithology.csv', index=False)\n",
    "#source_mes_pz.to_csv(tmp_dir+'source_Measures.csv', index=False)\n",
    "#source_mes_sol.to_csv(tmp_dir+'source_Measures-soil.csv', index=False)\n",
    "source_prv_eau.to_csv(tmp_dir+'source_Samples-water.csv', index=False)\n",
    "#source_prv_sol.to_csv(tmp_dir+'source_Samples-soil.csv', index=False)\n",
    "#source_an.to_csv(tmp_dir+'source_Analysis.csv', index=False)\n",
    "\n",
    "\n",
    "print(f'source_bh:{len(source_bh)} ; source_pz:{len(source_pz)} ; source_litho:{len(source_litho)} ; '\n",
    "     f'source_Fac-uknw:{len(source_ouv)} ; source_an:{len(source_an)} ;\\nsource_prv_sol:{len(source_prv_sol)} ;'\n",
    "     f'source_prv_eau:{len(source_prv_eau)} ; source_mes_pz:{len(source_mes_pz)} ; source_mes_sol:{len(source_mes_sol)} ;')"
   ]
  },
  {
   "cell_type": "markdown",
   "id": "selected-liver",
   "metadata": {},
   "source": [
    "* **Sheet : 'Inorganiques et composés majeurs'**"
   ]
  },
  {
   "cell_type": "code",
   "execution_count": 303,
   "id": "regulation-repository",
   "metadata": {},
   "outputs": [],
   "source": [
    "tmp_dir='../../CF_data/Result_traitem/Siterem_Pilote/'\n",
    "sheet='Inorganic_major'"
   ]
  },
  {
   "cell_type": "code",
   "execution_count": 304,
   "id": "approved-winner",
   "metadata": {},
   "outputs": [
    {
     "name": "stdout",
     "output_type": "stream",
     "text": [
      "4 NaN lines dropped\n",
      "\n",
      "Columns dropped :['Unnamed: 0', 'Unnamed: 2']\n",
      "\n",
      "Rows : 68, columns : 54\n"
     ]
    },
    {
     "name": "stderr",
     "output_type": "stream",
     "text": [
      "/home/yanathan/.local/share/virtualenvs/GSDMA-DRfwm83x/lib/python3.8/site-packages/pandas/core/frame.py:4901: SettingWithCopyWarning: \n",
      "A value is trying to be set on a copy of a slice from a DataFrame\n",
      "\n",
      "See the caveats in the documentation: https://pandas.pydata.org/pandas-docs/stable/user_guide/indexing.html#returning-a-view-versus-a-copy\n",
      "  return super().drop(\n"
     ]
    },
    {
     "data": {
      "application/vnd.jupyter.widget-view+json": {
       "model_id": "3258fd94c95e453988bdd2fb6a4c8683",
       "version_major": 2,
       "version_minor": 0
      },
      "text/plain": [
       "interactive(children=(IntSlider(value=5, description='rows', max=68, min=5, readout=False), IntSlider(value=12…"
      ]
     },
     "metadata": {},
     "output_type": "display_data"
    }
   ],
   "source": [
    "df = pd.read_excel('../../CF_data/Data_SITEREM/Resultats_Siterem_eau_pilote_jusque_decembre_2020.xlsx', \n",
    "                   sheet_name='inorganiques et composés majeur', skiprows=2)\n",
    "df=na_line_drop(df,0)\n",
    "df=na_col_drop(df,1)\n",
    "df.replace(r'<|>','', inplace=True, regex=True)\n",
    "df.replace(r'-$',np.nan, inplace=True, regex=True)\n",
    "\n",
    "dataframe_viewer(df, rows=5)"
   ]
  },
  {
   "cell_type": "code",
   "execution_count": 305,
   "id": "baking-headset",
   "metadata": {},
   "outputs": [],
   "source": [
    "prv_eau=df.loc[:21]\n",
    "an=df.loc[list(range(0,4))+list(range(22, len(df)))]"
   ]
  },
  {
   "cell_type": "code",
   "execution_count": 306,
   "id": "human-queen",
   "metadata": {},
   "outputs": [],
   "source": [
    "an = an.sort_index().reset_index(drop=True)"
   ]
  },
  {
   "cell_type": "code",
   "execution_count": 307,
   "id": "meaning-raleigh",
   "metadata": {},
   "outputs": [],
   "source": [
    "prv_eau=prv_eau.transpose()\n",
    "prv_eau.reset_index(drop=True, inplace=True)\n",
    "prv_eau=col_ren(prv_eau, 1)"
   ]
  },
  {
   "cell_type": "code",
   "execution_count": 308,
   "id": "molecular-pathology",
   "metadata": {},
   "outputs": [
    {
     "name": "stdout",
     "output_type": "stream",
     "text": [
      "column(s) dropped: ['6:Autre zone suspecte investiguée']\n"
     ]
    }
   ],
   "source": [
    "prv_eau=dble_col_drop(prv_eau)"
   ]
  },
  {
   "cell_type": "code",
   "execution_count": 309,
   "id": "bridal-north",
   "metadata": {},
   "outputs": [
    {
     "name": "stdout",
     "output_type": "stream",
     "text": [
      "\n",
      "Columns dropped :['SPP/zone suspecte investiguée', 'Autre zone suspecte investiguée', 'Parcelle', 'X Lambert', 'Y Lambert', \"Type d'étude (*)\", 'Profondeur minimum de la crépine', 'Profondeur maximum de la crépine', 'Profondeur du fond du piézomètre', 'Profondeur de la nappe', 'Organoleptique odeur intensité (**)', 'Organoleptique odeur type', 'Limpidité (***)', 'Température', 'Conductivité électrique', 'pH']\n",
      "\n"
     ]
    }
   ],
   "source": [
    "prv_eau.drop(list(range(2)), axis=0, inplace=True)\n",
    "prv_eau.reset_index(drop=True, inplace=True)\n",
    "prv_eau=na_col_drop(prv_eau,2)\n",
    "prv_eau=na_line_drop(prv_eau,2)\n",
    "prv_eau.reset_index(drop=True, inplace=True)"
   ]
  },
  {
   "cell_type": "code",
   "execution_count": 310,
   "id": "bridal-spending",
   "metadata": {},
   "outputs": [
    {
     "data": {
      "text/plain": [
       "Index(['Nom échantillon', 'Période ',\n",
       "       'Emplacement \\n- S : Simulateur \\n- HZS : Hors zone simulateur',\n",
       "       'Date de prélèvement', 'Température de prélèvement '],\n",
       "      dtype='object')"
      ]
     },
     "execution_count": 310,
     "metadata": {},
     "output_type": "execute_result"
    }
   ],
   "source": [
    "prv_eau.columns"
   ]
  },
  {
   "cell_type": "code",
   "execution_count": 311,
   "id": "determined-mechanics",
   "metadata": {},
   "outputs": [],
   "source": [
    "name=['ID_ech', 'Periode', 'Emplacement','Date_prv','Temp_prv']\n",
    "prv_eau.replace(r'\\n',' ', inplace=True, regex=True)\n",
    "prv_eau=col_ren(prv_eau, name=name, mode=1)\n",
    "prv_eau=prv_eau.query('ID_ech==ID_ech')\n",
    "prv_eau.insert(1,'Type_ech','Eau')"
   ]
  },
  {
   "cell_type": "code",
   "execution_count": 312,
   "id": "frank-health",
   "metadata": {
    "scrolled": true
   },
   "outputs": [
    {
     "name": "stdout",
     "output_type": "stream",
     "text": [
      "Rows : 51, columns : 6\n"
     ]
    },
    {
     "data": {
      "application/vnd.jupyter.widget-view+json": {
       "model_id": "9e158a52accb4ed39689cfe07970ad3f",
       "version_major": 2,
       "version_minor": 0
      },
      "text/plain": [
       "interactive(children=(IntSlider(value=3, description='rows', max=51, min=3, readout=False), IntSlider(value=6,…"
      ]
     },
     "metadata": {},
     "output_type": "display_data"
    }
   ],
   "source": [
    "dataframe_viewer(prv_eau, rows=3)"
   ]
  },
  {
   "cell_type": "code",
   "execution_count": 313,
   "id": "italian-explanation",
   "metadata": {},
   "outputs": [],
   "source": [
    "an=an.transpose()\n",
    "an.reset_index(drop=True, inplace=True)"
   ]
  },
  {
   "cell_type": "code",
   "execution_count": 314,
   "id": "victorian-sugar",
   "metadata": {},
   "outputs": [],
   "source": [
    "an=col_ren(an, 1)"
   ]
  },
  {
   "cell_type": "code",
   "execution_count": 315,
   "id": "yellow-fence",
   "metadata": {},
   "outputs": [],
   "source": [
    "an.replace(r'<|>','', inplace=True, regex=True)\n",
    "an.replace(r'-',np.nan, inplace=True, regex=True)\n",
    "an.rename(columns={an.columns[0]:'ID_ech'}, inplace=True)"
   ]
  },
  {
   "cell_type": "code",
   "execution_count": 316,
   "id": "hollywood-amsterdam",
   "metadata": {},
   "outputs": [
    {
     "name": "stdout",
     "output_type": "stream",
     "text": [
      "column(s) dropped: ['11:ammonium', '15:nitrite', '17:nitrate']\n"
     ]
    }
   ],
   "source": [
    "an=dble_col_drop(an)"
   ]
  },
  {
   "cell_type": "code",
   "execution_count": 317,
   "id": "sustained-projector",
   "metadata": {},
   "outputs": [
    {
     "name": "stdout",
     "output_type": "stream",
     "text": [
      "\n",
      "Columns dropped :['CARBONE ORGANIQUE', 'DEMANDE EN O2', 'COMPOSES AZOTES', 'COMPOSES SOUFRES ', 'ELEMENTS MAJEURS', 'AUTRES ANALYSES', 'cyanure (libre)', 'METHYL-TERT-BUTYL-ETHER', 'MTBE', 'Teneur mesurée ', 'Teneur mesurée', 'VS : Valeur seuil', \"(*) RP : Rapport de prélèvements; ES : Etude de sol; EO : Etude d'orientation; EC : Etude de caractérisation; SA : Suivi d'assainissement; EF : Evaluation finale\", \"(**) - : Pas d'impression organoleptique; + : Impression organoleptique faible; ++ : Impression organoleptique forte\", '(***) + : Limpide; - : Trouble; -- : Opaque', \"Le contenu des tableaux est conforme au modèle repris à l'annexe IX du GREO V03. Le formalisme a été adapté par SITEREM tout en garantissant la lisibilité du document imprimé. \"]\n",
      "\n"
     ]
    }
   ],
   "source": [
    "an=na_col_drop(an,3)"
   ]
  },
  {
   "cell_type": "code",
   "execution_count": 318,
   "id": "71a34bd5",
   "metadata": {},
   "outputs": [],
   "source": [
    "an.rename(columns={'Période ':'Periode', 'Emplacement \\n- S : Simulateur \\n- HZS : Hors zone simulateur':'Emplacement',\n",
    "                  'Date de prélèvement':'Date_prv', 'col_9':'ammoniaque libre'}, inplace=True)"
   ]
  },
  {
   "cell_type": "code",
   "execution_count": 319,
   "id": "utility-enhancement",
   "metadata": {},
   "outputs": [],
   "source": [
    "an.drop(list(range(2)), axis=0, inplace=True)\n",
    "an.reset_index(drop=True, inplace=True)\n",
    "an=na_col_drop(an,1)\n",
    "an.insert(1,'Type_ech','Eau')"
   ]
  },
  {
   "cell_type": "code",
   "execution_count": 320,
   "id": "phantom-header",
   "metadata": {},
   "outputs": [],
   "source": [
    "an=col_ren(an, name=pol_field_model, mode=1)\n",
    "#an=an.iloc[:,:-7]"
   ]
  },
  {
   "cell_type": "code",
   "execution_count": 321,
   "id": "eeb4404b",
   "metadata": {
    "scrolled": true
   },
   "outputs": [],
   "source": [
    "data=[prv_eau, an]\n",
    "for d in data:\n",
    "    for i in range(len(d['ID_ech'])):\n",
    "        e=str(d.loc[i, 'Emplacement'])\n",
    "        \n",
    "        if re.match('S',e, re.I): \n",
    "            d.loc[i,'Emplacement']='Simulateur'\n",
    "        elif re.match('HZS',e, re.I): \n",
    "            d.loc[i,'Emplacement']='Hors simulateur'\n",
    "        else:\n",
    "            d.loc[i,'Emplacement']=np.nan"
   ]
  },
  {
   "cell_type": "code",
   "execution_count": 322,
   "id": "07df8bb9",
   "metadata": {},
   "outputs": [
    {
     "name": "stdout",
     "output_type": "stream",
     "text": [
      "-------------\n",
      "-------------\n"
     ]
    }
   ],
   "source": [
    "data = [prv_eau, an]\n",
    "for d in data:\n",
    "    print('-------------')\n",
    "    for i, r in d.iterrows():\n",
    "        for c in d.columns:\n",
    "            if c not in ['ID', 'ID_ech', 'Type', 'Type_ech', 'Periode', 'Emplacement', 'Date_prv'] and \\\n",
    "            str(type(r[c])) not in [\"<class 'float'>\", \"<class 'int'>\"]:\n",
    "                d.loc[i, c] = np.nan\n",
    "                #print(f'{i}- {str(type(r[c]))}- {c} : {r[c]}')"
   ]
  },
  {
   "cell_type": "code",
   "execution_count": 323,
   "id": "blind-duration",
   "metadata": {
    "scrolled": false
   },
   "outputs": [
    {
     "name": "stdout",
     "output_type": "stream",
     "text": [
      "Rows : 51, columns : 32\n"
     ]
    },
    {
     "data": {
      "application/vnd.jupyter.widget-view+json": {
       "model_id": "01542d0db5994c9995ddb20a8cadd67f",
       "version_major": 2,
       "version_minor": 0
      },
      "text/plain": [
       "interactive(children=(IntSlider(value=3, description='rows', max=51, min=3, readout=False), IntSlider(value=12…"
      ]
     },
     "metadata": {},
     "output_type": "display_data"
    }
   ],
   "source": [
    "dataframe_viewer(an, rows=3)"
   ]
  },
  {
   "cell_type": "code",
   "execution_count": 324,
   "id": "5e9c6e7f",
   "metadata": {},
   "outputs": [],
   "source": [
    "source_prv_eau.Date_prv = source_prv_eau.Date_prv.astype(object)"
   ]
  },
  {
   "cell_type": "code",
   "execution_count": 325,
   "id": "472d4063",
   "metadata": {},
   "outputs": [
    {
     "name": "stdout",
     "output_type": "stream",
     "text": [
      "Conflict values present. Please resolve this manually !\n"
     ]
    }
   ],
   "source": [
    "source_prv_eau, conflict_df=data_merger(source_prv_eau, prv_eau, 'outer', ['ID_ech', 'Date_prv'] )"
   ]
  },
  {
   "cell_type": "code",
   "execution_count": 326,
   "id": "2e91824f",
   "metadata": {},
   "outputs": [
    {
     "name": "stdout",
     "output_type": "stream",
     "text": [
      "all conflicts have been fixed!\n"
     ]
    }
   ],
   "source": [
    "data_validation(overall_data=source_prv_eau, conflict_data=conflict_df, index_col='index', \n",
    "                valid_dict={'Periode_y':list(conflict_df.index), 'Temp_prv_y':list(conflict_df.index), \n",
    "                            'Emplacement_y':list(conflict_df.index)})"
   ]
  },
  {
   "cell_type": "code",
   "execution_count": 327,
   "id": "c5df5bb2",
   "metadata": {},
   "outputs": [
    {
     "name": "stdout",
     "output_type": "stream",
     "text": [
      "Conflict values present. Please resolve this manually !\n"
     ]
    }
   ],
   "source": [
    "source_an, conflict_df=data_merger(source_an, an, 'outer', ['ID_ech', 'Date_prv', 'Periode'])"
   ]
  },
  {
   "cell_type": "code",
   "execution_count": 328,
   "id": "fa9ed3d8",
   "metadata": {},
   "outputs": [
    {
     "name": "stdout",
     "output_type": "stream",
     "text": [
      "all conflicts have been fixed!\n"
     ]
    }
   ],
   "source": [
    "data_validation(overall_data=source_an, conflict_data=conflict_df, index_col='index', \n",
    "                valid_dict={'Emplacement_y':list(conflict_df.index)})"
   ]
  },
  {
   "cell_type": "code",
   "execution_count": 329,
   "id": "subsequent-trace",
   "metadata": {},
   "outputs": [
    {
     "name": "stdout",
     "output_type": "stream",
     "text": [
      "source_bh:0 ; source_pz:0 ; source_litho:0 ; source_Fac-uknw:0 ; source_an:115 ;\n",
      "source_prv_sol:0 ;source_prv_eau:181 ; source_mes_pz:0 ; source_mes_sol:0 ;\n"
     ]
    }
   ],
   "source": [
    "if not os.path.exists(tmp_dir):\n",
    "    os.makedirs(tmp_dir)\n",
    "\n",
    "#bh.to_csv(tmp_dir+'source_Boreholes.csv', index=False)\n",
    "#pz.to_csv(tmp_dir+sheet+'_Piezometers.csv', index=False)\n",
    "#ouv.to_csv(tmp_dir+sheet+'_Unkown-facility.csv', index=False)\n",
    "#litho.to_csv(tmp_dir+sheet+'_Lithology.csv', index=False)\n",
    "#mes_pz.to_csv(tmp_dir+sheet+'_Measures.csv', index=False)\n",
    "#mes_sol.to_csv(tmp_dir+sheet+'_Measures-soil.csv', index=False)\n",
    "prv_eau.to_csv(tmp_dir+sheet+'_Samples-water.csv', index=False)\n",
    "#prv_sol.to_csv(tmp_dir+sheet+'_Samples-soil.csv', index=False)\n",
    "an.to_csv(tmp_dir+sheet+'_Analysis.csv', index=False)\n",
    "\n",
    "\n",
    "#source_bh.to_csv(tmp_dir+'source_Boreholes.csv', index=False)\n",
    "#source_pz.to_csv(tmp_dir+'source_Piezometers.csv', index=False)\n",
    "#source_ouv.to_csv(tmp_dir+'source_Unkown-facility.csv', index=False)\n",
    "#source_litho.to_csv(tmp_dir+'source_Lithology.csv', index=False)\n",
    "#source_mes_pz.to_csv(tmp_dir+'source_Measures.csv', index=False)\n",
    "#source_mes_sol.to_csv(tmp_dir+'source_Measures-soil.csv', index=False)\n",
    "source_prv_eau.to_csv(tmp_dir+'source_Samples-water.csv', index=False)\n",
    "#source_prv_sol.to_csv(tmp_dir+'source_Samples-soil.csv', index=False)\n",
    "source_an.to_csv(tmp_dir+'source_Analysis.csv', index=False)\n",
    "\n",
    "\n",
    "print(f'source_bh:{len(source_bh)} ; source_pz:{len(source_pz)} ; source_litho:{len(source_litho)} ; '\n",
    "     f'source_Fac-uknw:{len(source_ouv)} ; source_an:{len(source_an)} ;\\nsource_prv_sol:{len(source_prv_sol)} ;'\n",
    "     f'source_prv_eau:{len(source_prv_eau)} ; source_mes_pz:{len(source_mes_pz)} ; source_mes_sol:{len(source_mes_sol)} ;')"
   ]
  },
  {
   "cell_type": "markdown",
   "id": "673fa0f2",
   "metadata": {},
   "source": [
    "### $\\color{red}{\\textbf{Excel sheets data merging}}$"
   ]
  },
  {
   "cell_type": "code",
   "execution_count": 330,
   "id": "9b95c414",
   "metadata": {},
   "outputs": [],
   "source": [
    "excel_bh_water_an, conflict_df = data_merger(source_an, source_prv_eau, how='outer', on=['ID_ech', 'Date_prv', 'Periode'],\n",
    "                                             drop_skip_col=['index'])"
   ]
  },
  {
   "cell_type": "code",
   "execution_count": 331,
   "id": "48321d6b",
   "metadata": {},
   "outputs": [
    {
     "name": "stdout",
     "output_type": "stream",
     "text": [
      "Rows : 212, columns : 109\n"
     ]
    },
    {
     "data": {
      "application/vnd.jupyter.widget-view+json": {
       "model_id": "f8430966e00b4c95a81f083ac756220a",
       "version_major": 2,
       "version_minor": 0
      },
      "text/plain": [
       "interactive(children=(IntSlider(value=5, description='rows', max=212, min=5, readout=False), IntSlider(value=1…"
      ]
     },
     "metadata": {},
     "output_type": "display_data"
    }
   ],
   "source": [
    "dataframe_viewer(excel_bh_water_an, rows=5)"
   ]
  },
  {
   "cell_type": "code",
   "execution_count": 332,
   "id": "48f183eb",
   "metadata": {},
   "outputs": [],
   "source": [
    "save_dir = tmp_dir + 'Final_merge/final_'\n",
    "if not os.path.exists(save_dir):\n",
    "    os.makedirs(save_dir)\n",
    "\n",
    "#excel_bhs.to_csv(save_dir + 'Boreholes.csv', index=False)\n",
    "#excel_bh_litho.to_csv(save_dir+'Lithologies.csv', index=False)\n",
    "#excel_bh_equip.to_csv(save_dir+'Equipments.csv', index=False)\n",
    "#excel_bh_soil_sp.to_csv(save_dir+'Soil_samples.csv', index=False)\n",
    "#excel_bh_water_sp.to_csv(save_dir+'Water_samples.csv', index=False)\n",
    "#excel_bh_soil_an.to_csv(save_dir+'Soil_analysis.csv', index=False)\n",
    "excel_bh_water_an.to_csv(save_dir+'water_analysis.csv', index=False)\n",
    "#excel_bh_mes.to_csv(save_dir+'Measures.csv', index=False)\n",
    "#excel_bh_fac.to_csv(save_dir+'Unknow_facilities.csv', index=False)"
   ]
  },
  {
   "cell_type": "markdown",
   "id": "measured-realtor",
   "metadata": {},
   "source": [
    "## 13-Resultats_Siterem_SOL.xlsx\n",
    "* **Sheet : 'Résult SOL ext. pilote'**"
   ]
  },
  {
   "cell_type": "code",
   "execution_count": 333,
   "id": "measured-surgeon",
   "metadata": {},
   "outputs": [],
   "source": [
    "# New file, so the source variables must be overwritten !!\n",
    "_df=pd.DataFrame()\n",
    "source_mes_pz, source_mes_sol, source_pz, source_prv_eau, source_prv_sol =  _df, _df, _df, _df, _df\n",
    "source_ouv, source_an, source_litho, source_bh = _df, _df, _df, _df"
   ]
  },
  {
   "cell_type": "code",
   "execution_count": 334,
   "id": "sorted-president",
   "metadata": {},
   "outputs": [],
   "source": [
    "tmp_dir='../../CF_data/Result_traitem/Siterem_Result_Sol/'\n",
    "sheet='Result_sol_ExtP'"
   ]
  },
  {
   "cell_type": "code",
   "execution_count": 335,
   "id": "finite-supply",
   "metadata": {
    "scrolled": true
   },
   "outputs": [
    {
     "name": "stdout",
     "output_type": "stream",
     "text": [
      "2 NaN lines dropped\n",
      "\n",
      "Columns dropped :['Unnamed: 0', 'Unnamed: 2', 'Unnamed: 49']\n",
      "\n",
      "Rows : 103, columns : 48\n"
     ]
    },
    {
     "name": "stderr",
     "output_type": "stream",
     "text": [
      "/home/yanathan/.local/share/virtualenvs/GSDMA-DRfwm83x/lib/python3.8/site-packages/openpyxl/worksheet/_reader.py:312: UserWarning: Data Validation extension is not supported and will be removed\n",
      "  warn(msg)\n",
      "/home/yanathan/.local/share/virtualenvs/GSDMA-DRfwm83x/lib/python3.8/site-packages/pandas/core/frame.py:4901: SettingWithCopyWarning: \n",
      "A value is trying to be set on a copy of a slice from a DataFrame\n",
      "\n",
      "See the caveats in the documentation: https://pandas.pydata.org/pandas-docs/stable/user_guide/indexing.html#returning-a-view-versus-a-copy\n",
      "  return super().drop(\n"
     ]
    },
    {
     "data": {
      "application/vnd.jupyter.widget-view+json": {
       "model_id": "04af85d6d2eb4ba28b8155751edb83e6",
       "version_major": 2,
       "version_minor": 0
      },
      "text/plain": [
       "interactive(children=(IntSlider(value=5, description='rows', max=103, min=5, readout=False), IntSlider(value=1…"
      ]
     },
     "metadata": {},
     "output_type": "display_data"
    }
   ],
   "source": [
    "df = pd.read_excel('../../CF_data/Data_SITEREM/Resultats_Siterem_SOL.xlsx', \n",
    "                   sheet_name='Résult SOL ext. pilote', skiprows=5)\n",
    "df=na_line_drop(df,0)\n",
    "df=na_col_drop(df,1)\n",
    "df.replace(r'<|>','', inplace=True, regex=True)\n",
    "df.replace(r'-$',np.nan, inplace=True, regex=True)\n",
    "\n",
    "dataframe_viewer(df, rows=5)"
   ]
  },
  {
   "cell_type": "code",
   "execution_count": 336,
   "id": "exciting-identification",
   "metadata": {},
   "outputs": [],
   "source": [
    "prv_sol=df.loc[:22]\n",
    "an=df.loc[23:]"
   ]
  },
  {
   "cell_type": "code",
   "execution_count": 337,
   "id": "verbal-local",
   "metadata": {},
   "outputs": [
    {
     "name": "stderr",
     "output_type": "stream",
     "text": [
      "/home/yanathan/.local/share/virtualenvs/GSDMA-DRfwm83x/lib/python3.8/site-packages/pandas/core/indexing.py:723: SettingWithCopyWarning: \n",
      "A value is trying to be set on a copy of a slice from a DataFrame\n",
      "\n",
      "See the caveats in the documentation: https://pandas.pydata.org/pandas-docs/stable/user_guide/indexing.html#returning-a-view-versus-a-copy\n",
      "  iloc._setitem_with_indexer(indexer, value, self.name)\n"
     ]
    }
   ],
   "source": [
    "an.loc[0.5] = df.loc[0] # put data on first line\n",
    "an = an.sort_index().reset_index(drop=True)"
   ]
  },
  {
   "cell_type": "code",
   "execution_count": 338,
   "id": "minute-boards",
   "metadata": {},
   "outputs": [],
   "source": [
    "prv_sol=prv_sol.transpose()\n",
    "prv_sol.reset_index(drop=True, inplace=True)\n",
    "prv_sol=col_ren(prv_sol, 1)"
   ]
  },
  {
   "cell_type": "code",
   "execution_count": 339,
   "id": "passive-clock",
   "metadata": {},
   "outputs": [
    {
     "name": "stdout",
     "output_type": "stream",
     "text": [
      "column(s) dropped: ['16:température pour mes. pH']\n"
     ]
    }
   ],
   "source": [
    "prv_sol=dble_col_drop(prv_sol)"
   ]
  },
  {
   "cell_type": "code",
   "execution_count": 340,
   "id": "coordinated-winner",
   "metadata": {},
   "outputs": [
    {
     "name": "stdout",
     "output_type": "stream",
     "text": [
      "\n",
      "Columns dropped :['MO et COT', 'pH', 'GRANULOMETRIE']\n",
      "\n"
     ]
    }
   ],
   "source": [
    "prv_sol.drop(list(range(3)), axis=0, inplace=True)\n",
    "prv_sol.reset_index(drop=True, inplace=True)\n",
    "prv_sol=na_col_drop(prv_sol,1)\n",
    "prv_sol=na_line_drop(prv_sol,3)\n",
    "prv_sol.reset_index(drop=True, inplace=True)"
   ]
  },
  {
   "cell_type": "code",
   "execution_count": 341,
   "id": "extreme-champion",
   "metadata": {},
   "outputs": [
    {
     "name": "stdout",
     "output_type": "stream",
     "text": [
      "Rows : 44, columns : 19\n"
     ]
    },
    {
     "data": {
      "application/vnd.jupyter.widget-view+json": {
       "model_id": "2aefe6f4438747d69c168dcb36747f99",
       "version_major": 2,
       "version_minor": 0
      },
      "text/plain": [
       "interactive(children=(IntSlider(value=3, description='rows', max=44, min=3, readout=False), IntSlider(value=12…"
      ]
     },
     "metadata": {},
     "output_type": "display_data"
    }
   ],
   "source": [
    "dataframe_viewer(prv_sol, rows=3)"
   ]
  },
  {
   "cell_type": "code",
   "execution_count": 342,
   "id": "tropical-reset",
   "metadata": {},
   "outputs": [
    {
     "name": "stderr",
     "output_type": "stream",
     "text": [
      "/home/yanathan/.local/share/virtualenvs/GSDMA-DRfwm83x/lib/python3.8/site-packages/pandas/core/frame.py:4901: SettingWithCopyWarning: \n",
      "A value is trying to be set on a copy of a slice from a DataFrame\n",
      "\n",
      "See the caveats in the documentation: https://pandas.pydata.org/pandas-docs/stable/user_guide/indexing.html#returning-a-view-versus-a-copy\n",
      "  return super().drop(\n"
     ]
    }
   ],
   "source": [
    "prv_sol=prv_sol[:-1]\n",
    "prv_sol.drop(columns=['broyage'], inplace=True)"
   ]
  },
  {
   "cell_type": "code",
   "execution_count": 343,
   "id": "continental-street",
   "metadata": {},
   "outputs": [
    {
     "name": "stderr",
     "output_type": "stream",
     "text": [
      "/home/yanathan/.local/share/virtualenvs/GSDMA-DRfwm83x/lib/python3.8/site-packages/pandas/core/frame.py:5034: SettingWithCopyWarning: \n",
      "A value is trying to be set on a copy of a slice from a DataFrame\n",
      "\n",
      "See the caveats in the documentation: https://pandas.pydata.org/pandas-docs/stable/user_guide/indexing.html#returning-a-view-versus-a-copy\n",
      "  return super().rename(\n"
     ]
    }
   ],
   "source": [
    "name=['ID_ech','Ech_top', 'Ech_base','MS','Date_prv','Long_for','Refus','Description','MO','COT','pH_KCl', \n",
    "      'Temp_pH_mes','pH_H20','Fract_2','Fract_2+', 'Fract_min_2µ','Fract_min_50µ','Fract_min_2']\n",
    "prv_sol=col_ren(prv_sol, name=name, mode=1)"
   ]
  },
  {
   "cell_type": "code",
   "execution_count": 344,
   "id": "respiratory-meaning",
   "metadata": {},
   "outputs": [
    {
     "data": {
      "text/plain": [
       "{'R', 'R ', 'TN', 'TN '}"
      ]
     },
     "execution_count": 344,
     "metadata": {},
     "output_type": "execute_result"
    }
   ],
   "source": [
    "set(prv_sol.Description)"
   ]
  },
  {
   "cell_type": "code",
   "execution_count": 345,
   "id": "economic-buffalo",
   "metadata": {},
   "outputs": [
    {
     "name": "stderr",
     "output_type": "stream",
     "text": [
      "/home/yanathan/.local/share/virtualenvs/GSDMA-DRfwm83x/lib/python3.8/site-packages/pandas/core/indexing.py:1732: SettingWithCopyWarning: \n",
      "A value is trying to be set on a copy of a slice from a DataFrame\n",
      "\n",
      "See the caveats in the documentation: https://pandas.pydata.org/pandas-docs/stable/user_guide/indexing.html#returning-a-view-versus-a-copy\n",
      "  self._setitem_single_block(indexer, value, name)\n",
      "/home/yanathan/.local/share/virtualenvs/GSDMA-DRfwm83x/lib/python3.8/site-packages/pandas/core/indexing.py:723: SettingWithCopyWarning: \n",
      "A value is trying to be set on a copy of a slice from a DataFrame\n",
      "\n",
      "See the caveats in the documentation: https://pandas.pydata.org/pandas-docs/stable/user_guide/indexing.html#returning-a-view-versus-a-copy\n",
      "  iloc._setitem_with_indexer(indexer, value, self.name)\n",
      "/home/yanathan/.local/share/virtualenvs/GSDMA-DRfwm83x/lib/python3.8/site-packages/pandas/core/frame.py:3607: SettingWithCopyWarning: \n",
      "A value is trying to be set on a copy of a slice from a DataFrame.\n",
      "Try using .loc[row_indexer,col_indexer] = value instead\n",
      "\n",
      "See the caveats in the documentation: https://pandas.pydata.org/pandas-docs/stable/user_guide/indexing.html#returning-a-view-versus-a-copy\n",
      "  self._set_item(key, value)\n"
     ]
    }
   ],
   "source": [
    "for i in range(len(prv_sol['Description'])):\n",
    "    x = prv_sol.loc[i,'Description']\n",
    "    if x in ['R','R ']: prv_sol.loc[i,'Description']='Remblais'\n",
    "    elif x in ['TN','TN ']: prv_sol.loc[i,'Description']='Terrain naturel'\n",
    "\n",
    "prv_sol['Refus']=prv_sol['Refus'].apply(lambda x: 'x' if not pd.isnull(x) else '')\n",
    "prv_sol.insert(1,'Type_ech','Sol')#"
   ]
  },
  {
   "cell_type": "code",
   "execution_count": 346,
   "id": "respected-eight",
   "metadata": {
    "scrolled": false
   },
   "outputs": [
    {
     "name": "stdout",
     "output_type": "stream",
     "text": [
      "Rows : 43, columns : 19\n"
     ]
    },
    {
     "data": {
      "application/vnd.jupyter.widget-view+json": {
       "model_id": "aad2774d9dc84ce1b49e7bbda28abc11",
       "version_major": 2,
       "version_minor": 0
      },
      "text/plain": [
       "interactive(children=(IntSlider(value=3, description='rows', max=43, min=3, readout=False), IntSlider(value=12…"
      ]
     },
     "metadata": {},
     "output_type": "display_data"
    }
   ],
   "source": [
    "dataframe_viewer(prv_sol, rows=3)"
   ]
  },
  {
   "cell_type": "code",
   "execution_count": 347,
   "id": "human-interaction",
   "metadata": {},
   "outputs": [],
   "source": [
    "an=an.transpose()\n",
    "an.reset_index(drop=True, inplace=True)"
   ]
  },
  {
   "cell_type": "code",
   "execution_count": 348,
   "id": "sufficient-opinion",
   "metadata": {},
   "outputs": [],
   "source": [
    "an=col_ren(an, 1)"
   ]
  },
  {
   "cell_type": "code",
   "execution_count": 349,
   "id": "certified-topic",
   "metadata": {},
   "outputs": [],
   "source": [
    "an.rename(columns={an.columns[0]:'ID_ech'}, inplace=True)"
   ]
  },
  {
   "cell_type": "code",
   "execution_count": 350,
   "id": "blind-ensemble",
   "metadata": {},
   "outputs": [],
   "source": [
    "name=['ID_ech','METAUX LOURDS','Arsenic','Cadmium','Chrome','Chrome VI','Cuivre','Mercure','Plomb','Nickel',\n",
    "'Zinc','CYANURES','cyanure (libre)','cyanure (totaux)','cyanure (APE)','cyanure complex','thiocyanate',\n",
    "'COMPOSES AROMATIQUES VOLATILS','Benzène','Toluène','Éthylbenzène','Orthoxylène','Para- et métaxylène','Xylènes',\n",
    "'Styrène','BTEX totaux','PHENOLS','Phénol','HYDROCARBURES AROMATIQUES POLYCYCLIQUES','Naphtalène','Acénaphtylène',\n",
    "'Acénaphtène','Fluorène','Phénanthrène','Anthracène','Fluoranthène','Pyrène','Benzo(a)anthracène','Chrysène',\n",
    "'Benzo(b)fluoranthène','Benzo(k)fluoranthène','Benzo(a)pyrène','Dibenzo(ah)anthracène','Benzo(ghi)pérylène',\n",
    "'Indéno(1,2,3-cd)pyrène','HAP Totaux (16) - EPA','COMPOSES ORGANOHALOGENES VOLATILS','Tétrachloroéthylène',\n",
    "'Trichloroéthylène','1,1-dichloroéthène','Cis-1,2-dichloroéthène','Trans 1,2-dichloroéthylène',\n",
    "'Totaux (cis,trans) 1,2-dichloroéthènes','Chlorure de vinyle','1,1,1-Trichloroéthane','1,1,2-Trichloroéthane',\n",
    "'1,1-Dichloroéthane','1,2-Dichloroéthane','Tétrachlorométhane','Chloroforme','Dichlorométhane',\n",
    "'1,2-dichloropropane','HYDROCARBURES TOTAUX','fraction aromat. >C6-C7','fraction aromat. >C7-C8',\n",
    "'fraction aromat. >C8-C10','fraction aliphat. C5-C6','fraction aliphat. >C6-C8','fraction aliphat. >C8-C10',\n",
    "'Fraction C5 - C8','Fraction C8 - C10','Fraction C10-C12','Fraction C12-C16','Fraction C16 - C21',\n",
    "'Fraction C21 - C35','Fraction C35 - C40','Hydrocarbures totaux C10-C35','Hydrocarbures totaux C10-C40',\n",
    "'Teneur mesurée','Teneur mesurée','VS : Valeur seuil']\n",
    "\n",
    "an=col_ren(an, name=name, mode=1)"
   ]
  },
  {
   "cell_type": "code",
   "execution_count": 351,
   "id": "caroline-suggestion",
   "metadata": {},
   "outputs": [
    {
     "name": "stdout",
     "output_type": "stream",
     "text": [
      "column(s) dropped: ['79:Teneur mesurée']\n"
     ]
    }
   ],
   "source": [
    "an=dble_col_drop(an)"
   ]
  },
  {
   "cell_type": "code",
   "execution_count": 352,
   "id": "informed-driver",
   "metadata": {},
   "outputs": [
    {
     "name": "stdout",
     "output_type": "stream",
     "text": [
      "\n",
      "Columns dropped :['METAUX LOURDS', 'CYANURES', 'COMPOSES AROMATIQUES VOLATILS', 'BTEX totaux', 'PHENOLS', 'HYDROCARBURES AROMATIQUES POLYCYCLIQUES', 'COMPOSES ORGANOHALOGENES VOLATILS', 'HYDROCARBURES TOTAUX', 'Teneur mesurée', 'VS : Valeur seuil']\n",
      "\n"
     ]
    }
   ],
   "source": [
    "an.drop(list(range(3)), axis=0, inplace=True)\n",
    "an.reset_index(drop=True, inplace=True)\n",
    "an=na_col_drop(an,1)\n",
    "an.insert(1,'Type_ech','Sol')"
   ]
  },
  {
   "cell_type": "code",
   "execution_count": 353,
   "id": "lonely-gender",
   "metadata": {},
   "outputs": [],
   "source": [
    "an=col_ren(an, name=pol_field_model, mode=1)"
   ]
  },
  {
   "cell_type": "code",
   "execution_count": 354,
   "id": "acquired-bundle",
   "metadata": {},
   "outputs": [],
   "source": [
    "an.rename(columns={'cyanure (totaux)':'CN_tot', 'cyanure (APE)':'CN_EPA'}, inplace=True)"
   ]
  },
  {
   "cell_type": "raw",
   "id": "scheduled-vault",
   "metadata": {},
   "source": [
    "set(prv_sol['ID_ech']).symmetric_difference(set(an['ID_ech'])) #lacking ID between the 2 sets"
   ]
  },
  {
   "cell_type": "code",
   "execution_count": 355,
   "id": "antique-spouse",
   "metadata": {},
   "outputs": [
    {
     "name": "stdout",
     "output_type": "stream",
     "text": [
      "Rows : 44, columns : 71\n"
     ]
    },
    {
     "data": {
      "application/vnd.jupyter.widget-view+json": {
       "model_id": "ea4e574b499d4f5fa7642f9ec76c0e2f",
       "version_major": 2,
       "version_minor": 0
      },
      "text/plain": [
       "interactive(children=(IntSlider(value=5, description='rows', max=44, min=5, readout=False), IntSlider(value=12…"
      ]
     },
     "metadata": {},
     "output_type": "display_data"
    }
   ],
   "source": [
    "dataframe_viewer(an, rows=5) "
   ]
  },
  {
   "cell_type": "code",
   "execution_count": 356,
   "id": "877b44c2",
   "metadata": {},
   "outputs": [
    {
     "name": "stdout",
     "output_type": "stream",
     "text": [
      "Rows : 43, columns : 19\n"
     ]
    },
    {
     "data": {
      "application/vnd.jupyter.widget-view+json": {
       "model_id": "aa9b798e33d94df99918804339503925",
       "version_major": 2,
       "version_minor": 0
      },
      "text/plain": [
       "interactive(children=(IntSlider(value=5, description='rows', max=43, min=5, readout=False), IntSlider(value=12…"
      ]
     },
     "metadata": {},
     "output_type": "display_data"
    }
   ],
   "source": [
    "dataframe_viewer(prv_sol, rows=5)"
   ]
  },
  {
   "cell_type": "code",
   "execution_count": 357,
   "id": "demanding-zimbabwe",
   "metadata": {},
   "outputs": [],
   "source": [
    "source_prv_sol=prv_sol\n",
    "source_an=an"
   ]
  },
  {
   "cell_type": "code",
   "execution_count": 358,
   "id": "encouraging-eclipse",
   "metadata": {
    "scrolled": false
   },
   "outputs": [
    {
     "name": "stdout",
     "output_type": "stream",
     "text": [
      "source_bh:0 ; source_pz:0 ; source_litho:0 ; source_Fac-uknw:0 ; source_an:44 ;\n",
      "source_prv_sol:43 ;source_prv_eau:0 ; source_mes_pz:0 ; source_mes_sol:0 ;\n"
     ]
    }
   ],
   "source": [
    "if not os.path.exists(tmp_dir):\n",
    "    os.makedirs(tmp_dir)\n",
    "\n",
    "#bh.to_csv(tmp_dir+'source_Boreholes.csv', index=False)\n",
    "#pz.to_csv(tmp_dir+sheet+'_Piezometers.csv', index=False)\n",
    "#ouv.to_csv(tmp_dir+sheet+'_Unkown-facility.csv', index=False)\n",
    "#litho.to_csv(tmp_dir+sheet+'_Lithology.csv', index=False)\n",
    "#mes_pz.to_csv(tmp_dir+sheet+'_Measures.csv', index=False)\n",
    "#mes_sol.to_csv(tmp_dir+sheet+'_Measures-soil.csv', index=False)\n",
    "#prv_eau.to_csv(tmp_dir+sheet+'_Samples-water.csv', index=False)\n",
    "prv_sol.to_csv(tmp_dir+sheet+'_Samples-soil.csv', index=False)\n",
    "an.to_csv(tmp_dir+sheet+'_Analysis.csv', index=False)\n",
    "\n",
    "\n",
    "#source_bh.to_csv(tmp_dir+'source_Boreholes.csv', index=False)\n",
    "#source_pz.to_csv(tmp_dir+'source_Piezometers.csv', index=False)\n",
    "#source_ouv.to_csv(tmp_dir+'source_Unkown-facility.csv', index=False)\n",
    "#source_litho.to_csv(tmp_dir+'source_Lithology.csv', index=False)\n",
    "#source_mes_pz.to_csv(tmp_dir+'source_Measures.csv', index=False)\n",
    "#source_mes_sol.to_csv(tmp_dir+'source_Measures-soil.csv', index=False)\n",
    "#source_prv_eau.to_csv(tmp_dir+'source_Samples-water.csv', index=False)\n",
    "source_prv_sol.to_csv(tmp_dir+'source_Samples-soil.csv', index=False)\n",
    "source_an.to_csv(tmp_dir+'source_Analysis.csv', index=False)\n",
    "\n",
    "\n",
    "print(f'source_bh:{len(source_bh)} ; source_pz:{len(source_pz)} ; source_litho:{len(source_litho)} ; '\n",
    "     f'source_Fac-uknw:{len(source_ouv)} ; source_an:{len(source_an)} ;\\nsource_prv_sol:{len(source_prv_sol)} ;'\n",
    "     f'source_prv_eau:{len(source_prv_eau)} ; source_mes_pz:{len(source_mes_pz)} ; source_mes_sol:{len(source_mes_sol)} ;')"
   ]
  },
  {
   "cell_type": "markdown",
   "id": "nutritional-falls",
   "metadata": {},
   "source": [
    "* **Sheet : 'SOL T1 pilote'**"
   ]
  },
  {
   "cell_type": "code",
   "execution_count": 359,
   "id": "brilliant-visit",
   "metadata": {},
   "outputs": [],
   "source": [
    "tmp_dir='../../CF_data/Result_traitem/Siterem_Result_Sol/'\n",
    "sheet='SOL_T1_Pilote'"
   ]
  },
  {
   "cell_type": "code",
   "execution_count": 360,
   "id": "sorted-purple",
   "metadata": {
    "scrolled": true
   },
   "outputs": [
    {
     "name": "stdout",
     "output_type": "stream",
     "text": [
      "3 NaN lines dropped\n",
      "\n",
      "Columns dropped :['Unnamed: 0', 'Unnamed: 2', 'Unnamed: 30', 'Unnamed: 31', 'Unnamed: 32', 'Unnamed: 33', 'Unnamed: 34', 'Unnamed: 35', 'Unnamed: 36']\n",
      "\n",
      "Rows : 135, columns : 29\n"
     ]
    },
    {
     "name": "stderr",
     "output_type": "stream",
     "text": [
      "/home/yanathan/.local/share/virtualenvs/GSDMA-DRfwm83x/lib/python3.8/site-packages/openpyxl/worksheet/_reader.py:312: UserWarning: Data Validation extension is not supported and will be removed\n",
      "  warn(msg)\n",
      "/home/yanathan/.local/share/virtualenvs/GSDMA-DRfwm83x/lib/python3.8/site-packages/pandas/core/frame.py:4901: SettingWithCopyWarning: \n",
      "A value is trying to be set on a copy of a slice from a DataFrame\n",
      "\n",
      "See the caveats in the documentation: https://pandas.pydata.org/pandas-docs/stable/user_guide/indexing.html#returning-a-view-versus-a-copy\n",
      "  return super().drop(\n"
     ]
    },
    {
     "data": {
      "application/vnd.jupyter.widget-view+json": {
       "model_id": "4307473a26e743319ef1cd413c8b3b06",
       "version_major": 2,
       "version_minor": 0
      },
      "text/plain": [
       "interactive(children=(IntSlider(value=5, description='rows', max=135, min=5, readout=False), IntSlider(value=1…"
      ]
     },
     "metadata": {},
     "output_type": "display_data"
    }
   ],
   "source": [
    "df = pd.read_excel('../../CF_data/Data_SITEREM/Resultats_Siterem_SOL.xlsx', \n",
    "                   sheet_name='SOL T1 pilote', skiprows=5)\n",
    "df=na_line_drop(df,0)\n",
    "df=na_col_drop(df,1)\n",
    "df.replace(r'<|>','', inplace=True, regex=True)\n",
    "df.replace(r'-$',np.nan, inplace=True, regex=True)\n",
    "\n",
    "dataframe_viewer(df, rows=5)"
   ]
  },
  {
   "cell_type": "code",
   "execution_count": 361,
   "id": "streaming-oriental",
   "metadata": {},
   "outputs": [],
   "source": [
    "prv_sol=df.loc[:35]\n",
    "an=df.loc[36:]"
   ]
  },
  {
   "cell_type": "code",
   "execution_count": 362,
   "id": "aging-balance",
   "metadata": {},
   "outputs": [
    {
     "name": "stderr",
     "output_type": "stream",
     "text": [
      "/home/yanathan/.local/share/virtualenvs/GSDMA-DRfwm83x/lib/python3.8/site-packages/pandas/core/indexing.py:723: SettingWithCopyWarning: \n",
      "A value is trying to be set on a copy of a slice from a DataFrame\n",
      "\n",
      "See the caveats in the documentation: https://pandas.pydata.org/pandas-docs/stable/user_guide/indexing.html#returning-a-view-versus-a-copy\n",
      "  iloc._setitem_with_indexer(indexer, value, self.name)\n"
     ]
    }
   ],
   "source": [
    "an.loc[0.5] = df.loc[0] # put data on first line\n",
    "an = an.sort_index().reset_index(drop=True)"
   ]
  },
  {
   "cell_type": "code",
   "execution_count": 363,
   "id": "psychological-insured",
   "metadata": {},
   "outputs": [],
   "source": [
    "prv_sol=prv_sol.transpose()\n",
    "prv_sol.reset_index(drop=True, inplace=True)\n",
    "prv_sol=col_ren(prv_sol, 1)"
   ]
  },
  {
   "cell_type": "code",
   "execution_count": 364,
   "id": "elegant-angel",
   "metadata": {},
   "outputs": [
    {
     "name": "stdout",
     "output_type": "stream",
     "text": [
      "column(s) dropped: ['9:Autre zone suspecte investiguée', '27:température pour mes. pH', '30:pH (H20)']\n"
     ]
    }
   ],
   "source": [
    "prv_sol=dble_col_drop(prv_sol)"
   ]
  },
  {
   "cell_type": "code",
   "execution_count": 365,
   "id": "short-constitution",
   "metadata": {},
   "outputs": [
    {
     "name": "stdout",
     "output_type": "stream",
     "text": [
      "\n",
      "Columns dropped :['Matières organiques', 'SPP/zone suspecte investiguée', 'Autre zone suspecte investiguée', 'Parcelle', 'X Lambert', 'Y Lambert', \"Type d'étude (*)\", 'Organoleptique couleur suspecte', 'Organoleptique odeur intensité (***)', 'Organoleptique odeur type', 'MO et COT', 'matières organiques', 'COT', 'pH', 'pH (KCl)', 'température pour mes. pH', 'pH (H20)', 'GRANULOMETRIE', 'Fraction argileuse', 'parties min. 2µm', 'parties min. 50µm', 'parties min. 2mm']\n",
      "\n",
      "9 NaN lines dropped\n"
     ]
    },
    {
     "name": "stderr",
     "output_type": "stream",
     "text": [
      "/home/yanathan/.local/share/virtualenvs/GSDMA-DRfwm83x/lib/python3.8/site-packages/pandas/core/frame.py:4901: SettingWithCopyWarning: \n",
      "A value is trying to be set on a copy of a slice from a DataFrame\n",
      "\n",
      "See the caveats in the documentation: https://pandas.pydata.org/pandas-docs/stable/user_guide/indexing.html#returning-a-view-versus-a-copy\n",
      "  return super().drop(\n"
     ]
    }
   ],
   "source": [
    "prv_sol.drop(list(range(3)), axis=0, inplace=True)\n",
    "prv_sol.reset_index(drop=True, inplace=True)\n",
    "prv_sol=na_col_drop(prv_sol,1)\n",
    "prv_sol=na_line_drop(prv_sol,3)\n",
    "prv_sol.reset_index(drop=True, inplace=True)"
   ]
  },
  {
   "cell_type": "code",
   "execution_count": 366,
   "id": "controlled-florence",
   "metadata": {},
   "outputs": [],
   "source": [
    "prv_sol=prv_sol[:-1]\n",
    "prv_sol.drop(columns=['broyage'], inplace=True)"
   ]
  },
  {
   "cell_type": "code",
   "execution_count": 367,
   "id": "industrial-bearing",
   "metadata": {},
   "outputs": [
    {
     "data": {
      "text/plain": [
       "Index(['Nom de l'échantillon', 'Profondeur échantillon de', 'à',\n",
       "       'Matière sèche', 'Date de prélèvement', 'Profondeur d'arrêt du forage',\n",
       "       'Refus de forage (seulement si oui)', 'Terrain naturel/Remblai (**)',\n",
       "       'fraction  2 mm (prép. séché à 40°C) ',\n",
       "       'fraction 2 mm (prép. séché à 40°C) '],\n",
       "      dtype='object')"
      ]
     },
     "execution_count": 367,
     "metadata": {},
     "output_type": "execute_result"
    }
   ],
   "source": [
    "prv_sol.columns"
   ]
  },
  {
   "cell_type": "code",
   "execution_count": 368,
   "id": "compliant-conversion",
   "metadata": {},
   "outputs": [],
   "source": [
    "name=['ID_ech','Ech_top', 'Ech_base','MS','Date_prv','Long_for','Refus','Nature_ech','Fract_2','Fract_2+']\n",
    "prv_sol=col_ren(prv_sol, name=name, mode=1)"
   ]
  },
  {
   "cell_type": "code",
   "execution_count": 369,
   "id": "planned-trinity",
   "metadata": {},
   "outputs": [],
   "source": [
    "for i in range(len(prv_sol['Nature_ech'])):\n",
    "    x = prv_sol.loc[i,'Nature_ech']\n",
    "    if x in ['R','R ']: prv_sol.loc[i,'Nature_ech']='Remblais'\n",
    "    elif x in ['TN','TN ']: prv_sol.loc[i,'Nature_ech']='Terrain naturel'\n",
    "\n",
    "prv_sol['Refus']=prv_sol['Refus'].apply(lambda x: 'x' if not pd.isnull(x) else '')\n",
    "prv_sol.insert(1,'Type_ech','Sol')#"
   ]
  },
  {
   "cell_type": "code",
   "execution_count": 370,
   "id": "continental-howard",
   "metadata": {
    "scrolled": false
   },
   "outputs": [
    {
     "name": "stdout",
     "output_type": "stream",
     "text": [
      "Rows : 15, columns : 11\n"
     ]
    },
    {
     "data": {
      "application/vnd.jupyter.widget-view+json": {
       "model_id": "293c1fc90b6644d2a9ffe798cfc58b3d",
       "version_major": 2,
       "version_minor": 0
      },
      "text/plain": [
       "interactive(children=(IntSlider(value=3, description='rows', max=15, min=3, readout=False), IntSlider(value=11…"
      ]
     },
     "metadata": {},
     "output_type": "display_data"
    }
   ],
   "source": [
    "dataframe_viewer(prv_sol, rows=3)"
   ]
  },
  {
   "cell_type": "code",
   "execution_count": 371,
   "id": "opposite-qatar",
   "metadata": {},
   "outputs": [],
   "source": [
    "an=an.transpose()\n",
    "an.reset_index(drop=True, inplace=True)"
   ]
  },
  {
   "cell_type": "code",
   "execution_count": 372,
   "id": "distributed-civilization",
   "metadata": {},
   "outputs": [],
   "source": [
    "an=col_ren(an, 1)"
   ]
  },
  {
   "cell_type": "code",
   "execution_count": 373,
   "id": "drawn-wyoming",
   "metadata": {},
   "outputs": [],
   "source": [
    "an.rename(columns={an.columns[0]:'ID_ech'}, inplace=True)"
   ]
  },
  {
   "cell_type": "code",
   "execution_count": 374,
   "id": "beautiful-trading",
   "metadata": {},
   "outputs": [],
   "source": [
    "name=['ID_ech','METAUX LOURDS','Arsenic','Cadmium','Chrome','Chrome VI','Cobalt','Cuivre','Mercure','Plomb', \n",
    "'Nickel','Zinc','CYANURES','cyanure (libre)','cyanure (totaux)','cyanure (APE)','cyanure complex','thiocyanate',\n",
    "'COMPOSES AROMATIQUES VOLATILS','Benzène','Toluène','Éthylbenzène', 'Orthoxylène','Para- et métaxylène','Xylènes',\n",
    "'Styrène','BTEX totaux','PHENOLS','Phénol','Indice phénol','HYDROCARBURES AROMATIQUES POLYCYCLIQUES','Naphtalène',\n",
    "'Acénaphtylène','Acénaphtène', 'Fluorène','Phénanthrène','Anthracène','Fluoranthène','Pyrène','Benzo(a)anthracène',\n",
    "'Chrysène','Benzo(b)fluoranthène','Benzo(k)fluoranthène','Benzo(a)pyrène','Dibenzo(ah)anthracène',\n",
    "'Benzo(ghi)pérylène','Indéno(1,2,3-cd)pyrène','HAP Totaux (16) - EPA','COMPOSES ORGANOHALOGENES VOLATILS',\n",
    "'Tétrachloroéthylène','Trichloroéthylène','1,1-dichloroéthène','Cis-1,2-dichloroéthène',\n",
    "'Trans 1,2-dichloroéthylène','Totaux (cis,trans) 1,2-dichloroéthènes','Chlorure de vinyle',\n",
    "'1,1,1-Trichloroéthane','1,1,2-Trichloroéthane','1,1-Dichloroéthane','1,2-Dichloroéthane','Tétrachlorométhane',\n",
    "'Chloroforme','Dichlorométhane','1,2-dichloropropane','EOX','HYDROCARBURES TOTAUX',\n",
    "'fraction aromat. >C6-C7','fraction aromat. >C7-C8','fraction aromat. >C8-C10','fraction aliphat. C5-C6',\n",
    "'fraction aliphat. >C6-C8','fraction aliphat. >C8-C10','Fraction C5 - C8','Fraction C8 - C10','Fraction C10-C12',\n",
    "'Fraction C12-C16','Fraction C16 - C21','Fraction C21 - C35','Fraction C35 - C40','Hydrocarbures totaux C10-C35',\n",
    "'Hydrocarbures totaux C10-C40','METHYL-TERT-BUTYL-ETHER','MTBE']\n",
    "\n",
    "an=an.iloc[:,:-17]\n",
    "an=col_ren(an, name=name, mode=1)"
   ]
  },
  {
   "cell_type": "raw",
   "id": "threatened-southeast",
   "metadata": {},
   "source": [
    "len(name), len(an.columns[:-17]), print(list(an.columns[:-17]))"
   ]
  },
  {
   "cell_type": "code",
   "execution_count": 375,
   "id": "still-legend",
   "metadata": {},
   "outputs": [
    {
     "name": "stdout",
     "output_type": "stream",
     "text": [
      "column(s) dropped: []\n"
     ]
    }
   ],
   "source": [
    "an=dble_col_drop(an)"
   ]
  },
  {
   "cell_type": "code",
   "execution_count": 376,
   "id": "colonial-tuition",
   "metadata": {},
   "outputs": [
    {
     "name": "stdout",
     "output_type": "stream",
     "text": [
      "\n",
      "Columns dropped :['METAUX LOURDS', 'Chrome VI', 'Cobalt', 'CYANURES', 'COMPOSES AROMATIQUES VOLATILS', 'BTEX totaux', 'PHENOLS', 'Phénol', 'Indice phénol', 'HYDROCARBURES AROMATIQUES POLYCYCLIQUES', 'COMPOSES ORGANOHALOGENES VOLATILS', 'EOX', 'HYDROCARBURES TOTAUX', 'METHYL-TERT-BUTYL-ETHER']\n",
      "\n"
     ]
    }
   ],
   "source": [
    "an.drop(list(range(3)), axis=0, inplace=True)\n",
    "an.reset_index(drop=True, inplace=True)\n",
    "an=na_col_drop(an,3)\n",
    "an.insert(1,'Type_ech','Sol')"
   ]
  },
  {
   "cell_type": "code",
   "execution_count": 377,
   "id": "stable-consolidation",
   "metadata": {},
   "outputs": [],
   "source": [
    "an=col_ren(an, name=pol_field_model, mode=1)"
   ]
  },
  {
   "cell_type": "code",
   "execution_count": 378,
   "id": "romantic-dylan",
   "metadata": {},
   "outputs": [],
   "source": [
    "an.rename(columns={'cyanure (totaux)':'CN_tot', 'cyanure (APE)':'CN_EPA'}, inplace=True)"
   ]
  },
  {
   "cell_type": "code",
   "execution_count": 379,
   "id": "planned-charger",
   "metadata": {},
   "outputs": [
    {
     "name": "stdout",
     "output_type": "stream",
     "text": [
      "Rows : 25, columns : 70\n"
     ]
    },
    {
     "data": {
      "application/vnd.jupyter.widget-view+json": {
       "model_id": "028a8bacd6524d9b8bfed22b9e65d4c6",
       "version_major": 2,
       "version_minor": 0
      },
      "text/plain": [
       "interactive(children=(IntSlider(value=5, description='rows', max=25, min=5, readout=False), IntSlider(value=12…"
      ]
     },
     "metadata": {},
     "output_type": "display_data"
    }
   ],
   "source": [
    "dataframe_viewer(an, rows=5) "
   ]
  },
  {
   "cell_type": "code",
   "execution_count": 380,
   "id": "1f519912",
   "metadata": {},
   "outputs": [
    {
     "name": "stdout",
     "output_type": "stream",
     "text": [
      "Rows : 15, columns : 11\n"
     ]
    },
    {
     "data": {
      "application/vnd.jupyter.widget-view+json": {
       "model_id": "c0032526f8e745d7a8c69f5092a1b979",
       "version_major": 2,
       "version_minor": 0
      },
      "text/plain": [
       "interactive(children=(IntSlider(value=5, description='rows', max=15, min=5, readout=False), IntSlider(value=11…"
      ]
     },
     "metadata": {},
     "output_type": "display_data"
    }
   ],
   "source": [
    "dataframe_viewer(prv_sol, rows=5) "
   ]
  },
  {
   "cell_type": "raw",
   "id": "pharmaceutical-teddy",
   "metadata": {},
   "source": [
    "set(prv_sol['ID_ech']).symmetric_difference(set(an['ID_ech'])) #lacking ID between the 2 sets"
   ]
  },
  {
   "cell_type": "code",
   "execution_count": 381,
   "id": "extra-controversy",
   "metadata": {},
   "outputs": [],
   "source": [
    "#source_prv_sol.info()#, prv_sol.info()"
   ]
  },
  {
   "cell_type": "code",
   "execution_count": 382,
   "id": "german-checkout",
   "metadata": {},
   "outputs": [],
   "source": [
    "source_prv_sol=source_prv_sol[['ID_ech', 'Type_ech', 'Date_prv','Long_for', 'Refus', 'Description', \n",
    "                               'Ech_top', 'Ech_base', 'MS', 'Fract_2', 'Fract_2+']]"
   ]
  },
  {
   "cell_type": "code",
   "execution_count": 383,
   "id": "scheduled-swedish",
   "metadata": {},
   "outputs": [],
   "source": [
    "source_prv_sol=data_merger(source_prv_sol, prv_sol, on='ID_ech', how='outer')[0]"
   ]
  },
  {
   "cell_type": "code",
   "execution_count": 384,
   "id": "c8520229",
   "metadata": {},
   "outputs": [],
   "source": [
    "source_an, conflict=data_merger(source_an,an, on='ID_ech', how='outer')"
   ]
  },
  {
   "cell_type": "code",
   "execution_count": 385,
   "id": "duplicate-bolivia",
   "metadata": {},
   "outputs": [],
   "source": [
    "source_an=source_an.query('ID_ech==ID_ech')"
   ]
  },
  {
   "cell_type": "code",
   "execution_count": 386,
   "id": "smaller-clearance",
   "metadata": {
    "scrolled": false
   },
   "outputs": [
    {
     "name": "stdout",
     "output_type": "stream",
     "text": [
      "source_bh:0 ; source_pz:0 ; source_litho:0 ; source_Fac-uknw:0 ; source_an:58 ;\n",
      "source_prv_sol:58 ;source_prv_eau:0 ; source_mes_pz:0 ; source_mes_sol:0 ;\n"
     ]
    }
   ],
   "source": [
    "if not os.path.exists(tmp_dir):\n",
    "    os.makedirs(tmp_dir)\n",
    "\n",
    "#bh.to_csv(tmp_dir+'source_Boreholes.csv', index=False)\n",
    "#pz.to_csv(tmp_dir+sheet+'_Piezometers.csv', index=False)\n",
    "#ouv.to_csv(tmp_dir+sheet+'_Unkown-facility.csv', index=False)\n",
    "#litho.to_csv(tmp_dir+sheet+'_Lithology.csv', index=False)\n",
    "#mes_pz.to_csv(tmp_dir+sheet+'_Measures.csv', index=False)\n",
    "#mes_sol.to_csv(tmp_dir+sheet+'_Measures-soil.csv', index=False)\n",
    "#prv_eau.to_csv(tmp_dir+sheet+'_Samples-water.csv', index=False)\n",
    "prv_sol.to_csv(tmp_dir+sheet+'_Samples-soil.csv', index=False)\n",
    "an.to_csv(tmp_dir+sheet+'_Analysis.csv', index=False)\n",
    "\n",
    "\n",
    "#source_bh.to_csv(tmp_dir+'source_Boreholes.csv', index=False)\n",
    "#source_pz.to_csv(tmp_dir+'source_Piezometers.csv', index=False)\n",
    "#source_ouv.to_csv(tmp_dir+'source_Unkown-facility.csv', index=False)\n",
    "#source_litho.to_csv(tmp_dir+'source_Lithology.csv', index=False)\n",
    "#source_mes_pz.to_csv(tmp_dir+'source_Measures.csv', index=False)\n",
    "#source_mes_sol.to_csv(tmp_dir+'source_Measures-soil.csv', index=False)\n",
    "#source_prv_eau.to_csv(tmp_dir+'source_Samples-water.csv', index=False)\n",
    "source_prv_sol.to_csv(tmp_dir+'source_Samples-soil.csv', index=False)\n",
    "source_an.to_csv(tmp_dir+'source_Analysis.csv', index=False)\n",
    "\n",
    "\n",
    "print(f'source_bh:{len(source_bh)} ; source_pz:{len(source_pz)} ; source_litho:{len(source_litho)} ; '\n",
    "     f'source_Fac-uknw:{len(source_ouv)} ; source_an:{len(source_an)} ;\\nsource_prv_sol:{len(source_prv_sol)} ;'\n",
    "     f'source_prv_eau:{len(source_prv_eau)} ; source_mes_pz:{len(source_mes_pz)} ; source_mes_sol:{len(source_mes_sol)} ;')"
   ]
  },
  {
   "cell_type": "markdown",
   "id": "28783397",
   "metadata": {},
   "source": [
    "### $\\color{red}{\\textbf{Excel sheets data merging}}$"
   ]
  },
  {
   "cell_type": "code",
   "execution_count": 387,
   "id": "28988a81",
   "metadata": {},
   "outputs": [],
   "source": [
    "excel_bh_soil_an, conflict_df = data_merger(source_prv_sol, source_an, how='outer', on='ID_ech', drop_skip_col=['index'])"
   ]
  },
  {
   "cell_type": "code",
   "execution_count": 388,
   "id": "0a75a241",
   "metadata": {},
   "outputs": [],
   "source": [
    "save_dir = tmp_dir + 'Final_merge/final_'\n",
    "if not os.path.exists(save_dir):\n",
    "    os.makedirs(save_dir)\n",
    "\n",
    "#excel_bhs.to_csv(save_dir + 'Boreholes.csv', index=False)\n",
    "#excel_bh_litho.to_csv(save_dir+'Lithologies.csv', index=False)\n",
    "#excel_bh_equip.to_csv(save_dir+'Equipments.csv', index=False)\n",
    "#excel_bh_soil_sp.to_csv(save_dir+'Soil_samples.csv', index=False)\n",
    "#excel_bh_water_sp.to_csv(save_dir+'Water_samples.csv', index=False)\n",
    "excel_bh_soil_an.to_csv(save_dir+'Soil_analysis.csv', index=False)\n",
    "#excel_bh_water_an.to_csv(save_dir+'water_analysis.csv', index=False)\n",
    "#excel_bh_mes.to_csv(save_dir+'Measures.csv', index=False)\n",
    "#excel_bh_fac.to_csv(save_dir+'Unknow_facilities.csv', index=False)"
   ]
  },
  {
   "cell_type": "markdown",
   "id": "iraqi-uruguay",
   "metadata": {},
   "source": [
    "## 14-Logs_forages_vUmons_2018-03-20.xlsx\n",
    "* **Sheet : 'Analyse_eau_Phases1&2'**"
   ]
  },
  {
   "cell_type": "code",
   "execution_count": 389,
   "id": "civic-europe",
   "metadata": {},
   "outputs": [],
   "source": [
    "# New file, so the source variables must be overwritten !!\n",
    "_df=pd.DataFrame()\n",
    "source_mes_pz, source_mes_sol, source_pz, source_prv_eau, source_prv_sol =  _df, _df, _df, _df, _df\n",
    "source_ouv, source_an, source_litho, source_bh = _df, _df, _df, _df"
   ]
  },
  {
   "cell_type": "code",
   "execution_count": 390,
   "id": "coral-wagon",
   "metadata": {},
   "outputs": [],
   "source": [
    "tmp_dir='../../CF_data/Result_traitem/vUmons_logsFor/'\n",
    "sheet='Analyse_eau_Phases1&2'"
   ]
  },
  {
   "cell_type": "code",
   "execution_count": 391,
   "id": "stretch-stone",
   "metadata": {
    "scrolled": true
   },
   "outputs": [
    {
     "name": "stdout",
     "output_type": "stream",
     "text": [
      "1 NaN lines dropped\n",
      "Rows : 51, columns : 85\n"
     ]
    },
    {
     "name": "stderr",
     "output_type": "stream",
     "text": [
      "/home/yanathan/.local/share/virtualenvs/GSDMA-DRfwm83x/lib/python3.8/site-packages/pandas/core/frame.py:4901: SettingWithCopyWarning: \n",
      "A value is trying to be set on a copy of a slice from a DataFrame\n",
      "\n",
      "See the caveats in the documentation: https://pandas.pydata.org/pandas-docs/stable/user_guide/indexing.html#returning-a-view-versus-a-copy\n",
      "  return super().drop(\n"
     ]
    },
    {
     "data": {
      "application/vnd.jupyter.widget-view+json": {
       "model_id": "3b00bd6e50584ba3b5d81d08cc0c0be4",
       "version_major": 2,
       "version_minor": 0
      },
      "text/plain": [
       "interactive(children=(IntSlider(value=5, description='rows', max=51, min=5, readout=False), IntSlider(value=12…"
      ]
     },
     "metadata": {},
     "output_type": "display_data"
    }
   ],
   "source": [
    "df = pd.read_excel('../../CF_data/Data_UMONS/Logs_forages_vUmons_2018-03-20.xlsx', \n",
    "                   sheet_name='Analyse_eau_Phases1&2', skiprows=0)\n",
    "df=na_line_drop(df,0)\n",
    "df=na_col_drop(df,1)\n",
    "df.replace(r'<|>','', inplace=True, regex=True)\n",
    "df.replace(r'-$',np.nan, inplace=True, regex=True)\n",
    "\n",
    "dataframe_viewer(df, rows=5)"
   ]
  },
  {
   "cell_type": "code",
   "execution_count": 392,
   "id": "placed-receipt",
   "metadata": {},
   "outputs": [],
   "source": [
    "df.drop(list(range(4)), axis=0, inplace=True)\n",
    "df.reset_index(drop=True, inplace=True)"
   ]
  },
  {
   "cell_type": "code",
   "execution_count": 393,
   "id": "lightweight-oakland",
   "metadata": {},
   "outputs": [],
   "source": [
    "df.replace(9999,np.nan, inplace=True, regex=True) #int\n",
    "df.replace(f'[{9999}|9999].',np.nan, inplace=True, regex=True) #float, str"
   ]
  },
  {
   "cell_type": "code",
   "execution_count": 394,
   "id": "conventional-moderator",
   "metadata": {},
   "outputs": [],
   "source": [
    "df['CE']=df['CE'].apply(lambda x: pd.to_numeric(x)/1000 \n",
    "                                  if re.search('^\\d+', str(x)) and not pd.isnull(x) else np.nan)"
   ]
  },
  {
   "cell_type": "code",
   "execution_count": 395,
   "id": "right-actor",
   "metadata": {},
   "outputs": [],
   "source": [
    "df=col_ren(df,mode=1,name=[re.sub('9999','-',x) for x in df.columns])\n",
    "df=col_ren(df,mode=1, name=pol_field_model)"
   ]
  },
  {
   "cell_type": "code",
   "execution_count": 396,
   "id": "frequent-necklace",
   "metadata": {},
   "outputs": [],
   "source": [
    "name=['ID', 'ID_ech', 'Date_prv', 'X', 'Y', 'Z', 'Long_for','Long_pz_sol', 'Niv_eau_sol', 'pH', 'CE', 'T', \n",
    "      'As', 'Cd', 'Cr', 'Cr_VI', 'Cu', 'Hg','Pb', 'Ni', 'Zn', 'CN_libre', 'CN_tot', 'CN_APE', 'CN_comp',\n",
    "      'thioCN', 'Bnz_vn', 'Bnz', 'Toln_vn', 'Toln', 'EthylBnz','O-Xyl', 'P-M-Xyl', 'Xyl_vn', 'Xyl', 'Styr', \n",
    "      'Phenol','Naphta_vn', 'Naphta', 'Acenaphtyl', 'Acenaphtn', 'Fluorene',\n",
    "       'Phenanthr', 'Anthrc', 'Flranth', 'Pyr', 'Bnz(a)anthrc', 'Chrys',\n",
    "       'Bnz(b)flranth', 'Bnz(k)flranth', 'Bnz(a)pyr', 'Dibnz(ah)anthrc',\n",
    "       'Bnz(ghi)peryl', 'Indeno(1,2,3-cd)pyr', 'HAP_tot_EPA',\n",
    "       '1,1-DCE', '1,2-DCE', '1,1-DCEn', 'Cis-1,2-DCEn',\n",
    "       '(cis,trans) 1,2-DCE_tot', 'Trans 1,2-DCEyl', 'DCM', '1,2-DCP',\n",
    "       'TetraCEyn', 'TCM', '1,1,1-TCE', '1,1,2-TCE', 'TCEyn', 'Chloroforme',\n",
    "       'CVinyl', 'Arom_C6C7', 'Arom_C7C8', 'Arom_C8C10', 'Aliphat_C5C6',\n",
    "       'Aliphat_C6C8', 'Aliphat_C8C10', 'Fract_C5C8', 'Fract_C8C10',\n",
    "       'Fract_C10C12', 'Fract_C12C16', 'Fract_C16C21', 'Fract_C21C35',\n",
    "       'HC_tot_C10C35', 'MTBE', 'Chlorure']\n",
    "df=col_ren(df, mode=1,name=name)"
   ]
  },
  {
   "cell_type": "code",
   "execution_count": 397,
   "id": "treated-archive",
   "metadata": {
    "scrolled": true
   },
   "outputs": [],
   "source": [
    "df['ID_ech'].replace('Canne ', 'Can', inplace=True, regex=True)\n",
    "df['ID_ech'].replace('\\n', ' ', inplace=True, regex=True)\n",
    "df.insert(1,'Type_ech','Eau')"
   ]
  },
  {
   "cell_type": "code",
   "execution_count": 398,
   "id": "athletic-craps",
   "metadata": {
    "scrolled": true
   },
   "outputs": [],
   "source": [
    "df.drop([20,39], axis=0,inplace=True)\n",
    "df.reset_index(drop=True, inplace=True)"
   ]
  },
  {
   "cell_type": "code",
   "execution_count": 399,
   "id": "headed-chart",
   "metadata": {},
   "outputs": [],
   "source": [
    "df.loc[38:,'Date_prv']=df.loc[38:,'Date_prv'].apply(lambda x : dtm.datetime.fromordinal(dtm.datetime(1900, 1, 1).toordinal() + x - 2))"
   ]
  },
  {
   "cell_type": "code",
   "execution_count": 400,
   "id": "compact-parliament",
   "metadata": {},
   "outputs": [],
   "source": [
    "for i in range(len(df['ID_ech'])):\n",
    "    if pd.isnull(df.loc[i,'ID_ech']): \n",
    "        df.loc[i,'ID_ech']=df.loc[i,'ID']"
   ]
  },
  {
   "cell_type": "code",
   "execution_count": 401,
   "id": "substantial-value",
   "metadata": {},
   "outputs": [
    {
     "name": "stderr",
     "output_type": "stream",
     "text": [
      "/home/yanathan/.local/share/virtualenvs/GSDMA-DRfwm83x/lib/python3.8/site-packages/pandas/core/frame.py:3607: SettingWithCopyWarning: \n",
      "A value is trying to be set on a copy of a slice from a DataFrame.\n",
      "Try using .loc[row_indexer,col_indexer] = value instead\n",
      "\n",
      "See the caveats in the documentation: https://pandas.pydata.org/pandas-docs/stable/user_guide/indexing.html#returning-a-view-versus-a-copy\n",
      "  self._set_item(key, value)\n"
     ]
    }
   ],
   "source": [
    "pz=df[['ID', 'X', 'Y', 'Z', 'Long_for','Long_pz_sol']]\n",
    "pz['Type'] = 'Piezo'\n",
    "\n",
    "prv_eau=df[['ID','ID_ech','Type_ech','Date_prv', 'X', 'Y', 'Z','Niv_eau_sol', 'pH', 'CE', 'T']]\n",
    "an=df[['ID','ID_ech','Type_ech','Date_prv', 'X', 'Y', 'Z','As', 'Cd', 'Cr', 'Cr_VI', 'Cu', 'Hg','Pb', 'Ni', 'Zn', 'CN_libre', 'CN_tot', 'CN_APE', \n",
    "       'CN_comp','thioCN', 'Bnz_vn', 'Bnz', 'Toln_vn', 'Toln', 'EthylBnz','O-Xyl', 'P-M-Xyl', 'Xyl_vn', 'Xyl',\n",
    "       'Styr', 'Phenol','Naphta_vn', 'Naphta', 'Acenaphtyl', 'Acenaphtn', 'Fluorene',\n",
    "       'Phenanthr', 'Anthrc', 'Flranth', 'Pyr', 'Bnz(a)anthrc', 'Chrys',\n",
    "       'Bnz(b)flranth', 'Bnz(k)flranth', 'Bnz(a)pyr', 'Dibnz(ah)anthrc',\n",
    "       'Bnz(ghi)peryl', 'Indeno(1,2,3-cd)pyr', 'HAP_tot_EPA',\n",
    "       '1,1-DCE', '1,2-DCE', '1,1-DCEn', 'Cis-1,2-DCEn',\n",
    "       '(cis,trans) 1,2-DCE_tot', 'Trans 1,2-DCEyl', 'DCM', '1,2-DCP',\n",
    "       'TetraCEyn', 'TCM', '1,1,1-TCE', '1,1,2-TCE', 'TCEyn', 'Chloroforme',\n",
    "       'CVinyl', 'Arom_C6C7', 'Arom_C7C8', 'Arom_C8C10', 'Aliphat_C5C6',\n",
    "       'Aliphat_C6C8', 'Aliphat_C8C10', 'Fract_C5C8', 'Fract_C8C10',\n",
    "       'Fract_C10C12', 'Fract_C12C16', 'Fract_C16C21', 'Fract_C21C35',\n",
    "       'HC_tot_C10C35', 'MTBE', 'Chlorure']]"
   ]
  },
  {
   "cell_type": "code",
   "execution_count": 402,
   "id": "recent-piece",
   "metadata": {},
   "outputs": [
    {
     "name": "stderr",
     "output_type": "stream",
     "text": [
      "/home/yanathan/.local/share/virtualenvs/GSDMA-DRfwm83x/lib/python3.8/site-packages/pandas/util/_decorators.py:311: SettingWithCopyWarning: \n",
      "A value is trying to be set on a copy of a slice from a DataFrame\n",
      "\n",
      "See the caveats in the documentation: https://pandas.pydata.org/pandas-docs/stable/user_guide/indexing.html#returning-a-view-versus-a-copy\n",
      "  return func(*args, **kwargs)\n"
     ]
    }
   ],
   "source": [
    "pz.drop_duplicates(subset=['ID'], keep='first', ignore_index=True, inplace=True)"
   ]
  },
  {
   "cell_type": "code",
   "execution_count": 403,
   "id": "former-while",
   "metadata": {},
   "outputs": [
    {
     "name": "stdout",
     "output_type": "stream",
     "text": [
      "Rows : 45, columns : 80\n"
     ]
    },
    {
     "data": {
      "application/vnd.jupyter.widget-view+json": {
       "model_id": "00568f93aafd41d69af058e9111f4b7b",
       "version_major": 2,
       "version_minor": 0
      },
      "text/plain": [
       "interactive(children=(IntSlider(value=5, description='rows', max=45, min=5, readout=False), IntSlider(value=12…"
      ]
     },
     "metadata": {},
     "output_type": "display_data"
    }
   ],
   "source": [
    "dataframe_viewer(an, rows=5)"
   ]
  },
  {
   "cell_type": "code",
   "execution_count": 404,
   "id": "reduced-medicare",
   "metadata": {},
   "outputs": [],
   "source": [
    "source_an=an\n",
    "source_pz=pz\n",
    "source_prv_eau=prv_eau"
   ]
  },
  {
   "cell_type": "code",
   "execution_count": 405,
   "id": "8b71e380",
   "metadata": {},
   "outputs": [],
   "source": [
    "for i in range(len(excel_water_an.ID_ech)):\n",
    "    c=excel_water_an.loc[i, 'ID_ech']\n",
    "    excel_water_an.loc[i, 'ID']=re.search(\"(\\w+\\d+(?:\\w)?)\",c).group(1)"
   ]
  },
  {
   "cell_type": "code",
   "execution_count": 406,
   "id": "583d97b1",
   "metadata": {},
   "outputs": [],
   "source": [
    "save_dir = tmp_dir + 'Final_merge/final_'\n",
    "if not os.path.exists(save_dir):\n",
    "    os.makedirs(save_dir)\n",
    "\n",
    "#excel_bhs.to_csv(save_dir + 'Boreholes.csv', index=False)\n",
    "#excel_bh_litho.to_csv(save_dir+'Lithologies.csv', index=False)\n",
    "#excel_bh_equip.to_csv(save_dir+'Equipments.csv', index=False)\n",
    "#excel_bh_soil_sp.to_csv(save_dir+'Soil_samples.csv', index=False)\n",
    "#excel_bh_water_sp.to_csv(save_dir+'Water_samples.csv', index=False)\n",
    "#excel_bh_soil_an.to_csv(save_dir+'Soil_analysis.csv', index=False)\n",
    "#excel_bh_water_an.to_csv(save_dir+'water_analysis.csv', index=False)\n",
    "#excel_bh_mes.to_csv(save_dir+'Measures.csv', index=False)\n",
    "#excel_bh_fac.to_csv(save_dir+'Unknow_facilities.csv', index=False)\n",
    "\n",
    "an.to_csv(save_dir+'Water_analysis.csv', index=False)"
   ]
  },
  {
   "cell_type": "code",
   "execution_count": 407,
   "id": "recovered-extraction",
   "metadata": {
    "scrolled": false
   },
   "outputs": [
    {
     "name": "stdout",
     "output_type": "stream",
     "text": [
      "source_bh:0 ; source_pz:29 ; source_litho:0 ; source_Fac-uknw:0 ; source_an:45 ;\n",
      "source_prv_sol:0 ;source_prv_eau:45 ; source_mes_pz:0 ; source_mes_sol:0 ;\n"
     ]
    }
   ],
   "source": [
    "if not os.path.exists(tmp_dir):\n",
    "    os.makedirs(tmp_dir)\n",
    "\n",
    "#bh.to_csv(tmp_dir+'source_Boreholes.csv', index=False)\n",
    "pz.to_csv(tmp_dir+sheet+'_Piezometers.csv', index=False)\n",
    "#ouv.to_csv(tmp_dir+sheet+'_Unkown-facility.csv', index=False)\n",
    "#litho.to_csv(tmp_dir+sheet+'_Lithology.csv', index=False)\n",
    "#mes_pz.to_csv(tmp_dir+sheet+'_Measures.csv', index=False)\n",
    "#mes_sol.to_csv(tmp_dir+sheet+'_Measures-soil.csv', index=False)\n",
    "prv_eau.to_csv(tmp_dir+sheet+'_Samples-water.csv', index=False)\n",
    "#prv_sol.to_csv(tmp_dir+sheet+'_Samples-soil.csv', index=False)\n",
    "an.to_csv(tmp_dir+sheet+'_Analysis.csv', index=False)\n",
    "\n",
    "\n",
    "#source_bh.to_csv(tmp_dir+'source_Boreholes.csv', index=False)\n",
    "source_pz.to_csv(tmp_dir+'source_Piezometers.csv', index=False)\n",
    "#source_ouv.to_csv(tmp_dir+'source_Unkown-facility.csv', index=False)\n",
    "#source_litho.to_csv(tmp_dir+'source_Lithology.csv', index=False)\n",
    "#source_mes_pz.to_csv(tmp_dir+'source_Measures.csv', index=False)\n",
    "#source_mes_sol.to_csv(tmp_dir+'source_Measures-soil.csv', index=False)\n",
    "source_prv_eau.to_csv(tmp_dir+'source_Samples-water.csv', index=False)\n",
    "#source_prv_sol.to_csv(tmp_dir+'source_Samples-soil.csv', index=False)\n",
    "source_an.to_csv(tmp_dir+'source_Analysis.csv', index=False)\n",
    "\n",
    "\n",
    "print(f'source_bh:{len(source_bh)} ; source_pz:{len(source_pz)} ; source_litho:{len(source_litho)} ; '\n",
    "     f'source_Fac-uknw:{len(source_ouv)} ; source_an:{len(source_an)} ;\\nsource_prv_sol:{len(source_prv_sol)} ;'\n",
    "     f'source_prv_eau:{len(source_prv_eau)} ; source_mes_pz:{len(source_mes_pz)} ; source_mes_sol:{len(source_mes_sol)} ;')"
   ]
  },
  {
   "cell_type": "markdown",
   "id": "noted-citizenship",
   "metadata": {},
   "source": [
    "* **Sheet : 'Analyse_sol_Phases1&2'**"
   ]
  },
  {
   "cell_type": "code",
   "execution_count": 408,
   "id": "controlling-enlargement",
   "metadata": {},
   "outputs": [],
   "source": [
    "tmp_dir='../../CF_data/Result_traitem/vUmons_logsFor/'\n",
    "sheet='Analyse_sol_Phases1&2'"
   ]
  },
  {
   "cell_type": "code",
   "execution_count": 409,
   "id": "adverse-wells",
   "metadata": {
    "scrolled": false
   },
   "outputs": [
    {
     "name": "stdout",
     "output_type": "stream",
     "text": [
      "Rows : 64, columns : 84\n"
     ]
    },
    {
     "data": {
      "application/vnd.jupyter.widget-view+json": {
       "model_id": "93e02fbf1b03464f8eeeed34beb4dced",
       "version_major": 2,
       "version_minor": 0
      },
      "text/plain": [
       "interactive(children=(IntSlider(value=5, description='rows', max=64, min=5, readout=False), IntSlider(value=12…"
      ]
     },
     "metadata": {},
     "output_type": "display_data"
    }
   ],
   "source": [
    "df = pd.read_excel('../../CF_data/Data_UMONS/Logs_forages_vUmons_2018-03-20.xlsx', \n",
    "                   sheet_name='Analyse_sol_Phases1&2', skiprows=0)\n",
    "df=na_line_drop(df,0)\n",
    "df=na_col_drop(df,1)\n",
    "df.replace(r'<|>','', inplace=True, regex=True)\n",
    "df.replace(r'-$',np.nan, inplace=True, regex=True)\n",
    "\n",
    "dataframe_viewer(df, rows=5)"
   ]
  },
  {
   "cell_type": "code",
   "execution_count": 410,
   "id": "interesting-present",
   "metadata": {},
   "outputs": [],
   "source": [
    "df=col_ren(df, mode=1, name=pol_field_model)"
   ]
  },
  {
   "cell_type": "code",
   "execution_count": 411,
   "id": "through-smooth",
   "metadata": {},
   "outputs": [],
   "source": [
    "name=['ID_ech','Date_prv','ID','X','Y','Z','Nature_ech','Organo','Long_for','Refus','Ech_top','Ech_base',\n",
    "      'MS','Broyage < 150 µm','Broyage ','Fract_2','Fract_2+','As','Cd','Cr','Cr_VI','Cu',\n",
    "       'Hg','Pb','Ni','Zn','CN_libre','CN_tot','CN_APE',\n",
    "       'CN_comp','thioCN','Bnz','Toln','EthylBnz','O-Xyl','P-M-Xyl',\n",
    "       'Xyl','Styr','Phenol','Naphta','Acenaphtyl','Acenaphtn',\n",
    "       'Fluorene','Phenanthr','Anthrc','Flranth','Pyr','Bnz(a)anthrc',\n",
    "       'Chrys','Bnz(b)flranth','Bnz(k)flranth','Bnz(a)pyr',\n",
    "       'Dibnz(ah)anthrc','Bnz(ghi)peryl','Indeno(1,2,3-cd)pyr',\n",
    "       'HAP_tot_EPA','1,1-DCE','1,2-DCE','1,1-DCEn',\n",
    "       'Cis-1,2-DCEn','Trans 1,2-DCEyl','DCM',\n",
    "       '(cis,trans) 1,2-DCE_tot','1,2-DCP','TetraCEyn','TCM',\n",
    "       '1,1,1-TCE','1,1,2-TCE','TCEyn','Chloroforme','CVinyl','Arom_C6C7',\n",
    "       'Arom_C7C8','Arom_C8C10','Aliphat_C5C6','Aliphat_C6C8',\n",
    "       'Aliphat_C8C10','Fract_C5C8','Fract_C8C10','Fract_C10C12',\n",
    "       'Fract_C12C16','Fract_C16C21','Fract_C21C35','HC_tot_C10C35']\n",
    "df=col_ren(df, mode=1, name=name)"
   ]
  },
  {
   "cell_type": "code",
   "execution_count": 412,
   "id": "funny-operator",
   "metadata": {},
   "outputs": [],
   "source": [
    "df.drop(list(range(4)), axis=0, inplace=True)\n",
    "df.reset_index(drop=True, inplace=True)"
   ]
  },
  {
   "cell_type": "code",
   "execution_count": 413,
   "id": "excited-substitute",
   "metadata": {},
   "outputs": [],
   "source": [
    "df.replace(9999,np.nan, inplace=True, regex=True) #int\n",
    "df.replace(f'[{9999}|9999].',np.nan, inplace=True, regex=True) #float, str"
   ]
  },
  {
   "cell_type": "code",
   "execution_count": 414,
   "id": "accurate-hypothesis",
   "metadata": {},
   "outputs": [],
   "source": [
    "for i in range(len(df['Nature_ech'])):\n",
    "    x = df.loc[i,'Nature_ech']\n",
    "    if x in ['R','R ']: df.loc[i,'Nature_ech']='Remblais'\n",
    "    elif x in ['L']: df.loc[i,'Nature_ech']='Limons'\n",
    "    elif x in ['LA']: df.loc[i,'Nature_ech']='Limons et argiles'\n",
    "    elif x in ['LS']: df.loc[i,'Nature_ech']='Limons et sables'\n",
    "\n",
    "df['Refus']=df['Refus'].apply(lambda x: 'x' if not pd.isnull(x) else '')\n",
    "df.insert(1,'Type_ech','Sol')"
   ]
  },
  {
   "cell_type": "code",
   "execution_count": 415,
   "id": "improving-advocacy",
   "metadata": {},
   "outputs": [],
   "source": [
    "df.drop(14, axis=0, inplace=True)\n",
    "df.drop(['Broyage < 150 µm', 'Broyage '], axis=1, inplace=True)\n",
    "df.reset_index(drop=True, inplace=True)"
   ]
  },
  {
   "cell_type": "code",
   "execution_count": 416,
   "id": "retired-melissa",
   "metadata": {},
   "outputs": [],
   "source": [
    "df.loc[8, 'ID_ech']='F4/2M'\n",
    "df.loc[31, 'ID_ech']='P19/1'\n",
    "df.loc[32, 'ID_ech']='P19/2'"
   ]
  },
  {
   "cell_type": "code",
   "execution_count": 417,
   "id": "convinced-deviation",
   "metadata": {},
   "outputs": [
    {
     "name": "stderr",
     "output_type": "stream",
     "text": [
      "/home/yanathan/.local/share/virtualenvs/GSDMA-DRfwm83x/lib/python3.8/site-packages/pandas/core/frame.py:3607: SettingWithCopyWarning: \n",
      "A value is trying to be set on a copy of a slice from a DataFrame.\n",
      "Try using .loc[row_indexer,col_indexer] = value instead\n",
      "\n",
      "See the caveats in the documentation: https://pandas.pydata.org/pandas-docs/stable/user_guide/indexing.html#returning-a-view-versus-a-copy\n",
      "  self._set_item(key, value)\n"
     ]
    }
   ],
   "source": [
    "pz=df[['ID', 'X', 'Y', 'Z', 'Long_for','Refus']]\n",
    "pz['Type'] = 'Piezo'\n",
    "\n",
    "prv_sol=df[['ID_ech', 'Type_ech', 'Date_prv', 'X', 'Y', 'Z', 'Nature_ech','Organo', \n",
    "            'Ech_top', 'Ech_base', 'MS', 'Fract_2','Fract_2+']]\n",
    "an=df[['ID','ID_ech', 'Date_prv', 'X', 'Y', 'Z', 'Type_ech','As', 'Cd', 'Cr', 'Cr_VI', 'Cu', 'Hg', 'Pb', 'Ni', 'Zn',\n",
    "       'CN_libre', 'CN_tot', 'CN_APE', 'CN_comp', 'thioCN', 'Bnz', 'Toln',\n",
    "       'EthylBnz', 'O-Xyl', 'P-M-Xyl', 'Xyl', 'Styr', 'Phenol', 'Naphta',\n",
    "       'Acenaphtyl', 'Acenaphtn', 'Fluorene', 'Phenanthr', 'Anthrc', 'Flranth',\n",
    "       'Pyr', 'Bnz(a)anthrc', 'Chrys', 'Bnz(b)flranth', 'Bnz(k)flranth',\n",
    "       'Bnz(a)pyr', 'Dibnz(ah)anthrc', 'Bnz(ghi)peryl', 'Indeno(1,2,3-cd)pyr',\n",
    "       'HAP_tot_EPA', '1,1-DCE', '1,2-DCE', '1,1-DCEn', 'Cis-1,2-DCEn',\n",
    "       'Trans 1,2-DCEyl', 'DCM', '(cis,trans) 1,2-DCE_tot', '1,2-DCP',\n",
    "       'TetraCEyn', 'TCM', '1,1,1-TCE', '1,1,2-TCE', 'TCEyn', 'Chloroforme',\n",
    "       'CVinyl', 'Arom_C6C7', 'Arom_C7C8', 'Arom_C8C10', 'Aliphat_C5C6',\n",
    "       'Aliphat_C6C8', 'Aliphat_C8C10', 'Fract_C5C8', 'Fract_C8C10',\n",
    "       'Fract_C10C12', 'Fract_C12C16', 'Fract_C16C21', 'Fract_C21C35',\n",
    "       'HC_tot_C10C35']]"
   ]
  },
  {
   "cell_type": "code",
   "execution_count": 418,
   "id": "14168ca8",
   "metadata": {},
   "outputs": [],
   "source": [
    "an['ID'] = an['ID'].apply(lambda x: re.sub('^P', 'F', x)) "
   ]
  },
  {
   "cell_type": "code",
   "execution_count": 419,
   "id": "reflected-reduction",
   "metadata": {},
   "outputs": [
    {
     "name": "stdout",
     "output_type": "stream",
     "text": [
      "Rows : 59, columns : 74\n"
     ]
    },
    {
     "data": {
      "application/vnd.jupyter.widget-view+json": {
       "model_id": "347e454fee4b4deba1680b2092c01531",
       "version_major": 2,
       "version_minor": 0
      },
      "text/plain": [
       "interactive(children=(IntSlider(value=5, description='rows', max=59, min=5, readout=False), IntSlider(value=12…"
      ]
     },
     "metadata": {},
     "output_type": "display_data"
    }
   ],
   "source": [
    "dataframe_viewer(an, rows=5)"
   ]
  },
  {
   "cell_type": "code",
   "execution_count": 420,
   "id": "610dc1f4",
   "metadata": {},
   "outputs": [],
   "source": [
    "save_dir = tmp_dir + 'Final_merge/final_'\n",
    "if not os.path.exists(save_dir):\n",
    "    os.makedirs(save_dir)\n",
    "\n",
    "#excel_bhs.to_csv(save_dir + 'Boreholes.csv', index=False)\n",
    "#excel_bh_litho.to_csv(save_dir+'Lithologies.csv', index=False)\n",
    "#excel_bh_equip.to_csv(save_dir+'Equipments.csv', index=False)\n",
    "#excel_bh_soil_sp.to_csv(save_dir+'Soil_samples.csv', index=False)\n",
    "#excel_bh_water_sp.to_csv(save_dir+'Water_samples.csv', index=False)\n",
    "#excel_bh_soil_an.to_csv(save_dir+'Soil_analysis.csv', index=False)\n",
    "#excel_bh_water_an.to_csv(save_dir+'water_analysis.csv', index=False)\n",
    "#excel_bh_mes.to_csv(save_dir+'Measures.csv', index=False)\n",
    "#excel_bh_fac.to_csv(save_dir+'Unknow_facilities.csv', index=False)\n",
    "\n",
    "an.to_csv(save_dir+'Soil_analysis.csv', index=False)"
   ]
  },
  {
   "cell_type": "code",
   "execution_count": 421,
   "id": "horizontal-pathology",
   "metadata": {},
   "outputs": [],
   "source": [
    "source_an=source_an.append(an, ignore_index=True)\n",
    "source_pz=pz\n",
    "source_prv_sol=prv_sol"
   ]
  },
  {
   "cell_type": "code",
   "execution_count": 422,
   "id": "floating-denmark",
   "metadata": {
    "scrolled": false
   },
   "outputs": [
    {
     "name": "stdout",
     "output_type": "stream",
     "text": [
      "source_bh:0 ; source_pz:59 ; source_litho:0 ; source_Fac-uknw:0 ; source_an:104 ;\n",
      "source_prv_sol:59 ;source_prv_eau:45 ; source_mes_pz:0 ; source_mes_sol:0 ;\n"
     ]
    }
   ],
   "source": [
    "if not os.path.exists(tmp_dir):\n",
    "    os.makedirs(tmp_dir)\n",
    "\n",
    "#bh.to_csv(tmp_dir+'source_Boreholes.csv', index=False)\n",
    "pz.to_csv(tmp_dir+sheet+'_Piezometers.csv', index=False)\n",
    "#ouv.to_csv(tmp_dir+sheet+'_Unkown-facility.csv', index=False)\n",
    "#litho.to_csv(tmp_dir+sheet+'_Lithology.csv', index=False)\n",
    "#mes_pz.to_csv(tmp_dir+sheet+'_Measures.csv', index=False)\n",
    "#mes_sol.to_csv(tmp_dir+sheet+'_Measures-soil.csv', index=False)\n",
    "#prv_eau.to_csv(tmp_dir+sheet+'_Samples-water.csv', index=False)\n",
    "prv_sol.to_csv(tmp_dir+sheet+'_Samples-soil.csv', index=False)\n",
    "an.to_csv(tmp_dir+sheet+'_Analysis.csv', index=False)\n",
    "\n",
    "\n",
    "#source_bh.to_csv(tmp_dir+'source_Boreholes.csv', index=False)\n",
    "source_pz.to_csv(tmp_dir+'source_Piezometers.csv', index=False)\n",
    "#source_ouv.to_csv(tmp_dir+'source_Unkown-facility.csv', index=False)\n",
    "#source_litho.to_csv(tmp_dir+'source_Lithology.csv', index=False)\n",
    "#source_mes_pz.to_csv(tmp_dir+'source_Measures.csv', index=False)\n",
    "#source_mes_sol.to_csv(tmp_dir+'source_Measures-soil.csv', index=False)\n",
    "#source_prv_eau.to_csv(tmp_dir+'source_Samples-water.csv', index=False)\n",
    "source_prv_sol.to_csv(tmp_dir+'source_Samples-soil.csv', index=False)\n",
    "source_an.to_csv(tmp_dir+'source_Analysis.csv', index=False)\n",
    "\n",
    "\n",
    "print(f'source_bh:{len(source_bh)} ; source_pz:{len(source_pz)} ; source_litho:{len(source_litho)} ; '\n",
    "     f'source_Fac-uknw:{len(source_ouv)} ; source_an:{len(source_an)} ;\\nsource_prv_sol:{len(source_prv_sol)} ;'\n",
    "     f'source_prv_eau:{len(source_prv_eau)} ; source_mes_pz:{len(source_mes_pz)} ; source_mes_sol:{len(source_mes_sol)} ;')"
   ]
  },
  {
   "cell_type": "markdown",
   "id": "diverse-italic",
   "metadata": {},
   "source": [
    "* **Sheet : 'Synthèse'**"
   ]
  },
  {
   "cell_type": "code",
   "execution_count": 423,
   "id": "grand-token",
   "metadata": {},
   "outputs": [],
   "source": [
    "tmp_dir='../../CF_data/Result_traitem/vUmons_logsFor/'\n",
    "sheet='Synthese'"
   ]
  },
  {
   "cell_type": "code",
   "execution_count": 424,
   "id": "spoken-cycling",
   "metadata": {
    "scrolled": false
   },
   "outputs": [
    {
     "name": "stdout",
     "output_type": "stream",
     "text": [
      "3 NaN lines dropped\n",
      "\n",
      "Columns dropped :['Unnamed: 0']\n",
      "\n",
      "Rows : 33, columns : 14\n"
     ]
    },
    {
     "name": "stderr",
     "output_type": "stream",
     "text": [
      "/home/yanathan/.local/share/virtualenvs/GSDMA-DRfwm83x/lib/python3.8/site-packages/pandas/core/frame.py:4901: SettingWithCopyWarning: \n",
      "A value is trying to be set on a copy of a slice from a DataFrame\n",
      "\n",
      "See the caveats in the documentation: https://pandas.pydata.org/pandas-docs/stable/user_guide/indexing.html#returning-a-view-versus-a-copy\n",
      "  return super().drop(\n"
     ]
    },
    {
     "data": {
      "application/vnd.jupyter.widget-view+json": {
       "model_id": "ce64abae79d543878bf9ddd7c5bb0d6e",
       "version_major": 2,
       "version_minor": 0
      },
      "text/plain": [
       "interactive(children=(IntSlider(value=5, description='rows', max=33, min=5, readout=False), IntSlider(value=12…"
      ]
     },
     "metadata": {},
     "output_type": "display_data"
    }
   ],
   "source": [
    "df = pd.read_excel('../../CF_data/Data_UMONS/Logs_forages_vUmons_2018-03-20.xlsx', \n",
    "                   sheet_name='Synthèse', skiprows=1)\n",
    "df=na_line_drop(df,0)\n",
    "df=na_col_drop(df,1)\n",
    "df.replace(r'<|>','', inplace=True, regex=True)\n",
    "df.replace(r'-$',np.nan, inplace=True, regex=True)\n",
    "\n",
    "dataframe_viewer(df, rows=5)"
   ]
  },
  {
   "cell_type": "code",
   "execution_count": 425,
   "id": "martial-delta",
   "metadata": {},
   "outputs": [
    {
     "name": "stderr",
     "output_type": "stream",
     "text": [
      "/home/yanathan/.local/share/virtualenvs/GSDMA-DRfwm83x/lib/python3.8/site-packages/pandas/core/frame.py:5233: SettingWithCopyWarning: \n",
      "A value is trying to be set on a copy of a slice from a DataFrame\n",
      "\n",
      "See the caveats in the documentation: https://pandas.pydata.org/pandas-docs/stable/user_guide/indexing.html#returning-a-view-versus-a-copy\n",
      "  return super().replace(\n",
      "/home/yanathan/.local/share/virtualenvs/GSDMA-DRfwm83x/lib/python3.8/site-packages/pandas/core/frame.py:3607: SettingWithCopyWarning: \n",
      "A value is trying to be set on a copy of a slice from a DataFrame.\n",
      "Try using .loc[row_indexer,col_indexer] = value instead\n",
      "\n",
      "See the caveats in the documentation: https://pandas.pydata.org/pandas-docs/stable/user_guide/indexing.html#returning-a-view-versus-a-copy\n",
      "  self._set_item(key, value)\n"
     ]
    }
   ],
   "source": [
    "df=df[:29]\n",
    "df.replace('\\*','', inplace=True, regex=True)\n",
    "df['Refus']=df['Refus'].apply(lambda x: 'x' if not pd.isnull(x) else '')"
   ]
  },
  {
   "cell_type": "code",
   "execution_count": 426,
   "id": "mineral-bridges",
   "metadata": {},
   "outputs": [
    {
     "name": "stderr",
     "output_type": "stream",
     "text": [
      "/home/yanathan/.local/share/virtualenvs/GSDMA-DRfwm83x/lib/python3.8/site-packages/pandas/core/frame.py:5034: SettingWithCopyWarning: \n",
      "A value is trying to be set on a copy of a slice from a DataFrame\n",
      "\n",
      "See the caveats in the documentation: https://pandas.pydata.org/pandas-docs/stable/user_guide/indexing.html#returning-a-view-versus-a-copy\n",
      "  return super().rename(\n"
     ]
    }
   ],
   "source": [
    "name=['ID','X','Y','Z', 'Refus','Long_for', 'RB', 'ALL', 'S_A', 'S_S', \n",
    "      'Rb_base','All_top', 'Soc_alt_top','Soc_sn_top']\n",
    "df=col_ren(df, mode=1, name=name)"
   ]
  },
  {
   "cell_type": "code",
   "execution_count": 427,
   "id": "silver-breath",
   "metadata": {
    "scrolled": true
   },
   "outputs": [
    {
     "name": "stderr",
     "output_type": "stream",
     "text": [
      "/home/yanathan/.local/share/virtualenvs/GSDMA-DRfwm83x/lib/python3.8/site-packages/pandas/core/indexing.py:1817: SettingWithCopyWarning: \n",
      "A value is trying to be set on a copy of a slice from a DataFrame.\n",
      "Try using .loc[row_indexer,col_indexer] = value instead\n",
      "\n",
      "See the caveats in the documentation: https://pandas.pydata.org/pandas-docs/stable/user_guide/indexing.html#returning-a-view-versus-a-copy\n",
      "  self._setitem_single_column(loc, value, pi)\n",
      "/tmp/ipykernel_27886/1801994457.py:13: SettingWithCopyWarning: \n",
      "A value is trying to be set on a copy of a slice from a DataFrame\n",
      "\n",
      "See the caveats in the documentation: https://pandas.pydata.org/pandas-docs/stable/user_guide/indexing.html#returning-a-view-versus-a-copy\n",
      "  df.loc[i+.2,cols]=df.loc[i,cols]\n"
     ]
    }
   ],
   "source": [
    "cols=['ID','X','Y','Z', 'Refus','Long_for']\n",
    "\n",
    "for i in range(len(df)):\n",
    "    if not pd.isnull(df.loc[i, 'RB']): \n",
    "        df.loc[i, 'Nappe']='Remblais'\n",
    "        df.loc[i, 'Litho_top']=0\n",
    "        if not pd.isnull(df.loc[i, 'Rb_base']):\n",
    "            df.loc[i, 'Litho_base']=df.loc[i, 'Rb_base']\n",
    "        else:\n",
    "            df.loc[i, 'Litho_base']=df.loc[i, 'Long_for']\n",
    "    \n",
    "    if not pd.isnull(df.loc[i, 'ALL']):\n",
    "        df.loc[i+.2,cols]=df.loc[i,cols]\n",
    "        df.loc[i+.2, 'Nappe']='Alluvions'\n",
    "        df.loc[i+.2, 'Litho_top']=df.loc[i, 'All_top']\n",
    "        if not pd.isnull(df.loc[i, 'S_A']):\n",
    "            df.loc[i+.2, 'Litho_base']=df.loc[i, 'Soc_alt_top']\n",
    "        else:\n",
    "            df.loc[i+.2, 'Litho_base']=df.loc[i, 'Long_for']\n",
    "    \n",
    "    if not pd.isnull(df.loc[i, 'S_A']):\n",
    "        df.loc[i+.5,cols]=df.loc[i,cols]\n",
    "        df.loc[i+.5, 'Nappe']='Socle altéré'\n",
    "        df.loc[i+.5, 'Litho_top']=df.loc[i, 'Soc_alt_top']\n",
    "        if not pd.isnull(df.loc[i, 'S_S']):\n",
    "            df.loc[i+.5, 'Litho_base']=df.loc[i, 'Soc_sn_top']\n",
    "        else:\n",
    "            df.loc[i+.5, 'Litho_base']=df.loc[i, 'Long_for']\n",
    "            \n",
    "    if not pd.isnull(df.loc[i, 'S_S']):\n",
    "        df.loc[i+.7,cols]=df.loc[i,cols]\n",
    "        df.loc[i+.7, 'Nappe']='Socle sain'\n",
    "        df.loc[i+.7, 'Litho_top']=df.loc[i, 'Soc_sn_top']\n",
    "        df.loc[i+.7, 'Litho_base']=df.loc[i, 'Long_for']\n",
    "\n",
    "df.drop(columns=['RB', 'ALL', 'S_A', 'S_S', 'Rb_base','All_top', 'Soc_alt_top','Soc_sn_top'], inplace=True)\n",
    "df.sort_index(inplace=True)\n",
    "df.reset_index(drop=True, inplace=True)"
   ]
  },
  {
   "cell_type": "code",
   "execution_count": 428,
   "id": "devoted-pathology",
   "metadata": {},
   "outputs": [
    {
     "name": "stdout",
     "output_type": "stream",
     "text": [
      "Rows : 51, columns : 9\n"
     ]
    },
    {
     "data": {
      "application/vnd.jupyter.widget-view+json": {
       "model_id": "73aafbf2cf814fa6bfbe9f95d8f51465",
       "version_major": 2,
       "version_minor": 0
      },
      "text/plain": [
       "interactive(children=(IntSlider(value=5, description='rows', max=51, min=5, readout=False), IntSlider(value=9,…"
      ]
     },
     "metadata": {},
     "output_type": "display_data"
    }
   ],
   "source": [
    "dataframe_viewer(df, rows=5, cols=15)"
   ]
  },
  {
   "cell_type": "code",
   "execution_count": 429,
   "id": "specialized-pledge",
   "metadata": {
    "scrolled": true
   },
   "outputs": [
    {
     "data": {
      "text/plain": [
       "Index(['ID', 'X', 'Y', 'Z', 'Refus', 'Long_for', 'Nappe', 'Litho_top',\n",
       "       'Litho_base'],\n",
       "      dtype='object')"
      ]
     },
     "execution_count": 429,
     "metadata": {},
     "output_type": "execute_result"
    }
   ],
   "source": [
    "df.columns"
   ]
  },
  {
   "cell_type": "code",
   "execution_count": 430,
   "id": "personalized-switch",
   "metadata": {},
   "outputs": [
    {
     "name": "stderr",
     "output_type": "stream",
     "text": [
      "/home/yanathan/.local/share/virtualenvs/GSDMA-DRfwm83x/lib/python3.8/site-packages/pandas/core/frame.py:3607: SettingWithCopyWarning: \n",
      "A value is trying to be set on a copy of a slice from a DataFrame.\n",
      "Try using .loc[row_indexer,col_indexer] = value instead\n",
      "\n",
      "See the caveats in the documentation: https://pandas.pydata.org/pandas-docs/stable/user_guide/indexing.html#returning-a-view-versus-a-copy\n",
      "  self._set_item(key, value)\n"
     ]
    }
   ],
   "source": [
    "bh=df[['ID','X','Y','Z','Long_for','Refus']]\n",
    "bh['Type']='Forage'\n",
    "\n",
    "litho=df[['ID','X','Y','Z','Litho_top','Litho_base','Nappe']]\n",
    "source_litho=litho"
   ]
  },
  {
   "cell_type": "code",
   "execution_count": 431,
   "id": "accepted-vienna",
   "metadata": {
    "scrolled": true
   },
   "outputs": [
    {
     "name": "stdout",
     "output_type": "stream",
     "text": [
      "source_bh:0 ; source_pz:59 ; source_litho:51 ; source_Fac-uknw:0 ; source_an:104 ;\n",
      "source_prv_sol:59 ;source_prv_eau:45 ; source_mes_pz:0 ; source_mes_sol:0 ;\n"
     ]
    }
   ],
   "source": [
    "if not os.path.exists(tmp_dir):\n",
    "    os.makedirs(tmp_dir)\n",
    "\n",
    "bh.to_csv(tmp_dir+sheet+'source_Boreholes.csv', index=False)\n",
    "#pz.to_csv(tmp_dir+sheet+'_Piezometers.csv', index=False)\n",
    "#ouv.to_csv(tmp_dir+sheet+'_Unkown-facility.csv', index=False)\n",
    "litho.to_csv(tmp_dir+sheet+'_Lithology.csv', index=False)\n",
    "#mes_pz.to_csv(tmp_dir+sheet+'_Measures.csv', index=False)\n",
    "#mes_sol.to_csv(tmp_dir+sheet+'_Measures-soil.csv', index=False)\n",
    "#prv_eau.to_csv(tmp_dir+sheet+'_Samples-water.csv', index=False)\n",
    "#prv_sol.to_csv(tmp_dir+sheet+'_Samples-soil.csv', index=False)\n",
    "#an.to_csv(tmp_dir+sheet+'_Analysis.csv', index=False)\n",
    "\n",
    "\n",
    "#source_bh.to_csv(tmp_dir+'source_Boreholes.csv', index=False)\n",
    "#source_pz.to_csv(tmp_dir+'source_Piezometers.csv', index=False)\n",
    "#source_ouv.to_csv(tmp_dir+'source_Unkown-facility.csv', index=False)\n",
    "source_litho.to_csv(tmp_dir+'source_Lithology.csv', index=False)\n",
    "#source_mes_pz.to_csv(tmp_dir+'source_Measures.csv', index=False)\n",
    "#source_mes_sol.to_csv(tmp_dir+'source_Measures-soil.csv', index=False)\n",
    "#source_prv_eau.to_csv(tmp_dir+'source_Samples-water.csv', index=False)\n",
    "#source_prv_sol.to_csv(tmp_dir+'source_Samples-soil.csv', index=False)\n",
    "#source_an.to_csv(tmp_dir+'source_Analysis.csv', index=False)\n",
    "\n",
    "\n",
    "print(f'source_bh:{len(source_bh)} ; source_pz:{len(source_pz)} ; source_litho:{len(source_litho)} ; '\n",
    "     f'source_Fac-uknw:{len(source_ouv)} ; source_an:{len(source_an)} ;\\nsource_prv_sol:{len(source_prv_sol)} ;'\n",
    "     f'source_prv_eau:{len(source_prv_eau)} ; source_mes_pz:{len(source_mes_pz)} ; source_mes_sol:{len(source_mes_sol)} ;')"
   ]
  },
  {
   "cell_type": "markdown",
   "id": "alien-career",
   "metadata": {},
   "source": [
    "* **Sheet : 'Sond2017v2'**"
   ]
  },
  {
   "cell_type": "code",
   "execution_count": 432,
   "id": "electric-martial",
   "metadata": {},
   "outputs": [],
   "source": [
    "tmp_dir='../../CF_data/Result_traitem/vUmons_logsFor/'\n",
    "sheet='Sond2017v2'"
   ]
  },
  {
   "cell_type": "code",
   "execution_count": 433,
   "id": "decent-basis",
   "metadata": {
    "scrolled": true
   },
   "outputs": [
    {
     "name": "stdout",
     "output_type": "stream",
     "text": [
      "Rows : 71, columns : 18\n"
     ]
    },
    {
     "data": {
      "application/vnd.jupyter.widget-view+json": {
       "model_id": "3a4588fdf69848e49999e204b693c5a4",
       "version_major": 2,
       "version_minor": 0
      },
      "text/plain": [
       "interactive(children=(IntSlider(value=5, description='rows', max=71, min=5, readout=False), IntSlider(value=12…"
      ]
     },
     "metadata": {},
     "output_type": "display_data"
    }
   ],
   "source": [
    "df = pd.read_excel('../../CF_data/Data_UMONS/Logs_forages_vUmons_2018-03-20.xlsx', \n",
    "                   sheet_name='Sond2017v2', skiprows=0)\n",
    "df=na_line_drop(df,0)\n",
    "df=na_col_drop(df,1)\n",
    "df.replace(r'<|>','', inplace=True, regex=True)\n",
    "df.replace(r'-$',np.nan, inplace=True, regex=True)\n",
    "\n",
    "dataframe_viewer(df, rows=5)"
   ]
  },
  {
   "cell_type": "code",
   "execution_count": 434,
   "id": "structured-apartment",
   "metadata": {},
   "outputs": [],
   "source": [
    "df.replace('\\*','', inplace=True, regex=True)\n",
    "df['Refus']=df['Refus'].apply(lambda x: 'x' if x==1 else '')"
   ]
  },
  {
   "cell_type": "code",
   "execution_count": 435,
   "id": "random-slope",
   "metadata": {},
   "outputs": [],
   "source": [
    "name=['R_ID','ID','X','Y','Z','Refus','Date_ouv','Long_for','Z_fond','RB','ALL', 'S_A', 'S_S', \n",
    "      'Rb_base','cote_rb','All_top', 'Soc_alt_top','Soc_sn_top']\n",
    "df=col_ren(df, mode=1, name=name)\n",
    "df=df[['ID','X','Y','Z','Refus','Date_ouv','Long_for','Z_fond','RB','ALL', 'S_A', 'S_S', \n",
    "      'Rb_base','All_top', 'Soc_alt_top','Soc_sn_top']]"
   ]
  },
  {
   "cell_type": "code",
   "execution_count": 436,
   "id": "younger-practitioner",
   "metadata": {
    "scrolled": true
   },
   "outputs": [
    {
     "name": "stderr",
     "output_type": "stream",
     "text": [
      "/home/yanathan/.local/share/virtualenvs/GSDMA-DRfwm83x/lib/python3.8/site-packages/pandas/core/frame.py:3607: SettingWithCopyWarning: \n",
      "A value is trying to be set on a copy of a slice from a DataFrame.\n",
      "Try using .loc[row_indexer,col_indexer] = value instead\n",
      "\n",
      "See the caveats in the documentation: https://pandas.pydata.org/pandas-docs/stable/user_guide/indexing.html#returning-a-view-versus-a-copy\n",
      "  self._set_item(key, value)\n",
      "/home/yanathan/.local/share/virtualenvs/GSDMA-DRfwm83x/lib/python3.8/site-packages/pandas/core/indexing.py:1817: SettingWithCopyWarning: \n",
      "A value is trying to be set on a copy of a slice from a DataFrame.\n",
      "Try using .loc[row_indexer,col_indexer] = value instead\n",
      "\n",
      "See the caveats in the documentation: https://pandas.pydata.org/pandas-docs/stable/user_guide/indexing.html#returning-a-view-versus-a-copy\n",
      "  self._setitem_single_column(loc, value, pi)\n"
     ]
    }
   ],
   "source": [
    "cols=['ID','Date_ouv','X','Y','Z','Z_fond','Refus','Long_for']\n",
    "\n",
    "for i in range(len(df)):    \n",
    "    if df.loc[i, 'RB']==1: \n",
    "        df.loc[i, 'Nappe']='Remblais'\n",
    "        df.loc[i, 'Litho_top']=0\n",
    "        \n",
    "        if not pd.isnull(df.loc[i, 'Rb_base']): df.loc[i, 'Litho_base']=df.loc[i, 'Rb_base']\n",
    "        else: df.loc[i, 'Litho_base']=df.loc[i, 'Long_for']\n",
    "    \n",
    "    val_def=df.loc[i, 'Litho_base'] # temporary value of litho_base if nan\n",
    "    \n",
    "    if df.loc[i, 'ALL']==1:\n",
    "        df.loc[i+.2,cols]=df.loc[i,cols]\n",
    "        df.loc[i+.2, 'Nappe']='Alluvions'\n",
    "        \n",
    "        if not pd.isnull(df.loc[i, 'All_top']): df.loc[i+.2, 'Litho_top']=df.loc[i, 'All_top']\n",
    "        else: df.loc[i+.2, 'Litho_top']=val_def #df.loc[i, 'litho_base']\n",
    "            \n",
    "        if df.loc[i, 'S_A']==1: df.loc[i+.2, 'Litho_base']=df.loc[i, 'Soc_alt_top']\n",
    "        else: df.loc[i+.2, 'Litho_base']=df.loc[i, 'Long_for']\n",
    "    \n",
    "    if df.loc[i, 'S_A']==1:\n",
    "        df.loc[i+.5,cols]=df.loc[i,cols]\n",
    "        df.loc[i+.5, 'Nappe']='Socle altéré'\n",
    "        \n",
    "        if not pd.isnull(df.loc[i, 'Soc_alt_top']): df.loc[i+.5, 'Litho_top']=df.loc[i, 'Soc_alt_top']\n",
    "        else: df.loc[i+.5, 'Litho_top']=val_def #df.loc[i+.2, 'litho_base']\n",
    "        \n",
    "        if df.loc[i, 'S_S']==1: df.loc[i+.5, 'Litho_base']=df.loc[i, 'Soc_sn_top']\n",
    "        else: df.loc[i+.5, 'Litho_base']=df.loc[i, 'Long_for']\n",
    "            \n",
    "    if df.loc[i, 'S_S']==1:\n",
    "        df.loc[i+.7,cols]=df.loc[i,cols]\n",
    "        df.loc[i+.7, 'Nappe']='Socle sain'\n",
    "        df.loc[i+.7, 'Litho_top']=df.loc[i, 'Soc_sn_top']\n",
    "        df.loc[i+.7, 'Litho_base']=df.loc[i, 'Long_for']\n",
    "\n",
    "df.drop(columns=['RB', 'ALL', 'S_A', 'S_S','Rb_base','All_top', 'Soc_alt_top','Soc_sn_top'], inplace=True)\n",
    "df.sort_index(inplace=True)\n",
    "df.reset_index(drop=True, inplace=True)"
   ]
  },
  {
   "cell_type": "code",
   "execution_count": 437,
   "id": "smaller-extension",
   "metadata": {},
   "outputs": [],
   "source": [
    "df=df[:-1]"
   ]
  },
  {
   "cell_type": "code",
   "execution_count": 438,
   "id": "pediatric-dylan",
   "metadata": {
    "scrolled": true
   },
   "outputs": [
    {
     "name": "stdout",
     "output_type": "stream",
     "text": [
      "Rows : 109, columns : 11\n"
     ]
    },
    {
     "data": {
      "application/vnd.jupyter.widget-view+json": {
       "model_id": "be0b3a33f148485a8ea38aae8ee995e7",
       "version_major": 2,
       "version_minor": 0
      },
      "text/plain": [
       "interactive(children=(IntSlider(value=5, description='rows', max=109, min=5, readout=False), IntSlider(value=1…"
      ]
     },
     "metadata": {},
     "output_type": "display_data"
    }
   ],
   "source": [
    "dataframe_viewer(df, rows=5, cols=15)"
   ]
  },
  {
   "cell_type": "code",
   "execution_count": 439,
   "id": "innocent-serum",
   "metadata": {
    "scrolled": true
   },
   "outputs": [
    {
     "name": "stderr",
     "output_type": "stream",
     "text": [
      "/home/yanathan/.local/share/virtualenvs/GSDMA-DRfwm83x/lib/python3.8/site-packages/pandas/core/frame.py:3607: SettingWithCopyWarning: \n",
      "A value is trying to be set on a copy of a slice from a DataFrame.\n",
      "Try using .loc[row_indexer,col_indexer] = value instead\n",
      "\n",
      "See the caveats in the documentation: https://pandas.pydata.org/pandas-docs/stable/user_guide/indexing.html#returning-a-view-versus-a-copy\n",
      "  self._set_item(key, value)\n"
     ]
    }
   ],
   "source": [
    "bh=df[['ID','X','Y','Z','Z_fond','Date_ouv','Long_for','Refus']]\n",
    "bh['Type']='Forage'\n",
    "\n",
    "litho=df[['ID','X','Y','Z','Litho_top','Litho_base','Nappe']]\n",
    "source_litho = source_litho.merge(df, 'outer')"
   ]
  },
  {
   "cell_type": "code",
   "execution_count": 440,
   "id": "mighty-steel",
   "metadata": {
    "scrolled": true
   },
   "outputs": [
    {
     "name": "stdout",
     "output_type": "stream",
     "text": [
      "source_bh:0 ; source_pz:59 ; source_litho:119 ; source_Fac-uknw:0 ; source_an:104 ;\n",
      "source_prv_sol:59 ;source_prv_eau:45 ; source_mes_pz:0 ; source_mes_sol:0 ;\n"
     ]
    }
   ],
   "source": [
    "if not os.path.exists(tmp_dir):\n",
    "    os.makedirs(tmp_dir)\n",
    "\n",
    "bh.to_csv(tmp_dir+sheet+'source_Boreholes.csv', index=False)\n",
    "#pz.to_csv(tmp_dir+sheet+'_Piezometers.csv', index=False)\n",
    "#ouv.to_csv(tmp_dir+sheet+'_Unkown-facility.csv', index=False)\n",
    "litho.to_csv(tmp_dir+sheet+'_Lithology.csv', index=False)\n",
    "#mes_pz.to_csv(tmp_dir+sheet+'_Measures.csv', index=False)\n",
    "#mes_sol.to_csv(tmp_dir+sheet+'_Measures-soil.csv', index=False)\n",
    "#prv_eau.to_csv(tmp_dir+sheet+'_Samples-water.csv', index=False)\n",
    "#prv_sol.to_csv(tmp_dir+sheet+'_Samples-soil.csv', index=False)\n",
    "#an.to_csv(tmp_dir+sheet+'_Analysis.csv', index=False)\n",
    "\n",
    "\n",
    "#source_bh.to_csv(tmp_dir+'source_Boreholes.csv', index=False)\n",
    "#source_pz.to_csv(tmp_dir+'source_Piezometers.csv', index=False)\n",
    "#source_ouv.to_csv(tmp_dir+'source_Unkown-facility.csv', index=False)\n",
    "source_litho.to_csv(tmp_dir+'source_Lithology.csv', index=False)\n",
    "#source_mes_pz.to_csv(tmp_dir+'source_Measures.csv', index=False)\n",
    "#source_mes_sol.to_csv(tmp_dir+'source_Measures-soil.csv', index=False)\n",
    "#source_prv_eau.to_csv(tmp_dir+'source_Samples-water.csv', index=False)\n",
    "#source_prv_sol.to_csv(tmp_dir+'source_Samples-soil.csv', index=False)\n",
    "#source_an.to_csv(tmp_dir+'source_Analysis.csv', index=False)\n",
    "\n",
    "\n",
    "print(f'source_bh:{len(source_bh)} ; source_pz:{len(source_pz)} ; source_litho:{len(source_litho)} ; '\n",
    "     f'source_Fac-uknw:{len(source_ouv)} ; source_an:{len(source_an)} ;\\nsource_prv_sol:{len(source_prv_sol)} ;'\n",
    "     f'source_prv_eau:{len(source_prv_eau)} ; source_mes_pz:{len(source_mes_pz)} ; source_mes_sol:{len(source_mes_sol)} ;')"
   ]
  },
  {
   "cell_type": "markdown",
   "id": "excessive-convert",
   "metadata": {},
   "source": [
    "# Processing for new data added - April 2021"
   ]
  },
  {
   "cell_type": "markdown",
   "id": "framed-assignment",
   "metadata": {},
   "source": [
    "## 15-Profils de sol et données de terrain 2019.xlsx\n",
    "* **Sheet : 'Log'**"
   ]
  },
  {
   "cell_type": "code",
   "execution_count": 441,
   "id": "heated-nightmare",
   "metadata": {},
   "outputs": [],
   "source": [
    "# New file, so the source variables must be overwritten !!\n",
    "_df=pd.DataFrame()\n",
    "source_mes_pz, source_mes_sol, source_pz, source_prv_eau, source_prv_sol =  _df, _df, _df, _df, _df\n",
    "source_ouv, source_an, source_litho, source_bh = _df, _df, _df, _df"
   ]
  },
  {
   "cell_type": "code",
   "execution_count": 442,
   "id": "bizarre-fundamental",
   "metadata": {},
   "outputs": [],
   "source": [
    "tmp_dir='../../CF_data/Result_traitem/donnees_terrain_2019/'\n",
    "sheet='Log'"
   ]
  },
  {
   "cell_type": "code",
   "execution_count": 443,
   "id": "compound-cricket",
   "metadata": {
    "scrolled": false
   },
   "outputs": [
    {
     "name": "stdout",
     "output_type": "stream",
     "text": [
      "\n",
      "Columns dropped :['Unnamed: 5']\n",
      "\n",
      "Rows : 98, columns : 5\n"
     ]
    },
    {
     "data": {
      "application/vnd.jupyter.widget-view+json": {
       "model_id": "1a217c20a0374df98da6a460d2ef603c",
       "version_major": 2,
       "version_minor": 0
      },
      "text/plain": [
       "interactive(children=(IntSlider(value=5, description='rows', max=98, min=5, readout=False), IntSlider(value=5,…"
      ]
     },
     "metadata": {},
     "output_type": "display_data"
    }
   ],
   "source": [
    "df = pd.read_excel('../../CF_data/Data_UMONS/Profils_de_sol_Siterem- extension_pilote_et_pilote/'\n",
    "                   'Profils de sol et donnees de terrain 2019.xlsx', \n",
    "                   sheet_name='Log', skiprows=0)\n",
    "df=na_line_drop(df,0)\n",
    "df=na_col_drop(df,2)\n",
    "df.replace(r'<|>','', inplace=True, regex=True)\n",
    "df.replace(r'-$',np.nan, inplace=True, regex=True)\n",
    "\n",
    "dataframe_viewer(df, rows=5)"
   ]
  },
  {
   "cell_type": "code",
   "execution_count": 444,
   "id": "rapid-concert",
   "metadata": {},
   "outputs": [
    {
     "name": "stderr",
     "output_type": "stream",
     "text": [
      "/home/yanathan/.local/share/virtualenvs/GSDMA-DRfwm83x/lib/python3.8/site-packages/pandas/core/frame.py:3607: SettingWithCopyWarning: \n",
      "A value is trying to be set on a copy of a slice from a DataFrame.\n",
      "Try using .loc[row_indexer,col_indexer] = value instead\n",
      "\n",
      "See the caveats in the documentation: https://pandas.pydata.org/pandas-docs/stable/user_guide/indexing.html#returning-a-view-versus-a-copy\n",
      "  self._set_item(key, value)\n"
     ]
    }
   ],
   "source": [
    "name = ['ID','Litho_top', 'Litho_base', 'Keyword', 'Description']\n",
    "df = col_ren(df, name=name, mode=1, )\n",
    "df = df[1:]\n",
    "df['Date_ouv'] = dtm.datetime(2019,12,18)"
   ]
  },
  {
   "cell_type": "raw",
   "id": "580fd76b",
   "metadata": {},
   "source": [
    "df['ID'] = df['ID'].apply(lambda x: 'F'+str(x))"
   ]
  },
  {
   "cell_type": "code",
   "execution_count": 445,
   "id": "popular-nursing",
   "metadata": {},
   "outputs": [
    {
     "name": "stderr",
     "output_type": "stream",
     "text": [
      "/home/yanathan/.local/share/virtualenvs/GSDMA-DRfwm83x/lib/python3.8/site-packages/pandas/core/frame.py:4901: SettingWithCopyWarning: \n",
      "A value is trying to be set on a copy of a slice from a DataFrame\n",
      "\n",
      "See the caveats in the documentation: https://pandas.pydata.org/pandas-docs/stable/user_guide/indexing.html#returning-a-view-versus-a-copy\n",
      "  return super().drop(\n"
     ]
    }
   ],
   "source": [
    "df.drop(index=df.query('Litho_base.isnull() or Litho_top.isnull()').index, inplace=True)"
   ]
  },
  {
   "cell_type": "code",
   "execution_count": 446,
   "id": "international-butterfly",
   "metadata": {
    "scrolled": true
   },
   "outputs": [
    {
     "name": "stderr",
     "output_type": "stream",
     "text": [
      "/home/yanathan/.local/share/virtualenvs/GSDMA-DRfwm83x/lib/python3.8/site-packages/pandas/core/indexing.py:1817: SettingWithCopyWarning: \n",
      "A value is trying to be set on a copy of a slice from a DataFrame.\n",
      "Try using .loc[row_indexer,col_indexer] = value instead\n",
      "\n",
      "See the caveats in the documentation: https://pandas.pydata.org/pandas-docs/stable/user_guide/indexing.html#returning-a-view-versus-a-copy\n",
      "  self._setitem_single_column(loc, value, pi)\n"
     ]
    }
   ],
   "source": [
    "compute_BH_length(df)"
   ]
  },
  {
   "cell_type": "code",
   "execution_count": 447,
   "id": "proper-ribbon",
   "metadata": {},
   "outputs": [
    {
     "data": {
      "text/html": [
       "<div>\n",
       "<style scoped>\n",
       "    .dataframe tbody tr th:only-of-type {\n",
       "        vertical-align: middle;\n",
       "    }\n",
       "\n",
       "    .dataframe tbody tr th {\n",
       "        vertical-align: top;\n",
       "    }\n",
       "\n",
       "    .dataframe thead th {\n",
       "        text-align: right;\n",
       "    }\n",
       "</style>\n",
       "<table border=\"1\" class=\"dataframe\">\n",
       "  <thead>\n",
       "    <tr style=\"text-align: right;\">\n",
       "      <th></th>\n",
       "      <th>ID</th>\n",
       "      <th>Profondeur</th>\n",
       "      <th>Litho_top</th>\n",
       "      <th>Litho_base</th>\n",
       "      <th>Keyword</th>\n",
       "      <th>Description</th>\n",
       "      <th>Date_ouv</th>\n",
       "    </tr>\n",
       "  </thead>\n",
       "  <tbody>\n",
       "  </tbody>\n",
       "</table>\n",
       "</div>"
      ],
      "text/plain": [
       "Empty DataFrame\n",
       "Columns: [ID, Profondeur, Litho_top, Litho_base, Keyword, Description, Date_ouv]\n",
       "Index: []"
      ]
     },
     "execution_count": 447,
     "metadata": {},
     "output_type": "execute_result"
    }
   ],
   "source": [
    "df.query('Litho_base.isnull() or Litho_top.isnull()')"
   ]
  },
  {
   "cell_type": "code",
   "execution_count": 448,
   "id": "amber-likelihood",
   "metadata": {
    "scrolled": true
   },
   "outputs": [
    {
     "name": "stdout",
     "output_type": "stream",
     "text": [
      "Rows : 93, columns : 7\n"
     ]
    },
    {
     "data": {
      "application/vnd.jupyter.widget-view+json": {
       "model_id": "294c986563344f23870aeb5f65d3493a",
       "version_major": 2,
       "version_minor": 0
      },
      "text/plain": [
       "interactive(children=(IntSlider(value=5, description='rows', max=93, min=5, readout=False), IntSlider(value=7,…"
      ]
     },
     "metadata": {},
     "output_type": "display_data"
    }
   ],
   "source": [
    "dataframe_viewer(df, rows=5, cols=15)"
   ]
  },
  {
   "cell_type": "code",
   "execution_count": 449,
   "id": "solved-latitude",
   "metadata": {},
   "outputs": [],
   "source": [
    "bh = df[1:62]\n",
    "pza = df[65:80] #piezair\n",
    "pz = df[83:]"
   ]
  },
  {
   "cell_type": "code",
   "execution_count": 450,
   "id": "interpreted-fiber",
   "metadata": {},
   "outputs": [],
   "source": [
    "bh.reset_index(drop=True, inplace=True)\n",
    "pza.reset_index(drop=True, inplace=True)\n",
    "pz.reset_index(drop=True, inplace=True)"
   ]
  },
  {
   "cell_type": "code",
   "execution_count": 451,
   "id": "separate-father",
   "metadata": {},
   "outputs": [],
   "source": [
    "bh.insert(1,'Type', 'Forage')\n",
    "bh.insert(1,'Zone', 'Extension Pilote')\n",
    "pza.insert(1,'Type', 'Piezair')\n",
    "pza.insert(1,'Zone', 'Extension Pilote')\n",
    "pz.insert(1,'Type', 'Piezo')\n",
    "pz.insert(1,'Zone', 'Mini-Pilote')"
   ]
  },
  {
   "cell_type": "code",
   "execution_count": 452,
   "id": "standard-clinton",
   "metadata": {
    "scrolled": true
   },
   "outputs": [],
   "source": [
    "litho=bh.append(pza)\n",
    "litho=litho.append(pz)\n",
    "litho=litho[['ID','Type','Zone','Litho_top','Litho_base','Description','Keyword']]\n",
    "litho.reset_index(inplace=True, drop=True)"
   ]
  },
  {
   "cell_type": "code",
   "execution_count": 453,
   "id": "e9b53d7d",
   "metadata": {},
   "outputs": [],
   "source": [
    "litho.loc[litho[litho['ID']==50].index, 'Type'] = 'Piezo'"
   ]
  },
  {
   "cell_type": "code",
   "execution_count": 454,
   "id": "empty-creek",
   "metadata": {
    "scrolled": true
   },
   "outputs": [
    {
     "name": "stdout",
     "output_type": "stream",
     "text": [
      "Rows : 86, columns : 7\n"
     ]
    },
    {
     "data": {
      "application/vnd.jupyter.widget-view+json": {
       "model_id": "a4c2beaa11984e89ad9a47bf2e4148db",
       "version_major": 2,
       "version_minor": 0
      },
      "text/plain": [
       "interactive(children=(IntSlider(value=3, description='rows', max=86, min=3, readout=False), IntSlider(value=7,…"
      ]
     },
     "metadata": {},
     "output_type": "display_data"
    }
   ],
   "source": [
    "dataframe_viewer(litho, rows=3)"
   ]
  },
  {
   "cell_type": "code",
   "execution_count": 455,
   "id": "healthy-pontiac",
   "metadata": {},
   "outputs": [],
   "source": [
    "source_litho=litho"
   ]
  },
  {
   "cell_type": "code",
   "execution_count": 456,
   "id": "recognized-entity",
   "metadata": {
    "scrolled": true
   },
   "outputs": [
    {
     "name": "stdout",
     "output_type": "stream",
     "text": [
      "source_bh:0 ; source_pz:0 ; source_litho:86 ; source_Fac-uknw:0 ; source_an:0 ;\n",
      "source_prv_sol:0 ;source_prv_eau:0 ; source_mes_pz:0 ; source_mes_sol:0 ;\n"
     ]
    }
   ],
   "source": [
    "if not os.path.exists(tmp_dir):\n",
    "    os.makedirs(tmp_dir)\n",
    "\n",
    "#bh.to_csv(tmp_dir+sheet+'_Boreholes.csv', index=False)\n",
    "#pz.to_csv(tmp_dir+sheet+'_Piezometers.csv', index=False)\n",
    "#pza.to_csv(tmp_dir+sheet+'_Piezairs.csv', index=False)\n",
    "#ouv.to_csv(tmp_dir+sheet+'_Unkown-facility.csv', index=False)\n",
    "litho.to_csv(tmp_dir+sheet+'_Lithology.csv', index=False)\n",
    "#mes_pz.to_csv(tmp_dir+sheet+'_Measures.csv', index=False)\n",
    "#mes_sol.to_csv(tmp_dir+sheet+'_Measures-soil.csv', index=False)\n",
    "#prv_eau.to_csv(tmp_dir+sheet+'_Samples-water.csv', index=False)\n",
    "#prv_sol.to_csv(tmp_dir+sheet+'_Samples-soil.csv', index=False)\n",
    "#an.to_csv(tmp_dir+sheet+'_Analysis.csv', index=False)\n",
    "\n",
    "\n",
    "#source_bh.to_csv(tmp_dir+'source_Boreholes.csv', index=False)\n",
    "#source_pz.to_csv(tmp_dir+'source_Piezometers.csv', index=False)\n",
    "#source_ouv.to_csv(tmp_dir+'source_Unkown-facility.csv', index=False)\n",
    "source_litho.to_csv(tmp_dir+'source_Lithology.csv', index=False)\n",
    "#source_mes_pz.to_csv(tmp_dir+'source_Measures.csv', index=False)\n",
    "#source_mes_sol.to_csv(tmp_dir+'source_Measures-soil.csv', index=False)\n",
    "#source_prv_eau.to_csv(tmp_dir+'source_Samples-water.csv', index=False)\n",
    "#source_prv_sol.to_csv(tmp_dir+'source_Samples-soil.csv', index=False)\n",
    "#source_an.to_csv(tmp_dir+'source_Analysis.csv', index=False)\n",
    "\n",
    "\n",
    "print(f'source_bh:{len(source_bh)} ; source_pz:{len(source_pz)} ; source_litho:{len(source_litho)} ; '\n",
    "     f'source_Fac-uknw:{len(source_ouv)} ; source_an:{len(source_an)} ;\\nsource_prv_sol:{len(source_prv_sol)} ;'\n",
    "     f'source_prv_eau:{len(source_prv_eau)} ; source_mes_pz:{len(source_mes_pz)} ; source_mes_sol:{len(source_mes_sol)} ;')"
   ]
  },
  {
   "cell_type": "markdown",
   "id": "northern-accessory",
   "metadata": {},
   "source": [
    "* **Sheet : 'Echantillon'+'Organoleptique**"
   ]
  },
  {
   "cell_type": "code",
   "execution_count": 457,
   "id": "union-lease",
   "metadata": {},
   "outputs": [],
   "source": [
    "tmp_dir='../../CF_data/Result_traitem/donnees_terrain_2019/'\n",
    "sheet='Echantillon'"
   ]
  },
  {
   "cell_type": "code",
   "execution_count": 458,
   "id": "increased-munich",
   "metadata": {
    "scrolled": false
   },
   "outputs": [
    {
     "name": "stderr",
     "output_type": "stream",
     "text": [
      "/home/yanathan/.local/share/virtualenvs/GSDMA-DRfwm83x/lib/python3.8/site-packages/pandas/core/frame.py:4901: SettingWithCopyWarning: \n",
      "A value is trying to be set on a copy of a slice from a DataFrame\n",
      "\n",
      "See the caveats in the documentation: https://pandas.pydata.org/pandas-docs/stable/user_guide/indexing.html#returning-a-view-versus-a-copy\n",
      "  return super().drop(\n"
     ]
    },
    {
     "name": "stdout",
     "output_type": "stream",
     "text": [
      "16 NaN lines dropped\n",
      "\n",
      "Columns dropped :['Unnamed: 4']\n",
      "\n",
      "Rows : 67, columns : 4\n"
     ]
    },
    {
     "data": {
      "application/vnd.jupyter.widget-view+json": {
       "model_id": "9b14b114bf1641e09defddf569a6c136",
       "version_major": 2,
       "version_minor": 0
      },
      "text/plain": [
       "interactive(children=(IntSlider(value=5, description='rows', max=67, min=5, readout=False), IntSlider(value=4,…"
      ]
     },
     "metadata": {},
     "output_type": "display_data"
    }
   ],
   "source": [
    "df = pd.read_excel('../../CF_data/Data_UMONS/Profils_de_sol_Siterem- extension_pilote_et_pilote/'\n",
    "                   'Profils de sol et donnees de terrain 2019.xlsx', \n",
    "                   sheet_name='Echantillon', skiprows=1)\n",
    "df=na_line_drop(df,0)\n",
    "df=na_col_drop(df,2)\n",
    "df.replace(r'<|>','', inplace=True, regex=True)\n",
    "df.replace(r'-$',np.nan, inplace=True, regex=True)\n",
    "\n",
    "dataframe_viewer(df, rows=5)"
   ]
  },
  {
   "cell_type": "code",
   "execution_count": 459,
   "id": "cordless-scheme",
   "metadata": {},
   "outputs": [],
   "source": [
    "name=['ID','Ech_top', 'Ech_base', 'ID_ech']\n",
    "df=col_ren(df, name=name, mode=1)\n",
    "df.insert(1,'Type_ech','Sol')"
   ]
  },
  {
   "cell_type": "code",
   "execution_count": 460,
   "id": "equivalent-roots",
   "metadata": {},
   "outputs": [],
   "source": [
    "df.drop(index=[43,44,55,56,66], inplace=True)\n",
    "df.reset_index(drop=True, inplace=True)"
   ]
  },
  {
   "cell_type": "code",
   "execution_count": 461,
   "id": "annual-organization",
   "metadata": {},
   "outputs": [],
   "source": [
    "ech=df.copy()"
   ]
  },
  {
   "cell_type": "code",
   "execution_count": 462,
   "id": "accepted-marketing",
   "metadata": {
    "scrolled": false
   },
   "outputs": [
    {
     "name": "stdout",
     "output_type": "stream",
     "text": [
      "\n",
      "Columns dropped :['Unnamed: 5', 'Unnamed: 6', 'Unnamed: 7']\n",
      "\n",
      "Rows : 20, columns : 5\n"
     ]
    },
    {
     "data": {
      "application/vnd.jupyter.widget-view+json": {
       "model_id": "88320025cec34daeacbd48626e984d06",
       "version_major": 2,
       "version_minor": 0
      },
      "text/plain": [
       "interactive(children=(IntSlider(value=5, description='rows', max=20, min=5, readout=False), IntSlider(value=5,…"
      ]
     },
     "metadata": {},
     "output_type": "display_data"
    }
   ],
   "source": [
    "df = pd.read_excel('../../CF_data/Data_UMONS/Profils_de_sol_Siterem- extension_pilote_et_pilote/'\n",
    "                   'Profils de sol et donnees de terrain 2019.xlsx', \n",
    "                   sheet_name='Organoleptique', skiprows=1)\n",
    "df=na_line_drop(df,0)\n",
    "df=na_col_drop(df,4)\n",
    "df.replace(r'<|>','', inplace=True, regex=True)\n",
    "df.replace(r'-$',np.nan, inplace=True, regex=True)\n",
    "\n",
    "dataframe_viewer(df, rows=5)"
   ]
  },
  {
   "cell_type": "code",
   "execution_count": 463,
   "id": "ahead-lunch",
   "metadata": {},
   "outputs": [],
   "source": [
    "name=['ID','Pol_top', 'Pol_base','Polluant','Intensite']\n",
    "df=col_ren(df, name=name, mode=1)"
   ]
  },
  {
   "cell_type": "code",
   "execution_count": 464,
   "id": "occupational-sugar",
   "metadata": {},
   "outputs": [],
   "source": [
    "df.drop(index=[10,11,14,15], inplace=True)\n",
    "df.reset_index(drop=True, inplace=True)"
   ]
  },
  {
   "cell_type": "code",
   "execution_count": 465,
   "id": "worse-colombia",
   "metadata": {},
   "outputs": [],
   "source": [
    "mdf, error_df =data_merger(ech, df, on='ID', how='outer')"
   ]
  },
  {
   "cell_type": "code",
   "execution_count": 466,
   "id": "twelve-cylinder",
   "metadata": {},
   "outputs": [
    {
     "name": "stdout",
     "output_type": "stream",
     "text": [
      "Rows : 70, columns : 9\n"
     ]
    },
    {
     "data": {
      "application/vnd.jupyter.widget-view+json": {
       "model_id": "e79025cd8eff4b348082fb775e55ba4d",
       "version_major": 2,
       "version_minor": 0
      },
      "text/plain": [
       "interactive(children=(IntSlider(value=10, description='rows', max=70, min=10, readout=False), IntSlider(value=…"
      ]
     },
     "metadata": {},
     "output_type": "display_data"
    }
   ],
   "source": [
    "dataframe_viewer(mdf)"
   ]
  },
  {
   "cell_type": "code",
   "execution_count": 467,
   "id": "limited-prerequisite",
   "metadata": {},
   "outputs": [],
   "source": [
    "prv_sol=mdf\n",
    "source_prv_sol=prv_sol"
   ]
  },
  {
   "cell_type": "code",
   "execution_count": 468,
   "id": "organic-jason",
   "metadata": {
    "scrolled": true
   },
   "outputs": [
    {
     "name": "stdout",
     "output_type": "stream",
     "text": [
      "source_bh:0 ; source_pz:0 ; source_litho:86 ; source_Fac-uknw:0 ; source_an:0 ;\n",
      "source_prv_sol:70 ;source_prv_eau:0 ; source_mes_pz:0 ; source_mes_sol:0 ;\n"
     ]
    }
   ],
   "source": [
    "if not os.path.exists(tmp_dir):\n",
    "    os.makedirs(tmp_dir)\n",
    "\n",
    "#bh.to_csv(tmp_dir+'source_Boreholes.csv', index=False)\n",
    "#pz.to_csv(tmp_dir+sheet+'_Piezometers.csv', index=False)\n",
    "#ouv.to_csv(tmp_dir+sheet+'_Unkown-facility.csv', index=False)\n",
    "#litho.to_csv(tmp_dir+sheet+'_Lithology.csv', index=False)\n",
    "#mes_pz.to_csv(tmp_dir+sheet+'_Measures.csv', index=False)\n",
    "#mes_sol.to_csv(tmp_dir+sheet+'_Measures-soil.csv', index=False)\n",
    "#prv_eau.to_csv(tmp_dir+sheet+'_Samples-water.csv', index=False)\n",
    "prv_sol.to_csv(tmp_dir+sheet+'_Samples-soil.csv', index=False)\n",
    "#an.to_csv(tmp_dir+sheet+'_Analysis.csv', index=False)\n",
    "\n",
    "\n",
    "#source_bh.to_csv(tmp_dir+'source_Boreholes.csv', index=False)\n",
    "#source_pz.to_csv(tmp_dir+'source_Piezometers.csv', index=False)\n",
    "#source_ouv.to_csv(tmp_dir+'source_Unkown-facility.csv', index=False)\n",
    "#source_litho.to_csv(tmp_dir+'source_Lithology.csv', index=False)\n",
    "#source_mes_pz.to_csv(tmp_dir+'source_Measures.csv', index=False)\n",
    "#source_mes_sol.to_csv(tmp_dir+'source_Measures-soil.csv', index=False)\n",
    "#source_prv_eau.to_csv(tmp_dir+'source_Samples-water.csv', index=False)\n",
    "source_prv_sol.to_csv(tmp_dir+'source_Samples-soil.csv', index=False)\n",
    "#source_an.to_csv(tmp_dir+'source_Analysis.csv', index=False)\n",
    "\n",
    "\n",
    "print(f'source_bh:{len(source_bh)} ; source_pz:{len(source_pz)} ; source_litho:{len(source_litho)} ; '\n",
    "     f'source_Fac-uknw:{len(source_ouv)} ; source_an:{len(source_an)} ;\\nsource_prv_sol:{len(source_prv_sol)} ;'\n",
    "     f'source_prv_eau:{len(source_prv_eau)} ; source_mes_pz:{len(source_mes_pz)} ; source_mes_sol:{len(source_mes_sol)} ;')"
   ]
  },
  {
   "cell_type": "markdown",
   "id": "tropical-duplicate",
   "metadata": {},
   "source": [
    "* **Sheet : 'Données de forage'**"
   ]
  },
  {
   "cell_type": "code",
   "execution_count": 469,
   "id": "naughty-ending",
   "metadata": {},
   "outputs": [],
   "source": [
    "tmp_dir='../../CF_data/Result_traitem/donnees_terrain_2019/'\n",
    "sheet='Donnees_forage'"
   ]
  },
  {
   "cell_type": "code",
   "execution_count": 470,
   "id": "baking-duration",
   "metadata": {
    "scrolled": false
   },
   "outputs": [
    {
     "name": "stdout",
     "output_type": "stream",
     "text": [
      "\n",
      "Columns dropped :['RAS', 'RAS.1', 'Niv. Eau p/r sol', 'RAS.2', 'Unnamed: 18', 'PZ Prof.\\nmesurée']\n",
      "\n",
      "Rows : 27, columns : 14\n"
     ]
    },
    {
     "data": {
      "application/vnd.jupyter.widget-view+json": {
       "model_id": "d71bc3188335470ca4846b54a4d50e8d",
       "version_major": 2,
       "version_minor": 0
      },
      "text/plain": [
       "interactive(children=(IntSlider(value=5, description='rows', max=27, min=5, readout=False), IntSlider(value=12…"
      ]
     },
     "metadata": {},
     "output_type": "display_data"
    }
   ],
   "source": [
    "df = pd.read_excel('../../CF_data/Data_UMONS/Profils_de_sol_Siterem- extension_pilote_et_pilote/'\n",
    "                   'Profils de sol et donnees de terrain 2019.xlsx', \n",
    "                   sheet_name='Données de forage', skiprows=1)\n",
    "df=na_line_drop(df,0)\n",
    "df=na_col_drop(df,2)\n",
    "df.replace(r'<|>','', inplace=True, regex=True)\n",
    "df.replace(r'-$',np.nan, inplace=True, regex=True)\n",
    "\n",
    "dataframe_viewer(df, rows=5)"
   ]
  },
  {
   "cell_type": "code",
   "execution_count": 471,
   "id": "finnish-housing",
   "metadata": {},
   "outputs": [],
   "source": [
    "name=['ID', 'X', 'Y', 'Z', 'Date_ouv', 'Long_for', 'Methode', 'Diam_for','Rmq', 'Long_pz', 'Diam_pz', \n",
    "      'Crep_long','Societe', 'Resp_chantier']\n",
    "df=col_ren(df, name=name, mode=1)\n",
    "df.drop(index=[16,23], inplace=True)\n",
    "df.reset_index(drop=True, inplace=True)"
   ]
  },
  {
   "cell_type": "code",
   "execution_count": 472,
   "id": "phantom-chick",
   "metadata": {},
   "outputs": [],
   "source": [
    "df.insert(5, 'Type', '')\n",
    "df.loc[:15,'Type']='Forage'\n",
    "df.loc[16:21,'Type']='Piezair'\n",
    "df.loc[22:,'Type']='Piezo'"
   ]
  },
  {
   "cell_type": "code",
   "execution_count": 473,
   "id": "numeric-remainder",
   "metadata": {},
   "outputs": [],
   "source": [
    "df.loc[9,'ID']='224 bis'"
   ]
  },
  {
   "cell_type": "code",
   "execution_count": 474,
   "id": "fleet-litigation",
   "metadata": {},
   "outputs": [
    {
     "name": "stdout",
     "output_type": "stream",
     "text": [
      "Generation of ID-dated...\n",
      "Using column ' Date_ouv ' in the (geo)dataframe !\n",
      "Process ended, check the (geo)dataframe\n"
     ]
    }
   ],
   "source": [
    "df['Refus'] = ''\n",
    "df['Type_refus']=''\n",
    "\n",
    "for i in range(len(df['Rmq'])):\n",
    "    val = str(df.loc[i,'Rmq'])\n",
    "    if re.search('[Bb]loqué', val) :\n",
    "        df.loc[i,'Refus'] = 'x'\n",
    "        \n",
    "        if re.search('[lL]aitier', val):\n",
    "            df.loc[i,'Type_refus'] = 'Laitier'\n",
    "        elif re.search('[Bb]éton', val):\n",
    "            df.loc[i,'Type_refus'] = 'Béton'\n",
    "        elif re.search('[Mm]atériaux', val):\n",
    "            df.loc[i,'Type_refus'] = 'Matériaux indurés' \n",
    "    else: \n",
    "        df.loc[i,'Refus'] = '' \n",
    "\n",
    "df['Diam_int_pz'] = df['Diam_pz'].apply(lambda x: pd.to_numeric(x.replace('mm','').split('x')[1]) if not pd.isnull(x) else x)\n",
    "df['Diam_ext_pz'] = df['Diam_pz'].apply(lambda x: pd.to_numeric(x.replace('mm','').split('x')[0]) if not pd.isnull(x) else x)\n",
    "df['Diam_for'] = df['Diam_for'].apply(lambda x: pd.to_numeric(x) if not pd.isnull(x) else x)\n",
    "\n",
    "df.insert(10, 'Diam_ext_pz', df.pop('Diam_ext_pz')) # move to a specified position\n",
    "df.insert(11, 'Diam_int_pz', df.pop('Diam_int_pz'))\n",
    "df.drop(columns=['Rmq', 'Diam_pz'], axis=1, inplace=True)\n",
    "df.drop(df.query(\"ID!=ID\").index, inplace=True) # delete all ID='NaN' lines\n",
    "df.reset_index(drop=True, inplace=True)\n",
    "\n",
    "gen_id_dated(df,'ID','Date_ouv')  "
   ]
  },
  {
   "cell_type": "code",
   "execution_count": 475,
   "id": "positive-shopper",
   "metadata": {},
   "outputs": [],
   "source": [
    "pz = df.query(\"Type=='Piezo'\")\n",
    "pza=df.query(\"Type=='Piezair'\")\n",
    "bh = df.query(\"Type=='Forage'\")\n",
    "\n",
    "pz.reset_index(inplace=True, drop=True)\n",
    "pza.reset_index(inplace=True, drop=True)\n",
    "bh.reset_index(inplace=True, drop=True)"
   ]
  },
  {
   "cell_type": "code",
   "execution_count": 476,
   "id": "fuzzy-minimum",
   "metadata": {},
   "outputs": [
    {
     "name": "stdout",
     "output_type": "stream",
     "text": [
      "Rows : 25, columns : 18\n"
     ]
    },
    {
     "data": {
      "application/vnd.jupyter.widget-view+json": {
       "model_id": "3343fb0a69294b39bc9521e83a879c25",
       "version_major": 2,
       "version_minor": 0
      },
      "text/plain": [
       "interactive(children=(IntSlider(value=3, description='rows', max=25, min=3, readout=False), IntSlider(value=12…"
      ]
     },
     "metadata": {},
     "output_type": "display_data"
    }
   ],
   "source": [
    "dataframe_viewer(df, rows=3)"
   ]
  },
  {
   "cell_type": "code",
   "execution_count": 477,
   "id": "determined-movie",
   "metadata": {},
   "outputs": [],
   "source": [
    "source_pz = pz\n",
    "source_pza = pza\n",
    "source_bh = bh"
   ]
  },
  {
   "cell_type": "code",
   "execution_count": 478,
   "id": "valid-substance",
   "metadata": {
    "scrolled": true
   },
   "outputs": [
    {
     "name": "stdout",
     "output_type": "stream",
     "text": [
      "source_bh:16 ; source_pz:3; source_pza:6 ;source_litho:86 ; source_Fac-uknw:0 ; source_an:0 ;\n",
      "source_prv_sol:70 ;source_prv_eau:0 ; source_mes_pz:0 ; source_mes_sol:0 ;\n"
     ]
    }
   ],
   "source": [
    "if not os.path.exists(tmp_dir):\n",
    "    os.makedirs(tmp_dir)\n",
    "\n",
    "bh.to_csv(tmp_dir+sheet+'_Boreholes.csv', index=False)\n",
    "pz.to_csv(tmp_dir+sheet+'_Piezometers.csv', index=False)\n",
    "pza.to_csv(tmp_dir+sheet+'_Piezairs.csv', index=False)\n",
    "#ouv.to_csv(tmp_dir+sheet+'_Unkown-facility.csv', index=False)\n",
    "#litho.to_csv(tmp_dir+sheet+'_Lithology.csv', index=False)\n",
    "#mes_pz.to_csv(tmp_dir+sheet+'_Measures.csv', index=False)\n",
    "#mes_sol.to_csv(tmp_dir+sheet+'_Measures-soil.csv', index=False)\n",
    "#prv_eau.to_csv(tmp_dir+sheet+'_Samples-water.csv', index=False)\n",
    "#prv_sol.to_csv(tmp_dir+sheet+'_Samples-soil.csv', index=False)\n",
    "#an.to_csv(tmp_dir+sheet+'_Analysis.csv', index=False)\n",
    "\n",
    "\n",
    "source_bh.to_csv(tmp_dir+'source_Boreholes.csv', index=False)\n",
    "source_pz.to_csv(tmp_dir+'source_Piezometers.csv', index=False)\n",
    "source_pza.to_csv(tmp_dir+'source_Piezairs.csv', index=False)\n",
    "#source_ouv.to_csv(tmp_dir+'source_Unkown-facility.csv', index=False)\n",
    "#source_litho.to_csv(tmp_dir+'source_Lithology.csv', index=False)\n",
    "#source_mes_pz.to_csv(tmp_dir+'source_Measures.csv', index=False)\n",
    "#source_mes_sol.to_csv(tmp_dir+'source_Measures-soil.csv', index=False)\n",
    "#source_prv_eau.to_csv(tmp_dir+'source_Samples-water.csv', index=False)\n",
    "#source_prv_sol.to_csv(tmp_dir+'source_Samples-soil.csv', index=False)\n",
    "#source_an.to_csv(tmp_dir+'source_Analysis.csv', index=False)\n",
    "\n",
    "\n",
    "print(f'source_bh:{len(source_bh)} ; source_pz:{len(source_pz)}; source_pza:{len(source_pza)} ;'\n",
    "      f'source_litho:{len(source_litho)} ; '\n",
    "     f'source_Fac-uknw:{len(source_ouv)} ; source_an:{len(source_an)} ;\\nsource_prv_sol:{len(source_prv_sol)} ;'\n",
    "     f'source_prv_eau:{len(source_prv_eau)} ; source_mes_pz:{len(source_mes_pz)} ; source_mes_sol:{len(source_mes_sol)} ;')"
   ]
  },
  {
   "cell_type": "markdown",
   "id": "present-shock",
   "metadata": {},
   "source": [
    "* **Sheet : 'Equipement'**"
   ]
  },
  {
   "cell_type": "code",
   "execution_count": 479,
   "id": "furnished-prescription",
   "metadata": {},
   "outputs": [],
   "source": [
    "tmp_dir='../../CF_data/Result_traitem/donnees_terrain_2019/'\n",
    "sheet='Equipement'"
   ]
  },
  {
   "cell_type": "code",
   "execution_count": 480,
   "id": "occasional-cedar",
   "metadata": {
    "scrolled": false
   },
   "outputs": [
    {
     "name": "stdout",
     "output_type": "stream",
     "text": [
      "Rows : 35, columns : 7\n"
     ]
    },
    {
     "data": {
      "application/vnd.jupyter.widget-view+json": {
       "model_id": "bd095257c26641cdb1988c06f0a4b5ab",
       "version_major": 2,
       "version_minor": 0
      },
      "text/plain": [
       "interactive(children=(IntSlider(value=5, description='rows', max=35, min=5, readout=False), IntSlider(value=7,…"
      ]
     },
     "metadata": {},
     "output_type": "display_data"
    }
   ],
   "source": [
    "df = pd.read_excel('../../CF_data/Data_UMONS/Profils_de_sol_Siterem- extension_pilote_et_pilote/'\n",
    "                   'Profils de sol et donnees de terrain 2019.xlsx', \n",
    "                   sheet_name='Equipement', skiprows=1)\n",
    "df=na_line_drop(df,0)\n",
    "df=na_col_drop(df,2)\n",
    "df.replace(r'<|>','', inplace=True, regex=True)\n",
    "df.replace(r'-$',np.nan, inplace=True, regex=True)\n",
    "\n",
    "dataframe_viewer(df, rows=5)"
   ]
  },
  {
   "cell_type": "code",
   "execution_count": 481,
   "id": "logical-classroom",
   "metadata": {},
   "outputs": [],
   "source": [
    "df.drop(columns=['Déplacement'], inplace=True)\n",
    "name=['ID','Equip_top', 'Equip_base', 'Diam_for', 'Diam_ext_pz', 'Legende']\n",
    "df=col_ren(df, mode=1, name=name)"
   ]
  },
  {
   "cell_type": "code",
   "execution_count": 482,
   "id": "beginning-register",
   "metadata": {},
   "outputs": [],
   "source": [
    "df.drop(index=[24,25], inplace=True)\n",
    "df.reset_index(drop=True, inplace=True)"
   ]
  },
  {
   "cell_type": "code",
   "execution_count": 483,
   "id": "impossible-summit",
   "metadata": {},
   "outputs": [],
   "source": [
    "compute_BH_length(df, top_col='Equip_top', base_col='Equip_base')"
   ]
  },
  {
   "cell_type": "code",
   "execution_count": 484,
   "id": "american-intro",
   "metadata": {},
   "outputs": [],
   "source": [
    "coi = ['ID', 'Profondeur', 'Diam_for', 'Diam_ext_pz']\n",
    "pz=df[coi].drop_duplicates(['ID'])\n",
    "pz['Type'] = 'Piezo'"
   ]
  },
  {
   "cell_type": "code",
   "execution_count": 485,
   "id": "three-optimization",
   "metadata": {},
   "outputs": [
    {
     "name": "stdout",
     "output_type": "stream",
     "text": [
      "Rows : 33, columns : 7\n"
     ]
    },
    {
     "data": {
      "application/vnd.jupyter.widget-view+json": {
       "model_id": "1fcec279aa9d4f339e3120646ab50810",
       "version_major": 2,
       "version_minor": 0
      },
      "text/plain": [
       "interactive(children=(IntSlider(value=10, description='rows', max=33, min=10, readout=False), IntSlider(value=…"
      ]
     },
     "metadata": {},
     "output_type": "display_data"
    }
   ],
   "source": [
    "dataframe_viewer(df)"
   ]
  },
  {
   "cell_type": "code",
   "execution_count": 486,
   "id": "placed-organ",
   "metadata": {},
   "outputs": [],
   "source": [
    "equip=df\n",
    "source_equip=equip"
   ]
  },
  {
   "cell_type": "code",
   "execution_count": 487,
   "id": "extensive-charge",
   "metadata": {
    "scrolled": true
   },
   "outputs": [
    {
     "name": "stdout",
     "output_type": "stream",
     "text": [
      "source_bh:16 ; source_pz:3 ; source_litho:86 ; source_Fac-uknw:0 ; source_an:0 ;\n",
      "source_prv_sol:70 ;source_prv_eau:0 ; source_mes_pz:0 ; source_mes_sol:0 ;\n"
     ]
    }
   ],
   "source": [
    "if not os.path.exists(tmp_dir):\n",
    "    os.makedirs(tmp_dir)\n",
    "\n",
    "#bh.to_csv(tmp_dir+'source_Boreholes.csv', index=False)\n",
    "pz.to_csv(tmp_dir+sheet+'_Piezometers.csv', index=False)\n",
    "#ouv.to_csv(tmp_dir+sheet+'_Unkown-facility.csv', index=False)\n",
    "#litho.to_csv(tmp_dir+sheet+'_Lithology.csv', index=False)\n",
    "#mes_pz.to_csv(tmp_dir+sheet+'_Measures.csv', index=False)\n",
    "#mes_sol.to_csv(tmp_dir+sheet+'_Measures-soil.csv', index=False)\n",
    "#prv_eau.to_csv(tmp_dir+sheet+'_Samples-water.csv', index=False)\n",
    "#prv_sol.to_csv(tmp_dir+sheet+'_Samples-soil.csv', index=False)\n",
    "#an.to_csv(tmp_dir+sheet+'_Analysis.csv', index=False)\n",
    "equip.to_csv(tmp_dir+sheet+'_Equipment.csv', index=False)\n",
    "\n",
    "#source_bh.to_csv(tmp_dir+'source_Boreholes.csv', index=False)\n",
    "source_pz.to_csv(tmp_dir+'source_Piezometers.csv', index=False)\n",
    "#source_ouv.to_csv(tmp_dir+'source_Unkown-facility.csv', index=False)\n",
    "#source_litho.to_csv(tmp_dir+'source_Lithology.csv', index=False)\n",
    "#source_mes_pz.to_csv(tmp_dir+'source_Measures.csv', index=False)\n",
    "#source_mes_sol.to_csv(tmp_dir+'source_Measures-soil.csv', index=False)\n",
    "#source_prv_eau.to_csv(tmp_dir+'source_Samples-water.csv', index=False)\n",
    "#source_prv_sol.to_csv(tmp_dir+'source_Samples-soil.csv', index=False)\n",
    "#source_an.to_csv(tmp_dir+'source_Analysis.csv', index=False)\n",
    "source_equip.to_csv(tmp_dir+'source_Equipment.csv', index=False)\n",
    "\n",
    "print(f'source_bh:{len(source_bh)} ; source_pz:{len(source_pz)} ; source_litho:{len(source_litho)} ; '\n",
    "     f'source_Fac-uknw:{len(source_ouv)} ; source_an:{len(source_an)} ;\\nsource_prv_sol:{len(source_prv_sol)} ;'\n",
    "     f'source_prv_eau:{len(source_prv_eau)} ; source_mes_pz:{len(source_mes_pz)} ; source_mes_sol:{len(source_mes_sol)} ;')"
   ]
  },
  {
   "cell_type": "markdown",
   "id": "increased-tonight",
   "metadata": {},
   "source": [
    "* **Sheet : 'Piézométrie'**"
   ]
  },
  {
   "cell_type": "code",
   "execution_count": 488,
   "id": "existing-college",
   "metadata": {},
   "outputs": [],
   "source": [
    "tmp_dir='../../CF_data/Result_traitem/donnees_terrain_2019/'\n",
    "sheet='piezometrie'"
   ]
  },
  {
   "cell_type": "code",
   "execution_count": 489,
   "id": "brazilian-judgment",
   "metadata": {
    "scrolled": false
   },
   "outputs": [
    {
     "name": "stdout",
     "output_type": "stream",
     "text": [
      "Rows : 3, columns : 4\n"
     ]
    },
    {
     "data": {
      "application/vnd.jupyter.widget-view+json": {
       "model_id": "6e47c7360b2e4f01be48726cc7b5f07b",
       "version_major": 2,
       "version_minor": 0
      },
      "text/plain": [
       "interactive(children=(IntSlider(value=3, description='rows', max=3, min=3, readout=False), IntSlider(value=4, …"
      ]
     },
     "metadata": {},
     "output_type": "display_data"
    }
   ],
   "source": [
    "df = pd.read_excel('../../CF_data/Data_UMONS/Profils_de_sol_Siterem- extension_pilote_et_pilote/'\n",
    "                   'Profils de sol et donnees de terrain 2019.xlsx', \n",
    "                   sheet_name='Piézométrie', skiprows=1)\n",
    "df=na_line_drop(df,0)\n",
    "df=na_col_drop(df,2)\n",
    "df.replace(r'<|>','', inplace=True, regex=True)\n",
    "df.replace(r'-$',np.nan, inplace=True, regex=True)\n",
    "\n",
    "dataframe_viewer(df, rows=5)"
   ]
  },
  {
   "cell_type": "code",
   "execution_count": 490,
   "id": "selected-technology",
   "metadata": {},
   "outputs": [],
   "source": [
    "name=['ID','Niv_pz_sol', 'Type_ech', 'Date_mes']\n",
    "df=col_ren(df, name=name, mode=1)"
   ]
  },
  {
   "cell_type": "code",
   "execution_count": 491,
   "id": "sudden-yemen",
   "metadata": {},
   "outputs": [],
   "source": [
    "mes_pz=df\n",
    "source_mes_pz=mes_pz"
   ]
  },
  {
   "cell_type": "code",
   "execution_count": 492,
   "id": "terminal-gender",
   "metadata": {
    "scrolled": true
   },
   "outputs": [
    {
     "name": "stdout",
     "output_type": "stream",
     "text": [
      "source_bh:16 ; source_pz:3 ; source_litho:86 ; source_Fac-uknw:0 ; source_an:0 ;\n",
      "source_prv_sol:70 ;source_prv_eau:0 ; source_mes_pz:3 ; source_mes_sol:0 ;\n"
     ]
    }
   ],
   "source": [
    "if not os.path.exists(tmp_dir):\n",
    "    os.makedirs(tmp_dir)\n",
    "\n",
    "#bh.to_csv(tmp_dir+'source_Boreholes.csv', index=False)\n",
    "#pz.to_csv(tmp_dir+sheet+'_Piezometers.csv', index=False)\n",
    "#ouv.to_csv(tmp_dir+sheet+'_Unkown-facility.csv', index=False)\n",
    "#litho.to_csv(tmp_dir+sheet+'_Lithology.csv', index=False)\n",
    "mes_pz.to_csv(tmp_dir+sheet+'_Measures.csv', index=False)\n",
    "#mes_sol.to_csv(tmp_dir+sheet+'_Measures-soil.csv', index=False)\n",
    "#prv_eau.to_csv(tmp_dir+sheet+'_Samples-water.csv', index=False)\n",
    "#prv_sol.to_csv(tmp_dir+sheet+'_Samples-soil.csv', index=False)\n",
    "#an.to_csv(tmp_dir+sheet+'_Analysis.csv', index=False)\n",
    "\n",
    "\n",
    "#source_bh.to_csv(tmp_dir+'source_Boreholes.csv', index=False)\n",
    "#source_pz.to_csv(tmp_dir+'source_Piezometers.csv', index=False)\n",
    "#source_ouv.to_csv(tmp_dir+'source_Unkown-facility.csv', index=False)\n",
    "#source_litho.to_csv(tmp_dir+'source_Lithology.csv', index=False)\n",
    "source_mes_pz.to_csv(tmp_dir+'source_Measures.csv', index=False)\n",
    "#source_mes_sol.to_csv(tmp_dir+'source_Measures-soil.csv', index=False)\n",
    "#source_prv_eau.to_csv(tmp_dir+'source_Samples-water.csv', index=False)\n",
    "#source_prv_sol.to_csv(tmp_dir+'source_Samples-soil.csv', index=False)\n",
    "#source_an.to_csv(tmp_dir+'source_Analysis.csv', index=False)\n",
    "\n",
    "\n",
    "print(f'source_bh:{len(source_bh)} ; source_pz:{len(source_pz)} ; source_litho:{len(source_litho)} ; '\n",
    "     f'source_Fac-uknw:{len(source_ouv)} ; source_an:{len(source_an)} ;\\nsource_prv_sol:{len(source_prv_sol)} ;'\n",
    "     f'source_prv_eau:{len(source_prv_eau)} ; source_mes_pz:{len(source_mes_pz)} ; source_mes_sol:{len(source_mes_sol)} ;')"
   ]
  },
  {
   "cell_type": "code",
   "execution_count": 493,
   "id": "28c26930",
   "metadata": {},
   "outputs": [
    {
     "name": "stdout",
     "output_type": "stream",
     "text": [
      "Rows : 70, columns : 9\n"
     ]
    },
    {
     "data": {
      "application/vnd.jupyter.widget-view+json": {
       "model_id": "bd09dd9d35ad4ca481e57424765f37f5",
       "version_major": 2,
       "version_minor": 0
      },
      "text/plain": [
       "interactive(children=(IntSlider(value=5, description='rows', max=70, min=5, readout=False), IntSlider(value=9,…"
      ]
     },
     "metadata": {},
     "output_type": "display_data"
    }
   ],
   "source": [
    "dataframe_viewer(source_prv_sol, rows=5)"
   ]
  },
  {
   "cell_type": "code",
   "execution_count": 494,
   "id": "e1d5165b",
   "metadata": {},
   "outputs": [
    {
     "name": "stdout",
     "output_type": "stream",
     "text": [
      "Rows : 25, columns : 23\n"
     ]
    },
    {
     "data": {
      "application/vnd.jupyter.widget-view+json": {
       "model_id": "566f182a0ef045329211de73175c27ee",
       "version_major": 2,
       "version_minor": 0
      },
      "text/plain": [
       "interactive(children=(IntSlider(value=5, description='rows', max=25, min=5, readout=False), IntSlider(value=12…"
      ]
     },
     "metadata": {},
     "output_type": "display_data"
    }
   ],
   "source": [
    "dataframe_viewer(excel_bhs, rows=5)"
   ]
  },
  {
   "cell_type": "markdown",
   "id": "7fd4e2ca",
   "metadata": {},
   "source": [
    "### $\\color{red}{\\textbf{Excel sheets data merging}}$"
   ]
  },
  {
   "cell_type": "code",
   "execution_count": 495,
   "id": "e2f78aed",
   "metadata": {},
   "outputs": [],
   "source": [
    "excel_bhs, conflict_df = data_merger(source_bh, source_pz, how='outer', on='ID', dist_max=1., drop_skip_col=['index'])"
   ]
  },
  {
   "cell_type": "code",
   "execution_count": 496,
   "id": "38fbe3a6",
   "metadata": {},
   "outputs": [],
   "source": [
    "excel_bhs, conflict_df = data_merger(excel_bhs, source_pza, how='outer', on='ID', dist_max=1., drop_skip_col=['index'])"
   ]
  },
  {
   "cell_type": "code",
   "execution_count": 497,
   "id": "d9e8aa90",
   "metadata": {},
   "outputs": [],
   "source": [
    "excel_bh_litho, conflict_df = data_merger(excel_bhs, source_litho, how='outer', on='ID', dist_max=1., drop_skip_col=['index'])"
   ]
  },
  {
   "cell_type": "code",
   "execution_count": 498,
   "id": "8df3b3cd",
   "metadata": {},
   "outputs": [],
   "source": [
    "excel_bh_soil_sp, conflict_df = data_merger(excel_bhs, source_prv_sol, how='outer', on='ID', dist_max=1., drop_skip_col=['index'])"
   ]
  },
  {
   "cell_type": "code",
   "execution_count": 499,
   "id": "6216e946",
   "metadata": {},
   "outputs": [
    {
     "name": "stdout",
     "output_type": "stream",
     "text": [
      "Conflict values present. Please resolve this manually !\n"
     ]
    }
   ],
   "source": [
    "excel_bh_equip, conflict_df = data_merger(excel_bhs, source_equip, how='outer', on='ID', dist_max=1., drop_skip_col=['index'])"
   ]
  },
  {
   "cell_type": "code",
   "execution_count": 500,
   "id": "b113f3f4",
   "metadata": {},
   "outputs": [
    {
     "name": "stdout",
     "output_type": "stream",
     "text": [
      "all conflicts have been fixed!\n"
     ]
    }
   ],
   "source": [
    "data_validation(overall_data=excel_bh_equip, conflict_data=conflict_df, index_col='index', \n",
    "                valid_dict={'Diam_ext_pz_x':list(conflict_df.index)})"
   ]
  },
  {
   "cell_type": "code",
   "execution_count": 501,
   "id": "c10fa3ad",
   "metadata": {
    "scrolled": true
   },
   "outputs": [],
   "source": [
    "excel_bh_mes, conflict_df = data_merger(excel_bhs, source_mes_pz, how='outer', on='ID', dist_max=1., drop_skip_col=['index'])"
   ]
  },
  {
   "cell_type": "code",
   "execution_count": 502,
   "id": "3e9e622e",
   "metadata": {},
   "outputs": [],
   "source": [
    "save_dir = tmp_dir + 'Final_merge/final_'\n",
    "if not os.path.exists(save_dir):\n",
    "    os.makedirs(save_dir)\n",
    "\n",
    "excel_bhs.to_csv(save_dir + 'Boreholes.csv', index=False)\n",
    "excel_bh_litho.to_csv(save_dir+'Lithologies.csv', index=False)\n",
    "excel_bh_equip.to_csv(save_dir+'Equipments.csv', index=False)\n",
    "excel_bh_soil_sp.to_csv(save_dir+'Soil_samples.csv', index=False)\n",
    "#excel_bh_water_sp.to_csv(save_dir+'Water_samples.csv', index=False)\n",
    "#excel_bh_soil_an.to_csv(save_dir+'Soil_analysis.csv', index=False)\n",
    "#excel_bh_water_an.to_csv(save_dir+'water_analysis.csv', index=False)\n",
    "excel_bh_mes.to_csv(save_dir+'Measures.csv', index=False)\n",
    "#excel_bh_fac.to_csv(save_dir+'Unknow_facilities.csv', index=False)"
   ]
  },
  {
   "cell_type": "markdown",
   "id": "adjacent-conversation",
   "metadata": {},
   "source": [
    "## 16-Résultats SOL extension pilote et piézairs.xlsx\n",
    "* **Sheet : 'Résult SOL'**"
   ]
  },
  {
   "cell_type": "code",
   "execution_count": 503,
   "id": "valued-exchange",
   "metadata": {},
   "outputs": [],
   "source": [
    "# New file, so the source variables must be overwritten !!\n",
    "_df=pd.DataFrame()\n",
    "source_mes_pz, source_mes_sol, source_pz, source_prv_eau, source_prv_sol =  _df, _df, _df, _df, _df\n",
    "source_ouv, source_an, source_litho, source_bh = _df, _df, _df, _df"
   ]
  },
  {
   "cell_type": "code",
   "execution_count": 504,
   "id": "rental-unknown",
   "metadata": {},
   "outputs": [],
   "source": [
    "tmp_dir='../../CF_data/Result_traitem/result_sol_ext_pilote/'\n",
    "sheet='Result_Sol'"
   ]
  },
  {
   "cell_type": "code",
   "execution_count": 505,
   "id": "forced-variance",
   "metadata": {
    "scrolled": false
   },
   "outputs": [
    {
     "name": "stdout",
     "output_type": "stream",
     "text": [
      "3 NaN lines dropped\n",
      "\n",
      "Columns dropped :['Unnamed: 0', 'Unnamed: 2', 'Unnamed: 61', 'Unnamed: 62', 'Unnamed: 63', 'Unnamed: 64', 'Unnamed: 65', 'Unnamed: 66', 'Unnamed: 67']\n",
      "\n",
      "Rows : 135, columns : 60\n"
     ]
    },
    {
     "name": "stderr",
     "output_type": "stream",
     "text": [
      "/home/yanathan/.local/share/virtualenvs/GSDMA-DRfwm83x/lib/python3.8/site-packages/openpyxl/worksheet/_reader.py:312: UserWarning: Data Validation extension is not supported and will be removed\n",
      "  warn(msg)\n",
      "/home/yanathan/.local/share/virtualenvs/GSDMA-DRfwm83x/lib/python3.8/site-packages/pandas/core/frame.py:4901: SettingWithCopyWarning: \n",
      "A value is trying to be set on a copy of a slice from a DataFrame\n",
      "\n",
      "See the caveats in the documentation: https://pandas.pydata.org/pandas-docs/stable/user_guide/indexing.html#returning-a-view-versus-a-copy\n",
      "  return super().drop(\n"
     ]
    },
    {
     "data": {
      "application/vnd.jupyter.widget-view+json": {
       "model_id": "12f6b1a10e44407198d498ea2963b3e1",
       "version_major": 2,
       "version_minor": 0
      },
      "text/plain": [
       "interactive(children=(IntSlider(value=5, description='rows', max=135, min=5, readout=False), IntSlider(value=1…"
      ]
     },
     "metadata": {},
     "output_type": "display_data"
    }
   ],
   "source": [
    "df = pd.read_excel('../../CF_data/Data_UMONS/Profils_de_sol_Siterem- extension_pilote_et_pilote/'\n",
    "                   'Resultats SOL extension pilote et piezairs.xlsx', \n",
    "                   sheet_name='Résult SOL', skiprows=5)\n",
    "df=na_line_drop(df,0)\n",
    "df=na_col_drop(df,1)\n",
    "df.replace(r'<|>','', inplace=True, regex=True)\n",
    "df.replace(r'-$',np.nan, inplace=True, regex=True)\n",
    "\n",
    "dataframe_viewer(df, rows=5)"
   ]
  },
  {
   "cell_type": "code",
   "execution_count": 506,
   "id": "isolated-mayor",
   "metadata": {},
   "outputs": [],
   "source": [
    "prv_sol=df.loc[:35]\n",
    "an=df.loc[36:]"
   ]
  },
  {
   "cell_type": "code",
   "execution_count": 507,
   "id": "global-reynolds",
   "metadata": {},
   "outputs": [
    {
     "name": "stderr",
     "output_type": "stream",
     "text": [
      "/home/yanathan/.local/share/virtualenvs/GSDMA-DRfwm83x/lib/python3.8/site-packages/pandas/core/indexing.py:723: SettingWithCopyWarning: \n",
      "A value is trying to be set on a copy of a slice from a DataFrame\n",
      "\n",
      "See the caveats in the documentation: https://pandas.pydata.org/pandas-docs/stable/user_guide/indexing.html#returning-a-view-versus-a-copy\n",
      "  iloc._setitem_with_indexer(indexer, value, self.name)\n"
     ]
    }
   ],
   "source": [
    "an.loc[0.5] = df.loc[0] # put data on first line\n",
    "an = an.sort_index().reset_index(drop=True)"
   ]
  },
  {
   "cell_type": "code",
   "execution_count": 508,
   "id": "banned-sheffield",
   "metadata": {},
   "outputs": [],
   "source": [
    "prv_sol=prv_sol.transpose()\n",
    "prv_sol.reset_index(drop=True, inplace=True)\n",
    "prv_sol=col_ren(prv_sol, 1)"
   ]
  },
  {
   "cell_type": "code",
   "execution_count": 509,
   "id": "signed-store",
   "metadata": {},
   "outputs": [
    {
     "name": "stdout",
     "output_type": "stream",
     "text": [
      "column(s) dropped: ['9:Autre zone suspecte investiguée', '27:température pour mes. pH', '30:pH (H20)']\n"
     ]
    }
   ],
   "source": [
    "prv_sol=dble_col_drop(prv_sol)"
   ]
  },
  {
   "cell_type": "code",
   "execution_count": 510,
   "id": "unlikely-hardware",
   "metadata": {},
   "outputs": [
    {
     "name": "stdout",
     "output_type": "stream",
     "text": [
      "\n",
      "Columns dropped :['Matières organiques', 'SPP/zone suspecte investiguée', 'Autre zone suspecte investiguée', 'Parcelle', 'X Lambert', 'Y Lambert', \"Type d'étude (*)\", 'Organoleptique couleur suspecte', 'Organoleptique odeur intensité (***)', 'Organoleptique odeur type', 'MO et COT', 'pH', 'GRANULOMETRIE', 'Fraction argileuse']\n",
      "\n"
     ]
    }
   ],
   "source": [
    "prv_sol.drop(list(range(3)), axis=0, inplace=True)\n",
    "prv_sol.reset_index(drop=True, inplace=True)\n",
    "prv_sol=na_col_drop(prv_sol,3)\n",
    "prv_sol=na_line_drop(prv_sol,3)\n",
    "prv_sol.reset_index(drop=True, inplace=True)"
   ]
  },
  {
   "cell_type": "code",
   "execution_count": 511,
   "id": "recent-kingston",
   "metadata": {},
   "outputs": [],
   "source": [
    "prv_sol=prv_sol[:-1]\n",
    "prv_sol.drop(columns=['broyage'], inplace=True)"
   ]
  },
  {
   "cell_type": "code",
   "execution_count": 512,
   "id": "approximate-relevance",
   "metadata": {},
   "outputs": [],
   "source": [
    "name=['ID_ech','Ech_top', 'Ech_base','MS','Date_prv','Long_for','Refus','Description','MO','COT','pH_KCl', \n",
    "      'Temp_pH_mes','pH_H20','Fract_2','Fract_2+', 'Fract_min_2µ','Fract_min_50µ','Fract_min_2']\n",
    "prv_sol=col_ren(prv_sol, name=name, mode=1)"
   ]
  },
  {
   "cell_type": "code",
   "execution_count": 513,
   "id": "incorrect-gates",
   "metadata": {},
   "outputs": [
    {
     "data": {
      "text/plain": [
       "{'R', 'R ', 'TN', 'TN ', nan}"
      ]
     },
     "execution_count": 513,
     "metadata": {},
     "output_type": "execute_result"
    }
   ],
   "source": [
    "set(prv_sol.Description)"
   ]
  },
  {
   "cell_type": "code",
   "execution_count": 514,
   "id": "mounted-renaissance",
   "metadata": {},
   "outputs": [],
   "source": [
    "for i in range(len(prv_sol['Description'])):\n",
    "    x = prv_sol.loc[i,'Description']\n",
    "    if x in ['R','R ']: prv_sol.loc[i,'Description']='Remblais'\n",
    "    elif x in ['TN','TN ']: prv_sol.loc[i,'Description']='Terrain naturel'\n",
    "\n",
    "prv_sol['Refus']=prv_sol['Refus'].apply(lambda x: 'x' if not pd.isnull(x) else '')\n",
    "prv_sol.insert(1,'Type_ech','Sol')#"
   ]
  },
  {
   "cell_type": "code",
   "execution_count": 515,
   "id": "inside-dialogue",
   "metadata": {},
   "outputs": [],
   "source": [
    "for i in range(len(prv_sol)):\n",
    "    x=prv_sol.loc[i,'ID_ech']\n",
    "    r=re.search('([\\w|\\d]+)\\n.+$', x)\n",
    "    if r: \n",
    "        prv_sol.loc[i,'ID_ech']='226/'+r.group(1) # Rename borehole 304 to 226 because of conflict with piezair"
   ]
  },
  {
   "cell_type": "raw",
   "id": "859aa918",
   "metadata": {
    "scrolled": true
   },
   "source": [
    "prv_sol.info()"
   ]
  },
  {
   "cell_type": "code",
   "execution_count": 516,
   "id": "normal-narrative",
   "metadata": {
    "scrolled": false
   },
   "outputs": [
    {
     "name": "stdout",
     "output_type": "stream",
     "text": [
      "Rows : 55, columns : 19\n"
     ]
    },
    {
     "data": {
      "application/vnd.jupyter.widget-view+json": {
       "model_id": "5f4b1d98c8d84e388e29ad99a3998aaf",
       "version_major": 2,
       "version_minor": 0
      },
      "text/plain": [
       "interactive(children=(IntSlider(value=3, description='rows', max=55, min=3, readout=False), IntSlider(value=12…"
      ]
     },
     "metadata": {},
     "output_type": "display_data"
    }
   ],
   "source": [
    "dataframe_viewer(prv_sol, rows=3)"
   ]
  },
  {
   "cell_type": "code",
   "execution_count": 517,
   "id": "affected-window",
   "metadata": {},
   "outputs": [],
   "source": [
    "an=an.transpose()\n",
    "an.reset_index(drop=True, inplace=True)"
   ]
  },
  {
   "cell_type": "code",
   "execution_count": 518,
   "id": "unavailable-roads",
   "metadata": {},
   "outputs": [],
   "source": [
    "an=col_ren(an, 1)"
   ]
  },
  {
   "cell_type": "code",
   "execution_count": 519,
   "id": "beautiful-casting",
   "metadata": {},
   "outputs": [],
   "source": [
    "an.rename(columns={an.columns[0]:'ID_ech'}, inplace=True)"
   ]
  },
  {
   "cell_type": "code",
   "execution_count": 520,
   "id": "elder-andorra",
   "metadata": {},
   "outputs": [
    {
     "data": {
      "text/plain": [
       "Index(['ID_ech', 'METAUX LOURDS', 'Arsenic', 'Cadmium', 'Chrome', 'Chrome VI',\n",
       "       'Cobalt', 'Cuivre', 'Mercure', 'Plomb', 'Nickel', 'Zinc', 'CYANURES',\n",
       "       'cyanure (libre)', 'cyanure (totaux)', 'cyanure (APE)',\n",
       "       'cyanure complex', 'thiocyanate', 'COMPOSES AROMATIQUES VOLATILS',\n",
       "       'Benzène', 'Toluène', 'Éthylbenzène', 'Orthoxylène',\n",
       "       'Para- et métaxylène', 'Xylènes', 'Styrène', 'BTEX totaux', 'PHENOLS',\n",
       "       'Phénol', 'Indice phénol', 'HYDROCARBURES AROMATIQUES POLYCYCLIQUES',\n",
       "       'Naphtalène', 'Acénaphtylène', 'Acénaphtène', 'Fluorène', 'col_35',\n",
       "       'Anthracène', 'Fluoranthène', 'Pyrène', 'Benzo(a)anthracène',\n",
       "       'Chrysène', 'Benzo(b)fluoranthène', 'Benzo(k)fluoranthène',\n",
       "       'Benzo(a)pyrène', 'Dibenzo(ah)anthracène', 'Benzo(ghi)pérylène',\n",
       "       'Indéno(1,2,3-cd)pyrène', 'HAP Totaux (16) - EPA',\n",
       "       'COMPOSES ORGANOHALOGENES VOLATILS', 'Tétrachloroéthylène',\n",
       "       'Trichloroéthylène', '1,1-dichloroéthène', 'Cis-1,2-dichloroéthène',\n",
       "       'Trans 1,2-dichloroéthylène', 'Totaux (cis,trans) 1,2-dichloroéthènes',\n",
       "       'Chlorure de vinyle', '1,1,1-Trichloroéthane', '1,1,2-Trichloroéthane',\n",
       "       '1,1-Dichloroéthane', '1,2-Dichloroéthane', 'Tétrachlorométhane',\n",
       "       'Chloroforme', 'Dichlorométhane', '1,2-dichloropropane', 'EOX (****)',\n",
       "       'HYDROCARBURES TOTAUX', 'fraction aromat. C6-C7',\n",
       "       'fraction aromat. C7-C8', 'fraction aromat. C8-C10',\n",
       "       'fraction aliphat. C5-C6', 'fraction aliphat. C6-C8',\n",
       "       'fraction aliphat. C8-C10', 'Fraction C5 - C8', 'Fraction C8 - C10',\n",
       "       'Fraction C10-C12', 'Fraction C12-C16', 'Fraction C16 - C21',\n",
       "       'Fraction C21 - C35', 'Fraction C35 - C40',\n",
       "       'Hydrocarbures totaux C10-C35', 'Hydrocarbures totaux C10-C40',\n",
       "       'METHYL-TERT-BUTYL-ETHER', 'MTBE', 'POLYCHLOROBIPHENYL (PCB)', 'PCB 28',\n",
       "       'PCB 52', 'PCB 101', 'PCB 118', 'PCB 138', 'PCB 153', 'PCB 180',\n",
       "       'PCB totaux (7)', 'Teneur mesurée', 'Teneur mesurée',\n",
       "       'VS : Valeur seuil',\n",
       "       '(*) RP : Rapport de prélèvements; ES : Etude de sol; EO : Etude d'orientation; EC : Etude de caractérisation; SA : Suivi d'assainissement; EF : Evaluation finale',\n",
       "       '(**) TN : Terrain naturel; R : Remblai',\n",
       "       '(***) - : Pas d'impression organoleptique; + : Impression organoleptique faible; ++ : Impression organoleptique forte',\n",
       "       '(****) 3 mg/kg = Seuil limite défini dans le GREO ',\n",
       "       'Le contenu des tableaux est conforme au modèle repris à l'annexe IX du GREO V04. Le formalisme a été adapté par SITEREM tout en garantissant la lisibilité du document imprimé. '],\n",
       "      dtype='object')"
      ]
     },
     "execution_count": 520,
     "metadata": {},
     "output_type": "execute_result"
    }
   ],
   "source": [
    "an.columns"
   ]
  },
  {
   "cell_type": "code",
   "execution_count": 521,
   "id": "white-costume",
   "metadata": {},
   "outputs": [],
   "source": [
    "an=an[an.columns[:-17]]\n",
    "an.rename(columns={'col_35':'Phénanthrène'}, inplace=True)"
   ]
  },
  {
   "cell_type": "code",
   "execution_count": 522,
   "id": "fresh-houston",
   "metadata": {},
   "outputs": [],
   "source": [
    "an=col_ren(an, name=pol_field_model, mode=1)"
   ]
  },
  {
   "cell_type": "code",
   "execution_count": 523,
   "id": "planned-reporter",
   "metadata": {},
   "outputs": [
    {
     "name": "stdout",
     "output_type": "stream",
     "text": [
      "column(s) dropped: []\n"
     ]
    }
   ],
   "source": [
    "an=dble_col_drop(an)"
   ]
  },
  {
   "cell_type": "code",
   "execution_count": 524,
   "id": "thrown-interview",
   "metadata": {},
   "outputs": [
    {
     "name": "stdout",
     "output_type": "stream",
     "text": [
      "\n",
      "Columns dropped :['METAUX LOURDS', 'CYANURES', 'COMPOSES AROMATIQUES VOLATILS', 'BTEX_tot', 'PHENOLS', 'HYDROCARBURES AROMATIQUES POLYCYCLIQUES', 'COMPOSES ORGANOHALOGENES VOLATILS', 'HYDROCARBURES TOTAUX', 'METHYL-TERT-BUTYL-ETHER']\n",
      "\n",
      "1 NaN lines dropped\n"
     ]
    },
    {
     "name": "stderr",
     "output_type": "stream",
     "text": [
      "/home/yanathan/.local/share/virtualenvs/GSDMA-DRfwm83x/lib/python3.8/site-packages/pandas/core/frame.py:4901: SettingWithCopyWarning: \n",
      "A value is trying to be set on a copy of a slice from a DataFrame\n",
      "\n",
      "See the caveats in the documentation: https://pandas.pydata.org/pandas-docs/stable/user_guide/indexing.html#returning-a-view-versus-a-copy\n",
      "  return super().drop(\n"
     ]
    }
   ],
   "source": [
    "an.drop(list(range(3)), axis=0, inplace=True)\n",
    "an.reset_index(drop=True, inplace=True)\n",
    "an=na_col_drop(an,1)\n",
    "an = na_line_drop(an, 1)\n",
    "an.insert(1,'Type_ech','Sol')"
   ]
  },
  {
   "cell_type": "code",
   "execution_count": 525,
   "id": "5765e4a1",
   "metadata": {},
   "outputs": [],
   "source": [
    "data = an\n",
    "for i in range(len(data)):\n",
    "    x=data.loc[i,'ID_ech']\n",
    "    r=re.search('([\\w|\\d]+)\\n.+$', x)\n",
    "    if r: \n",
    "        data.loc[i,'ID_ech']='226/'+r.group(1) # Rename borehole 304 to 226 because of conflict with piezair"
   ]
  },
  {
   "cell_type": "code",
   "execution_count": 526,
   "id": "comprehensive-highway",
   "metadata": {},
   "outputs": [
    {
     "name": "stdout",
     "output_type": "stream",
     "text": [
      "Rows : 55, columns : 75\n"
     ]
    },
    {
     "data": {
      "application/vnd.jupyter.widget-view+json": {
       "model_id": "eb570af5e5cd49cca716f6f468084d27",
       "version_major": 2,
       "version_minor": 0
      },
      "text/plain": [
       "interactive(children=(IntSlider(value=5, description='rows', max=55, min=5, readout=False), IntSlider(value=12…"
      ]
     },
     "metadata": {},
     "output_type": "display_data"
    }
   ],
   "source": [
    "dataframe_viewer(an, rows=5) "
   ]
  },
  {
   "cell_type": "code",
   "execution_count": 527,
   "id": "silver-algebra",
   "metadata": {},
   "outputs": [],
   "source": [
    "source_prv_sol=prv_sol\n",
    "source_an=an"
   ]
  },
  {
   "cell_type": "code",
   "execution_count": 528,
   "id": "specific-suspension",
   "metadata": {
    "scrolled": true
   },
   "outputs": [
    {
     "name": "stdout",
     "output_type": "stream",
     "text": [
      "source_bh:0 ; source_pz:0 ; source_litho:0 ; source_Fac-uknw:0 ; source_an:55 ;\n",
      "source_prv_sol:55 ;source_prv_eau:0 ; source_mes_pz:0 ; source_mes_sol:0 ;\n"
     ]
    }
   ],
   "source": [
    "if not os.path.exists(tmp_dir):\n",
    "    os.makedirs(tmp_dir)\n",
    "\n",
    "#bh.to_csv(tmp_dir+'source_Boreholes.csv', index=False)\n",
    "#pz.to_csv(tmp_dir+sheet+'_Piezometers.csv', index=False)\n",
    "#ouv.to_csv(tmp_dir+sheet+'_Unkown-facility.csv', index=False)\n",
    "#litho.to_csv(tmp_dir+sheet+'_Lithology.csv', index=False)\n",
    "#mes_pz.to_csv(tmp_dir+sheet+'_Measures.csv', index=False)\n",
    "#mes_sol.to_csv(tmp_dir+sheet+'_Measures-soil.csv', index=False)\n",
    "#prv_eau.to_csv(tmp_dir+sheet+'_Samples-water.csv', index=False)\n",
    "prv_sol.to_csv(tmp_dir+sheet+'_Samples-soil.csv', index=False)\n",
    "an.to_csv(tmp_dir+sheet+'_Analysis.csv', index=False)\n",
    "\n",
    "\n",
    "#source_bh.to_csv(tmp_dir+'source_Boreholes.csv', index=False)\n",
    "#source_pz.to_csv(tmp_dir+'source_Piezometers.csv', index=False)\n",
    "#source_ouv.to_csv(tmp_dir+'source_Unkown-facility.csv', index=False)\n",
    "#source_litho.to_csv(tmp_dir+'source_Lithology.csv', index=False)\n",
    "#source_mes_pz.to_csv(tmp_dir+'source_Measures.csv', index=False)\n",
    "#source_mes_sol.to_csv(tmp_dir+'source_Measures-soil.csv', index=False)\n",
    "#source_prv_eau.to_csv(tmp_dir+'source_Samples-water.csv', index=False)\n",
    "source_prv_sol.to_csv(tmp_dir+'source_Samples-soil.csv', index=False)\n",
    "source_an.to_csv(tmp_dir+'source_Analysis.csv', index=False)\n",
    "\n",
    "\n",
    "print(f'source_bh:{len(source_bh)} ; source_pz:{len(source_pz)} ; source_litho:{len(source_litho)} ; '\n",
    "     f'source_Fac-uknw:{len(source_ouv)} ; source_an:{len(source_an)} ;\\nsource_prv_sol:{len(source_prv_sol)} ;'\n",
    "     f'source_prv_eau:{len(source_prv_eau)} ; source_mes_pz:{len(source_mes_pz)} ; source_mes_sol:{len(source_mes_sol)} ;')"
   ]
  },
  {
   "cell_type": "markdown",
   "id": "raised-semiconductor",
   "metadata": {},
   "source": [
    "* **Sheet : 'inorganiques et composés majeur'**"
   ]
  },
  {
   "cell_type": "code",
   "execution_count": 529,
   "id": "detected-namibia",
   "metadata": {},
   "outputs": [],
   "source": [
    "tmp_dir='../../CF_data/Result_traitem/donnees_terrain_2019/'\n",
    "sheet='Inorg_comp_majeur'"
   ]
  },
  {
   "cell_type": "code",
   "execution_count": 530,
   "id": "weighted-breed",
   "metadata": {
    "scrolled": false
   },
   "outputs": [
    {
     "name": "stdout",
     "output_type": "stream",
     "text": [
      "5 NaN lines dropped\n",
      "\n",
      "Columns dropped :['Unnamed: 0', 'Unnamed: 2']\n",
      "\n",
      "Rows : 64, columns : 46\n"
     ]
    },
    {
     "name": "stderr",
     "output_type": "stream",
     "text": [
      "/home/yanathan/.local/share/virtualenvs/GSDMA-DRfwm83x/lib/python3.8/site-packages/pandas/core/frame.py:4901: SettingWithCopyWarning: \n",
      "A value is trying to be set on a copy of a slice from a DataFrame\n",
      "\n",
      "See the caveats in the documentation: https://pandas.pydata.org/pandas-docs/stable/user_guide/indexing.html#returning-a-view-versus-a-copy\n",
      "  return super().drop(\n"
     ]
    },
    {
     "data": {
      "application/vnd.jupyter.widget-view+json": {
       "model_id": "97cdb3719aff48809e55648bbd5591cc",
       "version_major": 2,
       "version_minor": 0
      },
      "text/plain": [
       "interactive(children=(IntSlider(value=5, description='rows', max=64, min=5, readout=False), IntSlider(value=12…"
      ]
     },
     "metadata": {},
     "output_type": "display_data"
    }
   ],
   "source": [
    "df = pd.read_excel('../../CF_data/Data_UMONS/Profils_de_sol_Siterem- extension_pilote_et_pilote/'\n",
    "                   'Resultats SOL extension pilote et piezairs.xlsx', \n",
    "                   sheet_name='inorganiques et composés majeur', skiprows=1)\n",
    "df=na_line_drop(df,0)\n",
    "df=na_col_drop(df,1)\n",
    "df.replace(r'<|>','', inplace=True, regex=True)\n",
    "df.replace(r'-$',np.nan, inplace=True, regex=True)\n",
    "\n",
    "dataframe_viewer(df, rows=5)"
   ]
  },
  {
   "cell_type": "code",
   "execution_count": 531,
   "id": "virgin-concept",
   "metadata": {},
   "outputs": [],
   "source": [
    "prv_sol=df.loc[:20] # not really interesting here!\n",
    "an=df.loc[21:]"
   ]
  },
  {
   "cell_type": "code",
   "execution_count": 532,
   "id": "exclusive-escape",
   "metadata": {},
   "outputs": [
    {
     "name": "stderr",
     "output_type": "stream",
     "text": [
      "/home/yanathan/.local/share/virtualenvs/GSDMA-DRfwm83x/lib/python3.8/site-packages/pandas/core/indexing.py:723: SettingWithCopyWarning: \n",
      "A value is trying to be set on a copy of a slice from a DataFrame\n",
      "\n",
      "See the caveats in the documentation: https://pandas.pydata.org/pandas-docs/stable/user_guide/indexing.html#returning-a-view-versus-a-copy\n",
      "  iloc._setitem_with_indexer(indexer, value, self.name)\n"
     ]
    }
   ],
   "source": [
    "an.loc[0.5] = df.loc[0] # put data on first line\n",
    "an = an.sort_index().reset_index(drop=True)"
   ]
  },
  {
   "cell_type": "code",
   "execution_count": 533,
   "id": "pediatric-template",
   "metadata": {},
   "outputs": [],
   "source": [
    "an=an.transpose()\n",
    "an.reset_index(drop=True, inplace=True)"
   ]
  },
  {
   "cell_type": "code",
   "execution_count": 534,
   "id": "desperate-turkish",
   "metadata": {},
   "outputs": [],
   "source": [
    "an=col_ren(an, 1)"
   ]
  },
  {
   "cell_type": "code",
   "execution_count": 535,
   "id": "saving-nightmare",
   "metadata": {},
   "outputs": [],
   "source": [
    "an.rename(columns={an.columns[0]:'ID_ech'}, inplace=True)"
   ]
  },
  {
   "cell_type": "code",
   "execution_count": 536,
   "id": "buried-carolina",
   "metadata": {},
   "outputs": [],
   "source": [
    "an=an[an.columns[:-7]]"
   ]
  },
  {
   "cell_type": "code",
   "execution_count": 537,
   "id": "representative-adolescent",
   "metadata": {},
   "outputs": [],
   "source": [
    "an=col_ren(an, name=pol_field_model, mode=1)"
   ]
  },
  {
   "cell_type": "code",
   "execution_count": 538,
   "id": "tested-europe",
   "metadata": {},
   "outputs": [
    {
     "name": "stdout",
     "output_type": "stream",
     "text": [
      "column(s) dropped: ['3:NH4', '4:NH4', '5:NH4', '9:HNO2', '10:HNO2', '11:HNO2', '13:HNO3', '14:HNO3', '15:HNO3']\n"
     ]
    }
   ],
   "source": [
    "an=dble_col_drop(an)"
   ]
  },
  {
   "cell_type": "code",
   "execution_count": 539,
   "id": "ruled-plastic",
   "metadata": {},
   "outputs": [
    {
     "name": "stdout",
     "output_type": "stream",
     "text": [
      "\n",
      "Columns dropped :['COMPOSES AZOTES', 'NH3_libre', 'HNO2', 'HNO3', 'COMPOSES SOUFRES ', 'Sulfure_tot', 'sulfures (libre)', 'S_tot', 'sulfites', 'ELEMENTS MAJEURS', 'Fe_tot', 'Fe2', 'AUTRES ANALYSES', 'fluorures', 'cyanure (libre)', 'B_libre', 'CaCO3', 'Bicarb', 'METHYL-TERT-BUTYL-ETHER', 'MTBE']\n",
      "\n",
      "35 NaN lines dropped\n"
     ]
    },
    {
     "name": "stderr",
     "output_type": "stream",
     "text": [
      "/home/yanathan/.local/share/virtualenvs/GSDMA-DRfwm83x/lib/python3.8/site-packages/pandas/core/frame.py:4901: SettingWithCopyWarning: \n",
      "A value is trying to be set on a copy of a slice from a DataFrame\n",
      "\n",
      "See the caveats in the documentation: https://pandas.pydata.org/pandas-docs/stable/user_guide/indexing.html#returning-a-view-versus-a-copy\n",
      "  return super().drop(\n"
     ]
    }
   ],
   "source": [
    "an.drop(list(range(3)), axis=0, inplace=True)\n",
    "an.reset_index(drop=True, inplace=True)\n",
    "an=na_col_drop(an,2)\n",
    "an = na_line_drop(an,1)\n",
    "an.insert(1,'Type_ech','Sol')"
   ]
  },
  {
   "cell_type": "code",
   "execution_count": 540,
   "id": "e0d1a30d",
   "metadata": {},
   "outputs": [],
   "source": [
    "data = an\n",
    "for i in range(len(data)):\n",
    "    x=data.loc[i,'ID_ech']\n",
    "    r=re.search('([\\w|\\d]+)\\n.+$', x)\n",
    "    if r: \n",
    "        data.loc[i,'ID_ech']='226/'+r.group(1) # Rename borehole 304 to 226 because of conflict with piezair"
   ]
  },
  {
   "cell_type": "code",
   "execution_count": 541,
   "id": "extra-inquiry",
   "metadata": {
    "scrolled": true
   },
   "outputs": [],
   "source": [
    "#source_prv_sol=prv_sol\n",
    "source_an=data_merger(source_an, an, how='outer', on='ID_ech')[0]"
   ]
  },
  {
   "cell_type": "code",
   "execution_count": 542,
   "id": "graphic-construction",
   "metadata": {
    "scrolled": false
   },
   "outputs": [
    {
     "name": "stdout",
     "output_type": "stream",
     "text": [
      "Rows : 55, columns : 88\n"
     ]
    },
    {
     "data": {
      "application/vnd.jupyter.widget-view+json": {
       "model_id": "281b09c21fc5409a980375f9ea7b16bd",
       "version_major": 2,
       "version_minor": 0
      },
      "text/plain": [
       "interactive(children=(IntSlider(value=5, description='rows', max=55, min=5, readout=False), IntSlider(value=12…"
      ]
     },
     "metadata": {},
     "output_type": "display_data"
    }
   ],
   "source": [
    "dataframe_viewer(source_an, rows=5) "
   ]
  },
  {
   "cell_type": "code",
   "execution_count": 543,
   "id": "middle-convertible",
   "metadata": {
    "scrolled": true
   },
   "outputs": [
    {
     "name": "stdout",
     "output_type": "stream",
     "text": [
      "source_bh:0 ; source_pz:0 ; source_litho:0 ; source_Fac-uknw:0 ; source_an:55 ;\n",
      "source_prv_sol:55 ;source_prv_eau:0 ; source_mes_pz:0 ; source_mes_sol:0 ;\n"
     ]
    }
   ],
   "source": [
    "if not os.path.exists(tmp_dir):\n",
    "    os.makedirs(tmp_dir)\n",
    "\n",
    "#bh.to_csv(tmp_dir+'source_Boreholes.csv', index=False)\n",
    "#pz.to_csv(tmp_dir+sheet+'_Piezometers.csv', index=False)\n",
    "#ouv.to_csv(tmp_dir+sheet+'_Unkown-facility.csv', index=False)\n",
    "#litho.to_csv(tmp_dir+sheet+'_Lithology.csv', index=False)\n",
    "#mes_pz.to_csv(tmp_dir+sheet+'_Measures.csv', index=False)\n",
    "#mes_sol.to_csv(tmp_dir+sheet+'_Measures-soil.csv', index=False)\n",
    "#prv_eau.to_csv(tmp_dir+sheet+'_Samples-water.csv', index=False)\n",
    "#prv_sol.to_csv(tmp_dir+sheet+'_Samples-soil.csv', index=False)\n",
    "an.to_csv(tmp_dir+sheet+'_Analysis.csv', index=False)\n",
    "\n",
    "\n",
    "#source_bh.to_csv(tmp_dir+'source_Boreholes.csv', index=False)\n",
    "#source_pz.to_csv(tmp_dir+'source_Piezometers.csv', index=False)\n",
    "#source_ouv.to_csv(tmp_dir+'source_Unkown-facility.csv', index=False)\n",
    "#source_litho.to_csv(tmp_dir+'source_Lithology.csv', index=False)\n",
    "#source_mes_pz.to_csv(tmp_dir+'source_Measures.csv', index=False)\n",
    "#source_mes_sol.to_csv(tmp_dir+'source_Measures-soil.csv', index=False)\n",
    "#source_prv_eau.to_csv(tmp_dir+'source_Samples-water.csv', index=False)\n",
    "#source_prv_sol.to_csv(tmp_dir+'source_Samples-soil.csv', index=False)\n",
    "source_an.to_csv(tmp_dir+'source_Analysis.csv', index=False)\n",
    "\n",
    "\n",
    "print(f'source_bh:{len(source_bh)} ; source_pz:{len(source_pz)} ; source_litho:{len(source_litho)} ; '\n",
    "     f'source_Fac-uknw:{len(source_ouv)} ; source_an:{len(source_an)} ;\\nsource_prv_sol:{len(source_prv_sol)} ;'\n",
    "     f'source_prv_eau:{len(source_prv_eau)} ; source_mes_pz:{len(source_mes_pz)} ; source_mes_sol:{len(source_mes_sol)} ;')"
   ]
  },
  {
   "cell_type": "markdown",
   "id": "2b0fae05",
   "metadata": {},
   "source": [
    "### $\\color{red}{\\textbf{merging of 'Donnees_2019' and 'result_sol' data}}$"
   ]
  },
  {
   "cell_type": "code",
   "execution_count": 544,
   "id": "c98b17e7",
   "metadata": {},
   "outputs": [],
   "source": [
    "excel_bh_soil_an, conflict_df = data_merger(excel_bh_soil_sp, source_an, how='outer', on='ID_ech', dist_max=1., drop_skip_col=['index'])"
   ]
  },
  {
   "cell_type": "code",
   "execution_count": 545,
   "id": "630f5f96",
   "metadata": {},
   "outputs": [],
   "source": [
    "tmp_dir='../../CF_data/Result_traitem/donnees_terrain_2019/'"
   ]
  },
  {
   "cell_type": "code",
   "execution_count": 546,
   "id": "5a00692d",
   "metadata": {},
   "outputs": [],
   "source": [
    "save_dir = tmp_dir + 'Final_merge/final_'\n",
    "if not os.path.exists(save_dir):\n",
    "    os.makedirs(save_dir)\n",
    "\n",
    "#excel_bhs.to_csv(save_dir + 'Boreholes.csv', index=False)\n",
    "#excel_bh_litho.to_csv(save_dir+'Lithologies.csv', index=False)\n",
    "#excel_bh_equip.to_csv(save_dir+'Equipments.csv', index=False)\n",
    "#excel_bh_soil_sp.to_csv(save_dir+'Soil_samples.csv', index=False)\n",
    "#excel_bh_water_sp.to_csv(save_dir+'Water_samples.csv', index=False)\n",
    "excel_bh_soil_an.to_csv(save_dir+'Soil_analysis.csv', index=False)\n",
    "#excel_bh_water_an.to_csv(save_dir+'water_analysis.csv', index=False)\n",
    "#excel_bh_mes.to_csv(save_dir+'Measures.csv', index=False)\n",
    "#excel_bh_fac.to_csv(save_dir+'Unknow_facilities.csv', index=False)"
   ]
  },
  {
   "cell_type": "code",
   "execution_count": null,
   "id": "executive-providence",
   "metadata": {},
   "outputs": [],
   "source": []
  }
 ],
 "metadata": {
  "kernelspec": {
   "display_name": "Python 3 (ipykernel)",
   "language": "python",
   "name": "python3"
  },
  "language_info": {
   "codemirror_mode": {
    "name": "ipython",
    "version": 3
   },
   "file_extension": ".py",
   "mimetype": "text/x-python",
   "name": "python",
   "nbconvert_exporter": "python",
   "pygments_lexer": "ipython3",
   "version": "3.8.10"
  }
 },
 "nbformat": 4,
 "nbformat_minor": 5
}
