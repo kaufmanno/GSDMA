{
 "cells": [
  {
   "cell_type": "markdown",
   "id": "finite-killing",
   "metadata": {},
   "source": [
    "# Data Gathering"
   ]
  },
  {
   "cell_type": "code",
   "execution_count": 1,
   "id": "educational-barrier",
   "metadata": {},
   "outputs": [],
   "source": [
    "from utils.io import dataframe_viewer, files_search, data_merger, data_validation, data_overview, \\\n",
    "data_filter, fix_duplicates\n",
    "\n",
    "import re, os\n",
    "import numpy as np\n",
    "import pandas as pd\n",
    "import datetime as dtm\n",
    "from definitions import ROOT_DIR"
   ]
  },
  {
   "cell_type": "code",
   "execution_count": 2,
   "id": "representative-bunny",
   "metadata": {},
   "outputs": [],
   "source": [
    "def create_df(files, verbose=True): # find another name for this function\n",
    "    \"\"\"\n",
    "    create dataframes from files and test if they contain position informations\n",
    "    files: list of files name\n",
    "    \"\"\"\n",
    "    dfs = []\n",
    "    for f in files:\n",
    "        df = pd.read_csv(f, delimiter=',')\n",
    "        dfs.append(df)\n",
    "        \n",
    "        if verbose:\n",
    "            if 'X' in list(df.columns): msg = ' --> Coordinates'\n",
    "            else: msg = ' --> No coordinates'\n",
    "\n",
    "            print(f\"df1 : {msg}\")\n",
    "            \n",
    "    return dfs"
   ]
  },
  {
   "cell_type": "markdown",
   "id": "enhanced-noise",
   "metadata": {},
   "source": [
    "## Reading files"
   ]
  },
  {
   "cell_type": "code",
   "execution_count": 3,
   "id": "vanilla-bones",
   "metadata": {},
   "outputs": [],
   "source": [
    "work_dir = ROOT_DIR+'/CF_data/Result_traitem/'\n",
    "save_dir = ROOT_DIR+'/CF_data/Donnees_fusionnees/'"
   ]
  },
  {
   "cell_type": "code",
   "execution_count": 4,
   "id": "confused-pleasure",
   "metadata": {},
   "outputs": [],
   "source": [
    "# create my dictionary structure to retrieve good files (Keynames !!!)\n",
    "files_dict={'Borehole':0,'Piezometer':0,'Piezair':0,'Trench':0,'Litho':0,'Equipm':0,\n",
    "        'Measure':0,'Sample':0,'Analysis':0,'Facility':0}"
   ]
  },
  {
   "cell_type": "code",
   "execution_count": 5,
   "id": "compliant-sensitivity",
   "metadata": {
    "scrolled": true
   },
   "outputs": [
    {
     "name": "stdout",
     "output_type": "stream",
     "text": [
      "Borehole  \t:  7\n",
      "Piezometer  \t:  17\n",
      "Piezair  \t:  2\n",
      "Trench  \t:  1\n",
      "Litho  \t:  7\n",
      "Equipm  \t:  3\n",
      "Measure  \t:  6\n",
      "Sample  \t:  27\n",
      "Analysis  \t:  21\n",
      "Facility  \t:  4\n"
     ]
    }
   ],
   "source": [
    "files_search(work_dir, files_dict, prefix='', skip='source')"
   ]
  },
  {
   "cell_type": "code",
   "execution_count": 6,
   "id": "possible-bones",
   "metadata": {},
   "outputs": [],
   "source": [
    "how=['inner', 'outer', 'left', 'right']"
   ]
  },
  {
   "cell_type": "code",
   "execution_count": 7,
   "id": "national-boards",
   "metadata": {},
   "outputs": [],
   "source": [
    "f = False\n",
    "t = True"
   ]
  },
  {
   "cell_type": "markdown",
   "id": "7d829da8",
   "metadata": {},
   "source": [
    "# PIEZOMETERS PROCESSING"
   ]
  },
  {
   "cell_type": "code",
   "execution_count": 8,
   "id": "impressive-spouse",
   "metadata": {},
   "outputs": [
    {
     "name": "stdout",
     "output_type": "stream",
     "text": [
      "17 files\n"
     ]
    }
   ],
   "source": [
    "key='Piezometer'\n",
    "save_file = f'Merged_Piezometers.csv'\n",
    "coi=['ID','ID_date','X','Y','Z','Type','Long_for','Diam_for','Refus'] #columns of interest\n",
    "dataset = pd.DataFrame()\n",
    "print(len(files_dict[key]), 'files')"
   ]
  },
  {
   "cell_type": "code",
   "execution_count": 9,
   "id": "db48b5e8",
   "metadata": {},
   "outputs": [
    {
     "data": {
      "text/plain": [
       "['/home/yanathan/Projects/GSDMA/CF_data/Result_traitem/Liste_XY/Sol_Eau_Piezometers.csv',\n",
       " '/home/yanathan/Projects/GSDMA/CF_data/Result_traitem/Memoris_seafile/Result_eau_Piezometers.csv',\n",
       " '/home/yanathan/Projects/GSDMA/CF_data/Result_traitem/Phase_1_Memoris/Result_eau_Piezometers.csv',\n",
       " '/home/yanathan/Projects/GSDMA/CF_data/Result_traitem/Phase_2_Memoris/Result_eau_Piezometers.csv',\n",
       " '/home/yanathan/Projects/GSDMA/CF_data/Result_traitem/database_Memoris3/Donnees_piezos_Piezometers.csv',\n",
       " '/home/yanathan/Projects/GSDMA/CF_data/Result_traitem/database_Memoris3/Drains_Pz_ENEL_Piezometers.csv',\n",
       " '/home/yanathan/Projects/GSDMA/CF_data/Result_traitem/database_Memoris3/Profils_sol_Piezometers.csv',\n",
       " '/home/yanathan/Projects/GSDMA/CF_data/Result_traitem/database_Memoris3/Result_eau_Piezometers.csv',\n",
       " '/home/yanathan/Projects/GSDMA/CF_data/Result_traitem/database_Memoris3/Result_sol_Piezometers.csv',\n",
       " '/home/yanathan/Projects/GSDMA/CF_data/Result_traitem/donnees_terrain_2019/Donnees_forage_Piezometers.csv',\n",
       " '/home/yanathan/Projects/GSDMA/CF_data/Result_traitem/donnees_terrain_2019/Equipement_Piezometers.csv',\n",
       " '/home/yanathan/Projects/GSDMA/CF_data/Result_traitem/donnees_terrain_2019/Log_Piezometers.csv',\n",
       " '/home/yanathan/Projects/GSDMA/CF_data/Result_traitem/profils_sols_donnees_forages/Equipement_Piezometers.csv',\n",
       " '/home/yanathan/Projects/GSDMA/CF_data/Result_traitem/profils_sols_donnees_forages/donnees_forage_Piezometers.csv',\n",
       " '/home/yanathan/Projects/GSDMA/CF_data/Result_traitem/profils_sols_donnees_forages/piezometrie_Piezometers.csv',\n",
       " '/home/yanathan/Projects/GSDMA/CF_data/Result_traitem/vUmons_logsFor/Analyse_eau_Phases1&2_Piezometers.csv',\n",
       " '/home/yanathan/Projects/GSDMA/CF_data/Result_traitem/vUmons_logsFor/Analyse_sol_Phases1&2_Piezometers.csv']"
      ]
     },
     "execution_count": 9,
     "metadata": {},
     "output_type": "execute_result"
    }
   ],
   "source": [
    "files_dict[key]"
   ]
  },
  {
   "cell_type": "code",
   "execution_count": 10,
   "id": "e8bad474",
   "metadata": {
    "scrolled": true
   },
   "outputs": [
    {
     "name": "stdout",
     "output_type": "stream",
     "text": [
      "Same files:[(7, 8)]\n",
      "Files with coordinates:[0, 1, 2, 3, 4, 5, 7, 8, 9, 13, 15, 16]\n",
      "Files without coordinates:[6, 10, 11, 12, 14]\n"
     ]
    }
   ],
   "source": [
    "data_overview(files_dict[key])"
   ]
  },
  {
   "cell_type": "markdown",
   "id": "a457ac6b",
   "metadata": {},
   "source": [
    "#### $\\color{green}{\\textbf{Read and merge}}$"
   ]
  },
  {
   "cell_type": "code",
   "execution_count": 11,
   "id": "a8c1475e",
   "metadata": {
    "scrolled": false
   },
   "outputs": [
    {
     "name": "stdout",
     "output_type": "stream",
     "text": [
      "df1 :  --> Coordinates\n",
      "df1 :  --> Coordinates\n",
      "Rows : 14, columns : 10, Unique values on col 'ID': 14\n"
     ]
    },
    {
     "data": {
      "application/vnd.jupyter.widget-view+json": {
       "model_id": "8da9cd4386e9464fb1dbedc7300ff174",
       "version_major": 2,
       "version_minor": 0
      },
      "text/plain": [
       "interactive(children=(IntSlider(value=3, description='rows', max=14, min=3, readout=False), IntSlider(value=10…"
      ]
     },
     "metadata": {},
     "output_type": "display_data"
    },
    {
     "name": "stdout",
     "output_type": "stream",
     "text": [
      "Rows : 30, columns : 9, Unique values on col 'ID': 30\n"
     ]
    },
    {
     "data": {
      "application/vnd.jupyter.widget-view+json": {
       "model_id": "03559f82ea05431a93a15404c1b9dfef",
       "version_major": 2,
       "version_minor": 0
      },
      "text/plain": [
       "interactive(children=(IntSlider(value=3, description='rows', max=30, min=3, readout=False), IntSlider(value=9,…"
      ]
     },
     "metadata": {},
     "output_type": "display_data"
    },
    {
     "data": {
      "text/plain": [
       "(None, None)"
      ]
     },
     "execution_count": 11,
     "metadata": {},
     "output_type": "execute_result"
    }
   ],
   "source": [
    "file1= work_dir + 'Phase_1_Memoris/Result_eau_Piezometers.csv' # 2\n",
    "file2= work_dir + 'Memoris_seafile/Result_eau_Piezometers.csv' # 1  \n",
    "\n",
    "df1, df2 = create_df([file1, file2])\n",
    "dataframe_viewer(df1, rows=3, un_val='ID', view=t), dataframe_viewer(df2, rows=3, un_val='ID', view=t)"
   ]
  },
  {
   "cell_type": "code",
   "execution_count": 12,
   "id": "aba3d71c",
   "metadata": {},
   "outputs": [
    {
     "name": "stdout",
     "output_type": "stream",
     "text": [
      "14 duplicate objects fixed!\n"
     ]
    }
   ],
   "source": [
    "fix_duplicates(df1, df2, drop_old_id=True)"
   ]
  },
  {
   "cell_type": "code",
   "execution_count": 13,
   "id": "7de44a63",
   "metadata": {
    "scrolled": true
   },
   "outputs": [],
   "source": [
    "mdf, conflict_df=data_merger(df1, df2, how=how[1], on='ID', dist_max=1)"
   ]
  },
  {
   "cell_type": "markdown",
   "id": "1b144272",
   "metadata": {},
   "source": [
    "#### First object dataset save"
   ]
  },
  {
   "cell_type": "code",
   "execution_count": 14,
   "id": "d90786e2",
   "metadata": {},
   "outputs": [],
   "source": [
    "dataset = mdf.copy() #saving"
   ]
  },
  {
   "cell_type": "code",
   "execution_count": 15,
   "id": "8afa2a89",
   "metadata": {},
   "outputs": [
    {
     "name": "stdout",
     "output_type": "stream",
     "text": [
      "Rows : 30, columns : 11, Unique values on col 'ID': 30\n"
     ]
    },
    {
     "data": {
      "application/vnd.jupyter.widget-view+json": {
       "model_id": "096f2cabf9804e1f91cbb4e9768f90a5",
       "version_major": 2,
       "version_minor": 0
      },
      "text/plain": [
       "interactive(children=(IntSlider(value=3, description='rows', max=30, min=3, readout=False), IntSlider(value=11…"
      ]
     },
     "metadata": {},
     "output_type": "display_data"
    }
   ],
   "source": [
    "dataframe_viewer(dataset, rows=3, un_val='ID', view=t)"
   ]
  },
  {
   "cell_type": "markdown",
   "id": "b20fa9c5",
   "metadata": {},
   "source": [
    "#### $\\color{green}{\\textbf{Read and merge}}$"
   ]
  },
  {
   "cell_type": "code",
   "execution_count": 16,
   "id": "19d1144b",
   "metadata": {
    "scrolled": false
   },
   "outputs": [
    {
     "name": "stdout",
     "output_type": "stream",
     "text": [
      "df1 :  --> Coordinates\n",
      "df1 :  --> Coordinates\n",
      "Rows : 117, columns : 13, Unique values on col 'ID': 117\n"
     ]
    },
    {
     "data": {
      "application/vnd.jupyter.widget-view+json": {
       "model_id": "16662447dd94460c8def46b030255757",
       "version_major": 2,
       "version_minor": 0
      },
      "text/plain": [
       "interactive(children=(IntSlider(value=3, description='rows', max=117, min=3, readout=False), IntSlider(value=1…"
      ]
     },
     "metadata": {},
     "output_type": "display_data"
    },
    {
     "name": "stdout",
     "output_type": "stream",
     "text": [
      "Rows : 257, columns : 6, Unique values on col 'ID': 254\n"
     ]
    },
    {
     "data": {
      "application/vnd.jupyter.widget-view+json": {
       "model_id": "de89e092238b42928debbc583c96b4a2",
       "version_major": 2,
       "version_minor": 0
      },
      "text/plain": [
       "interactive(children=(IntSlider(value=3, description='rows', max=257, min=3, readout=False), IntSlider(value=6…"
      ]
     },
     "metadata": {},
     "output_type": "display_data"
    },
    {
     "data": {
      "text/plain": [
       "(None, None)"
      ]
     },
     "execution_count": 16,
     "metadata": {},
     "output_type": "execute_result"
    }
   ],
   "source": [
    "file1= work_dir + 'database_Memoris3/Donnees_piezos_Piezometers.csv' # 4\n",
    "file2= work_dir + 'Liste_XY/Sol_Eau_Piezometers.csv' # 0  \n",
    "\n",
    "\n",
    "df1, df2 = create_df([file1, file2])\n",
    "dataframe_viewer(df1, rows=3, un_val='ID', view=t), dataframe_viewer(df2, rows=3, un_val='ID', view=t)"
   ]
  },
  {
   "cell_type": "code",
   "execution_count": 17,
   "id": "ffbe83a5",
   "metadata": {},
   "outputs": [
    {
     "name": "stdout",
     "output_type": "stream",
     "text": [
      "some data must be checked !\n",
      "same objects at indices:[61, 64, 66, 69, 71, 73, 107, 114, 112, 115], will be dropped if drop is set True!\n",
      "Rows : 107 ; Columns : 14 ; Unique on 'ID' : 104 ; \n"
     ]
    }
   ],
   "source": [
    "df1, check1 = data_filter(df1, position=True, id_col='ID', expression='sup|prof', dist_max=1, drop=True, drop_old_id=True)"
   ]
  },
  {
   "cell_type": "code",
   "execution_count": 18,
   "id": "ccb34ec6",
   "metadata": {},
   "outputs": [
    {
     "name": "stdout",
     "output_type": "stream",
     "text": [
      "some data must be checked !\n",
      "same objects at indices:[0, 7, 9, 11, 32, 112], will be dropped if drop is set True!\n",
      "Rows : 251 ; Columns : 7 ; Unique on 'ID' : 245 ; \n"
     ]
    }
   ],
   "source": [
    "df2, check2 = data_filter(df2, position=True, id_col='ID', expression='sup|prof', dist_max=1, drop=True)"
   ]
  },
  {
   "cell_type": "code",
   "execution_count": 19,
   "id": "2ab30920",
   "metadata": {},
   "outputs": [
    {
     "data": {
      "text/html": [
       "<div>\n",
       "<style scoped>\n",
       "    .dataframe tbody tr th:only-of-type {\n",
       "        vertical-align: middle;\n",
       "    }\n",
       "\n",
       "    .dataframe tbody tr th {\n",
       "        vertical-align: top;\n",
       "    }\n",
       "\n",
       "    .dataframe thead th {\n",
       "        text-align: right;\n",
       "    }\n",
       "</style>\n",
       "<table border=\"1\" class=\"dataframe\">\n",
       "  <thead>\n",
       "    <tr style=\"text-align: right;\">\n",
       "      <th></th>\n",
       "      <th>ID</th>\n",
       "      <th>Origin_ID</th>\n",
       "      <th>Nappe</th>\n",
       "      <th>X</th>\n",
       "      <th>Y</th>\n",
       "      <th>Type_ech</th>\n",
       "      <th>Type</th>\n",
       "    </tr>\n",
       "  </thead>\n",
       "  <tbody>\n",
       "    <tr>\n",
       "      <th>0</th>\n",
       "      <td>160</td>\n",
       "      <td>160sup</td>\n",
       "      <td>Socle</td>\n",
       "      <td>152395.000</td>\n",
       "      <td>122839.000</td>\n",
       "      <td>Eau</td>\n",
       "      <td>Piezo</td>\n",
       "    </tr>\n",
       "    <tr>\n",
       "      <th>1</th>\n",
       "      <td>502</td>\n",
       "      <td>502</td>\n",
       "      <td>Socle</td>\n",
       "      <td>152365.000</td>\n",
       "      <td>122855.000</td>\n",
       "      <td>Eau</td>\n",
       "      <td>Piezo</td>\n",
       "    </tr>\n",
       "    <tr>\n",
       "      <th>2</th>\n",
       "      <td>502</td>\n",
       "      <td>502</td>\n",
       "      <td>Alluvions</td>\n",
       "      <td>152366.396</td>\n",
       "      <td>122857.132</td>\n",
       "      <td>Eau</td>\n",
       "      <td>Piezo</td>\n",
       "    </tr>\n",
       "    <tr>\n",
       "      <th>3</th>\n",
       "      <td>508</td>\n",
       "      <td>508</td>\n",
       "      <td>Socle</td>\n",
       "      <td>152467.000</td>\n",
       "      <td>122850.000</td>\n",
       "      <td>Eau</td>\n",
       "      <td>Piezo</td>\n",
       "    </tr>\n",
       "    <tr>\n",
       "      <th>4</th>\n",
       "      <td>512</td>\n",
       "      <td>512</td>\n",
       "      <td>Socle</td>\n",
       "      <td>152428.000</td>\n",
       "      <td>122766.000</td>\n",
       "      <td>Eau</td>\n",
       "      <td>Piezo</td>\n",
       "    </tr>\n",
       "    <tr>\n",
       "      <th>...</th>\n",
       "      <td>...</td>\n",
       "      <td>...</td>\n",
       "      <td>...</td>\n",
       "      <td>...</td>\n",
       "      <td>...</td>\n",
       "      <td>...</td>\n",
       "      <td>...</td>\n",
       "    </tr>\n",
       "    <tr>\n",
       "      <th>246</th>\n",
       "      <td>520</td>\n",
       "      <td>520</td>\n",
       "      <td>NaN</td>\n",
       "      <td>152644.000</td>\n",
       "      <td>122791.000</td>\n",
       "      <td>Sol</td>\n",
       "      <td>Piezo</td>\n",
       "    </tr>\n",
       "    <tr>\n",
       "      <th>247</th>\n",
       "      <td>524</td>\n",
       "      <td>524</td>\n",
       "      <td>NaN</td>\n",
       "      <td>152570.000</td>\n",
       "      <td>122789.000</td>\n",
       "      <td>Sol</td>\n",
       "      <td>Piezo</td>\n",
       "    </tr>\n",
       "    <tr>\n",
       "      <th>248</th>\n",
       "      <td>525</td>\n",
       "      <td>525</td>\n",
       "      <td>NaN</td>\n",
       "      <td>152548.000</td>\n",
       "      <td>122783.000</td>\n",
       "      <td>Sol</td>\n",
       "      <td>Piezo</td>\n",
       "    </tr>\n",
       "    <tr>\n",
       "      <th>249</th>\n",
       "      <td>526</td>\n",
       "      <td>526</td>\n",
       "      <td>NaN</td>\n",
       "      <td>152553.000</td>\n",
       "      <td>122757.000</td>\n",
       "      <td>Sol</td>\n",
       "      <td>Piezo</td>\n",
       "    </tr>\n",
       "    <tr>\n",
       "      <th>250</th>\n",
       "      <td>FP117</td>\n",
       "      <td>FP117sup</td>\n",
       "      <td>NaN</td>\n",
       "      <td>152750.000</td>\n",
       "      <td>122781.000</td>\n",
       "      <td>Sol</td>\n",
       "      <td>Piezo</td>\n",
       "    </tr>\n",
       "  </tbody>\n",
       "</table>\n",
       "<p>251 rows × 7 columns</p>\n",
       "</div>"
      ],
      "text/plain": [
       "        ID Origin_ID      Nappe           X           Y Type_ech   Type\n",
       "0      160    160sup      Socle  152395.000  122839.000      Eau  Piezo\n",
       "1      502       502      Socle  152365.000  122855.000      Eau  Piezo\n",
       "2      502       502  Alluvions  152366.396  122857.132      Eau  Piezo\n",
       "3      508       508      Socle  152467.000  122850.000      Eau  Piezo\n",
       "4      512       512      Socle  152428.000  122766.000      Eau  Piezo\n",
       "..     ...       ...        ...         ...         ...      ...    ...\n",
       "246    520       520        NaN  152644.000  122791.000      Sol  Piezo\n",
       "247    524       524        NaN  152570.000  122789.000      Sol  Piezo\n",
       "248    525       525        NaN  152548.000  122783.000      Sol  Piezo\n",
       "249    526       526        NaN  152553.000  122757.000      Sol  Piezo\n",
       "250  FP117  FP117sup        NaN  152750.000  122781.000      Sol  Piezo\n",
       "\n",
       "[251 rows x 7 columns]"
      ]
     },
     "execution_count": 19,
     "metadata": {},
     "output_type": "execute_result"
    }
   ],
   "source": [
    "df2"
   ]
  },
  {
   "cell_type": "code",
   "execution_count": 20,
   "id": "aca154f6",
   "metadata": {},
   "outputs": [
    {
     "name": "stdout",
     "output_type": "stream",
     "text": [
      "3 duplicate objects fixed!\n"
     ]
    }
   ],
   "source": [
    "fix_duplicates(df1, df2)"
   ]
  },
  {
   "cell_type": "code",
   "execution_count": 21,
   "id": "fee6d13a",
   "metadata": {
    "scrolled": true
   },
   "outputs": [
    {
     "name": "stdout",
     "output_type": "stream",
     "text": [
      "Conflict values present. Please resolve this manually !\n"
     ]
    }
   ],
   "source": [
    "mdf, conflict_df=data_merger(df1, df2, how=how[1], on='ID', dist_max=1)"
   ]
  },
  {
   "cell_type": "markdown",
   "id": "8db0ebd9",
   "metadata": {},
   "source": [
    "#### $\\color{blue}{\\textbf{Manage conflicts}}$"
   ]
  },
  {
   "cell_type": "code",
   "execution_count": 22,
   "id": "d004cbd2",
   "metadata": {
    "scrolled": true
   },
   "outputs": [
    {
     "data": {
      "text/html": [
       "<div>\n",
       "<style scoped>\n",
       "    .dataframe tbody tr th:only-of-type {\n",
       "        vertical-align: middle;\n",
       "    }\n",
       "\n",
       "    .dataframe tbody tr th {\n",
       "        vertical-align: top;\n",
       "    }\n",
       "\n",
       "    .dataframe thead th {\n",
       "        text-align: right;\n",
       "    }\n",
       "</style>\n",
       "<table border=\"1\" class=\"dataframe\">\n",
       "  <thead>\n",
       "    <tr style=\"text-align: right;\">\n",
       "      <th></th>\n",
       "      <th>Check_col</th>\n",
       "      <th>ID</th>\n",
       "      <th>Nappe_x</th>\n",
       "      <th>Nappe_y</th>\n",
       "      <th>Origin_ID_x</th>\n",
       "      <th>Origin_ID_y</th>\n",
       "    </tr>\n",
       "  </thead>\n",
       "  <tbody>\n",
       "    <tr>\n",
       "      <th>8</th>\n",
       "      <td>Nappe, Origin_ID</td>\n",
       "      <td>59</td>\n",
       "      <td>Remblai_All</td>\n",
       "      <td>remblais</td>\n",
       "      <td>59</td>\n",
       "      <td>P59</td>\n",
       "    </tr>\n",
       "    <tr>\n",
       "      <th>37</th>\n",
       "      <td>Origin_ID</td>\n",
       "      <td>186</td>\n",
       "      <td>Remblais</td>\n",
       "      <td>NaN</td>\n",
       "      <td>186</td>\n",
       "      <td>503</td>\n",
       "    </tr>\n",
       "    <tr>\n",
       "      <th>61</th>\n",
       "      <td>Nappe, Origin_ID</td>\n",
       "      <td>FP49</td>\n",
       "      <td>Remblai_All</td>\n",
       "      <td>Socle</td>\n",
       "      <td>FP 49 SUP</td>\n",
       "      <td>FP49sup</td>\n",
       "    </tr>\n",
       "    <tr>\n",
       "      <th>65</th>\n",
       "      <td>Nappe</td>\n",
       "      <td>FP14</td>\n",
       "      <td>Remblais</td>\n",
       "      <td>Alluvions</td>\n",
       "      <td>FP14sup</td>\n",
       "      <td>FP14sup</td>\n",
       "    </tr>\n",
       "    <tr>\n",
       "      <th>68</th>\n",
       "      <td>Nappe, Origin_ID</td>\n",
       "      <td>FP63</td>\n",
       "      <td>Remblais</td>\n",
       "      <td>Socle</td>\n",
       "      <td>FP63 sup</td>\n",
       "      <td>FP63sup</td>\n",
       "    </tr>\n",
       "    <tr>\n",
       "      <th>69</th>\n",
       "      <td>Nappe, Origin_ID</td>\n",
       "      <td>FP76</td>\n",
       "      <td>Remblais</td>\n",
       "      <td>Socle</td>\n",
       "      <td>FP76 sup</td>\n",
       "      <td>FP76sup</td>\n",
       "    </tr>\n",
       "    <tr>\n",
       "      <th>71</th>\n",
       "      <td>Nappe</td>\n",
       "      <td>501</td>\n",
       "      <td>Remblai_All</td>\n",
       "      <td>remblais</td>\n",
       "      <td>501</td>\n",
       "      <td>501</td>\n",
       "    </tr>\n",
       "    <tr>\n",
       "      <th>73</th>\n",
       "      <td>Nappe</td>\n",
       "      <td>509</td>\n",
       "      <td>All_limoneuse</td>\n",
       "      <td>Alluvions</td>\n",
       "      <td>509</td>\n",
       "      <td>509</td>\n",
       "    </tr>\n",
       "    <tr>\n",
       "      <th>74</th>\n",
       "      <td>Nappe</td>\n",
       "      <td>510</td>\n",
       "      <td>All_limoneuse</td>\n",
       "      <td>Alluvions</td>\n",
       "      <td>510</td>\n",
       "      <td>510</td>\n",
       "    </tr>\n",
       "    <tr>\n",
       "      <th>75</th>\n",
       "      <td>Nappe</td>\n",
       "      <td>511</td>\n",
       "      <td>Remblai_All</td>\n",
       "      <td>remblais</td>\n",
       "      <td>511</td>\n",
       "      <td>511</td>\n",
       "    </tr>\n",
       "    <tr>\n",
       "      <th>77</th>\n",
       "      <td>Nappe</td>\n",
       "      <td>513</td>\n",
       "      <td>Remblai_All</td>\n",
       "      <td>remblais</td>\n",
       "      <td>513</td>\n",
       "      <td>513</td>\n",
       "    </tr>\n",
       "    <tr>\n",
       "      <th>79</th>\n",
       "      <td>Nappe</td>\n",
       "      <td>528</td>\n",
       "      <td>Remblai_All</td>\n",
       "      <td>remblais</td>\n",
       "      <td>528</td>\n",
       "      <td>528</td>\n",
       "    </tr>\n",
       "    <tr>\n",
       "      <th>81</th>\n",
       "      <td>Nappe</td>\n",
       "      <td>522</td>\n",
       "      <td>Remblai_All</td>\n",
       "      <td>remblais</td>\n",
       "      <td>522</td>\n",
       "      <td>522</td>\n",
       "    </tr>\n",
       "    <tr>\n",
       "      <th>87</th>\n",
       "      <td>Nappe</td>\n",
       "      <td>534</td>\n",
       "      <td>All_limoneuse</td>\n",
       "      <td>Alluvions</td>\n",
       "      <td>534</td>\n",
       "      <td>534</td>\n",
       "    </tr>\n",
       "    <tr>\n",
       "      <th>93</th>\n",
       "      <td>Nappe</td>\n",
       "      <td>537</td>\n",
       "      <td>All_limoneuse</td>\n",
       "      <td>Alluvions</td>\n",
       "      <td>537</td>\n",
       "      <td>537</td>\n",
       "    </tr>\n",
       "    <tr>\n",
       "      <th>94</th>\n",
       "      <td>Nappe</td>\n",
       "      <td>536</td>\n",
       "      <td>All_limoneuse</td>\n",
       "      <td>Alluvions</td>\n",
       "      <td>536</td>\n",
       "      <td>536</td>\n",
       "    </tr>\n",
       "    <tr>\n",
       "      <th>95</th>\n",
       "      <td>Nappe</td>\n",
       "      <td>543</td>\n",
       "      <td>All_limoneuse</td>\n",
       "      <td>Alluvions</td>\n",
       "      <td>543</td>\n",
       "      <td>543</td>\n",
       "    </tr>\n",
       "    <tr>\n",
       "      <th>100</th>\n",
       "      <td>Origin_ID</td>\n",
       "      <td>541</td>\n",
       "      <td>Remblais</td>\n",
       "      <td>remblais</td>\n",
       "      <td>541sup R</td>\n",
       "      <td>541</td>\n",
       "    </tr>\n",
       "    <tr>\n",
       "      <th>103</th>\n",
       "      <td>Nappe</td>\n",
       "      <td>539</td>\n",
       "      <td>All_limoneuse</td>\n",
       "      <td>Alluvions</td>\n",
       "      <td>539</td>\n",
       "      <td>539</td>\n",
       "    </tr>\n",
       "    <tr>\n",
       "      <th>105</th>\n",
       "      <td>Nappe</td>\n",
       "      <td>533</td>\n",
       "      <td>All_limoneuses_graveleuses</td>\n",
       "      <td>Alluvions</td>\n",
       "      <td>533</td>\n",
       "      <td>533</td>\n",
       "    </tr>\n",
       "    <tr>\n",
       "      <th>106</th>\n",
       "      <td>Nappe, Origin_ID</td>\n",
       "      <td>502</td>\n",
       "      <td>All_limoneuses_graveleuses</td>\n",
       "      <td>Socle</td>\n",
       "      <td>502sup</td>\n",
       "      <td>502</td>\n",
       "    </tr>\n",
       "    <tr>\n",
       "      <th>108</th>\n",
       "      <td>Nappe, Origin_ID</td>\n",
       "      <td>512</td>\n",
       "      <td>Remblai_All</td>\n",
       "      <td>Socle</td>\n",
       "      <td>512sup</td>\n",
       "      <td>512</td>\n",
       "    </tr>\n",
       "    <tr>\n",
       "      <th>111</th>\n",
       "      <td>Nappe, Origin_ID</td>\n",
       "      <td>595</td>\n",
       "      <td>All_limoneuses_graveleuses</td>\n",
       "      <td>Alluvions</td>\n",
       "      <td>595sup Al</td>\n",
       "      <td>595</td>\n",
       "    </tr>\n",
       "    <tr>\n",
       "      <th>112</th>\n",
       "      <td>Nappe, Origin_ID</td>\n",
       "      <td>540</td>\n",
       "      <td>Remblais</td>\n",
       "      <td>Alluvions</td>\n",
       "      <td>540sup R</td>\n",
       "      <td>540</td>\n",
       "    </tr>\n",
       "  </tbody>\n",
       "</table>\n",
       "</div>"
      ],
      "text/plain": [
       "            Check_col    ID                     Nappe_x    Nappe_y  \\\n",
       "8    Nappe, Origin_ID    59                 Remblai_All   remblais   \n",
       "37          Origin_ID   186                    Remblais        NaN   \n",
       "61   Nappe, Origin_ID  FP49                 Remblai_All      Socle   \n",
       "65              Nappe  FP14                    Remblais  Alluvions   \n",
       "68   Nappe, Origin_ID  FP63                    Remblais      Socle   \n",
       "69   Nappe, Origin_ID  FP76                    Remblais      Socle   \n",
       "71              Nappe   501                 Remblai_All   remblais   \n",
       "73              Nappe   509               All_limoneuse  Alluvions   \n",
       "74              Nappe   510               All_limoneuse  Alluvions   \n",
       "75              Nappe   511                 Remblai_All   remblais   \n",
       "77              Nappe   513                 Remblai_All   remblais   \n",
       "79              Nappe   528                 Remblai_All   remblais   \n",
       "81              Nappe   522                 Remblai_All   remblais   \n",
       "87              Nappe   534               All_limoneuse  Alluvions   \n",
       "93              Nappe   537               All_limoneuse  Alluvions   \n",
       "94              Nappe   536               All_limoneuse  Alluvions   \n",
       "95              Nappe   543               All_limoneuse  Alluvions   \n",
       "100         Origin_ID   541                    Remblais   remblais   \n",
       "103             Nappe   539               All_limoneuse  Alluvions   \n",
       "105             Nappe   533  All_limoneuses_graveleuses  Alluvions   \n",
       "106  Nappe, Origin_ID   502  All_limoneuses_graveleuses      Socle   \n",
       "108  Nappe, Origin_ID   512                 Remblai_All      Socle   \n",
       "111  Nappe, Origin_ID   595  All_limoneuses_graveleuses  Alluvions   \n",
       "112  Nappe, Origin_ID   540                    Remblais  Alluvions   \n",
       "\n",
       "    Origin_ID_x Origin_ID_y  \n",
       "8            59         P59  \n",
       "37          186         503  \n",
       "61    FP 49 SUP     FP49sup  \n",
       "65      FP14sup     FP14sup  \n",
       "68     FP63 sup     FP63sup  \n",
       "69     FP76 sup     FP76sup  \n",
       "71          501         501  \n",
       "73          509         509  \n",
       "74          510         510  \n",
       "75          511         511  \n",
       "77          513         513  \n",
       "79          528         528  \n",
       "81          522         522  \n",
       "87          534         534  \n",
       "93          537         537  \n",
       "94          536         536  \n",
       "95          543         543  \n",
       "100    541sup R         541  \n",
       "103         539         539  \n",
       "105         533         533  \n",
       "106      502sup         502  \n",
       "108      512sup         512  \n",
       "111   595sup Al         595  \n",
       "112    540sup R         540  "
      ]
     },
     "execution_count": 22,
     "metadata": {},
     "output_type": "execute_result"
    }
   ],
   "source": [
    "conflict_df"
   ]
  },
  {
   "cell_type": "code",
   "execution_count": 23,
   "id": "9c0a61e6",
   "metadata": {},
   "outputs": [
    {
     "name": "stdout",
     "output_type": "stream",
     "text": [
      "Validation done, but conflicts remain!\n"
     ]
    }
   ],
   "source": [
    "data_validation(overall_data=mdf, conflict_data=conflict_df, index_col='index', \n",
    "                valid_dict={'Nappe_y':list(conflict_df.index)[:18]})"
   ]
  },
  {
   "cell_type": "code",
   "execution_count": 24,
   "id": "86e97ea2",
   "metadata": {
    "scrolled": true
   },
   "outputs": [
    {
     "data": {
      "text/html": [
       "<div>\n",
       "<style scoped>\n",
       "    .dataframe tbody tr th:only-of-type {\n",
       "        vertical-align: middle;\n",
       "    }\n",
       "\n",
       "    .dataframe tbody tr th {\n",
       "        vertical-align: top;\n",
       "    }\n",
       "\n",
       "    .dataframe thead th {\n",
       "        text-align: right;\n",
       "    }\n",
       "</style>\n",
       "<table border=\"1\" class=\"dataframe\">\n",
       "  <thead>\n",
       "    <tr style=\"text-align: right;\">\n",
       "      <th></th>\n",
       "      <th>Check_col</th>\n",
       "      <th>ID</th>\n",
       "      <th>Nappe_x</th>\n",
       "      <th>Nappe_y</th>\n",
       "      <th>Origin_ID_x</th>\n",
       "      <th>Origin_ID_y</th>\n",
       "    </tr>\n",
       "  </thead>\n",
       "  <tbody>\n",
       "    <tr>\n",
       "      <th>8</th>\n",
       "      <td>Origin_ID</td>\n",
       "      <td>59</td>\n",
       "      <td>Done</td>\n",
       "      <td>Done</td>\n",
       "      <td>59</td>\n",
       "      <td>P59</td>\n",
       "    </tr>\n",
       "    <tr>\n",
       "      <th>61</th>\n",
       "      <td>Origin_ID</td>\n",
       "      <td>FP49</td>\n",
       "      <td>Done</td>\n",
       "      <td>Done</td>\n",
       "      <td>FP 49 SUP</td>\n",
       "      <td>FP49sup</td>\n",
       "    </tr>\n",
       "    <tr>\n",
       "      <th>68</th>\n",
       "      <td>Origin_ID</td>\n",
       "      <td>FP63</td>\n",
       "      <td>Done</td>\n",
       "      <td>Done</td>\n",
       "      <td>FP63 sup</td>\n",
       "      <td>FP63sup</td>\n",
       "    </tr>\n",
       "    <tr>\n",
       "      <th>69</th>\n",
       "      <td>Origin_ID</td>\n",
       "      <td>FP76</td>\n",
       "      <td>Done</td>\n",
       "      <td>Done</td>\n",
       "      <td>FP76 sup</td>\n",
       "      <td>FP76sup</td>\n",
       "    </tr>\n",
       "    <tr>\n",
       "      <th>103</th>\n",
       "      <td>Nappe</td>\n",
       "      <td>539</td>\n",
       "      <td>All_limoneuse</td>\n",
       "      <td>Alluvions</td>\n",
       "      <td>539</td>\n",
       "      <td>539</td>\n",
       "    </tr>\n",
       "    <tr>\n",
       "      <th>105</th>\n",
       "      <td>Nappe</td>\n",
       "      <td>533</td>\n",
       "      <td>All_limoneuses_graveleuses</td>\n",
       "      <td>Alluvions</td>\n",
       "      <td>533</td>\n",
       "      <td>533</td>\n",
       "    </tr>\n",
       "    <tr>\n",
       "      <th>106</th>\n",
       "      <td>Nappe, Origin_ID</td>\n",
       "      <td>502</td>\n",
       "      <td>All_limoneuses_graveleuses</td>\n",
       "      <td>Socle</td>\n",
       "      <td>502sup</td>\n",
       "      <td>502</td>\n",
       "    </tr>\n",
       "    <tr>\n",
       "      <th>108</th>\n",
       "      <td>Nappe, Origin_ID</td>\n",
       "      <td>512</td>\n",
       "      <td>Remblai_All</td>\n",
       "      <td>Socle</td>\n",
       "      <td>512sup</td>\n",
       "      <td>512</td>\n",
       "    </tr>\n",
       "    <tr>\n",
       "      <th>111</th>\n",
       "      <td>Nappe, Origin_ID</td>\n",
       "      <td>595</td>\n",
       "      <td>All_limoneuses_graveleuses</td>\n",
       "      <td>Alluvions</td>\n",
       "      <td>595sup Al</td>\n",
       "      <td>595</td>\n",
       "    </tr>\n",
       "    <tr>\n",
       "      <th>112</th>\n",
       "      <td>Nappe, Origin_ID</td>\n",
       "      <td>540</td>\n",
       "      <td>Remblais</td>\n",
       "      <td>Alluvions</td>\n",
       "      <td>540sup R</td>\n",
       "      <td>540</td>\n",
       "    </tr>\n",
       "  </tbody>\n",
       "</table>\n",
       "</div>"
      ],
      "text/plain": [
       "            Check_col    ID                     Nappe_x    Nappe_y  \\\n",
       "8           Origin_ID    59                        Done       Done   \n",
       "61          Origin_ID  FP49                        Done       Done   \n",
       "68          Origin_ID  FP63                        Done       Done   \n",
       "69          Origin_ID  FP76                        Done       Done   \n",
       "103             Nappe   539               All_limoneuse  Alluvions   \n",
       "105             Nappe   533  All_limoneuses_graveleuses  Alluvions   \n",
       "106  Nappe, Origin_ID   502  All_limoneuses_graveleuses      Socle   \n",
       "108  Nappe, Origin_ID   512                 Remblai_All      Socle   \n",
       "111  Nappe, Origin_ID   595  All_limoneuses_graveleuses  Alluvions   \n",
       "112  Nappe, Origin_ID   540                    Remblais  Alluvions   \n",
       "\n",
       "    Origin_ID_x Origin_ID_y  \n",
       "8            59         P59  \n",
       "61    FP 49 SUP     FP49sup  \n",
       "68     FP63 sup     FP63sup  \n",
       "69     FP76 sup     FP76sup  \n",
       "103         539         539  \n",
       "105         533         533  \n",
       "106      502sup         502  \n",
       "108      512sup         512  \n",
       "111   595sup Al         595  \n",
       "112    540sup R         540  "
      ]
     },
     "execution_count": 24,
     "metadata": {},
     "output_type": "execute_result"
    }
   ],
   "source": [
    "conflict_df"
   ]
  },
  {
   "cell_type": "markdown",
   "id": "60bdca97",
   "metadata": {},
   "source": [
    "#### Merge with object dataset"
   ]
  },
  {
   "cell_type": "code",
   "execution_count": 25,
   "id": "a9294e8e",
   "metadata": {
    "scrolled": true
   },
   "outputs": [],
   "source": [
    "dataset, conflict_df=data_merger(dataset, mdf, how=how[1], on='ID', dist_max=1)"
   ]
  },
  {
   "cell_type": "code",
   "execution_count": 26,
   "id": "0db2f535",
   "metadata": {},
   "outputs": [],
   "source": [
    "if 'level_0' in dataset.columns:\n",
    "    if 'index' in dataset.columns:\n",
    "        dataset.drop(columns='index', inplace=True)\n",
    "    dataset.rename(columns={'level_0':'index'}, inplace=True)"
   ]
  },
  {
   "cell_type": "code",
   "execution_count": 27,
   "id": "33010411",
   "metadata": {
    "scrolled": true
   },
   "outputs": [
    {
     "name": "stdout",
     "output_type": "stream",
     "text": [
      "Rows : 363, columns : 21, Unique values on col 'ID': 346\n"
     ]
    },
    {
     "data": {
      "application/vnd.jupyter.widget-view+json": {
       "model_id": "c2c2c5aecb8440cd9aeb9fec91c37580",
       "version_major": 2,
       "version_minor": 0
      },
      "text/plain": [
       "interactive(children=(IntSlider(value=10, description='rows', max=363, min=10, readout=False), IntSlider(value…"
      ]
     },
     "metadata": {},
     "output_type": "display_data"
    }
   ],
   "source": [
    "dataframe_viewer(dataset, rows=10, un_val='ID', view=t)"
   ]
  },
  {
   "cell_type": "markdown",
   "id": "321cd531",
   "metadata": {},
   "source": [
    "#### $\\color{green}{\\textbf{Read and merge}}$"
   ]
  },
  {
   "cell_type": "code",
   "execution_count": 28,
   "id": "0a3cd181",
   "metadata": {
    "scrolled": false
   },
   "outputs": [
    {
     "name": "stdout",
     "output_type": "stream",
     "text": [
      "df1 :  --> Coordinates\n",
      "df1 :  --> Coordinates\n",
      "Rows : 10, columns : 9, Unique values on col 'ID': 10\n"
     ]
    },
    {
     "data": {
      "application/vnd.jupyter.widget-view+json": {
       "model_id": "e54b864fddc14362af655c257dc12495",
       "version_major": 2,
       "version_minor": 0
      },
      "text/plain": [
       "interactive(children=(IntSlider(value=3, description='rows', max=10, min=3, readout=False), IntSlider(value=9,…"
      ]
     },
     "metadata": {},
     "output_type": "display_data"
    },
    {
     "name": "stdout",
     "output_type": "stream",
     "text": [
      "Rows : 6, columns : 6, Unique values on col 'ID': 6\n"
     ]
    },
    {
     "data": {
      "application/vnd.jupyter.widget-view+json": {
       "model_id": "ea78fae409ba44f59a98d9d980503a67",
       "version_major": 2,
       "version_minor": 0
      },
      "text/plain": [
       "interactive(children=(IntSlider(value=3, description='rows', max=6, min=3, readout=False), IntSlider(value=6, …"
      ]
     },
     "metadata": {},
     "output_type": "display_data"
    },
    {
     "data": {
      "text/plain": [
       "(None, None)"
      ]
     },
     "execution_count": 28,
     "metadata": {},
     "output_type": "execute_result"
    }
   ],
   "source": [
    "file1= work_dir + 'Phase_2_Memoris/Result_eau_Piezometers.csv' # 3\n",
    "file2= work_dir + 'database_Memoris3/Drains_Pz_ENEL_Piezometers.csv' # 5  \n",
    "\n",
    "\n",
    "df1, df2 = create_df([file1, file2])\n",
    "dataframe_viewer(df1, rows=3, un_val='ID', view=t), dataframe_viewer(df2, rows=3, un_val='ID', view=t)"
   ]
  },
  {
   "cell_type": "code",
   "execution_count": 29,
   "id": "78549fa1",
   "metadata": {
    "scrolled": true
   },
   "outputs": [],
   "source": [
    "mdf, conflict_df=data_merger(df1, df2, how=how[1], on='ID', dist_max=1)"
   ]
  },
  {
   "cell_type": "markdown",
   "id": "ff4c8590",
   "metadata": {},
   "source": [
    "#### Merge with object dataset"
   ]
  },
  {
   "cell_type": "code",
   "execution_count": 30,
   "id": "7e9cb072",
   "metadata": {
    "scrolled": true
   },
   "outputs": [],
   "source": [
    "dataset, conflict_df=data_merger(dataset, mdf, how=how[1], on='ID', dist_max=1)"
   ]
  },
  {
   "cell_type": "code",
   "execution_count": 31,
   "id": "2b3c0457",
   "metadata": {},
   "outputs": [],
   "source": [
    "if 'level_0' in dataset.columns:\n",
    "    if 'index' in dataset.columns:\n",
    "        dataset.drop(columns='index', inplace=True)\n",
    "    dataset.rename(columns={'level_0':'index'}, inplace=True)"
   ]
  },
  {
   "cell_type": "code",
   "execution_count": 32,
   "id": "b3621f91",
   "metadata": {
    "scrolled": false
   },
   "outputs": [
    {
     "name": "stdout",
     "output_type": "stream",
     "text": [
      "Rows : 374, columns : 22, Unique values on col 'ID': 355\n"
     ]
    },
    {
     "data": {
      "application/vnd.jupyter.widget-view+json": {
       "model_id": "6e13c5105fc845bcbf4236b75ffcac8a",
       "version_major": 2,
       "version_minor": 0
      },
      "text/plain": [
       "interactive(children=(IntSlider(value=10, description='rows', max=374, min=10, readout=False), IntSlider(value…"
      ]
     },
     "metadata": {},
     "output_type": "display_data"
    }
   ],
   "source": [
    "dataframe_viewer(dataset, rows=10, un_val='ID', view=t)"
   ]
  },
  {
   "cell_type": "markdown",
   "id": "506e15b2",
   "metadata": {},
   "source": [
    "#### $\\color{green}{\\textbf{Read and merge}}$"
   ]
  },
  {
   "cell_type": "code",
   "execution_count": 33,
   "id": "bc90adef",
   "metadata": {
    "scrolled": false
   },
   "outputs": [
    {
     "name": "stdout",
     "output_type": "stream",
     "text": [
      "df1 :  --> Coordinates\n",
      "df1 :  --> Coordinates\n",
      "Rows : 3, columns : 18, Unique values on col 'ID': 3\n"
     ]
    },
    {
     "data": {
      "application/vnd.jupyter.widget-view+json": {
       "model_id": "19af2f743a7a4586a90d8e844f4b320c",
       "version_major": 2,
       "version_minor": 0
      },
      "text/plain": [
       "interactive(children=(IntSlider(value=3, description='rows', max=3, min=3, readout=False), IntSlider(value=12,…"
      ]
     },
     "metadata": {},
     "output_type": "display_data"
    },
    {
     "name": "stdout",
     "output_type": "stream",
     "text": [
      "Rows : 117, columns : 13, Unique values on col 'ID': 117\n"
     ]
    },
    {
     "data": {
      "application/vnd.jupyter.widget-view+json": {
       "model_id": "c08044112e2f4eb2b86e746a18123041",
       "version_major": 2,
       "version_minor": 0
      },
      "text/plain": [
       "interactive(children=(IntSlider(value=3, description='rows', max=117, min=3, readout=False), IntSlider(value=1…"
      ]
     },
     "metadata": {},
     "output_type": "display_data"
    },
    {
     "data": {
      "text/plain": [
       "(None, None)"
      ]
     },
     "execution_count": 33,
     "metadata": {},
     "output_type": "execute_result"
    }
   ],
   "source": [
    "file1= work_dir + 'donnees_terrain_2019/Donnees_forage_Piezometers.csv' # 9\n",
    "file2= work_dir + 'database_Memoris3/Result_eau_Piezometers.csv' # 7  \n",
    "\n",
    "df1, df2 = create_df([file1, file2])\n",
    "dataframe_viewer(df1, rows=3, un_val='ID', view=t), dataframe_viewer(df2, rows=3, un_val='ID', view=t)"
   ]
  },
  {
   "cell_type": "code",
   "execution_count": 34,
   "id": "1162d33a",
   "metadata": {},
   "outputs": [],
   "source": [
    "df1.ID = df1.ID.astype(str)\n",
    "df2.ID = df2.ID.astype(str)"
   ]
  },
  {
   "cell_type": "code",
   "execution_count": 35,
   "id": "faf68986",
   "metadata": {},
   "outputs": [
    {
     "name": "stdout",
     "output_type": "stream",
     "text": [
      "same objects at indices:[61, 64, 66, 69, 71, 73, 107, 114, 112, 115], will be dropped if drop is set True!\n",
      "Rows : 107 ; Columns : 14 ; Unique on 'ID' : 104 ; \n"
     ]
    }
   ],
   "source": [
    "df2, check = data_filter(df2, position=True, id_col='ID', expression='sup|prof', dist_max=1, drop=True, drop_old_id=True)"
   ]
  },
  {
   "cell_type": "code",
   "execution_count": 36,
   "id": "e15bc2b1",
   "metadata": {
    "scrolled": false
   },
   "outputs": [
    {
     "name": "stdout",
     "output_type": "stream",
     "text": [
      "Rows : 107, columns : 14, Unique values on col 'ID': 104\n"
     ]
    },
    {
     "data": {
      "application/vnd.jupyter.widget-view+json": {
       "model_id": "2c52169eff2c4deeb096792f6406ee59",
       "version_major": 2,
       "version_minor": 0
      },
      "text/plain": [
       "interactive(children=(IntSlider(value=10, description='rows', max=107, min=10, readout=False), IntSlider(value…"
      ]
     },
     "metadata": {},
     "output_type": "display_data"
    }
   ],
   "source": [
    "dataframe_viewer(df2, rows=10, un_val='ID', view=t)"
   ]
  },
  {
   "cell_type": "code",
   "execution_count": 37,
   "id": "ef9002dc",
   "metadata": {},
   "outputs": [
    {
     "name": "stdout",
     "output_type": "stream",
     "text": [
      "0 duplicate objects fixed!\n"
     ]
    }
   ],
   "source": [
    "fix_duplicates(df1, df2)"
   ]
  },
  {
   "cell_type": "code",
   "execution_count": 38,
   "id": "b73676a0",
   "metadata": {
    "scrolled": true
   },
   "outputs": [],
   "source": [
    "mdf, conflict_df=data_merger(df1, df2, how=how[1], on='ID', dist_max=1)"
   ]
  },
  {
   "cell_type": "markdown",
   "id": "2ec17765",
   "metadata": {},
   "source": [
    "#### Merge with object dataset"
   ]
  },
  {
   "cell_type": "code",
   "execution_count": 39,
   "id": "1334c6fd",
   "metadata": {
    "scrolled": true
   },
   "outputs": [
    {
     "name": "stdout",
     "output_type": "stream",
     "text": [
      "Conflict values present. Please resolve this manually !\n"
     ]
    }
   ],
   "source": [
    "dataset, conflict_df=data_merger(dataset, mdf, how=how[1], on='ID', dist_max=1)"
   ]
  },
  {
   "cell_type": "markdown",
   "id": "08568926",
   "metadata": {},
   "source": [
    "#### $\\color{blue}{\\textbf{Manage conflicts}}$"
   ]
  },
  {
   "cell_type": "code",
   "execution_count": 40,
   "id": "ab36d499",
   "metadata": {
    "scrolled": true
   },
   "outputs": [
    {
     "data": {
      "text/html": [
       "<div>\n",
       "<style scoped>\n",
       "    .dataframe tbody tr th:only-of-type {\n",
       "        vertical-align: middle;\n",
       "    }\n",
       "\n",
       "    .dataframe tbody tr th {\n",
       "        vertical-align: top;\n",
       "    }\n",
       "\n",
       "    .dataframe thead th {\n",
       "        text-align: right;\n",
       "    }\n",
       "</style>\n",
       "<table border=\"1\" class=\"dataframe\">\n",
       "  <thead>\n",
       "    <tr style=\"text-align: right;\">\n",
       "      <th></th>\n",
       "      <th>Check_col</th>\n",
       "      <th>ID</th>\n",
       "      <th>Nappe_x</th>\n",
       "      <th>Nappe_y</th>\n",
       "      <th>Origin_ID_x</th>\n",
       "      <th>Origin_ID_y</th>\n",
       "      <th>Long_crep_x</th>\n",
       "      <th>Long_crep_y</th>\n",
       "      <th>Long_pz_x</th>\n",
       "      <th>Long_pz_y</th>\n",
       "      <th>Zsol_x</th>\n",
       "      <th>Zsol_y</th>\n",
       "      <th>Diam_int_pz_x</th>\n",
       "      <th>Diam_int_pz_y</th>\n",
       "    </tr>\n",
       "  </thead>\n",
       "  <tbody>\n",
       "    <tr>\n",
       "      <th>36</th>\n",
       "      <td>Nappe, Origin_ID</td>\n",
       "      <td>59</td>\n",
       "      <td>remblais</td>\n",
       "      <td>Remblai_All</td>\n",
       "      <td>#conflict</td>\n",
       "      <td>59</td>\n",
       "      <td>5.8</td>\n",
       "      <td>5.8</td>\n",
       "      <td>6.944</td>\n",
       "      <td>6.944</td>\n",
       "      <td>101.960</td>\n",
       "      <td>101.960</td>\n",
       "      <td>25.0</td>\n",
       "      <td>25.0</td>\n",
       "    </tr>\n",
       "    <tr>\n",
       "      <th>65</th>\n",
       "      <td>Origin_ID</td>\n",
       "      <td>186</td>\n",
       "      <td>NaN</td>\n",
       "      <td>Remblais</td>\n",
       "      <td>#conflict</td>\n",
       "      <td>186</td>\n",
       "      <td>9.0</td>\n",
       "      <td>9.0</td>\n",
       "      <td>9.051</td>\n",
       "      <td>9.051</td>\n",
       "      <td>109.881</td>\n",
       "      <td>109.881</td>\n",
       "      <td>25.0</td>\n",
       "      <td>25.0</td>\n",
       "    </tr>\n",
       "    <tr>\n",
       "      <th>89</th>\n",
       "      <td>Nappe, Origin_ID</td>\n",
       "      <td>FP49</td>\n",
       "      <td>Socle</td>\n",
       "      <td>Remblai_All</td>\n",
       "      <td>#conflict</td>\n",
       "      <td>FP 49 SUP</td>\n",
       "      <td>5.0</td>\n",
       "      <td>5.0</td>\n",
       "      <td>NaN</td>\n",
       "      <td>NaN</td>\n",
       "      <td>NaN</td>\n",
       "      <td>NaN</td>\n",
       "      <td>41.0</td>\n",
       "      <td>41.0</td>\n",
       "    </tr>\n",
       "    <tr>\n",
       "      <th>93</th>\n",
       "      <td>Nappe, Origin_ID</td>\n",
       "      <td>FP63</td>\n",
       "      <td>Alluvions</td>\n",
       "      <td>Remblais</td>\n",
       "      <td>#conflict</td>\n",
       "      <td>FP63 sup</td>\n",
       "      <td>3.0</td>\n",
       "      <td>3.0</td>\n",
       "      <td>3.357</td>\n",
       "      <td>3.357</td>\n",
       "      <td>102.803</td>\n",
       "      <td>102.803</td>\n",
       "      <td>41.0</td>\n",
       "      <td>41.0</td>\n",
       "    </tr>\n",
       "    <tr>\n",
       "      <th>94</th>\n",
       "      <td>Origin_ID</td>\n",
       "      <td>FP76</td>\n",
       "      <td>NaN</td>\n",
       "      <td>Remblais</td>\n",
       "      <td>#conflict</td>\n",
       "      <td>FP76 sup</td>\n",
       "      <td>5.0</td>\n",
       "      <td>5.0</td>\n",
       "      <td>6.503</td>\n",
       "      <td>6.503</td>\n",
       "      <td>102.730</td>\n",
       "      <td>102.730</td>\n",
       "      <td>41.0</td>\n",
       "      <td>41.0</td>\n",
       "    </tr>\n",
       "    <tr>\n",
       "      <th>96</th>\n",
       "      <td>Nappe</td>\n",
       "      <td>501</td>\n",
       "      <td>Socle</td>\n",
       "      <td>Remblai_All</td>\n",
       "      <td>501</td>\n",
       "      <td>501</td>\n",
       "      <td>2.0</td>\n",
       "      <td>2.0</td>\n",
       "      <td>9.690</td>\n",
       "      <td>9.690</td>\n",
       "      <td>110.040</td>\n",
       "      <td>110.040</td>\n",
       "      <td>25.0</td>\n",
       "      <td>25.0</td>\n",
       "    </tr>\n",
       "    <tr>\n",
       "      <th>99</th>\n",
       "      <td>Nappe</td>\n",
       "      <td>510</td>\n",
       "      <td>remblais</td>\n",
       "      <td>All_limoneuse</td>\n",
       "      <td>510</td>\n",
       "      <td>510</td>\n",
       "      <td>3.0</td>\n",
       "      <td>3.0</td>\n",
       "      <td>5.400</td>\n",
       "      <td>5.400</td>\n",
       "      <td>104.050</td>\n",
       "      <td>104.050</td>\n",
       "      <td>41.0</td>\n",
       "      <td>41.0</td>\n",
       "    </tr>\n",
       "    <tr>\n",
       "      <th>101</th>\n",
       "      <td>Nappe</td>\n",
       "      <td>513</td>\n",
       "      <td>Alluvions</td>\n",
       "      <td>Remblai_All</td>\n",
       "      <td>513</td>\n",
       "      <td>513</td>\n",
       "      <td>3.0</td>\n",
       "      <td>3.0</td>\n",
       "      <td>7.100</td>\n",
       "      <td>7.100</td>\n",
       "      <td>104.690</td>\n",
       "      <td>104.690</td>\n",
       "      <td>41.0</td>\n",
       "      <td>41.0</td>\n",
       "    </tr>\n",
       "    <tr>\n",
       "      <th>103</th>\n",
       "      <td>Nappe</td>\n",
       "      <td>528</td>\n",
       "      <td>remblais</td>\n",
       "      <td>Remblai_All</td>\n",
       "      <td>528</td>\n",
       "      <td>528</td>\n",
       "      <td>2.0</td>\n",
       "      <td>2.0</td>\n",
       "      <td>3.670</td>\n",
       "      <td>3.670</td>\n",
       "      <td>103.500</td>\n",
       "      <td>103.500</td>\n",
       "      <td>41.0</td>\n",
       "      <td>41.0</td>\n",
       "    </tr>\n",
       "    <tr>\n",
       "      <th>105</th>\n",
       "      <td>Nappe</td>\n",
       "      <td>522</td>\n",
       "      <td>remblais</td>\n",
       "      <td>Remblai_All</td>\n",
       "      <td>522</td>\n",
       "      <td>522</td>\n",
       "      <td>2.0</td>\n",
       "      <td>2.0</td>\n",
       "      <td>2.980</td>\n",
       "      <td>2.980</td>\n",
       "      <td>103.070</td>\n",
       "      <td>103.070</td>\n",
       "      <td>41.0</td>\n",
       "      <td>41.0</td>\n",
       "    </tr>\n",
       "    <tr>\n",
       "      <th>117</th>\n",
       "      <td>Origin_ID</td>\n",
       "      <td>541</td>\n",
       "      <td>NaN</td>\n",
       "      <td>Remblais</td>\n",
       "      <td>#conflict</td>\n",
       "      <td>541sup R</td>\n",
       "      <td>4.0</td>\n",
       "      <td>4.0</td>\n",
       "      <td>5.200</td>\n",
       "      <td>5.200</td>\n",
       "      <td>101.410</td>\n",
       "      <td>101.410</td>\n",
       "      <td>25.0</td>\n",
       "      <td>25.0</td>\n",
       "    </tr>\n",
       "    <tr>\n",
       "      <th>119</th>\n",
       "      <td>Long_crep, Long_pz, Origin_ID</td>\n",
       "      <td>541</td>\n",
       "      <td>remblais</td>\n",
       "      <td>Remblais</td>\n",
       "      <td>541</td>\n",
       "      <td>541sup R</td>\n",
       "      <td>2.0</td>\n",
       "      <td>4.0</td>\n",
       "      <td>8.220</td>\n",
       "      <td>5.200</td>\n",
       "      <td>101.410</td>\n",
       "      <td>101.410</td>\n",
       "      <td>25.0</td>\n",
       "      <td>25.0</td>\n",
       "    </tr>\n",
       "    <tr>\n",
       "      <th>125</th>\n",
       "      <td>Nappe</td>\n",
       "      <td>539</td>\n",
       "      <td>#conflict</td>\n",
       "      <td>All_limoneuse</td>\n",
       "      <td>539</td>\n",
       "      <td>539</td>\n",
       "      <td>2.0</td>\n",
       "      <td>2.0</td>\n",
       "      <td>8.430</td>\n",
       "      <td>8.430</td>\n",
       "      <td>102.120</td>\n",
       "      <td>102.120</td>\n",
       "      <td>25.0</td>\n",
       "      <td>25.0</td>\n",
       "    </tr>\n",
       "    <tr>\n",
       "      <th>127</th>\n",
       "      <td>Nappe</td>\n",
       "      <td>533</td>\n",
       "      <td>#conflict</td>\n",
       "      <td>All_limoneuses_graveleuses</td>\n",
       "      <td>533</td>\n",
       "      <td>533</td>\n",
       "      <td>1.0</td>\n",
       "      <td>1.0</td>\n",
       "      <td>7.870</td>\n",
       "      <td>7.870</td>\n",
       "      <td>102.620</td>\n",
       "      <td>102.620</td>\n",
       "      <td>25.0</td>\n",
       "      <td>25.0</td>\n",
       "    </tr>\n",
       "    <tr>\n",
       "      <th>128</th>\n",
       "      <td>Nappe, Origin_ID</td>\n",
       "      <td>502</td>\n",
       "      <td>#conflict</td>\n",
       "      <td>All_limoneuses_graveleuses</td>\n",
       "      <td>#conflict</td>\n",
       "      <td>502sup</td>\n",
       "      <td>2.0</td>\n",
       "      <td>2.0</td>\n",
       "      <td>7.370</td>\n",
       "      <td>7.370</td>\n",
       "      <td>105.280</td>\n",
       "      <td>105.280</td>\n",
       "      <td>25.0</td>\n",
       "      <td>25.0</td>\n",
       "    </tr>\n",
       "    <tr>\n",
       "      <th>130</th>\n",
       "      <td>Nappe, Origin_ID</td>\n",
       "      <td>512</td>\n",
       "      <td>#conflict</td>\n",
       "      <td>Remblai_All</td>\n",
       "      <td>#conflict</td>\n",
       "      <td>512sup</td>\n",
       "      <td>3.0</td>\n",
       "      <td>3.0</td>\n",
       "      <td>4.670</td>\n",
       "      <td>4.670</td>\n",
       "      <td>104.820</td>\n",
       "      <td>104.820</td>\n",
       "      <td>41.0</td>\n",
       "      <td>41.0</td>\n",
       "    </tr>\n",
       "    <tr>\n",
       "      <th>132</th>\n",
       "      <td>Zsol, Diam_int_pz, Nappe, Long_crep, Long_pz, ...</td>\n",
       "      <td>512</td>\n",
       "      <td>Socle</td>\n",
       "      <td>Remblai_All</td>\n",
       "      <td>512</td>\n",
       "      <td>512sup</td>\n",
       "      <td>2.0</td>\n",
       "      <td>3.0</td>\n",
       "      <td>14.560</td>\n",
       "      <td>4.670</td>\n",
       "      <td>104.870</td>\n",
       "      <td>104.820</td>\n",
       "      <td>51.0</td>\n",
       "      <td>41.0</td>\n",
       "    </tr>\n",
       "    <tr>\n",
       "      <th>134</th>\n",
       "      <td>Nappe, Origin_ID</td>\n",
       "      <td>595</td>\n",
       "      <td>#conflict</td>\n",
       "      <td>All_limoneuses_graveleuses</td>\n",
       "      <td>#conflict</td>\n",
       "      <td>595sup Al</td>\n",
       "      <td>3.0</td>\n",
       "      <td>3.0</td>\n",
       "      <td>9.400</td>\n",
       "      <td>9.400</td>\n",
       "      <td>101.590</td>\n",
       "      <td>101.590</td>\n",
       "      <td>25.0</td>\n",
       "      <td>25.0</td>\n",
       "    </tr>\n",
       "    <tr>\n",
       "      <th>135</th>\n",
       "      <td>Nappe, Origin_ID</td>\n",
       "      <td>540</td>\n",
       "      <td>#conflict</td>\n",
       "      <td>Remblais</td>\n",
       "      <td>#conflict</td>\n",
       "      <td>540sup R</td>\n",
       "      <td>5.0</td>\n",
       "      <td>5.0</td>\n",
       "      <td>7.760</td>\n",
       "      <td>7.760</td>\n",
       "      <td>106.910</td>\n",
       "      <td>106.910</td>\n",
       "      <td>25.0</td>\n",
       "      <td>25.0</td>\n",
       "    </tr>\n",
       "  </tbody>\n",
       "</table>\n",
       "</div>"
      ],
      "text/plain": [
       "                                             Check_col    ID    Nappe_x  \\\n",
       "36                                    Nappe, Origin_ID    59   remblais   \n",
       "65                                           Origin_ID   186        NaN   \n",
       "89                                    Nappe, Origin_ID  FP49      Socle   \n",
       "93                                    Nappe, Origin_ID  FP63  Alluvions   \n",
       "94                                           Origin_ID  FP76        NaN   \n",
       "96                                               Nappe   501      Socle   \n",
       "99                                               Nappe   510   remblais   \n",
       "101                                              Nappe   513  Alluvions   \n",
       "103                                              Nappe   528   remblais   \n",
       "105                                              Nappe   522   remblais   \n",
       "117                                          Origin_ID   541        NaN   \n",
       "119                      Long_crep, Long_pz, Origin_ID   541   remblais   \n",
       "125                                              Nappe   539  #conflict   \n",
       "127                                              Nappe   533  #conflict   \n",
       "128                                   Nappe, Origin_ID   502  #conflict   \n",
       "130                                   Nappe, Origin_ID   512  #conflict   \n",
       "132  Zsol, Diam_int_pz, Nappe, Long_crep, Long_pz, ...   512      Socle   \n",
       "134                                   Nappe, Origin_ID   595  #conflict   \n",
       "135                                   Nappe, Origin_ID   540  #conflict   \n",
       "\n",
       "                        Nappe_y Origin_ID_x Origin_ID_y  Long_crep_x  \\\n",
       "36                  Remblai_All   #conflict          59          5.8   \n",
       "65                     Remblais   #conflict         186          9.0   \n",
       "89                  Remblai_All   #conflict   FP 49 SUP          5.0   \n",
       "93                     Remblais   #conflict    FP63 sup          3.0   \n",
       "94                     Remblais   #conflict    FP76 sup          5.0   \n",
       "96                  Remblai_All         501         501          2.0   \n",
       "99                All_limoneuse         510         510          3.0   \n",
       "101                 Remblai_All         513         513          3.0   \n",
       "103                 Remblai_All         528         528          2.0   \n",
       "105                 Remblai_All         522         522          2.0   \n",
       "117                    Remblais   #conflict    541sup R          4.0   \n",
       "119                    Remblais         541    541sup R          2.0   \n",
       "125               All_limoneuse         539         539          2.0   \n",
       "127  All_limoneuses_graveleuses         533         533          1.0   \n",
       "128  All_limoneuses_graveleuses   #conflict      502sup          2.0   \n",
       "130                 Remblai_All   #conflict      512sup          3.0   \n",
       "132                 Remblai_All         512      512sup          2.0   \n",
       "134  All_limoneuses_graveleuses   #conflict   595sup Al          3.0   \n",
       "135                    Remblais   #conflict    540sup R          5.0   \n",
       "\n",
       "     Long_crep_y  Long_pz_x  Long_pz_y   Zsol_x   Zsol_y  Diam_int_pz_x  \\\n",
       "36           5.8      6.944      6.944  101.960  101.960           25.0   \n",
       "65           9.0      9.051      9.051  109.881  109.881           25.0   \n",
       "89           5.0        NaN        NaN      NaN      NaN           41.0   \n",
       "93           3.0      3.357      3.357  102.803  102.803           41.0   \n",
       "94           5.0      6.503      6.503  102.730  102.730           41.0   \n",
       "96           2.0      9.690      9.690  110.040  110.040           25.0   \n",
       "99           3.0      5.400      5.400  104.050  104.050           41.0   \n",
       "101          3.0      7.100      7.100  104.690  104.690           41.0   \n",
       "103          2.0      3.670      3.670  103.500  103.500           41.0   \n",
       "105          2.0      2.980      2.980  103.070  103.070           41.0   \n",
       "117          4.0      5.200      5.200  101.410  101.410           25.0   \n",
       "119          4.0      8.220      5.200  101.410  101.410           25.0   \n",
       "125          2.0      8.430      8.430  102.120  102.120           25.0   \n",
       "127          1.0      7.870      7.870  102.620  102.620           25.0   \n",
       "128          2.0      7.370      7.370  105.280  105.280           25.0   \n",
       "130          3.0      4.670      4.670  104.820  104.820           41.0   \n",
       "132          3.0     14.560      4.670  104.870  104.820           51.0   \n",
       "134          3.0      9.400      9.400  101.590  101.590           25.0   \n",
       "135          5.0      7.760      7.760  106.910  106.910           25.0   \n",
       "\n",
       "     Diam_int_pz_y  \n",
       "36            25.0  \n",
       "65            25.0  \n",
       "89            41.0  \n",
       "93            41.0  \n",
       "94            41.0  \n",
       "96            25.0  \n",
       "99            41.0  \n",
       "101           41.0  \n",
       "103           41.0  \n",
       "105           41.0  \n",
       "117           25.0  \n",
       "119           25.0  \n",
       "125           25.0  \n",
       "127           25.0  \n",
       "128           25.0  \n",
       "130           41.0  \n",
       "132           41.0  \n",
       "134           25.0  \n",
       "135           25.0  "
      ]
     },
     "execution_count": 40,
     "metadata": {},
     "output_type": "execute_result"
    }
   ],
   "source": [
    "conflict_df"
   ]
  },
  {
   "cell_type": "code",
   "execution_count": 41,
   "id": "812dd47f",
   "metadata": {},
   "outputs": [
    {
     "name": "stdout",
     "output_type": "stream",
     "text": [
      "[36, 65, 89, 93, 94, 96, 99, 101, 103, 105, 117, 119, 125, 127, 128, 130, 132, 134]\n"
     ]
    }
   ],
   "source": [
    "print(list(conflict_df.index)[:18])"
   ]
  },
  {
   "cell_type": "code",
   "execution_count": 42,
   "id": "463d1e9d",
   "metadata": {},
   "outputs": [
    {
     "name": "stdout",
     "output_type": "stream",
     "text": [
      "Validation done, but conflicts remain!\n"
     ]
    }
   ],
   "source": [
    "data_validation(overall_data=mdf, conflict_data=conflict_df, index_col='index', \n",
    "                valid_dict={'Nappe_y':list(conflict_df.index)[:18]})"
   ]
  },
  {
   "cell_type": "code",
   "execution_count": 43,
   "id": "d7ac9fbd",
   "metadata": {
    "scrolled": true
   },
   "outputs": [
    {
     "data": {
      "text/html": [
       "<div>\n",
       "<style scoped>\n",
       "    .dataframe tbody tr th:only-of-type {\n",
       "        vertical-align: middle;\n",
       "    }\n",
       "\n",
       "    .dataframe tbody tr th {\n",
       "        vertical-align: top;\n",
       "    }\n",
       "\n",
       "    .dataframe thead th {\n",
       "        text-align: right;\n",
       "    }\n",
       "</style>\n",
       "<table border=\"1\" class=\"dataframe\">\n",
       "  <thead>\n",
       "    <tr style=\"text-align: right;\">\n",
       "      <th></th>\n",
       "      <th>Check_col</th>\n",
       "      <th>ID</th>\n",
       "      <th>Nappe_x</th>\n",
       "      <th>Nappe_y</th>\n",
       "      <th>Origin_ID_x</th>\n",
       "      <th>Origin_ID_y</th>\n",
       "      <th>Long_crep_x</th>\n",
       "      <th>Long_crep_y</th>\n",
       "      <th>Long_pz_x</th>\n",
       "      <th>Long_pz_y</th>\n",
       "      <th>Zsol_x</th>\n",
       "      <th>Zsol_y</th>\n",
       "      <th>Diam_int_pz_x</th>\n",
       "      <th>Diam_int_pz_y</th>\n",
       "    </tr>\n",
       "  </thead>\n",
       "  <tbody>\n",
       "    <tr>\n",
       "      <th>36</th>\n",
       "      <td>Origin_ID</td>\n",
       "      <td>59</td>\n",
       "      <td>Done</td>\n",
       "      <td>Done</td>\n",
       "      <td>#conflict</td>\n",
       "      <td>59</td>\n",
       "      <td>5.8</td>\n",
       "      <td>5.8</td>\n",
       "      <td>6.944</td>\n",
       "      <td>6.944</td>\n",
       "      <td>101.960</td>\n",
       "      <td>101.960</td>\n",
       "      <td>25.0</td>\n",
       "      <td>25.0</td>\n",
       "    </tr>\n",
       "    <tr>\n",
       "      <th>89</th>\n",
       "      <td>Origin_ID</td>\n",
       "      <td>FP49</td>\n",
       "      <td>Done</td>\n",
       "      <td>Done</td>\n",
       "      <td>#conflict</td>\n",
       "      <td>FP 49 SUP</td>\n",
       "      <td>5.0</td>\n",
       "      <td>5.0</td>\n",
       "      <td>NaN</td>\n",
       "      <td>NaN</td>\n",
       "      <td>NaN</td>\n",
       "      <td>NaN</td>\n",
       "      <td>41.0</td>\n",
       "      <td>41.0</td>\n",
       "    </tr>\n",
       "    <tr>\n",
       "      <th>93</th>\n",
       "      <td>Origin_ID</td>\n",
       "      <td>FP63</td>\n",
       "      <td>Done</td>\n",
       "      <td>Done</td>\n",
       "      <td>#conflict</td>\n",
       "      <td>FP63 sup</td>\n",
       "      <td>3.0</td>\n",
       "      <td>3.0</td>\n",
       "      <td>3.357</td>\n",
       "      <td>3.357</td>\n",
       "      <td>102.803</td>\n",
       "      <td>102.803</td>\n",
       "      <td>41.0</td>\n",
       "      <td>41.0</td>\n",
       "    </tr>\n",
       "    <tr>\n",
       "      <th>119</th>\n",
       "      <td>Long_crep, Long_pz, Origin_ID</td>\n",
       "      <td>541</td>\n",
       "      <td>Done</td>\n",
       "      <td>Done</td>\n",
       "      <td>541</td>\n",
       "      <td>541sup R</td>\n",
       "      <td>2.0</td>\n",
       "      <td>4.0</td>\n",
       "      <td>8.220</td>\n",
       "      <td>5.200</td>\n",
       "      <td>101.410</td>\n",
       "      <td>101.410</td>\n",
       "      <td>25.0</td>\n",
       "      <td>25.0</td>\n",
       "    </tr>\n",
       "    <tr>\n",
       "      <th>128</th>\n",
       "      <td>Origin_ID</td>\n",
       "      <td>502</td>\n",
       "      <td>Done</td>\n",
       "      <td>Done</td>\n",
       "      <td>#conflict</td>\n",
       "      <td>502sup</td>\n",
       "      <td>2.0</td>\n",
       "      <td>2.0</td>\n",
       "      <td>7.370</td>\n",
       "      <td>7.370</td>\n",
       "      <td>105.280</td>\n",
       "      <td>105.280</td>\n",
       "      <td>25.0</td>\n",
       "      <td>25.0</td>\n",
       "    </tr>\n",
       "    <tr>\n",
       "      <th>130</th>\n",
       "      <td>Origin_ID</td>\n",
       "      <td>512</td>\n",
       "      <td>Done</td>\n",
       "      <td>Done</td>\n",
       "      <td>#conflict</td>\n",
       "      <td>512sup</td>\n",
       "      <td>3.0</td>\n",
       "      <td>3.0</td>\n",
       "      <td>4.670</td>\n",
       "      <td>4.670</td>\n",
       "      <td>104.820</td>\n",
       "      <td>104.820</td>\n",
       "      <td>41.0</td>\n",
       "      <td>41.0</td>\n",
       "    </tr>\n",
       "    <tr>\n",
       "      <th>132</th>\n",
       "      <td>Zsol, Diam_int_pz, Long_crep, Long_pz, Origin_ID</td>\n",
       "      <td>512</td>\n",
       "      <td>Done</td>\n",
       "      <td>Done</td>\n",
       "      <td>512</td>\n",
       "      <td>512sup</td>\n",
       "      <td>2.0</td>\n",
       "      <td>3.0</td>\n",
       "      <td>14.560</td>\n",
       "      <td>4.670</td>\n",
       "      <td>104.870</td>\n",
       "      <td>104.820</td>\n",
       "      <td>51.0</td>\n",
       "      <td>41.0</td>\n",
       "    </tr>\n",
       "    <tr>\n",
       "      <th>134</th>\n",
       "      <td>Origin_ID</td>\n",
       "      <td>595</td>\n",
       "      <td>Done</td>\n",
       "      <td>Done</td>\n",
       "      <td>#conflict</td>\n",
       "      <td>595sup Al</td>\n",
       "      <td>3.0</td>\n",
       "      <td>3.0</td>\n",
       "      <td>9.400</td>\n",
       "      <td>9.400</td>\n",
       "      <td>101.590</td>\n",
       "      <td>101.590</td>\n",
       "      <td>25.0</td>\n",
       "      <td>25.0</td>\n",
       "    </tr>\n",
       "    <tr>\n",
       "      <th>135</th>\n",
       "      <td>Nappe, Origin_ID</td>\n",
       "      <td>540</td>\n",
       "      <td>#conflict</td>\n",
       "      <td>Remblais</td>\n",
       "      <td>#conflict</td>\n",
       "      <td>540sup R</td>\n",
       "      <td>5.0</td>\n",
       "      <td>5.0</td>\n",
       "      <td>7.760</td>\n",
       "      <td>7.760</td>\n",
       "      <td>106.910</td>\n",
       "      <td>106.910</td>\n",
       "      <td>25.0</td>\n",
       "      <td>25.0</td>\n",
       "    </tr>\n",
       "  </tbody>\n",
       "</table>\n",
       "</div>"
      ],
      "text/plain": [
       "                                            Check_col    ID    Nappe_x  \\\n",
       "36                                          Origin_ID    59       Done   \n",
       "89                                          Origin_ID  FP49       Done   \n",
       "93                                          Origin_ID  FP63       Done   \n",
       "119                     Long_crep, Long_pz, Origin_ID   541       Done   \n",
       "128                                         Origin_ID   502       Done   \n",
       "130                                         Origin_ID   512       Done   \n",
       "132  Zsol, Diam_int_pz, Long_crep, Long_pz, Origin_ID   512       Done   \n",
       "134                                         Origin_ID   595       Done   \n",
       "135                                  Nappe, Origin_ID   540  #conflict   \n",
       "\n",
       "      Nappe_y Origin_ID_x Origin_ID_y  Long_crep_x  Long_crep_y  Long_pz_x  \\\n",
       "36       Done   #conflict          59          5.8          5.8      6.944   \n",
       "89       Done   #conflict   FP 49 SUP          5.0          5.0        NaN   \n",
       "93       Done   #conflict    FP63 sup          3.0          3.0      3.357   \n",
       "119      Done         541    541sup R          2.0          4.0      8.220   \n",
       "128      Done   #conflict      502sup          2.0          2.0      7.370   \n",
       "130      Done   #conflict      512sup          3.0          3.0      4.670   \n",
       "132      Done         512      512sup          2.0          3.0     14.560   \n",
       "134      Done   #conflict   595sup Al          3.0          3.0      9.400   \n",
       "135  Remblais   #conflict    540sup R          5.0          5.0      7.760   \n",
       "\n",
       "     Long_pz_y   Zsol_x   Zsol_y  Diam_int_pz_x  Diam_int_pz_y  \n",
       "36       6.944  101.960  101.960           25.0           25.0  \n",
       "89         NaN      NaN      NaN           41.0           41.0  \n",
       "93       3.357  102.803  102.803           41.0           41.0  \n",
       "119      5.200  101.410  101.410           25.0           25.0  \n",
       "128      7.370  105.280  105.280           25.0           25.0  \n",
       "130      4.670  104.820  104.820           41.0           41.0  \n",
       "132      4.670  104.870  104.820           51.0           41.0  \n",
       "134      9.400  101.590  101.590           25.0           25.0  \n",
       "135      7.760  106.910  106.910           25.0           25.0  "
      ]
     },
     "execution_count": 43,
     "metadata": {},
     "output_type": "execute_result"
    }
   ],
   "source": [
    "conflict_df"
   ]
  },
  {
   "cell_type": "code",
   "execution_count": 44,
   "id": "12214cad",
   "metadata": {},
   "outputs": [],
   "source": [
    "if 'level_0' in dataset.columns:\n",
    "    if 'index' in dataset.columns:\n",
    "        dataset.drop(columns='index', inplace=True)\n",
    "    dataset.rename(columns={'level_0':'index'}, inplace=True)"
   ]
  },
  {
   "cell_type": "code",
   "execution_count": 45,
   "id": "40ec55cd",
   "metadata": {
    "scrolled": false
   },
   "outputs": [
    {
     "name": "stdout",
     "output_type": "stream",
     "text": [
      "Rows : 411, columns : 31, Unique values on col 'ID': 358\n"
     ]
    },
    {
     "data": {
      "application/vnd.jupyter.widget-view+json": {
       "model_id": "1f7d59fd58d94f1389f1bbfb0254079b",
       "version_major": 2,
       "version_minor": 0
      },
      "text/plain": [
       "interactive(children=(IntSlider(value=10, description='rows', max=411, min=10, readout=False), IntSlider(value…"
      ]
     },
     "metadata": {},
     "output_type": "display_data"
    }
   ],
   "source": [
    "dataframe_viewer(dataset, rows=10, un_val='ID', view=t)"
   ]
  },
  {
   "cell_type": "markdown",
   "id": "492b9995",
   "metadata": {},
   "source": [
    "#### $\\color{green}{\\textbf{Read and merge}}$"
   ]
  },
  {
   "cell_type": "code",
   "execution_count": 46,
   "id": "4f1e79a2",
   "metadata": {
    "scrolled": false
   },
   "outputs": [
    {
     "name": "stdout",
     "output_type": "stream",
     "text": [
      "df1 :  --> Coordinates\n",
      "df1 :  --> Coordinates\n",
      "Rows : 12, columns : 18, Unique values on col 'ID': 12\n"
     ]
    },
    {
     "data": {
      "application/vnd.jupyter.widget-view+json": {
       "model_id": "d8de2524e2794cc7866f53d57996c412",
       "version_major": 2,
       "version_minor": 0
      },
      "text/plain": [
       "interactive(children=(IntSlider(value=3, description='rows', max=12, min=3, readout=False), IntSlider(value=12…"
      ]
     },
     "metadata": {},
     "output_type": "display_data"
    },
    {
     "name": "stdout",
     "output_type": "stream",
     "text": [
      "Rows : 29, columns : 7, Unique values on col 'ID': 29\n"
     ]
    },
    {
     "data": {
      "application/vnd.jupyter.widget-view+json": {
       "model_id": "63b8be0be3374b848fa6c67bef038d0a",
       "version_major": 2,
       "version_minor": 0
      },
      "text/plain": [
       "interactive(children=(IntSlider(value=3, description='rows', max=29, min=3, readout=False), IntSlider(value=7,…"
      ]
     },
     "metadata": {},
     "output_type": "display_data"
    },
    {
     "data": {
      "text/plain": [
       "(None, None)"
      ]
     },
     "execution_count": 46,
     "metadata": {},
     "output_type": "execute_result"
    }
   ],
   "source": [
    "file1= work_dir + 'profils_sols_donnees_forages/donnees_forage_Piezometers.csv' # 13\n",
    "file2= work_dir + 'vUmons_logsFor/Analyse_eau_Phases1&2_Piezometers.csv' # 15  \n",
    "\n",
    "df1, df2 = create_df([file1, file2])\n",
    "dataframe_viewer(df1, rows=3, un_val='ID', view=t), dataframe_viewer(df2, rows=3, un_val='ID', view=t)"
   ]
  },
  {
   "cell_type": "code",
   "execution_count": 47,
   "id": "1d350117",
   "metadata": {},
   "outputs": [],
   "source": [
    "df1.ID = df1.ID.astype(str)\n",
    "df2.ID = df2.ID.astype(str)"
   ]
  },
  {
   "cell_type": "raw",
   "id": "3e66c37c",
   "metadata": {},
   "source": [
    "df2.ID.replace('^P','F', regex=True, inplace=True)"
   ]
  },
  {
   "cell_type": "code",
   "execution_count": 48,
   "id": "cc13cda8",
   "metadata": {},
   "outputs": [
    {
     "name": "stdout",
     "output_type": "stream",
     "text": [
      "1 duplicate objects fixed!\n"
     ]
    }
   ],
   "source": [
    "fix_duplicates(df1, df2, drop_old_id=True)"
   ]
  },
  {
   "cell_type": "code",
   "execution_count": 49,
   "id": "30cedda3",
   "metadata": {
    "scrolled": true
   },
   "outputs": [],
   "source": [
    "mdf, conflict_df = data_merger(df1, df2, how=how[1], on='ID', dist_max=1, error_tol_dict={1:['X', 'Y'], 0.01:['Z']})"
   ]
  },
  {
   "cell_type": "markdown",
   "id": "9ba4063b",
   "metadata": {},
   "source": [
    "#### Merge with object dataset"
   ]
  },
  {
   "cell_type": "code",
   "execution_count": 50,
   "id": "bc642263",
   "metadata": {
    "scrolled": true
   },
   "outputs": [],
   "source": [
    "dataset, conflict_df=data_merger(dataset, mdf, how=how[1], on='ID', dist_max=1)"
   ]
  },
  {
   "cell_type": "code",
   "execution_count": 51,
   "id": "5b470953",
   "metadata": {},
   "outputs": [],
   "source": [
    "if 'level_0' in dataset.columns:\n",
    "    if 'index' in dataset.columns:\n",
    "        dataset.drop(columns='index', inplace=True)\n",
    "    dataset.rename(columns={'level_0':'index'}, inplace=True)"
   ]
  },
  {
   "cell_type": "code",
   "execution_count": 52,
   "id": "f41a9757",
   "metadata": {},
   "outputs": [
    {
     "name": "stdout",
     "output_type": "stream",
     "text": [
      "Rows : 431, columns : 33, Unique values on col 'ID': 378\n"
     ]
    },
    {
     "data": {
      "application/vnd.jupyter.widget-view+json": {
       "model_id": "def4a7fedadd4b4986a6f25f2ad78b54",
       "version_major": 2,
       "version_minor": 0
      },
      "text/plain": [
       "interactive(children=(IntSlider(value=10, description='rows', max=431, min=10, readout=False), IntSlider(value…"
      ]
     },
     "metadata": {},
     "output_type": "display_data"
    }
   ],
   "source": [
    "dataframe_viewer(dataset, rows=10, un_val='ID', view=t)"
   ]
  },
  {
   "cell_type": "markdown",
   "id": "11aee71b",
   "metadata": {},
   "source": [
    "#### $\\color{green}{\\textbf{Read and merge}}$"
   ]
  },
  {
   "cell_type": "code",
   "execution_count": 53,
   "id": "85d72516",
   "metadata": {
    "scrolled": false
   },
   "outputs": [
    {
     "name": "stdout",
     "output_type": "stream",
     "text": [
      "Rows : 59, columns : 7, Unique values on col 'ID': 32\n"
     ]
    },
    {
     "data": {
      "application/vnd.jupyter.widget-view+json": {
       "model_id": "742eb0ad230649ff85c10c49d728d8e9",
       "version_major": 2,
       "version_minor": 0
      },
      "text/plain": [
       "interactive(children=(IntSlider(value=3, description='rows', max=59, min=3, readout=False), IntSlider(value=7,…"
      ]
     },
     "metadata": {},
     "output_type": "display_data"
    }
   ],
   "source": [
    "file1= work_dir + 'vUmons_logsFor/Analyse_sol_Phases1&2_Piezometers.csv' # 16\n",
    "\n",
    "df1 = pd.read_csv(file1)\n",
    "dataframe_viewer(df1, rows=3, un_val='ID', view=t)"
   ]
  },
  {
   "cell_type": "markdown",
   "id": "1deda74d",
   "metadata": {},
   "source": [
    "#### Merge with object dataset"
   ]
  },
  {
   "cell_type": "code",
   "execution_count": 54,
   "id": "f55f5d75",
   "metadata": {
    "scrolled": true
   },
   "outputs": [
    {
     "name": "stdout",
     "output_type": "stream",
     "text": [
      "Conflict values present. Please resolve this manually !\n"
     ]
    }
   ],
   "source": [
    "dataset, conflict_df=data_merger(dataset, df1, how=how[1], on='ID', dist_max=1)"
   ]
  },
  {
   "cell_type": "markdown",
   "id": "e6dd8962",
   "metadata": {},
   "source": [
    "#### $\\color{blue}{\\textbf{Manage conflicts}}$"
   ]
  },
  {
   "cell_type": "code",
   "execution_count": 55,
   "id": "eb9aa991",
   "metadata": {
    "scrolled": true
   },
   "outputs": [
    {
     "data": {
      "text/html": [
       "<div>\n",
       "<style scoped>\n",
       "    .dataframe tbody tr th:only-of-type {\n",
       "        vertical-align: middle;\n",
       "    }\n",
       "\n",
       "    .dataframe tbody tr th {\n",
       "        vertical-align: top;\n",
       "    }\n",
       "\n",
       "    .dataframe thead th {\n",
       "        text-align: right;\n",
       "    }\n",
       "</style>\n",
       "<table border=\"1\" class=\"dataframe\">\n",
       "  <thead>\n",
       "    <tr style=\"text-align: right;\">\n",
       "      <th></th>\n",
       "      <th>Check_col</th>\n",
       "      <th>ID</th>\n",
       "      <th>Long_for_x</th>\n",
       "      <th>Long_for_y</th>\n",
       "    </tr>\n",
       "  </thead>\n",
       "  <tbody>\n",
       "    <tr>\n",
       "      <th>18</th>\n",
       "      <td>Long_for</td>\n",
       "      <td>P14M</td>\n",
       "      <td>3.2</td>\n",
       "      <td>2.8</td>\n",
       "    </tr>\n",
       "  </tbody>\n",
       "</table>\n",
       "</div>"
      ],
      "text/plain": [
       "   Check_col    ID  Long_for_x  Long_for_y\n",
       "18  Long_for  P14M         3.2         2.8"
      ]
     },
     "execution_count": 55,
     "metadata": {},
     "output_type": "execute_result"
    }
   ],
   "source": [
    "conflict_df"
   ]
  },
  {
   "cell_type": "raw",
   "id": "8f67e394",
   "metadata": {},
   "source": [
    "data_validation(overall_data=mdf, conflict_data=conflict_df, index_col='index', \n",
    "                valid_dict={'Nappe_y':list(conflict_df.index)[:18]})"
   ]
  },
  {
   "cell_type": "raw",
   "id": "0c28bf94",
   "metadata": {
    "scrolled": true
   },
   "source": [
    "conflict_df"
   ]
  },
  {
   "cell_type": "code",
   "execution_count": 56,
   "id": "58604497",
   "metadata": {},
   "outputs": [],
   "source": [
    "if 'level_0' in dataset.columns:\n",
    "    if 'index' in dataset.columns:\n",
    "        dataset.drop(columns='index', inplace=True)\n",
    "    dataset.rename(columns={'level_0':'index'}, inplace=True)"
   ]
  },
  {
   "cell_type": "markdown",
   "id": "a6761e9e",
   "metadata": {},
   "source": [
    "## No position dataset"
   ]
  },
  {
   "cell_type": "markdown",
   "id": "78e512dc",
   "metadata": {},
   "source": [
    "#### $\\color{green}{\\textbf{Read and merge}}$"
   ]
  },
  {
   "cell_type": "code",
   "execution_count": 57,
   "id": "63c8d92c",
   "metadata": {},
   "outputs": [
    {
     "name": "stdout",
     "output_type": "stream",
     "text": [
      "profils_sols_donnees_forages/piezometrie_Piezometers.csv || profils_sols_donnees_forages/Equipement_Piezometers.csv\n"
     ]
    }
   ],
   "source": [
    "a, b = 14, 12\n",
    "file1= files_dict[key][a]\n",
    "file2= files_dict[key][b]\n",
    "print(files_dict[key][a].replace(work_dir,\"\"),'||', files_dict[key][b].replace(work_dir,\"\"))"
   ]
  },
  {
   "cell_type": "code",
   "execution_count": 58,
   "id": "cd1961eb",
   "metadata": {
    "scrolled": false
   },
   "outputs": [
    {
     "name": "stdout",
     "output_type": "stream",
     "text": [
      "df1 :  --> No coordinates\n",
      "df1 :  --> No coordinates\n",
      "Rows : 11, columns : 8, Unique values on col 'ID': 11\n"
     ]
    },
    {
     "data": {
      "application/vnd.jupyter.widget-view+json": {
       "model_id": "01cb07784bc0432eaaabd80505bc2377",
       "version_major": 2,
       "version_minor": 0
      },
      "text/plain": [
       "interactive(children=(IntSlider(value=3, description='rows', max=11, min=3, readout=False), IntSlider(value=8,…"
      ]
     },
     "metadata": {},
     "output_type": "display_data"
    },
    {
     "name": "stdout",
     "output_type": "stream",
     "text": [
      "Rows : 12, columns : 5, Unique values on col 'ID': 12\n"
     ]
    },
    {
     "data": {
      "application/vnd.jupyter.widget-view+json": {
       "model_id": "e857f79b1a2440bbadb7ba6c0561e48f",
       "version_major": 2,
       "version_minor": 0
      },
      "text/plain": [
       "interactive(children=(IntSlider(value=3, description='rows', max=12, min=3, readout=False), IntSlider(value=5,…"
      ]
     },
     "metadata": {},
     "output_type": "display_data"
    },
    {
     "data": {
      "text/plain": [
       "(None, None)"
      ]
     },
     "execution_count": 58,
     "metadata": {},
     "output_type": "execute_result"
    }
   ],
   "source": [
    "file1= work_dir + 'profils_sols_donnees_forages/piezometrie_Piezometers.csv' # 14\n",
    "file2= work_dir + 'profils_sols_donnees_forages/Equipement_Piezometers.csv' # 12  \n",
    "\n",
    "df1, df2 = create_df([file1, file2])\n",
    "dataframe_viewer(df1, rows=3, un_val='ID', view=t), dataframe_viewer(df2, rows=3, un_val='ID', view=t)"
   ]
  },
  {
   "cell_type": "code",
   "execution_count": 59,
   "id": "10c3c545",
   "metadata": {},
   "outputs": [],
   "source": [
    "df1.ID = df1.ID.astype(str)\n",
    "df2.ID = df2.ID.astype(str)"
   ]
  },
  {
   "cell_type": "code",
   "execution_count": 60,
   "id": "d4d411af",
   "metadata": {
    "scrolled": true
   },
   "outputs": [],
   "source": [
    "mdf, conflict_df = data_merger(df1, df2, how=how[1], on='ID', dist_max=1)"
   ]
  },
  {
   "cell_type": "code",
   "execution_count": 61,
   "id": "f7497913",
   "metadata": {},
   "outputs": [],
   "source": [
    "no_pos_dataset = mdf.copy()"
   ]
  },
  {
   "cell_type": "markdown",
   "id": "744b5499",
   "metadata": {},
   "source": [
    "#### $\\color{green}{\\textbf{Read and merge}}$"
   ]
  },
  {
   "cell_type": "code",
   "execution_count": 62,
   "id": "d652036b",
   "metadata": {
    "scrolled": false
   },
   "outputs": [
    {
     "name": "stdout",
     "output_type": "stream",
     "text": [
      "df1 :  --> No coordinates\n",
      "df1 :  --> No coordinates\n",
      "Rows : 9, columns : 5, Unique values on col 'ID': 9\n"
     ]
    },
    {
     "data": {
      "application/vnd.jupyter.widget-view+json": {
       "model_id": "618f6647ddee42f58ac33249b77cd953",
       "version_major": 2,
       "version_minor": 0
      },
      "text/plain": [
       "interactive(children=(IntSlider(value=3, description='rows', max=9, min=3, readout=False), IntSlider(value=5, …"
      ]
     },
     "metadata": {},
     "output_type": "display_data"
    },
    {
     "name": "stdout",
     "output_type": "stream",
     "text": [
      "Rows : 10, columns : 9, Unique values on col 'ID': 3\n"
     ]
    },
    {
     "data": {
      "application/vnd.jupyter.widget-view+json": {
       "model_id": "751fb70c32f94190b2c269b01bf971f1",
       "version_major": 2,
       "version_minor": 0
      },
      "text/plain": [
       "interactive(children=(IntSlider(value=3, description='rows', max=10, min=3, readout=False), IntSlider(value=9,…"
      ]
     },
     "metadata": {},
     "output_type": "display_data"
    },
    {
     "data": {
      "text/plain": [
       "(None, None)"
      ]
     },
     "execution_count": 62,
     "metadata": {},
     "output_type": "execute_result"
    }
   ],
   "source": [
    "file1= work_dir + 'donnees_terrain_2019/Equipement_Piezometers.csv' # 10\n",
    "file2= work_dir + 'donnees_terrain_2019/Log_Piezometers.csv' # 11\n",
    "\n",
    "df1, df2 = create_df([file1, file2])\n",
    "dataframe_viewer(df1, rows=3, un_val='ID', view=t), dataframe_viewer(df2, rows=3, un_val='ID', view=t)"
   ]
  },
  {
   "cell_type": "code",
   "execution_count": 63,
   "id": "d8523c2a",
   "metadata": {},
   "outputs": [],
   "source": [
    "df1.ID = df1.ID.astype(str)\n",
    "df2.ID = df2.ID.astype(str)"
   ]
  },
  {
   "cell_type": "code",
   "execution_count": 64,
   "id": "f7d1e654",
   "metadata": {
    "scrolled": true
   },
   "outputs": [],
   "source": [
    "mdf, conflict_df = data_merger(df1, df2, how=how[1], on='ID', dist_max=1)"
   ]
  },
  {
   "cell_type": "markdown",
   "id": "ee2cad41",
   "metadata": {},
   "source": [
    "#### Merge with object dataset"
   ]
  },
  {
   "cell_type": "code",
   "execution_count": 65,
   "id": "62c792da",
   "metadata": {
    "scrolled": true
   },
   "outputs": [],
   "source": [
    "no_pos_dataset, conflict_df=data_merger(no_pos_dataset, mdf, how=how[1], on='ID', dist_max=1)"
   ]
  },
  {
   "cell_type": "markdown",
   "id": "704284ff",
   "metadata": {},
   "source": [
    "#### $\\color{green}{\\textbf{Read and merge}}$"
   ]
  },
  {
   "cell_type": "code",
   "execution_count": 66,
   "id": "3db8a333",
   "metadata": {
    "scrolled": false
   },
   "outputs": [
    {
     "name": "stdout",
     "output_type": "stream",
     "text": [
      "Rows : 111, columns : 6, Unique values on col 'ID': 111\n"
     ]
    },
    {
     "data": {
      "application/vnd.jupyter.widget-view+json": {
       "model_id": "f16c6883ea8d49818834367b40651dc7",
       "version_major": 2,
       "version_minor": 0
      },
      "text/plain": [
       "interactive(children=(IntSlider(value=3, description='rows', max=111, min=3, readout=False), IntSlider(value=6…"
      ]
     },
     "metadata": {},
     "output_type": "display_data"
    }
   ],
   "source": [
    "file1= work_dir + 'database_Memoris3/Profils_sol_Piezometers.csv' # 6\n",
    "\n",
    "df1 = pd.read_csv(file1)\n",
    "dataframe_viewer(df1, rows=3, un_val='ID', view=t)"
   ]
  },
  {
   "cell_type": "markdown",
   "id": "0b34f682",
   "metadata": {},
   "source": [
    "#### Merge with object dataset"
   ]
  },
  {
   "cell_type": "code",
   "execution_count": 67,
   "id": "2f8365af",
   "metadata": {
    "scrolled": true
   },
   "outputs": [],
   "source": [
    "no_pos_dataset, conflict_df=data_merger(no_pos_dataset, df1, how=how[1], on='ID', dist_max=1)"
   ]
  },
  {
   "cell_type": "markdown",
   "id": "22b98d59",
   "metadata": {},
   "source": [
    "## final merging"
   ]
  },
  {
   "cell_type": "code",
   "execution_count": 68,
   "id": "98a1ce98",
   "metadata": {},
   "outputs": [],
   "source": [
    "dataset.ID.replace('^P','F', regex=True, inplace=True)"
   ]
  },
  {
   "cell_type": "code",
   "execution_count": 69,
   "id": "e4597af7",
   "metadata": {},
   "outputs": [],
   "source": [
    "for c in dataset.columns:\n",
    "    if c in ['index', 'Origin_ID']:\n",
    "        dataset.drop(columns=c, inplace=True)"
   ]
  },
  {
   "cell_type": "code",
   "execution_count": 70,
   "id": "c15d4f0e",
   "metadata": {},
   "outputs": [
    {
     "name": "stdout",
     "output_type": "stream",
     "text": [
      "some data must be checked !\n",
      "same objects at indices:[4, 3, 12, 18, 457], will be dropped if drop is set True!\n",
      "Rows : 460 ; Columns : 32 ; Unique on 'ID' : 364 ; \n"
     ]
    }
   ],
   "source": [
    "dataset, check1 = data_filter(dataset, position=True, id_col='ID', expression='sup|prof', \n",
    "                              dist_max=1, drop=True, drop_old_id=True)"
   ]
  },
  {
   "cell_type": "code",
   "execution_count": 71,
   "id": "d3adcf7b",
   "metadata": {
    "scrolled": true
   },
   "outputs": [
    {
     "name": "stdout",
     "output_type": "stream",
     "text": [
      "Rows : 460, columns : 32, Unique values on col 'ID': 364\n"
     ]
    },
    {
     "data": {
      "application/vnd.jupyter.widget-view+json": {
       "model_id": "019386817b9e4287be3a8e02b6f78ce5",
       "version_major": 2,
       "version_minor": 0
      },
      "text/plain": [
       "interactive(children=(IntSlider(value=3, description='rows', max=460, min=3, readout=False), IntSlider(value=1…"
      ]
     },
     "metadata": {},
     "output_type": "display_data"
    }
   ],
   "source": [
    "dataframe_viewer(dataset, rows=3, un_val='ID', view=t)"
   ]
  },
  {
   "cell_type": "code",
   "execution_count": 72,
   "id": "bcd86480",
   "metadata": {
    "scrolled": true
   },
   "outputs": [
    {
     "name": "stdout",
     "output_type": "stream",
     "text": [
      "Rows : 142, columns : 19, Unique values on col 'ID': 135\n"
     ]
    },
    {
     "data": {
      "application/vnd.jupyter.widget-view+json": {
       "model_id": "4b4145fdf7c84a499d3f2b8d54288bfe",
       "version_major": 2,
       "version_minor": 0
      },
      "text/plain": [
       "interactive(children=(IntSlider(value=3, description='rows', max=142, min=3, readout=False), IntSlider(value=1…"
      ]
     },
     "metadata": {},
     "output_type": "display_data"
    }
   ],
   "source": [
    "dataframe_viewer(no_pos_dataset, rows=3, un_val='ID', view=t)"
   ]
  },
  {
   "cell_type": "code",
   "execution_count": 73,
   "id": "09928667",
   "metadata": {},
   "outputs": [],
   "source": [
    "no_pos_dataset.ID.replace('^P','F', regex=True, inplace=True)"
   ]
  },
  {
   "cell_type": "code",
   "execution_count": 74,
   "id": "a3069cd6",
   "metadata": {
    "scrolled": true
   },
   "outputs": [
    {
     "name": "stdout",
     "output_type": "stream",
     "text": [
      "some data must be checked !\n",
      "same objects at indices:[24, 25, 22, 28, 29, 30, 26], will be dropped if drop is set True!\n",
      "Rows : 135 ; Columns : 20 ; Unique on 'ID' : 135 ; \n"
     ]
    }
   ],
   "source": [
    "no_pos_dataset, check1 = data_filter(no_pos_dataset, position=False, id_col='ID', expression='sup|prof', \n",
    "                              dist_max=1, drop=True, drop_old_id=True)"
   ]
  },
  {
   "cell_type": "code",
   "execution_count": 75,
   "id": "9885b3e3",
   "metadata": {},
   "outputs": [],
   "source": [
    "no_pos_dataset.drop(columns='Origin_ID', inplace=True)"
   ]
  },
  {
   "cell_type": "markdown",
   "id": "bb5d1a5e",
   "metadata": {},
   "source": [
    "#### Merge with object dataset"
   ]
  },
  {
   "cell_type": "code",
   "execution_count": 76,
   "id": "1a6951bd",
   "metadata": {
    "scrolled": true
   },
   "outputs": [
    {
     "name": "stdout",
     "output_type": "stream",
     "text": [
      "Conflict values present. Please resolve this manually !\n"
     ]
    }
   ],
   "source": [
    "dataset, conflict_df=data_merger(dataset, no_pos_dataset, how=how[1], on='ID', dist_max=1)"
   ]
  },
  {
   "cell_type": "markdown",
   "id": "f303784e",
   "metadata": {},
   "source": [
    "#### $\\color{blue}{\\textbf{Manage conflicts}}$"
   ]
  },
  {
   "cell_type": "code",
   "execution_count": 77,
   "id": "ee58fede",
   "metadata": {
    "scrolled": true
   },
   "outputs": [
    {
     "data": {
      "text/html": [
       "<div>\n",
       "<style scoped>\n",
       "    .dataframe tbody tr th:only-of-type {\n",
       "        vertical-align: middle;\n",
       "    }\n",
       "\n",
       "    .dataframe tbody tr th {\n",
       "        vertical-align: top;\n",
       "    }\n",
       "\n",
       "    .dataframe thead th {\n",
       "        text-align: right;\n",
       "    }\n",
       "</style>\n",
       "<table border=\"1\" class=\"dataframe\">\n",
       "  <thead>\n",
       "    <tr style=\"text-align: right;\">\n",
       "      <th></th>\n",
       "      <th>Check_col</th>\n",
       "      <th>ID</th>\n",
       "      <th>Diam_ext_pz_x</th>\n",
       "      <th>Diam_ext_pz_y</th>\n",
       "      <th>Long_pz_x</th>\n",
       "      <th>Long_pz_y</th>\n",
       "      <th>Diam_for_x</th>\n",
       "      <th>Diam_for_y</th>\n",
       "    </tr>\n",
       "  </thead>\n",
       "  <tbody>\n",
       "    <tr>\n",
       "      <th>3</th>\n",
       "      <td>Diam_ext_pz</td>\n",
       "      <td>F2M</td>\n",
       "      <td>53.0</td>\n",
       "      <td>45.0</td>\n",
       "      <td>6.00</td>\n",
       "      <td>NaN</td>\n",
       "      <td>75.0</td>\n",
       "      <td>75.0</td>\n",
       "    </tr>\n",
       "    <tr>\n",
       "      <th>6</th>\n",
       "      <td>Diam_ext_pz</td>\n",
       "      <td>F4M</td>\n",
       "      <td>53.0</td>\n",
       "      <td>45.0</td>\n",
       "      <td>4.00</td>\n",
       "      <td>NaN</td>\n",
       "      <td>75.0</td>\n",
       "      <td>75.0</td>\n",
       "    </tr>\n",
       "    <tr>\n",
       "      <th>10</th>\n",
       "      <td>Diam_ext_pz</td>\n",
       "      <td>F5M</td>\n",
       "      <td>53.0</td>\n",
       "      <td>45.0</td>\n",
       "      <td>6.00</td>\n",
       "      <td>NaN</td>\n",
       "      <td>75.0</td>\n",
       "      <td>75.0</td>\n",
       "    </tr>\n",
       "    <tr>\n",
       "      <th>13</th>\n",
       "      <td>Diam_ext_pz</td>\n",
       "      <td>F6M</td>\n",
       "      <td>53.0</td>\n",
       "      <td>45.0</td>\n",
       "      <td>3.60</td>\n",
       "      <td>NaN</td>\n",
       "      <td>75.0</td>\n",
       "      <td>75.0</td>\n",
       "    </tr>\n",
       "    <tr>\n",
       "      <th>16</th>\n",
       "      <td>Diam_ext_pz</td>\n",
       "      <td>F12M</td>\n",
       "      <td>53.0</td>\n",
       "      <td>45.0</td>\n",
       "      <td>3.50</td>\n",
       "      <td>NaN</td>\n",
       "      <td>75.0</td>\n",
       "      <td>75.0</td>\n",
       "    </tr>\n",
       "    <tr>\n",
       "      <th>17</th>\n",
       "      <td>Long_pz</td>\n",
       "      <td>F13M</td>\n",
       "      <td>NaN</td>\n",
       "      <td>45.0</td>\n",
       "      <td>3.36</td>\n",
       "      <td>4.04</td>\n",
       "      <td>NaN</td>\n",
       "      <td>75.0</td>\n",
       "    </tr>\n",
       "    <tr>\n",
       "      <th>18</th>\n",
       "      <td>Long_pz</td>\n",
       "      <td>F13M</td>\n",
       "      <td>NaN</td>\n",
       "      <td>45.0</td>\n",
       "      <td>3.36</td>\n",
       "      <td>4.04</td>\n",
       "      <td>NaN</td>\n",
       "      <td>75.0</td>\n",
       "    </tr>\n",
       "    <tr>\n",
       "      <th>19</th>\n",
       "      <td>Long_pz</td>\n",
       "      <td>F13M</td>\n",
       "      <td>NaN</td>\n",
       "      <td>45.0</td>\n",
       "      <td>3.36</td>\n",
       "      <td>4.04</td>\n",
       "      <td>NaN</td>\n",
       "      <td>75.0</td>\n",
       "    </tr>\n",
       "    <tr>\n",
       "      <th>20</th>\n",
       "      <td>Diam_ext_pz, Long_pz</td>\n",
       "      <td>F13M</td>\n",
       "      <td>53.0</td>\n",
       "      <td>45.0</td>\n",
       "      <td>3.50</td>\n",
       "      <td>4.04</td>\n",
       "      <td>75.0</td>\n",
       "      <td>75.0</td>\n",
       "    </tr>\n",
       "    <tr>\n",
       "      <th>22</th>\n",
       "      <td>Long_pz</td>\n",
       "      <td>F16M</td>\n",
       "      <td>NaN</td>\n",
       "      <td>50.0</td>\n",
       "      <td>4.39</td>\n",
       "      <td>4.85</td>\n",
       "      <td>NaN</td>\n",
       "      <td>108.0</td>\n",
       "    </tr>\n",
       "    <tr>\n",
       "      <th>23</th>\n",
       "      <td>Long_pz</td>\n",
       "      <td>F16M</td>\n",
       "      <td>NaN</td>\n",
       "      <td>50.0</td>\n",
       "      <td>4.39</td>\n",
       "      <td>4.85</td>\n",
       "      <td>NaN</td>\n",
       "      <td>108.0</td>\n",
       "    </tr>\n",
       "    <tr>\n",
       "      <th>24</th>\n",
       "      <td>Diam_for, Diam_ext_pz, Long_pz</td>\n",
       "      <td>F16M</td>\n",
       "      <td>53.0</td>\n",
       "      <td>50.0</td>\n",
       "      <td>4.80</td>\n",
       "      <td>4.85</td>\n",
       "      <td>75.0</td>\n",
       "      <td>108.0</td>\n",
       "    </tr>\n",
       "    <tr>\n",
       "      <th>426</th>\n",
       "      <td>Diam_ext_pz</td>\n",
       "      <td>50</td>\n",
       "      <td>25.0</td>\n",
       "      <td>45.0</td>\n",
       "      <td>3.60</td>\n",
       "      <td>NaN</td>\n",
       "      <td>75.0</td>\n",
       "      <td>75.0</td>\n",
       "    </tr>\n",
       "    <tr>\n",
       "      <th>427</th>\n",
       "      <td>Diam_ext_pz</td>\n",
       "      <td>51</td>\n",
       "      <td>25.0</td>\n",
       "      <td>45.0</td>\n",
       "      <td>3.60</td>\n",
       "      <td>NaN</td>\n",
       "      <td>75.0</td>\n",
       "      <td>75.0</td>\n",
       "    </tr>\n",
       "    <tr>\n",
       "      <th>429</th>\n",
       "      <td>Diam_ext_pz</td>\n",
       "      <td>52</td>\n",
       "      <td>25.0</td>\n",
       "      <td>45.0</td>\n",
       "      <td>3.60</td>\n",
       "      <td>NaN</td>\n",
       "      <td>75.0</td>\n",
       "      <td>75.0</td>\n",
       "    </tr>\n",
       "    <tr>\n",
       "      <th>445</th>\n",
       "      <td>Diam_ext_pz, Long_pz</td>\n",
       "      <td>F3M</td>\n",
       "      <td>53.0</td>\n",
       "      <td>45.0</td>\n",
       "      <td>3.30</td>\n",
       "      <td>2.98</td>\n",
       "      <td>75.0</td>\n",
       "      <td>75.0</td>\n",
       "    </tr>\n",
       "    <tr>\n",
       "      <th>446</th>\n",
       "      <td>Diam_ext_pz</td>\n",
       "      <td>F11M</td>\n",
       "      <td>53.0</td>\n",
       "      <td>45.0</td>\n",
       "      <td>3.00</td>\n",
       "      <td>NaN</td>\n",
       "      <td>75.0</td>\n",
       "      <td>75.0</td>\n",
       "    </tr>\n",
       "    <tr>\n",
       "      <th>447</th>\n",
       "      <td>Diam_for, Diam_ext_pz</td>\n",
       "      <td>F14M</td>\n",
       "      <td>53.0</td>\n",
       "      <td>50.0</td>\n",
       "      <td>2.80</td>\n",
       "      <td>NaN</td>\n",
       "      <td>75.0</td>\n",
       "      <td>250.0</td>\n",
       "    </tr>\n",
       "    <tr>\n",
       "      <th>448</th>\n",
       "      <td>Diam_for, Diam_ext_pz, Long_pz</td>\n",
       "      <td>F15bM</td>\n",
       "      <td>53.0</td>\n",
       "      <td>50.0</td>\n",
       "      <td>4.00</td>\n",
       "      <td>4.67</td>\n",
       "      <td>75.0</td>\n",
       "      <td>108.0</td>\n",
       "    </tr>\n",
       "    <tr>\n",
       "      <th>452</th>\n",
       "      <td>Diam_for, Diam_ext_pz, Long_pz</td>\n",
       "      <td>F17dM</td>\n",
       "      <td>53.0</td>\n",
       "      <td>50.0</td>\n",
       "      <td>3.60</td>\n",
       "      <td>3.97</td>\n",
       "      <td>75.0</td>\n",
       "      <td>108.0</td>\n",
       "    </tr>\n",
       "  </tbody>\n",
       "</table>\n",
       "</div>"
      ],
      "text/plain": [
       "                          Check_col     ID  Diam_ext_pz_x  Diam_ext_pz_y  \\\n",
       "3                       Diam_ext_pz    F2M           53.0           45.0   \n",
       "6                       Diam_ext_pz    F4M           53.0           45.0   \n",
       "10                      Diam_ext_pz    F5M           53.0           45.0   \n",
       "13                      Diam_ext_pz    F6M           53.0           45.0   \n",
       "16                      Diam_ext_pz   F12M           53.0           45.0   \n",
       "17                          Long_pz   F13M            NaN           45.0   \n",
       "18                          Long_pz   F13M            NaN           45.0   \n",
       "19                          Long_pz   F13M            NaN           45.0   \n",
       "20             Diam_ext_pz, Long_pz   F13M           53.0           45.0   \n",
       "22                          Long_pz   F16M            NaN           50.0   \n",
       "23                          Long_pz   F16M            NaN           50.0   \n",
       "24   Diam_for, Diam_ext_pz, Long_pz   F16M           53.0           50.0   \n",
       "426                     Diam_ext_pz     50           25.0           45.0   \n",
       "427                     Diam_ext_pz     51           25.0           45.0   \n",
       "429                     Diam_ext_pz     52           25.0           45.0   \n",
       "445            Diam_ext_pz, Long_pz    F3M           53.0           45.0   \n",
       "446                     Diam_ext_pz   F11M           53.0           45.0   \n",
       "447           Diam_for, Diam_ext_pz   F14M           53.0           50.0   \n",
       "448  Diam_for, Diam_ext_pz, Long_pz  F15bM           53.0           50.0   \n",
       "452  Diam_for, Diam_ext_pz, Long_pz  F17dM           53.0           50.0   \n",
       "\n",
       "     Long_pz_x  Long_pz_y  Diam_for_x  Diam_for_y  \n",
       "3         6.00        NaN        75.0        75.0  \n",
       "6         4.00        NaN        75.0        75.0  \n",
       "10        6.00        NaN        75.0        75.0  \n",
       "13        3.60        NaN        75.0        75.0  \n",
       "16        3.50        NaN        75.0        75.0  \n",
       "17        3.36       4.04         NaN        75.0  \n",
       "18        3.36       4.04         NaN        75.0  \n",
       "19        3.36       4.04         NaN        75.0  \n",
       "20        3.50       4.04        75.0        75.0  \n",
       "22        4.39       4.85         NaN       108.0  \n",
       "23        4.39       4.85         NaN       108.0  \n",
       "24        4.80       4.85        75.0       108.0  \n",
       "426       3.60        NaN        75.0        75.0  \n",
       "427       3.60        NaN        75.0        75.0  \n",
       "429       3.60        NaN        75.0        75.0  \n",
       "445       3.30       2.98        75.0        75.0  \n",
       "446       3.00        NaN        75.0        75.0  \n",
       "447       2.80        NaN        75.0       250.0  \n",
       "448       4.00       4.67        75.0       108.0  \n",
       "452       3.60       3.97        75.0       108.0  "
      ]
     },
     "execution_count": 77,
     "metadata": {},
     "output_type": "execute_result"
    }
   ],
   "source": [
    "conflict_df"
   ]
  },
  {
   "cell_type": "raw",
   "id": "00e2b641",
   "metadata": {},
   "source": [
    "data_validation(overall_data=mdf, conflict_data=conflict_df, index_col='index', \n",
    "                valid_dict={'Nappe_y':list(conflict_df.index)[:18]})"
   ]
  },
  {
   "cell_type": "code",
   "execution_count": 78,
   "id": "7dd2679a",
   "metadata": {},
   "outputs": [
    {
     "name": "stdout",
     "output_type": "stream",
     "text": [
      "some data must be checked !\n",
      "same objects at indices:[1, 2, 0, 5, 4, 8, 9, 7, 12, 11, 15, 14, 18, 19, 17, 24, 22, 144, 150, 143, 155, 363, 373, 387, 420, 418, 424, 422, 430, 439, 441, 435], will be dropped if drop is set True!\n",
      "Rows : 492 ; Columns : 42 ; Unique on 'ID' : 428 ; \n"
     ]
    }
   ],
   "source": [
    "dataset, check1 = data_filter(dataset, position=True, id_col='ID', expression='sup|prof', \n",
    "                              dist_max=1, drop=True, drop_old_id=True)"
   ]
  },
  {
   "cell_type": "code",
   "execution_count": 79,
   "id": "adf5cf50",
   "metadata": {},
   "outputs": [
    {
     "data": {
      "text/html": [
       "<div>\n",
       "<style scoped>\n",
       "    .dataframe tbody tr th:only-of-type {\n",
       "        vertical-align: middle;\n",
       "    }\n",
       "\n",
       "    .dataframe tbody tr th {\n",
       "        vertical-align: top;\n",
       "    }\n",
       "\n",
       "    .dataframe thead th {\n",
       "        text-align: right;\n",
       "    }\n",
       "</style>\n",
       "<table border=\"1\" class=\"dataframe\">\n",
       "  <thead>\n",
       "    <tr style=\"text-align: right;\">\n",
       "      <th></th>\n",
       "      <th>Check_col</th>\n",
       "      <th>Refus</th>\n",
       "      <th>Description</th>\n",
       "      <th>Keyword</th>\n",
       "      <th>Resp_chantier</th>\n",
       "      <th>Sous_zone</th>\n",
       "      <th>Type_ech</th>\n",
       "      <th>Type_refus</th>\n",
       "      <th>Method</th>\n",
       "      <th>Methode</th>\n",
       "      <th>Date_ouv</th>\n",
       "      <th>Zone</th>\n",
       "      <th>Societe</th>\n",
       "      <th>Type_equip</th>\n",
       "      <th>ID_2</th>\n",
       "      <th>Nappe</th>\n",
       "      <th>ID</th>\n",
       "    </tr>\n",
       "  </thead>\n",
       "  <tbody>\n",
       "    <tr>\n",
       "      <th>1</th>\n",
       "      <td>Refus, Description, Keyword, Resp_chantier, So...</td>\n",
       "      <td>NaN</td>\n",
       "      <td>NaN</td>\n",
       "      <td>NaN</td>\n",
       "      <td>NaN</td>\n",
       "      <td>NaN</td>\n",
       "      <td>NaN</td>\n",
       "      <td>NaN</td>\n",
       "      <td>NaN</td>\n",
       "      <td>NaN</td>\n",
       "      <td>NaN</td>\n",
       "      <td>NaN</td>\n",
       "      <td>NaN</td>\n",
       "      <td>Crepine</td>\n",
       "      <td>P2M</td>\n",
       "      <td>Remblais + limons</td>\n",
       "      <td>F2M</td>\n",
       "    </tr>\n",
       "    <tr>\n",
       "      <th>2</th>\n",
       "      <td>Refus, Description, Keyword, Resp_chantier, So...</td>\n",
       "      <td>NaN</td>\n",
       "      <td>NaN</td>\n",
       "      <td>NaN</td>\n",
       "      <td>NaN</td>\n",
       "      <td>NaN</td>\n",
       "      <td>NaN</td>\n",
       "      <td>NaN</td>\n",
       "      <td>NaN</td>\n",
       "      <td>NaN</td>\n",
       "      <td>NaN</td>\n",
       "      <td>NaN</td>\n",
       "      <td>NaN</td>\n",
       "      <td>Crepine</td>\n",
       "      <td>P2M</td>\n",
       "      <td>Remblais + limons</td>\n",
       "      <td>F2M</td>\n",
       "    </tr>\n",
       "    <tr>\n",
       "      <th>3</th>\n",
       "      <td>Refus, Description, Keyword, Resp_chantier, So...</td>\n",
       "      <td>NaN</td>\n",
       "      <td>NaN</td>\n",
       "      <td>NaN</td>\n",
       "      <td>NaN</td>\n",
       "      <td>NaN</td>\n",
       "      <td>NaN</td>\n",
       "      <td>NaN</td>\n",
       "      <td>Dual tube</td>\n",
       "      <td>NaN</td>\n",
       "      <td>2017-02-22</td>\n",
       "      <td>NaN</td>\n",
       "      <td>ECOPLANNING sprl</td>\n",
       "      <td>NaN</td>\n",
       "      <td>P2M</td>\n",
       "      <td>Remblais + limons</td>\n",
       "      <td>F2M</td>\n",
       "    </tr>\n",
       "    <tr>\n",
       "      <th>5</th>\n",
       "      <td>Refus, Description, Keyword, Resp_chantier, So...</td>\n",
       "      <td>NaN</td>\n",
       "      <td>NaN</td>\n",
       "      <td>NaN</td>\n",
       "      <td>NaN</td>\n",
       "      <td>NaN</td>\n",
       "      <td>NaN</td>\n",
       "      <td>NaN</td>\n",
       "      <td>NaN</td>\n",
       "      <td>NaN</td>\n",
       "      <td>NaN</td>\n",
       "      <td>NaN</td>\n",
       "      <td>NaN</td>\n",
       "      <td>Crepine</td>\n",
       "      <td>P4M</td>\n",
       "      <td>Remblais</td>\n",
       "      <td>F4M</td>\n",
       "    </tr>\n",
       "    <tr>\n",
       "      <th>6</th>\n",
       "      <td>Refus, Description, Keyword, Resp_chantier, So...</td>\n",
       "      <td>NaN</td>\n",
       "      <td>NaN</td>\n",
       "      <td>NaN</td>\n",
       "      <td>NaN</td>\n",
       "      <td>NaN</td>\n",
       "      <td>NaN</td>\n",
       "      <td>NaN</td>\n",
       "      <td>Dual tube</td>\n",
       "      <td>NaN</td>\n",
       "      <td>2017-02-22</td>\n",
       "      <td>NaN</td>\n",
       "      <td>ECOPLANNING sprl</td>\n",
       "      <td>NaN</td>\n",
       "      <td>P4M</td>\n",
       "      <td>Remblais</td>\n",
       "      <td>F4M</td>\n",
       "    </tr>\n",
       "    <tr>\n",
       "      <th>8</th>\n",
       "      <td>Refus, Description, Keyword, Resp_chantier, So...</td>\n",
       "      <td>NaN</td>\n",
       "      <td>NaN</td>\n",
       "      <td>NaN</td>\n",
       "      <td>NaN</td>\n",
       "      <td>NaN</td>\n",
       "      <td>NaN</td>\n",
       "      <td>NaN</td>\n",
       "      <td>NaN</td>\n",
       "      <td>NaN</td>\n",
       "      <td>NaN</td>\n",
       "      <td>NaN</td>\n",
       "      <td>NaN</td>\n",
       "      <td>Crepine</td>\n",
       "      <td>P5M</td>\n",
       "      <td>Remblais + limons</td>\n",
       "      <td>F5M</td>\n",
       "    </tr>\n",
       "    <tr>\n",
       "      <th>9</th>\n",
       "      <td>Refus, Description, Keyword, Resp_chantier, So...</td>\n",
       "      <td>NaN</td>\n",
       "      <td>NaN</td>\n",
       "      <td>NaN</td>\n",
       "      <td>NaN</td>\n",
       "      <td>NaN</td>\n",
       "      <td>NaN</td>\n",
       "      <td>NaN</td>\n",
       "      <td>NaN</td>\n",
       "      <td>NaN</td>\n",
       "      <td>NaN</td>\n",
       "      <td>NaN</td>\n",
       "      <td>NaN</td>\n",
       "      <td>Crepine</td>\n",
       "      <td>P5M</td>\n",
       "      <td>Remblais + limons</td>\n",
       "      <td>F5M</td>\n",
       "    </tr>\n",
       "    <tr>\n",
       "      <th>10</th>\n",
       "      <td>Refus, Description, Keyword, Resp_chantier, So...</td>\n",
       "      <td>NaN</td>\n",
       "      <td>NaN</td>\n",
       "      <td>NaN</td>\n",
       "      <td>NaN</td>\n",
       "      <td>NaN</td>\n",
       "      <td>NaN</td>\n",
       "      <td>NaN</td>\n",
       "      <td>Dual tube</td>\n",
       "      <td>NaN</td>\n",
       "      <td>2017-02-22</td>\n",
       "      <td>NaN</td>\n",
       "      <td>ECOPLANNING sprl</td>\n",
       "      <td>NaN</td>\n",
       "      <td>P5M</td>\n",
       "      <td>Remblais + limons</td>\n",
       "      <td>F5M</td>\n",
       "    </tr>\n",
       "    <tr>\n",
       "      <th>12</th>\n",
       "      <td>Refus, Description, Keyword, Resp_chantier, So...</td>\n",
       "      <td>NaN</td>\n",
       "      <td>NaN</td>\n",
       "      <td>NaN</td>\n",
       "      <td>NaN</td>\n",
       "      <td>NaN</td>\n",
       "      <td>NaN</td>\n",
       "      <td>NaN</td>\n",
       "      <td>NaN</td>\n",
       "      <td>NaN</td>\n",
       "      <td>NaN</td>\n",
       "      <td>NaN</td>\n",
       "      <td>NaN</td>\n",
       "      <td>Crepine</td>\n",
       "      <td>P6M</td>\n",
       "      <td>Remblais</td>\n",
       "      <td>F6M</td>\n",
       "    </tr>\n",
       "    <tr>\n",
       "      <th>13</th>\n",
       "      <td>Refus, Description, Keyword, Resp_chantier, So...</td>\n",
       "      <td>NaN</td>\n",
       "      <td>NaN</td>\n",
       "      <td>NaN</td>\n",
       "      <td>NaN</td>\n",
       "      <td>NaN</td>\n",
       "      <td>NaN</td>\n",
       "      <td>NaN</td>\n",
       "      <td>Dual tube</td>\n",
       "      <td>NaN</td>\n",
       "      <td>2017-02-22</td>\n",
       "      <td>NaN</td>\n",
       "      <td>ECOPLANNING sprl</td>\n",
       "      <td>NaN</td>\n",
       "      <td>P6M</td>\n",
       "      <td>Remblais</td>\n",
       "      <td>F6M</td>\n",
       "    </tr>\n",
       "    <tr>\n",
       "      <th>15</th>\n",
       "      <td>Refus, Description, Keyword, Resp_chantier, So...</td>\n",
       "      <td>NaN</td>\n",
       "      <td>NaN</td>\n",
       "      <td>NaN</td>\n",
       "      <td>NaN</td>\n",
       "      <td>NaN</td>\n",
       "      <td>NaN</td>\n",
       "      <td>NaN</td>\n",
       "      <td>NaN</td>\n",
       "      <td>NaN</td>\n",
       "      <td>NaN</td>\n",
       "      <td>NaN</td>\n",
       "      <td>NaN</td>\n",
       "      <td>Crepine</td>\n",
       "      <td>P12M</td>\n",
       "      <td>Remblais</td>\n",
       "      <td>F12M</td>\n",
       "    </tr>\n",
       "    <tr>\n",
       "      <th>16</th>\n",
       "      <td>Refus, Description, Keyword, Resp_chantier, So...</td>\n",
       "      <td>NaN</td>\n",
       "      <td>NaN</td>\n",
       "      <td>NaN</td>\n",
       "      <td>NaN</td>\n",
       "      <td>NaN</td>\n",
       "      <td>NaN</td>\n",
       "      <td>NaN</td>\n",
       "      <td>Dual tube</td>\n",
       "      <td>NaN</td>\n",
       "      <td>2017-02-23</td>\n",
       "      <td>NaN</td>\n",
       "      <td>ECOPLANNING sprl</td>\n",
       "      <td>NaN</td>\n",
       "      <td>P12M</td>\n",
       "      <td>Remblais</td>\n",
       "      <td>F12M</td>\n",
       "    </tr>\n",
       "    <tr>\n",
       "      <th>18</th>\n",
       "      <td>Refus, Description, Keyword, Resp_chantier, So...</td>\n",
       "      <td>NaN</td>\n",
       "      <td>NaN</td>\n",
       "      <td>NaN</td>\n",
       "      <td>NaN</td>\n",
       "      <td>NaN</td>\n",
       "      <td>NaN</td>\n",
       "      <td>NaN</td>\n",
       "      <td>NaN</td>\n",
       "      <td>NaN</td>\n",
       "      <td>NaN</td>\n",
       "      <td>NaN</td>\n",
       "      <td>NaN</td>\n",
       "      <td>Crepine</td>\n",
       "      <td>P13M</td>\n",
       "      <td>Remblais</td>\n",
       "      <td>F13M</td>\n",
       "    </tr>\n",
       "    <tr>\n",
       "      <th>19</th>\n",
       "      <td>Refus, Description, Keyword, Resp_chantier, So...</td>\n",
       "      <td>NaN</td>\n",
       "      <td>NaN</td>\n",
       "      <td>NaN</td>\n",
       "      <td>NaN</td>\n",
       "      <td>NaN</td>\n",
       "      <td>NaN</td>\n",
       "      <td>NaN</td>\n",
       "      <td>NaN</td>\n",
       "      <td>NaN</td>\n",
       "      <td>NaN</td>\n",
       "      <td>NaN</td>\n",
       "      <td>NaN</td>\n",
       "      <td>Crepine</td>\n",
       "      <td>P13M</td>\n",
       "      <td>Remblais</td>\n",
       "      <td>F13M</td>\n",
       "    </tr>\n",
       "    <tr>\n",
       "      <th>20</th>\n",
       "      <td>Refus, Description, Keyword, Resp_chantier, So...</td>\n",
       "      <td>NaN</td>\n",
       "      <td>NaN</td>\n",
       "      <td>NaN</td>\n",
       "      <td>NaN</td>\n",
       "      <td>NaN</td>\n",
       "      <td>NaN</td>\n",
       "      <td>NaN</td>\n",
       "      <td>Dual tube</td>\n",
       "      <td>NaN</td>\n",
       "      <td>2017-02-23</td>\n",
       "      <td>NaN</td>\n",
       "      <td>ECOPLANNING sprl</td>\n",
       "      <td>NaN</td>\n",
       "      <td>P13M</td>\n",
       "      <td>Remblais</td>\n",
       "      <td>F13M</td>\n",
       "    </tr>\n",
       "    <tr>\n",
       "      <th>23</th>\n",
       "      <td>Refus, Description, Keyword, Resp_chantier, So...</td>\n",
       "      <td>NaN</td>\n",
       "      <td>NaN</td>\n",
       "      <td>NaN</td>\n",
       "      <td>NaN</td>\n",
       "      <td>NaN</td>\n",
       "      <td>NaN</td>\n",
       "      <td>NaN</td>\n",
       "      <td>NaN</td>\n",
       "      <td>NaN</td>\n",
       "      <td>NaN</td>\n",
       "      <td>NaN</td>\n",
       "      <td>NaN</td>\n",
       "      <td>Crepine</td>\n",
       "      <td>P16M</td>\n",
       "      <td>Remblais</td>\n",
       "      <td>F16M</td>\n",
       "    </tr>\n",
       "    <tr>\n",
       "      <th>24</th>\n",
       "      <td>Refus, Description, Keyword, Resp_chantier, So...</td>\n",
       "      <td>NaN</td>\n",
       "      <td>NaN</td>\n",
       "      <td>NaN</td>\n",
       "      <td>NaN</td>\n",
       "      <td>NaN</td>\n",
       "      <td>NaN</td>\n",
       "      <td>NaN</td>\n",
       "      <td>Dual tube</td>\n",
       "      <td>NaN</td>\n",
       "      <td>2017-02-23</td>\n",
       "      <td>NaN</td>\n",
       "      <td>ECOPLANNING sprl</td>\n",
       "      <td>NaN</td>\n",
       "      <td>P16M</td>\n",
       "      <td>Remblais</td>\n",
       "      <td>F16M</td>\n",
       "    </tr>\n",
       "    <tr>\n",
       "      <th>30</th>\n",
       "      <td>Refus, Description, Keyword, Resp_chantier, So...</td>\n",
       "      <td>NaN</td>\n",
       "      <td>NaN</td>\n",
       "      <td>NaN</td>\n",
       "      <td>NaN</td>\n",
       "      <td>NaN</td>\n",
       "      <td>NaN</td>\n",
       "      <td>NaN</td>\n",
       "      <td>NaN</td>\n",
       "      <td>NaN</td>\n",
       "      <td>NaN</td>\n",
       "      <td>NaN</td>\n",
       "      <td>NaN</td>\n",
       "      <td>Crepine</td>\n",
       "      <td>NaN</td>\n",
       "      <td>NaN</td>\n",
       "      <td>F19</td>\n",
       "    </tr>\n",
       "    <tr>\n",
       "      <th>32</th>\n",
       "      <td>Refus, Description, Keyword, Resp_chantier, So...</td>\n",
       "      <td>NaN</td>\n",
       "      <td>NaN</td>\n",
       "      <td>NaN</td>\n",
       "      <td>NaN</td>\n",
       "      <td>NaN</td>\n",
       "      <td>NaN</td>\n",
       "      <td>NaN</td>\n",
       "      <td>NaN</td>\n",
       "      <td>NaN</td>\n",
       "      <td>NaN</td>\n",
       "      <td>NaN</td>\n",
       "      <td>NaN</td>\n",
       "      <td>Crepine</td>\n",
       "      <td>NaN</td>\n",
       "      <td>NaN</td>\n",
       "      <td>F20</td>\n",
       "    </tr>\n",
       "    <tr>\n",
       "      <th>35</th>\n",
       "      <td>Refus, Description, Keyword, Resp_chantier, So...</td>\n",
       "      <td>NaN</td>\n",
       "      <td>NaN</td>\n",
       "      <td>NaN</td>\n",
       "      <td>NaN</td>\n",
       "      <td>NaN</td>\n",
       "      <td>NaN</td>\n",
       "      <td>NaN</td>\n",
       "      <td>NaN</td>\n",
       "      <td>NaN</td>\n",
       "      <td>NaN</td>\n",
       "      <td>NaN</td>\n",
       "      <td>NaN</td>\n",
       "      <td>Crepine</td>\n",
       "      <td>NaN</td>\n",
       "      <td>NaN</td>\n",
       "      <td>F21</td>\n",
       "    </tr>\n",
       "    <tr>\n",
       "      <th>38</th>\n",
       "      <td>Refus, Description, Keyword, Resp_chantier, So...</td>\n",
       "      <td>NaN</td>\n",
       "      <td>NaN</td>\n",
       "      <td>NaN</td>\n",
       "      <td>NaN</td>\n",
       "      <td>NaN</td>\n",
       "      <td>NaN</td>\n",
       "      <td>NaN</td>\n",
       "      <td>NaN</td>\n",
       "      <td>NaN</td>\n",
       "      <td>NaN</td>\n",
       "      <td>NaN</td>\n",
       "      <td>NaN</td>\n",
       "      <td>Crepine</td>\n",
       "      <td>NaN</td>\n",
       "      <td>NaN</td>\n",
       "      <td>F23</td>\n",
       "    </tr>\n",
       "    <tr>\n",
       "      <th>43</th>\n",
       "      <td>Refus, Description, Keyword, Resp_chantier, So...</td>\n",
       "      <td>NaN</td>\n",
       "      <td>NaN</td>\n",
       "      <td>NaN</td>\n",
       "      <td>NaN</td>\n",
       "      <td>NaN</td>\n",
       "      <td>NaN</td>\n",
       "      <td>NaN</td>\n",
       "      <td>NaN</td>\n",
       "      <td>NaN</td>\n",
       "      <td>NaN</td>\n",
       "      <td>NaN</td>\n",
       "      <td>NaN</td>\n",
       "      <td>Crepine</td>\n",
       "      <td>NaN</td>\n",
       "      <td>NaN</td>\n",
       "      <td>F26</td>\n",
       "    </tr>\n",
       "    <tr>\n",
       "      <th>44</th>\n",
       "      <td>Refus, Description, Keyword, Resp_chantier, So...</td>\n",
       "      <td>NaN</td>\n",
       "      <td>NaN</td>\n",
       "      <td>NaN</td>\n",
       "      <td>NaN</td>\n",
       "      <td>NaN</td>\n",
       "      <td>NaN</td>\n",
       "      <td>NaN</td>\n",
       "      <td>NaN</td>\n",
       "      <td>NaN</td>\n",
       "      <td>NaN</td>\n",
       "      <td>NaN</td>\n",
       "      <td>NaN</td>\n",
       "      <td>Crepine</td>\n",
       "      <td>NaN</td>\n",
       "      <td>NaN</td>\n",
       "      <td>F26</td>\n",
       "    </tr>\n",
       "    <tr>\n",
       "      <th>45</th>\n",
       "      <td>Refus, Description, Keyword, Resp_chantier, So...</td>\n",
       "      <td>NaN</td>\n",
       "      <td>NaN</td>\n",
       "      <td>NaN</td>\n",
       "      <td>NaN</td>\n",
       "      <td>NaN</td>\n",
       "      <td>NaN</td>\n",
       "      <td>NaN</td>\n",
       "      <td>NaN</td>\n",
       "      <td>NaN</td>\n",
       "      <td>NaN</td>\n",
       "      <td>NaN</td>\n",
       "      <td>NaN</td>\n",
       "      <td>Crepine</td>\n",
       "      <td>NaN</td>\n",
       "      <td>NaN</td>\n",
       "      <td>F26</td>\n",
       "    </tr>\n",
       "    <tr>\n",
       "      <th>113</th>\n",
       "      <td>Refus, Description, Keyword, Resp_chantier, So...</td>\n",
       "      <td>NaN</td>\n",
       "      <td>NaN</td>\n",
       "      <td>NaN</td>\n",
       "      <td>NaN</td>\n",
       "      <td>NaN</td>\n",
       "      <td>Eau</td>\n",
       "      <td>NaN</td>\n",
       "      <td>NaN</td>\n",
       "      <td>NaN</td>\n",
       "      <td>2010-03-15</td>\n",
       "      <td>NaN</td>\n",
       "      <td>SITEREM</td>\n",
       "      <td>NaN</td>\n",
       "      <td>NaN</td>\n",
       "      <td>remblais</td>\n",
       "      <td>F7</td>\n",
       "    </tr>\n",
       "    <tr>\n",
       "      <th>115</th>\n",
       "      <td>Refus, Description, Keyword, Resp_chantier, So...</td>\n",
       "      <td>NaN</td>\n",
       "      <td>NaN</td>\n",
       "      <td>NaN</td>\n",
       "      <td>NaN</td>\n",
       "      <td>NaN</td>\n",
       "      <td>Eau</td>\n",
       "      <td>NaN</td>\n",
       "      <td>NaN</td>\n",
       "      <td>NaN</td>\n",
       "      <td>2010-03-15</td>\n",
       "      <td>NaN</td>\n",
       "      <td>SITEREM</td>\n",
       "      <td>NaN</td>\n",
       "      <td>NaN</td>\n",
       "      <td>remblais</td>\n",
       "      <td>F8</td>\n",
       "    </tr>\n",
       "    <tr>\n",
       "      <th>144</th>\n",
       "      <td>Refus, Description, Keyword, Resp_chantier, Ty...</td>\n",
       "      <td>NaN</td>\n",
       "      <td>NaN</td>\n",
       "      <td>NaN</td>\n",
       "      <td>NaN</td>\n",
       "      <td>four à coke</td>\n",
       "      <td>Eau</td>\n",
       "      <td>NaN</td>\n",
       "      <td>NaN</td>\n",
       "      <td>NaN</td>\n",
       "      <td>NaN</td>\n",
       "      <td>Cokerie de Marchienne</td>\n",
       "      <td>SITEREM</td>\n",
       "      <td>NaN</td>\n",
       "      <td>NaN</td>\n",
       "      <td>Remblais</td>\n",
       "      <td>541</td>\n",
       "    </tr>\n",
       "    <tr>\n",
       "      <th>148</th>\n",
       "      <td>Refus, Description, Keyword, Resp_chantier, Ty...</td>\n",
       "      <td>NaN</td>\n",
       "      <td>NaN</td>\n",
       "      <td>NaN</td>\n",
       "      <td>NaN</td>\n",
       "      <td>four à coke</td>\n",
       "      <td>Eau</td>\n",
       "      <td>NaN</td>\n",
       "      <td>NaN</td>\n",
       "      <td>NaN</td>\n",
       "      <td>NaN</td>\n",
       "      <td>Cokerie de Marchienne</td>\n",
       "      <td>SITEREM</td>\n",
       "      <td>NaN</td>\n",
       "      <td>NaN</td>\n",
       "      <td>Remblais</td>\n",
       "      <td>541</td>\n",
       "    </tr>\n",
       "    <tr>\n",
       "      <th>150</th>\n",
       "      <td>Refus, Description, Keyword, Resp_chantier, Ty...</td>\n",
       "      <td>NaN</td>\n",
       "      <td>NaN</td>\n",
       "      <td>NaN</td>\n",
       "      <td>NaN</td>\n",
       "      <td>four à coke</td>\n",
       "      <td>Eau</td>\n",
       "      <td>NaN</td>\n",
       "      <td>NaN</td>\n",
       "      <td>NaN</td>\n",
       "      <td>NaN</td>\n",
       "      <td>Cokerie de Marchienne</td>\n",
       "      <td>SITEREM</td>\n",
       "      <td>NaN</td>\n",
       "      <td>NaN</td>\n",
       "      <td>Remblais</td>\n",
       "      <td>541</td>\n",
       "    </tr>\n",
       "    <tr>\n",
       "      <th>156</th>\n",
       "      <td>Refus, Description, Keyword, Resp_chantier, Ty...</td>\n",
       "      <td>NaN</td>\n",
       "      <td>NaN</td>\n",
       "      <td>NaN</td>\n",
       "      <td>NaN</td>\n",
       "      <td>Cokerie, fabrication sidérurgique</td>\n",
       "      <td>Eau</td>\n",
       "      <td>NaN</td>\n",
       "      <td>NaN</td>\n",
       "      <td>NaN</td>\n",
       "      <td>NaN</td>\n",
       "      <td>Gazomètre</td>\n",
       "      <td>SITEREM</td>\n",
       "      <td>NaN</td>\n",
       "      <td>NaN</td>\n",
       "      <td>All_limoneuses_graveleuses</td>\n",
       "      <td>502</td>\n",
       "    </tr>\n",
       "    <tr>\n",
       "      <th>158</th>\n",
       "      <td>Refus, Description, Keyword, Resp_chantier, Ty...</td>\n",
       "      <td>NaN</td>\n",
       "      <td>NaN</td>\n",
       "      <td>NaN</td>\n",
       "      <td>NaN</td>\n",
       "      <td>Extraction de charbon</td>\n",
       "      <td>Eau</td>\n",
       "      <td>NaN</td>\n",
       "      <td>NaN</td>\n",
       "      <td>NaN</td>\n",
       "      <td>NaN</td>\n",
       "      <td>Charbonnage</td>\n",
       "      <td>SITEREM</td>\n",
       "      <td>NaN</td>\n",
       "      <td>NaN</td>\n",
       "      <td>#conflict</td>\n",
       "      <td>512</td>\n",
       "    </tr>\n",
       "    <tr>\n",
       "      <th>364</th>\n",
       "      <td>Refus, Description, Keyword, Resp_chantier, Ty...</td>\n",
       "      <td>NaN</td>\n",
       "      <td>NaN</td>\n",
       "      <td>NaN</td>\n",
       "      <td>NaN</td>\n",
       "      <td>Dépôt de stériles</td>\n",
       "      <td>Sol</td>\n",
       "      <td>NaN</td>\n",
       "      <td>NaN</td>\n",
       "      <td>NaN</td>\n",
       "      <td>NaN</td>\n",
       "      <td>Dépôts sidérurgiques et terrils</td>\n",
       "      <td>SITEREM</td>\n",
       "      <td>NaN</td>\n",
       "      <td>NaN</td>\n",
       "      <td>Remblai_All</td>\n",
       "      <td>_FP117_</td>\n",
       "    </tr>\n",
       "    <tr>\n",
       "      <th>374</th>\n",
       "      <td>Refus, Description, Keyword, Resp_chantier, Ty...</td>\n",
       "      <td>NaN</td>\n",
       "      <td>NaN</td>\n",
       "      <td>NaN</td>\n",
       "      <td>NaN</td>\n",
       "      <td>Dépôt de stériles</td>\n",
       "      <td>Eau</td>\n",
       "      <td>NaN</td>\n",
       "      <td>NaN</td>\n",
       "      <td>NaN</td>\n",
       "      <td>NaN</td>\n",
       "      <td>Dépôts sidérurgiques et terrils</td>\n",
       "      <td>SITEREM</td>\n",
       "      <td>NaN</td>\n",
       "      <td>NaN</td>\n",
       "      <td>Remblais</td>\n",
       "      <td>_531_</td>\n",
       "    </tr>\n",
       "    <tr>\n",
       "      <th>388</th>\n",
       "      <td>Refus, Description, Keyword, Resp_chantier, Ty...</td>\n",
       "      <td>NaN</td>\n",
       "      <td>NaN</td>\n",
       "      <td>NaN</td>\n",
       "      <td>NaN</td>\n",
       "      <td>four à coke</td>\n",
       "      <td>Eau</td>\n",
       "      <td>NaN</td>\n",
       "      <td>NaN</td>\n",
       "      <td>NaN</td>\n",
       "      <td>NaN</td>\n",
       "      <td>Cokerie de Marchienne</td>\n",
       "      <td>SITEREM</td>\n",
       "      <td>NaN</td>\n",
       "      <td>NaN</td>\n",
       "      <td>All_limoneuse</td>\n",
       "      <td>_541_</td>\n",
       "    </tr>\n",
       "    <tr>\n",
       "      <th>408</th>\n",
       "      <td>Refus, Description, Keyword, Resp_chantier, So...</td>\n",
       "      <td>NaN</td>\n",
       "      <td>NaN</td>\n",
       "      <td>NaN</td>\n",
       "      <td>NaN</td>\n",
       "      <td>NaN</td>\n",
       "      <td>NaN</td>\n",
       "      <td>NaN</td>\n",
       "      <td>NaN</td>\n",
       "      <td>NaN</td>\n",
       "      <td>NaN</td>\n",
       "      <td>NaN</td>\n",
       "      <td>NaN</td>\n",
       "      <td>NaN</td>\n",
       "      <td>NaN</td>\n",
       "      <td>NaN</td>\n",
       "      <td>F18c</td>\n",
       "    </tr>\n",
       "    <tr>\n",
       "      <th>411</th>\n",
       "      <td>Refus, Description, Keyword, Resp_chantier, So...</td>\n",
       "      <td>NaN</td>\n",
       "      <td>NaN</td>\n",
       "      <td>NaN</td>\n",
       "      <td>NaN</td>\n",
       "      <td>NaN</td>\n",
       "      <td>NaN</td>\n",
       "      <td>NaN</td>\n",
       "      <td>NaN</td>\n",
       "      <td>NaN</td>\n",
       "      <td>NaN</td>\n",
       "      <td>NaN</td>\n",
       "      <td>NaN</td>\n",
       "      <td>NaN</td>\n",
       "      <td>NaN</td>\n",
       "      <td>NaN</td>\n",
       "      <td>F27d</td>\n",
       "    </tr>\n",
       "    <tr>\n",
       "      <th>419</th>\n",
       "      <td>Refus, Description, Keyword, Resp_chantier, So...</td>\n",
       "      <td>NaN</td>\n",
       "      <td>NaN</td>\n",
       "      <td>NaN</td>\n",
       "      <td>NaN</td>\n",
       "      <td>NaN</td>\n",
       "      <td>Eau</td>\n",
       "      <td>NaN</td>\n",
       "      <td>NaN</td>\n",
       "      <td>NaN</td>\n",
       "      <td>2010-03-17</td>\n",
       "      <td>NaN</td>\n",
       "      <td>SITEREM</td>\n",
       "      <td>Crepine</td>\n",
       "      <td>NaN</td>\n",
       "      <td>remblais</td>\n",
       "      <td>F22</td>\n",
       "    </tr>\n",
       "    <tr>\n",
       "      <th>420</th>\n",
       "      <td>Refus, Description, Keyword, Resp_chantier, So...</td>\n",
       "      <td>NaN</td>\n",
       "      <td>NaN</td>\n",
       "      <td>NaN</td>\n",
       "      <td>NaN</td>\n",
       "      <td>NaN</td>\n",
       "      <td>Eau</td>\n",
       "      <td>NaN</td>\n",
       "      <td>NaN</td>\n",
       "      <td>NaN</td>\n",
       "      <td>2010-03-17</td>\n",
       "      <td>NaN</td>\n",
       "      <td>SITEREM</td>\n",
       "      <td>Crepine</td>\n",
       "      <td>NaN</td>\n",
       "      <td>remblais</td>\n",
       "      <td>F22</td>\n",
       "    </tr>\n",
       "    <tr>\n",
       "      <th>423</th>\n",
       "      <td>Refus, Description, Keyword, Resp_chantier, So...</td>\n",
       "      <td>NaN</td>\n",
       "      <td>NaN</td>\n",
       "      <td>NaN</td>\n",
       "      <td>NaN</td>\n",
       "      <td>NaN</td>\n",
       "      <td>Eau</td>\n",
       "      <td>NaN</td>\n",
       "      <td>NaN</td>\n",
       "      <td>NaN</td>\n",
       "      <td>2010-03-18</td>\n",
       "      <td>NaN</td>\n",
       "      <td>SBS Environnement</td>\n",
       "      <td>Crepine</td>\n",
       "      <td>NaN</td>\n",
       "      <td>remblais</td>\n",
       "      <td>F25</td>\n",
       "    </tr>\n",
       "    <tr>\n",
       "      <th>424</th>\n",
       "      <td>Refus, Description, Keyword, Resp_chantier, So...</td>\n",
       "      <td>NaN</td>\n",
       "      <td>NaN</td>\n",
       "      <td>NaN</td>\n",
       "      <td>NaN</td>\n",
       "      <td>NaN</td>\n",
       "      <td>Eau</td>\n",
       "      <td>NaN</td>\n",
       "      <td>NaN</td>\n",
       "      <td>NaN</td>\n",
       "      <td>2010-03-18</td>\n",
       "      <td>NaN</td>\n",
       "      <td>SBS Environnement</td>\n",
       "      <td>Crepine</td>\n",
       "      <td>NaN</td>\n",
       "      <td>remblais</td>\n",
       "      <td>F25</td>\n",
       "    </tr>\n",
       "    <tr>\n",
       "      <th>431</th>\n",
       "      <td>Refus, Description, Keyword, Resp_chantier, Ty...</td>\n",
       "      <td>NaN</td>\n",
       "      <td>NaN</td>\n",
       "      <td>NaN</td>\n",
       "      <td>NaN</td>\n",
       "      <td>Dépôt de stériles</td>\n",
       "      <td>Sol</td>\n",
       "      <td>NaN</td>\n",
       "      <td>NaN</td>\n",
       "      <td>NaN</td>\n",
       "      <td>NaN</td>\n",
       "      <td>Dépôts sidérurgiques et terrils</td>\n",
       "      <td>SITEREM</td>\n",
       "      <td>NaN</td>\n",
       "      <td>NaN</td>\n",
       "      <td>Remblai_All</td>\n",
       "      <td>FP117</td>\n",
       "    </tr>\n",
       "    <tr>\n",
       "      <th>437</th>\n",
       "      <td>Refus, Description, Keyword, Resp_chantier, Ty...</td>\n",
       "      <td>NaN</td>\n",
       "      <td>NaN</td>\n",
       "      <td>NaN</td>\n",
       "      <td>NaN</td>\n",
       "      <td>Dépôt de stériles</td>\n",
       "      <td>Eau</td>\n",
       "      <td>NaN</td>\n",
       "      <td>NaN</td>\n",
       "      <td>NaN</td>\n",
       "      <td>NaN</td>\n",
       "      <td>Dépôts sidérurgiques et terrils</td>\n",
       "      <td>SITEREM</td>\n",
       "      <td>NaN</td>\n",
       "      <td>NaN</td>\n",
       "      <td>Remblais</td>\n",
       "      <td>531</td>\n",
       "    </tr>\n",
       "    <tr>\n",
       "      <th>439</th>\n",
       "      <td>Refus, Description, Keyword, Resp_chantier, Ty...</td>\n",
       "      <td>NaN</td>\n",
       "      <td>NaN</td>\n",
       "      <td>NaN</td>\n",
       "      <td>NaN</td>\n",
       "      <td>Dépôt de stériles</td>\n",
       "      <td>Eau</td>\n",
       "      <td>NaN</td>\n",
       "      <td>NaN</td>\n",
       "      <td>NaN</td>\n",
       "      <td>NaN</td>\n",
       "      <td>Dépôts sidérurgiques et terrils</td>\n",
       "      <td>SITEREM</td>\n",
       "      <td>NaN</td>\n",
       "      <td>NaN</td>\n",
       "      <td>Remblais</td>\n",
       "      <td>531</td>\n",
       "    </tr>\n",
       "    <tr>\n",
       "      <th>441</th>\n",
       "      <td>Refus, Description, Keyword, Resp_chantier, Ty...</td>\n",
       "      <td>NaN</td>\n",
       "      <td>NaN</td>\n",
       "      <td>NaN</td>\n",
       "      <td>NaN</td>\n",
       "      <td>Dépôt de stériles</td>\n",
       "      <td>Eau</td>\n",
       "      <td>NaN</td>\n",
       "      <td>NaN</td>\n",
       "      <td>NaN</td>\n",
       "      <td>NaN</td>\n",
       "      <td>Dépôts sidérurgiques et terrils</td>\n",
       "      <td>SITEREM</td>\n",
       "      <td>NaN</td>\n",
       "      <td>NaN</td>\n",
       "      <td>Remblais</td>\n",
       "      <td>531</td>\n",
       "    </tr>\n",
       "    <tr>\n",
       "      <th>449</th>\n",
       "      <td>Refus, Description, Keyword, Resp_chantier, So...</td>\n",
       "      <td>NaN</td>\n",
       "      <td>NaN</td>\n",
       "      <td>NaN</td>\n",
       "      <td>NaN</td>\n",
       "      <td>NaN</td>\n",
       "      <td>NaN</td>\n",
       "      <td>NaN</td>\n",
       "      <td>NaN</td>\n",
       "      <td>NaN</td>\n",
       "      <td>NaN</td>\n",
       "      <td>NaN</td>\n",
       "      <td>NaN</td>\n",
       "      <td>NaN</td>\n",
       "      <td>P15bM</td>\n",
       "      <td>Remblais</td>\n",
       "      <td>F15bM</td>\n",
       "    </tr>\n",
       "    <tr>\n",
       "      <th>450</th>\n",
       "      <td>Refus, Description, Keyword, Resp_chantier, So...</td>\n",
       "      <td>NaN</td>\n",
       "      <td>NaN</td>\n",
       "      <td>NaN</td>\n",
       "      <td>NaN</td>\n",
       "      <td>NaN</td>\n",
       "      <td>NaN</td>\n",
       "      <td>NaN</td>\n",
       "      <td>NaN</td>\n",
       "      <td>NaN</td>\n",
       "      <td>NaN</td>\n",
       "      <td>NaN</td>\n",
       "      <td>NaN</td>\n",
       "      <td>NaN</td>\n",
       "      <td>P15bM</td>\n",
       "      <td>Remblais</td>\n",
       "      <td>F15bM</td>\n",
       "    </tr>\n",
       "    <tr>\n",
       "      <th>451</th>\n",
       "      <td>Refus, Description, Keyword, Resp_chantier, So...</td>\n",
       "      <td>NaN</td>\n",
       "      <td>NaN</td>\n",
       "      <td>NaN</td>\n",
       "      <td>NaN</td>\n",
       "      <td>NaN</td>\n",
       "      <td>NaN</td>\n",
       "      <td>NaN</td>\n",
       "      <td>NaN</td>\n",
       "      <td>NaN</td>\n",
       "      <td>NaN</td>\n",
       "      <td>NaN</td>\n",
       "      <td>NaN</td>\n",
       "      <td>NaN</td>\n",
       "      <td>P15bM</td>\n",
       "      <td>Remblais</td>\n",
       "      <td>F15bM</td>\n",
       "    </tr>\n",
       "    <tr>\n",
       "      <th>453</th>\n",
       "      <td>Description, Keyword, Resp_chantier, Sous_zone...</td>\n",
       "      <td>x</td>\n",
       "      <td>NaN</td>\n",
       "      <td>NaN</td>\n",
       "      <td>NaN</td>\n",
       "      <td>NaN</td>\n",
       "      <td>NaN</td>\n",
       "      <td>NaN</td>\n",
       "      <td>NaN</td>\n",
       "      <td>NaN</td>\n",
       "      <td>NaN</td>\n",
       "      <td>NaN</td>\n",
       "      <td>NaN</td>\n",
       "      <td>NaN</td>\n",
       "      <td>P17dM</td>\n",
       "      <td>Remblais</td>\n",
       "      <td>F17dM</td>\n",
       "    </tr>\n",
       "  </tbody>\n",
       "</table>\n",
       "</div>"
      ],
      "text/plain": [
       "                                             Check_col Refus Description  \\\n",
       "1    Refus, Description, Keyword, Resp_chantier, So...   NaN         NaN   \n",
       "2    Refus, Description, Keyword, Resp_chantier, So...   NaN         NaN   \n",
       "3    Refus, Description, Keyword, Resp_chantier, So...   NaN         NaN   \n",
       "5    Refus, Description, Keyword, Resp_chantier, So...   NaN         NaN   \n",
       "6    Refus, Description, Keyword, Resp_chantier, So...   NaN         NaN   \n",
       "8    Refus, Description, Keyword, Resp_chantier, So...   NaN         NaN   \n",
       "9    Refus, Description, Keyword, Resp_chantier, So...   NaN         NaN   \n",
       "10   Refus, Description, Keyword, Resp_chantier, So...   NaN         NaN   \n",
       "12   Refus, Description, Keyword, Resp_chantier, So...   NaN         NaN   \n",
       "13   Refus, Description, Keyword, Resp_chantier, So...   NaN         NaN   \n",
       "15   Refus, Description, Keyword, Resp_chantier, So...   NaN         NaN   \n",
       "16   Refus, Description, Keyword, Resp_chantier, So...   NaN         NaN   \n",
       "18   Refus, Description, Keyword, Resp_chantier, So...   NaN         NaN   \n",
       "19   Refus, Description, Keyword, Resp_chantier, So...   NaN         NaN   \n",
       "20   Refus, Description, Keyword, Resp_chantier, So...   NaN         NaN   \n",
       "23   Refus, Description, Keyword, Resp_chantier, So...   NaN         NaN   \n",
       "24   Refus, Description, Keyword, Resp_chantier, So...   NaN         NaN   \n",
       "30   Refus, Description, Keyword, Resp_chantier, So...   NaN         NaN   \n",
       "32   Refus, Description, Keyword, Resp_chantier, So...   NaN         NaN   \n",
       "35   Refus, Description, Keyword, Resp_chantier, So...   NaN         NaN   \n",
       "38   Refus, Description, Keyword, Resp_chantier, So...   NaN         NaN   \n",
       "43   Refus, Description, Keyword, Resp_chantier, So...   NaN         NaN   \n",
       "44   Refus, Description, Keyword, Resp_chantier, So...   NaN         NaN   \n",
       "45   Refus, Description, Keyword, Resp_chantier, So...   NaN         NaN   \n",
       "113  Refus, Description, Keyword, Resp_chantier, So...   NaN         NaN   \n",
       "115  Refus, Description, Keyword, Resp_chantier, So...   NaN         NaN   \n",
       "144  Refus, Description, Keyword, Resp_chantier, Ty...   NaN         NaN   \n",
       "148  Refus, Description, Keyword, Resp_chantier, Ty...   NaN         NaN   \n",
       "150  Refus, Description, Keyword, Resp_chantier, Ty...   NaN         NaN   \n",
       "156  Refus, Description, Keyword, Resp_chantier, Ty...   NaN         NaN   \n",
       "158  Refus, Description, Keyword, Resp_chantier, Ty...   NaN         NaN   \n",
       "364  Refus, Description, Keyword, Resp_chantier, Ty...   NaN         NaN   \n",
       "374  Refus, Description, Keyword, Resp_chantier, Ty...   NaN         NaN   \n",
       "388  Refus, Description, Keyword, Resp_chantier, Ty...   NaN         NaN   \n",
       "408  Refus, Description, Keyword, Resp_chantier, So...   NaN         NaN   \n",
       "411  Refus, Description, Keyword, Resp_chantier, So...   NaN         NaN   \n",
       "419  Refus, Description, Keyword, Resp_chantier, So...   NaN         NaN   \n",
       "420  Refus, Description, Keyword, Resp_chantier, So...   NaN         NaN   \n",
       "423  Refus, Description, Keyword, Resp_chantier, So...   NaN         NaN   \n",
       "424  Refus, Description, Keyword, Resp_chantier, So...   NaN         NaN   \n",
       "431  Refus, Description, Keyword, Resp_chantier, Ty...   NaN         NaN   \n",
       "437  Refus, Description, Keyword, Resp_chantier, Ty...   NaN         NaN   \n",
       "439  Refus, Description, Keyword, Resp_chantier, Ty...   NaN         NaN   \n",
       "441  Refus, Description, Keyword, Resp_chantier, Ty...   NaN         NaN   \n",
       "449  Refus, Description, Keyword, Resp_chantier, So...   NaN         NaN   \n",
       "450  Refus, Description, Keyword, Resp_chantier, So...   NaN         NaN   \n",
       "451  Refus, Description, Keyword, Resp_chantier, So...   NaN         NaN   \n",
       "453  Description, Keyword, Resp_chantier, Sous_zone...     x         NaN   \n",
       "\n",
       "    Keyword Resp_chantier                          Sous_zone Type_ech  \\\n",
       "1       NaN           NaN                                NaN      NaN   \n",
       "2       NaN           NaN                                NaN      NaN   \n",
       "3       NaN           NaN                                NaN      NaN   \n",
       "5       NaN           NaN                                NaN      NaN   \n",
       "6       NaN           NaN                                NaN      NaN   \n",
       "8       NaN           NaN                                NaN      NaN   \n",
       "9       NaN           NaN                                NaN      NaN   \n",
       "10      NaN           NaN                                NaN      NaN   \n",
       "12      NaN           NaN                                NaN      NaN   \n",
       "13      NaN           NaN                                NaN      NaN   \n",
       "15      NaN           NaN                                NaN      NaN   \n",
       "16      NaN           NaN                                NaN      NaN   \n",
       "18      NaN           NaN                                NaN      NaN   \n",
       "19      NaN           NaN                                NaN      NaN   \n",
       "20      NaN           NaN                                NaN      NaN   \n",
       "23      NaN           NaN                                NaN      NaN   \n",
       "24      NaN           NaN                                NaN      NaN   \n",
       "30      NaN           NaN                                NaN      NaN   \n",
       "32      NaN           NaN                                NaN      NaN   \n",
       "35      NaN           NaN                                NaN      NaN   \n",
       "38      NaN           NaN                                NaN      NaN   \n",
       "43      NaN           NaN                                NaN      NaN   \n",
       "44      NaN           NaN                                NaN      NaN   \n",
       "45      NaN           NaN                                NaN      NaN   \n",
       "113     NaN           NaN                                NaN      Eau   \n",
       "115     NaN           NaN                                NaN      Eau   \n",
       "144     NaN           NaN                        four à coke      Eau   \n",
       "148     NaN           NaN                        four à coke      Eau   \n",
       "150     NaN           NaN                        four à coke      Eau   \n",
       "156     NaN           NaN  Cokerie, fabrication sidérurgique      Eau   \n",
       "158     NaN           NaN              Extraction de charbon      Eau   \n",
       "364     NaN           NaN                  Dépôt de stériles      Sol   \n",
       "374     NaN           NaN                  Dépôt de stériles      Eau   \n",
       "388     NaN           NaN                        four à coke      Eau   \n",
       "408     NaN           NaN                                NaN      NaN   \n",
       "411     NaN           NaN                                NaN      NaN   \n",
       "419     NaN           NaN                                NaN      Eau   \n",
       "420     NaN           NaN                                NaN      Eau   \n",
       "423     NaN           NaN                                NaN      Eau   \n",
       "424     NaN           NaN                                NaN      Eau   \n",
       "431     NaN           NaN                  Dépôt de stériles      Sol   \n",
       "437     NaN           NaN                  Dépôt de stériles      Eau   \n",
       "439     NaN           NaN                  Dépôt de stériles      Eau   \n",
       "441     NaN           NaN                  Dépôt de stériles      Eau   \n",
       "449     NaN           NaN                                NaN      NaN   \n",
       "450     NaN           NaN                                NaN      NaN   \n",
       "451     NaN           NaN                                NaN      NaN   \n",
       "453     NaN           NaN                                NaN      NaN   \n",
       "\n",
       "    Type_refus     Method Methode    Date_ouv  \\\n",
       "1          NaN        NaN     NaN         NaN   \n",
       "2          NaN        NaN     NaN         NaN   \n",
       "3          NaN  Dual tube     NaN  2017-02-22   \n",
       "5          NaN        NaN     NaN         NaN   \n",
       "6          NaN  Dual tube     NaN  2017-02-22   \n",
       "8          NaN        NaN     NaN         NaN   \n",
       "9          NaN        NaN     NaN         NaN   \n",
       "10         NaN  Dual tube     NaN  2017-02-22   \n",
       "12         NaN        NaN     NaN         NaN   \n",
       "13         NaN  Dual tube     NaN  2017-02-22   \n",
       "15         NaN        NaN     NaN         NaN   \n",
       "16         NaN  Dual tube     NaN  2017-02-23   \n",
       "18         NaN        NaN     NaN         NaN   \n",
       "19         NaN        NaN     NaN         NaN   \n",
       "20         NaN  Dual tube     NaN  2017-02-23   \n",
       "23         NaN        NaN     NaN         NaN   \n",
       "24         NaN  Dual tube     NaN  2017-02-23   \n",
       "30         NaN        NaN     NaN         NaN   \n",
       "32         NaN        NaN     NaN         NaN   \n",
       "35         NaN        NaN     NaN         NaN   \n",
       "38         NaN        NaN     NaN         NaN   \n",
       "43         NaN        NaN     NaN         NaN   \n",
       "44         NaN        NaN     NaN         NaN   \n",
       "45         NaN        NaN     NaN         NaN   \n",
       "113        NaN        NaN     NaN  2010-03-15   \n",
       "115        NaN        NaN     NaN  2010-03-15   \n",
       "144        NaN        NaN     NaN         NaN   \n",
       "148        NaN        NaN     NaN         NaN   \n",
       "150        NaN        NaN     NaN         NaN   \n",
       "156        NaN        NaN     NaN         NaN   \n",
       "158        NaN        NaN     NaN         NaN   \n",
       "364        NaN        NaN     NaN         NaN   \n",
       "374        NaN        NaN     NaN         NaN   \n",
       "388        NaN        NaN     NaN         NaN   \n",
       "408        NaN        NaN     NaN         NaN   \n",
       "411        NaN        NaN     NaN         NaN   \n",
       "419        NaN        NaN     NaN  2010-03-17   \n",
       "420        NaN        NaN     NaN  2010-03-17   \n",
       "423        NaN        NaN     NaN  2010-03-18   \n",
       "424        NaN        NaN     NaN  2010-03-18   \n",
       "431        NaN        NaN     NaN         NaN   \n",
       "437        NaN        NaN     NaN         NaN   \n",
       "439        NaN        NaN     NaN         NaN   \n",
       "441        NaN        NaN     NaN         NaN   \n",
       "449        NaN        NaN     NaN         NaN   \n",
       "450        NaN        NaN     NaN         NaN   \n",
       "451        NaN        NaN     NaN         NaN   \n",
       "453        NaN        NaN     NaN         NaN   \n",
       "\n",
       "                                Zone            Societe Type_equip   ID_2  \\\n",
       "1                                NaN                NaN    Crepine    P2M   \n",
       "2                                NaN                NaN    Crepine    P2M   \n",
       "3                                NaN   ECOPLANNING sprl        NaN    P2M   \n",
       "5                                NaN                NaN    Crepine    P4M   \n",
       "6                                NaN   ECOPLANNING sprl        NaN    P4M   \n",
       "8                                NaN                NaN    Crepine    P5M   \n",
       "9                                NaN                NaN    Crepine    P5M   \n",
       "10                               NaN   ECOPLANNING sprl        NaN    P5M   \n",
       "12                               NaN                NaN    Crepine    P6M   \n",
       "13                               NaN   ECOPLANNING sprl        NaN    P6M   \n",
       "15                               NaN                NaN    Crepine   P12M   \n",
       "16                               NaN   ECOPLANNING sprl        NaN   P12M   \n",
       "18                               NaN                NaN    Crepine   P13M   \n",
       "19                               NaN                NaN    Crepine   P13M   \n",
       "20                               NaN   ECOPLANNING sprl        NaN   P13M   \n",
       "23                               NaN                NaN    Crepine   P16M   \n",
       "24                               NaN   ECOPLANNING sprl        NaN   P16M   \n",
       "30                               NaN                NaN    Crepine    NaN   \n",
       "32                               NaN                NaN    Crepine    NaN   \n",
       "35                               NaN                NaN    Crepine    NaN   \n",
       "38                               NaN                NaN    Crepine    NaN   \n",
       "43                               NaN                NaN    Crepine    NaN   \n",
       "44                               NaN                NaN    Crepine    NaN   \n",
       "45                               NaN                NaN    Crepine    NaN   \n",
       "113                              NaN            SITEREM        NaN    NaN   \n",
       "115                              NaN            SITEREM        NaN    NaN   \n",
       "144            Cokerie de Marchienne            SITEREM        NaN    NaN   \n",
       "148            Cokerie de Marchienne            SITEREM        NaN    NaN   \n",
       "150            Cokerie de Marchienne            SITEREM        NaN    NaN   \n",
       "156                        Gazomètre            SITEREM        NaN    NaN   \n",
       "158                      Charbonnage            SITEREM        NaN    NaN   \n",
       "364  Dépôts sidérurgiques et terrils            SITEREM        NaN    NaN   \n",
       "374  Dépôts sidérurgiques et terrils            SITEREM        NaN    NaN   \n",
       "388            Cokerie de Marchienne            SITEREM        NaN    NaN   \n",
       "408                              NaN                NaN        NaN    NaN   \n",
       "411                              NaN                NaN        NaN    NaN   \n",
       "419                              NaN            SITEREM    Crepine    NaN   \n",
       "420                              NaN            SITEREM    Crepine    NaN   \n",
       "423                              NaN  SBS Environnement    Crepine    NaN   \n",
       "424                              NaN  SBS Environnement    Crepine    NaN   \n",
       "431  Dépôts sidérurgiques et terrils            SITEREM        NaN    NaN   \n",
       "437  Dépôts sidérurgiques et terrils            SITEREM        NaN    NaN   \n",
       "439  Dépôts sidérurgiques et terrils            SITEREM        NaN    NaN   \n",
       "441  Dépôts sidérurgiques et terrils            SITEREM        NaN    NaN   \n",
       "449                              NaN                NaN        NaN  P15bM   \n",
       "450                              NaN                NaN        NaN  P15bM   \n",
       "451                              NaN                NaN        NaN  P15bM   \n",
       "453                              NaN                NaN        NaN  P17dM   \n",
       "\n",
       "                          Nappe       ID  \n",
       "1             Remblais + limons      F2M  \n",
       "2             Remblais + limons      F2M  \n",
       "3             Remblais + limons      F2M  \n",
       "5                      Remblais      F4M  \n",
       "6                      Remblais      F4M  \n",
       "8             Remblais + limons      F5M  \n",
       "9             Remblais + limons      F5M  \n",
       "10            Remblais + limons      F5M  \n",
       "12                     Remblais      F6M  \n",
       "13                     Remblais      F6M  \n",
       "15                     Remblais     F12M  \n",
       "16                     Remblais     F12M  \n",
       "18                     Remblais     F13M  \n",
       "19                     Remblais     F13M  \n",
       "20                     Remblais     F13M  \n",
       "23                     Remblais     F16M  \n",
       "24                     Remblais     F16M  \n",
       "30                          NaN      F19  \n",
       "32                          NaN      F20  \n",
       "35                          NaN      F21  \n",
       "38                          NaN      F23  \n",
       "43                          NaN      F26  \n",
       "44                          NaN      F26  \n",
       "45                          NaN      F26  \n",
       "113                    remblais       F7  \n",
       "115                    remblais       F8  \n",
       "144                    Remblais      541  \n",
       "148                    Remblais      541  \n",
       "150                    Remblais      541  \n",
       "156  All_limoneuses_graveleuses      502  \n",
       "158                   #conflict      512  \n",
       "364                 Remblai_All  _FP117_  \n",
       "374                    Remblais    _531_  \n",
       "388               All_limoneuse    _541_  \n",
       "408                         NaN     F18c  \n",
       "411                         NaN     F27d  \n",
       "419                    remblais      F22  \n",
       "420                    remblais      F22  \n",
       "423                    remblais      F25  \n",
       "424                    remblais      F25  \n",
       "431                 Remblai_All    FP117  \n",
       "437                    Remblais      531  \n",
       "439                    Remblais      531  \n",
       "441                    Remblais      531  \n",
       "449                    Remblais    F15bM  \n",
       "450                    Remblais    F15bM  \n",
       "451                    Remblais    F15bM  \n",
       "453                    Remblais    F17dM  "
      ]
     },
     "execution_count": 79,
     "metadata": {},
     "output_type": "execute_result"
    }
   ],
   "source": [
    "check1"
   ]
  },
  {
   "cell_type": "code",
   "execution_count": 80,
   "id": "280384f0",
   "metadata": {
    "scrolled": true
   },
   "outputs": [
    {
     "name": "stdout",
     "output_type": "stream",
     "text": [
      "Rows : 492, columns : 42, Unique values on col 'ID': 428\n"
     ]
    },
    {
     "data": {
      "application/vnd.jupyter.widget-view+json": {
       "model_id": "37fd170af8264064a1ea46b13c6906a2",
       "version_major": 2,
       "version_minor": 0
      },
      "text/plain": [
       "interactive(children=(IntSlider(value=3, description='rows', max=492, min=3, readout=False), IntSlider(value=1…"
      ]
     },
     "metadata": {},
     "output_type": "display_data"
    }
   ],
   "source": [
    "dataframe_viewer(dataset, rows=3, un_val='ID', view=t)"
   ]
  },
  {
   "cell_type": "markdown",
   "id": "00069d40",
   "metadata": {},
   "source": [
    "####  $\\color{red}{\\textbf{Save final object dataset}}$"
   ]
  },
  {
   "cell_type": "code",
   "execution_count": 82,
   "id": "a4de8860",
   "metadata": {},
   "outputs": [],
   "source": [
    "for c in dataset.columns:\n",
    "    if c in ['index', 'Origin_ID'] and c in dataset.columns:\n",
    "        dataset.drop(columns=c, inplace=True)"
   ]
  },
  {
   "cell_type": "code",
   "execution_count": 83,
   "id": "19b91ec5",
   "metadata": {},
   "outputs": [],
   "source": [
    "if not os.path.exists(save_dir):\n",
    "    os.makedirs(save_dir)\n",
    "    \n",
    "dataset.to_csv(save_dir + save_file, index=False)"
   ]
  },
  {
   "cell_type": "markdown",
   "id": "80259d62",
   "metadata": {},
   "source": [
    "## Querying"
   ]
  },
  {
   "cell_type": "code",
   "execution_count": null,
   "id": "e6729ea5",
   "metadata": {},
   "outputs": [],
   "source": [
    "coi_1 = ['ID','Date_ouv','X','Y','Z','Zsol','Type','Description','Diam_for','Long_for',]\n",
    "coi_2 = ['Nappe','Refus','Type_refus','Profondeur','Long_pz','Diam_ext_pz','Diam_int_pz','Zone']"
   ]
  },
  {
   "cell_type": "code",
   "execution_count": null,
   "id": "0b1ff1c9",
   "metadata": {
    "scrolled": true
   },
   "outputs": [],
   "source": [
    "x_min, x_max = 152882, 152885\n",
    "y_min, y_max =  122605, 122608\n",
    "bh_name = 'F1.M' # regex\n",
    "#bh_name = None\n",
    "\n",
    "q = dataset.query(f'X >= {x_min} and X <= {x_max} and Y >= {y_min} and Y <= {y_max}')\n",
    "if bh_name is not None:\n",
    "    q = dataset.query(f'ID.str.contains(\"{bh_name}\")', engine='python')\n",
    "dataframe_viewer(q[coi_1 + coi_2], rows=10, cols=15, un_val='ID', view=t)"
   ]
  },
  {
   "cell_type": "code",
   "execution_count": null,
   "id": "035f4e18",
   "metadata": {},
   "outputs": [],
   "source": [
    "drop_dict = {1:10, 2:20, 3:30, 4:10}"
   ]
  },
  {
   "cell_type": "code",
   "execution_count": null,
   "id": "65f3f270",
   "metadata": {},
   "outputs": [],
   "source": [
    "[k for k, v in drop_dict.items() if v == min(drop_dict.values())][0]"
   ]
  },
  {
   "cell_type": "code",
   "execution_count": null,
   "id": "56806e84",
   "metadata": {},
   "outputs": [],
   "source": []
  }
 ],
 "metadata": {
  "kernelspec": {
   "display_name": "Python 3 (ipykernel)",
   "language": "python",
   "name": "python3"
  },
  "language_info": {
   "codemirror_mode": {
    "name": "ipython",
    "version": 3
   },
   "file_extension": ".py",
   "mimetype": "text/x-python",
   "name": "python",
   "nbconvert_exporter": "python",
   "pygments_lexer": "ipython3",
   "version": "3.8.10"
  }
 },
 "nbformat": 4,
 "nbformat_minor": 5
}
