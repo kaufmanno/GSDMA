{
 "cells": [
  {
   "cell_type": "markdown",
   "id": "finite-killing",
   "metadata": {},
   "source": [
    "# Data Gathering"
   ]
  },
  {
   "cell_type": "code",
   "execution_count": 1,
   "id": "educational-barrier",
   "metadata": {},
   "outputs": [],
   "source": [
    "from utils.io import dataframe_viewer, files_search, data_merger, data_validation, data_overview, \\\n",
    "data_filter, fix_duplicates\n",
    "\n",
    "import re, os\n",
    "import numpy as np\n",
    "import pandas as pd\n",
    "import datetime as dtm\n",
    "from definitions import ROOT_DIR"
   ]
  },
  {
   "cell_type": "code",
   "execution_count": 2,
   "id": "representative-bunny",
   "metadata": {},
   "outputs": [],
   "source": [
    "def create_df(files, verbose=True): # find another name for this function\n",
    "    \"\"\"\n",
    "    create dataframes from files and test if they contain position informations\n",
    "    files: list of files name\n",
    "    \"\"\"\n",
    "    dfs = []\n",
    "    for f in files:\n",
    "        df = pd.read_csv(f, delimiter=',')\n",
    "        dfs.append(df)\n",
    "        \n",
    "        if verbose:\n",
    "            if 'X' in list(df.columns): msg = ' --> Coordinates'\n",
    "            else: msg = ' --> No coordinates'\n",
    "\n",
    "            print(f\"df1 : {msg}\")\n",
    "            \n",
    "    return dfs"
   ]
  },
  {
   "cell_type": "markdown",
   "id": "enhanced-noise",
   "metadata": {},
   "source": [
    "## Reading files"
   ]
  },
  {
   "cell_type": "code",
   "execution_count": 3,
   "id": "vanilla-bones",
   "metadata": {},
   "outputs": [],
   "source": [
    "work_dir = ROOT_DIR+'/CF_data/Result_traitem/'\n",
    "save_dir = ROOT_DIR+'/CF_data/Donnees_fusionnees/'"
   ]
  },
  {
   "cell_type": "code",
   "execution_count": 4,
   "id": "confused-pleasure",
   "metadata": {},
   "outputs": [],
   "source": [
    "# create my dictionary structure to retrieve good files (Keynames !!!)\n",
    "files_dict={'Borehole':0,'Piezometer':0,'Piezair':0,'Trench':0,'Litho':0,'Equipm':0,\n",
    "        'Measure':0,'Sample':0,'Analysis':0,'Facility':0}"
   ]
  },
  {
   "cell_type": "code",
   "execution_count": 5,
   "id": "compliant-sensitivity",
   "metadata": {
    "scrolled": true
   },
   "outputs": [
    {
     "name": "stdout",
     "output_type": "stream",
     "text": [
      "Borehole  \t:  7\n",
      "Piezometer  \t:  17\n",
      "Piezair  \t:  2\n",
      "Trench  \t:  1\n",
      "Litho  \t:  7\n",
      "Equipm  \t:  3\n",
      "Measure  \t:  6\n",
      "Sample  \t:  27\n",
      "Analysis  \t:  21\n",
      "Facility  \t:  4\n"
     ]
    }
   ],
   "source": [
    "files_search(work_dir, files_dict, prefix='', skip='source')"
   ]
  },
  {
   "cell_type": "code",
   "execution_count": 6,
   "id": "possible-bones",
   "metadata": {},
   "outputs": [],
   "source": [
    "how=['inner', 'outer', 'left', 'right']"
   ]
  },
  {
   "cell_type": "code",
   "execution_count": 7,
   "id": "national-boards",
   "metadata": {},
   "outputs": [],
   "source": [
    "f = False\n",
    "t = True"
   ]
  },
  {
   "cell_type": "markdown",
   "id": "7d829da8",
   "metadata": {},
   "source": [
    "# PIEZOMETERS PROCESSING"
   ]
  },
  {
   "cell_type": "code",
   "execution_count": 8,
   "id": "impressive-spouse",
   "metadata": {},
   "outputs": [
    {
     "name": "stdout",
     "output_type": "stream",
     "text": [
      "17 files\n"
     ]
    }
   ],
   "source": [
    "key='Piezometer'\n",
    "save_file = f'Merged_Piezometers.csv'\n",
    "coi=['ID','ID_date','X','Y','Z','Type','Long_for','Diam_for','Refus'] #columns of interest\n",
    "dataset = pd.DataFrame()\n",
    "print(len(files_dict[key]), 'files')"
   ]
  },
  {
   "cell_type": "code",
   "execution_count": 9,
   "id": "db48b5e8",
   "metadata": {
    "scrolled": false
   },
   "outputs": [
    {
     "data": {
      "text/plain": [
       "['/home/yanathan/Projects/GSDMA/CF_data/Result_traitem/Liste_XY/Sol_Eau_Piezometers.csv',\n",
       " '/home/yanathan/Projects/GSDMA/CF_data/Result_traitem/Memoris_seafile/Result_eau_Piezometers.csv',\n",
       " '/home/yanathan/Projects/GSDMA/CF_data/Result_traitem/Phase_1_Memoris/Result_eau_Piezometers.csv',\n",
       " '/home/yanathan/Projects/GSDMA/CF_data/Result_traitem/Phase_2_Memoris/Result_eau_Piezometers.csv',\n",
       " '/home/yanathan/Projects/GSDMA/CF_data/Result_traitem/database_Memoris3/Donnees_piezos_Piezometers.csv',\n",
       " '/home/yanathan/Projects/GSDMA/CF_data/Result_traitem/database_Memoris3/Drains_Pz_ENEL_Piezometers.csv',\n",
       " '/home/yanathan/Projects/GSDMA/CF_data/Result_traitem/database_Memoris3/Profils_sol_Piezometers.csv',\n",
       " '/home/yanathan/Projects/GSDMA/CF_data/Result_traitem/database_Memoris3/Result_eau_Piezometers.csv',\n",
       " '/home/yanathan/Projects/GSDMA/CF_data/Result_traitem/database_Memoris3/Result_sol_Piezometers.csv',\n",
       " '/home/yanathan/Projects/GSDMA/CF_data/Result_traitem/donnees_terrain_2019/Donnees_forage_Piezometers.csv',\n",
       " '/home/yanathan/Projects/GSDMA/CF_data/Result_traitem/donnees_terrain_2019/Equipement_Piezometers.csv',\n",
       " '/home/yanathan/Projects/GSDMA/CF_data/Result_traitem/donnees_terrain_2019/Log_Piezometers.csv',\n",
       " '/home/yanathan/Projects/GSDMA/CF_data/Result_traitem/profils_sols_donnees_forages/Equipement_Piezometers.csv',\n",
       " '/home/yanathan/Projects/GSDMA/CF_data/Result_traitem/profils_sols_donnees_forages/donnees_forage_Piezometers.csv',\n",
       " '/home/yanathan/Projects/GSDMA/CF_data/Result_traitem/profils_sols_donnees_forages/piezometrie_Piezometers.csv',\n",
       " '/home/yanathan/Projects/GSDMA/CF_data/Result_traitem/vUmons_logsFor/Analyse_eau_Phases1&2_Piezometers.csv',\n",
       " '/home/yanathan/Projects/GSDMA/CF_data/Result_traitem/vUmons_logsFor/Analyse_sol_Phases1&2_Piezometers.csv']"
      ]
     },
     "execution_count": 9,
     "metadata": {},
     "output_type": "execute_result"
    }
   ],
   "source": [
    "files_dict[key]"
   ]
  },
  {
   "cell_type": "code",
   "execution_count": 10,
   "id": "e8bad474",
   "metadata": {
    "scrolled": true
   },
   "outputs": [
    {
     "name": "stdout",
     "output_type": "stream",
     "text": [
      "Same files:[(7, 8)]\n",
      "Files with coordinates:[0, 1, 2, 3, 4, 5, 7, 8, 9, 13, 15, 16]\n",
      "Files without coordinates:[6, 10, 11, 12, 14]\n"
     ]
    }
   ],
   "source": [
    "data_overview(files_dict[key])"
   ]
  },
  {
   "cell_type": "markdown",
   "id": "a457ac6b",
   "metadata": {},
   "source": [
    "#### $\\color{green}{\\textbf{Read and merge}}$"
   ]
  },
  {
   "cell_type": "code",
   "execution_count": 11,
   "id": "a8c1475e",
   "metadata": {
    "scrolled": false
   },
   "outputs": [
    {
     "name": "stdout",
     "output_type": "stream",
     "text": [
      "df1 :  --> Coordinates\n",
      "df1 :  --> Coordinates\n",
      "Rows : 14, columns : 10, Unique values on col 'ID': 14\n"
     ]
    },
    {
     "data": {
      "application/vnd.jupyter.widget-view+json": {
       "model_id": "226d5dd326b64a60b166ece4a6eeac2e",
       "version_major": 2,
       "version_minor": 0
      },
      "text/plain": [
       "interactive(children=(IntSlider(value=3, description='rows', max=14, min=3, readout=False), IntSlider(value=10…"
      ]
     },
     "metadata": {},
     "output_type": "display_data"
    },
    {
     "name": "stdout",
     "output_type": "stream",
     "text": [
      "Rows : 30, columns : 9, Unique values on col 'ID': 30\n"
     ]
    },
    {
     "data": {
      "application/vnd.jupyter.widget-view+json": {
       "model_id": "ed9c863dbdbc42e49c5af61faa4ca7b1",
       "version_major": 2,
       "version_minor": 0
      },
      "text/plain": [
       "interactive(children=(IntSlider(value=3, description='rows', max=30, min=3, readout=False), IntSlider(value=9,…"
      ]
     },
     "metadata": {},
     "output_type": "display_data"
    },
    {
     "data": {
      "text/plain": [
       "(None, None)"
      ]
     },
     "execution_count": 11,
     "metadata": {},
     "output_type": "execute_result"
    }
   ],
   "source": [
    "file1= work_dir + 'Phase_1_Memoris/Result_eau_Piezometers.csv' # 2\n",
    "file2= work_dir + 'Memoris_seafile/Result_eau_Piezometers.csv' # 1  \n",
    "\n",
    "df1, df2 = create_df([file1, file2])\n",
    "dataframe_viewer(df1, rows=3, un_val='ID', view=t), dataframe_viewer(df2, rows=3, un_val='ID', view=t)"
   ]
  },
  {
   "cell_type": "code",
   "execution_count": 12,
   "id": "aba3d71c",
   "metadata": {},
   "outputs": [
    {
     "name": "stdout",
     "output_type": "stream",
     "text": [
      "14 duplicate objects fixed!\n"
     ]
    }
   ],
   "source": [
    "fix_duplicates(df1, df2, drop_old_id=True)"
   ]
  },
  {
   "cell_type": "code",
   "execution_count": 13,
   "id": "7de44a63",
   "metadata": {
    "scrolled": true
   },
   "outputs": [],
   "source": [
    "mdf, conflict_df=data_merger(df1, df2, how=how[1], on='ID', dist_max=1)"
   ]
  },
  {
   "cell_type": "markdown",
   "id": "1b144272",
   "metadata": {},
   "source": [
    "#### First object dataset save"
   ]
  },
  {
   "cell_type": "code",
   "execution_count": 14,
   "id": "d90786e2",
   "metadata": {},
   "outputs": [],
   "source": [
    "dataset = mdf.copy() #saving"
   ]
  },
  {
   "cell_type": "code",
   "execution_count": 15,
   "id": "8afa2a89",
   "metadata": {},
   "outputs": [
    {
     "name": "stdout",
     "output_type": "stream",
     "text": [
      "Rows : 30, columns : 11, Unique values on col 'ID': 30\n"
     ]
    },
    {
     "data": {
      "application/vnd.jupyter.widget-view+json": {
       "model_id": "2fa0edb416bb4c1c87f9e1800ae5f696",
       "version_major": 2,
       "version_minor": 0
      },
      "text/plain": [
       "interactive(children=(IntSlider(value=3, description='rows', max=30, min=3, readout=False), IntSlider(value=11…"
      ]
     },
     "metadata": {},
     "output_type": "display_data"
    }
   ],
   "source": [
    "dataframe_viewer(dataset, rows=3, un_val='ID', view=t)"
   ]
  },
  {
   "cell_type": "markdown",
   "id": "b20fa9c5",
   "metadata": {},
   "source": [
    "#### $\\color{green}{\\textbf{Read and merge}}$"
   ]
  },
  {
   "cell_type": "code",
   "execution_count": 16,
   "id": "19d1144b",
   "metadata": {
    "scrolled": false
   },
   "outputs": [
    {
     "name": "stdout",
     "output_type": "stream",
     "text": [
      "df1 :  --> Coordinates\n",
      "df1 :  --> Coordinates\n",
      "Rows : 117, columns : 13, Unique values on col 'ID': 117\n"
     ]
    },
    {
     "data": {
      "application/vnd.jupyter.widget-view+json": {
       "model_id": "4c79d698578a4d859b0279b6acf7d743",
       "version_major": 2,
       "version_minor": 0
      },
      "text/plain": [
       "interactive(children=(IntSlider(value=3, description='rows', max=117, min=3, readout=False), IntSlider(value=1…"
      ]
     },
     "metadata": {},
     "output_type": "display_data"
    },
    {
     "name": "stdout",
     "output_type": "stream",
     "text": [
      "Rows : 257, columns : 6, Unique values on col 'ID': 254\n"
     ]
    },
    {
     "data": {
      "application/vnd.jupyter.widget-view+json": {
       "model_id": "93be39f2844d400aa856cd1ac1ddf250",
       "version_major": 2,
       "version_minor": 0
      },
      "text/plain": [
       "interactive(children=(IntSlider(value=3, description='rows', max=257, min=3, readout=False), IntSlider(value=6…"
      ]
     },
     "metadata": {},
     "output_type": "display_data"
    },
    {
     "data": {
      "text/plain": [
       "(None, None)"
      ]
     },
     "execution_count": 16,
     "metadata": {},
     "output_type": "execute_result"
    }
   ],
   "source": [
    "file1= work_dir + 'database_Memoris3/Donnees_piezos_Piezometers.csv' # 4\n",
    "file2= work_dir + 'Liste_XY/Sol_Eau_Piezometers.csv' # 0  \n",
    "\n",
    "\n",
    "df1, df2 = create_df([file1, file2])\n",
    "dataframe_viewer(df1, rows=3, un_val='ID', view=t), dataframe_viewer(df2, rows=3, un_val='ID', view=t)"
   ]
  },
  {
   "cell_type": "code",
   "execution_count": 17,
   "id": "ffbe83a5",
   "metadata": {},
   "outputs": [
    {
     "name": "stdout",
     "output_type": "stream",
     "text": [
      "some data must be checked !\n",
      "same objects at indices:[61, 64, 66, 69, 71, 73, 107, 114, 112, 115], will be dropped if drop is set True!\n",
      "Rows : 107 ; Columns : 14 ; Unique on 'ID' : 104 ; \n"
     ]
    }
   ],
   "source": [
    "df1, check1 = data_filter(df1, position=True, id_col='ID', expression='sup|prof', dist_max=1, drop=True, drop_old_id=True)"
   ]
  },
  {
   "cell_type": "code",
   "execution_count": 18,
   "id": "ccb34ec6",
   "metadata": {},
   "outputs": [
    {
     "name": "stdout",
     "output_type": "stream",
     "text": [
      "some data must be checked !\n",
      "same objects at indices:[0, 7, 9, 11, 32, 112], will be dropped if drop is set True!\n",
      "Rows : 251 ; Columns : 7 ; Unique on 'ID' : 245 ; \n"
     ]
    }
   ],
   "source": [
    "df2, check2 = data_filter(df2, position=True, id_col='ID', expression='sup|prof', dist_max=1, drop=True)"
   ]
  },
  {
   "cell_type": "code",
   "execution_count": 19,
   "id": "2ab30920",
   "metadata": {},
   "outputs": [
    {
     "data": {
      "text/html": [
       "<div>\n",
       "<style scoped>\n",
       "    .dataframe tbody tr th:only-of-type {\n",
       "        vertical-align: middle;\n",
       "    }\n",
       "\n",
       "    .dataframe tbody tr th {\n",
       "        vertical-align: top;\n",
       "    }\n",
       "\n",
       "    .dataframe thead th {\n",
       "        text-align: right;\n",
       "    }\n",
       "</style>\n",
       "<table border=\"1\" class=\"dataframe\">\n",
       "  <thead>\n",
       "    <tr style=\"text-align: right;\">\n",
       "      <th></th>\n",
       "      <th>ID</th>\n",
       "      <th>Origin_ID</th>\n",
       "      <th>Nappe</th>\n",
       "      <th>X</th>\n",
       "      <th>Y</th>\n",
       "      <th>Type_ech</th>\n",
       "      <th>Type</th>\n",
       "    </tr>\n",
       "  </thead>\n",
       "  <tbody>\n",
       "    <tr>\n",
       "      <th>0</th>\n",
       "      <td>160</td>\n",
       "      <td>160sup</td>\n",
       "      <td>Socle</td>\n",
       "      <td>152395.000</td>\n",
       "      <td>122839.000</td>\n",
       "      <td>Eau</td>\n",
       "      <td>Piezo</td>\n",
       "    </tr>\n",
       "    <tr>\n",
       "      <th>1</th>\n",
       "      <td>502</td>\n",
       "      <td>502</td>\n",
       "      <td>Socle</td>\n",
       "      <td>152365.000</td>\n",
       "      <td>122855.000</td>\n",
       "      <td>Eau</td>\n",
       "      <td>Piezo</td>\n",
       "    </tr>\n",
       "    <tr>\n",
       "      <th>2</th>\n",
       "      <td>502</td>\n",
       "      <td>502</td>\n",
       "      <td>Alluvions</td>\n",
       "      <td>152366.396</td>\n",
       "      <td>122857.132</td>\n",
       "      <td>Eau</td>\n",
       "      <td>Piezo</td>\n",
       "    </tr>\n",
       "    <tr>\n",
       "      <th>3</th>\n",
       "      <td>508</td>\n",
       "      <td>508</td>\n",
       "      <td>Socle</td>\n",
       "      <td>152467.000</td>\n",
       "      <td>122850.000</td>\n",
       "      <td>Eau</td>\n",
       "      <td>Piezo</td>\n",
       "    </tr>\n",
       "    <tr>\n",
       "      <th>4</th>\n",
       "      <td>512</td>\n",
       "      <td>512</td>\n",
       "      <td>Socle</td>\n",
       "      <td>152428.000</td>\n",
       "      <td>122766.000</td>\n",
       "      <td>Eau</td>\n",
       "      <td>Piezo</td>\n",
       "    </tr>\n",
       "    <tr>\n",
       "      <th>...</th>\n",
       "      <td>...</td>\n",
       "      <td>...</td>\n",
       "      <td>...</td>\n",
       "      <td>...</td>\n",
       "      <td>...</td>\n",
       "      <td>...</td>\n",
       "      <td>...</td>\n",
       "    </tr>\n",
       "    <tr>\n",
       "      <th>246</th>\n",
       "      <td>520</td>\n",
       "      <td>520</td>\n",
       "      <td>NaN</td>\n",
       "      <td>152644.000</td>\n",
       "      <td>122791.000</td>\n",
       "      <td>Sol</td>\n",
       "      <td>Piezo</td>\n",
       "    </tr>\n",
       "    <tr>\n",
       "      <th>247</th>\n",
       "      <td>524</td>\n",
       "      <td>524</td>\n",
       "      <td>NaN</td>\n",
       "      <td>152570.000</td>\n",
       "      <td>122789.000</td>\n",
       "      <td>Sol</td>\n",
       "      <td>Piezo</td>\n",
       "    </tr>\n",
       "    <tr>\n",
       "      <th>248</th>\n",
       "      <td>525</td>\n",
       "      <td>525</td>\n",
       "      <td>NaN</td>\n",
       "      <td>152548.000</td>\n",
       "      <td>122783.000</td>\n",
       "      <td>Sol</td>\n",
       "      <td>Piezo</td>\n",
       "    </tr>\n",
       "    <tr>\n",
       "      <th>249</th>\n",
       "      <td>526</td>\n",
       "      <td>526</td>\n",
       "      <td>NaN</td>\n",
       "      <td>152553.000</td>\n",
       "      <td>122757.000</td>\n",
       "      <td>Sol</td>\n",
       "      <td>Piezo</td>\n",
       "    </tr>\n",
       "    <tr>\n",
       "      <th>250</th>\n",
       "      <td>FP117</td>\n",
       "      <td>FP117sup</td>\n",
       "      <td>NaN</td>\n",
       "      <td>152750.000</td>\n",
       "      <td>122781.000</td>\n",
       "      <td>Sol</td>\n",
       "      <td>Piezo</td>\n",
       "    </tr>\n",
       "  </tbody>\n",
       "</table>\n",
       "<p>251 rows × 7 columns</p>\n",
       "</div>"
      ],
      "text/plain": [
       "        ID Origin_ID      Nappe           X           Y Type_ech   Type\n",
       "0      160    160sup      Socle  152395.000  122839.000      Eau  Piezo\n",
       "1      502       502      Socle  152365.000  122855.000      Eau  Piezo\n",
       "2      502       502  Alluvions  152366.396  122857.132      Eau  Piezo\n",
       "3      508       508      Socle  152467.000  122850.000      Eau  Piezo\n",
       "4      512       512      Socle  152428.000  122766.000      Eau  Piezo\n",
       "..     ...       ...        ...         ...         ...      ...    ...\n",
       "246    520       520        NaN  152644.000  122791.000      Sol  Piezo\n",
       "247    524       524        NaN  152570.000  122789.000      Sol  Piezo\n",
       "248    525       525        NaN  152548.000  122783.000      Sol  Piezo\n",
       "249    526       526        NaN  152553.000  122757.000      Sol  Piezo\n",
       "250  FP117  FP117sup        NaN  152750.000  122781.000      Sol  Piezo\n",
       "\n",
       "[251 rows x 7 columns]"
      ]
     },
     "execution_count": 19,
     "metadata": {},
     "output_type": "execute_result"
    }
   ],
   "source": [
    "df2"
   ]
  },
  {
   "cell_type": "code",
   "execution_count": 20,
   "id": "aca154f6",
   "metadata": {},
   "outputs": [
    {
     "name": "stdout",
     "output_type": "stream",
     "text": [
      "3 duplicate objects fixed!\n"
     ]
    }
   ],
   "source": [
    "fix_duplicates(df1, df2)"
   ]
  },
  {
   "cell_type": "code",
   "execution_count": 21,
   "id": "fee6d13a",
   "metadata": {
    "scrolled": true
   },
   "outputs": [
    {
     "name": "stdout",
     "output_type": "stream",
     "text": [
      "Conflict values present. Please resolve this manually !\n"
     ]
    }
   ],
   "source": [
    "mdf, conflict_df=data_merger(df1, df2, how=how[1], on='ID', dist_max=1)"
   ]
  },
  {
   "cell_type": "markdown",
   "id": "8db0ebd9",
   "metadata": {},
   "source": [
    "#### $\\color{blue}{\\textbf{Manage conflicts}}$"
   ]
  },
  {
   "cell_type": "code",
   "execution_count": 22,
   "id": "d004cbd2",
   "metadata": {
    "scrolled": true
   },
   "outputs": [
    {
     "data": {
      "text/html": [
       "<div>\n",
       "<style scoped>\n",
       "    .dataframe tbody tr th:only-of-type {\n",
       "        vertical-align: middle;\n",
       "    }\n",
       "\n",
       "    .dataframe tbody tr th {\n",
       "        vertical-align: top;\n",
       "    }\n",
       "\n",
       "    .dataframe thead th {\n",
       "        text-align: right;\n",
       "    }\n",
       "</style>\n",
       "<table border=\"1\" class=\"dataframe\">\n",
       "  <thead>\n",
       "    <tr style=\"text-align: right;\">\n",
       "      <th></th>\n",
       "      <th>Check_col</th>\n",
       "      <th>ID</th>\n",
       "      <th>Origin_ID_x</th>\n",
       "      <th>Origin_ID_y</th>\n",
       "      <th>Nappe_x</th>\n",
       "      <th>Nappe_y</th>\n",
       "    </tr>\n",
       "  </thead>\n",
       "  <tbody>\n",
       "    <tr>\n",
       "      <th>8</th>\n",
       "      <td>Origin_ID, Nappe</td>\n",
       "      <td>59</td>\n",
       "      <td>59</td>\n",
       "      <td>P59</td>\n",
       "      <td>Remblai_All</td>\n",
       "      <td>remblais</td>\n",
       "    </tr>\n",
       "    <tr>\n",
       "      <th>37</th>\n",
       "      <td>Origin_ID</td>\n",
       "      <td>186</td>\n",
       "      <td>186</td>\n",
       "      <td>503</td>\n",
       "      <td>Remblais</td>\n",
       "      <td>NaN</td>\n",
       "    </tr>\n",
       "    <tr>\n",
       "      <th>61</th>\n",
       "      <td>Origin_ID, Nappe</td>\n",
       "      <td>FP49</td>\n",
       "      <td>FP 49 SUP</td>\n",
       "      <td>FP49sup</td>\n",
       "      <td>Remblai_All</td>\n",
       "      <td>Socle</td>\n",
       "    </tr>\n",
       "    <tr>\n",
       "      <th>65</th>\n",
       "      <td>Nappe</td>\n",
       "      <td>FP14</td>\n",
       "      <td>FP14sup</td>\n",
       "      <td>FP14sup</td>\n",
       "      <td>Remblais</td>\n",
       "      <td>Alluvions</td>\n",
       "    </tr>\n",
       "    <tr>\n",
       "      <th>68</th>\n",
       "      <td>Origin_ID, Nappe</td>\n",
       "      <td>FP63</td>\n",
       "      <td>FP63 sup</td>\n",
       "      <td>FP63sup</td>\n",
       "      <td>Remblais</td>\n",
       "      <td>Socle</td>\n",
       "    </tr>\n",
       "    <tr>\n",
       "      <th>69</th>\n",
       "      <td>Origin_ID, Nappe</td>\n",
       "      <td>FP76</td>\n",
       "      <td>FP76 sup</td>\n",
       "      <td>FP76sup</td>\n",
       "      <td>Remblais</td>\n",
       "      <td>Socle</td>\n",
       "    </tr>\n",
       "    <tr>\n",
       "      <th>71</th>\n",
       "      <td>Nappe</td>\n",
       "      <td>501</td>\n",
       "      <td>501</td>\n",
       "      <td>501</td>\n",
       "      <td>Remblai_All</td>\n",
       "      <td>remblais</td>\n",
       "    </tr>\n",
       "    <tr>\n",
       "      <th>73</th>\n",
       "      <td>Nappe</td>\n",
       "      <td>509</td>\n",
       "      <td>509</td>\n",
       "      <td>509</td>\n",
       "      <td>All_limoneuse</td>\n",
       "      <td>Alluvions</td>\n",
       "    </tr>\n",
       "    <tr>\n",
       "      <th>74</th>\n",
       "      <td>Nappe</td>\n",
       "      <td>510</td>\n",
       "      <td>510</td>\n",
       "      <td>510</td>\n",
       "      <td>All_limoneuse</td>\n",
       "      <td>Alluvions</td>\n",
       "    </tr>\n",
       "    <tr>\n",
       "      <th>75</th>\n",
       "      <td>Nappe</td>\n",
       "      <td>511</td>\n",
       "      <td>511</td>\n",
       "      <td>511</td>\n",
       "      <td>Remblai_All</td>\n",
       "      <td>remblais</td>\n",
       "    </tr>\n",
       "    <tr>\n",
       "      <th>77</th>\n",
       "      <td>Nappe</td>\n",
       "      <td>513</td>\n",
       "      <td>513</td>\n",
       "      <td>513</td>\n",
       "      <td>Remblai_All</td>\n",
       "      <td>remblais</td>\n",
       "    </tr>\n",
       "    <tr>\n",
       "      <th>79</th>\n",
       "      <td>Nappe</td>\n",
       "      <td>528</td>\n",
       "      <td>528</td>\n",
       "      <td>528</td>\n",
       "      <td>Remblai_All</td>\n",
       "      <td>remblais</td>\n",
       "    </tr>\n",
       "    <tr>\n",
       "      <th>81</th>\n",
       "      <td>Nappe</td>\n",
       "      <td>522</td>\n",
       "      <td>522</td>\n",
       "      <td>522</td>\n",
       "      <td>Remblai_All</td>\n",
       "      <td>remblais</td>\n",
       "    </tr>\n",
       "    <tr>\n",
       "      <th>87</th>\n",
       "      <td>Nappe</td>\n",
       "      <td>534</td>\n",
       "      <td>534</td>\n",
       "      <td>534</td>\n",
       "      <td>All_limoneuse</td>\n",
       "      <td>Alluvions</td>\n",
       "    </tr>\n",
       "    <tr>\n",
       "      <th>93</th>\n",
       "      <td>Nappe</td>\n",
       "      <td>537</td>\n",
       "      <td>537</td>\n",
       "      <td>537</td>\n",
       "      <td>All_limoneuse</td>\n",
       "      <td>Alluvions</td>\n",
       "    </tr>\n",
       "    <tr>\n",
       "      <th>94</th>\n",
       "      <td>Nappe</td>\n",
       "      <td>536</td>\n",
       "      <td>536</td>\n",
       "      <td>536</td>\n",
       "      <td>All_limoneuse</td>\n",
       "      <td>Alluvions</td>\n",
       "    </tr>\n",
       "    <tr>\n",
       "      <th>95</th>\n",
       "      <td>Nappe</td>\n",
       "      <td>543</td>\n",
       "      <td>543</td>\n",
       "      <td>543</td>\n",
       "      <td>All_limoneuse</td>\n",
       "      <td>Alluvions</td>\n",
       "    </tr>\n",
       "    <tr>\n",
       "      <th>100</th>\n",
       "      <td>Origin_ID</td>\n",
       "      <td>541</td>\n",
       "      <td>541sup R</td>\n",
       "      <td>541</td>\n",
       "      <td>Remblais</td>\n",
       "      <td>remblais</td>\n",
       "    </tr>\n",
       "    <tr>\n",
       "      <th>103</th>\n",
       "      <td>Nappe</td>\n",
       "      <td>539</td>\n",
       "      <td>539</td>\n",
       "      <td>539</td>\n",
       "      <td>All_limoneuse</td>\n",
       "      <td>Alluvions</td>\n",
       "    </tr>\n",
       "    <tr>\n",
       "      <th>105</th>\n",
       "      <td>Nappe</td>\n",
       "      <td>533</td>\n",
       "      <td>533</td>\n",
       "      <td>533</td>\n",
       "      <td>All_limoneuses_graveleuses</td>\n",
       "      <td>Alluvions</td>\n",
       "    </tr>\n",
       "    <tr>\n",
       "      <th>106</th>\n",
       "      <td>Origin_ID, Nappe</td>\n",
       "      <td>502</td>\n",
       "      <td>502sup</td>\n",
       "      <td>502</td>\n",
       "      <td>All_limoneuses_graveleuses</td>\n",
       "      <td>Socle</td>\n",
       "    </tr>\n",
       "    <tr>\n",
       "      <th>108</th>\n",
       "      <td>Origin_ID, Nappe</td>\n",
       "      <td>512</td>\n",
       "      <td>512sup</td>\n",
       "      <td>512</td>\n",
       "      <td>Remblai_All</td>\n",
       "      <td>Socle</td>\n",
       "    </tr>\n",
       "    <tr>\n",
       "      <th>111</th>\n",
       "      <td>Origin_ID, Nappe</td>\n",
       "      <td>595</td>\n",
       "      <td>595sup Al</td>\n",
       "      <td>595</td>\n",
       "      <td>All_limoneuses_graveleuses</td>\n",
       "      <td>Alluvions</td>\n",
       "    </tr>\n",
       "    <tr>\n",
       "      <th>112</th>\n",
       "      <td>Origin_ID, Nappe</td>\n",
       "      <td>540</td>\n",
       "      <td>540sup R</td>\n",
       "      <td>540</td>\n",
       "      <td>Remblais</td>\n",
       "      <td>Alluvions</td>\n",
       "    </tr>\n",
       "  </tbody>\n",
       "</table>\n",
       "</div>"
      ],
      "text/plain": [
       "            Check_col    ID Origin_ID_x Origin_ID_y  \\\n",
       "8    Origin_ID, Nappe    59          59         P59   \n",
       "37          Origin_ID   186         186         503   \n",
       "61   Origin_ID, Nappe  FP49   FP 49 SUP     FP49sup   \n",
       "65              Nappe  FP14     FP14sup     FP14sup   \n",
       "68   Origin_ID, Nappe  FP63    FP63 sup     FP63sup   \n",
       "69   Origin_ID, Nappe  FP76    FP76 sup     FP76sup   \n",
       "71              Nappe   501         501         501   \n",
       "73              Nappe   509         509         509   \n",
       "74              Nappe   510         510         510   \n",
       "75              Nappe   511         511         511   \n",
       "77              Nappe   513         513         513   \n",
       "79              Nappe   528         528         528   \n",
       "81              Nappe   522         522         522   \n",
       "87              Nappe   534         534         534   \n",
       "93              Nappe   537         537         537   \n",
       "94              Nappe   536         536         536   \n",
       "95              Nappe   543         543         543   \n",
       "100         Origin_ID   541    541sup R         541   \n",
       "103             Nappe   539         539         539   \n",
       "105             Nappe   533         533         533   \n",
       "106  Origin_ID, Nappe   502      502sup         502   \n",
       "108  Origin_ID, Nappe   512      512sup         512   \n",
       "111  Origin_ID, Nappe   595   595sup Al         595   \n",
       "112  Origin_ID, Nappe   540    540sup R         540   \n",
       "\n",
       "                        Nappe_x    Nappe_y  \n",
       "8                   Remblai_All   remblais  \n",
       "37                     Remblais        NaN  \n",
       "61                  Remblai_All      Socle  \n",
       "65                     Remblais  Alluvions  \n",
       "68                     Remblais      Socle  \n",
       "69                     Remblais      Socle  \n",
       "71                  Remblai_All   remblais  \n",
       "73                All_limoneuse  Alluvions  \n",
       "74                All_limoneuse  Alluvions  \n",
       "75                  Remblai_All   remblais  \n",
       "77                  Remblai_All   remblais  \n",
       "79                  Remblai_All   remblais  \n",
       "81                  Remblai_All   remblais  \n",
       "87                All_limoneuse  Alluvions  \n",
       "93                All_limoneuse  Alluvions  \n",
       "94                All_limoneuse  Alluvions  \n",
       "95                All_limoneuse  Alluvions  \n",
       "100                    Remblais   remblais  \n",
       "103               All_limoneuse  Alluvions  \n",
       "105  All_limoneuses_graveleuses  Alluvions  \n",
       "106  All_limoneuses_graveleuses      Socle  \n",
       "108                 Remblai_All      Socle  \n",
       "111  All_limoneuses_graveleuses  Alluvions  \n",
       "112                    Remblais  Alluvions  "
      ]
     },
     "execution_count": 22,
     "metadata": {},
     "output_type": "execute_result"
    }
   ],
   "source": [
    "conflict_df"
   ]
  },
  {
   "cell_type": "code",
   "execution_count": 23,
   "id": "9c0a61e6",
   "metadata": {},
   "outputs": [
    {
     "name": "stdout",
     "output_type": "stream",
     "text": [
      "Validation done, but conflicts remain!\n"
     ]
    }
   ],
   "source": [
    "data_validation(overall_data=mdf, conflict_data=conflict_df, index_col='index', \n",
    "                valid_dict={'Nappe_y':list(conflict_df.index)[:18]})"
   ]
  },
  {
   "cell_type": "code",
   "execution_count": 24,
   "id": "86e97ea2",
   "metadata": {
    "scrolled": true
   },
   "outputs": [
    {
     "data": {
      "text/html": [
       "<div>\n",
       "<style scoped>\n",
       "    .dataframe tbody tr th:only-of-type {\n",
       "        vertical-align: middle;\n",
       "    }\n",
       "\n",
       "    .dataframe tbody tr th {\n",
       "        vertical-align: top;\n",
       "    }\n",
       "\n",
       "    .dataframe thead th {\n",
       "        text-align: right;\n",
       "    }\n",
       "</style>\n",
       "<table border=\"1\" class=\"dataframe\">\n",
       "  <thead>\n",
       "    <tr style=\"text-align: right;\">\n",
       "      <th></th>\n",
       "      <th>Check_col</th>\n",
       "      <th>ID</th>\n",
       "      <th>Origin_ID_x</th>\n",
       "      <th>Origin_ID_y</th>\n",
       "      <th>Nappe_x</th>\n",
       "      <th>Nappe_y</th>\n",
       "    </tr>\n",
       "  </thead>\n",
       "  <tbody>\n",
       "    <tr>\n",
       "      <th>8</th>\n",
       "      <td>Origin_ID</td>\n",
       "      <td>59</td>\n",
       "      <td>59</td>\n",
       "      <td>P59</td>\n",
       "      <td>Done</td>\n",
       "      <td>Done</td>\n",
       "    </tr>\n",
       "    <tr>\n",
       "      <th>61</th>\n",
       "      <td>Origin_ID</td>\n",
       "      <td>FP49</td>\n",
       "      <td>FP 49 SUP</td>\n",
       "      <td>FP49sup</td>\n",
       "      <td>Done</td>\n",
       "      <td>Done</td>\n",
       "    </tr>\n",
       "    <tr>\n",
       "      <th>68</th>\n",
       "      <td>Origin_ID</td>\n",
       "      <td>FP63</td>\n",
       "      <td>FP63 sup</td>\n",
       "      <td>FP63sup</td>\n",
       "      <td>Done</td>\n",
       "      <td>Done</td>\n",
       "    </tr>\n",
       "    <tr>\n",
       "      <th>69</th>\n",
       "      <td>Origin_ID</td>\n",
       "      <td>FP76</td>\n",
       "      <td>FP76 sup</td>\n",
       "      <td>FP76sup</td>\n",
       "      <td>Done</td>\n",
       "      <td>Done</td>\n",
       "    </tr>\n",
       "    <tr>\n",
       "      <th>103</th>\n",
       "      <td>Nappe</td>\n",
       "      <td>539</td>\n",
       "      <td>539</td>\n",
       "      <td>539</td>\n",
       "      <td>All_limoneuse</td>\n",
       "      <td>Alluvions</td>\n",
       "    </tr>\n",
       "    <tr>\n",
       "      <th>105</th>\n",
       "      <td>Nappe</td>\n",
       "      <td>533</td>\n",
       "      <td>533</td>\n",
       "      <td>533</td>\n",
       "      <td>All_limoneuses_graveleuses</td>\n",
       "      <td>Alluvions</td>\n",
       "    </tr>\n",
       "    <tr>\n",
       "      <th>106</th>\n",
       "      <td>Origin_ID, Nappe</td>\n",
       "      <td>502</td>\n",
       "      <td>502sup</td>\n",
       "      <td>502</td>\n",
       "      <td>All_limoneuses_graveleuses</td>\n",
       "      <td>Socle</td>\n",
       "    </tr>\n",
       "    <tr>\n",
       "      <th>108</th>\n",
       "      <td>Origin_ID, Nappe</td>\n",
       "      <td>512</td>\n",
       "      <td>512sup</td>\n",
       "      <td>512</td>\n",
       "      <td>Remblai_All</td>\n",
       "      <td>Socle</td>\n",
       "    </tr>\n",
       "    <tr>\n",
       "      <th>111</th>\n",
       "      <td>Origin_ID, Nappe</td>\n",
       "      <td>595</td>\n",
       "      <td>595sup Al</td>\n",
       "      <td>595</td>\n",
       "      <td>All_limoneuses_graveleuses</td>\n",
       "      <td>Alluvions</td>\n",
       "    </tr>\n",
       "    <tr>\n",
       "      <th>112</th>\n",
       "      <td>Origin_ID, Nappe</td>\n",
       "      <td>540</td>\n",
       "      <td>540sup R</td>\n",
       "      <td>540</td>\n",
       "      <td>Remblais</td>\n",
       "      <td>Alluvions</td>\n",
       "    </tr>\n",
       "  </tbody>\n",
       "</table>\n",
       "</div>"
      ],
      "text/plain": [
       "            Check_col    ID Origin_ID_x Origin_ID_y  \\\n",
       "8           Origin_ID    59          59         P59   \n",
       "61          Origin_ID  FP49   FP 49 SUP     FP49sup   \n",
       "68          Origin_ID  FP63    FP63 sup     FP63sup   \n",
       "69          Origin_ID  FP76    FP76 sup     FP76sup   \n",
       "103             Nappe   539         539         539   \n",
       "105             Nappe   533         533         533   \n",
       "106  Origin_ID, Nappe   502      502sup         502   \n",
       "108  Origin_ID, Nappe   512      512sup         512   \n",
       "111  Origin_ID, Nappe   595   595sup Al         595   \n",
       "112  Origin_ID, Nappe   540    540sup R         540   \n",
       "\n",
       "                        Nappe_x    Nappe_y  \n",
       "8                          Done       Done  \n",
       "61                         Done       Done  \n",
       "68                         Done       Done  \n",
       "69                         Done       Done  \n",
       "103               All_limoneuse  Alluvions  \n",
       "105  All_limoneuses_graveleuses  Alluvions  \n",
       "106  All_limoneuses_graveleuses      Socle  \n",
       "108                 Remblai_All      Socle  \n",
       "111  All_limoneuses_graveleuses  Alluvions  \n",
       "112                    Remblais  Alluvions  "
      ]
     },
     "execution_count": 24,
     "metadata": {},
     "output_type": "execute_result"
    }
   ],
   "source": [
    "conflict_df"
   ]
  },
  {
   "cell_type": "markdown",
   "id": "60bdca97",
   "metadata": {},
   "source": [
    "#### Merge with object dataset"
   ]
  },
  {
   "cell_type": "code",
   "execution_count": 25,
   "id": "a9294e8e",
   "metadata": {
    "scrolled": true
   },
   "outputs": [],
   "source": [
    "dataset, conflict_df=data_merger(dataset, mdf, how=how[1], on='ID', dist_max=1)"
   ]
  },
  {
   "cell_type": "code",
   "execution_count": 26,
   "id": "0db2f535",
   "metadata": {},
   "outputs": [],
   "source": [
    "if 'level_0' in dataset.columns:\n",
    "    if 'index' in dataset.columns:\n",
    "        dataset.drop(columns='index', inplace=True)\n",
    "    dataset.rename(columns={'level_0':'index'}, inplace=True)"
   ]
  },
  {
   "cell_type": "code",
   "execution_count": 27,
   "id": "33010411",
   "metadata": {
    "scrolled": true
   },
   "outputs": [
    {
     "name": "stdout",
     "output_type": "stream",
     "text": [
      "Rows : 363, columns : 21, Unique values on col 'ID': 346\n"
     ]
    },
    {
     "data": {
      "application/vnd.jupyter.widget-view+json": {
       "model_id": "89a571dee4f24800a6a12f87a92a4467",
       "version_major": 2,
       "version_minor": 0
      },
      "text/plain": [
       "interactive(children=(IntSlider(value=10, description='rows', max=363, min=10, readout=False), IntSlider(value…"
      ]
     },
     "metadata": {},
     "output_type": "display_data"
    }
   ],
   "source": [
    "dataframe_viewer(dataset, rows=10, un_val='ID', view=t)"
   ]
  },
  {
   "cell_type": "markdown",
   "id": "321cd531",
   "metadata": {},
   "source": [
    "#### $\\color{green}{\\textbf{Read and merge}}$"
   ]
  },
  {
   "cell_type": "code",
   "execution_count": 28,
   "id": "0a3cd181",
   "metadata": {
    "scrolled": false
   },
   "outputs": [
    {
     "name": "stdout",
     "output_type": "stream",
     "text": [
      "df1 :  --> Coordinates\n",
      "df1 :  --> Coordinates\n",
      "Rows : 10, columns : 9, Unique values on col 'ID': 10\n"
     ]
    },
    {
     "data": {
      "application/vnd.jupyter.widget-view+json": {
       "model_id": "b662d87d2fdf4e8caba9f6f149f8f194",
       "version_major": 2,
       "version_minor": 0
      },
      "text/plain": [
       "interactive(children=(IntSlider(value=3, description='rows', max=10, min=3, readout=False), IntSlider(value=9,…"
      ]
     },
     "metadata": {},
     "output_type": "display_data"
    },
    {
     "name": "stdout",
     "output_type": "stream",
     "text": [
      "Rows : 6, columns : 6, Unique values on col 'ID': 6\n"
     ]
    },
    {
     "data": {
      "application/vnd.jupyter.widget-view+json": {
       "model_id": "a4fda8e5486648fc81e2ff66583886fb",
       "version_major": 2,
       "version_minor": 0
      },
      "text/plain": [
       "interactive(children=(IntSlider(value=3, description='rows', max=6, min=3, readout=False), IntSlider(value=6, …"
      ]
     },
     "metadata": {},
     "output_type": "display_data"
    },
    {
     "data": {
      "text/plain": [
       "(None, None)"
      ]
     },
     "execution_count": 28,
     "metadata": {},
     "output_type": "execute_result"
    }
   ],
   "source": [
    "file1= work_dir + 'Phase_2_Memoris/Result_eau_Piezometers.csv' # 3\n",
    "file2= work_dir + 'database_Memoris3/Drains_Pz_ENEL_Piezometers.csv' # 5  \n",
    "\n",
    "\n",
    "df1, df2 = create_df([file1, file2])\n",
    "dataframe_viewer(df1, rows=3, un_val='ID', view=t), dataframe_viewer(df2, rows=3, un_val='ID', view=t)"
   ]
  },
  {
   "cell_type": "code",
   "execution_count": 29,
   "id": "78549fa1",
   "metadata": {
    "scrolled": true
   },
   "outputs": [],
   "source": [
    "mdf, conflict_df=data_merger(df1, df2, how=how[1], on='ID', dist_max=1)"
   ]
  },
  {
   "cell_type": "markdown",
   "id": "ff4c8590",
   "metadata": {},
   "source": [
    "#### Merge with object dataset"
   ]
  },
  {
   "cell_type": "code",
   "execution_count": 30,
   "id": "7e9cb072",
   "metadata": {
    "scrolled": true
   },
   "outputs": [],
   "source": [
    "dataset, conflict_df=data_merger(dataset, mdf, how=how[1], on='ID', dist_max=1)"
   ]
  },
  {
   "cell_type": "code",
   "execution_count": 31,
   "id": "2b3c0457",
   "metadata": {},
   "outputs": [],
   "source": [
    "if 'level_0' in dataset.columns:\n",
    "    if 'index' in dataset.columns:\n",
    "        dataset.drop(columns='index', inplace=True)\n",
    "    dataset.rename(columns={'level_0':'index'}, inplace=True)"
   ]
  },
  {
   "cell_type": "code",
   "execution_count": 32,
   "id": "b3621f91",
   "metadata": {
    "scrolled": false
   },
   "outputs": [
    {
     "name": "stdout",
     "output_type": "stream",
     "text": [
      "Rows : 374, columns : 22, Unique values on col 'ID': 355\n"
     ]
    },
    {
     "data": {
      "application/vnd.jupyter.widget-view+json": {
       "model_id": "fed277026b6e4bac9e463a260d78f485",
       "version_major": 2,
       "version_minor": 0
      },
      "text/plain": [
       "interactive(children=(IntSlider(value=10, description='rows', max=374, min=10, readout=False), IntSlider(value…"
      ]
     },
     "metadata": {},
     "output_type": "display_data"
    }
   ],
   "source": [
    "dataframe_viewer(dataset, rows=10, un_val='ID', view=t)"
   ]
  },
  {
   "cell_type": "markdown",
   "id": "506e15b2",
   "metadata": {},
   "source": [
    "#### $\\color{green}{\\textbf{Read and merge}}$"
   ]
  },
  {
   "cell_type": "code",
   "execution_count": 33,
   "id": "bc90adef",
   "metadata": {
    "scrolled": false
   },
   "outputs": [
    {
     "name": "stdout",
     "output_type": "stream",
     "text": [
      "df1 :  --> Coordinates\n",
      "df1 :  --> Coordinates\n",
      "Rows : 3, columns : 18, Unique values on col 'ID': 3\n"
     ]
    },
    {
     "data": {
      "application/vnd.jupyter.widget-view+json": {
       "model_id": "7160dbcf0041437ba38dcc89a70dd3b1",
       "version_major": 2,
       "version_minor": 0
      },
      "text/plain": [
       "interactive(children=(IntSlider(value=3, description='rows', max=3, min=3, readout=False), IntSlider(value=12,…"
      ]
     },
     "metadata": {},
     "output_type": "display_data"
    },
    {
     "name": "stdout",
     "output_type": "stream",
     "text": [
      "Rows : 117, columns : 13, Unique values on col 'ID': 117\n"
     ]
    },
    {
     "data": {
      "application/vnd.jupyter.widget-view+json": {
       "model_id": "5e30254ef51a4481a5b0618c36cad0da",
       "version_major": 2,
       "version_minor": 0
      },
      "text/plain": [
       "interactive(children=(IntSlider(value=3, description='rows', max=117, min=3, readout=False), IntSlider(value=1…"
      ]
     },
     "metadata": {},
     "output_type": "display_data"
    },
    {
     "data": {
      "text/plain": [
       "(None, None)"
      ]
     },
     "execution_count": 33,
     "metadata": {},
     "output_type": "execute_result"
    }
   ],
   "source": [
    "file1= work_dir + 'donnees_terrain_2019/Donnees_forage_Piezometers.csv' # 9\n",
    "file2= work_dir + 'database_Memoris3/Result_eau_Piezometers.csv' # 7  \n",
    "\n",
    "df1, df2 = create_df([file1, file2])\n",
    "dataframe_viewer(df1, rows=3, un_val='ID', view=t), dataframe_viewer(df2, rows=3, un_val='ID', view=t)"
   ]
  },
  {
   "cell_type": "code",
   "execution_count": 34,
   "id": "1162d33a",
   "metadata": {},
   "outputs": [],
   "source": [
    "df1.ID = df1.ID.astype(str)\n",
    "df2.ID = df2.ID.astype(str)"
   ]
  },
  {
   "cell_type": "code",
   "execution_count": 35,
   "id": "faf68986",
   "metadata": {},
   "outputs": [
    {
     "name": "stdout",
     "output_type": "stream",
     "text": [
      "same objects at indices:[61, 64, 66, 69, 71, 73, 107, 114, 112, 115], will be dropped if drop is set True!\n",
      "Rows : 107 ; Columns : 14 ; Unique on 'ID' : 104 ; \n"
     ]
    }
   ],
   "source": [
    "df2, check = data_filter(df2, position=True, id_col='ID', expression='sup|prof', dist_max=1, drop=True, drop_old_id=True)"
   ]
  },
  {
   "cell_type": "code",
   "execution_count": 36,
   "id": "e15bc2b1",
   "metadata": {
    "scrolled": false
   },
   "outputs": [
    {
     "name": "stdout",
     "output_type": "stream",
     "text": [
      "Rows : 107, columns : 14, Unique values on col 'ID': 104\n"
     ]
    },
    {
     "data": {
      "application/vnd.jupyter.widget-view+json": {
       "model_id": "59e8b1a540dc41c5b811dcc5e9c587ad",
       "version_major": 2,
       "version_minor": 0
      },
      "text/plain": [
       "interactive(children=(IntSlider(value=10, description='rows', max=107, min=10, readout=False), IntSlider(value…"
      ]
     },
     "metadata": {},
     "output_type": "display_data"
    }
   ],
   "source": [
    "dataframe_viewer(df2, rows=10, un_val='ID', view=t)"
   ]
  },
  {
   "cell_type": "code",
   "execution_count": 37,
   "id": "ef9002dc",
   "metadata": {},
   "outputs": [
    {
     "name": "stdout",
     "output_type": "stream",
     "text": [
      "0 duplicate objects fixed!\n"
     ]
    }
   ],
   "source": [
    "fix_duplicates(df1, df2)"
   ]
  },
  {
   "cell_type": "code",
   "execution_count": 38,
   "id": "b73676a0",
   "metadata": {
    "scrolled": true
   },
   "outputs": [],
   "source": [
    "mdf, conflict_df=data_merger(df1, df2, how=how[1], on='ID', dist_max=1)"
   ]
  },
  {
   "cell_type": "markdown",
   "id": "2ec17765",
   "metadata": {},
   "source": [
    "#### Merge with object dataset"
   ]
  },
  {
   "cell_type": "code",
   "execution_count": 39,
   "id": "1334c6fd",
   "metadata": {
    "scrolled": true
   },
   "outputs": [
    {
     "name": "stdout",
     "output_type": "stream",
     "text": [
      "Conflict values present. Please resolve this manually !\n"
     ]
    }
   ],
   "source": [
    "dataset, conflict_df=data_merger(dataset, mdf, how=how[1], on='ID', dist_max=1)"
   ]
  },
  {
   "cell_type": "markdown",
   "id": "08568926",
   "metadata": {},
   "source": [
    "#### $\\color{blue}{\\textbf{Manage conflicts}}$"
   ]
  },
  {
   "cell_type": "code",
   "execution_count": 40,
   "id": "ab36d499",
   "metadata": {
    "scrolled": true
   },
   "outputs": [
    {
     "data": {
      "text/html": [
       "<div>\n",
       "<style scoped>\n",
       "    .dataframe tbody tr th:only-of-type {\n",
       "        vertical-align: middle;\n",
       "    }\n",
       "\n",
       "    .dataframe tbody tr th {\n",
       "        vertical-align: top;\n",
       "    }\n",
       "\n",
       "    .dataframe thead th {\n",
       "        text-align: right;\n",
       "    }\n",
       "</style>\n",
       "<table border=\"1\" class=\"dataframe\">\n",
       "  <thead>\n",
       "    <tr style=\"text-align: right;\">\n",
       "      <th></th>\n",
       "      <th>Check_col</th>\n",
       "      <th>ID</th>\n",
       "      <th>Origin_ID_x</th>\n",
       "      <th>Origin_ID_y</th>\n",
       "      <th>Nappe_x</th>\n",
       "      <th>Nappe_y</th>\n",
       "      <th>Long_crep_x</th>\n",
       "      <th>Long_crep_y</th>\n",
       "      <th>Long_pz_x</th>\n",
       "      <th>Long_pz_y</th>\n",
       "      <th>Diam_int_pz_x</th>\n",
       "      <th>Diam_int_pz_y</th>\n",
       "      <th>Zsol_x</th>\n",
       "      <th>Zsol_y</th>\n",
       "    </tr>\n",
       "  </thead>\n",
       "  <tbody>\n",
       "    <tr>\n",
       "      <th>36</th>\n",
       "      <td>Origin_ID, Nappe</td>\n",
       "      <td>59</td>\n",
       "      <td>#conflict</td>\n",
       "      <td>59</td>\n",
       "      <td>remblais</td>\n",
       "      <td>Remblai_All</td>\n",
       "      <td>5.8</td>\n",
       "      <td>5.8</td>\n",
       "      <td>6.944</td>\n",
       "      <td>6.944</td>\n",
       "      <td>25.0</td>\n",
       "      <td>25.0</td>\n",
       "      <td>101.960</td>\n",
       "      <td>101.960</td>\n",
       "    </tr>\n",
       "    <tr>\n",
       "      <th>65</th>\n",
       "      <td>Origin_ID</td>\n",
       "      <td>186</td>\n",
       "      <td>#conflict</td>\n",
       "      <td>186</td>\n",
       "      <td>NaN</td>\n",
       "      <td>Remblais</td>\n",
       "      <td>9.0</td>\n",
       "      <td>9.0</td>\n",
       "      <td>9.051</td>\n",
       "      <td>9.051</td>\n",
       "      <td>25.0</td>\n",
       "      <td>25.0</td>\n",
       "      <td>109.881</td>\n",
       "      <td>109.881</td>\n",
       "    </tr>\n",
       "    <tr>\n",
       "      <th>89</th>\n",
       "      <td>Origin_ID, Nappe</td>\n",
       "      <td>FP49</td>\n",
       "      <td>#conflict</td>\n",
       "      <td>FP 49 SUP</td>\n",
       "      <td>Socle</td>\n",
       "      <td>Remblai_All</td>\n",
       "      <td>5.0</td>\n",
       "      <td>5.0</td>\n",
       "      <td>NaN</td>\n",
       "      <td>NaN</td>\n",
       "      <td>41.0</td>\n",
       "      <td>41.0</td>\n",
       "      <td>NaN</td>\n",
       "      <td>NaN</td>\n",
       "    </tr>\n",
       "    <tr>\n",
       "      <th>93</th>\n",
       "      <td>Origin_ID, Nappe</td>\n",
       "      <td>FP63</td>\n",
       "      <td>#conflict</td>\n",
       "      <td>FP63 sup</td>\n",
       "      <td>Alluvions</td>\n",
       "      <td>Remblais</td>\n",
       "      <td>3.0</td>\n",
       "      <td>3.0</td>\n",
       "      <td>3.357</td>\n",
       "      <td>3.357</td>\n",
       "      <td>41.0</td>\n",
       "      <td>41.0</td>\n",
       "      <td>102.803</td>\n",
       "      <td>102.803</td>\n",
       "    </tr>\n",
       "    <tr>\n",
       "      <th>94</th>\n",
       "      <td>Origin_ID</td>\n",
       "      <td>FP76</td>\n",
       "      <td>#conflict</td>\n",
       "      <td>FP76 sup</td>\n",
       "      <td>NaN</td>\n",
       "      <td>Remblais</td>\n",
       "      <td>5.0</td>\n",
       "      <td>5.0</td>\n",
       "      <td>6.503</td>\n",
       "      <td>6.503</td>\n",
       "      <td>41.0</td>\n",
       "      <td>41.0</td>\n",
       "      <td>102.730</td>\n",
       "      <td>102.730</td>\n",
       "    </tr>\n",
       "    <tr>\n",
       "      <th>96</th>\n",
       "      <td>Nappe</td>\n",
       "      <td>501</td>\n",
       "      <td>501</td>\n",
       "      <td>501</td>\n",
       "      <td>Socle</td>\n",
       "      <td>Remblai_All</td>\n",
       "      <td>2.0</td>\n",
       "      <td>2.0</td>\n",
       "      <td>9.690</td>\n",
       "      <td>9.690</td>\n",
       "      <td>25.0</td>\n",
       "      <td>25.0</td>\n",
       "      <td>110.040</td>\n",
       "      <td>110.040</td>\n",
       "    </tr>\n",
       "    <tr>\n",
       "      <th>99</th>\n",
       "      <td>Nappe</td>\n",
       "      <td>510</td>\n",
       "      <td>510</td>\n",
       "      <td>510</td>\n",
       "      <td>remblais</td>\n",
       "      <td>All_limoneuse</td>\n",
       "      <td>3.0</td>\n",
       "      <td>3.0</td>\n",
       "      <td>5.400</td>\n",
       "      <td>5.400</td>\n",
       "      <td>41.0</td>\n",
       "      <td>41.0</td>\n",
       "      <td>104.050</td>\n",
       "      <td>104.050</td>\n",
       "    </tr>\n",
       "    <tr>\n",
       "      <th>101</th>\n",
       "      <td>Nappe</td>\n",
       "      <td>513</td>\n",
       "      <td>513</td>\n",
       "      <td>513</td>\n",
       "      <td>Alluvions</td>\n",
       "      <td>Remblai_All</td>\n",
       "      <td>3.0</td>\n",
       "      <td>3.0</td>\n",
       "      <td>7.100</td>\n",
       "      <td>7.100</td>\n",
       "      <td>41.0</td>\n",
       "      <td>41.0</td>\n",
       "      <td>104.690</td>\n",
       "      <td>104.690</td>\n",
       "    </tr>\n",
       "    <tr>\n",
       "      <th>103</th>\n",
       "      <td>Nappe</td>\n",
       "      <td>528</td>\n",
       "      <td>528</td>\n",
       "      <td>528</td>\n",
       "      <td>remblais</td>\n",
       "      <td>Remblai_All</td>\n",
       "      <td>2.0</td>\n",
       "      <td>2.0</td>\n",
       "      <td>3.670</td>\n",
       "      <td>3.670</td>\n",
       "      <td>41.0</td>\n",
       "      <td>41.0</td>\n",
       "      <td>103.500</td>\n",
       "      <td>103.500</td>\n",
       "    </tr>\n",
       "    <tr>\n",
       "      <th>105</th>\n",
       "      <td>Nappe</td>\n",
       "      <td>522</td>\n",
       "      <td>522</td>\n",
       "      <td>522</td>\n",
       "      <td>remblais</td>\n",
       "      <td>Remblai_All</td>\n",
       "      <td>2.0</td>\n",
       "      <td>2.0</td>\n",
       "      <td>2.980</td>\n",
       "      <td>2.980</td>\n",
       "      <td>41.0</td>\n",
       "      <td>41.0</td>\n",
       "      <td>103.070</td>\n",
       "      <td>103.070</td>\n",
       "    </tr>\n",
       "    <tr>\n",
       "      <th>117</th>\n",
       "      <td>Origin_ID</td>\n",
       "      <td>541</td>\n",
       "      <td>#conflict</td>\n",
       "      <td>541sup R</td>\n",
       "      <td>NaN</td>\n",
       "      <td>Remblais</td>\n",
       "      <td>4.0</td>\n",
       "      <td>4.0</td>\n",
       "      <td>5.200</td>\n",
       "      <td>5.200</td>\n",
       "      <td>25.0</td>\n",
       "      <td>25.0</td>\n",
       "      <td>101.410</td>\n",
       "      <td>101.410</td>\n",
       "    </tr>\n",
       "    <tr>\n",
       "      <th>119</th>\n",
       "      <td>Origin_ID, Long_crep, Long_pz</td>\n",
       "      <td>541</td>\n",
       "      <td>541</td>\n",
       "      <td>541sup R</td>\n",
       "      <td>remblais</td>\n",
       "      <td>Remblais</td>\n",
       "      <td>2.0</td>\n",
       "      <td>4.0</td>\n",
       "      <td>8.220</td>\n",
       "      <td>5.200</td>\n",
       "      <td>25.0</td>\n",
       "      <td>25.0</td>\n",
       "      <td>101.410</td>\n",
       "      <td>101.410</td>\n",
       "    </tr>\n",
       "    <tr>\n",
       "      <th>125</th>\n",
       "      <td>Nappe</td>\n",
       "      <td>539</td>\n",
       "      <td>539</td>\n",
       "      <td>539</td>\n",
       "      <td>#conflict</td>\n",
       "      <td>All_limoneuse</td>\n",
       "      <td>2.0</td>\n",
       "      <td>2.0</td>\n",
       "      <td>8.430</td>\n",
       "      <td>8.430</td>\n",
       "      <td>25.0</td>\n",
       "      <td>25.0</td>\n",
       "      <td>102.120</td>\n",
       "      <td>102.120</td>\n",
       "    </tr>\n",
       "    <tr>\n",
       "      <th>127</th>\n",
       "      <td>Nappe</td>\n",
       "      <td>533</td>\n",
       "      <td>533</td>\n",
       "      <td>533</td>\n",
       "      <td>#conflict</td>\n",
       "      <td>All_limoneuses_graveleuses</td>\n",
       "      <td>1.0</td>\n",
       "      <td>1.0</td>\n",
       "      <td>7.870</td>\n",
       "      <td>7.870</td>\n",
       "      <td>25.0</td>\n",
       "      <td>25.0</td>\n",
       "      <td>102.620</td>\n",
       "      <td>102.620</td>\n",
       "    </tr>\n",
       "    <tr>\n",
       "      <th>128</th>\n",
       "      <td>Origin_ID, Nappe</td>\n",
       "      <td>502</td>\n",
       "      <td>#conflict</td>\n",
       "      <td>502sup</td>\n",
       "      <td>#conflict</td>\n",
       "      <td>All_limoneuses_graveleuses</td>\n",
       "      <td>2.0</td>\n",
       "      <td>2.0</td>\n",
       "      <td>7.370</td>\n",
       "      <td>7.370</td>\n",
       "      <td>25.0</td>\n",
       "      <td>25.0</td>\n",
       "      <td>105.280</td>\n",
       "      <td>105.280</td>\n",
       "    </tr>\n",
       "    <tr>\n",
       "      <th>130</th>\n",
       "      <td>Origin_ID, Nappe</td>\n",
       "      <td>512</td>\n",
       "      <td>#conflict</td>\n",
       "      <td>512sup</td>\n",
       "      <td>#conflict</td>\n",
       "      <td>Remblai_All</td>\n",
       "      <td>3.0</td>\n",
       "      <td>3.0</td>\n",
       "      <td>4.670</td>\n",
       "      <td>4.670</td>\n",
       "      <td>41.0</td>\n",
       "      <td>41.0</td>\n",
       "      <td>104.820</td>\n",
       "      <td>104.820</td>\n",
       "    </tr>\n",
       "    <tr>\n",
       "      <th>132</th>\n",
       "      <td>Origin_ID, Long_crep, Diam_int_pz, Zsol, Nappe...</td>\n",
       "      <td>512</td>\n",
       "      <td>512</td>\n",
       "      <td>512sup</td>\n",
       "      <td>Socle</td>\n",
       "      <td>Remblai_All</td>\n",
       "      <td>2.0</td>\n",
       "      <td>3.0</td>\n",
       "      <td>14.560</td>\n",
       "      <td>4.670</td>\n",
       "      <td>51.0</td>\n",
       "      <td>41.0</td>\n",
       "      <td>104.870</td>\n",
       "      <td>104.820</td>\n",
       "    </tr>\n",
       "    <tr>\n",
       "      <th>134</th>\n",
       "      <td>Origin_ID, Nappe</td>\n",
       "      <td>595</td>\n",
       "      <td>#conflict</td>\n",
       "      <td>595sup Al</td>\n",
       "      <td>#conflict</td>\n",
       "      <td>All_limoneuses_graveleuses</td>\n",
       "      <td>3.0</td>\n",
       "      <td>3.0</td>\n",
       "      <td>9.400</td>\n",
       "      <td>9.400</td>\n",
       "      <td>25.0</td>\n",
       "      <td>25.0</td>\n",
       "      <td>101.590</td>\n",
       "      <td>101.590</td>\n",
       "    </tr>\n",
       "    <tr>\n",
       "      <th>135</th>\n",
       "      <td>Origin_ID, Nappe</td>\n",
       "      <td>540</td>\n",
       "      <td>#conflict</td>\n",
       "      <td>540sup R</td>\n",
       "      <td>#conflict</td>\n",
       "      <td>Remblais</td>\n",
       "      <td>5.0</td>\n",
       "      <td>5.0</td>\n",
       "      <td>7.760</td>\n",
       "      <td>7.760</td>\n",
       "      <td>25.0</td>\n",
       "      <td>25.0</td>\n",
       "      <td>106.910</td>\n",
       "      <td>106.910</td>\n",
       "    </tr>\n",
       "  </tbody>\n",
       "</table>\n",
       "</div>"
      ],
      "text/plain": [
       "                                             Check_col    ID Origin_ID_x  \\\n",
       "36                                    Origin_ID, Nappe    59   #conflict   \n",
       "65                                           Origin_ID   186   #conflict   \n",
       "89                                    Origin_ID, Nappe  FP49   #conflict   \n",
       "93                                    Origin_ID, Nappe  FP63   #conflict   \n",
       "94                                           Origin_ID  FP76   #conflict   \n",
       "96                                               Nappe   501         501   \n",
       "99                                               Nappe   510         510   \n",
       "101                                              Nappe   513         513   \n",
       "103                                              Nappe   528         528   \n",
       "105                                              Nappe   522         522   \n",
       "117                                          Origin_ID   541   #conflict   \n",
       "119                      Origin_ID, Long_crep, Long_pz   541         541   \n",
       "125                                              Nappe   539         539   \n",
       "127                                              Nappe   533         533   \n",
       "128                                   Origin_ID, Nappe   502   #conflict   \n",
       "130                                   Origin_ID, Nappe   512   #conflict   \n",
       "132  Origin_ID, Long_crep, Diam_int_pz, Zsol, Nappe...   512         512   \n",
       "134                                   Origin_ID, Nappe   595   #conflict   \n",
       "135                                   Origin_ID, Nappe   540   #conflict   \n",
       "\n",
       "    Origin_ID_y    Nappe_x                     Nappe_y  Long_crep_x  \\\n",
       "36           59   remblais                 Remblai_All          5.8   \n",
       "65          186        NaN                    Remblais          9.0   \n",
       "89    FP 49 SUP      Socle                 Remblai_All          5.0   \n",
       "93     FP63 sup  Alluvions                    Remblais          3.0   \n",
       "94     FP76 sup        NaN                    Remblais          5.0   \n",
       "96          501      Socle                 Remblai_All          2.0   \n",
       "99          510   remblais               All_limoneuse          3.0   \n",
       "101         513  Alluvions                 Remblai_All          3.0   \n",
       "103         528   remblais                 Remblai_All          2.0   \n",
       "105         522   remblais                 Remblai_All          2.0   \n",
       "117    541sup R        NaN                    Remblais          4.0   \n",
       "119    541sup R   remblais                    Remblais          2.0   \n",
       "125         539  #conflict               All_limoneuse          2.0   \n",
       "127         533  #conflict  All_limoneuses_graveleuses          1.0   \n",
       "128      502sup  #conflict  All_limoneuses_graveleuses          2.0   \n",
       "130      512sup  #conflict                 Remblai_All          3.0   \n",
       "132      512sup      Socle                 Remblai_All          2.0   \n",
       "134   595sup Al  #conflict  All_limoneuses_graveleuses          3.0   \n",
       "135    540sup R  #conflict                    Remblais          5.0   \n",
       "\n",
       "     Long_crep_y  Long_pz_x  Long_pz_y  Diam_int_pz_x  Diam_int_pz_y   Zsol_x  \\\n",
       "36           5.8      6.944      6.944           25.0           25.0  101.960   \n",
       "65           9.0      9.051      9.051           25.0           25.0  109.881   \n",
       "89           5.0        NaN        NaN           41.0           41.0      NaN   \n",
       "93           3.0      3.357      3.357           41.0           41.0  102.803   \n",
       "94           5.0      6.503      6.503           41.0           41.0  102.730   \n",
       "96           2.0      9.690      9.690           25.0           25.0  110.040   \n",
       "99           3.0      5.400      5.400           41.0           41.0  104.050   \n",
       "101          3.0      7.100      7.100           41.0           41.0  104.690   \n",
       "103          2.0      3.670      3.670           41.0           41.0  103.500   \n",
       "105          2.0      2.980      2.980           41.0           41.0  103.070   \n",
       "117          4.0      5.200      5.200           25.0           25.0  101.410   \n",
       "119          4.0      8.220      5.200           25.0           25.0  101.410   \n",
       "125          2.0      8.430      8.430           25.0           25.0  102.120   \n",
       "127          1.0      7.870      7.870           25.0           25.0  102.620   \n",
       "128          2.0      7.370      7.370           25.0           25.0  105.280   \n",
       "130          3.0      4.670      4.670           41.0           41.0  104.820   \n",
       "132          3.0     14.560      4.670           51.0           41.0  104.870   \n",
       "134          3.0      9.400      9.400           25.0           25.0  101.590   \n",
       "135          5.0      7.760      7.760           25.0           25.0  106.910   \n",
       "\n",
       "      Zsol_y  \n",
       "36   101.960  \n",
       "65   109.881  \n",
       "89       NaN  \n",
       "93   102.803  \n",
       "94   102.730  \n",
       "96   110.040  \n",
       "99   104.050  \n",
       "101  104.690  \n",
       "103  103.500  \n",
       "105  103.070  \n",
       "117  101.410  \n",
       "119  101.410  \n",
       "125  102.120  \n",
       "127  102.620  \n",
       "128  105.280  \n",
       "130  104.820  \n",
       "132  104.820  \n",
       "134  101.590  \n",
       "135  106.910  "
      ]
     },
     "execution_count": 40,
     "metadata": {},
     "output_type": "execute_result"
    }
   ],
   "source": [
    "conflict_df"
   ]
  },
  {
   "cell_type": "code",
   "execution_count": 41,
   "id": "812dd47f",
   "metadata": {},
   "outputs": [
    {
     "name": "stdout",
     "output_type": "stream",
     "text": [
      "[36, 65, 89, 93, 94, 96, 99, 101, 103, 105, 117, 119, 125, 127, 128, 130, 132, 134]\n"
     ]
    }
   ],
   "source": [
    "print(list(conflict_df.index)[:18])"
   ]
  },
  {
   "cell_type": "code",
   "execution_count": 42,
   "id": "463d1e9d",
   "metadata": {},
   "outputs": [
    {
     "name": "stdout",
     "output_type": "stream",
     "text": [
      "Validation done, but conflicts remain!\n"
     ]
    }
   ],
   "source": [
    "data_validation(overall_data=mdf, conflict_data=conflict_df, index_col='index', \n",
    "                valid_dict={'Nappe_y':list(conflict_df.index)[:18]})"
   ]
  },
  {
   "cell_type": "code",
   "execution_count": 43,
   "id": "d7ac9fbd",
   "metadata": {
    "scrolled": true
   },
   "outputs": [
    {
     "data": {
      "text/html": [
       "<div>\n",
       "<style scoped>\n",
       "    .dataframe tbody tr th:only-of-type {\n",
       "        vertical-align: middle;\n",
       "    }\n",
       "\n",
       "    .dataframe tbody tr th {\n",
       "        vertical-align: top;\n",
       "    }\n",
       "\n",
       "    .dataframe thead th {\n",
       "        text-align: right;\n",
       "    }\n",
       "</style>\n",
       "<table border=\"1\" class=\"dataframe\">\n",
       "  <thead>\n",
       "    <tr style=\"text-align: right;\">\n",
       "      <th></th>\n",
       "      <th>Check_col</th>\n",
       "      <th>ID</th>\n",
       "      <th>Origin_ID_x</th>\n",
       "      <th>Origin_ID_y</th>\n",
       "      <th>Nappe_x</th>\n",
       "      <th>Nappe_y</th>\n",
       "      <th>Long_crep_x</th>\n",
       "      <th>Long_crep_y</th>\n",
       "      <th>Long_pz_x</th>\n",
       "      <th>Long_pz_y</th>\n",
       "      <th>Diam_int_pz_x</th>\n",
       "      <th>Diam_int_pz_y</th>\n",
       "      <th>Zsol_x</th>\n",
       "      <th>Zsol_y</th>\n",
       "    </tr>\n",
       "  </thead>\n",
       "  <tbody>\n",
       "    <tr>\n",
       "      <th>36</th>\n",
       "      <td>Origin_ID</td>\n",
       "      <td>59</td>\n",
       "      <td>#conflict</td>\n",
       "      <td>59</td>\n",
       "      <td>Done</td>\n",
       "      <td>Done</td>\n",
       "      <td>5.8</td>\n",
       "      <td>5.8</td>\n",
       "      <td>6.944</td>\n",
       "      <td>6.944</td>\n",
       "      <td>25.0</td>\n",
       "      <td>25.0</td>\n",
       "      <td>101.960</td>\n",
       "      <td>101.960</td>\n",
       "    </tr>\n",
       "    <tr>\n",
       "      <th>89</th>\n",
       "      <td>Origin_ID</td>\n",
       "      <td>FP49</td>\n",
       "      <td>#conflict</td>\n",
       "      <td>FP 49 SUP</td>\n",
       "      <td>Done</td>\n",
       "      <td>Done</td>\n",
       "      <td>5.0</td>\n",
       "      <td>5.0</td>\n",
       "      <td>NaN</td>\n",
       "      <td>NaN</td>\n",
       "      <td>41.0</td>\n",
       "      <td>41.0</td>\n",
       "      <td>NaN</td>\n",
       "      <td>NaN</td>\n",
       "    </tr>\n",
       "    <tr>\n",
       "      <th>93</th>\n",
       "      <td>Origin_ID</td>\n",
       "      <td>FP63</td>\n",
       "      <td>#conflict</td>\n",
       "      <td>FP63 sup</td>\n",
       "      <td>Done</td>\n",
       "      <td>Done</td>\n",
       "      <td>3.0</td>\n",
       "      <td>3.0</td>\n",
       "      <td>3.357</td>\n",
       "      <td>3.357</td>\n",
       "      <td>41.0</td>\n",
       "      <td>41.0</td>\n",
       "      <td>102.803</td>\n",
       "      <td>102.803</td>\n",
       "    </tr>\n",
       "    <tr>\n",
       "      <th>119</th>\n",
       "      <td>Origin_ID, Long_crep, Long_pz</td>\n",
       "      <td>541</td>\n",
       "      <td>541</td>\n",
       "      <td>541sup R</td>\n",
       "      <td>Done</td>\n",
       "      <td>Done</td>\n",
       "      <td>2.0</td>\n",
       "      <td>4.0</td>\n",
       "      <td>8.220</td>\n",
       "      <td>5.200</td>\n",
       "      <td>25.0</td>\n",
       "      <td>25.0</td>\n",
       "      <td>101.410</td>\n",
       "      <td>101.410</td>\n",
       "    </tr>\n",
       "    <tr>\n",
       "      <th>128</th>\n",
       "      <td>Origin_ID</td>\n",
       "      <td>502</td>\n",
       "      <td>#conflict</td>\n",
       "      <td>502sup</td>\n",
       "      <td>Done</td>\n",
       "      <td>Done</td>\n",
       "      <td>2.0</td>\n",
       "      <td>2.0</td>\n",
       "      <td>7.370</td>\n",
       "      <td>7.370</td>\n",
       "      <td>25.0</td>\n",
       "      <td>25.0</td>\n",
       "      <td>105.280</td>\n",
       "      <td>105.280</td>\n",
       "    </tr>\n",
       "    <tr>\n",
       "      <th>130</th>\n",
       "      <td>Origin_ID</td>\n",
       "      <td>512</td>\n",
       "      <td>#conflict</td>\n",
       "      <td>512sup</td>\n",
       "      <td>Done</td>\n",
       "      <td>Done</td>\n",
       "      <td>3.0</td>\n",
       "      <td>3.0</td>\n",
       "      <td>4.670</td>\n",
       "      <td>4.670</td>\n",
       "      <td>41.0</td>\n",
       "      <td>41.0</td>\n",
       "      <td>104.820</td>\n",
       "      <td>104.820</td>\n",
       "    </tr>\n",
       "    <tr>\n",
       "      <th>132</th>\n",
       "      <td>Origin_ID, Long_crep, Diam_int_pz, Zsol, Long_pz</td>\n",
       "      <td>512</td>\n",
       "      <td>512</td>\n",
       "      <td>512sup</td>\n",
       "      <td>Done</td>\n",
       "      <td>Done</td>\n",
       "      <td>2.0</td>\n",
       "      <td>3.0</td>\n",
       "      <td>14.560</td>\n",
       "      <td>4.670</td>\n",
       "      <td>51.0</td>\n",
       "      <td>41.0</td>\n",
       "      <td>104.870</td>\n",
       "      <td>104.820</td>\n",
       "    </tr>\n",
       "    <tr>\n",
       "      <th>134</th>\n",
       "      <td>Origin_ID</td>\n",
       "      <td>595</td>\n",
       "      <td>#conflict</td>\n",
       "      <td>595sup Al</td>\n",
       "      <td>Done</td>\n",
       "      <td>Done</td>\n",
       "      <td>3.0</td>\n",
       "      <td>3.0</td>\n",
       "      <td>9.400</td>\n",
       "      <td>9.400</td>\n",
       "      <td>25.0</td>\n",
       "      <td>25.0</td>\n",
       "      <td>101.590</td>\n",
       "      <td>101.590</td>\n",
       "    </tr>\n",
       "    <tr>\n",
       "      <th>135</th>\n",
       "      <td>Origin_ID, Nappe</td>\n",
       "      <td>540</td>\n",
       "      <td>#conflict</td>\n",
       "      <td>540sup R</td>\n",
       "      <td>#conflict</td>\n",
       "      <td>Remblais</td>\n",
       "      <td>5.0</td>\n",
       "      <td>5.0</td>\n",
       "      <td>7.760</td>\n",
       "      <td>7.760</td>\n",
       "      <td>25.0</td>\n",
       "      <td>25.0</td>\n",
       "      <td>106.910</td>\n",
       "      <td>106.910</td>\n",
       "    </tr>\n",
       "  </tbody>\n",
       "</table>\n",
       "</div>"
      ],
      "text/plain": [
       "                                            Check_col    ID Origin_ID_x  \\\n",
       "36                                          Origin_ID    59   #conflict   \n",
       "89                                          Origin_ID  FP49   #conflict   \n",
       "93                                          Origin_ID  FP63   #conflict   \n",
       "119                     Origin_ID, Long_crep, Long_pz   541         541   \n",
       "128                                         Origin_ID   502   #conflict   \n",
       "130                                         Origin_ID   512   #conflict   \n",
       "132  Origin_ID, Long_crep, Diam_int_pz, Zsol, Long_pz   512         512   \n",
       "134                                         Origin_ID   595   #conflict   \n",
       "135                                  Origin_ID, Nappe   540   #conflict   \n",
       "\n",
       "    Origin_ID_y    Nappe_x   Nappe_y  Long_crep_x  Long_crep_y  Long_pz_x  \\\n",
       "36           59       Done      Done          5.8          5.8      6.944   \n",
       "89    FP 49 SUP       Done      Done          5.0          5.0        NaN   \n",
       "93     FP63 sup       Done      Done          3.0          3.0      3.357   \n",
       "119    541sup R       Done      Done          2.0          4.0      8.220   \n",
       "128      502sup       Done      Done          2.0          2.0      7.370   \n",
       "130      512sup       Done      Done          3.0          3.0      4.670   \n",
       "132      512sup       Done      Done          2.0          3.0     14.560   \n",
       "134   595sup Al       Done      Done          3.0          3.0      9.400   \n",
       "135    540sup R  #conflict  Remblais          5.0          5.0      7.760   \n",
       "\n",
       "     Long_pz_y  Diam_int_pz_x  Diam_int_pz_y   Zsol_x   Zsol_y  \n",
       "36       6.944           25.0           25.0  101.960  101.960  \n",
       "89         NaN           41.0           41.0      NaN      NaN  \n",
       "93       3.357           41.0           41.0  102.803  102.803  \n",
       "119      5.200           25.0           25.0  101.410  101.410  \n",
       "128      7.370           25.0           25.0  105.280  105.280  \n",
       "130      4.670           41.0           41.0  104.820  104.820  \n",
       "132      4.670           51.0           41.0  104.870  104.820  \n",
       "134      9.400           25.0           25.0  101.590  101.590  \n",
       "135      7.760           25.0           25.0  106.910  106.910  "
      ]
     },
     "execution_count": 43,
     "metadata": {},
     "output_type": "execute_result"
    }
   ],
   "source": [
    "conflict_df"
   ]
  },
  {
   "cell_type": "code",
   "execution_count": 44,
   "id": "12214cad",
   "metadata": {},
   "outputs": [],
   "source": [
    "if 'level_0' in dataset.columns:\n",
    "    if 'index' in dataset.columns:\n",
    "        dataset.drop(columns='index', inplace=True)\n",
    "    dataset.rename(columns={'level_0':'index'}, inplace=True)"
   ]
  },
  {
   "cell_type": "code",
   "execution_count": 45,
   "id": "40ec55cd",
   "metadata": {
    "scrolled": false
   },
   "outputs": [
    {
     "name": "stdout",
     "output_type": "stream",
     "text": [
      "Rows : 411, columns : 31, Unique values on col 'ID': 358\n"
     ]
    },
    {
     "data": {
      "application/vnd.jupyter.widget-view+json": {
       "model_id": "dcafcba907a04ea2a68d265d7164f01e",
       "version_major": 2,
       "version_minor": 0
      },
      "text/plain": [
       "interactive(children=(IntSlider(value=10, description='rows', max=411, min=10, readout=False), IntSlider(value…"
      ]
     },
     "metadata": {},
     "output_type": "display_data"
    }
   ],
   "source": [
    "dataframe_viewer(dataset, rows=10, un_val='ID', view=t)"
   ]
  },
  {
   "cell_type": "markdown",
   "id": "492b9995",
   "metadata": {},
   "source": [
    "#### $\\color{green}{\\textbf{Read and merge}}$"
   ]
  },
  {
   "cell_type": "code",
   "execution_count": 46,
   "id": "4f1e79a2",
   "metadata": {
    "scrolled": false
   },
   "outputs": [
    {
     "name": "stdout",
     "output_type": "stream",
     "text": [
      "df1 :  --> Coordinates\n",
      "df1 :  --> Coordinates\n",
      "Rows : 12, columns : 18, Unique values on col 'ID': 12\n"
     ]
    },
    {
     "data": {
      "application/vnd.jupyter.widget-view+json": {
       "model_id": "99c4e100aa2246b592585cef5168efb1",
       "version_major": 2,
       "version_minor": 0
      },
      "text/plain": [
       "interactive(children=(IntSlider(value=3, description='rows', max=12, min=3, readout=False), IntSlider(value=12…"
      ]
     },
     "metadata": {},
     "output_type": "display_data"
    },
    {
     "name": "stdout",
     "output_type": "stream",
     "text": [
      "Rows : 29, columns : 7, Unique values on col 'ID': 29\n"
     ]
    },
    {
     "data": {
      "application/vnd.jupyter.widget-view+json": {
       "model_id": "8e8f56d0592143a39fd5577ac7b1e9ee",
       "version_major": 2,
       "version_minor": 0
      },
      "text/plain": [
       "interactive(children=(IntSlider(value=3, description='rows', max=29, min=3, readout=False), IntSlider(value=7,…"
      ]
     },
     "metadata": {},
     "output_type": "display_data"
    },
    {
     "data": {
      "text/plain": [
       "(None, None)"
      ]
     },
     "execution_count": 46,
     "metadata": {},
     "output_type": "execute_result"
    }
   ],
   "source": [
    "file1= work_dir + 'profils_sols_donnees_forages/donnees_forage_Piezometers.csv' # 13\n",
    "file2= work_dir + 'vUmons_logsFor/Analyse_eau_Phases1&2_Piezometers.csv' # 15  \n",
    "\n",
    "df1, df2 = create_df([file1, file2])\n",
    "dataframe_viewer(df1, rows=3, un_val='ID', view=t), dataframe_viewer(df2, rows=3, un_val='ID', view=t)"
   ]
  },
  {
   "cell_type": "code",
   "execution_count": 47,
   "id": "1d350117",
   "metadata": {},
   "outputs": [],
   "source": [
    "df1.ID = df1.ID.astype(str)\n",
    "df2.ID = df2.ID.astype(str)"
   ]
  },
  {
   "cell_type": "raw",
   "id": "3e66c37c",
   "metadata": {},
   "source": [
    "df2.ID.replace('^P','F', regex=True, inplace=True)"
   ]
  },
  {
   "cell_type": "code",
   "execution_count": 48,
   "id": "cc13cda8",
   "metadata": {},
   "outputs": [
    {
     "name": "stdout",
     "output_type": "stream",
     "text": [
      "1 duplicate objects fixed!\n"
     ]
    }
   ],
   "source": [
    "fix_duplicates(df1, df2, drop_old_id=True)"
   ]
  },
  {
   "cell_type": "code",
   "execution_count": 49,
   "id": "30cedda3",
   "metadata": {
    "scrolled": true
   },
   "outputs": [],
   "source": [
    "mdf, conflict_df = data_merger(df1, df2, how=how[1], on='ID', dist_max=1, error_tol_dict={1:['X', 'Y'], 0.01:['Z']})"
   ]
  },
  {
   "cell_type": "markdown",
   "id": "9ba4063b",
   "metadata": {},
   "source": [
    "#### Merge with object dataset"
   ]
  },
  {
   "cell_type": "code",
   "execution_count": 50,
   "id": "bc642263",
   "metadata": {
    "scrolled": true
   },
   "outputs": [],
   "source": [
    "dataset, conflict_df=data_merger(dataset, mdf, how=how[1], on='ID', dist_max=1)"
   ]
  },
  {
   "cell_type": "code",
   "execution_count": 51,
   "id": "5b470953",
   "metadata": {},
   "outputs": [],
   "source": [
    "if 'level_0' in dataset.columns:\n",
    "    if 'index' in dataset.columns:\n",
    "        dataset.drop(columns='index', inplace=True)\n",
    "    dataset.rename(columns={'level_0':'index'}, inplace=True)"
   ]
  },
  {
   "cell_type": "code",
   "execution_count": 52,
   "id": "f41a9757",
   "metadata": {},
   "outputs": [
    {
     "name": "stdout",
     "output_type": "stream",
     "text": [
      "Rows : 431, columns : 33, Unique values on col 'ID': 378\n"
     ]
    },
    {
     "data": {
      "application/vnd.jupyter.widget-view+json": {
       "model_id": "bb6a8de3a4d34e028d195dda0dbf7026",
       "version_major": 2,
       "version_minor": 0
      },
      "text/plain": [
       "interactive(children=(IntSlider(value=10, description='rows', max=431, min=10, readout=False), IntSlider(value…"
      ]
     },
     "metadata": {},
     "output_type": "display_data"
    }
   ],
   "source": [
    "dataframe_viewer(dataset, rows=10, un_val='ID', view=t)"
   ]
  },
  {
   "cell_type": "markdown",
   "id": "11aee71b",
   "metadata": {},
   "source": [
    "#### $\\color{green}{\\textbf{Read and merge}}$"
   ]
  },
  {
   "cell_type": "code",
   "execution_count": 53,
   "id": "85d72516",
   "metadata": {
    "scrolled": false
   },
   "outputs": [
    {
     "name": "stdout",
     "output_type": "stream",
     "text": [
      "Rows : 59, columns : 7, Unique values on col 'ID': 32\n"
     ]
    },
    {
     "data": {
      "application/vnd.jupyter.widget-view+json": {
       "model_id": "f7cded87889942ec814e0045f728e86a",
       "version_major": 2,
       "version_minor": 0
      },
      "text/plain": [
       "interactive(children=(IntSlider(value=3, description='rows', max=59, min=3, readout=False), IntSlider(value=7,…"
      ]
     },
     "metadata": {},
     "output_type": "display_data"
    }
   ],
   "source": [
    "file1= work_dir + 'vUmons_logsFor/Analyse_sol_Phases1&2_Piezometers.csv' # 16\n",
    "\n",
    "df1 = pd.read_csv(file1)\n",
    "dataframe_viewer(df1, rows=3, un_val='ID', view=t)"
   ]
  },
  {
   "cell_type": "markdown",
   "id": "1deda74d",
   "metadata": {},
   "source": [
    "#### Merge with object dataset"
   ]
  },
  {
   "cell_type": "code",
   "execution_count": 54,
   "id": "f55f5d75",
   "metadata": {
    "scrolled": true
   },
   "outputs": [
    {
     "name": "stdout",
     "output_type": "stream",
     "text": [
      "Conflict values present. Please resolve this manually !\n"
     ]
    }
   ],
   "source": [
    "dataset, conflict_df=data_merger(dataset, df1, how=how[1], on='ID', dist_max=1)"
   ]
  },
  {
   "cell_type": "markdown",
   "id": "e6dd8962",
   "metadata": {},
   "source": [
    "#### $\\color{blue}{\\textbf{Manage conflicts}}$"
   ]
  },
  {
   "cell_type": "code",
   "execution_count": 55,
   "id": "eb9aa991",
   "metadata": {
    "scrolled": true
   },
   "outputs": [
    {
     "data": {
      "text/html": [
       "<div>\n",
       "<style scoped>\n",
       "    .dataframe tbody tr th:only-of-type {\n",
       "        vertical-align: middle;\n",
       "    }\n",
       "\n",
       "    .dataframe tbody tr th {\n",
       "        vertical-align: top;\n",
       "    }\n",
       "\n",
       "    .dataframe thead th {\n",
       "        text-align: right;\n",
       "    }\n",
       "</style>\n",
       "<table border=\"1\" class=\"dataframe\">\n",
       "  <thead>\n",
       "    <tr style=\"text-align: right;\">\n",
       "      <th></th>\n",
       "      <th>Check_col</th>\n",
       "      <th>ID</th>\n",
       "      <th>Long_for_x</th>\n",
       "      <th>Long_for_y</th>\n",
       "    </tr>\n",
       "  </thead>\n",
       "  <tbody>\n",
       "    <tr>\n",
       "      <th>18</th>\n",
       "      <td>Long_for</td>\n",
       "      <td>P14M</td>\n",
       "      <td>3.2</td>\n",
       "      <td>2.8</td>\n",
       "    </tr>\n",
       "  </tbody>\n",
       "</table>\n",
       "</div>"
      ],
      "text/plain": [
       "   Check_col    ID  Long_for_x  Long_for_y\n",
       "18  Long_for  P14M         3.2         2.8"
      ]
     },
     "execution_count": 55,
     "metadata": {},
     "output_type": "execute_result"
    }
   ],
   "source": [
    "conflict_df"
   ]
  },
  {
   "cell_type": "code",
   "execution_count": null,
   "id": "54f8174d",
   "metadata": {},
   "outputs": [],
   "source": [
    "data_validation(overall_data=mdf, conflict_data=conflict_df, index_col='index', \n",
    "                valid_dict={'Long_for_x':list(conflict_df.index)})"
   ]
  },
  {
   "cell_type": "code",
   "execution_count": 56,
   "id": "58604497",
   "metadata": {},
   "outputs": [],
   "source": [
    "if 'level_0' in dataset.columns:\n",
    "    if 'index' in dataset.columns:\n",
    "        dataset.drop(columns='index', inplace=True)\n",
    "    dataset.rename(columns={'level_0':'index'}, inplace=True)"
   ]
  },
  {
   "cell_type": "markdown",
   "id": "a6761e9e",
   "metadata": {},
   "source": [
    "## No position dataset"
   ]
  },
  {
   "cell_type": "markdown",
   "id": "78e512dc",
   "metadata": {},
   "source": [
    "#### $\\color{green}{\\textbf{Read and merge}}$"
   ]
  },
  {
   "cell_type": "code",
   "execution_count": 57,
   "id": "63c8d92c",
   "metadata": {},
   "outputs": [
    {
     "name": "stdout",
     "output_type": "stream",
     "text": [
      "profils_sols_donnees_forages/piezometrie_Piezometers.csv || profils_sols_donnees_forages/Equipement_Piezometers.csv\n"
     ]
    }
   ],
   "source": [
    "a, b = 14, 12\n",
    "file1= files_dict[key][a]\n",
    "file2= files_dict[key][b]\n",
    "print(files_dict[key][a].replace(work_dir,\"\"),'||', files_dict[key][b].replace(work_dir,\"\"))"
   ]
  },
  {
   "cell_type": "code",
   "execution_count": 58,
   "id": "cd1961eb",
   "metadata": {
    "scrolled": false
   },
   "outputs": [
    {
     "name": "stdout",
     "output_type": "stream",
     "text": [
      "df1 :  --> No coordinates\n",
      "df1 :  --> No coordinates\n",
      "Rows : 11, columns : 8, Unique values on col 'ID': 11\n"
     ]
    },
    {
     "data": {
      "application/vnd.jupyter.widget-view+json": {
       "model_id": "31f44dcfdf9f4c17a7e4d6aa2064c79e",
       "version_major": 2,
       "version_minor": 0
      },
      "text/plain": [
       "interactive(children=(IntSlider(value=3, description='rows', max=11, min=3, readout=False), IntSlider(value=8,…"
      ]
     },
     "metadata": {},
     "output_type": "display_data"
    },
    {
     "name": "stdout",
     "output_type": "stream",
     "text": [
      "Rows : 12, columns : 5, Unique values on col 'ID': 12\n"
     ]
    },
    {
     "data": {
      "application/vnd.jupyter.widget-view+json": {
       "model_id": "f82c13a6afa447dca80fd4242c1153fc",
       "version_major": 2,
       "version_minor": 0
      },
      "text/plain": [
       "interactive(children=(IntSlider(value=3, description='rows', max=12, min=3, readout=False), IntSlider(value=5,…"
      ]
     },
     "metadata": {},
     "output_type": "display_data"
    },
    {
     "data": {
      "text/plain": [
       "(None, None)"
      ]
     },
     "execution_count": 58,
     "metadata": {},
     "output_type": "execute_result"
    }
   ],
   "source": [
    "file1= work_dir + 'profils_sols_donnees_forages/piezometrie_Piezometers.csv' # 14\n",
    "file2= work_dir + 'profils_sols_donnees_forages/Equipement_Piezometers.csv' # 12  \n",
    "\n",
    "df1, df2 = create_df([file1, file2])\n",
    "dataframe_viewer(df1, rows=3, un_val='ID', view=t), dataframe_viewer(df2, rows=3, un_val='ID', view=t)"
   ]
  },
  {
   "cell_type": "code",
   "execution_count": 59,
   "id": "10c3c545",
   "metadata": {},
   "outputs": [],
   "source": [
    "df1.ID = df1.ID.astype(str)\n",
    "df2.ID = df2.ID.astype(str)"
   ]
  },
  {
   "cell_type": "code",
   "execution_count": 60,
   "id": "d4d411af",
   "metadata": {
    "scrolled": true
   },
   "outputs": [],
   "source": [
    "mdf, conflict_df = data_merger(df1, df2, how=how[1], on='ID', dist_max=1)"
   ]
  },
  {
   "cell_type": "code",
   "execution_count": 61,
   "id": "f7497913",
   "metadata": {},
   "outputs": [],
   "source": [
    "no_pos_dataset = mdf.copy()"
   ]
  },
  {
   "cell_type": "markdown",
   "id": "744b5499",
   "metadata": {},
   "source": [
    "#### $\\color{green}{\\textbf{Read and merge}}$"
   ]
  },
  {
   "cell_type": "code",
   "execution_count": 62,
   "id": "d652036b",
   "metadata": {
    "scrolled": false
   },
   "outputs": [
    {
     "name": "stdout",
     "output_type": "stream",
     "text": [
      "df1 :  --> No coordinates\n",
      "df1 :  --> No coordinates\n",
      "Rows : 9, columns : 5, Unique values on col 'ID': 9\n"
     ]
    },
    {
     "data": {
      "application/vnd.jupyter.widget-view+json": {
       "model_id": "686dbf40c3cd434eaf3fe1fc522faba2",
       "version_major": 2,
       "version_minor": 0
      },
      "text/plain": [
       "interactive(children=(IntSlider(value=3, description='rows', max=9, min=3, readout=False), IntSlider(value=5, …"
      ]
     },
     "metadata": {},
     "output_type": "display_data"
    },
    {
     "name": "stdout",
     "output_type": "stream",
     "text": [
      "Rows : 10, columns : 9, Unique values on col 'ID': 3\n"
     ]
    },
    {
     "data": {
      "application/vnd.jupyter.widget-view+json": {
       "model_id": "ef94c59d6602476abf859e8647d242ca",
       "version_major": 2,
       "version_minor": 0
      },
      "text/plain": [
       "interactive(children=(IntSlider(value=3, description='rows', max=10, min=3, readout=False), IntSlider(value=9,…"
      ]
     },
     "metadata": {},
     "output_type": "display_data"
    },
    {
     "data": {
      "text/plain": [
       "(None, None)"
      ]
     },
     "execution_count": 62,
     "metadata": {},
     "output_type": "execute_result"
    }
   ],
   "source": [
    "file1= work_dir + 'donnees_terrain_2019/Equipement_Piezometers.csv' # 10\n",
    "file2= work_dir + 'donnees_terrain_2019/Log_Piezometers.csv' # 11\n",
    "\n",
    "df1, df2 = create_df([file1, file2])\n",
    "dataframe_viewer(df1, rows=3, un_val='ID', view=t), dataframe_viewer(df2, rows=3, un_val='ID', view=t)"
   ]
  },
  {
   "cell_type": "code",
   "execution_count": 63,
   "id": "d8523c2a",
   "metadata": {},
   "outputs": [],
   "source": [
    "df1.ID = df1.ID.astype(str)\n",
    "df2.ID = df2.ID.astype(str)"
   ]
  },
  {
   "cell_type": "code",
   "execution_count": 64,
   "id": "f7d1e654",
   "metadata": {
    "scrolled": true
   },
   "outputs": [],
   "source": [
    "mdf, conflict_df = data_merger(df1, df2, how=how[1], on='ID', dist_max=1)"
   ]
  },
  {
   "cell_type": "markdown",
   "id": "ee2cad41",
   "metadata": {},
   "source": [
    "#### Merge with object dataset"
   ]
  },
  {
   "cell_type": "code",
   "execution_count": 65,
   "id": "62c792da",
   "metadata": {
    "scrolled": true
   },
   "outputs": [],
   "source": [
    "no_pos_dataset, conflict_df=data_merger(no_pos_dataset, mdf, how=how[1], on='ID', dist_max=1)"
   ]
  },
  {
   "cell_type": "markdown",
   "id": "704284ff",
   "metadata": {},
   "source": [
    "#### $\\color{green}{\\textbf{Read and merge}}$"
   ]
  },
  {
   "cell_type": "code",
   "execution_count": 66,
   "id": "3db8a333",
   "metadata": {
    "scrolled": false
   },
   "outputs": [
    {
     "name": "stdout",
     "output_type": "stream",
     "text": [
      "Rows : 111, columns : 6, Unique values on col 'ID': 111\n"
     ]
    },
    {
     "data": {
      "application/vnd.jupyter.widget-view+json": {
       "model_id": "03dc114385e54734a0bee3c002a11af2",
       "version_major": 2,
       "version_minor": 0
      },
      "text/plain": [
       "interactive(children=(IntSlider(value=3, description='rows', max=111, min=3, readout=False), IntSlider(value=6…"
      ]
     },
     "metadata": {},
     "output_type": "display_data"
    }
   ],
   "source": [
    "file1= work_dir + 'database_Memoris3/Profils_sol_Piezometers.csv' # 6\n",
    "\n",
    "df1 = pd.read_csv(file1)\n",
    "dataframe_viewer(df1, rows=3, un_val='ID', view=t)"
   ]
  },
  {
   "cell_type": "markdown",
   "id": "0b34f682",
   "metadata": {},
   "source": [
    "#### Merge with object dataset"
   ]
  },
  {
   "cell_type": "code",
   "execution_count": 67,
   "id": "2f8365af",
   "metadata": {
    "scrolled": true
   },
   "outputs": [],
   "source": [
    "no_pos_dataset, conflict_df=data_merger(no_pos_dataset, df1, how=how[1], on='ID', dist_max=1)"
   ]
  },
  {
   "cell_type": "markdown",
   "id": "22b98d59",
   "metadata": {},
   "source": [
    "## final merging"
   ]
  },
  {
   "cell_type": "code",
   "execution_count": 68,
   "id": "98a1ce98",
   "metadata": {},
   "outputs": [],
   "source": [
    "dataset.ID.replace('^P','F', regex=True, inplace=True)"
   ]
  },
  {
   "cell_type": "code",
   "execution_count": 69,
   "id": "e4597af7",
   "metadata": {},
   "outputs": [],
   "source": [
    "for c in dataset.columns:\n",
    "    if c in ['index', 'Origin_ID']:\n",
    "        dataset.drop(columns=c, inplace=True)"
   ]
  },
  {
   "cell_type": "code",
   "execution_count": 70,
   "id": "c15d4f0e",
   "metadata": {},
   "outputs": [
    {
     "name": "stdout",
     "output_type": "stream",
     "text": [
      "some data must be checked !\n",
      "same objects at indices:[1, 2, 0, 4, 3, 6, 5, 8, 9, 7, 11, 10, 12, 14, 13, 16, 17, 15, 18, 21, 20, 26, 28, 30, 32, 37, 38, 35, 135, 141, 134, 146, 355, 365, 379, 399, 402, 412, 410, 415, 413, 420, 429, 431, 425, 457], will be dropped if drop is set True!\n",
      "Rows : 419 ; Columns : 32 ; Unique on 'ID' : 364 ; \n"
     ]
    }
   ],
   "source": [
    "dataset, check1 = data_filter(dataset, position=True, id_col='ID', expression='sup|prof', \n",
    "                              dist_max=1, drop=True, drop_old_id=True)"
   ]
  },
  {
   "cell_type": "code",
   "execution_count": 71,
   "id": "d3adcf7b",
   "metadata": {
    "scrolled": true
   },
   "outputs": [
    {
     "name": "stdout",
     "output_type": "stream",
     "text": [
      "Rows : 419, columns : 32, Unique values on col 'ID': 364\n"
     ]
    },
    {
     "data": {
      "application/vnd.jupyter.widget-view+json": {
       "model_id": "9677a0d6818e4e159710918c92a31717",
       "version_major": 2,
       "version_minor": 0
      },
      "text/plain": [
       "interactive(children=(IntSlider(value=3, description='rows', max=419, min=3, readout=False), IntSlider(value=1…"
      ]
     },
     "metadata": {},
     "output_type": "display_data"
    }
   ],
   "source": [
    "dataframe_viewer(dataset, rows=3, un_val='ID', view=t)"
   ]
  },
  {
   "cell_type": "code",
   "execution_count": 72,
   "id": "bcd86480",
   "metadata": {
    "scrolled": true
   },
   "outputs": [
    {
     "name": "stdout",
     "output_type": "stream",
     "text": [
      "Rows : 142, columns : 19, Unique values on col 'ID': 135\n"
     ]
    },
    {
     "data": {
      "application/vnd.jupyter.widget-view+json": {
       "model_id": "0ddcaf710d2044e0998441a5d959ebc3",
       "version_major": 2,
       "version_minor": 0
      },
      "text/plain": [
       "interactive(children=(IntSlider(value=3, description='rows', max=142, min=3, readout=False), IntSlider(value=1…"
      ]
     },
     "metadata": {},
     "output_type": "display_data"
    }
   ],
   "source": [
    "dataframe_viewer(no_pos_dataset, rows=3, un_val='ID', view=t)"
   ]
  },
  {
   "cell_type": "code",
   "execution_count": 73,
   "id": "09928667",
   "metadata": {},
   "outputs": [],
   "source": [
    "no_pos_dataset.ID.replace('^P','F', regex=True, inplace=True)"
   ]
  },
  {
   "cell_type": "code",
   "execution_count": 74,
   "id": "a3069cd6",
   "metadata": {
    "scrolled": true
   },
   "outputs": [
    {
     "name": "stdout",
     "output_type": "stream",
     "text": [
      "some data must be checked !\n",
      "same objects at indices:[24, 25, 22, 28, 29, 30, 26], will be dropped if drop is set True!\n",
      "Rows : 135 ; Columns : 20 ; Unique on 'ID' : 135 ; \n"
     ]
    }
   ],
   "source": [
    "no_pos_dataset, check1 = data_filter(no_pos_dataset, position=False, id_col='ID', expression='sup|prof', \n",
    "                              dist_max=1, drop=True, drop_old_id=True)"
   ]
  },
  {
   "cell_type": "code",
   "execution_count": 75,
   "id": "9885b3e3",
   "metadata": {},
   "outputs": [],
   "source": [
    "no_pos_dataset.drop(columns='Origin_ID', inplace=True)"
   ]
  },
  {
   "cell_type": "markdown",
   "id": "bb5d1a5e",
   "metadata": {},
   "source": [
    "#### Merge with object dataset"
   ]
  },
  {
   "cell_type": "code",
   "execution_count": 76,
   "id": "1a6951bd",
   "metadata": {
    "scrolled": true
   },
   "outputs": [
    {
     "name": "stdout",
     "output_type": "stream",
     "text": [
      "Conflict values present. Please resolve this manually !\n"
     ]
    }
   ],
   "source": [
    "dataset, conflict_df=data_merger(dataset, no_pos_dataset, how=how[1], on='ID', dist_max=1)"
   ]
  },
  {
   "cell_type": "markdown",
   "id": "f303784e",
   "metadata": {},
   "source": [
    "#### $\\color{blue}{\\textbf{Manage conflicts}}$"
   ]
  },
  {
   "cell_type": "code",
   "execution_count": 77,
   "id": "ee58fede",
   "metadata": {
    "scrolled": true
   },
   "outputs": [
    {
     "data": {
      "text/html": [
       "<div>\n",
       "<style scoped>\n",
       "    .dataframe tbody tr th:only-of-type {\n",
       "        vertical-align: middle;\n",
       "    }\n",
       "\n",
       "    .dataframe tbody tr th {\n",
       "        vertical-align: top;\n",
       "    }\n",
       "\n",
       "    .dataframe thead th {\n",
       "        text-align: right;\n",
       "    }\n",
       "</style>\n",
       "<table border=\"1\" class=\"dataframe\">\n",
       "  <thead>\n",
       "    <tr style=\"text-align: right;\">\n",
       "      <th></th>\n",
       "      <th>Check_col</th>\n",
       "      <th>ID</th>\n",
       "      <th>Diam_ext_pz_x</th>\n",
       "      <th>Diam_ext_pz_y</th>\n",
       "      <th>Long_pz_x</th>\n",
       "      <th>Long_pz_y</th>\n",
       "      <th>Diam_for_x</th>\n",
       "      <th>Diam_for_y</th>\n",
       "    </tr>\n",
       "  </thead>\n",
       "  <tbody>\n",
       "    <tr>\n",
       "      <th>382</th>\n",
       "      <td>Diam_ext_pz</td>\n",
       "      <td>50</td>\n",
       "      <td>25.0</td>\n",
       "      <td>45.0</td>\n",
       "      <td>3.6</td>\n",
       "      <td>NaN</td>\n",
       "      <td>75.0</td>\n",
       "      <td>75.0</td>\n",
       "    </tr>\n",
       "    <tr>\n",
       "      <th>383</th>\n",
       "      <td>Diam_ext_pz</td>\n",
       "      <td>51</td>\n",
       "      <td>25.0</td>\n",
       "      <td>45.0</td>\n",
       "      <td>3.6</td>\n",
       "      <td>NaN</td>\n",
       "      <td>75.0</td>\n",
       "      <td>75.0</td>\n",
       "    </tr>\n",
       "    <tr>\n",
       "      <th>385</th>\n",
       "      <td>Diam_ext_pz</td>\n",
       "      <td>52</td>\n",
       "      <td>25.0</td>\n",
       "      <td>45.0</td>\n",
       "      <td>3.6</td>\n",
       "      <td>NaN</td>\n",
       "      <td>75.0</td>\n",
       "      <td>75.0</td>\n",
       "    </tr>\n",
       "    <tr>\n",
       "      <th>397</th>\n",
       "      <td>Diam_ext_pz</td>\n",
       "      <td>F2M</td>\n",
       "      <td>53.0</td>\n",
       "      <td>45.0</td>\n",
       "      <td>6.0</td>\n",
       "      <td>NaN</td>\n",
       "      <td>75.0</td>\n",
       "      <td>75.0</td>\n",
       "    </tr>\n",
       "    <tr>\n",
       "      <th>398</th>\n",
       "      <td>Diam_ext_pz, Long_pz</td>\n",
       "      <td>F3M</td>\n",
       "      <td>53.0</td>\n",
       "      <td>45.0</td>\n",
       "      <td>3.3</td>\n",
       "      <td>2.98</td>\n",
       "      <td>75.0</td>\n",
       "      <td>75.0</td>\n",
       "    </tr>\n",
       "    <tr>\n",
       "      <th>399</th>\n",
       "      <td>Diam_ext_pz</td>\n",
       "      <td>F4M</td>\n",
       "      <td>53.0</td>\n",
       "      <td>45.0</td>\n",
       "      <td>4.0</td>\n",
       "      <td>NaN</td>\n",
       "      <td>75.0</td>\n",
       "      <td>75.0</td>\n",
       "    </tr>\n",
       "    <tr>\n",
       "      <th>400</th>\n",
       "      <td>Diam_ext_pz</td>\n",
       "      <td>F5M</td>\n",
       "      <td>53.0</td>\n",
       "      <td>45.0</td>\n",
       "      <td>6.0</td>\n",
       "      <td>NaN</td>\n",
       "      <td>75.0</td>\n",
       "      <td>75.0</td>\n",
       "    </tr>\n",
       "    <tr>\n",
       "      <th>401</th>\n",
       "      <td>Diam_ext_pz</td>\n",
       "      <td>F6M</td>\n",
       "      <td>53.0</td>\n",
       "      <td>45.0</td>\n",
       "      <td>3.6</td>\n",
       "      <td>NaN</td>\n",
       "      <td>75.0</td>\n",
       "      <td>75.0</td>\n",
       "    </tr>\n",
       "    <tr>\n",
       "      <th>402</th>\n",
       "      <td>Diam_ext_pz</td>\n",
       "      <td>F11M</td>\n",
       "      <td>53.0</td>\n",
       "      <td>45.0</td>\n",
       "      <td>3.0</td>\n",
       "      <td>NaN</td>\n",
       "      <td>75.0</td>\n",
       "      <td>75.0</td>\n",
       "    </tr>\n",
       "    <tr>\n",
       "      <th>403</th>\n",
       "      <td>Diam_ext_pz</td>\n",
       "      <td>F12M</td>\n",
       "      <td>53.0</td>\n",
       "      <td>45.0</td>\n",
       "      <td>3.5</td>\n",
       "      <td>NaN</td>\n",
       "      <td>75.0</td>\n",
       "      <td>75.0</td>\n",
       "    </tr>\n",
       "    <tr>\n",
       "      <th>404</th>\n",
       "      <td>Diam_ext_pz, Long_pz</td>\n",
       "      <td>F13M</td>\n",
       "      <td>53.0</td>\n",
       "      <td>45.0</td>\n",
       "      <td>3.5</td>\n",
       "      <td>4.04</td>\n",
       "      <td>75.0</td>\n",
       "      <td>75.0</td>\n",
       "    </tr>\n",
       "    <tr>\n",
       "      <th>405</th>\n",
       "      <td>Diam_ext_pz, Diam_for</td>\n",
       "      <td>F14M</td>\n",
       "      <td>53.0</td>\n",
       "      <td>50.0</td>\n",
       "      <td>2.8</td>\n",
       "      <td>NaN</td>\n",
       "      <td>75.0</td>\n",
       "      <td>250.0</td>\n",
       "    </tr>\n",
       "    <tr>\n",
       "      <th>406</th>\n",
       "      <td>Diam_ext_pz, Long_pz, Diam_for</td>\n",
       "      <td>F15bM</td>\n",
       "      <td>53.0</td>\n",
       "      <td>50.0</td>\n",
       "      <td>4.0</td>\n",
       "      <td>4.67</td>\n",
       "      <td>75.0</td>\n",
       "      <td>108.0</td>\n",
       "    </tr>\n",
       "    <tr>\n",
       "      <th>410</th>\n",
       "      <td>Diam_ext_pz, Long_pz, Diam_for</td>\n",
       "      <td>F16M</td>\n",
       "      <td>53.0</td>\n",
       "      <td>50.0</td>\n",
       "      <td>4.8</td>\n",
       "      <td>4.85</td>\n",
       "      <td>75.0</td>\n",
       "      <td>108.0</td>\n",
       "    </tr>\n",
       "    <tr>\n",
       "      <th>411</th>\n",
       "      <td>Diam_ext_pz, Long_pz, Diam_for</td>\n",
       "      <td>F17dM</td>\n",
       "      <td>53.0</td>\n",
       "      <td>50.0</td>\n",
       "      <td>3.6</td>\n",
       "      <td>3.97</td>\n",
       "      <td>75.0</td>\n",
       "      <td>108.0</td>\n",
       "    </tr>\n",
       "  </tbody>\n",
       "</table>\n",
       "</div>"
      ],
      "text/plain": [
       "                          Check_col     ID  Diam_ext_pz_x  Diam_ext_pz_y  \\\n",
       "382                     Diam_ext_pz     50           25.0           45.0   \n",
       "383                     Diam_ext_pz     51           25.0           45.0   \n",
       "385                     Diam_ext_pz     52           25.0           45.0   \n",
       "397                     Diam_ext_pz    F2M           53.0           45.0   \n",
       "398            Diam_ext_pz, Long_pz    F3M           53.0           45.0   \n",
       "399                     Diam_ext_pz    F4M           53.0           45.0   \n",
       "400                     Diam_ext_pz    F5M           53.0           45.0   \n",
       "401                     Diam_ext_pz    F6M           53.0           45.0   \n",
       "402                     Diam_ext_pz   F11M           53.0           45.0   \n",
       "403                     Diam_ext_pz   F12M           53.0           45.0   \n",
       "404            Diam_ext_pz, Long_pz   F13M           53.0           45.0   \n",
       "405           Diam_ext_pz, Diam_for   F14M           53.0           50.0   \n",
       "406  Diam_ext_pz, Long_pz, Diam_for  F15bM           53.0           50.0   \n",
       "410  Diam_ext_pz, Long_pz, Diam_for   F16M           53.0           50.0   \n",
       "411  Diam_ext_pz, Long_pz, Diam_for  F17dM           53.0           50.0   \n",
       "\n",
       "     Long_pz_x  Long_pz_y  Diam_for_x  Diam_for_y  \n",
       "382        3.6        NaN        75.0        75.0  \n",
       "383        3.6        NaN        75.0        75.0  \n",
       "385        3.6        NaN        75.0        75.0  \n",
       "397        6.0        NaN        75.0        75.0  \n",
       "398        3.3       2.98        75.0        75.0  \n",
       "399        4.0        NaN        75.0        75.0  \n",
       "400        6.0        NaN        75.0        75.0  \n",
       "401        3.6        NaN        75.0        75.0  \n",
       "402        3.0        NaN        75.0        75.0  \n",
       "403        3.5        NaN        75.0        75.0  \n",
       "404        3.5       4.04        75.0        75.0  \n",
       "405        2.8        NaN        75.0       250.0  \n",
       "406        4.0       4.67        75.0       108.0  \n",
       "410        4.8       4.85        75.0       108.0  \n",
       "411        3.6       3.97        75.0       108.0  "
      ]
     },
     "execution_count": 77,
     "metadata": {},
     "output_type": "execute_result"
    }
   ],
   "source": [
    "conflict_df"
   ]
  },
  {
   "cell_type": "raw",
   "id": "00e2b641",
   "metadata": {},
   "source": [
    "data_validation(overall_data=mdf, conflict_data=conflict_df, index_col='index', \n",
    "                valid_dict={'Nappe_y':list(conflict_df.index)[:18]})"
   ]
  },
  {
   "cell_type": "code",
   "execution_count": 78,
   "id": "7dd2679a",
   "metadata": {},
   "outputs": [
    {
     "name": "stdout",
     "output_type": "stream",
     "text": [
      "some data must be checked !\n",
      "same objects at indices:[114, 116, 112, 393, 394, 390], will be dropped if drop is set True!\n",
      "Rows : 477 ; Columns : 42 ; Unique on 'ID' : 428 ; \n"
     ]
    }
   ],
   "source": [
    "dataset, check1 = data_filter(dataset, position=True, id_col='ID', expression='sup|prof', \n",
    "                              dist_max=1, drop=True, drop_old_id=True)"
   ]
  },
  {
   "cell_type": "code",
   "execution_count": 79,
   "id": "adf5cf50",
   "metadata": {
    "scrolled": true
   },
   "outputs": [
    {
     "data": {
      "text/html": [
       "<div>\n",
       "<style scoped>\n",
       "    .dataframe tbody tr th:only-of-type {\n",
       "        vertical-align: middle;\n",
       "    }\n",
       "\n",
       "    .dataframe tbody tr th {\n",
       "        vertical-align: top;\n",
       "    }\n",
       "\n",
       "    .dataframe thead th {\n",
       "        text-align: right;\n",
       "    }\n",
       "</style>\n",
       "<table border=\"1\" class=\"dataframe\">\n",
       "  <thead>\n",
       "    <tr style=\"text-align: right;\">\n",
       "      <th></th>\n",
       "      <th>Check_col</th>\n",
       "      <th>ID</th>\n",
       "      <th>Resp_chantier</th>\n",
       "      <th>Keyword</th>\n",
       "      <th>Type_refus</th>\n",
       "      <th>Type_equip</th>\n",
       "      <th>Refus</th>\n",
       "      <th>Sous_zone</th>\n",
       "      <th>Methode</th>\n",
       "      <th>ID_2</th>\n",
       "      <th>Type_ech</th>\n",
       "      <th>Description</th>\n",
       "      <th>Method</th>\n",
       "      <th>Zone</th>\n",
       "      <th>Nappe</th>\n",
       "      <th>Date_ouv</th>\n",
       "      <th>ID_date</th>\n",
       "      <th>Societe</th>\n",
       "    </tr>\n",
       "  </thead>\n",
       "  <tbody>\n",
       "    <tr>\n",
       "      <th>82</th>\n",
       "      <td>Resp_chantier, Keyword, Type_refus, Type_equip...</td>\n",
       "      <td>F7</td>\n",
       "      <td>NaN</td>\n",
       "      <td>NaN</td>\n",
       "      <td>NaN</td>\n",
       "      <td>NaN</td>\n",
       "      <td>NaN</td>\n",
       "      <td>NaN</td>\n",
       "      <td>NaN</td>\n",
       "      <td>NaN</td>\n",
       "      <td>Eau</td>\n",
       "      <td>NaN</td>\n",
       "      <td>NaN</td>\n",
       "      <td>NaN</td>\n",
       "      <td>remblais</td>\n",
       "      <td>2010-03-15</td>\n",
       "      <td>2010-F7</td>\n",
       "      <td>SITEREM</td>\n",
       "    </tr>\n",
       "    <tr>\n",
       "      <th>84</th>\n",
       "      <td>Resp_chantier, Keyword, Type_refus, Type_equip...</td>\n",
       "      <td>F8</td>\n",
       "      <td>NaN</td>\n",
       "      <td>NaN</td>\n",
       "      <td>NaN</td>\n",
       "      <td>NaN</td>\n",
       "      <td>NaN</td>\n",
       "      <td>NaN</td>\n",
       "      <td>NaN</td>\n",
       "      <td>NaN</td>\n",
       "      <td>Eau</td>\n",
       "      <td>NaN</td>\n",
       "      <td>NaN</td>\n",
       "      <td>NaN</td>\n",
       "      <td>remblais</td>\n",
       "      <td>2010-03-15</td>\n",
       "      <td>2010-F8</td>\n",
       "      <td>SITEREM</td>\n",
       "    </tr>\n",
       "    <tr>\n",
       "      <th>113</th>\n",
       "      <td>Resp_chantier, Keyword, Type_refus, Type_equip...</td>\n",
       "      <td>541</td>\n",
       "      <td>NaN</td>\n",
       "      <td>NaN</td>\n",
       "      <td>NaN</td>\n",
       "      <td>NaN</td>\n",
       "      <td>NaN</td>\n",
       "      <td>four à coke</td>\n",
       "      <td>NaN</td>\n",
       "      <td>NaN</td>\n",
       "      <td>Eau</td>\n",
       "      <td>NaN</td>\n",
       "      <td>NaN</td>\n",
       "      <td>Cokerie de Marchienne</td>\n",
       "      <td>All_limoneuse</td>\n",
       "      <td>NaN</td>\n",
       "      <td>NaN</td>\n",
       "      <td>SITEREM</td>\n",
       "    </tr>\n",
       "    <tr>\n",
       "      <th>114</th>\n",
       "      <td>Resp_chantier, Keyword, Type_refus, Type_equip...</td>\n",
       "      <td>541</td>\n",
       "      <td>NaN</td>\n",
       "      <td>NaN</td>\n",
       "      <td>NaN</td>\n",
       "      <td>NaN</td>\n",
       "      <td>NaN</td>\n",
       "      <td>four à coke</td>\n",
       "      <td>NaN</td>\n",
       "      <td>NaN</td>\n",
       "      <td>Eau</td>\n",
       "      <td>NaN</td>\n",
       "      <td>NaN</td>\n",
       "      <td>Cokerie de Marchienne</td>\n",
       "      <td>All_limoneuse</td>\n",
       "      <td>NaN</td>\n",
       "      <td>NaN</td>\n",
       "      <td>SITEREM</td>\n",
       "    </tr>\n",
       "    <tr>\n",
       "      <th>116</th>\n",
       "      <td>Resp_chantier, Keyword, Type_refus, Type_equip...</td>\n",
       "      <td>541</td>\n",
       "      <td>NaN</td>\n",
       "      <td>NaN</td>\n",
       "      <td>NaN</td>\n",
       "      <td>NaN</td>\n",
       "      <td>NaN</td>\n",
       "      <td>four à coke</td>\n",
       "      <td>NaN</td>\n",
       "      <td>NaN</td>\n",
       "      <td>Eau</td>\n",
       "      <td>NaN</td>\n",
       "      <td>NaN</td>\n",
       "      <td>Cokerie de Marchienne</td>\n",
       "      <td>All_limoneuse</td>\n",
       "      <td>NaN</td>\n",
       "      <td>NaN</td>\n",
       "      <td>SITEREM</td>\n",
       "    </tr>\n",
       "    <tr>\n",
       "      <th>123</th>\n",
       "      <td>Resp_chantier, Keyword, Type_refus, Type_equip...</td>\n",
       "      <td>512</td>\n",
       "      <td>NaN</td>\n",
       "      <td>NaN</td>\n",
       "      <td>NaN</td>\n",
       "      <td>NaN</td>\n",
       "      <td>NaN</td>\n",
       "      <td>Extraction de charbon</td>\n",
       "      <td>NaN</td>\n",
       "      <td>NaN</td>\n",
       "      <td>Eau</td>\n",
       "      <td>NaN</td>\n",
       "      <td>NaN</td>\n",
       "      <td>Charbonnage</td>\n",
       "      <td>#conflict</td>\n",
       "      <td>NaN</td>\n",
       "      <td>NaN</td>\n",
       "      <td>SITEREM</td>\n",
       "    </tr>\n",
       "    <tr>\n",
       "      <th>392</th>\n",
       "      <td>Resp_chantier, Keyword, Type_refus, Type_equip...</td>\n",
       "      <td>531</td>\n",
       "      <td>NaN</td>\n",
       "      <td>NaN</td>\n",
       "      <td>NaN</td>\n",
       "      <td>NaN</td>\n",
       "      <td>NaN</td>\n",
       "      <td>Dépôt de stériles</td>\n",
       "      <td>NaN</td>\n",
       "      <td>NaN</td>\n",
       "      <td>Eau</td>\n",
       "      <td>NaN</td>\n",
       "      <td>NaN</td>\n",
       "      <td>Dépôts sidérurgiques et terrils</td>\n",
       "      <td>All_limoneuse</td>\n",
       "      <td>NaN</td>\n",
       "      <td>NaN</td>\n",
       "      <td>SITEREM</td>\n",
       "    </tr>\n",
       "    <tr>\n",
       "      <th>393</th>\n",
       "      <td>Resp_chantier, Keyword, Type_refus, Type_equip...</td>\n",
       "      <td>531</td>\n",
       "      <td>NaN</td>\n",
       "      <td>NaN</td>\n",
       "      <td>NaN</td>\n",
       "      <td>NaN</td>\n",
       "      <td>NaN</td>\n",
       "      <td>Dépôt de stériles</td>\n",
       "      <td>NaN</td>\n",
       "      <td>NaN</td>\n",
       "      <td>Eau</td>\n",
       "      <td>NaN</td>\n",
       "      <td>NaN</td>\n",
       "      <td>Dépôts sidérurgiques et terrils</td>\n",
       "      <td>All_limoneuse</td>\n",
       "      <td>NaN</td>\n",
       "      <td>NaN</td>\n",
       "      <td>SITEREM</td>\n",
       "    </tr>\n",
       "    <tr>\n",
       "      <th>394</th>\n",
       "      <td>Resp_chantier, Keyword, Type_refus, Type_equip...</td>\n",
       "      <td>531</td>\n",
       "      <td>NaN</td>\n",
       "      <td>NaN</td>\n",
       "      <td>NaN</td>\n",
       "      <td>NaN</td>\n",
       "      <td>NaN</td>\n",
       "      <td>Dépôt de stériles</td>\n",
       "      <td>NaN</td>\n",
       "      <td>NaN</td>\n",
       "      <td>Eau</td>\n",
       "      <td>NaN</td>\n",
       "      <td>NaN</td>\n",
       "      <td>Dépôts sidérurgiques et terrils</td>\n",
       "      <td>All_limoneuse</td>\n",
       "      <td>NaN</td>\n",
       "      <td>NaN</td>\n",
       "      <td>SITEREM</td>\n",
       "    </tr>\n",
       "    <tr>\n",
       "      <th>407</th>\n",
       "      <td>Resp_chantier, Keyword, Type_refus, Type_equip...</td>\n",
       "      <td>F15bM</td>\n",
       "      <td>NaN</td>\n",
       "      <td>NaN</td>\n",
       "      <td>NaN</td>\n",
       "      <td>NaN</td>\n",
       "      <td>NaN</td>\n",
       "      <td>NaN</td>\n",
       "      <td>NaN</td>\n",
       "      <td>P15bM</td>\n",
       "      <td>NaN</td>\n",
       "      <td>NaN</td>\n",
       "      <td>NaN</td>\n",
       "      <td>NaN</td>\n",
       "      <td>Remblais</td>\n",
       "      <td>NaN</td>\n",
       "      <td>NaN</td>\n",
       "      <td>NaN</td>\n",
       "    </tr>\n",
       "    <tr>\n",
       "      <th>408</th>\n",
       "      <td>Resp_chantier, Keyword, Type_refus, Type_equip...</td>\n",
       "      <td>F15bM</td>\n",
       "      <td>NaN</td>\n",
       "      <td>NaN</td>\n",
       "      <td>NaN</td>\n",
       "      <td>NaN</td>\n",
       "      <td>NaN</td>\n",
       "      <td>NaN</td>\n",
       "      <td>NaN</td>\n",
       "      <td>P15bM</td>\n",
       "      <td>NaN</td>\n",
       "      <td>NaN</td>\n",
       "      <td>NaN</td>\n",
       "      <td>NaN</td>\n",
       "      <td>Remblais</td>\n",
       "      <td>NaN</td>\n",
       "      <td>NaN</td>\n",
       "      <td>NaN</td>\n",
       "    </tr>\n",
       "    <tr>\n",
       "      <th>409</th>\n",
       "      <td>Resp_chantier, Keyword, Type_refus, Type_equip...</td>\n",
       "      <td>F15bM</td>\n",
       "      <td>NaN</td>\n",
       "      <td>NaN</td>\n",
       "      <td>NaN</td>\n",
       "      <td>NaN</td>\n",
       "      <td>NaN</td>\n",
       "      <td>NaN</td>\n",
       "      <td>NaN</td>\n",
       "      <td>P15bM</td>\n",
       "      <td>NaN</td>\n",
       "      <td>NaN</td>\n",
       "      <td>NaN</td>\n",
       "      <td>NaN</td>\n",
       "      <td>Remblais</td>\n",
       "      <td>NaN</td>\n",
       "      <td>NaN</td>\n",
       "      <td>NaN</td>\n",
       "    </tr>\n",
       "    <tr>\n",
       "      <th>412</th>\n",
       "      <td>Resp_chantier, Keyword, Type_refus, Type_equip...</td>\n",
       "      <td>F17dM</td>\n",
       "      <td>NaN</td>\n",
       "      <td>NaN</td>\n",
       "      <td>NaN</td>\n",
       "      <td>NaN</td>\n",
       "      <td>x</td>\n",
       "      <td>NaN</td>\n",
       "      <td>NaN</td>\n",
       "      <td>P17dM</td>\n",
       "      <td>NaN</td>\n",
       "      <td>NaN</td>\n",
       "      <td>NaN</td>\n",
       "      <td>NaN</td>\n",
       "      <td>Remblais</td>\n",
       "      <td>NaN</td>\n",
       "      <td>NaN</td>\n",
       "      <td>NaN</td>\n",
       "    </tr>\n",
       "  </tbody>\n",
       "</table>\n",
       "</div>"
      ],
      "text/plain": [
       "                                             Check_col     ID Resp_chantier  \\\n",
       "82   Resp_chantier, Keyword, Type_refus, Type_equip...     F7           NaN   \n",
       "84   Resp_chantier, Keyword, Type_refus, Type_equip...     F8           NaN   \n",
       "113  Resp_chantier, Keyword, Type_refus, Type_equip...    541           NaN   \n",
       "114  Resp_chantier, Keyword, Type_refus, Type_equip...    541           NaN   \n",
       "116  Resp_chantier, Keyword, Type_refus, Type_equip...    541           NaN   \n",
       "123  Resp_chantier, Keyword, Type_refus, Type_equip...    512           NaN   \n",
       "392  Resp_chantier, Keyword, Type_refus, Type_equip...    531           NaN   \n",
       "393  Resp_chantier, Keyword, Type_refus, Type_equip...    531           NaN   \n",
       "394  Resp_chantier, Keyword, Type_refus, Type_equip...    531           NaN   \n",
       "407  Resp_chantier, Keyword, Type_refus, Type_equip...  F15bM           NaN   \n",
       "408  Resp_chantier, Keyword, Type_refus, Type_equip...  F15bM           NaN   \n",
       "409  Resp_chantier, Keyword, Type_refus, Type_equip...  F15bM           NaN   \n",
       "412  Resp_chantier, Keyword, Type_refus, Type_equip...  F17dM           NaN   \n",
       "\n",
       "    Keyword Type_refus Type_equip Refus              Sous_zone Methode   ID_2  \\\n",
       "82      NaN        NaN        NaN   NaN                    NaN     NaN    NaN   \n",
       "84      NaN        NaN        NaN   NaN                    NaN     NaN    NaN   \n",
       "113     NaN        NaN        NaN   NaN            four à coke     NaN    NaN   \n",
       "114     NaN        NaN        NaN   NaN            four à coke     NaN    NaN   \n",
       "116     NaN        NaN        NaN   NaN            four à coke     NaN    NaN   \n",
       "123     NaN        NaN        NaN   NaN  Extraction de charbon     NaN    NaN   \n",
       "392     NaN        NaN        NaN   NaN      Dépôt de stériles     NaN    NaN   \n",
       "393     NaN        NaN        NaN   NaN      Dépôt de stériles     NaN    NaN   \n",
       "394     NaN        NaN        NaN   NaN      Dépôt de stériles     NaN    NaN   \n",
       "407     NaN        NaN        NaN   NaN                    NaN     NaN  P15bM   \n",
       "408     NaN        NaN        NaN   NaN                    NaN     NaN  P15bM   \n",
       "409     NaN        NaN        NaN   NaN                    NaN     NaN  P15bM   \n",
       "412     NaN        NaN        NaN     x                    NaN     NaN  P17dM   \n",
       "\n",
       "    Type_ech Description Method                             Zone  \\\n",
       "82       Eau         NaN    NaN                              NaN   \n",
       "84       Eau         NaN    NaN                              NaN   \n",
       "113      Eau         NaN    NaN            Cokerie de Marchienne   \n",
       "114      Eau         NaN    NaN            Cokerie de Marchienne   \n",
       "116      Eau         NaN    NaN            Cokerie de Marchienne   \n",
       "123      Eau         NaN    NaN                      Charbonnage   \n",
       "392      Eau         NaN    NaN  Dépôts sidérurgiques et terrils   \n",
       "393      Eau         NaN    NaN  Dépôts sidérurgiques et terrils   \n",
       "394      Eau         NaN    NaN  Dépôts sidérurgiques et terrils   \n",
       "407      NaN         NaN    NaN                              NaN   \n",
       "408      NaN         NaN    NaN                              NaN   \n",
       "409      NaN         NaN    NaN                              NaN   \n",
       "412      NaN         NaN    NaN                              NaN   \n",
       "\n",
       "             Nappe    Date_ouv  ID_date  Societe  \n",
       "82        remblais  2010-03-15  2010-F7  SITEREM  \n",
       "84        remblais  2010-03-15  2010-F8  SITEREM  \n",
       "113  All_limoneuse         NaN      NaN  SITEREM  \n",
       "114  All_limoneuse         NaN      NaN  SITEREM  \n",
       "116  All_limoneuse         NaN      NaN  SITEREM  \n",
       "123      #conflict         NaN      NaN  SITEREM  \n",
       "392  All_limoneuse         NaN      NaN  SITEREM  \n",
       "393  All_limoneuse         NaN      NaN  SITEREM  \n",
       "394  All_limoneuse         NaN      NaN  SITEREM  \n",
       "407       Remblais         NaN      NaN      NaN  \n",
       "408       Remblais         NaN      NaN      NaN  \n",
       "409       Remblais         NaN      NaN      NaN  \n",
       "412       Remblais         NaN      NaN      NaN  "
      ]
     },
     "execution_count": 79,
     "metadata": {},
     "output_type": "execute_result"
    }
   ],
   "source": [
    "check1"
   ]
  },
  {
   "cell_type": "code",
   "execution_count": 80,
   "id": "280384f0",
   "metadata": {
    "scrolled": true
   },
   "outputs": [
    {
     "name": "stdout",
     "output_type": "stream",
     "text": [
      "Rows : 477, columns : 42, Unique values on col 'ID': 428\n"
     ]
    },
    {
     "data": {
      "application/vnd.jupyter.widget-view+json": {
       "model_id": "45ac9721f56245e285e059e4eebe9207",
       "version_major": 2,
       "version_minor": 0
      },
      "text/plain": [
       "interactive(children=(IntSlider(value=3, description='rows', max=477, min=3, readout=False), IntSlider(value=1…"
      ]
     },
     "metadata": {},
     "output_type": "display_data"
    }
   ],
   "source": [
    "dataframe_viewer(dataset, rows=3, un_val='ID', view=t)"
   ]
  },
  {
   "cell_type": "markdown",
   "id": "00069d40",
   "metadata": {},
   "source": [
    "####  $\\color{red}{\\textbf{Save final object dataset}}$"
   ]
  },
  {
   "cell_type": "code",
   "execution_count": 81,
   "id": "a4de8860",
   "metadata": {},
   "outputs": [],
   "source": [
    "for c in dataset.columns:\n",
    "    if c in ['index', 'Origin_ID'] and c in dataset.columns:\n",
    "        dataset.drop(columns=c, inplace=True)"
   ]
  },
  {
   "cell_type": "code",
   "execution_count": 82,
   "id": "19b91ec5",
   "metadata": {},
   "outputs": [],
   "source": [
    "if not os.path.exists(save_dir):\n",
    "    os.makedirs(save_dir)\n",
    "    \n",
    "dataset.to_csv(save_dir + save_file, index=False)"
   ]
  },
  {
   "cell_type": "markdown",
   "id": "80259d62",
   "metadata": {},
   "source": [
    "## Querying"
   ]
  },
  {
   "cell_type": "raw",
   "id": "1eea3263",
   "metadata": {},
   "source": [
    "coi_1 = ['ID','Date_ouv','X','Y','Z','Zsol','Type','Description','Diam_for','Long_for',]\n",
    "coi_2 = ['Nappe','Refus','Type_refus','Profondeur','Long_pz','Diam_ext_pz','Diam_int_pz','Zone']"
   ]
  },
  {
   "cell_type": "raw",
   "id": "956f7704",
   "metadata": {
    "scrolled": true
   },
   "source": [
    "x_min, x_max = 152882, 152885\n",
    "y_min, y_max =  122605, 122608\n",
    "bh_name = 'F1.M' # regex\n",
    "#bh_name = None\n",
    "\n",
    "q = dataset.query(f'X >= {x_min} and X <= {x_max} and Y >= {y_min} and Y <= {y_max}')\n",
    "if bh_name is not None:\n",
    "    q = dataset.query(f'ID.str.contains(\"{bh_name}\")', engine='python')\n",
    "dataframe_viewer(q[coi_1 + coi_2], rows=10, cols=15, un_val='ID', view=t)"
   ]
  },
  {
   "cell_type": "raw",
   "id": "135c3489",
   "metadata": {},
   "source": [
    "drop_dict = {1:10, 2:20, 3:30, 4:10}"
   ]
  },
  {
   "cell_type": "raw",
   "id": "09f7d126",
   "metadata": {},
   "source": [
    "[k for k, v in drop_dict.items() if v == min(drop_dict.values())][0]"
   ]
  },
  {
   "cell_type": "code",
   "execution_count": null,
   "id": "56806e84",
   "metadata": {},
   "outputs": [],
   "source": []
  }
 ],
 "metadata": {
  "kernelspec": {
   "display_name": "Python 3 (ipykernel)",
   "language": "python",
   "name": "python3"
  },
  "language_info": {
   "codemirror_mode": {
    "name": "ipython",
    "version": 3
   },
   "file_extension": ".py",
   "mimetype": "text/x-python",
   "name": "python",
   "nbconvert_exporter": "python",
   "pygments_lexer": "ipython3",
   "version": "3.8.10"
  }
 },
 "nbformat": 4,
 "nbformat_minor": 5
}
