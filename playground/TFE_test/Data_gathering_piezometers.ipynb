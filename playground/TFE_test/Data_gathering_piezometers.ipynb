{
 "cells": [
  {
   "cell_type": "markdown",
   "id": "finite-killing",
   "metadata": {},
   "source": [
    "# Data Gathering"
   ]
  },
  {
   "cell_type": "code",
   "execution_count": 1,
   "id": "educational-barrier",
   "metadata": {},
   "outputs": [],
   "source": [
    "from utils.io import dataframe_viewer, files_search, data_merger, data_validation, data_overview, \\\n",
    "data_filter, fix_duplicates\n",
    "\n",
    "import re, os\n",
    "import numpy as np\n",
    "import pandas as pd\n",
    "import datetime as dtm\n",
    "from definitions import ROOT_DIR"
   ]
  },
  {
   "cell_type": "code",
   "execution_count": 2,
   "id": "representative-bunny",
   "metadata": {},
   "outputs": [],
   "source": [
    "def create_df(files, verbose=True): # find another name for this function\n",
    "    \"\"\"\n",
    "    create dataframes from files and test if they contain position informations\n",
    "    files: list of files name\n",
    "    \"\"\"\n",
    "    dfs = []\n",
    "    for f in files:\n",
    "        df = pd.read_csv(f, delimiter=',')\n",
    "        dfs.append(df)\n",
    "        \n",
    "        if verbose:\n",
    "            if 'X' in list(df.columns): msg = ' --> Coordinates'\n",
    "            else: msg = ' --> No coordinates'\n",
    "\n",
    "            print(f\"df1 : {msg}\")\n",
    "            \n",
    "    return dfs"
   ]
  },
  {
   "cell_type": "markdown",
   "id": "enhanced-noise",
   "metadata": {},
   "source": [
    "## Reading files"
   ]
  },
  {
   "cell_type": "code",
   "execution_count": 3,
   "id": "vanilla-bones",
   "metadata": {},
   "outputs": [],
   "source": [
    "work_dir = ROOT_DIR+'/CF_data/Result_traitem/'\n",
    "save_dir = ROOT_DIR+'/CF_data/Donnees_fusionnees/'"
   ]
  },
  {
   "cell_type": "code",
   "execution_count": 4,
   "id": "confused-pleasure",
   "metadata": {},
   "outputs": [],
   "source": [
    "# create my dictionary structure to retrieve good files (Keynames !!!)\n",
    "files_dict={'Borehole':0,'Piezometer':0,'Piezair':0,'Trench':0,'Litho':0,'Equipm':0,\n",
    "        'Measure':0,'Sample':0,'Analysis':0,'Facility':0}"
   ]
  },
  {
   "cell_type": "code",
   "execution_count": 5,
   "id": "compliant-sensitivity",
   "metadata": {
    "scrolled": true
   },
   "outputs": [
    {
     "name": "stdout",
     "output_type": "stream",
     "text": [
      "Borehole  \t:  7\n",
      "Piezometer  \t:  17\n",
      "Piezair  \t:  2\n",
      "Trench  \t:  1\n",
      "Litho  \t:  7\n",
      "Equipm  \t:  3\n",
      "Measure  \t:  6\n",
      "Sample  \t:  27\n",
      "Analysis  \t:  21\n",
      "Facility  \t:  4\n"
     ]
    }
   ],
   "source": [
    "files_search(work_dir, files_dict, prefix='', skip='source')"
   ]
  },
  {
   "cell_type": "code",
   "execution_count": 6,
   "id": "possible-bones",
   "metadata": {},
   "outputs": [],
   "source": [
    "how=['inner', 'outer', 'left', 'right']"
   ]
  },
  {
   "cell_type": "code",
   "execution_count": 7,
   "id": "national-boards",
   "metadata": {},
   "outputs": [],
   "source": [
    "f = False\n",
    "t = True"
   ]
  },
  {
   "cell_type": "markdown",
   "id": "7d829da8",
   "metadata": {},
   "source": [
    "# PIEZOMETERS PROCESSING"
   ]
  },
  {
   "cell_type": "code",
   "execution_count": 8,
   "id": "impressive-spouse",
   "metadata": {},
   "outputs": [
    {
     "name": "stdout",
     "output_type": "stream",
     "text": [
      "17 files\n"
     ]
    }
   ],
   "source": [
    "key='Piezometer'\n",
    "save_file = f'Merged_Piezometers.csv'\n",
    "coi=['ID','ID_date','X','Y','Z','Type','Long_for','Diam_for','Refus'] #columns of interest\n",
    "dataset = pd.DataFrame()\n",
    "print(len(files_dict[key]), 'files')"
   ]
  },
  {
   "cell_type": "code",
   "execution_count": 9,
   "id": "db48b5e8",
   "metadata": {},
   "outputs": [
    {
     "data": {
      "text/plain": [
       "['/home/yanathan/Projects/GSDMA/CF_data/Result_traitem/Liste_XY/Sol_Eau_Piezometers.csv',\n",
       " '/home/yanathan/Projects/GSDMA/CF_data/Result_traitem/Memoris_seafile/Result_eau_Piezometers.csv',\n",
       " '/home/yanathan/Projects/GSDMA/CF_data/Result_traitem/Phase_1_Memoris/Result_eau_Piezometers.csv',\n",
       " '/home/yanathan/Projects/GSDMA/CF_data/Result_traitem/Phase_2_Memoris/Result_eau_Piezometers.csv',\n",
       " '/home/yanathan/Projects/GSDMA/CF_data/Result_traitem/database_Memoris3/Donnees_piezos_Piezometers.csv',\n",
       " '/home/yanathan/Projects/GSDMA/CF_data/Result_traitem/database_Memoris3/Drains_Pz_ENEL_Piezometers.csv',\n",
       " '/home/yanathan/Projects/GSDMA/CF_data/Result_traitem/database_Memoris3/Profils_sol_Piezometers.csv',\n",
       " '/home/yanathan/Projects/GSDMA/CF_data/Result_traitem/database_Memoris3/Result_eau_Piezometers.csv',\n",
       " '/home/yanathan/Projects/GSDMA/CF_data/Result_traitem/database_Memoris3/Result_sol_Piezometers.csv',\n",
       " '/home/yanathan/Projects/GSDMA/CF_data/Result_traitem/donnees_terrain_2019/Donnees_forage_Piezometers.csv',\n",
       " '/home/yanathan/Projects/GSDMA/CF_data/Result_traitem/donnees_terrain_2019/Equipement_Piezometers.csv',\n",
       " '/home/yanathan/Projects/GSDMA/CF_data/Result_traitem/donnees_terrain_2019/Log_Piezometers.csv',\n",
       " '/home/yanathan/Projects/GSDMA/CF_data/Result_traitem/profils_sols_donnees_forages/Equipement_Piezometers.csv',\n",
       " '/home/yanathan/Projects/GSDMA/CF_data/Result_traitem/profils_sols_donnees_forages/donnees_forage_Piezometers.csv',\n",
       " '/home/yanathan/Projects/GSDMA/CF_data/Result_traitem/profils_sols_donnees_forages/piezometrie_Piezometers.csv',\n",
       " '/home/yanathan/Projects/GSDMA/CF_data/Result_traitem/vUmons_logsFor/Analyse_eau_Phases1&2_Piezometers.csv',\n",
       " '/home/yanathan/Projects/GSDMA/CF_data/Result_traitem/vUmons_logsFor/Analyse_sol_Phases1&2_Piezometers.csv']"
      ]
     },
     "execution_count": 9,
     "metadata": {},
     "output_type": "execute_result"
    }
   ],
   "source": [
    "files_dict[key]"
   ]
  },
  {
   "cell_type": "code",
   "execution_count": 10,
   "id": "e8bad474",
   "metadata": {
    "scrolled": true
   },
   "outputs": [
    {
     "name": "stdout",
     "output_type": "stream",
     "text": [
      "Same files:[(7, 8)]\n",
      "Files with coordinates:[0, 1, 2, 3, 4, 5, 7, 8, 9, 13, 15, 16]\n",
      "Files without coordinates:[6, 10, 11, 12, 14]\n"
     ]
    }
   ],
   "source": [
    "data_overview(files_dict[key])"
   ]
  },
  {
   "cell_type": "markdown",
   "id": "a457ac6b",
   "metadata": {},
   "source": [
    "#### $\\color{green}{\\textbf{Read and merge}}$"
   ]
  },
  {
   "cell_type": "code",
   "execution_count": 11,
   "id": "a8c1475e",
   "metadata": {
    "scrolled": false
   },
   "outputs": [
    {
     "name": "stdout",
     "output_type": "stream",
     "text": [
      "df1 :  --> Coordinates\n",
      "df1 :  --> Coordinates\n",
      "Rows : 14, columns : 10, Unique col 'ID': 14\n"
     ]
    },
    {
     "data": {
      "application/vnd.jupyter.widget-view+json": {
       "model_id": "3c51bacbb53e4525bb58381b9b919d81",
       "version_major": 2,
       "version_minor": 0
      },
      "text/plain": [
       "interactive(children=(IntSlider(value=3, description='rows', max=14, min=3, readout=False), IntSlider(value=10…"
      ]
     },
     "metadata": {},
     "output_type": "display_data"
    },
    {
     "name": "stdout",
     "output_type": "stream",
     "text": [
      "Rows : 30, columns : 9, Unique col 'ID': 30\n"
     ]
    },
    {
     "data": {
      "application/vnd.jupyter.widget-view+json": {
       "model_id": "e432507f010d4f5aab1e6378fd71c005",
       "version_major": 2,
       "version_minor": 0
      },
      "text/plain": [
       "interactive(children=(IntSlider(value=3, description='rows', max=30, min=3, readout=False), IntSlider(value=9,…"
      ]
     },
     "metadata": {},
     "output_type": "display_data"
    },
    {
     "data": {
      "text/plain": [
       "(None, None)"
      ]
     },
     "execution_count": 11,
     "metadata": {},
     "output_type": "execute_result"
    }
   ],
   "source": [
    "file1= work_dir + 'Phase_1_Memoris/Result_eau_Piezometers.csv' # 2\n",
    "file2= work_dir + 'Memoris_seafile/Result_eau_Piezometers.csv' # 1  \n",
    "\n",
    "\n",
    "df1, df2 = create_df([file1, file2])\n",
    "dataframe_viewer(df1, rows=3, un_val='ID', view=t), dataframe_viewer(df2, rows=3, un_val='ID', view=t)"
   ]
  },
  {
   "cell_type": "code",
   "execution_count": 12,
   "id": "aba3d71c",
   "metadata": {},
   "outputs": [
    {
     "name": "stdout",
     "output_type": "stream",
     "text": [
      "14 duplicate objects fixed!\n"
     ]
    }
   ],
   "source": [
    "fix_duplicates(df1, df2, drop_old_id=True)"
   ]
  },
  {
   "cell_type": "code",
   "execution_count": 13,
   "id": "7de44a63",
   "metadata": {
    "scrolled": true
   },
   "outputs": [],
   "source": [
    "mdf, conflict_df=data_merger(df1, df2, how=how[1], on='ID', dist_max=1)"
   ]
  },
  {
   "cell_type": "markdown",
   "id": "1b144272",
   "metadata": {},
   "source": [
    "#### First object dataset save"
   ]
  },
  {
   "cell_type": "code",
   "execution_count": 14,
   "id": "d90786e2",
   "metadata": {},
   "outputs": [],
   "source": [
    "dataset = mdf.copy() #saving"
   ]
  },
  {
   "cell_type": "raw",
   "id": "3ca99cf7",
   "metadata": {
    "scrolled": true
   },
   "source": [
    "dataframe_viewer(dataset, rows=3, un_val='ID', view=t)"
   ]
  },
  {
   "cell_type": "markdown",
   "id": "b20fa9c5",
   "metadata": {},
   "source": [
    "#### $\\color{green}{\\textbf{Read and merge}}$"
   ]
  },
  {
   "cell_type": "code",
   "execution_count": 15,
   "id": "19d1144b",
   "metadata": {
    "scrolled": false
   },
   "outputs": [
    {
     "name": "stdout",
     "output_type": "stream",
     "text": [
      "df1 :  --> Coordinates\n",
      "df1 :  --> Coordinates\n",
      "Rows : 117, columns : 13, Unique col 'ID': 117\n"
     ]
    },
    {
     "data": {
      "application/vnd.jupyter.widget-view+json": {
       "model_id": "6a879b4442694db9ad333e97958d4f67",
       "version_major": 2,
       "version_minor": 0
      },
      "text/plain": [
       "interactive(children=(IntSlider(value=3, description='rows', max=117, min=3, readout=False), IntSlider(value=1…"
      ]
     },
     "metadata": {},
     "output_type": "display_data"
    },
    {
     "name": "stdout",
     "output_type": "stream",
     "text": [
      "Rows : 257, columns : 6, Unique col 'ID': 254\n"
     ]
    },
    {
     "data": {
      "application/vnd.jupyter.widget-view+json": {
       "model_id": "fcac489aff3e46aeb97bb6f7e1c37579",
       "version_major": 2,
       "version_minor": 0
      },
      "text/plain": [
       "interactive(children=(IntSlider(value=3, description='rows', max=257, min=3, readout=False), IntSlider(value=6…"
      ]
     },
     "metadata": {},
     "output_type": "display_data"
    },
    {
     "data": {
      "text/plain": [
       "(None, None)"
      ]
     },
     "execution_count": 15,
     "metadata": {},
     "output_type": "execute_result"
    }
   ],
   "source": [
    "file1= work_dir + 'database_Memoris3/Donnees_piezos_Piezometers.csv' # 4\n",
    "file2= work_dir + 'Liste_XY/Sol_Eau_Piezometers.csv' # 0  \n",
    "\n",
    "\n",
    "df1, df2 = create_df([file1, file2])\n",
    "dataframe_viewer(df1, rows=3, un_val='ID', view=t), dataframe_viewer(df2, rows=3, un_val='ID', view=t)"
   ]
  },
  {
   "cell_type": "code",
   "execution_count": 16,
   "id": "ffbe83a5",
   "metadata": {},
   "outputs": [
    {
     "name": "stdout",
     "output_type": "stream",
     "text": [
      "same objects at indices:[62, 65, 67, 70, 72, 74, 108, 113, 114, 116], will be dropped if drop is set True!\n",
      "Rows : 107 ; Columns : 14 ; Unique on 'ID' : 104 ; \n"
     ]
    }
   ],
   "source": [
    "df1, check = data_filter(df1, position=True, id_col='ID', expression='sup|prof', dist_max=1, drop=True, drop_old_id=True)"
   ]
  },
  {
   "cell_type": "code",
   "execution_count": 17,
   "id": "ccb34ec6",
   "metadata": {},
   "outputs": [
    {
     "name": "stdout",
     "output_type": "stream",
     "text": [
      "same objects at indices:[1, 8, 10, 12, 256, 106, 113], will be dropped if drop is set True!\n",
      "Rows : 250 ; Columns : 7 ; Unique on 'ID' : 245 ; \n"
     ]
    }
   ],
   "source": [
    "df2, check = data_filter(df2, position=True, id_col='ID', expression='sup|prof', dist_max=1, drop=True)"
   ]
  },
  {
   "cell_type": "code",
   "execution_count": 18,
   "id": "2ab30920",
   "metadata": {},
   "outputs": [
    {
     "data": {
      "text/html": [
       "<div>\n",
       "<style scoped>\n",
       "    .dataframe tbody tr th:only-of-type {\n",
       "        vertical-align: middle;\n",
       "    }\n",
       "\n",
       "    .dataframe tbody tr th {\n",
       "        vertical-align: top;\n",
       "    }\n",
       "\n",
       "    .dataframe thead th {\n",
       "        text-align: right;\n",
       "    }\n",
       "</style>\n",
       "<table border=\"1\" class=\"dataframe\">\n",
       "  <thead>\n",
       "    <tr style=\"text-align: right;\">\n",
       "      <th></th>\n",
       "      <th>ID</th>\n",
       "      <th>Origin_ID</th>\n",
       "      <th>Nappe</th>\n",
       "      <th>X</th>\n",
       "      <th>Y</th>\n",
       "      <th>Type_ech</th>\n",
       "      <th>Type</th>\n",
       "    </tr>\n",
       "  </thead>\n",
       "  <tbody>\n",
       "    <tr>\n",
       "      <th>0</th>\n",
       "      <td>160</td>\n",
       "      <td>160prof</td>\n",
       "      <td>Socle</td>\n",
       "      <td>152395.000</td>\n",
       "      <td>122839.000</td>\n",
       "      <td>Eau</td>\n",
       "      <td>Piezo</td>\n",
       "    </tr>\n",
       "    <tr>\n",
       "      <th>1</th>\n",
       "      <td>502</td>\n",
       "      <td>502</td>\n",
       "      <td>Socle</td>\n",
       "      <td>152365.000</td>\n",
       "      <td>122855.000</td>\n",
       "      <td>Eau</td>\n",
       "      <td>Piezo</td>\n",
       "    </tr>\n",
       "    <tr>\n",
       "      <th>2</th>\n",
       "      <td>502</td>\n",
       "      <td>502</td>\n",
       "      <td>Alluvions</td>\n",
       "      <td>152366.396</td>\n",
       "      <td>122857.132</td>\n",
       "      <td>Eau</td>\n",
       "      <td>Piezo</td>\n",
       "    </tr>\n",
       "    <tr>\n",
       "      <th>3</th>\n",
       "      <td>508</td>\n",
       "      <td>508</td>\n",
       "      <td>Socle</td>\n",
       "      <td>152467.000</td>\n",
       "      <td>122850.000</td>\n",
       "      <td>Eau</td>\n",
       "      <td>Piezo</td>\n",
       "    </tr>\n",
       "    <tr>\n",
       "      <th>4</th>\n",
       "      <td>512</td>\n",
       "      <td>512</td>\n",
       "      <td>Socle</td>\n",
       "      <td>152428.000</td>\n",
       "      <td>122766.000</td>\n",
       "      <td>Eau</td>\n",
       "      <td>Piezo</td>\n",
       "    </tr>\n",
       "    <tr>\n",
       "      <th>...</th>\n",
       "      <td>...</td>\n",
       "      <td>...</td>\n",
       "      <td>...</td>\n",
       "      <td>...</td>\n",
       "      <td>...</td>\n",
       "      <td>...</td>\n",
       "      <td>...</td>\n",
       "    </tr>\n",
       "    <tr>\n",
       "      <th>245</th>\n",
       "      <td>519</td>\n",
       "      <td>519</td>\n",
       "      <td>NaN</td>\n",
       "      <td>152656.000</td>\n",
       "      <td>122837.000</td>\n",
       "      <td>Sol</td>\n",
       "      <td>Piezo</td>\n",
       "    </tr>\n",
       "    <tr>\n",
       "      <th>246</th>\n",
       "      <td>520</td>\n",
       "      <td>520</td>\n",
       "      <td>NaN</td>\n",
       "      <td>152644.000</td>\n",
       "      <td>122791.000</td>\n",
       "      <td>Sol</td>\n",
       "      <td>Piezo</td>\n",
       "    </tr>\n",
       "    <tr>\n",
       "      <th>247</th>\n",
       "      <td>524</td>\n",
       "      <td>524</td>\n",
       "      <td>NaN</td>\n",
       "      <td>152570.000</td>\n",
       "      <td>122789.000</td>\n",
       "      <td>Sol</td>\n",
       "      <td>Piezo</td>\n",
       "    </tr>\n",
       "    <tr>\n",
       "      <th>248</th>\n",
       "      <td>525</td>\n",
       "      <td>525</td>\n",
       "      <td>NaN</td>\n",
       "      <td>152548.000</td>\n",
       "      <td>122783.000</td>\n",
       "      <td>Sol</td>\n",
       "      <td>Piezo</td>\n",
       "    </tr>\n",
       "    <tr>\n",
       "      <th>249</th>\n",
       "      <td>526</td>\n",
       "      <td>526</td>\n",
       "      <td>NaN</td>\n",
       "      <td>152553.000</td>\n",
       "      <td>122757.000</td>\n",
       "      <td>Sol</td>\n",
       "      <td>Piezo</td>\n",
       "    </tr>\n",
       "  </tbody>\n",
       "</table>\n",
       "<p>250 rows × 7 columns</p>\n",
       "</div>"
      ],
      "text/plain": [
       "      ID Origin_ID      Nappe           X           Y Type_ech   Type\n",
       "0    160   160prof      Socle  152395.000  122839.000      Eau  Piezo\n",
       "1    502       502      Socle  152365.000  122855.000      Eau  Piezo\n",
       "2    502       502  Alluvions  152366.396  122857.132      Eau  Piezo\n",
       "3    508       508      Socle  152467.000  122850.000      Eau  Piezo\n",
       "4    512       512      Socle  152428.000  122766.000      Eau  Piezo\n",
       "..   ...       ...        ...         ...         ...      ...    ...\n",
       "245  519       519        NaN  152656.000  122837.000      Sol  Piezo\n",
       "246  520       520        NaN  152644.000  122791.000      Sol  Piezo\n",
       "247  524       524        NaN  152570.000  122789.000      Sol  Piezo\n",
       "248  525       525        NaN  152548.000  122783.000      Sol  Piezo\n",
       "249  526       526        NaN  152553.000  122757.000      Sol  Piezo\n",
       "\n",
       "[250 rows x 7 columns]"
      ]
     },
     "execution_count": 18,
     "metadata": {},
     "output_type": "execute_result"
    }
   ],
   "source": [
    "df2"
   ]
  },
  {
   "cell_type": "code",
   "execution_count": 19,
   "id": "aca154f6",
   "metadata": {},
   "outputs": [
    {
     "name": "stdout",
     "output_type": "stream",
     "text": [
      "3 duplicate objects fixed!\n"
     ]
    }
   ],
   "source": [
    "fix_duplicates(df1, df2)"
   ]
  },
  {
   "cell_type": "code",
   "execution_count": 20,
   "id": "99207539",
   "metadata": {},
   "outputs": [
    {
     "data": {
      "text/plain": [
       "False"
      ]
     },
     "execution_count": 20,
     "metadata": {},
     "output_type": "execute_result"
    }
   ],
   "source": [
    "'2021-07-03' == '2021-07-04'"
   ]
  },
  {
   "cell_type": "code",
   "execution_count": 21,
   "id": "fee6d13a",
   "metadata": {
    "scrolled": true
   },
   "outputs": [
    {
     "name": "stdout",
     "output_type": "stream",
     "text": [
      "Conflict values present. Please resolve this manually !\n"
     ]
    }
   ],
   "source": [
    "mdf, conflict_df=data_merger(df1, df2, how=how[1], on='ID', dist_max=1)"
   ]
  },
  {
   "cell_type": "markdown",
   "id": "8db0ebd9",
   "metadata": {},
   "source": [
    "#### $\\color{blue}{\\textbf{Manage conflicts}}$"
   ]
  },
  {
   "cell_type": "code",
   "execution_count": 22,
   "id": "d004cbd2",
   "metadata": {
    "scrolled": true
   },
   "outputs": [
    {
     "data": {
      "text/html": [
       "<div>\n",
       "<style scoped>\n",
       "    .dataframe tbody tr th:only-of-type {\n",
       "        vertical-align: middle;\n",
       "    }\n",
       "\n",
       "    .dataframe tbody tr th {\n",
       "        vertical-align: top;\n",
       "    }\n",
       "\n",
       "    .dataframe thead th {\n",
       "        text-align: right;\n",
       "    }\n",
       "</style>\n",
       "<table border=\"1\" class=\"dataframe\">\n",
       "  <thead>\n",
       "    <tr style=\"text-align: right;\">\n",
       "      <th></th>\n",
       "      <th>Check_col</th>\n",
       "      <th>ID</th>\n",
       "      <th>Origin_ID_x</th>\n",
       "      <th>Origin_ID_y</th>\n",
       "      <th>Nappe_x</th>\n",
       "      <th>Nappe_y</th>\n",
       "    </tr>\n",
       "  </thead>\n",
       "  <tbody>\n",
       "    <tr>\n",
       "      <th>8</th>\n",
       "      <td>Origin_ID, Nappe</td>\n",
       "      <td>59</td>\n",
       "      <td>59</td>\n",
       "      <td>P59</td>\n",
       "      <td>Remblai_All</td>\n",
       "      <td>remblais</td>\n",
       "    </tr>\n",
       "    <tr>\n",
       "      <th>37</th>\n",
       "      <td>Origin_ID</td>\n",
       "      <td>186</td>\n",
       "      <td>186</td>\n",
       "      <td>503</td>\n",
       "      <td>Remblais</td>\n",
       "      <td>NaN</td>\n",
       "    </tr>\n",
       "    <tr>\n",
       "      <th>61</th>\n",
       "      <td>Origin_ID</td>\n",
       "      <td>FP49</td>\n",
       "      <td>FP 49 PROF</td>\n",
       "      <td>FP49prof</td>\n",
       "      <td>Socle</td>\n",
       "      <td>Socle</td>\n",
       "    </tr>\n",
       "    <tr>\n",
       "      <th>64</th>\n",
       "      <td>Nappe</td>\n",
       "      <td>FP14</td>\n",
       "      <td>FP14prof</td>\n",
       "      <td>FP14prof</td>\n",
       "      <td>All_limoneuses_graveleuses</td>\n",
       "      <td>Alluvions</td>\n",
       "    </tr>\n",
       "    <tr>\n",
       "      <th>67</th>\n",
       "      <td>Origin_ID</td>\n",
       "      <td>FP63</td>\n",
       "      <td>FP63 prof</td>\n",
       "      <td>FP63prof</td>\n",
       "      <td>Socle</td>\n",
       "      <td>Socle</td>\n",
       "    </tr>\n",
       "    <tr>\n",
       "      <th>68</th>\n",
       "      <td>Origin_ID</td>\n",
       "      <td>FP76</td>\n",
       "      <td>FP76 prof</td>\n",
       "      <td>FP76prof</td>\n",
       "      <td>Socle</td>\n",
       "      <td>Socle</td>\n",
       "    </tr>\n",
       "    <tr>\n",
       "      <th>70</th>\n",
       "      <td>Nappe</td>\n",
       "      <td>501</td>\n",
       "      <td>501</td>\n",
       "      <td>501</td>\n",
       "      <td>Remblai_All</td>\n",
       "      <td>remblais</td>\n",
       "    </tr>\n",
       "    <tr>\n",
       "      <th>72</th>\n",
       "      <td>Nappe</td>\n",
       "      <td>509</td>\n",
       "      <td>509</td>\n",
       "      <td>509</td>\n",
       "      <td>All_limoneuse</td>\n",
       "      <td>Alluvions</td>\n",
       "    </tr>\n",
       "    <tr>\n",
       "      <th>73</th>\n",
       "      <td>Nappe</td>\n",
       "      <td>510</td>\n",
       "      <td>510</td>\n",
       "      <td>510</td>\n",
       "      <td>All_limoneuse</td>\n",
       "      <td>Alluvions</td>\n",
       "    </tr>\n",
       "    <tr>\n",
       "      <th>74</th>\n",
       "      <td>Nappe</td>\n",
       "      <td>511</td>\n",
       "      <td>511</td>\n",
       "      <td>511</td>\n",
       "      <td>Remblai_All</td>\n",
       "      <td>remblais</td>\n",
       "    </tr>\n",
       "    <tr>\n",
       "      <th>76</th>\n",
       "      <td>Nappe</td>\n",
       "      <td>513</td>\n",
       "      <td>513</td>\n",
       "      <td>513</td>\n",
       "      <td>Remblai_All</td>\n",
       "      <td>remblais</td>\n",
       "    </tr>\n",
       "    <tr>\n",
       "      <th>78</th>\n",
       "      <td>Nappe</td>\n",
       "      <td>528</td>\n",
       "      <td>528</td>\n",
       "      <td>528</td>\n",
       "      <td>Remblai_All</td>\n",
       "      <td>remblais</td>\n",
       "    </tr>\n",
       "    <tr>\n",
       "      <th>80</th>\n",
       "      <td>Nappe</td>\n",
       "      <td>522</td>\n",
       "      <td>522</td>\n",
       "      <td>522</td>\n",
       "      <td>Remblai_All</td>\n",
       "      <td>remblais</td>\n",
       "    </tr>\n",
       "    <tr>\n",
       "      <th>86</th>\n",
       "      <td>Nappe</td>\n",
       "      <td>534</td>\n",
       "      <td>534</td>\n",
       "      <td>534</td>\n",
       "      <td>All_limoneuse</td>\n",
       "      <td>Alluvions</td>\n",
       "    </tr>\n",
       "    <tr>\n",
       "      <th>92</th>\n",
       "      <td>Nappe</td>\n",
       "      <td>537</td>\n",
       "      <td>537</td>\n",
       "      <td>537</td>\n",
       "      <td>All_limoneuse</td>\n",
       "      <td>Alluvions</td>\n",
       "    </tr>\n",
       "    <tr>\n",
       "      <th>93</th>\n",
       "      <td>Nappe</td>\n",
       "      <td>536</td>\n",
       "      <td>536</td>\n",
       "      <td>536</td>\n",
       "      <td>All_limoneuse</td>\n",
       "      <td>Alluvions</td>\n",
       "    </tr>\n",
       "    <tr>\n",
       "      <th>94</th>\n",
       "      <td>Nappe</td>\n",
       "      <td>543</td>\n",
       "      <td>543</td>\n",
       "      <td>543</td>\n",
       "      <td>All_limoneuse</td>\n",
       "      <td>Alluvions</td>\n",
       "    </tr>\n",
       "    <tr>\n",
       "      <th>99</th>\n",
       "      <td>Origin_ID</td>\n",
       "      <td>541</td>\n",
       "      <td>541sup R</td>\n",
       "      <td>541</td>\n",
       "      <td>Remblais</td>\n",
       "      <td>remblais</td>\n",
       "    </tr>\n",
       "    <tr>\n",
       "      <th>102</th>\n",
       "      <td>Nappe</td>\n",
       "      <td>539</td>\n",
       "      <td>539</td>\n",
       "      <td>539</td>\n",
       "      <td>All_limoneuse</td>\n",
       "      <td>Alluvions</td>\n",
       "    </tr>\n",
       "    <tr>\n",
       "      <th>104</th>\n",
       "      <td>Nappe</td>\n",
       "      <td>533</td>\n",
       "      <td>533</td>\n",
       "      <td>533</td>\n",
       "      <td>All_limoneuses_graveleuses</td>\n",
       "      <td>Alluvions</td>\n",
       "    </tr>\n",
       "    <tr>\n",
       "      <th>105</th>\n",
       "      <td>Origin_ID</td>\n",
       "      <td>502</td>\n",
       "      <td>502prof</td>\n",
       "      <td>502</td>\n",
       "      <td>Socle</td>\n",
       "      <td>Socle</td>\n",
       "    </tr>\n",
       "    <tr>\n",
       "      <th>107</th>\n",
       "      <td>Origin_ID, Nappe</td>\n",
       "      <td>512</td>\n",
       "      <td>512sup</td>\n",
       "      <td>512</td>\n",
       "      <td>Remblai_All</td>\n",
       "      <td>Socle</td>\n",
       "    </tr>\n",
       "    <tr>\n",
       "      <th>110</th>\n",
       "      <td>Origin_ID, Nappe</td>\n",
       "      <td>595</td>\n",
       "      <td>595prof</td>\n",
       "      <td>595</td>\n",
       "      <td>Socle</td>\n",
       "      <td>Alluvions</td>\n",
       "    </tr>\n",
       "    <tr>\n",
       "      <th>111</th>\n",
       "      <td>Origin_ID, Nappe</td>\n",
       "      <td>540</td>\n",
       "      <td>540sup Al</td>\n",
       "      <td>540sup</td>\n",
       "      <td>All_limoneuse</td>\n",
       "      <td>remblais</td>\n",
       "    </tr>\n",
       "  </tbody>\n",
       "</table>\n",
       "</div>"
      ],
      "text/plain": [
       "            Check_col    ID Origin_ID_x Origin_ID_y  \\\n",
       "8    Origin_ID, Nappe    59          59         P59   \n",
       "37          Origin_ID   186         186         503   \n",
       "61          Origin_ID  FP49  FP 49 PROF    FP49prof   \n",
       "64              Nappe  FP14    FP14prof    FP14prof   \n",
       "67          Origin_ID  FP63   FP63 prof    FP63prof   \n",
       "68          Origin_ID  FP76   FP76 prof    FP76prof   \n",
       "70              Nappe   501         501         501   \n",
       "72              Nappe   509         509         509   \n",
       "73              Nappe   510         510         510   \n",
       "74              Nappe   511         511         511   \n",
       "76              Nappe   513         513         513   \n",
       "78              Nappe   528         528         528   \n",
       "80              Nappe   522         522         522   \n",
       "86              Nappe   534         534         534   \n",
       "92              Nappe   537         537         537   \n",
       "93              Nappe   536         536         536   \n",
       "94              Nappe   543         543         543   \n",
       "99          Origin_ID   541    541sup R         541   \n",
       "102             Nappe   539         539         539   \n",
       "104             Nappe   533         533         533   \n",
       "105         Origin_ID   502     502prof         502   \n",
       "107  Origin_ID, Nappe   512      512sup         512   \n",
       "110  Origin_ID, Nappe   595     595prof         595   \n",
       "111  Origin_ID, Nappe   540   540sup Al      540sup   \n",
       "\n",
       "                        Nappe_x    Nappe_y  \n",
       "8                   Remblai_All   remblais  \n",
       "37                     Remblais        NaN  \n",
       "61                        Socle      Socle  \n",
       "64   All_limoneuses_graveleuses  Alluvions  \n",
       "67                        Socle      Socle  \n",
       "68                        Socle      Socle  \n",
       "70                  Remblai_All   remblais  \n",
       "72                All_limoneuse  Alluvions  \n",
       "73                All_limoneuse  Alluvions  \n",
       "74                  Remblai_All   remblais  \n",
       "76                  Remblai_All   remblais  \n",
       "78                  Remblai_All   remblais  \n",
       "80                  Remblai_All   remblais  \n",
       "86                All_limoneuse  Alluvions  \n",
       "92                All_limoneuse  Alluvions  \n",
       "93                All_limoneuse  Alluvions  \n",
       "94                All_limoneuse  Alluvions  \n",
       "99                     Remblais   remblais  \n",
       "102               All_limoneuse  Alluvions  \n",
       "104  All_limoneuses_graveleuses  Alluvions  \n",
       "105                       Socle      Socle  \n",
       "107                 Remblai_All      Socle  \n",
       "110                       Socle  Alluvions  \n",
       "111               All_limoneuse   remblais  "
      ]
     },
     "execution_count": 22,
     "metadata": {},
     "output_type": "execute_result"
    }
   ],
   "source": [
    "conflict_df"
   ]
  },
  {
   "cell_type": "code",
   "execution_count": 23,
   "id": "9c0a61e6",
   "metadata": {},
   "outputs": [
    {
     "name": "stdout",
     "output_type": "stream",
     "text": [
      "Validation done, but conflicts remain!\n"
     ]
    }
   ],
   "source": [
    "data_validation(overall_data=mdf, conflict_data=conflict_df, index_col='index', \n",
    "                valid_dict={'Nappe_y':list(conflict_df.index)[:18]})"
   ]
  },
  {
   "cell_type": "code",
   "execution_count": 24,
   "id": "86e97ea2",
   "metadata": {
    "scrolled": true
   },
   "outputs": [
    {
     "data": {
      "text/html": [
       "<div>\n",
       "<style scoped>\n",
       "    .dataframe tbody tr th:only-of-type {\n",
       "        vertical-align: middle;\n",
       "    }\n",
       "\n",
       "    .dataframe tbody tr th {\n",
       "        vertical-align: top;\n",
       "    }\n",
       "\n",
       "    .dataframe thead th {\n",
       "        text-align: right;\n",
       "    }\n",
       "</style>\n",
       "<table border=\"1\" class=\"dataframe\">\n",
       "  <thead>\n",
       "    <tr style=\"text-align: right;\">\n",
       "      <th></th>\n",
       "      <th>Check_col</th>\n",
       "      <th>ID</th>\n",
       "      <th>Origin_ID_x</th>\n",
       "      <th>Origin_ID_y</th>\n",
       "      <th>Nappe_x</th>\n",
       "      <th>Nappe_y</th>\n",
       "    </tr>\n",
       "  </thead>\n",
       "  <tbody>\n",
       "    <tr>\n",
       "      <th>8</th>\n",
       "      <td>Origin_ID</td>\n",
       "      <td>59</td>\n",
       "      <td>59</td>\n",
       "      <td>P59</td>\n",
       "      <td>Done</td>\n",
       "      <td>Done</td>\n",
       "    </tr>\n",
       "    <tr>\n",
       "      <th>102</th>\n",
       "      <td>Nappe</td>\n",
       "      <td>539</td>\n",
       "      <td>539</td>\n",
       "      <td>539</td>\n",
       "      <td>All_limoneuse</td>\n",
       "      <td>Alluvions</td>\n",
       "    </tr>\n",
       "    <tr>\n",
       "      <th>104</th>\n",
       "      <td>Nappe</td>\n",
       "      <td>533</td>\n",
       "      <td>533</td>\n",
       "      <td>533</td>\n",
       "      <td>All_limoneuses_graveleuses</td>\n",
       "      <td>Alluvions</td>\n",
       "    </tr>\n",
       "    <tr>\n",
       "      <th>105</th>\n",
       "      <td>Origin_ID</td>\n",
       "      <td>502</td>\n",
       "      <td>502prof</td>\n",
       "      <td>502</td>\n",
       "      <td>Socle</td>\n",
       "      <td>Socle</td>\n",
       "    </tr>\n",
       "    <tr>\n",
       "      <th>107</th>\n",
       "      <td>Origin_ID, Nappe</td>\n",
       "      <td>512</td>\n",
       "      <td>512sup</td>\n",
       "      <td>512</td>\n",
       "      <td>Remblai_All</td>\n",
       "      <td>Socle</td>\n",
       "    </tr>\n",
       "    <tr>\n",
       "      <th>110</th>\n",
       "      <td>Origin_ID, Nappe</td>\n",
       "      <td>595</td>\n",
       "      <td>595prof</td>\n",
       "      <td>595</td>\n",
       "      <td>Socle</td>\n",
       "      <td>Alluvions</td>\n",
       "    </tr>\n",
       "    <tr>\n",
       "      <th>111</th>\n",
       "      <td>Origin_ID, Nappe</td>\n",
       "      <td>540</td>\n",
       "      <td>540sup Al</td>\n",
       "      <td>540sup</td>\n",
       "      <td>All_limoneuse</td>\n",
       "      <td>remblais</td>\n",
       "    </tr>\n",
       "  </tbody>\n",
       "</table>\n",
       "</div>"
      ],
      "text/plain": [
       "            Check_col   ID Origin_ID_x Origin_ID_y  \\\n",
       "8           Origin_ID   59          59         P59   \n",
       "102             Nappe  539         539         539   \n",
       "104             Nappe  533         533         533   \n",
       "105         Origin_ID  502     502prof         502   \n",
       "107  Origin_ID, Nappe  512      512sup         512   \n",
       "110  Origin_ID, Nappe  595     595prof         595   \n",
       "111  Origin_ID, Nappe  540   540sup Al      540sup   \n",
       "\n",
       "                        Nappe_x    Nappe_y  \n",
       "8                          Done       Done  \n",
       "102               All_limoneuse  Alluvions  \n",
       "104  All_limoneuses_graveleuses  Alluvions  \n",
       "105                       Socle      Socle  \n",
       "107                 Remblai_All      Socle  \n",
       "110                       Socle  Alluvions  \n",
       "111               All_limoneuse   remblais  "
      ]
     },
     "execution_count": 24,
     "metadata": {},
     "output_type": "execute_result"
    }
   ],
   "source": [
    "conflict_df"
   ]
  },
  {
   "cell_type": "markdown",
   "id": "60bdca97",
   "metadata": {},
   "source": [
    "#### Merge with object dataset"
   ]
  },
  {
   "cell_type": "code",
   "execution_count": 25,
   "id": "a9294e8e",
   "metadata": {
    "scrolled": true
   },
   "outputs": [],
   "source": [
    "dataset, conflict_df=data_merger(dataset, mdf, how=how[1], on='ID', dist_max=1)"
   ]
  },
  {
   "cell_type": "code",
   "execution_count": 26,
   "id": "0db2f535",
   "metadata": {},
   "outputs": [],
   "source": [
    "if 'level_0' in dataset.columns:\n",
    "    if 'index' in dataset.columns:\n",
    "        dataset.drop(columns='index', inplace=True)\n",
    "    dataset.rename(columns={'level_0':'index'}, inplace=True)"
   ]
  },
  {
   "cell_type": "code",
   "execution_count": 27,
   "id": "33010411",
   "metadata": {
    "scrolled": true
   },
   "outputs": [
    {
     "name": "stdout",
     "output_type": "stream",
     "text": [
      "Rows : 361, columns : 21, Unique col 'ID': 346\n"
     ]
    },
    {
     "data": {
      "application/vnd.jupyter.widget-view+json": {
       "model_id": "74606db54fd141089011df2c4437e918",
       "version_major": 2,
       "version_minor": 0
      },
      "text/plain": [
       "interactive(children=(IntSlider(value=10, description='rows', max=361, min=10, readout=False), IntSlider(value…"
      ]
     },
     "metadata": {},
     "output_type": "display_data"
    }
   ],
   "source": [
    "dataframe_viewer(dataset, rows=10, un_val='ID', view=t)"
   ]
  },
  {
   "cell_type": "markdown",
   "id": "321cd531",
   "metadata": {},
   "source": [
    "#### $\\color{green}{\\textbf{Read and merge}}$"
   ]
  },
  {
   "cell_type": "code",
   "execution_count": 28,
   "id": "0a3cd181",
   "metadata": {
    "scrolled": false
   },
   "outputs": [
    {
     "name": "stdout",
     "output_type": "stream",
     "text": [
      "df1 :  --> Coordinates\n",
      "df1 :  --> Coordinates\n",
      "Rows : 10, columns : 9, Unique col 'ID': 10\n"
     ]
    },
    {
     "data": {
      "application/vnd.jupyter.widget-view+json": {
       "model_id": "81676192c31d43248b98911b537f4fc2",
       "version_major": 2,
       "version_minor": 0
      },
      "text/plain": [
       "interactive(children=(IntSlider(value=3, description='rows', max=10, min=3, readout=False), IntSlider(value=9,…"
      ]
     },
     "metadata": {},
     "output_type": "display_data"
    },
    {
     "name": "stdout",
     "output_type": "stream",
     "text": [
      "Rows : 6, columns : 6, Unique col 'ID': 6\n"
     ]
    },
    {
     "data": {
      "application/vnd.jupyter.widget-view+json": {
       "model_id": "6750b07874e941fab8b2daac21bcf176",
       "version_major": 2,
       "version_minor": 0
      },
      "text/plain": [
       "interactive(children=(IntSlider(value=3, description='rows', max=6, min=3, readout=False), IntSlider(value=6, …"
      ]
     },
     "metadata": {},
     "output_type": "display_data"
    },
    {
     "data": {
      "text/plain": [
       "(None, None)"
      ]
     },
     "execution_count": 28,
     "metadata": {},
     "output_type": "execute_result"
    }
   ],
   "source": [
    "file1= work_dir + 'Phase_2_Memoris/Result_eau_Piezometers.csv' # 3\n",
    "file2= work_dir + 'database_Memoris3/Drains_Pz_ENEL_Piezometers.csv' # 5  \n",
    "\n",
    "\n",
    "df1, df2 = create_df([file1, file2])\n",
    "dataframe_viewer(df1, rows=3, un_val='ID', view=t), dataframe_viewer(df2, rows=3, un_val='ID', view=t)"
   ]
  },
  {
   "cell_type": "code",
   "execution_count": 29,
   "id": "78549fa1",
   "metadata": {
    "scrolled": true
   },
   "outputs": [],
   "source": [
    "mdf, conflict_df=data_merger(df1, df2, how=how[1], on='ID', dist_max=1)"
   ]
  },
  {
   "cell_type": "markdown",
   "id": "ff4c8590",
   "metadata": {},
   "source": [
    "#### Merge with object dataset"
   ]
  },
  {
   "cell_type": "code",
   "execution_count": 30,
   "id": "7e9cb072",
   "metadata": {
    "scrolled": true
   },
   "outputs": [],
   "source": [
    "dataset, conflict_df=data_merger(dataset, mdf, how=how[1], on='ID', dist_max=1)"
   ]
  },
  {
   "cell_type": "code",
   "execution_count": 31,
   "id": "2b3c0457",
   "metadata": {},
   "outputs": [],
   "source": [
    "if 'level_0' in dataset.columns:\n",
    "    if 'index' in dataset.columns:\n",
    "        dataset.drop(columns='index', inplace=True)\n",
    "    dataset.rename(columns={'level_0':'index'}, inplace=True)"
   ]
  },
  {
   "cell_type": "code",
   "execution_count": 32,
   "id": "b3621f91",
   "metadata": {
    "scrolled": false
   },
   "outputs": [
    {
     "name": "stdout",
     "output_type": "stream",
     "text": [
      "Rows : 372, columns : 22, Unique col 'ID': 355\n"
     ]
    },
    {
     "data": {
      "application/vnd.jupyter.widget-view+json": {
       "model_id": "7e50e8b0de0e4663bc01859c4022c962",
       "version_major": 2,
       "version_minor": 0
      },
      "text/plain": [
       "interactive(children=(IntSlider(value=10, description='rows', max=372, min=10, readout=False), IntSlider(value…"
      ]
     },
     "metadata": {},
     "output_type": "display_data"
    }
   ],
   "source": [
    "dataframe_viewer(dataset, rows=10, un_val='ID', view=t)"
   ]
  },
  {
   "cell_type": "markdown",
   "id": "506e15b2",
   "metadata": {},
   "source": [
    "#### $\\color{green}{\\textbf{Read and merge}}$"
   ]
  },
  {
   "cell_type": "code",
   "execution_count": 33,
   "id": "bc90adef",
   "metadata": {
    "scrolled": false
   },
   "outputs": [
    {
     "name": "stdout",
     "output_type": "stream",
     "text": [
      "df1 :  --> Coordinates\n",
      "df1 :  --> Coordinates\n",
      "Rows : 3, columns : 18, Unique col 'ID': 3\n"
     ]
    },
    {
     "data": {
      "application/vnd.jupyter.widget-view+json": {
       "model_id": "2d981194684f47ef9c78f314c1cc1c57",
       "version_major": 2,
       "version_minor": 0
      },
      "text/plain": [
       "interactive(children=(IntSlider(value=3, description='rows', max=3, min=3, readout=False), IntSlider(value=12,…"
      ]
     },
     "metadata": {},
     "output_type": "display_data"
    },
    {
     "name": "stdout",
     "output_type": "stream",
     "text": [
      "Rows : 117, columns : 13, Unique col 'ID': 117\n"
     ]
    },
    {
     "data": {
      "application/vnd.jupyter.widget-view+json": {
       "model_id": "db70fc870bc9484ba28756253240a2ee",
       "version_major": 2,
       "version_minor": 0
      },
      "text/plain": [
       "interactive(children=(IntSlider(value=3, description='rows', max=117, min=3, readout=False), IntSlider(value=1…"
      ]
     },
     "metadata": {},
     "output_type": "display_data"
    },
    {
     "data": {
      "text/plain": [
       "(None, None)"
      ]
     },
     "execution_count": 33,
     "metadata": {},
     "output_type": "execute_result"
    }
   ],
   "source": [
    "file1= work_dir + 'donnees_terrain_2019/Donnees_forage_Piezometers.csv' # 9\n",
    "file2= work_dir + 'database_Memoris3/Result_eau_Piezometers.csv' # 7  \n",
    "\n",
    "df1, df2 = create_df([file1, file2])\n",
    "dataframe_viewer(df1, rows=3, un_val='ID', view=t), dataframe_viewer(df2, rows=3, un_val='ID', view=t)"
   ]
  },
  {
   "cell_type": "code",
   "execution_count": 34,
   "id": "1162d33a",
   "metadata": {},
   "outputs": [],
   "source": [
    "df1.ID = df1.ID.astype(str)\n",
    "df2.ID = df2.ID.astype(str)"
   ]
  },
  {
   "cell_type": "code",
   "execution_count": 35,
   "id": "faf68986",
   "metadata": {},
   "outputs": [
    {
     "name": "stdout",
     "output_type": "stream",
     "text": [
      "Rows : 117 ; Columns : 14 ; Unique on 'ID' : 104 ; \n"
     ]
    }
   ],
   "source": [
    "df2, check = data_filter(df2, position=True, id_col='ID', expression='sup|prof', dist_max=1, error_max=1.1, drop=True, drop_old_id=True)"
   ]
  },
  {
   "cell_type": "code",
   "execution_count": 36,
   "id": "e15bc2b1",
   "metadata": {
    "scrolled": false
   },
   "outputs": [
    {
     "name": "stdout",
     "output_type": "stream",
     "text": [
      "Rows : 117, columns : 14, Unique col 'ID': 104\n"
     ]
    },
    {
     "data": {
      "application/vnd.jupyter.widget-view+json": {
       "model_id": "47d919f724284763976b1f6e8c28fde2",
       "version_major": 2,
       "version_minor": 0
      },
      "text/plain": [
       "interactive(children=(IntSlider(value=10, description='rows', max=117, min=10, readout=False), IntSlider(value…"
      ]
     },
     "metadata": {},
     "output_type": "display_data"
    }
   ],
   "source": [
    "dataframe_viewer(df2, rows=10, un_val='ID', view=t)"
   ]
  },
  {
   "cell_type": "code",
   "execution_count": 37,
   "id": "ef9002dc",
   "metadata": {},
   "outputs": [
    {
     "name": "stdout",
     "output_type": "stream",
     "text": [
      "0 duplicate objects fixed!\n"
     ]
    }
   ],
   "source": [
    "fix_duplicates(df1, df2)"
   ]
  },
  {
   "cell_type": "code",
   "execution_count": 38,
   "id": "b73676a0",
   "metadata": {
    "scrolled": true
   },
   "outputs": [],
   "source": [
    "mdf, conflict_df=data_merger(df1, df2, how=how[1], on='ID', dist_max=1)"
   ]
  },
  {
   "cell_type": "markdown",
   "id": "2ec17765",
   "metadata": {},
   "source": [
    "#### Merge with object dataset"
   ]
  },
  {
   "cell_type": "code",
   "execution_count": 39,
   "id": "1334c6fd",
   "metadata": {
    "scrolled": true
   },
   "outputs": [
    {
     "name": "stdout",
     "output_type": "stream",
     "text": [
      "Conflict values present. Please resolve this manually !\n"
     ]
    }
   ],
   "source": [
    "dataset, conflict_df=data_merger(dataset, mdf, how=how[1], on='ID', dist_max=1)"
   ]
  },
  {
   "cell_type": "markdown",
   "id": "08568926",
   "metadata": {},
   "source": [
    "#### $\\color{blue}{\\textbf{Manage conflicts}}$"
   ]
  },
  {
   "cell_type": "code",
   "execution_count": 40,
   "id": "ab36d499",
   "metadata": {
    "scrolled": true
   },
   "outputs": [
    {
     "data": {
      "text/html": [
       "<div>\n",
       "<style scoped>\n",
       "    .dataframe tbody tr th:only-of-type {\n",
       "        vertical-align: middle;\n",
       "    }\n",
       "\n",
       "    .dataframe tbody tr th {\n",
       "        vertical-align: top;\n",
       "    }\n",
       "\n",
       "    .dataframe thead th {\n",
       "        text-align: right;\n",
       "    }\n",
       "</style>\n",
       "<table border=\"1\" class=\"dataframe\">\n",
       "  <thead>\n",
       "    <tr style=\"text-align: right;\">\n",
       "      <th></th>\n",
       "      <th>Check_col</th>\n",
       "      <th>ID</th>\n",
       "      <th>Origin_ID_x</th>\n",
       "      <th>Origin_ID_y</th>\n",
       "      <th>Nappe_x</th>\n",
       "      <th>Nappe_y</th>\n",
       "      <th>Z_x</th>\n",
       "      <th>Z_y</th>\n",
       "      <th>Zsol_x</th>\n",
       "      <th>Zsol_y</th>\n",
       "    </tr>\n",
       "  </thead>\n",
       "  <tbody>\n",
       "    <tr>\n",
       "      <th>36</th>\n",
       "      <td>Origin_ID, Nappe</td>\n",
       "      <td>59</td>\n",
       "      <td>#conflict</td>\n",
       "      <td>59</td>\n",
       "      <td>remblais</td>\n",
       "      <td>Remblai_All</td>\n",
       "      <td>102.616</td>\n",
       "      <td>102.616</td>\n",
       "      <td>101.960</td>\n",
       "      <td>101.960</td>\n",
       "    </tr>\n",
       "    <tr>\n",
       "      <th>65</th>\n",
       "      <td>Origin_ID</td>\n",
       "      <td>186</td>\n",
       "      <td>#conflict</td>\n",
       "      <td>186</td>\n",
       "      <td>NaN</td>\n",
       "      <td>Remblais</td>\n",
       "      <td>110.330</td>\n",
       "      <td>110.330</td>\n",
       "      <td>109.881</td>\n",
       "      <td>109.881</td>\n",
       "    </tr>\n",
       "    <tr>\n",
       "      <th>89</th>\n",
       "      <td>Origin_ID</td>\n",
       "      <td>FP49</td>\n",
       "      <td>#conflict</td>\n",
       "      <td>FP 49 PROF</td>\n",
       "      <td>Socle</td>\n",
       "      <td>Socle</td>\n",
       "      <td>101.704</td>\n",
       "      <td>101.704</td>\n",
       "      <td>NaN</td>\n",
       "      <td>NaN</td>\n",
       "    </tr>\n",
       "    <tr>\n",
       "      <th>90</th>\n",
       "      <td>Origin_ID, Nappe, Z</td>\n",
       "      <td>FP49</td>\n",
       "      <td>#conflict</td>\n",
       "      <td>FP 49 SUP</td>\n",
       "      <td>Socle</td>\n",
       "      <td>Remblai_All</td>\n",
       "      <td>101.704</td>\n",
       "      <td>101.677</td>\n",
       "      <td>NaN</td>\n",
       "      <td>NaN</td>\n",
       "    </tr>\n",
       "    <tr>\n",
       "      <th>93</th>\n",
       "      <td>Origin_ID, Z</td>\n",
       "      <td>FP14</td>\n",
       "      <td>FP14prof</td>\n",
       "      <td>FP14sup</td>\n",
       "      <td>NaN</td>\n",
       "      <td>Remblais</td>\n",
       "      <td>103.095</td>\n",
       "      <td>103.019</td>\n",
       "      <td>102.320</td>\n",
       "      <td>102.320</td>\n",
       "    </tr>\n",
       "    <tr>\n",
       "      <th>95</th>\n",
       "      <td>Origin_ID, Nappe, Z</td>\n",
       "      <td>FP160</td>\n",
       "      <td>FP160PROF</td>\n",
       "      <td>FP160SUP</td>\n",
       "      <td>Socle</td>\n",
       "      <td>Remblai_All</td>\n",
       "      <td>104.458</td>\n",
       "      <td>104.457</td>\n",
       "      <td>103.810</td>\n",
       "      <td>103.810</td>\n",
       "    </tr>\n",
       "    <tr>\n",
       "      <th>96</th>\n",
       "      <td>Origin_ID</td>\n",
       "      <td>FP63</td>\n",
       "      <td>#conflict</td>\n",
       "      <td>FP63 prof</td>\n",
       "      <td>NaN</td>\n",
       "      <td>Socle</td>\n",
       "      <td>103.331</td>\n",
       "      <td>103.331</td>\n",
       "      <td>102.803</td>\n",
       "      <td>102.803</td>\n",
       "    </tr>\n",
       "    <tr>\n",
       "      <th>97</th>\n",
       "      <td>Origin_ID, Z</td>\n",
       "      <td>FP63</td>\n",
       "      <td>#conflict</td>\n",
       "      <td>FP63 sup</td>\n",
       "      <td>NaN</td>\n",
       "      <td>Remblais</td>\n",
       "      <td>103.331</td>\n",
       "      <td>103.346</td>\n",
       "      <td>102.803</td>\n",
       "      <td>102.803</td>\n",
       "    </tr>\n",
       "    <tr>\n",
       "      <th>98</th>\n",
       "      <td>Origin_ID</td>\n",
       "      <td>FP76</td>\n",
       "      <td>#conflict</td>\n",
       "      <td>FP76 prof</td>\n",
       "      <td>NaN</td>\n",
       "      <td>Socle</td>\n",
       "      <td>103.180</td>\n",
       "      <td>103.180</td>\n",
       "      <td>102.730</td>\n",
       "      <td>102.730</td>\n",
       "    </tr>\n",
       "    <tr>\n",
       "      <th>99</th>\n",
       "      <td>Origin_ID, Z</td>\n",
       "      <td>FP76</td>\n",
       "      <td>#conflict</td>\n",
       "      <td>FP76 sup</td>\n",
       "      <td>NaN</td>\n",
       "      <td>Remblais</td>\n",
       "      <td>103.180</td>\n",
       "      <td>103.227</td>\n",
       "      <td>102.730</td>\n",
       "      <td>102.730</td>\n",
       "    </tr>\n",
       "    <tr>\n",
       "      <th>101</th>\n",
       "      <td>Nappe</td>\n",
       "      <td>501</td>\n",
       "      <td>501</td>\n",
       "      <td>501</td>\n",
       "      <td>Socle</td>\n",
       "      <td>Remblai_All</td>\n",
       "      <td>110.350</td>\n",
       "      <td>110.350</td>\n",
       "      <td>110.040</td>\n",
       "      <td>110.040</td>\n",
       "    </tr>\n",
       "    <tr>\n",
       "      <th>103</th>\n",
       "      <td>Nappe</td>\n",
       "      <td>509</td>\n",
       "      <td>509</td>\n",
       "      <td>509</td>\n",
       "      <td>remblais</td>\n",
       "      <td>All_limoneuse</td>\n",
       "      <td>104.800</td>\n",
       "      <td>104.800</td>\n",
       "      <td>104.270</td>\n",
       "      <td>104.270</td>\n",
       "    </tr>\n",
       "    <tr>\n",
       "      <th>105</th>\n",
       "      <td>Nappe</td>\n",
       "      <td>511</td>\n",
       "      <td>511</td>\n",
       "      <td>511</td>\n",
       "      <td>Alluvions</td>\n",
       "      <td>Remblai_All</td>\n",
       "      <td>104.300</td>\n",
       "      <td>104.300</td>\n",
       "      <td>103.790</td>\n",
       "      <td>103.790</td>\n",
       "    </tr>\n",
       "    <tr>\n",
       "      <th>106</th>\n",
       "      <td>Nappe</td>\n",
       "      <td>513</td>\n",
       "      <td>513</td>\n",
       "      <td>513</td>\n",
       "      <td>Alluvions</td>\n",
       "      <td>Remblai_All</td>\n",
       "      <td>105.290</td>\n",
       "      <td>105.290</td>\n",
       "      <td>104.690</td>\n",
       "      <td>104.690</td>\n",
       "    </tr>\n",
       "    <tr>\n",
       "      <th>119</th>\n",
       "      <td>Nappe</td>\n",
       "      <td>543</td>\n",
       "      <td>543</td>\n",
       "      <td>543</td>\n",
       "      <td>Alluvions</td>\n",
       "      <td>All_limoneuse</td>\n",
       "      <td>102.140</td>\n",
       "      <td>102.140</td>\n",
       "      <td>101.790</td>\n",
       "      <td>101.790</td>\n",
       "    </tr>\n",
       "    <tr>\n",
       "      <th>122</th>\n",
       "      <td>Origin_ID</td>\n",
       "      <td>541</td>\n",
       "      <td>#conflict</td>\n",
       "      <td>541sup R</td>\n",
       "      <td>NaN</td>\n",
       "      <td>Remblais</td>\n",
       "      <td>101.760</td>\n",
       "      <td>101.760</td>\n",
       "      <td>101.410</td>\n",
       "      <td>101.410</td>\n",
       "    </tr>\n",
       "    <tr>\n",
       "      <th>124</th>\n",
       "      <td>Origin_ID, Z</td>\n",
       "      <td>541</td>\n",
       "      <td>541</td>\n",
       "      <td>541sup R</td>\n",
       "      <td>remblais</td>\n",
       "      <td>Remblais</td>\n",
       "      <td>101.790</td>\n",
       "      <td>101.760</td>\n",
       "      <td>101.410</td>\n",
       "      <td>101.410</td>\n",
       "    </tr>\n",
       "    <tr>\n",
       "      <th>130</th>\n",
       "      <td>Nappe</td>\n",
       "      <td>539</td>\n",
       "      <td>539</td>\n",
       "      <td>539</td>\n",
       "      <td>#conflict</td>\n",
       "      <td>All_limoneuse</td>\n",
       "      <td>102.690</td>\n",
       "      <td>102.690</td>\n",
       "      <td>102.120</td>\n",
       "      <td>102.120</td>\n",
       "    </tr>\n",
       "    <tr>\n",
       "      <th>132</th>\n",
       "      <td>Nappe</td>\n",
       "      <td>533</td>\n",
       "      <td>533</td>\n",
       "      <td>533</td>\n",
       "      <td>#conflict</td>\n",
       "      <td>All_limoneuses_graveleuses</td>\n",
       "      <td>103.110</td>\n",
       "      <td>103.110</td>\n",
       "      <td>102.620</td>\n",
       "      <td>102.620</td>\n",
       "    </tr>\n",
       "    <tr>\n",
       "      <th>133</th>\n",
       "      <td>Origin_ID</td>\n",
       "      <td>502</td>\n",
       "      <td>#conflict</td>\n",
       "      <td>502prof</td>\n",
       "      <td>Socle</td>\n",
       "      <td>Socle</td>\n",
       "      <td>105.800</td>\n",
       "      <td>105.800</td>\n",
       "      <td>105.280</td>\n",
       "      <td>105.280</td>\n",
       "    </tr>\n",
       "    <tr>\n",
       "      <th>134</th>\n",
       "      <td>Origin_ID, Nappe, Z</td>\n",
       "      <td>502</td>\n",
       "      <td>#conflict</td>\n",
       "      <td>502sup</td>\n",
       "      <td>Socle</td>\n",
       "      <td>All_limoneuses_graveleuses</td>\n",
       "      <td>105.800</td>\n",
       "      <td>105.910</td>\n",
       "      <td>105.280</td>\n",
       "      <td>105.280</td>\n",
       "    </tr>\n",
       "    <tr>\n",
       "      <th>137</th>\n",
       "      <td>Origin_ID, Nappe</td>\n",
       "      <td>512</td>\n",
       "      <td>#conflict</td>\n",
       "      <td>512sup</td>\n",
       "      <td>#conflict</td>\n",
       "      <td>Remblai_All</td>\n",
       "      <td>105.200</td>\n",
       "      <td>105.200</td>\n",
       "      <td>104.820</td>\n",
       "      <td>104.820</td>\n",
       "    </tr>\n",
       "    <tr>\n",
       "      <th>139</th>\n",
       "      <td>Zsol, Origin_ID, Nappe, Z</td>\n",
       "      <td>512</td>\n",
       "      <td>512</td>\n",
       "      <td>512sup</td>\n",
       "      <td>Socle</td>\n",
       "      <td>Remblai_All</td>\n",
       "      <td>105.530</td>\n",
       "      <td>105.200</td>\n",
       "      <td>104.870</td>\n",
       "      <td>104.820</td>\n",
       "    </tr>\n",
       "    <tr>\n",
       "      <th>141</th>\n",
       "      <td>Origin_ID, Nappe</td>\n",
       "      <td>595</td>\n",
       "      <td>#conflict</td>\n",
       "      <td>595prof</td>\n",
       "      <td>#conflict</td>\n",
       "      <td>Socle</td>\n",
       "      <td>102.200</td>\n",
       "      <td>102.200</td>\n",
       "      <td>101.590</td>\n",
       "      <td>101.590</td>\n",
       "    </tr>\n",
       "    <tr>\n",
       "      <th>142</th>\n",
       "      <td>Origin_ID, Nappe, Z</td>\n",
       "      <td>595</td>\n",
       "      <td>#conflict</td>\n",
       "      <td>595sup Al</td>\n",
       "      <td>#conflict</td>\n",
       "      <td>All_limoneuses_graveleuses</td>\n",
       "      <td>102.200</td>\n",
       "      <td>102.190</td>\n",
       "      <td>101.590</td>\n",
       "      <td>101.590</td>\n",
       "    </tr>\n",
       "    <tr>\n",
       "      <th>143</th>\n",
       "      <td>Origin_ID, Nappe, Z</td>\n",
       "      <td>595</td>\n",
       "      <td>#conflict</td>\n",
       "      <td>595sup R</td>\n",
       "      <td>#conflict</td>\n",
       "      <td>Remblais</td>\n",
       "      <td>102.200</td>\n",
       "      <td>102.190</td>\n",
       "      <td>101.590</td>\n",
       "      <td>101.590</td>\n",
       "    </tr>\n",
       "    <tr>\n",
       "      <th>144</th>\n",
       "      <td>Origin_ID, Nappe</td>\n",
       "      <td>540</td>\n",
       "      <td>#conflict</td>\n",
       "      <td>540sup Al</td>\n",
       "      <td>#conflict</td>\n",
       "      <td>All_limoneuse</td>\n",
       "      <td>107.400</td>\n",
       "      <td>107.400</td>\n",
       "      <td>106.910</td>\n",
       "      <td>106.910</td>\n",
       "    </tr>\n",
       "    <tr>\n",
       "      <th>145</th>\n",
       "      <td>Origin_ID, Nappe, Z</td>\n",
       "      <td>540</td>\n",
       "      <td>#conflict</td>\n",
       "      <td>540sup R</td>\n",
       "      <td>#conflict</td>\n",
       "      <td>Remblais</td>\n",
       "      <td>107.400</td>\n",
       "      <td>107.380</td>\n",
       "      <td>106.910</td>\n",
       "      <td>106.910</td>\n",
       "    </tr>\n",
       "  </tbody>\n",
       "</table>\n",
       "</div>"
      ],
      "text/plain": [
       "                     Check_col     ID Origin_ID_x Origin_ID_y    Nappe_x  \\\n",
       "36            Origin_ID, Nappe     59   #conflict          59   remblais   \n",
       "65                   Origin_ID    186   #conflict         186        NaN   \n",
       "89                   Origin_ID   FP49   #conflict  FP 49 PROF      Socle   \n",
       "90         Origin_ID, Nappe, Z   FP49   #conflict   FP 49 SUP      Socle   \n",
       "93                Origin_ID, Z   FP14    FP14prof     FP14sup        NaN   \n",
       "95         Origin_ID, Nappe, Z  FP160   FP160PROF    FP160SUP      Socle   \n",
       "96                   Origin_ID   FP63   #conflict   FP63 prof        NaN   \n",
       "97                Origin_ID, Z   FP63   #conflict    FP63 sup        NaN   \n",
       "98                   Origin_ID   FP76   #conflict   FP76 prof        NaN   \n",
       "99                Origin_ID, Z   FP76   #conflict    FP76 sup        NaN   \n",
       "101                      Nappe    501         501         501      Socle   \n",
       "103                      Nappe    509         509         509   remblais   \n",
       "105                      Nappe    511         511         511  Alluvions   \n",
       "106                      Nappe    513         513         513  Alluvions   \n",
       "119                      Nappe    543         543         543  Alluvions   \n",
       "122                  Origin_ID    541   #conflict    541sup R        NaN   \n",
       "124               Origin_ID, Z    541         541    541sup R   remblais   \n",
       "130                      Nappe    539         539         539  #conflict   \n",
       "132                      Nappe    533         533         533  #conflict   \n",
       "133                  Origin_ID    502   #conflict     502prof      Socle   \n",
       "134        Origin_ID, Nappe, Z    502   #conflict      502sup      Socle   \n",
       "137           Origin_ID, Nappe    512   #conflict      512sup  #conflict   \n",
       "139  Zsol, Origin_ID, Nappe, Z    512         512      512sup      Socle   \n",
       "141           Origin_ID, Nappe    595   #conflict     595prof  #conflict   \n",
       "142        Origin_ID, Nappe, Z    595   #conflict   595sup Al  #conflict   \n",
       "143        Origin_ID, Nappe, Z    595   #conflict    595sup R  #conflict   \n",
       "144           Origin_ID, Nappe    540   #conflict   540sup Al  #conflict   \n",
       "145        Origin_ID, Nappe, Z    540   #conflict    540sup R  #conflict   \n",
       "\n",
       "                        Nappe_y      Z_x      Z_y   Zsol_x   Zsol_y  \n",
       "36                  Remblai_All  102.616  102.616  101.960  101.960  \n",
       "65                     Remblais  110.330  110.330  109.881  109.881  \n",
       "89                        Socle  101.704  101.704      NaN      NaN  \n",
       "90                  Remblai_All  101.704  101.677      NaN      NaN  \n",
       "93                     Remblais  103.095  103.019  102.320  102.320  \n",
       "95                  Remblai_All  104.458  104.457  103.810  103.810  \n",
       "96                        Socle  103.331  103.331  102.803  102.803  \n",
       "97                     Remblais  103.331  103.346  102.803  102.803  \n",
       "98                        Socle  103.180  103.180  102.730  102.730  \n",
       "99                     Remblais  103.180  103.227  102.730  102.730  \n",
       "101                 Remblai_All  110.350  110.350  110.040  110.040  \n",
       "103               All_limoneuse  104.800  104.800  104.270  104.270  \n",
       "105                 Remblai_All  104.300  104.300  103.790  103.790  \n",
       "106                 Remblai_All  105.290  105.290  104.690  104.690  \n",
       "119               All_limoneuse  102.140  102.140  101.790  101.790  \n",
       "122                    Remblais  101.760  101.760  101.410  101.410  \n",
       "124                    Remblais  101.790  101.760  101.410  101.410  \n",
       "130               All_limoneuse  102.690  102.690  102.120  102.120  \n",
       "132  All_limoneuses_graveleuses  103.110  103.110  102.620  102.620  \n",
       "133                       Socle  105.800  105.800  105.280  105.280  \n",
       "134  All_limoneuses_graveleuses  105.800  105.910  105.280  105.280  \n",
       "137                 Remblai_All  105.200  105.200  104.820  104.820  \n",
       "139                 Remblai_All  105.530  105.200  104.870  104.820  \n",
       "141                       Socle  102.200  102.200  101.590  101.590  \n",
       "142  All_limoneuses_graveleuses  102.200  102.190  101.590  101.590  \n",
       "143                    Remblais  102.200  102.190  101.590  101.590  \n",
       "144               All_limoneuse  107.400  107.400  106.910  106.910  \n",
       "145                    Remblais  107.400  107.380  106.910  106.910  "
      ]
     },
     "execution_count": 40,
     "metadata": {},
     "output_type": "execute_result"
    }
   ],
   "source": [
    "conflict_df"
   ]
  },
  {
   "cell_type": "code",
   "execution_count": 41,
   "id": "c7a6a5b7",
   "metadata": {},
   "outputs": [
    {
     "name": "stdout",
     "output_type": "stream",
     "text": [
      "[36, 65, 89, 90, 93, 95, 96, 97, 98, 99, 101, 103, 105, 106, 119, 122, 124, 130]\n"
     ]
    }
   ],
   "source": [
    "print(list(conflict_df.index)[:18])"
   ]
  },
  {
   "cell_type": "code",
   "execution_count": 42,
   "id": "463d1e9d",
   "metadata": {},
   "outputs": [
    {
     "name": "stdout",
     "output_type": "stream",
     "text": [
      "Validation done, but conflicts remain!\n"
     ]
    }
   ],
   "source": [
    "data_validation(overall_data=mdf, conflict_data=conflict_df, index_col='index', \n",
    "                valid_dict={'Nappe_y':list(conflict_df.index)[:18]})"
   ]
  },
  {
   "cell_type": "code",
   "execution_count": 43,
   "id": "d7ac9fbd",
   "metadata": {
    "scrolled": true
   },
   "outputs": [
    {
     "data": {
      "text/html": [
       "<div>\n",
       "<style scoped>\n",
       "    .dataframe tbody tr th:only-of-type {\n",
       "        vertical-align: middle;\n",
       "    }\n",
       "\n",
       "    .dataframe tbody tr th {\n",
       "        vertical-align: top;\n",
       "    }\n",
       "\n",
       "    .dataframe thead th {\n",
       "        text-align: right;\n",
       "    }\n",
       "</style>\n",
       "<table border=\"1\" class=\"dataframe\">\n",
       "  <thead>\n",
       "    <tr style=\"text-align: right;\">\n",
       "      <th></th>\n",
       "      <th>Check_col</th>\n",
       "      <th>ID</th>\n",
       "      <th>Origin_ID_x</th>\n",
       "      <th>Origin_ID_y</th>\n",
       "      <th>Nappe_x</th>\n",
       "      <th>Nappe_y</th>\n",
       "      <th>Z_x</th>\n",
       "      <th>Z_y</th>\n",
       "      <th>Zsol_x</th>\n",
       "      <th>Zsol_y</th>\n",
       "    </tr>\n",
       "  </thead>\n",
       "  <tbody>\n",
       "    <tr>\n",
       "      <th>36</th>\n",
       "      <td>Origin_ID</td>\n",
       "      <td>59</td>\n",
       "      <td>#conflict</td>\n",
       "      <td>59</td>\n",
       "      <td>Done</td>\n",
       "      <td>Done</td>\n",
       "      <td>102.616</td>\n",
       "      <td>102.616</td>\n",
       "      <td>101.960</td>\n",
       "      <td>101.960</td>\n",
       "    </tr>\n",
       "    <tr>\n",
       "      <th>90</th>\n",
       "      <td>Origin_ID, Z</td>\n",
       "      <td>FP49</td>\n",
       "      <td>#conflict</td>\n",
       "      <td>FP 49 SUP</td>\n",
       "      <td>Done</td>\n",
       "      <td>Done</td>\n",
       "      <td>101.704</td>\n",
       "      <td>101.677</td>\n",
       "      <td>NaN</td>\n",
       "      <td>NaN</td>\n",
       "    </tr>\n",
       "    <tr>\n",
       "      <th>93</th>\n",
       "      <td>Origin_ID, Z</td>\n",
       "      <td>FP14</td>\n",
       "      <td>FP14prof</td>\n",
       "      <td>FP14sup</td>\n",
       "      <td>Done</td>\n",
       "      <td>Done</td>\n",
       "      <td>103.095</td>\n",
       "      <td>103.019</td>\n",
       "      <td>102.320</td>\n",
       "      <td>102.320</td>\n",
       "    </tr>\n",
       "    <tr>\n",
       "      <th>95</th>\n",
       "      <td>Origin_ID, Z</td>\n",
       "      <td>FP160</td>\n",
       "      <td>FP160PROF</td>\n",
       "      <td>FP160SUP</td>\n",
       "      <td>Done</td>\n",
       "      <td>Done</td>\n",
       "      <td>104.458</td>\n",
       "      <td>104.457</td>\n",
       "      <td>103.810</td>\n",
       "      <td>103.810</td>\n",
       "    </tr>\n",
       "    <tr>\n",
       "      <th>97</th>\n",
       "      <td>Origin_ID, Z</td>\n",
       "      <td>FP63</td>\n",
       "      <td>#conflict</td>\n",
       "      <td>FP63 sup</td>\n",
       "      <td>Done</td>\n",
       "      <td>Done</td>\n",
       "      <td>103.331</td>\n",
       "      <td>103.346</td>\n",
       "      <td>102.803</td>\n",
       "      <td>102.803</td>\n",
       "    </tr>\n",
       "    <tr>\n",
       "      <th>99</th>\n",
       "      <td>Origin_ID, Z</td>\n",
       "      <td>FP76</td>\n",
       "      <td>#conflict</td>\n",
       "      <td>FP76 sup</td>\n",
       "      <td>Done</td>\n",
       "      <td>Done</td>\n",
       "      <td>103.180</td>\n",
       "      <td>103.227</td>\n",
       "      <td>102.730</td>\n",
       "      <td>102.730</td>\n",
       "    </tr>\n",
       "    <tr>\n",
       "      <th>124</th>\n",
       "      <td>Origin_ID, Z</td>\n",
       "      <td>541</td>\n",
       "      <td>541</td>\n",
       "      <td>541sup R</td>\n",
       "      <td>Done</td>\n",
       "      <td>Done</td>\n",
       "      <td>101.790</td>\n",
       "      <td>101.760</td>\n",
       "      <td>101.410</td>\n",
       "      <td>101.410</td>\n",
       "    </tr>\n",
       "    <tr>\n",
       "      <th>132</th>\n",
       "      <td>Nappe</td>\n",
       "      <td>533</td>\n",
       "      <td>533</td>\n",
       "      <td>533</td>\n",
       "      <td>#conflict</td>\n",
       "      <td>All_limoneuses_graveleuses</td>\n",
       "      <td>103.110</td>\n",
       "      <td>103.110</td>\n",
       "      <td>102.620</td>\n",
       "      <td>102.620</td>\n",
       "    </tr>\n",
       "    <tr>\n",
       "      <th>133</th>\n",
       "      <td>Origin_ID</td>\n",
       "      <td>502</td>\n",
       "      <td>#conflict</td>\n",
       "      <td>502prof</td>\n",
       "      <td>Socle</td>\n",
       "      <td>Socle</td>\n",
       "      <td>105.800</td>\n",
       "      <td>105.800</td>\n",
       "      <td>105.280</td>\n",
       "      <td>105.280</td>\n",
       "    </tr>\n",
       "    <tr>\n",
       "      <th>134</th>\n",
       "      <td>Origin_ID, Nappe, Z</td>\n",
       "      <td>502</td>\n",
       "      <td>#conflict</td>\n",
       "      <td>502sup</td>\n",
       "      <td>Socle</td>\n",
       "      <td>All_limoneuses_graveleuses</td>\n",
       "      <td>105.800</td>\n",
       "      <td>105.910</td>\n",
       "      <td>105.280</td>\n",
       "      <td>105.280</td>\n",
       "    </tr>\n",
       "    <tr>\n",
       "      <th>137</th>\n",
       "      <td>Origin_ID, Nappe</td>\n",
       "      <td>512</td>\n",
       "      <td>#conflict</td>\n",
       "      <td>512sup</td>\n",
       "      <td>#conflict</td>\n",
       "      <td>Remblai_All</td>\n",
       "      <td>105.200</td>\n",
       "      <td>105.200</td>\n",
       "      <td>104.820</td>\n",
       "      <td>104.820</td>\n",
       "    </tr>\n",
       "    <tr>\n",
       "      <th>139</th>\n",
       "      <td>Zsol, Origin_ID, Nappe, Z</td>\n",
       "      <td>512</td>\n",
       "      <td>512</td>\n",
       "      <td>512sup</td>\n",
       "      <td>Socle</td>\n",
       "      <td>Remblai_All</td>\n",
       "      <td>105.530</td>\n",
       "      <td>105.200</td>\n",
       "      <td>104.870</td>\n",
       "      <td>104.820</td>\n",
       "    </tr>\n",
       "    <tr>\n",
       "      <th>141</th>\n",
       "      <td>Origin_ID, Nappe</td>\n",
       "      <td>595</td>\n",
       "      <td>#conflict</td>\n",
       "      <td>595prof</td>\n",
       "      <td>#conflict</td>\n",
       "      <td>Socle</td>\n",
       "      <td>102.200</td>\n",
       "      <td>102.200</td>\n",
       "      <td>101.590</td>\n",
       "      <td>101.590</td>\n",
       "    </tr>\n",
       "    <tr>\n",
       "      <th>142</th>\n",
       "      <td>Origin_ID, Nappe, Z</td>\n",
       "      <td>595</td>\n",
       "      <td>#conflict</td>\n",
       "      <td>595sup Al</td>\n",
       "      <td>#conflict</td>\n",
       "      <td>All_limoneuses_graveleuses</td>\n",
       "      <td>102.200</td>\n",
       "      <td>102.190</td>\n",
       "      <td>101.590</td>\n",
       "      <td>101.590</td>\n",
       "    </tr>\n",
       "    <tr>\n",
       "      <th>143</th>\n",
       "      <td>Origin_ID, Nappe, Z</td>\n",
       "      <td>595</td>\n",
       "      <td>#conflict</td>\n",
       "      <td>595sup R</td>\n",
       "      <td>#conflict</td>\n",
       "      <td>Remblais</td>\n",
       "      <td>102.200</td>\n",
       "      <td>102.190</td>\n",
       "      <td>101.590</td>\n",
       "      <td>101.590</td>\n",
       "    </tr>\n",
       "    <tr>\n",
       "      <th>144</th>\n",
       "      <td>Origin_ID, Nappe</td>\n",
       "      <td>540</td>\n",
       "      <td>#conflict</td>\n",
       "      <td>540sup Al</td>\n",
       "      <td>#conflict</td>\n",
       "      <td>All_limoneuse</td>\n",
       "      <td>107.400</td>\n",
       "      <td>107.400</td>\n",
       "      <td>106.910</td>\n",
       "      <td>106.910</td>\n",
       "    </tr>\n",
       "    <tr>\n",
       "      <th>145</th>\n",
       "      <td>Origin_ID, Nappe, Z</td>\n",
       "      <td>540</td>\n",
       "      <td>#conflict</td>\n",
       "      <td>540sup R</td>\n",
       "      <td>#conflict</td>\n",
       "      <td>Remblais</td>\n",
       "      <td>107.400</td>\n",
       "      <td>107.380</td>\n",
       "      <td>106.910</td>\n",
       "      <td>106.910</td>\n",
       "    </tr>\n",
       "  </tbody>\n",
       "</table>\n",
       "</div>"
      ],
      "text/plain": [
       "                     Check_col     ID Origin_ID_x Origin_ID_y    Nappe_x  \\\n",
       "36                   Origin_ID     59   #conflict          59       Done   \n",
       "90                Origin_ID, Z   FP49   #conflict   FP 49 SUP       Done   \n",
       "93                Origin_ID, Z   FP14    FP14prof     FP14sup       Done   \n",
       "95                Origin_ID, Z  FP160   FP160PROF    FP160SUP       Done   \n",
       "97                Origin_ID, Z   FP63   #conflict    FP63 sup       Done   \n",
       "99                Origin_ID, Z   FP76   #conflict    FP76 sup       Done   \n",
       "124               Origin_ID, Z    541         541    541sup R       Done   \n",
       "132                      Nappe    533         533         533  #conflict   \n",
       "133                  Origin_ID    502   #conflict     502prof      Socle   \n",
       "134        Origin_ID, Nappe, Z    502   #conflict      502sup      Socle   \n",
       "137           Origin_ID, Nappe    512   #conflict      512sup  #conflict   \n",
       "139  Zsol, Origin_ID, Nappe, Z    512         512      512sup      Socle   \n",
       "141           Origin_ID, Nappe    595   #conflict     595prof  #conflict   \n",
       "142        Origin_ID, Nappe, Z    595   #conflict   595sup Al  #conflict   \n",
       "143        Origin_ID, Nappe, Z    595   #conflict    595sup R  #conflict   \n",
       "144           Origin_ID, Nappe    540   #conflict   540sup Al  #conflict   \n",
       "145        Origin_ID, Nappe, Z    540   #conflict    540sup R  #conflict   \n",
       "\n",
       "                        Nappe_y      Z_x      Z_y   Zsol_x   Zsol_y  \n",
       "36                         Done  102.616  102.616  101.960  101.960  \n",
       "90                         Done  101.704  101.677      NaN      NaN  \n",
       "93                         Done  103.095  103.019  102.320  102.320  \n",
       "95                         Done  104.458  104.457  103.810  103.810  \n",
       "97                         Done  103.331  103.346  102.803  102.803  \n",
       "99                         Done  103.180  103.227  102.730  102.730  \n",
       "124                        Done  101.790  101.760  101.410  101.410  \n",
       "132  All_limoneuses_graveleuses  103.110  103.110  102.620  102.620  \n",
       "133                       Socle  105.800  105.800  105.280  105.280  \n",
       "134  All_limoneuses_graveleuses  105.800  105.910  105.280  105.280  \n",
       "137                 Remblai_All  105.200  105.200  104.820  104.820  \n",
       "139                 Remblai_All  105.530  105.200  104.870  104.820  \n",
       "141                       Socle  102.200  102.200  101.590  101.590  \n",
       "142  All_limoneuses_graveleuses  102.200  102.190  101.590  101.590  \n",
       "143                    Remblais  102.200  102.190  101.590  101.590  \n",
       "144               All_limoneuse  107.400  107.400  106.910  106.910  \n",
       "145                    Remblais  107.400  107.380  106.910  106.910  "
      ]
     },
     "execution_count": 43,
     "metadata": {},
     "output_type": "execute_result"
    }
   ],
   "source": [
    "conflict_df"
   ]
  },
  {
   "cell_type": "code",
   "execution_count": 44,
   "id": "12214cad",
   "metadata": {},
   "outputs": [],
   "source": [
    "if 'level_0' in dataset.columns:\n",
    "    if 'index' in dataset.columns:\n",
    "        dataset.drop(columns='index', inplace=True)\n",
    "    dataset.rename(columns={'level_0':'index'}, inplace=True)"
   ]
  },
  {
   "cell_type": "code",
   "execution_count": 45,
   "id": "40ec55cd",
   "metadata": {
    "scrolled": false
   },
   "outputs": [
    {
     "name": "stdout",
     "output_type": "stream",
     "text": [
      "Rows : 421, columns : 31, Unique col 'ID': 358\n"
     ]
    },
    {
     "data": {
      "application/vnd.jupyter.widget-view+json": {
       "model_id": "87475522be3041e78b865bc7972b2cb1",
       "version_major": 2,
       "version_minor": 0
      },
      "text/plain": [
       "interactive(children=(IntSlider(value=10, description='rows', max=421, min=10, readout=False), IntSlider(value…"
      ]
     },
     "metadata": {},
     "output_type": "display_data"
    }
   ],
   "source": [
    "dataframe_viewer(dataset, rows=10, un_val='ID', view=t)"
   ]
  },
  {
   "cell_type": "code",
   "execution_count": 46,
   "id": "8368e80e",
   "metadata": {},
   "outputs": [
    {
     "name": "stdout",
     "output_type": "stream",
     "text": [
      "profils_sols_donnees_forages/donnees_forage_Piezometers.csv || vUmons_logsFor/Analyse_eau_Phases1&2_Piezometers.csv\n"
     ]
    }
   ],
   "source": [
    "a, b = 13, 15\n",
    "file1= files_dict[key][a]\n",
    "file2= files_dict[key][b]\n",
    "print(files_dict[key][a].replace(work_dir,\"\"),'||', files_dict[key][b].replace(work_dir,\"\"))"
   ]
  },
  {
   "cell_type": "code",
   "execution_count": 47,
   "id": "c3078b27",
   "metadata": {},
   "outputs": [
    {
     "ename": "NameError",
     "evalue": "name 'pause' is not defined",
     "output_type": "error",
     "traceback": [
      "\u001b[0;31m---------------------------------------------------------------------------\u001b[0m",
      "\u001b[0;31mNameError\u001b[0m                                 Traceback (most recent call last)",
      "\u001b[0;32m/tmp/ipykernel_30309/1694117825.py\u001b[0m in \u001b[0;36m<module>\u001b[0;34m\u001b[0m\n\u001b[0;32m----> 1\u001b[0;31m \u001b[0mpause\u001b[0m \u001b[0;31m# continue from here\u001b[0m\u001b[0;34m\u001b[0m\u001b[0;34m\u001b[0m\u001b[0m\n\u001b[0m",
      "\u001b[0;31mNameError\u001b[0m: name 'pause' is not defined"
     ]
    }
   ],
   "source": [
    "pause # continue from here"
   ]
  },
  {
   "cell_type": "markdown",
   "id": "492b9995",
   "metadata": {},
   "source": [
    "#### $\\color{green}{\\textbf{Read and merge}}$"
   ]
  },
  {
   "cell_type": "code",
   "execution_count": null,
   "id": "4f1e79a2",
   "metadata": {
    "scrolled": false
   },
   "outputs": [],
   "source": [
    "#file1= work_dir + 'donnees_terrain_2019/Donnees_forage_Piezometers.csv' # 9\n",
    "#file2= work_dir + 'database_Memoris3/Result_eau_Piezometers.csv' # 7  \n",
    "\n",
    "df1, df2 = create_df([file1, file2])\n",
    "dataframe_viewer(df1, rows=3, un_val='ID', view=t), dataframe_viewer(df2, rows=3, un_val='ID', view=t)"
   ]
  },
  {
   "cell_type": "code",
   "execution_count": null,
   "id": "1d350117",
   "metadata": {},
   "outputs": [],
   "source": [
    "df1.ID = df1.ID.astype(str)\n",
    "df2.ID = df2.ID.astype(str)"
   ]
  },
  {
   "cell_type": "code",
   "execution_count": null,
   "id": "bc4b6fa5",
   "metadata": {},
   "outputs": [],
   "source": [
    "df2, check = data_filter(df2, position=True, id_col='ID', expression='sup|prof', dist_max=1, error_max=1.1, drop=True, drop_old_id=True)"
   ]
  },
  {
   "cell_type": "code",
   "execution_count": null,
   "id": "03d4ad9d",
   "metadata": {
    "scrolled": false
   },
   "outputs": [],
   "source": [
    "dataframe_viewer(df2, rows=10, un_val='ID', view=t)"
   ]
  },
  {
   "cell_type": "code",
   "execution_count": null,
   "id": "342cac8d",
   "metadata": {},
   "outputs": [],
   "source": [
    "fix_duplicates(df1, df2)"
   ]
  },
  {
   "cell_type": "code",
   "execution_count": null,
   "id": "30cedda3",
   "metadata": {
    "scrolled": true
   },
   "outputs": [],
   "source": [
    "mdf, conflict_df=data_merger(df1, df2, how=how[1], on='ID', dist_max=1)"
   ]
  },
  {
   "cell_type": "markdown",
   "id": "9ba4063b",
   "metadata": {},
   "source": [
    "#### Merge with object dataset"
   ]
  },
  {
   "cell_type": "code",
   "execution_count": null,
   "id": "bc642263",
   "metadata": {
    "scrolled": true
   },
   "outputs": [],
   "source": [
    "dataset, conflict_df=data_merger(dataset, mdf, how=how[1], on='ID', dist_max=1)"
   ]
  },
  {
   "cell_type": "markdown",
   "id": "2a0afcd6",
   "metadata": {},
   "source": [
    "#### $\\color{blue}{\\textbf{Manage conflicts}}$"
   ]
  },
  {
   "cell_type": "code",
   "execution_count": null,
   "id": "5049fe5e",
   "metadata": {
    "scrolled": true
   },
   "outputs": [],
   "source": [
    "conflict_df"
   ]
  },
  {
   "cell_type": "code",
   "execution_count": null,
   "id": "1e88ec7b",
   "metadata": {},
   "outputs": [],
   "source": [
    "data_validation(overall_data=mdf, conflict_data=conflict_df, index_col='index', \n",
    "                valid_dict={'Nappe_y':list(conflict_df.index)[:18]})"
   ]
  },
  {
   "cell_type": "code",
   "execution_count": null,
   "id": "8ab3464f",
   "metadata": {
    "scrolled": true
   },
   "outputs": [],
   "source": [
    "conflict_df"
   ]
  },
  {
   "cell_type": "code",
   "execution_count": null,
   "id": "8a682d38",
   "metadata": {},
   "outputs": [],
   "source": [
    "if 'level_0' in dataset.columns:\n",
    "    if 'index' in dataset.columns:\n",
    "        dataset.drop(columns='index', inplace=True)\n",
    "    dataset.rename(columns={'level_0':'index'}, inplace=True)"
   ]
  },
  {
   "cell_type": "code",
   "execution_count": null,
   "id": "a65fa557",
   "metadata": {
    "scrolled": false
   },
   "outputs": [],
   "source": [
    "dataframe_viewer(dataset, rows=10, un_val='ID', view=t)"
   ]
  },
  {
   "cell_type": "markdown",
   "id": "36dd609d",
   "metadata": {},
   "source": [
    "##### ==================================== TEST ZONE ========================================"
   ]
  },
  {
   "cell_type": "code",
   "execution_count": null,
   "id": "11b27309",
   "metadata": {},
   "outputs": [],
   "source": [
    "pause"
   ]
  },
  {
   "cell_type": "markdown",
   "id": "f77a82bc",
   "metadata": {},
   "source": [
    "#### $\\color{green}{\\textbf{Read and merge}}$"
   ]
  },
  {
   "cell_type": "code",
   "execution_count": null,
   "id": "bf35ae85",
   "metadata": {},
   "outputs": [],
   "source": [
    "a, b = 13, 15\n",
    "file1= files_dict[key][a]\n",
    "file2= files_dict[key][b]\n",
    "print(files_dict[key][a].replace(work_dir,\"\"),'||', files_dict[key][b].replace(work_dir,\"\"))"
   ]
  },
  {
   "cell_type": "code",
   "execution_count": null,
   "id": "a7f91eaf",
   "metadata": {
    "scrolled": false
   },
   "outputs": [],
   "source": [
    "#file1= work_dir + 'donnees_terrain_2019/Donnees_forage_Piezometers.csv' # 9\n",
    "#file2= work_dir + 'database_Memoris3/Result_eau_Piezometers.csv' # 7  \n",
    "\n",
    "df1, df2 = create_df([file1, file2])\n",
    "dataframe_viewer(df1, rows=3, un_val='ID', view=t), dataframe_viewer(df2, rows=3, un_val='ID', view=t)"
   ]
  },
  {
   "cell_type": "code",
   "execution_count": null,
   "id": "11d18af2",
   "metadata": {},
   "outputs": [],
   "source": [
    "fix_duplicates(df1, df2)"
   ]
  },
  {
   "cell_type": "code",
   "execution_count": null,
   "id": "a7466c3f",
   "metadata": {
    "scrolled": true
   },
   "outputs": [],
   "source": [
    "mdf, conflict_df=data_merger(df1, df2, how=how[1], on='ID', dist_max=1)"
   ]
  },
  {
   "cell_type": "markdown",
   "id": "1c5b808d",
   "metadata": {},
   "source": [
    "#### Merge with object dataset"
   ]
  },
  {
   "cell_type": "code",
   "execution_count": null,
   "id": "f061519a",
   "metadata": {
    "scrolled": true
   },
   "outputs": [],
   "source": [
    "dataset, conflict_df=data_merger(dataset, mdf, how=how[1], on='ID', dist_max=1)"
   ]
  },
  {
   "cell_type": "markdown",
   "id": "83d99e22",
   "metadata": {},
   "source": [
    "#### $\\color{blue}{\\textbf{Manage conflicts}}$"
   ]
  },
  {
   "cell_type": "code",
   "execution_count": null,
   "id": "50e1c153",
   "metadata": {
    "scrolled": true
   },
   "outputs": [],
   "source": [
    "conflict_df # i think there are not the same, but no date or postition to distinguish them !\n",
    "# --> check boreholes sheets (pdf)"
   ]
  },
  {
   "cell_type": "raw",
   "id": "6d76183f",
   "metadata": {},
   "source": [
    "data_validation(dataset, conflict_df, on='ID', col='Long_for', idx_list=[], valid_col='Long_for_y' )"
   ]
  },
  {
   "cell_type": "code",
   "execution_count": null,
   "id": "dac74716",
   "metadata": {
    "scrolled": true
   },
   "outputs": [],
   "source": [
    "dataframe_viewer(dataset, rows=3, un_val='ID', view=t)"
   ]
  },
  {
   "cell_type": "markdown",
   "id": "86d03f71",
   "metadata": {},
   "source": [
    "####  $\\color{red}{\\textbf{Save final object dataset}}$"
   ]
  },
  {
   "cell_type": "code",
   "execution_count": null,
   "id": "4c1a1705",
   "metadata": {},
   "outputs": [],
   "source": [
    "if 'index' in piezometers.columns:\n",
    "    piezometers.drop(columns='index', inplace=True)"
   ]
  },
  {
   "cell_type": "code",
   "execution_count": null,
   "id": "c0e37cba",
   "metadata": {},
   "outputs": [],
   "source": [
    "if not os.path.exists(save_dir):\n",
    "    os.makedirs(save_dir)\n",
    "    \n",
    "piezometers.to_csv(save_dir + save_file, index=False)"
   ]
  },
  {
   "cell_type": "markdown",
   "id": "e4aec9b0",
   "metadata": {},
   "source": [
    "###  ------------------------------------- Testing area ------------------------------"
   ]
  },
  {
   "cell_type": "code",
   "execution_count": null,
   "id": "5437525f",
   "metadata": {},
   "outputs": [],
   "source": [
    "a, b = 3, 0\n",
    "file1= files_dict[key][a]\n",
    "file2= files_dict[key][b]\n",
    "print(files_dict[key][a].replace(work_dir,\"\"),'||', files_dict[key][b].replace(work_dir,\"\"))"
   ]
  },
  {
   "cell_type": "markdown",
   "id": "62233a48",
   "metadata": {},
   "source": [
    "#### $\\color{green}{\\textbf{Read and merge}}$"
   ]
  },
  {
   "cell_type": "code",
   "execution_count": null,
   "id": "d22a2f80",
   "metadata": {},
   "outputs": [],
   "source": [
    "#file1= work_dir + 'Memoris_seafile/Result_SOL_Samples-soil.csv' # 3\n",
    "#file2= work_dir + 'Phase_1_Memoris/Result_sol_Samples-soil.csv' # 6\n",
    "\n",
    "df1, df2 = create_df([file1, file2])\n",
    "dataframe_viewer(df1, rows=3, un_val='ID', view=t), dataframe_viewer(df2, rows=3, un_val='ID', view=t)"
   ]
  },
  {
   "cell_type": "code",
   "execution_count": null,
   "id": "a67b6134",
   "metadata": {},
   "outputs": [],
   "source": [
    "pause"
   ]
  },
  {
   "cell_type": "markdown",
   "id": "b438b486",
   "metadata": {},
   "source": [
    "#### $\\color{green}{\\textbf{Read and merge}}$"
   ]
  },
  {
   "cell_type": "code",
   "execution_count": null,
   "id": "fb6d2c7e",
   "metadata": {},
   "outputs": [],
   "source": [
    "df1.ID_ech = df1.ID_ech.astype(str)\n",
    "df2.ID_ech = df2.ID_ech.astype(str)"
   ]
  },
  {
   "cell_type": "markdown",
   "id": "9dfb0160",
   "metadata": {},
   "source": [
    "#### $\\color{blue}{\\textbf{Manage conflicts}}$"
   ]
  },
  {
   "cell_type": "raw",
   "id": "52f1c10a",
   "metadata": {
    "scrolled": true
   },
   "source": [
    "conflict_df"
   ]
  },
  {
   "cell_type": "raw",
   "id": "68d4c40c",
   "metadata": {},
   "source": [
    "data_validation(overall_data=mdf, conflict_data=conflict_df, index_col='index', \n",
    "                valid_dict={'Old_ID_x':list(conflict_df.index)})"
   ]
  },
  {
   "cell_type": "code",
   "execution_count": null,
   "id": "3208a09c",
   "metadata": {
    "scrolled": false
   },
   "outputs": [],
   "source": [
    "file1= files_dict[key][0]\n",
    "file2= files_dict[key][3]\n",
    "\n",
    "df1, df2 = create_df([file1, file2])\n",
    "print(files_dict[key][1].replace(work_dir,\"\"),'||', files_dict[key][2].replace(work_dir,\"\"))\n",
    "dataframe_viewer(df1, rows=3, un_val='ID', view=t), dataframe_viewer(df2, rows=3, un_val='ID', view=t)"
   ]
  },
  {
   "cell_type": "code",
   "execution_count": null,
   "id": "910db512",
   "metadata": {},
   "outputs": [],
   "source": [
    "fix_duplicates(df1, df2)"
   ]
  },
  {
   "cell_type": "code",
   "execution_count": null,
   "id": "089656dd",
   "metadata": {},
   "outputs": [],
   "source": [
    "dataframe_viewer(df1, rows=3, un_val='ID', view=t), dataframe_viewer(df2, rows=3, un_val='ID', view=t)"
   ]
  },
  {
   "cell_type": "raw",
   "id": "6d6482a4",
   "metadata": {},
   "source": [
    "df1 = df1[['ID', 'X', 'Y', 'Type']].copy()"
   ]
  },
  {
   "cell_type": "code",
   "execution_count": null,
   "id": "d010e5b1",
   "metadata": {},
   "outputs": [],
   "source": [
    "df1.rename(columns={'Profondeur':'Long_for'}, inplace=True)\n",
    "df2.rename(columns={'Profondeur':'Long_for'}, inplace=True)"
   ]
  },
  {
   "cell_type": "raw",
   "id": "8232dcc0",
   "metadata": {},
   "source": [
    "df1, check = data_filter(df1, position=True, id_col='ID', expression='sup|prof', dist_max=1, drop=True)"
   ]
  },
  {
   "cell_type": "raw",
   "id": "bc9e7fc4",
   "metadata": {},
   "source": [
    "df1.ID=df1.ID.apply(lambda x: 'F'+x)"
   ]
  },
  {
   "cell_type": "raw",
   "id": "443210f6",
   "metadata": {},
   "source": [
    "dataframe_viewer(df1, rows=5, un_val='ID', view=t)"
   ]
  },
  {
   "cell_type": "raw",
   "id": "e469334a",
   "metadata": {
    "scrolled": true
   },
   "source": [
    "test, conf_test=data_merger(df1, df2, how=how[1], on='new_ID', dist_max=1)"
   ]
  },
  {
   "cell_type": "raw",
   "id": "27aeb829",
   "metadata": {
    "scrolled": false
   },
   "source": [
    "if len(conf_test) > 0:\n",
    "    dataframe_viewer(conf_test, rows=10, un_val='new_ID', view=t)"
   ]
  },
  {
   "cell_type": "raw",
   "id": "e879a572",
   "metadata": {},
   "source": [
    "dataframe_viewer(test, rows=10, un_val='ID', view=t)"
   ]
  },
  {
   "cell_type": "raw",
   "id": "b96235c6",
   "metadata": {},
   "source": [
    "pause"
   ]
  },
  {
   "cell_type": "raw",
   "id": "779d6552",
   "metadata": {},
   "source": [
    "mdf['Long_for'] = mdf[['Profondeur', 'Long_for']].apply(lambda x: x[0] if pd.isnull(x[1]) else x[1], axis=1)\n",
    "mdf.drop(columns=['Profondeur'], inplace=True)"
   ]
  },
  {
   "cell_type": "markdown",
   "id": "790ba7db",
   "metadata": {},
   "source": [
    "###  °°°°°°°°°°°°°°°°°°°°°°°°°°°°°°°°°°°°°°°°°°°°°°°°°°°°°°°°°°°°°°°°°°°°°°°°°°°°°°°°°°°°°°°°°"
   ]
  },
  {
   "cell_type": "code",
   "execution_count": null,
   "id": "085db48f",
   "metadata": {
    "scrolled": false
   },
   "outputs": [],
   "source": [
    "file1= files_dict[key][6]\n",
    "file2= files_dict[key][4]\n",
    "\n",
    "df1, df2 = create_df([file1, file2])\n",
    "dataframe_viewer(df1, rows=3, un_val='ID', view=t), dataframe_viewer(df2, rows=3, un_val='ID', view=t)"
   ]
  },
  {
   "cell_type": "code",
   "execution_count": null,
   "id": "printable-centre",
   "metadata": {
    "scrolled": false
   },
   "outputs": [],
   "source": [
    "file1= files_dict[key][0]\n",
    "file2= files_dict[key][1]\n",
    "\n",
    "df1, df2 = create_df([file1, file2])\n",
    "dataframe_viewer(df1, rows=3, un_val='ID', view=t), dataframe_viewer(df2, rows=3, un_val='ID', view=t)"
   ]
  },
  {
   "cell_type": "code",
   "execution_count": null,
   "id": "hydraulic-karen",
   "metadata": {},
   "outputs": [],
   "source": [
    "mdf, conflict_df=data_merger(df1, df2, how=how[1], on='ID', dist_max=1)\n",
    "check_col(mdf)"
   ]
  },
  {
   "cell_type": "markdown",
   "id": "juvenile-garden",
   "metadata": {},
   "source": [
    "##### check and validate duplicate objects\n",
    "- The function \"data_filter()\" doesn't work in some cases, so we use function \"doubled_objects_check()\"\n",
    "- we have same objects Names but differents by positions here"
   ]
  },
  {
   "cell_type": "code",
   "execution_count": null,
   "id": "studied-township",
   "metadata": {},
   "outputs": [],
   "source": [
    "mdf, check = data_filter(mdf, position=True, id_on='ID', expression='sup|prof', dist_max=1, drop=True, rapp_val=1)"
   ]
  },
  {
   "cell_type": "code",
   "execution_count": null,
   "id": "magnetic-piano",
   "metadata": {},
   "outputs": [],
   "source": [
    "double_objects_check(mdf)"
   ]
  },
  {
   "cell_type": "code",
   "execution_count": null,
   "id": "vietnamese-disclosure",
   "metadata": {},
   "outputs": [],
   "source": [
    "drop_id = [2,25,30] # objects are seemingly the same, but is it possible to get 2 objects so close (~ 1m)?\n",
    "mdf.drop(index=drop_id, inplace=True)\n",
    "mdf.reset_index(drop=True, inplace=True)"
   ]
  },
  {
   "cell_type": "code",
   "execution_count": null,
   "id": "constant-county",
   "metadata": {
    "scrolled": true
   },
   "outputs": [],
   "source": [
    "dataframe_viewer(mdf, rows=3, cols=13, un_val='ID', view=t)"
   ]
  },
  {
   "cell_type": "markdown",
   "id": "threaded-associate",
   "metadata": {},
   "source": [
    "#### Merge with object type dataset"
   ]
  },
  {
   "cell_type": "code",
   "execution_count": null,
   "id": "copyrighted-torture",
   "metadata": {},
   "outputs": [],
   "source": [
    "piezometers = mdf.copy() #saving"
   ]
  },
  {
   "cell_type": "code",
   "execution_count": null,
   "id": "together-burning",
   "metadata": {
    "scrolled": false
   },
   "outputs": [],
   "source": [
    "file1= files_dict[key][2]\n",
    "file2= files_dict[key][3]\n",
    "\n",
    "df1, df2 = create_df([file1, file2])\n",
    "dataframe_viewer(df1, rows=3, un_val='ID', view=t), dataframe_viewer(df2, rows=3, un_val='ID', view=t)"
   ]
  },
  {
   "cell_type": "code",
   "execution_count": null,
   "id": "middle-midwest",
   "metadata": {
    "scrolled": true
   },
   "outputs": [],
   "source": [
    "mdf, conflict_df=data_merger(df1, df2, how=how[1], on='ID', dist_max=2)\n",
    "check_col(mdf)"
   ]
  },
  {
   "cell_type": "code",
   "execution_count": null,
   "id": "breathing-chicago",
   "metadata": {
    "scrolled": true
   },
   "outputs": [],
   "source": [
    "dataframe_viewer(mdf, rows=3, cols=13, un_val='ID', view=f)"
   ]
  },
  {
   "cell_type": "code",
   "execution_count": null,
   "id": "caring-sentence",
   "metadata": {
    "scrolled": true
   },
   "outputs": [],
   "source": [
    "dataset, conflict_df=data_merger(dataset, mdf, how=how[1], on='ID', dist_max=1)\n",
    "check_col(mdf)"
   ]
  },
  {
   "cell_type": "code",
   "execution_count": null,
   "id": "stainless-tyler",
   "metadata": {
    "scrolled": true
   },
   "outputs": [],
   "source": [
    "dataframe_viewer(dataset, rows=3, cols=13, un_val='ID', view=t)"
   ]
  },
  {
   "cell_type": "code",
   "execution_count": null,
   "id": "hundred-produce",
   "metadata": {},
   "outputs": [],
   "source": [
    "double_objects_check(piezometers)"
   ]
  },
  {
   "cell_type": "code",
   "execution_count": null,
   "id": "developed-functionality",
   "metadata": {},
   "outputs": [],
   "source": [
    "drop_id = [292, 293]\n",
    "piezometers.drop(index=drop_id, inplace=True)\n",
    "dataframe_viewer(dataset, rows=5, un_val='ID', view=f)"
   ]
  },
  {
   "cell_type": "code",
   "execution_count": null,
   "id": "saved-shanghai",
   "metadata": {
    "scrolled": false
   },
   "outputs": [],
   "source": [
    "file1= files_dict[key][4]\n",
    "file2= files_dict[key][5]\n",
    "\n",
    "df1, df2 = create_df([file1, file2])\n",
    "dataframe_viewer(df1, rows=3, un_val='ID', view=t), dataframe_viewer(df2, rows=3, un_val='ID', view=t)"
   ]
  },
  {
   "cell_type": "code",
   "execution_count": null,
   "id": "controversial-seller",
   "metadata": {
    "scrolled": true
   },
   "outputs": [],
   "source": [
    "mdf, conflict_df=data_merger(df1, df2, how=how[1], on='ID', dist_max=2)\n",
    "check_col(mdf)"
   ]
  },
  {
   "cell_type": "code",
   "execution_count": null,
   "id": "bibliographic-essex",
   "metadata": {
    "scrolled": true
   },
   "outputs": [],
   "source": [
    "dataset, conflict_df=data_merger(dataset, mdf, how=how[1], on='ID', dist_max=1)\n",
    "check_col(mdf)"
   ]
  },
  {
   "cell_type": "code",
   "execution_count": null,
   "id": "opening-duplicate",
   "metadata": {
    "scrolled": true
   },
   "outputs": [],
   "source": [
    "dataframe_viewer(dataset, rows=3, cols=13, un_val='ID', view=t)"
   ]
  },
  {
   "cell_type": "code",
   "execution_count": null,
   "id": "silver-recorder",
   "metadata": {},
   "outputs": [],
   "source": [
    "dataset, check = data_filter(dataset, position=True, id_on='ID', expression='sup|prof', dist_max=1, drop=True)\n",
    "#dataframe_viewer(dataset, rows=5, un_val='ID', view=t)"
   ]
  },
  {
   "cell_type": "code",
   "execution_count": null,
   "id": "frequent-whale",
   "metadata": {
    "scrolled": true
   },
   "outputs": [],
   "source": [
    "double_objects_check(piezometers)"
   ]
  },
  {
   "cell_type": "code",
   "execution_count": null,
   "id": "attended-martin",
   "metadata": {},
   "outputs": [],
   "source": [
    "drop_id = [2,4,30,94,106]\n",
    "piezometers.drop(index=drop_id, inplace=True)\n",
    "dataframe_viewer(dataset, rows=5, un_val='ID', view=f)"
   ]
  },
  {
   "cell_type": "code",
   "execution_count": null,
   "id": "hollow-differential",
   "metadata": {
    "scrolled": false
   },
   "outputs": [],
   "source": [
    "file1= files_dict[key][6]\n",
    "file2= files_dict[key][9]\n",
    "\n",
    "df1, df2 = create_df([file1, file2])\n",
    "dataframe_viewer(df1, rows=3, un_val='ID', view=t), dataframe_viewer(df2, rows=3, un_val='ID', view=t)"
   ]
  },
  {
   "cell_type": "code",
   "execution_count": null,
   "id": "gothic-modeling",
   "metadata": {},
   "outputs": [],
   "source": [
    "df2['ID'] = df2.ID.astype('object')"
   ]
  },
  {
   "cell_type": "code",
   "execution_count": null,
   "id": "wrong-dress",
   "metadata": {
    "scrolled": true
   },
   "outputs": [],
   "source": [
    "mdf, conflict_df=data_merger(df1, df2, how=how[1], on='ID', dist_max=2)\n",
    "check_col(mdf)"
   ]
  },
  {
   "cell_type": "code",
   "execution_count": null,
   "id": "acceptable-pulse",
   "metadata": {
    "scrolled": true
   },
   "outputs": [],
   "source": [
    "dataset, conflict_df=data_merger(dataset, mdf, how=how[1], on='ID', dist_max=1)\n",
    "check_col(mdf)"
   ]
  },
  {
   "cell_type": "code",
   "execution_count": null,
   "id": "grave-testing",
   "metadata": {
    "scrolled": true
   },
   "outputs": [],
   "source": [
    "dataframe_viewer(dataset, rows=3, cols=13, un_val='ID', view=t)"
   ]
  },
  {
   "cell_type": "code",
   "execution_count": null,
   "id": "destroyed-ceramic",
   "metadata": {
    "scrolled": false
   },
   "outputs": [],
   "source": [
    "file1= files_dict[key][10]\n",
    "file2= files_dict[key][11]\n",
    "\n",
    "df1, df2 = create_df([file1, file2])\n",
    "dataframe_viewer(df1, rows=3, un_val='ID', view=t), dataframe_viewer(df2, rows=3, un_val='ID', view=t)"
   ]
  },
  {
   "cell_type": "code",
   "execution_count": null,
   "id": "naughty-stupid",
   "metadata": {},
   "outputs": [],
   "source": [
    "df1['ID'] = df1.ID.astype('object')"
   ]
  },
  {
   "cell_type": "code",
   "execution_count": null,
   "id": "painful-ireland",
   "metadata": {
    "scrolled": true
   },
   "outputs": [],
   "source": [
    "mdf, conflict_df=data_merger(df1, df2, how=how[1], on='ID', dist_max=2)\n",
    "check_col(mdf)"
   ]
  },
  {
   "cell_type": "code",
   "execution_count": null,
   "id": "current-catalog",
   "metadata": {
    "scrolled": true
   },
   "outputs": [],
   "source": [
    "dataset, conflict_df=data_merger(dataset, mdf, how=how[1], on='ID', dist_max=1)\n",
    "check_col(mdf)"
   ]
  },
  {
   "cell_type": "code",
   "execution_count": null,
   "id": "elementary-canvas",
   "metadata": {},
   "outputs": [],
   "source": [
    "conflict_df"
   ]
  },
  {
   "cell_type": "raw",
   "id": "architectural-battery",
   "metadata": {},
   "source": [
    "data_validation(dataset, conflict_df, on='ID', col='Diam_ext_pz', id_list=[], valid_col='Diam_ext_pz_x' )"
   ]
  },
  {
   "cell_type": "raw",
   "id": "legislative-financing",
   "metadata": {},
   "source": [
    "conflict_df"
   ]
  },
  {
   "cell_type": "code",
   "execution_count": null,
   "id": "blessed-broadcasting",
   "metadata": {
    "scrolled": true
   },
   "outputs": [],
   "source": [
    "dataframe_viewer(dataset, rows=3, cols=13, un_val='ID', view=t)"
   ]
  },
  {
   "cell_type": "code",
   "execution_count": null,
   "id": "alone-reserve",
   "metadata": {
    "scrolled": false
   },
   "outputs": [],
   "source": [
    "file1= files_dict[key][12]\n",
    "file2= files_dict[key][13]\n",
    "\n",
    "df1, df2 = create_df([file1, file2])\n",
    "dataframe_viewer(df1, rows=3, un_val='ID', view=t), dataframe_viewer(df2, rows=3, un_val='ID', view=t)"
   ]
  },
  {
   "cell_type": "code",
   "execution_count": null,
   "id": "democratic-tuning",
   "metadata": {
    "scrolled": true
   },
   "outputs": [],
   "source": [
    "mdf, conflict_df=data_merger(df1, df2, how=how[1], on='ID', dist_max=2)\n",
    "check_col(mdf)"
   ]
  },
  {
   "cell_type": "code",
   "execution_count": null,
   "id": "matched-indication",
   "metadata": {},
   "outputs": [],
   "source": [
    "conflict_df"
   ]
  },
  {
   "cell_type": "raw",
   "id": "adjustable-marker",
   "metadata": {},
   "source": [
    "data_validation(dataset, conflict_df, on='ID', col='Diam_ext_pz', id_list=[], valid_col='Diam_ext_pz_x' )"
   ]
  },
  {
   "cell_type": "raw",
   "id": "realistic-myrtle",
   "metadata": {},
   "source": [
    "conflict_df"
   ]
  },
  {
   "cell_type": "code",
   "execution_count": null,
   "id": "vulnerable-geography",
   "metadata": {
    "scrolled": true
   },
   "outputs": [],
   "source": [
    "dataset, conflict_df=data_merger(dataset, mdf, how=how[1], on='ID', dist_max=1)\n",
    "check_col(mdf)"
   ]
  },
  {
   "cell_type": "code",
   "execution_count": null,
   "id": "brief-sheffield",
   "metadata": {
    "scrolled": true
   },
   "outputs": [],
   "source": [
    "dataframe_viewer(dataset, rows=3, cols=13, un_val='ID', view=t)"
   ]
  },
  {
   "cell_type": "code",
   "execution_count": null,
   "id": "complete-stomach",
   "metadata": {
    "scrolled": false
   },
   "outputs": [],
   "source": [
    "file1= files_dict[key][14]\n",
    "file2= files_dict[key][15]\n",
    "\n",
    "df1, df2 = create_df([file1, file2])\n",
    "dataframe_viewer(df1, rows=3, un_val='ID', view=t), dataframe_viewer(df2, rows=3, un_val='ID', view=t)"
   ]
  },
  {
   "cell_type": "code",
   "execution_count": null,
   "id": "monthly-holder",
   "metadata": {
    "scrolled": true
   },
   "outputs": [],
   "source": [
    "mdf, conflict_df=data_merger(df1, df2, how=how[1], on='ID', dist_max=2)\n",
    "check_col(mdf)"
   ]
  },
  {
   "cell_type": "code",
   "execution_count": null,
   "id": "lightweight-grove",
   "metadata": {
    "scrolled": true
   },
   "outputs": [],
   "source": [
    "dataset, conflict_df=data_merger(dataset, mdf, how=how[1], on='ID', dist_max=1)\n",
    "check_col(mdf)"
   ]
  },
  {
   "cell_type": "code",
   "execution_count": null,
   "id": "unique-accent",
   "metadata": {},
   "outputs": [],
   "source": [
    "conflict_df"
   ]
  },
  {
   "cell_type": "raw",
   "id": "retained-marking",
   "metadata": {},
   "source": [
    "data_validation(dataset, conflict_df, on='ID', col='Diam_ext_pz', id_list=[], valid_col='Diam_ext_pz_x' )"
   ]
  },
  {
   "cell_type": "raw",
   "id": "floral-script",
   "metadata": {},
   "source": [
    "conflict_df"
   ]
  },
  {
   "cell_type": "code",
   "execution_count": null,
   "id": "favorite-lexington",
   "metadata": {
    "scrolled": true
   },
   "outputs": [],
   "source": [
    "dataframe_viewer(dataset, rows=3, cols=13, un_val='ID', view=t)"
   ]
  },
  {
   "cell_type": "code",
   "execution_count": null,
   "id": "statewide-colleague",
   "metadata": {
    "scrolled": false
   },
   "outputs": [],
   "source": [
    "file1= files_dict[key][16]\n",
    "df1 = pd.read_csv(file1, delimiter=',')\n",
    "\n",
    "print(f\"df1 : {file1.replace(work_dir,'')}\")\n",
    "dataframe_viewer(df1, rows=3, un_val='ID', view=t)"
   ]
  },
  {
   "cell_type": "markdown",
   "id": "interesting-stack",
   "metadata": {},
   "source": [
    "#### Last merging"
   ]
  },
  {
   "cell_type": "code",
   "execution_count": null,
   "id": "paperback-alberta",
   "metadata": {
    "scrolled": true
   },
   "outputs": [],
   "source": [
    "dataset, conflict_df=data_merger(dataset, df1, how=how[1], on='ID', dist_max=1)\n",
    "check_col(mdf)"
   ]
  },
  {
   "cell_type": "code",
   "execution_count": null,
   "id": "productive-nevada",
   "metadata": {},
   "outputs": [],
   "source": [
    "conflict_df"
   ]
  },
  {
   "cell_type": "raw",
   "id": "median-portrait",
   "metadata": {},
   "source": [
    "data_validation(dataset, conflict_df, on='ID', col='Diam_ext_pz', id_list=[], valid_col='Diam_ext_pz_x' )"
   ]
  },
  {
   "cell_type": "raw",
   "id": "elder-weekly",
   "metadata": {},
   "source": [
    "conflict_df"
   ]
  },
  {
   "cell_type": "code",
   "execution_count": null,
   "id": "tight-dairy",
   "metadata": {
    "scrolled": true
   },
   "outputs": [],
   "source": [
    "dataframe_viewer(dataset, rows=3, cols=13, un_val='ID', view=t)"
   ]
  },
  {
   "cell_type": "raw",
   "id": "lasting-issue",
   "metadata": {},
   "source": [
    "dataset, check = data_filter(dataset, position=True, id_on='ID', expression='sup|prof', dist_max=1, drop=True)\n",
    "#dataframe_viewer(dataset, rows=5, un_val='ID', view=t)"
   ]
  },
  {
   "cell_type": "raw",
   "id": "comparable-transformation",
   "metadata": {},
   "source": [
    "double_objects_check(piezometers)"
   ]
  },
  {
   "cell_type": "raw",
   "id": "illegal-going",
   "metadata": {},
   "source": [
    "drop_id = [2,4,30,94,106]\n",
    "piezometers.drop(index=drop_id, inplace=True)\n",
    "dataframe_viewer(dataset, rows=5, un_val='ID', view=f)"
   ]
  },
  {
   "cell_type": "markdown",
   "id": "public-shock",
   "metadata": {},
   "source": [
    "####  $\\color{red}{\\textbf{Save final Piezometers data}}$"
   ]
  },
  {
   "cell_type": "code",
   "execution_count": null,
   "id": "acceptable-aluminum",
   "metadata": {},
   "outputs": [],
   "source": [
    "if not os.path.exists(save_dir):\n",
    "    os.makedirs(save_dir)\n",
    "    \n",
    "piezometers.to_csv(save_dir+save_file, index=False)"
   ]
  }
 ],
 "metadata": {
  "kernelspec": {
   "display_name": "Python 3 (ipykernel)",
   "language": "python",
   "name": "python3"
  },
  "language_info": {
   "codemirror_mode": {
    "name": "ipython",
    "version": 3
   },
   "file_extension": ".py",
   "mimetype": "text/x-python",
   "name": "python",
   "nbconvert_exporter": "python",
   "pygments_lexer": "ipython3",
   "version": "3.8.10"
  }
 },
 "nbformat": 4,
 "nbformat_minor": 5
}
