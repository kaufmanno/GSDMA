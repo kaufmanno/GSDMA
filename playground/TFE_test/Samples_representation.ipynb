{
 "cells": [
  {
   "cell_type": "markdown",
   "id": "38bb9500",
   "metadata": {},
   "source": [
    "# Samples Mapping Test"
   ]
  },
  {
   "cell_type": "markdown",
   "id": "b89ee4ce",
   "metadata": {},
   "source": [
    "## Imports "
   ]
  },
  {
   "cell_type": "code",
   "execution_count": 1,
   "id": "5f8c8285",
   "metadata": {},
   "outputs": [],
   "source": [
    "from striplog import Component, Lexicon, Legend, Interval, Position, Decor\n",
    "from core.visual import Borehole3D\n",
    "from utils.lexicon.lexicon_memoris import lithology_memoris\n",
    "from utils.visual import build_bh3d_legend_cmap, legend_from_attributes\n",
    "import random\n",
    "import pandas as pd"
   ]
  },
  {
   "cell_type": "markdown",
   "id": "0f6a204f",
   "metadata": {},
   "source": [
    "## Creation of Borehole3D objects"
   ]
  },
  {
   "cell_type": "markdown",
   "id": "938ca610",
   "metadata": {},
   "source": [
    "### Define a set of attributes and associated legends"
   ]
  },
  {
   "cell_type": "code",
   "execution_count": 2,
   "id": "4caa22e0",
   "metadata": {},
   "outputs": [],
   "source": [
    "legend_attributes = [('lithology', lithology_memoris), 'benzene', 'toluene']"
   ]
  },
  {
   "cell_type": "code",
   "execution_count": 3,
   "id": "b16c4175",
   "metadata": {},
   "outputs": [],
   "source": [
    "leg_dict = legend_from_attributes(legend_attributes)"
   ]
  },
  {
   "cell_type": "code",
   "execution_count": 4,
   "id": "9f1186d4",
   "metadata": {
    "scrolled": true
   },
   "outputs": [
    {
     "data": {
      "text/plain": [
       "{'lithology': {'legend': Legend(Decor({'_colour': '#ffffe9', 'width': None, 'hatch': None, 'component': Component({'lithology': 'matériau(?:x)? meuble(?:s)?'})})\n",
       "  Decor({'_colour': '#fff497', 'width': None, 'hatch': \"'....'\", 'component': Component({'lithology': 'alluvion'})})\n",
       "  Decor({'_colour': '#331100', 'width': None, 'hatch': None, 'component': Component({'lithology': 'boue'})})\n",
       "  Decor({'_colour': '#d3b798', 'width': None, 'hatch': \"'v'\", 'component': Component({'lithology': 'remblai'})})\n",
       "  Decor({'_colour': '#a5c7c9', 'width': None, 'hatch': \"'t'\", 'component': Component({'lithology': 'b[é|e]ton'})})\n",
       "  Decor({'_colour': '#8da3c9', 'width': None, 'hatch': \"'t'\", 'component': Component({'lithology': 'scorie'})})\n",
       "  Decor({'_colour': '#ffcc99', 'width': None, 'hatch': None, 'component': Component({'lithology': 'tourbe'})})\n",
       "  Decor({'_colour': '#ffeaa7', 'width': None, 'hatch': None, 'component': Component({'lithology': 'gypse'})})\n",
       "  Decor({'_colour': '#00151a', 'width': None, 'hatch': None, 'component': Component({'lithology': 'houille'})})\n",
       "  Decor({'_colour': '#798732', 'width': None, 'hatch': \"'-.'\", 'component': Component({'lithology': 'limon'})})\n",
       "  Decor({'_colour': '#ffcb23', 'width': None, 'hatch': \"'..'\", 'component': Component({'lithology': 'sable'})})\n",
       "  Decor({'_colour': '#adb7cc', 'width': None, 'hatch': \"'oo\", 'component': Component({'lithology': 'gravier'})})\n",
       "  Decor({'_colour': '#ace4c8', 'width': None, 'hatch': None, 'component': Component({'lithology': 'silt'})})\n",
       "  Decor({'_colour': '#d5e6cc', 'width': None, 'hatch': \"'---'\", 'component': Component({'lithology': 'argile'})})\n",
       "  Decor({'_colour': '#92dcb7', 'width': None, 'hatch': None, 'component': Component({'lithology': 'bentonite'})})\n",
       "  Decor({'_colour': '#bbffdd', 'width': None, 'hatch': \"'--'\", 'component': Component({'lithology': 'schiste'})})\n",
       "  Decor({'_colour': '#95ffca', 'width': None, 'hatch': None, 'component': Component({'lithology': 'argilite'})})\n",
       "  Decor({'_colour': '#d6fe9a', 'width': None, 'hatch': None, 'component': Component({'lithology': 'siltite'})})\n",
       "  Decor({'_colour': '#e1f0d8', 'width': None, 'hatch': None, 'component': Component({'lithology': 'tuffeau'})})\n",
       "  Decor({'_colour': '#69cf9c', 'width': None, 'hatch': None, 'component': Component({'lithology': 'silex'})})\n",
       "  Decor({'_colour': '#b7d9cc', 'width': None, 'hatch': None, 'component': Component({'lithology': 'conglomérat'})})\n",
       "  Decor({'_colour': '#019ccd', 'width': None, 'hatch': None, 'component': Component({'lithology': 'carbonate'})})\n",
       "  Decor({'_colour': '#149eff', 'width': None, 'hatch': \"'='\", 'component': Component({'lithology': 'calcaire'})})\n",
       "  Decor({'_colour': '#fdaaff', 'width': None, 'hatch': None, 'component': Component({'lithology': 'dolomite'})})\n",
       "  Decor({'_colour': '#fdaffe', 'width': None, 'hatch': None, 'component': Component({'lithology': 'dolomie'})})\n",
       "  Decor({'_colour': '#deeffe', 'width': None, 'hatch': None, 'component': Component({'lithology': 'craie'})})\n",
       "  Decor({'_colour': '#aac2c8', 'width': None, 'hatch': None, 'component': Component({'lithology': 'chert'})})\n",
       "  Decor({'_colour': '#000000', 'width': None, 'hatch': None, 'component': Component({'lithology': 'charbon'})})\n",
       "  Decor({'_colour': '#7ba1a8', 'width': None, 'hatch': None, 'component': Component({'lithology': 'marne'})})\n",
       "  Decor({'_colour': '#ffffff', 'width': None, 'hatch': None, 'component': Component({'lithology': 'inconnu'})}))},\n",
       " 'benzene': {'legend': Legend(Decor({'_colour': '#00ff00', 'width': None, 'component': Component({'benzene': 'vr'}), 'hatch': None})\n",
       "  Decor({'_colour': '#ffa500', 'width': None, 'component': Component({'benzene': 'vs'}), 'hatch': None})\n",
       "  Decor({'_colour': '#ff0000', 'width': None, 'component': Component({'benzene': 'vi'}), 'hatch': None})\n",
       "  Decor({'_colour': '#ffffff', 'width': None, 'component': Component({'benzene': 'inconnu'}), 'hatch': None}))},\n",
       " 'toluene': {'legend': Legend(Decor({'_colour': '#00ff00', 'width': None, 'component': Component({'toluene': 'vr'}), 'hatch': None})\n",
       "  Decor({'_colour': '#ffa500', 'width': None, 'component': Component({'toluene': 'vs'}), 'hatch': None})\n",
       "  Decor({'_colour': '#ff0000', 'width': None, 'component': Component({'toluene': 'vi'}), 'hatch': None})\n",
       "  Decor({'_colour': '#ffffff', 'width': None, 'component': Component({'toluene': 'inconnu'}), 'hatch': None}))}}"
      ]
     },
     "execution_count": 4,
     "metadata": {},
     "output_type": "execute_result"
    }
   ],
   "source": []
  },
  {
   "cell_type": "code",
   "execution_count": 7,
   "id": "f83f6e87",
   "metadata": {},
   "outputs": [
    {
     "data": {
      "text/plain": [
       "['lithology', 'benzene', 'toluene']"
      ]
     },
     "execution_count": 7,
     "metadata": {},
     "output_type": "execute_result"
    }
   ],
   "source": [
    "attrib = list(leg_dict.keys())\n",
    "attrib"
   ]
  },
  {
   "cell_type": "markdown",
   "id": "c21f5859",
   "metadata": {},
   "source": [
    "### Create boreholes composition"
   ]
  },
  {
   "cell_type": "code",
   "execution_count": 5,
   "id": "083a477d",
   "metadata": {},
   "outputs": [],
   "source": [
    "samples = [Component({'lithology': 'remblais'}),\n",
    "           Component({'lithology': 'limon'}),\n",
    "           Component({'lithology': 'schistes'}),\n",
    "           Component({'lithology': 'sable'}),\n",
    "           Component({'lithology': 'calcaire'}),\n",
    "           Component({'lithology': 'inconnu'})]"
   ]
  },
  {
   "cell_type": "code",
   "execution_count": 6,
   "id": "fa859aa2",
   "metadata": {},
   "outputs": [],
   "source": [
    "benzene = [Component({'benzene':'Inconnu', 'Type':'Sol'}), \n",
    "           Component({'benzene':'VR', 'Type':'Sol'}),\n",
    "           Component({'benzene':'VS', 'Type':'Sol'}),\n",
    "           Component({'benzene':'VI', 'Type':'Sol'})]\n",
    "\n",
    "toluene = [Component({'toluene':'VR', 'Type':'Sol'}),\n",
    "           Component({'toluene':'Inconnu', 'Type':'Sol'}),\n",
    "           Component({'toluene':'VS', 'Type':'Sol'}),\n",
    "           Component({'toluene':'VI', 'Type':'Sol'})]"
   ]
  },
  {
   "cell_type": "code",
   "execution_count": 8,
   "id": "d473ee8e",
   "metadata": {},
   "outputs": [],
   "source": [
    "samples_intervals = [Interval(top=0, base=2, components=[samples[3], samples[0], benzene[2]], data={'Naphtalene':50}),\n",
    "                     Interval(top=2, base=3, components=[samples[0], benzene[0]], data={'benzene': {'value': 1.52, 'units': 'µg/l'}}),\n",
    "                     Interval(top=3, base=6, components=[toluene[2], samples[2]]),\n",
    "                     Interval(top=6, base=8, components=[benzene[3]]),\n",
    "                     Interval(top=8, base=10, components=[samples[4], benzene[1], toluene[1]]),\n",
    "                     Interval(top=10, base=13, components=[samples[2],toluene[0]]),]\n",
    "                     #Interval(top=13, base=15, components=[])]"
   ]
  },
  {
   "cell_type": "code",
   "execution_count": 9,
   "id": "252544aa",
   "metadata": {},
   "outputs": [],
   "source": [
    "samples_intervals_2 = [Interval(top=0, base=2, components=[samples[4]], data={'Naphtalene':50}),\n",
    "                     Interval(top=2, base=3, components=[samples[1], benzene[1]]),\n",
    "                     Interval(top=3, base=6, components=[samples[3]]),\n",
    "                     Interval(top=6, base=8, components=[samples[4], toluene[3]]),\n",
    "                     Interval(top=8, base=10, components=[samples[0], benzene[2], toluene[1]]),\n",
    "                     Interval(top=10, base=13, components=[samples[2]])]"
   ]
  },
  {
   "cell_type": "code",
   "execution_count": 10,
   "id": "8b641aac",
   "metadata": {},
   "outputs": [],
   "source": [
    "verb = ['get_comp', 'build_leg'] # outputs of specific function ('geom', 'get_comp', 'get_attrib', 'build_leg')\n",
    "verbose = False"
   ]
  },
  {
   "cell_type": "code",
   "execution_count": 11,
   "id": "8b48a6d4",
   "metadata": {
    "scrolled": false
   },
   "outputs": [
    {
     "name": "stdout",
     "output_type": "stream",
     "text": [
      "Borehole geometry created successfully !\n",
      "Borehole geometry created successfully !\n"
     ]
    }
   ],
   "source": [
    "bh3d_1 = Borehole3D(name='BH_1', intervals=samples_intervals, legend_dict=leg_dict, \n",
    "                    verbose=verbose, repr_attribute='benzene')\n",
    "\n",
    "bh3d_2 = Borehole3D(name='BH_2', intervals=samples_intervals_2, legend_dict=leg_dict, \n",
    "                    verbose=verbose)\n",
    "bh3d_list = [bh3d_1, bh3d_2]"
   ]
  },
  {
   "cell_type": "code",
   "execution_count": 12,
   "id": "36281b24",
   "metadata": {},
   "outputs": [
    {
     "name": "stdout",
     "output_type": "stream",
     "text": [
      "<class 'pyvista.core.pointset.PolyData'> <class 'core.visual.Borehole3D'>\n"
     ]
    },
    {
     "data": {
      "text/html": [
       "<table><tr><th>Header</th><th>Data Arrays</th></tr><tr><td>\n",
       "<table>\n",
       "<tr><th>PolyData</th><th>Information</th></tr>\n",
       "<tr><td>N Cells</td><td>312</td></tr>\n",
       "<tr><td>N Points</td><td>1200</td></tr>\n",
       "<tr><td>X Bounds</td><td>-1.248e+00, 1.248e+00</td></tr>\n",
       "<tr><td>Y Bounds</td><td>-1.250e+00, 1.250e+00</td></tr>\n",
       "<tr><td>Z Bounds</td><td>-3.000e+00, 1.000e+01</td></tr>\n",
       "<tr><td>N Arrays</td><td>5</td></tr>\n",
       "</table>\n",
       "\n",
       "</td><td>\n",
       "<table>\n",
       "<tr><th>Name</th><th>Field</th><th>Type</th><th>N Comp</th><th>Min</th><th>Max</th></tr>\n",
       "<tr><td>TubeNormals</td><td>Points</td><td>float32</td><td>3</td><td>-1.000e+00</td><td>1.000e+00</td></tr>\n",
       "<tr><td>Line Index</td><td>Cells</td><td>int64</td><td>1</td><td>0.000e+00</td><td>5.000e+00</td></tr>\n",
       "<tr><td>lithology</td><td>Cells</td><td>int64</td><td>1</td><td>0.000e+00</td><td>4.000e+00</td></tr>\n",
       "<tr><td><b>benzene</b></td><td>Cells</td><td>int64</td><td>1</td><td>0.000e+00</td><td>3.000e+00</td></tr>\n",
       "<tr><td>toluene</td><td>Cells</td><td>int64</td><td>1</td><td>0.000e+00</td><td>2.000e+00</td></tr>\n",
       "</table>\n",
       "\n",
       "</td></tr> </table>"
      ],
      "text/plain": [
       "PolyData (0x7fc51fd96040)\n",
       "  N Cells:\t312\n",
       "  N Points:\t1200\n",
       "  X Bounds:\t-1.248e+00, 1.248e+00\n",
       "  Y Bounds:\t-1.250e+00, 1.250e+00\n",
       "  Z Bounds:\t-3.000e+00, 1.000e+01\n",
       "  N Arrays:\t5"
      ]
     },
     "execution_count": 12,
     "metadata": {},
     "output_type": "execute_result"
    }
   ],
   "source": [
    "print(type(bh3d_1._vtk), type(bh3d_1))\n",
    "bh3d_1._vtk"
   ]
  },
  {
   "cell_type": "markdown",
   "id": "3312a46f",
   "metadata": {},
   "source": [
    "## Checkings"
   ]
  },
  {
   "cell_type": "code",
   "execution_count": 13,
   "id": "22694736",
   "metadata": {},
   "outputs": [],
   "source": [
    "bh = 0"
   ]
  },
  {
   "cell_type": "code",
   "execution_count": 14,
   "id": "b547e219",
   "metadata": {
    "scrolled": false
   },
   "outputs": [
    {
     "data": {
      "text/plain": [
       "{'lithology': [Component({'lithology': 'sable'}),\n",
       "  Component({'lithology': 'remblai'}),\n",
       "  Component({'lithology': 'schiste'}),\n",
       "  Component({'lithology': 'Inconnu'}),\n",
       "  Component({'lithology': 'calcaire'}),\n",
       "  Component({'lithology': 'schiste'})],\n",
       " 'benzene': [Component({'benzene': 'VS', 'Type': 'Sol'}),\n",
       "  Component({'benzene': 'Inconnu'}),\n",
       "  Component({'benzene': 'Inconnu'}),\n",
       "  Component({'benzene': 'VI'}),\n",
       "  Component({'benzene': 'VR'}),\n",
       "  Component({'benzene': 'Inconnu'})],\n",
       " 'toluene': [Component({'toluene': 'Inconnu'}),\n",
       "  Component({'toluene': 'Inconnu'}),\n",
       "  Component({'toluene': 'VS', 'Type': 'Sol'}),\n",
       "  Component({'toluene': 'Inconnu'}),\n",
       "  Component({'toluene': 'Inconnu'}),\n",
       "  Component({'toluene': 'VR'})]}"
      ]
     },
     "execution_count": 14,
     "metadata": {},
     "output_type": "execute_result"
    }
   ],
   "source": [
    "bh3d_list[bh].get_attrib_components_dict(verbose=verbose)"
   ]
  },
  {
   "cell_type": "code",
   "execution_count": 15,
   "id": "a3e78c05",
   "metadata": {},
   "outputs": [
    {
     "data": {
      "text/plain": [
       "{0: [Component({'lithology': 'sable'}),\n",
       "  Component({'lithology': 'remblais'}),\n",
       "  Component({'benzene': 'VS', 'Type': 'Sol'}),\n",
       "  Component({'toluene': 'Inconnu'})],\n",
       " 1: [Component({'lithology': 'remblai'}),\n",
       "  Component({'benzene': 'Inconnu'}),\n",
       "  Component({'toluene': 'Inconnu'})],\n",
       " 2: [Component({'toluene': 'VS', 'Type': 'Sol'}),\n",
       "  Component({'lithology': 'schiste'}),\n",
       "  Component({'benzene': 'Inconnu'})],\n",
       " 3: [Component({'benzene': 'VI'}),\n",
       "  Component({'lithology': 'Inconnu'}),\n",
       "  Component({'toluene': 'Inconnu'})],\n",
       " 4: [Component({'lithology': 'calcaire'}),\n",
       "  Component({'benzene': 'VR'}),\n",
       "  Component({'toluene': 'Inconnu'})],\n",
       " 5: [Component({'lithology': 'schiste'}),\n",
       "  Component({'toluene': 'VR'}),\n",
       "  Component({'benzene': 'Inconnu'})]}"
      ]
     },
     "execution_count": 15,
     "metadata": {},
     "output_type": "execute_result"
    }
   ],
   "source": [
    "bh3d_list[bh].components"
   ]
  },
  {
   "cell_type": "code",
   "execution_count": 16,
   "id": "ced1a530",
   "metadata": {
    "scrolled": true
   },
   "outputs": [
    {
     "data": {
      "text/plain": [
       "[Component({'benzene': 'VS', 'Type': 'Sol'}),\n",
       " Component({'benzene': 'Inconnu'}),\n",
       " Component({'benzene': 'Inconnu'}),\n",
       " Component({'benzene': 'VI'}),\n",
       " Component({'benzene': 'VR'}),\n",
       " Component({'benzene': 'Inconnu'})]"
      ]
     },
     "execution_count": 16,
     "metadata": {},
     "output_type": "execute_result"
    }
   ],
   "source": [
    "bh3d_list[bh].attrib_components"
   ]
  },
  {
   "cell_type": "markdown",
   "id": "713ed26e",
   "metadata": {},
   "source": [
    "##### VTK tables"
   ]
  },
  {
   "cell_type": "code",
   "execution_count": 17,
   "id": "a74c62aa",
   "metadata": {},
   "outputs": [
    {
     "data": {
      "text/plain": [
       "'lithology'"
      ]
     },
     "execution_count": 17,
     "metadata": {},
     "output_type": "execute_result"
    }
   ],
   "source": [
    "a = 0\n",
    "attrib[a]"
   ]
  },
  {
   "cell_type": "code",
   "execution_count": 18,
   "id": "b58630f9",
   "metadata": {},
   "outputs": [
    {
     "data": {
      "text/html": [
       "<table><tr><th>Header</th><th>Data Arrays</th></tr><tr><td>\n",
       "<table>\n",
       "<tr><th>PolyData</th><th>Information</th></tr>\n",
       "<tr><td>N Cells</td><td>312</td></tr>\n",
       "<tr><td>N Points</td><td>1200</td></tr>\n",
       "<tr><td>X Bounds</td><td>-1.248e+00, 1.248e+00</td></tr>\n",
       "<tr><td>Y Bounds</td><td>-1.250e+00, 1.250e+00</td></tr>\n",
       "<tr><td>Z Bounds</td><td>-3.000e+00, 1.000e+01</td></tr>\n",
       "<tr><td>N Arrays</td><td>5</td></tr>\n",
       "</table>\n",
       "\n",
       "</td><td>\n",
       "<table>\n",
       "<tr><th>Name</th><th>Field</th><th>Type</th><th>N Comp</th><th>Min</th><th>Max</th></tr>\n",
       "<tr><td>TubeNormals</td><td>Points</td><td>float32</td><td>3</td><td>-1.000e+00</td><td>1.000e+00</td></tr>\n",
       "<tr><td>Line Index</td><td>Cells</td><td>int64</td><td>1</td><td>0.000e+00</td><td>5.000e+00</td></tr>\n",
       "<tr><td>lithology</td><td>Cells</td><td>int64</td><td>1</td><td>0.000e+00</td><td>4.000e+00</td></tr>\n",
       "<tr><td><b>benzene</b></td><td>Cells</td><td>int64</td><td>1</td><td>0.000e+00</td><td>3.000e+00</td></tr>\n",
       "<tr><td>toluene</td><td>Cells</td><td>int64</td><td>1</td><td>0.000e+00</td><td>2.000e+00</td></tr>\n",
       "</table>\n",
       "\n",
       "</td></tr> </table>"
      ],
      "text/plain": [
       "PolyData (0x7fc51fd96040)\n",
       "  N Cells:\t312\n",
       "  N Points:\t1200\n",
       "  X Bounds:\t-1.248e+00, 1.248e+00\n",
       "  Y Bounds:\t-1.250e+00, 1.250e+00\n",
       "  Z Bounds:\t-3.000e+00, 1.000e+01\n",
       "  N Arrays:\t5"
      ]
     },
     "execution_count": 18,
     "metadata": {},
     "output_type": "execute_result"
    }
   ],
   "source": [
    "vtk = bh3d_list[bh]._vtk\n",
    "vtk"
   ]
  },
  {
   "cell_type": "code",
   "execution_count": 19,
   "id": "19622ca4",
   "metadata": {},
   "outputs": [
    {
     "data": {
      "text/plain": [
       "((312,),\n",
       " array([0, 0, 0, 0, 0, 0, 0, 0, 0, 0, 0, 0, 0, 0, 0, 0, 0, 0, 0, 0, 0, 0,\n",
       "        0, 0, 0, 0, 0, 0, 0, 0, 0, 0, 0, 0, 0, 0, 0, 0, 0, 0, 0, 0, 0, 0,\n",
       "        0, 0, 0, 0, 0, 0, 0, 0, 1, 1, 1, 1, 1, 1, 1, 1, 1, 1, 1, 1, 1, 1,\n",
       "        1, 1, 1, 1, 1, 1, 1, 1, 1, 1, 1, 1, 1, 1, 1, 1, 1, 1, 1, 1, 1, 1,\n",
       "        1, 1, 1, 1, 1, 1, 1, 1, 1, 1, 1, 1, 1, 1, 1, 1, 2, 2, 2, 2, 2, 2,\n",
       "        2, 2, 2, 2, 2, 2, 2, 2, 2, 2, 2, 2, 2, 2, 2, 2, 2, 2, 2, 2, 2, 2,\n",
       "        2, 2, 2, 2, 2, 2, 2, 2, 2, 2, 2, 2, 2, 2, 2, 2, 2, 2, 2, 2, 2, 2,\n",
       "        2, 2, 3, 3, 3, 3, 3, 3, 3, 3, 3, 3, 3, 3, 3, 3, 3, 3, 3, 3, 3, 3,\n",
       "        3, 3, 3, 3, 3, 3, 3, 3, 3, 3, 3, 3, 3, 3, 3, 3, 3, 3, 3, 3, 3, 3,\n",
       "        3, 3, 3, 3, 3, 3, 3, 3, 3, 3, 4, 4, 4, 4, 4, 4, 4, 4, 4, 4, 4, 4,\n",
       "        4, 4, 4, 4, 4, 4, 4, 4, 4, 4, 4, 4, 4, 4, 4, 4, 4, 4, 4, 4, 4, 4,\n",
       "        4, 4, 4, 4, 4, 4, 4, 4, 4, 4, 4, 4, 4, 4, 4, 4, 4, 4, 2, 2, 2, 2,\n",
       "        2, 2, 2, 2, 2, 2, 2, 2, 2, 2, 2, 2, 2, 2, 2, 2, 2, 2, 2, 2, 2, 2,\n",
       "        2, 2, 2, 2, 2, 2, 2, 2, 2, 2, 2, 2, 2, 2, 2, 2, 2, 2, 2, 2, 2, 2,\n",
       "        2, 2, 2, 2]))"
      ]
     },
     "execution_count": 19,
     "metadata": {},
     "output_type": "execute_result"
    }
   ],
   "source": [
    "vtk[attrib[a]].shape, vtk[attrib[a]]"
   ]
  },
  {
   "cell_type": "code",
   "execution_count": 20,
   "id": "2ab2a685",
   "metadata": {},
   "outputs": [
    {
     "data": {
      "text/plain": [
       "'lithology'"
      ]
     },
     "execution_count": 20,
     "metadata": {},
     "output_type": "execute_result"
    }
   ],
   "source": [
    "bh3d_list[bh].geometry.data[0].name #.array"
   ]
  },
  {
   "cell_type": "code",
   "execution_count": 21,
   "id": "22e3054f",
   "metadata": {},
   "outputs": [
    {
     "data": {
      "text/plain": [
       "[0, 1, 2, 3, 4, 2]"
      ]
     },
     "execution_count": 21,
     "metadata": {},
     "output_type": "execute_result"
    }
   ],
   "source": [
    "bh3d_list[bh].geometry.data[0].array.array.tolist()"
   ]
  },
  {
   "cell_type": "raw",
   "id": "85d88dbf",
   "metadata": {},
   "source": [
    "lithology [0 : 'remblais', 1 : 'limon', 2 : 'schistes', 3 : 'sable', 4 : 'calcaire', 5 : 'inconnu']\n",
    "\n",
    "Toluene [0 : 'VR', 1 : 'Inconnu', 2 : 'VS', 3 : 'VI']"
   ]
  },
  {
   "cell_type": "markdown",
   "id": "16fed775",
   "metadata": {},
   "source": [
    "## 2D/3D display"
   ]
  },
  {
   "cell_type": "markdown",
   "id": "3cff8343",
   "metadata": {},
   "source": [
    "### Borehole #1"
   ]
  },
  {
   "cell_type": "code",
   "execution_count": 22,
   "id": "670c3421",
   "metadata": {},
   "outputs": [],
   "source": [
    "bh = 0\n",
    "a = 0"
   ]
  },
  {
   "cell_type": "code",
   "execution_count": 23,
   "id": "d46a4260",
   "metadata": {},
   "outputs": [
    {
     "data": {
      "text/html": [
       "<table><tr><th>component</th><th>width</th><th>colour</th><th>hatch</th></tr><tr><td style=\"color:black; background-color:white\"><table><tr><td><strong>lithology</strong></td><td>sable</td></tr></table></td><td style=\"color:black; background-color:white\">3</td><td style=\"color:#000000; background-color:#ffcb23\">#ffcb23</td><td style=\"color:black; background-color:white\">'..'</td></tr><tr><td style=\"color:black; background-color:white\"><table><tr><td><strong>lithology</strong></td><td>remblai</td></tr></table></td><td style=\"color:black; background-color:white\">3</td><td style=\"color:#000000; background-color:#d3b798\">#d3b798</td><td style=\"color:black; background-color:white\">'v'</td></tr><tr><td style=\"color:black; background-color:white\"><table><tr><td><strong>lithology</strong></td><td>schiste</td></tr></table></td><td style=\"color:black; background-color:white\">3</td><td style=\"color:#000000; background-color:#bbffdd\">#bbffdd</td><td style=\"color:black; background-color:white\">'--'</td></tr><tr><td style=\"color:black; background-color:white\"><table><tr><td><strong>lithology</strong></td><td>Inconnu</td></tr></table></td><td style=\"color:black; background-color:white\">3</td><td style=\"color:#000000; background-color:#ffffff\">#ffffff</td><td style=\"color:black; background-color:white\">None</td></tr><tr><td style=\"color:black; background-color:white\"><table><tr><td><strong>lithology</strong></td><td>calcaire</td></tr></table></td><td style=\"color:black; background-color:white\">3</td><td style=\"color:#000000; background-color:#149eff\">#149eff</td><td style=\"color:black; background-color:white\">'='</td></tr></table>"
      ],
      "text/plain": [
       "Legend(Decor({'_colour': '#ffcb23', 'width': 3, 'hatch': \"'..'\", 'component': Component({'lithology': 'sable'})})\n",
       "Decor({'_colour': '#d3b798', 'width': 3, 'hatch': \"'v'\", 'component': Component({'lithology': 'remblai'})})\n",
       "Decor({'_colour': '#bbffdd', 'width': 3, 'hatch': \"'--'\", 'component': Component({'lithology': 'schiste'})})\n",
       "Decor({'_colour': '#ffffff', 'width': 3, 'hatch': None, 'component': Component({'lithology': 'Inconnu'})})\n",
       "Decor({'_colour': '#149eff', 'width': 3, 'hatch': \"'='\", 'component': Component({'lithology': 'calcaire'})}))"
      ]
     },
     "execution_count": 23,
     "metadata": {},
     "output_type": "execute_result"
    }
   ],
   "source": [
    "bh3d_list[bh].legend_dict[attrib[a]]['legend']"
   ]
  },
  {
   "cell_type": "code",
   "execution_count": 24,
   "id": "3cfd7951",
   "metadata": {},
   "outputs": [
    {
     "data": {
      "image/png": "[encoded data removed]",
      "text/html": [
       "<div style=\"vertical-align: middle;\"><strong>from_list</strong> </div><div class=\"cmap\"><img alt=\"from_list colormap\" title=\"from_list\" style=\"border: 1px solid #555;\" src=\"data:image/png;base64,iVBORw0KGgoAAAANSUhEUgAAAgAAAABACAYAAABsv8+/AAAAGHRFWHRUaXRsZQBmcm9tX2xpc3QgY29sb3JtYXBDL89FAAAAHnRFWHREZXNjcmlwdGlvbgBmcm9tX2xpc3QgY29sb3JtYXABtCnOAAAAMHRFWHRBdXRob3IATWF0cGxvdGxpYiB2My40LjIsIGh0dHBzOi8vbWF0cGxvdGxpYi5vcmes1mPdAAAAMnRFWHRTb2Z0d2FyZQBNYXRwbG90bGliIHYzLjQuMiwgaHR0cHM6Ly9tYXRwbG90bGliLm9yZ4Jw/PoAAAFNSURBVHic7dZBDcJAAADBgocaACuQ1BB6EMQXETzwUAwcX45kZxTscw/747wv/KXn+zY7gYHXdp2dwMBlOc1OYGC9zy7gm+PsAADg9wwAAAQZAAAIMgAAEGQAACDIAABAkAEAgCADAABBBgAAggwAAAQZAAAIMgAAEGQAACDIAABAkAEAgCADAABBBgAAggwAAAQZAAAIMgAAEGQAACDIAABAkAEAgCADAABBBgAAggwAAAQZAAAIMgAAEGQAACDIAABAkAEAgCADAABBBgAAggwAAAQZAAAIMgAAEGQAACDIAABAkAEAgCADAABBBgAAggwAAAQZAAAIMgAAEGQAACDIAABAkAEAgCADAABBBgAAggwAAAQZAAAIMgAAEGQAACDIAABAkAEAgCADAABBBgAAggwAAAQZAAAIMgAAEGQAACDIAABAkAEAgKAPOtkIMA4hVCUAAAAASUVORK5CYII=\"></div><div style=\"vertical-align: middle; max-width: 514px; display: flex; justify-content: space-between;\"><div style=\"float: left;\"><div title=\"#ffcb23ff\" style=\"display: inline-block; width: 1em; height: 1em; margin: 0; vertical-align: middle; border: 1px solid #555; background-color: #ffcb23ff;\"></div> under</div><div style=\"margin: 0 auto; display: inline-block;\">bad <div title=\"#00000000\" style=\"display: inline-block; width: 1em; height: 1em; margin: 0; vertical-align: middle; border: 1px solid #555; background-color: #00000000;\"></div></div><div style=\"float: right;\">over <div title=\"#149effff\" style=\"display: inline-block; width: 1em; height: 1em; margin: 0; vertical-align: middle; border: 1px solid #555; background-color: #149effff;\"></div></div>"
      ],
      "text/plain": [
       "<matplotlib.colors.ListedColormap at 0x7fc51fd777f0>"
      ]
     },
     "execution_count": 24,
     "metadata": {},
     "output_type": "execute_result"
    }
   ],
   "source": [
    "bh3d_list[bh].legend_dict[attrib[a]]['cmap']"
   ]
  },
  {
   "cell_type": "code",
   "execution_count": 25,
   "id": "c6bf9ba3",
   "metadata": {
    "scrolled": false
   },
   "outputs": [
    {
     "name": "stderr",
     "output_type": "stream",
     "text": [
      "/home/yanathan/Projects/GSDMA/utils/visual.py:425: MatplotlibDeprecationWarning: hatch must consist of a string of \"*+-./OX\\ox|\" or None, but found the following invalid values \"'\". Passing invalid values is deprecated since 3.4 and will become an error two minor releases later.\n",
      "  rect = mpl.patches.Rectangle(origin, w, thick, fc=fc, lw=lw, hatch=d.hatch,\n",
      "/home/yanathan/Projects/GSDMA/utils/visual.py:425: MatplotlibDeprecationWarning: hatch must consist of a string of \"*+-./OX\\ox|\" or None, but found the following invalid values \"'v\". Passing invalid values is deprecated since 3.4 and will become an error two minor releases later.\n",
      "  rect = mpl.patches.Rectangle(origin, w, thick, fc=fc, lw=lw, hatch=d.hatch,\n",
      "/home/yanathan/Projects/GSDMA/utils/visual.py:425: MatplotlibDeprecationWarning: hatch must consist of a string of \"*+-./OX\\ox|\" or None, but found the following invalid values \"'=\". Passing invalid values is deprecated since 3.4 and will become an error two minor releases later.\n",
      "  rect = mpl.patches.Rectangle(origin, w, thick, fc=fc, lw=lw, hatch=d.hatch,\n",
      "/home/yanathan/.local/share/virtualenvs/GSDMA-DRfwm83x/lib/python3.8/site-packages/striplog/legend.py:311: MatplotlibDeprecationWarning: hatch must consist of a string of \"*+-./OX\\ox|\" or None, but found the following invalid values \"'=\". Passing invalid values is deprecated since 3.4 and will become an error two minor releases later.\n",
      "  rect1 = patches.Rectangle((0, 0),\n",
      "/home/yanathan/.local/share/virtualenvs/GSDMA-DRfwm83x/lib/python3.8/site-packages/striplog/legend.py:311: MatplotlibDeprecationWarning: hatch must consist of a string of \"*+-./OX\\ox|\" or None, but found the following invalid values \"'\". Passing invalid values is deprecated since 3.4 and will become an error two minor releases later.\n",
      "  rect1 = patches.Rectangle((0, 0),\n",
      "/home/yanathan/.local/share/virtualenvs/GSDMA-DRfwm83x/lib/python3.8/site-packages/striplog/legend.py:311: MatplotlibDeprecationWarning: hatch must consist of a string of \"*+-./OX\\ox|\" or None, but found the following invalid values \"'v\". Passing invalid values is deprecated since 3.4 and will become an error two minor releases later.\n",
      "  rect1 = patches.Rectangle((0, 0),\n"
     ]
    },
    {
     "data": {
      "image/png": "[encoded data removed]",
      "text/plain": [
       "<Figure size 432x432 with 7 Axes>"
      ]
     },
     "metadata": {
      "needs_background": "light"
     },
     "output_type": "display_data"
    }
   ],
   "source": [
    "bh3d_list[bh].log_plot(repr_attribute=attrib[a])"
   ]
  },
  {
   "cell_type": "code",
   "execution_count": 26,
   "id": "df7ab2fa",
   "metadata": {},
   "outputs": [
    {
     "data": {
      "application/vnd.jupyter.widget-view+json": {
       "model_id": "6411bdddee6c4fe09f65dc65abc985d8",
       "version_major": 2,
       "version_minor": 0
      },
      "text/plain": [
       "ViewInteractiveWidget(height=768, layout=Layout(height='auto', width='100%'), width=1024)"
      ]
     },
     "metadata": {},
     "output_type": "display_data"
    }
   ],
   "source": [
    "bh3d_list[bh].plot3d(repr_attribute=attrib[a], str_annotations=True, custom_legend=False)"
   ]
  },
  {
   "cell_type": "code",
   "execution_count": 27,
   "id": "38d17146",
   "metadata": {
    "scrolled": false
   },
   "outputs": [
    {
     "data": {
      "application/vnd.jupyter.widget-view+json": {
       "model_id": "114b662ef0e9458c8bcb3a6cb2847dd3",
       "version_major": 2,
       "version_minor": 0
      },
      "text/plain": [
       "ViewInteractiveWidget(height=768, layout=Layout(height='auto', width='100%'), width=1024)"
      ]
     },
     "metadata": {},
     "output_type": "display_data"
    }
   ],
   "source": [
    "bh3d_list[bh].plot3d(repr_attribute=attrib[a+1], str_annotations=True, custom_legend=False)"
   ]
  },
  {
   "cell_type": "code",
   "execution_count": 28,
   "id": "2781dbd4",
   "metadata": {
    "scrolled": false
   },
   "outputs": [
    {
     "data": {
      "application/vnd.jupyter.widget-view+json": {
       "model_id": "ad66a92310c541ae9be92ae907f48d65",
       "version_major": 2,
       "version_minor": 0
      },
      "text/plain": [
       "ViewInteractiveWidget(height=768, layout=Layout(height='auto', width='100%'), width=1024)"
      ]
     },
     "metadata": {},
     "output_type": "display_data"
    }
   ],
   "source": [
    "bh3d_list[bh].plot3d(repr_attribute=attrib[a+2], str_annotations=True, custom_legend=False)"
   ]
  },
  {
   "cell_type": "markdown",
   "id": "28d66172",
   "metadata": {},
   "source": [
    "## Build several boreholes legend/cmap (for a project) test"
   ]
  },
  {
   "cell_type": "code",
   "execution_count": 29,
   "id": "6890cefc",
   "metadata": {
    "scrolled": false
   },
   "outputs": [],
   "source": [
    "synth_leg_dict, detail_leg_dict = build_bh3d_legend_cmap(bh3d_list, legend_dict=leg_dict, \n",
    "                                                         repr_attrib_list=['lithology', 'pollutant'], \n",
    "                                                         compute_all=True, verbose=verbose)"
   ]
  },
  {
   "cell_type": "code",
   "execution_count": 30,
   "id": "51d1a0b1",
   "metadata": {},
   "outputs": [
    {
     "data": {
      "text/html": [
       "<table><tr><th>width</th><th>colour</th><th>component</th><th>hatch</th></tr><tr><td style=\"color:black; background-color:white\">3</td><td style=\"color:#000000; background-color:#ffa500\">#ffa500</td><td style=\"color:black; background-color:white\"><table><tr><td><strong>benzene</strong></td><td>VS</td></tr></table></td><td style=\"color:black; background-color:white\">None</td></tr><tr><td style=\"color:black; background-color:white\">3</td><td style=\"color:#000000; background-color:#ffffff\">#ffffff</td><td style=\"color:black; background-color:white\"><table><tr><td><strong>benzene</strong></td><td>Inconnu</td></tr></table></td><td style=\"color:black; background-color:white\">None</td></tr><tr><td style=\"color:black; background-color:white\">3</td><td style=\"color:#ffffff; background-color:#ff0000\">#ff0000</td><td style=\"color:black; background-color:white\"><table><tr><td><strong>benzene</strong></td><td>VI</td></tr></table></td><td style=\"color:black; background-color:white\">None</td></tr><tr><td style=\"color:black; background-color:white\">3</td><td style=\"color:#000000; background-color:#00ff00\">#00ff00</td><td style=\"color:black; background-color:white\"><table><tr><td><strong>benzene</strong></td><td>VR</td></tr></table></td><td style=\"color:black; background-color:white\">None</td></tr></table>"
      ],
      "text/plain": [
       "Legend(Decor({'_colour': '#ffa500', 'width': 3, 'component': Component({'benzene': 'VS'}), 'hatch': None})\n",
       "Decor({'_colour': '#ffffff', 'width': 3, 'component': Component({'benzene': 'Inconnu'}), 'hatch': None})\n",
       "Decor({'_colour': '#ff0000', 'width': 3, 'component': Component({'benzene': 'VI'}), 'hatch': None})\n",
       "Decor({'_colour': '#00ff00', 'width': 3, 'component': Component({'benzene': 'VR'}), 'hatch': None}))"
      ]
     },
     "execution_count": 30,
     "metadata": {},
     "output_type": "execute_result"
    }
   ],
   "source": [
    "b = 1\n",
    "synth_leg_dict[attrib[b]]['legend']"
   ]
  },
  {
   "cell_type": "code",
   "execution_count": 31,
   "id": "57f526be",
   "metadata": {},
   "outputs": [
    {
     "data": {
      "image/png": "[encoded data removed]",
      "text/html": [
       "<div style=\"vertical-align: middle;\"><strong>from_list</strong> </div><div class=\"cmap\"><img alt=\"from_list colormap\" title=\"from_list\" style=\"border: 1px solid #555;\" src=\"data:image/png;base64,iVBORw0KGgoAAAANSUhEUgAAAgAAAABACAYAAABsv8+/AAAAGHRFWHRUaXRsZQBmcm9tX2xpc3QgY29sb3JtYXBDL89FAAAAHnRFWHREZXNjcmlwdGlvbgBmcm9tX2xpc3QgY29sb3JtYXABtCnOAAAAMHRFWHRBdXRob3IATWF0cGxvdGxpYiB2My40LjIsIGh0dHBzOi8vbWF0cGxvdGxpYi5vcmes1mPdAAAAMnRFWHRTb2Z0d2FyZQBNYXRwbG90bGliIHYzLjQuMiwgaHR0cHM6Ly9tYXRwbG90bGliLm9yZ4Jw/PoAAAE1SURBVHic7dZBDcAwDATBuDDLrzhTFsljZxCcZFna2d/ai67X+dNmbi/govH+ac/tAQDAeQIAAIIEAAAECQAACBIAABAkAAAgSAAAQJAAAIAgAQAAQQIAAIIEAAAECQAACBIAABAkAAAgSAAAQJAAAIAgAQAAQQIAAIIEAAAECQAACBIAABAkAAAgSAAAQJAAAIAgAQAAQQIAAIIEAAAECQAACBIAABAkAAAgSAAAQJAAAIAgAQAAQQIAAIIEAAAECQAACBIAABAkAAAgSAAAQJAAAIAgAQAAQQIAAIIEAAAECQAACBIAABAkAAAgSAAAQJAAAIAgAQAAQQIAAIIEAAAECQAACBIAABAkAAAgSAAAQJAAAIAgAQAAQQIAAIIEAAAECQAACBIAABAkAAAgSAAAQNAPJr8FfvrREkcAAAAASUVORK5CYII=\"></div><div style=\"vertical-align: middle; max-width: 514px; display: flex; justify-content: space-between;\"><div style=\"float: left;\"><div title=\"#ffa500ff\" style=\"display: inline-block; width: 1em; height: 1em; margin: 0; vertical-align: middle; border: 1px solid #555; background-color: #ffa500ff;\"></div> under</div><div style=\"margin: 0 auto; display: inline-block;\">bad <div title=\"#00000000\" style=\"display: inline-block; width: 1em; height: 1em; margin: 0; vertical-align: middle; border: 1px solid #555; background-color: #00000000;\"></div></div><div style=\"float: right;\">over <div title=\"#00ff00ff\" style=\"display: inline-block; width: 1em; height: 1em; margin: 0; vertical-align: middle; border: 1px solid #555; background-color: #00ff00ff;\"></div></div>"
      ],
      "text/plain": [
       "<matplotlib.colors.ListedColormap at 0x7fc58a0d1460>"
      ]
     },
     "execution_count": 31,
     "metadata": {},
     "output_type": "execute_result"
    }
   ],
   "source": [
    "synth_leg_dict[attrib[b]]['cmap']"
   ]
  },
  {
   "cell_type": "code",
   "execution_count": null,
   "id": "abba0d8b",
   "metadata": {},
   "outputs": [],
   "source": []
  }
 ],
 "metadata": {
  "kernelspec": {
   "display_name": "Python 3 (ipykernel)",
   "language": "python",
   "name": "python3"
  },
  "language_info": {
   "codemirror_mode": {
    "name": "ipython",
    "version": 3
   },
   "file_extension": ".py",
   "mimetype": "text/x-python",
   "name": "python",
   "nbconvert_exporter": "python",
   "pygments_lexer": "ipython3",
   "version": "3.8.10"
  }
 },
 "nbformat": 4,
 "nbformat_minor": 5
}
