{
 "cells": [
  {
   "cell_type": "markdown",
   "id": "38bb9500",
   "metadata": {},
   "source": [
    "# Samples representation"
   ]
  },
  {
   "cell_type": "markdown",
   "id": "b89ee4ce",
   "metadata": {},
   "source": [
    "## Imports "
   ]
  },
  {
   "cell_type": "code",
   "execution_count": 1,
   "id": "5f8c8285",
   "metadata": {},
   "outputs": [
    {
     "name": "stderr",
     "output_type": "stream",
     "text": [
      "/home/yanathan/.local/share/virtualenvs/GSDMA-DRfwm83x/lib/python3.8/site-packages/striplog/legend.py:687: UserWarning: This legend contains duplicate components.\n",
      "  warnings.warn(w)\n",
      "/home/yanathan/.local/share/virtualenvs/GSDMA-DRfwm83x/lib/python3.8/site-packages/striplog/legend.py:687: UserWarning: This legend contains duplicate components.\n",
      "  warnings.warn(w)\n"
     ]
    }
   ],
   "source": [
    "from striplog import Component, Lexicon, Legend, Interval, Position, Decor\n",
    "from core.omf import Borehole3D\n",
    "from utils.lexicon.lexicon_fr import pollutant_memoris, lithology_memoris\n",
    "import random\n",
    "import pandas as pd"
   ]
  },
  {
   "cell_type": "markdown",
   "id": "0f6a204f",
   "metadata": {},
   "source": [
    "## Creation of Borehole3D objects"
   ]
  },
  {
   "cell_type": "code",
   "execution_count": 2,
   "id": "1205aef1",
   "metadata": {},
   "outputs": [],
   "source": [
    "samples = [Component({'lithology': 'remblais', 'pollutant':'VR'}),\n",
    "              Component({'lithology': 'limon', 'pollutant':'VI'}),\n",
    "              Component({'lithology': 'schistes', 'pollutant':'VS'}),\n",
    "              Component({'lithology': 'sable', 'pollutant':'VR'}),\n",
    "              Component({'lithology': 'inconnu', 'pollutant':'VI'})]"
   ]
  },
  {
   "cell_type": "code",
   "execution_count": 3,
   "id": "243d74f8",
   "metadata": {},
   "outputs": [],
   "source": [
    "extra_components = [Component({'lithology': 'marnes', 'pollutant':'VS'}),\n",
    "                    Component({'lithology': 'calcaires', 'pollutant':'VS'})]"
   ]
  },
  {
   "cell_type": "code",
   "execution_count": 4,
   "id": "23fdfe5a",
   "metadata": {},
   "outputs": [],
   "source": [
    "samples_intervals = [Interval(top=0, base=2, components=[samples[0]], data={'Naphtalene':50}),\n",
    "                     Interval(top=2, base=3, components=[samples[1]], data={'Benzene': {'value': 1.52, 'units': 'µg/l'}}),\n",
    "                     Interval(top=3, base=6, components=[samples[2]]),\n",
    "                     Interval(top=6, base=8, components=[samples[3]]),\n",
    "                     Interval(top=8, base=10, components=[samples[4]])]"
   ]
  },
  {
   "cell_type": "code",
   "execution_count": 5,
   "id": "5890fb70",
   "metadata": {},
   "outputs": [],
   "source": [
    "extra_intervals = [Interval(top=10, base=13, components=[extra_components[0]], data={'Naphtalène':100}),\n",
    "                     Interval(top=13, base=15, components=[extra_components[1]]),]"
   ]
  },
  {
   "cell_type": "code",
   "execution_count": 6,
   "id": "ff0c4105",
   "metadata": {},
   "outputs": [],
   "source": [
    "leg_dict = {'lithology':{'legend': lithology_memoris}, 'pollutant':{'legend': pollutant_memoris}}"
   ]
  },
  {
   "cell_type": "code",
   "execution_count": 7,
   "id": "64473377",
   "metadata": {
    "scrolled": false
   },
   "outputs": [
    {
     "name": "stdout",
     "output_type": "stream",
     "text": [
      "Borehole geometry created successfully !\n"
     ]
    }
   ],
   "source": [
    "bh3d = Borehole3D(name='BH_1', intervals=samples_intervals, legend_dict=leg_dict, length=10, )"
   ]
  },
  {
   "cell_type": "code",
   "execution_count": 8,
   "id": "d5d357f0",
   "metadata": {},
   "outputs": [
    {
     "data": {
      "text/plain": [
       "{'value': 1.52, 'units': 'µg/l'}"
      ]
     },
     "execution_count": 8,
     "metadata": {},
     "output_type": "execute_result"
    }
   ],
   "source": [
    "bh3d.intervals[1].data['Benzene']"
   ]
  },
  {
   "cell_type": "code",
   "execution_count": 9,
   "id": "06ef1a8d",
   "metadata": {},
   "outputs": [
    {
     "name": "stdout",
     "output_type": "stream",
     "text": [
      "Borehole geometry created successfully !\n"
     ]
    }
   ],
   "source": [
    "bh3d_2 = Borehole3D(name='BH_2', intervals=samples_intervals+extra_intervals, legend_dict=leg_dict, length=15, )"
   ]
  },
  {
   "cell_type": "code",
   "execution_count": 10,
   "id": "dda94641",
   "metadata": {},
   "outputs": [],
   "source": [
    "s = [Component({'lithology': 'remblais', 'pollutant':'VR'}), \n",
    "     Component({'lithology': 'limon', 'pollutant':'VI'}),\n",
    "     Component({'lithology': 'sable', 'pollutant':'VR'}),]\n",
    "\n",
    "s_intv = [Interval(top=0, base=2, components=[s[0]], data={'Naphtalene':50}),\n",
    "          Interval(top=2, base=3, components=[s[1]], data={'Benzene': {'value': 1.52, 'units': 'µg/l'}}),\n",
    "          Interval(top=3, base=6, components=[s[2]]),]"
   ]
  },
  {
   "cell_type": "code",
   "execution_count": 11,
   "id": "2e3d35e1",
   "metadata": {},
   "outputs": [
    {
     "name": "stdout",
     "output_type": "stream",
     "text": [
      "Borehole geometry created successfully !\n"
     ]
    }
   ],
   "source": [
    "bh3d_3 = Borehole3D(name='BH_3', intervals=s_intv, legend_dict=leg_dict, length=6, )"
   ]
  },
  {
   "cell_type": "code",
   "execution_count": 12,
   "id": "2fc807e5",
   "metadata": {},
   "outputs": [
    {
     "data": {
      "text/plain": [
       "0.0"
      ]
     },
     "execution_count": 12,
     "metadata": {},
     "output_type": "execute_result"
    }
   ],
   "source": [
    "bh3d.intervals[0].top.middle"
   ]
  },
  {
   "cell_type": "markdown",
   "id": "59dd2c04",
   "metadata": {},
   "source": [
    "## Legend and cmap plotting"
   ]
  },
  {
   "cell_type": "code",
   "execution_count": 13,
   "id": "842df66a",
   "metadata": {},
   "outputs": [],
   "source": [
    "attrib = ['lithology', 'pollutant']"
   ]
  },
  {
   "cell_type": "code",
   "execution_count": 14,
   "id": "570a3ef5",
   "metadata": {},
   "outputs": [
    {
     "data": {
      "image/png": "[encoded data removed]",
      "text/html": [
       "<div style=\"vertical-align: middle;\"><strong>from_list</strong> </div><div class=\"cmap\"><img alt=\"from_list colormap\" title=\"from_list\" style=\"border: 1px solid #555;\" src=\"data:image/png;base64,iVBORw0KGgoAAAANSUhEUgAAAgAAAABACAYAAABsv8+/AAAAGHRFWHRUaXRsZQBmcm9tX2xpc3QgY29sb3JtYXBDL89FAAAAHnRFWHREZXNjcmlwdGlvbgBmcm9tX2xpc3QgY29sb3JtYXABtCnOAAAAMHRFWHRBdXRob3IATWF0cGxvdGxpYiB2My40LjIsIGh0dHBzOi8vbWF0cGxvdGxpYi5vcmes1mPdAAAAMnRFWHRTb2Z0d2FyZQBNYXRwbG90bGliIHYzLjQuMiwgaHR0cHM6Ly9tYXRwbG90bGliLm9yZ4Jw/PoAAAFPSURBVHic7dbBDUFBAABR1KSCH1GTUkQB/6IATThIXPVCA+tqJfNeBXOc7fN2fm/4S+vjMjuBgeV0nZ3AwOF+nJ3AyP41u4AvdrMDAIDfMwAAEGQAACDIAABAkAEAgCADAABBBgAAggwAAAQZAAAIMgAAEGQAACDIAABAkAEAgCADAABBBgAAggwAAAQZAAAIMgAAEGQAACDIAABAkAEAgCADAABBBgAAggwAAAQZAAAIMgAAEGQAACDIAABAkAEAgCADAABBBgAAggwAAAQZAAAIMgAAEGQAACDIAABAkAEAgCADAABBBgAAggwAAAQZAAAIMgAAEGQAACDIAABAkAEAgCADAABBBgAAggwAAAQZAAAIMgAAEGQAACDIAABAkAEAgCADAABBBgAAggwAAAQZAAAIMgAAEGQAACDIAABAkAEAgCADAABBBgAAgj5SVgl8+AKKkQAAAABJRU5ErkJggg==\"></div><div style=\"vertical-align: middle; max-width: 514px; display: flex; justify-content: space-between;\"><div style=\"float: left;\"><div title=\"#d3b798ff\" style=\"display: inline-block; width: 1em; height: 1em; margin: 0; vertical-align: middle; border: 1px solid #555; background-color: #d3b798ff;\"></div> under</div><div style=\"margin: 0 auto; display: inline-block;\">bad <div title=\"#00000000\" style=\"display: inline-block; width: 1em; height: 1em; margin: 0; vertical-align: middle; border: 1px solid #555; background-color: #00000000;\"></div></div><div style=\"float: right;\">over <div title=\"#ffffffff\" style=\"display: inline-block; width: 1em; height: 1em; margin: 0; vertical-align: middle; border: 1px solid #555; background-color: #ffffffff;\"></div></div>"
      ],
      "text/plain": [
       "<matplotlib.colors.ListedColormap at 0x7f4f6d0ca250>"
      ]
     },
     "execution_count": 14,
     "metadata": {},
     "output_type": "execute_result"
    }
   ],
   "source": [
    "bh3d.legend_dict[attrib[0]]['cmap']"
   ]
  },
  {
   "cell_type": "code",
   "execution_count": 15,
   "id": "6a17c2f6",
   "metadata": {},
   "outputs": [
    {
     "data": {
      "image/png": "[encoded data removed]",
      "text/html": [
       "<div style=\"vertical-align: middle;\"><strong>from_list</strong> </div><div class=\"cmap\"><img alt=\"from_list colormap\" title=\"from_list\" style=\"border: 1px solid #555;\" src=\"data:image/png;base64,iVBORw0KGgoAAAANSUhEUgAAAgAAAABACAYAAABsv8+/AAAAGHRFWHRUaXRsZQBmcm9tX2xpc3QgY29sb3JtYXBDL89FAAAAHnRFWHREZXNjcmlwdGlvbgBmcm9tX2xpc3QgY29sb3JtYXABtCnOAAAAMHRFWHRBdXRob3IATWF0cGxvdGxpYiB2My40LjIsIGh0dHBzOi8vbWF0cGxvdGxpYi5vcmes1mPdAAAAMnRFWHRTb2Z0d2FyZQBNYXRwbG90bGliIHYzLjQuMiwgaHR0cHM6Ly9tYXRwbG90bGliLm9yZ4Jw/PoAAAEySURBVHic7dZBEcAgAMAwmH8b08ks8ILbNVHQZ+dYYw34gTVvF8CG93YA7HluBwAA5xkAAAgyAAAQZAAAIMgAAECQAQCAIAMAAEEGAACCDAAABBkAAAgyAAAQZAAAIMgAAECQAQCAIAMAAEEGAACCDAAABBkAAAgyAAAQZAAAIMgAAECQAQCAIAMAAEEGAACCDAAABBkAAAgyAAAQZAAAIMgAAECQAQCAIAMAAEEGAACCDAAABBkAAAgyAAAQZAAAIMgAAECQAQCAIAMAAEEGAACCDAAABBkAAAgyAAAQZAAAIMgAAECQAQCAIAMAAEEGAACCDAAABBkAAAgyAAAQZAAAIMgAAECQAQCAIAMAAEEGAACCDAAABBkAAAgyAAAQZAAAIMgAAECQAQCAIAMAAEEfSgQEIzO3kjgAAAAASUVORK5CYII=\"></div><div style=\"vertical-align: middle; max-width: 514px; display: flex; justify-content: space-between;\"><div style=\"float: left;\"><div title=\"#00ff00ff\" style=\"display: inline-block; width: 1em; height: 1em; margin: 0; vertical-align: middle; border: 1px solid #555; background-color: #00ff00ff;\"></div> under</div><div style=\"margin: 0 auto; display: inline-block;\">bad <div title=\"#00000000\" style=\"display: inline-block; width: 1em; height: 1em; margin: 0; vertical-align: middle; border: 1px solid #555; background-color: #00000000;\"></div></div><div style=\"float: right;\">over <div title=\"#ffa500ff\" style=\"display: inline-block; width: 1em; height: 1em; margin: 0; vertical-align: middle; border: 1px solid #555; background-color: #ffa500ff;\"></div></div>"
      ],
      "text/plain": [
       "<matplotlib.colors.ListedColormap at 0x7f4f6d0bdee0>"
      ]
     },
     "execution_count": 15,
     "metadata": {},
     "output_type": "execute_result"
    }
   ],
   "source": [
    "bh3d.legend_dict[attrib[1]]['cmap']"
   ]
  },
  {
   "cell_type": "code",
   "execution_count": 16,
   "id": "316a6181",
   "metadata": {},
   "outputs": [
    {
     "data": {
      "image/png": "[encoded data removed]",
      "text/html": [
       "<div style=\"vertical-align: middle;\"><strong>from_list</strong> </div><div class=\"cmap\"><img alt=\"from_list colormap\" title=\"from_list\" style=\"border: 1px solid #555;\" src=\"data:image/png;base64,iVBORw0KGgoAAAANSUhEUgAAAgAAAABACAYAAABsv8+/AAAAGHRFWHRUaXRsZQBmcm9tX2xpc3QgY29sb3JtYXBDL89FAAAAHnRFWHREZXNjcmlwdGlvbgBmcm9tX2xpc3QgY29sb3JtYXABtCnOAAAAMHRFWHRBdXRob3IATWF0cGxvdGxpYiB2My40LjIsIGh0dHBzOi8vbWF0cGxvdGxpYi5vcmes1mPdAAAAMnRFWHRTb2Z0d2FyZQBNYXRwbG90bGliIHYzLjQuMiwgaHR0cHM6Ly9tYXRwbG90bGliLm9yZ4Jw/PoAAAFhSURBVHic7daxrYFhAEBRzGQCeVEbR2EQXvkKiRjAEgqJ1irCBsr3/XLPmeCWd36/7F8zPjrefkcnTN5qex6dMHk/1/XohOlbPkYXfIXd32l0wqQdnpvRCV9hMToAAPh/BgAAggwAAAQZAAAIMgAAEGQAACDIAABAkAEAgCADAABBBgAAggwAAAQZAAAIMgAAEGQAACDIAABAkAEAgCADAABBBgAAggwAAAQZAAAIMgAAEGQAACDIAABAkAEAgCADAABBBgAAggwAAAQZAAAIMgAAEGQAACDIAABAkAEAgCADAABBBgAAggwAAAQZAAAIMgAAEGQAACDIAABAkAEAgCADAABBBgAAggwAAAQZAAAIMgAAEGQAACDIAABAkAEAgCADAABBBgAAggwAAAQZAAAIMgAAEGQAACDIAABAkAEAgCADAABBBgAAggwAAAQZAAAIMgAAEGQAACDIAABA0BuDsg0p5IakkwAAAABJRU5ErkJggg==\"></div><div style=\"vertical-align: middle; max-width: 514px; display: flex; justify-content: space-between;\"><div style=\"float: left;\"><div title=\"#d3b798ff\" style=\"display: inline-block; width: 1em; height: 1em; margin: 0; vertical-align: middle; border: 1px solid #555; background-color: #d3b798ff;\"></div> under</div><div style=\"margin: 0 auto; display: inline-block;\">bad <div title=\"#00000000\" style=\"display: inline-block; width: 1em; height: 1em; margin: 0; vertical-align: middle; border: 1px solid #555; background-color: #00000000;\"></div></div><div style=\"float: right;\">over <div title=\"#149ef8ff\" style=\"display: inline-block; width: 1em; height: 1em; margin: 0; vertical-align: middle; border: 1px solid #555; background-color: #149ef8ff;\"></div></div>"
      ],
      "text/plain": [
       "<matplotlib.colors.ListedColormap at 0x7f4f6d17f610>"
      ]
     },
     "execution_count": 16,
     "metadata": {},
     "output_type": "execute_result"
    }
   ],
   "source": [
    "bh3d_2.legend_dict[attrib[0]]['cmap']"
   ]
  },
  {
   "cell_type": "code",
   "execution_count": 17,
   "id": "dfed6f46",
   "metadata": {},
   "outputs": [
    {
     "data": {
      "image/png": "[encoded data removed]",
      "text/html": [
       "<div style=\"vertical-align: middle;\"><strong>from_list</strong> </div><div class=\"cmap\"><img alt=\"from_list colormap\" title=\"from_list\" style=\"border: 1px solid #555;\" src=\"data:image/png;base64,iVBORw0KGgoAAAANSUhEUgAAAgAAAABACAYAAABsv8+/AAAAGHRFWHRUaXRsZQBmcm9tX2xpc3QgY29sb3JtYXBDL89FAAAAHnRFWHREZXNjcmlwdGlvbgBmcm9tX2xpc3QgY29sb3JtYXABtCnOAAAAMHRFWHRBdXRob3IATWF0cGxvdGxpYiB2My40LjIsIGh0dHBzOi8vbWF0cGxvdGxpYi5vcmes1mPdAAAAMnRFWHRTb2Z0d2FyZQBNYXRwbG90bGliIHYzLjQuMiwgaHR0cHM6Ly9tYXRwbG90bGliLm9yZ4Jw/PoAAAEySURBVHic7dZBEcAgAMAwmH8b08ks8ILbNVHQZ+dYYw34gTVvF8CG93YA7HluBwAA5xkAAAgyAAAQZAAAIMgAAECQAQCAIAMAAEEGAACCDAAABBkAAAgyAAAQZAAAIMgAAECQAQCAIAMAAEEGAACCDAAABBkAAAgyAAAQZAAAIMgAAECQAQCAIAMAAEEGAACCDAAABBkAAAgyAAAQZAAAIMgAAECQAQCAIAMAAEEGAACCDAAABBkAAAgyAAAQZAAAIMgAAECQAQCAIAMAAEEGAACCDAAABBkAAAgyAAAQZAAAIMgAAECQAQCAIAMAAEEGAACCDAAABBkAAAgyAAAQZAAAIMgAAECQAQCAIAMAAEEGAACCDAAABBkAAAgyAAAQZAAAIMgAAECQAQCAIAMAAEEfSgQEIzO3kjgAAAAASUVORK5CYII=\"></div><div style=\"vertical-align: middle; max-width: 514px; display: flex; justify-content: space-between;\"><div style=\"float: left;\"><div title=\"#00ff00ff\" style=\"display: inline-block; width: 1em; height: 1em; margin: 0; vertical-align: middle; border: 1px solid #555; background-color: #00ff00ff;\"></div> under</div><div style=\"margin: 0 auto; display: inline-block;\">bad <div title=\"#00000000\" style=\"display: inline-block; width: 1em; height: 1em; margin: 0; vertical-align: middle; border: 1px solid #555; background-color: #00000000;\"></div></div><div style=\"float: right;\">over <div title=\"#ffa500ff\" style=\"display: inline-block; width: 1em; height: 1em; margin: 0; vertical-align: middle; border: 1px solid #555; background-color: #ffa500ff;\"></div></div>"
      ],
      "text/plain": [
       "<matplotlib.colors.ListedColormap at 0x7f4f6d0f80a0>"
      ]
     },
     "execution_count": 17,
     "metadata": {},
     "output_type": "execute_result"
    }
   ],
   "source": [
    "bh3d_2.legend_dict[attrib[1]]['cmap']"
   ]
  },
  {
   "cell_type": "code",
   "execution_count": 18,
   "id": "061b4264",
   "metadata": {},
   "outputs": [
    {
     "data": {
      "image/png": "[encoded data removed]",
      "text/html": [
       "<div style=\"vertical-align: middle;\"><strong>from_list</strong> </div><div class=\"cmap\"><img alt=\"from_list colormap\" title=\"from_list\" style=\"border: 1px solid #555;\" src=\"data:image/png;base64,iVBORw0KGgoAAAANSUhEUgAAAgAAAABACAYAAABsv8+/AAAAGHRFWHRUaXRsZQBmcm9tX2xpc3QgY29sb3JtYXBDL89FAAAAHnRFWHREZXNjcmlwdGlvbgBmcm9tX2xpc3QgY29sb3JtYXABtCnOAAAAMHRFWHRBdXRob3IATWF0cGxvdGxpYiB2My40LjIsIGh0dHBzOi8vbWF0cGxvdGxpYi5vcmes1mPdAAAAMnRFWHRTb2Z0d2FyZQBNYXRwbG90bGliIHYzLjQuMiwgaHR0cHM6Ly9tYXRwbG90bGliLm9yZ4Jw/PoAAAFBSURBVHic7dZBDYNAAABBirZqQwOpACxgowlKqgAktK9eyM4o2Oc+jn09J7iB7f0anQBfLc/P6AT4yTw6AAD4PwMAAEEGAACCDAAABBkAAAgyAAAQZAAAIMgAAECQAQCAIAMAAEEGAACCDAAABBkAAAgyAAAQZAAAIMgAAECQAQCAIAMAAEEGAACCDAAABBkAAAgyAAAQZAAAIMgAAECQAQCAIAMAAEEGAACCDAAABBkAAAgyAAAQZAAAIMgAAECQAQCAIAMAAEEGAACCDAAABBkAAAgyAAAQZAAAIMgAAECQAQCAIAMAAEEGAACCDAAABBkAAAgyAAAQZAAAIMgAAECQAQCAIAMAAEEGAACCDAAABBkAAAgyAAAQZAAAIMgAAECQAQCAIAMAAEEGAACCDAAABBkAAAgyAAAQZAAAIOgC1q0HbJbUD3kAAAAASUVORK5CYII=\"></div><div style=\"vertical-align: middle; max-width: 514px; display: flex; justify-content: space-between;\"><div style=\"float: left;\"><div title=\"#d3b798ff\" style=\"display: inline-block; width: 1em; height: 1em; margin: 0; vertical-align: middle; border: 1px solid #555; background-color: #d3b798ff;\"></div> under</div><div style=\"margin: 0 auto; display: inline-block;\">bad <div title=\"#00000000\" style=\"display: inline-block; width: 1em; height: 1em; margin: 0; vertical-align: middle; border: 1px solid #555; background-color: #00000000;\"></div></div><div style=\"float: right;\">over <div title=\"#ffcb23ff\" style=\"display: inline-block; width: 1em; height: 1em; margin: 0; vertical-align: middle; border: 1px solid #555; background-color: #ffcb23ff;\"></div></div>"
      ],
      "text/plain": [
       "<matplotlib.colors.ListedColormap at 0x7f4f6d18caf0>"
      ]
     },
     "execution_count": 18,
     "metadata": {},
     "output_type": "execute_result"
    }
   ],
   "source": [
    "bh3d_3.legend_dict[attrib[0]]['cmap']"
   ]
  },
  {
   "cell_type": "code",
   "execution_count": 19,
   "id": "5ec83f56",
   "metadata": {},
   "outputs": [
    {
     "data": {
      "image/png": "[encoded data removed]",
      "text/html": [
       "<div style=\"vertical-align: middle;\"><strong>from_list</strong> </div><div class=\"cmap\"><img alt=\"from_list colormap\" title=\"from_list\" style=\"border: 1px solid #555;\" src=\"data:image/png;base64,iVBORw0KGgoAAAANSUhEUgAAAgAAAABACAYAAABsv8+/AAAAGHRFWHRUaXRsZQBmcm9tX2xpc3QgY29sb3JtYXBDL89FAAAAHnRFWHREZXNjcmlwdGlvbgBmcm9tX2xpc3QgY29sb3JtYXABtCnOAAAAMHRFWHRBdXRob3IATWF0cGxvdGxpYiB2My40LjIsIGh0dHBzOi8vbWF0cGxvdGxpYi5vcmes1mPdAAAAMnRFWHRTb2Z0d2FyZQBNYXRwbG90bGliIHYzLjQuMiwgaHR0cHM6Ly9tYXRwbG90bGliLm9yZ4Jw/PoAAAEqSURBVHic7dYxAcAwDMCwdPw5pyzWwxICnz6zswMk7XldALzyvQ4AAP5nAAAgyAAAQJABAIAgAwAAQQYAAIIMAAAEGQAACDIAABBkAAAgyAAAQJABAIAgAwAAQQYAAIIMAAAEGQAACDIAABBkAAAgyAAAQJABAIAgAwAAQQYAAIIMAAAEGQAACDIAABBkAAAgyAAAQJABAIAgAwAAQQYAAIIMAAAEGQAACDIAABBkAAAgyAAAQJABAIAgAwAAQQYAAIIMAAAEGQAACDIAABBkAAAgyAAAQJABAIAgAwAAQQYAAIIMAAAEGQAACDIAABBkAAAgyAAAQJABAIAgAwAAQQYAAIIMAAAEGQAACDIAABBkAAAgyAAAQJABAIAgAwAAQQYAAIIMAAAEXSn6A34e0E1vAAAAAElFTkSuQmCC\"></div><div style=\"vertical-align: middle; max-width: 514px; display: flex; justify-content: space-between;\"><div style=\"float: left;\"><div title=\"#00ff00ff\" style=\"display: inline-block; width: 1em; height: 1em; margin: 0; vertical-align: middle; border: 1px solid #555; background-color: #00ff00ff;\"></div> under</div><div style=\"margin: 0 auto; display: inline-block;\">bad <div title=\"#00000000\" style=\"display: inline-block; width: 1em; height: 1em; margin: 0; vertical-align: middle; border: 1px solid #555; background-color: #00000000;\"></div></div><div style=\"float: right;\">over <div title=\"#ff0000ff\" style=\"display: inline-block; width: 1em; height: 1em; margin: 0; vertical-align: middle; border: 1px solid #555; background-color: #ff0000ff;\"></div></div>"
      ],
      "text/plain": [
       "<matplotlib.colors.ListedColormap at 0x7f4f6d0c0a60>"
      ]
     },
     "execution_count": 19,
     "metadata": {},
     "output_type": "execute_result"
    }
   ],
   "source": [
    "bh3d_3.legend_dict[attrib[1]]['cmap']"
   ]
  },
  {
   "cell_type": "markdown",
   "id": "28d66172",
   "metadata": {},
   "source": [
    "## Build several boreholes legend/cmap"
   ]
  },
  {
   "cell_type": "code",
   "execution_count": 20,
   "id": "8f58f80d",
   "metadata": {},
   "outputs": [],
   "source": [
    "from utils.omf import build_bh3d_legend_cmap"
   ]
  },
  {
   "cell_type": "code",
   "execution_count": 21,
   "id": "6890cefc",
   "metadata": {
    "scrolled": false
   },
   "outputs": [],
   "source": [
    "bh3d_list = [bh3d, bh3d_2, bh3d_3]\n",
    "\n",
    "synth_leg_dict, detail_leg_dict = build_bh3d_legend_cmap(bh3d_list, legend_dict=leg_dict, \n",
    "                                                         repr_attrib_list=['lithology', 'pollutant'], \n",
    "                                                         compute_all=True,)# verbose=True)"
   ]
  },
  {
   "cell_type": "code",
   "execution_count": 22,
   "id": "51d1a0b1",
   "metadata": {},
   "outputs": [
    {
     "data": {
      "text/html": [
       "<table><tr><th>component</th><th>colour</th><th>hatch</th><th>width</th></tr><tr><td style=\"color:black; background-color:white\"><table><tr><td><strong>lithology</strong></td><td>remblais</td></tr></table></td><td style=\"color:#000000; background-color:#d3b798\">#d3b798</td><td style=\"color:black; background-color:white\">'v'</td><td style=\"color:black; background-color:white\">3</td></tr><tr><td style=\"color:black; background-color:white\"><table><tr><td><strong>lithology</strong></td><td>limon</td></tr></table></td><td style=\"color:#ffffff; background-color:#798732\">#798732</td><td style=\"color:black; background-color:white\">'-.'</td><td style=\"color:black; background-color:white\">3</td></tr><tr><td style=\"color:black; background-color:white\"><table><tr><td><strong>lithology</strong></td><td>schistes</td></tr></table></td><td style=\"color:#000000; background-color:#bbffdd\">#bbffdd</td><td style=\"color:black; background-color:white\">'--'</td><td style=\"color:black; background-color:white\">3</td></tr><tr><td style=\"color:black; background-color:white\"><table><tr><td><strong>lithology</strong></td><td>sable</td></tr></table></td><td style=\"color:#000000; background-color:#ffcb23\">#ffcb23</td><td style=\"color:black; background-color:white\">'..'</td><td style=\"color:black; background-color:white\">3</td></tr><tr><td style=\"color:black; background-color:white\"><table><tr><td><strong>lithology</strong></td><td>inconnu</td></tr></table></td><td style=\"color:#000000; background-color:#ffffff\">#ffffff</td><td style=\"color:black; background-color:white\">/|\\</td><td style=\"color:black; background-color:white\">3</td></tr><tr><td style=\"color:black; background-color:white\"><table><tr><td><strong>lithology</strong></td><td>marnes</td></tr></table></td><td style=\"color:#000000; background-color:#7ba1a8\">#7ba1a8</td><td style=\"color:black; background-color:white\">None</td><td style=\"color:black; background-color:white\">3</td></tr><tr><td style=\"color:black; background-color:white\"><table><tr><td><strong>lithology</strong></td><td>calcaires</td></tr></table></td><td style=\"color:#000000; background-color:#149ef8\">#149ef8</td><td style=\"color:black; background-color:white\">None</td><td style=\"color:black; background-color:white\">3</td></tr></table>"
      ],
      "text/plain": [
       "Legend(Decor({'_colour': '#d3b798', 'width': 3, 'hatch': \"'v'\", 'component': Component({'lithology': 'remblais'})})\n",
       "Decor({'_colour': '#798732', 'width': 3, 'hatch': \"'-.'\", 'component': Component({'lithology': 'limon'})})\n",
       "Decor({'_colour': '#bbffdd', 'width': 3, 'hatch': \"'--'\", 'component': Component({'lithology': 'schistes'})})\n",
       "Decor({'_colour': '#ffcb23', 'width': 3, 'hatch': \"'..'\", 'component': Component({'lithology': 'sable'})})\n",
       "Decor({'_colour': '#ffffff', 'width': 3, 'hatch': '/|\\\\', 'component': Component({'lithology': 'inconnu'})})\n",
       "Decor({'_colour': '#7ba1a8', 'width': 3, 'hatch': None, 'component': Component({'lithology': 'marnes'})})\n",
       "Decor({'_colour': '#149ef8', 'width': 3, 'hatch': None, 'component': Component({'lithology': 'calcaires'})}))"
      ]
     },
     "execution_count": 22,
     "metadata": {},
     "output_type": "execute_result"
    }
   ],
   "source": [
    "glob_leg_dict[attrib[0]]['legend']"
   ]
  },
  {
   "cell_type": "code",
   "execution_count": 23,
   "id": "57f526be",
   "metadata": {},
   "outputs": [
    {
     "data": {
      "image/png": "[encoded data removed]",
      "text/html": [
       "<div style=\"vertical-align: middle;\"><strong>from_list</strong> </div><div class=\"cmap\"><img alt=\"from_list colormap\" title=\"from_list\" style=\"border: 1px solid #555;\" src=\"data:image/png;base64,iVBORw0KGgoAAAANSUhEUgAAAgAAAABACAYAAABsv8+/AAAAGHRFWHRUaXRsZQBmcm9tX2xpc3QgY29sb3JtYXBDL89FAAAAHnRFWHREZXNjcmlwdGlvbgBmcm9tX2xpc3QgY29sb3JtYXABtCnOAAAAMHRFWHRBdXRob3IATWF0cGxvdGxpYiB2My40LjIsIGh0dHBzOi8vbWF0cGxvdGxpYi5vcmes1mPdAAAAMnRFWHRTb2Z0d2FyZQBNYXRwbG90bGliIHYzLjQuMiwgaHR0cHM6Ly9tYXRwbG90bGliLm9yZ4Jw/PoAAAFhSURBVHic7daxrYFhAEBRzGQCeVEbR2EQXvkKiRjAEgqJ1irCBsr3/XLPmeCWd36/7F8zPjrefkcnTN5qex6dMHk/1/XohOlbPkYXfIXd32l0wqQdnpvRCV9hMToAAPh/BgAAggwAAAQZAAAIMgAAEGQAACDIAABAkAEAgCADAABBBgAAggwAAAQZAAAIMgAAEGQAACDIAABAkAEAgCADAABBBgAAggwAAAQZAAAIMgAAEGQAACDIAABAkAEAgCADAABBBgAAggwAAAQZAAAIMgAAEGQAACDIAABAkAEAgCADAABBBgAAggwAAAQZAAAIMgAAEGQAACDIAABAkAEAgCADAABBBgAAggwAAAQZAAAIMgAAEGQAACDIAABAkAEAgCADAABBBgAAggwAAAQZAAAIMgAAEGQAACDIAABAkAEAgCADAABBBgAAggwAAAQZAAAIMgAAEGQAACDIAABA0BuDsg0p5IakkwAAAABJRU5ErkJggg==\"></div><div style=\"vertical-align: middle; max-width: 514px; display: flex; justify-content: space-between;\"><div style=\"float: left;\"><div title=\"#d3b798ff\" style=\"display: inline-block; width: 1em; height: 1em; margin: 0; vertical-align: middle; border: 1px solid #555; background-color: #d3b798ff;\"></div> under</div><div style=\"margin: 0 auto; display: inline-block;\">bad <div title=\"#00000000\" style=\"display: inline-block; width: 1em; height: 1em; margin: 0; vertical-align: middle; border: 1px solid #555; background-color: #00000000;\"></div></div><div style=\"float: right;\">over <div title=\"#149ef8ff\" style=\"display: inline-block; width: 1em; height: 1em; margin: 0; vertical-align: middle; border: 1px solid #555; background-color: #149ef8ff;\"></div></div>"
      ],
      "text/plain": [
       "<matplotlib.colors.ListedColormap at 0x7f4f6d169d60>"
      ]
     },
     "execution_count": 23,
     "metadata": {},
     "output_type": "execute_result"
    }
   ],
   "source": [
    "glob_leg_dict[attrib[0]]['cmap']"
   ]
  },
  {
   "cell_type": "code",
   "execution_count": 25,
   "id": "02b4d5b3",
   "metadata": {
    "scrolled": true
   },
   "outputs": [
    {
     "data": {
      "text/plain": [
       "{'lithology': {'legend': Legend(Decor({'_colour': '#d3b798', 'width': 3, 'hatch': \"'v'\", 'component': Component({'lithology': 'remblais'})})\n",
       "  Decor({'_colour': '#798732', 'width': 3, 'hatch': \"'-.'\", 'component': Component({'lithology': 'limon'})})\n",
       "  Decor({'_colour': '#bbffdd', 'width': 3, 'hatch': \"'--'\", 'component': Component({'lithology': 'schistes'})})\n",
       "  Decor({'_colour': '#ffcb23', 'width': 3, 'hatch': \"'..'\", 'component': Component({'lithology': 'sable'})})\n",
       "  Decor({'_colour': '#ffffff', 'width': 3, 'hatch': '/|\\\\', 'component': Component({'lithology': 'inconnu'})})),\n",
       "  'cmap': <matplotlib.colors.ListedColormap at 0x7f4f6d0ca250>,\n",
       "  'values': ['remblais', 'limon', 'schistes', 'sable', 'inconnu']},\n",
       " 'pollutant': {'legend': Legend(Decor({'_colour': '#00ff00', 'width': 3, 'component': Component({'pollutant': 'VR'}), 'hatch': None})\n",
       "  Decor({'_colour': '#ff0000', 'width': 3, 'component': Component({'pollutant': 'VI'}), 'hatch': None})\n",
       "  Decor({'_colour': '#ffa500', 'width': 3, 'component': Component({'pollutant': 'VS'}), 'hatch': None})),\n",
       "  'cmap': <matplotlib.colors.ListedColormap at 0x7f4f6d0bdee0>,\n",
       "  'values': ['VR', 'VI', 'VS']}}"
      ]
     },
     "execution_count": 25,
     "metadata": {},
     "output_type": "execute_result"
    }
   ],
   "source": [
    "bh3d.legend_dict"
   ]
  },
  {
   "cell_type": "markdown",
   "id": "e9f39f78",
   "metadata": {},
   "source": [
    "## 2D/3D display"
   ]
  },
  {
   "cell_type": "code",
   "execution_count": 26,
   "id": "12a0b89b",
   "metadata": {
    "scrolled": false
   },
   "outputs": [
    {
     "name": "stderr",
     "output_type": "stream",
     "text": [
      "/home/yanathan/.local/share/virtualenvs/GSDMA-DRfwm83x/lib/python3.8/site-packages/striplog/striplog.py:1505: MatplotlibDeprecationWarning: hatch must consist of a string of \"*+-./OX\\ox|\" or None, but found the following invalid values \"'v\". Passing invalid values is deprecated since 3.4 and will become an error two minor releases later.\n",
      "  rect = mpl.patches.Rectangle(origin,\n",
      "/home/yanathan/.local/share/virtualenvs/GSDMA-DRfwm83x/lib/python3.8/site-packages/striplog/striplog.py:1505: MatplotlibDeprecationWarning: hatch must consist of a string of \"*+-./OX\\ox|\" or None, but found the following invalid values \"'\". Passing invalid values is deprecated since 3.4 and will become an error two minor releases later.\n",
      "  rect = mpl.patches.Rectangle(origin,\n",
      "/home/yanathan/.local/share/virtualenvs/GSDMA-DRfwm83x/lib/python3.8/site-packages/striplog/legend.py:311: MatplotlibDeprecationWarning: hatch must consist of a string of \"*+-./OX\\ox|\" or None, but found the following invalid values \"'\". Passing invalid values is deprecated since 3.4 and will become an error two minor releases later.\n",
      "  rect1 = patches.Rectangle((0, 0),\n",
      "/home/yanathan/.local/share/virtualenvs/GSDMA-DRfwm83x/lib/python3.8/site-packages/striplog/legend.py:311: MatplotlibDeprecationWarning: hatch must consist of a string of \"*+-./OX\\ox|\" or None, but found the following invalid values \"'v\". Passing invalid values is deprecated since 3.4 and will become an error two minor releases later.\n",
      "  rect1 = patches.Rectangle((0, 0),\n"
     ]
    },
    {
     "data": {
      "image/png": "[encoded data removed]",
      "text/plain": [
       "<Figure size 432x432 with 7 Axes>"
      ]
     },
     "metadata": {
      "needs_background": "light"
     },
     "output_type": "display_data"
    }
   ],
   "source": [
    "bh3d.log_plot(repr_attribute='lithology')"
   ]
  },
  {
   "cell_type": "code",
   "execution_count": 28,
   "id": "3a1cc859",
   "metadata": {},
   "outputs": [
    {
     "name": "stdout",
     "output_type": "stream",
     "text": [
      "{0.4: 'remblais', 1.2000000000000002: 'limon', 2.0: 'schistes', 2.8000000000000003: 'sable', 3.6: 'inconnu'}\n",
      "5\n"
     ]
    },
    {
     "data": {
      "application/vnd.jupyter.widget-view+json": {
       "model_id": "f4a2b6ab3b9d4dc09aea6b996f47ffd0",
       "version_major": 2,
       "version_minor": 0
      },
      "text/plain": [
       "ViewInteractiveWidget(height=768, layout=Layout(height='auto', width='100%'), width=1024)"
      ]
     },
     "metadata": {},
     "output_type": "display_data"
    }
   ],
   "source": [
    "bh3d.plot3d(repr_attribute='lithology')"
   ]
  },
  {
   "cell_type": "code",
   "execution_count": 24,
   "id": "57f1f1bd",
   "metadata": {},
   "outputs": [
    {
     "data": {
      "image/png": "[encoded data removed]",
      "text/plain": [
       "<Figure size 432x432 with 5 Axes>"
      ]
     },
     "metadata": {
      "needs_background": "light"
     },
     "output_type": "display_data"
    }
   ],
   "source": [
    "bh3d.log_plot(repr_attribute='pollutant')#, repr_legend=pollutant_memoris)"
   ]
  },
  {
   "cell_type": "code",
   "execution_count": 29,
   "id": "cf95afbb",
   "metadata": {},
   "outputs": [
    {
     "name": "stdout",
     "output_type": "stream",
     "text": [
      "{0.3333333333333333: 'VR', 1.0: 'VI', 1.6666666666666665: 'VS'}\n",
      "3\n"
     ]
    },
    {
     "data": {
      "application/vnd.jupyter.widget-view+json": {
       "model_id": "3787dd4d809b48db94bfce82f0a15105",
       "version_major": 2,
       "version_minor": 0
      },
      "text/plain": [
       "ViewInteractiveWidget(height=768, layout=Layout(height='auto', width='100%'), width=1024)"
      ]
     },
     "metadata": {},
     "output_type": "display_data"
    }
   ],
   "source": [
    "bh3d.plot3d(repr_attribute='pollutant', repr_legend=pollutant_memoris)"
   ]
  },
  {
   "cell_type": "code",
   "execution_count": 27,
   "id": "ce725634",
   "metadata": {
    "scrolled": false
   },
   "outputs": [
    {
     "data": {
      "image/png": "[encoded data removed]",
      "text/plain": [
       "<Figure size 432x432 with 9 Axes>"
      ]
     },
     "metadata": {
      "needs_background": "light"
     },
     "output_type": "display_data"
    }
   ],
   "source": [
    "bh3d_2.log_plot(repr_attribute='lithology')"
   ]
  },
  {
   "cell_type": "code",
   "execution_count": 30,
   "id": "f3f38f3b",
   "metadata": {},
   "outputs": [
    {
     "name": "stdout",
     "output_type": "stream",
     "text": [
      "{0.42857142857142855: 'remblais', 1.2857142857142856: 'limon', 2.142857142857143: 'schistes', 3.0: 'sable', 3.8571428571428568: 'inconnu', 4.7142857142857135: 'marnes', 5.571428571428571: 'calcaires'}\n",
      "7\n"
     ]
    },
    {
     "data": {
      "application/vnd.jupyter.widget-view+json": {
       "model_id": "dcf88a8f94e348ea97740e77b9b2cfd2",
       "version_major": 2,
       "version_minor": 0
      },
      "text/plain": [
       "ViewInteractiveWidget(height=768, layout=Layout(height='auto', width='100%'), width=1024)"
      ]
     },
     "metadata": {},
     "output_type": "display_data"
    }
   ],
   "source": [
    "bh3d_2.plot3d(repr_attribute='lithology')"
   ]
  },
  {
   "cell_type": "code",
   "execution_count": 31,
   "id": "9dbb84b8",
   "metadata": {},
   "outputs": [
    {
     "data": {
      "text/html": [
       "<table><tr><th>Header</th><th>Data Arrays</th></tr><tr><td>\n",
       "<table>\n",
       "<tr><th>PolyData</th><th>Information</th></tr>\n",
       "<tr><td>N Cells</td><td>260</td></tr>\n",
       "<tr><td>N Points</td><td>1000</td></tr>\n",
       "<tr><td>X Bounds</td><td>-1.248e+00, 1.248e+00</td></tr>\n",
       "<tr><td>Y Bounds</td><td>-1.250e+00, 1.250e+00</td></tr>\n",
       "<tr><td>Z Bounds</td><td>-2.000e+00, 8.000e+00</td></tr>\n",
       "<tr><td>N Arrays</td><td>5</td></tr>\n",
       "</table>\n",
       "\n",
       "</td><td>\n",
       "<table>\n",
       "<tr><th>Name</th><th>Field</th><th>Type</th><th>N Comp</th><th>Min</th><th>Max</th></tr>\n",
       "<tr><td>TubeNormals</td><td>Points</td><td>float32</td><td>3</td><td>-1.000e+00</td><td>1.000e+00</td></tr>\n",
       "<tr><td>Line Index</td><td>Cells</td><td>int64</td><td>1</td><td>0.000e+00</td><td>4.000e+00</td></tr>\n",
       "<tr><td>component</td><td>Cells</td><td>int64</td><td>1</td><td>0.000e+00</td><td>4.000e+00</td></tr>\n",
       "<tr><td>Lithology</td><td>Cells</td><td>int64</td><td>1</td><td>0.000e+00</td><td>4.000e+00</td></tr>\n",
       "<tr><td><b>Pollutant</b></td><td>Cells</td><td>int64</td><td>1</td><td>0.000e+00</td><td>4.000e+00</td></tr>\n",
       "</table>\n",
       "\n",
       "</td></tr> </table>"
      ],
      "text/plain": [
       "PolyData (0x7f4f6d043d00)\n",
       "  N Cells:\t260\n",
       "  N Points:\t1000\n",
       "  X Bounds:\t-1.248e+00, 1.248e+00\n",
       "  Y Bounds:\t-1.250e+00, 1.250e+00\n",
       "  Z Bounds:\t-2.000e+00, 8.000e+00\n",
       "  N Arrays:\t5"
      ]
     },
     "execution_count": 31,
     "metadata": {},
     "output_type": "execute_result"
    }
   ],
   "source": [
    "bh3d._vtk"
   ]
  },
  {
   "cell_type": "code",
   "execution_count": 32,
   "id": "e8ea3885",
   "metadata": {},
   "outputs": [
    {
     "data": {
      "text/plain": [
       "'remblais'"
      ]
     },
     "execution_count": 32,
     "metadata": {},
     "output_type": "execute_result"
    }
   ],
   "source": [
    "bh3d_2._components[0]['lithology']"
   ]
  },
  {
   "cell_type": "code",
   "execution_count": 33,
   "id": "b4896a62",
   "metadata": {},
   "outputs": [
    {
     "data": {
      "text/plain": [
       "(5, 7)"
      ]
     },
     "execution_count": 33,
     "metadata": {},
     "output_type": "execute_result"
    }
   ],
   "source": [
    "len(bh3d.intervals), len(bh3d_2.intervals)"
   ]
  },
  {
   "cell_type": "code",
   "execution_count": null,
   "id": "9ea2beab",
   "metadata": {},
   "outputs": [],
   "source": []
  }
 ],
 "metadata": {
  "kernelspec": {
   "display_name": "Python 3",
   "language": "python",
   "name": "python3"
  },
  "language_info": {
   "codemirror_mode": {
    "name": "ipython",
    "version": 3
   },
   "file_extension": ".py",
   "mimetype": "text/x-python",
   "name": "python",
   "nbconvert_exporter": "python",
   "pygments_lexer": "ipython3",
   "version": "3.8.10"
  }
 },
 "nbformat": 4,
 "nbformat_minor": 5
}
