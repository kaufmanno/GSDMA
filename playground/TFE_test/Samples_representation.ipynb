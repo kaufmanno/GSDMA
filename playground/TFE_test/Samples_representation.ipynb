{
 "cells": [
  {
   "cell_type": "markdown",
   "id": "38bb9500",
   "metadata": {},
   "source": [
    "# Samples Mapping Test"
   ]
  },
  {
   "cell_type": "markdown",
   "id": "b89ee4ce",
   "metadata": {},
   "source": [
    "## Imports "
   ]
  },
  {
   "cell_type": "code",
   "execution_count": 1,
   "id": "5f8c8285",
   "metadata": {},
   "outputs": [],
   "source": [
    "from striplog import Component, Lexicon, Legend, Interval, Position, Decor\n",
    "from core.omf import Borehole3D\n",
    "from utils.lexicon.lexicon_memoris import lithology_memoris\n",
    "from utils.omf import build_bh3d_legend_cmap\n",
    "from utils.utils import legend_from_attributes\n",
    "import random\n",
    "import pandas as pd"
   ]
  },
  {
   "cell_type": "markdown",
   "id": "0f6a204f",
   "metadata": {},
   "source": [
    "## Creation of Borehole3D objects"
   ]
  },
  {
   "cell_type": "markdown",
   "id": "938ca610",
   "metadata": {},
   "source": [
    "### Define a set of attributes and associated legends"
   ]
  },
  {
   "cell_type": "code",
   "execution_count": 2,
   "id": "4caa22e0",
   "metadata": {},
   "outputs": [],
   "source": [
    "legend_attributes = [('lithology', lithology_memoris), 'benzene', 'toluene']"
   ]
  },
  {
   "cell_type": "code",
   "execution_count": 6,
   "id": "b16c4175",
   "metadata": {},
   "outputs": [],
   "source": [
    "leg_dict = legend_from_attributes(legend_attributes)"
   ]
  },
  {
   "cell_type": "code",
   "execution_count": 7,
   "id": "9f1186d4",
   "metadata": {
    "scrolled": true
   },
   "outputs": [
    {
     "data": {
      "text/plain": [
       "{'lithology': Legend(Decor({'_colour': '#ffffe9', 'width': None, 'hatch': None, 'component': Component({'lithology': 'matériau(?:x)? meuble(?:s)?'})})\n",
       " Decor({'_colour': '#ffffd5', 'width': None, 'hatch': \"'....'\", 'component': Component({'lithology': 'alluvion(?:s)?'})})\n",
       " Decor({'_colour': '#331100', 'width': None, 'hatch': None, 'component': Component({'lithology': 'boue(?:s)?'})})\n",
       " Decor({'_colour': '#d3b798', 'width': None, 'hatch': \"'v'\", 'component': Component({'lithology': 'remblai(?:s)?'})})\n",
       " Decor({'_colour': '#ffcc99', 'width': None, 'hatch': None, 'component': Component({'lithology': 'tourbe(?:s)?'})})\n",
       " Decor({'_colour': '#ffeaa7', 'width': None, 'hatch': None, 'component': Component({'lithology': 'gypse(?:s)?'})})\n",
       " Decor({'_colour': '#00151a', 'width': None, 'hatch': None, 'component': Component({'lithology': 'houille(?:s)?'})})\n",
       " Decor({'_colour': '#798732', 'width': None, 'hatch': \"'-.'\", 'component': Component({'lithology': 'limon(?:s)?'})})\n",
       " Decor({'_colour': '#ffcb23', 'width': None, 'hatch': \"'..'\", 'component': Component({'lithology': 'sable(?:s)?'})})\n",
       " Decor({'_colour': '#adb7cc', 'width': None, 'hatch': \"'oo\", 'component': Component({'lithology': 'gravier(?:s)?'})})\n",
       " Decor({'_colour': '#ace4c8', 'width': None, 'hatch': None, 'component': Component({'lithology': 'silt(?:s)?'})})\n",
       " Decor({'_colour': '#d5e6cc', 'width': None, 'hatch': \"'---'\", 'component': Component({'lithology': 'argile(?:s)?'})})\n",
       " Decor({'_colour': '#92dcb7', 'width': None, 'hatch': None, 'component': Component({'lithology': 'bentonite(?:s)?'})})\n",
       " Decor({'_colour': '#bbffdd', 'width': None, 'hatch': \"'--'\", 'component': Component({'lithology': 'schiste(?:s)?'})})\n",
       " Decor({'_colour': '#95ffca', 'width': None, 'hatch': None, 'component': Component({'lithology': 'argilite(?:s)?'})})\n",
       " Decor({'_colour': '#d6fe9a', 'width': None, 'hatch': None, 'component': Component({'lithology': 'siltite(?:s)?'})})\n",
       " Decor({'_colour': '#e1f0d8', 'width': None, 'hatch': None, 'component': Component({'lithology': 'tuffeau(?:s)?'})})\n",
       " Decor({'_colour': '#69cf9c', 'width': None, 'hatch': None, 'component': Component({'lithology': 'silex'})})\n",
       " Decor({'_colour': '#b7d9cc', 'width': None, 'hatch': None, 'component': Component({'lithology': 'conglomérat(?:s)?'})})\n",
       " Decor({'_colour': '#019ccd', 'width': None, 'hatch': None, 'component': Component({'lithology': 'carbonate(?:s)?'})})\n",
       " Decor({'_colour': '#149eff', 'width': None, 'hatch': \"'='\", 'component': Component({'lithology': 'calcaire(?:s)?'})})\n",
       " Decor({'_colour': '#fdaaff', 'width': None, 'hatch': None, 'component': Component({'lithology': 'dolomite(?:s)?'})})\n",
       " Decor({'_colour': '#fdaffe', 'width': None, 'hatch': None, 'component': Component({'lithology': 'dolomie(?:s)?'})})\n",
       " Decor({'_colour': '#deeffe', 'width': None, 'hatch': None, 'component': Component({'lithology': 'craie(?:s)?'})})\n",
       " Decor({'_colour': '#aac2c8', 'width': None, 'hatch': None, 'component': Component({'lithology': 'chert(?:s)?'})})\n",
       " Decor({'_colour': '#000000', 'width': None, 'hatch': None, 'component': Component({'lithology': 'charbon(?:s)?'})})\n",
       " Decor({'_colour': '#7ba1a8', 'width': None, 'hatch': None, 'component': Component({'lithology': 'marne(?:s)?'})})\n",
       " Decor({'_colour': '#ffffff', 'width': None, 'hatch': None, 'component': Component({'lithology': 'inconnu'})})),\n",
       " 'benzene': Legend(Decor({'_colour': '#00ff00', 'width': None, 'component': Component({'benzene': 'vr'}), 'hatch': None})\n",
       " Decor({'_colour': '#ffa500', 'width': None, 'component': Component({'benzene': 'vs'}), 'hatch': None})\n",
       " Decor({'_colour': '#ff0000', 'width': None, 'component': Component({'benzene': 'vi'}), 'hatch': None})\n",
       " Decor({'_colour': '#ffffff', 'width': None, 'component': Component({'benzene': 'inconnu'}), 'hatch': None})),\n",
       " 'toluene': Legend(Decor({'_colour': '#00ff00', 'width': None, 'component': Component({'toluene': 'vr'}), 'hatch': None})\n",
       " Decor({'_colour': '#ffa500', 'width': None, 'component': Component({'toluene': 'vs'}), 'hatch': None})\n",
       " Decor({'_colour': '#ff0000', 'width': None, 'component': Component({'toluene': 'vi'}), 'hatch': None})\n",
       " Decor({'_colour': '#ffffff', 'width': None, 'component': Component({'toluene': 'inconnu'}), 'hatch': None}))}"
      ]
     },
     "execution_count": 7,
     "metadata": {},
     "output_type": "execute_result"
    }
   ],
   "source": [
    "leg_dict"
   ]
  },
  {
   "cell_type": "code",
   "execution_count": null,
   "id": "f83f6e87",
   "metadata": {},
   "outputs": [],
   "source": [
    "attrib = list(leg_dict.keys())\n",
    "attrib"
   ]
  },
  {
   "cell_type": "markdown",
   "id": "c21f5859",
   "metadata": {},
   "source": [
    "### Create boreholes composition"
   ]
  },
  {
   "cell_type": "code",
   "execution_count": null,
   "id": "083a477d",
   "metadata": {},
   "outputs": [],
   "source": [
    "samples = [Component({'lithology': 'remblais'}),\n",
    "           Component({'lithology': 'limon'}),\n",
    "           Component({'lithology': 'schistes'}),\n",
    "           Component({'lithology': 'sable'}),\n",
    "           Component({'lithology': 'calcaire'}),\n",
    "           Component({'lithology': 'inconnu'})]"
   ]
  },
  {
   "cell_type": "code",
   "execution_count": null,
   "id": "fa859aa2",
   "metadata": {},
   "outputs": [],
   "source": [
    "benzene = [Component({'benzene':'Inconnu', 'Type':'Sol'}), \n",
    "           Component({'benzene':'VR', 'Type':'Sol'}),\n",
    "           Component({'benzene':'VS', 'Type':'Sol'}),\n",
    "           Component({'benzene':'VI', 'Type':'Sol'})]\n",
    "\n",
    "toluene = [Component({'toluene':'VR', 'Type':'Sol'}),\n",
    "           Component({'toluene':'Inconnu', 'Type':'Sol'}),\n",
    "           Component({'toluene':'VS', 'Type':'Sol'}),\n",
    "           Component({'toluene':'VI', 'Type':'Sol'})]"
   ]
  },
  {
   "cell_type": "code",
   "execution_count": null,
   "id": "d473ee8e",
   "metadata": {},
   "outputs": [],
   "source": [
    "samples_intervals = [Interval(top=0, base=2, components=[samples[3], samples[0], benzene[2]], data={'Naphtalene':50}),\n",
    "                     Interval(top=2, base=3, components=[samples[0], benzene[0]], data={'benzene': {'value': 1.52, 'units': 'µg/l'}}),\n",
    "                     Interval(top=3, base=6, components=[toluene[2], samples[2]]),\n",
    "                     Interval(top=6, base=8, components=[benzene[3]]),\n",
    "                     Interval(top=8, base=10, components=[samples[4], benzene[1], toluene[1]]),\n",
    "                     Interval(top=10, base=13, components=[samples[2],toluene[0]]),]\n",
    "                     #Interval(top=13, base=15, components=[])]"
   ]
  },
  {
   "cell_type": "code",
   "execution_count": null,
   "id": "252544aa",
   "metadata": {},
   "outputs": [],
   "source": [
    "samples_intervals_2 = [Interval(top=0, base=2, components=[samples[4]], data={'Naphtalene':50}),\n",
    "                     Interval(top=2, base=3, components=[samples[1], benzene[1]]),\n",
    "                     Interval(top=3, base=6, components=[samples[3]]),\n",
    "                     Interval(top=6, base=8, components=[samples[4], toluene[3]]),\n",
    "                     Interval(top=8, base=10, components=[samples[0], benzene[2], toluene[1]]),\n",
    "                     Interval(top=10, base=13, components=[samples[2]])]"
   ]
  },
  {
   "cell_type": "code",
   "execution_count": null,
   "id": "8b641aac",
   "metadata": {},
   "outputs": [],
   "source": [
    "verbose = ['get_comp', 'build_leg'] # outputs of specific function ('geom', 'get_comp', 'get_attrib', 'build_leg')\n",
    "verbose = False"
   ]
  },
  {
   "cell_type": "code",
   "execution_count": null,
   "id": "8b48a6d4",
   "metadata": {
    "scrolled": false
   },
   "outputs": [],
   "source": [
    "bh3d_1 = Borehole3D(name='BH_1', intervals=samples_intervals, legend_dict=leg_dict, verbose=verbose, \n",
    "                    repr_attribute='benzene')\n",
    "\n",
    "bh3d_2 = Borehole3D(name='BH_2', intervals=samples_intervals_2, legend_dict=leg_dict, verbose=verbose)\n",
    "bh3d_list = [bh3d_1, bh3d_2]"
   ]
  },
  {
   "cell_type": "markdown",
   "id": "3312a46f",
   "metadata": {},
   "source": [
    "## Checkings"
   ]
  },
  {
   "cell_type": "code",
   "execution_count": null,
   "id": "22694736",
   "metadata": {},
   "outputs": [],
   "source": [
    "bh = 0"
   ]
  },
  {
   "cell_type": "code",
   "execution_count": null,
   "id": "b547e219",
   "metadata": {
    "scrolled": false
   },
   "outputs": [],
   "source": [
    "bh3d_list[bh].get_attrib_components_dict(verbose=verbose)"
   ]
  },
  {
   "cell_type": "code",
   "execution_count": null,
   "id": "a3e78c05",
   "metadata": {},
   "outputs": [],
   "source": [
    "bh3d_list[bh].components"
   ]
  },
  {
   "cell_type": "code",
   "execution_count": null,
   "id": "ced1a530",
   "metadata": {
    "scrolled": true
   },
   "outputs": [],
   "source": [
    "bh3d_list[bh].attrib_components"
   ]
  },
  {
   "cell_type": "markdown",
   "id": "713ed26e",
   "metadata": {},
   "source": [
    "##### VTK tables"
   ]
  },
  {
   "cell_type": "code",
   "execution_count": null,
   "id": "a74c62aa",
   "metadata": {},
   "outputs": [],
   "source": [
    "a = 0\n",
    "attrib[a]"
   ]
  },
  {
   "cell_type": "code",
   "execution_count": null,
   "id": "b58630f9",
   "metadata": {},
   "outputs": [],
   "source": [
    "vtk = bh3d_list[bh]._vtk\n",
    "vtk"
   ]
  },
  {
   "cell_type": "code",
   "execution_count": null,
   "id": "19622ca4",
   "metadata": {},
   "outputs": [],
   "source": [
    "vtk[attrib[a]].shape, vtk[attrib[a]]"
   ]
  },
  {
   "cell_type": "code",
   "execution_count": null,
   "id": "2ab2a685",
   "metadata": {},
   "outputs": [],
   "source": [
    "bh3d_list[bh].geometry.data[0].name #.array"
   ]
  },
  {
   "cell_type": "code",
   "execution_count": null,
   "id": "22e3054f",
   "metadata": {},
   "outputs": [],
   "source": [
    "bh3d_list[bh].geometry.data[0].array.array.tolist()"
   ]
  },
  {
   "cell_type": "raw",
   "id": "85d88dbf",
   "metadata": {},
   "source": [
    "lithology [0 : 'remblais', 1 : 'limon', 2 : 'schistes', 3 : 'sable', 4 : 'calcaire', 5 : 'inconnu']\n",
    "\n",
    "Toluene [0 : 'VR', 1 : 'Inconnu', 2 : 'VS', 3 : 'VI']"
   ]
  },
  {
   "cell_type": "markdown",
   "id": "16fed775",
   "metadata": {},
   "source": [
    "## 2D/3D display"
   ]
  },
  {
   "cell_type": "markdown",
   "id": "3cff8343",
   "metadata": {},
   "source": [
    "### Borehole #1"
   ]
  },
  {
   "cell_type": "code",
   "execution_count": null,
   "id": "670c3421",
   "metadata": {},
   "outputs": [],
   "source": [
    "bh = 0\n",
    "a = 0"
   ]
  },
  {
   "cell_type": "code",
   "execution_count": null,
   "id": "d46a4260",
   "metadata": {},
   "outputs": [],
   "source": [
    "bh3d_list[bh].legend_dict[attrib[a]]['legend']"
   ]
  },
  {
   "cell_type": "code",
   "execution_count": null,
   "id": "3cfd7951",
   "metadata": {},
   "outputs": [],
   "source": [
    "bh3d_list[bh].legend_dict[attrib[a]]['cmap']"
   ]
  },
  {
   "cell_type": "code",
   "execution_count": null,
   "id": "c6bf9ba3",
   "metadata": {
    "scrolled": false
   },
   "outputs": [],
   "source": [
    "bh3d_list[bh].log_plot(repr_attribute=attrib[a])"
   ]
  },
  {
   "cell_type": "code",
   "execution_count": null,
   "id": "df7ab2fa",
   "metadata": {},
   "outputs": [],
   "source": [
    "bh3d_list[bh].plot3d(repr_attribute=attrib[a], str_annotations=True, custom_legend=False)"
   ]
  },
  {
   "cell_type": "code",
   "execution_count": null,
   "id": "38d17146",
   "metadata": {
    "scrolled": false
   },
   "outputs": [],
   "source": [
    "bh3d_list[bh].plot3d(repr_attribute=attrib[a+1], str_annotations=True, custom_legend=False)"
   ]
  },
  {
   "cell_type": "code",
   "execution_count": null,
   "id": "2781dbd4",
   "metadata": {
    "scrolled": false
   },
   "outputs": [],
   "source": [
    "bh3d_list[bh].plot3d(repr_attribute=attrib[a+2], str_annotations=True, custom_legend=False)"
   ]
  },
  {
   "cell_type": "markdown",
   "id": "28d66172",
   "metadata": {},
   "source": [
    "## Build several boreholes legend/cmap (for a project) test"
   ]
  },
  {
   "cell_type": "code",
   "execution_count": null,
   "id": "6890cefc",
   "metadata": {
    "scrolled": false
   },
   "outputs": [],
   "source": [
    "synth_leg_dict, detail_leg_dict = build_bh3d_legend_cmap(bh3d_list, legend_dict=leg_dict, \n",
    "                                                         repr_attrib_list=['lithology', 'pollutant'], \n",
    "                                                         compute_all=True, verbose=verbose)"
   ]
  },
  {
   "cell_type": "code",
   "execution_count": null,
   "id": "51d1a0b1",
   "metadata": {},
   "outputs": [],
   "source": [
    "b = 1\n",
    "synth_leg_dict[attrib[b]]['legend']"
   ]
  },
  {
   "cell_type": "code",
   "execution_count": null,
   "id": "57f526be",
   "metadata": {},
   "outputs": [],
   "source": [
    "synth_leg_dict[attrib[b]]['cmap']"
   ]
  }
 ],
 "metadata": {
  "kernelspec": {
   "display_name": "Python 3",
   "language": "python",
   "name": "python3"
  },
  "language_info": {
   "codemirror_mode": {
    "name": "ipython",
    "version": 3
   },
   "file_extension": ".py",
   "mimetype": "text/x-python",
   "name": "python",
   "nbconvert_exporter": "python",
   "pygments_lexer": "ipython3",
   "version": "3.8.10"
  }
 },
 "nbformat": 4,
 "nbformat_minor": 5
}
