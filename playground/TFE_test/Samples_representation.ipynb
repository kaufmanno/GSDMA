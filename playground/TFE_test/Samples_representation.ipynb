{
 "cells": [
  {
   "cell_type": "markdown",
   "id": "38bb9500",
   "metadata": {},
   "source": [
    "# Samples representation"
   ]
  },
  {
   "cell_type": "markdown",
   "id": "b89ee4ce",
   "metadata": {},
   "source": [
    "## Imports "
   ]
  },
  {
   "cell_type": "code",
   "execution_count": 1,
   "id": "5f8c8285",
   "metadata": {},
   "outputs": [
    {
     "name": "stderr",
     "output_type": "stream",
     "text": [
      "/home/yanathan/.local/share/virtualenvs/GSDMA-DRfwm83x/lib/python3.8/site-packages/striplog/legend.py:687: UserWarning: This legend contains duplicate components.\n",
      "  warnings.warn(w)\n",
      "/home/yanathan/.local/share/virtualenvs/GSDMA-DRfwm83x/lib/python3.8/site-packages/striplog/legend.py:687: UserWarning: This legend contains duplicate components.\n",
      "  warnings.warn(w)\n"
     ]
    }
   ],
   "source": [
    "from striplog import Component, Lexicon, Legend, Interval, Position, Decor\n",
    "from core.omf import Borehole3D\n",
    "from utils.lexicon.lexicon_fr import pollutant_memoris, lithology_memoris\n",
    "import random\n",
    "import pandas as pd"
   ]
  },
  {
   "cell_type": "code",
   "execution_count": 2,
   "id": "1205aef1",
   "metadata": {},
   "outputs": [],
   "source": [
    "samples = [Component({'lithology': 'remblais', 'pollutant':'VR'}),\n",
    "              Component({'lithology': 'limon', 'pollutant':'VI'}),\n",
    "              Component({'lithology': 'schistes', 'pollutant':'VS'}),\n",
    "              Component({'lithology': 'sable', 'pollutant':'VR'}),\n",
    "              Component({'lithology': 'inconnu', 'pollutant':'VI'})\n",
    "              ]"
   ]
  },
  {
   "cell_type": "code",
   "execution_count": 3,
   "id": "243d74f8",
   "metadata": {},
   "outputs": [],
   "source": [
    "extra_components = [Component({'lithology': 'marnes', 'pollutant':'VS'}),\n",
    "                    Component({'lithology': 'calcaires', 'pollutant':'VS'})]"
   ]
  },
  {
   "cell_type": "code",
   "execution_count": 4,
   "id": "23fdfe5a",
   "metadata": {},
   "outputs": [],
   "source": [
    "samples_intervals = [Interval(top=0, base=2, components=[samples[0]], data={'Naphtalène':50}),\n",
    "                     Interval(top=2, base=3, components=[samples[1]]),\n",
    "                     Interval(top=3, base=6, components=[samples[2]]),\n",
    "                     Interval(top=6, base=8, components=[samples[3]]),\n",
    "                     Interval(top=8, base=10, components=[samples[4]])]"
   ]
  },
  {
   "cell_type": "code",
   "execution_count": 5,
   "id": "5890fb70",
   "metadata": {},
   "outputs": [],
   "source": [
    "extra_intervals = [Interval(top=10, base=13, components=[extra_components[0]], data={'Naphtalène':100}),\n",
    "                     Interval(top=13, base=15, components=[extra_components[1]]),]"
   ]
  },
  {
   "cell_type": "code",
   "execution_count": 6,
   "id": "64473377",
   "metadata": {},
   "outputs": [],
   "source": [
    "bh3d = Borehole3D(name='BH_1', intervals=samples_intervals, legend=lithology_memoris, length=10, )"
   ]
  },
  {
   "cell_type": "code",
   "execution_count": 7,
   "id": "06ef1a8d",
   "metadata": {},
   "outputs": [],
   "source": [
    "bh3d_2 = Borehole3D(name='BH_2', intervals=samples_intervals+extra_intervals, \n",
    "                    legend=lithology_memoris, length=15, )"
   ]
  },
  {
   "cell_type": "code",
   "execution_count": 8,
   "id": "57f1f1bd",
   "metadata": {},
   "outputs": [
    {
     "data": {
      "image/png": "[encoded data removed]",
      "text/plain": [
       "<Figure size 432x432 with 5 Axes>"
      ]
     },
     "metadata": {
      "needs_background": "light"
     },
     "output_type": "display_data"
    }
   ],
   "source": [
    "bh3d.plot2d(repr_attribute='pollutant', repr_legend=pollutant_memoris)"
   ]
  },
  {
   "cell_type": "code",
   "execution_count": 9,
   "id": "12a0b89b",
   "metadata": {
    "scrolled": false
   },
   "outputs": [
    {
     "name": "stderr",
     "output_type": "stream",
     "text": [
      "/home/yanathan/.local/share/virtualenvs/GSDMA-DRfwm83x/lib/python3.8/site-packages/striplog/striplog.py:1505: MatplotlibDeprecationWarning: hatch must consist of a string of \"*+-./OX\\ox|\" or None, but found the following invalid values \"'v\". Passing invalid values is deprecated since 3.4 and will become an error two minor releases later.\n",
      "  rect = mpl.patches.Rectangle(origin,\n",
      "/home/yanathan/.local/share/virtualenvs/GSDMA-DRfwm83x/lib/python3.8/site-packages/striplog/striplog.py:1505: MatplotlibDeprecationWarning: hatch must consist of a string of \"*+-./OX\\ox|\" or None, but found the following invalid values \"'\". Passing invalid values is deprecated since 3.4 and will become an error two minor releases later.\n",
      "  rect = mpl.patches.Rectangle(origin,\n",
      "/home/yanathan/.local/share/virtualenvs/GSDMA-DRfwm83x/lib/python3.8/site-packages/striplog/legend.py:311: MatplotlibDeprecationWarning: hatch must consist of a string of \"*+-./OX\\ox|\" or None, but found the following invalid values \"'\". Passing invalid values is deprecated since 3.4 and will become an error two minor releases later.\n",
      "  rect1 = patches.Rectangle((0, 0),\n",
      "/home/yanathan/.local/share/virtualenvs/GSDMA-DRfwm83x/lib/python3.8/site-packages/striplog/legend.py:311: MatplotlibDeprecationWarning: hatch must consist of a string of \"*+-./OX\\ox|\" or None, but found the following invalid values \"'v\". Passing invalid values is deprecated since 3.4 and will become an error two minor releases later.\n",
      "  rect1 = patches.Rectangle((0, 0),\n"
     ]
    },
    {
     "data": {
      "image/png": "[encoded data removed]",
      "text/plain": [
       "<Figure size 432x432 with 7 Axes>"
      ]
     },
     "metadata": {
      "needs_background": "light"
     },
     "output_type": "display_data"
    }
   ],
   "source": [
    "bh3d.plot2d(repr_attribute='lithology', repr_legend=lithology_memoris)"
   ]
  },
  {
   "cell_type": "code",
   "execution_count": 10,
   "id": "3a1cc859",
   "metadata": {},
   "outputs": [
    {
     "name": "stdout",
     "output_type": "stream",
     "text": [
      "Colormap computing ...\n"
     ]
    },
    {
     "data": {
      "application/vnd.jupyter.widget-view+json": {
       "model_id": "3bc38df23e95469e9b7cc4e4b10b4031",
       "version_major": 2,
       "version_minor": 0
      },
      "text/plain": [
       "ViewInteractiveWidget(height=768, layout=Layout(height='auto', width='100%'), width=1024)"
      ]
     },
     "metadata": {},
     "output_type": "display_data"
    }
   ],
   "source": [
    "bh3d.plot3d(repr_attribute='lithology')"
   ]
  },
  {
   "cell_type": "code",
   "execution_count": null,
   "id": "e8ea3885",
   "metadata": {},
   "outputs": [],
   "source": []
  }
 ],
 "metadata": {
  "kernelspec": {
   "display_name": "Python 3",
   "language": "python",
   "name": "python3"
  },
  "language_info": {
   "codemirror_mode": {
    "name": "ipython",
    "version": 3
   },
   "file_extension": ".py",
   "mimetype": "text/x-python",
   "name": "python",
   "nbconvert_exporter": "python",
   "pygments_lexer": "ipython3",
   "version": "3.8.5"
  }
 },
 "nbformat": 4,
 "nbformat_minor": 5
}
