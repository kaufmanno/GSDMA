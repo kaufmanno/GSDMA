{
 "cells": [
  {
   "cell_type": "markdown",
   "id": "38bb9500",
   "metadata": {},
   "source": [
    "# Samples representation"
   ]
  },
  {
   "cell_type": "markdown",
   "id": "b89ee4ce",
   "metadata": {},
   "source": [
    "## Imports "
   ]
  },
  {
   "cell_type": "code",
   "execution_count": 35,
   "id": "5f8c8285",
   "metadata": {},
   "outputs": [],
   "source": [
    "from striplog import Component, Lexicon, Legend, Interval, Position, Decor\n",
    "from core.omf import Borehole3D\n",
    "import random"
   ]
  },
  {
   "cell_type": "code",
   "execution_count": 44,
   "id": "b246ea4d",
   "metadata": {},
   "outputs": [],
   "source": [
    "samples = [Component({'lithology': 'remblais'}),\n",
    "              Component({'lithology': 'limon'}),\n",
    "              Component({'lithology': 'schistes'}),\n",
    "              Component({'lithology': 'sable'}),\n",
    "              Component({'lithology': 'anthropique'})\n",
    "              ]\n",
    "list_of_decors=[]\n",
    "hatches = ['-', 'x', '.', 's', '=']\n",
    "colours = ['#888888', '#882222', '#EEAAAA', '#CC22CC', '#FFCC22']\n",
    "\n",
    "for i in range(len(samples)):\n",
    "    if hasattr(samples[i], 'colour'):\n",
    "        c = samples[i].colour\n",
    "    else:\n",
    "        c=colours[i]\n",
    "    \n",
    "    if hasattr(samples[i], 'hatch'):\n",
    "        h = samples[i].hatch\n",
    "    else:\n",
    "        h=hatches[i]\n",
    "        \n",
    "    d = {'color': c,\n",
    "         'hatch': h,\n",
    "         'component': samples[i],\n",
    "         'width': 3}\n",
    "    decor = Decor(d)\n",
    "    list_of_decors.append(decor)\n",
    "    \n",
    "samples_legend = Legend(list_of_decors)"
   ]
  },
  {
   "cell_type": "code",
   "execution_count": 53,
   "id": "15cdee89",
   "metadata": {},
   "outputs": [],
   "source": [
    "samples_intervals = [Interval(top=0, base=2, components=[samples[0]], data={'Naphtalène':50}),\n",
    "                     Interval(top=2, base=3, components=[samples[1]]),\n",
    "                     Interval(top=3, base=6, components=[samples[2]]),\n",
    "                     Interval(top=6, base=8, components=[samples[3]]),\n",
    "                     Interval(top=8, base=10, components=[samples[4]])]"
   ]
  },
  {
   "cell_type": "code",
   "execution_count": 54,
   "id": "4e1fd8b2",
   "metadata": {},
   "outputs": [
    {
     "data": {
      "text/plain": [
       "[Interval({'top': Position({'middle': 0.0, 'upper': 0.0, 'lower': 0.0, 'units': 'm'}), 'base': Position({'middle': 2.0, 'units': 'm'}), 'description': '', 'data': {'Naphtalène': 50}, 'components': [Component({'lithology': 'remblais'})]}),\n",
       " Interval({'top': Position({'middle': 2.0, 'units': 'm'}), 'base': Position({'middle': 3.0, 'units': 'm'}), 'description': '', 'data': {}, 'components': [Component({'lithology': 'limon'})]}),\n",
       " Interval({'top': Position({'middle': 3.0, 'units': 'm'}), 'base': Position({'middle': 6.0, 'units': 'm'}), 'description': '', 'data': {}, 'components': [Component({'lithology': 'schistes'})]}),\n",
       " Interval({'top': Position({'middle': 6.0, 'units': 'm'}), 'base': Position({'middle': 8.0, 'units': 'm'}), 'description': '', 'data': {}, 'components': [Component({'lithology': 'sable'})]}),\n",
       " Interval({'top': Position({'middle': 8.0, 'units': 'm'}), 'base': Position({'middle': 10.0, 'units': 'm'}), 'description': '', 'data': {}, 'components': [Component({'lithology': 'anthropique'})]})]"
      ]
     },
     "execution_count": 54,
     "metadata": {},
     "output_type": "execute_result"
    }
   ],
   "source": [
    "samples_intervals"
   ]
  },
  {
   "cell_type": "code",
   "execution_count": 47,
   "id": "e28fec75",
   "metadata": {},
   "outputs": [
    {
     "data": {
      "text/html": [
       "<table><tr><th>hatch</th><th>width</th><th>colour</th><th>component</th></tr><tr><td style=\"color:black; background-color:white\">-</td><td style=\"color:black; background-color:white\">3.0</td><td style=\"color:#000000; background-color:#888888\">#888888</td><td style=\"color:black; background-color:white\"><table><tr><td><strong>lithology</strong></td><td>remblais</td></tr></table></td></tr><tr><td style=\"color:black; background-color:white\">x</td><td style=\"color:black; background-color:white\">3.0</td><td style=\"color:#ffffff; background-color:#882222\">#882222</td><td style=\"color:black; background-color:white\"><table><tr><td><strong>lithology</strong></td><td>limon</td></tr></table></td></tr><tr><td style=\"color:black; background-color:white\">.</td><td style=\"color:black; background-color:white\">3.0</td><td style=\"color:#000000; background-color:#eeaaaa\">#eeaaaa</td><td style=\"color:black; background-color:white\"><table><tr><td><strong>lithology</strong></td><td>schistes</td></tr></table></td></tr><tr><td style=\"color:black; background-color:white\">s</td><td style=\"color:black; background-color:white\">3.0</td><td style=\"color:#ffffff; background-color:#cc22cc\">#cc22cc</td><td style=\"color:black; background-color:white\"><table><tr><td><strong>lithology</strong></td><td>sable</td></tr></table></td></tr><tr><td style=\"color:black; background-color:white\">=</td><td style=\"color:black; background-color:white\">3.0</td><td style=\"color:#000000; background-color:#ffcc22\">#ffcc22</td><td style=\"color:black; background-color:white\"><table><tr><td><strong>lithology</strong></td><td>anthropique</td></tr></table></td></tr></table>"
      ],
      "text/plain": [
       "Legend(Decor({'_colour': '#888888', 'hatch': '-', 'component': Component({'lithology': 'remblais'}), 'width': 3.0})\n",
       "Decor({'_colour': '#882222', 'hatch': 'x', 'component': Component({'lithology': 'limon'}), 'width': 3.0})\n",
       "Decor({'_colour': '#eeaaaa', 'hatch': '.', 'component': Component({'lithology': 'schistes'}), 'width': 3.0})\n",
       "Decor({'_colour': '#cc22cc', 'hatch': 's', 'component': Component({'lithology': 'sable'}), 'width': 3.0})\n",
       "Decor({'_colour': '#ffcc22', 'hatch': '=', 'component': Component({'lithology': 'anthropique'}), 'width': 3.0}))"
      ]
     },
     "execution_count": 47,
     "metadata": {},
     "output_type": "execute_result"
    }
   ],
   "source": [
    "samples_legend"
   ]
  },
  {
   "cell_type": "code",
   "execution_count": null,
   "id": "eb3b3398",
   "metadata": {},
   "outputs": [],
   "source": [
    "class Pollutant3D():\n",
    "    \"\"\"Class to represent pollutant in 3D view\n",
    "    \"\"\"\n",
    "    def __init__(self, ):"
   ]
  },
  {
   "cell_type": "code",
   "execution_count": 51,
   "id": "64473377",
   "metadata": {},
   "outputs": [
    {
     "name": "stdout",
     "output_type": "stream",
     "text": [
      "Borehole geometry created successfully !\n",
      "Borehole geometry created successfully !\n"
     ]
    }
   ],
   "source": [
    "bh3d = Borehole3D(name='BH_test', intervals=samples_intervals, legend=samples_legend, length=10, )"
   ]
  },
  {
   "cell_type": "code",
   "execution_count": 52,
   "id": "35244dda",
   "metadata": {},
   "outputs": [
    {
     "name": "stderr",
     "output_type": "stream",
     "text": [
      "/home/yanathan/.local/share/virtualenvs/GSDMA-DRfwm83x/lib/python3.8/site-packages/striplog/striplog.py:1505: MatplotlibDeprecationWarning: hatch must consist of a string of \"*+-./OX\\ox|\" or None, but found the following invalid values \"s\". Passing invalid values is deprecated since 3.4 and will become an error two minor releases later.\n",
      "  rect = mpl.patches.Rectangle(origin,\n",
      "/home/yanathan/.local/share/virtualenvs/GSDMA-DRfwm83x/lib/python3.8/site-packages/striplog/striplog.py:1505: MatplotlibDeprecationWarning: hatch must consist of a string of \"*+-./OX\\ox|\" or None, but found the following invalid values \"=\". Passing invalid values is deprecated since 3.4 and will become an error two minor releases later.\n",
      "  rect = mpl.patches.Rectangle(origin,\n",
      "/home/yanathan/.local/share/virtualenvs/GSDMA-DRfwm83x/lib/python3.8/site-packages/striplog/legend.py:311: MatplotlibDeprecationWarning: hatch must consist of a string of \"*+-./OX\\ox|\" or None, but found the following invalid values \"=\". Passing invalid values is deprecated since 3.4 and will become an error two minor releases later.\n",
      "  rect1 = patches.Rectangle((0, 0),\n",
      "/home/yanathan/.local/share/virtualenvs/GSDMA-DRfwm83x/lib/python3.8/site-packages/striplog/legend.py:311: MatplotlibDeprecationWarning: hatch must consist of a string of \"*+-./OX\\ox|\" or None, but found the following invalid values \"s\". Passing invalid values is deprecated since 3.4 and will become an error two minor releases later.\n",
      "  rect1 = patches.Rectangle((0, 0),\n"
     ]
    },
    {
     "data": {
      "image/png": "[encoded data removed]",
      "text/plain": [
       "<Figure size 432x432 with 7 Axes>"
      ]
     },
     "metadata": {
      "needs_background": "light"
     },
     "output_type": "display_data"
    }
   ],
   "source": [
    "bh3d.plot2d()"
   ]
  },
  {
   "cell_type": "code",
   "execution_count": 50,
   "id": "6142e8f4",
   "metadata": {},
   "outputs": [
    {
     "data": {
      "application/vnd.jupyter.widget-view+json": {
       "model_id": "6bb3da8ff8d8435badf5291e80894ff5",
       "version_major": 2,
       "version_minor": 0
      },
      "text/plain": [
       "ViewInteractiveWidget(height=768, layout=Layout(height='auto', width='100%'), width=1024)"
      ]
     },
     "metadata": {},
     "output_type": "display_data"
    }
   ],
   "source": [
    "bh3d.plot3d()"
   ]
  },
  {
   "cell_type": "code",
   "execution_count": null,
   "id": "db2cc386",
   "metadata": {},
   "outputs": [],
   "source": []
  }
 ],
 "metadata": {
  "kernelspec": {
   "display_name": "Python 3",
   "language": "python",
   "name": "python3"
  },
  "language_info": {
   "codemirror_mode": {
    "name": "ipython",
    "version": 3
   },
   "file_extension": ".py",
   "mimetype": "text/x-python",
   "name": "python",
   "nbconvert_exporter": "python",
   "pygments_lexer": "ipython3",
   "version": "3.8.5"
  }
 },
 "nbformat": 4,
 "nbformat_minor": 5
}
