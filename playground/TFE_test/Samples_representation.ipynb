{
 "cells": [
  {
   "cell_type": "markdown",
   "id": "38bb9500",
   "metadata": {},
   "source": [
    "# Samples representation"
   ]
  },
  {
   "cell_type": "markdown",
   "id": "b89ee4ce",
   "metadata": {},
   "source": [
    "## Imports "
   ]
  },
  {
   "cell_type": "code",
   "execution_count": 1,
   "id": "5f8c8285",
   "metadata": {},
   "outputs": [
    {
     "name": "stderr",
     "output_type": "stream",
     "text": [
      "/home/yanathan/.local/share/virtualenvs/GSDMA-DRfwm83x/lib/python3.8/site-packages/striplog/legend.py:687: UserWarning: This legend contains duplicate components.\n",
      "  warnings.warn(w)\n",
      "/home/yanathan/.local/share/virtualenvs/GSDMA-DRfwm83x/lib/python3.8/site-packages/striplog/legend.py:687: UserWarning: This legend contains duplicate components.\n",
      "  warnings.warn(w)\n",
      "/home/yanathan/.local/share/virtualenvs/GSDMA-DRfwm83x/lib/python3.8/site-packages/striplog/legend.py:687: UserWarning: This legend contains duplicate components.\n",
      "  warnings.warn(w)\n"
     ]
    }
   ],
   "source": [
    "from striplog import Component, Lexicon, Legend, Interval, Position, Decor\n",
    "from core.omf import Borehole3D\n",
    "from utils.lexicon.lexicon_fr import pollutant_legend, legend_memoris\n",
    "import random\n",
    "import pandas as pd"
   ]
  },
  {
   "cell_type": "code",
   "execution_count": 2,
   "id": "069f4f27",
   "metadata": {},
   "outputs": [],
   "source": [
    "samples = [Component({'lithology': 'remblais', 'pollutant':'VR'}),\n",
    "              Component({'lithology': 'limon', 'pollutant':'VI'}),\n",
    "              Component({'lithology': 'schistes', 'pollutant':'VS'}),\n",
    "              Component({'lithology': 'sable', 'pollutant':'VR'}),\n",
    "              Component({'lithology': 'anthropique', 'pollutant':'VI'})\n",
    "              ]"
   ]
  },
  {
   "cell_type": "raw",
   "id": "1546f780",
   "metadata": {},
   "source": [
    "samples = [Component({'pollutant': 'VR'}),\n",
    "              Component({'pollutant':'VI'}),\n",
    "              Component({'pollutant':'VS'}),\n",
    "              Component({'pollutant':'VS'}),\n",
    "              Component({})\n",
    "              ]"
   ]
  },
  {
   "cell_type": "code",
   "execution_count": 3,
   "id": "8f2e9779",
   "metadata": {},
   "outputs": [],
   "source": [
    "samples_intervals = [Interval(top=0, base=2, components=[samples[0]], data={'Naphtalène':50}),\n",
    "                     Interval(top=2, base=3, components=[samples[1]]),\n",
    "                     Interval(top=3, base=6, components=[samples[2]]),\n",
    "                     Interval(top=6, base=8, components=[samples[3]]),\n",
    "                     Interval(top=8, base=10, components=[samples[4]])]"
   ]
  },
  {
   "cell_type": "code",
   "execution_count": 4,
   "id": "15017f93",
   "metadata": {},
   "outputs": [
    {
     "data": {
      "text/html": [
       "<table><tr><th>component</th><th>width</th><th>colour</th><th>hatch</th></tr><tr><td style=\"color:black; background-color:white\"><table><tr><td><strong>pollutant</strong></td><td>vr</td></tr></table></td><td style=\"color:black; background-color:white\">None</td><td style=\"color:#000000; background-color:#00ff00\">#00ff00</td><td style=\"color:black; background-color:white\">None</td></tr><tr><td style=\"color:black; background-color:white\"><table><tr><td><strong>pollutant</strong></td><td>vs</td></tr></table></td><td style=\"color:black; background-color:white\">None</td><td style=\"color:#000000; background-color:#ffa500\">#ffa500</td><td style=\"color:black; background-color:white\">None</td></tr><tr><td style=\"color:black; background-color:white\"><table><tr><td><strong>pollutant</strong></td><td>vi</td></tr></table></td><td style=\"color:black; background-color:white\">None</td><td style=\"color:#ffffff; background-color:#ff0000\">#ff0000</td><td style=\"color:black; background-color:white\">None</td></tr><tr><td style=\"color:black; background-color:white\"><table><tr><td><strong>pollutant</strong></td><td>none</td></tr></table></td><td style=\"color:black; background-color:white\">None</td><td style=\"color:#000000; background-color:#888888\">#888888</td><td style=\"color:black; background-color:white\">None</td></tr></table>"
      ],
      "text/plain": [
       "Legend(Decor({'_colour': '#00ff00', 'width': None, 'component': Component({'pollutant': 'vr'}), 'hatch': None})\n",
       "Decor({'_colour': '#ffa500', 'width': None, 'component': Component({'pollutant': 'vs'}), 'hatch': None})\n",
       "Decor({'_colour': '#ff0000', 'width': None, 'component': Component({'pollutant': 'vi'}), 'hatch': None})\n",
       "Decor({'_colour': '#888888', 'width': None, 'component': Component({'pollutant': 'none'}), 'hatch': None}))"
      ]
     },
     "execution_count": 4,
     "metadata": {},
     "output_type": "execute_result"
    }
   ],
   "source": [
    "pollutant_legend"
   ]
  },
  {
   "cell_type": "code",
   "execution_count": 5,
   "id": "64473377",
   "metadata": {},
   "outputs": [
    {
     "name": "stdout",
     "output_type": "stream",
     "text": [
      "Borehole geometry created successfully !\n",
      "Borehole geometry created successfully !\n"
     ]
    }
   ],
   "source": [
    "bh3d = Borehole3D(name='BH_test', intervals=samples_intervals, legend=legend_memoris, length=10, )"
   ]
  },
  {
   "cell_type": "code",
   "execution_count": 6,
   "id": "805a7979",
   "metadata": {},
   "outputs": [
    {
     "data": {
      "text/plain": [
       "'VR'"
      ]
     },
     "execution_count": 6,
     "metadata": {},
     "output_type": "execute_result"
    }
   ],
   "source": [
    "getattr(bh3d[0].primary, 'pollutant')"
   ]
  },
  {
   "cell_type": "code",
   "execution_count": 7,
   "id": "281f9274",
   "metadata": {
    "scrolled": false
   },
   "outputs": [
    {
     "name": "stdout",
     "output_type": "stream",
     "text": [
      "['vr', 'vi', 'vs', 'vr', 'vi']\n",
      "none False\n",
      "vi True\n",
      "vs True\n",
      "vr True\n",
      "[Decor({'_colour': '#ff0000', 'width': 3, 'component': Component({'pollutant': 'vi'}), 'hatch': None}), Decor({'_colour': '#ffa500', 'width': 3, 'component': Component({'pollutant': 'vs'}), 'hatch': None}), Decor({'_colour': '#00ff00', 'width': 3, 'component': Component({'pollutant': 'vr'}), 'hatch': None})]\n",
      "plot_legend Decor({'_colour': '#ff0000', 'width': 3, 'component': Component({'pollutant': 'vi'}), 'hatch': None})\n",
      "Decor({'_colour': '#ffa500', 'width': 3, 'component': Component({'pollutant': 'vs'}), 'hatch': None})\n",
      "Decor({'_colour': '#00ff00', 'width': 3, 'component': Component({'pollutant': 'vr'}), 'hatch': None})\n",
      "legend Decor({'_colour': '#00ff00', 'width': 3, 'component': Component({'pollutant': 'vr'}), 'hatch': None})\n",
      "Decor({'_colour': '#ffa500', 'width': 3, 'component': Component({'pollutant': 'vs'}), 'hatch': None})\n",
      "Decor({'_colour': '#ff0000', 'width': 3, 'component': Component({'pollutant': 'vi'}), 'hatch': None})\n",
      "Decor({'_colour': '#888888', 'width': None, 'component': Component({'pollutant': 'none'}), 'hatch': None})\n",
      "self_legend Decor({'_colour': '#ffffe9', 'width': None, 'component': Component({'lithology': 'matériau(?:x)? meuble(?:s)?'}), 'hatch': None})\n",
      "Decor({'_colour': '#ffffd5', 'width': None, 'component': Component({'lithology': 'alluvion(?:s)?'}), 'hatch': None})\n",
      "Decor({'_colour': '#331100', 'width': None, 'component': Component({'lithology': 'boue(?:s)?'}), 'hatch': None})\n",
      "Decor({'_colour': '#d3b798', 'width': None, 'component': Component({'lithology': 'remblai(?:s)?'}), 'hatch': None})\n",
      "Decor({'_colour': '#ffcc99', 'width': None, 'component': Component({'lithology': 'tourbe(?:s)?'}), 'hatch': None})\n",
      "Decor({'_colour': '#ffeaa7', 'width': None, 'component': Component({'lithology': 'gypse(?:s)?'}), 'hatch': None})\n",
      "Decor({'_colour': '#ffdb67', 'width': None, 'component': Component({'lithology': 'houille(?:s)?'}), 'hatch': None})\n",
      "Decor({'_colour': '#ffd345', 'width': None, 'component': Component({'lithology': 'limon(?:s)?'}), 'hatch': None})\n",
      "Decor({'_colour': '#ffcb23', 'width': None, 'component': Component({'lithology': 'sable(?:s)?'}), 'hatch': None})\n",
      "Decor({'_colour': '#ecb400', 'width': None, 'component': Component({'lithology': 'gravier(?:s)?'}), 'hatch': None})\n",
      "Decor({'_colour': '#ace4c8', 'width': None, 'component': Component({'lithology': 'silt(?:s)?'}), 'hatch': None})\n",
      "Decor({'_colour': '#d5e6cc', 'width': None, 'component': Component({'lithology': 'argile(?:s)?'}), 'hatch': None})\n",
      "Decor({'_colour': '#92dcb7', 'width': None, 'component': Component({'lithology': 'bentonite(?:s)?'}), 'hatch': None})\n",
      "Decor({'_colour': '#bbffdd', 'width': None, 'component': Component({'lithology': 'schiste(?:s)?'}), 'hatch': None})\n",
      "Decor({'_colour': '#95ffca', 'width': None, 'component': Component({'lithology': 'argilite(?:s)?'}), 'hatch': None})\n",
      "Decor({'_colour': '#d6fe9a', 'width': None, 'component': Component({'lithology': 'siltite(?:s)?'}), 'hatch': None})\n",
      "Decor({'_colour': '#e1f0d8', 'width': None, 'component': Component({'lithology': 'tuffeau(?:s)?'}), 'hatch': None})\n",
      "Decor({'_colour': '#69cf9c', 'width': None, 'component': Component({'lithology': 'silex'}), 'hatch': None})\n",
      "Decor({'_colour': '#b7d9cc', 'width': None, 'component': Component({'lithology': 'conglomérat(?:s)?'}), 'hatch': None})\n",
      "Decor({'_colour': '#bcc0c5', 'width': None, 'component': Component({'lithology': 'dolomie(?:s)?'}), 'hatch': None})\n",
      "Decor({'_colour': '#019ccd', 'width': None, 'component': Component({'lithology': 'carbonate(?:s)?'}), 'hatch': None})\n",
      "Decor({'_colour': '#149ef8', 'width': None, 'component': Component({'lithology': 'calcaire(?:s)?'}), 'hatch': None})\n",
      "Decor({'_colour': '#0094f8', 'width': None, 'component': Component({'lithology': 'dolomite(?:s)?'}), 'hatch': None})\n",
      "Decor({'_colour': '#0094f8', 'width': None, 'component': Component({'lithology': 'dolomie(?:s)?'}), 'hatch': None})\n",
      "Decor({'_colour': '#deeffe', 'width': None, 'component': Component({'lithology': 'craie(?:s)?'}), 'hatch': None})\n",
      "Decor({'_colour': '#aac2c8', 'width': None, 'component': Component({'lithology': 'chert(?:s)?'}), 'hatch': None})\n",
      "Decor({'_colour': '#6e4900', 'width': None, 'component': Component({'lithology': 'charbon(?:s)?'}), 'hatch': None})\n",
      "Decor({'_colour': '#d9c2a3', 'width': None, 'component': Component({'lithology': 'marne(?:s)?'}), 'hatch': None})\n"
     ]
    },
    {
     "data": {
      "image/png": "[encoded data removed]",
      "text/plain": [
       "<Figure size 432x432 with 5 Axes>"
      ]
     },
     "metadata": {
      "needs_background": "light"
     },
     "output_type": "display_data"
    }
   ],
   "source": [
    "bh3d.plot2d(field='pollutant', legend=pollutant_legend)\n",
    "#bh3d.plot2d(field='lithology', legend=legend_memoris)"
   ]
  },
  {
   "cell_type": "code",
   "execution_count": 8,
   "id": "d901619b",
   "metadata": {},
   "outputs": [
    {
     "data": {
      "application/vnd.jupyter.widget-view+json": {
       "model_id": "04fe66647853405eba39f801db0dca78",
       "version_major": 2,
       "version_minor": 0
      },
      "text/plain": [
       "ViewInteractiveWidget(height=768, layout=Layout(height='auto', width='100%'), width=1024)"
      ]
     },
     "metadata": {},
     "output_type": "display_data"
    }
   ],
   "source": [
    "bh3d.plot3d()"
   ]
  },
  {
   "cell_type": "code",
   "execution_count": null,
   "id": "0392c269",
   "metadata": {},
   "outputs": [],
   "source": []
  }
 ],
 "metadata": {
  "kernelspec": {
   "display_name": "Python 3",
   "language": "python",
   "name": "python3"
  },
  "language_info": {
   "codemirror_mode": {
    "name": "ipython",
    "version": 3
   },
   "file_extension": ".py",
   "mimetype": "text/x-python",
   "name": "python",
   "nbconvert_exporter": "python",
   "pygments_lexer": "ipython3",
   "version": "3.8.5"
  }
 },
 "nbformat": 4,
 "nbformat_minor": 5
}
