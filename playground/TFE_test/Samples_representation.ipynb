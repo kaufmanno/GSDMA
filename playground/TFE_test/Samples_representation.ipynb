{
 "cells": [
  {
   "cell_type": "markdown",
   "id": "38bb9500",
   "metadata": {},
   "source": [
    "# Samples Mapping Test"
   ]
  },
  {
   "cell_type": "markdown",
   "id": "b89ee4ce",
   "metadata": {},
   "source": [
    "## Imports "
   ]
  },
  {
   "cell_type": "code",
   "execution_count": 1,
   "id": "5f8c8285",
   "metadata": {},
   "outputs": [
    {
     "name": "stderr",
     "output_type": "stream",
     "text": [
      "/home/yanathan/.local/share/virtualenvs/GSDMA-DRfwm83x/lib/python3.8/site-packages/striplog/legend.py:687: UserWarning: This legend contains duplicate components.\n",
      "  warnings.warn(w)\n",
      "/home/yanathan/.local/share/virtualenvs/GSDMA-DRfwm83x/lib/python3.8/site-packages/striplog/legend.py:687: UserWarning: This legend contains duplicate components.\n",
      "  warnings.warn(w)\n"
     ]
    }
   ],
   "source": [
    "from striplog import Component, Lexicon, Legend, Interval, Position, Decor\n",
    "from core.omf import Borehole3D\n",
    "from utils.lexicon.lexicon_fr import pollutant_memoris, lithology_memoris\n",
    "from utils.omf import build_bh3d_legend_cmap\n",
    "import random\n",
    "import pandas as pd"
   ]
  },
  {
   "cell_type": "markdown",
   "id": "0f6a204f",
   "metadata": {},
   "source": [
    "## Creation of Borehole3D objects"
   ]
  },
  {
   "cell_type": "markdown",
   "id": "5a8b7e2b",
   "metadata": {},
   "source": [
    "Define random attributes values"
   ]
  },
  {
   "cell_type": "code",
   "execution_count": 2,
   "id": "1fb26f7e",
   "metadata": {},
   "outputs": [],
   "source": [
    "litho = ['remblais','sables','limons','argiles','graviers','calcaires','schistes','silts','charbon','inconnu']\n",
    "pol = ['VR', 'VS', 'VI', 'Inconnu']"
   ]
  },
  {
   "cell_type": "code",
   "execution_count": 3,
   "id": "ff0c4105",
   "metadata": {},
   "outputs": [],
   "source": [
    "leg_dict = {'lithology':{'legend': lithology_memoris}, 'pollutant':{'legend': pollutant_memoris}}"
   ]
  },
  {
   "cell_type": "code",
   "execution_count": 4,
   "id": "efe33062",
   "metadata": {},
   "outputs": [],
   "source": [
    "n_intv = 5\n",
    "n_bhs = 2"
   ]
  },
  {
   "cell_type": "markdown",
   "id": "b236dd93",
   "metadata": {},
   "source": [
    "create random boreholes composition"
   ]
  },
  {
   "cell_type": "raw",
   "id": "6815a84d",
   "metadata": {},
   "source": [
    "bh3d_list = []\n",
    "\n",
    "for i in range(n_bhs):\n",
    "    pos_t = [0]\n",
    "    pos_b = []\n",
    "    samples = []\n",
    "    samples_intervals = []\n",
    "    for i in range(n_intv): # create intervals\n",
    "        t = pos_t[-1]\n",
    "        b = random.randint(t+1, t+3)\n",
    "        pos_t.append(b)\n",
    "        pos_b.append(b)\n",
    "        samples.append(Component({'lithology':random.sample(litho, 1)[0], 'pollutant':random.sample(pol, 1)[0]}))\n",
    "        samples_intervals.append(Interval(top=t, base=b, components=[samples[i]]))\n",
    "        print(f'{i} - top: {t}| base: {b} --> comp: {samples[i]}')\n",
    "        \n",
    "    bh3d_list.append(Borehole3D(name=f'BH_{i+1}', intervals=samples_intervals, legend_dict=leg_dict))"
   ]
  },
  {
   "cell_type": "raw",
   "id": "5c1be69e",
   "metadata": {},
   "source": [
    "bh3d_list[0]._vtk.save('tmp_files/bh1_mapping_test.vtk')\n",
    "bh3d_list[1]._vtk.save('tmp_files/bh2_mapping_test.vtk')"
   ]
  },
  {
   "cell_type": "code",
   "execution_count": 5,
   "id": "083a477d",
   "metadata": {},
   "outputs": [],
   "source": [
    "samples = [Component({'lithology': 'remblais', 'pollutant':'VR'}),\n",
    "              Component({'lithology': 'limon', 'pollutant':'Inconnu'}),\n",
    "              Component({'lithology': 'schistes', 'pollutant':'VS'}),\n",
    "              Component({'lithology': 'sable', 'pollutant':'VR'}),\n",
    "              Component({'lithology': 'inconnu', 'pollutant':'VI'})]"
   ]
  },
  {
   "cell_type": "code",
   "execution_count": 6,
   "id": "708f9ab8",
   "metadata": {},
   "outputs": [],
   "source": [
    "samples_intervals = [Interval(top=0, base=2, components=[samples[0]], data={'Naphtalene':50}),\n",
    "                     Interval(top=2, base=3, components=[samples[1]], data={'Benzene': {'value': 1.52, 'units': 'µg/l'}}),\n",
    "                     Interval(top=3, base=6, components=[samples[2]]),\n",
    "                     Interval(top=6, base=8, components=[samples[3]]),\n",
    "                     Interval(top=8, base=10, components=[samples[4]]),\n",
    "                     Interval(top=10, base=13, components=[samples[2]])]"
   ]
  },
  {
   "cell_type": "code",
   "execution_count": 7,
   "id": "252544aa",
   "metadata": {},
   "outputs": [],
   "source": [
    "samples_intervals_2 = [Interval(top=0, base=2, components=[samples[0]], data={'Naphtalene':50}),\n",
    "                     Interval(top=2, base=3, components=[samples[1]], data={'Benzene': {'value': 1.52, 'units': 'µg/l'}}),\n",
    "                     Interval(top=3, base=6, components=[samples[2]]),\n",
    "                     Interval(top=6, base=8, components=[samples[3]]),\n",
    "                     Interval(top=8, base=10, components=[samples[2]]),\n",
    "                     Interval(top=10, base=13, components=[samples[0]])]"
   ]
  },
  {
   "cell_type": "code",
   "execution_count": 8,
   "id": "8b48a6d4",
   "metadata": {},
   "outputs": [
    {
     "name": "stdout",
     "output_type": "stream",
     "text": [
      "indices: [0 1 2 3 4 2]\n",
      "Borehole geometry created successfully !\n",
      "indices: [0 1 2 3 2 0]\n",
      "Borehole geometry created successfully !\n"
     ]
    }
   ],
   "source": [
    "bh3d_1 = Borehole3D(name='BH_1', intervals=samples_intervals, legend_dict=leg_dict)\n",
    "bh3d_2 = Borehole3D(name='BH_2', intervals=samples_intervals_2, legend_dict=leg_dict)\n",
    "bh3d_list = [bh3d_1, bh3d_2]"
   ]
  },
  {
   "cell_type": "markdown",
   "id": "3312a46f",
   "metadata": {},
   "source": [
    "## Checking"
   ]
  },
  {
   "cell_type": "code",
   "execution_count": 9,
   "id": "ce776b14",
   "metadata": {},
   "outputs": [
    {
     "data": {
      "text/plain": [
       "['lithology', 'pollutant']"
      ]
     },
     "execution_count": 9,
     "metadata": {},
     "output_type": "execute_result"
    }
   ],
   "source": [
    "attrib = ['lithology', 'pollutant']\n",
    "attrib"
   ]
  },
  {
   "cell_type": "code",
   "execution_count": 10,
   "id": "b58630f9",
   "metadata": {},
   "outputs": [
    {
     "data": {
      "text/html": [
       "<table><tr><th>Header</th><th>Data Arrays</th></tr><tr><td>\n",
       "<table>\n",
       "<tr><th>PolyData</th><th>Information</th></tr>\n",
       "<tr><td>N Cells</td><td>312</td></tr>\n",
       "<tr><td>N Points</td><td>1200</td></tr>\n",
       "<tr><td>X Bounds</td><td>-1.248e+00, 1.248e+00</td></tr>\n",
       "<tr><td>Y Bounds</td><td>-1.250e+00, 1.250e+00</td></tr>\n",
       "<tr><td>Z Bounds</td><td>-3.000e+00, 1.000e+01</td></tr>\n",
       "<tr><td>N Arrays</td><td>3</td></tr>\n",
       "</table>\n",
       "\n",
       "</td><td>\n",
       "<table>\n",
       "<tr><th>Name</th><th>Field</th><th>Type</th><th>N Comp</th><th>Min</th><th>Max</th></tr>\n",
       "<tr><td>TubeNormals</td><td>Points</td><td>float32</td><td>3</td><td>-1.000e+00</td><td>1.000e+00</td></tr>\n",
       "<tr><td>Line Index</td><td>Cells</td><td>int64</td><td>1</td><td>0.000e+00</td><td>5.000e+00</td></tr>\n",
       "<tr><td><b>lithology</b></td><td>Cells</td><td>int64</td><td>1</td><td>0.000e+00</td><td>4.000e+00</td></tr>\n",
       "</table>\n",
       "\n",
       "</td></tr> </table>"
      ],
      "text/plain": [
       "PolyData (0x7f65b1315fa0)\n",
       "  N Cells:\t312\n",
       "  N Points:\t1200\n",
       "  X Bounds:\t-1.248e+00, 1.248e+00\n",
       "  Y Bounds:\t-1.250e+00, 1.250e+00\n",
       "  Z Bounds:\t-3.000e+00, 1.000e+01\n",
       "  N Arrays:\t3"
      ]
     },
     "execution_count": 10,
     "metadata": {},
     "output_type": "execute_result"
    }
   ],
   "source": [
    "vtk = bh3d_list[0]._vtk\n",
    "vtk"
   ]
  },
  {
   "cell_type": "code",
   "execution_count": 11,
   "id": "19622ca4",
   "metadata": {},
   "outputs": [
    {
     "data": {
      "text/plain": [
       "((312,),\n",
       " array([0, 0, 0, 0, 0, 0, 0, 0, 0, 0, 0, 0, 0, 0, 0, 0, 0, 0, 0, 0, 0, 0,\n",
       "        0, 0, 0, 0, 0, 0, 0, 0, 0, 0, 0, 0, 0, 0, 0, 0, 0, 0, 0, 0, 0, 0,\n",
       "        0, 0, 0, 0, 0, 0, 0, 0, 1, 1, 1, 1, 1, 1, 1, 1, 1, 1, 1, 1, 1, 1,\n",
       "        1, 1, 1, 1, 1, 1, 1, 1, 1, 1, 1, 1, 1, 1, 1, 1, 1, 1, 1, 1, 1, 1,\n",
       "        1, 1, 1, 1, 1, 1, 1, 1, 1, 1, 1, 1, 1, 1, 1, 1, 2, 2, 2, 2, 2, 2,\n",
       "        2, 2, 2, 2, 2, 2, 2, 2, 2, 2, 2, 2, 2, 2, 2, 2, 2, 2, 2, 2, 2, 2,\n",
       "        2, 2, 2, 2, 2, 2, 2, 2, 2, 2, 2, 2, 2, 2, 2, 2, 2, 2, 2, 2, 2, 2,\n",
       "        2, 2, 3, 3, 3, 3, 3, 3, 3, 3, 3, 3, 3, 3, 3, 3, 3, 3, 3, 3, 3, 3,\n",
       "        3, 3, 3, 3, 3, 3, 3, 3, 3, 3, 3, 3, 3, 3, 3, 3, 3, 3, 3, 3, 3, 3,\n",
       "        3, 3, 3, 3, 3, 3, 3, 3, 3, 3, 4, 4, 4, 4, 4, 4, 4, 4, 4, 4, 4, 4,\n",
       "        4, 4, 4, 4, 4, 4, 4, 4, 4, 4, 4, 4, 4, 4, 4, 4, 4, 4, 4, 4, 4, 4,\n",
       "        4, 4, 4, 4, 4, 4, 4, 4, 4, 4, 4, 4, 4, 4, 4, 4, 4, 4, 2, 2, 2, 2,\n",
       "        2, 2, 2, 2, 2, 2, 2, 2, 2, 2, 2, 2, 2, 2, 2, 2, 2, 2, 2, 2, 2, 2,\n",
       "        2, 2, 2, 2, 2, 2, 2, 2, 2, 2, 2, 2, 2, 2, 2, 2, 2, 2, 2, 2, 2, 2,\n",
       "        2, 2, 2, 2]))"
      ]
     },
     "execution_count": 11,
     "metadata": {},
     "output_type": "execute_result"
    }
   ],
   "source": [
    "vtk['lithology'].shape, vtk['lithology']"
   ]
  },
  {
   "cell_type": "markdown",
   "id": "16fed775",
   "metadata": {},
   "source": [
    "## 2D/3D display"
   ]
  },
  {
   "cell_type": "raw",
   "id": "85d88dbf",
   "metadata": {},
   "source": [
    "lithologies [0 : 'remblais', 1 : 'limon', 2 : 'schistes', 3 : 'sable', 4 : 'inconnu']\n",
    "\n",
    "pollutants [0 : 'VR', 1 : 'Inconnu', 2 : 'VS', 3 : 'VR', 4: 'VI']"
   ]
  },
  {
   "cell_type": "markdown",
   "id": "3cff8343",
   "metadata": {},
   "source": [
    "### Borehole #1"
   ]
  },
  {
   "cell_type": "code",
   "execution_count": 12,
   "id": "823b5047",
   "metadata": {},
   "outputs": [
    {
     "data": {
      "text/plain": [
       "{'legend': Legend(Decor({'_colour': '#d3b798', 'width': 3, 'hatch': \"'v'\", 'component': Component({'lithology': 'remblais'})})\n",
       " Decor({'_colour': '#798732', 'width': 3, 'hatch': \"'-.'\", 'component': Component({'lithology': 'limon'})})\n",
       " Decor({'_colour': '#bbffdd', 'width': 3, 'hatch': \"'--'\", 'component': Component({'lithology': 'schistes'})})\n",
       " Decor({'_colour': '#ffcb23', 'width': 3, 'hatch': \"'..'\", 'component': Component({'lithology': 'sable'})})\n",
       " Decor({'_colour': '#ffffff', 'width': 3, 'hatch': '/|\\\\', 'component': Component({'lithology': 'inconnu'})})),\n",
       " 'cmap': <matplotlib.colors.ListedColormap at 0x7f65b1399b20>,\n",
       " 'values': ['remblais', 'limon', 'schistes', 'sable', 'inconnu']}"
      ]
     },
     "execution_count": 12,
     "metadata": {},
     "output_type": "execute_result"
    }
   ],
   "source": [
    "bh3d_list[0].legend_dict[attrib[0]]#['legend']"
   ]
  },
  {
   "cell_type": "code",
   "execution_count": 13,
   "id": "22e3054f",
   "metadata": {},
   "outputs": [
    {
     "data": {
      "text/plain": [
       "[0, 1, 2, 3, 4, 2]"
      ]
     },
     "execution_count": 13,
     "metadata": {},
     "output_type": "execute_result"
    }
   ],
   "source": [
    "bh3d_list[0].geometry.data[0].array.array.tolist() # default attribute ('lithology') values indices"
   ]
  },
  {
   "cell_type": "code",
   "execution_count": 14,
   "id": "2f01fa2e",
   "metadata": {},
   "outputs": [
    {
     "data": {
      "text/html": [
       "<table><tr><th>colour</th><th>width</th><th>hatch</th><th>component</th></tr><tr><td style=\"color:#000000; background-color:#d3b798\">#d3b798</td><td style=\"color:black; background-color:white\">3</td><td style=\"color:black; background-color:white\">'v'</td><td style=\"color:black; background-color:white\"><table><tr><td><strong>lithology</strong></td><td>remblais</td></tr></table></td></tr><tr><td style=\"color:#ffffff; background-color:#798732\">#798732</td><td style=\"color:black; background-color:white\">3</td><td style=\"color:black; background-color:white\">'-.'</td><td style=\"color:black; background-color:white\"><table><tr><td><strong>lithology</strong></td><td>limon</td></tr></table></td></tr><tr><td style=\"color:#000000; background-color:#bbffdd\">#bbffdd</td><td style=\"color:black; background-color:white\">3</td><td style=\"color:black; background-color:white\">'--'</td><td style=\"color:black; background-color:white\"><table><tr><td><strong>lithology</strong></td><td>schistes</td></tr></table></td></tr><tr><td style=\"color:#000000; background-color:#ffcb23\">#ffcb23</td><td style=\"color:black; background-color:white\">3</td><td style=\"color:black; background-color:white\">'..'</td><td style=\"color:black; background-color:white\"><table><tr><td><strong>lithology</strong></td><td>sable</td></tr></table></td></tr><tr><td style=\"color:#000000; background-color:#ffffff\">#ffffff</td><td style=\"color:black; background-color:white\">3</td><td style=\"color:black; background-color:white\">/|\\</td><td style=\"color:black; background-color:white\"><table><tr><td><strong>lithology</strong></td><td>inconnu</td></tr></table></td></tr></table>"
      ],
      "text/plain": [
       "Legend(Decor({'_colour': '#d3b798', 'width': 3, 'hatch': \"'v'\", 'component': Component({'lithology': 'remblais'})})\n",
       "Decor({'_colour': '#798732', 'width': 3, 'hatch': \"'-.'\", 'component': Component({'lithology': 'limon'})})\n",
       "Decor({'_colour': '#bbffdd', 'width': 3, 'hatch': \"'--'\", 'component': Component({'lithology': 'schistes'})})\n",
       "Decor({'_colour': '#ffcb23', 'width': 3, 'hatch': \"'..'\", 'component': Component({'lithology': 'sable'})})\n",
       "Decor({'_colour': '#ffffff', 'width': 3, 'hatch': '/|\\\\', 'component': Component({'lithology': 'inconnu'})}))"
      ]
     },
     "execution_count": 14,
     "metadata": {},
     "output_type": "execute_result"
    }
   ],
   "source": [
    "bh3d_list[0].legend_dict[attrib[0]]['legend']"
   ]
  },
  {
   "cell_type": "code",
   "execution_count": 15,
   "id": "3cfd7951",
   "metadata": {},
   "outputs": [
    {
     "data": {
      "image/png": "[encoded data removed]",
      "text/html": [
       "<div style=\"vertical-align: middle;\"><strong>from_list</strong> </div><div class=\"cmap\"><img alt=\"from_list colormap\" title=\"from_list\" style=\"border: 1px solid #555;\" src=\"data:image/png;base64,iVBORw0KGgoAAAANSUhEUgAAAgAAAABACAYAAABsv8+/AAAAGHRFWHRUaXRsZQBmcm9tX2xpc3QgY29sb3JtYXBDL89FAAAAHnRFWHREZXNjcmlwdGlvbgBmcm9tX2xpc3QgY29sb3JtYXABtCnOAAAAMHRFWHRBdXRob3IATWF0cGxvdGxpYiB2My40LjIsIGh0dHBzOi8vbWF0cGxvdGxpYi5vcmes1mPdAAAAMnRFWHRTb2Z0d2FyZQBNYXRwbG90bGliIHYzLjQuMiwgaHR0cHM6Ly9tYXRwbG90bGliLm9yZ4Jw/PoAAAFPSURBVHic7dbBDUFBAABR1KSCH1GTUkQB/6IATThIXPVCA+tqJfNeBXOc7fN2fm/4S+vjMjuBgeV0nZ3AwOF+nJ3AyP41u4AvdrMDAIDfMwAAEGQAACDIAABAkAEAgCADAABBBgAAggwAAAQZAAAIMgAAEGQAACDIAABAkAEAgCADAABBBgAAggwAAAQZAAAIMgAAEGQAACDIAABAkAEAgCADAABBBgAAggwAAAQZAAAIMgAAEGQAACDIAABAkAEAgCADAABBBgAAggwAAAQZAAAIMgAAEGQAACDIAABAkAEAgCADAABBBgAAggwAAAQZAAAIMgAAEGQAACDIAABAkAEAgCADAABBBgAAggwAAAQZAAAIMgAAEGQAACDIAABAkAEAgCADAABBBgAAggwAAAQZAAAIMgAAEGQAACDIAABAkAEAgCADAABBBgAAgj5SVgl8+AKKkQAAAABJRU5ErkJggg==\"></div><div style=\"vertical-align: middle; max-width: 514px; display: flex; justify-content: space-between;\"><div style=\"float: left;\"><div title=\"#d3b798ff\" style=\"display: inline-block; width: 1em; height: 1em; margin: 0; vertical-align: middle; border: 1px solid #555; background-color: #d3b798ff;\"></div> under</div><div style=\"margin: 0 auto; display: inline-block;\">bad <div title=\"#00000000\" style=\"display: inline-block; width: 1em; height: 1em; margin: 0; vertical-align: middle; border: 1px solid #555; background-color: #00000000;\"></div></div><div style=\"float: right;\">over <div title=\"#ffffffff\" style=\"display: inline-block; width: 1em; height: 1em; margin: 0; vertical-align: middle; border: 1px solid #555; background-color: #ffffffff;\"></div></div>"
      ],
      "text/plain": [
       "<matplotlib.colors.ListedColormap at 0x7f65b1399b20>"
      ]
     },
     "execution_count": 15,
     "metadata": {},
     "output_type": "execute_result"
    }
   ],
   "source": [
    "bh3d_list[0].legend_dict[attrib[0]]['cmap']"
   ]
  },
  {
   "cell_type": "code",
   "execution_count": 16,
   "id": "c6bf9ba3",
   "metadata": {
    "scrolled": false
   },
   "outputs": [
    {
     "name": "stderr",
     "output_type": "stream",
     "text": [
      "/home/yanathan/.local/share/virtualenvs/GSDMA-DRfwm83x/lib/python3.8/site-packages/striplog/striplog.py:1505: MatplotlibDeprecationWarning: hatch must consist of a string of \"*+-./OX\\ox|\" or None, but found the following invalid values \"'v\". Passing invalid values is deprecated since 3.4 and will become an error two minor releases later.\n",
      "  rect = mpl.patches.Rectangle(origin,\n",
      "/home/yanathan/.local/share/virtualenvs/GSDMA-DRfwm83x/lib/python3.8/site-packages/striplog/striplog.py:1505: MatplotlibDeprecationWarning: hatch must consist of a string of \"*+-./OX\\ox|\" or None, but found the following invalid values \"'\". Passing invalid values is deprecated since 3.4 and will become an error two minor releases later.\n",
      "  rect = mpl.patches.Rectangle(origin,\n",
      "/home/yanathan/.local/share/virtualenvs/GSDMA-DRfwm83x/lib/python3.8/site-packages/striplog/legend.py:311: MatplotlibDeprecationWarning: hatch must consist of a string of \"*+-./OX\\ox|\" or None, but found the following invalid values \"'\". Passing invalid values is deprecated since 3.4 and will become an error two minor releases later.\n",
      "  rect1 = patches.Rectangle((0, 0),\n",
      "/home/yanathan/.local/share/virtualenvs/GSDMA-DRfwm83x/lib/python3.8/site-packages/striplog/legend.py:311: MatplotlibDeprecationWarning: hatch must consist of a string of \"*+-./OX\\ox|\" or None, but found the following invalid values \"'v\". Passing invalid values is deprecated since 3.4 and will become an error two minor releases later.\n",
      "  rect1 = patches.Rectangle((0, 0),\n"
     ]
    },
    {
     "data": {
      "image/png": "[encoded data removed]",
      "text/plain": [
       "<Figure size 432x432 with 7 Axes>"
      ]
     },
     "metadata": {
      "needs_background": "light"
     },
     "output_type": "display_data"
    }
   ],
   "source": [
    "bh3d_list[0].log_plot(repr_attribute=attrib[0])"
   ]
  },
  {
   "cell_type": "code",
   "execution_count": 17,
   "id": "df7ab2fa",
   "metadata": {},
   "outputs": [
    {
     "data": {
      "application/vnd.jupyter.widget-view+json": {
       "model_id": "6b069a6c9c104ce892934e3803f32285",
       "version_major": 2,
       "version_minor": 0
      },
      "text/plain": [
       "ViewInteractiveWidget(height=768, layout=Layout(height='auto', width='100%'), width=1024)"
      ]
     },
     "metadata": {},
     "output_type": "display_data"
    }
   ],
   "source": [
    "bh3d_list[0].plot3d(repr_attribute='lithology')"
   ]
  },
  {
   "cell_type": "markdown",
   "id": "8eefdeb8",
   "metadata": {},
   "source": [
    "### Borehole #2"
   ]
  },
  {
   "cell_type": "code",
   "execution_count": 18,
   "id": "fb2f2391",
   "metadata": {
    "scrolled": true
   },
   "outputs": [
    {
     "data": {
      "text/plain": [
       "[0, 1, 2, 3, 2, 0]"
      ]
     },
     "execution_count": 18,
     "metadata": {},
     "output_type": "execute_result"
    }
   ],
   "source": [
    "bh3d_list[1].geometry.data[0].array.array.tolist()"
   ]
  },
  {
   "cell_type": "code",
   "execution_count": 19,
   "id": "f58a8b3c",
   "metadata": {},
   "outputs": [
    {
     "data": {
      "image/png": "[encoded data removed]",
      "text/html": [
       "<div style=\"vertical-align: middle;\"><strong>from_list</strong> </div><div class=\"cmap\"><img alt=\"from_list colormap\" title=\"from_list\" style=\"border: 1px solid #555;\" src=\"data:image/png;base64,iVBORw0KGgoAAAANSUhEUgAAAgAAAABACAYAAABsv8+/AAAAGHRFWHRUaXRsZQBmcm9tX2xpc3QgY29sb3JtYXBDL89FAAAAHnRFWHREZXNjcmlwdGlvbgBmcm9tX2xpc3QgY29sb3JtYXABtCnOAAAAMHRFWHRBdXRob3IATWF0cGxvdGxpYiB2My40LjIsIGh0dHBzOi8vbWF0cGxvdGxpYi5vcmes1mPdAAAAMnRFWHRTb2Z0d2FyZQBNYXRwbG90bGliIHYzLjQuMiwgaHR0cHM6Ly9tYXRwbG90bGliLm9yZ4Jw/PoAAAFFSURBVHic7dYxDcIAFABRQBpp0FQpBAEsFVATDCQVRF3wh3tPwY13Pfbn70LW+/uaTmDQfd2mExi0fB7TCQy6TQcAAP9nAAAgyAAAQJABAIAgAwAAQQYAAIIMAAAEGQAACDIAABBkAAAgyAAAQJABAIAgAwAAQQYAAIIMAAAEGQAACDIAABBkAAAgyAAAQJABAIAgAwAAQQYAAIIMAAAEGQAACDIAABBkAAAgyAAAQJABAIAgAwAAQQYAAIIMAAAEGQAACDIAABBkAAAgyAAAQJABAIAgAwAAQQYAAIIMAAAEGQAACDIAABBkAAAgyAAAQJABAIAgAwAAQQYAAIIMAAAEGQAACDIAABBkAAAgyAAAQJABAIAgAwAAQQYAAIIMAAAEGQAACDIAABBkAAAgyAAAQJABAIAgAwAAQQYAAIIMAAAEnTWrCGzbLRWvAAAAAElFTkSuQmCC\"></div><div style=\"vertical-align: middle; max-width: 514px; display: flex; justify-content: space-between;\"><div style=\"float: left;\"><div title=\"#d3b798ff\" style=\"display: inline-block; width: 1em; height: 1em; margin: 0; vertical-align: middle; border: 1px solid #555; background-color: #d3b798ff;\"></div> under</div><div style=\"margin: 0 auto; display: inline-block;\">bad <div title=\"#00000000\" style=\"display: inline-block; width: 1em; height: 1em; margin: 0; vertical-align: middle; border: 1px solid #555; background-color: #00000000;\"></div></div><div style=\"float: right;\">over <div title=\"#ffcb23ff\" style=\"display: inline-block; width: 1em; height: 1em; margin: 0; vertical-align: middle; border: 1px solid #555; background-color: #ffcb23ff;\"></div></div>"
      ],
      "text/plain": [
       "<matplotlib.colors.ListedColormap at 0x7f65b131c160>"
      ]
     },
     "execution_count": 19,
     "metadata": {},
     "output_type": "execute_result"
    }
   ],
   "source": [
    "bh3d_list[1].legend_dict[attrib[0]]['cmap']"
   ]
  },
  {
   "cell_type": "code",
   "execution_count": 20,
   "id": "e5e21992",
   "metadata": {},
   "outputs": [
    {
     "data": {
      "image/png": "[encoded data removed]",
      "text/html": [
       "<div style=\"vertical-align: middle;\"><strong>from_list</strong> </div><div class=\"cmap\"><img alt=\"from_list colormap\" title=\"from_list\" style=\"border: 1px solid #555;\" src=\"data:image/png;base64,iVBORw0KGgoAAAANSUhEUgAAAgAAAABACAYAAABsv8+/AAAAGHRFWHRUaXRsZQBmcm9tX2xpc3QgY29sb3JtYXBDL89FAAAAHnRFWHREZXNjcmlwdGlvbgBmcm9tX2xpc3QgY29sb3JtYXABtCnOAAAAMHRFWHRBdXRob3IATWF0cGxvdGxpYiB2My40LjIsIGh0dHBzOi8vbWF0cGxvdGxpYi5vcmes1mPdAAAAMnRFWHRTb2Z0d2FyZQBNYXRwbG90bGliIHYzLjQuMiwgaHR0cHM6Ly9tYXRwbG90bGliLm9yZ4Jw/PoAAAEsSURBVHic7dYxAcAwDMCwbvxxlGbGYjksIfDp58yZAyTN3S4AtrzbAQDA/wwAAAQZAAAIMgAAEGQAACDIAABAkAEAgCADAABBBgAAggwAAAQZAAAIMgAAEGQAACDIAABAkAEAgCADAABBBgAAggwAAAQZAAAIMgAAEGQAACDIAABAkAEAgCADAABBBgAAggwAAAQZAAAIMgAAEGQAACDIAABAkAEAgCADAABBBgAAggwAAAQZAAAIMgAAEGQAACDIAABAkAEAgCADAABBBgAAggwAAAQZAAAIMgAAEGQAACDIAABAkAEAgCADAABBBgAAggwAAAQZAAAIMgAAEGQAACDIAABAkAEAgCADAABBBgAAggwAAAQZAAAIMgAAEGQAACDIAABAkAEAgKAP0RkEI6JcSioAAAAASUVORK5CYII=\"></div><div style=\"vertical-align: middle; max-width: 514px; display: flex; justify-content: space-between;\"><div style=\"float: left;\"><div title=\"#00ff00ff\" style=\"display: inline-block; width: 1em; height: 1em; margin: 0; vertical-align: middle; border: 1px solid #555; background-color: #00ff00ff;\"></div> under</div><div style=\"margin: 0 auto; display: inline-block;\">bad <div title=\"#00000000\" style=\"display: inline-block; width: 1em; height: 1em; margin: 0; vertical-align: middle; border: 1px solid #555; background-color: #00000000;\"></div></div><div style=\"float: right;\">over <div title=\"#ffa500ff\" style=\"display: inline-block; width: 1em; height: 1em; margin: 0; vertical-align: middle; border: 1px solid #555; background-color: #ffa500ff;\"></div></div>"
      ],
      "text/plain": [
       "<matplotlib.colors.ListedColormap at 0x7f65b13c03d0>"
      ]
     },
     "execution_count": 20,
     "metadata": {},
     "output_type": "execute_result"
    }
   ],
   "source": [
    "bh3d_list[1].legend_dict[attrib[1]]['cmap']"
   ]
  },
  {
   "cell_type": "code",
   "execution_count": 21,
   "id": "094de4b8",
   "metadata": {},
   "outputs": [
    {
     "name": "stderr",
     "output_type": "stream",
     "text": [
      "/home/yanathan/.local/share/virtualenvs/GSDMA-DRfwm83x/lib/python3.8/site-packages/striplog/striplog.py:1505: MatplotlibDeprecationWarning: hatch must consist of a string of \"*+-./OX\\ox|\" or None, but found the following invalid values \"'v\". Passing invalid values is deprecated since 3.4 and will become an error two minor releases later.\n",
      "  rect = mpl.patches.Rectangle(origin,\n",
      "/home/yanathan/.local/share/virtualenvs/GSDMA-DRfwm83x/lib/python3.8/site-packages/striplog/striplog.py:1505: MatplotlibDeprecationWarning: hatch must consist of a string of \"*+-./OX\\ox|\" or None, but found the following invalid values \"'\". Passing invalid values is deprecated since 3.4 and will become an error two minor releases later.\n",
      "  rect = mpl.patches.Rectangle(origin,\n",
      "/home/yanathan/.local/share/virtualenvs/GSDMA-DRfwm83x/lib/python3.8/site-packages/striplog/legend.py:311: MatplotlibDeprecationWarning: hatch must consist of a string of \"*+-./OX\\ox|\" or None, but found the following invalid values \"'\". Passing invalid values is deprecated since 3.4 and will become an error two minor releases later.\n",
      "  rect1 = patches.Rectangle((0, 0),\n",
      "/home/yanathan/.local/share/virtualenvs/GSDMA-DRfwm83x/lib/python3.8/site-packages/striplog/legend.py:311: MatplotlibDeprecationWarning: hatch must consist of a string of \"*+-./OX\\ox|\" or None, but found the following invalid values \"'v\". Passing invalid values is deprecated since 3.4 and will become an error two minor releases later.\n",
      "  rect1 = patches.Rectangle((0, 0),\n"
     ]
    },
    {
     "data": {
      "image/png": "[encoded data removed]",
      "text/plain": [
       "<Figure size 432x432 with 6 Axes>"
      ]
     },
     "metadata": {
      "needs_background": "light"
     },
     "output_type": "display_data"
    }
   ],
   "source": [
    "bh3d_list[1].log_plot(repr_attribute=attrib[0])"
   ]
  },
  {
   "cell_type": "code",
   "execution_count": 22,
   "id": "e50aca4e",
   "metadata": {},
   "outputs": [
    {
     "data": {
      "application/vnd.jupyter.widget-view+json": {
       "model_id": "9f41112df3784ef9b17aec4bf66ad5e6",
       "version_major": 2,
       "version_minor": 0
      },
      "text/plain": [
       "ViewInteractiveWidget(height=768, layout=Layout(height='auto', width='100%'), width=1024)"
      ]
     },
     "metadata": {},
     "output_type": "display_data"
    }
   ],
   "source": [
    "bh3d_list[1].plot3d(repr_attribute='lithology')"
   ]
  },
  {
   "cell_type": "code",
   "execution_count": 23,
   "id": "dabffaeb",
   "metadata": {},
   "outputs": [
    {
     "ename": "KeyError",
     "evalue": "1",
     "output_type": "error",
     "traceback": [
      "\u001b[0;31m---------------------------------------------------------------------------\u001b[0m",
      "\u001b[0;31mKeyError\u001b[0m                                  Traceback (most recent call last)",
      "\u001b[0;32m<ipython-input-23-cbc3216e003a>\u001b[0m in \u001b[0;36m<module>\u001b[0;34m\u001b[0m\n\u001b[0;32m----> 1\u001b[0;31m \u001b[0mbh3d_list\u001b[0m\u001b[0;34m[\u001b[0m\u001b[0;36m1\u001b[0m\u001b[0;34m]\u001b[0m\u001b[0;34m.\u001b[0m\u001b[0mlog_plot\u001b[0m\u001b[0;34m(\u001b[0m\u001b[0mrepr_attribute\u001b[0m\u001b[0;34m=\u001b[0m\u001b[0mattrib\u001b[0m\u001b[0;34m[\u001b[0m\u001b[0;36m1\u001b[0m\u001b[0;34m]\u001b[0m\u001b[0;34m)\u001b[0m\u001b[0;34m\u001b[0m\u001b[0;34m\u001b[0m\u001b[0m\n\u001b[0m",
      "\u001b[0;32m~/Projects/GSDMA/core/omf.py\u001b[0m in \u001b[0;36mlog_plot\u001b[0;34m(self, figsize, repr_legend, text_size, width, repr_attribute)\u001b[0m\n\u001b[1;32m    368\u001b[0m                 \u001b[0mdecors\u001b[0m\u001b[0;34m.\u001b[0m\u001b[0mupdate\u001b[0m\u001b[0;34m(\u001b[0m\u001b[0;34m{\u001b[0m\u001b[0mattrib_values\u001b[0m\u001b[0;34m.\u001b[0m\u001b[0mindex\u001b[0m\u001b[0;34m(\u001b[0m\u001b[0mreg_value\u001b[0m\u001b[0;34m[\u001b[0m\u001b[0;36m0\u001b[0m\u001b[0;34m]\u001b[0m\u001b[0;34m)\u001b[0m\u001b[0;34m:\u001b[0m \u001b[0mlegend_copy\u001b[0m\u001b[0;34m[\u001b[0m\u001b[0mi\u001b[0m\u001b[0;34m]\u001b[0m\u001b[0;34m}\u001b[0m\u001b[0;34m)\u001b[0m\u001b[0;34m\u001b[0m\u001b[0;34m\u001b[0m\u001b[0m\n\u001b[1;32m    369\u001b[0m \u001b[0;34m\u001b[0m\u001b[0m\n\u001b[0;32m--> 370\u001b[0;31m         \u001b[0mplot_decors\u001b[0m \u001b[0;34m=\u001b[0m \u001b[0;34m[\u001b[0m\u001b[0mdecors\u001b[0m\u001b[0;34m[\u001b[0m\u001b[0midx\u001b[0m\u001b[0;34m]\u001b[0m \u001b[0;32mfor\u001b[0m \u001b[0midx\u001b[0m \u001b[0;32min\u001b[0m \u001b[0mrange\u001b[0m\u001b[0;34m(\u001b[0m\u001b[0mlen\u001b[0m\u001b[0;34m(\u001b[0m\u001b[0mdecors\u001b[0m\u001b[0;34m.\u001b[0m\u001b[0mvalues\u001b[0m\u001b[0;34m(\u001b[0m\u001b[0;34m)\u001b[0m\u001b[0;34m)\u001b[0m\u001b[0;34m-\u001b[0m\u001b[0;36m1\u001b[0m\u001b[0;34m,\u001b[0m \u001b[0;34m-\u001b[0m\u001b[0;36m1\u001b[0m\u001b[0;34m,\u001b[0m \u001b[0;34m-\u001b[0m\u001b[0;36m1\u001b[0m\u001b[0;34m)\u001b[0m\u001b[0;34m]\u001b[0m\u001b[0;34m\u001b[0m\u001b[0;34m\u001b[0m\u001b[0m\n\u001b[0m\u001b[1;32m    371\u001b[0m         \u001b[0mplot_legend\u001b[0m \u001b[0;34m=\u001b[0m \u001b[0mLegend\u001b[0m\u001b[0;34m(\u001b[0m\u001b[0mplot_decors\u001b[0m\u001b[0;34m)\u001b[0m\u001b[0;34m\u001b[0m\u001b[0;34m\u001b[0m\u001b[0m\n\u001b[1;32m    372\u001b[0m \u001b[0;34m\u001b[0m\u001b[0m\n",
      "\u001b[0;32m~/Projects/GSDMA/core/omf.py\u001b[0m in \u001b[0;36m<listcomp>\u001b[0;34m(.0)\u001b[0m\n\u001b[1;32m    368\u001b[0m                 \u001b[0mdecors\u001b[0m\u001b[0;34m.\u001b[0m\u001b[0mupdate\u001b[0m\u001b[0;34m(\u001b[0m\u001b[0;34m{\u001b[0m\u001b[0mattrib_values\u001b[0m\u001b[0;34m.\u001b[0m\u001b[0mindex\u001b[0m\u001b[0;34m(\u001b[0m\u001b[0mreg_value\u001b[0m\u001b[0;34m[\u001b[0m\u001b[0;36m0\u001b[0m\u001b[0;34m]\u001b[0m\u001b[0;34m)\u001b[0m\u001b[0;34m:\u001b[0m \u001b[0mlegend_copy\u001b[0m\u001b[0;34m[\u001b[0m\u001b[0mi\u001b[0m\u001b[0;34m]\u001b[0m\u001b[0;34m}\u001b[0m\u001b[0;34m)\u001b[0m\u001b[0;34m\u001b[0m\u001b[0;34m\u001b[0m\u001b[0m\n\u001b[1;32m    369\u001b[0m \u001b[0;34m\u001b[0m\u001b[0m\n\u001b[0;32m--> 370\u001b[0;31m         \u001b[0mplot_decors\u001b[0m \u001b[0;34m=\u001b[0m \u001b[0;34m[\u001b[0m\u001b[0mdecors\u001b[0m\u001b[0;34m[\u001b[0m\u001b[0midx\u001b[0m\u001b[0;34m]\u001b[0m \u001b[0;32mfor\u001b[0m \u001b[0midx\u001b[0m \u001b[0;32min\u001b[0m \u001b[0mrange\u001b[0m\u001b[0;34m(\u001b[0m\u001b[0mlen\u001b[0m\u001b[0;34m(\u001b[0m\u001b[0mdecors\u001b[0m\u001b[0;34m.\u001b[0m\u001b[0mvalues\u001b[0m\u001b[0;34m(\u001b[0m\u001b[0;34m)\u001b[0m\u001b[0;34m)\u001b[0m\u001b[0;34m-\u001b[0m\u001b[0;36m1\u001b[0m\u001b[0;34m,\u001b[0m \u001b[0;34m-\u001b[0m\u001b[0;36m1\u001b[0m\u001b[0;34m,\u001b[0m \u001b[0;34m-\u001b[0m\u001b[0;36m1\u001b[0m\u001b[0;34m)\u001b[0m\u001b[0;34m]\u001b[0m\u001b[0;34m\u001b[0m\u001b[0;34m\u001b[0m\u001b[0m\n\u001b[0m\u001b[1;32m    371\u001b[0m         \u001b[0mplot_legend\u001b[0m \u001b[0;34m=\u001b[0m \u001b[0mLegend\u001b[0m\u001b[0;34m(\u001b[0m\u001b[0mplot_decors\u001b[0m\u001b[0;34m)\u001b[0m\u001b[0;34m\u001b[0m\u001b[0;34m\u001b[0m\u001b[0m\n\u001b[1;32m    372\u001b[0m \u001b[0;34m\u001b[0m\u001b[0m\n",
      "\u001b[0;31mKeyError\u001b[0m: 1"
     ]
    }
   ],
   "source": [
    "bh3d_list[1].log_plot(repr_attribute=attrib[1])"
   ]
  },
  {
   "cell_type": "code",
   "execution_count": null,
   "id": "22981eda",
   "metadata": {},
   "outputs": [],
   "source": [
    "bh3d_list[0].plot3d(repr_attribute=attrib[1])"
   ]
  },
  {
   "cell_type": "markdown",
   "id": "28d66172",
   "metadata": {},
   "source": [
    "## Build several boreholes legend/cmap (for a project)"
   ]
  },
  {
   "cell_type": "code",
   "execution_count": null,
   "id": "6890cefc",
   "metadata": {
    "scrolled": false
   },
   "outputs": [],
   "source": [
    "synth_leg_dict, detail_leg_dict = build_bh3d_legend_cmap(bh3d_list, legend_dict=leg_dict, \n",
    "                                                         repr_attrib_list=['lithology', 'pollutant'], \n",
    "                                                         compute_all=True,)# verbose=True)"
   ]
  },
  {
   "cell_type": "code",
   "execution_count": null,
   "id": "51d1a0b1",
   "metadata": {},
   "outputs": [],
   "source": [
    "synth_leg_dict[attrib[0]]['legend']"
   ]
  },
  {
   "cell_type": "code",
   "execution_count": null,
   "id": "57f526be",
   "metadata": {},
   "outputs": [],
   "source": [
    "synth_leg_dict[attrib[0]]['cmap']"
   ]
  },
  {
   "cell_type": "markdown",
   "id": "611f0540",
   "metadata": {},
   "source": [
    "# Other tests"
   ]
  },
  {
   "cell_type": "raw",
   "id": "c8e9e925",
   "metadata": {},
   "source": [
    "vtk.set_active_scalars(name='component', preference='cells')\n",
    "vtk"
   ]
  },
  {
   "cell_type": "raw",
   "id": "0121b2ac",
   "metadata": {},
   "source": [
    "bh3d_list[0]._vtk.add_field_array(scalars=bh3d_list[0].geometry.data[0].array.array.tolist(), name='comp_indices')\n",
    "bh3d_list[0]._vtk.set_active_scalars(name='comp_indices')"
   ]
  },
  {
   "cell_type": "raw",
   "id": "4385c9d7",
   "metadata": {},
   "source": [
    "bh3d_list[0]._vtk"
   ]
  },
  {
   "cell_type": "raw",
   "id": "e556acbe",
   "metadata": {},
   "source": [
    "bh3d_list[0]._vtk.set_active_scalars(name='comp_indices')\n",
    "bh3d_list[0]._vtk"
   ]
  }
 ],
 "metadata": {
  "kernelspec": {
   "display_name": "Python 3",
   "language": "python",
   "name": "python3"
  },
  "language_info": {
   "codemirror_mode": {
    "name": "ipython",
    "version": 3
   },
   "file_extension": ".py",
   "mimetype": "text/x-python",
   "name": "python",
   "nbconvert_exporter": "python",
   "pygments_lexer": "ipython3",
   "version": "3.8.10"
  }
 },
 "nbformat": 4,
 "nbformat_minor": 5
}
