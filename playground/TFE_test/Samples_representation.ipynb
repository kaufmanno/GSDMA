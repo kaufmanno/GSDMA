{
 "cells": [
  {
   "cell_type": "markdown",
   "id": "38bb9500",
   "metadata": {},
   "source": [
    "# Samples representation"
   ]
  },
  {
   "cell_type": "markdown",
   "id": "b89ee4ce",
   "metadata": {},
   "source": [
    "## Imports "
   ]
  },
  {
   "cell_type": "code",
   "execution_count": 1,
   "id": "5f8c8285",
   "metadata": {},
   "outputs": [
    {
     "name": "stderr",
     "output_type": "stream",
     "text": [
      "/home/yanathan/.local/share/virtualenvs/GSDMA-DRfwm83x/lib/python3.8/site-packages/striplog/legend.py:687: UserWarning: This legend contains duplicate components.\n",
      "  warnings.warn(w)\n",
      "/home/yanathan/.local/share/virtualenvs/GSDMA-DRfwm83x/lib/python3.8/site-packages/striplog/legend.py:687: UserWarning: This legend contains duplicate components.\n",
      "  warnings.warn(w)\n"
     ]
    }
   ],
   "source": [
    "from striplog import Component, Lexicon, Legend, Interval, Position, Decor\n",
    "from core.omf import Borehole3D\n",
    "from utils.lexicon.lexicon_fr import pollutant_memoris, lithology_memoris\n",
    "import random\n",
    "import pandas as pd"
   ]
  },
  {
   "cell_type": "code",
   "execution_count": 2,
   "id": "1205aef1",
   "metadata": {},
   "outputs": [],
   "source": [
    "samples = [Component({'lithology': 'remblais', 'pollutant':'VR'}),\n",
    "              Component({'lithology': 'limon', 'pollutant':'VI'}),\n",
    "              Component({'lithology': 'schistes', 'pollutant':'VS'}),\n",
    "              Component({'lithology': 'sable', 'pollutant':'VR'}),\n",
    "              Component({'lithology': 'inconnu', 'pollutant':'VI'})\n",
    "              ]"
   ]
  },
  {
   "cell_type": "code",
   "execution_count": 3,
   "id": "23fdfe5a",
   "metadata": {},
   "outputs": [],
   "source": [
    "samples_intervals = [Interval(top=0, base=2, components=[samples[0]], data={'Naphtalène':50}),\n",
    "                     Interval(top=2, base=3, components=[samples[1]]),\n",
    "                     Interval(top=3, base=6, components=[samples[2]]),\n",
    "                     Interval(top=6, base=8, components=[samples[3]]),\n",
    "                     Interval(top=8, base=10, components=[samples[4]])]"
   ]
  },
  {
   "cell_type": "code",
   "execution_count": 4,
   "id": "64473377",
   "metadata": {},
   "outputs": [
    {
     "name": "stdout",
     "output_type": "stream",
     "text": [
      "Borehole geometry created successfully !\n",
      "Borehole geometry created successfully !\n"
     ]
    }
   ],
   "source": [
    "bh3d = Borehole3D(name='BH_test', intervals=samples_intervals, legend=lithology_memoris, length=10, )"
   ]
  },
  {
   "cell_type": "code",
   "execution_count": 5,
   "id": "57f1f1bd",
   "metadata": {},
   "outputs": [
    {
     "data": {
      "image/png": "[encoded data removed]",
      "text/plain": [
       "<Figure size 432x432 with 5 Axes>"
      ]
     },
     "metadata": {
      "needs_background": "light"
     },
     "output_type": "display_data"
    }
   ],
   "source": [
    "bh3d.plot2d(attribute='pollutant', legend=pollutant_memoris)"
   ]
  },
  {
   "cell_type": "code",
   "execution_count": 6,
   "id": "12a0b89b",
   "metadata": {
    "scrolled": false
   },
   "outputs": [
    {
     "name": "stderr",
     "output_type": "stream",
     "text": [
      "/home/yanathan/.local/share/virtualenvs/GSDMA-DRfwm83x/lib/python3.8/site-packages/striplog/striplog.py:1505: MatplotlibDeprecationWarning: hatch must consist of a string of \"*+-./OX\\ox|\" or None, but found the following invalid values \"'v\". Passing invalid values is deprecated since 3.4 and will become an error two minor releases later.\n",
      "  rect = mpl.patches.Rectangle(origin,\n",
      "/home/yanathan/.local/share/virtualenvs/GSDMA-DRfwm83x/lib/python3.8/site-packages/striplog/striplog.py:1505: MatplotlibDeprecationWarning: hatch must consist of a string of \"*+-./OX\\ox|\" or None, but found the following invalid values \"'\". Passing invalid values is deprecated since 3.4 and will become an error two minor releases later.\n",
      "  rect = mpl.patches.Rectangle(origin,\n",
      "/home/yanathan/.local/share/virtualenvs/GSDMA-DRfwm83x/lib/python3.8/site-packages/striplog/legend.py:311: MatplotlibDeprecationWarning: hatch must consist of a string of \"*+-./OX\\ox|\" or None, but found the following invalid values \"'\". Passing invalid values is deprecated since 3.4 and will become an error two minor releases later.\n",
      "  rect1 = patches.Rectangle((0, 0),\n",
      "/home/yanathan/.local/share/virtualenvs/GSDMA-DRfwm83x/lib/python3.8/site-packages/striplog/legend.py:311: MatplotlibDeprecationWarning: hatch must consist of a string of \"*+-./OX\\ox|\" or None, but found the following invalid values \"'v\". Passing invalid values is deprecated since 3.4 and will become an error two minor releases later.\n",
      "  rect1 = patches.Rectangle((0, 0),\n"
     ]
    },
    {
     "data": {
      "image/png": "[encoded data removed]",
      "text/plain": [
       "<Figure size 432x432 with 7 Axes>"
      ]
     },
     "metadata": {
      "needs_background": "light"
     },
     "output_type": "display_data"
    }
   ],
   "source": [
    "bh3d.plot2d(attribute='lithology', legend=lithology_memoris)"
   ]
  },
  {
   "cell_type": "code",
   "execution_count": 7,
   "id": "c7e8cd94",
   "metadata": {},
   "outputs": [
    {
     "data": {
      "application/vnd.jupyter.widget-view+json": {
       "model_id": "dc88ab654fbc4a55a8ace08ba1a3ef32",
       "version_major": 2,
       "version_minor": 0
      },
      "text/plain": [
       "ViewInteractiveWidget(height=768, layout=Layout(height='auto', width='100%'), width=1024)"
      ]
     },
     "metadata": {},
     "output_type": "display_data"
    }
   ],
   "source": [
    "bh3d.plot3d(attribute='lithology')"
   ]
  },
  {
   "cell_type": "code",
   "execution_count": 8,
   "id": "9b03e634",
   "metadata": {
    "scrolled": true
   },
   "outputs": [
    {
     "data": {
      "text/html": [
       "<table><tr><th>colour</th><th>width</th><th>hatch</th><th>component</th></tr><tr><td style=\"color:#000000; background-color:#d3b798\">#d3b798</td><td style=\"color:black; background-color:white\">3.0</td><td style=\"color:black; background-color:white\">'v'</td><td style=\"color:black; background-color:white\"><table><tr><td><strong>lithology</strong></td><td>remblais</td></tr><tr><td><strong>pollutant</strong></td><td>VR</td></tr></table></td></tr><tr><td style=\"color:#ffffff; background-color:#798732\">#798732</td><td style=\"color:black; background-color:white\">3.0</td><td style=\"color:black; background-color:white\">'-.'</td><td style=\"color:black; background-color:white\"><table><tr><td><strong>lithology</strong></td><td>limon</td></tr><tr><td><strong>pollutant</strong></td><td>VI</td></tr></table></td></tr><tr><td style=\"color:#000000; background-color:#bbffdd\">#bbffdd</td><td style=\"color:black; background-color:white\">3.0</td><td style=\"color:black; background-color:white\">'--'</td><td style=\"color:black; background-color:white\"><table><tr><td><strong>lithology</strong></td><td>schistes</td></tr><tr><td><strong>pollutant</strong></td><td>VS</td></tr></table></td></tr><tr><td style=\"color:#000000; background-color:#ffcb23\">#ffcb23</td><td style=\"color:black; background-color:white\">3.0</td><td style=\"color:black; background-color:white\">'..'</td><td style=\"color:black; background-color:white\"><table><tr><td><strong>lithology</strong></td><td>sable</td></tr><tr><td><strong>pollutant</strong></td><td>VR</td></tr></table></td></tr><tr><td style=\"color:#000000; background-color:#ffffff\">#ffffff</td><td style=\"color:black; background-color:white\">3.0</td><td style=\"color:black; background-color:white\">/|\\</td><td style=\"color:black; background-color:white\"><table><tr><td><strong>lithology</strong></td><td>inconnu</td></tr><tr><td><strong>pollutant</strong></td><td>VI</td></tr></table></td></tr></table>"
      ],
      "text/plain": [
       "Legend(Decor({'_colour': '#d3b798', 'hatch': \"'v'\", 'component': Component({'lithology': 'remblais', 'pollutant': 'VR'}), 'width': 3.0})\n",
       "Decor({'_colour': '#798732', 'hatch': \"'-.'\", 'component': Component({'lithology': 'limon', 'pollutant': 'VI'}), 'width': 3.0})\n",
       "Decor({'_colour': '#bbffdd', 'hatch': \"'--'\", 'component': Component({'lithology': 'schistes', 'pollutant': 'VS'}), 'width': 3.0})\n",
       "Decor({'_colour': '#ffcb23', 'hatch': \"'..'\", 'component': Component({'lithology': 'sable', 'pollutant': 'VR'}), 'width': 3.0})\n",
       "Decor({'_colour': '#ffffff', 'hatch': '/|\\\\', 'component': Component({'lithology': 'inconnu', 'pollutant': 'VI'}), 'width': 3.0}))"
      ]
     },
     "execution_count": 8,
     "metadata": {},
     "output_type": "execute_result"
    }
   ],
   "source": [
    "bh3d.legend"
   ]
  },
  {
   "cell_type": "code",
   "execution_count": null,
   "id": "69d893c8",
   "metadata": {},
   "outputs": [],
   "source": []
  }
 ],
 "metadata": {
  "kernelspec": {
   "display_name": "Python 3",
   "language": "python",
   "name": "python3"
  },
  "language_info": {
   "codemirror_mode": {
    "name": "ipython",
    "version": 3
   },
   "file_extension": ".py",
   "mimetype": "text/x-python",
   "name": "python",
   "nbconvert_exporter": "python",
   "pygments_lexer": "ipython3",
   "version": "3.8.5"
  }
 },
 "nbformat": 4,
 "nbformat_minor": 5
}
