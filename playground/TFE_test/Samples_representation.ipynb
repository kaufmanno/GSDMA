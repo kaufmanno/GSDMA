{
 "cells": [
  {
   "cell_type": "markdown",
   "id": "38bb9500",
   "metadata": {},
   "source": [
    "# Samples representation"
   ]
  },
  {
   "cell_type": "markdown",
   "id": "b89ee4ce",
   "metadata": {},
   "source": [
    "## Imports "
   ]
  },
  {
   "cell_type": "code",
   "execution_count": 1,
   "id": "5f8c8285",
   "metadata": {},
   "outputs": [
    {
     "name": "stderr",
     "output_type": "stream",
     "text": [
      "/home/yanathan/.local/share/virtualenvs/GSDMA-DRfwm83x/lib/python3.8/site-packages/striplog/legend.py:687: UserWarning: This legend contains duplicate components.\n",
      "  warnings.warn(w)\n",
      "/home/yanathan/.local/share/virtualenvs/GSDMA-DRfwm83x/lib/python3.8/site-packages/striplog/legend.py:687: UserWarning: This legend contains duplicate components.\n",
      "  warnings.warn(w)\n"
     ]
    }
   ],
   "source": [
    "from striplog import Component, Lexicon, Legend, Interval, Position, Decor\n",
    "from core.omf import Borehole3D\n",
    "from utils.lexicon.lexicon_fr import pollutant_memoris, lithology_memoris\n",
    "import random\n",
    "import pandas as pd"
   ]
  },
  {
   "cell_type": "code",
   "execution_count": 2,
   "id": "1205aef1",
   "metadata": {},
   "outputs": [],
   "source": [
    "samples = [Component({'lithology': 'remblais', 'pollutant':'VR'}),\n",
    "              Component({'lithology': 'limon', 'pollutant':'VI'}),\n",
    "              Component({'lithology': 'schistes', 'pollutant':'VS'}),\n",
    "              Component({'lithology': 'sable', 'pollutant':'VR'}),\n",
    "              Component({'lithology': 'inconnu', 'pollutant':'VI'})\n",
    "              ]"
   ]
  },
  {
   "cell_type": "code",
   "execution_count": 3,
   "id": "243d74f8",
   "metadata": {},
   "outputs": [],
   "source": [
    "extra_components = [Component({'lithology': 'marnes', 'pollutant':'VS'}),\n",
    "                    Component({'lithology': 'calcaires', 'pollutant':'VS'})]"
   ]
  },
  {
   "cell_type": "code",
   "execution_count": 4,
   "id": "23fdfe5a",
   "metadata": {},
   "outputs": [],
   "source": [
    "samples_intervals = [Interval(top=0, base=2, components=[samples[0]], data={'Naphtalene':50}),\n",
    "                     Interval(top=2, base=3, components=[samples[1]], data={'Benzene': {'value': 1.52, 'units': 'µg/l'}}),\n",
    "                     Interval(top=3, base=6, components=[samples[2]]),\n",
    "                     Interval(top=6, base=8, components=[samples[3]]),\n",
    "                     Interval(top=8, base=10, components=[samples[4]])]"
   ]
  },
  {
   "cell_type": "code",
   "execution_count": 5,
   "id": "5890fb70",
   "metadata": {},
   "outputs": [],
   "source": [
    "extra_intervals = [Interval(top=10, base=13, components=[extra_components[0]], data={'Naphtalène':100}),\n",
    "                     Interval(top=13, base=15, components=[extra_components[1]]),]"
   ]
  },
  {
   "cell_type": "code",
   "execution_count": 6,
   "id": "a5e2b451",
   "metadata": {},
   "outputs": [],
   "source": [
    "leg_dict = {'lithology':{'legend': lithology_memoris}, 'pollutant':{'legend': pollutant_memoris}}"
   ]
  },
  {
   "cell_type": "code",
   "execution_count": 7,
   "id": "64473377",
   "metadata": {},
   "outputs": [
    {
     "name": "stdout",
     "output_type": "stream",
     "text": [
      "[0, 1, 2, 3, 4]\n",
      "[0, 1, 2, 3, 4]\n"
     ]
    }
   ],
   "source": [
    "bh3d = Borehole3D(name='BH_1', intervals=samples_intervals, legend_dict=leg_dict, length=10, )"
   ]
  },
  {
   "cell_type": "code",
   "execution_count": 8,
   "id": "06ef1a8d",
   "metadata": {},
   "outputs": [
    {
     "name": "stdout",
     "output_type": "stream",
     "text": [
      "[0, 1, 2, 3, 4, 5, 6]\n",
      "[0, 1, 2, 3, 4, 5, 6]\n"
     ]
    }
   ],
   "source": [
    "bh3d_2 = Borehole3D(name='BH_2', intervals=samples_intervals+extra_intervals, \n",
    "                    legend_dict=leg_dict, length=15, )"
   ]
  },
  {
   "cell_type": "code",
   "execution_count": 9,
   "id": "d5d357f0",
   "metadata": {},
   "outputs": [
    {
     "data": {
      "text/plain": [
       "{'value': 1.52, 'units': 'µg/l'}"
      ]
     },
     "execution_count": 9,
     "metadata": {},
     "output_type": "execute_result"
    }
   ],
   "source": [
    "bh3d.intervals[1].data['Benzene']"
   ]
  },
  {
   "cell_type": "code",
   "execution_count": 10,
   "id": "4d910c83",
   "metadata": {},
   "outputs": [
    {
     "data": {
      "image/png": "[encoded data removed]",
      "text/html": [
       "<div style=\"vertical-align: middle;\"><strong>from_list</strong> </div><div class=\"cmap\"><img alt=\"from_list colormap\" title=\"from_list\" style=\"border: 1px solid #555;\" src=\"data:image/png;base64,iVBORw0KGgoAAAANSUhEUgAAAgAAAABACAYAAABsv8+/AAAAGHRFWHRUaXRsZQBmcm9tX2xpc3QgY29sb3JtYXBDL89FAAAAHnRFWHREZXNjcmlwdGlvbgBmcm9tX2xpc3QgY29sb3JtYXABtCnOAAAAMHRFWHRBdXRob3IATWF0cGxvdGxpYiB2My40LjIsIGh0dHBzOi8vbWF0cGxvdGxpYi5vcmes1mPdAAAAMnRFWHRTb2Z0d2FyZQBNYXRwbG90bGliIHYzLjQuMiwgaHR0cHM6Ly9tYXRwbG90bGliLm9yZ4Jw/PoAAAFPSURBVHic7dbBDUFBAABR1KSCH1GTUkQB/6IATThIXPVCA+tqJfNeBXOc7fN2fm/4S+vjMjuBgeV0nZ3AwOF+nJ3AyP41u4AvdrMDAIDfMwAAEGQAACDIAABAkAEAgCADAABBBgAAggwAAAQZAAAIMgAAEGQAACDIAABAkAEAgCADAABBBgAAggwAAAQZAAAIMgAAEGQAACDIAABAkAEAgCADAABBBgAAggwAAAQZAAAIMgAAEGQAACDIAABAkAEAgCADAABBBgAAggwAAAQZAAAIMgAAEGQAACDIAABAkAEAgCADAABBBgAAggwAAAQZAAAIMgAAEGQAACDIAABAkAEAgCADAABBBgAAggwAAAQZAAAIMgAAEGQAACDIAABAkAEAgCADAABBBgAAggwAAAQZAAAIMgAAEGQAACDIAABAkAEAgCADAABBBgAAgj5SVgl8+AKKkQAAAABJRU5ErkJggg==\"></div><div style=\"vertical-align: middle; max-width: 514px; display: flex; justify-content: space-between;\"><div style=\"float: left;\"><div title=\"#d3b798ff\" style=\"display: inline-block; width: 1em; height: 1em; margin: 0; vertical-align: middle; border: 1px solid #555; background-color: #d3b798ff;\"></div> under</div><div style=\"margin: 0 auto; display: inline-block;\">bad <div title=\"#00000000\" style=\"display: inline-block; width: 1em; height: 1em; margin: 0; vertical-align: middle; border: 1px solid #555; background-color: #00000000;\"></div></div><div style=\"float: right;\">over <div title=\"#ffffffff\" style=\"display: inline-block; width: 1em; height: 1em; margin: 0; vertical-align: middle; border: 1px solid #555; background-color: #ffffffff;\"></div></div>"
      ],
      "text/plain": [
       "<matplotlib.colors.ListedColormap at 0x7f8c82f7e9d0>"
      ]
     },
     "execution_count": 10,
     "metadata": {},
     "output_type": "execute_result"
    }
   ],
   "source": [
    "bh3d.legend_dict['lithology']['cmap']"
   ]
  },
  {
   "cell_type": "code",
   "execution_count": 11,
   "id": "353d74dd",
   "metadata": {},
   "outputs": [],
   "source": [
    "from utils.omf import build_bh3d_legend"
   ]
  },
  {
   "cell_type": "code",
   "execution_count": 12,
   "id": "767abd75",
   "metadata": {},
   "outputs": [
    {
     "data": {
      "text/plain": [
       "{'BH_1': {'lithology': {'legend': Legend(Decor({'_colour': '#d3b798', 'width': 3, 'hatch': \"'v'\", 'component': Component({'lithology': 'remblais'})})\n",
       "   Decor({'_colour': '#798732', 'width': 3, 'hatch': \"'-.'\", 'component': Component({'lithology': 'limon'})})\n",
       "   Decor({'_colour': '#bbffdd', 'width': 3, 'hatch': \"'--'\", 'component': Component({'lithology': 'schistes'})})\n",
       "   Decor({'_colour': '#ffcb23', 'width': 3, 'hatch': \"'..'\", 'component': Component({'lithology': 'sable'})})\n",
       "   Decor({'_colour': '#ffffff', 'width': 3, 'hatch': '/|\\\\', 'component': Component({'lithology': 'inconnu'})})),\n",
       "   'cmap': <matplotlib.colors.ListedColormap at 0x7f8c82fa3550>,\n",
       "   'values': ['remblais', 'limon', 'schistes', 'sable', 'inconnu']}}}"
      ]
     },
     "execution_count": 12,
     "metadata": {},
     "output_type": "execute_result"
    }
   ],
   "source": [
    "build_bh3d_legend([bh3d], leg_dict)"
   ]
  },
  {
   "cell_type": "code",
   "execution_count": 13,
   "id": "57f1f1bd",
   "metadata": {},
   "outputs": [
    {
     "ename": "KeyError",
     "evalue": "0",
     "output_type": "error",
     "traceback": [
      "\u001b[0;31m---------------------------------------------------------------------------\u001b[0m",
      "\u001b[0;31mKeyError\u001b[0m                                  Traceback (most recent call last)",
      "\u001b[0;32m<ipython-input-13-42b89a1ca94a>\u001b[0m in \u001b[0;36m<module>\u001b[0;34m\u001b[0m\n\u001b[0;32m----> 1\u001b[0;31m \u001b[0mbh3d\u001b[0m\u001b[0;34m.\u001b[0m\u001b[0mlog_plot\u001b[0m\u001b[0;34m(\u001b[0m\u001b[0mrepr_attribute\u001b[0m\u001b[0;34m=\u001b[0m\u001b[0;34m'pollutant'\u001b[0m\u001b[0;34m)\u001b[0m\u001b[0;31m#, repr_legend=pollutant_memoris)\u001b[0m\u001b[0;34m\u001b[0m\u001b[0;34m\u001b[0m\u001b[0m\n\u001b[0m",
      "\u001b[0;32m~/Projects/GSDMA/core/omf.py\u001b[0m in \u001b[0;36mlog_plot\u001b[0;34m(self, figsize, repr_legend, text_size, width, repr_attribute)\u001b[0m\n\u001b[1;32m    353\u001b[0m         \u001b[0mattrib_values\u001b[0m \u001b[0;34m=\u001b[0m \u001b[0mlist\u001b[0m\u001b[0;34m(\u001b[0m\u001b[0mpd\u001b[0m\u001b[0;34m.\u001b[0m\u001b[0munique\u001b[0m\u001b[0;34m(\u001b[0m\u001b[0mattrib_values\u001b[0m\u001b[0;34m)\u001b[0m\u001b[0;34m)\u001b[0m  \u001b[0;31m# to treat duplicate values\u001b[0m\u001b[0;34m\u001b[0m\u001b[0;34m\u001b[0m\u001b[0m\n\u001b[1;32m    354\u001b[0m         \u001b[0;32mfor\u001b[0m \u001b[0mi\u001b[0m \u001b[0;32min\u001b[0m \u001b[0mrange\u001b[0m\u001b[0;34m(\u001b[0m\u001b[0;34m(\u001b[0m\u001b[0mlen\u001b[0m\u001b[0;34m(\u001b[0m\u001b[0mlegend_copy\u001b[0m\u001b[0;34m)\u001b[0m\u001b[0;34m)\u001b[0m\u001b[0;34m)\u001b[0m\u001b[0;34m:\u001b[0m\u001b[0;34m\u001b[0m\u001b[0;34m\u001b[0m\u001b[0m\n\u001b[0;32m--> 355\u001b[0;31m             \u001b[0mleg_value\u001b[0m \u001b[0;34m=\u001b[0m \u001b[0mlegend_copy\u001b[0m\u001b[0;34m[\u001b[0m\u001b[0mi\u001b[0m\u001b[0;34m]\u001b[0m\u001b[0;34m.\u001b[0m\u001b[0mcomponent\u001b[0m\u001b[0;34m[\u001b[0m\u001b[0mrepr_attribute\u001b[0m\u001b[0;34m]\u001b[0m\u001b[0;34m\u001b[0m\u001b[0;34m\u001b[0m\u001b[0m\n\u001b[0m\u001b[1;32m    356\u001b[0m             \u001b[0;32mif\u001b[0m \u001b[0mleg_value\u001b[0m \u001b[0;32mis\u001b[0m \u001b[0;32mNone\u001b[0m\u001b[0;34m:\u001b[0m  \u001b[0;31m# attribute not found in legend component\u001b[0m\u001b[0;34m\u001b[0m\u001b[0;34m\u001b[0m\u001b[0m\n\u001b[1;32m    357\u001b[0m                 \u001b[0mlegend_copy\u001b[0m\u001b[0;34m[\u001b[0m\u001b[0mi\u001b[0m\u001b[0;34m]\u001b[0m\u001b[0;34m.\u001b[0m\u001b[0mcomponent\u001b[0m\u001b[0;34m[\u001b[0m\u001b[0mrepr_attribute\u001b[0m\u001b[0;34m]\u001b[0m \u001b[0;34m=\u001b[0m \u001b[0mDEFAULT_ATTRIB_VALUE\u001b[0m\u001b[0;34m\u001b[0m\u001b[0;34m\u001b[0m\u001b[0m\n",
      "\u001b[0;31mKeyError\u001b[0m: 0"
     ]
    }
   ],
   "source": [
    "bh3d.log_plot(repr_attribute='pollutant')#, repr_legend=pollutant_memoris)"
   ]
  },
  {
   "cell_type": "code",
   "execution_count": null,
   "id": "4f5551ea",
   "metadata": {},
   "outputs": [],
   "source": [
    "test={'litho':{'cmap':1, 'legend':2}, 'pol':{'cmap':5, 'legend':3}}\n",
    "test['litho']['cmap']"
   ]
  },
  {
   "cell_type": "code",
   "execution_count": null,
   "id": "02b4d5b3",
   "metadata": {},
   "outputs": [],
   "source": [
    "bh3d.cmap"
   ]
  },
  {
   "cell_type": "code",
   "execution_count": null,
   "id": "12a0b89b",
   "metadata": {
    "scrolled": false
   },
   "outputs": [],
   "source": [
    "bh3d.plot2d(repr_attribute='lithology', repr_legend=lithology_memoris)"
   ]
  },
  {
   "cell_type": "code",
   "execution_count": null,
   "id": "3a1cc859",
   "metadata": {},
   "outputs": [],
   "source": [
    "bh3d.plot3d(repr_attribute='lithology')"
   ]
  },
  {
   "cell_type": "code",
   "execution_count": null,
   "id": "cf95afbb",
   "metadata": {},
   "outputs": [],
   "source": [
    "bh3d.plot3d(repr_attribute='pollutant', repr_legend=pollutant_memoris)"
   ]
  },
  {
   "cell_type": "code",
   "execution_count": null,
   "id": "f3f38f3b",
   "metadata": {},
   "outputs": [],
   "source": [
    "bh3d_2.plot3d(repr_attribute='lithology')"
   ]
  },
  {
   "cell_type": "code",
   "execution_count": null,
   "id": "9dbb84b8",
   "metadata": {},
   "outputs": [],
   "source": [
    "bh3d._vtk"
   ]
  },
  {
   "cell_type": "code",
   "execution_count": null,
   "id": "e8ea3885",
   "metadata": {},
   "outputs": [],
   "source": [
    "bh3d_2._components[0]['lithology']"
   ]
  },
  {
   "cell_type": "code",
   "execution_count": null,
   "id": "b4896a62",
   "metadata": {},
   "outputs": [],
   "source": [
    "len(bh3d.intervals), len(bh3d_2.intervals)"
   ]
  },
  {
   "cell_type": "code",
   "execution_count": null,
   "id": "9ea2beab",
   "metadata": {},
   "outputs": [],
   "source": []
  }
 ],
 "metadata": {
  "kernelspec": {
   "display_name": "Python 3",
   "language": "python",
   "name": "python3"
  },
  "language_info": {
   "codemirror_mode": {
    "name": "ipython",
    "version": 3
   },
   "file_extension": ".py",
   "mimetype": "text/x-python",
   "name": "python",
   "nbconvert_exporter": "python",
   "pygments_lexer": "ipython3",
   "version": "3.8.10"
  }
 },
 "nbformat": 4,
 "nbformat_minor": 5
}
