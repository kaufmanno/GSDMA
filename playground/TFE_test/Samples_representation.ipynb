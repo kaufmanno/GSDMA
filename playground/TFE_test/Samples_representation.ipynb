{
 "cells": [
  {
   "cell_type": "markdown",
   "id": "38bb9500",
   "metadata": {},
   "source": [
    "# Samples Mapping Test"
   ]
  },
  {
   "cell_type": "markdown",
   "id": "b89ee4ce",
   "metadata": {},
   "source": [
    "## Imports "
   ]
  },
  {
   "cell_type": "code",
   "execution_count": 1,
   "id": "5f8c8285",
   "metadata": {},
   "outputs": [],
   "source": [
    "from striplog import Component, Lexicon, Legend, Interval, Position, Decor\n",
    "from core.omf import Borehole3D\n",
    "from utils.lexicon.lexicon_memoris import contamination_toluene_memoris, contamination_benzene_memoris, lithology_memoris\n",
    "from utils.omf import build_bh3d_legend_cmap\n",
    "import random\n",
    "import pandas as pd"
   ]
  },
  {
   "cell_type": "markdown",
   "id": "0f6a204f",
   "metadata": {},
   "source": [
    "## Creation of Borehole3D objects"
   ]
  },
  {
   "cell_type": "markdown",
   "id": "938ca610",
   "metadata": {},
   "source": [
    "### Define a set of attributes and associated legends"
   ]
  },
  {
   "cell_type": "code",
   "execution_count": 2,
   "id": "ff0c4105",
   "metadata": {},
   "outputs": [],
   "source": [
    "leg_dict = {'lithology':{'legend': lithology_memoris}, 'benzene':{'legend': contamination_benzene_memoris}, \n",
    "            'toluene':{'legend': contamination_toluene_memoris}}"
   ]
  },
  {
   "cell_type": "code",
   "execution_count": 3,
   "id": "f83f6e87",
   "metadata": {},
   "outputs": [
    {
     "data": {
      "text/plain": [
       "['lithology', 'benzene', 'toluene']"
      ]
     },
     "execution_count": 3,
     "metadata": {},
     "output_type": "execute_result"
    }
   ],
   "source": [
    "attrib = list(leg_dict.keys())\n",
    "attrib"
   ]
  },
  {
   "cell_type": "markdown",
   "id": "c21f5859",
   "metadata": {},
   "source": [
    "### Create boreholes composition"
   ]
  },
  {
   "cell_type": "code",
   "execution_count": 4,
   "id": "083a477d",
   "metadata": {},
   "outputs": [],
   "source": [
    "samples = [Component({'lithology': 'remblais'}),\n",
    "           Component({'lithology': 'limon'}),\n",
    "           Component({'lithology': 'schistes'}),\n",
    "           Component({'lithology': 'sable'}),\n",
    "           Component({'lithology': 'calcaire'}),\n",
    "           Component({'lithology': 'inconnu'})]"
   ]
  },
  {
   "cell_type": "code",
   "execution_count": 5,
   "id": "fa859aa2",
   "metadata": {},
   "outputs": [],
   "source": [
    "benzene = [Component({'benzene':'Inconnu', 'Type':'Sol'}), \n",
    "           Component({'benzene':'VR', 'Type':'Sol'}),\n",
    "           Component({'benzene':'VS', 'Type':'Sol'}),\n",
    "           Component({'benzene':'VI', 'Type':'Sol'})]\n",
    "\n",
    "toluene = [Component({'toluene':'VR', 'Type':'Sol'}),\n",
    "           Component({'toluene':'Inconnu', 'Type':'Sol'}),\n",
    "           Component({'toluene':'VS', 'Type':'Sol'}),\n",
    "           Component({'toluene':'VI', 'Type':'Sol'})]"
   ]
  },
  {
   "cell_type": "code",
   "execution_count": 6,
   "id": "d473ee8e",
   "metadata": {},
   "outputs": [],
   "source": [
    "samples_intervals = [Interval(top=0, base=2, components=[samples[3], samples[0], benzene[2]], data={'Naphtalene':50}),\n",
    "                     Interval(top=2, base=3, components=[samples[0], benzene[0]], data={'benzene': {'value': 1.52, 'units': 'µg/l'}}),\n",
    "                     Interval(top=3, base=6, components=[toluene[2], samples[2]]),\n",
    "                     Interval(top=6, base=8, components=[benzene[3]]),\n",
    "                     Interval(top=8, base=10, components=[samples[4], benzene[1], toluene[1]]),\n",
    "                     Interval(top=10, base=13, components=[samples[2],toluene[0]]),]\n",
    "                     #Interval(top=13, base=15, components=[])]"
   ]
  },
  {
   "cell_type": "code",
   "execution_count": 7,
   "id": "252544aa",
   "metadata": {},
   "outputs": [],
   "source": [
    "samples_intervals_2 = [Interval(top=0, base=2, components=[samples[4]], data={'Naphtalene':50}),\n",
    "                     Interval(top=2, base=3, components=[samples[1], benzene[1]]),\n",
    "                     Interval(top=3, base=6, components=[samples[3]]),\n",
    "                     Interval(top=6, base=8, components=[samples[4], toluene[3]]),\n",
    "                     Interval(top=8, base=10, components=[samples[0], benzene[2], toluene[1]]),\n",
    "                     Interval(top=10, base=13, components=[samples[2]])]"
   ]
  },
  {
   "cell_type": "raw",
   "id": "c8f6f590",
   "metadata": {},
   "source": [
    "import re"
   ]
  },
  {
   "cell_type": "raw",
   "id": "5a32cff3",
   "metadata": {},
   "source": [
    "bh3d_uniq_attrib_val = ['Inconnu', 'VS', None, 'VR']\n",
    "reg = re.compile(\"^{:s}$\".format('vr'), flags=re.I)\n",
    "reg_value = list(filter(reg.match, bh3d_uniq_attrib_val))  # value that matches"
   ]
  },
  {
   "cell_type": "code",
   "execution_count": 8,
   "id": "8b641aac",
   "metadata": {},
   "outputs": [],
   "source": [
    "verbose = ['get_comp', 'build_leg'] # output of specific function ('geom', 'get_comp', 'get_attrib', 'build_leg')\n",
    "verbose = False"
   ]
  },
  {
   "cell_type": "code",
   "execution_count": 9,
   "id": "8b48a6d4",
   "metadata": {
    "scrolled": false
   },
   "outputs": [
    {
     "name": "stdout",
     "output_type": "stream",
     "text": [
      "find_comp -in- get_comp | 4 component(s), position(s) for lithology: [0], value(s): {0: 'sable'}\n",
      "find_comp -in- get_comp | 3 component(s), position(s) for lithology: [0], value(s): {0: 'remblais'}\n",
      "find_comp -in- get_comp | 3 component(s), position(s) for lithology: [1], value(s): {0: None, 1: 'schistes'}\n",
      "find_comp -in- get_comp | 3 component(s), position(s) for lithology: [1], value(s): {0: None, 1: 'Inconnu'}\n",
      "find_comp -in- get_comp | 3 component(s), position(s) for lithology: [0], value(s): {0: 'calcaire'}\n",
      "find_comp -in- get_comp | 3 component(s), position(s) for lithology: [0], value(s): {0: 'schistes'}\n",
      "find_comp -in- get_comp | 4 component(s), position(s) for lithology: [0], value(s): {0: 'sable'}\n",
      "0\n",
      "find_comp -in- get_comp | 3 component(s), position(s) for lithology: [0], value(s): {0: 'remblais'}\n",
      "0\n",
      "find_comp -in- get_comp | 3 component(s), position(s) for lithology: [1], value(s): {0: None, 1: 'schistes'}\n",
      "1\n",
      "find_comp -in- get_comp | 3 component(s), position(s) for lithology: [1], value(s): {0: None, 1: 'Inconnu'}\n",
      "1\n",
      "find_comp -in- get_comp | 3 component(s), position(s) for lithology: [0], value(s): {0: 'calcaire'}\n",
      "0\n",
      "find_comp -in- get_comp | 3 component(s), position(s) for lithology: [0], value(s): {0: 'schistes'}\n",
      "0\n",
      "find_comp -in- get_comp | 4 component(s), position(s) for benzene: [2], value(s): {0: None, 1: None, 2: 'VS'}\n",
      "find_comp -in- get_comp | 3 component(s), position(s) for benzene: [1], value(s): {0: None, 1: 'Inconnu'}\n",
      "find_comp -in- get_comp | 3 component(s), position(s) for benzene: [2], value(s): {0: None, 1: None, 2: 'Inconnu'}\n",
      "find_comp -in- get_comp | 3 component(s), position(s) for benzene: [0], value(s): {0: 'VI'}\n",
      "find_comp -in- get_comp | 3 component(s), position(s) for benzene: [1], value(s): {0: None, 1: 'VR'}\n",
      "find_comp -in- get_comp | 3 component(s), position(s) for benzene: [2], value(s): {0: None, 1: None, 2: 'Inconnu'}\n",
      "find_comp -in- get_comp | 4 component(s), position(s) for benzene: [2], value(s): {0: None, 1: None, 2: 'VS'}\n",
      "2\n",
      "find_comp -in- get_comp | 3 component(s), position(s) for benzene: [1], value(s): {0: None, 1: 'Inconnu'}\n",
      "1\n",
      "find_comp -in- get_comp | 3 component(s), position(s) for benzene: [2], value(s): {0: None, 1: None, 2: 'Inconnu'}\n",
      "2\n",
      "find_comp -in- get_comp | 3 component(s), position(s) for benzene: [0], value(s): {0: 'VI'}\n",
      "0\n",
      "find_comp -in- get_comp | 3 component(s), position(s) for benzene: [1], value(s): {0: None, 1: 'VR'}\n",
      "1\n",
      "find_comp -in- get_comp | 3 component(s), position(s) for benzene: [2], value(s): {0: None, 1: None, 2: 'Inconnu'}\n",
      "2\n",
      "find_comp -in- get_comp | 4 component(s), position(s) for toluene: [3], value(s): {0: None, 1: None, 2: None, 3: 'Inconnu'}\n",
      "find_comp -in- get_comp | 3 component(s), position(s) for toluene: [2], value(s): {0: None, 1: None, 2: 'Inconnu'}\n",
      "find_comp -in- get_comp | 3 component(s), position(s) for toluene: [0], value(s): {0: 'VS'}\n",
      "find_comp -in- get_comp | 3 component(s), position(s) for toluene: [2], value(s): {0: None, 1: None, 2: 'Inconnu'}\n",
      "find_comp -in- get_comp | 3 component(s), position(s) for toluene: [2], value(s): {0: None, 1: None, 2: 'Inconnu'}\n",
      "find_comp -in- get_comp | 3 component(s), position(s) for toluene: [1], value(s): {0: None, 1: 'VR'}\n",
      "find_comp -in- get_comp | 4 component(s), position(s) for toluene: [3], value(s): {0: None, 1: None, 2: None, 3: 'Inconnu'}\n",
      "3\n",
      "find_comp -in- get_comp | 3 component(s), position(s) for toluene: [2], value(s): {0: None, 1: None, 2: 'Inconnu'}\n",
      "2\n",
      "find_comp -in- get_comp | 3 component(s), position(s) for toluene: [0], value(s): {0: 'VS'}\n",
      "0\n",
      "find_comp -in- get_comp | 3 component(s), position(s) for toluene: [2], value(s): {0: None, 1: None, 2: 'Inconnu'}\n",
      "2\n",
      "find_comp -in- get_comp | 3 component(s), position(s) for toluene: [2], value(s): {0: None, 1: None, 2: 'Inconnu'}\n",
      "2\n",
      "find_comp -in- get_comp | 3 component(s), position(s) for toluene: [1], value(s): {0: None, 1: 'VR'}\n",
      "1\n",
      "Borehole geometry created successfully !\n",
      "find_comp -in- get_comp | 3 component(s), position(s) for lithology: [0], value(s): {0: 'calcaire'}\n",
      "find_comp -in- get_comp | 3 component(s), position(s) for lithology: [0], value(s): {0: 'limon'}\n",
      "find_comp -in- get_comp | 3 component(s), position(s) for lithology: [0], value(s): {0: 'sable'}\n",
      "find_comp -in- get_comp | 3 component(s), position(s) for lithology: [0], value(s): {0: 'calcaire'}\n",
      "find_comp -in- get_comp | 3 component(s), position(s) for lithology: [0], value(s): {0: 'remblais'}\n",
      "find_comp -in- get_comp | 3 component(s), position(s) for lithology: [0], value(s): {0: 'schistes'}\n",
      "find_comp -in- get_comp | 3 component(s), position(s) for lithology: [0], value(s): {0: 'calcaire'}\n",
      "0\n",
      "find_comp -in- get_comp | 3 component(s), position(s) for lithology: [0], value(s): {0: 'limon'}\n",
      "0\n",
      "find_comp -in- get_comp | 3 component(s), position(s) for lithology: [0], value(s): {0: 'sable'}\n",
      "0\n",
      "find_comp -in- get_comp | 3 component(s), position(s) for lithology: [0], value(s): {0: 'calcaire'}\n",
      "0\n",
      "find_comp -in- get_comp | 3 component(s), position(s) for lithology: [0], value(s): {0: 'remblais'}\n",
      "0\n",
      "find_comp -in- get_comp | 3 component(s), position(s) for lithology: [0], value(s): {0: 'schistes'}\n",
      "0\n",
      "find_comp -in- get_comp | 3 component(s), position(s) for benzene: [1], value(s): {0: None, 1: 'Inconnu'}\n",
      "find_comp -in- get_comp | 3 component(s), position(s) for benzene: [1], value(s): {0: None, 1: 'VR'}\n",
      "find_comp -in- get_comp | 3 component(s), position(s) for benzene: [1], value(s): {0: None, 1: 'Inconnu'}\n",
      "find_comp -in- get_comp | 3 component(s), position(s) for benzene: [2], value(s): {0: None, 1: None, 2: 'Inconnu'}\n",
      "find_comp -in- get_comp | 3 component(s), position(s) for benzene: [1], value(s): {0: None, 1: 'VS'}\n",
      "find_comp -in- get_comp | 3 component(s), position(s) for benzene: [1], value(s): {0: None, 1: 'Inconnu'}\n",
      "find_comp -in- get_comp | 3 component(s), position(s) for benzene: [1], value(s): {0: None, 1: 'Inconnu'}\n",
      "1\n",
      "find_comp -in- get_comp | 3 component(s), position(s) for benzene: [1], value(s): {0: None, 1: 'VR'}\n",
      "1\n",
      "find_comp -in- get_comp | 3 component(s), position(s) for benzene: [1], value(s): {0: None, 1: 'Inconnu'}\n",
      "1\n",
      "find_comp -in- get_comp | 3 component(s), position(s) for benzene: [2], value(s): {0: None, 1: None, 2: 'Inconnu'}\n",
      "2\n",
      "find_comp -in- get_comp | 3 component(s), position(s) for benzene: [1], value(s): {0: None, 1: 'VS'}\n",
      "1\n",
      "find_comp -in- get_comp | 3 component(s), position(s) for benzene: [1], value(s): {0: None, 1: 'Inconnu'}\n",
      "1\n",
      "find_comp -in- get_comp | 3 component(s), position(s) for toluene: [2], value(s): {0: None, 1: None, 2: 'Inconnu'}\n",
      "find_comp -in- get_comp | 3 component(s), position(s) for toluene: [2], value(s): {0: None, 1: None, 2: 'Inconnu'}\n",
      "find_comp -in- get_comp | 3 component(s), position(s) for toluene: [2], value(s): {0: None, 1: None, 2: 'Inconnu'}\n",
      "find_comp -in- get_comp | 3 component(s), position(s) for toluene: [1], value(s): {0: None, 1: 'VI'}\n",
      "find_comp -in- get_comp | 3 component(s), position(s) for toluene: [2], value(s): {0: None, 1: None, 2: 'Inconnu'}\n",
      "find_comp -in- get_comp | 3 component(s), position(s) for toluene: [2], value(s): {0: None, 1: None, 2: 'Inconnu'}\n",
      "find_comp -in- get_comp | 3 component(s), position(s) for toluene: [2], value(s): {0: None, 1: None, 2: 'Inconnu'}\n",
      "2\n",
      "find_comp -in- get_comp | 3 component(s), position(s) for toluene: [2], value(s): {0: None, 1: None, 2: 'Inconnu'}\n",
      "2\n",
      "find_comp -in- get_comp | 3 component(s), position(s) for toluene: [2], value(s): {0: None, 1: None, 2: 'Inconnu'}\n",
      "2\n",
      "find_comp -in- get_comp | 3 component(s), position(s) for toluene: [1], value(s): {0: None, 1: 'VI'}\n",
      "1\n",
      "find_comp -in- get_comp | 3 component(s), position(s) for toluene: [2], value(s): {0: None, 1: None, 2: 'Inconnu'}\n",
      "2\n",
      "find_comp -in- get_comp | 3 component(s), position(s) for toluene: [2], value(s): {0: None, 1: None, 2: 'Inconnu'}\n",
      "2\n",
      "Borehole geometry created successfully !\n"
     ]
    }
   ],
   "source": [
    "bh3d_1 = Borehole3D(name='BH_1', intervals=samples_intervals, legend_dict=leg_dict, verbose=verbose, \n",
    "                    repr_attribute='benzene')\n",
    "\n",
    "bh3d_2 = Borehole3D(name='BH_2', intervals=samples_intervals_2, legend_dict=leg_dict, verbose=verbose)\n",
    "bh3d_list = [bh3d_1, bh3d_2]"
   ]
  },
  {
   "cell_type": "markdown",
   "id": "3312a46f",
   "metadata": {},
   "source": [
    "## Checkings"
   ]
  },
  {
   "cell_type": "code",
   "execution_count": 10,
   "id": "bb812902",
   "metadata": {},
   "outputs": [],
   "source": [
    "bh = 0"
   ]
  },
  {
   "cell_type": "code",
   "execution_count": 11,
   "id": "b547e219",
   "metadata": {
    "scrolled": false
   },
   "outputs": [
    {
     "data": {
      "text/plain": [
       "{'lithology': [Component({'lithology': 'sable'}),\n",
       "  Component({'lithology': 'remblais'}),\n",
       "  Component({'lithology': 'schistes'}),\n",
       "  Component({'lithology': 'Inconnu'}),\n",
       "  Component({'lithology': 'calcaire'}),\n",
       "  Component({'lithology': 'schistes'})],\n",
       " 'benzene': [Component({'benzene': 'VS', 'Type': 'Sol'}),\n",
       "  Component({'benzene': 'Inconnu', 'Type': 'Sol'}),\n",
       "  Component({'benzene': 'Inconnu'}),\n",
       "  Component({'benzene': 'VI', 'Type': 'Sol'}),\n",
       "  Component({'benzene': 'VR', 'Type': 'Sol'}),\n",
       "  Component({'benzene': 'Inconnu'})],\n",
       " 'toluene': [Component({'toluene': 'Inconnu'}),\n",
       "  Component({'toluene': 'Inconnu'}),\n",
       "  Component({'toluene': 'VS', 'Type': 'Sol'}),\n",
       "  Component({'toluene': 'Inconnu'}),\n",
       "  Component({'toluene': 'Inconnu', 'Type': 'Sol'}),\n",
       "  Component({'toluene': 'VR', 'Type': 'Sol'})]}"
      ]
     },
     "execution_count": 11,
     "metadata": {},
     "output_type": "execute_result"
    }
   ],
   "source": [
    "bh3d_list[bh].get_attrib_components_dict(verbose=verbose)"
   ]
  },
  {
   "cell_type": "code",
   "execution_count": 12,
   "id": "a3e78c05",
   "metadata": {},
   "outputs": [
    {
     "data": {
      "text/plain": [
       "{0: [Component({'lithology': 'sable'}),\n",
       "  Component({'lithology': 'remblais'}),\n",
       "  Component({'benzene': 'VS', 'Type': 'Sol'}),\n",
       "  Component({'toluene': 'Inconnu'})],\n",
       " 1: [Component({'lithology': 'remblais'}),\n",
       "  Component({'benzene': 'Inconnu', 'Type': 'Sol'}),\n",
       "  Component({'toluene': 'Inconnu'})],\n",
       " 2: [Component({'toluene': 'VS', 'Type': 'Sol'}),\n",
       "  Component({'lithology': 'schistes'}),\n",
       "  Component({'benzene': 'Inconnu'})],\n",
       " 3: [Component({'benzene': 'VI', 'Type': 'Sol'}),\n",
       "  Component({'lithology': 'Inconnu'}),\n",
       "  Component({'toluene': 'Inconnu'})],\n",
       " 4: [Component({'lithology': 'calcaire'}),\n",
       "  Component({'benzene': 'VR', 'Type': 'Sol'}),\n",
       "  Component({'toluene': 'Inconnu', 'Type': 'Sol'})],\n",
       " 5: [Component({'lithology': 'schistes'}),\n",
       "  Component({'toluene': 'VR', 'Type': 'Sol'}),\n",
       "  Component({'benzene': 'Inconnu'})]}"
      ]
     },
     "execution_count": 12,
     "metadata": {},
     "output_type": "execute_result"
    }
   ],
   "source": [
    "bh3d_list[bh].components"
   ]
  },
  {
   "cell_type": "code",
   "execution_count": 13,
   "id": "ced1a530",
   "metadata": {
    "scrolled": true
   },
   "outputs": [
    {
     "data": {
      "text/plain": [
       "[Component({'benzene': 'VS', 'Type': 'Sol'}),\n",
       " Component({'benzene': 'Inconnu', 'Type': 'Sol'}),\n",
       " Component({'benzene': 'Inconnu'}),\n",
       " Component({'benzene': 'VI', 'Type': 'Sol'}),\n",
       " Component({'benzene': 'VR', 'Type': 'Sol'}),\n",
       " Component({'benzene': 'Inconnu'})]"
      ]
     },
     "execution_count": 13,
     "metadata": {},
     "output_type": "execute_result"
    }
   ],
   "source": [
    "bh3d_list[bh].attrib_components"
   ]
  },
  {
   "cell_type": "markdown",
   "id": "713ed26e",
   "metadata": {},
   "source": [
    "##### VTK tables"
   ]
  },
  {
   "cell_type": "code",
   "execution_count": 14,
   "id": "a74c62aa",
   "metadata": {},
   "outputs": [
    {
     "data": {
      "text/plain": [
       "'lithology'"
      ]
     },
     "execution_count": 14,
     "metadata": {},
     "output_type": "execute_result"
    }
   ],
   "source": [
    "a = 0\n",
    "attrib[a]"
   ]
  },
  {
   "cell_type": "code",
   "execution_count": 15,
   "id": "b58630f9",
   "metadata": {},
   "outputs": [
    {
     "data": {
      "text/html": [
       "<table><tr><th>Header</th><th>Data Arrays</th></tr><tr><td>\n",
       "<table>\n",
       "<tr><th>PolyData</th><th>Information</th></tr>\n",
       "<tr><td>N Cells</td><td>312</td></tr>\n",
       "<tr><td>N Points</td><td>1200</td></tr>\n",
       "<tr><td>X Bounds</td><td>-1.248e+00, 1.248e+00</td></tr>\n",
       "<tr><td>Y Bounds</td><td>-1.250e+00, 1.250e+00</td></tr>\n",
       "<tr><td>Z Bounds</td><td>-3.000e+00, 1.000e+01</td></tr>\n",
       "<tr><td>N Arrays</td><td>5</td></tr>\n",
       "</table>\n",
       "\n",
       "</td><td>\n",
       "<table>\n",
       "<tr><th>Name</th><th>Field</th><th>Type</th><th>N Comp</th><th>Min</th><th>Max</th></tr>\n",
       "<tr><td>TubeNormals</td><td>Points</td><td>float32</td><td>3</td><td>-1.000e+00</td><td>1.000e+00</td></tr>\n",
       "<tr><td>Line Index</td><td>Cells</td><td>int64</td><td>1</td><td>0.000e+00</td><td>5.000e+00</td></tr>\n",
       "<tr><td>lithology</td><td>Cells</td><td>int64</td><td>1</td><td>0.000e+00</td><td>4.000e+00</td></tr>\n",
       "<tr><td><b>benzene</b></td><td>Cells</td><td>int64</td><td>1</td><td>0.000e+00</td><td>3.000e+00</td></tr>\n",
       "<tr><td>toluene</td><td>Cells</td><td>int64</td><td>1</td><td>0.000e+00</td><td>2.000e+00</td></tr>\n",
       "</table>\n",
       "\n",
       "</td></tr> </table>"
      ],
      "text/plain": [
       "PolyData (0x7efdc0cbf6a0)\n",
       "  N Cells:\t312\n",
       "  N Points:\t1200\n",
       "  X Bounds:\t-1.248e+00, 1.248e+00\n",
       "  Y Bounds:\t-1.250e+00, 1.250e+00\n",
       "  Z Bounds:\t-3.000e+00, 1.000e+01\n",
       "  N Arrays:\t5"
      ]
     },
     "execution_count": 15,
     "metadata": {},
     "output_type": "execute_result"
    }
   ],
   "source": [
    "vtk = bh3d_list[bh]._vtk\n",
    "vtk"
   ]
  },
  {
   "cell_type": "code",
   "execution_count": 16,
   "id": "19622ca4",
   "metadata": {},
   "outputs": [
    {
     "data": {
      "text/plain": [
       "((312,),\n",
       " array([0, 0, 0, 0, 0, 0, 0, 0, 0, 0, 0, 0, 0, 0, 0, 0, 0, 0, 0, 0, 0, 0,\n",
       "        0, 0, 0, 0, 0, 0, 0, 0, 0, 0, 0, 0, 0, 0, 0, 0, 0, 0, 0, 0, 0, 0,\n",
       "        0, 0, 0, 0, 0, 0, 0, 0, 1, 1, 1, 1, 1, 1, 1, 1, 1, 1, 1, 1, 1, 1,\n",
       "        1, 1, 1, 1, 1, 1, 1, 1, 1, 1, 1, 1, 1, 1, 1, 1, 1, 1, 1, 1, 1, 1,\n",
       "        1, 1, 1, 1, 1, 1, 1, 1, 1, 1, 1, 1, 1, 1, 1, 1, 2, 2, 2, 2, 2, 2,\n",
       "        2, 2, 2, 2, 2, 2, 2, 2, 2, 2, 2, 2, 2, 2, 2, 2, 2, 2, 2, 2, 2, 2,\n",
       "        2, 2, 2, 2, 2, 2, 2, 2, 2, 2, 2, 2, 2, 2, 2, 2, 2, 2, 2, 2, 2, 2,\n",
       "        2, 2, 3, 3, 3, 3, 3, 3, 3, 3, 3, 3, 3, 3, 3, 3, 3, 3, 3, 3, 3, 3,\n",
       "        3, 3, 3, 3, 3, 3, 3, 3, 3, 3, 3, 3, 3, 3, 3, 3, 3, 3, 3, 3, 3, 3,\n",
       "        3, 3, 3, 3, 3, 3, 3, 3, 3, 3, 4, 4, 4, 4, 4, 4, 4, 4, 4, 4, 4, 4,\n",
       "        4, 4, 4, 4, 4, 4, 4, 4, 4, 4, 4, 4, 4, 4, 4, 4, 4, 4, 4, 4, 4, 4,\n",
       "        4, 4, 4, 4, 4, 4, 4, 4, 4, 4, 4, 4, 4, 4, 4, 4, 4, 4, 2, 2, 2, 2,\n",
       "        2, 2, 2, 2, 2, 2, 2, 2, 2, 2, 2, 2, 2, 2, 2, 2, 2, 2, 2, 2, 2, 2,\n",
       "        2, 2, 2, 2, 2, 2, 2, 2, 2, 2, 2, 2, 2, 2, 2, 2, 2, 2, 2, 2, 2, 2,\n",
       "        2, 2, 2, 2]))"
      ]
     },
     "execution_count": 16,
     "metadata": {},
     "output_type": "execute_result"
    }
   ],
   "source": [
    "vtk[attrib[a]].shape, vtk[attrib[a]]"
   ]
  },
  {
   "cell_type": "code",
   "execution_count": 17,
   "id": "2ab2a685",
   "metadata": {},
   "outputs": [
    {
     "data": {
      "text/plain": [
       "'lithology'"
      ]
     },
     "execution_count": 17,
     "metadata": {},
     "output_type": "execute_result"
    }
   ],
   "source": [
    "bh3d_list[bh].geometry.data[0].name #.array"
   ]
  },
  {
   "cell_type": "raw",
   "id": "85d88dbf",
   "metadata": {},
   "source": [
    "lithologies [0 : 'remblais', 1 : 'limon', 2 : 'schistes', 3 : 'sable', 4 : 'inconnu']\n",
    "\n",
    "pollutants [0 : 'VR', 1 : 'Inconnu', 2 : 'VS', 3 : 'VI']"
   ]
  },
  {
   "cell_type": "code",
   "execution_count": 18,
   "id": "22e3054f",
   "metadata": {},
   "outputs": [
    {
     "data": {
      "text/plain": [
       "[0, 1, 2, 3, 4, 2]"
      ]
     },
     "execution_count": 18,
     "metadata": {},
     "output_type": "execute_result"
    }
   ],
   "source": [
    "bh3d_list[bh].geometry.data[0].array.array.tolist()"
   ]
  },
  {
   "cell_type": "markdown",
   "id": "16fed775",
   "metadata": {},
   "source": [
    "## 2D/3D display"
   ]
  },
  {
   "cell_type": "markdown",
   "id": "3cff8343",
   "metadata": {},
   "source": [
    "### Borehole #1"
   ]
  },
  {
   "cell_type": "code",
   "execution_count": 19,
   "id": "0b2ec99d",
   "metadata": {},
   "outputs": [],
   "source": [
    "bh = 0\n",
    "a = 0"
   ]
  },
  {
   "cell_type": "code",
   "execution_count": 20,
   "id": "2f01fa2e",
   "metadata": {},
   "outputs": [
    {
     "data": {
      "text/html": [
       "<table><tr><th>colour</th><th>component</th><th>hatch</th><th>width</th></tr><tr><td style=\"color:#000000; background-color:#ffcb23\">#ffcb23</td><td style=\"color:black; background-color:white\"><table><tr><td><strong>lithology</strong></td><td>sable</td></tr></table></td><td style=\"color:black; background-color:white\">'..'</td><td style=\"color:black; background-color:white\">3</td></tr><tr><td style=\"color:#000000; background-color:#d3b798\">#d3b798</td><td style=\"color:black; background-color:white\"><table><tr><td><strong>lithology</strong></td><td>remblais</td></tr></table></td><td style=\"color:black; background-color:white\">'v'</td><td style=\"color:black; background-color:white\">3</td></tr><tr><td style=\"color:#000000; background-color:#bbffdd\">#bbffdd</td><td style=\"color:black; background-color:white\"><table><tr><td><strong>lithology</strong></td><td>schistes</td></tr></table></td><td style=\"color:black; background-color:white\">'--'</td><td style=\"color:black; background-color:white\">3</td></tr><tr><td style=\"color:#000000; background-color:#ffffff\">#ffffff</td><td style=\"color:black; background-color:white\"><table><tr><td><strong>lithology</strong></td><td>Inconnu</td></tr></table></td><td style=\"color:black; background-color:white\">None</td><td style=\"color:black; background-color:white\">3</td></tr><tr><td style=\"color:#000000; background-color:#149eff\">#149eff</td><td style=\"color:black; background-color:white\"><table><tr><td><strong>lithology</strong></td><td>calcaire</td></tr></table></td><td style=\"color:black; background-color:white\">'='</td><td style=\"color:black; background-color:white\">3</td></tr></table>"
      ],
      "text/plain": [
       "Legend(Decor({'_colour': '#ffcb23', 'width': 3, 'hatch': \"'..'\", 'component': Component({'lithology': 'sable'})})\n",
       "Decor({'_colour': '#d3b798', 'width': 3, 'hatch': \"'v'\", 'component': Component({'lithology': 'remblais'})})\n",
       "Decor({'_colour': '#bbffdd', 'width': 3, 'hatch': \"'--'\", 'component': Component({'lithology': 'schistes'})})\n",
       "Decor({'_colour': '#ffffff', 'width': 3, 'hatch': None, 'component': Component({'lithology': 'Inconnu'})})\n",
       "Decor({'_colour': '#149eff', 'width': 3, 'hatch': \"'='\", 'component': Component({'lithology': 'calcaire'})}))"
      ]
     },
     "execution_count": 20,
     "metadata": {},
     "output_type": "execute_result"
    }
   ],
   "source": [
    "bh3d_list[bh].legend_dict[attrib[a]]['legend']"
   ]
  },
  {
   "cell_type": "code",
   "execution_count": 21,
   "id": "3cfd7951",
   "metadata": {},
   "outputs": [
    {
     "data": {
      "image/png": "[encoded data removed]",
      "text/html": [
       "<div style=\"vertical-align: middle;\"><strong>from_list</strong> </div><div class=\"cmap\"><img alt=\"from_list colormap\" title=\"from_list\" style=\"border: 1px solid #555;\" src=\"data:image/png;base64,iVBORw0KGgoAAAANSUhEUgAAAgAAAABACAYAAABsv8+/AAAAGHRFWHRUaXRsZQBmcm9tX2xpc3QgY29sb3JtYXBDL89FAAAAHnRFWHREZXNjcmlwdGlvbgBmcm9tX2xpc3QgY29sb3JtYXABtCnOAAAAMHRFWHRBdXRob3IATWF0cGxvdGxpYiB2My40LjIsIGh0dHBzOi8vbWF0cGxvdGxpYi5vcmes1mPdAAAAMnRFWHRTb2Z0d2FyZQBNYXRwbG90bGliIHYzLjQuMiwgaHR0cHM6Ly9tYXRwbG90bGliLm9yZ4Jw/PoAAAFNSURBVHic7dZBDcJAAADBgocaACuQ1BB6EMQXETzwUAwcX45kZxTscw/747wv/KXn+zY7gYHXdp2dwMBlOc1OYGC9zy7gm+PsAADg9wwAAAQZAAAIMgAAEGQAACDIAABAkAEAgCADAABBBgAAggwAAAQZAAAIMgAAEGQAACDIAABAkAEAgCADAABBBgAAggwAAAQZAAAIMgAAEGQAACDIAABAkAEAgCADAABBBgAAggwAAAQZAAAIMgAAEGQAACDIAABAkAEAgCADAABBBgAAggwAAAQZAAAIMgAAEGQAACDIAABAkAEAgCADAABBBgAAggwAAAQZAAAIMgAAEGQAACDIAABAkAEAgCADAABBBgAAggwAAAQZAAAIMgAAEGQAACDIAABAkAEAgCADAABBBgAAggwAAAQZAAAIMgAAEGQAACDIAABAkAEAgKAPOtkIMA4hVCUAAAAASUVORK5CYII=\"></div><div style=\"vertical-align: middle; max-width: 514px; display: flex; justify-content: space-between;\"><div style=\"float: left;\"><div title=\"#ffcb23ff\" style=\"display: inline-block; width: 1em; height: 1em; margin: 0; vertical-align: middle; border: 1px solid #555; background-color: #ffcb23ff;\"></div> under</div><div style=\"margin: 0 auto; display: inline-block;\">bad <div title=\"#00000000\" style=\"display: inline-block; width: 1em; height: 1em; margin: 0; vertical-align: middle; border: 1px solid #555; background-color: #00000000;\"></div></div><div style=\"float: right;\">over <div title=\"#149effff\" style=\"display: inline-block; width: 1em; height: 1em; margin: 0; vertical-align: middle; border: 1px solid #555; background-color: #149effff;\"></div></div>"
      ],
      "text/plain": [
       "<matplotlib.colors.ListedColormap at 0x7efdc076d8e0>"
      ]
     },
     "execution_count": 21,
     "metadata": {},
     "output_type": "execute_result"
    }
   ],
   "source": [
    "bh3d_list[bh].legend_dict[attrib[a]]['cmap']"
   ]
  },
  {
   "cell_type": "code",
   "execution_count": 22,
   "id": "c6bf9ba3",
   "metadata": {
    "scrolled": true
   },
   "outputs": [
    {
     "name": "stdout",
     "output_type": "stream",
     "text": [
      "find_comp -in- True | 4 component(s), position(s) for lithology: [0], value(s): {0: 'sable'}\n",
      "plot2d | intv_value: sable | comp: {'lithology': 'sable'}\n",
      "find_comp -in- True | 3 component(s), position(s) for lithology: [0], value(s): {0: 'remblais'}\n",
      "plot2d | intv_value: remblais | comp: {'lithology': 'remblais'}\n",
      "find_comp -in- True | 3 component(s), position(s) for lithology: [1], value(s): {0: None, 1: 'schistes'}\n",
      "plot2d | intv_value: schistes | comp: {'lithology': 'schistes'}\n",
      "find_comp -in- True | 3 component(s), position(s) for lithology: [1], value(s): {0: None, 1: 'Inconnu'}\n",
      "plot2d | intv_value: Inconnu | comp: {'lithology': 'Inconnu'}\n",
      "find_comp -in- True | 3 component(s), position(s) for lithology: [0], value(s): {0: 'calcaire'}\n",
      "plot2d | intv_value: calcaire | comp: {'lithology': 'calcaire'}\n",
      "find_comp -in- True | 3 component(s), position(s) for lithology: [0], value(s): {0: 'schistes'}\n",
      "plot2d | intv_value: schistes | comp: {'lithology': 'schistes'}\n",
      "plot2d | legend_val: sable\n",
      "plot2d | legend_val: remblais\n",
      "plot2d | legend_val: schistes\n",
      "plot2d | legend_val: Inconnu\n",
      "plot2d | legend_val: calcaire\n",
      "plot2d | decors: {0: Decor({'_colour': '#ffcb23', 'width': 3, 'hatch': \"'..'\", 'component': Component({'lithology': 'sable'})}), 1: Decor({'_colour': '#d3b798', 'width': 3, 'hatch': \"'v'\", 'component': Component({'lithology': 'remblais'})}), 2: Decor({'_colour': '#bbffdd', 'width': 3, 'hatch': \"'--'\", 'component': Component({'lithology': 'schistes'})}), 3: Decor({'_colour': '#ffffff', 'width': 3, 'hatch': None, 'component': Component({'lithology': 'inconnu'})}), 4: Decor({'_colour': '#149eff', 'width': 3, 'hatch': \"'='\", 'component': Component({'lithology': 'calcaire'})})}\n",
      "plot_axis_from_striplog | comp_index: 0, match:['lithology']\n",
      "plot_axis_from_striplog | comp_index: 0, match:['lithology']\n",
      "plot_axis_from_striplog | comp_index: 1, match:['lithology']\n",
      "plot_axis_from_striplog | comp_index: -1, match:['lithology']\n",
      "plot_axis_from_striplog | comp_index: 0, match:['lithology']\n",
      "plot_axis_from_striplog | comp_index: 0, match:['lithology']\n"
     ]
    },
    {
     "name": "stderr",
     "output_type": "stream",
     "text": [
      "/home/yanathan/Projects/GSDMA/utils/utils.py:227: MatplotlibDeprecationWarning: hatch must consist of a string of \"*+-./OX\\ox|\" or None, but found the following invalid values \"'\". Passing invalid values is deprecated since 3.4 and will become an error two minor releases later.\n",
      "  rect = mpl.patches.Rectangle(origin, w, thick, fc=fc, lw=lw, hatch=d.hatch,\n",
      "/home/yanathan/Projects/GSDMA/utils/utils.py:227: MatplotlibDeprecationWarning: hatch must consist of a string of \"*+-./OX\\ox|\" or None, but found the following invalid values \"'v\". Passing invalid values is deprecated since 3.4 and will become an error two minor releases later.\n",
      "  rect = mpl.patches.Rectangle(origin, w, thick, fc=fc, lw=lw, hatch=d.hatch,\n",
      "/home/yanathan/Projects/GSDMA/utils/utils.py:227: MatplotlibDeprecationWarning: hatch must consist of a string of \"*+-./OX\\ox|\" or None, but found the following invalid values \"'=\". Passing invalid values is deprecated since 3.4 and will become an error two minor releases later.\n",
      "  rect = mpl.patches.Rectangle(origin, w, thick, fc=fc, lw=lw, hatch=d.hatch,\n",
      "/home/yanathan/.local/share/virtualenvs/GSDMA-DRfwm83x/lib/python3.8/site-packages/striplog/legend.py:311: MatplotlibDeprecationWarning: hatch must consist of a string of \"*+-./OX\\ox|\" or None, but found the following invalid values \"'=\". Passing invalid values is deprecated since 3.4 and will become an error two minor releases later.\n",
      "  rect1 = patches.Rectangle((0, 0),\n",
      "/home/yanathan/.local/share/virtualenvs/GSDMA-DRfwm83x/lib/python3.8/site-packages/striplog/legend.py:311: MatplotlibDeprecationWarning: hatch must consist of a string of \"*+-./OX\\ox|\" or None, but found the following invalid values \"'\". Passing invalid values is deprecated since 3.4 and will become an error two minor releases later.\n",
      "  rect1 = patches.Rectangle((0, 0),\n",
      "/home/yanathan/.local/share/virtualenvs/GSDMA-DRfwm83x/lib/python3.8/site-packages/striplog/legend.py:311: MatplotlibDeprecationWarning: hatch must consist of a string of \"*+-./OX\\ox|\" or None, but found the following invalid values \"'v\". Passing invalid values is deprecated since 3.4 and will become an error two minor releases later.\n",
      "  rect1 = patches.Rectangle((0, 0),\n"
     ]
    },
    {
     "data": {
      "image/png": "[encoded data removed]",
      "text/plain": [
       "<Figure size 432x432 with 7 Axes>"
      ]
     },
     "metadata": {
      "needs_background": "light"
     },
     "output_type": "display_data"
    }
   ],
   "source": [
    "bh3d_list[bh].log_plot(repr_attribute=attrib[a], verbose=True)"
   ]
  },
  {
   "cell_type": "code",
   "execution_count": 23,
   "id": "df7ab2fa",
   "metadata": {},
   "outputs": [
    {
     "data": {
      "application/vnd.jupyter.widget-view+json": {
       "model_id": "febc247792764f839606fe4e992b9b78",
       "version_major": 2,
       "version_minor": 0
      },
      "text/plain": [
       "ViewInteractiveWidget(height=768, layout=Layout(height='auto', width='100%'), width=1024)"
      ]
     },
     "metadata": {},
     "output_type": "display_data"
    }
   ],
   "source": [
    "bh3d_list[bh].plot3d(repr_attribute=attrib[a], str_annotations=True, custom_legend=False)"
   ]
  },
  {
   "cell_type": "code",
   "execution_count": 24,
   "id": "38d17146",
   "metadata": {
    "scrolled": false
   },
   "outputs": [
    {
     "data": {
      "application/vnd.jupyter.widget-view+json": {
       "model_id": "a0071e51afeb4e10965f0dd83996fe41",
       "version_major": 2,
       "version_minor": 0
      },
      "text/plain": [
       "ViewInteractiveWidget(height=768, layout=Layout(height='auto', width='100%'), width=1024)"
      ]
     },
     "metadata": {},
     "output_type": "display_data"
    }
   ],
   "source": [
    "bh3d_list[bh].plot3d(repr_attribute=attrib[a+1], str_annotations=True, custom_legend=False)"
   ]
  },
  {
   "cell_type": "code",
   "execution_count": 25,
   "id": "e27cca33",
   "metadata": {
    "scrolled": true
   },
   "outputs": [
    {
     "data": {
      "application/vnd.jupyter.widget-view+json": {
       "model_id": "c0e01076da15468caf1af72068b84c56",
       "version_major": 2,
       "version_minor": 0
      },
      "text/plain": [
       "ViewInteractiveWidget(height=768, layout=Layout(height='auto', width='100%'), width=1024)"
      ]
     },
     "metadata": {},
     "output_type": "display_data"
    }
   ],
   "source": [
    "bh3d_list[bh].plot3d(repr_attribute=attrib[a+2], str_annotations=True, custom_legend=False)"
   ]
  },
  {
   "cell_type": "markdown",
   "id": "28d66172",
   "metadata": {},
   "source": [
    "## Build several boreholes legend/cmap (for a project) test"
   ]
  },
  {
   "cell_type": "code",
   "execution_count": 26,
   "id": "6890cefc",
   "metadata": {
    "scrolled": false
   },
   "outputs": [],
   "source": [
    "synth_leg_dict, detail_leg_dict = build_bh3d_legend_cmap(bh3d_list, legend_dict=leg_dict, \n",
    "                                                         repr_attrib_list=['lithology', 'pollutant'], \n",
    "                                                         compute_all=True, verbose=verbose)"
   ]
  },
  {
   "cell_type": "code",
   "execution_count": 27,
   "id": "51d1a0b1",
   "metadata": {},
   "outputs": [
    {
     "data": {
      "text/html": [
       "<table><tr><th>colour</th><th>component</th><th>hatch</th><th>width</th></tr><tr><td style=\"color:#000000; background-color:#ffa500\">#ffa500</td><td style=\"color:black; background-color:white\"><table><tr><td><strong>benzene</strong></td><td>VS</td></tr></table></td><td style=\"color:black; background-color:white\">None</td><td style=\"color:black; background-color:white\">3</td></tr><tr><td style=\"color:#000000; background-color:#ffffff\">#ffffff</td><td style=\"color:black; background-color:white\"><table><tr><td><strong>benzene</strong></td><td>Inconnu</td></tr></table></td><td style=\"color:black; background-color:white\">None</td><td style=\"color:black; background-color:white\">3</td></tr><tr><td style=\"color:#ffffff; background-color:#ff0000\">#ff0000</td><td style=\"color:black; background-color:white\"><table><tr><td><strong>benzene</strong></td><td>VI</td></tr></table></td><td style=\"color:black; background-color:white\">None</td><td style=\"color:black; background-color:white\">3</td></tr><tr><td style=\"color:#000000; background-color:#00ff00\">#00ff00</td><td style=\"color:black; background-color:white\"><table><tr><td><strong>benzene</strong></td><td>VR</td></tr></table></td><td style=\"color:black; background-color:white\">None</td><td style=\"color:black; background-color:white\">3</td></tr></table>"
      ],
      "text/plain": [
       "Legend(Decor({'_colour': '#ffa500', 'width': 3, 'component': Component({'benzene': 'VS'}), 'hatch': None})\n",
       "Decor({'_colour': '#ffffff', 'width': 3, 'component': Component({'benzene': 'Inconnu'}), 'hatch': None})\n",
       "Decor({'_colour': '#ff0000', 'width': 3, 'component': Component({'benzene': 'VI'}), 'hatch': None})\n",
       "Decor({'_colour': '#00ff00', 'width': 3, 'component': Component({'benzene': 'VR'}), 'hatch': None}))"
      ]
     },
     "execution_count": 27,
     "metadata": {},
     "output_type": "execute_result"
    }
   ],
   "source": [
    "b = 1\n",
    "synth_leg_dict[attrib[b]]['legend']"
   ]
  },
  {
   "cell_type": "code",
   "execution_count": 28,
   "id": "57f526be",
   "metadata": {},
   "outputs": [
    {
     "data": {
      "image/png": "[encoded data removed]",
      "text/html": [
       "<div style=\"vertical-align: middle;\"><strong>from_list</strong> </div><div class=\"cmap\"><img alt=\"from_list colormap\" title=\"from_list\" style=\"border: 1px solid #555;\" src=\"data:image/png;base64,iVBORw0KGgoAAAANSUhEUgAAAgAAAABACAYAAABsv8+/AAAAGHRFWHRUaXRsZQBmcm9tX2xpc3QgY29sb3JtYXBDL89FAAAAHnRFWHREZXNjcmlwdGlvbgBmcm9tX2xpc3QgY29sb3JtYXABtCnOAAAAMHRFWHRBdXRob3IATWF0cGxvdGxpYiB2My40LjIsIGh0dHBzOi8vbWF0cGxvdGxpYi5vcmes1mPdAAAAMnRFWHRTb2Z0d2FyZQBNYXRwbG90bGliIHYzLjQuMiwgaHR0cHM6Ly9tYXRwbG90bGliLm9yZ4Jw/PoAAAE1SURBVHic7dZBDcAwDATBuDDLrzhTFsljZxCcZFna2d/ai67X+dNmbi/govH+ac/tAQDAeQIAAIIEAAAECQAACBIAABAkAAAgSAAAQJAAAIAgAQAAQQIAAIIEAAAECQAACBIAABAkAAAgSAAAQJAAAIAgAQAAQQIAAIIEAAAECQAACBIAABAkAAAgSAAAQJAAAIAgAQAAQQIAAIIEAAAECQAACBIAABAkAAAgSAAAQJAAAIAgAQAAQQIAAIIEAAAECQAACBIAABAkAAAgSAAAQJAAAIAgAQAAQQIAAIIEAAAECQAACBIAABAkAAAgSAAAQJAAAIAgAQAAQQIAAIIEAAAECQAACBIAABAkAAAgSAAAQJAAAIAgAQAAQQIAAIIEAAAECQAACBIAABAkAAAgSAAAQNAPJr8FfvrREkcAAAAASUVORK5CYII=\"></div><div style=\"vertical-align: middle; max-width: 514px; display: flex; justify-content: space-between;\"><div style=\"float: left;\"><div title=\"#ffa500ff\" style=\"display: inline-block; width: 1em; height: 1em; margin: 0; vertical-align: middle; border: 1px solid #555; background-color: #ffa500ff;\"></div> under</div><div style=\"margin: 0 auto; display: inline-block;\">bad <div title=\"#00000000\" style=\"display: inline-block; width: 1em; height: 1em; margin: 0; vertical-align: middle; border: 1px solid #555; background-color: #00000000;\"></div></div><div style=\"float: right;\">over <div title=\"#00ff00ff\" style=\"display: inline-block; width: 1em; height: 1em; margin: 0; vertical-align: middle; border: 1px solid #555; background-color: #00ff00ff;\"></div></div>"
      ],
      "text/plain": [
       "<matplotlib.colors.ListedColormap at 0x7efe4c2f1d60>"
      ]
     },
     "execution_count": 28,
     "metadata": {},
     "output_type": "execute_result"
    }
   ],
   "source": [
    "synth_leg_dict[attrib[b]]['cmap']"
   ]
  }
 ],
 "metadata": {
  "kernelspec": {
   "display_name": "Python 3",
   "language": "python",
   "name": "python3"
  },
  "language_info": {
   "codemirror_mode": {
    "name": "ipython",
    "version": 3
   },
   "file_extension": ".py",
   "mimetype": "text/x-python",
   "name": "python",
   "nbconvert_exporter": "python",
   "pygments_lexer": "ipython3",
   "version": "3.8.10"
  }
 },
 "nbformat": 4,
 "nbformat_minor": 5
}
