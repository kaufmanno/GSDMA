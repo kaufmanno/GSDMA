{
 "cells": [
  {
   "cell_type": "markdown",
   "id": "finite-killing",
   "metadata": {},
   "source": [
    "# Data Gathering"
   ]
  },
  {
   "cell_type": "code",
   "execution_count": 1,
   "id": "loaded-theology",
   "metadata": {},
   "outputs": [],
   "source": [
    "%matplotlib widget"
   ]
  },
  {
   "cell_type": "code",
   "execution_count": 2,
   "id": "educational-barrier",
   "metadata": {},
   "outputs": [
    {
     "name": "stderr",
     "output_type": "stream",
     "text": [
      "/home/yanathan/.local/share/virtualenvs/GSDMA-DRfwm83x/lib/python3.8/site-packages/striplog/legend.py:687: UserWarning: This legend contains duplicate components.\n",
      "  warnings.warn(w)\n",
      "/home/yanathan/.local/share/virtualenvs/GSDMA-DRfwm83x/lib/python3.8/site-packages/striplog/legend.py:687: UserWarning: This legend contains duplicate components.\n",
      "  warnings.warn(w)\n",
      "/home/yanathan/.local/share/virtualenvs/GSDMA-DRfwm83x/lib/python3.8/site-packages/striplog/legend.py:687: UserWarning: This legend contains duplicate components.\n",
      "  warnings.warn(w)\n"
     ]
    }
   ],
   "source": [
    "from utils.io import gdf_viewer, gdf_merger, data_validation, gdf_filter, fix_duplicates\n",
    "import re, os\n",
    "import numpy as np\n",
    "import geopandas as gpd\n",
    "import pandas as pd\n",
    "import datetime as dtm\n",
    "import matplotlib.pyplot as plt\n",
    "from definitions import ROOT_DIR"
   ]
  },
  {
   "cell_type": "code",
   "execution_count": 3,
   "id": "potential-pride",
   "metadata": {
    "scrolled": true
   },
   "outputs": [],
   "source": [
    "def files_search(work_dir, files_dict, prefix='', skip=None, details=False):   \n",
    "    \n",
    "    if skip is None:\n",
    "        skip = \"we don't want to skip a word\"\n",
    "        \n",
    "    for k in files_dict.keys():\n",
    "        tmp_list = []\n",
    "        for p,d,f in os.walk(work_dir):\n",
    "            for x in f:\n",
    "                add = False\n",
    "                if re.search(prefix,x,re.I) and not re.search(skip,x,re.I):\n",
    "                    add = True\n",
    "                    i = str(f'{p}/{x}')\n",
    "                else:\n",
    "                    add = False\n",
    "                    i=''\n",
    "                    \n",
    "                if re.search(k,i,re.I) and add:\n",
    "                    tmp_list.append(i)\n",
    "        tmp_list.sort()\n",
    "        files_dict.update({k:tmp_list})\n",
    "\n",
    "    for k,v in files_dict.items():\n",
    "        print(k,' \\t: ',len(v))\n",
    "    \n",
    "    if details: # Look filenames\n",
    "        which = files_dict.keys()\n",
    "\n",
    "        for w in which:\n",
    "            print('\\n+++++++++++++++++')\n",
    "            print(f'+  {w.upper()}\\t+ ')\n",
    "            print('+++++++++++++++++')\n",
    "            [print(i, '-', x) for i, x in enumerate(files_dict[w], 0)]    \n"
   ]
  },
  {
   "cell_type": "code",
   "execution_count": 4,
   "id": "representative-bunny",
   "metadata": {},
   "outputs": [],
   "source": [
    "def create_df(files, verbose=True): # find another name for this function\n",
    "    \"\"\"\n",
    "    create dataframes from files and test if they contain position informations\n",
    "    files: list of files name\n",
    "    \"\"\"\n",
    "    dfs = []\n",
    "    for f in files:\n",
    "        df = pd.read_csv(f, delimiter=',')\n",
    "        dfs.append(df)\n",
    "        \n",
    "        if verbose:\n",
    "            if 'X' in list(df.columns): msg = ' --> Coordinates'\n",
    "            else: msg = ' --> No coordinates'\n",
    "\n",
    "            print(f\"df1 : {msg}\")\n",
    "            \n",
    "    return dfs"
   ]
  },
  {
   "cell_type": "code",
   "execution_count": 5,
   "id": "8b09082c",
   "metadata": {
    "scrolled": true
   },
   "outputs": [],
   "source": [
    "def dataset_overview(d, verbose=False): # check for same datasets in given files\n",
    "    \"\"\"d: dict\n",
    "    \"\"\"\n",
    "    l = len(d)\n",
    "    with_coord = []\n",
    "    no_coord = []\n",
    "    same = []\n",
    "    \n",
    "    for i in range(l-1):\n",
    "        for j in range(i,l):\n",
    "            a, b = create_df([d[i], d[j]], verbose)\n",
    "            if j != i:\n",
    "                if a.equals(b):\n",
    "                    same.append((i,j))\n",
    "            \n",
    "            if 'X' in list(b.columns) and j not in with_coord:\n",
    "                with_coord.append(j)\n",
    "            elif 'X' not in list(b.columns) and j not in no_coord:\n",
    "                no_coord.append(j)\n",
    "    \n",
    "    print(f'Same files:{same}\\nFiles with coordinates:{with_coord}\\nFiles without coordinates:{no_coord}')"
   ]
  },
  {
   "cell_type": "markdown",
   "id": "enhanced-noise",
   "metadata": {},
   "source": [
    "## Reading files"
   ]
  },
  {
   "cell_type": "code",
   "execution_count": 6,
   "id": "vanilla-bones",
   "metadata": {},
   "outputs": [],
   "source": [
    "work_dir = ROOT_DIR+'/CF_data/Result_traitem/'\n",
    "save_dir = ROOT_DIR+'/CF_data/Donnees_fusionnees/'"
   ]
  },
  {
   "cell_type": "code",
   "execution_count": 7,
   "id": "confused-pleasure",
   "metadata": {},
   "outputs": [],
   "source": [
    "# create my dictionary structure to retrieve good files (Keynames !!!)\n",
    "files_dict={'Borehole':0,'Piezometer':0,'Piezair':0,'Trench':0,'Litho':0,'Equipm':0,\n",
    "        'Measure':0,'Sample':0,'Analysis':0,'Facility':0}"
   ]
  },
  {
   "cell_type": "code",
   "execution_count": 8,
   "id": "compliant-sensitivity",
   "metadata": {
    "scrolled": true
   },
   "outputs": [
    {
     "name": "stdout",
     "output_type": "stream",
     "text": [
      "Borehole  \t:  7\n",
      "Piezometer  \t:  17\n",
      "Piezair  \t:  2\n",
      "Trench  \t:  1\n",
      "Litho  \t:  7\n",
      "Equipm  \t:  3\n",
      "Measure  \t:  6\n",
      "Sample  \t:  27\n",
      "Analysis  \t:  21\n",
      "Facility  \t:  4\n"
     ]
    }
   ],
   "source": [
    "files_search(work_dir, files_dict, prefix='', skip='source')"
   ]
  },
  {
   "cell_type": "code",
   "execution_count": 9,
   "id": "possible-bones",
   "metadata": {},
   "outputs": [],
   "source": [
    "how=['inner', 'outer', 'left', 'right']"
   ]
  },
  {
   "cell_type": "code",
   "execution_count": 10,
   "id": "national-boards",
   "metadata": {},
   "outputs": [],
   "source": [
    "f = False\n",
    "t = True"
   ]
  },
  {
   "cell_type": "markdown",
   "id": "c99f6d75",
   "metadata": {},
   "source": [
    "# ================== PROCESSING ===================== "
   ]
  },
  {
   "cell_type": "markdown",
   "id": "vanilla-transformation",
   "metadata": {},
   "source": [
    "# Boreholes"
   ]
  },
  {
   "cell_type": "markdown",
   "id": "defined-oregon",
   "metadata": {},
   "source": [
    "Some corrections todo in 'data organization':\n",
    "- correct extraction in the file 2 -> Samples\n",
    "- file 4 and file 5 are the same in result (check it)\n",
    "- try to concatenate file 1 with piezo (if possible because no position)\n",
    "- check processing for 'refus and 'type_refus' (every object)"
   ]
  },
  {
   "cell_type": "code",
   "execution_count": 11,
   "id": "champion-wallet",
   "metadata": {},
   "outputs": [
    {
     "name": "stdout",
     "output_type": "stream",
     "text": [
      "7 files\n"
     ]
    }
   ],
   "source": [
    "key='Borehole'\n",
    "save_file = f'Merged_Boreholes.csv'\n",
    "coi=['ID','ID_date','X','Y','Z','Type','Long_for','Diam_for','Refus', 'Societe'] #columns of interest\n",
    "dataset = pd.DataFrame() # for saving object info after last merging\n",
    "print(len(files_dict[key]), 'files')"
   ]
  },
  {
   "cell_type": "code",
   "execution_count": 12,
   "id": "surprised-relations",
   "metadata": {
    "scrolled": true
   },
   "outputs": [
    {
     "data": {
      "text/plain": [
       "['/home/yanathan/Projects/GSDMA/CF_data/Result_traitem/Forage_Pilote/leve_Z_elect_pos_Boreholes.csv',\n",
       " '/home/yanathan/Projects/GSDMA/CF_data/Result_traitem/Prof_contact_sol_forage/Feuil1_Boreholes.csv',\n",
       " '/home/yanathan/Projects/GSDMA/CF_data/Result_traitem/database_Memoris3/Profils_sol_Boreholes.csv',\n",
       " '/home/yanathan/Projects/GSDMA/CF_data/Result_traitem/donnees_terrain_2019/Donnees_forage_Boreholes.csv',\n",
       " '/home/yanathan/Projects/GSDMA/CF_data/Result_traitem/profils_sols_donnees_forages/Equipement_Boreholes.csv',\n",
       " '/home/yanathan/Projects/GSDMA/CF_data/Result_traitem/profils_sols_donnees_forages/Log_Boreholes.csv',\n",
       " '/home/yanathan/Projects/GSDMA/CF_data/Result_traitem/profils_sols_donnees_forages/donnees_forage_Boreholes.csv']"
      ]
     },
     "execution_count": 12,
     "metadata": {},
     "output_type": "execute_result"
    }
   ],
   "source": [
    "files_dict[key] #files_dict[key][0]"
   ]
  },
  {
   "cell_type": "code",
   "execution_count": 13,
   "id": "d2213ff0",
   "metadata": {
    "scrolled": false
   },
   "outputs": [
    {
     "name": "stdout",
     "output_type": "stream",
     "text": [
      "Same files:[(4, 6)]\n",
      "Files with coordinates:[1, 3, 4, 6]\n",
      "Files without coordinates:[0, 2, 5]\n"
     ]
    }
   ],
   "source": [
    "dataset_overview(files_dict[key])"
   ]
  },
  {
   "cell_type": "markdown",
   "id": "f15174f2",
   "metadata": {},
   "source": [
    "#### $\\color{green}{\\textbf{Read and merge}}$"
   ]
  },
  {
   "cell_type": "code",
   "execution_count": 14,
   "id": "0942a801",
   "metadata": {
    "scrolled": true
   },
   "outputs": [
    {
     "name": "stdout",
     "output_type": "stream",
     "text": [
      "df1 :  --> No coordinates\n",
      "df1 :  --> Coordinates\n",
      "Rows : 24, columns : 3, Unique col 'ID': 24\n"
     ]
    },
    {
     "data": {
      "application/vnd.jupyter.widget-view+json": {
       "model_id": "e358b607b16446fa954fe024db952533",
       "version_major": 2,
       "version_minor": 0
      },
      "text/plain": [
       "interactive(children=(IntSlider(value=3, description='rows', max=24, min=3, readout=False), IntSlider(value=3,…"
      ]
     },
     "metadata": {},
     "output_type": "display_data"
    },
    {
     "name": "stdout",
     "output_type": "stream",
     "text": [
      "Rows : 13, columns : 13, Unique col 'ID': 13\n"
     ]
    },
    {
     "data": {
      "application/vnd.jupyter.widget-view+json": {
       "model_id": "c8bd748105ac4c32a58a7d96841d93d7",
       "version_major": 2,
       "version_minor": 0
      },
      "text/plain": [
       "interactive(children=(IntSlider(value=3, description='rows', max=13, min=3, readout=False), IntSlider(value=12…"
      ]
     },
     "metadata": {},
     "output_type": "display_data"
    },
    {
     "data": {
      "text/plain": [
       "(None, None)"
      ]
     },
     "execution_count": 14,
     "metadata": {},
     "output_type": "execute_result"
    }
   ],
   "source": [
    "file1= work_dir + 'profils_sols_donnees_forages/Log_Boreholes.csv' # 5\n",
    "file2= work_dir + 'profils_sols_donnees_forages/Equipement_Boreholes.csv' # 4\n",
    "\n",
    "df1, df2 = create_df([file1, file2])\n",
    "gdf_viewer(df1, rows=3, un_val='ID', view=t), gdf_viewer(df2, rows=3, un_val='ID', view=t)"
   ]
  },
  {
   "cell_type": "code",
   "execution_count": 15,
   "id": "f2332ec5",
   "metadata": {},
   "outputs": [],
   "source": [
    "df1.rename(columns={'Profondeur':'Long_for'}, inplace=True)\n",
    "df2.rename(columns={'Profondeur':'Long_for'}, inplace=True)"
   ]
  },
  {
   "cell_type": "code",
   "execution_count": 16,
   "id": "bb83aa6d",
   "metadata": {
    "scrolled": true
   },
   "outputs": [],
   "source": [
    "mdf, conflict_df=gdf_merger(df1, df2, how=how[1], on='ID', dist_max=1)"
   ]
  },
  {
   "cell_type": "code",
   "execution_count": 17,
   "id": "f89ada69",
   "metadata": {
    "scrolled": true
   },
   "outputs": [
    {
     "name": "stdout",
     "output_type": "stream",
     "text": [
      "Rows : 25, columns : 13, Unique col 'ID': 25\n"
     ]
    },
    {
     "data": {
      "application/vnd.jupyter.widget-view+json": {
       "model_id": "f7c1df0b13524214bd21866ead2e1d39",
       "version_major": 2,
       "version_minor": 0
      },
      "text/plain": [
       "interactive(children=(IntSlider(value=10, description='rows', max=25, min=10, readout=False), IntSlider(value=…"
      ]
     },
     "metadata": {},
     "output_type": "display_data"
    }
   ],
   "source": [
    "gdf_viewer(mdf, rows=10, un_val='ID', view=t)"
   ]
  },
  {
   "cell_type": "markdown",
   "id": "cf7d4728",
   "metadata": {},
   "source": [
    "#### First object dataset save"
   ]
  },
  {
   "cell_type": "code",
   "execution_count": 18,
   "id": "974c2bdf",
   "metadata": {},
   "outputs": [],
   "source": [
    "dataset = mdf.copy() #saving"
   ]
  },
  {
   "cell_type": "markdown",
   "id": "fa4ea246",
   "metadata": {},
   "source": [
    "#### $\\color{green}{\\textbf{Read and merge}}$"
   ]
  },
  {
   "cell_type": "code",
   "execution_count": 19,
   "id": "90db7607",
   "metadata": {
    "scrolled": true
   },
   "outputs": [
    {
     "name": "stdout",
     "output_type": "stream",
     "text": [
      "df1 :  --> No coordinates\n",
      "df1 :  --> Coordinates\n",
      "Rows : 172, columns : 6, Unique col 'ID': 172\n"
     ]
    },
    {
     "data": {
      "application/vnd.jupyter.widget-view+json": {
       "model_id": "6312761fd0194fd1bef0a2f92d5a8eca",
       "version_major": 2,
       "version_minor": 0
      },
      "text/plain": [
       "interactive(children=(IntSlider(value=3, description='rows', max=172, min=3, readout=False), IntSlider(value=6…"
      ]
     },
     "metadata": {},
     "output_type": "display_data"
    },
    {
     "name": "stdout",
     "output_type": "stream",
     "text": [
      "Rows : 8, columns : 6, Unique col 'ID': 8\n"
     ]
    },
    {
     "data": {
      "application/vnd.jupyter.widget-view+json": {
       "model_id": "589c516dad344c61a58f3318cdc67797",
       "version_major": 2,
       "version_minor": 0
      },
      "text/plain": [
       "interactive(children=(IntSlider(value=3, description='rows', max=8, min=3, readout=False), IntSlider(value=6, …"
      ]
     },
     "metadata": {},
     "output_type": "display_data"
    },
    {
     "data": {
      "text/plain": [
       "(None, None)"
      ]
     },
     "execution_count": 19,
     "metadata": {},
     "output_type": "execute_result"
    }
   ],
   "source": [
    "file1= work_dir + 'database_Memoris3/Profils_sol_Boreholes.csv' # 2\n",
    "file2= work_dir + 'Prof_contact_sol_forage/Feuil1_Boreholes.csv' # 1\n",
    "\n",
    "df1, df2 = create_df([file1, file2])\n",
    "gdf_viewer(df1, rows=3, un_val='ID', view=t), gdf_viewer(df2, rows=3, un_val='ID', view=t)"
   ]
  },
  {
   "cell_type": "code",
   "execution_count": 20,
   "id": "fd86782a",
   "metadata": {},
   "outputs": [],
   "source": [
    "df1.rename(columns={'Profondeur':'Long_for'}, inplace=True)\n",
    "df2.rename(columns={'Profondeur':'Long_for'}, inplace=True)"
   ]
  },
  {
   "cell_type": "code",
   "execution_count": 21,
   "id": "ac4ecb84",
   "metadata": {
    "scrolled": true
   },
   "outputs": [
    {
     "name": "stdout",
     "output_type": "stream",
     "text": [
      "Conflict values present. Please resolve this manually !\n"
     ]
    }
   ],
   "source": [
    "mdf, conflict_df=gdf_merger(df1, df2, how=how[1], on='ID', dist_max=1)"
   ]
  },
  {
   "cell_type": "code",
   "execution_count": 22,
   "id": "354852df",
   "metadata": {
    "scrolled": false
   },
   "outputs": [
    {
     "name": "stdout",
     "output_type": "stream",
     "text": [
      "Rows : 177, columns : 10, Unique col 'ID': 177\n"
     ]
    },
    {
     "data": {
      "application/vnd.jupyter.widget-view+json": {
       "model_id": "2cd9c5920fff49e1a7ad211721935e9a",
       "version_major": 2,
       "version_minor": 0
      },
      "text/plain": [
       "interactive(children=(IntSlider(value=10, description='rows', max=177, min=10, readout=False), IntSlider(value…"
      ]
     },
     "metadata": {},
     "output_type": "display_data"
    }
   ],
   "source": [
    "gdf_viewer(mdf, rows=10, un_val='ID', view=t)"
   ]
  },
  {
   "cell_type": "markdown",
   "id": "daba29e6",
   "metadata": {},
   "source": [
    "#### $\\color{blue}{\\textbf{Manage conflicts}}$"
   ]
  },
  {
   "cell_type": "code",
   "execution_count": 23,
   "id": "8359be03",
   "metadata": {},
   "outputs": [
    {
     "data": {
      "text/html": [
       "<div>\n",
       "<style scoped>\n",
       "    .dataframe tbody tr th:only-of-type {\n",
       "        vertical-align: middle;\n",
       "    }\n",
       "\n",
       "    .dataframe tbody tr th {\n",
       "        vertical-align: top;\n",
       "    }\n",
       "\n",
       "    .dataframe thead th {\n",
       "        text-align: right;\n",
       "    }\n",
       "</style>\n",
       "<table border=\"1\" class=\"dataframe\">\n",
       "  <thead>\n",
       "    <tr style=\"text-align: right;\">\n",
       "      <th></th>\n",
       "      <th>Check_col</th>\n",
       "      <th>ID</th>\n",
       "      <th>Long_for_x</th>\n",
       "      <th>Long_for_y</th>\n",
       "    </tr>\n",
       "  </thead>\n",
       "  <tbody>\n",
       "    <tr>\n",
       "      <th>136</th>\n",
       "      <td>Long_for</td>\n",
       "      <td>F205</td>\n",
       "      <td>1.4</td>\n",
       "      <td>3.2</td>\n",
       "    </tr>\n",
       "    <tr>\n",
       "      <th>138</th>\n",
       "      <td>Long_for</td>\n",
       "      <td>F212</td>\n",
       "      <td>5.8</td>\n",
       "      <td>3.4</td>\n",
       "    </tr>\n",
       "    <tr>\n",
       "      <th>142</th>\n",
       "      <td>Long_for</td>\n",
       "      <td>F217</td>\n",
       "      <td>5.7</td>\n",
       "      <td>4.2</td>\n",
       "    </tr>\n",
       "  </tbody>\n",
       "</table>\n",
       "</div>"
      ],
      "text/plain": [
       "    Check_col    ID  Long_for_x  Long_for_y\n",
       "136  Long_for  F205         1.4         3.2\n",
       "138  Long_for  F212         5.8         3.4\n",
       "142  Long_for  F217         5.7         4.2"
      ]
     },
     "execution_count": 23,
     "metadata": {},
     "output_type": "execute_result"
    }
   ],
   "source": [
    "conflict_df"
   ]
  },
  {
   "cell_type": "raw",
   "id": "282668f2",
   "metadata": {},
   "source": [
    "data_validation(overall_data=mdf, conflict_data=conflict_df, index_col='index', \n",
    "                valid_dict={'Long_for_x':[136,142],},)"
   ]
  },
  {
   "cell_type": "markdown",
   "id": "f3a4c236",
   "metadata": {},
   "source": [
    "#### Merge with object dataset"
   ]
  },
  {
   "cell_type": "code",
   "execution_count": 24,
   "id": "dcc0dbb0",
   "metadata": {
    "scrolled": true
   },
   "outputs": [],
   "source": [
    "dataset, conflict_df=gdf_merger(dataset, mdf, how=how[1], on='ID', dist_max=1)"
   ]
  },
  {
   "cell_type": "code",
   "execution_count": 25,
   "id": "1c3979ff",
   "metadata": {},
   "outputs": [],
   "source": [
    "if 'level_0' in dataset.columns:\n",
    "    if 'index' in dataset.columns:\n",
    "        dataset.drop(columns='index', inplace=True)\n",
    "    dataset.rename(columns={'level_0':'index'}, inplace=True)"
   ]
  },
  {
   "cell_type": "code",
   "execution_count": 26,
   "id": "ad32f1ca",
   "metadata": {
    "scrolled": false
   },
   "outputs": [
    {
     "name": "stdout",
     "output_type": "stream",
     "text": [
      "Rows : 202, columns : 14, Unique col 'ID': 202\n"
     ]
    },
    {
     "data": {
      "application/vnd.jupyter.widget-view+json": {
       "model_id": "d46d2da022ad47358cceb6a6dbc4b45b",
       "version_major": 2,
       "version_minor": 0
      },
      "text/plain": [
       "interactive(children=(IntSlider(value=10, description='rows', max=202, min=10, readout=False), IntSlider(value…"
      ]
     },
     "metadata": {},
     "output_type": "display_data"
    }
   ],
   "source": [
    "gdf_viewer(dataset, rows=10, un_val='ID', view=t)"
   ]
  },
  {
   "cell_type": "markdown",
   "id": "38efa137",
   "metadata": {},
   "source": [
    "#### $\\color{green}{\\textbf{Read and merge}}$"
   ]
  },
  {
   "cell_type": "code",
   "execution_count": 27,
   "id": "cc2b658f",
   "metadata": {
    "scrolled": false
   },
   "outputs": [
    {
     "name": "stdout",
     "output_type": "stream",
     "text": [
      "df1 :  --> No coordinates\n",
      "df1 :  --> Coordinates\n",
      "Rows : 72, columns : 5, Unique col 'ID': 72\n"
     ]
    },
    {
     "data": {
      "application/vnd.jupyter.widget-view+json": {
       "model_id": "0aa30c4c5eaf4c68998cca244e40821c",
       "version_major": 2,
       "version_minor": 0
      },
      "text/plain": [
       "interactive(children=(IntSlider(value=3, description='rows', max=72, min=3, readout=False), IntSlider(value=5,…"
      ]
     },
     "metadata": {},
     "output_type": "display_data"
    },
    {
     "name": "stdout",
     "output_type": "stream",
     "text": [
      "Rows : 16, columns : 18, Unique col 'ID': 16\n"
     ]
    },
    {
     "data": {
      "application/vnd.jupyter.widget-view+json": {
       "model_id": "fd7535fbf6c545c392e19b72ffd42360",
       "version_major": 2,
       "version_minor": 0
      },
      "text/plain": [
       "interactive(children=(IntSlider(value=3, description='rows', max=16, min=3, readout=False), IntSlider(value=12…"
      ]
     },
     "metadata": {},
     "output_type": "display_data"
    },
    {
     "data": {
      "text/plain": [
       "(None, None)"
      ]
     },
     "execution_count": 27,
     "metadata": {},
     "output_type": "execute_result"
    }
   ],
   "source": [
    "file1= work_dir + 'Forage_Pilote/leve_Z_elect_pos_Boreholes.csv' # 0\n",
    "file2= work_dir + 'donnees_terrain_2019/Donnees_forage_Boreholes.csv' # 3\n",
    "\n",
    "df1, df2 = create_df([file1, file2])\n",
    "gdf_viewer(df1, rows=3, un_val='ID', view=t), gdf_viewer(df2, rows=3, un_val='ID', view=t)"
   ]
  },
  {
   "cell_type": "code",
   "execution_count": 28,
   "id": "632be907",
   "metadata": {},
   "outputs": [],
   "source": [
    "df2.ID=df2.ID.apply(lambda x: 'F'+x) # name recent (2019) boreholes"
   ]
  },
  {
   "cell_type": "code",
   "execution_count": 29,
   "id": "244e64db",
   "metadata": {
    "scrolled": true
   },
   "outputs": [
    {
     "name": "stdout",
     "output_type": "stream",
     "text": [
      "Conflict values present. Please resolve this manually !\n"
     ]
    }
   ],
   "source": [
    "mdf, conflict_df=gdf_merger(df1, df2, how=how[1], on='ID', dist_max=1)"
   ]
  },
  {
   "cell_type": "code",
   "execution_count": 30,
   "id": "4f2f399e",
   "metadata": {
    "scrolled": false
   },
   "outputs": [
    {
     "name": "stdout",
     "output_type": "stream",
     "text": [
      "Rows : 74, columns : 20, Unique col 'ID': 74\n"
     ]
    },
    {
     "data": {
      "application/vnd.jupyter.widget-view+json": {
       "model_id": "623ee03697fe4905b3cdcbea3e10c882",
       "version_major": 2,
       "version_minor": 0
      },
      "text/plain": [
       "interactive(children=(IntSlider(value=10, description='rows', max=74, min=10, readout=False), IntSlider(value=…"
      ]
     },
     "metadata": {},
     "output_type": "display_data"
    }
   ],
   "source": [
    "gdf_viewer(mdf, rows=10, un_val='ID', view=t)"
   ]
  },
  {
   "cell_type": "markdown",
   "id": "8a10e999",
   "metadata": {},
   "source": [
    "#### $\\color{blue}{\\textbf{Manage conflicts}}$"
   ]
  },
  {
   "cell_type": "code",
   "execution_count": 31,
   "id": "395e4eca",
   "metadata": {
    "scrolled": false
   },
   "outputs": [
    {
     "data": {
      "text/html": [
       "<div>\n",
       "<style scoped>\n",
       "    .dataframe tbody tr th:only-of-type {\n",
       "        vertical-align: middle;\n",
       "    }\n",
       "\n",
       "    .dataframe tbody tr th {\n",
       "        vertical-align: top;\n",
       "    }\n",
       "\n",
       "    .dataframe thead th {\n",
       "        text-align: right;\n",
       "    }\n",
       "</style>\n",
       "<table border=\"1\" class=\"dataframe\">\n",
       "  <thead>\n",
       "    <tr style=\"text-align: right;\">\n",
       "      <th></th>\n",
       "      <th>Check_col</th>\n",
       "      <th>ID</th>\n",
       "      <th>Long_for_x</th>\n",
       "      <th>Long_for_y</th>\n",
       "    </tr>\n",
       "  </thead>\n",
       "  <tbody>\n",
       "    <tr>\n",
       "      <th>45</th>\n",
       "      <td>Long_for</td>\n",
       "      <td>F201</td>\n",
       "      <td>5.835</td>\n",
       "      <td>2.4</td>\n",
       "    </tr>\n",
       "    <tr>\n",
       "      <th>49</th>\n",
       "      <td>Long_for</td>\n",
       "      <td>F205</td>\n",
       "      <td>5.840</td>\n",
       "      <td>4.8</td>\n",
       "    </tr>\n",
       "    <tr>\n",
       "      <th>51</th>\n",
       "      <td>Long_for</td>\n",
       "      <td>F207</td>\n",
       "      <td>5.790</td>\n",
       "      <td>4.8</td>\n",
       "    </tr>\n",
       "    <tr>\n",
       "      <th>52</th>\n",
       "      <td>Long_for</td>\n",
       "      <td>F208</td>\n",
       "      <td>5.770</td>\n",
       "      <td>4.8</td>\n",
       "    </tr>\n",
       "    <tr>\n",
       "      <th>56</th>\n",
       "      <td>Long_for</td>\n",
       "      <td>F212</td>\n",
       "      <td>5.675</td>\n",
       "      <td>4.8</td>\n",
       "    </tr>\n",
       "    <tr>\n",
       "      <th>58</th>\n",
       "      <td>Long_for</td>\n",
       "      <td>F214</td>\n",
       "      <td>5.685</td>\n",
       "      <td>4.8</td>\n",
       "    </tr>\n",
       "    <tr>\n",
       "      <th>61</th>\n",
       "      <td>Long_for</td>\n",
       "      <td>F217</td>\n",
       "      <td>5.730</td>\n",
       "      <td>4.8</td>\n",
       "    </tr>\n",
       "    <tr>\n",
       "      <th>63</th>\n",
       "      <td>Long_for</td>\n",
       "      <td>F219</td>\n",
       "      <td>5.630</td>\n",
       "      <td>1.5</td>\n",
       "    </tr>\n",
       "    <tr>\n",
       "      <th>64</th>\n",
       "      <td>Long_for</td>\n",
       "      <td>F220</td>\n",
       "      <td>5.655</td>\n",
       "      <td>0.5</td>\n",
       "    </tr>\n",
       "    <tr>\n",
       "      <th>65</th>\n",
       "      <td>Long_for</td>\n",
       "      <td>F221</td>\n",
       "      <td>5.720</td>\n",
       "      <td>1.4</td>\n",
       "    </tr>\n",
       "    <tr>\n",
       "      <th>67</th>\n",
       "      <td>Long_for</td>\n",
       "      <td>F223</td>\n",
       "      <td>5.680</td>\n",
       "      <td>1.3</td>\n",
       "    </tr>\n",
       "    <tr>\n",
       "      <th>68</th>\n",
       "      <td>Long_for</td>\n",
       "      <td>F224</td>\n",
       "      <td>5.665</td>\n",
       "      <td>2.4</td>\n",
       "    </tr>\n",
       "    <tr>\n",
       "      <th>69</th>\n",
       "      <td>Long_for</td>\n",
       "      <td>F225</td>\n",
       "      <td>5.740</td>\n",
       "      <td>4.8</td>\n",
       "    </tr>\n",
       "    <tr>\n",
       "      <th>70</th>\n",
       "      <td>Long_for</td>\n",
       "      <td>F226</td>\n",
       "      <td>5.765</td>\n",
       "      <td>4.8</td>\n",
       "    </tr>\n",
       "  </tbody>\n",
       "</table>\n",
       "</div>"
      ],
      "text/plain": [
       "   Check_col    ID  Long_for_x  Long_for_y\n",
       "45  Long_for  F201       5.835         2.4\n",
       "49  Long_for  F205       5.840         4.8\n",
       "51  Long_for  F207       5.790         4.8\n",
       "52  Long_for  F208       5.770         4.8\n",
       "56  Long_for  F212       5.675         4.8\n",
       "58  Long_for  F214       5.685         4.8\n",
       "61  Long_for  F217       5.730         4.8\n",
       "63  Long_for  F219       5.630         1.5\n",
       "64  Long_for  F220       5.655         0.5\n",
       "65  Long_for  F221       5.720         1.4\n",
       "67  Long_for  F223       5.680         1.3\n",
       "68  Long_for  F224       5.665         2.4\n",
       "69  Long_for  F225       5.740         4.8\n",
       "70  Long_for  F226       5.765         4.8"
      ]
     },
     "execution_count": 31,
     "metadata": {},
     "output_type": "execute_result"
    }
   ],
   "source": [
    "conflict_df"
   ]
  },
  {
   "cell_type": "raw",
   "id": "79f2fb54",
   "metadata": {},
   "source": [
    "data_validation(overall_data=mdf, conflict_data=conflict_df, index_col='index', \n",
    "                valid_dict={'Long_for_x':[136,142],},)"
   ]
  },
  {
   "cell_type": "markdown",
   "id": "3734b2dd",
   "metadata": {},
   "source": [
    "#### Merge with object dataset"
   ]
  },
  {
   "cell_type": "code",
   "execution_count": 32,
   "id": "c02ca174",
   "metadata": {
    "scrolled": true
   },
   "outputs": [
    {
     "name": "stdout",
     "output_type": "stream",
     "text": [
      "Conflict values present. Please resolve this manually !\n"
     ]
    }
   ],
   "source": [
    "dataset, conflict_df=gdf_merger(dataset, mdf, how=how[1], on='ID', dist_max=1)"
   ]
  },
  {
   "cell_type": "code",
   "execution_count": 33,
   "id": "199a0c57",
   "metadata": {},
   "outputs": [],
   "source": [
    "if 'level_0' in dataset.columns:\n",
    "    if 'index' in dataset.columns:\n",
    "        dataset.drop(columns='index', inplace=True)\n",
    "    dataset.rename(columns={'level_0':'index'}, inplace=True)"
   ]
  },
  {
   "cell_type": "code",
   "execution_count": 34,
   "id": "a7292a25",
   "metadata": {
    "scrolled": false
   },
   "outputs": [
    {
     "name": "stdout",
     "output_type": "stream",
     "text": [
      "Rows : 235, columns : 21, Unique col 'ID': 235\n"
     ]
    },
    {
     "data": {
      "application/vnd.jupyter.widget-view+json": {
       "model_id": "f548652bf7164d91870b4906afd2734e",
       "version_major": 2,
       "version_minor": 0
      },
      "text/plain": [
       "interactive(children=(IntSlider(value=10, description='rows', max=235, min=10, readout=False), IntSlider(value…"
      ]
     },
     "metadata": {},
     "output_type": "display_data"
    }
   ],
   "source": [
    "gdf_viewer(dataset, rows=10, un_val='ID', view=t)"
   ]
  },
  {
   "cell_type": "markdown",
   "id": "9286b7ea",
   "metadata": {},
   "source": [
    "#### $\\color{blue}{\\textbf{Manage conflicts}}$"
   ]
  },
  {
   "cell_type": "code",
   "execution_count": 35,
   "id": "249fda57",
   "metadata": {
    "scrolled": true
   },
   "outputs": [
    {
     "data": {
      "text/html": [
       "<div>\n",
       "<style scoped>\n",
       "    .dataframe tbody tr th:only-of-type {\n",
       "        vertical-align: middle;\n",
       "    }\n",
       "\n",
       "    .dataframe tbody tr th {\n",
       "        vertical-align: top;\n",
       "    }\n",
       "\n",
       "    .dataframe thead th {\n",
       "        text-align: right;\n",
       "    }\n",
       "</style>\n",
       "<table border=\"1\" class=\"dataframe\">\n",
       "  <thead>\n",
       "    <tr style=\"text-align: right;\">\n",
       "      <th></th>\n",
       "      <th>Check_col</th>\n",
       "      <th>ID</th>\n",
       "      <th>index_x</th>\n",
       "      <th>index_y</th>\n",
       "      <th>Long_for_x</th>\n",
       "      <th>Long_for_y</th>\n",
       "      <th>Societe_x</th>\n",
       "      <th>Societe_y</th>\n",
       "      <th>ID_date_x</th>\n",
       "      <th>ID_date_y</th>\n",
       "      <th>Date_ouv_x</th>\n",
       "      <th>Date_ouv_y</th>\n",
       "    </tr>\n",
       "  </thead>\n",
       "  <tbody>\n",
       "    <tr>\n",
       "      <th>33</th>\n",
       "      <td>index</td>\n",
       "      <td>F10</td>\n",
       "      <td>33.0</td>\n",
       "      <td>0.0</td>\n",
       "      <td>7.0</td>\n",
       "      <td>NaN</td>\n",
       "      <td>SITEREM</td>\n",
       "      <td>NaN</td>\n",
       "      <td>2010-F10</td>\n",
       "      <td>NaN</td>\n",
       "      <td>2010-03-15</td>\n",
       "      <td>NaN</td>\n",
       "    </tr>\n",
       "    <tr>\n",
       "      <th>34</th>\n",
       "      <td>index</td>\n",
       "      <td>F11</td>\n",
       "      <td>34.0</td>\n",
       "      <td>1.0</td>\n",
       "      <td>6.0</td>\n",
       "      <td>NaN</td>\n",
       "      <td>SITEREM</td>\n",
       "      <td>NaN</td>\n",
       "      <td>2010-F11</td>\n",
       "      <td>NaN</td>\n",
       "      <td>2010-03-16</td>\n",
       "      <td>NaN</td>\n",
       "    </tr>\n",
       "    <tr>\n",
       "      <th>36</th>\n",
       "      <td>index</td>\n",
       "      <td>F13</td>\n",
       "      <td>36.0</td>\n",
       "      <td>3.0</td>\n",
       "      <td>8.4</td>\n",
       "      <td>NaN</td>\n",
       "      <td>SITEREM</td>\n",
       "      <td>NaN</td>\n",
       "      <td>2010-F13</td>\n",
       "      <td>NaN</td>\n",
       "      <td>2010-03-16</td>\n",
       "      <td>NaN</td>\n",
       "    </tr>\n",
       "    <tr>\n",
       "      <th>38</th>\n",
       "      <td>index</td>\n",
       "      <td>F23</td>\n",
       "      <td>38.0</td>\n",
       "      <td>10.0</td>\n",
       "      <td>6.8</td>\n",
       "      <td>NaN</td>\n",
       "      <td>SBS Environnement</td>\n",
       "      <td>NaN</td>\n",
       "      <td>2010-F23</td>\n",
       "      <td>NaN</td>\n",
       "      <td>2010-03-18</td>\n",
       "      <td>NaN</td>\n",
       "    </tr>\n",
       "    <tr>\n",
       "      <th>39</th>\n",
       "      <td>index</td>\n",
       "      <td>F24</td>\n",
       "      <td>39.0</td>\n",
       "      <td>11.0</td>\n",
       "      <td>6.8</td>\n",
       "      <td>NaN</td>\n",
       "      <td>SBS Environnement</td>\n",
       "      <td>NaN</td>\n",
       "      <td>2010-F24</td>\n",
       "      <td>NaN</td>\n",
       "      <td>2010-03-18</td>\n",
       "      <td>NaN</td>\n",
       "    </tr>\n",
       "    <tr>\n",
       "      <th>54</th>\n",
       "      <td>index</td>\n",
       "      <td>F41</td>\n",
       "      <td>54.0</td>\n",
       "      <td>13.0</td>\n",
       "      <td>6.8</td>\n",
       "      <td>NaN</td>\n",
       "      <td>SBS Environnement</td>\n",
       "      <td>NaN</td>\n",
       "      <td>2010-F41</td>\n",
       "      <td>NaN</td>\n",
       "      <td>2010-03-12</td>\n",
       "      <td>NaN</td>\n",
       "    </tr>\n",
       "    <tr>\n",
       "      <th>97</th>\n",
       "      <td>index, Long_for</td>\n",
       "      <td>F100</td>\n",
       "      <td>97.0</td>\n",
       "      <td>14.0</td>\n",
       "      <td>5.5</td>\n",
       "      <td>5.905</td>\n",
       "      <td>SBS Environnement</td>\n",
       "      <td>NaN</td>\n",
       "      <td>2010-F100</td>\n",
       "      <td>NaN</td>\n",
       "      <td>2010-02-11</td>\n",
       "      <td>NaN</td>\n",
       "    </tr>\n",
       "    <tr>\n",
       "      <th>98</th>\n",
       "      <td>index, Long_for</td>\n",
       "      <td>F101</td>\n",
       "      <td>98.0</td>\n",
       "      <td>15.0</td>\n",
       "      <td>2.0</td>\n",
       "      <td>5.775</td>\n",
       "      <td>SBS Environnement</td>\n",
       "      <td>NaN</td>\n",
       "      <td>2010-F101</td>\n",
       "      <td>NaN</td>\n",
       "      <td>2010-02-11</td>\n",
       "      <td>NaN</td>\n",
       "    </tr>\n",
       "    <tr>\n",
       "      <th>99</th>\n",
       "      <td>index, Long_for</td>\n",
       "      <td>F102</td>\n",
       "      <td>99.0</td>\n",
       "      <td>16.0</td>\n",
       "      <td>6.9</td>\n",
       "      <td>5.945</td>\n",
       "      <td>SBS Environnement</td>\n",
       "      <td>NaN</td>\n",
       "      <td>2010-F102</td>\n",
       "      <td>NaN</td>\n",
       "      <td>2010-02-23</td>\n",
       "      <td>NaN</td>\n",
       "    </tr>\n",
       "    <tr>\n",
       "      <th>100</th>\n",
       "      <td>index, Long_for</td>\n",
       "      <td>F103</td>\n",
       "      <td>100.0</td>\n",
       "      <td>17.0</td>\n",
       "      <td>8.1</td>\n",
       "      <td>5.725</td>\n",
       "      <td>SBS Environnement</td>\n",
       "      <td>NaN</td>\n",
       "      <td>2010-F103</td>\n",
       "      <td>NaN</td>\n",
       "      <td>2010-02-23</td>\n",
       "      <td>NaN</td>\n",
       "    </tr>\n",
       "    <tr>\n",
       "      <th>101</th>\n",
       "      <td>index, Long_for</td>\n",
       "      <td>F104</td>\n",
       "      <td>101.0</td>\n",
       "      <td>18.0</td>\n",
       "      <td>2.0</td>\n",
       "      <td>5.710</td>\n",
       "      <td>SBS Environnement</td>\n",
       "      <td>NaN</td>\n",
       "      <td>2010-F104</td>\n",
       "      <td>NaN</td>\n",
       "      <td>2010-01-25</td>\n",
       "      <td>NaN</td>\n",
       "    </tr>\n",
       "    <tr>\n",
       "      <th>102</th>\n",
       "      <td>index, Long_for</td>\n",
       "      <td>F105</td>\n",
       "      <td>102.0</td>\n",
       "      <td>19.0</td>\n",
       "      <td>5.5</td>\n",
       "      <td>5.750</td>\n",
       "      <td>SBS Environnement</td>\n",
       "      <td>NaN</td>\n",
       "      <td>2010-F105</td>\n",
       "      <td>NaN</td>\n",
       "      <td>2010-02-11</td>\n",
       "      <td>NaN</td>\n",
       "    </tr>\n",
       "    <tr>\n",
       "      <th>103</th>\n",
       "      <td>index, Long_for</td>\n",
       "      <td>F108</td>\n",
       "      <td>103.0</td>\n",
       "      <td>22.0</td>\n",
       "      <td>6.7</td>\n",
       "      <td>5.785</td>\n",
       "      <td>SBS Environnement</td>\n",
       "      <td>NaN</td>\n",
       "      <td>2010-F108</td>\n",
       "      <td>NaN</td>\n",
       "      <td>2010-01-28</td>\n",
       "      <td>NaN</td>\n",
       "    </tr>\n",
       "    <tr>\n",
       "      <th>104</th>\n",
       "      <td>index, Long_for</td>\n",
       "      <td>F111</td>\n",
       "      <td>104.0</td>\n",
       "      <td>25.0</td>\n",
       "      <td>8.2</td>\n",
       "      <td>5.875</td>\n",
       "      <td>SITEREM</td>\n",
       "      <td>NaN</td>\n",
       "      <td>2010-F111</td>\n",
       "      <td>NaN</td>\n",
       "      <td>2010-01-11</td>\n",
       "      <td>NaN</td>\n",
       "    </tr>\n",
       "    <tr>\n",
       "      <th>105</th>\n",
       "      <td>index, Long_for</td>\n",
       "      <td>F113</td>\n",
       "      <td>105.0</td>\n",
       "      <td>27.0</td>\n",
       "      <td>2.0</td>\n",
       "      <td>5.730</td>\n",
       "      <td>SITEREM</td>\n",
       "      <td>NaN</td>\n",
       "      <td>2010-F113</td>\n",
       "      <td>NaN</td>\n",
       "      <td>2010-01-12</td>\n",
       "      <td>NaN</td>\n",
       "    </tr>\n",
       "    <tr>\n",
       "      <th>107</th>\n",
       "      <td>index, Long_for</td>\n",
       "      <td>F114</td>\n",
       "      <td>107.0</td>\n",
       "      <td>28.0</td>\n",
       "      <td>0.5</td>\n",
       "      <td>5.765</td>\n",
       "      <td>SITEREM</td>\n",
       "      <td>NaN</td>\n",
       "      <td>2010-F114</td>\n",
       "      <td>NaN</td>\n",
       "      <td>2010-01-12</td>\n",
       "      <td>NaN</td>\n",
       "    </tr>\n",
       "    <tr>\n",
       "      <th>110</th>\n",
       "      <td>index, Long_for</td>\n",
       "      <td>F115</td>\n",
       "      <td>110.0</td>\n",
       "      <td>29.0</td>\n",
       "      <td>18.0</td>\n",
       "      <td>5.705</td>\n",
       "      <td>SITEREM</td>\n",
       "      <td>NaN</td>\n",
       "      <td>2010-F115</td>\n",
       "      <td>NaN</td>\n",
       "      <td>2010-01-12</td>\n",
       "      <td>NaN</td>\n",
       "    </tr>\n",
       "    <tr>\n",
       "      <th>113</th>\n",
       "      <td>index, Long_for</td>\n",
       "      <td>F116</td>\n",
       "      <td>113.0</td>\n",
       "      <td>30.0</td>\n",
       "      <td>0.4</td>\n",
       "      <td>5.650</td>\n",
       "      <td>SITEREM</td>\n",
       "      <td>NaN</td>\n",
       "      <td>2010-F116</td>\n",
       "      <td>NaN</td>\n",
       "      <td>2010-01-12</td>\n",
       "      <td>NaN</td>\n",
       "    </tr>\n",
       "    <tr>\n",
       "      <th>118</th>\n",
       "      <td>index, Long_for</td>\n",
       "      <td>F118</td>\n",
       "      <td>118.0</td>\n",
       "      <td>32.0</td>\n",
       "      <td>1.0</td>\n",
       "      <td>5.745</td>\n",
       "      <td>SITEREM</td>\n",
       "      <td>NaN</td>\n",
       "      <td>2010-F118</td>\n",
       "      <td>NaN</td>\n",
       "      <td>2010-01-12</td>\n",
       "      <td>NaN</td>\n",
       "    </tr>\n",
       "    <tr>\n",
       "      <th>121</th>\n",
       "      <td>index, Long_for</td>\n",
       "      <td>F119</td>\n",
       "      <td>121.0</td>\n",
       "      <td>33.0</td>\n",
       "      <td>3.6</td>\n",
       "      <td>5.535</td>\n",
       "      <td>SITEREM</td>\n",
       "      <td>NaN</td>\n",
       "      <td>2010-F119</td>\n",
       "      <td>NaN</td>\n",
       "      <td>2010-01-12</td>\n",
       "      <td>NaN</td>\n",
       "    </tr>\n",
       "    <tr>\n",
       "      <th>123</th>\n",
       "      <td>index, Long_for</td>\n",
       "      <td>F120</td>\n",
       "      <td>123.0</td>\n",
       "      <td>34.0</td>\n",
       "      <td>0.5</td>\n",
       "      <td>5.665</td>\n",
       "      <td>SITEREM</td>\n",
       "      <td>NaN</td>\n",
       "      <td>2010-F120</td>\n",
       "      <td>NaN</td>\n",
       "      <td>2010-01-12</td>\n",
       "      <td>NaN</td>\n",
       "    </tr>\n",
       "    <tr>\n",
       "      <th>124</th>\n",
       "      <td>index, Long_for</td>\n",
       "      <td>F121</td>\n",
       "      <td>124.0</td>\n",
       "      <td>35.0</td>\n",
       "      <td>2.4</td>\n",
       "      <td>5.780</td>\n",
       "      <td>SITEREM</td>\n",
       "      <td>NaN</td>\n",
       "      <td>2010-F121</td>\n",
       "      <td>NaN</td>\n",
       "      <td>2010-01-12</td>\n",
       "      <td>NaN</td>\n",
       "    </tr>\n",
       "    <tr>\n",
       "      <th>125</th>\n",
       "      <td>index, Long_for</td>\n",
       "      <td>F122</td>\n",
       "      <td>125.0</td>\n",
       "      <td>36.0</td>\n",
       "      <td>2.2</td>\n",
       "      <td>5.730</td>\n",
       "      <td>SITEREM</td>\n",
       "      <td>NaN</td>\n",
       "      <td>2010-F122</td>\n",
       "      <td>NaN</td>\n",
       "      <td>2010-01-12</td>\n",
       "      <td>NaN</td>\n",
       "    </tr>\n",
       "    <tr>\n",
       "      <th>126</th>\n",
       "      <td>index, Long_for</td>\n",
       "      <td>F124</td>\n",
       "      <td>126.0</td>\n",
       "      <td>38.0</td>\n",
       "      <td>4.6</td>\n",
       "      <td>5.635</td>\n",
       "      <td>SITEREM</td>\n",
       "      <td>NaN</td>\n",
       "      <td>2010-F124</td>\n",
       "      <td>NaN</td>\n",
       "      <td>2010-01-12</td>\n",
       "      <td>NaN</td>\n",
       "    </tr>\n",
       "    <tr>\n",
       "      <th>127</th>\n",
       "      <td>index, Long_for</td>\n",
       "      <td>F126</td>\n",
       "      <td>127.0</td>\n",
       "      <td>40.0</td>\n",
       "      <td>4.6</td>\n",
       "      <td>5.635</td>\n",
       "      <td>SITEREM</td>\n",
       "      <td>NaN</td>\n",
       "      <td>2010-F126</td>\n",
       "      <td>NaN</td>\n",
       "      <td>2010-01-12</td>\n",
       "      <td>NaN</td>\n",
       "    </tr>\n",
       "    <tr>\n",
       "      <th>128</th>\n",
       "      <td>index, Long_for</td>\n",
       "      <td>F127</td>\n",
       "      <td>128.0</td>\n",
       "      <td>41.0</td>\n",
       "      <td>4.6</td>\n",
       "      <td>5.740</td>\n",
       "      <td>SITEREM</td>\n",
       "      <td>NaN</td>\n",
       "      <td>2010-F127</td>\n",
       "      <td>NaN</td>\n",
       "      <td>2010-01-12</td>\n",
       "      <td>NaN</td>\n",
       "    </tr>\n",
       "    <tr>\n",
       "      <th>129</th>\n",
       "      <td>index, Long_for</td>\n",
       "      <td>F128</td>\n",
       "      <td>129.0</td>\n",
       "      <td>42.0</td>\n",
       "      <td>4.6</td>\n",
       "      <td>5.635</td>\n",
       "      <td>SITEREM</td>\n",
       "      <td>NaN</td>\n",
       "      <td>2010-F128</td>\n",
       "      <td>NaN</td>\n",
       "      <td>2010-01-12</td>\n",
       "      <td>NaN</td>\n",
       "    </tr>\n",
       "    <tr>\n",
       "      <th>160</th>\n",
       "      <td>index, Long_for</td>\n",
       "      <td>F200</td>\n",
       "      <td>160.0</td>\n",
       "      <td>44.0</td>\n",
       "      <td>1.2</td>\n",
       "      <td>5.870</td>\n",
       "      <td>SITEREM</td>\n",
       "      <td>NaN</td>\n",
       "      <td>2010-F200</td>\n",
       "      <td>NaN</td>\n",
       "      <td>2010-03-25</td>\n",
       "      <td>NaN</td>\n",
       "    </tr>\n",
       "    <tr>\n",
       "      <th>161</th>\n",
       "      <td>index, Societe, ID_date, Date_ouv</td>\n",
       "      <td>F205</td>\n",
       "      <td>161.0</td>\n",
       "      <td>49.0</td>\n",
       "      <td>NaN</td>\n",
       "      <td>NaN</td>\n",
       "      <td>SITEREM</td>\n",
       "      <td>ECOPLANNING sprl</td>\n",
       "      <td>2010-F205</td>\n",
       "      <td>2019-205</td>\n",
       "      <td>2010-03-26</td>\n",
       "      <td>2019-10-07</td>\n",
       "    </tr>\n",
       "    <tr>\n",
       "      <th>162</th>\n",
       "      <td>index, Long_for</td>\n",
       "      <td>F211</td>\n",
       "      <td>162.0</td>\n",
       "      <td>55.0</td>\n",
       "      <td>7.2</td>\n",
       "      <td>5.650</td>\n",
       "      <td>SITEREM</td>\n",
       "      <td>NaN</td>\n",
       "      <td>2010-F211</td>\n",
       "      <td>NaN</td>\n",
       "      <td>2010-05-10</td>\n",
       "      <td>NaN</td>\n",
       "    </tr>\n",
       "    <tr>\n",
       "      <th>163</th>\n",
       "      <td>index, Societe, ID_date, Date_ouv</td>\n",
       "      <td>F212</td>\n",
       "      <td>163.0</td>\n",
       "      <td>56.0</td>\n",
       "      <td>NaN</td>\n",
       "      <td>NaN</td>\n",
       "      <td>SITEREM</td>\n",
       "      <td>ECOPLANNING sprl</td>\n",
       "      <td>2010-F212</td>\n",
       "      <td>2019-212</td>\n",
       "      <td>2010-05-10</td>\n",
       "      <td>2019-10-07</td>\n",
       "    </tr>\n",
       "    <tr>\n",
       "      <th>164</th>\n",
       "      <td>index, Long_for</td>\n",
       "      <td>F213</td>\n",
       "      <td>164.0</td>\n",
       "      <td>57.0</td>\n",
       "      <td>6.6</td>\n",
       "      <td>5.700</td>\n",
       "      <td>SBS Environnement</td>\n",
       "      <td>NaN</td>\n",
       "      <td>2010-F213</td>\n",
       "      <td>NaN</td>\n",
       "      <td>2010-03-02</td>\n",
       "      <td>NaN</td>\n",
       "    </tr>\n",
       "    <tr>\n",
       "      <th>165</th>\n",
       "      <td>index, Long_for</td>\n",
       "      <td>F215</td>\n",
       "      <td>165.0</td>\n",
       "      <td>59.0</td>\n",
       "      <td>5.7</td>\n",
       "      <td>5.685</td>\n",
       "      <td>SBS Environnement</td>\n",
       "      <td>NaN</td>\n",
       "      <td>2010-F215</td>\n",
       "      <td>NaN</td>\n",
       "      <td>2010-03-03</td>\n",
       "      <td>NaN</td>\n",
       "    </tr>\n",
       "    <tr>\n",
       "      <th>166</th>\n",
       "      <td>index, Long_for</td>\n",
       "      <td>F216</td>\n",
       "      <td>166.0</td>\n",
       "      <td>60.0</td>\n",
       "      <td>6.5</td>\n",
       "      <td>5.800</td>\n",
       "      <td>SBS Environnement</td>\n",
       "      <td>NaN</td>\n",
       "      <td>2010-F216</td>\n",
       "      <td>NaN</td>\n",
       "      <td>2010-03-04</td>\n",
       "      <td>NaN</td>\n",
       "    </tr>\n",
       "    <tr>\n",
       "      <th>167</th>\n",
       "      <td>index, Societe, ID_date, Date_ouv</td>\n",
       "      <td>F217</td>\n",
       "      <td>167.0</td>\n",
       "      <td>61.0</td>\n",
       "      <td>NaN</td>\n",
       "      <td>NaN</td>\n",
       "      <td>SBS Environnement</td>\n",
       "      <td>ECOPLANNING sprl</td>\n",
       "      <td>2010-F217</td>\n",
       "      <td>2019-217</td>\n",
       "      <td>2010-03-02</td>\n",
       "      <td>2019-10-07</td>\n",
       "    </tr>\n",
       "    <tr>\n",
       "      <th>168</th>\n",
       "      <td>index, Long_for</td>\n",
       "      <td>F218</td>\n",
       "      <td>168.0</td>\n",
       "      <td>62.0</td>\n",
       "      <td>5.7</td>\n",
       "      <td>5.775</td>\n",
       "      <td>SBS Environnement</td>\n",
       "      <td>NaN</td>\n",
       "      <td>2010-F218</td>\n",
       "      <td>NaN</td>\n",
       "      <td>2010-03-02</td>\n",
       "      <td>NaN</td>\n",
       "    </tr>\n",
       "    <tr>\n",
       "      <th>169</th>\n",
       "      <td>index, Societe, ID_date, Date_ouv</td>\n",
       "      <td>F219</td>\n",
       "      <td>169.0</td>\n",
       "      <td>63.0</td>\n",
       "      <td>1.8</td>\n",
       "      <td>NaN</td>\n",
       "      <td>SBS Environnement</td>\n",
       "      <td>ECOPLANNING sprl</td>\n",
       "      <td>2010-F219</td>\n",
       "      <td>2019-219</td>\n",
       "      <td>2010-03-03</td>\n",
       "      <td>2019-10-08</td>\n",
       "    </tr>\n",
       "    <tr>\n",
       "      <th>197</th>\n",
       "      <td>index</td>\n",
       "      <td>F208</td>\n",
       "      <td>197.0</td>\n",
       "      <td>52.0</td>\n",
       "      <td>3.4</td>\n",
       "      <td>NaN</td>\n",
       "      <td>NaN</td>\n",
       "      <td>ECOPLANNING sprl</td>\n",
       "      <td>NaN</td>\n",
       "      <td>2019-208</td>\n",
       "      <td>NaN</td>\n",
       "      <td>2019-10-07</td>\n",
       "    </tr>\n",
       "    <tr>\n",
       "      <th>198</th>\n",
       "      <td>index</td>\n",
       "      <td>F207</td>\n",
       "      <td>198.0</td>\n",
       "      <td>51.0</td>\n",
       "      <td>3.4</td>\n",
       "      <td>NaN</td>\n",
       "      <td>NaN</td>\n",
       "      <td>ECOPLANNING sprl</td>\n",
       "      <td>NaN</td>\n",
       "      <td>2019-207</td>\n",
       "      <td>NaN</td>\n",
       "      <td>2019-10-07</td>\n",
       "    </tr>\n",
       "    <tr>\n",
       "      <th>199</th>\n",
       "      <td>index</td>\n",
       "      <td>F214</td>\n",
       "      <td>199.0</td>\n",
       "      <td>58.0</td>\n",
       "      <td>3.6</td>\n",
       "      <td>NaN</td>\n",
       "      <td>NaN</td>\n",
       "      <td>ECOPLANNING sprl</td>\n",
       "      <td>NaN</td>\n",
       "      <td>2019-214</td>\n",
       "      <td>NaN</td>\n",
       "      <td>2019-10-07</td>\n",
       "    </tr>\n",
       "    <tr>\n",
       "      <th>200</th>\n",
       "      <td>index</td>\n",
       "      <td>F225</td>\n",
       "      <td>200.0</td>\n",
       "      <td>69.0</td>\n",
       "      <td>4.0</td>\n",
       "      <td>NaN</td>\n",
       "      <td>NaN</td>\n",
       "      <td>ECOPLANNING sprl</td>\n",
       "      <td>NaN</td>\n",
       "      <td>2019-225</td>\n",
       "      <td>NaN</td>\n",
       "      <td>2019-10-08</td>\n",
       "    </tr>\n",
       "  </tbody>\n",
       "</table>\n",
       "</div>"
      ],
      "text/plain": [
       "                             Check_col    ID  index_x  index_y  Long_for_x  \\\n",
       "33                               index   F10     33.0      0.0         7.0   \n",
       "34                               index   F11     34.0      1.0         6.0   \n",
       "36                               index   F13     36.0      3.0         8.4   \n",
       "38                               index   F23     38.0     10.0         6.8   \n",
       "39                               index   F24     39.0     11.0         6.8   \n",
       "54                               index   F41     54.0     13.0         6.8   \n",
       "97                     index, Long_for  F100     97.0     14.0         5.5   \n",
       "98                     index, Long_for  F101     98.0     15.0         2.0   \n",
       "99                     index, Long_for  F102     99.0     16.0         6.9   \n",
       "100                    index, Long_for  F103    100.0     17.0         8.1   \n",
       "101                    index, Long_for  F104    101.0     18.0         2.0   \n",
       "102                    index, Long_for  F105    102.0     19.0         5.5   \n",
       "103                    index, Long_for  F108    103.0     22.0         6.7   \n",
       "104                    index, Long_for  F111    104.0     25.0         8.2   \n",
       "105                    index, Long_for  F113    105.0     27.0         2.0   \n",
       "107                    index, Long_for  F114    107.0     28.0         0.5   \n",
       "110                    index, Long_for  F115    110.0     29.0        18.0   \n",
       "113                    index, Long_for  F116    113.0     30.0         0.4   \n",
       "118                    index, Long_for  F118    118.0     32.0         1.0   \n",
       "121                    index, Long_for  F119    121.0     33.0         3.6   \n",
       "123                    index, Long_for  F120    123.0     34.0         0.5   \n",
       "124                    index, Long_for  F121    124.0     35.0         2.4   \n",
       "125                    index, Long_for  F122    125.0     36.0         2.2   \n",
       "126                    index, Long_for  F124    126.0     38.0         4.6   \n",
       "127                    index, Long_for  F126    127.0     40.0         4.6   \n",
       "128                    index, Long_for  F127    128.0     41.0         4.6   \n",
       "129                    index, Long_for  F128    129.0     42.0         4.6   \n",
       "160                    index, Long_for  F200    160.0     44.0         1.2   \n",
       "161  index, Societe, ID_date, Date_ouv  F205    161.0     49.0         NaN   \n",
       "162                    index, Long_for  F211    162.0     55.0         7.2   \n",
       "163  index, Societe, ID_date, Date_ouv  F212    163.0     56.0         NaN   \n",
       "164                    index, Long_for  F213    164.0     57.0         6.6   \n",
       "165                    index, Long_for  F215    165.0     59.0         5.7   \n",
       "166                    index, Long_for  F216    166.0     60.0         6.5   \n",
       "167  index, Societe, ID_date, Date_ouv  F217    167.0     61.0         NaN   \n",
       "168                    index, Long_for  F218    168.0     62.0         5.7   \n",
       "169  index, Societe, ID_date, Date_ouv  F219    169.0     63.0         1.8   \n",
       "197                              index  F208    197.0     52.0         3.4   \n",
       "198                              index  F207    198.0     51.0         3.4   \n",
       "199                              index  F214    199.0     58.0         3.6   \n",
       "200                              index  F225    200.0     69.0         4.0   \n",
       "\n",
       "     Long_for_y          Societe_x         Societe_y  ID_date_x ID_date_y  \\\n",
       "33          NaN            SITEREM               NaN   2010-F10       NaN   \n",
       "34          NaN            SITEREM               NaN   2010-F11       NaN   \n",
       "36          NaN            SITEREM               NaN   2010-F13       NaN   \n",
       "38          NaN  SBS Environnement               NaN   2010-F23       NaN   \n",
       "39          NaN  SBS Environnement               NaN   2010-F24       NaN   \n",
       "54          NaN  SBS Environnement               NaN   2010-F41       NaN   \n",
       "97        5.905  SBS Environnement               NaN  2010-F100       NaN   \n",
       "98        5.775  SBS Environnement               NaN  2010-F101       NaN   \n",
       "99        5.945  SBS Environnement               NaN  2010-F102       NaN   \n",
       "100       5.725  SBS Environnement               NaN  2010-F103       NaN   \n",
       "101       5.710  SBS Environnement               NaN  2010-F104       NaN   \n",
       "102       5.750  SBS Environnement               NaN  2010-F105       NaN   \n",
       "103       5.785  SBS Environnement               NaN  2010-F108       NaN   \n",
       "104       5.875            SITEREM               NaN  2010-F111       NaN   \n",
       "105       5.730            SITEREM               NaN  2010-F113       NaN   \n",
       "107       5.765            SITEREM               NaN  2010-F114       NaN   \n",
       "110       5.705            SITEREM               NaN  2010-F115       NaN   \n",
       "113       5.650            SITEREM               NaN  2010-F116       NaN   \n",
       "118       5.745            SITEREM               NaN  2010-F118       NaN   \n",
       "121       5.535            SITEREM               NaN  2010-F119       NaN   \n",
       "123       5.665            SITEREM               NaN  2010-F120       NaN   \n",
       "124       5.780            SITEREM               NaN  2010-F121       NaN   \n",
       "125       5.730            SITEREM               NaN  2010-F122       NaN   \n",
       "126       5.635            SITEREM               NaN  2010-F124       NaN   \n",
       "127       5.635            SITEREM               NaN  2010-F126       NaN   \n",
       "128       5.740            SITEREM               NaN  2010-F127       NaN   \n",
       "129       5.635            SITEREM               NaN  2010-F128       NaN   \n",
       "160       5.870            SITEREM               NaN  2010-F200       NaN   \n",
       "161         NaN            SITEREM  ECOPLANNING sprl  2010-F205  2019-205   \n",
       "162       5.650            SITEREM               NaN  2010-F211       NaN   \n",
       "163         NaN            SITEREM  ECOPLANNING sprl  2010-F212  2019-212   \n",
       "164       5.700  SBS Environnement               NaN  2010-F213       NaN   \n",
       "165       5.685  SBS Environnement               NaN  2010-F215       NaN   \n",
       "166       5.800  SBS Environnement               NaN  2010-F216       NaN   \n",
       "167         NaN  SBS Environnement  ECOPLANNING sprl  2010-F217  2019-217   \n",
       "168       5.775  SBS Environnement               NaN  2010-F218       NaN   \n",
       "169         NaN  SBS Environnement  ECOPLANNING sprl  2010-F219  2019-219   \n",
       "197         NaN                NaN  ECOPLANNING sprl        NaN  2019-208   \n",
       "198         NaN                NaN  ECOPLANNING sprl        NaN  2019-207   \n",
       "199         NaN                NaN  ECOPLANNING sprl        NaN  2019-214   \n",
       "200         NaN                NaN  ECOPLANNING sprl        NaN  2019-225   \n",
       "\n",
       "     Date_ouv_x  Date_ouv_y  \n",
       "33   2010-03-15         NaN  \n",
       "34   2010-03-16         NaN  \n",
       "36   2010-03-16         NaN  \n",
       "38   2010-03-18         NaN  \n",
       "39   2010-03-18         NaN  \n",
       "54   2010-03-12         NaN  \n",
       "97   2010-02-11         NaN  \n",
       "98   2010-02-11         NaN  \n",
       "99   2010-02-23         NaN  \n",
       "100  2010-02-23         NaN  \n",
       "101  2010-01-25         NaN  \n",
       "102  2010-02-11         NaN  \n",
       "103  2010-01-28         NaN  \n",
       "104  2010-01-11         NaN  \n",
       "105  2010-01-12         NaN  \n",
       "107  2010-01-12         NaN  \n",
       "110  2010-01-12         NaN  \n",
       "113  2010-01-12         NaN  \n",
       "118  2010-01-12         NaN  \n",
       "121  2010-01-12         NaN  \n",
       "123  2010-01-12         NaN  \n",
       "124  2010-01-12         NaN  \n",
       "125  2010-01-12         NaN  \n",
       "126  2010-01-12         NaN  \n",
       "127  2010-01-12         NaN  \n",
       "128  2010-01-12         NaN  \n",
       "129  2010-01-12         NaN  \n",
       "160  2010-03-25         NaN  \n",
       "161  2010-03-26  2019-10-07  \n",
       "162  2010-05-10         NaN  \n",
       "163  2010-05-10  2019-10-07  \n",
       "164  2010-03-02         NaN  \n",
       "165  2010-03-03         NaN  \n",
       "166  2010-03-04         NaN  \n",
       "167  2010-03-02  2019-10-07  \n",
       "168  2010-03-02         NaN  \n",
       "169  2010-03-03  2019-10-08  \n",
       "197         NaN  2019-10-07  \n",
       "198         NaN  2019-10-07  \n",
       "199         NaN  2019-10-07  \n",
       "200         NaN  2019-10-08  "
      ]
     },
     "execution_count": 35,
     "metadata": {},
     "output_type": "execute_result"
    }
   ],
   "source": [
    "conflict_df"
   ]
  },
  {
   "cell_type": "raw",
   "id": "3e3b2a00",
   "metadata": {},
   "source": [
    "data_validation(overall_data=dataset, conflict_data=conflict_df, index_col='index', \n",
    "                valid_dict={'Long_for_x':[136,142],},)"
   ]
  },
  {
   "cell_type": "code",
   "execution_count": 36,
   "id": "a2959254",
   "metadata": {
    "scrolled": true
   },
   "outputs": [
    {
     "name": "stdout",
     "output_type": "stream",
     "text": [
      "Rows : 235, columns : 21, Unique col 'ID': 235\n"
     ]
    },
    {
     "data": {
      "application/vnd.jupyter.widget-view+json": {
       "model_id": "e069d226980c4b62b30343914f0ee82a",
       "version_major": 2,
       "version_minor": 0
      },
      "text/plain": [
       "interactive(children=(IntSlider(value=3, description='rows', max=235, min=3, readout=False), IntSlider(value=1…"
      ]
     },
     "metadata": {},
     "output_type": "display_data"
    }
   ],
   "source": [
    "gdf_viewer(dataset, rows=3, un_val='ID', view=t)"
   ]
  },
  {
   "cell_type": "markdown",
   "id": "ce93cdf8",
   "metadata": {},
   "source": [
    "####  $\\color{red}{\\textbf{Save final object dataset}}$"
   ]
  },
  {
   "cell_type": "code",
   "execution_count": 37,
   "id": "5ed272e2",
   "metadata": {},
   "outputs": [],
   "source": [
    "if 'index' in dataset.columns:\n",
    "    dataset.drop(columns='index', inplace=True)"
   ]
  },
  {
   "cell_type": "code",
   "execution_count": 38,
   "id": "65e7e8ef",
   "metadata": {},
   "outputs": [],
   "source": [
    "if not os.path.exists(save_dir):\n",
    "    os.makedirs(save_dir)\n",
    "    \n",
    "dataset.to_csv(save_dir + save_file, index=False)"
   ]
  },
  {
   "cell_type": "markdown",
   "id": "d5f039bd",
   "metadata": {},
   "source": [
    "# Unknown facilities"
   ]
  },
  {
   "cell_type": "code",
   "execution_count": 39,
   "id": "492beab1",
   "metadata": {},
   "outputs": [
    {
     "name": "stdout",
     "output_type": "stream",
     "text": [
      "4 files\n"
     ]
    }
   ],
   "source": [
    "key='Facility'\n",
    "save_file = f'Merged_Facilites_unknw.csv'\n",
    "#coi=['ID','X','Y','Z','Litho_top','Litho_base','Description']  #columns of interest\n",
    "dataset = pd.DataFrame()\n",
    "print(len(files_dict[key]), 'files')"
   ]
  },
  {
   "cell_type": "code",
   "execution_count": 40,
   "id": "a4f6eeb0",
   "metadata": {},
   "outputs": [
    {
     "data": {
      "text/plain": [
       "['/home/yanathan/Projects/GSDMA/CF_data/Result_traitem/database_Memoris3/Donnees_piezos_Unkown-facility.csv',\n",
       " '/home/yanathan/Projects/GSDMA/CF_data/Result_traitem/database_Memoris3/Drains_Pz_ENEL_Unkown-facility.csv',\n",
       " '/home/yanathan/Projects/GSDMA/CF_data/Result_traitem/database_Memoris3/Result_eau_Unkown-facility.csv',\n",
       " '/home/yanathan/Projects/GSDMA/CF_data/Result_traitem/database_Memoris3/Result_sol_Unkown-facility.csv']"
      ]
     },
     "execution_count": 40,
     "metadata": {},
     "output_type": "execute_result"
    }
   ],
   "source": [
    "files_dict[key]"
   ]
  },
  {
   "cell_type": "code",
   "execution_count": 41,
   "id": "5c656a5f",
   "metadata": {
    "scrolled": true
   },
   "outputs": [
    {
     "name": "stdout",
     "output_type": "stream",
     "text": [
      "Same files:[(2, 3)]\n",
      "Files with coordinates:[0, 1, 2, 3]\n",
      "Files without coordinates:[]\n"
     ]
    }
   ],
   "source": [
    "dataset_overview(files_dict[key])"
   ]
  },
  {
   "cell_type": "markdown",
   "id": "a9b016d5",
   "metadata": {},
   "source": [
    "#### $\\color{green}{\\textbf{Read and merge}}$"
   ]
  },
  {
   "cell_type": "code",
   "execution_count": 42,
   "id": "1eabddfc",
   "metadata": {
    "scrolled": false
   },
   "outputs": [
    {
     "name": "stdout",
     "output_type": "stream",
     "text": [
      "df1 :  --> Coordinates\n",
      "df1 :  --> Coordinates\n",
      "Rows : 13, columns : 6, Unique col 'ID': 13\n"
     ]
    },
    {
     "data": {
      "application/vnd.jupyter.widget-view+json": {
       "model_id": "145eeb0abc394a9bb9cf7b92516aad76",
       "version_major": 2,
       "version_minor": 0
      },
      "text/plain": [
       "interactive(children=(IntSlider(value=3, description='rows', max=13, min=3, readout=False), IntSlider(value=6,…"
      ]
     },
     "metadata": {},
     "output_type": "display_data"
    },
    {
     "name": "stdout",
     "output_type": "stream",
     "text": [
      "Rows : 12, columns : 6, Unique col 'ID': 12\n"
     ]
    },
    {
     "data": {
      "application/vnd.jupyter.widget-view+json": {
       "model_id": "2f1808be6e894208914d93116c324014",
       "version_major": 2,
       "version_minor": 0
      },
      "text/plain": [
       "interactive(children=(IntSlider(value=3, description='rows', max=12, min=3, readout=False), IntSlider(value=6,…"
      ]
     },
     "metadata": {},
     "output_type": "display_data"
    },
    {
     "data": {
      "text/plain": [
       "(None, None)"
      ]
     },
     "execution_count": 42,
     "metadata": {},
     "output_type": "execute_result"
    }
   ],
   "source": [
    "file1= work_dir + 'database_Memoris3/Donnees_piezos_Unkown-facility.csv' # 0\n",
    "file2= work_dir + 'database_Memoris3/Drains_Pz_ENEL_Unkown-facility.csv' # 1  \n",
    "\n",
    "df1, df2 = create_df([file1, file2])\n",
    "gdf_viewer(df1, rows=3, un_val='ID', view=t), gdf_viewer(df2, rows=3, un_val='ID', view=t)"
   ]
  },
  {
   "cell_type": "code",
   "execution_count": 43,
   "id": "efda26fa",
   "metadata": {
    "scrolled": true
   },
   "outputs": [],
   "source": [
    "mdf, conflict_df=gdf_merger(df1, df2, how=how[1], on='ID', dist_max=1)"
   ]
  },
  {
   "cell_type": "markdown",
   "id": "c4cd4cdd",
   "metadata": {},
   "source": [
    "#### First object dataset save"
   ]
  },
  {
   "cell_type": "code",
   "execution_count": 44,
   "id": "2d8cc778",
   "metadata": {},
   "outputs": [],
   "source": [
    "dataset = mdf.copy() #saving"
   ]
  },
  {
   "cell_type": "code",
   "execution_count": 45,
   "id": "c79e3a09",
   "metadata": {
    "scrolled": true
   },
   "outputs": [
    {
     "name": "stdout",
     "output_type": "stream",
     "text": [
      "Rows : 25, columns : 8, Unique col 'ID': 25\n"
     ]
    },
    {
     "data": {
      "application/vnd.jupyter.widget-view+json": {
       "model_id": "284647ee84b94ff7b10cde2b28d227fa",
       "version_major": 2,
       "version_minor": 0
      },
      "text/plain": [
       "interactive(children=(IntSlider(value=3, description='rows', max=25, min=3, readout=False), IntSlider(value=8,…"
      ]
     },
     "metadata": {},
     "output_type": "display_data"
    }
   ],
   "source": [
    "gdf_viewer(dataset, rows=3, un_val='ID', view=t)"
   ]
  },
  {
   "cell_type": "markdown",
   "id": "060866ae",
   "metadata": {},
   "source": [
    "#### $\\color{green}{\\textbf{Read and merge}}$"
   ]
  },
  {
   "cell_type": "code",
   "execution_count": 46,
   "id": "1d221cbd",
   "metadata": {
    "scrolled": true
   },
   "outputs": [
    {
     "name": "stdout",
     "output_type": "stream",
     "text": [
      "df1 :  --> Coordinates\n",
      "Rows : 13, columns : 8, Unique col 'ID': 13\n"
     ]
    },
    {
     "data": {
      "application/vnd.jupyter.widget-view+json": {
       "model_id": "c49d6ea3617f4d81899054fa9ca59bbd",
       "version_major": 2,
       "version_minor": 0
      },
      "text/plain": [
       "interactive(children=(IntSlider(value=3, description='rows', max=13, min=3, readout=False), IntSlider(value=8,…"
      ]
     },
     "metadata": {},
     "output_type": "display_data"
    }
   ],
   "source": [
    "file1= work_dir + 'database_Memoris3/Result_eau_Unkown-facility.csv' # 2\n",
    "\n",
    "df1 = create_df([file1])[0]\n",
    "gdf_viewer(df1, rows=3, un_val='ID', view=t)"
   ]
  },
  {
   "cell_type": "markdown",
   "id": "8794f0d0",
   "metadata": {},
   "source": [
    "#### Merge with object dataset"
   ]
  },
  {
   "cell_type": "code",
   "execution_count": 47,
   "id": "1415f506",
   "metadata": {
    "scrolled": true
   },
   "outputs": [],
   "source": [
    "dataset, conflict_df=gdf_merger(dataset, df1, how=how[1], on='ID', dist_max=1)"
   ]
  },
  {
   "cell_type": "code",
   "execution_count": 48,
   "id": "e18d91ec",
   "metadata": {},
   "outputs": [],
   "source": [
    "if 'level_0' in dataset.columns:\n",
    "    if 'index' in dataset.columns:\n",
    "        dataset.drop(columns='index', inplace=True)\n",
    "    dataset.rename(columns={'level_0':'index'}, inplace=True)"
   ]
  },
  {
   "cell_type": "code",
   "execution_count": 49,
   "id": "2e543201",
   "metadata": {
    "scrolled": false
   },
   "outputs": [
    {
     "name": "stdout",
     "output_type": "stream",
     "text": [
      "Rows : 25, columns : 10, Unique col 'ID': 25\n"
     ]
    },
    {
     "data": {
      "application/vnd.jupyter.widget-view+json": {
       "model_id": "dea6493f8bd5407dba51d9173ece6ef1",
       "version_major": 2,
       "version_minor": 0
      },
      "text/plain": [
       "interactive(children=(IntSlider(value=10, description='rows', max=25, min=10, readout=False), IntSlider(value=…"
      ]
     },
     "metadata": {},
     "output_type": "display_data"
    }
   ],
   "source": [
    "gdf_viewer(dataset, rows=10, un_val='ID', view=t)"
   ]
  },
  {
   "cell_type": "markdown",
   "id": "3bd9441d",
   "metadata": {},
   "source": [
    "####  $\\color{red}{\\textbf{Save final object dataset}}$"
   ]
  },
  {
   "cell_type": "code",
   "execution_count": 50,
   "id": "8447c1de",
   "metadata": {},
   "outputs": [],
   "source": [
    "if 'index' in dataset.columns:\n",
    "    dataset.drop(columns='index', inplace=True)"
   ]
  },
  {
   "cell_type": "code",
   "execution_count": 51,
   "id": "cb3b0135",
   "metadata": {},
   "outputs": [],
   "source": [
    "if not os.path.exists(save_dir):\n",
    "    os.makedirs(save_dir)\n",
    "    \n",
    "dataset.to_csv(save_dir + save_file, index=False)"
   ]
  },
  {
   "cell_type": "markdown",
   "id": "db2babf1",
   "metadata": {},
   "source": [
    "# Equipments"
   ]
  },
  {
   "cell_type": "code",
   "execution_count": 52,
   "id": "b5b59901",
   "metadata": {},
   "outputs": [
    {
     "name": "stdout",
     "output_type": "stream",
     "text": [
      "3 files\n"
     ]
    }
   ],
   "source": [
    "key='Equipm'\n",
    "save_file = f'Merged_Equipments.csv'\n",
    "coi=['ID','ID_date','X','Y','Z','Type','Long_for','Diam_for','Refus'] #columns of interest\n",
    "dataset = pd.DataFrame()\n",
    "print(len(files_dict[key]), 'files')"
   ]
  },
  {
   "cell_type": "code",
   "execution_count": 53,
   "id": "2176a811",
   "metadata": {},
   "outputs": [
    {
     "data": {
      "text/plain": [
       "['/home/yanathan/Projects/GSDMA/CF_data/Result_traitem/database_Memoris3/Drains_Pz_ENEL_Equipment.csv',\n",
       " '/home/yanathan/Projects/GSDMA/CF_data/Result_traitem/donnees_terrain_2019/Equipement_Equipment.csv',\n",
       " '/home/yanathan/Projects/GSDMA/CF_data/Result_traitem/profils_sols_donnees_forages/Equipement_Equipments.csv']"
      ]
     },
     "execution_count": 53,
     "metadata": {},
     "output_type": "execute_result"
    }
   ],
   "source": [
    "files_dict[key]"
   ]
  },
  {
   "cell_type": "code",
   "execution_count": 54,
   "id": "f6b5b526",
   "metadata": {
    "scrolled": false
   },
   "outputs": [
    {
     "name": "stdout",
     "output_type": "stream",
     "text": [
      "Same files:[]\n",
      "Files with coordinates:[]\n",
      "Files without coordinates:[0, 1, 2]\n"
     ]
    }
   ],
   "source": [
    "dataset_overview(files_dict[key])"
   ]
  },
  {
   "cell_type": "markdown",
   "id": "b0339ac0",
   "metadata": {},
   "source": [
    "#### $\\color{green}{\\textbf{Read and merge}}$"
   ]
  },
  {
   "cell_type": "code",
   "execution_count": 55,
   "id": "ea4438c1",
   "metadata": {
    "scrolled": false
   },
   "outputs": [
    {
     "name": "stdout",
     "output_type": "stream",
     "text": [
      "df1 :  --> No coordinates\n",
      "df1 :  --> No coordinates\n",
      "Rows : 33, columns : 7, Unique col 'ID': 9\n"
     ]
    },
    {
     "data": {
      "application/vnd.jupyter.widget-view+json": {
       "model_id": "51ef54a47835478384dec546c830721d",
       "version_major": 2,
       "version_minor": 0
      },
      "text/plain": [
       "interactive(children=(IntSlider(value=3, description='rows', max=33, min=3, readout=False), IntSlider(value=7,…"
      ]
     },
     "metadata": {},
     "output_type": "display_data"
    },
    {
     "name": "stdout",
     "output_type": "stream",
     "text": [
      "Rows : 36, columns : 7, Unique col 'ID': 12\n"
     ]
    },
    {
     "data": {
      "application/vnd.jupyter.widget-view+json": {
       "model_id": "25a0970e493c4f8a9ecd5844d0bbf6d5",
       "version_major": 2,
       "version_minor": 0
      },
      "text/plain": [
       "interactive(children=(IntSlider(value=3, description='rows', max=36, min=3, readout=False), IntSlider(value=7,…"
      ]
     },
     "metadata": {},
     "output_type": "display_data"
    },
    {
     "data": {
      "text/plain": [
       "(None, None)"
      ]
     },
     "execution_count": 55,
     "metadata": {},
     "output_type": "execute_result"
    }
   ],
   "source": [
    "file1= work_dir + 'donnees_terrain_2019/Equipement_Equipment.csv' # 1\n",
    "file2= work_dir + 'profils_sols_donnees_forages/Equipement_Equipments.csv' # 2  \n",
    "\n",
    "\n",
    "df1, df2 = create_df([file1, file2])\n",
    "gdf_viewer(df1, rows=3, un_val='ID', view=t), gdf_viewer(df2, rows=3, un_val='ID', view=t)"
   ]
  },
  {
   "cell_type": "code",
   "execution_count": 56,
   "id": "a3782a64",
   "metadata": {},
   "outputs": [],
   "source": [
    "df1.ID = df1.ID.astype(str)\n",
    "df2.ID = df2.ID.astype(str)"
   ]
  },
  {
   "cell_type": "code",
   "execution_count": 57,
   "id": "1bcf3744",
   "metadata": {
    "scrolled": true
   },
   "outputs": [],
   "source": [
    "mdf, conflict_df=gdf_merger(df1, df2, how=how[1], on='ID', dist_max=1)"
   ]
  },
  {
   "cell_type": "markdown",
   "id": "923ca093",
   "metadata": {},
   "source": [
    "#### First object dataset save"
   ]
  },
  {
   "cell_type": "code",
   "execution_count": 58,
   "id": "722470dd",
   "metadata": {},
   "outputs": [],
   "source": [
    "dataset = mdf.copy() #saving"
   ]
  },
  {
   "cell_type": "code",
   "execution_count": 59,
   "id": "758da079",
   "metadata": {},
   "outputs": [
    {
     "name": "stdout",
     "output_type": "stream",
     "text": [
      "Rows : 69, columns : 7, Unique col 'ID': 21\n"
     ]
    },
    {
     "data": {
      "application/vnd.jupyter.widget-view+json": {
       "model_id": "193a2032e400455c9da7040b06a8b2f4",
       "version_major": 2,
       "version_minor": 0
      },
      "text/plain": [
       "interactive(children=(IntSlider(value=3, description='rows', max=69, min=3, readout=False), IntSlider(value=7,…"
      ]
     },
     "metadata": {},
     "output_type": "display_data"
    }
   ],
   "source": [
    "gdf_viewer(dataset, rows=3, un_val='ID', view=t)"
   ]
  },
  {
   "cell_type": "markdown",
   "id": "82b200e7",
   "metadata": {},
   "source": [
    "####  $\\color{red}{\\textbf{Save final object dataset}}$"
   ]
  },
  {
   "cell_type": "code",
   "execution_count": 60,
   "id": "263bf850",
   "metadata": {},
   "outputs": [],
   "source": [
    "if 'index' in dataset.columns:\n",
    "    dataset.drop(columns='index', inplace=True)"
   ]
  },
  {
   "cell_type": "code",
   "execution_count": 61,
   "id": "78c1fa9f",
   "metadata": {},
   "outputs": [],
   "source": [
    "if not os.path.exists(save_dir):\n",
    "    os.makedirs(save_dir)\n",
    "    \n",
    "dataset.to_csv(save_dir + save_file, index=False)"
   ]
  },
  {
   "cell_type": "markdown",
   "id": "7990fc47",
   "metadata": {},
   "source": [
    "# Samples"
   ]
  },
  {
   "cell_type": "code",
   "execution_count": 62,
   "id": "bdc6e05a",
   "metadata": {},
   "outputs": [
    {
     "name": "stdout",
     "output_type": "stream",
     "text": [
      "27 files\n"
     ]
    }
   ],
   "source": [
    "key='Sample'\n",
    "save_file = f'Merged_Samples.csv'\n",
    "coi=['ID','ID_date','X','Y','Z','Type','Long_for','Diam_for','Refus'] #columns of interest\n",
    "dataset = pd.DataFrame()\n",
    "print(len(files_dict[key]), 'files')"
   ]
  },
  {
   "cell_type": "code",
   "execution_count": 63,
   "id": "08c26cd3",
   "metadata": {
    "scrolled": true
   },
   "outputs": [
    {
     "data": {
      "text/plain": [
       "['/home/yanathan/Projects/GSDMA/CF_data/Result_traitem/Container_phyto/Param_agro_Samples-soil.csv',\n",
       " '/home/yanathan/Projects/GSDMA/CF_data/Result_traitem/Container_phyto/Param_agro_Samples-water.csv',\n",
       " '/home/yanathan/Projects/GSDMA/CF_data/Result_traitem/Container_phyto/Result_SOL_Samples-soil.csv',\n",
       " '/home/yanathan/Projects/GSDMA/CF_data/Result_traitem/Memoris_seafile/Result_SOL_Samples-soil.csv',\n",
       " '/home/yanathan/Projects/GSDMA/CF_data/Result_traitem/Memoris_seafile/Result_eau_Samples-water.csv',\n",
       " '/home/yanathan/Projects/GSDMA/CF_data/Result_traitem/Phase_1_Memoris/Result_eau_Samples-water.csv',\n",
       " '/home/yanathan/Projects/GSDMA/CF_data/Result_traitem/Phase_1_Memoris/Result_sol_Samples-soil.csv',\n",
       " '/home/yanathan/Projects/GSDMA/CF_data/Result_traitem/Phase_2_Memoris/Result_SOL_Samples-soil.csv',\n",
       " '/home/yanathan/Projects/GSDMA/CF_data/Result_traitem/Phase_2_Memoris/Result_eau_Samples-water.csv',\n",
       " '/home/yanathan/Projects/GSDMA/CF_data/Result_traitem/Siterem_Ext_Pilote/Inorganic_major_Samples-water.csv',\n",
       " '/home/yanathan/Projects/GSDMA/CF_data/Result_traitem/Siterem_Ext_Pilote/Param_physico_Samples-water.csv',\n",
       " '/home/yanathan/Projects/GSDMA/CF_data/Result_traitem/Siterem_Ext_Pilote/Result_eau_Samples-water.csv',\n",
       " '/home/yanathan/Projects/GSDMA/CF_data/Result_traitem/Siterem_Pilote/Inorganic_major_Samples-water.csv',\n",
       " '/home/yanathan/Projects/GSDMA/CF_data/Result_traitem/Siterem_Pilote/Param_physico_Samples-water.csv',\n",
       " '/home/yanathan/Projects/GSDMA/CF_data/Result_traitem/Siterem_Pilote/Result_eau_Samples-water.csv',\n",
       " '/home/yanathan/Projects/GSDMA/CF_data/Result_traitem/Siterem_Result_Sol/Result_sol_ExtP_Samples-soil.csv',\n",
       " '/home/yanathan/Projects/GSDMA/CF_data/Result_traitem/Siterem_Result_Sol/SOL_T1_Pilote_Samples-soil.csv',\n",
       " '/home/yanathan/Projects/GSDMA/CF_data/Result_traitem/database_Memoris3/Donnees_piezos_Samples-water.csv',\n",
       " '/home/yanathan/Projects/GSDMA/CF_data/Result_traitem/database_Memoris3/Result_eau_Samples-water.csv',\n",
       " '/home/yanathan/Projects/GSDMA/CF_data/Result_traitem/database_Memoris3/Result_sol_Samples-soil.csv',\n",
       " '/home/yanathan/Projects/GSDMA/CF_data/Result_traitem/database_Memoris3/Result_sol_Samples-water.csv',\n",
       " '/home/yanathan/Projects/GSDMA/CF_data/Result_traitem/donnees_terrain_2019/Echantillon_Samples-soil.csv',\n",
       " '/home/yanathan/Projects/GSDMA/CF_data/Result_traitem/donnees_terrain_2019/Result_Sol_Samples-soil.csv',\n",
       " '/home/yanathan/Projects/GSDMA/CF_data/Result_traitem/observ_terrain/Piezometrie_Samples-water.csv',\n",
       " '/home/yanathan/Projects/GSDMA/CF_data/Result_traitem/profils_sols_donnees_forages/Echant-organo_Samples-soil.csv',\n",
       " '/home/yanathan/Projects/GSDMA/CF_data/Result_traitem/vUmons_logsFor/Analyse_eau_Phases1&2_Samples-water.csv',\n",
       " '/home/yanathan/Projects/GSDMA/CF_data/Result_traitem/vUmons_logsFor/Analyse_sol_Phases1&2_Samples-soil.csv']"
      ]
     },
     "execution_count": 63,
     "metadata": {},
     "output_type": "execute_result"
    }
   ],
   "source": [
    "files_dict[key]"
   ]
  },
  {
   "cell_type": "code",
   "execution_count": 64,
   "id": "29363b27",
   "metadata": {
    "scrolled": true
   },
   "outputs": [
    {
     "name": "stdout",
     "output_type": "stream",
     "text": [
      "Same files:[(1, 9), (18, 20)]\n",
      "Files with coordinates:[4, 5, 8, 25, 26]\n",
      "Files without coordinates:[0, 1, 2, 3, 6, 7, 9, 10, 11, 12, 13, 14, 15, 16, 17, 18, 19, 20, 21, 22, 23, 24]\n"
     ]
    }
   ],
   "source": [
    "dataset_overview(files_dict[key])"
   ]
  },
  {
   "cell_type": "markdown",
   "id": "b88ebee7",
   "metadata": {},
   "source": [
    "#### $\\color{green}{\\textbf{Read and merge}}$"
   ]
  },
  {
   "cell_type": "code",
   "execution_count": 65,
   "id": "a70458c7",
   "metadata": {
    "scrolled": false
   },
   "outputs": [
    {
     "name": "stdout",
     "output_type": "stream",
     "text": [
      "df1 :  --> Coordinates\n",
      "df1 :  --> Coordinates\n",
      "Rows : 45, columns : 10, Unique col 'ID_ech': 45\n"
     ]
    },
    {
     "data": {
      "application/vnd.jupyter.widget-view+json": {
       "model_id": "b85f28fbcbfa44738585492fbfb31a36",
       "version_major": 2,
       "version_minor": 0
      },
      "text/plain": [
       "interactive(children=(IntSlider(value=3, description='rows', max=45, min=3, readout=False), IntSlider(value=10…"
      ]
     },
     "metadata": {},
     "output_type": "display_data"
    },
    {
     "name": "stdout",
     "output_type": "stream",
     "text": [
      "Rows : 17, columns : 17, Unique col 'ID_ech': 17\n"
     ]
    },
    {
     "data": {
      "application/vnd.jupyter.widget-view+json": {
       "model_id": "4e6661e644e84fba94e61133528a3a4d",
       "version_major": 2,
       "version_minor": 0
      },
      "text/plain": [
       "interactive(children=(IntSlider(value=3, description='rows', max=17, min=3, readout=False), IntSlider(value=12…"
      ]
     },
     "metadata": {},
     "output_type": "display_data"
    },
    {
     "data": {
      "text/plain": [
       "(None, None)"
      ]
     },
     "execution_count": 65,
     "metadata": {},
     "output_type": "execute_result"
    }
   ],
   "source": [
    "file1= work_dir + 'Memoris_seafile/Result_eau_Samples-water.csv' # 4\n",
    "file2= work_dir + 'Phase_1_Memoris/Result_eau_Samples-water.csv' # 5\n",
    "\n",
    "df1, df2 = create_df([file1, file2])\n",
    "gdf_viewer(df1, rows=3, un_val='ID_ech', view=t), gdf_viewer(df2, rows=3, un_val='ID_ech', view=t)"
   ]
  },
  {
   "cell_type": "code",
   "execution_count": 66,
   "id": "5491344d",
   "metadata": {
    "scrolled": true
   },
   "outputs": [],
   "source": [
    "mdf, conflict_df=gdf_merger(df1, df2, how=how[1], on='ID_ech', date_col='Date_prv', dist_max=1)"
   ]
  },
  {
   "cell_type": "markdown",
   "id": "7ef175b7",
   "metadata": {},
   "source": [
    "#### First object dataset save"
   ]
  },
  {
   "cell_type": "code",
   "execution_count": 67,
   "id": "81a68901",
   "metadata": {},
   "outputs": [],
   "source": [
    "dataset = mdf.copy() #saving"
   ]
  },
  {
   "cell_type": "code",
   "execution_count": 68,
   "id": "c5122a7f",
   "metadata": {},
   "outputs": [
    {
     "name": "stdout",
     "output_type": "stream",
     "text": [
      "Rows : 60, columns : 17, Unique col 'ID_ech': 60\n"
     ]
    },
    {
     "data": {
      "application/vnd.jupyter.widget-view+json": {
       "model_id": "28aa05afef7443249cbe9ecaa30adbe8",
       "version_major": 2,
       "version_minor": 0
      },
      "text/plain": [
       "interactive(children=(IntSlider(value=3, description='rows', max=60, min=3, readout=False), IntSlider(value=12…"
      ]
     },
     "metadata": {},
     "output_type": "display_data"
    }
   ],
   "source": [
    "gdf_viewer(dataset, rows=3, un_val='ID_ech', view=t)"
   ]
  },
  {
   "cell_type": "markdown",
   "id": "04866619",
   "metadata": {},
   "source": [
    "#### $\\color{green}{\\textbf{Read and merge}}$"
   ]
  },
  {
   "cell_type": "code",
   "execution_count": 69,
   "id": "59db7ba0",
   "metadata": {
    "scrolled": true
   },
   "outputs": [
    {
     "name": "stdout",
     "output_type": "stream",
     "text": [
      "df1 :  --> Coordinates\n",
      "df1 :  --> Coordinates\n",
      "Rows : 45, columns : 10, Unique col 'ID_ech': 41\n"
     ]
    },
    {
     "data": {
      "application/vnd.jupyter.widget-view+json": {
       "model_id": "b225faa72cb1445ea04c782cda67d392",
       "version_major": 2,
       "version_minor": 0
      },
      "text/plain": [
       "interactive(children=(IntSlider(value=3, description='rows', max=45, min=3, readout=False), IntSlider(value=10…"
      ]
     },
     "metadata": {},
     "output_type": "display_data"
    },
    {
     "name": "stdout",
     "output_type": "stream",
     "text": [
      "Rows : 59, columns : 13, Unique col 'ID_ech': 59\n"
     ]
    },
    {
     "data": {
      "application/vnd.jupyter.widget-view+json": {
       "model_id": "579f4b6ef0914efaa78455ba14e467cc",
       "version_major": 2,
       "version_minor": 0
      },
      "text/plain": [
       "interactive(children=(IntSlider(value=3, description='rows', max=59, min=3, readout=False), IntSlider(value=12…"
      ]
     },
     "metadata": {},
     "output_type": "display_data"
    },
    {
     "data": {
      "text/plain": [
       "(None, None)"
      ]
     },
     "execution_count": 69,
     "metadata": {},
     "output_type": "execute_result"
    }
   ],
   "source": [
    "file1= work_dir + 'vUmons_logsFor/Analyse_eau_Phases1&2_Samples-water.csv' # 25\n",
    "file2= work_dir + 'vUmons_logsFor/Analyse_sol_Phases1&2_Samples-soil.csv' # 26\n",
    "\n",
    "\n",
    "df1, df2 = create_df([file1, file2])\n",
    "gdf_viewer(df1, rows=3, un_val='ID_ech', view=t), gdf_viewer(df2, rows=3, un_val='ID_ech', view=t)"
   ]
  },
  {
   "cell_type": "code",
   "execution_count": 70,
   "id": "35b823b7",
   "metadata": {
    "scrolled": true
   },
   "outputs": [],
   "source": [
    "mdf, conflict_df=gdf_merger(df1, df2, how=how[1], on='ID_ech', date_col='Date_prv', dist_max=1)"
   ]
  },
  {
   "cell_type": "markdown",
   "id": "43a1eb38",
   "metadata": {},
   "source": [
    "#### Merge with object dataset"
   ]
  },
  {
   "cell_type": "code",
   "execution_count": 71,
   "id": "3e493ccc",
   "metadata": {
    "scrolled": true
   },
   "outputs": [],
   "source": [
    "dataset, conflict_df=gdf_merger(dataset, mdf, how=how[1], on='ID_ech', date_col='Date_prv', dist_max=1)"
   ]
  },
  {
   "cell_type": "code",
   "execution_count": 72,
   "id": "235e0574",
   "metadata": {},
   "outputs": [],
   "source": [
    "if 'level_0' in dataset.columns:\n",
    "    if 'index' in dataset.columns:\n",
    "        dataset.drop(columns='index', inplace=True)\n",
    "    dataset.rename(columns={'level_0':'index'}, inplace=True)"
   ]
  },
  {
   "cell_type": "code",
   "execution_count": 73,
   "id": "499b4cd7",
   "metadata": {
    "scrolled": true
   },
   "outputs": [
    {
     "name": "stdout",
     "output_type": "stream",
     "text": [
      "Rows : 132, columns : 25, Unique col 'ID_ech': 126\n"
     ]
    },
    {
     "data": {
      "application/vnd.jupyter.widget-view+json": {
       "model_id": "a025b12dd84342a6a4f6b4f896bb16c7",
       "version_major": 2,
       "version_minor": 0
      },
      "text/plain": [
       "interactive(children=(IntSlider(value=10, description='rows', max=132, min=10, readout=False), IntSlider(value…"
      ]
     },
     "metadata": {},
     "output_type": "display_data"
    }
   ],
   "source": [
    "gdf_viewer(dataset, rows=10, un_val='ID_ech', view=t)"
   ]
  },
  {
   "cell_type": "markdown",
   "id": "bd25d979",
   "metadata": {},
   "source": [
    "#### $\\color{green}{\\textbf{Read and merge}}$"
   ]
  },
  {
   "cell_type": "code",
   "execution_count": 74,
   "id": "4f938e70",
   "metadata": {
    "scrolled": true
   },
   "outputs": [
    {
     "name": "stdout",
     "output_type": "stream",
     "text": [
      "df1 :  --> No coordinates\n",
      "df1 :  --> Coordinates\n",
      "Rows : 5, columns : 21, Unique col 'ID_ech': 5\n"
     ]
    },
    {
     "data": {
      "application/vnd.jupyter.widget-view+json": {
       "model_id": "7fc7bde369af4ee6a4a1cb0965932012",
       "version_major": 2,
       "version_minor": 0
      },
      "text/plain": [
       "interactive(children=(IntSlider(value=3, description='rows', max=5, min=3, readout=False), IntSlider(value=12,…"
      ]
     },
     "metadata": {},
     "output_type": "display_data"
    },
    {
     "name": "stdout",
     "output_type": "stream",
     "text": [
      "Rows : 11, columns : 10, Unique col 'ID_ech': 11\n"
     ]
    },
    {
     "data": {
      "application/vnd.jupyter.widget-view+json": {
       "model_id": "b4628913b8184dcea369f56e2f7cef3b",
       "version_major": 2,
       "version_minor": 0
      },
      "text/plain": [
       "interactive(children=(IntSlider(value=3, description='rows', max=11, min=3, readout=False), IntSlider(value=10…"
      ]
     },
     "metadata": {},
     "output_type": "display_data"
    },
    {
     "data": {
      "text/plain": [
       "(None, None)"
      ]
     },
     "execution_count": 74,
     "metadata": {},
     "output_type": "execute_result"
    }
   ],
   "source": [
    "file1= work_dir + 'Container_phyto/Param_agro_Samples-soil.csv' # 0\n",
    "file2= work_dir + 'Phase_2_Memoris/Result_eau_Samples-water.csv' # 8\n",
    "\n",
    "\n",
    "df1, df2 = create_df([file1, file2])\n",
    "gdf_viewer(df1, rows=3, un_val='ID_ech', view=t), gdf_viewer(df2, rows=3, un_val='ID_ech', view=t)"
   ]
  },
  {
   "cell_type": "code",
   "execution_count": 75,
   "id": "ef04cc54",
   "metadata": {
    "scrolled": true
   },
   "outputs": [],
   "source": [
    "mdf, conflict_df=gdf_merger(df1, df2, how=how[1], on='ID_ech', date_col='Date_prv', dist_max=1)"
   ]
  },
  {
   "cell_type": "markdown",
   "id": "7d30dab3",
   "metadata": {},
   "source": [
    "#### Merge with object dataset"
   ]
  },
  {
   "cell_type": "code",
   "execution_count": 76,
   "id": "24b82c23",
   "metadata": {
    "scrolled": true
   },
   "outputs": [],
   "source": [
    "dataset, conflict_df=gdf_merger(dataset, mdf, how=how[1], on='ID_ech', date_col='Date_prv', dist_max=1)"
   ]
  },
  {
   "cell_type": "code",
   "execution_count": 77,
   "id": "61982453",
   "metadata": {},
   "outputs": [],
   "source": [
    "if 'level_0' in dataset.columns:\n",
    "    if 'index' in dataset.columns:\n",
    "        dataset.drop(columns='index', inplace=True)\n",
    "    dataset.rename(columns={'level_0':'index'}, inplace=True)"
   ]
  },
  {
   "cell_type": "code",
   "execution_count": 78,
   "id": "b53caa9d",
   "metadata": {
    "scrolled": true
   },
   "outputs": [
    {
     "name": "stdout",
     "output_type": "stream",
     "text": [
      "Rows : 140, columns : 38, Unique col 'ID_ech': 131\n"
     ]
    },
    {
     "data": {
      "application/vnd.jupyter.widget-view+json": {
       "model_id": "b9307c520ac346a893443d90dadc32f4",
       "version_major": 2,
       "version_minor": 0
      },
      "text/plain": [
       "interactive(children=(IntSlider(value=10, description='rows', max=140, min=10, readout=False), IntSlider(value…"
      ]
     },
     "metadata": {},
     "output_type": "display_data"
    }
   ],
   "source": [
    "gdf_viewer(dataset, rows=10, un_val='ID_ech', view=t)"
   ]
  },
  {
   "cell_type": "markdown",
   "id": "927e07b2",
   "metadata": {},
   "source": [
    "#### $\\color{green}{\\textbf{Read and merge}}$"
   ]
  },
  {
   "cell_type": "code",
   "execution_count": 79,
   "id": "86864a0d",
   "metadata": {},
   "outputs": [
    {
     "name": "stdout",
     "output_type": "stream",
     "text": [
      "df1 :  --> No coordinates\n",
      "df1 :  --> No coordinates\n",
      "Rows : 24, columns : 6, Unique col 'ID_ech': 6\n"
     ]
    },
    {
     "data": {
      "application/vnd.jupyter.widget-view+json": {
       "model_id": "70f72c64176f46888e82ef611ccbeaf6",
       "version_major": 2,
       "version_minor": 0
      },
      "text/plain": [
       "interactive(children=(IntSlider(value=3, description='rows', max=24, min=3, readout=False), IntSlider(value=6,…"
      ]
     },
     "metadata": {},
     "output_type": "display_data"
    },
    {
     "name": "stdout",
     "output_type": "stream",
     "text": [
      "Rows : 5, columns : 8, Unique col 'ID_ech': 5\n"
     ]
    },
    {
     "data": {
      "application/vnd.jupyter.widget-view+json": {
       "model_id": "35e2ef36e7eb4fddb71e29f548580c5c",
       "version_major": 2,
       "version_minor": 0
      },
      "text/plain": [
       "interactive(children=(IntSlider(value=3, description='rows', max=5, min=3, readout=False), IntSlider(value=8, …"
      ]
     },
     "metadata": {},
     "output_type": "display_data"
    },
    {
     "data": {
      "text/plain": [
       "(None, None)"
      ]
     },
     "execution_count": 79,
     "metadata": {},
     "output_type": "execute_result"
    }
   ],
   "source": [
    "file1= work_dir + 'Container_phyto/Param_agro_Samples-water.csv' # 1\n",
    "file2= work_dir + 'Container_phyto/Result_SOL_Samples-soil.csv' # 2\n",
    "\n",
    "df1, df2 = create_df([file1, file2])\n",
    "gdf_viewer(df1, rows=3, un_val='ID_ech', view=t), gdf_viewer(df2, rows=3, un_val='ID_ech', view=t)"
   ]
  },
  {
   "cell_type": "code",
   "execution_count": 80,
   "id": "f5be1e1b",
   "metadata": {},
   "outputs": [],
   "source": [
    "df1.ID_ech = df1.ID_ech.astype(str)\n",
    "df2.ID_ech = df2.ID_ech.astype(str)"
   ]
  },
  {
   "cell_type": "code",
   "execution_count": 81,
   "id": "d0aa509b",
   "metadata": {
    "scrolled": true
   },
   "outputs": [],
   "source": [
    "mdf, conflict_df=gdf_merger(df1, df2, how=how[1], on='ID_ech', date_col='Date_prv', dist_max=1)"
   ]
  },
  {
   "cell_type": "markdown",
   "id": "e67a9498",
   "metadata": {},
   "source": [
    "#### Merge with object dataset"
   ]
  },
  {
   "cell_type": "code",
   "execution_count": 82,
   "id": "6c499053",
   "metadata": {
    "scrolled": true
   },
   "outputs": [
    {
     "name": "stdout",
     "output_type": "stream",
     "text": [
      "Conflict values present. Please resolve this manually !\n"
     ]
    }
   ],
   "source": [
    "dataset, conflict_df=gdf_merger(dataset, mdf, how=how[1], on='ID_ech', date_col='Date_prv', dist_max=1)"
   ]
  },
  {
   "cell_type": "code",
   "execution_count": 83,
   "id": "23217044",
   "metadata": {},
   "outputs": [],
   "source": [
    "if 'level_0' in dataset.columns:\n",
    "    if 'index' in dataset.columns:\n",
    "        dataset.drop(columns='index', inplace=True)\n",
    "    dataset.rename(columns={'level_0':'index'}, inplace=True)"
   ]
  },
  {
   "cell_type": "code",
   "execution_count": 84,
   "id": "f75c9da0",
   "metadata": {
    "scrolled": true
   },
   "outputs": [
    {
     "name": "stdout",
     "output_type": "stream",
     "text": [
      "Rows : 164, columns : 42, Unique col 'ID_ech': 137\n"
     ]
    },
    {
     "data": {
      "application/vnd.jupyter.widget-view+json": {
       "model_id": "14338e2ba01a443ead82e30d2914998d",
       "version_major": 2,
       "version_minor": 0
      },
      "text/plain": [
       "interactive(children=(IntSlider(value=10, description='rows', max=164, min=10, readout=False), IntSlider(value…"
      ]
     },
     "metadata": {},
     "output_type": "display_data"
    }
   ],
   "source": [
    "gdf_viewer(dataset, rows=10, un_val='ID_ech', view=t)"
   ]
  },
  {
   "cell_type": "markdown",
   "id": "a645da51",
   "metadata": {},
   "source": [
    "#### $\\color{blue}{\\textbf{Manage conflicts}}$"
   ]
  },
  {
   "cell_type": "code",
   "execution_count": 85,
   "id": "0e3df0a6",
   "metadata": {},
   "outputs": [
    {
     "data": {
      "text/html": [
       "<div>\n",
       "<style scoped>\n",
       "    .dataframe tbody tr th:only-of-type {\n",
       "        vertical-align: middle;\n",
       "    }\n",
       "\n",
       "    .dataframe tbody tr th {\n",
       "        vertical-align: top;\n",
       "    }\n",
       "\n",
       "    .dataframe thead th {\n",
       "        text-align: right;\n",
       "    }\n",
       "</style>\n",
       "<table border=\"1\" class=\"dataframe\">\n",
       "  <thead>\n",
       "    <tr style=\"text-align: right;\">\n",
       "      <th></th>\n",
       "      <th>Check_col</th>\n",
       "      <th>ID_ech</th>\n",
       "      <th>Fract_2_x</th>\n",
       "      <th>Fract_2_y</th>\n",
       "      <th>Fract_2+_x</th>\n",
       "      <th>Fract_2+_y</th>\n",
       "      <th>MS_x</th>\n",
       "      <th>MS_y</th>\n",
       "    </tr>\n",
       "  </thead>\n",
       "  <tbody>\n",
       "    <tr>\n",
       "      <th>135</th>\n",
       "      <td>Fract_2, Fract_2+, MS</td>\n",
       "      <td>Ech. 1</td>\n",
       "      <td>79.0</td>\n",
       "      <td>33.0</td>\n",
       "      <td>21.0</td>\n",
       "      <td>67.0</td>\n",
       "      <td>89.8</td>\n",
       "      <td>88.8</td>\n",
       "    </tr>\n",
       "    <tr>\n",
       "      <th>136</th>\n",
       "      <td>MS</td>\n",
       "      <td>Ech. 2</td>\n",
       "      <td>47.0</td>\n",
       "      <td>47.0</td>\n",
       "      <td>53.0</td>\n",
       "      <td>53.0</td>\n",
       "      <td>75.9</td>\n",
       "      <td>80.0</td>\n",
       "    </tr>\n",
       "    <tr>\n",
       "      <th>137</th>\n",
       "      <td>Fract_2, Fract_2+, MS</td>\n",
       "      <td>Ech. 3</td>\n",
       "      <td>69.0</td>\n",
       "      <td>40.0</td>\n",
       "      <td>31.0</td>\n",
       "      <td>60.0</td>\n",
       "      <td>80.1</td>\n",
       "      <td>87.9</td>\n",
       "    </tr>\n",
       "    <tr>\n",
       "      <th>138</th>\n",
       "      <td>Fract_2, Fract_2+, MS</td>\n",
       "      <td>Ech. 4</td>\n",
       "      <td>70.0</td>\n",
       "      <td>45.0</td>\n",
       "      <td>30.0</td>\n",
       "      <td>55.0</td>\n",
       "      <td>85.8</td>\n",
       "      <td>90.5</td>\n",
       "    </tr>\n",
       "    <tr>\n",
       "      <th>139</th>\n",
       "      <td>Fract_2, Fract_2+, MS</td>\n",
       "      <td>Ech. 5</td>\n",
       "      <td>71.0</td>\n",
       "      <td>29.0</td>\n",
       "      <td>29.0</td>\n",
       "      <td>71.0</td>\n",
       "      <td>84.9</td>\n",
       "      <td>76.1</td>\n",
       "    </tr>\n",
       "  </tbody>\n",
       "</table>\n",
       "</div>"
      ],
      "text/plain": [
       "                 Check_col  ID_ech  Fract_2_x  Fract_2_y  Fract_2+_x  \\\n",
       "135  Fract_2, Fract_2+, MS  Ech. 1       79.0       33.0        21.0   \n",
       "136                     MS  Ech. 2       47.0       47.0        53.0   \n",
       "137  Fract_2, Fract_2+, MS  Ech. 3       69.0       40.0        31.0   \n",
       "138  Fract_2, Fract_2+, MS  Ech. 4       70.0       45.0        30.0   \n",
       "139  Fract_2, Fract_2+, MS  Ech. 5       71.0       29.0        29.0   \n",
       "\n",
       "     Fract_2+_y  MS_x  MS_y  \n",
       "135        67.0  89.8  88.8  \n",
       "136        53.0  75.9  80.0  \n",
       "137        60.0  80.1  87.9  \n",
       "138        55.0  85.8  90.5  \n",
       "139        71.0  84.9  76.1  "
      ]
     },
     "execution_count": 85,
     "metadata": {},
     "output_type": "execute_result"
    }
   ],
   "source": [
    "conflict_df # i think there are shifted columns (fract_2+_y, fract_2_y)"
   ]
  },
  {
   "cell_type": "raw",
   "id": "c9641656",
   "metadata": {},
   "source": [
    "data_validation(overall_data=mdf, conflict_data=conflict_df, index_col='index', \n",
    "                valid_dict={'Long_for_x':[136,142],},)"
   ]
  },
  {
   "cell_type": "markdown",
   "id": "ab78dddb",
   "metadata": {},
   "source": [
    "#### $\\color{green}{\\textbf{Read and merge}}$"
   ]
  },
  {
   "cell_type": "code",
   "execution_count": 86,
   "id": "a488575c",
   "metadata": {},
   "outputs": [
    {
     "name": "stdout",
     "output_type": "stream",
     "text": [
      "df1 :  --> No coordinates\n",
      "df1 :  --> No coordinates\n",
      "Rows : 60, columns : 12, Unique col 'ID_ech': 60\n"
     ]
    },
    {
     "data": {
      "application/vnd.jupyter.widget-view+json": {
       "model_id": "d1a8969356244e8fb0dd351516fea7c6",
       "version_major": 2,
       "version_minor": 0
      },
      "text/plain": [
       "interactive(children=(IntSlider(value=3, description='rows', max=60, min=3, readout=False), IntSlider(value=12…"
      ]
     },
     "metadata": {},
     "output_type": "display_data"
    },
    {
     "name": "stdout",
     "output_type": "stream",
     "text": [
      "Rows : 29, columns : 11, Unique col 'ID_ech': 29\n"
     ]
    },
    {
     "data": {
      "application/vnd.jupyter.widget-view+json": {
       "model_id": "dc5d714ee7fb499480c133ed512718ea",
       "version_major": 2,
       "version_minor": 0
      },
      "text/plain": [
       "interactive(children=(IntSlider(value=3, description='rows', max=29, min=3, readout=False), IntSlider(value=11…"
      ]
     },
     "metadata": {},
     "output_type": "display_data"
    },
    {
     "data": {
      "text/plain": [
       "(None, None)"
      ]
     },
     "execution_count": 86,
     "metadata": {},
     "output_type": "execute_result"
    }
   ],
   "source": [
    "file1= work_dir + 'Memoris_seafile/Result_SOL_Samples-soil.csv' # 3\n",
    "file2= work_dir + 'Phase_1_Memoris/Result_sol_Samples-soil.csv' # 6\n",
    "\n",
    "df1, df2 = create_df([file1, file2])\n",
    "gdf_viewer(df1, rows=3, un_val='ID_ech', view=t), gdf_viewer(df2, rows=3, un_val='ID_ech', view=t)"
   ]
  },
  {
   "cell_type": "code",
   "execution_count": 87,
   "id": "8450be38",
   "metadata": {
    "scrolled": true
   },
   "outputs": [],
   "source": [
    "mdf, conflict_df=gdf_merger(df1, df2, how=how[1], on='ID_ech', date_col='Date_prv', dist_max=1)"
   ]
  },
  {
   "cell_type": "markdown",
   "id": "0a28eaa6",
   "metadata": {},
   "source": [
    "#### Merge with object dataset"
   ]
  },
  {
   "cell_type": "code",
   "execution_count": 88,
   "id": "fa5519b9",
   "metadata": {
    "scrolled": true
   },
   "outputs": [],
   "source": [
    "dataset, conflict_df=gdf_merger(dataset, mdf, how=how[1], on='ID_ech', date_col='Date_prv', dist_max=1)"
   ]
  },
  {
   "cell_type": "code",
   "execution_count": 89,
   "id": "3e47d7cc",
   "metadata": {},
   "outputs": [],
   "source": [
    "if 'level_0' in dataset.columns:\n",
    "    if 'index' in dataset.columns:\n",
    "        dataset.drop(columns='index', inplace=True)\n",
    "    dataset.rename(columns={'level_0':'index'}, inplace=True)"
   ]
  },
  {
   "cell_type": "code",
   "execution_count": 90,
   "id": "71823ffc",
   "metadata": {
    "scrolled": true
   },
   "outputs": [
    {
     "name": "stdout",
     "output_type": "stream",
     "text": [
      "Rows : 284, columns : 44, Unique col 'ID_ech': 207\n"
     ]
    },
    {
     "data": {
      "application/vnd.jupyter.widget-view+json": {
       "model_id": "978a9f023878405d8ee786a061ff61cd",
       "version_major": 2,
       "version_minor": 0
      },
      "text/plain": [
       "interactive(children=(IntSlider(value=10, description='rows', max=284, min=10, readout=False), IntSlider(value…"
      ]
     },
     "metadata": {},
     "output_type": "display_data"
    }
   ],
   "source": [
    "gdf_viewer(dataset, rows=10, un_val='ID_ech', view=t)"
   ]
  },
  {
   "cell_type": "markdown",
   "id": "8c3e2a0b",
   "metadata": {},
   "source": [
    "#### $\\color{blue}{\\textbf{Manage conflicts}}$"
   ]
  },
  {
   "cell_type": "code",
   "execution_count": 91,
   "id": "156c09ac",
   "metadata": {
    "scrolled": true
   },
   "outputs": [
    {
     "data": {
      "text/html": [
       "<div>\n",
       "<style scoped>\n",
       "    .dataframe tbody tr th:only-of-type {\n",
       "        vertical-align: middle;\n",
       "    }\n",
       "\n",
       "    .dataframe tbody tr th {\n",
       "        vertical-align: top;\n",
       "    }\n",
       "\n",
       "    .dataframe thead th {\n",
       "        text-align: right;\n",
       "    }\n",
       "</style>\n",
       "<table border=\"1\" class=\"dataframe\">\n",
       "  <thead>\n",
       "    <tr style=\"text-align: right;\">\n",
       "      <th></th>\n",
       "    </tr>\n",
       "  </thead>\n",
       "  <tbody>\n",
       "  </tbody>\n",
       "</table>\n",
       "</div>"
      ],
      "text/plain": [
       "Empty DataFrame\n",
       "Columns: []\n",
       "Index: []"
      ]
     },
     "execution_count": 91,
     "metadata": {},
     "output_type": "execute_result"
    }
   ],
   "source": [
    "conflict_df"
   ]
  },
  {
   "cell_type": "raw",
   "id": "ba24264d",
   "metadata": {},
   "source": [
    "data_validation(overall_data=mdf, conflict_data=conflict_df, index_col='index', \n",
    "                valid_dict={'Long_for_x':[136,142],},)"
   ]
  },
  {
   "cell_type": "markdown",
   "id": "ce0813e8",
   "metadata": {},
   "source": [
    "#### $\\color{green}{\\textbf{Read and merge}}$"
   ]
  },
  {
   "cell_type": "code",
   "execution_count": 92,
   "id": "f544a756",
   "metadata": {},
   "outputs": [
    {
     "name": "stdout",
     "output_type": "stream",
     "text": [
      "df1 :  --> No coordinates\n",
      "df1 :  --> No coordinates\n",
      "Rows : 25, columns : 12, Unique col 'ID_ech': 25\n"
     ]
    },
    {
     "data": {
      "application/vnd.jupyter.widget-view+json": {
       "model_id": "acdd55986e114e8e8abcd1a38fadcd69",
       "version_major": 2,
       "version_minor": 0
      },
      "text/plain": [
       "interactive(children=(IntSlider(value=3, description='rows', max=25, min=3, readout=False), IntSlider(value=12…"
      ]
     },
     "metadata": {},
     "output_type": "display_data"
    },
    {
     "name": "stdout",
     "output_type": "stream",
     "text": [
      "Rows : 33, columns : 13, Unique col 'ID_ech': 6\n"
     ]
    },
    {
     "data": {
      "application/vnd.jupyter.widget-view+json": {
       "model_id": "430c75eebf4e471f9a4876ecc1b07820",
       "version_major": 2,
       "version_minor": 0
      },
      "text/plain": [
       "interactive(children=(IntSlider(value=3, description='rows', max=33, min=3, readout=False), IntSlider(value=12…"
      ]
     },
     "metadata": {},
     "output_type": "display_data"
    },
    {
     "data": {
      "text/plain": [
       "(None, None)"
      ]
     },
     "execution_count": 92,
     "metadata": {},
     "output_type": "execute_result"
    }
   ],
   "source": [
    "file1= work_dir + 'Phase_2_Memoris/Result_SOL_Samples-soil.csv' # 7\n",
    "file2= work_dir + 'Siterem_Ext_Pilote/Param_physico_Samples-water.csv' # 10\n",
    "\n",
    "df1, df2 = create_df([file1, file2])\n",
    "gdf_viewer(df1, rows=3, un_val='ID_ech', view=t), gdf_viewer(df2, rows=3, un_val='ID_ech', view=t)"
   ]
  },
  {
   "cell_type": "code",
   "execution_count": 93,
   "id": "8fb8fdeb",
   "metadata": {},
   "outputs": [],
   "source": [
    "df1.ID_ech = df1.ID_ech.astype(str)\n",
    "df2.ID_ech = df2.ID_ech.astype(str)"
   ]
  },
  {
   "cell_type": "code",
   "execution_count": 94,
   "id": "67b561f6",
   "metadata": {
    "scrolled": true
   },
   "outputs": [],
   "source": [
    "mdf, conflict_df=gdf_merger(df1, df2, how=how[1], on='ID_ech', date_col='Date_prv', dist_max=1)"
   ]
  },
  {
   "cell_type": "markdown",
   "id": "98e383d4",
   "metadata": {},
   "source": [
    "#### Merge with object dataset"
   ]
  },
  {
   "cell_type": "code",
   "execution_count": 95,
   "id": "3db82097",
   "metadata": {
    "scrolled": true
   },
   "outputs": [
    {
     "name": "stdout",
     "output_type": "stream",
     "text": [
      "Conflict values present. Please resolve this manually !\n"
     ]
    }
   ],
   "source": [
    "dataset, conflict_df=gdf_merger(dataset, mdf, how=how[1], on='ID_ech', date_col='Date_prv', dist_max=1)"
   ]
  },
  {
   "cell_type": "code",
   "execution_count": 96,
   "id": "8dc03f52",
   "metadata": {},
   "outputs": [],
   "source": [
    "if 'level_0' in dataset.columns:\n",
    "    if 'index' in dataset.columns:\n",
    "        dataset.drop(columns='index', inplace=True)\n",
    "    dataset.rename(columns={'level_0':'index'}, inplace=True)"
   ]
  },
  {
   "cell_type": "code",
   "execution_count": 97,
   "id": "111362b0",
   "metadata": {
    "scrolled": true
   },
   "outputs": [
    {
     "name": "stdout",
     "output_type": "stream",
     "text": [
      "Rows : 580, columns : 49, Unique col 'ID_ech': 211\n"
     ]
    },
    {
     "data": {
      "application/vnd.jupyter.widget-view+json": {
       "model_id": "faf5011b8c98491491274c7c684542b9",
       "version_major": 2,
       "version_minor": 0
      },
      "text/plain": [
       "interactive(children=(IntSlider(value=10, description='rows', max=580, min=10, readout=False), IntSlider(value…"
      ]
     },
     "metadata": {},
     "output_type": "display_data"
    }
   ],
   "source": [
    "gdf_viewer(dataset, rows=10, un_val='ID_ech', view=t)"
   ]
  },
  {
   "cell_type": "markdown",
   "id": "31f46f8d",
   "metadata": {},
   "source": [
    "#### $\\color{blue}{\\textbf{Manage conflicts}}$"
   ]
  },
  {
   "cell_type": "code",
   "execution_count": 98,
   "id": "97093392",
   "metadata": {
    "scrolled": true
   },
   "outputs": [
    {
     "data": {
      "text/html": [
       "<div>\n",
       "<style scoped>\n",
       "    .dataframe tbody tr th:only-of-type {\n",
       "        vertical-align: middle;\n",
       "    }\n",
       "\n",
       "    .dataframe tbody tr th {\n",
       "        vertical-align: top;\n",
       "    }\n",
       "\n",
       "    .dataframe thead th {\n",
       "        text-align: right;\n",
       "    }\n",
       "</style>\n",
       "<table border=\"1\" class=\"dataframe\">\n",
       "  <thead>\n",
       "    <tr style=\"text-align: right;\">\n",
       "      <th></th>\n",
       "      <th>Check_col</th>\n",
       "      <th>ID_ech</th>\n",
       "      <th>Emplacement_x</th>\n",
       "      <th>Emplacement_y</th>\n",
       "      <th>Periode_x</th>\n",
       "      <th>Periode_y</th>\n",
       "    </tr>\n",
       "  </thead>\n",
       "  <tbody>\n",
       "    <tr>\n",
       "      <th>90</th>\n",
       "      <td>Emplacement, Periode</td>\n",
       "      <td>201</td>\n",
       "      <td>Extension pilote</td>\n",
       "      <td>Simulateur</td>\n",
       "      <td>T0</td>\n",
       "      <td>Avant chauffe</td>\n",
       "    </tr>\n",
       "    <tr>\n",
       "      <th>132</th>\n",
       "      <td>Emplacement, Periode</td>\n",
       "      <td>207</td>\n",
       "      <td>Extension pilote</td>\n",
       "      <td>Simulateur</td>\n",
       "      <td>T0</td>\n",
       "      <td>Avant chauffe</td>\n",
       "    </tr>\n",
       "    <tr>\n",
       "      <th>172</th>\n",
       "      <td>Emplacement, Periode</td>\n",
       "      <td>208</td>\n",
       "      <td>Extension pilote</td>\n",
       "      <td>Simulateur</td>\n",
       "      <td>T0</td>\n",
       "      <td>Chauffage actif</td>\n",
       "    </tr>\n",
       "    <tr>\n",
       "      <th>212</th>\n",
       "      <td>Emplacement, Periode</td>\n",
       "      <td>221</td>\n",
       "      <td>Extension pilote</td>\n",
       "      <td>Simulateur</td>\n",
       "      <td>T0</td>\n",
       "      <td>Chauffage actif</td>\n",
       "    </tr>\n",
       "    <tr>\n",
       "      <th>260</th>\n",
       "      <td>Emplacement, Periode</td>\n",
       "      <td>214</td>\n",
       "      <td>Extension pilote</td>\n",
       "      <td>Simulateur</td>\n",
       "      <td>T0</td>\n",
       "      <td>Arrêt PAC</td>\n",
       "    </tr>\n",
       "    <tr>\n",
       "      <th>261</th>\n",
       "      <td>Emplacement, Periode</td>\n",
       "      <td>225</td>\n",
       "      <td>Extension pilote</td>\n",
       "      <td>Simulateur</td>\n",
       "      <td>T0</td>\n",
       "      <td>Chauffage actif</td>\n",
       "    </tr>\n",
       "  </tbody>\n",
       "</table>\n",
       "</div>"
      ],
      "text/plain": [
       "                Check_col ID_ech     Emplacement_x Emplacement_y Periode_x  \\\n",
       "90   Emplacement, Periode    201  Extension pilote    Simulateur        T0   \n",
       "132  Emplacement, Periode    207  Extension pilote    Simulateur        T0   \n",
       "172  Emplacement, Periode    208  Extension pilote    Simulateur        T0   \n",
       "212  Emplacement, Periode    221  Extension pilote    Simulateur        T0   \n",
       "260  Emplacement, Periode    214  Extension pilote    Simulateur        T0   \n",
       "261  Emplacement, Periode    225  Extension pilote    Simulateur        T0   \n",
       "\n",
       "            Periode_y  \n",
       "90      Avant chauffe  \n",
       "132     Avant chauffe  \n",
       "172  Chauffage actif   \n",
       "212  Chauffage actif   \n",
       "260         Arrêt PAC  \n",
       "261  Chauffage actif   "
      ]
     },
     "execution_count": 98,
     "metadata": {},
     "output_type": "execute_result"
    }
   ],
   "source": [
    "conflict_df"
   ]
  },
  {
   "cell_type": "raw",
   "id": "8e3d078e",
   "metadata": {},
   "source": [
    "data_validation(overall_data=mdf, conflict_data=conflict_df, index_col='index', \n",
    "                valid_dict={'Long_for_x':[136,142],},)"
   ]
  },
  {
   "cell_type": "markdown",
   "id": "5dfec20d",
   "metadata": {},
   "source": [
    "#### $\\color{green}{\\textbf{Read and merge}}$"
   ]
  },
  {
   "cell_type": "code",
   "execution_count": 99,
   "id": "0165193c",
   "metadata": {},
   "outputs": [
    {
     "name": "stdout",
     "output_type": "stream",
     "text": [
      "df1 :  --> No coordinates\n",
      "df1 :  --> No coordinates\n",
      "Rows : 31, columns : 8, Unique col 'ID_ech': 6\n"
     ]
    },
    {
     "data": {
      "application/vnd.jupyter.widget-view+json": {
       "model_id": "5923717b0bf540c6b6434f560dd01f3d",
       "version_major": 2,
       "version_minor": 0
      },
      "text/plain": [
       "interactive(children=(IntSlider(value=3, description='rows', max=31, min=3, readout=False), IntSlider(value=8,…"
      ]
     },
     "metadata": {},
     "output_type": "display_data"
    },
    {
     "name": "stdout",
     "output_type": "stream",
     "text": [
      "Rows : 51, columns : 6, Unique col 'ID_ech': 7\n"
     ]
    },
    {
     "data": {
      "application/vnd.jupyter.widget-view+json": {
       "model_id": "4c1ce89d95ac42019345a732126388c4",
       "version_major": 2,
       "version_minor": 0
      },
      "text/plain": [
       "interactive(children=(IntSlider(value=3, description='rows', max=51, min=3, readout=False), IntSlider(value=6,…"
      ]
     },
     "metadata": {},
     "output_type": "display_data"
    },
    {
     "data": {
      "text/plain": [
       "(None, None)"
      ]
     },
     "execution_count": 99,
     "metadata": {},
     "output_type": "execute_result"
    }
   ],
   "source": [
    "file1= work_dir + 'Siterem_Ext_Pilote/Result_eau_Samples-water.csv' # 11\n",
    "file2= work_dir + 'Siterem_Pilote/Inorganic_major_Samples-water.csv' # 12\n",
    "\n",
    "df1, df2 = create_df([file1, file2])\n",
    "gdf_viewer(df1, rows=3, un_val='ID_ech', view=t), gdf_viewer(df2, rows=3, un_val='ID_ech', view=t)"
   ]
  },
  {
   "cell_type": "code",
   "execution_count": 100,
   "id": "f597ab95",
   "metadata": {},
   "outputs": [],
   "source": [
    "df1.ID_ech = df1.ID_ech.astype(str)\n",
    "df2.ID_ech = df2.ID_ech.astype(str)"
   ]
  },
  {
   "cell_type": "code",
   "execution_count": 101,
   "id": "588e65d3",
   "metadata": {
    "scrolled": true
   },
   "outputs": [],
   "source": [
    "mdf, conflict_df=gdf_merger(df1, df2, how=how[1], on='ID_ech', date_col='Date_prv', dist_max=1)"
   ]
  },
  {
   "cell_type": "markdown",
   "id": "4b18ae0d",
   "metadata": {},
   "source": [
    "#### Merge with object dataset"
   ]
  },
  {
   "cell_type": "code",
   "execution_count": 102,
   "id": "aeb839ba",
   "metadata": {
    "scrolled": true
   },
   "outputs": [
    {
     "name": "stdout",
     "output_type": "stream",
     "text": [
      "Conflict values present. Please resolve this manually !\n"
     ]
    }
   ],
   "source": [
    "dataset, conflict_df=gdf_merger(dataset, mdf, how=how[1], on='ID_ech', date_col='Date_prv', dist_max=1)"
   ]
  },
  {
   "cell_type": "code",
   "execution_count": 103,
   "id": "f8269df2",
   "metadata": {},
   "outputs": [],
   "source": [
    "if 'level_0' in dataset.columns:\n",
    "    if 'index' in dataset.columns:\n",
    "        dataset.drop(columns='index', inplace=True)\n",
    "    dataset.rename(columns={'level_0':'index'}, inplace=True)"
   ]
  },
  {
   "cell_type": "code",
   "execution_count": 104,
   "id": "8ccb35dd",
   "metadata": {
    "scrolled": true
   },
   "outputs": [
    {
     "name": "stdout",
     "output_type": "stream",
     "text": [
      "Rows : 2781, columns : 50, Unique col 'ID_ech': 218\n"
     ]
    },
    {
     "data": {
      "application/vnd.jupyter.widget-view+json": {
       "model_id": "1c855d9f633744b5be964dbaa9ae932d",
       "version_major": 2,
       "version_minor": 0
      },
      "text/plain": [
       "interactive(children=(IntSlider(value=10, description='rows', max=2781, min=10, readout=False), IntSlider(valu…"
      ]
     },
     "metadata": {},
     "output_type": "display_data"
    }
   ],
   "source": [
    "gdf_viewer(dataset, rows=10, un_val='ID_ech', view=t)"
   ]
  },
  {
   "cell_type": "markdown",
   "id": "9276ec3d",
   "metadata": {},
   "source": [
    "#### $\\color{blue}{\\textbf{Manage conflicts}}$"
   ]
  },
  {
   "cell_type": "code",
   "execution_count": 108,
   "id": "9d41ab9f",
   "metadata": {
    "scrolled": true
   },
   "outputs": [
    {
     "name": "stdout",
     "output_type": "stream",
     "text": [
      "Rows : 144, columns : 10\n"
     ]
    },
    {
     "data": {
      "application/vnd.jupyter.widget-view+json": {
       "model_id": "486c0f97476c423891ca06316d7f2dbe",
       "version_major": 2,
       "version_minor": 0
      },
      "text/plain": [
       "interactive(children=(IntSlider(value=5, description='rows', max=144, min=5, readout=False), IntSlider(value=1…"
      ]
     },
     "metadata": {},
     "output_type": "display_data"
    }
   ],
   "source": [
    "gdf_viewer(conflict_df, rows=5,)"
   ]
  },
  {
   "cell_type": "raw",
   "id": "169ded9b",
   "metadata": {},
   "source": [
    "data_validation(overall_data=mdf, conflict_data=conflict_df, index_col='index', \n",
    "                valid_dict={'Long_for_x':[136,142],},)"
   ]
  },
  {
   "cell_type": "code",
   "execution_count": 106,
   "id": "fd267588",
   "metadata": {},
   "outputs": [
    {
     "name": "stdout",
     "output_type": "stream",
     "text": [
      "Memoris_seafile/Result_eau_Samples-water.csv || Container_phyto/Param_agro_Samples-soil.csv\n"
     ]
    }
   ],
   "source": [
    "a, b = 4, 0\n",
    "file1= files_dict[key][a]\n",
    "file2= files_dict[key][b]\n",
    "print(files_dict[key][a].replace(work_dir,\"\"),'||', files_dict[key][b].replace(work_dir,\"\"))"
   ]
  },
  {
   "cell_type": "code",
   "execution_count": 107,
   "id": "0eaabfac",
   "metadata": {},
   "outputs": [
    {
     "ename": "NameError",
     "evalue": "name 'pause' is not defined",
     "output_type": "error",
     "traceback": [
      "\u001b[0;31m---------------------------------------------------------------------------\u001b[0m",
      "\u001b[0;31mNameError\u001b[0m                                 Traceback (most recent call last)",
      "\u001b[0;32m<ipython-input-107-34d6930c0341>\u001b[0m in \u001b[0;36m<module>\u001b[0;34m\u001b[0m\n\u001b[0;32m----> 1\u001b[0;31m \u001b[0mpause\u001b[0m\u001b[0;34m\u001b[0m\u001b[0;34m\u001b[0m\u001b[0m\n\u001b[0m",
      "\u001b[0;31mNameError\u001b[0m: name 'pause' is not defined"
     ]
    }
   ],
   "source": [
    "pause"
   ]
  },
  {
   "cell_type": "markdown",
   "id": "5736d2ff",
   "metadata": {},
   "source": [
    "#### $\\color{green}{\\textbf{Read and merge}}$"
   ]
  },
  {
   "cell_type": "code",
   "execution_count": null,
   "id": "c9558085",
   "metadata": {},
   "outputs": [],
   "source": [
    "#file1= work_dir + 'Memoris_seafile/Result_SOL_Samples-soil.csv' # 3\n",
    "#file2= work_dir + 'Phase_1_Memoris/Result_sol_Samples-soil.csv' # 6\n",
    "\n",
    "df1, df2 = create_df([file1, file2])\n",
    "gdf_viewer(df1, rows=3, un_val='ID_ech', view=t), gdf_viewer(df2, rows=3, un_val='ID_ech', view=t)"
   ]
  },
  {
   "cell_type": "code",
   "execution_count": null,
   "id": "25b19484",
   "metadata": {},
   "outputs": [],
   "source": [
    "df1.ID_ech = df1.ID_ech.astype(str)\n",
    "df2.ID_ech = df2.ID_ech.astype(str)"
   ]
  },
  {
   "cell_type": "code",
   "execution_count": null,
   "id": "be10def7",
   "metadata": {
    "scrolled": true
   },
   "outputs": [],
   "source": [
    "mdf, conflict_df=gdf_merger(df1, df2, how=how[1], on='ID_ech', date_col='Date_prv', dist_max=1)"
   ]
  },
  {
   "cell_type": "markdown",
   "id": "a7b91020",
   "metadata": {},
   "source": [
    "#### Merge with object dataset"
   ]
  },
  {
   "cell_type": "code",
   "execution_count": null,
   "id": "794690b1",
   "metadata": {
    "scrolled": true
   },
   "outputs": [],
   "source": [
    "dataset, conflict_df=gdf_merger(dataset, mdf, how=how[1], on='ID_ech', date_col='Date_prv', dist_max=1)"
   ]
  },
  {
   "cell_type": "code",
   "execution_count": null,
   "id": "f2f9b896",
   "metadata": {},
   "outputs": [],
   "source": [
    "if 'level_0' in dataset.columns:\n",
    "    if 'index' in dataset.columns:\n",
    "        dataset.drop(columns='index', inplace=True)\n",
    "    dataset.rename(columns={'level_0':'index'}, inplace=True)"
   ]
  },
  {
   "cell_type": "code",
   "execution_count": null,
   "id": "743ae232",
   "metadata": {
    "scrolled": true
   },
   "outputs": [],
   "source": [
    "gdf_viewer(dataset, rows=10, un_val='ID_ech', view=t)"
   ]
  },
  {
   "cell_type": "markdown",
   "id": "41ee6c83",
   "metadata": {},
   "source": [
    "#### $\\color{blue}{\\textbf{Manage conflicts}}$"
   ]
  },
  {
   "cell_type": "code",
   "execution_count": null,
   "id": "db24c99f",
   "metadata": {
    "scrolled": true
   },
   "outputs": [],
   "source": [
    "conflict_df"
   ]
  },
  {
   "cell_type": "raw",
   "id": "4cc7b283",
   "metadata": {},
   "source": [
    "data_validation(overall_data=mdf, conflict_data=conflict_df, index_col='index', \n",
    "                valid_dict={'Long_for_x':[136,142],},)"
   ]
  },
  {
   "cell_type": "markdown",
   "id": "52ed0159",
   "metadata": {},
   "source": [
    "####  $\\color{red}{\\textbf{Save final object dataset}}$"
   ]
  },
  {
   "cell_type": "code",
   "execution_count": null,
   "id": "345a143b",
   "metadata": {},
   "outputs": [],
   "source": [
    "if 'index' in dataset.columns:\n",
    "    dataset.drop(columns='index', inplace=True)"
   ]
  },
  {
   "cell_type": "code",
   "execution_count": null,
   "id": "b819fb7b",
   "metadata": {},
   "outputs": [],
   "source": [
    "if not os.path.exists(save_dir):\n",
    "    os.makedirs(save_dir)\n",
    "    \n",
    "dataset.to_csv(save_dir + save_file, index=False)"
   ]
  },
  {
   "cell_type": "markdown",
   "id": "ba331cc4",
   "metadata": {},
   "source": [
    "###  ------------------------------------- Testing area ------------------------------"
   ]
  },
  {
   "cell_type": "code",
   "execution_count": null,
   "id": "09266ba5",
   "metadata": {},
   "outputs": [],
   "source": [
    "a, b = 3, 0\n",
    "file1= files_dict[key][a]\n",
    "file2= files_dict[key][b]\n",
    "print(files_dict[key][a].replace(work_dir,\"\"),'||', files_dict[key][b].replace(work_dir,\"\"))"
   ]
  },
  {
   "cell_type": "markdown",
   "id": "56cb5df8",
   "metadata": {},
   "source": [
    "#### $\\color{green}{\\textbf{Read and merge}}$"
   ]
  },
  {
   "cell_type": "code",
   "execution_count": null,
   "id": "930102ba",
   "metadata": {},
   "outputs": [],
   "source": [
    "#file1= work_dir + 'Memoris_seafile/Result_SOL_Samples-soil.csv' # 3\n",
    "#file2= work_dir + 'Phase_1_Memoris/Result_sol_Samples-soil.csv' # 6\n",
    "\n",
    "df1, df2 = create_df([file1, file2])\n",
    "gdf_viewer(df1, rows=3, un_val='ID', view=t), gdf_viewer(df2, rows=3, un_val='ID', view=t)"
   ]
  },
  {
   "cell_type": "code",
   "execution_count": null,
   "id": "98185c93",
   "metadata": {},
   "outputs": [],
   "source": [
    "pause"
   ]
  },
  {
   "cell_type": "markdown",
   "id": "d3eeeca3",
   "metadata": {},
   "source": [
    "#### $\\color{green}{\\textbf{Read and merge}}$"
   ]
  },
  {
   "cell_type": "code",
   "execution_count": null,
   "id": "53c7330a",
   "metadata": {},
   "outputs": [],
   "source": [
    "df1.ID_ech = df1.ID_ech.astype(str)\n",
    "df2.ID_ech = df2.ID_ech.astype(str)"
   ]
  },
  {
   "cell_type": "markdown",
   "id": "d37f664b",
   "metadata": {},
   "source": [
    "#### $\\color{blue}{\\textbf{Manage conflicts}}$"
   ]
  },
  {
   "cell_type": "raw",
   "id": "fd9f7afe",
   "metadata": {
    "scrolled": true
   },
   "source": [
    "conflict_df"
   ]
  },
  {
   "cell_type": "raw",
   "id": "926fa82c",
   "metadata": {},
   "source": [
    "data_validation(overall_data=mdf, conflict_data=conflict_df, index_col='index', \n",
    "                valid_dict={'Old_ID_x':list(conflict_df.index)})"
   ]
  },
  {
   "cell_type": "code",
   "execution_count": null,
   "id": "db739168",
   "metadata": {
    "scrolled": false
   },
   "outputs": [],
   "source": [
    "file1= files_dict[key][0]\n",
    "file2= files_dict[key][3]\n",
    "\n",
    "df1, df2 = create_df([file1, file2])\n",
    "print(files_dict[key][1].replace(work_dir,\"\"),'||', files_dict[key][2].replace(work_dir,\"\"))\n",
    "gdf_viewer(df1, rows=3, un_val='ID', view=t), gdf_viewer(df2, rows=3, un_val='ID', view=t)"
   ]
  },
  {
   "cell_type": "code",
   "execution_count": null,
   "id": "4438eb0a",
   "metadata": {},
   "outputs": [],
   "source": [
    "fix_duplicates(df1, df2)"
   ]
  },
  {
   "cell_type": "code",
   "execution_count": null,
   "id": "cc01f4ba",
   "metadata": {},
   "outputs": [],
   "source": [
    "gdf_viewer(df1, rows=3, un_val='ID', view=t), gdf_viewer(df2, rows=3, un_val='ID', view=t)"
   ]
  },
  {
   "cell_type": "raw",
   "id": "ee92527f",
   "metadata": {},
   "source": [
    "df1 = df1[['ID', 'X', 'Y', 'Type']].copy()"
   ]
  },
  {
   "cell_type": "code",
   "execution_count": null,
   "id": "2a876773",
   "metadata": {},
   "outputs": [],
   "source": [
    "df1.rename(columns={'Profondeur':'Long_for'}, inplace=True)\n",
    "df2.rename(columns={'Profondeur':'Long_for'}, inplace=True)"
   ]
  },
  {
   "cell_type": "raw",
   "id": "9f4d4ead",
   "metadata": {},
   "source": [
    "df1, check = gdf_filter(df1, position=True, id_col='ID', expression='sup|prof', dist_max=1, drop=True)"
   ]
  },
  {
   "cell_type": "raw",
   "id": "3f8c508b",
   "metadata": {},
   "source": [
    "df1.ID=df1.ID.apply(lambda x: 'F'+x)"
   ]
  },
  {
   "cell_type": "raw",
   "id": "e3c9a958",
   "metadata": {},
   "source": [
    "gdf_viewer(df1, rows=5, un_val='ID', view=t)"
   ]
  },
  {
   "cell_type": "code",
   "execution_count": null,
   "id": "c62db9a0",
   "metadata": {
    "scrolled": true
   },
   "outputs": [],
   "source": [
    "test, conf_test=gdf_merger(df1, df2, how=how[1], on='new_ID', dist_max=1)"
   ]
  },
  {
   "cell_type": "code",
   "execution_count": null,
   "id": "ae5de985",
   "metadata": {
    "scrolled": false
   },
   "outputs": [],
   "source": [
    "if len(conf_test) > 0:\n",
    "    gdf_viewer(conf_test, rows=10, un_val='new_ID', view=t)"
   ]
  },
  {
   "cell_type": "code",
   "execution_count": null,
   "id": "3118a521",
   "metadata": {},
   "outputs": [],
   "source": [
    "gdf_viewer(test, rows=10, un_val='ID', view=t)"
   ]
  },
  {
   "cell_type": "code",
   "execution_count": null,
   "id": "da255b3e",
   "metadata": {},
   "outputs": [],
   "source": [
    "pause"
   ]
  },
  {
   "cell_type": "raw",
   "id": "b320e1cb",
   "metadata": {},
   "source": [
    "mdf['Long_for'] = mdf[['Profondeur', 'Long_for']].apply(lambda x: x[0] if pd.isnull(x[1]) else x[1], axis=1)\n",
    "mdf.drop(columns=['Profondeur'], inplace=True)"
   ]
  },
  {
   "cell_type": "markdown",
   "id": "cd3980b3",
   "metadata": {},
   "source": [
    "###  °°°°°°°°°°°°°°°°°°°°°°°°°°°°°°°°°°°°°°°°°°°°°°°°°°°°°°°°°°°°°°°°°°°°°°°°°°°°°°°°°°°°°°°°°"
   ]
  },
  {
   "cell_type": "raw",
   "id": "607b6a93",
   "metadata": {},
   "source": [
    "files_dict[key]"
   ]
  },
  {
   "cell_type": "raw",
   "id": "5eb7976f",
   "metadata": {},
   "source": [
    "ext_df = pd.read_csv(files_dict['Boreholes'][2], delimiter=',')\n",
    "gdf_viewer(ext_df, rows=3, un_val='ID', view=t)"
   ]
  },
  {
   "cell_type": "raw",
   "id": "f3780eb9",
   "metadata": {
    "scrolled": false
   },
   "source": [
    "df1 = pd.read_csv(files_dict[key][0], delimiter=',')\n",
    "df2 = pd.read_csv(files_dict[key][2], delimiter=',')\n",
    "gdf_viewer(df1, rows=3, un_val='ID', view=t), gdf_viewer(df2, rows=3, un_val='ID', view=t)"
   ]
  },
  {
   "cell_type": "raw",
   "id": "e6c765d0",
   "metadata": {
    "scrolled": false
   },
   "source": [
    "mdf, conflict_df=gdf_merger(df1, df2, how=how[1], on='ID', dist_max=2)\n",
    "gdf_viewer(mdf, rows=3, cols=13, un_val='ID', view=f)"
   ]
  },
  {
   "cell_type": "markdown",
   "id": "3b492c57",
   "metadata": {},
   "source": [
    "# Measures"
   ]
  },
  {
   "cell_type": "markdown",
   "id": "030e1523",
   "metadata": {},
   "source": [
    "Some corrections todo in 'data organization':\n",
    "- file 0 and file 1 are the same in result (check it)"
   ]
  },
  {
   "cell_type": "raw",
   "id": "f766eb31",
   "metadata": {},
   "source": [
    "key='Measures'\n",
    "coi=['ID','ID_date','X','Y','Z','Type','Long_for','Diam_for','Refus'] #columns of interest\n",
    "print(len(files_dict[key]), 'files')"
   ]
  },
  {
   "cell_type": "code",
   "execution_count": null,
   "id": "779f0afe",
   "metadata": {},
   "outputs": [],
   "source": [
    "files_dict[key]"
   ]
  },
  {
   "cell_type": "raw",
   "id": "68c33d6d",
   "metadata": {},
   "source": [
    "ext_df = pd.read_csv(files_dict['Boreholes'][2], delimiter=',')\n",
    "gdf_viewer(ext_df, rows=3, un_val='ID', view=t)"
   ]
  },
  {
   "cell_type": "raw",
   "id": "571e3d3a",
   "metadata": {
    "scrolled": false
   },
   "source": [
    "df1 = pd.read_csv(files_dict[key][0], delimiter=',')\n",
    "df2 = pd.read_csv(files_dict[key][2], delimiter=',')\n",
    "gdf_viewer(df1, rows=3, un_val='ID', view=t), gdf_viewer(df2, rows=3, un_val='ID', view=t)"
   ]
  },
  {
   "cell_type": "raw",
   "id": "688152d8",
   "metadata": {
    "scrolled": false
   },
   "source": [
    "mdf, conflict_df=gdf_merger(df1, df2, how=how[1], on='ID', dist_max=2)\n",
    "gdf_viewer(mdf, rows=3, cols=13, un_val='ID', view=f)"
   ]
  },
  {
   "cell_type": "markdown",
   "id": "fb2aa043",
   "metadata": {},
   "source": [
    "# Analysis"
   ]
  },
  {
   "cell_type": "markdown",
   "id": "856bb3e2",
   "metadata": {},
   "source": [
    "Some corrections todo in 'data organization':\n",
    "- file 0 and file 1 are the same in result (check it)"
   ]
  },
  {
   "cell_type": "raw",
   "id": "b365494e",
   "metadata": {},
   "source": [
    "key='Analysis'\n",
    "coi=['ID','ID_date','X','Y','Z','Type','Long_for','Diam_for','Refus'] #columns of interest\n",
    "print(len(files_dict[key]), 'files')"
   ]
  },
  {
   "cell_type": "code",
   "execution_count": null,
   "id": "7d28406d",
   "metadata": {},
   "outputs": [],
   "source": [
    "files_dict[key]"
   ]
  },
  {
   "cell_type": "raw",
   "id": "c91a6201",
   "metadata": {},
   "source": [
    "ext_df = pd.read_csv(files_dict['Boreholes'][2], delimiter=',')\n",
    "gdf_viewer(ext_df, rows=3, un_val='ID', view=t)"
   ]
  },
  {
   "cell_type": "raw",
   "id": "bd94ba59",
   "metadata": {
    "scrolled": false
   },
   "source": [
    "df1 = pd.read_csv(files_dict[key][0], delimiter=',')\n",
    "df2 = pd.read_csv(files_dict[key][2], delimiter=',')\n",
    "gdf_viewer(df1, rows=3, un_val='ID', view=t), gdf_viewer(df2, rows=3, un_val='ID', view=t)"
   ]
  },
  {
   "cell_type": "raw",
   "id": "e7660106",
   "metadata": {
    "scrolled": false
   },
   "source": [
    "mdf, conflict_df=gdf_merger(df1, df2, how=how[1], on='ID', dist_max=2)\n",
    "gdf_viewer(mdf, rows=3, cols=13, un_val='ID', view=f)"
   ]
  },
  {
   "cell_type": "markdown",
   "id": "9f35fb49",
   "metadata": {},
   "source": [
    "# Piezometers"
   ]
  },
  {
   "cell_type": "code",
   "execution_count": null,
   "id": "impressive-spouse",
   "metadata": {},
   "outputs": [],
   "source": [
    "key='Piezometer'\n",
    "save_file = f'Merged_Piezometers.csv'\n",
    "coi=['ID','ID_date','X','Y','Z','Type','Long_for','Diam_for','Refus'] #columns of interest\n",
    "dataset = pd.DataFrame()\n",
    "print(len(files_dict[key]), 'files')"
   ]
  },
  {
   "cell_type": "code",
   "execution_count": null,
   "id": "db48b5e8",
   "metadata": {},
   "outputs": [],
   "source": [
    "files_dict[key]"
   ]
  },
  {
   "cell_type": "code",
   "execution_count": null,
   "id": "e8bad474",
   "metadata": {
    "scrolled": true
   },
   "outputs": [],
   "source": [
    "dataset_overview(files_dict[key])"
   ]
  },
  {
   "cell_type": "markdown",
   "id": "a457ac6b",
   "metadata": {},
   "source": [
    "#### $\\color{green}{\\textbf{Read and merge}}$"
   ]
  },
  {
   "cell_type": "code",
   "execution_count": null,
   "id": "a8c1475e",
   "metadata": {
    "scrolled": false
   },
   "outputs": [],
   "source": [
    "file1= work_dir + 'Phase_1_Memoris/Result_eau_Piezometers.csv' # 2\n",
    "file2= work_dir + 'Memoris_seafile/Result_eau_Piezometers.csv' # 1  \n",
    "\n",
    "\n",
    "df1, df2 = create_df([file1, file2])\n",
    "gdf_viewer(df1, rows=3, un_val='ID', view=t), gdf_viewer(df2, rows=3, un_val='ID', view=t)"
   ]
  },
  {
   "cell_type": "code",
   "execution_count": null,
   "id": "aba3d71c",
   "metadata": {},
   "outputs": [],
   "source": [
    "fix_duplicates(df1, df2, drop_old_id=True)"
   ]
  },
  {
   "cell_type": "code",
   "execution_count": null,
   "id": "7de44a63",
   "metadata": {
    "scrolled": true
   },
   "outputs": [],
   "source": [
    "mdf, conflict_df=gdf_merger(df1, df2, how=how[1], on='ID', dist_max=1)"
   ]
  },
  {
   "cell_type": "markdown",
   "id": "1b144272",
   "metadata": {},
   "source": [
    "#### First object dataset save"
   ]
  },
  {
   "cell_type": "code",
   "execution_count": null,
   "id": "d90786e2",
   "metadata": {},
   "outputs": [],
   "source": [
    "dataset = mdf.copy() #saving"
   ]
  },
  {
   "cell_type": "raw",
   "id": "3ca99cf7",
   "metadata": {
    "scrolled": true
   },
   "source": [
    "gdf_viewer(dataset, rows=3, un_val='ID', view=t)"
   ]
  },
  {
   "cell_type": "markdown",
   "id": "b20fa9c5",
   "metadata": {},
   "source": [
    "#### $\\color{green}{\\textbf{Read and merge}}$"
   ]
  },
  {
   "cell_type": "code",
   "execution_count": null,
   "id": "19d1144b",
   "metadata": {
    "scrolled": false
   },
   "outputs": [],
   "source": [
    "file1= work_dir + 'database_Memoris3/Donnees_piezos_Piezometers.csv' # 4\n",
    "file2= work_dir + 'Liste_XY/Sol_Eau_Piezometers.csv' # 0  \n",
    "\n",
    "\n",
    "df1, df2 = create_df([file1, file2])\n",
    "gdf_viewer(df1, rows=3, un_val='ID', view=t), gdf_viewer(df2, rows=3, un_val='ID', view=t)"
   ]
  },
  {
   "cell_type": "code",
   "execution_count": null,
   "id": "ffbe83a5",
   "metadata": {},
   "outputs": [],
   "source": [
    "df1, check = gdf_filter(df1, position=True, id_col='ID', expression='sup|prof', dist_max=1, drop=True, drop_old_id=True)"
   ]
  },
  {
   "cell_type": "code",
   "execution_count": null,
   "id": "ccb34ec6",
   "metadata": {},
   "outputs": [],
   "source": [
    "df2, check = gdf_filter(df2, position=True, id_col='ID', expression='sup|prof', dist_max=1, drop=True)"
   ]
  },
  {
   "cell_type": "code",
   "execution_count": null,
   "id": "2ab30920",
   "metadata": {},
   "outputs": [],
   "source": [
    "df2"
   ]
  },
  {
   "cell_type": "code",
   "execution_count": null,
   "id": "aca154f6",
   "metadata": {},
   "outputs": [],
   "source": [
    "fix_duplicates(df1, df2)"
   ]
  },
  {
   "cell_type": "code",
   "execution_count": null,
   "id": "fee6d13a",
   "metadata": {
    "scrolled": true
   },
   "outputs": [],
   "source": [
    "mdf, conflict_df=gdf_merger(df1, df2, how=how[1], on='ID', dist_max=1)"
   ]
  },
  {
   "cell_type": "markdown",
   "id": "8db0ebd9",
   "metadata": {},
   "source": [
    "#### $\\color{blue}{\\textbf{Manage conflicts}}$"
   ]
  },
  {
   "cell_type": "code",
   "execution_count": null,
   "id": "d004cbd2",
   "metadata": {
    "scrolled": true
   },
   "outputs": [],
   "source": [
    "conflict_df"
   ]
  },
  {
   "cell_type": "code",
   "execution_count": null,
   "id": "9c0a61e6",
   "metadata": {},
   "outputs": [],
   "source": [
    "data_validation(overall_data=mdf, conflict_data=conflict_df, index_col='index', \n",
    "                valid_dict={'Nappe_y':list(conflict_df.index)[:18]})"
   ]
  },
  {
   "cell_type": "code",
   "execution_count": null,
   "id": "86e97ea2",
   "metadata": {
    "scrolled": true
   },
   "outputs": [],
   "source": [
    "conflict_df"
   ]
  },
  {
   "cell_type": "markdown",
   "id": "60bdca97",
   "metadata": {},
   "source": [
    "#### Merge with object dataset"
   ]
  },
  {
   "cell_type": "code",
   "execution_count": null,
   "id": "a9294e8e",
   "metadata": {
    "scrolled": true
   },
   "outputs": [],
   "source": [
    "dataset, conflict_df=gdf_merger(dataset, mdf, how=how[1], on='ID', dist_max=1)"
   ]
  },
  {
   "cell_type": "code",
   "execution_count": null,
   "id": "0db2f535",
   "metadata": {},
   "outputs": [],
   "source": [
    "if 'level_0' in dataset.columns:\n",
    "    if 'index' in dataset.columns:\n",
    "        dataset.drop(columns='index', inplace=True)\n",
    "    dataset.rename(columns={'level_0':'index'}, inplace=True)"
   ]
  },
  {
   "cell_type": "code",
   "execution_count": null,
   "id": "33010411",
   "metadata": {
    "scrolled": true
   },
   "outputs": [],
   "source": [
    "gdf_viewer(dataset, rows=10, un_val='ID', view=t)"
   ]
  },
  {
   "cell_type": "markdown",
   "id": "321cd531",
   "metadata": {},
   "source": [
    "#### $\\color{green}{\\textbf{Read and merge}}$"
   ]
  },
  {
   "cell_type": "code",
   "execution_count": null,
   "id": "32c1e855",
   "metadata": {},
   "outputs": [],
   "source": [
    "a, b = 3, 5\n",
    "file1= files_dict[key][a]\n",
    "file2= files_dict[key][b]\n",
    "print(files_dict[key][a].replace(work_dir,\"\"),'||', files_dict[key][b].replace(work_dir,\"\"))"
   ]
  },
  {
   "cell_type": "code",
   "execution_count": null,
   "id": "0a3cd181",
   "metadata": {
    "scrolled": false
   },
   "outputs": [],
   "source": [
    "file1= work_dir + 'Phase_2_Memoris/Result_eau_Piezometers.csv' # 3\n",
    "file2= work_dir + 'database_Memoris3/Drains_Pz_ENEL_Piezometers.csv' # 5  \n",
    "\n",
    "\n",
    "df1, df2 = create_df([file1, file2])\n",
    "gdf_viewer(df1, rows=3, un_val='ID', view=t), gdf_viewer(df2, rows=3, un_val='ID', view=t)"
   ]
  },
  {
   "cell_type": "code",
   "execution_count": null,
   "id": "78549fa1",
   "metadata": {
    "scrolled": true
   },
   "outputs": [],
   "source": [
    "mdf, conflict_df=gdf_merger(df1, df2, how=how[1], on='ID', dist_max=1)"
   ]
  },
  {
   "cell_type": "markdown",
   "id": "ff4c8590",
   "metadata": {},
   "source": [
    "#### Merge with object dataset"
   ]
  },
  {
   "cell_type": "code",
   "execution_count": null,
   "id": "7e9cb072",
   "metadata": {
    "scrolled": true
   },
   "outputs": [],
   "source": [
    "dataset, conflict_df=gdf_merger(dataset, mdf, how=how[1], on='ID', dist_max=1)"
   ]
  },
  {
   "cell_type": "code",
   "execution_count": null,
   "id": "2b3c0457",
   "metadata": {},
   "outputs": [],
   "source": [
    "if 'level_0' in dataset.columns:\n",
    "    if 'index' in dataset.columns:\n",
    "        dataset.drop(columns='index', inplace=True)\n",
    "    dataset.rename(columns={'level_0':'index'}, inplace=True)"
   ]
  },
  {
   "cell_type": "code",
   "execution_count": null,
   "id": "b3621f91",
   "metadata": {
    "scrolled": false
   },
   "outputs": [],
   "source": [
    "gdf_viewer(dataset, rows=10, un_val='ID', view=t)"
   ]
  },
  {
   "cell_type": "markdown",
   "id": "506e15b2",
   "metadata": {},
   "source": [
    "#### $\\color{green}{\\textbf{Read and merge}}$"
   ]
  },
  {
   "cell_type": "code",
   "execution_count": null,
   "id": "bc90adef",
   "metadata": {
    "scrolled": false
   },
   "outputs": [],
   "source": [
    "file1= work_dir + 'donnees_terrain_2019/Donnees_forage_Piezometers.csv' # 9\n",
    "file2= work_dir + 'database_Memoris3/Result_eau_Piezometers.csv' # 7  \n",
    "\n",
    "df1, df2 = create_df([file1, file2])\n",
    "gdf_viewer(df1, rows=3, un_val='ID', view=t), gdf_viewer(df2, rows=3, un_val='ID', view=t)"
   ]
  },
  {
   "cell_type": "code",
   "execution_count": null,
   "id": "1162d33a",
   "metadata": {},
   "outputs": [],
   "source": [
    "df1.ID = df1.ID.astype(str)\n",
    "df2.ID = df2.ID.astype(str)"
   ]
  },
  {
   "cell_type": "code",
   "execution_count": null,
   "id": "faf68986",
   "metadata": {},
   "outputs": [],
   "source": [
    "df2, check = gdf_filter(df2, position=True, id_col='ID', expression='sup|prof', dist_max=1, val_max=1.1, drop=True, drop_old_id=True)"
   ]
  },
  {
   "cell_type": "code",
   "execution_count": null,
   "id": "e15bc2b1",
   "metadata": {
    "scrolled": false
   },
   "outputs": [],
   "source": [
    "gdf_viewer(df2, rows=10, un_val='ID', view=t)"
   ]
  },
  {
   "cell_type": "code",
   "execution_count": null,
   "id": "ef9002dc",
   "metadata": {},
   "outputs": [],
   "source": [
    "fix_duplicates(df1, df2)"
   ]
  },
  {
   "cell_type": "code",
   "execution_count": null,
   "id": "b73676a0",
   "metadata": {
    "scrolled": true
   },
   "outputs": [],
   "source": [
    "mdf, conflict_df=gdf_merger(df1, df2, how=how[1], on='ID', dist_max=1)"
   ]
  },
  {
   "cell_type": "markdown",
   "id": "2ec17765",
   "metadata": {},
   "source": [
    "#### Merge with object dataset"
   ]
  },
  {
   "cell_type": "code",
   "execution_count": null,
   "id": "1334c6fd",
   "metadata": {
    "scrolled": true
   },
   "outputs": [],
   "source": [
    "dataset, conflict_df=gdf_merger(dataset, mdf, how=how[1], on='ID', dist_max=1)"
   ]
  },
  {
   "cell_type": "markdown",
   "id": "08568926",
   "metadata": {},
   "source": [
    "#### $\\color{blue}{\\textbf{Manage conflicts}}$"
   ]
  },
  {
   "cell_type": "code",
   "execution_count": null,
   "id": "ab36d499",
   "metadata": {
    "scrolled": true
   },
   "outputs": [],
   "source": [
    "conflict_df"
   ]
  },
  {
   "cell_type": "code",
   "execution_count": null,
   "id": "463d1e9d",
   "metadata": {},
   "outputs": [],
   "source": [
    "data_validation(overall_data=mdf, conflict_data=conflict_df, index_col='index', \n",
    "                valid_dict={'Nappe_y':list(conflict_df.index)[:18]})"
   ]
  },
  {
   "cell_type": "code",
   "execution_count": null,
   "id": "d7ac9fbd",
   "metadata": {
    "scrolled": true
   },
   "outputs": [],
   "source": [
    "conflict_df"
   ]
  },
  {
   "cell_type": "code",
   "execution_count": null,
   "id": "12214cad",
   "metadata": {},
   "outputs": [],
   "source": [
    "if 'level_0' in dataset.columns:\n",
    "    if 'index' in dataset.columns:\n",
    "        dataset.drop(columns='index', inplace=True)\n",
    "    dataset.rename(columns={'level_0':'index'}, inplace=True)"
   ]
  },
  {
   "cell_type": "code",
   "execution_count": null,
   "id": "40ec55cd",
   "metadata": {
    "scrolled": true
   },
   "outputs": [],
   "source": [
    "gdf_viewer(dataset, rows=10, un_val='ID', view=t)"
   ]
  },
  {
   "cell_type": "markdown",
   "id": "f77a82bc",
   "metadata": {},
   "source": [
    "#### $\\color{green}{\\textbf{Read and merge}}$"
   ]
  },
  {
   "cell_type": "code",
   "execution_count": null,
   "id": "bf35ae85",
   "metadata": {},
   "outputs": [],
   "source": [
    "a, b = 13, 15\n",
    "file1= files_dict[key][a]\n",
    "file2= files_dict[key][b]\n",
    "print(files_dict[key][a].replace(work_dir,\"\"),'||', files_dict[key][b].replace(work_dir,\"\"))"
   ]
  },
  {
   "cell_type": "code",
   "execution_count": null,
   "id": "a7f91eaf",
   "metadata": {
    "scrolled": false
   },
   "outputs": [],
   "source": [
    "#file1= work_dir + 'donnees_terrain_2019/Donnees_forage_Piezometers.csv' # 9\n",
    "#file2= work_dir + 'database_Memoris3/Result_eau_Piezometers.csv' # 7  \n",
    "\n",
    "df1, df2 = create_df([file1, file2])\n",
    "gdf_viewer(df1, rows=3, un_val='ID', view=t), gdf_viewer(df2, rows=3, un_val='ID', view=t)"
   ]
  },
  {
   "cell_type": "code",
   "execution_count": null,
   "id": "11d18af2",
   "metadata": {},
   "outputs": [],
   "source": [
    "fix_duplicates(df1, df2)"
   ]
  },
  {
   "cell_type": "code",
   "execution_count": null,
   "id": "a7466c3f",
   "metadata": {
    "scrolled": true
   },
   "outputs": [],
   "source": [
    "mdf, conflict_df=gdf_merger(df1, df2, how=how[1], on='ID', dist_max=1)"
   ]
  },
  {
   "cell_type": "markdown",
   "id": "1c5b808d",
   "metadata": {},
   "source": [
    "#### Merge with object dataset"
   ]
  },
  {
   "cell_type": "code",
   "execution_count": null,
   "id": "f061519a",
   "metadata": {
    "scrolled": true
   },
   "outputs": [],
   "source": [
    "dataset, conflict_df=gdf_merger(dataset, mdf, how=how[1], on='ID', dist_max=1)"
   ]
  },
  {
   "cell_type": "markdown",
   "id": "83d99e22",
   "metadata": {},
   "source": [
    "#### $\\color{blue}{\\textbf{Manage conflicts}}$"
   ]
  },
  {
   "cell_type": "code",
   "execution_count": null,
   "id": "50e1c153",
   "metadata": {
    "scrolled": true
   },
   "outputs": [],
   "source": [
    "conflict_df # i think there are not the same, but no date or postition to distinguish them !\n",
    "# --> check boreholes sheets (pdf)"
   ]
  },
  {
   "cell_type": "raw",
   "id": "6d76183f",
   "metadata": {},
   "source": [
    "data_validation(dataset, conflict_df, on='ID', col='Long_for', idx_list=[], valid_col='Long_for_y' )"
   ]
  },
  {
   "cell_type": "code",
   "execution_count": null,
   "id": "dac74716",
   "metadata": {
    "scrolled": true
   },
   "outputs": [],
   "source": [
    "gdf_viewer(dataset, rows=3, un_val='ID', view=t)"
   ]
  },
  {
   "cell_type": "markdown",
   "id": "86d03f71",
   "metadata": {},
   "source": [
    "####  $\\color{red}{\\textbf{Save final object dataset}}$"
   ]
  },
  {
   "cell_type": "code",
   "execution_count": null,
   "id": "4c1a1705",
   "metadata": {},
   "outputs": [],
   "source": [
    "if 'index' in piezometers.columns:\n",
    "    piezometers.drop(columns='index', inplace=True)"
   ]
  },
  {
   "cell_type": "code",
   "execution_count": null,
   "id": "c0e37cba",
   "metadata": {},
   "outputs": [],
   "source": [
    "if not os.path.exists(save_dir):\n",
    "    os.makedirs(save_dir)\n",
    "    \n",
    "piezometers.to_csv(save_dir + save_file, index=False)"
   ]
  },
  {
   "cell_type": "markdown",
   "id": "65473a70",
   "metadata": {},
   "source": [
    "###  ------------------------------------- Testing area ------------------------------"
   ]
  },
  {
   "cell_type": "markdown",
   "id": "66452013",
   "metadata": {},
   "source": [
    "#### $\\color{green}{\\textbf{Read and merge}}$"
   ]
  },
  {
   "cell_type": "code",
   "execution_count": null,
   "id": "a39f5566",
   "metadata": {
    "scrolled": false
   },
   "outputs": [],
   "source": [
    "a, b = 4, 0\n",
    "file1= files_dict[key][a]\n",
    "file2= files_dict[key][b]\n",
    "print(files_dict[key][a].replace(work_dir,\"\"),'||', files_dict[key][b].replace(work_dir,\"\"))\n",
    "#file1= work_dir + 'database_Memoris3/Donnees_piezos_Piezometers.csv' # 4\n",
    "#file2= work_dir + 'Liste_XY/Sol_Eau_Piezometers.csv' # 0  \n",
    "\n",
    "\n",
    "df1, df2 = create_df([file1, file2])\n",
    "gdf_viewer(df1, rows=3, un_val='ID', view=t), gdf_viewer(df2, rows=3, un_val='ID', view=t)"
   ]
  },
  {
   "cell_type": "markdown",
   "id": "32889d48",
   "metadata": {},
   "source": [
    "#### $\\color{blue}{\\textbf{Manage conflicts}}$"
   ]
  },
  {
   "cell_type": "raw",
   "id": "24d4a181",
   "metadata": {
    "scrolled": true
   },
   "source": [
    "conflict_df"
   ]
  },
  {
   "cell_type": "raw",
   "id": "652574f4",
   "metadata": {},
   "source": [
    "data_validation(overall_data=mdf, conflict_data=conflict_df, index_col='index', \n",
    "                valid_dict={'Old_ID_x':list(conflict_df.index)})"
   ]
  },
  {
   "cell_type": "code",
   "execution_count": null,
   "id": "a0dfa3fd",
   "metadata": {
    "scrolled": false
   },
   "outputs": [],
   "source": [
    "file1= files_dict[key][0]\n",
    "file2= files_dict[key][3]\n",
    "\n",
    "df1, df2 = create_df([file1, file2])\n",
    "print(files_dict[key][1].replace(work_dir,\"\"),'||', files_dict[key][2].replace(work_dir,\"\"))\n",
    "gdf_viewer(df1, rows=3, un_val='ID', view=t), gdf_viewer(df2, rows=3, un_val='ID', view=t)"
   ]
  },
  {
   "cell_type": "code",
   "execution_count": null,
   "id": "58b45c25",
   "metadata": {},
   "outputs": [],
   "source": [
    "fix_duplicates(df1, df2)"
   ]
  },
  {
   "cell_type": "code",
   "execution_count": null,
   "id": "f550fc6d",
   "metadata": {},
   "outputs": [],
   "source": [
    "gdf_viewer(df1, rows=3, un_val='ID', view=t), gdf_viewer(df2, rows=3, un_val='ID', view=t)"
   ]
  },
  {
   "cell_type": "raw",
   "id": "d6cdcc28",
   "metadata": {},
   "source": [
    "df1 = df1[['ID', 'X', 'Y', 'Type']].copy()"
   ]
  },
  {
   "cell_type": "code",
   "execution_count": null,
   "id": "05bf4a9f",
   "metadata": {},
   "outputs": [],
   "source": [
    "df1.rename(columns={'Profondeur':'Long_for'}, inplace=True)\n",
    "df2.rename(columns={'Profondeur':'Long_for'}, inplace=True)"
   ]
  },
  {
   "cell_type": "raw",
   "id": "6f5f3756",
   "metadata": {},
   "source": [
    "df1, check = gdf_filter(df1, position=True, id_col='ID', expression='sup|prof', dist_max=1, drop=True)"
   ]
  },
  {
   "cell_type": "raw",
   "id": "96028ea9",
   "metadata": {},
   "source": [
    "df1.ID=df1.ID.apply(lambda x: 'F'+x)"
   ]
  },
  {
   "cell_type": "raw",
   "id": "3a243211",
   "metadata": {},
   "source": [
    "gdf_viewer(df1, rows=5, un_val='ID', view=t)"
   ]
  },
  {
   "cell_type": "code",
   "execution_count": null,
   "id": "0bb7d51f",
   "metadata": {
    "scrolled": true
   },
   "outputs": [],
   "source": [
    "test, conf_test=gdf_merger(df1, df2, how=how[1], on='new_ID', dist_max=1)"
   ]
  },
  {
   "cell_type": "code",
   "execution_count": null,
   "id": "d0ba3c5d",
   "metadata": {
    "scrolled": false
   },
   "outputs": [],
   "source": [
    "if len(conf_test) > 0:\n",
    "    gdf_viewer(conf_test, rows=10, un_val='new_ID', view=t)"
   ]
  },
  {
   "cell_type": "code",
   "execution_count": null,
   "id": "41c80a0f",
   "metadata": {},
   "outputs": [],
   "source": [
    "gdf_viewer(test, rows=10, un_val='ID', view=t)"
   ]
  },
  {
   "cell_type": "code",
   "execution_count": null,
   "id": "e213c80b",
   "metadata": {},
   "outputs": [],
   "source": [
    "pause"
   ]
  },
  {
   "cell_type": "raw",
   "id": "951a3715",
   "metadata": {},
   "source": [
    "mdf['Long_for'] = mdf[['Profondeur', 'Long_for']].apply(lambda x: x[0] if pd.isnull(x[1]) else x[1], axis=1)\n",
    "mdf.drop(columns=['Profondeur'], inplace=True)"
   ]
  },
  {
   "cell_type": "markdown",
   "id": "9dd18270",
   "metadata": {},
   "source": [
    "###  °°°°°°°°°°°°°°°°°°°°°°°°°°°°°°°°°°°°°°°°°°°°°°°°°°°°°°°°°°°°°°°°°°°°°°°°°°°°°°°°°°°°°°°°°"
   ]
  },
  {
   "cell_type": "code",
   "execution_count": null,
   "id": "085db48f",
   "metadata": {
    "scrolled": false
   },
   "outputs": [],
   "source": [
    "file1= files_dict[key][6]\n",
    "file2= files_dict[key][4]\n",
    "\n",
    "df1, df2 = create_df([file1, file2])\n",
    "gdf_viewer(df1, rows=3, un_val='ID', view=t), gdf_viewer(df2, rows=3, un_val='ID', view=t)"
   ]
  },
  {
   "cell_type": "code",
   "execution_count": null,
   "id": "printable-centre",
   "metadata": {
    "scrolled": false
   },
   "outputs": [],
   "source": [
    "file1= files_dict[key][0]\n",
    "file2= files_dict[key][1]\n",
    "\n",
    "df1, df2 = create_df([file1, file2])\n",
    "gdf_viewer(df1, rows=3, un_val='ID', view=t), gdf_viewer(df2, rows=3, un_val='ID', view=t)"
   ]
  },
  {
   "cell_type": "code",
   "execution_count": null,
   "id": "hydraulic-karen",
   "metadata": {},
   "outputs": [],
   "source": [
    "mdf, conflict_df=gdf_merger(df1, df2, how=how[1], on='ID', dist_max=1)\n",
    "check_col(mdf)"
   ]
  },
  {
   "cell_type": "markdown",
   "id": "juvenile-garden",
   "metadata": {},
   "source": [
    "##### check and validate duplicate objects\n",
    "- The function \"gdf_filter()\" doesn't work in some cases, so we use function \"doubled_objects_check()\"\n",
    "- we have same objects Names but differents by positions here"
   ]
  },
  {
   "cell_type": "code",
   "execution_count": null,
   "id": "studied-township",
   "metadata": {},
   "outputs": [],
   "source": [
    "mdf, check = gdf_filter(mdf, position=True, id_on='ID', expression='sup|prof', dist_max=1, drop=True, rapp_val=1)"
   ]
  },
  {
   "cell_type": "code",
   "execution_count": null,
   "id": "magnetic-piano",
   "metadata": {},
   "outputs": [],
   "source": [
    "double_objects_check(mdf)"
   ]
  },
  {
   "cell_type": "code",
   "execution_count": null,
   "id": "vietnamese-disclosure",
   "metadata": {},
   "outputs": [],
   "source": [
    "drop_id = [2,25,30] # objects are seemingly the same, but is it possible to get 2 objects so close (~ 1m)?\n",
    "mdf.drop(index=drop_id, inplace=True)\n",
    "mdf.reset_index(drop=True, inplace=True)"
   ]
  },
  {
   "cell_type": "code",
   "execution_count": null,
   "id": "constant-county",
   "metadata": {
    "scrolled": true
   },
   "outputs": [],
   "source": [
    "gdf_viewer(mdf, rows=3, cols=13, un_val='ID', view=t)"
   ]
  },
  {
   "cell_type": "markdown",
   "id": "threaded-associate",
   "metadata": {},
   "source": [
    "#### Merge with object type dataset"
   ]
  },
  {
   "cell_type": "code",
   "execution_count": null,
   "id": "copyrighted-torture",
   "metadata": {},
   "outputs": [],
   "source": [
    "piezometers = mdf.copy() #saving"
   ]
  },
  {
   "cell_type": "code",
   "execution_count": null,
   "id": "together-burning",
   "metadata": {
    "scrolled": false
   },
   "outputs": [],
   "source": [
    "file1= files_dict[key][2]\n",
    "file2= files_dict[key][3]\n",
    "\n",
    "df1, df2 = create_df([file1, file2])\n",
    "gdf_viewer(df1, rows=3, un_val='ID', view=t), gdf_viewer(df2, rows=3, un_val='ID', view=t)"
   ]
  },
  {
   "cell_type": "code",
   "execution_count": null,
   "id": "middle-midwest",
   "metadata": {
    "scrolled": true
   },
   "outputs": [],
   "source": [
    "mdf, conflict_df=gdf_merger(df1, df2, how=how[1], on='ID', dist_max=2)\n",
    "check_col(mdf)"
   ]
  },
  {
   "cell_type": "code",
   "execution_count": null,
   "id": "breathing-chicago",
   "metadata": {
    "scrolled": true
   },
   "outputs": [],
   "source": [
    "gdf_viewer(mdf, rows=3, cols=13, un_val='ID', view=f)"
   ]
  },
  {
   "cell_type": "code",
   "execution_count": null,
   "id": "caring-sentence",
   "metadata": {
    "scrolled": true
   },
   "outputs": [],
   "source": [
    "dataset, conflict_df=gdf_merger(dataset, mdf, how=how[1], on='ID', dist_max=1)\n",
    "check_col(mdf)"
   ]
  },
  {
   "cell_type": "code",
   "execution_count": null,
   "id": "stainless-tyler",
   "metadata": {
    "scrolled": true
   },
   "outputs": [],
   "source": [
    "gdf_viewer(dataset, rows=3, cols=13, un_val='ID', view=t)"
   ]
  },
  {
   "cell_type": "code",
   "execution_count": null,
   "id": "hundred-produce",
   "metadata": {},
   "outputs": [],
   "source": [
    "double_objects_check(piezometers)"
   ]
  },
  {
   "cell_type": "code",
   "execution_count": null,
   "id": "developed-functionality",
   "metadata": {},
   "outputs": [],
   "source": [
    "drop_id = [292, 293]\n",
    "piezometers.drop(index=drop_id, inplace=True)\n",
    "gdf_viewer(dataset, rows=5, un_val='ID', view=f)"
   ]
  },
  {
   "cell_type": "code",
   "execution_count": null,
   "id": "saved-shanghai",
   "metadata": {
    "scrolled": false
   },
   "outputs": [],
   "source": [
    "file1= files_dict[key][4]\n",
    "file2= files_dict[key][5]\n",
    "\n",
    "df1, df2 = create_df([file1, file2])\n",
    "gdf_viewer(df1, rows=3, un_val='ID', view=t), gdf_viewer(df2, rows=3, un_val='ID', view=t)"
   ]
  },
  {
   "cell_type": "code",
   "execution_count": null,
   "id": "controversial-seller",
   "metadata": {
    "scrolled": true
   },
   "outputs": [],
   "source": [
    "mdf, conflict_df=gdf_merger(df1, df2, how=how[1], on='ID', dist_max=2)\n",
    "check_col(mdf)"
   ]
  },
  {
   "cell_type": "code",
   "execution_count": null,
   "id": "bibliographic-essex",
   "metadata": {
    "scrolled": true
   },
   "outputs": [],
   "source": [
    "dataset, conflict_df=gdf_merger(dataset, mdf, how=how[1], on='ID', dist_max=1)\n",
    "check_col(mdf)"
   ]
  },
  {
   "cell_type": "code",
   "execution_count": null,
   "id": "opening-duplicate",
   "metadata": {
    "scrolled": true
   },
   "outputs": [],
   "source": [
    "gdf_viewer(dataset, rows=3, cols=13, un_val='ID', view=t)"
   ]
  },
  {
   "cell_type": "code",
   "execution_count": null,
   "id": "silver-recorder",
   "metadata": {},
   "outputs": [],
   "source": [
    "dataset, check = gdf_filter(dataset, position=True, id_on='ID', expression='sup|prof', dist_max=1, drop=True)\n",
    "#gdf_viewer(dataset, rows=5, un_val='ID', view=t)"
   ]
  },
  {
   "cell_type": "code",
   "execution_count": null,
   "id": "frequent-whale",
   "metadata": {
    "scrolled": true
   },
   "outputs": [],
   "source": [
    "double_objects_check(piezometers)"
   ]
  },
  {
   "cell_type": "code",
   "execution_count": null,
   "id": "attended-martin",
   "metadata": {},
   "outputs": [],
   "source": [
    "drop_id = [2,4,30,94,106]\n",
    "piezometers.drop(index=drop_id, inplace=True)\n",
    "gdf_viewer(dataset, rows=5, un_val='ID', view=f)"
   ]
  },
  {
   "cell_type": "code",
   "execution_count": null,
   "id": "hollow-differential",
   "metadata": {
    "scrolled": false
   },
   "outputs": [],
   "source": [
    "file1= files_dict[key][6]\n",
    "file2= files_dict[key][9]\n",
    "\n",
    "df1, df2 = create_df([file1, file2])\n",
    "gdf_viewer(df1, rows=3, un_val='ID', view=t), gdf_viewer(df2, rows=3, un_val='ID', view=t)"
   ]
  },
  {
   "cell_type": "code",
   "execution_count": null,
   "id": "gothic-modeling",
   "metadata": {},
   "outputs": [],
   "source": [
    "df2['ID'] = df2.ID.astype('object')"
   ]
  },
  {
   "cell_type": "code",
   "execution_count": null,
   "id": "wrong-dress",
   "metadata": {
    "scrolled": true
   },
   "outputs": [],
   "source": [
    "mdf, conflict_df=gdf_merger(df1, df2, how=how[1], on='ID', dist_max=2)\n",
    "check_col(mdf)"
   ]
  },
  {
   "cell_type": "code",
   "execution_count": null,
   "id": "acceptable-pulse",
   "metadata": {
    "scrolled": true
   },
   "outputs": [],
   "source": [
    "dataset, conflict_df=gdf_merger(dataset, mdf, how=how[1], on='ID', dist_max=1)\n",
    "check_col(mdf)"
   ]
  },
  {
   "cell_type": "code",
   "execution_count": null,
   "id": "grave-testing",
   "metadata": {
    "scrolled": true
   },
   "outputs": [],
   "source": [
    "gdf_viewer(dataset, rows=3, cols=13, un_val='ID', view=t)"
   ]
  },
  {
   "cell_type": "code",
   "execution_count": null,
   "id": "destroyed-ceramic",
   "metadata": {
    "scrolled": false
   },
   "outputs": [],
   "source": [
    "file1= files_dict[key][10]\n",
    "file2= files_dict[key][11]\n",
    "\n",
    "df1, df2 = create_df([file1, file2])\n",
    "gdf_viewer(df1, rows=3, un_val='ID', view=t), gdf_viewer(df2, rows=3, un_val='ID', view=t)"
   ]
  },
  {
   "cell_type": "code",
   "execution_count": null,
   "id": "naughty-stupid",
   "metadata": {},
   "outputs": [],
   "source": [
    "df1['ID'] = df1.ID.astype('object')"
   ]
  },
  {
   "cell_type": "code",
   "execution_count": null,
   "id": "painful-ireland",
   "metadata": {
    "scrolled": true
   },
   "outputs": [],
   "source": [
    "mdf, conflict_df=gdf_merger(df1, df2, how=how[1], on='ID', dist_max=2)\n",
    "check_col(mdf)"
   ]
  },
  {
   "cell_type": "code",
   "execution_count": null,
   "id": "current-catalog",
   "metadata": {
    "scrolled": true
   },
   "outputs": [],
   "source": [
    "dataset, conflict_df=gdf_merger(dataset, mdf, how=how[1], on='ID', dist_max=1)\n",
    "check_col(mdf)"
   ]
  },
  {
   "cell_type": "code",
   "execution_count": null,
   "id": "elementary-canvas",
   "metadata": {},
   "outputs": [],
   "source": [
    "conflict_df"
   ]
  },
  {
   "cell_type": "raw",
   "id": "architectural-battery",
   "metadata": {},
   "source": [
    "data_validation(dataset, conflict_df, on='ID', col='Diam_ext_pz', id_list=[], valid_col='Diam_ext_pz_x' )"
   ]
  },
  {
   "cell_type": "raw",
   "id": "legislative-financing",
   "metadata": {},
   "source": [
    "conflict_df"
   ]
  },
  {
   "cell_type": "code",
   "execution_count": null,
   "id": "blessed-broadcasting",
   "metadata": {
    "scrolled": true
   },
   "outputs": [],
   "source": [
    "gdf_viewer(dataset, rows=3, cols=13, un_val='ID', view=t)"
   ]
  },
  {
   "cell_type": "code",
   "execution_count": null,
   "id": "alone-reserve",
   "metadata": {
    "scrolled": false
   },
   "outputs": [],
   "source": [
    "file1= files_dict[key][12]\n",
    "file2= files_dict[key][13]\n",
    "\n",
    "df1, df2 = create_df([file1, file2])\n",
    "gdf_viewer(df1, rows=3, un_val='ID', view=t), gdf_viewer(df2, rows=3, un_val='ID', view=t)"
   ]
  },
  {
   "cell_type": "code",
   "execution_count": null,
   "id": "democratic-tuning",
   "metadata": {
    "scrolled": true
   },
   "outputs": [],
   "source": [
    "mdf, conflict_df=gdf_merger(df1, df2, how=how[1], on='ID', dist_max=2)\n",
    "check_col(mdf)"
   ]
  },
  {
   "cell_type": "code",
   "execution_count": null,
   "id": "matched-indication",
   "metadata": {},
   "outputs": [],
   "source": [
    "conflict_df"
   ]
  },
  {
   "cell_type": "raw",
   "id": "adjustable-marker",
   "metadata": {},
   "source": [
    "data_validation(dataset, conflict_df, on='ID', col='Diam_ext_pz', id_list=[], valid_col='Diam_ext_pz_x' )"
   ]
  },
  {
   "cell_type": "raw",
   "id": "realistic-myrtle",
   "metadata": {},
   "source": [
    "conflict_df"
   ]
  },
  {
   "cell_type": "code",
   "execution_count": null,
   "id": "vulnerable-geography",
   "metadata": {
    "scrolled": true
   },
   "outputs": [],
   "source": [
    "dataset, conflict_df=gdf_merger(dataset, mdf, how=how[1], on='ID', dist_max=1)\n",
    "check_col(mdf)"
   ]
  },
  {
   "cell_type": "code",
   "execution_count": null,
   "id": "brief-sheffield",
   "metadata": {
    "scrolled": true
   },
   "outputs": [],
   "source": [
    "gdf_viewer(dataset, rows=3, cols=13, un_val='ID', view=t)"
   ]
  },
  {
   "cell_type": "code",
   "execution_count": null,
   "id": "complete-stomach",
   "metadata": {
    "scrolled": false
   },
   "outputs": [],
   "source": [
    "file1= files_dict[key][14]\n",
    "file2= files_dict[key][15]\n",
    "\n",
    "df1, df2 = create_df([file1, file2])\n",
    "gdf_viewer(df1, rows=3, un_val='ID', view=t), gdf_viewer(df2, rows=3, un_val='ID', view=t)"
   ]
  },
  {
   "cell_type": "code",
   "execution_count": null,
   "id": "monthly-holder",
   "metadata": {
    "scrolled": true
   },
   "outputs": [],
   "source": [
    "mdf, conflict_df=gdf_merger(df1, df2, how=how[1], on='ID', dist_max=2)\n",
    "check_col(mdf)"
   ]
  },
  {
   "cell_type": "code",
   "execution_count": null,
   "id": "lightweight-grove",
   "metadata": {
    "scrolled": true
   },
   "outputs": [],
   "source": [
    "dataset, conflict_df=gdf_merger(dataset, mdf, how=how[1], on='ID', dist_max=1)\n",
    "check_col(mdf)"
   ]
  },
  {
   "cell_type": "code",
   "execution_count": null,
   "id": "unique-accent",
   "metadata": {},
   "outputs": [],
   "source": [
    "conflict_df"
   ]
  },
  {
   "cell_type": "raw",
   "id": "retained-marking",
   "metadata": {},
   "source": [
    "data_validation(dataset, conflict_df, on='ID', col='Diam_ext_pz', id_list=[], valid_col='Diam_ext_pz_x' )"
   ]
  },
  {
   "cell_type": "raw",
   "id": "floral-script",
   "metadata": {},
   "source": [
    "conflict_df"
   ]
  },
  {
   "cell_type": "code",
   "execution_count": null,
   "id": "favorite-lexington",
   "metadata": {
    "scrolled": true
   },
   "outputs": [],
   "source": [
    "gdf_viewer(dataset, rows=3, cols=13, un_val='ID', view=t)"
   ]
  },
  {
   "cell_type": "code",
   "execution_count": null,
   "id": "statewide-colleague",
   "metadata": {
    "scrolled": false
   },
   "outputs": [],
   "source": [
    "file1= files_dict[key][16]\n",
    "df1 = pd.read_csv(file1, delimiter=',')\n",
    "\n",
    "print(f\"df1 : {file1.replace(work_dir,'')}\")\n",
    "gdf_viewer(df1, rows=3, un_val='ID', view=t)"
   ]
  },
  {
   "cell_type": "markdown",
   "id": "interesting-stack",
   "metadata": {},
   "source": [
    "#### Last merging"
   ]
  },
  {
   "cell_type": "code",
   "execution_count": null,
   "id": "paperback-alberta",
   "metadata": {
    "scrolled": true
   },
   "outputs": [],
   "source": [
    "dataset, conflict_df=gdf_merger(dataset, df1, how=how[1], on='ID', dist_max=1)\n",
    "check_col(mdf)"
   ]
  },
  {
   "cell_type": "code",
   "execution_count": null,
   "id": "productive-nevada",
   "metadata": {},
   "outputs": [],
   "source": [
    "conflict_df"
   ]
  },
  {
   "cell_type": "raw",
   "id": "median-portrait",
   "metadata": {},
   "source": [
    "data_validation(dataset, conflict_df, on='ID', col='Diam_ext_pz', id_list=[], valid_col='Diam_ext_pz_x' )"
   ]
  },
  {
   "cell_type": "raw",
   "id": "elder-weekly",
   "metadata": {},
   "source": [
    "conflict_df"
   ]
  },
  {
   "cell_type": "code",
   "execution_count": null,
   "id": "tight-dairy",
   "metadata": {
    "scrolled": true
   },
   "outputs": [],
   "source": [
    "gdf_viewer(dataset, rows=3, cols=13, un_val='ID', view=t)"
   ]
  },
  {
   "cell_type": "raw",
   "id": "lasting-issue",
   "metadata": {},
   "source": [
    "dataset, check = gdf_filter(dataset, position=True, id_on='ID', expression='sup|prof', dist_max=1, drop=True)\n",
    "#gdf_viewer(dataset, rows=5, un_val='ID', view=t)"
   ]
  },
  {
   "cell_type": "raw",
   "id": "comparable-transformation",
   "metadata": {},
   "source": [
    "double_objects_check(piezometers)"
   ]
  },
  {
   "cell_type": "raw",
   "id": "illegal-going",
   "metadata": {},
   "source": [
    "drop_id = [2,4,30,94,106]\n",
    "piezometers.drop(index=drop_id, inplace=True)\n",
    "gdf_viewer(dataset, rows=5, un_val='ID', view=f)"
   ]
  },
  {
   "cell_type": "markdown",
   "id": "public-shock",
   "metadata": {},
   "source": [
    "####  $\\color{red}{\\textbf{Save final Piezometers data}}$"
   ]
  },
  {
   "cell_type": "code",
   "execution_count": null,
   "id": "acceptable-aluminum",
   "metadata": {},
   "outputs": [],
   "source": [
    "if not os.path.exists(save_dir):\n",
    "    os.makedirs(save_dir)\n",
    "    \n",
    "piezometers.to_csv(save_dir+save_file, index=False)"
   ]
  },
  {
   "cell_type": "markdown",
   "id": "caroline-orchestra",
   "metadata": {},
   "source": [
    "=========================================================================================================="
   ]
  },
  {
   "cell_type": "markdown",
   "id": "covered-clearance",
   "metadata": {},
   "source": [
    "# Lithologies"
   ]
  },
  {
   "cell_type": "markdown",
   "id": "sudden-timeline",
   "metadata": {},
   "source": [
    "Do not add parameter 'dist_max' when merging without considering position !!! otherwise, unuseless rows added"
   ]
  },
  {
   "cell_type": "code",
   "execution_count": null,
   "id": "qualified-smith",
   "metadata": {},
   "outputs": [],
   "source": [
    "key='Litho'\n",
    "save_file = f'Merged_Lithologies.csv'\n",
    "coi=['ID','X','Y','Z','Litho_top','Litho_base','Description']  #columns of interest\n",
    "lithologies = pd.DataFrame()\n",
    "print(len(files_dict[key]), 'files')"
   ]
  },
  {
   "cell_type": "code",
   "execution_count": null,
   "id": "d500dfd8",
   "metadata": {},
   "outputs": [],
   "source": [
    "files_dict[key]"
   ]
  },
  {
   "cell_type": "code",
   "execution_count": null,
   "id": "signed-coverage",
   "metadata": {
    "scrolled": false
   },
   "outputs": [],
   "source": [
    "file1= files_dict[key][0]\n",
    "file2= files_dict[key][3]\n",
    "\n",
    "df1, df2 = create_df([file1, file2])\n",
    "gdf_viewer(df1, rows=3, un_val='ID', view=t), gdf_viewer(df2, rows=3, un_val='ID', view=t)"
   ]
  },
  {
   "cell_type": "code",
   "execution_count": null,
   "id": "special-stevens",
   "metadata": {},
   "outputs": [],
   "source": [
    "mdf, conflict_df=gdf_merger(df1, df2, how=how[1], on='ID')#, step_merge\n",
    "check_col(mdf)"
   ]
  },
  {
   "cell_type": "code",
   "execution_count": null,
   "id": "acute-catholic",
   "metadata": {
    "scrolled": true
   },
   "outputs": [],
   "source": [
    "gdf_viewer(mdf, rows=3, cols=13, un_val='ID', view=t)"
   ]
  },
  {
   "cell_type": "code",
   "execution_count": null,
   "id": "sensitive-induction",
   "metadata": {},
   "outputs": [],
   "source": [
    "gdf_viewer(conflict_df, rows=5, un_val='ID', view=t) #conflict_df.ID.unique()"
   ]
  },
  {
   "cell_type": "code",
   "execution_count": null,
   "id": "ceramic-rating",
   "metadata": {},
   "outputs": [],
   "source": [
    "common_cols = list(set(df1.columns) & set(df2.columns))\n",
    "test1 = df1.merge(df2, how = 'inner', on='ID')\n",
    "test2 = df1.merge(df2, how = 'outer', on='ID', indicator=True).loc[lambda x : x.query('_merge ==\"right_only\" or _merge==\"left_only\"').index]\n",
    "test3 = test1.merge(test2, how = 'outer', on='ID')\n",
    "test4 = df1.merge(df2, how = 'outer', on=list(common_cols))\n",
    "print((len(test1), len(test2), len(test3)))\n",
    "gdf_viewer(test4)"
   ]
  },
  {
   "cell_type": "raw",
   "id": "wired-trade",
   "metadata": {},
   "source": [
    "data_validation(dataset, conflict_df, on='ID', col='Diam_ext_pz', id_list=[], valid_col='Diam_ext_pz_x' )"
   ]
  },
  {
   "cell_type": "raw",
   "id": "yellow-medicare",
   "metadata": {},
   "source": [
    "conflict_df"
   ]
  },
  {
   "cell_type": "code",
   "execution_count": null,
   "id": "neural-middle",
   "metadata": {},
   "outputs": [],
   "source": [
    "lithologies = mdf.copy() #saving"
   ]
  },
  {
   "cell_type": "code",
   "execution_count": null,
   "id": "detailed-manitoba",
   "metadata": {
    "scrolled": false
   },
   "outputs": [],
   "source": [
    "file1= files_dict[key][2]\n",
    "file2= files_dict[key][4]\n",
    "\n",
    "df1, df2 = create_df([file1, file2])\n",
    "gdf_viewer(df1, rows=3, un_val='ID', view=t), gdf_viewer(df2, rows=3, un_val='ID', view=t)"
   ]
  },
  {
   "cell_type": "code",
   "execution_count": null,
   "id": "accurate-money",
   "metadata": {},
   "outputs": [],
   "source": [
    "mdf, conflict_df=gdf_merger(df1, df2, how=how[1], on='ID')\n",
    "check_col(mdf)"
   ]
  },
  {
   "cell_type": "code",
   "execution_count": null,
   "id": "fresh-snake",
   "metadata": {
    "scrolled": true
   },
   "outputs": [],
   "source": [
    "gdf_viewer(mdf, rows=3, cols=13, un_val='ID', view=t)"
   ]
  },
  {
   "cell_type": "raw",
   "id": "respected-angle",
   "metadata": {},
   "source": [
    "gdf_viewer(conflict_df, rows=5, un_val='ID', view=t) #conflict_df.ID.unique()"
   ]
  },
  {
   "cell_type": "raw",
   "id": "structural-express",
   "metadata": {},
   "source": [
    "data_validation(dataset, conflict_df, on='ID', col='Diam_ext_pz', id_list=[], valid_col='Diam_ext_pz_x' )"
   ]
  },
  {
   "cell_type": "raw",
   "id": "compact-intelligence",
   "metadata": {},
   "source": [
    "conflict_df"
   ]
  },
  {
   "cell_type": "markdown",
   "id": "sensitive-preview",
   "metadata": {},
   "source": [
    "##### Lithologies merging "
   ]
  },
  {
   "cell_type": "code",
   "execution_count": null,
   "id": "horizontal-midwest",
   "metadata": {},
   "outputs": [],
   "source": [
    "lithologies, conflict_df=gdf_merger(lithologies, mdf, how=how[1], on='ID')\n",
    "check_col(mdf)"
   ]
  },
  {
   "cell_type": "code",
   "execution_count": null,
   "id": "little-responsibility",
   "metadata": {
    "scrolled": false
   },
   "outputs": [],
   "source": [
    "gdf_viewer(lithologies, rows=10, cols=15, un_val='ID', view=t)"
   ]
  },
  {
   "cell_type": "code",
   "execution_count": null,
   "id": "southern-measure",
   "metadata": {
    "scrolled": false
   },
   "outputs": [],
   "source": [
    "file1= files_dict[key][5]\n",
    "file2= files_dict[key][6]\n",
    "\n",
    "df1, df2 = create_df([file1, file2])\n",
    "gdf_viewer(df1, rows=3, un_val='ID', view=t), gdf_viewer(df2, rows=3, un_val='ID', view=t)"
   ]
  },
  {
   "cell_type": "code",
   "execution_count": null,
   "id": "sized-alcohol",
   "metadata": {},
   "outputs": [],
   "source": [
    "gdf_viewer(df1.merge(df2, how='inner', on='ID'), rows=5, cols=15, un_val='ID', view=t)"
   ]
  },
  {
   "cell_type": "code",
   "execution_count": null,
   "id": "sonic-lithuania",
   "metadata": {},
   "outputs": [],
   "source": [
    "gdf_viewer(df1.merge(df2, how = 'outer', on='ID',indicator=True), rows=5, cols=15, un_val='ID', view=t)"
   ]
  },
  {
   "cell_type": "code",
   "execution_count": null,
   "id": "considerable-medicaid",
   "metadata": {
    "scrolled": true
   },
   "outputs": [],
   "source": [
    "gdf_viewer(mdf, rows=3, cols=13, un_val='ID', view=t)"
   ]
  },
  {
   "cell_type": "code",
   "execution_count": null,
   "id": "bronze-pension",
   "metadata": {},
   "outputs": [],
   "source": [
    "mdf, conflict_df=gdf_merger(df1, df2, how=how[1], on='ID', dist_max=1)\n",
    "check_col(mdf)"
   ]
  },
  {
   "cell_type": "code",
   "execution_count": null,
   "id": "proud-ethernet",
   "metadata": {},
   "outputs": [],
   "source": [
    "gdf_viewer(conflict_df, rows=5, un_val='ID', view=t) #conflict_df.ID.unique()"
   ]
  },
  {
   "cell_type": "raw",
   "id": "initial-piano",
   "metadata": {},
   "source": [
    "data_validation(dataset, conflict_df, on='ID', col='Diam_ext_pz', id_list=[], valid_col='Diam_ext_pz_x' )"
   ]
  },
  {
   "cell_type": "raw",
   "id": "governing-spider",
   "metadata": {},
   "source": [
    "conflict_df"
   ]
  },
  {
   "cell_type": "markdown",
   "id": "foster-lodging",
   "metadata": {},
   "source": [
    "##### Lithologies merging "
   ]
  },
  {
   "cell_type": "code",
   "execution_count": null,
   "id": "solved-exhibition",
   "metadata": {},
   "outputs": [],
   "source": [
    "lithologies, conflict_df=gdf_merger(lithologies, mdf, how=how[1], on='ID', dist_max=1)\n",
    "check_col(mdf)"
   ]
  },
  {
   "cell_type": "code",
   "execution_count": null,
   "id": "documentary-flower",
   "metadata": {
    "scrolled": true
   },
   "outputs": [],
   "source": [
    "gdf_viewer(lithologies, rows=3, un_val='ID', view=t)"
   ]
  },
  {
   "cell_type": "raw",
   "id": "changing-accident",
   "metadata": {},
   "source": [
    "mdf = mdf.loc[mdf.query('Terrain==Terrain').index,:]\n",
    "mdf.drop(columns=['Terrain_x', 'Terrain_y'], inplace=True)\n",
    "mdf.reset_index(drop=True, inplace=True)"
   ]
  },
  {
   "cell_type": "raw",
   "id": "lovely-ballot",
   "metadata": {},
   "source": [
    "data = mdf.copy()\n",
    "col = 'Terrain'\n",
    "\n",
    "id_list = []\n",
    "keep_idx = []\n",
    "\n",
    "for i in data.index:\n",
    "    _id = data.loc[i,'ID']\n",
    "    if re.search(\"'\", _id): \n",
    "        _id = f\"`{_id}`\" # it doesn't work \n",
    "    else:\n",
    "        _id = f\"{_id}\"\n",
    "    \n",
    "    if _id not in id_list:\n",
    "        id_list.append(_id)\n",
    "        tmp = data[data['ID']==f\"{_id}\"]\n",
    "\n",
    "        if len(tmp) < 2 and len(tmp) > 0:\n",
    "            keep_idx = keep_idx + list(tmp.index)\n",
    "        else:\n",
    "            tmp = tmp[tmp[col]==tmp[col]]\n",
    "            keep_idx = keep_idx + list(tmp.index)\n",
    "print(keep_idx)\n",
    "    \n",
    "data = data.loc[keep_idx,:]\n",
    "data.drop(columns=[col+'_x', col+'_y'], inplace=True)\n",
    "data.reset_index(drop=True, inplace=True)"
   ]
  },
  {
   "cell_type": "raw",
   "id": "chronic-greek",
   "metadata": {},
   "source": [
    "df1.drop(columns=['Societe','Description'], inplace=True)"
   ]
  },
  {
   "cell_type": "raw",
   "id": "warming-cleaner",
   "metadata": {},
   "source": [
    "df1['X'] = df1['X'].apply(lambda v : re.sub(',','.',v) if not pd.isnull(v) else v)\n",
    "df1['Y'] = df1['Y'].apply(lambda v : re.sub(',','.',v) if not pd.isnull(v) else v)\n",
    "df1['Ep_remb'] = df1['Ep_remb'].apply(lambda v : re.sub(',','.',v) if not pd.isnull(v) else v)"
   ]
  },
  {
   "cell_type": "raw",
   "id": "governmental-spyware",
   "metadata": {},
   "source": [
    "df1['Type'] = df1['Type'].astype('object')\n",
    "df1[['X','Y','Ep_remb']] = df1[['X','Y','Ep_remb']].astype('float')"
   ]
  },
  {
   "cell_type": "code",
   "execution_count": null,
   "id": "partial-precipitation",
   "metadata": {
    "scrolled": true
   },
   "outputs": [],
   "source": [
    "stop"
   ]
  },
  {
   "cell_type": "code",
   "execution_count": null,
   "id": "plastic-applicant",
   "metadata": {},
   "outputs": [],
   "source": []
  },
  {
   "cell_type": "code",
   "execution_count": null,
   "id": "royal-counter",
   "metadata": {},
   "outputs": [],
   "source": []
  }
 ],
 "metadata": {
  "kernelspec": {
   "display_name": "Python 3",
   "language": "python",
   "name": "python3"
  },
  "language_info": {
   "codemirror_mode": {
    "name": "ipython",
    "version": 3
   },
   "file_extension": ".py",
   "mimetype": "text/x-python",
   "name": "python",
   "nbconvert_exporter": "python",
   "pygments_lexer": "ipython3",
   "version": "3.8.5"
  }
 },
 "nbformat": 4,
 "nbformat_minor": 5
}
