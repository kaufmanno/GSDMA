{
 "cells": [
  {
   "cell_type": "markdown",
   "id": "indonesian-alloy",
   "metadata": {},
   "source": [
    "# Concatenate boreholes"
   ]
  },
  {
   "cell_type": "code",
   "execution_count": 1,
   "id": "national-opera",
   "metadata": {},
   "outputs": [],
   "source": [
    "%matplotlib widget"
   ]
  },
  {
   "cell_type": "code",
   "execution_count": 2,
   "id": "sublime-ordering",
   "metadata": {},
   "outputs": [],
   "source": [
    "config Completer.use_jedi = False"
   ]
  },
  {
   "cell_type": "code",
   "execution_count": 3,
   "id": "attended-storm",
   "metadata": {},
   "outputs": [],
   "source": [
    "import datetime"
   ]
  },
  {
   "cell_type": "code",
   "execution_count": 4,
   "id": "infrared-philadelphia",
   "metadata": {},
   "outputs": [],
   "source": [
    "import numpy as np"
   ]
  },
  {
   "cell_type": "code",
   "execution_count": 5,
   "id": "naughty-clerk",
   "metadata": {},
   "outputs": [],
   "source": [
    "import geopandas as gpd\n",
    "import pandas as pd\n",
    "import matplotlib.pyplot as plt"
   ]
  },
  {
   "cell_type": "markdown",
   "id": "supposed-radiation",
   "metadata": {},
   "source": [
    "Lecture des fichiers de position des forages"
   ]
  },
  {
   "cell_type": "code",
   "execution_count": 6,
   "id": "strange-hammer",
   "metadata": {},
   "outputs": [
    {
     "data": {
      "text/html": [
       "<div>\n",
       "<style scoped>\n",
       "    .dataframe tbody tr th:only-of-type {\n",
       "        vertical-align: middle;\n",
       "    }\n",
       "\n",
       "    .dataframe tbody tr th {\n",
       "        vertical-align: top;\n",
       "    }\n",
       "\n",
       "    .dataframe thead th {\n",
       "        text-align: right;\n",
       "    }\n",
       "</style>\n",
       "<table border=\"1\" class=\"dataframe\">\n",
       "  <thead>\n",
       "    <tr style=\"text-align: right;\">\n",
       "      <th></th>\n",
       "      <th>Id</th>\n",
       "      <th>Type</th>\n",
       "      <th>Pilote</th>\n",
       "      <th>Ref</th>\n",
       "      <th>diam</th>\n",
       "      <th>Valid</th>\n",
       "      <th>Syscal</th>\n",
       "      <th>Impo</th>\n",
       "      <th>Inox</th>\n",
       "      <th>Impo_perm</th>\n",
       "      <th>GPS2021</th>\n",
       "      <th>geometry</th>\n",
       "    </tr>\n",
       "  </thead>\n",
       "  <tbody>\n",
       "    <tr>\n",
       "      <th>18</th>\n",
       "      <td>0</td>\n",
       "      <td>4</td>\n",
       "      <td>1</td>\n",
       "      <td>400</td>\n",
       "      <td>0</td>\n",
       "      <td>0</td>\n",
       "      <td>0</td>\n",
       "      <td>0</td>\n",
       "      <td>0</td>\n",
       "      <td>0</td>\n",
       "      <td>NON</td>\n",
       "      <td>POINT (152885.032 122585.367)</td>\n",
       "    </tr>\n",
       "    <tr>\n",
       "      <th>32</th>\n",
       "      <td>0</td>\n",
       "      <td>5</td>\n",
       "      <td>1</td>\n",
       "      <td>500</td>\n",
       "      <td>0</td>\n",
       "      <td>0</td>\n",
       "      <td>0</td>\n",
       "      <td>0</td>\n",
       "      <td>0</td>\n",
       "      <td>0</td>\n",
       "      <td>NON</td>\n",
       "      <td>POINT (152890.824 122583.580)</td>\n",
       "    </tr>\n",
       "    <tr>\n",
       "      <th>63</th>\n",
       "      <td>0</td>\n",
       "      <td>3</td>\n",
       "      <td>1</td>\n",
       "      <td>306</td>\n",
       "      <td>0</td>\n",
       "      <td>0</td>\n",
       "      <td>0</td>\n",
       "      <td>0</td>\n",
       "      <td>0</td>\n",
       "      <td>0</td>\n",
       "      <td>NON</td>\n",
       "      <td>POINT (152867.452 122588.877)</td>\n",
       "    </tr>\n",
       "  </tbody>\n",
       "</table>\n",
       "</div>"
      ],
      "text/plain": [
       "    Id  Type  Pilote  Ref  diam  Valid  Syscal  Impo  Inox  Impo_perm GPS2021  \\\n",
       "18   0     4       1  400     0      0       0     0     0          0     NON   \n",
       "32   0     5       1  500     0      0       0     0     0          0     NON   \n",
       "63   0     3       1  306     0      0       0     0     0          0     NON   \n",
       "\n",
       "                         geometry  \n",
       "18  POINT (152885.032 122585.367)  \n",
       "32  POINT (152890.824 122583.580)  \n",
       "63  POINT (152867.452 122588.877)  "
      ]
     },
     "execution_count": 6,
     "metadata": {},
     "output_type": "execute_result"
    }
   ],
   "source": [
    "v8 = gpd.read_file('../../CF_data/Data_UMONS/SIG/Pilote_v8.0.shp')\n",
    "v8.query('GPS2021==\"NON\"')"
   ]
  },
  {
   "cell_type": "markdown",
   "id": "vocational-question",
   "metadata": {},
   "source": [
    "## Extraction des dates de forages du type de forage et du foreur de l'étude de caractérisation"
   ]
  },
  {
   "cell_type": "code",
   "execution_count": 7,
   "id": "identified-guyana",
   "metadata": {},
   "outputs": [],
   "source": [
    "# informations sur les forages de l'étude de caractérisation de 2010\n",
    "Logs_forages = pd.read_excel('../../CF_data/Data_SITEREM/Logs forages.xls',sheet_name='Forages, tranchées')"
   ]
  },
  {
   "cell_type": "code",
   "execution_count": 8,
   "id": "worst-trauma",
   "metadata": {},
   "outputs": [],
   "source": [
    "Logs_forages = Logs_forages[['Date', 'N°', 'Id', 'Profondeur', 'Description', 'Piézo', 'Unnamed: 6',\n",
    "                             'Gouge Ø75', 'MFT Ø145', 'carottier', 'tarrière', 'Liner Ø60']] "
   ]
  },
  {
   "cell_type": "code",
   "execution_count": 9,
   "id": "opening-sunrise",
   "metadata": {},
   "outputs": [],
   "source": [
    "Logs_forages.rename({'Gouge Ø75':'Gouge_75', 'Liner Ø60': 'Liner_60'}, axis=1, inplace=True)"
   ]
  },
  {
   "cell_type": "code",
   "execution_count": 23,
   "id": "scenic-grenada",
   "metadata": {},
   "outputs": [],
   "source": [
    "Logs_forages.loc[Logs_forages.query('Profondeur!=Profondeur' ).index,'Profondeur']=''"
   ]
  },
  {
   "cell_type": "code",
   "execution_count": 31,
   "id": "blond-psychiatry",
   "metadata": {},
   "outputs": [],
   "source": [
    "forages = Logs_forages.query('Profondeur.str.contains(\"Forage\")  and Profondeur!=\"Forage bloqué\"', engine='python')"
   ]
  },
  {
   "cell_type": "code",
   "execution_count": 32,
   "id": "helpful-composer",
   "metadata": {},
   "outputs": [
    {
     "name": "stderr",
     "output_type": "stream",
     "text": [
      "<ipython-input-32-07818ba03c75>:1: SettingWithCopyWarning: \n",
      "A value is trying to be set on a copy of a slice from a DataFrame.\n",
      "Try using .loc[row_indexer,col_indexer] = value instead\n",
      "\n",
      "See the caveats in the documentation: https://pandas.pydata.org/pandas-docs/stable/user_guide/indexing.html#returning-a-view-versus-a-copy\n",
      "  forages['Ref'] = forages['Profondeur'].apply(lambda x: x.split('Forage ')[1].replace(' ', ''))\n"
     ]
    }
   ],
   "source": [
    "forages['Ref'] = forages['Profondeur'].apply(lambda x: x.split('Forage ')[1].replace(' ', ''))"
   ]
  },
  {
   "cell_type": "code",
   "execution_count": 33,
   "id": "stopped-brush",
   "metadata": {},
   "outputs": [
    {
     "data": {
      "text/plain": [
       "0           1\n",
       "9           2\n",
       "19          3\n",
       "27          4\n",
       "33          5\n",
       "        ...  \n",
       "1973     612c\n",
       "1977      734\n",
       "1984    FP595\n",
       "1994      540\n",
       "2004      600\n",
       "Name: Ref, Length: 281, dtype: object"
      ]
     },
     "execution_count": 33,
     "metadata": {},
     "output_type": "execute_result"
    }
   ],
   "source": [
    "forages.Ref"
   ]
  },
  {
   "cell_type": "code",
   "execution_count": 34,
   "id": "lucky-cleaning",
   "metadata": {},
   "outputs": [
    {
     "name": "stderr",
     "output_type": "stream",
     "text": [
      "<ipython-input-34-0d7b933e2cc3>:1: SettingWithCopyWarning: \n",
      "A value is trying to be set on a copy of a slice from a DataFrame.\n",
      "Try using .loc[row_indexer,col_indexer] = value instead\n",
      "\n",
      "See the caveats in the documentation: https://pandas.pydata.org/pandas-docs/stable/user_guide/indexing.html#returning-a-view-versus-a-copy\n",
      "  forages['tmp'] = forages['Piézo'].replace(np.nan, '', regex=True) + '-' + forages['Unnamed: 6'].replace(np.nan, '', regex=True) + '-' + forages['Gouge_75'].replace(np.nan, '', regex=True)\n"
     ]
    }
   ],
   "source": [
    "forages['tmp'] = forages['Piézo'].replace(np.nan, '', regex=True) + '-' + forages['Unnamed: 6'].replace(np.nan, '', regex=True) + '-' + forages['Gouge_75'].replace(np.nan, '', regex=True)"
   ]
  },
  {
   "cell_type": "code",
   "execution_count": 35,
   "id": "stupid-homework",
   "metadata": {},
   "outputs": [
    {
     "name": "stderr",
     "output_type": "stream",
     "text": [
      "<ipython-input-35-fc78262c80a3>:1: SettingWithCopyWarning: \n",
      "A value is trying to be set on a copy of a slice from a DataFrame.\n",
      "Try using .loc[row_indexer,col_indexer] = value instead\n",
      "\n",
      "See the caveats in the documentation: https://pandas.pydata.org/pandas-docs/stable/user_guide/indexing.html#returning-a-view-versus-a-copy\n",
      "  forages['Piezo'] = forages['tmp'].apply(lambda x: x.lstrip(' ').split('-')[0].lower()=='x')\n"
     ]
    }
   ],
   "source": [
    "forages['Piezo'] = forages['tmp'].apply(lambda x: x.lstrip(' ').split('-')[0].lower()=='x') "
   ]
  },
  {
   "cell_type": "code",
   "execution_count": 36,
   "id": "spiritual-terry",
   "metadata": {},
   "outputs": [
    {
     "name": "stderr",
     "output_type": "stream",
     "text": [
      "<ipython-input-36-4da94ebfe204>:1: SettingWithCopyWarning: \n",
      "A value is trying to be set on a copy of a slice from a DataFrame.\n",
      "Try using .loc[row_indexer,col_indexer] = value instead\n",
      "\n",
      "See the caveats in the documentation: https://pandas.pydata.org/pandas-docs/stable/user_guide/indexing.html#returning-a-view-versus-a-copy\n",
      "  forages['Company'] = forages['tmp'].apply(lambda x: x.rstrip('-').split('-')[-1].upper())\n"
     ]
    }
   ],
   "source": [
    "forages['Company'] = forages['tmp'].apply(lambda x: x.rstrip('-').split('-')[-1].upper()) "
   ]
  },
  {
   "cell_type": "code",
   "execution_count": 37,
   "id": "future-brown",
   "metadata": {},
   "outputs": [
    {
     "data": {
      "text/html": [
       "<div>\n",
       "<style scoped>\n",
       "    .dataframe tbody tr th:only-of-type {\n",
       "        vertical-align: middle;\n",
       "    }\n",
       "\n",
       "    .dataframe tbody tr th {\n",
       "        vertical-align: top;\n",
       "    }\n",
       "\n",
       "    .dataframe thead th {\n",
       "        text-align: right;\n",
       "    }\n",
       "</style>\n",
       "<table border=\"1\" class=\"dataframe\">\n",
       "  <thead>\n",
       "    <tr style=\"text-align: right;\">\n",
       "      <th></th>\n",
       "      <th>Date</th>\n",
       "      <th>N°</th>\n",
       "      <th>Id</th>\n",
       "      <th>Profondeur</th>\n",
       "      <th>Description</th>\n",
       "      <th>Piézo</th>\n",
       "      <th>Unnamed: 6</th>\n",
       "      <th>Gouge_75</th>\n",
       "      <th>MFT Ø145</th>\n",
       "      <th>carottier</th>\n",
       "      <th>tarrière</th>\n",
       "      <th>Liner_60</th>\n",
       "      <th>Ref</th>\n",
       "      <th>tmp</th>\n",
       "      <th>Piezo</th>\n",
       "      <th>Company</th>\n",
       "    </tr>\n",
       "  </thead>\n",
       "  <tbody>\n",
       "    <tr>\n",
       "      <th>123</th>\n",
       "      <td>2010-01-18</td>\n",
       "      <td>15.0</td>\n",
       "      <td>124.0</td>\n",
       "      <td>Forage FP15</td>\n",
       "      <td>NaN</td>\n",
       "      <td>X</td>\n",
       "      <td>NaN</td>\n",
       "      <td>NaN</td>\n",
       "      <td>NaN</td>\n",
       "      <td>NaN</td>\n",
       "      <td>NaN</td>\n",
       "      <td>NaN</td>\n",
       "      <td>FP15</td>\n",
       "      <td>X--</td>\n",
       "      <td>True</td>\n",
       "      <td>X</td>\n",
       "    </tr>\n",
       "  </tbody>\n",
       "</table>\n",
       "</div>"
      ],
      "text/plain": [
       "          Date    N°     Id   Profondeur Description Piézo Unnamed: 6  \\\n",
       "123 2010-01-18  15.0  124.0  Forage FP15         NaN     X        NaN   \n",
       "\n",
       "    Gouge_75 MFT Ø145 carottier tarrière Liner_60   Ref  tmp  Piezo Company  \n",
       "123      NaN      NaN       NaN      NaN      NaN  FP15  X--   True       X  "
      ]
     },
     "execution_count": 37,
     "metadata": {},
     "output_type": "execute_result"
    }
   ],
   "source": [
    "forages.query('Company==\"X\"')"
   ]
  },
  {
   "cell_type": "code",
   "execution_count": 38,
   "id": "selected-float",
   "metadata": {},
   "outputs": [
    {
     "name": "stderr",
     "output_type": "stream",
     "text": [
      "/home/su530201/.local/share/virtualenvs/GSDMA-tJb-HgI6/lib/python3.8/site-packages/pandas/core/indexing.py:1720: SettingWithCopyWarning: \n",
      "A value is trying to be set on a copy of a slice from a DataFrame.\n",
      "Try using .loc[row_indexer,col_indexer] = value instead\n",
      "\n",
      "See the caveats in the documentation: https://pandas.pydata.org/pandas-docs/stable/user_guide/indexing.html#returning-a-view-versus-a-copy\n",
      "  self._setitem_single_column(loc, value, pi)\n"
     ]
    }
   ],
   "source": [
    "forages.loc[123, 'Company']='SITEREM'"
   ]
  },
  {
   "cell_type": "code",
   "execution_count": 41,
   "id": "clean-least",
   "metadata": {},
   "outputs": [
    {
     "data": {
      "text/html": [
       "<div>\n",
       "<style scoped>\n",
       "    .dataframe tbody tr th:only-of-type {\n",
       "        vertical-align: middle;\n",
       "    }\n",
       "\n",
       "    .dataframe tbody tr th {\n",
       "        vertical-align: top;\n",
       "    }\n",
       "\n",
       "    .dataframe thead th {\n",
       "        text-align: right;\n",
       "    }\n",
       "</style>\n",
       "<table border=\"1\" class=\"dataframe\">\n",
       "  <thead>\n",
       "    <tr style=\"text-align: right;\">\n",
       "      <th></th>\n",
       "      <th>Date</th>\n",
       "      <th>Ref</th>\n",
       "      <th>Company</th>\n",
       "      <th>Piezo</th>\n",
       "    </tr>\n",
       "  </thead>\n",
       "  <tbody>\n",
       "    <tr>\n",
       "      <th>0</th>\n",
       "      <td>2010-03-11</td>\n",
       "      <td>1</td>\n",
       "      <td>SBS ENVIRONNEMENT</td>\n",
       "      <td>True</td>\n",
       "    </tr>\n",
       "    <tr>\n",
       "      <th>9</th>\n",
       "      <td>2010-03-11</td>\n",
       "      <td>2</td>\n",
       "      <td>SBS ENVIRONNEMENT</td>\n",
       "      <td>False</td>\n",
       "    </tr>\n",
       "    <tr>\n",
       "      <th>19</th>\n",
       "      <td>2010-03-11</td>\n",
       "      <td>3</td>\n",
       "      <td>SBS ENVIRONNEMENT</td>\n",
       "      <td>False</td>\n",
       "    </tr>\n",
       "    <tr>\n",
       "      <th>27</th>\n",
       "      <td>2010-03-10</td>\n",
       "      <td>4</td>\n",
       "      <td>SBS ENVIRONNEMENT</td>\n",
       "      <td>False</td>\n",
       "    </tr>\n",
       "    <tr>\n",
       "      <th>33</th>\n",
       "      <td>2010-03-12</td>\n",
       "      <td>5</td>\n",
       "      <td>SBS ENVIRONNEMENT</td>\n",
       "      <td>False</td>\n",
       "    </tr>\n",
       "    <tr>\n",
       "      <th>...</th>\n",
       "      <td>...</td>\n",
       "      <td>...</td>\n",
       "      <td>...</td>\n",
       "      <td>...</td>\n",
       "    </tr>\n",
       "    <tr>\n",
       "      <th>1973</th>\n",
       "      <td>2010-08-03</td>\n",
       "      <td>612c</td>\n",
       "      <td>SBS ENVIRONNEMENT</td>\n",
       "      <td>False</td>\n",
       "    </tr>\n",
       "    <tr>\n",
       "      <th>1977</th>\n",
       "      <td>2010-08-03</td>\n",
       "      <td>734</td>\n",
       "      <td>SITEREM</td>\n",
       "      <td>True</td>\n",
       "    </tr>\n",
       "    <tr>\n",
       "      <th>1984</th>\n",
       "      <td>2010-09-01</td>\n",
       "      <td>FP595</td>\n",
       "      <td>SITEREM</td>\n",
       "      <td>True</td>\n",
       "    </tr>\n",
       "    <tr>\n",
       "      <th>1994</th>\n",
       "      <td>2010-09-02</td>\n",
       "      <td>540</td>\n",
       "      <td>SITEREM</td>\n",
       "      <td>True</td>\n",
       "    </tr>\n",
       "    <tr>\n",
       "      <th>2004</th>\n",
       "      <td>2010-09-20</td>\n",
       "      <td>600</td>\n",
       "      <td>SITEREM</td>\n",
       "      <td>True</td>\n",
       "    </tr>\n",
       "  </tbody>\n",
       "</table>\n",
       "<p>281 rows × 4 columns</p>\n",
       "</div>"
      ],
      "text/plain": [
       "           Date    Ref            Company  Piezo\n",
       "0    2010-03-11      1  SBS ENVIRONNEMENT   True\n",
       "9    2010-03-11      2  SBS ENVIRONNEMENT  False\n",
       "19   2010-03-11      3  SBS ENVIRONNEMENT  False\n",
       "27   2010-03-10      4  SBS ENVIRONNEMENT  False\n",
       "33   2010-03-12      5  SBS ENVIRONNEMENT  False\n",
       "...         ...    ...                ...    ...\n",
       "1973 2010-08-03   612c  SBS ENVIRONNEMENT  False\n",
       "1977 2010-08-03    734            SITEREM   True\n",
       "1984 2010-09-01  FP595            SITEREM   True\n",
       "1994 2010-09-02    540            SITEREM   True\n",
       "2004 2010-09-20    600            SITEREM   True\n",
       "\n",
       "[281 rows x 4 columns]"
      ]
     },
     "execution_count": 41,
     "metadata": {},
     "output_type": "execute_result"
    }
   ],
   "source": [
    "forages = forages[['Date', 'Ref', 'Company', 'Piezo']]\n",
    "forages"
   ]
  },
  {
   "cell_type": "code",
   "execution_count": 46,
   "id": "gross-bubble",
   "metadata": {},
   "outputs": [],
   "source": [
    "forages['Ref'] = forages['Date'].apply(lambda x : str(x.year) + '-') + forages['Ref']"
   ]
  },
  {
   "cell_type": "code",
   "execution_count": 47,
   "id": "armed-theater",
   "metadata": {},
   "outputs": [
    {
     "data": {
      "text/html": [
       "<div>\n",
       "<style scoped>\n",
       "    .dataframe tbody tr th:only-of-type {\n",
       "        vertical-align: middle;\n",
       "    }\n",
       "\n",
       "    .dataframe tbody tr th {\n",
       "        vertical-align: top;\n",
       "    }\n",
       "\n",
       "    .dataframe thead th {\n",
       "        text-align: right;\n",
       "    }\n",
       "</style>\n",
       "<table border=\"1\" class=\"dataframe\">\n",
       "  <thead>\n",
       "    <tr style=\"text-align: right;\">\n",
       "      <th></th>\n",
       "      <th>Date</th>\n",
       "      <th>Ref</th>\n",
       "      <th>Company</th>\n",
       "      <th>Piezo</th>\n",
       "    </tr>\n",
       "  </thead>\n",
       "  <tbody>\n",
       "    <tr>\n",
       "      <th>0</th>\n",
       "      <td>2010-03-11</td>\n",
       "      <td>2010-1</td>\n",
       "      <td>SBS ENVIRONNEMENT</td>\n",
       "      <td>True</td>\n",
       "    </tr>\n",
       "    <tr>\n",
       "      <th>9</th>\n",
       "      <td>2010-03-11</td>\n",
       "      <td>2010-2</td>\n",
       "      <td>SBS ENVIRONNEMENT</td>\n",
       "      <td>False</td>\n",
       "    </tr>\n",
       "    <tr>\n",
       "      <th>19</th>\n",
       "      <td>2010-03-11</td>\n",
       "      <td>2010-3</td>\n",
       "      <td>SBS ENVIRONNEMENT</td>\n",
       "      <td>False</td>\n",
       "    </tr>\n",
       "    <tr>\n",
       "      <th>27</th>\n",
       "      <td>2010-03-10</td>\n",
       "      <td>2010-4</td>\n",
       "      <td>SBS ENVIRONNEMENT</td>\n",
       "      <td>False</td>\n",
       "    </tr>\n",
       "    <tr>\n",
       "      <th>33</th>\n",
       "      <td>2010-03-12</td>\n",
       "      <td>2010-5</td>\n",
       "      <td>SBS ENVIRONNEMENT</td>\n",
       "      <td>False</td>\n",
       "    </tr>\n",
       "    <tr>\n",
       "      <th>...</th>\n",
       "      <td>...</td>\n",
       "      <td>...</td>\n",
       "      <td>...</td>\n",
       "      <td>...</td>\n",
       "    </tr>\n",
       "    <tr>\n",
       "      <th>1973</th>\n",
       "      <td>2010-08-03</td>\n",
       "      <td>2010-612c</td>\n",
       "      <td>SBS ENVIRONNEMENT</td>\n",
       "      <td>False</td>\n",
       "    </tr>\n",
       "    <tr>\n",
       "      <th>1977</th>\n",
       "      <td>2010-08-03</td>\n",
       "      <td>2010-734</td>\n",
       "      <td>SITEREM</td>\n",
       "      <td>True</td>\n",
       "    </tr>\n",
       "    <tr>\n",
       "      <th>1984</th>\n",
       "      <td>2010-09-01</td>\n",
       "      <td>2010-FP595</td>\n",
       "      <td>SITEREM</td>\n",
       "      <td>True</td>\n",
       "    </tr>\n",
       "    <tr>\n",
       "      <th>1994</th>\n",
       "      <td>2010-09-02</td>\n",
       "      <td>2010-540</td>\n",
       "      <td>SITEREM</td>\n",
       "      <td>True</td>\n",
       "    </tr>\n",
       "    <tr>\n",
       "      <th>2004</th>\n",
       "      <td>2010-09-20</td>\n",
       "      <td>2010-600</td>\n",
       "      <td>SITEREM</td>\n",
       "      <td>True</td>\n",
       "    </tr>\n",
       "  </tbody>\n",
       "</table>\n",
       "<p>281 rows × 4 columns</p>\n",
       "</div>"
      ],
      "text/plain": [
       "           Date         Ref            Company  Piezo\n",
       "0    2010-03-11      2010-1  SBS ENVIRONNEMENT   True\n",
       "9    2010-03-11      2010-2  SBS ENVIRONNEMENT  False\n",
       "19   2010-03-11      2010-3  SBS ENVIRONNEMENT  False\n",
       "27   2010-03-10      2010-4  SBS ENVIRONNEMENT  False\n",
       "33   2010-03-12      2010-5  SBS ENVIRONNEMENT  False\n",
       "...         ...         ...                ...    ...\n",
       "1973 2010-08-03   2010-612c  SBS ENVIRONNEMENT  False\n",
       "1977 2010-08-03    2010-734            SITEREM   True\n",
       "1984 2010-09-01  2010-FP595            SITEREM   True\n",
       "1994 2010-09-02    2010-540            SITEREM   True\n",
       "2004 2010-09-20    2010-600            SITEREM   True\n",
       "\n",
       "[281 rows x 4 columns]"
      ]
     },
     "execution_count": 47,
     "metadata": {},
     "output_type": "execute_result"
    }
   ],
   "source": [
    "forages"
   ]
  },
  {
   "cell_type": "markdown",
   "id": "detected-adult",
   "metadata": {},
   "source": [
    "## forages phase 1"
   ]
  },
  {
   "cell_type": "code",
   "execution_count": null,
   "id": "aware-toner",
   "metadata": {},
   "outputs": [],
   "source": [
    "v2017 = gpd.read_file('../../CF_data/Data_UMONS/SIG/sondages_v2017-05-18.shp')\n",
    "v2017"
   ]
  },
  {
   "cell_type": "code",
   "execution_count": null,
   "id": "atomic-creativity",
   "metadata": {
    "scrolled": true
   },
   "outputs": [],
   "source": [
    "v2017['Ref'] = v2017['Date'].apply(lambda x : str(datetime.datetime.strptime(x, '%Y-%m-%d').year) + '-') + v2017['Ref_sond']"
   ]
  },
  {
   "cell_type": "code",
   "execution_count": null,
   "id": "illegal-arrow",
   "metadata": {},
   "outputs": [],
   "source": [
    "v2017"
   ]
  },
  {
   "cell_type": "code",
   "execution_count": null,
   "id": "material-teacher",
   "metadata": {},
   "outputs": [],
   "source": [
    "sond_ant = pd.read_excel('../../CF_data/Data_UMONS/Logs_forages_vUmons_2018-03-20.xlsx', sheet_name='Sond_ant')"
   ]
  },
  {
   "cell_type": "code",
   "execution_count": null,
   "id": "thorough-ensemble",
   "metadata": {},
   "outputs": [],
   "source": [
    "sond_ant['Ref'] = sond_ant['Ref_siterem'].apply(lambda x: '2010-' + str(x))"
   ]
  },
  {
   "cell_type": "code",
   "execution_count": null,
   "id": "wrapped-bryan",
   "metadata": {},
   "outputs": [],
   "source": [
    "sond_ant"
   ]
  },
  {
   "cell_type": "code",
   "execution_count": null,
   "id": "proper-ethics",
   "metadata": {},
   "outputs": [],
   "source": [
    "sond_ant_gdf = gpd.GeoDataFrame(sond_ant, geometry=gpd.points_from_xy(sond_ant.X, sond_ant.Y, crs=str('EPSG:31370')))"
   ]
  },
  {
   "cell_type": "markdown",
   "id": "expired-garage",
   "metadata": {},
   "source": [
    "Lecture de l'extension du projet MEMORIS"
   ]
  },
  {
   "cell_type": "code",
   "execution_count": null,
   "id": "hydraulic-verse",
   "metadata": {},
   "outputs": [],
   "source": [
    "ext = gpd.read_file('../../CF_data/Data_UMONS/SIG/Site_Memoris.shp')"
   ]
  },
  {
   "cell_type": "markdown",
   "id": "tender-completion",
   "metadata": {},
   "source": [
    "Affichage carte"
   ]
  },
  {
   "cell_type": "code",
   "execution_count": null,
   "id": "racial-giant",
   "metadata": {},
   "outputs": [],
   "source": [
    "def label(gdf, field, ax, size='xx-small'):\n",
    "    for x, y, label in zip(gdf.geometry.x, gdf.geometry.y, gdf[field]):\n",
    "        ax.annotate(label, xy=(x, y), xytext=(3, 3), textcoords='offset points', size=size)"
   ]
  },
  {
   "cell_type": "code",
   "execution_count": null,
   "id": "collectible-trance",
   "metadata": {},
   "outputs": [],
   "source": [
    "fig, ax = plt.subplots(figsize=(6,6))\n",
    "ext.plot(ax=ax, color='grey')\n",
    "v2017.plot(ax=ax, color='r')\n",
    "\n",
    "#for x, y, label in zip(v2017.geometry.x, v2017.geometry.y, v2017.Ref_sond):\n",
    "#    ax.annotate(label, xy=(x, y), xytext=(3, 3), textcoords=\"offset points\")\n",
    "label(v2017, 'Ref', ax)\n",
    "v8.plot(ax=ax, color='g')\n",
    "label(v8, 'Ref', ax)  \n",
    "sond_ant_gdf.plot(ax=ax, color='b', markersize=1)\n",
    "label(sond_ant_gdf, 'Ref', ax)"
   ]
  },
  {
   "cell_type": "markdown",
   "id": "sized-poster",
   "metadata": {},
   "source": [
    "En ignorant Sond_ant_gdf"
   ]
  },
  {
   "cell_type": "code",
   "execution_count": null,
   "id": "aboriginal-chambers",
   "metadata": {},
   "outputs": [],
   "source": [
    "v8['new_Ref'] = 'F'+v8['Ref']"
   ]
  },
  {
   "cell_type": "code",
   "execution_count": null,
   "id": "standing-decrease",
   "metadata": {},
   "outputs": [],
   "source": [
    "BH = []\n",
    "BH.extend(v2017['Ref_sond'].to_list())\n",
    "BH.extend(v8['new_Ref'].to_list())"
   ]
  },
  {
   "cell_type": "code",
   "execution_count": null,
   "id": "interim-appendix",
   "metadata": {},
   "outputs": [],
   "source": [
    "v8['ID'] = v8.new_Ref\n",
    "v2017['ID'] = v2017.Ref_sond"
   ]
  },
  {
   "cell_type": "code",
   "execution_count": null,
   "id": "optical-strap",
   "metadata": {},
   "outputs": [],
   "source": [
    "v8['Z']=101."
   ]
  },
  {
   "cell_type": "code",
   "execution_count": null,
   "id": "hundred-representation",
   "metadata": {},
   "outputs": [],
   "source": [
    "gdf = gpd.GeoDataFrame( pd.concat( [v8[['geometry','ID', 'Z']], v2017[['geometry','ID', 'Z']]], ignore_index=True) )"
   ]
  },
  {
   "cell_type": "code",
   "execution_count": null,
   "id": "ranging-albuquerque",
   "metadata": {},
   "outputs": [],
   "source": [
    "fig, ax = plt.subplots(figsize=(6,6))\n",
    "ext.plot(ax=ax, color='lightgrey')\n",
    "gdf.plot(ax=ax, markersize=1)\n",
    "label(gdf, 'ID', ax)"
   ]
  },
  {
   "cell_type": "code",
   "execution_count": null,
   "id": "respected-stroke",
   "metadata": {},
   "outputs": [],
   "source": [
    "gdf['X']=gdf.geometry.x\n",
    "gdf['Y']=gdf.geometry.y"
   ]
  },
  {
   "cell_type": "code",
   "execution_count": null,
   "id": "permanent-guidance",
   "metadata": {},
   "outputs": [],
   "source": [
    "pd.DataFrame(gdf)[['ID', 'X', 'Y']].to_csv('../../CF_data/synthese/boreholes.csv', index=False)"
   ]
  },
  {
   "cell_type": "markdown",
   "id": "modern-tactics",
   "metadata": {},
   "source": [
    "Liste de tous les ouvrages références y compris les doublons entre jeux de données (et dans chaque jeu de donnée) "
   ]
  },
  {
   "cell_type": "code",
   "execution_count": null,
   "id": "cooperative-recovery",
   "metadata": {},
   "outputs": [],
   "source": [
    "BH = []\n",
    "BH.extend(v2017['Ref_sond'].to_list())\n",
    "BH.extend(v8['Ref'].to_list())\n",
    "BH.extend(sond_ant_gdf['Ref_siterem'].to_list())"
   ]
  },
  {
   "cell_type": "code",
   "execution_count": null,
   "id": "smooth-attention",
   "metadata": {},
   "outputs": [],
   "source": [
    "gdf = v2017.merge(sond_ant_gdf, how='outer', left_on='Ref_sond', right_on='Ref_siterem')\n",
    "gdf[['Ref_sond', 'Ref_siterem']][0:100]"
   ]
  },
  {
   "cell_type": "code",
   "execution_count": null,
   "id": "waiting-concept",
   "metadata": {
    "scrolled": true
   },
   "outputs": [],
   "source": [
    "gdf.query('Ref_sond==Ref_siterem')['Ref_sond']"
   ]
  },
  {
   "cell_type": "code",
   "execution_count": null,
   "id": "coordinate-slovenia",
   "metadata": {
    "scrolled": true
   },
   "outputs": [],
   "source": [
    "gdf.query('Ref_sond!=Ref_sond')['Ref_siterem'].to_list()"
   ]
  },
  {
   "cell_type": "code",
   "execution_count": null,
   "id": "flush-youth",
   "metadata": {},
   "outputs": [],
   "source": [
    "len(BH)"
   ]
  },
  {
   "cell_type": "code",
   "execution_count": null,
   "id": "chronic-short",
   "metadata": {},
   "outputs": [],
   "source": [
    "len(set(BH))"
   ]
  },
  {
   "cell_type": "code",
   "execution_count": null,
   "id": "median-greenhouse",
   "metadata": {
    "scrolled": true
   },
   "outputs": [],
   "source": [
    "gdf.query('Ref_siterem!=Ref_siterem')['Ref_sond'].to_list()"
   ]
  },
  {
   "cell_type": "code",
   "execution_count": null,
   "id": "editorial-relief",
   "metadata": {},
   "outputs": [],
   "source": [
    "gdf.columns"
   ]
  },
  {
   "cell_type": "code",
   "execution_count": null,
   "id": "loaded-showcase",
   "metadata": {},
   "outputs": [],
   "source": [
    "for idx, row in gdf.iterrows():\n",
    "    if row['geometry_x'] is None:\n",
    "        if row['geometry_y'] is not None:\n",
    "            gdf.loc[idx, 'distance'] = 0.\n",
    "        else:\n",
    "            gdf.loc[idx, 'distance'] = None\n",
    "    else:\n",
    "        if row['geometry_y'] is None:\n",
    "            gdf.loc[idx, 'distance'] = 0.\n",
    "        else:\n",
    "            gdf.loc[idx, 'distance'] = row['geometry_x'].distance(row['geometry_y'])"
   ]
  },
  {
   "cell_type": "code",
   "execution_count": null,
   "id": "organizational-metropolitan",
   "metadata": {},
   "outputs": [],
   "source": [
    "gdf.query('distance != distance') # recherche de forages n'ayant aucune coordonnées"
   ]
  },
  {
   "cell_type": "code",
   "execution_count": null,
   "id": "pressing-biodiversity",
   "metadata": {},
   "outputs": [],
   "source": [
    "gdf.query('distance>0.')"
   ]
  },
  {
   "cell_type": "code",
   "execution_count": null,
   "id": "golden-influence",
   "metadata": {},
   "outputs": [],
   "source": []
  }
 ],
 "metadata": {
  "kernelspec": {
   "display_name": "Python 3",
   "language": "python",
   "name": "python3"
  },
  "language_info": {
   "codemirror_mode": {
    "name": "ipython",
    "version": 3
   },
   "file_extension": ".py",
   "mimetype": "text/x-python",
   "name": "python",
   "nbconvert_exporter": "python",
   "pygments_lexer": "ipython3",
   "version": "3.8.5"
  }
 },
 "nbformat": 4,
 "nbformat_minor": 5
}
