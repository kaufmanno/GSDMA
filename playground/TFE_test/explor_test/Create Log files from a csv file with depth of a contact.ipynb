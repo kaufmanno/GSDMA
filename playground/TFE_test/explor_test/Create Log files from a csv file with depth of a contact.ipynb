{
 "cells": [
  {
   "cell_type": "markdown",
   "id": "unnecessary-office",
   "metadata": {},
   "source": [
    "# Create Log files from a csv of a contact depth in several boreholes"
   ]
  },
  {
   "cell_type": "code",
   "execution_count": 1,
   "id": "swedish-bangladesh",
   "metadata": {},
   "outputs": [],
   "source": [
    "import pandas as pd"
   ]
  },
  {
   "cell_type": "code",
   "execution_count": 3,
   "id": "postal-license",
   "metadata": {},
   "outputs": [
    {
     "data": {
      "text/plain": [
       "'/home/su530201/PycharmProjects/GSDMA/playground/TFE_test'"
      ]
     },
     "execution_count": 3,
     "metadata": {},
     "output_type": "execute_result"
    }
   ],
   "source": [
    "pwd"
   ]
  },
  {
   "cell_type": "code",
   "execution_count": 5,
   "id": "classical-activation",
   "metadata": {},
   "outputs": [],
   "source": [
    "df = pd.read_csv('../../data/contact_between_backfill_and_alluvium.csv')"
   ]
  },
  {
   "cell_type": "code",
   "execution_count": 10,
   "id": "decimal-awareness",
   "metadata": {},
   "outputs": [
    {
     "data": {
      "text/html": [
       "<div>\n",
       "<style scoped>\n",
       "    .dataframe tbody tr th:only-of-type {\n",
       "        vertical-align: middle;\n",
       "    }\n",
       "\n",
       "    .dataframe tbody tr th {\n",
       "        vertical-align: top;\n",
       "    }\n",
       "\n",
       "    .dataframe thead th {\n",
       "        text-align: right;\n",
       "    }\n",
       "</style>\n",
       "<table border=\"1\" class=\"dataframe\">\n",
       "  <thead>\n",
       "    <tr style=\"text-align: right;\">\n",
       "      <th></th>\n",
       "      <th>borehole</th>\n",
       "      <th>depth[m]</th>\n",
       "      <th>x</th>\n",
       "      <th>y</th>\n",
       "      <th>z</th>\n",
       "    </tr>\n",
       "  </thead>\n",
       "  <tbody>\n",
       "    <tr>\n",
       "      <th>0</th>\n",
       "      <td>205</td>\n",
       "      <td>3.2</td>\n",
       "      <td>152887.693</td>\n",
       "      <td>122594.620</td>\n",
       "      <td>101.804</td>\n",
       "    </tr>\n",
       "    <tr>\n",
       "      <th>1</th>\n",
       "      <td>208</td>\n",
       "      <td>3.4</td>\n",
       "      <td>152885.296</td>\n",
       "      <td>122592.986</td>\n",
       "      <td>101.848</td>\n",
       "    </tr>\n",
       "    <tr>\n",
       "      <th>2</th>\n",
       "      <td>212</td>\n",
       "      <td>3.4</td>\n",
       "      <td>152882.850</td>\n",
       "      <td>122591.453</td>\n",
       "      <td>101.930</td>\n",
       "    </tr>\n",
       "    <tr>\n",
       "      <th>3</th>\n",
       "      <td>207</td>\n",
       "      <td>3.4</td>\n",
       "      <td>152892.925</td>\n",
       "      <td>122592.662</td>\n",
       "      <td>101.889</td>\n",
       "    </tr>\n",
       "    <tr>\n",
       "      <th>4</th>\n",
       "      <td>214</td>\n",
       "      <td>3.6</td>\n",
       "      <td>152888.082</td>\n",
       "      <td>122588.486</td>\n",
       "      <td>101.854</td>\n",
       "    </tr>\n",
       "    <tr>\n",
       "      <th>5</th>\n",
       "      <td>217</td>\n",
       "      <td>4.2</td>\n",
       "      <td>152886.185</td>\n",
       "      <td>122587.152</td>\n",
       "      <td>101.815</td>\n",
       "    </tr>\n",
       "    <tr>\n",
       "      <th>6</th>\n",
       "      <td>225</td>\n",
       "      <td>4.0</td>\n",
       "      <td>152881.112</td>\n",
       "      <td>122580.962</td>\n",
       "      <td>101.669</td>\n",
       "    </tr>\n",
       "    <tr>\n",
       "      <th>7</th>\n",
       "      <td>304</td>\n",
       "      <td>3.6</td>\n",
       "      <td>152882.735</td>\n",
       "      <td>122586.452</td>\n",
       "      <td>101.824</td>\n",
       "    </tr>\n",
       "  </tbody>\n",
       "</table>\n",
       "</div>"
      ],
      "text/plain": [
       "   borehole  depth[m]           x           y        z\n",
       "0       205       3.2  152887.693  122594.620  101.804\n",
       "1       208       3.4  152885.296  122592.986  101.848\n",
       "2       212       3.4  152882.850  122591.453  101.930\n",
       "3       207       3.4  152892.925  122592.662  101.889\n",
       "4       214       3.6  152888.082  122588.486  101.854\n",
       "5       217       4.2  152886.185  122587.152  101.815\n",
       "6       225       4.0  152881.112  122580.962  101.669\n",
       "7       304       3.6  152882.735  122586.452  101.824"
      ]
     },
     "execution_count": 10,
     "metadata": {},
     "output_type": "execute_result"
    }
   ],
   "source": [
    "df"
   ]
  },
  {
   "cell_type": "code",
   "execution_count": 17,
   "id": "reserved-guitar",
   "metadata": {},
   "outputs": [
    {
     "data": {
      "text/plain": [
       "0    205\n",
       "1    208\n",
       "2    212\n",
       "3    207\n",
       "4    214\n",
       "5    217\n",
       "6    225\n",
       "7    304\n",
       "Name: borehole, dtype: int64"
      ]
     },
     "execution_count": 17,
     "metadata": {},
     "output_type": "execute_result"
    }
   ],
   "source": [
    "df['borehole']"
   ]
  },
  {
   "cell_type": "code",
   "execution_count": 27,
   "id": "listed-polls",
   "metadata": {},
   "outputs": [
    {
     "name": "stdout",
     "output_type": "stream",
     "text": [
      "../../data/boreholes/Log_F205.txt\n",
      "../../data/boreholes/Log_F208.txt\n",
      "../../data/boreholes/Log_F212.txt\n",
      "../../data/boreholes/Log_F207.txt\n",
      "../../data/boreholes/Log_F214.txt\n",
      "../../data/boreholes/Log_F217.txt\n",
      "../../data/boreholes/Log_F225.txt\n",
      "../../data/boreholes/Log_F304.txt\n"
     ]
    }
   ],
   "source": [
    "for idx, row in df.iterrows():\n",
    "    bh=int(row['borehole'])\n",
    "    z_contact = row['depth[m]']\n",
    "    print(f'../../data/boreholes/Log_F{bh:03d}.txt')\n",
    "    with open(f'../../data/boreholes/Log_F{bh:03d}.txt', 'w+') as f:\n",
    "        f.write('# borehole name\\n')\n",
    "        f.write(f'F{bh:03d}\\n')\n",
    "        f.write('# borehole description\\n')\n",
    "        f.write('start\\tend\\tdescription\\tlithology\\tcolour\\n')\n",
    "        f.write(f'0.00\\t{z_contact:.2f}\\tremblais\\tremblais\\tbrun\\n')\n",
    "        f.write(f'{z_contact:.2f}\\t6.00\\talluvions\\tsilt\\tgris\\n')\n",
    "        f.write('# markers\\n')\n",
    "        f.write(f'mur remblais\\t{z_contact:.2f}\\n')"
   ]
  },
  {
   "cell_type": "code",
   "execution_count": null,
   "id": "fabulous-aruba",
   "metadata": {},
   "outputs": [],
   "source": []
  }
 ],
 "metadata": {
  "kernelspec": {
   "display_name": "Python 3",
   "language": "python",
   "name": "python3"
  },
  "language_info": {
   "codemirror_mode": {
    "name": "ipython",
    "version": 3
   },
   "file_extension": ".py",
   "mimetype": "text/x-python",
   "name": "python",
   "nbconvert_exporter": "python",
   "pygments_lexer": "ipython3",
   "version": "3.8.5"
  }
 },
 "nbformat": 4,
 "nbformat_minor": 5
}
