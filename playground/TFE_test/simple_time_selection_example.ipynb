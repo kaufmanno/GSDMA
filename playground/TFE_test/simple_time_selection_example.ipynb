{
 "cells": [
  {
   "cell_type": "code",
   "execution_count": 1,
   "id": "recovered-washer",
   "metadata": {},
   "outputs": [],
   "source": [
    "import ipywidgets as widgets\n",
    "from ipywidgets import interact\n",
    "import pandas as pd\n",
    "from datetime import datetime"
   ]
  },
  {
   "cell_type": "code",
   "execution_count": 2,
   "id": "wrapped-dubai",
   "metadata": {},
   "outputs": [],
   "source": [
    "df = pd.DataFrame.from_dict({'name':['A', 'B', 'C'], \n",
    "                             'date' : [datetime.strptime('2020-12-08', '%Y-%m-%d'), \n",
    "                                       datetime.strptime('2020-12-18', '%Y-%m-%d'),\n",
    "                                       datetime.strptime('2020-12-22', '%Y-%m-%d')]})"
   ]
  },
  {
   "cell_type": "code",
   "execution_count": 3,
   "id": "medium-refund",
   "metadata": {},
   "outputs": [],
   "source": [
    "# create slider\n",
    "dates = list(pd.date_range(df.date.min(), df.date.max()+pd.DateOffset(1), freq='D'))\n",
    "options = [(i.strftime(' %d.%m.%Y '), i) for i in dates]\n",
    "index = (0, len(dates)-1)\n",
    "myslider = widgets.SelectionRangeSlider(\n",
    "    options = options,\n",
    "    index = index,\n",
    "    description = 'Dates: ',\n",
    "    orientation = 'horizontal',\n",
    "    layout={'width': '800px'}\n",
    ")\n",
    "\n",
    "def update_source(df, start, end):\n",
    "    x = df[(df.date >= pd.to_datetime(start)) & (df.date < pd.to_datetime(end))]\n",
    "    return x\n",
    "\n",
    "def date_range_selector(dataframe):\n",
    "    def my_update(widget):\n",
    "        global data\n",
    "        start = widget[0].date()\n",
    "        end = widget[1].date()\n",
    "        display(update_source(dataframe, start, end).head(4))\n",
    "        data = update_source(dataframe, start, end)\n",
    "    return my_update\n",
    "\n",
    "selector = widgets.interactive(date_range_selector(df), widget = myslider)"
   ]
  },
  {
   "cell_type": "code",
   "execution_count": 4,
   "id": "protecting-naples",
   "metadata": {},
   "outputs": [
    {
     "data": {
      "application/vnd.jupyter.widget-view+json": {
       "model_id": "9d181fb99d9e4180921bdd17517065e4",
       "version_major": 2,
       "version_minor": 0
      },
      "text/plain": [
       "interactive(children=(SelectionRangeSlider(description='Dates: ', index=(0, 15), layout=Layout(width='800px'),…"
      ]
     },
     "metadata": {},
     "output_type": "display_data"
    }
   ],
   "source": [
    "selector"
   ]
  }
 ],
 "metadata": {
  "kernelspec": {
   "display_name": "Python 3",
   "language": "python",
   "name": "python3"
  },
  "language_info": {
   "codemirror_mode": {
    "name": "ipython",
    "version": 3
   },
   "file_extension": ".py",
   "mimetype": "text/x-python",
   "name": "python",
   "nbconvert_exporter": "python",
   "pygments_lexer": "ipython3",
   "version": "3.8.5"
  }
 },
 "nbformat": 4,
 "nbformat_minor": 5
}
