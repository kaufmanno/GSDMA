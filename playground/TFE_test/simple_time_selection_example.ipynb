{
 "cells": [
  {
   "cell_type": "code",
   "execution_count": 1,
   "id": "unlimited-acting",
   "metadata": {},
   "outputs": [],
   "source": [
    "import ipywidgets as widgets\n",
    "from ipywidgets import interact\n",
    "import pandas as pd\n",
    "from datetime import datetime"
   ]
  },
  {
   "cell_type": "code",
   "execution_count": 2,
   "id": "owned-austin",
   "metadata": {},
   "outputs": [],
   "source": [
    "df = pd.DataFrame.from_dict({'name':['A', 'B', 'C'], \n",
    "                             'date' : [datetime.strptime('2020-12-08', '%Y-%m-%d'), \n",
    "                                       datetime.strptime('2020-12-18', '%Y-%m-%d'),\n",
    "                                       datetime.strptime('2020-12-22', '%Y-%m-%d')]})"
   ]
  },
  {
   "cell_type": "code",
   "execution_count": 3,
   "id": "earlier-quebec",
   "metadata": {},
   "outputs": [],
   "source": [
    "# create slider\n",
    "dates = list(pd.date_range(df.date.min(), df.date.max()+pd.DateOffset(1), freq='D'))\n",
    "options = [(i.strftime(' %d.%m.%Y '), i) for i in dates]\n",
    "index = (0, len(dates)-1)\n",
    "myslider = widgets.SelectionRangeSlider(\n",
    "    options = options,\n",
    "    index = index,\n",
    "    description = 'Dates: ',\n",
    "    orientation = 'horizontal',\n",
    "    layout={'width': '800px'}\n",
    ")\n",
    "\n",
    "def update_source(df, start, end):\n",
    "    x = df[(df.date >= pd.to_datetime(start)) & (df.date < pd.to_datetime(end))]\n",
    "    return x\n",
    "\n",
    "def date_range_selector(dataframe):\n",
    "    def my_update(widget):\n",
    "        global data\n",
    "        start = widget[0].date()\n",
    "        end = widget[1].date()\n",
    "        display(update_source(dataframe, start, end).head(4))\n",
    "        data = update_source(dataframe, start, end)\n",
    "    return my_update\n",
    "\n",
    "selector = widgets.interactive(date_range_selector(df), widget = myslider)"
   ]
  },
  {
   "cell_type": "code",
   "execution_count": 41,
   "id": "juvenile-thickness",
   "metadata": {},
   "outputs": [],
   "source": [
    "widgets.interactive?"
   ]
  },
  {
   "cell_type": "code",
   "execution_count": 39,
   "id": "fancy-stationery",
   "metadata": {},
   "outputs": [
    {
     "data": {
      "text/plain": [
       "(Timestamp('2020-12-08 00:00:00', freq='D'),\n",
       " Timestamp('2020-12-23 00:00:00', freq='D'))"
      ]
     },
     "execution_count": 39,
     "metadata": {},
     "output_type": "execute_result"
    }
   ],
   "source": [
    "selector.widgets['4a73ff4b2e1b46cf97a14112948dacd9'].value"
   ]
  },
  {
   "cell_type": "code",
   "execution_count": 5,
   "id": "verified-assumption",
   "metadata": {},
   "outputs": [
    {
     "data": {
      "application/vnd.jupyter.widget-view+json": {
       "model_id": "455b5e583b7d43d2be5da92d1b6d4b76",
       "version_major": 2,
       "version_minor": 0
      },
      "text/plain": [
       "IntSlider(value=5)"
      ]
     },
     "metadata": {},
     "output_type": "display_data"
    }
   ],
   "source": [
    "import ipywidgets as widgets\n",
    "\n",
    "class Updated:\n",
    "\n",
    "    def __init__(self):\n",
    "        self.widget_value = None\n",
    "        self.derived_value = None\n",
    "\n",
    "    def update(self, val_dict) -> None:\n",
    "        self.widget_value = val_dict['new']\n",
    "        self.derived_value = self.widget_value + 10\n",
    "\n",
    "update_class = Updated()\n",
    "\n",
    "x = 5\n",
    "y = []\n",
    "slider = widgets.IntSlider()\n",
    "slider.value = x\n",
    "\n",
    "def on_change(v):\n",
    "    update_class.update(v)\n",
    "slider.observe(on_change, names='value')\n",
    "display(slider)"
   ]
  },
  {
   "cell_type": "code",
   "execution_count": 9,
   "id": "wrong-proof",
   "metadata": {},
   "outputs": [
    {
     "data": {
      "text/plain": [
       "59"
      ]
     },
     "execution_count": 9,
     "metadata": {},
     "output_type": "execute_result"
    }
   ],
   "source": [
    "slider.value"
   ]
  },
  {
   "cell_type": "code",
   "execution_count": 42,
   "id": "forty-classroom",
   "metadata": {},
   "outputs": [
    {
     "data": {
      "application/vnd.jupyter.widget-view+json": {
       "model_id": "3c5b375bb72c44e2ba6f0d0ee827af88",
       "version_major": 2,
       "version_minor": 0
      },
      "text/plain": [
       "interactive(children=(Checkbox(value=True, description='x'), FloatSlider(value=1.0, description='y', max=3.0, …"
      ]
     },
     "metadata": {},
     "output_type": "display_data"
    }
   ],
   "source": [
    "@interact(x=True, y=1.0)\n",
    "def g(x, y):\n",
    "    return (x, y)"
   ]
  },
  {
   "cell_type": "code",
   "execution_count": 58,
   "id": "available-degree",
   "metadata": {},
   "outputs": [],
   "source": [
    "def f(x):\n",
    "    return x\n",
    "\n",
    "def select():\n",
    "    s=interact(f, x=widgets.IntSlider(min=-10, max=30, step=1, value=10))\n",
    "    return s"
   ]
  },
  {
   "cell_type": "code",
   "execution_count": 60,
   "id": "pacific-clinic",
   "metadata": {},
   "outputs": [
    {
     "data": {
      "application/vnd.jupyter.widget-view+json": {
       "model_id": "75f51c3a4a4e420ebba070e935f5ec1e",
       "version_major": 2,
       "version_minor": 0
      },
      "text/plain": [
       "interactive(children=(IntSlider(value=10, description='x', max=30, min=-10), Output()), _dom_classes=('widget-…"
      ]
     },
     "metadata": {},
     "output_type": "display_data"
    }
   ],
   "source": [
    "s = select()"
   ]
  },
  {
   "cell_type": "code",
   "execution_count": null,
   "id": "freelance-fields",
   "metadata": {},
   "outputs": [],
   "source": []
  }
 ],
 "metadata": {
  "kernelspec": {
   "display_name": "Python 3",
   "language": "python",
   "name": "python3"
  },
  "language_info": {
   "codemirror_mode": {
    "name": "ipython",
    "version": 3
   },
   "file_extension": ".py",
   "mimetype": "text/x-python",
   "name": "python",
   "nbconvert_exporter": "python",
   "pygments_lexer": "ipython3",
   "version": "3.8.5"
  }
 },
 "nbformat": 4,
 "nbformat_minor": 5
}
