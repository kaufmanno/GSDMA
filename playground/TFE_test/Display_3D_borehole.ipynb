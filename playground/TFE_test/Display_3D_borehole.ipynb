{
 "cells": [
  {
   "cell_type": "markdown",
   "metadata": {},
   "source": [
    "# Example of using the Borehole3D class"
   ]
  },
  {
   "cell_type": "markdown",
   "metadata": {},
   "source": [
    "### Imports"
   ]
  },
  {
   "cell_type": "code",
   "execution_count": 1,
   "metadata": {},
   "outputs": [],
   "source": [
    "import matplotlib.pyplot as plt\n",
    "from striplog import Component, Decor, Legend, Interval, Lexicon\n",
    "from core.visual import Borehole3D, striplog_legend_to_omf_legend \n",
    "from definitions import ROOT_DIR"
   ]
  },
  {
   "cell_type": "markdown",
   "metadata": {},
   "source": [
    "### Define the components and the way to display them"
   ]
  },
  {
   "cell_type": "code",
   "execution_count": 2,
   "metadata": {},
   "outputs": [],
   "source": [
    "components = [Component({'lithology': 'siltstone', 'colour': 'orange'}),\n",
    "              Component({'lithology': 'anhydrite', 'colour': 'green'}),\n",
    "              Component({'lithology': 'sandstone', 'grainsize': 'vf-f', 'colour': 'brown'}),\n",
    "              Component({'lithology': 'dolomite', 'colour': 'cyan'}),\n",
    "              Component({'lithology': 'siltstone', 'colour': 'red'}),\n",
    "              Component({'lithology': 'limestone', 'colour':'yellow'})]\n",
    "list_of_decors=[]\n",
    "hatches = ['+', 'x', '.', '*', '\\ox', '+']\n",
    "colours = ['#888888', '#882222', '#AAAAAA', '#CC22CC', '#CC2222', '#2222CC']\n",
    "\n",
    "for i in range(len(components)):\n",
    "    if hasattr(components[i], 'colour'):\n",
    "        c = components[i].colour\n",
    "    else:\n",
    "        c=colours[i]\n",
    "    \n",
    "    if hasattr(components[i], 'hatch'):\n",
    "        h = components[i].hatch\n",
    "    else:\n",
    "        h=hatches[i]\n",
    "        \n",
    "    d = {'color': c,\n",
    "         'hatch': h,\n",
    "         'component': components[i],\n",
    "         'width': 3}\n",
    "    decor = Decor(d)\n",
    "    list_of_decors.append(decor)\n",
    "    \n",
    "legend = Legend(list_of_decors)\n",
    "lexicon=Lexicon.default()"
   ]
  },
  {
   "cell_type": "code",
   "execution_count": 3,
   "metadata": {},
   "outputs": [],
   "source": [
    "intervals=[]\n",
    "top=[0,2,4,6,8,10]\n",
    "base=[2,4,6,8,10,12]\n",
    "for i in range(len(components)):     \n",
    "    intervals.append(Interval(top=top[i], base=base[i], components=[components[i]],lexicon=lexicon))"
   ]
  },
  {
   "cell_type": "markdown",
   "metadata": {},
   "source": [
    "### Create the Borehole 3D object using the legend"
   ]
  },
  {
   "cell_type": "code",
   "execution_count": 6,
   "metadata": {},
   "outputs": [
    {
     "ename": "TypeError",
     "evalue": "list indices must be integers or slices, not str",
     "output_type": "error",
     "traceback": [
      "\u001b[0;31m---------------------------------------------------------------------------\u001b[0m",
      "\u001b[0;31mTypeError\u001b[0m                                 Traceback (most recent call last)",
      "\u001b[0;32m/tmp/ipykernel_4176/2034884110.py\u001b[0m in \u001b[0;36m<module>\u001b[0;34m\u001b[0m\n\u001b[0;32m----> 1\u001b[0;31m \u001b[0mbh3d\u001b[0m \u001b[0;34m=\u001b[0m \u001b[0mBorehole3D\u001b[0m\u001b[0;34m(\u001b[0m\u001b[0mintervals\u001b[0m\u001b[0;34m,\u001b[0m \u001b[0mlegend_dict\u001b[0m\u001b[0;34m=\u001b[0m\u001b[0;34m{\u001b[0m\u001b[0;34m'lithology'\u001b[0m\u001b[0;34m:\u001b[0m\u001b[0mlegend\u001b[0m\u001b[0;34m}\u001b[0m\u001b[0;34m,\u001b[0m \u001b[0mname\u001b[0m\u001b[0;34m=\u001b[0m\u001b[0;34m'BH_test'\u001b[0m\u001b[0;34m)\u001b[0m\u001b[0;34m\u001b[0m\u001b[0;34m\u001b[0m\u001b[0m\n\u001b[0m",
      "\u001b[0;32m~/Projects/GSDMA/core/visual.py\u001b[0m in \u001b[0;36m__init__\u001b[0;34m(self, intervals, repr_attribute, name, diam, length, date, x_collar, y_collar, z_collar, legend_dict, compute_all_legend, verbose)\u001b[0m\n\u001b[1;32m     97\u001b[0m             \u001b[0mself\u001b[0m\u001b[0;34m.\u001b[0m\u001b[0mupdate_z_collar\u001b[0m\u001b[0;34m(\u001b[0m\u001b[0;34m)\u001b[0m\u001b[0;34m\u001b[0m\u001b[0;34m\u001b[0m\u001b[0m\n\u001b[1;32m     98\u001b[0m \u001b[0;34m\u001b[0m\u001b[0m\n\u001b[0;32m---> 99\u001b[0;31m         \u001b[0;32mif\u001b[0m \u001b[0mlegend_dict\u001b[0m \u001b[0;32mis\u001b[0m \u001b[0;32mNone\u001b[0m \u001b[0;32mor\u001b[0m \u001b[0;32mnot\u001b[0m \u001b[0misinstance\u001b[0m\u001b[0;34m(\u001b[0m\u001b[0mlegend_dict\u001b[0m\u001b[0;34m[\u001b[0m\u001b[0mrepr_attribute\u001b[0m\u001b[0;34m]\u001b[0m\u001b[0;34m[\u001b[0m\u001b[0;34m'legend'\u001b[0m\u001b[0;34m]\u001b[0m\u001b[0;34m,\u001b[0m \u001b[0mLegend\u001b[0m\u001b[0;34m)\u001b[0m\u001b[0;34m:\u001b[0m\u001b[0;34m\u001b[0m\u001b[0;34m\u001b[0m\u001b[0m\n\u001b[0m\u001b[1;32m    100\u001b[0m             \u001b[0mprint\u001b[0m\u001b[0;34m(\u001b[0m\u001b[0;34m\"No given legend or incorrect format ! Default is used\"\u001b[0m\u001b[0;34m)\u001b[0m\u001b[0;34m\u001b[0m\u001b[0;34m\u001b[0m\u001b[0m\n\u001b[1;32m    101\u001b[0m             \u001b[0mself\u001b[0m\u001b[0;34m.\u001b[0m\u001b[0mlegend_dict\u001b[0m\u001b[0;34m[\u001b[0m\u001b[0mrepr_attribute\u001b[0m\u001b[0;34m]\u001b[0m\u001b[0;34m[\u001b[0m\u001b[0;34m'legend'\u001b[0m\u001b[0;34m]\u001b[0m \u001b[0;34m=\u001b[0m \u001b[0mLegend\u001b[0m\u001b[0;34m.\u001b[0m\u001b[0mdefault\u001b[0m\u001b[0;34m(\u001b[0m\u001b[0;34m)\u001b[0m\u001b[0;34m\u001b[0m\u001b[0;34m\u001b[0m\u001b[0m\n",
      "\u001b[0;32m~/.local/share/virtualenvs/GSDMA-DRfwm83x/lib/python3.8/site-packages/striplog/legend.py\u001b[0m in \u001b[0;36m__getitem__\u001b[0;34m(self, key)\u001b[0m\n\u001b[1;32m    368\u001b[0m             \u001b[0;32mreturn\u001b[0m \u001b[0mLegend\u001b[0m\u001b[0;34m(\u001b[0m\u001b[0mresult\u001b[0m\u001b[0;34m)\u001b[0m\u001b[0;34m\u001b[0m\u001b[0;34m\u001b[0m\u001b[0m\n\u001b[1;32m    369\u001b[0m         \u001b[0;32melse\u001b[0m\u001b[0;34m:\u001b[0m\u001b[0;34m\u001b[0m\u001b[0;34m\u001b[0m\u001b[0m\n\u001b[0;32m--> 370\u001b[0;31m             \u001b[0;32mreturn\u001b[0m \u001b[0mself\u001b[0m\u001b[0;34m.\u001b[0m\u001b[0m__list\u001b[0m\u001b[0;34m[\u001b[0m\u001b[0mkey\u001b[0m\u001b[0;34m]\u001b[0m\u001b[0;34m\u001b[0m\u001b[0;34m\u001b[0m\u001b[0m\n\u001b[0m\u001b[1;32m    371\u001b[0m \u001b[0;34m\u001b[0m\u001b[0m\n\u001b[1;32m    372\u001b[0m     \u001b[0;32mdef\u001b[0m \u001b[0m__setitem__\u001b[0m\u001b[0;34m(\u001b[0m\u001b[0mself\u001b[0m\u001b[0;34m,\u001b[0m \u001b[0mkey\u001b[0m\u001b[0;34m,\u001b[0m \u001b[0mvalue\u001b[0m\u001b[0;34m)\u001b[0m\u001b[0;34m:\u001b[0m\u001b[0;34m\u001b[0m\u001b[0;34m\u001b[0m\u001b[0m\n",
      "\u001b[0;31mTypeError\u001b[0m: list indices must be integers or slices, not str"
     ]
    }
   ],
   "source": [
    "bh3d = Borehole3D(intervals, legend_dict={'lithology':legend}, name='BH_test')"
   ]
  },
  {
   "cell_type": "raw",
   "metadata": {},
   "source": [
    "Legend.random(bh3d.components)"
   ]
  },
  {
   "cell_type": "markdown",
   "metadata": {},
   "source": [
    "### Display the striplog"
   ]
  },
  {
   "cell_type": "code",
   "execution_count": 19,
   "metadata": {
    "scrolled": false
   },
   "outputs": [
    {
     "data": {
      "image/png": "[encoded data removed]",
      "text/plain": [
       "<Figure size 432x432 with 7 Axes>"
      ]
     },
     "metadata": {
      "needs_background": "light"
     },
     "output_type": "display_data"
    }
   ],
   "source": [
    "bh3d.log_plot()"
   ]
  },
  {
   "cell_type": "markdown",
   "metadata": {},
   "source": [
    "### Display the borehole in 3D using the legend"
   ]
  },
  {
   "cell_type": "code",
   "execution_count": 20,
   "metadata": {},
   "outputs": [
    {
     "name": "stdout",
     "output_type": "stream",
     "text": [
      "Colormap computing ...\n",
      "{1.4166666666666667: 'siltstone', 2.25: 'anhydrite', 3.0833333333333335: 'sandstone', 3.916666666666667: 'dolomite', 4.75: 'limestone'}\n"
     ]
    },
    {
     "data": {
      "application/vnd.jupyter.widget-view+json": {
       "model_id": "269fe55650734040ac4e517545d396be",
       "version_major": 2,
       "version_minor": 0
      },
      "text/plain": [
       "ViewInteractiveWidget(height=768, layout=Layout(height='auto', width='100%'), width=1024)"
      ]
     },
     "metadata": {},
     "output_type": "display_data"
    }
   ],
   "source": [
    "bh3d.plot3d()"
   ]
  },
  {
   "cell_type": "markdown",
   "metadata": {},
   "source": [
    "### The Borehole in 3D using X3D for interaction within the notebook"
   ]
  },
  {
   "cell_type": "code",
   "execution_count": 21,
   "metadata": {},
   "outputs": [
    {
     "name": "stdout",
     "output_type": "stream",
     "text": [
      "Colormap computing ...\n",
      "{1.4166666666666667: 'siltstone', 2.25: 'anhydrite', 3.0833333333333335: 'sandstone', 3.916666666666667: 'dolomite', 4.75: 'limestone'}\n"
     ]
    },
    {
     "data": {
      "text/html": [
       "<html>\n",
       "<head>\n",
       "    <meta http-equiv=\"X-UA-Compatible\" content=\"IE=edge\"/>\n",
       "<title>X3D scene</title>\n",
       " <p><script type='text/javascript' src='http://www.x3dom.org/download/x3dom.js'> </script>\n",
       "<link rel='stylesheet' type='text/css' href='http://www.x3dom.org/download/x3dom.css'/>\n",
       "</head>\n",
       "<body>\n",
       "<p>\n",
       " For interaction, click in the view and press \"a\" or \"i\" to see the whole scene, \"d\" to display info, \"space\" for shortcuts. For more info col interaction, please read  <a href=\"https://doc.x3dom.org/tutorials/animationInteraction/navigation/index.html\">the docs</a>  \n",
       "</p>\n",
       "<x3d width='968px' height='600px'>\n",
       " <scene>\n",
       "<viewpoint position=\"-3.03956 -14.95776 2.17179\" orientation=\"0.98276 -0.08411 -0.16462 1.15299\"></viewpoint>\n",
       " <Inline nameSpaceName=\"Borehole\" mapDEFToID=\"true\" url=\"tmp_files/BH_BH_test.x3d\" />\n",
       "</scene>\n",
       "</x3d>\n",
       "</body>\n",
       "</html>\n"
      ],
      "text/plain": [
       "<IPython.core.display.HTML object>"
      ]
     },
     "execution_count": 21,
     "metadata": {},
     "output_type": "execute_result"
    }
   ],
   "source": [
    "bh3d.plot3d(x3d=True)"
   ]
  },
  {
   "cell_type": "code",
   "execution_count": null,
   "metadata": {},
   "outputs": [],
   "source": []
  }
 ],
 "metadata": {
  "kernelspec": {
   "display_name": "Python 3 (ipykernel)",
   "language": "python",
   "name": "python3"
  },
  "language_info": {
   "codemirror_mode": {
    "name": "ipython",
    "version": 3
   },
   "file_extension": ".py",
   "mimetype": "text/x-python",
   "name": "python",
   "nbconvert_exporter": "python",
   "pygments_lexer": "ipython3",
   "version": "3.8.10"
  }
 },
 "nbformat": 4,
 "nbformat_minor": 4
}
