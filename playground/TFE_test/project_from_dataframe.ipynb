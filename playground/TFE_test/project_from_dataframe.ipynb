{
 "cells": [
  {
   "cell_type": "markdown",
   "metadata": {},
   "source": [
    "# GSDMA project from dataframes"
   ]
  },
  {
   "cell_type": "markdown",
   "metadata": {},
   "source": [
    "## Imports"
   ]
  },
  {
   "cell_type": "code",
   "execution_count": 1,
   "metadata": {},
   "outputs": [],
   "source": [
    "from striplog import Component, Decor, Legend, Lexicon, Striplog\n",
    "from core.visual import Borehole3D, striplog_legend_to_omf_legend \n",
    "from utils.lexicon_memoris import LEG_CONTAMINATION_LEV\n",
    "from utils.config import DEFAULT_LITHO_LEXICON, DEFAULT_LITHO_LEGEND, DEFAULT_POL_LEXICON\n",
    "from utils.io import dataframe_viewer, dict_viewer\n",
    "from utils.orm import boreholes_from_dataframe\n",
    "from utils.visual import legend_from_attributes\n",
    "from core.project import Project\n",
    "from core.orm import BoreholeOrm, PositionOrm, Base \n",
    "\n",
    "import matplotlib.pyplot as plt\n",
    "import os\n",
    "import pandas as pd\n",
    "import numpy as np\n",
    "from sqlalchemy import create_engine\n",
    "from sqlalchemy.orm import sessionmaker\n",
    "from definitions import ROOT_DIR"
   ]
  },
  {
   "cell_type": "markdown",
   "metadata": {},
   "source": [
    "## Reading of CSV files in a dir"
   ]
  },
  {
   "cell_type": "code",
   "execution_count": 2,
   "metadata": {},
   "outputs": [],
   "source": [
    "df = pd.read_csv('real_data_subset_for_test.csv', sep=',')"
   ]
  },
  {
   "cell_type": "code",
   "execution_count": 3,
   "metadata": {
    "scrolled": false
   },
   "outputs": [
    {
     "name": "stdout",
     "output_type": "stream",
     "text": [
      "Rows : 112, columns : 19, Unique values on cols: {'ID': 46}\n"
     ]
    },
    {
     "data": {
      "application/vnd.jupyter.widget-view+json": {
       "model_id": "e24551370a514dbd8ea578983319284d",
       "version_major": 2,
       "version_minor": 0
      },
      "text/plain": [
       "interactive(children=(IntSlider(value=5, description='rows', max=112, min=5, readout=False), IntSlider(value=1…"
      ]
     },
     "metadata": {},
     "output_type": "display_data"
    }
   ],
   "source": [
    "dataframe_viewer(df, rows=5, un_val='ID')"
   ]
  },
  {
   "cell_type": "markdown",
   "metadata": {},
   "source": [
    "## Data splitting \n",
    "(not necessary just to test)"
   ]
  },
  {
   "cell_type": "raw",
   "metadata": {},
   "source": [
    "id_list = ['302','205','207','214']\n",
    "#df = df.query('ID in @id_list')\n",
    "#df.reset_index(drop=True, inplace=True)\n",
    "dataframe_viewer(df.query('ID in @id_list'), rows=5)"
   ]
  },
  {
   "cell_type": "code",
   "execution_count": 4,
   "metadata": {},
   "outputs": [
    {
     "name": "stderr",
     "output_type": "stream",
     "text": [
      "/home/yanathan/.local/share/virtualenvs/GSDMA-DRfwm83x/lib/python3.8/site-packages/pandas/core/frame.py:5039: SettingWithCopyWarning: \n",
      "A value is trying to be set on a copy of a slice from a DataFrame\n",
      "\n",
      "See the caveats in the documentation: https://pandas.pydata.org/pandas-docs/stable/user_guide/indexing.html#returning-a-view-versus-a-copy\n",
      "  return super().rename(\n"
     ]
    }
   ],
   "source": [
    "df_litho = df[['ID', 'X', 'Y', 'Z', 'Long_for', 'Litho_top', 'Litho_base', 'Epais_intv', 'Lithology']]\n",
    "df_litho.rename(columns={'Lithology':'Description'}, inplace=True)\n",
    "\n",
    "df_ech = df[['ID', 'X', 'Y', 'Z', 'Long_for', 'ID_ech', 'Type_ech', 'Top_intv', 'Base_intv', \n",
    "             'Epais_intv', 'Bnz', 'Toln', 'Pb', 'As', 'Cu', 'Ni']]\n",
    "df_ech.rename(columns={'Top_intv':'Ech_top', 'Base_intv':'Ech_base'}, inplace=True)"
   ]
  },
  {
   "cell_type": "markdown",
   "metadata": {},
   "source": [
    "## Create pollutants list from the dataframe columns name"
   ]
  },
  {
   "cell_type": "code",
   "execution_count": 5,
   "metadata": {
    "scrolled": true
   },
   "outputs": [
    {
     "name": "stdout",
     "output_type": "stream",
     "text": [
      "['Bnz', 'Toln', 'Pb', 'As', 'Cu', 'Ni']\n"
     ]
    }
   ],
   "source": [
    "pollutants = []\n",
    "for i, c in enumerate(df.columns):\n",
    "    if c in DEFAULT_POL_LEXICON.abbreviations.keys() or c in DEFAULT_POL_LEXICON.abbreviations.values():\n",
    "        #print(f\"{i}: {c}\")\n",
    "        pollutants.append(c)\n",
    "print(pollutants)"
   ]
  },
  {
   "cell_type": "raw",
   "metadata": {},
   "source": [
    "bh_id='201'\n",
    "dataframe_viewer(df_litho.query(f\"ID=='{bh_id}'\"), rows=3, cols=16), dataframe_viewer(df_ech.query(f\"ID=='{bh_id}'\"), rows=3, cols=16)"
   ]
  },
  {
   "cell_type": "code",
   "execution_count": 6,
   "metadata": {},
   "outputs": [
    {
     "name": "stderr",
     "output_type": "stream",
     "text": [
      "/tmp/ipykernel_17238/113860215.py:3: SettingWithCopyWarning: \n",
      "A value is trying to be set on a copy of a slice from a DataFrame.\n",
      "Try using .loc[row_indexer,col_indexer] = value instead\n",
      "\n",
      "See the caveats in the documentation: https://pandas.pydata.org/pandas-docs/stable/user_guide/indexing.html#returning-a-view-versus-a-copy\n",
      "  df_ech['Description'] = np.nan\n",
      "/home/yanathan/.local/share/virtualenvs/GSDMA-DRfwm83x/lib/python3.8/site-packages/pandas/core/indexing.py:1773: SettingWithCopyWarning: \n",
      "A value is trying to be set on a copy of a slice from a DataFrame.\n",
      "Try using .loc[row_indexer,col_indexer] = value instead\n",
      "\n",
      "See the caveats in the documentation: https://pandas.pydata.org/pandas-docs/stable/user_guide/indexing.html#returning-a-view-versus-a-copy\n",
      "  self._setitem_single_column(ilocs[0], value, pi)\n"
     ]
    }
   ],
   "source": [
    "# adds a description in sample (TEST)\n",
    "bh_id = '201'\n",
    "df_ech['Description'] = np.nan\n",
    "idx = df_ech.query(f\"ID=='{bh_id}'\").index\n",
    "df_ech.loc[idx, 'Description'] = ['Sable', 'Limon']"
   ]
  },
  {
   "cell_type": "markdown",
   "metadata": {},
   "source": [
    "## Create Boreholes and components from dataframes"
   ]
  },
  {
   "cell_type": "code",
   "execution_count": 7,
   "metadata": {},
   "outputs": [],
   "source": [
    "data_dict = {'lithologies_data': df_litho, 'pollutants_data': df_ech}"
   ]
  },
  {
   "cell_type": "code",
   "execution_count": 8,
   "metadata": {
    "scrolled": true
   },
   "outputs": [
    {
     "name": "stdout",
     "output_type": "stream",
     "text": [
      "\n",
      "Data Processing...\n",
      "================================\n",
      "\u001b[1;34mWarning : -- No borehole diameter column found or check given column's name.\n",
      "To continue, default diameter column has been created with value: 0.1 [m]\u001b[0;0m\n",
      "\n",
      "\u001b[0;40;47m BH_ID: '201'\u001b[0;0;0m\n",
      "0- Interval top=0.6, base=1.2\n",
      " - Interval components: [Component({'lithology': 'remblais'})]\n",
      "\n",
      "1- Interval top=0.6, base=1.2\n",
      " - Interval components: [Component({'lithology': 'remblais'})]\n",
      "\n",
      "2- Interval top=0.7, base=1.2\n",
      " - Interval components: [Component({'lithology': 'sable'}), Component({'benzène': 'vi', 'concentration': 0.72, 'unit': 'mg/kg MS'}), Component({'toluène': 'vs', 'concentration': 0.59, 'unit': 'mg/kg MS'}), Component({'plomb': 'vs', 'concentration': 79.0, 'unit': 'mg/kg MS'}), Component({'arsenic': 'vr', 'concentration': 11.0, 'unit': 'mg/kg MS'}), Component({'cuivre': 'vs', 'concentration': 21.0, 'unit': 'mg/kg MS'}), Component({'nickel': 'vs', 'concentration': 90.0, 'unit': 'mg/kg MS'})]\n",
      "\n",
      "3- Interval top=2.0, base=2.4\n",
      " - Interval components: [Component({'lithology': 'limon'}), Component({'benzène': 'vs', 'concentration': 0.12, 'unit': 'mg/kg MS'}), Component({'toluène': 'vr', 'concentration': 0.15, 'unit': 'mg/kg MS'}), Component({'plomb': 'vi', 'concentration': 590.0, 'unit': 'mg/kg MS'}), Component({'arsenic': 'vs', 'concentration': 16.0, 'unit': 'mg/kg MS'}), Component({'cuivre': 'vr', 'concentration': 14.0, 'unit': 'mg/kg MS'}), Component({'nickel': 'vs', 'concentration': 25.0, 'unit': 'mg/kg MS'})]\n",
      "\n",
      "\u001b[1;40;47m Summary : {'201': Striplog(5 Intervals, start=0.0, stop=2.4)}\u001b[0;0;0m\n",
      "\n",
      "\u001b[0;40;47m BH_ID: '205'\u001b[0;0;0m\n",
      "0- Interval top=0.0, base=0.2\n",
      " - Interval components: [Component({'borehole_type': 'l', 'lithology': 'boue'})]\n",
      "\n",
      "1- Interval top=0.0, base=0.2\n",
      " - Interval components: [Component({'borehole_type': 'l', 'lithology': 'boue'})]\n",
      "\n",
      "2- Interval top=0.0, base=0.2\n",
      " - Interval components: [Component({'borehole_type': 'l', 'lithology': 'boue'})]\n",
      "\n",
      "3- Interval top=0.0, base=0.2\n",
      " - Interval components: [Component({'borehole_type': 'l', 'lithology': 'boue'})]\n",
      "\n",
      "4- Interval top=0.2, base=0.6\n",
      " - Interval components: [Component({'benzène': 'vi', 'concentration': 0.69, 'unit': 'mg/kg MS'}), Component({'toluène': 'vs', 'concentration': 0.47, 'unit': 'mg/kg MS'}), Component({'plomb': 'vs', 'concentration': 94.0, 'unit': 'mg/kg MS'}), Component({'arsenic': 'vs', 'concentration': 18.0, 'unit': 'mg/kg MS'}), Component({'cuivre': 'vs', 'concentration': 37.0, 'unit': 'mg/kg MS'}), Component({'nickel': 'vi', 'concentration': 280.0, 'unit': 'mg/kg MS'})]\n",
      "\n",
      "5- Interval top=1.9, base=2.4\n",
      " - Interval components: [Component({'benzène': 'vi_', 'concentration': 3.1, 'unit': 'mg/kg MS'}), Component({'toluène': 'vs', 'concentration': 1.5, 'unit': 'mg/kg MS'}), Component({'plomb': 'vi', 'concentration': 590.0, 'unit': 'mg/kg MS'}), Component({'arsenic': 'vs', 'concentration': 13.0, 'unit': 'mg/kg MS'}), Component({'cuivre': 'vs', 'concentration': 19.0, 'unit': 'mg/kg MS'}), Component({'nickel': 'vs', 'concentration': 30.0, 'unit': 'mg/kg MS'})]\n",
      "\n",
      "6- Interval top=3.0, base=3.2\n",
      " - Interval components: [Component({'benzène': 'vi_', 'concentration': 3.0, 'unit': 'mg/kg MS'}), Component({'toluène': 'vs', 'concentration': 0.61, 'unit': 'mg/kg MS'}), Component({'plomb': 'vs', 'concentration': 46.0, 'unit': 'mg/kg MS'}), Component({'arsenic': 'vr', 'concentration': 7.0, 'unit': 'mg/kg MS'}), Component({'cuivre': 'vr', 'concentration': 13.0, 'unit': 'mg/kg MS'}), Component({'nickel': 'vr', 'concentration': 18.0, 'unit': 'mg/kg MS'})]\n",
      "\n",
      "7- Interval top=3.2, base=3.6\n",
      " - Interval components: [Component({'benzène': 'vi', 'concentration': 0.8, 'unit': 'mg/kg MS'}), Component({'toluène': 'vr', 'concentration': 0.13, 'unit': 'mg/kg MS'}), Component({'plomb': 'vr', 'concentration': 12.0, 'unit': 'mg/kg MS'}), Component({'arsenic': 'vr', 'concentration': 10.0, 'unit': 'mg/kg MS'}), Component({'cuivre': 'vr', 'concentration': 9.6, 'unit': 'mg/kg MS'}), Component({'nickel': 'vr', 'concentration': 22.0, 'unit': 'mg/kg MS'})]\n",
      "\n",
      "\u001b[1;40;47m Summary : {'205': Striplog(9 Intervals, start=0.0, stop=3.6)}\u001b[0;0;0m\n",
      "\n",
      "\u001b[0;40;47m BH_ID: '208'\u001b[0;0;0m\n",
      "0- Interval top=0.0, base=1.2\n",
      " - Interval components: [Component({'lithology': 'remblais'})]\n",
      "\n",
      "1- Interval top=0.0, base=1.2\n",
      " - Interval components: [Component({'lithology': 'remblais'})]\n",
      "\n",
      "2- Interval top=0.0, base=1.2\n",
      " - Interval components: [Component({'lithology': 'remblais'})]\n",
      "\n",
      "3- Interval top=0.0, base=1.2\n",
      " - Interval components: [Component({'lithology': 'remblais'})]\n",
      "\n",
      "4- Interval top=0.2, base=0.7\n",
      " - Interval components: [Component({'benzène': 'vi_', 'concentration': 2.6, 'unit': 'mg/kg MS'}), Component({'toluène': 'vs', 'concentration': 2.2, 'unit': 'mg/kg MS'}), Component({'plomb': 'vs', 'concentration': 280.0, 'unit': 'mg/kg MS'}), Component({'arsenic': 'vi', 'concentration': 62.0, 'unit': 'mg/kg MS'}), Component({'cuivre': 'vs', 'concentration': 44.0, 'unit': 'mg/kg MS'}), Component({'nickel': 'vs', 'concentration': 77.0, 'unit': 'mg/kg MS'})]\n",
      "\n",
      "5- Interval top=2.1, base=2.4\n",
      " - Interval components: [Component({'benzène': 'vi_', 'concentration': 1.0, 'unit': 'mg/kg MS'}), Component({'toluène': 'vr', 'concentration': 0.2, 'unit': 'mg/kg MS'}), Component({'plomb': 'vs', 'concentration': 71.0, 'unit': 'mg/kg MS'}), Component({'arsenic': 'vr', 'concentration': 12.0, 'unit': 'mg/kg MS'}), Component({'cuivre': 'vs', 'concentration': 18.0, 'unit': 'mg/kg MS'}), Component({'nickel': 'vs', 'concentration': 30.0, 'unit': 'mg/kg MS'})]\n",
      "\n",
      "6- Interval top=3.0, base=3.4\n",
      " - Interval components: [Component({'benzène': 'vi', 'concentration': 0.68, 'unit': 'mg/kg MS'}), Component({'toluène': 'vr', 'concentration': 0.07, 'unit': 'mg/kg MS'}), Component({'plomb': 'vs', 'concentration': 93.0, 'unit': 'mg/kg MS'}), Component({'arsenic': 'vs', 'concentration': 14.0, 'unit': 'mg/kg MS'}), Component({'cuivre': 'vs', 'concentration': 22.0, 'unit': 'mg/kg MS'}), Component({'nickel': 'vs', 'concentration': 51.0, 'unit': 'mg/kg MS'})]\n",
      "\n",
      "7- Interval top=4.4, base=4.7\n",
      " - Interval components: [Component({'benzène': 'vi', 'concentration': 0.41, 'unit': 'mg/kg MS'}), Component({'toluène': 'vr', 'concentration': 0.03, 'unit': 'mg/kg MS'}), Component({'plomb': 'vr', 'concentration': 12.0, 'unit': 'mg/kg MS'}), Component({'arsenic': 'vs', 'concentration': 14.0, 'unit': 'mg/kg MS'}), Component({'cuivre': 'vr', 'concentration': 12.0, 'unit': 'mg/kg MS'}), Component({'nickel': 'vs', 'concentration': 27.0, 'unit': 'mg/kg MS'})]\n",
      "\n",
      "\u001b[1;40;47m Summary : {'208': Striplog(9 Intervals, start=0.0, stop=4.7)}\u001b[0;0;0m\n",
      "\n",
      "\u001b[0;40;47m BH_ID: '207'\u001b[0;0;0m\n",
      "0- Interval top=0.0, base=0.6\n",
      " - Interval components: [Component({'lithology': 'remblais'})]\n",
      "\n",
      "1- Interval top=0.0, base=0.6\n",
      " - Interval components: [Component({'lithology': 'remblais'})]\n",
      "\n",
      "2- Interval top=0.0, base=0.6\n",
      " - Interval components: [Component({'lithology': 'remblais'})]\n",
      "\n",
      "3- Interval top=0.0, base=0.6\n",
      " - Interval components: [Component({'lithology': 'remblais'})]\n",
      "\n",
      "4- Interval top=0.0, base=0.6\n",
      " - Interval components: [Component({'lithology': 'remblais'})]\n",
      "\n",
      "5- Interval top=0.1, base=0.5\n",
      " - Interval components: [Component({'benzène': 'vi', 'concentration': 0.29, 'unit': 'mg/kg MS'}), Component({'toluène': 'vs', 'concentration': 0.4, 'unit': 'mg/kg MS'}), Component({'plomb': 'vi', 'concentration': 1100.0, 'unit': 'mg/kg MS'}), Component({'arsenic': 'vs', 'concentration': 34.0, 'unit': 'mg/kg MS'}), Component({'cuivre': 'vs', 'concentration': 38.0, 'unit': 'mg/kg MS'}), Component({'nickel': 'vs', 'concentration': 46.0, 'unit': 'mg/kg MS'})]\n",
      "\n",
      "6- Interval top=0.6, base=1.0\n",
      " - Interval components: [Component({'benzène': 'vi', 'concentration': 0.73, 'unit': 'mg/kg MS'}), Component({'toluène': 'vs', 'concentration': 1.4, 'unit': 'mg/kg MS'}), Component({'plomb': 'vs', 'concentration': 91.0, 'unit': 'mg/kg MS'}), Component({'arsenic': 'vs', 'concentration': 15.0, 'unit': 'mg/kg MS'}), Component({'cuivre': 'vs', 'concentration': 56.0, 'unit': 'mg/kg MS'}), Component({'nickel': 'vs', 'concentration': 50.0, 'unit': 'mg/kg MS'})]\n",
      "\n",
      "7- Interval top=1.8, base=2.2\n",
      " - Interval components: [Component({'benzène': 'vi_', 'concentration': 1.5, 'unit': 'mg/kg MS'}), Component({'toluène': 'vs', 'concentration': 1.8, 'unit': 'mg/kg MS'}), Component({'plomb': 'vi_', 'concentration': 2600.0, 'unit': 'mg/kg MS'}), Component({'arsenic': 'vr', 'concentration': 10.0, 'unit': 'mg/kg MS'}), Component({'cuivre': 'vs', 'concentration': 20.0, 'unit': 'mg/kg MS'}), Component({'nickel': 'vs', 'concentration': 27.0, 'unit': 'mg/kg MS'})]\n",
      "\n",
      "8- Interval top=3.4, base=3.6\n",
      " - Interval components: [Component({'benzène': 'vi_', 'concentration': 47.0, 'unit': 'mg/kg MS'}), Component({'toluène': 'vi', 'concentration': 46.0, 'unit': 'mg/kg MS'}), Component({'plomb': 'vs', 'concentration': 120.0, 'unit': 'mg/kg MS'}), Component({'arsenic': 'vr', 'concentration': 7.8, 'unit': 'mg/kg MS'}), Component({'cuivre': 'vr', 'concentration': 14.0, 'unit': 'mg/kg MS'}), Component({'nickel': 'vr', 'concentration': 23.0, 'unit': 'mg/kg MS'})]\n",
      "\n",
      "9- Interval top=4.3, base=4.7\n",
      " - Interval components: [Component({'benzène': 'vi_', 'concentration': 21.0, 'unit': 'mg/kg MS'}), Component({'toluène': 'vi', 'concentration': 20.0, 'unit': 'mg/kg MS'}), Component({'plomb': 'vr', 'concentration': 11.0, 'unit': 'mg/kg MS'}), Component({'arsenic': 'vr', 'concentration': 9.8, 'unit': 'mg/kg MS'}), Component({'cuivre': 'vr', 'concentration': 12.0, 'unit': 'mg/kg MS'}), Component({'nickel': 'vs', 'concentration': 27.0, 'unit': 'mg/kg MS'})]\n",
      "\n",
      "\u001b[1;40;47m Summary : {'207': Striplog(11 Intervals, start=0.0, stop=4.7)}\u001b[0;0;0m\n",
      "\n",
      "\u001b[0;40;47m BH_ID: '212'\u001b[0;0;0m\n",
      "0- Interval top=0.0, base=1.2\n",
      " - Interval components: [Component({'lithology': 'remblais'})]\n",
      "\n",
      "1- Interval top=0.0, base=1.2\n",
      " - Interval components: [Component({'lithology': 'remblais'})]\n",
      "\n",
      "2- Interval top=0.0, base=1.2\n",
      " - Interval components: [Component({'lithology': 'remblais'})]\n",
      "\n",
      "3- Interval top=0.0, base=1.2\n",
      " - Interval components: [Component({'lithology': 'remblais'})]\n",
      "\n",
      "4- Interval top=0.0, base=0.5\n",
      " - Interval components: [Component({'benzène': 'vi', 'concentration': 0.21, 'unit': 'mg/kg MS'}), Component({'toluène': 'vr', 'concentration': 0.14, 'unit': 'mg/kg MS'}), Component({'plomb': 'vs', 'concentration': 230.0, 'unit': 'mg/kg MS'}), Component({'arsenic': 'vi', 'concentration': 70.0, 'unit': 'mg/kg MS'}), Component({'cuivre': 'vs', 'concentration': 26.0, 'unit': 'mg/kg MS'}), Component({'nickel': 'vs', 'concentration': 57.0, 'unit': 'mg/kg MS'})]\n",
      "\n",
      "5- Interval top=0.8, base=1.2\n",
      " - Interval components: [Component({'benzène': 'vi', 'concentration': 0.54, 'unit': 'mg/kg MS'}), Component({'toluène': 'vs', 'concentration': 0.22, 'unit': 'mg/kg MS'}), Component({'plomb': 'vs', 'concentration': 190.0, 'unit': 'mg/kg MS'}), Component({'arsenic': 'vs', 'concentration': 20.0, 'unit': 'mg/kg MS'}), Component({'cuivre': 'vs', 'concentration': 23.0, 'unit': 'mg/kg MS'}), Component({'nickel': 'vs', 'concentration': 29.0, 'unit': 'mg/kg MS'})]\n",
      "\n",
      "6- Interval top=3.2, base=3.4\n",
      " - Interval components: [Component({'benzène': 'vi_', 'concentration': 0.84, 'unit': 'mg/kg MS'}), Component({'toluène': 'vr', 'concentration': 0.12, 'unit': 'mg/kg MS'}), Component({'plomb': 'vs', 'concentration': 99.0, 'unit': 'mg/kg MS'}), Component({'arsenic': 'vr', 'concentration': 10.0, 'unit': 'mg/kg MS'}), Component({'cuivre': 'vr', 'concentration': 12.0, 'unit': 'mg/kg MS'}), Component({'nickel': 'vr', 'concentration': 19.0, 'unit': 'mg/kg MS'})]\n",
      "\n",
      "7- Interval top=4.4, base=4.8\n",
      " - Interval components: [Component({'benzène': 'vr', 'concentration': 0.02, 'unit': 'mg/kg MS'}), Component({'toluène': 'vr', 'concentration': 0.02, 'unit': 'mg/kg MS'}), Component({'plomb': 'vr', 'concentration': 12.0, 'unit': 'mg/kg MS'}), Component({'arsenic': 'vr', 'concentration': 12.0, 'unit': 'mg/kg MS'}), Component({'cuivre': 'vr', 'concentration': 14.0, 'unit': 'mg/kg MS'}), Component({'nickel': 'vs', 'concentration': 27.0, 'unit': 'mg/kg MS'})]\n",
      "\n",
      "\u001b[1;40;47m Summary : {'212': Striplog(9 Intervals, start=0.0, stop=4.8)}\u001b[0;0;0m\n",
      "\n",
      "\u001b[0;40;47m BH_ID: '214'\u001b[0;0;0m\n",
      "0- Interval top=0.0, base=0.6\n",
      " - Interval components: [Component({'lithology': 'remblais'})]\n",
      "\n",
      "1- Interval top=0.0, base=0.6\n",
      " - Interval components: [Component({'lithology': 'remblais'})]\n",
      "\n",
      "2- Interval top=0.0, base=0.6\n",
      " - Interval components: [Component({'lithology': 'remblais'})]\n",
      "\n",
      "3- Interval top=0.0, base=0.6\n",
      " - Interval components: [Component({'lithology': 'remblais'})]\n",
      "\n",
      "4- Interval top=0.6, base=1.0\n",
      " - Interval components: [Component({'benzène': 'vi_', 'concentration': 5.8, 'unit': 'mg/kg MS'}), Component({'toluène': 'vs', 'concentration': 0.85, 'unit': 'mg/kg MS'}), Component({'plomb': 'vs', 'concentration': 79.0, 'unit': 'mg/kg MS'}), Component({'arsenic': 'vs', 'concentration': 25.0, 'unit': 'mg/kg MS'}), Component({'cuivre': 'vs', 'concentration': 35.0, 'unit': 'mg/kg MS'}), Component({'nickel': 'vs', 'concentration': 44.0, 'unit': 'mg/kg MS'})]\n",
      "\n",
      "5- Interval top=1.7, base=2.1\n",
      " - Interval components: [Component({'benzène': 'vi_', 'concentration': 1.6, 'unit': 'mg/kg MS'}), Component({'toluène': 'vs', 'concentration': 0.52, 'unit': 'mg/kg MS'}), Component({'plomb': 'vs', 'concentration': 64.0, 'unit': 'mg/kg MS'}), Component({'arsenic': 'vs', 'concentration': 14.0, 'unit': 'mg/kg MS'}), Component({'cuivre': 'vs', 'concentration': 23.0, 'unit': 'mg/kg MS'}), Component({'nickel': 'vs', 'concentration': 31.0, 'unit': 'mg/kg MS'})]\n",
      "\n",
      "6- Interval top=3.1, base=3.6\n",
      " - Interval components: [Component({'benzène': 'vi_', 'concentration': 1.1, 'unit': 'mg/kg MS'}), Component({'toluène': 'vs', 'concentration': 1.2, 'unit': 'mg/kg MS'}), Component({'plomb': 'vs', 'concentration': 280.0, 'unit': 'mg/kg MS'}), Component({'arsenic': 'vs', 'concentration': 38.0, 'unit': 'mg/kg MS'}), Component({'cuivre': 'vs', 'concentration': 17.0, 'unit': 'mg/kg MS'}), Component({'nickel': 'vs', 'concentration': 66.0, 'unit': 'mg/kg MS'})]\n",
      "\n",
      "7- Interval top=4.4, base=4.8\n",
      " - Interval components: [Component({'benzène': 'vr', 'concentration': 0.03, 'unit': 'mg/kg MS'}), Component({'toluène': 'vr', 'concentration': 0.02, 'unit': 'mg/kg MS'}), Component({'plomb': 'vr', 'concentration': 12.0, 'unit': 'mg/kg MS'}), Component({'arsenic': 'vs', 'concentration': 14.0, 'unit': 'mg/kg MS'}), Component({'cuivre': 'vr', 'concentration': 11.0, 'unit': 'mg/kg MS'}), Component({'nickel': 'vs', 'concentration': 28.0, 'unit': 'mg/kg MS'})]\n",
      "\n",
      "\u001b[1;40;47m Summary : {'214': Striplog(9 Intervals, start=0.0, stop=4.8)}\u001b[0;0;0m\n",
      "\n",
      "\u001b[0;40;47m BH_ID: '217'\u001b[0;0;0m\n",
      "0- Interval top=0.0, base=1.2\n",
      " - Interval components: [Component({'lithology': 'remblais'})]\n",
      "\n",
      "1- Interval top=0.0, base=1.2\n",
      " - Interval components: [Component({'lithology': 'remblais'})]\n",
      "\n",
      "2- Interval top=0.0, base=1.2\n",
      " - Interval components: [Component({'lithology': 'remblais'})]\n",
      "\n",
      "3- Interval top=0.0, base=1.2\n",
      " - Interval components: [Component({'lithology': 'remblais'})]\n",
      "\n",
      "4- Interval top=0.0, base=0.5\n",
      " - Interval components: [Component({'benzène': 'vi_', 'concentration': 1.5, 'unit': 'mg/kg MS'}), Component({'toluène': 'vs', 'concentration': 0.9, 'unit': 'mg/kg MS'}), Component({'plomb': 'vs', 'concentration': 250.0, 'unit': 'mg/kg MS'}), Component({'arsenic': 'vs', 'concentration': 27.0, 'unit': 'mg/kg MS'}), Component({'cuivre': 'vs', 'concentration': 49.0, 'unit': 'mg/kg MS'}), Component({'nickel': 'vs', 'concentration': 77.0, 'unit': 'mg/kg MS'})]\n",
      "\n",
      "5- Interval top=0.6, base=1.0\n",
      " - Interval components: [Component({'benzène': 'vi_', 'concentration': 2.0, 'unit': 'mg/kg MS'}), Component({'toluène': 'vs', 'concentration': 1.9, 'unit': 'mg/kg MS'}), Component({'plomb': 'vs', 'concentration': 280.0, 'unit': 'mg/kg MS'}), Component({'arsenic': 'vi', 'concentration': 74.0, 'unit': 'mg/kg MS'}), Component({'cuivre': 'vs', 'concentration': 72.0, 'unit': 'mg/kg MS'}), Component({'nickel': 'vs', 'concentration': 49.0, 'unit': 'mg/kg MS'})]\n",
      "\n",
      "6- Interval top=3.4, base=3.6\n",
      " - Interval components: [Component({'benzène': 'vi', 'concentration': 0.45, 'unit': 'mg/kg MS'}), Component({'toluène': 'vr', 'concentration': 0.02, 'unit': 'mg/kg MS'}), Component({'plomb': 'vs', 'concentration': 26.0, 'unit': 'mg/kg MS'}), Component({'arsenic': 'vr', 'concentration': 6.7, 'unit': 'mg/kg MS'}), Component({'cuivre': 'vr', 'concentration': 11.0, 'unit': 'mg/kg MS'}), Component({'nickel': 'vr', 'concentration': 16.0, 'unit': 'mg/kg MS'})]\n",
      "\n",
      "7- Interval top=4.3, base=4.7\n",
      " - Interval components: [Component({'benzène': 'vr', 'concentration': 0.02, 'unit': 'mg/kg MS'}), Component({'toluène': 'vr', 'concentration': 0.02, 'unit': 'mg/kg MS'}), Component({'plomb': 'vr', 'concentration': 12.0, 'unit': 'mg/kg MS'}), Component({'arsenic': 'vr', 'concentration': 6.8, 'unit': 'mg/kg MS'}), Component({'cuivre': 'vr', 'concentration': 12.0, 'unit': 'mg/kg MS'}), Component({'nickel': 'vs', 'concentration': 26.0, 'unit': 'mg/kg MS'})]\n",
      "\n",
      "\u001b[1;40;47m Summary : {'217': Striplog(9 Intervals, start=0.0, stop=4.7)}\u001b[0;0;0m\n",
      "\n",
      "\u001b[0;40;47m BH_ID: '221'\u001b[0;0;0m\n",
      "\u001b[1;31m\n",
      "WARNING : No value matches with 'Vide ' in given lexicon !\u001b[0;0m\n",
      "0- Interval top=0.0, base=0.5\n",
      " - Interval components: []\n",
      "\n",
      "1- Interval top=0.6, base=1.0\n",
      " - Interval components: [Component({'benzène': 'vi_', 'concentration': 1.1, 'unit': 'mg/kg MS'}), Component({'toluène': 'vs', 'concentration': 0.84, 'unit': 'mg/kg MS'}), Component({'plomb': 'vs', 'concentration': 160.0, 'unit': 'mg/kg MS'}), Component({'arsenic': 'vs', 'concentration': 22.0, 'unit': 'mg/kg MS'}), Component({'cuivre': 'vs', 'concentration': 49.0, 'unit': 'mg/kg MS'}), Component({'nickel': 'vs', 'concentration': 81.0, 'unit': 'mg/kg MS'})]\n",
      "\n",
      "\u001b[1;40;47m Summary : {'221': Striplog(3 Intervals, start=0.0, stop=1.0)}\u001b[0;0;0m\n",
      "\n",
      "\u001b[0;40;47m BH_ID: '223'\u001b[0;0;0m\n",
      "0- Interval top=0.0, base=1.3\n",
      " - Interval components: [Component({'lithology': 'remblais'})]\n",
      "\n",
      "1- Interval top=0.0, base=1.3\n",
      " - Interval components: [Component({'lithology': 'remblais'})]\n",
      "\n",
      "2- Interval top=0.0, base=0.5\n",
      " - Interval components: [Component({'benzène': 'vi', 'concentration': 0.3, 'unit': 'mg/kg MS'}), Component({'toluène': 'vs', 'concentration': 0.29, 'unit': 'mg/kg MS'}), Component({'plomb': 'vs', 'concentration': 120.0, 'unit': 'mg/kg MS'}), Component({'arsenic': 'vs', 'concentration': 25.0, 'unit': 'mg/kg MS'}), Component({'cuivre': 'vs', 'concentration': 49.0, 'unit': 'mg/kg MS'}), Component({'nickel': 'vs', 'concentration': 59.0, 'unit': 'mg/kg MS'})]\n",
      "\n",
      "3- Interval top=0.8, base=1.1\n",
      " - Interval components: [Component({'benzène': 'vi', 'concentration': 0.51, 'unit': 'mg/kg MS'}), Component({'toluène': 'vs', 'concentration': 0.43, 'unit': 'mg/kg MS'}), Component({'plomb': 'vs', 'concentration': 130.0, 'unit': 'mg/kg MS'}), Component({'arsenic': 'vs', 'concentration': 21.0, 'unit': 'mg/kg MS'}), Component({'cuivre': 'vs', 'concentration': 41.0, 'unit': 'mg/kg MS'}), Component({'nickel': 'vs', 'concentration': 150.0, 'unit': 'mg/kg MS'})]\n",
      "\n",
      "\u001b[1;40;47m Summary : {'223': Striplog(5 Intervals, start=0.0, stop=1.6)}\u001b[0;0;0m\n",
      "\n",
      "\u001b[0;40;47m BH_ID: '?2'\u001b[0;0;0m\n",
      "0- Interval top=0.0, base=1.2\n",
      " - Interval components: [Component({'lithology': 'remblais'})]\n",
      "\n",
      "1- Interval top=0.8, base=1.2\n",
      " - Interval components: [Component({'benzène': 'vr', 'concentration': 0.08, 'unit': 'mg/kg MS'}), Component({'toluène': 'vr', 'concentration': 0.04, 'unit': 'mg/kg MS'}), Component({'plomb': 'vs', 'concentration': 28.0, 'unit': 'mg/kg MS'}), Component({'arsenic': 'vr', 'concentration': 11.0, 'unit': 'mg/kg MS'}), Component({'cuivre': 'vr', 'concentration': 9.0, 'unit': 'mg/kg MS'}), Component({'nickel': 'vr', 'concentration': 7.8, 'unit': 'mg/kg MS'})]\n",
      "\n",
      "\u001b[1;40;47m Summary : {'?2': Striplog(3 Intervals, start=0.0, stop=1.2)}\u001b[0;0;0m\n",
      "\n",
      "\u001b[0;40;47m BH_ID: '?1'\u001b[0;0;0m\n",
      "0- Interval top=0.0, base=1.2\n",
      " - Interval components: [Component({'lithology': 'remblais'})]\n",
      "\n",
      "1- Interval top=2.0, base=2.4\n",
      " - Interval components: [Component({'benzène': 'vi', 'concentration': 0.57, 'unit': 'mg/kg MS'}), Component({'toluène': 'vr', 'concentration': 0.07, 'unit': 'mg/kg MS'}), Component({'plomb': 'vs', 'concentration': 57.0, 'unit': 'mg/kg MS'}), Component({'arsenic': 'vs', 'concentration': 13.0, 'unit': 'mg/kg MS'}), Component({'cuivre': 'vs', 'concentration': 15.0, 'unit': 'mg/kg MS'}), Component({'nickel': 'vr', 'concentration': 14.0, 'unit': 'mg/kg MS'})]\n",
      "\n",
      "\u001b[1;40;47m Summary : {'?1': Striplog(3 Intervals, start=0.0, stop=2.4)}\u001b[0;0;0m\n",
      "\n",
      "\u001b[0;40;47m BH_ID: '224'\u001b[0;0;0m\n",
      "0- Interval top=0.0, base=0.5\n",
      " - Interval components: [Component({'lithology': 'remblais'})]\n",
      "\n",
      "1- Interval top=0.0, base=0.5\n",
      " - Interval components: [Component({'benzène': 'vr', 'concentration': 0.08, 'unit': 'mg/kg MS'}), Component({'toluène': 'vr', 'concentration': 0.06, 'unit': 'mg/kg MS'}), Component({'plomb': 'vs', 'concentration': 160.0, 'unit': 'mg/kg MS'}), Component({'arsenic': 'vi', 'concentration': 73.0, 'unit': 'mg/kg MS'}), Component({'cuivre': 'vs', 'concentration': 82.0, 'unit': 'mg/kg MS'}), Component({'nickel': 'vs', 'concentration': 87.0, 'unit': 'mg/kg MS'})]\n",
      "\n",
      "\u001b[1;40;47m Summary : {'224': Striplog(3 Intervals, start=0.0, stop=1.0)}\u001b[0;0;0m\n",
      "\n",
      "\u001b[0;40;47m BH_ID: '225'\u001b[0;0;0m\n",
      "0- Interval top=0.0, base=0.5\n",
      " - Interval components: [Component({'lithology': 'schistes'})]\n",
      "\n",
      "1- Interval top=0.0, base=0.5\n",
      " - Interval components: [Component({'lithology': 'schistes'})]\n",
      "\n",
      "2- Interval top=0.0, base=0.5\n",
      " - Interval components: [Component({'lithology': 'schistes'})]\n",
      "\n",
      "3- Interval top=0.0, base=0.5\n",
      " - Interval components: [Component({'lithology': 'schistes'})]\n",
      "\n",
      "4- Interval top=0.0, base=0.5\n",
      " - Interval components: [Component({'lithology': 'schistes'})]\n",
      "\n",
      "5- Interval top=0.0, base=0.5\n",
      " - Interval components: [Component({'lithology': 'remblais'})]\n",
      "\n",
      "6- Interval top=0.5, base=0.9\n",
      " - Interval components: [Component({'benzène': 'vr', 'concentration': 0.02, 'unit': 'mg/kg MS'}), Component({'toluène': 'vr', 'concentration': 0.02, 'unit': 'mg/kg MS'}), Component({'plomb': 'vs', 'concentration': 310.0, 'unit': 'mg/kg MS'}), Component({'arsenic': 'vi', 'concentration': 95.0, 'unit': 'mg/kg MS'}), Component({'cuivre': 'vs', 'concentration': 31.0, 'unit': 'mg/kg MS'}), Component({'nickel': 'vs', 'concentration': 52.0, 'unit': 'mg/kg MS'})]\n",
      "\n",
      "7- Interval top=1.8, base=2.3\n",
      " - Interval components: [Component({'benzène': 'vi', 'concentration': 0.33, 'unit': 'mg/kg MS'}), Component({'toluène': 'vr', 'concentration': 0.03, 'unit': 'mg/kg MS'}), Component({'plomb': 'vs', 'concentration': 61.0, 'unit': 'mg/kg MS'}), Component({'arsenic': 'vs', 'concentration': 24.0, 'unit': 'mg/kg MS'}), Component({'cuivre': 'vs', 'concentration': 43.0, 'unit': 'mg/kg MS'}), Component({'nickel': 'vs', 'concentration': 67.0, 'unit': 'mg/kg MS'})]\n",
      "\n",
      "8- Interval top=3.6, base=4.0\n",
      " - Interval components: [Component({'benzène': 'vi', 'concentration': 0.53, 'unit': 'mg/kg MS'}), Component({'toluène': 'vr', 'concentration': 0.07, 'unit': 'mg/kg MS'}), Component({'plomb': 'vi_', 'concentration': 4200.0, 'unit': 'mg/kg MS'}), Component({'arsenic': 'vs', 'concentration': 14.0, 'unit': 'mg/kg MS'}), Component({'cuivre': 'vr', 'concentration': 12.0, 'unit': 'mg/kg MS'}), Component({'nickel': 'vs', 'concentration': 31.0, 'unit': 'mg/kg MS'})]\n",
      "\n",
      "9- Interval top=4.2, base=4.6\n",
      " - Interval components: [Component({'benzène': 'vr', 'concentration': 0.02, 'unit': 'mg/kg MS'}), Component({'toluène': 'vr', 'concentration': 0.02, 'unit': 'mg/kg MS'}), Component({'plomb': 'vr', 'concentration': 11.0, 'unit': 'mg/kg MS'}), Component({'arsenic': 'vr', 'concentration': 6.3, 'unit': 'mg/kg MS'}), Component({'cuivre': 'vr', 'concentration': 14.0, 'unit': 'mg/kg MS'}), Component({'nickel': 'vr', 'concentration': 23.0, 'unit': 'mg/kg MS'})]\n",
      "\n",
      "10- Interval top=0.0, base=0.5\n",
      " - Interval components: [Component({'benzène': 'vi_', 'concentration': 2.8, 'unit': 'mg/kg MS'}), Component({'toluène': 'vs', 'concentration': 1.7, 'unit': 'mg/kg MS'}), Component({'plomb': 'vs', 'concentration': 43.0, 'unit': 'mg/kg MS'}), Component({'arsenic': 'vr', 'concentration': 9.0, 'unit': 'mg/kg MS'}), Component({'cuivre': 'vs', 'concentration': 48.0, 'unit': 'mg/kg MS'}), Component({'nickel': 'vr', 'concentration': 15.0, 'unit': 'mg/kg MS'})]\n",
      "\n",
      "11- Interval top=0.7, base=1.2\n",
      " - Interval components: [Component({'benzène': 'vi_', 'concentration': 1.0, 'unit': 'mg/kg MS'}), Component({'toluène': 'vs', 'concentration': 0.48, 'unit': 'mg/kg MS'}), Component({'plomb': 'vr', 'concentration': 22.0, 'unit': 'mg/kg MS'}), Component({'arsenic': 'vr', 'concentration': 7.7, 'unit': 'mg/kg MS'}), Component({'cuivre': 'vs', 'concentration': 22.0, 'unit': 'mg/kg MS'}), Component({'nickel': 'vs', 'concentration': 27.0, 'unit': 'mg/kg MS'})]\n",
      "\n",
      "\u001b[1;40;47m Summary : {'225': Striplog(13 Intervals, start=0.0, stop=5.399999999999998)}\u001b[0;0;0m\n",
      "\n",
      "\u001b[0;40;47m BH_ID: '226'\u001b[0;0;0m\n",
      "0- Interval top=0.0, base=1.0\n",
      " - Interval components: [Component({'lithology': 'remblais'})]\n",
      "\n",
      "1- Interval top=0.0, base=1.0\n",
      " - Interval components: [Component({'lithology': 'remblais'})]\n",
      "\n",
      "2- Interval top=0.0, base=1.0\n",
      " - Interval components: [Component({'lithology': 'remblais'})]\n",
      "\n",
      "3- Interval top=0.0, base=1.0\n",
      " - Interval components: [Component({'lithology': 'remblais'})]\n",
      "\n",
      "4- Interval top=0.6, base=1.0\n",
      " - Interval components: [Component({'benzène': 'vi_', 'concentration': 1.5, 'unit': 'mg/kg MS'}), Component({'toluène': 'vs', 'concentration': 1.0, 'unit': 'mg/kg MS'}), Component({'plomb': 'vs', 'concentration': 150.0, 'unit': 'mg/kg MS'}), Component({'arsenic': 'vs', 'concentration': 21.0, 'unit': 'mg/kg MS'}), Component({'cuivre': 'vs', 'concentration': 34.0, 'unit': 'mg/kg MS'}), Component({'nickel': 'vs', 'concentration': 55.0, 'unit': 'mg/kg MS'})]\n",
      "\n",
      "5- Interval top=2.1, base=2.4\n",
      " - Interval components: [Component({'benzène': 'vi_', 'concentration': 5.5, 'unit': 'mg/kg MS'}), Component({'toluène': 'vs', 'concentration': 2.2, 'unit': 'mg/kg MS'}), Component({'plomb': 'vs', 'concentration': 110.0, 'unit': 'mg/kg MS'}), Component({'arsenic': 'vs', 'concentration': 20.0, 'unit': 'mg/kg MS'}), Component({'cuivre': 'vs', 'concentration': 39.0, 'unit': 'mg/kg MS'}), Component({'nickel': 'vs', 'concentration': 31.0, 'unit': 'mg/kg MS'})]\n",
      "\n",
      "6- Interval top=2.8, base=3.2\n",
      " - Interval components: [Component({'benzène': 'vi_', 'concentration': 1.9, 'unit': 'mg/kg MS'}), Component({'toluène': 'vs', 'concentration': 0.79, 'unit': 'mg/kg MS'}), Component({'plomb': 'vs', 'concentration': 340.0, 'unit': 'mg/kg MS'}), Component({'arsenic': 'vs', 'concentration': 23.0, 'unit': 'mg/kg MS'}), Component({'cuivre': 'vs', 'concentration': 30.0, 'unit': 'mg/kg MS'}), Component({'nickel': 'vs', 'concentration': 49.0, 'unit': 'mg/kg MS'})]\n",
      "\n",
      "7- Interval top=3.8, base=4.3\n",
      " - Interval components: [Component({'benzène': 'vr', 'concentration': 0.09, 'unit': 'mg/kg MS'}), Component({'toluène': 'vr', 'concentration': 0.05, 'unit': 'mg/kg MS'}), Component({'plomb': 'vr', 'concentration': 13.0, 'unit': 'mg/kg MS'}), Component({'arsenic': 'vr', 'concentration': 12.0, 'unit': 'mg/kg MS'}), Component({'cuivre': 'vr', 'concentration': 12.0, 'unit': 'mg/kg MS'}), Component({'nickel': 'vs', 'concentration': 28.0, 'unit': 'mg/kg MS'})]\n",
      "\n",
      "\u001b[1;40;47m Summary : {'226': Striplog(9 Intervals, start=0.0, stop=4.3)}\u001b[0;0;0m\n",
      "\n",
      "\u001b[0;40;47m BH_ID: '50'\u001b[0;0;0m\n",
      "0- Interval top=0.0, base=0.5\n",
      " - Interval components: [Component({'lithology': 'remblais'})]\n",
      "\n",
      "1- Interval top=0.0, base=0.5\n",
      " - Interval components: [Component({'lithology': 'remblais'})]\n",
      "\n",
      "2- Interval top=0.0, base=0.5\n",
      " - Interval components: [Component({'lithology': 'remblais'})]\n",
      "\n",
      "3- Interval top=0.7, base=1.2\n",
      " - Interval components: [Component({'benzène': 'vs', 'concentration': 0.13, 'unit': 'mg/kg MS'}), Component({'toluène': 'vs', 'concentration': 0.21, 'unit': 'mg/kg MS'}), Component({'plomb': 'vs', 'concentration': 110.0, 'unit': 'mg/kg MS'}), Component({'arsenic': 'vs', 'concentration': 45.0, 'unit': 'mg/kg MS'}), Component({'cuivre': 'vs', 'concentration': 89.0, 'unit': 'mg/kg MS'}), Component({'nickel': 'vs', 'concentration': 41.0, 'unit': 'mg/kg MS'})]\n",
      "\n",
      "4- Interval top=1.4, base=2.4\n",
      " - Interval components: [Component({'benzène': 'vr', 'concentration': 0.06, 'unit': 'mg/kg MS'}), Component({'toluène': 'vr', 'concentration': 0.09, 'unit': 'mg/kg MS'}), Component({'plomb': 'vs', 'concentration': 230.0, 'unit': 'mg/kg MS'}), Component({'arsenic': 'vs', 'concentration': 45.0, 'unit': 'mg/kg MS'}), Component({'cuivre': 'vs', 'concentration': 61.0, 'unit': 'mg/kg MS'}), Component({'nickel': 'vs', 'concentration': 48.0, 'unit': 'mg/kg MS'})]\n",
      "\n",
      "5- Interval top=3.0, base=3.6\n",
      " - Interval components: [Component({'benzène': 'vi', 'concentration': 0.33, 'unit': 'mg/kg MS'}), Component({'toluène': 'vr', 'concentration': 0.07, 'unit': 'mg/kg MS'}), Component({'plomb': 'vs', 'concentration': 290.0, 'unit': 'mg/kg MS'}), Component({'arsenic': 'vs', 'concentration': 16.0, 'unit': 'mg/kg MS'}), Component({'cuivre': 'vr', 'concentration': 13.0, 'unit': 'mg/kg MS'}), Component({'nickel': 'vr', 'concentration': 21.0, 'unit': 'mg/kg MS'})]\n",
      "\n",
      "\u001b[1;40;47m Summary : {'50': Striplog(7 Intervals, start=0.0, stop=4.2)}\u001b[0;0;0m\n",
      "\u001b[1;34mWARNING: Borehole's Z coordinate not found, use default one: 102 [m]\u001b[0;0m\n",
      "\n",
      "\u001b[0;40;47m BH_ID: '51'\u001b[0;0;0m\n",
      "0- Interval top=0.0, base=0.6\n"
     ]
    },
    {
     "name": "stderr",
     "output_type": "stream",
     "text": [
      "/home/yanathan/Projects/GSDMA/utils/orm.py:203: SAWarning: relationship 'ComponentOrm.intervals' will copy column Components.id to column Linkintervalcomponent.comp_id, which conflicts with relationship(s): 'IntervalOrm.components' (copies Components.id to Linkintervalcomponent.comp_id). If this is not the intention, consider if these relationships should be linked with back_populates, or if viewonly=True should be applied to one or more if they are read-only. For the less common case that foreign key constraints are partially overlapping, the orm.foreign() annotation can be used to isolate the columns that should be written towards.   To silence this warning, add the parameter 'overlaps=\"components\"' to the 'ComponentOrm.intervals' relationship. (Background on this error at: https://sqlalche.me/e/14/qzyx)\n",
      "  boreholes_orm.append(BoreholeOrm(id=bh_name, date=bh_date))\n",
      "/home/yanathan/Projects/GSDMA/utils/orm.py:203: SAWarning: relationship 'ComponentOrm.intervals' will copy column Intervals.id to column Linkintervalcomponent.intv_id, which conflicts with relationship(s): 'IntervalOrm.components' (copies Intervals.id to Linkintervalcomponent.intv_id). If this is not the intention, consider if these relationships should be linked with back_populates, or if viewonly=True should be applied to one or more if they are read-only. For the less common case that foreign key constraints are partially overlapping, the orm.foreign() annotation can be used to isolate the columns that should be written towards.   To silence this warning, add the parameter 'overlaps=\"components\"' to the 'ComponentOrm.intervals' relationship. (Background on this error at: https://sqlalche.me/e/14/qzyx)\n",
      "  boreholes_orm.append(BoreholeOrm(id=bh_name, date=bh_date))\n",
      "/home/yanathan/Projects/GSDMA/utils/orm.py:203: SAWarning: relationship 'ComponentOrm.component_assoc' will copy column Components.id to column Linkintervalcomponent.comp_id, which conflicts with relationship(s): 'ComponentOrm.intervals' (copies Components.id to Linkintervalcomponent.comp_id), 'IntervalOrm.components' (copies Components.id to Linkintervalcomponent.comp_id). If this is not the intention, consider if these relationships should be linked with back_populates, or if viewonly=True should be applied to one or more if they are read-only. For the less common case that foreign key constraints are partially overlapping, the orm.foreign() annotation can be used to isolate the columns that should be written towards.   To silence this warning, add the parameter 'overlaps=\"components,intervals\"' to the 'ComponentOrm.component_assoc' relationship. (Background on this error at: https://sqlalche.me/e/14/qzyx)\n",
      "  boreholes_orm.append(BoreholeOrm(id=bh_name, date=bh_date))\n",
      "/home/yanathan/Projects/GSDMA/utils/orm.py:203: SAWarning: relationship 'LinkIntervalComponentOrm.component' will copy column Components.id to column Linkintervalcomponent.comp_id, which conflicts with relationship(s): 'ComponentOrm.intervals' (copies Components.id to Linkintervalcomponent.comp_id), 'IntervalOrm.components' (copies Components.id to Linkintervalcomponent.comp_id). If this is not the intention, consider if these relationships should be linked with back_populates, or if viewonly=True should be applied to one or more if they are read-only. For the less common case that foreign key constraints are partially overlapping, the orm.foreign() annotation can be used to isolate the columns that should be written towards.   To silence this warning, add the parameter 'overlaps=\"components,intervals\"' to the 'LinkIntervalComponentOrm.component' relationship. (Background on this error at: https://sqlalche.me/e/14/qzyx)\n",
      "  boreholes_orm.append(BoreholeOrm(id=bh_name, date=bh_date))\n",
      "/home/yanathan/Projects/GSDMA/utils/orm.py:203: SAWarning: relationship 'IntervalOrm.interval_assoc' will copy column Intervals.id to column Linkintervalcomponent.intv_id, which conflicts with relationship(s): 'ComponentOrm.intervals' (copies Intervals.id to Linkintervalcomponent.intv_id), 'IntervalOrm.components' (copies Intervals.id to Linkintervalcomponent.intv_id). If this is not the intention, consider if these relationships should be linked with back_populates, or if viewonly=True should be applied to one or more if they are read-only. For the less common case that foreign key constraints are partially overlapping, the orm.foreign() annotation can be used to isolate the columns that should be written towards.   To silence this warning, add the parameter 'overlaps=\"components,intervals\"' to the 'IntervalOrm.interval_assoc' relationship. (Background on this error at: https://sqlalche.me/e/14/qzyx)\n",
      "  boreholes_orm.append(BoreholeOrm(id=bh_name, date=bh_date))\n",
      "/home/yanathan/Projects/GSDMA/utils/orm.py:203: SAWarning: relationship 'LinkIntervalComponentOrm.interval' will copy column Intervals.id to column Linkintervalcomponent.intv_id, which conflicts with relationship(s): 'ComponentOrm.intervals' (copies Intervals.id to Linkintervalcomponent.intv_id), 'IntervalOrm.components' (copies Intervals.id to Linkintervalcomponent.intv_id). If this is not the intention, consider if these relationships should be linked with back_populates, or if viewonly=True should be applied to one or more if they are read-only. For the less common case that foreign key constraints are partially overlapping, the orm.foreign() annotation can be used to isolate the columns that should be written towards.   To silence this warning, add the parameter 'overlaps=\"components,intervals\"' to the 'LinkIntervalComponentOrm.interval' relationship. (Background on this error at: https://sqlalche.me/e/14/qzyx)\n",
      "  boreholes_orm.append(BoreholeOrm(id=bh_name, date=bh_date))\n",
      "/home/yanathan/.local/share/virtualenvs/GSDMA-DRfwm83x/lib/python3.8/site-packages/striplog/interval.py:100: UserWarning: You must provide a lexicon to generate components from descriptions.\n",
      "  warnings.warn(w)\n"
     ]
    },
    {
     "name": "stdout",
     "output_type": "stream",
     "text": [
      " - Interval components: [Component({'lithology': 'remblais'})]\n",
      "\n",
      "1- Interval top=0.0, base=0.6\n",
      " - Interval components: [Component({'lithology': 'remblais'})]\n",
      "\n",
      "2- Interval top=0.0, base=0.6\n",
      " - Interval components: [Component({'lithology': 'remblais'})]\n",
      "\n",
      "3- Interval top=0.7, base=1.2\n",
      " - Interval components: [Component({'benzène': 'vs', 'concentration': 0.14, 'unit': 'mg/kg MS'}), Component({'toluène': 'vr', 'concentration': 0.13, 'unit': 'mg/kg MS'}), Component({'plomb': 'vs', 'concentration': 130.0, 'unit': 'mg/kg MS'}), Component({'arsenic': 'vs', 'concentration': 22.0, 'unit': 'mg/kg MS'}), Component({'cuivre': 'vi', 'concentration': 150.0, 'unit': 'mg/kg MS'}), Component({'nickel': 'vi_', 'concentration': 4100.0, 'unit': 'mg/kg MS'})]\n",
      "\n",
      "4- Interval top=2.0, base=2.5\n",
      " - Interval components: [Component({'benzène': 'vs', 'concentration': 0.2, 'unit': 'mg/kg MS'}), Component({'toluène': 'vr', 'concentration': 0.15, 'unit': 'mg/kg MS'}), Component({'plomb': 'vs', 'concentration': 56.0, 'unit': 'mg/kg MS'}), Component({'arsenic': 'vs', 'concentration': 16.0, 'unit': 'mg/kg MS'}), Component({'cuivre': 'vs', 'concentration': 60.0, 'unit': 'mg/kg MS'}), Component({'nickel': 'vi_', 'concentration': 570.0, 'unit': 'mg/kg MS'})]\n",
      "\n",
      "5- Interval top=3.0, base=3.6\n",
      " - Interval components: [Component({'benzène': 'vi_', 'concentration': 1.9, 'unit': 'mg/kg MS'}), Component({'toluène': 'vs', 'concentration': 0.81, 'unit': 'mg/kg MS'}), Component({'plomb': 'vs', 'concentration': 44.0, 'unit': 'mg/kg MS'}), Component({'arsenic': 'vs', 'concentration': 13.0, 'unit': 'mg/kg MS'}), Component({'cuivre': 'vs', 'concentration': 55.0, 'unit': 'mg/kg MS'}), Component({'nickel': 'vi', 'concentration': 260.0, 'unit': 'mg/kg MS'})]\n",
      "\n",
      "\u001b[1;40;47m Summary : {'51': Striplog(7 Intervals, start=0.0, stop=3.6)}\u001b[0;0;0m\n",
      "\u001b[1;34mWARNING: Borehole's Z coordinate not found, use default one: 102 [m]\u001b[0;0m\n",
      "\n",
      "\u001b[0;40;47m BH_ID: '52'\u001b[0;0;0m\n",
      "0- Interval top=0.0, base=0.5\n",
      " - Interval components: [Component({'lithology': 'remblais'})]\n",
      "\n",
      "1- Interval top=0.0, base=0.5\n",
      " - Interval components: [Component({'lithology': 'remblais'})]\n",
      "\n",
      "2- Interval top=0.0, base=0.5\n",
      " - Interval components: [Component({'lithology': 'remblais'})]\n",
      "\n",
      "3- Interval top=0.7, base=1.2\n",
      " - Interval components: [Component({'benzène': 'vi', 'concentration': 0.7, 'unit': 'mg/kg MS'}), Component({'toluène': 'vs', 'concentration': 0.28, 'unit': 'mg/kg MS'}), Component({'plomb': 'vs', 'concentration': 310.0, 'unit': 'mg/kg MS'}), Component({'arsenic': 'vs', 'concentration': 38.0, 'unit': 'mg/kg MS'}), Component({'cuivre': 'vs', 'concentration': 31.0, 'unit': 'mg/kg MS'}), Component({'nickel': 'vr', 'concentration': 21.0, 'unit': 'mg/kg MS'})]\n",
      "\n",
      "4- Interval top=1.8, base=2.4\n",
      " - Interval components: [Component({'benzène': 'vi', 'concentration': 0.32, 'unit': 'mg/kg MS'}), Component({'toluène': 'vr', 'concentration': 0.11, 'unit': 'mg/kg MS'}), Component({'plomb': 'vs', 'concentration': 70.0, 'unit': 'mg/kg MS'}), Component({'arsenic': 'vs', 'concentration': 20.0, 'unit': 'mg/kg MS'}), Component({'cuivre': 'vs', 'concentration': 30.0, 'unit': 'mg/kg MS'}), Component({'nickel': 'vs', 'concentration': 26.0, 'unit': 'mg/kg MS'})]\n",
      "\n",
      "5- Interval top=3.0, base=3.6\n",
      " - Interval components: [Component({'benzène': 'vi_', 'concentration': 3.2, 'unit': 'mg/kg MS'}), Component({'toluène': 'vs', 'concentration': 0.4, 'unit': 'mg/kg MS'}), Component({'plomb': 'vs', 'concentration': 45.0, 'unit': 'mg/kg MS'}), Component({'arsenic': 'vr', 'concentration': 9.4, 'unit': 'mg/kg MS'}), Component({'cuivre': 'vs', 'concentration': 57.0, 'unit': 'mg/kg MS'}), Component({'nickel': 'vs', 'concentration': 29.0, 'unit': 'mg/kg MS'})]\n",
      "\n",
      "\u001b[1;40;47m Summary : {'52': Striplog(7 Intervals, start=0.0, stop=3.6)}\u001b[0;0;0m\n",
      "\u001b[1;34mWARNING: Borehole's Z coordinate not found, use default one: 102 [m]\u001b[0;0m\n",
      "\n",
      "\u001b[0;40;47m BH_ID: '302'\u001b[0;0;0m\n",
      "0- Interval top=0.0, base=0.6\n",
      " - Interval components: [Component({'lithology': 'remblais'})]\n",
      "\n",
      "1- Interval top=0.0, base=0.6\n",
      " - Interval components: [Component({'lithology': 'remblais'})]\n",
      "\n",
      "2- Interval top=0.0, base=0.5\n",
      " - Interval components: [Component({'benzène': 'vi_', 'concentration': 0.91, 'unit': 'mg/kg MS'}), Component({'toluène': 'vs', 'concentration': 0.71, 'unit': 'mg/kg MS'}), Component({'plomb': 'vs', 'concentration': 160.0, 'unit': 'mg/kg MS'}), Component({'arsenic': 'vs', 'concentration': 29.0, 'unit': 'mg/kg MS'}), Component({'cuivre': 'vs', 'concentration': 54.0, 'unit': 'mg/kg MS'}), Component({'nickel': 'vs', 'concentration': 190.0, 'unit': 'mg/kg MS'})]\n",
      "\n",
      "3- Interval top=0.9, base=1.2\n",
      " - Interval components: [Component({'benzène': 'vi', 'concentration': 0.46, 'unit': 'mg/kg MS'}), Component({'toluène': 'vs', 'concentration': 0.4, 'unit': 'mg/kg MS'}), Component({'plomb': 'vs', 'concentration': 84.0, 'unit': 'mg/kg MS'}), Component({'arsenic': 'vs', 'concentration': 14.0, 'unit': 'mg/kg MS'}), Component({'cuivre': 'vs', 'concentration': 43.0, 'unit': 'mg/kg MS'}), Component({'nickel': 'vs', 'concentration': 66.0, 'unit': 'mg/kg MS'})]\n",
      "\n",
      "\u001b[1;40;47m Summary : {'302': Striplog(5 Intervals, start=0.0, stop=1.5999999999999996)}\u001b[0;0;0m\n",
      "\u001b[1;34mWARNING: Borehole's Z coordinate not found, use default one: 102 [m]\u001b[0;0m\n",
      "\n",
      "\u001b[0;40;47m BH_ID: '303'\u001b[0;0;0m\n",
      "0- Interval top=0.0, base=0.6\n",
      " - Interval components: [Component({'borehole_type': 'l', 'lithology': 'remblais'})]\n",
      "\n",
      "1- Interval top=0.0, base=0.6\n",
      " - Interval components: [Component({'borehole_type': 'l', 'lithology': 'remblais'})]\n",
      "\n",
      "2- Interval top=0.0, base=0.5\n",
      " - Interval components: [Component({'benzène': 'vi', 'concentration': 0.79, 'unit': 'mg/kg MS'}), Component({'toluène': 'vs', 'concentration': 0.66, 'unit': 'mg/kg MS'}), Component({'plomb': 'vs', 'concentration': 180.0, 'unit': 'mg/kg MS'}), Component({'arsenic': 'vs', 'concentration': 43.0, 'unit': 'mg/kg MS'}), Component({'cuivre': 'vs', 'concentration': 58.0, 'unit': 'mg/kg MS'}), Component({'nickel': 'vi', 'concentration': 320.0, 'unit': 'mg/kg MS'})]\n",
      "\n",
      "3- Interval top=0.7, base=1.0\n",
      " - Interval components: [Component({'benzène': 'vi_', 'concentration': 0.89, 'unit': 'mg/kg MS'}), Component({'toluène': 'vs', 'concentration': 0.57, 'unit': 'mg/kg MS'}), Component({'plomb': 'vs', 'concentration': 140.0, 'unit': 'mg/kg MS'}), Component({'arsenic': 'vs', 'concentration': 21.0, 'unit': 'mg/kg MS'}), Component({'cuivre': 'vs', 'concentration': 110.0, 'unit': 'mg/kg MS'}), Component({'nickel': 'vi_', 'concentration': 2000.0, 'unit': 'mg/kg MS'})]\n",
      "\n",
      "\u001b[1;40;47m Summary : {'303': Striplog(5 Intervals, start=0.0, stop=1.6)}\u001b[0;0;0m\n",
      "\u001b[1;34mWARNING: Borehole's Z coordinate not found, use default one: 102 [m]\u001b[0;0m\n",
      "\n",
      "\u001b[0;40;47m BH_ID: '304'\u001b[0;0;0m\n",
      "0- Interval top=0.0, base=0.6\n",
      " - Interval components: [Component({'borehole_type': 'l', 'lithology': 'remblais'})]\n",
      "\n",
      "1- Interval top=0.85, base=1.15\n",
      " - Interval components: [Component({'benzène': 'vi_', 'concentration': 0.92, 'unit': 'mg/kg MS'}), Component({'toluène': 'vs', 'concentration': 0.73, 'unit': 'mg/kg MS'}), Component({'plomb': 'vi', 'concentration': 570.0, 'unit': 'mg/kg MS'}), Component({'arsenic': 'vs', 'concentration': 32.0, 'unit': 'mg/kg MS'}), Component({'cuivre': 'vs', 'concentration': 51.0, 'unit': 'mg/kg MS'}), Component({'nickel': 'vs', 'concentration': 73.0, 'unit': 'mg/kg MS'})]\n",
      "\n",
      "\u001b[1;40;47m Summary : {'304': Striplog(3 Intervals, start=0.0, stop=1.15)}\u001b[0;0;0m\n",
      "\u001b[1;34mWARNING: Borehole's Z coordinate not found, use default one: 102 [m]\u001b[0;0m\n",
      "\n",
      "\u001b[0;40;47m BH_ID: '305'\u001b[0;0;0m\n",
      "0- Interval top=0.0, base=0.8\n",
      " - Interval components: [Component({'lithology': 'remblais'})]\n",
      "\n",
      "1- Interval top=0.8, base=1.1\n",
      " - Interval components: [Component({'benzène': 'vi_', 'concentration': 1.2, 'unit': 'mg/kg MS'}), Component({'toluène': 'vs', 'concentration': 0.97, 'unit': 'mg/kg MS'}), Component({'plomb': 'vs', 'concentration': 210.0, 'unit': 'mg/kg MS'}), Component({'arsenic': 'vs', 'concentration': 25.0, 'unit': 'mg/kg MS'}), Component({'cuivre': 'vs', 'concentration': 48.0, 'unit': 'mg/kg MS'}), Component({'nickel': 'vs', 'concentration': 49.0, 'unit': 'mg/kg MS'})]\n",
      "\n",
      "\u001b[1;40;47m Summary : {'305': Striplog(3 Intervals, start=0.0, stop=1.1)}\u001b[0;0;0m\n",
      "\u001b[1;34mWARNING: Borehole's Z coordinate not found, use default one: 102 [m]\u001b[0;0m\n",
      "\n",
      "\u001b[0;40;47m BH_ID: '306'\u001b[0;0;0m\n",
      "0- Interval top=0.0, base=0.2\n",
      " - Interval components: [Component({'lithology': 'remblais'})]\n",
      "\n",
      "1- Interval top=0.9, base=1.2\n",
      " - Interval components: [Component({'benzène': 'vr', 'concentration': 0.02, 'unit': 'mg/kg MS'}), Component({'toluène': 'vr', 'concentration': 0.03, 'unit': 'mg/kg MS'}), Component({'plomb': 'vr', 'concentration': 20.0, 'unit': 'mg/kg MS'}), Component({'arsenic': 'vr', 'concentration': 7.2, 'unit': 'mg/kg MS'}), Component({'cuivre': 'vr', 'concentration': 8.9, 'unit': 'mg/kg MS'}), Component({'nickel': 'vs', 'concentration': 110.0, 'unit': 'mg/kg MS'})]\n",
      "\n",
      "\u001b[1;40;47m Summary : {'306': Striplog(3 Intervals, start=0.0, stop=1.2)}\u001b[0;0;0m\n",
      "\u001b[1;34mWARNING: Borehole's Z coordinate not found, use default one: 102 [m]\u001b[0;0m\n",
      "\n",
      "\u001b[0;40;47m BH_ID: 'F1aM'\u001b[0;0;0m\n",
      "0- Interval top=0.0, base=0.5\n",
      " - Interval components: [Component({'lithology': 'limon'})]\n",
      "\n",
      "1- Interval top=0.0, base=0.5\n",
      " - Interval components: [Component({'lithology': 'limon'})]\n",
      "\n",
      "\u001b[1;31m\n",
      "WARNING : Interval skipped because top/base are null!!\u001b[0;0m\n",
      " - Interval components: [Component({'lithology': 'remblais'})]\n",
      "\n",
      "\u001b[1;31m\n",
      "WARNING : Interval skipped because top/base are null!!\u001b[0;0m\n",
      " - Interval components: [Component({'lithology': 'remblais'})]\n",
      "\n",
      "4- Interval top=0.7, base=1.2\n",
      " - Interval components: [Component({'benzène': 'inconnu', 'concentration': 'NaN', 'unit': 'mg/kg MS'}), Component({'toluène': 'inconnu', 'concentration': 'NaN', 'unit': 'mg/kg MS'}), Component({'plomb': 'inconnu', 'concentration': 'NaN', 'unit': 'mg/kg MS'}), Component({'arsenic': 'inconnu', 'concentration': 'NaN', 'unit': 'mg/kg MS'}), Component({'cuivre': 'inconnu', 'concentration': 'NaN', 'unit': 'mg/kg MS'}), Component({'nickel': 'inconnu', 'concentration': 'NaN', 'unit': 'mg/kg MS'})]\n",
      "\n",
      "5- Interval top=1.7, base=2.1\n",
      " - Interval components: [Component({'benzène': 'inconnu', 'concentration': 'NaN', 'unit': 'mg/kg MS'}), Component({'toluène': 'inconnu', 'concentration': 'NaN', 'unit': 'mg/kg MS'}), Component({'plomb': 'inconnu', 'concentration': 'NaN', 'unit': 'mg/kg MS'}), Component({'arsenic': 'inconnu', 'concentration': 'NaN', 'unit': 'mg/kg MS'}), Component({'cuivre': 'inconnu', 'concentration': 'NaN', 'unit': 'mg/kg MS'}), Component({'nickel': 'inconnu', 'concentration': 'NaN', 'unit': 'mg/kg MS'})]\n",
      "\n",
      "6- Interval top=0.7, base=1.2\n",
      " - Interval components: [Component({'benzène': 'vs', 'concentration': 0.12, 'unit': 'mg/kg MS'}), Component({'toluène': 'vr', 'concentration': 0.14, 'unit': 'mg/kg MS'}), Component({'plomb': 'vs', 'concentration': 33.0, 'unit': 'mg/kg MS'}), Component({'arsenic': 'vr', 'concentration': 4.0, 'unit': 'mg/kg MS'}), Component({'cuivre': 'vr', 'concentration': 13.0, 'unit': 'mg/kg MS'}), Component({'nickel': 'vs', 'concentration': 42.0, 'unit': 'mg/kg MS'})]\n",
      "\n",
      "7- Interval top=1.7, base=2.1\n",
      " - Interval components: [Component({'benzène': 'vi_', 'concentration': 1.2, 'unit': 'mg/kg MS'}), Component({'toluène': 'vs', 'concentration': 1.4, 'unit': 'mg/kg MS'}), Component({'plomb': 'vi', 'concentration': 560.0, 'unit': 'mg/kg MS'}), Component({'arsenic': 'vs', 'concentration': 27.0, 'unit': 'mg/kg MS'}), Component({'cuivre': 'vs', 'concentration': 120.0, 'unit': 'mg/kg MS'}), Component({'nickel': 'vs', 'concentration': 35.0, 'unit': 'mg/kg MS'})]\n",
      "\n",
      "\u001b[1;40;47m Summary : {'F1aM': Striplog(7 Intervals, start=0.0, stop=3.6)}\u001b[0;0;0m\n",
      "\n",
      "\u001b[0;40;47m BH_ID: 'F9bM'\u001b[0;0;0m\n",
      "0- Interval top=0.0, base=0.6\n",
      " - Interval components: [Component({'lithology': 'remblais'})]\n",
      "\n",
      "1- Interval top=0.2, base=0.6\n",
      " - Interval components: [Component({'benzène': 'inconnu', 'concentration': 'NaN', 'unit': 'mg/kg MS'}), Component({'toluène': 'inconnu', 'concentration': 'NaN', 'unit': 'mg/kg MS'}), Component({'plomb': 'inconnu', 'concentration': 'NaN', 'unit': 'mg/kg MS'}), Component({'arsenic': 'inconnu', 'concentration': 'NaN', 'unit': 'mg/kg MS'}), Component({'cuivre': 'inconnu', 'concentration': 'NaN', 'unit': 'mg/kg MS'}), Component({'nickel': 'inconnu', 'concentration': 'NaN', 'unit': 'mg/kg MS'})]\n",
      "\n",
      "\u001b[1;40;47m Summary : {'F9bM': Striplog(3 Intervals, start=0.0, stop=0.7999999999999998)}\u001b[0;0;0m\n",
      "\n",
      "\u001b[0;40;47m BH_ID: 'F10M'\u001b[0;0;0m\n",
      "0- Interval top=0.0, base=1.2\n",
      " - Interval components: [Component({'lithology': 'remblais'})]\n",
      "\n",
      "1- Interval top=0.0, base=0.5\n",
      " - Interval components: [Component({'benzène': 'inconnu', 'concentration': 'NaN', 'unit': 'mg/kg MS'}), Component({'toluène': 'inconnu', 'concentration': 'NaN', 'unit': 'mg/kg MS'}), Component({'plomb': 'inconnu', 'concentration': 'NaN', 'unit': 'mg/kg MS'}), Component({'arsenic': 'inconnu', 'concentration': 'NaN', 'unit': 'mg/kg MS'}), Component({'cuivre': 'inconnu', 'concentration': 'NaN', 'unit': 'mg/kg MS'}), Component({'nickel': 'inconnu', 'concentration': 'NaN', 'unit': 'mg/kg MS'})]\n",
      "\n",
      "\u001b[1;40;47m Summary : {'F10M': Striplog(3 Intervals, start=0.0, stop=1.2)}\u001b[0;0;0m\n",
      "\n",
      "\u001b[0;40;47m BH_ID: 'F2M'\u001b[0;0;0m\n",
      "0- Interval top=2.4, base=4.0\n",
      " - Interval components: [Component({'lithology': 'remblais'})]\n",
      "\n",
      "1- Interval top=0.0, base=2.4\n",
      " - Interval components: [Component({'lithology': 'limons'})]\n",
      "\n"
     ]
    },
    {
     "name": "stdout",
     "output_type": "stream",
     "text": [
      "2- Interval top=0.0, base=0.2\n",
      " - Interval components: [Component({'lithology': 'limons'})]\n",
      "\n",
      "3- Interval top=3.1, base=3.6\n",
      " - Interval components: [Component({'benzène': 'vi_', 'concentration': 11.0, 'unit': 'mg/kg MS'}), Component({'toluène': 'vs', 'concentration': 0.93, 'unit': 'mg/kg MS'}), Component({'plomb': 'vs', 'concentration': 250.0, 'unit': 'mg/kg MS'}), Component({'arsenic': 'vs', 'concentration': 13.0, 'unit': 'mg/kg MS'}), Component({'cuivre': 'vs', 'concentration': 23.0, 'unit': 'mg/kg MS'}), Component({'nickel': 'vs', 'concentration': 43.0, 'unit': 'mg/kg MS'})]\n",
      "\n",
      "4- Interval top=5.5, base=6.0\n",
      " - Interval components: [Component({'benzène': 'vi_', 'concentration': 25.0, 'unit': 'mg/kg MS'}), Component({'toluène': 'vi', 'concentration': 41.0, 'unit': 'mg/kg MS'}), Component({'plomb': 'vr', 'concentration': 15.0, 'unit': 'mg/kg MS'}), Component({'arsenic': 'vr', 'concentration': 4.0, 'unit': 'mg/kg MS'}), Component({'cuivre': 'vr', 'concentration': 10.0, 'unit': 'mg/kg MS'}), Component({'nickel': 'vr', 'concentration': 24.0, 'unit': 'mg/kg MS'})]\n",
      "\n",
      "5- Interval top=0.3, base=1.2\n",
      " - Interval components: [Component({'benzène': 'vr', 'concentration': 0.08, 'unit': 'mg/kg MS'}), Component({'toluène': 'vr', 'concentration': 0.19, 'unit': 'mg/kg MS'}), Component({'plomb': 'vs', 'concentration': 67.0, 'unit': 'mg/kg MS'}), Component({'arsenic': 'vr', 'concentration': 6.0, 'unit': 'mg/kg MS'}), Component({'cuivre': 'vs', 'concentration': 65.0, 'unit': 'mg/kg MS'}), Component({'nickel': 'vs', 'concentration': 25.0, 'unit': 'mg/kg MS'})]\n",
      "\n",
      "\u001b[1;40;47m Summary : {'F2M': Striplog(7 Intervals, start=0.0, stop=6.0)}\u001b[0;0;0m\n",
      "\n",
      "\u001b[0;40;47m BH_ID: 'F3M'\u001b[0;0;0m\n",
      "0- Interval top=0.0, base=0.2\n",
      " - Interval components: [Component({'lithology': 'béton'})]\n",
      "\n",
      "1- Interval top=0.0, base=0.5\n",
      " - Interval components: [Component({'lithology': 'béton'})]\n",
      "\n",
      "2- Interval top=2.4, base=3.3\n",
      " - Interval components: [Component({'benzène': 'vi_', 'concentration': 1.4, 'unit': 'mg/kg MS'}), Component({'toluène': 'vr', 'concentration': 0.16, 'unit': 'mg/kg MS'}), Component({'plomb': 'vs', 'concentration': 290.0, 'unit': 'mg/kg MS'}), Component({'arsenic': 'vs', 'concentration': 33.0, 'unit': 'mg/kg MS'}), Component({'cuivre': 'vs', 'concentration': 69.0, 'unit': 'mg/kg MS'}), Component({'nickel': 'vs', 'concentration': 29.0, 'unit': 'mg/kg MS'})]\n",
      "\n",
      "3- Interval top=0.0, base=0.5\n",
      " - Interval components: [Component({'benzène': 'vi_', 'concentration': 0.9, 'unit': 'mg/kg MS'}), Component({'toluène': 'vs', 'concentration': 0.83, 'unit': 'mg/kg MS'}), Component({'plomb': 'vs', 'concentration': 70.0, 'unit': 'mg/kg MS'}), Component({'arsenic': 'vr', 'concentration': 12.0, 'unit': 'mg/kg MS'}), Component({'cuivre': 'vs', 'concentration': 32.0, 'unit': 'mg/kg MS'}), Component({'nickel': 'vs', 'concentration': 100.0, 'unit': 'mg/kg MS'})]\n",
      "\n",
      "\u001b[1;40;47m Summary : {'F3M': Striplog(5 Intervals, start=0.0, stop=3.3)}\u001b[0;0;0m\n",
      "\n",
      "\u001b[0;40;47m BH_ID: 'F4M'\u001b[0;0;0m\n",
      "0- Interval top=0.0, base=0.5\n",
      " - Interval components: [Component({'lithology': 'limon'})]\n",
      "\n",
      "1- Interval top=2.4, base=3.1\n",
      " - Interval components: [Component({'benzène': 'vi_', 'concentration': 26.0, 'unit': 'mg/kg MS'}), Component({'toluène': 'vs', 'concentration': 9.9, 'unit': 'mg/kg MS'}), Component({'plomb': 'inconnu', 'concentration': 'NaN', 'unit': 'mg/kg MS'}), Component({'arsenic': 'inconnu', 'concentration': 'NaN', 'unit': 'mg/kg MS'}), Component({'cuivre': 'inconnu', 'concentration': 'NaN', 'unit': 'mg/kg MS'}), Component({'nickel': 'inconnu', 'concentration': 'NaN', 'unit': 'mg/kg MS'})]\n",
      "\n",
      "\u001b[1;40;47m Summary : {'F4M': Striplog(3 Intervals, start=0.0, stop=3.1)}\u001b[0;0;0m\n",
      "\n",
      "\u001b[0;40;47m BH_ID: 'F5M'\u001b[0;0;0m\n",
      "0- Interval top=0.0, base=0.5\n",
      " - Interval components: [Component({'lithology': 'remblais'})]\n",
      "\n",
      "1- Interval top=0.0, base=0.5\n",
      " - Interval components: [Component({'lithology': 'remblais'})]\n",
      "\n",
      "2- Interval top=0.0, base=0.5\n",
      " - Interval components: [Component({'lithology': 'remblais'})]\n",
      "\n",
      "3- Interval top=0.0, base=1.2\n",
      " - Interval components: [Component({'lithology': 'remblais'})]\n",
      "\n",
      "4- Interval top=0.0, base=0.5\n",
      " - Interval components: [Component({'benzène': 'vs', 'concentration': 0.12, 'unit': 'mg/kg MS'}), Component({'toluène': 'vr', 'concentration': 0.15, 'unit': 'mg/kg MS'}), Component({'plomb': 'vs', 'concentration': 150.0, 'unit': 'mg/kg MS'}), Component({'arsenic': 'vs', 'concentration': 13.0, 'unit': 'mg/kg MS'}), Component({'cuivre': 'vs', 'concentration': 38.0, 'unit': 'mg/kg MS'}), Component({'nickel': 'vr', 'concentration': 23.0, 'unit': 'mg/kg MS'})]\n",
      "\n",
      "5- Interval top=3.8, base=4.2\n",
      " - Interval components: [Component({'benzène': 'vi_', 'concentration': 1.1, 'unit': 'mg/kg MS'}), Component({'toluène': 'vr', 'concentration': 0.12, 'unit': 'mg/kg MS'}), Component({'plomb': 'vs', 'concentration': 46.0, 'unit': 'mg/kg MS'}), Component({'arsenic': 'vs', 'concentration': 39.0, 'unit': 'mg/kg MS'}), Component({'cuivre': 'vs', 'concentration': 43.0, 'unit': 'mg/kg MS'}), Component({'nickel': 'vs', 'concentration': 62.0, 'unit': 'mg/kg MS'})]\n",
      "\n",
      "6- Interval top=5.8, base=6.0\n",
      " - Interval components: [Component({'benzène': 'vr', 'concentration': 0.09, 'unit': 'mg/kg MS'}), Component({'toluène': 'vr', 'concentration': 0.05, 'unit': 'mg/kg MS'}), Component({'plomb': 'vr', 'concentration': 15.0, 'unit': 'mg/kg MS'}), Component({'arsenic': 'vr', 'concentration': 4.8, 'unit': 'mg/kg MS'}), Component({'cuivre': 'vs', 'concentration': 16.0, 'unit': 'mg/kg MS'}), Component({'nickel': 'vs', 'concentration': 28.0, 'unit': 'mg/kg MS'})]\n",
      "\n",
      "7- Interval top=0.4, base=1.2\n",
      " - Interval components: [Component({'benzène': 'vs', 'concentration': 0.14, 'unit': 'mg/kg MS'}), Component({'toluène': 'vr', 'concentration': 0.11, 'unit': 'mg/kg MS'}), Component({'plomb': 'vs', 'concentration': 100.0, 'unit': 'mg/kg MS'}), Component({'arsenic': 'vs', 'concentration': 28.0, 'unit': 'mg/kg MS'}), Component({'cuivre': 'vs', 'concentration': 31.0, 'unit': 'mg/kg MS'}), Component({'nickel': 'vr', 'concentration': 22.0, 'unit': 'mg/kg MS'})]\n",
      "\n",
      "\u001b[1;40;47m Summary : {'F5M': Striplog(9 Intervals, start=0.0, stop=6.0)}\u001b[0;0;0m\n",
      "\n",
      "\u001b[0;40;47m BH_ID: 'F6M'\u001b[0;0;0m\n",
      "0- Interval top=0.0, base=1.2\n",
      " - Interval components: [Component({'lithology': 'remblais'})]\n",
      "\n",
      "1- Interval top=0.0, base=1.2\n",
      " - Interval components: [Component({'lithology': 'remblais'})]\n",
      "\n",
      "2- Interval top=0.0, base=0.2\n",
      " - Interval components: [Component({'lithology': 'remblais'})]\n",
      "\n",
      "3- Interval top=4.4, base=4.8\n",
      " - Interval components: [Component({'benzène': 'vr', 'concentration': 0.05, 'unit': 'mg/kg MS'}), Component({'toluène': 'vr', 'concentration': 0.05, 'unit': 'mg/kg MS'}), Component({'plomb': 'vr', 'concentration': 13.0, 'unit': 'mg/kg MS'}), Component({'arsenic': 'vr', 'concentration': 12.0, 'unit': 'mg/kg MS'}), Component({'cuivre': 'vr', 'concentration': 11.0, 'unit': 'mg/kg MS'}), Component({'nickel': 'vs', 'concentration': 28.0, 'unit': 'mg/kg MS'})]\n",
      "\n",
      "4- Interval top=0.0, base=0.5\n",
      " - Interval components: [Component({'benzène': 'vr', 'concentration': 0.08, 'unit': 'mg/kg MS'}), Component({'toluène': 'vr', 'concentration': 0.18, 'unit': 'mg/kg MS'}), Component({'plomb': 'vs', 'concentration': 100.0, 'unit': 'mg/kg MS'}), Component({'arsenic': 'vr', 'concentration': 7.9, 'unit': 'mg/kg MS'}), Component({'cuivre': 'vs', 'concentration': 50.0, 'unit': 'mg/kg MS'}), Component({'nickel': 'vs', 'concentration': 38.0, 'unit': 'mg/kg MS'})]\n",
      "\n",
      "5- Interval top=0.7, base=1.2\n",
      " - Interval components: [Component({'benzène': 'vr', 'concentration': 0.05, 'unit': 'mg/kg MS'}), Component({'toluène': 'vr', 'concentration': 0.07, 'unit': 'mg/kg MS'}), Component({'plomb': 'vs', 'concentration': 290.0, 'unit': 'mg/kg MS'}), Component({'arsenic': 'vi', 'concentration': 72.0, 'unit': 'mg/kg MS'}), Component({'cuivre': 'vs', 'concentration': 33.0, 'unit': 'mg/kg MS'}), Component({'nickel': 'vs', 'concentration': 45.0, 'unit': 'mg/kg MS'})]\n",
      "\n",
      "\u001b[1;40;47m Summary : {'F6M': Striplog(7 Intervals, start=0.0, stop=4.8)}\u001b[0;0;0m\n",
      "\n",
      "\u001b[0;40;47m BH_ID: 'F12M'\u001b[0;0;0m\n",
      "0- Interval top=0.0, base=0.2\n",
      " - Interval components: [Component({'lithology': 'remblais'})]\n",
      "\n",
      "1- Interval top=0.0, base=0.3\n",
      " - Interval components: [Component({'lithology': 'remblais'})]\n",
      "\n",
      "2- Interval top=0.0, base=0.3\n",
      " - Interval components: [Component({'lithology': 'remblais'})]\n",
      "\n",
      "3- Interval top=1.9, base=2.4\n",
      " - Interval components: [Component({'benzène': 'vi', 'concentration': 0.69, 'unit': 'mg/kg MS'}), Component({'toluène': 'vr', 'concentration': 0.12, 'unit': 'mg/kg MS'}), Component({'plomb': 'vs', 'concentration': 280.0, 'unit': 'mg/kg MS'}), Component({'arsenic': 'vs', 'concentration': 22.0, 'unit': 'mg/kg MS'}), Component({'cuivre': 'vs', 'concentration': 50.0, 'unit': 'mg/kg MS'}), Component({'nickel': 'vs', 'concentration': 69.0, 'unit': 'mg/kg MS'})]\n",
      "\n",
      "4- Interval top=0.3, base=1.2\n",
      " - Interval components: [Component({'benzène': 'vr', 'concentration': 0.08, 'unit': 'mg/kg MS'}), Component({'toluène': 'vs', 'concentration': 0.42, 'unit': 'mg/kg MS'}), Component({'plomb': 'vs', 'concentration': 300.0, 'unit': 'mg/kg MS'}), Component({'arsenic': 'vs', 'concentration': 24.0, 'unit': 'mg/kg MS'}), Component({'cuivre': 'vi', 'concentration': 320.0, 'unit': 'mg/kg MS'}), Component({'nickel': 'vs', 'concentration': 60.0, 'unit': 'mg/kg MS'})]\n",
      "\n",
      "5- Interval top=3.3, base=3.6\n",
      " - Interval components: [Component({'benzène': 'vr', 'concentration': 0.05, 'unit': 'mg/kg MS'}), Component({'toluène': 'vr', 'concentration': 0.05, 'unit': 'mg/kg MS'}), Component({'plomb': 'vs', 'concentration': 68.0, 'unit': 'mg/kg MS'}), Component({'arsenic': 'vs', 'concentration': 23.0, 'unit': 'mg/kg MS'}), Component({'cuivre': 'vs', 'concentration': 46.0, 'unit': 'mg/kg MS'}), Component({'nickel': 'vs', 'concentration': 29.0, 'unit': 'mg/kg MS'})]\n",
      "\n",
      "\u001b[1;40;47m Summary : {'F12M': Striplog(7 Intervals, start=0.0, stop=3.6)}\u001b[0;0;0m\n"
     ]
    },
    {
     "name": "stdout",
     "output_type": "stream",
     "text": [
      "\n",
      "\u001b[0;40;47m BH_ID: 'F13M'\u001b[0;0;0m\n",
      "0- Interval top=0.0, base=0.3\n",
      " - Interval components: [Component({'lithology': 'alluvions'})]\n",
      "\n",
      "1- Interval top=0.0, base=0.4\n",
      " - Interval components: [Component({'lithology': 'alluvions'})]\n",
      "\n",
      "2- Interval top=0.0, base=2.4\n",
      " - Interval components: [Component({'lithology': 'alluvions'})]\n",
      "\n",
      "3- Interval top=4.2, base=4.7\n",
      " - Interval components: [Component({'benzène': 'vr', 'concentration': 0.05, 'unit': 'mg/kg MS'}), Component({'toluène': 'vr', 'concentration': 0.05, 'unit': 'mg/kg MS'}), Component({'plomb': 'vr', 'concentration': 17.0, 'unit': 'mg/kg MS'}), Component({'arsenic': 'vr', 'concentration': 6.2, 'unit': 'mg/kg MS'}), Component({'cuivre': 'vr', 'concentration': 11.0, 'unit': 'mg/kg MS'}), Component({'nickel': 'vr', 'concentration': 21.0, 'unit': 'mg/kg MS'})]\n",
      "\n",
      "4- Interval top=0.0, base=0.5\n",
      " - Interval components: [Component({'benzène': 'vr', 'concentration': 0.05, 'unit': 'mg/kg MS'}), Component({'toluène': 'vr', 'concentration': 0.05, 'unit': 'mg/kg MS'}), Component({'plomb': 'vs', 'concentration': 76.0, 'unit': 'mg/kg MS'}), Component({'arsenic': 'vr', 'concentration': 6.5, 'unit': 'mg/kg MS'}), Component({'cuivre': 'vs', 'concentration': 39.0, 'unit': 'mg/kg MS'}), Component({'nickel': 'vs', 'concentration': 26.0, 'unit': 'mg/kg MS'})]\n",
      "\n",
      "5- Interval top=0.6, base=1.2\n",
      " - Interval components: [Component({'benzène': 'vs', 'concentration': 0.16, 'unit': 'mg/kg MS'}), Component({'toluène': 'vs', 'concentration': 0.32, 'unit': 'mg/kg MS'}), Component({'plomb': 'vi', 'concentration': 640.0, 'unit': 'mg/kg MS'}), Component({'arsenic': 'vs', 'concentration': 49.0, 'unit': 'mg/kg MS'}), Component({'cuivre': 'vi', 'concentration': 310.0, 'unit': 'mg/kg MS'}), Component({'nickel': 'vs', 'concentration': 87.0, 'unit': 'mg/kg MS'})]\n",
      "\n",
      "\u001b[1;40;47m Summary : {'F13M': Striplog(7 Intervals, start=0.0, stop=4.7)}\u001b[0;0;0m\n",
      "\n",
      "\u001b[0;40;47m BH_ID: 'F14M'\u001b[0;0;0m\n",
      "0- Interval top=0.0, base=2.4\n",
      " - Interval components: [Component({'lithology': 'remblais'})]\n",
      "\n",
      "1- Interval top=3.1, base=3.6\n",
      " - Interval components: [Component({'benzène': 'vi', 'concentration': 0.24, 'unit': 'mg/kg MS'}), Component({'toluène': 'vs', 'concentration': 0.45, 'unit': 'mg/kg MS'}), Component({'plomb': 'vs', 'concentration': 29.0, 'unit': 'mg/kg MS'}), Component({'arsenic': 'vr', 'concentration': 8.8, 'unit': 'mg/kg MS'}), Component({'cuivre': 'vs', 'concentration': 24.0, 'unit': 'mg/kg MS'}), Component({'nickel': 'vr', 'concentration': 10.0, 'unit': 'mg/kg MS'})]\n",
      "\n",
      "\u001b[1;40;47m Summary : {'F14M': Striplog(3 Intervals, start=0.0, stop=3.6)}\u001b[0;0;0m\n",
      "\n",
      "\u001b[0;40;47m BH_ID: 'F15bM'\u001b[0;0;0m\n",
      "0- Interval top=0.0, base=2.4\n",
      " - Interval components: [Component({'borehole_type': 'l', 'lithology': 'limon'})]\n",
      "\n",
      "1- Interval top=0.0, base=2.4\n",
      " - Interval components: [Component({'borehole_type': 'l', 'lithology': 'limon'})]\n",
      "\n",
      "2- Interval top=0.0, base=2.4\n",
      " - Interval components: [Component({'borehole_type': 'a', 'lithology': 'remblais'})]\n",
      "\n",
      "3- Interval top=4.8, base=5.3\n",
      " - Interval components: [Component({'benzène': 'vr', 'concentration': 0.05, 'unit': 'mg/kg MS'}), Component({'toluène': 'vr', 'concentration': 0.05, 'unit': 'mg/kg MS'}), Component({'plomb': 'vr', 'concentration': 14.0, 'unit': 'mg/kg MS'}), Component({'arsenic': 'vr', 'concentration': 6.3, 'unit': 'mg/kg MS'}), Component({'cuivre': 'vr', 'concentration': 12.0, 'unit': 'mg/kg MS'}), Component({'nickel': 'vs', 'concentration': 28.0, 'unit': 'mg/kg MS'})]\n",
      "\n",
      "4- Interval top=0.0, base=0.6\n",
      " - Interval components: [Component({'benzène': 'vs', 'concentration': 0.16, 'unit': 'mg/kg MS'}), Component({'toluène': 'vs', 'concentration': 0.25, 'unit': 'mg/kg MS'}), Component({'plomb': 'vi', 'concentration': 410.0, 'unit': 'mg/kg MS'}), Component({'arsenic': 'vi', 'concentration': 85.0, 'unit': 'mg/kg MS'}), Component({'cuivre': 'vi_', 'concentration': 1900.0, 'unit': 'mg/kg MS'}), Component({'nickel': 'vi', 'concentration': 290.0, 'unit': 'mg/kg MS'})]\n",
      "\n",
      "5- Interval top=4.4, base=4.8\n",
      " - Interval components: [Component({'benzène': 'vi', 'concentration': 0.3, 'unit': 'mg/kg MS'}), Component({'toluène': 'vr', 'concentration': 0.05, 'unit': 'mg/kg MS'}), Component({'plomb': 'vr', 'concentration': 15.0, 'unit': 'mg/kg MS'}), Component({'arsenic': 'vr', 'concentration': 4.0, 'unit': 'mg/kg MS'}), Component({'cuivre': 'vr', 'concentration': 5.1, 'unit': 'mg/kg MS'}), Component({'nickel': 'vr', 'concentration': 5.9, 'unit': 'mg/kg MS'})]\n",
      "\n",
      "\u001b[1;40;47m Summary : {'F15bM': Striplog(7 Intervals, start=0.0, stop=5.3)}\u001b[0;0;0m\n",
      "\n",
      "\u001b[0;40;47m BH_ID: 'F16M'\u001b[0;0;0m\n",
      "0- Interval top=0.0, base=3.6\n",
      " - Interval components: [Component({'lithology': 'remblais'})]\n",
      "\n",
      "1- Interval top=0.7, base=1.2\n",
      " - Interval components: [Component({'benzène': 'vr', 'concentration': 0.05, 'unit': 'mg/kg MS'}), Component({'toluène': 'vr', 'concentration': 0.1, 'unit': 'mg/kg MS'}), Component({'plomb': 'vs', 'concentration': 270.0, 'unit': 'mg/kg MS'}), Component({'arsenic': 'vi', 'concentration': 53.0, 'unit': 'mg/kg MS'}), Component({'cuivre': 'vs', 'concentration': 120.0, 'unit': 'mg/kg MS'}), Component({'nickel': 'vs', 'concentration': 75.0, 'unit': 'mg/kg MS'})]\n",
      "\n",
      "\u001b[1;40;47m Summary : {'F16M': Striplog(3 Intervals, start=0.0, stop=3.6)}\u001b[0;0;0m\n",
      "\n",
      "\u001b[0;40;47m BH_ID: 'F18b'\u001b[0;0;0m\n",
      "\u001b[1;31m\n",
      "WARNING : Interval skipped because top/base are null!!\u001b[0;0m\n",
      " - Interval components: [Component({'lithology': 'remblais'})]\n",
      "\n",
      "1- Interval top=0.7, base=1.0\n",
      " - Interval components: [Component({'benzène': 'vi_', 'concentration': 6.4, 'unit': 'mg/kg MS'}), Component({'toluène': 'vi', 'concentration': 15.0, 'unit': 'mg/kg MS'}), Component({'plomb': 'vr', 'concentration': 12.0, 'unit': 'mg/kg MS'}), Component({'arsenic': 'vr', 'concentration': 7.1, 'unit': 'mg/kg MS'}), Component({'cuivre': 'vr', 'concentration': 7.3, 'unit': 'mg/kg MS'}), Component({'nickel': 'vr', 'concentration': 8.4, 'unit': 'mg/kg MS'})]\n",
      "\n",
      "\u001b[1;40;47m Summary : {'F18b': Striplog(2 Intervals, start=0.0, stop=1.0)}\u001b[0;0;0m\n",
      "\n",
      "\u001b[0;40;47m BH_ID: 'F18c'\u001b[0;0;0m\n",
      "\u001b[1;31m\n",
      "WARNING : Interval skipped because top/base are null!!\u001b[0;0m\n",
      " - Interval components: [Component({'lithology': 'remblais'})]\n",
      "\n",
      "\u001b[1;31m\n",
      "WARNING : Interval skipped because top/base are null!!\u001b[0;0m\n",
      " - Interval components: [Component({'lithology': 'limons'})]\n",
      "\n",
      "2- Interval top=3.3, base=3.6\n",
      " - Interval components: [Component({'benzène': 'vi_', 'concentration': 4.9, 'unit': 'mg/kg MS'}), Component({'toluène': 'vs', 'concentration': 1.6, 'unit': 'mg/kg MS'}), Component({'plomb': 'vs', 'concentration': 130.0, 'unit': 'mg/kg MS'}), Component({'arsenic': 'vs', 'concentration': 16.0, 'unit': 'mg/kg MS'}), Component({'cuivre': 'vs', 'concentration': 24.0, 'unit': 'mg/kg MS'}), Component({'nickel': 'vs', 'concentration': 56.0, 'unit': 'mg/kg MS'})]\n",
      "\n",
      "3- Interval top=4.4, base=4.8\n",
      " - Interval components: [Component({'benzène': 'vr', 'concentration': 0.05, 'unit': 'mg/kg MS'}), Component({'toluène': 'vr', 'concentration': 0.05, 'unit': 'mg/kg MS'}), Component({'plomb': 'vr', 'concentration': 12.0, 'unit': 'mg/kg MS'}), Component({'arsenic': 'vr', 'concentration': 11.0, 'unit': 'mg/kg MS'}), Component({'cuivre': 'vr', 'concentration': 11.0, 'unit': 'mg/kg MS'}), Component({'nickel': 'vs', 'concentration': 29.0, 'unit': 'mg/kg MS'})]\n",
      "\n",
      "\u001b[1;40;47m Summary : {'F18c': Striplog(3 Intervals, start=0.0, stop=4.8)}\u001b[0;0;0m\n",
      "\n",
      "\u001b[0;40;47m BH_ID: 'F20'\u001b[0;0;0m\n",
      "\u001b[1;31m\n",
      "WARNING : Interval skipped because top/base are null!!\u001b[0;0m\n",
      " - Interval components: [Component({'lithology': 'remblais'})]\n",
      "\n",
      "\u001b[1;31m\n",
      "WARNING : Interval skipped because top/base are null!!\u001b[0;0m\n",
      " - Interval components: [Component({'lithology': 'limons'})]\n",
      "\n",
      "2- Interval top=0.0, base=0.5\n",
      " - Interval components: [Component({'benzène': 'vi_', 'concentration': 1.6, 'unit': 'mg/kg MS'}), Component({'toluène': 'vs', 'concentration': 1.1, 'unit': 'mg/kg MS'}), Component({'plomb': 'vs', 'concentration': 120.0, 'unit': 'mg/kg MS'}), Component({'arsenic': 'vs', 'concentration': 20.0, 'unit': 'mg/kg MS'}), Component({'cuivre': 'vs', 'concentration': 53.0, 'unit': 'mg/kg MS'}), Component({'nickel': 'vs', 'concentration': 47.0, 'unit': 'mg/kg MS'})]\n",
      "\n",
      "3- Interval top=5.6, base=6.0\n",
      " - Interval components: [Component({'benzène': 'vr', 'concentration': 0.05, 'unit': 'mg/kg MS'}), Component({'toluène': 'vr', 'concentration': 0.05, 'unit': 'mg/kg MS'}), Component({'plomb': 'vr', 'concentration': 10.0, 'unit': 'mg/kg MS'}), Component({'arsenic': 'vr', 'concentration': 4.0, 'unit': 'mg/kg MS'}), Component({'cuivre': 'vr', 'concentration': 9.1, 'unit': 'mg/kg MS'}), Component({'nickel': 'vr', 'concentration': 19.0, 'unit': 'mg/kg MS'})]\n",
      "\n",
      "\u001b[1;40;47m Summary : {'F20': Striplog(3 Intervals, start=0.0, stop=6.0)}\u001b[0;0;0m\n",
      "\n",
      "\u001b[0;40;47m BH_ID: 'F21'\u001b[0;0;0m\n",
      "\u001b[1;31m\n",
      "WARNING : Interval skipped because top/base are null!!\u001b[0;0m\n",
      " - Interval components: [Component({'lithology': 'remblais'})]\n",
      "\n",
      "\u001b[1;31m\n",
      "WARNING : Interval skipped because top/base are null!!\u001b[0;0m\n",
      " - Interval components: [Component({'lithology': 'limons'})]\n",
      "\n",
      "2- Interval top=3.0, base=3.4\n",
      " - Interval components: [Component({'benzène': 'vi_', 'concentration': 8.6, 'unit': 'mg/kg MS'}), Component({'toluène': 'vs', 'concentration': 1.8, 'unit': 'mg/kg MS'}), Component({'plomb': 'vs', 'concentration': 120.0, 'unit': 'mg/kg MS'}), Component({'arsenic': 'vs', 'concentration': 17.0, 'unit': 'mg/kg MS'}), Component({'cuivre': 'vs', 'concentration': 33.0, 'unit': 'mg/kg MS'}), Component({'nickel': 'vs', 'concentration': 54.0, 'unit': 'mg/kg MS'})]\n",
      "\n",
      "3- Interval top=4.4, base=4.8\n",
      " - Interval components: [Component({'benzène': 'vr', 'concentration': 0.05, 'unit': 'mg/kg MS'}), Component({'toluène': 'vr', 'concentration': 0.05, 'unit': 'mg/kg MS'}), Component({'plomb': 'vr', 'concentration': 13.0, 'unit': 'mg/kg MS'}), Component({'arsenic': 'vr', 'concentration': 11.0, 'unit': 'mg/kg MS'}), Component({'cuivre': 'vr', 'concentration': 10.0, 'unit': 'mg/kg MS'}), Component({'nickel': 'vs', 'concentration': 26.0, 'unit': 'mg/kg MS'})]\n",
      "\n",
      "\u001b[1;40;47m Summary : {'F21': Striplog(3 Intervals, start=0.0, stop=4.8)}\u001b[0;0;0m\n",
      "\n",
      "\u001b[0;40;47m BH_ID: 'F22'\u001b[0;0;0m\n",
      "\u001b[1;31m\n",
      "WARNING : Interval skipped because top/base are null!!\u001b[0;0m\n",
      " - Interval components: [Component({'lithology': 'remblais'})]\n",
      "\n",
      "\u001b[1;31m\n",
      "WARNING : Interval skipped because top/base are null!!\u001b[0;0m\n",
      " - Interval components: [Component({'lithology': 'remblais'})]\n",
      "\n",
      "\u001b[1;31m\n",
      "WARNING : Interval skipped because top/base are null!!\u001b[0;0m\n",
      " - Interval components: [Component({'lithology': 'remblais'})]\n",
      "\n",
      "3- Interval top=0.0, base=0.5\n",
      " - Interval components: [Component({'benzène': 'vi_', 'concentration': 4.5, 'unit': 'mg/kg MS'}), Component({'toluène': 'vs', 'concentration': 0.67, 'unit': 'mg/kg MS'}), Component({'plomb': 'vs', 'concentration': 290.0, 'unit': 'mg/kg MS'}), Component({'arsenic': 'vs', 'concentration': 26.0, 'unit': 'mg/kg MS'}), Component({'cuivre': 'vs', 'concentration': 73.0, 'unit': 'mg/kg MS'}), Component({'nickel': 'vs', 'concentration': 77.0, 'unit': 'mg/kg MS'})]\n",
      "\n",
      "4- Interval top=2.0, base=2.4\n",
      " - Interval components: [Component({'benzène': 'vr', 'concentration': 0.05, 'unit': 'mg/kg MS'}), Component({'toluène': 'vr', 'concentration': 0.05, 'unit': 'mg/kg MS'}), Component({'plomb': 'vr', 'concentration': 15.0, 'unit': 'mg/kg MS'}), Component({'arsenic': 'vs', 'concentration': 13.0, 'unit': 'mg/kg MS'}), Component({'cuivre': 'vs', 'concentration': 43.0, 'unit': 'mg/kg MS'}), Component({'nickel': 'vs', 'concentration': 56.0, 'unit': 'mg/kg MS'})]\n",
      "\n",
      "5- Interval top=3.5, base=4.0\n",
      " - Interval components: [Component({'benzène': 'vi_', 'concentration': 0.82, 'unit': 'mg/kg MS'}), Component({'toluène': 'vr', 'concentration': 0.13, 'unit': 'mg/kg MS'}), Component({'plomb': 'vs', 'concentration': 49.0, 'unit': 'mg/kg MS'}), Component({'arsenic': 'vr', 'concentration': 8.6, 'unit': 'mg/kg MS'}), Component({'cuivre': 'vs', 'concentration': 18.0, 'unit': 'mg/kg MS'}), Component({'nickel': 'vr', 'concentration': 23.0, 'unit': 'mg/kg MS'})]\n",
      "\n",
      "\u001b[1;40;47m Summary : {'F22': Striplog(4 Intervals, start=0.0, stop=4.0)}\u001b[0;0;0m\n",
      "\n",
      "\u001b[0;40;47m BH_ID: 'F23'\u001b[0;0;0m\n",
      "\u001b[1;31m\n",
      "WARNING : Interval skipped because top/base are null!!\u001b[0;0m\n",
      " - Interval components: [Component({'lithology': 'remblais'})]\n",
      "\n",
      "\u001b[1;31m\n",
      "WARNING : Interval skipped because top/base are null!!\u001b[0;0m\n",
      " - Interval components: [Component({'lithology': 'remblais'})]\n",
      "\n",
      "2- Interval top=0.3, base=0.8\n",
      " - Interval components: [Component({'benzène': 'vi', 'concentration': 0.27, 'unit': 'mg/kg MS'}), Component({'toluène': 'vs', 'concentration': 0.27, 'unit': 'mg/kg MS'}), Component({'plomb': 'vs', 'concentration': 160.0, 'unit': 'mg/kg MS'}), Component({'arsenic': 'vs', 'concentration': 22.0, 'unit': 'mg/kg MS'}), Component({'cuivre': 'vs', 'concentration': 100.0, 'unit': 'mg/kg MS'}), Component({'nickel': 'vs', 'concentration': 39.0, 'unit': 'mg/kg MS'})]\n",
      "\n",
      "3- Interval top=3.1, base=3.5\n",
      " - Interval components: [Component({'benzène': 'vi_', 'concentration': 9.6, 'unit': 'mg/kg MS'}), Component({'toluène': 'vs', 'concentration': 0.53, 'unit': 'mg/kg MS'}), Component({'plomb': 'vs', 'concentration': 44.0, 'unit': 'mg/kg MS'}), Component({'arsenic': 'vs', 'concentration': 47.0, 'unit': 'mg/kg MS'}), Component({'cuivre': 'vs', 'concentration': 29.0, 'unit': 'mg/kg MS'}), Component({'nickel': 'vs', 'concentration': 36.0, 'unit': 'mg/kg MS'})]\n",
      "\n",
      "\u001b[1;40;47m Summary : {'F23': Striplog(3 Intervals, start=0.0, stop=3.5)}\u001b[0;0;0m\n",
      "\n",
      "\u001b[0;40;47m BH_ID: 'F24b'\u001b[0;0;0m\n",
      "\u001b[1;31m\n",
      "WARNING : Interval skipped because top/base are null!!\u001b[0;0m\n",
      " - Interval components: [Component({'lithology': 'remblais'})]\n",
      "\n",
      "1- Interval top=2.0, base=2.5\n",
      " - Interval components: [Component({'benzène': 'vi', 'concentration': 0.56, 'unit': 'mg/kg MS'}), Component({'toluène': 'vs', 'concentration': 0.28, 'unit': 'mg/kg MS'}), Component({'plomb': 'vs', 'concentration': 57.0, 'unit': 'mg/kg MS'}), Component({'arsenic': 'vs', 'concentration': 18.0, 'unit': 'mg/kg MS'}), Component({'cuivre': 'vs', 'concentration': 30.0, 'unit': 'mg/kg MS'}), Component({'nickel': 'vs', 'concentration': 27.0, 'unit': 'mg/kg MS'})]\n",
      "\n",
      "\u001b[1;40;47m Summary : {'F24b': Striplog(2 Intervals, start=0.0, stop=2.5)}\u001b[0;0;0m\n",
      "\n",
      "\u001b[0;40;47m BH_ID: 'F25'\u001b[0;0;0m\n",
      "\u001b[1;31m\n",
      "WARNING : Interval skipped because top/base are null!!\u001b[0;0m\n",
      " - Interval components: [Component({'lithology': 'remblais'})]\n",
      "\n",
      "\u001b[1;31m\n",
      "WARNING : Interval skipped because top/base are null!!\u001b[0;0m\n",
      " - Interval components: [Component({'lithology': 'remblais'})]\n",
      "\n",
      "\u001b[1;31m\n",
      "WARNING : Interval skipped because top/base are null!!\u001b[0;0m\n",
      " - Interval components: [Component({'lithology': 'limons'})]\n",
      "\n",
      "3- Interval top=0.0, base=0.5\n",
      " - Interval components: [Component({'benzène': 'vi_', 'concentration': 1.9, 'unit': 'mg/kg MS'}), Component({'toluène': 'vs', 'concentration': 2.6, 'unit': 'mg/kg MS'}), Component({'plomb': 'vs', 'concentration': 130.0, 'unit': 'mg/kg MS'}), Component({'arsenic': 'vs', 'concentration': 15.0, 'unit': 'mg/kg MS'}), Component({'cuivre': 'vs', 'concentration': 60.0, 'unit': 'mg/kg MS'}), Component({'nickel': 'vs', 'concentration': 51.0, 'unit': 'mg/kg MS'})]\n",
      "\n",
      "4- Interval top=3.0, base=3.5\n",
      " - Interval components: [Component({'benzène': 'vi', 'concentration': 0.3, 'unit': 'mg/kg MS'}), Component({'toluène': 'vr', 'concentration': 0.07, 'unit': 'mg/kg MS'}), Component({'plomb': 'vi_', 'concentration': 1500.0, 'unit': 'mg/kg MS'}), Component({'arsenic': 'vr', 'concentration': 12.0, 'unit': 'mg/kg MS'}), Component({'cuivre': 'vs', 'concentration': 24.0, 'unit': 'mg/kg MS'}), Component({'nickel': 'vs', 'concentration': 35.0, 'unit': 'mg/kg MS'})]\n",
      "\n",
      "5- Interval top=5.2, base=5.7\n",
      " - Interval components: [Component({'benzène': 'vr', 'concentration': 0.05, 'unit': 'mg/kg MS'}), Component({'toluène': 'vr', 'concentration': 0.05, 'unit': 'mg/kg MS'}), Component({'plomb': 'vr', 'concentration': 13.0, 'unit': 'mg/kg MS'}), Component({'arsenic': 'vr', 'concentration': 4.0, 'unit': 'mg/kg MS'}), Component({'cuivre': 'vr', 'concentration': 9.2, 'unit': 'mg/kg MS'}), Component({'nickel': 'vr', 'concentration': 18.0, 'unit': 'mg/kg MS'})]\n",
      "\n",
      "\u001b[1;40;47m Summary : {'F25': Striplog(4 Intervals, start=0.0, stop=5.7)}\u001b[0;0;0m\n",
      "\n",
      "\u001b[0;40;47m BH_ID: 'F26'\u001b[0;0;0m\n",
      "\u001b[1;31m\n",
      "WARNING : Interval skipped because top/base are null!!\u001b[0;0m\n",
      " - Interval components: [Component({'lithology': 'remblais'})]\n",
      "\n",
      "\u001b[1;31m\n",
      "WARNING : Interval skipped because top/base are null!!\u001b[0;0m\n",
      " - Interval components: [Component({'lithology': 'remblais'})]\n",
      "\n",
      "\u001b[1;31m\n",
      "WARNING : Interval skipped because top/base are null!!\u001b[0;0m\n",
      " - Interval components: [Component({'lithology': 'limons'})]\n",
      "\n",
      "\u001b[1;31m\n",
      "WARNING : Interval skipped because top/base are null!!\u001b[0;0m\n",
      " - Interval components: [Component({'lithology': 'limons'})]\n",
      "\n",
      "4- Interval top=1.8, base=2.2\n",
      " - Interval components: [Component({'benzène': 'vi_', 'concentration': 1.7, 'unit': 'mg/kg MS'}), Component({'toluène': 'vs', 'concentration': 1.6, 'unit': 'mg/kg MS'}), Component({'plomb': 'vi', 'concentration': 430.0, 'unit': 'mg/kg MS'}), Component({'arsenic': 'vi', 'concentration': 83.0, 'unit': 'mg/kg MS'}), Component({'cuivre': 'vs', 'concentration': 19.0, 'unit': 'mg/kg MS'}), Component({'nickel': 'vs', 'concentration': 46.0, 'unit': 'mg/kg MS'})]\n",
      "\n",
      "5- Interval top=3.1, base=3.6\n",
      " - Interval components: [Component({'benzène': 'vi_', 'concentration': 2.7, 'unit': 'mg/kg MS'}), Component({'toluène': 'vs', 'concentration': 1.3, 'unit': 'mg/kg MS'}), Component({'plomb': 'vs', 'concentration': 350.0, 'unit': 'mg/kg MS'}), Component({'arsenic': 'vr', 'concentration': 11.0, 'unit': 'mg/kg MS'}), Component({'cuivre': 'vs', 'concentration': 18.0, 'unit': 'mg/kg MS'}), Component({'nickel': 'vr', 'concentration': 22.0, 'unit': 'mg/kg MS'})]\n",
      "\n",
      "6- Interval top=3.8, base=4.3\n",
      " - Interval components: [Component({'benzène': 'vr', 'concentration': 0.05, 'unit': 'mg/kg MS'}), Component({'toluène': 'vr', 'concentration': 0.05, 'unit': 'mg/kg MS'}), Component({'plomb': 'vr', 'concentration': 14.0, 'unit': 'mg/kg MS'}), Component({'arsenic': 'vr', 'concentration': 4.8, 'unit': 'mg/kg MS'}), Component({'cuivre': 'vr', 'concentration': 8.0, 'unit': 'mg/kg MS'}), Component({'nickel': 'vr', 'concentration': 15.0, 'unit': 'mg/kg MS'})]\n",
      "\n",
      "7- Interval top=5.6, base=6.0\n",
      " - Interval components: [Component({'benzène': 'vr', 'concentration': 0.05, 'unit': 'mg/kg MS'}), Component({'toluène': 'vr', 'concentration': 0.05, 'unit': 'mg/kg MS'}), Component({'plomb': 'vr', 'concentration': 11.0, 'unit': 'mg/kg MS'}), Component({'arsenic': 'vr', 'concentration': 4.0, 'unit': 'mg/kg MS'}), Component({'cuivre': 'vr', 'concentration': 12.0, 'unit': 'mg/kg MS'}), Component({'nickel': 'vr', 'concentration': 22.0, 'unit': 'mg/kg MS'})]\n",
      "\n",
      "\u001b[1;40;47m Summary : {'F26': Striplog(5 Intervals, start=0.0, stop=6.0)}\u001b[0;0;0m\n",
      "\n",
      "\u001b[0;40;47m BH_ID: 'F27a'\u001b[0;0;0m\n",
      "\u001b[1;31m\n",
      "WARNING : Interval skipped because top/base are null!!\u001b[0;0m\n",
      " - Interval components: [Component({'lithology': 'remblais'})]\n",
      "\n",
      "1- Interval top=0.0, base=0.5\n",
      " - Interval components: [Component({'benzène': 'vi_', 'concentration': 1.3, 'unit': 'mg/kg MS'}), Component({'toluène': 'vs', 'concentration': 0.96, 'unit': 'mg/kg MS'}), Component({'plomb': 'vs', 'concentration': 130.0, 'unit': 'mg/kg MS'}), Component({'arsenic': 'vs', 'concentration': 17.0, 'unit': 'mg/kg MS'}), Component({'cuivre': 'vs', 'concentration': 39.0, 'unit': 'mg/kg MS'}), Component({'nickel': 'vs', 'concentration': 29.0, 'unit': 'mg/kg MS'})]\n",
      "\n",
      "\u001b[1;40;47m Summary : {'F27a': Striplog(2 Intervals, start=0.0, stop=1.0)}\u001b[0;0;0m\n",
      "\n",
      "\u001b[0;40;47m BH_ID: 'F27d'\u001b[0;0;0m\n",
      "\u001b[1;31m\n",
      "WARNING : Interval skipped because top/base are null!!\u001b[0;0m\n",
      " - Interval components: [Component({'lithology': 'remblais'})]\n",
      "\n",
      "\u001b[1;31m\n",
      "WARNING : Interval skipped because top/base are null!!\u001b[0;0m\n",
      " - Interval components: [Component({'lithology': 'limons'})]\n",
      "\n",
      "2- Interval top=3.2, base=3.6\n",
      " - Interval components: [Component({'benzène': 'vi_', 'concentration': 1.4, 'unit': 'mg/kg MS'}), Component({'toluène': 'vs', 'concentration': 0.33, 'unit': 'mg/kg MS'}), Component({'plomb': 'vs', 'concentration': 91.0, 'unit': 'mg/kg MS'}), Component({'arsenic': 'vs', 'concentration': 18.0, 'unit': 'mg/kg MS'}), Component({'cuivre': 'vs', 'concentration': 59.0, 'unit': 'mg/kg MS'}), Component({'nickel': 'vs', 'concentration': 52.0, 'unit': 'mg/kg MS'})]\n",
      "\n",
      "3- Interval top=6.3, base=6.6\n",
      " - Interval components: [Component({'benzène': 'vr', 'concentration': 0.05, 'unit': 'mg/kg MS'}), Component({'toluène': 'vr', 'concentration': 0.05, 'unit': 'mg/kg MS'}), Component({'plomb': 'vr', 'concentration': 10.0, 'unit': 'mg/kg MS'}), Component({'arsenic': 'vr', 'concentration': 4.0, 'unit': 'mg/kg MS'}), Component({'cuivre': 'vr', 'concentration': 11.0, 'unit': 'mg/kg MS'}), Component({'nickel': 'vr', 'concentration': 21.0, 'unit': 'mg/kg MS'})]\n",
      "\n",
      "\u001b[1;40;47m Summary : {'F27d': Striplog(3 Intervals, start=0.0, stop=6.6)}\u001b[0;0;0m\n",
      "\n",
      "End of the process : 46 boreholes created successfully\n"
     ]
    }
   ],
   "source": [
    "boreholes_orm, components, link_intv_comp = boreholes_from_dataframe(data_dict, verbose=False,\n",
    "                                                sample_type_col='Type_ech', diameter_col='Diam_for', \n",
    "                                                default_z=102, attributes=['lithology']+pollutants, \n",
    "                                                symbols={'lithology':{'lexicon':DEFAULT_LITHO_LEXICON}})"
   ]
  },
  {
   "cell_type": "code",
   "execution_count": 9,
   "metadata": {},
   "outputs": [
    {
     "data": {
      "text/plain": [
       "(46, 15)"
      ]
     },
     "execution_count": 9,
     "metadata": {},
     "output_type": "execute_result"
    }
   ],
   "source": [
    "len(boreholes_orm), len(components)"
   ]
  },
  {
   "cell_type": "code",
   "execution_count": 10,
   "metadata": {
    "scrolled": true
   },
   "outputs": [
    {
     "data": {
      "text/plain": [
       "[<core.orm.BoreholeOrm>(id=201, length=1.7999999999999998, diameter=0.1, intervals=5),\n",
       " <core.orm.BoreholeOrm>(id=205, length=3.0, diameter=0.1, intervals=9),\n",
       " <core.orm.BoreholeOrm>(id=208, length=2.999999999999999, diameter=0.1, intervals=9),\n",
       " <core.orm.BoreholeOrm>(id=207, length=3.600000000000001, diameter=0.1, intervals=11),\n",
       " <core.orm.BoreholeOrm>(id=212, length=2.9999999999999982, diameter=0.1, intervals=9),\n",
       " <core.orm.BoreholeOrm>(id=214, length=3.399999999999999, diameter=0.1, intervals=9),\n",
       " <core.orm.BoreholeOrm>(id=217, length=3.000000000000001, diameter=0.1, intervals=9),\n",
       " <core.orm.BoreholeOrm>(id=221, length=0.8, diameter=0.1, intervals=3),\n",
       " <core.orm.BoreholeOrm>(id=223, length=1.6, diameter=0.1, intervals=5),\n",
       " <core.orm.BoreholeOrm>(id=?2, length=0.7999999999999998, diameter=0.1, intervals=3),\n",
       " <core.orm.BoreholeOrm>(id=?1, length=0.7999999999999998, diameter=0.1, intervals=3),\n",
       " <core.orm.BoreholeOrm>(id=224, length=1.0, diameter=0.1, intervals=3),\n",
       " <core.orm.BoreholeOrm>(id=225, length=5.399999999999998, diameter=0.1, intervals=13),\n",
       " <core.orm.BoreholeOrm>(id=226, length=3.2, diameter=0.1, intervals=9),\n",
       " <core.orm.BoreholeOrm>(id=50, length=4.2, diameter=0.1, intervals=7),\n",
       " <core.orm.BoreholeOrm>(id=51, length=3.2, diameter=0.1, intervals=7),\n",
       " <core.orm.BoreholeOrm>(id=52, length=3.4, diameter=0.1, intervals=7),\n",
       " <core.orm.BoreholeOrm>(id=302, length=1.5999999999999996, diameter=0.1, intervals=5),\n",
       " <core.orm.BoreholeOrm>(id=303, length=1.6, diameter=0.1, intervals=5),\n",
       " <core.orm.BoreholeOrm>(id=304, length=0.5999999999999998, diameter=0.1, intervals=3),\n",
       " <core.orm.BoreholeOrm>(id=305, length=0.6, diameter=0.1, intervals=3),\n",
       " <core.orm.BoreholeOrm>(id=306, length=0.5999999999999998, diameter=0.1, intervals=3),\n",
       " <core.orm.BoreholeOrm>(id=F1aM, length=3.6, diameter=0.1, intervals=7),\n",
       " <core.orm.BoreholeOrm>(id=F9bM, length=0.7999999999999998, diameter=0.1, intervals=3),\n",
       " <core.orm.BoreholeOrm>(id=F10M, length=1.0, diameter=0.1, intervals=3),\n",
       " <core.orm.BoreholeOrm>(id=F2M, length=3.8, diameter=0.1, intervals=7),\n",
       " <core.orm.BoreholeOrm>(id=F3M, length=2.8, diameter=0.1, intervals=5),\n",
       " <core.orm.BoreholeOrm>(id=F4M, length=1.4000000000000004, diameter=0.1, intervals=3),\n",
       " <core.orm.BoreholeOrm>(id=F5M, length=3.8000000000000007, diameter=0.1, intervals=9),\n",
       " <core.orm.BoreholeOrm>(id=F6M, length=2.799999999999999, diameter=0.1, intervals=7),\n",
       " <core.orm.BoreholeOrm>(id=F12M, length=3.4000000000000004, diameter=0.1, intervals=7),\n",
       " <core.orm.BoreholeOrm>(id=F13M, length=3.2, diameter=0.1, intervals=7),\n",
       " <core.orm.BoreholeOrm>(id=F14M, length=1.0, diameter=0.1, intervals=3),\n",
       " <core.orm.BoreholeOrm>(id=F15bM, length=2.999999999999999, diameter=0.1, intervals=7),\n",
       " <core.orm.BoreholeOrm>(id=F16M, length=1.0, diameter=0.1, intervals=3),\n",
       " <core.orm.BoreholeOrm>(id=F18b, length=0.6, diameter=0.1, intervals=2),\n",
       " <core.orm.BoreholeOrm>(id=F18c, length=1.3999999999999992, diameter=0.1, intervals=3),\n",
       " <core.orm.BoreholeOrm>(id=F20, length=1.8000000000000007, diameter=0.1, intervals=3),\n",
       " <core.orm.BoreholeOrm>(id=F21, length=1.5999999999999988, diameter=0.1, intervals=3),\n",
       " <core.orm.BoreholeOrm>(id=F22, length=2.8, diameter=0.1, intervals=4),\n",
       " <core.orm.BoreholeOrm>(id=F23, length=1.7999999999999998, diameter=0.1, intervals=3),\n",
       " <core.orm.BoreholeOrm>(id=F24b, length=1.0, diameter=0.1, intervals=2),\n",
       " <core.orm.BoreholeOrm>(id=F25, length=3.0, diameter=0.1, intervals=4),\n",
       " <core.orm.BoreholeOrm>(id=F26, length=3.600000000000001, diameter=0.1, intervals=5),\n",
       " <core.orm.BoreholeOrm>(id=F27a, length=1.0, diameter=0.1, intervals=2),\n",
       " <core.orm.BoreholeOrm>(id=F27d, length=1.3999999999999995, diameter=0.1, intervals=3)]"
      ]
     },
     "execution_count": 10,
     "metadata": {},
     "output_type": "execute_result"
    }
   ],
   "source": [
    "boreholes_orm # list of core.BoreholeOrm objects"
   ]
  },
  {
   "cell_type": "code",
   "execution_count": 11,
   "metadata": {
    "scrolled": true
   },
   "outputs": [
    {
     "data": {
      "text/plain": [
       "{0: Component({'type': 'lithology', 'value': 'Forage'}),\n",
       " 1: Component({'type': 'lithology', 'value': 'remblai'}),\n",
       " 2: Component({'type': 'lithology', 'value': 'sable'}),\n",
       " 3: Component({'type': 'pollutant', 'value': 'benzène'}),\n",
       " 4: Component({'type': 'pollutant', 'value': 'toluène'}),\n",
       " 5: Component({'type': 'pollutant', 'value': 'plomb'}),\n",
       " 6: Component({'type': 'pollutant', 'value': 'arsenic'}),\n",
       " 7: Component({'type': 'pollutant', 'value': 'cuivre'}),\n",
       " 8: Component({'type': 'pollutant', 'value': 'nickel'}),\n",
       " 9: Component({'type': 'lithology', 'value': 'limon'}),\n",
       " 10: Component({'type': 'lithology', 'value': 'l'}),\n",
       " 11: Component({'type': 'lithology', 'value': 'schiste'}),\n",
       " 12: Component({'type': 'lithology', 'value': 'béton'}),\n",
       " 13: Component({'type': 'lithology', 'value': 'alluvion'}),\n",
       " 14: Component({'type': 'lithology', 'value': 'a'})}"
      ]
     },
     "execution_count": 11,
     "metadata": {},
     "output_type": "execute_result"
    }
   ],
   "source": [
    "components # dict of striplog.Component objects"
   ]
  },
  {
   "cell_type": "code",
   "execution_count": 12,
   "metadata": {},
   "outputs": [
    {
     "data": {
      "text/plain": [
       "{0: <core.orm.IntervalOrm>(id=0, top=<core.orm.PositionOrm object at 0x7f00c015ba00>, base=<core.orm.PositionOrm object at 0x7f00c015b970>, description={'borehole_type':'Forage'}, components=[]),\n",
       " 1: <core.orm.IntervalOrm>(id=1, top=<core.orm.PositionOrm object at 0x7f00c015b070>, base=<core.orm.PositionOrm object at 0x7f00c0128580>, description=Remblais avec briques de construction couleur orange, gris, verdâtre  , components=[]),\n",
       " 2: <core.orm.IntervalOrm>(id=2, top=<core.orm.PositionOrm object at 0x7f00c01289d0>, base=<core.orm.PositionOrm object at 0x7f00c0128a60>, description=Remblais avec briques de construction couleur orange, gris, verdâtre  , components=[]),\n",
       " 3: <core.orm.IntervalOrm>(id=3, top=<core.orm.PositionOrm object at 0x7f00c0128a90>, base=<core.orm.PositionOrm object at 0x7f00c0128b20>, description=Sable, components=[]),\n",
       " 4: <core.orm.IntervalOrm>(id=4, top=<core.orm.PositionOrm object at 0x7f00c0128b50>, base=<core.orm.PositionOrm object at 0x7f00c0128bb0>, description=Limon, components=[])}"
      ]
     },
     "execution_count": 12,
     "metadata": {},
     "output_type": "execute_result"
    }
   ],
   "source": [
    "boreholes_orm[0].intervals#_values"
   ]
  },
  {
   "cell_type": "code",
   "execution_count": 13,
   "metadata": {},
   "outputs": [
    {
     "data": {
      "text/plain": [
       "'lithology'"
      ]
     },
     "execution_count": 13,
     "metadata": {},
     "output_type": "execute_result"
    }
   ],
   "source": [
    "i = 0\n",
    "components[i][list(components[i].keys())[0]]#.json()"
   ]
  },
  {
   "cell_type": "markdown",
   "metadata": {},
   "source": [
    "## Create a dictionary containing legends for each representation attribute"
   ]
  },
  {
   "cell_type": "code",
   "execution_count": 14,
   "metadata": {},
   "outputs": [],
   "source": [
    "legend_dict = legend_from_attributes([('lithology', DEFAULT_LITHO_LEGEND)]+pollutants)"
   ]
  },
  {
   "cell_type": "markdown",
   "metadata": {},
   "source": [
    "## Create a database for the project"
   ]
  },
  {
   "cell_type": "code",
   "execution_count": 15,
   "metadata": {},
   "outputs": [],
   "source": [
    "DB_name = 'tmp_files/test_db.db'\n",
    "\n",
    "if os.path.exists(DB_name):\n",
    "    os.remove(DB_name)\n",
    "\n",
    "engine = create_engine(f\"sqlite:///{DB_name}\", echo=False)"
   ]
  },
  {
   "cell_type": "code",
   "execution_count": 16,
   "metadata": {
    "scrolled": true
   },
   "outputs": [],
   "source": [
    "Base.metadata.create_all(engine)"
   ]
  },
  {
   "cell_type": "code",
   "execution_count": 17,
   "metadata": {},
   "outputs": [],
   "source": [
    "Session = sessionmaker(bind=engine)\n",
    "session = Session()"
   ]
  },
  {
   "cell_type": "markdown",
   "metadata": {},
   "source": [
    "## create a project"
   ]
  },
  {
   "cell_type": "code",
   "execution_count": 18,
   "metadata": {},
   "outputs": [],
   "source": [
    "p = Project(session, name='Memoris_project', legend_dict=legend_dict, lexicon=DEFAULT_LITHO_LEXICON)"
   ]
  },
  {
   "cell_type": "markdown",
   "metadata": {},
   "source": [
    "### Insert boreholes and components into the project"
   ]
  },
  {
   "cell_type": "code",
   "execution_count": 19,
   "metadata": {},
   "outputs": [],
   "source": [
    "p.add_components(components)"
   ]
  },
  {
   "cell_type": "code",
   "execution_count": 20,
   "metadata": {
    "scrolled": true
   },
   "outputs": [],
   "source": [
    "for bhorm in boreholes_orm:\n",
    "    p.insert_borehole(bhorm)"
   ]
  },
  {
   "cell_type": "code",
   "execution_count": 21,
   "metadata": {},
   "outputs": [],
   "source": [
    "p.add_link_components_intervals(link_intv_comp)"
   ]
  },
  {
   "cell_type": "markdown",
   "metadata": {},
   "source": [
    "### Validate modifications "
   ]
  },
  {
   "cell_type": "code",
   "execution_count": 22,
   "metadata": {},
   "outputs": [],
   "source": [
    "p.commit()"
   ]
  },
  {
   "cell_type": "code",
   "execution_count": 23,
   "metadata": {
    "scrolled": true
   },
   "outputs": [
    {
     "data": {
      "text/plain": [
       "[<core.orm.ComponentOrm>(id=0, description={'type': 'lithology', 'value': 'Forage'})]"
      ]
     },
     "execution_count": 23,
     "metadata": {},
     "output_type": "execute_result"
    }
   ],
   "source": [
    "boreholes_orm[0].intervals[0].components"
   ]
  },
  {
   "cell_type": "code",
   "execution_count": 24,
   "metadata": {
    "scrolled": true
   },
   "outputs": [],
   "source": [
    "p.refresh()"
   ]
  },
  {
   "cell_type": "code",
   "execution_count": 25,
   "metadata": {},
   "outputs": [],
   "source": [
    "session.close()"
   ]
  },
  {
   "cell_type": "markdown",
   "metadata": {},
   "source": [
    "## update project legend dict"
   ]
  },
  {
   "cell_type": "code",
   "execution_count": 26,
   "metadata": {
    "scrolled": true
   },
   "outputs": [],
   "source": [
    "p.update_legend_cmap(compute_all_attrib=True, legend_dict=legend_dict, verbose=False)"
   ]
  },
  {
   "cell_type": "code",
   "execution_count": 27,
   "metadata": {
    "scrolled": true
   },
   "outputs": [
    {
     "data": {
      "text/plain": [
       "{'lithology': {'legend': Legend(),\n",
       "  'cmap': <matplotlib.colors.ListedColormap at 0x7f00c00cea90>,\n",
       "  'values': []},\n",
       " 'benzène': {'legend': Legend(),\n",
       "  'cmap': <matplotlib.colors.ListedColormap at 0x7f00c00d4fa0>,\n",
       "  'values': []},\n",
       " 'toluène': {'legend': Legend(),\n",
       "  'cmap': <matplotlib.colors.ListedColormap at 0x7f00c00ceee0>,\n",
       "  'values': []},\n",
       " 'plomb': {'legend': Legend(),\n",
       "  'cmap': <matplotlib.colors.ListedColormap at 0x7f00c00d4ac0>,\n",
       "  'values': []},\n",
       " 'arsenic': {'legend': Legend(),\n",
       "  'cmap': <matplotlib.colors.ListedColormap at 0x7f00c00cefa0>,\n",
       "  'values': []},\n",
       " 'cuivre': {'legend': Legend(),\n",
       "  'cmap': <matplotlib.colors.ListedColormap at 0x7f00c00d4c70>,\n",
       "  'values': []},\n",
       " 'nickel': {'legend': Legend(),\n",
       "  'cmap': <matplotlib.colors.ListedColormap at 0x7f00c00d4cd0>,\n",
       "  'values': []}}"
      ]
     },
     "execution_count": 27,
     "metadata": {},
     "output_type": "execute_result"
    }
   ],
   "source": [
    "p.legend_dict#['lithology']['legend']"
   ]
  },
  {
   "cell_type": "markdown",
   "metadata": {},
   "source": [
    "## Visualization"
   ]
  },
  {
   "cell_type": "raw",
   "metadata": {},
   "source": [
    "n = 1 # borehole index in the project's boreholes list\n",
    "# df.query(f'ID==\"{p.boreholes_3d[n].name}\"')[['ID', 'Top_intv', 'Base_intv', 'Lithology']]\n",
    "df.query(f'ID==\"{p.boreholes_3d[n].name}\"')"
   ]
  },
  {
   "cell_type": "code",
   "execution_count": 28,
   "metadata": {},
   "outputs": [
    {
     "data": {
      "text/plain": [
       "['lithology', 'benzène', 'toluène', 'plomb', 'arsenic', 'cuivre', 'nickel']"
      ]
     },
     "execution_count": 28,
     "metadata": {},
     "output_type": "execute_result"
    }
   ],
   "source": [
    "attributes = list(legend_dict.keys())\n",
    "attributes"
   ]
  },
  {
   "cell_type": "code",
   "execution_count": 29,
   "metadata": {},
   "outputs": [],
   "source": [
    "n = 0\n",
    "bh = 1\n",
    "repr_att = attributes[n]"
   ]
  },
  {
   "cell_type": "markdown",
   "metadata": {},
   "source": [
    "### Log plot for one borehole"
   ]
  },
  {
   "cell_type": "code",
   "execution_count": 30,
   "metadata": {
    "scrolled": true
   },
   "outputs": [
    {
     "ename": "IndexError",
     "evalue": "list index out of range",
     "output_type": "error",
     "traceback": [
      "\u001b[0;31m---------------------------------------------------------------------------\u001b[0m",
      "\u001b[0;31mIndexError\u001b[0m                                Traceback (most recent call last)",
      "\u001b[0;32m/tmp/ipykernel_17238/1086885938.py\u001b[0m in \u001b[0;36m<module>\u001b[0;34m\u001b[0m\n\u001b[0;32m----> 1\u001b[0;31m \u001b[0mp\u001b[0m\u001b[0;34m.\u001b[0m\u001b[0mboreholes_3d\u001b[0m\u001b[0;34m[\u001b[0m\u001b[0;36m0\u001b[0m\u001b[0;34m]\u001b[0m\u001b[0;34m.\u001b[0m\u001b[0mintervals\u001b[0m\u001b[0;34m\u001b[0m\u001b[0;34m\u001b[0m\u001b[0m\n\u001b[0m",
      "\u001b[0;31mIndexError\u001b[0m: list index out of range"
     ]
    }
   ],
   "source": [
    "p.boreholes_3d[0].intervals"
   ]
  },
  {
   "cell_type": "code",
   "execution_count": null,
   "metadata": {},
   "outputs": [],
   "source": [
    "p.boreholes_3d[n].attrib_components(attribute=repr_att)"
   ]
  },
  {
   "cell_type": "code",
   "execution_count": null,
   "metadata": {
    "scrolled": true
   },
   "outputs": [],
   "source": [
    "p.boreholes_3d[n].components \n",
    "# lacking properties in components, why ???"
   ]
  },
  {
   "cell_type": "code",
   "execution_count": null,
   "metadata": {},
   "outputs": [],
   "source": [
    "p.boreholes_3d[n].plot_log(repr_attribute=repr_att)"
   ]
  },
  {
   "cell_type": "markdown",
   "metadata": {},
   "source": [
    "### 3D display of one borehole"
   ]
  },
  {
   "cell_type": "code",
   "execution_count": null,
   "metadata": {},
   "outputs": [],
   "source": [
    "at = 1\n",
    "n = 5\n",
    "repr_att = attributes[at]\n",
    "list(p.boreholes_3d[n].legend_dict.keys())[at]"
   ]
  },
  {
   "cell_type": "code",
   "execution_count": null,
   "metadata": {},
   "outputs": [],
   "source": [
    "p.legend_dict[repr_att]['cmap']"
   ]
  },
  {
   "cell_type": "code",
   "execution_count": null,
   "metadata": {},
   "outputs": [],
   "source": [
    "p.boreholes_3d[n].geometry.data[at].array.array"
   ]
  },
  {
   "cell_type": "code",
   "execution_count": null,
   "metadata": {},
   "outputs": [],
   "source": [
    "p.boreholes_3d[n].plot_3d(repr_attribute=repr_att, str_annotations=False)"
   ]
  },
  {
   "cell_type": "code",
   "execution_count": null,
   "metadata": {},
   "outputs": [],
   "source": [
    "p.boreholes_3d[n]._vtk.CELL_DATA_FIELD #.get_array #geometry.data[2].array.array"
   ]
  },
  {
   "cell_type": "code",
   "execution_count": null,
   "metadata": {},
   "outputs": [],
   "source": [
    "from core.visual import Borehole3D\n",
    "from striplog import Interval, Component"
   ]
  },
  {
   "cell_type": "code",
   "execution_count": null,
   "metadata": {},
   "outputs": [],
   "source": [
    "intv = [Interval(0,1, components=[Component({'lithology':'sable'})]), \n",
    "        Interval(1,2, components=[Component({'lithology':'limon'})]),\n",
    "        Interval(2,3, components=[Component({'lithology':'argile'})]),\n",
    "        Interval(3,4, components=[Component({'lithology':'inconnu'})])]"
   ]
  },
  {
   "cell_type": "code",
   "execution_count": null,
   "metadata": {},
   "outputs": [],
   "source": [
    "bh_test = Borehole3D({'lithology':intv, 'sample':None}, repr_attribute='lithology', length=4, legend_dict=legend_dict)"
   ]
  },
  {
   "cell_type": "code",
   "execution_count": null,
   "metadata": {},
   "outputs": [],
   "source": [
    "bh_test.plot_log()#3d()"
   ]
  },
  {
   "cell_type": "code",
   "execution_count": null,
   "metadata": {},
   "outputs": [],
   "source": [
    "p.boreholes_3d[n]._vtk"
   ]
  },
  {
   "cell_type": "markdown",
   "metadata": {},
   "source": [
    "### Localization of project boreholes"
   ]
  },
  {
   "cell_type": "raw",
   "metadata": {},
   "source": [
    "p.plot_map()"
   ]
  },
  {
   "cell_type": "markdown",
   "metadata": {},
   "source": [
    "### 3D display of project boreholes"
   ]
  },
  {
   "cell_type": "code",
   "execution_count": null,
   "metadata": {},
   "outputs": [],
   "source": [
    "pause"
   ]
  },
  {
   "cell_type": "code",
   "execution_count": null,
   "metadata": {},
   "outputs": [],
   "source": [
    "p.plot_3d(repr_attribute=repr_att, labels_size=15, bg_color=[\"royalblue\", \"aliceblue\"], \n",
    "         window_size=(800, 600), verbose=True)"
   ]
  },
  {
   "cell_type": "markdown",
   "metadata": {},
   "source": [
    "## Testing zone"
   ]
  },
  {
   "cell_type": "raw",
   "metadata": {},
   "source": [
    "d1 = {'lithology': {0: {'interval_number': 0, 'top': 0, 'base': 1, 'type': 'lithology', \n",
    "                          'description': '{\"lithology\": \"remblais\"}'}, \n",
    "                      1: {'interval_number': 1, 'top': 1, 'base': 2, 'type': 'lithology', \n",
    "                          'description': '{\"lithology\": \"sable\"}'}},\n",
    "     'sample': {0: {'interval_number': 0, 'top': 0, 'base': 1, 'type': 'sample', \n",
    "                          'description': '{\"benzene\": \"VR\"}'}, \n",
    "                      1: {'interval_number': 1, 'top': 1, 'base': 2, 'type': 'sample', \n",
    "                          'description': '{\"Toluene\": \"VI\"}'}}\n",
    "     }\n",
    "\n",
    "d2 = {0: {'interval_number': 0, 'top': 0, 'base': 1, 'type': 'lithology', \n",
    "          'description': '{\"lithology\": \"remblais\"}'}, \n",
    "      1: {'interval_number': 1, 'top': 1, 'base': 2, 'type': 'lithology', \n",
    "          'description': '{\"lithology\": \"sable\"}'}}"
   ]
  },
  {
   "cell_type": "raw",
   "metadata": {},
   "source": [
    "d = d1\n",
    "keys = list(d.keys())\n",
    "dict_viewer(d[keys[0]])"
   ]
  },
  {
   "cell_type": "raw",
   "metadata": {},
   "source": [
    "def intv_func(d, attr=None):\n",
    "    for k, v in d.items():\n",
    "        if attr is None:\n",
    "            print(k, v, '\\n')\n",
    "        else:\n",
    "            if attr is not None and k==attr : print(k, v, '\\n')"
   ]
  },
  {
   "cell_type": "raw",
   "metadata": {},
   "source": [
    "intv_func(d1, 'lithology')"
   ]
  },
  {
   "cell_type": "raw",
   "metadata": {},
   "source": [
    "s = lambda k, v: print(k, d[k])\n",
    "s(keys[0], 0)"
   ]
  }
 ],
 "metadata": {
  "kernelspec": {
   "display_name": "Python 3 (ipykernel)",
   "language": "python",
   "name": "python3"
  },
  "language_info": {
   "codemirror_mode": {
    "name": "ipython",
    "version": 3
   },
   "file_extension": ".py",
   "mimetype": "text/x-python",
   "name": "python",
   "nbconvert_exporter": "python",
   "pygments_lexer": "ipython3",
   "version": "3.8.10"
  }
 },
 "nbformat": 4,
 "nbformat_minor": 4
}
