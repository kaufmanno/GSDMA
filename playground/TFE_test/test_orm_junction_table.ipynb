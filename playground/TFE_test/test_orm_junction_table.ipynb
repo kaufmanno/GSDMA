{
 "cells": [
  {
   "cell_type": "markdown",
   "metadata": {},
   "source": [
    "# Example of using the orm classes"
   ]
  },
  {
   "cell_type": "markdown",
   "metadata": {},
   "source": [
    "Imports"
   ]
  },
  {
   "cell_type": "code",
   "execution_count": 1,
   "metadata": {},
   "outputs": [],
   "source": [
    "from os import remove\n",
    "from utils.io import striplog_from_text\n",
    "from core.core import Project\n",
    "from core.orm import BoreholeOrm, PositionOrm, Base, LinkIntervalComponentOrm\n",
    "from striplog import Lexicon, Striplog, Component\n",
    "from sqlalchemy import create_engine\n",
    "from sqlalchemy.orm import sessionmaker\n",
    "from definitions import ROOT_DIR"
   ]
  },
  {
   "cell_type": "code",
   "execution_count": 2,
   "metadata": {},
   "outputs": [],
   "source": [
    "remove('./tmp_files/test_orm_db_2.db')"
   ]
  },
  {
   "cell_type": "markdown",
   "metadata": {},
   "source": [
    "Create the db engine and the database structure"
   ]
  },
  {
   "cell_type": "code",
   "execution_count": 3,
   "metadata": {},
   "outputs": [],
   "source": [
    "engine = create_engine('sqlite:///tmp_files/test_orm_db_2.db', echo=True)"
   ]
  },
  {
   "cell_type": "code",
   "execution_count": 4,
   "metadata": {
    "scrolled": true
   },
   "outputs": [
    {
     "name": "stdout",
     "output_type": "stream",
     "text": [
      "2021-03-13 12:10:02,308 INFO sqlalchemy.engine.base.Engine SELECT CAST('test plain returns' AS VARCHAR(60)) AS anon_1\n",
      "2021-03-13 12:10:02,310 INFO sqlalchemy.engine.base.Engine ()\n",
      "2021-03-13 12:10:02,311 INFO sqlalchemy.engine.base.Engine SELECT CAST('test unicode returns' AS VARCHAR(60)) AS anon_1\n",
      "2021-03-13 12:10:02,312 INFO sqlalchemy.engine.base.Engine ()\n",
      "2021-03-13 12:10:02,313 INFO sqlalchemy.engine.base.Engine PRAGMA main.table_info(\"Boreholes\")\n",
      "2021-03-13 12:10:02,314 INFO sqlalchemy.engine.base.Engine ()\n",
      "2021-03-13 12:10:02,315 INFO sqlalchemy.engine.base.Engine PRAGMA temp.table_info(\"Boreholes\")\n",
      "2021-03-13 12:10:02,316 INFO sqlalchemy.engine.base.Engine ()\n",
      "2021-03-13 12:10:02,317 INFO sqlalchemy.engine.base.Engine PRAGMA main.table_info(\"Positions\")\n",
      "2021-03-13 12:10:02,317 INFO sqlalchemy.engine.base.Engine ()\n",
      "2021-03-13 12:10:02,318 INFO sqlalchemy.engine.base.Engine PRAGMA temp.table_info(\"Positions\")\n",
      "2021-03-13 12:10:02,321 INFO sqlalchemy.engine.base.Engine ()\n",
      "2021-03-13 12:10:02,322 INFO sqlalchemy.engine.base.Engine PRAGMA main.table_info(\"Intervals\")\n",
      "2021-03-13 12:10:02,323 INFO sqlalchemy.engine.base.Engine ()\n",
      "2021-03-13 12:10:02,324 INFO sqlalchemy.engine.base.Engine PRAGMA temp.table_info(\"Intervals\")\n",
      "2021-03-13 12:10:02,325 INFO sqlalchemy.engine.base.Engine ()\n",
      "2021-03-13 12:10:02,327 INFO sqlalchemy.engine.base.Engine PRAGMA main.table_info(\"Components\")\n",
      "2021-03-13 12:10:02,328 INFO sqlalchemy.engine.base.Engine ()\n",
      "2021-03-13 12:10:02,329 INFO sqlalchemy.engine.base.Engine PRAGMA temp.table_info(\"Components\")\n",
      "2021-03-13 12:10:02,330 INFO sqlalchemy.engine.base.Engine ()\n",
      "2021-03-13 12:10:02,331 INFO sqlalchemy.engine.base.Engine PRAGMA main.table_info(\"Linkintervalcomponent\")\n",
      "2021-03-13 12:10:02,333 INFO sqlalchemy.engine.base.Engine ()\n",
      "2021-03-13 12:10:02,333 INFO sqlalchemy.engine.base.Engine PRAGMA temp.table_info(\"Linkintervalcomponent\")\n",
      "2021-03-13 12:10:02,334 INFO sqlalchemy.engine.base.Engine ()\n",
      "2021-03-13 12:10:02,336 INFO sqlalchemy.engine.base.Engine \n",
      "CREATE TABLE \"Boreholes\" (\n",
      "\tid VARCHAR(32) NOT NULL, \n",
      "\tlength FLOAT, \n",
      "\tdiameter FLOAT, \n",
      "\tPRIMARY KEY (id)\n",
      ")\n",
      "\n",
      "\n",
      "2021-03-13 12:10:02,336 INFO sqlalchemy.engine.base.Engine ()\n",
      "2021-03-13 12:10:02,339 INFO sqlalchemy.engine.base.Engine COMMIT\n",
      "2021-03-13 12:10:02,340 INFO sqlalchemy.engine.base.Engine \n",
      "CREATE TABLE \"Positions\" (\n",
      "\tid INTEGER NOT NULL, \n",
      "\tupper FLOAT, \n",
      "\tmiddle FLOAT, \n",
      "\tlower FLOAT, \n",
      "\tx FLOAT, \n",
      "\ty FLOAT, \n",
      "\tPRIMARY KEY (id)\n",
      ")\n",
      "\n",
      "\n",
      "2021-03-13 12:10:02,341 INFO sqlalchemy.engine.base.Engine ()\n",
      "2021-03-13 12:10:02,345 INFO sqlalchemy.engine.base.Engine COMMIT\n",
      "2021-03-13 12:10:02,346 INFO sqlalchemy.engine.base.Engine \n",
      "CREATE TABLE \"Components\" (\n",
      "\tid INTEGER NOT NULL, \n",
      "\tdescription VARCHAR(32), \n",
      "\tPRIMARY KEY (id)\n",
      ")\n",
      "\n",
      "\n",
      "2021-03-13 12:10:02,348 INFO sqlalchemy.engine.base.Engine ()\n",
      "2021-03-13 12:10:02,351 INFO sqlalchemy.engine.base.Engine COMMIT\n",
      "2021-03-13 12:10:02,352 INFO sqlalchemy.engine.base.Engine \n",
      "CREATE TABLE \"Intervals\" (\n",
      "\tid INTEGER NOT NULL, \n",
      "\tborehole VARCHAR(32), \n",
      "\tinterval_number INTEGER, \n",
      "\tdescription VARCHAR(32), \n",
      "\ttop_id INTEGER, \n",
      "\tbase_id INTEGER, \n",
      "\tPRIMARY KEY (id), \n",
      "\tFOREIGN KEY(borehole) REFERENCES \"Boreholes\" (id), \n",
      "\tFOREIGN KEY(top_id) REFERENCES \"Positions\" (id), \n",
      "\tFOREIGN KEY(base_id) REFERENCES \"Positions\" (id)\n",
      ")\n",
      "\n",
      "\n",
      "2021-03-13 12:10:02,353 INFO sqlalchemy.engine.base.Engine ()\n",
      "2021-03-13 12:10:02,358 INFO sqlalchemy.engine.base.Engine COMMIT\n",
      "2021-03-13 12:10:02,359 INFO sqlalchemy.engine.base.Engine \n",
      "CREATE TABLE \"Linkintervalcomponent\" (\n",
      "\tint_id INTEGER NOT NULL, \n",
      "\tcomp_id INTEGER NOT NULL, \n",
      "\textra_data VARCHAR(256), \n",
      "\tPRIMARY KEY (int_id, comp_id), \n",
      "\tFOREIGN KEY(int_id) REFERENCES \"Intervals\" (id), \n",
      "\tFOREIGN KEY(comp_id) REFERENCES \"Components\" (id)\n",
      ")\n",
      "\n",
      "\n",
      "2021-03-13 12:10:02,360 INFO sqlalchemy.engine.base.Engine ()\n",
      "2021-03-13 12:10:02,365 INFO sqlalchemy.engine.base.Engine COMMIT\n"
     ]
    }
   ],
   "source": [
    "Base.metadata.create_all(engine)"
   ]
  },
  {
   "cell_type": "markdown",
   "metadata": {},
   "source": [
    "### Create the objects from las files"
   ]
  },
  {
   "cell_type": "code",
   "execution_count": 5,
   "metadata": {},
   "outputs": [],
   "source": [
    "lexicon = Lexicon.default()"
   ]
  },
  {
   "cell_type": "code",
   "execution_count": 6,
   "metadata": {},
   "outputs": [],
   "source": [
    "borehole_dict = {'F01':ROOT_DIR+'/data/test.las', 'F02':ROOT_DIR+'/data/test.csv'} # boreholes to insert into the db"
   ]
  },
  {
   "cell_type": "code",
   "execution_count": 7,
   "metadata": {
    "scrolled": true
   },
   "outputs": [
    {
     "name": "stdout",
     "output_type": "stream",
     "text": [
      "{0: {'description': 'Anhydrite', 'interval_number': 0, 'top': <core.orm.PositionOrm object at 0x7f1eb435f460>, 'base': <core.orm.PositionOrm object at 0x7f1e0ba07820>}, 1: {'description': 'Sandstone, grey, vf-f', 'interval_number': 1, 'top': <core.orm.PositionOrm object at 0x7f1e0ba07ac0>, 'base': <core.orm.PositionOrm object at 0x7f1e0ba07af0>}, 2: {'description': 'Anhydrite', 'interval_number': 2, 'top': <core.orm.PositionOrm object at 0x7f1e0ba07a60>, 'base': <core.orm.PositionOrm object at 0x7f1e0b6d1dc0>}, 3: {'description': 'Dolomite', 'interval_number': 3, 'top': <core.orm.PositionOrm object at 0x7f1e0b6d1730>, 'base': <core.orm.PositionOrm object at 0x7f1e0b6d1fa0>}, 4: {'description': 'Anhydrite', 'interval_number': 4, 'top': <core.orm.PositionOrm object at 0x7f1e0b6d1d90>, 'base': <core.orm.PositionOrm object at 0x7f1e0ba14fd0>}, 5: {'description': 'Sandstone, grey, vf-f', 'interval_number': 5, 'top': <core.orm.PositionOrm object at 0x7f1e0b6e3d00>, 'base': <core.orm.PositionOrm object at 0x7f1e0b6e3e80>}, 6: {'description': 'Siltstone, red', 'interval_number': 6, 'top': <core.orm.PositionOrm object at 0x7f1e0b6e3f10>, 'base': <core.orm.PositionOrm object at 0x7f1e0b6e3070>}, 7: {'description': 'Dolomite', 'interval_number': 7, 'top': <core.orm.PositionOrm object at 0x7f1e0b6e30d0>, 'base': <core.orm.PositionOrm object at 0x7f1e0b6e3220>}, 8: {'description': 'Siltstone, grey', 'interval_number': 8, 'top': <core.orm.PositionOrm object at 0x7f1e0b6e3250>, 'base': <core.orm.PositionOrm object at 0x7f1e0b6e31f0>}, 9: {'description': 'Dolomite', 'interval_number': 9, 'top': <core.orm.PositionOrm object at 0x7f1e0b6e3160>, 'base': <core.orm.PositionOrm object at 0x7f1e0b6e33a0>}, 10: {'description': 'Sandstone, grey, vf-f', 'interval_number': 10, 'top': <core.orm.PositionOrm object at 0x7f1e0b6e3370>, 'base': <core.orm.PositionOrm object at 0x7f1e0b6e32b0>}, 11: {'description': 'Dolomite', 'interval_number': 11, 'top': <core.orm.PositionOrm object at 0x7f1e0b6e32e0>, 'base': <core.orm.PositionOrm object at 0x7f1e0b6e3490>}, 12: {'description': 'Sandstone, grey, vf-f', 'interval_number': 12, 'top': <core.orm.PositionOrm object at 0x7f1e0b6e3460>, 'base': <core.orm.PositionOrm object at 0x7f1e0b6e3430>}, 13: {'description': 'Siltstone, grey', 'interval_number': 13, 'top': <core.orm.PositionOrm object at 0x7f1e0b6e33d0>, 'base': <core.orm.PositionOrm object at 0x7f1e0b6e3550>}, 14: {'description': 'Dolomite', 'interval_number': 14, 'top': <core.orm.PositionOrm object at 0x7f1e0b6e35e0>, 'base': <core.orm.PositionOrm object at 0x7f1e0b6e3760>}, 15: {'description': 'Siltstone, grey', 'interval_number': 15, 'top': <core.orm.PositionOrm object at 0x7f1e0b6e3790>, 'base': <core.orm.PositionOrm object at 0x7f1e0b6e3730>}, 16: {'description': 'Dolomite', 'interval_number': 16, 'top': <core.orm.PositionOrm object at 0x7f1e0b6e36a0>, 'base': <core.orm.PositionOrm object at 0x7f1e0b6e3850>}, 17: {'description': 'Siltstone, grey', 'interval_number': 17, 'top': <core.orm.PositionOrm object at 0x7f1e0b6e38b0>, 'base': <core.orm.PositionOrm object at 0x7f1e0b6e37f0>}, 18: {'description': 'Dolomite', 'interval_number': 18, 'top': <core.orm.PositionOrm object at 0x7f1e0b6e3820>, 'base': <core.orm.PositionOrm object at 0x7f1e0b6e39d0>}, 19: {'description': 'Siltstone, grey', 'interval_number': 19, 'top': <core.orm.PositionOrm object at 0x7f1e0b6e39a0>, 'base': <core.orm.PositionOrm object at 0x7f1e0b6e3970>}, 20: {'description': 'Dolomite', 'interval_number': 20, 'top': <core.orm.PositionOrm object at 0x7f1e0b6e3910>, 'base': <core.orm.PositionOrm object at 0x7f1e0b6e3a90>}, 21: {'description': 'Siltstone, grey', 'interval_number': 21, 'top': <core.orm.PositionOrm object at 0x7f1e0b6e3b20>, 'base': <core.orm.PositionOrm object at 0x7f1e0b6e3a60>}, 22: {'description': 'Dolomite', 'interval_number': 22, 'top': <core.orm.PositionOrm object at 0x7f1e0b6e3cd0>, 'base': <core.orm.PositionOrm object at 0x7f1e0b6e3c10>}, 23: {'description': 'Limestone', 'interval_number': 23, 'top': <core.orm.PositionOrm object at 0x7f1e0b6e3be0>, 'base': <core.orm.PositionOrm object at 0x7f1e0b6e3e20>}, 24: {'description': 'Volcanic', 'interval_number': 24, 'top': <core.orm.PositionOrm object at 0x7f1e0b6e3df0>, 'base': <core.orm.PositionOrm object at 0x7f1e0b6e3d30>}}\n",
      "{25: {'description': 'Anhydrite', 'interval_number': 0, 'top': <core.orm.PositionOrm object at 0x7f1e0b6e3e50>, 'base': <core.orm.PositionOrm object at 0x7f1e0b6e6190>}, 26: {'description': 'Grey vf-f sandstone', 'interval_number': 1, 'top': <core.orm.PositionOrm object at 0x7f1e0b6e6220>, 'base': <core.orm.PositionOrm object at 0x7f1e0b6e60d0>}, 27: {'description': 'Red siltstone', 'interval_number': 2, 'top': <core.orm.PositionOrm object at 0x7f1e0b6e60a0>, 'base': <core.orm.PositionOrm object at 0x7f1e0b6e6370>}}\n"
     ]
    }
   ],
   "source": [
    "int_id = 0\n",
    "bh_id = 0\n",
    "pos_id = 0\n",
    "boreholes = []\n",
    "components = []\n",
    "comp_id = 0\n",
    "component_dict={}\n",
    "link_dict={}\n",
    "pos_dict = {}\n",
    "x = [0., 20.]\n",
    "y = [0., 120.]\n",
    "\n",
    "for bh, filename in borehole_dict.items():\n",
    "    interval_number = 0\n",
    "    boreholes.append(BoreholeOrm(id=bh))\n",
    "    \n",
    "    strip=striplog_from_text(filename)\n",
    "    \n",
    "    for c in strip.components:\n",
    "        if c not in component_dict.keys():\n",
    "            component_dict.update({c:comp_id})\n",
    "            comp_id += 1\n",
    "    d ={}\n",
    "    for interval in strip:\n",
    "        top = PositionOrm(id=pos_id, upper=interval.top.upper, \n",
    "                          middle=interval.top.middle,  \n",
    "                          lower=interval.top.lower, \n",
    "                          x=x[bh_id], y=y[bh_id])\n",
    "        \n",
    "        base = PositionOrm(id=pos_id+1, upper=interval.base.upper, \n",
    "                           middle=interval.base.middle,  \n",
    "                           lower=interval.base.lower, \n",
    "                           x=x[bh_id], y=y[bh_id])\n",
    "        \n",
    "        d.update({int_id:{'description':interval.description, \n",
    "                          'interval_number' : interval_number, \n",
    "                          'top': top, 'base': base\n",
    "                         }})\n",
    "        \n",
    "        for i in interval.components:\n",
    "            if i != Component({}):\n",
    "                link_dict.update({(int_id, component_dict[i]) : {'extra_data': 'test'}})\n",
    "        \n",
    "        interval_number+=1\n",
    "        int_id += 1\n",
    "        pos_id += 2\n",
    "\n",
    " \n",
    "\n",
    "    print(d)\n",
    "    boreholes[bh_id].intervals_values = d\n",
    "    #boreholes[bh_id].components_values = c\n",
    "    bh_id += 1 \n",
    "components = {v:k for k,v in component_dict.items()}"
   ]
  },
  {
   "cell_type": "code",
   "execution_count": 8,
   "metadata": {},
   "outputs": [
    {
     "data": {
      "text/plain": [
       "{(0, 1): {'extra_data': 'test'},\n",
       " (1, 2): {'extra_data': 'test'},\n",
       " (2, 1): {'extra_data': 'test'},\n",
       " (3, 3): {'extra_data': 'test'},\n",
       " (4, 1): {'extra_data': 'test'},\n",
       " (5, 2): {'extra_data': 'test'},\n",
       " (6, 4): {'extra_data': 'test'},\n",
       " (7, 3): {'extra_data': 'test'},\n",
       " (8, 0): {'extra_data': 'test'},\n",
       " (9, 3): {'extra_data': 'test'},\n",
       " (10, 2): {'extra_data': 'test'},\n",
       " (11, 3): {'extra_data': 'test'},\n",
       " (12, 2): {'extra_data': 'test'},\n",
       " (13, 0): {'extra_data': 'test'},\n",
       " (14, 3): {'extra_data': 'test'},\n",
       " (15, 0): {'extra_data': 'test'},\n",
       " (16, 3): {'extra_data': 'test'},\n",
       " (17, 0): {'extra_data': 'test'},\n",
       " (18, 3): {'extra_data': 'test'},\n",
       " (19, 0): {'extra_data': 'test'},\n",
       " (20, 3): {'extra_data': 'test'},\n",
       " (21, 0): {'extra_data': 'test'},\n",
       " (22, 3): {'extra_data': 'test'},\n",
       " (23, 5): {'extra_data': 'test'},\n",
       " (25, 1): {'extra_data': 'test'},\n",
       " (26, 2): {'extra_data': 'test'},\n",
       " (27, 4): {'extra_data': 'test'}}"
      ]
     },
     "execution_count": 8,
     "metadata": {},
     "output_type": "execute_result"
    }
   ],
   "source": [
    "link_dict"
   ]
  },
  {
   "cell_type": "markdown",
   "metadata": {},
   "source": [
    "Create the session"
   ]
  },
  {
   "cell_type": "code",
   "execution_count": 9,
   "metadata": {},
   "outputs": [],
   "source": [
    "Session = sessionmaker(bind=engine)\n",
    "session = Session()"
   ]
  },
  {
   "cell_type": "markdown",
   "metadata": {},
   "source": [
    "Create the project"
   ]
  },
  {
   "cell_type": "code",
   "execution_count": 10,
   "metadata": {
    "scrolled": false
   },
   "outputs": [
    {
     "name": "stdout",
     "output_type": "stream",
     "text": [
      "2021-03-13 12:10:02,436 INFO sqlalchemy.engine.base.Engine BEGIN (implicit)\n",
      "2021-03-13 12:10:02,437 INFO sqlalchemy.engine.base.Engine SELECT \"Boreholes\".id AS \"Boreholes_id\", \"Boreholes\".length AS \"Boreholes_length\", \"Boreholes\".diameter AS \"Boreholes_diameter\" \n",
      "FROM \"Boreholes\"\n",
      "2021-03-13 12:10:02,438 INFO sqlalchemy.engine.base.Engine ()\n",
      "2021-03-13 12:10:02,441 INFO sqlalchemy.engine.base.Engine INSERT INTO \"Components\" (id, description) VALUES (?, ?)\n",
      "2021-03-13 12:10:02,442 INFO sqlalchemy.engine.base.Engine ((0, 'Siltstone, grey'), (1, 'Anhydrite'), (2, 'Sandstone, vf-f, grey'), (3, 'Dolomite'), (4, 'Siltstone, red'), (5, 'Limestone'))\n",
      "2021-03-13 12:10:02,444 INFO sqlalchemy.engine.base.Engine COMMIT\n",
      "2021-03-13 12:10:02,447 INFO sqlalchemy.engine.base.Engine BEGIN (implicit)\n",
      "2021-03-13 12:10:02,448 INFO sqlalchemy.engine.base.Engine SELECT \"Boreholes\".id AS \"Boreholes_id\", \"Boreholes\".length AS \"Boreholes_length\", \"Boreholes\".diameter AS \"Boreholes_diameter\" \n",
      "FROM \"Boreholes\"\n",
      "2021-03-13 12:10:02,448 INFO sqlalchemy.engine.base.Engine ()\n"
     ]
    }
   ],
   "source": [
    "p = Project(session)\n",
    "p.add_components(components)"
   ]
  },
  {
   "cell_type": "code",
   "execution_count": 11,
   "metadata": {},
   "outputs": [
    {
     "data": {
      "text/plain": [
       "[<core.orm.BoreholeOrm>(id=F01, length=None, diameter=None, intervals=25),\n",
       " <core.orm.BoreholeOrm>(id=F02, length=None, diameter=None, intervals=3)]"
      ]
     },
     "execution_count": 11,
     "metadata": {},
     "output_type": "execute_result"
    }
   ],
   "source": [
    "boreholes"
   ]
  },
  {
   "cell_type": "markdown",
   "metadata": {},
   "source": [
    "Add boreholes into the database"
   ]
  },
  {
   "cell_type": "code",
   "execution_count": 12,
   "metadata": {},
   "outputs": [
    {
     "name": "stdout",
     "output_type": "stream",
     "text": [
      "2021-03-13 12:10:02,461 INFO sqlalchemy.engine.base.Engine INSERT INTO \"Boreholes\" (id, length, diameter) VALUES (?, ?, ?)\n",
      "2021-03-13 12:10:02,462 INFO sqlalchemy.engine.base.Engine ('F01', 0.0, 0.0)\n",
      "2021-03-13 12:10:02,466 INFO sqlalchemy.engine.base.Engine INSERT INTO \"Positions\" (id, upper, middle, lower, x, y) VALUES (?, ?, ?, ?, ?, ?)\n",
      "2021-03-13 12:10:02,467 INFO sqlalchemy.engine.base.Engine ((0, 14.3, 14.3, 14.3, 0.0, 0.0), (1, 51.24117647058824, 51.24117647058824, 51.24117647058824, 0.0, 0.0), (2, 51.24117647058824, 51.24117647058824, 51.24117647058824, 0.0, 0.0), (3, 54.81764705882354, 54.81764705882354, 54.81764705882354, 0.0, 0.0), (4, 54.81764705882354, 54.81764705882354, 54.81764705882354, 0.0, 0.0), (5, 56.55882352941177, 56.55882352941177, 56.55882352941177, 0.0, 0.0), (6, 56.55882352941177, 56.55882352941177, 56.55882352941177, 0.0, 0.0), (7, 58.86470588235295, 58.86470588235295, 58.86470588235295, 0.0, 0.0)  ... displaying 10 of 50 total bound parameter sets ...  (48, 131.47647058823532, 131.47647058823532, 131.47647058823532, 0.0, 0.0), (49, 135.9, 135.9, 135.9, 0.0, 0.0))\n",
      "2021-03-13 12:10:02,471 INFO sqlalchemy.engine.base.Engine INSERT INTO \"Intervals\" (id, borehole, interval_number, description, top_id, base_id) VALUES (?, ?, ?, ?, ?, ?)\n",
      "2021-03-13 12:10:02,472 INFO sqlalchemy.engine.base.Engine ((0, 'F01', 0, 'Anhydrite', 0, 1), (1, 'F01', 1, 'Sandstone, grey, vf-f', 2, 3), (2, 'F01', 2, 'Anhydrite', 4, 5), (3, 'F01', 3, 'Dolomite', 6, 7), (4, 'F01', 4, 'Anhydrite', 8, 9), (5, 'F01', 5, 'Sandstone, grey, vf-f', 10, 11), (6, 'F01', 6, 'Siltstone, red', 12, 13), (7, 'F01', 7, 'Dolomite', 14, 15)  ... displaying 10 of 25 total bound parameter sets ...  (23, 'F01', 23, 'Limestone', 46, 47), (24, 'F01', 24, 'Volcanic', 48, 49))\n",
      "2021-03-13 12:10:02,474 INFO sqlalchemy.engine.base.Engine COMMIT\n",
      "2021-03-13 12:10:02,478 INFO sqlalchemy.engine.base.Engine BEGIN (implicit)\n",
      "2021-03-13 12:10:02,479 INFO sqlalchemy.engine.base.Engine SELECT \"Boreholes\".id AS \"Boreholes_id\", \"Boreholes\".length AS \"Boreholes_length\", \"Boreholes\".diameter AS \"Boreholes_diameter\" \n",
      "FROM \"Boreholes\"\n",
      "2021-03-13 12:10:02,480 INFO sqlalchemy.engine.base.Engine ()\n",
      "2021-03-13 12:10:02,484 INFO sqlalchemy.engine.base.Engine SELECT \"Intervals\".id AS \"Intervals_id\", \"Intervals\".borehole AS \"Intervals_borehole\", \"Intervals\".interval_number AS \"Intervals_interval_number\", \"Intervals\".description AS \"Intervals_description\", \"Intervals\".top_id AS \"Intervals_top_id\", \"Intervals\".base_id AS \"Intervals_base_id\" \n",
      "FROM \"Intervals\" \n",
      "WHERE ? = \"Intervals\".borehole\n",
      "2021-03-13 12:10:02,486 INFO sqlalchemy.engine.base.Engine ('F01',)\n",
      "2021-03-13 12:10:02,489 INFO sqlalchemy.engine.base.Engine SELECT \"Positions\".id AS \"Positions_id\", \"Positions\".upper AS \"Positions_upper\", \"Positions\".middle AS \"Positions_middle\", \"Positions\".lower AS \"Positions_lower\", \"Positions\".x AS \"Positions_x\", \"Positions\".y AS \"Positions_y\" \n",
      "FROM \"Positions\" \n",
      "WHERE \"Positions\".id = ?\n",
      "2021-03-13 12:10:02,490 INFO sqlalchemy.engine.base.Engine (0,)\n",
      "2021-03-13 12:10:02,494 INFO sqlalchemy.engine.base.Engine SELECT \"Positions\".id AS \"Positions_id\", \"Positions\".upper AS \"Positions_upper\", \"Positions\".middle AS \"Positions_middle\", \"Positions\".lower AS \"Positions_lower\", \"Positions\".x AS \"Positions_x\", \"Positions\".y AS \"Positions_y\" \n",
      "FROM \"Positions\" \n",
      "WHERE \"Positions\".id = ?\n",
      "2021-03-13 12:10:02,495 INFO sqlalchemy.engine.base.Engine (1,)\n",
      "2021-03-13 12:10:02,499 INFO sqlalchemy.engine.base.Engine SELECT \"Positions\".id AS \"Positions_id\", \"Positions\".upper AS \"Positions_upper\", \"Positions\".middle AS \"Positions_middle\", \"Positions\".lower AS \"Positions_lower\", \"Positions\".x AS \"Positions_x\", \"Positions\".y AS \"Positions_y\" \n",
      "FROM \"Positions\" \n",
      "WHERE \"Positions\".id = ?\n",
      "2021-03-13 12:10:02,500 INFO sqlalchemy.engine.base.Engine (2,)\n",
      "2021-03-13 12:10:02,502 INFO sqlalchemy.engine.base.Engine SELECT \"Positions\".id AS \"Positions_id\", \"Positions\".upper AS \"Positions_upper\", \"Positions\".middle AS \"Positions_middle\", \"Positions\".lower AS \"Positions_lower\", \"Positions\".x AS \"Positions_x\", \"Positions\".y AS \"Positions_y\" \n",
      "FROM \"Positions\" \n",
      "WHERE \"Positions\".id = ?\n",
      "2021-03-13 12:10:02,503 INFO sqlalchemy.engine.base.Engine (3,)\n",
      "2021-03-13 12:10:02,507 INFO sqlalchemy.engine.base.Engine SELECT \"Positions\".id AS \"Positions_id\", \"Positions\".upper AS \"Positions_upper\", \"Positions\".middle AS \"Positions_middle\", \"Positions\".lower AS \"Positions_lower\", \"Positions\".x AS \"Positions_x\", \"Positions\".y AS \"Positions_y\" \n",
      "FROM \"Positions\" \n",
      "WHERE \"Positions\".id = ?\n",
      "2021-03-13 12:10:02,508 INFO sqlalchemy.engine.base.Engine (4,)\n",
      "2021-03-13 12:10:02,510 INFO sqlalchemy.engine.base.Engine SELECT \"Positions\".id AS \"Positions_id\", \"Positions\".upper AS \"Positions_upper\", \"Positions\".middle AS \"Positions_middle\", \"Positions\".lower AS \"Positions_lower\", \"Positions\".x AS \"Positions_x\", \"Positions\".y AS \"Positions_y\" \n",
      "FROM \"Positions\" \n",
      "WHERE \"Positions\".id = ?\n",
      "2021-03-13 12:10:02,511 INFO sqlalchemy.engine.base.Engine (5,)\n",
      "2021-03-13 12:10:02,516 INFO sqlalchemy.engine.base.Engine SELECT \"Positions\".id AS \"Positions_id\", \"Positions\".upper AS \"Positions_upper\", \"Positions\".middle AS \"Positions_middle\", \"Positions\".lower AS \"Positions_lower\", \"Positions\".x AS \"Positions_x\", \"Positions\".y AS \"Positions_y\" \n",
      "FROM \"Positions\" \n",
      "WHERE \"Positions\".id = ?\n",
      "2021-03-13 12:10:02,517 INFO sqlalchemy.engine.base.Engine (6,)\n",
      "2021-03-13 12:10:02,519 INFO sqlalchemy.engine.base.Engine SELECT \"Positions\".id AS \"Positions_id\", \"Positions\".upper AS \"Positions_upper\", \"Positions\".middle AS \"Positions_middle\", \"Positions\".lower AS \"Positions_lower\", \"Positions\".x AS \"Positions_x\", \"Positions\".y AS \"Positions_y\" \n",
      "FROM \"Positions\" \n",
      "WHERE \"Positions\".id = ?\n",
      "2021-03-13 12:10:02,520 INFO sqlalchemy.engine.base.Engine (7,)\n",
      "2021-03-13 12:10:02,524 INFO sqlalchemy.engine.base.Engine SELECT \"Positions\".id AS \"Positions_id\", \"Positions\".upper AS \"Positions_upper\", \"Positions\".middle AS \"Positions_middle\", \"Positions\".lower AS \"Positions_lower\", \"Positions\".x AS \"Positions_x\", \"Positions\".y AS \"Positions_y\" \n",
      "FROM \"Positions\" \n",
      "WHERE \"Positions\".id = ?\n",
      "2021-03-13 12:10:02,525 INFO sqlalchemy.engine.base.Engine (8,)\n",
      "2021-03-13 12:10:02,527 INFO sqlalchemy.engine.base.Engine SELECT \"Positions\".id AS \"Positions_id\", \"Positions\".upper AS \"Positions_upper\", \"Positions\".middle AS \"Positions_middle\", \"Positions\".lower AS \"Positions_lower\", \"Positions\".x AS \"Positions_x\", \"Positions\".y AS \"Positions_y\" \n",
      "FROM \"Positions\" \n",
      "WHERE \"Positions\".id = ?\n",
      "2021-03-13 12:10:02,527 INFO sqlalchemy.engine.base.Engine (9,)\n",
      "2021-03-13 12:10:02,531 INFO sqlalchemy.engine.base.Engine SELECT \"Positions\".id AS \"Positions_id\", \"Positions\".upper AS \"Positions_upper\", \"Positions\".middle AS \"Positions_middle\", \"Positions\".lower AS \"Positions_lower\", \"Positions\".x AS \"Positions_x\", \"Positions\".y AS \"Positions_y\" \n",
      "FROM \"Positions\" \n",
      "WHERE \"Positions\".id = ?\n",
      "2021-03-13 12:10:02,532 INFO sqlalchemy.engine.base.Engine (10,)\n",
      "2021-03-13 12:10:02,534 INFO sqlalchemy.engine.base.Engine SELECT \"Positions\".id AS \"Positions_id\", \"Positions\".upper AS \"Positions_upper\", \"Positions\".middle AS \"Positions_middle\", \"Positions\".lower AS \"Positions_lower\", \"Positions\".x AS \"Positions_x\", \"Positions\".y AS \"Positions_y\" \n",
      "FROM \"Positions\" \n",
      "WHERE \"Positions\".id = ?\n",
      "2021-03-13 12:10:02,534 INFO sqlalchemy.engine.base.Engine (11,)\n",
      "2021-03-13 12:10:02,539 INFO sqlalchemy.engine.base.Engine SELECT \"Positions\".id AS \"Positions_id\", \"Positions\".upper AS \"Positions_upper\", \"Positions\".middle AS \"Positions_middle\", \"Positions\".lower AS \"Positions_lower\", \"Positions\".x AS \"Positions_x\", \"Positions\".y AS \"Positions_y\" \n",
      "FROM \"Positions\" \n",
      "WHERE \"Positions\".id = ?\n",
      "2021-03-13 12:10:02,540 INFO sqlalchemy.engine.base.Engine (12,)\n",
      "2021-03-13 12:10:02,543 INFO sqlalchemy.engine.base.Engine SELECT \"Positions\".id AS \"Positions_id\", \"Positions\".upper AS \"Positions_upper\", \"Positions\".middle AS \"Positions_middle\", \"Positions\".lower AS \"Positions_lower\", \"Positions\".x AS \"Positions_x\", \"Positions\".y AS \"Positions_y\" \n",
      "FROM \"Positions\" \n",
      "WHERE \"Positions\".id = ?\n",
      "2021-03-13 12:10:02,544 INFO sqlalchemy.engine.base.Engine (13,)\n",
      "2021-03-13 12:10:02,547 INFO sqlalchemy.engine.base.Engine SELECT \"Positions\".id AS \"Positions_id\", \"Positions\".upper AS \"Positions_upper\", \"Positions\".middle AS \"Positions_middle\", \"Positions\".lower AS \"Positions_lower\", \"Positions\".x AS \"Positions_x\", \"Positions\".y AS \"Positions_y\" \n",
      "FROM \"Positions\" \n",
      "WHERE \"Positions\".id = ?\n"
     ]
    },
    {
     "name": "stdout",
     "output_type": "stream",
     "text": [
      "2021-03-13 12:10:02,548 INFO sqlalchemy.engine.base.Engine (14,)\n",
      "2021-03-13 12:10:02,551 INFO sqlalchemy.engine.base.Engine SELECT \"Positions\".id AS \"Positions_id\", \"Positions\".upper AS \"Positions_upper\", \"Positions\".middle AS \"Positions_middle\", \"Positions\".lower AS \"Positions_lower\", \"Positions\".x AS \"Positions_x\", \"Positions\".y AS \"Positions_y\" \n",
      "FROM \"Positions\" \n",
      "WHERE \"Positions\".id = ?\n",
      "2021-03-13 12:10:02,552 INFO sqlalchemy.engine.base.Engine (15,)\n",
      "2021-03-13 12:10:02,556 INFO sqlalchemy.engine.base.Engine SELECT \"Positions\".id AS \"Positions_id\", \"Positions\".upper AS \"Positions_upper\", \"Positions\".middle AS \"Positions_middle\", \"Positions\".lower AS \"Positions_lower\", \"Positions\".x AS \"Positions_x\", \"Positions\".y AS \"Positions_y\" \n",
      "FROM \"Positions\" \n",
      "WHERE \"Positions\".id = ?\n",
      "2021-03-13 12:10:02,557 INFO sqlalchemy.engine.base.Engine (16,)\n",
      "2021-03-13 12:10:02,559 INFO sqlalchemy.engine.base.Engine SELECT \"Positions\".id AS \"Positions_id\", \"Positions\".upper AS \"Positions_upper\", \"Positions\".middle AS \"Positions_middle\", \"Positions\".lower AS \"Positions_lower\", \"Positions\".x AS \"Positions_x\", \"Positions\".y AS \"Positions_y\" \n",
      "FROM \"Positions\" \n",
      "WHERE \"Positions\".id = ?\n",
      "2021-03-13 12:10:02,560 INFO sqlalchemy.engine.base.Engine (17,)\n",
      "2021-03-13 12:10:02,564 INFO sqlalchemy.engine.base.Engine SELECT \"Positions\".id AS \"Positions_id\", \"Positions\".upper AS \"Positions_upper\", \"Positions\".middle AS \"Positions_middle\", \"Positions\".lower AS \"Positions_lower\", \"Positions\".x AS \"Positions_x\", \"Positions\".y AS \"Positions_y\" \n",
      "FROM \"Positions\" \n",
      "WHERE \"Positions\".id = ?\n",
      "2021-03-13 12:10:02,565 INFO sqlalchemy.engine.base.Engine (18,)\n",
      "2021-03-13 12:10:02,566 INFO sqlalchemy.engine.base.Engine SELECT \"Positions\".id AS \"Positions_id\", \"Positions\".upper AS \"Positions_upper\", \"Positions\".middle AS \"Positions_middle\", \"Positions\".lower AS \"Positions_lower\", \"Positions\".x AS \"Positions_x\", \"Positions\".y AS \"Positions_y\" \n",
      "FROM \"Positions\" \n",
      "WHERE \"Positions\".id = ?\n",
      "2021-03-13 12:10:02,567 INFO sqlalchemy.engine.base.Engine (19,)\n",
      "2021-03-13 12:10:02,571 INFO sqlalchemy.engine.base.Engine SELECT \"Positions\".id AS \"Positions_id\", \"Positions\".upper AS \"Positions_upper\", \"Positions\".middle AS \"Positions_middle\", \"Positions\".lower AS \"Positions_lower\", \"Positions\".x AS \"Positions_x\", \"Positions\".y AS \"Positions_y\" \n",
      "FROM \"Positions\" \n",
      "WHERE \"Positions\".id = ?\n",
      "2021-03-13 12:10:02,572 INFO sqlalchemy.engine.base.Engine (20,)\n",
      "2021-03-13 12:10:02,573 INFO sqlalchemy.engine.base.Engine SELECT \"Positions\".id AS \"Positions_id\", \"Positions\".upper AS \"Positions_upper\", \"Positions\".middle AS \"Positions_middle\", \"Positions\".lower AS \"Positions_lower\", \"Positions\".x AS \"Positions_x\", \"Positions\".y AS \"Positions_y\" \n",
      "FROM \"Positions\" \n",
      "WHERE \"Positions\".id = ?\n",
      "2021-03-13 12:10:02,574 INFO sqlalchemy.engine.base.Engine (21,)\n",
      "2021-03-13 12:10:02,577 INFO sqlalchemy.engine.base.Engine SELECT \"Positions\".id AS \"Positions_id\", \"Positions\".upper AS \"Positions_upper\", \"Positions\".middle AS \"Positions_middle\", \"Positions\".lower AS \"Positions_lower\", \"Positions\".x AS \"Positions_x\", \"Positions\".y AS \"Positions_y\" \n",
      "FROM \"Positions\" \n",
      "WHERE \"Positions\".id = ?\n",
      "2021-03-13 12:10:02,578 INFO sqlalchemy.engine.base.Engine (22,)\n",
      "2021-03-13 12:10:02,579 INFO sqlalchemy.engine.base.Engine SELECT \"Positions\".id AS \"Positions_id\", \"Positions\".upper AS \"Positions_upper\", \"Positions\".middle AS \"Positions_middle\", \"Positions\".lower AS \"Positions_lower\", \"Positions\".x AS \"Positions_x\", \"Positions\".y AS \"Positions_y\" \n",
      "FROM \"Positions\" \n",
      "WHERE \"Positions\".id = ?\n",
      "2021-03-13 12:10:02,580 INFO sqlalchemy.engine.base.Engine (23,)\n",
      "2021-03-13 12:10:02,584 INFO sqlalchemy.engine.base.Engine SELECT \"Positions\".id AS \"Positions_id\", \"Positions\".upper AS \"Positions_upper\", \"Positions\".middle AS \"Positions_middle\", \"Positions\".lower AS \"Positions_lower\", \"Positions\".x AS \"Positions_x\", \"Positions\".y AS \"Positions_y\" \n",
      "FROM \"Positions\" \n",
      "WHERE \"Positions\".id = ?\n",
      "2021-03-13 12:10:02,585 INFO sqlalchemy.engine.base.Engine (24,)\n",
      "2021-03-13 12:10:02,586 INFO sqlalchemy.engine.base.Engine SELECT \"Positions\".id AS \"Positions_id\", \"Positions\".upper AS \"Positions_upper\", \"Positions\".middle AS \"Positions_middle\", \"Positions\".lower AS \"Positions_lower\", \"Positions\".x AS \"Positions_x\", \"Positions\".y AS \"Positions_y\" \n",
      "FROM \"Positions\" \n",
      "WHERE \"Positions\".id = ?\n",
      "2021-03-13 12:10:02,587 INFO sqlalchemy.engine.base.Engine (25,)\n",
      "2021-03-13 12:10:02,591 INFO sqlalchemy.engine.base.Engine SELECT \"Positions\".id AS \"Positions_id\", \"Positions\".upper AS \"Positions_upper\", \"Positions\".middle AS \"Positions_middle\", \"Positions\".lower AS \"Positions_lower\", \"Positions\".x AS \"Positions_x\", \"Positions\".y AS \"Positions_y\" \n",
      "FROM \"Positions\" \n",
      "WHERE \"Positions\".id = ?\n",
      "2021-03-13 12:10:02,591 INFO sqlalchemy.engine.base.Engine (26,)\n",
      "2021-03-13 12:10:02,593 INFO sqlalchemy.engine.base.Engine SELECT \"Positions\".id AS \"Positions_id\", \"Positions\".upper AS \"Positions_upper\", \"Positions\".middle AS \"Positions_middle\", \"Positions\".lower AS \"Positions_lower\", \"Positions\".x AS \"Positions_x\", \"Positions\".y AS \"Positions_y\" \n",
      "FROM \"Positions\" \n",
      "WHERE \"Positions\".id = ?\n",
      "2021-03-13 12:10:02,594 INFO sqlalchemy.engine.base.Engine (27,)\n",
      "2021-03-13 12:10:02,598 INFO sqlalchemy.engine.base.Engine SELECT \"Positions\".id AS \"Positions_id\", \"Positions\".upper AS \"Positions_upper\", \"Positions\".middle AS \"Positions_middle\", \"Positions\".lower AS \"Positions_lower\", \"Positions\".x AS \"Positions_x\", \"Positions\".y AS \"Positions_y\" \n",
      "FROM \"Positions\" \n",
      "WHERE \"Positions\".id = ?\n",
      "2021-03-13 12:10:02,599 INFO sqlalchemy.engine.base.Engine (28,)\n",
      "2021-03-13 12:10:02,601 INFO sqlalchemy.engine.base.Engine SELECT \"Positions\".id AS \"Positions_id\", \"Positions\".upper AS \"Positions_upper\", \"Positions\".middle AS \"Positions_middle\", \"Positions\".lower AS \"Positions_lower\", \"Positions\".x AS \"Positions_x\", \"Positions\".y AS \"Positions_y\" \n",
      "FROM \"Positions\" \n",
      "WHERE \"Positions\".id = ?\n",
      "2021-03-13 12:10:02,601 INFO sqlalchemy.engine.base.Engine (29,)\n",
      "2021-03-13 12:10:02,605 INFO sqlalchemy.engine.base.Engine SELECT \"Positions\".id AS \"Positions_id\", \"Positions\".upper AS \"Positions_upper\", \"Positions\".middle AS \"Positions_middle\", \"Positions\".lower AS \"Positions_lower\", \"Positions\".x AS \"Positions_x\", \"Positions\".y AS \"Positions_y\" \n",
      "FROM \"Positions\" \n",
      "WHERE \"Positions\".id = ?\n",
      "2021-03-13 12:10:02,606 INFO sqlalchemy.engine.base.Engine (30,)\n",
      "2021-03-13 12:10:02,608 INFO sqlalchemy.engine.base.Engine SELECT \"Positions\".id AS \"Positions_id\", \"Positions\".upper AS \"Positions_upper\", \"Positions\".middle AS \"Positions_middle\", \"Positions\".lower AS \"Positions_lower\", \"Positions\".x AS \"Positions_x\", \"Positions\".y AS \"Positions_y\" \n",
      "FROM \"Positions\" \n",
      "WHERE \"Positions\".id = ?\n",
      "2021-03-13 12:10:02,609 INFO sqlalchemy.engine.base.Engine (31,)\n",
      "2021-03-13 12:10:02,613 INFO sqlalchemy.engine.base.Engine SELECT \"Positions\".id AS \"Positions_id\", \"Positions\".upper AS \"Positions_upper\", \"Positions\".middle AS \"Positions_middle\", \"Positions\".lower AS \"Positions_lower\", \"Positions\".x AS \"Positions_x\", \"Positions\".y AS \"Positions_y\" \n",
      "FROM \"Positions\" \n",
      "WHERE \"Positions\".id = ?\n",
      "2021-03-13 12:10:02,614 INFO sqlalchemy.engine.base.Engine (32,)\n",
      "2021-03-13 12:10:02,616 INFO sqlalchemy.engine.base.Engine SELECT \"Positions\".id AS \"Positions_id\", \"Positions\".upper AS \"Positions_upper\", \"Positions\".middle AS \"Positions_middle\", \"Positions\".lower AS \"Positions_lower\", \"Positions\".x AS \"Positions_x\", \"Positions\".y AS \"Positions_y\" \n",
      "FROM \"Positions\" \n",
      "WHERE \"Positions\".id = ?\n",
      "2021-03-13 12:10:02,617 INFO sqlalchemy.engine.base.Engine (33,)\n",
      "2021-03-13 12:10:02,620 INFO sqlalchemy.engine.base.Engine SELECT \"Positions\".id AS \"Positions_id\", \"Positions\".upper AS \"Positions_upper\", \"Positions\".middle AS \"Positions_middle\", \"Positions\".lower AS \"Positions_lower\", \"Positions\".x AS \"Positions_x\", \"Positions\".y AS \"Positions_y\" \n",
      "FROM \"Positions\" \n",
      "WHERE \"Positions\".id = ?\n",
      "2021-03-13 12:10:02,621 INFO sqlalchemy.engine.base.Engine (34,)\n",
      "2021-03-13 12:10:02,622 INFO sqlalchemy.engine.base.Engine SELECT \"Positions\".id AS \"Positions_id\", \"Positions\".upper AS \"Positions_upper\", \"Positions\".middle AS \"Positions_middle\", \"Positions\".lower AS \"Positions_lower\", \"Positions\".x AS \"Positions_x\", \"Positions\".y AS \"Positions_y\" \n",
      "FROM \"Positions\" \n",
      "WHERE \"Positions\".id = ?\n"
     ]
    },
    {
     "name": "stdout",
     "output_type": "stream",
     "text": [
      "2021-03-13 12:10:02,623 INFO sqlalchemy.engine.base.Engine (35,)\n",
      "2021-03-13 12:10:02,627 INFO sqlalchemy.engine.base.Engine SELECT \"Positions\".id AS \"Positions_id\", \"Positions\".upper AS \"Positions_upper\", \"Positions\".middle AS \"Positions_middle\", \"Positions\".lower AS \"Positions_lower\", \"Positions\".x AS \"Positions_x\", \"Positions\".y AS \"Positions_y\" \n",
      "FROM \"Positions\" \n",
      "WHERE \"Positions\".id = ?\n",
      "2021-03-13 12:10:02,628 INFO sqlalchemy.engine.base.Engine (36,)\n",
      "2021-03-13 12:10:02,632 INFO sqlalchemy.engine.base.Engine SELECT \"Positions\".id AS \"Positions_id\", \"Positions\".upper AS \"Positions_upper\", \"Positions\".middle AS \"Positions_middle\", \"Positions\".lower AS \"Positions_lower\", \"Positions\".x AS \"Positions_x\", \"Positions\".y AS \"Positions_y\" \n",
      "FROM \"Positions\" \n",
      "WHERE \"Positions\".id = ?\n",
      "2021-03-13 12:10:02,633 INFO sqlalchemy.engine.base.Engine (37,)\n",
      "2021-03-13 12:10:02,636 INFO sqlalchemy.engine.base.Engine SELECT \"Positions\".id AS \"Positions_id\", \"Positions\".upper AS \"Positions_upper\", \"Positions\".middle AS \"Positions_middle\", \"Positions\".lower AS \"Positions_lower\", \"Positions\".x AS \"Positions_x\", \"Positions\".y AS \"Positions_y\" \n",
      "FROM \"Positions\" \n",
      "WHERE \"Positions\".id = ?\n",
      "2021-03-13 12:10:02,638 INFO sqlalchemy.engine.base.Engine (38,)\n",
      "2021-03-13 12:10:02,640 INFO sqlalchemy.engine.base.Engine SELECT \"Positions\".id AS \"Positions_id\", \"Positions\".upper AS \"Positions_upper\", \"Positions\".middle AS \"Positions_middle\", \"Positions\".lower AS \"Positions_lower\", \"Positions\".x AS \"Positions_x\", \"Positions\".y AS \"Positions_y\" \n",
      "FROM \"Positions\" \n",
      "WHERE \"Positions\".id = ?\n",
      "2021-03-13 12:10:02,641 INFO sqlalchemy.engine.base.Engine (39,)\n",
      "2021-03-13 12:10:02,645 INFO sqlalchemy.engine.base.Engine SELECT \"Positions\".id AS \"Positions_id\", \"Positions\".upper AS \"Positions_upper\", \"Positions\".middle AS \"Positions_middle\", \"Positions\".lower AS \"Positions_lower\", \"Positions\".x AS \"Positions_x\", \"Positions\".y AS \"Positions_y\" \n",
      "FROM \"Positions\" \n",
      "WHERE \"Positions\".id = ?\n",
      "2021-03-13 12:10:02,646 INFO sqlalchemy.engine.base.Engine (40,)\n",
      "2021-03-13 12:10:02,648 INFO sqlalchemy.engine.base.Engine SELECT \"Positions\".id AS \"Positions_id\", \"Positions\".upper AS \"Positions_upper\", \"Positions\".middle AS \"Positions_middle\", \"Positions\".lower AS \"Positions_lower\", \"Positions\".x AS \"Positions_x\", \"Positions\".y AS \"Positions_y\" \n",
      "FROM \"Positions\" \n",
      "WHERE \"Positions\".id = ?\n",
      "2021-03-13 12:10:02,649 INFO sqlalchemy.engine.base.Engine (41,)\n",
      "2021-03-13 12:10:02,653 INFO sqlalchemy.engine.base.Engine SELECT \"Positions\".id AS \"Positions_id\", \"Positions\".upper AS \"Positions_upper\", \"Positions\".middle AS \"Positions_middle\", \"Positions\".lower AS \"Positions_lower\", \"Positions\".x AS \"Positions_x\", \"Positions\".y AS \"Positions_y\" \n",
      "FROM \"Positions\" \n",
      "WHERE \"Positions\".id = ?\n",
      "2021-03-13 12:10:02,654 INFO sqlalchemy.engine.base.Engine (42,)\n",
      "2021-03-13 12:10:02,655 INFO sqlalchemy.engine.base.Engine SELECT \"Positions\".id AS \"Positions_id\", \"Positions\".upper AS \"Positions_upper\", \"Positions\".middle AS \"Positions_middle\", \"Positions\".lower AS \"Positions_lower\", \"Positions\".x AS \"Positions_x\", \"Positions\".y AS \"Positions_y\" \n",
      "FROM \"Positions\" \n",
      "WHERE \"Positions\".id = ?\n",
      "2021-03-13 12:10:02,656 INFO sqlalchemy.engine.base.Engine (43,)\n",
      "2021-03-13 12:10:02,661 INFO sqlalchemy.engine.base.Engine SELECT \"Positions\".id AS \"Positions_id\", \"Positions\".upper AS \"Positions_upper\", \"Positions\".middle AS \"Positions_middle\", \"Positions\".lower AS \"Positions_lower\", \"Positions\".x AS \"Positions_x\", \"Positions\".y AS \"Positions_y\" \n",
      "FROM \"Positions\" \n",
      "WHERE \"Positions\".id = ?\n",
      "2021-03-13 12:10:02,661 INFO sqlalchemy.engine.base.Engine (44,)\n",
      "2021-03-13 12:10:02,663 INFO sqlalchemy.engine.base.Engine SELECT \"Positions\".id AS \"Positions_id\", \"Positions\".upper AS \"Positions_upper\", \"Positions\".middle AS \"Positions_middle\", \"Positions\".lower AS \"Positions_lower\", \"Positions\".x AS \"Positions_x\", \"Positions\".y AS \"Positions_y\" \n",
      "FROM \"Positions\" \n",
      "WHERE \"Positions\".id = ?\n",
      "2021-03-13 12:10:02,664 INFO sqlalchemy.engine.base.Engine (45,)\n",
      "2021-03-13 12:10:02,668 INFO sqlalchemy.engine.base.Engine SELECT \"Positions\".id AS \"Positions_id\", \"Positions\".upper AS \"Positions_upper\", \"Positions\".middle AS \"Positions_middle\", \"Positions\".lower AS \"Positions_lower\", \"Positions\".x AS \"Positions_x\", \"Positions\".y AS \"Positions_y\" \n",
      "FROM \"Positions\" \n",
      "WHERE \"Positions\".id = ?\n",
      "2021-03-13 12:10:02,669 INFO sqlalchemy.engine.base.Engine (46,)\n",
      "2021-03-13 12:10:02,671 INFO sqlalchemy.engine.base.Engine SELECT \"Positions\".id AS \"Positions_id\", \"Positions\".upper AS \"Positions_upper\", \"Positions\".middle AS \"Positions_middle\", \"Positions\".lower AS \"Positions_lower\", \"Positions\".x AS \"Positions_x\", \"Positions\".y AS \"Positions_y\" \n",
      "FROM \"Positions\" \n",
      "WHERE \"Positions\".id = ?\n",
      "2021-03-13 12:10:02,672 INFO sqlalchemy.engine.base.Engine (47,)\n",
      "2021-03-13 12:10:02,676 INFO sqlalchemy.engine.base.Engine SELECT \"Positions\".id AS \"Positions_id\", \"Positions\".upper AS \"Positions_upper\", \"Positions\".middle AS \"Positions_middle\", \"Positions\".lower AS \"Positions_lower\", \"Positions\".x AS \"Positions_x\", \"Positions\".y AS \"Positions_y\" \n",
      "FROM \"Positions\" \n",
      "WHERE \"Positions\".id = ?\n",
      "2021-03-13 12:10:02,677 INFO sqlalchemy.engine.base.Engine (48,)\n",
      "2021-03-13 12:10:02,679 INFO sqlalchemy.engine.base.Engine SELECT \"Positions\".id AS \"Positions_id\", \"Positions\".upper AS \"Positions_upper\", \"Positions\".middle AS \"Positions_middle\", \"Positions\".lower AS \"Positions_lower\", \"Positions\".x AS \"Positions_x\", \"Positions\".y AS \"Positions_y\" \n",
      "FROM \"Positions\" \n",
      "WHERE \"Positions\".id = ?\n",
      "2021-03-13 12:10:02,680 INFO sqlalchemy.engine.base.Engine (49,)\n",
      "No given legend or incorrect format ! A default legend will be used\n",
      "Borehole geometry created successfully !\n",
      "2021-03-13 12:10:02,755 INFO sqlalchemy.engine.base.Engine INSERT INTO \"Positions\" (id, upper, middle, lower, x, y) VALUES (?, ?, ?, ?, ?, ?)\n",
      "2021-03-13 12:10:02,756 INFO sqlalchemy.engine.base.Engine ((50, 0.0, 0.0, 0.0, 20.0, 120.0), (51, 1.5, 1.5, 1.5, 20.0, 120.0), (52, 1.5, 1.5, 1.5, 20.0, 120.0), (53, 4.0, 4.0, 4.0, 20.0, 120.0), (54, 4.0, 4.0, 4.0, 20.0, 120.0), (55, 6.0, 6.0, 6.0, 20.0, 120.0))\n",
      "2021-03-13 12:10:02,758 INFO sqlalchemy.engine.base.Engine UPDATE \"Boreholes\" SET length=? WHERE \"Boreholes\".id = ?\n",
      "2021-03-13 12:10:02,759 INFO sqlalchemy.engine.base.Engine (135.9, 'F01')\n",
      "2021-03-13 12:10:02,760 INFO sqlalchemy.engine.base.Engine INSERT INTO \"Boreholes\" (id, length, diameter) VALUES (?, ?, ?)\n",
      "2021-03-13 12:10:02,761 INFO sqlalchemy.engine.base.Engine ('F02', 0.0, 0.0)\n",
      "2021-03-13 12:10:02,764 INFO sqlalchemy.engine.base.Engine INSERT INTO \"Intervals\" (id, borehole, interval_number, description, top_id, base_id) VALUES (?, ?, ?, ?, ?, ?)\n",
      "2021-03-13 12:10:02,765 INFO sqlalchemy.engine.base.Engine ((25, 'F02', 0, 'Anhydrite', 50, 51), (26, 'F02', 1, 'Grey vf-f sandstone', 52, 53), (27, 'F02', 2, 'Red siltstone', 54, 55))\n",
      "2021-03-13 12:10:02,767 INFO sqlalchemy.engine.base.Engine COMMIT\n",
      "2021-03-13 12:10:02,772 INFO sqlalchemy.engine.base.Engine BEGIN (implicit)\n",
      "2021-03-13 12:10:02,773 INFO sqlalchemy.engine.base.Engine SELECT \"Boreholes\".id AS \"Boreholes_id\", \"Boreholes\".length AS \"Boreholes_length\", \"Boreholes\".diameter AS \"Boreholes_diameter\" \n",
      "FROM \"Boreholes\"\n",
      "2021-03-13 12:10:02,774 INFO sqlalchemy.engine.base.Engine ()\n",
      "2021-03-13 12:10:02,776 INFO sqlalchemy.engine.base.Engine SELECT \"Intervals\".id AS \"Intervals_id\", \"Intervals\".borehole AS \"Intervals_borehole\", \"Intervals\".interval_number AS \"Intervals_interval_number\", \"Intervals\".description AS \"Intervals_description\", \"Intervals\".top_id AS \"Intervals_top_id\", \"Intervals\".base_id AS \"Intervals_base_id\" \n",
      "FROM \"Intervals\" \n",
      "WHERE ? = \"Intervals\".borehole\n",
      "2021-03-13 12:10:02,777 INFO sqlalchemy.engine.base.Engine ('F02',)\n",
      "2021-03-13 12:10:02,779 INFO sqlalchemy.engine.base.Engine SELECT \"Positions\".id AS \"Positions_id\", \"Positions\".upper AS \"Positions_upper\", \"Positions\".middle AS \"Positions_middle\", \"Positions\".lower AS \"Positions_lower\", \"Positions\".x AS \"Positions_x\", \"Positions\".y AS \"Positions_y\" \n",
      "FROM \"Positions\" \n",
      "WHERE \"Positions\".id = ?\n",
      "2021-03-13 12:10:02,780 INFO sqlalchemy.engine.base.Engine (50,)\n",
      "2021-03-13 12:10:02,782 INFO sqlalchemy.engine.base.Engine SELECT \"Positions\".id AS \"Positions_id\", \"Positions\".upper AS \"Positions_upper\", \"Positions\".middle AS \"Positions_middle\", \"Positions\".lower AS \"Positions_lower\", \"Positions\".x AS \"Positions_x\", \"Positions\".y AS \"Positions_y\" \n",
      "FROM \"Positions\" \n",
      "WHERE \"Positions\".id = ?\n"
     ]
    },
    {
     "name": "stdout",
     "output_type": "stream",
     "text": [
      "2021-03-13 12:10:02,783 INFO sqlalchemy.engine.base.Engine (51,)\n",
      "2021-03-13 12:10:02,787 INFO sqlalchemy.engine.base.Engine SELECT \"Positions\".id AS \"Positions_id\", \"Positions\".upper AS \"Positions_upper\", \"Positions\".middle AS \"Positions_middle\", \"Positions\".lower AS \"Positions_lower\", \"Positions\".x AS \"Positions_x\", \"Positions\".y AS \"Positions_y\" \n",
      "FROM \"Positions\" \n",
      "WHERE \"Positions\".id = ?\n",
      "2021-03-13 12:10:02,788 INFO sqlalchemy.engine.base.Engine (52,)\n",
      "2021-03-13 12:10:02,790 INFO sqlalchemy.engine.base.Engine SELECT \"Positions\".id AS \"Positions_id\", \"Positions\".upper AS \"Positions_upper\", \"Positions\".middle AS \"Positions_middle\", \"Positions\".lower AS \"Positions_lower\", \"Positions\".x AS \"Positions_x\", \"Positions\".y AS \"Positions_y\" \n",
      "FROM \"Positions\" \n",
      "WHERE \"Positions\".id = ?\n",
      "2021-03-13 12:10:02,790 INFO sqlalchemy.engine.base.Engine (53,)\n",
      "2021-03-13 12:10:02,795 INFO sqlalchemy.engine.base.Engine SELECT \"Positions\".id AS \"Positions_id\", \"Positions\".upper AS \"Positions_upper\", \"Positions\".middle AS \"Positions_middle\", \"Positions\".lower AS \"Positions_lower\", \"Positions\".x AS \"Positions_x\", \"Positions\".y AS \"Positions_y\" \n",
      "FROM \"Positions\" \n",
      "WHERE \"Positions\".id = ?\n",
      "2021-03-13 12:10:02,796 INFO sqlalchemy.engine.base.Engine (54,)\n",
      "2021-03-13 12:10:02,798 INFO sqlalchemy.engine.base.Engine SELECT \"Positions\".id AS \"Positions_id\", \"Positions\".upper AS \"Positions_upper\", \"Positions\".middle AS \"Positions_middle\", \"Positions\".lower AS \"Positions_lower\", \"Positions\".x AS \"Positions_x\", \"Positions\".y AS \"Positions_y\" \n",
      "FROM \"Positions\" \n",
      "WHERE \"Positions\".id = ?\n",
      "2021-03-13 12:10:02,799 INFO sqlalchemy.engine.base.Engine (55,)\n",
      "No given legend or incorrect format ! A default legend will be used\n",
      "Borehole geometry created successfully !\n"
     ]
    }
   ],
   "source": [
    "for bh in boreholes:\n",
    "    p.add_borehole(bh)"
   ]
  },
  {
   "cell_type": "code",
   "execution_count": 13,
   "metadata": {},
   "outputs": [
    {
     "name": "stdout",
     "output_type": "stream",
     "text": [
      "2021-03-13 12:10:02,867 INFO sqlalchemy.engine.base.Engine UPDATE \"Boreholes\" SET length=? WHERE \"Boreholes\".id = ?\n",
      "2021-03-13 12:10:02,868 INFO sqlalchemy.engine.base.Engine (6.0, 'F02')\n",
      "2021-03-13 12:10:02,871 INFO sqlalchemy.engine.base.Engine INSERT INTO \"Linkintervalcomponent\" (int_id, comp_id, extra_data) VALUES (?, ?, ?)\n",
      "2021-03-13 12:10:02,872 INFO sqlalchemy.engine.base.Engine ((0, 1, 'test'), (1, 2, 'test'), (2, 1, 'test'), (3, 3, 'test'), (4, 1, 'test'), (5, 2, 'test'), (6, 4, 'test'), (7, 3, 'test')  ... displaying 10 of 27 total bound parameter sets ...  (26, 2, 'test'), (27, 4, 'test'))\n",
      "2021-03-13 12:10:02,874 INFO sqlalchemy.engine.base.Engine COMMIT\n",
      "2021-03-13 12:10:02,878 INFO sqlalchemy.engine.base.Engine BEGIN (implicit)\n",
      "2021-03-13 12:10:02,879 INFO sqlalchemy.engine.base.Engine SELECT \"Boreholes\".id AS \"Boreholes_id\", \"Boreholes\".length AS \"Boreholes_length\", \"Boreholes\".diameter AS \"Boreholes_diameter\" \n",
      "FROM \"Boreholes\"\n",
      "2021-03-13 12:10:02,880 INFO sqlalchemy.engine.base.Engine ()\n"
     ]
    }
   ],
   "source": [
    "p.add_link_between_components_and_intervals(link_dict)"
   ]
  },
  {
   "cell_type": "code",
   "execution_count": 14,
   "metadata": {},
   "outputs": [
    {
     "data": {
      "text/plain": [
       "'F01'"
      ]
     },
     "execution_count": 14,
     "metadata": {},
     "output_type": "execute_result"
    }
   ],
   "source": [
    "p.boreholes[0].id"
   ]
  },
  {
   "cell_type": "code",
   "execution_count": 15,
   "metadata": {},
   "outputs": [
    {
     "name": "stdout",
     "output_type": "stream",
     "text": [
      "2021-03-13 12:10:02,893 INFO sqlalchemy.engine.base.Engine COMMIT\n"
     ]
    }
   ],
   "source": [
    "p.commit()"
   ]
  },
  {
   "cell_type": "code",
   "execution_count": 16,
   "metadata": {
    "scrolled": true
   },
   "outputs": [
    {
     "name": "stdout",
     "output_type": "stream",
     "text": [
      "2021-03-13 12:10:02,901 INFO sqlalchemy.engine.base.Engine BEGIN (implicit)\n",
      "2021-03-13 12:10:02,902 INFO sqlalchemy.engine.base.Engine SELECT \"Boreholes\".id AS \"Boreholes_id\", \"Boreholes\".length AS \"Boreholes_length\", \"Boreholes\".diameter AS \"Boreholes_diameter\" \n",
      "FROM \"Boreholes\" \n",
      "WHERE \"Boreholes\".id = ?\n",
      "2021-03-13 12:10:02,903 INFO sqlalchemy.engine.base.Engine ('F01',)\n",
      "2021-03-13 12:10:02,905 INFO sqlalchemy.engine.base.Engine SELECT \"Intervals\".id AS \"Intervals_id\", \"Intervals\".borehole AS \"Intervals_borehole\", \"Intervals\".interval_number AS \"Intervals_interval_number\", \"Intervals\".description AS \"Intervals_description\", \"Intervals\".top_id AS \"Intervals_top_id\", \"Intervals\".base_id AS \"Intervals_base_id\" \n",
      "FROM \"Intervals\" \n",
      "WHERE ? = \"Intervals\".borehole\n",
      "2021-03-13 12:10:02,906 INFO sqlalchemy.engine.base.Engine ('F01',)\n"
     ]
    },
    {
     "data": {
      "text/plain": [
       "'Anhydrite'"
      ]
     },
     "execution_count": 16,
     "metadata": {},
     "output_type": "execute_result"
    }
   ],
   "source": [
    "p.boreholes[0].intervals[0].description"
   ]
  },
  {
   "cell_type": "code",
   "execution_count": 17,
   "metadata": {},
   "outputs": [
    {
     "data": {
      "text/plain": [
       "<core.orm.IntervalOrm at 0x7f1e0b6e6af0>"
      ]
     },
     "execution_count": 17,
     "metadata": {},
     "output_type": "execute_result"
    }
   ],
   "source": [
    "p.boreholes[0].intervals[0]"
   ]
  },
  {
   "cell_type": "code",
   "execution_count": 18,
   "metadata": {},
   "outputs": [
    {
     "name": "stdout",
     "output_type": "stream",
     "text": [
      "2021-03-13 12:10:02,921 INFO sqlalchemy.engine.base.Engine ROLLBACK\n"
     ]
    }
   ],
   "source": [
    "session.close()"
   ]
  },
  {
   "cell_type": "code",
   "execution_count": 19,
   "metadata": {},
   "outputs": [
    {
     "data": {
      "text/html": [
       "<html>\n",
       "<head>\n",
       "    <meta http-equiv=\"X-UA-Compatible\" content=\"IE=edge\"/>\n",
       "<title>X3D scene</title>\n",
       " <p><script type='text/javascript' src='http://www.x3dom.org/download/x3dom.js'> </script>\n",
       "<link rel='stylesheet' type='text/css' href='http://www.x3dom.org/download/x3dom.css'/>\n",
       "</head>\n",
       "<body>\n",
       "<p>\n",
       " For interaction, click in the view and press \"a\" or \"i\" to see the whole scene, \"d\" to display info, \"space\" for shortcuts. For more info on interaction, please read  <a href=\"https://doc.x3dom.org/tutorials/animationInteraction/navigation/index.html\">the docs</a>  \n",
       "</p>\n",
       "<x3d width='968px' height='600px'>\n",
       " <scene>\n",
       "<viewpoint position=\"152919.656 122576.828 36.522\" orientation=\"0.5537 0.1614 0.81692 1.4642\"></viewpoint>\n",
       " <Inline nameSpaceName=\"Borehole\" mapDEFToID=\"true\" url=\"tmp_files/project_new_project.x3d\" />\n",
       "</scene>\n",
       "</x3d>\n",
       "</body>\n",
       "</html>\n"
      ],
      "text/plain": [
       "<IPython.core.display.HTML object>"
      ]
     },
     "execution_count": 19,
     "metadata": {},
     "output_type": "execute_result"
    }
   ],
   "source": [
    "p.plot3d(x3d=True)"
   ]
  },
  {
   "cell_type": "code",
   "execution_count": 20,
   "metadata": {},
   "outputs": [
    {
     "data": {
      "image/png": "[encoded data removed]",
      "text/plain": [
       "<Figure size 108x1080 with 1 Axes>"
      ]
     },
     "metadata": {
      "needs_background": "light"
     },
     "output_type": "display_data"
    }
   ],
   "source": [
    "p.boreholes_3d[0].plot()"
   ]
  },
  {
   "cell_type": "code",
   "execution_count": null,
   "metadata": {},
   "outputs": [],
   "source": []
  }
 ],
 "metadata": {
  "kernelspec": {
   "display_name": "Python 3",
   "language": "python",
   "name": "python3"
  },
  "language_info": {
   "codemirror_mode": {
    "name": "ipython",
    "version": 3
   },
   "file_extension": ".py",
   "mimetype": "text/x-python",
   "name": "python",
   "nbconvert_exporter": "python",
   "pygments_lexer": "ipython3",
   "version": "3.8.5"
  }
 },
 "nbformat": 4,
 "nbformat_minor": 4
}
