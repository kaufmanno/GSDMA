{
 "cells": [
  {
   "cell_type": "markdown",
   "metadata": {},
   "source": [
    "# Example of using the Borehole3D class"
   ]
  },
  {
   "cell_type": "markdown",
   "metadata": {},
   "source": [
    "## Imports"
   ]
  },
  {
   "cell_type": "code",
   "execution_count": 28,
   "metadata": {},
   "outputs": [],
   "source": [
    "from striplog import Component, Lexicon #, Striplog, Decor, Legend \n",
    "from core.omf import Borehole3D, striplog_legend_to_omf_legend \n",
    "from utils.io import boreholes_from_files,gdf_viewer, df_from_sources, gdf_merger\n",
    "from core.core import Project\n",
    "from core.orm import BoreholeOrm, PositionOrm, Base \n",
    "from utils.lexicon.Lexicon_FR_updated import LEXICON\n",
    "from os import remove\n",
    "from sqlalchemy import create_engine\n",
    "from sqlalchemy.orm import sessionmaker\n",
    "from definitions import ROOT_DIR\n",
    "import pandas as pd\n",
    "import matplotlib.pyplot as plt"
   ]
  },
  {
   "cell_type": "markdown",
   "metadata": {},
   "source": [
    "## Reading of CSV files in a dir"
   ]
  },
  {
   "cell_type": "code",
   "execution_count": 29,
   "metadata": {},
   "outputs": [],
   "source": [
    "search_dir=ROOT_DIR+'/CF_data/synthese/Result_traitem/'\n",
    "#cols=['ID','X','Y','Z','Long_Pz','Diam_Pz_int']\n",
    "cols=None\n",
    "filename='source_Boreholes'"
   ]
  },
  {
   "cell_type": "code",
   "execution_count": 30,
   "metadata": {
    "scrolled": false
   },
   "outputs": [
    {
     "name": "stdout",
     "output_type": "stream",
     "text": [
      "--> base_Memoris3/source_Boreholes.csv: (148 lines)\n",
      "--> profils_sols_donnees_forages/source_Boreholes.csv: (42 lines)\n",
      "\n",
      "The overall dataframe contains 190 lines. 2 files used\n"
     ]
    }
   ],
   "source": [
    "df_all=df_from_sources(search_dir, filename, cols, verbose=False)"
   ]
  },
  {
   "cell_type": "code",
   "execution_count": 31,
   "metadata": {},
   "outputs": [
    {
     "name": "stdout",
     "output_type": "stream",
     "text": [
      "--> base_Memoris3/source_Lithology.csv: (1629 lines)\n",
      "--> profils_sols_donnees_forages/source_Lithology.csv: (54 lines)\n",
      "\n",
      "The overall dataframe contains 1683 lines. 2 files used\n"
     ]
    }
   ],
   "source": [
    "cols=None\n",
    "filename='source_Lithology'\n",
    "\n",
    "df_litho=df_from_sources(search_dir, filename, cols, verbose=False)"
   ]
  },
  {
   "cell_type": "code",
   "execution_count": 32,
   "metadata": {},
   "outputs": [],
   "source": [
    "merge_df, error_df = gdf_merger(df_litho, df_all, col='ID', how='inner')"
   ]
  },
  {
   "cell_type": "code",
   "execution_count": 33,
   "metadata": {},
   "outputs": [
    {
     "name": "stdout",
     "output_type": "stream",
     "text": [
      "Rows : 72, columns : 9\n"
     ]
    },
    {
     "data": {
      "application/vnd.jupyter.widget-view+json": {
       "model_id": "3c3399de6591487fadc1164384ec05e4",
       "version_major": 2,
       "version_minor": 0
      },
      "text/plain": [
       "interactive(children=(IntSlider(value=5, description='rows', max=72, min=5, readout=False), IntSlider(value=9,…"
      ]
     },
     "metadata": {},
     "output_type": "display_data"
    }
   ],
   "source": [
    "merge_df = merge_df[['ID','X','Y','Z','Long_Pz','Diam_Pz_int','Description','Litho_top','Litho_base']]\n",
    "gdf_viewer(merge_df, rows=5)"
   ]
  },
  {
   "cell_type": "markdown",
   "metadata": {},
   "source": [
    "## Data Checking"
   ]
  },
  {
   "cell_type": "code",
   "execution_count": 34,
   "metadata": {},
   "outputs": [
    {
     "name": "stdout",
     "output_type": "stream",
     "text": [
      "No geometry column in the dataframe\n"
     ]
    }
   ],
   "source": [
    "dist_crit=1\n",
    "df=merge_df\n",
    "\n",
    "indexes = []\n",
    "for i in range(0,len(df)-1):\n",
    "    if 'geometry' in df.columns:\n",
    "        d=df.loc[i, 'geometry'].distance(df.loc[i+1, 'geometry'])\n",
    "        if d<dist_crit or d>1e+4:\n",
    "            indexes.append(i)\n",
    "            #print(f\"{df.loc[i,'ID']} <-> {df.loc[i+1,'ID']} : {d:.2} meters\")\n",
    "\n",
    "if 'geometry' in df.columns:\n",
    "    print('\\n',f'{len(indexes)}/{len(df)} elements with probably bad XY')\n",
    "    print(f'\\nIndexes: {indexes}\\n\\nNAN_indexes: {df.query(\"X!=X\").index}')\n",
    "else:\n",
    "    print('No geometry column in the dataframe')"
   ]
  },
  {
   "cell_type": "markdown",
   "metadata": {},
   "source": [
    "## Lithology extraction and test"
   ]
  },
  {
   "cell_type": "code",
   "execution_count": 35,
   "metadata": {},
   "outputs": [],
   "source": [
    "lexicon = Lexicon(LEXICON)"
   ]
  },
  {
   "cell_type": "code",
   "execution_count": 36,
   "metadata": {},
   "outputs": [],
   "source": [
    "desc_col = 'Description'\n",
    "df = merge_df"
   ]
  },
  {
   "cell_type": "code",
   "execution_count": 37,
   "metadata": {
    "scrolled": true
   },
   "outputs": [],
   "source": [
    "comp_list = []\n",
    "for d in df[desc_col]:\n",
    "    comp_list.append(Component.from_text(d, lexicon))\n",
    "df['Component']=comp_list"
   ]
  },
  {
   "cell_type": "code",
   "execution_count": 38,
   "metadata": {},
   "outputs": [],
   "source": [
    "for i in range(len(df)):\n",
    "    d=df.loc[i, desc_col]\n",
    "    Component.from_text(d, lexicon)"
   ]
  },
  {
   "cell_type": "code",
   "execution_count": 39,
   "metadata": {},
   "outputs": [
    {
     "name": "stdout",
     "output_type": "stream",
     "text": [
      "<class 'striplog.component.Component'>\n",
      "\n",
      " idx 65: [F15bM] --> Vers 4 m, limon argileux verdâtre puis brun. Entre 4,6 m et 4,8 m strate graveleuse avec irrisation et pollution nette de l'eau souterraine.\n"
     ]
    },
    {
     "data": {
      "text/html": [
       "<table><tr><td><strong>lithology</strong></td><td>limon</td></tr><tr><td><strong>modifier</strong></td><td>argileux</td></tr><tr><td><strong>colour</strong></td><td>verdâtre</td></tr></table>"
      ],
      "text/plain": [
       "Component({'lithology': 'limon', 'modifier': 'argileux', 'colour': 'verdâtre'})"
      ]
     },
     "execution_count": 39,
     "metadata": {},
     "output_type": "execute_result"
    }
   ],
   "source": [
    "idx=65\n",
    "\n",
    "print(f\"{type(df['Component'][idx])}\\n\\n idx {idx}: [{df['ID'][idx]}] --> \"\n",
    "      f\"{df['Description'][idx]}\")\n",
    "df['Component'][idx] # TODO : need some modifications on colour, grainsize lexicons"
   ]
  },
  {
   "cell_type": "code",
   "execution_count": 40,
   "metadata": {},
   "outputs": [],
   "source": [
    "# problem with this description above : there are two intervals in one description --> \n",
    "# data incoherence (unfortunately)"
   ]
  },
  {
   "cell_type": "markdown",
   "metadata": {},
   "source": [
    "## Create boreholes and components objects from dataframe"
   ]
  },
  {
   "cell_type": "code",
   "execution_count": 41,
   "metadata": {},
   "outputs": [
    {
     "name": "stdout",
     "output_type": "stream",
     "text": [
      "\n",
      "Dataframe 0 processing...\n",
      "================================\n",
      "{'F7': Striplog(9 Intervals, start=0.0, stop=8.2)}\n",
      "{'F8': Striplog(9 Intervals, start=0.0, stop=7.0)}\n",
      "{'F1aM': Striplog(3 Intervals, start=0.0, stop=2.4)}\n",
      "{'F2M': Striplog(3 Intervals, start=0.0, stop=6.0)}\n",
      "{'F3M': Striplog(4 Intervals, start=0.0, stop=3.3)}\n",
      "{'F4M': Striplog(5 Intervals, start=0.0, stop=6.0)}\n",
      "{'F5M': Striplog(4 Intervals, start=0.0, stop=6.0)}\n",
      "{'F6M': Striplog(4 Intervals, start=0.0, stop=4.8)}\n",
      "{'F7aM': Striplog(1 Intervals, start=0.0, stop=0.3)}\n",
      "{'F7bM': Striplog(1 Intervals, start=0.0, stop=0.3)}\n",
      "{'F8M': Striplog(1 Intervals, start=0.0, stop=0.3)}\n",
      "{'F9aM': Striplog(1 Intervals, start=0.0, stop=0.4)}\n",
      "{'F9bM': Striplog(1 Intervals, start=0.0, stop=0.6)}\n",
      "{'F10M': Striplog(2 Intervals, start=0.0, stop=2.0)}\n",
      "{'F11M': Striplog(2 Intervals, start=0.0, stop=3.0)}\n",
      "{'F12M': Striplog(5 Intervals, start=0.0, stop=4.8)}\n",
      "{'F13M': Striplog(3 Intervals, start=0.0, stop=4.8)}\n",
      "{'F14M': Striplog(3 Intervals, start=0.0, stop=2.8)}\n",
      "{'F15aM': Striplog(1 Intervals, start=0.0, stop=0.8)}\n",
      "{\"F15a'M\": Striplog(1 Intervals, start=0.0, stop=0.5)}\n",
      "{'F15bM': Striplog(3 Intervals, start=0.0, stop=6.0)}\n",
      "{'F16M': Striplog(2 Intervals, start=0.0, stop=4.8)}\n",
      "{'F17aM': Striplog(1 Intervals, start=0.0, stop=0.8)}\n",
      "{'F17bM': Striplog(1 Intervals, start=0.0, stop=1.4)}\n",
      "{'F17cM': Striplog(1 Intervals, start=0.0, stop=1.4)}\n",
      "{'F17dM': Striplog(1 Intervals, start=0.0, stop=3.6)}\n",
      "\n",
      "End of the process : 26 unique ID found\n"
     ]
    }
   ],
   "source": [
    "boreholes, components, link_intv_comp= boreholes_from_files([df], verbose=False, diam_field='Diam_Pz_int', \n",
    "                                            length_field='Long_Pz', litho_field='Description',\n",
    "                                           litho_top='Litho_top', litho_base='Litho_base',\n",
    "                                           lexicon=lexicon)#, x=list(df_all.X), y=list(df_all.Y), verbose=False)"
   ]
  },
  {
   "cell_type": "code",
   "execution_count": 42,
   "metadata": {},
   "outputs": [
    {
     "data": {
      "text/plain": [
       "(26, 55)"
      ]
     },
     "execution_count": 42,
     "metadata": {},
     "output_type": "execute_result"
    }
   ],
   "source": [
    "len(boreholes), len(components)"
   ]
  },
  {
   "cell_type": "raw",
   "metadata": {},
   "source": [
    "components"
   ]
  },
  {
   "cell_type": "raw",
   "metadata": {},
   "source": [
    "boreholes"
   ]
  },
  {
   "cell_type": "markdown",
   "metadata": {},
   "source": [
    "### Saving in a database"
   ]
  },
  {
   "cell_type": "code",
   "execution_count": 43,
   "metadata": {},
   "outputs": [],
   "source": [
    "remove('tmp_files/tfe_orm_db.db')"
   ]
  },
  {
   "cell_type": "code",
   "execution_count": 44,
   "metadata": {},
   "outputs": [],
   "source": [
    "engine = create_engine('sqlite:///tmp_files/tfe_orm_db.db', echo=True)"
   ]
  },
  {
   "cell_type": "code",
   "execution_count": 45,
   "metadata": {
    "scrolled": true
   },
   "outputs": [
    {
     "name": "stdout",
     "output_type": "stream",
     "text": [
      "2021-04-04 00:34:47,195 INFO sqlalchemy.engine.base.Engine SELECT CAST('test plain returns' AS VARCHAR(60)) AS anon_1\n",
      "2021-04-04 00:34:47,196 INFO sqlalchemy.engine.base.Engine ()\n",
      "2021-04-04 00:34:47,197 INFO sqlalchemy.engine.base.Engine SELECT CAST('test unicode returns' AS VARCHAR(60)) AS anon_1\n",
      "2021-04-04 00:34:47,198 INFO sqlalchemy.engine.base.Engine ()\n",
      "2021-04-04 00:34:47,199 INFO sqlalchemy.engine.base.Engine PRAGMA main.table_info(\"Boreholes\")\n",
      "2021-04-04 00:34:47,199 INFO sqlalchemy.engine.base.Engine ()\n",
      "2021-04-04 00:34:47,200 INFO sqlalchemy.engine.base.Engine PRAGMA temp.table_info(\"Boreholes\")\n",
      "2021-04-04 00:34:47,201 INFO sqlalchemy.engine.base.Engine ()\n",
      "2021-04-04 00:34:47,202 INFO sqlalchemy.engine.base.Engine PRAGMA main.table_info(\"Positions\")\n",
      "2021-04-04 00:34:47,202 INFO sqlalchemy.engine.base.Engine ()\n",
      "2021-04-04 00:34:47,203 INFO sqlalchemy.engine.base.Engine PRAGMA temp.table_info(\"Positions\")\n",
      "2021-04-04 00:34:47,204 INFO sqlalchemy.engine.base.Engine ()\n",
      "2021-04-04 00:34:47,204 INFO sqlalchemy.engine.base.Engine PRAGMA main.table_info(\"Intervals\")\n",
      "2021-04-04 00:34:47,205 INFO sqlalchemy.engine.base.Engine ()\n",
      "2021-04-04 00:34:47,205 INFO sqlalchemy.engine.base.Engine PRAGMA temp.table_info(\"Intervals\")\n",
      "2021-04-04 00:34:47,205 INFO sqlalchemy.engine.base.Engine ()\n",
      "2021-04-04 00:34:47,206 INFO sqlalchemy.engine.base.Engine PRAGMA main.table_info(\"Components\")\n",
      "2021-04-04 00:34:47,206 INFO sqlalchemy.engine.base.Engine ()\n",
      "2021-04-04 00:34:47,206 INFO sqlalchemy.engine.base.Engine PRAGMA temp.table_info(\"Components\")\n",
      "2021-04-04 00:34:47,207 INFO sqlalchemy.engine.base.Engine ()\n",
      "2021-04-04 00:34:47,207 INFO sqlalchemy.engine.base.Engine PRAGMA main.table_info(\"Linkintervalcomponent\")\n",
      "2021-04-04 00:34:47,208 INFO sqlalchemy.engine.base.Engine ()\n",
      "2021-04-04 00:34:47,208 INFO sqlalchemy.engine.base.Engine PRAGMA temp.table_info(\"Linkintervalcomponent\")\n",
      "2021-04-04 00:34:47,209 INFO sqlalchemy.engine.base.Engine ()\n",
      "2021-04-04 00:34:47,209 INFO sqlalchemy.engine.base.Engine \n",
      "CREATE TABLE \"Boreholes\" (\n",
      "\tid VARCHAR(32) NOT NULL, \n",
      "\tlength FLOAT, \n",
      "\tdiameter FLOAT, \n",
      "\tPRIMARY KEY (id)\n",
      ")\n",
      "\n",
      "\n",
      "2021-04-04 00:34:47,210 INFO sqlalchemy.engine.base.Engine ()\n",
      "2021-04-04 00:34:47,213 INFO sqlalchemy.engine.base.Engine COMMIT\n",
      "2021-04-04 00:34:47,214 INFO sqlalchemy.engine.base.Engine \n",
      "CREATE TABLE \"Positions\" (\n",
      "\tid INTEGER NOT NULL, \n",
      "\tupper FLOAT, \n",
      "\tmiddle FLOAT, \n",
      "\tlower FLOAT, \n",
      "\tx FLOAT, \n",
      "\ty FLOAT, \n",
      "\tPRIMARY KEY (id)\n",
      ")\n",
      "\n",
      "\n",
      "2021-04-04 00:34:47,215 INFO sqlalchemy.engine.base.Engine ()\n",
      "2021-04-04 00:34:47,218 INFO sqlalchemy.engine.base.Engine COMMIT\n",
      "2021-04-04 00:34:47,220 INFO sqlalchemy.engine.base.Engine \n",
      "CREATE TABLE \"Components\" (\n",
      "\tid INTEGER NOT NULL, \n",
      "\tdescription VARCHAR(32), \n",
      "\tPRIMARY KEY (id)\n",
      ")\n",
      "\n",
      "\n",
      "2021-04-04 00:34:47,221 INFO sqlalchemy.engine.base.Engine ()\n",
      "2021-04-04 00:34:47,225 INFO sqlalchemy.engine.base.Engine COMMIT\n",
      "2021-04-04 00:34:47,226 INFO sqlalchemy.engine.base.Engine \n",
      "CREATE TABLE \"Intervals\" (\n",
      "\tid INTEGER NOT NULL, \n",
      "\tborehole VARCHAR(32), \n",
      "\tinterval_number INTEGER, \n",
      "\tdescription VARCHAR(32), \n",
      "\ttop_id INTEGER, \n",
      "\tbase_id INTEGER, \n",
      "\tPRIMARY KEY (id), \n",
      "\tFOREIGN KEY(borehole) REFERENCES \"Boreholes\" (id), \n",
      "\tFOREIGN KEY(top_id) REFERENCES \"Positions\" (id), \n",
      "\tFOREIGN KEY(base_id) REFERENCES \"Positions\" (id)\n",
      ")\n",
      "\n",
      "\n",
      "2021-04-04 00:34:47,226 INFO sqlalchemy.engine.base.Engine ()\n",
      "2021-04-04 00:34:47,229 INFO sqlalchemy.engine.base.Engine COMMIT\n",
      "2021-04-04 00:34:47,230 INFO sqlalchemy.engine.base.Engine \n",
      "CREATE TABLE \"Linkintervalcomponent\" (\n",
      "\tint_id INTEGER NOT NULL, \n",
      "\tcomp_id INTEGER NOT NULL, \n",
      "\textra_data VARCHAR(256), \n",
      "\tPRIMARY KEY (int_id, comp_id), \n",
      "\tFOREIGN KEY(int_id) REFERENCES \"Intervals\" (id), \n",
      "\tFOREIGN KEY(comp_id) REFERENCES \"Components\" (id)\n",
      ")\n",
      "\n",
      "\n",
      "2021-04-04 00:34:47,230 INFO sqlalchemy.engine.base.Engine ()\n",
      "2021-04-04 00:34:47,234 INFO sqlalchemy.engine.base.Engine COMMIT\n"
     ]
    }
   ],
   "source": [
    "Base.metadata.create_all(engine)"
   ]
  },
  {
   "cell_type": "markdown",
   "metadata": {},
   "source": [
    "## Add differents objects into the project"
   ]
  },
  {
   "cell_type": "code",
   "execution_count": 46,
   "metadata": {},
   "outputs": [],
   "source": [
    "Session = sessionmaker(bind=engine)\n",
    "session = Session()"
   ]
  },
  {
   "cell_type": "code",
   "execution_count": 47,
   "metadata": {
    "scrolled": true
   },
   "outputs": [
    {
     "name": "stdout",
     "output_type": "stream",
     "text": [
      "2021-04-04 00:34:47,245 INFO sqlalchemy.engine.base.Engine BEGIN (implicit)\n",
      "2021-04-04 00:34:47,246 INFO sqlalchemy.engine.base.Engine SELECT \"Boreholes\".id AS \"Boreholes_id\", \"Boreholes\".length AS \"Boreholes_length\", \"Boreholes\".diameter AS \"Boreholes_diameter\" \n",
      "FROM \"Boreholes\"\n",
      "2021-04-04 00:34:47,247 INFO sqlalchemy.engine.base.Engine ()\n",
      "2021-04-04 00:34:47,257 INFO sqlalchemy.engine.base.Engine INSERT INTO \"Components\" (id, description) VALUES (?, ?)\n",
      "2021-04-04 00:34:47,258 INFO sqlalchemy.engine.base.Engine ((0, 'Remblai, scories'), (1, 'Limon, bariolé, vert, hap'), (2, 'Remblai, scories, verdâtre, huile'), (3, 'Remblai, scories, hap'), (4, 'Remblai, scories, verdâtre, hap'), (5, 'Limon, scories, verdâtre'), (6, 'Limon, gris, traces, hap'), (7, 'Sable, jaune')  ... displaying 10 of 55 total bound parameter sets ...  (53, 'Remblais, gris foncé, centimétrique'), (54, 'Remblais, hétérogènes, sableuse, sableuse, centimétrique'))\n",
      "2021-04-04 00:34:47,260 INFO sqlalchemy.engine.base.Engine COMMIT\n",
      "2021-04-04 00:34:47,262 INFO sqlalchemy.engine.base.Engine BEGIN (implicit)\n",
      "2021-04-04 00:34:47,263 INFO sqlalchemy.engine.base.Engine SELECT \"Boreholes\".id AS \"Boreholes_id\", \"Boreholes\".length AS \"Boreholes_length\", \"Boreholes\".diameter AS \"Boreholes_diameter\" \n",
      "FROM \"Boreholes\"\n",
      "2021-04-04 00:34:47,264 INFO sqlalchemy.engine.base.Engine ()\n"
     ]
    }
   ],
   "source": [
    "p = Project(session)\n",
    "p.add_components(components)"
   ]
  },
  {
   "cell_type": "code",
   "execution_count": 48,
   "metadata": {},
   "outputs": [
    {
     "name": "stdout",
     "output_type": "stream",
     "text": [
      "2021-04-04 00:34:47,269 INFO sqlalchemy.engine.base.Engine INSERT INTO \"Boreholes\" (id, length, diameter) VALUES (?, ?, ?)\n",
      "2021-04-04 00:34:47,270 INFO sqlalchemy.engine.base.Engine ('F7', 3.366, 0.041)\n",
      "2021-04-04 00:34:47,272 INFO sqlalchemy.engine.base.Engine INSERT INTO \"Positions\" (id, upper, middle, lower, x, y) VALUES (?, ?, ?, ?, ?, ?)\n",
      "2021-04-04 00:34:47,273 INFO sqlalchemy.engine.base.Engine ((0, 0.0, 0.0, 0.0, 153049.921, 122636.217), (1, 0.4, 0.4, 0.4, 153049.921, 122636.217), (2, 0.4, 0.4, 0.4, 153049.921, 122636.217), (3, 1.0, 1.0, 1.0, 153049.921, 122636.217), (4, 1.0, 1.0, 1.0, 153049.921, 122636.217), (5, 2.2, 2.2, 2.2, 153049.921, 122636.217), (6, 2.2, 2.2, 2.2, 153049.921, 122636.217), (7, 3.4, 3.4, 3.4, 153049.921, 122636.217)  ... displaying 10 of 18 total bound parameter sets ...  (16, 7.7, 7.7, 7.7, 153049.921, 122636.217), (17, 8.2, 8.2, 8.2, 153049.921, 122636.217))\n",
      "2021-04-04 00:34:47,275 INFO sqlalchemy.engine.base.Engine INSERT INTO \"Intervals\" (id, borehole, interval_number, description, top_id, base_id) VALUES (?, ?, ?, ?, ?, ?)\n",
      "2021-04-04 00:34:47,275 INFO sqlalchemy.engine.base.Engine ((0, 'F7', 0, 'Mélange de sable jaune et de cendrées goudronneuses; odeur moyenne de goudron', 0, 1), (1, 'F7', 1, 'Remblai de cendrées, scories et laitiers; forte odeur de goudron', 2, 3), (2, 'F7', 2, \"Remblai de cendrées et scories; présence d'un produit gras verdâtre de type huile; forte odeur de HAP\", 4, 5), (3, 'F7', 3, 'Remblai de cendrées, scories et laitier; forte odeur de HAP et moceaux de goudron durci', 6, 7), (4, 'F7', 4, 'Remblai de cendrées et scories vitrifiées très gras verdâtre; forte odeur de HAP', 8, 9), (5, 'F7', 5, 'Remblai de cendrées et scories vitrifiées; présence de goudron pur coulant', 10, 11), (6, 'F7', 6, 'Mélange de limon lourd verdâtre, scories, fines de charbon et goudron', 12, 13), (7, 'F7', 7, 'Limon très lourd vert de gris sec, devenant bariolé; très légère odeur de HAP', 14, 15), (8, 'F7', 8, 'Limon gris humide avec traces de tourbe et très légère odeur de HAP', 16, 17))\n",
      "2021-04-04 00:34:47,277 INFO sqlalchemy.engine.base.Engine COMMIT\n",
      "2021-04-04 00:34:47,280 INFO sqlalchemy.engine.base.Engine BEGIN (implicit)\n",
      "2021-04-04 00:34:47,281 INFO sqlalchemy.engine.base.Engine SELECT \"Boreholes\".id AS \"Boreholes_id\", \"Boreholes\".length AS \"Boreholes_length\", \"Boreholes\".diameter AS \"Boreholes_diameter\" \n",
      "FROM \"Boreholes\"\n",
      "2021-04-04 00:34:47,282 INFO sqlalchemy.engine.base.Engine ()\n",
      "2021-04-04 00:34:47,285 INFO sqlalchemy.engine.base.Engine SELECT \"Intervals\".id AS \"Intervals_id\", \"Intervals\".borehole AS \"Intervals_borehole\", \"Intervals\".interval_number AS \"Intervals_interval_number\", \"Intervals\".description AS \"Intervals_description\", \"Intervals\".top_id AS \"Intervals_top_id\", \"Intervals\".base_id AS \"Intervals_base_id\" \n",
      "FROM \"Intervals\" \n",
      "WHERE ? = \"Intervals\".borehole\n",
      "2021-04-04 00:34:47,285 INFO sqlalchemy.engine.base.Engine ('F7',)\n",
      "2021-04-04 00:34:47,288 INFO sqlalchemy.engine.base.Engine SELECT \"Positions\".id AS \"Positions_id\", \"Positions\".upper AS \"Positions_upper\", \"Positions\".middle AS \"Positions_middle\", \"Positions\".lower AS \"Positions_lower\", \"Positions\".x AS \"Positions_x\", \"Positions\".y AS \"Positions_y\" \n",
      "FROM \"Positions\" \n",
      "WHERE \"Positions\".id = ?\n",
      "2021-04-04 00:34:47,289 INFO sqlalchemy.engine.base.Engine (0,)\n",
      "2021-04-04 00:34:47,290 INFO sqlalchemy.engine.base.Engine SELECT \"Positions\".id AS \"Positions_id\", \"Positions\".upper AS \"Positions_upper\", \"Positions\".middle AS \"Positions_middle\", \"Positions\".lower AS \"Positions_lower\", \"Positions\".x AS \"Positions_x\", \"Positions\".y AS \"Positions_y\" \n",
      "FROM \"Positions\" \n",
      "WHERE \"Positions\".id = ?\n",
      "2021-04-04 00:34:47,290 INFO sqlalchemy.engine.base.Engine (1,)\n",
      "2021-04-04 00:34:47,292 INFO sqlalchemy.engine.base.Engine SELECT \"Positions\".id AS \"Positions_id\", \"Positions\".upper AS \"Positions_upper\", \"Positions\".middle AS \"Positions_middle\", \"Positions\".lower AS \"Positions_lower\", \"Positions\".x AS \"Positions_x\", \"Positions\".y AS \"Positions_y\" \n",
      "FROM \"Positions\" \n",
      "WHERE \"Positions\".id = ?\n",
      "2021-04-04 00:34:47,292 INFO sqlalchemy.engine.base.Engine (2,)\n",
      "2021-04-04 00:34:47,293 INFO sqlalchemy.engine.base.Engine SELECT \"Positions\".id AS \"Positions_id\", \"Positions\".upper AS \"Positions_upper\", \"Positions\".middle AS \"Positions_middle\", \"Positions\".lower AS \"Positions_lower\", \"Positions\".x AS \"Positions_x\", \"Positions\".y AS \"Positions_y\" \n",
      "FROM \"Positions\" \n",
      "WHERE \"Positions\".id = ?\n",
      "2021-04-04 00:34:47,293 INFO sqlalchemy.engine.base.Engine (3,)\n",
      "2021-04-04 00:34:47,294 INFO sqlalchemy.engine.base.Engine SELECT \"Positions\".id AS \"Positions_id\", \"Positions\".upper AS \"Positions_upper\", \"Positions\".middle AS \"Positions_middle\", \"Positions\".lower AS \"Positions_lower\", \"Positions\".x AS \"Positions_x\", \"Positions\".y AS \"Positions_y\" \n",
      "FROM \"Positions\" \n",
      "WHERE \"Positions\".id = ?\n",
      "2021-04-04 00:34:47,294 INFO sqlalchemy.engine.base.Engine (4,)\n",
      "2021-04-04 00:34:47,295 INFO sqlalchemy.engine.base.Engine SELECT \"Positions\".id AS \"Positions_id\", \"Positions\".upper AS \"Positions_upper\", \"Positions\".middle AS \"Positions_middle\", \"Positions\".lower AS \"Positions_lower\", \"Positions\".x AS \"Positions_x\", \"Positions\".y AS \"Positions_y\" \n",
      "FROM \"Positions\" \n",
      "WHERE \"Positions\".id = ?\n",
      "2021-04-04 00:34:47,296 INFO sqlalchemy.engine.base.Engine (5,)\n",
      "2021-04-04 00:34:47,296 INFO sqlalchemy.engine.base.Engine SELECT \"Positions\".id AS \"Positions_id\", \"Positions\".upper AS \"Positions_upper\", \"Positions\".middle AS \"Positions_middle\", \"Positions\".lower AS \"Positions_lower\", \"Positions\".x AS \"Positions_x\", \"Positions\".y AS \"Positions_y\" \n",
      "FROM \"Positions\" \n",
      "WHERE \"Positions\".id = ?\n",
      "2021-04-04 00:34:47,297 INFO sqlalchemy.engine.base.Engine (6,)\n",
      "2021-04-04 00:34:47,297 INFO sqlalchemy.engine.base.Engine SELECT \"Positions\".id AS \"Positions_id\", \"Positions\".upper AS \"Positions_upper\", \"Positions\".middle AS \"Positions_middle\", \"Positions\".lower AS \"Positions_lower\", \"Positions\".x AS \"Positions_x\", \"Positions\".y AS \"Positions_y\" \n",
      "FROM \"Positions\" \n",
      "WHERE \"Positions\".id = ?\n",
      "2021-04-04 00:34:47,298 INFO sqlalchemy.engine.base.Engine (7,)\n",
      "2021-04-04 00:34:47,299 INFO sqlalchemy.engine.base.Engine SELECT \"Positions\".id AS \"Positions_id\", \"Positions\".upper AS \"Positions_upper\", \"Positions\".middle AS \"Positions_middle\", \"Positions\".lower AS \"Positions_lower\", \"Positions\".x AS \"Positions_x\", \"Positions\".y AS \"Positions_y\" \n",
      "FROM \"Positions\" \n",
      "WHERE \"Positions\".id = ?\n",
      "2021-04-04 00:34:47,299 INFO sqlalchemy.engine.base.Engine (8,)\n",
      "2021-04-04 00:34:47,300 INFO sqlalchemy.engine.base.Engine SELECT \"Positions\".id AS \"Positions_id\", \"Positions\".upper AS \"Positions_upper\", \"Positions\".middle AS \"Positions_middle\", \"Positions\".lower AS \"Positions_lower\", \"Positions\".x AS \"Positions_x\", \"Positions\".y AS \"Positions_y\" \n",
      "FROM \"Positions\" \n",
      "WHERE \"Positions\".id = ?\n",
      "2021-04-04 00:34:47,300 INFO sqlalchemy.engine.base.Engine (9,)\n",
      "2021-04-04 00:34:47,301 INFO sqlalchemy.engine.base.Engine SELECT \"Positions\".id AS \"Positions_id\", \"Positions\".upper AS \"Positions_upper\", \"Positions\".middle AS \"Positions_middle\", \"Positions\".lower AS \"Positions_lower\", \"Positions\".x AS \"Positions_x\", \"Positions\".y AS \"Positions_y\" \n",
      "FROM \"Positions\" \n",
      "WHERE \"Positions\".id = ?\n",
      "2021-04-04 00:34:47,301 INFO sqlalchemy.engine.base.Engine (10,)\n",
      "2021-04-04 00:34:47,302 INFO sqlalchemy.engine.base.Engine SELECT \"Positions\".id AS \"Positions_id\", \"Positions\".upper AS \"Positions_upper\", \"Positions\".middle AS \"Positions_middle\", \"Positions\".lower AS \"Positions_lower\", \"Positions\".x AS \"Positions_x\", \"Positions\".y AS \"Positions_y\" \n",
      "FROM \"Positions\" \n",
      "WHERE \"Positions\".id = ?\n",
      "2021-04-04 00:34:47,302 INFO sqlalchemy.engine.base.Engine (11,)\n",
      "2021-04-04 00:34:47,303 INFO sqlalchemy.engine.base.Engine SELECT \"Positions\".id AS \"Positions_id\", \"Positions\".upper AS \"Positions_upper\", \"Positions\".middle AS \"Positions_middle\", \"Positions\".lower AS \"Positions_lower\", \"Positions\".x AS \"Positions_x\", \"Positions\".y AS \"Positions_y\" \n",
      "FROM \"Positions\" \n",
      "WHERE \"Positions\".id = ?\n",
      "2021-04-04 00:34:47,304 INFO sqlalchemy.engine.base.Engine (12,)\n",
      "2021-04-04 00:34:47,305 INFO sqlalchemy.engine.base.Engine SELECT \"Positions\".id AS \"Positions_id\", \"Positions\".upper AS \"Positions_upper\", \"Positions\".middle AS \"Positions_middle\", \"Positions\".lower AS \"Positions_lower\", \"Positions\".x AS \"Positions_x\", \"Positions\".y AS \"Positions_y\" \n",
      "FROM \"Positions\" \n",
      "WHERE \"Positions\".id = ?\n"
     ]
    },
    {
     "name": "stdout",
     "output_type": "stream",
     "text": [
      "2021-04-04 00:34:47,305 INFO sqlalchemy.engine.base.Engine (13,)\n",
      "2021-04-04 00:34:47,306 INFO sqlalchemy.engine.base.Engine SELECT \"Positions\".id AS \"Positions_id\", \"Positions\".upper AS \"Positions_upper\", \"Positions\".middle AS \"Positions_middle\", \"Positions\".lower AS \"Positions_lower\", \"Positions\".x AS \"Positions_x\", \"Positions\".y AS \"Positions_y\" \n",
      "FROM \"Positions\" \n",
      "WHERE \"Positions\".id = ?\n",
      "2021-04-04 00:34:47,307 INFO sqlalchemy.engine.base.Engine (14,)\n",
      "2021-04-04 00:34:47,308 INFO sqlalchemy.engine.base.Engine SELECT \"Positions\".id AS \"Positions_id\", \"Positions\".upper AS \"Positions_upper\", \"Positions\".middle AS \"Positions_middle\", \"Positions\".lower AS \"Positions_lower\", \"Positions\".x AS \"Positions_x\", \"Positions\".y AS \"Positions_y\" \n",
      "FROM \"Positions\" \n",
      "WHERE \"Positions\".id = ?\n",
      "2021-04-04 00:34:47,309 INFO sqlalchemy.engine.base.Engine (15,)\n",
      "2021-04-04 00:34:47,310 INFO sqlalchemy.engine.base.Engine SELECT \"Positions\".id AS \"Positions_id\", \"Positions\".upper AS \"Positions_upper\", \"Positions\".middle AS \"Positions_middle\", \"Positions\".lower AS \"Positions_lower\", \"Positions\".x AS \"Positions_x\", \"Positions\".y AS \"Positions_y\" \n",
      "FROM \"Positions\" \n",
      "WHERE \"Positions\".id = ?\n",
      "2021-04-04 00:34:47,311 INFO sqlalchemy.engine.base.Engine (16,)\n",
      "2021-04-04 00:34:47,312 INFO sqlalchemy.engine.base.Engine SELECT \"Positions\".id AS \"Positions_id\", \"Positions\".upper AS \"Positions_upper\", \"Positions\".middle AS \"Positions_middle\", \"Positions\".lower AS \"Positions_lower\", \"Positions\".x AS \"Positions_x\", \"Positions\".y AS \"Positions_y\" \n",
      "FROM \"Positions\" \n",
      "WHERE \"Positions\".id = ?\n",
      "2021-04-04 00:34:47,312 INFO sqlalchemy.engine.base.Engine (17,)\n",
      "No given legend or incorrect format ! A default legend will be used\n",
      "Borehole geometry created successfully !\n",
      "2021-04-04 00:34:47,344 INFO sqlalchemy.engine.base.Engine UPDATE \"Boreholes\" SET length=? WHERE \"Boreholes\".id = ?\n",
      "2021-04-04 00:34:47,345 INFO sqlalchemy.engine.base.Engine (8.2, 'F7')\n",
      "2021-04-04 00:34:47,346 INFO sqlalchemy.engine.base.Engine INSERT INTO \"Boreholes\" (id, length, diameter) VALUES (?, ?, ?)\n",
      "2021-04-04 00:34:47,346 INFO sqlalchemy.engine.base.Engine ('F8', 3.366, 0.041)\n",
      "2021-04-04 00:34:47,347 INFO sqlalchemy.engine.base.Engine INSERT INTO \"Positions\" (id, upper, middle, lower, x, y) VALUES (?, ?, ?, ?, ?, ?)\n",
      "2021-04-04 00:34:47,348 INFO sqlalchemy.engine.base.Engine ((18, 0.0, 0.0, 0.0, 153049.921, 122636.217), (19, 0.5, 0.5, 0.5, 153049.921, 122636.217), (20, 0.5, 0.5, 0.5, 153049.921, 122636.217), (21, 1.6, 1.6, 1.6, 153049.921, 122636.217), (22, 1.6, 1.6, 1.6, 153049.921, 122636.217), (23, 2.4, 2.4, 2.4, 153049.921, 122636.217), (24, 2.4, 2.4, 2.4, 153049.921, 122636.217), (25, 4.1, 4.1, 4.1, 153049.921, 122636.217)  ... displaying 10 of 18 total bound parameter sets ...  (34, 6.7, 6.7, 6.7, 153049.921, 122636.217), (35, 7.0, 7.0, 7.0, 153049.921, 122636.217))\n",
      "2021-04-04 00:34:47,351 INFO sqlalchemy.engine.base.Engine INSERT INTO \"Intervals\" (id, borehole, interval_number, description, top_id, base_id) VALUES (?, ?, ?, ?, ?, ?)\n",
      "2021-04-04 00:34:47,351 INFO sqlalchemy.engine.base.Engine ((9, 'F8', 0, 'Remblai noirs de laitiers et goudron durci; forte odeur de goudron', 18, 19), (10, 'F8', 1, 'Remblai humide brun à noir limoneux avec cailloux, scories et laitier; odeur moyenne de HAP', 20, 21), (11, 'F8', 2, \"Remblai de cendrées, scories et limon; présence d'eau; très légère odeur de HAP\", 22, 23), (12, 'F8', 3, \"Remblai de cendrées, scories et limon vert; présence d'eau; odeur moyenne de HAP\", 24, 25), (13, 'F8', 4, \"Remblai de cendrées et scories vitrifiées; présence d'eau et de goudron\", 26, 27), (14, 'F8', 5, \"Mélange d'argile, de cendrées, de scories et de goudron; présence d'eau\", 28, 29), (15, 'F8', 6, \"Limon verdâtre très lourd et compact, très légère odeur de HAP; pas d'eau\", 30, 31), (16, 'F8', 7, \"Limon verdâtre très lourd et compact, très légère odeur de HAP; pas d'eau (présence de retombées)\", 32, 33), (17, 'F8', 8, 'Limon lourd bariolé humide; très légère odeur de HAP', 34, 35))\n",
      "2021-04-04 00:34:47,352 INFO sqlalchemy.engine.base.Engine COMMIT\n",
      "2021-04-04 00:34:47,356 INFO sqlalchemy.engine.base.Engine BEGIN (implicit)\n",
      "2021-04-04 00:34:47,357 INFO sqlalchemy.engine.base.Engine SELECT \"Boreholes\".id AS \"Boreholes_id\", \"Boreholes\".length AS \"Boreholes_length\", \"Boreholes\".diameter AS \"Boreholes_diameter\" \n",
      "FROM \"Boreholes\"\n",
      "2021-04-04 00:34:47,357 INFO sqlalchemy.engine.base.Engine ()\n",
      "2021-04-04 00:34:47,358 INFO sqlalchemy.engine.base.Engine SELECT \"Intervals\".id AS \"Intervals_id\", \"Intervals\".borehole AS \"Intervals_borehole\", \"Intervals\".interval_number AS \"Intervals_interval_number\", \"Intervals\".description AS \"Intervals_description\", \"Intervals\".top_id AS \"Intervals_top_id\", \"Intervals\".base_id AS \"Intervals_base_id\" \n",
      "FROM \"Intervals\" \n",
      "WHERE ? = \"Intervals\".borehole\n",
      "2021-04-04 00:34:47,359 INFO sqlalchemy.engine.base.Engine ('F8',)\n",
      "2021-04-04 00:34:47,361 INFO sqlalchemy.engine.base.Engine SELECT \"Positions\".id AS \"Positions_id\", \"Positions\".upper AS \"Positions_upper\", \"Positions\".middle AS \"Positions_middle\", \"Positions\".lower AS \"Positions_lower\", \"Positions\".x AS \"Positions_x\", \"Positions\".y AS \"Positions_y\" \n",
      "FROM \"Positions\" \n",
      "WHERE \"Positions\".id = ?\n",
      "2021-04-04 00:34:47,361 INFO sqlalchemy.engine.base.Engine (18,)\n",
      "2021-04-04 00:34:47,363 INFO sqlalchemy.engine.base.Engine SELECT \"Positions\".id AS \"Positions_id\", \"Positions\".upper AS \"Positions_upper\", \"Positions\".middle AS \"Positions_middle\", \"Positions\".lower AS \"Positions_lower\", \"Positions\".x AS \"Positions_x\", \"Positions\".y AS \"Positions_y\" \n",
      "FROM \"Positions\" \n",
      "WHERE \"Positions\".id = ?\n",
      "2021-04-04 00:34:47,364 INFO sqlalchemy.engine.base.Engine (19,)\n",
      "2021-04-04 00:34:47,366 INFO sqlalchemy.engine.base.Engine SELECT \"Positions\".id AS \"Positions_id\", \"Positions\".upper AS \"Positions_upper\", \"Positions\".middle AS \"Positions_middle\", \"Positions\".lower AS \"Positions_lower\", \"Positions\".x AS \"Positions_x\", \"Positions\".y AS \"Positions_y\" \n",
      "FROM \"Positions\" \n",
      "WHERE \"Positions\".id = ?\n",
      "2021-04-04 00:34:47,366 INFO sqlalchemy.engine.base.Engine (20,)\n",
      "2021-04-04 00:34:47,368 INFO sqlalchemy.engine.base.Engine SELECT \"Positions\".id AS \"Positions_id\", \"Positions\".upper AS \"Positions_upper\", \"Positions\".middle AS \"Positions_middle\", \"Positions\".lower AS \"Positions_lower\", \"Positions\".x AS \"Positions_x\", \"Positions\".y AS \"Positions_y\" \n",
      "FROM \"Positions\" \n",
      "WHERE \"Positions\".id = ?\n",
      "2021-04-04 00:34:47,368 INFO sqlalchemy.engine.base.Engine (21,)\n",
      "2021-04-04 00:34:47,369 INFO sqlalchemy.engine.base.Engine SELECT \"Positions\".id AS \"Positions_id\", \"Positions\".upper AS \"Positions_upper\", \"Positions\".middle AS \"Positions_middle\", \"Positions\".lower AS \"Positions_lower\", \"Positions\".x AS \"Positions_x\", \"Positions\".y AS \"Positions_y\" \n",
      "FROM \"Positions\" \n",
      "WHERE \"Positions\".id = ?\n",
      "2021-04-04 00:34:47,370 INFO sqlalchemy.engine.base.Engine (22,)\n",
      "2021-04-04 00:34:47,371 INFO sqlalchemy.engine.base.Engine SELECT \"Positions\".id AS \"Positions_id\", \"Positions\".upper AS \"Positions_upper\", \"Positions\".middle AS \"Positions_middle\", \"Positions\".lower AS \"Positions_lower\", \"Positions\".x AS \"Positions_x\", \"Positions\".y AS \"Positions_y\" \n",
      "FROM \"Positions\" \n",
      "WHERE \"Positions\".id = ?\n",
      "2021-04-04 00:34:47,371 INFO sqlalchemy.engine.base.Engine (23,)\n",
      "2021-04-04 00:34:47,373 INFO sqlalchemy.engine.base.Engine SELECT \"Positions\".id AS \"Positions_id\", \"Positions\".upper AS \"Positions_upper\", \"Positions\".middle AS \"Positions_middle\", \"Positions\".lower AS \"Positions_lower\", \"Positions\".x AS \"Positions_x\", \"Positions\".y AS \"Positions_y\" \n",
      "FROM \"Positions\" \n",
      "WHERE \"Positions\".id = ?\n",
      "2021-04-04 00:34:47,373 INFO sqlalchemy.engine.base.Engine (24,)\n",
      "2021-04-04 00:34:47,374 INFO sqlalchemy.engine.base.Engine SELECT \"Positions\".id AS \"Positions_id\", \"Positions\".upper AS \"Positions_upper\", \"Positions\".middle AS \"Positions_middle\", \"Positions\".lower AS \"Positions_lower\", \"Positions\".x AS \"Positions_x\", \"Positions\".y AS \"Positions_y\" \n",
      "FROM \"Positions\" \n",
      "WHERE \"Positions\".id = ?\n",
      "2021-04-04 00:34:47,374 INFO sqlalchemy.engine.base.Engine (25,)\n",
      "2021-04-04 00:34:47,375 INFO sqlalchemy.engine.base.Engine SELECT \"Positions\".id AS \"Positions_id\", \"Positions\".upper AS \"Positions_upper\", \"Positions\".middle AS \"Positions_middle\", \"Positions\".lower AS \"Positions_lower\", \"Positions\".x AS \"Positions_x\", \"Positions\".y AS \"Positions_y\" \n",
      "FROM \"Positions\" \n",
      "WHERE \"Positions\".id = ?\n"
     ]
    },
    {
     "name": "stdout",
     "output_type": "stream",
     "text": [
      "2021-04-04 00:34:47,376 INFO sqlalchemy.engine.base.Engine (26,)\n",
      "2021-04-04 00:34:47,377 INFO sqlalchemy.engine.base.Engine SELECT \"Positions\".id AS \"Positions_id\", \"Positions\".upper AS \"Positions_upper\", \"Positions\".middle AS \"Positions_middle\", \"Positions\".lower AS \"Positions_lower\", \"Positions\".x AS \"Positions_x\", \"Positions\".y AS \"Positions_y\" \n",
      "FROM \"Positions\" \n",
      "WHERE \"Positions\".id = ?\n",
      "2021-04-04 00:34:47,377 INFO sqlalchemy.engine.base.Engine (27,)\n",
      "2021-04-04 00:34:47,379 INFO sqlalchemy.engine.base.Engine SELECT \"Positions\".id AS \"Positions_id\", \"Positions\".upper AS \"Positions_upper\", \"Positions\".middle AS \"Positions_middle\", \"Positions\".lower AS \"Positions_lower\", \"Positions\".x AS \"Positions_x\", \"Positions\".y AS \"Positions_y\" \n",
      "FROM \"Positions\" \n",
      "WHERE \"Positions\".id = ?\n",
      "2021-04-04 00:34:47,380 INFO sqlalchemy.engine.base.Engine (28,)\n",
      "2021-04-04 00:34:47,381 INFO sqlalchemy.engine.base.Engine SELECT \"Positions\".id AS \"Positions_id\", \"Positions\".upper AS \"Positions_upper\", \"Positions\".middle AS \"Positions_middle\", \"Positions\".lower AS \"Positions_lower\", \"Positions\".x AS \"Positions_x\", \"Positions\".y AS \"Positions_y\" \n",
      "FROM \"Positions\" \n",
      "WHERE \"Positions\".id = ?\n",
      "2021-04-04 00:34:47,381 INFO sqlalchemy.engine.base.Engine (29,)\n",
      "2021-04-04 00:34:47,382 INFO sqlalchemy.engine.base.Engine SELECT \"Positions\".id AS \"Positions_id\", \"Positions\".upper AS \"Positions_upper\", \"Positions\".middle AS \"Positions_middle\", \"Positions\".lower AS \"Positions_lower\", \"Positions\".x AS \"Positions_x\", \"Positions\".y AS \"Positions_y\" \n",
      "FROM \"Positions\" \n",
      "WHERE \"Positions\".id = ?\n",
      "2021-04-04 00:34:47,383 INFO sqlalchemy.engine.base.Engine (30,)\n",
      "2021-04-04 00:34:47,384 INFO sqlalchemy.engine.base.Engine SELECT \"Positions\".id AS \"Positions_id\", \"Positions\".upper AS \"Positions_upper\", \"Positions\".middle AS \"Positions_middle\", \"Positions\".lower AS \"Positions_lower\", \"Positions\".x AS \"Positions_x\", \"Positions\".y AS \"Positions_y\" \n",
      "FROM \"Positions\" \n",
      "WHERE \"Positions\".id = ?\n",
      "2021-04-04 00:34:47,384 INFO sqlalchemy.engine.base.Engine (31,)\n",
      "2021-04-04 00:34:47,385 INFO sqlalchemy.engine.base.Engine SELECT \"Positions\".id AS \"Positions_id\", \"Positions\".upper AS \"Positions_upper\", \"Positions\".middle AS \"Positions_middle\", \"Positions\".lower AS \"Positions_lower\", \"Positions\".x AS \"Positions_x\", \"Positions\".y AS \"Positions_y\" \n",
      "FROM \"Positions\" \n",
      "WHERE \"Positions\".id = ?\n",
      "2021-04-04 00:34:47,385 INFO sqlalchemy.engine.base.Engine (32,)\n",
      "2021-04-04 00:34:47,386 INFO sqlalchemy.engine.base.Engine SELECT \"Positions\".id AS \"Positions_id\", \"Positions\".upper AS \"Positions_upper\", \"Positions\".middle AS \"Positions_middle\", \"Positions\".lower AS \"Positions_lower\", \"Positions\".x AS \"Positions_x\", \"Positions\".y AS \"Positions_y\" \n",
      "FROM \"Positions\" \n",
      "WHERE \"Positions\".id = ?\n",
      "2021-04-04 00:34:47,386 INFO sqlalchemy.engine.base.Engine (33,)\n",
      "2021-04-04 00:34:47,388 INFO sqlalchemy.engine.base.Engine SELECT \"Positions\".id AS \"Positions_id\", \"Positions\".upper AS \"Positions_upper\", \"Positions\".middle AS \"Positions_middle\", \"Positions\".lower AS \"Positions_lower\", \"Positions\".x AS \"Positions_x\", \"Positions\".y AS \"Positions_y\" \n",
      "FROM \"Positions\" \n",
      "WHERE \"Positions\".id = ?\n",
      "2021-04-04 00:34:47,388 INFO sqlalchemy.engine.base.Engine (34,)\n",
      "2021-04-04 00:34:47,389 INFO sqlalchemy.engine.base.Engine SELECT \"Positions\".id AS \"Positions_id\", \"Positions\".upper AS \"Positions_upper\", \"Positions\".middle AS \"Positions_middle\", \"Positions\".lower AS \"Positions_lower\", \"Positions\".x AS \"Positions_x\", \"Positions\".y AS \"Positions_y\" \n",
      "FROM \"Positions\" \n",
      "WHERE \"Positions\".id = ?\n",
      "2021-04-04 00:34:47,389 INFO sqlalchemy.engine.base.Engine (35,)\n",
      "No given legend or incorrect format ! A default legend will be used\n",
      "Borehole geometry created successfully !\n",
      "2021-04-04 00:34:47,428 INFO sqlalchemy.engine.base.Engine INSERT INTO \"Positions\" (id, upper, middle, lower, x, y) VALUES (?, ?, ?, ?, ?, ?)\n",
      "2021-04-04 00:34:47,428 INFO sqlalchemy.engine.base.Engine ((36, 0.0, 0.0, 0.0, 153049.921, 122636.217), (37, 0.5, 0.5, 0.5, 153049.921, 122636.217), (38, 0.5, 0.5, 0.5, 153049.921, 122636.217), (39, 1.2, 1.2, 1.2, 153049.921, 122636.217), (40, 1.2, 1.2, 1.2, 153049.921, 122636.217), (41, 2.4, 2.4, 2.4, 153049.921, 122636.217))\n",
      "2021-04-04 00:34:47,430 INFO sqlalchemy.engine.base.Engine UPDATE \"Boreholes\" SET length=? WHERE \"Boreholes\".id = ?\n",
      "2021-04-04 00:34:47,430 INFO sqlalchemy.engine.base.Engine (7.0, 'F8')\n",
      "2021-04-04 00:34:47,432 INFO sqlalchemy.engine.base.Engine INSERT INTO \"Boreholes\" (id, length, diameter) VALUES (?, ?, ?)\n",
      "2021-04-04 00:34:47,432 INFO sqlalchemy.engine.base.Engine ('F1aM', 3.366, 0.041)\n",
      "2021-04-04 00:34:47,433 INFO sqlalchemy.engine.base.Engine INSERT INTO \"Intervals\" (id, borehole, interval_number, description, top_id, base_id) VALUES (?, ?, ?, ?, ?, ?)\n",
      "2021-04-04 00:34:47,434 INFO sqlalchemy.engine.base.Engine ((18, 'F1aM', 0, 'Limon brun ', 36, 37), (19, 'F1aM', 1, 'Remblais sableux avec charge pierreuse, couleur jaune/gris ', 38, 39), (20, 'F1aM', 2, 'Remblais hétérogène, strate noire avec présence de scories, petite charge de briquaillons de déchets de construction orange/beige, présence de laitier induré à la base. ', 40, 41))\n",
      "2021-04-04 00:34:47,435 INFO sqlalchemy.engine.base.Engine COMMIT\n",
      "2021-04-04 00:34:47,439 INFO sqlalchemy.engine.base.Engine BEGIN (implicit)\n",
      "2021-04-04 00:34:47,440 INFO sqlalchemy.engine.base.Engine SELECT \"Boreholes\".id AS \"Boreholes_id\", \"Boreholes\".length AS \"Boreholes_length\", \"Boreholes\".diameter AS \"Boreholes_diameter\" \n",
      "FROM \"Boreholes\"\n",
      "2021-04-04 00:34:47,441 INFO sqlalchemy.engine.base.Engine ()\n",
      "2021-04-04 00:34:47,442 INFO sqlalchemy.engine.base.Engine SELECT \"Intervals\".id AS \"Intervals_id\", \"Intervals\".borehole AS \"Intervals_borehole\", \"Intervals\".interval_number AS \"Intervals_interval_number\", \"Intervals\".description AS \"Intervals_description\", \"Intervals\".top_id AS \"Intervals_top_id\", \"Intervals\".base_id AS \"Intervals_base_id\" \n",
      "FROM \"Intervals\" \n",
      "WHERE ? = \"Intervals\".borehole\n",
      "2021-04-04 00:34:47,443 INFO sqlalchemy.engine.base.Engine ('F1aM',)\n",
      "2021-04-04 00:34:47,445 INFO sqlalchemy.engine.base.Engine SELECT \"Positions\".id AS \"Positions_id\", \"Positions\".upper AS \"Positions_upper\", \"Positions\".middle AS \"Positions_middle\", \"Positions\".lower AS \"Positions_lower\", \"Positions\".x AS \"Positions_x\", \"Positions\".y AS \"Positions_y\" \n",
      "FROM \"Positions\" \n",
      "WHERE \"Positions\".id = ?\n",
      "2021-04-04 00:34:47,445 INFO sqlalchemy.engine.base.Engine (36,)\n",
      "2021-04-04 00:34:47,446 INFO sqlalchemy.engine.base.Engine SELECT \"Positions\".id AS \"Positions_id\", \"Positions\".upper AS \"Positions_upper\", \"Positions\".middle AS \"Positions_middle\", \"Positions\".lower AS \"Positions_lower\", \"Positions\".x AS \"Positions_x\", \"Positions\".y AS \"Positions_y\" \n",
      "FROM \"Positions\" \n",
      "WHERE \"Positions\".id = ?\n",
      "2021-04-04 00:34:47,447 INFO sqlalchemy.engine.base.Engine (37,)\n",
      "2021-04-04 00:34:47,448 INFO sqlalchemy.engine.base.Engine SELECT \"Positions\".id AS \"Positions_id\", \"Positions\".upper AS \"Positions_upper\", \"Positions\".middle AS \"Positions_middle\", \"Positions\".lower AS \"Positions_lower\", \"Positions\".x AS \"Positions_x\", \"Positions\".y AS \"Positions_y\" \n",
      "FROM \"Positions\" \n",
      "WHERE \"Positions\".id = ?\n",
      "2021-04-04 00:34:47,449 INFO sqlalchemy.engine.base.Engine (38,)\n",
      "2021-04-04 00:34:47,450 INFO sqlalchemy.engine.base.Engine SELECT \"Positions\".id AS \"Positions_id\", \"Positions\".upper AS \"Positions_upper\", \"Positions\".middle AS \"Positions_middle\", \"Positions\".lower AS \"Positions_lower\", \"Positions\".x AS \"Positions_x\", \"Positions\".y AS \"Positions_y\" \n",
      "FROM \"Positions\" \n",
      "WHERE \"Positions\".id = ?\n",
      "2021-04-04 00:34:47,451 INFO sqlalchemy.engine.base.Engine (39,)\n",
      "2021-04-04 00:34:47,453 INFO sqlalchemy.engine.base.Engine SELECT \"Positions\".id AS \"Positions_id\", \"Positions\".upper AS \"Positions_upper\", \"Positions\".middle AS \"Positions_middle\", \"Positions\".lower AS \"Positions_lower\", \"Positions\".x AS \"Positions_x\", \"Positions\".y AS \"Positions_y\" \n",
      "FROM \"Positions\" \n",
      "WHERE \"Positions\".id = ?\n",
      "2021-04-04 00:34:47,454 INFO sqlalchemy.engine.base.Engine (40,)\n",
      "2021-04-04 00:34:47,455 INFO sqlalchemy.engine.base.Engine SELECT \"Positions\".id AS \"Positions_id\", \"Positions\".upper AS \"Positions_upper\", \"Positions\".middle AS \"Positions_middle\", \"Positions\".lower AS \"Positions_lower\", \"Positions\".x AS \"Positions_x\", \"Positions\".y AS \"Positions_y\" \n",
      "FROM \"Positions\" \n",
      "WHERE \"Positions\".id = ?\n"
     ]
    },
    {
     "name": "stdout",
     "output_type": "stream",
     "text": [
      "2021-04-04 00:34:47,455 INFO sqlalchemy.engine.base.Engine (41,)\n",
      "No given legend or incorrect format ! A default legend will be used\n",
      "Borehole geometry created successfully !\n",
      "2021-04-04 00:34:47,487 INFO sqlalchemy.engine.base.Engine UPDATE \"Boreholes\" SET length=? WHERE \"Boreholes\".id = ?\n",
      "2021-04-04 00:34:47,488 INFO sqlalchemy.engine.base.Engine (2.4, 'F1aM')\n",
      "2021-04-04 00:34:47,489 INFO sqlalchemy.engine.base.Engine INSERT INTO \"Boreholes\" (id, length, diameter) VALUES (?, ?, ?)\n",
      "2021-04-04 00:34:47,490 INFO sqlalchemy.engine.base.Engine ('F2M', 3.366, 0.041)\n",
      "2021-04-04 00:34:47,491 INFO sqlalchemy.engine.base.Engine INSERT INTO \"Positions\" (id, upper, middle, lower, x, y) VALUES (?, ?, ?, ?, ?, ?)\n",
      "2021-04-04 00:34:47,492 INFO sqlalchemy.engine.base.Engine ((42, 0.0, 0.0, 0.0, 153049.921, 122636.217), (43, 2.4, 2.4, 2.4, 153049.921, 122636.217), (44, 2.4, 2.4, 2.4, 153049.921, 122636.217), (45, 4.0, 4.0, 4.0, 153049.921, 122636.217), (46, 4.0, 4.0, 4.0, 153049.921, 122636.217), (47, 6.0, 6.0, 6.0, 153049.921, 122636.217))\n",
      "2021-04-04 00:34:47,493 INFO sqlalchemy.engine.base.Engine INSERT INTO \"Intervals\" (id, borehole, interval_number, description, top_id, base_id) VALUES (?, ?, ?, ?, ?, ?)\n",
      "2021-04-04 00:34:47,493 INFO sqlalchemy.engine.base.Engine ((21, 'F2M', 0, \"Remblais hétérogène gris foncé avec charge pierreuse de type laitier. Vers 2 - 2.4 m, présence d'eau.\", 42, 43), (22, 'F2M', 1, 'Remblais hétérogène gris foncé avec charge pierreuse et brique. Odeur forte de type créosote/naphtalène', 44, 45), (23, 'F2M', 2, 'Début des limons argileux verdâtre/brun vers 4 m. Odeur de créosote/naphtalène', 46, 47))\n",
      "2021-04-04 00:34:47,494 INFO sqlalchemy.engine.base.Engine COMMIT\n",
      "2021-04-04 00:34:47,498 INFO sqlalchemy.engine.base.Engine BEGIN (implicit)\n",
      "2021-04-04 00:34:47,499 INFO sqlalchemy.engine.base.Engine SELECT \"Boreholes\".id AS \"Boreholes_id\", \"Boreholes\".length AS \"Boreholes_length\", \"Boreholes\".diameter AS \"Boreholes_diameter\" \n",
      "FROM \"Boreholes\"\n",
      "2021-04-04 00:34:47,500 INFO sqlalchemy.engine.base.Engine ()\n",
      "2021-04-04 00:34:47,501 INFO sqlalchemy.engine.base.Engine SELECT \"Intervals\".id AS \"Intervals_id\", \"Intervals\".borehole AS \"Intervals_borehole\", \"Intervals\".interval_number AS \"Intervals_interval_number\", \"Intervals\".description AS \"Intervals_description\", \"Intervals\".top_id AS \"Intervals_top_id\", \"Intervals\".base_id AS \"Intervals_base_id\" \n",
      "FROM \"Intervals\" \n",
      "WHERE ? = \"Intervals\".borehole\n",
      "2021-04-04 00:34:47,502 INFO sqlalchemy.engine.base.Engine ('F2M',)\n",
      "2021-04-04 00:34:47,504 INFO sqlalchemy.engine.base.Engine SELECT \"Positions\".id AS \"Positions_id\", \"Positions\".upper AS \"Positions_upper\", \"Positions\".middle AS \"Positions_middle\", \"Positions\".lower AS \"Positions_lower\", \"Positions\".x AS \"Positions_x\", \"Positions\".y AS \"Positions_y\" \n",
      "FROM \"Positions\" \n",
      "WHERE \"Positions\".id = ?\n",
      "2021-04-04 00:34:47,505 INFO sqlalchemy.engine.base.Engine (42,)\n",
      "2021-04-04 00:34:47,506 INFO sqlalchemy.engine.base.Engine SELECT \"Positions\".id AS \"Positions_id\", \"Positions\".upper AS \"Positions_upper\", \"Positions\".middle AS \"Positions_middle\", \"Positions\".lower AS \"Positions_lower\", \"Positions\".x AS \"Positions_x\", \"Positions\".y AS \"Positions_y\" \n",
      "FROM \"Positions\" \n",
      "WHERE \"Positions\".id = ?\n",
      "2021-04-04 00:34:47,507 INFO sqlalchemy.engine.base.Engine (43,)\n",
      "2021-04-04 00:34:47,509 INFO sqlalchemy.engine.base.Engine SELECT \"Positions\".id AS \"Positions_id\", \"Positions\".upper AS \"Positions_upper\", \"Positions\".middle AS \"Positions_middle\", \"Positions\".lower AS \"Positions_lower\", \"Positions\".x AS \"Positions_x\", \"Positions\".y AS \"Positions_y\" \n",
      "FROM \"Positions\" \n",
      "WHERE \"Positions\".id = ?\n",
      "2021-04-04 00:34:47,509 INFO sqlalchemy.engine.base.Engine (44,)\n",
      "2021-04-04 00:34:47,511 INFO sqlalchemy.engine.base.Engine SELECT \"Positions\".id AS \"Positions_id\", \"Positions\".upper AS \"Positions_upper\", \"Positions\".middle AS \"Positions_middle\", \"Positions\".lower AS \"Positions_lower\", \"Positions\".x AS \"Positions_x\", \"Positions\".y AS \"Positions_y\" \n",
      "FROM \"Positions\" \n",
      "WHERE \"Positions\".id = ?\n",
      "2021-04-04 00:34:47,511 INFO sqlalchemy.engine.base.Engine (45,)\n",
      "2021-04-04 00:34:47,513 INFO sqlalchemy.engine.base.Engine SELECT \"Positions\".id AS \"Positions_id\", \"Positions\".upper AS \"Positions_upper\", \"Positions\".middle AS \"Positions_middle\", \"Positions\".lower AS \"Positions_lower\", \"Positions\".x AS \"Positions_x\", \"Positions\".y AS \"Positions_y\" \n",
      "FROM \"Positions\" \n",
      "WHERE \"Positions\".id = ?\n",
      "2021-04-04 00:34:47,514 INFO sqlalchemy.engine.base.Engine (46,)\n",
      "2021-04-04 00:34:47,515 INFO sqlalchemy.engine.base.Engine SELECT \"Positions\".id AS \"Positions_id\", \"Positions\".upper AS \"Positions_upper\", \"Positions\".middle AS \"Positions_middle\", \"Positions\".lower AS \"Positions_lower\", \"Positions\".x AS \"Positions_x\", \"Positions\".y AS \"Positions_y\" \n",
      "FROM \"Positions\" \n",
      "WHERE \"Positions\".id = ?\n",
      "2021-04-04 00:34:47,516 INFO sqlalchemy.engine.base.Engine (47,)\n",
      "No given legend or incorrect format ! A default legend will be used\n",
      "Borehole geometry created successfully !\n",
      "2021-04-04 00:34:47,556 INFO sqlalchemy.engine.base.Engine UPDATE \"Boreholes\" SET length=? WHERE \"Boreholes\".id = ?\n",
      "2021-04-04 00:34:47,556 INFO sqlalchemy.engine.base.Engine (6.0, 'F2M')\n",
      "2021-04-04 00:34:47,557 INFO sqlalchemy.engine.base.Engine INSERT INTO \"Boreholes\" (id, length, diameter) VALUES (?, ?, ?)\n",
      "2021-04-04 00:34:47,558 INFO sqlalchemy.engine.base.Engine ('F3M', 3.366, 0.041)\n",
      "2021-04-04 00:34:47,559 INFO sqlalchemy.engine.base.Engine INSERT INTO \"Positions\" (id, upper, middle, lower, x, y) VALUES (?, ?, ?, ?, ?, ?)\n",
      "2021-04-04 00:34:47,559 INFO sqlalchemy.engine.base.Engine ((48, 0.0, 0.0, 0.0, 153049.921, 122636.217), (49, 0.2, 0.2, 0.2, 153049.921, 122636.217), (50, 0.2, 0.2, 0.2, 153049.921, 122636.217), (51, 0.3, 0.3, 0.3, 153049.921, 122636.217), (52, 0.3, 0.3, 0.3, 153049.921, 122636.217), (53, 1.2, 1.2, 1.2, 153049.921, 122636.217), (54, 1.2, 1.2, 1.2, 153049.921, 122636.217), (55, 3.3, 3.3, 3.3, 153049.921, 122636.217))\n",
      "2021-04-04 00:34:47,560 INFO sqlalchemy.engine.base.Engine INSERT INTO \"Intervals\" (id, borehole, interval_number, description, top_id, base_id) VALUES (?, ?, ?, ?, ?, ?)\n",
      "2021-04-04 00:34:47,561 INFO sqlalchemy.engine.base.Engine ((24, 'F3M', 0, 'Béton ', 48, 49), (25, 'F3M', 1, 'Stabilisé beige ', 50, 51), (26, 'F3M', 2, 'Remblais hétérogène noir avec présence de briquaillons/graviers/scories et de déchets de constructions de couleur orange/beige/blanc ', 52, 53), (27, 'F3M', 3, \"Remblais hétérogène gris foncé avec charge de type graviers/scories/laitier de taille centimétrique à décimétrique et présence d'eau. Bloqué sur du laitier à 3.3 m. \", 54, 55))\n",
      "2021-04-04 00:34:47,562 INFO sqlalchemy.engine.base.Engine COMMIT\n",
      "2021-04-04 00:34:47,566 INFO sqlalchemy.engine.base.Engine BEGIN (implicit)\n",
      "2021-04-04 00:34:47,568 INFO sqlalchemy.engine.base.Engine SELECT \"Boreholes\".id AS \"Boreholes_id\", \"Boreholes\".length AS \"Boreholes_length\", \"Boreholes\".diameter AS \"Boreholes_diameter\" \n",
      "FROM \"Boreholes\"\n",
      "2021-04-04 00:34:47,569 INFO sqlalchemy.engine.base.Engine ()\n",
      "2021-04-04 00:34:47,571 INFO sqlalchemy.engine.base.Engine SELECT \"Intervals\".id AS \"Intervals_id\", \"Intervals\".borehole AS \"Intervals_borehole\", \"Intervals\".interval_number AS \"Intervals_interval_number\", \"Intervals\".description AS \"Intervals_description\", \"Intervals\".top_id AS \"Intervals_top_id\", \"Intervals\".base_id AS \"Intervals_base_id\" \n",
      "FROM \"Intervals\" \n",
      "WHERE ? = \"Intervals\".borehole\n",
      "2021-04-04 00:34:47,573 INFO sqlalchemy.engine.base.Engine ('F3M',)\n",
      "2021-04-04 00:34:47,574 INFO sqlalchemy.engine.base.Engine SELECT \"Positions\".id AS \"Positions_id\", \"Positions\".upper AS \"Positions_upper\", \"Positions\".middle AS \"Positions_middle\", \"Positions\".lower AS \"Positions_lower\", \"Positions\".x AS \"Positions_x\", \"Positions\".y AS \"Positions_y\" \n",
      "FROM \"Positions\" \n",
      "WHERE \"Positions\".id = ?\n",
      "2021-04-04 00:34:47,575 INFO sqlalchemy.engine.base.Engine (48,)\n",
      "2021-04-04 00:34:47,577 INFO sqlalchemy.engine.base.Engine SELECT \"Positions\".id AS \"Positions_id\", \"Positions\".upper AS \"Positions_upper\", \"Positions\".middle AS \"Positions_middle\", \"Positions\".lower AS \"Positions_lower\", \"Positions\".x AS \"Positions_x\", \"Positions\".y AS \"Positions_y\" \n",
      "FROM \"Positions\" \n",
      "WHERE \"Positions\".id = ?\n",
      "2021-04-04 00:34:47,578 INFO sqlalchemy.engine.base.Engine (49,)\n"
     ]
    },
    {
     "name": "stdout",
     "output_type": "stream",
     "text": [
      "2021-04-04 00:34:47,579 INFO sqlalchemy.engine.base.Engine SELECT \"Positions\".id AS \"Positions_id\", \"Positions\".upper AS \"Positions_upper\", \"Positions\".middle AS \"Positions_middle\", \"Positions\".lower AS \"Positions_lower\", \"Positions\".x AS \"Positions_x\", \"Positions\".y AS \"Positions_y\" \n",
      "FROM \"Positions\" \n",
      "WHERE \"Positions\".id = ?\n",
      "2021-04-04 00:34:47,580 INFO sqlalchemy.engine.base.Engine (50,)\n",
      "2021-04-04 00:34:47,582 INFO sqlalchemy.engine.base.Engine SELECT \"Positions\".id AS \"Positions_id\", \"Positions\".upper AS \"Positions_upper\", \"Positions\".middle AS \"Positions_middle\", \"Positions\".lower AS \"Positions_lower\", \"Positions\".x AS \"Positions_x\", \"Positions\".y AS \"Positions_y\" \n",
      "FROM \"Positions\" \n",
      "WHERE \"Positions\".id = ?\n",
      "2021-04-04 00:34:47,583 INFO sqlalchemy.engine.base.Engine (51,)\n",
      "2021-04-04 00:34:47,584 INFO sqlalchemy.engine.base.Engine SELECT \"Positions\".id AS \"Positions_id\", \"Positions\".upper AS \"Positions_upper\", \"Positions\".middle AS \"Positions_middle\", \"Positions\".lower AS \"Positions_lower\", \"Positions\".x AS \"Positions_x\", \"Positions\".y AS \"Positions_y\" \n",
      "FROM \"Positions\" \n",
      "WHERE \"Positions\".id = ?\n",
      "2021-04-04 00:34:47,584 INFO sqlalchemy.engine.base.Engine (52,)\n",
      "2021-04-04 00:34:47,585 INFO sqlalchemy.engine.base.Engine SELECT \"Positions\".id AS \"Positions_id\", \"Positions\".upper AS \"Positions_upper\", \"Positions\".middle AS \"Positions_middle\", \"Positions\".lower AS \"Positions_lower\", \"Positions\".x AS \"Positions_x\", \"Positions\".y AS \"Positions_y\" \n",
      "FROM \"Positions\" \n",
      "WHERE \"Positions\".id = ?\n",
      "2021-04-04 00:34:47,586 INFO sqlalchemy.engine.base.Engine (53,)\n",
      "2021-04-04 00:34:47,587 INFO sqlalchemy.engine.base.Engine SELECT \"Positions\".id AS \"Positions_id\", \"Positions\".upper AS \"Positions_upper\", \"Positions\".middle AS \"Positions_middle\", \"Positions\".lower AS \"Positions_lower\", \"Positions\".x AS \"Positions_x\", \"Positions\".y AS \"Positions_y\" \n",
      "FROM \"Positions\" \n",
      "WHERE \"Positions\".id = ?\n",
      "2021-04-04 00:34:47,588 INFO sqlalchemy.engine.base.Engine (54,)\n",
      "2021-04-04 00:34:47,588 INFO sqlalchemy.engine.base.Engine SELECT \"Positions\".id AS \"Positions_id\", \"Positions\".upper AS \"Positions_upper\", \"Positions\".middle AS \"Positions_middle\", \"Positions\".lower AS \"Positions_lower\", \"Positions\".x AS \"Positions_x\", \"Positions\".y AS \"Positions_y\" \n",
      "FROM \"Positions\" \n",
      "WHERE \"Positions\".id = ?\n",
      "2021-04-04 00:34:47,589 INFO sqlalchemy.engine.base.Engine (55,)\n",
      "No given legend or incorrect format ! A default legend will be used\n",
      "Borehole geometry created successfully !\n",
      "2021-04-04 00:34:47,625 INFO sqlalchemy.engine.base.Engine INSERT INTO \"Positions\" (id, upper, middle, lower, x, y) VALUES (?, ?, ?, ?, ?, ?)\n",
      "2021-04-04 00:34:47,625 INFO sqlalchemy.engine.base.Engine ((56, 0.0, 0.0, 0.0, 153049.921, 122636.217), (57, 0.5, 0.5, 0.5, 153049.921, 122636.217), (58, 0.5, 0.5, 0.5, 153049.921, 122636.217), (59, 2.4, 2.4, 2.4, 153049.921, 122636.217), (60, 2.4, 2.4, 2.4, 153049.921, 122636.217), (61, 3.6, 3.6, 3.6, 153049.921, 122636.217), (62, 3.6, 3.6, 3.6, 153049.921, 122636.217), (63, 4.8, 4.8, 4.8, 153049.921, 122636.217), (64, 4.8, 4.8, 4.8, 153049.921, 122636.217), (65, 6.0, 6.0, 6.0, 153049.921, 122636.217))\n",
      "2021-04-04 00:34:47,627 INFO sqlalchemy.engine.base.Engine UPDATE \"Boreholes\" SET length=? WHERE \"Boreholes\".id = ?\n",
      "2021-04-04 00:34:47,628 INFO sqlalchemy.engine.base.Engine (3.3, 'F3M')\n",
      "2021-04-04 00:34:47,630 INFO sqlalchemy.engine.base.Engine INSERT INTO \"Boreholes\" (id, length, diameter) VALUES (?, ?, ?)\n",
      "2021-04-04 00:34:47,631 INFO sqlalchemy.engine.base.Engine ('F4M', 3.366, 0.041)\n",
      "2021-04-04 00:34:47,632 INFO sqlalchemy.engine.base.Engine INSERT INTO \"Intervals\" (id, borehole, interval_number, description, top_id, base_id) VALUES (?, ?, ?, ?, ?, ?)\n",
      "2021-04-04 00:34:47,633 INFO sqlalchemy.engine.base.Engine ((28, 'F4M', 0, 'Mélange de limon brun et de remblais noir avec charge de scories et de déchets de construction (briquaillons et poussière de couleur orange). ', 56, 57), (29, 'F4M', 1, 'Remblais hétérogène gris foncé/noir avec charge de type graviers/scories/laitier et briquaillons orange de taille centimétrique à décimétrique.', 58, 59), (30, 'F4M', 2, 'Limon argileux noir puis verdâtre pollué. Odeur de naphtalène. Traces nettes de produit pur. ', 60, 61), (31, 'F4M', 3, \"Strate graveleuse hétérogène composé de schiste, charge de briquaillons de déchets de construction orange. Odeur de naphtalène et irrisation dans l'eau. \", 62, 63), (32, 'F4M', 4, \"Limons alluviaux argileux barriolé vert/ocre. Odeur forte de naphtalène et irrisation visible dans l'eau. \", 64, 65))\n",
      "2021-04-04 00:34:47,634 INFO sqlalchemy.engine.base.Engine COMMIT\n",
      "2021-04-04 00:34:47,638 INFO sqlalchemy.engine.base.Engine BEGIN (implicit)\n",
      "2021-04-04 00:34:47,640 INFO sqlalchemy.engine.base.Engine SELECT \"Boreholes\".id AS \"Boreholes_id\", \"Boreholes\".length AS \"Boreholes_length\", \"Boreholes\".diameter AS \"Boreholes_diameter\" \n",
      "FROM \"Boreholes\"\n",
      "2021-04-04 00:34:47,640 INFO sqlalchemy.engine.base.Engine ()\n",
      "2021-04-04 00:34:47,642 INFO sqlalchemy.engine.base.Engine SELECT \"Intervals\".id AS \"Intervals_id\", \"Intervals\".borehole AS \"Intervals_borehole\", \"Intervals\".interval_number AS \"Intervals_interval_number\", \"Intervals\".description AS \"Intervals_description\", \"Intervals\".top_id AS \"Intervals_top_id\", \"Intervals\".base_id AS \"Intervals_base_id\" \n",
      "FROM \"Intervals\" \n",
      "WHERE ? = \"Intervals\".borehole\n",
      "2021-04-04 00:34:47,643 INFO sqlalchemy.engine.base.Engine ('F4M',)\n",
      "2021-04-04 00:34:47,645 INFO sqlalchemy.engine.base.Engine SELECT \"Positions\".id AS \"Positions_id\", \"Positions\".upper AS \"Positions_upper\", \"Positions\".middle AS \"Positions_middle\", \"Positions\".lower AS \"Positions_lower\", \"Positions\".x AS \"Positions_x\", \"Positions\".y AS \"Positions_y\" \n",
      "FROM \"Positions\" \n",
      "WHERE \"Positions\".id = ?\n",
      "2021-04-04 00:34:47,646 INFO sqlalchemy.engine.base.Engine (56,)\n",
      "2021-04-04 00:34:47,647 INFO sqlalchemy.engine.base.Engine SELECT \"Positions\".id AS \"Positions_id\", \"Positions\".upper AS \"Positions_upper\", \"Positions\".middle AS \"Positions_middle\", \"Positions\".lower AS \"Positions_lower\", \"Positions\".x AS \"Positions_x\", \"Positions\".y AS \"Positions_y\" \n",
      "FROM \"Positions\" \n",
      "WHERE \"Positions\".id = ?\n",
      "2021-04-04 00:34:47,648 INFO sqlalchemy.engine.base.Engine (57,)\n",
      "2021-04-04 00:34:47,650 INFO sqlalchemy.engine.base.Engine SELECT \"Positions\".id AS \"Positions_id\", \"Positions\".upper AS \"Positions_upper\", \"Positions\".middle AS \"Positions_middle\", \"Positions\".lower AS \"Positions_lower\", \"Positions\".x AS \"Positions_x\", \"Positions\".y AS \"Positions_y\" \n",
      "FROM \"Positions\" \n",
      "WHERE \"Positions\".id = ?\n",
      "2021-04-04 00:34:47,650 INFO sqlalchemy.engine.base.Engine (58,)\n",
      "2021-04-04 00:34:47,652 INFO sqlalchemy.engine.base.Engine SELECT \"Positions\".id AS \"Positions_id\", \"Positions\".upper AS \"Positions_upper\", \"Positions\".middle AS \"Positions_middle\", \"Positions\".lower AS \"Positions_lower\", \"Positions\".x AS \"Positions_x\", \"Positions\".y AS \"Positions_y\" \n",
      "FROM \"Positions\" \n",
      "WHERE \"Positions\".id = ?\n",
      "2021-04-04 00:34:47,653 INFO sqlalchemy.engine.base.Engine (59,)\n",
      "2021-04-04 00:34:47,655 INFO sqlalchemy.engine.base.Engine SELECT \"Positions\".id AS \"Positions_id\", \"Positions\".upper AS \"Positions_upper\", \"Positions\".middle AS \"Positions_middle\", \"Positions\".lower AS \"Positions_lower\", \"Positions\".x AS \"Positions_x\", \"Positions\".y AS \"Positions_y\" \n",
      "FROM \"Positions\" \n",
      "WHERE \"Positions\".id = ?\n",
      "2021-04-04 00:34:47,656 INFO sqlalchemy.engine.base.Engine (60,)\n",
      "2021-04-04 00:34:47,657 INFO sqlalchemy.engine.base.Engine SELECT \"Positions\".id AS \"Positions_id\", \"Positions\".upper AS \"Positions_upper\", \"Positions\".middle AS \"Positions_middle\", \"Positions\".lower AS \"Positions_lower\", \"Positions\".x AS \"Positions_x\", \"Positions\".y AS \"Positions_y\" \n",
      "FROM \"Positions\" \n",
      "WHERE \"Positions\".id = ?\n",
      "2021-04-04 00:34:47,658 INFO sqlalchemy.engine.base.Engine (61,)\n",
      "2021-04-04 00:34:47,660 INFO sqlalchemy.engine.base.Engine SELECT \"Positions\".id AS \"Positions_id\", \"Positions\".upper AS \"Positions_upper\", \"Positions\".middle AS \"Positions_middle\", \"Positions\".lower AS \"Positions_lower\", \"Positions\".x AS \"Positions_x\", \"Positions\".y AS \"Positions_y\" \n",
      "FROM \"Positions\" \n",
      "WHERE \"Positions\".id = ?\n",
      "2021-04-04 00:34:47,661 INFO sqlalchemy.engine.base.Engine (62,)\n",
      "2021-04-04 00:34:47,663 INFO sqlalchemy.engine.base.Engine SELECT \"Positions\".id AS \"Positions_id\", \"Positions\".upper AS \"Positions_upper\", \"Positions\".middle AS \"Positions_middle\", \"Positions\".lower AS \"Positions_lower\", \"Positions\".x AS \"Positions_x\", \"Positions\".y AS \"Positions_y\" \n",
      "FROM \"Positions\" \n",
      "WHERE \"Positions\".id = ?\n"
     ]
    },
    {
     "name": "stdout",
     "output_type": "stream",
     "text": [
      "2021-04-04 00:34:47,664 INFO sqlalchemy.engine.base.Engine (63,)\n",
      "2021-04-04 00:34:47,666 INFO sqlalchemy.engine.base.Engine SELECT \"Positions\".id AS \"Positions_id\", \"Positions\".upper AS \"Positions_upper\", \"Positions\".middle AS \"Positions_middle\", \"Positions\".lower AS \"Positions_lower\", \"Positions\".x AS \"Positions_x\", \"Positions\".y AS \"Positions_y\" \n",
      "FROM \"Positions\" \n",
      "WHERE \"Positions\".id = ?\n",
      "2021-04-04 00:34:47,667 INFO sqlalchemy.engine.base.Engine (64,)\n",
      "2021-04-04 00:34:47,668 INFO sqlalchemy.engine.base.Engine SELECT \"Positions\".id AS \"Positions_id\", \"Positions\".upper AS \"Positions_upper\", \"Positions\".middle AS \"Positions_middle\", \"Positions\".lower AS \"Positions_lower\", \"Positions\".x AS \"Positions_x\", \"Positions\".y AS \"Positions_y\" \n",
      "FROM \"Positions\" \n",
      "WHERE \"Positions\".id = ?\n",
      "2021-04-04 00:34:47,669 INFO sqlalchemy.engine.base.Engine (65,)\n",
      "No given legend or incorrect format ! A default legend will be used\n",
      "Borehole geometry created successfully !\n",
      "2021-04-04 00:34:47,714 INFO sqlalchemy.engine.base.Engine UPDATE \"Boreholes\" SET length=? WHERE \"Boreholes\".id = ?\n",
      "2021-04-04 00:34:47,715 INFO sqlalchemy.engine.base.Engine (6.0, 'F4M')\n",
      "2021-04-04 00:34:47,717 INFO sqlalchemy.engine.base.Engine INSERT INTO \"Boreholes\" (id, length, diameter) VALUES (?, ?, ?)\n",
      "2021-04-04 00:34:47,717 INFO sqlalchemy.engine.base.Engine ('F5M', 3.366, 0.041)\n",
      "2021-04-04 00:34:47,718 INFO sqlalchemy.engine.base.Engine INSERT INTO \"Positions\" (id, upper, middle, lower, x, y) VALUES (?, ?, ?, ?, ?, ?)\n",
      "2021-04-04 00:34:47,719 INFO sqlalchemy.engine.base.Engine ((66, 0.0, 0.0, 0.0, 153049.921, 122636.217), (67, 0.5, 0.5, 0.5, 153049.921, 122636.217), (68, 0.5, 0.5, 0.5, 153049.921, 122636.217), (69, 3.8, 3.8, 3.8, 153049.921, 122636.217), (70, 3.8, 3.8, 3.8, 153049.921, 122636.217), (71, 4.2, 4.2, 4.2, 153049.921, 122636.217), (72, 4.2, 4.2, 4.2, 153049.921, 122636.217), (73, 6.0, 6.0, 6.0, 153049.921, 122636.217))\n",
      "2021-04-04 00:34:47,720 INFO sqlalchemy.engine.base.Engine INSERT INTO \"Intervals\" (id, borehole, interval_number, description, top_id, base_id) VALUES (?, ?, ?, ?, ?, ?)\n",
      "2021-04-04 00:34:47,721 INFO sqlalchemy.engine.base.Engine ((33, 'F5M', 0, 'Mélange de remblais sableux et de limon brun avec charge pierreuse et de briquaillons de déchets de construction orange. ', 66, 67), (34, 'F5M', 1, \"Remblais noir avec charge pierreuse et de scories. Présence d'eau. Odeur de naphtalène et irrisation dans l'eau.\", 68, 69), (35, 'F5M', 2, 'Interface remblais/limons alluviaux argileux. Odeur de naphtalène. ', 70, 71), (36, 'F5M', 3, 'Limons alluviaux argileux de couleur beige avec passe plus sableuse entre 5.5 m et 6 m', 72, 73))\n",
      "2021-04-04 00:34:47,722 INFO sqlalchemy.engine.base.Engine COMMIT\n",
      "2021-04-04 00:34:47,726 INFO sqlalchemy.engine.base.Engine BEGIN (implicit)\n",
      "2021-04-04 00:34:47,728 INFO sqlalchemy.engine.base.Engine SELECT \"Boreholes\".id AS \"Boreholes_id\", \"Boreholes\".length AS \"Boreholes_length\", \"Boreholes\".diameter AS \"Boreholes_diameter\" \n",
      "FROM \"Boreholes\"\n",
      "2021-04-04 00:34:47,729 INFO sqlalchemy.engine.base.Engine ()\n",
      "2021-04-04 00:34:47,731 INFO sqlalchemy.engine.base.Engine SELECT \"Intervals\".id AS \"Intervals_id\", \"Intervals\".borehole AS \"Intervals_borehole\", \"Intervals\".interval_number AS \"Intervals_interval_number\", \"Intervals\".description AS \"Intervals_description\", \"Intervals\".top_id AS \"Intervals_top_id\", \"Intervals\".base_id AS \"Intervals_base_id\" \n",
      "FROM \"Intervals\" \n",
      "WHERE ? = \"Intervals\".borehole\n",
      "2021-04-04 00:34:47,731 INFO sqlalchemy.engine.base.Engine ('F5M',)\n",
      "2021-04-04 00:34:47,733 INFO sqlalchemy.engine.base.Engine SELECT \"Positions\".id AS \"Positions_id\", \"Positions\".upper AS \"Positions_upper\", \"Positions\".middle AS \"Positions_middle\", \"Positions\".lower AS \"Positions_lower\", \"Positions\".x AS \"Positions_x\", \"Positions\".y AS \"Positions_y\" \n",
      "FROM \"Positions\" \n",
      "WHERE \"Positions\".id = ?\n",
      "2021-04-04 00:34:47,734 INFO sqlalchemy.engine.base.Engine (66,)\n",
      "2021-04-04 00:34:47,735 INFO sqlalchemy.engine.base.Engine SELECT \"Positions\".id AS \"Positions_id\", \"Positions\".upper AS \"Positions_upper\", \"Positions\".middle AS \"Positions_middle\", \"Positions\".lower AS \"Positions_lower\", \"Positions\".x AS \"Positions_x\", \"Positions\".y AS \"Positions_y\" \n",
      "FROM \"Positions\" \n",
      "WHERE \"Positions\".id = ?\n",
      "2021-04-04 00:34:47,736 INFO sqlalchemy.engine.base.Engine (67,)\n",
      "2021-04-04 00:34:47,738 INFO sqlalchemy.engine.base.Engine SELECT \"Positions\".id AS \"Positions_id\", \"Positions\".upper AS \"Positions_upper\", \"Positions\".middle AS \"Positions_middle\", \"Positions\".lower AS \"Positions_lower\", \"Positions\".x AS \"Positions_x\", \"Positions\".y AS \"Positions_y\" \n",
      "FROM \"Positions\" \n",
      "WHERE \"Positions\".id = ?\n",
      "2021-04-04 00:34:47,739 INFO sqlalchemy.engine.base.Engine (68,)\n",
      "2021-04-04 00:34:47,740 INFO sqlalchemy.engine.base.Engine SELECT \"Positions\".id AS \"Positions_id\", \"Positions\".upper AS \"Positions_upper\", \"Positions\".middle AS \"Positions_middle\", \"Positions\".lower AS \"Positions_lower\", \"Positions\".x AS \"Positions_x\", \"Positions\".y AS \"Positions_y\" \n",
      "FROM \"Positions\" \n",
      "WHERE \"Positions\".id = ?\n",
      "2021-04-04 00:34:47,741 INFO sqlalchemy.engine.base.Engine (69,)\n",
      "2021-04-04 00:34:47,743 INFO sqlalchemy.engine.base.Engine SELECT \"Positions\".id AS \"Positions_id\", \"Positions\".upper AS \"Positions_upper\", \"Positions\".middle AS \"Positions_middle\", \"Positions\".lower AS \"Positions_lower\", \"Positions\".x AS \"Positions_x\", \"Positions\".y AS \"Positions_y\" \n",
      "FROM \"Positions\" \n",
      "WHERE \"Positions\".id = ?\n",
      "2021-04-04 00:34:47,744 INFO sqlalchemy.engine.base.Engine (70,)\n",
      "2021-04-04 00:34:47,745 INFO sqlalchemy.engine.base.Engine SELECT \"Positions\".id AS \"Positions_id\", \"Positions\".upper AS \"Positions_upper\", \"Positions\".middle AS \"Positions_middle\", \"Positions\".lower AS \"Positions_lower\", \"Positions\".x AS \"Positions_x\", \"Positions\".y AS \"Positions_y\" \n",
      "FROM \"Positions\" \n",
      "WHERE \"Positions\".id = ?\n",
      "2021-04-04 00:34:47,746 INFO sqlalchemy.engine.base.Engine (71,)\n",
      "2021-04-04 00:34:47,747 INFO sqlalchemy.engine.base.Engine SELECT \"Positions\".id AS \"Positions_id\", \"Positions\".upper AS \"Positions_upper\", \"Positions\".middle AS \"Positions_middle\", \"Positions\".lower AS \"Positions_lower\", \"Positions\".x AS \"Positions_x\", \"Positions\".y AS \"Positions_y\" \n",
      "FROM \"Positions\" \n",
      "WHERE \"Positions\".id = ?\n",
      "2021-04-04 00:34:47,748 INFO sqlalchemy.engine.base.Engine (72,)\n",
      "2021-04-04 00:34:47,750 INFO sqlalchemy.engine.base.Engine SELECT \"Positions\".id AS \"Positions_id\", \"Positions\".upper AS \"Positions_upper\", \"Positions\".middle AS \"Positions_middle\", \"Positions\".lower AS \"Positions_lower\", \"Positions\".x AS \"Positions_x\", \"Positions\".y AS \"Positions_y\" \n",
      "FROM \"Positions\" \n",
      "WHERE \"Positions\".id = ?\n",
      "2021-04-04 00:34:47,751 INFO sqlalchemy.engine.base.Engine (73,)\n",
      "No given legend or incorrect format ! A default legend will be used\n",
      "Borehole geometry created successfully !\n",
      "2021-04-04 00:34:47,788 INFO sqlalchemy.engine.base.Engine INSERT INTO \"Positions\" (id, upper, middle, lower, x, y) VALUES (?, ?, ?, ?, ?, ?)\n",
      "2021-04-04 00:34:47,789 INFO sqlalchemy.engine.base.Engine ((74, 0.0, 0.0, 0.0, 153049.921, 122636.217), (75, 1.2, 1.2, 1.2, 153049.921, 122636.217), (76, 1.2, 1.2, 1.2, 153049.921, 122636.217), (77, 2.4, 2.4, 2.4, 153049.921, 122636.217), (78, 2.4, 2.4, 2.4, 153049.921, 122636.217), (79, 3.6, 3.6, 3.6, 153049.921, 122636.217), (80, 3.6, 3.6, 3.6, 153049.921, 122636.217), (81, 4.8, 4.8, 4.8, 153049.921, 122636.217))\n",
      "2021-04-04 00:34:47,790 INFO sqlalchemy.engine.base.Engine UPDATE \"Boreholes\" SET length=? WHERE \"Boreholes\".id = ?\n",
      "2021-04-04 00:34:47,791 INFO sqlalchemy.engine.base.Engine (6.0, 'F5M')\n",
      "2021-04-04 00:34:47,792 INFO sqlalchemy.engine.base.Engine INSERT INTO \"Boreholes\" (id, length, diameter) VALUES (?, ?, ?)\n",
      "2021-04-04 00:34:47,792 INFO sqlalchemy.engine.base.Engine ('F6M', 3.366, 0.041)\n",
      "2021-04-04 00:34:47,793 INFO sqlalchemy.engine.base.Engine INSERT INTO \"Intervals\" (id, borehole, interval_number, description, top_id, base_id) VALUES (?, ?, ?, ?, ?, ?)\n",
      "2021-04-04 00:34:47,794 INFO sqlalchemy.engine.base.Engine ((37, 'F6M', 0, 'Remblais gris sableux avec charge pierreuse/graviers de taille centimétrique à décimétrique ', 74, 75), (38, 'F6M', 1, 'Remblais noir avec charge de scories  de taille centimétrique à décimétrique ', 76, 77), (39, 'F6M', 2, 'Remblais de décehts sidérurgiques puis limon de couleur verdâtre', 78, 79), (40, 'F6M', 3, 'Limon argileux de couleur verdâtre puis ocre ', 80, 81))\n"
     ]
    },
    {
     "name": "stdout",
     "output_type": "stream",
     "text": [
      "2021-04-04 00:34:47,795 INFO sqlalchemy.engine.base.Engine COMMIT\n",
      "2021-04-04 00:34:47,799 INFO sqlalchemy.engine.base.Engine BEGIN (implicit)\n",
      "2021-04-04 00:34:47,799 INFO sqlalchemy.engine.base.Engine SELECT \"Boreholes\".id AS \"Boreholes_id\", \"Boreholes\".length AS \"Boreholes_length\", \"Boreholes\".diameter AS \"Boreholes_diameter\" \n",
      "FROM \"Boreholes\"\n",
      "2021-04-04 00:34:47,800 INFO sqlalchemy.engine.base.Engine ()\n",
      "2021-04-04 00:34:47,802 INFO sqlalchemy.engine.base.Engine SELECT \"Intervals\".id AS \"Intervals_id\", \"Intervals\".borehole AS \"Intervals_borehole\", \"Intervals\".interval_number AS \"Intervals_interval_number\", \"Intervals\".description AS \"Intervals_description\", \"Intervals\".top_id AS \"Intervals_top_id\", \"Intervals\".base_id AS \"Intervals_base_id\" \n",
      "FROM \"Intervals\" \n",
      "WHERE ? = \"Intervals\".borehole\n",
      "2021-04-04 00:34:47,802 INFO sqlalchemy.engine.base.Engine ('F6M',)\n",
      "2021-04-04 00:34:47,804 INFO sqlalchemy.engine.base.Engine SELECT \"Positions\".id AS \"Positions_id\", \"Positions\".upper AS \"Positions_upper\", \"Positions\".middle AS \"Positions_middle\", \"Positions\".lower AS \"Positions_lower\", \"Positions\".x AS \"Positions_x\", \"Positions\".y AS \"Positions_y\" \n",
      "FROM \"Positions\" \n",
      "WHERE \"Positions\".id = ?\n",
      "2021-04-04 00:34:47,805 INFO sqlalchemy.engine.base.Engine (74,)\n",
      "2021-04-04 00:34:47,808 INFO sqlalchemy.engine.base.Engine SELECT \"Positions\".id AS \"Positions_id\", \"Positions\".upper AS \"Positions_upper\", \"Positions\".middle AS \"Positions_middle\", \"Positions\".lower AS \"Positions_lower\", \"Positions\".x AS \"Positions_x\", \"Positions\".y AS \"Positions_y\" \n",
      "FROM \"Positions\" \n",
      "WHERE \"Positions\".id = ?\n",
      "2021-04-04 00:34:47,809 INFO sqlalchemy.engine.base.Engine (75,)\n",
      "2021-04-04 00:34:47,811 INFO sqlalchemy.engine.base.Engine SELECT \"Positions\".id AS \"Positions_id\", \"Positions\".upper AS \"Positions_upper\", \"Positions\".middle AS \"Positions_middle\", \"Positions\".lower AS \"Positions_lower\", \"Positions\".x AS \"Positions_x\", \"Positions\".y AS \"Positions_y\" \n",
      "FROM \"Positions\" \n",
      "WHERE \"Positions\".id = ?\n",
      "2021-04-04 00:34:47,812 INFO sqlalchemy.engine.base.Engine (76,)\n",
      "2021-04-04 00:34:47,813 INFO sqlalchemy.engine.base.Engine SELECT \"Positions\".id AS \"Positions_id\", \"Positions\".upper AS \"Positions_upper\", \"Positions\".middle AS \"Positions_middle\", \"Positions\".lower AS \"Positions_lower\", \"Positions\".x AS \"Positions_x\", \"Positions\".y AS \"Positions_y\" \n",
      "FROM \"Positions\" \n",
      "WHERE \"Positions\".id = ?\n",
      "2021-04-04 00:34:47,814 INFO sqlalchemy.engine.base.Engine (77,)\n",
      "2021-04-04 00:34:47,816 INFO sqlalchemy.engine.base.Engine SELECT \"Positions\".id AS \"Positions_id\", \"Positions\".upper AS \"Positions_upper\", \"Positions\".middle AS \"Positions_middle\", \"Positions\".lower AS \"Positions_lower\", \"Positions\".x AS \"Positions_x\", \"Positions\".y AS \"Positions_y\" \n",
      "FROM \"Positions\" \n",
      "WHERE \"Positions\".id = ?\n",
      "2021-04-04 00:34:47,818 INFO sqlalchemy.engine.base.Engine (78,)\n",
      "2021-04-04 00:34:47,819 INFO sqlalchemy.engine.base.Engine SELECT \"Positions\".id AS \"Positions_id\", \"Positions\".upper AS \"Positions_upper\", \"Positions\".middle AS \"Positions_middle\", \"Positions\".lower AS \"Positions_lower\", \"Positions\".x AS \"Positions_x\", \"Positions\".y AS \"Positions_y\" \n",
      "FROM \"Positions\" \n",
      "WHERE \"Positions\".id = ?\n",
      "2021-04-04 00:34:47,819 INFO sqlalchemy.engine.base.Engine (79,)\n",
      "2021-04-04 00:34:47,821 INFO sqlalchemy.engine.base.Engine SELECT \"Positions\".id AS \"Positions_id\", \"Positions\".upper AS \"Positions_upper\", \"Positions\".middle AS \"Positions_middle\", \"Positions\".lower AS \"Positions_lower\", \"Positions\".x AS \"Positions_x\", \"Positions\".y AS \"Positions_y\" \n",
      "FROM \"Positions\" \n",
      "WHERE \"Positions\".id = ?\n",
      "2021-04-04 00:34:47,821 INFO sqlalchemy.engine.base.Engine (80,)\n",
      "2021-04-04 00:34:47,822 INFO sqlalchemy.engine.base.Engine SELECT \"Positions\".id AS \"Positions_id\", \"Positions\".upper AS \"Positions_upper\", \"Positions\".middle AS \"Positions_middle\", \"Positions\".lower AS \"Positions_lower\", \"Positions\".x AS \"Positions_x\", \"Positions\".y AS \"Positions_y\" \n",
      "FROM \"Positions\" \n",
      "WHERE \"Positions\".id = ?\n",
      "2021-04-04 00:34:47,823 INFO sqlalchemy.engine.base.Engine (81,)\n",
      "No given legend or incorrect format ! A default legend will be used\n",
      "Borehole geometry created successfully !\n",
      "2021-04-04 00:34:47,858 INFO sqlalchemy.engine.base.Engine INSERT INTO \"Positions\" (id, upper, middle, lower, x, y) VALUES (?, ?, ?, ?, ?, ?)\n",
      "2021-04-04 00:34:47,858 INFO sqlalchemy.engine.base.Engine ((82, 0.0, 0.0, 0.0, 153049.921, 122636.217), (83, 0.3, 0.3, 0.3, 153049.921, 122636.217))\n",
      "2021-04-04 00:34:47,860 INFO sqlalchemy.engine.base.Engine UPDATE \"Boreholes\" SET length=? WHERE \"Boreholes\".id = ?\n",
      "2021-04-04 00:34:47,861 INFO sqlalchemy.engine.base.Engine (4.8, 'F6M')\n",
      "2021-04-04 00:34:47,862 INFO sqlalchemy.engine.base.Engine INSERT INTO \"Boreholes\" (id, length, diameter) VALUES (?, ?, ?)\n",
      "2021-04-04 00:34:47,863 INFO sqlalchemy.engine.base.Engine ('F7aM', 3.366, 0.041)\n",
      "2021-04-04 00:34:47,864 INFO sqlalchemy.engine.base.Engine INSERT INTO \"Intervals\" (id, borehole, interval_number, description, top_id, base_id) VALUES (?, ?, ?, ?, ?, ?)\n",
      "2021-04-04 00:34:47,865 INFO sqlalchemy.engine.base.Engine (41, 'F7aM', 0, 'Remblais gris de texture sableuse/présence de graviers. Bloqué sur béton.', 82, 83)\n",
      "2021-04-04 00:34:47,866 INFO sqlalchemy.engine.base.Engine COMMIT\n",
      "2021-04-04 00:34:47,870 INFO sqlalchemy.engine.base.Engine BEGIN (implicit)\n",
      "2021-04-04 00:34:47,871 INFO sqlalchemy.engine.base.Engine SELECT \"Boreholes\".id AS \"Boreholes_id\", \"Boreholes\".length AS \"Boreholes_length\", \"Boreholes\".diameter AS \"Boreholes_diameter\" \n",
      "FROM \"Boreholes\"\n",
      "2021-04-04 00:34:47,872 INFO sqlalchemy.engine.base.Engine ()\n",
      "2021-04-04 00:34:47,873 INFO sqlalchemy.engine.base.Engine SELECT \"Intervals\".id AS \"Intervals_id\", \"Intervals\".borehole AS \"Intervals_borehole\", \"Intervals\".interval_number AS \"Intervals_interval_number\", \"Intervals\".description AS \"Intervals_description\", \"Intervals\".top_id AS \"Intervals_top_id\", \"Intervals\".base_id AS \"Intervals_base_id\" \n",
      "FROM \"Intervals\" \n",
      "WHERE ? = \"Intervals\".borehole\n",
      "2021-04-04 00:34:47,874 INFO sqlalchemy.engine.base.Engine ('F7aM',)\n",
      "2021-04-04 00:34:47,875 INFO sqlalchemy.engine.base.Engine SELECT \"Positions\".id AS \"Positions_id\", \"Positions\".upper AS \"Positions_upper\", \"Positions\".middle AS \"Positions_middle\", \"Positions\".lower AS \"Positions_lower\", \"Positions\".x AS \"Positions_x\", \"Positions\".y AS \"Positions_y\" \n",
      "FROM \"Positions\" \n",
      "WHERE \"Positions\".id = ?\n",
      "2021-04-04 00:34:47,876 INFO sqlalchemy.engine.base.Engine (82,)\n",
      "2021-04-04 00:34:47,877 INFO sqlalchemy.engine.base.Engine SELECT \"Positions\".id AS \"Positions_id\", \"Positions\".upper AS \"Positions_upper\", \"Positions\".middle AS \"Positions_middle\", \"Positions\".lower AS \"Positions_lower\", \"Positions\".x AS \"Positions_x\", \"Positions\".y AS \"Positions_y\" \n",
      "FROM \"Positions\" \n",
      "WHERE \"Positions\".id = ?\n",
      "2021-04-04 00:34:47,878 INFO sqlalchemy.engine.base.Engine (83,)\n",
      "No given legend or incorrect format ! A default legend will be used\n",
      "Borehole geometry created successfully !\n",
      "2021-04-04 00:34:47,911 INFO sqlalchemy.engine.base.Engine INSERT INTO \"Positions\" (id, upper, middle, lower, x, y) VALUES (?, ?, ?, ?, ?, ?)\n",
      "2021-04-04 00:34:47,912 INFO sqlalchemy.engine.base.Engine ((84, 0.0, 0.0, 0.0, 153075.424, 122636.045), (85, 0.3, 0.3, 0.3, 153075.424, 122636.045))\n",
      "2021-04-04 00:34:47,913 INFO sqlalchemy.engine.base.Engine UPDATE \"Boreholes\" SET length=? WHERE \"Boreholes\".id = ?\n",
      "2021-04-04 00:34:47,914 INFO sqlalchemy.engine.base.Engine (0.3, 'F7aM')\n",
      "2021-04-04 00:34:47,915 INFO sqlalchemy.engine.base.Engine INSERT INTO \"Boreholes\" (id, length, diameter) VALUES (?, ?, ?)\n",
      "2021-04-04 00:34:47,915 INFO sqlalchemy.engine.base.Engine ('F7bM', 4.329000000000008, 0.041)\n",
      "2021-04-04 00:34:47,916 INFO sqlalchemy.engine.base.Engine INSERT INTO \"Intervals\" (id, borehole, interval_number, description, top_id, base_id) VALUES (?, ?, ?, ?, ?, ?)\n",
      "2021-04-04 00:34:47,917 INFO sqlalchemy.engine.base.Engine (42, 'F7bM', 0, 'Remblais gris de texture sableuse/présence de graviers. Bloqué sur béton.', 84, 85)\n",
      "2021-04-04 00:34:47,918 INFO sqlalchemy.engine.base.Engine COMMIT\n",
      "2021-04-04 00:34:47,922 INFO sqlalchemy.engine.base.Engine BEGIN (implicit)\n",
      "2021-04-04 00:34:47,923 INFO sqlalchemy.engine.base.Engine SELECT \"Boreholes\".id AS \"Boreholes_id\", \"Boreholes\".length AS \"Boreholes_length\", \"Boreholes\".diameter AS \"Boreholes_diameter\" \n",
      "FROM \"Boreholes\"\n"
     ]
    },
    {
     "name": "stdout",
     "output_type": "stream",
     "text": [
      "2021-04-04 00:34:47,923 INFO sqlalchemy.engine.base.Engine ()\n",
      "2021-04-04 00:34:47,924 INFO sqlalchemy.engine.base.Engine SELECT \"Intervals\".id AS \"Intervals_id\", \"Intervals\".borehole AS \"Intervals_borehole\", \"Intervals\".interval_number AS \"Intervals_interval_number\", \"Intervals\".description AS \"Intervals_description\", \"Intervals\".top_id AS \"Intervals_top_id\", \"Intervals\".base_id AS \"Intervals_base_id\" \n",
      "FROM \"Intervals\" \n",
      "WHERE ? = \"Intervals\".borehole\n",
      "2021-04-04 00:34:47,925 INFO sqlalchemy.engine.base.Engine ('F7bM',)\n",
      "2021-04-04 00:34:47,926 INFO sqlalchemy.engine.base.Engine SELECT \"Positions\".id AS \"Positions_id\", \"Positions\".upper AS \"Positions_upper\", \"Positions\".middle AS \"Positions_middle\", \"Positions\".lower AS \"Positions_lower\", \"Positions\".x AS \"Positions_x\", \"Positions\".y AS \"Positions_y\" \n",
      "FROM \"Positions\" \n",
      "WHERE \"Positions\".id = ?\n",
      "2021-04-04 00:34:47,927 INFO sqlalchemy.engine.base.Engine (84,)\n",
      "2021-04-04 00:34:47,928 INFO sqlalchemy.engine.base.Engine SELECT \"Positions\".id AS \"Positions_id\", \"Positions\".upper AS \"Positions_upper\", \"Positions\".middle AS \"Positions_middle\", \"Positions\".lower AS \"Positions_lower\", \"Positions\".x AS \"Positions_x\", \"Positions\".y AS \"Positions_y\" \n",
      "FROM \"Positions\" \n",
      "WHERE \"Positions\".id = ?\n",
      "2021-04-04 00:34:47,928 INFO sqlalchemy.engine.base.Engine (85,)\n",
      "No given legend or incorrect format ! A default legend will be used\n",
      "Borehole geometry created successfully !\n",
      "2021-04-04 00:34:47,959 INFO sqlalchemy.engine.base.Engine UPDATE \"Boreholes\" SET length=? WHERE \"Boreholes\".id = ?\n",
      "2021-04-04 00:34:47,960 INFO sqlalchemy.engine.base.Engine (0.3, 'F7bM')\n",
      "2021-04-04 00:34:47,961 INFO sqlalchemy.engine.base.Engine INSERT INTO \"Boreholes\" (id, length, diameter) VALUES (?, ?, ?)\n",
      "2021-04-04 00:34:47,962 INFO sqlalchemy.engine.base.Engine ('F8M', 4.329000000000008, 0.041)\n",
      "2021-04-04 00:34:47,963 INFO sqlalchemy.engine.base.Engine INSERT INTO \"Positions\" (id, upper, middle, lower, x, y) VALUES (?, ?, ?, ?, ?, ?)\n",
      "2021-04-04 00:34:47,963 INFO sqlalchemy.engine.base.Engine ((86, 0.0, 0.0, 0.0, 153075.424, 122636.045), (87, 0.3, 0.3, 0.3, 153075.424, 122636.045))\n",
      "2021-04-04 00:34:47,964 INFO sqlalchemy.engine.base.Engine INSERT INTO \"Intervals\" (id, borehole, interval_number, description, top_id, base_id) VALUES (?, ?, ?, ?, ?, ?)\n",
      "2021-04-04 00:34:47,965 INFO sqlalchemy.engine.base.Engine (43, 'F8M', 0, 'Remblais gris de texture sableuse/présence de graviers. Bloqué sur béton.', 86, 87)\n",
      "2021-04-04 00:34:47,966 INFO sqlalchemy.engine.base.Engine COMMIT\n",
      "2021-04-04 00:34:47,969 INFO sqlalchemy.engine.base.Engine BEGIN (implicit)\n",
      "2021-04-04 00:34:47,969 INFO sqlalchemy.engine.base.Engine SELECT \"Boreholes\".id AS \"Boreholes_id\", \"Boreholes\".length AS \"Boreholes_length\", \"Boreholes\".diameter AS \"Boreholes_diameter\" \n",
      "FROM \"Boreholes\"\n",
      "2021-04-04 00:34:47,970 INFO sqlalchemy.engine.base.Engine ()\n",
      "2021-04-04 00:34:47,971 INFO sqlalchemy.engine.base.Engine SELECT \"Intervals\".id AS \"Intervals_id\", \"Intervals\".borehole AS \"Intervals_borehole\", \"Intervals\".interval_number AS \"Intervals_interval_number\", \"Intervals\".description AS \"Intervals_description\", \"Intervals\".top_id AS \"Intervals_top_id\", \"Intervals\".base_id AS \"Intervals_base_id\" \n",
      "FROM \"Intervals\" \n",
      "WHERE ? = \"Intervals\".borehole\n",
      "2021-04-04 00:34:47,972 INFO sqlalchemy.engine.base.Engine ('F8M',)\n",
      "2021-04-04 00:34:47,973 INFO sqlalchemy.engine.base.Engine SELECT \"Positions\".id AS \"Positions_id\", \"Positions\".upper AS \"Positions_upper\", \"Positions\".middle AS \"Positions_middle\", \"Positions\".lower AS \"Positions_lower\", \"Positions\".x AS \"Positions_x\", \"Positions\".y AS \"Positions_y\" \n",
      "FROM \"Positions\" \n",
      "WHERE \"Positions\".id = ?\n",
      "2021-04-04 00:34:47,974 INFO sqlalchemy.engine.base.Engine (86,)\n",
      "2021-04-04 00:34:47,976 INFO sqlalchemy.engine.base.Engine SELECT \"Positions\".id AS \"Positions_id\", \"Positions\".upper AS \"Positions_upper\", \"Positions\".middle AS \"Positions_middle\", \"Positions\".lower AS \"Positions_lower\", \"Positions\".x AS \"Positions_x\", \"Positions\".y AS \"Positions_y\" \n",
      "FROM \"Positions\" \n",
      "WHERE \"Positions\".id = ?\n",
      "2021-04-04 00:34:47,976 INFO sqlalchemy.engine.base.Engine (87,)\n",
      "No given legend or incorrect format ! A default legend will be used\n",
      "Borehole geometry created successfully !\n",
      "2021-04-04 00:34:48,009 INFO sqlalchemy.engine.base.Engine UPDATE \"Boreholes\" SET length=? WHERE \"Boreholes\".id = ?\n",
      "2021-04-04 00:34:48,010 INFO sqlalchemy.engine.base.Engine (0.3, 'F8M')\n",
      "2021-04-04 00:34:48,011 INFO sqlalchemy.engine.base.Engine INSERT INTO \"Boreholes\" (id, length, diameter) VALUES (?, ?, ?)\n",
      "2021-04-04 00:34:48,012 INFO sqlalchemy.engine.base.Engine ('F9aM', 4.329000000000008, 0.041)\n",
      "2021-04-04 00:34:48,013 INFO sqlalchemy.engine.base.Engine INSERT INTO \"Positions\" (id, upper, middle, lower, x, y) VALUES (?, ?, ?, ?, ?, ?)\n",
      "2021-04-04 00:34:48,013 INFO sqlalchemy.engine.base.Engine ((88, 0.0, 0.0, 0.0, 153075.424, 122636.045), (89, 0.4, 0.4, 0.4, 153075.424, 122636.045))\n",
      "2021-04-04 00:34:48,015 INFO sqlalchemy.engine.base.Engine INSERT INTO \"Intervals\" (id, borehole, interval_number, description, top_id, base_id) VALUES (?, ?, ?, ?, ?, ?)\n",
      "2021-04-04 00:34:48,015 INFO sqlalchemy.engine.base.Engine (44, 'F9aM', 0, 'Remblais gris foncé/noir de texture sableuse/présence de graviers/scories. Bloqué sur béton.', 88, 89)\n",
      "2021-04-04 00:34:48,017 INFO sqlalchemy.engine.base.Engine COMMIT\n",
      "2021-04-04 00:34:48,020 INFO sqlalchemy.engine.base.Engine BEGIN (implicit)\n",
      "2021-04-04 00:34:48,021 INFO sqlalchemy.engine.base.Engine SELECT \"Boreholes\".id AS \"Boreholes_id\", \"Boreholes\".length AS \"Boreholes_length\", \"Boreholes\".diameter AS \"Boreholes_diameter\" \n",
      "FROM \"Boreholes\"\n",
      "2021-04-04 00:34:48,022 INFO sqlalchemy.engine.base.Engine ()\n",
      "2021-04-04 00:34:48,024 INFO sqlalchemy.engine.base.Engine SELECT \"Intervals\".id AS \"Intervals_id\", \"Intervals\".borehole AS \"Intervals_borehole\", \"Intervals\".interval_number AS \"Intervals_interval_number\", \"Intervals\".description AS \"Intervals_description\", \"Intervals\".top_id AS \"Intervals_top_id\", \"Intervals\".base_id AS \"Intervals_base_id\" \n",
      "FROM \"Intervals\" \n",
      "WHERE ? = \"Intervals\".borehole\n",
      "2021-04-04 00:34:48,025 INFO sqlalchemy.engine.base.Engine ('F9aM',)\n",
      "2021-04-04 00:34:48,026 INFO sqlalchemy.engine.base.Engine SELECT \"Positions\".id AS \"Positions_id\", \"Positions\".upper AS \"Positions_upper\", \"Positions\".middle AS \"Positions_middle\", \"Positions\".lower AS \"Positions_lower\", \"Positions\".x AS \"Positions_x\", \"Positions\".y AS \"Positions_y\" \n",
      "FROM \"Positions\" \n",
      "WHERE \"Positions\".id = ?\n",
      "2021-04-04 00:34:48,027 INFO sqlalchemy.engine.base.Engine (88,)\n",
      "2021-04-04 00:34:48,028 INFO sqlalchemy.engine.base.Engine SELECT \"Positions\".id AS \"Positions_id\", \"Positions\".upper AS \"Positions_upper\", \"Positions\".middle AS \"Positions_middle\", \"Positions\".lower AS \"Positions_lower\", \"Positions\".x AS \"Positions_x\", \"Positions\".y AS \"Positions_y\" \n",
      "FROM \"Positions\" \n",
      "WHERE \"Positions\".id = ?\n",
      "2021-04-04 00:34:48,029 INFO sqlalchemy.engine.base.Engine (89,)\n",
      "No given legend or incorrect format ! A default legend will be used\n",
      "Borehole geometry created successfully !\n",
      "2021-04-04 00:34:48,064 INFO sqlalchemy.engine.base.Engine INSERT INTO \"Positions\" (id, upper, middle, lower, x, y) VALUES (?, ?, ?, ?, ?, ?)\n",
      "2021-04-04 00:34:48,065 INFO sqlalchemy.engine.base.Engine ((90, 0.0, 0.0, 0.0, 153075.424, 122636.045), (91, 0.6, 0.6, 0.6, 153075.424, 122636.045))\n",
      "2021-04-04 00:34:48,066 INFO sqlalchemy.engine.base.Engine UPDATE \"Boreholes\" SET length=? WHERE \"Boreholes\".id = ?\n",
      "2021-04-04 00:34:48,067 INFO sqlalchemy.engine.base.Engine (0.4, 'F9aM')\n",
      "2021-04-04 00:34:48,068 INFO sqlalchemy.engine.base.Engine INSERT INTO \"Boreholes\" (id, length, diameter) VALUES (?, ?, ?)\n",
      "2021-04-04 00:34:48,068 INFO sqlalchemy.engine.base.Engine ('F9bM', 4.329000000000008, 0.041)\n",
      "2021-04-04 00:34:48,069 INFO sqlalchemy.engine.base.Engine INSERT INTO \"Intervals\" (id, borehole, interval_number, description, top_id, base_id) VALUES (?, ?, ?, ?, ?, ?)\n",
      "2021-04-04 00:34:48,070 INFO sqlalchemy.engine.base.Engine (45, 'F9bM', 0, 'Remblais noir de type cendrée avec présence de scories. Bloqué à 0.6 m sur béton.', 90, 91)\n",
      "2021-04-04 00:34:48,071 INFO sqlalchemy.engine.base.Engine COMMIT\n",
      "2021-04-04 00:34:48,075 INFO sqlalchemy.engine.base.Engine BEGIN (implicit)\n"
     ]
    },
    {
     "name": "stdout",
     "output_type": "stream",
     "text": [
      "2021-04-04 00:34:48,076 INFO sqlalchemy.engine.base.Engine SELECT \"Boreholes\".id AS \"Boreholes_id\", \"Boreholes\".length AS \"Boreholes_length\", \"Boreholes\".diameter AS \"Boreholes_diameter\" \n",
      "FROM \"Boreholes\"\n",
      "2021-04-04 00:34:48,077 INFO sqlalchemy.engine.base.Engine ()\n",
      "2021-04-04 00:34:48,078 INFO sqlalchemy.engine.base.Engine SELECT \"Intervals\".id AS \"Intervals_id\", \"Intervals\".borehole AS \"Intervals_borehole\", \"Intervals\".interval_number AS \"Intervals_interval_number\", \"Intervals\".description AS \"Intervals_description\", \"Intervals\".top_id AS \"Intervals_top_id\", \"Intervals\".base_id AS \"Intervals_base_id\" \n",
      "FROM \"Intervals\" \n",
      "WHERE ? = \"Intervals\".borehole\n",
      "2021-04-04 00:34:48,080 INFO sqlalchemy.engine.base.Engine ('F9bM',)\n",
      "2021-04-04 00:34:48,081 INFO sqlalchemy.engine.base.Engine SELECT \"Positions\".id AS \"Positions_id\", \"Positions\".upper AS \"Positions_upper\", \"Positions\".middle AS \"Positions_middle\", \"Positions\".lower AS \"Positions_lower\", \"Positions\".x AS \"Positions_x\", \"Positions\".y AS \"Positions_y\" \n",
      "FROM \"Positions\" \n",
      "WHERE \"Positions\".id = ?\n",
      "2021-04-04 00:34:48,082 INFO sqlalchemy.engine.base.Engine (90,)\n",
      "2021-04-04 00:34:48,084 INFO sqlalchemy.engine.base.Engine SELECT \"Positions\".id AS \"Positions_id\", \"Positions\".upper AS \"Positions_upper\", \"Positions\".middle AS \"Positions_middle\", \"Positions\".lower AS \"Positions_lower\", \"Positions\".x AS \"Positions_x\", \"Positions\".y AS \"Positions_y\" \n",
      "FROM \"Positions\" \n",
      "WHERE \"Positions\".id = ?\n",
      "2021-04-04 00:34:48,085 INFO sqlalchemy.engine.base.Engine (91,)\n",
      "No given legend or incorrect format ! A default legend will be used\n",
      "Borehole geometry created successfully !\n",
      "2021-04-04 00:34:48,119 INFO sqlalchemy.engine.base.Engine UPDATE \"Boreholes\" SET length=? WHERE \"Boreholes\".id = ?\n",
      "2021-04-04 00:34:48,120 INFO sqlalchemy.engine.base.Engine (0.6, 'F9bM')\n",
      "2021-04-04 00:34:48,121 INFO sqlalchemy.engine.base.Engine INSERT INTO \"Boreholes\" (id, length, diameter) VALUES (?, ?, ?)\n",
      "2021-04-04 00:34:48,122 INFO sqlalchemy.engine.base.Engine ('F10M', 4.329000000000008, 0.041)\n",
      "2021-04-04 00:34:48,123 INFO sqlalchemy.engine.base.Engine INSERT INTO \"Positions\" (id, upper, middle, lower, x, y) VALUES (?, ?, ?, ?, ?, ?)\n",
      "2021-04-04 00:34:48,124 INFO sqlalchemy.engine.base.Engine ((92, 0.0, 0.0, 0.0, 153075.424, 122636.045), (93, 1.2, 1.2, 1.2, 153075.424, 122636.045), (94, 1.2, 1.2, 1.2, 153075.424, 122636.045), (95, 2.0, 2.0, 2.0, 153075.424, 122636.045))\n",
      "2021-04-04 00:34:48,125 INFO sqlalchemy.engine.base.Engine INSERT INTO \"Intervals\" (id, borehole, interval_number, description, top_id, base_id) VALUES (?, ?, ?, ?, ?, ?)\n",
      "2021-04-04 00:34:48,125 INFO sqlalchemy.engine.base.Engine ((46, 'F10M', 0, 'Remblais de déchets sidérurgiques avec scories et charge de déchets de construction beige/orange', 92, 93), (47, 'F10M', 1, \"Remblais de couleur noir avec scories. Présence d'eau dans liner. Bloqué à 2 m sur béton ?\", 94, 95))\n",
      "2021-04-04 00:34:48,127 INFO sqlalchemy.engine.base.Engine COMMIT\n",
      "2021-04-04 00:34:48,131 INFO sqlalchemy.engine.base.Engine BEGIN (implicit)\n",
      "2021-04-04 00:34:48,132 INFO sqlalchemy.engine.base.Engine SELECT \"Boreholes\".id AS \"Boreholes_id\", \"Boreholes\".length AS \"Boreholes_length\", \"Boreholes\".diameter AS \"Boreholes_diameter\" \n",
      "FROM \"Boreholes\"\n",
      "2021-04-04 00:34:48,133 INFO sqlalchemy.engine.base.Engine ()\n",
      "2021-04-04 00:34:48,135 INFO sqlalchemy.engine.base.Engine SELECT \"Intervals\".id AS \"Intervals_id\", \"Intervals\".borehole AS \"Intervals_borehole\", \"Intervals\".interval_number AS \"Intervals_interval_number\", \"Intervals\".description AS \"Intervals_description\", \"Intervals\".top_id AS \"Intervals_top_id\", \"Intervals\".base_id AS \"Intervals_base_id\" \n",
      "FROM \"Intervals\" \n",
      "WHERE ? = \"Intervals\".borehole\n",
      "2021-04-04 00:34:48,136 INFO sqlalchemy.engine.base.Engine ('F10M',)\n",
      "2021-04-04 00:34:48,138 INFO sqlalchemy.engine.base.Engine SELECT \"Positions\".id AS \"Positions_id\", \"Positions\".upper AS \"Positions_upper\", \"Positions\".middle AS \"Positions_middle\", \"Positions\".lower AS \"Positions_lower\", \"Positions\".x AS \"Positions_x\", \"Positions\".y AS \"Positions_y\" \n",
      "FROM \"Positions\" \n",
      "WHERE \"Positions\".id = ?\n",
      "2021-04-04 00:34:48,138 INFO sqlalchemy.engine.base.Engine (92,)\n",
      "2021-04-04 00:34:48,140 INFO sqlalchemy.engine.base.Engine SELECT \"Positions\".id AS \"Positions_id\", \"Positions\".upper AS \"Positions_upper\", \"Positions\".middle AS \"Positions_middle\", \"Positions\".lower AS \"Positions_lower\", \"Positions\".x AS \"Positions_x\", \"Positions\".y AS \"Positions_y\" \n",
      "FROM \"Positions\" \n",
      "WHERE \"Positions\".id = ?\n",
      "2021-04-04 00:34:48,140 INFO sqlalchemy.engine.base.Engine (93,)\n",
      "2021-04-04 00:34:48,142 INFO sqlalchemy.engine.base.Engine SELECT \"Positions\".id AS \"Positions_id\", \"Positions\".upper AS \"Positions_upper\", \"Positions\".middle AS \"Positions_middle\", \"Positions\".lower AS \"Positions_lower\", \"Positions\".x AS \"Positions_x\", \"Positions\".y AS \"Positions_y\" \n",
      "FROM \"Positions\" \n",
      "WHERE \"Positions\".id = ?\n",
      "2021-04-04 00:34:48,142 INFO sqlalchemy.engine.base.Engine (94,)\n",
      "2021-04-04 00:34:48,143 INFO sqlalchemy.engine.base.Engine SELECT \"Positions\".id AS \"Positions_id\", \"Positions\".upper AS \"Positions_upper\", \"Positions\".middle AS \"Positions_middle\", \"Positions\".lower AS \"Positions_lower\", \"Positions\".x AS \"Positions_x\", \"Positions\".y AS \"Positions_y\" \n",
      "FROM \"Positions\" \n",
      "WHERE \"Positions\".id = ?\n",
      "2021-04-04 00:34:48,144 INFO sqlalchemy.engine.base.Engine (95,)\n",
      "No given legend or incorrect format ! A default legend will be used\n",
      "Borehole geometry created successfully !\n",
      "2021-04-04 00:34:48,183 INFO sqlalchemy.engine.base.Engine INSERT INTO \"Positions\" (id, upper, middle, lower, x, y) VALUES (?, ?, ?, ?, ?, ?)\n",
      "2021-04-04 00:34:48,183 INFO sqlalchemy.engine.base.Engine ((96, 0.0, 0.0, 0.0, 153075.424, 122636.045), (97, 1.2, 1.2, 1.2, 153075.424, 122636.045), (98, 1.2, 1.2, 1.2, 153075.424, 122636.045), (99, 3.0, 3.0, 3.0, 153075.424, 122636.045))\n",
      "2021-04-04 00:34:48,185 INFO sqlalchemy.engine.base.Engine UPDATE \"Boreholes\" SET length=? WHERE \"Boreholes\".id = ?\n",
      "2021-04-04 00:34:48,185 INFO sqlalchemy.engine.base.Engine (2.0, 'F10M')\n",
      "2021-04-04 00:34:48,186 INFO sqlalchemy.engine.base.Engine INSERT INTO \"Boreholes\" (id, length, diameter) VALUES (?, ?, ?)\n",
      "2021-04-04 00:34:48,186 INFO sqlalchemy.engine.base.Engine ('F11M', 4.329000000000008, 0.041)\n",
      "2021-04-04 00:34:48,187 INFO sqlalchemy.engine.base.Engine INSERT INTO \"Intervals\" (id, borehole, interval_number, description, top_id, base_id) VALUES (?, ?, ?, ?, ?, ?)\n",
      "2021-04-04 00:34:48,188 INFO sqlalchemy.engine.base.Engine ((48, 'F11M', 0, 'Remblais de déchets sidérurgiques avec charge de déchets de construction orange', 96, 97), (49, 'F11M', 1, 'Remblais de texture sableuse gris avec charge de déchets de construction beige/orange de taille centimétrique à décimétrique et strate limoneuse', 98, 99))\n",
      "2021-04-04 00:34:48,189 INFO sqlalchemy.engine.base.Engine COMMIT\n",
      "2021-04-04 00:34:48,192 INFO sqlalchemy.engine.base.Engine BEGIN (implicit)\n",
      "2021-04-04 00:34:48,192 INFO sqlalchemy.engine.base.Engine SELECT \"Boreholes\".id AS \"Boreholes_id\", \"Boreholes\".length AS \"Boreholes_length\", \"Boreholes\".diameter AS \"Boreholes_diameter\" \n",
      "FROM \"Boreholes\"\n",
      "2021-04-04 00:34:48,193 INFO sqlalchemy.engine.base.Engine ()\n",
      "2021-04-04 00:34:48,194 INFO sqlalchemy.engine.base.Engine SELECT \"Intervals\".id AS \"Intervals_id\", \"Intervals\".borehole AS \"Intervals_borehole\", \"Intervals\".interval_number AS \"Intervals_interval_number\", \"Intervals\".description AS \"Intervals_description\", \"Intervals\".top_id AS \"Intervals_top_id\", \"Intervals\".base_id AS \"Intervals_base_id\" \n",
      "FROM \"Intervals\" \n",
      "WHERE ? = \"Intervals\".borehole\n",
      "2021-04-04 00:34:48,194 INFO sqlalchemy.engine.base.Engine ('F11M',)\n",
      "2021-04-04 00:34:48,196 INFO sqlalchemy.engine.base.Engine SELECT \"Positions\".id AS \"Positions_id\", \"Positions\".upper AS \"Positions_upper\", \"Positions\".middle AS \"Positions_middle\", \"Positions\".lower AS \"Positions_lower\", \"Positions\".x AS \"Positions_x\", \"Positions\".y AS \"Positions_y\" \n",
      "FROM \"Positions\" \n",
      "WHERE \"Positions\".id = ?\n",
      "2021-04-04 00:34:48,196 INFO sqlalchemy.engine.base.Engine (96,)\n",
      "2021-04-04 00:34:48,198 INFO sqlalchemy.engine.base.Engine SELECT \"Positions\".id AS \"Positions_id\", \"Positions\".upper AS \"Positions_upper\", \"Positions\".middle AS \"Positions_middle\", \"Positions\".lower AS \"Positions_lower\", \"Positions\".x AS \"Positions_x\", \"Positions\".y AS \"Positions_y\" \n",
      "FROM \"Positions\" \n",
      "WHERE \"Positions\".id = ?\n"
     ]
    },
    {
     "name": "stdout",
     "output_type": "stream",
     "text": [
      "2021-04-04 00:34:48,198 INFO sqlalchemy.engine.base.Engine (97,)\n",
      "2021-04-04 00:34:48,200 INFO sqlalchemy.engine.base.Engine SELECT \"Positions\".id AS \"Positions_id\", \"Positions\".upper AS \"Positions_upper\", \"Positions\".middle AS \"Positions_middle\", \"Positions\".lower AS \"Positions_lower\", \"Positions\".x AS \"Positions_x\", \"Positions\".y AS \"Positions_y\" \n",
      "FROM \"Positions\" \n",
      "WHERE \"Positions\".id = ?\n",
      "2021-04-04 00:34:48,201 INFO sqlalchemy.engine.base.Engine (98,)\n",
      "2021-04-04 00:34:48,202 INFO sqlalchemy.engine.base.Engine SELECT \"Positions\".id AS \"Positions_id\", \"Positions\".upper AS \"Positions_upper\", \"Positions\".middle AS \"Positions_middle\", \"Positions\".lower AS \"Positions_lower\", \"Positions\".x AS \"Positions_x\", \"Positions\".y AS \"Positions_y\" \n",
      "FROM \"Positions\" \n",
      "WHERE \"Positions\".id = ?\n",
      "2021-04-04 00:34:48,203 INFO sqlalchemy.engine.base.Engine (99,)\n",
      "No given legend or incorrect format ! A default legend will be used\n",
      "Borehole geometry created successfully !\n",
      "2021-04-04 00:34:48,235 INFO sqlalchemy.engine.base.Engine INSERT INTO \"Positions\" (id, upper, middle, lower, x, y) VALUES (?, ?, ?, ?, ?, ?)\n",
      "2021-04-04 00:34:48,236 INFO sqlalchemy.engine.base.Engine ((100, 0.0, 0.0, 0.0, 153075.424, 122636.045), (101, 0.2, 0.2, 0.2, 153075.424, 122636.045), (102, 0.2, 0.2, 0.2, 153075.424, 122636.045), (103, 0.5, 0.5, 0.5, 153075.424, 122636.045), (104, 0.5, 0.5, 0.5, 153075.424, 122636.045), (105, 2.4, 2.4, 2.4, 153075.424, 122636.045), (106, 2.4, 2.4, 2.4, 153075.424, 122636.045), (107, 3.6, 3.6, 3.6, 153075.424, 122636.045), (108, 3.6, 3.6, 3.6, 153075.424, 122636.045), (109, 4.8, 4.8, 4.8, 153075.424, 122636.045))\n",
      "2021-04-04 00:34:48,238 INFO sqlalchemy.engine.base.Engine UPDATE \"Boreholes\" SET length=? WHERE \"Boreholes\".id = ?\n",
      "2021-04-04 00:34:48,238 INFO sqlalchemy.engine.base.Engine (3.0, 'F11M')\n",
      "2021-04-04 00:34:48,239 INFO sqlalchemy.engine.base.Engine INSERT INTO \"Boreholes\" (id, length, diameter) VALUES (?, ?, ?)\n",
      "2021-04-04 00:34:48,240 INFO sqlalchemy.engine.base.Engine ('F12M', 4.329000000000008, 0.041)\n",
      "2021-04-04 00:34:48,241 INFO sqlalchemy.engine.base.Engine INSERT INTO \"Intervals\" (id, borehole, interval_number, description, top_id, base_id) VALUES (?, ?, ?, ?, ?, ?)\n",
      "2021-04-04 00:34:48,242 INFO sqlalchemy.engine.base.Engine ((50, 'F12M', 0, 'Terre arable limoneuse', 100, 101), (51, 'F12M', 1, 'Remblais de déchets de construction avec brique ', 102, 103), (52, 'F12M', 2, \"Remblais noir avec présence de scories de taille centimétrique. Irrisation dans l'eau entre 1,9 et 2,4 m \", 104, 105), (53, 'F12M', 3, \"Remblais noir avec scories. Odeur forte naphtalène et d'hydrocarbures.  \", 106, 107), (54, 'F12M', 4, 'Interface remblais de scories/limons alluviaux argileux. Limons vers 4 m. ', 108, 109))\n",
      "2021-04-04 00:34:48,243 INFO sqlalchemy.engine.base.Engine COMMIT\n",
      "2021-04-04 00:34:48,246 INFO sqlalchemy.engine.base.Engine BEGIN (implicit)\n",
      "2021-04-04 00:34:48,246 INFO sqlalchemy.engine.base.Engine SELECT \"Boreholes\".id AS \"Boreholes_id\", \"Boreholes\".length AS \"Boreholes_length\", \"Boreholes\".diameter AS \"Boreholes_diameter\" \n",
      "FROM \"Boreholes\"\n",
      "2021-04-04 00:34:48,247 INFO sqlalchemy.engine.base.Engine ()\n",
      "2021-04-04 00:34:48,249 INFO sqlalchemy.engine.base.Engine SELECT \"Intervals\".id AS \"Intervals_id\", \"Intervals\".borehole AS \"Intervals_borehole\", \"Intervals\".interval_number AS \"Intervals_interval_number\", \"Intervals\".description AS \"Intervals_description\", \"Intervals\".top_id AS \"Intervals_top_id\", \"Intervals\".base_id AS \"Intervals_base_id\" \n",
      "FROM \"Intervals\" \n",
      "WHERE ? = \"Intervals\".borehole\n",
      "2021-04-04 00:34:48,250 INFO sqlalchemy.engine.base.Engine ('F12M',)\n",
      "2021-04-04 00:34:48,252 INFO sqlalchemy.engine.base.Engine SELECT \"Positions\".id AS \"Positions_id\", \"Positions\".upper AS \"Positions_upper\", \"Positions\".middle AS \"Positions_middle\", \"Positions\".lower AS \"Positions_lower\", \"Positions\".x AS \"Positions_x\", \"Positions\".y AS \"Positions_y\" \n",
      "FROM \"Positions\" \n",
      "WHERE \"Positions\".id = ?\n",
      "2021-04-04 00:34:48,252 INFO sqlalchemy.engine.base.Engine (100,)\n",
      "2021-04-04 00:34:48,254 INFO sqlalchemy.engine.base.Engine SELECT \"Positions\".id AS \"Positions_id\", \"Positions\".upper AS \"Positions_upper\", \"Positions\".middle AS \"Positions_middle\", \"Positions\".lower AS \"Positions_lower\", \"Positions\".x AS \"Positions_x\", \"Positions\".y AS \"Positions_y\" \n",
      "FROM \"Positions\" \n",
      "WHERE \"Positions\".id = ?\n",
      "2021-04-04 00:34:48,255 INFO sqlalchemy.engine.base.Engine (101,)\n",
      "2021-04-04 00:34:48,256 INFO sqlalchemy.engine.base.Engine SELECT \"Positions\".id AS \"Positions_id\", \"Positions\".upper AS \"Positions_upper\", \"Positions\".middle AS \"Positions_middle\", \"Positions\".lower AS \"Positions_lower\", \"Positions\".x AS \"Positions_x\", \"Positions\".y AS \"Positions_y\" \n",
      "FROM \"Positions\" \n",
      "WHERE \"Positions\".id = ?\n",
      "2021-04-04 00:34:48,257 INFO sqlalchemy.engine.base.Engine (102,)\n",
      "2021-04-04 00:34:48,258 INFO sqlalchemy.engine.base.Engine SELECT \"Positions\".id AS \"Positions_id\", \"Positions\".upper AS \"Positions_upper\", \"Positions\".middle AS \"Positions_middle\", \"Positions\".lower AS \"Positions_lower\", \"Positions\".x AS \"Positions_x\", \"Positions\".y AS \"Positions_y\" \n",
      "FROM \"Positions\" \n",
      "WHERE \"Positions\".id = ?\n",
      "2021-04-04 00:34:48,258 INFO sqlalchemy.engine.base.Engine (103,)\n",
      "2021-04-04 00:34:48,259 INFO sqlalchemy.engine.base.Engine SELECT \"Positions\".id AS \"Positions_id\", \"Positions\".upper AS \"Positions_upper\", \"Positions\".middle AS \"Positions_middle\", \"Positions\".lower AS \"Positions_lower\", \"Positions\".x AS \"Positions_x\", \"Positions\".y AS \"Positions_y\" \n",
      "FROM \"Positions\" \n",
      "WHERE \"Positions\".id = ?\n",
      "2021-04-04 00:34:48,260 INFO sqlalchemy.engine.base.Engine (104,)\n",
      "2021-04-04 00:34:48,261 INFO sqlalchemy.engine.base.Engine SELECT \"Positions\".id AS \"Positions_id\", \"Positions\".upper AS \"Positions_upper\", \"Positions\".middle AS \"Positions_middle\", \"Positions\".lower AS \"Positions_lower\", \"Positions\".x AS \"Positions_x\", \"Positions\".y AS \"Positions_y\" \n",
      "FROM \"Positions\" \n",
      "WHERE \"Positions\".id = ?\n",
      "2021-04-04 00:34:48,262 INFO sqlalchemy.engine.base.Engine (105,)\n",
      "2021-04-04 00:34:48,263 INFO sqlalchemy.engine.base.Engine SELECT \"Positions\".id AS \"Positions_id\", \"Positions\".upper AS \"Positions_upper\", \"Positions\".middle AS \"Positions_middle\", \"Positions\".lower AS \"Positions_lower\", \"Positions\".x AS \"Positions_x\", \"Positions\".y AS \"Positions_y\" \n",
      "FROM \"Positions\" \n",
      "WHERE \"Positions\".id = ?\n",
      "2021-04-04 00:34:48,264 INFO sqlalchemy.engine.base.Engine (106,)\n",
      "2021-04-04 00:34:48,266 INFO sqlalchemy.engine.base.Engine SELECT \"Positions\".id AS \"Positions_id\", \"Positions\".upper AS \"Positions_upper\", \"Positions\".middle AS \"Positions_middle\", \"Positions\".lower AS \"Positions_lower\", \"Positions\".x AS \"Positions_x\", \"Positions\".y AS \"Positions_y\" \n",
      "FROM \"Positions\" \n",
      "WHERE \"Positions\".id = ?\n",
      "2021-04-04 00:34:48,266 INFO sqlalchemy.engine.base.Engine (107,)\n",
      "2021-04-04 00:34:48,268 INFO sqlalchemy.engine.base.Engine SELECT \"Positions\".id AS \"Positions_id\", \"Positions\".upper AS \"Positions_upper\", \"Positions\".middle AS \"Positions_middle\", \"Positions\".lower AS \"Positions_lower\", \"Positions\".x AS \"Positions_x\", \"Positions\".y AS \"Positions_y\" \n",
      "FROM \"Positions\" \n",
      "WHERE \"Positions\".id = ?\n",
      "2021-04-04 00:34:48,269 INFO sqlalchemy.engine.base.Engine (108,)\n",
      "2021-04-04 00:34:48,270 INFO sqlalchemy.engine.base.Engine SELECT \"Positions\".id AS \"Positions_id\", \"Positions\".upper AS \"Positions_upper\", \"Positions\".middle AS \"Positions_middle\", \"Positions\".lower AS \"Positions_lower\", \"Positions\".x AS \"Positions_x\", \"Positions\".y AS \"Positions_y\" \n",
      "FROM \"Positions\" \n",
      "WHERE \"Positions\".id = ?\n",
      "2021-04-04 00:34:48,270 INFO sqlalchemy.engine.base.Engine (109,)\n",
      "No given legend or incorrect format ! A default legend will be used\n",
      "Borehole geometry created successfully !\n",
      "2021-04-04 00:34:48,305 INFO sqlalchemy.engine.base.Engine INSERT INTO \"Positions\" (id, upper, middle, lower, x, y) VALUES (?, ?, ?, ?, ?, ?)\n",
      "2021-04-04 00:34:48,305 INFO sqlalchemy.engine.base.Engine ((110, 0.0, 0.0, 0.0, 153075.424, 122636.045), (111, 0.3, 0.3, 0.3, 153075.424, 122636.045), (112, 0.3, 0.3, 0.3, 153075.424, 122636.045), (113, 4.0, 4.0, 4.0, 153075.424, 122636.045), (114, 4.0, 4.0, 4.0, 153075.424, 122636.045), (115, 4.8, 4.8, 4.8, 153075.424, 122636.045))\n",
      "2021-04-04 00:34:48,307 INFO sqlalchemy.engine.base.Engine UPDATE \"Boreholes\" SET length=? WHERE \"Boreholes\".id = ?\n"
     ]
    },
    {
     "name": "stdout",
     "output_type": "stream",
     "text": [
      "2021-04-04 00:34:48,307 INFO sqlalchemy.engine.base.Engine (4.8, 'F12M')\n",
      "2021-04-04 00:34:48,308 INFO sqlalchemy.engine.base.Engine INSERT INTO \"Boreholes\" (id, length, diameter) VALUES (?, ?, ?)\n",
      "2021-04-04 00:34:48,309 INFO sqlalchemy.engine.base.Engine ('F13M', 4.329000000000008, 0.041)\n",
      "2021-04-04 00:34:48,310 INFO sqlalchemy.engine.base.Engine INSERT INTO \"Intervals\" (id, borehole, interval_number, description, top_id, base_id) VALUES (?, ?, ?, ?, ?, ?)\n",
      "2021-04-04 00:34:48,310 INFO sqlalchemy.engine.base.Engine ((55, 'F13M', 0, 'Remblais pierreux de taille centimétrique à décimétrique ', 110, 111), (56, 'F13M', 1, 'Remblais divers hétérogène avec charge orange de déchets de construction de texture graveleuse. A la base des remblais, strate noire 10-20 cm de type cendrées ', 112, 113), (57, 'F13M', 2, \"Alluvions limoneux argileux noir puis devient verdâtre. Pas d'odeur.\", 114, 115))\n",
      "2021-04-04 00:34:48,312 INFO sqlalchemy.engine.base.Engine COMMIT\n",
      "2021-04-04 00:34:48,317 INFO sqlalchemy.engine.base.Engine BEGIN (implicit)\n",
      "2021-04-04 00:34:48,318 INFO sqlalchemy.engine.base.Engine SELECT \"Boreholes\".id AS \"Boreholes_id\", \"Boreholes\".length AS \"Boreholes_length\", \"Boreholes\".diameter AS \"Boreholes_diameter\" \n",
      "FROM \"Boreholes\"\n",
      "2021-04-04 00:34:48,319 INFO sqlalchemy.engine.base.Engine ()\n",
      "2021-04-04 00:34:48,322 INFO sqlalchemy.engine.base.Engine SELECT \"Intervals\".id AS \"Intervals_id\", \"Intervals\".borehole AS \"Intervals_borehole\", \"Intervals\".interval_number AS \"Intervals_interval_number\", \"Intervals\".description AS \"Intervals_description\", \"Intervals\".top_id AS \"Intervals_top_id\", \"Intervals\".base_id AS \"Intervals_base_id\" \n",
      "FROM \"Intervals\" \n",
      "WHERE ? = \"Intervals\".borehole\n",
      "2021-04-04 00:34:48,322 INFO sqlalchemy.engine.base.Engine ('F13M',)\n",
      "2021-04-04 00:34:48,324 INFO sqlalchemy.engine.base.Engine SELECT \"Positions\".id AS \"Positions_id\", \"Positions\".upper AS \"Positions_upper\", \"Positions\".middle AS \"Positions_middle\", \"Positions\".lower AS \"Positions_lower\", \"Positions\".x AS \"Positions_x\", \"Positions\".y AS \"Positions_y\" \n",
      "FROM \"Positions\" \n",
      "WHERE \"Positions\".id = ?\n",
      "2021-04-04 00:34:48,325 INFO sqlalchemy.engine.base.Engine (110,)\n",
      "2021-04-04 00:34:48,327 INFO sqlalchemy.engine.base.Engine SELECT \"Positions\".id AS \"Positions_id\", \"Positions\".upper AS \"Positions_upper\", \"Positions\".middle AS \"Positions_middle\", \"Positions\".lower AS \"Positions_lower\", \"Positions\".x AS \"Positions_x\", \"Positions\".y AS \"Positions_y\" \n",
      "FROM \"Positions\" \n",
      "WHERE \"Positions\".id = ?\n",
      "2021-04-04 00:34:48,328 INFO sqlalchemy.engine.base.Engine (111,)\n",
      "2021-04-04 00:34:48,330 INFO sqlalchemy.engine.base.Engine SELECT \"Positions\".id AS \"Positions_id\", \"Positions\".upper AS \"Positions_upper\", \"Positions\".middle AS \"Positions_middle\", \"Positions\".lower AS \"Positions_lower\", \"Positions\".x AS \"Positions_x\", \"Positions\".y AS \"Positions_y\" \n",
      "FROM \"Positions\" \n",
      "WHERE \"Positions\".id = ?\n",
      "2021-04-04 00:34:48,330 INFO sqlalchemy.engine.base.Engine (112,)\n",
      "2021-04-04 00:34:48,332 INFO sqlalchemy.engine.base.Engine SELECT \"Positions\".id AS \"Positions_id\", \"Positions\".upper AS \"Positions_upper\", \"Positions\".middle AS \"Positions_middle\", \"Positions\".lower AS \"Positions_lower\", \"Positions\".x AS \"Positions_x\", \"Positions\".y AS \"Positions_y\" \n",
      "FROM \"Positions\" \n",
      "WHERE \"Positions\".id = ?\n",
      "2021-04-04 00:34:48,333 INFO sqlalchemy.engine.base.Engine (113,)\n",
      "2021-04-04 00:34:48,335 INFO sqlalchemy.engine.base.Engine SELECT \"Positions\".id AS \"Positions_id\", \"Positions\".upper AS \"Positions_upper\", \"Positions\".middle AS \"Positions_middle\", \"Positions\".lower AS \"Positions_lower\", \"Positions\".x AS \"Positions_x\", \"Positions\".y AS \"Positions_y\" \n",
      "FROM \"Positions\" \n",
      "WHERE \"Positions\".id = ?\n",
      "2021-04-04 00:34:48,336 INFO sqlalchemy.engine.base.Engine (114,)\n",
      "2021-04-04 00:34:48,337 INFO sqlalchemy.engine.base.Engine SELECT \"Positions\".id AS \"Positions_id\", \"Positions\".upper AS \"Positions_upper\", \"Positions\".middle AS \"Positions_middle\", \"Positions\".lower AS \"Positions_lower\", \"Positions\".x AS \"Positions_x\", \"Positions\".y AS \"Positions_y\" \n",
      "FROM \"Positions\" \n",
      "WHERE \"Positions\".id = ?\n",
      "2021-04-04 00:34:48,337 INFO sqlalchemy.engine.base.Engine (115,)\n",
      "No given legend or incorrect format ! A default legend will be used\n",
      "Borehole geometry created successfully !\n",
      "2021-04-04 00:34:48,375 INFO sqlalchemy.engine.base.Engine UPDATE \"Boreholes\" SET length=? WHERE \"Boreholes\".id = ?\n",
      "2021-04-04 00:34:48,376 INFO sqlalchemy.engine.base.Engine (4.8, 'F13M')\n",
      "2021-04-04 00:34:48,377 INFO sqlalchemy.engine.base.Engine INSERT INTO \"Boreholes\" (id, length, diameter) VALUES (?, ?, ?)\n",
      "2021-04-04 00:34:48,378 INFO sqlalchemy.engine.base.Engine ('F14M', 4.329000000000008, 0.041)\n",
      "2021-04-04 00:34:48,378 INFO sqlalchemy.engine.base.Engine INSERT INTO \"Positions\" (id, upper, middle, lower, x, y) VALUES (?, ?, ?, ?, ?, ?)\n",
      "2021-04-04 00:34:48,379 INFO sqlalchemy.engine.base.Engine ((116, 0.0, 0.0, 0.0, 153075.424, 122636.045), (117, 0.4, 0.4, 0.4, 153075.424, 122636.045), (118, 0.4, 0.4, 0.4, 153075.424, 122636.045), (119, 1.2, 1.2, 1.2, 153075.424, 122636.045), (120, 1.2, 1.2, 1.2, 153075.424, 122636.045), (121, 2.8, 2.8, 2.8, 153075.424, 122636.045))\n",
      "2021-04-04 00:34:48,380 INFO sqlalchemy.engine.base.Engine INSERT INTO \"Intervals\" (id, borehole, interval_number, description, top_id, base_id) VALUES (?, ?, ?, ?, ?, ?)\n",
      "2021-04-04 00:34:48,380 INFO sqlalchemy.engine.base.Engine ((58, 'F14M', 0, 'Remblais terreux de texture sableuse brun frais', 116, 117), (59, 'F14M', 1, 'Remblais sableux ocre/orange', 118, 119), (60, 'F14M', 2, 'Remblais à texture limoneuse brun bloqué à 2,8 m sur de la caillasse', 120, 121))\n",
      "2021-04-04 00:34:48,381 INFO sqlalchemy.engine.base.Engine COMMIT\n",
      "2021-04-04 00:34:48,385 INFO sqlalchemy.engine.base.Engine BEGIN (implicit)\n",
      "2021-04-04 00:34:48,386 INFO sqlalchemy.engine.base.Engine SELECT \"Boreholes\".id AS \"Boreholes_id\", \"Boreholes\".length AS \"Boreholes_length\", \"Boreholes\".diameter AS \"Boreholes_diameter\" \n",
      "FROM \"Boreholes\"\n",
      "2021-04-04 00:34:48,387 INFO sqlalchemy.engine.base.Engine ()\n",
      "2021-04-04 00:34:48,390 INFO sqlalchemy.engine.base.Engine SELECT \"Intervals\".id AS \"Intervals_id\", \"Intervals\".borehole AS \"Intervals_borehole\", \"Intervals\".interval_number AS \"Intervals_interval_number\", \"Intervals\".description AS \"Intervals_description\", \"Intervals\".top_id AS \"Intervals_top_id\", \"Intervals\".base_id AS \"Intervals_base_id\" \n",
      "FROM \"Intervals\" \n",
      "WHERE ? = \"Intervals\".borehole\n",
      "2021-04-04 00:34:48,390 INFO sqlalchemy.engine.base.Engine ('F14M',)\n",
      "2021-04-04 00:34:48,392 INFO sqlalchemy.engine.base.Engine SELECT \"Positions\".id AS \"Positions_id\", \"Positions\".upper AS \"Positions_upper\", \"Positions\".middle AS \"Positions_middle\", \"Positions\".lower AS \"Positions_lower\", \"Positions\".x AS \"Positions_x\", \"Positions\".y AS \"Positions_y\" \n",
      "FROM \"Positions\" \n",
      "WHERE \"Positions\".id = ?\n",
      "2021-04-04 00:34:48,393 INFO sqlalchemy.engine.base.Engine (116,)\n",
      "2021-04-04 00:34:48,394 INFO sqlalchemy.engine.base.Engine SELECT \"Positions\".id AS \"Positions_id\", \"Positions\".upper AS \"Positions_upper\", \"Positions\".middle AS \"Positions_middle\", \"Positions\".lower AS \"Positions_lower\", \"Positions\".x AS \"Positions_x\", \"Positions\".y AS \"Positions_y\" \n",
      "FROM \"Positions\" \n",
      "WHERE \"Positions\".id = ?\n",
      "2021-04-04 00:34:48,395 INFO sqlalchemy.engine.base.Engine (117,)\n",
      "2021-04-04 00:34:48,396 INFO sqlalchemy.engine.base.Engine SELECT \"Positions\".id AS \"Positions_id\", \"Positions\".upper AS \"Positions_upper\", \"Positions\".middle AS \"Positions_middle\", \"Positions\".lower AS \"Positions_lower\", \"Positions\".x AS \"Positions_x\", \"Positions\".y AS \"Positions_y\" \n",
      "FROM \"Positions\" \n",
      "WHERE \"Positions\".id = ?\n",
      "2021-04-04 00:34:48,397 INFO sqlalchemy.engine.base.Engine (118,)\n",
      "2021-04-04 00:34:48,398 INFO sqlalchemy.engine.base.Engine SELECT \"Positions\".id AS \"Positions_id\", \"Positions\".upper AS \"Positions_upper\", \"Positions\".middle AS \"Positions_middle\", \"Positions\".lower AS \"Positions_lower\", \"Positions\".x AS \"Positions_x\", \"Positions\".y AS \"Positions_y\" \n",
      "FROM \"Positions\" \n",
      "WHERE \"Positions\".id = ?\n",
      "2021-04-04 00:34:48,399 INFO sqlalchemy.engine.base.Engine (119,)\n",
      "2021-04-04 00:34:48,400 INFO sqlalchemy.engine.base.Engine SELECT \"Positions\".id AS \"Positions_id\", \"Positions\".upper AS \"Positions_upper\", \"Positions\".middle AS \"Positions_middle\", \"Positions\".lower AS \"Positions_lower\", \"Positions\".x AS \"Positions_x\", \"Positions\".y AS \"Positions_y\" \n",
      "FROM \"Positions\" \n",
      "WHERE \"Positions\".id = ?\n"
     ]
    },
    {
     "name": "stdout",
     "output_type": "stream",
     "text": [
      "2021-04-04 00:34:48,401 INFO sqlalchemy.engine.base.Engine (120,)\n",
      "2021-04-04 00:34:48,402 INFO sqlalchemy.engine.base.Engine SELECT \"Positions\".id AS \"Positions_id\", \"Positions\".upper AS \"Positions_upper\", \"Positions\".middle AS \"Positions_middle\", \"Positions\".lower AS \"Positions_lower\", \"Positions\".x AS \"Positions_x\", \"Positions\".y AS \"Positions_y\" \n",
      "FROM \"Positions\" \n",
      "WHERE \"Positions\".id = ?\n",
      "2021-04-04 00:34:48,402 INFO sqlalchemy.engine.base.Engine (121,)\n",
      "No given legend or incorrect format ! A default legend will be used\n",
      "Borehole geometry created successfully !\n",
      "2021-04-04 00:34:48,444 INFO sqlalchemy.engine.base.Engine INSERT INTO \"Positions\" (id, upper, middle, lower, x, y) VALUES (?, ?, ?, ?, ?, ?)\n",
      "2021-04-04 00:34:48,445 INFO sqlalchemy.engine.base.Engine ((122, 0.0, 0.0, 0.0, 152883.878158, 122606.5786), (123, 0.8, 0.8, 0.8, 152883.878158, 122606.5786))\n",
      "2021-04-04 00:34:48,446 INFO sqlalchemy.engine.base.Engine UPDATE \"Boreholes\" SET length=? WHERE \"Boreholes\".id = ?\n",
      "2021-04-04 00:34:48,447 INFO sqlalchemy.engine.base.Engine (2.8, 'F14M')\n",
      "2021-04-04 00:34:48,448 INFO sqlalchemy.engine.base.Engine INSERT INTO \"Boreholes\" (id, length, diameter) VALUES (?, ?, ?)\n",
      "2021-04-04 00:34:48,449 INFO sqlalchemy.engine.base.Engine ('F15aM', nan, 1.0)\n",
      "2021-04-04 00:34:48,450 INFO sqlalchemy.engine.base.Engine INSERT INTO \"Intervals\" (id, borehole, interval_number, description, top_id, base_id) VALUES (?, ?, ?, ?, ?, ?)\n",
      "2021-04-04 00:34:48,450 INFO sqlalchemy.engine.base.Engine (61, 'F15aM', 0, \"Remblais divers hétérogène avec charge orange de déchets de construction et charge de type laitier et scories de couleur gris foncé. Pas d'odeur. Bloqué à 0,8 m. \", 122, 123)\n",
      "2021-04-04 00:34:48,452 INFO sqlalchemy.engine.base.Engine COMMIT\n",
      "2021-04-04 00:34:48,456 INFO sqlalchemy.engine.base.Engine BEGIN (implicit)\n",
      "2021-04-04 00:34:48,457 INFO sqlalchemy.engine.base.Engine SELECT \"Boreholes\".id AS \"Boreholes_id\", \"Boreholes\".length AS \"Boreholes_length\", \"Boreholes\".diameter AS \"Boreholes_diameter\" \n",
      "FROM \"Boreholes\"\n",
      "2021-04-04 00:34:48,457 INFO sqlalchemy.engine.base.Engine ()\n",
      "2021-04-04 00:34:48,458 INFO sqlalchemy.engine.base.Engine SELECT \"Intervals\".id AS \"Intervals_id\", \"Intervals\".borehole AS \"Intervals_borehole\", \"Intervals\".interval_number AS \"Intervals_interval_number\", \"Intervals\".description AS \"Intervals_description\", \"Intervals\".top_id AS \"Intervals_top_id\", \"Intervals\".base_id AS \"Intervals_base_id\" \n",
      "FROM \"Intervals\" \n",
      "WHERE ? = \"Intervals\".borehole\n",
      "2021-04-04 00:34:48,459 INFO sqlalchemy.engine.base.Engine ('F15aM',)\n",
      "2021-04-04 00:34:48,460 INFO sqlalchemy.engine.base.Engine SELECT \"Positions\".id AS \"Positions_id\", \"Positions\".upper AS \"Positions_upper\", \"Positions\".middle AS \"Positions_middle\", \"Positions\".lower AS \"Positions_lower\", \"Positions\".x AS \"Positions_x\", \"Positions\".y AS \"Positions_y\" \n",
      "FROM \"Positions\" \n",
      "WHERE \"Positions\".id = ?\n",
      "2021-04-04 00:34:48,460 INFO sqlalchemy.engine.base.Engine (122,)\n",
      "2021-04-04 00:34:48,461 INFO sqlalchemy.engine.base.Engine SELECT \"Positions\".id AS \"Positions_id\", \"Positions\".upper AS \"Positions_upper\", \"Positions\".middle AS \"Positions_middle\", \"Positions\".lower AS \"Positions_lower\", \"Positions\".x AS \"Positions_x\", \"Positions\".y AS \"Positions_y\" \n",
      "FROM \"Positions\" \n",
      "WHERE \"Positions\".id = ?\n",
      "2021-04-04 00:34:48,461 INFO sqlalchemy.engine.base.Engine (123,)\n",
      "No given legend or incorrect format ! A default legend will be used\n",
      "Borehole geometry created successfully !\n",
      "2021-04-04 00:34:48,492 INFO sqlalchemy.engine.base.Engine INSERT INTO \"Positions\" (id, upper, middle, lower, x, y) VALUES (?, ?, ?, ?, ?, ?)\n",
      "2021-04-04 00:34:48,493 INFO sqlalchemy.engine.base.Engine ((124, 0.0, 0.0, 0.0, 152883.878158, 122606.5786), (125, 0.5, 0.5, 0.5, 152883.878158, 122606.5786))\n",
      "2021-04-04 00:34:48,494 INFO sqlalchemy.engine.base.Engine UPDATE \"Boreholes\" SET length=? WHERE \"Boreholes\".id = ?\n",
      "2021-04-04 00:34:48,495 INFO sqlalchemy.engine.base.Engine (0.8, 'F15aM')\n",
      "2021-04-04 00:34:48,496 INFO sqlalchemy.engine.base.Engine INSERT INTO \"Boreholes\" (id, length, diameter) VALUES (?, ?, ?)\n",
      "2021-04-04 00:34:48,496 INFO sqlalchemy.engine.base.Engine (\"F15a'M\", nan, 1.0)\n",
      "2021-04-04 00:34:48,497 INFO sqlalchemy.engine.base.Engine INSERT INTO \"Intervals\" (id, borehole, interval_number, description, top_id, base_id) VALUES (?, ?, ?, ?, ?, ?)\n",
      "2021-04-04 00:34:48,498 INFO sqlalchemy.engine.base.Engine (62, \"F15a'M\", 0, 'Remblais divers hétérogène. Bloqué à 0,5 m sur béton.', 124, 125)\n",
      "2021-04-04 00:34:48,499 INFO sqlalchemy.engine.base.Engine COMMIT\n",
      "2021-04-04 00:34:48,503 INFO sqlalchemy.engine.base.Engine BEGIN (implicit)\n",
      "2021-04-04 00:34:48,504 INFO sqlalchemy.engine.base.Engine SELECT \"Boreholes\".id AS \"Boreholes_id\", \"Boreholes\".length AS \"Boreholes_length\", \"Boreholes\".diameter AS \"Boreholes_diameter\" \n",
      "FROM \"Boreholes\"\n",
      "2021-04-04 00:34:48,505 INFO sqlalchemy.engine.base.Engine ()\n",
      "2021-04-04 00:34:48,507 INFO sqlalchemy.engine.base.Engine SELECT \"Intervals\".id AS \"Intervals_id\", \"Intervals\".borehole AS \"Intervals_borehole\", \"Intervals\".interval_number AS \"Intervals_interval_number\", \"Intervals\".description AS \"Intervals_description\", \"Intervals\".top_id AS \"Intervals_top_id\", \"Intervals\".base_id AS \"Intervals_base_id\" \n",
      "FROM \"Intervals\" \n",
      "WHERE ? = \"Intervals\".borehole\n",
      "2021-04-04 00:34:48,507 INFO sqlalchemy.engine.base.Engine (\"F15a'M\",)\n",
      "2021-04-04 00:34:48,508 INFO sqlalchemy.engine.base.Engine SELECT \"Positions\".id AS \"Positions_id\", \"Positions\".upper AS \"Positions_upper\", \"Positions\".middle AS \"Positions_middle\", \"Positions\".lower AS \"Positions_lower\", \"Positions\".x AS \"Positions_x\", \"Positions\".y AS \"Positions_y\" \n",
      "FROM \"Positions\" \n",
      "WHERE \"Positions\".id = ?\n",
      "2021-04-04 00:34:48,509 INFO sqlalchemy.engine.base.Engine (124,)\n",
      "2021-04-04 00:34:48,510 INFO sqlalchemy.engine.base.Engine SELECT \"Positions\".id AS \"Positions_id\", \"Positions\".upper AS \"Positions_upper\", \"Positions\".middle AS \"Positions_middle\", \"Positions\".lower AS \"Positions_lower\", \"Positions\".x AS \"Positions_x\", \"Positions\".y AS \"Positions_y\" \n",
      "FROM \"Positions\" \n",
      "WHERE \"Positions\".id = ?\n",
      "2021-04-04 00:34:48,511 INFO sqlalchemy.engine.base.Engine (125,)\n",
      "No given legend or incorrect format ! A default legend will be used\n",
      "Borehole geometry created successfully !\n",
      "2021-04-04 00:34:48,543 INFO sqlalchemy.engine.base.Engine UPDATE \"Boreholes\" SET length=? WHERE \"Boreholes\".id = ?\n",
      "2021-04-04 00:34:48,544 INFO sqlalchemy.engine.base.Engine (0.5, \"F15a'M\")\n",
      "2021-04-04 00:34:48,545 INFO sqlalchemy.engine.base.Engine INSERT INTO \"Boreholes\" (id, length, diameter) VALUES (?, ?, ?)\n",
      "2021-04-04 00:34:48,546 INFO sqlalchemy.engine.base.Engine ('F15bM', nan, 1.0)\n",
      "2021-04-04 00:34:48,547 INFO sqlalchemy.engine.base.Engine INSERT INTO \"Positions\" (id, upper, middle, lower, x, y) VALUES (?, ?, ?, ?, ?, ?)\n",
      "2021-04-04 00:34:48,548 INFO sqlalchemy.engine.base.Engine ((126, 0.0, 0.0, 0.0, 152883.878158, 122606.5786), (127, 2.4, 2.4, 2.4, 152883.878158, 122606.5786), (128, 2.4, 2.4, 2.4, 152883.878158, 122606.5786), (129, 4.0, 4.0, 4.0, 152883.878158, 122606.5786), (130, 4.0, 4.0, 4.0, 152883.878158, 122606.5786), (131, 6.0, 6.0, 6.0, 152883.878158, 122606.5786))\n",
      "2021-04-04 00:34:48,549 INFO sqlalchemy.engine.base.Engine INSERT INTO \"Intervals\" (id, borehole, interval_number, description, top_id, base_id) VALUES (?, ?, ?, ?, ?, ?)\n",
      "2021-04-04 00:34:48,549 INFO sqlalchemy.engine.base.Engine ((63, 'F15bM', 0, 'Remblais limoneux gris foncé puis remblais noir avec scories. ', 126, 127), (64, 'F15bM', 1, 'Remblais de couleur noir avec charge de type scories. A la base du liner, limon en mélange avec caillasse. ', 128, 129), (65, 'F15bM', 2, \"Vers 4 m, limon argileux verdâtre puis brun. Entre 4,6 m et 4,8 m strate graveleuse avec irrisation et pollution nette de l'eau souterraine.\", 130, 131))\n",
      "2021-04-04 00:34:48,550 INFO sqlalchemy.engine.base.Engine COMMIT\n",
      "2021-04-04 00:34:48,554 INFO sqlalchemy.engine.base.Engine BEGIN (implicit)\n",
      "2021-04-04 00:34:48,555 INFO sqlalchemy.engine.base.Engine SELECT \"Boreholes\".id AS \"Boreholes_id\", \"Boreholes\".length AS \"Boreholes_length\", \"Boreholes\".diameter AS \"Boreholes_diameter\" \n",
      "FROM \"Boreholes\"\n",
      "2021-04-04 00:34:48,556 INFO sqlalchemy.engine.base.Engine ()\n",
      "2021-04-04 00:34:48,557 INFO sqlalchemy.engine.base.Engine SELECT \"Intervals\".id AS \"Intervals_id\", \"Intervals\".borehole AS \"Intervals_borehole\", \"Intervals\".interval_number AS \"Intervals_interval_number\", \"Intervals\".description AS \"Intervals_description\", \"Intervals\".top_id AS \"Intervals_top_id\", \"Intervals\".base_id AS \"Intervals_base_id\" \n",
      "FROM \"Intervals\" \n",
      "WHERE ? = \"Intervals\".borehole\n"
     ]
    },
    {
     "name": "stdout",
     "output_type": "stream",
     "text": [
      "2021-04-04 00:34:48,558 INFO sqlalchemy.engine.base.Engine ('F15bM',)\n",
      "2021-04-04 00:34:48,559 INFO sqlalchemy.engine.base.Engine SELECT \"Positions\".id AS \"Positions_id\", \"Positions\".upper AS \"Positions_upper\", \"Positions\".middle AS \"Positions_middle\", \"Positions\".lower AS \"Positions_lower\", \"Positions\".x AS \"Positions_x\", \"Positions\".y AS \"Positions_y\" \n",
      "FROM \"Positions\" \n",
      "WHERE \"Positions\".id = ?\n",
      "2021-04-04 00:34:48,560 INFO sqlalchemy.engine.base.Engine (126,)\n",
      "2021-04-04 00:34:48,561 INFO sqlalchemy.engine.base.Engine SELECT \"Positions\".id AS \"Positions_id\", \"Positions\".upper AS \"Positions_upper\", \"Positions\".middle AS \"Positions_middle\", \"Positions\".lower AS \"Positions_lower\", \"Positions\".x AS \"Positions_x\", \"Positions\".y AS \"Positions_y\" \n",
      "FROM \"Positions\" \n",
      "WHERE \"Positions\".id = ?\n",
      "2021-04-04 00:34:48,562 INFO sqlalchemy.engine.base.Engine (127,)\n",
      "2021-04-04 00:34:48,563 INFO sqlalchemy.engine.base.Engine SELECT \"Positions\".id AS \"Positions_id\", \"Positions\".upper AS \"Positions_upper\", \"Positions\".middle AS \"Positions_middle\", \"Positions\".lower AS \"Positions_lower\", \"Positions\".x AS \"Positions_x\", \"Positions\".y AS \"Positions_y\" \n",
      "FROM \"Positions\" \n",
      "WHERE \"Positions\".id = ?\n",
      "2021-04-04 00:34:48,564 INFO sqlalchemy.engine.base.Engine (128,)\n",
      "2021-04-04 00:34:48,565 INFO sqlalchemy.engine.base.Engine SELECT \"Positions\".id AS \"Positions_id\", \"Positions\".upper AS \"Positions_upper\", \"Positions\".middle AS \"Positions_middle\", \"Positions\".lower AS \"Positions_lower\", \"Positions\".x AS \"Positions_x\", \"Positions\".y AS \"Positions_y\" \n",
      "FROM \"Positions\" \n",
      "WHERE \"Positions\".id = ?\n",
      "2021-04-04 00:34:48,565 INFO sqlalchemy.engine.base.Engine (129,)\n",
      "2021-04-04 00:34:48,567 INFO sqlalchemy.engine.base.Engine SELECT \"Positions\".id AS \"Positions_id\", \"Positions\".upper AS \"Positions_upper\", \"Positions\".middle AS \"Positions_middle\", \"Positions\".lower AS \"Positions_lower\", \"Positions\".x AS \"Positions_x\", \"Positions\".y AS \"Positions_y\" \n",
      "FROM \"Positions\" \n",
      "WHERE \"Positions\".id = ?\n",
      "2021-04-04 00:34:48,567 INFO sqlalchemy.engine.base.Engine (130,)\n",
      "2021-04-04 00:34:48,569 INFO sqlalchemy.engine.base.Engine SELECT \"Positions\".id AS \"Positions_id\", \"Positions\".upper AS \"Positions_upper\", \"Positions\".middle AS \"Positions_middle\", \"Positions\".lower AS \"Positions_lower\", \"Positions\".x AS \"Positions_x\", \"Positions\".y AS \"Positions_y\" \n",
      "FROM \"Positions\" \n",
      "WHERE \"Positions\".id = ?\n",
      "2021-04-04 00:34:48,569 INFO sqlalchemy.engine.base.Engine (131,)\n",
      "No given legend or incorrect format ! A default legend will be used\n",
      "Borehole geometry created successfully !\n",
      "2021-04-04 00:34:48,602 INFO sqlalchemy.engine.base.Engine INSERT INTO \"Positions\" (id, upper, middle, lower, x, y) VALUES (?, ?, ?, ?, ?, ?)\n",
      "2021-04-04 00:34:48,602 INFO sqlalchemy.engine.base.Engine ((132, 0.0, 0.0, 0.0, 152897.30742700002, 122614.980476), (133, 2.4, 2.4, 2.4, 152897.30742700002, 122614.980476), (134, 2.4, 2.4, 2.4, 152897.30742700002, 122614.980476), (135, 4.8, 4.8, 4.8, 152897.30742700002, 122614.980476))\n",
      "2021-04-04 00:34:48,603 INFO sqlalchemy.engine.base.Engine UPDATE \"Boreholes\" SET length=? WHERE \"Boreholes\".id = ?\n",
      "2021-04-04 00:34:48,604 INFO sqlalchemy.engine.base.Engine (6.0, 'F15bM')\n",
      "2021-04-04 00:34:48,605 INFO sqlalchemy.engine.base.Engine INSERT INTO \"Boreholes\" (id, length, diameter) VALUES (?, ?, ?)\n",
      "2021-04-04 00:34:48,605 INFO sqlalchemy.engine.base.Engine ('F16M', 6.0, 0.041)\n",
      "2021-04-04 00:34:48,606 INFO sqlalchemy.engine.base.Engine INSERT INTO \"Intervals\" (id, borehole, interval_number, description, top_id, base_id) VALUES (?, ?, ?, ?, ?, ?)\n",
      "2021-04-04 00:34:48,607 INFO sqlalchemy.engine.base.Engine ((66, 'F16M', 0, \"Remblais gris foncé/noir avec charge caillouteuse. Entre 0 et 1,2 m odeur d'égout. \", 132, 133), (67, 'F16M', 1, \"Remblais gris foncé avec charge centimétrique à décimétrique - présence d'eau - signe de pollution à la base du liner \", 134, 135))\n",
      "2021-04-04 00:34:48,608 INFO sqlalchemy.engine.base.Engine COMMIT\n",
      "2021-04-04 00:34:48,611 INFO sqlalchemy.engine.base.Engine BEGIN (implicit)\n",
      "2021-04-04 00:34:48,612 INFO sqlalchemy.engine.base.Engine SELECT \"Boreholes\".id AS \"Boreholes_id\", \"Boreholes\".length AS \"Boreholes_length\", \"Boreholes\".diameter AS \"Boreholes_diameter\" \n",
      "FROM \"Boreholes\"\n",
      "2021-04-04 00:34:48,613 INFO sqlalchemy.engine.base.Engine ()\n",
      "2021-04-04 00:34:48,615 INFO sqlalchemy.engine.base.Engine SELECT \"Intervals\".id AS \"Intervals_id\", \"Intervals\".borehole AS \"Intervals_borehole\", \"Intervals\".interval_number AS \"Intervals_interval_number\", \"Intervals\".description AS \"Intervals_description\", \"Intervals\".top_id AS \"Intervals_top_id\", \"Intervals\".base_id AS \"Intervals_base_id\" \n",
      "FROM \"Intervals\" \n",
      "WHERE ? = \"Intervals\".borehole\n",
      "2021-04-04 00:34:48,616 INFO sqlalchemy.engine.base.Engine ('F16M',)\n",
      "2021-04-04 00:34:48,618 INFO sqlalchemy.engine.base.Engine SELECT \"Positions\".id AS \"Positions_id\", \"Positions\".upper AS \"Positions_upper\", \"Positions\".middle AS \"Positions_middle\", \"Positions\".lower AS \"Positions_lower\", \"Positions\".x AS \"Positions_x\", \"Positions\".y AS \"Positions_y\" \n",
      "FROM \"Positions\" \n",
      "WHERE \"Positions\".id = ?\n",
      "2021-04-04 00:34:48,619 INFO sqlalchemy.engine.base.Engine (132,)\n",
      "2021-04-04 00:34:48,620 INFO sqlalchemy.engine.base.Engine SELECT \"Positions\".id AS \"Positions_id\", \"Positions\".upper AS \"Positions_upper\", \"Positions\".middle AS \"Positions_middle\", \"Positions\".lower AS \"Positions_lower\", \"Positions\".x AS \"Positions_x\", \"Positions\".y AS \"Positions_y\" \n",
      "FROM \"Positions\" \n",
      "WHERE \"Positions\".id = ?\n",
      "2021-04-04 00:34:48,621 INFO sqlalchemy.engine.base.Engine (133,)\n",
      "2021-04-04 00:34:48,622 INFO sqlalchemy.engine.base.Engine SELECT \"Positions\".id AS \"Positions_id\", \"Positions\".upper AS \"Positions_upper\", \"Positions\".middle AS \"Positions_middle\", \"Positions\".lower AS \"Positions_lower\", \"Positions\".x AS \"Positions_x\", \"Positions\".y AS \"Positions_y\" \n",
      "FROM \"Positions\" \n",
      "WHERE \"Positions\".id = ?\n",
      "2021-04-04 00:34:48,623 INFO sqlalchemy.engine.base.Engine (134,)\n",
      "2021-04-04 00:34:48,624 INFO sqlalchemy.engine.base.Engine SELECT \"Positions\".id AS \"Positions_id\", \"Positions\".upper AS \"Positions_upper\", \"Positions\".middle AS \"Positions_middle\", \"Positions\".lower AS \"Positions_lower\", \"Positions\".x AS \"Positions_x\", \"Positions\".y AS \"Positions_y\" \n",
      "FROM \"Positions\" \n",
      "WHERE \"Positions\".id = ?\n",
      "2021-04-04 00:34:48,624 INFO sqlalchemy.engine.base.Engine (135,)\n",
      "No given legend or incorrect format ! A default legend will be used\n",
      "Borehole geometry created successfully !\n",
      "2021-04-04 00:34:48,659 INFO sqlalchemy.engine.base.Engine UPDATE \"Boreholes\" SET length=? WHERE \"Boreholes\".id = ?\n",
      "2021-04-04 00:34:48,659 INFO sqlalchemy.engine.base.Engine (4.8, 'F16M')\n",
      "2021-04-04 00:34:48,661 INFO sqlalchemy.engine.base.Engine INSERT INTO \"Boreholes\" (id, length, diameter) VALUES (?, ?, ?)\n",
      "2021-04-04 00:34:48,661 INFO sqlalchemy.engine.base.Engine ('F17aM', 6.0, 0.041)\n",
      "2021-04-04 00:34:48,662 INFO sqlalchemy.engine.base.Engine INSERT INTO \"Positions\" (id, upper, middle, lower, x, y) VALUES (?, ?, ?, ?, ?, ?)\n",
      "2021-04-04 00:34:48,663 INFO sqlalchemy.engine.base.Engine ((136, 0.0, 0.0, 0.0, 152897.30742700002, 122614.980476), (137, 0.8, 0.8, 0.8, 152897.30742700002, 122614.980476))\n",
      "2021-04-04 00:34:48,664 INFO sqlalchemy.engine.base.Engine INSERT INTO \"Intervals\" (id, borehole, interval_number, description, top_id, base_id) VALUES (?, ?, ?, ?, ?, ?)\n",
      "2021-04-04 00:34:48,664 INFO sqlalchemy.engine.base.Engine (68, 'F17aM', 0, 'Remblais divers hétérogènes de texture sableuse avec charge de taille centimétrique à décimétrique', 136, 137)\n",
      "2021-04-04 00:34:48,665 INFO sqlalchemy.engine.base.Engine COMMIT\n",
      "2021-04-04 00:34:48,668 INFO sqlalchemy.engine.base.Engine BEGIN (implicit)\n",
      "2021-04-04 00:34:48,669 INFO sqlalchemy.engine.base.Engine SELECT \"Boreholes\".id AS \"Boreholes_id\", \"Boreholes\".length AS \"Boreholes_length\", \"Boreholes\".diameter AS \"Boreholes_diameter\" \n",
      "FROM \"Boreholes\"\n",
      "2021-04-04 00:34:48,669 INFO sqlalchemy.engine.base.Engine ()\n",
      "2021-04-04 00:34:48,670 INFO sqlalchemy.engine.base.Engine SELECT \"Intervals\".id AS \"Intervals_id\", \"Intervals\".borehole AS \"Intervals_borehole\", \"Intervals\".interval_number AS \"Intervals_interval_number\", \"Intervals\".description AS \"Intervals_description\", \"Intervals\".top_id AS \"Intervals_top_id\", \"Intervals\".base_id AS \"Intervals_base_id\" \n",
      "FROM \"Intervals\" \n",
      "WHERE ? = \"Intervals\".borehole\n"
     ]
    },
    {
     "name": "stdout",
     "output_type": "stream",
     "text": [
      "2021-04-04 00:34:48,671 INFO sqlalchemy.engine.base.Engine ('F17aM',)\n",
      "2021-04-04 00:34:48,671 INFO sqlalchemy.engine.base.Engine SELECT \"Positions\".id AS \"Positions_id\", \"Positions\".upper AS \"Positions_upper\", \"Positions\".middle AS \"Positions_middle\", \"Positions\".lower AS \"Positions_lower\", \"Positions\".x AS \"Positions_x\", \"Positions\".y AS \"Positions_y\" \n",
      "FROM \"Positions\" \n",
      "WHERE \"Positions\".id = ?\n",
      "2021-04-04 00:34:48,672 INFO sqlalchemy.engine.base.Engine (136,)\n",
      "2021-04-04 00:34:48,673 INFO sqlalchemy.engine.base.Engine SELECT \"Positions\".id AS \"Positions_id\", \"Positions\".upper AS \"Positions_upper\", \"Positions\".middle AS \"Positions_middle\", \"Positions\".lower AS \"Positions_lower\", \"Positions\".x AS \"Positions_x\", \"Positions\".y AS \"Positions_y\" \n",
      "FROM \"Positions\" \n",
      "WHERE \"Positions\".id = ?\n",
      "2021-04-04 00:34:48,673 INFO sqlalchemy.engine.base.Engine (137,)\n",
      "No given legend or incorrect format ! A default legend will be used\n",
      "Borehole geometry created successfully !\n",
      "2021-04-04 00:34:48,704 INFO sqlalchemy.engine.base.Engine INSERT INTO \"Positions\" (id, upper, middle, lower, x, y) VALUES (?, ?, ?, ?, ?, ?)\n",
      "2021-04-04 00:34:48,705 INFO sqlalchemy.engine.base.Engine ((138, 0.0, 0.0, 0.0, 152897.30742700002, 122614.980476), (139, 1.4, 1.4, 1.4, 152897.30742700002, 122614.980476))\n",
      "2021-04-04 00:34:48,706 INFO sqlalchemy.engine.base.Engine UPDATE \"Boreholes\" SET length=? WHERE \"Boreholes\".id = ?\n",
      "2021-04-04 00:34:48,707 INFO sqlalchemy.engine.base.Engine (0.8, 'F17aM')\n",
      "2021-04-04 00:34:48,708 INFO sqlalchemy.engine.base.Engine INSERT INTO \"Boreholes\" (id, length, diameter) VALUES (?, ?, ?)\n",
      "2021-04-04 00:34:48,708 INFO sqlalchemy.engine.base.Engine ('F17bM', 6.0, 0.041)\n",
      "2021-04-04 00:34:48,709 INFO sqlalchemy.engine.base.Engine INSERT INTO \"Intervals\" (id, borehole, interval_number, description, top_id, base_id) VALUES (?, ?, ?, ?, ?, ?)\n",
      "2021-04-04 00:34:48,710 INFO sqlalchemy.engine.base.Engine (69, 'F17bM', 0, 'Remblais divers hétérogènes de texture sableuse avec charge de taille centimétrique à décimétrique', 138, 139)\n",
      "2021-04-04 00:34:48,711 INFO sqlalchemy.engine.base.Engine COMMIT\n",
      "2021-04-04 00:34:48,715 INFO sqlalchemy.engine.base.Engine BEGIN (implicit)\n",
      "2021-04-04 00:34:48,716 INFO sqlalchemy.engine.base.Engine SELECT \"Boreholes\".id AS \"Boreholes_id\", \"Boreholes\".length AS \"Boreholes_length\", \"Boreholes\".diameter AS \"Boreholes_diameter\" \n",
      "FROM \"Boreholes\"\n",
      "2021-04-04 00:34:48,717 INFO sqlalchemy.engine.base.Engine ()\n",
      "2021-04-04 00:34:48,719 INFO sqlalchemy.engine.base.Engine SELECT \"Intervals\".id AS \"Intervals_id\", \"Intervals\".borehole AS \"Intervals_borehole\", \"Intervals\".interval_number AS \"Intervals_interval_number\", \"Intervals\".description AS \"Intervals_description\", \"Intervals\".top_id AS \"Intervals_top_id\", \"Intervals\".base_id AS \"Intervals_base_id\" \n",
      "FROM \"Intervals\" \n",
      "WHERE ? = \"Intervals\".borehole\n",
      "2021-04-04 00:34:48,720 INFO sqlalchemy.engine.base.Engine ('F17bM',)\n",
      "2021-04-04 00:34:48,721 INFO sqlalchemy.engine.base.Engine SELECT \"Positions\".id AS \"Positions_id\", \"Positions\".upper AS \"Positions_upper\", \"Positions\".middle AS \"Positions_middle\", \"Positions\".lower AS \"Positions_lower\", \"Positions\".x AS \"Positions_x\", \"Positions\".y AS \"Positions_y\" \n",
      "FROM \"Positions\" \n",
      "WHERE \"Positions\".id = ?\n",
      "2021-04-04 00:34:48,722 INFO sqlalchemy.engine.base.Engine (138,)\n",
      "2021-04-04 00:34:48,723 INFO sqlalchemy.engine.base.Engine SELECT \"Positions\".id AS \"Positions_id\", \"Positions\".upper AS \"Positions_upper\", \"Positions\".middle AS \"Positions_middle\", \"Positions\".lower AS \"Positions_lower\", \"Positions\".x AS \"Positions_x\", \"Positions\".y AS \"Positions_y\" \n",
      "FROM \"Positions\" \n",
      "WHERE \"Positions\".id = ?\n",
      "2021-04-04 00:34:48,724 INFO sqlalchemy.engine.base.Engine (139,)\n",
      "No given legend or incorrect format ! A default legend will be used\n",
      "Borehole geometry created successfully !\n",
      "2021-04-04 00:34:48,758 INFO sqlalchemy.engine.base.Engine UPDATE \"Boreholes\" SET length=? WHERE \"Boreholes\".id = ?\n",
      "2021-04-04 00:34:48,758 INFO sqlalchemy.engine.base.Engine (1.4, 'F17bM')\n",
      "2021-04-04 00:34:48,760 INFO sqlalchemy.engine.base.Engine INSERT INTO \"Boreholes\" (id, length, diameter) VALUES (?, ?, ?)\n",
      "2021-04-04 00:34:48,760 INFO sqlalchemy.engine.base.Engine ('F17cM', 3.3, 0.041)\n",
      "2021-04-04 00:34:48,761 INFO sqlalchemy.engine.base.Engine INSERT INTO \"Positions\" (id, upper, middle, lower, x, y) VALUES (?, ?, ?, ?, ?, ?)\n",
      "2021-04-04 00:34:48,762 INFO sqlalchemy.engine.base.Engine ((140, 0.0, 0.0, 0.0, 152896.001173, 122633.018193), (141, 1.4, 1.4, 1.4, 152896.001173, 122633.018193))\n",
      "2021-04-04 00:34:48,763 INFO sqlalchemy.engine.base.Engine INSERT INTO \"Intervals\" (id, borehole, interval_number, description, top_id, base_id) VALUES (?, ?, ?, ?, ?, ?)\n",
      "2021-04-04 00:34:48,764 INFO sqlalchemy.engine.base.Engine (70, 'F17cM', 0, 'Remblais divers hétérogènes de texture sableuse avec charge de taille centimétrique à décimétrique', 140, 141)\n",
      "2021-04-04 00:34:48,765 INFO sqlalchemy.engine.base.Engine COMMIT\n",
      "2021-04-04 00:34:48,769 INFO sqlalchemy.engine.base.Engine BEGIN (implicit)\n",
      "2021-04-04 00:34:48,770 INFO sqlalchemy.engine.base.Engine SELECT \"Boreholes\".id AS \"Boreholes_id\", \"Boreholes\".length AS \"Boreholes_length\", \"Boreholes\".diameter AS \"Boreholes_diameter\" \n",
      "FROM \"Boreholes\"\n",
      "2021-04-04 00:34:48,771 INFO sqlalchemy.engine.base.Engine ()\n",
      "2021-04-04 00:34:48,772 INFO sqlalchemy.engine.base.Engine SELECT \"Intervals\".id AS \"Intervals_id\", \"Intervals\".borehole AS \"Intervals_borehole\", \"Intervals\".interval_number AS \"Intervals_interval_number\", \"Intervals\".description AS \"Intervals_description\", \"Intervals\".top_id AS \"Intervals_top_id\", \"Intervals\".base_id AS \"Intervals_base_id\" \n",
      "FROM \"Intervals\" \n",
      "WHERE ? = \"Intervals\".borehole\n",
      "2021-04-04 00:34:48,773 INFO sqlalchemy.engine.base.Engine ('F17cM',)\n",
      "2021-04-04 00:34:48,774 INFO sqlalchemy.engine.base.Engine SELECT \"Positions\".id AS \"Positions_id\", \"Positions\".upper AS \"Positions_upper\", \"Positions\".middle AS \"Positions_middle\", \"Positions\".lower AS \"Positions_lower\", \"Positions\".x AS \"Positions_x\", \"Positions\".y AS \"Positions_y\" \n",
      "FROM \"Positions\" \n",
      "WHERE \"Positions\".id = ?\n",
      "2021-04-04 00:34:48,775 INFO sqlalchemy.engine.base.Engine (140,)\n",
      "2021-04-04 00:34:48,777 INFO sqlalchemy.engine.base.Engine SELECT \"Positions\".id AS \"Positions_id\", \"Positions\".upper AS \"Positions_upper\", \"Positions\".middle AS \"Positions_middle\", \"Positions\".lower AS \"Positions_lower\", \"Positions\".x AS \"Positions_x\", \"Positions\".y AS \"Positions_y\" \n",
      "FROM \"Positions\" \n",
      "WHERE \"Positions\".id = ?\n",
      "2021-04-04 00:34:48,777 INFO sqlalchemy.engine.base.Engine (141,)\n",
      "No given legend or incorrect format ! A default legend will be used\n",
      "Borehole geometry created successfully !\n",
      "2021-04-04 00:34:48,810 INFO sqlalchemy.engine.base.Engine UPDATE \"Boreholes\" SET length=? WHERE \"Boreholes\".id = ?\n",
      "2021-04-04 00:34:48,810 INFO sqlalchemy.engine.base.Engine (1.4, 'F17cM')\n",
      "2021-04-04 00:34:48,811 INFO sqlalchemy.engine.base.Engine INSERT INTO \"Boreholes\" (id, length, diameter) VALUES (?, ?, ?)\n",
      "2021-04-04 00:34:48,812 INFO sqlalchemy.engine.base.Engine ('F17dM', 3.3, 0.041)\n",
      "2021-04-04 00:34:48,813 INFO sqlalchemy.engine.base.Engine INSERT INTO \"Positions\" (id, upper, middle, lower, x, y) VALUES (?, ?, ?, ?, ?, ?)\n",
      "2021-04-04 00:34:48,814 INFO sqlalchemy.engine.base.Engine ((142, 0.0, 0.0, 0.0, 152896.001173, 122633.018193), (143, 3.6, 3.6, 3.6, 152896.001173, 122633.018193))\n",
      "2021-04-04 00:34:48,815 INFO sqlalchemy.engine.base.Engine INSERT INTO \"Intervals\" (id, borehole, interval_number, description, top_id, base_id) VALUES (?, ?, ?, ?, ?, ?)\n",
      "2021-04-04 00:34:48,815 INFO sqlalchemy.engine.base.Engine (71, 'F17dM', 0, \"Remblais divers hétérogènes de texture sableuse avec charge de taille centimétrique à décimétrique - présence d'eau vers 2,4 m. Bloqué à 3,6 m. Pas d'odeur. \", 142, 143)\n",
      "2021-04-04 00:34:48,816 INFO sqlalchemy.engine.base.Engine COMMIT\n",
      "2021-04-04 00:34:48,819 INFO sqlalchemy.engine.base.Engine BEGIN (implicit)\n",
      "2021-04-04 00:34:48,820 INFO sqlalchemy.engine.base.Engine SELECT \"Boreholes\".id AS \"Boreholes_id\", \"Boreholes\".length AS \"Boreholes_length\", \"Boreholes\".diameter AS \"Boreholes_diameter\" \n",
      "FROM \"Boreholes\"\n",
      "2021-04-04 00:34:48,820 INFO sqlalchemy.engine.base.Engine ()\n",
      "2021-04-04 00:34:48,822 INFO sqlalchemy.engine.base.Engine SELECT \"Intervals\".id AS \"Intervals_id\", \"Intervals\".borehole AS \"Intervals_borehole\", \"Intervals\".interval_number AS \"Intervals_interval_number\", \"Intervals\".description AS \"Intervals_description\", \"Intervals\".top_id AS \"Intervals_top_id\", \"Intervals\".base_id AS \"Intervals_base_id\" \n",
      "FROM \"Intervals\" \n",
      "WHERE ? = \"Intervals\".borehole\n"
     ]
    },
    {
     "name": "stdout",
     "output_type": "stream",
     "text": [
      "2021-04-04 00:34:48,822 INFO sqlalchemy.engine.base.Engine ('F17dM',)\n",
      "2021-04-04 00:34:48,823 INFO sqlalchemy.engine.base.Engine SELECT \"Positions\".id AS \"Positions_id\", \"Positions\".upper AS \"Positions_upper\", \"Positions\".middle AS \"Positions_middle\", \"Positions\".lower AS \"Positions_lower\", \"Positions\".x AS \"Positions_x\", \"Positions\".y AS \"Positions_y\" \n",
      "FROM \"Positions\" \n",
      "WHERE \"Positions\".id = ?\n",
      "2021-04-04 00:34:48,823 INFO sqlalchemy.engine.base.Engine (142,)\n",
      "2021-04-04 00:34:48,824 INFO sqlalchemy.engine.base.Engine SELECT \"Positions\".id AS \"Positions_id\", \"Positions\".upper AS \"Positions_upper\", \"Positions\".middle AS \"Positions_middle\", \"Positions\".lower AS \"Positions_lower\", \"Positions\".x AS \"Positions_x\", \"Positions\".y AS \"Positions_y\" \n",
      "FROM \"Positions\" \n",
      "WHERE \"Positions\".id = ?\n",
      "2021-04-04 00:34:48,824 INFO sqlalchemy.engine.base.Engine (143,)\n",
      "No given legend or incorrect format ! A default legend will be used\n",
      "Borehole geometry created successfully !\n"
     ]
    }
   ],
   "source": [
    "for bh in boreholes:\n",
    "    p.add_borehole(bh)"
   ]
  },
  {
   "cell_type": "code",
   "execution_count": 49,
   "metadata": {},
   "outputs": [
    {
     "name": "stdout",
     "output_type": "stream",
     "text": [
      "2021-04-04 00:34:48,862 INFO sqlalchemy.engine.base.Engine UPDATE \"Boreholes\" SET length=? WHERE \"Boreholes\".id = ?\n",
      "2021-04-04 00:34:48,863 INFO sqlalchemy.engine.base.Engine (3.6, 'F17dM')\n",
      "2021-04-04 00:34:48,866 INFO sqlalchemy.engine.base.Engine INSERT INTO \"Linkintervalcomponent\" (int_id, comp_id, extra_data) VALUES (?, ?, ?)\n",
      "2021-04-04 00:34:48,866 INFO sqlalchemy.engine.base.Engine ((0, 7, ''), (1, 0, ''), (2, 2, ''), (3, 3, ''), (4, 4, ''), (5, 0, ''), (6, 5, ''), (7, 1, '')  ... displaying 10 of 71 total bound parameter sets ...  (70, 54, ''), (71, 54, ''))\n",
      "2021-04-04 00:34:48,868 INFO sqlalchemy.engine.base.Engine COMMIT\n",
      "2021-04-04 00:34:48,871 INFO sqlalchemy.engine.base.Engine BEGIN (implicit)\n",
      "2021-04-04 00:34:48,872 INFO sqlalchemy.engine.base.Engine SELECT \"Boreholes\".id AS \"Boreholes_id\", \"Boreholes\".length AS \"Boreholes_length\", \"Boreholes\".diameter AS \"Boreholes_diameter\" \n",
      "FROM \"Boreholes\"\n",
      "2021-04-04 00:34:48,873 INFO sqlalchemy.engine.base.Engine ()\n"
     ]
    }
   ],
   "source": [
    "p.add_link_between_components_and_intervals(link_intv_comp)"
   ]
  },
  {
   "cell_type": "code",
   "execution_count": 50,
   "metadata": {},
   "outputs": [
    {
     "name": "stdout",
     "output_type": "stream",
     "text": [
      "2021-04-04 00:34:48,877 INFO sqlalchemy.engine.base.Engine COMMIT\n",
      "Boreholes in the project :  26\n"
     ]
    }
   ],
   "source": [
    "p.commit()\n",
    "print('Boreholes in the project : ', len(p.boreholes))"
   ]
  },
  {
   "cell_type": "raw",
   "metadata": {},
   "source": [
    "p.boreholes"
   ]
  },
  {
   "cell_type": "code",
   "execution_count": 51,
   "metadata": {},
   "outputs": [
    {
     "name": "stdout",
     "output_type": "stream",
     "text": [
      "2021-04-04 00:34:48,884 INFO sqlalchemy.engine.base.Engine BEGIN (implicit)\n",
      "2021-04-04 00:34:48,885 INFO sqlalchemy.engine.base.Engine SELECT \"Boreholes\".id AS \"Boreholes_id\", \"Boreholes\".length AS \"Boreholes_length\", \"Boreholes\".diameter AS \"Boreholes_diameter\" \n",
      "FROM \"Boreholes\"\n",
      "2021-04-04 00:34:48,886 INFO sqlalchemy.engine.base.Engine ()\n"
     ]
    }
   ],
   "source": [
    "p.refresh(verbose=True)"
   ]
  },
  {
   "cell_type": "code",
   "execution_count": 52,
   "metadata": {},
   "outputs": [
    {
     "name": "stdout",
     "output_type": "stream",
     "text": [
      "2021-04-04 00:34:48,891 INFO sqlalchemy.engine.base.Engine ROLLBACK\n"
     ]
    }
   ],
   "source": [
    "session.close()"
   ]
  },
  {
   "cell_type": "code",
   "execution_count": 53,
   "metadata": {
    "scrolled": true
   },
   "outputs": [
    {
     "data": {
      "text/plain": [
       "[Interval({'top': Position({'middle': 0.0, 'upper': 0.0, 'lower': 0.0, 'x': 153049.921, 'y': 122636.217, 'units': 'm'}), 'base': Position({'middle': 0.4, 'x': 153049.921, 'y': 122636.217, 'units': 'm'}), 'description': 'Mélange de sable jaune et de cendrées goudronneuses; odeur moyenne de goudron', 'data': {}, 'components': [Component({'lithology': 'sable', 'colour': 'jaune'})]}),\n",
       " Interval({'top': Position({'middle': 0.4, 'x': 153049.921, 'y': 122636.217, 'units': 'm'}), 'base': Position({'middle': 1.0, 'x': 153049.921, 'y': 122636.217, 'units': 'm'}), 'description': 'Remblai de cendrées, scories et laitiers; forte odeur de goudron', 'data': {}, 'components': [Component({'lithology': 'remblai', 'material': 'scories'})]}),\n",
       " Interval({'top': Position({'middle': 1.0, 'x': 153049.921, 'y': 122636.217, 'units': 'm'}), 'base': Position({'middle': 2.2, 'x': 153049.921, 'y': 122636.217, 'units': 'm'}), 'description': \"Remblai de cendrées et scories; présence d'un produit gras verdâtre de type huile; forte odeur de HAP\", 'data': {}, 'components': [Component({'lithology': 'remblai', 'material': 'scories', 'colour': 'verdâtre', 'Pollutant': 'huile'})]}),\n",
       " Interval({'top': Position({'middle': 2.2, 'x': 153049.921, 'y': 122636.217, 'units': 'm'}), 'base': Position({'middle': 3.4, 'x': 153049.921, 'y': 122636.217, 'units': 'm'}), 'description': 'Remblai de cendrées, scories et laitier; forte odeur de HAP et moceaux de goudron durci', 'data': {}, 'components': [Component({'lithology': 'remblai', 'material': 'scories', 'Pollutant': 'hap'})]}),\n",
       " Interval({'top': Position({'middle': 3.4, 'x': 153049.921, 'y': 122636.217, 'units': 'm'}), 'base': Position({'middle': 4.4, 'x': 153049.921, 'y': 122636.217, 'units': 'm'}), 'description': 'Remblai de cendrées et scories vitrifiées très gras verdâtre; forte odeur de HAP', 'data': {}, 'components': [Component({'lithology': 'remblai', 'material': 'scories', 'colour': 'verdâtre', 'Pollutant': 'hap'})]}),\n",
       " Interval({'top': Position({'middle': 4.4, 'x': 153049.921, 'y': 122636.217, 'units': 'm'}), 'base': Position({'middle': 5.3, 'x': 153049.921, 'y': 122636.217, 'units': 'm'}), 'description': 'Remblai de cendrées et scories vitrifiées; présence de goudron pur coulant', 'data': {}, 'components': [Component({'lithology': 'remblai', 'material': 'scories'})]}),\n",
       " Interval({'top': Position({'middle': 5.3, 'x': 153049.921, 'y': 122636.217, 'units': 'm'}), 'base': Position({'middle': 6.3, 'x': 153049.921, 'y': 122636.217, 'units': 'm'}), 'description': 'Mélange de limon lourd verdâtre, scories, fines de charbon et goudron', 'data': {}, 'components': [Component({'lithology': 'limon', 'material': 'scories', 'colour': 'verdâtre'})]}),\n",
       " Interval({'top': Position({'middle': 6.3, 'x': 153049.921, 'y': 122636.217, 'units': 'm'}), 'base': Position({'middle': 7.7, 'x': 153049.921, 'y': 122636.217, 'units': 'm'}), 'description': 'Limon très lourd vert de gris sec, devenant bariolé; très légère odeur de HAP', 'data': {}, 'components': [Component({'lithology': 'limon', 'shape': 'bariolé', 'colour': 'vert', 'Pollutant': 'hap'})]}),\n",
       " Interval({'top': Position({'middle': 7.7, 'x': 153049.921, 'y': 122636.217, 'units': 'm'}), 'base': Position({'middle': 8.2, 'x': 153049.921, 'y': 122636.217, 'units': 'm'}), 'description': 'Limon gris humide avec traces de tourbe et très légère odeur de HAP', 'data': {}, 'components': [Component({'lithology': 'limon', 'colour': 'gris', 'quantity': 'traces', 'Pollutant': 'hap'})]})]"
      ]
     },
     "execution_count": 53,
     "metadata": {},
     "output_type": "execute_result"
    }
   ],
   "source": [
    "p.boreholes_3d[0].intervals"
   ]
  },
  {
   "cell_type": "markdown",
   "metadata": {},
   "source": [
    "## The Borehole 3D plot using X3D for interaction within the notebook"
   ]
  },
  {
   "cell_type": "code",
   "execution_count": 54,
   "metadata": {},
   "outputs": [
    {
     "data": {
      "text/html": [
       "<html>\n",
       "<head>\n",
       "    <meta http-equiv=\"X-UA-Compatible\" content=\"IE=edge\"/>\n",
       "<title>X3D scene</title>\n",
       " <p><script type='text/javascript' src='http://www.x3dom.org/download/x3dom.js'> </script>\n",
       "<link rel='stylesheet' type='text/css' href='http://www.x3dom.org/download/x3dom.css'/>\n",
       "</head>\n",
       "<body>\n",
       "<p>\n",
       " For interaction, click in the view and press \"a\" or \"i\" to see the whole scene, \"d\" to display info, \"space\" for shortcuts. For more info on interaction, please read  <a href=\"https://doc.x3dom.org/tutorials/animationInteraction/navigation/index.html\">the docs</a>  \n",
       "</p>\n",
       "<x3d width='968px' height='600px'>\n",
       " <scene>\n",
       "<viewpoint position=\"152919.656 122576.828 36.522\" orientation=\"0.5537 0.1614 0.81692 1.4642\"></viewpoint>\n",
       " <Inline nameSpaceName=\"Borehole\" mapDEFToID=\"true\" url=\"tmp_files/project_new_project.x3d\" />\n",
       "</scene>\n",
       "</x3d>\n",
       "</body>\n",
       "</html>\n"
      ],
      "text/plain": [
       "<IPython.core.display.HTML object>"
      ]
     },
     "execution_count": 54,
     "metadata": {},
     "output_type": "execute_result"
    }
   ],
   "source": [
    "p.plot3d(x3d=True)"
   ]
  },
  {
   "cell_type": "markdown",
   "metadata": {},
   "source": [
    "##  ================== Draft ================="
   ]
  },
  {
   "cell_type": "raw",
   "metadata": {},
   "source": [
    "# important : create personalized legend\n",
    "\n",
    "list_of_decors=[]\n",
    "hatches = ['=', 'x', '.', 's', '=', 'b']\n",
    "colours = ['#888888', '#882222', '#AAAAAA', '#CC22CC', '#CC2222', '#2222CC']\n",
    "\n",
    "for i in range(len(components)):\n",
    "    if hasattr(components[i], 'colour'):\n",
    "        c = components[i].colour\n",
    "    else:\n",
    "        c=colours[i]\n",
    "    \n",
    "    if hasattr(components[i], 'hatch'):\n",
    "        h = components[i].hatch\n",
    "    else:\n",
    "        h=hatches[i]\n",
    "        \n",
    "    d = {'color': c,\n",
    "         'hatch': h,\n",
    "         'component': components[i],\n",
    "         'width': 3}\n",
    "    decor = Decor(d)\n",
    "    list_of_decors.append(decor)\n",
    "    \n",
    "legend = Legend(list_of_decors)\n"
   ]
  },
  {
   "cell_type": "raw",
   "metadata": {},
   "source": [
    "bh_dict={}\n",
    "for bh_id in list(set(df.ID)):\n",
    "    #print(bh_id)\n",
    "    bh_comp=df[df['ID']==f\"{bh_id}\"]['Component']\n",
    "    bh_dict.update({bh_id:bh_comp})"
   ]
  },
  {
   "cell_type": "raw",
   "metadata": {},
   "source": [
    "bh_dict['F7']"
   ]
  },
  {
   "cell_type": "raw",
   "metadata": {},
   "source": [
    "bhs_df=[df_all]"
   ]
  },
  {
   "cell_type": "raw",
   "metadata": {},
   "source": [
    "df_all[['ID','Long_Pz']].query(\"ID=='112'\")"
   ]
  },
  {
   "cell_type": "raw",
   "metadata": {},
   "source": [
    "boreholes, components= boreholes_from_files(bhs_df, verbose=True, diam_field='Diam_Pz_int', length_field='Long_Pz')#, x=list(df_all.X), y=list(df_all.Y), verbose=False)"
   ]
  },
  {
   "cell_type": "raw",
   "metadata": {},
   "source": [
    "df_all.X.max(),df_all.X.min(),df_all.Y.max(),df_all.Y.min(), "
   ]
  },
  {
   "cell_type": "raw",
   "metadata": {},
   "source": [
    "# filter dataframe regarding to a specific column\n",
    "def bh_filter(df, col=None, dist=1):\n",
    "    \n",
    "    lidx=[]\n",
    "    for idx, row in df.iterrows():\n",
    "        if idx < len(df)-1 and df.loc[idx, 'ID'] ==\\\n",
    "        df.loc[idx+1, 'ID']:\n",
    "            print(df.loc[idx,['X','Y','Z']])\n",
    "            lidx.append(idx)\n",
    "\n",
    "    len(set(lidx) ^ set(df.index))\n",
    "    df.drop(index=lidx, inplace=True)\n",
    "    df.reset_index(inplace=True, drop=True)\n",
    "    \n",
    "    #return df"
   ]
  },
  {
   "cell_type": "raw",
   "metadata": {},
   "source": [
    "#x3D option : '<viewpoint position=\"388.57 396.244 -26.473\" orientation=\"0.421 0.575 0.700 2.546\">' \\"
   ]
  },
  {
   "cell_type": "markdown",
   "metadata": {},
   "source": [
    "#### Codes qui peuvent aider si besoin (Brouillon)"
   ]
  },
  {
   "cell_type": "raw",
   "metadata": {},
   "source": [
    "# use this piece of code to treat hatch, color to build legend\n",
    "d={}\n",
    "for i in range(0,5):\n",
    "    d.update({random.sample(l,1)[0]:random.sample(c,1)[0]})\n",
    "d"
   ]
  },
  {
   "cell_type": "raw",
   "metadata": {},
   "source": [
    "%time\n",
    "for i,j in df_all.iterrows():\n",
    "    if i>1325:\n",
    "        print(i)\n",
    "    pass"
   ]
  },
  {
   "cell_type": "raw",
   "metadata": {},
   "source": [
    "col='X'\n",
    "a=0\n",
    "t=[]\n",
    "for i in df_all[col]:\n",
    "    if type(i) not in t:\n",
    "        t.append(type(i))\n",
    "    if type(i) is not str:\n",
    "        a+=1\n",
    "        #print(i)\n",
    "print(f\"{a}/{len(df_all)}\",\"\\n\\n\", t)"
   ]
  },
  {
   "cell_type": "raw",
   "metadata": {},
   "source": [
    "f = re.DOTALL | re.IGNORECASE\n",
    "        regex_data = r'start.+?\\n(.+?)(?:\\n\\n+|\\n*\\#|\\n*$)'  # retrieve data of BH\n",
    "\n",
    "        pattern = re.compile(regex_data, flags=f)\n",
    "        with open(filename, 'r') as csv:\n",
    "            text = pattern.search(csv.read()).group(1)\n",
    "            text = re.sub(r'[\\t]+', ';', re.sub(r'(\\n+|\\r\\n|\\r)', '\\n', text.strip()))"
   ]
  }
 ],
 "metadata": {
  "kernelspec": {
   "display_name": "Python 3",
   "language": "python",
   "name": "python3"
  },
  "language_info": {
   "codemirror_mode": {
    "name": "ipython",
    "version": 3
   },
   "file_extension": ".py",
   "mimetype": "text/x-python",
   "name": "python",
   "nbconvert_exporter": "python",
   "pygments_lexer": "ipython3",
   "version": "3.8.5"
  }
 },
 "nbformat": 4,
 "nbformat_minor": 4
}
