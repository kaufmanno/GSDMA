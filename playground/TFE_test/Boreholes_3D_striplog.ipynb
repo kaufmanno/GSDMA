{
 "cells": [
  {
   "cell_type": "markdown",
   "metadata": {},
   "source": [
    "# Example of using the Borehole3D class"
   ]
  },
  {
   "cell_type": "markdown",
   "metadata": {},
   "source": [
    "## Imports"
   ]
  },
  {
   "cell_type": "code",
   "execution_count": 1,
   "metadata": {},
   "outputs": [],
   "source": [
    "from striplog import Component, Lexicon #, Striplog, Decor, Legend \n",
    "from core.omf import Borehole3D, striplog_legend_to_omf_legend \n",
    "from utils.io import boreholes_from_files,gdf_viewer, df_from_sources, gdf_merger\n",
    "from core.core import Project\n",
    "from core.orm import BoreholeOrm, PositionOrm, Base \n",
    "from utils.lexicon.Lexicon_FR_updated import LEXICON\n",
    "from os import remove\n",
    "from sqlalchemy import create_engine\n",
    "from sqlalchemy.orm import sessionmaker\n",
    "from definitions import ROOT_DIR\n",
    "import pandas as pd\n",
    "import matplotlib.pyplot as plt"
   ]
  },
  {
   "cell_type": "markdown",
   "metadata": {},
   "source": [
    "## Reading of CSV files in a dir"
   ]
  },
  {
   "cell_type": "code",
   "execution_count": 2,
   "metadata": {},
   "outputs": [],
   "source": [
    "search_dir=ROOT_DIR+'/CF_data/Result_traitem/'\n",
    "#cols=['ID','X','Y','Z','Long_Pz','Diam_Pz_int']\n",
    "cols=None\n",
    "filename='source_Boreholes'"
   ]
  },
  {
   "cell_type": "code",
   "execution_count": 3,
   "metadata": {
    "scrolled": false
   },
   "outputs": [
    {
     "name": "stdout",
     "output_type": "stream",
     "text": [
      "--> Prof_contact_sol_forage/source_Boreholes.csv: (8 lines)\n",
      "--> Forage_Pilote/source_Boreholes.csv: (72 lines)\n",
      "--> database_Memoris3/source_Boreholes.csv: (826 lines)\n",
      "--> donnees_terrain_2019/source_Boreholes.csv: (16 lines)\n",
      "--> profils_sols_donnees_forages/source_Boreholes.csv: (13 lines)\n",
      "\n",
      "The overall dataframe contains 37 lines. 3 files used\n"
     ]
    }
   ],
   "source": [
    "df_all=df_from_sources(search_dir, filename, cols, verbose=False)"
   ]
  },
  {
   "cell_type": "code",
   "execution_count": 4,
   "metadata": {},
   "outputs": [
    {
     "name": "stdout",
     "output_type": "stream",
     "text": [
      "--> vUmons_logsFor/source_Lithology.csv: (119 lines)\n",
      "--> database_Memoris3/source_Lithology.csv: (7511 lines)\n",
      "--> donnees_terrain_2019/source_Lithology.csv: (91 lines)\n",
      "--> profils_sols_donnees_forages/source_Lithology.csv: (54 lines)\n",
      "\n",
      "The overall dataframe contains 7630 lines. 2 files used\n"
     ]
    }
   ],
   "source": [
    "cols=None\n",
    "filename='source_Lithology'\n",
    "\n",
    "df_litho=df_from_sources(search_dir, filename, cols, verbose=False)"
   ]
  },
  {
   "cell_type": "code",
   "execution_count": 9,
   "metadata": {},
   "outputs": [
    {
     "data": {
      "text/html": [
       "<div>\n",
       "<style scoped>\n",
       "    .dataframe tbody tr th:only-of-type {\n",
       "        vertical-align: middle;\n",
       "    }\n",
       "\n",
       "    .dataframe tbody tr th {\n",
       "        vertical-align: top;\n",
       "    }\n",
       "\n",
       "    .dataframe thead th {\n",
       "        text-align: right;\n",
       "    }\n",
       "</style>\n",
       "<table border=\"1\" class=\"dataframe\">\n",
       "  <thead>\n",
       "    <tr style=\"text-align: right;\">\n",
       "      <th></th>\n",
       "      <th>ID</th>\n",
       "      <th>X_x</th>\n",
       "      <th>Y_x</th>\n",
       "      <th>Z_x</th>\n",
       "      <th>Litho_top</th>\n",
       "      <th>Litho_base</th>\n",
       "      <th>Terrain</th>\n",
       "      <th>Refus</th>\n",
       "      <th>Date_ouv</th>\n",
       "      <th>Long_for_x</th>\n",
       "      <th>Z_fond</th>\n",
       "      <th>geometry_x</th>\n",
       "      <th>Long_for_y</th>\n",
       "      <th>X_y</th>\n",
       "      <th>Y_y</th>\n",
       "      <th>Z_y</th>\n",
       "      <th>Type</th>\n",
       "      <th>geometry_y</th>\n",
       "    </tr>\n",
       "  </thead>\n",
       "  <tbody>\n",
       "    <tr>\n",
       "      <th>0</th>\n",
       "      <td>F205</td>\n",
       "      <td>152471.0070</td>\n",
       "      <td>122935.1210</td>\n",
       "      <td>108.778</td>\n",
       "      <td>0.0</td>\n",
       "      <td>0.6</td>\n",
       "      <td>Remblais</td>\n",
       "      <td>x</td>\n",
       "      <td>2010-03-26</td>\n",
       "      <td>NaN</td>\n",
       "      <td>NaN</td>\n",
       "      <td>POINT (152471.007 122935.121)</td>\n",
       "      <td>3.2</td>\n",
       "      <td>152887.693</td>\n",
       "      <td>122594.620</td>\n",
       "      <td>101.804</td>\n",
       "      <td>Forage</td>\n",
       "      <td>POINT (152887.693 122594.620)</td>\n",
       "    </tr>\n",
       "    <tr>\n",
       "      <th>1</th>\n",
       "      <td>F205</td>\n",
       "      <td>152471.0070</td>\n",
       "      <td>122935.1210</td>\n",
       "      <td>108.778</td>\n",
       "      <td>0.0</td>\n",
       "      <td>0.6</td>\n",
       "      <td>Remblais</td>\n",
       "      <td>x</td>\n",
       "      <td>2010-03-26</td>\n",
       "      <td>NaN</td>\n",
       "      <td>NaN</td>\n",
       "      <td>POINT (152471.007 122935.121)</td>\n",
       "      <td>3.2</td>\n",
       "      <td>152887.693</td>\n",
       "      <td>122594.620</td>\n",
       "      <td>101.804</td>\n",
       "      <td>Forage</td>\n",
       "      <td>POINT (152887.693 122594.620)</td>\n",
       "    </tr>\n",
       "    <tr>\n",
       "      <th>2</th>\n",
       "      <td>F205</td>\n",
       "      <td>152471.0070</td>\n",
       "      <td>122935.1210</td>\n",
       "      <td>108.778</td>\n",
       "      <td>0.6</td>\n",
       "      <td>1.4</td>\n",
       "      <td>Remblais</td>\n",
       "      <td>x</td>\n",
       "      <td>2010-03-26</td>\n",
       "      <td>NaN</td>\n",
       "      <td>NaN</td>\n",
       "      <td>POINT (152471.007 122935.121)</td>\n",
       "      <td>3.2</td>\n",
       "      <td>152887.693</td>\n",
       "      <td>122594.620</td>\n",
       "      <td>101.804</td>\n",
       "      <td>Forage</td>\n",
       "      <td>POINT (152887.693 122594.620)</td>\n",
       "    </tr>\n",
       "    <tr>\n",
       "      <th>3</th>\n",
       "      <td>F205</td>\n",
       "      <td>152471.0070</td>\n",
       "      <td>122935.1210</td>\n",
       "      <td>108.778</td>\n",
       "      <td>0.6</td>\n",
       "      <td>1.4</td>\n",
       "      <td>Remblais</td>\n",
       "      <td>x</td>\n",
       "      <td>2010-03-26</td>\n",
       "      <td>NaN</td>\n",
       "      <td>NaN</td>\n",
       "      <td>POINT (152471.007 122935.121)</td>\n",
       "      <td>3.2</td>\n",
       "      <td>152887.693</td>\n",
       "      <td>122594.620</td>\n",
       "      <td>101.804</td>\n",
       "      <td>Forage</td>\n",
       "      <td>POINT (152887.693 122594.620)</td>\n",
       "    </tr>\n",
       "    <tr>\n",
       "      <th>4</th>\n",
       "      <td>F212</td>\n",
       "      <td>152359.4035</td>\n",
       "      <td>122806.0686</td>\n",
       "      <td>105.218</td>\n",
       "      <td>0.0</td>\n",
       "      <td>0.1</td>\n",
       "      <td>Remblais</td>\n",
       "      <td>NaN</td>\n",
       "      <td>2010-05-10</td>\n",
       "      <td>NaN</td>\n",
       "      <td>NaN</td>\n",
       "      <td>POINT (152359.403 122806.069)</td>\n",
       "      <td>3.4</td>\n",
       "      <td>152882.850</td>\n",
       "      <td>122591.453</td>\n",
       "      <td>101.930</td>\n",
       "      <td>Forage</td>\n",
       "      <td>POINT (152882.850 122591.453)</td>\n",
       "    </tr>\n",
       "    <tr>\n",
       "      <th>...</th>\n",
       "      <td>...</td>\n",
       "      <td>...</td>\n",
       "      <td>...</td>\n",
       "      <td>...</td>\n",
       "      <td>...</td>\n",
       "      <td>...</td>\n",
       "      <td>...</td>\n",
       "      <td>...</td>\n",
       "      <td>...</td>\n",
       "      <td>...</td>\n",
       "      <td>...</td>\n",
       "      <td>...</td>\n",
       "      <td>...</td>\n",
       "      <td>...</td>\n",
       "      <td>...</td>\n",
       "      <td>...</td>\n",
       "      <td>...</td>\n",
       "      <td>...</td>\n",
       "    </tr>\n",
       "    <tr>\n",
       "      <th>101</th>\n",
       "      <td>F217</td>\n",
       "      <td>153133.8960</td>\n",
       "      <td>122458.6850</td>\n",
       "      <td>103.046</td>\n",
       "      <td>5.4</td>\n",
       "      <td>5.7</td>\n",
       "      <td>Remblais</td>\n",
       "      <td>x</td>\n",
       "      <td>2010-03-02</td>\n",
       "      <td>NaN</td>\n",
       "      <td>NaN</td>\n",
       "      <td>POINT (153133.896 122458.685)</td>\n",
       "      <td>4.2</td>\n",
       "      <td>152886.185</td>\n",
       "      <td>122587.152</td>\n",
       "      <td>101.815</td>\n",
       "      <td>Forage</td>\n",
       "      <td>POINT (152886.185 122587.152)</td>\n",
       "    </tr>\n",
       "    <tr>\n",
       "      <th>102</th>\n",
       "      <td>F217</td>\n",
       "      <td>153133.8960</td>\n",
       "      <td>122458.6850</td>\n",
       "      <td>103.046</td>\n",
       "      <td>5.4</td>\n",
       "      <td>5.7</td>\n",
       "      <td>Remblais</td>\n",
       "      <td>x</td>\n",
       "      <td>2010-03-02</td>\n",
       "      <td>NaN</td>\n",
       "      <td>NaN</td>\n",
       "      <td>POINT (153133.896 122458.685)</td>\n",
       "      <td>4.2</td>\n",
       "      <td>152886.185</td>\n",
       "      <td>122587.152</td>\n",
       "      <td>101.815</td>\n",
       "      <td>Forage</td>\n",
       "      <td>POINT (152886.185 122587.152)</td>\n",
       "    </tr>\n",
       "    <tr>\n",
       "      <th>103</th>\n",
       "      <td>F217</td>\n",
       "      <td>153133.8960</td>\n",
       "      <td>122458.6850</td>\n",
       "      <td>103.046</td>\n",
       "      <td>5.4</td>\n",
       "      <td>5.7</td>\n",
       "      <td>Argile</td>\n",
       "      <td>x</td>\n",
       "      <td>2010-03-02</td>\n",
       "      <td>NaN</td>\n",
       "      <td>NaN</td>\n",
       "      <td>POINT (153133.896 122458.685)</td>\n",
       "      <td>4.2</td>\n",
       "      <td>152886.185</td>\n",
       "      <td>122587.152</td>\n",
       "      <td>101.815</td>\n",
       "      <td>Forage</td>\n",
       "      <td>POINT (152886.185 122587.152)</td>\n",
       "    </tr>\n",
       "    <tr>\n",
       "      <th>104</th>\n",
       "      <td>F217</td>\n",
       "      <td>153133.8960</td>\n",
       "      <td>122458.6850</td>\n",
       "      <td>103.046</td>\n",
       "      <td>5.4</td>\n",
       "      <td>5.7</td>\n",
       "      <td>Remblais</td>\n",
       "      <td>x</td>\n",
       "      <td>2010-03-02</td>\n",
       "      <td>NaN</td>\n",
       "      <td>NaN</td>\n",
       "      <td>POINT (153133.896 122458.685)</td>\n",
       "      <td>4.2</td>\n",
       "      <td>152886.185</td>\n",
       "      <td>122587.152</td>\n",
       "      <td>101.815</td>\n",
       "      <td>Forage</td>\n",
       "      <td>POINT (152886.185 122587.152)</td>\n",
       "    </tr>\n",
       "    <tr>\n",
       "      <th>105</th>\n",
       "      <td>F217</td>\n",
       "      <td>153133.8960</td>\n",
       "      <td>122458.6850</td>\n",
       "      <td>103.046</td>\n",
       "      <td>5.4</td>\n",
       "      <td>5.7</td>\n",
       "      <td>Remblais</td>\n",
       "      <td>x</td>\n",
       "      <td>2010-03-02</td>\n",
       "      <td>NaN</td>\n",
       "      <td>NaN</td>\n",
       "      <td>POINT (153133.896 122458.685)</td>\n",
       "      <td>4.2</td>\n",
       "      <td>152886.185</td>\n",
       "      <td>122587.152</td>\n",
       "      <td>101.815</td>\n",
       "      <td>Forage</td>\n",
       "      <td>POINT (152886.185 122587.152)</td>\n",
       "    </tr>\n",
       "  </tbody>\n",
       "</table>\n",
       "<p>106 rows × 18 columns</p>\n",
       "</div>"
      ],
      "text/plain": [
       "       ID          X_x          Y_x      Z_x  Litho_top Litho_base   Terrain  \\\n",
       "0    F205  152471.0070  122935.1210  108.778        0.0        0.6  Remblais   \n",
       "1    F205  152471.0070  122935.1210  108.778        0.0        0.6  Remblais   \n",
       "2    F205  152471.0070  122935.1210  108.778        0.6        1.4  Remblais   \n",
       "3    F205  152471.0070  122935.1210  108.778        0.6        1.4  Remblais   \n",
       "4    F212  152359.4035  122806.0686  105.218        0.0        0.1  Remblais   \n",
       "..    ...          ...          ...      ...        ...        ...       ...   \n",
       "101  F217  153133.8960  122458.6850  103.046        5.4        5.7  Remblais   \n",
       "102  F217  153133.8960  122458.6850  103.046        5.4        5.7  Remblais   \n",
       "103  F217  153133.8960  122458.6850  103.046        5.4        5.7    Argile   \n",
       "104  F217  153133.8960  122458.6850  103.046        5.4        5.7  Remblais   \n",
       "105  F217  153133.8960  122458.6850  103.046        5.4        5.7  Remblais   \n",
       "\n",
       "    Refus    Date_ouv  Long_for_x  Z_fond                     geometry_x  \\\n",
       "0       x  2010-03-26         NaN     NaN  POINT (152471.007 122935.121)   \n",
       "1       x  2010-03-26         NaN     NaN  POINT (152471.007 122935.121)   \n",
       "2       x  2010-03-26         NaN     NaN  POINT (152471.007 122935.121)   \n",
       "3       x  2010-03-26         NaN     NaN  POINT (152471.007 122935.121)   \n",
       "4     NaN  2010-05-10         NaN     NaN  POINT (152359.403 122806.069)   \n",
       "..    ...         ...         ...     ...                            ...   \n",
       "101     x  2010-03-02         NaN     NaN  POINT (153133.896 122458.685)   \n",
       "102     x  2010-03-02         NaN     NaN  POINT (153133.896 122458.685)   \n",
       "103     x  2010-03-02         NaN     NaN  POINT (153133.896 122458.685)   \n",
       "104     x  2010-03-02         NaN     NaN  POINT (153133.896 122458.685)   \n",
       "105     x  2010-03-02         NaN     NaN  POINT (153133.896 122458.685)   \n",
       "\n",
       "     Long_for_y         X_y         Y_y      Z_y    Type  \\\n",
       "0           3.2  152887.693  122594.620  101.804  Forage   \n",
       "1           3.2  152887.693  122594.620  101.804  Forage   \n",
       "2           3.2  152887.693  122594.620  101.804  Forage   \n",
       "3           3.2  152887.693  122594.620  101.804  Forage   \n",
       "4           3.4  152882.850  122591.453  101.930  Forage   \n",
       "..          ...         ...         ...      ...     ...   \n",
       "101         4.2  152886.185  122587.152  101.815  Forage   \n",
       "102         4.2  152886.185  122587.152  101.815  Forage   \n",
       "103         4.2  152886.185  122587.152  101.815  Forage   \n",
       "104         4.2  152886.185  122587.152  101.815  Forage   \n",
       "105         4.2  152886.185  122587.152  101.815  Forage   \n",
       "\n",
       "                        geometry_y  \n",
       "0    POINT (152887.693 122594.620)  \n",
       "1    POINT (152887.693 122594.620)  \n",
       "2    POINT (152887.693 122594.620)  \n",
       "3    POINT (152887.693 122594.620)  \n",
       "4    POINT (152882.850 122591.453)  \n",
       "..                             ...  \n",
       "101  POINT (152886.185 122587.152)  \n",
       "102  POINT (152886.185 122587.152)  \n",
       "103  POINT (152886.185 122587.152)  \n",
       "104  POINT (152886.185 122587.152)  \n",
       "105  POINT (152886.185 122587.152)  \n",
       "\n",
       "[106 rows x 18 columns]"
      ]
     },
     "execution_count": 9,
     "metadata": {},
     "output_type": "execute_result"
    }
   ],
   "source": [
    "df_litho.merge(df_all, how='inner', on='ID')"
   ]
  },
  {
   "cell_type": "code",
   "execution_count": 5,
   "metadata": {},
   "outputs": [
    {
     "name": "stderr",
     "output_type": "stream",
     "text": [
      "Mean of empty slice\n",
      "Mean of empty slice\n",
      "Mean of empty slice\n",
      "Mean of empty slice\n",
      "Mean of empty slice\n",
      "Mean of empty slice\n",
      "Mean of empty slice\n",
      "Mean of empty slice\n",
      "Mean of empty slice\n",
      "Mean of empty slice\n",
      "Mean of empty slice\n",
      "Mean of empty slice\n",
      "Mean of empty slice\n",
      "Mean of empty slice\n",
      "Mean of empty slice\n",
      "Mean of empty slice\n",
      "Mean of empty slice\n",
      "Mean of empty slice\n",
      "Mean of empty slice\n",
      "Mean of empty slice\n",
      "Mean of empty slice\n",
      "Mean of empty slice\n",
      "Mean of empty slice\n",
      "Mean of empty slice\n",
      "Mean of empty slice\n",
      "Mean of empty slice\n",
      "Mean of empty slice\n",
      "Mean of empty slice\n",
      "Mean of empty slice\n",
      "Mean of empty slice\n",
      "Mean of empty slice\n",
      "Mean of empty slice\n",
      "Mean of empty slice\n",
      "Mean of empty slice\n",
      "Mean of empty slice\n",
      "Mean of empty slice\n",
      "Mean of empty slice\n",
      "Mean of empty slice\n",
      "Mean of empty slice\n",
      "Mean of empty slice\n",
      "Mean of empty slice\n",
      "Mean of empty slice\n",
      "Mean of empty slice\n",
      "Mean of empty slice\n",
      "Mean of empty slice\n",
      "Mean of empty slice\n",
      "Mean of empty slice\n",
      "Mean of empty slice\n",
      "Mean of empty slice\n",
      "Mean of empty slice\n",
      "Mean of empty slice\n",
      "Mean of empty slice\n",
      "Mean of empty slice\n",
      "Mean of empty slice\n",
      "Mean of empty slice\n",
      "Mean of empty slice\n",
      "Mean of empty slice\n",
      "Mean of empty slice\n",
      "Mean of empty slice\n",
      "Mean of empty slice\n",
      "Mean of empty slice\n",
      "Mean of empty slice\n",
      "Mean of empty slice\n",
      "Mean of empty slice\n",
      "Mean of empty slice\n",
      "Mean of empty slice\n",
      "Mean of empty slice\n",
      "Mean of empty slice\n",
      "Mean of empty slice\n",
      "Mean of empty slice\n",
      "Mean of empty slice\n",
      "Mean of empty slice\n",
      "Mean of empty slice\n",
      "Mean of empty slice\n",
      "Mean of empty slice\n",
      "Mean of empty slice\n",
      "Mean of empty slice\n",
      "Mean of empty slice\n",
      "Mean of empty slice\n",
      "Mean of empty slice\n",
      "Mean of empty slice\n",
      "Mean of empty slice\n",
      "Mean of empty slice\n",
      "Mean of empty slice\n",
      "Mean of empty slice\n",
      "Mean of empty slice\n",
      "Mean of empty slice\n",
      "Mean of empty slice\n",
      "Mean of empty slice\n",
      "Mean of empty slice\n",
      "Mean of empty slice\n",
      "Mean of empty slice\n",
      "Mean of empty slice\n",
      "Mean of empty slice\n",
      "Mean of empty slice\n",
      "Mean of empty slice\n",
      "Mean of empty slice\n",
      "Mean of empty slice\n",
      "Mean of empty slice\n",
      "Mean of empty slice\n",
      "Mean of empty slice\n",
      "Mean of empty slice\n",
      "Mean of empty slice\n",
      "Mean of empty slice\n",
      "Mean of empty slice\n",
      "Mean of empty slice\n"
     ]
    },
    {
     "name": "stdout",
     "output_type": "stream",
     "text": [
      "\n",
      "Columns dropped :['X', 'Y', 'Z', 'Long_for_x', 'Z_fond', 'Long_for_y', 'geometry']\n",
      "\n",
      "Ambiguous values in both columns compared, change it manually !\n",
      "Columns ['ID', 'geometry_x', 'geometry_y', 'Y_x', 'Y_y', 'Z_x', 'Z_y', 'X_x', 'X_y'] must be dropped manually !\n",
      "error file created in 'tmp_files/merging_error_log(-).csv'\n"
     ]
    }
   ],
   "source": [
    "merge_df, error_df = gdf_merger(df_litho, df_all, col='ID', how='inner')"
   ]
  },
  {
   "cell_type": "code",
   "execution_count": 6,
   "metadata": {},
   "outputs": [
    {
     "ename": "KeyError",
     "evalue": "\"['Diam_Pz_int', 'Y', 'Z', 'Long_Pz', 'X', 'Description'] not in index\"",
     "output_type": "error",
     "traceback": [
      "\u001b[0;31m---------------------------------------------------------------------------\u001b[0m",
      "\u001b[0;31mKeyError\u001b[0m                                  Traceback (most recent call last)",
      "\u001b[0;32m<ipython-input-6-06591f22ad92>\u001b[0m in \u001b[0;36m<module>\u001b[0;34m\u001b[0m\n\u001b[0;32m----> 1\u001b[0;31m \u001b[0mmerge_df\u001b[0m \u001b[0;34m=\u001b[0m \u001b[0mmerge_df\u001b[0m\u001b[0;34m[\u001b[0m\u001b[0;34m[\u001b[0m\u001b[0;34m'ID'\u001b[0m\u001b[0;34m,\u001b[0m\u001b[0;34m'X'\u001b[0m\u001b[0;34m,\u001b[0m\u001b[0;34m'Y'\u001b[0m\u001b[0;34m,\u001b[0m\u001b[0;34m'Z'\u001b[0m\u001b[0;34m,\u001b[0m\u001b[0;34m'Long_Pz'\u001b[0m\u001b[0;34m,\u001b[0m\u001b[0;34m'Diam_Pz_int'\u001b[0m\u001b[0;34m,\u001b[0m\u001b[0;34m'Description'\u001b[0m\u001b[0;34m,\u001b[0m\u001b[0;34m'Litho_top'\u001b[0m\u001b[0;34m,\u001b[0m\u001b[0;34m'Litho_base'\u001b[0m\u001b[0;34m]\u001b[0m\u001b[0;34m]\u001b[0m\u001b[0;34m\u001b[0m\u001b[0;34m\u001b[0m\u001b[0m\n\u001b[0m\u001b[1;32m      2\u001b[0m \u001b[0mgdf_viewer\u001b[0m\u001b[0;34m(\u001b[0m\u001b[0mmerge_df\u001b[0m\u001b[0;34m,\u001b[0m \u001b[0mrows\u001b[0m\u001b[0;34m=\u001b[0m\u001b[0;36m5\u001b[0m\u001b[0;34m)\u001b[0m\u001b[0;34m\u001b[0m\u001b[0;34m\u001b[0m\u001b[0m\n",
      "\u001b[0;32m~/.local/share/virtualenvs/GSDMA-DRfwm83x/lib/python3.8/site-packages/pandas/core/frame.py\u001b[0m in \u001b[0;36m__getitem__\u001b[0;34m(self, key)\u001b[0m\n\u001b[1;32m   3028\u001b[0m             \u001b[0;32mif\u001b[0m \u001b[0mis_iterator\u001b[0m\u001b[0;34m(\u001b[0m\u001b[0mkey\u001b[0m\u001b[0;34m)\u001b[0m\u001b[0;34m:\u001b[0m\u001b[0;34m\u001b[0m\u001b[0;34m\u001b[0m\u001b[0m\n\u001b[1;32m   3029\u001b[0m                 \u001b[0mkey\u001b[0m \u001b[0;34m=\u001b[0m \u001b[0mlist\u001b[0m\u001b[0;34m(\u001b[0m\u001b[0mkey\u001b[0m\u001b[0;34m)\u001b[0m\u001b[0;34m\u001b[0m\u001b[0;34m\u001b[0m\u001b[0m\n\u001b[0;32m-> 3030\u001b[0;31m             \u001b[0mindexer\u001b[0m \u001b[0;34m=\u001b[0m \u001b[0mself\u001b[0m\u001b[0;34m.\u001b[0m\u001b[0mloc\u001b[0m\u001b[0;34m.\u001b[0m\u001b[0m_get_listlike_indexer\u001b[0m\u001b[0;34m(\u001b[0m\u001b[0mkey\u001b[0m\u001b[0;34m,\u001b[0m \u001b[0maxis\u001b[0m\u001b[0;34m=\u001b[0m\u001b[0;36m1\u001b[0m\u001b[0;34m,\u001b[0m \u001b[0mraise_missing\u001b[0m\u001b[0;34m=\u001b[0m\u001b[0;32mTrue\u001b[0m\u001b[0;34m)\u001b[0m\u001b[0;34m[\u001b[0m\u001b[0;36m1\u001b[0m\u001b[0;34m]\u001b[0m\u001b[0;34m\u001b[0m\u001b[0;34m\u001b[0m\u001b[0m\n\u001b[0m\u001b[1;32m   3031\u001b[0m \u001b[0;34m\u001b[0m\u001b[0m\n\u001b[1;32m   3032\u001b[0m         \u001b[0;31m# take() does not accept boolean indexers\u001b[0m\u001b[0;34m\u001b[0m\u001b[0;34m\u001b[0m\u001b[0;34m\u001b[0m\u001b[0m\n",
      "\u001b[0;32m~/.local/share/virtualenvs/GSDMA-DRfwm83x/lib/python3.8/site-packages/pandas/core/indexing.py\u001b[0m in \u001b[0;36m_get_listlike_indexer\u001b[0;34m(self, key, axis, raise_missing)\u001b[0m\n\u001b[1;32m   1264\u001b[0m             \u001b[0mkeyarr\u001b[0m\u001b[0;34m,\u001b[0m \u001b[0mindexer\u001b[0m\u001b[0;34m,\u001b[0m \u001b[0mnew_indexer\u001b[0m \u001b[0;34m=\u001b[0m \u001b[0max\u001b[0m\u001b[0;34m.\u001b[0m\u001b[0m_reindex_non_unique\u001b[0m\u001b[0;34m(\u001b[0m\u001b[0mkeyarr\u001b[0m\u001b[0;34m)\u001b[0m\u001b[0;34m\u001b[0m\u001b[0;34m\u001b[0m\u001b[0m\n\u001b[1;32m   1265\u001b[0m \u001b[0;34m\u001b[0m\u001b[0m\n\u001b[0;32m-> 1266\u001b[0;31m         \u001b[0mself\u001b[0m\u001b[0;34m.\u001b[0m\u001b[0m_validate_read_indexer\u001b[0m\u001b[0;34m(\u001b[0m\u001b[0mkeyarr\u001b[0m\u001b[0;34m,\u001b[0m \u001b[0mindexer\u001b[0m\u001b[0;34m,\u001b[0m \u001b[0maxis\u001b[0m\u001b[0;34m,\u001b[0m \u001b[0mraise_missing\u001b[0m\u001b[0;34m=\u001b[0m\u001b[0mraise_missing\u001b[0m\u001b[0;34m)\u001b[0m\u001b[0;34m\u001b[0m\u001b[0;34m\u001b[0m\u001b[0m\n\u001b[0m\u001b[1;32m   1267\u001b[0m         \u001b[0;32mreturn\u001b[0m \u001b[0mkeyarr\u001b[0m\u001b[0;34m,\u001b[0m \u001b[0mindexer\u001b[0m\u001b[0;34m\u001b[0m\u001b[0;34m\u001b[0m\u001b[0m\n\u001b[1;32m   1268\u001b[0m \u001b[0;34m\u001b[0m\u001b[0m\n",
      "\u001b[0;32m~/.local/share/virtualenvs/GSDMA-DRfwm83x/lib/python3.8/site-packages/pandas/core/indexing.py\u001b[0m in \u001b[0;36m_validate_read_indexer\u001b[0;34m(self, key, indexer, axis, raise_missing)\u001b[0m\n\u001b[1;32m   1314\u001b[0m             \u001b[0;32mif\u001b[0m \u001b[0mraise_missing\u001b[0m\u001b[0;34m:\u001b[0m\u001b[0;34m\u001b[0m\u001b[0;34m\u001b[0m\u001b[0m\n\u001b[1;32m   1315\u001b[0m                 \u001b[0mnot_found\u001b[0m \u001b[0;34m=\u001b[0m \u001b[0mlist\u001b[0m\u001b[0;34m(\u001b[0m\u001b[0mset\u001b[0m\u001b[0;34m(\u001b[0m\u001b[0mkey\u001b[0m\u001b[0;34m)\u001b[0m \u001b[0;34m-\u001b[0m \u001b[0mset\u001b[0m\u001b[0;34m(\u001b[0m\u001b[0max\u001b[0m\u001b[0;34m)\u001b[0m\u001b[0;34m)\u001b[0m\u001b[0;34m\u001b[0m\u001b[0;34m\u001b[0m\u001b[0m\n\u001b[0;32m-> 1316\u001b[0;31m                 \u001b[0;32mraise\u001b[0m \u001b[0mKeyError\u001b[0m\u001b[0;34m(\u001b[0m\u001b[0;34mf\"{not_found} not in index\"\u001b[0m\u001b[0;34m)\u001b[0m\u001b[0;34m\u001b[0m\u001b[0;34m\u001b[0m\u001b[0m\n\u001b[0m\u001b[1;32m   1317\u001b[0m \u001b[0;34m\u001b[0m\u001b[0m\n\u001b[1;32m   1318\u001b[0m             \u001b[0mnot_found\u001b[0m \u001b[0;34m=\u001b[0m \u001b[0mkey\u001b[0m\u001b[0;34m[\u001b[0m\u001b[0mmissing_mask\u001b[0m\u001b[0;34m]\u001b[0m\u001b[0;34m\u001b[0m\u001b[0;34m\u001b[0m\u001b[0m\n",
      "\u001b[0;31mKeyError\u001b[0m: \"['Diam_Pz_int', 'Y', 'Z', 'Long_Pz', 'X', 'Description'] not in index\""
     ]
    }
   ],
   "source": [
    "merge_df = merge_df[['ID','X','Y','Z','Long_Pz','Diam_Pz_int','Description','Litho_top','Litho_base']]\n",
    "gdf_viewer(merge_df, rows=5)"
   ]
  },
  {
   "cell_type": "markdown",
   "metadata": {},
   "source": [
    "## Data Checking"
   ]
  },
  {
   "cell_type": "code",
   "execution_count": null,
   "metadata": {},
   "outputs": [],
   "source": [
    "dist_crit=1\n",
    "df=merge_df\n",
    "\n",
    "indexes = []\n",
    "for i in range(0,len(df)-1):\n",
    "    if 'geometry' in df.columns:\n",
    "        d=df.loc[i, 'geometry'].distance(df.loc[i+1, 'geometry'])\n",
    "        if d<dist_crit or d>1e+4:\n",
    "            indexes.append(i)\n",
    "            #print(f\"{df.loc[i,'ID']} <-> {df.loc[i+1,'ID']} : {d:.2} meters\")\n",
    "\n",
    "if 'geometry' in df.columns:\n",
    "    print('\\n',f'{len(indexes)}/{len(df)} elements with probably bad XY')\n",
    "    print(f'\\nIndexes: {indexes}\\n\\nNAN_indexes: {df.query(\"X!=X\").index}')\n",
    "else:\n",
    "    print('No geometry column in the dataframe')"
   ]
  },
  {
   "cell_type": "markdown",
   "metadata": {},
   "source": [
    "## Lithology extraction and test"
   ]
  },
  {
   "cell_type": "code",
   "execution_count": null,
   "metadata": {},
   "outputs": [],
   "source": [
    "lexicon = Lexicon(LEXICON)"
   ]
  },
  {
   "cell_type": "code",
   "execution_count": null,
   "metadata": {},
   "outputs": [],
   "source": [
    "desc_col = 'Description'\n",
    "df = merge_df"
   ]
  },
  {
   "cell_type": "code",
   "execution_count": null,
   "metadata": {
    "scrolled": true
   },
   "outputs": [],
   "source": [
    "comp_list = []\n",
    "for d in df[desc_col]:\n",
    "    comp_list.append(Component.from_text(d, lexicon))\n",
    "df['Component']=comp_list"
   ]
  },
  {
   "cell_type": "code",
   "execution_count": null,
   "metadata": {},
   "outputs": [],
   "source": [
    "for i in range(len(df)):\n",
    "    d=df.loc[i, desc_col]\n",
    "    Component.from_text(d, lexicon)"
   ]
  },
  {
   "cell_type": "code",
   "execution_count": null,
   "metadata": {},
   "outputs": [],
   "source": [
    "idx=65\n",
    "\n",
    "print(f\"{type(df['Component'][idx])}\\n\\n idx {idx}: [{df['ID'][idx]}] --> \"\n",
    "      f\"{df['Description'][idx]}\")\n",
    "df['Component'][idx] # TODO : need some modifications on colour, grainsize lexicons"
   ]
  },
  {
   "cell_type": "code",
   "execution_count": null,
   "metadata": {},
   "outputs": [],
   "source": [
    "# problem with this description above : there are two intervals in one description --> \n",
    "# data incoherence (unfortunately)"
   ]
  },
  {
   "cell_type": "markdown",
   "metadata": {},
   "source": [
    "## Create boreholes and components objects from dataframe"
   ]
  },
  {
   "cell_type": "code",
   "execution_count": null,
   "metadata": {},
   "outputs": [],
   "source": [
    "boreholes, components, link_intv_comp= boreholes_from_files([df], verbose=False, diam_field='Diam_Pz_int', \n",
    "                                            length_field='Long_Pz', litho_field='Description',\n",
    "                                           litho_top='Litho_top', litho_base='Litho_base',\n",
    "                                           lexicon=lexicon)#, x=list(df_all.X), y=list(df_all.Y), verbose=False)"
   ]
  },
  {
   "cell_type": "code",
   "execution_count": null,
   "metadata": {},
   "outputs": [],
   "source": [
    "len(boreholes), len(components)"
   ]
  },
  {
   "cell_type": "raw",
   "metadata": {},
   "source": [
    "components"
   ]
  },
  {
   "cell_type": "raw",
   "metadata": {},
   "source": [
    "boreholes"
   ]
  },
  {
   "cell_type": "markdown",
   "metadata": {},
   "source": [
    "### Saving in a database"
   ]
  },
  {
   "cell_type": "code",
   "execution_count": null,
   "metadata": {},
   "outputs": [],
   "source": [
    "remove('tmp_files/tfe_orm_db.db')"
   ]
  },
  {
   "cell_type": "code",
   "execution_count": null,
   "metadata": {},
   "outputs": [],
   "source": [
    "engine = create_engine('sqlite:///tmp_files/tfe_orm_db.db', echo=True)"
   ]
  },
  {
   "cell_type": "code",
   "execution_count": null,
   "metadata": {
    "scrolled": true
   },
   "outputs": [],
   "source": [
    "Base.metadata.create_all(engine)"
   ]
  },
  {
   "cell_type": "markdown",
   "metadata": {},
   "source": [
    "## Add differents objects into the project"
   ]
  },
  {
   "cell_type": "code",
   "execution_count": null,
   "metadata": {},
   "outputs": [],
   "source": [
    "Session = sessionmaker(bind=engine)\n",
    "session = Session()"
   ]
  },
  {
   "cell_type": "code",
   "execution_count": null,
   "metadata": {
    "scrolled": true
   },
   "outputs": [],
   "source": [
    "p = Project(session)\n",
    "p.add_components(components)"
   ]
  },
  {
   "cell_type": "code",
   "execution_count": null,
   "metadata": {},
   "outputs": [],
   "source": [
    "for bh in boreholes:\n",
    "    p.add_borehole(bh)"
   ]
  },
  {
   "cell_type": "code",
   "execution_count": null,
   "metadata": {},
   "outputs": [],
   "source": [
    "p.add_link_between_components_and_intervals(link_intv_comp)"
   ]
  },
  {
   "cell_type": "code",
   "execution_count": null,
   "metadata": {},
   "outputs": [],
   "source": [
    "p.commit()\n",
    "print('Boreholes in the project : ', len(p.boreholes))"
   ]
  },
  {
   "cell_type": "raw",
   "metadata": {},
   "source": [
    "p.boreholes"
   ]
  },
  {
   "cell_type": "code",
   "execution_count": null,
   "metadata": {},
   "outputs": [],
   "source": [
    "p.refresh(verbose=True)"
   ]
  },
  {
   "cell_type": "code",
   "execution_count": null,
   "metadata": {},
   "outputs": [],
   "source": [
    "session.close()"
   ]
  },
  {
   "cell_type": "code",
   "execution_count": null,
   "metadata": {
    "scrolled": true
   },
   "outputs": [],
   "source": [
    "p.boreholes_3d[0].intervals"
   ]
  },
  {
   "cell_type": "markdown",
   "metadata": {},
   "source": [
    "## The Borehole 3D plot using X3D for interaction within the notebook"
   ]
  },
  {
   "cell_type": "code",
   "execution_count": null,
   "metadata": {},
   "outputs": [],
   "source": [
    "p.plot3d(x3d=True)"
   ]
  },
  {
   "cell_type": "markdown",
   "metadata": {},
   "source": [
    "##  ================== Draft ================="
   ]
  },
  {
   "cell_type": "raw",
   "metadata": {},
   "source": [
    "# important : create personalized legend\n",
    "\n",
    "list_of_decors=[]\n",
    "hatches = ['=', 'x', '.', 's', '=', 'b']\n",
    "colours = ['#888888', '#882222', '#AAAAAA', '#CC22CC', '#CC2222', '#2222CC']\n",
    "\n",
    "for i in range(len(components)):\n",
    "    if hasattr(components[i], 'colour'):\n",
    "        c = components[i].colour\n",
    "    else:\n",
    "        c=colours[i]\n",
    "    \n",
    "    if hasattr(components[i], 'hatch'):\n",
    "        h = components[i].hatch\n",
    "    else:\n",
    "        h=hatches[i]\n",
    "        \n",
    "    d = {'color': c,\n",
    "         'hatch': h,\n",
    "         'component': components[i],\n",
    "         'width': 3}\n",
    "    decor = Decor(d)\n",
    "    list_of_decors.append(decor)\n",
    "    \n",
    "legend = Legend(list_of_decors)\n"
   ]
  },
  {
   "cell_type": "raw",
   "metadata": {},
   "source": [
    "bh_dict={}\n",
    "for bh_id in list(set(df.ID)):\n",
    "    #print(bh_id)\n",
    "    bh_comp=df[df['ID']==f\"{bh_id}\"]['Component']\n",
    "    bh_dict.update({bh_id:bh_comp})"
   ]
  },
  {
   "cell_type": "raw",
   "metadata": {},
   "source": [
    "bh_dict['F7']"
   ]
  },
  {
   "cell_type": "raw",
   "metadata": {},
   "source": [
    "bhs_df=[df_all]"
   ]
  },
  {
   "cell_type": "raw",
   "metadata": {},
   "source": [
    "df_all[['ID','Long_Pz']].query(\"ID=='112'\")"
   ]
  },
  {
   "cell_type": "raw",
   "metadata": {},
   "source": [
    "boreholes, components= boreholes_from_files(bhs_df, verbose=True, diam_field='Diam_Pz_int', length_field='Long_Pz')#, x=list(df_all.X), y=list(df_all.Y), verbose=False)"
   ]
  },
  {
   "cell_type": "raw",
   "metadata": {},
   "source": [
    "df_all.X.max(),df_all.X.min(),df_all.Y.max(),df_all.Y.min(), "
   ]
  },
  {
   "cell_type": "raw",
   "metadata": {},
   "source": [
    "# filter dataframe regarding to a specific column\n",
    "def bh_filter(df, col=None, dist=1):\n",
    "    \n",
    "    lidx=[]\n",
    "    for idx, row in df.iterrows():\n",
    "        if idx < len(df)-1 and df.loc[idx, 'ID'] ==\\\n",
    "        df.loc[idx+1, 'ID']:\n",
    "            print(df.loc[idx,['X','Y','Z']])\n",
    "            lidx.append(idx)\n",
    "\n",
    "    len(set(lidx) ^ set(df.index))\n",
    "    df.drop(index=lidx, inplace=True)\n",
    "    df.reset_index(inplace=True, drop=True)\n",
    "    \n",
    "    #return df"
   ]
  },
  {
   "cell_type": "raw",
   "metadata": {},
   "source": [
    "#x3D option : '<viewpoint position=\"388.57 396.244 -26.473\" orientation=\"0.421 0.575 0.700 2.546\">' \\"
   ]
  },
  {
   "cell_type": "markdown",
   "metadata": {},
   "source": [
    "#### Codes qui peuvent aider si besoin (Brouillon)"
   ]
  },
  {
   "cell_type": "raw",
   "metadata": {},
   "source": [
    "# use this piece of code to treat hatch, color to build legend\n",
    "d={}\n",
    "for i in range(0,5):\n",
    "    d.update({random.sample(l,1)[0]:random.sample(c,1)[0]})\n",
    "d"
   ]
  },
  {
   "cell_type": "raw",
   "metadata": {},
   "source": [
    "%time\n",
    "for i,j in df_all.iterrows():\n",
    "    if i>1325:\n",
    "        print(i)\n",
    "    pass"
   ]
  },
  {
   "cell_type": "raw",
   "metadata": {},
   "source": [
    "col='X'\n",
    "a=0\n",
    "t=[]\n",
    "for i in df_all[col]:\n",
    "    if type(i) not in t:\n",
    "        t.append(type(i))\n",
    "    if type(i) is not str:\n",
    "        a+=1\n",
    "        #print(i)\n",
    "print(f\"{a}/{len(df_all)}\",\"\\n\\n\", t)"
   ]
  },
  {
   "cell_type": "raw",
   "metadata": {},
   "source": [
    "f = re.DOTALL | re.IGNORECASE\n",
    "        regex_data = r'start.+?\\n(.+?)(?:\\n\\n+|\\n*\\#|\\n*$)'  # retrieve data of BH\n",
    "\n",
    "        pattern = re.compile(regex_data, flags=f)\n",
    "        with open(filename, 'r') as csv:\n",
    "            text = pattern.search(csv.read()).group(1)\n",
    "            text = re.sub(r'[\\t]+', ';', re.sub(r'(\\n+|\\r\\n|\\r)', '\\n', text.strip()))"
   ]
  }
 ],
 "metadata": {
  "kernelspec": {
   "display_name": "Python 3",
   "language": "python",
   "name": "python3"
  },
  "language_info": {
   "codemirror_mode": {
    "name": "ipython",
    "version": 3
   },
   "file_extension": ".py",
   "mimetype": "text/x-python",
   "name": "python",
   "nbconvert_exporter": "python",
   "pygments_lexer": "ipython3",
   "version": "3.8.5"
  }
 },
 "nbformat": 4,
 "nbformat_minor": 4
}
