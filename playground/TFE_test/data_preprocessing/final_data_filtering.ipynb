{
 "cells": [
  {
   "cell_type": "markdown",
   "id": "finite-killing",
   "metadata": {},
   "source": [
    "# FILTRAGE DES JEUX DE DONNEES"
   ]
  },
  {
   "cell_type": "code",
   "execution_count": 1,
   "id": "educational-barrier",
   "metadata": {},
   "outputs": [],
   "source": [
    "from utils.io import dataframe_viewer, dict_viewer, data_merger, data_validation, na_line_drop, find_bh_synonyms, \\\n",
    "choose_bh_synonym, gen_id_from_ech, value_replication, find_borehole_by_position\n",
    "\n",
    "import re, os\n",
    "import json\n",
    "import numpy as np\n",
    "import pandas as pd\n",
    "import geopandas as gpd\n",
    "from definitions import ROOT_DIR"
   ]
  },
  {
   "cell_type": "code",
   "execution_count": 2,
   "id": "6e614c6c",
   "metadata": {},
   "outputs": [],
   "source": [
    "save_dir = ROOT_DIR + '/CF_data/Result_traitem/fusion_finale/filtered/'"
   ]
  },
  {
   "cell_type": "code",
   "execution_count": 3,
   "id": "04fd9ee8",
   "metadata": {},
   "outputs": [
    {
     "data": {
      "text/plain": [
       "0"
      ]
     },
     "execution_count": 3,
     "metadata": {},
     "output_type": "execute_result"
    }
   ],
   "source": [
    "# os.system(f\"rm -f {ROOT_DIR}/utils/boreholes_synonyms/bh_syn_distmax_0-6.py\")\n",
    "os.system(f\"rm -rf {save_dir}\") \n",
    "os.system(f\"mkdir {save_dir}\") "
   ]
  },
  {
   "cell_type": "code",
   "execution_count": 4,
   "id": "6a02e6f0",
   "metadata": {},
   "outputs": [],
   "source": [
    "def list_diff(li1, li2):\n",
    "    return list(set(li1) - set(li2)) + list(set(li2) - set(li1))"
   ]
  },
  {
   "cell_type": "markdown",
   "id": "191621e8",
   "metadata": {},
   "source": [
    "# Lecture de données de référence sur les forages"
   ]
  },
  {
   "cell_type": "markdown",
   "id": "9454b8ac",
   "metadata": {},
   "source": [
    "* Données issues des fiches des logs de forage"
   ]
  },
  {
   "cell_type": "code",
   "execution_count": 5,
   "id": "098d5248",
   "metadata": {},
   "outputs": [],
   "source": [
    "import importlib.machinery\n",
    "import importlib.util\n",
    "\n",
    "loader = importlib.machinery.SourceFileLoader('known_bhs', '/home/yanathan/Projects/GSDMA/CF_data/known_boreholes.py' )\n",
    "spec = importlib.util.spec_from_loader('known_bhs', loader)\n",
    "known_bhs = importlib.util.module_from_spec(spec)\n",
    "loader.exec_module(known_bhs)\n",
    "log_bhs = known_bhs.known_boreholes"
   ]
  },
  {
   "cell_type": "code",
   "execution_count": 6,
   "id": "589e664d",
   "metadata": {},
   "outputs": [],
   "source": [
    "df_log_bh = pd.DataFrame()"
   ]
  },
  {
   "cell_type": "code",
   "execution_count": 7,
   "id": "0f90888e",
   "metadata": {},
   "outputs": [],
   "source": [
    "idx = 0\n",
    "for k, v in log_bhs.items():\n",
    "    df_log_bh.loc[idx, 'ID'] = k\n",
    "    for p, q in v.items():\n",
    "        df_log_bh.loc[idx, p] = q\n",
    "    idx += 1"
   ]
  },
  {
   "cell_type": "code",
   "execution_count": 8,
   "id": "66ebbf2a",
   "metadata": {},
   "outputs": [
    {
     "name": "stdout",
     "output_type": "stream",
     "text": [
      "Rows : 65, columns : 8, Unique values on cols: {'ID': 65}\n"
     ]
    },
    {
     "data": {
      "application/vnd.jupyter.widget-view+json": {
       "model_id": "bf2a83b7ddb44102982669a581009321",
       "version_major": 2,
       "version_minor": 0
      },
      "text/plain": [
       "interactive(children=(IntSlider(value=5, description='rows', max=65, min=5, readout=False), IntSlider(value=8,…"
      ]
     },
     "metadata": {},
     "output_type": "display_data"
    }
   ],
   "source": [
    "dataframe_viewer(df_log_bh, rows=5, un_val='ID')"
   ]
  },
  {
   "cell_type": "markdown",
   "id": "49d2d234",
   "metadata": {},
   "source": [
    "* Données issues des shapefiles"
   ]
  },
  {
   "cell_type": "code",
   "execution_count": 9,
   "id": "0312c8a6",
   "metadata": {},
   "outputs": [],
   "source": [
    "shapef_dir = ROOT_DIR+\"/CF_data/Data_UMONS/SIG/\"\n",
    "shp1 = gpd.read_file(shapef_dir+\"Pilote_v8.0.shp\")\n",
    "shp2 = gpd.read_file(shapef_dir+\"sondages_v2017-05-18.shp\")"
   ]
  },
  {
   "cell_type": "code",
   "execution_count": 10,
   "id": "7ac31853",
   "metadata": {},
   "outputs": [],
   "source": [
    "shp1['X'] = shp1.geometry.x\n",
    "shp1['Y'] = shp1.geometry.y"
   ]
  },
  {
   "cell_type": "code",
   "execution_count": 11,
   "id": "04020828",
   "metadata": {},
   "outputs": [],
   "source": [
    "shp2.rename(columns={'Ref_sond':'ID','XL72':'X','YL72':'Y','Date':'Date_for','Prof_sond':'Long_for'}, inplace=True)\n",
    "shp1.rename(columns={'Ref':'ID'}, inplace=True)"
   ]
  },
  {
   "cell_type": "code",
   "execution_count": 12,
   "id": "02268af6",
   "metadata": {},
   "outputs": [],
   "source": [
    "shp1 = shp1[['ID', 'X', 'Y']]\n",
    "shp2 = shp2[['ID', 'X', 'Y', 'Z', 'Refus', 'Date_for', 'Long_for']]"
   ]
  },
  {
   "cell_type": "code",
   "execution_count": 13,
   "id": "d11c85b0",
   "metadata": {},
   "outputs": [],
   "source": [
    "shp_df, conflict_df=data_merger(shp1, shp2, how='outer', on=['ID'], dist_max=.5)"
   ]
  },
  {
   "cell_type": "markdown",
   "id": "ea9f384f",
   "metadata": {},
   "source": [
    "### Traitements et fusion des données de base"
   ]
  },
  {
   "cell_type": "code",
   "execution_count": 14,
   "id": "6608c12b",
   "metadata": {},
   "outputs": [],
   "source": [
    "idx = shp_df.query('ID.str.contains(\"^P\\d\")').index\n",
    "shp_df.loc[idx, 'ID'] = shp_df.loc[idx, 'ID'].apply(lambda x: x.replace('P','F'))"
   ]
  },
  {
   "cell_type": "raw",
   "id": "0c92cf44",
   "metadata": {},
   "source": [
    "idx = shp_df.query('ID.str.contains(\"M$\")').index\n",
    "shp_df.loc[idx, 'ID'] = shp_df.loc[idx, 'ID'].apply(lambda x: x.rstrip('M'))"
   ]
  },
  {
   "cell_type": "raw",
   "id": "7caa4ec7",
   "metadata": {},
   "source": [
    "idx = df_log_bh.query('ID.str.contains(\"M$\")').index\n",
    "df_log_bh.loc[idx, 'ID'] = df_log_bh.loc[idx, 'ID'].apply(lambda x: x.strip('M'))"
   ]
  },
  {
   "cell_type": "markdown",
   "id": "5a0a79e2",
   "metadata": {},
   "source": [
    "Fusion"
   ]
  },
  {
   "cell_type": "code",
   "execution_count": 15,
   "id": "127fc0c6",
   "metadata": {},
   "outputs": [
    {
     "name": "stdout",
     "output_type": "stream",
     "text": [
      "Conflict values present. Please resolve this manually !\n"
     ]
    }
   ],
   "source": [
    "bh_base, conflict_df=data_merger(df_log_bh, shp_df, how='outer', on=['ID'], dist_max=0.5)"
   ]
  },
  {
   "cell_type": "code",
   "execution_count": 16,
   "id": "acc1df1a",
   "metadata": {},
   "outputs": [
    {
     "name": "stdout",
     "output_type": "stream",
     "text": [
      "all conflicts have been fixed!\n"
     ]
    }
   ],
   "source": [
    "dataset = bh_base\n",
    "data_validation(overall_data=dataset, conflict_data=conflict_df, index_col='index', \n",
    "                valid_dict={'Date_for_y':list(conflict_df.index)})\n",
    "\n",
    "if 'level_0' in dataset.columns:\n",
    "    if 'index' in dataset.columns:\n",
    "        dataset.drop(columns='index', inplace=True)\n",
    "    dataset.rename(columns={'level_0':'index'}, inplace=True)"
   ]
  },
  {
   "cell_type": "code",
   "execution_count": 17,
   "id": "4f9a861f",
   "metadata": {},
   "outputs": [
    {
     "name": "stdout",
     "output_type": "stream",
     "text": [
      "Rows : 186, columns : 9, Unique values on cols: {'ID': 186}\n"
     ]
    },
    {
     "data": {
      "application/vnd.jupyter.widget-view+json": {
       "model_id": "0b0a6d4a84494407922dc275db94a7af",
       "version_major": 2,
       "version_minor": 0
      },
      "text/plain": [
       "interactive(children=(IntSlider(value=5, description='rows', max=186, min=5, readout=False), IntSlider(value=9…"
      ]
     },
     "metadata": {},
     "output_type": "display_data"
    }
   ],
   "source": [
    "dataframe_viewer(rows=5, un_val=['ID'], df=bh_base)#.query('ID.str.contains(\"^P\\d\")'))"
   ]
  },
  {
   "cell_type": "markdown",
   "id": "ce74a182",
   "metadata": {},
   "source": [
    "# Lecture des jeux de données issues du prétraitement final"
   ]
  },
  {
   "cell_type": "code",
   "execution_count": 18,
   "id": "33285a0e",
   "metadata": {},
   "outputs": [],
   "source": [
    "bh = pd.read_csv(ROOT_DIR+'/CF_data/Result_traitem/fusion_finale/Boreholes.csv', delimiter=',')\n",
    "litho = pd.read_csv(ROOT_DIR+'/CF_data/Result_traitem/fusion_finale/Lithologies.csv', delimiter=',')\n",
    "samp = pd.read_csv(ROOT_DIR+'/CF_data/Result_traitem/fusion_finale/Samples.csv', delimiter=',')\n",
    "meas = pd.read_csv(ROOT_DIR+'/CF_data/Result_traitem/fusion_finale/Measures.csv', delimiter=',')\n",
    "eqp = pd.read_csv(ROOT_DIR+'/CF_data/Result_traitem/fusion_finale/Equipments.csv', delimiter=',')\n",
    "ukn = pd.read_csv(ROOT_DIR+'/CF_data/Result_traitem/fusion_finale/Unknown.csv', delimiter=',')"
   ]
  },
  {
   "cell_type": "code",
   "execution_count": 19,
   "id": "24788f3c",
   "metadata": {},
   "outputs": [],
   "source": [
    "data_dict = {'boreholes':bh, 'lithologies':litho, 'samples':samp, 'measures':meas, 'equipments':eqp, 'unknows':ukn}\n",
    "data_coi = {'boreholes':[], 'lithologies':[], 'samples':[], 'measures':[], 'equipments':[], 'unknows':[]}"
   ]
  },
  {
   "cell_type": "code",
   "execution_count": 20,
   "id": "fa274988",
   "metadata": {},
   "outputs": [],
   "source": [
    "for d_key in data_dict.keys():\n",
    "    coi = []\n",
    "    for c in ['ID','ID_ech','X','Y','Z','Long_for','Diam_for','Date_','_top','_base','_epai','Description']:\n",
    "        for col in data_dict[d_key].columns:\n",
    "            if '_' in c and re.search(c, col, re.I):\n",
    "                coi.append(col)\n",
    "            elif c == col:\n",
    "                coi.append(col)\n",
    "\n",
    "    data_coi.update({d_key: coi})"
   ]
  },
  {
   "cell_type": "code",
   "execution_count": 21,
   "id": "4be3adb9",
   "metadata": {},
   "outputs": [
    {
     "data": {
      "text/html": [
       "<table><tr><td><strong>boreholes</strong></td><td>['ID', 'X', 'Y', 'Z', 'Long_for', 'Diam_for', 'Date_for']</td></tr><tr><td><strong>lithologies</strong></td><td>['ID', 'X', 'Y', 'Z', 'Long_for', 'Date_for', 'Litho_top', 'Litho_base', 'Litho_epais', 'Description']</td></tr><tr><td><strong>samples</strong></td><td>['ID', 'ID_ech', 'X', 'Y', 'Z', 'Long_for', 'Date_ech', 'Date_for', 'Pol_top', 'Ech_top', 'Pol_base', 'Ech_base', 'Description']</td></tr><tr><td><strong>measures</strong></td><td>['ID', 'ID_ech', 'X', 'Y', 'Z', 'Date_mes', 'Date_for']</td></tr><tr><td><strong>equipments</strong></td><td>['ID', 'X', 'Y', 'Z', 'Diam_for', 'Date_for', 'Equip_top', 'Equip_base', 'Equip_epais']</td></tr><tr><td><strong>unknows</strong></td><td>['ID', 'X', 'Y', 'Z', 'Long_for', 'Date_for']</td></tr></table>"
      ],
      "text/plain": [
       "<IPython.core.display.HTML object>"
      ]
     },
     "metadata": {},
     "output_type": "display_data"
    }
   ],
   "source": [
    "dict_viewer(data_coi)"
   ]
  },
  {
   "cell_type": "markdown",
   "id": "1a42050d",
   "metadata": {},
   "source": [
    "### Traitements et fusion des jeux de données"
   ]
  },
  {
   "cell_type": "markdown",
   "id": "92fb90b2",
   "metadata": {},
   "source": [
    "* Forages"
   ]
  },
  {
   "cell_type": "code",
   "execution_count": 22,
   "id": "c858548a",
   "metadata": {},
   "outputs": [],
   "source": [
    "key = 'boreholes'\n",
    "data_dict[key].insert(0, 'ID', data_dict[key].pop('ID'))"
   ]
  },
  {
   "cell_type": "code",
   "execution_count": 23,
   "id": "5a25c2be",
   "metadata": {},
   "outputs": [],
   "source": [
    "idx = data_dict[key].query('ID.str.contains(\"^P\\d\")').index\n",
    "data_dict[key].loc[idx, 'ID'] = data_dict[key].loc[idx, 'ID'].apply(lambda x: x.replace('P','F'))"
   ]
  },
  {
   "cell_type": "raw",
   "id": "674d42dc",
   "metadata": {},
   "source": [
    "idx = data_dict[key].query('ID.str.contains(\"M$\")').index\n",
    "data_dict[key].loc[idx, 'ID'] = data_dict[key].loc[idx, 'ID'].apply(lambda x: x.strip('M'))"
   ]
  },
  {
   "cell_type": "markdown",
   "id": "a1d6b734",
   "metadata": {},
   "source": [
    "Fusion avec les données de base"
   ]
  },
  {
   "cell_type": "code",
   "execution_count": 24,
   "id": "fa6e6ffc",
   "metadata": {},
   "outputs": [
    {
     "name": "stdout",
     "output_type": "stream",
     "text": [
      "Conflict values present. Please resolve this manually !\n"
     ]
    }
   ],
   "source": [
    "bh_all, conflict_df=data_merger(bh_base, data_dict[key], how='outer', on=['ID'], dist_max=1)"
   ]
  },
  {
   "cell_type": "code",
   "execution_count": 25,
   "id": "7b0ac78c",
   "metadata": {
    "scrolled": true
   },
   "outputs": [
    {
     "name": "stdout",
     "output_type": "stream",
     "text": [
      "all conflicts have been fixed!\n"
     ]
    }
   ],
   "source": [
    "dataset = bh_all\n",
    "data_validation(overall_data=dataset, conflict_data=conflict_df, index_col='index', \n",
    "                valid_dict={'Refus_y':list(conflict_df.index), 'Date_for_x':list(conflict_df.index), \n",
    "                            'Long_for_x':list(conflict_df.index), 'Diam_for_x':list(conflict_df.index)})\n",
    "\n",
    "if 'level_0' in dataset.columns:\n",
    "    if 'index' in dataset.columns:\n",
    "        dataset.drop(columns='index', inplace=True)\n",
    "    dataset.rename(columns={'level_0':'index'}, inplace=True)"
   ]
  },
  {
   "cell_type": "code",
   "execution_count": 26,
   "id": "c1082f83",
   "metadata": {},
   "outputs": [],
   "source": [
    "sufx = ['sup', 'prof', 'inf', '/\\dM(\\*)?']\n",
    "prefx = ['eau forage ']\n",
    "id_reg = '\\s*(?P<id>(?:^canne |Piezair | bloqué$)*\\w*\\d+\\w*)\\s*'\n",
    "keys = ['boreholes','lithologies','samples','measures','equipments','unknows']"
   ]
  },
  {
   "cell_type": "code",
   "execution_count": 27,
   "id": "3302621a",
   "metadata": {},
   "outputs": [],
   "source": [
    "bh_all = gen_id_from_ech(bh_all, id_ech_col='ID', suffixes=sufx, prefixes=prefx, capture_regex=id_reg, \n",
    "                         regex_skip='bloqué')\n",
    "bh_all.drop(columns='ID_ech', inplace=True)"
   ]
  },
  {
   "cell_type": "code",
   "execution_count": 28,
   "id": "2b81fecb",
   "metadata": {},
   "outputs": [],
   "source": [
    "bh_all.loc[bh_all.query('Diam_for==75').index, 'Diam_for'] = 0.075"
   ]
  },
  {
   "cell_type": "code",
   "execution_count": 29,
   "id": "375c498f",
   "metadata": {},
   "outputs": [],
   "source": [
    "chg_bh_id = {'224':[213],'_224_':[214],'226':[215],'306':[216],\"F27dM\":[192,193],'F27aM':[189],'F26M':[187,188,718],\n",
    "         'F26':[719],'F25M':[185,186,613],'F25':[612],'F24aM':[182],'F24bM':[183,184],'F23M':[180,181,716],'F17dM':[228],\n",
    "         'F23':[717],'F22M':[178,179],'50':[206],'51':[207],'51':[208,810],'F2M':[329],'F11M':[334],'F12M':[335],\n",
    "         'F13M':[336],'F14M':[225],'F15bM':[226],'F18bM':[169],\"F18c\":\"F18cM\",'F16M':[227],'F19M':[172,173,714,715],}\n",
    "\n",
    "for k, v in chg_bh_id.items(): \n",
    "    if isinstance(v, list):\n",
    "        bh_all.loc[v, 'ID'] = k\n",
    "    elif isinstance(v, str):\n",
    "        bh_all.loc[bh_all.query(f'ID==\"{k}\"').index, 'ID'] = v"
   ]
  },
  {
   "cell_type": "code",
   "execution_count": 30,
   "id": "98e0d70b",
   "metadata": {},
   "outputs": [],
   "source": [
    "data_dict[key] = bh_all"
   ]
  },
  {
   "cell_type": "code",
   "execution_count": 31,
   "id": "774ab4d2",
   "metadata": {},
   "outputs": [],
   "source": [
    "bh_cols = ['ID','X','Y','Z','Long_for','Diam_for','Date_for']#,'Refus','Societe','Zone','Etude','Method']\n",
    "bhs = bh_all[bh_cols]"
   ]
  },
  {
   "cell_type": "markdown",
   "id": "2b8b8cf8",
   "metadata": {},
   "source": [
    "* Lithologies"
   ]
  },
  {
   "cell_type": "code",
   "execution_count": 32,
   "id": "65a39e38",
   "metadata": {},
   "outputs": [],
   "source": [
    "key = 'lithologies'\n",
    "data_dict[key].insert(0, 'ID', data_dict[key].pop('ID'))"
   ]
  },
  {
   "cell_type": "code",
   "execution_count": 33,
   "id": "8d761f74",
   "metadata": {},
   "outputs": [],
   "source": [
    "litho_cols = ['ID','X','Y','Z','Date_for','Long_for','Litho_top','Litho_base','Description']"
   ]
  },
  {
   "cell_type": "code",
   "execution_count": 34,
   "id": "056e71ed",
   "metadata": {},
   "outputs": [],
   "source": [
    "# skip trenches data\n",
    "data_dict[key] = data_dict[key].drop(index=data_dict[key].query('ID.str.contains(\"^T\")').index)[litho_cols]"
   ]
  },
  {
   "cell_type": "code",
   "execution_count": 35,
   "id": "80783661",
   "metadata": {},
   "outputs": [
    {
     "name": "stdout",
     "output_type": "stream",
     "text": [
      "Rows : 1845, columns : 9, Unique values on cols: {'ID': 401}\n"
     ]
    },
    {
     "data": {
      "application/vnd.jupyter.widget-view+json": {
       "model_id": "2b5f400b2a744cc7aa8ae7f6831d93df",
       "version_major": 2,
       "version_minor": 0
      },
      "text/plain": [
       "interactive(children=(IntSlider(value=5, description='rows', max=1845, min=5, readout=False), IntSlider(value=…"
      ]
     },
     "metadata": {},
     "output_type": "display_data"
    }
   ],
   "source": [
    "dataframe_viewer(rows=5, un_val=['ID'], df=data_dict[key])"
   ]
  },
  {
   "cell_type": "markdown",
   "id": "4c641bf9",
   "metadata": {},
   "source": [
    "correction d'incohérences sur les ID"
   ]
  },
  {
   "cell_type": "code",
   "execution_count": 36,
   "id": "01b5626d",
   "metadata": {},
   "outputs": [],
   "source": [
    "chg_bh_id = {\"F219a\":'F219B', \"F22\":'F22A', \"F48a\":'F48B', \"F195b\":'F195B', \"F205a\":'F205A', \"F50a\":'F50B', \n",
    "    \"F113a\":'F113A', \"F114a\":'F114A', \"F114b\":'F114B', \"F115a\":'F115A', \"F115b\":'F115B', \"F116a\":'F116A', \n",
    "    \"F116b\":'F116B', \"F117a\":'F117A', \"F117b\":'F117B', \"F118a\":'F118A', \"F118b\":'F118B', \"F119a\":'F119A', \n",
    "    \"F120\":'F120A', \"F121\":'F121A', \"F122\":'F122A', \"F128\":'F128B', \"F130\":'F130B', \"F134\":'F134B', \n",
    "    \"F137\":'F137B', \"F139\":'F139C', \"F140\":'F140C', \"F141\":'F141B', \"F143\":'F143B', \"F115b\":'F115B', \n",
    "    \"F115a\":'F115A', \"F157\":'F157B', \"F159\":'F159B', \"F160\":'FP160', \"F164a\":'F164A', \"F164b\":'F164B', \n",
    "    \"F179\":'F179C', \"F183\":'F183B', \"F184\":'F184C', \"F188\":'F188B', \"F194\":'F194B', \"F195a\":'F195A', \n",
    "    \"F195b\":'F195B', \"F200a\":'F200A', \"F205a\":'F205A', \"F27a\":'F27A', \"F28a\":'F28A', \"F37a\":'F37B', \n",
    "    \"F514a\":'F514b', \"F51a\":'F51B', \"F219a\":'F219B', \"F9a\":'F9A', \"F9b\":'F9B', \"F15a\":'F15A', \"F14\":'FP14',\n",
    "    \"F14\":'FP14', \"F521a\":'F521A', \"F525a\":'F525', \"F531a\":'F531', \"F542a\":'F542A', \"F595\":'FP595',\n",
    "    \"F63\":'FP63', \"F76c\":'FP76', \"F76a\":'F76B', \"F76b\":'F76C', \"F78a\":'F78B', \"F88a\":'F88B', \n",
    "    \"F91bis\":'PZ91Bis', \"F94a\":'F94B', \"F94b\":'F94C', \"F97a\":'F97B', \"F97b\":'F97C'}\n",
    "\n",
    "for k, v in chg_bh_id.items(): \n",
    "    data_dict[key].loc[data_dict[key].query(f'ID==\"{k}\"').index, 'ID'] = v"
   ]
  },
  {
   "cell_type": "markdown",
   "id": "47e7c528",
   "metadata": {},
   "source": [
    "Fusion avec les données de forages"
   ]
  },
  {
   "cell_type": "code",
   "execution_count": 37,
   "id": "f05daa0c",
   "metadata": {},
   "outputs": [
    {
     "name": "stdout",
     "output_type": "stream",
     "text": [
      "Conflict values present. Please resolve this manually !\n"
     ]
    }
   ],
   "source": [
    "dat, conflict_df=data_merger(bhs, data_dict[key], how='outer', on=['ID'], dist_max=0.5)"
   ]
  },
  {
   "cell_type": "code",
   "execution_count": 38,
   "id": "e4eb4af1",
   "metadata": {
    "scrolled": true
   },
   "outputs": [
    {
     "name": "stdout",
     "output_type": "stream",
     "text": [
      "all conflicts have been fixed!\n"
     ]
    }
   ],
   "source": [
    "dataset = dat\n",
    "data_validation(overall_data=dataset, conflict_data=conflict_df, index_col='index', \n",
    "                valid_dict={'Date_for_x':list(conflict_df.index), 'Long_for_y':list(conflict_df.index)})\n",
    "\n",
    "if 'level_0' in dataset.columns:\n",
    "    if 'index' in dataset.columns:\n",
    "        dataset.drop(columns='index', inplace=True)\n",
    "    dataset.rename(columns={'level_0':'index'}, inplace=True)"
   ]
  },
  {
   "cell_type": "code",
   "execution_count": 39,
   "id": "301b96fc",
   "metadata": {},
   "outputs": [],
   "source": [
    "crit_cols = ['ID','X','Y']\n",
    "#pass_cols = crit_cols + ['Litho_top','Litho_base','Litho_epais','Description']\n",
    "copy_cols = ['Z','Date_for','Long_for','Diam_for','Societe']\n",
    "data = value_replication(dat, crit_cols=crit_cols, pass_cols=None, copy_cols=copy_cols)"
   ]
  },
  {
   "cell_type": "code",
   "execution_count": 40,
   "id": "493c59f1",
   "metadata": {},
   "outputs": [],
   "source": [
    "data = data.query('X==X and Litho_base==Litho_base')"
   ]
  },
  {
   "cell_type": "code",
   "execution_count": 41,
   "id": "ce3c21f9",
   "metadata": {},
   "outputs": [],
   "source": [
    "data = data.drop_duplicates(['ID','X','Y','Z','Litho_top','Litho_base','Description'])[litho_cols+['Diam_for']]\n",
    "data.sort_values(['ID','Litho_top'], inplace=True)\n",
    "data.reset_index(drop=True, inplace=True)"
   ]
  },
  {
   "cell_type": "code",
   "execution_count": 42,
   "id": "59823794",
   "metadata": {},
   "outputs": [
    {
     "name": "stdout",
     "output_type": "stream",
     "text": [
      "Rows : 1890, columns : 10, Unique values on cols: {'ID': 397}\n"
     ]
    },
    {
     "data": {
      "application/vnd.jupyter.widget-view+json": {
       "model_id": "7b2ae585878f40ce8a7e68d109be9261",
       "version_major": 2,
       "version_minor": 0
      },
      "text/plain": [
       "interactive(children=(IntSlider(value=5, description='rows', max=1890, min=5, readout=False), IntSlider(value=…"
      ]
     },
     "metadata": {},
     "output_type": "display_data"
    }
   ],
   "source": [
    "dataframe_viewer(rows=5, un_val=['ID'], df=data)#.query('Litho_base!=Litho_base'))"
   ]
  },
  {
   "cell_type": "code",
   "execution_count": 43,
   "id": "6bdbd3be",
   "metadata": {},
   "outputs": [],
   "source": [
    "litho_all = data\n",
    "data_dict[key] = data"
   ]
  },
  {
   "cell_type": "markdown",
   "id": "e7e2b583",
   "metadata": {},
   "source": [
    "* Analyses"
   ]
  },
  {
   "cell_type": "code",
   "execution_count": 44,
   "id": "b512d9e6",
   "metadata": {},
   "outputs": [],
   "source": [
    "key = 'samples'\n",
    "data_dict[key].insert(0, 'ID', data_dict[key].pop('ID'))\n",
    "data_dict[key] = data_dict[key].query('ID==ID')"
   ]
  },
  {
   "cell_type": "code",
   "execution_count": 45,
   "id": "899a3dd2",
   "metadata": {},
   "outputs": [],
   "source": [
    "samp_cols = ['ID','ID_ech','Type_ech','X','Y','Z','Date_for','Long_for','Ech_top','Ech_base','Description']\n",
    "samp_cols = samp_cols + [x for x in data_dict[key].columns if x not in samp_cols]\n",
    "samp_cols.remove('level_0')"
   ]
  },
  {
   "cell_type": "code",
   "execution_count": 46,
   "id": "6b9cbda0",
   "metadata": {},
   "outputs": [],
   "source": [
    "# skip trenches data\n",
    "data_dict[key] = data_dict[key].drop(index=data_dict[key].query('ID.str.contains(\"^T\")').index)[samp_cols]"
   ]
  },
  {
   "cell_type": "code",
   "execution_count": 47,
   "id": "5a71d2f4",
   "metadata": {},
   "outputs": [
    {
     "name": "stderr",
     "output_type": "stream",
     "text": [
      "/home/yanathan/.local/share/virtualenvs/GSDMA-DRfwm83x/lib/python3.8/site-packages/pandas/util/_decorators.py:311: SettingWithCopyWarning: \n",
      "A value is trying to be set on a copy of a slice from a DataFrame\n",
      "\n",
      "See the caveats in the documentation: https://pandas.pydata.org/pandas-docs/stable/user_guide/indexing.html#returning-a-view-versus-a-copy\n",
      "  return func(*args, **kwargs)\n"
     ]
    }
   ],
   "source": [
    "data = data_dict[key].query('Ech_base==Ech_base') # water samples are wipe !\n",
    "data.sort_values(['ID','Ech_top'], inplace=True)\n",
    "data.reset_index(drop=True, inplace=True)"
   ]
  },
  {
   "cell_type": "code",
   "execution_count": 48,
   "id": "5d2b4bdb",
   "metadata": {},
   "outputs": [
    {
     "name": "stdout",
     "output_type": "stream",
     "text": [
      "Rows : 1496, columns : 219, Unique values on cols: {'ID': 307}\n"
     ]
    },
    {
     "data": {
      "application/vnd.jupyter.widget-view+json": {
       "model_id": "ea8b41f0e9b8496ba54f85297c286955",
       "version_major": 2,
       "version_minor": 0
      },
      "text/plain": [
       "interactive(children=(IntSlider(value=5, description='rows', max=1496, min=5, readout=False), IntSlider(value=…"
      ]
     },
     "metadata": {},
     "output_type": "display_data"
    }
   ],
   "source": [
    "dataframe_viewer(rows=5, un_val=['ID'], df=data)#.query('Type_ech==\"Sol\"')[samp_cols])"
   ]
  },
  {
   "cell_type": "markdown",
   "id": "48c3d3ea",
   "metadata": {},
   "source": [
    "correction d'incohérences sur les ID"
   ]
  },
  {
   "cell_type": "code",
   "execution_count": 49,
   "id": "1a81c004",
   "metadata": {},
   "outputs": [
    {
     "name": "stderr",
     "output_type": "stream",
     "text": [
      "/home/yanathan/.local/share/virtualenvs/GSDMA-DRfwm83x/lib/python3.8/site-packages/pandas/core/indexing.py:1817: SettingWithCopyWarning: \n",
      "A value is trying to be set on a copy of a slice from a DataFrame.\n",
      "Try using .loc[row_indexer,col_indexer] = value instead\n",
      "\n",
      "See the caveats in the documentation: https://pandas.pydata.org/pandas-docs/stable/user_guide/indexing.html#returning-a-view-versus-a-copy\n",
      "  self._setitem_single_column(loc, value, pi)\n"
     ]
    }
   ],
   "source": [
    "chg_bh_id = {\"224b\":'224','F9M':\"F9bM\",'F9B':[1258,1260,1308],'F9bM':[1259,1316],'F6M':[1080,1077],'F17dM':[512],\n",
    "             'F5M':[915,919,920],'F4M':[806,810,913],'F4':[912,914],'F3M':[732,734],'F26M':[699,701,703,705],\n",
    "             'F25M':[687,692,694],'F24bM':[686],'F23M':[675,677],\"F22\":'F22M',\"F27d\":\"F27dM\",'F13M':[285,290,292],\n",
    "             'F2M':[575,579,581],'F1aM':[98,100,570,571],'F10M':[106],'F11M':[169],'F12M':[233,235],'F14M':[333],\n",
    "             'F15bM':[405,406,407],'F18bM':[547],\"F18c\":\"F18cM\",'F16M':[411,412],'F19M':[554,556]}\n",
    "\n",
    "for k, v in chg_bh_id.items(): \n",
    "    if isinstance(v, list):\n",
    "        data.loc[v, 'ID'] = k\n",
    "    elif isinstance(v, str):\n",
    "        data.loc[data.query(f'ID==\"{k}\"').index, 'ID'] = v"
   ]
  },
  {
   "cell_type": "markdown",
   "id": "3c73fcc8",
   "metadata": {},
   "source": [
    "Fusion avec les données de forages"
   ]
  },
  {
   "cell_type": "code",
   "execution_count": 50,
   "id": "790831c2",
   "metadata": {},
   "outputs": [
    {
     "name": "stdout",
     "output_type": "stream",
     "text": [
      "Conflict values present. Please resolve this manually !\n"
     ]
    }
   ],
   "source": [
    "dat, conflict_df=data_merger(bhs, data, how='outer', on=['ID'], dist_max=0.5)"
   ]
  },
  {
   "cell_type": "code",
   "execution_count": 51,
   "id": "00dec8c2",
   "metadata": {
    "scrolled": true
   },
   "outputs": [
    {
     "name": "stdout",
     "output_type": "stream",
     "text": [
      "all conflicts have been fixed!\n"
     ]
    }
   ],
   "source": [
    "dataset = dat\n",
    "data_validation(overall_data=dataset, conflict_data=conflict_df, index_col='index', \n",
    "                valid_dict={'Date_for_x':list(conflict_df.index), 'Long_for_x':[118,120]})\n",
    "\n",
    "if 'level_0' in dataset.columns:\n",
    "    if 'index' in dataset.columns:\n",
    "        dataset.drop(columns='index', inplace=True)\n",
    "    dataset.rename(columns={'level_0':'index'}, inplace=True)"
   ]
  },
  {
   "cell_type": "code",
   "execution_count": 52,
   "id": "a6af99a9",
   "metadata": {},
   "outputs": [],
   "source": [
    "data = dat.query('ID_ech==ID_ech').sort_values(['ID','Ech_top'])\n",
    "data.drop(['Pol_top','Pol_base','Refus'], axis=1, inplace=True)"
   ]
  },
  {
   "cell_type": "code",
   "execution_count": 53,
   "id": "4e4aa1f2",
   "metadata": {},
   "outputs": [],
   "source": [
    "crit_cols = ['ID','X','Y']\n",
    "#pass_cols = crit_cols + ['Litho_top','Litho_base','Litho_epais','Description']\n",
    "copy_cols = ['Z','Date_for','Date_ech','Long_for','Diam_for','Societe']\n",
    "data = value_replication(data, crit_cols=crit_cols, pass_cols=None, copy_cols=copy_cols)"
   ]
  },
  {
   "cell_type": "code",
   "execution_count": 54,
   "id": "19219d77",
   "metadata": {},
   "outputs": [],
   "source": [
    "data = data.query('X==X and Ech_base==Ech_base')"
   ]
  },
  {
   "cell_type": "code",
   "execution_count": 55,
   "id": "9516d226",
   "metadata": {},
   "outputs": [],
   "source": [
    "samp_cols = ['ID','ID_ech','Type_ech','X','Y','Z','Date_for','Diam_for','Long_for','Ech_top','Ech_base','Description']\n",
    "samp_cols = samp_cols + [x for x in data.columns if x not in samp_cols]"
   ]
  },
  {
   "cell_type": "code",
   "execution_count": 56,
   "id": "ae4ef0d6",
   "metadata": {},
   "outputs": [],
   "source": [
    "data = data.drop_duplicates(['ID','X','Y','Z','Ech_top','Ech_base','Description'])[samp_cols]\n",
    "data.sort_values(['ID','Ech_top'], inplace=True)\n",
    "data.reset_index(drop=True, inplace=True)"
   ]
  },
  {
   "cell_type": "code",
   "execution_count": 57,
   "id": "caffc993",
   "metadata": {},
   "outputs": [
    {
     "name": "stdout",
     "output_type": "stream",
     "text": [
      "Rows : 1515, columns : 217, Unique values on cols: {'ID': 295}\n"
     ]
    },
    {
     "data": {
      "application/vnd.jupyter.widget-view+json": {
       "model_id": "692171e816d84a1695b76f7414276244",
       "version_major": 2,
       "version_minor": 0
      },
      "text/plain": [
       "interactive(children=(IntSlider(value=5, description='rows', max=1515, min=5, readout=False), IntSlider(value=…"
      ]
     },
     "metadata": {},
     "output_type": "display_data"
    }
   ],
   "source": [
    "dataframe_viewer(rows=5, un_val=['ID'], df=data)#.query('X!=X and Ech_base!=Ech_base'))"
   ]
  },
  {
   "cell_type": "code",
   "execution_count": 58,
   "id": "fe00951c",
   "metadata": {},
   "outputs": [],
   "source": [
    "samp_all = data\n",
    "data_dict[key] = data"
   ]
  },
  {
   "cell_type": "markdown",
   "id": "c25da431",
   "metadata": {},
   "source": [
    "### suppression des doublons du jeu de données des forages"
   ]
  },
  {
   "cell_type": "markdown",
   "id": "91739827",
   "metadata": {},
   "source": [
    "Fusion et récupération de coordonnées"
   ]
  },
  {
   "cell_type": "code",
   "execution_count": 59,
   "id": "eb6dd42c",
   "metadata": {},
   "outputs": [
    {
     "name": "stdout",
     "output_type": "stream",
     "text": [
      "Conflict values present. Please resolve this manually !\n"
     ]
    }
   ],
   "source": [
    "dat, conflict_df=data_merger(bh_all, litho_all[bh_cols], how='outer', on=['ID'], dist_max=0.5)"
   ]
  },
  {
   "cell_type": "code",
   "execution_count": 60,
   "id": "647388e5",
   "metadata": {
    "scrolled": true
   },
   "outputs": [
    {
     "name": "stdout",
     "output_type": "stream",
     "text": [
      "all conflicts have been fixed!\n"
     ]
    }
   ],
   "source": [
    "dataset = dat\n",
    "data_validation(overall_data=dataset, conflict_data=conflict_df, index_col='index', \n",
    "                valid_dict={'Date_for_y':list(conflict_df.index), 'Long_for_y':list(conflict_df.index),\n",
    "                           'Z_x':list(conflict_df.index)})\n",
    "\n",
    "if 'level_0' in dataset.columns:\n",
    "    if 'index' in dataset.columns:\n",
    "        dataset.drop(columns='index', inplace=True)\n",
    "    dataset.rename(columns={'level_0':'index'}, inplace=True)"
   ]
  },
  {
   "cell_type": "code",
   "execution_count": 61,
   "id": "1f69890c",
   "metadata": {},
   "outputs": [
    {
     "name": "stdout",
     "output_type": "stream",
     "text": [
      "Conflict values present. Please resolve this manually !\n"
     ]
    }
   ],
   "source": [
    "data, conflict_df=data_merger(dat, samp_all[bh_cols], how='outer', on=['ID'], dist_max=0.5)"
   ]
  },
  {
   "cell_type": "code",
   "execution_count": 62,
   "id": "1f4450e3",
   "metadata": {
    "scrolled": true
   },
   "outputs": [
    {
     "name": "stdout",
     "output_type": "stream",
     "text": [
      "all conflicts have been fixed!\n"
     ]
    }
   ],
   "source": [
    "dataset = data\n",
    "data_validation(overall_data=dataset, conflict_data=conflict_df, index_col='index', \n",
    "                valid_dict={'Date_for_y':list(conflict_df.index), 'Long_for_y':list(conflict_df.index),\n",
    "                           'Z_y':list(conflict_df.index)})\n",
    "\n",
    "if 'level_0' in dataset.columns:\n",
    "    if 'index' in dataset.columns:\n",
    "        dataset.drop(columns='index', inplace=True)\n",
    "    dataset.rename(columns={'level_0':'index'}, inplace=True)"
   ]
  },
  {
   "cell_type": "markdown",
   "id": "5a104a92",
   "metadata": {},
   "source": [
    "Suppression des doublons"
   ]
  },
  {
   "cell_type": "code",
   "execution_count": 63,
   "id": "b75c6510",
   "metadata": {},
   "outputs": [],
   "source": [
    "data = data.query('X==X')"
   ]
  },
  {
   "cell_type": "code",
   "execution_count": 64,
   "id": "5ea8ac94",
   "metadata": {},
   "outputs": [],
   "source": [
    "crit_cols = ['ID','X','Y']\n",
    "#pass_cols = crit_cols + ['Litho_top','Litho_base','Litho_epais','Description']\n",
    "copy_cols = list(data.columns)\n",
    "data = value_replication(data, crit_cols=crit_cols, pass_cols=None, copy_cols=copy_cols)"
   ]
  },
  {
   "cell_type": "code",
   "execution_count": 65,
   "id": "1d05e535",
   "metadata": {},
   "outputs": [
    {
     "name": "stderr",
     "output_type": "stream",
     "text": [
      "/home/yanathan/.local/share/virtualenvs/GSDMA-DRfwm83x/lib/python3.8/site-packages/pandas/util/_decorators.py:311: SettingWithCopyWarning: \n",
      "A value is trying to be set on a copy of a slice from a DataFrame\n",
      "\n",
      "See the caveats in the documentation: https://pandas.pydata.org/pandas-docs/stable/user_guide/indexing.html#returning-a-view-versus-a-copy\n",
      "  return func(*args, **kwargs)\n"
     ]
    }
   ],
   "source": [
    "dat = data.drop_duplicates(['ID','X','Y'])\n",
    "dat.sort_values('ID', inplace=True)\n",
    "dat.reset_index(drop=True, inplace=True)"
   ]
  },
  {
   "cell_type": "code",
   "execution_count": 66,
   "id": "de924ad7",
   "metadata": {},
   "outputs": [],
   "source": [
    "data_dict['boreholes'] = dat.query('X==X').copy()"
   ]
  },
  {
   "cell_type": "markdown",
   "id": "0102d95a",
   "metadata": {},
   "source": [
    "####  $\\color{red}{\\textbf{Sauvegarde du jeu de données}}$"
   ]
  },
  {
   "cell_type": "code",
   "execution_count": 67,
   "id": "8eafffca",
   "metadata": {},
   "outputs": [],
   "source": [
    "for k in list(data_dict.keys())[:3]:\n",
    "    data_dict[k].to_csv(save_dir + f'{k.capitalize()}.csv', index=False)"
   ]
  },
  {
   "cell_type": "code",
   "execution_count": null,
   "id": "8bd72427",
   "metadata": {},
   "outputs": [],
   "source": []
  }
 ],
 "metadata": {
  "kernelspec": {
   "display_name": "Python 3 (ipykernel)",
   "language": "python",
   "name": "python3"
  },
  "language_info": {
   "codemirror_mode": {
    "name": "ipython",
    "version": 3
   },
   "file_extension": ".py",
   "mimetype": "text/x-python",
   "name": "python",
   "nbconvert_exporter": "python",
   "pygments_lexer": "ipython3",
   "version": "3.8.10"
  }
 },
 "nbformat": 4,
 "nbformat_minor": 5
}
