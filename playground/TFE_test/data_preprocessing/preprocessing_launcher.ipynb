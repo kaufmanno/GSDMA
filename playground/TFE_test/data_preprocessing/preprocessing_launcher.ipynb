{
 "cells": [
  {
   "cell_type": "markdown",
   "id": "4d19a839",
   "metadata": {},
   "source": [
    "# PREPROCESSING OF MEMORIS DATA"
   ]
  },
  {
   "cell_type": "markdown",
   "id": "c2ba06ef",
   "metadata": {},
   "source": [
    "## Imports"
   ]
  },
  {
   "cell_type": "code",
   "execution_count": 1,
   "id": "03a20127",
   "metadata": {},
   "outputs": [],
   "source": [
    "import os\n",
    "import sys\n",
    "from definitions import ROOT_DIR"
   ]
  },
  {
   "cell_type": "markdown",
   "id": "27673756",
   "metadata": {},
   "source": [
    "## Creation of results directories"
   ]
  },
  {
   "cell_type": "code",
   "execution_count": 2,
   "id": "bb31c221",
   "metadata": {},
   "outputs": [],
   "source": [
    "result_dir = ROOT_DIR + '/CF_data/Result_traitem/'"
   ]
  },
  {
   "cell_type": "code",
   "execution_count": null,
   "id": "18f98ae9",
   "metadata": {},
   "outputs": [],
   "source": [
    "os.system(f'rm -fr {result_dir}')\n",
    "os.makedirs(result_dir) "
   ]
  },
  {
   "cell_type": "markdown",
   "id": "82e94ddf",
   "metadata": {},
   "source": [
    "## Running of preprocessing notebooks"
   ]
  },
  {
   "cell_type": "code",
   "execution_count": 5,
   "id": "7336be83",
   "metadata": {},
   "outputs": [
    {
     "name": "stdout",
     "output_type": "stream",
     "text": [
      "source_bh: 0 ; source_eqp: 0 ; source_uknw: 0 ; source_litho: 0 ; source_an: 0 ; source_mes: 0\n",
      "Rows : 25, columns : 15\n"
     ]
    },
    {
     "data": {
      "application/vnd.jupyter.widget-view+json": {
       "model_id": "a1c778f9f929434caa4ce7042ff48639",
       "version_major": 2,
       "version_minor": 0
      },
      "text/plain": [
       "interactive(children=(IntSlider(value=5, description='rows', max=25, min=5, readout=False), IntSlider(value=12…"
      ]
     },
     "metadata": {},
     "output_type": "display_data"
    },
    {
     "name": "stdout",
     "output_type": "stream",
     "text": [
      "borehole: 25 ; measure: 25 ; lithology: 0 ; analysis: 0 ; equipement: 0 ; unknown: 0 ; \n",
      "borehole: 25 ; measure: 25 ; lithology: 0 ; analysis: 0 ;equipement: 0 ; unknown: 0\n",
      "source_bh: 25 ; source_eqp: 0 ; source_uknw: 0 ; source_litho: 0 ; source_an: 0 ; source_mes: 25\n",
      "Rows : 37, columns : 21\n"
     ]
    },
    {
     "data": {
      "application/vnd.jupyter.widget-view+json": {
       "model_id": "462c8d79b3e0479d88f541181a4a5257",
       "version_major": 2,
       "version_minor": 0
      },
      "text/plain": [
       "interactive(children=(IntSlider(value=5, description='rows', max=37, min=5, readout=False), IntSlider(value=12…"
      ]
     },
     "metadata": {},
     "output_type": "display_data"
    },
    {
     "name": "stdout",
     "output_type": "stream",
     "text": [
      "Columns dropped :['Label', 'Commentaires ', 'Unnamed: 5', 'Unnamed: 6', 'Unnamed: 7', 'Unnamed: 8', 'Unnamed: 9', 'Unnamed: 10', 'Unnamed: 11', 'Unnamed: 12', 'Unnamed: 13', 'Unnamed: 14', 'Unnamed: 15', 'Unnamed: 16', 'Unnamed: 17', 'Unnamed: 18', 'Unnamed: 19', 'Unnamed: 20']\n",
      "\n",
      "Columns dropped :['col0', 'col1', 'col2', 'col3', 'col4', 'col5', 'col6', 'col7']\n",
      "\n",
      "borehole: 17 ; measure: 17 ; lithology: 0 ; analysis: 0 ; equipement: 0 ; unknown: 0 ; \n",
      "borehole: 17 ; measure: 17 ; lithology: 0 ; analysis: 0 ;equipement: 0 ; unknown: 0\n",
      "Conflict values present. Please resolve this manually !\n",
      "all conflicts have been fixed!\n",
      "source_bh: 30 ; source_eqp: 0 ; source_uknw: 0 ; source_litho: 0 ; source_an: 0 ; source_mes: 42\n",
      "Rows : 36, columns : 7\n"
     ]
    },
    {
     "data": {
      "application/vnd.jupyter.widget-view+json": {
       "model_id": "34cd54db22da4e4a882d2b461f0d4cf6",
       "version_major": 2,
       "version_minor": 0
      },
      "text/plain": [
       "interactive(children=(IntSlider(value=5, description='rows', max=36, min=5, readout=False), IntSlider(value=7,…"
      ]
     },
     "metadata": {},
     "output_type": "display_data"
    },
    {
     "name": "stdout",
     "output_type": "stream",
     "text": [
      "15 NaN lines dropped\n",
      "borehole: 36 ; measure: 0 ; lithology: 0 ; analysis: 0 ; equipement: 36 ; unknown: 0 ; \n",
      "borehole: 12 ; measure: 0 ; lithology: 0 ; analysis: 0 ;equipement: 36 ; unknown: 0\n",
      "Conflict values present. Please resolve this manually !\n",
      "all conflicts have been fixed!\n"
     ]
    },
    {
     "name": "stderr",
     "output_type": "stream",
     "text": [
      "/home/yanathan/.local/share/virtualenvs/GSDMA-DRfwm83x/lib/python3.8/site-packages/pandas/core/frame.py:4906: SettingWithCopyWarning: \n",
      "A value is trying to be set on a copy of a slice from a DataFrame\n",
      "\n",
      "See the caveats in the documentation: https://pandas.pydata.org/pandas-docs/stable/user_guide/indexing.html#returning-a-view-versus-a-copy\n",
      "  return super().drop(\n"
     ]
    },
    {
     "name": "stdout",
     "output_type": "stream",
     "text": [
      "source_bh: 27 ; source_eqp: 36 ; source_uknw: 0 ; source_litho: 0 ; source_an: 0 ; source_mes: 42\n",
      "Rows : 29, columns : 4\n"
     ]
    },
    {
     "data": {
      "application/vnd.jupyter.widget-view+json": {
       "model_id": "a5aeb7558dac4fc9867a9846b6360861",
       "version_major": 2,
       "version_minor": 0
      },
      "text/plain": [
       "interactive(children=(IntSlider(value=5, description='rows', max=29, min=5, readout=False), IntSlider(value=4,…"
      ]
     },
     "metadata": {},
     "output_type": "display_data"
    },
    {
     "name": "stdout",
     "output_type": "stream",
     "text": [
      "borehole: 29 ; measure: 29 ; lithology: 0 ; analysis: 29 ; equipement: 0 ; unknown: 0 ; \n",
      "borehole: 15 ; measure: 29 ; lithology: 0 ; analysis: 29 ;equipement: 0 ; unknown: 0\n",
      "source_bh: 27 ; source_eqp: 36 ; source_uknw: 0 ; source_litho: 0 ; source_an: 29 ; source_mes: 42\n",
      "Rows : 55, columns : 5\n"
     ]
    },
    {
     "data": {
      "application/vnd.jupyter.widget-view+json": {
       "model_id": "f5bc84c28c624e4b8b61645590a2918c",
       "version_major": 2,
       "version_minor": 0
      },
      "text/plain": [
       "interactive(children=(IntSlider(value=5, description='rows', max=55, min=5, readout=False), IntSlider(value=5,…"
      ]
     },
     "metadata": {},
     "output_type": "display_data"
    },
    {
     "name": "stdout",
     "output_type": "stream",
     "text": [
      "Conflict values present. Please resolve this manually !\n",
      "all conflicts have been fixed!\n",
      "borehole: 55 ; measure: 0 ; lithology: 55 ; analysis: 0 ; equipement: 0 ; unknown: 0 ; \n",
      "\n",
      "\u001b[1;32mNot used columns:\u001b[0;0m\n",
      " ['Keyword']\n",
      "Rows : 55, columns : 9, Unique values on cols: {'ID': 25, 'ID_ech': 'NA'}\n"
     ]
    },
    {
     "data": {
      "application/vnd.jupyter.widget-view+json": {
       "model_id": "151dd10257084b4795ef9dbbf2f0277f",
       "version_major": 2,
       "version_minor": 0
      },
      "text/plain": [
       "interactive(children=(IntSlider(value=10, description='rows', max=55, min=10, readout=False), IntSlider(value=…"
      ]
     },
     "metadata": {},
     "output_type": "display_data"
    },
    {
     "name": "stdout",
     "output_type": "stream",
     "text": [
      "borehole: 25 ; measure: 0 ; lithology: 55 ; analysis: 0 ;equipement: 0 ; unknown: 0\n",
      "source_bh: 27 ; source_eqp: 36 ; source_uknw: 0 ; source_litho: 55 ; source_an: 29 ; source_mes: 42\n",
      "source_bh: 27 ; source_eqp: 36 ; source_uknw: 0 ; source_litho: 55 ; source_an: 41 ; source_mes: 42\n",
      "source_bh: 0 ; source_eqp: 0 ; source_uknw: 0 ; source_litho: 0 ; source_an: 0 ; source_mes: 0\n",
      "Rows : 2041, columns : 16\n"
     ]
    },
    {
     "data": {
      "application/vnd.jupyter.widget-view+json": {
       "model_id": "bc8eccac79164d1cb7059bca087e448d",
       "version_major": 2,
       "version_minor": 0
      },
      "text/plain": [
       "interactive(children=(IntSlider(value=3, description='rows', max=2041, min=3, readout=False), IntSlider(value=…"
      ]
     },
     "metadata": {},
     "output_type": "display_data"
    },
    {
     "name": "stdout",
     "output_type": "stream",
     "text": [
      "Columns dropped :['Unnamed: 12', 1927, 'Unnamed: 14', 'Unnamed: 15']\n",
      "\n",
      "[NaT, 2009, 2010, 2015]\n",
      "Generation of ID-dated...\n",
      "Using column ' Date_for ' in the (geo)dataframe !\n",
      "Process ended, check the (geo)dataframe\n",
      "borehole: 1628 ; measure: 0 ; lithology: 1628 ; analysis: 0 ; equipement: 0 ; unknown: 0 ; \n",
      "borehole: 298 ; measure: 0 ; lithology: 1628 ; analysis: 0 ;equipement: 0 ; unknown: 0\n",
      "source_bh: 281 ; source_eqp: 0 ; source_uknw: 17 ; source_litho: 1628 ; source_an: 0 ; source_mes: 0\n",
      "Rows : 130, columns : 22\n"
     ]
    },
    {
     "data": {
      "application/vnd.jupyter.widget-view+json": {
       "model_id": "1a2e4519a2764c49bf6f82a08733e1f2",
       "version_major": 2,
       "version_minor": 0
      },
      "text/plain": [
       "interactive(children=(IntSlider(value=3, description='rows', max=130, min=3, readout=False), IntSlider(value=1…"
      ]
     },
     "metadata": {},
     "output_type": "display_data"
    },
    {
     "name": "stdout",
     "output_type": "stream",
     "text": [
      "dates found: ['27/04/2010', '08/09/2010']\n",
      "borehole: 260 ; measure: 260 ; lithology: 0 ; analysis: 260 ; equipement: 0 ; unknown: 26 ; \n",
      "borehole: 104 ; measure: 260 ; lithology: 0 ; analysis: 260 ;equipement: 0 ; unknown: 13\n",
      "source_bh: 385 ; source_eqp: 0 ; source_uknw: 30 ; source_litho: 1628 ; source_an: 130 ; source_mes: 260\n",
      "Rows : 21, columns : 65\n"
     ]
    },
    {
     "data": {
      "application/vnd.jupyter.widget-view+json": {
       "model_id": "24d8a87d6ee743a7a2c1b1b997577165",
       "version_major": 2,
       "version_minor": 0
      },
      "text/plain": [
       "interactive(children=(IntSlider(value=3, description='rows', max=21, min=3, readout=False), IntSlider(value=12…"
      ]
     },
     "metadata": {},
     "output_type": "display_data"
    },
    {
     "name": "stdout",
     "output_type": "stream",
     "text": [
      "dates found: ['01/10/2013', '14/12/2016']\n",
      "\n",
      "\u001b[1;34mPossible new pollutants names:\u001b[0;0m\n",
      "['ID', 'ID_ech', 'Date_ech', 'Etude', 'X', 'Y', 'Z', 'Zsol', 'Ht_chbre', 'Long_pz', 'Sect_crep', 'Diam_int_pz', 'PZ relative (m)', 'pH', 'CE', 'Temp', 'ORP', 'O_diss', 'CN_libre', 'CN_totaux.1', 'CN_totaux.2', 'BTEX total', 'C5-C8', 'C8-C10', 'C10-C12', 'C12-C16', ' C16 - C21', 'C10-C12.1', 'C12-C22', 'C22-C30', 'C30-C40', 'Date_mes', 'Niv_eau_sol']\n",
      "borehole: 38 ; measure: 38 ; lithology: 0 ; analysis: 38 ; equipement: 0 ; unknown: 0 ; \n",
      "\n",
      "\u001b[1;32mNot used columns:\u001b[0;0m\n",
      " ['PZ relative (m)']\n",
      "borehole: 15 ; measure: 38 ; lithology: 0 ; analysis: 38 ;equipement: 0 ; unknown: 0\n",
      "source_bh: 400 ; source_eqp: 0 ; source_uknw: 30 ; source_litho: 1628 ; source_an: 149 ; source_mes: 298\n",
      "Rows : 131, columns : 185\n"
     ]
    },
    {
     "data": {
      "application/vnd.jupyter.widget-view+json": {
       "model_id": "62ca28b1b9104060ac3c25a2c6e036f8",
       "version_major": 2,
       "version_minor": 0
      },
      "text/plain": [
       "interactive(children=(IntSlider(value=5, description='rows', max=131, min=5, readout=False), IntSlider(value=1…"
      ]
     },
     "metadata": {},
     "output_type": "display_data"
    },
    {
     "name": "stderr",
     "output_type": "stream",
     "text": [
      "/home/yanathan/.local/share/virtualenvs/GSDMA-DRfwm83x/lib/python3.8/site-packages/pandas/core/frame.py:5238: SettingWithCopyWarning: \n",
      "A value is trying to be set on a copy of a slice from a DataFrame\n",
      "\n",
      "See the caveats in the documentation: https://pandas.pydata.org/pandas-docs/stable/user_guide/indexing.html#returning-a-view-versus-a-copy\n",
      "  return super().replace(\n",
      "/tmp/ipykernel_22773/260021800.py:1: SettingWithCopyWarning: \n",
      "A value is trying to be set on a copy of a slice from a DataFrame.\n",
      "Try using .loc[row_indexer,col_indexer] = value instead\n",
      "\n",
      "See the caveats in the documentation: https://pandas.pydata.org/pandas-docs/stable/user_guide/indexing.html#returning-a-view-versus-a-copy\n",
      "  df['Type']=df['Sect_crep'].apply(lambda x: 'Piezo' if not pd.isnull(x) else 'Inconnu')\n",
      "/tmp/ipykernel_22773/3722196056.py:2: SettingWithCopyWarning: \n",
      "A value is trying to be set on a copy of a slice from a DataFrame.\n",
      "Try using .loc[row_indexer,col_indexer] = value instead\n",
      "\n",
      "See the caveats in the documentation: https://pandas.pydata.org/pandas-docs/stable/user_guide/indexing.html#returning-a-view-versus-a-copy\n",
      "  df['Surnageant']=df['Surnageant'].apply(lambda x: x/100)\n",
      "/tmp/ipykernel_22773/3722196056.py:3: SettingWithCopyWarning: \n",
      "A value is trying to be set on a copy of a slice from a DataFrame.\n",
      "Try using .loc[row_indexer,col_indexer] = value instead\n",
      "\n",
      "See the caveats in the documentation: https://pandas.pydata.org/pandas-docs/stable/user_guide/indexing.html#returning-a-view-versus-a-copy\n",
      "  df['Sousnageant']=df['Sousnageant'].apply(lambda x: x/100)\n",
      "/tmp/ipykernel_22773/3722196056.py:4: SettingWithCopyWarning: \n",
      "A value is trying to be set on a copy of a slice from a DataFrame.\n",
      "Try using .loc[row_indexer,col_indexer] = value instead\n",
      "\n",
      "See the caveats in the documentation: https://pandas.pydata.org/pandas-docs/stable/user_guide/indexing.html#returning-a-view-versus-a-copy\n",
      "  df['CE']=df['CE'].apply(lambda x: pd.to_numeric(x)/1000\n"
     ]
    },
    {
     "name": "stdout",
     "output_type": "stream",
     "text": [
      "dates found: ['27/04/2010', '08/09/2010']\n",
      "\n",
      "\u001b[1;34mPossible new pollutants names:\u001b[0;0m\n",
      "['ID', 'Societe', 'Zone', 'Sous_zone', 'X', 'Y', 'Zsol', 'Z', 'Type', 'Long_pz', 'Sect_crep', 'Diam_int_pz', 'Nappe', 'Surnageant', 'Sousnageant', 'Caractere', 'Opacite', 'Rmq', 'pH', 'CE', 'Temp', 'ORP', 'O_diss', 'CN_libre', 'para-etmétaxylène', 'BTEX total', 'PCB totaux (7)', 'C5-C8', 'C8-C10', 'C10-C12', 'C12-C16', 'C16-C21', 'C21-C35', 'C35-C40', 'C30-C40', 'sulfites', 'sulfate', 'Date_mes', 'Niv_eau_pz', 'Niv_eau_sol']\n",
      "borehole: 260 ; measure: 260 ; lithology: 0 ; analysis: 260 ; equipement: 0 ; unknown: 26 ; \n",
      "borehole: 104 ; measure: 260 ; lithology: 0 ; analysis: 260 ;equipement: 0 ; unknown: 13\n",
      "source_bh: 402 ; source_eqp: 0 ; source_uknw: 30 ; source_litho: 1628 ; source_an: 149 ; source_mes: 298\n"
     ]
    },
    {
     "name": "stderr",
     "output_type": "stream",
     "text": [
      "/home/yanathan/.local/share/virtualenvs/GSDMA-DRfwm83x/lib/python3.8/site-packages/openpyxl/worksheet/_reader.py:312: UserWarning: Data Validation extension is not supported and will be removed\n",
      "  warn(msg)\n"
     ]
    },
    {
     "name": "stdout",
     "output_type": "stream",
     "text": [
      "Rows : 1423, columns : 94\n"
     ]
    },
    {
     "data": {
      "application/vnd.jupyter.widget-view+json": {
       "model_id": "804ccad23c564284aab357cd95944dbc",
       "version_major": 2,
       "version_minor": 0
      },
      "text/plain": [
       "interactive(children=(IntSlider(value=10, description='rows', max=1423, min=10, readout=False), IntSlider(valu…"
      ]
     },
     "metadata": {},
     "output_type": "display_data"
    },
    {
     "name": "stdout",
     "output_type": "stream",
     "text": [
      "\n",
      "\u001b[1;34mPossible new pollutants names:\u001b[0;0m\n",
      "['Societe', 'Zone', 'Sous_zone', 'Numéro_zone', 'ID', 'Type', 'Type_ech', 'Affectation', 'X', 'Y', 'Z', 'Long_for', 'Refus', 'ID_ech', 'Ech_top', 'Ech_base', 'Soumis', 'Nappe', 'Description', 'Ep_remb', 'Ep_alluv', 'Intensite', 'Min_organo', 'Max_organo', 'Polluant', 'MS', 'pH_H2O', 'Temp_pH_H2O', 'Temp_pH_CaCl2', 'pH_CaCl2', 'Temp_pH_KCl', 'pH_KCl', 'Temp_CE', 'CE', 'MO', 'Residu_perte_feu', 'Fract_2000µ', 'Fract_63µ', 'Fract_45µ', 'Fract_16µ', 'Fract_2µ', 'Chrome_VI', 'CN_libre', 'CN_tot', 'Thiocyantes', 'Cyanures totaux EPA', 'Ethylbenzène', 'Anthracene', 'Benzoaanthracène', 'Benzo(a)pyrene', 'Indéno[123cd]pyrène', 'Acenaphtylene', 'Acenaphthene', 'Benzo_b_fluoranthene', 'Dibenzo[ah]anthracène', 'C16_C21', 'C21_C35', 'C35_C40', 'C21_C30', 'SOM C10_C40', 'Idc_phenol', 'Date_mes']\n",
      "borehole: 1423 ; measure: 1423 ; lithology: 0 ; analysis: 1423 ; equipement: 0 ; unknown: 49 ; \n",
      "\n",
      "\u001b[1;32mNot used columns:\u001b[0;0m\n",
      " ['Numéro_zone', 'Affectation', 'Soumis', 'Ep_remb', 'Ep_alluv']\n",
      "borehole: 304 ; measure: 1423 ; lithology: 0 ; analysis: 1423 ;equipement: 0 ; unknown: 17\n",
      "Conflict values present. Please resolve this manually !\n",
      "all conflicts have been fixed!\n",
      "source_bh: 510 ; source_eqp: 0 ; source_uknw: 32 ; source_litho: 1628 ; source_an: 1572 ; source_mes: 1717\n",
      "Conflict values present. Please resolve this manually !\n",
      "all conflicts have been fixed!\n",
      "source_bh: 510 ; source_eqp: 0 ; source_uknw: 32 ; source_litho: 1627 ; source_an: 1585 ; source_mes: 1738\n",
      "source_bh: 0 ; source_eqp: 0 ; source_uknw: 0 ; source_litho: 0 ; source_an: 0 ; source_mes: 0\n",
      "Columns dropped :['Unnamed: 3', 'Unnamed: 4', 'Unnamed: 5', 'Unnamed: 6']\n",
      "\n",
      "Rows : 31, columns : 19\n"
     ]
    },
    {
     "data": {
      "application/vnd.jupyter.widget-view+json": {
       "model_id": "afaddaece4d14adc9ac708dd545d577b",
       "version_major": 2,
       "version_minor": 0
      },
      "text/plain": [
       "interactive(children=(IntSlider(value=10, description='rows', max=31, min=10, readout=False), IntSlider(value=…"
      ]
     },
     "metadata": {},
     "output_type": "display_data"
    },
    {
     "name": "stdout",
     "output_type": "stream",
     "text": [
      "9 NaN lines dropped\n",
      "Columns dropped :['O_diss']\n",
      "\n",
      "Rows : 27, columns : 14, Unique values on cols: {'ID': 27, 'ID_ech': 'NA'}\n"
     ]
    },
    {
     "name": "stderr",
     "output_type": "stream",
     "text": [
      "/home/yanathan/.local/share/virtualenvs/GSDMA-DRfwm83x/lib/python3.8/site-packages/pandas/core/frame.py:4906: SettingWithCopyWarning: \n",
      "A value is trying to be set on a copy of a slice from a DataFrame\n",
      "\n",
      "See the caveats in the documentation: https://pandas.pydata.org/pandas-docs/stable/user_guide/indexing.html#returning-a-view-versus-a-copy\n",
      "  return super().drop(\n"
     ]
    },
    {
     "data": {
      "application/vnd.jupyter.widget-view+json": {
       "model_id": "1c6486e58abb41a590fbe612b8a42f62",
       "version_major": 2,
       "version_minor": 0
      },
      "text/plain": [
       "interactive(children=(IntSlider(value=3, description='rows', max=27, min=3, readout=False), IntSlider(value=12…"
      ]
     },
     "metadata": {},
     "output_type": "display_data"
    },
    {
     "name": "stdout",
     "output_type": "stream",
     "text": [
      "borehole: 27 ; measure: 27 ; lithology: 0 ; analysis: 0 ; equipement: 0 ; unknown: 0 ; \n",
      "borehole: 27 ; measure: 27 ; lithology: 0 ; analysis: 0 ;equipement: 0 ; unknown: 0\n",
      "source_bh: 27 ; source_eqp: 0 ; source_uknw: 0 ; source_litho: 0 ; source_an: 0 ; source_mes: 27\n"
     ]
    }
   ],
   "source": [
    "%run data_organization_part_1.ipynb"
   ]
  },
  {
   "cell_type": "code",
   "execution_count": 6,
   "id": "3ec087df",
   "metadata": {},
   "outputs": [
    {
     "name": "stdout",
     "output_type": "stream",
     "text": [
      "source_bh: 0 ; source_eqp: 0 ; source_uknw: 0 ; source_litho: 0 ; source_an: 0 ; source_mes: 0\n",
      "Rows : 8, columns : 5\n"
     ]
    },
    {
     "data": {
      "application/vnd.jupyter.widget-view+json": {
       "model_id": "cc2b4685c1e44d64a55a778b13188407",
       "version_major": 2,
       "version_minor": 0
      },
      "text/plain": [
       "interactive(children=(IntSlider(value=8, description='rows', max=8, min=8, readout=False), IntSlider(value=5, …"
      ]
     },
     "metadata": {},
     "output_type": "display_data"
    },
    {
     "name": "stdout",
     "output_type": "stream",
     "text": [
      "source_bh: 8 ; source_eqp: 0 ; source_uknw: 0 ; source_litho: 0 ; source_an: 0 ; source_mes: 0\n",
      "source_bh: 0 ; source_eqp: 0 ; source_uknw: 0 ; source_litho: 0 ; source_an: 0 ; source_mes: 0\n",
      "Columns dropped :['Unnamed: 10']\n",
      "\n",
      "Rows : 72, columns : 11\n"
     ]
    },
    {
     "data": {
      "application/vnd.jupyter.widget-view+json": {
       "model_id": "910c9ec3299d4e568ab907d263440526",
       "version_major": 2,
       "version_minor": 0
      },
      "text/plain": [
       "interactive(children=(IntSlider(value=5, description='rows', max=72, min=5, readout=False), IntSlider(value=11…"
      ]
     },
     "metadata": {},
     "output_type": "display_data"
    },
    {
     "name": "stdout",
     "output_type": "stream",
     "text": [
      "Rows : 72, columns : 12, Unique values on cols: {'ID': 72, 'ID_ech': 'NA'}\n"
     ]
    },
    {
     "data": {
      "application/vnd.jupyter.widget-view+json": {
       "model_id": "bac4f30f4b9949748fa1fc6698500148",
       "version_major": 2,
       "version_minor": 0
      },
      "text/plain": [
       "interactive(children=(IntSlider(value=3, description='rows', max=72, min=3, readout=False), IntSlider(value=12…"
      ]
     },
     "metadata": {},
     "output_type": "display_data"
    },
    {
     "name": "stdout",
     "output_type": "stream",
     "text": [
      "source_bh:72 ; source_elect:72 ;\n",
      "source_bh: 0 ; source_eqp: 0 ; source_uknw: 0 ; source_litho: 0 ; source_an: 0 ; source_mes: 0\n",
      "Rows : 134, columns : 4, Unique values on cols: {'ID': 'NA', 'ID_ech': 134}\n"
     ]
    },
    {
     "data": {
      "application/vnd.jupyter.widget-view+json": {
       "model_id": "fcb80b4bee1348de9938ceba37041883",
       "version_major": 2,
       "version_minor": 0
      },
      "text/plain": [
       "interactive(children=(IntSlider(value=3, description='rows', max=134, min=3, readout=False), IntSlider(value=4…"
      ]
     },
     "metadata": {},
     "output_type": "display_data"
    },
    {
     "name": "stdout",
     "output_type": "stream",
     "text": [
      "Conflict values present. Please resolve this manually !\n",
      "all conflicts have been fixed!\n",
      "source_bh: 0 ; source_eqp: 0 ; source_uknw: 0 ; source_litho: 0 ; source_an: 254 ; source_mes: 0\n",
      "source_bh: 0 ; source_eqp: 0 ; source_uknw: 0 ; source_litho: 0 ; source_an: 0 ; source_mes: 0\n",
      "1 NaN lines dropped\n",
      "Columns dropped :['Unnamed: 0', 'Unnamed: 2']\n",
      "\n",
      "Rows : 135, columns : 35\n"
     ]
    },
    {
     "name": "stderr",
     "output_type": "stream",
     "text": [
      "/home/yanathan/.local/share/virtualenvs/GSDMA-DRfwm83x/lib/python3.8/site-packages/pandas/core/frame.py:4906: SettingWithCopyWarning: \n",
      "A value is trying to be set on a copy of a slice from a DataFrame\n",
      "\n",
      "See the caveats in the documentation: https://pandas.pydata.org/pandas-docs/stable/user_guide/indexing.html#returning-a-view-versus-a-copy\n",
      "  return super().drop(\n"
     ]
    },
    {
     "data": {
      "application/vnd.jupyter.widget-view+json": {
       "model_id": "10a48b0051a4463bbe441d34662c206f",
       "version_major": 2,
       "version_minor": 0
      },
      "text/plain": [
       "interactive(children=(IntSlider(value=5, description='rows', max=135, min=5, readout=False), IntSlider(value=1…"
      ]
     },
     "metadata": {},
     "output_type": "display_data"
    },
    {
     "name": "stdout",
     "output_type": "stream",
     "text": [
      "Columns dropped :['col_1', \"Nom / description d'échantillon\", 'Date de prélèvement', \"Nature de l'étude (*)\", 'Terrain', 'Epaisseur de remblais', 'Epaisseur alluvions', \"Nature de l'observation organoleptique\", 'LOCALISATION/AFFECTATION(S) - USAGE(S)', 'zone', 'parcelle (selon dénom.)', \"Type d'usage de fait actuel\", \"Type d'usage de fait futur\", \"Type d'usage utilisé pour comparer les résultats\", 'Lieux de prélèvement', 'X Lambert', 'Y Lambert', 'DESCRIPTION SOMMAIRE', 'Type de recouvrement de surface (***)', 'Sol en place (S : souillé, NS : non souillé)', 'Remblais de terre (S : souillé, NS : non souillé)', 'Remblais technique (S : souillé, NS : non souillé)', 'Déchet', 'Matières organiques', 'GRANULOMETRIE', 'Fraction argileuse']\n",
      "\n"
     ]
    },
    {
     "name": "stderr",
     "output_type": "stream",
     "text": [
      "/home/yanathan/.local/share/virtualenvs/GSDMA-DRfwm83x/lib/python3.8/site-packages/pandas/core/indexing.py:723: SettingWithCopyWarning: \n",
      "A value is trying to be set on a copy of a slice from a DataFrame\n",
      "\n",
      "See the caveats in the documentation: https://pandas.pydata.org/pandas-docs/stable/user_guide/indexing.html#returning-a-view-versus-a-copy\n",
      "  iloc._setitem_with_indexer(indexer, value, self.name)\n"
     ]
    },
    {
     "name": "stdout",
     "output_type": "stream",
     "text": [
      "Columns dropped :['METAUX LOURDS', 'CYANURES', 'COMPOSES AROMATIQUES VOLATILS', 'BTEX totaux', 'PHENOLS', 'Indice phénol', 'HYDROCARBURES AROMATIQUES POLYCYCLIQUES', 'COMPOSES ORGANOHALOGENES VOLATILS', 'EOX', 'EOX (****)', 'HYDROCARBURES TOTAUX', 'fraction aromat. C6-C7', 'fraction aromat. C7-C8', 'fraction aromat. C8-C10', 'fraction aliphat. C5-C6', 'fraction aliphat. C6-C8', 'fraction aliphat. C8-C10', 'Fraction C35 - C40', 'Hydrocarbures totaux C10-C40', 'METHYL-TERT-BUTYL-ETHER', 'POLYCHLOROBIPHENYL (PCB)', 'PCB 28', 'PCB 52', 'PCB 101', 'PCB 118', 'PCB 138', 'PCB 153', 'PCB 180', 'PCB totaux (7)', 'F4/2M*', 'Teneur mesurée', 'Teneur mesurée (souligne/gras)', 'Teneur mesurée (gras/grisé)', \"(*) CP = Campagne de prélèvements; Ex = Expertise; ES = Etude de sol; EO = Etude d'orientation; EC = Etude de caractérisation; SA = Suivi d'assainissement\", '(**) L: limon, A: Argile, S: Sable, R: Remblai', '(***) ib : imperméable (béton) ; ih : imperméable hydrocarboné ; p : perméable (gravier, fissuré,…) ; tvh : terres végétation haute ; tvb : terres végétation basse ', '(****) 3 mg/kg = Seuil limite défini dans le GREO ']\n",
      "\n",
      "\n",
      "\u001b[1;34mPossible new pollutants names:\u001b[0;0m\n",
      "['ID_ech', 'Type_ech', 'Cyanure (libre)', 'Cyanure (totaux)', 'cyanure (APE)', 'Fraction C5 - C8', 'Fraction C8 - C10', 'Fraction C16 - C21']\n",
      "borehole: 29 ; measure: 29 ; lithology: 0 ; analysis: 29 ; equipement: 0 ; unknown: 0 ; \n",
      "Rows : 29, columns : 74, Unique values on cols: {'ID': 15, 'ID_ech': 29}\n"
     ]
    },
    {
     "data": {
      "application/vnd.jupyter.widget-view+json": {
       "model_id": "89242be2455d42418bdf09a1f672e738",
       "version_major": 2,
       "version_minor": 0
      },
      "text/plain": [
       "interactive(children=(IntSlider(value=10, description='rows', max=29, min=10, readout=False), IntSlider(value=…"
      ]
     },
     "metadata": {},
     "output_type": "display_data"
    },
    {
     "name": "stdout",
     "output_type": "stream",
     "text": [
      "source_bh: 0 ; source_eqp: 0 ; source_uknw: 0 ; source_litho: 0 ; source_an: 29 ; source_mes: 0\n",
      "1 NaN lines dropped\n",
      "Columns dropped :['Unnamed: 0', 'Unnamed: 2']\n",
      "\n",
      "Rows : 136, columns : 23\n"
     ]
    },
    {
     "name": "stderr",
     "output_type": "stream",
     "text": [
      "/home/yanathan/.local/share/virtualenvs/GSDMA-DRfwm83x/lib/python3.8/site-packages/pandas/core/frame.py:4906: SettingWithCopyWarning: \n",
      "A value is trying to be set on a copy of a slice from a DataFrame\n",
      "\n",
      "See the caveats in the documentation: https://pandas.pydata.org/pandas-docs/stable/user_guide/indexing.html#returning-a-view-versus-a-copy\n",
      "  return super().drop(\n"
     ]
    },
    {
     "data": {
      "application/vnd.jupyter.widget-view+json": {
       "model_id": "3bcf3bc464f046ca98241f347d9a7097",
       "version_major": 2,
       "version_minor": 0
      },
      "text/plain": [
       "interactive(children=(IntSlider(value=5, description='rows', max=136, min=5, readout=False), IntSlider(value=1…"
      ]
     },
     "metadata": {},
     "output_type": "display_data"
    },
    {
     "name": "stdout",
     "output_type": "stream",
     "text": [
      "\u001b[1;31mDouble columns' name found :\u001b[0;0m\n",
      "[('DESCRIPTION SOMMAIRE', 2), ('Prof. arrêt du forage', 2)]\n",
      "column(s) dropped: ['21:DESCRIPTION SOMMAIRE', '27:Prof. arrêt du forage']\n",
      "Columns dropped :['col_1', \"Nature de l'étude (*)\", 'Observations organoleptiques', 'LOCALISATION/AFFECTATION(S) - USAGE(S)', 'parcelle (selon dénom.)', \"Type d'usage de fait actuel\", \"Type d'usage de fait futur\", \"Type d'usage utilisé pour comparer les résultats\", 'Lieux de prélèvement', 'DESCRIPTION SOMMAIRE', 'Type de recouvrement de surface (**)', 'Sol en place (S : souillé, NS : non souillé)', 'Remblais de terre (S : souillé, NS : non souillé)', 'Remblais technique (S : souillé, NS : non souillé)', 'Déchet', 'PARAMETRES PHYSICO-CHIMIQUES ', 'ORP']\n",
      "\n",
      "\u001b[1;31mDouble columns' name found :\u001b[0;0m\n",
      "[('Teneur mesurée', 2)]\n",
      "Columns dropped :['METAUX LOURDS', 'CYANURES', 'COMPOSES AROMATIQUES VOLATILS', 'PHENOLS', 'crésols (total)', 'CHLOROPHENOLS', '2-chlorophénol', 'monochlorophénol total', 'dichlorophénol total', '2,4,5-trichlorophénol', '2,4,6-trichlorophénol', 'trichlorophénol total', '2,3,4,6- tétrachlorophénol', 'tétrachlorophénol total', 'pentachlorophénol', 'HYDROCARBURES AROMATIQUES POLYCYCLIQUES', 'COMPOSES ORGANOCHLORES VOLATILS', 'CHLOROBENZENES', 'monochlorobenzène', '1,3-dichlorobenzène', '1,2-dichlorobenzène', '1,4-Dichlorobenzène', '1,2,4,5- et 1,2,3,5-tétrachlorobenzènes', 'pentachlorobenzène', 'hexachlorobenzène', 'HYDROCARBURES TOTAUX', 'METHYL-TERT-BUTYL-ETHER', 'POLYCHLOROBIPHENYLS (PCB)', 'PCB totaux (7)', 'Teneur mesurée (souligne/gras)', 'Teneur mesurée (gras/grisé)', \"(*) CP = Campagne de prélèvements; Ex = Expertise; ES = Etude de sol; EO = Etude d'orientation; EC = Etude de caractérisation; SA = Suivi d'assainissement\", '(**) ib : imperméable (béton) ; ih : imperméable hydrocarboné ; p : perméable (gravier, fissuré,…) ; tvh : terres végétation haute ; tvb : terres végétation basse ']\n",
      "\n"
     ]
    },
    {
     "name": "stderr",
     "output_type": "stream",
     "text": [
      "/home/yanathan/.local/share/virtualenvs/GSDMA-DRfwm83x/lib/python3.8/site-packages/pandas/core/indexing.py:723: SettingWithCopyWarning: \n",
      "A value is trying to be set on a copy of a slice from a DataFrame\n",
      "\n",
      "See the caveats in the documentation: https://pandas.pydata.org/pandas-docs/stable/user_guide/indexing.html#returning-a-view-versus-a-copy\n",
      "  iloc._setitem_with_indexer(indexer, value, self.name)\n"
     ]
    },
    {
     "name": "stdout",
     "output_type": "stream",
     "text": [
      "\n",
      "\u001b[1;34mPossible new pollutants names:\u001b[0;0m\n",
      "['ID_ech', 'Type_ech', 'cyanure (APE)', 'Tétrachloroéthylène ', 'fraction aromat. C6-C7', 'fraction aromat. C7-C8', 'fraction aromat. C8-C10', 'fraction aliphat. C6-C8', 'fraction aliphat. C8-C10', 'Fraction C5 - C8', 'Fraction C8 - C10', 'Fraction C16 - C21']\n",
      "borehole: 17 ; measure: 17 ; lithology: 0 ; analysis: 17 ; equipement: 17 ; unknown: 0 ; \n",
      "\n",
      "\u001b[1;32mNot used columns:\u001b[0;0m\n",
      " ['Affectation', 'Num_maille']\n",
      "borehole: 14 ; measure: 17 ; lithology: 0 ; analysis: 17 ; equipement: 17 ; unknown: 0\n",
      "source_bh: 14 ; source_eqp: 17 ; source_uknw: 0 ; source_litho: 0 ; source_an: 46 ; source_mes: 17\n",
      "source_bh: 0 ; source_eqp: 0 ; source_uknw: 0 ; source_litho: 0 ; source_an: 0 ; source_mes: 0\n",
      "1 NaN lines dropped\n",
      "Columns dropped :['Unnamed: 0', 'Unnamed: 2']\n",
      "\n",
      "Rows : 135, columns : 31\n"
     ]
    },
    {
     "name": "stderr",
     "output_type": "stream",
     "text": [
      "/home/yanathan/.local/share/virtualenvs/GSDMA-DRfwm83x/lib/python3.8/site-packages/pandas/core/frame.py:4906: SettingWithCopyWarning: \n",
      "A value is trying to be set on a copy of a slice from a DataFrame\n",
      "\n",
      "See the caveats in the documentation: https://pandas.pydata.org/pandas-docs/stable/user_guide/indexing.html#returning-a-view-versus-a-copy\n",
      "  return super().drop(\n"
     ]
    },
    {
     "data": {
      "application/vnd.jupyter.widget-view+json": {
       "model_id": "c379e3418e9549728c46426e88969e72",
       "version_major": 2,
       "version_minor": 0
      },
      "text/plain": [
       "interactive(children=(IntSlider(value=5, description='rows', max=135, min=5, readout=False), IntSlider(value=1…"
      ]
     },
     "metadata": {},
     "output_type": "display_data"
    },
    {
     "name": "stdout",
     "output_type": "stream",
     "text": [
      "Columns dropped :['col_0', \"Nom / description d'échantillon\", \"Nature de l'étude (*)\", 'Terrain', 'Epaisseur de remblais', 'Epaisseur alluvions', \"Nature de l'observation organoleptique\", 'LOCALISATION/AFFECTATION(S) - USAGE(S)', 'zone', 'parcelle (selon dénom.)', \"Type d'usage de fait actuel\", \"Type d'usage de fait futur\", \"Type d'usage utilisé pour comparer les résultats\", 'Lieux de prélèvement', 'X Lambert', 'Y Lambert', 'DESCRIPTION SOMMAIRE', 'Type de recouvrement de surface (***)', 'Sol en place (S : souillé, NS : non souillé)', 'Remblais de terre (S : souillé, NS : non souillé)', 'Remblais technique (S : souillé, NS : non souillé)', 'Déchet', 'Matières organiques', 'GRANULOMETRIE', 'Fraction argileuse']\n",
      "\n",
      "Columns dropped :['METAUX LOURDS', 'CYANURES', 'COMPOSES AROMATIQUES VOLATILS', 'BTEX totaux', 'PHENOLS', 'Phénol', 'Indice phénol', 'HYDROCARBURES AROMATIQUES POLYCYCLIQUES', 'COMPOSES ORGANOHALOGENES VOLATILS', '1,1-Dichloroéthane', '1,2-Dichloroéthane', '1,1-dichloroéthène', 'Cis-1,2-dichloroéthène', 'Trans 1,2-dichloroéthylène', 'Dichlorométhane', 'Totaux (cis,trans) 1,2-dichloroéthènes', '1,2-dichloropropane', 'Tétrachloroéthylène', 'Tétrachlorométhane', '1,1,1-Trichloroéthane', '1,1,2-Trichloroéthane', 'Trichloroéthylène', 'Chloroforme', 'Chlorure de vinyle', 'col_63', 'EOX (****)', 'HYDROCARBURES TOTAUX', 'Fraction C35 - C40', 'Hydrocarbures totaux C10-C40', 'METHYL-TERT-BUTYL-ETHER', 'MTBE', 'POLYCHLOROBIPHENYL (PCB)', 'PCB 28', 'PCB 52', 'PCB 101', 'PCB 118', 'PCB 138', 'PCB 153', 'PCB 180', 'PCB totaux (7)', 'F4/2M*', 'Teneur mesurée', 'Teneur mesurée (souligne/gras)', 'Teneur mesurée (gras/grisé)', \"(*) CP = Campagne de prélèvements; Ex = Expertise; ES = Etude de sol; EO = Etude d'orientation; EC = Etude de caractérisation; SA = Suivi d'assainissement\", '(**) L: limon, A: Argile, S: Sable, R: Remblai', '(***) ib : imperméable (béton) ; ih : imperméable hydrocarboné ; p : perméable (gravier, fissuré,…) ; tvh : terres végétation haute ; tvb : terres végétation basse ', '(****) 3 mg/kg = Seuil limite défini dans le GREO ']\n",
      "\n",
      "\n",
      "\u001b[1;34mPossible new pollutants names:\u001b[0;0m\n",
      "['ID_ech', 'Type_ech', 'Cyanure (libre)', 'Cyanure (totaux)', 'cyanure (APE)', 'fraction aromat. C6-C7', 'fraction aromat. C7-C8', 'fraction aromat. C8-C10', 'fraction aliphat. C6-C8', 'fraction aliphat. C8-C10', 'Fraction C5 - C8', 'Fraction C8 - C10', 'Fraction C16 - C21']\n"
     ]
    },
    {
     "name": "stderr",
     "output_type": "stream",
     "text": [
      "/home/yanathan/.local/share/virtualenvs/GSDMA-DRfwm83x/lib/python3.8/site-packages/pandas/core/indexing.py:723: SettingWithCopyWarning: \n",
      "A value is trying to be set on a copy of a slice from a DataFrame\n",
      "\n",
      "See the caveats in the documentation: https://pandas.pydata.org/pandas-docs/stable/user_guide/indexing.html#returning-a-view-versus-a-copy\n",
      "  iloc._setitem_with_indexer(indexer, value, self.name)\n"
     ]
    },
    {
     "name": "stdout",
     "output_type": "stream",
     "text": [
      "borehole: 25 ; measure: 25 ; lithology: 0 ; analysis: 25 ; equipement: 0 ; unknown: 0 ; \n",
      "borehole: 12 ; measure: 25 ; lithology: 0 ; analysis: 25 ; equipement: 0 ; unknown: 0\n",
      "source_bh: 12 ; source_eqp: 0 ; source_uknw: 0 ; source_litho: 0 ; source_an: 25 ; source_mes: 0\n",
      "Columns dropped :['Unnamed: 0', 'Unnamed: 2']\n",
      "\n",
      "Rows : 138, columns : 17\n"
     ]
    },
    {
     "data": {
      "application/vnd.jupyter.widget-view+json": {
       "model_id": "c9921e3c64194edbbacd188e0947ede8",
       "version_major": 2,
       "version_minor": 0
      },
      "text/plain": [
       "interactive(children=(IntSlider(value=5, description='rows', max=138, min=5, readout=False), IntSlider(value=1…"
      ]
     },
     "metadata": {},
     "output_type": "display_data"
    },
    {
     "name": "stdout",
     "output_type": "stream",
     "text": [
      "\u001b[1;31mDouble columns' name found :\u001b[0;0m\n",
      "[('DESCRIPTION SOMMAIRE', 2), ('Prof. arrêt du forage', 2)]\n",
      "column(s) dropped: ['21:DESCRIPTION SOMMAIRE', '27:Prof. arrêt du forage']\n",
      "Columns dropped :['Nom du piézomètre', \"Nature de l'étude (*)\", 'Observations organoleptiques', 'LOCALISATION/AFFECTATION(S) - USAGE(S)', 'Numéro de maille', 'parcelle (selon dénom.)', \"Type d'usage de fait actuel\", \"Type d'usage de fait futur\", \"Type d'usage utilisé pour comparer les résultats\", 'Lieux de prélèvement', 'DESCRIPTION SOMMAIRE', 'Type de recouvrement de surface (**)', 'Sol en place (S : souillé, NS : non souillé)', 'Remblais de terre (S : souillé, NS : non souillé)', 'Remblais technique (S : souillé, NS : non souillé)', 'Déchet', 'PARAMETRES PHYSICO-CHIMIQUES ', 'ORP']\n",
      "\n",
      "\u001b[1;31mDouble columns' name found :\u001b[0;0m\n",
      "[('Teneur mesurée', 2)]\n",
      "Columns dropped :['METAUX LOURDS', 'Chrome VI', 'CYANURES', 'COMPOSES AROMATIQUES VOLATILS', 'PHENOLS', 'crésols (total)', 'CHLOROPHENOLS', '2-chlorophénol', 'monochlorophénol total', 'dichlorophénol total', '2,4,5-trichlorophénol', '2,4,6-trichlorophénol', 'trichlorophénol total', '2,3,4,6- tétrachlorophénol', 'tétrachlorophénol total', 'pentachlorophénol', 'HYDROCARBURES AROMATIQUES POLYCYCLIQUES', 'COMPOSES ORGANOCHLORES VOLATILS', 'CHLOROBENZENES', 'monochlorobenzène', '1,3-dichlorobenzène', '1,2-dichlorobenzène', '1,4-Dichlorobenzène', '1,2,4,5- et 1,2,3,5-tétrachlorobenzènes', 'pentachlorobenzène', 'hexachlorobenzène', 'HYDROCARBURES TOTAUX', 'METHYL-TERT-BUTYL-ETHER', 'POLYCHLOROBIPHENYLS (PCB)', 'PCB totaux (7)', 'AUTRES ANALYSES ', 'Teneur mesurée (souligne/gras)', 'Teneur mesurée (gras/grisé)', \"(*) CP = Campagne de prélèvements; Ex = Expertise; ES = Etude de sol; EO = Etude d'orientation; EC = Etude de caractérisation; SA = Suivi d'assainissement\", '(**) ib : imperméable (béton) ; ih : imperméable hydrocarboné ; p : perméable (gravier, fissuré,…) ; tvh : terres végétation haute ; tvb : terres végétation basse ']\n",
      "\n"
     ]
    },
    {
     "name": "stderr",
     "output_type": "stream",
     "text": [
      "/home/yanathan/.local/share/virtualenvs/GSDMA-DRfwm83x/lib/python3.8/site-packages/pandas/core/indexing.py:723: SettingWithCopyWarning: \n",
      "A value is trying to be set on a copy of a slice from a DataFrame\n",
      "\n",
      "See the caveats in the documentation: https://pandas.pydata.org/pandas-docs/stable/user_guide/indexing.html#returning-a-view-versus-a-copy\n",
      "  iloc._setitem_with_indexer(indexer, value, self.name)\n"
     ]
    },
    {
     "name": "stdout",
     "output_type": "stream",
     "text": [
      "\n",
      "\u001b[1;34mPossible new pollutants names:\u001b[0;0m\n",
      "['ID_ech', 'Type_ech', 'cyanure (APE)', 'Tétrachloroéthylène ', 'fraction aromat. C6-C7', 'fraction aromat. C7-C8', 'fraction aromat. C8-C10', 'fraction aliphat. C6-C8', 'fraction aliphat. C8-C10', 'Fraction C5 - C8', 'Fraction C8 - C10', 'Fraction C16 - C21']\n",
      "borehole: 11 ; measure: 11 ; lithology: 0 ; analysis: 11 ; equipement: 11 ; unknown: 0 ; \n",
      "\n",
      "\u001b[1;32mNot used columns:\u001b[0;0m\n",
      " ['Affectation']\n",
      "borehole: 11 ; measure: 11 ; lithology: 0 ; analysis: 11 ; equipement: 11 ; unknown: 0\n",
      "source_bh: 23 ; source_eqp: 11 ; source_uknw: 0 ; source_litho: 0 ; source_an: 36 ; source_mes: 11\n",
      "source_bh: 0 ; source_eqp: 0 ; source_uknw: 0 ; source_litho: 0 ; source_an: 0 ; source_mes: 0\n",
      "2 NaN lines dropped\n",
      "Columns dropped :['Unnamed: 0', 'Unnamed: 2']\n",
      "\n",
      "Rows : 138, columns : 66\n"
     ]
    },
    {
     "name": "stderr",
     "output_type": "stream",
     "text": [
      "/home/yanathan/.local/share/virtualenvs/GSDMA-DRfwm83x/lib/python3.8/site-packages/pandas/core/frame.py:4906: SettingWithCopyWarning: \n",
      "A value is trying to be set on a copy of a slice from a DataFrame\n",
      "\n",
      "See the caveats in the documentation: https://pandas.pydata.org/pandas-docs/stable/user_guide/indexing.html#returning-a-view-versus-a-copy\n",
      "  return super().drop(\n"
     ]
    },
    {
     "data": {
      "application/vnd.jupyter.widget-view+json": {
       "model_id": "a209fae1f33842f8b31fa91aa47b399e",
       "version_major": 2,
       "version_minor": 0
      },
      "text/plain": [
       "interactive(children=(IntSlider(value=5, description='rows', max=138, min=5, readout=False), IntSlider(value=1…"
      ]
     },
     "metadata": {},
     "output_type": "display_data"
    },
    {
     "name": "stdout",
     "output_type": "stream",
     "text": [
      "Columns dropped :['col_1', \"Nom / description d'échantillon\", \"Nature de l'étude (*)\", 'Terrain', 'Epaisseur de remblais', 'Epaisseur alluvions', \"Nature de l'observation organoleptique\", 'LOCALISATION/AFFECTATION(S) - USAGE(S)', 'zone', 'parcelle (selon dénom.)', \"Type d'usage de fait actuel\", \"Type d'usage de fait futur\", \"Type d'usage utilisé pour comparer les résultats\", 'Lieux de prélèvement', 'X Lambert', 'Y Lambert', 'DESCRIPTION SOMMAIRE', 'Type de recouvrement de surface (***)', 'Sol en place (S : souillé, NS : non souillé)', 'Remblais de terre (S : souillé, NS : non souillé)', 'Remblais technique (S : souillé, NS : non souillé)', 'Déchet', 'Matières organiques', 'GRANULOMETRIE', 'Fraction argileuse']\n",
      "\n",
      "column(s) dropped: []\n",
      "Columns dropped :['METAUX LOURDS', 'CYANURES', 'COMPOSES AROMATIQUES VOLATILS', 'BTEX totaux', 'PHENOLS', 'Indice phénol', 'HYDROCARBURES AROMATIQUES POLYCYCLIQUES', 'COMPOSES ORGANOHALOGENES VOLATILS', 'col_63', 'EOX (****)', 'HYDROCARBURES TOTAUX', 'Hydrocarbures totaux C10-C40', 'METHYL-TERT-BUTYL-ETHER', 'POLYCHLOROBIPHENYL (PCB)', 'PCB 28', 'PCB 52', 'PCB 101', 'PCB 118', 'PCB 138', 'PCB 153', 'PCB 180', 'PCB totaux (7)', 'F4/2M*', 'Teneur mesurée', 'Teneur mesurée (souligne/gras)', 'Teneur mesurée (gras/grisé)', \"(*) CP = Campagne de prélèvements; Ex = Expertise; ES = Etude de sol; EO = Etude d'orientation; EC = Etude de caractérisation; SA = Suivi d'assainissement\", '(**) L: limon, A: Argile, S: Sable, R: Remblai', '(***) ib : imperméable (béton) ; ih : imperméable hydrocarboné ; p : perméable (gravier, fissuré,…) ; tvh : terres végétation haute ; tvb : terres végétation basse ', '(****) 3 mg/kg = Seuil limite défini dans le GREO ', \"(1) l'échantillon n'a pas pu être extrait ni analysé en raison d'une interférence due à la matrice\"]\n",
      "\n"
     ]
    },
    {
     "name": "stderr",
     "output_type": "stream",
     "text": [
      "/home/yanathan/.local/share/virtualenvs/GSDMA-DRfwm83x/lib/python3.8/site-packages/pandas/core/indexing.py:723: SettingWithCopyWarning: \n",
      "A value is trying to be set on a copy of a slice from a DataFrame\n",
      "\n",
      "See the caveats in the documentation: https://pandas.pydata.org/pandas-docs/stable/user_guide/indexing.html#returning-a-view-versus-a-copy\n",
      "  iloc._setitem_with_indexer(indexer, value, self.name)\n"
     ]
    },
    {
     "name": "stdout",
     "output_type": "stream",
     "text": [
      "\n",
      "\u001b[1;34mPossible new pollutants names:\u001b[0;0m\n",
      "['ID_ech', 'Type_ech', 'Cyanure (libre)', 'Cyanure (totaux)', 'cyanure (APE)', 'Fraction C5 - C8', 'Fraction C8 - C10', 'Fraction C16 - C21']\n",
      "borehole: 60 ; measure: 60 ; lithology: 0 ; analysis: 60 ; equipement: 0 ; unknown: 0 ; \n",
      "borehole: 33 ; measure: 60 ; lithology: 0 ; analysis: 60 ; equipement: 0 ; unknown: 0\n",
      "source_bh: 33 ; source_eqp: 0 ; source_uknw: 0 ; source_litho: 0 ; source_an: 60 ; source_mes: 0\n",
      "4 NaN lines dropped\n",
      "Columns dropped :['Unnamed: 0', 'Unnamed: 2']\n",
      "\n",
      "Rows : 154, columns : 51\n"
     ]
    },
    {
     "name": "stderr",
     "output_type": "stream",
     "text": [
      "/home/yanathan/.local/share/virtualenvs/GSDMA-DRfwm83x/lib/python3.8/site-packages/pandas/core/frame.py:4906: SettingWithCopyWarning: \n",
      "A value is trying to be set on a copy of a slice from a DataFrame\n",
      "\n",
      "See the caveats in the documentation: https://pandas.pydata.org/pandas-docs/stable/user_guide/indexing.html#returning-a-view-versus-a-copy\n",
      "  return super().drop(\n"
     ]
    },
    {
     "data": {
      "application/vnd.jupyter.widget-view+json": {
       "model_id": "53092ada673a47ba81e44a3c01251eb2",
       "version_major": 2,
       "version_minor": 0
      },
      "text/plain": [
       "interactive(children=(IntSlider(value=5, description='rows', max=154, min=5, readout=False), IntSlider(value=1…"
      ]
     },
     "metadata": {},
     "output_type": "display_data"
    },
    {
     "name": "stdout",
     "output_type": "stream",
     "text": [
      "\u001b[1;31mDouble columns' name found :\u001b[0;0m\n",
      "[('DESCRIPTION SOMMAIRE', 2), ('Prof. arrêt du forage', 2)]\n",
      "column(s) dropped: ['21:DESCRIPTION SOMMAIRE', '27:Prof. arrêt du forage']"
     ]
    },
    {
     "name": "stderr",
     "output_type": "stream",
     "text": [
      "/home/yanathan/.local/share/virtualenvs/GSDMA-DRfwm83x/lib/python3.8/site-packages/pandas/core/indexing.py:723: SettingWithCopyWarning: \n",
      "A value is trying to be set on a copy of a slice from a DataFrame\n",
      "\n",
      "See the caveats in the documentation: https://pandas.pydata.org/pandas-docs/stable/user_guide/indexing.html#returning-a-view-versus-a-copy\n",
      "  iloc._setitem_with_indexer(indexer, value, self.name)\n"
     ]
    },
    {
     "name": "stdout",
     "output_type": "stream",
     "text": [
      "\n",
      "Columns dropped :['col_1', \"Nature de l'étude (*)\", 'Observations organoleptiques', 'LOCALISATION/AFFECTATION(S) - USAGE(S)', 'parcelle (selon dénom.)', \"Type d'usage de fait actuel\", \"Type d'usage de fait futur\", \"Type d'usage utilisé pour comparer les résultats\", 'Lieux de prélèvement', 'DESCRIPTION SOMMAIRE', 'Type de recouvrement de surface (**)', 'Sol en place (S : souillé, NS : non souillé)', 'Remblais de terre (S : souillé, NS : non souillé)', 'Remblais technique (S : souillé, NS : non souillé)', 'Déchet', 'PARAMETRES PHYSICO-CHIMIQUES ', 'ORP']\n",
      "\n",
      "\u001b[1;31mDouble columns' name found :\u001b[0;0m\n",
      "[('nitrate', 2), ('ammonium', 2), ('nitrite', 2), ('Teneur mesurée', 2)]\n",
      "column(s) dropped: ['104:nitrite', '106:nitrate', '112:ammonium', '117:Teneur mesurée']\n",
      "Columns dropped :['METAUX LOURDS', 'CYANURES', 'COMPOSES AROMATIQUES VOLATILS', 'PHENOLS', 'crésols (total)', 'CHLOROPHENOLS', '2-chlorophénol', 'monochlorophénol total', 'dichlorophénol total', '2,4,5-trichlorophénol', '2,4,6-trichlorophénol', 'trichlorophénol total', '2,3,4,6- tétrachlorophénol', 'tétrachlorophénol total', 'pentachlorophénol', 'HYDROCARBURES AROMATIQUES POLYCYCLIQUES', 'COMPOSES ORGANOCHLORES VOLATILS', 'CHLOROBENZENES', 'monochlorobenzène', '1,3-dichlorobenzène', '1,2-dichlorobenzène', '1,4-Dichlorobenzène', '1,2,4,5- et 1,2,3,5-tétrachlorobenzènes', 'pentachlorobenzène', 'hexachlorobenzène', 'HYDROCARBURES TOTAUX', 'METHYL-TERT-BUTYL-ETHER', 'POLYCHLOROBIPHENYLS (PCB)', 'PCB totaux (7)', 'AUTRES ANALYSES ', 'azote Kjeldahl', 'COMPOSES INORGANIQUES ', 'sulfures totaux', 'Teneur mesurée (souligne/gras)', 'Teneur mesurée (gras/grisé)', \"(*) CP = Campagne de prélèvements; Ex = Expertise; ES = Etude de sol; EO = Etude d'orientation; EC = Etude de caractérisation; SA = Suivi d'assainissement\", '(**) ib : imperméable (béton) ; ih : imperméable hydrocarboné ; p : perméable (gravier, fissuré,…) ; tvh : terres végétation haute ; tvb : terres végétation basse ']\n",
      "\n",
      "\n",
      "\u001b[1;34mPossible new pollutants names:\u001b[0;0m\n",
      "['ID_ech', 'Type_ech', 'cyanure (APE)', 'Tétrachloroéthylène ', 'fraction aromat. C6-C7', 'fraction aromat. C7-C8', 'fraction aromat. C8-C10', 'fraction aliphat. C6-C8', 'fraction aliphat. C8-C10', 'Fraction C5 - C8', 'Fraction C8 - C10', 'Fraction C16 - C21', 'pH', 'Temp_pH', 'sulfites', 'sulfate', 'sulfures (libre)']\n",
      "Rows : 45, columns : 96, Unique values on cols: {'ID': 30, 'ID_ech': 45}\n"
     ]
    },
    {
     "data": {
      "application/vnd.jupyter.widget-view+json": {
       "model_id": "a07a169084684a4c8fec99bee2430a69",
       "version_major": 2,
       "version_minor": 0
      },
      "text/plain": [
       "interactive(children=(IntSlider(value=3, description='rows', max=45, min=3, readout=False), IntSlider(value=12…"
      ]
     },
     "metadata": {},
     "output_type": "display_data"
    },
    {
     "name": "stdout",
     "output_type": "stream",
     "text": [
      "borehole: 45 ; measure: 45 ; lithology: 0 ; analysis: 45 ; equipement: 45 ; unknown: 0 ; \n",
      "\n",
      "\u001b[1;32mNot used columns:\u001b[0;0m\n",
      " ['Affectation']\n",
      "borehole: 24 ; measure: 45 ; lithology: 0 ; analysis: 45 ; equipement: 45 ; unknown: 0\n",
      "source_bh: 57 ; source_eqp: 45 ; source_uknw: 0 ; source_litho: 0 ; source_an: 105 ; source_mes: 45\n",
      "source_bh: 0 ; source_eqp: 0 ; source_uknw: 0 ; source_litho: 0 ; source_an: 0 ; source_mes: 0\n",
      "2 NaN lines dropped\n",
      "Columns dropped :['Unnamed: 0', 'Unnamed: 2', 'Unnamed: 16', 'Unnamed: 17']\n",
      "\n",
      "Rows : 121, columns : 15\n"
     ]
    },
    {
     "name": "stderr",
     "output_type": "stream",
     "text": [
      "/home/yanathan/.local/share/virtualenvs/GSDMA-DRfwm83x/lib/python3.8/site-packages/pandas/core/frame.py:4906: SettingWithCopyWarning: \n",
      "A value is trying to be set on a copy of a slice from a DataFrame\n",
      "\n",
      "See the caveats in the documentation: https://pandas.pydata.org/pandas-docs/stable/user_guide/indexing.html#returning-a-view-versus-a-copy\n",
      "  return super().drop(\n"
     ]
    },
    {
     "data": {
      "application/vnd.jupyter.widget-view+json": {
       "model_id": "df12e7429984491bb45d67e0cbefc4d0",
       "version_major": 2,
       "version_minor": 0
      },
      "text/plain": [
       "interactive(children=(IntSlider(value=5, description='rows', max=121, min=5, readout=False), IntSlider(value=1…"
      ]
     },
     "metadata": {},
     "output_type": "display_data"
    },
    {
     "name": "stdout",
     "output_type": "stream",
     "text": [
      "\u001b[1;31mDouble columns' name found :\u001b[0;0m\n",
      "[('Autre zone suspecte investiguée', 2)]\n",
      "column(s) dropped: ['8:Autre zone suspecte investiguée']\n",
      "Columns dropped :['Matières organiques', 'SPP/zone suspecte invetiguée', 'Autre zone suspecte investiguée', 'Parcelle', 'X Lambert', 'Y Lambert', \"Type d'étude (*)\", 'Refus de forage', 'Terrain naturel/Remblai (**)', 'Organoleptique couleur suspecte', 'Organoleptique odeur intensité (***)', 'Organoleptique odeur type', 'GRANULOMETRIE']\n",
      "\n",
      "4 NaN lines dropped\n",
      "\u001b[1;31mDouble columns' name found :\u001b[0;0m\n",
      "[('Teneur mesurée', 4)]\n",
      "column(s) dropped: ['92:Teneur mesurée', '93:Teneur mesurée', '94:Teneur mesurée']\n",
      "Columns dropped :['METAUX LOURDS', 'Cobalt', 'CYANURES', 'COMPOSES AROMATIQUES VOLATILS', 'BTEX totaux', 'PHENOLS', 'Indice phénol', 'HYDROCARBURES AROMATIQUES POLYCYCLIQUES', 'COMPOSES ORGANOHALOGENES VOLATILS', 'col_64', 'EOX (****)', 'HYDROCARBURES TOTAUX', 'METHYL-TERT-BUTYL-ETHER', 'POLYCHLOROBIPHENYL (PCB)', 'PCB 28', 'PCB 52', 'PCB 101', 'PCB 118', 'PCB 138', 'PCB 153', 'PCB 180', 'PCB totaux (7)', 'Teneur mesurée', \"VR : Valeur de référence; VS : Valeur seuil; VI : Valeur d'intervention\", \"(*) RP : Rapport de prélèvements; ES : Etude de sol; EO : Etude d'orientation; EC : Etude de caractérisation; SA : Suivi d'assainissement; EF : Evaluation finale\", '(**) TN : Terrain naturel; R : Remblai', \"(***) - : Pas d'impression organoleptique; + : Impression organoleptique faible; ++ : Impression organoleptique forte\", '(****) 3 mg/kg = Seuil limite défini dans le GREO ']\n",
      "\n"
     ]
    },
    {
     "name": "stderr",
     "output_type": "stream",
     "text": [
      "/home/yanathan/.local/share/virtualenvs/GSDMA-DRfwm83x/lib/python3.8/site-packages/pandas/core/indexing.py:723: SettingWithCopyWarning: \n",
      "A value is trying to be set on a copy of a slice from a DataFrame\n",
      "\n",
      "See the caveats in the documentation: https://pandas.pydata.org/pandas-docs/stable/user_guide/indexing.html#returning-a-view-versus-a-copy\n",
      "  iloc._setitem_with_indexer(indexer, value, self.name)\n",
      "/home/yanathan/.local/share/virtualenvs/GSDMA-DRfwm83x/lib/python3.8/site-packages/pandas/core/frame.py:4906: SettingWithCopyWarning: \n",
      "A value is trying to be set on a copy of a slice from a DataFrame\n",
      "\n",
      "See the caveats in the documentation: https://pandas.pydata.org/pandas-docs/stable/user_guide/indexing.html#returning-a-view-versus-a-copy\n",
      "  return super().drop(\n"
     ]
    },
    {
     "name": "stdout",
     "output_type": "stream",
     "text": [
      "\n",
      "\u001b[1;34mPossible new pollutants names:\u001b[0;0m\n",
      "['ID_ech', 'Type_ech', 'Cyanure (libre)', 'Cyanure (totaux)', 'cyanure (APE)', 'fraction aromat. C6-C7', 'fraction aromat. C7-C8', 'fraction aromat. C8-C10', 'fraction aliphat. C6-C8', 'fraction aliphat. C8-C10', 'Fraction C5 - C8', 'Fraction C8 - C10', 'Fraction C16 - C21']\n",
      "borehole: 0 ; measure: 0 ; lithology: 0 ; analysis: 6 ; equipement: 0 ; unknown: 0 ; \n",
      "borehole: 0 ; measure: 0 ; lithology: 0 ; analysis: 6 ; equipement: 0 ; unknown: 0\n",
      "source_bh: 0 ; source_eqp: 0 ; source_uknw: 0 ; source_litho: 0 ; source_an: 6 ; source_mes: 0\n",
      "1 NaN lines dropped\n",
      "Columns dropped :['Unnamed: 0', 'Unnamed: 1', 'Unnamed: 2']\n",
      "\n",
      "Rows : 28, columns : 10\n"
     ]
    },
    {
     "data": {
      "application/vnd.jupyter.widget-view+json": {
       "model_id": "cab6fcbeca6c4564aa85f6a45f429890",
       "version_major": 2,
       "version_minor": 0
      },
      "text/plain": [
       "interactive(children=(IntSlider(value=5, description='rows', max=28, min=5, readout=False), IntSlider(value=10…"
      ]
     },
     "metadata": {},
     "output_type": "display_data"
    },
    {
     "name": "stdout",
     "output_type": "stream",
     "text": [
      "\u001b[1;31mDouble columns' name found :\u001b[0;0m\n",
      "[('température pour mes. pH', 2)]\n",
      "column(s) dropped: ['22:température pour mes. pH']\n",
      "Columns dropped :['Matières organiques', 'GRANULOMETRIE', 'pH', 'Composés inorganiques ', 'Autres analyses chimiques ']\n",
      "\n",
      "3 NaN lines dropped\n",
      "borehole: 0 ; measure: 5 ; lithology: 0 ; analysis: 5 ; equipement: 0 ; unknown: 0 ; \n",
      "borehole: 0 ; measure: 5 ; lithology: 0 ; analysis: 5 ; equipement: 0 ; unknown: 0\n",
      "Conflict values present. Please resolve this manually !\n",
      "all conflicts have been fixed!\n",
      "source_bh: 0 ; source_eqp: 0 ; source_uknw: 0 ; source_litho: 0 ; source_an: 6 ; source_mes: 5\n"
     ]
    },
    {
     "name": "stderr",
     "output_type": "stream",
     "text": [
      "/home/yanathan/.local/share/virtualenvs/GSDMA-DRfwm83x/lib/python3.8/site-packages/pandas/core/frame.py:4906: SettingWithCopyWarning: \n",
      "A value is trying to be set on a copy of a slice from a DataFrame\n",
      "\n",
      "See the caveats in the documentation: https://pandas.pydata.org/pandas-docs/stable/user_guide/indexing.html#returning-a-view-versus-a-copy\n",
      "  return super().drop(\n"
     ]
    }
   ],
   "source": [
    "%run data_organization_part_2.ipynb"
   ]
  },
  {
   "cell_type": "code",
   "execution_count": 8,
   "id": "5113f4d9",
   "metadata": {},
   "outputs": [
    {
     "name": "stdout",
     "output_type": "stream",
     "text": [
      "source_bh: 0 ; source_eqp: 0 ; source_uknw: 0 ; source_litho: 0 ; source_an: 0 ; source_mes: 0\n",
      "5 NaN lines dropped\n",
      "Columns dropped :['Unnamed: 0', 'Unnamed: 2']\n",
      "\n",
      "Rows : 115, columns : 37\n"
     ]
    },
    {
     "name": "stderr",
     "output_type": "stream",
     "text": [
      "/home/yanathan/.local/share/virtualenvs/GSDMA-DRfwm83x/lib/python3.8/site-packages/openpyxl/worksheet/_reader.py:312: UserWarning: Data Validation extension is not supported and will be removed\n",
      "  warn(msg)\n"
     ]
    },
    {
     "data": {
      "application/vnd.jupyter.widget-view+json": {
       "model_id": "48739342247c4af193604544babb8ff0",
       "version_major": 2,
       "version_minor": 0
      },
      "text/plain": [
       "interactive(children=(IntSlider(value=5, description='rows', max=115, min=5, readout=False), IntSlider(value=1…"
      ]
     },
     "metadata": {},
     "output_type": "display_data"
    },
    {
     "name": "stdout",
     "output_type": "stream",
     "text": [
      "\u001b[1;31mDouble columns' name found :\u001b[0;0m\n",
      "[('Autre zone suspecte investiguée', 2), ('pH', 3)]\n",
      "column(s) dropped: ['6:Autre zone suspecte investiguée', '25:pH', '30:pH']\n",
      "Columns dropped :['SPP/zone suspecte investiguée', 'Autre zone suspecte investiguée', 'Parcelle', 'X Lambert', 'Y Lambert', \"Type d'étude (*)\", 'Profondeur minimum de la crépine', 'Profondeur maximum de la crépine', 'Profondeur du fond du piézomètre', 'Profondeur de la nappe/piezo', 'Profondeur de la nappe/chambre visite', 'Organoleptique odeur intensité (**)', 'Organoleptique odeur type', 'Limpidité (***)', 'Température', 'Conductivité électrique', 'Profondeur de la nappe/sol ', 'PARAMETRES PHYSICO-CHIMIQUES \\n(lors du prélèvement)', 'CE', 'ORP', 'Oxygène dissous', 'PARAMETRES PHYSICO-CHIMIQUES \\n(mesures au labo)']\n",
      "\n",
      "Columns dropped :['METAUX LOURDS', 'CYANURES', 'COMPOSES AROMATIQUES VOLATILS', 'Styrène', 'PHENOLS', 'Indice phénol', 'HYDROCARBURES AROMATIQUES POLYCYCLIQUES', 'COMPOSES ORGANOCHLORES VOLATILS', 'HYDROCARBURES TOTAUX', 'METHYL-TERT-BUTYL-ETHER', 'MTBE']\n",
      "\n",
      "\n",
      "\u001b[1;34mPossible new pollutants names:\u001b[0;0m\n",
      "['ID_ech', 'Type_ech', 'Periode', 'Emplacement', 'Date_ech', 'Cyanures (libres)  -  NEN-EN-ISO 14403', 'CN_totaux - NEN-EN-ISO 14403', 'cyanure (APE)', 'cyanure complex - méthode interne ', 'thiocyanate - méthode interne', 'Tétrachloroéthylène ', 'Fraction C5 - C8', 'Fraction C8 - C10', 'Fraction C16 - C21']\n",
      "borehole: 33 ; measure: 33 ; lithology: 0 ; analysis: 33 ; equipement: 0 ; unknown: 0 ; \n",
      "borehole: 10 ; measure: 33 ; lithology: 0 ; analysis: 33 ; equipement: 0 ; unknown: 0\n",
      "source_bh: 10 ; source_eqp: 0 ; source_uknw: 0 ; source_litho: 0 ; source_an: 33 ; source_mes: 33\n",
      "8 NaN lines dropped\n",
      "Columns dropped :['Unnamed: 0', 'Unnamed: 2']\n",
      "\n",
      "Rows : 53, columns : 77\n"
     ]
    },
    {
     "name": "stderr",
     "output_type": "stream",
     "text": [
      "/home/yanathan/.local/share/virtualenvs/GSDMA-DRfwm83x/lib/python3.8/site-packages/pandas/core/frame.py:4906: SettingWithCopyWarning: \n",
      "A value is trying to be set on a copy of a slice from a DataFrame\n",
      "\n",
      "See the caveats in the documentation: https://pandas.pydata.org/pandas-docs/stable/user_guide/indexing.html#returning-a-view-versus-a-copy\n",
      "  return super().drop(\n"
     ]
    },
    {
     "data": {
      "application/vnd.jupyter.widget-view+json": {
       "model_id": "4fa65fe748334c5e8f06a99c7f0f9410",
       "version_major": 2,
       "version_minor": 0
      },
      "text/plain": [
       "interactive(children=(IntSlider(value=5, description='rows', max=53, min=5, readout=False), IntSlider(value=12…"
      ]
     },
     "metadata": {},
     "output_type": "display_data"
    },
    {
     "name": "stderr",
     "output_type": "stream",
     "text": [
      "/home/yanathan/.local/share/virtualenvs/GSDMA-DRfwm83x/lib/python3.8/site-packages/pandas/core/frame.py:4906: SettingWithCopyWarning: \n",
      "A value is trying to be set on a copy of a slice from a DataFrame\n",
      "\n",
      "See the caveats in the documentation: https://pandas.pydata.org/pandas-docs/stable/user_guide/indexing.html#returning-a-view-versus-a-copy\n",
      "  return super().drop(\n"
     ]
    },
    {
     "name": "stdout",
     "output_type": "stream",
     "text": [
      "\u001b[1;31mDouble columns' name found :\u001b[0;0m\n",
      "[('Organoleptique odeur type', 2), ('Nom échantillon', 2), ('Oxygène dissous', 2), ('Période ', 3), ('Profondeur de la nappe/chambre visite', 2), ('Organoleptique odeur intensité (**)', 2), ('Date de prélèvement', 2), ('ORP', 2), ('pH', 4), ('Autre zone suspecte investiguée', 2), ('Emplacement \\n- S : Simulateur \\n- HZS : Hors zone simulateur', 2), ('Température de prélèvement ', 2), ('Profondeur de la nappe/sol ', 2), ('CE', 2), ('PARAMETRES PHYSICO-CHIMIQUES \\n(lors du prélèvement)', 2), ('Profondeur de la nappe/piezo', 2)]\n",
      "column(s) dropped: ['3:Période ']\n",
      "column(s) dropped: ['6:Autre zone suspecte investiguée', '26:pH', '32:pH']\n",
      "41 NaN lines dropped\n",
      "27 NaN lines dropped\n",
      "Columns dropped :['Profondeur de la nappe/chambre visite', 'Organoleptique odeur intensité (**)', 'Organoleptique odeur type', 'Profondeur de la nappe/sol ', 'PARAMETRES PHYSICO-CHIMIQUES \\n(lors du prélèvement)', \"*paramètres n'ont pas été pris en débit continu (dans seau) - peu de débit\", 'col_52']\n",
      "\n",
      "Columns dropped :['SPP/zone suspecte investiguée', 'Autre zone suspecte investiguée', 'Parcelle', 'X Lambert', 'Y Lambert', \"Type d'étude (*)\", 'Profondeur minimum de la crépine', 'Profondeur maximum de la crépine', 'Profondeur du fond du piézomètre', 'Organoleptique odeur intensité (**)', 'Organoleptique odeur type', 'Limpidité (***)', 'Température', 'Conductivité électrique', 'PARAMETRES PHYSICO-CHIMIQUES \\n(lors du prélèvement)', 'PARAMETRES PHYSICO-CHIMIQUES \\n(mesures au labo)']\n",
      "\n",
      "borehole: 33 ; measure: 33 ; lithology: 0 ; analysis: 33 ; equipement: 0 ; unknown: 0 ; \n",
      "borehole: 6 ; measure: 33 ; lithology: 0 ; analysis: 33 ; equipement: 0 ; unknown: 0\n",
      "Conflict values present. Please resolve this manually !\n",
      "all conflicts have been fixed!\n",
      "<class 'pandas.core.frame.DataFrame'>\n",
      "RangeIndex: 33 entries, 0 to 32\n",
      "Data columns (total 7 columns):\n",
      " #   Column    Non-Null Count  Dtype \n",
      "---  ------    --------------  ----- \n",
      " 0   Temp_pH   5 non-null      object\n",
      " 1   pH        5 non-null      object\n",
      " 2   Temp_ech  31 non-null     object\n",
      " 3   Date_mes  33 non-null     object\n",
      " 4   Periode   33 non-null     object\n",
      " 5   ID_ech    33 non-null     object\n",
      " 6   ID        33 non-null     object\n",
      "dtypes: object(7)\n",
      "memory usage: 1.9+ KB\n",
      "Conflict values present. Please resolve this manually !\n",
      "all conflicts have been fixed!\n",
      "source_bh: 10 ; source_eqp: 0 ; source_uknw: 0 ; source_litho: 0 ; source_an: 43 ; source_mes: 43\n",
      "3 NaN lines dropped\n",
      "Columns dropped :['Unnamed: 0', 'Unnamed: 2', 'Unnamed: 29', 'Unnamed: 30', 'Unnamed: 31', 'Unnamed: 32', 'Unnamed: 33', 'Unnamed: 34']\n",
      "\n",
      "Rows : 68, columns : 28\n"
     ]
    },
    {
     "data": {
      "application/vnd.jupyter.widget-view+json": {
       "model_id": "49d509b5b93948448a90faa680a21f1a",
       "version_major": 2,
       "version_minor": 0
      },
      "text/plain": [
       "interactive(children=(IntSlider(value=5, description='rows', max=68, min=5, readout=False), IntSlider(value=12…"
      ]
     },
     "metadata": {},
     "output_type": "display_data"
    },
    {
     "name": "stdout",
     "output_type": "stream",
     "text": [
      "\u001b[1;31mDouble columns' name found :\u001b[0;0m\n",
      "[('Autre zone suspecte investiguée', 2)]\n",
      "column(s) dropped: ['6:Autre zone suspecte investiguée']\n",
      "Columns dropped :['SPP/zone suspecte investiguée', 'Autre zone suspecte investiguée', 'Parcelle', 'X Lambert', 'Y Lambert', \"Type d'étude (*)\", 'Profondeur minimum de la crépine', 'Profondeur maximum de la crépine', 'Profondeur du fond du piézomètre', 'Profondeur de la nappe', 'Organoleptique odeur intensité (**)', 'Organoleptique odeur type', 'Limpidité (***)', 'Température', 'Conductivité électrique', 'pH']\n",
      "\n",
      "1 NaN lines dropped\n",
      "\u001b[1;31mDouble columns' name found :\u001b[0;0m\n",
      "[('nitrate', 2), ('ammonium', 2), ('nitrite', 2)]\n",
      "column(s) dropped: ['11:ammonium', '15:nitrite', '17:nitrate']\n",
      "Columns dropped :['CARBONE ORGANIQUE', 'DEMANDE EN O2', 'COMPOSES AZOTES', 'COMPOSES SOUFRES ', 'ELEMENTS MAJEURS', 'AUTRES ANALYSES', 'cyanure (libre)', 'METHYL-TERT-BUTYL-ETHER', 'MTBE', 'Teneur mesurée ', 'Teneur mesurée', 'VS : Valeur seuil', \"(*) RP : Rapport de prélèvements; ES : Etude de sol; EO : Etude d'orientation; EC : Etude de caractérisation; SA : Suivi d'assainissement; EF : Evaluation finale\", \"(**) - : Pas d'impression organoleptique; + : Impression organoleptique faible; ++ : Impression organoleptique forte\", '(***) + : Limpide; - : Trouble; -- : Opaque', \"Le contenu des tableaux est conforme au modèle repris à l'annexe IX du GREO V03. Le formalisme a été adapté par SITEREM tout en garantissant la lisibilité du document imprimé. \"]\n",
      "\n",
      "\n",
      "\u001b[1;34mPossible new pollutants names:\u001b[0;0m\n",
      "['ID_ech', 'Type_ech', 'Periode', 'Emplacement', 'Date_ech', 'sulfures (libre)', 'sulfites', 'sulfate', 'fer (Fe) total', 'fluorures']\n",
      "borehole: 25 ; measure: 25 ; lithology: 0 ; analysis: 25 ; equipement: 0 ; unknown: 0 ; \n",
      "borehole: 7 ; measure: 25 ; lithology: 0 ; analysis: 25 ; equipement: 0 ; unknown: 0\n"
     ]
    },
    {
     "name": "stderr",
     "output_type": "stream",
     "text": [
      "/home/yanathan/.local/share/virtualenvs/GSDMA-DRfwm83x/lib/python3.8/site-packages/pandas/core/frame.py:4906: SettingWithCopyWarning: \n",
      "A value is trying to be set on a copy of a slice from a DataFrame\n",
      "\n",
      "See the caveats in the documentation: https://pandas.pydata.org/pandas-docs/stable/user_guide/indexing.html#returning-a-view-versus-a-copy\n",
      "  return super().drop(\n"
     ]
    },
    {
     "name": "stdout",
     "output_type": "stream",
     "text": [
      "Conflict values present. Please resolve this manually !\n",
      "all conflicts have been fixed!\n",
      "source_bh: 10 ; source_eqp: 0 ; source_uknw: 0 ; source_litho: 0 ; source_an: 44 ; source_mes: 44\n",
      "source_bh: 0 ; source_eqp: 0 ; source_uknw: 0 ; source_litho: 0 ; source_an: 0 ; source_mes: 0\n",
      "3 NaN lines dropped\n",
      "Columns dropped :['Unnamed: 0', 'Unnamed: 2']\n",
      "\n",
      "Rows : 117, columns : 91\n"
     ]
    },
    {
     "name": "stderr",
     "output_type": "stream",
     "text": [
      "/home/yanathan/.local/share/virtualenvs/GSDMA-DRfwm83x/lib/python3.8/site-packages/openpyxl/worksheet/_reader.py:312: UserWarning: Data Validation extension is not supported and will be removed\n",
      "  warn(msg)\n"
     ]
    },
    {
     "data": {
      "application/vnd.jupyter.widget-view+json": {
       "model_id": "320aa156e95a44e7a71e86c320871608",
       "version_major": 2,
       "version_minor": 0
      },
      "text/plain": [
       "interactive(children=(IntSlider(value=5, description='rows', max=117, min=5, readout=False), IntSlider(value=1…"
      ]
     },
     "metadata": {},
     "output_type": "display_data"
    },
    {
     "name": "stdout",
     "output_type": "stream",
     "text": [
      "\u001b[1;31mDouble columns' name found :\u001b[0;0m\n",
      "[('Autre zone suspecte investiguée', 2), ('pH', 3)]\n",
      "column(s) dropped: ['6:Autre zone suspecte investiguée', '25:pH', '31:pH']\n",
      "Columns dropped :['SPP/zone suspecte investiguée', 'Autre zone suspecte investiguée', 'Parcelle', 'X Lambert', 'Y Lambert', \"Type d'étude (*)\", 'Profondeur minimum de la crépine', 'Profondeur maximum de la crépine', 'Profondeur du fond du piézomètre', 'Organoleptique odeur intensité (**)', 'Organoleptique odeur type', 'Limpidité (***)', 'Température', 'Conductivité électrique', 'Profondeur de la nappe/sol ', 'PARAMETRES PHYSICO-CHIMIQUES \\n(lors du prélèvement)', 'PARAMETRES PHYSICO-CHIMIQUES \\n(mesures au labo)']\n",
      "\n",
      "column(s) dropped: []\n",
      "Columns dropped :['METAUX LOURDS', 'CYANURES', 'COMPOSES AROMATIQUES VOLATILS', 'PHENOLS', 'Indice phénol', 'HYDROCARBURES AROMATIQUES POLYCYCLIQUES', 'COMPOSES ORGANOCHLORES VOLATILS', 'HYDROCARBURES TOTAUX', 'METHYL-TERT-BUTYL-ETHER', 'MTBE']\n",
      "\n",
      "\n",
      "\u001b[1;34mPossible new pollutants names:\u001b[0;0m\n",
      "['ID_ech', 'Type_ech', 'Periode', 'Emplacement', 'Date_ech', 'Cyanures (libres)  -  NEN-EN-ISO 14403', 'CN_totaux - NEN-EN-ISO 14403', 'cyanure (APE)', 'thiocyanate - méthode interne', 'Tétrachloroéthylène ', 'Fraction C5 - C8', 'Fraction C8 - C10', 'Fraction C16 - C21']\n",
      "borehole: 87 ; measure: 87 ; lithology: 0 ; analysis: 87 ; equipement: 0 ; unknown: 0 ; \n",
      "\n",
      "\u001b[1;32mNot used columns:\u001b[0;0m\n",
      " ['Niv_eau_chbre']\n",
      "borehole: 16 ; measure: 87 ; lithology: 0 ; analysis: 87 ; equipement: 0 ; unknown: 0\n",
      "source_bh: 16 ; source_eqp: 0 ; source_uknw: 0 ; source_litho: 0 ; source_an: 87 ; source_mes: 87\n",
      "7 NaN lines dropped\n",
      "Columns dropped :['Unnamed: 0', 'Unnamed: 2']\n",
      "\n",
      "Rows : 52, columns : 92\n"
     ]
    },
    {
     "name": "stderr",
     "output_type": "stream",
     "text": [
      "/home/yanathan/.local/share/virtualenvs/GSDMA-DRfwm83x/lib/python3.8/site-packages/pandas/core/frame.py:4906: SettingWithCopyWarning: \n",
      "A value is trying to be set on a copy of a slice from a DataFrame\n",
      "\n",
      "See the caveats in the documentation: https://pandas.pydata.org/pandas-docs/stable/user_guide/indexing.html#returning-a-view-versus-a-copy\n",
      "  return super().drop(\n"
     ]
    },
    {
     "data": {
      "application/vnd.jupyter.widget-view+json": {
       "model_id": "3c00cd2011f5468e8f15a93e1e272bb4",
       "version_major": 2,
       "version_minor": 0
      },
      "text/plain": [
       "interactive(children=(IntSlider(value=5, description='rows', max=52, min=5, readout=False), IntSlider(value=12…"
      ]
     },
     "metadata": {},
     "output_type": "display_data"
    },
    {
     "name": "stderr",
     "output_type": "stream",
     "text": [
      "/home/yanathan/.local/share/virtualenvs/GSDMA-DRfwm83x/lib/python3.8/site-packages/pandas/core/frame.py:4906: SettingWithCopyWarning: \n",
      "A value is trying to be set on a copy of a slice from a DataFrame\n",
      "\n",
      "See the caveats in the documentation: https://pandas.pydata.org/pandas-docs/stable/user_guide/indexing.html#returning-a-view-versus-a-copy\n",
      "  return super().drop(\n"
     ]
    },
    {
     "name": "stdout",
     "output_type": "stream",
     "text": [
      "\u001b[1;31mDouble columns' name found :\u001b[0;0m\n",
      "[('Organoleptique odeur type', 2), ('Nom échantillon', 2), ('Oxygène dissous', 2), ('Organoleptique odeur intensité (**)', 2), ('Profondeur piezo', 2), ('Date de prélèvement', 2), ('ORP', 2), ('Période ', 2), ('pH', 4), ('Autre zone suspecte investiguée', 2), ('Température de prélèvement ', 2), ('Profondeur de la nappe/sol ', 2), ('CE', 2), ('PARAMETRES PHYSICO-CHIMIQUES \\n(lors du prélèvement)', 2), ('Profondeur de la nappe/piezo', 2)]\n",
      "column(s) dropped: []\n",
      "column(s) dropped: ['6:Autre zone suspecte investiguée', '25:pH', '31:pH']\n",
      "83 NaN lines dropped\n",
      "Columns dropped :['Profondeur de la nappe/chambre visite', 'Organoleptique odeur intensité (**)', 'Organoleptique odeur type', 'Profondeur de la nappe/sol ', 'PARAMETRES PHYSICO-CHIMIQUES \\n(lors du prélèvement)', 'col_51']\n",
      "\n",
      "Columns dropped :['SPP/zone suspecte investiguée', 'Autre zone suspecte investiguée', 'Parcelle', 'X Lambert', 'Y Lambert', \"Type d'étude (*)\", 'Profondeur minimum de la crépine', 'Profondeur maximum de la crépine', 'Profondeur du fond du piézomètre', 'Organoleptique odeur intensité (**)', 'Organoleptique odeur type', 'Limpidité (***)', 'Température', 'Conductivité électrique', 'PARAMETRES PHYSICO-CHIMIQUES \\n(lors du prélèvement)', 'PARAMETRES PHYSICO-CHIMIQUES \\n(mesures au labo)']\n",
      "\n",
      "Columns dropped :['ID']\n",
      "\n",
      "borehole: 95 ; measure: 95 ; lithology: 0 ; analysis: 0 ; equipement: 0 ; unknown: 0 ; \n",
      "borehole: 17 ; measure: 95 ; lithology: 0 ; analysis: 0 ; equipement: 0 ; unknown: 0\n",
      "Conflict values present. Please resolve this manually !\n",
      "all conflicts have been fixed!\n",
      "source_bh: 21 ; source_eqp: 0 ; source_uknw: 0 ; source_litho: 0 ; source_an: 87 ; source_mes: 127\n",
      "4 NaN lines dropped\n",
      "Columns dropped :['Unnamed: 0', 'Unnamed: 2']\n",
      "\n",
      "Rows : 68, columns : 54\n"
     ]
    },
    {
     "data": {
      "application/vnd.jupyter.widget-view+json": {
       "model_id": "edb2105c86bd41659ca97fd448b5ead9",
       "version_major": 2,
       "version_minor": 0
      },
      "text/plain": [
       "interactive(children=(IntSlider(value=5, description='rows', max=68, min=5, readout=False), IntSlider(value=12…"
      ]
     },
     "metadata": {},
     "output_type": "display_data"
    },
    {
     "name": "stdout",
     "output_type": "stream",
     "text": [
      "\u001b[1;31mDouble columns' name found :\u001b[0;0m\n",
      "[('Autre zone suspecte investiguée', 2)]\n",
      "column(s) dropped: ['6:Autre zone suspecte investiguée']\n",
      "Columns dropped :['SPP/zone suspecte investiguée', 'Autre zone suspecte investiguée', 'Parcelle', 'X Lambert', 'Y Lambert', \"Type d'étude (*)\", 'Profondeur minimum de la crépine', 'Profondeur maximum de la crépine', 'Profondeur du fond du piézomètre', 'Profondeur de la nappe', 'Organoleptique odeur intensité (**)', 'Organoleptique odeur type', 'Limpidité (***)', 'Température', 'Conductivité électrique', 'pH']\n",
      "\n",
      "Rows : 51, columns : 6\n"
     ]
    },
    {
     "data": {
      "application/vnd.jupyter.widget-view+json": {
       "model_id": "3278e292759b437c867ed12fd3d37ed3",
       "version_major": 2,
       "version_minor": 0
      },
      "text/plain": [
       "interactive(children=(IntSlider(value=3, description='rows', max=51, min=3, readout=False), IntSlider(value=6,…"
      ]
     },
     "metadata": {},
     "output_type": "display_data"
    },
    {
     "name": "stdout",
     "output_type": "stream",
     "text": [
      "\u001b[1;31mDouble columns' name found :\u001b[0;0m\n",
      "[('nitrate', 2), ('ammonium', 2), ('nitrite', 2)]\n",
      "column(s) dropped: ['11:ammonium', '15:nitrite', '17:nitrate']\n",
      "Columns dropped :['CARBONE ORGANIQUE', 'DEMANDE EN O2', 'COMPOSES AZOTES', 'COMPOSES SOUFRES ', 'ELEMENTS MAJEURS', 'AUTRES ANALYSES', 'cyanure (libre)', 'METHYL-TERT-BUTYL-ETHER', 'MTBE', 'Teneur mesurée ', 'Teneur mesurée', 'VS : Valeur seuil', \"(*) RP : Rapport de prélèvements; ES : Etude de sol; EO : Etude d'orientation; EC : Etude de caractérisation; SA : Suivi d'assainissement; EF : Evaluation finale\", \"(**) - : Pas d'impression organoleptique; + : Impression organoleptique faible; ++ : Impression organoleptique forte\", '(***) + : Limpide; - : Trouble; -- : Opaque', \"Le contenu des tableaux est conforme au modèle repris à l'annexe IX du GREO V03. Le formalisme a été adapté par SITEREM tout en garantissant la lisibilité du document imprimé. \"]\n",
      "\n",
      "\n",
      "\u001b[1;34mPossible new pollutants names:\u001b[0;0m\n",
      "['ID_ech', 'Type_ech', 'Periode', 'Emplacement', 'Date_ech', 'ammoniaque - libre', 'sulfures (libre)', 'sulfites', 'sulfate', 'fer (Fe) total', 'fluorures']\n",
      "Conflict values present. Please resolve this manually !\n",
      "all conflicts have been fixed!\n",
      "Rows : 51, columns : 33\n"
     ]
    },
    {
     "data": {
      "application/vnd.jupyter.widget-view+json": {
       "model_id": "d304fce7765946858196fcbe280dc936",
       "version_major": 2,
       "version_minor": 0
      },
      "text/plain": [
       "interactive(children=(IntSlider(value=3, description='rows', max=51, min=3, readout=False), IntSlider(value=12…"
      ]
     },
     "metadata": {},
     "output_type": "display_data"
    },
    {
     "name": "stdout",
     "output_type": "stream",
     "text": [
      "borehole: 51 ; measure: 51 ; lithology: 0 ; analysis: 51 ; equipement: 0 ; unknown: 0 ; \n",
      "borehole: 10 ; measure: 51 ; lithology: 0 ; analysis: 51 ; equipement: 0 ; unknown: 0\n",
      "Conflict values present. Please resolve this manually !\n",
      "all conflicts have been fixed!\n",
      "Conflict values present. Please resolve this manually !\n",
      "all conflicts have been fixed!\n",
      "source_bh: 22 ; source_eqp: 0 ; source_uknw: 0 ; source_litho: 0 ; source_an: 95 ; source_mes: 135\n",
      "source_bh: 0 ; source_eqp: 0 ; source_uknw: 0 ; source_litho: 0 ; source_an: 0 ; source_mes: 0\n",
      "2 NaN lines dropped\n",
      "Columns dropped :['Unnamed: 0', 'Unnamed: 2', 'Unnamed: 49']\n",
      "\n",
      "Rows : 103, columns : 48\n"
     ]
    },
    {
     "name": "stderr",
     "output_type": "stream",
     "text": [
      "/home/yanathan/.local/share/virtualenvs/GSDMA-DRfwm83x/lib/python3.8/site-packages/openpyxl/worksheet/_reader.py:312: UserWarning: Data Validation extension is not supported and will be removed\n",
      "  warn(msg)\n",
      "/home/yanathan/.local/share/virtualenvs/GSDMA-DRfwm83x/lib/python3.8/site-packages/pandas/core/frame.py:4906: SettingWithCopyWarning: \n",
      "A value is trying to be set on a copy of a slice from a DataFrame\n",
      "\n",
      "See the caveats in the documentation: https://pandas.pydata.org/pandas-docs/stable/user_guide/indexing.html#returning-a-view-versus-a-copy\n",
      "  return super().drop(\n"
     ]
    },
    {
     "data": {
      "application/vnd.jupyter.widget-view+json": {
       "model_id": "7d501b309d964a25a01967743ec10f20",
       "version_major": 2,
       "version_minor": 0
      },
      "text/plain": [
       "interactive(children=(IntSlider(value=5, description='rows', max=103, min=5, readout=False), IntSlider(value=1…"
      ]
     },
     "metadata": {},
     "output_type": "display_data"
    },
    {
     "name": "stderr",
     "output_type": "stream",
     "text": [
      "/home/yanathan/.local/share/virtualenvs/GSDMA-DRfwm83x/lib/python3.8/site-packages/pandas/core/indexing.py:723: SettingWithCopyWarning: \n",
      "A value is trying to be set on a copy of a slice from a DataFrame\n",
      "\n",
      "See the caveats in the documentation: https://pandas.pydata.org/pandas-docs/stable/user_guide/indexing.html#returning-a-view-versus-a-copy\n",
      "  iloc._setitem_with_indexer(indexer, value, self.name)\n"
     ]
    },
    {
     "name": "stdout",
     "output_type": "stream",
     "text": [
      "\u001b[1;31mDouble columns' name found :\u001b[0;0m\n",
      "[('température pour mes. pH', 2)]\n",
      "column(s) dropped: ['16:température pour mes. pH']\n",
      "Columns dropped :['MO et COT', 'pH', 'GRANULOMETRIE']\n",
      "\n",
      "\u001b[1;31mDouble columns' name found :\u001b[0;0m\n",
      "[('Teneur mesurée', 2)]\n",
      "column(s) dropped: ['79:Teneur mesurée']\n",
      "Columns dropped :['METAUX LOURDS', 'CYANURES', 'COMPOSES AROMATIQUES VOLATILS', 'BTEX totaux', 'PHENOLS', 'HYDROCARBURES AROMATIQUES POLYCYCLIQUES', 'COMPOSES ORGANOHALOGENES VOLATILS', 'HYDROCARBURES TOTAUX', 'Teneur mesurée', 'VS : Valeur seuil']\n",
      "\n",
      "\n",
      "\u001b[1;34mPossible new pollutants names:\u001b[0;0m\n",
      "['ID_ech', 'Type_ech', 'cyanure (libre)', 'cyanure (totaux)', 'cyanure (APE)', 'fraction aromat. C6-C7', 'fraction aromat. C7-C8', 'fraction aromat. C8-C10', 'fraction aliphat. C6-C8', 'fraction aliphat. C8-C10', 'Fraction C5 - C8', 'Fraction C8 - C10', 'Fraction C16 - C21']\n",
      "borehole: 44 ; measure: 44 ; lithology: 0 ; analysis: 44 ; equipement: 0 ; unknown: 0 ; \n",
      "borehole: 13 ; measure: 44 ; lithology: 0 ; analysis: 44 ; equipement: 0 ; unknown: 0\n",
      "source_bh: 13 ; source_eqp: 0 ; source_uknw: 0 ; source_litho: 0 ; source_an: 44 ; source_mes: 44\n",
      "3 NaN lines dropped\n",
      "Columns dropped :['Unnamed: 0', 'Unnamed: 2', 'Unnamed: 30', 'Unnamed: 31', 'Unnamed: 32', 'Unnamed: 33', 'Unnamed: 34', 'Unnamed: 35', 'Unnamed: 36']\n",
      "\n",
      "Rows : 135, columns : 29\n"
     ]
    },
    {
     "name": "stderr",
     "output_type": "stream",
     "text": [
      "/home/yanathan/.local/share/virtualenvs/GSDMA-DRfwm83x/lib/python3.8/site-packages/openpyxl/worksheet/_reader.py:312: UserWarning: Data Validation extension is not supported and will be removed\n",
      "  warn(msg)\n",
      "/home/yanathan/.local/share/virtualenvs/GSDMA-DRfwm83x/lib/python3.8/site-packages/pandas/core/frame.py:4906: SettingWithCopyWarning: \n",
      "A value is trying to be set on a copy of a slice from a DataFrame\n",
      "\n",
      "See the caveats in the documentation: https://pandas.pydata.org/pandas-docs/stable/user_guide/indexing.html#returning-a-view-versus-a-copy\n",
      "  return super().drop(\n"
     ]
    },
    {
     "data": {
      "application/vnd.jupyter.widget-view+json": {
       "model_id": "488520bbdab747c1a70d525eaaae8073",
       "version_major": 2,
       "version_minor": 0
      },
      "text/plain": [
       "interactive(children=(IntSlider(value=5, description='rows', max=135, min=5, readout=False), IntSlider(value=1…"
      ]
     },
     "metadata": {},
     "output_type": "display_data"
    },
    {
     "name": "stderr",
     "output_type": "stream",
     "text": [
      "/home/yanathan/.local/share/virtualenvs/GSDMA-DRfwm83x/lib/python3.8/site-packages/pandas/core/indexing.py:723: SettingWithCopyWarning: \n",
      "A value is trying to be set on a copy of a slice from a DataFrame\n",
      "\n",
      "See the caveats in the documentation: https://pandas.pydata.org/pandas-docs/stable/user_guide/indexing.html#returning-a-view-versus-a-copy\n",
      "  iloc._setitem_with_indexer(indexer, value, self.name)\n",
      "/home/yanathan/.local/share/virtualenvs/GSDMA-DRfwm83x/lib/python3.8/site-packages/pandas/core/frame.py:4906: SettingWithCopyWarning: \n",
      "A value is trying to be set on a copy of a slice from a DataFrame\n",
      "\n",
      "See the caveats in the documentation: https://pandas.pydata.org/pandas-docs/stable/user_guide/indexing.html#returning-a-view-versus-a-copy\n",
      "  return super().drop(\n"
     ]
    },
    {
     "name": "stdout",
     "output_type": "stream",
     "text": [
      "\u001b[1;31mDouble columns' name found :\u001b[0;0m\n",
      "[('pH (H20)', 2), ('Autre zone suspecte investiguée', 2), ('température pour mes. pH', 2)]\n",
      "column(s) dropped: ['9:Autre zone suspecte investiguée', '27:température pour mes. pH', '30:pH (H20)']\n",
      "Columns dropped :['Matières organiques', 'SPP/zone suspecte investiguée', 'Autre zone suspecte investiguée', 'Parcelle', 'X Lambert', 'Y Lambert', \"Type d'étude (*)\", 'Organoleptique couleur suspecte', 'Organoleptique odeur intensité (***)', 'Organoleptique odeur type', 'MO et COT', 'matières organiques', 'COT', 'pH', 'pH (KCl)', 'température pour mes. pH', 'pH (H20)', 'GRANULOMETRIE', 'Fraction argileuse', 'parties min. 2µm', 'parties min. 50µm', 'parties min. 2mm']\n",
      "\n",
      "9 NaN lines dropped\n",
      "\u001b[1;31mDouble columns' name found :\u001b[0;0m\n",
      "[('Teneur mesurée', 2)]\n",
      "column(s) dropped: []\n",
      "Columns dropped :['METAUX LOURDS', 'Chrome VI', 'Cobalt', 'CYANURES', 'COMPOSES AROMATIQUES VOLATILS', 'BTEX totaux', 'PHENOLS', 'Phénol', 'Indice phénol', 'HYDROCARBURES AROMATIQUES POLYCYCLIQUES', 'COMPOSES ORGANOHALOGENES VOLATILS', 'EOX (****)', 'HYDROCARBURES TOTAUX', 'METHYL-TERT-BUTYL-ETHER']\n",
      "\n",
      "\n",
      "\u001b[1;34mPossible new pollutants names:\u001b[0;0m\n",
      "['ID_ech', 'Type_ech', 'cyanure (libre)', 'cyanure (totaux)', 'cyanure (APE)', 'fraction aromat. C6-C7', 'fraction aromat. C7-C8', 'fraction aromat. C8-C10', 'fraction aliphat. C6-C8', 'fraction aliphat. C8-C10', 'Fraction C5 - C8', 'Fraction C8 - C10', 'Fraction C16 - C21']\n",
      "borehole: 17 ; measure: 17 ; lithology: 0 ; analysis: 17 ; equipement: 0 ; unknown: 0 ; \n",
      "borehole: 9 ; measure: 17 ; lithology: 0 ; analysis: 17 ; equipement: 0 ; unknown: 0\n",
      "source_bh: 22 ; source_eqp: 0 ; source_uknw: 0 ; source_litho: 0 ; source_an: 60 ; source_mes: 59\n"
     ]
    }
   ],
   "source": [
    "%run data_organization_part_3.ipynb"
   ]
  },
  {
   "cell_type": "code",
   "execution_count": 9,
   "id": "35d959d2",
   "metadata": {},
   "outputs": [
    {
     "name": "stdout",
     "output_type": "stream",
     "text": [
      "source_bh: 0 ; source_eqp: 0 ; source_uknw: 0 ; source_litho: 0 ; source_an: 0 ; source_mes: 0\n",
      "1 NaN lines dropped\n",
      "Rows : 51, columns : 85\n"
     ]
    },
    {
     "data": {
      "application/vnd.jupyter.widget-view+json": {
       "model_id": "ea349906de4f4d46beb6958d167e2d6a",
       "version_major": 2,
       "version_minor": 0
      },
      "text/plain": [
       "interactive(children=(IntSlider(value=5, description='rows', max=51, min=5, readout=False), IntSlider(value=12…"
      ]
     },
     "metadata": {},
     "output_type": "display_data"
    },
    {
     "name": "stdout",
     "output_type": "stream",
     "text": [
      "\n",
      "\u001b[1;34mPossible new pollutants names:\u001b[0;0m\n",
      "['ID', 'ID_ech', 'Date_ech', 'X', 'Y', 'Z', 'Long_for', 'Long_pz_sol', 'Niv_eau_sol', 'pH', 'CE', 'Temp', 'cyanure (APE)', 'Toluene', 'Para_métaxylène', 'Xylenes', 'Tétrachloroéthylène ', 'Fraction C5 - C8', 'Fraction C8 - C10', 'Fraction C16 - C21']\n",
      "borehole: 45 ; measure: 45 ; lithology: 0 ; analysis: 45 ; equipement: 0 ; unknown: 0 ; \n",
      "borehole: 29 ; measure: 45 ; lithology: 0 ; analysis: 45 ; equipement: 0 ; unknown: 0\n",
      "source_bh: 29 ; source_eqp: 0 ; source_uknw: 0 ; source_litho: 0 ; source_an: 45 ; source_mes: 45\n",
      "Rows : 64, columns : 84\n"
     ]
    },
    {
     "data": {
      "application/vnd.jupyter.widget-view+json": {
       "model_id": "e2aa0e6b510f47bc82ef20f443ee3bd6",
       "version_major": 2,
       "version_minor": 0
      },
      "text/plain": [
       "interactive(children=(IntSlider(value=5, description='rows', max=64, min=5, readout=False), IntSlider(value=12…"
      ]
     },
     "metadata": {},
     "output_type": "display_data"
    },
    {
     "name": "stdout",
     "output_type": "stream",
     "text": [
      "\n",
      "\u001b[1;34mPossible new pollutants names:\u001b[0;0m\n",
      "['ID_ech', 'Description', 'Type_ech', 'Date_ech', 'ID', 'X', 'Y', 'Z', 'Organo', 'Long_for', 'Refus', 'Ech_top', 'Ech_base', 'MS', 'col_+2 mm', 'Cyanure (libre)', 'Cyanure (totaux)', 'cyanure (APE)', 'Fraction C5 - C8', 'Fraction C8 - C10', 'Fraction C16 - C21']\n",
      "borehole: 45 ; measure: 45 ; lithology: 0 ; analysis: 45 ; equipement: 0 ; unknown: 0 ; \n",
      "borehole: 29 ; measure: 45 ; lithology: 0 ; analysis: 45 ; equipement: 0 ; unknown: 0\n",
      "Conflict values present. Please resolve this manually !\n",
      "all conflicts have been fixed!\n",
      "source_bh: 29 ; source_eqp: 0 ; source_uknw: 0 ; source_litho: 0 ; source_an: 45 ; source_mes: 43\n",
      "3 NaN lines dropped\n",
      "Columns dropped :['Unnamed: 0']\n",
      "\n",
      "Rows : 33, columns : 14\n"
     ]
    },
    {
     "name": "stderr",
     "output_type": "stream",
     "text": [
      "/home/yanathan/.local/share/virtualenvs/GSDMA-DRfwm83x/lib/python3.8/site-packages/pandas/core/frame.py:4906: SettingWithCopyWarning: \n",
      "A value is trying to be set on a copy of a slice from a DataFrame\n",
      "\n",
      "See the caveats in the documentation: https://pandas.pydata.org/pandas-docs/stable/user_guide/indexing.html#returning-a-view-versus-a-copy\n",
      "  return super().drop(\n"
     ]
    },
    {
     "data": {
      "application/vnd.jupyter.widget-view+json": {
       "model_id": "e1a5b2fc39b6417a9cbfb93119a27560",
       "version_major": 2,
       "version_minor": 0
      },
      "text/plain": [
       "interactive(children=(IntSlider(value=5, description='rows', max=33, min=5, readout=False), IntSlider(value=12…"
      ]
     },
     "metadata": {},
     "output_type": "display_data"
    },
    {
     "name": "stderr",
     "output_type": "stream",
     "text": [
      "/home/yanathan/.local/share/virtualenvs/GSDMA-DRfwm83x/lib/python3.8/site-packages/pandas/core/frame.py:5238: SettingWithCopyWarning: \n",
      "A value is trying to be set on a copy of a slice from a DataFrame\n",
      "\n",
      "See the caveats in the documentation: https://pandas.pydata.org/pandas-docs/stable/user_guide/indexing.html#returning-a-view-versus-a-copy\n",
      "  return super().replace(\n",
      "/tmp/ipykernel_22773/2355105076.py:3: SettingWithCopyWarning: \n",
      "A value is trying to be set on a copy of a slice from a DataFrame.\n",
      "Try using .loc[row_indexer,col_indexer] = value instead\n",
      "\n",
      "See the caveats in the documentation: https://pandas.pydata.org/pandas-docs/stable/user_guide/indexing.html#returning-a-view-versus-a-copy\n",
      "  df['Refus']=df['Refus'].apply(lambda x: 'x' if not pd.isnull(x) else '')\n"
     ]
    },
    {
     "name": "stdout",
     "output_type": "stream",
     "text": [
      "borehole: 51 ; measure: 0 ; lithology: 51 ; analysis: 0 ; equipement: 0 ; unknown: 0 ; \n",
      "\n",
      "\u001b[1;32mNot used columns:\u001b[0;0m\n",
      " ['Nappe']\n",
      "borehole: 29 ; measure: 0 ; lithology: 51 ; analysis: 0 ; equipement: 0 ; unknown: 0\n",
      "Conflict values present. Please resolve this manually !\n",
      "all conflicts have been fixed!\n",
      "source_bh: 57 ; source_eqp: 0 ; source_uknw: 0 ; source_litho: 51 ; source_an: 45 ; source_mes: 43\n",
      "Rows : 71, columns : 18\n"
     ]
    },
    {
     "data": {
      "application/vnd.jupyter.widget-view+json": {
       "model_id": "6948cc792f104763ad0f0b81f8c492d1",
       "version_major": 2,
       "version_minor": 0
      },
      "text/plain": [
       "interactive(children=(IntSlider(value=5, description='rows', max=71, min=5, readout=False), IntSlider(value=12…"
      ]
     },
     "metadata": {},
     "output_type": "display_data"
    },
    {
     "name": "stdout",
     "output_type": "stream",
     "text": [
      "borehole: 110 ; measure: 0 ; lithology: 110 ; analysis: 0 ; equipement: 0 ; unknown: 0 ; \n",
      "\n",
      "\u001b[1;32mNot used columns:\u001b[0;0m\n",
      " ['Z_fond', 'Nappe']\n",
      "borehole: 71 ; measure: 0 ; lithology: 110 ; analysis: 0 ; equipement: 0 ; unknown: 0\n",
      "Conflict values present. Please resolve this manually !\n",
      "all conflicts have been fixed!\n",
      "Conflict values present. Please resolve this manually !\n",
      "all conflicts have been fixed!\n",
      "source_bh: 78 ; source_eqp: 0 ; source_uknw: 0 ; source_litho: 112 ; source_an: 45 ; source_mes: 43\n",
      "source_bh: 0 ; source_eqp: 0 ; source_uknw: 0 ; source_litho: 0 ; source_an: 0 ; source_mes: 0\n",
      "3 NaN lines dropped\n",
      "Columns dropped :['Unnamed: 0', 'Unnamed: 2', 'Unnamed: 61', 'Unnamed: 62', 'Unnamed: 63', 'Unnamed: 64', 'Unnamed: 65', 'Unnamed: 66', 'Unnamed: 67']\n",
      "\n",
      "Rows : 135, columns : 60\n"
     ]
    },
    {
     "name": "stderr",
     "output_type": "stream",
     "text": [
      "/home/yanathan/.local/share/virtualenvs/GSDMA-DRfwm83x/lib/python3.8/site-packages/openpyxl/worksheet/_reader.py:312: UserWarning: Data Validation extension is not supported and will be removed\n",
      "  warn(msg)\n",
      "/home/yanathan/.local/share/virtualenvs/GSDMA-DRfwm83x/lib/python3.8/site-packages/pandas/core/frame.py:4906: SettingWithCopyWarning: \n",
      "A value is trying to be set on a copy of a slice from a DataFrame\n",
      "\n",
      "See the caveats in the documentation: https://pandas.pydata.org/pandas-docs/stable/user_guide/indexing.html#returning-a-view-versus-a-copy\n",
      "  return super().drop(\n"
     ]
    },
    {
     "data": {
      "application/vnd.jupyter.widget-view+json": {
       "model_id": "8d73978efa224df18c0c5fb979a136f1",
       "version_major": 2,
       "version_minor": 0
      },
      "text/plain": [
       "interactive(children=(IntSlider(value=5, description='rows', max=135, min=5, readout=False), IntSlider(value=1…"
      ]
     },
     "metadata": {},
     "output_type": "display_data"
    },
    {
     "name": "stderr",
     "output_type": "stream",
     "text": [
      "/home/yanathan/.local/share/virtualenvs/GSDMA-DRfwm83x/lib/python3.8/site-packages/pandas/core/indexing.py:723: SettingWithCopyWarning: \n",
      "A value is trying to be set on a copy of a slice from a DataFrame\n",
      "\n",
      "See the caveats in the documentation: https://pandas.pydata.org/pandas-docs/stable/user_guide/indexing.html#returning-a-view-versus-a-copy\n",
      "  iloc._setitem_with_indexer(indexer, value, self.name)\n"
     ]
    },
    {
     "name": "stdout",
     "output_type": "stream",
     "text": [
      "\u001b[1;31mDouble columns' name found :\u001b[0;0m\n",
      "[('pH (H20)', 2), ('Autre zone suspecte investiguée', 2), ('température pour mes. pH', 2)]\n",
      "column(s) dropped: ['9:Autre zone suspecte investiguée', '27:température pour mes. pH', '30:pH (H20)']\n",
      "Columns dropped :['Matières organiques', 'SPP/zone suspecte investiguée', 'Autre zone suspecte investiguée', 'Parcelle', 'X Lambert', 'Y Lambert', \"Type d'étude (*)\", 'Organoleptique couleur suspecte', 'Organoleptique odeur intensité (***)', 'Organoleptique odeur type', 'MO et COT', 'pH', 'GRANULOMETRIE', 'Fraction argileuse']\n",
      "\n",
      "\u001b[1;31mDouble columns' name found :\u001b[0;0m\n",
      "[('Teneur mesurée', 2)]\n"
     ]
    },
    {
     "name": "stderr",
     "output_type": "stream",
     "text": [
      "/home/yanathan/.local/share/virtualenvs/GSDMA-DRfwm83x/lib/python3.8/site-packages/pandas/core/frame.py:4906: SettingWithCopyWarning: \n",
      "A value is trying to be set on a copy of a slice from a DataFrame\n",
      "\n",
      "See the caveats in the documentation: https://pandas.pydata.org/pandas-docs/stable/user_guide/indexing.html#returning-a-view-versus-a-copy\n",
      "  return super().drop(\n"
     ]
    },
    {
     "name": "stdout",
     "output_type": "stream",
     "text": [
      "\n",
      "\u001b[1;34mPossible new pollutants names:\u001b[0;0m\n",
      "['ID_ech', 'METAUX LOURDS', 'CYANURES', 'cyanure (libre)', 'cyanure (totaux)', 'cyanure (APE)', 'COMPOSES AROMATIQUES VOLATILS', 'PHENOLS', 'HYDROCARBURES AROMATIQUES POLYCYCLIQUES', 'COMPOSES ORGANOHALOGENES VOLATILS', 'EOX (****)', 'HYDROCARBURES TOTAUX', 'fraction aromat. C6-C7', 'fraction aromat. C7-C8', 'fraction aromat. C8-C10', 'fraction aliphat. C6-C8', 'fraction aliphat. C8-C10', 'Fraction C5 - C8', 'Fraction C8 - C10', 'Fraction C16 - C21', 'METHYL-TERT-BUTYL-ETHER']\n",
      "Columns dropped :['METAUX LOURDS', 'CYANURES', 'COMPOSES AROMATIQUES VOLATILS', 'BTEX_tot', 'PHENOLS', 'HYDROCARBURES AROMATIQUES POLYCYCLIQUES', 'COMPOSES ORGANOHALOGENES VOLATILS', 'HYDROCARBURES TOTAUX', 'METHYL-TERT-BUTYL-ETHER']\n",
      "\n",
      "1 NaN lines dropped\n",
      "borehole: 53 ; measure: 53 ; lithology: 0 ; analysis: 53 ; equipement: 0 ; unknown: 0 ; \n",
      "borehole: 19 ; measure: 53 ; lithology: 0 ; analysis: 53 ; equipement: 0 ; unknown: 0\n",
      "source_bh: 19 ; source_eqp: 0 ; source_uknw: 0 ; source_litho: 0 ; source_an: 53 ; source_mes: 53\n",
      "5 NaN lines dropped\n",
      "Columns dropped :['Unnamed: 0', 'Unnamed: 2']\n",
      "\n",
      "Rows : 64, columns : 46\n"
     ]
    },
    {
     "data": {
      "application/vnd.jupyter.widget-view+json": {
       "model_id": "eca674817b4f4437a8568e2ff6ab1e58",
       "version_major": 2,
       "version_minor": 0
      },
      "text/plain": [
       "interactive(children=(IntSlider(value=5, description='rows', max=64, min=5, readout=False), IntSlider(value=12…"
      ]
     },
     "metadata": {},
     "output_type": "display_data"
    },
    {
     "name": "stdout",
     "output_type": "stream",
     "text": [
      "\u001b[1;31mDouble columns' name found :\u001b[0;0m\n",
      "[('nitrate', 2), ('ammonium', 2), ('nitrite', 2)]\n"
     ]
    },
    {
     "name": "stderr",
     "output_type": "stream",
     "text": [
      "/home/yanathan/.local/share/virtualenvs/GSDMA-DRfwm83x/lib/python3.8/site-packages/pandas/core/indexing.py:723: SettingWithCopyWarning: \n",
      "A value is trying to be set on a copy of a slice from a DataFrame\n",
      "\n",
      "See the caveats in the documentation: https://pandas.pydata.org/pandas-docs/stable/user_guide/indexing.html#returning-a-view-versus-a-copy\n",
      "  iloc._setitem_with_indexer(indexer, value, self.name)\n"
     ]
    },
    {
     "name": "stdout",
     "output_type": "stream",
     "text": [
      "column(s) dropped: ['4:ammonium', '5:ammonium', '6:ammonium', '10:nitrite', '11:nitrite', '12:nitrite', '14:nitrate', '15:nitrate', '16:nitrate']\n",
      "Columns dropped :['COMPOSES AZOTES', 'ammoniaque - libre', 'nitrite', 'nitrate', 'COMPOSES SOUFRES ', 'sulfures totaux', 'sulfures (libre)', 'Soufre Total', 'sulfites', 'ELEMENTS MAJEURS', 'fer (Fe) total', 'fer (2+)', 'AUTRES ANALYSES', 'fluorures', 'cyanure (libre)', 'bromure (libre)', 'carbonate', 'bicarbonate', 'METHYL-TERT-BUTYL-ETHER', 'MTBE']\n",
      "\n",
      "\n",
      "\u001b[1;34mPossible new pollutants names:\u001b[0;0m\n",
      "['ID_ech', 'Type_ech', 'Date_ech', 'sulfate']\n",
      "\u001b[1;31mDouble columns' name found :\u001b[0;0m\n",
      "[('P', 2)]\n",
      "column(s) dropped: ['15:P']\n",
      "source_bh: 19 ; source_eqp: 0 ; source_uknw: 0 ; source_litho: 0 ; source_an: 58 ; source_mes: 53\n",
      "source_bh: 0 ; source_eqp: 0 ; source_uknw: 0 ; source_litho: 0 ; source_an: 0 ; source_mes: 0\n",
      "Columns dropped :['Unnamed: 5']\n",
      "\n",
      "Rows : 98, columns : 5\n"
     ]
    },
    {
     "data": {
      "application/vnd.jupyter.widget-view+json": {
       "model_id": "c438c2e85ffc46f082d80f28ae830437",
       "version_major": 2,
       "version_minor": 0
      },
      "text/plain": [
       "interactive(children=(IntSlider(value=5, description='rows', max=98, min=5, readout=False), IntSlider(value=5,…"
      ]
     },
     "metadata": {},
     "output_type": "display_data"
    },
    {
     "name": "stdout",
     "output_type": "stream",
     "text": [
      "source_bh: 0 ; source_eqp: 0 ; source_uknw: 0 ; source_litho: 93 ; source_an: 0 ; source_mes: 0\n",
      "16 NaN lines dropped\n",
      "Columns dropped :['Unnamed: 4']\n",
      "\n",
      "Rows : 67, columns : 4\n"
     ]
    },
    {
     "name": "stderr",
     "output_type": "stream",
     "text": [
      "/home/yanathan/.local/share/virtualenvs/GSDMA-DRfwm83x/lib/python3.8/site-packages/pandas/core/frame.py:4906: SettingWithCopyWarning: \n",
      "A value is trying to be set on a copy of a slice from a DataFrame\n",
      "\n",
      "See the caveats in the documentation: https://pandas.pydata.org/pandas-docs/stable/user_guide/indexing.html#returning-a-view-versus-a-copy\n",
      "  return super().drop(\n"
     ]
    },
    {
     "data": {
      "application/vnd.jupyter.widget-view+json": {
       "model_id": "8995a7637fc246c3875db8285ea6e6d1",
       "version_major": 2,
       "version_minor": 0
      },
      "text/plain": [
       "interactive(children=(IntSlider(value=5, description='rows', max=67, min=5, readout=False), IntSlider(value=4,…"
      ]
     },
     "metadata": {},
     "output_type": "display_data"
    },
    {
     "name": "stdout",
     "output_type": "stream",
     "text": [
      "Columns dropped :['Unnamed: 5', 'Unnamed: 6', 'Unnamed: 7']\n",
      "\n",
      "Rows : 20, columns : 5\n"
     ]
    },
    {
     "data": {
      "application/vnd.jupyter.widget-view+json": {
       "model_id": "141a0ecc2c334da08ab5e3b6eefdd0d0",
       "version_major": 2,
       "version_minor": 0
      },
      "text/plain": [
       "interactive(children=(IntSlider(value=5, description='rows', max=20, min=5, readout=False), IntSlider(value=5,…"
      ]
     },
     "metadata": {},
     "output_type": "display_data"
    },
    {
     "name": "stdout",
     "output_type": "stream",
     "text": [
      "source_bh: 0 ; source_eqp: 0 ; source_uknw: 0 ; source_litho: 93 ; source_an: 70 ; source_mes: 0\n",
      "Columns dropped :['RAS', 'RAS.1', 'Niv. Eau p/r sol', 'RAS.2', 'Unnamed: 18', 'PZ Prof.\\nmesurée']\n",
      "\n",
      "Rows : 27, columns : 14\n"
     ]
    },
    {
     "data": {
      "application/vnd.jupyter.widget-view+json": {
       "model_id": "bb4ab91d61a341c68fee8f66dcd6cda3",
       "version_major": 2,
       "version_minor": 0
      },
      "text/plain": [
       "interactive(children=(IntSlider(value=5, description='rows', max=27, min=5, readout=False), IntSlider(value=12…"
      ]
     },
     "metadata": {},
     "output_type": "display_data"
    },
    {
     "name": "stdout",
     "output_type": "stream",
     "text": [
      "source_bh: 25 ; source_eqp: 0 ; source_uknw: 0 ; source_litho: 93 ; source_an: 70 ; source_mes: 0\n",
      "Rows : 35, columns : 7\n"
     ]
    },
    {
     "data": {
      "application/vnd.jupyter.widget-view+json": {
       "model_id": "d46437610f224c88b8b509806c8a6d4a",
       "version_major": 2,
       "version_minor": 0
      },
      "text/plain": [
       "interactive(children=(IntSlider(value=5, description='rows', max=35, min=5, readout=False), IntSlider(value=7,…"
      ]
     },
     "metadata": {},
     "output_type": "display_data"
    },
    {
     "name": "stdout",
     "output_type": "stream",
     "text": [
      "Rows : 33, columns : 8\n"
     ]
    },
    {
     "data": {
      "application/vnd.jupyter.widget-view+json": {
       "model_id": "3a91d855f6c44bce8317a88005f598c2",
       "version_major": 2,
       "version_minor": 0
      },
      "text/plain": [
       "interactive(children=(IntSlider(value=10, description='rows', max=33, min=10, readout=False), IntSlider(value=…"
      ]
     },
     "metadata": {},
     "output_type": "display_data"
    },
    {
     "name": "stdout",
     "output_type": "stream",
     "text": [
      "source_bh: 25 ; source_eqp: 33 ; source_uknw: 0 ; source_litho: 93 ; source_an: 70 ; source_mes: 0\n",
      "Rows : 3, columns : 4\n"
     ]
    },
    {
     "data": {
      "application/vnd.jupyter.widget-view+json": {
       "model_id": "19fae264e5b64bb3b123ceccf34ae292",
       "version_major": 2,
       "version_minor": 0
      },
      "text/plain": [
       "interactive(children=(IntSlider(value=3, description='rows', max=3, min=3, readout=False), IntSlider(value=4, …"
      ]
     },
     "metadata": {},
     "output_type": "display_data"
    },
    {
     "name": "stdout",
     "output_type": "stream",
     "text": [
      "source_bh: 25 ; source_eqp: 33 ; source_uknw: 0 ; source_litho: 93 ; source_an: 70 ; source_mes: 3\n",
      "source_bh: 0 ; source_eqp: 0 ; source_uknw: 0 ; source_litho: 0 ; source_an: 0 ; source_mes: 0\n",
      "2 NaN lines dropped\n",
      "Columns dropped :['Unnamed: 4', 'Unnamed: 5', 'Unnamed: 6']\n",
      "\n",
      "Rows : 20, columns : 4\n"
     ]
    },
    {
     "name": "stderr",
     "output_type": "stream",
     "text": [
      "/home/yanathan/.local/share/virtualenvs/GSDMA-DRfwm83x/lib/python3.8/site-packages/pandas/core/frame.py:4906: SettingWithCopyWarning: \n",
      "A value is trying to be set on a copy of a slice from a DataFrame\n",
      "\n",
      "See the caveats in the documentation: https://pandas.pydata.org/pandas-docs/stable/user_guide/indexing.html#returning-a-view-versus-a-copy\n",
      "  return super().drop(\n"
     ]
    },
    {
     "data": {
      "application/vnd.jupyter.widget-view+json": {
       "model_id": "c22a98ea051449f2b0c206adcbfceb72",
       "version_major": 2,
       "version_minor": 0
      },
      "text/plain": [
       "interactive(children=(IntSlider(value=5, description='rows', max=20, min=5, readout=False), IntSlider(value=4,…"
      ]
     },
     "metadata": {},
     "output_type": "display_data"
    },
    {
     "name": "stdout",
     "output_type": "stream",
     "text": [
      "Rows : 16, columns : 5\n"
     ]
    },
    {
     "data": {
      "application/vnd.jupyter.widget-view+json": {
       "model_id": "51f21a4833e24f10a728eec3ed6714cb",
       "version_major": 2,
       "version_minor": 0
      },
      "text/plain": [
       "interactive(children=(IntSlider(value=10, description='rows', max=16, min=10, readout=False), IntSlider(value=…"
      ]
     },
     "metadata": {},
     "output_type": "display_data"
    },
    {
     "name": "stdout",
     "output_type": "stream",
     "text": [
      "source_bh: 16 ; source_eqp: 0 ; source_uknw: 0 ; source_litho: 0 ; source_an: 0 ; source_mes: 0\n",
      "2 NaN lines dropped\n",
      "Columns dropped :['Unnamed: 4', 'Unnamed: 5', 'Unnamed: 6']\n",
      "\n",
      "Rows : 34, columns : 4\n"
     ]
    },
    {
     "name": "stderr",
     "output_type": "stream",
     "text": [
      "/home/yanathan/.local/share/virtualenvs/GSDMA-DRfwm83x/lib/python3.8/site-packages/pandas/core/frame.py:4906: SettingWithCopyWarning: \n",
      "A value is trying to be set on a copy of a slice from a DataFrame\n",
      "\n",
      "See the caveats in the documentation: https://pandas.pydata.org/pandas-docs/stable/user_guide/indexing.html#returning-a-view-versus-a-copy\n",
      "  return super().drop(\n"
     ]
    },
    {
     "data": {
      "application/vnd.jupyter.widget-view+json": {
       "model_id": "7ea2581824664952a13d0ebaf36dd850",
       "version_major": 2,
       "version_minor": 0
      },
      "text/plain": [
       "interactive(children=(IntSlider(value=5, description='rows', max=34, min=5, readout=False), IntSlider(value=4,…"
      ]
     },
     "metadata": {},
     "output_type": "display_data"
    },
    {
     "name": "stdout",
     "output_type": "stream",
     "text": [
      "Rows : 30, columns : 5\n"
     ]
    },
    {
     "data": {
      "application/vnd.jupyter.widget-view+json": {
       "model_id": "e9a3edfd42734548bf190d2d43bcf657",
       "version_major": 2,
       "version_minor": 0
      },
      "text/plain": [
       "interactive(children=(IntSlider(value=10, description='rows', max=30, min=10, readout=False), IntSlider(value=…"
      ]
     },
     "metadata": {},
     "output_type": "display_data"
    },
    {
     "name": "stdout",
     "output_type": "stream",
     "text": [
      "source_bh: 46 ; source_eqp: 0 ; source_uknw: 0 ; source_litho: 0 ; source_an: 0 ; source_mes: 0\n",
      "1 NaN lines dropped\n",
      "Columns dropped :['Unnamed: 4', 'Unnamed: 5', 'Unnamed: 6']\n",
      "\n",
      "Rows : 81, columns : 4\n"
     ]
    },
    {
     "name": "stderr",
     "output_type": "stream",
     "text": [
      "/home/yanathan/.local/share/virtualenvs/GSDMA-DRfwm83x/lib/python3.8/site-packages/pandas/core/frame.py:4906: SettingWithCopyWarning: \n",
      "A value is trying to be set on a copy of a slice from a DataFrame\n",
      "\n",
      "See the caveats in the documentation: https://pandas.pydata.org/pandas-docs/stable/user_guide/indexing.html#returning-a-view-versus-a-copy\n",
      "  return super().drop(\n"
     ]
    },
    {
     "data": {
      "application/vnd.jupyter.widget-view+json": {
       "model_id": "0cd6b00253874a59a24692965dc636d1",
       "version_major": 2,
       "version_minor": 0
      },
      "text/plain": [
       "interactive(children=(IntSlider(value=5, description='rows', max=81, min=5, readout=False), IntSlider(value=4,…"
      ]
     },
     "metadata": {},
     "output_type": "display_data"
    },
    {
     "name": "stdout",
     "output_type": "stream",
     "text": [
      "Conflict values present. Please resolve this manually !\n",
      "all conflicts have been fixed!\n",
      "source_bh: 78 ; source_eqp: 0 ; source_uknw: 0 ; source_litho: 0 ; source_an: 0 ; source_mes: 0\n"
     ]
    }
   ],
   "source": [
    "%run data_organization_part_4.ipynb"
   ]
  },
  {
   "cell_type": "markdown",
   "id": "06c322e7",
   "metadata": {},
   "source": [
    "## Running of final merge notebook"
   ]
  },
  {
   "cell_type": "code",
   "execution_count": 10,
   "id": "8cb45c6a",
   "metadata": {},
   "outputs": [
    {
     "name": "stdout",
     "output_type": "stream",
     "text": [
      "Borehole  \t:  15\n",
      "Litho  \t:  4\n",
      "Equipm  \t:  5\n",
      "Measure  \t:  13\n",
      "Sample  \t:  13\n",
      "Unknow  \t:  1\n",
      "15 files\n",
      "Same files:[]\n",
      "Files with coordinates:[1, 2, 3, 4, 8, 9, 10, 12, 14]\n",
      "Files without coordinates:[0, 5, 6, 7, 11, 13]\n",
      "df1 :  --> Coordinates\n",
      "df2 :  --> Coordinates\n",
      "Rows : 57, columns : 8, Unique values on cols: {'ID': 57}\n",
      "Rows : 14, columns : 7, Unique values on cols: {'ID': 14}\n",
      "Dataset rows: 69\n",
      "df1 :  --> Coordinates\n",
      "df2 :  --> Coordinates\n",
      "Rows : 23, columns : 8, Unique values on cols: {'ID': 23}\n",
      "Rows : 8, columns : 6, Unique values on cols: {'ID': 8}\n",
      "Dataset rows: 78\n",
      "df1 :  --> Coordinates\n",
      "df2 :  --> Coordinates\n",
      "Rows : 510, columns : 20, Unique values on cols: {'ID': 508}\n",
      "Rows : 25, columns : 17, Unique values on cols: {'ID': 25}\n",
      "Conflict values present. Please resolve this manually !\n",
      "all conflicts have been fixed!\n",
      "Dataset rows: 596\n",
      "df1 :  --> Coordinates\n",
      "df2 :  --> Coordinates\n",
      "Rows : 27, columns : 19, Unique values on cols: {'ID': 27}\n",
      "Rows : 78, columns : 9, Unique values on cols: {'ID': 77}\n",
      "Conflict values present. Please resolve this manually !\n",
      "all conflicts have been fixed!\n",
      "Dataset rows: 668\n",
      "14 NaN lines dropped\n",
      "df1 :  --> No coordinates\n",
      "df2 :  --> No coordinates\n",
      "Rows : 58, columns : 5, Unique values on cols: {'ID': 58}\n",
      "Rows : 10, columns : 5, Unique values on cols: {'ID': 6}\n"
     ]
    },
    {
     "name": "stderr",
     "output_type": "stream",
     "text": [
      "/home/yanathan/.local/share/virtualenvs/GSDMA-DRfwm83x/lib/python3.8/site-packages/pandas/core/frame.py:4906: SettingWithCopyWarning: \n",
      "A value is trying to be set on a copy of a slice from a DataFrame\n",
      "\n",
      "See the caveats in the documentation: https://pandas.pydata.org/pandas-docs/stable/user_guide/indexing.html#returning-a-view-versus-a-copy\n",
      "  return super().drop(\n"
     ]
    },
    {
     "name": "stdout",
     "output_type": "stream",
     "text": [
      "Conflict values present. Please resolve this manually !\n",
      "all conflicts have been fixed!\n",
      "Dataset rows: 692\n",
      "22 NaN lines dropped\n",
      "df1 :  --> No coordinates\n",
      "22 NaN lines dropped\n",
      "df2 :  --> No coordinates\n",
      "Rows : 0, columns : 4, Unique values on cols: {'ID': 0}\n",
      "Rows : 0, columns : 4, Unique values on cols: {'ID': 0}\n",
      "Dataset rows: 692\n",
      "df1 :  --> No coordinates\n",
      "19 NaN lines dropped\n",
      "df2 :  --> No coordinates\n",
      "Rows : 27, columns : 6, Unique values on cols: {'ID': 27}\n",
      "Rows : 0, columns : 4, Unique values on cols: {'ID': 0}\n",
      "Conflict values present. Please resolve this manually !\n",
      "all conflicts have been fixed!\n",
      "Dataset rows: 695\n",
      "df1 :  --> Coordinates\n",
      "Rows : 78, columns : 5, Unique values on cols: {'ID': 78}\n",
      "Conflict values present. Please resolve this manually !\n",
      "all conflicts have been fixed!\n",
      "Dataset rows: 757\n",
      "Rows : 757, columns : 28, Unique values on cols: {'ID': 736, 'ID_ech': 'NA'}\n"
     ]
    },
    {
     "data": {
      "application/vnd.jupyter.widget-view+json": {
       "model_id": "6a4995c977174ddf876a34930c1fa798",
       "version_major": 2,
       "version_minor": 0
      },
      "text/plain": [
       "interactive(children=(IntSlider(value=3, description='rows', max=757, min=3, readout=False), IntSlider(value=1…"
      ]
     },
     "metadata": {},
     "output_type": "display_data"
    },
    {
     "name": "stdout",
     "output_type": "stream",
     "text": [
      "4 files\n",
      "Same files:[]\n",
      "Files with coordinates:[0, 2, 3]\n",
      "Files without coordinates:[1]\n",
      "df1 :  --> Coordinates\n",
      "df2 :  --> Coordinates\n",
      "Rows : 1627, columns : 9, Unique values on cols: {'ID': 298}\n",
      "Rows : 55, columns : 9, Unique values on cols: {'ID': 25}\n",
      "Dataset rows: 1682\n",
      "df1 :  --> No coordinates\n",
      "df2 :  --> Coordinates\n",
      "Rows : 93, columns : 9, Unique values on cols: {'ID': 25}\n",
      "Rows : 112, columns : 9, Unique values on cols: {'ID': 71}\n",
      "Dataset rows: 1887\n",
      "Rows : 1887, columns : 12, Unique values on cols: {'ID': 418, 'ID_ech': 'NA'}\n"
     ]
    },
    {
     "data": {
      "application/vnd.jupyter.widget-view+json": {
       "model_id": "a5e460654d394a5187d1b7bf986e014f",
       "version_major": 2,
       "version_minor": 0
      },
      "text/plain": [
       "interactive(children=(IntSlider(value=3, description='rows', max=1887, min=3, readout=False), IntSlider(value=…"
      ]
     },
     "metadata": {},
     "output_type": "display_data"
    },
    {
     "name": "stdout",
     "output_type": "stream",
     "text": [
      "13 files\n",
      "Same files:[]\n",
      "Files with coordinates:[1, 2, 3, 4, 8, 10, 12]\n",
      "Files without coordinates:[0, 5, 6, 7, 9, 11]\n",
      "df1 :  --> Coordinates\n",
      "df2 :  --> Coordinates\n",
      "Rows : 105, columns : 91, Unique values on cols: {'ID': 60}\n",
      "Rows : 254, columns : 6, Unique values on cols: {'ID': 245}\n",
      "Dataset rows: 358\n",
      "df1 :  --> Coordinates\n",
      "df2 :  --> Coordinates\n",
      "Rows : 46, columns : 84, Unique values on cols: {'ID': 29}\n",
      "Rows : 36, columns : 83, Unique values on cols: {'ID': 23}\n",
      "0 Date_ech\n",
      "0 ID_ech\n",
      "0 ID\n",
      "1 Date_ech\n",
      "1 ID_ech\n",
      "1 ID\n",
      "Conflict values present. Please resolve this manually !\n",
      "all conflicts have been fixed!\n",
      "Dataset rows: 405\n",
      "df1 :  --> Coordinates\n",
      "2 NaN lines dropped\n",
      "df2 :  --> Coordinates\n",
      "Rows : 1585, columns : 197, Unique values on cols: {'ID': 462}\n",
      "Rows : 39, columns : 9, Unique values on cols: {'ID': 25}\n",
      "0 Date_ech\n",
      "0 Date_for\n",
      "0 ID\n",
      "0 ID_ech\n",
      "1 Date_for\n",
      "1 ID\n",
      "1 ID_ech\n"
     ]
    },
    {
     "name": "stderr",
     "output_type": "stream",
     "text": [
      "/home/yanathan/.local/share/virtualenvs/GSDMA-DRfwm83x/lib/python3.8/site-packages/pandas/core/frame.py:4906: SettingWithCopyWarning: \n",
      "A value is trying to be set on a copy of a slice from a DataFrame\n",
      "\n",
      "See the caveats in the documentation: https://pandas.pydata.org/pandas-docs/stable/user_guide/indexing.html#returning-a-view-versus-a-copy\n",
      "  return super().drop(\n"
     ]
    },
    {
     "name": "stdout",
     "output_type": "stream",
     "text": [
      "Conflict values present. Please resolve this manually !\n",
      "all conflicts have been fixed!\n",
      "Dataset rows: 1978\n",
      "1 NaN lines dropped\n",
      "df1 :  --> No coordinates\n",
      "df2 :  --> Coordinates\n",
      "Rows : 5, columns : 82, Unique values on cols: {'ID': 'NA'}\n",
      "Rows : 45, columns : 76, Unique values on cols: {'ID': 29}\n",
      "0 Date_ech\n",
      "0 ID_ech\n",
      "1 Date_ech\n",
      "1 ID_ech\n",
      "1 ID\n",
      "Dataset rows: 2028\n",
      "1 NaN lines dropped\n",
      "df1 :  --> No coordinates\n",
      "df2 :  --> No coordinates\n",
      "Rows : 43, columns : 97, Unique values on cols: {'ID': 6}\n",
      "Rows : 95, columns : 97, Unique values on cols: {'ID': 12}\n",
      "0 Date_ech\n",
      "0 ID_ech\n",
      "0 ID\n",
      "1 Date_ech\n",
      "1 ID_ech\n",
      "1 ID\n",
      "Conflict values present. Please resolve this manually !\n",
      "all conflicts have been fixed!\n",
      "Dataset rows: 2165\n",
      "2 NaN lines dropped\n",
      "df1 :  --> No coordinates\n",
      "df2 :  --> No coordinates\n",
      "Rows : 58, columns : 82, Unique values on cols: {'ID': 22}\n",
      "Rows : 70, columns : 9, Unique values on cols: {'ID': 22}\n",
      "0 Date_ech\n",
      "0 ID_ech\n",
      "0 ID\n",
      "1 ID\n",
      "1 ID_ech\n"
     ]
    },
    {
     "name": "stderr",
     "output_type": "stream",
     "text": [
      "/home/yanathan/.local/share/virtualenvs/GSDMA-DRfwm83x/lib/python3.8/site-packages/IPython/core/interactiveshell.py:3444: PerformanceWarning: DataFrame is highly fragmented.  This is usually the result of calling `frame.insert` many times, which has poor performance.  Consider joining all columns at once using pd.concat(axis=1) instead.  To get a de-fragmented frame, use `newframe = frame.copy()`\n",
      "  exec(code_obj, self.user_global_ns, self.user_ns)\n"
     ]
    },
    {
     "name": "stdout",
     "output_type": "stream",
     "text": [
      "Dataset rows: 2293\n",
      "df1 :  --> No coordinates\n",
      "Rows : 53, columns : 85, Unique values on cols: {'ID': 19}\n",
      "0 Date_ech\n",
      "0 ID_ech\n",
      "0 ID\n",
      "Dataset rows: 2307\n",
      "Rows : 2307, columns : 219, Unique values on cols: {'ID': 795, 'ID_ech': 1878}\n"
     ]
    },
    {
     "data": {
      "application/vnd.jupyter.widget-view+json": {
       "model_id": "da9a120f75854beb80ee03c8e153dcd8",
       "version_major": 2,
       "version_minor": 0
      },
      "text/plain": [
       "interactive(children=(IntSlider(value=3, description='rows', max=2307, min=3, readout=False), IntSlider(value=…"
      ]
     },
     "metadata": {},
     "output_type": "display_data"
    },
    {
     "name": "stdout",
     "output_type": "stream",
     "text": [
      "1 files\n",
      "df1 :  --> Coordinates\n",
      "Rows : 32, columns : 12, Unique values on cols: {'ID': 32}\n",
      "Dataset rows: 32\n",
      "Rows : 32, columns : 11, Unique values on cols: {'ID': 32, 'ID_ech': 'NA'}\n"
     ]
    },
    {
     "data": {
      "application/vnd.jupyter.widget-view+json": {
       "model_id": "c53aa351615046a196944e242148da11",
       "version_major": 2,
       "version_minor": 0
      },
      "text/plain": [
       "interactive(children=(IntSlider(value=3, description='rows', max=32, min=3, readout=False), IntSlider(value=11…"
      ]
     },
     "metadata": {},
     "output_type": "display_data"
    },
    {
     "name": "stdout",
     "output_type": "stream",
     "text": [
      "5 files\n",
      "Same files:[]\n",
      "Files with coordinates:[0, 1, 2, 4]\n",
      "Files without coordinates:[3]\n",
      "df1 :  --> Coordinates\n",
      "df2 :  --> Coordinates\n",
      "Rows : 45, columns : 7, Unique values on cols: {'ID': 30}\n",
      "Rows : 17, columns : 7, Unique values on cols: {'ID': 14}\n",
      "Dataset rows: 60\n",
      "df1 :  --> Coordinates\n",
      "df2 :  --> Coordinates\n",
      "Rows : 36, columns : 8, Unique values on cols: {'ID': 12}\n",
      "Rows : 17, columns : 7, Unique values on cols: {'ID': 14}\n",
      "0 Date_for\n",
      "0 ID\n",
      "1 ID\n",
      "Dataset rows: 102\n",
      "df1 :  --> No coordinates\n",
      "Rows : 33, columns : 8, Unique values on cols: {'ID': 9}\n",
      "Dataset rows: 135\n",
      "Rows : 135, columns : 14, Unique values on cols: {'ID': 63}\n"
     ]
    },
    {
     "data": {
      "application/vnd.jupyter.widget-view+json": {
       "model_id": "951f627a90c649f89b3dbed732d28a0f",
       "version_major": 2,
       "version_minor": 0
      },
      "text/plain": [
       "interactive(children=(IntSlider(value=3, description='rows', max=135, min=3, readout=False), IntSlider(value=1…"
      ]
     },
     "metadata": {},
     "output_type": "display_data"
    },
    {
     "name": "stdout",
     "output_type": "stream",
     "text": [
      "13 files\n",
      "Same files:[]\n",
      "Files with coordinates:[1, 2, 3, 7, 10, 12]\n",
      "Files without coordinates:[0, 4, 5, 6, 8, 9, 11]\n",
      "df1 :  --> Coordinates\n",
      "df2 :  --> Coordinates\n",
      "Rows : 45, columns : 11, Unique values on cols: {'ID': 30}\n",
      "Rows : 17, columns : 10, Unique values on cols: {'ID': 14}\n",
      "0 Date_mes\n",
      "0 ID_ech\n",
      "0 ID\n",
      "1 Date_mes\n",
      "1 ID_ech\n",
      "1 ID\n",
      "Dataset rows: 60\n",
      "df1 :  --> Coordinates\n",
      "df2 :  --> Coordinates\n",
      "Rows : 11, columns : 10, Unique values on cols: {'ID': 11}\n",
      "Rows : 1738, columns : 33, Unique values on cols: {'ID': 462}\n",
      "0 Date_mes\n",
      "0 ID_ech\n",
      "0 ID\n",
      "1 Date_mes\n",
      "1 Date_for\n",
      "1 ID\n",
      "1 Residu_perte_feu\n",
      "1 ID_ech\n",
      "74 Nan found in 'ID_ech' and fixed\n",
      "Dataset rows: 1798\n",
      "df1 :  --> Coordinates\n",
      "df2 :  --> Coordinates\n",
      "Rows : 42, columns : 12, Unique values on cols: {'ID': 30}\n",
      "Rows : 1738, columns : 33, Unique values on cols: {'ID': 462}\n",
      "0 Date_mes\n",
      "0 ID\n",
      "1 Date_mes\n",
      "1 Date_for\n",
      "1 ID\n",
      "1 Residu_perte_feu\n",
      "1 ID_ech\n",
      "116 Nan found in 'ID_ech' and fixed\n",
      "Conflict values present. Please resolve this manually !\n",
      "all conflicts have been fixed!\n",
      "Dataset rows: 1998\n",
      "df1 :  --> No coordinates\n",
      "1 NaN lines dropped\n",
      "df2 :  --> No coordinates\n",
      "Rows : 5, columns : 14, Unique values on cols: {'ID': 'NA'}\n",
      "Rows : 43, columns : 12, Unique values on cols: {'ID': 6}\n",
      "0 Date_mes\n",
      "0 Residu_perte_feu\n",
      "0 ID_ech\n",
      "1 Date_mes\n",
      "1 ID_ech\n",
      "1 ID\n"
     ]
    },
    {
     "name": "stderr",
     "output_type": "stream",
     "text": [
      "/home/yanathan/.local/share/virtualenvs/GSDMA-DRfwm83x/lib/python3.8/site-packages/pandas/core/frame.py:4906: SettingWithCopyWarning: \n",
      "A value is trying to be set on a copy of a slice from a DataFrame\n",
      "\n",
      "See the caveats in the documentation: https://pandas.pydata.org/pandas-docs/stable/user_guide/indexing.html#returning-a-view-versus-a-copy\n",
      "  return super().drop(\n"
     ]
    },
    {
     "name": "stdout",
     "output_type": "stream",
     "text": [
      "Dataset rows: 2046\n",
      "df1 :  --> No coordinates\n",
      "1 NaN lines dropped\n",
      "df2 :  --> No coordinates\n",
      "Rows : 135, columns : 11, Unique values on cols: {'ID': 18}\n",
      "Rows : 58, columns : 13, Unique values on cols: {'ID': 22}\n",
      "0 Date_mes\n",
      "0 ID_ech\n",
      "0 ID\n",
      "1 Date_mes\n",
      "1 ID_ech\n",
      "1 ID\n",
      "40 Nan found in 'ID_ech' and fixed\n",
      "Dataset rows: 2239\n",
      "3 NaN lines dropped\n",
      "df1 :  --> No coordinates\n",
      "df2 :  --> No coordinates\n",
      "Rows : 0, columns : 4, Unique values on cols: {'ID': 0}\n",
      "Rows : 27, columns : 10, Unique values on cols: {'ID': 27}\n",
      "0 Date_mes\n",
      "0 ID\n",
      "1 Date_mes\n",
      "1 ID\n",
      "Dataset rows: 2266\n",
      "df1 :  --> No coordinates\n",
      "Rows : 53, columns : 13, Unique values on cols: {'ID': 19}\n",
      "0 Date_mes\n",
      "0 ID_ech\n",
      "0 ID\n",
      "Dataset rows: 2280\n",
      "Rows : 2280, columns : 44, Unique values on cols: {'ID': 558, 'ID_ech': 1730}\n"
     ]
    },
    {
     "data": {
      "application/vnd.jupyter.widget-view+json": {
       "model_id": "58163c2a66ae419c9f7797137b761f4e",
       "version_major": 2,
       "version_minor": 0
      },
      "text/plain": [
       "interactive(children=(IntSlider(value=3, description='rows', max=2280, min=3, readout=False), IntSlider(value=…"
      ]
     },
     "metadata": {},
     "output_type": "display_data"
    },
    {
     "name": "stdout",
     "output_type": "stream",
     "text": [
      "Conflict values present. Please resolve this manually !\n",
      "all conflicts have been fixed!\n",
      "Conflict values present. Please resolve this manually !\n",
      "all conflicts have been fixed!\n"
     ]
    }
   ],
   "source": [
    "%run final_data_merging.ipynb"
   ]
  },
  {
   "cell_type": "code",
   "execution_count": 12,
   "id": "d6d52c04",
   "metadata": {},
   "outputs": [
    {
     "name": "stdout",
     "output_type": "stream",
     "text": [
      "Operation complete !\n"
     ]
    }
   ],
   "source": [
    "print('Operation complete !')"
   ]
  },
  {
   "cell_type": "code",
   "execution_count": null,
   "id": "61556456",
   "metadata": {},
   "outputs": [],
   "source": []
  }
 ],
 "metadata": {
  "kernelspec": {
   "display_name": "Python 3 (ipykernel)",
   "language": "python",
   "name": "python3"
  },
  "language_info": {
   "codemirror_mode": {
    "name": "ipython",
    "version": 3
   },
   "file_extension": ".py",
   "mimetype": "text/x-python",
   "name": "python",
   "nbconvert_exporter": "python",
   "pygments_lexer": "ipython3",
   "version": "3.8.10"
  }
 },
 "nbformat": 4,
 "nbformat_minor": 5
}
