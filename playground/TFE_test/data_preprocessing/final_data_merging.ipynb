{
 "cells": [
  {
   "cell_type": "markdown",
   "id": "finite-killing",
   "metadata": {},
   "source": [
    "# FUSION FINALE DES JEUX DE DONNEES"
   ]
  },
  {
   "cell_type": "code",
   "execution_count": 1,
   "id": "educational-barrier",
   "metadata": {},
   "outputs": [],
   "source": [
    "from utils.io import dataframe_viewer, files_search, data_merger, data_validation, data_overview, \\\n",
    "gen_id_from_ech, na_line_drop\n",
    "\n",
    "import re, os\n",
    "import pandas as pd\n",
    "from definitions import ROOT_DIR"
   ]
  },
  {
   "cell_type": "code",
   "execution_count": 2,
   "id": "representative-bunny",
   "metadata": {},
   "outputs": [],
   "source": [
    "def create_df(files, check_position=True, verbose=True): # find another name for this function\n",
    "    \"\"\"\n",
    "    create dataframes from files and test if they contain position informations\n",
    "    files: list of files name\n",
    "    \"\"\"\n",
    "    dfs = []\n",
    "    i = 0\n",
    "    for f in files:\n",
    "        i += 1\n",
    "        df = pd.read_csv(f, delimiter=',')\n",
    "        if check_position:\n",
    "            if 'X' in df.columns:\n",
    "                df['X'] = df['X'].apply(lambda x: x.replace(',','.') if isinstance(x, str) else x)\n",
    "                df['X'] = df['X'].astype('float64')\n",
    "            if 'Y' in df.columns:\n",
    "                df['Y'] = df['Y'].apply(lambda x: x.replace(',','.') if isinstance(x, str) else x)\n",
    "                df['Y'] = df['Y'].astype('float64')\n",
    "            if 'Z' in df.columns:\n",
    "                df['Z'] = df['Z'].apply(lambda x: x.replace(',','.') if isinstance(x, str) else x)\n",
    "                df['Z'] = df['Z'].astype('float64')\n",
    "        \n",
    "        df = na_line_drop(df, line_non_na=1)\n",
    "        dfs.append(df)\n",
    "        \n",
    "        if verbose:\n",
    "            if 'X' in list(df.columns): msg = ' --> Coordinates'\n",
    "            else: msg = ' --> No coordinates'\n",
    "\n",
    "            print(f\"df{i} : {msg}\")\n",
    "    \n",
    "            \n",
    "    return dfs"
   ]
  },
  {
   "cell_type": "code",
   "execution_count": 3,
   "id": "vanilla-bones",
   "metadata": {},
   "outputs": [],
   "source": [
    "csv_data_dir = ROOT_DIR + '/CF_data/Result_traitem/organisation/'\n",
    "save_dir = csv_data_dir + '../fusion_finale/'"
   ]
  },
  {
   "cell_type": "code",
   "execution_count": 4,
   "id": "bc3a5bdb",
   "metadata": {},
   "outputs": [
    {
     "data": {
      "text/plain": [
       "0"
      ]
     },
     "execution_count": 4,
     "metadata": {},
     "output_type": "execute_result"
    }
   ],
   "source": [
    "os.system(f\"rm -rf {save_dir}\") \n",
    "os.system(f\"mkdir {save_dir}\") "
   ]
  },
  {
   "cell_type": "code",
   "execution_count": 5,
   "id": "a4574f12",
   "metadata": {},
   "outputs": [],
   "source": [
    "sufx = ['sup', 'prof', 'inf', '/\\dM(\\*)?']\n",
    "prefx = ['eau forage ']\n",
    "id_reg = '\\s*(?P<id>(?:^canne |Piezair )*\\w*\\d+\\w*)\\s*'"
   ]
  },
  {
   "cell_type": "markdown",
   "id": "enhanced-noise",
   "metadata": {},
   "source": [
    "# Collecte des fichiers"
   ]
  },
  {
   "cell_type": "code",
   "execution_count": 6,
   "id": "confused-pleasure",
   "metadata": {},
   "outputs": [],
   "source": [
    "# create my dictionary structure to retrieve good files (Keynames !!!)\n",
    "files_dict={'Borehole':0,'Litho':0,'Equipm':0,'Measure':0,'Sample':0,'Unknow':0}\n",
    "data_dict={'Borehole':0,'Litho':0,'Equipm':0,'Measure':0,'Sample':0,'Unknow':0}"
   ]
  },
  {
   "cell_type": "code",
   "execution_count": 7,
   "id": "compliant-sensitivity",
   "metadata": {
    "scrolled": true
   },
   "outputs": [
    {
     "name": "stdout",
     "output_type": "stream",
     "text": [
      "Borehole  \t:  15\n",
      "Litho  \t:  4\n",
      "Equipm  \t:  5\n",
      "Measure  \t:  13\n",
      "Sample  \t:  13\n",
      "Unknow  \t:  1\n"
     ]
    }
   ],
   "source": [
    "files_search(csv_data_dir, files_dict, prefix='source', details=False)"
   ]
  },
  {
   "cell_type": "code",
   "execution_count": 8,
   "id": "possible-bones",
   "metadata": {},
   "outputs": [],
   "source": [
    "how=['inner', 'outer', 'left', 'right']\n",
    "view = False"
   ]
  },
  {
   "cell_type": "markdown",
   "id": "04d22ec7",
   "metadata": {},
   "source": [
    "## Forages"
   ]
  },
  {
   "cell_type": "code",
   "execution_count": 9,
   "id": "81b1328e",
   "metadata": {},
   "outputs": [
    {
     "name": "stdout",
     "output_type": "stream",
     "text": [
      "15 files\n"
     ]
    }
   ],
   "source": [
    "key='Borehole'\n",
    "dataset = pd.DataFrame()\n",
    "print(len(files_dict[key]), 'files')"
   ]
  },
  {
   "cell_type": "code",
   "execution_count": 10,
   "id": "66512dac",
   "metadata": {
    "scrolled": true
   },
   "outputs": [
    {
     "data": {
      "text/plain": [
       "['/home/yanathan/Projects/GSDMA/CF_data/Result_traitem/organisation/Forage_Pilote/source_merge/source_Boreholes.csv',\n",
       " '/home/yanathan/Projects/GSDMA/CF_data/Result_traitem/organisation/Memoris_seafile/source_merge/source_Boreholes.csv',\n",
       " '/home/yanathan/Projects/GSDMA/CF_data/Result_traitem/organisation/Phase_1_Memoris/source_merge/source_Boreholes.csv',\n",
       " '/home/yanathan/Projects/GSDMA/CF_data/Result_traitem/organisation/Phase_2_Memoris/source_merge/source_Boreholes.csv',\n",
       " '/home/yanathan/Projects/GSDMA/CF_data/Result_traitem/organisation/Prof_contact_sol_forage/source_merge/source_Boreholes.csv',\n",
       " '/home/yanathan/Projects/GSDMA/CF_data/Result_traitem/organisation/Siterem_Ext_Pilote/source_merge/source_Boreholes.csv',\n",
       " '/home/yanathan/Projects/GSDMA/CF_data/Result_traitem/organisation/Siterem_Pilote/source_merge/source_Boreholes.csv',\n",
       " '/home/yanathan/Projects/GSDMA/CF_data/Result_traitem/organisation/Siterem_Result_Sol/source_merge/source_Boreholes.csv',\n",
       " '/home/yanathan/Projects/GSDMA/CF_data/Result_traitem/organisation/coord_ext_pilote/source_merge/source_Boreholes.csv',\n",
       " '/home/yanathan/Projects/GSDMA/CF_data/Result_traitem/organisation/database_Memoris3/source_merge/source_Boreholes.csv',\n",
       " '/home/yanathan/Projects/GSDMA/CF_data/Result_traitem/organisation/donnees_terrain_2019/source_merge/source_Boreholes.csv',\n",
       " '/home/yanathan/Projects/GSDMA/CF_data/Result_traitem/organisation/observ_terrain/source_merge/source_Boreholes.csv',\n",
       " '/home/yanathan/Projects/GSDMA/CF_data/Result_traitem/organisation/profils_sols_donnees_forages/source_merge/source_Boreholes.csv',\n",
       " '/home/yanathan/Projects/GSDMA/CF_data/Result_traitem/organisation/result_sol_ext_pilote/source_merge/source_Boreholes.csv',\n",
       " '/home/yanathan/Projects/GSDMA/CF_data/Result_traitem/organisation/vUmons_logsFor/source_merge/source_Boreholes.csv']"
      ]
     },
     "execution_count": 10,
     "metadata": {},
     "output_type": "execute_result"
    }
   ],
   "source": [
    "files_dict[key]"
   ]
  },
  {
   "cell_type": "code",
   "execution_count": 11,
   "id": "ae33248c",
   "metadata": {},
   "outputs": [
    {
     "name": "stdout",
     "output_type": "stream",
     "text": [
      "Same files:[]\n",
      "Files with coordinates:[1, 2, 3, 4, 8, 9, 10, 12, 14]\n",
      "Files without coordinates:[0, 5, 6, 7, 11, 13]\n"
     ]
    }
   ],
   "source": [
    "data_overview(files_dict[key])"
   ]
  },
  {
   "cell_type": "markdown",
   "id": "f7c7a868",
   "metadata": {},
   "source": [
    "#### $\\color{green}{\\textbf{Lecture et fusion}}$"
   ]
  },
  {
   "cell_type": "code",
   "execution_count": 12,
   "id": "d17a9105",
   "metadata": {
    "scrolled": false
   },
   "outputs": [
    {
     "name": "stdout",
     "output_type": "stream",
     "text": [
      "df1 :  --> Coordinates\n",
      "df2 :  --> Coordinates\n",
      "Rows : 57, columns : 8, Unique values on cols: {'ID': 57}\n",
      "Rows : 14, columns : 7, Unique values on cols: {'ID': 14}\n"
     ]
    },
    {
     "data": {
      "text/plain": [
       "(None, None)"
      ]
     },
     "execution_count": 12,
     "metadata": {},
     "output_type": "execute_result"
    }
   ],
   "source": [
    "file1= csv_data_dir + 'Memoris_seafile/source_merge/source_Boreholes.csv' # 1\n",
    "file2= csv_data_dir + 'Phase_1_Memoris/source_merge/source_Boreholes.csv' # 2\n",
    "\n",
    "df1, df2 = create_df([file1, file2])\n",
    "dataframe_viewer(df1, rows=3, un_val='ID', view=view), dataframe_viewer(df2, rows=3, un_val='ID', view=view)"
   ]
  },
  {
   "cell_type": "code",
   "execution_count": 13,
   "id": "abfb0026",
   "metadata": {
    "scrolled": true
   },
   "outputs": [],
   "source": [
    "mdf, conflict_df=data_merger(df1, df2, how='outer', on=['ID'], dist_max=1)"
   ]
  },
  {
   "cell_type": "code",
   "execution_count": 14,
   "id": "8d73ea53",
   "metadata": {},
   "outputs": [],
   "source": [
    "dataset = mdf.copy()"
   ]
  },
  {
   "cell_type": "code",
   "execution_count": 15,
   "id": "048bd93f",
   "metadata": {},
   "outputs": [
    {
     "name": "stdout",
     "output_type": "stream",
     "text": [
      "Dataset rows: 69\n"
     ]
    }
   ],
   "source": [
    "print(f'Dataset rows: {len(dataset)}')"
   ]
  },
  {
   "cell_type": "markdown",
   "id": "dd6a70a0",
   "metadata": {},
   "source": [
    "#### $\\color{green}{\\textbf{Lecture et fusion}}$"
   ]
  },
  {
   "cell_type": "code",
   "execution_count": 16,
   "id": "ede67f61",
   "metadata": {
    "scrolled": false
   },
   "outputs": [
    {
     "name": "stdout",
     "output_type": "stream",
     "text": [
      "df1 :  --> Coordinates\n",
      "df2 :  --> Coordinates\n",
      "Rows : 22, columns : 8, Unique values on cols: {'ID': 22}\n",
      "Rows : 8, columns : 6, Unique values on cols: {'ID': 8}\n"
     ]
    },
    {
     "data": {
      "text/plain": [
       "(None, None)"
      ]
     },
     "execution_count": 16,
     "metadata": {},
     "output_type": "execute_result"
    }
   ],
   "source": [
    "file1= csv_data_dir + 'Phase_2_Memoris/source_merge/source_Boreholes.csv' # 3\n",
    "file2= csv_data_dir + 'Prof_contact_sol_forage/source_merge/source_Boreholes.csv' # 4\n",
    "\n",
    "df1, df2 = create_df([file1, file2])\n",
    "dataframe_viewer(df1, rows=3, un_val='ID', view=view), dataframe_viewer(df2, rows=3, un_val='ID', view=view)"
   ]
  },
  {
   "cell_type": "code",
   "execution_count": 17,
   "id": "3a7dd6d0",
   "metadata": {
    "scrolled": true
   },
   "outputs": [],
   "source": [
    "mdf, conflict_df=data_merger(df1, df2, how='outer', on=['ID'], dist_max=1)"
   ]
  },
  {
   "cell_type": "code",
   "execution_count": 18,
   "id": "ce0bc414",
   "metadata": {},
   "outputs": [],
   "source": [
    "data = mdf\n",
    "dataset, conflict_df=data_merger(dataset, data, how='outer', on=['ID'], dist_max=1)"
   ]
  },
  {
   "cell_type": "code",
   "execution_count": 19,
   "id": "c12aa198",
   "metadata": {},
   "outputs": [
    {
     "name": "stdout",
     "output_type": "stream",
     "text": [
      "Dataset rows: 77\n"
     ]
    }
   ],
   "source": [
    "print(f'Dataset rows: {len(dataset)}')"
   ]
  },
  {
   "cell_type": "markdown",
   "id": "f3dceb39",
   "metadata": {},
   "source": [
    "#### $\\color{green}{\\textbf{Lecture et fusion}}$"
   ]
  },
  {
   "cell_type": "code",
   "execution_count": 20,
   "id": "6f29aa4f",
   "metadata": {
    "scrolled": false
   },
   "outputs": [
    {
     "name": "stdout",
     "output_type": "stream",
     "text": [
      "df1 :  --> Coordinates\n",
      "df2 :  --> Coordinates\n",
      "Rows : 520, columns : 20, Unique values on cols: {'ID': 518}\n",
      "Rows : 25, columns : 17, Unique values on cols: {'ID': 25}\n"
     ]
    },
    {
     "data": {
      "text/plain": [
       "(None, None)"
      ]
     },
     "execution_count": 20,
     "metadata": {},
     "output_type": "execute_result"
    }
   ],
   "source": [
    "file1= csv_data_dir + 'database_Memoris3/source_merge/source_Boreholes.csv' # 8\n",
    "file2= csv_data_dir + 'donnees_terrain_2019/source_merge/source_Boreholes.csv' # 9\n",
    "\n",
    "df1, df2 = create_df([file1, file2])\n",
    "dataframe_viewer(df1, rows=3, un_val='ID', view=view), dataframe_viewer(df2, rows=3, un_val='ID', view=view)"
   ]
  },
  {
   "cell_type": "code",
   "execution_count": 21,
   "id": "afffbf2b",
   "metadata": {
    "scrolled": true
   },
   "outputs": [],
   "source": [
    "mdf, conflict_df=data_merger(df1, df2, how='outer', on=['ID'], dist_max=1)"
   ]
  },
  {
   "cell_type": "code",
   "execution_count": 22,
   "id": "a26a136b",
   "metadata": {},
   "outputs": [
    {
     "name": "stdout",
     "output_type": "stream",
     "text": [
      "Conflict values present. Please resolve this manually !\n"
     ]
    }
   ],
   "source": [
    "data = mdf\n",
    "dataset, conflict_df=data_merger(dataset, data, how='outer', on=['ID'], dist_max=1)"
   ]
  },
  {
   "cell_type": "code",
   "execution_count": 23,
   "id": "f3471a09",
   "metadata": {},
   "outputs": [
    {
     "name": "stdout",
     "output_type": "stream",
     "text": [
      "all conflicts have been fixed!\n"
     ]
    }
   ],
   "source": [
    "data_validation(overall_data=dataset, conflict_data=conflict_df, index_col='index', pass_col='ID', \n",
    "                valid_dict={'Type_y':list(conflict_df.index), 'Long_for_y':list(conflict_df.index)})\n",
    "\n",
    "if 'level_0' in dataset.columns:\n",
    "    if 'index' in dataset.columns:\n",
    "        dataset.drop(columns='index', inplace=True)\n",
    "    dataset.rename(columns={'level_0':'index'}, inplace=True)"
   ]
  },
  {
   "cell_type": "code",
   "execution_count": 24,
   "id": "5bdf252b",
   "metadata": {},
   "outputs": [
    {
     "name": "stdout",
     "output_type": "stream",
     "text": [
      "Dataset rows: 605\n"
     ]
    }
   ],
   "source": [
    "print(f'Dataset rows: {len(dataset)}')"
   ]
  },
  {
   "cell_type": "markdown",
   "id": "39aff8ef",
   "metadata": {},
   "source": [
    "#### $\\color{green}{\\textbf{Lecture et fusion}}$"
   ]
  },
  {
   "cell_type": "code",
   "execution_count": 25,
   "id": "2ba0f518",
   "metadata": {
    "scrolled": false
   },
   "outputs": [
    {
     "name": "stdout",
     "output_type": "stream",
     "text": [
      "df1 :  --> Coordinates\n",
      "df2 :  --> Coordinates\n",
      "Rows : 27, columns : 19, Unique values on cols: {'ID': 27}\n",
      "Rows : 78, columns : 9, Unique values on cols: {'ID': 77}\n"
     ]
    },
    {
     "data": {
      "text/plain": [
       "(None, None)"
      ]
     },
     "execution_count": 25,
     "metadata": {},
     "output_type": "execute_result"
    }
   ],
   "source": [
    "file1= csv_data_dir + 'profils_sols_donnees_forages/source_merge/source_Boreholes.csv' # 11\n",
    "file2= csv_data_dir + 'vUmons_logsFor/source_merge/source_Boreholes.csv' # 13\n",
    "\n",
    "df1, df2 = create_df([file1, file2])\n",
    "dataframe_viewer(df1, rows=3, un_val='ID', view=view), dataframe_viewer(df2, rows=3, un_val='ID', view=view)"
   ]
  },
  {
   "cell_type": "code",
   "execution_count": 26,
   "id": "ca5df08d",
   "metadata": {
    "scrolled": true
   },
   "outputs": [],
   "source": [
    "mdf, conflict_df=data_merger(df1, df2, how='outer', on=['ID'], dist_max=1)"
   ]
  },
  {
   "cell_type": "code",
   "execution_count": 27,
   "id": "0314ef10",
   "metadata": {},
   "outputs": [
    {
     "name": "stdout",
     "output_type": "stream",
     "text": [
      "Conflict values present. Please resolve this manually !\n"
     ]
    }
   ],
   "source": [
    "data = mdf\n",
    "dataset, conflict_df=data_merger(dataset, data, how='outer', on=['ID'], dist_max=1)"
   ]
  },
  {
   "cell_type": "code",
   "execution_count": 28,
   "id": "619d8d82",
   "metadata": {},
   "outputs": [
    {
     "name": "stdout",
     "output_type": "stream",
     "text": [
      "all conflicts have been fixed!\n"
     ]
    }
   ],
   "source": [
    "data_validation(overall_data=dataset, conflict_data=conflict_df, index_col='index', pass_col='ID', \n",
    "                valid_dict={'Date_for_y':list(conflict_df.index), 'Type_y':list(conflict_df.index), \n",
    "                            'Long_for_y':list(conflict_df.index)})\n",
    "\n",
    "if 'level_0' in dataset.columns:\n",
    "    if 'index' in dataset.columns:\n",
    "        dataset.drop(columns='index', inplace=True)\n",
    "    dataset.rename(columns={'level_0':'index'}, inplace=True)"
   ]
  },
  {
   "cell_type": "code",
   "execution_count": 29,
   "id": "66451201",
   "metadata": {},
   "outputs": [
    {
     "name": "stdout",
     "output_type": "stream",
     "text": [
      "Dataset rows: 677\n"
     ]
    }
   ],
   "source": [
    "print(f'Dataset rows: {len(dataset)}')"
   ]
  },
  {
   "cell_type": "markdown",
   "id": "8e2b4376",
   "metadata": {},
   "source": [
    "#### $\\color{green}{\\textbf{Lecture et fusion}}$"
   ]
  },
  {
   "cell_type": "code",
   "execution_count": 30,
   "id": "4fbaa65c",
   "metadata": {
    "scrolled": false
   },
   "outputs": [
    {
     "name": "stdout",
     "output_type": "stream",
     "text": [
      "14 NaN lines dropped\n",
      "df1 :  --> No coordinates\n",
      "df2 :  --> No coordinates\n",
      "Rows : 58, columns : 5, Unique values on cols: {'ID': 58}\n",
      "Rows : 10, columns : 5, Unique values on cols: {'ID': 6}\n"
     ]
    },
    {
     "name": "stderr",
     "output_type": "stream",
     "text": [
      "/home/yanathan/.local/share/virtualenvs/GSDMA-DRfwm83x/lib/python3.8/site-packages/pandas/core/frame.py:4906: SettingWithCopyWarning: \n",
      "A value is trying to be set on a copy of a slice from a DataFrame\n",
      "\n",
      "See the caveats in the documentation: https://pandas.pydata.org/pandas-docs/stable/user_guide/indexing.html#returning-a-view-versus-a-copy\n",
      "  return super().drop(\n"
     ]
    },
    {
     "data": {
      "text/plain": [
       "(None, None)"
      ]
     },
     "execution_count": 30,
     "metadata": {},
     "output_type": "execute_result"
    }
   ],
   "source": [
    "file1= csv_data_dir + 'Forage_Pilote/source_merge/source_Boreholes.csv' # 0\n",
    "file2= csv_data_dir + 'Siterem_Ext_Pilote/source_merge/source_Boreholes.csv' # 5\n",
    "\n",
    "df1, df2 = create_df([file1, file2])\n",
    "dataframe_viewer(df1, rows=3, un_val='ID', view=view), dataframe_viewer(df2, rows=3, un_val='ID', view=view)"
   ]
  },
  {
   "cell_type": "code",
   "execution_count": 31,
   "id": "d52e8cbb",
   "metadata": {},
   "outputs": [],
   "source": [
    "df2['ID'] = df2['ID'].astype('object')"
   ]
  },
  {
   "cell_type": "code",
   "execution_count": 32,
   "id": "94ebe75b",
   "metadata": {
    "scrolled": true
   },
   "outputs": [],
   "source": [
    "mdf, conflict_df=data_merger(df1, df2, how='outer', on=['ID'], dist_max=1)"
   ]
  },
  {
   "cell_type": "code",
   "execution_count": 33,
   "id": "cc03af66",
   "metadata": {},
   "outputs": [
    {
     "name": "stdout",
     "output_type": "stream",
     "text": [
      "Conflict values present. Please resolve this manually !\n"
     ]
    }
   ],
   "source": [
    "data = mdf\n",
    "dataset, conflict_df=data_merger(dataset, data, how='outer', on=['ID'], dist_max=1)"
   ]
  },
  {
   "cell_type": "code",
   "execution_count": 34,
   "id": "a2ea8df5",
   "metadata": {},
   "outputs": [
    {
     "name": "stdout",
     "output_type": "stream",
     "text": [
      "all conflicts have been fixed!\n"
     ]
    }
   ],
   "source": [
    "data_validation(overall_data=dataset, conflict_data=conflict_df, index_col='index', pass_col='ID', \n",
    "                valid_dict={'Z_x':list(conflict_df.index), 'Type_x':list(conflict_df.index), \n",
    "                            'Long_for_x':list(conflict_df.index)})\n",
    "\n",
    "if 'level_0' in dataset.columns:\n",
    "    if 'index' in dataset.columns:\n",
    "        dataset.drop(columns='index', inplace=True)\n",
    "    dataset.rename(columns={'level_0':'index'}, inplace=True)"
   ]
  },
  {
   "cell_type": "code",
   "execution_count": 35,
   "id": "9ca6d82b",
   "metadata": {},
   "outputs": [
    {
     "name": "stdout",
     "output_type": "stream",
     "text": [
      "Dataset rows: 701\n"
     ]
    }
   ],
   "source": [
    "print(f'Dataset rows: {len(dataset)}')"
   ]
  },
  {
   "cell_type": "markdown",
   "id": "eeaea63c",
   "metadata": {},
   "source": [
    "#### $\\color{green}{\\textbf{Lecture et fusion}}$"
   ]
  },
  {
   "cell_type": "code",
   "execution_count": 36,
   "id": "0c83cd60",
   "metadata": {
    "scrolled": false
   },
   "outputs": [
    {
     "name": "stdout",
     "output_type": "stream",
     "text": [
      "22 NaN lines dropped\n",
      "df1 :  --> No coordinates\n",
      "23 NaN lines dropped\n",
      "df2 :  --> No coordinates\n",
      "Rows : 0, columns : 4, Unique values on cols: {'ID': 0}\n",
      "Rows : 0, columns : 4, Unique values on cols: {'ID': 0}\n"
     ]
    },
    {
     "data": {
      "text/plain": [
       "(None, None)"
      ]
     },
     "execution_count": 36,
     "metadata": {},
     "output_type": "execute_result"
    }
   ],
   "source": [
    "file1= csv_data_dir + 'Siterem_Pilote/source_merge/source_Boreholes.csv' # 6\n",
    "file2= csv_data_dir + 'Siterem_Result_Sol/source_merge/source_Boreholes.csv' # 7\n",
    "\n",
    "df1, df2 = create_df([file1, file2])\n",
    "dataframe_viewer(df1, rows=3, un_val='ID', view=view), dataframe_viewer(df2, rows=3, un_val='ID', view=view)"
   ]
  },
  {
   "cell_type": "code",
   "execution_count": 37,
   "id": "9e9630c8",
   "metadata": {
    "scrolled": true
   },
   "outputs": [],
   "source": [
    "mdf, conflict_df=data_merger(df1, df2, how='outer', on=['ID'], dist_max=1)"
   ]
  },
  {
   "cell_type": "code",
   "execution_count": 38,
   "id": "9a00cbca",
   "metadata": {},
   "outputs": [],
   "source": [
    "data = mdf\n",
    "dataset, conflict_df=data_merger(dataset, data, how='outer', on=['ID'], dist_max=1)"
   ]
  },
  {
   "cell_type": "code",
   "execution_count": 39,
   "id": "b0f3bb83",
   "metadata": {},
   "outputs": [
    {
     "name": "stdout",
     "output_type": "stream",
     "text": [
      "Dataset rows: 701\n"
     ]
    }
   ],
   "source": [
    "print(f'Dataset rows: {len(dataset)}')"
   ]
  },
  {
   "cell_type": "markdown",
   "id": "aac9cde7",
   "metadata": {},
   "source": [
    "#### $\\color{green}{\\textbf{Lecture et fusion}}$"
   ]
  },
  {
   "cell_type": "code",
   "execution_count": 40,
   "id": "e70dd0c2",
   "metadata": {
    "scrolled": false
   },
   "outputs": [
    {
     "name": "stdout",
     "output_type": "stream",
     "text": [
      "5 NaN lines dropped\n",
      "df1 :  --> No coordinates\n",
      "19 NaN lines dropped\n",
      "df2 :  --> No coordinates\n",
      "Rows : 22, columns : 6, Unique values on cols: {'ID': 22}\n",
      "Rows : 0, columns : 4, Unique values on cols: {'ID': 0}\n"
     ]
    },
    {
     "data": {
      "text/plain": [
       "(None, None)"
      ]
     },
     "execution_count": 40,
     "metadata": {},
     "output_type": "execute_result"
    }
   ],
   "source": [
    "file1= csv_data_dir + 'observ_terrain/source_merge/source_Boreholes.csv' # 10\n",
    "file2= csv_data_dir + 'result_sol_ext_pilote/source_merge/source_Boreholes.csv' # 12\n",
    "\n",
    "df1, df2 = create_df([file1, file2])\n",
    "dataframe_viewer(df1, rows=3, un_val='ID', view=view), dataframe_viewer(df2, rows=3, un_val='ID', view=view)"
   ]
  },
  {
   "cell_type": "code",
   "execution_count": 41,
   "id": "da626427",
   "metadata": {
    "scrolled": true
   },
   "outputs": [],
   "source": [
    "mdf, conflict_df=data_merger(df1, df2, how='outer', on=['ID'], dist_max=1)"
   ]
  },
  {
   "cell_type": "code",
   "execution_count": 42,
   "id": "c1413005",
   "metadata": {},
   "outputs": [
    {
     "name": "stdout",
     "output_type": "stream",
     "text": [
      "Conflict values present. Please resolve this manually !\n"
     ]
    }
   ],
   "source": [
    "data = mdf\n",
    "dataset, conflict_df=data_merger(dataset, data, how='outer', on=['ID'], dist_max=1)"
   ]
  },
  {
   "cell_type": "code",
   "execution_count": 43,
   "id": "b3dc438b",
   "metadata": {
    "scrolled": true
   },
   "outputs": [
    {
     "name": "stdout",
     "output_type": "stream",
     "text": [
      "all conflicts have been fixed!\n"
     ]
    }
   ],
   "source": [
    "data_validation(overall_data=dataset, conflict_data=conflict_df, index_col='index', pass_col='ID', \n",
    "                valid_dict={'Long_pz_sol_x':[18], 'Long_pz_sol_y':[i for i in conflict_df.index if i not in [18]], \n",
    "                            'Rmq_y':list(conflict_df.index), 'Type_x':list(conflict_df.index),})\n",
    "\n",
    "if 'level_0' in dataset.columns:\n",
    "    if 'index' in dataset.columns:\n",
    "        dataset.drop(columns='index', inplace=True)\n",
    "    dataset.rename(columns={'level_0':'index'}, inplace=True)"
   ]
  },
  {
   "cell_type": "code",
   "execution_count": 44,
   "id": "97642de7",
   "metadata": {},
   "outputs": [
    {
     "name": "stdout",
     "output_type": "stream",
     "text": [
      "Dataset rows: 701\n"
     ]
    }
   ],
   "source": [
    "print(f'Dataset rows: {len(dataset)}')"
   ]
  },
  {
   "cell_type": "markdown",
   "id": "bdf73ff8",
   "metadata": {},
   "source": [
    "#### $\\color{green}{\\textbf{Lecture et fusion}}$"
   ]
  },
  {
   "cell_type": "code",
   "execution_count": 45,
   "id": "9b663df0",
   "metadata": {
    "scrolled": false
   },
   "outputs": [
    {
     "name": "stdout",
     "output_type": "stream",
     "text": [
      "df1 :  --> Coordinates\n",
      "Rows : 78, columns : 5, Unique values on cols: {'ID': 78}\n"
     ]
    }
   ],
   "source": [
    "file1= csv_data_dir + 'coord_ext_pilote/source_merge/source_Boreholes.csv' # 10\n",
    "\n",
    "df1 = create_df([file1])[0]\n",
    "dataframe_viewer(df1, rows=3, un_val='ID', view=view)"
   ]
  },
  {
   "cell_type": "code",
   "execution_count": 46,
   "id": "7f1dc047",
   "metadata": {},
   "outputs": [
    {
     "name": "stdout",
     "output_type": "stream",
     "text": [
      "Conflict values present. Please resolve this manually !\n"
     ]
    }
   ],
   "source": [
    "data = df1\n",
    "dataset, conflict_df=data_merger(dataset, data, how='outer', on=['X','Y'], dist_max=1)"
   ]
  },
  {
   "cell_type": "code",
   "execution_count": 47,
   "id": "f0d8c588",
   "metadata": {},
   "outputs": [
    {
     "name": "stdout",
     "output_type": "stream",
     "text": [
      "all conflicts have been fixed!\n"
     ]
    }
   ],
   "source": [
    "data_validation(overall_data=dataset, conflict_data=conflict_df, index_col='index', pass_col='ID', \n",
    "                valid_dict={'ID_x':list(conflict_df.index)})\n",
    "\n",
    "if 'level_0' in dataset.columns:\n",
    "    if 'index' in dataset.columns:\n",
    "        dataset.drop(columns='index', inplace=True)\n",
    "    dataset.rename(columns={'level_0':'index'}, inplace=True)"
   ]
  },
  {
   "cell_type": "code",
   "execution_count": 48,
   "id": "9c0f2fc0",
   "metadata": {},
   "outputs": [
    {
     "name": "stdout",
     "output_type": "stream",
     "text": [
      "Dataset rows: 763\n"
     ]
    }
   ],
   "source": [
    "print(f'Dataset rows: {len(dataset)}')"
   ]
  },
  {
   "cell_type": "markdown",
   "id": "b0de75a1",
   "metadata": {},
   "source": [
    "####  $\\color{red}{\\textbf{Sauvegarde du jeu de données}}$"
   ]
  },
  {
   "cell_type": "code",
   "execution_count": 49,
   "id": "74eae990",
   "metadata": {},
   "outputs": [
    {
     "name": "stdout",
     "output_type": "stream",
     "text": [
      "Rows : 763, columns : 28, Unique values on cols: {'ID': 742, 'ID_ech': 'NA'}\n"
     ]
    },
    {
     "data": {
      "application/vnd.jupyter.widget-view+json": {
       "model_id": "c39bffe5262d427fbd62138bb829a5f9",
       "version_major": 2,
       "version_minor": 0
      },
      "text/plain": [
       "interactive(children=(IntSlider(value=3, description='rows', max=763, min=3, readout=False), IntSlider(value=1…"
      ]
     },
     "metadata": {},
     "output_type": "display_data"
    }
   ],
   "source": [
    "data_dict['Borehole'] = dataset.copy()\n",
    "dataframe_viewer(dataset, rows=3, un_val=['ID','ID_ech'])"
   ]
  },
  {
   "cell_type": "code",
   "execution_count": 50,
   "id": "8b22a4f8",
   "metadata": {},
   "outputs": [],
   "source": [
    "dataset.to_csv(save_dir + 'Boreholes.csv', index=False)"
   ]
  },
  {
   "cell_type": "markdown",
   "id": "3a52f19d",
   "metadata": {},
   "source": [
    "###  ===================================================="
   ]
  },
  {
   "cell_type": "markdown",
   "id": "579799cf",
   "metadata": {},
   "source": [
    "# Lithologies"
   ]
  },
  {
   "cell_type": "code",
   "execution_count": 51,
   "id": "772e3fb5",
   "metadata": {},
   "outputs": [
    {
     "name": "stdout",
     "output_type": "stream",
     "text": [
      "4 files\n"
     ]
    }
   ],
   "source": [
    "key='Litho'\n",
    "dataset = pd.DataFrame()\n",
    "print(len(files_dict[key]), 'files')"
   ]
  },
  {
   "cell_type": "code",
   "execution_count": 52,
   "id": "c9038f2c",
   "metadata": {
    "scrolled": true
   },
   "outputs": [
    {
     "data": {
      "text/plain": [
       "['/home/yanathan/Projects/GSDMA/CF_data/Result_traitem/organisation/database_Memoris3/source_merge/source_Lithologies.csv',\n",
       " '/home/yanathan/Projects/GSDMA/CF_data/Result_traitem/organisation/donnees_terrain_2019/source_merge/source_Lithologies.csv',\n",
       " '/home/yanathan/Projects/GSDMA/CF_data/Result_traitem/organisation/profils_sols_donnees_forages/source_merge/source_Lithologies.csv',\n",
       " '/home/yanathan/Projects/GSDMA/CF_data/Result_traitem/organisation/vUmons_logsFor/source_merge/source_Lithologies.csv']"
      ]
     },
     "execution_count": 52,
     "metadata": {},
     "output_type": "execute_result"
    }
   ],
   "source": [
    "files_dict[key]"
   ]
  },
  {
   "cell_type": "code",
   "execution_count": 53,
   "id": "eb241960",
   "metadata": {},
   "outputs": [
    {
     "name": "stdout",
     "output_type": "stream",
     "text": [
      "Same files:[]\n",
      "Files with coordinates:[0, 2, 3]\n",
      "Files without coordinates:[1]\n"
     ]
    }
   ],
   "source": [
    "data_overview(files_dict[key])"
   ]
  },
  {
   "cell_type": "markdown",
   "id": "63078412",
   "metadata": {},
   "source": [
    "#### $\\color{green}{\\textbf{Lecture et fusion}}$"
   ]
  },
  {
   "cell_type": "code",
   "execution_count": 54,
   "id": "ec9a63f1",
   "metadata": {
    "scrolled": false
   },
   "outputs": [
    {
     "name": "stdout",
     "output_type": "stream",
     "text": [
      "df1 :  --> Coordinates\n",
      "df2 :  --> Coordinates\n",
      "Rows : 1627, columns : 9, Unique values on cols: {'ID': 298}\n",
      "Rows : 55, columns : 9, Unique values on cols: {'ID': 25}\n"
     ]
    },
    {
     "data": {
      "text/plain": [
       "(None, None)"
      ]
     },
     "execution_count": 54,
     "metadata": {},
     "output_type": "execute_result"
    }
   ],
   "source": [
    "file1= csv_data_dir + 'database_Memoris3/source_merge/source_Lithologies.csv' # 0\n",
    "file2= csv_data_dir + 'profils_sols_donnees_forages/source_merge/source_Lithologies.csv' # 2\n",
    "\n",
    "df1, df2 = create_df([file1, file2])\n",
    "dataframe_viewer(df1, rows=3, un_val='ID', view=view), dataframe_viewer(df2, rows=3, un_val='ID', view=view)"
   ]
  },
  {
   "cell_type": "code",
   "execution_count": 55,
   "id": "66ed312a",
   "metadata": {
    "scrolled": true
   },
   "outputs": [],
   "source": [
    "mdf, conflict_df=data_merger(df1, df2, how='outer', on=['ID', 'Litho_top', 'Litho_base'], dist_max=1)"
   ]
  },
  {
   "cell_type": "code",
   "execution_count": 56,
   "id": "68412a9f",
   "metadata": {},
   "outputs": [],
   "source": [
    "dataset = mdf.copy()"
   ]
  },
  {
   "cell_type": "code",
   "execution_count": 57,
   "id": "8ea8b390",
   "metadata": {},
   "outputs": [
    {
     "name": "stdout",
     "output_type": "stream",
     "text": [
      "Dataset rows: 1682\n"
     ]
    }
   ],
   "source": [
    "print(f'Dataset rows: {len(dataset)}')"
   ]
  },
  {
   "cell_type": "markdown",
   "id": "a95fec0c",
   "metadata": {},
   "source": [
    "#### $\\color{green}{\\textbf{Lecture et fusion}}$"
   ]
  },
  {
   "cell_type": "code",
   "execution_count": 58,
   "id": "bae92cc3",
   "metadata": {
    "scrolled": false
   },
   "outputs": [
    {
     "name": "stdout",
     "output_type": "stream",
     "text": [
      "df1 :  --> No coordinates\n",
      "df2 :  --> Coordinates\n",
      "Rows : 93, columns : 9, Unique values on cols: {'ID': 25}\n",
      "Rows : 112, columns : 9, Unique values on cols: {'ID': 71}\n"
     ]
    },
    {
     "data": {
      "text/plain": [
       "(None, None)"
      ]
     },
     "execution_count": 58,
     "metadata": {},
     "output_type": "execute_result"
    }
   ],
   "source": [
    "file1= csv_data_dir + 'donnees_terrain_2019/source_merge/source_Lithologies.csv' # 1\n",
    "file2= csv_data_dir + 'vUmons_logsFor/source_merge/source_Lithologies.csv' # 3\n",
    "\n",
    "df1, df2 = create_df([file1, file2])\n",
    "dataframe_viewer(df1, rows=3, un_val='ID', view=view), dataframe_viewer(df2, rows=3, un_val='ID', view=view)"
   ]
  },
  {
   "cell_type": "code",
   "execution_count": 59,
   "id": "ec3d7111",
   "metadata": {
    "scrolled": true
   },
   "outputs": [],
   "source": [
    "mdf, conflict_df=data_merger(df1, df2, how='outer', on=['ID', 'Litho_top', 'Litho_base'], dist_max=1)"
   ]
  },
  {
   "cell_type": "code",
   "execution_count": 60,
   "id": "26741138",
   "metadata": {},
   "outputs": [],
   "source": [
    "data = mdf\n",
    "dataset, conflict_df=data_merger(dataset, data, how='outer', on=['ID', 'Litho_top', 'Litho_base'], dist_max=1)"
   ]
  },
  {
   "cell_type": "code",
   "execution_count": 61,
   "id": "abe49a06",
   "metadata": {},
   "outputs": [
    {
     "name": "stdout",
     "output_type": "stream",
     "text": [
      "Dataset rows: 1887\n"
     ]
    }
   ],
   "source": [
    "print(f'Dataset rows: {len(dataset)}')"
   ]
  },
  {
   "cell_type": "markdown",
   "id": "820aeda1",
   "metadata": {},
   "source": [
    "####  $\\color{red}{\\textbf{Sauvegarde du jeu de données}}$"
   ]
  },
  {
   "cell_type": "code",
   "execution_count": 62,
   "id": "7c1abf88",
   "metadata": {},
   "outputs": [
    {
     "name": "stdout",
     "output_type": "stream",
     "text": [
      "Rows : 1887, columns : 12, Unique values on cols: {'ID': 418, 'ID_ech': 'NA'}\n"
     ]
    },
    {
     "data": {
      "application/vnd.jupyter.widget-view+json": {
       "model_id": "90fc8ef06638440dac4cf421c4785b0d",
       "version_major": 2,
       "version_minor": 0
      },
      "text/plain": [
       "interactive(children=(IntSlider(value=3, description='rows', max=1887, min=3, readout=False), IntSlider(value=…"
      ]
     },
     "metadata": {},
     "output_type": "display_data"
    }
   ],
   "source": [
    "data_dict['Litho'] = dataset.copy()\n",
    "dataframe_viewer(dataset, rows=3, un_val=['ID','ID_ech'])"
   ]
  },
  {
   "cell_type": "code",
   "execution_count": 63,
   "id": "0f820536",
   "metadata": {},
   "outputs": [],
   "source": [
    "dataset.to_csv(save_dir + 'Lithologies.csv', index=False)"
   ]
  },
  {
   "cell_type": "markdown",
   "id": "84243cd9",
   "metadata": {},
   "source": [
    "###  ===================================================="
   ]
  },
  {
   "cell_type": "markdown",
   "id": "51a5c5f0",
   "metadata": {},
   "source": [
    "# Echantillons"
   ]
  },
  {
   "cell_type": "code",
   "execution_count": 64,
   "id": "31d7e364",
   "metadata": {},
   "outputs": [
    {
     "name": "stdout",
     "output_type": "stream",
     "text": [
      "13 files\n"
     ]
    }
   ],
   "source": [
    "key='Sample'\n",
    "dataset = pd.DataFrame()\n",
    "print(len(files_dict[key]), 'files')"
   ]
  },
  {
   "cell_type": "code",
   "execution_count": 65,
   "id": "a4323bd5",
   "metadata": {
    "scrolled": true
   },
   "outputs": [
    {
     "data": {
      "text/plain": [
       "['/home/yanathan/Projects/GSDMA/CF_data/Result_traitem/organisation/Container_phyto/source_merge/source_Samples.csv',\n",
       " '/home/yanathan/Projects/GSDMA/CF_data/Result_traitem/organisation/Liste_XY/source_merge/source_Samples.csv',\n",
       " '/home/yanathan/Projects/GSDMA/CF_data/Result_traitem/organisation/Memoris_seafile/source_merge/source_Samples.csv',\n",
       " '/home/yanathan/Projects/GSDMA/CF_data/Result_traitem/organisation/Phase_1_Memoris/source_merge/source_Samples.csv',\n",
       " '/home/yanathan/Projects/GSDMA/CF_data/Result_traitem/organisation/Phase_2_Memoris/source_merge/source_Samples.csv',\n",
       " '/home/yanathan/Projects/GSDMA/CF_data/Result_traitem/organisation/Siterem_Ext_Pilote/source_merge/source_Samples.csv',\n",
       " '/home/yanathan/Projects/GSDMA/CF_data/Result_traitem/organisation/Siterem_Pilote/source_merge/source_Samples.csv',\n",
       " '/home/yanathan/Projects/GSDMA/CF_data/Result_traitem/organisation/Siterem_Result_Sol/source_merge/source_Samples.csv',\n",
       " '/home/yanathan/Projects/GSDMA/CF_data/Result_traitem/organisation/database_Memoris3/source_merge/source_Samples.csv',\n",
       " '/home/yanathan/Projects/GSDMA/CF_data/Result_traitem/organisation/donnees_terrain_2019/source_merge/source_Samples.csv',\n",
       " '/home/yanathan/Projects/GSDMA/CF_data/Result_traitem/organisation/profils_sols_donnees_forages/source_merge/source_Samples.csv',\n",
       " '/home/yanathan/Projects/GSDMA/CF_data/Result_traitem/organisation/result_sol_ext_pilote/source_merge/source_Samples.csv',\n",
       " '/home/yanathan/Projects/GSDMA/CF_data/Result_traitem/organisation/vUmons_logsFor/source_merge/source_Samples.csv']"
      ]
     },
     "execution_count": 65,
     "metadata": {},
     "output_type": "execute_result"
    }
   ],
   "source": [
    "files_dict[key]"
   ]
  },
  {
   "cell_type": "code",
   "execution_count": 66,
   "id": "9cdbef12",
   "metadata": {},
   "outputs": [
    {
     "name": "stdout",
     "output_type": "stream",
     "text": [
      "Same files:[]\n",
      "Files with coordinates:[1, 2, 3, 4, 8, 10, 12]\n",
      "Files without coordinates:[0, 5, 6, 7, 9, 11]\n"
     ]
    }
   ],
   "source": [
    "data_overview(files_dict[key])"
   ]
  },
  {
   "cell_type": "markdown",
   "id": "46cd7db0",
   "metadata": {},
   "source": [
    "#### $\\color{green}{\\textbf{Lecture et fusion}}$"
   ]
  },
  {
   "cell_type": "code",
   "execution_count": 67,
   "id": "2be4e297",
   "metadata": {
    "scrolled": false
   },
   "outputs": [
    {
     "name": "stdout",
     "output_type": "stream",
     "text": [
      "df1 :  --> Coordinates\n",
      "df2 :  --> Coordinates\n",
      "Rows : 105, columns : 91, Unique values on cols: {'ID': 60}\n",
      "Rows : 254, columns : 6, Unique values on cols: {'ID': 254}\n"
     ]
    },
    {
     "data": {
      "text/plain": [
       "(None, None)"
      ]
     },
     "execution_count": 67,
     "metadata": {},
     "output_type": "execute_result"
    }
   ],
   "source": [
    "file1= csv_data_dir + 'Memoris_seafile/source_merge/source_Samples.csv' # 2\n",
    "file2= csv_data_dir + 'Liste_XY/source_merge/source_Samples.csv' # 1\n",
    "\n",
    "df1, df2 = create_df([file1, file2])\n",
    "dataframe_viewer(df1, rows=3, un_val='ID', view=view), dataframe_viewer(df2, rows=3, un_val='ID', view=view)"
   ]
  },
  {
   "cell_type": "code",
   "execution_count": 68,
   "id": "d96e0d66",
   "metadata": {
    "scrolled": true
   },
   "outputs": [],
   "source": [
    "mdf, conflict_df=data_merger(df1, df2, how='outer', on=['ID', 'ID_ech'], dist_max=1)"
   ]
  },
  {
   "cell_type": "code",
   "execution_count": 69,
   "id": "72835bb5",
   "metadata": {},
   "outputs": [],
   "source": [
    "dataset = mdf.copy()"
   ]
  },
  {
   "cell_type": "code",
   "execution_count": 70,
   "id": "b852b1c4",
   "metadata": {},
   "outputs": [
    {
     "name": "stdout",
     "output_type": "stream",
     "text": [
      "Dataset rows: 358\n"
     ]
    }
   ],
   "source": [
    "print(f'Dataset rows: {len(dataset)}')"
   ]
  },
  {
   "cell_type": "markdown",
   "id": "6fa4e1c7",
   "metadata": {},
   "source": [
    "#### $\\color{green}{\\textbf{Lecture et fusion}}$"
   ]
  },
  {
   "cell_type": "code",
   "execution_count": 71,
   "id": "6e2a94c3",
   "metadata": {
    "scrolled": false
   },
   "outputs": [
    {
     "name": "stdout",
     "output_type": "stream",
     "text": [
      "df1 :  --> Coordinates\n",
      "df2 :  --> Coordinates\n",
      "Rows : 46, columns : 84, Unique values on cols: {'ID': 29}\n",
      "Rows : 36, columns : 83, Unique values on cols: {'ID': 22}\n"
     ]
    },
    {
     "data": {
      "text/plain": [
       "(None, None)"
      ]
     },
     "execution_count": 71,
     "metadata": {},
     "output_type": "execute_result"
    }
   ],
   "source": [
    "file1= csv_data_dir +  'Phase_1_Memoris/source_merge/source_Samples.csv' # 3\n",
    "file2= csv_data_dir + 'Phase_2_Memoris/source_merge/source_Samples.csv' # 4\n",
    "\n",
    "df1, df2 = create_df([file1, file2])\n",
    "dataframe_viewer(df1, rows=3, un_val='ID', view=view), dataframe_viewer(df2, rows=3, un_val='ID', view=view)"
   ]
  },
  {
   "cell_type": "code",
   "execution_count": 72,
   "id": "de1e1833",
   "metadata": {},
   "outputs": [
    {
     "name": "stdout",
     "output_type": "stream",
     "text": [
      "0 Date_ech\n",
      "0 ID_ech\n",
      "0 ID\n",
      "1 Date_ech\n",
      "1 ID_ech\n",
      "1 ID\n"
     ]
    }
   ],
   "source": [
    "df_list = [df1, df2]\n",
    "look_for = ['Date', 'ID']\n",
    "for i, df in enumerate(df_list):\n",
    "    for l in look_for:\n",
    "        for c in df.columns:\n",
    "            if re.search(l, c, re.I): print(i, c)"
   ]
  },
  {
   "cell_type": "code",
   "execution_count": 73,
   "id": "e4bb1890",
   "metadata": {
    "scrolled": true
   },
   "outputs": [],
   "source": [
    "mdf, conflict_df=data_merger(df1, df2, how='outer', on=['ID', 'ID_ech', 'Date_ech'], dist_max=1)"
   ]
  },
  {
   "cell_type": "code",
   "execution_count": 74,
   "id": "147d0cc0",
   "metadata": {},
   "outputs": [
    {
     "name": "stdout",
     "output_type": "stream",
     "text": [
      "Conflict values present. Please resolve this manually !\n"
     ]
    }
   ],
   "source": [
    "data = mdf\n",
    "dataset, conflict_df=data_merger(dataset, data, how='outer', on=['ID', 'ID_ech', 'Date_ech'], dist_max=1)"
   ]
  },
  {
   "cell_type": "code",
   "execution_count": 75,
   "id": "21f48bf1",
   "metadata": {
    "scrolled": true
   },
   "outputs": [
    {
     "name": "stdout",
     "output_type": "stream",
     "text": [
      "all conflicts have been fixed!\n"
     ]
    }
   ],
   "source": [
    "data_validation(overall_data=dataset, conflict_data=conflict_df, index_col='index', pass_col='ID', \n",
    "                valid_dict={'C16-C21_y':list(conflict_df.index), 'C21-C35_y':list(conflict_df.index), \n",
    "                            'C12-C16_y':list(conflict_df.index), 'Fract_2+_y':list(conflict_df.index), \n",
    "                            'C10-C12_y':list(conflict_df.index), 'HC_tot_C10-C35_y':list(conflict_df.index), \n",
    "                            'Fract_2_y':list(conflict_df.index)})\n",
    "\n",
    "if 'level_0' in dataset.columns:\n",
    "    if 'index' in dataset.columns:\n",
    "        dataset.drop(columns='index', inplace=True)\n",
    "    dataset.rename(columns={'level_0':'index'}, inplace=True)"
   ]
  },
  {
   "cell_type": "code",
   "execution_count": 76,
   "id": "9a453e80",
   "metadata": {},
   "outputs": [
    {
     "name": "stdout",
     "output_type": "stream",
     "text": [
      "Dataset rows: 404\n"
     ]
    }
   ],
   "source": [
    "print(f'Dataset rows: {len(dataset)}')"
   ]
  },
  {
   "cell_type": "markdown",
   "id": "283c4975",
   "metadata": {},
   "source": [
    "#### $\\color{green}{\\textbf{Lecture et fusion}}$"
   ]
  },
  {
   "cell_type": "code",
   "execution_count": 77,
   "id": "b6e0ac02",
   "metadata": {
    "scrolled": false
   },
   "outputs": [
    {
     "name": "stdout",
     "output_type": "stream",
     "text": [
      "df1 :  --> Coordinates\n",
      "2 NaN lines dropped\n",
      "df2 :  --> Coordinates\n",
      "Rows : 1583, columns : 197, Unique values on cols: {'ID': 470}\n",
      "Rows : 39, columns : 9, Unique values on cols: {'ID': 25}\n"
     ]
    },
    {
     "name": "stderr",
     "output_type": "stream",
     "text": [
      "/home/yanathan/.local/share/virtualenvs/GSDMA-DRfwm83x/lib/python3.8/site-packages/pandas/core/frame.py:4906: SettingWithCopyWarning: \n",
      "A value is trying to be set on a copy of a slice from a DataFrame\n",
      "\n",
      "See the caveats in the documentation: https://pandas.pydata.org/pandas-docs/stable/user_guide/indexing.html#returning-a-view-versus-a-copy\n",
      "  return super().drop(\n"
     ]
    },
    {
     "data": {
      "text/plain": [
       "(None, None)"
      ]
     },
     "execution_count": 77,
     "metadata": {},
     "output_type": "execute_result"
    }
   ],
   "source": [
    "file1= csv_data_dir +  'database_Memoris3/source_merge/source_Samples.csv' # 8\n",
    "file2= csv_data_dir +  'profils_sols_donnees_forages/source_merge/source_Samples.csv' # 10\n",
    "\n",
    "df1, df2 = create_df([file1, file2])\n",
    "dataframe_viewer(df1, rows=3, un_val='ID', view=view), dataframe_viewer(df2, rows=3, un_val='ID', view=view)"
   ]
  },
  {
   "cell_type": "code",
   "execution_count": 78,
   "id": "41d409e8",
   "metadata": {},
   "outputs": [
    {
     "name": "stdout",
     "output_type": "stream",
     "text": [
      "0 Date_ech\n",
      "0 Date_for\n",
      "0 ID\n",
      "0 ID_ech\n",
      "1 Date_for\n",
      "1 ID\n",
      "1 ID_ech\n"
     ]
    }
   ],
   "source": [
    "df_list = [df1, df2]\n",
    "look_for = ['Date', 'ID']\n",
    "for i, df in enumerate(df_list):\n",
    "    for l in look_for:\n",
    "        for c in df.columns:\n",
    "            if re.search(l, c, re.I): print(i, c)"
   ]
  },
  {
   "cell_type": "code",
   "execution_count": 79,
   "id": "311b1745",
   "metadata": {
    "scrolled": true
   },
   "outputs": [],
   "source": [
    "mdf, conflict_df=data_merger(df1, df2, how='outer', on=['ID', 'ID_ech'], dist_max=1)"
   ]
  },
  {
   "cell_type": "code",
   "execution_count": 80,
   "id": "d43340c3",
   "metadata": {},
   "outputs": [
    {
     "name": "stdout",
     "output_type": "stream",
     "text": [
      "Conflict values present. Please resolve this manually !\n"
     ]
    }
   ],
   "source": [
    "data = mdf\n",
    "dataset, conflict_df=data_merger(dataset, data, how='outer', on=['ID', 'ID_ech', 'Date_ech'], dist_max=1)"
   ]
  },
  {
   "cell_type": "code",
   "execution_count": 81,
   "id": "5bc23b84",
   "metadata": {
    "scrolled": true
   },
   "outputs": [
    {
     "name": "stdout",
     "output_type": "stream",
     "text": [
      "all conflicts have been fixed!\n"
     ]
    }
   ],
   "source": [
    "data_validation(overall_data=dataset, conflict_data=conflict_df, index_col='index', pass_col='ID', \n",
    "                valid_dict={'Nappe_x':list(conflict_df.index)})\n",
    "\n",
    "if 'level_0' in dataset.columns:\n",
    "    if 'index' in dataset.columns:\n",
    "        dataset.drop(columns='index', inplace=True)\n",
    "    dataset.rename(columns={'level_0':'index'}, inplace=True)"
   ]
  },
  {
   "cell_type": "code",
   "execution_count": 82,
   "id": "20e9b5ba",
   "metadata": {},
   "outputs": [
    {
     "name": "stdout",
     "output_type": "stream",
     "text": [
      "Dataset rows: 1975\n"
     ]
    }
   ],
   "source": [
    "print(f'Dataset rows: {len(dataset)}')"
   ]
  },
  {
   "cell_type": "markdown",
   "id": "e7eb8999",
   "metadata": {},
   "source": [
    "#### $\\color{green}{\\textbf{Lecture et fusion}}$"
   ]
  },
  {
   "cell_type": "code",
   "execution_count": 83,
   "id": "403fe8a4",
   "metadata": {
    "scrolled": false
   },
   "outputs": [
    {
     "name": "stdout",
     "output_type": "stream",
     "text": [
      "1 NaN lines dropped\n",
      "df1 :  --> No coordinates\n",
      "df2 :  --> Coordinates\n",
      "Rows : 5, columns : 82, Unique values on cols: {'ID': 'NA'}\n",
      "Rows : 45, columns : 76, Unique values on cols: {'ID': 29}\n"
     ]
    },
    {
     "data": {
      "text/plain": [
       "(None, None)"
      ]
     },
     "execution_count": 83,
     "metadata": {},
     "output_type": "execute_result"
    }
   ],
   "source": [
    "file1= csv_data_dir +  'Container_phyto/source_merge/source_Samples.csv' # 0\n",
    "file2= csv_data_dir +  'vUmons_logsFor/source_merge/source_Samples.csv' # 12\n",
    "\n",
    "df1, df2 = create_df([file1, file2])\n",
    "dataframe_viewer(df1, rows=3, un_val='ID', view=view), dataframe_viewer(df2, rows=3, un_val='ID', view=view)"
   ]
  },
  {
   "cell_type": "code",
   "execution_count": 84,
   "id": "9e5d6ddc",
   "metadata": {},
   "outputs": [
    {
     "name": "stdout",
     "output_type": "stream",
     "text": [
      "0 Date_ech\n",
      "0 ID_ech\n",
      "1 Date_ech\n",
      "1 ID_ech\n",
      "1 ID\n"
     ]
    }
   ],
   "source": [
    "df_list = [df1, df2]\n",
    "look_for = ['Date', 'ID']\n",
    "for i, df in enumerate(df_list):\n",
    "    for l in look_for:\n",
    "        for c in df.columns:\n",
    "            if re.search(l, c, re.I): print(i, c)"
   ]
  },
  {
   "cell_type": "code",
   "execution_count": 85,
   "id": "97e4dfd4",
   "metadata": {
    "scrolled": true
   },
   "outputs": [],
   "source": [
    "mdf, conflict_df=data_merger(df1, df2, how='outer', on=['ID_ech', 'Date_ech'], dist_max=1)"
   ]
  },
  {
   "cell_type": "code",
   "execution_count": 86,
   "id": "662bfb29",
   "metadata": {},
   "outputs": [],
   "source": [
    "mdf = gen_id_from_ech(mdf, id_ech_col='ID_ech', suffixes=sufx, prefixes=prefx, capture_regex=id_reg)"
   ]
  },
  {
   "cell_type": "code",
   "execution_count": 87,
   "id": "4adf0d92",
   "metadata": {},
   "outputs": [],
   "source": [
    "data = mdf\n",
    "col = 'ID_ech'\n",
    "for i in data.index:\n",
    "    v = data.loc[i, col]\n",
    "    if not pd.isnull(v) and re.search('ech', v, re.I):\n",
    "        data.loc[i, 'ID'] = 'F_' + re.sub(' |.','', v,re.I)\n",
    "mdf = data.copy()"
   ]
  },
  {
   "cell_type": "code",
   "execution_count": 88,
   "id": "3d15b757",
   "metadata": {},
   "outputs": [],
   "source": [
    "data = mdf\n",
    "dataset, conflict_df=data_merger(dataset, data, how='outer', on=['ID', 'ID_ech', 'Date_ech'], dist_max=1)"
   ]
  },
  {
   "cell_type": "code",
   "execution_count": 89,
   "id": "8c5d276d",
   "metadata": {},
   "outputs": [
    {
     "name": "stdout",
     "output_type": "stream",
     "text": [
      "Dataset rows: 2025\n"
     ]
    }
   ],
   "source": [
    "print(f'Dataset rows: {len(dataset)}')"
   ]
  },
  {
   "cell_type": "markdown",
   "id": "e2f8dba5",
   "metadata": {},
   "source": [
    "#### $\\color{green}{\\textbf{Lecture et fusion}}$"
   ]
  },
  {
   "cell_type": "code",
   "execution_count": 90,
   "id": "d605743a",
   "metadata": {
    "scrolled": false
   },
   "outputs": [
    {
     "name": "stdout",
     "output_type": "stream",
     "text": [
      "1 NaN lines dropped\n",
      "df1 :  --> No coordinates\n",
      "df2 :  --> No coordinates\n",
      "Rows : 43, columns : 97, Unique values on cols: {'ID': 6}\n",
      "Rows : 95, columns : 97, Unique values on cols: {'ID': 12}\n"
     ]
    },
    {
     "data": {
      "text/plain": [
       "(None, None)"
      ]
     },
     "execution_count": 90,
     "metadata": {},
     "output_type": "execute_result"
    }
   ],
   "source": [
    "file1= csv_data_dir +  'Siterem_Ext_Pilote/source_merge/source_Samples.csv' # 5\n",
    "file2= csv_data_dir +  'Siterem_Pilote/source_merge/source_Samples.csv' # 6\n",
    "\n",
    "df1, df2 = create_df([file1, file2])\n",
    "dataframe_viewer(df1, rows=3, un_val='ID', view=view), dataframe_viewer(df2, rows=3, un_val='ID', view=view)"
   ]
  },
  {
   "cell_type": "code",
   "execution_count": 91,
   "id": "36e7fc6d",
   "metadata": {},
   "outputs": [
    {
     "name": "stdout",
     "output_type": "stream",
     "text": [
      "0 Date_ech\n",
      "0 ID_ech\n",
      "0 ID\n",
      "1 Date_ech\n",
      "1 ID_ech\n",
      "1 ID\n"
     ]
    }
   ],
   "source": [
    "df_list = [df1, df2]\n",
    "look_for = ['Date', 'ID']\n",
    "for i, df in enumerate(df_list):\n",
    "    for l in look_for:\n",
    "        for c in df.columns:\n",
    "            if re.search(l, c, re.I): print(i, c)"
   ]
  },
  {
   "cell_type": "code",
   "execution_count": 92,
   "id": "257d9eb7",
   "metadata": {},
   "outputs": [],
   "source": [
    "df1['ID_ech'] = df1['ID_ech'].astype('object')"
   ]
  },
  {
   "cell_type": "code",
   "execution_count": 93,
   "id": "2013df53",
   "metadata": {
    "scrolled": true
   },
   "outputs": [],
   "source": [
    "mdf, conflict_df=data_merger(df1, df2, how='outer', on=['ID_ech', 'Date_ech'], dist_max=1)"
   ]
  },
  {
   "cell_type": "code",
   "execution_count": 94,
   "id": "ecf34956",
   "metadata": {},
   "outputs": [
    {
     "name": "stdout",
     "output_type": "stream",
     "text": [
      "Conflict values present. Please resolve this manually !\n"
     ]
    }
   ],
   "source": [
    "data = mdf\n",
    "dataset, conflict_df=data_merger(dataset, data, how='outer', on=['ID', 'ID_ech', 'Date_ech'], dist_max=1)"
   ]
  },
  {
   "cell_type": "code",
   "execution_count": 95,
   "id": "fee9ee89",
   "metadata": {
    "scrolled": true
   },
   "outputs": [
    {
     "name": "stdout",
     "output_type": "stream",
     "text": [
      "all conflicts have been fixed!\n"
     ]
    }
   ],
   "source": [
    "data_validation(overall_data=dataset, conflict_data=conflict_df, index_col='index', pass_col='ID', \n",
    "                valid_dict={'C16-C21_x':list(conflict_df.index), 'C12-C16_x':list(conflict_df.index), \n",
    "                            'C10-C12_x':list(conflict_df.index), 'HC_tot_C10-C35_x':list(conflict_df.index), \n",
    "                            'C21-C35_x':list(conflict_df.index)})\n",
    "\n",
    "if 'level_0' in dataset.columns:\n",
    "    if 'index' in dataset.columns:\n",
    "        dataset.drop(columns='index', inplace=True)\n",
    "    dataset.rename(columns={'level_0':'index'}, inplace=True)"
   ]
  },
  {
   "cell_type": "code",
   "execution_count": 96,
   "id": "f2353a9b",
   "metadata": {},
   "outputs": [
    {
     "name": "stdout",
     "output_type": "stream",
     "text": [
      "Dataset rows: 2162\n"
     ]
    }
   ],
   "source": [
    "print(f'Dataset rows: {len(dataset)}')"
   ]
  },
  {
   "cell_type": "markdown",
   "id": "2d668700",
   "metadata": {},
   "source": [
    "#### $\\color{green}{\\textbf{Lecture et fusion}}$"
   ]
  },
  {
   "cell_type": "code",
   "execution_count": 97,
   "id": "5c1932c1",
   "metadata": {
    "scrolled": false
   },
   "outputs": [
    {
     "name": "stdout",
     "output_type": "stream",
     "text": [
      "1 NaN lines dropped\n",
      "df1 :  --> No coordinates\n",
      "df2 :  --> No coordinates\n",
      "Rows : 59, columns : 82, Unique values on cols: {'ID': 23}\n",
      "Rows : 70, columns : 9, Unique values on cols: {'ID': 22}\n"
     ]
    },
    {
     "data": {
      "text/plain": [
       "(None, None)"
      ]
     },
     "execution_count": 97,
     "metadata": {},
     "output_type": "execute_result"
    }
   ],
   "source": [
    "file1= csv_data_dir +  'Siterem_Result_Sol/source_merge/source_Samples.csv' # 7\n",
    "file2= csv_data_dir +  'donnees_terrain_2019/source_merge/source_Samples.csv' # 9\n",
    "\n",
    "df1, df2 = create_df([file1, file2])\n",
    "dataframe_viewer(df1, rows=3, un_val='ID', view=view), dataframe_viewer(df2, rows=3, un_val='ID', view=view)"
   ]
  },
  {
   "cell_type": "code",
   "execution_count": 98,
   "id": "f7732520",
   "metadata": {},
   "outputs": [],
   "source": [
    "df2['ID'] = df2['ID'].astype('object')"
   ]
  },
  {
   "cell_type": "code",
   "execution_count": 99,
   "id": "98525bd1",
   "metadata": {},
   "outputs": [
    {
     "name": "stdout",
     "output_type": "stream",
     "text": [
      "0 Date_ech\n",
      "0 ID_ech\n",
      "0 ID\n",
      "1 ID\n",
      "1 ID_ech\n"
     ]
    }
   ],
   "source": [
    "df_list = [df1, df2]\n",
    "look_for = ['Date', 'ID']\n",
    "for i, df in enumerate(df_list):\n",
    "    for l in look_for:\n",
    "        for c in df.columns:\n",
    "            if re.search(l, c, re.I): print(i, c)"
   ]
  },
  {
   "cell_type": "code",
   "execution_count": 100,
   "id": "f1ce4ecf",
   "metadata": {
    "scrolled": true
   },
   "outputs": [],
   "source": [
    "mdf, conflict_df=data_merger(df1, df2, how='outer', on=['ID', 'ID_ech'], dist_max=1)"
   ]
  },
  {
   "cell_type": "code",
   "execution_count": 101,
   "id": "51266df1",
   "metadata": {},
   "outputs": [],
   "source": [
    "data = mdf\n",
    "dataset, conflict_df=data_merger(dataset, data, how='outer', on=['ID', 'ID_ech', 'Date_ech'], dist_max=1)"
   ]
  },
  {
   "cell_type": "code",
   "execution_count": 102,
   "id": "1ebd69f6",
   "metadata": {},
   "outputs": [
    {
     "name": "stdout",
     "output_type": "stream",
     "text": [
      "Dataset rows: 2291\n"
     ]
    }
   ],
   "source": [
    "print(f'Dataset rows: {len(dataset)}')"
   ]
  },
  {
   "cell_type": "markdown",
   "id": "ba89b091",
   "metadata": {},
   "source": [
    "#### $\\color{green}{\\textbf{Lecture et fusion}}$"
   ]
  },
  {
   "cell_type": "code",
   "execution_count": 103,
   "id": "803fa62a",
   "metadata": {
    "scrolled": false
   },
   "outputs": [
    {
     "name": "stdout",
     "output_type": "stream",
     "text": [
      "df1 :  --> No coordinates\n",
      "Rows : 53, columns : 85, Unique values on cols: {'ID': 19}\n"
     ]
    }
   ],
   "source": [
    "file1= csv_data_dir +  'result_sol_ext_pilote/source_merge/source_Samples.csv' # 11\n",
    "\n",
    "df1 = create_df([file1])[0]\n",
    "dataframe_viewer(df1, rows=3, un_val='ID', view=view)"
   ]
  },
  {
   "cell_type": "code",
   "execution_count": 104,
   "id": "bd1bfff2",
   "metadata": {},
   "outputs": [
    {
     "name": "stdout",
     "output_type": "stream",
     "text": [
      "0 Date_ech\n",
      "0 ID\n",
      "0 ID_ech\n"
     ]
    }
   ],
   "source": [
    "df_list = [df1]\n",
    "look_for = ['Date', 'ID']\n",
    "for i, df in enumerate(df_list):\n",
    "    for l in look_for:\n",
    "        for c in df.columns:\n",
    "            if re.search(l, c, re.I): print(i, c)"
   ]
  },
  {
   "cell_type": "code",
   "execution_count": 105,
   "id": "0bad9c06",
   "metadata": {},
   "outputs": [],
   "source": [
    "data = df1\n",
    "dataset, conflict_df=data_merger(dataset, data, how='outer', on=['ID', 'ID_ech', 'Date_ech'], dist_max=1)"
   ]
  },
  {
   "cell_type": "code",
   "execution_count": 106,
   "id": "0039542a",
   "metadata": {},
   "outputs": [
    {
     "name": "stdout",
     "output_type": "stream",
     "text": [
      "Dataset rows: 2305\n"
     ]
    }
   ],
   "source": [
    "print(f'Dataset rows: {len(dataset)}')"
   ]
  },
  {
   "cell_type": "markdown",
   "id": "86e4b549",
   "metadata": {},
   "source": [
    "####  $\\color{red}{\\textbf{Sauvegarde du jeu de données}}$"
   ]
  },
  {
   "cell_type": "code",
   "execution_count": 107,
   "id": "3b711f31",
   "metadata": {
    "scrolled": true
   },
   "outputs": [
    {
     "name": "stdout",
     "output_type": "stream",
     "text": [
      "Rows : 2305, columns : 219, Unique values on cols: {'ID': 819, 'ID_ech': 1878}\n"
     ]
    },
    {
     "data": {
      "application/vnd.jupyter.widget-view+json": {
       "model_id": "20204dad0b904441920828a4d0dcd3ce",
       "version_major": 2,
       "version_minor": 0
      },
      "text/plain": [
       "interactive(children=(IntSlider(value=3, description='rows', max=2305, min=3, readout=False), IntSlider(value=…"
      ]
     },
     "metadata": {},
     "output_type": "display_data"
    }
   ],
   "source": [
    "data_dict['Sample'] = dataset.copy()\n",
    "dataframe_viewer(dataset, rows=3, un_val=['ID','ID_ech'])"
   ]
  },
  {
   "cell_type": "code",
   "execution_count": 108,
   "id": "72bbeaa3",
   "metadata": {},
   "outputs": [],
   "source": [
    "dataset.to_csv(save_dir + 'Samples.csv', index=False)"
   ]
  },
  {
   "cell_type": "markdown",
   "id": "74bd13c5",
   "metadata": {},
   "source": [
    "###  ===================================================="
   ]
  },
  {
   "cell_type": "markdown",
   "id": "600cb665",
   "metadata": {},
   "source": [
    "## Objets inconnus"
   ]
  },
  {
   "cell_type": "code",
   "execution_count": 109,
   "id": "17ed01cd",
   "metadata": {},
   "outputs": [
    {
     "name": "stdout",
     "output_type": "stream",
     "text": [
      "1 files\n"
     ]
    }
   ],
   "source": [
    "key='Unknow'\n",
    "dataset = pd.DataFrame()\n",
    "print(len(files_dict[key]), 'files')"
   ]
  },
  {
   "cell_type": "code",
   "execution_count": 110,
   "id": "4267f931",
   "metadata": {
    "scrolled": true
   },
   "outputs": [
    {
     "data": {
      "text/plain": [
       "['/home/yanathan/Projects/GSDMA/CF_data/Result_traitem/organisation/database_Memoris3/source_merge/source_Unknown.csv']"
      ]
     },
     "execution_count": 110,
     "metadata": {},
     "output_type": "execute_result"
    }
   ],
   "source": [
    "files_dict[key]"
   ]
  },
  {
   "cell_type": "markdown",
   "id": "ca224c78",
   "metadata": {},
   "source": [
    "#### $\\color{green}{\\textbf{Lecture et fusion}}$"
   ]
  },
  {
   "cell_type": "code",
   "execution_count": 111,
   "id": "1df9a455",
   "metadata": {
    "scrolled": false
   },
   "outputs": [
    {
     "name": "stdout",
     "output_type": "stream",
     "text": [
      "df1 :  --> Coordinates\n",
      "Rows : 32, columns : 12, Unique values on cols: {'ID': 32}\n"
     ]
    }
   ],
   "source": [
    "file1= csv_data_dir +  'database_Memoris3/source_merge/source_Unknown.csv' # 11\n",
    "\n",
    "df1 = create_df([file1])[0]\n",
    "dataframe_viewer(df1, rows=3, un_val='ID', view=view)"
   ]
  },
  {
   "cell_type": "code",
   "execution_count": 112,
   "id": "da9d006d",
   "metadata": {},
   "outputs": [],
   "source": [
    "dataset = df1.drop(columns='ID_date')"
   ]
  },
  {
   "cell_type": "code",
   "execution_count": 113,
   "id": "1a583ad6",
   "metadata": {},
   "outputs": [
    {
     "name": "stdout",
     "output_type": "stream",
     "text": [
      "Dataset rows: 32\n"
     ]
    }
   ],
   "source": [
    "print(f'Dataset rows: {len(dataset)}')"
   ]
  },
  {
   "cell_type": "markdown",
   "id": "c67f5868",
   "metadata": {},
   "source": [
    "####  $\\color{red}{\\textbf{Sauvegarde du jeu de données}}$"
   ]
  },
  {
   "cell_type": "code",
   "execution_count": 114,
   "id": "771926c0",
   "metadata": {
    "scrolled": true
   },
   "outputs": [
    {
     "name": "stdout",
     "output_type": "stream",
     "text": [
      "Rows : 32, columns : 11, Unique values on cols: {'ID': 32, 'ID_ech': 'NA'}\n"
     ]
    },
    {
     "data": {
      "application/vnd.jupyter.widget-view+json": {
       "model_id": "d7a3aa88dc5e43a59f87f55781df0436",
       "version_major": 2,
       "version_minor": 0
      },
      "text/plain": [
       "interactive(children=(IntSlider(value=3, description='rows', max=32, min=3, readout=False), IntSlider(value=11…"
      ]
     },
     "metadata": {},
     "output_type": "display_data"
    }
   ],
   "source": [
    "data_dict['Unknow'] = dataset.copy()\n",
    "dataframe_viewer(dataset, rows=3, un_val=['ID','ID_ech'])"
   ]
  },
  {
   "cell_type": "code",
   "execution_count": 115,
   "id": "2c430761",
   "metadata": {},
   "outputs": [],
   "source": [
    "dataset.to_csv(save_dir + 'Unknown.csv', index=False)"
   ]
  },
  {
   "cell_type": "markdown",
   "id": "a1f36ae5",
   "metadata": {},
   "source": [
    "###  ===================================================="
   ]
  },
  {
   "cell_type": "markdown",
   "id": "6e5b63d7",
   "metadata": {},
   "source": [
    "## Equipements"
   ]
  },
  {
   "cell_type": "code",
   "execution_count": 116,
   "id": "63e46b55",
   "metadata": {},
   "outputs": [
    {
     "name": "stdout",
     "output_type": "stream",
     "text": [
      "5 files\n"
     ]
    }
   ],
   "source": [
    "key='Equipm'\n",
    "dataset = pd.DataFrame()\n",
    "print(len(files_dict[key]), 'files')"
   ]
  },
  {
   "cell_type": "code",
   "execution_count": 117,
   "id": "c9d8be24",
   "metadata": {
    "scrolled": false
   },
   "outputs": [
    {
     "data": {
      "text/plain": [
       "['/home/yanathan/Projects/GSDMA/CF_data/Result_traitem/organisation/Memoris_seafile/source_merge/source_Equipments.csv',\n",
       " '/home/yanathan/Projects/GSDMA/CF_data/Result_traitem/organisation/Phase_1_Memoris/source_merge/source_Equipments.csv',\n",
       " '/home/yanathan/Projects/GSDMA/CF_data/Result_traitem/organisation/Phase_2_Memoris/source_merge/source_Equipments.csv',\n",
       " '/home/yanathan/Projects/GSDMA/CF_data/Result_traitem/organisation/donnees_terrain_2019/source_merge/source_Equipments.csv',\n",
       " '/home/yanathan/Projects/GSDMA/CF_data/Result_traitem/organisation/profils_sols_donnees_forages/source_merge/source_Equipments.csv']"
      ]
     },
     "execution_count": 117,
     "metadata": {},
     "output_type": "execute_result"
    }
   ],
   "source": [
    "files_dict[key]"
   ]
  },
  {
   "cell_type": "code",
   "execution_count": 118,
   "id": "c21b6307",
   "metadata": {
    "scrolled": true
   },
   "outputs": [
    {
     "name": "stdout",
     "output_type": "stream",
     "text": [
      "Same files:[]\n",
      "Files with coordinates:[0, 1, 2, 4]\n",
      "Files without coordinates:[3]\n"
     ]
    }
   ],
   "source": [
    "data_overview(files_dict[key])"
   ]
  },
  {
   "cell_type": "markdown",
   "id": "7f945c9c",
   "metadata": {},
   "source": [
    "#### $\\color{green}{\\textbf{Lecture et fusion}}$"
   ]
  },
  {
   "cell_type": "code",
   "execution_count": 119,
   "id": "1ee1a3cf",
   "metadata": {
    "scrolled": false
   },
   "outputs": [
    {
     "name": "stdout",
     "output_type": "stream",
     "text": [
      "6 NaN lines dropped\n",
      "df1 :  --> Coordinates\n",
      "df2 :  --> Coordinates\n",
      "Rows : 39, columns : 7, Unique values on cols: {'ID': 24}\n",
      "Rows : 17, columns : 7, Unique values on cols: {'ID': 14}\n"
     ]
    },
    {
     "name": "stderr",
     "output_type": "stream",
     "text": [
      "/home/yanathan/.local/share/virtualenvs/GSDMA-DRfwm83x/lib/python3.8/site-packages/pandas/core/frame.py:4906: SettingWithCopyWarning: \n",
      "A value is trying to be set on a copy of a slice from a DataFrame\n",
      "\n",
      "See the caveats in the documentation: https://pandas.pydata.org/pandas-docs/stable/user_guide/indexing.html#returning-a-view-versus-a-copy\n",
      "  return super().drop(\n"
     ]
    },
    {
     "data": {
      "text/plain": [
       "(None, None)"
      ]
     },
     "execution_count": 119,
     "metadata": {},
     "output_type": "execute_result"
    }
   ],
   "source": [
    "file1= csv_data_dir + 'Memoris_seafile/source_merge/source_Equipments.csv' # 0\n",
    "file2= csv_data_dir + 'Phase_1_Memoris/source_merge/source_Equipments.csv' # 1\n",
    "\n",
    "df1, df2 = create_df([file1, file2])\n",
    "dataframe_viewer(df1, rows=3, un_val='ID', view=view), dataframe_viewer(df2, rows=3, un_val='ID', view=view)"
   ]
  },
  {
   "cell_type": "code",
   "execution_count": 120,
   "id": "ef26d916",
   "metadata": {
    "scrolled": true
   },
   "outputs": [],
   "source": [
    "mdf, conflict_df=data_merger(df1, df2, how='outer', on=['ID'], dist_max=1)"
   ]
  },
  {
   "cell_type": "code",
   "execution_count": 121,
   "id": "7be51f26",
   "metadata": {},
   "outputs": [],
   "source": [
    "dataset = mdf.copy()"
   ]
  },
  {
   "cell_type": "code",
   "execution_count": 122,
   "id": "2efea9ef",
   "metadata": {},
   "outputs": [
    {
     "name": "stdout",
     "output_type": "stream",
     "text": [
      "Dataset rows: 54\n"
     ]
    }
   ],
   "source": [
    "print(f'Dataset rows: {len(dataset)}')"
   ]
  },
  {
   "cell_type": "markdown",
   "id": "091fd2ea",
   "metadata": {},
   "source": [
    "#### $\\color{green}{\\textbf{Lecture et fusion}}$"
   ]
  },
  {
   "cell_type": "code",
   "execution_count": 123,
   "id": "546afb93",
   "metadata": {
    "scrolled": false
   },
   "outputs": [
    {
     "name": "stdout",
     "output_type": "stream",
     "text": [
      "df1 :  --> Coordinates\n",
      "df2 :  --> Coordinates\n",
      "Rows : 36, columns : 8, Unique values on cols: {'ID': 12}\n",
      "Rows : 17, columns : 7, Unique values on cols: {'ID': 14}\n"
     ]
    },
    {
     "data": {
      "text/plain": [
       "(None, None)"
      ]
     },
     "execution_count": 123,
     "metadata": {},
     "output_type": "execute_result"
    }
   ],
   "source": [
    "file1= csv_data_dir + 'Phase_2_Memoris/source_merge/source_Equipments.csv' # 2\n",
    "file1= csv_data_dir + 'profils_sols_donnees_forages/source_merge/source_Equipments.csv' # 4\n",
    "\n",
    "df1, df2 = create_df([file1, file2])\n",
    "dataframe_viewer(df1, rows=3, un_val='ID', view=view), dataframe_viewer(df2, rows=3, un_val='ID', view=view)"
   ]
  },
  {
   "cell_type": "code",
   "execution_count": 124,
   "id": "b227905f",
   "metadata": {},
   "outputs": [
    {
     "name": "stdout",
     "output_type": "stream",
     "text": [
      "0 Date_for\n",
      "0 ID\n",
      "1 ID\n"
     ]
    }
   ],
   "source": [
    "df_list = [df1, df2]\n",
    "look_for = ['Date', 'ID']\n",
    "for i, df in enumerate(df_list):\n",
    "    for l in look_for:\n",
    "        for c in df.columns:\n",
    "            if re.search(l, c, re.I): print(i, c)"
   ]
  },
  {
   "cell_type": "code",
   "execution_count": 125,
   "id": "aff6d397",
   "metadata": {
    "scrolled": true
   },
   "outputs": [],
   "source": [
    "mdf, conflict_df=data_merger(df1, df2, how='outer', on=['ID'], dist_max=1)"
   ]
  },
  {
   "cell_type": "code",
   "execution_count": 126,
   "id": "05ee94fb",
   "metadata": {},
   "outputs": [],
   "source": [
    "data = mdf\n",
    "dataset, conflict_df=data_merger(dataset, data, how='outer', on=['ID'], dist_max=1)"
   ]
  },
  {
   "cell_type": "code",
   "execution_count": 127,
   "id": "9ac72baf",
   "metadata": {},
   "outputs": [
    {
     "name": "stdout",
     "output_type": "stream",
     "text": [
      "Dataset rows: 96\n"
     ]
    }
   ],
   "source": [
    "print(f'Dataset rows: {len(dataset)}')"
   ]
  },
  {
   "cell_type": "markdown",
   "id": "5600a5a4",
   "metadata": {},
   "source": [
    "#### $\\color{green}{\\textbf{Lecture et fusion}}$"
   ]
  },
  {
   "cell_type": "code",
   "execution_count": 128,
   "id": "3a3d0a74",
   "metadata": {
    "scrolled": false
   },
   "outputs": [
    {
     "name": "stdout",
     "output_type": "stream",
     "text": [
      "df1 :  --> No coordinates\n",
      "Rows : 33, columns : 8, Unique values on cols: {'ID': 9}\n"
     ]
    }
   ],
   "source": [
    "file1= csv_data_dir + 'donnees_terrain_2019/source_merge/source_Equipments.csv' # 3\n",
    "\n",
    "df1 = create_df([file1])[0]\n",
    "dataframe_viewer(df1, rows=3, un_val='ID', view=view)"
   ]
  },
  {
   "cell_type": "code",
   "execution_count": 129,
   "id": "acf542bb",
   "metadata": {},
   "outputs": [],
   "source": [
    "df1['ID'] = df1['ID'].astype('object')"
   ]
  },
  {
   "cell_type": "code",
   "execution_count": 130,
   "id": "7bdcb47e",
   "metadata": {},
   "outputs": [],
   "source": [
    "data = df1\n",
    "dataset, conflict_df=data_merger(dataset, data, how='outer', on=['ID'], dist_max=1)"
   ]
  },
  {
   "cell_type": "code",
   "execution_count": 131,
   "id": "b7b68f03",
   "metadata": {},
   "outputs": [
    {
     "name": "stdout",
     "output_type": "stream",
     "text": [
      "Dataset rows: 129\n"
     ]
    }
   ],
   "source": [
    "print(f'Dataset rows: {len(dataset)}')"
   ]
  },
  {
   "cell_type": "markdown",
   "id": "79571f5a",
   "metadata": {},
   "source": [
    "####  $\\color{red}{\\textbf{Sauvegarde du jeu de données}}$"
   ]
  },
  {
   "cell_type": "code",
   "execution_count": 132,
   "id": "22b4133a",
   "metadata": {
    "scrolled": true
   },
   "outputs": [
    {
     "name": "stdout",
     "output_type": "stream",
     "text": [
      "Rows : 129, columns : 14, Unique values on cols: {'ID': 57}\n"
     ]
    },
    {
     "data": {
      "application/vnd.jupyter.widget-view+json": {
       "model_id": "7eaa4d57b8be4aebbd11cdfe5c1f19d2",
       "version_major": 2,
       "version_minor": 0
      },
      "text/plain": [
       "interactive(children=(IntSlider(value=3, description='rows', max=129, min=3, readout=False), IntSlider(value=1…"
      ]
     },
     "metadata": {},
     "output_type": "display_data"
    }
   ],
   "source": [
    "data_dict['Equipm'] = dataset.copy()\n",
    "dataframe_viewer(dataset, rows=3, un_val=['ID'])"
   ]
  },
  {
   "cell_type": "code",
   "execution_count": 133,
   "id": "8bcf46d7",
   "metadata": {},
   "outputs": [],
   "source": [
    "dataset.to_csv(save_dir + 'Equipments.csv', index=False)"
   ]
  },
  {
   "cell_type": "markdown",
   "id": "da83ac9b",
   "metadata": {},
   "source": [
    "###  ===================================================="
   ]
  },
  {
   "cell_type": "markdown",
   "id": "855acda1",
   "metadata": {},
   "source": [
    "# Mesures"
   ]
  },
  {
   "cell_type": "code",
   "execution_count": 134,
   "id": "b2d9371a",
   "metadata": {},
   "outputs": [
    {
     "name": "stdout",
     "output_type": "stream",
     "text": [
      "13 files\n"
     ]
    }
   ],
   "source": [
    "key='Measure'\n",
    "dataset = pd.DataFrame()\n",
    "print(len(files_dict[key]), 'files')"
   ]
  },
  {
   "cell_type": "code",
   "execution_count": 135,
   "id": "c57006b0",
   "metadata": {
    "scrolled": false
   },
   "outputs": [
    {
     "data": {
      "text/plain": [
       "['/home/yanathan/Projects/GSDMA/CF_data/Result_traitem/organisation/Container_phyto/source_merge/source_Measures.csv',\n",
       " '/home/yanathan/Projects/GSDMA/CF_data/Result_traitem/organisation/Memoris_seafile/source_merge/source_Measures.csv',\n",
       " '/home/yanathan/Projects/GSDMA/CF_data/Result_traitem/organisation/Phase_1_Memoris/source_merge/source_Measures.csv',\n",
       " '/home/yanathan/Projects/GSDMA/CF_data/Result_traitem/organisation/Phase_2_Memoris/source_merge/source_Measures.csv',\n",
       " '/home/yanathan/Projects/GSDMA/CF_data/Result_traitem/organisation/Siterem_Ext_Pilote/source_merge/source_Measures.csv',\n",
       " '/home/yanathan/Projects/GSDMA/CF_data/Result_traitem/organisation/Siterem_Pilote/source_merge/source_Measures.csv',\n",
       " '/home/yanathan/Projects/GSDMA/CF_data/Result_traitem/organisation/Siterem_Result_Sol/source_merge/source_Measures.csv',\n",
       " '/home/yanathan/Projects/GSDMA/CF_data/Result_traitem/organisation/database_Memoris3/source_merge/source_Measures.csv',\n",
       " '/home/yanathan/Projects/GSDMA/CF_data/Result_traitem/organisation/donnees_terrain_2019/source_merge/source_Measures.csv',\n",
       " '/home/yanathan/Projects/GSDMA/CF_data/Result_traitem/organisation/observ_terrain/source_merge/source_Measures.csv',\n",
       " '/home/yanathan/Projects/GSDMA/CF_data/Result_traitem/organisation/profils_sols_donnees_forages/source_merge/source_Measures.csv',\n",
       " '/home/yanathan/Projects/GSDMA/CF_data/Result_traitem/organisation/result_sol_ext_pilote/source_merge/source_Measures.csv',\n",
       " '/home/yanathan/Projects/GSDMA/CF_data/Result_traitem/organisation/vUmons_logsFor/source_merge/source_Measures.csv']"
      ]
     },
     "execution_count": 135,
     "metadata": {},
     "output_type": "execute_result"
    }
   ],
   "source": [
    "files_dict[key]"
   ]
  },
  {
   "cell_type": "code",
   "execution_count": 136,
   "id": "21f0e0a8",
   "metadata": {
    "scrolled": true
   },
   "outputs": [
    {
     "name": "stdout",
     "output_type": "stream",
     "text": [
      "Same files:[]\n",
      "Files with coordinates:[1, 2, 3, 7, 10, 12]\n",
      "Files without coordinates:[0, 4, 5, 6, 8, 9, 11]\n"
     ]
    }
   ],
   "source": [
    "data_overview(files_dict[key])"
   ]
  },
  {
   "cell_type": "code",
   "execution_count": 137,
   "id": "4f3e43f0",
   "metadata": {},
   "outputs": [],
   "source": [
    "#id_reg = '\\s*(?P<id>(?:^canne |Piezair )*\\w*\\d+\\w*)\\s*' # default \n",
    "id_reg = '\\s*(?P<id>(?:^canne |Piezair |Drain |Moni )*\\w*\\d+\\w*)\\s*'"
   ]
  },
  {
   "cell_type": "markdown",
   "id": "d8f82446",
   "metadata": {},
   "source": [
    "#### $\\color{green}{\\textbf{Lecture et fusion}}$"
   ]
  },
  {
   "cell_type": "code",
   "execution_count": 138,
   "id": "d2da165e",
   "metadata": {
    "scrolled": false
   },
   "outputs": [
    {
     "name": "stdout",
     "output_type": "stream",
     "text": [
      "df1 :  --> Coordinates\n",
      "df2 :  --> Coordinates\n",
      "Rows : 45, columns : 11, Unique values on cols: {'ID': 30}\n",
      "Rows : 17, columns : 10, Unique values on cols: {'ID': 14}\n"
     ]
    },
    {
     "data": {
      "text/plain": [
       "(None, None)"
      ]
     },
     "execution_count": 138,
     "metadata": {},
     "output_type": "execute_result"
    }
   ],
   "source": [
    "file1= csv_data_dir + 'Memoris_seafile/source_merge/source_Measures.csv' #1\n",
    "file2= csv_data_dir + 'Phase_1_Memoris/source_merge/source_Measures.csv' # 2\n",
    "\n",
    "df1, df2 = create_df([file1, file2])\n",
    "dataframe_viewer(df1, rows=3, un_val='ID', view=view), dataframe_viewer(df2, rows=3, un_val='ID', view=view)"
   ]
  },
  {
   "cell_type": "code",
   "execution_count": 139,
   "id": "165db7fd",
   "metadata": {},
   "outputs": [
    {
     "name": "stdout",
     "output_type": "stream",
     "text": [
      "0 Date_mes\n",
      "0 ID_ech\n",
      "0 ID\n",
      "1 Date_mes\n",
      "1 ID_ech\n",
      "1 ID\n"
     ]
    }
   ],
   "source": [
    "df_list = [df1, df2]\n",
    "look_for = ['Date', 'ID']\n",
    "for i, df in enumerate(df_list):\n",
    "    for l in look_for:\n",
    "        for c in df.columns:\n",
    "            if re.search(l, c, re.I): print(i, c)"
   ]
  },
  {
   "cell_type": "code",
   "execution_count": 140,
   "id": "2542bf44",
   "metadata": {
    "scrolled": true
   },
   "outputs": [],
   "source": [
    "mdf, conflict_df=data_merger(df1, df2, how='outer', on=['ID','ID_ech','Date_mes'], dist_max=1)"
   ]
  },
  {
   "cell_type": "code",
   "execution_count": 141,
   "id": "081b3e72",
   "metadata": {},
   "outputs": [],
   "source": [
    "dataset = mdf.copy()"
   ]
  },
  {
   "cell_type": "code",
   "execution_count": 142,
   "id": "3d4f7f98",
   "metadata": {},
   "outputs": [
    {
     "name": "stdout",
     "output_type": "stream",
     "text": [
      "Dataset rows: 60\n"
     ]
    }
   ],
   "source": [
    "print(f'Dataset rows: {len(dataset)}')"
   ]
  },
  {
   "cell_type": "markdown",
   "id": "9723cd4e",
   "metadata": {},
   "source": [
    "#### $\\color{green}{\\textbf{Lecture et fusion}}$"
   ]
  },
  {
   "cell_type": "code",
   "execution_count": 143,
   "id": "22e7539f",
   "metadata": {
    "scrolled": false
   },
   "outputs": [
    {
     "name": "stdout",
     "output_type": "stream",
     "text": [
      "df1 :  --> Coordinates\n",
      "df2 :  --> Coordinates\n",
      "Rows : 11, columns : 10, Unique values on cols: {'ID': 10}\n",
      "Rows : 1734, columns : 33, Unique values on cols: {'ID': 470}\n"
     ]
    },
    {
     "data": {
      "text/plain": [
       "(None, None)"
      ]
     },
     "execution_count": 143,
     "metadata": {},
     "output_type": "execute_result"
    }
   ],
   "source": [
    "file1= csv_data_dir + 'Phase_2_Memoris/source_merge/source_Measures.csv' # 3\n",
    "file2= csv_data_dir + 'database_Memoris3/source_merge/source_Measures.csv' # 7\n",
    "\n",
    "df1, df2 = create_df([file1, file2])\n",
    "dataframe_viewer(df1, rows=3, un_val='ID', view=view), dataframe_viewer(df2, rows=3, un_val='ID', view=view)"
   ]
  },
  {
   "cell_type": "code",
   "execution_count": 144,
   "id": "725d247d",
   "metadata": {},
   "outputs": [
    {
     "name": "stdout",
     "output_type": "stream",
     "text": [
      "0 Date_mes\n",
      "0 ID_ech\n",
      "0 ID\n",
      "1 Date_mes\n",
      "1 Date_for\n",
      "1 ID\n",
      "1 Residu_perte_feu\n",
      "1 ID_ech\n"
     ]
    }
   ],
   "source": [
    "df_list = [df1, df2]\n",
    "look_for = ['Date', 'ID']\n",
    "for i, df in enumerate(df_list):\n",
    "    for l in look_for:\n",
    "        for c in df.columns:\n",
    "            if re.search(l, c, re.I): print(i, c)"
   ]
  },
  {
   "cell_type": "code",
   "execution_count": 145,
   "id": "54b32120",
   "metadata": {
    "scrolled": true
   },
   "outputs": [],
   "source": [
    "mdf, conflict_df=data_merger(df1, df2, how='outer', on=['ID','ID_ech','Date_mes'], dist_max=1)"
   ]
  },
  {
   "cell_type": "code",
   "execution_count": 146,
   "id": "175e663b",
   "metadata": {},
   "outputs": [
    {
     "name": "stdout",
     "output_type": "stream",
     "text": [
      "74 Nan found in 'ID_ech' and fixed\n"
     ]
    }
   ],
   "source": [
    "datafr = mdf.copy() \n",
    "found = []\n",
    "for i in datafr.index:\n",
    "    if pd.isnull(datafr.loc[i, 'ID_ech']):\n",
    "        found.append(i)\n",
    "        datafr.loc[i, 'ID_ech'] = datafr.loc[i, 'ID']\n",
    "if found: print(f\"{len(found)} Nan found in 'ID_ech' and fixed\")"
   ]
  },
  {
   "cell_type": "code",
   "execution_count": 147,
   "id": "508147ae",
   "metadata": {},
   "outputs": [],
   "source": [
    "for i in datafr.index:\n",
    "    if re.search('FP 49 PROF', datafr.loc[i, 'ID_ech']):\n",
    "        datafr.loc[i, 'ID_ech'] = 'FP49 PROF'\n",
    "    elif re.search('FP 49 SUP', datafr.loc[i, 'ID_ech']):\n",
    "        datafr.loc[i, 'ID_ech'] = 'FP49 SUP'"
   ]
  },
  {
   "cell_type": "code",
   "execution_count": 148,
   "id": "32afdb80",
   "metadata": {},
   "outputs": [],
   "source": [
    "datafr = gen_id_from_ech(datafr, id_ech_col='ID_ech', suffixes=sufx, prefixes=prefx, capture_regex=id_reg)#, verbose=True)\n",
    "mdf = datafr.copy()"
   ]
  },
  {
   "cell_type": "code",
   "execution_count": 149,
   "id": "2f8c0943",
   "metadata": {},
   "outputs": [],
   "source": [
    "data = mdf\n",
    "dataset, conflict_df=data_merger(dataset, data, how='outer', on=['ID','ID_ech','Date_mes'], dist_max=1)"
   ]
  },
  {
   "cell_type": "code",
   "execution_count": 150,
   "id": "99889fab",
   "metadata": {
    "scrolled": true
   },
   "outputs": [
    {
     "name": "stdout",
     "output_type": "stream",
     "text": [
      "Dataset rows: 1794\n"
     ]
    }
   ],
   "source": [
    "print(f'Dataset rows: {len(dataset)}')"
   ]
  },
  {
   "cell_type": "markdown",
   "id": "62e7296e",
   "metadata": {},
   "source": [
    "#### $\\color{green}{\\textbf{Lecture et fusion}}$"
   ]
  },
  {
   "cell_type": "code",
   "execution_count": 151,
   "id": "353e5cbd",
   "metadata": {
    "scrolled": false
   },
   "outputs": [
    {
     "name": "stdout",
     "output_type": "stream",
     "text": [
      "df1 :  --> Coordinates\n",
      "df2 :  --> Coordinates\n",
      "Rows : 42, columns : 12, Unique values on cols: {'ID': 30}\n",
      "Rows : 1734, columns : 33, Unique values on cols: {'ID': 470}\n"
     ]
    },
    {
     "data": {
      "text/plain": [
       "(None, None)"
      ]
     },
     "execution_count": 151,
     "metadata": {},
     "output_type": "execute_result"
    }
   ],
   "source": [
    "file1= csv_data_dir + 'profils_sols_donnees_forages/source_merge/source_Measures.csv' # 10\n",
    "file2= csv_data_dir + 'database_Memoris3/source_merge/source_Measures.csv' # 12\n",
    "\n",
    "df1, df2 = create_df([file1, file2])\n",
    "dataframe_viewer(df1, rows=3, un_val='ID', view=view), dataframe_viewer(df2, rows=3, un_val='ID', view=view)"
   ]
  },
  {
   "cell_type": "code",
   "execution_count": 152,
   "id": "e008a568",
   "metadata": {},
   "outputs": [
    {
     "name": "stdout",
     "output_type": "stream",
     "text": [
      "0 Date_mes\n",
      "0 ID\n",
      "1 Date_mes\n",
      "1 Date_for\n",
      "1 ID\n",
      "1 Residu_perte_feu\n",
      "1 ID_ech\n"
     ]
    }
   ],
   "source": [
    "df_list = [df1, df2]\n",
    "look_for = ['Date', 'ID']\n",
    "for i, df in enumerate(df_list):\n",
    "    for l in look_for:\n",
    "        for c in df.columns:\n",
    "            if re.search(l, c, re.I): print(i, c)"
   ]
  },
  {
   "cell_type": "code",
   "execution_count": 153,
   "id": "ad5f2404",
   "metadata": {
    "scrolled": true
   },
   "outputs": [],
   "source": [
    "mdf, conflict_df=data_merger(df1, df2, how='outer', on=['ID','Date_mes'], dist_max=1)"
   ]
  },
  {
   "cell_type": "code",
   "execution_count": 154,
   "id": "48ffb8be",
   "metadata": {},
   "outputs": [
    {
     "name": "stdout",
     "output_type": "stream",
     "text": [
      "116 Nan found in 'ID_ech' and fixed\n"
     ]
    }
   ],
   "source": [
    "datafr = mdf.copy() \n",
    "found = []\n",
    "for i in datafr.index:\n",
    "    if pd.isnull(datafr.loc[i, 'ID_ech']):\n",
    "        found.append(i)\n",
    "        datafr.loc[i, 'ID_ech'] = datafr.loc[i, 'ID']\n",
    "if found: print(f\"{len(found)} Nan found in 'ID_ech' and fixed\")"
   ]
  },
  {
   "cell_type": "code",
   "execution_count": 155,
   "id": "8c717331",
   "metadata": {},
   "outputs": [],
   "source": [
    "datafr = gen_id_from_ech(datafr, id_ech_col='ID_ech', suffixes=sufx, prefixes=prefx, capture_regex=id_reg)\n",
    "mdf = datafr.copy()"
   ]
  },
  {
   "cell_type": "code",
   "execution_count": 156,
   "id": "194e0321",
   "metadata": {},
   "outputs": [
    {
     "name": "stdout",
     "output_type": "stream",
     "text": [
      "Conflict values present. Please resolve this manually !\n"
     ]
    }
   ],
   "source": [
    "data = mdf\n",
    "dataset, conflict_df=data_merger(dataset, data, how='outer', on=['ID','ID_ech','Date_mes'], dist_max=1)"
   ]
  },
  {
   "cell_type": "code",
   "execution_count": 157,
   "id": "02bc8e50",
   "metadata": {},
   "outputs": [
    {
     "name": "stdout",
     "output_type": "stream",
     "text": [
      "all conflicts have been fixed!\n"
     ]
    }
   ],
   "source": [
    "data_validation(overall_data=dataset, conflict_data=conflict_df, index_col='index', pass_col='ID', \n",
    "                valid_dict={'MS_x':list(conflict_df.index), 'pH_CaCl2_x':list(conflict_df.index)})\n",
    "\n",
    "if 'level_0' in dataset.columns:\n",
    "    if 'index' in dataset.columns:\n",
    "        dataset.drop(columns='index', inplace=True)\n",
    "    dataset.rename(columns={'level_0':'index'}, inplace=True)"
   ]
  },
  {
   "cell_type": "code",
   "execution_count": 158,
   "id": "40bb1ab3",
   "metadata": {
    "scrolled": true
   },
   "outputs": [
    {
     "name": "stdout",
     "output_type": "stream",
     "text": [
      "Dataset rows: 1978\n"
     ]
    }
   ],
   "source": [
    "print(f'Dataset rows: {len(dataset)}')"
   ]
  },
  {
   "cell_type": "markdown",
   "id": "4e2a72a6",
   "metadata": {},
   "source": [
    "#### $\\color{green}{\\textbf{Lecture et fusion}}$"
   ]
  },
  {
   "cell_type": "code",
   "execution_count": 159,
   "id": "d2c40b3c",
   "metadata": {
    "scrolled": false
   },
   "outputs": [
    {
     "name": "stdout",
     "output_type": "stream",
     "text": [
      "df1 :  --> No coordinates\n",
      "1 NaN lines dropped\n",
      "df2 :  --> No coordinates\n",
      "Rows : 5, columns : 14, Unique values on cols: {'ID': 'NA'}\n",
      "Rows : 43, columns : 12, Unique values on cols: {'ID': 6}\n"
     ]
    },
    {
     "name": "stderr",
     "output_type": "stream",
     "text": [
      "/home/yanathan/.local/share/virtualenvs/GSDMA-DRfwm83x/lib/python3.8/site-packages/pandas/core/frame.py:4906: SettingWithCopyWarning: \n",
      "A value is trying to be set on a copy of a slice from a DataFrame\n",
      "\n",
      "See the caveats in the documentation: https://pandas.pydata.org/pandas-docs/stable/user_guide/indexing.html#returning-a-view-versus-a-copy\n",
      "  return super().drop(\n"
     ]
    },
    {
     "data": {
      "text/plain": [
       "(None, None)"
      ]
     },
     "execution_count": 159,
     "metadata": {},
     "output_type": "execute_result"
    }
   ],
   "source": [
    "file1= csv_data_dir + 'Container_phyto/source_merge/source_Measures.csv' # 0\n",
    "file2= csv_data_dir + 'Siterem_Ext_Pilote/source_merge/source_Measures.csv' # 4\n",
    "\n",
    "df1, df2 = create_df([file1, file2])\n",
    "dataframe_viewer(df1, rows=3, un_val='ID', view=view), dataframe_viewer(df2, rows=3, un_val='ID', view=view)"
   ]
  },
  {
   "cell_type": "code",
   "execution_count": 160,
   "id": "768de1f0",
   "metadata": {},
   "outputs": [
    {
     "name": "stdout",
     "output_type": "stream",
     "text": [
      "0 Date_mes\n",
      "0 ID_ech\n",
      "0 Residu_perte_feu\n",
      "1 Date_mes\n",
      "1 ID_ech\n",
      "1 ID\n"
     ]
    }
   ],
   "source": [
    "df_list = [df1, df2]\n",
    "look_for = ['Date', 'ID']\n",
    "for i, df in enumerate(df_list):\n",
    "    for l in look_for:\n",
    "        for c in df.columns:\n",
    "            if re.search(l, c, re.I): print(i, c)"
   ]
  },
  {
   "cell_type": "code",
   "execution_count": 161,
   "id": "b39aa90b",
   "metadata": {},
   "outputs": [],
   "source": [
    "df2['ID_ech'] = df2['ID_ech'].astype('object')"
   ]
  },
  {
   "cell_type": "code",
   "execution_count": 162,
   "id": "6a1164e7",
   "metadata": {
    "scrolled": true
   },
   "outputs": [],
   "source": [
    "mdf, conflict_df=data_merger(df1, df2, how='outer', on=['ID_ech','Date_mes'], dist_max=1)"
   ]
  },
  {
   "cell_type": "code",
   "execution_count": 163,
   "id": "2b7569e4",
   "metadata": {},
   "outputs": [],
   "source": [
    "datafr = mdf.copy() \n",
    "found = []\n",
    "for i in datafr.index:\n",
    "    if pd.isnull(datafr.loc[i, 'ID_ech']):\n",
    "        found.append(i)\n",
    "        datafr.loc[i, 'ID_ech'] = datafr.loc[i, 'ID']\n",
    "if found: print(f\"{len(found)} Nan found in 'ID_ech' and fixed\")"
   ]
  },
  {
   "cell_type": "code",
   "execution_count": 164,
   "id": "a10cbbb3",
   "metadata": {},
   "outputs": [],
   "source": [
    "#datafr = gen_id_from_ech(datafr, id_ech_col='ID_ech', suffixes=sufx, prefixes=prefx, capture_regex=id_reg)\n",
    "mdf = datafr.copy()"
   ]
  },
  {
   "cell_type": "code",
   "execution_count": 165,
   "id": "d4afbd48",
   "metadata": {},
   "outputs": [],
   "source": [
    "data = mdf\n",
    "dataset, conflict_df=data_merger(dataset, data, how='outer', on=['ID_ech','Date_mes'], dist_max=1)"
   ]
  },
  {
   "cell_type": "code",
   "execution_count": 166,
   "id": "bb1c3852",
   "metadata": {
    "scrolled": true
   },
   "outputs": [
    {
     "name": "stdout",
     "output_type": "stream",
     "text": [
      "Dataset rows: 2026\n"
     ]
    }
   ],
   "source": [
    "print(f'Dataset rows: {len(dataset)}')"
   ]
  },
  {
   "cell_type": "markdown",
   "id": "87876ee3",
   "metadata": {},
   "source": [
    "#### $\\color{green}{\\textbf{Lecture et fusion}}$"
   ]
  },
  {
   "cell_type": "code",
   "execution_count": 167,
   "id": "e8632e3f",
   "metadata": {
    "scrolled": false
   },
   "outputs": [
    {
     "name": "stdout",
     "output_type": "stream",
     "text": [
      "df1 :  --> No coordinates\n",
      "1 NaN lines dropped\n",
      "df2 :  --> No coordinates\n",
      "Rows : 135, columns : 11, Unique values on cols: {'ID': 18}\n",
      "Rows : 58, columns : 13, Unique values on cols: {'ID': 22}\n"
     ]
    },
    {
     "data": {
      "text/plain": [
       "(None, None)"
      ]
     },
     "execution_count": 167,
     "metadata": {},
     "output_type": "execute_result"
    }
   ],
   "source": [
    "file1= csv_data_dir + 'Siterem_Pilote/source_merge/source_Measures.csv' #5\n",
    "file2= csv_data_dir + 'Siterem_Result_Sol/source_merge/source_Measures.csv' #6\n",
    "\n",
    "df1, df2 = create_df([file1, file2])\n",
    "dataframe_viewer(df1, rows=3, un_val='ID', view=view), dataframe_viewer(df2, rows=3, un_val='ID', view=view)"
   ]
  },
  {
   "cell_type": "code",
   "execution_count": 168,
   "id": "10cf9296",
   "metadata": {},
   "outputs": [
    {
     "name": "stdout",
     "output_type": "stream",
     "text": [
      "0 Date_mes\n",
      "0 ID_ech\n",
      "0 ID\n",
      "1 Date_mes\n",
      "1 ID_ech\n",
      "1 ID\n"
     ]
    }
   ],
   "source": [
    "df_list = [df1, df2]\n",
    "look_for = ['Date', 'ID']\n",
    "for i, df in enumerate(df_list):\n",
    "    for l in look_for:\n",
    "        for c in df.columns:\n",
    "            if re.search(l, c, re.I): print(i, c)"
   ]
  },
  {
   "cell_type": "code",
   "execution_count": 169,
   "id": "76df1e81",
   "metadata": {
    "scrolled": true
   },
   "outputs": [],
   "source": [
    "mdf, conflict_df=data_merger(df1, df2, how='outer', on=['ID','ID_ech','Date_mes'], dist_max=1)"
   ]
  },
  {
   "cell_type": "code",
   "execution_count": 170,
   "id": "947c40a2",
   "metadata": {},
   "outputs": [
    {
     "name": "stdout",
     "output_type": "stream",
     "text": [
      "40 Nan found in 'ID_ech' and fixed\n"
     ]
    }
   ],
   "source": [
    "datafr = mdf.copy() \n",
    "found = []\n",
    "for i in datafr.index:\n",
    "    if pd.isnull(datafr.loc[i, 'ID_ech']):\n",
    "        found.append(i)\n",
    "        datafr.loc[i, 'ID_ech'] = datafr.loc[i, 'ID']\n",
    "if found: print(f\"{len(found)} Nan found in 'ID_ech' and fixed\")"
   ]
  },
  {
   "cell_type": "code",
   "execution_count": 171,
   "id": "33534910",
   "metadata": {},
   "outputs": [],
   "source": [
    "datafr = gen_id_from_ech(datafr, id_ech_col='ID_ech', suffixes=sufx, prefixes=prefx, capture_regex=id_reg)\n",
    "mdf = datafr.copy()"
   ]
  },
  {
   "cell_type": "code",
   "execution_count": 172,
   "id": "a695664d",
   "metadata": {},
   "outputs": [],
   "source": [
    "data = mdf\n",
    "dataset, conflict_df=data_merger(dataset, data, how='outer', on=['ID','ID_ech','Date_mes'], dist_max=1)"
   ]
  },
  {
   "cell_type": "code",
   "execution_count": 173,
   "id": "25d89648",
   "metadata": {
    "scrolled": true
   },
   "outputs": [
    {
     "name": "stdout",
     "output_type": "stream",
     "text": [
      "Dataset rows: 2219\n"
     ]
    }
   ],
   "source": [
    "print(f'Dataset rows: {len(dataset)}')"
   ]
  },
  {
   "cell_type": "markdown",
   "id": "0388d02d",
   "metadata": {},
   "source": [
    "#### $\\color{green}{\\textbf{Lecture et fusion}}$"
   ]
  },
  {
   "cell_type": "code",
   "execution_count": 174,
   "id": "07e0f6b3",
   "metadata": {
    "scrolled": false
   },
   "outputs": [
    {
     "name": "stdout",
     "output_type": "stream",
     "text": [
      "3 NaN lines dropped\n",
      "df1 :  --> No coordinates\n",
      "df2 :  --> No coordinates\n",
      "Rows : 0, columns : 4, Unique values on cols: {'ID': 0}\n",
      "Rows : 27, columns : 10, Unique values on cols: {'ID': 27}\n"
     ]
    },
    {
     "data": {
      "text/plain": [
       "(None, None)"
      ]
     },
     "execution_count": 174,
     "metadata": {},
     "output_type": "execute_result"
    }
   ],
   "source": [
    "file1= csv_data_dir + 'donnees_terrain_2019/source_merge/source_Measures.csv' # 8\n",
    "file2= csv_data_dir + 'observ_terrain/source_merge/source_Measures.csv' # 9\n",
    "\n",
    "df1, df2 = create_df([file1, file2])\n",
    "dataframe_viewer(df1, rows=3, un_val='ID', view=view), dataframe_viewer(df2, rows=3, un_val='ID', view=view)"
   ]
  },
  {
   "cell_type": "code",
   "execution_count": 175,
   "id": "1b5510f4",
   "metadata": {},
   "outputs": [
    {
     "name": "stdout",
     "output_type": "stream",
     "text": [
      "0 Date_mes\n",
      "0 ID\n",
      "1 Date_mes\n",
      "1 ID\n"
     ]
    }
   ],
   "source": [
    "df_list = [df1, df2]\n",
    "look_for = ['Date', 'ID']\n",
    "for i, df in enumerate(df_list):\n",
    "    for l in look_for:\n",
    "        for c in df.columns:\n",
    "            if re.search(l, c, re.I): print(i, c)"
   ]
  },
  {
   "cell_type": "code",
   "execution_count": 176,
   "id": "768beea8",
   "metadata": {
    "scrolled": true
   },
   "outputs": [],
   "source": [
    "mdf, conflict_df=data_merger(df1, df2, how='outer', on=['ID','Date_mes'], dist_max=1)"
   ]
  },
  {
   "cell_type": "code",
   "execution_count": 177,
   "id": "93f51b71",
   "metadata": {},
   "outputs": [],
   "source": [
    "data = mdf\n",
    "dataset, conflict_df=data_merger(dataset, data, how='outer', on=['ID','Date_mes'], dist_max=1)"
   ]
  },
  {
   "cell_type": "code",
   "execution_count": 178,
   "id": "57870193",
   "metadata": {
    "scrolled": true
   },
   "outputs": [
    {
     "name": "stdout",
     "output_type": "stream",
     "text": [
      "Dataset rows: 2246\n"
     ]
    }
   ],
   "source": [
    "print(f'Dataset rows: {len(dataset)}')"
   ]
  },
  {
   "cell_type": "markdown",
   "id": "decb1a37",
   "metadata": {},
   "source": [
    "#### $\\color{green}{\\textbf{Lecture et fusion}}$"
   ]
  },
  {
   "cell_type": "code",
   "execution_count": 179,
   "id": "48eac259",
   "metadata": {
    "scrolled": false
   },
   "outputs": [
    {
     "name": "stdout",
     "output_type": "stream",
     "text": [
      "df1 :  --> No coordinates\n",
      "Rows : 53, columns : 13, Unique values on cols: {'ID': 19}\n"
     ]
    }
   ],
   "source": [
    "file1= csv_data_dir + 'result_sol_ext_pilote/source_merge/source_Measures.csv' # 11\n",
    "\n",
    "df1 = create_df([file1])[0]\n",
    "dataframe_viewer(df1, rows=3, un_val='ID', view=view)"
   ]
  },
  {
   "cell_type": "code",
   "execution_count": 180,
   "id": "733a849d",
   "metadata": {},
   "outputs": [
    {
     "name": "stdout",
     "output_type": "stream",
     "text": [
      "0 Date_mes\n",
      "0 ID\n",
      "0 ID_ech\n"
     ]
    }
   ],
   "source": [
    "df_list = [df1]\n",
    "look_for = ['Date', 'ID']\n",
    "for i, df in enumerate(df_list):\n",
    "    for l in look_for:\n",
    "        for c in df.columns:\n",
    "            if re.search(l, c, re.I): print(i, c)"
   ]
  },
  {
   "cell_type": "code",
   "execution_count": 181,
   "id": "25fcdccc",
   "metadata": {},
   "outputs": [],
   "source": [
    "data = df1\n",
    "dataset, conflict_df=data_merger(dataset, data, how='outer', on=['ID','ID_ech','Date_mes'], dist_max=1)"
   ]
  },
  {
   "cell_type": "code",
   "execution_count": 182,
   "id": "180486ea",
   "metadata": {
    "scrolled": true
   },
   "outputs": [
    {
     "name": "stdout",
     "output_type": "stream",
     "text": [
      "Dataset rows: 2260\n"
     ]
    }
   ],
   "source": [
    "print(f'Dataset rows: {len(dataset)}')"
   ]
  },
  {
   "cell_type": "markdown",
   "id": "d253a92a",
   "metadata": {},
   "source": [
    "####  $\\color{red}{\\textbf{Sauvegarde du jeu de données}}$"
   ]
  },
  {
   "cell_type": "code",
   "execution_count": 183,
   "id": "c3015a5e",
   "metadata": {
    "scrolled": true
   },
   "outputs": [
    {
     "name": "stdout",
     "output_type": "stream",
     "text": [
      "Rows : 2260, columns : 44, Unique values on cols: {'ID': 556, 'ID_ech': 1730}\n"
     ]
    },
    {
     "data": {
      "application/vnd.jupyter.widget-view+json": {
       "model_id": "b3131f3203cd46079ff6989c96c450f2",
       "version_major": 2,
       "version_minor": 0
      },
      "text/plain": [
       "interactive(children=(IntSlider(value=3, description='rows', max=2260, min=3, readout=False), IntSlider(value=…"
      ]
     },
     "metadata": {},
     "output_type": "display_data"
    }
   ],
   "source": [
    "data_dict['Measure'] = dataset.copy()\n",
    "dataframe_viewer(dataset, rows=3, un_val=['ID','ID_ech'])"
   ]
  },
  {
   "cell_type": "code",
   "execution_count": 184,
   "id": "467b9133",
   "metadata": {},
   "outputs": [],
   "source": [
    "dataset.to_csv(save_dir + 'Measures.csv', index=False)"
   ]
  },
  {
   "cell_type": "markdown",
   "id": "c82f0ff9",
   "metadata": {},
   "source": [
    "###  ===================================================="
   ]
  },
  {
   "cell_type": "markdown",
   "id": "043b8ba2",
   "metadata": {},
   "source": [
    "# Croisement et récupération de coordonnées"
   ]
  },
  {
   "cell_type": "code",
   "execution_count": 185,
   "id": "a1edf5f1",
   "metadata": {},
   "outputs": [],
   "source": [
    "bh_cols = ['ID','Zone','Sous_zone','Emplacement','X','Y','Z','Zsol','Date_for','Type','Long_for','Long_pz',\n",
    "           'Long_pz_sol','Diam_for','Diam_ext_pz','Diam_int_pz','Sect_crep','Ht_chbre','Ht_pz_sol','Refus',\n",
    "           'Type_refus','Method','Societe','Etude', 'Resp_chantier','Rmq']"
   ]
  },
  {
   "cell_type": "code",
   "execution_count": 186,
   "id": "9112bb48",
   "metadata": {},
   "outputs": [],
   "source": [
    "data_dict['Borehole'] = data_dict['Borehole'][bh_cols]"
   ]
  },
  {
   "cell_type": "code",
   "execution_count": 187,
   "id": "e6a06885",
   "metadata": {},
   "outputs": [],
   "source": [
    "coi = ['ID','X','Y','Z','Date_for','Long_for','Diam_for']\n",
    "bh_coords = data_dict['Borehole'][coi]"
   ]
  },
  {
   "cell_type": "markdown",
   "id": "261eee3c",
   "metadata": {},
   "source": [
    "### Lithologies"
   ]
  },
  {
   "cell_type": "code",
   "execution_count": 188,
   "id": "b7db8ad4",
   "metadata": {},
   "outputs": [
    {
     "name": "stdout",
     "output_type": "stream",
     "text": [
      "Conflict values present. Please resolve this manually !\n"
     ]
    }
   ],
   "source": [
    "data = data_dict['Litho'].copy()\n",
    "dataset, conflict_df=data_merger(data, bh_coords, how='left', on=['ID'], dist_max=1)"
   ]
  },
  {
   "cell_type": "code",
   "execution_count": 189,
   "id": "9f433af2",
   "metadata": {},
   "outputs": [
    {
     "name": "stdout",
     "output_type": "stream",
     "text": [
      "all conflicts have been fixed!\n"
     ]
    }
   ],
   "source": [
    "data_validation(overall_data=dataset, conflict_data=conflict_df, index_col='index', pass_col='ID', \n",
    "                valid_dict={'Long_for_x':list(conflict_df.index), 'Date_for_x':list(conflict_df.index)})\n",
    "\n",
    "if 'level_0' in dataset.columns:\n",
    "    if 'index' in dataset.columns:\n",
    "        dataset.drop(columns='index', inplace=True)\n",
    "    dataset.rename(columns={'level_0':'index'}, inplace=True)"
   ]
  },
  {
   "cell_type": "code",
   "execution_count": 190,
   "id": "ef3db7f8",
   "metadata": {},
   "outputs": [],
   "source": [
    "dataset.to_csv(save_dir + 'Cross_Litho-boreholes.csv', index=False)"
   ]
  },
  {
   "cell_type": "markdown",
   "id": "623a5ac4",
   "metadata": {},
   "source": [
    "### Samples"
   ]
  },
  {
   "cell_type": "code",
   "execution_count": 191,
   "id": "4012605c",
   "metadata": {},
   "outputs": [
    {
     "name": "stdout",
     "output_type": "stream",
     "text": [
      "Conflict values present. Please resolve this manually !\n"
     ]
    }
   ],
   "source": [
    "data = data_dict['Sample'].copy()\n",
    "dataset, conflict_df=data_merger(data, bh_coords, how='left', on=['ID'], dist_max=1)"
   ]
  },
  {
   "cell_type": "code",
   "execution_count": 192,
   "id": "51169713",
   "metadata": {},
   "outputs": [
    {
     "name": "stdout",
     "output_type": "stream",
     "text": [
      "all conflicts have been fixed!\n"
     ]
    }
   ],
   "source": [
    "data_validation(overall_data=dataset, conflict_data=conflict_df, index_col='index', pass_col='ID', \n",
    "                valid_dict={'Long_for_y':list(conflict_df.index)})\n",
    "\n",
    "if 'level_0' in dataset.columns:\n",
    "    if 'index' in dataset.columns:\n",
    "        dataset.drop(columns='index', inplace=True)\n",
    "    dataset.rename(columns={'level_0':'index'}, inplace=True)"
   ]
  },
  {
   "cell_type": "code",
   "execution_count": 193,
   "id": "46374169",
   "metadata": {},
   "outputs": [],
   "source": [
    "dataset.to_csv(save_dir + 'Cross_Samples-boreholes.csv', index=False)"
   ]
  },
  {
   "cell_type": "markdown",
   "id": "091de2b8",
   "metadata": {},
   "source": [
    "### measures"
   ]
  },
  {
   "cell_type": "code",
   "execution_count": 194,
   "id": "64b3ee82",
   "metadata": {},
   "outputs": [],
   "source": [
    "data = data_dict['Measure'].copy()\n",
    "dataset, conflict_df=data_merger(data, bh_coords, how='left', on=['ID', 'X'], dist_max=1)"
   ]
  },
  {
   "cell_type": "code",
   "execution_count": 196,
   "id": "68c2effe",
   "metadata": {},
   "outputs": [],
   "source": [
    "dataset.to_csv(save_dir + 'Cross_Measures-boreholes.csv', index=False)"
   ]
  },
  {
   "cell_type": "code",
   "execution_count": null,
   "id": "c2f9c83a",
   "metadata": {},
   "outputs": [],
   "source": []
  }
 ],
 "metadata": {
  "kernelspec": {
   "display_name": "Python 3 (ipykernel)",
   "language": "python",
   "name": "python3"
  },
  "language_info": {
   "codemirror_mode": {
    "name": "ipython",
    "version": 3
   },
   "file_extension": ".py",
   "mimetype": "text/x-python",
   "name": "python",
   "nbconvert_exporter": "python",
   "pygments_lexer": "ipython3",
   "version": "3.8.10"
  }
 },
 "nbformat": 4,
 "nbformat_minor": 5
}
