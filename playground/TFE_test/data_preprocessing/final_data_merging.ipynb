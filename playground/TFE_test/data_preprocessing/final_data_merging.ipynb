{
 "cells": [
  {
   "cell_type": "markdown",
   "id": "finite-killing",
   "metadata": {},
   "source": [
    "# FUSION FINALE DES JEUX DE DONNEES"
   ]
  },
  {
   "cell_type": "code",
   "execution_count": 77,
   "id": "educational-barrier",
   "metadata": {},
   "outputs": [],
   "source": [
    "from utils.io import dataframe_viewer, files_search, data_merger, data_validation, data_overview, \\\n",
    "gen_id_from_ech, na_line_drop, find_borehole_by_position, replicate_values\n",
    "\n",
    "import re, os\n",
    "import pandas as pd\n",
    "from utils.boreholes_synonyms import BOREHOLES_ENCOUNTERED\n",
    "from definitions import ROOT_DIR"
   ]
  },
  {
   "cell_type": "code",
   "execution_count": 2,
   "id": "representative-bunny",
   "metadata": {},
   "outputs": [],
   "source": [
    "def create_df(files, check_position=True, verbose=True): # find another name for this function\n",
    "    \"\"\"\n",
    "    create dataframes from files and test if they contain position informations\n",
    "    files: list of files name\n",
    "    \"\"\"\n",
    "    dfs = []\n",
    "    i = 0\n",
    "    for f in files:\n",
    "        i += 1\n",
    "        df = pd.read_csv(f, delimiter=',')\n",
    "        if check_position:\n",
    "            if 'X' in df.columns:\n",
    "                df['X'] = df['X'].apply(lambda x: x.replace(',','.') if isinstance(x, str) else x)\n",
    "                df['X'] = df['X'].astype('float64')\n",
    "            if 'Y' in df.columns:\n",
    "                df['Y'] = df['Y'].apply(lambda x: x.replace(',','.') if isinstance(x, str) else x)\n",
    "                df['Y'] = df['Y'].astype('float64')\n",
    "            if 'Z' in df.columns:\n",
    "                df['Z'] = df['Z'].apply(lambda x: x.replace(',','.') if isinstance(x, str) else x)\n",
    "                df['Z'] = df['Z'].astype('float64')\n",
    "        \n",
    "        df = na_line_drop(df, line_non_na=1)\n",
    "        dfs.append(df)\n",
    "        \n",
    "        if verbose:\n",
    "            if 'X' in list(df.columns): msg = ' --> Coordinates'\n",
    "            else: msg = ' --> No coordinates'\n",
    "\n",
    "            print(f\"df{i} : {msg}\")\n",
    "    \n",
    "            \n",
    "    return dfs"
   ]
  },
  {
   "cell_type": "code",
   "execution_count": 3,
   "id": "vanilla-bones",
   "metadata": {},
   "outputs": [],
   "source": [
    "csv_data_dir = ROOT_DIR + '/CF_data/Result_traitem/organisation/'\n",
    "save_dir = csv_data_dir + '../fusion_finale/'"
   ]
  },
  {
   "cell_type": "code",
   "execution_count": 4,
   "id": "bc3a5bdb",
   "metadata": {},
   "outputs": [
    {
     "data": {
      "text/plain": [
       "0"
      ]
     },
     "execution_count": 4,
     "metadata": {},
     "output_type": "execute_result"
    }
   ],
   "source": [
    "os.system(f\"rm -rf {save_dir}\") \n",
    "os.system(f\"mkdir {save_dir}\") "
   ]
  },
  {
   "cell_type": "code",
   "execution_count": 5,
   "id": "a4574f12",
   "metadata": {},
   "outputs": [],
   "source": [
    "sufx = ['sup', 'prof', 'inf', '/\\dM(\\*)?']\n",
    "prefx = ['eau forage ']\n",
    "id_reg = '\\s*(?P<id>(?:^canne |Piezair )*\\w*\\d+\\w*)\\s*'"
   ]
  },
  {
   "cell_type": "markdown",
   "id": "enhanced-noise",
   "metadata": {},
   "source": [
    "# Collecte des fichiers"
   ]
  },
  {
   "cell_type": "code",
   "execution_count": 6,
   "id": "confused-pleasure",
   "metadata": {},
   "outputs": [],
   "source": [
    "# create my dictionary structure to retrieve good files (Keynames !!!)\n",
    "files_dict={'Borehole':0,'Litho':0,'Equipm':0,'Measure':0,'Sample':0,'Unknow':0}\n",
    "data_dict={'Borehole':0,'Litho':0,'Equipm':0,'Measure':0,'Sample':0,'Unknow':0}"
   ]
  },
  {
   "cell_type": "code",
   "execution_count": 7,
   "id": "compliant-sensitivity",
   "metadata": {
    "scrolled": true
   },
   "outputs": [
    {
     "name": "stdout",
     "output_type": "stream",
     "text": [
      "Borehole  \t:  15\n",
      "Litho  \t:  4\n",
      "Equipm  \t:  5\n",
      "Measure  \t:  13\n",
      "Sample  \t:  13\n",
      "Unknow  \t:  1\n"
     ]
    }
   ],
   "source": [
    "files_search(csv_data_dir, files_dict, prefix='source', details=False)"
   ]
  },
  {
   "cell_type": "code",
   "execution_count": 8,
   "id": "possible-bones",
   "metadata": {},
   "outputs": [],
   "source": [
    "how=['inner', 'outer', 'left', 'right']\n",
    "view = False"
   ]
  },
  {
   "cell_type": "markdown",
   "id": "04d22ec7",
   "metadata": {},
   "source": [
    "## Forages"
   ]
  },
  {
   "cell_type": "code",
   "execution_count": 9,
   "id": "81b1328e",
   "metadata": {},
   "outputs": [
    {
     "name": "stdout",
     "output_type": "stream",
     "text": [
      "15 files\n"
     ]
    }
   ],
   "source": [
    "key='Borehole'\n",
    "dataset = pd.DataFrame()\n",
    "print(len(files_dict[key]), 'files')"
   ]
  },
  {
   "cell_type": "code",
   "execution_count": 10,
   "id": "66512dac",
   "metadata": {
    "scrolled": true
   },
   "outputs": [
    {
     "data": {
      "text/plain": [
       "['/home/yanathan/Projects/GSDMA/CF_data/Result_traitem/organisation/Forage_Pilote/source_merge/source_Boreholes.csv',\n",
       " '/home/yanathan/Projects/GSDMA/CF_data/Result_traitem/organisation/Memoris_seafile/source_merge/source_Boreholes.csv',\n",
       " '/home/yanathan/Projects/GSDMA/CF_data/Result_traitem/organisation/Phase_1_Memoris/source_merge/source_Boreholes.csv',\n",
       " '/home/yanathan/Projects/GSDMA/CF_data/Result_traitem/organisation/Phase_2_Memoris/source_merge/source_Boreholes.csv',\n",
       " '/home/yanathan/Projects/GSDMA/CF_data/Result_traitem/organisation/Prof_contact_sol_forage/source_merge/source_Boreholes.csv',\n",
       " '/home/yanathan/Projects/GSDMA/CF_data/Result_traitem/organisation/Siterem_Ext_Pilote/source_merge/source_Boreholes.csv',\n",
       " '/home/yanathan/Projects/GSDMA/CF_data/Result_traitem/organisation/Siterem_Pilote/source_merge/source_Boreholes.csv',\n",
       " '/home/yanathan/Projects/GSDMA/CF_data/Result_traitem/organisation/Siterem_Result_Sol/source_merge/source_Boreholes.csv',\n",
       " '/home/yanathan/Projects/GSDMA/CF_data/Result_traitem/organisation/coord_ext_pilote/source_merge/source_Boreholes.csv',\n",
       " '/home/yanathan/Projects/GSDMA/CF_data/Result_traitem/organisation/database_Memoris3/source_merge/source_Boreholes.csv',\n",
       " '/home/yanathan/Projects/GSDMA/CF_data/Result_traitem/organisation/donnees_terrain_2019/source_merge/source_Boreholes.csv',\n",
       " '/home/yanathan/Projects/GSDMA/CF_data/Result_traitem/organisation/observ_terrain/source_merge/source_Boreholes.csv',\n",
       " '/home/yanathan/Projects/GSDMA/CF_data/Result_traitem/organisation/profils_sols_donnees_forages/source_merge/source_Boreholes.csv',\n",
       " '/home/yanathan/Projects/GSDMA/CF_data/Result_traitem/organisation/result_sol_ext_pilote/source_merge/source_Boreholes.csv',\n",
       " '/home/yanathan/Projects/GSDMA/CF_data/Result_traitem/organisation/vUmons_logsFor/source_merge/source_Boreholes.csv']"
      ]
     },
     "execution_count": 10,
     "metadata": {},
     "output_type": "execute_result"
    }
   ],
   "source": [
    "files_dict[key]"
   ]
  },
  {
   "cell_type": "code",
   "execution_count": 11,
   "id": "ae33248c",
   "metadata": {},
   "outputs": [
    {
     "name": "stdout",
     "output_type": "stream",
     "text": [
      "Same files:[]\n",
      "Files with coordinates:[1, 2, 3, 4, 8, 9, 10, 12, 14]\n",
      "Files without coordinates:[0, 5, 6, 7, 11, 13]\n"
     ]
    }
   ],
   "source": [
    "data_overview(files_dict[key])"
   ]
  },
  {
   "cell_type": "markdown",
   "id": "f7c7a868",
   "metadata": {},
   "source": [
    "#### $\\color{green}{\\textbf{Lecture et fusion}}$"
   ]
  },
  {
   "cell_type": "code",
   "execution_count": 12,
   "id": "d17a9105",
   "metadata": {
    "scrolled": false
   },
   "outputs": [
    {
     "name": "stdout",
     "output_type": "stream",
     "text": [
      "df1 :  --> Coordinates\n",
      "df2 :  --> Coordinates\n",
      "Rows : 57, columns : 8, Unique values on cols: {'ID': 57}\n",
      "Rows : 14, columns : 7, Unique values on cols: {'ID': 14}\n"
     ]
    },
    {
     "data": {
      "text/plain": [
       "(None, None)"
      ]
     },
     "execution_count": 12,
     "metadata": {},
     "output_type": "execute_result"
    }
   ],
   "source": [
    "file1= csv_data_dir + 'Memoris_seafile/source_merge/source_Boreholes.csv' # 1\n",
    "file2= csv_data_dir + 'Phase_1_Memoris/source_merge/source_Boreholes.csv' # 2\n",
    "\n",
    "df1, df2 = create_df([file1, file2])\n",
    "dataframe_viewer(df1, rows=3, un_val='ID', view=view), dataframe_viewer(df2, rows=3, un_val='ID', view=view)"
   ]
  },
  {
   "cell_type": "code",
   "execution_count": 13,
   "id": "abfb0026",
   "metadata": {
    "scrolled": true
   },
   "outputs": [],
   "source": [
    "mdf, conflict_df=data_merger(df1, df2, how='outer', on=['ID'], dist_max=1)"
   ]
  },
  {
   "cell_type": "code",
   "execution_count": 14,
   "id": "8d73ea53",
   "metadata": {},
   "outputs": [],
   "source": [
    "dataset = mdf.copy()"
   ]
  },
  {
   "cell_type": "code",
   "execution_count": 15,
   "id": "048bd93f",
   "metadata": {},
   "outputs": [
    {
     "name": "stdout",
     "output_type": "stream",
     "text": [
      "Dataset rows: 69\n"
     ]
    }
   ],
   "source": [
    "print(f'Dataset rows: {len(dataset)}')"
   ]
  },
  {
   "cell_type": "markdown",
   "id": "dd6a70a0",
   "metadata": {},
   "source": [
    "#### $\\color{green}{\\textbf{Lecture et fusion}}$"
   ]
  },
  {
   "cell_type": "code",
   "execution_count": 16,
   "id": "ede67f61",
   "metadata": {
    "scrolled": false
   },
   "outputs": [
    {
     "name": "stdout",
     "output_type": "stream",
     "text": [
      "df1 :  --> Coordinates\n",
      "df2 :  --> Coordinates\n",
      "Rows : 23, columns : 8, Unique values on cols: {'ID': 23}\n",
      "Rows : 8, columns : 6, Unique values on cols: {'ID': 8}\n"
     ]
    },
    {
     "data": {
      "text/plain": [
       "(None, None)"
      ]
     },
     "execution_count": 16,
     "metadata": {},
     "output_type": "execute_result"
    }
   ],
   "source": [
    "file1= csv_data_dir + 'Phase_2_Memoris/source_merge/source_Boreholes.csv' # 3\n",
    "file2= csv_data_dir + 'Prof_contact_sol_forage/source_merge/source_Boreholes.csv' # 4\n",
    "\n",
    "df1, df2 = create_df([file1, file2])\n",
    "dataframe_viewer(df1, rows=3, un_val='ID', view=view), dataframe_viewer(df2, rows=3, un_val='ID', view=view)"
   ]
  },
  {
   "cell_type": "code",
   "execution_count": 17,
   "id": "3a7dd6d0",
   "metadata": {
    "scrolled": true
   },
   "outputs": [],
   "source": [
    "mdf, conflict_df=data_merger(df1, df2, how='outer', on=['ID'], dist_max=1)"
   ]
  },
  {
   "cell_type": "code",
   "execution_count": 18,
   "id": "ce0bc414",
   "metadata": {},
   "outputs": [],
   "source": [
    "data = mdf\n",
    "dataset, conflict_df=data_merger(dataset, data, how='outer', on=['ID'], dist_max=1)"
   ]
  },
  {
   "cell_type": "code",
   "execution_count": 19,
   "id": "5ed89c8a",
   "metadata": {},
   "outputs": [
    {
     "name": "stdout",
     "output_type": "stream",
     "text": [
      "Rows : 23, columns : 8, Unique values on cols: {'ID': 23}\n"
     ]
    },
    {
     "data": {
      "application/vnd.jupyter.widget-view+json": {
       "model_id": "77b4148799e3492bbdf5a1d41222d4b4",
       "version_major": 2,
       "version_minor": 0
      },
      "text/plain": [
       "interactive(children=(IntSlider(value=3, description='rows', max=23, min=3, readout=False), IntSlider(value=8,…"
      ]
     },
     "metadata": {},
     "output_type": "display_data"
    },
    {
     "name": "stdout",
     "output_type": "stream",
     "text": [
      "Rows : 8, columns : 6, Unique values on cols: {'ID': 8}\n"
     ]
    },
    {
     "data": {
      "application/vnd.jupyter.widget-view+json": {
       "model_id": "186f12e78caf4bc791579b14f7eddbbe",
       "version_major": 2,
       "version_minor": 0
      },
      "text/plain": [
       "interactive(children=(IntSlider(value=3, description='rows', max=8, min=3, readout=False), IntSlider(value=6, …"
      ]
     },
     "metadata": {},
     "output_type": "display_data"
    },
    {
     "name": "stdout",
     "output_type": "stream",
     "text": [
      "Rows : 78, columns : 10, Unique values on cols: {'ID': 78}\n"
     ]
    },
    {
     "data": {
      "application/vnd.jupyter.widget-view+json": {
       "model_id": "9ccd3123a73c4bb4869e0f0223e4337f",
       "version_major": 2,
       "version_minor": 0
      },
      "text/plain": [
       "interactive(children=(IntSlider(value=5, description='rows', max=78, min=5, readout=False), IntSlider(value=10…"
      ]
     },
     "metadata": {},
     "output_type": "display_data"
    },
    {
     "name": "stdout",
     "output_type": "stream",
     "text": [
      "Rows : 0, columns : 0, Unique values on cols: {'ID': 'NA'}\n"
     ]
    },
    {
     "data": {
      "application/vnd.jupyter.widget-view+json": {
       "model_id": "456c99a73dbb4031b69a1a6d6187e444",
       "version_major": 2,
       "version_minor": 0
      },
      "text/plain": [
       "interactive(children=(IntSlider(value=0, description='rows', max=0, readout=False), IntSlider(value=0, descrip…"
      ]
     },
     "metadata": {},
     "output_type": "display_data"
    }
   ],
   "source": [
    "v = True\n",
    "dataframe_viewer(df1, rows=3, un_val='ID', view=v)\n",
    "dataframe_viewer(df2, rows=3, un_val='ID', view=v)\n",
    "dataframe_viewer(dataset, rows=5, un_val='ID', view=v)\n",
    "dataframe_viewer(conflict_df, rows=5, un_val='ID', view=v)"
   ]
  },
  {
   "cell_type": "code",
   "execution_count": 20,
   "id": "c12aa198",
   "metadata": {},
   "outputs": [
    {
     "name": "stdout",
     "output_type": "stream",
     "text": [
      "Dataset rows: 78\n"
     ]
    }
   ],
   "source": [
    "print(f'Dataset rows: {len(dataset)}')"
   ]
  },
  {
   "cell_type": "markdown",
   "id": "f3dceb39",
   "metadata": {},
   "source": [
    "#### $\\color{green}{\\textbf{Lecture et fusion}}$"
   ]
  },
  {
   "cell_type": "code",
   "execution_count": 21,
   "id": "6f29aa4f",
   "metadata": {
    "scrolled": false
   },
   "outputs": [
    {
     "name": "stdout",
     "output_type": "stream",
     "text": [
      "df1 :  --> Coordinates\n",
      "df2 :  --> Coordinates\n",
      "Rows : 510, columns : 20, Unique values on cols: {'ID': 508}\n",
      "Rows : 25, columns : 17, Unique values on cols: {'ID': 25}\n"
     ]
    },
    {
     "data": {
      "text/plain": [
       "(None, None)"
      ]
     },
     "execution_count": 21,
     "metadata": {},
     "output_type": "execute_result"
    }
   ],
   "source": [
    "file1= csv_data_dir + 'database_Memoris3/source_merge/source_Boreholes.csv' # 8\n",
    "file2= csv_data_dir + 'donnees_terrain_2019/source_merge/source_Boreholes.csv' # 9\n",
    "\n",
    "df1, df2 = create_df([file1, file2])\n",
    "dataframe_viewer(df1, rows=3, un_val='ID', view=view), dataframe_viewer(df2, rows=3, un_val='ID', view=view)"
   ]
  },
  {
   "cell_type": "code",
   "execution_count": 22,
   "id": "afffbf2b",
   "metadata": {
    "scrolled": true
   },
   "outputs": [],
   "source": [
    "mdf, conflict_df=data_merger(df1, df2, how='outer', on=['ID'], dist_max=1)"
   ]
  },
  {
   "cell_type": "code",
   "execution_count": 23,
   "id": "a26a136b",
   "metadata": {},
   "outputs": [
    {
     "name": "stdout",
     "output_type": "stream",
     "text": [
      "Conflict values present. Please resolve this manually !\n"
     ]
    }
   ],
   "source": [
    "data = mdf\n",
    "dataset, conflict_df=data_merger(dataset, data, how='outer', on=['ID'], dist_max=1)"
   ]
  },
  {
   "cell_type": "code",
   "execution_count": 24,
   "id": "39170859",
   "metadata": {},
   "outputs": [
    {
     "name": "stdout",
     "output_type": "stream",
     "text": [
      "Rows : 510, columns : 20, Unique values on cols: {'ID': 508}\n"
     ]
    },
    {
     "data": {
      "application/vnd.jupyter.widget-view+json": {
       "model_id": "6f62119a77b547a185616814ecfcf994",
       "version_major": 2,
       "version_minor": 0
      },
      "text/plain": [
       "interactive(children=(IntSlider(value=3, description='rows', max=510, min=3, readout=False), IntSlider(value=1…"
      ]
     },
     "metadata": {},
     "output_type": "display_data"
    },
    {
     "name": "stdout",
     "output_type": "stream",
     "text": [
      "Rows : 25, columns : 17, Unique values on cols: {'ID': 25}\n"
     ]
    },
    {
     "data": {
      "application/vnd.jupyter.widget-view+json": {
       "model_id": "aca96bb611a54c789fecf9085f346a72",
       "version_major": 2,
       "version_minor": 0
      },
      "text/plain": [
       "interactive(children=(IntSlider(value=3, description='rows', max=25, min=3, readout=False), IntSlider(value=12…"
      ]
     },
     "metadata": {},
     "output_type": "display_data"
    },
    {
     "name": "stdout",
     "output_type": "stream",
     "text": [
      "Rows : 596, columns : 26, Unique values on cols: {'ID': 594}\n"
     ]
    },
    {
     "data": {
      "application/vnd.jupyter.widget-view+json": {
       "model_id": "2b63badcaff848dcbb0448c2b8edb67c",
       "version_major": 2,
       "version_minor": 0
      },
      "text/plain": [
       "interactive(children=(IntSlider(value=5, description='rows', max=596, min=5, readout=False), IntSlider(value=1…"
      ]
     },
     "metadata": {},
     "output_type": "display_data"
    },
    {
     "name": "stdout",
     "output_type": "stream",
     "text": [
      "Rows : 16, columns : 6, Unique values on cols: {'ID': 16}\n"
     ]
    },
    {
     "data": {
      "application/vnd.jupyter.widget-view+json": {
       "model_id": "9753cb89484e4951aa11c0a2e38b25cb",
       "version_major": 2,
       "version_minor": 0
      },
      "text/plain": [
       "interactive(children=(IntSlider(value=5, description='rows', max=16, min=5, readout=False), IntSlider(value=6,…"
      ]
     },
     "metadata": {},
     "output_type": "display_data"
    }
   ],
   "source": [
    "view = True\n",
    "dataframe_viewer(df1, rows=3, un_val='ID', view=view)\n",
    "dataframe_viewer(df2, rows=3, un_val='ID', view=view)\n",
    "dataframe_viewer(dataset, rows=5, un_val='ID', view=view)\n",
    "dataframe_viewer(conflict_df, rows=5, un_val='ID', view=view)"
   ]
  },
  {
   "cell_type": "code",
   "execution_count": 25,
   "id": "f3471a09",
   "metadata": {},
   "outputs": [
    {
     "name": "stdout",
     "output_type": "stream",
     "text": [
      "all conflicts have been fixed!\n"
     ]
    }
   ],
   "source": [
    "data_validation(overall_data=dataset, conflict_data=conflict_df, index_col='index', pass_col='ID', \n",
    "                valid_dict={'Type_y':list(conflict_df.index), 'Long_for_y':list(conflict_df.index)})\n",
    "\n",
    "if 'level_0' in dataset.columns:\n",
    "    if 'index' in dataset.columns:\n",
    "        dataset.drop(columns='index', inplace=True)\n",
    "    dataset.rename(columns={'level_0':'index'}, inplace=True)"
   ]
  },
  {
   "cell_type": "code",
   "execution_count": 26,
   "id": "5bdf252b",
   "metadata": {},
   "outputs": [
    {
     "name": "stdout",
     "output_type": "stream",
     "text": [
      "Dataset rows: 596\n"
     ]
    }
   ],
   "source": [
    "print(f'Dataset rows: {len(dataset)}')"
   ]
  },
  {
   "cell_type": "markdown",
   "id": "39aff8ef",
   "metadata": {},
   "source": [
    "#### $\\color{green}{\\textbf{Lecture et fusion}}$"
   ]
  },
  {
   "cell_type": "code",
   "execution_count": 27,
   "id": "2ba0f518",
   "metadata": {
    "scrolled": false
   },
   "outputs": [
    {
     "name": "stdout",
     "output_type": "stream",
     "text": [
      "df1 :  --> Coordinates\n",
      "df2 :  --> Coordinates\n",
      "Rows : 27, columns : 19, Unique values on cols: {'ID': 27}\n"
     ]
    },
    {
     "data": {
      "application/vnd.jupyter.widget-view+json": {
       "model_id": "225a21379cc1473fa172991231c36d0b",
       "version_major": 2,
       "version_minor": 0
      },
      "text/plain": [
       "interactive(children=(IntSlider(value=3, description='rows', max=27, min=3, readout=False), IntSlider(value=12…"
      ]
     },
     "metadata": {},
     "output_type": "display_data"
    },
    {
     "name": "stdout",
     "output_type": "stream",
     "text": [
      "Rows : 78, columns : 9, Unique values on cols: {'ID': 77}\n"
     ]
    },
    {
     "data": {
      "application/vnd.jupyter.widget-view+json": {
       "model_id": "bcfd95211a8a4ff38aa9aa04d23696d0",
       "version_major": 2,
       "version_minor": 0
      },
      "text/plain": [
       "interactive(children=(IntSlider(value=3, description='rows', max=78, min=3, readout=False), IntSlider(value=9,…"
      ]
     },
     "metadata": {},
     "output_type": "display_data"
    },
    {
     "data": {
      "text/plain": [
       "(None, None)"
      ]
     },
     "execution_count": 27,
     "metadata": {},
     "output_type": "execute_result"
    }
   ],
   "source": [
    "file1= csv_data_dir + 'profils_sols_donnees_forages/source_merge/source_Boreholes.csv' # 11\n",
    "file2= csv_data_dir + 'vUmons_logsFor/source_merge/source_Boreholes.csv' # 13\n",
    "\n",
    "df1, df2 = create_df([file1, file2])\n",
    "dataframe_viewer(df1, rows=3, un_val='ID', view=view), dataframe_viewer(df2, rows=3, un_val='ID', view=view)"
   ]
  },
  {
   "cell_type": "code",
   "execution_count": 28,
   "id": "ca5df08d",
   "metadata": {
    "scrolled": true
   },
   "outputs": [],
   "source": [
    "mdf, conflict_df=data_merger(df1, df2, how='outer', on=['ID'], dist_max=1)"
   ]
  },
  {
   "cell_type": "code",
   "execution_count": 29,
   "id": "0314ef10",
   "metadata": {},
   "outputs": [
    {
     "name": "stdout",
     "output_type": "stream",
     "text": [
      "Conflict values present. Please resolve this manually !\n"
     ]
    }
   ],
   "source": [
    "data = mdf\n",
    "dataset, conflict_df=data_merger(dataset, data, how='outer', on=['ID'], dist_max=1)"
   ]
  },
  {
   "cell_type": "code",
   "execution_count": 30,
   "id": "619d8d82",
   "metadata": {},
   "outputs": [
    {
     "name": "stdout",
     "output_type": "stream",
     "text": [
      "all conflicts have been fixed!\n"
     ]
    }
   ],
   "source": [
    "data_validation(overall_data=dataset, conflict_data=conflict_df, index_col='index', pass_col='ID', \n",
    "                valid_dict={'Date_for_y':list(conflict_df.index), 'Type_y':list(conflict_df.index), \n",
    "                            'Long_for_y':list(conflict_df.index)})\n",
    "\n",
    "if 'level_0' in dataset.columns:\n",
    "    if 'index' in dataset.columns:\n",
    "        dataset.drop(columns='index', inplace=True)\n",
    "    dataset.rename(columns={'level_0':'index'}, inplace=True)"
   ]
  },
  {
   "cell_type": "code",
   "execution_count": 31,
   "id": "66451201",
   "metadata": {},
   "outputs": [
    {
     "name": "stdout",
     "output_type": "stream",
     "text": [
      "Dataset rows: 668\n"
     ]
    }
   ],
   "source": [
    "print(f'Dataset rows: {len(dataset)}')"
   ]
  },
  {
   "cell_type": "markdown",
   "id": "8e2b4376",
   "metadata": {},
   "source": [
    "#### $\\color{green}{\\textbf{Lecture et fusion}}$"
   ]
  },
  {
   "cell_type": "code",
   "execution_count": 32,
   "id": "4fbaa65c",
   "metadata": {
    "scrolled": false
   },
   "outputs": [
    {
     "name": "stdout",
     "output_type": "stream",
     "text": [
      "14 NaN lines dropped\n",
      "df1 :  --> No coordinates\n",
      "df2 :  --> No coordinates\n",
      "Rows : 58, columns : 5, Unique values on cols: {'ID': 58}\n"
     ]
    },
    {
     "name": "stderr",
     "output_type": "stream",
     "text": [
      "/home/yanathan/.local/share/virtualenvs/GSDMA-DRfwm83x/lib/python3.8/site-packages/pandas/core/frame.py:4906: SettingWithCopyWarning: \n",
      "A value is trying to be set on a copy of a slice from a DataFrame\n",
      "\n",
      "See the caveats in the documentation: https://pandas.pydata.org/pandas-docs/stable/user_guide/indexing.html#returning-a-view-versus-a-copy\n",
      "  return super().drop(\n"
     ]
    },
    {
     "data": {
      "application/vnd.jupyter.widget-view+json": {
       "model_id": "fa439166490b42efb1884709f8d17dfb",
       "version_major": 2,
       "version_minor": 0
      },
      "text/plain": [
       "interactive(children=(IntSlider(value=3, description='rows', max=58, min=3, readout=False), IntSlider(value=5,…"
      ]
     },
     "metadata": {},
     "output_type": "display_data"
    },
    {
     "name": "stdout",
     "output_type": "stream",
     "text": [
      "Rows : 10, columns : 5, Unique values on cols: {'ID': 6}\n"
     ]
    },
    {
     "data": {
      "application/vnd.jupyter.widget-view+json": {
       "model_id": "11f17e111fa94830a449830f976d8b42",
       "version_major": 2,
       "version_minor": 0
      },
      "text/plain": [
       "interactive(children=(IntSlider(value=3, description='rows', max=10, min=3, readout=False), IntSlider(value=5,…"
      ]
     },
     "metadata": {},
     "output_type": "display_data"
    },
    {
     "data": {
      "text/plain": [
       "(None, None)"
      ]
     },
     "execution_count": 32,
     "metadata": {},
     "output_type": "execute_result"
    }
   ],
   "source": [
    "file1= csv_data_dir + 'Forage_Pilote/source_merge/source_Boreholes.csv' # 0\n",
    "file2= csv_data_dir + 'Siterem_Ext_Pilote/source_merge/source_Boreholes.csv' # 5\n",
    "\n",
    "df1, df2 = create_df([file1, file2])\n",
    "dataframe_viewer(df1, rows=3, un_val='ID', view=view), dataframe_viewer(df2, rows=3, un_val='ID', view=view)"
   ]
  },
  {
   "cell_type": "code",
   "execution_count": 33,
   "id": "d52e8cbb",
   "metadata": {},
   "outputs": [],
   "source": [
    "df2['ID'] = df2['ID'].astype('object')"
   ]
  },
  {
   "cell_type": "code",
   "execution_count": 34,
   "id": "94ebe75b",
   "metadata": {
    "scrolled": true
   },
   "outputs": [],
   "source": [
    "mdf, conflict_df=data_merger(df1, df2, how='outer', on=['ID'], dist_max=1)"
   ]
  },
  {
   "cell_type": "code",
   "execution_count": 35,
   "id": "cc03af66",
   "metadata": {},
   "outputs": [
    {
     "name": "stdout",
     "output_type": "stream",
     "text": [
      "Conflict values present. Please resolve this manually !\n"
     ]
    }
   ],
   "source": [
    "data = mdf\n",
    "dataset, conflict_df=data_merger(dataset, data, how='outer', on=['ID'], dist_max=1)"
   ]
  },
  {
   "cell_type": "code",
   "execution_count": 36,
   "id": "a2ea8df5",
   "metadata": {},
   "outputs": [
    {
     "name": "stdout",
     "output_type": "stream",
     "text": [
      "all conflicts have been fixed!\n"
     ]
    }
   ],
   "source": [
    "data_validation(overall_data=dataset, conflict_data=conflict_df, index_col='index', pass_col='ID', \n",
    "                valid_dict={'Z_x':list(conflict_df.index), 'Type_x':list(conflict_df.index), \n",
    "                            'Long_for_x':list(conflict_df.index)})\n",
    "\n",
    "if 'level_0' in dataset.columns:\n",
    "    if 'index' in dataset.columns:\n",
    "        dataset.drop(columns='index', inplace=True)\n",
    "    dataset.rename(columns={'level_0':'index'}, inplace=True)"
   ]
  },
  {
   "cell_type": "code",
   "execution_count": 37,
   "id": "9ca6d82b",
   "metadata": {},
   "outputs": [
    {
     "name": "stdout",
     "output_type": "stream",
     "text": [
      "Dataset rows: 692\n"
     ]
    }
   ],
   "source": [
    "print(f'Dataset rows: {len(dataset)}')"
   ]
  },
  {
   "cell_type": "markdown",
   "id": "eeaea63c",
   "metadata": {},
   "source": [
    "#### $\\color{green}{\\textbf{Lecture et fusion}}$"
   ]
  },
  {
   "cell_type": "code",
   "execution_count": 38,
   "id": "0c83cd60",
   "metadata": {
    "scrolled": false
   },
   "outputs": [
    {
     "name": "stdout",
     "output_type": "stream",
     "text": [
      "22 NaN lines dropped\n",
      "df1 :  --> No coordinates\n",
      "22 NaN lines dropped\n",
      "df2 :  --> No coordinates\n",
      "Rows : 0, columns : 4, Unique values on cols: {'ID': 0}\n"
     ]
    },
    {
     "name": "stderr",
     "output_type": "stream",
     "text": [
      "/home/yanathan/.local/share/virtualenvs/GSDMA-DRfwm83x/lib/python3.8/site-packages/pandas/core/frame.py:4906: SettingWithCopyWarning: \n",
      "A value is trying to be set on a copy of a slice from a DataFrame\n",
      "\n",
      "See the caveats in the documentation: https://pandas.pydata.org/pandas-docs/stable/user_guide/indexing.html#returning-a-view-versus-a-copy\n",
      "  return super().drop(\n"
     ]
    },
    {
     "data": {
      "application/vnd.jupyter.widget-view+json": {
       "model_id": "0458c1037f894405a825e342e78033c5",
       "version_major": 2,
       "version_minor": 0
      },
      "text/plain": [
       "interactive(children=(IntSlider(value=0, description='rows', max=0, readout=False), IntSlider(value=4, descrip…"
      ]
     },
     "metadata": {},
     "output_type": "display_data"
    },
    {
     "name": "stdout",
     "output_type": "stream",
     "text": [
      "Rows : 0, columns : 4, Unique values on cols: {'ID': 0}\n"
     ]
    },
    {
     "data": {
      "application/vnd.jupyter.widget-view+json": {
       "model_id": "37aa6f9fad6d4a3490feead9f7b5b050",
       "version_major": 2,
       "version_minor": 0
      },
      "text/plain": [
       "interactive(children=(IntSlider(value=0, description='rows', max=0, readout=False), IntSlider(value=4, descrip…"
      ]
     },
     "metadata": {},
     "output_type": "display_data"
    },
    {
     "data": {
      "text/plain": [
       "(None, None)"
      ]
     },
     "execution_count": 38,
     "metadata": {},
     "output_type": "execute_result"
    }
   ],
   "source": [
    "file1= csv_data_dir + 'Siterem_Pilote/source_merge/source_Boreholes.csv' # 6\n",
    "file2= csv_data_dir + 'Siterem_Result_Sol/source_merge/source_Boreholes.csv' # 7\n",
    "\n",
    "df1, df2 = create_df([file1, file2])\n",
    "dataframe_viewer(df1, rows=3, un_val='ID', view=view), dataframe_viewer(df2, rows=3, un_val='ID', view=view)"
   ]
  },
  {
   "cell_type": "code",
   "execution_count": 39,
   "id": "9e9630c8",
   "metadata": {
    "scrolled": true
   },
   "outputs": [],
   "source": [
    "mdf, conflict_df=data_merger(df1, df2, how='outer', on=['ID'], dist_max=1)"
   ]
  },
  {
   "cell_type": "code",
   "execution_count": 40,
   "id": "9a00cbca",
   "metadata": {},
   "outputs": [],
   "source": [
    "data = mdf\n",
    "dataset, conflict_df=data_merger(dataset, data, how='outer', on=['ID'], dist_max=1)"
   ]
  },
  {
   "cell_type": "code",
   "execution_count": 41,
   "id": "b0f3bb83",
   "metadata": {},
   "outputs": [
    {
     "name": "stdout",
     "output_type": "stream",
     "text": [
      "Dataset rows: 692\n"
     ]
    }
   ],
   "source": [
    "print(f'Dataset rows: {len(dataset)}')"
   ]
  },
  {
   "cell_type": "markdown",
   "id": "aac9cde7",
   "metadata": {},
   "source": [
    "#### $\\color{green}{\\textbf{Lecture et fusion}}$"
   ]
  },
  {
   "cell_type": "code",
   "execution_count": 42,
   "id": "e70dd0c2",
   "metadata": {
    "scrolled": false
   },
   "outputs": [
    {
     "name": "stdout",
     "output_type": "stream",
     "text": [
      "df1 :  --> No coordinates\n",
      "19 NaN lines dropped\n",
      "df2 :  --> No coordinates\n",
      "Rows : 27, columns : 6, Unique values on cols: {'ID': 27}\n"
     ]
    },
    {
     "name": "stderr",
     "output_type": "stream",
     "text": [
      "/home/yanathan/.local/share/virtualenvs/GSDMA-DRfwm83x/lib/python3.8/site-packages/pandas/core/frame.py:4906: SettingWithCopyWarning: \n",
      "A value is trying to be set on a copy of a slice from a DataFrame\n",
      "\n",
      "See the caveats in the documentation: https://pandas.pydata.org/pandas-docs/stable/user_guide/indexing.html#returning-a-view-versus-a-copy\n",
      "  return super().drop(\n"
     ]
    },
    {
     "data": {
      "application/vnd.jupyter.widget-view+json": {
       "model_id": "5cbaa9faca87423583181b51f6b7d551",
       "version_major": 2,
       "version_minor": 0
      },
      "text/plain": [
       "interactive(children=(IntSlider(value=3, description='rows', max=27, min=3, readout=False), IntSlider(value=6,…"
      ]
     },
     "metadata": {},
     "output_type": "display_data"
    },
    {
     "name": "stdout",
     "output_type": "stream",
     "text": [
      "Rows : 0, columns : 4, Unique values on cols: {'ID': 0}\n"
     ]
    },
    {
     "data": {
      "application/vnd.jupyter.widget-view+json": {
       "model_id": "70c0e8490c1b47e7a08f63627ddfd974",
       "version_major": 2,
       "version_minor": 0
      },
      "text/plain": [
       "interactive(children=(IntSlider(value=0, description='rows', max=0, readout=False), IntSlider(value=4, descrip…"
      ]
     },
     "metadata": {},
     "output_type": "display_data"
    },
    {
     "data": {
      "text/plain": [
       "(None, None)"
      ]
     },
     "execution_count": 42,
     "metadata": {},
     "output_type": "execute_result"
    }
   ],
   "source": [
    "file1= csv_data_dir + 'observ_terrain/source_merge/source_Boreholes.csv' # 10\n",
    "file2= csv_data_dir + 'result_sol_ext_pilote/source_merge/source_Boreholes.csv' # 12\n",
    "\n",
    "df1, df2 = create_df([file1, file2])\n",
    "dataframe_viewer(df1, rows=3, un_val='ID', view=view), dataframe_viewer(df2, rows=3, un_val='ID', view=view)"
   ]
  },
  {
   "cell_type": "code",
   "execution_count": 43,
   "id": "da626427",
   "metadata": {
    "scrolled": true
   },
   "outputs": [],
   "source": [
    "mdf, conflict_df=data_merger(df1, df2, how='outer', on=['ID'], dist_max=1)"
   ]
  },
  {
   "cell_type": "code",
   "execution_count": 44,
   "id": "c1413005",
   "metadata": {},
   "outputs": [
    {
     "name": "stdout",
     "output_type": "stream",
     "text": [
      "Conflict values present. Please resolve this manually !\n"
     ]
    }
   ],
   "source": [
    "data = mdf\n",
    "dataset, conflict_df=data_merger(dataset, data, how='outer', on=['ID'], dist_max=1)"
   ]
  },
  {
   "cell_type": "code",
   "execution_count": 45,
   "id": "b3dc438b",
   "metadata": {
    "scrolled": true
   },
   "outputs": [
    {
     "name": "stdout",
     "output_type": "stream",
     "text": [
      "all conflicts have been fixed!\n"
     ]
    }
   ],
   "source": [
    "data_validation(overall_data=dataset, conflict_data=conflict_df, index_col='index', pass_col='ID', \n",
    "                valid_dict={'Long_pz_sol_x':[18], 'Long_pz_sol_y':[i for i in conflict_df.index if i not in [18]], \n",
    "                            'Rmq_y':list(conflict_df.index), 'Type_x':list(conflict_df.index),})\n",
    "\n",
    "if 'level_0' in dataset.columns:\n",
    "    if 'index' in dataset.columns:\n",
    "        dataset.drop(columns='index', inplace=True)\n",
    "    dataset.rename(columns={'level_0':'index'}, inplace=True)"
   ]
  },
  {
   "cell_type": "code",
   "execution_count": 46,
   "id": "97642de7",
   "metadata": {},
   "outputs": [
    {
     "name": "stdout",
     "output_type": "stream",
     "text": [
      "Dataset rows: 695\n"
     ]
    }
   ],
   "source": [
    "print(f'Dataset rows: {len(dataset)}')"
   ]
  },
  {
   "cell_type": "markdown",
   "id": "bdf73ff8",
   "metadata": {},
   "source": [
    "#### $\\color{green}{\\textbf{Lecture et fusion}}$"
   ]
  },
  {
   "cell_type": "code",
   "execution_count": 47,
   "id": "9b663df0",
   "metadata": {
    "scrolled": false
   },
   "outputs": [
    {
     "name": "stdout",
     "output_type": "stream",
     "text": [
      "df1 :  --> Coordinates\n",
      "Rows : 78, columns : 5, Unique values on cols: {'ID': 78}\n"
     ]
    },
    {
     "data": {
      "application/vnd.jupyter.widget-view+json": {
       "model_id": "9720594c64dc4fd9afb64541d06cbbd4",
       "version_major": 2,
       "version_minor": 0
      },
      "text/plain": [
       "interactive(children=(IntSlider(value=3, description='rows', max=78, min=3, readout=False), IntSlider(value=5,…"
      ]
     },
     "metadata": {},
     "output_type": "display_data"
    }
   ],
   "source": [
    "file1= csv_data_dir + 'coord_ext_pilote/source_merge/source_Boreholes.csv' # 10\n",
    "\n",
    "df1 = create_df([file1])[0]\n",
    "dataframe_viewer(df1, rows=3, un_val='ID', view=view)"
   ]
  },
  {
   "cell_type": "code",
   "execution_count": 48,
   "id": "7f1dc047",
   "metadata": {},
   "outputs": [
    {
     "name": "stdout",
     "output_type": "stream",
     "text": [
      "Conflict values present. Please resolve this manually !\n"
     ]
    }
   ],
   "source": [
    "data = df1\n",
    "dataset, conflict_df=data_merger(dataset, data, how='outer', on=['X','Y'], dist_max=1)"
   ]
  },
  {
   "cell_type": "code",
   "execution_count": 49,
   "id": "f0d8c588",
   "metadata": {},
   "outputs": [
    {
     "name": "stdout",
     "output_type": "stream",
     "text": [
      "all conflicts have been fixed!\n"
     ]
    }
   ],
   "source": [
    "data_validation(overall_data=dataset, conflict_data=conflict_df, index_col='index', pass_col='ID', \n",
    "                valid_dict={'ID_x':list(conflict_df.index)})\n",
    "\n",
    "if 'level_0' in dataset.columns:\n",
    "    if 'index' in dataset.columns:\n",
    "        dataset.drop(columns='index', inplace=True)\n",
    "    dataset.rename(columns={'level_0':'index'}, inplace=True)"
   ]
  },
  {
   "cell_type": "code",
   "execution_count": 50,
   "id": "9c0f2fc0",
   "metadata": {},
   "outputs": [
    {
     "name": "stdout",
     "output_type": "stream",
     "text": [
      "Dataset rows: 757\n"
     ]
    }
   ],
   "source": [
    "print(f'Dataset rows: {len(dataset)}')"
   ]
  },
  {
   "cell_type": "markdown",
   "id": "492d4e9b",
   "metadata": {},
   "source": [
    "####  $\\color{blue}{\\textbf{Traitement des doublons par position}}$"
   ]
  },
  {
   "cell_type": "code",
   "execution_count": 85,
   "id": "01da6fb8",
   "metadata": {},
   "outputs": [
    {
     "name": "stdout",
     "output_type": "stream",
     "text": [
      "Skipped 148 IDs\n",
      "124 boreholes found\n"
     ]
    },
    {
     "data": {
      "text/html": [
       "<table><tr><td><strong>F1</strong></td><td>(153124.071, 122653.382)</td><td>['F1', '_1_', '1']</td></tr><tr><td><strong>F12</strong></td><td>(153021.795, 122640.338)</td><td>['F12', '_12_', '12']</td></tr><tr><td><strong>P2</strong></td><td>(152897.30742700002, 122614.980476)</td><td>['P2', 'P2M', 'F2M']</td></tr><tr><td><strong>P3</strong></td><td>(152896.001173, 122633.018193)</td><td>['P3', 'P3M', 'F3M']</td></tr><tr><td><strong>P4</strong></td><td>(152893.324964, 122592.103763)</td><td>['P4', 'P4M', 'F4M', '79']</td></tr><tr><td><strong>P5</strong></td><td>(152878.150781, 122574.804573)</td><td>['P5', 'P5M', 'F5M']</td></tr><tr><td><strong>P6</strong></td><td>(152858.24727300002, 122576.099336)</td><td>['P6', 'P6M', 'F6M']</td></tr><tr><td><strong>P11</strong></td><td>(152830.61472800002, 122633.502431)</td><td>['P11', 'P11M', 'F11M']</td></tr><tr><td><strong>P12</strong></td><td>(152877.815915, 122573.902564)</td><td>['P12', 'P12M', 'F12M']</td></tr><tr><td><strong>P13</strong></td><td>(152824.640713, 122646.922281)</td><td>['P13', 'P13M', 'F13M']</td></tr><tr><td><strong>P14</strong></td><td>(152815.410756, 122634.657047)</td><td>['P14', 'P14M', 'F14M']</td></tr><tr><td><strong>P16</strong></td><td>(152854.04972500002, 122651.54469)</td><td>['P16', 'P16M', 'F16M']</td></tr><tr><td><strong>P537</strong></td><td>(152912.56, 122642.67)</td><td>['P537', '537', 'F537']</td></tr><tr><td><strong>P99</strong></td><td>(152913.114, 122642.112)</td><td>['P99', 'F99', '99']</td></tr><tr><td><strong>P19</strong></td><td>(152886.160008567, 122594.756088996)</td><td>['P19', 'BH_name_31']</td></tr><tr><td><strong>P23</strong></td><td>(152876.87600000002, 122569.597)</td><td>['P23', 'eau forage P23']</td></tr><tr><td><strong>F208</strong></td><td>(152885.296, 122592.986)</td><td>['F208', '208']</td></tr><tr><td><strong>F207</strong></td><td>(152892.925, 122592.662)</td><td>['F207', 'F79', '207']</td></tr><tr><td><strong>F225</strong></td><td>(152881.112, 122580.962)</td><td>['F225', '225']</td></tr><tr><td><strong>F304</strong></td><td>(152882.735, 122586.452)</td><td>['F304', '226']</td></tr><tr><td><strong>F32</strong></td><td>(153046.317, 122603.273)</td><td>['F32', '32']</td></tr><tr><td><strong>F34</strong></td><td>(152938.603, 122595.246)</td><td>['F34', '34']</td></tr><tr><td><strong>F44</strong></td><td>(153149.254, 122591.79)</td><td>['F44', '44']</td></tr><tr><td><strong>F58</strong></td><td>(152971.884, 122691.268)</td><td>['F58', '58']</td></tr><tr><td><strong>F59</strong></td><td>(152989.029, 122692.099)</td><td>['F59', '59']</td></tr><tr><td><strong>F64</strong></td><td>(152996.583, 122727.369)</td><td>['F64', '64']</td></tr><tr><td><strong>F65</strong></td><td>(153044.825, 122722.748)</td><td>['F65', '65']</td></tr><tr><td><strong>F67</strong></td><td>(153101.7186, 122686.2949)</td><td>['F67', '67']</td></tr><tr><td><strong>F74</strong></td><td>(153155.72, 122561.29)</td><td>['F74', '74']</td></tr><tr><td><strong>F76</strong></td><td>(152867.191, 122611.034)</td><td>['F76', '76']</td></tr><tr><td><strong>F78</strong></td><td>(152864.005, 122589.152)</td><td>['F78', '78']</td></tr><tr><td><strong>F80</strong></td><td>(152881.955, 122572.824)</td><td>['F80', '80', 'P80']</td></tr><tr><td><strong>F81</strong></td><td>(152809.121, 122661.331)</td><td>['F81', '81', 'P81']</td></tr><tr><td><strong>F82</strong></td><td>(152821.2, 122655.3)</td><td>['F82', '82']</td></tr><tr><td><strong>F83</strong></td><td>(152810.8013, 122644.649)</td><td>['F83', '83']</td></tr><tr><td><strong>F86</strong></td><td>(152747.676, 122641.977)</td><td>['F86', '86', 'PZ86']</td></tr><tr><td><strong>F91</strong></td><td>(152690.678, 122676.516)</td><td>['F91', '91']</td></tr><tr><td><strong>F95</strong></td><td>(152831.887, 122647.476)</td><td>['F95', '95']</td></tr><tr><td><strong>F96</strong></td><td>(152850.191, 122614.034)</td><td>['F96', '96']</td></tr><tr><td><strong>F97</strong></td><td>(152880.491, 122645.685)</td><td>['F97', '97']</td></tr><tr><td><strong>F98</strong></td><td>(152899.453, 122642.772)</td><td>['F98', '98']</td></tr><tr><td><strong>F100</strong></td><td>(152816.982, 122636.661)</td><td>['F100', 'F101', '100']</td></tr><tr><td><strong>F102</strong></td><td>(152863.3897, 122624.0217)</td><td>['F102', '102']</td></tr><tr><td><strong>F103</strong></td><td>(152884.9637, 122622.4533)</td><td>['F103', '103']</td></tr><tr><td><strong>F104</strong></td><td>(152900.729, 122624.926)</td><td>['F104', '104']</td></tr><tr><td><strong>F105</strong></td><td>(152808.16, 122625.663)</td><td>['F105', '105']</td></tr><tr><td><strong>F106</strong></td><td>(152862.365, 122646.855)</td><td>['F106', '106', 'P106']</td></tr><tr><td><strong>F107</strong></td><td>(152820.852, 122624.897)</td><td>['F107', '107', 'P107', 'PZ107']</td></tr><tr><td><strong>F108</strong></td><td>(152843.801, 122646.253)</td><td>['F108', '108']</td></tr><tr><td><strong>F109</strong></td><td>(152940.07, 122713.197)</td><td>['F109', '109']</td></tr><tr><td><strong>F110</strong></td><td>(152942.518, 122758.785)</td><td>['F110', '110']</td></tr><tr><td><strong>F112</strong></td><td>(152846.281, 122710.216)</td><td>['F112', '112']</td></tr><tr><td><strong>F115</strong></td><td>(152800.642, 122759.192)</td><td>['F115', 'FP115']</td></tr><tr><td><strong>F117</strong></td><td>(152750.991, 122781.427)</td><td>['F117', 'FP117']</td></tr><tr><td><strong>F125</strong></td><td>(152638.045, 122724.489)</td><td>['F125', '125']</td></tr><tr><td><strong>F129</strong></td><td>(152598.374, 122700.692)</td><td>['F129', '129']</td></tr><tr><td><strong>F142</strong></td><td>(152461.545, 122712.588)</td><td>['F142', '142']</td></tr><tr><td><strong>F152</strong></td><td>(152546.933, 122815.224)</td><td>['F152', '152']</td></tr><tr><td><strong>F162</strong></td><td>(152382.073, 122856.023)</td><td>['F162', '162']</td></tr><tr><td><strong>F164</strong></td><td>(152380.825, 122811.282)</td><td>['F164', '164']</td></tr><tr><td><strong>F165</strong></td><td>(152380.767, 122789.492)</td><td>['F165', '165']</td></tr><tr><td><strong>F166</strong></td><td>(152379.136, 122751.4)</td><td>['F166', '166']</td></tr><tr><td><strong>F167</strong></td><td>(152355.177, 122792.769)</td><td>['F167', '167']</td></tr><tr><td><strong>F168</strong></td><td>(152392.567, 122777.004)</td><td>['F168', '168']</td></tr><tr><td><strong>F170</strong></td><td>(152416.674, 122797.67)</td><td>['F170', '170']</td></tr><tr><td><strong>F172</strong></td><td>(152431.146, 122814.671)</td><td>['F172', '172']</td></tr><tr><td><strong>F175</strong></td><td>(152448.515, 122837.81)</td><td>['F175', '175']</td></tr><tr><td><strong>F180</strong></td><td>(152352.22, 122820.338)</td><td>['F180', '180']</td></tr><tr><td><strong>F186</strong></td><td>(152384.339, 122870.998)</td><td>['F186', '186']</td></tr><tr><td><strong>F197</strong></td><td>(152387.882, 122923.928)</td><td>['F197', '197']</td></tr><tr><td><strong>F209</strong></td><td>(152406.702, 122947.605)</td><td>['F209', '209']</td></tr><tr><td><strong>F400</strong></td><td>(152625.59, 122837.51)</td><td>['F400', '400']</td></tr><tr><td><strong>F403</strong></td><td>(152634.393, 122802.718)</td><td>['F403', '403']</td></tr><tr><td><strong>F405</strong></td><td>(152553.023, 122875.155)</td><td>['F405', '405']</td></tr><tr><td><strong>F406</strong></td><td>(152671.245, 122785.658)</td><td>['F406', '406']</td></tr><tr><td><strong>F410</strong></td><td>(153094.7422, 122552.6908)</td><td>['F410', '410']</td></tr><tr><td><strong>F411</strong></td><td>(153066.7005, 122556.2908)</td><td>['F411', '411']</td></tr><tr><td><strong>F412</strong></td><td>(153042.9272, 122558.5561)</td><td>['F412', '412']</td></tr><tr><td><strong>F500</strong></td><td>(152324.19, 122975.75)</td><td>['F500', '500']</td></tr><tr><td><strong>F501</strong></td><td>(152368.34, 122909.52)</td><td>['F501', '501']</td></tr><tr><td><strong>F502</strong></td><td>(152365.31, 122855.6)</td><td>['F502', '502']</td></tr><tr><td><strong>F504</strong></td><td>(152387.87, 122847.92)</td><td>['F504', '504']</td></tr><tr><td><strong>F508</strong></td><td>(152467.47, 122850.8)</td><td>['F508', '508']</td></tr><tr><td><strong>F509</strong></td><td>(152320.73, 122857.1)</td><td>['F509', '509']</td></tr><tr><td><strong>F510</strong></td><td>(152333.67, 122803.63)</td><td>['F510', '510']</td></tr><tr><td><strong>F511</strong></td><td>(152371.75, 122771.33)</td><td>['F511', '511']</td></tr><tr><td><strong>F513</strong></td><td>(152424.13, 122752.49)</td><td>['F513', '513']</td></tr><tr><td><strong>F514</strong></td><td>(152476.53, 122786.94)</td><td>['F514', '514']</td></tr><tr><td><strong>F517</strong></td><td>(152576.57, 122884.26)</td><td>['F517', '517']</td></tr><tr><td><strong>F521</strong></td><td>(152728.55, 122823.58)</td><td>['F521', '521']</td></tr><tr><td><strong>F522</strong></td><td>(152650.24, 122765.79)</td><td>['F522', '522']</td></tr><tr><td><strong>F523</strong></td><td>(152701.23, 122778.53)</td><td>['F523', '523']</td></tr><tr><td><strong>F528</strong></td><td>(152555.17, 122706.49)</td><td>['F528', '528']</td></tr><tr><td><strong>F529</strong></td><td>(152710.95, 122700.01)</td><td>['F529', '529']</td></tr><tr><td><strong>F530</strong></td><td>(152816.66, 122693.71)</td><td>['F530', '530']</td></tr><tr><td><strong>F532</strong></td><td>(152993.6, 122747.42)</td><td>['F532', '532']</td></tr><tr><td><strong>F534</strong></td><td>(152943.14, 122697.5)</td><td>['F534', '534']</td></tr><tr><td><strong>F536</strong></td><td>(152819.51, 122624.74)</td><td>['F536', '536']</td></tr><tr><td><strong>F538</strong></td><td>(152918.95, 122630.44)</td><td>['F538', '538']</td></tr><tr><td><strong>F539</strong></td><td>(152937.56, 122596.82)</td><td>['F539', '539']</td></tr><tr><td><strong>F542</strong></td><td>(152969.05, 122568.67)</td><td>['F542', '542']</td></tr><tr><td><strong>F543</strong></td><td>(153042.18, 122546.04)</td><td>['F543', '543']</td></tr><tr><td><strong>F544</strong></td><td>(153126.77, 122501.35)</td><td>['F544', 'F545', '544']</td></tr><tr><td><strong>F734</strong></td><td>(152928.82, 122706.95)</td><td>['F734', '734']</td></tr><tr><td><strong>F540</strong></td><td>(153176.48, 122659.22)</td><td>['F540', '540']</td></tr><tr><td><strong>25</strong></td><td>(152997.314, 122604.861)</td><td>['25', '_F25_']</td></tr><tr><td><strong>531</strong></td><td>(152958.42, 122711.91)</td><td>['531', 'F531 prof']</td></tr><tr><td><strong>533</strong></td><td>(153034.76, 122707.29)</td><td>['533', 'F533']</td></tr><tr><td><strong>595</strong></td><td>(153137.08, 122620.0)</td><td>['595', 'FP595']</td></tr><tr><td><strong>49</strong></td><td>(153022.772, 122542.501)</td><td>['49', 'FP49']</td></tr><tr><td><strong>3</strong></td><td>(152844.653, 122600.745)</td><td>['3', 'Mon3']</td></tr><tr><td><strong>2</strong></td><td>(152624.953, 122634.204)</td><td>['2', 'Mon2']</td></tr><tr><td><strong>205</strong></td><td>(152887.69317500002, 122594.619977)</td><td>['205', '_F205_']</td></tr><tr><td><strong>212</strong></td><td>(152882.850194, 122591.453476)</td><td>['212', '_F212_']</td></tr><tr><td><strong>217</strong></td><td>(152886.184941, 122587.152205)</td><td>['217', '_F217_']</td></tr><tr><td><strong>220 bis</strong></td><td>(152881.262319, 122586.508284)</td><td>['220 bis', 'BH_name_24']</td></tr><tr><td><strong>52</strong></td><td>(152889.239, 122581.458)</td><td>['52', 'BH_name_16']</td></tr><tr><td><strong>_214_</strong></td><td>(153156.293, 122497.918)</td><td>['_214_', 'F214']</td></tr><tr><td><strong>214</strong></td><td>(152888.08180400002, 122588.485566)</td><td>['214', '_F214_']</td></tr><tr><td><strong>F8M</strong></td><td>(152856.753265, 122597.518294)</td><td>['F8M', 'P8M']</td></tr><tr><td><strong>F10M</strong></td><td>(152837.023313, 122617.511539)</td><td>['F10M', 'P10M']</td></tr><tr><td><strong>119</strong></td><td>(152891.819393, 122586.047035)</td><td>['119', 'BH_name_15']</td></tr><tr><td><strong>127</strong></td><td>(152881.824, 122582.177)</td><td>['127', 'implantation geosonda']</td></tr><tr><td><strong>BH_name_1</strong></td><td>(152885.042209, 122574.511847)</td><td>['BH_name_1', 'BH_name_28']</td></tr></table>"
      ],
      "text/plain": [
       "<IPython.core.display.HTML object>"
      ]
     },
     "metadata": {},
     "output_type": "display_data"
    },
    {
     "name": "stdout",
     "output_type": "stream",
     "text": [
      "Updating and saving encountered boreholes dict in /home/yanathan/Projects/GSDMA/utils/boreholes_synonyms.py\n"
     ]
    }
   ],
   "source": [
    "data = dataset.copy()\n",
    "data['ID'] = data['ID'].apply(lambda x: str(x) if not isinstance(x, str) else x)\n",
    "df_t = find_borehole_by_position(data, display=True, dist_max=0.5, bh_syn_dict=BOREHOLES_ENCOUNTERED, \n",
    "                                 save_bh_syn=False, reg_skip='\\d+[a-e]\\'?M?$')#, verbose=True)"
   ]
  },
  {
   "cell_type": "code",
   "execution_count": 86,
   "id": "ca9c1889",
   "metadata": {},
   "outputs": [
    {
     "name": "stdout",
     "output_type": "stream",
     "text": [
      "Rows : 757, columns : 3, Unique values on cols: {'ID': 730}\n"
     ]
    },
    {
     "data": {
      "application/vnd.jupyter.widget-view+json": {
       "model_id": "c7c81a80a1434a439f70fb5e2e85247d",
       "version_major": 2,
       "version_minor": 0
      },
      "text/plain": [
       "interactive(children=(IntSlider(value=10, description='rows', max=757, min=10, readout=False), IntSlider(value…"
      ]
     },
     "metadata": {},
     "output_type": "display_data"
    },
    {
     "name": "stdout",
     "output_type": "stream",
     "text": [
      "Rows : 757, columns : 3, Unique values on cols: {'ID': 578}\n"
     ]
    },
    {
     "data": {
      "application/vnd.jupyter.widget-view+json": {
       "model_id": "350d004bf8a240b1a1a16105be46c9fd",
       "version_major": 2,
       "version_minor": 0
      },
      "text/plain": [
       "interactive(children=(IntSlider(value=10, description='rows', max=757, min=10, readout=False), IntSlider(value…"
      ]
     },
     "metadata": {},
     "output_type": "display_data"
    },
    {
     "data": {
      "text/plain": [
       "(None, None)"
      ]
     },
     "execution_count": 86,
     "metadata": {},
     "output_type": "execute_result"
    }
   ],
   "source": [
    "cols = ['ID','X','Y']\n",
    "dataframe_viewer(data[cols], un_val='ID'), dataframe_viewer(df_t[cols], un_val='ID')"
   ]
  },
  {
   "cell_type": "raw",
   "id": "b755af71",
   "metadata": {},
   "source": [
    "bh_synonyms_cleaner(BOREHOLES_ENCOUNTERED)"
   ]
  },
  {
   "cell_type": "raw",
   "id": "e735cd92",
   "metadata": {},
   "source": [
    "cols = ['ID','X','Y','Z']\n",
    "#dataframe_viewer(data.query(\"ID=='F1' or ID=='1' or ID=='_1_'\")[cols], rows=5)\n",
    "dataframe_viewer(data.query(\"ID.str.contains('201')\", engine='python'), rows=5)"
   ]
  },
  {
   "cell_type": "raw",
   "id": "490fbad7",
   "metadata": {},
   "source": [
    "replicate_values(data, id_col='ID', suffix=['sup', 'inf', 'prof'], replace_id=True, verbose=False,\n",
    "                     cols_to_replicate=['X', 'Y', 'Z','Type','Emplacement', 'Date_for'])"
   ]
  },
  {
   "cell_type": "raw",
   "id": "7722532d",
   "metadata": {},
   "source": [
    "pause"
   ]
  },
  {
   "cell_type": "markdown",
   "id": "b0de75a1",
   "metadata": {},
   "source": [
    "####  $\\color{red}{\\textbf{Sauvegarde du jeu de données}}$"
   ]
  },
  {
   "cell_type": "code",
   "execution_count": null,
   "id": "74eae990",
   "metadata": {},
   "outputs": [],
   "source": [
    "data_dict['Borehole'] = dataset.copy()\n",
    "dataframe_viewer(dataset, rows=3, un_val=['ID','ID_ech'])"
   ]
  },
  {
   "cell_type": "code",
   "execution_count": null,
   "id": "8b22a4f8",
   "metadata": {},
   "outputs": [],
   "source": [
    "dataset.to_csv(save_dir + 'Boreholes.csv', index=False)"
   ]
  },
  {
   "cell_type": "markdown",
   "id": "3a52f19d",
   "metadata": {},
   "source": [
    "###  ===================================================="
   ]
  },
  {
   "cell_type": "markdown",
   "id": "579799cf",
   "metadata": {},
   "source": [
    "# Lithologies"
   ]
  },
  {
   "cell_type": "code",
   "execution_count": null,
   "id": "772e3fb5",
   "metadata": {},
   "outputs": [],
   "source": [
    "key='Litho'\n",
    "dataset = pd.DataFrame()\n",
    "print(len(files_dict[key]), 'files')"
   ]
  },
  {
   "cell_type": "code",
   "execution_count": null,
   "id": "c9038f2c",
   "metadata": {
    "scrolled": true
   },
   "outputs": [],
   "source": [
    "files_dict[key]"
   ]
  },
  {
   "cell_type": "code",
   "execution_count": null,
   "id": "eb241960",
   "metadata": {},
   "outputs": [],
   "source": [
    "data_overview(files_dict[key])"
   ]
  },
  {
   "cell_type": "markdown",
   "id": "63078412",
   "metadata": {},
   "source": [
    "#### $\\color{green}{\\textbf{Lecture et fusion}}$"
   ]
  },
  {
   "cell_type": "code",
   "execution_count": null,
   "id": "ec9a63f1",
   "metadata": {
    "scrolled": false
   },
   "outputs": [],
   "source": [
    "file1= csv_data_dir + 'database_Memoris3/source_merge/source_Lithologies.csv' # 0\n",
    "file2= csv_data_dir + 'profils_sols_donnees_forages/source_merge/source_Lithologies.csv' # 2\n",
    "\n",
    "df1, df2 = create_df([file1, file2])\n",
    "dataframe_viewer(df1, rows=3, un_val='ID', view=view), dataframe_viewer(df2, rows=3, un_val='ID', view=view)"
   ]
  },
  {
   "cell_type": "code",
   "execution_count": null,
   "id": "66ed312a",
   "metadata": {
    "scrolled": true
   },
   "outputs": [],
   "source": [
    "mdf, conflict_df=data_merger(df1, df2, how='outer', on=['ID', 'Litho_top', 'Litho_base'], dist_max=1)"
   ]
  },
  {
   "cell_type": "code",
   "execution_count": null,
   "id": "68412a9f",
   "metadata": {},
   "outputs": [],
   "source": [
    "dataset = mdf.copy()"
   ]
  },
  {
   "cell_type": "code",
   "execution_count": null,
   "id": "8ea8b390",
   "metadata": {},
   "outputs": [],
   "source": [
    "print(f'Dataset rows: {len(dataset)}')"
   ]
  },
  {
   "cell_type": "markdown",
   "id": "a95fec0c",
   "metadata": {},
   "source": [
    "#### $\\color{green}{\\textbf{Lecture et fusion}}$"
   ]
  },
  {
   "cell_type": "code",
   "execution_count": null,
   "id": "bae92cc3",
   "metadata": {
    "scrolled": false
   },
   "outputs": [],
   "source": [
    "file1= csv_data_dir + 'donnees_terrain_2019/source_merge/source_Lithologies.csv' # 1\n",
    "file2= csv_data_dir + 'vUmons_logsFor/source_merge/source_Lithologies.csv' # 3\n",
    "\n",
    "df1, df2 = create_df([file1, file2])\n",
    "dataframe_viewer(df1, rows=3, un_val='ID', view=view), dataframe_viewer(df2, rows=3, un_val='ID', view=view)"
   ]
  },
  {
   "cell_type": "code",
   "execution_count": null,
   "id": "ec3d7111",
   "metadata": {
    "scrolled": true
   },
   "outputs": [],
   "source": [
    "mdf, conflict_df=data_merger(df1, df2, how='outer', on=['ID', 'Litho_top', 'Litho_base'], dist_max=1)"
   ]
  },
  {
   "cell_type": "code",
   "execution_count": null,
   "id": "26741138",
   "metadata": {},
   "outputs": [],
   "source": [
    "data = mdf\n",
    "dataset, conflict_df=data_merger(dataset, data, how='outer', on=['ID', 'Litho_top', 'Litho_base'], dist_max=1)"
   ]
  },
  {
   "cell_type": "code",
   "execution_count": null,
   "id": "abe49a06",
   "metadata": {},
   "outputs": [],
   "source": [
    "print(f'Dataset rows: {len(dataset)}')"
   ]
  },
  {
   "cell_type": "markdown",
   "id": "820aeda1",
   "metadata": {},
   "source": [
    "####  $\\color{red}{\\textbf{Sauvegarde du jeu de données}}$"
   ]
  },
  {
   "cell_type": "code",
   "execution_count": null,
   "id": "7c1abf88",
   "metadata": {},
   "outputs": [],
   "source": [
    "data_dict['Litho'] = dataset.copy()\n",
    "dataframe_viewer(dataset, rows=3, un_val=['ID','ID_ech'])"
   ]
  },
  {
   "cell_type": "code",
   "execution_count": null,
   "id": "0f820536",
   "metadata": {},
   "outputs": [],
   "source": [
    "dataset.to_csv(save_dir + 'Lithologies.csv', index=False)"
   ]
  },
  {
   "cell_type": "markdown",
   "id": "84243cd9",
   "metadata": {},
   "source": [
    "###  ===================================================="
   ]
  },
  {
   "cell_type": "markdown",
   "id": "51a5c5f0",
   "metadata": {},
   "source": [
    "# Echantillons"
   ]
  },
  {
   "cell_type": "code",
   "execution_count": null,
   "id": "31d7e364",
   "metadata": {},
   "outputs": [],
   "source": [
    "key='Sample'\n",
    "dataset = pd.DataFrame()\n",
    "print(len(files_dict[key]), 'files')"
   ]
  },
  {
   "cell_type": "code",
   "execution_count": null,
   "id": "a4323bd5",
   "metadata": {
    "scrolled": true
   },
   "outputs": [],
   "source": [
    "files_dict[key]"
   ]
  },
  {
   "cell_type": "code",
   "execution_count": null,
   "id": "9cdbef12",
   "metadata": {},
   "outputs": [],
   "source": [
    "data_overview(files_dict[key])"
   ]
  },
  {
   "cell_type": "markdown",
   "id": "46cd7db0",
   "metadata": {},
   "source": [
    "#### $\\color{green}{\\textbf{Lecture et fusion}}$"
   ]
  },
  {
   "cell_type": "code",
   "execution_count": null,
   "id": "2be4e297",
   "metadata": {
    "scrolled": false
   },
   "outputs": [],
   "source": [
    "file1= csv_data_dir + 'Memoris_seafile/source_merge/source_Analysis.csv' # 2\n",
    "file2= csv_data_dir + 'Liste_XY/source_merge/source_Analysis.csv' # 1\n",
    "\n",
    "df1, df2 = create_df([file1, file2])\n",
    "dataframe_viewer(df1, rows=3, un_val='ID', view=view), dataframe_viewer(df2, rows=3, un_val='ID', view=view)"
   ]
  },
  {
   "cell_type": "code",
   "execution_count": null,
   "id": "d96e0d66",
   "metadata": {
    "scrolled": true
   },
   "outputs": [],
   "source": [
    "mdf, conflict_df=data_merger(df1, df2, how='outer', on=['ID', 'ID_ech'], dist_max=1)"
   ]
  },
  {
   "cell_type": "code",
   "execution_count": null,
   "id": "72835bb5",
   "metadata": {},
   "outputs": [],
   "source": [
    "dataset = mdf.copy()"
   ]
  },
  {
   "cell_type": "code",
   "execution_count": null,
   "id": "b852b1c4",
   "metadata": {},
   "outputs": [],
   "source": [
    "print(f'Dataset rows: {len(dataset)}')"
   ]
  },
  {
   "cell_type": "markdown",
   "id": "6fa4e1c7",
   "metadata": {},
   "source": [
    "#### $\\color{green}{\\textbf{Lecture et fusion}}$"
   ]
  },
  {
   "cell_type": "code",
   "execution_count": null,
   "id": "6e2a94c3",
   "metadata": {
    "scrolled": false
   },
   "outputs": [],
   "source": [
    "file1= csv_data_dir +  'Phase_1_Memoris/source_merge/source_Analysis.csv' # 3\n",
    "file2= csv_data_dir + 'Phase_2_Memoris/source_merge/source_Analysis.csv' # 4\n",
    "\n",
    "df1, df2 = create_df([file1, file2])\n",
    "dataframe_viewer(df1, rows=3, un_val='ID', view=view), dataframe_viewer(df2, rows=3, un_val='ID', view=view)"
   ]
  },
  {
   "cell_type": "code",
   "execution_count": null,
   "id": "de1e1833",
   "metadata": {},
   "outputs": [],
   "source": [
    "df_list = [df1, df2]\n",
    "look_for = ['Date', 'ID']\n",
    "for i, df in enumerate(df_list):\n",
    "    for l in look_for:\n",
    "        for c in df.columns:\n",
    "            if re.search(l, c, re.I): print(i, c)"
   ]
  },
  {
   "cell_type": "code",
   "execution_count": null,
   "id": "e4bb1890",
   "metadata": {
    "scrolled": true
   },
   "outputs": [],
   "source": [
    "mdf, conflict_df=data_merger(df1, df2, how='outer', on=['ID', 'ID_ech', 'Date_ech'], dist_max=1)"
   ]
  },
  {
   "cell_type": "code",
   "execution_count": null,
   "id": "147d0cc0",
   "metadata": {},
   "outputs": [],
   "source": [
    "data = mdf\n",
    "dataset, conflict_df=data_merger(dataset, data, how='outer', on=['ID', 'ID_ech', 'Date_ech'], dist_max=1)"
   ]
  },
  {
   "cell_type": "code",
   "execution_count": null,
   "id": "21f48bf1",
   "metadata": {
    "scrolled": true
   },
   "outputs": [],
   "source": [
    "data_validation(overall_data=dataset, conflict_data=conflict_df, index_col='index', pass_col='ID', \n",
    "                valid_dict={'C16-C21_y':list(conflict_df.index), 'C21-C35_y':list(conflict_df.index), \n",
    "                            'C12-C16_y':list(conflict_df.index), 'Fract_2+_y':list(conflict_df.index), \n",
    "                            'C10-C12_y':list(conflict_df.index), 'HC_tot_C10-C35_y':list(conflict_df.index), \n",
    "                            'Fract_2_y':list(conflict_df.index)})\n",
    "\n",
    "if 'level_0' in dataset.columns:\n",
    "    if 'index' in dataset.columns:\n",
    "        dataset.drop(columns='index', inplace=True)\n",
    "    dataset.rename(columns={'level_0':'index'}, inplace=True)"
   ]
  },
  {
   "cell_type": "code",
   "execution_count": null,
   "id": "9a453e80",
   "metadata": {},
   "outputs": [],
   "source": [
    "print(f'Dataset rows: {len(dataset)}')"
   ]
  },
  {
   "cell_type": "markdown",
   "id": "283c4975",
   "metadata": {},
   "source": [
    "#### $\\color{green}{\\textbf{Lecture et fusion}}$"
   ]
  },
  {
   "cell_type": "code",
   "execution_count": null,
   "id": "b6e0ac02",
   "metadata": {
    "scrolled": false
   },
   "outputs": [],
   "source": [
    "file1= csv_data_dir +  'database_Memoris3/source_merge/source_Analysis.csv' # 8\n",
    "file2= csv_data_dir +  'profils_sols_donnees_forages/source_merge/source_Analysis.csv' # 10\n",
    "\n",
    "df1, df2 = create_df([file1, file2])\n",
    "dataframe_viewer(df1, rows=3, un_val='ID', view=view), dataframe_viewer(df2, rows=3, un_val='ID', view=view)"
   ]
  },
  {
   "cell_type": "code",
   "execution_count": null,
   "id": "41d409e8",
   "metadata": {},
   "outputs": [],
   "source": [
    "df_list = [df1, df2]\n",
    "look_for = ['Date', 'ID']\n",
    "for i, df in enumerate(df_list):\n",
    "    for l in look_for:\n",
    "        for c in df.columns:\n",
    "            if re.search(l, c, re.I): print(i, c)"
   ]
  },
  {
   "cell_type": "code",
   "execution_count": null,
   "id": "311b1745",
   "metadata": {
    "scrolled": true
   },
   "outputs": [],
   "source": [
    "mdf, conflict_df=data_merger(df1, df2, how='outer', on=['ID', 'ID_ech'], dist_max=1)"
   ]
  },
  {
   "cell_type": "code",
   "execution_count": null,
   "id": "d43340c3",
   "metadata": {},
   "outputs": [],
   "source": [
    "data = mdf\n",
    "dataset, conflict_df=data_merger(dataset, data, how='outer', on=['ID', 'ID_ech', 'Date_ech'], dist_max=1)"
   ]
  },
  {
   "cell_type": "code",
   "execution_count": null,
   "id": "5bc23b84",
   "metadata": {
    "scrolled": true
   },
   "outputs": [],
   "source": [
    "data_validation(overall_data=dataset, conflict_data=conflict_df, index_col='index', pass_col='ID', \n",
    "                valid_dict={'Nappe_x':list(conflict_df.index)})\n",
    "\n",
    "if 'level_0' in dataset.columns:\n",
    "    if 'index' in dataset.columns:\n",
    "        dataset.drop(columns='index', inplace=True)\n",
    "    dataset.rename(columns={'level_0':'index'}, inplace=True)"
   ]
  },
  {
   "cell_type": "code",
   "execution_count": null,
   "id": "20e9b5ba",
   "metadata": {},
   "outputs": [],
   "source": [
    "print(f'Dataset rows: {len(dataset)}')"
   ]
  },
  {
   "cell_type": "markdown",
   "id": "e7eb8999",
   "metadata": {},
   "source": [
    "#### $\\color{green}{\\textbf{Lecture et fusion}}$"
   ]
  },
  {
   "cell_type": "code",
   "execution_count": null,
   "id": "403fe8a4",
   "metadata": {
    "scrolled": false
   },
   "outputs": [],
   "source": [
    "file1= csv_data_dir +  'Container_phyto/source_merge/source_Analysis.csv' # 0\n",
    "file2= csv_data_dir +  'vUmons_logsFor/source_merge/source_Analysis.csv' # 12\n",
    "\n",
    "df1, df2 = create_df([file1, file2])\n",
    "dataframe_viewer(df1, rows=3, un_val='ID', view=view), dataframe_viewer(df2, rows=3, un_val='ID', view=view)"
   ]
  },
  {
   "cell_type": "code",
   "execution_count": null,
   "id": "9e5d6ddc",
   "metadata": {},
   "outputs": [],
   "source": [
    "df_list = [df1, df2]\n",
    "look_for = ['Date', 'ID']\n",
    "for i, df in enumerate(df_list):\n",
    "    for l in look_for:\n",
    "        for c in df.columns:\n",
    "            if re.search(l, c, re.I): print(i, c)"
   ]
  },
  {
   "cell_type": "code",
   "execution_count": null,
   "id": "97e4dfd4",
   "metadata": {
    "scrolled": true
   },
   "outputs": [],
   "source": [
    "mdf, conflict_df=data_merger(df1, df2, how='outer', on=['ID_ech', 'Date_ech'], dist_max=1)"
   ]
  },
  {
   "cell_type": "code",
   "execution_count": null,
   "id": "662bfb29",
   "metadata": {},
   "outputs": [],
   "source": [
    "mdf = gen_id_from_ech(mdf, id_ech_col='ID_ech', suffixes=sufx, prefixes=prefx, capture_regex=id_reg)"
   ]
  },
  {
   "cell_type": "code",
   "execution_count": null,
   "id": "4adf0d92",
   "metadata": {},
   "outputs": [],
   "source": [
    "data = mdf\n",
    "col = 'ID_ech'\n",
    "for i in data.index:\n",
    "    v = data.loc[i, col]\n",
    "    if not pd.isnull(v) and re.search('ech', v, re.I):\n",
    "        data.loc[i, 'ID'] = 'F_' + re.sub(' |.','', v,re.I)\n",
    "mdf = data.copy()"
   ]
  },
  {
   "cell_type": "code",
   "execution_count": null,
   "id": "3d15b757",
   "metadata": {},
   "outputs": [],
   "source": [
    "data = mdf\n",
    "dataset, conflict_df=data_merger(dataset, data, how='outer', on=['ID', 'ID_ech', 'Date_ech'], dist_max=1)"
   ]
  },
  {
   "cell_type": "code",
   "execution_count": null,
   "id": "8c5d276d",
   "metadata": {},
   "outputs": [],
   "source": [
    "print(f'Dataset rows: {len(dataset)}')"
   ]
  },
  {
   "cell_type": "markdown",
   "id": "e2f8dba5",
   "metadata": {},
   "source": [
    "#### $\\color{green}{\\textbf{Lecture et fusion}}$"
   ]
  },
  {
   "cell_type": "code",
   "execution_count": null,
   "id": "d605743a",
   "metadata": {
    "scrolled": false
   },
   "outputs": [],
   "source": [
    "file1= csv_data_dir +  'Siterem_Ext_Pilote/source_merge/source_Analysis.csv' # 5\n",
    "file2= csv_data_dir +  'Siterem_Pilote/source_merge/source_Analysis.csv' # 6\n",
    "\n",
    "df1, df2 = create_df([file1, file2])\n",
    "dataframe_viewer(df1, rows=3, un_val='ID', view=view), dataframe_viewer(df2, rows=3, un_val='ID', view=view)"
   ]
  },
  {
   "cell_type": "code",
   "execution_count": null,
   "id": "36e7fc6d",
   "metadata": {},
   "outputs": [],
   "source": [
    "df_list = [df1, df2]\n",
    "look_for = ['Date', 'ID']\n",
    "for i, df in enumerate(df_list):\n",
    "    for l in look_for:\n",
    "        for c in df.columns:\n",
    "            if re.search(l, c, re.I): print(i, c)"
   ]
  },
  {
   "cell_type": "code",
   "execution_count": null,
   "id": "257d9eb7",
   "metadata": {},
   "outputs": [],
   "source": [
    "df1['ID_ech'] = df1['ID_ech'].astype('object')"
   ]
  },
  {
   "cell_type": "code",
   "execution_count": null,
   "id": "2013df53",
   "metadata": {
    "scrolled": true
   },
   "outputs": [],
   "source": [
    "mdf, conflict_df=data_merger(df1, df2, how='outer', on=['ID_ech', 'Date_ech'], dist_max=1)"
   ]
  },
  {
   "cell_type": "code",
   "execution_count": null,
   "id": "ecf34956",
   "metadata": {},
   "outputs": [],
   "source": [
    "data = mdf\n",
    "dataset, conflict_df=data_merger(dataset, data, how='outer', on=['ID', 'ID_ech', 'Date_ech'], dist_max=1)"
   ]
  },
  {
   "cell_type": "code",
   "execution_count": null,
   "id": "fee9ee89",
   "metadata": {
    "scrolled": true
   },
   "outputs": [],
   "source": [
    "data_validation(overall_data=dataset, conflict_data=conflict_df, index_col='index', pass_col='ID', \n",
    "                valid_dict={'C16-C21_x':list(conflict_df.index), 'C12-C16_x':list(conflict_df.index), \n",
    "                            'C10-C12_x':list(conflict_df.index), 'HC_tot_C10-C35_x':list(conflict_df.index), \n",
    "                            'C21-C35_x':list(conflict_df.index)})\n",
    "\n",
    "if 'level_0' in dataset.columns:\n",
    "    if 'index' in dataset.columns:\n",
    "        dataset.drop(columns='index', inplace=True)\n",
    "    dataset.rename(columns={'level_0':'index'}, inplace=True)"
   ]
  },
  {
   "cell_type": "code",
   "execution_count": null,
   "id": "f2353a9b",
   "metadata": {},
   "outputs": [],
   "source": [
    "print(f'Dataset rows: {len(dataset)}')"
   ]
  },
  {
   "cell_type": "markdown",
   "id": "2d668700",
   "metadata": {},
   "source": [
    "#### $\\color{green}{\\textbf{Lecture et fusion}}$"
   ]
  },
  {
   "cell_type": "code",
   "execution_count": null,
   "id": "5c1932c1",
   "metadata": {
    "scrolled": false
   },
   "outputs": [],
   "source": [
    "file1= csv_data_dir +  'Siterem_Result_Sol/source_merge/source_Analysis.csv' # 7\n",
    "file2= csv_data_dir +  'donnees_terrain_2019/source_merge/source_Analysis.csv' # 9\n",
    "\n",
    "df1, df2 = create_df([file1, file2])\n",
    "dataframe_viewer(df1, rows=3, un_val='ID', view=view), dataframe_viewer(df2, rows=3, un_val='ID', view=view)"
   ]
  },
  {
   "cell_type": "code",
   "execution_count": null,
   "id": "f7732520",
   "metadata": {},
   "outputs": [],
   "source": [
    "df2['ID'] = df2['ID'].astype('object')"
   ]
  },
  {
   "cell_type": "code",
   "execution_count": null,
   "id": "98525bd1",
   "metadata": {},
   "outputs": [],
   "source": [
    "df_list = [df1, df2]\n",
    "look_for = ['Date', 'ID']\n",
    "for i, df in enumerate(df_list):\n",
    "    for l in look_for:\n",
    "        for c in df.columns:\n",
    "            if re.search(l, c, re.I): print(i, c)"
   ]
  },
  {
   "cell_type": "code",
   "execution_count": null,
   "id": "f1ce4ecf",
   "metadata": {
    "scrolled": true
   },
   "outputs": [],
   "source": [
    "mdf, conflict_df=data_merger(df1, df2, how='outer', on=['ID', 'ID_ech'], dist_max=1)"
   ]
  },
  {
   "cell_type": "code",
   "execution_count": null,
   "id": "51266df1",
   "metadata": {},
   "outputs": [],
   "source": [
    "data = mdf\n",
    "dataset, conflict_df=data_merger(dataset, data, how='outer', on=['ID', 'ID_ech', 'Date_ech'], dist_max=1)"
   ]
  },
  {
   "cell_type": "code",
   "execution_count": null,
   "id": "1ebd69f6",
   "metadata": {},
   "outputs": [],
   "source": [
    "print(f'Dataset rows: {len(dataset)}')"
   ]
  },
  {
   "cell_type": "markdown",
   "id": "ba89b091",
   "metadata": {},
   "source": [
    "#### $\\color{green}{\\textbf{Lecture et fusion}}$"
   ]
  },
  {
   "cell_type": "code",
   "execution_count": null,
   "id": "803fa62a",
   "metadata": {
    "scrolled": false
   },
   "outputs": [],
   "source": [
    "file1= csv_data_dir +  'result_sol_ext_pilote/source_merge/source_Analysis.csv' # 11\n",
    "\n",
    "df1 = create_df([file1])[0]\n",
    "dataframe_viewer(df1, rows=3, un_val='ID', view=view)"
   ]
  },
  {
   "cell_type": "code",
   "execution_count": null,
   "id": "bd1bfff2",
   "metadata": {},
   "outputs": [],
   "source": [
    "df_list = [df1]\n",
    "look_for = ['Date', 'ID']\n",
    "for i, df in enumerate(df_list):\n",
    "    for l in look_for:\n",
    "        for c in df.columns:\n",
    "            if re.search(l, c, re.I): print(i, c)"
   ]
  },
  {
   "cell_type": "code",
   "execution_count": null,
   "id": "0bad9c06",
   "metadata": {},
   "outputs": [],
   "source": [
    "data = df1\n",
    "dataset, conflict_df=data_merger(dataset, data, how='outer', on=['ID', 'ID_ech', 'Date_ech'], dist_max=1)"
   ]
  },
  {
   "cell_type": "code",
   "execution_count": null,
   "id": "0039542a",
   "metadata": {},
   "outputs": [],
   "source": [
    "print(f'Dataset rows: {len(dataset)}')"
   ]
  },
  {
   "cell_type": "markdown",
   "id": "86e4b549",
   "metadata": {},
   "source": [
    "####  $\\color{red}{\\textbf{Sauvegarde du jeu de données}}$"
   ]
  },
  {
   "cell_type": "code",
   "execution_count": null,
   "id": "3b711f31",
   "metadata": {
    "scrolled": true
   },
   "outputs": [],
   "source": [
    "data_dict['Sample'] = dataset.copy()\n",
    "dataframe_viewer(dataset, rows=3, un_val=['ID','ID_ech'])"
   ]
  },
  {
   "cell_type": "code",
   "execution_count": null,
   "id": "72bbeaa3",
   "metadata": {},
   "outputs": [],
   "source": [
    "dataset.to_csv(save_dir + 'Analysis.csv', index=False)"
   ]
  },
  {
   "cell_type": "markdown",
   "id": "74bd13c5",
   "metadata": {},
   "source": [
    "###  ===================================================="
   ]
  },
  {
   "cell_type": "markdown",
   "id": "600cb665",
   "metadata": {},
   "source": [
    "## Objets inconnus"
   ]
  },
  {
   "cell_type": "code",
   "execution_count": null,
   "id": "17ed01cd",
   "metadata": {},
   "outputs": [],
   "source": [
    "key='Unknow'\n",
    "dataset = pd.DataFrame()\n",
    "print(len(files_dict[key]), 'files')"
   ]
  },
  {
   "cell_type": "code",
   "execution_count": null,
   "id": "4267f931",
   "metadata": {
    "scrolled": true
   },
   "outputs": [],
   "source": [
    "files_dict[key]"
   ]
  },
  {
   "cell_type": "markdown",
   "id": "ca224c78",
   "metadata": {},
   "source": [
    "#### $\\color{green}{\\textbf{Lecture et fusion}}$"
   ]
  },
  {
   "cell_type": "code",
   "execution_count": null,
   "id": "1df9a455",
   "metadata": {
    "scrolled": false
   },
   "outputs": [],
   "source": [
    "file1= csv_data_dir +  'database_Memoris3/source_merge/source_Unknown.csv' # 11\n",
    "\n",
    "df1 = create_df([file1])[0]\n",
    "dataframe_viewer(df1, rows=3, un_val='ID', view=view)"
   ]
  },
  {
   "cell_type": "code",
   "execution_count": null,
   "id": "da9d006d",
   "metadata": {},
   "outputs": [],
   "source": [
    "dataset = df1.drop(columns='ID_date')"
   ]
  },
  {
   "cell_type": "code",
   "execution_count": null,
   "id": "1a583ad6",
   "metadata": {},
   "outputs": [],
   "source": [
    "print(f'Dataset rows: {len(dataset)}')"
   ]
  },
  {
   "cell_type": "markdown",
   "id": "c67f5868",
   "metadata": {},
   "source": [
    "####  $\\color{red}{\\textbf{Sauvegarde du jeu de données}}$"
   ]
  },
  {
   "cell_type": "code",
   "execution_count": null,
   "id": "771926c0",
   "metadata": {
    "scrolled": true
   },
   "outputs": [],
   "source": [
    "data_dict['Unknow'] = dataset.copy()\n",
    "dataframe_viewer(dataset, rows=3, un_val=['ID','ID_ech'])"
   ]
  },
  {
   "cell_type": "code",
   "execution_count": null,
   "id": "2c430761",
   "metadata": {},
   "outputs": [],
   "source": [
    "dataset.to_csv(save_dir + 'Unknown.csv', index=False)"
   ]
  },
  {
   "cell_type": "markdown",
   "id": "a1f36ae5",
   "metadata": {},
   "source": [
    "###  ===================================================="
   ]
  },
  {
   "cell_type": "markdown",
   "id": "6e5b63d7",
   "metadata": {},
   "source": [
    "## Equipements"
   ]
  },
  {
   "cell_type": "code",
   "execution_count": null,
   "id": "63e46b55",
   "metadata": {},
   "outputs": [],
   "source": [
    "key='Equipm'\n",
    "dataset = pd.DataFrame()\n",
    "print(len(files_dict[key]), 'files')"
   ]
  },
  {
   "cell_type": "code",
   "execution_count": null,
   "id": "c9d8be24",
   "metadata": {
    "scrolled": false
   },
   "outputs": [],
   "source": [
    "files_dict[key]"
   ]
  },
  {
   "cell_type": "code",
   "execution_count": null,
   "id": "c21b6307",
   "metadata": {
    "scrolled": true
   },
   "outputs": [],
   "source": [
    "data_overview(files_dict[key])"
   ]
  },
  {
   "cell_type": "markdown",
   "id": "7f945c9c",
   "metadata": {},
   "source": [
    "#### $\\color{green}{\\textbf{Lecture et fusion}}$"
   ]
  },
  {
   "cell_type": "code",
   "execution_count": null,
   "id": "1ee1a3cf",
   "metadata": {
    "scrolled": false
   },
   "outputs": [],
   "source": [
    "file1= csv_data_dir + 'Memoris_seafile/source_merge/source_Equipments.csv' # 0\n",
    "file2= csv_data_dir + 'Phase_1_Memoris/source_merge/source_Equipments.csv' # 1\n",
    "\n",
    "df1, df2 = create_df([file1, file2])\n",
    "dataframe_viewer(df1, rows=3, un_val='ID', view=view), dataframe_viewer(df2, rows=3, un_val='ID', view=view)"
   ]
  },
  {
   "cell_type": "code",
   "execution_count": null,
   "id": "ef26d916",
   "metadata": {
    "scrolled": true
   },
   "outputs": [],
   "source": [
    "mdf, conflict_df=data_merger(df1, df2, how='outer', on=['ID'], dist_max=1)"
   ]
  },
  {
   "cell_type": "code",
   "execution_count": null,
   "id": "7be51f26",
   "metadata": {},
   "outputs": [],
   "source": [
    "dataset = mdf.copy()"
   ]
  },
  {
   "cell_type": "code",
   "execution_count": null,
   "id": "2efea9ef",
   "metadata": {},
   "outputs": [],
   "source": [
    "print(f'Dataset rows: {len(dataset)}')"
   ]
  },
  {
   "cell_type": "markdown",
   "id": "091fd2ea",
   "metadata": {},
   "source": [
    "#### $\\color{green}{\\textbf{Lecture et fusion}}$"
   ]
  },
  {
   "cell_type": "code",
   "execution_count": null,
   "id": "546afb93",
   "metadata": {
    "scrolled": false
   },
   "outputs": [],
   "source": [
    "file1= csv_data_dir + 'Phase_2_Memoris/source_merge/source_Equipments.csv' # 2\n",
    "file1= csv_data_dir + 'profils_sols_donnees_forages/source_merge/source_Equipments.csv' # 4\n",
    "\n",
    "df1, df2 = create_df([file1, file2])\n",
    "dataframe_viewer(df1, rows=3, un_val='ID', view=view), dataframe_viewer(df2, rows=3, un_val='ID', view=view)"
   ]
  },
  {
   "cell_type": "code",
   "execution_count": null,
   "id": "b227905f",
   "metadata": {},
   "outputs": [],
   "source": [
    "df_list = [df1, df2]\n",
    "look_for = ['Date', 'ID']\n",
    "for i, df in enumerate(df_list):\n",
    "    for l in look_for:\n",
    "        for c in df.columns:\n",
    "            if re.search(l, c, re.I): print(i, c)"
   ]
  },
  {
   "cell_type": "code",
   "execution_count": null,
   "id": "aff6d397",
   "metadata": {
    "scrolled": true
   },
   "outputs": [],
   "source": [
    "mdf, conflict_df=data_merger(df1, df2, how='outer', on=['ID'], dist_max=1)"
   ]
  },
  {
   "cell_type": "code",
   "execution_count": null,
   "id": "05ee94fb",
   "metadata": {},
   "outputs": [],
   "source": [
    "data = mdf\n",
    "dataset, conflict_df=data_merger(dataset, data, how='outer', on=['ID'], dist_max=1)"
   ]
  },
  {
   "cell_type": "code",
   "execution_count": null,
   "id": "9ac72baf",
   "metadata": {},
   "outputs": [],
   "source": [
    "print(f'Dataset rows: {len(dataset)}')"
   ]
  },
  {
   "cell_type": "markdown",
   "id": "5600a5a4",
   "metadata": {},
   "source": [
    "#### $\\color{green}{\\textbf{Lecture et fusion}}$"
   ]
  },
  {
   "cell_type": "code",
   "execution_count": null,
   "id": "3a3d0a74",
   "metadata": {
    "scrolled": false
   },
   "outputs": [],
   "source": [
    "file1= csv_data_dir + 'donnees_terrain_2019/source_merge/source_Equipments.csv' # 3\n",
    "\n",
    "df1 = create_df([file1])[0]\n",
    "dataframe_viewer(df1, rows=3, un_val='ID', view=view)"
   ]
  },
  {
   "cell_type": "code",
   "execution_count": null,
   "id": "acf542bb",
   "metadata": {},
   "outputs": [],
   "source": [
    "df1['ID'] = df1['ID'].astype('object')"
   ]
  },
  {
   "cell_type": "code",
   "execution_count": null,
   "id": "7bdcb47e",
   "metadata": {},
   "outputs": [],
   "source": [
    "data = df1\n",
    "dataset, conflict_df=data_merger(dataset, data, how='outer', on=['ID'], dist_max=1)"
   ]
  },
  {
   "cell_type": "code",
   "execution_count": null,
   "id": "b7b68f03",
   "metadata": {},
   "outputs": [],
   "source": [
    "print(f'Dataset rows: {len(dataset)}')"
   ]
  },
  {
   "cell_type": "markdown",
   "id": "79571f5a",
   "metadata": {},
   "source": [
    "####  $\\color{red}{\\textbf{Sauvegarde du jeu de données}}$"
   ]
  },
  {
   "cell_type": "code",
   "execution_count": null,
   "id": "22b4133a",
   "metadata": {
    "scrolled": true
   },
   "outputs": [],
   "source": [
    "data_dict['Equipm'] = dataset.copy()\n",
    "dataframe_viewer(dataset, rows=3, un_val=['ID'])"
   ]
  },
  {
   "cell_type": "code",
   "execution_count": null,
   "id": "8bcf46d7",
   "metadata": {},
   "outputs": [],
   "source": [
    "dataset.to_csv(save_dir + 'Equipments.csv', index=False)"
   ]
  },
  {
   "cell_type": "markdown",
   "id": "da83ac9b",
   "metadata": {},
   "source": [
    "###  ===================================================="
   ]
  },
  {
   "cell_type": "markdown",
   "id": "855acda1",
   "metadata": {},
   "source": [
    "# Mesures"
   ]
  },
  {
   "cell_type": "code",
   "execution_count": null,
   "id": "b2d9371a",
   "metadata": {},
   "outputs": [],
   "source": [
    "key='Measure'\n",
    "dataset = pd.DataFrame()\n",
    "print(len(files_dict[key]), 'files')"
   ]
  },
  {
   "cell_type": "code",
   "execution_count": null,
   "id": "c57006b0",
   "metadata": {
    "scrolled": false
   },
   "outputs": [],
   "source": [
    "files_dict[key]"
   ]
  },
  {
   "cell_type": "code",
   "execution_count": null,
   "id": "21f0e0a8",
   "metadata": {
    "scrolled": true
   },
   "outputs": [],
   "source": [
    "data_overview(files_dict[key])"
   ]
  },
  {
   "cell_type": "code",
   "execution_count": null,
   "id": "4f3e43f0",
   "metadata": {},
   "outputs": [],
   "source": [
    "#id_reg = '\\s*(?P<id>(?:^canne |Piezair )*\\w*\\d+\\w*)\\s*' # default \n",
    "id_reg = '\\s*(?P<id>(?:^canne |Piezair |Drain |Moni )*\\w*\\d+\\w*)\\s*'"
   ]
  },
  {
   "cell_type": "markdown",
   "id": "d8f82446",
   "metadata": {},
   "source": [
    "#### $\\color{green}{\\textbf{Lecture et fusion}}$"
   ]
  },
  {
   "cell_type": "code",
   "execution_count": null,
   "id": "d2da165e",
   "metadata": {
    "scrolled": false
   },
   "outputs": [],
   "source": [
    "file1= csv_data_dir + 'Memoris_seafile/source_merge/source_Measures.csv' #1\n",
    "file2= csv_data_dir + 'Phase_1_Memoris/source_merge/source_Measures.csv' # 2\n",
    "\n",
    "df1, df2 = create_df([file1, file2])\n",
    "dataframe_viewer(df1, rows=3, un_val='ID', view=view), dataframe_viewer(df2, rows=3, un_val='ID', view=view)"
   ]
  },
  {
   "cell_type": "code",
   "execution_count": null,
   "id": "165db7fd",
   "metadata": {},
   "outputs": [],
   "source": [
    "df_list = [df1, df2]\n",
    "look_for = ['Date', 'ID']\n",
    "for i, df in enumerate(df_list):\n",
    "    for l in look_for:\n",
    "        for c in df.columns:\n",
    "            if re.search(l, c, re.I): print(i, c)"
   ]
  },
  {
   "cell_type": "code",
   "execution_count": null,
   "id": "2542bf44",
   "metadata": {
    "scrolled": true
   },
   "outputs": [],
   "source": [
    "mdf, conflict_df=data_merger(df1, df2, how='outer', on=['ID','ID_ech','Date_mes'], dist_max=1)"
   ]
  },
  {
   "cell_type": "code",
   "execution_count": null,
   "id": "081b3e72",
   "metadata": {},
   "outputs": [],
   "source": [
    "dataset = mdf.copy()"
   ]
  },
  {
   "cell_type": "code",
   "execution_count": null,
   "id": "3d4f7f98",
   "metadata": {},
   "outputs": [],
   "source": [
    "print(f'Dataset rows: {len(dataset)}')"
   ]
  },
  {
   "cell_type": "markdown",
   "id": "9723cd4e",
   "metadata": {},
   "source": [
    "#### $\\color{green}{\\textbf{Lecture et fusion}}$"
   ]
  },
  {
   "cell_type": "code",
   "execution_count": null,
   "id": "22e7539f",
   "metadata": {
    "scrolled": false
   },
   "outputs": [],
   "source": [
    "file1= csv_data_dir + 'Phase_2_Memoris/source_merge/source_Measures.csv' # 3\n",
    "file2= csv_data_dir + 'database_Memoris3/source_merge/source_Measures.csv' # 7\n",
    "\n",
    "df1, df2 = create_df([file1, file2])\n",
    "dataframe_viewer(df1, rows=3, un_val='ID', view=view), dataframe_viewer(df2, rows=3, un_val='ID', view=view)"
   ]
  },
  {
   "cell_type": "code",
   "execution_count": null,
   "id": "725d247d",
   "metadata": {},
   "outputs": [],
   "source": [
    "df_list = [df1, df2]\n",
    "look_for = ['Date', 'ID']\n",
    "for i, df in enumerate(df_list):\n",
    "    for l in look_for:\n",
    "        for c in df.columns:\n",
    "            if re.search(l, c, re.I): print(i, c)"
   ]
  },
  {
   "cell_type": "code",
   "execution_count": null,
   "id": "54b32120",
   "metadata": {
    "scrolled": true
   },
   "outputs": [],
   "source": [
    "mdf, conflict_df=data_merger(df1, df2, how='outer', on=['ID','ID_ech','Date_mes'], dist_max=1)"
   ]
  },
  {
   "cell_type": "code",
   "execution_count": null,
   "id": "175e663b",
   "metadata": {},
   "outputs": [],
   "source": [
    "datafr = mdf.copy() \n",
    "found = []\n",
    "for i in datafr.index:\n",
    "    if pd.isnull(datafr.loc[i, 'ID_ech']):\n",
    "        found.append(i)\n",
    "        datafr.loc[i, 'ID_ech'] = datafr.loc[i, 'ID']\n",
    "if found: print(f\"{len(found)} Nan found in 'ID_ech' and fixed\")"
   ]
  },
  {
   "cell_type": "code",
   "execution_count": null,
   "id": "508147ae",
   "metadata": {},
   "outputs": [],
   "source": [
    "for i in datafr.index:\n",
    "    if re.search('FP 49 PROF', datafr.loc[i, 'ID_ech']):\n",
    "        datafr.loc[i, 'ID_ech'] = 'FP49 PROF'\n",
    "    elif re.search('FP 49 SUP', datafr.loc[i, 'ID_ech']):\n",
    "        datafr.loc[i, 'ID_ech'] = 'FP49 SUP'"
   ]
  },
  {
   "cell_type": "code",
   "execution_count": null,
   "id": "32afdb80",
   "metadata": {},
   "outputs": [],
   "source": [
    "datafr = gen_id_from_ech(datafr, id_ech_col='ID_ech', suffixes=sufx, prefixes=prefx, capture_regex=id_reg)#, verbose=True)\n",
    "mdf = datafr.copy()"
   ]
  },
  {
   "cell_type": "code",
   "execution_count": null,
   "id": "2f8c0943",
   "metadata": {},
   "outputs": [],
   "source": [
    "data = mdf\n",
    "dataset, conflict_df=data_merger(dataset, data, how='outer', on=['ID','ID_ech','Date_mes'], dist_max=1)"
   ]
  },
  {
   "cell_type": "code",
   "execution_count": null,
   "id": "99889fab",
   "metadata": {
    "scrolled": true
   },
   "outputs": [],
   "source": [
    "print(f'Dataset rows: {len(dataset)}')"
   ]
  },
  {
   "cell_type": "markdown",
   "id": "62e7296e",
   "metadata": {},
   "source": [
    "#### $\\color{green}{\\textbf{Lecture et fusion}}$"
   ]
  },
  {
   "cell_type": "code",
   "execution_count": null,
   "id": "353e5cbd",
   "metadata": {
    "scrolled": false
   },
   "outputs": [],
   "source": [
    "file1= csv_data_dir + 'profils_sols_donnees_forages/source_merge/source_Measures.csv' # 10\n",
    "file2= csv_data_dir + 'database_Memoris3/source_merge/source_Measures.csv' # 12\n",
    "\n",
    "df1, df2 = create_df([file1, file2])\n",
    "dataframe_viewer(df1, rows=3, un_val='ID', view=view), dataframe_viewer(df2, rows=3, un_val='ID', view=view)"
   ]
  },
  {
   "cell_type": "code",
   "execution_count": null,
   "id": "e008a568",
   "metadata": {},
   "outputs": [],
   "source": [
    "df_list = [df1, df2]\n",
    "look_for = ['Date', 'ID']\n",
    "for i, df in enumerate(df_list):\n",
    "    for l in look_for:\n",
    "        for c in df.columns:\n",
    "            if re.search(l, c, re.I): print(i, c)"
   ]
  },
  {
   "cell_type": "code",
   "execution_count": null,
   "id": "ad5f2404",
   "metadata": {
    "scrolled": true
   },
   "outputs": [],
   "source": [
    "mdf, conflict_df=data_merger(df1, df2, how='outer', on=['ID','Date_mes'], dist_max=1)"
   ]
  },
  {
   "cell_type": "code",
   "execution_count": null,
   "id": "48ffb8be",
   "metadata": {},
   "outputs": [],
   "source": [
    "datafr = mdf.copy() \n",
    "found = []\n",
    "for i in datafr.index:\n",
    "    if pd.isnull(datafr.loc[i, 'ID_ech']):\n",
    "        found.append(i)\n",
    "        datafr.loc[i, 'ID_ech'] = datafr.loc[i, 'ID']\n",
    "if found: print(f\"{len(found)} Nan found in 'ID_ech' and fixed\")"
   ]
  },
  {
   "cell_type": "code",
   "execution_count": null,
   "id": "8c717331",
   "metadata": {},
   "outputs": [],
   "source": [
    "datafr = gen_id_from_ech(datafr, id_ech_col='ID_ech', suffixes=sufx, prefixes=prefx, capture_regex=id_reg)\n",
    "mdf = datafr.copy()"
   ]
  },
  {
   "cell_type": "code",
   "execution_count": null,
   "id": "194e0321",
   "metadata": {},
   "outputs": [],
   "source": [
    "data = mdf\n",
    "dataset, conflict_df=data_merger(dataset, data, how='outer', on=['ID','ID_ech','Date_mes'], dist_max=1)"
   ]
  },
  {
   "cell_type": "code",
   "execution_count": null,
   "id": "02bc8e50",
   "metadata": {},
   "outputs": [],
   "source": [
    "data_validation(overall_data=dataset, conflict_data=conflict_df, index_col='index', pass_col='ID', \n",
    "                valid_dict={'MS_x':list(conflict_df.index), 'pH_CaCl2_x':list(conflict_df.index)})\n",
    "\n",
    "if 'level_0' in dataset.columns:\n",
    "    if 'index' in dataset.columns:\n",
    "        dataset.drop(columns='index', inplace=True)\n",
    "    dataset.rename(columns={'level_0':'index'}, inplace=True)"
   ]
  },
  {
   "cell_type": "code",
   "execution_count": null,
   "id": "40bb1ab3",
   "metadata": {
    "scrolled": true
   },
   "outputs": [],
   "source": [
    "print(f'Dataset rows: {len(dataset)}')"
   ]
  },
  {
   "cell_type": "markdown",
   "id": "4e2a72a6",
   "metadata": {},
   "source": [
    "#### $\\color{green}{\\textbf{Lecture et fusion}}$"
   ]
  },
  {
   "cell_type": "code",
   "execution_count": null,
   "id": "d2c40b3c",
   "metadata": {
    "scrolled": false
   },
   "outputs": [],
   "source": [
    "file1= csv_data_dir + 'Container_phyto/source_merge/source_Measures.csv' # 0\n",
    "file2= csv_data_dir + 'Siterem_Ext_Pilote/source_merge/source_Measures.csv' # 4\n",
    "\n",
    "df1, df2 = create_df([file1, file2])\n",
    "dataframe_viewer(df1, rows=3, un_val='ID', view=view), dataframe_viewer(df2, rows=3, un_val='ID', view=view)"
   ]
  },
  {
   "cell_type": "code",
   "execution_count": null,
   "id": "768de1f0",
   "metadata": {},
   "outputs": [],
   "source": [
    "df_list = [df1, df2]\n",
    "look_for = ['Date', 'ID']\n",
    "for i, df in enumerate(df_list):\n",
    "    for l in look_for:\n",
    "        for c in df.columns:\n",
    "            if re.search(l, c, re.I): print(i, c)"
   ]
  },
  {
   "cell_type": "code",
   "execution_count": null,
   "id": "b39aa90b",
   "metadata": {},
   "outputs": [],
   "source": [
    "df2['ID_ech'] = df2['ID_ech'].astype('object')"
   ]
  },
  {
   "cell_type": "code",
   "execution_count": null,
   "id": "6a1164e7",
   "metadata": {
    "scrolled": true
   },
   "outputs": [],
   "source": [
    "mdf, conflict_df=data_merger(df1, df2, how='outer', on=['ID_ech','Date_mes'], dist_max=1)"
   ]
  },
  {
   "cell_type": "code",
   "execution_count": null,
   "id": "2b7569e4",
   "metadata": {},
   "outputs": [],
   "source": [
    "datafr = mdf.copy() \n",
    "found = []\n",
    "for i in datafr.index:\n",
    "    if pd.isnull(datafr.loc[i, 'ID_ech']):\n",
    "        found.append(i)\n",
    "        datafr.loc[i, 'ID_ech'] = datafr.loc[i, 'ID']\n",
    "if found: print(f\"{len(found)} Nan found in 'ID_ech' and fixed\")"
   ]
  },
  {
   "cell_type": "code",
   "execution_count": null,
   "id": "a10cbbb3",
   "metadata": {},
   "outputs": [],
   "source": [
    "#datafr = gen_id_from_ech(datafr, id_ech_col='ID_ech', suffixes=sufx, prefixes=prefx, capture_regex=id_reg)\n",
    "mdf = datafr.copy()"
   ]
  },
  {
   "cell_type": "code",
   "execution_count": null,
   "id": "d4afbd48",
   "metadata": {},
   "outputs": [],
   "source": [
    "data = mdf\n",
    "dataset, conflict_df=data_merger(dataset, data, how='outer', on=['ID_ech','Date_mes'], dist_max=1)"
   ]
  },
  {
   "cell_type": "code",
   "execution_count": null,
   "id": "bb1c3852",
   "metadata": {
    "scrolled": true
   },
   "outputs": [],
   "source": [
    "print(f'Dataset rows: {len(dataset)}')"
   ]
  },
  {
   "cell_type": "markdown",
   "id": "87876ee3",
   "metadata": {},
   "source": [
    "#### $\\color{green}{\\textbf{Lecture et fusion}}$"
   ]
  },
  {
   "cell_type": "code",
   "execution_count": null,
   "id": "e8632e3f",
   "metadata": {
    "scrolled": false
   },
   "outputs": [],
   "source": [
    "file1= csv_data_dir + 'Siterem_Pilote/source_merge/source_Measures.csv' #5\n",
    "file2= csv_data_dir + 'Siterem_Result_Sol/source_merge/source_Measures.csv' #6\n",
    "\n",
    "df1, df2 = create_df([file1, file2])\n",
    "dataframe_viewer(df1, rows=3, un_val='ID', view=view), dataframe_viewer(df2, rows=3, un_val='ID', view=view)"
   ]
  },
  {
   "cell_type": "code",
   "execution_count": null,
   "id": "10cf9296",
   "metadata": {},
   "outputs": [],
   "source": [
    "df_list = [df1, df2]\n",
    "look_for = ['Date', 'ID']\n",
    "for i, df in enumerate(df_list):\n",
    "    for l in look_for:\n",
    "        for c in df.columns:\n",
    "            if re.search(l, c, re.I): print(i, c)"
   ]
  },
  {
   "cell_type": "code",
   "execution_count": null,
   "id": "76df1e81",
   "metadata": {
    "scrolled": true
   },
   "outputs": [],
   "source": [
    "mdf, conflict_df=data_merger(df1, df2, how='outer', on=['ID','ID_ech','Date_mes'], dist_max=1)"
   ]
  },
  {
   "cell_type": "code",
   "execution_count": null,
   "id": "947c40a2",
   "metadata": {},
   "outputs": [],
   "source": [
    "datafr = mdf.copy() \n",
    "found = []\n",
    "for i in datafr.index:\n",
    "    if pd.isnull(datafr.loc[i, 'ID_ech']):\n",
    "        found.append(i)\n",
    "        datafr.loc[i, 'ID_ech'] = datafr.loc[i, 'ID']\n",
    "if found: print(f\"{len(found)} Nan found in 'ID_ech' and fixed\")"
   ]
  },
  {
   "cell_type": "code",
   "execution_count": null,
   "id": "33534910",
   "metadata": {},
   "outputs": [],
   "source": [
    "datafr = gen_id_from_ech(datafr, id_ech_col='ID_ech', suffixes=sufx, prefixes=prefx, capture_regex=id_reg)\n",
    "mdf = datafr.copy()"
   ]
  },
  {
   "cell_type": "code",
   "execution_count": null,
   "id": "a695664d",
   "metadata": {},
   "outputs": [],
   "source": [
    "data = mdf\n",
    "dataset, conflict_df=data_merger(dataset, data, how='outer', on=['ID','ID_ech','Date_mes'], dist_max=1)"
   ]
  },
  {
   "cell_type": "code",
   "execution_count": null,
   "id": "25d89648",
   "metadata": {
    "scrolled": true
   },
   "outputs": [],
   "source": [
    "print(f'Dataset rows: {len(dataset)}')"
   ]
  },
  {
   "cell_type": "markdown",
   "id": "0388d02d",
   "metadata": {},
   "source": [
    "#### $\\color{green}{\\textbf{Lecture et fusion}}$"
   ]
  },
  {
   "cell_type": "code",
   "execution_count": null,
   "id": "07e0f6b3",
   "metadata": {
    "scrolled": false
   },
   "outputs": [],
   "source": [
    "file1= csv_data_dir + 'donnees_terrain_2019/source_merge/source_Measures.csv' # 8\n",
    "file2= csv_data_dir + 'observ_terrain/source_merge/source_Measures.csv' # 9\n",
    "\n",
    "df1, df2 = create_df([file1, file2])\n",
    "dataframe_viewer(df1, rows=3, un_val='ID', view=view), dataframe_viewer(df2, rows=3, un_val='ID', view=view)"
   ]
  },
  {
   "cell_type": "code",
   "execution_count": null,
   "id": "1b5510f4",
   "metadata": {},
   "outputs": [],
   "source": [
    "df_list = [df1, df2]\n",
    "look_for = ['Date', 'ID']\n",
    "for i, df in enumerate(df_list):\n",
    "    for l in look_for:\n",
    "        for c in df.columns:\n",
    "            if re.search(l, c, re.I): print(i, c)"
   ]
  },
  {
   "cell_type": "code",
   "execution_count": null,
   "id": "768beea8",
   "metadata": {
    "scrolled": true
   },
   "outputs": [],
   "source": [
    "mdf, conflict_df=data_merger(df1, df2, how='outer', on=['ID','Date_mes'], dist_max=1)"
   ]
  },
  {
   "cell_type": "code",
   "execution_count": null,
   "id": "93f51b71",
   "metadata": {},
   "outputs": [],
   "source": [
    "data = mdf\n",
    "dataset, conflict_df=data_merger(dataset, data, how='outer', on=['ID','Date_mes'], dist_max=1)"
   ]
  },
  {
   "cell_type": "code",
   "execution_count": null,
   "id": "57870193",
   "metadata": {
    "scrolled": true
   },
   "outputs": [],
   "source": [
    "print(f'Dataset rows: {len(dataset)}')"
   ]
  },
  {
   "cell_type": "markdown",
   "id": "decb1a37",
   "metadata": {},
   "source": [
    "#### $\\color{green}{\\textbf{Lecture et fusion}}$"
   ]
  },
  {
   "cell_type": "code",
   "execution_count": null,
   "id": "48eac259",
   "metadata": {
    "scrolled": false
   },
   "outputs": [],
   "source": [
    "file1= csv_data_dir + 'result_sol_ext_pilote/source_merge/source_Measures.csv' # 11\n",
    "\n",
    "df1 = create_df([file1])[0]\n",
    "dataframe_viewer(df1, rows=3, un_val='ID', view=view)"
   ]
  },
  {
   "cell_type": "code",
   "execution_count": null,
   "id": "733a849d",
   "metadata": {},
   "outputs": [],
   "source": [
    "df_list = [df1]\n",
    "look_for = ['Date', 'ID']\n",
    "for i, df in enumerate(df_list):\n",
    "    for l in look_for:\n",
    "        for c in df.columns:\n",
    "            if re.search(l, c, re.I): print(i, c)"
   ]
  },
  {
   "cell_type": "code",
   "execution_count": null,
   "id": "25fcdccc",
   "metadata": {},
   "outputs": [],
   "source": [
    "data = df1\n",
    "dataset, conflict_df=data_merger(dataset, data, how='outer', on=['ID','ID_ech','Date_mes'], dist_max=1)"
   ]
  },
  {
   "cell_type": "code",
   "execution_count": null,
   "id": "180486ea",
   "metadata": {
    "scrolled": true
   },
   "outputs": [],
   "source": [
    "print(f'Dataset rows: {len(dataset)}')"
   ]
  },
  {
   "cell_type": "markdown",
   "id": "d253a92a",
   "metadata": {},
   "source": [
    "####  $\\color{red}{\\textbf{Sauvegarde du jeu de données}}$"
   ]
  },
  {
   "cell_type": "code",
   "execution_count": null,
   "id": "c3015a5e",
   "metadata": {
    "scrolled": true
   },
   "outputs": [],
   "source": [
    "data_dict['Measure'] = dataset.copy()\n",
    "dataframe_viewer(dataset, rows=3, un_val=['ID','ID_ech'])"
   ]
  },
  {
   "cell_type": "code",
   "execution_count": null,
   "id": "467b9133",
   "metadata": {},
   "outputs": [],
   "source": [
    "dataset.to_csv(save_dir + 'Measures.csv', index=False)"
   ]
  },
  {
   "cell_type": "markdown",
   "id": "c82f0ff9",
   "metadata": {},
   "source": [
    "###  ===================================================="
   ]
  },
  {
   "cell_type": "markdown",
   "id": "043b8ba2",
   "metadata": {},
   "source": [
    "# Croisement et récupération de coordonnées"
   ]
  },
  {
   "cell_type": "code",
   "execution_count": null,
   "id": "a1edf5f1",
   "metadata": {},
   "outputs": [],
   "source": [
    "bh_cols = ['ID','Zone','Sous_zone','Emplacement','X','Y','Z','Zsol','Date_for','Type','Long_for','Long_pz',\n",
    "           'Long_pz_sol','Diam_for','Diam_ext_pz','Diam_int_pz','Sect_crep','Ht_chbre','Ht_pz_sol','Refus',\n",
    "           'Type_refus','Method','Societe','Etude', 'Resp_chantier','Rmq']"
   ]
  },
  {
   "cell_type": "code",
   "execution_count": null,
   "id": "9112bb48",
   "metadata": {},
   "outputs": [],
   "source": [
    "data_dict['Borehole'] = data_dict['Borehole'][bh_cols]"
   ]
  },
  {
   "cell_type": "code",
   "execution_count": null,
   "id": "e6a06885",
   "metadata": {},
   "outputs": [],
   "source": [
    "coi = ['ID','X','Y','Z','Date_for','Long_for','Diam_for']\n",
    "bh_coords = data_dict['Borehole'][coi]"
   ]
  },
  {
   "cell_type": "markdown",
   "id": "261eee3c",
   "metadata": {},
   "source": [
    "### Lithologies"
   ]
  },
  {
   "cell_type": "code",
   "execution_count": null,
   "id": "b7db8ad4",
   "metadata": {},
   "outputs": [],
   "source": [
    "data = data_dict['Litho'].copy()\n",
    "dataset, conflict_df=data_merger(data, bh_coords, how='left', on=['ID'], dist_max=1)"
   ]
  },
  {
   "cell_type": "code",
   "execution_count": null,
   "id": "9f433af2",
   "metadata": {},
   "outputs": [],
   "source": [
    "data_validation(overall_data=dataset, conflict_data=conflict_df, index_col='index', pass_col='ID', \n",
    "                valid_dict={'Long_for_x':list(conflict_df.index), 'Date_for_x':list(conflict_df.index)})\n",
    "\n",
    "if 'level_0' in dataset.columns:\n",
    "    if 'index' in dataset.columns:\n",
    "        dataset.drop(columns='index', inplace=True)\n",
    "    dataset.rename(columns={'level_0':'index'}, inplace=True)"
   ]
  },
  {
   "cell_type": "code",
   "execution_count": null,
   "id": "ef3db7f8",
   "metadata": {},
   "outputs": [],
   "source": [
    "dataset.to_csv(save_dir + 'Cross_Litho-boreholes.csv', index=False)"
   ]
  },
  {
   "cell_type": "markdown",
   "id": "623a5ac4",
   "metadata": {},
   "source": [
    "### Analysis"
   ]
  },
  {
   "cell_type": "code",
   "execution_count": null,
   "id": "4012605c",
   "metadata": {},
   "outputs": [],
   "source": [
    "data = data_dict['Sample'].copy()\n",
    "dataset, conflict_df=data_merger(data, bh_coords, how='left', on=['ID'], dist_max=1)"
   ]
  },
  {
   "cell_type": "code",
   "execution_count": null,
   "id": "51169713",
   "metadata": {},
   "outputs": [],
   "source": [
    "data_validation(overall_data=dataset, conflict_data=conflict_df, index_col='index', pass_col='ID', \n",
    "                valid_dict={'Long_for_y':list(conflict_df.index)})\n",
    "\n",
    "if 'level_0' in dataset.columns:\n",
    "    if 'index' in dataset.columns:\n",
    "        dataset.drop(columns='index', inplace=True)\n",
    "    dataset.rename(columns={'level_0':'index'}, inplace=True)"
   ]
  },
  {
   "cell_type": "code",
   "execution_count": null,
   "id": "46374169",
   "metadata": {},
   "outputs": [],
   "source": [
    "dataset.to_csv(save_dir + 'Cross_Analysis-boreholes.csv', index=False)"
   ]
  },
  {
   "cell_type": "markdown",
   "id": "091de2b8",
   "metadata": {},
   "source": [
    "### measures"
   ]
  },
  {
   "cell_type": "code",
   "execution_count": null,
   "id": "64b3ee82",
   "metadata": {},
   "outputs": [],
   "source": [
    "data = data_dict['Measure'].copy()\n",
    "dataset, conflict_df=data_merger(data, bh_coords, how='left', on=['ID', 'X'], dist_max=1)"
   ]
  },
  {
   "cell_type": "code",
   "execution_count": null,
   "id": "68c2effe",
   "metadata": {},
   "outputs": [],
   "source": [
    "dataset.to_csv(save_dir + 'Cross_Measures-boreholes.csv', index=False)"
   ]
  },
  {
   "cell_type": "code",
   "execution_count": null,
   "id": "c2f9c83a",
   "metadata": {},
   "outputs": [],
   "source": []
  }
 ],
 "metadata": {
  "kernelspec": {
   "display_name": "Python 3 (ipykernel)",
   "language": "python",
   "name": "python3"
  },
  "language_info": {
   "codemirror_mode": {
    "name": "ipython",
    "version": 3
   },
   "file_extension": ".py",
   "mimetype": "text/x-python",
   "name": "python",
   "nbconvert_exporter": "python",
   "pygments_lexer": "ipython3",
   "version": "3.8.10"
  }
 },
 "nbformat": 4,
 "nbformat_minor": 5
}
