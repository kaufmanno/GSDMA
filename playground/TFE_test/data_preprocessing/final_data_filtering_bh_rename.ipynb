{
 "cells": [
  {
   "cell_type": "markdown",
   "id": "finite-killing",
   "metadata": {},
   "source": [
    "# FILTRAGE DES JEUX DE DONNEES"
   ]
  },
  {
   "cell_type": "code",
   "execution_count": 1,
   "id": "educational-barrier",
   "metadata": {},
   "outputs": [],
   "source": [
    "from utils.io import dataframe_viewer, dict_viewer, data_merger, data_validation, na_line_drop, find_bh_synonyms, \\\n",
    "choose_bh_synonym, gen_id_from_ech, value_replication, find_borehole_by_position\n",
    "\n",
    "import re, os\n",
    "import json\n",
    "import numpy as np\n",
    "import pandas as pd\n",
    "import geopandas as gpd\n",
    "from definitions import ROOT_DIR"
   ]
  },
  {
   "cell_type": "code",
   "execution_count": 2,
   "id": "6e614c6c",
   "metadata": {},
   "outputs": [],
   "source": [
    "save_dir = ROOT_DIR + '/CF_data/Result_traitem/fusion_finale/filtered/'"
   ]
  },
  {
   "cell_type": "code",
   "execution_count": 3,
   "id": "04fd9ee8",
   "metadata": {},
   "outputs": [
    {
     "data": {
      "text/plain": [
       "0"
      ]
     },
     "execution_count": 3,
     "metadata": {},
     "output_type": "execute_result"
    }
   ],
   "source": [
    "# os.system(f\"rm -f {ROOT_DIR}/utils/boreholes_synonyms/bh_syn_distmax_0-6.py\")\n",
    "os.system(f\"rm -rf {save_dir}\") \n",
    "os.system(f\"mkdir {save_dir}\") "
   ]
  },
  {
   "cell_type": "code",
   "execution_count": 4,
   "id": "42b9b89d",
   "metadata": {},
   "outputs": [],
   "source": [
    "def list_diff(li1, li2):\n",
    "    return list(set(li1) - set(li2)) + list(set(li2) - set(li1))"
   ]
  },
  {
   "cell_type": "markdown",
   "id": "793e3d33",
   "metadata": {},
   "source": [
    "# Lecture de données de référence sur les forages"
   ]
  },
  {
   "cell_type": "markdown",
   "id": "9454b8ac",
   "metadata": {},
   "source": [
    "* Données issues des fiches des logs de forage"
   ]
  },
  {
   "cell_type": "code",
   "execution_count": 5,
   "id": "098d5248",
   "metadata": {},
   "outputs": [],
   "source": [
    "import importlib.machinery\n",
    "import importlib.util\n",
    "\n",
    "loader = importlib.machinery.SourceFileLoader('known_bhs', '/home/yanathan/Projects/GSDMA/CF_data/known_boreholes.py' )\n",
    "spec = importlib.util.spec_from_loader('known_bhs', loader)\n",
    "known_bhs = importlib.util.module_from_spec(spec)\n",
    "loader.exec_module(known_bhs)\n",
    "log_bhs = known_bhs.known_boreholes"
   ]
  },
  {
   "cell_type": "code",
   "execution_count": 6,
   "id": "589e664d",
   "metadata": {},
   "outputs": [],
   "source": [
    "df_log_bh = pd.DataFrame()"
   ]
  },
  {
   "cell_type": "code",
   "execution_count": 7,
   "id": "0f90888e",
   "metadata": {},
   "outputs": [],
   "source": [
    "idx = 0\n",
    "for k, v in log_bhs.items():\n",
    "    df_log_bh.loc[idx, 'ID'] = k\n",
    "    for p, q in v.items():\n",
    "        df_log_bh.loc[idx, p] = q\n",
    "    idx += 1"
   ]
  },
  {
   "cell_type": "code",
   "execution_count": 8,
   "id": "66ebbf2a",
   "metadata": {},
   "outputs": [
    {
     "name": "stdout",
     "output_type": "stream",
     "text": [
      "Rows : 65, columns : 8, Unique values on cols: {'ID': 65}\n"
     ]
    },
    {
     "data": {
      "application/vnd.jupyter.widget-view+json": {
       "model_id": "7ab67f613b5b4e89915d6773eaeea1cc",
       "version_major": 2,
       "version_minor": 0
      },
      "text/plain": [
       "interactive(children=(IntSlider(value=5, description='rows', max=65, min=5, readout=False), IntSlider(value=8,…"
      ]
     },
     "metadata": {},
     "output_type": "display_data"
    }
   ],
   "source": [
    "dataframe_viewer(df_log_bh, rows=5, un_val='ID')"
   ]
  },
  {
   "cell_type": "markdown",
   "id": "49d2d234",
   "metadata": {},
   "source": [
    "* Données issues des shapefiles"
   ]
  },
  {
   "cell_type": "code",
   "execution_count": 9,
   "id": "0312c8a6",
   "metadata": {},
   "outputs": [],
   "source": [
    "shapef_dir = ROOT_DIR+\"/CF_data/Data_UMONS/SIG/\"\n",
    "shp1 = gpd.read_file(shapef_dir+\"Pilote_v8.0.shp\")\n",
    "shp2 = gpd.read_file(shapef_dir+\"sondages_v2017-05-18.shp\")"
   ]
  },
  {
   "cell_type": "code",
   "execution_count": 10,
   "id": "7ac31853",
   "metadata": {},
   "outputs": [],
   "source": [
    "shp1['X'] = shp1.geometry.x\n",
    "shp1['Y'] = shp1.geometry.y"
   ]
  },
  {
   "cell_type": "code",
   "execution_count": 11,
   "id": "04020828",
   "metadata": {},
   "outputs": [],
   "source": [
    "shp2.rename(columns={'Ref_sond':'ID','XL72':'X','YL72':'Y','Date':'Date_for','Prof_sond':'Long_for'}, inplace=True)\n",
    "shp1.rename(columns={'Ref':'ID'}, inplace=True)"
   ]
  },
  {
   "cell_type": "code",
   "execution_count": 12,
   "id": "02268af6",
   "metadata": {},
   "outputs": [],
   "source": [
    "shp1 = shp1[['ID', 'X', 'Y']]\n",
    "shp2 = shp2[['ID', 'X', 'Y', 'Z', 'Refus', 'Date_for', 'Long_for']]"
   ]
  },
  {
   "cell_type": "code",
   "execution_count": 13,
   "id": "d11c85b0",
   "metadata": {},
   "outputs": [],
   "source": [
    "shp_df, conflict_df=data_merger(shp1, shp2, how='outer', on=['ID'], dist_max=.5)"
   ]
  },
  {
   "cell_type": "markdown",
   "id": "17af230e",
   "metadata": {},
   "source": [
    "### Traitements et fusion des données de base"
   ]
  },
  {
   "cell_type": "code",
   "execution_count": 14,
   "id": "ccfa497d",
   "metadata": {},
   "outputs": [],
   "source": [
    "idx = shp_df.query('ID.str.contains(\"^P\\d\")').index\n",
    "shp_df.loc[idx, 'ID'] = shp_df.loc[idx, 'ID'].apply(lambda x: x.replace('P','F'))"
   ]
  },
  {
   "cell_type": "raw",
   "id": "2b89ed84",
   "metadata": {},
   "source": [
    "idx = shp_df.query('ID.str.contains(\"M$\")').index\n",
    "shp_df.loc[idx, 'ID'] = shp_df.loc[idx, 'ID'].apply(lambda x: x.rstrip('M'))"
   ]
  },
  {
   "cell_type": "raw",
   "id": "f454147c",
   "metadata": {},
   "source": [
    "idx = df_log_bh.query('ID.str.contains(\"M$\")').index\n",
    "df_log_bh.loc[idx, 'ID'] = df_log_bh.loc[idx, 'ID'].apply(lambda x: x.strip('M'))"
   ]
  },
  {
   "cell_type": "markdown",
   "id": "6c9f376e",
   "metadata": {},
   "source": [
    "Fusion"
   ]
  },
  {
   "cell_type": "code",
   "execution_count": 15,
   "id": "127fc0c6",
   "metadata": {},
   "outputs": [
    {
     "name": "stdout",
     "output_type": "stream",
     "text": [
      "Conflict values present. Please resolve this manually !\n"
     ]
    }
   ],
   "source": [
    "bh_base, conflict_df=data_merger(df_log_bh, shp_df, how='outer', on=['ID'], dist_max=0.5)"
   ]
  },
  {
   "cell_type": "code",
   "execution_count": 16,
   "id": "f2553814",
   "metadata": {},
   "outputs": [
    {
     "name": "stdout",
     "output_type": "stream",
     "text": [
      "all conflicts have been fixed!\n"
     ]
    }
   ],
   "source": [
    "dataset = bh_base\n",
    "data_validation(overall_data=dataset, conflict_data=conflict_df, index_col='index', \n",
    "                valid_dict={'Date_for_y':list(conflict_df.index)})\n",
    "\n",
    "if 'level_0' in dataset.columns:\n",
    "    if 'index' in dataset.columns:\n",
    "        dataset.drop(columns='index', inplace=True)\n",
    "    dataset.rename(columns={'level_0':'index'}, inplace=True)"
   ]
  },
  {
   "cell_type": "code",
   "execution_count": 17,
   "id": "90b09110",
   "metadata": {},
   "outputs": [
    {
     "name": "stdout",
     "output_type": "stream",
     "text": [
      "Rows : 186, columns : 9, Unique values on cols: {'ID': 186}\n"
     ]
    },
    {
     "data": {
      "application/vnd.jupyter.widget-view+json": {
       "model_id": "2fe4a69dabd44767923c750fe7818f45",
       "version_major": 2,
       "version_minor": 0
      },
      "text/plain": [
       "interactive(children=(IntSlider(value=5, description='rows', max=186, min=5, readout=False), IntSlider(value=9…"
      ]
     },
     "metadata": {},
     "output_type": "display_data"
    }
   ],
   "source": [
    "dataframe_viewer(rows=5, un_val=['ID'], df=bh_base)#.query('ID.str.contains(\"^P\\d\")'))"
   ]
  },
  {
   "cell_type": "markdown",
   "id": "ce74a182",
   "metadata": {},
   "source": [
    "# Lecture des jeux de données issues du prétraitement final"
   ]
  },
  {
   "cell_type": "code",
   "execution_count": 18,
   "id": "33285a0e",
   "metadata": {},
   "outputs": [],
   "source": [
    "bh = pd.read_csv(ROOT_DIR+'/CF_data/Result_traitem/fusion_finale/Boreholes.csv', delimiter=',')\n",
    "litho = pd.read_csv(ROOT_DIR+'/CF_data/Result_traitem/fusion_finale/Lithologies.csv', delimiter=',')\n",
    "samp = pd.read_csv(ROOT_DIR+'/CF_data/Result_traitem/fusion_finale/Samples.csv', delimiter=',')\n",
    "meas = pd.read_csv(ROOT_DIR+'/CF_data/Result_traitem/fusion_finale/Measures.csv', delimiter=',')\n",
    "eqp = pd.read_csv(ROOT_DIR+'/CF_data/Result_traitem/fusion_finale/Equipments.csv', delimiter=',')\n",
    "ukn = pd.read_csv(ROOT_DIR+'/CF_data/Result_traitem/fusion_finale/Unknown.csv', delimiter=',')"
   ]
  },
  {
   "cell_type": "code",
   "execution_count": 19,
   "id": "24788f3c",
   "metadata": {},
   "outputs": [],
   "source": [
    "data_dict = {'boreholes':bh, 'lithologies':litho, 'samples':samp, 'measures':meas, 'equipments':eqp, 'unknows':ukn}\n",
    "data_coi = {'boreholes':[], 'lithologies':[], 'samples':[], 'measures':[], 'equipments':[], 'unknows':[]}"
   ]
  },
  {
   "cell_type": "code",
   "execution_count": 20,
   "id": "fa274988",
   "metadata": {},
   "outputs": [],
   "source": [
    "for d_key in data_dict.keys():\n",
    "    coi = []\n",
    "    for c in ['ID','ID_ech','X','Y','Z','Long_for','Diam_for','Date_','_top','_base','_epai','Description']:\n",
    "        for col in data_dict[d_key].columns:\n",
    "            if '_' in c and re.search(c, col, re.I):\n",
    "                coi.append(col)\n",
    "            elif c == col:\n",
    "                coi.append(col)\n",
    "\n",
    "    data_coi.update({d_key: coi})"
   ]
  },
  {
   "cell_type": "code",
   "execution_count": 21,
   "id": "4be3adb9",
   "metadata": {},
   "outputs": [
    {
     "data": {
      "text/html": [
       "<table><tr><td><strong>boreholes</strong></td><td>['ID', 'X', 'Y', 'Z', 'Long_for', 'Diam_for', 'Date_for']</td></tr><tr><td><strong>lithologies</strong></td><td>['ID', 'X', 'Y', 'Z', 'Long_for', 'Date_for', 'Litho_top', 'Litho_base', 'Litho_epais', 'Description']</td></tr><tr><td><strong>samples</strong></td><td>['ID', 'ID_ech', 'X', 'Y', 'Z', 'Long_for', 'Date_ech', 'Date_for', 'Pol_top', 'Ech_top', 'Pol_base', 'Ech_base', 'Description']</td></tr><tr><td><strong>measures</strong></td><td>['ID', 'ID_ech', 'X', 'Y', 'Z', 'Date_mes', 'Date_for']</td></tr><tr><td><strong>equipments</strong></td><td>['ID', 'X', 'Y', 'Z', 'Diam_for', 'Date_for', 'Equip_top', 'Equip_base', 'Equip_epais']</td></tr><tr><td><strong>unknows</strong></td><td>['ID', 'X', 'Y', 'Z', 'Long_for', 'Date_for']</td></tr></table>"
      ],
      "text/plain": [
       "<IPython.core.display.HTML object>"
      ]
     },
     "metadata": {},
     "output_type": "display_data"
    }
   ],
   "source": [
    "dict_viewer(data_coi)"
   ]
  },
  {
   "cell_type": "markdown",
   "id": "b3cdb370",
   "metadata": {},
   "source": [
    "### Traitements et fusion des jeux de données"
   ]
  },
  {
   "cell_type": "markdown",
   "id": "92fb90b2",
   "metadata": {},
   "source": [
    "* Forages"
   ]
  },
  {
   "cell_type": "code",
   "execution_count": 22,
   "id": "c858548a",
   "metadata": {},
   "outputs": [],
   "source": [
    "key = 'boreholes'\n",
    "data_dict[key].insert(0, 'ID', data_dict[key].pop('ID'))"
   ]
  },
  {
   "cell_type": "code",
   "execution_count": 23,
   "id": "82cb6760",
   "metadata": {},
   "outputs": [],
   "source": [
    "idx = data_dict[key].query('ID.str.contains(\"^P\\d\")').index\n",
    "data_dict[key].loc[idx, 'ID'] = data_dict[key].loc[idx, 'ID'].apply(lambda x: x.replace('P','F'))"
   ]
  },
  {
   "cell_type": "raw",
   "id": "ace358a7",
   "metadata": {},
   "source": [
    "idx = data_dict[key].query('ID.str.contains(\"M$\")').index\n",
    "data_dict[key].loc[idx, 'ID'] = data_dict[key].loc[idx, 'ID'].apply(lambda x: x.strip('M'))"
   ]
  },
  {
   "cell_type": "markdown",
   "id": "630e737d",
   "metadata": {},
   "source": [
    "Fusion avec les données de base"
   ]
  },
  {
   "cell_type": "code",
   "execution_count": 24,
   "id": "52e7a9a5",
   "metadata": {},
   "outputs": [
    {
     "name": "stdout",
     "output_type": "stream",
     "text": [
      "Conflict values present. Please resolve this manually !\n"
     ]
    }
   ],
   "source": [
    "bh_all, conflict_df=data_merger(bh_base, data_dict[key], how='outer', on=['ID'], dist_max=1)"
   ]
  },
  {
   "cell_type": "code",
   "execution_count": 25,
   "id": "ba0b6ad0",
   "metadata": {
    "scrolled": true
   },
   "outputs": [
    {
     "name": "stdout",
     "output_type": "stream",
     "text": [
      "all conflicts have been fixed!\n"
     ]
    }
   ],
   "source": [
    "dataset = bh_all\n",
    "data_validation(overall_data=dataset, conflict_data=conflict_df, index_col='index', \n",
    "                valid_dict={'Refus_y':list(conflict_df.index), 'Date_for_x':list(conflict_df.index), \n",
    "                            'Long_for_x':list(conflict_df.index), 'Diam_for_x':list(conflict_df.index)})\n",
    "\n",
    "if 'level_0' in dataset.columns:\n",
    "    if 'index' in dataset.columns:\n",
    "        dataset.drop(columns='index', inplace=True)\n",
    "    dataset.rename(columns={'level_0':'index'}, inplace=True)"
   ]
  },
  {
   "cell_type": "code",
   "execution_count": 26,
   "id": "c1082f83",
   "metadata": {},
   "outputs": [],
   "source": [
    "sufx = ['sup', 'prof', 'inf', '/\\dM(\\*)?']\n",
    "prefx = ['eau forage ']\n",
    "id_reg = '\\s*(?P<id>(?:^canne |Piezair | bloqué$)*\\w*\\d+\\w*)\\s*'\n",
    "keys = ['boreholes','lithologies','samples','measures','equipments','unknows']"
   ]
  },
  {
   "cell_type": "code",
   "execution_count": 27,
   "id": "19839f78",
   "metadata": {},
   "outputs": [],
   "source": [
    "bh_all = gen_id_from_ech(bh_all, id_ech_col='ID', suffixes=sufx, prefixes=prefx, capture_regex=id_reg, \n",
    "                         regex_skip='bloqué')\n",
    "bh_all.drop(columns='ID_ech', inplace=True)"
   ]
  },
  {
   "cell_type": "code",
   "execution_count": 28,
   "id": "399e069c",
   "metadata": {},
   "outputs": [],
   "source": [
    "bh_all.loc[bh_all.query('Diam_for==75').index, 'Diam_for'] = 0.075"
   ]
  },
  {
   "cell_type": "code",
   "execution_count": 29,
   "id": "3a22dd09",
   "metadata": {},
   "outputs": [],
   "source": [
    "chg_bh_id = {'224':[213],'_224_':[214],'226':[215],'306':[216],\"F27dM\":[192,193],'F27aM':[189],'F26M':[187,188,718],\n",
    "         'F26':[719],'F25M':[185,186,613],'F25':[612],'F24aM':[182],'F24bM':[183,184],'F23M':[180,181,716],'F17dM':[228],\n",
    "         'F23':[717],'F22M':[178,179],'50':[206],'51':[207],'51':[208,810],'F2M':[329],'F11M':[334],'F12M':[335],\n",
    "         'F13M':[336],'F14M':[225],'F15bM':[226],'F18bM':[169],\"F18c\":\"F18cM\",'F16M':[227],'F19M':[172,173,714,715],}\n",
    "\n",
    "for k, v in chg_bh_id.items(): \n",
    "    if isinstance(v, list):\n",
    "        bh_all.loc[v, 'ID'] = k\n",
    "    elif isinstance(v, str):\n",
    "        bh_all.loc[bh_all.query(f'ID==\"{k}\"').index, 'ID'] = v"
   ]
  },
  {
   "cell_type": "code",
   "execution_count": 30,
   "id": "6a386379",
   "metadata": {},
   "outputs": [],
   "source": [
    "data_dict[key] = bh_all"
   ]
  },
  {
   "cell_type": "code",
   "execution_count": 31,
   "id": "75d23d64",
   "metadata": {},
   "outputs": [],
   "source": [
    "bh_cols = ['ID','X','Y','Z','Long_for','Diam_for','Date_for']#,'Refus','Societe','Zone','Etude','Method']\n",
    "bhs = bh_all[bh_cols]"
   ]
  },
  {
   "cell_type": "markdown",
   "id": "2f6a4438",
   "metadata": {},
   "source": [
    "* Lithologies"
   ]
  },
  {
   "cell_type": "code",
   "execution_count": 32,
   "id": "4cb14550",
   "metadata": {},
   "outputs": [],
   "source": [
    "key = 'lithologies'\n",
    "data_dict[key].insert(0, 'ID', data_dict[key].pop('ID'))"
   ]
  },
  {
   "cell_type": "code",
   "execution_count": 33,
   "id": "f42ade59",
   "metadata": {},
   "outputs": [],
   "source": [
    "litho_cols = ['ID','X','Y','Z','Date_for','Long_for','Litho_top','Litho_base','Description']"
   ]
  },
  {
   "cell_type": "code",
   "execution_count": 34,
   "id": "eeb3cd0e",
   "metadata": {},
   "outputs": [],
   "source": [
    "# skip trenches data\n",
    "data_dict[key] = data_dict[key].drop(index=data_dict[key].query('ID.str.contains(\"^T\")').index)[litho_cols]"
   ]
  },
  {
   "cell_type": "code",
   "execution_count": 35,
   "id": "c4cb1c5e",
   "metadata": {},
   "outputs": [
    {
     "name": "stdout",
     "output_type": "stream",
     "text": [
      "Rows : 1845, columns : 9, Unique values on cols: {'ID': 401}\n"
     ]
    },
    {
     "data": {
      "application/vnd.jupyter.widget-view+json": {
       "model_id": "cb95a3e919cb43ff87913a8218b9c555",
       "version_major": 2,
       "version_minor": 0
      },
      "text/plain": [
       "interactive(children=(IntSlider(value=5, description='rows', max=1845, min=5, readout=False), IntSlider(value=…"
      ]
     },
     "metadata": {},
     "output_type": "display_data"
    }
   ],
   "source": [
    "dataframe_viewer(rows=5, un_val=['ID'], df=data_dict[key])"
   ]
  },
  {
   "cell_type": "markdown",
   "id": "3818df4b",
   "metadata": {},
   "source": [
    "correction d'incohérences sur les ID"
   ]
  },
  {
   "cell_type": "code",
   "execution_count": 36,
   "id": "b82b1485",
   "metadata": {},
   "outputs": [],
   "source": [
    "chg_bh_id = {\"F219a\":'F219B', \"F22\":'F22A', \"F48a\":'F48B', \"F195b\":'F195B', \"F205a\":'F205A', \"F50a\":'F50B', \n",
    "    \"F113a\":'F113A', \"F114a\":'F114A', \"F114b\":'F114B', \"F115a\":'F115A', \"F115b\":'F115B', \"F116a\":'F116A', \n",
    "    \"F116b\":'F116B', \"F117a\":'F117A', \"F117b\":'F117B', \"F118a\":'F118A', \"F118b\":'F118B', \"F119a\":'F119A', \n",
    "    \"F120\":'F120A', \"F121\":'F121A', \"F122\":'F122A', \"F128\":'F128B', \"F130\":'F130B', \"F134\":'F134B', \n",
    "    \"F137\":'F137B', \"F139\":'F139C', \"F140\":'F140C', \"F141\":'F141B', \"F143\":'F143B', \"F115b\":'F115B', \n",
    "    \"F115a\":'F115A', \"F157\":'F157B', \"F159\":'F159B', \"F160\":'FP160', \"F164a\":'F164A', \"F164b\":'F164B', \n",
    "    \"F179\":'F179C', \"F183\":'F183B', \"F184\":'F184C', \"F188\":'F188B', \"F194\":'F194B', \"F195a\":'F195A', \n",
    "    \"F195b\":'F195B', \"F200a\":'F200A', \"F205a\":'F205A', \"F27a\":'F27A', \"F28a\":'F28A', \"F37a\":'F37B', \n",
    "    \"F514a\":'F514b', \"F51a\":'F51B', \"F219a\":'F219B', \"F9a\":'F9A', \"F9b\":'F9B', \"F15a\":'F15A', \"F14\":'FP14',\n",
    "    \"F14\":'FP14', \"F521a\":'F521A', \"F525a\":'F525', \"F531a\":'F531', \"F542a\":'F542A', \"F595\":'FP595',\n",
    "    \"F63\":'FP63', \"F76c\":'FP76', \"F76a\":'F76B', \"F76b\":'F76C', \"F78a\":'F78B', \"F88a\":'F88B', \n",
    "    \"F91bis\":'PZ91Bis', \"F94a\":'F94B', \"F94b\":'F94C', \"F97a\":'F97B', \"F97b\":'F97C'}\n",
    "\n",
    "for k, v in chg_bh_id.items(): \n",
    "    data_dict[key].loc[data_dict[key].query(f'ID==\"{k}\"').index, 'ID'] = v"
   ]
  },
  {
   "cell_type": "markdown",
   "id": "2408a215",
   "metadata": {},
   "source": [
    "Fusion avec les données de forages"
   ]
  },
  {
   "cell_type": "code",
   "execution_count": 37,
   "id": "acf12580",
   "metadata": {},
   "outputs": [
    {
     "name": "stdout",
     "output_type": "stream",
     "text": [
      "Conflict values present. Please resolve this manually !\n"
     ]
    }
   ],
   "source": [
    "dat, conflict_df=data_merger(bhs, data_dict[key], how='outer', on=['ID'], dist_max=0.5)"
   ]
  },
  {
   "cell_type": "code",
   "execution_count": 38,
   "id": "c45ad53d",
   "metadata": {
    "scrolled": true
   },
   "outputs": [
    {
     "name": "stdout",
     "output_type": "stream",
     "text": [
      "all conflicts have been fixed!\n"
     ]
    }
   ],
   "source": [
    "dataset = dat\n",
    "data_validation(overall_data=dataset, conflict_data=conflict_df, index_col='index', \n",
    "                valid_dict={'Date_for_x':list(conflict_df.index), 'Long_for_y':list(conflict_df.index)})\n",
    "\n",
    "if 'level_0' in dataset.columns:\n",
    "    if 'index' in dataset.columns:\n",
    "        dataset.drop(columns='index', inplace=True)\n",
    "    dataset.rename(columns={'level_0':'index'}, inplace=True)"
   ]
  },
  {
   "cell_type": "code",
   "execution_count": 39,
   "id": "3fe7226e",
   "metadata": {},
   "outputs": [],
   "source": [
    "crit_cols = ['ID','X','Y']\n",
    "#pass_cols = crit_cols + ['Litho_top','Litho_base','Litho_epais','Description']\n",
    "copy_cols = ['Z','Date_for','Long_for','Diam_for','Societe']\n",
    "data = value_replication(dat, crit_cols=crit_cols, pass_cols=None, copy_cols=copy_cols)"
   ]
  },
  {
   "cell_type": "code",
   "execution_count": 40,
   "id": "67e77bf4",
   "metadata": {},
   "outputs": [],
   "source": [
    "data = data.query('X==X and Litho_base==Litho_base')"
   ]
  },
  {
   "cell_type": "code",
   "execution_count": 41,
   "id": "5ee548fe",
   "metadata": {},
   "outputs": [],
   "source": [
    "data = data.drop_duplicates(['ID','X','Y','Z','Litho_top','Litho_base','Description'])[litho_cols+['Diam_for']]\n",
    "data.sort_values(['ID','Litho_top'], inplace=True)\n",
    "data.reset_index(drop=True, inplace=True)"
   ]
  },
  {
   "cell_type": "code",
   "execution_count": 42,
   "id": "6a044c9d",
   "metadata": {},
   "outputs": [
    {
     "name": "stdout",
     "output_type": "stream",
     "text": [
      "Rows : 1890, columns : 10, Unique values on cols: {'ID': 397}\n"
     ]
    },
    {
     "data": {
      "application/vnd.jupyter.widget-view+json": {
       "model_id": "65b6832e330d48cb989a37de3ff6f740",
       "version_major": 2,
       "version_minor": 0
      },
      "text/plain": [
       "interactive(children=(IntSlider(value=5, description='rows', max=1890, min=5, readout=False), IntSlider(value=…"
      ]
     },
     "metadata": {},
     "output_type": "display_data"
    }
   ],
   "source": [
    "dataframe_viewer(rows=5, un_val=['ID'], df=data)#.query('Litho_base!=Litho_base'))"
   ]
  },
  {
   "cell_type": "code",
   "execution_count": 43,
   "id": "ec51fbd1",
   "metadata": {},
   "outputs": [],
   "source": [
    "litho_all = data\n",
    "data_dict[key] = data"
   ]
  },
  {
   "cell_type": "markdown",
   "id": "e42d3444",
   "metadata": {},
   "source": [
    "* Analyses"
   ]
  },
  {
   "cell_type": "code",
   "execution_count": 44,
   "id": "7b923c40",
   "metadata": {},
   "outputs": [],
   "source": [
    "key = 'samples'\n",
    "data_dict[key].insert(0, 'ID', data_dict[key].pop('ID'))\n",
    "data_dict[key] = data_dict[key].query('ID==ID')"
   ]
  },
  {
   "cell_type": "code",
   "execution_count": 45,
   "id": "38f0b863",
   "metadata": {},
   "outputs": [],
   "source": [
    "samp_cols = ['ID','ID_ech','Type_ech','X','Y','Z','Date_for','Long_for','Ech_top','Ech_base','Description']\n",
    "samp_cols = samp_cols + [x for x in data_dict[key].columns if x not in samp_cols]\n",
    "samp_cols.remove('level_0')"
   ]
  },
  {
   "cell_type": "code",
   "execution_count": 46,
   "id": "89012d1f",
   "metadata": {},
   "outputs": [],
   "source": [
    "# skip trenches data\n",
    "data_dict[key] = data_dict[key].drop(index=data_dict[key].query('ID.str.contains(\"^T\")').index)[samp_cols]"
   ]
  },
  {
   "cell_type": "code",
   "execution_count": 47,
   "id": "00053c61",
   "metadata": {},
   "outputs": [
    {
     "name": "stderr",
     "output_type": "stream",
     "text": [
      "/home/yanathan/.local/share/virtualenvs/GSDMA-DRfwm83x/lib/python3.8/site-packages/pandas/util/_decorators.py:311: SettingWithCopyWarning: \n",
      "A value is trying to be set on a copy of a slice from a DataFrame\n",
      "\n",
      "See the caveats in the documentation: https://pandas.pydata.org/pandas-docs/stable/user_guide/indexing.html#returning-a-view-versus-a-copy\n",
      "  return func(*args, **kwargs)\n"
     ]
    }
   ],
   "source": [
    "data = data_dict[key].query('Ech_base==Ech_base') # water samples are wipe !\n",
    "data.sort_values(['ID','Ech_top'], inplace=True)\n",
    "data.reset_index(drop=True, inplace=True)"
   ]
  },
  {
   "cell_type": "code",
   "execution_count": 48,
   "id": "99300a48",
   "metadata": {},
   "outputs": [
    {
     "name": "stdout",
     "output_type": "stream",
     "text": [
      "Rows : 1496, columns : 219, Unique values on cols: {'ID': 307}\n"
     ]
    },
    {
     "data": {
      "application/vnd.jupyter.widget-view+json": {
       "model_id": "0f4907510c794494b2550dab56f8db65",
       "version_major": 2,
       "version_minor": 0
      },
      "text/plain": [
       "interactive(children=(IntSlider(value=5, description='rows', max=1496, min=5, readout=False), IntSlider(value=…"
      ]
     },
     "metadata": {},
     "output_type": "display_data"
    }
   ],
   "source": [
    "dataframe_viewer(rows=5, un_val=['ID'], df=data)#.query('Type_ech==\"Sol\"')[samp_cols])"
   ]
  },
  {
   "cell_type": "markdown",
   "id": "8cf65601",
   "metadata": {},
   "source": [
    "correction d'incohérences sur les ID"
   ]
  },
  {
   "cell_type": "code",
   "execution_count": 49,
   "id": "18b425c5",
   "metadata": {},
   "outputs": [
    {
     "name": "stderr",
     "output_type": "stream",
     "text": [
      "/home/yanathan/.local/share/virtualenvs/GSDMA-DRfwm83x/lib/python3.8/site-packages/pandas/core/indexing.py:1817: SettingWithCopyWarning: \n",
      "A value is trying to be set on a copy of a slice from a DataFrame.\n",
      "Try using .loc[row_indexer,col_indexer] = value instead\n",
      "\n",
      "See the caveats in the documentation: https://pandas.pydata.org/pandas-docs/stable/user_guide/indexing.html#returning-a-view-versus-a-copy\n",
      "  self._setitem_single_column(loc, value, pi)\n"
     ]
    }
   ],
   "source": [
    "chg_bh_id = {\"224b\":'224','F9M':\"F9bM\",'F9B':[1258,1260,1308],'F9bM':[1259,1316],'F6M':[1080,1077],'F17dM':[512],\n",
    "             'F5M':[915,919,920],'F4M':[806,810,913],'F4':[912,914],'F3M':[732,734],'F26M':[699,701,703,705],\n",
    "             'F25M':[687,692,694],'F24bM':[686],'F23M':[675,677],\"F22\":'F22M',\"F27d\":\"F27dM\",'F13M':[285,290,292],\n",
    "             'F2M':[575,579,581],'F1aM':[98,100,570,571],'F10M':[106],'F11M':[169],'F12M':[233,235],'F14M':[333],\n",
    "             'F15bM':[405,406,407],'F18bM':[547],\"F18c\":\"F18cM\",'F16M':[411,412],'F19M':[554,556]}\n",
    "\n",
    "for k, v in chg_bh_id.items(): \n",
    "    if isinstance(v, list):\n",
    "        data.loc[v, 'ID'] = k\n",
    "    elif isinstance(v, str):\n",
    "        data.loc[data.query(f'ID==\"{k}\"').index, 'ID'] = v"
   ]
  },
  {
   "cell_type": "markdown",
   "id": "24fde3e5",
   "metadata": {},
   "source": [
    "Fusion avec les données de forages"
   ]
  },
  {
   "cell_type": "code",
   "execution_count": 50,
   "id": "f0f63503",
   "metadata": {},
   "outputs": [
    {
     "name": "stdout",
     "output_type": "stream",
     "text": [
      "Conflict values present. Please resolve this manually !\n"
     ]
    }
   ],
   "source": [
    "dat, conflict_df=data_merger(bhs, data, how='outer', on=['ID'], dist_max=0.5)"
   ]
  },
  {
   "cell_type": "code",
   "execution_count": 51,
   "id": "e3608a21",
   "metadata": {
    "scrolled": true
   },
   "outputs": [
    {
     "name": "stdout",
     "output_type": "stream",
     "text": [
      "all conflicts have been fixed!\n"
     ]
    }
   ],
   "source": [
    "dataset = dat\n",
    "data_validation(overall_data=dataset, conflict_data=conflict_df, index_col='index', \n",
    "                valid_dict={'Date_for_x':list(conflict_df.index), 'Long_for_x':[118,120]})\n",
    "\n",
    "if 'level_0' in dataset.columns:\n",
    "    if 'index' in dataset.columns:\n",
    "        dataset.drop(columns='index', inplace=True)\n",
    "    dataset.rename(columns={'level_0':'index'}, inplace=True)"
   ]
  },
  {
   "cell_type": "code",
   "execution_count": 52,
   "id": "32db717c",
   "metadata": {},
   "outputs": [],
   "source": [
    "data = dat.query('ID_ech==ID_ech').sort_values(['ID','Ech_top'])\n",
    "data.drop(['Pol_top','Pol_base','Refus'], axis=1, inplace=True)"
   ]
  },
  {
   "cell_type": "code",
   "execution_count": 53,
   "id": "8f9879c4",
   "metadata": {},
   "outputs": [],
   "source": [
    "crit_cols = ['ID','X','Y']\n",
    "#pass_cols = crit_cols + ['Litho_top','Litho_base','Litho_epais','Description']\n",
    "copy_cols = ['Z','Date_for','Date_ech','Long_for','Diam_for','Societe']\n",
    "data = value_replication(data, crit_cols=crit_cols, pass_cols=None, copy_cols=copy_cols)"
   ]
  },
  {
   "cell_type": "code",
   "execution_count": 54,
   "id": "6ebba11e",
   "metadata": {},
   "outputs": [],
   "source": [
    "data = data.query('X==X and Ech_base==Ech_base')"
   ]
  },
  {
   "cell_type": "code",
   "execution_count": 55,
   "id": "eed89258",
   "metadata": {},
   "outputs": [],
   "source": [
    "samp_cols = ['ID','ID_ech','Type_ech','X','Y','Z','Date_for','Diam_for','Long_for','Ech_top','Ech_base','Description']\n",
    "samp_cols = samp_cols + [x for x in data.columns if x not in samp_cols]"
   ]
  },
  {
   "cell_type": "code",
   "execution_count": 56,
   "id": "7d7ae076",
   "metadata": {},
   "outputs": [],
   "source": [
    "data = data.drop_duplicates(['ID','X','Y','Z','Ech_top','Ech_base','Description'])[samp_cols]\n",
    "data.sort_values(['ID','Ech_top'], inplace=True)\n",
    "data.reset_index(drop=True, inplace=True)"
   ]
  },
  {
   "cell_type": "code",
   "execution_count": 57,
   "id": "99eccaff",
   "metadata": {},
   "outputs": [
    {
     "name": "stdout",
     "output_type": "stream",
     "text": [
      "Rows : 1515, columns : 217, Unique values on cols: {'ID': 295}\n"
     ]
    },
    {
     "data": {
      "application/vnd.jupyter.widget-view+json": {
       "model_id": "58917e33f4b3479ebc5566f5470e5cac",
       "version_major": 2,
       "version_minor": 0
      },
      "text/plain": [
       "interactive(children=(IntSlider(value=5, description='rows', max=1515, min=5, readout=False), IntSlider(value=…"
      ]
     },
     "metadata": {},
     "output_type": "display_data"
    }
   ],
   "source": [
    "dataframe_viewer(rows=5, un_val=['ID'], df=data)#.query('X!=X and Ech_base!=Ech_base'))"
   ]
  },
  {
   "cell_type": "code",
   "execution_count": 58,
   "id": "b42724a2",
   "metadata": {},
   "outputs": [],
   "source": [
    "samp_all = data\n",
    "data_dict[key] = data"
   ]
  },
  {
   "cell_type": "markdown",
   "id": "a52c1010",
   "metadata": {},
   "source": [
    "### suppression des doublons du jeu de données des forages"
   ]
  },
  {
   "cell_type": "markdown",
   "id": "850fa854",
   "metadata": {},
   "source": [
    "Fusion et récupération de coordonnées"
   ]
  },
  {
   "cell_type": "code",
   "execution_count": 59,
   "id": "f928d5a0",
   "metadata": {},
   "outputs": [
    {
     "name": "stdout",
     "output_type": "stream",
     "text": [
      "Conflict values present. Please resolve this manually !\n"
     ]
    }
   ],
   "source": [
    "dat, conflict_df=data_merger(bh_all, litho_all[bh_cols], how='outer', on=['ID'], dist_max=0.5)"
   ]
  },
  {
   "cell_type": "code",
   "execution_count": 60,
   "id": "fe192c9b",
   "metadata": {
    "scrolled": true
   },
   "outputs": [
    {
     "name": "stdout",
     "output_type": "stream",
     "text": [
      "all conflicts have been fixed!\n"
     ]
    }
   ],
   "source": [
    "dataset = dat\n",
    "data_validation(overall_data=dataset, conflict_data=conflict_df, index_col='index', \n",
    "                valid_dict={'Date_for_y':list(conflict_df.index), 'Long_for_y':list(conflict_df.index),\n",
    "                           'Z_x':list(conflict_df.index)})\n",
    "\n",
    "if 'level_0' in dataset.columns:\n",
    "    if 'index' in dataset.columns:\n",
    "        dataset.drop(columns='index', inplace=True)\n",
    "    dataset.rename(columns={'level_0':'index'}, inplace=True)"
   ]
  },
  {
   "cell_type": "code",
   "execution_count": 61,
   "id": "96070993",
   "metadata": {},
   "outputs": [
    {
     "name": "stdout",
     "output_type": "stream",
     "text": [
      "Conflict values present. Please resolve this manually !\n"
     ]
    }
   ],
   "source": [
    "data, conflict_df=data_merger(dat, samp_all[bh_cols], how='outer', on=['ID'], dist_max=0.5)"
   ]
  },
  {
   "cell_type": "code",
   "execution_count": 62,
   "id": "446bc79e",
   "metadata": {
    "scrolled": true
   },
   "outputs": [
    {
     "name": "stdout",
     "output_type": "stream",
     "text": [
      "all conflicts have been fixed!\n"
     ]
    }
   ],
   "source": [
    "dataset = data\n",
    "data_validation(overall_data=dataset, conflict_data=conflict_df, index_col='index', \n",
    "                valid_dict={'Date_for_y':list(conflict_df.index), 'Long_for_y':list(conflict_df.index),\n",
    "                           'Z_y':list(conflict_df.index)})\n",
    "\n",
    "if 'level_0' in dataset.columns:\n",
    "    if 'index' in dataset.columns:\n",
    "        dataset.drop(columns='index', inplace=True)\n",
    "    dataset.rename(columns={'level_0':'index'}, inplace=True)"
   ]
  },
  {
   "cell_type": "markdown",
   "id": "073d23a2",
   "metadata": {},
   "source": [
    "Suppression des doublons"
   ]
  },
  {
   "cell_type": "code",
   "execution_count": 63,
   "id": "fdadeb0e",
   "metadata": {},
   "outputs": [],
   "source": [
    "data = data.query('X==X')"
   ]
  },
  {
   "cell_type": "code",
   "execution_count": 64,
   "id": "1c0d40f0",
   "metadata": {},
   "outputs": [],
   "source": [
    "crit_cols = ['ID','X','Y']\n",
    "#pass_cols = crit_cols + ['Litho_top','Litho_base','Litho_epais','Description']\n",
    "copy_cols = list(data.columns)\n",
    "data = value_replication(data, crit_cols=crit_cols, pass_cols=None, copy_cols=copy_cols)"
   ]
  },
  {
   "cell_type": "code",
   "execution_count": 65,
   "id": "68c2fce7",
   "metadata": {},
   "outputs": [
    {
     "name": "stderr",
     "output_type": "stream",
     "text": [
      "/home/yanathan/.local/share/virtualenvs/GSDMA-DRfwm83x/lib/python3.8/site-packages/pandas/util/_decorators.py:311: SettingWithCopyWarning: \n",
      "A value is trying to be set on a copy of a slice from a DataFrame\n",
      "\n",
      "See the caveats in the documentation: https://pandas.pydata.org/pandas-docs/stable/user_guide/indexing.html#returning-a-view-versus-a-copy\n",
      "  return func(*args, **kwargs)\n"
     ]
    }
   ],
   "source": [
    "dat = data.drop_duplicates(['ID','X','Y'])\n",
    "dat.sort_values('ID', inplace=True)\n",
    "dat.reset_index(drop=True, inplace=True)"
   ]
  },
  {
   "cell_type": "raw",
   "id": "6545e294",
   "metadata": {},
   "source": [
    "### Renommage des forages dans les jeux de données"
   ]
  },
  {
   "cell_type": "raw",
   "id": "aa871e01",
   "metadata": {},
   "source": [
    "* Forages"
   ]
  },
  {
   "cell_type": "raw",
   "id": "15e88780",
   "metadata": {},
   "source": [
    "#choices = {133:'BH_name_1'}\n",
    "data, syn_dict = choose_bh_synonym(dat, regex_choice='^F|^P|^_F|^\\d+$|^_\\d+_$', regex_skip='bloqu|bis$|\\d+[a-e]\\'?M?$',\n",
    "                                dist_max=0.1, n_loop=2)#, choice_dict=choices)"
   ]
  },
  {
   "cell_type": "raw",
   "id": "a518860d",
   "metadata": {},
   "source": [
    "data.loc[222,'ID'] = data.loc[202,'ID']"
   ]
  },
  {
   "cell_type": "raw",
   "id": "824ae703",
   "metadata": {},
   "source": [
    "crit_cols = ['ID']\n",
    "#pass_cols = crit_cols + ['Litho_top','Litho_base','Litho_epais','Description']\n",
    "copy_cols = list(data.columns)\n",
    "df = value_replication(data, crit_cols=crit_cols, pass_cols=None, copy_cols=copy_cols)"
   ]
  },
  {
   "cell_type": "raw",
   "id": "0585c48c",
   "metadata": {},
   "source": [
    "df = df.drop_duplicates(['ID','X','Y'])\n",
    "df.sort_values('ID', inplace=True)\n",
    "df.reset_index(drop=True, inplace=True)"
   ]
  },
  {
   "cell_type": "raw",
   "id": "7a032986",
   "metadata": {},
   "source": [
    "df.loc[525,'ID'] = 'BH_geosonda'"
   ]
  },
  {
   "cell_type": "raw",
   "id": "5b49b630",
   "metadata": {},
   "source": [
    "df = df.query('X==X')"
   ]
  },
  {
   "cell_type": "code",
   "execution_count": 123,
   "id": "d26b920c",
   "metadata": {},
   "outputs": [],
   "source": [
    "data_dict['boreholes'] = dat.query('X==X').copy()"
   ]
  },
  {
   "cell_type": "raw",
   "id": "bf4545b0",
   "metadata": {},
   "source": [
    "dataframe_viewer(rows=10, un_val=['ID'], df=df)#.query('X!=X'))"
   ]
  },
  {
   "cell_type": "raw",
   "id": "3eb59b02",
   "metadata": {},
   "source": [
    "uid = '19'\n",
    "dataframe_viewer(rows=5, un_val=['ID'], df=df.query(f'ID.str.contains(\"{uid}\\w?M?$\", case=False)')),\\\n",
    "dataframe_viewer(rows=5, un_val=['ID'], df=litho_all.query(f'ID.str.contains(\"{uid}\\w?M?$\", case=False)'))"
   ]
  },
  {
   "cell_type": "markdown",
   "id": "ee12acc9",
   "metadata": {},
   "source": [
    "Renommage des forages des autres jeux de données sur base des identifiants trouvés dans la source des forages"
   ]
  },
  {
   "cell_type": "raw",
   "id": "36f52843",
   "metadata": {},
   "source": [
    "base_df = data_dict['boreholes']\n",
    "dfs = [litho_all, samp_all]\n",
    "crit_cols = ['ID','X','Y']\n",
    "new_dfs = []\n",
    "\n",
    "for df in dfs:\n",
    "    data = df.copy()\n",
    "    data.insert(0, 'old_ID', data['ID'])\n",
    "    \n",
    "    for i in base_df.index:\n",
    "        id_xy = list(base_df.loc[i, crit_cols])\n",
    "        q = f'X=={id_xy[1]} and Y=={id_xy[2]}'\n",
    "        idx = data.query(q).index\n",
    "        data.loc[idx, 'ID'] = id_xy[0]\n",
    "    \n",
    "    new_dfs.append(data)"
   ]
  },
  {
   "cell_type": "code",
   "execution_count": null,
   "id": "41450190",
   "metadata": {},
   "outputs": [],
   "source": [
    "dataframe_viewer(rows=10, un_val=['ID'], df=new_dfs[0])#.query('X!=X'))"
   ]
  },
  {
   "cell_type": "markdown",
   "id": "51a0fe9f",
   "metadata": {},
   "source": [
    "####  $\\color{red}{\\textbf{Sauvegarde du jeu de données}}$"
   ]
  },
  {
   "cell_type": "code",
   "execution_count": null,
   "id": "758396b9",
   "metadata": {},
   "outputs": [],
   "source": [
    "for k in data_dict.keys():\n",
    "    data_dict[k].to_csv(save_dir + f'{k.capitalize()}.csv', index=False)"
   ]
  },
  {
   "cell_type": "markdown",
   "id": "9d892af2",
   "metadata": {},
   "source": [
    "###  ===================================================="
   ]
  },
  {
   "cell_type": "raw",
   "id": "8d8682a2",
   "metadata": {},
   "source": [
    "1.00 == 1.0"
   ]
  },
  {
   "cell_type": "raw",
   "id": "624301c8",
   "metadata": {},
   "source": [
    "uid = '19'\n",
    "dataframe_viewer(rows=5, un_val=['ID'], df=df.query(f'ID.str.contains(\"{uid}\\w?M?$\", case=False)')),\\\n",
    "dataframe_viewer(rows=5, un_val=['ID'], df=litho_all.query(f'ID.str.contains(\"{uid}\\w?M?$\", case=False)'))"
   ]
  },
  {
   "cell_type": "raw",
   "id": "0a23ae96",
   "metadata": {},
   "source": [
    "# Affichage par catégorie"
   ]
  },
  {
   "cell_type": "raw",
   "id": "bec21893",
   "metadata": {
    "scrolled": true
   },
   "source": [
    "for ctg in data_dict.keys():\n",
    "    if 'index' in data_dict[ctg].columns:\n",
    "        data_dict[ctg].drop('index', axis=1, inplace=True)\n",
    "    data_dict[ctg].insert(0,'ID', data_dict[ctg].pop('ID'))\n",
    "    print(ctg)\n",
    "    dataframe_viewer(data_dict[ctg], rows=5, un_val=['ID','ID_ech'])"
   ]
  },
  {
   "cell_type": "raw",
   "id": "288c7dfc",
   "metadata": {},
   "source": [
    "# Renommage des forages "
   ]
  },
  {
   "cell_type": "raw",
   "id": "bf93e028",
   "metadata": {},
   "source": [
    "reg_skip = 'bis$|\\d+[a-e]\\'?M?$'"
   ]
  },
  {
   "cell_type": "raw",
   "id": "12a6dc48",
   "metadata": {},
   "source": [
    "data_list = list(data_dict.values())\n",
    "n_loop = 2\n",
    "n = 1\n",
    "while n <= n_loop:\n",
    "    print(f\"loop {n}\")\n",
    "    data_list = find_borehole_by_position(data_list, dist_max=.6, save_bh_syn=True, display=True, #verbose=True,\n",
    "                                      close_match=0.4, reg_skip=reg_skip, force_rename=False)\n",
    "    n += 1"
   ]
  },
  {
   "cell_type": "raw",
   "id": "e8f4858c",
   "metadata": {},
   "source": [
    "data_list = [df]\n",
    "reg_skip = 'bloqu|bis$|\\d+[a-e]\\'?M?$'\n",
    "data_list = find_borehole_by_position(data_list, dist_max=.2, save_bh_syn=True, display=True, #verbose=True,\n",
    "                                      close_match=0.6, reg_skip=reg_skip, n_iteration=3, force_rename=False, \n",
    "                                      overwrite=True, drop_old_id=False, round_num=3)"
   ]
  },
  {
   "cell_type": "raw",
   "id": "05f7197d",
   "metadata": {},
   "source": [
    "#no_coord = list(set(data_dict[key].query('X!=X')['ID']))\n",
    "no_coord = list(set(data.query('X!=X')['ID']))\n",
    "print(sorted(no_coord))"
   ]
  },
  {
   "cell_type": "raw",
   "id": "dec1a99c",
   "metadata": {},
   "source": [
    "print(list(df[df.duplicated(['ID'])==True]['ID']))"
   ]
  },
  {
   "cell_type": "raw",
   "id": "af76bcd6",
   "metadata": {},
   "source": [
    "uid = 'F17dM?'\n",
    "dataframe_viewer(rows=11, un_val=['ID'], df=data.query(f'ID.str.contains(\"{uid}\\w?M?$\", case=False)')),\\\n",
    "dataframe_viewer(rows=10, un_val=['ID'], df=bhs.query(f'ID.str.contains(\"{uid}\\w?M?$\", case=False)'))"
   ]
  },
  {
   "cell_type": "code",
   "execution_count": null,
   "id": "10eced67",
   "metadata": {},
   "outputs": [],
   "source": [
    "data = bh_all.copy()"
   ]
  },
  {
   "cell_type": "raw",
   "id": "62c98fe4",
   "metadata": {},
   "source": [
    "#choices = {147:'_126_', 146:'BH_name_1'}\n",
    "data, syn_dict = choose_bh_synonym(data, regex_choice='^F|^P|^_F|^\\d+$', auto_search=True, n_loop=2,\n",
    "                                  regex_skip='bloqu|bis$|\\d+[a-e]\\'?M?$', dist_max=0.2)#, choice_dict=choices)"
   ]
  },
  {
   "cell_type": "raw",
   "id": "193fc992",
   "metadata": {},
   "source": [
    "dict_viewer(syn_dict)"
   ]
  },
  {
   "cell_type": "raw",
   "id": "c85c1512",
   "metadata": {},
   "source": [
    "idx = data[data.duplicated(['ID'])==True].index\n",
    "data.loc[idx,'ID'] = data.loc[idx,'ID'].apply(lambda x: 'dupl'+x if x[0] == '_' else 'dupl_'+x)"
   ]
  },
  {
   "cell_type": "raw",
   "id": "9e62c024",
   "metadata": {
    "scrolled": true
   },
   "source": [
    "data, cf_dict = remove_duplicates(data, id_col='ID', round_n=3, max_loop=3)"
   ]
  },
  {
   "cell_type": "raw",
   "id": "68fc215d",
   "metadata": {},
   "source": [
    "data, cf_dict = remove_duplicates_validator(data, cf_dict, valid_dict={'right': list(cf_dict.keys())})"
   ]
  },
  {
   "cell_type": "raw",
   "id": "5cd4b999",
   "metadata": {},
   "source": [
    "#conflict_df = pd.DataFrame()\n",
    "if len(conflict_df)>0:\n",
    "    l = []\n",
    "    if len(conflict_df) > 0:\n",
    "        for i in pd.unique(conflict_df.Check_col):\n",
    "            for c in i.split(', '):\n",
    "                l.append(c)\n",
    "        print('conflict columns :', list(set(l)))\n",
    "\n",
    "dataframe_viewer(conflict_df, rows=5, un_val=['ID','ID_ech'])\n",
    "pause"
   ]
  },
  {
   "cell_type": "raw",
   "id": "ad06dc0a",
   "metadata": {},
   "source": [
    "syn_dict = find_bh_synonyms(bh_base, regex_skip='bloqu|bis$|\\d+[a-e]\\'?M?$', dist_max=0.2, display=True)"
   ]
  },
  {
   "cell_type": "raw",
   "id": "b138873b",
   "metadata": {},
   "source": [
    "choices = {115:'108-modif', 117:'129-modif', 118:'BH_name_1'}\n",
    "data, syn_dict = choose_bh_synonym(data_dict[key], syn_dict, regex_choice='^F|^P|^_F|^\\d+$', choice_dict=choices)"
   ]
  },
  {
   "cell_type": "raw",
   "id": "dbade36e",
   "metadata": {
    "scrolled": true
   },
   "source": [
    "data, cf_dict = remove_duplicates(data, id_col='ID', round_n=3, max_loop=3)"
   ]
  },
  {
   "cell_type": "raw",
   "id": "e21a0bb2",
   "metadata": {},
   "source": [
    "left = list(cf_dict.keys())\n",
    "cf_dict = remove_duplicates_validator(data, cf_dict, valid_dict={'left': left})"
   ]
  },
  {
   "cell_type": "raw",
   "id": "211aa2d4",
   "metadata": {},
   "source": [
    "reg_skip = 'bloqu|bis$|\\d+[a-e]\\'?M?$'"
   ]
  },
  {
   "cell_type": "raw",
   "id": "8ea6c3fe",
   "metadata": {
    "scrolled": true
   },
   "source": [
    "data_list = [df_log_bh, shp_df]\n",
    "data_list = find_borehole_by_position(data_list, dist_max=.5, save_bh_syn=True, display=True, #verbose=True,\n",
    "                                      close_match=0.6, reg_skip=reg_skip, n_iteration=3, force_rename=False, \n",
    "                                      overwrite=True, drop_old_id=False, round_num=2)"
   ]
  }
 ],
 "metadata": {
  "kernelspec": {
   "display_name": "Python 3 (ipykernel)",
   "language": "python",
   "name": "python3"
  },
  "language_info": {
   "codemirror_mode": {
    "name": "ipython",
    "version": 3
   },
   "file_extension": ".py",
   "mimetype": "text/x-python",
   "name": "python",
   "nbconvert_exporter": "python",
   "pygments_lexer": "ipython3",
   "version": "3.8.10"
  }
 },
 "nbformat": 4,
 "nbformat_minor": 5
}
