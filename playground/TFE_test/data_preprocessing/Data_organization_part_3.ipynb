{
 "cells": [
  {
   "cell_type": "markdown",
   "id": "indonesian-alloy",
   "metadata": {},
   "source": [
    "# ORGANISATION DES DONNEES"
   ]
  },
  {
   "cell_type": "raw",
   "id": "demanding-former",
   "metadata": {},
   "source": [
    "config Completer.use_jedi = False"
   ]
  },
  {
   "cell_type": "code",
   "execution_count": null,
   "id": "naughty-clerk",
   "metadata": {},
   "outputs": [],
   "source": [
    "from utils.io import update_dict, gen_dated_id, dataframe_viewer, gen_geodf_geom, data_merger, data_validation, \\\n",
    "data_slicer, replicate_values, collect_measure, collect_time_data, gen_id_from_ech, na_col_drop, na_line_drop, col_ren, \\\n",
    "dble_col_drop, dict_viewer\n",
    "\n",
    "from utils.config import DEFAULT_POL_LEXICON, POL_NAMES_MODEL \n",
    "from difflib import get_close_matches\n",
    "\n",
    "import re, os\n",
    "import numpy as np\n",
    "import geopandas as gpd\n",
    "import pandas as pd\n",
    "import datetime as dtm\n",
    "import matplotlib.pyplot as plt\n",
    "from definitions import ROOT_DIR"
   ]
  },
  {
   "cell_type": "code",
   "execution_count": null,
   "id": "limiting-bracket",
   "metadata": {},
   "outputs": [],
   "source": [
    "def compute_BH_length(df, id_col='ID', length_col_name='Long_for', top_col='Intv_top', base_col='Intv_base', verbose=False):\n",
    "    \n",
    "    if length_col_name in df.columns:\n",
    "        raise(NameError(f'{length_col_name} is already in columns. Give another name'))\n",
    "    \n",
    "    for i in df.index:\n",
    "        try:\n",
    "            float(df.loc[i, top_col])\n",
    "        except ValueError:\n",
    "            df.loc[i, top_col] = np.nan\n",
    "\n",
    "        try:\n",
    "            float(df.loc[i, base_col])\n",
    "        except ValueError:\n",
    "            df.loc[i, base_col] = np.nan\n",
    "\n",
    "    df[top_col] = df[top_col].astype('float64')\n",
    "    df[base_col] = df[base_col].astype('float64')\n",
    "\n",
    "    # compute length based on litho_top and litho_base\n",
    "    id_list = []\n",
    "\n",
    "    for i in df.index:\n",
    "        id_ = df.loc[i,id_col]\n",
    "        \n",
    "        if verbose : print(i, id_, df.loc[i, top_col], df.loc[i, base_col])\n",
    "        if id_ not in id_list:\n",
    "            id_list.append(id_)\n",
    "            if isinstance(id_, str):\n",
    "                sql_id = f\"{id_}\"\n",
    "            elif isinstance(id_, float) or isinstance(id_, int):\n",
    "                sql_id = id_\n",
    "                \n",
    "            tmp = df[df[id_col] == sql_id]\n",
    "            \n",
    "            if verbose : print(len(tmp))\n",
    "            #if len(tmp) > 0:\n",
    "            df.loc[tmp.index, length_col_name] = float(max(tmp[base_col])) - float(min(tmp[top_col]))\n",
    "    \n",
    "    df.drop(index=df.query(f'{base_col}.isnull() and {top_col}.isnull()').index, inplace=True)\n",
    "    df.insert(df.columns.to_list().index(id_col)+1, length_col_name, df.pop(length_col_name))\n",
    "    #df.reset_index(drop=True, inplace=True)\n",
    "    "
   ]
  },
  {
   "cell_type": "markdown",
   "id": "4d7feb75",
   "metadata": {},
   "source": [
    "### Creation du répertoire de sauvegarde"
   ]
  },
  {
   "cell_type": "code",
   "execution_count": null,
   "id": "f1966c0f",
   "metadata": {},
   "outputs": [],
   "source": [
    "save_dir = ROOT_DIR + '/CF_data/Result_traitem/organisation/'"
   ]
  },
  {
   "cell_type": "code",
   "execution_count": null,
   "id": "92ea68c5",
   "metadata": {},
   "outputs": [],
   "source": [
    "if not os.path.exists(save_dir):\n",
    "    os.makedirs(save_dir)"
   ]
  },
  {
   "cell_type": "markdown",
   "id": "d3a4014d",
   "metadata": {},
   "source": [
    "### Definition de variables usuelles"
   ]
  },
  {
   "cell_type": "code",
   "execution_count": null,
   "id": "20a77803",
   "metadata": {},
   "outputs": [],
   "source": [
    "MEAS_NAMES_MODEL = {'Fraction   2000 µm':'Fract_2000µ', 'Fraction   63 µm':'Fract_63µ', 'Fraction   45 µm':'Fract_45µ', 'Fraction   16 µm':'Fract_16µ', \n",
    "                    'Fraction   2 µm':'Fract_2µ', 'Fraction 2 mm':'Fract_2', 'Fraction +2 mm':'Fract_2+', 'Fract_2':'Fract_2', 'Fract_2+':'Fract_2+', \n",
    "                    'Mat. organique':'MO', 'Mat. sèche':'MS', 'Argile':'Fract_arg', 'Fraction argileuse':'Fract_arg'}"
   ]
  },
  {
   "cell_type": "code",
   "execution_count": null,
   "id": "41959670",
   "metadata": {},
   "outputs": [],
   "source": [
    "POL_NAMES_MODEL = {**POL_NAMES_MODEL, **MEAS_NAMES_MODEL}"
   ]
  },
  {
   "cell_type": "code",
   "execution_count": null,
   "id": "1d4e08df",
   "metadata": {},
   "outputs": [],
   "source": [
    "params_kw = ['O_diss','Niv_eau', 'temp', '^T$', '^CE$', 'pH$', 'ORP']\n",
    "meas_kw_col = ['O_diss','pH','CE','ORP','Niv_eau_pz','Niv_eau_sol','Temp']\n",
    "sufx = ['sup', 'prof', 'inf', '/\\dM(\\*)?']\n",
    "prefx = ['eau forage ']\n",
    "id_reg = '\\s*(?P<id>(?:^canne |Piezair )*\\w*\\d+\\w*)\\s*'\n",
    "pollutants_names = list(set(list(DEFAULT_POL_LEXICON.abbreviations.keys()) + list(POL_NAMES_MODEL.values())))"
   ]
  },
  {
   "cell_type": "code",
   "execution_count": null,
   "id": "c16edcac",
   "metadata": {},
   "outputs": [],
   "source": [
    "bh_cols = list(set(['Date_for','ID','X','Y','Z','Zsol','Type','Long_for','Long_pz','Sect_crep','Long_pz_sol','Ht_pz_sol',\n",
    "           'Diam_for','Diam_int_pz','Diam_ext_pz','Ht_chbre','Refus','Societe','Zone','Sous_zone','Etude','Method','Resp_chantier',\n",
    "           'Emplacement','ID_date','Rmq']))\n",
    "\n",
    "mes_cols = list(set(['Date_mes','ID','ID_ech','X','Y','Z','Zsol','pH_H2O', 'Temp_pH_H2O', 'Temp_pH_CaCl2','pH_CaCl2','Temp_pH_KCl',\n",
    "            'pH_KCl','Residu_perte_feu','Fract_arg','Fract_min_2µ','Fract_min_50µ','Fract_min_2','Temp_pH_mes',\n",
    "            'pH_H20', 'Fract_min_2µ', 'Fract_min_50µ', 'Fract_min_2', 'pH_KCl', 'Temp_pH_mes', 'pH_H20', 'sulfures_tot''N_Kjdl','Temp_CE','Temp_pH','Nappe','Rmq','Fract_2000µ','Fract_63µ','Fract_45µ','Fract_16µ',\n",
    "            'Fract_2µ','Temp_ech', 'Periode'] + meas_kw_col + list(MEAS_NAMES_MODEL.values())))\n",
    "\n",
    "eqp_cols = list(set(list(set(['Date_for','ID','X','Y','Z','Zsol','Type_equip','Equip_base','Equip_top','Rmq']))))\n",
    "\n",
    "litho_cols = list(set(['Date_for','ID','ID_ech','X','Y','Z','Zsol','Long_for','Litho_top','Litho_base','Intv_top','Intv_base',\n",
    "              'Description','Rmq']))\n",
    "\n",
    "an_cols = list(set(['ID','X','Y','Z','Zsol','Date_ech','ID_ech','Type_ech','Ech_top','Ech_base','Intv_top','Intv_base',\n",
    "           'Description','Nappe','Organo','Intensite', 'Min_organo', 'Max_organo', 'Polluant',\n",
    "           'Surnageant','Sousnageant','Caractere','Opacite','Rmq'] + pollutants_names))\n",
    "\n",
    "ukw_cols = list(set(['Date_for','ID','X','Y','Z','Zsol','Type','Long_for','Method','Societe','Rmq']))\n",
    "\n",
    "cols_dict = {'borehole': bh_cols, 'measure': mes_cols, 'lithology': litho_cols, 'analysis': an_cols, \n",
    " 'equipement': eqp_cols, 'unknown': ukw_cols}"
   ]
  },
  {
   "cell_type": "code",
   "execution_count": null,
   "id": "d4674736",
   "metadata": {},
   "outputs": [],
   "source": [
    "bh_crit = ['ID','X','Y','Z','Zsol','Type','Long_for','Long_pz','Diam_for','Diam_int_pz','Diam_ext_pz']\n",
    "\n",
    "mes_crit = ['ID','ID_ech','Date_mes'] + meas_kw_col\n",
    "\n",
    "eqp_crit = ['Type_equip','Equip_base','Equip_top']\n",
    "\n",
    "litho_crit = ['Litho_top','Litho_base','Intv_top','Intv_base','Description']\n",
    "\n",
    "an_crit = ['ID_ech','Type_ech','Organo','Surnageant','Sousnageant'] + list(DEFAULT_POL_LEXICON.abbreviations.keys()) \n",
    "\n",
    "ukw_crit = ['ID','X','Y','Z','Zsol','Long_for','Type']\n",
    "\n",
    "crit_dict = {'borehole': bh_crit, 'measure': mes_crit, 'lithology': litho_crit, 'analysis': an_crit, \n",
    " 'equipement': eqp_crit, 'unknown': ukw_crit}"
   ]
  },
  {
   "cell_type": "markdown",
   "id": "6adfd064",
   "metadata": {},
   "source": [
    "variables utilisées par jeu de données\n",
    "================================\n",
    "- bh \t: \tforages (simple ou piezo)\n",
    "- equip\t:\tequipements d'un forage (outils, méthodes utilisés, ...)\n",
    "- ukw\t:\tobjets physiques indéterminés\n",
    "- litho :\tdescriptions lithologiques\n",
    "- an \t: \tanalyses de contaminants sur des échantillons (sol, eau)\n",
    "- mes\t:\tmesures de propriétés sur des échantillons (sol, eau), de paramètres hydrochimiques, ...\n"
   ]
  },
  {
   "cell_type": "markdown",
   "id": "45736216",
   "metadata": {},
   "source": [
    "# ---------------------------------------------------------"
   ]
  },
  {
   "cell_type": "code",
   "execution_count": null,
   "id": "2e022dce",
   "metadata": {},
   "outputs": [],
   "source": [
    "# initialisation des variables\n",
    "_df = pd.DataFrame()\n",
    "source_bh, source_eqp, source_ukw = _df, _df, _df\n",
    "source_litho, source_an, source_mes = _df, _df, _df\n",
    "\n",
    "print(f'source_bh: {len(source_bh)} ; source_eqp: {len(source_eqp)} ; source_uknw: {len(source_ukw)} ; '\n",
    "      f'source_litho: {len(source_litho)} ; source_an: {len(source_an)} ; source_mes: {len(source_mes)}')"
   ]
  },
  {
   "cell_type": "markdown",
   "id": "organized-copying",
   "metadata": {},
   "source": [
    "## 11-Resultats_Siterem_eau_extension_pilote_jusque_decembre_2020.xlsx\n",
    "* **Sheet : 'Résult EAU'**"
   ]
  },
  {
   "cell_type": "code",
   "execution_count": null,
   "id": "alpine-nitrogen",
   "metadata": {},
   "outputs": [],
   "source": [
    "tmp_dir= save_dir + 'Siterem_Ext_Pilote/'\n",
    "sheet='Result_eau'"
   ]
  },
  {
   "cell_type": "code",
   "execution_count": null,
   "id": "technical-montana",
   "metadata": {},
   "outputs": [],
   "source": [
    "df = pd.read_excel(ROOT_DIR + '/CF_data/Data_SITEREM/Resultats_Siterem_eau_extension_pilote_jusque_decembre_2020.xlsx', \n",
    "                   sheet_name='Résult EAU', skiprows=2)\n",
    "df=na_line_drop(df,0)\n",
    "df=na_col_drop(df,1)\n",
    "df.replace(r'<|>','', inplace=True, regex=True)\n",
    "df.replace(r'-$',np.nan, inplace=True, regex=True)\n",
    "\n",
    "dataframe_viewer(df, rows=5)"
   ]
  },
  {
   "cell_type": "raw",
   "id": "a61ee6a9",
   "metadata": {},
   "source": [
    "indexes = list(range(1,5))+list(range(32, len(df)))\n",
    "df.loc[indexes]"
   ]
  },
  {
   "cell_type": "code",
   "execution_count": null,
   "id": "focal-turtle",
   "metadata": {},
   "outputs": [],
   "source": [
    "ech_df=df.loc[:31]\n",
    "an=df.loc[list(range(0,4))+list(range(32, len(df)))]"
   ]
  },
  {
   "cell_type": "code",
   "execution_count": null,
   "id": "nasty-algorithm",
   "metadata": {},
   "outputs": [],
   "source": [
    "an = an.sort_index().reset_index(drop=True)"
   ]
  },
  {
   "cell_type": "code",
   "execution_count": null,
   "id": "threatened-spokesman",
   "metadata": {},
   "outputs": [],
   "source": [
    "ech_df=ech_df.transpose()\n",
    "ech_df.reset_index(drop=True, inplace=True)\n",
    "ech_df=col_ren(ech_df, 1)"
   ]
  },
  {
   "cell_type": "code",
   "execution_count": null,
   "id": "phantom-firewall",
   "metadata": {},
   "outputs": [],
   "source": [
    "ech_df=dble_col_drop(ech_df)"
   ]
  },
  {
   "cell_type": "code",
   "execution_count": null,
   "id": "global-capacity",
   "metadata": {},
   "outputs": [],
   "source": [
    "ech_df.drop(list(range(5)), axis=0, inplace=True)\n",
    "ech_df.reset_index(drop=True, inplace=True)\n",
    "ech_df=na_col_drop(ech_df,2)\n",
    "ech_df=na_line_drop(ech_df,3)\n",
    "ech_df.reset_index(drop=True, inplace=True)"
   ]
  },
  {
   "cell_type": "code",
   "execution_count": null,
   "id": "therapeutic-aaron",
   "metadata": {},
   "outputs": [],
   "source": [
    "name=['ID_ech', 'Periode', 'Emplacement','Date_ech','pH','Temp_ech','Temp_pH']\n",
    "ech_df=col_ren(ech_df, name=name, mode=1)\n",
    "ech_df=ech_df.query('ID_ech==ID_ech')\n",
    "ech_df.insert(1,'Type_ech','Eau')"
   ]
  },
  {
   "cell_type": "code",
   "execution_count": null,
   "id": "reasonable-platform",
   "metadata": {},
   "outputs": [],
   "source": [
    "an=an.transpose()\n",
    "an.reset_index(drop=True, inplace=True)"
   ]
  },
  {
   "cell_type": "code",
   "execution_count": null,
   "id": "floating-baseline",
   "metadata": {},
   "outputs": [],
   "source": [
    "an=col_ren(an, 1)"
   ]
  },
  {
   "cell_type": "code",
   "execution_count": null,
   "id": "tired-livestock",
   "metadata": {},
   "outputs": [],
   "source": [
    "an.replace(r'<|>','', inplace=True, regex=True)\n",
    "an.replace(r'-',np.nan, inplace=True, regex=True)"
   ]
  },
  {
   "cell_type": "code",
   "execution_count": null,
   "id": "b784a579",
   "metadata": {},
   "outputs": [],
   "source": [
    "an.rename(columns={an.columns[0]:'ID_ech', 'col_35':'phénanthrène', 'Période ':'Periode', \n",
    "                   'Date de prélèvement':'Date_ech'}, inplace=True)"
   ]
  },
  {
   "cell_type": "code",
   "execution_count": null,
   "id": "06ef3fe7",
   "metadata": {},
   "outputs": [],
   "source": [
    "# rename in a first time before dropping columns (because of names like 'col_xx' in columns)\n",
    "name=['ID_ech', 'Periode', 'Emplacement','Date_ech', 'METAUX LOURDS', 'Arsenic', 'Cadmium', 'Chrome', 'Cuivre',\n",
    "      'Mercure', 'Plomb', 'Nickel', 'Zinc', \n",
    "      'CYANURES',\"Cyanures (libres)  -  NEN-EN-ISO 14403\", \"CN_totaux - NEN-EN-ISO 14403\", \n",
    "      \"cyanure (APE)\", \"cyanure complex - méthode interne \", \n",
    "      \"thiocyanate - méthode interne\", \"COMPOSES AROMATIQUES VOLATILS\", \"Benzène\", \"Toluène\", \"Éthylbenzène\",\n",
    "      \"Orthoxylène\", \"Para- et métaxylène\", \"Xylènes\", \"Styrène\", \"PHENOLS\", \"Phénol\", \"Indice phénol\", \n",
    "      \"HYDROCARBURES AROMATIQUES POLYCYCLIQUES\", \"Naphtalène\", \"Acénaphtylène\", \"Acénaphtène\", \"Fluorène\", \n",
    "      \"Phénanthrène\", \"Anthracène\", \"Fluoranthène\", \"Pyrène\", \"Benzo(a)anthracène\", \"Chrysène\", \n",
    "      \"Benzo(b)fluoranthène\", \"Benzo(k)fluoranthène\", \"Benzo(a)pyrène\", \"Dibenzo(ah)anthracène\", \n",
    "      \"Benzo(ghi)pérylène\", \"Indéno(1,2,3-cd)pyrène\", \"HAP Totaux (16) - EPA\", \n",
    "      \"COMPOSES ORGANOCHLORES VOLATILS\", \"1,1-Dichloroéthane\", \"1,2-Dichloroéthane\", \n",
    "      \"1,1-dichloroéthène\", \"Cis-1,2-dichloroéthène\", \"Totaux (cis,trans) 1,2-dichloroéthènes\", \n",
    "      \"Trans 1,2-dichloroéthylène\", \"Dichlorométhane\", \"1,2-dichloropropane\", \"Tétrachloroéthylène \", \n",
    "      \"Tétrachlorométhane\", \"1,1,1-Trichloroéthane\", \"1,1,2-Trichloroéthane\", \"Trichloroéthylène\",\n",
    "      \"Chloroforme\", \"Chlorure de vinyle\", \"HYDROCARBURES TOTAUX\", \"fraction aromat. >C6-C7\", \n",
    "      \"fraction aromat. >C7-C8\", \"fraction aromat. >C8-C10\", \"fraction aliphat. C5-C6\", \"fraction aliphat. >C6-C8\",\n",
    "      \"fraction aliphat. >C8-C10\", \"Fraction C5 - C8\", \"Fraction C8 - C10\", \"Fraction C10-C12\", \"Fraction C12-C16\",\n",
    "      \"Fraction C16 - C21\", \"Fraction C21 - C35\", \"Hydrocarbures totaux C10-C35\", \"METHYL-TERT-BUTYL-ETHER\", \"MTBE\",\n",
    "     \"a\",\"b\",\"c\",\"d\",\"e\",\"f\",\"g\"]\n",
    "\n",
    "an=col_ren(an, name=name, mode=1)\n",
    "an=an.iloc[:,:-7]"
   ]
  },
  {
   "cell_type": "code",
   "execution_count": null,
   "id": "e85f46f9",
   "metadata": {},
   "outputs": [],
   "source": [
    "an.drop(list(range(3)), axis=0, inplace=True)\n",
    "an.reset_index(drop=True, inplace=True)\n",
    "an=na_col_drop(an,1)\n",
    "an.insert(1,'Type_ech','Eau')"
   ]
  },
  {
   "cell_type": "code",
   "execution_count": null,
   "id": "093435fa",
   "metadata": {},
   "outputs": [],
   "source": [
    "an=col_ren(an, name=POL_NAMES_MODEL, mode=1)"
   ]
  },
  {
   "cell_type": "code",
   "execution_count": null,
   "id": "e8e88cf3",
   "metadata": {},
   "outputs": [],
   "source": [
    "mdf, conflict_df = data_merger(ech_df, an, how='outer', on=['ID_ech', 'Date_ech'], dist_max=1., drop_skip_col=['index'])"
   ]
  },
  {
   "cell_type": "code",
   "execution_count": null,
   "id": "7b20fb40",
   "metadata": {},
   "outputs": [],
   "source": [
    "mdf['Type'] = 'Piezo'\n",
    "mdf['Date_mes'] = mdf['Date_ech']\n",
    "mdf['ID'] = mdf['ID_ech']"
   ]
  },
  {
   "cell_type": "code",
   "execution_count": null,
   "id": "31f47b28",
   "metadata": {
    "scrolled": true
   },
   "outputs": [],
   "source": [
    "df_dict = data_slicer(mdf, cols_dict, crit_dict)"
   ]
  },
  {
   "cell_type": "code",
   "execution_count": null,
   "id": "35cbb645",
   "metadata": {},
   "outputs": [],
   "source": [
    "ukw = df_dict['unknown']\n",
    "bh = df_dict['borehole']\n",
    "\n",
    "bh = bh.drop(index=ukw.index)\n",
    "ukw.drop_duplicates(['ID'], inplace=True)\n",
    "ukw.reset_index(drop=True, inplace=True)\n",
    "bh.drop_duplicates(['ID'], inplace=True)\n",
    "if 'X' in bh.columns: \n",
    "    bh = bh.query('ID==ID and X==X')\n",
    "else:\n",
    "    bh = bh.query('ID==ID')\n",
    "bh.reset_index(drop=True, inplace=True)\n",
    "\n",
    "mes = df_dict['measure']\n",
    "an = df_dict['analysis']\n",
    "litho = df_dict['lithology']\n",
    "eqp = df_dict['equipement']\n",
    "\n",
    "print(f'borehole: {len(bh)} ; measure: {len(mes)} ; lithology: {len(litho)} ; analysis: {len(an)} ; ' \n",
    "      f'equipement: {len(eqp)} ; unknown: {len(ukw)}')"
   ]
  },
  {
   "cell_type": "code",
   "execution_count": null,
   "id": "632d4fd9",
   "metadata": {},
   "outputs": [],
   "source": [
    "source_an = an\n",
    "source_bh = bh\n",
    "source_mes = mes"
   ]
  },
  {
   "cell_type": "code",
   "execution_count": null,
   "id": "5879290d",
   "metadata": {},
   "outputs": [],
   "source": [
    "if not os.path.exists(tmp_dir):\n",
    "    os.makedirs(tmp_dir), os.makedirs(tmp_dir+'source_merge/')\n",
    "    \n",
    "#eqp.to_csv(tmp_dir+sheet+'_Equipments.csv', index=False)\n",
    "mes.to_csv(tmp_dir+sheet+'_Measures.csv', index=False)\n",
    "bh.to_csv(tmp_dir+sheet+'_Boreholes.csv', index=False)\n",
    "an.to_csv(tmp_dir+sheet+'_Samples.csv', index=False)\n",
    "#ukw.to_csv(tmp_dir+sheet+'_Unknown.csv', index=False)\n",
    "#litho.to_csv(tmp_dir+sheet+'_Lithologies.csv', index=False)\n",
    "\n",
    "source_bh.to_csv(tmp_dir+'source_merge/source_Boreholes.csv', index=False) #all Boreholes data in the source\n",
    "source_mes.to_csv(tmp_dir+'source_merge/source_Measures.csv', index=False) #all Measures data in the source\n",
    "#source_eqp.to_csv(tmp_dir+'source_merge/source_Equipments.csv', index=False)\n",
    "source_an.to_csv(tmp_dir+'source_merge/source_Samples.csv', index=False)\n",
    "#source_ukw.to_csv(tmp_dir+'source_merge/source_Unknown.csv', index=False)\n",
    "#source_litho.to_csv(tmp_dir+'source_merge/source_Lithologies.csv', index=False)\n",
    "\n",
    "print(f'source_bh: {len(source_bh)} ; source_eqp: {len(source_eqp)} ; source_uknw: {len(source_ukw)} ; '\n",
    "      f'source_litho: {len(source_litho)} ; source_an: {len(source_an)} ; source_mes: {len(source_mes)}')"
   ]
  },
  {
   "cell_type": "markdown",
   "id": "alive-study",
   "metadata": {},
   "source": [
    "* **Sheet : 'Param physico'**"
   ]
  },
  {
   "cell_type": "code",
   "execution_count": null,
   "id": "postal-patio",
   "metadata": {},
   "outputs": [],
   "source": [
    "tmp_dir= save_dir + 'Siterem_Ext_Pilote/'\n",
    "sheet='Param_physico'"
   ]
  },
  {
   "cell_type": "code",
   "execution_count": null,
   "id": "fabulous-litigation",
   "metadata": {},
   "outputs": [],
   "source": [
    "df = pd.read_excel(ROOT_DIR + '/CF_data/Data_SITEREM/Resultats_Siterem_eau_extension_pilote_jusque_decembre_2020.xlsx', \n",
    "                   sheet_name='param. physico', skiprows=2)\n",
    "df=na_line_drop(df,0)\n",
    "df=na_col_drop(df,1)\n",
    "df.replace(r'<|>','', inplace=True, regex=True)\n",
    "df.replace(r'-$',np.nan, inplace=True, regex=True)\n",
    "\n",
    "dataframe_viewer(df, rows=5)"
   ]
  },
  {
   "cell_type": "code",
   "execution_count": null,
   "id": "tough-sewing",
   "metadata": {},
   "outputs": [],
   "source": [
    "df=df.transpose()\n",
    "df.reset_index(drop=True, inplace=True)"
   ]
  },
  {
   "cell_type": "code",
   "execution_count": null,
   "id": "alpha-concrete",
   "metadata": {},
   "outputs": [],
   "source": [
    "df=col_ren(df, 1)"
   ]
  },
  {
   "cell_type": "code",
   "execution_count": null,
   "id": "noticed-supplement",
   "metadata": {},
   "outputs": [],
   "source": [
    "df.drop(list(range(2)), axis=0, inplace=True)\n",
    "df.reset_index(drop=True, inplace=True)"
   ]
  },
  {
   "cell_type": "code",
   "execution_count": null,
   "id": "floating-sweet",
   "metadata": {},
   "outputs": [],
   "source": [
    "sdf=df.iloc[:,:33]\n",
    "df=df.iloc[:,34:]"
   ]
  },
  {
   "cell_type": "code",
   "execution_count": null,
   "id": "basic-marking",
   "metadata": {},
   "outputs": [],
   "source": [
    "df=dble_col_drop(df)\n",
    "sdf=dble_col_drop(sdf)"
   ]
  },
  {
   "cell_type": "code",
   "execution_count": null,
   "id": "labeled-consolidation",
   "metadata": {},
   "outputs": [],
   "source": [
    "df=na_line_drop(df,1)\n",
    "sdf=na_line_drop(sdf,1)"
   ]
  },
  {
   "cell_type": "code",
   "execution_count": null,
   "id": "closed-spoke",
   "metadata": {},
   "outputs": [],
   "source": [
    "df=na_col_drop(df,1)\n",
    "sdf=na_col_drop(sdf,1)"
   ]
  },
  {
   "cell_type": "code",
   "execution_count": null,
   "id": "sonic-immigration",
   "metadata": {},
   "outputs": [],
   "source": [
    "name=['ID_ech','Periode','Emplacement','Date_ech','Niv_eau_pz','Long_pz','Temp_ech','pH', 'CE', 'ORP','O_diss']\n",
    "df=col_ren(df, mode=1, name=name)"
   ]
  },
  {
   "cell_type": "code",
   "execution_count": null,
   "id": "adult-conversion",
   "metadata": {},
   "outputs": [],
   "source": [
    "sdf=sdf.iloc[:,:-1]\n",
    "name=['ID_ech','Periode','Emplacement','Date_ech','Niv_eau_pz','Niv_eau_chbre','pH','Niv_eau_sol','Long_pz',\n",
    "      'Temp_ech ','CE','ORP','O_diss']\n",
    "sdf=col_ren(sdf, mode=1, name=name)"
   ]
  },
  {
   "cell_type": "code",
   "execution_count": null,
   "id": "mature-occasions",
   "metadata": {},
   "outputs": [],
   "source": [
    "df['CE']=df['CE'].apply(lambda x: pd.to_numeric(x)/1000 \n",
    "                                  if re.search('^\\d+', str(x)) and not pd.isnull(x) else np.nan)\n",
    "sdf['CE']=sdf['CE'].apply(lambda x: pd.to_numeric(x)/1000 \n",
    "                                  if re.search('^\\d+', str(x)) and not pd.isnull(x) else np.nan)"
   ]
  },
  {
   "cell_type": "code",
   "execution_count": null,
   "id": "ecological-thomson",
   "metadata": {},
   "outputs": [],
   "source": [
    "sdf['Periode'].replace('\\n',' ', regex=True, inplace=True)\n",
    "sdf.replace('\\n','', regex=True, inplace=True)"
   ]
  },
  {
   "cell_type": "code",
   "execution_count": null,
   "id": "tracked-course",
   "metadata": {
    "scrolled": true
   },
   "outputs": [],
   "source": [
    "data=[df, sdf]\n",
    "for d in data:\n",
    "    d['Rmq']=''\n",
    "    for i in range(len(d['ID_ech'])):\n",
    "        e=str(d.loc[i, 'Emplacement'])\n",
    "        n=str(d.loc[i, 'ID_ech'])\n",
    "        d.loc[i,'ID_ech']=n.replace('*', '')\n",
    "        \n",
    "        if re.match('S',e, re.I): \n",
    "            d.loc[i,'Emplacement']='Simulateur'\n",
    "        elif re.match('HZS',e, re.I): \n",
    "            d.loc[i,'Emplacement']='Hors simulateur'\n",
    "        else:\n",
    "            d.loc[i,'Emplacement']=np.nan\n",
    "        \n",
    "        if re.match('\\d+\\*{1}$',n, re.I): \n",
    "            d.loc[i,'Rmq']=\"mesures faites dans un seau (débit non continu ou peu de débit)\"\n",
    "        elif re.match('\\d+\\*{2}$',n, re.I): \n",
    "            d.loc[i,'Rmq']=\"mésures faites dans une eau quasi-stagnante (Piezo rempli de sédiment et débit très faible)\""
   ]
  },
  {
   "cell_type": "code",
   "execution_count": null,
   "id": "intimate-pregnancy",
   "metadata": {},
   "outputs": [],
   "source": [
    "df.insert(1, 'Type_ech', 'Eau')\n",
    "sdf.insert(1, 'Type_ech', 'Eau')"
   ]
  },
  {
   "cell_type": "code",
   "execution_count": null,
   "id": "further-blind",
   "metadata": {},
   "outputs": [],
   "source": [
    "ech_df=data_merger(sdf, df, 'outer', 'ID_ech')[0]"
   ]
  },
  {
   "cell_type": "code",
   "execution_count": null,
   "id": "scheduled-prize",
   "metadata": {},
   "outputs": [],
   "source": [
    "ech_df=na_col_drop(df,2)\n",
    "ech_df=na_line_drop(df,1)\n",
    "ech_df.reset_index(drop=True, inplace=True)"
   ]
  },
  {
   "cell_type": "code",
   "execution_count": null,
   "id": "58350c1b",
   "metadata": {},
   "outputs": [],
   "source": [
    "for i in ech_df.index:\n",
    "    if not pd.isnull(ech_df.loc[i, 'Emplacement']):\n",
    "        val = ech_df.loc[i, 'Emplacement']\n",
    "    else:\n",
    "        ech_df.loc[i, 'Emplacement'] = val"
   ]
  },
  {
   "cell_type": "code",
   "execution_count": null,
   "id": "6c13776e",
   "metadata": {},
   "outputs": [],
   "source": [
    "mdf = ech_df"
   ]
  },
  {
   "cell_type": "code",
   "execution_count": null,
   "id": "11dd50b8",
   "metadata": {},
   "outputs": [],
   "source": [
    "mdf['Date_ech'] = mdf['Date_ech'].astype('datetime64')"
   ]
  },
  {
   "cell_type": "code",
   "execution_count": null,
   "id": "6645df16",
   "metadata": {},
   "outputs": [],
   "source": [
    "mdf['Type'] = 'Piezo'\n",
    "mdf['Date_mes'] = mdf['Date_ech']\n",
    "mdf['ID'] = mdf['ID_ech']"
   ]
  },
  {
   "cell_type": "code",
   "execution_count": null,
   "id": "7dc01eaf",
   "metadata": {
    "scrolled": true
   },
   "outputs": [],
   "source": [
    "df_dict = data_slicer(mdf, cols_dict, crit_dict)"
   ]
  },
  {
   "cell_type": "code",
   "execution_count": null,
   "id": "a96031c3",
   "metadata": {},
   "outputs": [],
   "source": [
    "ukw = df_dict['unknown']\n",
    "bh = df_dict['borehole']\n",
    "\n",
    "bh = bh.drop(index=ukw.index)\n",
    "ukw.drop_duplicates(['ID'], inplace=True)\n",
    "ukw.reset_index(drop=True, inplace=True)\n",
    "bh.drop_duplicates(['ID'], inplace=True)\n",
    "if 'X' in bh.columns: \n",
    "    bh = bh.query('ID==ID and X==X')\n",
    "else:\n",
    "    bh = bh.query('ID==ID')\n",
    "bh.reset_index(drop=True, inplace=True)\n",
    "\n",
    "mes = df_dict['measure']\n",
    "an = df_dict['analysis']\n",
    "litho = df_dict['lithology']\n",
    "eqp = df_dict['equipement']\n",
    "\n",
    "print(f'borehole: {len(bh)} ; measure: {len(mes)} ; lithology: {len(litho)} ; analysis: {len(an)} ; ' \n",
    "      f'equipement: {len(eqp)} ; unknown: {len(ukw)}')"
   ]
  },
  {
   "cell_type": "code",
   "execution_count": null,
   "id": "73dda2b9",
   "metadata": {},
   "outputs": [],
   "source": [
    "# conflict with 'emplacement' (ext_pilote | simulateur)\n",
    "source_bh, conflict_df = data_merger(source_bh, bh, how='outer', on=['ID'], dist_max=1., drop_skip_col=['index'])"
   ]
  },
  {
   "cell_type": "code",
   "execution_count": null,
   "id": "4e8740fb",
   "metadata": {},
   "outputs": [],
   "source": [
    "dataset = source_bh\n",
    "data_validation(overall_data=dataset, conflict_data=conflict_df, index_col='index', pass_col='ID', \n",
    "                valid_dict={'Emplacement_x':list(conflict_df.index)})\n",
    "\n",
    "if 'level_0' in dataset.columns:\n",
    "    if 'index' in dataset.columns:\n",
    "        dataset.drop(columns='index', inplace=True)\n",
    "    dataset.rename(columns={'level_0':'index'}, inplace=True)\n",
    "source_bh = dataset"
   ]
  },
  {
   "cell_type": "code",
   "execution_count": null,
   "id": "f8b777c5",
   "metadata": {},
   "outputs": [],
   "source": [
    "source_an['Date_ech'] = source_an['Date_ech'].astype('datetime64')"
   ]
  },
  {
   "cell_type": "code",
   "execution_count": null,
   "id": "a4a85997",
   "metadata": {},
   "outputs": [],
   "source": [
    "source_an, conflict_df = data_merger(source_an, an, how='outer', on=['ID_ech', 'Date_ech'], dist_max=1., drop_skip_col=['index'])"
   ]
  },
  {
   "cell_type": "code",
   "execution_count": null,
   "id": "11bbed1d",
   "metadata": {},
   "outputs": [],
   "source": [
    "source_mes.info()"
   ]
  },
  {
   "cell_type": "code",
   "execution_count": null,
   "id": "0c689d51",
   "metadata": {},
   "outputs": [],
   "source": [
    "source_mes['Date_mes'] = source_mes['Date_mes'].astype('datetime64')"
   ]
  },
  {
   "cell_type": "code",
   "execution_count": null,
   "id": "7d6f7c5e",
   "metadata": {},
   "outputs": [],
   "source": [
    "source_mes, conflict_df = data_merger(source_mes, mes, how='outer', on=['ID_ech', 'Date_mes'], dist_max=1., drop_skip_col=['index'])"
   ]
  },
  {
   "cell_type": "code",
   "execution_count": null,
   "id": "9caad1e6",
   "metadata": {},
   "outputs": [],
   "source": [
    "dataset = source_mes\n",
    "data_validation(overall_data=dataset, conflict_data=conflict_df, index_col='index', pass_col='ID', \n",
    "                valid_dict={'Periode_y':list(conflict_df.index), 'pH_y':list(conflict_df.index)})\n",
    "\n",
    "if 'level_0' in dataset.columns:\n",
    "    if 'index' in dataset.columns:\n",
    "        dataset.drop(columns='index', inplace=True)\n",
    "    dataset.rename(columns={'level_0':'index'}, inplace=True)\n",
    "source_mes = dataset"
   ]
  },
  {
   "cell_type": "code",
   "execution_count": null,
   "id": "7ef37e7f",
   "metadata": {},
   "outputs": [],
   "source": [
    "if not os.path.exists(tmp_dir):\n",
    "    os.makedirs(tmp_dir), os.makedirs(tmp_dir+'source_merge/')\n",
    "    \n",
    "#eqp.to_csv(tmp_dir+sheet+'_Equipments.csv', index=False)\n",
    "mes.to_csv(tmp_dir+sheet+'_Measures.csv', index=False)\n",
    "bh.to_csv(tmp_dir+sheet+'_Boreholes.csv', index=False)\n",
    "an.to_csv(tmp_dir+sheet+'_Samples.csv', index=False)\n",
    "#ukw.to_csv(tmp_dir+sheet+'_Unknown.csv', index=False)\n",
    "#litho.to_csv(tmp_dir+sheet+'_Lithologies.csv', index=False)\n",
    "\n",
    "source_bh.to_csv(tmp_dir+'source_merge/source_Boreholes.csv', index=False) #all Boreholes data in the source\n",
    "source_mes.to_csv(tmp_dir+'source_merge/source_Measures.csv', index=False) #all Measures data in the source\n",
    "#source_eqp.to_csv(tmp_dir+'source_merge/source_Equipments.csv', index=False)\n",
    "source_an.to_csv(tmp_dir+'source_merge/source_Samples.csv', index=False)\n",
    "#source_ukw.to_csv(tmp_dir+'source_merge/source_Unknown.csv', index=False)\n",
    "#source_litho.to_csv(tmp_dir+'source_merge/source_Lithologies.csv', index=False)\n",
    "\n",
    "print(f'source_bh: {len(source_bh)} ; source_eqp: {len(source_eqp)} ; source_uknw: {len(source_ukw)} ; '\n",
    "      f'source_litho: {len(source_litho)} ; source_an: {len(source_an)} ; source_mes: {len(source_mes)}')"
   ]
  },
  {
   "cell_type": "markdown",
   "id": "knowing-crown",
   "metadata": {},
   "source": [
    "* **Sheet : 'Inorganiques et composés majeurs'**"
   ]
  },
  {
   "cell_type": "code",
   "execution_count": null,
   "id": "japanese-blame",
   "metadata": {},
   "outputs": [],
   "source": [
    "tmp_dir= save_dir + 'Siterem_Ext_Pilote/'\n",
    "sheet='Inorganic_major'"
   ]
  },
  {
   "cell_type": "code",
   "execution_count": null,
   "id": "legal-kitchen",
   "metadata": {},
   "outputs": [],
   "source": [
    "df = pd.read_excel(ROOT_DIR + '/CF_data/Data_SITEREM/Resultats_Siterem_eau_extension_pilote_jusque_decembre_2020.xlsx', \n",
    "                   sheet_name='inorganiques et composés majeur', skiprows=2)\n",
    "df=na_line_drop(df,0)\n",
    "df=na_col_drop(df,1)\n",
    "df.replace(r'<|>','', inplace=True, regex=True)\n",
    "df.replace(r'-$',np.nan, inplace=True, regex=True)\n",
    "\n",
    "dataframe_viewer(df, rows=5)"
   ]
  },
  {
   "cell_type": "code",
   "execution_count": null,
   "id": "broken-undergraduate",
   "metadata": {},
   "outputs": [],
   "source": [
    "ech_df=df.loc[:21]\n",
    "an=df.loc[list(range(0,4))+list(range(22, len(df)))]"
   ]
  },
  {
   "cell_type": "code",
   "execution_count": null,
   "id": "finished-native",
   "metadata": {},
   "outputs": [],
   "source": [
    "an = an.sort_index().reset_index(drop=True)"
   ]
  },
  {
   "cell_type": "code",
   "execution_count": null,
   "id": "genuine-florist",
   "metadata": {},
   "outputs": [],
   "source": [
    "ech_df=ech_df.transpose()\n",
    "ech_df.reset_index(drop=True, inplace=True)\n",
    "ech_df=col_ren(ech_df, 1)"
   ]
  },
  {
   "cell_type": "code",
   "execution_count": null,
   "id": "proper-happening",
   "metadata": {},
   "outputs": [],
   "source": [
    "ech_df=dble_col_drop(ech_df)"
   ]
  },
  {
   "cell_type": "code",
   "execution_count": null,
   "id": "ordered-egypt",
   "metadata": {},
   "outputs": [],
   "source": [
    "ech_df.drop(list(range(2)), axis=0, inplace=True)\n",
    "ech_df.reset_index(drop=True, inplace=True)\n",
    "ech_df=na_col_drop(ech_df,2)\n",
    "ech_df=na_line_drop(ech_df,2)\n",
    "ech_df.reset_index(drop=True, inplace=True)"
   ]
  },
  {
   "cell_type": "code",
   "execution_count": null,
   "id": "narrow-trading",
   "metadata": {},
   "outputs": [],
   "source": [
    "name=['ID_ech', 'Periode', 'Emplacement','Date_ech','Temp_ech']\n",
    "ech_df=col_ren(ech_df, name=name, mode=1)\n",
    "ech_df=ech_df.query('ID_ech==ID_ech')\n",
    "ech_df.insert(1,'Type_ech','Eau')"
   ]
  },
  {
   "cell_type": "code",
   "execution_count": null,
   "id": "healthy-synthesis",
   "metadata": {},
   "outputs": [],
   "source": [
    "an=an.transpose()\n",
    "an.reset_index(drop=True, inplace=True)"
   ]
  },
  {
   "cell_type": "code",
   "execution_count": null,
   "id": "bronze-history",
   "metadata": {},
   "outputs": [],
   "source": [
    "an=col_ren(an, 1)"
   ]
  },
  {
   "cell_type": "code",
   "execution_count": null,
   "id": "arranged-sociology",
   "metadata": {},
   "outputs": [],
   "source": [
    "an.replace(r'<|>','', inplace=True, regex=True)\n",
    "an.replace(r'-',np.nan, inplace=True, regex=True)"
   ]
  },
  {
   "cell_type": "code",
   "execution_count": null,
   "id": "worldwide-struggle",
   "metadata": {},
   "outputs": [],
   "source": [
    "an=dble_col_drop(an)"
   ]
  },
  {
   "cell_type": "code",
   "execution_count": null,
   "id": "protected-decrease",
   "metadata": {},
   "outputs": [],
   "source": [
    "an=na_col_drop(an,3)"
   ]
  },
  {
   "cell_type": "code",
   "execution_count": null,
   "id": "b91da5a7",
   "metadata": {},
   "outputs": [],
   "source": [
    "an.rename(columns={an.columns[0]:'ID_ech','ammoniaque - libre':'ammoniaque libre','Période ':'Periode', \n",
    "                   'Date de prélèvement':'Date_ech', 'Emplacement ':'Emplacement'}, inplace=True)"
   ]
  },
  {
   "cell_type": "code",
   "execution_count": null,
   "id": "harmful-steel",
   "metadata": {},
   "outputs": [],
   "source": [
    "an.drop(list(range(2)), axis=0, inplace=True)\n",
    "an.reset_index(drop=True, inplace=True)\n",
    "an=na_col_drop(an,1)\n",
    "an.insert(1,'Type_ech','Eau')"
   ]
  },
  {
   "cell_type": "code",
   "execution_count": null,
   "id": "standard-chuck",
   "metadata": {},
   "outputs": [],
   "source": [
    "an = col_ren(an, name=POL_NAMES_MODEL, mode=1)#,verbose=True)"
   ]
  },
  {
   "cell_type": "code",
   "execution_count": null,
   "id": "53ebab45",
   "metadata": {},
   "outputs": [],
   "source": [
    "mdf, conflict_df = data_merger(ech_df, an, how='outer', on=['ID_ech', 'Date_ech'], dist_max=1., drop_skip_col=['index'])"
   ]
  },
  {
   "cell_type": "code",
   "execution_count": null,
   "id": "62e01cf6",
   "metadata": {},
   "outputs": [],
   "source": [
    "mdf['Date_ech'] = mdf['Date_ech'].astype('datetime64')"
   ]
  },
  {
   "cell_type": "code",
   "execution_count": null,
   "id": "51ba838e",
   "metadata": {},
   "outputs": [],
   "source": [
    "mdf['Type'] = 'Piezo'\n",
    "mdf['Date_mes'] = mdf['Date_ech']\n",
    "mdf['ID'] = mdf['ID_ech']"
   ]
  },
  {
   "cell_type": "code",
   "execution_count": null,
   "id": "96a97025",
   "metadata": {
    "scrolled": true
   },
   "outputs": [],
   "source": [
    "df_dict = data_slicer(mdf, cols_dict, crit_dict)"
   ]
  },
  {
   "cell_type": "code",
   "execution_count": null,
   "id": "df6387df",
   "metadata": {},
   "outputs": [],
   "source": [
    "ukw = df_dict['unknown']\n",
    "bh = df_dict['borehole']\n",
    "\n",
    "bh = bh.drop(index=ukw.index)\n",
    "ukw.drop_duplicates(['ID'], inplace=True)\n",
    "ukw.reset_index(drop=True, inplace=True)\n",
    "bh.drop_duplicates(['ID'], inplace=True)\n",
    "if 'X' in bh.columns: \n",
    "    bh = bh.query('ID==ID and X==X')\n",
    "else:\n",
    "    bh = bh.query('ID==ID')\n",
    "bh.reset_index(drop=True, inplace=True)\n",
    "\n",
    "mes = df_dict['measure']\n",
    "an = df_dict['analysis']\n",
    "litho = df_dict['lithology']\n",
    "eqp = df_dict['equipement']\n",
    "\n",
    "print(f'borehole: {len(bh)} ; measure: {len(mes)} ; lithology: {len(litho)} ; analysis: {len(an)} ; ' \n",
    "      f'equipement: {len(eqp)} ; unknown: {len(ukw)}')"
   ]
  },
  {
   "cell_type": "code",
   "execution_count": null,
   "id": "8f3667c2",
   "metadata": {},
   "outputs": [],
   "source": [
    "source_bh, conflict_df = data_merger(source_bh, bh, how='outer', on=['ID'], dist_max=1., drop_skip_col=['index'])"
   ]
  },
  {
   "cell_type": "code",
   "execution_count": null,
   "id": "01e3dd9b",
   "metadata": {},
   "outputs": [],
   "source": [
    "source_an, conflict_df = data_merger(source_an, an, how='outer', on=['ID_ech', 'Date_ech'], dist_max=1., drop_skip_col=['index'])"
   ]
  },
  {
   "cell_type": "code",
   "execution_count": null,
   "id": "9c5b8b44",
   "metadata": {},
   "outputs": [],
   "source": [
    "source_mes, conflict_df = data_merger(source_mes, mes, how='outer', on=['ID_ech', 'Date_mes'], dist_max=1., drop_skip_col=['index'])"
   ]
  },
  {
   "cell_type": "code",
   "execution_count": null,
   "id": "a24fa767",
   "metadata": {},
   "outputs": [],
   "source": [
    "dataset = source_mes\n",
    "data_validation(overall_data=dataset, conflict_data=conflict_df, index_col='index', pass_col='ID', \n",
    "                valid_dict={'Periode_x':list(conflict_df.index)})\n",
    "\n",
    "if 'level_0' in dataset.columns:\n",
    "    if 'index' in dataset.columns:\n",
    "        dataset.drop(columns='index', inplace=True)\n",
    "    dataset.rename(columns={'level_0':'index'}, inplace=True)\n",
    "source_mes = dataset"
   ]
  },
  {
   "cell_type": "code",
   "execution_count": null,
   "id": "6d66ac20",
   "metadata": {},
   "outputs": [],
   "source": [
    "if not os.path.exists(tmp_dir):\n",
    "    os.makedirs(tmp_dir), os.makedirs(tmp_dir+'source_merge/')\n",
    "    \n",
    "#eqp.to_csv(tmp_dir+sheet+'_Equipments.csv', index=False)\n",
    "mes.to_csv(tmp_dir+sheet+'_Measures.csv', index=False)\n",
    "bh.to_csv(tmp_dir+sheet+'_Boreholes.csv', index=False)\n",
    "an.to_csv(tmp_dir+sheet+'_Samples.csv', index=False)\n",
    "#ukw.to_csv(tmp_dir+sheet+'_Unknown.csv', index=False)\n",
    "#litho.to_csv(tmp_dir+sheet+'_Lithologies.csv', index=False)\n",
    "\n",
    "source_bh.to_csv(tmp_dir+'source_merge/source_Boreholes.csv', index=False) #all Boreholes data in the source\n",
    "source_mes.to_csv(tmp_dir+'source_merge/source_Measures.csv', index=False) #all Measures data in the source\n",
    "#source_eqp.to_csv(tmp_dir+'source_merge/source_Equipments.csv', index=False)\n",
    "source_an.to_csv(tmp_dir+'source_merge/source_Samples.csv', index=False)\n",
    "#source_ukw.to_csv(tmp_dir+'source_merge/source_Unknown.csv', index=False)\n",
    "#source_litho.to_csv(tmp_dir+'source_merge/source_Lithologies.csv', index=False)\n",
    "\n",
    "print(f'source_bh: {len(source_bh)} ; source_eqp: {len(source_eqp)} ; source_uknw: {len(source_ukw)} ; '\n",
    "      f'source_litho: {len(source_litho)} ; source_an: {len(source_an)} ; source_mes: {len(source_mes)}')"
   ]
  },
  {
   "cell_type": "markdown",
   "id": "ee8c92ff",
   "metadata": {},
   "source": [
    "#### ======================================================================================"
   ]
  },
  {
   "cell_type": "code",
   "execution_count": null,
   "id": "f87b2098",
   "metadata": {},
   "outputs": [],
   "source": [
    "# initialisation des variables\n",
    "_df = pd.DataFrame()\n",
    "source_bh, source_eqp, source_ukw = _df, _df, _df\n",
    "source_litho, source_an, source_mes = _df, _df, _df\n",
    "\n",
    "print(f'source_bh: {len(source_bh)} ; source_eqp: {len(source_eqp)} ; source_uknw: {len(source_ukw)} ; '\n",
    "      f'source_litho: {len(source_litho)} ; source_an: {len(source_an)} ; source_mes: {len(source_mes)}')"
   ]
  },
  {
   "cell_type": "markdown",
   "id": "yellow-burke",
   "metadata": {},
   "source": [
    "## 12-Resultats_Siterem_eau_pilote_jusque_decembre_2020.xlsx\n",
    "* **Sheet : 'Résult EAU'**"
   ]
  },
  {
   "cell_type": "code",
   "execution_count": null,
   "id": "vocal-longer",
   "metadata": {},
   "outputs": [],
   "source": [
    "tmp_dir= save_dir + 'Siterem_Pilote/'\n",
    "sheet='Result_eau'"
   ]
  },
  {
   "cell_type": "code",
   "execution_count": null,
   "id": "objective-psychology",
   "metadata": {},
   "outputs": [],
   "source": [
    "df = pd.read_excel(ROOT_DIR + '/CF_data/Data_SITEREM/Resultats_Siterem_eau_pilote_jusque_decembre_2020.xlsx', \n",
    "                   sheet_name='Résult EAU', skiprows=2)\n",
    "df=na_line_drop(df,0)\n",
    "df=na_col_drop(df,1)\n",
    "df.replace(r'<|>','', inplace=True, regex=True)\n",
    "df.replace(r'-$',np.nan, inplace=True, regex=True)\n",
    "\n",
    "dataframe_viewer(df, rows=5)"
   ]
  },
  {
   "cell_type": "code",
   "execution_count": null,
   "id": "understood-mistress",
   "metadata": {},
   "outputs": [],
   "source": [
    "ech_df=df.loc[:32]\n",
    "an=df.loc[list(range(0,4))+list(range(33, len(df)))]"
   ]
  },
  {
   "cell_type": "code",
   "execution_count": null,
   "id": "bibliographic-religious",
   "metadata": {},
   "outputs": [],
   "source": [
    "an = an.sort_index().reset_index(drop=True)"
   ]
  },
  {
   "cell_type": "code",
   "execution_count": null,
   "id": "short-crawford",
   "metadata": {},
   "outputs": [],
   "source": [
    "ech_df=ech_df.transpose()\n",
    "ech_df.reset_index(drop=True, inplace=True)\n",
    "ech_df=col_ren(ech_df, 1)"
   ]
  },
  {
   "cell_type": "code",
   "execution_count": null,
   "id": "technical-median",
   "metadata": {},
   "outputs": [],
   "source": [
    "ech_df=dble_col_drop(ech_df)"
   ]
  },
  {
   "cell_type": "code",
   "execution_count": null,
   "id": "signal-lucas",
   "metadata": {},
   "outputs": [],
   "source": [
    "ech_df.drop(list(range(3)), axis=0, inplace=True)\n",
    "ech_df.reset_index(drop=True, inplace=True)\n",
    "ech_df=na_col_drop(ech_df,2)\n",
    "ech_df=na_line_drop(ech_df,3)\n",
    "ech_df.reset_index(drop=True, inplace=True)"
   ]
  },
  {
   "cell_type": "code",
   "execution_count": null,
   "id": "recognized-inspection",
   "metadata": {},
   "outputs": [],
   "source": [
    "ech_df.columns"
   ]
  },
  {
   "cell_type": "code",
   "execution_count": null,
   "id": "sized-straight",
   "metadata": {},
   "outputs": [],
   "source": [
    "name=['ID_ech', 'Periode', 'Emplacement','Date_ech','Niv_eau_pz','Niv_eau_chbre','pH','Temp_ech','CE','ORP',\n",
    "      'O_diss','col_29','Temp_pH']\n",
    "ech_df=col_ren(ech_df, name=name, mode=1)\n",
    "ech_df=ech_df.query('ID_ech==ID_ech')\n",
    "ech_df.insert(1,'Type_ech','Eau')"
   ]
  },
  {
   "cell_type": "code",
   "execution_count": null,
   "id": "surprising-bangkok",
   "metadata": {},
   "outputs": [],
   "source": [
    "ech_df.drop(columns=['col_29'], inplace=True)\n",
    "ech_df['CE']=ech_df['CE'].apply(lambda x: pd.to_numeric(x)/1000 \n",
    "                                  if re.search('^\\d+', str(x)) and not pd.isnull(x) else np.nan)"
   ]
  },
  {
   "cell_type": "code",
   "execution_count": null,
   "id": "experimental-transparency",
   "metadata": {},
   "outputs": [],
   "source": [
    "ech_df['Periode'].replace('\\n',' ', regex=True, inplace=True)\n",
    "ech_df.replace('\\n','', regex=True, inplace=True)"
   ]
  },
  {
   "cell_type": "code",
   "execution_count": null,
   "id": "collective-optimization",
   "metadata": {
    "scrolled": true
   },
   "outputs": [],
   "source": [
    "data=[ech_df]\n",
    "for d in data:\n",
    "    for i in range(len(d['ID_ech'])):\n",
    "        e=str(d.loc[i, 'Emplacement'])        \n",
    "        if re.match('P',e, re.I): \n",
    "            d.loc[i,'Emplacement']='Pilote'\n",
    "        elif re.match('HZP',e, re.I): \n",
    "            d.loc[i,'Emplacement']='Hors Pilote'\n",
    "        else:\n",
    "            d.loc[i,'Emplacement']=np.nan"
   ]
  },
  {
   "cell_type": "code",
   "execution_count": null,
   "id": "consolidated-milton",
   "metadata": {},
   "outputs": [],
   "source": [
    "an=an.transpose()\n",
    "an.reset_index(drop=True, inplace=True)"
   ]
  },
  {
   "cell_type": "code",
   "execution_count": null,
   "id": "important-hanging",
   "metadata": {},
   "outputs": [],
   "source": [
    "an=col_ren(an, 1)"
   ]
  },
  {
   "cell_type": "code",
   "execution_count": null,
   "id": "better-majority",
   "metadata": {},
   "outputs": [],
   "source": [
    "an.replace(r'<|>','', inplace=True, regex=True)\n",
    "an.replace(r'-',np.nan, inplace=True, regex=True)"
   ]
  },
  {
   "cell_type": "code",
   "execution_count": null,
   "id": "clinical-charger",
   "metadata": {
    "scrolled": true
   },
   "outputs": [],
   "source": [
    "an=dble_col_drop(an)"
   ]
  },
  {
   "cell_type": "code",
   "execution_count": null,
   "id": "33323065",
   "metadata": {},
   "outputs": [],
   "source": [
    "an.rename(columns={an.columns[0]:'ID_ech','Période ':'Periode', 'Emplacement \\n- P : Pilote \\n- HZP : Hors zone pilote':'Emplacement',\n",
    "                  'Date de prélèvement':'Date_ech'}, inplace=True)"
   ]
  },
  {
   "cell_type": "code",
   "execution_count": null,
   "id": "dental-strengthening",
   "metadata": {},
   "outputs": [],
   "source": [
    "# rename in a first time before dropping columns (because of names like 'col_xx' in columns)\n",
    "name=['ID_ech', 'Periode', 'Emplacement', 'Date_ech', 'METAUX LOURDS', 'Arsenic', 'Cadmium', 'Chrome', 'Cuivre','Mercure', 'Plomb', 'Nickel', 'Zinc', \n",
    "      'CYANURES',\"Cyanures (libres)  -  NEN-EN-ISO 14403\", \"CN_totaux - NEN-EN-ISO 14403\", \n",
    "      \"cyanure (APE)\", \"cyanure complex\", \n",
    "      \"thiocyanate - méthode interne\", \"COMPOSES AROMATIQUES VOLATILS\", \"Benzène\", \"Toluène\", \"Éthylbenzène\",\n",
    "      \"Orthoxylène\", \"Para- et métaxylène\", \"Xylènes\", \"Styrène\", \"PHENOLS\", \"Phénol\", \"Indice phénol\", \n",
    "      \"HYDROCARBURES AROMATIQUES POLYCYCLIQUES\", \"Naphtalène\", \"Acénaphtylène\", \"Acénaphtène\", \"Fluorène\", \n",
    "      \"Phénanthrène\", \"Anthracène\", \"Fluoranthène\", \"Pyrène\", \"Benzo(a)anthracène\", \"Chrysène\", \n",
    "      \"Benzo(b)fluoranthène\", \"Benzo(k)fluoranthène\", \"Benzo(a)pyrène\", \"Dibenzo(ah)anthracène\", \n",
    "      \"Benzo(ghi)pérylène\", \"Indéno(1,2,3-cd)pyrène\", \"HAP Totaux (16) - EPA\", \n",
    "      \"COMPOSES ORGANOCHLORES VOLATILS\", \"1,1-Dichloroéthane\", \"1,2-Dichloroéthane\", \n",
    "      \"1,1-dichloroéthène\", \"Cis-1,2-dichloroéthène\", \"Totaux (cis,trans) 1,2-dichloroéthènes\", \n",
    "      \"Trans 1,2-dichloroéthylène\", \"Dichlorométhane\", \"1,2-dichloropropane\", \"Tétrachloroéthylène \", \n",
    "      \"Tétrachlorométhane\", \"1,1,1-Trichloroéthane\", \"1,1,2-Trichloroéthane\", \"Trichloroéthylène\",\n",
    "      \"Chloroforme\", \"Chlorure de vinyle\", \"HYDROCARBURES TOTAUX\", \"fraction aromat. >C6-C7\", \n",
    "      \"fraction aromat. >C7-C8\", \"fraction aromat. >C8-C10\", \"fraction aliphat. C5-C6\", \"fraction aliphat. >C6-C8\",\n",
    "      \"fraction aliphat. >C8-C10\", \"Fraction C5 - C8\", \"Fraction C8 - C10\", \"Fraction C10-C12\", \"Fraction C12-C16\",\n",
    "      \"Fraction C16 - C21\", \"Fraction C21 - C35\", \"Hydrocarbures totaux C10-C35\", \"METHYL-TERT-BUTYL-ETHER\", \"MTBE\",\n",
    "     \"a\",\"b\",\"c\",\"d\",\"e\",\"f\",\"g\",\"h\"]"
   ]
  },
  {
   "cell_type": "code",
   "execution_count": null,
   "id": "norman-devices",
   "metadata": {},
   "outputs": [],
   "source": [
    "an=col_ren(an, name=name, mode=1)\n",
    "an=an.iloc[:,:-8]"
   ]
  },
  {
   "cell_type": "code",
   "execution_count": null,
   "id": "exposed-color",
   "metadata": {},
   "outputs": [],
   "source": [
    "an.drop(list(range(3)), axis=0, inplace=True)\n",
    "an.reset_index(drop=True, inplace=True)\n",
    "an=na_col_drop(an,1)\n",
    "an.insert(1,'Type_ech','Eau')"
   ]
  },
  {
   "cell_type": "code",
   "execution_count": null,
   "id": "1df0ea54",
   "metadata": {},
   "outputs": [],
   "source": [
    "an['Periode'].replace('\\n',' ', regex=True, inplace=True)\n",
    "an.replace('\\n','', regex=True, inplace=True)"
   ]
  },
  {
   "cell_type": "code",
   "execution_count": null,
   "id": "8d04fe39",
   "metadata": {
    "scrolled": true
   },
   "outputs": [],
   "source": [
    "data=[an]\n",
    "for d in data:\n",
    "    for i in range(len(d['ID_ech'])):\n",
    "        e=str(d.loc[i, 'Emplacement'])        \n",
    "        if re.match('P',e, re.I): \n",
    "            d.loc[i,'Emplacement']='Pilote'\n",
    "        elif re.match('HZP',e, re.I): \n",
    "            d.loc[i,'Emplacement']='Hors Pilote'\n",
    "        else:\n",
    "            d.loc[i,'Emplacement']=np.nan"
   ]
  },
  {
   "cell_type": "code",
   "execution_count": null,
   "id": "female-complement",
   "metadata": {},
   "outputs": [],
   "source": [
    "an=col_ren(an, name=POL_NAMES_MODEL, mode=1)"
   ]
  },
  {
   "cell_type": "code",
   "execution_count": null,
   "id": "b165149f",
   "metadata": {},
   "outputs": [],
   "source": [
    "mdf, conflict_df = data_merger(ech_df, an, how='outer', on=['ID_ech', 'Date_ech'], dist_max=1., drop_skip_col=['index'])"
   ]
  },
  {
   "cell_type": "code",
   "execution_count": null,
   "id": "3420dbe0",
   "metadata": {},
   "outputs": [],
   "source": [
    "mdf['Date_ech'] = mdf['Date_ech'].astype('datetime64')"
   ]
  },
  {
   "cell_type": "code",
   "execution_count": null,
   "id": "8e16d441",
   "metadata": {},
   "outputs": [],
   "source": [
    "mdf['Type'] = 'Piezo'\n",
    "mdf['Date_mes'] = mdf['Date_ech']\n",
    "mdf['ID'] = mdf['ID_ech']"
   ]
  },
  {
   "cell_type": "code",
   "execution_count": null,
   "id": "178b8af7",
   "metadata": {
    "scrolled": true
   },
   "outputs": [],
   "source": [
    "df_dict = data_slicer(mdf, cols_dict, crit_dict)"
   ]
  },
  {
   "cell_type": "code",
   "execution_count": null,
   "id": "316b21dc",
   "metadata": {},
   "outputs": [],
   "source": [
    "ukw = df_dict['unknown']\n",
    "bh = df_dict['borehole']\n",
    "\n",
    "bh = bh.drop(index=ukw.index)\n",
    "ukw.drop_duplicates(['ID'], inplace=True)\n",
    "ukw.reset_index(drop=True, inplace=True)\n",
    "bh.drop_duplicates(['ID'], inplace=True)\n",
    "if 'X' in bh.columns: \n",
    "    bh = bh.query('ID==ID and X==X')\n",
    "else:\n",
    "    bh = bh.query('ID==ID')\n",
    "bh.reset_index(drop=True, inplace=True)\n",
    "\n",
    "mes = df_dict['measure']\n",
    "an = df_dict['analysis']\n",
    "litho = df_dict['lithology']\n",
    "eqp = df_dict['equipement']\n",
    "\n",
    "print(f'borehole: {len(bh)} ; measure: {len(mes)} ; lithology: {len(litho)} ; analysis: {len(an)} ; ' \n",
    "      f'equipement: {len(eqp)} ; unknown: {len(ukw)}')"
   ]
  },
  {
   "cell_type": "code",
   "execution_count": null,
   "id": "fcf5a619",
   "metadata": {},
   "outputs": [],
   "source": [
    "source_bh = bh\n",
    "source_mes = mes\n",
    "source_an = an"
   ]
  },
  {
   "cell_type": "code",
   "execution_count": null,
   "id": "5c57aa74",
   "metadata": {},
   "outputs": [],
   "source": [
    "if not os.path.exists(tmp_dir):\n",
    "    os.makedirs(tmp_dir), os.makedirs(tmp_dir+'source_merge/')\n",
    "    \n",
    "#eqp.to_csv(tmp_dir+sheet+'_Equipments.csv', index=False)\n",
    "mes.to_csv(tmp_dir+sheet+'_Measures.csv', index=False)\n",
    "bh.to_csv(tmp_dir+sheet+'_Boreholes.csv', index=False)\n",
    "an.to_csv(tmp_dir+sheet+'_Samples.csv', index=False)\n",
    "#ukw.to_csv(tmp_dir+sheet+'_Unknown.csv', index=False)\n",
    "#litho.to_csv(tmp_dir+sheet+'_Lithologies.csv', index=False)\n",
    "\n",
    "source_bh.to_csv(tmp_dir+'source_merge/source_Boreholes.csv', index=False) #all Boreholes data in the source\n",
    "source_mes.to_csv(tmp_dir+'source_merge/source_Measures.csv', index=False) #all Measures data in the source\n",
    "#source_eqp.to_csv(tmp_dir+'source_merge/source_Equipments.csv', index=False)\n",
    "source_an.to_csv(tmp_dir+'source_merge/source_Samples.csv', index=False)\n",
    "#source_ukw.to_csv(tmp_dir+'source_merge/source_Unknown.csv', index=False)\n",
    "#source_litho.to_csv(tmp_dir+'source_merge/source_Lithologies.csv', index=False)\n",
    "\n",
    "print(f'source_bh: {len(source_bh)} ; source_eqp: {len(source_eqp)} ; source_uknw: {len(source_ukw)} ; '\n",
    "      f'source_litho: {len(source_litho)} ; source_an: {len(source_an)} ; source_mes: {len(source_mes)}')"
   ]
  },
  {
   "cell_type": "markdown",
   "id": "assumed-safety",
   "metadata": {},
   "source": [
    "* **Sheet : 'Param physico'**"
   ]
  },
  {
   "cell_type": "code",
   "execution_count": null,
   "id": "pressed-corner",
   "metadata": {},
   "outputs": [],
   "source": [
    "tmp_dir= save_dir + 'Siterem_Pilote/'\n",
    "sheet='Param_physico'"
   ]
  },
  {
   "cell_type": "code",
   "execution_count": null,
   "id": "signal-assistant",
   "metadata": {},
   "outputs": [],
   "source": [
    "df = pd.read_excel(ROOT_DIR + '/CF_data/Data_SITEREM/Resultats_Siterem_eau_pilote_jusque_decembre_2020.xlsx', \n",
    "                   sheet_name='param. physico', skiprows=2)\n",
    "df=na_line_drop(df,0)\n",
    "df=na_col_drop(df,1)\n",
    "df.replace(r'<|>','', inplace=True, regex=True)\n",
    "df.replace(r'-$',np.nan, inplace=True, regex=True)\n",
    "\n",
    "dataframe_viewer(df, rows=5)"
   ]
  },
  {
   "cell_type": "code",
   "execution_count": null,
   "id": "wicked-father",
   "metadata": {},
   "outputs": [],
   "source": [
    "df=df.transpose()\n",
    "df.reset_index(drop=True, inplace=True)"
   ]
  },
  {
   "cell_type": "code",
   "execution_count": null,
   "id": "engaged-geography",
   "metadata": {},
   "outputs": [],
   "source": [
    "df=col_ren(df, 1)"
   ]
  },
  {
   "cell_type": "code",
   "execution_count": null,
   "id": "dressed-tobacco",
   "metadata": {},
   "outputs": [],
   "source": [
    "df.drop(list(range(2)), axis=0, inplace=True)\n",
    "df.reset_index(drop=True, inplace=True)"
   ]
  },
  {
   "cell_type": "code",
   "execution_count": null,
   "id": "continuing-tradition",
   "metadata": {},
   "outputs": [],
   "source": [
    "sdf=df.iloc[:,:33]\n",
    "df=df.iloc[:,34:]"
   ]
  },
  {
   "cell_type": "code",
   "execution_count": null,
   "id": "premier-leather",
   "metadata": {},
   "outputs": [],
   "source": [
    "df=dble_col_drop(df)\n",
    "sdf=dble_col_drop(sdf)"
   ]
  },
  {
   "cell_type": "code",
   "execution_count": null,
   "id": "adopted-counter",
   "metadata": {},
   "outputs": [],
   "source": [
    "df=na_line_drop(df,1)\n",
    "sdf=na_line_drop(sdf,1)"
   ]
  },
  {
   "cell_type": "code",
   "execution_count": null,
   "id": "automatic-pearl",
   "metadata": {},
   "outputs": [],
   "source": [
    "df=na_col_drop(df,1)\n",
    "sdf=na_col_drop(sdf,1)"
   ]
  },
  {
   "cell_type": "code",
   "execution_count": null,
   "id": "designed-cemetery",
   "metadata": {},
   "outputs": [],
   "source": [
    "df=df.iloc[:,:-1]\n",
    "name=['ID_ech','Periode','Emplacement','Date_ech','Niv_eau_pz','Long_pz','Temp_ech','pH', 'CE', 'ORP','O_diss']\n",
    "df=col_ren(df, mode=1, name=name)"
   ]
  },
  {
   "cell_type": "code",
   "execution_count": null,
   "id": "meaningful-ability",
   "metadata": {},
   "outputs": [],
   "source": [
    "sdf.drop(columns=['col_29'], inplace=True)\n",
    "name=['ID_ech','Periode','Emplacement','Date_ech','Niv_eau_pz','Long_pz','pH','Niv_eau_sol','Temp_ech','CE',\n",
    "      'ORP','O_diss','Temp_pH']\n",
    "sdf=col_ren(sdf, mode=1, name=name)"
   ]
  },
  {
   "cell_type": "code",
   "execution_count": null,
   "id": "funny-arlington",
   "metadata": {},
   "outputs": [],
   "source": [
    "df['CE']=df['CE'].apply(lambda x: pd.to_numeric(x)/1000 \n",
    "                                  if re.search('^\\d+', str(x)) and not pd.isnull(x) else np.nan)\n",
    "sdf['CE']=sdf['CE'].apply(lambda x: pd.to_numeric(x)/1000 \n",
    "                                  if re.search('^\\d+', str(x)) and not pd.isnull(x) else np.nan)"
   ]
  },
  {
   "cell_type": "code",
   "execution_count": null,
   "id": "attended-particle",
   "metadata": {},
   "outputs": [],
   "source": [
    "sdf['Periode'].replace('\\n',' ', regex=True, inplace=True)\n",
    "sdf.replace('\\n','', regex=True, inplace=True)\n",
    "sdf.drop(columns=[\"Niv_eau_sol\"], inplace=True)"
   ]
  },
  {
   "cell_type": "code",
   "execution_count": null,
   "id": "electoral-aircraft",
   "metadata": {
    "scrolled": true
   },
   "outputs": [],
   "source": [
    "set(sdf['Emplacement'])"
   ]
  },
  {
   "cell_type": "code",
   "execution_count": null,
   "id": "overall-collector",
   "metadata": {
    "scrolled": true
   },
   "outputs": [],
   "source": [
    "data=[df, sdf]\n",
    "for d in data:\n",
    "    for i in range(len(d['ID_ech'])):\n",
    "        e=str(d.loc[i, 'Emplacement'])\n",
    "        \n",
    "        if re.match('P',e, re.I): \n",
    "            d.loc[i,'Emplacement']='Pilote'\n",
    "        elif re.match('HZP',e, re.I): \n",
    "            d.loc[i,'Emplacement']='Hors Pilote'\n",
    "        else:\n",
    "            d.loc[i,'Emplacement']=np.nan"
   ]
  },
  {
   "cell_type": "code",
   "execution_count": null,
   "id": "mental-latex",
   "metadata": {},
   "outputs": [],
   "source": [
    "df.replace('\\*|à compléter',np.nan, inplace=True, regex=True)"
   ]
  },
  {
   "cell_type": "code",
   "execution_count": null,
   "id": "minor-malta",
   "metadata": {},
   "outputs": [],
   "source": [
    "mdf, conflict_df = data_merger(sdf, df, 'outer', 'ID_ech')"
   ]
  },
  {
   "cell_type": "code",
   "execution_count": null,
   "id": "f5534786",
   "metadata": {},
   "outputs": [],
   "source": [
    "mdf['Date_ech'] = mdf['Date_ech'].astype('datetime64')"
   ]
  },
  {
   "cell_type": "code",
   "execution_count": null,
   "id": "9c9d95aa",
   "metadata": {},
   "outputs": [],
   "source": [
    "mdf = na_col_drop(mdf, 3)"
   ]
  },
  {
   "cell_type": "code",
   "execution_count": null,
   "id": "fb7872fb",
   "metadata": {},
   "outputs": [],
   "source": [
    "mdf['Type'] = 'Piezo'\n",
    "mdf.rename(columns={'Date_ech':'Date_mes', 'ID_ech':'ID'}, inplace=True)"
   ]
  },
  {
   "cell_type": "code",
   "execution_count": null,
   "id": "321d2247",
   "metadata": {
    "scrolled": true
   },
   "outputs": [],
   "source": [
    "df_dict = data_slicer(mdf, cols_dict, crit_dict)"
   ]
  },
  {
   "cell_type": "code",
   "execution_count": null,
   "id": "4d51d58c",
   "metadata": {},
   "outputs": [],
   "source": [
    "ukw = df_dict['unknown']\n",
    "bh = df_dict['borehole']\n",
    "\n",
    "bh = bh.drop(index=ukw.index)\n",
    "ukw.drop_duplicates(['ID'], inplace=True)\n",
    "ukw.reset_index(drop=True, inplace=True)\n",
    "bh.drop_duplicates(['ID'], inplace=True)\n",
    "if 'X' in bh.columns: \n",
    "    bh = bh.query('ID==ID and X==X')\n",
    "else:\n",
    "    bh = bh.query('ID==ID')\n",
    "bh.reset_index(drop=True, inplace=True)\n",
    "\n",
    "mes = df_dict['measure']\n",
    "an = df_dict['analysis']\n",
    "litho = df_dict['lithology']\n",
    "eqp = df_dict['equipement']\n",
    "\n",
    "print(f'borehole: {len(bh)} ; measure: {len(mes)} ; lithology: {len(litho)} ; analysis: {len(an)} ; ' \n",
    "      f'equipement: {len(eqp)} ; unknown: {len(ukw)}')"
   ]
  },
  {
   "cell_type": "code",
   "execution_count": null,
   "id": "e70dcf72",
   "metadata": {},
   "outputs": [],
   "source": [
    "source_bh, conflict_df = data_merger(source_bh, bh, how='outer', on=['ID'], dist_max=1., drop_skip_col=['index'])"
   ]
  },
  {
   "cell_type": "code",
   "execution_count": null,
   "id": "65627c7b",
   "metadata": {},
   "outputs": [],
   "source": [
    "source_mes, conflict_df = data_merger(source_mes, mes, how='outer', on=['ID', 'Date_mes'], dist_max=1., drop_skip_col=['index'])"
   ]
  },
  {
   "cell_type": "code",
   "execution_count": null,
   "id": "7697b36e",
   "metadata": {},
   "outputs": [],
   "source": [
    "dataset = source_mes\n",
    "data_validation(overall_data=dataset, conflict_data=conflict_df, index_col='index', pass_col='ID', \n",
    "                valid_dict={'Periode_y':list(conflict_df.index)})\n",
    "\n",
    "if 'level_0' in dataset.columns:\n",
    "    if 'index' in dataset.columns:\n",
    "        dataset.drop(columns='index', inplace=True)\n",
    "    dataset.rename(columns={'level_0':'index'}, inplace=True)\n",
    "source_mes = dataset"
   ]
  },
  {
   "cell_type": "code",
   "execution_count": null,
   "id": "41cb262c",
   "metadata": {},
   "outputs": [],
   "source": [
    "if not os.path.exists(tmp_dir):\n",
    "    os.makedirs(tmp_dir), os.makedirs(tmp_dir+'source_merge/')\n",
    "    \n",
    "#eqp.to_csv(tmp_dir+sheet+'_Equipments.csv', index=False)\n",
    "mes.to_csv(tmp_dir+sheet+'_Measures.csv', index=False)\n",
    "bh.to_csv(tmp_dir+sheet+'_Boreholes.csv', index=False)\n",
    "#an.to_csv(tmp_dir+sheet+'_Samples.csv', index=False)\n",
    "#ukw.to_csv(tmp_dir+sheet+'_Unknown.csv', index=False)\n",
    "#litho.to_csv(tmp_dir+sheet+'_Lithologies.csv', index=False)\n",
    "\n",
    "source_bh.to_csv(tmp_dir+'source_merge/source_Boreholes.csv', index=False) #all Boreholes data in the source\n",
    "source_mes.to_csv(tmp_dir+'source_merge/source_Measures.csv', index=False) #all Measures data in the source\n",
    "#source_eqp.to_csv(tmp_dir+'source_merge/source_Equipments.csv', index=False)\n",
    "#source_an.to_csv(tmp_dir+'source_merge/source_Samples.csv', index=False)\n",
    "#source_ukw.to_csv(tmp_dir+'source_merge/source_Unknown.csv', index=False)\n",
    "#source_litho.to_csv(tmp_dir+'source_merge/source_Lithologies.csv', index=False)\n",
    "\n",
    "print(f'source_bh: {len(source_bh)} ; source_eqp: {len(source_eqp)} ; source_uknw: {len(source_ukw)} ; '\n",
    "      f'source_litho: {len(source_litho)} ; source_an: {len(source_an)} ; source_mes: {len(source_mes)}')"
   ]
  },
  {
   "cell_type": "markdown",
   "id": "selected-liver",
   "metadata": {},
   "source": [
    "* **Sheet : 'Inorganiques et composés majeurs'**"
   ]
  },
  {
   "cell_type": "code",
   "execution_count": null,
   "id": "regulation-repository",
   "metadata": {},
   "outputs": [],
   "source": [
    "tmp_dir= save_dir + 'Siterem_Pilote/'\n",
    "sheet='Inorganic_major'"
   ]
  },
  {
   "cell_type": "code",
   "execution_count": null,
   "id": "approved-winner",
   "metadata": {},
   "outputs": [],
   "source": [
    "df = pd.read_excel(ROOT_DIR + '/CF_data/Data_SITEREM/Resultats_Siterem_eau_pilote_jusque_decembre_2020.xlsx', \n",
    "                   sheet_name='inorganiques et composés majeur', skiprows=2)\n",
    "df=na_line_drop(df,0)\n",
    "df=na_col_drop(df,1)\n",
    "df.replace(r'<|>','', inplace=True, regex=True)\n",
    "df.replace(r'-$',np.nan, inplace=True, regex=True)\n",
    "\n",
    "dataframe_viewer(df, rows=5)"
   ]
  },
  {
   "cell_type": "code",
   "execution_count": null,
   "id": "baking-headset",
   "metadata": {},
   "outputs": [],
   "source": [
    "ech_df=df.loc[:21]\n",
    "an=df.loc[list(range(0,4))+list(range(22, len(df)))]"
   ]
  },
  {
   "cell_type": "code",
   "execution_count": null,
   "id": "human-queen",
   "metadata": {},
   "outputs": [],
   "source": [
    "an = an.sort_index().reset_index(drop=True)"
   ]
  },
  {
   "cell_type": "code",
   "execution_count": null,
   "id": "meaning-raleigh",
   "metadata": {},
   "outputs": [],
   "source": [
    "ech_df=ech_df.transpose()\n",
    "ech_df.reset_index(drop=True, inplace=True)\n",
    "ech_df=col_ren(ech_df, 1)"
   ]
  },
  {
   "cell_type": "code",
   "execution_count": null,
   "id": "molecular-pathology",
   "metadata": {},
   "outputs": [],
   "source": [
    "ech_df=dble_col_drop(ech_df)"
   ]
  },
  {
   "cell_type": "code",
   "execution_count": null,
   "id": "bridal-north",
   "metadata": {},
   "outputs": [],
   "source": [
    "ech_df.drop(list(range(2)), axis=0, inplace=True)\n",
    "ech_df.reset_index(drop=True, inplace=True)\n",
    "ech_df=na_col_drop(ech_df,2)\n",
    "ech_df=na_line_drop(ech_df,2)\n",
    "ech_df.reset_index(drop=True, inplace=True)"
   ]
  },
  {
   "cell_type": "code",
   "execution_count": null,
   "id": "determined-mechanics",
   "metadata": {},
   "outputs": [],
   "source": [
    "name=['ID_ech', 'Periode', 'Emplacement','Date_ech','Temp_ech']\n",
    "ech_df.replace(r'\\n',' ', inplace=True, regex=True)\n",
    "ech_df=col_ren(ech_df, name=name, mode=1)\n",
    "ech_df=ech_df.query('ID_ech==ID_ech')\n",
    "ech_df.insert(1,'Type_ech','Eau')"
   ]
  },
  {
   "cell_type": "code",
   "execution_count": null,
   "id": "frank-health",
   "metadata": {
    "scrolled": true
   },
   "outputs": [],
   "source": [
    "dataframe_viewer(ech_df, rows=3)"
   ]
  },
  {
   "cell_type": "code",
   "execution_count": null,
   "id": "italian-explanation",
   "metadata": {},
   "outputs": [],
   "source": [
    "an=an.transpose()\n",
    "an.reset_index(drop=True, inplace=True)"
   ]
  },
  {
   "cell_type": "code",
   "execution_count": null,
   "id": "victorian-sugar",
   "metadata": {},
   "outputs": [],
   "source": [
    "an=col_ren(an, 1)"
   ]
  },
  {
   "cell_type": "code",
   "execution_count": null,
   "id": "yellow-fence",
   "metadata": {},
   "outputs": [],
   "source": [
    "an.replace(r'<|>','', inplace=True, regex=True)\n",
    "an.replace(r'-',np.nan, inplace=True, regex=True)\n",
    "an.rename(columns={an.columns[0]:'ID_ech'}, inplace=True)"
   ]
  },
  {
   "cell_type": "code",
   "execution_count": null,
   "id": "hollywood-amsterdam",
   "metadata": {},
   "outputs": [],
   "source": [
    "an=dble_col_drop(an)"
   ]
  },
  {
   "cell_type": "code",
   "execution_count": null,
   "id": "sustained-projector",
   "metadata": {},
   "outputs": [],
   "source": [
    "an=na_col_drop(an,3)"
   ]
  },
  {
   "cell_type": "code",
   "execution_count": null,
   "id": "71a34bd5",
   "metadata": {},
   "outputs": [],
   "source": [
    "an.rename(columns={'Période ':'Periode', 'Emplacement \\n- S : Simulateur \\n- HZS : Hors zone simulateur':'Emplacement',\n",
    "                  'Date de prélèvement':'Date_ech', 'col_9':'ammoniaque libre'}, inplace=True)"
   ]
  },
  {
   "cell_type": "code",
   "execution_count": null,
   "id": "utility-enhancement",
   "metadata": {},
   "outputs": [],
   "source": [
    "an.drop(list(range(2)), axis=0, inplace=True)\n",
    "an.reset_index(drop=True, inplace=True)\n",
    "an=na_col_drop(an,1)\n",
    "an.insert(1,'Type_ech','Eau')"
   ]
  },
  {
   "cell_type": "code",
   "execution_count": null,
   "id": "eeb4404b",
   "metadata": {
    "scrolled": true
   },
   "outputs": [],
   "source": [
    "data=[ech_df, an]\n",
    "for d in data:\n",
    "    for i in range(len(d['ID_ech'])):\n",
    "        e=str(d.loc[i, 'Emplacement'])\n",
    "        \n",
    "        if re.match('S',e, re.I): \n",
    "            d.loc[i,'Emplacement']='Simulateur'\n",
    "        elif re.match('HZS',e, re.I): \n",
    "            d.loc[i,'Emplacement']='Hors simulateur'\n",
    "        else:\n",
    "            d.loc[i,'Emplacement']=np.nan"
   ]
  },
  {
   "cell_type": "raw",
   "id": "f83d4728",
   "metadata": {},
   "source": [
    "data = [ech_df, an]\n",
    "for d in data:\n",
    "    print('-------------')\n",
    "    for i, r in d.iterrows():\n",
    "        for c in d.columns:\n",
    "            if c not in ['ID', 'ID_ech', 'Type', 'Type_ech', 'Periode', 'Emplacement', 'Date_ech'] and \\\n",
    "            str(type(r[c])) not in [\"<class 'float'>\", \"<class 'int'>\"]:\n",
    "                d.loc[i, c] = np.nan\n",
    "                #print(f'{i}- {str(type(r[c]))}- {c} : {r[c]}')"
   ]
  },
  {
   "cell_type": "code",
   "execution_count": null,
   "id": "phantom-header",
   "metadata": {},
   "outputs": [],
   "source": [
    "an=col_ren(an, name=POL_NAMES_MODEL, mode=1)\n",
    "#an=an.iloc[:,:-7]"
   ]
  },
  {
   "cell_type": "code",
   "execution_count": null,
   "id": "35556cc3",
   "metadata": {},
   "outputs": [],
   "source": [
    "mdf, conflict_df = data_merger(ech_df, an, how='outer', on=['ID_ech', 'Date_ech'], dist_max=1., drop_skip_col=['index'])"
   ]
  },
  {
   "cell_type": "code",
   "execution_count": null,
   "id": "e69dee1b",
   "metadata": {},
   "outputs": [],
   "source": [
    "dataset = mdf\n",
    "data_validation(overall_data=dataset, conflict_data=conflict_df, index_col='index', pass_col='ID', \n",
    "                valid_dict={'Periode_x':list(conflict_df.index)})\n",
    "\n",
    "if 'level_0' in dataset.columns:\n",
    "    if 'index' in dataset.columns:\n",
    "        dataset.drop(columns='index', inplace=True)\n",
    "    dataset.rename(columns={'level_0':'index'}, inplace=True)\n",
    "mdf = dataset"
   ]
  },
  {
   "cell_type": "code",
   "execution_count": null,
   "id": "1d4d1eec",
   "metadata": {},
   "outputs": [],
   "source": [
    "mdf['Date_ech'] = mdf['Date_ech'].astype('datetime64')"
   ]
  },
  {
   "cell_type": "code",
   "execution_count": null,
   "id": "blind-duration",
   "metadata": {
    "scrolled": false
   },
   "outputs": [],
   "source": [
    "dataframe_viewer(mdf, rows=3)"
   ]
  },
  {
   "cell_type": "code",
   "execution_count": null,
   "id": "d9d4f7d7",
   "metadata": {},
   "outputs": [],
   "source": [
    "mdf['Type'] = 'Piezo'\n",
    "mdf['Date_mes'] = mdf['Date_ech']\n",
    "mdf['ID'] = mdf['ID_ech']"
   ]
  },
  {
   "cell_type": "code",
   "execution_count": null,
   "id": "ec589bbc",
   "metadata": {
    "scrolled": true
   },
   "outputs": [],
   "source": [
    "df_dict = data_slicer(mdf, cols_dict, crit_dict)"
   ]
  },
  {
   "cell_type": "code",
   "execution_count": null,
   "id": "b3af378b",
   "metadata": {},
   "outputs": [],
   "source": [
    "ukw = df_dict['unknown']\n",
    "bh = df_dict['borehole']\n",
    "\n",
    "bh = bh.drop(index=ukw.index)\n",
    "ukw.drop_duplicates(['ID'], inplace=True)\n",
    "ukw.reset_index(drop=True, inplace=True)\n",
    "bh.drop_duplicates(['ID'], inplace=True)\n",
    "if 'X' in bh.columns: \n",
    "    bh = bh.query('ID==ID and X==X')\n",
    "else:\n",
    "    bh = bh.query('ID==ID')\n",
    "bh.reset_index(drop=True, inplace=True)\n",
    "\n",
    "mes = df_dict['measure']\n",
    "an = df_dict['analysis']\n",
    "litho = df_dict['lithology']\n",
    "eqp = df_dict['equipement']\n",
    "\n",
    "print(f'borehole: {len(bh)} ; measure: {len(mes)} ; lithology: {len(litho)} ; analysis: {len(an)} ; ' \n",
    "      f'equipement: {len(eqp)} ; unknown: {len(ukw)}')"
   ]
  },
  {
   "cell_type": "code",
   "execution_count": null,
   "id": "f418011b",
   "metadata": {},
   "outputs": [],
   "source": [
    "source_bh, conflict_df = data_merger(source_bh, bh, how='outer', on=['ID'], dist_max=1., drop_skip_col=['index'])"
   ]
  },
  {
   "cell_type": "code",
   "execution_count": null,
   "id": "201bcf5f",
   "metadata": {
    "scrolled": true
   },
   "outputs": [],
   "source": [
    "dataset = source_bh\n",
    "data_validation(overall_data=dataset, conflict_data=conflict_df, index_col='index', pass_col='ID', \n",
    "                valid_dict={'Emplacement_x':list(conflict_df.index)})\n",
    "\n",
    "if 'level_0' in dataset.columns:\n",
    "    if 'index' in dataset.columns:\n",
    "        dataset.drop(columns='index', inplace=True)\n",
    "    dataset.rename(columns={'level_0':'index'}, inplace=True)\n",
    "source_bh = dataset"
   ]
  },
  {
   "cell_type": "code",
   "execution_count": null,
   "id": "d4dd54ce",
   "metadata": {},
   "outputs": [],
   "source": [
    "source_an, conflict_df = data_merger(source_an, an, how='outer', on=['ID_ech', 'Date_ech'], dist_max=1., drop_skip_col=['index'])"
   ]
  },
  {
   "cell_type": "code",
   "execution_count": null,
   "id": "95caf416",
   "metadata": {},
   "outputs": [],
   "source": [
    "source_mes, conflict_df = data_merger(source_mes, mes, how='outer', on=['ID_ech', 'Date_mes'], dist_max=1., drop_skip_col=['index'])"
   ]
  },
  {
   "cell_type": "code",
   "execution_count": null,
   "id": "86272add",
   "metadata": {},
   "outputs": [],
   "source": [
    "dataset = source_mes\n",
    "data_validation(overall_data=dataset, conflict_data=conflict_df, index_col='index', pass_col='ID', \n",
    "                valid_dict={'Temp_ech_x':list(conflict_df.index), 'Periode_x':list(conflict_df.index)})\n",
    "\n",
    "if 'level_0' in dataset.columns:\n",
    "    if 'index' in dataset.columns:\n",
    "        dataset.drop(columns='index', inplace=True)\n",
    "    dataset.rename(columns={'level_0':'index'}, inplace=True)\n",
    "source_mes = dataset"
   ]
  },
  {
   "cell_type": "code",
   "execution_count": null,
   "id": "5ebd357e",
   "metadata": {},
   "outputs": [],
   "source": [
    "if not os.path.exists(tmp_dir):\n",
    "    os.makedirs(tmp_dir), os.makedirs(tmp_dir+'source_merge/')\n",
    "    \n",
    "#eqp.to_csv(tmp_dir+sheet+'_Equipments.csv', index=False)\n",
    "mes.to_csv(tmp_dir+sheet+'_Measures.csv', index=False)\n",
    "bh.to_csv(tmp_dir+sheet+'_Boreholes.csv', index=False)\n",
    "an.to_csv(tmp_dir+sheet+'_Samples.csv', index=False)\n",
    "#ukw.to_csv(tmp_dir+sheet+'_Unknown.csv', index=False)\n",
    "#litho.to_csv(tmp_dir+sheet+'_Lithologies.csv', index=False)\n",
    "\n",
    "source_bh.to_csv(tmp_dir+'source_merge/source_Boreholes.csv', index=False) #all Boreholes data in the source\n",
    "source_mes.to_csv(tmp_dir+'source_merge/source_Measures.csv', index=False) #all Measures data in the source\n",
    "#source_eqp.to_csv(tmp_dir+'source_merge/source_Equipments.csv', index=False)\n",
    "source_an.to_csv(tmp_dir+'source_merge/source_Samples.csv', index=False)\n",
    "#source_ukw.to_csv(tmp_dir+'source_merge/source_Unknown.csv', index=False)\n",
    "#source_litho.to_csv(tmp_dir+'source_merge/source_Lithologies.csv', index=False)\n",
    "\n",
    "print(f'source_bh: {len(source_bh)} ; source_eqp: {len(source_eqp)} ; source_uknw: {len(source_ukw)} ; '\n",
    "      f'source_litho: {len(source_litho)} ; source_an: {len(source_an)} ; source_mes: {len(source_mes)}')"
   ]
  },
  {
   "cell_type": "markdown",
   "id": "ee3ea062",
   "metadata": {},
   "source": [
    "#### ======================================================================================"
   ]
  },
  {
   "cell_type": "code",
   "execution_count": null,
   "id": "5c636569",
   "metadata": {},
   "outputs": [],
   "source": [
    "# initialisation des variables\n",
    "_df = pd.DataFrame()\n",
    "source_bh, source_eqp, source_ukw = _df, _df, _df\n",
    "source_litho, source_an, source_mes = _df, _df, _df\n",
    "\n",
    "print(f'source_bh: {len(source_bh)} ; source_eqp: {len(source_eqp)} ; source_uknw: {len(source_ukw)} ; '\n",
    "      f'source_litho: {len(source_litho)} ; source_an: {len(source_an)} ; source_mes: {len(source_mes)}')"
   ]
  },
  {
   "cell_type": "markdown",
   "id": "measured-realtor",
   "metadata": {},
   "source": [
    "## 13-Resultats_Siterem_SOL.xlsx\n",
    "* **Sheet : 'Résult SOL ext. pilote'**"
   ]
  },
  {
   "cell_type": "code",
   "execution_count": null,
   "id": "sorted-president",
   "metadata": {},
   "outputs": [],
   "source": [
    "tmp_dir= save_dir + 'Siterem_Result_Sol/'\n",
    "sheet='Result_sol_ExtP'"
   ]
  },
  {
   "cell_type": "code",
   "execution_count": null,
   "id": "finite-supply",
   "metadata": {
    "scrolled": true
   },
   "outputs": [],
   "source": [
    "df = pd.read_excel(ROOT_DIR + '/CF_data/Data_SITEREM/Resultats_Siterem_SOL.xlsx', \n",
    "                   sheet_name='Résult SOL ext. pilote', skiprows=5)\n",
    "df=na_line_drop(df,0)\n",
    "df=na_col_drop(df,1)\n",
    "df.replace(r'<|>','', inplace=True, regex=True)\n",
    "df.replace(r'-$',np.nan, inplace=True, regex=True)\n",
    "\n",
    "dataframe_viewer(df, rows=5)"
   ]
  },
  {
   "cell_type": "code",
   "execution_count": null,
   "id": "exciting-identification",
   "metadata": {},
   "outputs": [],
   "source": [
    "ech_df=df.loc[:22]\n",
    "an=df.loc[23:]"
   ]
  },
  {
   "cell_type": "code",
   "execution_count": null,
   "id": "verbal-local",
   "metadata": {},
   "outputs": [],
   "source": [
    "an.loc[0.5] = df.loc[0] # put data on first line\n",
    "an = an.sort_index().reset_index(drop=True)"
   ]
  },
  {
   "cell_type": "code",
   "execution_count": null,
   "id": "minute-boards",
   "metadata": {},
   "outputs": [],
   "source": [
    "ech_df=ech_df.transpose()\n",
    "ech_df.reset_index(drop=True, inplace=True)\n",
    "ech_df=col_ren(ech_df, 1)"
   ]
  },
  {
   "cell_type": "code",
   "execution_count": null,
   "id": "passive-clock",
   "metadata": {},
   "outputs": [],
   "source": [
    "ech_df=dble_col_drop(ech_df)"
   ]
  },
  {
   "cell_type": "code",
   "execution_count": null,
   "id": "coordinated-winner",
   "metadata": {},
   "outputs": [],
   "source": [
    "ech_df.drop(list(range(3)), axis=0, inplace=True)\n",
    "ech_df.reset_index(drop=True, inplace=True)\n",
    "ech_df=na_col_drop(ech_df,1)\n",
    "ech_df=na_line_drop(ech_df,3)\n",
    "ech_df.reset_index(drop=True, inplace=True)"
   ]
  },
  {
   "cell_type": "code",
   "execution_count": null,
   "id": "tropical-reset",
   "metadata": {},
   "outputs": [],
   "source": [
    "ech_df=ech_df[:-1]\n",
    "ech_df.drop(columns=['broyage'], inplace=True)"
   ]
  },
  {
   "cell_type": "code",
   "execution_count": null,
   "id": "continental-street",
   "metadata": {},
   "outputs": [],
   "source": [
    "name=['ID_ech','Ech_top', 'Ech_base','MS','Date_ech','Long_for','Refus','Description','MO','COT','pH_KCl', \n",
    "      'Temp_pH','pH_H20','Fract_2','Fract_2+', 'Fract_min_2µ','Fract_min_50µ','Fract_min_2']\n",
    "ech_df=col_ren(ech_df, name=name, mode=1)"
   ]
  },
  {
   "cell_type": "code",
   "execution_count": null,
   "id": "respiratory-meaning",
   "metadata": {},
   "outputs": [],
   "source": [
    "set(ech_df.Description)"
   ]
  },
  {
   "cell_type": "code",
   "execution_count": null,
   "id": "economic-buffalo",
   "metadata": {},
   "outputs": [],
   "source": [
    "for i in range(len(ech_df['Description'])):\n",
    "    x = ech_df.loc[i,'Description']\n",
    "    if x in ['R','R ']: ech_df.loc[i,'Description']='Remblais'\n",
    "    elif x in ['TN','TN ']: ech_df.loc[i,'Description']='Terrain naturel'\n",
    "\n",
    "ech_df['Refus']=ech_df['Refus'].apply(lambda x: 'x' if not pd.isnull(x) else '')\n",
    "ech_df.insert(1,'Type_ech','Sol')#"
   ]
  },
  {
   "cell_type": "code",
   "execution_count": null,
   "id": "human-interaction",
   "metadata": {},
   "outputs": [],
   "source": [
    "an=an.transpose()\n",
    "an.reset_index(drop=True, inplace=True)"
   ]
  },
  {
   "cell_type": "code",
   "execution_count": null,
   "id": "sufficient-opinion",
   "metadata": {},
   "outputs": [],
   "source": [
    "an=col_ren(an, 1)"
   ]
  },
  {
   "cell_type": "code",
   "execution_count": null,
   "id": "certified-topic",
   "metadata": {},
   "outputs": [],
   "source": [
    "an.rename(columns={an.columns[0]:'ID_ech', 'col_33':'Phénanthrène'}, inplace=True)"
   ]
  },
  {
   "cell_type": "raw",
   "id": "28061f56",
   "metadata": {},
   "source": [
    "name=['ID_ech','METAUX LOURDS','Arsenic','Cadmium','Chrome','Chrome VI','Cuivre','Mercure','Plomb','Nickel',\n",
    "'Zinc','CYANURES','cyanure (libre)','cyanure (totaux)','cyanure (APE)','cyanure complex','thiocyanate',\n",
    "'COMPOSES AROMATIQUES VOLATILS','Benzène','Toluène','Éthylbenzène','Orthoxylène','Para- et métaxylène','Xylènes',\n",
    "'Styrène','BTEX totaux','PHENOLS','Phénol','HYDROCARBURES AROMATIQUES POLYCYCLIQUES','Naphtalène','Acénaphtylène',\n",
    "'Acénaphtène','Fluorène','Phénanthrène','Anthracène','Fluoranthène','Pyrène','Benzo(a)anthracène','Chrysène',\n",
    "'Benzo(b)fluoranthène','Benzo(k)fluoranthène','Benzo(a)pyrène','Dibenzo(ah)anthracène','Benzo(ghi)pérylène',\n",
    "'Indéno(1,2,3-cd)pyrène','HAP Totaux (16) - EPA','COMPOSES ORGANOHALOGENES VOLATILS','Tétrachloroéthylène',\n",
    "'Trichloroéthylène','1,1-dichloroéthène','Cis-1,2-dichloroéthène','Trans 1,2-dichloroéthylène',\n",
    "'Totaux (cis,trans) 1,2-dichloroéthènes','Chlorure de vinyle','1,1,1-Trichloroéthane','1,1,2-Trichloroéthane',\n",
    "'1,1-Dichloroéthane','1,2-Dichloroéthane','Tétrachlorométhane','Chloroforme','Dichlorométhane',\n",
    "'1,2-dichloropropane','HYDROCARBURES TOTAUX','fraction aromat. >C6-C7','fraction aromat. >C7-C8',\n",
    "'fraction aromat. >C8-C10','fraction aliphat. C5-C6','fraction aliphat. >C6-C8','fraction aliphat. >C8-C10',\n",
    "'Fraction C5 - C8','Fraction C8 - C10','Fraction C10-C12','Fraction C12-C16','Fraction C16 - C21',\n",
    "'Fraction C21 - C35','Fraction C35 - C40','Hydrocarbures totaux C10-C35','Hydrocarbures totaux C10-C40',\n",
    "'Teneur mesurée','Teneur mesurée','VS : Valeur seuil']\n",
    "\n",
    "an=col_ren(an, name=name, mode=1)"
   ]
  },
  {
   "cell_type": "code",
   "execution_count": null,
   "id": "caroline-suggestion",
   "metadata": {},
   "outputs": [],
   "source": [
    "an=dble_col_drop(an)"
   ]
  },
  {
   "cell_type": "code",
   "execution_count": null,
   "id": "informed-driver",
   "metadata": {},
   "outputs": [],
   "source": [
    "an.drop(list(range(3)), axis=0, inplace=True)\n",
    "an.reset_index(drop=True, inplace=True)\n",
    "an=na_col_drop(an,1)\n",
    "an.insert(1,'Type_ech','Sol')"
   ]
  },
  {
   "cell_type": "code",
   "execution_count": null,
   "id": "lonely-gender",
   "metadata": {},
   "outputs": [],
   "source": [
    "an=col_ren(an, name=POL_NAMES_MODEL, mode=1)"
   ]
  },
  {
   "cell_type": "code",
   "execution_count": null,
   "id": "26ca77aa",
   "metadata": {},
   "outputs": [],
   "source": [
    "mdf, conflict_df = data_merger(ech_df, an, how='outer', on=['ID_ech'], dist_max=1., drop_skip_col=['index'])"
   ]
  },
  {
   "cell_type": "code",
   "execution_count": null,
   "id": "c28580e1",
   "metadata": {},
   "outputs": [],
   "source": [
    "mdf['Date_ech'] = mdf['Date_ech'].astype('datetime64')\n",
    "mdf['Date_mes'] = mdf['Date_ech']"
   ]
  },
  {
   "cell_type": "code",
   "execution_count": null,
   "id": "b2e207a4",
   "metadata": {},
   "outputs": [],
   "source": [
    "mdf = gen_id_from_ech(mdf, suffixes=sufx, prefixes=prefx, capture_regex=id_reg)"
   ]
  },
  {
   "cell_type": "code",
   "execution_count": null,
   "id": "7e986501",
   "metadata": {},
   "outputs": [],
   "source": [
    "mdf['Type'] = 'Piezo'"
   ]
  },
  {
   "cell_type": "code",
   "execution_count": null,
   "id": "e9f73cc9",
   "metadata": {
    "scrolled": true
   },
   "outputs": [],
   "source": [
    "df_dict = data_slicer(mdf, cols_dict, crit_dict)"
   ]
  },
  {
   "cell_type": "code",
   "execution_count": null,
   "id": "b44fe91f",
   "metadata": {},
   "outputs": [],
   "source": [
    "ukw = df_dict['unknown']\n",
    "bh = df_dict['borehole']\n",
    "\n",
    "bh = bh.drop(index=ukw.index)\n",
    "ukw.drop_duplicates(['ID'], inplace=True)\n",
    "ukw.reset_index(drop=True, inplace=True)\n",
    "bh.drop_duplicates(['ID'], inplace=True)\n",
    "if 'X' in bh.columns: \n",
    "    bh = bh.query('ID==ID and X==X')\n",
    "else:\n",
    "    bh = bh.query('ID==ID')\n",
    "bh.reset_index(drop=True, inplace=True)\n",
    "\n",
    "mes = df_dict['measure']\n",
    "an = df_dict['analysis']\n",
    "litho = df_dict['lithology']\n",
    "eqp = df_dict['equipement']\n",
    "\n",
    "print(f'borehole: {len(bh)} ; measure: {len(mes)} ; lithology: {len(litho)} ; analysis: {len(an)} ; ' \n",
    "      f'equipement: {len(eqp)} ; unknown: {len(ukw)}')"
   ]
  },
  {
   "cell_type": "code",
   "execution_count": null,
   "id": "a999732b",
   "metadata": {},
   "outputs": [],
   "source": [
    "source_bh = bh\n",
    "source_mes = mes\n",
    "source_an = an"
   ]
  },
  {
   "cell_type": "code",
   "execution_count": null,
   "id": "ae2dea3f",
   "metadata": {},
   "outputs": [],
   "source": [
    "if not os.path.exists(tmp_dir):\n",
    "    os.makedirs(tmp_dir), os.makedirs(tmp_dir+'source_merge/')\n",
    "    \n",
    "#eqp.to_csv(tmp_dir+sheet+'_Equipments.csv', index=False)\n",
    "mes.to_csv(tmp_dir+sheet+'_Measures.csv', index=False)\n",
    "bh.to_csv(tmp_dir+sheet+'_Boreholes.csv', index=False)\n",
    "an.to_csv(tmp_dir+sheet+'_Samples.csv', index=False)\n",
    "#ukw.to_csv(tmp_dir+sheet+'_Unknown.csv', index=False)\n",
    "#litho.to_csv(tmp_dir+sheet+'_Lithologies.csv', index=False)\n",
    "\n",
    "source_bh.to_csv(tmp_dir+'source_merge/source_Boreholes.csv', index=False) #all Boreholes data in the source\n",
    "source_mes.to_csv(tmp_dir+'source_merge/source_Measures.csv', index=False) #all Measures data in the source\n",
    "#source_eqp.to_csv(tmp_dir+'source_merge/source_Equipments.csv', index=False)\n",
    "source_an.to_csv(tmp_dir+'source_merge/source_Samples.csv', index=False)\n",
    "#source_ukw.to_csv(tmp_dir+'source_merge/source_Unknown.csv', index=False)\n",
    "#source_litho.to_csv(tmp_dir+'source_merge/source_Lithologies.csv', index=False)\n",
    "\n",
    "print(f'source_bh: {len(source_bh)} ; source_eqp: {len(source_eqp)} ; source_uknw: {len(source_ukw)} ; '\n",
    "      f'source_litho: {len(source_litho)} ; source_an: {len(source_an)} ; source_mes: {len(source_mes)}')"
   ]
  },
  {
   "cell_type": "markdown",
   "id": "nutritional-falls",
   "metadata": {},
   "source": [
    "* **Sheet : 'SOL T1 pilote'**"
   ]
  },
  {
   "cell_type": "code",
   "execution_count": null,
   "id": "brilliant-visit",
   "metadata": {},
   "outputs": [],
   "source": [
    "tmp_dir= save_dir + 'Siterem_Result_Sol/'\n",
    "sheet='SOL_T1_Pilote'"
   ]
  },
  {
   "cell_type": "code",
   "execution_count": null,
   "id": "sorted-purple",
   "metadata": {
    "scrolled": true
   },
   "outputs": [],
   "source": [
    "df = pd.read_excel(ROOT_DIR + '/CF_data/Data_SITEREM/Resultats_Siterem_SOL.xlsx', \n",
    "                   sheet_name='SOL T1 pilote', skiprows=5)\n",
    "df=na_line_drop(df,0)\n",
    "df=na_col_drop(df,1)\n",
    "df.replace(r'<|>','', inplace=True, regex=True)\n",
    "df.replace(r'-$',np.nan, inplace=True, regex=True)\n",
    "\n",
    "dataframe_viewer(df, rows=5)"
   ]
  },
  {
   "cell_type": "code",
   "execution_count": null,
   "id": "streaming-oriental",
   "metadata": {},
   "outputs": [],
   "source": [
    "ech_df=df.loc[:35]\n",
    "an=df.loc[36:]"
   ]
  },
  {
   "cell_type": "code",
   "execution_count": null,
   "id": "aging-balance",
   "metadata": {},
   "outputs": [],
   "source": [
    "an.loc[0.5] = df.loc[0] # put data on first line\n",
    "an = an.sort_index().reset_index(drop=True)"
   ]
  },
  {
   "cell_type": "code",
   "execution_count": null,
   "id": "psychological-insured",
   "metadata": {},
   "outputs": [],
   "source": [
    "ech_df=ech_df.transpose()\n",
    "ech_df.reset_index(drop=True, inplace=True)\n",
    "ech_df=col_ren(ech_df, 1)"
   ]
  },
  {
   "cell_type": "code",
   "execution_count": null,
   "id": "elegant-angel",
   "metadata": {},
   "outputs": [],
   "source": [
    "ech_df=dble_col_drop(ech_df)"
   ]
  },
  {
   "cell_type": "code",
   "execution_count": null,
   "id": "short-constitution",
   "metadata": {},
   "outputs": [],
   "source": [
    "ech_df.drop(list(range(3)), axis=0, inplace=True)\n",
    "ech_df.reset_index(drop=True, inplace=True)\n",
    "ech_df=na_col_drop(ech_df,1)\n",
    "ech_df=na_line_drop(ech_df,3)\n",
    "ech_df.reset_index(drop=True, inplace=True)"
   ]
  },
  {
   "cell_type": "code",
   "execution_count": null,
   "id": "controlled-florence",
   "metadata": {},
   "outputs": [],
   "source": [
    "ech_df=ech_df[:-1]\n",
    "ech_df.drop(columns=['broyage'], inplace=True)"
   ]
  },
  {
   "cell_type": "code",
   "execution_count": null,
   "id": "compliant-conversion",
   "metadata": {},
   "outputs": [],
   "source": [
    "name=['ID_ech','Ech_top', 'Ech_base','MS','Date_ech','Long_for','Refus','Description','Fract_2','Fract_2+']\n",
    "ech_df=col_ren(ech_df, name=name, mode=1)"
   ]
  },
  {
   "cell_type": "code",
   "execution_count": null,
   "id": "planned-trinity",
   "metadata": {},
   "outputs": [],
   "source": [
    "for i in range(len(ech_df['Description'])):\n",
    "    x = ech_df.loc[i,'Description']\n",
    "    if x in ['R','R ']: ech_df.loc[i,'Description']='Remblais'\n",
    "    elif x in ['TN','TN ']: ech_df.loc[i,'Description']='Terrain naturel'\n",
    "\n",
    "ech_df['Refus']=ech_df['Refus'].apply(lambda x: 'x' if not pd.isnull(x) else '')\n",
    "ech_df.insert(1,'Type_ech','Sol')#"
   ]
  },
  {
   "cell_type": "code",
   "execution_count": null,
   "id": "opposite-qatar",
   "metadata": {},
   "outputs": [],
   "source": [
    "an=an.transpose()\n",
    "an.reset_index(drop=True, inplace=True)"
   ]
  },
  {
   "cell_type": "code",
   "execution_count": null,
   "id": "distributed-civilization",
   "metadata": {},
   "outputs": [],
   "source": [
    "an=col_ren(an, 1)"
   ]
  },
  {
   "cell_type": "code",
   "execution_count": null,
   "id": "dfd17ee7",
   "metadata": {},
   "outputs": [],
   "source": [
    "an=an.iloc[:,:-17]\n",
    "an=dble_col_drop(an)"
   ]
  },
  {
   "cell_type": "code",
   "execution_count": null,
   "id": "colonial-tuition",
   "metadata": {},
   "outputs": [],
   "source": [
    "an.drop(list(range(3)), axis=0, inplace=True)\n",
    "an.reset_index(drop=True, inplace=True)\n",
    "an=na_col_drop(an,3)\n",
    "an.insert(1,'Type_ech','Sol')"
   ]
  },
  {
   "cell_type": "code",
   "execution_count": null,
   "id": "drawn-wyoming",
   "metadata": {},
   "outputs": [],
   "source": [
    "an.rename(columns={an.columns[0]:'ID_ech', 'col_35':'Phénanthrène'}, inplace=True)"
   ]
  },
  {
   "cell_type": "code",
   "execution_count": null,
   "id": "stable-consolidation",
   "metadata": {},
   "outputs": [],
   "source": [
    "an=col_ren(an, name=POL_NAMES_MODEL, mode=1)"
   ]
  },
  {
   "cell_type": "code",
   "execution_count": null,
   "id": "23b95f7e",
   "metadata": {},
   "outputs": [],
   "source": [
    "mdf, conflict_df = data_merger(ech_df, an, how='outer', on=['ID_ech'], dist_max=1., drop_skip_col=['index'])"
   ]
  },
  {
   "cell_type": "code",
   "execution_count": null,
   "id": "919b468d",
   "metadata": {},
   "outputs": [],
   "source": [
    "mdf['Date_ech'] = mdf['Date_ech'].astype('datetime64')\n",
    "mdf['Date_mes'] = mdf['Date_ech']"
   ]
  },
  {
   "cell_type": "code",
   "execution_count": null,
   "id": "b03e0891",
   "metadata": {},
   "outputs": [],
   "source": [
    "mdf = gen_id_from_ech(mdf, suffixes=sufx, prefixes=prefx, capture_regex=id_reg)"
   ]
  },
  {
   "cell_type": "code",
   "execution_count": null,
   "id": "adb58552",
   "metadata": {},
   "outputs": [],
   "source": [
    "mdf['Type'] = 'Piezo'"
   ]
  },
  {
   "cell_type": "code",
   "execution_count": null,
   "id": "debac877",
   "metadata": {},
   "outputs": [],
   "source": [
    "for i in mdf.index:\n",
    "    if re.search('\\w+\\s+\\d+', mdf.loc[i, 'ID']): \n",
    "        mdf.loc[i, 'Type'] = 'Forage'"
   ]
  },
  {
   "cell_type": "code",
   "execution_count": null,
   "id": "adcc8cc1",
   "metadata": {
    "scrolled": true
   },
   "outputs": [],
   "source": [
    "df_dict = data_slicer(mdf, cols_dict, crit_dict)"
   ]
  },
  {
   "cell_type": "code",
   "execution_count": null,
   "id": "2025d7ca",
   "metadata": {},
   "outputs": [],
   "source": [
    "ukw = df_dict['unknown']\n",
    "bh = df_dict['borehole']\n",
    "\n",
    "bh = bh.drop(index=ukw.index)\n",
    "ukw.drop_duplicates(['ID'], inplace=True)\n",
    "ukw.reset_index(drop=True, inplace=True)\n",
    "bh.drop_duplicates(['ID'], inplace=True)\n",
    "if 'X' in bh.columns: \n",
    "    bh = bh.query('ID==ID and X==X')\n",
    "else:\n",
    "    bh = bh.query('ID==ID')\n",
    "bh.reset_index(drop=True, inplace=True)\n",
    "\n",
    "mes = df_dict['measure']\n",
    "an = df_dict['analysis']\n",
    "litho = df_dict['lithology']\n",
    "eqp = df_dict['equipement']\n",
    "\n",
    "print(f'borehole: {len(bh)} ; measure: {len(mes)} ; lithology: {len(litho)} ; analysis: {len(an)} ; ' \n",
    "      f'equipement: {len(eqp)} ; unknown: {len(ukw)}')"
   ]
  },
  {
   "cell_type": "code",
   "execution_count": null,
   "id": "5d83872b",
   "metadata": {},
   "outputs": [],
   "source": [
    "source_bh, conflict_df = data_merger(source_bh, bh, how='outer', on=['ID'], dist_max=1., drop_skip_col=['index'])"
   ]
  },
  {
   "cell_type": "code",
   "execution_count": null,
   "id": "4d1c430d",
   "metadata": {},
   "outputs": [],
   "source": [
    "source_an, conflict_df = data_merger(source_an, an, how='outer', on=['ID_ech', 'Date_ech'], dist_max=1., drop_skip_col=['index'])"
   ]
  },
  {
   "cell_type": "code",
   "execution_count": null,
   "id": "370f6c5f",
   "metadata": {},
   "outputs": [],
   "source": [
    "source_mes, conflict_df = data_merger(source_mes, mes, how='outer', on=['ID_ech', 'Date_mes'], dist_max=1., drop_skip_col=['index'])"
   ]
  },
  {
   "cell_type": "code",
   "execution_count": null,
   "id": "7e5e961a",
   "metadata": {},
   "outputs": [],
   "source": [
    "if not os.path.exists(tmp_dir):\n",
    "    os.makedirs(tmp_dir), os.makedirs(tmp_dir+'source_merge/')\n",
    "    \n",
    "#eqp.to_csv(tmp_dir+sheet+'_Equipments.csv', index=False)\n",
    "mes.to_csv(tmp_dir+sheet+'_Measures.csv', index=False)\n",
    "bh.to_csv(tmp_dir+sheet+'_Boreholes.csv', index=False)\n",
    "an.to_csv(tmp_dir+sheet+'_Samples.csv', index=False)\n",
    "#ukw.to_csv(tmp_dir+sheet+'_Unknown.csv', index=False)\n",
    "#litho.to_csv(tmp_dir+sheet+'_Lithologies.csv', index=False)\n",
    "\n",
    "source_bh.to_csv(tmp_dir+'source_merge/source_Boreholes.csv', index=False) #all Boreholes data in the source\n",
    "source_mes.to_csv(tmp_dir+'source_merge/source_Measures.csv', index=False) #all Measures data in the source\n",
    "#source_eqp.to_csv(tmp_dir+'source_merge/source_Equipments.csv', index=False)\n",
    "source_an.to_csv(tmp_dir+'source_merge/source_Samples.csv', index=False)\n",
    "#source_ukw.to_csv(tmp_dir+'source_merge/source_Unknown.csv', index=False)\n",
    "#source_litho.to_csv(tmp_dir+'source_merge/source_Lithologies.csv', index=False)\n",
    "\n",
    "print(f'source_bh: {len(source_bh)} ; source_eqp: {len(source_eqp)} ; source_uknw: {len(source_ukw)} ; '\n",
    "      f'source_litho: {len(source_litho)} ; source_an: {len(source_an)} ; source_mes: {len(source_mes)}')"
   ]
  }
 ],
 "metadata": {
  "kernelspec": {
   "display_name": "Python 3 (ipykernel)",
   "language": "python",
   "name": "python3"
  },
  "language_info": {
   "codemirror_mode": {
    "name": "ipython",
    "version": 3
   },
   "file_extension": ".py",
   "mimetype": "text/x-python",
   "name": "python",
   "nbconvert_exporter": "python",
   "pygments_lexer": "ipython3",
   "version": "3.8.10"
  }
 },
 "nbformat": 4,
 "nbformat_minor": 5
}
