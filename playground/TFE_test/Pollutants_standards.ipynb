{
 "cells": [
  {
   "cell_type": "code",
   "execution_count": null,
   "id": "16647ecb",
   "metadata": {},
   "outputs": [],
   "source": [
    "from utils.io import gdf_viewer, gdf_merger, na_col_drop, na_line_drop, dble_col_drop, col_ren\n",
    "import re, os\n",
    "import numpy as np\n",
    "import pandas as pd"
   ]
  },
  {
   "cell_type": "markdown",
   "id": "4c63948f",
   "metadata": {},
   "source": [
    "# Pollutants concentrations standard"
   ]
  },
  {
   "cell_type": "code",
   "execution_count": null,
   "id": "25ec82bd",
   "metadata": {},
   "outputs": [],
   "source": [
    "tmp_dir='../../CF_data/Result_traitem/Memoris_seafile/'\n",
    "sheet='donnees'"
   ]
  },
  {
   "cell_type": "markdown",
   "id": "b1b3b2bf",
   "metadata": {},
   "source": [
    "## Standard values for soil and water "
   ]
  },
  {
   "cell_type": "code",
   "execution_count": null,
   "id": "0ded09c7",
   "metadata": {
    "scrolled": false
   },
   "outputs": [],
   "source": [
    "df = pd.read_excel('../../CF_data/Data_UMONS/Contamination/Résultats et mesures Siterem/Ensemble des résultats Memoris version Seafile.xls', \n",
    "                   sheet_name='Données')#, skiprows=2)\n",
    "df.replace(r'<|>','', inplace=True, regex=True)\n",
    "df.replace(r'-$',np.nan, inplace=True, regex=True)\n",
    "df.drop(columns=df.columns[-3:], inplace=True)\n",
    "\n",
    "gdf_viewer(df, rows=5, cols=12)"
   ]
  },
  {
   "cell_type": "code",
   "execution_count": null,
   "id": "f578f332",
   "metadata": {},
   "outputs": [],
   "source": [
    "df.replace(\"[v|V]aleur(?:s)? de référence\",\"VR\", regex=True, inplace=True)\n",
    "df.replace(\"[v|V]aleur(?:s)? seuil\",\"VS\", regex=True, inplace=True)\n",
    "df.replace(\"[v|V]aleur(?:s)? d'intervention\",\"VI\", regex=True, inplace=True)"
   ]
  },
  {
   "cell_type": "code",
   "execution_count": null,
   "id": "a5a7f5f8",
   "metadata": {},
   "outputs": [],
   "source": [
    "df.insert(1, \"Groupe\", np.nan)\n",
    "f = None\n",
    "for i in df.index:\n",
    "    if not pd.isnull(df.iloc[i, 0]) and pd.isnull(df.iloc[i,2]):\n",
    "        f = df.iloc[i,0]\n",
    "    if f is not None: \n",
    "        df.loc[i, 'Groupe'] = f"
   ]
  },
  {
   "cell_type": "code",
   "execution_count": null,
   "id": "e46b0f53",
   "metadata": {},
   "outputs": [],
   "source": [
    "catg= None\n",
    "v = None\n",
    "df.loc[63, :] = np.nan # create a new line at the end\n",
    "for c in range(len(df.columns)):\n",
    "    if not pd.isnull(df.iloc[0,c]):\n",
    "        v = df.iloc[0,c]\n",
    "    if not pd.isnull(df.iloc[1,c]):\n",
    "        catg= df.iloc[1,c].split(\" \")[0]\n",
    "        df.iloc[0,c] = v + '_' + catg"
   ]
  },
  {
   "cell_type": "code",
   "execution_count": null,
   "id": "7ddc52e7",
   "metadata": {},
   "outputs": [],
   "source": [
    "df.iloc[0,0] = \"Polluant\"\n",
    "df.iloc[0,1] = \"Groupe\"\n",
    "df = col_ren(df, line_to_col=0, mode=0)"
   ]
  },
  {
   "cell_type": "code",
   "execution_count": null,
   "id": "f58f7d3b",
   "metadata": {},
   "outputs": [],
   "source": [
    "df.drop(index=[0] + list(df.query('Polluant == Groupe').index), inplace=True)\n",
    "df = df.query('Polluant == Polluant')\n",
    "df.reset_index(drop=True, inplace=True)"
   ]
  },
  {
   "cell_type": "raw",
   "id": "93182851",
   "metadata": {},
   "source": [
    "pol_group = list(pd.unique(df['Famille']))[1:]"
   ]
  },
  {
   "cell_type": "code",
   "execution_count": null,
   "id": "8a67a6ac",
   "metadata": {},
   "outputs": [],
   "source": [
    "soil_std = df.iloc[:,range(0,14)]\n",
    "water_std = df.iloc[:,[0,1]+list(range(14,18))]"
   ]
  },
  {
   "cell_type": "code",
   "execution_count": null,
   "id": "f87a65e2",
   "metadata": {
    "scrolled": false
   },
   "outputs": [],
   "source": [
    "gdf_viewer(soil_std, rows=5), gdf_viewer(water_std, rows=5)"
   ]
  },
  {
   "cell_type": "code",
   "execution_count": null,
   "id": "b590a3ad",
   "metadata": {},
   "outputs": [],
   "source": [
    "if not os.path.exists(tmp_dir):\n",
    "    os.makedirs(tmp_dir)\n",
    "    \n",
    "soil_std.to_csv(tmp_dir+sheet+'_Pol_Standards_S.csv', index=False)\n",
    "water_std.to_csv(tmp_dir+sheet+'_Pol_Standards_W.csv', index=False)"
   ]
  },
  {
   "cell_type": "markdown",
   "id": "87ffbc37",
   "metadata": {},
   "source": [
    "## Standard values for air"
   ]
  },
  {
   "cell_type": "code",
   "execution_count": null,
   "id": "925f70a4",
   "metadata": {
    "scrolled": false
   },
   "outputs": [],
   "source": [
    "df = pd.read_excel('../../CF_data/Data_UMONS/Contamination/Résultats et mesures Siterem/Ensemble des résultats Memoris version Seafile.xls', \n",
    "                   sheet_name='Résult air')#, skiprows=2)\n",
    "df.replace(r'<|>','', inplace=True, regex=True)\n",
    "df.replace(r'-$',np.nan, inplace=True, regex=True)\n",
    "\n",
    "gdf_viewer(df, rows=5, cols=12)"
   ]
  },
  {
   "cell_type": "code",
   "execution_count": null,
   "id": "ab9ae6b9",
   "metadata": {},
   "outputs": [],
   "source": [
    "df = df.iloc[:, list(range(3,9))][:132]\n",
    "df.drop(index=[0,1,2]+list(range(4,34)), inplace=True)\n",
    "df.reset_index(drop=True, inplace=True)"
   ]
  },
  {
   "cell_type": "code",
   "execution_count": null,
   "id": "dfc062b1",
   "metadata": {
    "scrolled": true
   },
   "outputs": [],
   "source": [
    "df.insert(1, \"Groupe\", np.nan)\n",
    "f = None\n",
    "for i in df.index:\n",
    "    if not pd.isnull(df.iloc[i, 0]) and pd.isnull(df.iloc[i,2]):\n",
    "        f = df.iloc[i,0]\n",
    "    if f is not None: \n",
    "        df.loc[i, 'Groupe'] = f"
   ]
  },
  {
   "cell_type": "code",
   "execution_count": null,
   "id": "954b962f",
   "metadata": {
    "scrolled": false
   },
   "outputs": [],
   "source": [
    "gdf_viewer(df, rows=5)"
   ]
  },
  {
   "cell_type": "raw",
   "id": "1a6a86af",
   "metadata": {},
   "source": [
    "continue from here"
   ]
  },
  {
   "cell_type": "raw",
   "id": "c32536fb",
   "metadata": {},
   "source": [
    "df.iloc[0,0] = \"Polluant\"\n",
    "df.iloc[0,1] = \"Groupe\"\n",
    "df = col_ren(df, line_to_col=0, mode=0)"
   ]
  },
  {
   "cell_type": "raw",
   "id": "5dc36567",
   "metadata": {},
   "source": [
    "df.drop(index=[0] + list(df.query('Polluant == Groupe').index), inplace=True)\n",
    "df = df.query('Polluant == Polluant')\n",
    "df.reset_index(drop=True, inplace=True)"
   ]
  },
  {
   "cell_type": "raw",
   "id": "64998bd8",
   "metadata": {},
   "source": [
    "if not os.path.exists(tmp_dir):\n",
    "    os.makedirs(tmp_dir)\n",
    "    \n",
    "air_std.to_csv(tmp_dir+sheet+'_Pol_Standards_A.csv', index=False)"
   ]
  },
  {
   "cell_type": "raw",
   "id": "a99e041a",
   "metadata": {},
   "source": []
  }
 ],
 "metadata": {
  "kernelspec": {
   "display_name": "Python 3",
   "language": "python",
   "name": "python3"
  },
  "language_info": {
   "codemirror_mode": {
    "name": "ipython",
    "version": 3
   },
   "file_extension": ".py",
   "mimetype": "text/x-python",
   "name": "python",
   "nbconvert_exporter": "python",
   "pygments_lexer": "ipython3",
   "version": "3.8.5"
  }
 },
 "nbformat": 4,
 "nbformat_minor": 5
}
