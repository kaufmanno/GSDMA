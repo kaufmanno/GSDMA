{
 "cells": [
  {
   "cell_type": "code",
   "execution_count": 4,
   "id": "16647ecb",
   "metadata": {},
   "outputs": [],
   "source": [
    "from utils.io import dataframe_viewer, data_merger, na_col_drop, na_line_drop, dble_col_drop, col_ren\n",
    "import re, os\n",
    "import numpy as np\n",
    "import pandas as pd"
   ]
  },
  {
   "cell_type": "markdown",
   "id": "4c63948f",
   "metadata": {},
   "source": [
    "# Pollutants concentrations standard"
   ]
  },
  {
   "cell_type": "code",
   "execution_count": 5,
   "id": "25ec82bd",
   "metadata": {},
   "outputs": [],
   "source": [
    "tmp_dir='../../CF_data/Result_traitem/Memoris_seafile/'\n",
    "sheet='donnees'"
   ]
  },
  {
   "cell_type": "markdown",
   "id": "b1b3b2bf",
   "metadata": {},
   "source": [
    "## Standard values for soil and water (Industrial site)"
   ]
  },
  {
   "cell_type": "code",
   "execution_count": 68,
   "id": "abf29b54",
   "metadata": {
    "scrolled": false
   },
   "outputs": [
    {
     "name": "stdout",
     "output_type": "stream",
     "text": [
      "Rows : 91, columns : 13\n"
     ]
    },
    {
     "data": {
      "application/vnd.jupyter.widget-view+json": {
       "model_id": "8a89952396bb4a2983a5d240c1e5fb90",
       "version_major": 2,
       "version_minor": 0
      },
      "text/plain": [
       "interactive(children=(IntSlider(value=5, description='rows', max=91, min=5, readout=False), IntSlider(value=12…"
      ]
     },
     "metadata": {},
     "output_type": "display_data"
    }
   ],
   "source": [
    "df = pd.read_excel('../../CF_data/Data_UMONS/Contamination/Doc_SITEREM/Rapport de synthèse des études de sol et des eaux souterraines. Siterem - 2017/Database MEMORIS3.xlsx', \n",
    "                   sheet_name='Normes')#, skiprows=2)\n",
    "df.replace(r'<|>','', inplace=True, regex=True)\n",
    "df.replace(r'-$',np.nan, inplace=True, regex=True)\n",
    "#df.drop(columns=df.columns[-3:], inplace=True)\n",
    "\n",
    "dataframe_viewer(df, rows=5, cols=12)"
   ]
  },
  {
   "cell_type": "code",
   "execution_count": 69,
   "id": "7f1e8135",
   "metadata": {},
   "outputs": [],
   "source": [
    "df_s = df.iloc[:, 8:]\n",
    "df_w = df.iloc[:, 1:6]"
   ]
  },
  {
   "cell_type": "code",
   "execution_count": 70,
   "id": "2ec9c8a7",
   "metadata": {},
   "outputs": [
    {
     "data": {
      "text/html": [
       "<div>\n",
       "<style scoped>\n",
       "    .dataframe tbody tr th:only-of-type {\n",
       "        vertical-align: middle;\n",
       "    }\n",
       "\n",
       "    .dataframe tbody tr th {\n",
       "        vertical-align: top;\n",
       "    }\n",
       "\n",
       "    .dataframe thead th {\n",
       "        text-align: right;\n",
       "    }\n",
       "</style>\n",
       "<table border=\"1\" class=\"dataframe\">\n",
       "  <thead>\n",
       "    <tr style=\"text-align: right;\">\n",
       "      <th></th>\n",
       "      <th>NORMES EAUX SOUTERRAINES</th>\n",
       "      <th>col_1</th>\n",
       "      <th>VR</th>\n",
       "      <th>VS</th>\n",
       "      <th>VI</th>\n",
       "    </tr>\n",
       "  </thead>\n",
       "  <tbody>\n",
       "    <tr>\n",
       "      <th>0</th>\n",
       "      <td>NaN</td>\n",
       "      <td>NaN</td>\n",
       "      <td>NaN</td>\n",
       "      <td>NaN</td>\n",
       "      <td>NaN</td>\n",
       "    </tr>\n",
       "    <tr>\n",
       "      <th>1</th>\n",
       "      <td>DECRET SOL</td>\n",
       "      <td>NaN</td>\n",
       "      <td>NaN</td>\n",
       "      <td>NaN</td>\n",
       "      <td>NaN</td>\n",
       "    </tr>\n",
       "    <tr>\n",
       "      <th>2</th>\n",
       "      <td>METAUX LOURDS</td>\n",
       "      <td>NaN</td>\n",
       "      <td>NaN</td>\n",
       "      <td>NaN</td>\n",
       "      <td>NaN</td>\n",
       "    </tr>\n",
       "    <tr>\n",
       "      <th>3</th>\n",
       "      <td>Arsenic</td>\n",
       "      <td>µg/l</td>\n",
       "      <td>1</td>\n",
       "      <td>10</td>\n",
       "      <td>40</td>\n",
       "    </tr>\n",
       "    <tr>\n",
       "      <th>4</th>\n",
       "      <td>Cadmium</td>\n",
       "      <td>µg/l</td>\n",
       "      <td>0.25</td>\n",
       "      <td>5</td>\n",
       "      <td>20</td>\n",
       "    </tr>\n",
       "    <tr>\n",
       "      <th>...</th>\n",
       "      <td>...</td>\n",
       "      <td>...</td>\n",
       "      <td>...</td>\n",
       "      <td>...</td>\n",
       "      <td>...</td>\n",
       "    </tr>\n",
       "    <tr>\n",
       "      <th>85</th>\n",
       "      <td>NaN</td>\n",
       "      <td>NaN</td>\n",
       "      <td>NaN</td>\n",
       "      <td>NaN</td>\n",
       "      <td>NaN</td>\n",
       "    </tr>\n",
       "    <tr>\n",
       "      <th>86</th>\n",
       "      <td>NaN</td>\n",
       "      <td>NaN</td>\n",
       "      <td>NaN</td>\n",
       "      <td>NaN</td>\n",
       "      <td>NaN</td>\n",
       "    </tr>\n",
       "    <tr>\n",
       "      <th>87</th>\n",
       "      <td>NaN</td>\n",
       "      <td>NaN</td>\n",
       "      <td>NaN</td>\n",
       "      <td>NaN</td>\n",
       "      <td>NaN</td>\n",
       "    </tr>\n",
       "    <tr>\n",
       "      <th>88</th>\n",
       "      <td>NaN</td>\n",
       "      <td>NaN</td>\n",
       "      <td>NaN</td>\n",
       "      <td>NaN</td>\n",
       "      <td>NaN</td>\n",
       "    </tr>\n",
       "    <tr>\n",
       "      <th>89</th>\n",
       "      <td>NaN</td>\n",
       "      <td>NaN</td>\n",
       "      <td>NaN</td>\n",
       "      <td>NaN</td>\n",
       "      <td>NaN</td>\n",
       "    </tr>\n",
       "  </tbody>\n",
       "</table>\n",
       "<p>90 rows × 5 columns</p>\n",
       "</div>"
      ],
      "text/plain": [
       "   NORMES EAUX SOUTERRAINES col_1    VR   VS   VI\n",
       "0                       NaN   NaN   NaN  NaN  NaN\n",
       "1               DECRET SOL    NaN   NaN  NaN  NaN\n",
       "2             METAUX LOURDS   NaN   NaN  NaN  NaN\n",
       "3                   Arsenic  µg/l     1   10   40\n",
       "4                   Cadmium  µg/l  0.25    5   20\n",
       "..                      ...   ...   ...  ...  ...\n",
       "85                      NaN   NaN   NaN  NaN  NaN\n",
       "86                      NaN   NaN   NaN  NaN  NaN\n",
       "87                      NaN   NaN   NaN  NaN  NaN\n",
       "88                      NaN   NaN   NaN  NaN  NaN\n",
       "89                      NaN   NaN   NaN  NaN  NaN\n",
       "\n",
       "[90 rows x 5 columns]"
      ]
     },
     "execution_count": 70,
     "metadata": {},
     "output_type": "execute_result"
    }
   ],
   "source": [
    "col_ren(df_s, 2)\n",
    "col_ren(df_w, 2)"
   ]
  },
  {
   "cell_type": "code",
   "execution_count": 71,
   "id": "37b8c701",
   "metadata": {},
   "outputs": [],
   "source": [
    "for d in [df_s, df_w]:\n",
    "    d.rename(columns={'col_1':'Unite', 'NORMES SOLS (AFFECTATION INDUSTRIELLE)':'Polluant',\n",
    "                 'NORMES EAUX SOUTERRAINES':'Polluant'}, inplace=True)\n",
    "    d.drop(index=[0,1,2], inplace=True)    "
   ]
  },
  {
   "cell_type": "code",
   "execution_count": 73,
   "id": "2c78cb61",
   "metadata": {},
   "outputs": [],
   "source": [
    "df_s = df_s.query('Polluant==Polluant and Unite==Unite and VI==VI')\n",
    "df_w = df_w.query('Polluant==Polluant and Unite==Unite and VI==VI')\n",
    "df_s.reset_index(drop=True, inplace=True)\n",
    "df_w.reset_index(drop=True, inplace=True)"
   ]
  },
  {
   "cell_type": "raw",
   "id": "6d07ba51",
   "metadata": {},
   "source": [
    "for d in [df_s, df_w]:\n",
    "    std_dict = {}\n",
    "    for i in d.index:\n",
    "        pol = d.iloc[i,0]\n",
    "        vr = d.iloc[i,2]\n",
    "        vs = d.iloc[i,3]\n",
    "        vi = d.iloc[i,4]\n",
    "        std_dict.update({pol:{'VR':vr, 'VS':vs, 'VI':vi}})\n",
    "        \n",
    "    print('\\n', std_dict)"
   ]
  },
  {
   "cell_type": "code",
   "execution_count": 60,
   "id": "b8a3fcb6",
   "metadata": {},
   "outputs": [
    {
     "name": "stdout",
     "output_type": "stream",
     "text": [
      "Rows : 86, columns : 5\n"
     ]
    },
    {
     "data": {
      "application/vnd.jupyter.widget-view+json": {
       "model_id": "b71017d224264b02951f3ffcaefb9c9b",
       "version_major": 2,
       "version_minor": 0
      },
      "text/plain": [
       "interactive(children=(IntSlider(value=5, description='rows', max=86, min=5, readout=False), IntSlider(value=5,…"
      ]
     },
     "metadata": {},
     "output_type": "display_data"
    },
    {
     "name": "stdout",
     "output_type": "stream",
     "text": [
      "Rows : 71, columns : 5\n"
     ]
    },
    {
     "data": {
      "application/vnd.jupyter.widget-view+json": {
       "model_id": "68f01a80d3ee4d63849cfe06b6d2957a",
       "version_major": 2,
       "version_minor": 0
      },
      "text/plain": [
       "interactive(children=(IntSlider(value=5, description='rows', max=71, min=5, readout=False), IntSlider(value=5,…"
      ]
     },
     "metadata": {},
     "output_type": "display_data"
    },
    {
     "data": {
      "text/plain": [
       "(None, None)"
      ]
     },
     "execution_count": 60,
     "metadata": {},
     "output_type": "execute_result"
    }
   ],
   "source": [
    "dataframe_viewer(df_s, rows=5, cols=12), dataframe_viewer(df_w, rows=5, cols=12)"
   ]
  },
  {
   "cell_type": "code",
   "execution_count": 55,
   "id": "f8a03470",
   "metadata": {},
   "outputs": [],
   "source": [
    "if not os.path.exists(tmp_dir):\n",
    "    os.makedirs(tmp_dir)\n",
    "    \n",
    "df_s.to_csv(tmp_dir+sheet+'_Pol_Std_S_indust.csv', index=False)\n",
    "df_w.to_csv(tmp_dir+sheet+'_Pol_Std_W_indust.csv', index=False)"
   ]
  },
  {
   "cell_type": "code",
   "execution_count": null,
   "id": "37c1bc81",
   "metadata": {},
   "outputs": [],
   "source": []
  },
  {
   "cell_type": "markdown",
   "id": "a2242a3e",
   "metadata": {},
   "source": [
    "## Standard values for soil and water (full)"
   ]
  },
  {
   "cell_type": "code",
   "execution_count": null,
   "id": "0ded09c7",
   "metadata": {
    "scrolled": false
   },
   "outputs": [],
   "source": [
    "df = pd.read_excel('../../CF_data/Data_UMONS/Contamination/Résultats et mesures Siterem/Ensemble des résultats Memoris version Seafile.xls', \n",
    "                   sheet_name='Données')#, skiprows=2)\n",
    "df.replace(r'<|>','', inplace=True, regex=True)\n",
    "df.replace(r'-$',np.nan, inplace=True, regex=True)\n",
    "df.drop(columns=df.columns[-3:], inplace=True)\n",
    "\n",
    "dataframe_viewer(df, rows=5, cols=12)"
   ]
  },
  {
   "cell_type": "code",
   "execution_count": null,
   "id": "f578f332",
   "metadata": {},
   "outputs": [],
   "source": [
    "df.replace(\"[v|V]aleur(?:s)? de référence\",\"VR\", regex=True, inplace=True)\n",
    "df.replace(\"[v|V]aleur(?:s)? seuil\",\"VS\", regex=True, inplace=True)\n",
    "df.replace(\"[v|V]aleur(?:s)? d'intervention\",\"VI\", regex=True, inplace=True)"
   ]
  },
  {
   "cell_type": "code",
   "execution_count": null,
   "id": "a5a7f5f8",
   "metadata": {},
   "outputs": [],
   "source": [
    "df.insert(1, \"Groupe\", np.nan)\n",
    "f = None\n",
    "for i in df.index:\n",
    "    if not pd.isnull(df.iloc[i, 0]) and pd.isnull(df.iloc[i,2]):\n",
    "        f = df.iloc[i,0]\n",
    "    if f is not None: \n",
    "        df.loc[i, 'Groupe'] = f"
   ]
  },
  {
   "cell_type": "code",
   "execution_count": null,
   "id": "e46b0f53",
   "metadata": {},
   "outputs": [],
   "source": [
    "catg= None\n",
    "v = None\n",
    "df.loc[63, :] = np.nan # create a new line at the end\n",
    "for c in range(len(df.columns)):\n",
    "    if not pd.isnull(df.iloc[0,c]):\n",
    "        v = df.iloc[0,c]\n",
    "    if not pd.isnull(df.iloc[1,c]):\n",
    "        catg= df.iloc[1,c].split(\" \")[0]\n",
    "        df.iloc[0,c] = v + '_' + catg"
   ]
  },
  {
   "cell_type": "code",
   "execution_count": null,
   "id": "7ddc52e7",
   "metadata": {},
   "outputs": [],
   "source": [
    "df.iloc[0,0] = \"Polluant\"\n",
    "df.iloc[0,1] = \"Groupe\"\n",
    "df = col_ren(df, line_to_col=0, mode=0)"
   ]
  },
  {
   "cell_type": "code",
   "execution_count": null,
   "id": "f58f7d3b",
   "metadata": {},
   "outputs": [],
   "source": [
    "df.drop(index=[0] + list(df.query('Polluant == Groupe').index), inplace=True)\n",
    "df = df.query('Polluant == Polluant')\n",
    "df.reset_index(drop=True, inplace=True)"
   ]
  },
  {
   "cell_type": "raw",
   "id": "93182851",
   "metadata": {},
   "source": [
    "pol_group = list(pd.unique(df['Famille']))[1:]"
   ]
  },
  {
   "cell_type": "code",
   "execution_count": null,
   "id": "8a67a6ac",
   "metadata": {},
   "outputs": [],
   "source": [
    "soil_std = df.iloc[:,range(0,14)]\n",
    "water_std = df.iloc[:,[0,1]+list(range(14,18))]"
   ]
  },
  {
   "cell_type": "code",
   "execution_count": null,
   "id": "f87a65e2",
   "metadata": {
    "scrolled": false
   },
   "outputs": [],
   "source": [
    "dataframe_viewer(soil_std, rows=5), dataframe_viewer(water_std, rows=5)"
   ]
  },
  {
   "cell_type": "code",
   "execution_count": null,
   "id": "b590a3ad",
   "metadata": {},
   "outputs": [],
   "source": [
    "if not os.path.exists(tmp_dir):\n",
    "    os.makedirs(tmp_dir)\n",
    "    \n",
    "soil_std.to_csv(tmp_dir+sheet+'_Pol_Standards_S.csv', index=False)\n",
    "water_std.to_csv(tmp_dir+sheet+'_Pol_Standards_W.csv', index=False)"
   ]
  },
  {
   "cell_type": "markdown",
   "id": "87ffbc37",
   "metadata": {},
   "source": [
    "## Standard values for air"
   ]
  },
  {
   "cell_type": "code",
   "execution_count": null,
   "id": "925f70a4",
   "metadata": {
    "scrolled": false
   },
   "outputs": [],
   "source": [
    "df = pd.read_excel('../../CF_data/Data_UMONS/Contamination/Résultats et mesures Siterem/Ensemble des résultats Memoris version Seafile.xls', \n",
    "                   sheet_name='Résult air')#, skiprows=2)\n",
    "df.replace(r'<|>','', inplace=True, regex=True)\n",
    "df.replace(r'-$',np.nan, inplace=True, regex=True)\n",
    "\n",
    "dataframe_viewer(df, rows=5, cols=12)"
   ]
  },
  {
   "cell_type": "code",
   "execution_count": null,
   "id": "ab9ae6b9",
   "metadata": {},
   "outputs": [],
   "source": [
    "df = df.iloc[:, list(range(3,9))][:132]\n",
    "df.drop(index=[0,1,2]+list(range(4,34)), inplace=True)\n",
    "df.reset_index(drop=True, inplace=True)"
   ]
  },
  {
   "cell_type": "code",
   "execution_count": null,
   "id": "dfc062b1",
   "metadata": {
    "scrolled": true
   },
   "outputs": [],
   "source": [
    "df.insert(1, \"Groupe\", np.nan)\n",
    "f = None\n",
    "for i in df.index:\n",
    "    if not pd.isnull(df.iloc[i, 0]) and pd.isnull(df.iloc[i,2]):\n",
    "        f = df.iloc[i,0]\n",
    "    if f is not None: \n",
    "        df.loc[i, 'Groupe'] = f"
   ]
  },
  {
   "cell_type": "code",
   "execution_count": null,
   "id": "954b962f",
   "metadata": {
    "scrolled": false
   },
   "outputs": [],
   "source": [
    "dataframe_viewer(df, rows=5)"
   ]
  },
  {
   "cell_type": "raw",
   "id": "1a6a86af",
   "metadata": {},
   "source": [
    "continue from here"
   ]
  },
  {
   "cell_type": "raw",
   "id": "c32536fb",
   "metadata": {},
   "source": [
    "df.iloc[0,0] = \"Polluant\"\n",
    "df.iloc[0,1] = \"Groupe\"\n",
    "df = col_ren(df, line_to_col=0, mode=0)"
   ]
  },
  {
   "cell_type": "raw",
   "id": "5dc36567",
   "metadata": {},
   "source": [
    "df.drop(index=[0] + list(df.query('Polluant == Groupe').index), inplace=True)\n",
    "df = df.query('Polluant == Polluant')\n",
    "df.reset_index(drop=True, inplace=True)"
   ]
  },
  {
   "cell_type": "raw",
   "id": "64998bd8",
   "metadata": {},
   "source": [
    "if not os.path.exists(tmp_dir):\n",
    "    os.makedirs(tmp_dir)\n",
    "    \n",
    "air_std.to_csv(tmp_dir+sheet+'_Pol_Standards_A.csv', index=False)"
   ]
  },
  {
   "cell_type": "raw",
   "id": "a99e041a",
   "metadata": {},
   "source": []
  }
 ],
 "metadata": {
  "kernelspec": {
   "display_name": "Python 3 (ipykernel)",
   "language": "python",
   "name": "python3"
  },
  "language_info": {
   "codemirror_mode": {
    "name": "ipython",
    "version": 3
   },
   "file_extension": ".py",
   "mimetype": "text/x-python",
   "name": "python",
   "nbconvert_exporter": "python",
   "pygments_lexer": "ipython3",
   "version": "3.8.10"
  }
 },
 "nbformat": 4,
 "nbformat_minor": 5
}
