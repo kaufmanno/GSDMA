{
 "cells": [
  {
   "cell_type": "markdown",
   "id": "indonesian-alloy",
   "metadata": {},
   "source": [
    "# DATA ORGANIZATION"
   ]
  },
  {
   "cell_type": "code",
   "execution_count": 1,
   "id": "national-opera",
   "metadata": {},
   "outputs": [],
   "source": [
    "%matplotlib widget"
   ]
  },
  {
   "cell_type": "raw",
   "id": "demanding-former",
   "metadata": {},
   "source": [
    "config Completer.use_jedi = False"
   ]
  },
  {
   "cell_type": "code",
   "execution_count": 2,
   "id": "naughty-clerk",
   "metadata": {},
   "outputs": [],
   "source": [
    "from utils.io import gen_id_dated, gdf_viewer, gdf_geom, gdf_merger\n",
    "import re, os\n",
    "import numpy as np\n",
    "import geopandas as gpd\n",
    "import pandas as pd\n",
    "from shapely.geometry import Point\n",
    "import datetime\n",
    "import matplotlib.pyplot as plt"
   ]
  },
  {
   "cell_type": "markdown",
   "id": "baking-nitrogen",
   "metadata": {},
   "source": [
    "Data format (excel files)"
   ]
  },
  {
   "cell_type": "code",
   "execution_count": 3,
   "id": "central-sitting",
   "metadata": {
    "scrolled": true
   },
   "outputs": [],
   "source": [
    "def na_line_drop(data, col_n=3):\n",
    "    data['line_na']=False\n",
    "    for i in range(len(data)):\n",
    "        verif=True\n",
    "        for j in data.columns.to_list()[col_n:-1]:\n",
    "            if not pd.isnull(data.loc[i,j]): verif=False\n",
    "\n",
    "        data.loc[i,'line_na']=verif\n",
    "\n",
    "    print(f\"lines dropped: {list(data.query('line_na==True').index)}\")\n",
    "    data=data.query('line_na==False')\n",
    "    data.reset_index(drop=True, inplace=True)\n",
    "    data.drop('line_na', axis=1, inplace=True)\n",
    "    \n",
    "    return data"
   ]
  },
  {
   "cell_type": "code",
   "execution_count": 4,
   "id": "italic-cartridge",
   "metadata": {},
   "outputs": [],
   "source": [
    "# drop columns if not enough data\n",
    "def na_col_drop(data, crit=10, drop=True, verbose=False):\n",
    "    \"\"\"\n",
    "    delete NaN columns in the dataframe based on a minimum number of non-NaN values \n",
    "    \"\"\"\n",
    "\n",
    "    drop_cols=[]\n",
    "    if verbose: print('Non-NaN values\\n----------------')\n",
    "    for c in data.columns:\n",
    "        v=len(data.iloc[:,0])-data[c].isnull().sum()\n",
    "        if verbose: print(f'{c}: {v} ; {data[c].isnull().sum()}')\n",
    "        if v<crit:\n",
    "            drop_cols.append(c)\n",
    "\n",
    "    if drop:\n",
    "        print(f'\\nwill be dropped :{drop_cols}')\n",
    "        data.drop(drop_cols, axis=1, inplace=True)\n",
    "\n",
    "    return data"
   ]
  },
  {
   "cell_type": "code",
   "execution_count": 5,
   "id": "handed-murder",
   "metadata": {},
   "outputs": [],
   "source": [
    "def col_ren(data, line_to_col=1, mode=0, name=[]):\n",
    "    \"\"\"\n",
    "    mode: int\n",
    "        set 0 to rename columns with a line, set 1 if provide name list or dict\n",
    "    \"\"\"\n",
    "    new_name={}\n",
    "    \n",
    "    if mode!=0 and mode!=1:\n",
    "        print(\"Error! Parameter \\'Mode\\' must be 0 or 1 (if 1, colums length must be equal to name length)\")\n",
    "        \n",
    "    elif mode==0:\n",
    "        for i in data.columns:\n",
    "            col = str(data.iloc[line_to_col, i])\n",
    "            if re.search('nan',col, flags=re.IGNORECASE):\n",
    "                new_name.update({i:f'col_{i}'})\n",
    "            else:\n",
    "                new_name.update({i:col})\n",
    "        \n",
    "        data.drop([line_to_col], axis=0, inplace=True)\n",
    "        data.reset_index(drop=True, inplace=True)\n",
    "\n",
    "    elif mode==1 and len(name)==len(data.columns):\n",
    "        for i in range(len(data.columns)):\n",
    "            new_name.update({data.columns[i]:name[i]})\n",
    "    \n",
    "    elif mode==1 and len(name)!=len(data.columns):\n",
    "        print('Error! names list length and columns length are not the same')\n",
    "    \n",
    "    data.rename(columns=new_name, inplace=True)\n",
    "    \n",
    "    return data "
   ]
  },
  {
   "cell_type": "code",
   "execution_count": 6,
   "id": "passive-departure",
   "metadata": {},
   "outputs": [],
   "source": [
    "def dble_col_drop(data):\n",
    "    twins=[]\n",
    "    idx_drop=[]\n",
    "    for c in range(len(data.columns)):\n",
    "        if data.columns[c] not in twins: twins.append(data.columns[c])\n",
    "        else: idx_drop.append(c)\n",
    "\n",
    "    data.drop(columns=data.columns[idx_drop], axis=1, inplace=True)\n",
    "    print('column(s) dropped: ', idx_drop)\n",
    "    \n",
    "    return data"
   ]
  },
  {
   "cell_type": "code",
   "execution_count": 7,
   "id": "understanding-cincinnati",
   "metadata": {},
   "outputs": [],
   "source": [
    "pol_fields=[]"
   ]
  },
  {
   "cell_type": "markdown",
   "id": "dying-canada",
   "metadata": {},
   "source": [
    "## Retrieve common fields names for pollutant analysis"
   ]
  },
  {
   "cell_type": "code",
   "execution_count": 9,
   "id": "white-pursuit",
   "metadata": {},
   "outputs": [],
   "source": [
    "tmp_dir='../../CF_data/synthese/Result_traitem/Phase_1_Memoris/'\n",
    "sheet='Result_sol'"
   ]
  },
  {
   "cell_type": "code",
   "execution_count": 10,
   "id": "concerned-leader",
   "metadata": {},
   "outputs": [
    {
     "name": "stdout",
     "output_type": "stream",
     "text": [
      "lines dropped: [30]\n",
      "\n",
      "will be dropped :['Unnamed: 0', 'Unnamed: 2']\n",
      "Rows : 135, columns : 35\n"
     ]
    },
    {
     "name": "stderr",
     "output_type": "stream",
     "text": [
      "/home/yanathan/.local/share/virtualenvs/GSDMA-DRfwm83x/lib/python3.8/site-packages/pandas/core/frame.py:4305: SettingWithCopyWarning: \n",
      "A value is trying to be set on a copy of a slice from a DataFrame\n",
      "\n",
      "See the caveats in the documentation: https://pandas.pydata.org/pandas-docs/stable/user_guide/indexing.html#returning-a-view-versus-a-copy\n",
      "  return super().drop(\n"
     ]
    },
    {
     "data": {
      "application/vnd.jupyter.widget-view+json": {
       "model_id": "92046f0de5404f0796f803c26ae7042b",
       "version_major": 2,
       "version_minor": 0
      },
      "text/plain": [
       "interactive(children=(IntSlider(value=5, description='rows', max=135, min=5, readout=False), IntSlider(value=1…"
      ]
     },
     "metadata": {},
     "output_type": "display_data"
    }
   ],
   "source": [
    "df = pd.read_excel('../../CF_data/Data_UMONS/Contamination/Résultats et mesures Siterem/résultats phase 1/'\n",
    "                   'Résultats phase 1_MEMORIS.xls', sheet_name='Résult SOL', skiprows=4)\n",
    "df=na_line_drop(df,0)\n",
    "df=na_col_drop(df,1)\n",
    "gdf_viewer(df, rows=5)"
   ]
  },
  {
   "cell_type": "code",
   "execution_count": 11,
   "id": "satisfied-constitutional",
   "metadata": {},
   "outputs": [],
   "source": [
    "prv_sol=df.loc[:35]\n",
    "an=df.loc[36:]"
   ]
  },
  {
   "cell_type": "code",
   "execution_count": 12,
   "id": "pleasant-prayer",
   "metadata": {},
   "outputs": [
    {
     "name": "stderr",
     "output_type": "stream",
     "text": [
      "/home/yanathan/.local/share/virtualenvs/GSDMA-DRfwm83x/lib/python3.8/site-packages/pandas/core/indexing.py:692: SettingWithCopyWarning: \n",
      "A value is trying to be set on a copy of a slice from a DataFrame\n",
      "\n",
      "See the caveats in the documentation: https://pandas.pydata.org/pandas-docs/stable/user_guide/indexing.html#returning-a-view-versus-a-copy\n",
      "  iloc._setitem_with_indexer(indexer, value, self.name)\n"
     ]
    }
   ],
   "source": [
    "an.loc[0.5] = df.loc[0] # put data on first line\n",
    "an = an.sort_index().reset_index(drop=True)"
   ]
  },
  {
   "cell_type": "code",
   "execution_count": 13,
   "id": "armed-steal",
   "metadata": {},
   "outputs": [],
   "source": [
    "an=an.transpose()\n",
    "an.reset_index(drop=True, inplace=True)"
   ]
  },
  {
   "cell_type": "code",
   "execution_count": 14,
   "id": "invalid-bubble",
   "metadata": {},
   "outputs": [],
   "source": [
    "an=col_ren(an, 1)"
   ]
  },
  {
   "cell_type": "code",
   "execution_count": 15,
   "id": "activated-wallpaper",
   "metadata": {},
   "outputs": [],
   "source": [
    "an.replace(r'<|>','', inplace=True, regex=True)\n",
    "an.replace(r'-',np.nan, inplace=True, regex=True)\n",
    "an.rename(columns={an.columns[0]:'ID_ech'}, inplace=True)"
   ]
  },
  {
   "cell_type": "code",
   "execution_count": 16,
   "id": "violent-width",
   "metadata": {},
   "outputs": [],
   "source": [
    "for c in an.columns:\n",
    "    if c not in pol_fields:\n",
    "        pol_fields.append(c)"
   ]
  },
  {
   "cell_type": "code",
   "execution_count": 18,
   "id": "identical-biodiversity",
   "metadata": {},
   "outputs": [],
   "source": [
    "tmp_dir='../../CF_data/synthese/Result_traitem/Phase_1_Memoris/'\n",
    "sheet='Result_eau'"
   ]
  },
  {
   "cell_type": "code",
   "execution_count": 19,
   "id": "damaged-delivery",
   "metadata": {},
   "outputs": [
    {
     "name": "stdout",
     "output_type": "stream",
     "text": [
      "lines dropped: [130]\n",
      "\n",
      "will be dropped :['Unnamed: 0', 'Unnamed: 2']\n",
      "Rows : 136, columns : 23\n"
     ]
    },
    {
     "name": "stderr",
     "output_type": "stream",
     "text": [
      "/home/yanathan/.local/share/virtualenvs/GSDMA-DRfwm83x/lib/python3.8/site-packages/pandas/core/frame.py:4305: SettingWithCopyWarning: \n",
      "A value is trying to be set on a copy of a slice from a DataFrame\n",
      "\n",
      "See the caveats in the documentation: https://pandas.pydata.org/pandas-docs/stable/user_guide/indexing.html#returning-a-view-versus-a-copy\n",
      "  return super().drop(\n"
     ]
    },
    {
     "data": {
      "application/vnd.jupyter.widget-view+json": {
       "model_id": "36bb0907b6a14f89998696da60cb0790",
       "version_major": 2,
       "version_minor": 0
      },
      "text/plain": [
       "interactive(children=(IntSlider(value=5, description='rows', max=136, min=5, readout=False), IntSlider(value=1…"
      ]
     },
     "metadata": {},
     "output_type": "display_data"
    }
   ],
   "source": [
    "df = pd.read_excel('../../CF_data/Data_UMONS/Contamination/Résultats et mesures Siterem/résultats phase 1/'\n",
    "                   'Résultats phase 1_MEMORIS.xls', sheet_name='Résult EAU', skiprows=4)\n",
    "df=na_line_drop(df,0)\n",
    "df=na_col_drop(df,1)\n",
    "gdf_viewer(df, rows=5)"
   ]
  },
  {
   "cell_type": "code",
   "execution_count": 20,
   "id": "present-indicator",
   "metadata": {},
   "outputs": [],
   "source": [
    "prv_eau=df.loc[:32]\n",
    "an=df.loc[33:]"
   ]
  },
  {
   "cell_type": "code",
   "execution_count": 21,
   "id": "interstate-animal",
   "metadata": {},
   "outputs": [
    {
     "name": "stderr",
     "output_type": "stream",
     "text": [
      "/home/yanathan/.local/share/virtualenvs/GSDMA-DRfwm83x/lib/python3.8/site-packages/pandas/core/indexing.py:692: SettingWithCopyWarning: \n",
      "A value is trying to be set on a copy of a slice from a DataFrame\n",
      "\n",
      "See the caveats in the documentation: https://pandas.pydata.org/pandas-docs/stable/user_guide/indexing.html#returning-a-view-versus-a-copy\n",
      "  iloc._setitem_with_indexer(indexer, value, self.name)\n"
     ]
    }
   ],
   "source": [
    "an.loc[0.5] = df.loc[0] # put data on first line\n",
    "an = an.sort_index().reset_index(drop=True)"
   ]
  },
  {
   "cell_type": "code",
   "execution_count": 22,
   "id": "embedded-greene",
   "metadata": {},
   "outputs": [],
   "source": [
    "an=an.transpose()\n",
    "an.reset_index(drop=True, inplace=True)"
   ]
  },
  {
   "cell_type": "code",
   "execution_count": 23,
   "id": "mental-bacon",
   "metadata": {},
   "outputs": [],
   "source": [
    "an=col_ren(an, 1)"
   ]
  },
  {
   "cell_type": "code",
   "execution_count": 24,
   "id": "insured-traffic",
   "metadata": {},
   "outputs": [],
   "source": [
    "an.replace(r'<|>','', inplace=True, regex=True)\n",
    "an.replace(r'-',np.nan, inplace=True, regex=True)\n",
    "an.rename(columns={an.columns[0]:'ID_ech'}, inplace=True)"
   ]
  },
  {
   "cell_type": "code",
   "execution_count": 25,
   "id": "eligible-imaging",
   "metadata": {},
   "outputs": [],
   "source": [
    "for c in an.columns:\n",
    "    if c not in pol_fields:\n",
    "        pol_fields.append(c)"
   ]
  },
  {
   "cell_type": "code",
   "execution_count": 29,
   "id": "conceptual-youth",
   "metadata": {},
   "outputs": [],
   "source": [
    "tmp_dir='../../CF_data/synthese/Result_traitem/Phase_2_Memoris/'\n",
    "sheet='Result_SOL'"
   ]
  },
  {
   "cell_type": "code",
   "execution_count": 30,
   "id": "thick-black",
   "metadata": {},
   "outputs": [
    {
     "name": "stdout",
     "output_type": "stream",
     "text": [
      "lines dropped: [30]\n",
      "\n",
      "will be dropped :['Unnamed: 0', 'Unnamed: 2']\n",
      "Rows : 135, columns : 31\n"
     ]
    },
    {
     "name": "stderr",
     "output_type": "stream",
     "text": [
      "/home/yanathan/.local/share/virtualenvs/GSDMA-DRfwm83x/lib/python3.8/site-packages/pandas/core/frame.py:4305: SettingWithCopyWarning: \n",
      "A value is trying to be set on a copy of a slice from a DataFrame\n",
      "\n",
      "See the caveats in the documentation: https://pandas.pydata.org/pandas-docs/stable/user_guide/indexing.html#returning-a-view-versus-a-copy\n",
      "  return super().drop(\n"
     ]
    },
    {
     "data": {
      "application/vnd.jupyter.widget-view+json": {
       "model_id": "2708f207250a420fa552a2874209668f",
       "version_major": 2,
       "version_minor": 0
      },
      "text/plain": [
       "interactive(children=(IntSlider(value=5, description='rows', max=135, min=5, readout=False), IntSlider(value=1…"
      ]
     },
     "metadata": {},
     "output_type": "display_data"
    }
   ],
   "source": [
    "df = pd.read_excel('../../CF_data/Data_UMONS/Contamination/Résultats et mesures Siterem/résultats phase 2/'\n",
    "                   'Résultats phase 2_MEMORIS.xls', sheet_name='Résult SOL', skiprows=4)\n",
    "df=na_line_drop(df,0)\n",
    "df=na_col_drop(df,1)\n",
    "gdf_viewer(df, rows=5)"
   ]
  },
  {
   "cell_type": "code",
   "execution_count": 31,
   "id": "seven-roman",
   "metadata": {},
   "outputs": [],
   "source": [
    "prv_sol=df.loc[:35]\n",
    "an=df.loc[36:]"
   ]
  },
  {
   "cell_type": "code",
   "execution_count": 32,
   "id": "metropolitan-adelaide",
   "metadata": {},
   "outputs": [
    {
     "name": "stderr",
     "output_type": "stream",
     "text": [
      "/home/yanathan/.local/share/virtualenvs/GSDMA-DRfwm83x/lib/python3.8/site-packages/pandas/core/indexing.py:692: SettingWithCopyWarning: \n",
      "A value is trying to be set on a copy of a slice from a DataFrame\n",
      "\n",
      "See the caveats in the documentation: https://pandas.pydata.org/pandas-docs/stable/user_guide/indexing.html#returning-a-view-versus-a-copy\n",
      "  iloc._setitem_with_indexer(indexer, value, self.name)\n"
     ]
    }
   ],
   "source": [
    "an.loc[0.5] = df.loc[1] # put data on first line\n",
    "an = an.sort_index().reset_index(drop=True)"
   ]
  },
  {
   "cell_type": "code",
   "execution_count": 33,
   "id": "adjusted-anger",
   "metadata": {},
   "outputs": [],
   "source": [
    "an=an.transpose()\n",
    "an.reset_index(drop=True, inplace=True)"
   ]
  },
  {
   "cell_type": "code",
   "execution_count": 34,
   "id": "impaired-listing",
   "metadata": {},
   "outputs": [],
   "source": [
    "an=col_ren(an, 1)"
   ]
  },
  {
   "cell_type": "code",
   "execution_count": 35,
   "id": "ecological-arlington",
   "metadata": {},
   "outputs": [],
   "source": [
    "an.replace(r'<|>','', inplace=True, regex=True)\n",
    "an.replace(r'-',np.nan, inplace=True, regex=True)\n",
    "an.rename(columns={an.columns[0]:'ID_ech'}, inplace=True)"
   ]
  },
  {
   "cell_type": "code",
   "execution_count": 36,
   "id": "everyday-vatican",
   "metadata": {},
   "outputs": [],
   "source": [
    "for c in an.columns:\n",
    "    if c not in pol_fields:\n",
    "        pol_fields.append(c)"
   ]
  },
  {
   "cell_type": "code",
   "execution_count": 38,
   "id": "certain-vienna",
   "metadata": {},
   "outputs": [],
   "source": [
    "tmp_dir='../../CF_data/synthese/Result_traitem/Phase_2_Memoris/'\n",
    "sheet='Result_eau'"
   ]
  },
  {
   "cell_type": "code",
   "execution_count": 39,
   "id": "accredited-costs",
   "metadata": {},
   "outputs": [
    {
     "name": "stdout",
     "output_type": "stream",
     "text": [
      "lines dropped: []\n",
      "\n",
      "will be dropped :['Unnamed: 0', 'Unnamed: 2']\n",
      "Rows : 138, columns : 17\n"
     ]
    },
    {
     "data": {
      "application/vnd.jupyter.widget-view+json": {
       "model_id": "fa1ae232be534ab5888fdebb7b64861a",
       "version_major": 2,
       "version_minor": 0
      },
      "text/plain": [
       "interactive(children=(IntSlider(value=5, description='rows', max=138, min=5, readout=False), IntSlider(value=1…"
      ]
     },
     "metadata": {},
     "output_type": "display_data"
    }
   ],
   "source": [
    "df = pd.read_excel('../../CF_data/Data_UMONS/Contamination/Résultats et mesures Siterem/résultats phase 2/'\n",
    "                   'Résultats phase 2_MEMORIS.xls', sheet_name='Résult EAU', skiprows=4)\n",
    "df=na_line_drop(df,0)\n",
    "df=na_col_drop(df,1)\n",
    "gdf_viewer(df, rows=5)"
   ]
  },
  {
   "cell_type": "code",
   "execution_count": 40,
   "id": "parliamentary-flower",
   "metadata": {},
   "outputs": [],
   "source": [
    "prv_eau=df.loc[:32]\n",
    "an=df.loc[33:]"
   ]
  },
  {
   "cell_type": "code",
   "execution_count": 41,
   "id": "complicated-objective",
   "metadata": {},
   "outputs": [
    {
     "name": "stderr",
     "output_type": "stream",
     "text": [
      "/home/yanathan/.local/share/virtualenvs/GSDMA-DRfwm83x/lib/python3.8/site-packages/pandas/core/indexing.py:692: SettingWithCopyWarning: \n",
      "A value is trying to be set on a copy of a slice from a DataFrame\n",
      "\n",
      "See the caveats in the documentation: https://pandas.pydata.org/pandas-docs/stable/user_guide/indexing.html#returning-a-view-versus-a-copy\n",
      "  iloc._setitem_with_indexer(indexer, value, self.name)\n"
     ]
    }
   ],
   "source": [
    "an.loc[0.5] = df.loc[1] # put data on first line\n",
    "an = an.sort_index().reset_index(drop=True)"
   ]
  },
  {
   "cell_type": "code",
   "execution_count": 42,
   "id": "forced-imaging",
   "metadata": {},
   "outputs": [],
   "source": [
    "an=an.transpose()\n",
    "an.reset_index(drop=True, inplace=True)"
   ]
  },
  {
   "cell_type": "code",
   "execution_count": 43,
   "id": "representative-firewall",
   "metadata": {},
   "outputs": [],
   "source": [
    "an=col_ren(an, 1)"
   ]
  },
  {
   "cell_type": "code",
   "execution_count": 44,
   "id": "incomplete-clark",
   "metadata": {},
   "outputs": [],
   "source": [
    "an.replace(r'<|>','', inplace=True, regex=True)\n",
    "an.replace(r'-',np.nan, inplace=True, regex=True)\n",
    "an.rename(columns={an.columns[0]:'ID_ech'}, inplace=True)"
   ]
  },
  {
   "cell_type": "code",
   "execution_count": 45,
   "id": "neither-transfer",
   "metadata": {},
   "outputs": [],
   "source": [
    "an.drop(list(range(5)), axis=0, inplace=True)\n",
    "an.reset_index(drop=True, inplace=True)"
   ]
  },
  {
   "cell_type": "code",
   "execution_count": 46,
   "id": "generous-intranet",
   "metadata": {},
   "outputs": [],
   "source": [
    "for c in an.columns:\n",
    "    if c not in pol_fields:\n",
    "        pol_fields.append(c)"
   ]
  },
  {
   "cell_type": "markdown",
   "id": "compact-latitude",
   "metadata": {},
   "source": [
    "--------------------------------------------------------------------------------------------------------"
   ]
  },
  {
   "cell_type": "code",
   "execution_count": 54,
   "id": "antique-stephen",
   "metadata": {
    "collapsed": true
   },
   "outputs": [
    {
     "name": "stdout",
     "output_type": "stream",
     "text": [
      "128 \n",
      " ['ID_ech', 'METAUX LOURDS', 'Arsenic', 'Cadmium', 'Chrome', 'Chrome VI', 'Cuivre', 'Mercure', 'Plomb', 'Nickel', 'Zinc', 'CYANURES', 'Cyanure (libre)', 'Cyanure (totaux)', 'cyanure (APE)', 'cyanure complex', 'thiocyanate', 'COMPOSES AROMATIQUES VOLATILS', 'Benzène', 'Toluène', 'Éthylbenzène', 'Orthoxylène', 'Para- et métaxylène', 'Xylènes', 'Styrène', 'BTEX totaux', 'PHENOLS', 'Phénol', 'Indice phénol', 'HYDROCARBURES AROMATIQUES POLYCYCLIQUES', 'Naphtalène', 'Acénaphtylène', 'Acénaphtène', 'Fluorène', 'col_34', 'Anthracène', 'Fluoranthène', 'Pyrène', 'Benzo(a)anthracène', 'Chrysène', 'Benzo(b)fluoranthène', 'Benzo(k)fluoranthène', 'Benzo(a)pyrène', 'Dibenzo(ah)anthracène', 'Benzo(ghi)pérylène', 'Indéno(1,2,3-cd)pyrène', 'HAP Totaux (16) - EPA', 'COMPOSES ORGANOHALOGENES VOLATILS', '1,1-Dichloroéthane', '1,2-Dichloroéthane', '1,1-dichloroéthène', 'Cis-1,2-dichloroéthène', 'Trans 1,2-dichloroéthylène', 'Dichlorométhane', 'Totaux (cis,trans) 1,2-dichloroéthènes', '1,2-dichloropropane', 'Tétrachloroéthylène', 'Tétrachlorométhane', '1,1,1-Trichloroéthane', '1,1,2-Trichloroéthane', 'Trichloroéthylène', 'Chloroforme', 'Chlorure de vinyle', 'col_63', 'EOX (****)', 'HYDROCARBURES TOTAUX', 'fraction aromat. >C6-C7', 'fraction aromat. >C7-C8', 'fraction aromat. >C8-C10', 'fraction aliphat. C5-C6', 'fraction aliphat. >C6-C8', 'fraction aliphat. >C8-C10', 'Fraction C5 - C8', 'Fraction C8 - C10', 'Fraction C10-C12', 'Fraction C12-C16', 'Fraction C16 - C21', 'Fraction C21 - C35', 'Fraction C35 - C40', 'Hydrocarbures totaux C10-C35', 'Hydrocarbures totaux C10-C40', 'METHYL-TERT-BUTYL-ETHER', 'MTBE', 'POLYCHLOROBIPHENYL (PCB)', 'PCB 28', 'PCB 52', 'PCB 101', 'PCB 118', 'PCB 138', 'PCB 153', 'PCB 180', 'PCB totaux (7)', 'F4/2M*', 'Teneur mesurée', 'Teneur mesurée (souligne/gras)', 'Teneur mesurée (gras/grisé)', \"(*) CP = Campagne de prélèvements; Ex = Expertise; ES = Etude de sol; EO = Etude d'orientation; EC = Etude de caractérisation; SA = Suivi d'assainissement\", '(**) L: limon, A: Argile, S: Sable, R: Remblai', '(***) ib : imperméable (béton) ; ih : imperméable hydrocarboné ; p : perméable (gravier, fissuré,…) ; tvh : terres végétation haute ; tvb : terres végétation basse ', '(****) 3 mg/kg = Seuil limite défini dans le GREO ', 'Cyanures (libres)', 'CN_totaux', 'crésols (total)', 'CHLOROPHENOLS', '2-chlorophénol', 'monochlorophénol total', 'dichlorophénol total', '2,4,5-trichlorophénol', '2,4,6-trichlorophénol', 'trichlorophénol total', '2,3,4,6- tétrachlorophénol', 'tétrachlorophénol total', 'pentachlorophénol', 'col_43', 'COMPOSES ORGANOCHLORES VOLATILS', 'Tétrachloroéthylène ', 'CHLOROBENZENES', 'monochlorobenzène', '1,3-dichlorobenzène', '1,2-dichlorobenzène', '1,4-Dichlorobenzène', '1,2,4,5- et 1,2,3,5-tétrachlorobenzènes', 'pentachlorobenzène', 'hexachlorobenzène', 'POLYCHLOROBIPHENYLS (PCB)', '(**) ib : imperméable (béton) ; ih : imperméable hydrocarboné ; p : perméable (gravier, fissuré,…) ; tvh : terres végétation haute ; tvb : terres végétation basse ', 'AUTRES ANALYSES ', 'Chlorures']\n"
     ]
    }
   ],
   "source": [
    "print(len(pol_fields),\"\\n\", pol_fields)"
   ]
  },
  {
   "cell_type": "code",
   "execution_count": 77,
   "id": "continental-motorcycle",
   "metadata": {},
   "outputs": [],
   "source": [
    "pol_old_name=['Arsenic','Cadmium','Chrome','Chrome VI','Cuivre','Mercure','Plomb','Nickel','Zinc','Cyanure (libre)',\n",
    "'Cyanure (totaux)','cyanure (APE)','cyanure complex','thiocyanate','Benzène','Toluène','Éthylbenzène',\n",
    "'Orthoxylène','Para- et métaxylène','Xylènes','Styrène','BTEX totaux','Phénol',\n",
    "'Indice phénol','Naphtalène','Acénaphtylène','Acénaphtène','Fluorène','Phénanthrène','Anthracène',\n",
    "'Fluoranthène','Pyrène','Benzo(a)anthracène','Chrysène','Benzo(b)fluoranthène','Benzo(k)fluoranthène',\n",
    "'Benzo(a)pyrène','Dibenzo(ah)anthracène','Benzo(ghi)pérylène','Indéno(1,2,3-cd)pyrène',\n",
    "'HAP Totaux (16) - EPA','1,1-Dichloroéthane','1,2-Dichloroéthane','1,1-dichloroéthène',\n",
    "'Cis-1,2-dichloroéthène','Trans 1,2-dichloroéthylène','Dichlorométhane',\n",
    "'Totaux (cis,trans) 1,2-dichloroéthènes','1,2-dichloropropane','Tétrachloroéthylène',\n",
    "'Tétrachlorométhane','1,1,1-Trichloroéthane','1,1,2-Trichloroéthane','Trichloroéthylène','Chloroforme',\n",
    "'Chlorure de vinyle','EOX (****)','fraction aromat. >C6-C7','fraction aromat. >C7-C8',\n",
    "'fraction aromat. >C8-C10','fraction aliphat. C5-C6','fraction aliphat. >C6-C8',\n",
    "'fraction aliphat. >C8-C10','Fraction C5 - C8','Fraction C8 - C10','Fraction C10-C12',\n",
    "'Fraction C12-C16','Fraction C16 - C21','Fraction C21 - C35','Fraction C35 - C40',\n",
    "'Hydrocarbures totaux C10-C35','Hydrocarbures totaux C10-C40','MTBE','PCB 28','PCB 52','PCB 101',\n",
    "'PCB 118','PCB 138','PCB 153','PCB 180','PCB totaux (7)','Chlorures','Soufre Total', 'sulfites','sulfate']"
   ]
  },
  {
   "cell_type": "code",
   "execution_count": 78,
   "id": "nominated-tower",
   "metadata": {},
   "outputs": [],
   "source": [
    "pol_new_name=['As','Cd','Cr','Cr_VI','Cu','Hg','Pb','Ni','Zn','CN_libre','CN_tot','CN_APE','CN_comp',\n",
    "'thioCN','Bnz','Toln','EthylBnz','O-Xyl','P-M-Xyl','Xyl','Styr','BTEX_tot','Phenol','Idc_Phenol','Naphta',\n",
    "'Acenaphtyl','Acenaphtn','Fluorene','Phenanthr','Anthrc','Flranth','Pyr','Bnz(a)anthrc','Chrys','Bnz(b)flranth',\n",
    "'Bnz(k)flranth','Bnz(a)pyr','Dibnz(ah)anthrc','Bnz(ghi)peryl','Indeno(1,2,3-cd)pyr','HAP_tot_EPA',\n",
    "'1,1-DCE','1,2-DCE','1,1-DCEn','Cis-1,2-DCEn','Trans 1,2-DCEyl','DCM','(cis,trans) 1,2-DCE_tot',\n",
    "'1,2-DCP','TetraCEyn','TCM','1,1,1-TCE','1,1,2-TCE','TCEyn','Chloroforme','CVinyl','EOX',\n",
    "'Arom_C6C7','Arom_C7C8','Arom_C8C10','Aliphat_C5C6','Aliphat_C6C8','Aliphat_C8C10','Fract_C5C8','Fract_C8C10',\n",
    "'Fract_C10C12','Fract_C12C16','Fract_C16C21','Fract_C21C35','Fract_C35C40','HC_tot_C10C35','HC_tot_C10C40','MTBE','PCB_28',\n",
    "'PCB_52','PCB_101','PCB_118','PCB_138','PCB_153','PCB_180','PCB_tot','Cl','S_tot', 'sulfites','sulfate']"
   ]
  },
  {
   "cell_type": "raw",
   "id": "manufactured-crazy",
   "metadata": {},
   "source": [
    "pol_old_name=list(set(pol_old_name))\n",
    "print(pol_old_name)"
   ]
  },
  {
   "cell_type": "code",
   "execution_count": 79,
   "id": "preliminary-premises",
   "metadata": {},
   "outputs": [],
   "source": [
    "pol_field_model={}\n",
    "if len(pol_old_name)==len(pol_new_name):\n",
    "    for i,j in zip(pol_old_name, pol_new_name):\n",
    "        pol_field_model.update({i:j})\n",
    "    \n",
    "else:\n",
    "    print('Error! length of lists provided are not the same')"
   ]
  },
  {
   "cell_type": "code",
   "execution_count": 80,
   "id": "solar-response",
   "metadata": {},
   "outputs": [
    {
     "name": "stdout",
     "output_type": "stream",
     "text": [
      "{'Arsenic': 'As', 'Cadmium': 'Cd', 'Chrome': 'Cr', 'Chrome VI': 'Cr_VI', 'Cuivre': 'Cu', 'Mercure': 'Hg', 'Plomb': 'Pb', 'Nickel': 'Ni', 'Zinc': 'Zn', 'Cyanure (libre)': 'CN_libre', 'Cyanure (totaux)': 'CN_tot', 'cyanure (APE)': 'CN_APE', 'cyanure complex': 'CN_comp', 'thiocyanate': 'thioCN', 'Benzène': 'Bnz', 'Toluène': 'Toln', 'Éthylbenzène': 'EthylBnz', 'Orthoxylène': 'O-Xyl', 'Para- et métaxylène': 'P-M-Xyl', 'Xylènes': 'Xyl', 'Styrène': 'Styr', 'BTEX totaux': 'BTEX_tot', 'Phénol': 'Phenol', 'Indice phénol': 'Idc_Phenol', 'Naphtalène': 'Naphta', 'Acénaphtylène': 'Acenaphtyl', 'Acénaphtène': 'Acenaphtn', 'Fluorène': 'Fluorene', 'Phénanthrène': 'Phenanthr', 'Anthracène': 'Anthrc', 'Fluoranthène': 'Flranth', 'Pyrène': 'Pyr', 'Benzo(a)anthracène': 'Bnz(a)anthrc', 'Chrysène': 'Chrys', 'Benzo(b)fluoranthène': 'Bnz(b)flranth', 'Benzo(k)fluoranthène': 'Bnz(k)flranth', 'Benzo(a)pyrène': 'Bnz(a)pyr', 'Dibenzo(ah)anthracène': 'Dibnz(ah)anthrc', 'Benzo(ghi)pérylène': 'Bnz(ghi)peryl', 'Indéno(1,2,3-cd)pyrène': 'Indeno(1,2,3-cd)pyr', 'HAP Totaux (16) - EPA': 'HAP_tot_EPA', '1,1-Dichloroéthane': '1,1-DCE', '1,2-Dichloroéthane': '1,2-DCE', '1,1-dichloroéthène': '1,1-DCEn', 'Cis-1,2-dichloroéthène': 'Cis-1,2-DCEn', 'Trans 1,2-dichloroéthylène': 'Trans 1,2-DCEyl', 'Dichlorométhane': 'DCM', 'Totaux (cis,trans) 1,2-dichloroéthènes': '(cis,trans) 1,2-DCE_tot', '1,2-dichloropropane': '1,2-DCP', 'Tétrachloroéthylène': 'TetraCEyn', 'Tétrachlorométhane': 'TCM', '1,1,1-Trichloroéthane': '1,1,1-TCE', '1,1,2-Trichloroéthane': '1,1,2-TCE', 'Trichloroéthylène': 'TCEyn', 'Chloroforme': 'Chloroforme', 'Chlorure de vinyle': 'CVinyl', 'EOX (****)': 'EOX', 'fraction aromat. >C6-C7': 'Arom_C6C7', 'fraction aromat. >C7-C8': 'Arom_C7C8', 'fraction aromat. >C8-C10': 'Arom_C8C10', 'fraction aliphat. C5-C6': 'Aliphat_C5C6', 'fraction aliphat. >C6-C8': 'Aliphat_C6C8', 'fraction aliphat. >C8-C10': 'Aliphat_C8C10', 'Fraction C5 - C8': 'Fract_C5C8', 'Fraction C8 - C10': 'Fract_C8C10', 'Fraction C10-C12': 'Fract_C10C12', 'Fraction C12-C16': 'Fract_C12C16', 'Fraction C16 - C21': 'Fract_C16C21', 'Fraction C21 - C35': 'Fract_C21C35', 'Fraction C35 - C40': 'Fract_C35C40', 'Hydrocarbures totaux C10-C35': 'HC_tot_C10C35', 'Hydrocarbures totaux C10-C40': 'HC_tot_C10C40', 'MTBE': 'MTBE', 'PCB 28': 'PCB_28', 'PCB 52': 'PCB_52', 'PCB 101': 'PCB_101', 'PCB 118': 'PCB_118', 'PCB 138': 'PCB_138', 'PCB 153': 'PCB_153', 'PCB 180': 'PCB_180', 'PCB totaux (7)': 'PCB_tot', 'Chlorures': 'Cl', 'Soufre Total': 'S_tot', 'sulfites': 'sulfites', 'sulfate': 'sulfate'}\n"
     ]
    }
   ],
   "source": [
    "print(pol_field_model)"
   ]
  },
  {
   "cell_type": "code",
   "execution_count": 81,
   "id": "personal-reading",
   "metadata": {},
   "outputs": [
    {
     "data": {
      "text/html": [
       "<div>\n",
       "<style scoped>\n",
       "    .dataframe tbody tr th:only-of-type {\n",
       "        vertical-align: middle;\n",
       "    }\n",
       "\n",
       "    .dataframe tbody tr th {\n",
       "        vertical-align: top;\n",
       "    }\n",
       "\n",
       "    .dataframe thead th {\n",
       "        text-align: right;\n",
       "    }\n",
       "</style>\n",
       "<table border=\"1\" class=\"dataframe\">\n",
       "  <thead>\n",
       "    <tr style=\"text-align: right;\">\n",
       "      <th></th>\n",
       "      <th>ID_ech</th>\n",
       "      <th>Type_ech</th>\n",
       "      <th>Arsenic</th>\n",
       "      <th>Cadmium</th>\n",
       "      <th>Chrome</th>\n",
       "      <th>Cuivre</th>\n",
       "      <th>Mercure</th>\n",
       "      <th>Plomb</th>\n",
       "      <th>Nickel</th>\n",
       "      <th>Zinc</th>\n",
       "      <th>...</th>\n",
       "      <th>fraction aliphat. &gt;C8-C10</th>\n",
       "      <th>Fraction C5 - C8</th>\n",
       "      <th>Fraction C8 - C10</th>\n",
       "      <th>Fraction C10-C12</th>\n",
       "      <th>Fraction C12-C16</th>\n",
       "      <th>Fraction C16 - C21</th>\n",
       "      <th>Fraction C21 - C35</th>\n",
       "      <th>Hydrocarbures totaux C10-C35</th>\n",
       "      <th>MTBE</th>\n",
       "      <th>Chlorures</th>\n",
       "    </tr>\n",
       "  </thead>\n",
       "  <tbody>\n",
       "    <tr>\n",
       "      <th>0</th>\n",
       "      <td>P18c</td>\n",
       "      <td>Eau</td>\n",
       "      <td>2.8</td>\n",
       "      <td>0.25</td>\n",
       "      <td>2.5</td>\n",
       "      <td>5</td>\n",
       "      <td>0.05</td>\n",
       "      <td>2.5</td>\n",
       "      <td>5</td>\n",
       "      <td>20</td>\n",
       "      <td>...</td>\n",
       "      <td>75</td>\n",
       "      <td>160</td>\n",
       "      <td>440</td>\n",
       "      <td>2300</td>\n",
       "      <td>4600</td>\n",
       "      <td>180</td>\n",
       "      <td>10</td>\n",
       "      <td>7100</td>\n",
       "      <td>20</td>\n",
       "      <td>72</td>\n",
       "    </tr>\n",
       "    <tr>\n",
       "      <th>1</th>\n",
       "      <td>P19</td>\n",
       "      <td>Eau</td>\n",
       "      <td>4.1</td>\n",
       "      <td>0.25</td>\n",
       "      <td>2.5</td>\n",
       "      <td>5</td>\n",
       "      <td>0.05</td>\n",
       "      <td>2.5</td>\n",
       "      <td>5</td>\n",
       "      <td>20</td>\n",
       "      <td>...</td>\n",
       "      <td>3</td>\n",
       "      <td>36</td>\n",
       "      <td>60</td>\n",
       "      <td>200</td>\n",
       "      <td>1100</td>\n",
       "      <td>55</td>\n",
       "      <td>10</td>\n",
       "      <td>1400</td>\n",
       "      <td>2</td>\n",
       "      <td>98</td>\n",
       "    </tr>\n",
       "    <tr>\n",
       "      <th>2</th>\n",
       "      <td>P20</td>\n",
       "      <td>Eau</td>\n",
       "      <td>1.9</td>\n",
       "      <td>0.25</td>\n",
       "      <td>2.5</td>\n",
       "      <td>5</td>\n",
       "      <td>0.05</td>\n",
       "      <td>2.5</td>\n",
       "      <td>5</td>\n",
       "      <td>20</td>\n",
       "      <td>...</td>\n",
       "      <td>3</td>\n",
       "      <td>3</td>\n",
       "      <td>10</td>\n",
       "      <td>10</td>\n",
       "      <td>5</td>\n",
       "      <td>10</td>\n",
       "      <td>10</td>\n",
       "      <td>50</td>\n",
       "      <td>20</td>\n",
       "      <td>110</td>\n",
       "    </tr>\n",
       "    <tr>\n",
       "      <th>3</th>\n",
       "      <td>P21</td>\n",
       "      <td>Eau</td>\n",
       "      <td>1.8</td>\n",
       "      <td>0.25</td>\n",
       "      <td>2.5</td>\n",
       "      <td>5</td>\n",
       "      <td>0.05</td>\n",
       "      <td>2.5</td>\n",
       "      <td>5</td>\n",
       "      <td>20</td>\n",
       "      <td>...</td>\n",
       "      <td>3</td>\n",
       "      <td>3</td>\n",
       "      <td>10</td>\n",
       "      <td>20</td>\n",
       "      <td>55</td>\n",
       "      <td>20</td>\n",
       "      <td>10</td>\n",
       "      <td>95</td>\n",
       "      <td>2</td>\n",
       "      <td>110</td>\n",
       "    </tr>\n",
       "    <tr>\n",
       "      <th>4</th>\n",
       "      <td>P22</td>\n",
       "      <td>Eau</td>\n",
       "      <td>2.9</td>\n",
       "      <td>0.25</td>\n",
       "      <td>2.5</td>\n",
       "      <td>5</td>\n",
       "      <td>0.05</td>\n",
       "      <td>2.5</td>\n",
       "      <td>5</td>\n",
       "      <td>20</td>\n",
       "      <td>...</td>\n",
       "      <td>3</td>\n",
       "      <td>3</td>\n",
       "      <td>10</td>\n",
       "      <td>10</td>\n",
       "      <td>5</td>\n",
       "      <td>10</td>\n",
       "      <td>10</td>\n",
       "      <td>50</td>\n",
       "      <td>2</td>\n",
       "      <td>110</td>\n",
       "    </tr>\n",
       "    <tr>\n",
       "      <th>5</th>\n",
       "      <td>P23</td>\n",
       "      <td>Eau</td>\n",
       "      <td>1</td>\n",
       "      <td>0.25</td>\n",
       "      <td>2.5</td>\n",
       "      <td>5</td>\n",
       "      <td>0.05</td>\n",
       "      <td>2.5</td>\n",
       "      <td>5</td>\n",
       "      <td>20</td>\n",
       "      <td>...</td>\n",
       "      <td>3</td>\n",
       "      <td>26</td>\n",
       "      <td>96</td>\n",
       "      <td>110</td>\n",
       "      <td>770</td>\n",
       "      <td>160</td>\n",
       "      <td>70</td>\n",
       "      <td>1100</td>\n",
       "      <td>2</td>\n",
       "      <td>100</td>\n",
       "    </tr>\n",
       "    <tr>\n",
       "      <th>6</th>\n",
       "      <td>eau forage P23</td>\n",
       "      <td>Eau</td>\n",
       "      <td>NaN</td>\n",
       "      <td>NaN</td>\n",
       "      <td>NaN</td>\n",
       "      <td>NaN</td>\n",
       "      <td>NaN</td>\n",
       "      <td>NaN</td>\n",
       "      <td>NaN</td>\n",
       "      <td>NaN</td>\n",
       "      <td>...</td>\n",
       "      <td>75</td>\n",
       "      <td>110</td>\n",
       "      <td>680</td>\n",
       "      <td>5800</td>\n",
       "      <td>4100</td>\n",
       "      <td>210</td>\n",
       "      <td>25</td>\n",
       "      <td>10000</td>\n",
       "      <td>NaN</td>\n",
       "      <td>NaN</td>\n",
       "    </tr>\n",
       "    <tr>\n",
       "      <th>7</th>\n",
       "      <td>P24b</td>\n",
       "      <td>Eau</td>\n",
       "      <td>3.2</td>\n",
       "      <td>0.25</td>\n",
       "      <td>2.5</td>\n",
       "      <td>5</td>\n",
       "      <td>0.05</td>\n",
       "      <td>2.5</td>\n",
       "      <td>5</td>\n",
       "      <td>20</td>\n",
       "      <td>...</td>\n",
       "      <td>3</td>\n",
       "      <td>3</td>\n",
       "      <td>10</td>\n",
       "      <td>10</td>\n",
       "      <td>5</td>\n",
       "      <td>10</td>\n",
       "      <td>10</td>\n",
       "      <td>50</td>\n",
       "      <td>2</td>\n",
       "      <td>98</td>\n",
       "    </tr>\n",
       "    <tr>\n",
       "      <th>8</th>\n",
       "      <td>P25</td>\n",
       "      <td>Eau</td>\n",
       "      <td>13</td>\n",
       "      <td>0.25</td>\n",
       "      <td>2.5</td>\n",
       "      <td>5</td>\n",
       "      <td>0.05</td>\n",
       "      <td>2.5</td>\n",
       "      <td>5</td>\n",
       "      <td>20</td>\n",
       "      <td>...</td>\n",
       "      <td>3</td>\n",
       "      <td>3</td>\n",
       "      <td>10</td>\n",
       "      <td>10</td>\n",
       "      <td>5</td>\n",
       "      <td>10</td>\n",
       "      <td>10</td>\n",
       "      <td>50</td>\n",
       "      <td>2</td>\n",
       "      <td>100</td>\n",
       "    </tr>\n",
       "    <tr>\n",
       "      <th>9</th>\n",
       "      <td>P26</td>\n",
       "      <td>Eau</td>\n",
       "      <td>3.5</td>\n",
       "      <td>0.25</td>\n",
       "      <td>2.5</td>\n",
       "      <td>5</td>\n",
       "      <td>0.05</td>\n",
       "      <td>2.5</td>\n",
       "      <td>5</td>\n",
       "      <td>20</td>\n",
       "      <td>...</td>\n",
       "      <td>3</td>\n",
       "      <td>3</td>\n",
       "      <td>10</td>\n",
       "      <td>10</td>\n",
       "      <td>5</td>\n",
       "      <td>10</td>\n",
       "      <td>10</td>\n",
       "      <td>50</td>\n",
       "      <td>2</td>\n",
       "      <td>110</td>\n",
       "    </tr>\n",
       "    <tr>\n",
       "      <th>10</th>\n",
       "      <td>P27d</td>\n",
       "      <td>Eau</td>\n",
       "      <td>1.9</td>\n",
       "      <td>0.25</td>\n",
       "      <td>2.5</td>\n",
       "      <td>5</td>\n",
       "      <td>0.05</td>\n",
       "      <td>2.5</td>\n",
       "      <td>5</td>\n",
       "      <td>20</td>\n",
       "      <td>...</td>\n",
       "      <td>3</td>\n",
       "      <td>3</td>\n",
       "      <td>10</td>\n",
       "      <td>10</td>\n",
       "      <td>5</td>\n",
       "      <td>10</td>\n",
       "      <td>10</td>\n",
       "      <td>50</td>\n",
       "      <td>2</td>\n",
       "      <td>110</td>\n",
       "    </tr>\n",
       "  </tbody>\n",
       "</table>\n",
       "<p>11 rows × 70 columns</p>\n",
       "</div>"
      ],
      "text/plain": [
       "            ID_ech Type_ech Arsenic Cadmium Chrome Cuivre Mercure Plomb  \\\n",
       "0             P18c      Eau     2.8    0.25    2.5      5    0.05   2.5   \n",
       "1              P19      Eau     4.1    0.25    2.5      5    0.05   2.5   \n",
       "2              P20      Eau     1.9    0.25    2.5      5    0.05   2.5   \n",
       "3              P21      Eau     1.8    0.25    2.5      5    0.05   2.5   \n",
       "4              P22      Eau     2.9    0.25    2.5      5    0.05   2.5   \n",
       "5              P23      Eau       1    0.25    2.5      5    0.05   2.5   \n",
       "6   eau forage P23      Eau     NaN     NaN    NaN    NaN     NaN   NaN   \n",
       "7             P24b      Eau     3.2    0.25    2.5      5    0.05   2.5   \n",
       "8              P25      Eau      13    0.25    2.5      5    0.05   2.5   \n",
       "9              P26      Eau     3.5    0.25    2.5      5    0.05   2.5   \n",
       "10            P27d      Eau     1.9    0.25    2.5      5    0.05   2.5   \n",
       "\n",
       "   Nickel Zinc  ... fraction aliphat. >C8-C10 Fraction C5 - C8  \\\n",
       "0       5   20  ...                        75              160   \n",
       "1       5   20  ...                         3               36   \n",
       "2       5   20  ...                         3                3   \n",
       "3       5   20  ...                         3                3   \n",
       "4       5   20  ...                         3                3   \n",
       "5       5   20  ...                         3               26   \n",
       "6     NaN  NaN  ...                        75              110   \n",
       "7       5   20  ...                         3                3   \n",
       "8       5   20  ...                         3                3   \n",
       "9       5   20  ...                         3                3   \n",
       "10      5   20  ...                         3                3   \n",
       "\n",
       "   Fraction C8 - C10 Fraction C10-C12 Fraction C12-C16 Fraction C16 - C21  \\\n",
       "0                440             2300             4600                180   \n",
       "1                 60              200             1100                 55   \n",
       "2                 10               10                5                 10   \n",
       "3                 10               20               55                 20   \n",
       "4                 10               10                5                 10   \n",
       "5                 96              110              770                160   \n",
       "6                680             5800             4100                210   \n",
       "7                 10               10                5                 10   \n",
       "8                 10               10                5                 10   \n",
       "9                 10               10                5                 10   \n",
       "10                10               10                5                 10   \n",
       "\n",
       "   Fraction C21 - C35 Hydrocarbures totaux C10-C35 MTBE Chlorures  \n",
       "0                  10                         7100   20        72  \n",
       "1                  10                         1400    2        98  \n",
       "2                  10                           50   20       110  \n",
       "3                  10                           95    2       110  \n",
       "4                  10                           50    2       110  \n",
       "5                  70                         1100    2       100  \n",
       "6                  25                        10000  NaN       NaN  \n",
       "7                  10                           50    2        98  \n",
       "8                  10                           50    2       100  \n",
       "9                  10                           50    2       110  \n",
       "10                 10                           50    2       110  \n",
       "\n",
       "[11 rows x 70 columns]"
      ]
     },
     "execution_count": 81,
     "metadata": {},
     "output_type": "execute_result"
    }
   ],
   "source": [
    "an"
   ]
  },
  {
   "cell_type": "code",
   "execution_count": null,
   "id": "continuing-sherman",
   "metadata": {},
   "outputs": [],
   "source": []
  }
 ],
 "metadata": {
  "kernelspec": {
   "display_name": "Python 3",
   "language": "python",
   "name": "python3"
  },
  "language_info": {
   "codemirror_mode": {
    "name": "ipython",
    "version": 3
   },
   "file_extension": ".py",
   "mimetype": "text/x-python",
   "name": "python",
   "nbconvert_exporter": "python",
   "pygments_lexer": "ipython3",
   "version": "3.8.5"
  }
 },
 "nbformat": 4,
 "nbformat_minor": 5
}
