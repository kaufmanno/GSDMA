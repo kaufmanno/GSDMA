{
 "cells": [
  {
   "cell_type": "markdown",
   "id": "b4b62ec3",
   "metadata": {},
   "source": [
    "# Vedo_GSDMA_test"
   ]
  },
  {
   "cell_type": "code",
   "execution_count": 1,
   "id": "a187f18b",
   "metadata": {},
   "outputs": [],
   "source": [
    "import vedo as vd #Plotter, Mesh, Points, Line, Lines, embedWindow #, printc, exportWindow, settings\n",
    "\n",
    "import warnings\n",
    "import matplotlib.colors as mcolors\n",
    "import random\n",
    "import pandas as pd\n",
    "import scipy.spatial as ssp\n",
    "import numpy as np\n",
    "import random\n",
    "\n",
    "vd.embedWindow(False)\n",
    "#vd.settings.embedWindow(backend='ipyvtk') # to plot in jupyter notebook but very slow !"
   ]
  },
  {
   "cell_type": "code",
   "execution_count": 2,
   "id": "228a8e3a",
   "metadata": {},
   "outputs": [],
   "source": [
    "import matplotlib.pyplot as plt\n",
    "from striplog import Component, Decor, Legend, Interval, Lexicon\n",
    "from core.omf import Borehole3D, striplog_legend_to_omf_legend \n",
    "from definitions import ROOT_DIR"
   ]
  },
  {
   "cell_type": "raw",
   "id": "793a4e75",
   "metadata": {},
   "source": [
    "vd.settings.useFXAA = True\n",
    "vd.settings.usingQt = True"
   ]
  },
  {
   "cell_type": "code",
   "execution_count": 3,
   "id": "269d2968",
   "metadata": {},
   "outputs": [
    {
     "data": {
      "text/plain": [
       "'/home/yanathan/Projects/GSDMA/playground/TFE_test'"
      ]
     },
     "execution_count": 3,
     "metadata": {},
     "output_type": "execute_result"
    }
   ],
   "source": [
    "pwd"
   ]
  },
  {
   "cell_type": "markdown",
   "id": "70d54f7f",
   "metadata": {},
   "source": [
    "### Create a plotter"
   ]
  },
  {
   "cell_type": "code",
   "execution_count": 4,
   "id": "f88cd050",
   "metadata": {},
   "outputs": [],
   "source": [
    "plt3d = vd.Plotter(axes=dict(xtitle='m', ytitle='m', ztitle='m', yzGrid=False), \n",
    "                   size=(1000,600)) "
   ]
  },
  {
   "cell_type": "markdown",
   "id": "db3ac73f",
   "metadata": {},
   "source": [
    "# Test with Borehole3D objects"
   ]
  },
  {
   "cell_type": "code",
   "execution_count": 5,
   "id": "b8d6a513",
   "metadata": {},
   "outputs": [],
   "source": [
    "components = [Component({'lithology': 'siltstone', 'colour': 'orange'}),\n",
    "              Component({'lithology': 'anhydrite', 'colour': 'green'}),\n",
    "              Component({'lithology': 'sandstone', 'grainsize': 'vf-f', 'colour': 'blue'}),\n",
    "              Component({'lithology': 'dolomite', 'colour': 'cyan'}),\n",
    "              Component({'lithology': 'clay', 'colour': 'red'}),\n",
    "              Component({'lithology': 'limestone', 'colour':'yellow'}),\n",
    "              Component({'lithology': 'coal', 'colour':'saddlebrown'})]\n",
    "list_of_decors=[]\n",
    "hatches = ['+', 'x', '.', 's', '*', 'b', 'v']\n",
    "colours = ['#888888', '#882222', '#AAAAAA', '#CC22CC', '#CC2222', '#2222CC']\n",
    "\n",
    "for i in range(len(components)):\n",
    "    if hasattr(components[i], 'colour'):\n",
    "        c = components[i].colour\n",
    "    else:\n",
    "        c=random.sample(colours, 1)[0]\n",
    "    \n",
    "    if hasattr(components[i], 'hatch'):\n",
    "        h = components[i].hatch\n",
    "    else:\n",
    "        h=hatches[i]\n",
    "        \n",
    "    d = {'color': c, 'hatch': h, 'component': components[i], 'width': 3}\n",
    "    decor = Decor(d)\n",
    "    list_of_decors.append(decor)\n",
    "    \n",
    "legend = Legend(list_of_decors)\n",
    "lexicon=Lexicon.default()"
   ]
  },
  {
   "cell_type": "code",
   "execution_count": 6,
   "id": "97c32fed",
   "metadata": {},
   "outputs": [],
   "source": [
    "intervals=[]\n",
    "top=[0,2,5,8,12,15, 18]\n",
    "base=[2,5,8,12,15,18,23]\n",
    "for i in range(len(components)): \n",
    "    intervals.append(Interval(top=top[i], base=base[i], \n",
    "                              components=[components[i]],\n",
    "                              lexicon=lexicon))"
   ]
  },
  {
   "cell_type": "code",
   "execution_count": 7,
   "id": "63c3c621",
   "metadata": {},
   "outputs": [
    {
     "name": "stdout",
     "output_type": "stream",
     "text": [
      "{'lithology': 'siltstone', 'colour': 'orange'}\n",
      "Borehole geometry created successfully !\n",
      "Borehole geometry created successfully !\n"
     ]
    }
   ],
   "source": [
    "bh3D = Borehole3D(intervals, legend=legend, name='BH_test', \n",
    "                  x_collar=152300, y_collar=121750, z_collar=101.5)"
   ]
  },
  {
   "cell_type": "code",
   "execution_count": 8,
   "id": "53af5276",
   "metadata": {},
   "outputs": [
    {
     "data": {
      "text/plain": [
       "[Interval({'top': Position({'middle': 0.0, 'upper': 0.0, 'lower': 0.0, 'units': 'm'}), 'base': Position({'middle': 2.0, 'units': 'm'}), 'description': '', 'data': {}, 'components': [Component({'lithology': 'siltstone', 'colour': 'orange'})]}),\n",
       " Interval({'top': Position({'middle': 2.0, 'units': 'm'}), 'base': Position({'middle': 5.0, 'units': 'm'}), 'description': '', 'data': {}, 'components': [Component({'lithology': 'anhydrite', 'colour': 'green'})]}),\n",
       " Interval({'top': Position({'middle': 5.0, 'units': 'm'}), 'base': Position({'middle': 8.0, 'units': 'm'}), 'description': '', 'data': {}, 'components': [Component({'lithology': 'sandstone', 'grainsize': 'vf-f', 'colour': 'blue'})]}),\n",
       " Interval({'top': Position({'middle': 8.0, 'units': 'm'}), 'base': Position({'middle': 12.0, 'units': 'm'}), 'description': '', 'data': {}, 'components': [Component({'lithology': 'dolomite', 'colour': 'cyan'})]}),\n",
       " Interval({'top': Position({'middle': 12.0, 'units': 'm'}), 'base': Position({'middle': 15.0, 'units': 'm'}), 'description': '', 'data': {}, 'components': [Component({'lithology': 'clay', 'colour': 'red'})]}),\n",
       " Interval({'top': Position({'middle': 15.0, 'units': 'm'}), 'base': Position({'middle': 18.0, 'units': 'm'}), 'description': '', 'data': {}, 'components': [Component({'lithology': 'limestone', 'colour': 'yellow'})]}),\n",
       " Interval({'top': Position({'middle': 18.0, 'units': 'm'}), 'base': Position({'middle': 23.0, 'units': 'm'}), 'description': '', 'data': {}, 'components': [Component({'lithology': 'coal', 'colour': 'saddlebrown'})]})]"
      ]
     },
     "execution_count": 8,
     "metadata": {},
     "output_type": "execute_result"
    }
   ],
   "source": [
    "bh3D.intervals"
   ]
  },
  {
   "cell_type": "code",
   "execution_count": 9,
   "id": "070d507d",
   "metadata": {},
   "outputs": [],
   "source": [
    "warnings.filterwarnings(\"ignore\", message=r\".+ matplotlibDeprecationWarning: .+\")"
   ]
  },
  {
   "cell_type": "code",
   "execution_count": 10,
   "id": "02e2e748",
   "metadata": {
    "scrolled": false
   },
   "outputs": [
    {
     "name": "stderr",
     "output_type": "stream",
     "text": [
      "/home/yanathan/.local/share/virtualenvs/GSDMA-DRfwm83x/lib/python3.8/site-packages/striplog/striplog.py:1505: MatplotlibDeprecationWarning: hatch must consist of a string of \"*+-./OX\\ox|\" or None, but found the following invalid values \"s\". Passing invalid values is deprecated since 3.4 and will become an error two minor releases later.\n",
      "  rect = mpl.patches.Rectangle(origin,\n",
      "/home/yanathan/.local/share/virtualenvs/GSDMA-DRfwm83x/lib/python3.8/site-packages/striplog/striplog.py:1505: MatplotlibDeprecationWarning: hatch must consist of a string of \"*+-./OX\\ox|\" or None, but found the following invalid values \"t\". Passing invalid values is deprecated since 3.4 and will become an error two minor releases later.\n",
      "  rect = mpl.patches.Rectangle(origin,\n",
      "/home/yanathan/.local/share/virtualenvs/GSDMA-DRfwm83x/lib/python3.8/site-packages/striplog/legend.py:311: MatplotlibDeprecationWarning: hatch must consist of a string of \"*+-./OX\\ox|\" or None, but found the following invalid values \"t\". Passing invalid values is deprecated since 3.4 and will become an error two minor releases later.\n",
      "  rect1 = patches.Rectangle((0, 0),\n",
      "/home/yanathan/.local/share/virtualenvs/GSDMA-DRfwm83x/lib/python3.8/site-packages/striplog/legend.py:311: MatplotlibDeprecationWarning: hatch must consist of a string of \"*+-./OX\\ox|\" or None, but found the following invalid values \"s\". Passing invalid values is deprecated since 3.4 and will become an error two minor releases later.\n",
      "  rect1 = patches.Rectangle((0, 0),\n"
     ]
    },
    {
     "data": {
      "image/png": "[encoded data removed]",
      "text/plain": [
       "<Figure size 432x432 with 9 Axes>"
      ]
     },
     "metadata": {
      "needs_background": "light"
     },
     "output_type": "display_data"
    }
   ],
   "source": [
    "bh3D.plot2d()"
   ]
  },
  {
   "cell_type": "code",
   "execution_count": 11,
   "id": "5d5838a0",
   "metadata": {
    "scrolled": false
   },
   "outputs": [
    {
     "data": {
      "application/vnd.jupyter.widget-view+json": {
       "model_id": "8460aee931654eec859000381329b8b0",
       "version_major": 2,
       "version_minor": 0
      },
      "text/plain": [
       "ViewInteractiveWidget(height=768, layout=Layout(height='auto', width='100%'), width=1024)"
      ]
     },
     "metadata": {},
     "output_type": "display_data"
    }
   ],
   "source": [
    "bh3D.plot3d()"
   ]
  },
  {
   "cell_type": "code",
   "execution_count": 12,
   "id": "sticky-parliament",
   "metadata": {},
   "outputs": [
    {
     "name": "stdout",
     "output_type": "stream",
     "text": [
      "{'lithology': 'siltstone', 'colour': 'orange'}\n",
      "Borehole geometry created successfully !\n",
      "Borehole geometry created successfully !\n",
      "{'lithology': 'siltstone', 'colour': 'orange'}\n",
      "Borehole geometry created successfully !\n",
      "Borehole geometry created successfully !\n",
      "{'lithology': 'siltstone', 'colour': 'orange'}\n",
      "Borehole geometry created successfully !\n",
      "Borehole geometry created successfully !\n",
      "{'lithology': 'siltstone', 'colour': 'orange'}\n",
      "Borehole geometry created successfully !\n",
      "Borehole geometry created successfully !\n",
      "{'lithology': 'siltstone', 'colour': 'orange'}\n",
      "Borehole geometry created successfully !\n",
      "Borehole geometry created successfully !\n",
      "{'lithology': 'siltstone', 'colour': 'orange'}\n",
      "Borehole geometry created successfully !\n",
      "Borehole geometry created successfully !\n",
      "{'lithology': 'siltstone', 'colour': 'orange'}\n",
      "Borehole geometry created successfully !\n",
      "Borehole geometry created successfully !\n",
      "{'lithology': 'siltstone', 'colour': 'orange'}\n",
      "Borehole geometry created successfully !\n",
      "Borehole geometry created successfully !\n",
      "{'lithology': 'siltstone', 'colour': 'orange'}\n",
      "Borehole geometry created successfully !\n",
      "Borehole geometry created successfully !\n",
      "{'lithology': 'siltstone', 'colour': 'orange'}\n",
      "Borehole geometry created successfully !\n",
      "Borehole geometry created successfully !\n",
      "{'lithology': 'siltstone', 'colour': 'orange'}\n",
      "Borehole geometry created successfully !\n",
      "Borehole geometry created successfully !\n",
      "{'lithology': 'siltstone', 'colour': 'orange'}\n",
      "Borehole geometry created successfully !\n",
      "Borehole geometry created successfully !\n",
      "{'lithology': 'siltstone', 'colour': 'orange'}\n",
      "Borehole geometry created successfully !\n",
      "Borehole geometry created successfully !\n",
      "{'lithology': 'siltstone', 'colour': 'orange'}\n",
      "Borehole geometry created successfully !\n",
      "Borehole geometry created successfully !\n",
      "{'lithology': 'siltstone', 'colour': 'orange'}\n",
      "Borehole geometry created successfully !\n",
      "Borehole geometry created successfully !\n",
      "{'lithology': 'siltstone', 'colour': 'orange'}\n",
      "Borehole geometry created successfully !\n",
      "Borehole geometry created successfully !\n",
      "{'lithology': 'siltstone', 'colour': 'orange'}\n",
      "Borehole geometry created successfully !\n",
      "Borehole geometry created successfully !\n",
      "{'lithology': 'siltstone', 'colour': 'orange'}\n",
      "Borehole geometry created successfully !\n",
      "Borehole geometry created successfully !\n",
      "{'lithology': 'siltstone', 'colour': 'orange'}\n",
      "Borehole geometry created successfully !\n",
      "Borehole geometry created successfully !\n",
      "{'lithology': 'siltstone', 'colour': 'orange'}\n",
      "Borehole geometry created successfully !\n",
      "Borehole geometry created successfully !\n",
      "{'lithology': 'siltstone', 'colour': 'orange'}\n",
      "Borehole geometry created successfully !\n",
      "Borehole geometry created successfully !\n",
      "{'lithology': 'siltstone', 'colour': 'orange'}\n",
      "Borehole geometry created successfully !\n",
      "Borehole geometry created successfully !\n",
      "{'lithology': 'siltstone', 'colour': 'orange'}\n",
      "Borehole geometry created successfully !\n",
      "Borehole geometry created successfully !\n",
      "{'lithology': 'siltstone', 'colour': 'orange'}\n",
      "Borehole geometry created successfully !\n",
      "Borehole geometry created successfully !\n",
      "{'lithology': 'siltstone', 'colour': 'orange'}\n",
      "Borehole geometry created successfully !\n",
      "Borehole geometry created successfully !\n",
      "{'lithology': 'siltstone', 'colour': 'orange'}\n",
      "Borehole geometry created successfully !\n",
      "Borehole geometry created successfully !\n",
      "{'lithology': 'siltstone', 'colour': 'orange'}\n",
      "Borehole geometry created successfully !\n",
      "Borehole geometry created successfully !\n",
      "{'lithology': 'siltstone', 'colour': 'orange'}\n",
      "Borehole geometry created successfully !\n",
      "Borehole geometry created successfully !\n",
      "{'lithology': 'siltstone', 'colour': 'orange'}\n",
      "Borehole geometry created successfully !\n",
      "Borehole geometry created successfully !\n",
      "{'lithology': 'siltstone', 'colour': 'orange'}\n",
      "Borehole geometry created successfully !\n",
      "Borehole geometry created successfully !\n",
      "{'lithology': 'siltstone', 'colour': 'orange'}\n",
      "Borehole geometry created successfully !\n",
      "Borehole geometry created successfully !\n",
      "{'lithology': 'siltstone', 'colour': 'orange'}\n",
      "Borehole geometry created successfully !\n",
      "Borehole geometry created successfully !\n"
     ]
    }
   ],
   "source": [
    "bhs = [Borehole3D(intervals, legend=legend, name='BH_test', \n",
    "                  x_collar=pos[0], y_collar=pos[1], z_collar=101.5) for pos in zip(np.arange(150005, 150100,3), np.arange(121005, 121100, 0.5))]"
   ]
  },
  {
   "cell_type": "code",
   "execution_count": 13,
   "id": "59167569",
   "metadata": {},
   "outputs": [],
   "source": [
    "warnings.filterwarnings(\"ignore\", message = r\".+ matplotlibDeprecationWarning: .+\" )"
   ]
  },
  {
   "cell_type": "code",
   "execution_count": 14,
   "id": "1a94676e",
   "metadata": {},
   "outputs": [],
   "source": [
    "import pyvista as pv, omfvista as ov, omf"
   ]
  },
  {
   "cell_type": "code",
   "execution_count": 15,
   "id": "alien-variety",
   "metadata": {},
   "outputs": [],
   "source": [
    "pl = pv.Plotter()"
   ]
  },
  {
   "cell_type": "code",
   "execution_count": 16,
   "id": "sporting-athletics",
   "metadata": {},
   "outputs": [],
   "source": [
    "for i in bhs:\n",
    "    pl.add_mesh(i._vtk, cmap=i.omf_cmap) #, clim=[-0.1, len(i.omf_cmap.colors)-1])"
   ]
  },
  {
   "cell_type": "raw",
   "id": "distant-russell",
   "metadata": {},
   "source": [
    "pl.add_mesh(bh3D._vtk, cmap=bh3D.omf_cmap)"
   ]
  },
  {
   "cell_type": "code",
   "execution_count": 17,
   "id": "accessible-disco",
   "metadata": {},
   "outputs": [
    {
     "data": {
      "text/plain": [
       "(vtkmodules.vtkRenderingAnnotation.vtkAnnotatedCubeActor)0x7f671e9ac460"
      ]
     },
     "execution_count": 17,
     "metadata": {},
     "output_type": "execute_result"
    }
   ],
   "source": [
    "pl.add_axes(box=True)"
   ]
  },
  {
   "cell_type": "code",
   "execution_count": 18,
   "id": "framed-trance",
   "metadata": {},
   "outputs": [
    {
     "data": {
      "application/vnd.jupyter.widget-view+json": {
       "model_id": "d93d9b81c6494e77b01925af4e5b5ab9",
       "version_major": 2,
       "version_minor": 0
      },
      "text/plain": [
       "ViewInteractiveWidget(height=768, layout=Layout(height='auto', width='100%'), width=1024)"
      ]
     },
     "metadata": {},
     "output_type": "display_data"
    }
   ],
   "source": [
    "pl.show()"
   ]
  },
  {
   "cell_type": "code",
   "execution_count": 19,
   "id": "5d727a99",
   "metadata": {},
   "outputs": [
    {
     "ename": "NameError",
     "evalue": "name 'pause' is not defined",
     "output_type": "error",
     "traceback": [
      "\u001b[0;31m---------------------------------------------------------------------------\u001b[0m",
      "\u001b[0;31mNameError\u001b[0m                                 Traceback (most recent call last)",
      "\u001b[0;32m<ipython-input-19-34d6930c0341>\u001b[0m in \u001b[0;36m<module>\u001b[0;34m\u001b[0m\n\u001b[0;32m----> 1\u001b[0;31m \u001b[0mpause\u001b[0m\u001b[0;34m\u001b[0m\u001b[0;34m\u001b[0m\u001b[0m\n\u001b[0m",
      "\u001b[0;31mNameError\u001b[0m: name 'pause' is not defined"
     ]
    }
   ],
   "source": [
    "pause"
   ]
  },
  {
   "cell_type": "code",
   "execution_count": 22,
   "id": "0a50e2df",
   "metadata": {},
   "outputs": [],
   "source": [
    "pts = {}\n",
    "for bh in bhs:\n",
    "    bh.plot3d(plotter=pl)\n",
    "    pts.update({bh.name: bh._vtk.center[:2]+[0]})"
   ]
  },
  {
   "cell_type": "code",
   "execution_count": 23,
   "id": "98600f4c",
   "metadata": {},
   "outputs": [
    {
     "data": {
      "text/plain": [
       "(vtkmodules.vtkRenderingCore.vtkActor2D)0x7f66edfdb340"
      ]
     },
     "execution_count": 23,
     "metadata": {},
     "output_type": "execute_result"
    }
   ],
   "source": [
    "pv_pts = pv.PolyData(np.array(list(pts.values())))\n",
    "pv_pts['bh_name'] = list(pts.keys())\n",
    "pl.add_point_labels(pv_pts, 'bh_name', point_size=1, font_size=15,\n",
    "                    text_color='black', show_points=False)"
   ]
  },
  {
   "cell_type": "raw",
   "id": "344c80c4",
   "metadata": {},
   "source": [
    "import matplotlib.pyplot as plt\n",
    "import numpy as np\n",
    "import matplotlib.colors as colors\n",
    "from mpl_toolkits.axes_grid1 import make_axes_locatable\n",
    "\n",
    "res = np.array([[0, 2], [3, 4]], dtype = int)\n",
    "#print(res)\n",
    "\n",
    "u = np.unique(res) # transform multi-components array to one-listed array\n",
    "#print(u, np.diff(u)/2)\n",
    "\n",
    "bounds = np.concatenate(([res.min()-1],u[:-1]+np.diff(u)/2.,[res.max()+1]))\n",
    "#print(bounds)\n",
    "\n",
    "#Generate a colormap index based on discrete intervals (Monotonically increasing!).\n",
    "norm = colors.BoundaryNorm(bounds, len(bounds)-1) \n",
    "#print(norm)\n",
    "\n",
    "colors_list = ['#7fc97f', '#ffff99','#386cb0', '#f0027f']\n",
    "color_map = colors.ListedColormap(colors_list)\n",
    "\n",
    "fig, axes = plt.subplots()\n",
    "img = axes.imshow(res, cmap = color_map, norm = norm) # return data as image\n",
    "divider = make_axes_locatable(axes)\n",
    "cax = divider.append_axes(\"right\", size =\"5 %\", pad=0.5)\n",
    "\n",
    "color_bar = plt.colorbar(img, cmap = color_map, \n",
    "                         norm = norm, cax = cax)\n",
    "\n",
    "color_bar.set_ticks(bounds[:-1]+np.diff(bounds)/2.)\n",
    "color_bar.ax.set_yticklabels(colors_list)\n",
    "color_bar.ax.tick_params(labelsize = 15)\n",
    "\n",
    "plt.show()"
   ]
  },
  {
   "cell_type": "raw",
   "id": "136468ec",
   "metadata": {},
   "source": [
    "import matplotlib.pyplot as plt\n",
    "import numpy as np\n",
    "import matplotlib.colors\n",
    "\n",
    "a = np.linspace(-3, 3, num=18)\n",
    "print(a)\n",
    "A, B = np.meshgrid(a, a)\n",
    "X = np.exp(-(A**2 + B**2))\n",
    "figure, (axes1, axes2) = plt.subplots(ncols = 2)\n",
    "\n",
    "colors =[\"green\", \"orange\",\"gold\", \"blue\", \"k\",\"#550011\", \"purple\",\"red\"]\n",
    "\n",
    "axes1.set_title(\" color list\")\n",
    "contour = axes1.contourf(A, B, X,colors = colors)\n",
    "\n",
    "axes2.set_title(\"with colormap\")\n",
    "cmap = matplotlib.colors.ListedColormap(colors)\n",
    "contour = axes2.contourf(A, B, X, cmap = cmap)\n",
    "figure.colorbar(contour)\n",
    "\n",
    "plt.show()\n"
   ]
  },
  {
   "cell_type": "code",
   "execution_count": null,
   "id": "65bd0e0c",
   "metadata": {},
   "outputs": [],
   "source": []
  }
 ],
 "metadata": {
  "kernelspec": {
   "display_name": "Python 3",
   "language": "python",
   "name": "python3"
  },
  "language_info": {
   "codemirror_mode": {
    "name": "ipython",
    "version": 3
   },
   "file_extension": ".py",
   "mimetype": "text/x-python",
   "name": "python",
   "nbconvert_exporter": "python",
   "pygments_lexer": "ipython3",
   "version": "3.8.5"
  }
 },
 "nbformat": 4,
 "nbformat_minor": 5
}
