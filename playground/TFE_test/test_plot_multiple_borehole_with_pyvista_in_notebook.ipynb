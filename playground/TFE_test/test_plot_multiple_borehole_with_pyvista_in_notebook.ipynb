{
 "cells": [
  {
   "cell_type": "markdown",
   "id": "b4b62ec3",
   "metadata": {},
   "source": [
    "# Vedo_GSDMA_test"
   ]
  },
  {
   "cell_type": "code",
   "execution_count": 16,
   "id": "a187f18b",
   "metadata": {},
   "outputs": [],
   "source": [
    "import vedo as vd #Plotter, Mesh, Points, Line, Lines, embedWindow #, printc, exportWindow, settings\n",
    "\n",
    "import matplotlib.colors as mcolors\n",
    "import random\n",
    "import pandas as pd\n",
    "import scipy.spatial as ssp\n",
    "import numpy as np\n",
    "\n",
    "vd.embedWindow(False)\n",
    "#vd.settings.embedWindow(backend='ipyvtk') # to plot in jupyter notebook but very slow !"
   ]
  },
  {
   "cell_type": "raw",
   "id": "793a4e75",
   "metadata": {},
   "source": [
    "vd.settings.useFXAA = True\n",
    "vd.settings.usingQt = True"
   ]
  },
  {
   "cell_type": "code",
   "execution_count": 17,
   "id": "269d2968",
   "metadata": {},
   "outputs": [
    {
     "data": {
      "text/plain": [
       "'/home/su530201/PycharmProjects/GSDMA/playground/TFE_test'"
      ]
     },
     "execution_count": 17,
     "metadata": {},
     "output_type": "execute_result"
    }
   ],
   "source": [
    "pwd"
   ]
  },
  {
   "cell_type": "markdown",
   "id": "70d54f7f",
   "metadata": {},
   "source": [
    "### Create a plotter"
   ]
  },
  {
   "cell_type": "code",
   "execution_count": 18,
   "id": "f88cd050",
   "metadata": {},
   "outputs": [],
   "source": [
    "plt3d = vd.Plotter(axes=dict(xtitle='m', ytitle='m', ztitle='m', yzGrid=False), \n",
    "                   size=(1000,600)) "
   ]
  },
  {
   "cell_type": "markdown",
   "id": "db3ac73f",
   "metadata": {},
   "source": [
    "# Test with Borehole3D objects"
   ]
  },
  {
   "cell_type": "code",
   "execution_count": 19,
   "id": "228a8e3a",
   "metadata": {},
   "outputs": [],
   "source": [
    "import matplotlib.pyplot as plt\n",
    "from striplog import Component, Decor, Legend, Interval, Lexicon\n",
    "from core.omf import Borehole3D, striplog_legend_to_omf_legend \n",
    "from definitions import ROOT_DIR"
   ]
  },
  {
   "cell_type": "code",
   "execution_count": 20,
   "id": "b8d6a513",
   "metadata": {},
   "outputs": [],
   "source": [
    "components = [Component({'lithology': 'siltstone', 'colour': 'orange'}),\n",
    "              Component({'lithology': 'anhydrite', 'colour': 'green'}),\n",
    "              Component({'lithology': 'sandstone', 'grainsize': 'vf-f', 'colour': 'brown'}),\n",
    "              Component({'lithology': 'dolomite', 'colour': 'cyan'}),\n",
    "              Component({'lithology': 'siltstone', 'colour': 'red'}),\n",
    "              Component({'lithology': 'limestone', 'colour':'yellow'})]\n",
    "list_of_decors=[]\n",
    "hatches = ['+', 'x', '.', 's', '*', 'b']\n",
    "colours = ['#888888', '#882222', '#AAAAAA', '#CC22CC', '#CC2222', '#2222CC']\n",
    "\n",
    "for i in range(len(components)):\n",
    "    if hasattr(components[i], 'colour'):\n",
    "        c = components[i].colour\n",
    "    else:\n",
    "        c=colours[i]\n",
    "    \n",
    "    if hasattr(components[i], 'hatch'):\n",
    "        h = components[i].hatch\n",
    "    else:\n",
    "        h=hatches[i]\n",
    "        \n",
    "    d = {'color': c,\n",
    "         'hatch': h,\n",
    "         'component': components[i],\n",
    "         'width': 3}\n",
    "    decor = Decor(d)\n",
    "    list_of_decors.append(decor)\n",
    "    \n",
    "legend = Legend(list_of_decors)\n",
    "lexicon=Lexicon.default()"
   ]
  },
  {
   "cell_type": "code",
   "execution_count": 21,
   "id": "97c32fed",
   "metadata": {},
   "outputs": [],
   "source": [
    "intervals=[]\n",
    "top=[0,2,4,6,8,10]\n",
    "base=[2,4,6,8,10,12]\n",
    "for i in range(len(components)):     \n",
    "    intervals.append(Interval(top=top[i], base=base[i], \n",
    "                              components=[components[i]],\n",
    "                              lexicon=lexicon))"
   ]
  },
  {
   "cell_type": "code",
   "execution_count": 22,
   "id": "63c3c621",
   "metadata": {},
   "outputs": [
    {
     "name": "stdout",
     "output_type": "stream",
     "text": [
      "Borehole geometry created successfully !\n",
      "Borehole geometry created successfully !\n"
     ]
    }
   ],
   "source": [
    "bh3D = Borehole3D(intervals, legend=legend, name='BH_test', \n",
    "                  x_collar=152300, y_collar=121750, z_collar=101.5)"
   ]
  },
  {
   "cell_type": "code",
   "execution_count": 23,
   "id": "02e2e748",
   "metadata": {},
   "outputs": [
    {
     "name": "stderr",
     "output_type": "stream",
     "text": [
      "/home/su530201/.local/share/virtualenvs/GSDMA-tJb-HgI6/lib/python3.8/site-packages/striplog/striplog.py:1505: MatplotlibDeprecationWarning: hatch must consist of a string of \"*+-./OX\\ox|\" or None, but found the following invalid values \"s\". Passing invalid values is deprecated since 3.4 and will become an error two minor releases later.\n",
      "  rect = mpl.patches.Rectangle(origin,\n",
      "/home/su530201/.local/share/virtualenvs/GSDMA-tJb-HgI6/lib/python3.8/site-packages/striplog/striplog.py:1505: MatplotlibDeprecationWarning: hatch must consist of a string of \"*+-./OX\\ox|\" or None, but found the following invalid values \"b\". Passing invalid values is deprecated since 3.4 and will become an error two minor releases later.\n",
      "  rect = mpl.patches.Rectangle(origin,\n",
      "/home/su530201/.local/share/virtualenvs/GSDMA-tJb-HgI6/lib/python3.8/site-packages/striplog/legend.py:311: MatplotlibDeprecationWarning: hatch must consist of a string of \"*+-./OX\\ox|\" or None, but found the following invalid values \"b\". Passing invalid values is deprecated since 3.4 and will become an error two minor releases later.\n",
      "  rect1 = patches.Rectangle((0, 0),\n",
      "/home/su530201/.local/share/virtualenvs/GSDMA-tJb-HgI6/lib/python3.8/site-packages/striplog/legend.py:311: MatplotlibDeprecationWarning: hatch must consist of a string of \"*+-./OX\\ox|\" or None, but found the following invalid values \"s\". Passing invalid values is deprecated since 3.4 and will become an error two minor releases later.\n",
      "  rect1 = patches.Rectangle((0, 0),\n"
     ]
    },
    {
     "data": {
      "image/png": "[encoded data removed]",
      "text/plain": [
       "<Figure size 432x432 with 8 Axes>"
      ]
     },
     "metadata": {
      "needs_background": "light"
     },
     "output_type": "display_data"
    }
   ],
   "source": [
    "bh3D.log_plot()"
   ]
  },
  {
   "cell_type": "code",
   "execution_count": 24,
   "id": "5d5838a0",
   "metadata": {},
   "outputs": [
    {
     "data": {
      "application/vnd.jupyter.widget-view+json": {
       "model_id": "e266b3c087a94d95810cf96d54ab8aaf",
       "version_major": 2,
       "version_minor": 0
      },
      "text/plain": [
       "ViewInteractiveWidget(height=768, layout=Layout(height='auto', width='100%'), width=1024)"
      ]
     },
     "metadata": {},
     "output_type": "display_data"
    }
   ],
   "source": [
    "bh3D.plot3d()"
   ]
  },
  {
   "cell_type": "code",
   "execution_count": 25,
   "id": "sticky-parliament",
   "metadata": {},
   "outputs": [
    {
     "name": "stdout",
     "output_type": "stream",
     "text": [
      "Borehole geometry created successfully !\n",
      "Borehole geometry created successfully !\n",
      "Borehole geometry created successfully !\n",
      "Borehole geometry created successfully !\n",
      "Borehole geometry created successfully !\n",
      "Borehole geometry created successfully !\n",
      "Borehole geometry created successfully !\n",
      "Borehole geometry created successfully !\n",
      "Borehole geometry created successfully !\n",
      "Borehole geometry created successfully !\n",
      "Borehole geometry created successfully !\n",
      "Borehole geometry created successfully !\n",
      "Borehole geometry created successfully !\n",
      "Borehole geometry created successfully !\n",
      "Borehole geometry created successfully !\n",
      "Borehole geometry created successfully !\n",
      "Borehole geometry created successfully !\n",
      "Borehole geometry created successfully !\n",
      "Borehole geometry created successfully !\n",
      "Borehole geometry created successfully !\n",
      "Borehole geometry created successfully !\n",
      "Borehole geometry created successfully !\n",
      "Borehole geometry created successfully !\n",
      "Borehole geometry created successfully !\n",
      "Borehole geometry created successfully !\n",
      "Borehole geometry created successfully !\n",
      "Borehole geometry created successfully !\n",
      "Borehole geometry created successfully !\n",
      "Borehole geometry created successfully !\n",
      "Borehole geometry created successfully !\n",
      "Borehole geometry created successfully !\n",
      "Borehole geometry created successfully !\n",
      "Borehole geometry created successfully !\n",
      "Borehole geometry created successfully !\n",
      "Borehole geometry created successfully !\n",
      "Borehole geometry created successfully !\n",
      "Borehole geometry created successfully !\n",
      "Borehole geometry created successfully !\n",
      "Borehole geometry created successfully !\n",
      "Borehole geometry created successfully !\n",
      "Borehole geometry created successfully !\n",
      "Borehole geometry created successfully !\n",
      "Borehole geometry created successfully !\n",
      "Borehole geometry created successfully !\n",
      "Borehole geometry created successfully !\n",
      "Borehole geometry created successfully !\n",
      "Borehole geometry created successfully !\n",
      "Borehole geometry created successfully !\n",
      "Borehole geometry created successfully !\n",
      "Borehole geometry created successfully !\n",
      "Borehole geometry created successfully !\n",
      "Borehole geometry created successfully !\n",
      "Borehole geometry created successfully !\n",
      "Borehole geometry created successfully !\n",
      "Borehole geometry created successfully !\n",
      "Borehole geometry created successfully !\n",
      "Borehole geometry created successfully !\n",
      "Borehole geometry created successfully !\n",
      "Borehole geometry created successfully !\n",
      "Borehole geometry created successfully !\n",
      "Borehole geometry created successfully !\n",
      "Borehole geometry created successfully !\n",
      "Borehole geometry created successfully !\n",
      "Borehole geometry created successfully !\n",
      "Borehole geometry created successfully !\n",
      "Borehole geometry created successfully !\n",
      "Borehole geometry created successfully !\n",
      "Borehole geometry created successfully !\n",
      "Borehole geometry created successfully !\n",
      "Borehole geometry created successfully !\n",
      "Borehole geometry created successfully !\n",
      "Borehole geometry created successfully !\n",
      "Borehole geometry created successfully !\n",
      "Borehole geometry created successfully !\n",
      "Borehole geometry created successfully !\n",
      "Borehole geometry created successfully !\n",
      "Borehole geometry created successfully !\n",
      "Borehole geometry created successfully !\n",
      "Borehole geometry created successfully !\n",
      "Borehole geometry created successfully !\n",
      "Borehole geometry created successfully !\n",
      "Borehole geometry created successfully !\n",
      "Borehole geometry created successfully !\n",
      "Borehole geometry created successfully !\n",
      "Borehole geometry created successfully !\n",
      "Borehole geometry created successfully !\n",
      "Borehole geometry created successfully !\n",
      "Borehole geometry created successfully !\n",
      "Borehole geometry created successfully !\n",
      "Borehole geometry created successfully !\n",
      "Borehole geometry created successfully !\n",
      "Borehole geometry created successfully !\n",
      "Borehole geometry created successfully !\n",
      "Borehole geometry created successfully !\n",
      "Borehole geometry created successfully !\n",
      "Borehole geometry created successfully !\n",
      "Borehole geometry created successfully !\n",
      "Borehole geometry created successfully !\n",
      "Borehole geometry created successfully !\n",
      "Borehole geometry created successfully !\n",
      "Borehole geometry created successfully !\n",
      "Borehole geometry created successfully !\n",
      "Borehole geometry created successfully !\n",
      "Borehole geometry created successfully !\n",
      "Borehole geometry created successfully !\n",
      "Borehole geometry created successfully !\n",
      "Borehole geometry created successfully !\n",
      "Borehole geometry created successfully !\n",
      "Borehole geometry created successfully !\n",
      "Borehole geometry created successfully !\n",
      "Borehole geometry created successfully !\n",
      "Borehole geometry created successfully !\n",
      "Borehole geometry created successfully !\n",
      "Borehole geometry created successfully !\n",
      "Borehole geometry created successfully !\n",
      "Borehole geometry created successfully !\n",
      "Borehole geometry created successfully !\n",
      "Borehole geometry created successfully !\n",
      "Borehole geometry created successfully !\n",
      "Borehole geometry created successfully !\n",
      "Borehole geometry created successfully !\n",
      "Borehole geometry created successfully !\n",
      "Borehole geometry created successfully !\n",
      "Borehole geometry created successfully !\n",
      "Borehole geometry created successfully !\n",
      "Borehole geometry created successfully !\n",
      "Borehole geometry created successfully !\n",
      "Borehole geometry created successfully !\n",
      "Borehole geometry created successfully !\n",
      "Borehole geometry created successfully !\n",
      "Borehole geometry created successfully !\n",
      "Borehole geometry created successfully !\n",
      "Borehole geometry created successfully !\n",
      "Borehole geometry created successfully !\n",
      "Borehole geometry created successfully !\n",
      "Borehole geometry created successfully !\n",
      "Borehole geometry created successfully !\n",
      "Borehole geometry created successfully !\n",
      "Borehole geometry created successfully !\n",
      "Borehole geometry created successfully !\n",
      "Borehole geometry created successfully !\n",
      "Borehole geometry created successfully !\n",
      "Borehole geometry created successfully !\n",
      "Borehole geometry created successfully !\n",
      "Borehole geometry created successfully !\n",
      "Borehole geometry created successfully !\n",
      "Borehole geometry created successfully !\n",
      "Borehole geometry created successfully !\n",
      "Borehole geometry created successfully !\n",
      "Borehole geometry created successfully !\n",
      "Borehole geometry created successfully !\n",
      "Borehole geometry created successfully !\n",
      "Borehole geometry created successfully !\n",
      "Borehole geometry created successfully !\n",
      "Borehole geometry created successfully !\n",
      "Borehole geometry created successfully !\n",
      "Borehole geometry created successfully !\n",
      "Borehole geometry created successfully !\n",
      "Borehole geometry created successfully !\n",
      "Borehole geometry created successfully !\n",
      "Borehole geometry created successfully !\n",
      "Borehole geometry created successfully !\n",
      "Borehole geometry created successfully !\n",
      "Borehole geometry created successfully !\n",
      "Borehole geometry created successfully !\n",
      "Borehole geometry created successfully !\n",
      "Borehole geometry created successfully !\n",
      "Borehole geometry created successfully !\n",
      "Borehole geometry created successfully !\n",
      "Borehole geometry created successfully !\n",
      "Borehole geometry created successfully !\n",
      "Borehole geometry created successfully !\n",
      "Borehole geometry created successfully !\n",
      "Borehole geometry created successfully !\n",
      "Borehole geometry created successfully !\n",
      "Borehole geometry created successfully !\n",
      "Borehole geometry created successfully !\n",
      "Borehole geometry created successfully !\n",
      "Borehole geometry created successfully !\n",
      "Borehole geometry created successfully !\n",
      "Borehole geometry created successfully !\n",
      "Borehole geometry created successfully !\n",
      "Borehole geometry created successfully !\n",
      "Borehole geometry created successfully !\n",
      "Borehole geometry created successfully !\n",
      "Borehole geometry created successfully !\n",
      "Borehole geometry created successfully !\n",
      "Borehole geometry created successfully !\n",
      "Borehole geometry created successfully !\n",
      "Borehole geometry created successfully !\n",
      "Borehole geometry created successfully !\n",
      "Borehole geometry created successfully !\n",
      "Borehole geometry created successfully !\n",
      "Borehole geometry created successfully !\n",
      "Borehole geometry created successfully !\n",
      "Borehole geometry created successfully !\n",
      "Borehole geometry created successfully !\n",
      "Borehole geometry created successfully !\n",
      "Borehole geometry created successfully !\n",
      "Borehole geometry created successfully !\n",
      "Borehole geometry created successfully !\n",
      "Borehole geometry created successfully !\n",
      "Borehole geometry created successfully !\n",
      "Borehole geometry created successfully !\n",
      "Borehole geometry created successfully !\n",
      "Borehole geometry created successfully !\n",
      "Borehole geometry created successfully !\n",
      "Borehole geometry created successfully !\n",
      "Borehole geometry created successfully !\n",
      "Borehole geometry created successfully !\n",
      "Borehole geometry created successfully !\n",
      "Borehole geometry created successfully !\n"
     ]
    },
    {
     "name": "stdout",
     "output_type": "stream",
     "text": [
      "Borehole geometry created successfully !\n",
      "Borehole geometry created successfully !\n",
      "Borehole geometry created successfully !\n",
      "Borehole geometry created successfully !\n",
      "Borehole geometry created successfully !\n",
      "Borehole geometry created successfully !\n",
      "Borehole geometry created successfully !\n",
      "Borehole geometry created successfully !\n",
      "Borehole geometry created successfully !\n",
      "Borehole geometry created successfully !\n",
      "Borehole geometry created successfully !\n",
      "Borehole geometry created successfully !\n",
      "Borehole geometry created successfully !\n",
      "Borehole geometry created successfully !\n",
      "Borehole geometry created successfully !\n",
      "Borehole geometry created successfully !\n",
      "Borehole geometry created successfully !\n",
      "Borehole geometry created successfully !\n",
      "Borehole geometry created successfully !\n",
      "Borehole geometry created successfully !\n",
      "Borehole geometry created successfully !\n",
      "Borehole geometry created successfully !\n",
      "Borehole geometry created successfully !\n",
      "Borehole geometry created successfully !\n",
      "Borehole geometry created successfully !\n",
      "Borehole geometry created successfully !\n",
      "Borehole geometry created successfully !\n",
      "Borehole geometry created successfully !\n",
      "Borehole geometry created successfully !\n",
      "Borehole geometry created successfully !\n",
      "Borehole geometry created successfully !\n",
      "Borehole geometry created successfully !\n",
      "Borehole geometry created successfully !\n",
      "Borehole geometry created successfully !\n",
      "Borehole geometry created successfully !\n",
      "Borehole geometry created successfully !\n",
      "Borehole geometry created successfully !\n",
      "Borehole geometry created successfully !\n",
      "Borehole geometry created successfully !\n",
      "Borehole geometry created successfully !\n",
      "Borehole geometry created successfully !\n",
      "Borehole geometry created successfully !\n",
      "Borehole geometry created successfully !\n",
      "Borehole geometry created successfully !\n",
      "Borehole geometry created successfully !\n",
      "Borehole geometry created successfully !\n",
      "Borehole geometry created successfully !\n",
      "Borehole geometry created successfully !\n",
      "Borehole geometry created successfully !\n",
      "Borehole geometry created successfully !\n",
      "Borehole geometry created successfully !\n",
      "Borehole geometry created successfully !\n",
      "Borehole geometry created successfully !\n",
      "Borehole geometry created successfully !\n",
      "Borehole geometry created successfully !\n",
      "Borehole geometry created successfully !\n",
      "Borehole geometry created successfully !\n",
      "Borehole geometry created successfully !\n",
      "Borehole geometry created successfully !\n",
      "Borehole geometry created successfully !\n",
      "Borehole geometry created successfully !\n",
      "Borehole geometry created successfully !\n",
      "Borehole geometry created successfully !\n",
      "Borehole geometry created successfully !\n",
      "Borehole geometry created successfully !\n",
      "Borehole geometry created successfully !\n",
      "Borehole geometry created successfully !\n",
      "Borehole geometry created successfully !\n",
      "Borehole geometry created successfully !\n",
      "Borehole geometry created successfully !\n",
      "Borehole geometry created successfully !\n",
      "Borehole geometry created successfully !\n",
      "Borehole geometry created successfully !\n",
      "Borehole geometry created successfully !\n",
      "Borehole geometry created successfully !\n",
      "Borehole geometry created successfully !\n",
      "Borehole geometry created successfully !\n",
      "Borehole geometry created successfully !\n",
      "Borehole geometry created successfully !\n",
      "Borehole geometry created successfully !\n",
      "Borehole geometry created successfully !\n",
      "Borehole geometry created successfully !\n",
      "Borehole geometry created successfully !\n",
      "Borehole geometry created successfully !\n",
      "Borehole geometry created successfully !\n",
      "Borehole geometry created successfully !\n",
      "Borehole geometry created successfully !\n",
      "Borehole geometry created successfully !\n",
      "Borehole geometry created successfully !\n",
      "Borehole geometry created successfully !\n",
      "Borehole geometry created successfully !\n",
      "Borehole geometry created successfully !\n",
      "Borehole geometry created successfully !\n",
      "Borehole geometry created successfully !\n",
      "Borehole geometry created successfully !\n",
      "Borehole geometry created successfully !\n",
      "Borehole geometry created successfully !\n",
      "Borehole geometry created successfully !\n",
      "Borehole geometry created successfully !\n",
      "Borehole geometry created successfully !\n",
      "Borehole geometry created successfully !\n",
      "Borehole geometry created successfully !\n",
      "Borehole geometry created successfully !\n",
      "Borehole geometry created successfully !\n",
      "Borehole geometry created successfully !\n",
      "Borehole geometry created successfully !\n",
      "Borehole geometry created successfully !\n",
      "Borehole geometry created successfully !\n",
      "Borehole geometry created successfully !\n",
      "Borehole geometry created successfully !\n",
      "Borehole geometry created successfully !\n",
      "Borehole geometry created successfully !\n",
      "Borehole geometry created successfully !\n",
      "Borehole geometry created successfully !\n",
      "Borehole geometry created successfully !\n",
      "Borehole geometry created successfully !\n",
      "Borehole geometry created successfully !\n",
      "Borehole geometry created successfully !\n",
      "Borehole geometry created successfully !\n",
      "Borehole geometry created successfully !\n",
      "Borehole geometry created successfully !\n",
      "Borehole geometry created successfully !\n",
      "Borehole geometry created successfully !\n",
      "Borehole geometry created successfully !\n",
      "Borehole geometry created successfully !\n",
      "Borehole geometry created successfully !\n",
      "Borehole geometry created successfully !\n",
      "Borehole geometry created successfully !\n",
      "Borehole geometry created successfully !\n",
      "Borehole geometry created successfully !\n",
      "Borehole geometry created successfully !\n",
      "Borehole geometry created successfully !\n",
      "Borehole geometry created successfully !\n",
      "Borehole geometry created successfully !\n",
      "Borehole geometry created successfully !\n",
      "Borehole geometry created successfully !\n",
      "Borehole geometry created successfully !\n",
      "Borehole geometry created successfully !\n",
      "Borehole geometry created successfully !\n",
      "Borehole geometry created successfully !\n",
      "Borehole geometry created successfully !\n",
      "Borehole geometry created successfully !\n",
      "Borehole geometry created successfully !\n",
      "Borehole geometry created successfully !\n",
      "Borehole geometry created successfully !\n",
      "Borehole geometry created successfully !\n",
      "Borehole geometry created successfully !\n",
      "Borehole geometry created successfully !\n",
      "Borehole geometry created successfully !\n",
      "Borehole geometry created successfully !\n",
      "Borehole geometry created successfully !\n",
      "Borehole geometry created successfully !\n",
      "Borehole geometry created successfully !\n",
      "Borehole geometry created successfully !\n",
      "Borehole geometry created successfully !\n",
      "Borehole geometry created successfully !\n",
      "Borehole geometry created successfully !\n",
      "Borehole geometry created successfully !\n",
      "Borehole geometry created successfully !\n",
      "Borehole geometry created successfully !\n",
      "Borehole geometry created successfully !\n",
      "Borehole geometry created successfully !\n",
      "Borehole geometry created successfully !\n",
      "Borehole geometry created successfully !\n",
      "Borehole geometry created successfully !\n",
      "Borehole geometry created successfully !\n",
      "Borehole geometry created successfully !\n",
      "Borehole geometry created successfully !\n"
     ]
    }
   ],
   "source": [
    "bhs = [Borehole3D(intervals, legend=legend, name='BH_test', \n",
    "                  x_collar=pos[0], y_collar=pos[1], z_collar=101.5) for pos in zip(np.arange(150005, 150100, 0.5), np.arange(121005, 121100, 0.5))]"
   ]
  },
  {
   "cell_type": "code",
   "execution_count": 26,
   "id": "1a94676e",
   "metadata": {},
   "outputs": [],
   "source": [
    "import pyvista as pv, omfvista as ov, omf"
   ]
  },
  {
   "cell_type": "code",
   "execution_count": 27,
   "id": "alien-variety",
   "metadata": {},
   "outputs": [],
   "source": [
    "pl = pv.Plotter()"
   ]
  },
  {
   "cell_type": "code",
   "execution_count": 28,
   "id": "sporting-athletics",
   "metadata": {},
   "outputs": [],
   "source": [
    "for i in bhs:\n",
    "    pl.add_mesh(i._vtk, cmap=i.omf_cmap, clim=[-0.1, len(i.omf_cmap.colors)-1])"
   ]
  },
  {
   "cell_type": "raw",
   "id": "distant-russell",
   "metadata": {},
   "source": [
    "pl.add_mesh(bh3D._vtk, cmap=bh3D.omf_cmap)"
   ]
  },
  {
   "cell_type": "code",
   "execution_count": 29,
   "id": "accessible-disco",
   "metadata": {},
   "outputs": [
    {
     "data": {
      "text/plain": [
       "(vtkmodules.vtkRenderingAnnotation.vtkAnnotatedCubeActor)0x7fc1c9212760"
      ]
     },
     "execution_count": 29,
     "metadata": {},
     "output_type": "execute_result"
    }
   ],
   "source": [
    "pl.add_axes(box=True)"
   ]
  },
  {
   "cell_type": "code",
   "execution_count": 30,
   "id": "framed-trance",
   "metadata": {},
   "outputs": [
    {
     "data": {
      "application/vnd.jupyter.widget-view+json": {
       "model_id": "3cdfdb4bc0e642bf9a4dbe1c04b00d1d",
       "version_major": 2,
       "version_minor": 0
      },
      "text/plain": [
       "ViewInteractiveWidget(height=768, layout=Layout(height='auto', width='100%'), width=1024)"
      ]
     },
     "metadata": {},
     "output_type": "display_data"
    }
   ],
   "source": [
    "pl.show()"
   ]
  },
  {
   "cell_type": "code",
   "execution_count": null,
   "id": "dimensional-receiver",
   "metadata": {},
   "outputs": [],
   "source": []
  }
 ],
 "metadata": {
  "kernelspec": {
   "display_name": "Python 3",
   "language": "python",
   "name": "python3"
  },
  "language_info": {
   "codemirror_mode": {
    "name": "ipython",
    "version": 3
   },
   "file_extension": ".py",
   "mimetype": "text/x-python",
   "name": "python",
   "nbconvert_exporter": "python",
   "pygments_lexer": "ipython3",
   "version": "3.8.5"
  }
 },
 "nbformat": 4,
 "nbformat_minor": 5
}
