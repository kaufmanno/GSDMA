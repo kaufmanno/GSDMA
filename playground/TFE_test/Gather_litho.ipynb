{
 "cells": [
  {
   "cell_type": "markdown",
   "id": "finite-killing",
   "metadata": {},
   "source": [
    "# Data Gathering"
   ]
  },
  {
   "cell_type": "code",
   "execution_count": 1,
   "id": "loaded-theology",
   "metadata": {},
   "outputs": [],
   "source": [
    "%matplotlib inline"
   ]
  },
  {
   "cell_type": "code",
   "execution_count": 2,
   "id": "educational-barrier",
   "metadata": {},
   "outputs": [],
   "source": [
    "from utils.io import gdf_viewer, gdf_merger, data_validation, gdf_filter, fix_duplicates, compute_BH_length\n",
    "import re, os\n",
    "import numpy as np\n",
    "import geopandas as gpd\n",
    "import pandas as pd\n",
    "import datetime as dtm\n",
    "import matplotlib.pyplot as plt\n",
    "from definitions import ROOT_DIR"
   ]
  },
  {
   "cell_type": "code",
   "execution_count": 3,
   "id": "potential-pride",
   "metadata": {
    "scrolled": true
   },
   "outputs": [],
   "source": [
    "def files_search(work_dir, files_dict, prefix='', skip=None, details=False):   \n",
    "    \n",
    "    if skip is None:\n",
    "        skip = \"we don't want to skip a word\"\n",
    "        \n",
    "    for k in files_dict.keys():\n",
    "        tmp_list = []\n",
    "        for p,d,f in os.walk(work_dir):\n",
    "            for x in f:\n",
    "                add = False\n",
    "                if re.search(prefix,x,re.I) and not re.search(skip,x,re.I):\n",
    "                    add = True\n",
    "                    i = str(f'{p}/{x}')\n",
    "                else:\n",
    "                    add = False\n",
    "                    i=''\n",
    "                    \n",
    "                if re.search(k,i,re.I) and add:\n",
    "                    tmp_list.append(i)\n",
    "        tmp_list.sort()\n",
    "        files_dict.update({k:tmp_list})\n",
    "\n",
    "    for k,v in files_dict.items():\n",
    "        print(k,' \\t: ',len(v))\n",
    "    \n",
    "    if details: # Look filenames\n",
    "        which = files_dict.keys()\n",
    "\n",
    "        for w in which:\n",
    "            print('\\n+++++++++++++++++')\n",
    "            print(f'+  {w.upper()}\\t+ ')\n",
    "            print('+++++++++++++++++')\n",
    "            [print(i, '-', x) for i, x in enumerate(files_dict[w], 0)]    \n"
   ]
  },
  {
   "cell_type": "code",
   "execution_count": 4,
   "id": "representative-bunny",
   "metadata": {},
   "outputs": [],
   "source": [
    "def create_df(files, verbose=True): # find another name for this function\n",
    "    \"\"\"\n",
    "    create dataframes from files and test if they contain position informations\n",
    "    files: list of files name\n",
    "    \"\"\"\n",
    "    cnt = 0\n",
    "    dfs = []\n",
    "    for f in files:\n",
    "        cnt += 1\n",
    "        df = pd.read_csv(f, delimiter=',')\n",
    "        dfs.append(df)\n",
    "        \n",
    "        if verbose:\n",
    "            if 'X' in list(df.columns): msg = ' --> Coordinates'\n",
    "            else: msg = ' --> No coordinates'\n",
    "\n",
    "            print(f\"df{cnt} : {msg}\")\n",
    "            \n",
    "    return dfs"
   ]
  },
  {
   "cell_type": "code",
   "execution_count": 5,
   "id": "8b09082c",
   "metadata": {
    "scrolled": true
   },
   "outputs": [],
   "source": [
    "def dataset_overview(d, verbose=False): # check for same datasets in given files\n",
    "    \"\"\"d: dict\n",
    "    \"\"\"\n",
    "    l = len(d)\n",
    "    with_coord = []\n",
    "    no_coord = []\n",
    "    same = []\n",
    "    \n",
    "    for i in range(l-1):\n",
    "        for j in range(i,l):\n",
    "            a, b = create_df([d[i], d[j]], verbose)\n",
    "            if j != i:\n",
    "                if a.equals(b):\n",
    "                    same.append((i,j))\n",
    "            \n",
    "            if 'X' in list(b.columns) and j not in with_coord:\n",
    "                with_coord.append(j)\n",
    "            elif 'X' not in list(b.columns) and j not in no_coord:\n",
    "                no_coord.append(j)\n",
    "    \n",
    "    print(f'Same files:{same}\\nFiles with coordinates:{with_coord}\\nFiles without coordinates:{no_coord}')"
   ]
  },
  {
   "cell_type": "markdown",
   "id": "enhanced-noise",
   "metadata": {},
   "source": [
    "## Reading files"
   ]
  },
  {
   "cell_type": "code",
   "execution_count": 6,
   "id": "vanilla-bones",
   "metadata": {},
   "outputs": [],
   "source": [
    "work_dir = ROOT_DIR+'/CF_data/Result_traitem/'\n",
    "save_dir = ROOT_DIR+'/CF_data/Donnees_fusionnees/'"
   ]
  },
  {
   "cell_type": "code",
   "execution_count": 7,
   "id": "confused-pleasure",
   "metadata": {},
   "outputs": [],
   "source": [
    "# create my dictionary structure to retrieve good files (Keynames !!!)\n",
    "files_dict={'Borehole':0,'Piezometer':0,'Piezair':0,'Trench':0,'Litho':0,'Equipm':0,\n",
    "        'Measure':0,'Sample':0,'Analysis':0,'Facility':0}"
   ]
  },
  {
   "cell_type": "code",
   "execution_count": 8,
   "id": "compliant-sensitivity",
   "metadata": {
    "scrolled": true
   },
   "outputs": [
    {
     "name": "stdout",
     "output_type": "stream",
     "text": [
      "Borehole  \t:  7\n",
      "Piezometer  \t:  17\n",
      "Piezair  \t:  2\n",
      "Trench  \t:  1\n",
      "Litho  \t:  7\n",
      "Equipm  \t:  3\n",
      "Measure  \t:  6\n",
      "Sample  \t:  27\n",
      "Analysis  \t:  21\n",
      "Facility  \t:  4\n"
     ]
    }
   ],
   "source": [
    "files_search(work_dir, files_dict, prefix='', skip='source')"
   ]
  },
  {
   "cell_type": "code",
   "execution_count": 9,
   "id": "possible-bones",
   "metadata": {},
   "outputs": [],
   "source": [
    "how=['inner', 'outer', 'left', 'right']"
   ]
  },
  {
   "cell_type": "code",
   "execution_count": 10,
   "id": "national-boards",
   "metadata": {},
   "outputs": [],
   "source": [
    "f = False\n",
    "t = True"
   ]
  },
  {
   "cell_type": "markdown",
   "id": "d2929d93",
   "metadata": {},
   "source": [
    "# ----------------------------------------------------------------------"
   ]
  },
  {
   "cell_type": "code",
   "execution_count": 11,
   "id": "3c4aae6a",
   "metadata": {},
   "outputs": [
    {
     "data": {
      "text/plain": [
       "['/home/yanathan/Projects/GSDMA/CF_data/Result_traitem/database_Memoris3/Drains_Pz_ENEL_Lithology.csv',\n",
       " '/home/yanathan/Projects/GSDMA/CF_data/Result_traitem/database_Memoris3/Profils_sol_Lithology.csv',\n",
       " '/home/yanathan/Projects/GSDMA/CF_data/Result_traitem/database_Memoris3/Result_sol_Lithology.csv',\n",
       " '/home/yanathan/Projects/GSDMA/CF_data/Result_traitem/donnees_terrain_2019/Log_Lithology.csv',\n",
       " '/home/yanathan/Projects/GSDMA/CF_data/Result_traitem/profils_sols_donnees_forages/Log_Lithology.csv',\n",
       " '/home/yanathan/Projects/GSDMA/CF_data/Result_traitem/vUmons_logsFor/Sond2017v2_Lithology.csv',\n",
       " '/home/yanathan/Projects/GSDMA/CF_data/Result_traitem/vUmons_logsFor/Synthese_Lithology.csv']"
      ]
     },
     "execution_count": 11,
     "metadata": {},
     "output_type": "execute_result"
    }
   ],
   "source": [
    "files_dict['Litho']"
   ]
  },
  {
   "cell_type": "code",
   "execution_count": 12,
   "id": "b234d1f9",
   "metadata": {},
   "outputs": [
    {
     "data": {
      "text/plain": [
       "['/home/yanathan/Projects/GSDMA/CF_data/Result_traitem/Forage_Pilote/leve_Z_elect_pos_Boreholes.csv',\n",
       " '/home/yanathan/Projects/GSDMA/CF_data/Result_traitem/Prof_contact_sol_forage/Feuil1_Boreholes.csv',\n",
       " '/home/yanathan/Projects/GSDMA/CF_data/Result_traitem/database_Memoris3/Profils_sol_Boreholes.csv',\n",
       " '/home/yanathan/Projects/GSDMA/CF_data/Result_traitem/donnees_terrain_2019/Donnees_forage_Boreholes.csv',\n",
       " '/home/yanathan/Projects/GSDMA/CF_data/Result_traitem/profils_sols_donnees_forages/Equipement_Boreholes.csv',\n",
       " '/home/yanathan/Projects/GSDMA/CF_data/Result_traitem/profils_sols_donnees_forages/Log_Boreholes.csv',\n",
       " '/home/yanathan/Projects/GSDMA/CF_data/Result_traitem/profils_sols_donnees_forages/donnees_forage_Boreholes.csv']"
      ]
     },
     "execution_count": 12,
     "metadata": {},
     "output_type": "execute_result"
    }
   ],
   "source": [
    "files_dict['Borehole']"
   ]
  },
  {
   "cell_type": "code",
   "execution_count": 13,
   "id": "039893ed",
   "metadata": {},
   "outputs": [
    {
     "name": "stdout",
     "output_type": "stream",
     "text": [
      "df1 :  --> No coordinates\n",
      "df2 :  --> Coordinates\n",
      "Rows : 86, columns : 7, Unique col 'ID': 24\n"
     ]
    },
    {
     "data": {
      "application/vnd.jupyter.widget-view+json": {
       "model_id": "f0633db3d4544be093a33ae557808824",
       "version_major": 2,
       "version_minor": 0
      },
      "text/plain": [
       "interactive(children=(IntSlider(value=3, description='rows', max=86, min=3, readout=False), IntSlider(value=7,…"
      ]
     },
     "metadata": {},
     "output_type": "display_data"
    },
    {
     "name": "stdout",
     "output_type": "stream",
     "text": [
      "Rows : 16, columns : 18, Unique col 'ID': 16\n"
     ]
    },
    {
     "data": {
      "application/vnd.jupyter.widget-view+json": {
       "model_id": "c8b9f1fb72a6452d92e9d99ffe5969e9",
       "version_major": 2,
       "version_minor": 0
      },
      "text/plain": [
       "interactive(children=(IntSlider(value=3, description='rows', max=16, min=3, readout=False), IntSlider(value=12…"
      ]
     },
     "metadata": {},
     "output_type": "display_data"
    },
    {
     "data": {
      "text/plain": [
       "(None, None)"
      ]
     },
     "execution_count": 13,
     "metadata": {},
     "output_type": "execute_result"
    }
   ],
   "source": [
    "file1= work_dir + 'donnees_terrain_2019/Log_Lithology.csv' # 3\n",
    "file2= work_dir + 'donnees_terrain_2019/Donnees_forage_Boreholes.csv' # 6\n",
    "\n",
    "df1, df2 = create_df([file1, file2])\n",
    "gdf_viewer(df1, rows=3, un_val='ID', view=t), gdf_viewer(df2, rows=3, un_val='ID', view=t)"
   ]
  },
  {
   "cell_type": "code",
   "execution_count": 14,
   "id": "b40c86a8",
   "metadata": {},
   "outputs": [],
   "source": [
    "df1['ID'] = df1['ID'].apply(lambda x: str(x).strip('F'))"
   ]
  },
  {
   "cell_type": "code",
   "execution_count": 15,
   "id": "e50c41b2",
   "metadata": {},
   "outputs": [],
   "source": [
    "df1 = df1[['ID','Description','Litho_top','Litho_base']].copy()\n",
    "df2 = df2[['ID','X','Y','Z','Long_for','Diam_for']].copy()"
   ]
  },
  {
   "cell_type": "code",
   "execution_count": 16,
   "id": "75460c0b",
   "metadata": {
    "scrolled": true
   },
   "outputs": [],
   "source": [
    "mdf, conflict_df = gdf_merger(df1, df2, how=how[1], on='ID', dist_max=1., drop_skip_col=['index'])"
   ]
  },
  {
   "cell_type": "code",
   "execution_count": 17,
   "id": "56a925a6",
   "metadata": {},
   "outputs": [],
   "source": [
    "compute_BH_length(mdf, mode='thickness', top_col='Litho_top', base_col='Litho_base', )"
   ]
  },
  {
   "cell_type": "code",
   "execution_count": 18,
   "id": "6f2d71da",
   "metadata": {
    "scrolled": false
   },
   "outputs": [
    {
     "name": "stdout",
     "output_type": "stream",
     "text": [
      "Rows : 86, columns : 10, Unique col 'ID': 24\n"
     ]
    },
    {
     "data": {
      "application/vnd.jupyter.widget-view+json": {
       "model_id": "9e0265925e5340c89464fb03e02d3314",
       "version_major": 2,
       "version_minor": 0
      },
      "text/plain": [
       "interactive(children=(IntSlider(value=10, description='rows', max=86, min=10, readout=False), IntSlider(value=…"
      ]
     },
     "metadata": {},
     "output_type": "display_data"
    }
   ],
   "source": [
    "gdf_viewer(mdf, rows=10, un_val='ID', view=t)"
   ]
  },
  {
   "cell_type": "markdown",
   "id": "4ad7df47",
   "metadata": {},
   "source": [
    "## Save"
   ]
  },
  {
   "cell_type": "code",
   "execution_count": 19,
   "id": "71e03d98",
   "metadata": {},
   "outputs": [],
   "source": [
    "mdf.to_csv(save_dir+'Pilote_test.csv', index=False)"
   ]
  },
  {
   "cell_type": "markdown",
   "id": "bb3ad3e2",
   "metadata": {},
   "source": [
    "## Plot"
   ]
  },
  {
   "cell_type": "code",
   "execution_count": 20,
   "id": "d0dadbfa",
   "metadata": {},
   "outputs": [
    {
     "data": {
      "image/png": "[encoded data removed]",
      "text/plain": [
       "<Figure size 432x288 with 1 Axes>"
      ]
     },
     "metadata": {
      "needs_background": "light"
     },
     "output_type": "display_data"
    }
   ],
   "source": [
    "plt.plot(mdf['X'],mdf['Y'], '.')\n",
    "plt.axis('equal')\n",
    "plt.grid('on')"
   ]
  },
  {
   "cell_type": "code",
   "execution_count": 50,
   "id": "c1488bed",
   "metadata": {},
   "outputs": [
    {
     "ename": "NameError",
     "evalue": "name 'pause' is not defined",
     "output_type": "error",
     "traceback": [
      "\u001b[0;31m---------------------------------------------------------------------------\u001b[0m",
      "\u001b[0;31mNameError\u001b[0m                                 Traceback (most recent call last)",
      "\u001b[0;32m<ipython-input-50-34d6930c0341>\u001b[0m in \u001b[0;36m<module>\u001b[0;34m\u001b[0m\n\u001b[0;32m----> 1\u001b[0;31m \u001b[0mpause\u001b[0m\u001b[0;34m\u001b[0m\u001b[0;34m\u001b[0m\u001b[0m\n\u001b[0m",
      "\u001b[0;31mNameError\u001b[0m: name 'pause' is not defined"
     ]
    }
   ],
   "source": [
    "pause"
   ]
  },
  {
   "cell_type": "markdown",
   "id": "238f4614",
   "metadata": {},
   "source": [
    "# ----------------------------------------------------------------------"
   ]
  },
  {
   "cell_type": "markdown",
   "id": "a0d5140f",
   "metadata": {},
   "source": [
    "# Boreholes"
   ]
  },
  {
   "cell_type": "code",
   "execution_count": null,
   "id": "2b118e65",
   "metadata": {},
   "outputs": [],
   "source": [
    "file = save_dir+'Merged_Boreholes.csv'\n",
    "bh = pd.read_csv(file, delimiter=',')\n",
    "gdf_viewer(bh, rows=3, un_val='ID', view=t)"
   ]
  },
  {
   "cell_type": "markdown",
   "id": "4bc3a492",
   "metadata": {},
   "source": [
    "# Lithologies"
   ]
  },
  {
   "cell_type": "code",
   "execution_count": null,
   "id": "79a9af96",
   "metadata": {},
   "outputs": [],
   "source": [
    "key='Litho'\n",
    "save_file = f'Merged_Lithologies.csv'\n",
    "coi = ['ID','X','Y','Z','Long_for','Description','Litho_top','Litho_base']\n",
    "dataset = pd.DataFrame() # for saving object info after last merging\n",
    "print(len(files_dict[key]), 'files')"
   ]
  },
  {
   "cell_type": "code",
   "execution_count": null,
   "id": "surprised-relations",
   "metadata": {
    "scrolled": true
   },
   "outputs": [],
   "source": [
    "files_dict[key] #files_dict[key][0]"
   ]
  },
  {
   "cell_type": "code",
   "execution_count": null,
   "id": "d2213ff0",
   "metadata": {
    "scrolled": false
   },
   "outputs": [],
   "source": [
    "dataset_overview(files_dict[key])"
   ]
  },
  {
   "cell_type": "markdown",
   "id": "f15174f2",
   "metadata": {},
   "source": [
    "#### $\\color{green}{\\textbf{Read and merge}}$"
   ]
  },
  {
   "cell_type": "code",
   "execution_count": null,
   "id": "e2848bb4",
   "metadata": {
    "scrolled": false
   },
   "outputs": [],
   "source": [
    "file1= work_dir + 'database_Memoris3/Drains_Pz_ENEL_Lithology.csv' # 0\n",
    "file2= work_dir + 'database_Memoris3/Result_sol_Lithology.csv' # 2\n",
    "\n",
    "df1, df2 = create_df([file1, file2])\n",
    "gdf_viewer(df1, rows=3, un_val='ID', view=t), gdf_viewer(df2, rows=3, un_val='ID', view=t)"
   ]
  },
  {
   "cell_type": "code",
   "execution_count": null,
   "id": "c77a140c",
   "metadata": {},
   "outputs": [],
   "source": [
    "df1.rename(columns={'Profondeur':'Long_for'}, inplace=True)\n",
    "df2.rename(columns={'Long':'Long_for', 'Description':'Description2'}, inplace=True)"
   ]
  },
  {
   "cell_type": "code",
   "execution_count": null,
   "id": "99f81efb",
   "metadata": {},
   "outputs": [],
   "source": [
    "df2['X'] = df2['X'].apply(lambda x: x.replace(',', '.') if isinstance(x, str) else x)\n",
    "df2['Y'] = df2['Y'].apply(lambda x: x.replace(',', '.') if isinstance(x, str) else x)\n",
    "df2['Ep_remb'] = df2['Ep_remb'].apply(lambda x: x.replace(',', '.') if isinstance(x, str) else x)"
   ]
  },
  {
   "cell_type": "code",
   "execution_count": null,
   "id": "7f4c05a6",
   "metadata": {},
   "outputs": [],
   "source": [
    "df2[['X','Y','Ep_remb']] = df2[['X','Y','Ep_remb']].astype(float)"
   ]
  },
  {
   "cell_type": "code",
   "execution_count": null,
   "id": "180f5c3b",
   "metadata": {},
   "outputs": [],
   "source": [
    "df1 = df1[['ID','Date_ouv','Long_for','Description','Litho_top','Litho_base']].copy()\n",
    "df2 = df2[['ID','X','Y','Z','Long_for']].copy()"
   ]
  },
  {
   "cell_type": "code",
   "execution_count": null,
   "id": "c67e201f",
   "metadata": {
    "scrolled": true
   },
   "outputs": [],
   "source": [
    "mdf, conflict_df = gdf_merger(df1, df2, how=how[1], on='ID', dist_max=1., drop_skip_col=['index'])"
   ]
  },
  {
   "cell_type": "code",
   "execution_count": null,
   "id": "cd454052",
   "metadata": {
    "scrolled": false
   },
   "outputs": [],
   "source": [
    "gdf_viewer(mdf, rows=10, un_val='ID', view=t)"
   ]
  },
  {
   "cell_type": "markdown",
   "id": "50ed6446",
   "metadata": {},
   "source": [
    "#### $\\color{blue}{\\textbf{Manage conflicts}}$"
   ]
  },
  {
   "cell_type": "code",
   "execution_count": null,
   "id": "2c6f48fc",
   "metadata": {
    "scrolled": false
   },
   "outputs": [],
   "source": [
    "gdf_viewer(conflict_df, rows=10, un_val='ID', view=t)"
   ]
  },
  {
   "cell_type": "raw",
   "id": "2538fe20",
   "metadata": {},
   "source": [
    "data_validation(overall_data=mdf, conflict_data=conflict_df, index_col='index', \n",
    "                valid_dict={'Long_for_x':[136,142],},)"
   ]
  },
  {
   "cell_type": "markdown",
   "id": "87056e4d",
   "metadata": {},
   "source": [
    "#### First object dataset save"
   ]
  },
  {
   "cell_type": "code",
   "execution_count": null,
   "id": "d1c767b9",
   "metadata": {},
   "outputs": [],
   "source": [
    "dataset = mdf.copy() #saving"
   ]
  },
  {
   "cell_type": "markdown",
   "id": "cfe2a69e",
   "metadata": {},
   "source": [
    "#### $\\color{green}{\\textbf{Read and merge}}$"
   ]
  },
  {
   "cell_type": "code",
   "execution_count": null,
   "id": "55ccbc7f",
   "metadata": {
    "scrolled": false
   },
   "outputs": [],
   "source": [
    "file1= work_dir + 'database_Memoris3/Profils_sol_Lithology.csv' # 1\n",
    "file2= work_dir + 'donnees_terrain_2019/Log_Lithology.csv' # 3\n",
    "\n",
    "df1, df2 = create_df([file1, file2])\n",
    "gdf_viewer(df1, rows=3, un_val='ID', view=t), gdf_viewer(df2, rows=3, un_val='ID', view=t)"
   ]
  },
  {
   "cell_type": "code",
   "execution_count": null,
   "id": "124df1ce",
   "metadata": {},
   "outputs": [],
   "source": [
    "for idx, row in df2.iterrows():\n",
    "    if row['Type'] == 'Forage': \n",
    "        df2.loc[idx, 'Date_ouv']= '2019-10-07'\n",
    "    elif row['Type'] == 'Piezo' or row['Type'] == 'Piezair': \n",
    "        df2.loc[idx, 'Date_ouv']= '2019-12-18'"
   ]
  },
  {
   "cell_type": "code",
   "execution_count": null,
   "id": "0d22b18d",
   "metadata": {},
   "outputs": [],
   "source": [
    "df1.rename(columns={'Profondeur':'Long_for'}, inplace=True)\n",
    "#df2.rename(columns={'Long':'Long_for', 'Description':'Description2'}, inplace=True)"
   ]
  },
  {
   "cell_type": "code",
   "execution_count": null,
   "id": "4a6c6aab",
   "metadata": {},
   "outputs": [],
   "source": [
    "df1 = df1[['ID','Date_ouv','Long_for','Description','Litho_top','Litho_base']].copy()\n",
    "df2 = df2[['ID','Date_ouv','Description','Litho_top','Litho_base','Zone']].copy()"
   ]
  },
  {
   "cell_type": "code",
   "execution_count": null,
   "id": "3d0b7198",
   "metadata": {
    "scrolled": true
   },
   "outputs": [],
   "source": [
    "mdf, conflict_df = gdf_merger(df1, df2, how=how[1], on='ID', date_col='Date_ouv', dist_max=None, drop_skip_col=['index'])"
   ]
  },
  {
   "cell_type": "code",
   "execution_count": null,
   "id": "22a6d539",
   "metadata": {
    "scrolled": false
   },
   "outputs": [],
   "source": [
    "gdf_viewer(mdf, rows=10, un_val='ID', view=t)"
   ]
  },
  {
   "cell_type": "code",
   "execution_count": null,
   "id": "f6c7c929",
   "metadata": {},
   "outputs": [],
   "source": [
    "pause # problem with dataset merging"
   ]
  },
  {
   "cell_type": "markdown",
   "id": "683c8cae",
   "metadata": {},
   "source": [
    "#### Merge with object dataset"
   ]
  },
  {
   "cell_type": "raw",
   "id": "90415cc0",
   "metadata": {
    "scrolled": true
   },
   "source": [
    "dataset, conflict_df=gdf_merger(dataset, mdf, how=how[1], on='ID', dist_max=None, \n",
    "                                date_col='Date_ouv', drop_skip_col=['index'])"
   ]
  },
  {
   "cell_type": "raw",
   "id": "f48451b9",
   "metadata": {},
   "source": [
    "if 'level_0' in dataset.columns:\n",
    "    if 'index' in dataset.columns:\n",
    "        dataset.drop(columns='index', inplace=True)\n",
    "    dataset.rename(columns={'level_0':'index'}, inplace=True)"
   ]
  },
  {
   "cell_type": "raw",
   "id": "abbc1db7",
   "metadata": {
    "scrolled": true
   },
   "source": [
    "gdf_viewer(dataset, rows=10, un_val='ID', view=t)"
   ]
  },
  {
   "cell_type": "markdown",
   "id": "92bf460f",
   "metadata": {},
   "source": [
    "#### $\\color{blue}{\\textbf{Manage conflicts}}$"
   ]
  },
  {
   "cell_type": "raw",
   "id": "a89f6ad5",
   "metadata": {
    "scrolled": false
   },
   "source": [
    "gdf_viewer(conflict_df, rows=10, un_val='ID', view=t) # here boreholes are differents !!!"
   ]
  },
  {
   "cell_type": "raw",
   "id": "73786874",
   "metadata": {},
   "source": [
    "data_validation(overall_data=mdf, conflict_data=conflict_df, index_col='index', \n",
    "                valid_dict={'Long_for_x':[136,142],},)"
   ]
  },
  {
   "cell_type": "raw",
   "id": "71793e65",
   "metadata": {
    "scrolled": false
   },
   "source": [
    "gdf_viewer(conflict_df, rows=10, un_val='ID', view=t)"
   ]
  },
  {
   "cell_type": "markdown",
   "id": "42c711cd",
   "metadata": {},
   "source": [
    "#### $\\color{green}{\\textbf{Read and merge}}$"
   ]
  },
  {
   "cell_type": "raw",
   "id": "5dcc41cd",
   "metadata": {},
   "source": [
    "file1 = files_dict[key][5]\n",
    "file2 = files_dict[key][6]"
   ]
  },
  {
   "cell_type": "raw",
   "id": "e67cd87c",
   "metadata": {
    "scrolled": false
   },
   "source": [
    "#file1= work_dir + 'database_Memoris3/Profils_sol_Lithology.csv' # 1\n",
    "#file2= work_dir + 'donnees_terrain_2019/Log_Lithology.csv' # 3\n",
    "\n",
    "df1, df2 = create_df([file1, file2])\n",
    "gdf_viewer(df1, rows=3, un_val='ID', view=t), gdf_viewer(df2, rows=3, un_val='ID', view=t)"
   ]
  },
  {
   "cell_type": "raw",
   "id": "706cba7e",
   "metadata": {},
   "source": [
    "df1.rename(columns={'Profondeur':'Long_for'}, inplace=True)\n",
    "#df2.rename(columns={'Long':'Long_for', 'Description':'Description2'}, inplace=True)"
   ]
  },
  {
   "cell_type": "raw",
   "id": "34464a9e",
   "metadata": {},
   "source": [
    "df1 = df1[['ID','Date_ouv','Long_for','Description','Litho_top','Litho_base']].copy()\n",
    "df2 = df2[['ID','Description','Litho_top','Litho_base','Zone']].copy()"
   ]
  },
  {
   "cell_type": "raw",
   "id": "904c2d9f",
   "metadata": {
    "scrolled": true
   },
   "source": [
    "mdf, conflict_df = gdf_merger(df1, df2, how=how[1], on='ID', dist_max=None, drop_skip_col=['index'])"
   ]
  },
  {
   "cell_type": "raw",
   "id": "7b196fd7",
   "metadata": {
    "scrolled": false
   },
   "source": [
    "gdf_viewer(mdf, rows=10, un_val='ID', view=t)"
   ]
  },
  {
   "cell_type": "markdown",
   "id": "5e615589",
   "metadata": {},
   "source": [
    "#### $\\color{blue}{\\textbf{Manage conflicts}}$"
   ]
  },
  {
   "cell_type": "raw",
   "id": "5228a27e",
   "metadata": {
    "scrolled": false
   },
   "source": [
    "# here boreholes are differents, must be rename before merging !!!\n",
    "gdf_viewer(conflict_df, rows=10, un_val='ID', view=t)"
   ]
  },
  {
   "cell_type": "raw",
   "id": "aa3f2de5",
   "metadata": {},
   "source": [
    "data_validation(overall_data=mdf, conflict_data=conflict_df, index_col='index', \n",
    "                valid_dict={'Long_for_x':[136,142],},)"
   ]
  },
  {
   "cell_type": "raw",
   "id": "ff972ad7",
   "metadata": {
    "scrolled": false
   },
   "source": [
    "gdf_viewer(conflict_df, rows=10, un_val='ID', view=t)"
   ]
  },
  {
   "cell_type": "markdown",
   "id": "d20e7ece",
   "metadata": {},
   "source": [
    "#### Merge with object dataset"
   ]
  },
  {
   "cell_type": "raw",
   "id": "0b7fd8a1",
   "metadata": {
    "scrolled": true
   },
   "source": [
    "dataset, conflict_df=gdf_merger(dataset, mdf, how=how[1], on='ID', dist_max=1)"
   ]
  },
  {
   "cell_type": "raw",
   "id": "e38e8537",
   "metadata": {},
   "source": [
    "if 'level_0' in dataset.columns:\n",
    "    if 'index' in dataset.columns:\n",
    "        dataset.drop(columns='index', inplace=True)\n",
    "    dataset.rename(columns={'level_0':'index'}, inplace=True)"
   ]
  },
  {
   "cell_type": "raw",
   "id": "96d4684d",
   "metadata": {
    "scrolled": true
   },
   "source": [
    "gdf_viewer(dataset, rows=10, un_val='ID', view=t)"
   ]
  },
  {
   "cell_type": "markdown",
   "id": "0e4f720c",
   "metadata": {},
   "source": [
    "#### $\\color{blue}{\\textbf{Manage conflicts}}$"
   ]
  },
  {
   "cell_type": "raw",
   "id": "68f9621f",
   "metadata": {
    "scrolled": true
   },
   "source": [
    "conflict_df"
   ]
  },
  {
   "cell_type": "raw",
   "id": "3e3b2a00",
   "metadata": {},
   "source": [
    "data_validation(overall_data=dataset, conflict_data=conflict_df, index_col='index', \n",
    "                valid_dict={'Long_for_x':[136,142],},)"
   ]
  },
  {
   "cell_type": "raw",
   "id": "0f847f43",
   "metadata": {
    "scrolled": true
   },
   "source": [
    "gdf_viewer(dataset, rows=3, un_val='ID', view=t)"
   ]
  },
  {
   "cell_type": "raw",
   "id": "4024505c",
   "metadata": {},
   "source": [
    "pause"
   ]
  },
  {
   "cell_type": "markdown",
   "id": "8af8247a",
   "metadata": {},
   "source": [
    "####  $\\color{red}{\\textbf{Save final object dataset}}$"
   ]
  },
  {
   "cell_type": "raw",
   "id": "1f9fe008",
   "metadata": {},
   "source": [
    "if 'index' in dataset.columns:\n",
    "    dataset.drop(columns='index', inplace=True)"
   ]
  },
  {
   "cell_type": "raw",
   "id": "528103a9",
   "metadata": {},
   "source": [
    "if not os.path.exists(save_dir):\n",
    "    os.makedirs(save_dir)\n",
    "    \n",
    "dataset.to_csv(save_dir + save_file, index=False)"
   ]
  },
  {
   "cell_type": "raw",
   "id": "50212a89",
   "metadata": {},
   "source": [
    "bh = dataset"
   ]
  },
  {
   "cell_type": "markdown",
   "id": "8738a2f5",
   "metadata": {},
   "source": [
    "#### -----------------------------------------------------------"
   ]
  },
  {
   "cell_type": "markdown",
   "id": "307b2f4a",
   "metadata": {},
   "source": [
    "## Plot"
   ]
  },
  {
   "cell_type": "code",
   "execution_count": null,
   "id": "d0fbda1e",
   "metadata": {},
   "outputs": [],
   "source": [
    "plt.plot(dataset['X'],dataset['Y'], '.')\n",
    "plt.axis('equal')\n",
    "plt.grid('on')"
   ]
  },
  {
   "cell_type": "code",
   "execution_count": null,
   "id": "0c03c25b",
   "metadata": {},
   "outputs": [],
   "source": [
    "pause"
   ]
  }
 ],
 "metadata": {
  "kernelspec": {
   "display_name": "Python 3",
   "language": "python",
   "name": "python3"
  },
  "language_info": {
   "codemirror_mode": {
    "name": "ipython",
    "version": 3
   },
   "file_extension": ".py",
   "mimetype": "text/x-python",
   "name": "python",
   "nbconvert_exporter": "python",
   "pygments_lexer": "ipython3",
   "version": "3.8.5"
  }
 },
 "nbformat": 4,
 "nbformat_minor": 5
}
