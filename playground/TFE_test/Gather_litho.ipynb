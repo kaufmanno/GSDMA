{
 "cells": [
  {
   "cell_type": "markdown",
   "id": "finite-killing",
   "metadata": {},
   "source": [
    "# Data Gathering"
   ]
  },
  {
   "cell_type": "code",
   "execution_count": 1,
   "id": "loaded-theology",
   "metadata": {},
   "outputs": [],
   "source": [
    "%matplotlib inline"
   ]
  },
  {
   "cell_type": "code",
   "execution_count": 2,
   "id": "educational-barrier",
   "metadata": {},
   "outputs": [],
   "source": [
    "from utils.io import gdf_viewer, gdf_merger, data_validation, gdf_filter, fix_duplicates\n",
    "import re, os\n",
    "import numpy as np\n",
    "import geopandas as gpd\n",
    "import pandas as pd\n",
    "import datetime as dtm\n",
    "import matplotlib.pyplot as plt\n",
    "from definitions import ROOT_DIR"
   ]
  },
  {
   "cell_type": "code",
   "execution_count": 3,
   "id": "potential-pride",
   "metadata": {
    "scrolled": true
   },
   "outputs": [],
   "source": [
    "def files_search(work_dir, files_dict, prefix='', skip=None, details=False):   \n",
    "    \n",
    "    if skip is None:\n",
    "        skip = \"we don't want to skip a word\"\n",
    "        \n",
    "    for k in files_dict.keys():\n",
    "        tmp_list = []\n",
    "        for p,d,f in os.walk(work_dir):\n",
    "            for x in f:\n",
    "                add = False\n",
    "                if re.search(prefix,x,re.I) and not re.search(skip,x,re.I):\n",
    "                    add = True\n",
    "                    i = str(f'{p}/{x}')\n",
    "                else:\n",
    "                    add = False\n",
    "                    i=''\n",
    "                    \n",
    "                if re.search(k,i,re.I) and add:\n",
    "                    tmp_list.append(i)\n",
    "        tmp_list.sort()\n",
    "        files_dict.update({k:tmp_list})\n",
    "\n",
    "    for k,v in files_dict.items():\n",
    "        print(k,' \\t: ',len(v))\n",
    "    \n",
    "    if details: # Look filenames\n",
    "        which = files_dict.keys()\n",
    "\n",
    "        for w in which:\n",
    "            print('\\n+++++++++++++++++')\n",
    "            print(f'+  {w.upper()}\\t+ ')\n",
    "            print('+++++++++++++++++')\n",
    "            [print(i, '-', x) for i, x in enumerate(files_dict[w], 0)]    \n"
   ]
  },
  {
   "cell_type": "code",
   "execution_count": 4,
   "id": "representative-bunny",
   "metadata": {},
   "outputs": [],
   "source": [
    "def create_df(files, verbose=True): # find another name for this function\n",
    "    \"\"\"\n",
    "    create dataframes from files and test if they contain position informations\n",
    "    files: list of files name\n",
    "    \"\"\"\n",
    "    cnt = 0\n",
    "    dfs = []\n",
    "    for f in files:\n",
    "        cnt += 1\n",
    "        df = pd.read_csv(f, delimiter=',')\n",
    "        dfs.append(df)\n",
    "        \n",
    "        if verbose:\n",
    "            if 'X' in list(df.columns): msg = ' --> Coordinates'\n",
    "            else: msg = ' --> No coordinates'\n",
    "\n",
    "            print(f\"df{cnt} : {msg}\")\n",
    "            \n",
    "    return dfs"
   ]
  },
  {
   "cell_type": "code",
   "execution_count": 5,
   "id": "8b09082c",
   "metadata": {
    "scrolled": true
   },
   "outputs": [],
   "source": [
    "def dataset_overview(d, verbose=False): # check for same datasets in given files\n",
    "    \"\"\"d: dict\n",
    "    \"\"\"\n",
    "    l = len(d)\n",
    "    with_coord = []\n",
    "    no_coord = []\n",
    "    same = []\n",
    "    \n",
    "    for i in range(l-1):\n",
    "        for j in range(i,l):\n",
    "            a, b = create_df([d[i], d[j]], verbose)\n",
    "            if j != i:\n",
    "                if a.equals(b):\n",
    "                    same.append((i,j))\n",
    "            \n",
    "            if 'X' in list(b.columns) and j not in with_coord:\n",
    "                with_coord.append(j)\n",
    "            elif 'X' not in list(b.columns) and j not in no_coord:\n",
    "                no_coord.append(j)\n",
    "    \n",
    "    print(f'Same files:{same}\\nFiles with coordinates:{with_coord}\\nFiles without coordinates:{no_coord}')"
   ]
  },
  {
   "cell_type": "markdown",
   "id": "enhanced-noise",
   "metadata": {},
   "source": [
    "## Reading files"
   ]
  },
  {
   "cell_type": "code",
   "execution_count": 6,
   "id": "vanilla-bones",
   "metadata": {},
   "outputs": [],
   "source": [
    "work_dir = ROOT_DIR+'/CF_data/Result_traitem/'\n",
    "save_dir = ROOT_DIR+'/CF_data/Donnees_fusionnees/'"
   ]
  },
  {
   "cell_type": "code",
   "execution_count": 7,
   "id": "confused-pleasure",
   "metadata": {},
   "outputs": [],
   "source": [
    "# create my dictionary structure to retrieve good files (Keynames !!!)\n",
    "files_dict={'Borehole':0,'Piezometer':0,'Piezair':0,'Trench':0,'Litho':0,'Equipm':0,\n",
    "        'Measure':0,'Sample':0,'Analysis':0,'Facility':0}"
   ]
  },
  {
   "cell_type": "code",
   "execution_count": 8,
   "id": "compliant-sensitivity",
   "metadata": {
    "scrolled": true
   },
   "outputs": [
    {
     "name": "stdout",
     "output_type": "stream",
     "text": [
      "Borehole  \t:  7\n",
      "Piezometer  \t:  17\n",
      "Piezair  \t:  2\n",
      "Trench  \t:  1\n",
      "Litho  \t:  7\n",
      "Equipm  \t:  3\n",
      "Measure  \t:  6\n",
      "Sample  \t:  27\n",
      "Analysis  \t:  21\n",
      "Facility  \t:  4\n"
     ]
    }
   ],
   "source": [
    "files_search(work_dir, files_dict, prefix='', skip='source')"
   ]
  },
  {
   "cell_type": "code",
   "execution_count": 9,
   "id": "possible-bones",
   "metadata": {},
   "outputs": [],
   "source": [
    "how=['inner', 'outer', 'left', 'right']"
   ]
  },
  {
   "cell_type": "code",
   "execution_count": 10,
   "id": "national-boards",
   "metadata": {},
   "outputs": [],
   "source": [
    "f = False\n",
    "t = True"
   ]
  },
  {
   "cell_type": "markdown",
   "id": "75249c48",
   "metadata": {},
   "source": [
    "# Boreholes"
   ]
  },
  {
   "cell_type": "code",
   "execution_count": 11,
   "id": "6e4d0516",
   "metadata": {},
   "outputs": [
    {
     "name": "stdout",
     "output_type": "stream",
     "text": [
      "Rows : 235, columns : 20, Unique col 'ID': 235\n"
     ]
    },
    {
     "data": {
      "application/vnd.jupyter.widget-view+json": {
       "model_id": "6a2f3b91d08f4e26b8ac7b04edd251e7",
       "version_major": 2,
       "version_minor": 0
      },
      "text/plain": [
       "interactive(children=(IntSlider(value=3, description='rows', max=235, min=3, readout=False), IntSlider(value=1…"
      ]
     },
     "metadata": {},
     "output_type": "display_data"
    }
   ],
   "source": [
    "file = save_dir+'Merged_Boreholes.csv'\n",
    "bh = pd.read_csv(file, delimiter=',')\n",
    "gdf_viewer(bh, rows=3, un_val='ID', view=t)"
   ]
  },
  {
   "cell_type": "markdown",
   "id": "4bc3a492",
   "metadata": {},
   "source": [
    "# Lithologies"
   ]
  },
  {
   "cell_type": "code",
   "execution_count": 12,
   "id": "79a9af96",
   "metadata": {},
   "outputs": [
    {
     "name": "stdout",
     "output_type": "stream",
     "text": [
      "7 files\n"
     ]
    }
   ],
   "source": [
    "key='Litho'\n",
    "save_file = f'Merged_Lithologies.csv'\n",
    "coi = ['ID','X','Y','Z','Long_for','Description','Litho_top','Litho_base']\n",
    "dataset = pd.DataFrame() # for saving object info after last merging\n",
    "print(len(files_dict[key]), 'files')"
   ]
  },
  {
   "cell_type": "code",
   "execution_count": 13,
   "id": "surprised-relations",
   "metadata": {
    "scrolled": true
   },
   "outputs": [
    {
     "data": {
      "text/plain": [
       "['/home/yanathan/Projects/GSDMA/CF_data/Result_traitem/database_Memoris3/Drains_Pz_ENEL_Lithology.csv',\n",
       " '/home/yanathan/Projects/GSDMA/CF_data/Result_traitem/database_Memoris3/Profils_sol_Lithology.csv',\n",
       " '/home/yanathan/Projects/GSDMA/CF_data/Result_traitem/database_Memoris3/Result_sol_Lithology.csv',\n",
       " '/home/yanathan/Projects/GSDMA/CF_data/Result_traitem/donnees_terrain_2019/Log_Lithology.csv',\n",
       " '/home/yanathan/Projects/GSDMA/CF_data/Result_traitem/profils_sols_donnees_forages/Log_Lithology.csv',\n",
       " '/home/yanathan/Projects/GSDMA/CF_data/Result_traitem/vUmons_logsFor/Sond2017v2_Lithology.csv',\n",
       " '/home/yanathan/Projects/GSDMA/CF_data/Result_traitem/vUmons_logsFor/Synthese_Lithology.csv']"
      ]
     },
     "execution_count": 13,
     "metadata": {},
     "output_type": "execute_result"
    }
   ],
   "source": [
    "files_dict[key] #files_dict[key][0]"
   ]
  },
  {
   "cell_type": "code",
   "execution_count": 14,
   "id": "d2213ff0",
   "metadata": {
    "scrolled": false
   },
   "outputs": [
    {
     "name": "stdout",
     "output_type": "stream",
     "text": [
      "Same files:[]\n",
      "Files with coordinates:[2, 5, 6]\n",
      "Files without coordinates:[0, 1, 3, 4]\n"
     ]
    }
   ],
   "source": [
    "dataset_overview(files_dict[key])"
   ]
  },
  {
   "cell_type": "markdown",
   "id": "f15174f2",
   "metadata": {},
   "source": [
    "#### $\\color{green}{\\textbf{Read and merge}}$"
   ]
  },
  {
   "cell_type": "code",
   "execution_count": 15,
   "id": "e2848bb4",
   "metadata": {
    "scrolled": false
   },
   "outputs": [
    {
     "name": "stdout",
     "output_type": "stream",
     "text": [
      "df1 :  --> No coordinates\n",
      "df2 :  --> Coordinates\n",
      "Rows : 1626, columns : 10, Unique col 'ID': 298\n"
     ]
    },
    {
     "data": {
      "application/vnd.jupyter.widget-view+json": {
       "model_id": "b1fb404bc79f4351994de3825c4305f8",
       "version_major": 2,
       "version_minor": 0
      },
      "text/plain": [
       "interactive(children=(IntSlider(value=3, description='rows', max=1626, min=3, readout=False), IntSlider(value=…"
      ]
     },
     "metadata": {},
     "output_type": "display_data"
    },
    {
     "name": "stdout",
     "output_type": "stream",
     "text": [
      "Rows : 1423, columns : 14, Unique col 'ID': 330\n"
     ]
    },
    {
     "data": {
      "application/vnd.jupyter.widget-view+json": {
       "model_id": "a1156c2829824de3a8ec46328da28acc",
       "version_major": 2,
       "version_minor": 0
      },
      "text/plain": [
       "interactive(children=(IntSlider(value=3, description='rows', max=1423, min=3, readout=False), IntSlider(value=…"
      ]
     },
     "metadata": {},
     "output_type": "display_data"
    },
    {
     "data": {
      "text/plain": [
       "(None, None)"
      ]
     },
     "execution_count": 15,
     "metadata": {},
     "output_type": "execute_result"
    }
   ],
   "source": [
    "file1= work_dir + 'database_Memoris3/Drains_Pz_ENEL_Lithology.csv' # 0\n",
    "file2= work_dir + 'database_Memoris3/Result_sol_Lithology.csv' # 2\n",
    "\n",
    "df1, df2 = create_df([file1, file2])\n",
    "gdf_viewer(df1, rows=3, un_val='ID', view=t), gdf_viewer(df2, rows=3, un_val='ID', view=t)"
   ]
  },
  {
   "cell_type": "code",
   "execution_count": 16,
   "id": "c77a140c",
   "metadata": {},
   "outputs": [],
   "source": [
    "df1.rename(columns={'Profondeur':'Long_for'}, inplace=True)\n",
    "df2.rename(columns={'Long':'Long_for', 'Description':'Description2'}, inplace=True)"
   ]
  },
  {
   "cell_type": "code",
   "execution_count": 17,
   "id": "99f81efb",
   "metadata": {},
   "outputs": [],
   "source": [
    "df2['X'] = df2['X'].apply(lambda x: x.replace(',', '.') if isinstance(x, str) else x)\n",
    "df2['Y'] = df2['Y'].apply(lambda x: x.replace(',', '.') if isinstance(x, str) else x)\n",
    "df2['Ep_remb'] = df2['Ep_remb'].apply(lambda x: x.replace(',', '.') if isinstance(x, str) else x)"
   ]
  },
  {
   "cell_type": "code",
   "execution_count": 18,
   "id": "7f4c05a6",
   "metadata": {},
   "outputs": [],
   "source": [
    "df2[['X','Y','Ep_remb']] = df2[['X','Y','Ep_remb']].astype(float)"
   ]
  },
  {
   "cell_type": "code",
   "execution_count": 19,
   "id": "7d70cc56",
   "metadata": {},
   "outputs": [],
   "source": [
    "df1 = df1[['ID','Date_ouv','Long_for','Description','Litho_top','Litho_base']].copy()\n",
    "df2 = df2[['ID','X','Y','Z','Long_for']].copy()"
   ]
  },
  {
   "cell_type": "code",
   "execution_count": 20,
   "id": "c67e201f",
   "metadata": {
    "scrolled": true
   },
   "outputs": [
    {
     "name": "stdout",
     "output_type": "stream",
     "text": [
      "Conflict values present. Please resolve this manually !\n"
     ]
    }
   ],
   "source": [
    "mdf, conflict_df = gdf_merger(df1, df2, how=how[1], on='ID', dist_max=1., drop_skip_col=['index'])"
   ]
  },
  {
   "cell_type": "code",
   "execution_count": 21,
   "id": "cd454052",
   "metadata": {
    "scrolled": false
   },
   "outputs": [
    {
     "name": "stdout",
     "output_type": "stream",
     "text": [
      "Rows : 1765, columns : 10, Unique col 'ID': 404\n"
     ]
    },
    {
     "data": {
      "application/vnd.jupyter.widget-view+json": {
       "model_id": "217e667e69164d6da7c59bb2e330d108",
       "version_major": 2,
       "version_minor": 0
      },
      "text/plain": [
       "interactive(children=(IntSlider(value=10, description='rows', max=1765, min=10, readout=False), IntSlider(valu…"
      ]
     },
     "metadata": {},
     "output_type": "display_data"
    }
   ],
   "source": [
    "gdf_viewer(mdf, rows=10, un_val='ID', view=t)"
   ]
  },
  {
   "cell_type": "markdown",
   "id": "7aad69a9",
   "metadata": {},
   "source": [
    "#### $\\color{blue}{\\textbf{Manage conflicts}}$"
   ]
  },
  {
   "cell_type": "code",
   "execution_count": 22,
   "id": "10e7c95b",
   "metadata": {
    "scrolled": false
   },
   "outputs": [
    {
     "name": "stdout",
     "output_type": "stream",
     "text": [
      "Rows : 108, columns : 4, Unique col 'ID': 15\n"
     ]
    },
    {
     "data": {
      "application/vnd.jupyter.widget-view+json": {
       "model_id": "b508468b2d0e445da4da5fc6309a3180",
       "version_major": 2,
       "version_minor": 0
      },
      "text/plain": [
       "interactive(children=(IntSlider(value=10, description='rows', max=108, min=10, readout=False), IntSlider(value…"
      ]
     },
     "metadata": {},
     "output_type": "display_data"
    }
   ],
   "source": [
    "gdf_viewer(conflict_df, rows=10, un_val='ID', view=t)"
   ]
  },
  {
   "cell_type": "raw",
   "id": "6596ec7b",
   "metadata": {},
   "source": [
    "data_validation(overall_data=mdf, conflict_data=conflict_df, index_col='index', \n",
    "                valid_dict={'Long_for_x':[136,142],},)"
   ]
  },
  {
   "cell_type": "markdown",
   "id": "0e0ed52b",
   "metadata": {},
   "source": [
    "#### First object dataset save"
   ]
  },
  {
   "cell_type": "code",
   "execution_count": 23,
   "id": "4bef5ec5",
   "metadata": {},
   "outputs": [],
   "source": [
    "dataset = mdf.copy() #saving"
   ]
  },
  {
   "cell_type": "markdown",
   "id": "635cde76",
   "metadata": {},
   "source": [
    "#### $\\color{green}{\\textbf{Read and merge}}$"
   ]
  },
  {
   "cell_type": "code",
   "execution_count": 24,
   "id": "83e19912",
   "metadata": {
    "scrolled": false
   },
   "outputs": [
    {
     "name": "stdout",
     "output_type": "stream",
     "text": [
      "df1 :  --> No coordinates\n",
      "df2 :  --> No coordinates\n",
      "Rows : 1626, columns : 10, Unique col 'ID': 298\n"
     ]
    },
    {
     "data": {
      "application/vnd.jupyter.widget-view+json": {
       "model_id": "20558a496ca148a58d3b989118e676dc",
       "version_major": 2,
       "version_minor": 0
      },
      "text/plain": [
       "interactive(children=(IntSlider(value=3, description='rows', max=1626, min=3, readout=False), IntSlider(value=…"
      ]
     },
     "metadata": {},
     "output_type": "display_data"
    },
    {
     "name": "stdout",
     "output_type": "stream",
     "text": [
      "Rows : 86, columns : 7, Unique col 'ID': 24\n"
     ]
    },
    {
     "data": {
      "application/vnd.jupyter.widget-view+json": {
       "model_id": "92dfdd45eed34661b5997d6a5384c140",
       "version_major": 2,
       "version_minor": 0
      },
      "text/plain": [
       "interactive(children=(IntSlider(value=3, description='rows', max=86, min=3, readout=False), IntSlider(value=7,…"
      ]
     },
     "metadata": {},
     "output_type": "display_data"
    },
    {
     "data": {
      "text/plain": [
       "(None, None)"
      ]
     },
     "execution_count": 24,
     "metadata": {},
     "output_type": "execute_result"
    }
   ],
   "source": [
    "file1= work_dir + 'database_Memoris3/Profils_sol_Lithology.csv' # 1\n",
    "file2= work_dir + 'donnees_terrain_2019/Log_Lithology.csv' # 3\n",
    "\n",
    "df1, df2 = create_df([file1, file2])\n",
    "gdf_viewer(df1, rows=3, un_val='ID', view=t), gdf_viewer(df2, rows=3, un_val='ID', view=t)"
   ]
  },
  {
   "cell_type": "code",
   "execution_count": 25,
   "id": "020d2655",
   "metadata": {},
   "outputs": [],
   "source": [
    "for idx, row in df2.iterrows():\n",
    "    if row['Type'] == 'Forage': \n",
    "        df2.loc[idx, 'Date_ouv']= '2019-10-07'\n",
    "    elif row['Type'] == 'Piezo' or row['Type'] == 'Piezair': \n",
    "        df2.loc[idx, 'Date_ouv']= '2019-12-18'"
   ]
  },
  {
   "cell_type": "code",
   "execution_count": 26,
   "id": "947ce64c",
   "metadata": {},
   "outputs": [],
   "source": [
    "df1.rename(columns={'Profondeur':'Long_for'}, inplace=True)\n",
    "#df2.rename(columns={'Long':'Long_for', 'Description':'Description2'}, inplace=True)"
   ]
  },
  {
   "cell_type": "code",
   "execution_count": 27,
   "id": "fd0c68f9",
   "metadata": {},
   "outputs": [],
   "source": [
    "df1 = df1[['ID','Date_ouv','Long_for','Description','Litho_top','Litho_base']].copy()\n",
    "df2 = df2[['ID','Date_ouv','Description','Litho_top','Litho_base','Zone']].copy()"
   ]
  },
  {
   "cell_type": "code",
   "execution_count": 28,
   "id": "053567e6",
   "metadata": {
    "scrolled": true
   },
   "outputs": [],
   "source": [
    "mdf, conflict_df = gdf_merger(df1, df2, how=how[1], on='ID', date_col='Date_ouv', dist_max=None, drop_skip_col=['index'])"
   ]
  },
  {
   "cell_type": "code",
   "execution_count": 29,
   "id": "3c31d910",
   "metadata": {
    "scrolled": false
   },
   "outputs": [
    {
     "name": "stdout",
     "output_type": "stream",
     "text": [
      "Rows : 1716, columns : 7, Unique col 'ID': 322\n"
     ]
    },
    {
     "data": {
      "application/vnd.jupyter.widget-view+json": {
       "model_id": "e041d429975a4ea396a6644db9028bee",
       "version_major": 2,
       "version_minor": 0
      },
      "text/plain": [
       "interactive(children=(IntSlider(value=10, description='rows', max=1716, min=10, readout=False), IntSlider(valu…"
      ]
     },
     "metadata": {},
     "output_type": "display_data"
    }
   ],
   "source": [
    "gdf_viewer(mdf, rows=10, un_val='ID', view=t)"
   ]
  },
  {
   "cell_type": "code",
   "execution_count": 30,
   "id": "0a90ac9b",
   "metadata": {},
   "outputs": [
    {
     "ename": "NameError",
     "evalue": "name 'pause' is not defined",
     "output_type": "error",
     "traceback": [
      "\u001b[0;31m---------------------------------------------------------------------------\u001b[0m",
      "\u001b[0;31mNameError\u001b[0m                                 Traceback (most recent call last)",
      "\u001b[0;32m<ipython-input-30-34d6930c0341>\u001b[0m in \u001b[0;36m<module>\u001b[0;34m\u001b[0m\n\u001b[0;32m----> 1\u001b[0;31m \u001b[0mpause\u001b[0m\u001b[0;34m\u001b[0m\u001b[0;34m\u001b[0m\u001b[0m\n\u001b[0m",
      "\u001b[0;31mNameError\u001b[0m: name 'pause' is not defined"
     ]
    }
   ],
   "source": [
    "pause # problem with dataset merging"
   ]
  },
  {
   "cell_type": "markdown",
   "id": "ffde53b2",
   "metadata": {},
   "source": [
    "#### Merge with object dataset"
   ]
  },
  {
   "cell_type": "raw",
   "id": "396b7992",
   "metadata": {
    "scrolled": true
   },
   "source": [
    "dataset, conflict_df=gdf_merger(dataset, mdf, how=how[1], on='ID', dist_max=None, \n",
    "                                date_col='Date_ouv', drop_skip_col=['index'])"
   ]
  },
  {
   "cell_type": "raw",
   "id": "9d2f760d",
   "metadata": {},
   "source": [
    "if 'level_0' in dataset.columns:\n",
    "    if 'index' in dataset.columns:\n",
    "        dataset.drop(columns='index', inplace=True)\n",
    "    dataset.rename(columns={'level_0':'index'}, inplace=True)"
   ]
  },
  {
   "cell_type": "raw",
   "id": "99804e50",
   "metadata": {
    "scrolled": true
   },
   "source": [
    "gdf_viewer(dataset, rows=10, un_val='ID', view=t)"
   ]
  },
  {
   "cell_type": "markdown",
   "id": "23b7efcf",
   "metadata": {},
   "source": [
    "#### $\\color{blue}{\\textbf{Manage conflicts}}$"
   ]
  },
  {
   "cell_type": "raw",
   "id": "e5758bbd",
   "metadata": {
    "scrolled": false
   },
   "source": [
    "gdf_viewer(conflict_df, rows=10, un_val='ID', view=t) # here boreholes are differents !!!"
   ]
  },
  {
   "cell_type": "raw",
   "id": "fb8803ff",
   "metadata": {},
   "source": [
    "data_validation(overall_data=mdf, conflict_data=conflict_df, index_col='index', \n",
    "                valid_dict={'Long_for_x':[136,142],},)"
   ]
  },
  {
   "cell_type": "raw",
   "id": "86a7afbc",
   "metadata": {
    "scrolled": false
   },
   "source": [
    "gdf_viewer(conflict_df, rows=10, un_val='ID', view=t)"
   ]
  },
  {
   "cell_type": "markdown",
   "id": "1bb09173",
   "metadata": {},
   "source": [
    "#### $\\color{green}{\\textbf{Read and merge}}$"
   ]
  },
  {
   "cell_type": "raw",
   "id": "1a473302",
   "metadata": {},
   "source": [
    "file1 = files_dict[key][5]\n",
    "file2 = files_dict[key][6]"
   ]
  },
  {
   "cell_type": "raw",
   "id": "f4e38b79",
   "metadata": {
    "scrolled": false
   },
   "source": [
    "#file1= work_dir + 'database_Memoris3/Profils_sol_Lithology.csv' # 1\n",
    "#file2= work_dir + 'donnees_terrain_2019/Log_Lithology.csv' # 3\n",
    "\n",
    "df1, df2 = create_df([file1, file2])\n",
    "gdf_viewer(df1, rows=3, un_val='ID', view=t), gdf_viewer(df2, rows=3, un_val='ID', view=t)"
   ]
  },
  {
   "cell_type": "raw",
   "id": "3346c7f0",
   "metadata": {},
   "source": [
    "df1.rename(columns={'Profondeur':'Long_for'}, inplace=True)\n",
    "#df2.rename(columns={'Long':'Long_for', 'Description':'Description2'}, inplace=True)"
   ]
  },
  {
   "cell_type": "raw",
   "id": "85468f7c",
   "metadata": {},
   "source": [
    "df1 = df1[['ID','Date_ouv','Long_for','Description','Litho_top','Litho_base']].copy()\n",
    "df2 = df2[['ID','Description','Litho_top','Litho_base','Zone']].copy()"
   ]
  },
  {
   "cell_type": "raw",
   "id": "a3e631bf",
   "metadata": {
    "scrolled": true
   },
   "source": [
    "mdf, conflict_df = gdf_merger(df1, df2, how=how[1], on='ID', dist_max=None, drop_skip_col=['index'])"
   ]
  },
  {
   "cell_type": "raw",
   "id": "d3d903aa",
   "metadata": {
    "scrolled": false
   },
   "source": [
    "gdf_viewer(mdf, rows=10, un_val='ID', view=t)"
   ]
  },
  {
   "cell_type": "markdown",
   "id": "8228f951",
   "metadata": {},
   "source": [
    "#### $\\color{blue}{\\textbf{Manage conflicts}}$"
   ]
  },
  {
   "cell_type": "raw",
   "id": "7985d41f",
   "metadata": {
    "scrolled": false
   },
   "source": [
    "# here boreholes are differents, must be rename before merging !!!\n",
    "gdf_viewer(conflict_df, rows=10, un_val='ID', view=t)"
   ]
  },
  {
   "cell_type": "raw",
   "id": "3aee7cd5",
   "metadata": {},
   "source": [
    "data_validation(overall_data=mdf, conflict_data=conflict_df, index_col='index', \n",
    "                valid_dict={'Long_for_x':[136,142],},)"
   ]
  },
  {
   "cell_type": "raw",
   "id": "341a0e5f",
   "metadata": {
    "scrolled": false
   },
   "source": [
    "gdf_viewer(conflict_df, rows=10, un_val='ID', view=t)"
   ]
  },
  {
   "cell_type": "markdown",
   "id": "060b2b9c",
   "metadata": {},
   "source": [
    "#### Merge with object dataset"
   ]
  },
  {
   "cell_type": "raw",
   "id": "1b3579c9",
   "metadata": {
    "scrolled": true
   },
   "source": [
    "dataset, conflict_df=gdf_merger(dataset, mdf, how=how[1], on='ID', dist_max=1)"
   ]
  },
  {
   "cell_type": "raw",
   "id": "1ab4b531",
   "metadata": {},
   "source": [
    "if 'level_0' in dataset.columns:\n",
    "    if 'index' in dataset.columns:\n",
    "        dataset.drop(columns='index', inplace=True)\n",
    "    dataset.rename(columns={'level_0':'index'}, inplace=True)"
   ]
  },
  {
   "cell_type": "raw",
   "id": "35f12631",
   "metadata": {
    "scrolled": true
   },
   "source": [
    "gdf_viewer(dataset, rows=10, un_val='ID', view=t)"
   ]
  },
  {
   "cell_type": "markdown",
   "id": "f8fcb8fa",
   "metadata": {},
   "source": [
    "#### $\\color{blue}{\\textbf{Manage conflicts}}$"
   ]
  },
  {
   "cell_type": "raw",
   "id": "69d89057",
   "metadata": {
    "scrolled": true
   },
   "source": [
    "conflict_df"
   ]
  },
  {
   "cell_type": "raw",
   "id": "3e3b2a00",
   "metadata": {},
   "source": [
    "data_validation(overall_data=dataset, conflict_data=conflict_df, index_col='index', \n",
    "                valid_dict={'Long_for_x':[136,142],},)"
   ]
  },
  {
   "cell_type": "raw",
   "id": "170b42a9",
   "metadata": {
    "scrolled": true
   },
   "source": [
    "gdf_viewer(dataset, rows=3, un_val='ID', view=t)"
   ]
  },
  {
   "cell_type": "raw",
   "id": "e074fc0f",
   "metadata": {},
   "source": [
    "pause"
   ]
  },
  {
   "cell_type": "markdown",
   "id": "6487aeb1",
   "metadata": {},
   "source": [
    "####  $\\color{red}{\\textbf{Save final object dataset}}$"
   ]
  },
  {
   "cell_type": "raw",
   "id": "e15e4619",
   "metadata": {},
   "source": [
    "if 'index' in dataset.columns:\n",
    "    dataset.drop(columns='index', inplace=True)"
   ]
  },
  {
   "cell_type": "raw",
   "id": "45a4edcb",
   "metadata": {},
   "source": [
    "if not os.path.exists(save_dir):\n",
    "    os.makedirs(save_dir)\n",
    "    \n",
    "dataset.to_csv(save_dir + save_file, index=False)"
   ]
  },
  {
   "cell_type": "raw",
   "id": "f074b945",
   "metadata": {},
   "source": [
    "bh = dataset"
   ]
  },
  {
   "cell_type": "markdown",
   "id": "008fe121",
   "metadata": {},
   "source": [
    "#### -----------------------------------------------------------"
   ]
  },
  {
   "cell_type": "markdown",
   "id": "76256113",
   "metadata": {},
   "source": [
    "## Plot"
   ]
  },
  {
   "cell_type": "code",
   "execution_count": 31,
   "id": "d0fbda1e",
   "metadata": {},
   "outputs": [
    {
     "data": {
      "image/png": "[encoded data removed]",
      "text/plain": [
       "<Figure size 432x288 with 1 Axes>"
      ]
     },
     "metadata": {
      "needs_background": "light"
     },
     "output_type": "display_data"
    }
   ],
   "source": [
    "plt.plot(dataset['X'],dataset['Y'], '.')\n",
    "plt.axis('equal')\n",
    "plt.grid('on')"
   ]
  },
  {
   "cell_type": "code",
   "execution_count": null,
   "id": "5eb2a1c5",
   "metadata": {},
   "outputs": [],
   "source": [
    "pause"
   ]
  }
 ],
 "metadata": {
  "kernelspec": {
   "display_name": "Python 3",
   "language": "python",
   "name": "python3"
  },
  "language_info": {
   "codemirror_mode": {
    "name": "ipython",
    "version": 3
   },
   "file_extension": ".py",
   "mimetype": "text/x-python",
   "name": "python",
   "nbconvert_exporter": "python",
   "pygments_lexer": "ipython3",
   "version": "3.8.5"
  }
 },
 "nbformat": 4,
 "nbformat_minor": 5
}
