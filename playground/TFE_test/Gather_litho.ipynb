{
 "cells": [
  {
   "cell_type": "markdown",
   "id": "finite-killing",
   "metadata": {},
   "source": [
    "# Data Gathering"
   ]
  },
  {
   "cell_type": "code",
   "execution_count": 81,
   "id": "loaded-theology",
   "metadata": {},
   "outputs": [],
   "source": [
    "%matplotlib inline"
   ]
  },
  {
   "cell_type": "code",
   "execution_count": 2,
   "id": "educational-barrier",
   "metadata": {},
   "outputs": [],
   "source": [
    "from utils.io import gdf_viewer, gdf_merger, data_validation, gdf_filter, fix_duplicates\n",
    "import re, os\n",
    "import numpy as np\n",
    "import geopandas as gpd\n",
    "import pandas as pd\n",
    "import datetime as dtm\n",
    "import matplotlib.pyplot as plt\n",
    "from definitions import ROOT_DIR"
   ]
  },
  {
   "cell_type": "code",
   "execution_count": 3,
   "id": "potential-pride",
   "metadata": {
    "scrolled": true
   },
   "outputs": [],
   "source": [
    "def files_search(work_dir, files_dict, prefix='', skip=None, details=False):   \n",
    "    \n",
    "    if skip is None:\n",
    "        skip = \"we don't want to skip a word\"\n",
    "        \n",
    "    for k in files_dict.keys():\n",
    "        tmp_list = []\n",
    "        for p,d,f in os.walk(work_dir):\n",
    "            for x in f:\n",
    "                add = False\n",
    "                if re.search(prefix,x,re.I) and not re.search(skip,x,re.I):\n",
    "                    add = True\n",
    "                    i = str(f'{p}/{x}')\n",
    "                else:\n",
    "                    add = False\n",
    "                    i=''\n",
    "                    \n",
    "                if re.search(k,i,re.I) and add:\n",
    "                    tmp_list.append(i)\n",
    "        tmp_list.sort()\n",
    "        files_dict.update({k:tmp_list})\n",
    "\n",
    "    for k,v in files_dict.items():\n",
    "        print(k,' \\t: ',len(v))\n",
    "    \n",
    "    if details: # Look filenames\n",
    "        which = files_dict.keys()\n",
    "\n",
    "        for w in which:\n",
    "            print('\\n+++++++++++++++++')\n",
    "            print(f'+  {w.upper()}\\t+ ')\n",
    "            print('+++++++++++++++++')\n",
    "            [print(i, '-', x) for i, x in enumerate(files_dict[w], 0)]    \n"
   ]
  },
  {
   "cell_type": "code",
   "execution_count": 4,
   "id": "representative-bunny",
   "metadata": {},
   "outputs": [],
   "source": [
    "def create_df(files, verbose=True): # find another name for this function\n",
    "    \"\"\"\n",
    "    create dataframes from files and test if they contain position informations\n",
    "    files: list of files name\n",
    "    \"\"\"\n",
    "    dfs = []\n",
    "    for f in files:\n",
    "        df = pd.read_csv(f, delimiter=',')\n",
    "        dfs.append(df)\n",
    "        \n",
    "        if verbose:\n",
    "            if 'X' in list(df.columns): msg = ' --> Coordinates'\n",
    "            else: msg = ' --> No coordinates'\n",
    "\n",
    "            print(f\"df1 : {msg}\")\n",
    "            \n",
    "    return dfs"
   ]
  },
  {
   "cell_type": "code",
   "execution_count": 5,
   "id": "8b09082c",
   "metadata": {
    "scrolled": true
   },
   "outputs": [],
   "source": [
    "def dataset_overview(d, verbose=False): # check for same datasets in given files\n",
    "    \"\"\"d: dict\n",
    "    \"\"\"\n",
    "    l = len(d)\n",
    "    with_coord = []\n",
    "    no_coord = []\n",
    "    same = []\n",
    "    \n",
    "    for i in range(l-1):\n",
    "        for j in range(i,l):\n",
    "            a, b = create_df([d[i], d[j]], verbose)\n",
    "            if j != i:\n",
    "                if a.equals(b):\n",
    "                    same.append((i,j))\n",
    "            \n",
    "            if 'X' in list(b.columns) and j not in with_coord:\n",
    "                with_coord.append(j)\n",
    "            elif 'X' not in list(b.columns) and j not in no_coord:\n",
    "                no_coord.append(j)\n",
    "    \n",
    "    print(f'Same files:{same}\\nFiles with coordinates:{with_coord}\\nFiles without coordinates:{no_coord}')"
   ]
  },
  {
   "cell_type": "markdown",
   "id": "enhanced-noise",
   "metadata": {},
   "source": [
    "## Reading files"
   ]
  },
  {
   "cell_type": "code",
   "execution_count": 6,
   "id": "vanilla-bones",
   "metadata": {},
   "outputs": [],
   "source": [
    "work_dir = ROOT_DIR+'/CF_data/Result_traitem/'\n",
    "save_dir = ROOT_DIR+'/CF_data/Donnees_fusionnees/'"
   ]
  },
  {
   "cell_type": "code",
   "execution_count": 7,
   "id": "confused-pleasure",
   "metadata": {},
   "outputs": [],
   "source": [
    "# create my dictionary structure to retrieve good files (Keynames !!!)\n",
    "files_dict={'Borehole':0,'Piezometer':0,'Piezair':0,'Trench':0,'Litho':0,'Equipm':0,\n",
    "        'Measure':0,'Sample':0,'Analysis':0,'Facility':0}"
   ]
  },
  {
   "cell_type": "code",
   "execution_count": 8,
   "id": "compliant-sensitivity",
   "metadata": {
    "scrolled": true
   },
   "outputs": [
    {
     "name": "stdout",
     "output_type": "stream",
     "text": [
      "Borehole  \t:  7\n",
      "Piezometer  \t:  17\n",
      "Piezair  \t:  2\n",
      "Trench  \t:  1\n",
      "Litho  \t:  8\n",
      "Equipm  \t:  3\n",
      "Measure  \t:  6\n",
      "Sample  \t:  27\n",
      "Analysis  \t:  21\n",
      "Facility  \t:  4\n"
     ]
    }
   ],
   "source": [
    "files_search(work_dir, files_dict, prefix='', skip='source')"
   ]
  },
  {
   "cell_type": "code",
   "execution_count": 9,
   "id": "possible-bones",
   "metadata": {},
   "outputs": [],
   "source": [
    "how=['inner', 'outer', 'left', 'right']"
   ]
  },
  {
   "cell_type": "code",
   "execution_count": 10,
   "id": "national-boards",
   "metadata": {},
   "outputs": [],
   "source": [
    "f = False\n",
    "t = True"
   ]
  },
  {
   "cell_type": "markdown",
   "id": "c99f6d75",
   "metadata": {},
   "source": [
    "# ================== PROCESSING ===================== "
   ]
  },
  {
   "cell_type": "markdown",
   "id": "vanilla-transformation",
   "metadata": {},
   "source": [
    "# Boreholes"
   ]
  },
  {
   "cell_type": "markdown",
   "id": "defined-oregon",
   "metadata": {},
   "source": [
    "Some corrections todo in 'data organization':\n",
    "- correct extraction in the file 2 -> Samples\n",
    "- file 4 and file 5 are the same in result (check it)\n",
    "- try to concatenate file 1 with piezo (if possible because no position)\n",
    "- check processing for 'refus and 'type_refus' (every object)"
   ]
  },
  {
   "cell_type": "code",
   "execution_count": 11,
   "id": "champion-wallet",
   "metadata": {},
   "outputs": [
    {
     "name": "stdout",
     "output_type": "stream",
     "text": [
      "7 files\n"
     ]
    }
   ],
   "source": [
    "key='Borehole'\n",
    "save_file = f'Merged_Boreholes.csv'\n",
    "coi=['ID','ID_date','X','Y','Z','Type','Long_for','Diam_for','Refus', 'Societe'] #columns of interest\n",
    "dataset = pd.DataFrame() # for saving object info after last merging\n",
    "print(len(files_dict[key]), 'files')"
   ]
  },
  {
   "cell_type": "code",
   "execution_count": 12,
   "id": "surprised-relations",
   "metadata": {
    "scrolled": true
   },
   "outputs": [
    {
     "data": {
      "text/plain": [
       "['/home/su530201/PycharmProjects/GSDMA/CF_data/Result_traitem/Forage_Pilote/leve_Z_elect_pos_Boreholes.csv',\n",
       " '/home/su530201/PycharmProjects/GSDMA/CF_data/Result_traitem/Prof_contact_sol_forage/Feuil1_Boreholes.csv',\n",
       " '/home/su530201/PycharmProjects/GSDMA/CF_data/Result_traitem/database_Memoris3/Profils_sol_Boreholes.csv',\n",
       " '/home/su530201/PycharmProjects/GSDMA/CF_data/Result_traitem/donnees_terrain_2019/Donnees_forage_Boreholes.csv',\n",
       " '/home/su530201/PycharmProjects/GSDMA/CF_data/Result_traitem/profils_sols_donnees_forages/Equipement_Boreholes.csv',\n",
       " '/home/su530201/PycharmProjects/GSDMA/CF_data/Result_traitem/profils_sols_donnees_forages/Log_Boreholes.csv',\n",
       " '/home/su530201/PycharmProjects/GSDMA/CF_data/Result_traitem/profils_sols_donnees_forages/donnees_forage_Boreholes.csv']"
      ]
     },
     "execution_count": 12,
     "metadata": {},
     "output_type": "execute_result"
    }
   ],
   "source": [
    "files_dict[key] #files_dict[key][0]"
   ]
  },
  {
   "cell_type": "code",
   "execution_count": 13,
   "id": "d2213ff0",
   "metadata": {
    "scrolled": false
   },
   "outputs": [
    {
     "name": "stdout",
     "output_type": "stream",
     "text": [
      "Same files:[(4, 6)]\n",
      "Files with coordinates:[1, 3, 4, 6]\n",
      "Files without coordinates:[0, 2, 5]\n"
     ]
    }
   ],
   "source": [
    "dataset_overview(files_dict[key])"
   ]
  },
  {
   "cell_type": "markdown",
   "id": "f15174f2",
   "metadata": {},
   "source": [
    "#### $\\color{green}{\\textbf{Read and merge}}$"
   ]
  },
  {
   "cell_type": "code",
   "execution_count": 14,
   "id": "0942a801",
   "metadata": {
    "scrolled": true
   },
   "outputs": [
    {
     "name": "stdout",
     "output_type": "stream",
     "text": [
      "df1 :  --> No coordinates\n",
      "df1 :  --> Coordinates\n",
      "Rows : 24, columns : 3, Unique col 'ID': 24\n"
     ]
    },
    {
     "data": {
      "application/vnd.jupyter.widget-view+json": {
       "model_id": "6524ba866924444f9fbdefb25e68d0c9",
       "version_major": 2,
       "version_minor": 0
      },
      "text/plain": [
       "interactive(children=(IntSlider(value=3, description='rows', max=24, min=3, readout=False), IntSlider(value=3,…"
      ]
     },
     "metadata": {},
     "output_type": "display_data"
    },
    {
     "name": "stdout",
     "output_type": "stream",
     "text": [
      "Rows : 13, columns : 13, Unique col 'ID': 13\n"
     ]
    },
    {
     "data": {
      "application/vnd.jupyter.widget-view+json": {
       "model_id": "dc817a93b0254bef972eea8ef97117d1",
       "version_major": 2,
       "version_minor": 0
      },
      "text/plain": [
       "interactive(children=(IntSlider(value=3, description='rows', max=13, min=3, readout=False), IntSlider(value=12…"
      ]
     },
     "metadata": {},
     "output_type": "display_data"
    },
    {
     "data": {
      "text/plain": [
       "(None, None)"
      ]
     },
     "execution_count": 14,
     "metadata": {},
     "output_type": "execute_result"
    }
   ],
   "source": [
    "file1= work_dir + 'profils_sols_donnees_forages/Log_Boreholes.csv' # 5\n",
    "file2= work_dir + 'profils_sols_donnees_forages/Equipement_Boreholes.csv' # 4\n",
    "\n",
    "df1, df2 = create_df([file1, file2])\n",
    "gdf_viewer(df1, rows=3, un_val='ID', view=t), gdf_viewer(df2, rows=3, un_val='ID', view=t)"
   ]
  },
  {
   "cell_type": "code",
   "execution_count": 15,
   "id": "f2332ec5",
   "metadata": {},
   "outputs": [],
   "source": [
    "df1.rename(columns={'Profondeur':'Long_for'}, inplace=True)\n",
    "df2.rename(columns={'Profondeur':'Long_for'}, inplace=True)"
   ]
  },
  {
   "cell_type": "code",
   "execution_count": 16,
   "id": "bb83aa6d",
   "metadata": {
    "scrolled": true
   },
   "outputs": [],
   "source": [
    "mdf, conflict_df=gdf_merger(df1, df2, how=how[1], on='ID', dist_max=1)"
   ]
  },
  {
   "cell_type": "code",
   "execution_count": 17,
   "id": "f89ada69",
   "metadata": {
    "scrolled": true
   },
   "outputs": [
    {
     "name": "stdout",
     "output_type": "stream",
     "text": [
      "Rows : 25, columns : 13, Unique col 'ID': 25\n"
     ]
    },
    {
     "data": {
      "application/vnd.jupyter.widget-view+json": {
       "model_id": "3db69ddf64dd48ec87765accf2673198",
       "version_major": 2,
       "version_minor": 0
      },
      "text/plain": [
       "interactive(children=(IntSlider(value=10, description='rows', max=25, min=10, readout=False), IntSlider(value=…"
      ]
     },
     "metadata": {},
     "output_type": "display_data"
    }
   ],
   "source": [
    "gdf_viewer(mdf, rows=10, un_val='ID', view=t)"
   ]
  },
  {
   "cell_type": "markdown",
   "id": "cf7d4728",
   "metadata": {},
   "source": [
    "#### First object dataset save"
   ]
  },
  {
   "cell_type": "code",
   "execution_count": 18,
   "id": "974c2bdf",
   "metadata": {},
   "outputs": [],
   "source": [
    "dataset = mdf.copy() #saving"
   ]
  },
  {
   "cell_type": "markdown",
   "id": "fa4ea246",
   "metadata": {},
   "source": [
    "#### $\\color{green}{\\textbf{Read and merge}}$"
   ]
  },
  {
   "cell_type": "code",
   "execution_count": 19,
   "id": "90db7607",
   "metadata": {
    "scrolled": true
   },
   "outputs": [
    {
     "name": "stdout",
     "output_type": "stream",
     "text": [
      "df1 :  --> No coordinates\n",
      "df1 :  --> Coordinates\n",
      "Rows : 172, columns : 6, Unique col 'ID': 172\n"
     ]
    },
    {
     "data": {
      "application/vnd.jupyter.widget-view+json": {
       "model_id": "1c7760d5d2bd4caeb1d563761c88a9ba",
       "version_major": 2,
       "version_minor": 0
      },
      "text/plain": [
       "interactive(children=(IntSlider(value=3, description='rows', max=172, min=3, readout=False), IntSlider(value=6…"
      ]
     },
     "metadata": {},
     "output_type": "display_data"
    },
    {
     "name": "stdout",
     "output_type": "stream",
     "text": [
      "Rows : 8, columns : 6, Unique col 'ID': 8\n"
     ]
    },
    {
     "data": {
      "application/vnd.jupyter.widget-view+json": {
       "model_id": "6a43e0af28934f65b9b14d005dc6d57b",
       "version_major": 2,
       "version_minor": 0
      },
      "text/plain": [
       "interactive(children=(IntSlider(value=3, description='rows', max=8, min=3, readout=False), IntSlider(value=6, …"
      ]
     },
     "metadata": {},
     "output_type": "display_data"
    },
    {
     "data": {
      "text/plain": [
       "(None, None)"
      ]
     },
     "execution_count": 19,
     "metadata": {},
     "output_type": "execute_result"
    }
   ],
   "source": [
    "file1= work_dir + 'database_Memoris3/Profils_sol_Boreholes.csv' # 2\n",
    "file2= work_dir + 'Prof_contact_sol_forage/Feuil1_Boreholes.csv' # 1\n",
    "\n",
    "df1, df2 = create_df([file1, file2])\n",
    "gdf_viewer(df1, rows=3, un_val='ID', view=t), gdf_viewer(df2, rows=3, un_val='ID', view=t)"
   ]
  },
  {
   "cell_type": "code",
   "execution_count": 20,
   "id": "fd86782a",
   "metadata": {},
   "outputs": [],
   "source": [
    "df1.rename(columns={'Profondeur':'Long_for'}, inplace=True)\n",
    "df2.rename(columns={'Profondeur':'Long_for'}, inplace=True)"
   ]
  },
  {
   "cell_type": "code",
   "execution_count": 21,
   "id": "ac4ecb84",
   "metadata": {
    "scrolled": true
   },
   "outputs": [
    {
     "name": "stdout",
     "output_type": "stream",
     "text": [
      "Conflict values present. Please resolve this manually !\n"
     ]
    }
   ],
   "source": [
    "mdf, conflict_df=gdf_merger(df1, df2, how=how[1], on='ID', dist_max=1)"
   ]
  },
  {
   "cell_type": "code",
   "execution_count": 22,
   "id": "354852df",
   "metadata": {
    "scrolled": true
   },
   "outputs": [
    {
     "name": "stdout",
     "output_type": "stream",
     "text": [
      "Rows : 177, columns : 10, Unique col 'ID': 177\n"
     ]
    },
    {
     "data": {
      "application/vnd.jupyter.widget-view+json": {
       "model_id": "7ae7feea74f345038d98d978d2fa8c39",
       "version_major": 2,
       "version_minor": 0
      },
      "text/plain": [
       "interactive(children=(IntSlider(value=10, description='rows', max=177, min=10, readout=False), IntSlider(value…"
      ]
     },
     "metadata": {},
     "output_type": "display_data"
    }
   ],
   "source": [
    "gdf_viewer(mdf, rows=10, un_val='ID', view=t)"
   ]
  },
  {
   "cell_type": "markdown",
   "id": "daba29e6",
   "metadata": {},
   "source": [
    "#### $\\color{blue}{\\textbf{Manage conflicts}}$"
   ]
  },
  {
   "cell_type": "code",
   "execution_count": 23,
   "id": "8359be03",
   "metadata": {},
   "outputs": [
    {
     "data": {
      "text/html": [
       "<div>\n",
       "<style scoped>\n",
       "    .dataframe tbody tr th:only-of-type {\n",
       "        vertical-align: middle;\n",
       "    }\n",
       "\n",
       "    .dataframe tbody tr th {\n",
       "        vertical-align: top;\n",
       "    }\n",
       "\n",
       "    .dataframe thead th {\n",
       "        text-align: right;\n",
       "    }\n",
       "</style>\n",
       "<table border=\"1\" class=\"dataframe\">\n",
       "  <thead>\n",
       "    <tr style=\"text-align: right;\">\n",
       "      <th></th>\n",
       "      <th>Check_col</th>\n",
       "      <th>ID</th>\n",
       "      <th>Long_for_x</th>\n",
       "      <th>Long_for_y</th>\n",
       "    </tr>\n",
       "  </thead>\n",
       "  <tbody>\n",
       "    <tr>\n",
       "      <th>136</th>\n",
       "      <td>Long_for</td>\n",
       "      <td>F205</td>\n",
       "      <td>1.4</td>\n",
       "      <td>3.2</td>\n",
       "    </tr>\n",
       "    <tr>\n",
       "      <th>138</th>\n",
       "      <td>Long_for</td>\n",
       "      <td>F212</td>\n",
       "      <td>5.8</td>\n",
       "      <td>3.4</td>\n",
       "    </tr>\n",
       "    <tr>\n",
       "      <th>142</th>\n",
       "      <td>Long_for</td>\n",
       "      <td>F217</td>\n",
       "      <td>5.7</td>\n",
       "      <td>4.2</td>\n",
       "    </tr>\n",
       "  </tbody>\n",
       "</table>\n",
       "</div>"
      ],
      "text/plain": [
       "    Check_col    ID  Long_for_x  Long_for_y\n",
       "136  Long_for  F205         1.4         3.2\n",
       "138  Long_for  F212         5.8         3.4\n",
       "142  Long_for  F217         5.7         4.2"
      ]
     },
     "execution_count": 23,
     "metadata": {},
     "output_type": "execute_result"
    }
   ],
   "source": [
    "conflict_df"
   ]
  },
  {
   "cell_type": "raw",
   "id": "282668f2",
   "metadata": {},
   "source": [
    "data_validation(overall_data=mdf, conflict_data=conflict_df, index_col='index', \n",
    "                valid_dict={'Long_for_x':[136,142],},)"
   ]
  },
  {
   "cell_type": "markdown",
   "id": "f3a4c236",
   "metadata": {},
   "source": [
    "#### Merge with object dataset"
   ]
  },
  {
   "cell_type": "code",
   "execution_count": 24,
   "id": "dcc0dbb0",
   "metadata": {
    "scrolled": true
   },
   "outputs": [],
   "source": [
    "dataset, conflict_df=gdf_merger(dataset, mdf, how=how[1], on='ID', dist_max=1)"
   ]
  },
  {
   "cell_type": "code",
   "execution_count": 25,
   "id": "1c3979ff",
   "metadata": {},
   "outputs": [],
   "source": [
    "if 'level_0' in dataset.columns:\n",
    "    if 'index' in dataset.columns:\n",
    "        dataset.drop(columns='index', inplace=True)\n",
    "    dataset.rename(columns={'level_0':'index'}, inplace=True)"
   ]
  },
  {
   "cell_type": "code",
   "execution_count": 26,
   "id": "ad32f1ca",
   "metadata": {
    "scrolled": true
   },
   "outputs": [
    {
     "name": "stdout",
     "output_type": "stream",
     "text": [
      "Rows : 202, columns : 14, Unique col 'ID': 202\n"
     ]
    },
    {
     "data": {
      "application/vnd.jupyter.widget-view+json": {
       "model_id": "2c051509b1c9414aae84c5e507fd08af",
       "version_major": 2,
       "version_minor": 0
      },
      "text/plain": [
       "interactive(children=(IntSlider(value=10, description='rows', max=202, min=10, readout=False), IntSlider(value…"
      ]
     },
     "metadata": {},
     "output_type": "display_data"
    }
   ],
   "source": [
    "gdf_viewer(dataset, rows=10, un_val='ID', view=t)"
   ]
  },
  {
   "cell_type": "markdown",
   "id": "38efa137",
   "metadata": {},
   "source": [
    "#### $\\color{green}{\\textbf{Read and merge}}$"
   ]
  },
  {
   "cell_type": "code",
   "execution_count": 27,
   "id": "cc2b658f",
   "metadata": {
    "scrolled": true
   },
   "outputs": [
    {
     "name": "stdout",
     "output_type": "stream",
     "text": [
      "df1 :  --> No coordinates\n",
      "df1 :  --> Coordinates\n",
      "Rows : 72, columns : 5, Unique col 'ID': 72\n"
     ]
    },
    {
     "data": {
      "application/vnd.jupyter.widget-view+json": {
       "model_id": "9eef743e5fd24fda95e53c214896e0d0",
       "version_major": 2,
       "version_minor": 0
      },
      "text/plain": [
       "interactive(children=(IntSlider(value=3, description='rows', max=72, min=3, readout=False), IntSlider(value=5,…"
      ]
     },
     "metadata": {},
     "output_type": "display_data"
    },
    {
     "name": "stdout",
     "output_type": "stream",
     "text": [
      "Rows : 16, columns : 18, Unique col 'ID': 16\n"
     ]
    },
    {
     "data": {
      "application/vnd.jupyter.widget-view+json": {
       "model_id": "d61e7549e10749e5b0a9a32ae277ae2b",
       "version_major": 2,
       "version_minor": 0
      },
      "text/plain": [
       "interactive(children=(IntSlider(value=3, description='rows', max=16, min=3, readout=False), IntSlider(value=12…"
      ]
     },
     "metadata": {},
     "output_type": "display_data"
    },
    {
     "data": {
      "text/plain": [
       "(None, None)"
      ]
     },
     "execution_count": 27,
     "metadata": {},
     "output_type": "execute_result"
    }
   ],
   "source": [
    "file1= work_dir + 'Forage_Pilote/leve_Z_elect_pos_Boreholes.csv' # 0\n",
    "file2= work_dir + 'donnees_terrain_2019/Donnees_forage_Boreholes.csv' # 3\n",
    "\n",
    "df1, df2 = create_df([file1, file2])\n",
    "gdf_viewer(df1, rows=3, un_val='ID', view=t), gdf_viewer(df2, rows=3, un_val='ID', view=t)"
   ]
  },
  {
   "cell_type": "code",
   "execution_count": 28,
   "id": "632be907",
   "metadata": {},
   "outputs": [],
   "source": [
    "df2.ID=df2.ID.apply(lambda x: 'F'+x) # name recent (2019) boreholes"
   ]
  },
  {
   "cell_type": "code",
   "execution_count": 29,
   "id": "244e64db",
   "metadata": {
    "scrolled": true
   },
   "outputs": [
    {
     "name": "stdout",
     "output_type": "stream",
     "text": [
      "Conflict values present. Please resolve this manually !\n"
     ]
    }
   ],
   "source": [
    "mdf, conflict_df=gdf_merger(df1, df2, how=how[1], on='ID', dist_max=1)"
   ]
  },
  {
   "cell_type": "code",
   "execution_count": 30,
   "id": "4f2f399e",
   "metadata": {
    "scrolled": true
   },
   "outputs": [
    {
     "name": "stdout",
     "output_type": "stream",
     "text": [
      "Rows : 74, columns : 20, Unique col 'ID': 74\n"
     ]
    },
    {
     "data": {
      "application/vnd.jupyter.widget-view+json": {
       "model_id": "b503f4e25c2c453484a071b0c7cd2c92",
       "version_major": 2,
       "version_minor": 0
      },
      "text/plain": [
       "interactive(children=(IntSlider(value=10, description='rows', max=74, min=10, readout=False), IntSlider(value=…"
      ]
     },
     "metadata": {},
     "output_type": "display_data"
    }
   ],
   "source": [
    "gdf_viewer(mdf, rows=10, un_val='ID', view=t)"
   ]
  },
  {
   "cell_type": "markdown",
   "id": "8a10e999",
   "metadata": {},
   "source": [
    "#### $\\color{blue}{\\textbf{Manage conflicts}}$"
   ]
  },
  {
   "cell_type": "code",
   "execution_count": 31,
   "id": "395e4eca",
   "metadata": {
    "scrolled": true
   },
   "outputs": [
    {
     "data": {
      "text/html": [
       "<div>\n",
       "<style scoped>\n",
       "    .dataframe tbody tr th:only-of-type {\n",
       "        vertical-align: middle;\n",
       "    }\n",
       "\n",
       "    .dataframe tbody tr th {\n",
       "        vertical-align: top;\n",
       "    }\n",
       "\n",
       "    .dataframe thead th {\n",
       "        text-align: right;\n",
       "    }\n",
       "</style>\n",
       "<table border=\"1\" class=\"dataframe\">\n",
       "  <thead>\n",
       "    <tr style=\"text-align: right;\">\n",
       "      <th></th>\n",
       "      <th>Check_col</th>\n",
       "      <th>ID</th>\n",
       "      <th>Long_for_x</th>\n",
       "      <th>Long_for_y</th>\n",
       "    </tr>\n",
       "  </thead>\n",
       "  <tbody>\n",
       "    <tr>\n",
       "      <th>45</th>\n",
       "      <td>Long_for</td>\n",
       "      <td>F201</td>\n",
       "      <td>5.835</td>\n",
       "      <td>2.4</td>\n",
       "    </tr>\n",
       "    <tr>\n",
       "      <th>49</th>\n",
       "      <td>Long_for</td>\n",
       "      <td>F205</td>\n",
       "      <td>5.840</td>\n",
       "      <td>4.8</td>\n",
       "    </tr>\n",
       "    <tr>\n",
       "      <th>51</th>\n",
       "      <td>Long_for</td>\n",
       "      <td>F207</td>\n",
       "      <td>5.790</td>\n",
       "      <td>4.8</td>\n",
       "    </tr>\n",
       "    <tr>\n",
       "      <th>52</th>\n",
       "      <td>Long_for</td>\n",
       "      <td>F208</td>\n",
       "      <td>5.770</td>\n",
       "      <td>4.8</td>\n",
       "    </tr>\n",
       "    <tr>\n",
       "      <th>56</th>\n",
       "      <td>Long_for</td>\n",
       "      <td>F212</td>\n",
       "      <td>5.675</td>\n",
       "      <td>4.8</td>\n",
       "    </tr>\n",
       "    <tr>\n",
       "      <th>58</th>\n",
       "      <td>Long_for</td>\n",
       "      <td>F214</td>\n",
       "      <td>5.685</td>\n",
       "      <td>4.8</td>\n",
       "    </tr>\n",
       "    <tr>\n",
       "      <th>61</th>\n",
       "      <td>Long_for</td>\n",
       "      <td>F217</td>\n",
       "      <td>5.730</td>\n",
       "      <td>4.8</td>\n",
       "    </tr>\n",
       "    <tr>\n",
       "      <th>63</th>\n",
       "      <td>Long_for</td>\n",
       "      <td>F219</td>\n",
       "      <td>5.630</td>\n",
       "      <td>1.5</td>\n",
       "    </tr>\n",
       "    <tr>\n",
       "      <th>64</th>\n",
       "      <td>Long_for</td>\n",
       "      <td>F220</td>\n",
       "      <td>5.655</td>\n",
       "      <td>0.5</td>\n",
       "    </tr>\n",
       "    <tr>\n",
       "      <th>65</th>\n",
       "      <td>Long_for</td>\n",
       "      <td>F221</td>\n",
       "      <td>5.720</td>\n",
       "      <td>1.4</td>\n",
       "    </tr>\n",
       "    <tr>\n",
       "      <th>67</th>\n",
       "      <td>Long_for</td>\n",
       "      <td>F223</td>\n",
       "      <td>5.680</td>\n",
       "      <td>1.3</td>\n",
       "    </tr>\n",
       "    <tr>\n",
       "      <th>68</th>\n",
       "      <td>Long_for</td>\n",
       "      <td>F224</td>\n",
       "      <td>5.665</td>\n",
       "      <td>2.4</td>\n",
       "    </tr>\n",
       "    <tr>\n",
       "      <th>69</th>\n",
       "      <td>Long_for</td>\n",
       "      <td>F225</td>\n",
       "      <td>5.740</td>\n",
       "      <td>4.8</td>\n",
       "    </tr>\n",
       "    <tr>\n",
       "      <th>70</th>\n",
       "      <td>Long_for</td>\n",
       "      <td>F226</td>\n",
       "      <td>5.765</td>\n",
       "      <td>4.8</td>\n",
       "    </tr>\n",
       "  </tbody>\n",
       "</table>\n",
       "</div>"
      ],
      "text/plain": [
       "   Check_col    ID  Long_for_x  Long_for_y\n",
       "45  Long_for  F201       5.835         2.4\n",
       "49  Long_for  F205       5.840         4.8\n",
       "51  Long_for  F207       5.790         4.8\n",
       "52  Long_for  F208       5.770         4.8\n",
       "56  Long_for  F212       5.675         4.8\n",
       "58  Long_for  F214       5.685         4.8\n",
       "61  Long_for  F217       5.730         4.8\n",
       "63  Long_for  F219       5.630         1.5\n",
       "64  Long_for  F220       5.655         0.5\n",
       "65  Long_for  F221       5.720         1.4\n",
       "67  Long_for  F223       5.680         1.3\n",
       "68  Long_for  F224       5.665         2.4\n",
       "69  Long_for  F225       5.740         4.8\n",
       "70  Long_for  F226       5.765         4.8"
      ]
     },
     "execution_count": 31,
     "metadata": {},
     "output_type": "execute_result"
    }
   ],
   "source": [
    "conflict_df"
   ]
  },
  {
   "cell_type": "raw",
   "id": "79f2fb54",
   "metadata": {},
   "source": [
    "data_validation(overall_data=mdf, conflict_data=conflict_df, index_col='index', \n",
    "                valid_dict={'Long_for_x':[136,142],},)"
   ]
  },
  {
   "cell_type": "markdown",
   "id": "3734b2dd",
   "metadata": {},
   "source": [
    "#### Merge with object dataset"
   ]
  },
  {
   "cell_type": "code",
   "execution_count": 32,
   "id": "c02ca174",
   "metadata": {
    "scrolled": true
   },
   "outputs": [
    {
     "name": "stdout",
     "output_type": "stream",
     "text": [
      "Conflict values present. Please resolve this manually !\n"
     ]
    }
   ],
   "source": [
    "dataset, conflict_df=gdf_merger(dataset, mdf, how=how[1], on='ID', dist_max=1)"
   ]
  },
  {
   "cell_type": "code",
   "execution_count": 33,
   "id": "199a0c57",
   "metadata": {},
   "outputs": [],
   "source": [
    "if 'level_0' in dataset.columns:\n",
    "    if 'index' in dataset.columns:\n",
    "        dataset.drop(columns='index', inplace=True)\n",
    "    dataset.rename(columns={'level_0':'index'}, inplace=True)"
   ]
  },
  {
   "cell_type": "code",
   "execution_count": 34,
   "id": "a7292a25",
   "metadata": {
    "scrolled": true
   },
   "outputs": [
    {
     "name": "stdout",
     "output_type": "stream",
     "text": [
      "Rows : 235, columns : 21, Unique col 'ID': 235\n"
     ]
    },
    {
     "data": {
      "application/vnd.jupyter.widget-view+json": {
       "model_id": "d0b013e2c60b46f2b1f77588010bc07c",
       "version_major": 2,
       "version_minor": 0
      },
      "text/plain": [
       "interactive(children=(IntSlider(value=10, description='rows', max=235, min=10, readout=False), IntSlider(value…"
      ]
     },
     "metadata": {},
     "output_type": "display_data"
    }
   ],
   "source": [
    "gdf_viewer(dataset, rows=10, un_val='ID', view=t)"
   ]
  },
  {
   "cell_type": "markdown",
   "id": "9286b7ea",
   "metadata": {},
   "source": [
    "#### $\\color{blue}{\\textbf{Manage conflicts}}$"
   ]
  },
  {
   "cell_type": "code",
   "execution_count": 35,
   "id": "249fda57",
   "metadata": {
    "scrolled": true
   },
   "outputs": [
    {
     "data": {
      "text/html": [
       "<div>\n",
       "<style scoped>\n",
       "    .dataframe tbody tr th:only-of-type {\n",
       "        vertical-align: middle;\n",
       "    }\n",
       "\n",
       "    .dataframe tbody tr th {\n",
       "        vertical-align: top;\n",
       "    }\n",
       "\n",
       "    .dataframe thead th {\n",
       "        text-align: right;\n",
       "    }\n",
       "</style>\n",
       "<table border=\"1\" class=\"dataframe\">\n",
       "  <thead>\n",
       "    <tr style=\"text-align: right;\">\n",
       "      <th></th>\n",
       "      <th>Check_col</th>\n",
       "      <th>ID</th>\n",
       "      <th>index_x</th>\n",
       "      <th>index_y</th>\n",
       "      <th>Long_for_x</th>\n",
       "      <th>Long_for_y</th>\n",
       "      <th>ID_date_x</th>\n",
       "      <th>ID_date_y</th>\n",
       "      <th>Societe_x</th>\n",
       "      <th>Societe_y</th>\n",
       "      <th>Date_ouv_x</th>\n",
       "      <th>Date_ouv_y</th>\n",
       "    </tr>\n",
       "  </thead>\n",
       "  <tbody>\n",
       "    <tr>\n",
       "      <th>33</th>\n",
       "      <td>index</td>\n",
       "      <td>F10</td>\n",
       "      <td>33.0</td>\n",
       "      <td>0.0</td>\n",
       "      <td>7.0</td>\n",
       "      <td>NaN</td>\n",
       "      <td>2010-F10</td>\n",
       "      <td>NaN</td>\n",
       "      <td>SITEREM</td>\n",
       "      <td>NaN</td>\n",
       "      <td>2010-03-15</td>\n",
       "      <td>NaN</td>\n",
       "    </tr>\n",
       "    <tr>\n",
       "      <th>34</th>\n",
       "      <td>index</td>\n",
       "      <td>F11</td>\n",
       "      <td>34.0</td>\n",
       "      <td>1.0</td>\n",
       "      <td>6.0</td>\n",
       "      <td>NaN</td>\n",
       "      <td>2010-F11</td>\n",
       "      <td>NaN</td>\n",
       "      <td>SITEREM</td>\n",
       "      <td>NaN</td>\n",
       "      <td>2010-03-16</td>\n",
       "      <td>NaN</td>\n",
       "    </tr>\n",
       "    <tr>\n",
       "      <th>36</th>\n",
       "      <td>index</td>\n",
       "      <td>F13</td>\n",
       "      <td>36.0</td>\n",
       "      <td>3.0</td>\n",
       "      <td>8.4</td>\n",
       "      <td>NaN</td>\n",
       "      <td>2010-F13</td>\n",
       "      <td>NaN</td>\n",
       "      <td>SITEREM</td>\n",
       "      <td>NaN</td>\n",
       "      <td>2010-03-16</td>\n",
       "      <td>NaN</td>\n",
       "    </tr>\n",
       "    <tr>\n",
       "      <th>38</th>\n",
       "      <td>index</td>\n",
       "      <td>F23</td>\n",
       "      <td>38.0</td>\n",
       "      <td>10.0</td>\n",
       "      <td>6.8</td>\n",
       "      <td>NaN</td>\n",
       "      <td>2010-F23</td>\n",
       "      <td>NaN</td>\n",
       "      <td>SBS Environnement</td>\n",
       "      <td>NaN</td>\n",
       "      <td>2010-03-18</td>\n",
       "      <td>NaN</td>\n",
       "    </tr>\n",
       "    <tr>\n",
       "      <th>39</th>\n",
       "      <td>index</td>\n",
       "      <td>F24</td>\n",
       "      <td>39.0</td>\n",
       "      <td>11.0</td>\n",
       "      <td>6.8</td>\n",
       "      <td>NaN</td>\n",
       "      <td>2010-F24</td>\n",
       "      <td>NaN</td>\n",
       "      <td>SBS Environnement</td>\n",
       "      <td>NaN</td>\n",
       "      <td>2010-03-18</td>\n",
       "      <td>NaN</td>\n",
       "    </tr>\n",
       "    <tr>\n",
       "      <th>54</th>\n",
       "      <td>index</td>\n",
       "      <td>F41</td>\n",
       "      <td>54.0</td>\n",
       "      <td>13.0</td>\n",
       "      <td>6.8</td>\n",
       "      <td>NaN</td>\n",
       "      <td>2010-F41</td>\n",
       "      <td>NaN</td>\n",
       "      <td>SBS Environnement</td>\n",
       "      <td>NaN</td>\n",
       "      <td>2010-03-12</td>\n",
       "      <td>NaN</td>\n",
       "    </tr>\n",
       "    <tr>\n",
       "      <th>97</th>\n",
       "      <td>Long_for, index</td>\n",
       "      <td>F100</td>\n",
       "      <td>97.0</td>\n",
       "      <td>14.0</td>\n",
       "      <td>5.5</td>\n",
       "      <td>5.905</td>\n",
       "      <td>2010-F100</td>\n",
       "      <td>NaN</td>\n",
       "      <td>SBS Environnement</td>\n",
       "      <td>NaN</td>\n",
       "      <td>2010-02-11</td>\n",
       "      <td>NaN</td>\n",
       "    </tr>\n",
       "    <tr>\n",
       "      <th>98</th>\n",
       "      <td>Long_for, index</td>\n",
       "      <td>F101</td>\n",
       "      <td>98.0</td>\n",
       "      <td>15.0</td>\n",
       "      <td>2.0</td>\n",
       "      <td>5.775</td>\n",
       "      <td>2010-F101</td>\n",
       "      <td>NaN</td>\n",
       "      <td>SBS Environnement</td>\n",
       "      <td>NaN</td>\n",
       "      <td>2010-02-11</td>\n",
       "      <td>NaN</td>\n",
       "    </tr>\n",
       "    <tr>\n",
       "      <th>99</th>\n",
       "      <td>Long_for, index</td>\n",
       "      <td>F102</td>\n",
       "      <td>99.0</td>\n",
       "      <td>16.0</td>\n",
       "      <td>6.9</td>\n",
       "      <td>5.945</td>\n",
       "      <td>2010-F102</td>\n",
       "      <td>NaN</td>\n",
       "      <td>SBS Environnement</td>\n",
       "      <td>NaN</td>\n",
       "      <td>2010-02-23</td>\n",
       "      <td>NaN</td>\n",
       "    </tr>\n",
       "    <tr>\n",
       "      <th>100</th>\n",
       "      <td>Long_for, index</td>\n",
       "      <td>F103</td>\n",
       "      <td>100.0</td>\n",
       "      <td>17.0</td>\n",
       "      <td>8.1</td>\n",
       "      <td>5.725</td>\n",
       "      <td>2010-F103</td>\n",
       "      <td>NaN</td>\n",
       "      <td>SBS Environnement</td>\n",
       "      <td>NaN</td>\n",
       "      <td>2010-02-23</td>\n",
       "      <td>NaN</td>\n",
       "    </tr>\n",
       "    <tr>\n",
       "      <th>101</th>\n",
       "      <td>Long_for, index</td>\n",
       "      <td>F104</td>\n",
       "      <td>101.0</td>\n",
       "      <td>18.0</td>\n",
       "      <td>2.0</td>\n",
       "      <td>5.710</td>\n",
       "      <td>2010-F104</td>\n",
       "      <td>NaN</td>\n",
       "      <td>SBS Environnement</td>\n",
       "      <td>NaN</td>\n",
       "      <td>2010-01-25</td>\n",
       "      <td>NaN</td>\n",
       "    </tr>\n",
       "    <tr>\n",
       "      <th>102</th>\n",
       "      <td>Long_for, index</td>\n",
       "      <td>F105</td>\n",
       "      <td>102.0</td>\n",
       "      <td>19.0</td>\n",
       "      <td>5.5</td>\n",
       "      <td>5.750</td>\n",
       "      <td>2010-F105</td>\n",
       "      <td>NaN</td>\n",
       "      <td>SBS Environnement</td>\n",
       "      <td>NaN</td>\n",
       "      <td>2010-02-11</td>\n",
       "      <td>NaN</td>\n",
       "    </tr>\n",
       "    <tr>\n",
       "      <th>103</th>\n",
       "      <td>Long_for, index</td>\n",
       "      <td>F108</td>\n",
       "      <td>103.0</td>\n",
       "      <td>22.0</td>\n",
       "      <td>6.7</td>\n",
       "      <td>5.785</td>\n",
       "      <td>2010-F108</td>\n",
       "      <td>NaN</td>\n",
       "      <td>SBS Environnement</td>\n",
       "      <td>NaN</td>\n",
       "      <td>2010-01-28</td>\n",
       "      <td>NaN</td>\n",
       "    </tr>\n",
       "    <tr>\n",
       "      <th>104</th>\n",
       "      <td>Long_for, index</td>\n",
       "      <td>F111</td>\n",
       "      <td>104.0</td>\n",
       "      <td>25.0</td>\n",
       "      <td>8.2</td>\n",
       "      <td>5.875</td>\n",
       "      <td>2010-F111</td>\n",
       "      <td>NaN</td>\n",
       "      <td>SITEREM</td>\n",
       "      <td>NaN</td>\n",
       "      <td>2010-01-11</td>\n",
       "      <td>NaN</td>\n",
       "    </tr>\n",
       "    <tr>\n",
       "      <th>105</th>\n",
       "      <td>Long_for, index</td>\n",
       "      <td>F113</td>\n",
       "      <td>105.0</td>\n",
       "      <td>27.0</td>\n",
       "      <td>2.0</td>\n",
       "      <td>5.730</td>\n",
       "      <td>2010-F113</td>\n",
       "      <td>NaN</td>\n",
       "      <td>SITEREM</td>\n",
       "      <td>NaN</td>\n",
       "      <td>2010-01-12</td>\n",
       "      <td>NaN</td>\n",
       "    </tr>\n",
       "    <tr>\n",
       "      <th>107</th>\n",
       "      <td>Long_for, index</td>\n",
       "      <td>F114</td>\n",
       "      <td>107.0</td>\n",
       "      <td>28.0</td>\n",
       "      <td>0.5</td>\n",
       "      <td>5.765</td>\n",
       "      <td>2010-F114</td>\n",
       "      <td>NaN</td>\n",
       "      <td>SITEREM</td>\n",
       "      <td>NaN</td>\n",
       "      <td>2010-01-12</td>\n",
       "      <td>NaN</td>\n",
       "    </tr>\n",
       "    <tr>\n",
       "      <th>110</th>\n",
       "      <td>Long_for, index</td>\n",
       "      <td>F115</td>\n",
       "      <td>110.0</td>\n",
       "      <td>29.0</td>\n",
       "      <td>18.0</td>\n",
       "      <td>5.705</td>\n",
       "      <td>2010-F115</td>\n",
       "      <td>NaN</td>\n",
       "      <td>SITEREM</td>\n",
       "      <td>NaN</td>\n",
       "      <td>2010-01-12</td>\n",
       "      <td>NaN</td>\n",
       "    </tr>\n",
       "    <tr>\n",
       "      <th>113</th>\n",
       "      <td>Long_for, index</td>\n",
       "      <td>F116</td>\n",
       "      <td>113.0</td>\n",
       "      <td>30.0</td>\n",
       "      <td>0.4</td>\n",
       "      <td>5.650</td>\n",
       "      <td>2010-F116</td>\n",
       "      <td>NaN</td>\n",
       "      <td>SITEREM</td>\n",
       "      <td>NaN</td>\n",
       "      <td>2010-01-12</td>\n",
       "      <td>NaN</td>\n",
       "    </tr>\n",
       "    <tr>\n",
       "      <th>118</th>\n",
       "      <td>Long_for, index</td>\n",
       "      <td>F118</td>\n",
       "      <td>118.0</td>\n",
       "      <td>32.0</td>\n",
       "      <td>1.0</td>\n",
       "      <td>5.745</td>\n",
       "      <td>2010-F118</td>\n",
       "      <td>NaN</td>\n",
       "      <td>SITEREM</td>\n",
       "      <td>NaN</td>\n",
       "      <td>2010-01-12</td>\n",
       "      <td>NaN</td>\n",
       "    </tr>\n",
       "    <tr>\n",
       "      <th>121</th>\n",
       "      <td>Long_for, index</td>\n",
       "      <td>F119</td>\n",
       "      <td>121.0</td>\n",
       "      <td>33.0</td>\n",
       "      <td>3.6</td>\n",
       "      <td>5.535</td>\n",
       "      <td>2010-F119</td>\n",
       "      <td>NaN</td>\n",
       "      <td>SITEREM</td>\n",
       "      <td>NaN</td>\n",
       "      <td>2010-01-12</td>\n",
       "      <td>NaN</td>\n",
       "    </tr>\n",
       "    <tr>\n",
       "      <th>123</th>\n",
       "      <td>Long_for, index</td>\n",
       "      <td>F120</td>\n",
       "      <td>123.0</td>\n",
       "      <td>34.0</td>\n",
       "      <td>0.5</td>\n",
       "      <td>5.665</td>\n",
       "      <td>2010-F120</td>\n",
       "      <td>NaN</td>\n",
       "      <td>SITEREM</td>\n",
       "      <td>NaN</td>\n",
       "      <td>2010-01-12</td>\n",
       "      <td>NaN</td>\n",
       "    </tr>\n",
       "    <tr>\n",
       "      <th>124</th>\n",
       "      <td>Long_for, index</td>\n",
       "      <td>F121</td>\n",
       "      <td>124.0</td>\n",
       "      <td>35.0</td>\n",
       "      <td>2.4</td>\n",
       "      <td>5.780</td>\n",
       "      <td>2010-F121</td>\n",
       "      <td>NaN</td>\n",
       "      <td>SITEREM</td>\n",
       "      <td>NaN</td>\n",
       "      <td>2010-01-12</td>\n",
       "      <td>NaN</td>\n",
       "    </tr>\n",
       "    <tr>\n",
       "      <th>125</th>\n",
       "      <td>Long_for, index</td>\n",
       "      <td>F122</td>\n",
       "      <td>125.0</td>\n",
       "      <td>36.0</td>\n",
       "      <td>2.2</td>\n",
       "      <td>5.730</td>\n",
       "      <td>2010-F122</td>\n",
       "      <td>NaN</td>\n",
       "      <td>SITEREM</td>\n",
       "      <td>NaN</td>\n",
       "      <td>2010-01-12</td>\n",
       "      <td>NaN</td>\n",
       "    </tr>\n",
       "    <tr>\n",
       "      <th>126</th>\n",
       "      <td>Long_for, index</td>\n",
       "      <td>F124</td>\n",
       "      <td>126.0</td>\n",
       "      <td>38.0</td>\n",
       "      <td>4.6</td>\n",
       "      <td>5.635</td>\n",
       "      <td>2010-F124</td>\n",
       "      <td>NaN</td>\n",
       "      <td>SITEREM</td>\n",
       "      <td>NaN</td>\n",
       "      <td>2010-01-12</td>\n",
       "      <td>NaN</td>\n",
       "    </tr>\n",
       "    <tr>\n",
       "      <th>127</th>\n",
       "      <td>Long_for, index</td>\n",
       "      <td>F126</td>\n",
       "      <td>127.0</td>\n",
       "      <td>40.0</td>\n",
       "      <td>4.6</td>\n",
       "      <td>5.635</td>\n",
       "      <td>2010-F126</td>\n",
       "      <td>NaN</td>\n",
       "      <td>SITEREM</td>\n",
       "      <td>NaN</td>\n",
       "      <td>2010-01-12</td>\n",
       "      <td>NaN</td>\n",
       "    </tr>\n",
       "    <tr>\n",
       "      <th>128</th>\n",
       "      <td>Long_for, index</td>\n",
       "      <td>F127</td>\n",
       "      <td>128.0</td>\n",
       "      <td>41.0</td>\n",
       "      <td>4.6</td>\n",
       "      <td>5.740</td>\n",
       "      <td>2010-F127</td>\n",
       "      <td>NaN</td>\n",
       "      <td>SITEREM</td>\n",
       "      <td>NaN</td>\n",
       "      <td>2010-01-12</td>\n",
       "      <td>NaN</td>\n",
       "    </tr>\n",
       "    <tr>\n",
       "      <th>129</th>\n",
       "      <td>Long_for, index</td>\n",
       "      <td>F128</td>\n",
       "      <td>129.0</td>\n",
       "      <td>42.0</td>\n",
       "      <td>4.6</td>\n",
       "      <td>5.635</td>\n",
       "      <td>2010-F128</td>\n",
       "      <td>NaN</td>\n",
       "      <td>SITEREM</td>\n",
       "      <td>NaN</td>\n",
       "      <td>2010-01-12</td>\n",
       "      <td>NaN</td>\n",
       "    </tr>\n",
       "    <tr>\n",
       "      <th>160</th>\n",
       "      <td>Long_for, index</td>\n",
       "      <td>F200</td>\n",
       "      <td>160.0</td>\n",
       "      <td>44.0</td>\n",
       "      <td>1.2</td>\n",
       "      <td>5.870</td>\n",
       "      <td>2010-F200</td>\n",
       "      <td>NaN</td>\n",
       "      <td>SITEREM</td>\n",
       "      <td>NaN</td>\n",
       "      <td>2010-03-25</td>\n",
       "      <td>NaN</td>\n",
       "    </tr>\n",
       "    <tr>\n",
       "      <th>161</th>\n",
       "      <td>ID_date, Societe, Date_ouv, index</td>\n",
       "      <td>F205</td>\n",
       "      <td>161.0</td>\n",
       "      <td>49.0</td>\n",
       "      <td>NaN</td>\n",
       "      <td>NaN</td>\n",
       "      <td>2010-F205</td>\n",
       "      <td>2019-205</td>\n",
       "      <td>SITEREM</td>\n",
       "      <td>ECOPLANNING sprl</td>\n",
       "      <td>2010-03-26</td>\n",
       "      <td>2019-10-07</td>\n",
       "    </tr>\n",
       "    <tr>\n",
       "      <th>162</th>\n",
       "      <td>Long_for, index</td>\n",
       "      <td>F211</td>\n",
       "      <td>162.0</td>\n",
       "      <td>55.0</td>\n",
       "      <td>7.2</td>\n",
       "      <td>5.650</td>\n",
       "      <td>2010-F211</td>\n",
       "      <td>NaN</td>\n",
       "      <td>SITEREM</td>\n",
       "      <td>NaN</td>\n",
       "      <td>2010-05-10</td>\n",
       "      <td>NaN</td>\n",
       "    </tr>\n",
       "    <tr>\n",
       "      <th>163</th>\n",
       "      <td>ID_date, Societe, Date_ouv, index</td>\n",
       "      <td>F212</td>\n",
       "      <td>163.0</td>\n",
       "      <td>56.0</td>\n",
       "      <td>NaN</td>\n",
       "      <td>NaN</td>\n",
       "      <td>2010-F212</td>\n",
       "      <td>2019-212</td>\n",
       "      <td>SITEREM</td>\n",
       "      <td>ECOPLANNING sprl</td>\n",
       "      <td>2010-05-10</td>\n",
       "      <td>2019-10-07</td>\n",
       "    </tr>\n",
       "    <tr>\n",
       "      <th>164</th>\n",
       "      <td>Long_for, index</td>\n",
       "      <td>F213</td>\n",
       "      <td>164.0</td>\n",
       "      <td>57.0</td>\n",
       "      <td>6.6</td>\n",
       "      <td>5.700</td>\n",
       "      <td>2010-F213</td>\n",
       "      <td>NaN</td>\n",
       "      <td>SBS Environnement</td>\n",
       "      <td>NaN</td>\n",
       "      <td>2010-03-02</td>\n",
       "      <td>NaN</td>\n",
       "    </tr>\n",
       "    <tr>\n",
       "      <th>165</th>\n",
       "      <td>Long_for, index</td>\n",
       "      <td>F215</td>\n",
       "      <td>165.0</td>\n",
       "      <td>59.0</td>\n",
       "      <td>5.7</td>\n",
       "      <td>5.685</td>\n",
       "      <td>2010-F215</td>\n",
       "      <td>NaN</td>\n",
       "      <td>SBS Environnement</td>\n",
       "      <td>NaN</td>\n",
       "      <td>2010-03-03</td>\n",
       "      <td>NaN</td>\n",
       "    </tr>\n",
       "    <tr>\n",
       "      <th>166</th>\n",
       "      <td>Long_for, index</td>\n",
       "      <td>F216</td>\n",
       "      <td>166.0</td>\n",
       "      <td>60.0</td>\n",
       "      <td>6.5</td>\n",
       "      <td>5.800</td>\n",
       "      <td>2010-F216</td>\n",
       "      <td>NaN</td>\n",
       "      <td>SBS Environnement</td>\n",
       "      <td>NaN</td>\n",
       "      <td>2010-03-04</td>\n",
       "      <td>NaN</td>\n",
       "    </tr>\n",
       "    <tr>\n",
       "      <th>167</th>\n",
       "      <td>ID_date, Societe, Date_ouv, index</td>\n",
       "      <td>F217</td>\n",
       "      <td>167.0</td>\n",
       "      <td>61.0</td>\n",
       "      <td>NaN</td>\n",
       "      <td>NaN</td>\n",
       "      <td>2010-F217</td>\n",
       "      <td>2019-217</td>\n",
       "      <td>SBS Environnement</td>\n",
       "      <td>ECOPLANNING sprl</td>\n",
       "      <td>2010-03-02</td>\n",
       "      <td>2019-10-07</td>\n",
       "    </tr>\n",
       "    <tr>\n",
       "      <th>168</th>\n",
       "      <td>Long_for, index</td>\n",
       "      <td>F218</td>\n",
       "      <td>168.0</td>\n",
       "      <td>62.0</td>\n",
       "      <td>5.7</td>\n",
       "      <td>5.775</td>\n",
       "      <td>2010-F218</td>\n",
       "      <td>NaN</td>\n",
       "      <td>SBS Environnement</td>\n",
       "      <td>NaN</td>\n",
       "      <td>2010-03-02</td>\n",
       "      <td>NaN</td>\n",
       "    </tr>\n",
       "    <tr>\n",
       "      <th>169</th>\n",
       "      <td>ID_date, Societe, Date_ouv, index</td>\n",
       "      <td>F219</td>\n",
       "      <td>169.0</td>\n",
       "      <td>63.0</td>\n",
       "      <td>1.8</td>\n",
       "      <td>NaN</td>\n",
       "      <td>2010-F219</td>\n",
       "      <td>2019-219</td>\n",
       "      <td>SBS Environnement</td>\n",
       "      <td>ECOPLANNING sprl</td>\n",
       "      <td>2010-03-03</td>\n",
       "      <td>2019-10-08</td>\n",
       "    </tr>\n",
       "    <tr>\n",
       "      <th>197</th>\n",
       "      <td>index</td>\n",
       "      <td>F208</td>\n",
       "      <td>197.0</td>\n",
       "      <td>52.0</td>\n",
       "      <td>3.4</td>\n",
       "      <td>NaN</td>\n",
       "      <td>NaN</td>\n",
       "      <td>2019-208</td>\n",
       "      <td>NaN</td>\n",
       "      <td>ECOPLANNING sprl</td>\n",
       "      <td>NaN</td>\n",
       "      <td>2019-10-07</td>\n",
       "    </tr>\n",
       "    <tr>\n",
       "      <th>198</th>\n",
       "      <td>index</td>\n",
       "      <td>F207</td>\n",
       "      <td>198.0</td>\n",
       "      <td>51.0</td>\n",
       "      <td>3.4</td>\n",
       "      <td>NaN</td>\n",
       "      <td>NaN</td>\n",
       "      <td>2019-207</td>\n",
       "      <td>NaN</td>\n",
       "      <td>ECOPLANNING sprl</td>\n",
       "      <td>NaN</td>\n",
       "      <td>2019-10-07</td>\n",
       "    </tr>\n",
       "    <tr>\n",
       "      <th>199</th>\n",
       "      <td>index</td>\n",
       "      <td>F214</td>\n",
       "      <td>199.0</td>\n",
       "      <td>58.0</td>\n",
       "      <td>3.6</td>\n",
       "      <td>NaN</td>\n",
       "      <td>NaN</td>\n",
       "      <td>2019-214</td>\n",
       "      <td>NaN</td>\n",
       "      <td>ECOPLANNING sprl</td>\n",
       "      <td>NaN</td>\n",
       "      <td>2019-10-07</td>\n",
       "    </tr>\n",
       "    <tr>\n",
       "      <th>200</th>\n",
       "      <td>index</td>\n",
       "      <td>F225</td>\n",
       "      <td>200.0</td>\n",
       "      <td>69.0</td>\n",
       "      <td>4.0</td>\n",
       "      <td>NaN</td>\n",
       "      <td>NaN</td>\n",
       "      <td>2019-225</td>\n",
       "      <td>NaN</td>\n",
       "      <td>ECOPLANNING sprl</td>\n",
       "      <td>NaN</td>\n",
       "      <td>2019-10-08</td>\n",
       "    </tr>\n",
       "  </tbody>\n",
       "</table>\n",
       "</div>"
      ],
      "text/plain": [
       "                             Check_col    ID  index_x  index_y  Long_for_x  \\\n",
       "33                               index   F10     33.0      0.0         7.0   \n",
       "34                               index   F11     34.0      1.0         6.0   \n",
       "36                               index   F13     36.0      3.0         8.4   \n",
       "38                               index   F23     38.0     10.0         6.8   \n",
       "39                               index   F24     39.0     11.0         6.8   \n",
       "54                               index   F41     54.0     13.0         6.8   \n",
       "97                     Long_for, index  F100     97.0     14.0         5.5   \n",
       "98                     Long_for, index  F101     98.0     15.0         2.0   \n",
       "99                     Long_for, index  F102     99.0     16.0         6.9   \n",
       "100                    Long_for, index  F103    100.0     17.0         8.1   \n",
       "101                    Long_for, index  F104    101.0     18.0         2.0   \n",
       "102                    Long_for, index  F105    102.0     19.0         5.5   \n",
       "103                    Long_for, index  F108    103.0     22.0         6.7   \n",
       "104                    Long_for, index  F111    104.0     25.0         8.2   \n",
       "105                    Long_for, index  F113    105.0     27.0         2.0   \n",
       "107                    Long_for, index  F114    107.0     28.0         0.5   \n",
       "110                    Long_for, index  F115    110.0     29.0        18.0   \n",
       "113                    Long_for, index  F116    113.0     30.0         0.4   \n",
       "118                    Long_for, index  F118    118.0     32.0         1.0   \n",
       "121                    Long_for, index  F119    121.0     33.0         3.6   \n",
       "123                    Long_for, index  F120    123.0     34.0         0.5   \n",
       "124                    Long_for, index  F121    124.0     35.0         2.4   \n",
       "125                    Long_for, index  F122    125.0     36.0         2.2   \n",
       "126                    Long_for, index  F124    126.0     38.0         4.6   \n",
       "127                    Long_for, index  F126    127.0     40.0         4.6   \n",
       "128                    Long_for, index  F127    128.0     41.0         4.6   \n",
       "129                    Long_for, index  F128    129.0     42.0         4.6   \n",
       "160                    Long_for, index  F200    160.0     44.0         1.2   \n",
       "161  ID_date, Societe, Date_ouv, index  F205    161.0     49.0         NaN   \n",
       "162                    Long_for, index  F211    162.0     55.0         7.2   \n",
       "163  ID_date, Societe, Date_ouv, index  F212    163.0     56.0         NaN   \n",
       "164                    Long_for, index  F213    164.0     57.0         6.6   \n",
       "165                    Long_for, index  F215    165.0     59.0         5.7   \n",
       "166                    Long_for, index  F216    166.0     60.0         6.5   \n",
       "167  ID_date, Societe, Date_ouv, index  F217    167.0     61.0         NaN   \n",
       "168                    Long_for, index  F218    168.0     62.0         5.7   \n",
       "169  ID_date, Societe, Date_ouv, index  F219    169.0     63.0         1.8   \n",
       "197                              index  F208    197.0     52.0         3.4   \n",
       "198                              index  F207    198.0     51.0         3.4   \n",
       "199                              index  F214    199.0     58.0         3.6   \n",
       "200                              index  F225    200.0     69.0         4.0   \n",
       "\n",
       "     Long_for_y  ID_date_x ID_date_y          Societe_x         Societe_y  \\\n",
       "33          NaN   2010-F10       NaN            SITEREM               NaN   \n",
       "34          NaN   2010-F11       NaN            SITEREM               NaN   \n",
       "36          NaN   2010-F13       NaN            SITEREM               NaN   \n",
       "38          NaN   2010-F23       NaN  SBS Environnement               NaN   \n",
       "39          NaN   2010-F24       NaN  SBS Environnement               NaN   \n",
       "54          NaN   2010-F41       NaN  SBS Environnement               NaN   \n",
       "97        5.905  2010-F100       NaN  SBS Environnement               NaN   \n",
       "98        5.775  2010-F101       NaN  SBS Environnement               NaN   \n",
       "99        5.945  2010-F102       NaN  SBS Environnement               NaN   \n",
       "100       5.725  2010-F103       NaN  SBS Environnement               NaN   \n",
       "101       5.710  2010-F104       NaN  SBS Environnement               NaN   \n",
       "102       5.750  2010-F105       NaN  SBS Environnement               NaN   \n",
       "103       5.785  2010-F108       NaN  SBS Environnement               NaN   \n",
       "104       5.875  2010-F111       NaN            SITEREM               NaN   \n",
       "105       5.730  2010-F113       NaN            SITEREM               NaN   \n",
       "107       5.765  2010-F114       NaN            SITEREM               NaN   \n",
       "110       5.705  2010-F115       NaN            SITEREM               NaN   \n",
       "113       5.650  2010-F116       NaN            SITEREM               NaN   \n",
       "118       5.745  2010-F118       NaN            SITEREM               NaN   \n",
       "121       5.535  2010-F119       NaN            SITEREM               NaN   \n",
       "123       5.665  2010-F120       NaN            SITEREM               NaN   \n",
       "124       5.780  2010-F121       NaN            SITEREM               NaN   \n",
       "125       5.730  2010-F122       NaN            SITEREM               NaN   \n",
       "126       5.635  2010-F124       NaN            SITEREM               NaN   \n",
       "127       5.635  2010-F126       NaN            SITEREM               NaN   \n",
       "128       5.740  2010-F127       NaN            SITEREM               NaN   \n",
       "129       5.635  2010-F128       NaN            SITEREM               NaN   \n",
       "160       5.870  2010-F200       NaN            SITEREM               NaN   \n",
       "161         NaN  2010-F205  2019-205            SITEREM  ECOPLANNING sprl   \n",
       "162       5.650  2010-F211       NaN            SITEREM               NaN   \n",
       "163         NaN  2010-F212  2019-212            SITEREM  ECOPLANNING sprl   \n",
       "164       5.700  2010-F213       NaN  SBS Environnement               NaN   \n",
       "165       5.685  2010-F215       NaN  SBS Environnement               NaN   \n",
       "166       5.800  2010-F216       NaN  SBS Environnement               NaN   \n",
       "167         NaN  2010-F217  2019-217  SBS Environnement  ECOPLANNING sprl   \n",
       "168       5.775  2010-F218       NaN  SBS Environnement               NaN   \n",
       "169         NaN  2010-F219  2019-219  SBS Environnement  ECOPLANNING sprl   \n",
       "197         NaN        NaN  2019-208                NaN  ECOPLANNING sprl   \n",
       "198         NaN        NaN  2019-207                NaN  ECOPLANNING sprl   \n",
       "199         NaN        NaN  2019-214                NaN  ECOPLANNING sprl   \n",
       "200         NaN        NaN  2019-225                NaN  ECOPLANNING sprl   \n",
       "\n",
       "     Date_ouv_x  Date_ouv_y  \n",
       "33   2010-03-15         NaN  \n",
       "34   2010-03-16         NaN  \n",
       "36   2010-03-16         NaN  \n",
       "38   2010-03-18         NaN  \n",
       "39   2010-03-18         NaN  \n",
       "54   2010-03-12         NaN  \n",
       "97   2010-02-11         NaN  \n",
       "98   2010-02-11         NaN  \n",
       "99   2010-02-23         NaN  \n",
       "100  2010-02-23         NaN  \n",
       "101  2010-01-25         NaN  \n",
       "102  2010-02-11         NaN  \n",
       "103  2010-01-28         NaN  \n",
       "104  2010-01-11         NaN  \n",
       "105  2010-01-12         NaN  \n",
       "107  2010-01-12         NaN  \n",
       "110  2010-01-12         NaN  \n",
       "113  2010-01-12         NaN  \n",
       "118  2010-01-12         NaN  \n",
       "121  2010-01-12         NaN  \n",
       "123  2010-01-12         NaN  \n",
       "124  2010-01-12         NaN  \n",
       "125  2010-01-12         NaN  \n",
       "126  2010-01-12         NaN  \n",
       "127  2010-01-12         NaN  \n",
       "128  2010-01-12         NaN  \n",
       "129  2010-01-12         NaN  \n",
       "160  2010-03-25         NaN  \n",
       "161  2010-03-26  2019-10-07  \n",
       "162  2010-05-10         NaN  \n",
       "163  2010-05-10  2019-10-07  \n",
       "164  2010-03-02         NaN  \n",
       "165  2010-03-03         NaN  \n",
       "166  2010-03-04         NaN  \n",
       "167  2010-03-02  2019-10-07  \n",
       "168  2010-03-02         NaN  \n",
       "169  2010-03-03  2019-10-08  \n",
       "197         NaN  2019-10-07  \n",
       "198         NaN  2019-10-07  \n",
       "199         NaN  2019-10-07  \n",
       "200         NaN  2019-10-08  "
      ]
     },
     "execution_count": 35,
     "metadata": {},
     "output_type": "execute_result"
    }
   ],
   "source": [
    "conflict_df"
   ]
  },
  {
   "cell_type": "raw",
   "id": "3e3b2a00",
   "metadata": {},
   "source": [
    "data_validation(overall_data=dataset, conflict_data=conflict_df, index_col='index', \n",
    "                valid_dict={'Long_for_x':[136,142],},)"
   ]
  },
  {
   "cell_type": "code",
   "execution_count": 36,
   "id": "a2959254",
   "metadata": {
    "scrolled": true
   },
   "outputs": [
    {
     "name": "stdout",
     "output_type": "stream",
     "text": [
      "Rows : 235, columns : 21, Unique col 'ID': 235\n"
     ]
    },
    {
     "data": {
      "application/vnd.jupyter.widget-view+json": {
       "model_id": "090194c562f34fd0ba1e539e119789ad",
       "version_major": 2,
       "version_minor": 0
      },
      "text/plain": [
       "interactive(children=(IntSlider(value=3, description='rows', max=235, min=3, readout=False), IntSlider(value=1…"
      ]
     },
     "metadata": {},
     "output_type": "display_data"
    }
   ],
   "source": [
    "gdf_viewer(dataset, rows=3, un_val='ID', view=t)"
   ]
  },
  {
   "cell_type": "markdown",
   "id": "ce93cdf8",
   "metadata": {},
   "source": [
    "####  $\\color{red}{\\textbf{Save final object dataset}}$"
   ]
  },
  {
   "cell_type": "code",
   "execution_count": 37,
   "id": "5ed272e2",
   "metadata": {},
   "outputs": [],
   "source": [
    "if 'index' in dataset.columns:\n",
    "    dataset.drop(columns='index', inplace=True)"
   ]
  },
  {
   "cell_type": "code",
   "execution_count": 38,
   "id": "65e7e8ef",
   "metadata": {},
   "outputs": [],
   "source": [
    "if not os.path.exists(save_dir):\n",
    "    os.makedirs(save_dir)\n",
    "    \n",
    "dataset.to_csv(save_dir + save_file, index=False)"
   ]
  },
  {
   "cell_type": "code",
   "execution_count": 39,
   "id": "fd00785b",
   "metadata": {},
   "outputs": [],
   "source": [
    "bh = dataset"
   ]
  },
  {
   "cell_type": "markdown",
   "id": "e3d02968",
   "metadata": {},
   "source": [
    "# Lithologies"
   ]
  },
  {
   "cell_type": "code",
   "execution_count": 40,
   "id": "f96ad0ab",
   "metadata": {},
   "outputs": [
    {
     "name": "stdout",
     "output_type": "stream",
     "text": [
      "8 files\n"
     ]
    }
   ],
   "source": [
    "key='Litho'\n",
    "save_file = f'Merged_Litho.csv'\n",
    "dataset = pd.DataFrame() # for saving object info after last merging\n",
    "print(len(files_dict[key]), 'files')"
   ]
  },
  {
   "cell_type": "code",
   "execution_count": 41,
   "id": "3c918e8d",
   "metadata": {},
   "outputs": [
    {
     "data": {
      "text/plain": [
       "['/home/su530201/PycharmProjects/GSDMA/CF_data/Result_traitem/database_Memoris3/Drains_Pz_ENEL_Lithology.csv',\n",
       " '/home/su530201/PycharmProjects/GSDMA/CF_data/Result_traitem/database_Memoris3/Profils_sol_Lithology.csv',\n",
       " '/home/su530201/PycharmProjects/GSDMA/CF_data/Result_traitem/database_Memoris3/Result_sol_Lithology.csv',\n",
       " '/home/su530201/PycharmProjects/GSDMA/CF_data/Result_traitem/database_Memoris3/Result_sol_Lithology_cleaned.csv',\n",
       " '/home/su530201/PycharmProjects/GSDMA/CF_data/Result_traitem/donnees_terrain_2019/Log_Lithology.csv',\n",
       " '/home/su530201/PycharmProjects/GSDMA/CF_data/Result_traitem/profils_sols_donnees_forages/Log_Lithology.csv',\n",
       " '/home/su530201/PycharmProjects/GSDMA/CF_data/Result_traitem/vUmons_logsFor/Sond2017v2_Lithology.csv',\n",
       " '/home/su530201/PycharmProjects/GSDMA/CF_data/Result_traitem/vUmons_logsFor/Synthese_Lithology.csv']"
      ]
     },
     "execution_count": 41,
     "metadata": {},
     "output_type": "execute_result"
    }
   ],
   "source": [
    "files_dict[key]"
   ]
  },
  {
   "cell_type": "code",
   "execution_count": 42,
   "id": "6ce8f47d",
   "metadata": {},
   "outputs": [
    {
     "data": {
      "text/plain": [
       "['/home/su530201/PycharmProjects/GSDMA/CF_data/Result_traitem/database_Memoris3/Drains_Pz_ENEL_Lithology.csv',\n",
       " '/home/su530201/PycharmProjects/GSDMA/CF_data/Result_traitem/database_Memoris3/Profils_sol_Lithology.csv',\n",
       " '/home/su530201/PycharmProjects/GSDMA/CF_data/Result_traitem/database_Memoris3/Result_sol_Lithology.csv',\n",
       " '/home/su530201/PycharmProjects/GSDMA/CF_data/Result_traitem/database_Memoris3/Result_sol_Lithology_cleaned.csv',\n",
       " '/home/su530201/PycharmProjects/GSDMA/CF_data/Result_traitem/donnees_terrain_2019/Log_Lithology.csv',\n",
       " '/home/su530201/PycharmProjects/GSDMA/CF_data/Result_traitem/profils_sols_donnees_forages/Log_Lithology.csv',\n",
       " '/home/su530201/PycharmProjects/GSDMA/CF_data/Result_traitem/vUmons_logsFor/Sond2017v2_Lithology.csv',\n",
       " '/home/su530201/PycharmProjects/GSDMA/CF_data/Result_traitem/vUmons_logsFor/Synthese_Lithology.csv']"
      ]
     },
     "execution_count": 42,
     "metadata": {},
     "output_type": "execute_result"
    }
   ],
   "source": [
    "files_dict[key]"
   ]
  },
  {
   "cell_type": "code",
   "execution_count": 43,
   "id": "4cb5f36f",
   "metadata": {
    "scrolled": false
   },
   "outputs": [
    {
     "name": "stdout",
     "output_type": "stream",
     "text": [
      "Same files:[]\n",
      "Files with coordinates:[2, 3, 6, 7]\n",
      "Files without coordinates:[0, 1, 4, 5]\n"
     ]
    }
   ],
   "source": [
    "dataset_overview(files_dict[key])"
   ]
  },
  {
   "cell_type": "markdown",
   "id": "2b52e105",
   "metadata": {},
   "source": [
    "#### $\\color{green}{\\textbf{Read and merge}}$"
   ]
  },
  {
   "cell_type": "code",
   "execution_count": 102,
   "id": "d3a1b20e",
   "metadata": {},
   "outputs": [],
   "source": [
    "file = work_dir + 'database_Memoris3/Profils_sol_Lithology.csv' "
   ]
  },
  {
   "cell_type": "code",
   "execution_count": 145,
   "id": "f299f4e4",
   "metadata": {},
   "outputs": [],
   "source": [
    "intervals = pd.read_csv(file)"
   ]
  },
  {
   "cell_type": "code",
   "execution_count": 155,
   "id": "78b0cacc",
   "metadata": {},
   "outputs": [
    {
     "data": {
      "text/html": [
       "<div>\n",
       "<style scoped>\n",
       "    .dataframe tbody tr th:only-of-type {\n",
       "        vertical-align: middle;\n",
       "    }\n",
       "\n",
       "    .dataframe tbody tr th {\n",
       "        vertical-align: top;\n",
       "    }\n",
       "\n",
       "    .dataframe thead th {\n",
       "        text-align: right;\n",
       "    }\n",
       "</style>\n",
       "<table border=\"1\" class=\"dataframe\">\n",
       "  <thead>\n",
       "    <tr style=\"text-align: right;\">\n",
       "      <th></th>\n",
       "      <th>ID_date</th>\n",
       "      <th>Date_ouv</th>\n",
       "      <th>ID</th>\n",
       "      <th>Profondeur</th>\n",
       "      <th>Description</th>\n",
       "      <th>Type</th>\n",
       "      <th>Societe</th>\n",
       "      <th>Method</th>\n",
       "      <th>Litho_top</th>\n",
       "      <th>Litho_base</th>\n",
       "    </tr>\n",
       "  </thead>\n",
       "  <tbody>\n",
       "    <tr>\n",
       "      <th>1621</th>\n",
       "      <td>2015-FMon3</td>\n",
       "      <td>2015-05-18</td>\n",
       "      <td>FMon3</td>\n",
       "      <td>4.8</td>\n",
       "      <td>graviers : présence d’eau</td>\n",
       "      <td>Piezo</td>\n",
       "      <td>SITEREM</td>\n",
       "      <td>Gouge_75</td>\n",
       "      <td>2.0</td>\n",
       "      <td>3.0</td>\n",
       "    </tr>\n",
       "    <tr>\n",
       "      <th>1622</th>\n",
       "      <td>2015-FMon3</td>\n",
       "      <td>2015-05-18</td>\n",
       "      <td>FMon3</td>\n",
       "      <td>4.8</td>\n",
       "      <td>graviers + inclusion de goudron</td>\n",
       "      <td>Piezo</td>\n",
       "      <td>SITEREM</td>\n",
       "      <td>Gouge_75</td>\n",
       "      <td>3.0</td>\n",
       "      <td>3.6</td>\n",
       "    </tr>\n",
       "    <tr>\n",
       "      <th>1623</th>\n",
       "      <td>2015-FMon3</td>\n",
       "      <td>2015-05-18</td>\n",
       "      <td>FMon3</td>\n",
       "      <td>4.8</td>\n",
       "      <td>gravier : odeur goudron</td>\n",
       "      <td>Piezo</td>\n",
       "      <td>SITEREM</td>\n",
       "      <td>Gouge_75</td>\n",
       "      <td>3.6</td>\n",
       "      <td>4.2</td>\n",
       "    </tr>\n",
       "    <tr>\n",
       "      <th>1624</th>\n",
       "      <td>2015-FMon3</td>\n",
       "      <td>2015-05-18</td>\n",
       "      <td>FMon3</td>\n",
       "      <td>4.8</td>\n",
       "      <td>limon noir goudronneux</td>\n",
       "      <td>Piezo</td>\n",
       "      <td>SITEREM</td>\n",
       "      <td>Gouge_75</td>\n",
       "      <td>4.2</td>\n",
       "      <td>4.6</td>\n",
       "    </tr>\n",
       "    <tr>\n",
       "      <th>1625</th>\n",
       "      <td>2015-FMon3</td>\n",
       "      <td>2015-05-18</td>\n",
       "      <td>FMon3</td>\n",
       "      <td>4.8</td>\n",
       "      <td>limon beige vert de gris.</td>\n",
       "      <td>Piezo</td>\n",
       "      <td>SITEREM</td>\n",
       "      <td>Gouge_75</td>\n",
       "      <td>4.6</td>\n",
       "      <td>4.8</td>\n",
       "    </tr>\n",
       "  </tbody>\n",
       "</table>\n",
       "</div>"
      ],
      "text/plain": [
       "         ID_date    Date_ouv     ID  Profondeur  \\\n",
       "1621  2015-FMon3  2015-05-18  FMon3         4.8   \n",
       "1622  2015-FMon3  2015-05-18  FMon3         4.8   \n",
       "1623  2015-FMon3  2015-05-18  FMon3         4.8   \n",
       "1624  2015-FMon3  2015-05-18  FMon3         4.8   \n",
       "1625  2015-FMon3  2015-05-18  FMon3         4.8   \n",
       "\n",
       "                          Description   Type  Societe    Method  Litho_top  \\\n",
       "1621        graviers : présence d’eau  Piezo  SITEREM  Gouge_75        2.0   \n",
       "1622  graviers + inclusion de goudron  Piezo  SITEREM  Gouge_75        3.0   \n",
       "1623          gravier : odeur goudron  Piezo  SITEREM  Gouge_75        3.6   \n",
       "1624           limon noir goudronneux  Piezo  SITEREM  Gouge_75        4.2   \n",
       "1625       limon beige vert de gris.   Piezo  SITEREM  Gouge_75        4.6   \n",
       "\n",
       "      Litho_base  \n",
       "1621         3.0  \n",
       "1622         3.6  \n",
       "1623         4.2  \n",
       "1624         4.6  \n",
       "1625         4.8  "
      ]
     },
     "execution_count": 155,
     "metadata": {},
     "output_type": "execute_result"
    }
   ],
   "source": [
    "intervals.tail()"
   ]
  },
  {
   "cell_type": "code",
   "execution_count": 135,
   "id": "d9844827",
   "metadata": {},
   "outputs": [
    {
     "data": {
      "text/html": [
       "<div>\n",
       "<style scoped>\n",
       "    .dataframe tbody tr th:only-of-type {\n",
       "        vertical-align: middle;\n",
       "    }\n",
       "\n",
       "    .dataframe tbody tr th {\n",
       "        vertical-align: top;\n",
       "    }\n",
       "\n",
       "    .dataframe thead th {\n",
       "        text-align: right;\n",
       "    }\n",
       "</style>\n",
       "<table border=\"1\" class=\"dataframe\">\n",
       "  <thead>\n",
       "    <tr style=\"text-align: right;\">\n",
       "      <th></th>\n",
       "      <th>ID</th>\n",
       "      <th>X</th>\n",
       "      <th>Y</th>\n",
       "      <th>Z</th>\n",
       "      <th>Diam_int_pz</th>\n",
       "      <th>Diam_ext_pz</th>\n",
       "      <th>Method</th>\n",
       "      <th>Resp_chantier</th>\n",
       "      <th>Long_pz</th>\n",
       "      <th>Crep_long</th>\n",
       "      <th>Methode</th>\n",
       "      <th>Diff_Z_local</th>\n",
       "      <th>Type_refus</th>\n",
       "      <th>Type</th>\n",
       "      <th>ID_date</th>\n",
       "      <th>Societe</th>\n",
       "      <th>Long_for</th>\n",
       "      <th>Date_ouv</th>\n",
       "      <th>Refus</th>\n",
       "      <th>Diam_for</th>\n",
       "    </tr>\n",
       "  </thead>\n",
       "  <tbody>\n",
       "    <tr>\n",
       "      <th>0</th>\n",
       "      <td>F1aM</td>\n",
       "      <td>152883.878158</td>\n",
       "      <td>122606.5786</td>\n",
       "      <td>103.058428</td>\n",
       "      <td>NaN</td>\n",
       "      <td>NaN</td>\n",
       "      <td>Dual tube</td>\n",
       "      <td>NaN</td>\n",
       "      <td>NaN</td>\n",
       "      <td>NaN</td>\n",
       "      <td>NaN</td>\n",
       "      <td>NaN</td>\n",
       "      <td>Laitier</td>\n",
       "      <td>Forage</td>\n",
       "      <td>2017-F1aM</td>\n",
       "      <td>ECOPLANNING sprl</td>\n",
       "      <td>2.4</td>\n",
       "      <td>2017-02-22</td>\n",
       "      <td>x</td>\n",
       "      <td>75.0</td>\n",
       "    </tr>\n",
       "    <tr>\n",
       "      <th>1</th>\n",
       "      <td>F2M</td>\n",
       "      <td>NaN</td>\n",
       "      <td>NaN</td>\n",
       "      <td>NaN</td>\n",
       "      <td>NaN</td>\n",
       "      <td>NaN</td>\n",
       "      <td>NaN</td>\n",
       "      <td>NaN</td>\n",
       "      <td>NaN</td>\n",
       "      <td>NaN</td>\n",
       "      <td>NaN</td>\n",
       "      <td>NaN</td>\n",
       "      <td>NaN</td>\n",
       "      <td>Forage</td>\n",
       "      <td>NaN</td>\n",
       "      <td>NaN</td>\n",
       "      <td>6.0</td>\n",
       "      <td>NaN</td>\n",
       "      <td>NaN</td>\n",
       "      <td>NaN</td>\n",
       "    </tr>\n",
       "    <tr>\n",
       "      <th>2</th>\n",
       "      <td>F3M</td>\n",
       "      <td>NaN</td>\n",
       "      <td>NaN</td>\n",
       "      <td>NaN</td>\n",
       "      <td>NaN</td>\n",
       "      <td>NaN</td>\n",
       "      <td>NaN</td>\n",
       "      <td>NaN</td>\n",
       "      <td>NaN</td>\n",
       "      <td>NaN</td>\n",
       "      <td>NaN</td>\n",
       "      <td>NaN</td>\n",
       "      <td>NaN</td>\n",
       "      <td>Forage</td>\n",
       "      <td>NaN</td>\n",
       "      <td>NaN</td>\n",
       "      <td>3.3</td>\n",
       "      <td>NaN</td>\n",
       "      <td>NaN</td>\n",
       "      <td>NaN</td>\n",
       "    </tr>\n",
       "    <tr>\n",
       "      <th>3</th>\n",
       "      <td>F4M</td>\n",
       "      <td>NaN</td>\n",
       "      <td>NaN</td>\n",
       "      <td>NaN</td>\n",
       "      <td>NaN</td>\n",
       "      <td>NaN</td>\n",
       "      <td>NaN</td>\n",
       "      <td>NaN</td>\n",
       "      <td>NaN</td>\n",
       "      <td>NaN</td>\n",
       "      <td>NaN</td>\n",
       "      <td>NaN</td>\n",
       "      <td>NaN</td>\n",
       "      <td>Forage</td>\n",
       "      <td>NaN</td>\n",
       "      <td>NaN</td>\n",
       "      <td>6.0</td>\n",
       "      <td>NaN</td>\n",
       "      <td>NaN</td>\n",
       "      <td>NaN</td>\n",
       "    </tr>\n",
       "    <tr>\n",
       "      <th>4</th>\n",
       "      <td>F5M</td>\n",
       "      <td>NaN</td>\n",
       "      <td>NaN</td>\n",
       "      <td>NaN</td>\n",
       "      <td>NaN</td>\n",
       "      <td>NaN</td>\n",
       "      <td>NaN</td>\n",
       "      <td>NaN</td>\n",
       "      <td>NaN</td>\n",
       "      <td>NaN</td>\n",
       "      <td>NaN</td>\n",
       "      <td>NaN</td>\n",
       "      <td>NaN</td>\n",
       "      <td>Forage</td>\n",
       "      <td>NaN</td>\n",
       "      <td>NaN</td>\n",
       "      <td>6.0</td>\n",
       "      <td>NaN</td>\n",
       "      <td>NaN</td>\n",
       "      <td>NaN</td>\n",
       "    </tr>\n",
       "  </tbody>\n",
       "</table>\n",
       "</div>"
      ],
      "text/plain": [
       "     ID              X            Y           Z  Diam_int_pz  Diam_ext_pz  \\\n",
       "0  F1aM  152883.878158  122606.5786  103.058428          NaN          NaN   \n",
       "1   F2M            NaN          NaN         NaN          NaN          NaN   \n",
       "2   F3M            NaN          NaN         NaN          NaN          NaN   \n",
       "3   F4M            NaN          NaN         NaN          NaN          NaN   \n",
       "4   F5M            NaN          NaN         NaN          NaN          NaN   \n",
       "\n",
       "      Method Resp_chantier  Long_pz  Crep_long Methode  Diff_Z_local  \\\n",
       "0  Dual tube           NaN      NaN        NaN     NaN           NaN   \n",
       "1        NaN           NaN      NaN        NaN     NaN           NaN   \n",
       "2        NaN           NaN      NaN        NaN     NaN           NaN   \n",
       "3        NaN           NaN      NaN        NaN     NaN           NaN   \n",
       "4        NaN           NaN      NaN        NaN     NaN           NaN   \n",
       "\n",
       "  Type_refus    Type    ID_date           Societe  Long_for    Date_ouv Refus  \\\n",
       "0    Laitier  Forage  2017-F1aM  ECOPLANNING sprl       2.4  2017-02-22     x   \n",
       "1        NaN  Forage        NaN               NaN       6.0         NaN   NaN   \n",
       "2        NaN  Forage        NaN               NaN       3.3         NaN   NaN   \n",
       "3        NaN  Forage        NaN               NaN       6.0         NaN   NaN   \n",
       "4        NaN  Forage        NaN               NaN       6.0         NaN   NaN   \n",
       "\n",
       "   Diam_for  \n",
       "0      75.0  \n",
       "1       NaN  \n",
       "2       NaN  \n",
       "3       NaN  \n",
       "4       NaN  "
      ]
     },
     "execution_count": 135,
     "metadata": {},
     "output_type": "execute_result"
    }
   ],
   "source": [
    "bh.head()"
   ]
  },
  {
   "cell_type": "code",
   "execution_count": 119,
   "id": "fc96baeb",
   "metadata": {},
   "outputs": [
    {
     "data": {
      "text/plain": [
       "Index(['ID', 'X', 'Y', 'Z', 'Diam_int_pz', 'Diam_ext_pz', 'Method',\n",
       "       'Resp_chantier', 'Long_pz', 'Crep_long', 'Methode', 'Diff_Z_local',\n",
       "       'Type_refus', 'Type', 'ID_date', 'Societe', 'Long_for', 'Date_ouv',\n",
       "       'Refus', 'Diam_for'],\n",
       "      dtype='object')"
      ]
     },
     "execution_count": 119,
     "metadata": {},
     "output_type": "execute_result"
    }
   ],
   "source": [
    "bh.columns"
   ]
  },
  {
   "cell_type": "code",
   "execution_count": 147,
   "id": "22cda577",
   "metadata": {},
   "outputs": [],
   "source": [
    "mdf, conficts = gdf_merger(intervals[['ID', 'Description', 'Litho_top', 'Litho_base']], bh[['ID', 'X', 'Y', 'Z', 'Diam_for']], how='outer', on='ID', dist_max=1)"
   ]
  },
  {
   "cell_type": "code",
   "execution_count": 148,
   "id": "3f575395",
   "metadata": {},
   "outputs": [
    {
     "data": {
      "text/html": [
       "<div>\n",
       "<style scoped>\n",
       "    .dataframe tbody tr th:only-of-type {\n",
       "        vertical-align: middle;\n",
       "    }\n",
       "\n",
       "    .dataframe tbody tr th {\n",
       "        vertical-align: top;\n",
       "    }\n",
       "\n",
       "    .dataframe thead th {\n",
       "        text-align: right;\n",
       "    }\n",
       "</style>\n",
       "<table border=\"1\" class=\"dataframe\">\n",
       "  <thead>\n",
       "    <tr style=\"text-align: right;\">\n",
       "      <th></th>\n",
       "    </tr>\n",
       "  </thead>\n",
       "  <tbody>\n",
       "  </tbody>\n",
       "</table>\n",
       "</div>"
      ],
      "text/plain": [
       "Empty DataFrame\n",
       "Columns: []\n",
       "Index: []"
      ]
     },
     "execution_count": 148,
     "metadata": {},
     "output_type": "execute_result"
    }
   ],
   "source": [
    "conficts"
   ]
  },
  {
   "cell_type": "code",
   "execution_count": 149,
   "id": "6ab7eb5a",
   "metadata": {},
   "outputs": [
    {
     "data": {
      "text/html": [
       "<div>\n",
       "<style scoped>\n",
       "    .dataframe tbody tr th:only-of-type {\n",
       "        vertical-align: middle;\n",
       "    }\n",
       "\n",
       "    .dataframe tbody tr th {\n",
       "        vertical-align: top;\n",
       "    }\n",
       "\n",
       "    .dataframe thead th {\n",
       "        text-align: right;\n",
       "    }\n",
       "</style>\n",
       "<table border=\"1\" class=\"dataframe\">\n",
       "  <thead>\n",
       "    <tr style=\"text-align: right;\">\n",
       "      <th></th>\n",
       "      <th>ID</th>\n",
       "      <th>X</th>\n",
       "      <th>Y</th>\n",
       "      <th>Z</th>\n",
       "      <th>Description</th>\n",
       "      <th>Litho_top</th>\n",
       "      <th>Litho_base</th>\n",
       "    </tr>\n",
       "  </thead>\n",
       "  <tbody>\n",
       "    <tr>\n",
       "      <th>1669</th>\n",
       "      <td>F224</td>\n",
       "      <td>152883.047932</td>\n",
       "      <td>122582.093707</td>\n",
       "      <td>175.500000</td>\n",
       "      <td>NaN</td>\n",
       "      <td>NaN</td>\n",
       "      <td>NaN</td>\n",
       "    </tr>\n",
       "    <tr>\n",
       "      <th>1670</th>\n",
       "      <td>F226</td>\n",
       "      <td>152882.734621</td>\n",
       "      <td>122586.451680</td>\n",
       "      <td>179.500000</td>\n",
       "      <td>NaN</td>\n",
       "      <td>NaN</td>\n",
       "      <td>NaN</td>\n",
       "    </tr>\n",
       "    <tr>\n",
       "      <th>1671</th>\n",
       "      <td>F227</td>\n",
       "      <td>NaN</td>\n",
       "      <td>NaN</td>\n",
       "      <td>167.000000</td>\n",
       "      <td>NaN</td>\n",
       "      <td>NaN</td>\n",
       "      <td>NaN</td>\n",
       "    </tr>\n",
       "    <tr>\n",
       "      <th>1672</th>\n",
       "      <td>F224 bis</td>\n",
       "      <td>152883.150964</td>\n",
       "      <td>122582.644272</td>\n",
       "      <td>101.744399</td>\n",
       "      <td>NaN</td>\n",
       "      <td>NaN</td>\n",
       "      <td>NaN</td>\n",
       "    </tr>\n",
       "    <tr>\n",
       "      <th>1673</th>\n",
       "      <td>F220 bis</td>\n",
       "      <td>152881.262319</td>\n",
       "      <td>122586.508284</td>\n",
       "      <td>101.825243</td>\n",
       "      <td>NaN</td>\n",
       "      <td>NaN</td>\n",
       "      <td>NaN</td>\n",
       "    </tr>\n",
       "  </tbody>\n",
       "</table>\n",
       "</div>"
      ],
      "text/plain": [
       "            ID              X              Y           Z Description  \\\n",
       "1669      F224  152883.047932  122582.093707  175.500000         NaN   \n",
       "1670      F226  152882.734621  122586.451680  179.500000         NaN   \n",
       "1671      F227            NaN            NaN  167.000000         NaN   \n",
       "1672  F224 bis  152883.150964  122582.644272  101.744399         NaN   \n",
       "1673  F220 bis  152881.262319  122586.508284  101.825243         NaN   \n",
       "\n",
       "      Litho_top  Litho_base  \n",
       "1669        NaN         NaN  \n",
       "1670        NaN         NaN  \n",
       "1671        NaN         NaN  \n",
       "1672        NaN         NaN  \n",
       "1673        NaN         NaN  "
      ]
     },
     "execution_count": 149,
     "metadata": {},
     "output_type": "execute_result"
    }
   ],
   "source": [
    "mdf[['ID', 'X', 'Y','Z', 'Description', 'Litho_top', 'Litho_base']].tail()"
   ]
  },
  {
   "cell_type": "code",
   "execution_count": 151,
   "id": "9a72eabc",
   "metadata": {},
   "outputs": [
    {
     "data": {
      "text/plain": [
       "1861"
      ]
     },
     "execution_count": 151,
     "metadata": {},
     "output_type": "execute_result"
    }
   ],
   "source": [
    "len(intervals)+len(bh)"
   ]
  },
  {
   "cell_type": "code",
   "execution_count": 166,
   "id": "1c094169",
   "metadata": {},
   "outputs": [
    {
     "data": {
      "text/html": [
       "<div>\n",
       "<style scoped>\n",
       "    .dataframe tbody tr th:only-of-type {\n",
       "        vertical-align: middle;\n",
       "    }\n",
       "\n",
       "    .dataframe tbody tr th {\n",
       "        vertical-align: top;\n",
       "    }\n",
       "\n",
       "    .dataframe thead th {\n",
       "        text-align: right;\n",
       "    }\n",
       "</style>\n",
       "<table border=\"1\" class=\"dataframe\">\n",
       "  <thead>\n",
       "    <tr style=\"text-align: right;\">\n",
       "      <th></th>\n",
       "      <th>ID</th>\n",
       "      <th>X</th>\n",
       "      <th>Y</th>\n",
       "      <th>Z</th>\n",
       "      <th>Description</th>\n",
       "      <th>Litho_base</th>\n",
       "      <th>Litho_top</th>\n",
       "      <th>Diam_for</th>\n",
       "    </tr>\n",
       "  </thead>\n",
       "  <tbody>\n",
       "    <tr>\n",
       "      <th>1206</th>\n",
       "      <td>T216</td>\n",
       "      <td>NaN</td>\n",
       "      <td>NaN</td>\n",
       "      <td>NaN</td>\n",
       "      <td>Remblais gris à brun très induré avec cailloux...</td>\n",
       "      <td>0.8</td>\n",
       "      <td>0.0</td>\n",
       "      <td>NaN</td>\n",
       "    </tr>\n",
       "  </tbody>\n",
       "</table>\n",
       "</div>"
      ],
      "text/plain": [
       "        ID   X   Y   Z                                        Description  \\\n",
       "1206  T216 NaN NaN NaN  Remblais gris à brun très induré avec cailloux...   \n",
       "\n",
       "      Litho_base  Litho_top  Diam_for  \n",
       "1206         0.8        0.0       NaN  "
      ]
     },
     "execution_count": 166,
     "metadata": {},
     "output_type": "execute_result"
    }
   ],
   "source": [
    "mdf.query('ID==\"T216\"')"
   ]
  },
  {
   "cell_type": "code",
   "execution_count": 150,
   "id": "d0fbda1e",
   "metadata": {},
   "outputs": [
    {
     "data": {
      "image/png": "[encoded data removed]",
      "text/plain": [
       "<Figure size 432x288 with 1 Axes>"
      ]
     },
     "metadata": {
      "needs_background": "light"
     },
     "output_type": "display_data"
    }
   ],
   "source": [
    "plt.plot(mdf['X'],mdf['Y'], '.')\n",
    "plt.axis('equal')\n",
    "plt.grid('on')"
   ]
  },
  {
   "cell_type": "code",
   "execution_count": null,
   "id": "c02b7aa9",
   "metadata": {},
   "outputs": [],
   "source": []
  },
  {
   "cell_type": "code",
   "execution_count": 173,
   "id": "435482dd",
   "metadata": {},
   "outputs": [
    {
     "data": {
      "text/plain": [
       "False"
      ]
     },
     "execution_count": 173,
     "metadata": {},
     "output_type": "execute_result"
    }
   ],
   "source": [
    "intervals.groupby('ID').count()['Type']>5"
   ]
  },
  {
   "cell_type": "code",
   "execution_count": null,
   "id": "c6f1b386",
   "metadata": {},
   "outputs": [],
   "source": []
  }
 ],
 "metadata": {
  "kernelspec": {
   "display_name": "Python 3",
   "language": "python",
   "name": "python3"
  },
  "language_info": {
   "codemirror_mode": {
    "name": "ipython",
    "version": 3
   },
   "file_extension": ".py",
   "mimetype": "text/x-python",
   "name": "python",
   "nbconvert_exporter": "python",
   "pygments_lexer": "ipython3",
   "version": "3.8.5"
  }
 },
 "nbformat": 4,
 "nbformat_minor": 5
}
