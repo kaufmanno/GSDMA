{
 "cells": [
  {
   "cell_type": "markdown",
   "id": "finite-killing",
   "metadata": {},
   "source": [
    "# Data Gathering"
   ]
  },
  {
   "cell_type": "code",
   "execution_count": 1,
   "id": "educational-barrier",
   "metadata": {},
   "outputs": [],
   "source": [
    "from utils.io import dataframe_viewer, files_search, data_merger, data_validation, data_overview, \\\n",
    "data_filter, fix_duplicates\n",
    "\n",
    "import re, os\n",
    "import numpy as np\n",
    "import pandas as pd\n",
    "import datetime as dtm\n",
    "from definitions import ROOT_DIR"
   ]
  },
  {
   "cell_type": "code",
   "execution_count": 2,
   "id": "e8feaa78",
   "metadata": {},
   "outputs": [],
   "source": [
    "def create_df(files, verbose=True): # find another name for this function\n",
    "    \"\"\"\n",
    "    create dataframes from files and test if they contain position informations\n",
    "    files: list of files name\n",
    "    \"\"\"\n",
    "    dfs = []\n",
    "    for f in files:\n",
    "        df = pd.read_csv(f, delimiter=',')\n",
    "        dfs.append(df)\n",
    "        \n",
    "        if verbose:\n",
    "            if 'X' in list(df.columns): msg = ' --> Coordinates'\n",
    "            else: msg = ' --> No coordinates'\n",
    "\n",
    "            print(f\"df1 : {msg}\")\n",
    "            \n",
    "    return dfs"
   ]
  },
  {
   "cell_type": "markdown",
   "id": "enhanced-noise",
   "metadata": {},
   "source": [
    "## Reading files"
   ]
  },
  {
   "cell_type": "code",
   "execution_count": 3,
   "id": "vanilla-bones",
   "metadata": {},
   "outputs": [],
   "source": [
    "work_dir = ROOT_DIR+'/CF_data/Result_traitem/'\n",
    "save_dir = ROOT_DIR+'/CF_data/Donnees_fusionnees/'"
   ]
  },
  {
   "cell_type": "code",
   "execution_count": 4,
   "id": "confused-pleasure",
   "metadata": {},
   "outputs": [],
   "source": [
    "# create my dictionary structure to retrieve good files (Keynames !!!)\n",
    "files_dict={'Borehole':0,'Piezometer':0,'Piezair':0,'Trench':0,'Litho':0,'Equipm':0,\n",
    "        'Measure':0,'Sample':0,'Analysis':0,'Facility':0}"
   ]
  },
  {
   "cell_type": "code",
   "execution_count": 5,
   "id": "compliant-sensitivity",
   "metadata": {
    "scrolled": true
   },
   "outputs": [
    {
     "name": "stdout",
     "output_type": "stream",
     "text": [
      "Borehole  \t:  7\n",
      "Piezometer  \t:  17\n",
      "Piezair  \t:  2\n",
      "Trench  \t:  1\n",
      "Litho  \t:  7\n",
      "Equipm  \t:  3\n",
      "Measure  \t:  6\n",
      "Sample  \t:  27\n",
      "Analysis  \t:  21\n",
      "Facility  \t:  4\n"
     ]
    }
   ],
   "source": [
    "files_search(work_dir, files_dict, prefix='', skip='source')"
   ]
  },
  {
   "cell_type": "code",
   "execution_count": 6,
   "id": "possible-bones",
   "metadata": {},
   "outputs": [],
   "source": [
    "how=['inner', 'outer', 'left', 'right']"
   ]
  },
  {
   "cell_type": "code",
   "execution_count": 7,
   "id": "national-boards",
   "metadata": {},
   "outputs": [],
   "source": [
    "f = False\n",
    "t = True"
   ]
  },
  {
   "cell_type": "markdown",
   "id": "c99f6d75",
   "metadata": {},
   "source": [
    "# ================== PROCESSING ===================== "
   ]
  },
  {
   "cell_type": "markdown",
   "id": "d5f039bd",
   "metadata": {},
   "source": [
    "# Unknown facilities"
   ]
  },
  {
   "cell_type": "code",
   "execution_count": 8,
   "id": "492beab1",
   "metadata": {},
   "outputs": [
    {
     "name": "stdout",
     "output_type": "stream",
     "text": [
      "4 files\n"
     ]
    }
   ],
   "source": [
    "key='Facility'\n",
    "save_file = f'Merged_Facilites_unknw.csv'\n",
    "#coi=['ID','X','Y','Z','Litho_top','Litho_base','Description']  #columns of interest\n",
    "dataset = pd.DataFrame()\n",
    "print(len(files_dict[key]), 'files')"
   ]
  },
  {
   "cell_type": "code",
   "execution_count": 9,
   "id": "a4f6eeb0",
   "metadata": {},
   "outputs": [
    {
     "data": {
      "text/plain": [
       "['/home/yanathan/Projects/GSDMA/CF_data/Result_traitem/database_Memoris3/Donnees_piezos_Unkown-facility.csv',\n",
       " '/home/yanathan/Projects/GSDMA/CF_data/Result_traitem/database_Memoris3/Drains_Pz_ENEL_Unkown-facility.csv',\n",
       " '/home/yanathan/Projects/GSDMA/CF_data/Result_traitem/database_Memoris3/Result_eau_Unkown-facility.csv',\n",
       " '/home/yanathan/Projects/GSDMA/CF_data/Result_traitem/database_Memoris3/Result_sol_Unkown-facility.csv']"
      ]
     },
     "execution_count": 9,
     "metadata": {},
     "output_type": "execute_result"
    }
   ],
   "source": [
    "files_dict[key]"
   ]
  },
  {
   "cell_type": "code",
   "execution_count": 10,
   "id": "5c656a5f",
   "metadata": {
    "scrolled": true
   },
   "outputs": [
    {
     "name": "stdout",
     "output_type": "stream",
     "text": [
      "Same files:[(2, 3)]\n",
      "Files with coordinates:[0, 1, 2, 3]\n",
      "Files without coordinates:[]\n"
     ]
    }
   ],
   "source": [
    "data_overview(files_dict[key])"
   ]
  },
  {
   "cell_type": "markdown",
   "id": "a9b016d5",
   "metadata": {},
   "source": [
    "#### $\\color{green}{\\textbf{Read and merge}}$"
   ]
  },
  {
   "cell_type": "code",
   "execution_count": 11,
   "id": "1eabddfc",
   "metadata": {
    "scrolled": false
   },
   "outputs": [
    {
     "name": "stdout",
     "output_type": "stream",
     "text": [
      "df1 :  --> Coordinates\n",
      "df1 :  --> Coordinates\n",
      "Rows : 13, columns : 6, Unique values on col 'ID': 13\n"
     ]
    },
    {
     "data": {
      "application/vnd.jupyter.widget-view+json": {
       "model_id": "1a77d738d3f54d77b972426998c1bd23",
       "version_major": 2,
       "version_minor": 0
      },
      "text/plain": [
       "interactive(children=(IntSlider(value=3, description='rows', max=13, min=3, readout=False), IntSlider(value=6,…"
      ]
     },
     "metadata": {},
     "output_type": "display_data"
    },
    {
     "name": "stdout",
     "output_type": "stream",
     "text": [
      "Rows : 12, columns : 6, Unique values on col 'ID': 12\n"
     ]
    },
    {
     "data": {
      "application/vnd.jupyter.widget-view+json": {
       "model_id": "e0d32b0f0be24aa6bcb0637816e2f9e1",
       "version_major": 2,
       "version_minor": 0
      },
      "text/plain": [
       "interactive(children=(IntSlider(value=3, description='rows', max=12, min=3, readout=False), IntSlider(value=6,…"
      ]
     },
     "metadata": {},
     "output_type": "display_data"
    },
    {
     "data": {
      "text/plain": [
       "(None, None)"
      ]
     },
     "execution_count": 11,
     "metadata": {},
     "output_type": "execute_result"
    }
   ],
   "source": [
    "file1= work_dir + 'database_Memoris3/Donnees_piezos_Unkown-facility.csv' # 0\n",
    "file2= work_dir + 'database_Memoris3/Drains_Pz_ENEL_Unkown-facility.csv' # 1  \n",
    "\n",
    "df1, df2 = create_df([file1, file2])\n",
    "dataframe_viewer(df1, rows=3, un_val='ID', view=t), dataframe_viewer(df2, rows=3, un_val='ID', view=t)"
   ]
  },
  {
   "cell_type": "code",
   "execution_count": 12,
   "id": "efda26fa",
   "metadata": {
    "scrolled": true
   },
   "outputs": [],
   "source": [
    "mdf, conflict_df=data_merger(df1, df2, how=how[1], on='ID', dist_max=1)"
   ]
  },
  {
   "cell_type": "markdown",
   "id": "c4cd4cdd",
   "metadata": {},
   "source": [
    "#### First object dataset save"
   ]
  },
  {
   "cell_type": "code",
   "execution_count": 13,
   "id": "2d8cc778",
   "metadata": {},
   "outputs": [],
   "source": [
    "dataset = mdf.copy() #saving"
   ]
  },
  {
   "cell_type": "code",
   "execution_count": 14,
   "id": "c79e3a09",
   "metadata": {
    "scrolled": true
   },
   "outputs": [
    {
     "name": "stdout",
     "output_type": "stream",
     "text": [
      "Rows : 25, columns : 8, Unique values on col 'ID': 25\n"
     ]
    },
    {
     "data": {
      "application/vnd.jupyter.widget-view+json": {
       "model_id": "b9679effe09946789c750e08e5d574bc",
       "version_major": 2,
       "version_minor": 0
      },
      "text/plain": [
       "interactive(children=(IntSlider(value=3, description='rows', max=25, min=3, readout=False), IntSlider(value=8,…"
      ]
     },
     "metadata": {},
     "output_type": "display_data"
    }
   ],
   "source": [
    "dataframe_viewer(dataset, rows=3, un_val='ID', view=t)"
   ]
  },
  {
   "cell_type": "markdown",
   "id": "060866ae",
   "metadata": {},
   "source": [
    "#### $\\color{green}{\\textbf{Read and merge}}$"
   ]
  },
  {
   "cell_type": "code",
   "execution_count": 15,
   "id": "1d221cbd",
   "metadata": {
    "scrolled": true
   },
   "outputs": [
    {
     "name": "stdout",
     "output_type": "stream",
     "text": [
      "df1 :  --> Coordinates\n",
      "Rows : 13, columns : 8, Unique values on col 'ID': 13\n"
     ]
    },
    {
     "data": {
      "application/vnd.jupyter.widget-view+json": {
       "model_id": "ef32a786c799448e8e01241bf8b192db",
       "version_major": 2,
       "version_minor": 0
      },
      "text/plain": [
       "interactive(children=(IntSlider(value=3, description='rows', max=13, min=3, readout=False), IntSlider(value=8,…"
      ]
     },
     "metadata": {},
     "output_type": "display_data"
    }
   ],
   "source": [
    "file1= work_dir + 'database_Memoris3/Result_eau_Unkown-facility.csv' # 2\n",
    "\n",
    "df1 = create_df([file1])[0]\n",
    "dataframe_viewer(df1, rows=3, un_val='ID', view=t)"
   ]
  },
  {
   "cell_type": "markdown",
   "id": "8794f0d0",
   "metadata": {},
   "source": [
    "#### Merge with object dataset"
   ]
  },
  {
   "cell_type": "code",
   "execution_count": 16,
   "id": "1415f506",
   "metadata": {
    "scrolled": true
   },
   "outputs": [],
   "source": [
    "dataset, conflict_df=data_merger(dataset, df1, how=how[1], on='ID', dist_max=1)"
   ]
  },
  {
   "cell_type": "code",
   "execution_count": 17,
   "id": "e18d91ec",
   "metadata": {},
   "outputs": [],
   "source": [
    "if 'level_0' in dataset.columns:\n",
    "    if 'index' in dataset.columns:\n",
    "        dataset.drop(columns='index', inplace=True)\n",
    "    dataset.rename(columns={'level_0':'index'}, inplace=True)"
   ]
  },
  {
   "cell_type": "code",
   "execution_count": 18,
   "id": "2e543201",
   "metadata": {
    "scrolled": false
   },
   "outputs": [
    {
     "name": "stdout",
     "output_type": "stream",
     "text": [
      "Rows : 25, columns : 10, Unique values on col 'ID': 25\n"
     ]
    },
    {
     "data": {
      "application/vnd.jupyter.widget-view+json": {
       "model_id": "d9c9242f5fcb49b89e04cee049c43355",
       "version_major": 2,
       "version_minor": 0
      },
      "text/plain": [
       "interactive(children=(IntSlider(value=10, description='rows', max=25, min=10, readout=False), IntSlider(value=…"
      ]
     },
     "metadata": {},
     "output_type": "display_data"
    }
   ],
   "source": [
    "dataframe_viewer(dataset, rows=10, un_val='ID', view=t)"
   ]
  },
  {
   "cell_type": "markdown",
   "id": "3bd9441d",
   "metadata": {},
   "source": [
    "####  $\\color{red}{\\textbf{Save final object dataset}}$"
   ]
  },
  {
   "cell_type": "code",
   "execution_count": 19,
   "id": "8447c1de",
   "metadata": {},
   "outputs": [],
   "source": [
    "if 'index' in dataset.columns:\n",
    "    dataset.drop(columns='index', inplace=True)"
   ]
  },
  {
   "cell_type": "code",
   "execution_count": 20,
   "id": "cb3b0135",
   "metadata": {},
   "outputs": [],
   "source": [
    "if not os.path.exists(save_dir):\n",
    "    os.makedirs(save_dir)\n",
    "    \n",
    "dataset.to_csv(save_dir + save_file, index=False)"
   ]
  }
 ],
 "metadata": {
  "kernelspec": {
   "display_name": "Python 3 (ipykernel)",
   "language": "python",
   "name": "python3"
  },
  "language_info": {
   "codemirror_mode": {
    "name": "ipython",
    "version": 3
   },
   "file_extension": ".py",
   "mimetype": "text/x-python",
   "name": "python",
   "nbconvert_exporter": "python",
   "pygments_lexer": "ipython3",
   "version": "3.8.10"
  }
 },
 "nbformat": 4,
 "nbformat_minor": 5
}
