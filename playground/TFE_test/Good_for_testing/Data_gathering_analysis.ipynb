{
 "cells": [
  {
   "cell_type": "markdown",
   "id": "finite-killing",
   "metadata": {},
   "source": [
    "# Data Gathering"
   ]
  },
  {
   "cell_type": "code",
   "execution_count": 1,
   "id": "educational-barrier",
   "metadata": {},
   "outputs": [],
   "source": [
    "from utils.io import dataframe_viewer, files_search, data_merger, data_validation, data_overview, \\\n",
    "data_filter, fix_duplicates\n",
    "\n",
    "import re, os\n",
    "import numpy as np\n",
    "import pandas as pd\n",
    "import datetime as dtm\n",
    "from definitions import ROOT_DIR"
   ]
  },
  {
   "cell_type": "code",
   "execution_count": 2,
   "id": "representative-bunny",
   "metadata": {},
   "outputs": [],
   "source": [
    "def create_df(files, verbose=True): # find another name for this function\n",
    "    \"\"\"\n",
    "    create dataframes from files and test if they contain position informations\n",
    "    files: list of files name\n",
    "    \"\"\"\n",
    "    dfs = []\n",
    "    i = 0\n",
    "    for f in files:\n",
    "        i += 1\n",
    "        df = pd.read_csv(f, delimiter=',')\n",
    "        dfs.append(df)\n",
    "        \n",
    "        if verbose:\n",
    "            if 'X' in list(df.columns): msg = ' --> Coordinates'\n",
    "            else: msg = ' --> No coordinates'\n",
    "\n",
    "            print(f\"df{i} : {msg}\")\n",
    "            \n",
    "    return dfs"
   ]
  },
  {
   "cell_type": "markdown",
   "id": "enhanced-noise",
   "metadata": {},
   "source": [
    "## Reading files"
   ]
  },
  {
   "cell_type": "code",
   "execution_count": 3,
   "id": "vanilla-bones",
   "metadata": {},
   "outputs": [],
   "source": [
    "work_dir = ROOT_DIR+'/CF_data/Result_traitem/'\n",
    "save_dir = ROOT_DIR+'/CF_data/Donnees_fusionnees/'"
   ]
  },
  {
   "cell_type": "code",
   "execution_count": 4,
   "id": "confused-pleasure",
   "metadata": {},
   "outputs": [],
   "source": [
    "# create my dictionary structure to retrieve good files (Keynames !!!)\n",
    "files_dict={'Borehole':0,'Piezometer':0,'Piezair':0,'Trench':0,'Litho':0,'Equipm':0, \n",
    "            'Measure':0,'Sample':0,'Analysis':0,'Facility':0, 'Final':0}"
   ]
  },
  {
   "cell_type": "code",
   "execution_count": 5,
   "id": "compliant-sensitivity",
   "metadata": {
    "scrolled": true
   },
   "outputs": [
    {
     "name": "stdout",
     "output_type": "stream",
     "text": [
      "Borehole  \t:  13\n",
      "Piezometer  \t:  18\n",
      "Piezair  \t:  3\n",
      "Trench  \t:  1\n",
      "Litho  \t:  12\n",
      "Equipm  \t:  7\n",
      "Measure  \t:  11\n",
      "Sample  \t:  35\n",
      "Analysis  \t:  44\n",
      "Facility  \t:  4\n",
      "Final  \t:  47\n"
     ]
    }
   ],
   "source": [
    "files_search(work_dir, files_dict, prefix='', skip='source')"
   ]
  },
  {
   "cell_type": "code",
   "execution_count": 6,
   "id": "possible-bones",
   "metadata": {},
   "outputs": [],
   "source": [
    "how=['inner', 'outer', 'left', 'right']"
   ]
  },
  {
   "cell_type": "code",
   "execution_count": 7,
   "id": "national-boards",
   "metadata": {},
   "outputs": [],
   "source": [
    "f = False\n",
    "t = True"
   ]
  },
  {
   "cell_type": "markdown",
   "id": "c99f6d75",
   "metadata": {},
   "source": [
    "# ================== PROCESSING ===================== "
   ]
  },
  {
   "cell_type": "markdown",
   "id": "7990fc47",
   "metadata": {},
   "source": [
    "# Analysis"
   ]
  },
  {
   "cell_type": "code",
   "execution_count": 8,
   "id": "4f692a0a",
   "metadata": {},
   "outputs": [
    {
     "name": "stdout",
     "output_type": "stream",
     "text": [
      "44 files\n"
     ]
    }
   ],
   "source": [
    "key='Analysis'\n",
    "save_file = f'Merged_Analysis.csv'\n",
    "coi=['ID','ID_date','X','Y','Z','Type','Long_for','Diam_for','Refus'] #columns of interest\n",
    "dataset = pd.DataFrame() # for saving object info after last merging\n",
    "print(len(files_dict[key]), 'files')"
   ]
  },
  {
   "cell_type": "code",
   "execution_count": 9,
   "id": "a6591bde",
   "metadata": {},
   "outputs": [
    {
     "data": {
      "text/plain": [
       "['/home/yanathan/Projects/GSDMA/CF_data/Result_traitem/Container_phyto/Param_agro_Analysis.csv',\n",
       " '/home/yanathan/Projects/GSDMA/CF_data/Result_traitem/Container_phyto/Result_SOL_Analysis.csv',\n",
       " '/home/yanathan/Projects/GSDMA/CF_data/Result_traitem/Memoris_seafile/Result_SOL_Analysis.csv',\n",
       " '/home/yanathan/Projects/GSDMA/CF_data/Result_traitem/Memoris_seafile/Result_eau_Analysis.csv',\n",
       " '/home/yanathan/Projects/GSDMA/CF_data/Result_traitem/Phase_1_Memoris/Final_merge/Soil_analysis.csv',\n",
       " '/home/yanathan/Projects/GSDMA/CF_data/Result_traitem/Phase_1_Memoris/Final_merge/Water_analysis.csv',\n",
       " '/home/yanathan/Projects/GSDMA/CF_data/Result_traitem/Phase_1_Memoris/Final_merge/final_Soil_analysis.csv',\n",
       " '/home/yanathan/Projects/GSDMA/CF_data/Result_traitem/Phase_1_Memoris/Final_merge/final_Water_analysis.csv',\n",
       " '/home/yanathan/Projects/GSDMA/CF_data/Result_traitem/Phase_1_Memoris/Result_eau_Analysis.csv',\n",
       " '/home/yanathan/Projects/GSDMA/CF_data/Result_traitem/Phase_1_Memoris/Result_sol_Analysis.csv',\n",
       " '/home/yanathan/Projects/GSDMA/CF_data/Result_traitem/Phase_2_Memoris/Final_merge/Soil_analysis.csv',\n",
       " '/home/yanathan/Projects/GSDMA/CF_data/Result_traitem/Phase_2_Memoris/Final_merge/final_Soil_analysis.csv',\n",
       " '/home/yanathan/Projects/GSDMA/CF_data/Result_traitem/Phase_2_Memoris/Final_merge/final_Water_analysis.csv',\n",
       " '/home/yanathan/Projects/GSDMA/CF_data/Result_traitem/Phase_2_Memoris/Result_SOL_Analysis.csv',\n",
       " '/home/yanathan/Projects/GSDMA/CF_data/Result_traitem/Phase_2_Memoris/Result_eau_Analysis.csv',\n",
       " '/home/yanathan/Projects/GSDMA/CF_data/Result_traitem/Siterem_Ext_Pilote/Final_merge/final_water_analysis.csv',\n",
       " '/home/yanathan/Projects/GSDMA/CF_data/Result_traitem/Siterem_Ext_Pilote/Final_merge/water_analysis.csv',\n",
       " '/home/yanathan/Projects/GSDMA/CF_data/Result_traitem/Siterem_Ext_Pilote/Inorganic_major_Analysis.csv',\n",
       " '/home/yanathan/Projects/GSDMA/CF_data/Result_traitem/Siterem_Ext_Pilote/Result_eau_Analysis.csv',\n",
       " '/home/yanathan/Projects/GSDMA/CF_data/Result_traitem/Siterem_Pilote/Final_merge/final_water_analysis.csv',\n",
       " '/home/yanathan/Projects/GSDMA/CF_data/Result_traitem/Siterem_Pilote/Final_merge/water_analysis.csv',\n",
       " '/home/yanathan/Projects/GSDMA/CF_data/Result_traitem/Siterem_Pilote/Inorganic_major_Analysis.csv',\n",
       " '/home/yanathan/Projects/GSDMA/CF_data/Result_traitem/Siterem_Pilote/Result_eau_Analysis.csv',\n",
       " '/home/yanathan/Projects/GSDMA/CF_data/Result_traitem/Siterem_Result_Sol/Final_merge/Soil_analysis.csv',\n",
       " '/home/yanathan/Projects/GSDMA/CF_data/Result_traitem/Siterem_Result_Sol/Final_merge/final_Soil_analysis.csv',\n",
       " '/home/yanathan/Projects/GSDMA/CF_data/Result_traitem/Siterem_Result_Sol/Result_sol_ExtP_Analysis.csv',\n",
       " '/home/yanathan/Projects/GSDMA/CF_data/Result_traitem/Siterem_Result_Sol/SOL_T1_Pilote_Analysis.csv',\n",
       " '/home/yanathan/Projects/GSDMA/CF_data/Result_traitem/database_Memoris3/Drains_Pz_ENEL_Analysis.csv',\n",
       " '/home/yanathan/Projects/GSDMA/CF_data/Result_traitem/database_Memoris3/Final_merge/Soil_analysis.csv',\n",
       " '/home/yanathan/Projects/GSDMA/CF_data/Result_traitem/database_Memoris3/Final_merge/water_analysis.csv',\n",
       " '/home/yanathan/Projects/GSDMA/CF_data/Result_traitem/database_Memoris3/Result_eau_Analysis.csv',\n",
       " '/home/yanathan/Projects/GSDMA/CF_data/Result_traitem/database_Memoris3/Result_sol_Analysis.csv',\n",
       " '/home/yanathan/Projects/GSDMA/CF_data/Result_traitem/donnees_terrain_2019/Final_merge/Soil_analysis.csv',\n",
       " '/home/yanathan/Projects/GSDMA/CF_data/Result_traitem/donnees_terrain_2019/Final_merge/final_Soil_analysis.csv',\n",
       " '/home/yanathan/Projects/GSDMA/CF_data/Result_traitem/donnees_terrain_2019/Inorg_comp_majeur_Analysis.csv',\n",
       " '/home/yanathan/Projects/GSDMA/CF_data/Result_traitem/donnees_terrain_2019/Result_Sol_Analysis.csv',\n",
       " '/home/yanathan/Projects/GSDMA/CF_data/Result_traitem/profils_sols_donnees_forages/Log_Analysis.csv',\n",
       " '/home/yanathan/Projects/GSDMA/CF_data/Result_traitem/result_sol_ext_pilote/Result_Sol_Analysis.csv',\n",
       " '/home/yanathan/Projects/GSDMA/CF_data/Result_traitem/vUmons_logsFor/Analyse_eau_Phases1&2_Analysis.csv',\n",
       " '/home/yanathan/Projects/GSDMA/CF_data/Result_traitem/vUmons_logsFor/Analyse_sol_Phases1&2_Analysis.csv',\n",
       " '/home/yanathan/Projects/GSDMA/CF_data/Result_traitem/vUmons_logsFor/Final_merge/Soil_analysis.csv',\n",
       " '/home/yanathan/Projects/GSDMA/CF_data/Result_traitem/vUmons_logsFor/Final_merge/Water_analysis.csv',\n",
       " '/home/yanathan/Projects/GSDMA/CF_data/Result_traitem/vUmons_logsFor/Final_merge/final_Soil_analysis.csv',\n",
       " '/home/yanathan/Projects/GSDMA/CF_data/Result_traitem/vUmons_logsFor/Final_merge/final_Water_analysis.csv']"
      ]
     },
     "execution_count": 9,
     "metadata": {},
     "output_type": "execute_result"
    }
   ],
   "source": [
    "files_dict[key]"
   ]
  },
  {
   "cell_type": "code",
   "execution_count": 10,
   "id": "a88cbfbf",
   "metadata": {},
   "outputs": [
    {
     "name": "stdout",
     "output_type": "stream",
     "text": [
      "47 files\n"
     ]
    }
   ],
   "source": [
    "key='Final'\n",
    "save_file = f'Merged_Analysis.csv'\n",
    "coi=['ID','ID_date','X','Y','Z','Type','Long_for','Diam_for','Refus'] #columns of interest\n",
    "dataset = pd.DataFrame() # for saving object info after last merging\n",
    "print(len(files_dict[key]), 'files')"
   ]
  },
  {
   "cell_type": "code",
   "execution_count": 11,
   "id": "08c26cd3",
   "metadata": {
    "scrolled": true
   },
   "outputs": [
    {
     "data": {
      "text/plain": [
       "['/home/yanathan/Projects/GSDMA/CF_data/Result_traitem/Phase_1_Memoris/Final_merge/Soil_analysis.csv',\n",
       " '/home/yanathan/Projects/GSDMA/CF_data/Result_traitem/Phase_1_Memoris/Final_merge/Water_analysis.csv',\n",
       " '/home/yanathan/Projects/GSDMA/CF_data/Result_traitem/Phase_1_Memoris/Final_merge/final_Soil_analysis.csv',\n",
       " '/home/yanathan/Projects/GSDMA/CF_data/Result_traitem/Phase_1_Memoris/Final_merge/final_Water_analysis.csv',\n",
       " '/home/yanathan/Projects/GSDMA/CF_data/Result_traitem/Phase_2_Memoris/Final_merge/Soil_analysis.csv',\n",
       " '/home/yanathan/Projects/GSDMA/CF_data/Result_traitem/Phase_2_Memoris/Final_merge/final_Soil_analysis.csv',\n",
       " '/home/yanathan/Projects/GSDMA/CF_data/Result_traitem/Phase_2_Memoris/Final_merge/final_Water_analysis.csv',\n",
       " '/home/yanathan/Projects/GSDMA/CF_data/Result_traitem/Siterem_Ext_Pilote/Final_merge/final_water_analysis.csv',\n",
       " '/home/yanathan/Projects/GSDMA/CF_data/Result_traitem/Siterem_Ext_Pilote/Final_merge/water_analysis.csv',\n",
       " '/home/yanathan/Projects/GSDMA/CF_data/Result_traitem/Siterem_Pilote/Final_merge/final_water_analysis.csv',\n",
       " '/home/yanathan/Projects/GSDMA/CF_data/Result_traitem/Siterem_Pilote/Final_merge/water_analysis.csv',\n",
       " '/home/yanathan/Projects/GSDMA/CF_data/Result_traitem/Siterem_Result_Sol/Final_merge/Soil_analysis.csv',\n",
       " '/home/yanathan/Projects/GSDMA/CF_data/Result_traitem/Siterem_Result_Sol/Final_merge/final_Soil_analysis.csv',\n",
       " '/home/yanathan/Projects/GSDMA/CF_data/Result_traitem/database_Memoris3/Final_merge/Boreholes.csv',\n",
       " '/home/yanathan/Projects/GSDMA/CF_data/Result_traitem/database_Memoris3/Final_merge/Lithologies.csv',\n",
       " '/home/yanathan/Projects/GSDMA/CF_data/Result_traitem/database_Memoris3/Final_merge/Measures.csv',\n",
       " '/home/yanathan/Projects/GSDMA/CF_data/Result_traitem/database_Memoris3/Final_merge/Soil_analysis.csv',\n",
       " '/home/yanathan/Projects/GSDMA/CF_data/Result_traitem/database_Memoris3/Final_merge/Soil_samples.csv',\n",
       " '/home/yanathan/Projects/GSDMA/CF_data/Result_traitem/database_Memoris3/Final_merge/Unknow_facilities.csv',\n",
       " '/home/yanathan/Projects/GSDMA/CF_data/Result_traitem/database_Memoris3/Final_merge/Water_samples.csv',\n",
       " '/home/yanathan/Projects/GSDMA/CF_data/Result_traitem/database_Memoris3/Final_merge/water_analysis.csv',\n",
       " '/home/yanathan/Projects/GSDMA/CF_data/Result_traitem/donnees_terrain_2019/Final_merge/Boreholes.csv',\n",
       " '/home/yanathan/Projects/GSDMA/CF_data/Result_traitem/donnees_terrain_2019/Final_merge/Equipments.csv',\n",
       " '/home/yanathan/Projects/GSDMA/CF_data/Result_traitem/donnees_terrain_2019/Final_merge/Lithologies.csv',\n",
       " '/home/yanathan/Projects/GSDMA/CF_data/Result_traitem/donnees_terrain_2019/Final_merge/Measures.csv',\n",
       " '/home/yanathan/Projects/GSDMA/CF_data/Result_traitem/donnees_terrain_2019/Final_merge/Soil_analysis.csv',\n",
       " '/home/yanathan/Projects/GSDMA/CF_data/Result_traitem/donnees_terrain_2019/Final_merge/Soil_samples.csv',\n",
       " '/home/yanathan/Projects/GSDMA/CF_data/Result_traitem/donnees_terrain_2019/Final_merge/final_Boreholes.csv',\n",
       " '/home/yanathan/Projects/GSDMA/CF_data/Result_traitem/donnees_terrain_2019/Final_merge/final_Equipments.csv',\n",
       " '/home/yanathan/Projects/GSDMA/CF_data/Result_traitem/donnees_terrain_2019/Final_merge/final_Lithologies.csv',\n",
       " '/home/yanathan/Projects/GSDMA/CF_data/Result_traitem/donnees_terrain_2019/Final_merge/final_Measures.csv',\n",
       " '/home/yanathan/Projects/GSDMA/CF_data/Result_traitem/donnees_terrain_2019/Final_merge/final_Soil_analysis.csv',\n",
       " '/home/yanathan/Projects/GSDMA/CF_data/Result_traitem/donnees_terrain_2019/Final_merge/final_Soil_samples.csv',\n",
       " '/home/yanathan/Projects/GSDMA/CF_data/Result_traitem/profils_sols_donnees_forages/Final_merge/Boreholes.csv',\n",
       " '/home/yanathan/Projects/GSDMA/CF_data/Result_traitem/profils_sols_donnees_forages/Final_merge/Equipments.csv',\n",
       " '/home/yanathan/Projects/GSDMA/CF_data/Result_traitem/profils_sols_donnees_forages/Final_merge/Lithologies.csv',\n",
       " '/home/yanathan/Projects/GSDMA/CF_data/Result_traitem/profils_sols_donnees_forages/Final_merge/Measures.csv',\n",
       " '/home/yanathan/Projects/GSDMA/CF_data/Result_traitem/profils_sols_donnees_forages/Final_merge/Soil_samples.csv',\n",
       " '/home/yanathan/Projects/GSDMA/CF_data/Result_traitem/profils_sols_donnees_forages/Final_merge/final_Boreholes.csv',\n",
       " '/home/yanathan/Projects/GSDMA/CF_data/Result_traitem/profils_sols_donnees_forages/Final_merge/final_Equipments.csv',\n",
       " '/home/yanathan/Projects/GSDMA/CF_data/Result_traitem/profils_sols_donnees_forages/Final_merge/final_Lithologies.csv',\n",
       " '/home/yanathan/Projects/GSDMA/CF_data/Result_traitem/profils_sols_donnees_forages/Final_merge/final_Measures.csv',\n",
       " '/home/yanathan/Projects/GSDMA/CF_data/Result_traitem/profils_sols_donnees_forages/Final_merge/final_Soil_samples.csv',\n",
       " '/home/yanathan/Projects/GSDMA/CF_data/Result_traitem/vUmons_logsFor/Final_merge/Soil_analysis.csv',\n",
       " '/home/yanathan/Projects/GSDMA/CF_data/Result_traitem/vUmons_logsFor/Final_merge/Water_analysis.csv',\n",
       " '/home/yanathan/Projects/GSDMA/CF_data/Result_traitem/vUmons_logsFor/Final_merge/final_Soil_analysis.csv',\n",
       " '/home/yanathan/Projects/GSDMA/CF_data/Result_traitem/vUmons_logsFor/Final_merge/final_Water_analysis.csv']"
      ]
     },
     "execution_count": 11,
     "metadata": {},
     "output_type": "execute_result"
    }
   ],
   "source": [
    "files_dict[key]"
   ]
  },
  {
   "cell_type": "code",
   "execution_count": 12,
   "id": "29363b27",
   "metadata": {
    "scrolled": true
   },
   "outputs": [
    {
     "name": "stdout",
     "output_type": "stream",
     "text": [
      "Same files:[(43, 45), (44, 46)]\n",
      "Files with coordinates:[1, 3, 6, 13, 14, 15, 16, 17, 18, 19, 20, 21, 22, 23, 24, 25, 26, 27, 28, 29, 30, 31, 32, 33, 34, 35, 36, 37, 38, 39, 40, 41, 42, 43, 44, 45, 46]\n",
      "Files without coordinates:[0, 2, 4, 5, 7, 8, 9, 10, 11, 12]\n"
     ]
    }
   ],
   "source": [
    "data_overview(files_dict[key])"
   ]
  },
  {
   "cell_type": "markdown",
   "id": "122609c5",
   "metadata": {},
   "source": [
    "## No coordinates"
   ]
  },
  {
   "cell_type": "markdown",
   "id": "032bfe19",
   "metadata": {},
   "source": [
    "#### $\\color{green}{\\textbf{Read and merge}}$"
   ]
  },
  {
   "cell_type": "code",
   "execution_count": 13,
   "id": "3cf74e72",
   "metadata": {
    "scrolled": true
   },
   "outputs": [
    {
     "name": "stdout",
     "output_type": "stream",
     "text": [
      "df1 :  --> No coordinates\n",
      "df2 :  --> No coordinates\n",
      "Rows : 29, columns : 74, Unique values on col 'ID_ech': 29\n"
     ]
    },
    {
     "data": {
      "application/vnd.jupyter.widget-view+json": {
       "model_id": "febf448ada7740fb965e23e2ba988bcf",
       "version_major": 2,
       "version_minor": 0
      },
      "text/plain": [
       "interactive(children=(IntSlider(value=3, description='rows', max=29, min=3, readout=False), IntSlider(value=12…"
      ]
     },
     "metadata": {},
     "output_type": "display_data"
    },
    {
     "name": "stdout",
     "output_type": "stream",
     "text": [
      "Rows : 25, columns : 64, Unique values on col 'ID_ech': 25\n"
     ]
    },
    {
     "data": {
      "application/vnd.jupyter.widget-view+json": {
       "model_id": "25312007b7764391b148b02081af3edd",
       "version_major": 2,
       "version_minor": 0
      },
      "text/plain": [
       "interactive(children=(IntSlider(value=3, description='rows', max=25, min=3, readout=False), IntSlider(value=12…"
      ]
     },
     "metadata": {},
     "output_type": "display_data"
    },
    {
     "data": {
      "text/plain": [
       "(None, None)"
      ]
     },
     "execution_count": 13,
     "metadata": {},
     "output_type": "execute_result"
    }
   ],
   "source": [
    "file1= work_dir + 'Phase_1_Memoris/Final_merge/Soil_analysis.csv' # 0\n",
    "file2= work_dir + 'Phase_2_Memoris/Final_merge/Soil_analysis.csv' # 2\n",
    "\n",
    "df1, df2 = create_df([file1, file2])\n",
    "dataframe_viewer(df1, rows=3, un_val='ID_ech', view=t), dataframe_viewer(df2, rows=3, un_val='ID_ech', view=t)"
   ]
  },
  {
   "cell_type": "code",
   "execution_count": 14,
   "id": "a0534154",
   "metadata": {
    "scrolled": true
   },
   "outputs": [],
   "source": [
    "mdf, conflict_df=data_merger(df1, df2, how=how[1], on='ID_ech', crit_2nd_col='Date_prv', dist_max=1)"
   ]
  },
  {
   "cell_type": "markdown",
   "id": "ecfbbc0e",
   "metadata": {},
   "source": [
    "#### First object dataset save"
   ]
  },
  {
   "cell_type": "code",
   "execution_count": 15,
   "id": "3ec957a5",
   "metadata": {},
   "outputs": [],
   "source": [
    "dataset_1 = mdf.copy() #saving"
   ]
  },
  {
   "cell_type": "code",
   "execution_count": 16,
   "id": "216471e9",
   "metadata": {
    "scrolled": true
   },
   "outputs": [
    {
     "name": "stdout",
     "output_type": "stream",
     "text": [
      "Rows : 54, columns : 81, Unique values on col 'ID_ech': 54\n"
     ]
    },
    {
     "data": {
      "application/vnd.jupyter.widget-view+json": {
       "model_id": "2f82fbe249cc46b6ab07d51b9699fe98",
       "version_major": 2,
       "version_minor": 0
      },
      "text/plain": [
       "interactive(children=(IntSlider(value=3, description='rows', max=54, min=3, readout=False), IntSlider(value=12…"
      ]
     },
     "metadata": {},
     "output_type": "display_data"
    }
   ],
   "source": [
    "dataframe_viewer(dataset_1, rows=3, un_val='ID_ech', view=t)"
   ]
  },
  {
   "cell_type": "markdown",
   "id": "af53755c",
   "metadata": {},
   "source": [
    "## with coordinates"
   ]
  },
  {
   "cell_type": "markdown",
   "id": "b88ebee7",
   "metadata": {},
   "source": [
    "#### $\\color{green}{\\textbf{Read and merge}}$"
   ]
  },
  {
   "cell_type": "code",
   "execution_count": 17,
   "id": "817ec328",
   "metadata": {
    "scrolled": true
   },
   "outputs": [
    {
     "name": "stdout",
     "output_type": "stream",
     "text": [
      "Phase_1_Memoris/Final_merge/Water_analysis.csv || Phase_2_Memoris/Final_merge/final_Soil_analysis.csv\n",
      "df1 :  --> Coordinates\n",
      "df2 :  --> No coordinates\n",
      "Rows : 17, columns : 86, Unique values on col 'ID': 14\n"
     ]
    },
    {
     "data": {
      "application/vnd.jupyter.widget-view+json": {
       "model_id": "bc49d59454e14da2bc9fd266e3a1ba48",
       "version_major": 2,
       "version_minor": 0
      },
      "text/plain": [
       "interactive(children=(IntSlider(value=5, description='rows', max=17, min=5, readout=False), IntSlider(value=12…"
      ]
     },
     "metadata": {},
     "output_type": "display_data"
    },
    {
     "name": "stdout",
     "output_type": "stream",
     "text": [
      "Rows : 25, columns : 64, Unique values on col 'ID': 12\n"
     ]
    },
    {
     "data": {
      "application/vnd.jupyter.widget-view+json": {
       "model_id": "18bdbe382ca94382873b7b2c8bffef3f",
       "version_major": 2,
       "version_minor": 0
      },
      "text/plain": [
       "interactive(children=(IntSlider(value=5, description='rows', max=25, min=5, readout=False), IntSlider(value=12…"
      ]
     },
     "metadata": {},
     "output_type": "display_data"
    },
    {
     "data": {
      "text/plain": [
       "(None, None)"
      ]
     },
     "execution_count": 17,
     "metadata": {},
     "output_type": "execute_result"
    }
   ],
   "source": [
    "a, b = 1, 5\n",
    "file1= files_dict[key][a]\n",
    "file2= files_dict[key][b]\n",
    "print(files_dict[key][a].replace(work_dir,\"\"),'||', files_dict[key][b].replace(work_dir,\"\"))\n",
    "\n",
    "df1, df2 = create_df([file1, file2])\n",
    "dataframe_viewer(df1, rows=5, un_val='ID', view=t), dataframe_viewer(df2, rows=5, un_val='ID', view=t)"
   ]
  },
  {
   "cell_type": "code",
   "execution_count": 18,
   "id": "a70458c7",
   "metadata": {
    "scrolled": false
   },
   "outputs": [
    {
     "name": "stdout",
     "output_type": "stream",
     "text": [
      "df1 :  --> No coordinates\n",
      "df2 :  --> No coordinates\n",
      "Rows : 29, columns : 74, Unique values on col 'ID_ech': 29\n"
     ]
    },
    {
     "data": {
      "application/vnd.jupyter.widget-view+json": {
       "model_id": "0dd1541d739d4359b60ac78b67546bac",
       "version_major": 2,
       "version_minor": 0
      },
      "text/plain": [
       "interactive(children=(IntSlider(value=3, description='rows', max=29, min=3, readout=False), IntSlider(value=12…"
      ]
     },
     "metadata": {},
     "output_type": "display_data"
    },
    {
     "name": "stdout",
     "output_type": "stream",
     "text": [
      "Rows : 25, columns : 64, Unique values on col 'ID_ech': 25\n"
     ]
    },
    {
     "data": {
      "application/vnd.jupyter.widget-view+json": {
       "model_id": "30d687fafdab4b84bf2b4c462d298dae",
       "version_major": 2,
       "version_minor": 0
      },
      "text/plain": [
       "interactive(children=(IntSlider(value=3, description='rows', max=25, min=3, readout=False), IntSlider(value=12…"
      ]
     },
     "metadata": {},
     "output_type": "display_data"
    },
    {
     "data": {
      "text/plain": [
       "(None, None)"
      ]
     },
     "execution_count": 18,
     "metadata": {},
     "output_type": "execute_result"
    }
   ],
   "source": [
    "file1= work_dir + 'Phase_1_Memoris/Final_merge/Soil_analysis.csv' # 0\n",
    "file2= work_dir + 'Phase_2_Memoris/Final_merge/Soil_analysis.csv' # 2\n",
    "\n",
    "df1, df2 = create_df([file1, file2])\n",
    "dataframe_viewer(df1, rows=3, un_val='ID_ech', view=t), dataframe_viewer(df2, rows=3, un_val='ID_ech', view=t)"
   ]
  },
  {
   "cell_type": "raw",
   "id": "0b71ad65",
   "metadata": {},
   "source": [
    "fix_duplicates(df1, df2, id_col='ID_ech', drop_old_id=True)"
   ]
  },
  {
   "cell_type": "code",
   "execution_count": 20,
   "id": "5491344d",
   "metadata": {
    "scrolled": true
   },
   "outputs": [],
   "source": [
    "mdf, conflict_df=data_merger(df1, df2, how=how[1], on='ID_ech', crit_2nd_col='Date_prv', dist_max=1)"
   ]
  },
  {
   "cell_type": "markdown",
   "id": "7ef175b7",
   "metadata": {},
   "source": [
    "#### First object dataset save"
   ]
  },
  {
   "cell_type": "code",
   "execution_count": 21,
   "id": "81a68901",
   "metadata": {},
   "outputs": [],
   "source": [
    "dataset = mdf.copy() #saving"
   ]
  },
  {
   "cell_type": "code",
   "execution_count": 22,
   "id": "c5122a7f",
   "metadata": {
    "scrolled": true
   },
   "outputs": [
    {
     "name": "stdout",
     "output_type": "stream",
     "text": [
      "Rows : 54, columns : 82, Unique values on col 'ID_ech': 54\n"
     ]
    },
    {
     "data": {
      "application/vnd.jupyter.widget-view+json": {
       "model_id": "644c3ccf761442ce9f32ac952e9f779e",
       "version_major": 2,
       "version_minor": 0
      },
      "text/plain": [
       "interactive(children=(IntSlider(value=3, description='rows', max=54, min=3, readout=False), IntSlider(value=12…"
      ]
     },
     "metadata": {},
     "output_type": "display_data"
    }
   ],
   "source": [
    "dataframe_viewer(dataset, rows=3, un_val='ID_ech', view=t)"
   ]
  },
  {
   "cell_type": "markdown",
   "id": "04866619",
   "metadata": {},
   "source": [
    "#### $\\color{green}{\\textbf{Read and merge}}$"
   ]
  },
  {
   "cell_type": "code",
   "execution_count": 23,
   "id": "59db7ba0",
   "metadata": {
    "scrolled": true
   },
   "outputs": [
    {
     "name": "stdout",
     "output_type": "stream",
     "text": [
      "df1 :  --> Coordinates\n",
      "df2 :  --> Coordinates\n",
      "Rows : 45, columns : 11, Unique values on col 'ID_ech': 41\n"
     ]
    },
    {
     "data": {
      "application/vnd.jupyter.widget-view+json": {
       "model_id": "f77298ad409a460c94831320ea24cef0",
       "version_major": 2,
       "version_minor": 0
      },
      "text/plain": [
       "interactive(children=(IntSlider(value=3, description='rows', max=45, min=3, readout=False), IntSlider(value=11…"
      ]
     },
     "metadata": {},
     "output_type": "display_data"
    },
    {
     "name": "stdout",
     "output_type": "stream",
     "text": [
      "Rows : 59, columns : 13, Unique values on col 'ID_ech': 59\n"
     ]
    },
    {
     "data": {
      "application/vnd.jupyter.widget-view+json": {
       "model_id": "961688a02f674aebb27da11f1da24e3a",
       "version_major": 2,
       "version_minor": 0
      },
      "text/plain": [
       "interactive(children=(IntSlider(value=3, description='rows', max=59, min=3, readout=False), IntSlider(value=12…"
      ]
     },
     "metadata": {},
     "output_type": "display_data"
    },
    {
     "data": {
      "text/plain": [
       "(None, None)"
      ]
     },
     "execution_count": 23,
     "metadata": {},
     "output_type": "execute_result"
    }
   ],
   "source": [
    "file1= work_dir + 'vUmons_logsFor/Analyse_eau_Phases1&2_Samples-water.csv' # 25\n",
    "file2= work_dir + 'vUmons_logsFor/Analyse_sol_Phases1&2_Samples-soil.csv' # 26\n",
    "\n",
    "\n",
    "df1, df2 = create_df([file1, file2])\n",
    "dataframe_viewer(df1, rows=3, un_val='ID_ech', view=t), dataframe_viewer(df2, rows=3, un_val='ID_ech', view=t)"
   ]
  },
  {
   "cell_type": "code",
   "execution_count": 24,
   "id": "58bc4c15",
   "metadata": {},
   "outputs": [
    {
     "name": "stdout",
     "output_type": "stream",
     "text": [
      "0 duplicate objects fixed!\n"
     ]
    }
   ],
   "source": [
    "fix_duplicates(df1, df2, id_col='ID_ech', crit_2nd_col='Type_ech', drop_old_id=True)"
   ]
  },
  {
   "cell_type": "raw",
   "id": "94e0f455",
   "metadata": {},
   "source": [
    "dataframe_viewer(df1, rows=3, un_val='ID_ech', view=t), dataframe_viewer(df2, rows=3, un_val='ID_ech', view=t)"
   ]
  },
  {
   "cell_type": "code",
   "execution_count": 25,
   "id": "35b823b7",
   "metadata": {
    "scrolled": true
   },
   "outputs": [],
   "source": [
    "mdf, conflict_df=data_merger(df1, df2, how=how[1], on='ID_ech', crit_2nd_col='Date_prv', dist_max=1)"
   ]
  },
  {
   "cell_type": "markdown",
   "id": "43a1eb38",
   "metadata": {},
   "source": [
    "#### Merge with object dataset"
   ]
  },
  {
   "cell_type": "code",
   "execution_count": 26,
   "id": "3e493ccc",
   "metadata": {
    "scrolled": true
   },
   "outputs": [
    {
     "name": "stdout",
     "output_type": "stream",
     "text": [
      "Conflict values present. Please resolve this manually !\n"
     ]
    }
   ],
   "source": [
    "dataset, conflict_df=data_merger(dataset, mdf, how=how[1], on='ID_ech', crit_2nd_col='Date_prv', dist_max=1)"
   ]
  },
  {
   "cell_type": "code",
   "execution_count": 27,
   "id": "235e0574",
   "metadata": {},
   "outputs": [],
   "source": [
    "if 'level_0' in dataset.columns:\n",
    "    if 'index' in dataset.columns:\n",
    "        dataset.drop(columns='index', inplace=True)\n",
    "    dataset.rename(columns={'level_0':'index'}, inplace=True)"
   ]
  },
  {
   "cell_type": "code",
   "execution_count": 28,
   "id": "499b4cd7",
   "metadata": {
    "scrolled": true
   },
   "outputs": [
    {
     "name": "stdout",
     "output_type": "stream",
     "text": [
      "Rows : 153, columns : 91, Unique values on col 'ID_ech': 110\n"
     ]
    },
    {
     "data": {
      "application/vnd.jupyter.widget-view+json": {
       "model_id": "99706e9b6c62458eabad812d887112b3",
       "version_major": 2,
       "version_minor": 0
      },
      "text/plain": [
       "interactive(children=(IntSlider(value=10, description='rows', max=153, min=10, readout=False), IntSlider(value…"
      ]
     },
     "metadata": {},
     "output_type": "display_data"
    }
   ],
   "source": [
    "dataframe_viewer(dataset, rows=10, un_val='ID_ech', view=t)"
   ]
  },
  {
   "cell_type": "markdown",
   "id": "bd25d979",
   "metadata": {},
   "source": [
    "#### $\\color{green}{\\textbf{Read and merge}}$"
   ]
  },
  {
   "cell_type": "code",
   "execution_count": 29,
   "id": "a6e74c13",
   "metadata": {},
   "outputs": [
    {
     "name": "stdout",
     "output_type": "stream",
     "text": [
      "Rows : 11, columns : 10, Unique values on col 'ID_ech': 11\n"
     ]
    },
    {
     "data": {
      "application/vnd.jupyter.widget-view+json": {
       "model_id": "dbc2362b4e8d4eab98d6971d1f548735",
       "version_major": 2,
       "version_minor": 0
      },
      "text/plain": [
       "interactive(children=(IntSlider(value=3, description='rows', max=11, min=3, readout=False), IntSlider(value=10…"
      ]
     },
     "metadata": {},
     "output_type": "display_data"
    }
   ],
   "source": [
    "file1= work_dir + 'Phase_2_Memoris/Result_eau_Samples-water.csv' # 8\n",
    "\n",
    "df1 = pd.read_csv(file1)\n",
    "dataframe_viewer(df1, rows=3, un_val='ID_ech', view=t)"
   ]
  },
  {
   "cell_type": "markdown",
   "id": "7d30dab3",
   "metadata": {},
   "source": [
    "#### Merge with object dataset"
   ]
  },
  {
   "cell_type": "code",
   "execution_count": 30,
   "id": "24b82c23",
   "metadata": {
    "scrolled": true
   },
   "outputs": [],
   "source": [
    "dataset, conflict_df=data_merger(dataset, df1, how=how[1], on='ID_ech', crit_2nd_col='Date_prv', dist_max=1)"
   ]
  },
  {
   "cell_type": "code",
   "execution_count": 31,
   "id": "0ca96205",
   "metadata": {},
   "outputs": [],
   "source": [
    "if 'level_0' in dataset.columns:\n",
    "    if 'index' in dataset.columns:\n",
    "        dataset.drop(columns='index', inplace=True)\n",
    "    dataset.rename(columns={'level_0':'index'}, inplace=True)"
   ]
  },
  {
   "cell_type": "code",
   "execution_count": 32,
   "id": "61982453",
   "metadata": {},
   "outputs": [],
   "source": [
    "for c in dataset.columns:\n",
    "    if c in ['index', 'Origin_ID']:\n",
    "        dataset.drop(columns=c, inplace=True)"
   ]
  },
  {
   "cell_type": "code",
   "execution_count": 33,
   "id": "957a0398",
   "metadata": {},
   "outputs": [
    {
     "name": "stdout",
     "output_type": "stream",
     "text": [
      "some data must be checked !\n",
      "Rows : 156 ; Columns : 91 ; Unique on 'ID_ech' : 108 ; \n"
     ]
    }
   ],
   "source": [
    "dataset, check1 = data_filter(dataset, position=True, id_col='ID_ech', expression='sup|prof', \n",
    "                              dist_max=1, drop=True, drop_old_id=True)"
   ]
  },
  {
   "cell_type": "code",
   "execution_count": 34,
   "id": "b53caa9d",
   "metadata": {
    "scrolled": true
   },
   "outputs": [
    {
     "name": "stdout",
     "output_type": "stream",
     "text": [
      "Rows : 156, columns : 91, Unique values on col 'ID_ech': 108\n"
     ]
    },
    {
     "data": {
      "application/vnd.jupyter.widget-view+json": {
       "model_id": "bd12ef19e1624aca94ed2470df377392",
       "version_major": 2,
       "version_minor": 0
      },
      "text/plain": [
       "interactive(children=(IntSlider(value=10, description='rows', max=156, min=10, readout=False), IntSlider(value…"
      ]
     },
     "metadata": {},
     "output_type": "display_data"
    }
   ],
   "source": [
    "dataframe_viewer(dataset, rows=10, un_val='ID_ech', view=t)"
   ]
  },
  {
   "cell_type": "code",
   "execution_count": 35,
   "id": "4dfebc72",
   "metadata": {},
   "outputs": [],
   "source": [
    "if 'level_0' in dataset.columns:\n",
    "    if 'index' in dataset.columns:\n",
    "        dataset.drop(columns='index', inplace=True)\n",
    "    dataset.rename(columns={'level_0':'index'}, inplace=True)"
   ]
  },
  {
   "cell_type": "code",
   "execution_count": 36,
   "id": "71b9bb30",
   "metadata": {},
   "outputs": [],
   "source": [
    "dataset_1 = dataset.copy()"
   ]
  },
  {
   "cell_type": "markdown",
   "id": "3272cacc",
   "metadata": {},
   "source": [
    "#### $\\color{green}{\\textbf{Read and merge}}$"
   ]
  },
  {
   "cell_type": "code",
   "execution_count": 37,
   "id": "54b8663a",
   "metadata": {},
   "outputs": [
    {
     "name": "stdout",
     "output_type": "stream",
     "text": [
      "df1 :  --> No coordinates\n",
      "df2 :  --> No coordinates\n",
      "Rows : 5, columns : 21, Unique values on col 'ID_ech': 5\n"
     ]
    },
    {
     "data": {
      "application/vnd.jupyter.widget-view+json": {
       "model_id": "9065f319bc9a4b8588ef45abe8c14c1c",
       "version_major": 2,
       "version_minor": 0
      },
      "text/plain": [
       "interactive(children=(IntSlider(value=3, description='rows', max=5, min=3, readout=False), IntSlider(value=12,…"
      ]
     },
     "metadata": {},
     "output_type": "display_data"
    },
    {
     "name": "stdout",
     "output_type": "stream",
     "text": [
      "Rows : 5, columns : 8, Unique values on col 'ID_ech': 5\n"
     ]
    },
    {
     "data": {
      "application/vnd.jupyter.widget-view+json": {
       "model_id": "dcfa2597b13b449495d51c387ece60ed",
       "version_major": 2,
       "version_minor": 0
      },
      "text/plain": [
       "interactive(children=(IntSlider(value=3, description='rows', max=5, min=3, readout=False), IntSlider(value=8, …"
      ]
     },
     "metadata": {},
     "output_type": "display_data"
    },
    {
     "data": {
      "text/plain": [
       "(None, None)"
      ]
     },
     "execution_count": 37,
     "metadata": {},
     "output_type": "execute_result"
    }
   ],
   "source": [
    "file1= work_dir + 'Container_phyto/Param_agro_Samples-soil.csv' # 0\n",
    "file2= work_dir + 'Container_phyto/Result_SOL_Samples-soil.csv' # 2\n",
    "\n",
    "df1, df2 = create_df([file1, file2])\n",
    "dataframe_viewer(df1, rows=3, un_val='ID_ech', view=t), dataframe_viewer(df2, rows=3, un_val='ID_ech', view=t)"
   ]
  },
  {
   "cell_type": "code",
   "execution_count": 38,
   "id": "e71aac52",
   "metadata": {},
   "outputs": [],
   "source": [
    "df1.ID_ech = df1.ID_ech.astype(str)\n",
    "df2.ID_ech = df2.ID_ech.astype(str)"
   ]
  },
  {
   "cell_type": "code",
   "execution_count": 39,
   "id": "4844bb5f",
   "metadata": {
    "scrolled": true
   },
   "outputs": [
    {
     "name": "stdout",
     "output_type": "stream",
     "text": [
      "Conflict values present. Please resolve this manually !\n"
     ]
    }
   ],
   "source": [
    "mdf, conflict_df=data_merger(df1, df2, how=how[1], on=['ID_ech', 'Date_prv'], crit_2nd_col='Date_prv', dist_max=1, \n",
    "                             error_tol_dict={1:['MS', 'Fract_2', 'Fract_2+']})"
   ]
  },
  {
   "cell_type": "markdown",
   "id": "4ad3d361",
   "metadata": {},
   "source": [
    "#### $\\color{blue}{\\textbf{Manage conflicts}}$"
   ]
  },
  {
   "cell_type": "code",
   "execution_count": 40,
   "id": "15945f50",
   "metadata": {},
   "outputs": [
    {
     "data": {
      "text/html": [
       "<div>\n",
       "<style scoped>\n",
       "    .dataframe tbody tr th:only-of-type {\n",
       "        vertical-align: middle;\n",
       "    }\n",
       "\n",
       "    .dataframe tbody tr th {\n",
       "        vertical-align: top;\n",
       "    }\n",
       "\n",
       "    .dataframe thead th {\n",
       "        text-align: right;\n",
       "    }\n",
       "</style>\n",
       "<table border=\"1\" class=\"dataframe\">\n",
       "  <thead>\n",
       "    <tr style=\"text-align: right;\">\n",
       "      <th></th>\n",
       "      <th>Check_col</th>\n",
       "      <th>ID_ech</th>\n",
       "      <th>Date_prv</th>\n",
       "      <th>Fract_2+_x</th>\n",
       "      <th>Fract_2+_y</th>\n",
       "      <th>Fract_2_x</th>\n",
       "      <th>Fract_2_y</th>\n",
       "    </tr>\n",
       "  </thead>\n",
       "  <tbody>\n",
       "    <tr>\n",
       "      <th>0</th>\n",
       "      <td>Fract_2+, Fract_2</td>\n",
       "      <td>Ech. 1</td>\n",
       "      <td>2017-12-14 00:00:00</td>\n",
       "      <td>21</td>\n",
       "      <td>67</td>\n",
       "      <td>79</td>\n",
       "      <td>33</td>\n",
       "    </tr>\n",
       "    <tr>\n",
       "      <th>2</th>\n",
       "      <td>Fract_2+, Fract_2</td>\n",
       "      <td>Ech. 3</td>\n",
       "      <td>2017-12-14 00:00:00</td>\n",
       "      <td>31</td>\n",
       "      <td>60</td>\n",
       "      <td>69</td>\n",
       "      <td>40</td>\n",
       "    </tr>\n",
       "    <tr>\n",
       "      <th>3</th>\n",
       "      <td>Fract_2+, Fract_2</td>\n",
       "      <td>Ech. 4</td>\n",
       "      <td>2017-12-14 00:00:00</td>\n",
       "      <td>30</td>\n",
       "      <td>55</td>\n",
       "      <td>70</td>\n",
       "      <td>45</td>\n",
       "    </tr>\n",
       "    <tr>\n",
       "      <th>4</th>\n",
       "      <td>Fract_2+, Fract_2</td>\n",
       "      <td>Ech. 5</td>\n",
       "      <td>2017-12-14 00:00:00</td>\n",
       "      <td>29</td>\n",
       "      <td>71</td>\n",
       "      <td>71</td>\n",
       "      <td>29</td>\n",
       "    </tr>\n",
       "  </tbody>\n",
       "</table>\n",
       "</div>"
      ],
      "text/plain": [
       "           Check_col  ID_ech             Date_prv  Fract_2+_x  Fract_2+_y  \\\n",
       "0  Fract_2+, Fract_2  Ech. 1  2017-12-14 00:00:00          21          67   \n",
       "2  Fract_2+, Fract_2  Ech. 3  2017-12-14 00:00:00          31          60   \n",
       "3  Fract_2+, Fract_2  Ech. 4  2017-12-14 00:00:00          30          55   \n",
       "4  Fract_2+, Fract_2  Ech. 5  2017-12-14 00:00:00          29          71   \n",
       "\n",
       "   Fract_2_x  Fract_2_y  \n",
       "0         79         33  \n",
       "2         69         40  \n",
       "3         70         45  \n",
       "4         71         29  "
      ]
     },
     "execution_count": 40,
     "metadata": {},
     "output_type": "execute_result"
    }
   ],
   "source": [
    "conflict_df"
   ]
  },
  {
   "cell_type": "raw",
   "id": "dc8b84ee",
   "metadata": {},
   "source": [
    "mdf = data_validation(overall_data=mdf, conflict_data=conflict_df, index_col='index', valid_all=True)"
   ]
  },
  {
   "cell_type": "code",
   "execution_count": 41,
   "id": "1799af73",
   "metadata": {
    "scrolled": true
   },
   "outputs": [
    {
     "name": "stdout",
     "output_type": "stream",
     "text": [
      "all conflicts have been fixed!\n"
     ]
    }
   ],
   "source": [
    "data_validation(overall_data=mdf, conflict_data=conflict_df, index_col='index', \n",
    "                      valid_dict={'Fract_2+_y':list(conflict_df.index), 'Fract_2_x':list(conflict_df.index)})"
   ]
  },
  {
   "cell_type": "code",
   "execution_count": 42,
   "id": "a17907a8",
   "metadata": {
    "scrolled": true
   },
   "outputs": [
    {
     "name": "stdout",
     "output_type": "stream",
     "text": [
      "Rows : 5, columns : 21, Unique values on col 'ID_ech': 5\n"
     ]
    },
    {
     "data": {
      "application/vnd.jupyter.widget-view+json": {
       "model_id": "ef3e40d5fdcb4c9bb73e1f74e98381e5",
       "version_major": 2,
       "version_minor": 0
      },
      "text/plain": [
       "interactive(children=(IntSlider(value=5, description='rows', max=5, min=5, readout=False), IntSlider(value=12,…"
      ]
     },
     "metadata": {},
     "output_type": "display_data"
    }
   ],
   "source": [
    "dataframe_viewer(mdf, rows=10, un_val='ID_ech', view=t)"
   ]
  },
  {
   "cell_type": "markdown",
   "id": "aeeebc5d",
   "metadata": {},
   "source": [
    "#### Merge with object dataset"
   ]
  },
  {
   "cell_type": "code",
   "execution_count": 43,
   "id": "0154c567",
   "metadata": {},
   "outputs": [],
   "source": [
    "dataset = mdf.copy()"
   ]
  },
  {
   "cell_type": "code",
   "execution_count": 44,
   "id": "2ff9f6ef",
   "metadata": {},
   "outputs": [],
   "source": [
    "if 'level_0' in dataset.columns:\n",
    "    if 'index' in dataset.columns:\n",
    "        dataset.drop(columns='index', inplace=True)\n",
    "    dataset.rename(columns={'level_0':'index'}, inplace=True)"
   ]
  },
  {
   "cell_type": "code",
   "execution_count": 45,
   "id": "36f87928",
   "metadata": {
    "scrolled": false
   },
   "outputs": [
    {
     "name": "stdout",
     "output_type": "stream",
     "text": [
      "Rows : 5, columns : 21, Unique values on col 'ID_ech': 5\n"
     ]
    },
    {
     "data": {
      "application/vnd.jupyter.widget-view+json": {
       "model_id": "6e41a570dfb1494a8df6a5785b52e474",
       "version_major": 2,
       "version_minor": 0
      },
      "text/plain": [
       "interactive(children=(IntSlider(value=5, description='rows', max=5, min=5, readout=False), IntSlider(value=12,…"
      ]
     },
     "metadata": {},
     "output_type": "display_data"
    }
   ],
   "source": [
    "dataframe_viewer(dataset, rows=10, un_val='ID_ech', view=t)"
   ]
  },
  {
   "cell_type": "markdown",
   "id": "f70a646b",
   "metadata": {},
   "source": [
    "#### $\\color{green}{\\textbf{Read and merge}}$"
   ]
  },
  {
   "cell_type": "code",
   "execution_count": 46,
   "id": "10b22c85",
   "metadata": {},
   "outputs": [
    {
     "name": "stdout",
     "output_type": "stream",
     "text": [
      "df1 :  --> No coordinates\n",
      "df2 :  --> No coordinates\n",
      "Rows : 60, columns : 12, Unique values on col 'ID_ech': 60\n"
     ]
    },
    {
     "data": {
      "application/vnd.jupyter.widget-view+json": {
       "model_id": "d0b5b63d1f9549479473124f41fe7e6f",
       "version_major": 2,
       "version_minor": 0
      },
      "text/plain": [
       "interactive(children=(IntSlider(value=3, description='rows', max=60, min=3, readout=False), IntSlider(value=12…"
      ]
     },
     "metadata": {},
     "output_type": "display_data"
    },
    {
     "name": "stdout",
     "output_type": "stream",
     "text": [
      "Rows : 29, columns : 11, Unique values on col 'ID_ech': 29\n"
     ]
    },
    {
     "data": {
      "application/vnd.jupyter.widget-view+json": {
       "model_id": "d106ca807c064359b740d7976e3cade8",
       "version_major": 2,
       "version_minor": 0
      },
      "text/plain": [
       "interactive(children=(IntSlider(value=3, description='rows', max=29, min=3, readout=False), IntSlider(value=11…"
      ]
     },
     "metadata": {},
     "output_type": "display_data"
    },
    {
     "data": {
      "text/plain": [
       "(None, None)"
      ]
     },
     "execution_count": 46,
     "metadata": {},
     "output_type": "execute_result"
    }
   ],
   "source": [
    "file1= work_dir + 'Memoris_seafile/Result_SOL_Samples-soil.csv' # 3\n",
    "file2= work_dir + 'Phase_1_Memoris/Result_sol_Samples-soil.csv' # 6\n",
    "\n",
    "df1, df2 = create_df([file1, file2])\n",
    "dataframe_viewer(df1, rows=3, un_val='ID_ech', view=t), dataframe_viewer(df2, rows=3, un_val='ID_ech', view=t)"
   ]
  },
  {
   "cell_type": "code",
   "execution_count": 47,
   "id": "1628ee14",
   "metadata": {
    "scrolled": true
   },
   "outputs": [
    {
     "name": "stdout",
     "output_type": "stream",
     "text": [
      "Conflict values present. Please resolve this manually !\n"
     ]
    }
   ],
   "source": [
    "mdf, conflict_df=data_merger(df1, df2, how=how[1], on=['ID_ech'], crit_2nd_col='Date_prv', dist_max=1)"
   ]
  },
  {
   "cell_type": "code",
   "execution_count": 48,
   "id": "71ab2624",
   "metadata": {},
   "outputs": [
    {
     "name": "stdout",
     "output_type": "stream",
     "text": [
      "Rows : 28, columns : 6, Unique values on col 'ID_ech': 28\n"
     ]
    },
    {
     "data": {
      "application/vnd.jupyter.widget-view+json": {
       "model_id": "63e277617aec446abbf5b0e4fca4f1ea",
       "version_major": 2,
       "version_minor": 0
      },
      "text/plain": [
       "interactive(children=(IntSlider(value=3, description='rows', max=28, min=3, readout=False), IntSlider(value=6,…"
      ]
     },
     "metadata": {},
     "output_type": "display_data"
    }
   ],
   "source": [
    "dataframe_viewer(conflict_df, rows=3, un_val='ID_ech', view=t)"
   ]
  },
  {
   "cell_type": "markdown",
   "id": "72430e00",
   "metadata": {},
   "source": [
    "#### $\\color{blue}{\\textbf{Manage conflicts}}$"
   ]
  },
  {
   "cell_type": "code",
   "execution_count": 49,
   "id": "776c3d2a",
   "metadata": {},
   "outputs": [
    {
     "name": "stdout",
     "output_type": "stream",
     "text": [
      "all conflicts have been fixed!\n"
     ]
    }
   ],
   "source": [
    "data_validation(overall_data=mdf, conflict_data=conflict_df, index_col='index', \n",
    "                valid_dict={'Fract_2_y':list(conflict_df.index), 'Fract_2+_y':list(conflict_df.index)})"
   ]
  },
  {
   "cell_type": "markdown",
   "id": "674c0042",
   "metadata": {},
   "source": [
    "#### Merge with object dataset"
   ]
  },
  {
   "cell_type": "code",
   "execution_count": 50,
   "id": "2f3e39c5",
   "metadata": {
    "scrolled": true
   },
   "outputs": [],
   "source": [
    "dataset, conflict_df=data_merger(dataset, mdf, how=how[1], on='ID_ech', crit_2nd_col='Date_prv', dist_max=1)"
   ]
  },
  {
   "cell_type": "code",
   "execution_count": 51,
   "id": "6a4ea668",
   "metadata": {},
   "outputs": [],
   "source": [
    "if 'level_0' in dataset.columns:\n",
    "    if 'index' in dataset.columns:\n",
    "        dataset.drop(columns='index', inplace=True)\n",
    "    dataset.rename(columns={'level_0':'index'}, inplace=True)"
   ]
  },
  {
   "cell_type": "code",
   "execution_count": 52,
   "id": "68909c62",
   "metadata": {},
   "outputs": [
    {
     "name": "stdout",
     "output_type": "stream",
     "text": [
      "Rows : 65 ; Columns : 25 ; Unique on 'ID_ech' : 65 ; \n"
     ]
    }
   ],
   "source": [
    "dataset, check1 = data_filter(dataset, position=True, id_col='ID_ech', expression='sup|prof', \n",
    "                              dist_max=1, drop=True, drop_old_id=True)"
   ]
  },
  {
   "cell_type": "code",
   "execution_count": 53,
   "id": "c594f47b",
   "metadata": {
    "scrolled": true
   },
   "outputs": [
    {
     "name": "stdout",
     "output_type": "stream",
     "text": [
      "Rows : 65, columns : 25, Unique values on col 'ID_ech': 65\n"
     ]
    },
    {
     "data": {
      "application/vnd.jupyter.widget-view+json": {
       "model_id": "7465abd10aeb4e03ab8f11e5042ad4dd",
       "version_major": 2,
       "version_minor": 0
      },
      "text/plain": [
       "interactive(children=(IntSlider(value=10, description='rows', max=65, min=10, readout=False), IntSlider(value=…"
      ]
     },
     "metadata": {},
     "output_type": "display_data"
    }
   ],
   "source": [
    "dataframe_viewer(dataset, rows=10, un_val='ID_ech', view=t)"
   ]
  },
  {
   "cell_type": "markdown",
   "id": "cc964561",
   "metadata": {},
   "source": [
    "#### $\\color{green}{\\textbf{Read and merge}}$"
   ]
  },
  {
   "cell_type": "code",
   "execution_count": 54,
   "id": "7cbfcc11",
   "metadata": {},
   "outputs": [
    {
     "name": "stdout",
     "output_type": "stream",
     "text": [
      "df1 :  --> No coordinates\n",
      "df2 :  --> No coordinates\n",
      "Rows : 25, columns : 12, Unique values on col 'ID_ech': 25\n"
     ]
    },
    {
     "data": {
      "application/vnd.jupyter.widget-view+json": {
       "model_id": "b473a3ea9abe417996876a171322522a",
       "version_major": 2,
       "version_minor": 0
      },
      "text/plain": [
       "interactive(children=(IntSlider(value=3, description='rows', max=25, min=3, readout=False), IntSlider(value=12…"
      ]
     },
     "metadata": {},
     "output_type": "display_data"
    },
    {
     "name": "stdout",
     "output_type": "stream",
     "text": [
      "Rows : 33, columns : 13, Unique values on col 'ID_ech': 6\n"
     ]
    },
    {
     "data": {
      "application/vnd.jupyter.widget-view+json": {
       "model_id": "10e7da77430146799745549d860a7acc",
       "version_major": 2,
       "version_minor": 0
      },
      "text/plain": [
       "interactive(children=(IntSlider(value=3, description='rows', max=33, min=3, readout=False), IntSlider(value=12…"
      ]
     },
     "metadata": {},
     "output_type": "display_data"
    },
    {
     "data": {
      "text/plain": [
       "(None, None)"
      ]
     },
     "execution_count": 54,
     "metadata": {},
     "output_type": "execute_result"
    }
   ],
   "source": [
    "file1= work_dir + 'Phase_2_Memoris/Result_SOL_Samples-soil.csv' # 7\n",
    "file2= work_dir + 'Siterem_Ext_Pilote/Param_physico_Samples-water.csv' # 10\n",
    "\n",
    "df1, df2 = create_df([file1, file2])\n",
    "dataframe_viewer(df1, rows=3, un_val='ID_ech', view=t), dataframe_viewer(df2, rows=3, un_val='ID_ech', view=t)"
   ]
  },
  {
   "cell_type": "code",
   "execution_count": 55,
   "id": "6373bda5",
   "metadata": {},
   "outputs": [],
   "source": [
    "df1.ID_ech = df1.ID_ech.astype(str)\n",
    "df2.ID_ech = df2.ID_ech.astype(str)"
   ]
  },
  {
   "cell_type": "code",
   "execution_count": 56,
   "id": "3e543c70",
   "metadata": {
    "scrolled": true
   },
   "outputs": [],
   "source": [
    "mdf, conflict_df=data_merger(df1, df2, how=how[1], on='ID_ech', crit_2nd_col='Date_prv', dist_max=1)"
   ]
  },
  {
   "cell_type": "markdown",
   "id": "07ca23c8",
   "metadata": {},
   "source": [
    "#### Merge with object dataset"
   ]
  },
  {
   "cell_type": "code",
   "execution_count": 57,
   "id": "8c3abbcd",
   "metadata": {
    "scrolled": true
   },
   "outputs": [
    {
     "name": "stdout",
     "output_type": "stream",
     "text": [
      "Conflict values present. Please resolve this manually !\n"
     ]
    }
   ],
   "source": [
    "dataset, conflict_df=data_merger(dataset, mdf, how=how[1], on='ID_ech', crit_2nd_col='Date_prv', dist_max=1)"
   ]
  },
  {
   "cell_type": "code",
   "execution_count": 58,
   "id": "2dab0db7",
   "metadata": {},
   "outputs": [
    {
     "name": "stdout",
     "output_type": "stream",
     "text": [
      "Rows : 25, columns : 6, Unique values on col 'ID_ech': 25\n"
     ]
    },
    {
     "data": {
      "application/vnd.jupyter.widget-view+json": {
       "model_id": "8d7b48852cba4307b9cf75fbd8664644",
       "version_major": 2,
       "version_minor": 0
      },
      "text/plain": [
       "interactive(children=(IntSlider(value=3, description='rows', max=25, min=3, readout=False), IntSlider(value=6,…"
      ]
     },
     "metadata": {},
     "output_type": "display_data"
    }
   ],
   "source": [
    "dataframe_viewer(conflict_df, rows=3, un_val='ID_ech', view=t)"
   ]
  },
  {
   "cell_type": "markdown",
   "id": "abe66d14",
   "metadata": {},
   "source": [
    "#### $\\color{blue}{\\textbf{Manage conflicts}}$"
   ]
  },
  {
   "cell_type": "code",
   "execution_count": 59,
   "id": "648e76dd",
   "metadata": {},
   "outputs": [
    {
     "name": "stdout",
     "output_type": "stream",
     "text": [
      "all conflicts have been fixed!\n"
     ]
    }
   ],
   "source": [
    "data_validation(overall_data=dataset, conflict_data=conflict_df, index_col='index', \n",
    "                valid_dict={'Fract_2_y':list(conflict_df.index), 'Fract_2+_y':list(conflict_df.index)})"
   ]
  },
  {
   "cell_type": "code",
   "execution_count": 60,
   "id": "03c14fcb",
   "metadata": {},
   "outputs": [],
   "source": [
    "if 'level_0' in dataset.columns:\n",
    "    if 'index' in dataset.columns:\n",
    "        dataset.drop(columns='index', inplace=True)\n",
    "    dataset.rename(columns={'level_0':'index'}, inplace=True)"
   ]
  },
  {
   "cell_type": "code",
   "execution_count": 61,
   "id": "68138af4",
   "metadata": {
    "scrolled": true
   },
   "outputs": [
    {
     "name": "stdout",
     "output_type": "stream",
     "text": [
      "Rows : 98, columns : 35, Unique values on col 'ID_ech': 71\n"
     ]
    },
    {
     "data": {
      "application/vnd.jupyter.widget-view+json": {
       "model_id": "161df5f2507c42aab0523a5f894b7644",
       "version_major": 2,
       "version_minor": 0
      },
      "text/plain": [
       "interactive(children=(IntSlider(value=10, description='rows', max=98, min=10, readout=False), IntSlider(value=…"
      ]
     },
     "metadata": {},
     "output_type": "display_data"
    }
   ],
   "source": [
    "dataframe_viewer(dataset, rows=10, un_val='ID_ech', view=t)"
   ]
  },
  {
   "cell_type": "markdown",
   "id": "90470d3c",
   "metadata": {},
   "source": [
    "#### $\\color{green}{\\textbf{Read and merge}}$"
   ]
  },
  {
   "cell_type": "code",
   "execution_count": 62,
   "id": "8cb21cb2",
   "metadata": {
    "scrolled": true
   },
   "outputs": [
    {
     "name": "stdout",
     "output_type": "stream",
     "text": [
      "df1 :  --> No coordinates\n",
      "df2 :  --> No coordinates\n",
      "Rows : 31, columns : 8, Unique values on col 'ID_ech': 6\n"
     ]
    },
    {
     "data": {
      "application/vnd.jupyter.widget-view+json": {
       "model_id": "549061d7db844fc09bca4187a15045ee",
       "version_major": 2,
       "version_minor": 0
      },
      "text/plain": [
       "interactive(children=(IntSlider(value=3, description='rows', max=31, min=3, readout=False), IntSlider(value=8,…"
      ]
     },
     "metadata": {},
     "output_type": "display_data"
    },
    {
     "name": "stdout",
     "output_type": "stream",
     "text": [
      "Rows : 51, columns : 6, Unique values on col 'ID_ech': 7\n"
     ]
    },
    {
     "data": {
      "application/vnd.jupyter.widget-view+json": {
       "model_id": "0420f76eabaf4991a61b7379f73ab3c6",
       "version_major": 2,
       "version_minor": 0
      },
      "text/plain": [
       "interactive(children=(IntSlider(value=3, description='rows', max=51, min=3, readout=False), IntSlider(value=6,…"
      ]
     },
     "metadata": {},
     "output_type": "display_data"
    },
    {
     "data": {
      "text/plain": [
       "(None, None)"
      ]
     },
     "execution_count": 62,
     "metadata": {},
     "output_type": "execute_result"
    }
   ],
   "source": [
    "file1= work_dir + 'Siterem_Ext_Pilote/Result_eau_Samples-water.csv' # 11\n",
    "file2= work_dir + 'Siterem_Pilote/Inorganic_major_Samples-water.csv' # 12\n",
    "\n",
    "df1, df2 = create_df([file1, file2])\n",
    "dataframe_viewer(df1, rows=3, un_val='ID_ech', view=t), dataframe_viewer(df2, rows=3, un_val='ID_ech', view=t)"
   ]
  },
  {
   "cell_type": "code",
   "execution_count": 63,
   "id": "500b46fd",
   "metadata": {},
   "outputs": [],
   "source": [
    "df1.ID_ech = df1.ID_ech.astype(str)\n",
    "df2.ID_ech = df2.ID_ech.astype(str)"
   ]
  },
  {
   "cell_type": "code",
   "execution_count": 64,
   "id": "29f200be",
   "metadata": {
    "scrolled": true
   },
   "outputs": [],
   "source": [
    "mdf, conflict_df=data_merger(df1, df2, how=how[1], on='ID_ech', crit_2nd_col='Date_prv', dist_max=1)"
   ]
  },
  {
   "cell_type": "markdown",
   "id": "0f5ccf6f",
   "metadata": {},
   "source": [
    "#### Merge with object dataset"
   ]
  },
  {
   "cell_type": "code",
   "execution_count": 65,
   "id": "047c3e03",
   "metadata": {
    "scrolled": true
   },
   "outputs": [
    {
     "name": "stdout",
     "output_type": "stream",
     "text": [
      "Conflict values present. Please resolve this manually !\n"
     ]
    }
   ],
   "source": [
    "dataset, conflict_df=data_merger(dataset, mdf, how=how[1], on=['ID_ech', 'Periode'], \n",
    "                                 crit_2nd_col='Date_prv', dist_max=1)"
   ]
  },
  {
   "cell_type": "raw",
   "id": "d10c5418",
   "metadata": {
    "scrolled": true
   },
   "source": [
    "t2, conflict_df=data_merger(dataset, mdf, how=how[1], on='ID_ech', crit_2nd_col='Date_prv', dist_max=1)"
   ]
  },
  {
   "cell_type": "raw",
   "id": "584699d5",
   "metadata": {},
   "source": [
    "test.query(\"ID_ech=='207'\")#[['ID_ech', 'Date_prv', 'Periode', 'pH', 'Emplacement']]"
   ]
  },
  {
   "cell_type": "raw",
   "id": "43a9a930",
   "metadata": {},
   "source": [
    "dataframe_viewer(conflict_df, rows=5, un_val='ID_ech', view=t)"
   ]
  },
  {
   "cell_type": "markdown",
   "id": "3b0c1fa4",
   "metadata": {},
   "source": [
    "dataframe_viewer(t1.query(\"ID_ech=='207'\"), rows=5, cols=13, un_val='ID_ech', view=t)\n",
    "\n",
    "len(mdf), len(dataset), len(t2)"
   ]
  },
  {
   "cell_type": "code",
   "execution_count": 66,
   "id": "b2747e93",
   "metadata": {},
   "outputs": [],
   "source": [
    "if 'level_0' in dataset.columns:\n",
    "    if 'index' in dataset.columns:\n",
    "        dataset.drop(columns='index', inplace=True)\n",
    "    dataset.rename(columns={'level_0':'index'}, inplace=True)"
   ]
  },
  {
   "cell_type": "markdown",
   "id": "4fc8cc37",
   "metadata": {},
   "source": [
    "#### $\\color{green}{\\textbf{Read and merge}}$"
   ]
  },
  {
   "cell_type": "code",
   "execution_count": 67,
   "id": "f61192bb",
   "metadata": {
    "scrolled": true
   },
   "outputs": [
    {
     "name": "stdout",
     "output_type": "stream",
     "text": [
      "df1 :  --> No coordinates\n",
      "df2 :  --> No coordinates\n",
      "Rows : 43, columns : 19, Unique values on col 'ID_ech': 43\n"
     ]
    },
    {
     "data": {
      "application/vnd.jupyter.widget-view+json": {
       "model_id": "0d7867dd125e45dd862ce62346043484",
       "version_major": 2,
       "version_minor": 0
      },
      "text/plain": [
       "interactive(children=(IntSlider(value=3, description='rows', max=43, min=3, readout=False), IntSlider(value=12…"
      ]
     },
     "metadata": {},
     "output_type": "display_data"
    },
    {
     "name": "stdout",
     "output_type": "stream",
     "text": [
      "Rows : 15, columns : 11, Unique values on col 'ID_ech': 15\n"
     ]
    },
    {
     "data": {
      "application/vnd.jupyter.widget-view+json": {
       "model_id": "7dfec69f528d4a0fae36613963ebec76",
       "version_major": 2,
       "version_minor": 0
      },
      "text/plain": [
       "interactive(children=(IntSlider(value=3, description='rows', max=15, min=3, readout=False), IntSlider(value=11…"
      ]
     },
     "metadata": {},
     "output_type": "display_data"
    },
    {
     "data": {
      "text/plain": [
       "(None, None)"
      ]
     },
     "execution_count": 67,
     "metadata": {},
     "output_type": "execute_result"
    }
   ],
   "source": [
    "file1= work_dir + 'Siterem_Result_Sol/Result_sol_ExtP_Samples-soil.csv' # 15\n",
    "file2= work_dir + 'Siterem_Result_Sol/SOL_T1_Pilote_Samples-soil.csv' # 16\n",
    "\n",
    "df1, df2 = create_df([file1, file2])\n",
    "dataframe_viewer(df1, rows=3, un_val='ID_ech', view=t), dataframe_viewer(df2, rows=3, un_val='ID_ech', view=t)"
   ]
  },
  {
   "cell_type": "code",
   "execution_count": 68,
   "id": "0fc99468",
   "metadata": {},
   "outputs": [],
   "source": [
    "#df2.rename(columns={'ID':'ID_ech'}, inplace=True)\n",
    "df1.ID_ech = df1.ID_ech.astype(str)\n",
    "df2.ID_ech = df2.ID_ech.astype(str)"
   ]
  },
  {
   "cell_type": "code",
   "execution_count": 69,
   "id": "5c02e303",
   "metadata": {
    "scrolled": true
   },
   "outputs": [],
   "source": [
    "mdf, conflict_df=data_merger(df1, df2, how=how[1], on='ID_ech', crit_2nd_col='Date_prv', dist_max=1)"
   ]
  },
  {
   "cell_type": "code",
   "execution_count": 70,
   "id": "0543d342",
   "metadata": {
    "scrolled": true
   },
   "outputs": [
    {
     "name": "stdout",
     "output_type": "stream",
     "text": [
      "Rows : 58, columns : 20, Unique values on col 'ID_ech': 58\n"
     ]
    },
    {
     "data": {
      "application/vnd.jupyter.widget-view+json": {
       "model_id": "4536159d6c3f420dbefcc6f38f3fc8fd",
       "version_major": 2,
       "version_minor": 0
      },
      "text/plain": [
       "interactive(children=(IntSlider(value=5, description='rows', max=58, min=5, readout=False), IntSlider(value=12…"
      ]
     },
     "metadata": {},
     "output_type": "display_data"
    }
   ],
   "source": [
    "dataframe_viewer(mdf, rows=5, un_val='ID_ech', view=t)"
   ]
  },
  {
   "cell_type": "markdown",
   "id": "a84866e4",
   "metadata": {},
   "source": [
    "#### Merge with object dataset"
   ]
  },
  {
   "cell_type": "code",
   "execution_count": 71,
   "id": "e557925d",
   "metadata": {
    "scrolled": true
   },
   "outputs": [
    {
     "name": "stdout",
     "output_type": "stream",
     "text": [
      "Conflict values present. Please resolve this manually !\n"
     ]
    }
   ],
   "source": [
    "dataset, conflict_df=data_merger(dataset, mdf, how=how[1], on='ID_ech', crit_2nd_col='Date_prv', dist_max=1)"
   ]
  },
  {
   "cell_type": "markdown",
   "id": "57d3321b",
   "metadata": {},
   "source": [
    "#### $\\color{blue}{\\textbf{Manage conflicts}}$"
   ]
  },
  {
   "cell_type": "code",
   "execution_count": 72,
   "id": "b090a5e2",
   "metadata": {},
   "outputs": [
    {
     "name": "stdout",
     "output_type": "stream",
     "text": [
      "Rows : 6, columns : 6, Unique values on col 'ID_ech': 6\n"
     ]
    },
    {
     "data": {
      "application/vnd.jupyter.widget-view+json": {
       "model_id": "2a6786bd8c7e43db8eb96136d0a1dfe6",
       "version_major": 2,
       "version_minor": 0
      },
      "text/plain": [
       "interactive(children=(IntSlider(value=3, description='rows', max=6, min=3, readout=False), IntSlider(value=6, …"
      ]
     },
     "metadata": {},
     "output_type": "display_data"
    }
   ],
   "source": [
    "dataframe_viewer(conflict_df, rows=3, un_val='ID_ech', view=t)"
   ]
  },
  {
   "cell_type": "code",
   "execution_count": 73,
   "id": "d064e06d",
   "metadata": {},
   "outputs": [
    {
     "name": "stdout",
     "output_type": "stream",
     "text": [
      "all conflicts have been fixed!\n"
     ]
    }
   ],
   "source": [
    "data_validation(overall_data=dataset, conflict_data=conflict_df, index_col='index', \n",
    "                valid_dict={'Fract_2_y':list(conflict_df.index), 'Fract_2+_y':list(conflict_df.index)})"
   ]
  },
  {
   "cell_type": "code",
   "execution_count": 74,
   "id": "6bd97916",
   "metadata": {},
   "outputs": [],
   "source": [
    "if 'level_0' in dataset.columns:\n",
    "    if 'index' in dataset.columns:\n",
    "        dataset.drop(columns='index', inplace=True)\n",
    "    dataset.rename(columns={'level_0':'index'}, inplace=True)"
   ]
  },
  {
   "cell_type": "code",
   "execution_count": 75,
   "id": "17d6846d",
   "metadata": {},
   "outputs": [
    {
     "name": "stdout",
     "output_type": "stream",
     "text": [
      "Rows : 7, columns : 39, Unique values on col 'ID_ech': 1\n"
     ]
    },
    {
     "data": {
      "application/vnd.jupyter.widget-view+json": {
       "model_id": "0798c90515844365b93831fb50fcd1ba",
       "version_major": 2,
       "version_minor": 0
      },
      "text/plain": [
       "interactive(children=(IntSlider(value=3, description='rows', max=7, min=3, readout=False), IntSlider(value=12,…"
      ]
     },
     "metadata": {},
     "output_type": "display_data"
    }
   ],
   "source": [
    "v = dataset.query(\"ID_ech=='201'\")#[['ID_ech', 'Date_prv', 'Periode', 'pH', 'Emplacement']]\n",
    "dataframe_viewer(v, rows=3, un_val='ID_ech', view=t)"
   ]
  },
  {
   "cell_type": "markdown",
   "id": "6cc8d828",
   "metadata": {},
   "source": [
    "#### $\\color{green}{\\textbf{Read and merge}}$"
   ]
  },
  {
   "cell_type": "code",
   "execution_count": 76,
   "id": "11a78cfa",
   "metadata": {
    "scrolled": true
   },
   "outputs": [
    {
     "name": "stdout",
     "output_type": "stream",
     "text": [
      "df1 :  --> Coordinates\n",
      "df2 :  --> Coordinates\n",
      "Rows : 130, columns : 12, Unique values on col 'ID': 130\n"
     ]
    },
    {
     "data": {
      "application/vnd.jupyter.widget-view+json": {
       "model_id": "a1d251440f2346de97a71ac52970e250",
       "version_major": 2,
       "version_minor": 0
      },
      "text/plain": [
       "interactive(children=(IntSlider(value=3, description='rows', max=130, min=3, readout=False), IntSlider(value=1…"
      ]
     },
     "metadata": {},
     "output_type": "display_data"
    },
    {
     "name": "stdout",
     "output_type": "stream",
     "text": [
      "Rows : 130, columns : 13, Unique values on col 'ID': 130\n"
     ]
    },
    {
     "data": {
      "application/vnd.jupyter.widget-view+json": {
       "model_id": "5b08c92c1970448583f943b69489ca0b",
       "version_major": 2,
       "version_minor": 0
      },
      "text/plain": [
       "interactive(children=(IntSlider(value=3, description='rows', max=130, min=3, readout=False), IntSlider(value=1…"
      ]
     },
     "metadata": {},
     "output_type": "display_data"
    },
    {
     "data": {
      "text/plain": [
       "(None, None)"
      ]
     },
     "execution_count": 76,
     "metadata": {},
     "output_type": "execute_result"
    }
   ],
   "source": [
    "file1= work_dir + 'database_Memoris3/Donnees_piezos_Samples-water.csv' # 17\n",
    "file2= work_dir + 'database_Memoris3/Result_eau_Samples-water.csv' # 18\n",
    "\n",
    "df1, df2 = create_df([file1, file2])\n",
    "dataframe_viewer(df1, rows=3, un_val='ID', view=t), dataframe_viewer(df2, rows=3, un_val='ID', view=t)"
   ]
  },
  {
   "cell_type": "code",
   "execution_count": 77,
   "id": "a3bd531c",
   "metadata": {},
   "outputs": [],
   "source": [
    "df1.rename(columns={'ID':'ID_ech'}, inplace=True)\n",
    "df2.rename(columns={'ID':'ID_ech'}, inplace=True)\n",
    "df1.ID_ech = df1.ID_ech.astype(str)\n",
    "df2.ID_ech = df2.ID_ech.astype(str)"
   ]
  },
  {
   "cell_type": "code",
   "execution_count": 78,
   "id": "dc2f0e0e",
   "metadata": {
    "scrolled": true
   },
   "outputs": [],
   "source": [
    "mdf, conflict_df=data_merger(df1, df2, how=how[1], on='ID_ech', crit_2nd_col='Date_prv', dist_max=1)"
   ]
  },
  {
   "cell_type": "code",
   "execution_count": 79,
   "id": "179de591",
   "metadata": {
    "scrolled": true
   },
   "outputs": [
    {
     "name": "stdout",
     "output_type": "stream",
     "text": [
      "Rows : 130, columns : 15, Unique values on col 'ID_ech': 130\n"
     ]
    },
    {
     "data": {
      "application/vnd.jupyter.widget-view+json": {
       "model_id": "6cbc5bb6fc3146d6b8bb943d304edb88",
       "version_major": 2,
       "version_minor": 0
      },
      "text/plain": [
       "interactive(children=(IntSlider(value=10, description='rows', max=130, min=10, readout=False), IntSlider(value…"
      ]
     },
     "metadata": {},
     "output_type": "display_data"
    }
   ],
   "source": [
    "dataframe_viewer(mdf, rows=10, un_val='ID_ech', view=t)"
   ]
  },
  {
   "cell_type": "markdown",
   "id": "f5ff167b",
   "metadata": {},
   "source": [
    "#### Merge with object dataset"
   ]
  },
  {
   "cell_type": "code",
   "execution_count": 80,
   "id": "6eb2ad6e",
   "metadata": {
    "scrolled": true
   },
   "outputs": [],
   "source": [
    "dataset, conflict_df=data_merger(dataset, mdf, how=how[1], on='ID_ech', crit_2nd_col='Date_prv', dist_max=1)"
   ]
  },
  {
   "cell_type": "code",
   "execution_count": 81,
   "id": "6c37938d",
   "metadata": {},
   "outputs": [],
   "source": [
    "if 'level_0' in dataset.columns:\n",
    "    if 'index' in dataset.columns:\n",
    "        dataset.drop(columns='index', inplace=True)\n",
    "    dataset.rename(columns={'level_0':'index'}, inplace=True)"
   ]
  },
  {
   "cell_type": "raw",
   "id": "1d3738eb",
   "metadata": {},
   "source": [
    "dataset, check1 = data_filter(dataset, position=True, id_col='ID_ech', expression=None,\n",
    "                              dist_max=1, drop=True, drop_old_id=True)"
   ]
  },
  {
   "cell_type": "code",
   "execution_count": 82,
   "id": "a9eb26c9",
   "metadata": {},
   "outputs": [],
   "source": [
    "dataset_2 = dataset.copy()"
   ]
  },
  {
   "cell_type": "markdown",
   "id": "15365d85",
   "metadata": {},
   "source": [
    "#### $\\color{green}{\\textbf{Read and merge}}$"
   ]
  },
  {
   "cell_type": "code",
   "execution_count": 83,
   "id": "ff2f35bb",
   "metadata": {
    "scrolled": true
   },
   "outputs": [
    {
     "name": "stdout",
     "output_type": "stream",
     "text": [
      "df1 :  --> Coordinates\n",
      "df2 :  --> No coordinates\n",
      "Rows : 1414, columns : 28, Unique values on col 'ID': 321\n"
     ]
    },
    {
     "data": {
      "application/vnd.jupyter.widget-view+json": {
       "model_id": "539cf61bdc4041b3972a8b363016c2e1",
       "version_major": 2,
       "version_minor": 0
      },
      "text/plain": [
       "interactive(children=(IntSlider(value=3, description='rows', max=1414, min=3, readout=False), IntSlider(value=…"
      ]
     },
     "metadata": {},
     "output_type": "display_data"
    },
    {
     "name": "stdout",
     "output_type": "stream",
     "text": [
      "Rows : 70, columns : 9, Unique values on col 'ID': 22\n"
     ]
    },
    {
     "data": {
      "application/vnd.jupyter.widget-view+json": {
       "model_id": "a64c517608e24340bb64b3621fb18ba8",
       "version_major": 2,
       "version_minor": 0
      },
      "text/plain": [
       "interactive(children=(IntSlider(value=3, description='rows', max=70, min=3, readout=False), IntSlider(value=9,…"
      ]
     },
     "metadata": {},
     "output_type": "display_data"
    },
    {
     "data": {
      "text/plain": [
       "(None, None)"
      ]
     },
     "execution_count": 83,
     "metadata": {},
     "output_type": "execute_result"
    }
   ],
   "source": [
    "file1= work_dir + 'database_Memoris3/Result_sol_Samples-soil.csv' # 19\n",
    "file2= work_dir + 'donnees_terrain_2019/Echantillon_Samples-soil.csv' # 21\n",
    "\n",
    "df1, df2 = create_df([file1, file2])\n",
    "dataframe_viewer(df1, rows=3, un_val='ID', view=t), dataframe_viewer(df2, rows=3, un_val='ID', view=t)"
   ]
  },
  {
   "cell_type": "code",
   "execution_count": 84,
   "id": "c61c4a4f",
   "metadata": {},
   "outputs": [],
   "source": [
    "df1.ID_ech = df1.ID_ech.astype(str)\n",
    "df2.ID_ech = df2.ID_ech.astype(str)\n",
    "df1.rename(columns={'Intensité':'Intensite'}, inplace=True)"
   ]
  },
  {
   "cell_type": "code",
   "execution_count": 85,
   "id": "36cfad26",
   "metadata": {
    "scrolled": true
   },
   "outputs": [],
   "source": [
    "mdf, conflict_df=data_merger(df1, df2, how=how[1], on='ID_ech', crit_2nd_col='Date_prv', dist_max=1)"
   ]
  },
  {
   "cell_type": "code",
   "execution_count": 86,
   "id": "b8552c8b",
   "metadata": {},
   "outputs": [],
   "source": [
    "mdf = mdf.query(\"ID_ech==ID_ech\")"
   ]
  },
  {
   "cell_type": "code",
   "execution_count": 87,
   "id": "be07372b",
   "metadata": {
    "scrolled": true
   },
   "outputs": [
    {
     "name": "stdout",
     "output_type": "stream",
     "text": [
      "Rows : 1419, columns : 29, Unique values on col 'ID_ech': 1372\n"
     ]
    },
    {
     "data": {
      "application/vnd.jupyter.widget-view+json": {
       "model_id": "00f5543c6cca4c0c8ba7997234cb1ef1",
       "version_major": 2,
       "version_minor": 0
      },
      "text/plain": [
       "interactive(children=(IntSlider(value=5, description='rows', max=1419, min=5, readout=False), IntSlider(value=…"
      ]
     },
     "metadata": {},
     "output_type": "display_data"
    }
   ],
   "source": [
    "dataframe_viewer(mdf, rows=5, un_val='ID_ech', view=t)"
   ]
  },
  {
   "cell_type": "markdown",
   "id": "bd33aef4",
   "metadata": {},
   "source": [
    "#### Merge with object dataset"
   ]
  },
  {
   "cell_type": "code",
   "execution_count": 88,
   "id": "89e84a3f",
   "metadata": {},
   "outputs": [],
   "source": [
    "dataset = mdf.copy()"
   ]
  },
  {
   "cell_type": "raw",
   "id": "0fb8f979",
   "metadata": {},
   "source": [
    "#mdf.query(\"ID_ech!=ID_ech\")\n",
    "mdf.query(\"X==153007.6760\")# and ID_ech!=ID_ech\")#['ID']#.info()"
   ]
  },
  {
   "cell_type": "markdown",
   "id": "0f185891",
   "metadata": {},
   "source": [
    "#### $\\color{green}{\\textbf{Read and merge}}$"
   ]
  },
  {
   "cell_type": "code",
   "execution_count": 89,
   "id": "a197f59a",
   "metadata": {
    "scrolled": true
   },
   "outputs": [
    {
     "name": "stdout",
     "output_type": "stream",
     "text": [
      "df1 :  --> No coordinates\n",
      "df2 :  --> No coordinates\n",
      "Rows : 55, columns : 19, Unique values on col 'ID_ech': 55\n"
     ]
    },
    {
     "data": {
      "application/vnd.jupyter.widget-view+json": {
       "model_id": "12f9c833f5f7417f894080fcf15f5c86",
       "version_major": 2,
       "version_minor": 0
      },
      "text/plain": [
       "interactive(children=(IntSlider(value=3, description='rows', max=55, min=3, readout=False), IntSlider(value=12…"
      ]
     },
     "metadata": {},
     "output_type": "display_data"
    },
    {
     "name": "stdout",
     "output_type": "stream",
     "text": [
      "Rows : 32, columns : 9, Unique values on col 'ID_ech': 29\n"
     ]
    },
    {
     "data": {
      "application/vnd.jupyter.widget-view+json": {
       "model_id": "0e8dde9f9e0b44babd6aa73a1d82974f",
       "version_major": 2,
       "version_minor": 0
      },
      "text/plain": [
       "interactive(children=(IntSlider(value=3, description='rows', max=32, min=3, readout=False), IntSlider(value=9,…"
      ]
     },
     "metadata": {},
     "output_type": "display_data"
    },
    {
     "data": {
      "text/plain": [
       "(None, None)"
      ]
     },
     "execution_count": 89,
     "metadata": {},
     "output_type": "execute_result"
    }
   ],
   "source": [
    "file1= work_dir + 'donnees_terrain_2019/Result_Sol_Samples-soil.csv' # 22\n",
    "file2= work_dir + 'profils_sols_donnees_forages/Echant-organo_Samples-soil.csv' # 24\n",
    "\n",
    "df1, df2 = create_df([file1, file2])\n",
    "dataframe_viewer(df1, rows=3, un_val='ID_ech', view=t), dataframe_viewer(df2, rows=3, un_val='ID_ech', view=t)"
   ]
  },
  {
   "cell_type": "code",
   "execution_count": 90,
   "id": "4d32e1f4",
   "metadata": {},
   "outputs": [],
   "source": [
    "df1.ID_ech = df1.ID_ech.astype(str)\n",
    "df2.ID_ech = df2.ID_ech.astype(str)\n",
    "df2.rename(columns={'Intensité':'Intensite'}, inplace=True)"
   ]
  },
  {
   "cell_type": "code",
   "execution_count": 91,
   "id": "56cf2a46",
   "metadata": {
    "scrolled": true
   },
   "outputs": [],
   "source": [
    "mdf, conflict_df=data_merger(df1, df2, how=how[1], on='ID_ech', crit_2nd_col='Date_prv', dist_max=1)"
   ]
  },
  {
   "cell_type": "code",
   "execution_count": 92,
   "id": "3f060dfa",
   "metadata": {
    "scrolled": false
   },
   "outputs": [
    {
     "name": "stdout",
     "output_type": "stream",
     "text": [
      "Rows : 87, columns : 24, Unique values on col 'ID_ech': 84\n"
     ]
    },
    {
     "data": {
      "application/vnd.jupyter.widget-view+json": {
       "model_id": "8e49a8889f324792963fb14c4d550d2b",
       "version_major": 2,
       "version_minor": 0
      },
      "text/plain": [
       "interactive(children=(IntSlider(value=10, description='rows', max=87, min=10, readout=False), IntSlider(value=…"
      ]
     },
     "metadata": {},
     "output_type": "display_data"
    }
   ],
   "source": [
    "dataframe_viewer(mdf, rows=10, un_val='ID_ech', view=t)"
   ]
  },
  {
   "cell_type": "code",
   "execution_count": 93,
   "id": "fe971171",
   "metadata": {},
   "outputs": [],
   "source": [
    "dataset.drop(columns='ID', inplace=True)\n",
    "mdf.drop(columns='ID', inplace=True)"
   ]
  },
  {
   "cell_type": "markdown",
   "id": "8dbc9006",
   "metadata": {},
   "source": [
    "#### Merge with object dataset"
   ]
  },
  {
   "cell_type": "code",
   "execution_count": 94,
   "id": "b6526192",
   "metadata": {},
   "outputs": [],
   "source": [
    "dataset, conflict_df=data_merger(dataset, mdf, how=how[1], on='ID_ech', crit_2nd_col='Date_prv', dist_max=1)"
   ]
  },
  {
   "cell_type": "code",
   "execution_count": 95,
   "id": "e350d11d",
   "metadata": {},
   "outputs": [],
   "source": [
    "if 'level_0' in dataset.columns:\n",
    "    if 'index' in dataset.columns:\n",
    "        dataset.drop(columns='index', inplace=True)\n",
    "    dataset.rename(columns={'level_0':'index'}, inplace=True)"
   ]
  },
  {
   "cell_type": "markdown",
   "id": "38cb8ee1",
   "metadata": {},
   "source": [
    "#### $\\color{green}{\\textbf{Read and merge}}$"
   ]
  },
  {
   "cell_type": "code",
   "execution_count": 96,
   "id": "5698652b",
   "metadata": {
    "scrolled": true
   },
   "outputs": [
    {
     "name": "stdout",
     "output_type": "stream",
     "text": [
      "df1 :  --> No coordinates\n",
      "df2 :  --> No coordinates\n",
      "Rows : 87, columns : 13, Unique values on col 'ID_ech': 10\n"
     ]
    },
    {
     "data": {
      "application/vnd.jupyter.widget-view+json": {
       "model_id": "ed878e0185ed4abd840af9bbd84524b0",
       "version_major": 2,
       "version_minor": 0
      },
      "text/plain": [
       "interactive(children=(IntSlider(value=3, description='rows', max=87, min=3, readout=False), IntSlider(value=12…"
      ]
     },
     "metadata": {},
     "output_type": "display_data"
    },
    {
     "name": "stdout",
     "output_type": "stream",
     "text": [
      "Rows : 27, columns : 14, Unique values on col 'ID': 27\n"
     ]
    },
    {
     "data": {
      "application/vnd.jupyter.widget-view+json": {
       "model_id": "452df9daada4428ba6cdc963ccab839c",
       "version_major": 2,
       "version_minor": 0
      },
      "text/plain": [
       "interactive(children=(IntSlider(value=3, description='rows', max=27, min=3, readout=False), IntSlider(value=12…"
      ]
     },
     "metadata": {},
     "output_type": "display_data"
    },
    {
     "data": {
      "text/plain": [
       "(None, None)"
      ]
     },
     "execution_count": 96,
     "metadata": {},
     "output_type": "execute_result"
    }
   ],
   "source": [
    "file1= work_dir + 'Siterem_Pilote/Result_eau_Samples-water.csv' # 14\n",
    "file2= work_dir + 'observ_terrain/Piezometrie_Samples-water.csv' # 23\n",
    "\n",
    "df1, df2 = create_df([file1, file2])\n",
    "dataframe_viewer(df1, rows=3, un_val='ID_ech', view=t), dataframe_viewer(df2, rows=3, un_val='ID', view=t)"
   ]
  },
  {
   "cell_type": "code",
   "execution_count": 97,
   "id": "aec71a25",
   "metadata": {},
   "outputs": [],
   "source": [
    "df2.rename(columns={'ID':'ID_ech'}, inplace=True)\n",
    "df1.ID_ech = df1.ID_ech.astype(str)\n",
    "df2.ID_ech = df2.ID_ech.astype(str)"
   ]
  },
  {
   "cell_type": "code",
   "execution_count": 98,
   "id": "2fb7c154",
   "metadata": {
    "scrolled": true
   },
   "outputs": [],
   "source": [
    "mdf, conflict_df=data_merger(df1, df2, how=how[1], on=['ID_ech'], crit_2nd_col='Date_prv', dist_max=1)"
   ]
  },
  {
   "cell_type": "code",
   "execution_count": 99,
   "id": "b3d76535",
   "metadata": {
    "scrolled": true
   },
   "outputs": [
    {
     "name": "stdout",
     "output_type": "stream",
     "text": [
      "Rows : 114, columns : 20, Unique values on col 'ID_ech': 37\n"
     ]
    },
    {
     "data": {
      "application/vnd.jupyter.widget-view+json": {
       "model_id": "c7f1d8312c1c4c4d967fa33aeca11967",
       "version_major": 2,
       "version_minor": 0
      },
      "text/plain": [
       "interactive(children=(IntSlider(value=5, description='rows', max=114, min=5, readout=False), IntSlider(value=1…"
      ]
     },
     "metadata": {},
     "output_type": "display_data"
    }
   ],
   "source": [
    "dataframe_viewer(mdf, rows=5, un_val='ID_ech', view=t)"
   ]
  },
  {
   "cell_type": "markdown",
   "id": "55214b75",
   "metadata": {},
   "source": [
    "#### Merge with object dataset"
   ]
  },
  {
   "cell_type": "code",
   "execution_count": 100,
   "id": "703bfcc5",
   "metadata": {},
   "outputs": [],
   "source": [
    "dataset, conflict_df=data_merger(dataset, mdf, how=how[1], on='ID_ech', crit_2nd_col='Date_prv', dist_max=1)"
   ]
  },
  {
   "cell_type": "code",
   "execution_count": 101,
   "id": "ce5aaf07",
   "metadata": {},
   "outputs": [],
   "source": [
    "if 'level_0' in dataset.columns:\n",
    "    if 'index' in dataset.columns:\n",
    "        dataset.drop(columns='index', inplace=True)\n",
    "    dataset.rename(columns={'level_0':'index'}, inplace=True)"
   ]
  },
  {
   "cell_type": "markdown",
   "id": "e3f6f04d",
   "metadata": {},
   "source": [
    "#### $\\color{green}{\\textbf{Read and merge}}$"
   ]
  },
  {
   "cell_type": "code",
   "execution_count": 102,
   "id": "53f60afa",
   "metadata": {
    "scrolled": true
   },
   "outputs": [
    {
     "name": "stdout",
     "output_type": "stream",
     "text": [
      "df1 :  --> No coordinates\n",
      "df2 :  --> No coordinates\n",
      "Rows : 24, columns : 6, Unique values on col 'ID_ech': 6\n"
     ]
    },
    {
     "data": {
      "application/vnd.jupyter.widget-view+json": {
       "model_id": "8792a907b57d459a93be35d31be4d986",
       "version_major": 2,
       "version_minor": 0
      },
      "text/plain": [
       "interactive(children=(IntSlider(value=3, description='rows', max=24, min=3, readout=False), IntSlider(value=6,…"
      ]
     },
     "metadata": {},
     "output_type": "display_data"
    },
    {
     "name": "stdout",
     "output_type": "stream",
     "text": [
      "Rows : 95, columns : 14, Unique values on col 'ID_ech': 15\n"
     ]
    },
    {
     "data": {
      "application/vnd.jupyter.widget-view+json": {
       "model_id": "df0c627bb11f454ebe8440d9f78ce826",
       "version_major": 2,
       "version_minor": 0
      },
      "text/plain": [
       "interactive(children=(IntSlider(value=3, description='rows', max=95, min=3, readout=False), IntSlider(value=12…"
      ]
     },
     "metadata": {},
     "output_type": "display_data"
    },
    {
     "data": {
      "text/plain": [
       "(None, None)"
      ]
     },
     "execution_count": 102,
     "metadata": {},
     "output_type": "execute_result"
    }
   ],
   "source": [
    "file1= work_dir + 'Container_phyto/Param_agro_Samples-water.csv' # 1\n",
    "file2= work_dir + 'Siterem_Pilote/Param_physico_Samples-water.csv' # 13\n",
    "\n",
    "df1, df2 = create_df([file1, file2])\n",
    "dataframe_viewer(df1, rows=3, un_val='ID_ech', view=t), dataframe_viewer(df2, rows=3, un_val='ID_ech', view=t)"
   ]
  },
  {
   "cell_type": "code",
   "execution_count": 103,
   "id": "3d57c8a3",
   "metadata": {},
   "outputs": [],
   "source": [
    "df1.ID_ech = df1.ID_ech.astype(str)\n",
    "df2.ID_ech = df2.ID_ech.astype(str)\n",
    "df2.rename(columns={'Temp_prv ':'Temp_prv'}, inplace=True)"
   ]
  },
  {
   "cell_type": "code",
   "execution_count": 104,
   "id": "cd2dba01",
   "metadata": {
    "scrolled": true
   },
   "outputs": [
    {
     "name": "stdout",
     "output_type": "stream",
     "text": [
      "Conflict values present. Please resolve this manually !\n"
     ]
    }
   ],
   "source": [
    "mdf, conflict_df=data_merger(df1, df2, how=how[1], on='ID_ech', crit_2nd_col='Date_prv', dist_max=1)"
   ]
  },
  {
   "cell_type": "code",
   "execution_count": 105,
   "id": "9bbd20f2",
   "metadata": {
    "scrolled": true
   },
   "outputs": [
    {
     "name": "stdout",
     "output_type": "stream",
     "text": [
      "Rows : 127, columns : 15, Unique values on col 'ID_ech': 19\n"
     ]
    },
    {
     "data": {
      "application/vnd.jupyter.widget-view+json": {
       "model_id": "6f742c8019bc40fc8ae0f60fa403f767",
       "version_major": 2,
       "version_minor": 0
      },
      "text/plain": [
       "interactive(children=(IntSlider(value=5, description='rows', max=127, min=5, readout=False), IntSlider(value=1…"
      ]
     },
     "metadata": {},
     "output_type": "display_data"
    }
   ],
   "source": [
    "dataframe_viewer(mdf, rows=5, un_val='ID_ech', view=t)"
   ]
  },
  {
   "cell_type": "code",
   "execution_count": 106,
   "id": "281f4bfc",
   "metadata": {},
   "outputs": [],
   "source": [
    "mdf = mdf.query('ID_ech==ID_ech')"
   ]
  },
  {
   "cell_type": "markdown",
   "id": "1b146ecf",
   "metadata": {},
   "source": [
    "#### Merge with object dataset"
   ]
  },
  {
   "cell_type": "code",
   "execution_count": 107,
   "id": "077ef2d6",
   "metadata": {},
   "outputs": [
    {
     "name": "stdout",
     "output_type": "stream",
     "text": [
      "Conflict values present. Please resolve this manually !\n"
     ]
    }
   ],
   "source": [
    "t1, conflict_df=data_merger(dataset, mdf, how=how[1], on=['ID_ech', 'Date_prv'], crit_2nd_col='Date_prv', dist_max=1)"
   ]
  },
  {
   "cell_type": "code",
   "execution_count": 108,
   "id": "33859295",
   "metadata": {
    "scrolled": true
   },
   "outputs": [
    {
     "name": "stdout",
     "output_type": "stream",
     "text": [
      "Rows : 1607, columns : 58, Unique values on col 'ID_ech': 1449\n"
     ]
    },
    {
     "data": {
      "application/vnd.jupyter.widget-view+json": {
       "model_id": "85fbb0fe7ef04414b03918adc8be87f0",
       "version_major": 2,
       "version_minor": 0
      },
      "text/plain": [
       "interactive(children=(IntSlider(value=3, description='rows', max=1607, min=3, readout=False), IntSlider(value=…"
      ]
     },
     "metadata": {},
     "output_type": "display_data"
    }
   ],
   "source": [
    "dataframe_viewer(t1, rows=3, un_val='ID_ech', view=t)"
   ]
  },
  {
   "cell_type": "code",
   "execution_count": 109,
   "id": "263ac0ba",
   "metadata": {},
   "outputs": [],
   "source": [
    "dataset_3 = dataset.copy()"
   ]
  },
  {
   "cell_type": "markdown",
   "id": "6978ac5d",
   "metadata": {},
   "source": [
    "===============================================================================================\n",
    "## Merging dataset versions"
   ]
  },
  {
   "cell_type": "code",
   "execution_count": 110,
   "id": "5e425bed",
   "metadata": {
    "scrolled": false
   },
   "outputs": [
    {
     "name": "stdout",
     "output_type": "stream",
     "text": [
      "Rows : 156, columns : 91, Unique values on cols: {'ID_ech': 108, 'Date_prv': 12}\n"
     ]
    },
    {
     "data": {
      "application/vnd.jupyter.widget-view+json": {
       "model_id": "18de91ee44d441479ee87173e8f7b779",
       "version_major": 2,
       "version_minor": 0
      },
      "text/plain": [
       "interactive(children=(IntSlider(value=3, description='rows', max=156, min=3, readout=False), IntSlider(value=1…"
      ]
     },
     "metadata": {},
     "output_type": "display_data"
    },
    {
     "name": "stdout",
     "output_type": "stream",
     "text": [
      "Rows : 334, columns : 51, Unique values on cols: {'ID_ech': 258, 'Date_prv': 25}\n"
     ]
    },
    {
     "data": {
      "application/vnd.jupyter.widget-view+json": {
       "model_id": "4c47e10f2dec422683a28e4a4cb045df",
       "version_major": 2,
       "version_minor": 0
      },
      "text/plain": [
       "interactive(children=(IntSlider(value=3, description='rows', max=334, min=3, readout=False), IntSlider(value=1…"
      ]
     },
     "metadata": {},
     "output_type": "display_data"
    }
   ],
   "source": [
    "# 1st merge\n",
    "dataframe_viewer(dataset_1, rows=3, un_val=['ID_ech', 'Date_prv'], view=t), \n",
    "dataframe_viewer(dataset_2, rows=3, un_val=['ID_ech', 'Date_prv'], view=t)"
   ]
  },
  {
   "cell_type": "code",
   "execution_count": 111,
   "id": "7ab4c65e",
   "metadata": {},
   "outputs": [],
   "source": [
    "for i, r in dataset_1.iterrows():\n",
    "    if isinstance(r['Date_prv'], str) and '00:00:00' not in r['Date_prv']:\n",
    "        dataset_1.loc[i, 'Date_prv'] = r['Date_prv'] + ' 00:00:00'"
   ]
  },
  {
   "cell_type": "code",
   "execution_count": 112,
   "id": "65f87828",
   "metadata": {},
   "outputs": [],
   "source": [
    "for i, r in dataset_2.iterrows():\n",
    "    if isinstance(r['Date_prv'], str) and '00:00:00' not in r['Date_prv']:\n",
    "        dataset_2.loc[i, 'Date_prv'] = r['Date_prv'] + ' 00:00:00'"
   ]
  },
  {
   "cell_type": "code",
   "execution_count": 113,
   "id": "72e7016d",
   "metadata": {},
   "outputs": [],
   "source": [
    "dataset_2.Ech_top = dataset_2.Ech_top.replace(',','.', regex=True)\n",
    "dataset_2.Ech_base = dataset_2.Ech_base.replace(',','.', regex=True)"
   ]
  },
  {
   "cell_type": "code",
   "execution_count": 114,
   "id": "263f549d",
   "metadata": {
    "scrolled": true
   },
   "outputs": [],
   "source": [
    "dataset_2.Ech_top = dataset_2.Ech_top.astype(float)\n",
    "dataset_2.Ech_base = dataset_2.Ech_base.astype(float)"
   ]
  },
  {
   "cell_type": "code",
   "execution_count": 115,
   "id": "59e6fd28",
   "metadata": {
    "scrolled": true
   },
   "outputs": [
    {
     "name": "stdout",
     "output_type": "stream",
     "text": [
      "Conflict values present. Please resolve this manually !\n"
     ]
    }
   ],
   "source": [
    "mdf, conflict_df=data_merger(dataset_1, dataset_2, how=how[1], on=['ID_ech', 'Date_prv','Ech_top', 'Ech_base'], \n",
    "                               crit_2nd_col='Date_prv', dist_max=1)"
   ]
  },
  {
   "cell_type": "markdown",
   "id": "b17bf012",
   "metadata": {},
   "source": [
    "#### $\\color{blue}{\\textbf{Manage conflicts}}$"
   ]
  },
  {
   "cell_type": "code",
   "execution_count": 118,
   "id": "4a8d8c77",
   "metadata": {
    "scrolled": false
   },
   "outputs": [
    {
     "name": "stdout",
     "output_type": "stream",
     "text": [
      "Rows : 1, columns : 11\n"
     ]
    },
    {
     "data": {
      "application/vnd.jupyter.widget-view+json": {
       "model_id": "8468faae06ac4c009c3993b49006c935",
       "version_major": 2,
       "version_minor": 0
      },
      "text/plain": [
       "interactive(children=(IntSlider(value=1, description='rows', max=1, min=1, readout=False), IntSlider(value=11,…"
      ]
     },
     "metadata": {},
     "output_type": "display_data"
    }
   ],
   "source": [
    "dataframe_viewer(conflict_df, rows=5)"
   ]
  },
  {
   "cell_type": "code",
   "execution_count": 119,
   "id": "58fa4a12",
   "metadata": {},
   "outputs": [
    {
     "name": "stdout",
     "output_type": "stream",
     "text": [
      "all conflicts have been fixed!\n"
     ]
    }
   ],
   "source": [
    "data_validation(overall_data=mdf, conflict_data=conflict_df, index_col='index', \n",
    "                valid_dict={'Fract_2_y':list(conflict_df.index), 'Fract_2+_y':list(conflict_df.index),\n",
    "                           'MS_y':list(conflict_df.index)}) #, 'Organo_y':list(conflict_df.index)})"
   ]
  },
  {
   "cell_type": "code",
   "execution_count": 120,
   "id": "82ac9d00",
   "metadata": {},
   "outputs": [],
   "source": [
    "dataset = mdf.copy()\n",
    "if 'level_0' in dataset.columns:\n",
    "    if 'index' in dataset.columns:\n",
    "        dataset.drop(columns='index', inplace=True)\n",
    "    dataset.rename(columns={'level_0':'index'}, inplace=True)"
   ]
  },
  {
   "cell_type": "code",
   "execution_count": 121,
   "id": "7fde6039",
   "metadata": {
    "scrolled": false
   },
   "outputs": [
    {
     "name": "stdout",
     "output_type": "stream",
     "text": [
      "Rows : 466, columns : 123, Unique values on cols: {'ID_ech': 310, 'Date_prv': 30}\n"
     ]
    },
    {
     "data": {
      "application/vnd.jupyter.widget-view+json": {
       "model_id": "52f40192ed404cc688e65d76c63258a0",
       "version_major": 2,
       "version_minor": 0
      },
      "text/plain": [
       "interactive(children=(IntSlider(value=3, description='rows', max=466, min=3, readout=False), IntSlider(value=1…"
      ]
     },
     "metadata": {},
     "output_type": "display_data"
    },
    {
     "name": "stdout",
     "output_type": "stream",
     "text": [
      "Rows : 1567, columns : 55, Unique values on cols: {'ID_ech': 1440, 'Date_prv': 1373}\n"
     ]
    },
    {
     "data": {
      "application/vnd.jupyter.widget-view+json": {
       "model_id": "b317644a846d4e12997604f399bf6b59",
       "version_major": 2,
       "version_minor": 0
      },
      "text/plain": [
       "interactive(children=(IntSlider(value=3, description='rows', max=1567, min=3, readout=False), IntSlider(value=…"
      ]
     },
     "metadata": {},
     "output_type": "display_data"
    }
   ],
   "source": [
    "# 2nd merge\n",
    "dataframe_viewer(dataset, rows=3, un_val=['ID_ech', 'Date_prv'], view=t), \n",
    "dataframe_viewer(dataset_3, rows=3, un_val=['ID_ech', 'Date_prv'], view=t)"
   ]
  },
  {
   "cell_type": "code",
   "execution_count": 122,
   "id": "e00345bb",
   "metadata": {
    "scrolled": true
   },
   "outputs": [
    {
     "name": "stdout",
     "output_type": "stream",
     "text": [
      "Conflict values present. Please resolve this manually !\n"
     ]
    }
   ],
   "source": [
    "mdf, conflict_df=data_merger(dataset, dataset_3, how=how[1], on=['ID_ech', 'Date_prv'], dist_max=1)"
   ]
  },
  {
   "cell_type": "code",
   "execution_count": 123,
   "id": "683a4215",
   "metadata": {},
   "outputs": [],
   "source": [
    "dataset = mdf.copy()\n",
    "if 'level_0' in dataset.columns:\n",
    "    if 'index' in dataset.columns:\n",
    "        dataset.drop(columns='index', inplace=True)\n",
    "    dataset.rename(columns={'level_0':'index'}, inplace=True)"
   ]
  },
  {
   "cell_type": "markdown",
   "id": "ba20997e",
   "metadata": {},
   "source": [
    "####  $\\color{red}{\\textbf{Save final object dataset}}$"
   ]
  },
  {
   "cell_type": "code",
   "execution_count": 124,
   "id": "60d9fc91",
   "metadata": {},
   "outputs": [],
   "source": [
    "if not os.path.exists(save_dir):\n",
    "    os.makedirs(save_dir)\n",
    "    \n",
    "dataset.to_csv(save_dir + save_file, index=False)"
   ]
  },
  {
   "cell_type": "markdown",
   "id": "5a1cdbe6",
   "metadata": {},
   "source": [
    "## Querying"
   ]
  },
  {
   "cell_type": "raw",
   "id": "f8391359",
   "metadata": {
    "scrolled": true
   },
   "source": [
    "bh_name = '_'\n",
    "id_col = 'ID_ech'\n",
    "dataframe_viewer(dataset.query(f'{id_col}.str.contains(\"{bh_name}\")', engine='python'))"
   ]
  },
  {
   "cell_type": "raw",
   "id": "f0b359fe",
   "metadata": {},
   "source": [
    "id_ = 'FP76'\n",
    "id_col = 'ID_ech'\n",
    "dataframe_viewer(df1.query(f'{id_col}==\"{id_}\"'), rows=10, cols=15, un_val=f'{id_col}', view=t), \n",
    "dataframe_viewer(df2.query(f'{id_col}==\"{id_}\"'), rows=10, cols=15, un_val=f'{id_col}', view=t)"
   ]
  },
  {
   "cell_type": "raw",
   "id": "da936f64",
   "metadata": {},
   "source": [
    "x_min, x_max = 152883, 152885\n",
    "y_min, y_max =  122605, 122608\n",
    "id_col = 'ID_ech'\n",
    "bh_name = 'F1.' # regex\n",
    "#bh_name = None\n",
    "\n",
    "q = dataset.query(f'X >= {x_min} and X <= {x_max} and Y >= {y_min} and Y <= {y_max}')\n",
    "if bh_name is not None:\n",
    "    q = dataset.query(f'{id_col}.str.contains(\"{bh_name}\")', engine='python')\n",
    "#dataframe_viewer(q[coi_1 + coi_2], rows=10, cols=15, un_val='ID', view=t)\n",
    "dataframe_viewer(q, rows=10, cols=15, un_val=id_col, view=t)"
   ]
  },
  {
   "cell_type": "raw",
   "id": "7e91304b",
   "metadata": {},
   "source": [
    "sql = 'ID_ech==\"F1/2M\"'\n",
    "cols = ['ID_ech', 'Date_prv', 'X', 'Y', 'Z', 'Long_for', 'Ech_top', 'Ech_base', 'Fract_2', 'Fract_2+', 'MS']\n",
    "dataframe_viewer(dataset_1.query(sql)[cols]), dataframe_viewer(dataset_2.query(sql)[cols])"
   ]
  }
 ],
 "metadata": {
  "kernelspec": {
   "display_name": "Python 3 (ipykernel)",
   "language": "python",
   "name": "python3"
  },
  "language_info": {
   "codemirror_mode": {
    "name": "ipython",
    "version": 3
   },
   "file_extension": ".py",
   "mimetype": "text/x-python",
   "name": "python",
   "nbconvert_exporter": "python",
   "pygments_lexer": "ipython3",
   "version": "3.8.10"
  }
 },
 "nbformat": 4,
 "nbformat_minor": 5
}
