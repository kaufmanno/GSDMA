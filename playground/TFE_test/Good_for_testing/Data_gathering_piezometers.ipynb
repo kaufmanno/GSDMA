{
 "cells": [
  {
   "cell_type": "markdown",
   "id": "finite-killing",
   "metadata": {},
   "source": [
    "# Data Gathering"
   ]
  },
  {
   "cell_type": "code",
   "execution_count": 1,
   "id": "educational-barrier",
   "metadata": {},
   "outputs": [],
   "source": [
    "from utils.io import dataframe_viewer, files_search, data_merger, data_validation, data_overview, \\\n",
    "data_filter, fix_duplicates\n",
    "\n",
    "import re, os\n",
    "import numpy as np\n",
    "import pandas as pd\n",
    "import datetime as dtm\n",
    "from definitions import ROOT_DIR"
   ]
  },
  {
   "cell_type": "code",
   "execution_count": 2,
   "id": "representative-bunny",
   "metadata": {},
   "outputs": [],
   "source": [
    "def create_df(files, verbose=True): # find another name for this function\n",
    "    \"\"\"\n",
    "    create dataframes from files and test if they contain position informations\n",
    "    files: list of files name\n",
    "    \"\"\"\n",
    "    dfs = []\n",
    "    for f in files:\n",
    "        df = pd.read_csv(f, delimiter=',')\n",
    "        dfs.append(df)\n",
    "        \n",
    "        if verbose:\n",
    "            if 'X' in list(df.columns): msg = ' --> Coordinates'\n",
    "            else: msg = ' --> No coordinates'\n",
    "\n",
    "            print(f\"df1 : {msg}\")\n",
    "            \n",
    "    return dfs"
   ]
  },
  {
   "cell_type": "markdown",
   "id": "enhanced-noise",
   "metadata": {},
   "source": [
    "## Reading files"
   ]
  },
  {
   "cell_type": "code",
   "execution_count": 3,
   "id": "vanilla-bones",
   "metadata": {},
   "outputs": [],
   "source": [
    "work_dir = ROOT_DIR+'/CF_data/Result_traitem/'\n",
    "save_dir = ROOT_DIR+'/CF_data/Donnees_fusionnees/'"
   ]
  },
  {
   "cell_type": "code",
   "execution_count": 4,
   "id": "confused-pleasure",
   "metadata": {},
   "outputs": [],
   "source": [
    "# create my dictionary structure to retrieve good files (Keynames !!!)\n",
    "files_dict={'Borehole':0,'Piezometer':0,'Piezair':0,'Trench':0,'Litho':0,'Equipm':0,\n",
    "        'Measure':0,'Sample':0,'Analysis':0,'Facility':0}"
   ]
  },
  {
   "cell_type": "code",
   "execution_count": 5,
   "id": "compliant-sensitivity",
   "metadata": {
    "scrolled": true
   },
   "outputs": [
    {
     "name": "stdout",
     "output_type": "stream",
     "text": [
      "Borehole  \t:  13\n",
      "Piezometer  \t:  18\n",
      "Piezair  \t:  3\n",
      "Trench  \t:  1\n",
      "Litho  \t:  12\n",
      "Equipm  \t:  7\n",
      "Measure  \t:  11\n",
      "Sample  \t:  35\n",
      "Analysis  \t:  44\n",
      "Facility  \t:  4\n"
     ]
    }
   ],
   "source": [
    "files_search(work_dir, files_dict, prefix='', skip='source')"
   ]
  },
  {
   "cell_type": "code",
   "execution_count": 6,
   "id": "possible-bones",
   "metadata": {},
   "outputs": [],
   "source": [
    "how=['inner', 'outer', 'left', 'right']"
   ]
  },
  {
   "cell_type": "code",
   "execution_count": 7,
   "id": "national-boards",
   "metadata": {},
   "outputs": [],
   "source": [
    "f = False\n",
    "t = True"
   ]
  },
  {
   "cell_type": "markdown",
   "id": "7d829da8",
   "metadata": {},
   "source": [
    "# PIEZOMETERS PROCESSING"
   ]
  },
  {
   "cell_type": "code",
   "execution_count": 8,
   "id": "impressive-spouse",
   "metadata": {},
   "outputs": [
    {
     "name": "stdout",
     "output_type": "stream",
     "text": [
      "18 files\n"
     ]
    }
   ],
   "source": [
    "key='Piezometer'\n",
    "save_file = f'Merged_Piezometers.csv'\n",
    "coi=['ID','ID_date','X','Y','Z','Type','Long_for','Diam_for','Refus'] #columns of interest\n",
    "dataset = pd.DataFrame()\n",
    "print(len(files_dict[key]), 'files')"
   ]
  },
  {
   "cell_type": "code",
   "execution_count": 9,
   "id": "db48b5e8",
   "metadata": {
    "scrolled": false
   },
   "outputs": [
    {
     "data": {
      "text/plain": [
       "['/home/yanathan/Projects/GSDMA/CF_data/Result_traitem/Liste_XY/Sol_Eau_Piezometers.csv',\n",
       " '/home/yanathan/Projects/GSDMA/CF_data/Result_traitem/Memoris_seafile/Result_eau_Piezometers.csv',\n",
       " '/home/yanathan/Projects/GSDMA/CF_data/Result_traitem/Phase_1_Memoris/Result_eau_Piezometers.csv',\n",
       " '/home/yanathan/Projects/GSDMA/CF_data/Result_traitem/Phase_2_Memoris/Result_eau_Piezometers.csv',\n",
       " '/home/yanathan/Projects/GSDMA/CF_data/Result_traitem/Siterem_Ext_Pilote/Inorganic_major_Piezometers.csv',\n",
       " '/home/yanathan/Projects/GSDMA/CF_data/Result_traitem/database_Memoris3/Donnees_piezos_Piezometers.csv',\n",
       " '/home/yanathan/Projects/GSDMA/CF_data/Result_traitem/database_Memoris3/Drains_Pz_ENEL_Piezometers.csv',\n",
       " '/home/yanathan/Projects/GSDMA/CF_data/Result_traitem/database_Memoris3/Profils_sol_Piezometers.csv',\n",
       " '/home/yanathan/Projects/GSDMA/CF_data/Result_traitem/database_Memoris3/Result_eau_Piezometers.csv',\n",
       " '/home/yanathan/Projects/GSDMA/CF_data/Result_traitem/database_Memoris3/Result_sol_Piezometers.csv',\n",
       " '/home/yanathan/Projects/GSDMA/CF_data/Result_traitem/donnees_terrain_2019/Donnees_forage_Piezometers.csv',\n",
       " '/home/yanathan/Projects/GSDMA/CF_data/Result_traitem/donnees_terrain_2019/Equipement_Piezometers.csv',\n",
       " '/home/yanathan/Projects/GSDMA/CF_data/Result_traitem/donnees_terrain_2019/Log_Piezometers.csv',\n",
       " '/home/yanathan/Projects/GSDMA/CF_data/Result_traitem/profils_sols_donnees_forages/Equipement_Piezometers.csv',\n",
       " '/home/yanathan/Projects/GSDMA/CF_data/Result_traitem/profils_sols_donnees_forages/donnees_forage_Piezometers.csv',\n",
       " '/home/yanathan/Projects/GSDMA/CF_data/Result_traitem/profils_sols_donnees_forages/piezometrie_Piezometers.csv',\n",
       " '/home/yanathan/Projects/GSDMA/CF_data/Result_traitem/vUmons_logsFor/Analyse_eau_Phases1&2_Piezometers.csv',\n",
       " '/home/yanathan/Projects/GSDMA/CF_data/Result_traitem/vUmons_logsFor/Analyse_sol_Phases1&2_Piezometers.csv']"
      ]
     },
     "execution_count": 9,
     "metadata": {},
     "output_type": "execute_result"
    }
   ],
   "source": [
    "files_dict[key]"
   ]
  },
  {
   "cell_type": "code",
   "execution_count": 10,
   "id": "e8bad474",
   "metadata": {
    "scrolled": true
   },
   "outputs": [
    {
     "name": "stdout",
     "output_type": "stream",
     "text": [
      "Same files:[(4, 10)]\n",
      "Files with coordinates:[0, 1, 2, 3, 4, 5, 6, 8, 9, 10, 14, 16, 17]\n",
      "Files without coordinates:[7, 11, 12, 13, 15]\n"
     ]
    }
   ],
   "source": [
    "data_overview(files_dict[key])"
   ]
  },
  {
   "cell_type": "markdown",
   "id": "a457ac6b",
   "metadata": {},
   "source": [
    "#### $\\color{green}{\\textbf{Read and merge}}$"
   ]
  },
  {
   "cell_type": "code",
   "execution_count": 11,
   "id": "a8c1475e",
   "metadata": {
    "scrolled": false
   },
   "outputs": [
    {
     "name": "stdout",
     "output_type": "stream",
     "text": [
      "df1 :  --> Coordinates\n",
      "df1 :  --> Coordinates\n",
      "Rows : 14, columns : 10, Unique values on col 'ID': 14\n"
     ]
    },
    {
     "data": {
      "application/vnd.jupyter.widget-view+json": {
       "model_id": "45caeb93cf164770abca60195d298d5a",
       "version_major": 2,
       "version_minor": 0
      },
      "text/plain": [
       "interactive(children=(IntSlider(value=3, description='rows', max=14, min=3, readout=False), IntSlider(value=10…"
      ]
     },
     "metadata": {},
     "output_type": "display_data"
    },
    {
     "name": "stdout",
     "output_type": "stream",
     "text": [
      "Rows : 30, columns : 9, Unique values on col 'ID': 30\n"
     ]
    },
    {
     "data": {
      "application/vnd.jupyter.widget-view+json": {
       "model_id": "d3543b36b19d464aa8f5283d4b354169",
       "version_major": 2,
       "version_minor": 0
      },
      "text/plain": [
       "interactive(children=(IntSlider(value=3, description='rows', max=30, min=3, readout=False), IntSlider(value=9,…"
      ]
     },
     "metadata": {},
     "output_type": "display_data"
    },
    {
     "data": {
      "text/plain": [
       "(None, None)"
      ]
     },
     "execution_count": 11,
     "metadata": {},
     "output_type": "execute_result"
    }
   ],
   "source": [
    "file1= work_dir + 'Phase_1_Memoris/Result_eau_Piezometers.csv' # 2\n",
    "file2= work_dir + 'Memoris_seafile/Result_eau_Piezometers.csv' # 1  \n",
    "\n",
    "df1, df2 = create_df([file1, file2])\n",
    "dataframe_viewer(df1, rows=3, un_val='ID', view=t), dataframe_viewer(df2, rows=3, un_val='ID', view=t)"
   ]
  },
  {
   "cell_type": "code",
   "execution_count": 12,
   "id": "aba3d71c",
   "metadata": {},
   "outputs": [
    {
     "name": "stdout",
     "output_type": "stream",
     "text": [
      "0 duplicate objects fixed!\n"
     ]
    }
   ],
   "source": [
    "fix_duplicates(df1, df2, drop_old_id=True)"
   ]
  },
  {
   "cell_type": "code",
   "execution_count": 13,
   "id": "7de44a63",
   "metadata": {
    "scrolled": true
   },
   "outputs": [],
   "source": [
    "mdf, conflict_df=data_merger(df1, df2, how=how[1], on='ID', dist_max=1)"
   ]
  },
  {
   "cell_type": "markdown",
   "id": "1b144272",
   "metadata": {},
   "source": [
    "#### First object dataset save"
   ]
  },
  {
   "cell_type": "code",
   "execution_count": 14,
   "id": "d90786e2",
   "metadata": {},
   "outputs": [],
   "source": [
    "dataset = mdf.copy() #saving"
   ]
  },
  {
   "cell_type": "code",
   "execution_count": 15,
   "id": "8afa2a89",
   "metadata": {},
   "outputs": [
    {
     "name": "stdout",
     "output_type": "stream",
     "text": [
      "Rows : 42, columns : 11, Unique values on col 'ID': 42\n"
     ]
    },
    {
     "data": {
      "application/vnd.jupyter.widget-view+json": {
       "model_id": "69689a733e8e480d99187ba2915ee89b",
       "version_major": 2,
       "version_minor": 0
      },
      "text/plain": [
       "interactive(children=(IntSlider(value=3, description='rows', max=42, min=3, readout=False), IntSlider(value=11…"
      ]
     },
     "metadata": {},
     "output_type": "display_data"
    }
   ],
   "source": [
    "dataframe_viewer(dataset, rows=3, un_val='ID', view=t)"
   ]
  },
  {
   "cell_type": "markdown",
   "id": "b20fa9c5",
   "metadata": {},
   "source": [
    "#### $\\color{green}{\\textbf{Read and merge}}$"
   ]
  },
  {
   "cell_type": "code",
   "execution_count": 16,
   "id": "19d1144b",
   "metadata": {
    "scrolled": false
   },
   "outputs": [
    {
     "name": "stdout",
     "output_type": "stream",
     "text": [
      "df1 :  --> Coordinates\n",
      "df1 :  --> Coordinates\n",
      "Rows : 117, columns : 13, Unique values on col 'ID': 117\n"
     ]
    },
    {
     "data": {
      "application/vnd.jupyter.widget-view+json": {
       "model_id": "ebac357b4f374dd2a0b9b0e5b3371eb7",
       "version_major": 2,
       "version_minor": 0
      },
      "text/plain": [
       "interactive(children=(IntSlider(value=3, description='rows', max=117, min=3, readout=False), IntSlider(value=1…"
      ]
     },
     "metadata": {},
     "output_type": "display_data"
    },
    {
     "name": "stdout",
     "output_type": "stream",
     "text": [
      "Rows : 257, columns : 6, Unique values on col 'ID': 254\n"
     ]
    },
    {
     "data": {
      "application/vnd.jupyter.widget-view+json": {
       "model_id": "f4526260a97e4c64a0e69bd5d569e71e",
       "version_major": 2,
       "version_minor": 0
      },
      "text/plain": [
       "interactive(children=(IntSlider(value=3, description='rows', max=257, min=3, readout=False), IntSlider(value=6…"
      ]
     },
     "metadata": {},
     "output_type": "display_data"
    },
    {
     "data": {
      "text/plain": [
       "(None, None)"
      ]
     },
     "execution_count": 16,
     "metadata": {},
     "output_type": "execute_result"
    }
   ],
   "source": [
    "file1= work_dir + 'database_Memoris3/Donnees_piezos_Piezometers.csv' # 4\n",
    "file2= work_dir + 'Liste_XY/Sol_Eau_Piezometers.csv' # 0  \n",
    "\n",
    "\n",
    "df1, df2 = create_df([file1, file2])\n",
    "dataframe_viewer(df1, rows=3, un_val='ID', view=t), dataframe_viewer(df2, rows=3, un_val='ID', view=t)"
   ]
  },
  {
   "cell_type": "code",
   "execution_count": 17,
   "id": "ffbe83a5",
   "metadata": {},
   "outputs": [
    {
     "name": "stdout",
     "output_type": "stream",
     "text": [
      "some data must be checked !\n",
      "Rows : 117 ; Columns : 13 ; Unique on 'ID' : 104 ; \n"
     ]
    }
   ],
   "source": [
    "df1, check1 = data_filter(df1, position=True, id_col='ID', expression='sup|prof', dist_max=1, drop=True, drop_old_id=True)"
   ]
  },
  {
   "cell_type": "code",
   "execution_count": 18,
   "id": "ccb34ec6",
   "metadata": {},
   "outputs": [
    {
     "name": "stdout",
     "output_type": "stream",
     "text": [
      "some data must be checked !\n",
      "Rows : 257 ; Columns : 6 ; Unique on 'ID' : 245 ; \n"
     ]
    }
   ],
   "source": [
    "df2, check2 = data_filter(df2, position=True, id_col='ID', expression='sup|prof', dist_max=1, drop=True)"
   ]
  },
  {
   "cell_type": "code",
   "execution_count": 19,
   "id": "2ab30920",
   "metadata": {},
   "outputs": [
    {
     "data": {
      "text/html": [
       "<div>\n",
       "<style scoped>\n",
       "    .dataframe tbody tr th:only-of-type {\n",
       "        vertical-align: middle;\n",
       "    }\n",
       "\n",
       "    .dataframe tbody tr th {\n",
       "        vertical-align: top;\n",
       "    }\n",
       "\n",
       "    .dataframe thead th {\n",
       "        text-align: right;\n",
       "    }\n",
       "</style>\n",
       "<table border=\"1\" class=\"dataframe\">\n",
       "  <thead>\n",
       "    <tr style=\"text-align: right;\">\n",
       "      <th></th>\n",
       "      <th>ID</th>\n",
       "      <th>Nappe</th>\n",
       "      <th>X</th>\n",
       "      <th>Y</th>\n",
       "      <th>Type_ech</th>\n",
       "      <th>Type</th>\n",
       "    </tr>\n",
       "  </thead>\n",
       "  <tbody>\n",
       "    <tr>\n",
       "      <th>0</th>\n",
       "      <td>160</td>\n",
       "      <td>Socle</td>\n",
       "      <td>152395.000</td>\n",
       "      <td>122839.000</td>\n",
       "      <td>Eau</td>\n",
       "      <td>Piezo</td>\n",
       "    </tr>\n",
       "    <tr>\n",
       "      <th>1</th>\n",
       "      <td>160</td>\n",
       "      <td>Socle</td>\n",
       "      <td>152395.000</td>\n",
       "      <td>122839.000</td>\n",
       "      <td>Eau</td>\n",
       "      <td>Piezo</td>\n",
       "    </tr>\n",
       "    <tr>\n",
       "      <th>2</th>\n",
       "      <td>502</td>\n",
       "      <td>Socle</td>\n",
       "      <td>152365.000</td>\n",
       "      <td>122855.000</td>\n",
       "      <td>Eau</td>\n",
       "      <td>Piezo</td>\n",
       "    </tr>\n",
       "    <tr>\n",
       "      <th>3</th>\n",
       "      <td>502</td>\n",
       "      <td>Alluvions</td>\n",
       "      <td>152366.396</td>\n",
       "      <td>122857.132</td>\n",
       "      <td>Eau</td>\n",
       "      <td>Piezo</td>\n",
       "    </tr>\n",
       "    <tr>\n",
       "      <th>4</th>\n",
       "      <td>508</td>\n",
       "      <td>Socle</td>\n",
       "      <td>152467.000</td>\n",
       "      <td>122850.000</td>\n",
       "      <td>Eau</td>\n",
       "      <td>Piezo</td>\n",
       "    </tr>\n",
       "    <tr>\n",
       "      <th>...</th>\n",
       "      <td>...</td>\n",
       "      <td>...</td>\n",
       "      <td>...</td>\n",
       "      <td>...</td>\n",
       "      <td>...</td>\n",
       "      <td>...</td>\n",
       "    </tr>\n",
       "    <tr>\n",
       "      <th>252</th>\n",
       "      <td>520</td>\n",
       "      <td>NaN</td>\n",
       "      <td>152644.000</td>\n",
       "      <td>122791.000</td>\n",
       "      <td>Sol</td>\n",
       "      <td>Piezo</td>\n",
       "    </tr>\n",
       "    <tr>\n",
       "      <th>253</th>\n",
       "      <td>524</td>\n",
       "      <td>NaN</td>\n",
       "      <td>152570.000</td>\n",
       "      <td>122789.000</td>\n",
       "      <td>Sol</td>\n",
       "      <td>Piezo</td>\n",
       "    </tr>\n",
       "    <tr>\n",
       "      <th>254</th>\n",
       "      <td>525</td>\n",
       "      <td>NaN</td>\n",
       "      <td>152548.000</td>\n",
       "      <td>122783.000</td>\n",
       "      <td>Sol</td>\n",
       "      <td>Piezo</td>\n",
       "    </tr>\n",
       "    <tr>\n",
       "      <th>255</th>\n",
       "      <td>526</td>\n",
       "      <td>NaN</td>\n",
       "      <td>152553.000</td>\n",
       "      <td>122757.000</td>\n",
       "      <td>Sol</td>\n",
       "      <td>Piezo</td>\n",
       "    </tr>\n",
       "    <tr>\n",
       "      <th>256</th>\n",
       "      <td>FP117</td>\n",
       "      <td>NaN</td>\n",
       "      <td>152750.000</td>\n",
       "      <td>122781.000</td>\n",
       "      <td>Sol</td>\n",
       "      <td>Piezo</td>\n",
       "    </tr>\n",
       "  </tbody>\n",
       "</table>\n",
       "<p>257 rows × 6 columns</p>\n",
       "</div>"
      ],
      "text/plain": [
       "        ID      Nappe           X           Y Type_ech   Type\n",
       "0      160      Socle  152395.000  122839.000      Eau  Piezo\n",
       "1      160      Socle  152395.000  122839.000      Eau  Piezo\n",
       "2      502      Socle  152365.000  122855.000      Eau  Piezo\n",
       "3      502  Alluvions  152366.396  122857.132      Eau  Piezo\n",
       "4      508      Socle  152467.000  122850.000      Eau  Piezo\n",
       "..     ...        ...         ...         ...      ...    ...\n",
       "252    520        NaN  152644.000  122791.000      Sol  Piezo\n",
       "253    524        NaN  152570.000  122789.000      Sol  Piezo\n",
       "254    525        NaN  152548.000  122783.000      Sol  Piezo\n",
       "255    526        NaN  152553.000  122757.000      Sol  Piezo\n",
       "256  FP117        NaN  152750.000  122781.000      Sol  Piezo\n",
       "\n",
       "[257 rows x 6 columns]"
      ]
     },
     "execution_count": 19,
     "metadata": {},
     "output_type": "execute_result"
    }
   ],
   "source": [
    "df2"
   ]
  },
  {
   "cell_type": "code",
   "execution_count": 20,
   "id": "aca154f6",
   "metadata": {},
   "outputs": [
    {
     "name": "stdout",
     "output_type": "stream",
     "text": [
      "0 duplicate objects fixed!\n"
     ]
    }
   ],
   "source": [
    "fix_duplicates(df1, df2)"
   ]
  },
  {
   "cell_type": "code",
   "execution_count": 21,
   "id": "fee6d13a",
   "metadata": {
    "scrolled": true
   },
   "outputs": [
    {
     "name": "stdout",
     "output_type": "stream",
     "text": [
      "Conflict values present. Please resolve this manually !\n"
     ]
    }
   ],
   "source": [
    "mdf, conflict_df=data_merger(df1, df2, how=how[1], on='ID', dist_max=1)"
   ]
  },
  {
   "cell_type": "markdown",
   "id": "8db0ebd9",
   "metadata": {},
   "source": [
    "#### $\\color{blue}{\\textbf{Manage conflicts}}$"
   ]
  },
  {
   "cell_type": "code",
   "execution_count": 22,
   "id": "d004cbd2",
   "metadata": {
    "scrolled": true
   },
   "outputs": [
    {
     "data": {
      "text/html": [
       "<div>\n",
       "<style scoped>\n",
       "    .dataframe tbody tr th:only-of-type {\n",
       "        vertical-align: middle;\n",
       "    }\n",
       "\n",
       "    .dataframe tbody tr th {\n",
       "        vertical-align: top;\n",
       "    }\n",
       "\n",
       "    .dataframe thead th {\n",
       "        text-align: right;\n",
       "    }\n",
       "</style>\n",
       "<table border=\"1\" class=\"dataframe\">\n",
       "  <thead>\n",
       "    <tr style=\"text-align: right;\">\n",
       "      <th></th>\n",
       "      <th>Check_col</th>\n",
       "      <th>ID</th>\n",
       "      <th>Nappe_x</th>\n",
       "      <th>Nappe_y</th>\n",
       "    </tr>\n",
       "  </thead>\n",
       "  <tbody>\n",
       "    <tr>\n",
       "      <th>64</th>\n",
       "      <td>Nappe</td>\n",
       "      <td>FP49</td>\n",
       "      <td>Remblai_All</td>\n",
       "      <td>Socle</td>\n",
       "    </tr>\n",
       "    <tr>\n",
       "      <th>65</th>\n",
       "      <td>Nappe</td>\n",
       "      <td>FP49</td>\n",
       "      <td>Remblai_All</td>\n",
       "      <td>Socle</td>\n",
       "    </tr>\n",
       "    <tr>\n",
       "      <th>72</th>\n",
       "      <td>Nappe</td>\n",
       "      <td>FP14</td>\n",
       "      <td>All_limoneuses_graveleuses</td>\n",
       "      <td>Alluvions</td>\n",
       "    </tr>\n",
       "    <tr>\n",
       "      <th>73</th>\n",
       "      <td>Nappe</td>\n",
       "      <td>FP14</td>\n",
       "      <td>All_limoneuses_graveleuses</td>\n",
       "      <td>Alluvions</td>\n",
       "    </tr>\n",
       "    <tr>\n",
       "      <th>74</th>\n",
       "      <td>Nappe</td>\n",
       "      <td>FP14</td>\n",
       "      <td>Remblais</td>\n",
       "      <td>Alluvions</td>\n",
       "    </tr>\n",
       "    <tr>\n",
       "      <th>75</th>\n",
       "      <td>Nappe</td>\n",
       "      <td>FP14</td>\n",
       "      <td>Remblais</td>\n",
       "      <td>Alluvions</td>\n",
       "    </tr>\n",
       "    <tr>\n",
       "      <th>81</th>\n",
       "      <td>Nappe</td>\n",
       "      <td>FP63</td>\n",
       "      <td>Remblais</td>\n",
       "      <td>Socle</td>\n",
       "    </tr>\n",
       "    <tr>\n",
       "      <th>82</th>\n",
       "      <td>Nappe</td>\n",
       "      <td>FP63</td>\n",
       "      <td>Remblais</td>\n",
       "      <td>Socle</td>\n",
       "    </tr>\n",
       "    <tr>\n",
       "      <th>85</th>\n",
       "      <td>Nappe</td>\n",
       "      <td>FP76</td>\n",
       "      <td>Remblais</td>\n",
       "      <td>Socle</td>\n",
       "    </tr>\n",
       "    <tr>\n",
       "      <th>86</th>\n",
       "      <td>Nappe</td>\n",
       "      <td>FP76</td>\n",
       "      <td>Remblais</td>\n",
       "      <td>Socle</td>\n",
       "    </tr>\n",
       "    <tr>\n",
       "      <th>88</th>\n",
       "      <td>Nappe</td>\n",
       "      <td>501</td>\n",
       "      <td>Remblai_All</td>\n",
       "      <td>remblais</td>\n",
       "    </tr>\n",
       "    <tr>\n",
       "      <th>90</th>\n",
       "      <td>Nappe</td>\n",
       "      <td>509</td>\n",
       "      <td>All_limoneuse</td>\n",
       "      <td>Alluvions</td>\n",
       "    </tr>\n",
       "    <tr>\n",
       "      <th>91</th>\n",
       "      <td>Nappe</td>\n",
       "      <td>510</td>\n",
       "      <td>All_limoneuse</td>\n",
       "      <td>Alluvions</td>\n",
       "    </tr>\n",
       "    <tr>\n",
       "      <th>92</th>\n",
       "      <td>Nappe</td>\n",
       "      <td>511</td>\n",
       "      <td>Remblai_All</td>\n",
       "      <td>remblais</td>\n",
       "    </tr>\n",
       "    <tr>\n",
       "      <th>94</th>\n",
       "      <td>Nappe</td>\n",
       "      <td>513</td>\n",
       "      <td>Remblai_All</td>\n",
       "      <td>remblais</td>\n",
       "    </tr>\n",
       "    <tr>\n",
       "      <th>96</th>\n",
       "      <td>Nappe</td>\n",
       "      <td>528</td>\n",
       "      <td>Remblai_All</td>\n",
       "      <td>remblais</td>\n",
       "    </tr>\n",
       "    <tr>\n",
       "      <th>98</th>\n",
       "      <td>Nappe</td>\n",
       "      <td>522</td>\n",
       "      <td>Remblai_All</td>\n",
       "      <td>remblais</td>\n",
       "    </tr>\n",
       "    <tr>\n",
       "      <th>104</th>\n",
       "      <td>Nappe</td>\n",
       "      <td>534</td>\n",
       "      <td>All_limoneuse</td>\n",
       "      <td>Alluvions</td>\n",
       "    </tr>\n",
       "    <tr>\n",
       "      <th>110</th>\n",
       "      <td>Nappe</td>\n",
       "      <td>537</td>\n",
       "      <td>All_limoneuse</td>\n",
       "      <td>Alluvions</td>\n",
       "    </tr>\n",
       "    <tr>\n",
       "      <th>111</th>\n",
       "      <td>Nappe</td>\n",
       "      <td>536</td>\n",
       "      <td>All_limoneuse</td>\n",
       "      <td>Alluvions</td>\n",
       "    </tr>\n",
       "    <tr>\n",
       "      <th>112</th>\n",
       "      <td>Nappe</td>\n",
       "      <td>543</td>\n",
       "      <td>All_limoneuse</td>\n",
       "      <td>Alluvions</td>\n",
       "    </tr>\n",
       "    <tr>\n",
       "      <th>122</th>\n",
       "      <td>Nappe</td>\n",
       "      <td>539</td>\n",
       "      <td>All_limoneuse</td>\n",
       "      <td>Alluvions</td>\n",
       "    </tr>\n",
       "    <tr>\n",
       "      <th>124</th>\n",
       "      <td>Nappe</td>\n",
       "      <td>533</td>\n",
       "      <td>All_limoneuses_graveleuses</td>\n",
       "      <td>Alluvions</td>\n",
       "    </tr>\n",
       "    <tr>\n",
       "      <th>127</th>\n",
       "      <td>Nappe</td>\n",
       "      <td>502</td>\n",
       "      <td>All_limoneuses_graveleuses</td>\n",
       "      <td>Socle</td>\n",
       "    </tr>\n",
       "    <tr>\n",
       "      <th>129</th>\n",
       "      <td>Nappe</td>\n",
       "      <td>512</td>\n",
       "      <td>Remblai_All</td>\n",
       "      <td>Socle</td>\n",
       "    </tr>\n",
       "    <tr>\n",
       "      <th>132</th>\n",
       "      <td>Nappe</td>\n",
       "      <td>595</td>\n",
       "      <td>Socle</td>\n",
       "      <td>Alluvions</td>\n",
       "    </tr>\n",
       "    <tr>\n",
       "      <th>133</th>\n",
       "      <td>Nappe</td>\n",
       "      <td>595</td>\n",
       "      <td>All_limoneuses_graveleuses</td>\n",
       "      <td>Alluvions</td>\n",
       "    </tr>\n",
       "    <tr>\n",
       "      <th>134</th>\n",
       "      <td>Nappe</td>\n",
       "      <td>595</td>\n",
       "      <td>Remblais</td>\n",
       "      <td>Alluvions</td>\n",
       "    </tr>\n",
       "    <tr>\n",
       "      <th>135</th>\n",
       "      <td>Nappe</td>\n",
       "      <td>540</td>\n",
       "      <td>All_limoneuse</td>\n",
       "      <td>remblais</td>\n",
       "    </tr>\n",
       "    <tr>\n",
       "      <th>136</th>\n",
       "      <td>Nappe</td>\n",
       "      <td>540</td>\n",
       "      <td>All_limoneuse</td>\n",
       "      <td>Alluvions</td>\n",
       "    </tr>\n",
       "    <tr>\n",
       "      <th>138</th>\n",
       "      <td>Nappe</td>\n",
       "      <td>540</td>\n",
       "      <td>Remblais</td>\n",
       "      <td>Alluvions</td>\n",
       "    </tr>\n",
       "  </tbody>\n",
       "</table>\n",
       "</div>"
      ],
      "text/plain": [
       "    Check_col    ID                     Nappe_x    Nappe_y\n",
       "64      Nappe  FP49                 Remblai_All      Socle\n",
       "65      Nappe  FP49                 Remblai_All      Socle\n",
       "72      Nappe  FP14  All_limoneuses_graveleuses  Alluvions\n",
       "73      Nappe  FP14  All_limoneuses_graveleuses  Alluvions\n",
       "74      Nappe  FP14                    Remblais  Alluvions\n",
       "75      Nappe  FP14                    Remblais  Alluvions\n",
       "81      Nappe  FP63                    Remblais      Socle\n",
       "82      Nappe  FP63                    Remblais      Socle\n",
       "85      Nappe  FP76                    Remblais      Socle\n",
       "86      Nappe  FP76                    Remblais      Socle\n",
       "88      Nappe   501                 Remblai_All   remblais\n",
       "90      Nappe   509               All_limoneuse  Alluvions\n",
       "91      Nappe   510               All_limoneuse  Alluvions\n",
       "92      Nappe   511                 Remblai_All   remblais\n",
       "94      Nappe   513                 Remblai_All   remblais\n",
       "96      Nappe   528                 Remblai_All   remblais\n",
       "98      Nappe   522                 Remblai_All   remblais\n",
       "104     Nappe   534               All_limoneuse  Alluvions\n",
       "110     Nappe   537               All_limoneuse  Alluvions\n",
       "111     Nappe   536               All_limoneuse  Alluvions\n",
       "112     Nappe   543               All_limoneuse  Alluvions\n",
       "122     Nappe   539               All_limoneuse  Alluvions\n",
       "124     Nappe   533  All_limoneuses_graveleuses  Alluvions\n",
       "127     Nappe   502  All_limoneuses_graveleuses      Socle\n",
       "129     Nappe   512                 Remblai_All      Socle\n",
       "132     Nappe   595                       Socle  Alluvions\n",
       "133     Nappe   595  All_limoneuses_graveleuses  Alluvions\n",
       "134     Nappe   595                    Remblais  Alluvions\n",
       "135     Nappe   540               All_limoneuse   remblais\n",
       "136     Nappe   540               All_limoneuse  Alluvions\n",
       "138     Nappe   540                    Remblais  Alluvions"
      ]
     },
     "execution_count": 22,
     "metadata": {},
     "output_type": "execute_result"
    }
   ],
   "source": [
    "conflict_df"
   ]
  },
  {
   "cell_type": "code",
   "execution_count": 23,
   "id": "9c0a61e6",
   "metadata": {},
   "outputs": [
    {
     "name": "stdout",
     "output_type": "stream",
     "text": [
      "Validation done, but conflicts remain!\n"
     ]
    }
   ],
   "source": [
    "data_validation(overall_data=mdf, conflict_data=conflict_df, index_col='index', \n",
    "                valid_dict={'Nappe_y':list(conflict_df.index)[:18]})"
   ]
  },
  {
   "cell_type": "code",
   "execution_count": 24,
   "id": "86e97ea2",
   "metadata": {
    "scrolled": true
   },
   "outputs": [
    {
     "data": {
      "text/html": [
       "<div>\n",
       "<style scoped>\n",
       "    .dataframe tbody tr th:only-of-type {\n",
       "        vertical-align: middle;\n",
       "    }\n",
       "\n",
       "    .dataframe tbody tr th {\n",
       "        vertical-align: top;\n",
       "    }\n",
       "\n",
       "    .dataframe thead th {\n",
       "        text-align: right;\n",
       "    }\n",
       "</style>\n",
       "<table border=\"1\" class=\"dataframe\">\n",
       "  <thead>\n",
       "    <tr style=\"text-align: right;\">\n",
       "      <th></th>\n",
       "      <th>Check_col</th>\n",
       "      <th>ID</th>\n",
       "      <th>Nappe_x</th>\n",
       "      <th>Nappe_y</th>\n",
       "    </tr>\n",
       "  </thead>\n",
       "  <tbody>\n",
       "    <tr>\n",
       "      <th>110</th>\n",
       "      <td>Nappe</td>\n",
       "      <td>537</td>\n",
       "      <td>All_limoneuse</td>\n",
       "      <td>Alluvions</td>\n",
       "    </tr>\n",
       "    <tr>\n",
       "      <th>111</th>\n",
       "      <td>Nappe</td>\n",
       "      <td>536</td>\n",
       "      <td>All_limoneuse</td>\n",
       "      <td>Alluvions</td>\n",
       "    </tr>\n",
       "    <tr>\n",
       "      <th>112</th>\n",
       "      <td>Nappe</td>\n",
       "      <td>543</td>\n",
       "      <td>All_limoneuse</td>\n",
       "      <td>Alluvions</td>\n",
       "    </tr>\n",
       "    <tr>\n",
       "      <th>122</th>\n",
       "      <td>Nappe</td>\n",
       "      <td>539</td>\n",
       "      <td>All_limoneuse</td>\n",
       "      <td>Alluvions</td>\n",
       "    </tr>\n",
       "    <tr>\n",
       "      <th>124</th>\n",
       "      <td>Nappe</td>\n",
       "      <td>533</td>\n",
       "      <td>All_limoneuses_graveleuses</td>\n",
       "      <td>Alluvions</td>\n",
       "    </tr>\n",
       "    <tr>\n",
       "      <th>127</th>\n",
       "      <td>Nappe</td>\n",
       "      <td>502</td>\n",
       "      <td>All_limoneuses_graveleuses</td>\n",
       "      <td>Socle</td>\n",
       "    </tr>\n",
       "    <tr>\n",
       "      <th>129</th>\n",
       "      <td>Nappe</td>\n",
       "      <td>512</td>\n",
       "      <td>Remblai_All</td>\n",
       "      <td>Socle</td>\n",
       "    </tr>\n",
       "    <tr>\n",
       "      <th>132</th>\n",
       "      <td>Nappe</td>\n",
       "      <td>595</td>\n",
       "      <td>Socle</td>\n",
       "      <td>Alluvions</td>\n",
       "    </tr>\n",
       "    <tr>\n",
       "      <th>133</th>\n",
       "      <td>Nappe</td>\n",
       "      <td>595</td>\n",
       "      <td>All_limoneuses_graveleuses</td>\n",
       "      <td>Alluvions</td>\n",
       "    </tr>\n",
       "    <tr>\n",
       "      <th>134</th>\n",
       "      <td>Nappe</td>\n",
       "      <td>595</td>\n",
       "      <td>Remblais</td>\n",
       "      <td>Alluvions</td>\n",
       "    </tr>\n",
       "    <tr>\n",
       "      <th>135</th>\n",
       "      <td>Nappe</td>\n",
       "      <td>540</td>\n",
       "      <td>All_limoneuse</td>\n",
       "      <td>remblais</td>\n",
       "    </tr>\n",
       "    <tr>\n",
       "      <th>136</th>\n",
       "      <td>Nappe</td>\n",
       "      <td>540</td>\n",
       "      <td>All_limoneuse</td>\n",
       "      <td>Alluvions</td>\n",
       "    </tr>\n",
       "    <tr>\n",
       "      <th>138</th>\n",
       "      <td>Nappe</td>\n",
       "      <td>540</td>\n",
       "      <td>Remblais</td>\n",
       "      <td>Alluvions</td>\n",
       "    </tr>\n",
       "  </tbody>\n",
       "</table>\n",
       "</div>"
      ],
      "text/plain": [
       "    Check_col   ID                     Nappe_x    Nappe_y\n",
       "110     Nappe  537               All_limoneuse  Alluvions\n",
       "111     Nappe  536               All_limoneuse  Alluvions\n",
       "112     Nappe  543               All_limoneuse  Alluvions\n",
       "122     Nappe  539               All_limoneuse  Alluvions\n",
       "124     Nappe  533  All_limoneuses_graveleuses  Alluvions\n",
       "127     Nappe  502  All_limoneuses_graveleuses      Socle\n",
       "129     Nappe  512                 Remblai_All      Socle\n",
       "132     Nappe  595                       Socle  Alluvions\n",
       "133     Nappe  595  All_limoneuses_graveleuses  Alluvions\n",
       "134     Nappe  595                    Remblais  Alluvions\n",
       "135     Nappe  540               All_limoneuse   remblais\n",
       "136     Nappe  540               All_limoneuse  Alluvions\n",
       "138     Nappe  540                    Remblais  Alluvions"
      ]
     },
     "execution_count": 24,
     "metadata": {},
     "output_type": "execute_result"
    }
   ],
   "source": [
    "conflict_df"
   ]
  },
  {
   "cell_type": "markdown",
   "id": "60bdca97",
   "metadata": {},
   "source": [
    "#### Merge with object dataset"
   ]
  },
  {
   "cell_type": "code",
   "execution_count": 25,
   "id": "a9294e8e",
   "metadata": {
    "scrolled": true
   },
   "outputs": [],
   "source": [
    "dataset, conflict_df=data_merger(dataset, mdf, how=how[1], on='ID', dist_max=1)"
   ]
  },
  {
   "cell_type": "code",
   "execution_count": 26,
   "id": "0db2f535",
   "metadata": {},
   "outputs": [],
   "source": [
    "if 'level_0' in dataset.columns:\n",
    "    if 'index' in dataset.columns:\n",
    "        dataset.drop(columns='index', inplace=True)\n",
    "    dataset.rename(columns={'level_0':'index'}, inplace=True)"
   ]
  },
  {
   "cell_type": "code",
   "execution_count": 27,
   "id": "33010411",
   "metadata": {
    "scrolled": true
   },
   "outputs": [
    {
     "name": "stdout",
     "output_type": "stream",
     "text": [
      "Rows : 409, columns : 20, Unique values on col 'ID': 360\n"
     ]
    },
    {
     "data": {
      "application/vnd.jupyter.widget-view+json": {
       "model_id": "17d6a1fd2c1a42928068d91689cf8be7",
       "version_major": 2,
       "version_minor": 0
      },
      "text/plain": [
       "interactive(children=(IntSlider(value=10, description='rows', max=409, min=10, readout=False), IntSlider(value…"
      ]
     },
     "metadata": {},
     "output_type": "display_data"
    }
   ],
   "source": [
    "dataframe_viewer(dataset, rows=10, un_val='ID', view=t)"
   ]
  },
  {
   "cell_type": "markdown",
   "id": "321cd531",
   "metadata": {},
   "source": [
    "#### $\\color{green}{\\textbf{Read and merge}}$"
   ]
  },
  {
   "cell_type": "code",
   "execution_count": 28,
   "id": "0a3cd181",
   "metadata": {
    "scrolled": false
   },
   "outputs": [
    {
     "name": "stdout",
     "output_type": "stream",
     "text": [
      "df1 :  --> Coordinates\n",
      "df1 :  --> Coordinates\n",
      "Rows : 10, columns : 9, Unique values on col 'ID': 10\n"
     ]
    },
    {
     "data": {
      "application/vnd.jupyter.widget-view+json": {
       "model_id": "846aa4e6a6bc4cdeadbc2cc3df60b610",
       "version_major": 2,
       "version_minor": 0
      },
      "text/plain": [
       "interactive(children=(IntSlider(value=3, description='rows', max=10, min=3, readout=False), IntSlider(value=9,…"
      ]
     },
     "metadata": {},
     "output_type": "display_data"
    },
    {
     "name": "stdout",
     "output_type": "stream",
     "text": [
      "Rows : 6, columns : 6, Unique values on col 'ID': 6\n"
     ]
    },
    {
     "data": {
      "application/vnd.jupyter.widget-view+json": {
       "model_id": "662a1d6e89184dd59f895e277aa31efd",
       "version_major": 2,
       "version_minor": 0
      },
      "text/plain": [
       "interactive(children=(IntSlider(value=3, description='rows', max=6, min=3, readout=False), IntSlider(value=6, …"
      ]
     },
     "metadata": {},
     "output_type": "display_data"
    },
    {
     "data": {
      "text/plain": [
       "(None, None)"
      ]
     },
     "execution_count": 28,
     "metadata": {},
     "output_type": "execute_result"
    }
   ],
   "source": [
    "file1= work_dir + 'Phase_2_Memoris/Result_eau_Piezometers.csv' # 3\n",
    "file2= work_dir + 'database_Memoris3/Drains_Pz_ENEL_Piezometers.csv' # 5  \n",
    "\n",
    "\n",
    "df1, df2 = create_df([file1, file2])\n",
    "dataframe_viewer(df1, rows=3, un_val='ID', view=t), dataframe_viewer(df2, rows=3, un_val='ID', view=t)"
   ]
  },
  {
   "cell_type": "code",
   "execution_count": 29,
   "id": "78549fa1",
   "metadata": {
    "scrolled": true
   },
   "outputs": [],
   "source": [
    "mdf, conflict_df=data_merger(df1, df2, how=how[1], on='ID', dist_max=1)"
   ]
  },
  {
   "cell_type": "markdown",
   "id": "ff4c8590",
   "metadata": {},
   "source": [
    "#### Merge with object dataset"
   ]
  },
  {
   "cell_type": "code",
   "execution_count": 30,
   "id": "7e9cb072",
   "metadata": {
    "scrolled": true
   },
   "outputs": [],
   "source": [
    "dataset, conflict_df=data_merger(dataset, mdf, how=how[1], on='ID', dist_max=1)"
   ]
  },
  {
   "cell_type": "code",
   "execution_count": 31,
   "id": "2b3c0457",
   "metadata": {},
   "outputs": [],
   "source": [
    "if 'level_0' in dataset.columns:\n",
    "    if 'index' in dataset.columns:\n",
    "        dataset.drop(columns='index', inplace=True)\n",
    "    dataset.rename(columns={'level_0':'index'}, inplace=True)"
   ]
  },
  {
   "cell_type": "code",
   "execution_count": 32,
   "id": "b3621f91",
   "metadata": {
    "scrolled": false
   },
   "outputs": [
    {
     "name": "stdout",
     "output_type": "stream",
     "text": [
      "Rows : 420, columns : 21, Unique values on col 'ID': 369\n"
     ]
    },
    {
     "data": {
      "application/vnd.jupyter.widget-view+json": {
       "model_id": "41511cc0653746c7b168aae870319cdd",
       "version_major": 2,
       "version_minor": 0
      },
      "text/plain": [
       "interactive(children=(IntSlider(value=10, description='rows', max=420, min=10, readout=False), IntSlider(value…"
      ]
     },
     "metadata": {},
     "output_type": "display_data"
    }
   ],
   "source": [
    "dataframe_viewer(dataset, rows=10, un_val='ID', view=t)"
   ]
  },
  {
   "cell_type": "markdown",
   "id": "506e15b2",
   "metadata": {},
   "source": [
    "#### $\\color{green}{\\textbf{Read and merge}}$"
   ]
  },
  {
   "cell_type": "code",
   "execution_count": 33,
   "id": "bc90adef",
   "metadata": {
    "scrolled": false
   },
   "outputs": [
    {
     "name": "stdout",
     "output_type": "stream",
     "text": [
      "df1 :  --> Coordinates\n",
      "df1 :  --> Coordinates\n",
      "Rows : 3, columns : 18, Unique values on col 'ID': 3\n"
     ]
    },
    {
     "data": {
      "application/vnd.jupyter.widget-view+json": {
       "model_id": "f03056e545064f9a8bd939df02bbd650",
       "version_major": 2,
       "version_minor": 0
      },
      "text/plain": [
       "interactive(children=(IntSlider(value=3, description='rows', max=3, min=3, readout=False), IntSlider(value=12,…"
      ]
     },
     "metadata": {},
     "output_type": "display_data"
    },
    {
     "name": "stdout",
     "output_type": "stream",
     "text": [
      "Rows : 117, columns : 13, Unique values on col 'ID': 117\n"
     ]
    },
    {
     "data": {
      "application/vnd.jupyter.widget-view+json": {
       "model_id": "873f4b99fd0b4c6d99a58740ccb97492",
       "version_major": 2,
       "version_minor": 0
      },
      "text/plain": [
       "interactive(children=(IntSlider(value=3, description='rows', max=117, min=3, readout=False), IntSlider(value=1…"
      ]
     },
     "metadata": {},
     "output_type": "display_data"
    },
    {
     "data": {
      "text/plain": [
       "(None, None)"
      ]
     },
     "execution_count": 33,
     "metadata": {},
     "output_type": "execute_result"
    }
   ],
   "source": [
    "file1= work_dir + 'donnees_terrain_2019/Donnees_forage_Piezometers.csv' # 9\n",
    "file2= work_dir + 'database_Memoris3/Result_eau_Piezometers.csv' # 7  \n",
    "\n",
    "df1, df2 = create_df([file1, file2])\n",
    "dataframe_viewer(df1, rows=3, un_val='ID', view=t), dataframe_viewer(df2, rows=3, un_val='ID', view=t)"
   ]
  },
  {
   "cell_type": "code",
   "execution_count": 34,
   "id": "1162d33a",
   "metadata": {},
   "outputs": [],
   "source": [
    "df1.ID = df1.ID.astype(str)\n",
    "df2.ID = df2.ID.astype(str)"
   ]
  },
  {
   "cell_type": "code",
   "execution_count": 35,
   "id": "faf68986",
   "metadata": {},
   "outputs": [
    {
     "name": "stdout",
     "output_type": "stream",
     "text": [
      "some data must be checked !\n",
      "Rows : 117 ; Columns : 13 ; Unique on 'ID' : 104 ; \n"
     ]
    }
   ],
   "source": [
    "df2, check = data_filter(df2, position=True, id_col='ID', expression='sup|prof', dist_max=1, drop=True, drop_old_id=True)"
   ]
  },
  {
   "cell_type": "code",
   "execution_count": 36,
   "id": "e15bc2b1",
   "metadata": {
    "scrolled": false
   },
   "outputs": [
    {
     "name": "stdout",
     "output_type": "stream",
     "text": [
      "Rows : 117, columns : 13, Unique values on col 'ID': 104\n"
     ]
    },
    {
     "data": {
      "application/vnd.jupyter.widget-view+json": {
       "model_id": "52bf138012f242f99b31b03e2f8a469e",
       "version_major": 2,
       "version_minor": 0
      },
      "text/plain": [
       "interactive(children=(IntSlider(value=10, description='rows', max=117, min=10, readout=False), IntSlider(value…"
      ]
     },
     "metadata": {},
     "output_type": "display_data"
    }
   ],
   "source": [
    "dataframe_viewer(df2, rows=10, un_val='ID', view=t)"
   ]
  },
  {
   "cell_type": "code",
   "execution_count": 37,
   "id": "ef9002dc",
   "metadata": {},
   "outputs": [
    {
     "name": "stdout",
     "output_type": "stream",
     "text": [
      "0 duplicate objects fixed!\n"
     ]
    }
   ],
   "source": [
    "fix_duplicates(df1, df2)"
   ]
  },
  {
   "cell_type": "code",
   "execution_count": 38,
   "id": "b73676a0",
   "metadata": {
    "scrolled": true
   },
   "outputs": [],
   "source": [
    "mdf, conflict_df=data_merger(df1, df2, how=how[1], on='ID', dist_max=1)"
   ]
  },
  {
   "cell_type": "markdown",
   "id": "2ec17765",
   "metadata": {},
   "source": [
    "#### Merge with object dataset"
   ]
  },
  {
   "cell_type": "code",
   "execution_count": 39,
   "id": "1334c6fd",
   "metadata": {
    "scrolled": true
   },
   "outputs": [
    {
     "name": "stdout",
     "output_type": "stream",
     "text": [
      "Conflict values present. Please resolve this manually !\n"
     ]
    }
   ],
   "source": [
    "dataset, conflict_df=data_merger(dataset, mdf, how=how[1], on='ID', dist_max=1)"
   ]
  },
  {
   "cell_type": "markdown",
   "id": "08568926",
   "metadata": {},
   "source": [
    "#### $\\color{blue}{\\textbf{Manage conflicts}}$"
   ]
  },
  {
   "cell_type": "code",
   "execution_count": 40,
   "id": "ab36d499",
   "metadata": {
    "scrolled": true
   },
   "outputs": [
    {
     "data": {
      "text/html": [
       "<div>\n",
       "<style scoped>\n",
       "    .dataframe tbody tr th:only-of-type {\n",
       "        vertical-align: middle;\n",
       "    }\n",
       "\n",
       "    .dataframe tbody tr th {\n",
       "        vertical-align: top;\n",
       "    }\n",
       "\n",
       "    .dataframe thead th {\n",
       "        text-align: right;\n",
       "    }\n",
       "</style>\n",
       "<table border=\"1\" class=\"dataframe\">\n",
       "  <thead>\n",
       "    <tr style=\"text-align: right;\">\n",
       "      <th></th>\n",
       "      <th>Check_col</th>\n",
       "      <th>ID</th>\n",
       "      <th>Nappe_x</th>\n",
       "      <th>Nappe_y</th>\n",
       "      <th>Long_crep_x</th>\n",
       "      <th>Long_crep_y</th>\n",
       "      <th>Long_pz_x</th>\n",
       "      <th>Long_pz_y</th>\n",
       "      <th>Diam_int_pz_x</th>\n",
       "      <th>Diam_int_pz_y</th>\n",
       "      <th>Zsol_x</th>\n",
       "      <th>Zsol_y</th>\n",
       "    </tr>\n",
       "  </thead>\n",
       "  <tbody>\n",
       "    <tr>\n",
       "      <th>101</th>\n",
       "      <td>Nappe, Long_crep</td>\n",
       "      <td>FP49</td>\n",
       "      <td>Socle</td>\n",
       "      <td>Remblai_All</td>\n",
       "      <td>8.0</td>\n",
       "      <td>5.0</td>\n",
       "      <td>NaN</td>\n",
       "      <td>NaN</td>\n",
       "      <td>41.0</td>\n",
       "      <td>41.0</td>\n",
       "      <td>NaN</td>\n",
       "      <td>NaN</td>\n",
       "    </tr>\n",
       "    <tr>\n",
       "      <th>103</th>\n",
       "      <td>Nappe, Long_crep</td>\n",
       "      <td>FP49</td>\n",
       "      <td>Socle</td>\n",
       "      <td>Remblai_All</td>\n",
       "      <td>8.0</td>\n",
       "      <td>5.0</td>\n",
       "      <td>NaN</td>\n",
       "      <td>NaN</td>\n",
       "      <td>41.0</td>\n",
       "      <td>41.0</td>\n",
       "      <td>NaN</td>\n",
       "      <td>NaN</td>\n",
       "    </tr>\n",
       "    <tr>\n",
       "      <th>104</th>\n",
       "      <td>Long_crep</td>\n",
       "      <td>FP49</td>\n",
       "      <td>NaN</td>\n",
       "      <td>Socle</td>\n",
       "      <td>5.0</td>\n",
       "      <td>8.0</td>\n",
       "      <td>NaN</td>\n",
       "      <td>NaN</td>\n",
       "      <td>41.0</td>\n",
       "      <td>41.0</td>\n",
       "      <td>NaN</td>\n",
       "      <td>NaN</td>\n",
       "    </tr>\n",
       "    <tr>\n",
       "      <th>106</th>\n",
       "      <td>Long_crep</td>\n",
       "      <td>FP49</td>\n",
       "      <td>Socle</td>\n",
       "      <td>Socle</td>\n",
       "      <td>5.0</td>\n",
       "      <td>8.0</td>\n",
       "      <td>NaN</td>\n",
       "      <td>NaN</td>\n",
       "      <td>41.0</td>\n",
       "      <td>41.0</td>\n",
       "      <td>NaN</td>\n",
       "      <td>NaN</td>\n",
       "    </tr>\n",
       "    <tr>\n",
       "      <th>107</th>\n",
       "      <td>Nappe</td>\n",
       "      <td>FP49</td>\n",
       "      <td>Socle</td>\n",
       "      <td>Remblai_All</td>\n",
       "      <td>5.0</td>\n",
       "      <td>5.0</td>\n",
       "      <td>NaN</td>\n",
       "      <td>NaN</td>\n",
       "      <td>41.0</td>\n",
       "      <td>41.0</td>\n",
       "      <td>NaN</td>\n",
       "      <td>NaN</td>\n",
       "    </tr>\n",
       "    <tr>\n",
       "      <th>114</th>\n",
       "      <td>Long_pz, Long_crep, Diam_int_pz</td>\n",
       "      <td>FP14</td>\n",
       "      <td>NaN</td>\n",
       "      <td>Remblais</td>\n",
       "      <td>2.0</td>\n",
       "      <td>4.0</td>\n",
       "      <td>7.225</td>\n",
       "      <td>4.301</td>\n",
       "      <td>41.0</td>\n",
       "      <td>25.0</td>\n",
       "      <td>102.320</td>\n",
       "      <td>102.320</td>\n",
       "    </tr>\n",
       "    <tr>\n",
       "      <th>116</th>\n",
       "      <td>Long_pz, Long_crep, Diam_int_pz</td>\n",
       "      <td>FP14</td>\n",
       "      <td>NaN</td>\n",
       "      <td>Remblais</td>\n",
       "      <td>2.0</td>\n",
       "      <td>4.0</td>\n",
       "      <td>7.225</td>\n",
       "      <td>4.301</td>\n",
       "      <td>41.0</td>\n",
       "      <td>25.0</td>\n",
       "      <td>102.320</td>\n",
       "      <td>102.320</td>\n",
       "    </tr>\n",
       "    <tr>\n",
       "      <th>117</th>\n",
       "      <td>Long_pz, Long_crep, Diam_int_pz</td>\n",
       "      <td>FP14</td>\n",
       "      <td>NaN</td>\n",
       "      <td>All_limoneuses_graveleuses</td>\n",
       "      <td>4.0</td>\n",
       "      <td>2.0</td>\n",
       "      <td>4.301</td>\n",
       "      <td>7.225</td>\n",
       "      <td>25.0</td>\n",
       "      <td>41.0</td>\n",
       "      <td>102.320</td>\n",
       "      <td>102.320</td>\n",
       "    </tr>\n",
       "    <tr>\n",
       "      <th>119</th>\n",
       "      <td>Long_pz, Long_crep, Diam_int_pz</td>\n",
       "      <td>FP14</td>\n",
       "      <td>NaN</td>\n",
       "      <td>All_limoneuses_graveleuses</td>\n",
       "      <td>4.0</td>\n",
       "      <td>2.0</td>\n",
       "      <td>4.301</td>\n",
       "      <td>7.225</td>\n",
       "      <td>25.0</td>\n",
       "      <td>41.0</td>\n",
       "      <td>102.320</td>\n",
       "      <td>102.320</td>\n",
       "    </tr>\n",
       "    <tr>\n",
       "      <th>122</th>\n",
       "      <td>Nappe, Long_pz, Long_crep, Diam_int_pz</td>\n",
       "      <td>FP160</td>\n",
       "      <td>Socle</td>\n",
       "      <td>Remblai_All</td>\n",
       "      <td>5.0</td>\n",
       "      <td>4.0</td>\n",
       "      <td>14.222</td>\n",
       "      <td>4.793</td>\n",
       "      <td>41.0</td>\n",
       "      <td>25.0</td>\n",
       "      <td>103.810</td>\n",
       "      <td>103.810</td>\n",
       "    </tr>\n",
       "    <tr>\n",
       "      <th>123</th>\n",
       "      <td>Nappe, Long_pz, Long_crep, Diam_int_pz</td>\n",
       "      <td>FP160</td>\n",
       "      <td>Remblai_All</td>\n",
       "      <td>Socle</td>\n",
       "      <td>4.0</td>\n",
       "      <td>5.0</td>\n",
       "      <td>4.793</td>\n",
       "      <td>14.222</td>\n",
       "      <td>25.0</td>\n",
       "      <td>41.0</td>\n",
       "      <td>103.810</td>\n",
       "      <td>103.810</td>\n",
       "    </tr>\n",
       "    <tr>\n",
       "      <th>126</th>\n",
       "      <td>Nappe, Long_pz, Long_crep</td>\n",
       "      <td>FP63</td>\n",
       "      <td>Socle</td>\n",
       "      <td>Remblais</td>\n",
       "      <td>2.0</td>\n",
       "      <td>3.0</td>\n",
       "      <td>14.472</td>\n",
       "      <td>3.357</td>\n",
       "      <td>41.0</td>\n",
       "      <td>41.0</td>\n",
       "      <td>102.803</td>\n",
       "      <td>102.803</td>\n",
       "    </tr>\n",
       "    <tr>\n",
       "      <th>128</th>\n",
       "      <td>Nappe, Long_pz, Long_crep</td>\n",
       "      <td>FP63</td>\n",
       "      <td>Socle</td>\n",
       "      <td>Remblais</td>\n",
       "      <td>2.0</td>\n",
       "      <td>3.0</td>\n",
       "      <td>14.472</td>\n",
       "      <td>3.357</td>\n",
       "      <td>41.0</td>\n",
       "      <td>41.0</td>\n",
       "      <td>102.803</td>\n",
       "      <td>102.803</td>\n",
       "    </tr>\n",
       "    <tr>\n",
       "      <th>129</th>\n",
       "      <td>Nappe, Long_pz, Long_crep</td>\n",
       "      <td>FP63</td>\n",
       "      <td>Alluvions</td>\n",
       "      <td>Socle</td>\n",
       "      <td>3.0</td>\n",
       "      <td>2.0</td>\n",
       "      <td>3.357</td>\n",
       "      <td>14.472</td>\n",
       "      <td>41.0</td>\n",
       "      <td>41.0</td>\n",
       "      <td>102.803</td>\n",
       "      <td>102.803</td>\n",
       "    </tr>\n",
       "    <tr>\n",
       "      <th>130</th>\n",
       "      <td>Nappe</td>\n",
       "      <td>FP63</td>\n",
       "      <td>Alluvions</td>\n",
       "      <td>Remblais</td>\n",
       "      <td>3.0</td>\n",
       "      <td>3.0</td>\n",
       "      <td>3.357</td>\n",
       "      <td>3.357</td>\n",
       "      <td>41.0</td>\n",
       "      <td>41.0</td>\n",
       "      <td>102.803</td>\n",
       "      <td>102.803</td>\n",
       "    </tr>\n",
       "    <tr>\n",
       "      <th>131</th>\n",
       "      <td>Nappe, Long_pz, Long_crep</td>\n",
       "      <td>FP63</td>\n",
       "      <td>Alluvions</td>\n",
       "      <td>Socle</td>\n",
       "      <td>3.0</td>\n",
       "      <td>2.0</td>\n",
       "      <td>3.357</td>\n",
       "      <td>14.472</td>\n",
       "      <td>41.0</td>\n",
       "      <td>41.0</td>\n",
       "      <td>102.803</td>\n",
       "      <td>102.803</td>\n",
       "    </tr>\n",
       "    <tr>\n",
       "      <th>132</th>\n",
       "      <td>Nappe</td>\n",
       "      <td>FP63</td>\n",
       "      <td>Alluvions</td>\n",
       "      <td>Remblais</td>\n",
       "      <td>3.0</td>\n",
       "      <td>3.0</td>\n",
       "      <td>3.357</td>\n",
       "      <td>3.357</td>\n",
       "      <td>41.0</td>\n",
       "      <td>41.0</td>\n",
       "      <td>102.803</td>\n",
       "      <td>102.803</td>\n",
       "    </tr>\n",
       "    <tr>\n",
       "      <th>134</th>\n",
       "      <td>Nappe, Long_pz</td>\n",
       "      <td>FP76</td>\n",
       "      <td>Socle</td>\n",
       "      <td>Remblais</td>\n",
       "      <td>5.0</td>\n",
       "      <td>5.0</td>\n",
       "      <td>18.550</td>\n",
       "      <td>6.503</td>\n",
       "      <td>41.0</td>\n",
       "      <td>41.0</td>\n",
       "      <td>102.730</td>\n",
       "      <td>102.730</td>\n",
       "    </tr>\n",
       "    <tr>\n",
       "      <th>136</th>\n",
       "      <td>Nappe, Long_pz</td>\n",
       "      <td>FP76</td>\n",
       "      <td>Socle</td>\n",
       "      <td>Remblais</td>\n",
       "      <td>5.0</td>\n",
       "      <td>5.0</td>\n",
       "      <td>18.550</td>\n",
       "      <td>6.503</td>\n",
       "      <td>41.0</td>\n",
       "      <td>41.0</td>\n",
       "      <td>102.730</td>\n",
       "      <td>102.730</td>\n",
       "    </tr>\n",
       "    <tr>\n",
       "      <th>137</th>\n",
       "      <td>Long_pz</td>\n",
       "      <td>FP76</td>\n",
       "      <td>NaN</td>\n",
       "      <td>Socle</td>\n",
       "      <td>5.0</td>\n",
       "      <td>5.0</td>\n",
       "      <td>6.503</td>\n",
       "      <td>18.550</td>\n",
       "      <td>41.0</td>\n",
       "      <td>41.0</td>\n",
       "      <td>102.730</td>\n",
       "      <td>102.730</td>\n",
       "    </tr>\n",
       "    <tr>\n",
       "      <th>139</th>\n",
       "      <td>Long_pz</td>\n",
       "      <td>FP76</td>\n",
       "      <td>NaN</td>\n",
       "      <td>Socle</td>\n",
       "      <td>5.0</td>\n",
       "      <td>5.0</td>\n",
       "      <td>6.503</td>\n",
       "      <td>18.550</td>\n",
       "      <td>41.0</td>\n",
       "      <td>41.0</td>\n",
       "      <td>102.730</td>\n",
       "      <td>102.730</td>\n",
       "    </tr>\n",
       "    <tr>\n",
       "      <th>142</th>\n",
       "      <td>Nappe</td>\n",
       "      <td>501</td>\n",
       "      <td>Socle</td>\n",
       "      <td>Remblai_All</td>\n",
       "      <td>2.0</td>\n",
       "      <td>2.0</td>\n",
       "      <td>9.690</td>\n",
       "      <td>9.690</td>\n",
       "      <td>25.0</td>\n",
       "      <td>25.0</td>\n",
       "      <td>110.040</td>\n",
       "      <td>110.040</td>\n",
       "    </tr>\n",
       "    <tr>\n",
       "      <th>146</th>\n",
       "      <td>Nappe</td>\n",
       "      <td>511</td>\n",
       "      <td>Socle</td>\n",
       "      <td>Remblai_All</td>\n",
       "      <td>4.0</td>\n",
       "      <td>4.0</td>\n",
       "      <td>4.310</td>\n",
       "      <td>4.310</td>\n",
       "      <td>41.0</td>\n",
       "      <td>41.0</td>\n",
       "      <td>103.790</td>\n",
       "      <td>103.790</td>\n",
       "    </tr>\n",
       "    <tr>\n",
       "      <th>147</th>\n",
       "      <td>Nappe</td>\n",
       "      <td>513</td>\n",
       "      <td>Socle</td>\n",
       "      <td>Remblai_All</td>\n",
       "      <td>3.0</td>\n",
       "      <td>3.0</td>\n",
       "      <td>7.100</td>\n",
       "      <td>7.100</td>\n",
       "      <td>41.0</td>\n",
       "      <td>41.0</td>\n",
       "      <td>104.690</td>\n",
       "      <td>104.690</td>\n",
       "    </tr>\n",
       "    <tr>\n",
       "      <th>149</th>\n",
       "      <td>Nappe</td>\n",
       "      <td>528</td>\n",
       "      <td>remblais</td>\n",
       "      <td>Remblai_All</td>\n",
       "      <td>2.0</td>\n",
       "      <td>2.0</td>\n",
       "      <td>3.670</td>\n",
       "      <td>3.670</td>\n",
       "      <td>41.0</td>\n",
       "      <td>41.0</td>\n",
       "      <td>103.500</td>\n",
       "      <td>103.500</td>\n",
       "    </tr>\n",
       "    <tr>\n",
       "      <th>151</th>\n",
       "      <td>Nappe</td>\n",
       "      <td>522</td>\n",
       "      <td>Alluvions</td>\n",
       "      <td>Remblai_All</td>\n",
       "      <td>2.0</td>\n",
       "      <td>2.0</td>\n",
       "      <td>2.980</td>\n",
       "      <td>2.980</td>\n",
       "      <td>41.0</td>\n",
       "      <td>41.0</td>\n",
       "      <td>103.070</td>\n",
       "      <td>103.070</td>\n",
       "    </tr>\n",
       "    <tr>\n",
       "      <th>158</th>\n",
       "      <td>Nappe</td>\n",
       "      <td>537</td>\n",
       "      <td>#conflict</td>\n",
       "      <td>All_limoneuse</td>\n",
       "      <td>1.0</td>\n",
       "      <td>1.0</td>\n",
       "      <td>7.610</td>\n",
       "      <td>7.610</td>\n",
       "      <td>25.0</td>\n",
       "      <td>25.0</td>\n",
       "      <td>102.820</td>\n",
       "      <td>102.820</td>\n",
       "    </tr>\n",
       "    <tr>\n",
       "      <th>159</th>\n",
       "      <td>Nappe</td>\n",
       "      <td>536</td>\n",
       "      <td>#conflict</td>\n",
       "      <td>All_limoneuse</td>\n",
       "      <td>2.0</td>\n",
       "      <td>2.0</td>\n",
       "      <td>8.220</td>\n",
       "      <td>8.220</td>\n",
       "      <td>25.0</td>\n",
       "      <td>25.0</td>\n",
       "      <td>102.890</td>\n",
       "      <td>102.890</td>\n",
       "    </tr>\n",
       "    <tr>\n",
       "      <th>160</th>\n",
       "      <td>Nappe</td>\n",
       "      <td>543</td>\n",
       "      <td>#conflict</td>\n",
       "      <td>All_limoneuse</td>\n",
       "      <td>1.0</td>\n",
       "      <td>1.0</td>\n",
       "      <td>6.650</td>\n",
       "      <td>6.650</td>\n",
       "      <td>25.0</td>\n",
       "      <td>25.0</td>\n",
       "      <td>101.790</td>\n",
       "      <td>101.790</td>\n",
       "    </tr>\n",
       "    <tr>\n",
       "      <th>165</th>\n",
       "      <td>Long_pz, Long_crep</td>\n",
       "      <td>541</td>\n",
       "      <td>remblais</td>\n",
       "      <td>Remblais</td>\n",
       "      <td>2.0</td>\n",
       "      <td>4.0</td>\n",
       "      <td>8.220</td>\n",
       "      <td>5.200</td>\n",
       "      <td>25.0</td>\n",
       "      <td>25.0</td>\n",
       "      <td>101.410</td>\n",
       "      <td>101.410</td>\n",
       "    </tr>\n",
       "    <tr>\n",
       "      <th>171</th>\n",
       "      <td>Nappe</td>\n",
       "      <td>539</td>\n",
       "      <td>#conflict</td>\n",
       "      <td>All_limoneuse</td>\n",
       "      <td>2.0</td>\n",
       "      <td>2.0</td>\n",
       "      <td>8.430</td>\n",
       "      <td>8.430</td>\n",
       "      <td>25.0</td>\n",
       "      <td>25.0</td>\n",
       "      <td>102.120</td>\n",
       "      <td>102.120</td>\n",
       "    </tr>\n",
       "    <tr>\n",
       "      <th>174</th>\n",
       "      <td>Nappe</td>\n",
       "      <td>533</td>\n",
       "      <td>#conflict</td>\n",
       "      <td>All_limoneuses_graveleuses</td>\n",
       "      <td>1.0</td>\n",
       "      <td>1.0</td>\n",
       "      <td>7.870</td>\n",
       "      <td>7.870</td>\n",
       "      <td>25.0</td>\n",
       "      <td>25.0</td>\n",
       "      <td>102.620</td>\n",
       "      <td>102.620</td>\n",
       "    </tr>\n",
       "    <tr>\n",
       "      <th>176</th>\n",
       "      <td>Nappe, Long_pz, Diam_int_pz</td>\n",
       "      <td>502</td>\n",
       "      <td>Socle</td>\n",
       "      <td>All_limoneuses_graveleuses</td>\n",
       "      <td>2.0</td>\n",
       "      <td>2.0</td>\n",
       "      <td>13.480</td>\n",
       "      <td>7.370</td>\n",
       "      <td>41.0</td>\n",
       "      <td>25.0</td>\n",
       "      <td>105.280</td>\n",
       "      <td>105.280</td>\n",
       "    </tr>\n",
       "    <tr>\n",
       "      <th>177</th>\n",
       "      <td>Nappe, Long_pz, Diam_int_pz</td>\n",
       "      <td>502</td>\n",
       "      <td>#conflict</td>\n",
       "      <td>Socle</td>\n",
       "      <td>2.0</td>\n",
       "      <td>2.0</td>\n",
       "      <td>7.370</td>\n",
       "      <td>13.480</td>\n",
       "      <td>25.0</td>\n",
       "      <td>41.0</td>\n",
       "      <td>105.280</td>\n",
       "      <td>105.280</td>\n",
       "    </tr>\n",
       "    <tr>\n",
       "      <th>178</th>\n",
       "      <td>Nappe</td>\n",
       "      <td>502</td>\n",
       "      <td>#conflict</td>\n",
       "      <td>All_limoneuses_graveleuses</td>\n",
       "      <td>2.0</td>\n",
       "      <td>2.0</td>\n",
       "      <td>7.370</td>\n",
       "      <td>7.370</td>\n",
       "      <td>25.0</td>\n",
       "      <td>25.0</td>\n",
       "      <td>105.280</td>\n",
       "      <td>105.280</td>\n",
       "    </tr>\n",
       "    <tr>\n",
       "      <th>183</th>\n",
       "      <td>Nappe</td>\n",
       "      <td>512</td>\n",
       "      <td>#conflict</td>\n",
       "      <td>Remblai_All</td>\n",
       "      <td>3.0</td>\n",
       "      <td>3.0</td>\n",
       "      <td>4.670</td>\n",
       "      <td>4.670</td>\n",
       "      <td>41.0</td>\n",
       "      <td>41.0</td>\n",
       "      <td>104.820</td>\n",
       "      <td>104.820</td>\n",
       "    </tr>\n",
       "    <tr>\n",
       "      <th>185</th>\n",
       "      <td>Nappe, Long_pz, Long_crep, Zsol, Diam_int_pz</td>\n",
       "      <td>512</td>\n",
       "      <td>Socle</td>\n",
       "      <td>Remblai_All</td>\n",
       "      <td>2.0</td>\n",
       "      <td>3.0</td>\n",
       "      <td>14.560</td>\n",
       "      <td>4.670</td>\n",
       "      <td>51.0</td>\n",
       "      <td>41.0</td>\n",
       "      <td>104.870</td>\n",
       "      <td>104.820</td>\n",
       "    </tr>\n",
       "    <tr>\n",
       "      <th>187</th>\n",
       "      <td>Nappe</td>\n",
       "      <td>595</td>\n",
       "      <td>#conflict</td>\n",
       "      <td>Socle</td>\n",
       "      <td>11.0</td>\n",
       "      <td>11.0</td>\n",
       "      <td>24.430</td>\n",
       "      <td>24.430</td>\n",
       "      <td>41.0</td>\n",
       "      <td>41.0</td>\n",
       "      <td>101.590</td>\n",
       "      <td>101.590</td>\n",
       "    </tr>\n",
       "    <tr>\n",
       "      <th>188</th>\n",
       "      <td>Nappe, Long_pz, Long_crep, Diam_int_pz</td>\n",
       "      <td>595</td>\n",
       "      <td>#conflict</td>\n",
       "      <td>All_limoneuses_graveleuses</td>\n",
       "      <td>11.0</td>\n",
       "      <td>3.0</td>\n",
       "      <td>24.430</td>\n",
       "      <td>9.400</td>\n",
       "      <td>41.0</td>\n",
       "      <td>25.0</td>\n",
       "      <td>101.590</td>\n",
       "      <td>101.590</td>\n",
       "    </tr>\n",
       "    <tr>\n",
       "      <th>189</th>\n",
       "      <td>Nappe, Long_pz, Long_crep, Diam_int_pz</td>\n",
       "      <td>595</td>\n",
       "      <td>#conflict</td>\n",
       "      <td>Remblais</td>\n",
       "      <td>11.0</td>\n",
       "      <td>0.8</td>\n",
       "      <td>24.430</td>\n",
       "      <td>1.140</td>\n",
       "      <td>41.0</td>\n",
       "      <td>25.0</td>\n",
       "      <td>101.590</td>\n",
       "      <td>101.590</td>\n",
       "    </tr>\n",
       "    <tr>\n",
       "      <th>190</th>\n",
       "      <td>Nappe, Long_pz, Long_crep, Diam_int_pz</td>\n",
       "      <td>595</td>\n",
       "      <td>#conflict</td>\n",
       "      <td>Socle</td>\n",
       "      <td>3.0</td>\n",
       "      <td>11.0</td>\n",
       "      <td>9.400</td>\n",
       "      <td>24.430</td>\n",
       "      <td>25.0</td>\n",
       "      <td>41.0</td>\n",
       "      <td>101.590</td>\n",
       "      <td>101.590</td>\n",
       "    </tr>\n",
       "    <tr>\n",
       "      <th>191</th>\n",
       "      <td>Nappe</td>\n",
       "      <td>595</td>\n",
       "      <td>#conflict</td>\n",
       "      <td>All_limoneuses_graveleuses</td>\n",
       "      <td>3.0</td>\n",
       "      <td>3.0</td>\n",
       "      <td>9.400</td>\n",
       "      <td>9.400</td>\n",
       "      <td>25.0</td>\n",
       "      <td>25.0</td>\n",
       "      <td>101.590</td>\n",
       "      <td>101.590</td>\n",
       "    </tr>\n",
       "    <tr>\n",
       "      <th>192</th>\n",
       "      <td>Nappe, Long_pz, Long_crep</td>\n",
       "      <td>595</td>\n",
       "      <td>#conflict</td>\n",
       "      <td>Remblais</td>\n",
       "      <td>3.0</td>\n",
       "      <td>0.8</td>\n",
       "      <td>9.400</td>\n",
       "      <td>1.140</td>\n",
       "      <td>25.0</td>\n",
       "      <td>25.0</td>\n",
       "      <td>101.590</td>\n",
       "      <td>101.590</td>\n",
       "    </tr>\n",
       "    <tr>\n",
       "      <th>193</th>\n",
       "      <td>Nappe, Long_pz, Long_crep, Diam_int_pz</td>\n",
       "      <td>595</td>\n",
       "      <td>#conflict</td>\n",
       "      <td>Socle</td>\n",
       "      <td>0.8</td>\n",
       "      <td>11.0</td>\n",
       "      <td>1.140</td>\n",
       "      <td>24.430</td>\n",
       "      <td>25.0</td>\n",
       "      <td>41.0</td>\n",
       "      <td>101.590</td>\n",
       "      <td>101.590</td>\n",
       "    </tr>\n",
       "    <tr>\n",
       "      <th>194</th>\n",
       "      <td>Nappe, Long_pz, Long_crep</td>\n",
       "      <td>595</td>\n",
       "      <td>#conflict</td>\n",
       "      <td>All_limoneuses_graveleuses</td>\n",
       "      <td>0.8</td>\n",
       "      <td>3.0</td>\n",
       "      <td>1.140</td>\n",
       "      <td>9.400</td>\n",
       "      <td>25.0</td>\n",
       "      <td>25.0</td>\n",
       "      <td>101.590</td>\n",
       "      <td>101.590</td>\n",
       "    </tr>\n",
       "    <tr>\n",
       "      <th>195</th>\n",
       "      <td>Nappe</td>\n",
       "      <td>595</td>\n",
       "      <td>#conflict</td>\n",
       "      <td>Remblais</td>\n",
       "      <td>0.8</td>\n",
       "      <td>0.8</td>\n",
       "      <td>1.140</td>\n",
       "      <td>1.140</td>\n",
       "      <td>25.0</td>\n",
       "      <td>25.0</td>\n",
       "      <td>101.590</td>\n",
       "      <td>101.590</td>\n",
       "    </tr>\n",
       "    <tr>\n",
       "      <th>196</th>\n",
       "      <td>Nappe</td>\n",
       "      <td>540</td>\n",
       "      <td>#conflict</td>\n",
       "      <td>All_limoneuse</td>\n",
       "      <td>4.0</td>\n",
       "      <td>4.0</td>\n",
       "      <td>14.010</td>\n",
       "      <td>14.010</td>\n",
       "      <td>41.0</td>\n",
       "      <td>41.0</td>\n",
       "      <td>106.910</td>\n",
       "      <td>106.910</td>\n",
       "    </tr>\n",
       "    <tr>\n",
       "      <th>197</th>\n",
       "      <td>Nappe, Long_pz, Long_crep, Diam_int_pz</td>\n",
       "      <td>540</td>\n",
       "      <td>#conflict</td>\n",
       "      <td>Remblais</td>\n",
       "      <td>4.0</td>\n",
       "      <td>5.0</td>\n",
       "      <td>14.010</td>\n",
       "      <td>7.760</td>\n",
       "      <td>41.0</td>\n",
       "      <td>25.0</td>\n",
       "      <td>106.910</td>\n",
       "      <td>106.910</td>\n",
       "    </tr>\n",
       "    <tr>\n",
       "      <th>198</th>\n",
       "      <td>Nappe</td>\n",
       "      <td>540</td>\n",
       "      <td>#conflict</td>\n",
       "      <td>All_limoneuse</td>\n",
       "      <td>4.0</td>\n",
       "      <td>4.0</td>\n",
       "      <td>14.010</td>\n",
       "      <td>14.010</td>\n",
       "      <td>41.0</td>\n",
       "      <td>41.0</td>\n",
       "      <td>106.910</td>\n",
       "      <td>106.910</td>\n",
       "    </tr>\n",
       "    <tr>\n",
       "      <th>199</th>\n",
       "      <td>Nappe, Long_pz, Long_crep, Diam_int_pz</td>\n",
       "      <td>540</td>\n",
       "      <td>#conflict</td>\n",
       "      <td>Remblais</td>\n",
       "      <td>4.0</td>\n",
       "      <td>5.0</td>\n",
       "      <td>14.010</td>\n",
       "      <td>7.760</td>\n",
       "      <td>41.0</td>\n",
       "      <td>25.0</td>\n",
       "      <td>106.910</td>\n",
       "      <td>106.910</td>\n",
       "    </tr>\n",
       "    <tr>\n",
       "      <th>200</th>\n",
       "      <td>Nappe, Long_pz, Long_crep, Diam_int_pz</td>\n",
       "      <td>540</td>\n",
       "      <td>Remblais</td>\n",
       "      <td>All_limoneuse</td>\n",
       "      <td>5.0</td>\n",
       "      <td>4.0</td>\n",
       "      <td>7.760</td>\n",
       "      <td>14.010</td>\n",
       "      <td>25.0</td>\n",
       "      <td>41.0</td>\n",
       "      <td>106.910</td>\n",
       "      <td>106.910</td>\n",
       "    </tr>\n",
       "    <tr>\n",
       "      <th>202</th>\n",
       "      <td>Nappe, Long_pz, Long_crep, Diam_int_pz</td>\n",
       "      <td>540</td>\n",
       "      <td>#conflict</td>\n",
       "      <td>All_limoneuse</td>\n",
       "      <td>5.0</td>\n",
       "      <td>4.0</td>\n",
       "      <td>7.760</td>\n",
       "      <td>14.010</td>\n",
       "      <td>25.0</td>\n",
       "      <td>41.0</td>\n",
       "      <td>106.910</td>\n",
       "      <td>106.910</td>\n",
       "    </tr>\n",
       "    <tr>\n",
       "      <th>203</th>\n",
       "      <td>Nappe</td>\n",
       "      <td>540</td>\n",
       "      <td>#conflict</td>\n",
       "      <td>Remblais</td>\n",
       "      <td>5.0</td>\n",
       "      <td>5.0</td>\n",
       "      <td>7.760</td>\n",
       "      <td>7.760</td>\n",
       "      <td>25.0</td>\n",
       "      <td>25.0</td>\n",
       "      <td>106.910</td>\n",
       "      <td>106.910</td>\n",
       "    </tr>\n",
       "  </tbody>\n",
       "</table>\n",
       "</div>"
      ],
      "text/plain": [
       "                                        Check_col     ID      Nappe_x  \\\n",
       "101                              Nappe, Long_crep   FP49        Socle   \n",
       "103                              Nappe, Long_crep   FP49        Socle   \n",
       "104                                     Long_crep   FP49          NaN   \n",
       "106                                     Long_crep   FP49        Socle   \n",
       "107                                         Nappe   FP49        Socle   \n",
       "114               Long_pz, Long_crep, Diam_int_pz   FP14          NaN   \n",
       "116               Long_pz, Long_crep, Diam_int_pz   FP14          NaN   \n",
       "117               Long_pz, Long_crep, Diam_int_pz   FP14          NaN   \n",
       "119               Long_pz, Long_crep, Diam_int_pz   FP14          NaN   \n",
       "122        Nappe, Long_pz, Long_crep, Diam_int_pz  FP160        Socle   \n",
       "123        Nappe, Long_pz, Long_crep, Diam_int_pz  FP160  Remblai_All   \n",
       "126                     Nappe, Long_pz, Long_crep   FP63        Socle   \n",
       "128                     Nappe, Long_pz, Long_crep   FP63        Socle   \n",
       "129                     Nappe, Long_pz, Long_crep   FP63    Alluvions   \n",
       "130                                         Nappe   FP63    Alluvions   \n",
       "131                     Nappe, Long_pz, Long_crep   FP63    Alluvions   \n",
       "132                                         Nappe   FP63    Alluvions   \n",
       "134                                Nappe, Long_pz   FP76        Socle   \n",
       "136                                Nappe, Long_pz   FP76        Socle   \n",
       "137                                       Long_pz   FP76          NaN   \n",
       "139                                       Long_pz   FP76          NaN   \n",
       "142                                         Nappe    501        Socle   \n",
       "146                                         Nappe    511        Socle   \n",
       "147                                         Nappe    513        Socle   \n",
       "149                                         Nappe    528     remblais   \n",
       "151                                         Nappe    522    Alluvions   \n",
       "158                                         Nappe    537    #conflict   \n",
       "159                                         Nappe    536    #conflict   \n",
       "160                                         Nappe    543    #conflict   \n",
       "165                            Long_pz, Long_crep    541     remblais   \n",
       "171                                         Nappe    539    #conflict   \n",
       "174                                         Nappe    533    #conflict   \n",
       "176                   Nappe, Long_pz, Diam_int_pz    502        Socle   \n",
       "177                   Nappe, Long_pz, Diam_int_pz    502    #conflict   \n",
       "178                                         Nappe    502    #conflict   \n",
       "183                                         Nappe    512    #conflict   \n",
       "185  Nappe, Long_pz, Long_crep, Zsol, Diam_int_pz    512        Socle   \n",
       "187                                         Nappe    595    #conflict   \n",
       "188        Nappe, Long_pz, Long_crep, Diam_int_pz    595    #conflict   \n",
       "189        Nappe, Long_pz, Long_crep, Diam_int_pz    595    #conflict   \n",
       "190        Nappe, Long_pz, Long_crep, Diam_int_pz    595    #conflict   \n",
       "191                                         Nappe    595    #conflict   \n",
       "192                     Nappe, Long_pz, Long_crep    595    #conflict   \n",
       "193        Nappe, Long_pz, Long_crep, Diam_int_pz    595    #conflict   \n",
       "194                     Nappe, Long_pz, Long_crep    595    #conflict   \n",
       "195                                         Nappe    595    #conflict   \n",
       "196                                         Nappe    540    #conflict   \n",
       "197        Nappe, Long_pz, Long_crep, Diam_int_pz    540    #conflict   \n",
       "198                                         Nappe    540    #conflict   \n",
       "199        Nappe, Long_pz, Long_crep, Diam_int_pz    540    #conflict   \n",
       "200        Nappe, Long_pz, Long_crep, Diam_int_pz    540     Remblais   \n",
       "202        Nappe, Long_pz, Long_crep, Diam_int_pz    540    #conflict   \n",
       "203                                         Nappe    540    #conflict   \n",
       "\n",
       "                        Nappe_y  Long_crep_x  Long_crep_y  Long_pz_x  \\\n",
       "101                 Remblai_All          8.0          5.0        NaN   \n",
       "103                 Remblai_All          8.0          5.0        NaN   \n",
       "104                       Socle          5.0          8.0        NaN   \n",
       "106                       Socle          5.0          8.0        NaN   \n",
       "107                 Remblai_All          5.0          5.0        NaN   \n",
       "114                    Remblais          2.0          4.0      7.225   \n",
       "116                    Remblais          2.0          4.0      7.225   \n",
       "117  All_limoneuses_graveleuses          4.0          2.0      4.301   \n",
       "119  All_limoneuses_graveleuses          4.0          2.0      4.301   \n",
       "122                 Remblai_All          5.0          4.0     14.222   \n",
       "123                       Socle          4.0          5.0      4.793   \n",
       "126                    Remblais          2.0          3.0     14.472   \n",
       "128                    Remblais          2.0          3.0     14.472   \n",
       "129                       Socle          3.0          2.0      3.357   \n",
       "130                    Remblais          3.0          3.0      3.357   \n",
       "131                       Socle          3.0          2.0      3.357   \n",
       "132                    Remblais          3.0          3.0      3.357   \n",
       "134                    Remblais          5.0          5.0     18.550   \n",
       "136                    Remblais          5.0          5.0     18.550   \n",
       "137                       Socle          5.0          5.0      6.503   \n",
       "139                       Socle          5.0          5.0      6.503   \n",
       "142                 Remblai_All          2.0          2.0      9.690   \n",
       "146                 Remblai_All          4.0          4.0      4.310   \n",
       "147                 Remblai_All          3.0          3.0      7.100   \n",
       "149                 Remblai_All          2.0          2.0      3.670   \n",
       "151                 Remblai_All          2.0          2.0      2.980   \n",
       "158               All_limoneuse          1.0          1.0      7.610   \n",
       "159               All_limoneuse          2.0          2.0      8.220   \n",
       "160               All_limoneuse          1.0          1.0      6.650   \n",
       "165                    Remblais          2.0          4.0      8.220   \n",
       "171               All_limoneuse          2.0          2.0      8.430   \n",
       "174  All_limoneuses_graveleuses          1.0          1.0      7.870   \n",
       "176  All_limoneuses_graveleuses          2.0          2.0     13.480   \n",
       "177                       Socle          2.0          2.0      7.370   \n",
       "178  All_limoneuses_graveleuses          2.0          2.0      7.370   \n",
       "183                 Remblai_All          3.0          3.0      4.670   \n",
       "185                 Remblai_All          2.0          3.0     14.560   \n",
       "187                       Socle         11.0         11.0     24.430   \n",
       "188  All_limoneuses_graveleuses         11.0          3.0     24.430   \n",
       "189                    Remblais         11.0          0.8     24.430   \n",
       "190                       Socle          3.0         11.0      9.400   \n",
       "191  All_limoneuses_graveleuses          3.0          3.0      9.400   \n",
       "192                    Remblais          3.0          0.8      9.400   \n",
       "193                       Socle          0.8         11.0      1.140   \n",
       "194  All_limoneuses_graveleuses          0.8          3.0      1.140   \n",
       "195                    Remblais          0.8          0.8      1.140   \n",
       "196               All_limoneuse          4.0          4.0     14.010   \n",
       "197                    Remblais          4.0          5.0     14.010   \n",
       "198               All_limoneuse          4.0          4.0     14.010   \n",
       "199                    Remblais          4.0          5.0     14.010   \n",
       "200               All_limoneuse          5.0          4.0      7.760   \n",
       "202               All_limoneuse          5.0          4.0      7.760   \n",
       "203                    Remblais          5.0          5.0      7.760   \n",
       "\n",
       "     Long_pz_y  Diam_int_pz_x  Diam_int_pz_y   Zsol_x   Zsol_y  \n",
       "101        NaN           41.0           41.0      NaN      NaN  \n",
       "103        NaN           41.0           41.0      NaN      NaN  \n",
       "104        NaN           41.0           41.0      NaN      NaN  \n",
       "106        NaN           41.0           41.0      NaN      NaN  \n",
       "107        NaN           41.0           41.0      NaN      NaN  \n",
       "114      4.301           41.0           25.0  102.320  102.320  \n",
       "116      4.301           41.0           25.0  102.320  102.320  \n",
       "117      7.225           25.0           41.0  102.320  102.320  \n",
       "119      7.225           25.0           41.0  102.320  102.320  \n",
       "122      4.793           41.0           25.0  103.810  103.810  \n",
       "123     14.222           25.0           41.0  103.810  103.810  \n",
       "126      3.357           41.0           41.0  102.803  102.803  \n",
       "128      3.357           41.0           41.0  102.803  102.803  \n",
       "129     14.472           41.0           41.0  102.803  102.803  \n",
       "130      3.357           41.0           41.0  102.803  102.803  \n",
       "131     14.472           41.0           41.0  102.803  102.803  \n",
       "132      3.357           41.0           41.0  102.803  102.803  \n",
       "134      6.503           41.0           41.0  102.730  102.730  \n",
       "136      6.503           41.0           41.0  102.730  102.730  \n",
       "137     18.550           41.0           41.0  102.730  102.730  \n",
       "139     18.550           41.0           41.0  102.730  102.730  \n",
       "142      9.690           25.0           25.0  110.040  110.040  \n",
       "146      4.310           41.0           41.0  103.790  103.790  \n",
       "147      7.100           41.0           41.0  104.690  104.690  \n",
       "149      3.670           41.0           41.0  103.500  103.500  \n",
       "151      2.980           41.0           41.0  103.070  103.070  \n",
       "158      7.610           25.0           25.0  102.820  102.820  \n",
       "159      8.220           25.0           25.0  102.890  102.890  \n",
       "160      6.650           25.0           25.0  101.790  101.790  \n",
       "165      5.200           25.0           25.0  101.410  101.410  \n",
       "171      8.430           25.0           25.0  102.120  102.120  \n",
       "174      7.870           25.0           25.0  102.620  102.620  \n",
       "176      7.370           41.0           25.0  105.280  105.280  \n",
       "177     13.480           25.0           41.0  105.280  105.280  \n",
       "178      7.370           25.0           25.0  105.280  105.280  \n",
       "183      4.670           41.0           41.0  104.820  104.820  \n",
       "185      4.670           51.0           41.0  104.870  104.820  \n",
       "187     24.430           41.0           41.0  101.590  101.590  \n",
       "188      9.400           41.0           25.0  101.590  101.590  \n",
       "189      1.140           41.0           25.0  101.590  101.590  \n",
       "190     24.430           25.0           41.0  101.590  101.590  \n",
       "191      9.400           25.0           25.0  101.590  101.590  \n",
       "192      1.140           25.0           25.0  101.590  101.590  \n",
       "193     24.430           25.0           41.0  101.590  101.590  \n",
       "194      9.400           25.0           25.0  101.590  101.590  \n",
       "195      1.140           25.0           25.0  101.590  101.590  \n",
       "196     14.010           41.0           41.0  106.910  106.910  \n",
       "197      7.760           41.0           25.0  106.910  106.910  \n",
       "198     14.010           41.0           41.0  106.910  106.910  \n",
       "199      7.760           41.0           25.0  106.910  106.910  \n",
       "200     14.010           25.0           41.0  106.910  106.910  \n",
       "202     14.010           25.0           41.0  106.910  106.910  \n",
       "203      7.760           25.0           25.0  106.910  106.910  "
      ]
     },
     "execution_count": 40,
     "metadata": {},
     "output_type": "execute_result"
    }
   ],
   "source": [
    "conflict_df"
   ]
  },
  {
   "cell_type": "code",
   "execution_count": 41,
   "id": "812dd47f",
   "metadata": {},
   "outputs": [
    {
     "name": "stdout",
     "output_type": "stream",
     "text": [
      "[101, 103, 104, 106, 107, 114, 116, 117, 119, 122, 123, 126, 128, 129, 130, 131, 132, 134]\n"
     ]
    }
   ],
   "source": [
    "print(list(conflict_df.index)[:18])"
   ]
  },
  {
   "cell_type": "code",
   "execution_count": 42,
   "id": "463d1e9d",
   "metadata": {},
   "outputs": [
    {
     "name": "stdout",
     "output_type": "stream",
     "text": [
      "Validation done, but conflicts remain!\n"
     ]
    }
   ],
   "source": [
    "data_validation(overall_data=mdf, conflict_data=conflict_df, index_col='index', \n",
    "                valid_dict={'Nappe_y':list(conflict_df.index)[:18]})"
   ]
  },
  {
   "cell_type": "code",
   "execution_count": 43,
   "id": "d7ac9fbd",
   "metadata": {
    "scrolled": true
   },
   "outputs": [
    {
     "data": {
      "text/html": [
       "<div>\n",
       "<style scoped>\n",
       "    .dataframe tbody tr th:only-of-type {\n",
       "        vertical-align: middle;\n",
       "    }\n",
       "\n",
       "    .dataframe tbody tr th {\n",
       "        vertical-align: top;\n",
       "    }\n",
       "\n",
       "    .dataframe thead th {\n",
       "        text-align: right;\n",
       "    }\n",
       "</style>\n",
       "<table border=\"1\" class=\"dataframe\">\n",
       "  <thead>\n",
       "    <tr style=\"text-align: right;\">\n",
       "      <th></th>\n",
       "      <th>Check_col</th>\n",
       "      <th>ID</th>\n",
       "      <th>Nappe_x</th>\n",
       "      <th>Nappe_y</th>\n",
       "      <th>Long_crep_x</th>\n",
       "      <th>Long_crep_y</th>\n",
       "      <th>Long_pz_x</th>\n",
       "      <th>Long_pz_y</th>\n",
       "      <th>Diam_int_pz_x</th>\n",
       "      <th>Diam_int_pz_y</th>\n",
       "      <th>Zsol_x</th>\n",
       "      <th>Zsol_y</th>\n",
       "    </tr>\n",
       "  </thead>\n",
       "  <tbody>\n",
       "    <tr>\n",
       "      <th>101</th>\n",
       "      <td>Long_crep</td>\n",
       "      <td>FP49</td>\n",
       "      <td>Done</td>\n",
       "      <td>Done</td>\n",
       "      <td>8.0</td>\n",
       "      <td>5.0</td>\n",
       "      <td>NaN</td>\n",
       "      <td>NaN</td>\n",
       "      <td>41.0</td>\n",
       "      <td>41.0</td>\n",
       "      <td>NaN</td>\n",
       "      <td>NaN</td>\n",
       "    </tr>\n",
       "    <tr>\n",
       "      <th>103</th>\n",
       "      <td>Long_crep</td>\n",
       "      <td>FP49</td>\n",
       "      <td>Done</td>\n",
       "      <td>Done</td>\n",
       "      <td>8.0</td>\n",
       "      <td>5.0</td>\n",
       "      <td>NaN</td>\n",
       "      <td>NaN</td>\n",
       "      <td>41.0</td>\n",
       "      <td>41.0</td>\n",
       "      <td>NaN</td>\n",
       "      <td>NaN</td>\n",
       "    </tr>\n",
       "    <tr>\n",
       "      <th>104</th>\n",
       "      <td>Long_crep</td>\n",
       "      <td>FP49</td>\n",
       "      <td>Done</td>\n",
       "      <td>Done</td>\n",
       "      <td>5.0</td>\n",
       "      <td>8.0</td>\n",
       "      <td>NaN</td>\n",
       "      <td>NaN</td>\n",
       "      <td>41.0</td>\n",
       "      <td>41.0</td>\n",
       "      <td>NaN</td>\n",
       "      <td>NaN</td>\n",
       "    </tr>\n",
       "    <tr>\n",
       "      <th>106</th>\n",
       "      <td>Long_crep</td>\n",
       "      <td>FP49</td>\n",
       "      <td>Done</td>\n",
       "      <td>Done</td>\n",
       "      <td>5.0</td>\n",
       "      <td>8.0</td>\n",
       "      <td>NaN</td>\n",
       "      <td>NaN</td>\n",
       "      <td>41.0</td>\n",
       "      <td>41.0</td>\n",
       "      <td>NaN</td>\n",
       "      <td>NaN</td>\n",
       "    </tr>\n",
       "    <tr>\n",
       "      <th>114</th>\n",
       "      <td>Long_pz, Long_crep, Diam_int_pz</td>\n",
       "      <td>FP14</td>\n",
       "      <td>Done</td>\n",
       "      <td>Done</td>\n",
       "      <td>2.0</td>\n",
       "      <td>4.0</td>\n",
       "      <td>7.225</td>\n",
       "      <td>4.301</td>\n",
       "      <td>41.0</td>\n",
       "      <td>25.0</td>\n",
       "      <td>102.320</td>\n",
       "      <td>102.320</td>\n",
       "    </tr>\n",
       "    <tr>\n",
       "      <th>116</th>\n",
       "      <td>Long_pz, Long_crep, Diam_int_pz</td>\n",
       "      <td>FP14</td>\n",
       "      <td>Done</td>\n",
       "      <td>Done</td>\n",
       "      <td>2.0</td>\n",
       "      <td>4.0</td>\n",
       "      <td>7.225</td>\n",
       "      <td>4.301</td>\n",
       "      <td>41.0</td>\n",
       "      <td>25.0</td>\n",
       "      <td>102.320</td>\n",
       "      <td>102.320</td>\n",
       "    </tr>\n",
       "    <tr>\n",
       "      <th>117</th>\n",
       "      <td>Long_pz, Long_crep, Diam_int_pz</td>\n",
       "      <td>FP14</td>\n",
       "      <td>Done</td>\n",
       "      <td>Done</td>\n",
       "      <td>4.0</td>\n",
       "      <td>2.0</td>\n",
       "      <td>4.301</td>\n",
       "      <td>7.225</td>\n",
       "      <td>25.0</td>\n",
       "      <td>41.0</td>\n",
       "      <td>102.320</td>\n",
       "      <td>102.320</td>\n",
       "    </tr>\n",
       "    <tr>\n",
       "      <th>119</th>\n",
       "      <td>Long_pz, Long_crep, Diam_int_pz</td>\n",
       "      <td>FP14</td>\n",
       "      <td>Done</td>\n",
       "      <td>Done</td>\n",
       "      <td>4.0</td>\n",
       "      <td>2.0</td>\n",
       "      <td>4.301</td>\n",
       "      <td>7.225</td>\n",
       "      <td>25.0</td>\n",
       "      <td>41.0</td>\n",
       "      <td>102.320</td>\n",
       "      <td>102.320</td>\n",
       "    </tr>\n",
       "    <tr>\n",
       "      <th>122</th>\n",
       "      <td>Long_pz, Long_crep, Diam_int_pz</td>\n",
       "      <td>FP160</td>\n",
       "      <td>Done</td>\n",
       "      <td>Done</td>\n",
       "      <td>5.0</td>\n",
       "      <td>4.0</td>\n",
       "      <td>14.222</td>\n",
       "      <td>4.793</td>\n",
       "      <td>41.0</td>\n",
       "      <td>25.0</td>\n",
       "      <td>103.810</td>\n",
       "      <td>103.810</td>\n",
       "    </tr>\n",
       "    <tr>\n",
       "      <th>123</th>\n",
       "      <td>Long_pz, Long_crep, Diam_int_pz</td>\n",
       "      <td>FP160</td>\n",
       "      <td>Done</td>\n",
       "      <td>Done</td>\n",
       "      <td>4.0</td>\n",
       "      <td>5.0</td>\n",
       "      <td>4.793</td>\n",
       "      <td>14.222</td>\n",
       "      <td>25.0</td>\n",
       "      <td>41.0</td>\n",
       "      <td>103.810</td>\n",
       "      <td>103.810</td>\n",
       "    </tr>\n",
       "    <tr>\n",
       "      <th>126</th>\n",
       "      <td>Long_pz, Long_crep</td>\n",
       "      <td>FP63</td>\n",
       "      <td>Done</td>\n",
       "      <td>Done</td>\n",
       "      <td>2.0</td>\n",
       "      <td>3.0</td>\n",
       "      <td>14.472</td>\n",
       "      <td>3.357</td>\n",
       "      <td>41.0</td>\n",
       "      <td>41.0</td>\n",
       "      <td>102.803</td>\n",
       "      <td>102.803</td>\n",
       "    </tr>\n",
       "    <tr>\n",
       "      <th>128</th>\n",
       "      <td>Long_pz, Long_crep</td>\n",
       "      <td>FP63</td>\n",
       "      <td>Done</td>\n",
       "      <td>Done</td>\n",
       "      <td>2.0</td>\n",
       "      <td>3.0</td>\n",
       "      <td>14.472</td>\n",
       "      <td>3.357</td>\n",
       "      <td>41.0</td>\n",
       "      <td>41.0</td>\n",
       "      <td>102.803</td>\n",
       "      <td>102.803</td>\n",
       "    </tr>\n",
       "    <tr>\n",
       "      <th>129</th>\n",
       "      <td>Long_pz, Long_crep</td>\n",
       "      <td>FP63</td>\n",
       "      <td>Done</td>\n",
       "      <td>Done</td>\n",
       "      <td>3.0</td>\n",
       "      <td>2.0</td>\n",
       "      <td>3.357</td>\n",
       "      <td>14.472</td>\n",
       "      <td>41.0</td>\n",
       "      <td>41.0</td>\n",
       "      <td>102.803</td>\n",
       "      <td>102.803</td>\n",
       "    </tr>\n",
       "    <tr>\n",
       "      <th>131</th>\n",
       "      <td>Long_pz, Long_crep</td>\n",
       "      <td>FP63</td>\n",
       "      <td>Done</td>\n",
       "      <td>Done</td>\n",
       "      <td>3.0</td>\n",
       "      <td>2.0</td>\n",
       "      <td>3.357</td>\n",
       "      <td>14.472</td>\n",
       "      <td>41.0</td>\n",
       "      <td>41.0</td>\n",
       "      <td>102.803</td>\n",
       "      <td>102.803</td>\n",
       "    </tr>\n",
       "    <tr>\n",
       "      <th>134</th>\n",
       "      <td>Long_pz</td>\n",
       "      <td>FP76</td>\n",
       "      <td>Done</td>\n",
       "      <td>Done</td>\n",
       "      <td>5.0</td>\n",
       "      <td>5.0</td>\n",
       "      <td>18.550</td>\n",
       "      <td>6.503</td>\n",
       "      <td>41.0</td>\n",
       "      <td>41.0</td>\n",
       "      <td>102.730</td>\n",
       "      <td>102.730</td>\n",
       "    </tr>\n",
       "    <tr>\n",
       "      <th>136</th>\n",
       "      <td>Nappe, Long_pz</td>\n",
       "      <td>FP76</td>\n",
       "      <td>Socle</td>\n",
       "      <td>Remblais</td>\n",
       "      <td>5.0</td>\n",
       "      <td>5.0</td>\n",
       "      <td>18.550</td>\n",
       "      <td>6.503</td>\n",
       "      <td>41.0</td>\n",
       "      <td>41.0</td>\n",
       "      <td>102.730</td>\n",
       "      <td>102.730</td>\n",
       "    </tr>\n",
       "    <tr>\n",
       "      <th>137</th>\n",
       "      <td>Long_pz</td>\n",
       "      <td>FP76</td>\n",
       "      <td>NaN</td>\n",
       "      <td>Socle</td>\n",
       "      <td>5.0</td>\n",
       "      <td>5.0</td>\n",
       "      <td>6.503</td>\n",
       "      <td>18.550</td>\n",
       "      <td>41.0</td>\n",
       "      <td>41.0</td>\n",
       "      <td>102.730</td>\n",
       "      <td>102.730</td>\n",
       "    </tr>\n",
       "    <tr>\n",
       "      <th>139</th>\n",
       "      <td>Long_pz</td>\n",
       "      <td>FP76</td>\n",
       "      <td>NaN</td>\n",
       "      <td>Socle</td>\n",
       "      <td>5.0</td>\n",
       "      <td>5.0</td>\n",
       "      <td>6.503</td>\n",
       "      <td>18.550</td>\n",
       "      <td>41.0</td>\n",
       "      <td>41.0</td>\n",
       "      <td>102.730</td>\n",
       "      <td>102.730</td>\n",
       "    </tr>\n",
       "    <tr>\n",
       "      <th>142</th>\n",
       "      <td>Nappe</td>\n",
       "      <td>501</td>\n",
       "      <td>Socle</td>\n",
       "      <td>Remblai_All</td>\n",
       "      <td>2.0</td>\n",
       "      <td>2.0</td>\n",
       "      <td>9.690</td>\n",
       "      <td>9.690</td>\n",
       "      <td>25.0</td>\n",
       "      <td>25.0</td>\n",
       "      <td>110.040</td>\n",
       "      <td>110.040</td>\n",
       "    </tr>\n",
       "    <tr>\n",
       "      <th>146</th>\n",
       "      <td>Nappe</td>\n",
       "      <td>511</td>\n",
       "      <td>Socle</td>\n",
       "      <td>Remblai_All</td>\n",
       "      <td>4.0</td>\n",
       "      <td>4.0</td>\n",
       "      <td>4.310</td>\n",
       "      <td>4.310</td>\n",
       "      <td>41.0</td>\n",
       "      <td>41.0</td>\n",
       "      <td>103.790</td>\n",
       "      <td>103.790</td>\n",
       "    </tr>\n",
       "    <tr>\n",
       "      <th>147</th>\n",
       "      <td>Nappe</td>\n",
       "      <td>513</td>\n",
       "      <td>Socle</td>\n",
       "      <td>Remblai_All</td>\n",
       "      <td>3.0</td>\n",
       "      <td>3.0</td>\n",
       "      <td>7.100</td>\n",
       "      <td>7.100</td>\n",
       "      <td>41.0</td>\n",
       "      <td>41.0</td>\n",
       "      <td>104.690</td>\n",
       "      <td>104.690</td>\n",
       "    </tr>\n",
       "    <tr>\n",
       "      <th>149</th>\n",
       "      <td>Nappe</td>\n",
       "      <td>528</td>\n",
       "      <td>remblais</td>\n",
       "      <td>Remblai_All</td>\n",
       "      <td>2.0</td>\n",
       "      <td>2.0</td>\n",
       "      <td>3.670</td>\n",
       "      <td>3.670</td>\n",
       "      <td>41.0</td>\n",
       "      <td>41.0</td>\n",
       "      <td>103.500</td>\n",
       "      <td>103.500</td>\n",
       "    </tr>\n",
       "    <tr>\n",
       "      <th>151</th>\n",
       "      <td>Nappe</td>\n",
       "      <td>522</td>\n",
       "      <td>Alluvions</td>\n",
       "      <td>Remblai_All</td>\n",
       "      <td>2.0</td>\n",
       "      <td>2.0</td>\n",
       "      <td>2.980</td>\n",
       "      <td>2.980</td>\n",
       "      <td>41.0</td>\n",
       "      <td>41.0</td>\n",
       "      <td>103.070</td>\n",
       "      <td>103.070</td>\n",
       "    </tr>\n",
       "    <tr>\n",
       "      <th>158</th>\n",
       "      <td>Nappe</td>\n",
       "      <td>537</td>\n",
       "      <td>#conflict</td>\n",
       "      <td>All_limoneuse</td>\n",
       "      <td>1.0</td>\n",
       "      <td>1.0</td>\n",
       "      <td>7.610</td>\n",
       "      <td>7.610</td>\n",
       "      <td>25.0</td>\n",
       "      <td>25.0</td>\n",
       "      <td>102.820</td>\n",
       "      <td>102.820</td>\n",
       "    </tr>\n",
       "    <tr>\n",
       "      <th>159</th>\n",
       "      <td>Nappe</td>\n",
       "      <td>536</td>\n",
       "      <td>#conflict</td>\n",
       "      <td>All_limoneuse</td>\n",
       "      <td>2.0</td>\n",
       "      <td>2.0</td>\n",
       "      <td>8.220</td>\n",
       "      <td>8.220</td>\n",
       "      <td>25.0</td>\n",
       "      <td>25.0</td>\n",
       "      <td>102.890</td>\n",
       "      <td>102.890</td>\n",
       "    </tr>\n",
       "    <tr>\n",
       "      <th>160</th>\n",
       "      <td>Nappe</td>\n",
       "      <td>543</td>\n",
       "      <td>#conflict</td>\n",
       "      <td>All_limoneuse</td>\n",
       "      <td>1.0</td>\n",
       "      <td>1.0</td>\n",
       "      <td>6.650</td>\n",
       "      <td>6.650</td>\n",
       "      <td>25.0</td>\n",
       "      <td>25.0</td>\n",
       "      <td>101.790</td>\n",
       "      <td>101.790</td>\n",
       "    </tr>\n",
       "    <tr>\n",
       "      <th>165</th>\n",
       "      <td>Long_pz, Long_crep</td>\n",
       "      <td>541</td>\n",
       "      <td>remblais</td>\n",
       "      <td>Remblais</td>\n",
       "      <td>2.0</td>\n",
       "      <td>4.0</td>\n",
       "      <td>8.220</td>\n",
       "      <td>5.200</td>\n",
       "      <td>25.0</td>\n",
       "      <td>25.0</td>\n",
       "      <td>101.410</td>\n",
       "      <td>101.410</td>\n",
       "    </tr>\n",
       "    <tr>\n",
       "      <th>171</th>\n",
       "      <td>Nappe</td>\n",
       "      <td>539</td>\n",
       "      <td>#conflict</td>\n",
       "      <td>All_limoneuse</td>\n",
       "      <td>2.0</td>\n",
       "      <td>2.0</td>\n",
       "      <td>8.430</td>\n",
       "      <td>8.430</td>\n",
       "      <td>25.0</td>\n",
       "      <td>25.0</td>\n",
       "      <td>102.120</td>\n",
       "      <td>102.120</td>\n",
       "    </tr>\n",
       "    <tr>\n",
       "      <th>174</th>\n",
       "      <td>Nappe</td>\n",
       "      <td>533</td>\n",
       "      <td>#conflict</td>\n",
       "      <td>All_limoneuses_graveleuses</td>\n",
       "      <td>1.0</td>\n",
       "      <td>1.0</td>\n",
       "      <td>7.870</td>\n",
       "      <td>7.870</td>\n",
       "      <td>25.0</td>\n",
       "      <td>25.0</td>\n",
       "      <td>102.620</td>\n",
       "      <td>102.620</td>\n",
       "    </tr>\n",
       "    <tr>\n",
       "      <th>176</th>\n",
       "      <td>Nappe, Long_pz, Diam_int_pz</td>\n",
       "      <td>502</td>\n",
       "      <td>Socle</td>\n",
       "      <td>All_limoneuses_graveleuses</td>\n",
       "      <td>2.0</td>\n",
       "      <td>2.0</td>\n",
       "      <td>13.480</td>\n",
       "      <td>7.370</td>\n",
       "      <td>41.0</td>\n",
       "      <td>25.0</td>\n",
       "      <td>105.280</td>\n",
       "      <td>105.280</td>\n",
       "    </tr>\n",
       "    <tr>\n",
       "      <th>177</th>\n",
       "      <td>Nappe, Long_pz, Diam_int_pz</td>\n",
       "      <td>502</td>\n",
       "      <td>#conflict</td>\n",
       "      <td>Socle</td>\n",
       "      <td>2.0</td>\n",
       "      <td>2.0</td>\n",
       "      <td>7.370</td>\n",
       "      <td>13.480</td>\n",
       "      <td>25.0</td>\n",
       "      <td>41.0</td>\n",
       "      <td>105.280</td>\n",
       "      <td>105.280</td>\n",
       "    </tr>\n",
       "    <tr>\n",
       "      <th>178</th>\n",
       "      <td>Nappe</td>\n",
       "      <td>502</td>\n",
       "      <td>#conflict</td>\n",
       "      <td>All_limoneuses_graveleuses</td>\n",
       "      <td>2.0</td>\n",
       "      <td>2.0</td>\n",
       "      <td>7.370</td>\n",
       "      <td>7.370</td>\n",
       "      <td>25.0</td>\n",
       "      <td>25.0</td>\n",
       "      <td>105.280</td>\n",
       "      <td>105.280</td>\n",
       "    </tr>\n",
       "    <tr>\n",
       "      <th>183</th>\n",
       "      <td>Nappe</td>\n",
       "      <td>512</td>\n",
       "      <td>#conflict</td>\n",
       "      <td>Remblai_All</td>\n",
       "      <td>3.0</td>\n",
       "      <td>3.0</td>\n",
       "      <td>4.670</td>\n",
       "      <td>4.670</td>\n",
       "      <td>41.0</td>\n",
       "      <td>41.0</td>\n",
       "      <td>104.820</td>\n",
       "      <td>104.820</td>\n",
       "    </tr>\n",
       "    <tr>\n",
       "      <th>185</th>\n",
       "      <td>Nappe, Long_pz, Long_crep, Zsol, Diam_int_pz</td>\n",
       "      <td>512</td>\n",
       "      <td>Socle</td>\n",
       "      <td>Remblai_All</td>\n",
       "      <td>2.0</td>\n",
       "      <td>3.0</td>\n",
       "      <td>14.560</td>\n",
       "      <td>4.670</td>\n",
       "      <td>51.0</td>\n",
       "      <td>41.0</td>\n",
       "      <td>104.870</td>\n",
       "      <td>104.820</td>\n",
       "    </tr>\n",
       "    <tr>\n",
       "      <th>187</th>\n",
       "      <td>Nappe</td>\n",
       "      <td>595</td>\n",
       "      <td>#conflict</td>\n",
       "      <td>Socle</td>\n",
       "      <td>11.0</td>\n",
       "      <td>11.0</td>\n",
       "      <td>24.430</td>\n",
       "      <td>24.430</td>\n",
       "      <td>41.0</td>\n",
       "      <td>41.0</td>\n",
       "      <td>101.590</td>\n",
       "      <td>101.590</td>\n",
       "    </tr>\n",
       "    <tr>\n",
       "      <th>188</th>\n",
       "      <td>Nappe, Long_pz, Long_crep, Diam_int_pz</td>\n",
       "      <td>595</td>\n",
       "      <td>#conflict</td>\n",
       "      <td>All_limoneuses_graveleuses</td>\n",
       "      <td>11.0</td>\n",
       "      <td>3.0</td>\n",
       "      <td>24.430</td>\n",
       "      <td>9.400</td>\n",
       "      <td>41.0</td>\n",
       "      <td>25.0</td>\n",
       "      <td>101.590</td>\n",
       "      <td>101.590</td>\n",
       "    </tr>\n",
       "    <tr>\n",
       "      <th>189</th>\n",
       "      <td>Nappe, Long_pz, Long_crep, Diam_int_pz</td>\n",
       "      <td>595</td>\n",
       "      <td>#conflict</td>\n",
       "      <td>Remblais</td>\n",
       "      <td>11.0</td>\n",
       "      <td>0.8</td>\n",
       "      <td>24.430</td>\n",
       "      <td>1.140</td>\n",
       "      <td>41.0</td>\n",
       "      <td>25.0</td>\n",
       "      <td>101.590</td>\n",
       "      <td>101.590</td>\n",
       "    </tr>\n",
       "    <tr>\n",
       "      <th>190</th>\n",
       "      <td>Nappe, Long_pz, Long_crep, Diam_int_pz</td>\n",
       "      <td>595</td>\n",
       "      <td>#conflict</td>\n",
       "      <td>Socle</td>\n",
       "      <td>3.0</td>\n",
       "      <td>11.0</td>\n",
       "      <td>9.400</td>\n",
       "      <td>24.430</td>\n",
       "      <td>25.0</td>\n",
       "      <td>41.0</td>\n",
       "      <td>101.590</td>\n",
       "      <td>101.590</td>\n",
       "    </tr>\n",
       "    <tr>\n",
       "      <th>191</th>\n",
       "      <td>Nappe</td>\n",
       "      <td>595</td>\n",
       "      <td>#conflict</td>\n",
       "      <td>All_limoneuses_graveleuses</td>\n",
       "      <td>3.0</td>\n",
       "      <td>3.0</td>\n",
       "      <td>9.400</td>\n",
       "      <td>9.400</td>\n",
       "      <td>25.0</td>\n",
       "      <td>25.0</td>\n",
       "      <td>101.590</td>\n",
       "      <td>101.590</td>\n",
       "    </tr>\n",
       "    <tr>\n",
       "      <th>192</th>\n",
       "      <td>Nappe, Long_pz, Long_crep</td>\n",
       "      <td>595</td>\n",
       "      <td>#conflict</td>\n",
       "      <td>Remblais</td>\n",
       "      <td>3.0</td>\n",
       "      <td>0.8</td>\n",
       "      <td>9.400</td>\n",
       "      <td>1.140</td>\n",
       "      <td>25.0</td>\n",
       "      <td>25.0</td>\n",
       "      <td>101.590</td>\n",
       "      <td>101.590</td>\n",
       "    </tr>\n",
       "    <tr>\n",
       "      <th>193</th>\n",
       "      <td>Nappe, Long_pz, Long_crep, Diam_int_pz</td>\n",
       "      <td>595</td>\n",
       "      <td>#conflict</td>\n",
       "      <td>Socle</td>\n",
       "      <td>0.8</td>\n",
       "      <td>11.0</td>\n",
       "      <td>1.140</td>\n",
       "      <td>24.430</td>\n",
       "      <td>25.0</td>\n",
       "      <td>41.0</td>\n",
       "      <td>101.590</td>\n",
       "      <td>101.590</td>\n",
       "    </tr>\n",
       "    <tr>\n",
       "      <th>194</th>\n",
       "      <td>Nappe, Long_pz, Long_crep</td>\n",
       "      <td>595</td>\n",
       "      <td>#conflict</td>\n",
       "      <td>All_limoneuses_graveleuses</td>\n",
       "      <td>0.8</td>\n",
       "      <td>3.0</td>\n",
       "      <td>1.140</td>\n",
       "      <td>9.400</td>\n",
       "      <td>25.0</td>\n",
       "      <td>25.0</td>\n",
       "      <td>101.590</td>\n",
       "      <td>101.590</td>\n",
       "    </tr>\n",
       "    <tr>\n",
       "      <th>195</th>\n",
       "      <td>Nappe</td>\n",
       "      <td>595</td>\n",
       "      <td>#conflict</td>\n",
       "      <td>Remblais</td>\n",
       "      <td>0.8</td>\n",
       "      <td>0.8</td>\n",
       "      <td>1.140</td>\n",
       "      <td>1.140</td>\n",
       "      <td>25.0</td>\n",
       "      <td>25.0</td>\n",
       "      <td>101.590</td>\n",
       "      <td>101.590</td>\n",
       "    </tr>\n",
       "    <tr>\n",
       "      <th>196</th>\n",
       "      <td>Nappe</td>\n",
       "      <td>540</td>\n",
       "      <td>#conflict</td>\n",
       "      <td>All_limoneuse</td>\n",
       "      <td>4.0</td>\n",
       "      <td>4.0</td>\n",
       "      <td>14.010</td>\n",
       "      <td>14.010</td>\n",
       "      <td>41.0</td>\n",
       "      <td>41.0</td>\n",
       "      <td>106.910</td>\n",
       "      <td>106.910</td>\n",
       "    </tr>\n",
       "    <tr>\n",
       "      <th>197</th>\n",
       "      <td>Nappe, Long_pz, Long_crep, Diam_int_pz</td>\n",
       "      <td>540</td>\n",
       "      <td>#conflict</td>\n",
       "      <td>Remblais</td>\n",
       "      <td>4.0</td>\n",
       "      <td>5.0</td>\n",
       "      <td>14.010</td>\n",
       "      <td>7.760</td>\n",
       "      <td>41.0</td>\n",
       "      <td>25.0</td>\n",
       "      <td>106.910</td>\n",
       "      <td>106.910</td>\n",
       "    </tr>\n",
       "    <tr>\n",
       "      <th>198</th>\n",
       "      <td>Nappe</td>\n",
       "      <td>540</td>\n",
       "      <td>#conflict</td>\n",
       "      <td>All_limoneuse</td>\n",
       "      <td>4.0</td>\n",
       "      <td>4.0</td>\n",
       "      <td>14.010</td>\n",
       "      <td>14.010</td>\n",
       "      <td>41.0</td>\n",
       "      <td>41.0</td>\n",
       "      <td>106.910</td>\n",
       "      <td>106.910</td>\n",
       "    </tr>\n",
       "    <tr>\n",
       "      <th>199</th>\n",
       "      <td>Nappe, Long_pz, Long_crep, Diam_int_pz</td>\n",
       "      <td>540</td>\n",
       "      <td>#conflict</td>\n",
       "      <td>Remblais</td>\n",
       "      <td>4.0</td>\n",
       "      <td>5.0</td>\n",
       "      <td>14.010</td>\n",
       "      <td>7.760</td>\n",
       "      <td>41.0</td>\n",
       "      <td>25.0</td>\n",
       "      <td>106.910</td>\n",
       "      <td>106.910</td>\n",
       "    </tr>\n",
       "    <tr>\n",
       "      <th>200</th>\n",
       "      <td>Nappe, Long_pz, Long_crep, Diam_int_pz</td>\n",
       "      <td>540</td>\n",
       "      <td>Remblais</td>\n",
       "      <td>All_limoneuse</td>\n",
       "      <td>5.0</td>\n",
       "      <td>4.0</td>\n",
       "      <td>7.760</td>\n",
       "      <td>14.010</td>\n",
       "      <td>25.0</td>\n",
       "      <td>41.0</td>\n",
       "      <td>106.910</td>\n",
       "      <td>106.910</td>\n",
       "    </tr>\n",
       "    <tr>\n",
       "      <th>202</th>\n",
       "      <td>Nappe, Long_pz, Long_crep, Diam_int_pz</td>\n",
       "      <td>540</td>\n",
       "      <td>#conflict</td>\n",
       "      <td>All_limoneuse</td>\n",
       "      <td>5.0</td>\n",
       "      <td>4.0</td>\n",
       "      <td>7.760</td>\n",
       "      <td>14.010</td>\n",
       "      <td>25.0</td>\n",
       "      <td>41.0</td>\n",
       "      <td>106.910</td>\n",
       "      <td>106.910</td>\n",
       "    </tr>\n",
       "    <tr>\n",
       "      <th>203</th>\n",
       "      <td>Nappe</td>\n",
       "      <td>540</td>\n",
       "      <td>#conflict</td>\n",
       "      <td>Remblais</td>\n",
       "      <td>5.0</td>\n",
       "      <td>5.0</td>\n",
       "      <td>7.760</td>\n",
       "      <td>7.760</td>\n",
       "      <td>25.0</td>\n",
       "      <td>25.0</td>\n",
       "      <td>106.910</td>\n",
       "      <td>106.910</td>\n",
       "    </tr>\n",
       "  </tbody>\n",
       "</table>\n",
       "</div>"
      ],
      "text/plain": [
       "                                        Check_col     ID    Nappe_x  \\\n",
       "101                                     Long_crep   FP49       Done   \n",
       "103                                     Long_crep   FP49       Done   \n",
       "104                                     Long_crep   FP49       Done   \n",
       "106                                     Long_crep   FP49       Done   \n",
       "114               Long_pz, Long_crep, Diam_int_pz   FP14       Done   \n",
       "116               Long_pz, Long_crep, Diam_int_pz   FP14       Done   \n",
       "117               Long_pz, Long_crep, Diam_int_pz   FP14       Done   \n",
       "119               Long_pz, Long_crep, Diam_int_pz   FP14       Done   \n",
       "122               Long_pz, Long_crep, Diam_int_pz  FP160       Done   \n",
       "123               Long_pz, Long_crep, Diam_int_pz  FP160       Done   \n",
       "126                            Long_pz, Long_crep   FP63       Done   \n",
       "128                            Long_pz, Long_crep   FP63       Done   \n",
       "129                            Long_pz, Long_crep   FP63       Done   \n",
       "131                            Long_pz, Long_crep   FP63       Done   \n",
       "134                                       Long_pz   FP76       Done   \n",
       "136                                Nappe, Long_pz   FP76      Socle   \n",
       "137                                       Long_pz   FP76        NaN   \n",
       "139                                       Long_pz   FP76        NaN   \n",
       "142                                         Nappe    501      Socle   \n",
       "146                                         Nappe    511      Socle   \n",
       "147                                         Nappe    513      Socle   \n",
       "149                                         Nappe    528   remblais   \n",
       "151                                         Nappe    522  Alluvions   \n",
       "158                                         Nappe    537  #conflict   \n",
       "159                                         Nappe    536  #conflict   \n",
       "160                                         Nappe    543  #conflict   \n",
       "165                            Long_pz, Long_crep    541   remblais   \n",
       "171                                         Nappe    539  #conflict   \n",
       "174                                         Nappe    533  #conflict   \n",
       "176                   Nappe, Long_pz, Diam_int_pz    502      Socle   \n",
       "177                   Nappe, Long_pz, Diam_int_pz    502  #conflict   \n",
       "178                                         Nappe    502  #conflict   \n",
       "183                                         Nappe    512  #conflict   \n",
       "185  Nappe, Long_pz, Long_crep, Zsol, Diam_int_pz    512      Socle   \n",
       "187                                         Nappe    595  #conflict   \n",
       "188        Nappe, Long_pz, Long_crep, Diam_int_pz    595  #conflict   \n",
       "189        Nappe, Long_pz, Long_crep, Diam_int_pz    595  #conflict   \n",
       "190        Nappe, Long_pz, Long_crep, Diam_int_pz    595  #conflict   \n",
       "191                                         Nappe    595  #conflict   \n",
       "192                     Nappe, Long_pz, Long_crep    595  #conflict   \n",
       "193        Nappe, Long_pz, Long_crep, Diam_int_pz    595  #conflict   \n",
       "194                     Nappe, Long_pz, Long_crep    595  #conflict   \n",
       "195                                         Nappe    595  #conflict   \n",
       "196                                         Nappe    540  #conflict   \n",
       "197        Nappe, Long_pz, Long_crep, Diam_int_pz    540  #conflict   \n",
       "198                                         Nappe    540  #conflict   \n",
       "199        Nappe, Long_pz, Long_crep, Diam_int_pz    540  #conflict   \n",
       "200        Nappe, Long_pz, Long_crep, Diam_int_pz    540   Remblais   \n",
       "202        Nappe, Long_pz, Long_crep, Diam_int_pz    540  #conflict   \n",
       "203                                         Nappe    540  #conflict   \n",
       "\n",
       "                        Nappe_y  Long_crep_x  Long_crep_y  Long_pz_x  \\\n",
       "101                        Done          8.0          5.0        NaN   \n",
       "103                        Done          8.0          5.0        NaN   \n",
       "104                        Done          5.0          8.0        NaN   \n",
       "106                        Done          5.0          8.0        NaN   \n",
       "114                        Done          2.0          4.0      7.225   \n",
       "116                        Done          2.0          4.0      7.225   \n",
       "117                        Done          4.0          2.0      4.301   \n",
       "119                        Done          4.0          2.0      4.301   \n",
       "122                        Done          5.0          4.0     14.222   \n",
       "123                        Done          4.0          5.0      4.793   \n",
       "126                        Done          2.0          3.0     14.472   \n",
       "128                        Done          2.0          3.0     14.472   \n",
       "129                        Done          3.0          2.0      3.357   \n",
       "131                        Done          3.0          2.0      3.357   \n",
       "134                        Done          5.0          5.0     18.550   \n",
       "136                    Remblais          5.0          5.0     18.550   \n",
       "137                       Socle          5.0          5.0      6.503   \n",
       "139                       Socle          5.0          5.0      6.503   \n",
       "142                 Remblai_All          2.0          2.0      9.690   \n",
       "146                 Remblai_All          4.0          4.0      4.310   \n",
       "147                 Remblai_All          3.0          3.0      7.100   \n",
       "149                 Remblai_All          2.0          2.0      3.670   \n",
       "151                 Remblai_All          2.0          2.0      2.980   \n",
       "158               All_limoneuse          1.0          1.0      7.610   \n",
       "159               All_limoneuse          2.0          2.0      8.220   \n",
       "160               All_limoneuse          1.0          1.0      6.650   \n",
       "165                    Remblais          2.0          4.0      8.220   \n",
       "171               All_limoneuse          2.0          2.0      8.430   \n",
       "174  All_limoneuses_graveleuses          1.0          1.0      7.870   \n",
       "176  All_limoneuses_graveleuses          2.0          2.0     13.480   \n",
       "177                       Socle          2.0          2.0      7.370   \n",
       "178  All_limoneuses_graveleuses          2.0          2.0      7.370   \n",
       "183                 Remblai_All          3.0          3.0      4.670   \n",
       "185                 Remblai_All          2.0          3.0     14.560   \n",
       "187                       Socle         11.0         11.0     24.430   \n",
       "188  All_limoneuses_graveleuses         11.0          3.0     24.430   \n",
       "189                    Remblais         11.0          0.8     24.430   \n",
       "190                       Socle          3.0         11.0      9.400   \n",
       "191  All_limoneuses_graveleuses          3.0          3.0      9.400   \n",
       "192                    Remblais          3.0          0.8      9.400   \n",
       "193                       Socle          0.8         11.0      1.140   \n",
       "194  All_limoneuses_graveleuses          0.8          3.0      1.140   \n",
       "195                    Remblais          0.8          0.8      1.140   \n",
       "196               All_limoneuse          4.0          4.0     14.010   \n",
       "197                    Remblais          4.0          5.0     14.010   \n",
       "198               All_limoneuse          4.0          4.0     14.010   \n",
       "199                    Remblais          4.0          5.0     14.010   \n",
       "200               All_limoneuse          5.0          4.0      7.760   \n",
       "202               All_limoneuse          5.0          4.0      7.760   \n",
       "203                    Remblais          5.0          5.0      7.760   \n",
       "\n",
       "     Long_pz_y  Diam_int_pz_x  Diam_int_pz_y   Zsol_x   Zsol_y  \n",
       "101        NaN           41.0           41.0      NaN      NaN  \n",
       "103        NaN           41.0           41.0      NaN      NaN  \n",
       "104        NaN           41.0           41.0      NaN      NaN  \n",
       "106        NaN           41.0           41.0      NaN      NaN  \n",
       "114      4.301           41.0           25.0  102.320  102.320  \n",
       "116      4.301           41.0           25.0  102.320  102.320  \n",
       "117      7.225           25.0           41.0  102.320  102.320  \n",
       "119      7.225           25.0           41.0  102.320  102.320  \n",
       "122      4.793           41.0           25.0  103.810  103.810  \n",
       "123     14.222           25.0           41.0  103.810  103.810  \n",
       "126      3.357           41.0           41.0  102.803  102.803  \n",
       "128      3.357           41.0           41.0  102.803  102.803  \n",
       "129     14.472           41.0           41.0  102.803  102.803  \n",
       "131     14.472           41.0           41.0  102.803  102.803  \n",
       "134      6.503           41.0           41.0  102.730  102.730  \n",
       "136      6.503           41.0           41.0  102.730  102.730  \n",
       "137     18.550           41.0           41.0  102.730  102.730  \n",
       "139     18.550           41.0           41.0  102.730  102.730  \n",
       "142      9.690           25.0           25.0  110.040  110.040  \n",
       "146      4.310           41.0           41.0  103.790  103.790  \n",
       "147      7.100           41.0           41.0  104.690  104.690  \n",
       "149      3.670           41.0           41.0  103.500  103.500  \n",
       "151      2.980           41.0           41.0  103.070  103.070  \n",
       "158      7.610           25.0           25.0  102.820  102.820  \n",
       "159      8.220           25.0           25.0  102.890  102.890  \n",
       "160      6.650           25.0           25.0  101.790  101.790  \n",
       "165      5.200           25.0           25.0  101.410  101.410  \n",
       "171      8.430           25.0           25.0  102.120  102.120  \n",
       "174      7.870           25.0           25.0  102.620  102.620  \n",
       "176      7.370           41.0           25.0  105.280  105.280  \n",
       "177     13.480           25.0           41.0  105.280  105.280  \n",
       "178      7.370           25.0           25.0  105.280  105.280  \n",
       "183      4.670           41.0           41.0  104.820  104.820  \n",
       "185      4.670           51.0           41.0  104.870  104.820  \n",
       "187     24.430           41.0           41.0  101.590  101.590  \n",
       "188      9.400           41.0           25.0  101.590  101.590  \n",
       "189      1.140           41.0           25.0  101.590  101.590  \n",
       "190     24.430           25.0           41.0  101.590  101.590  \n",
       "191      9.400           25.0           25.0  101.590  101.590  \n",
       "192      1.140           25.0           25.0  101.590  101.590  \n",
       "193     24.430           25.0           41.0  101.590  101.590  \n",
       "194      9.400           25.0           25.0  101.590  101.590  \n",
       "195      1.140           25.0           25.0  101.590  101.590  \n",
       "196     14.010           41.0           41.0  106.910  106.910  \n",
       "197      7.760           41.0           25.0  106.910  106.910  \n",
       "198     14.010           41.0           41.0  106.910  106.910  \n",
       "199      7.760           41.0           25.0  106.910  106.910  \n",
       "200     14.010           25.0           41.0  106.910  106.910  \n",
       "202     14.010           25.0           41.0  106.910  106.910  \n",
       "203      7.760           25.0           25.0  106.910  106.910  "
      ]
     },
     "execution_count": 43,
     "metadata": {},
     "output_type": "execute_result"
    }
   ],
   "source": [
    "conflict_df"
   ]
  },
  {
   "cell_type": "code",
   "execution_count": 44,
   "id": "12214cad",
   "metadata": {},
   "outputs": [],
   "source": [
    "if 'level_0' in dataset.columns:\n",
    "    if 'index' in dataset.columns:\n",
    "        dataset.drop(columns='index', inplace=True)\n",
    "    dataset.rename(columns={'level_0':'index'}, inplace=True)"
   ]
  },
  {
   "cell_type": "code",
   "execution_count": 45,
   "id": "40ec55cd",
   "metadata": {
    "scrolled": false
   },
   "outputs": [
    {
     "name": "stdout",
     "output_type": "stream",
     "text": [
      "Rows : 510, columns : 30, Unique values on col 'ID': 372\n"
     ]
    },
    {
     "data": {
      "application/vnd.jupyter.widget-view+json": {
       "model_id": "98b0a85add01423b9e15c619d8b5956b",
       "version_major": 2,
       "version_minor": 0
      },
      "text/plain": [
       "interactive(children=(IntSlider(value=10, description='rows', max=510, min=10, readout=False), IntSlider(value…"
      ]
     },
     "metadata": {},
     "output_type": "display_data"
    }
   ],
   "source": [
    "dataframe_viewer(dataset, rows=10, un_val='ID', view=t)"
   ]
  },
  {
   "cell_type": "markdown",
   "id": "492b9995",
   "metadata": {},
   "source": [
    "#### $\\color{green}{\\textbf{Read and merge}}$"
   ]
  },
  {
   "cell_type": "code",
   "execution_count": 46,
   "id": "4f1e79a2",
   "metadata": {
    "scrolled": false
   },
   "outputs": [
    {
     "name": "stdout",
     "output_type": "stream",
     "text": [
      "df1 :  --> Coordinates\n",
      "df1 :  --> Coordinates\n",
      "Rows : 12, columns : 18, Unique values on col 'ID': 12\n"
     ]
    },
    {
     "data": {
      "application/vnd.jupyter.widget-view+json": {
       "model_id": "accdae8eed7b4960b8e3d253831f071b",
       "version_major": 2,
       "version_minor": 0
      },
      "text/plain": [
       "interactive(children=(IntSlider(value=3, description='rows', max=12, min=3, readout=False), IntSlider(value=12…"
      ]
     },
     "metadata": {},
     "output_type": "display_data"
    },
    {
     "name": "stdout",
     "output_type": "stream",
     "text": [
      "Rows : 29, columns : 7, Unique values on col 'ID': 29\n"
     ]
    },
    {
     "data": {
      "application/vnd.jupyter.widget-view+json": {
       "model_id": "169c9f99ef8b4be89300940697da4b71",
       "version_major": 2,
       "version_minor": 0
      },
      "text/plain": [
       "interactive(children=(IntSlider(value=3, description='rows', max=29, min=3, readout=False), IntSlider(value=7,…"
      ]
     },
     "metadata": {},
     "output_type": "display_data"
    },
    {
     "data": {
      "text/plain": [
       "(None, None)"
      ]
     },
     "execution_count": 46,
     "metadata": {},
     "output_type": "execute_result"
    }
   ],
   "source": [
    "file1= work_dir + 'profils_sols_donnees_forages/donnees_forage_Piezometers.csv' # 13\n",
    "file2= work_dir + 'vUmons_logsFor/Analyse_eau_Phases1&2_Piezometers.csv' # 15  \n",
    "\n",
    "df1, df2 = create_df([file1, file2])\n",
    "dataframe_viewer(df1, rows=3, un_val='ID', view=t), dataframe_viewer(df2, rows=3, un_val='ID', view=t)"
   ]
  },
  {
   "cell_type": "code",
   "execution_count": 47,
   "id": "1d350117",
   "metadata": {},
   "outputs": [],
   "source": [
    "df1.ID = df1.ID.astype(str)\n",
    "df2.ID = df2.ID.astype(str)"
   ]
  },
  {
   "cell_type": "raw",
   "id": "3e66c37c",
   "metadata": {},
   "source": [
    "df2.ID.replace('^P','F', regex=True, inplace=True)"
   ]
  },
  {
   "cell_type": "code",
   "execution_count": 48,
   "id": "cc13cda8",
   "metadata": {},
   "outputs": [
    {
     "name": "stdout",
     "output_type": "stream",
     "text": [
      "0 duplicate objects fixed!\n"
     ]
    }
   ],
   "source": [
    "fix_duplicates(df1, df2, drop_old_id=True)"
   ]
  },
  {
   "cell_type": "code",
   "execution_count": 49,
   "id": "30cedda3",
   "metadata": {
    "scrolled": true
   },
   "outputs": [],
   "source": [
    "mdf, conflict_df = data_merger(df1, df2, how=how[1], on='ID', dist_max=1, error_tol_dict={1:['X', 'Y'], 0.01:['Z']})"
   ]
  },
  {
   "cell_type": "markdown",
   "id": "9ba4063b",
   "metadata": {},
   "source": [
    "#### Merge with object dataset"
   ]
  },
  {
   "cell_type": "code",
   "execution_count": 50,
   "id": "bc642263",
   "metadata": {
    "scrolled": true
   },
   "outputs": [],
   "source": [
    "dataset, conflict_df=data_merger(dataset, mdf, how=how[1], on='ID', dist_max=1)"
   ]
  },
  {
   "cell_type": "code",
   "execution_count": 51,
   "id": "5b470953",
   "metadata": {},
   "outputs": [],
   "source": [
    "if 'level_0' in dataset.columns:\n",
    "    if 'index' in dataset.columns:\n",
    "        dataset.drop(columns='index', inplace=True)\n",
    "    dataset.rename(columns={'level_0':'index'}, inplace=True)"
   ]
  },
  {
   "cell_type": "code",
   "execution_count": 52,
   "id": "f41a9757",
   "metadata": {},
   "outputs": [
    {
     "name": "stdout",
     "output_type": "stream",
     "text": [
      "Rows : 530, columns : 32, Unique values on col 'ID': 392\n"
     ]
    },
    {
     "data": {
      "application/vnd.jupyter.widget-view+json": {
       "model_id": "4b9b59888bc840839f7c991c50b66ea3",
       "version_major": 2,
       "version_minor": 0
      },
      "text/plain": [
       "interactive(children=(IntSlider(value=10, description='rows', max=530, min=10, readout=False), IntSlider(value…"
      ]
     },
     "metadata": {},
     "output_type": "display_data"
    }
   ],
   "source": [
    "dataframe_viewer(dataset, rows=10, un_val='ID', view=t)"
   ]
  },
  {
   "cell_type": "markdown",
   "id": "11aee71b",
   "metadata": {},
   "source": [
    "#### $\\color{green}{\\textbf{Read and merge}}$"
   ]
  },
  {
   "cell_type": "code",
   "execution_count": 53,
   "id": "85d72516",
   "metadata": {
    "scrolled": false
   },
   "outputs": [
    {
     "name": "stdout",
     "output_type": "stream",
     "text": [
      "Rows : 59, columns : 7, Unique values on col 'ID': 32\n"
     ]
    },
    {
     "data": {
      "application/vnd.jupyter.widget-view+json": {
       "model_id": "afcaa22d5c394125869540230b498e59",
       "version_major": 2,
       "version_minor": 0
      },
      "text/plain": [
       "interactive(children=(IntSlider(value=3, description='rows', max=59, min=3, readout=False), IntSlider(value=7,…"
      ]
     },
     "metadata": {},
     "output_type": "display_data"
    }
   ],
   "source": [
    "file1= work_dir + 'vUmons_logsFor/Analyse_sol_Phases1&2_Piezometers.csv' # 16\n",
    "\n",
    "df1 = pd.read_csv(file1)\n",
    "dataframe_viewer(df1, rows=3, un_val='ID', view=t)"
   ]
  },
  {
   "cell_type": "markdown",
   "id": "1deda74d",
   "metadata": {},
   "source": [
    "#### Merge with object dataset"
   ]
  },
  {
   "cell_type": "code",
   "execution_count": 54,
   "id": "f55f5d75",
   "metadata": {
    "scrolled": true
   },
   "outputs": [
    {
     "name": "stdout",
     "output_type": "stream",
     "text": [
      "Conflict values present. Please resolve this manually !\n"
     ]
    }
   ],
   "source": [
    "dataset, conflict_df=data_merger(dataset, df1, how=how[1], on='ID', dist_max=1)"
   ]
  },
  {
   "cell_type": "markdown",
   "id": "e6dd8962",
   "metadata": {},
   "source": [
    "#### $\\color{blue}{\\textbf{Manage conflicts}}$"
   ]
  },
  {
   "cell_type": "code",
   "execution_count": 55,
   "id": "eb9aa991",
   "metadata": {
    "scrolled": true
   },
   "outputs": [
    {
     "data": {
      "text/html": [
       "<div>\n",
       "<style scoped>\n",
       "    .dataframe tbody tr th:only-of-type {\n",
       "        vertical-align: middle;\n",
       "    }\n",
       "\n",
       "    .dataframe tbody tr th {\n",
       "        vertical-align: top;\n",
       "    }\n",
       "\n",
       "    .dataframe thead th {\n",
       "        text-align: right;\n",
       "    }\n",
       "</style>\n",
       "<table border=\"1\" class=\"dataframe\">\n",
       "  <thead>\n",
       "    <tr style=\"text-align: right;\">\n",
       "      <th></th>\n",
       "      <th>Check_col</th>\n",
       "      <th>ID</th>\n",
       "      <th>Long_for_x</th>\n",
       "      <th>Long_for_y</th>\n",
       "    </tr>\n",
       "  </thead>\n",
       "  <tbody>\n",
       "    <tr>\n",
       "      <th>18</th>\n",
       "      <td>Long_for</td>\n",
       "      <td>P14M</td>\n",
       "      <td>3.2</td>\n",
       "      <td>2.8</td>\n",
       "    </tr>\n",
       "  </tbody>\n",
       "</table>\n",
       "</div>"
      ],
      "text/plain": [
       "   Check_col    ID  Long_for_x  Long_for_y\n",
       "18  Long_for  P14M         3.2         2.8"
      ]
     },
     "execution_count": 55,
     "metadata": {},
     "output_type": "execute_result"
    }
   ],
   "source": [
    "conflict_df"
   ]
  },
  {
   "cell_type": "code",
   "execution_count": 56,
   "id": "54f8174d",
   "metadata": {},
   "outputs": [
    {
     "name": "stdout",
     "output_type": "stream",
     "text": [
      "all conflicts have been fixed!\n"
     ]
    }
   ],
   "source": [
    "data_validation(overall_data=mdf, conflict_data=conflict_df, index_col='index', \n",
    "                valid_dict={'Long_for_x':list(conflict_df.index)})"
   ]
  },
  {
   "cell_type": "code",
   "execution_count": 57,
   "id": "58604497",
   "metadata": {},
   "outputs": [],
   "source": [
    "if 'level_0' in dataset.columns:\n",
    "    if 'index' in dataset.columns:\n",
    "        dataset.drop(columns='index', inplace=True)\n",
    "    dataset.rename(columns={'level_0':'index'}, inplace=True)"
   ]
  },
  {
   "cell_type": "markdown",
   "id": "a6761e9e",
   "metadata": {},
   "source": [
    "## No position dataset"
   ]
  },
  {
   "cell_type": "markdown",
   "id": "78e512dc",
   "metadata": {},
   "source": [
    "#### $\\color{green}{\\textbf{Read and merge}}$"
   ]
  },
  {
   "cell_type": "code",
   "execution_count": 58,
   "id": "63c8d92c",
   "metadata": {},
   "outputs": [
    {
     "name": "stdout",
     "output_type": "stream",
     "text": [
      "profils_sols_donnees_forages/donnees_forage_Piezometers.csv || donnees_terrain_2019/Log_Piezometers.csv\n"
     ]
    }
   ],
   "source": [
    "a, b = 14, 12\n",
    "file1= files_dict[key][a]\n",
    "file2= files_dict[key][b]\n",
    "print(files_dict[key][a].replace(work_dir,\"\"),'||', files_dict[key][b].replace(work_dir,\"\"))"
   ]
  },
  {
   "cell_type": "code",
   "execution_count": 59,
   "id": "cd1961eb",
   "metadata": {
    "scrolled": false
   },
   "outputs": [
    {
     "name": "stdout",
     "output_type": "stream",
     "text": [
      "df1 :  --> No coordinates\n",
      "df1 :  --> No coordinates\n",
      "Rows : 11, columns : 8, Unique values on col 'ID': 11\n"
     ]
    },
    {
     "data": {
      "application/vnd.jupyter.widget-view+json": {
       "model_id": "c1b802a8ead24a9c829e1ef370f2b28d",
       "version_major": 2,
       "version_minor": 0
      },
      "text/plain": [
       "interactive(children=(IntSlider(value=3, description='rows', max=11, min=3, readout=False), IntSlider(value=8,…"
      ]
     },
     "metadata": {},
     "output_type": "display_data"
    },
    {
     "name": "stdout",
     "output_type": "stream",
     "text": [
      "Rows : 12, columns : 5, Unique values on col 'ID': 12\n"
     ]
    },
    {
     "data": {
      "application/vnd.jupyter.widget-view+json": {
       "model_id": "5c699d20ff584c85a198acde01945825",
       "version_major": 2,
       "version_minor": 0
      },
      "text/plain": [
       "interactive(children=(IntSlider(value=3, description='rows', max=12, min=3, readout=False), IntSlider(value=5,…"
      ]
     },
     "metadata": {},
     "output_type": "display_data"
    },
    {
     "data": {
      "text/plain": [
       "(None, None)"
      ]
     },
     "execution_count": 59,
     "metadata": {},
     "output_type": "execute_result"
    }
   ],
   "source": [
    "file1= work_dir + 'profils_sols_donnees_forages/piezometrie_Piezometers.csv' # 14\n",
    "file2= work_dir + 'profils_sols_donnees_forages/Equipement_Piezometers.csv' # 12  \n",
    "\n",
    "df1, df2 = create_df([file1, file2])\n",
    "dataframe_viewer(df1, rows=3, un_val='ID', view=t), dataframe_viewer(df2, rows=3, un_val='ID', view=t)"
   ]
  },
  {
   "cell_type": "code",
   "execution_count": 60,
   "id": "10c3c545",
   "metadata": {},
   "outputs": [],
   "source": [
    "df1.ID = df1.ID.astype(str)\n",
    "df2.ID = df2.ID.astype(str)"
   ]
  },
  {
   "cell_type": "code",
   "execution_count": 61,
   "id": "d4d411af",
   "metadata": {
    "scrolled": true
   },
   "outputs": [],
   "source": [
    "mdf, conflict_df = data_merger(df1, df2, how=how[1], on='ID', dist_max=1)"
   ]
  },
  {
   "cell_type": "code",
   "execution_count": 62,
   "id": "f7497913",
   "metadata": {},
   "outputs": [],
   "source": [
    "no_pos_dataset = mdf.copy()"
   ]
  },
  {
   "cell_type": "markdown",
   "id": "744b5499",
   "metadata": {},
   "source": [
    "#### $\\color{green}{\\textbf{Read and merge}}$"
   ]
  },
  {
   "cell_type": "code",
   "execution_count": 63,
   "id": "d652036b",
   "metadata": {
    "scrolled": false
   },
   "outputs": [
    {
     "name": "stdout",
     "output_type": "stream",
     "text": [
      "df1 :  --> No coordinates\n",
      "df1 :  --> No coordinates\n",
      "Rows : 9, columns : 5, Unique values on col 'ID': 9\n"
     ]
    },
    {
     "data": {
      "application/vnd.jupyter.widget-view+json": {
       "model_id": "687c53e3ab0a4f49bd3b1880ccffbb36",
       "version_major": 2,
       "version_minor": 0
      },
      "text/plain": [
       "interactive(children=(IntSlider(value=3, description='rows', max=9, min=3, readout=False), IntSlider(value=5, …"
      ]
     },
     "metadata": {},
     "output_type": "display_data"
    },
    {
     "name": "stdout",
     "output_type": "stream",
     "text": [
      "Rows : 10, columns : 9, Unique values on col 'ID': 3\n"
     ]
    },
    {
     "data": {
      "application/vnd.jupyter.widget-view+json": {
       "model_id": "fc0d7daee7664763a8733a17ede77055",
       "version_major": 2,
       "version_minor": 0
      },
      "text/plain": [
       "interactive(children=(IntSlider(value=3, description='rows', max=10, min=3, readout=False), IntSlider(value=9,…"
      ]
     },
     "metadata": {},
     "output_type": "display_data"
    },
    {
     "data": {
      "text/plain": [
       "(None, None)"
      ]
     },
     "execution_count": 63,
     "metadata": {},
     "output_type": "execute_result"
    }
   ],
   "source": [
    "file1= work_dir + 'donnees_terrain_2019/Equipement_Piezometers.csv' # 10\n",
    "file2= work_dir + 'donnees_terrain_2019/Log_Piezometers.csv' # 11\n",
    "\n",
    "df1, df2 = create_df([file1, file2])\n",
    "dataframe_viewer(df1, rows=3, un_val='ID', view=t), dataframe_viewer(df2, rows=3, un_val='ID', view=t)"
   ]
  },
  {
   "cell_type": "code",
   "execution_count": 64,
   "id": "d8523c2a",
   "metadata": {},
   "outputs": [],
   "source": [
    "df1.ID = df1.ID.astype(str)\n",
    "df2.ID = df2.ID.astype(str)"
   ]
  },
  {
   "cell_type": "code",
   "execution_count": 65,
   "id": "f7d1e654",
   "metadata": {
    "scrolled": true
   },
   "outputs": [],
   "source": [
    "mdf, conflict_df = data_merger(df1, df2, how=how[1], on='ID', dist_max=1)"
   ]
  },
  {
   "cell_type": "markdown",
   "id": "ee2cad41",
   "metadata": {},
   "source": [
    "#### Merge with object dataset"
   ]
  },
  {
   "cell_type": "code",
   "execution_count": 66,
   "id": "62c792da",
   "metadata": {
    "scrolled": true
   },
   "outputs": [],
   "source": [
    "no_pos_dataset, conflict_df=data_merger(no_pos_dataset, mdf, how=how[1], on='ID', dist_max=1)"
   ]
  },
  {
   "cell_type": "markdown",
   "id": "704284ff",
   "metadata": {},
   "source": [
    "#### $\\color{green}{\\textbf{Read and merge}}$"
   ]
  },
  {
   "cell_type": "code",
   "execution_count": 67,
   "id": "3db8a333",
   "metadata": {
    "scrolled": false
   },
   "outputs": [
    {
     "name": "stdout",
     "output_type": "stream",
     "text": [
      "Rows : 111, columns : 6, Unique values on col 'ID': 111\n"
     ]
    },
    {
     "data": {
      "application/vnd.jupyter.widget-view+json": {
       "model_id": "10ca1f477aea4da398eab12746142e89",
       "version_major": 2,
       "version_minor": 0
      },
      "text/plain": [
       "interactive(children=(IntSlider(value=3, description='rows', max=111, min=3, readout=False), IntSlider(value=6…"
      ]
     },
     "metadata": {},
     "output_type": "display_data"
    }
   ],
   "source": [
    "file1= work_dir + 'database_Memoris3/Profils_sol_Piezometers.csv' # 6\n",
    "\n",
    "df1 = pd.read_csv(file1)\n",
    "dataframe_viewer(df1, rows=3, un_val='ID', view=t)"
   ]
  },
  {
   "cell_type": "markdown",
   "id": "0b34f682",
   "metadata": {},
   "source": [
    "#### Merge with object dataset"
   ]
  },
  {
   "cell_type": "code",
   "execution_count": 68,
   "id": "2f8365af",
   "metadata": {
    "scrolled": true
   },
   "outputs": [],
   "source": [
    "no_pos_dataset, conflict_df=data_merger(no_pos_dataset, df1, how=how[1], on='ID', dist_max=1)"
   ]
  },
  {
   "cell_type": "markdown",
   "id": "22b98d59",
   "metadata": {},
   "source": [
    "## final merging"
   ]
  },
  {
   "cell_type": "code",
   "execution_count": 69,
   "id": "98a1ce98",
   "metadata": {},
   "outputs": [],
   "source": [
    "dataset.ID.replace('^P','F', regex=True, inplace=True)"
   ]
  },
  {
   "cell_type": "code",
   "execution_count": 70,
   "id": "e4597af7",
   "metadata": {},
   "outputs": [],
   "source": [
    "for c in dataset.columns:\n",
    "    if c in ['index', 'Origin_ID']:\n",
    "        dataset.drop(columns=c, inplace=True)"
   ]
  },
  {
   "cell_type": "code",
   "execution_count": 71,
   "id": "c15d4f0e",
   "metadata": {},
   "outputs": [
    {
     "name": "stdout",
     "output_type": "stream",
     "text": [
      "some data must be checked !\n",
      "Rows : 564 ; Columns : 31 ; Unique on 'ID' : 378 ; \n"
     ]
    }
   ],
   "source": [
    "dataset, check1 = data_filter(dataset, position=True, id_col='ID', expression='sup|prof', \n",
    "                              dist_max=1, drop=True, drop_old_id=True)"
   ]
  },
  {
   "cell_type": "code",
   "execution_count": 72,
   "id": "d3adcf7b",
   "metadata": {
    "scrolled": true
   },
   "outputs": [
    {
     "name": "stdout",
     "output_type": "stream",
     "text": [
      "Rows : 564, columns : 31, Unique values on col 'ID': 378\n"
     ]
    },
    {
     "data": {
      "application/vnd.jupyter.widget-view+json": {
       "model_id": "56d8be09b706464c938a7c5b5c94c1cd",
       "version_major": 2,
       "version_minor": 0
      },
      "text/plain": [
       "interactive(children=(IntSlider(value=3, description='rows', max=564, min=3, readout=False), IntSlider(value=1…"
      ]
     },
     "metadata": {},
     "output_type": "display_data"
    }
   ],
   "source": [
    "dataframe_viewer(dataset, rows=3, un_val='ID', view=t)"
   ]
  },
  {
   "cell_type": "code",
   "execution_count": 73,
   "id": "bcd86480",
   "metadata": {
    "scrolled": true
   },
   "outputs": [
    {
     "name": "stdout",
     "output_type": "stream",
     "text": [
      "Rows : 142, columns : 20, Unique values on col 'ID': 135\n"
     ]
    },
    {
     "data": {
      "application/vnd.jupyter.widget-view+json": {
       "model_id": "88292368389d426793b3a731faaf6596",
       "version_major": 2,
       "version_minor": 0
      },
      "text/plain": [
       "interactive(children=(IntSlider(value=3, description='rows', max=142, min=3, readout=False), IntSlider(value=1…"
      ]
     },
     "metadata": {},
     "output_type": "display_data"
    }
   ],
   "source": [
    "dataframe_viewer(no_pos_dataset, rows=3, un_val='ID', view=t)"
   ]
  },
  {
   "cell_type": "code",
   "execution_count": 74,
   "id": "09928667",
   "metadata": {},
   "outputs": [],
   "source": [
    "no_pos_dataset.ID.replace('^P','F', regex=True, inplace=True)"
   ]
  },
  {
   "cell_type": "code",
   "execution_count": 75,
   "id": "a3069cd6",
   "metadata": {
    "scrolled": true
   },
   "outputs": [
    {
     "name": "stdout",
     "output_type": "stream",
     "text": [
      "some data must be checked !\n",
      "Rows : 142 ; Columns : 20 ; Unique on 'ID' : 135 ; \n"
     ]
    }
   ],
   "source": [
    "no_pos_dataset, check1 = data_filter(no_pos_dataset, position=False, id_col='ID', expression='sup|prof', \n",
    "                              dist_max=1, drop=True, drop_old_id=True)"
   ]
  },
  {
   "cell_type": "raw",
   "id": "b1b80126",
   "metadata": {},
   "source": [
    "no_pos_dataset.drop(columns='Origin_ID', inplace=True)"
   ]
  },
  {
   "cell_type": "markdown",
   "id": "bb5d1a5e",
   "metadata": {},
   "source": [
    "#### Merge with object dataset"
   ]
  },
  {
   "cell_type": "code",
   "execution_count": 76,
   "id": "1a6951bd",
   "metadata": {
    "scrolled": true
   },
   "outputs": [
    {
     "name": "stdout",
     "output_type": "stream",
     "text": [
      "Conflict values present. Please resolve this manually !\n"
     ]
    }
   ],
   "source": [
    "dataset, conflict_df=data_merger(dataset, no_pos_dataset, how=how[1], on='ID', dist_max=1)"
   ]
  },
  {
   "cell_type": "markdown",
   "id": "f303784e",
   "metadata": {},
   "source": [
    "#### $\\color{blue}{\\textbf{Manage conflicts}}$"
   ]
  },
  {
   "cell_type": "code",
   "execution_count": 77,
   "id": "ee58fede",
   "metadata": {
    "scrolled": true
   },
   "outputs": [
    {
     "data": {
      "text/html": [
       "<div>\n",
       "<style scoped>\n",
       "    .dataframe tbody tr th:only-of-type {\n",
       "        vertical-align: middle;\n",
       "    }\n",
       "\n",
       "    .dataframe tbody tr th {\n",
       "        vertical-align: top;\n",
       "    }\n",
       "\n",
       "    .dataframe thead th {\n",
       "        text-align: right;\n",
       "    }\n",
       "</style>\n",
       "<table border=\"1\" class=\"dataframe\">\n",
       "  <thead>\n",
       "    <tr style=\"text-align: right;\">\n",
       "      <th></th>\n",
       "      <th>Check_col</th>\n",
       "      <th>ID</th>\n",
       "      <th>Diam_ext_pz_x</th>\n",
       "      <th>Diam_ext_pz_y</th>\n",
       "      <th>Long_pz_x</th>\n",
       "      <th>Long_pz_y</th>\n",
       "      <th>Diam_for_x</th>\n",
       "      <th>Diam_for_y</th>\n",
       "    </tr>\n",
       "  </thead>\n",
       "  <tbody>\n",
       "    <tr>\n",
       "      <th>3</th>\n",
       "      <td>Diam_ext_pz</td>\n",
       "      <td>F2M</td>\n",
       "      <td>53.0</td>\n",
       "      <td>45.0</td>\n",
       "      <td>6.00</td>\n",
       "      <td>NaN</td>\n",
       "      <td>75.0</td>\n",
       "      <td>75.0</td>\n",
       "    </tr>\n",
       "    <tr>\n",
       "      <th>4</th>\n",
       "      <td>Long_pz</td>\n",
       "      <td>F3M</td>\n",
       "      <td>NaN</td>\n",
       "      <td>45.0</td>\n",
       "      <td>2.76</td>\n",
       "      <td>2.98</td>\n",
       "      <td>NaN</td>\n",
       "      <td>75.0</td>\n",
       "    </tr>\n",
       "    <tr>\n",
       "      <th>5</th>\n",
       "      <td>Long_pz</td>\n",
       "      <td>F3M</td>\n",
       "      <td>NaN</td>\n",
       "      <td>45.0</td>\n",
       "      <td>2.76</td>\n",
       "      <td>2.98</td>\n",
       "      <td>NaN</td>\n",
       "      <td>75.0</td>\n",
       "    </tr>\n",
       "    <tr>\n",
       "      <th>6</th>\n",
       "      <td>Diam_ext_pz, Long_pz</td>\n",
       "      <td>F3M</td>\n",
       "      <td>53.0</td>\n",
       "      <td>45.0</td>\n",
       "      <td>3.30</td>\n",
       "      <td>2.98</td>\n",
       "      <td>75.0</td>\n",
       "      <td>75.0</td>\n",
       "    </tr>\n",
       "    <tr>\n",
       "      <th>9</th>\n",
       "      <td>Diam_ext_pz</td>\n",
       "      <td>F4M</td>\n",
       "      <td>53.0</td>\n",
       "      <td>45.0</td>\n",
       "      <td>4.00</td>\n",
       "      <td>NaN</td>\n",
       "      <td>75.0</td>\n",
       "      <td>75.0</td>\n",
       "    </tr>\n",
       "    <tr>\n",
       "      <th>13</th>\n",
       "      <td>Diam_ext_pz</td>\n",
       "      <td>F5M</td>\n",
       "      <td>53.0</td>\n",
       "      <td>45.0</td>\n",
       "      <td>6.00</td>\n",
       "      <td>NaN</td>\n",
       "      <td>75.0</td>\n",
       "      <td>75.0</td>\n",
       "    </tr>\n",
       "    <tr>\n",
       "      <th>16</th>\n",
       "      <td>Diam_ext_pz</td>\n",
       "      <td>F6M</td>\n",
       "      <td>53.0</td>\n",
       "      <td>45.0</td>\n",
       "      <td>3.60</td>\n",
       "      <td>NaN</td>\n",
       "      <td>75.0</td>\n",
       "      <td>75.0</td>\n",
       "    </tr>\n",
       "    <tr>\n",
       "      <th>18</th>\n",
       "      <td>Diam_ext_pz</td>\n",
       "      <td>F11M</td>\n",
       "      <td>53.0</td>\n",
       "      <td>45.0</td>\n",
       "      <td>3.00</td>\n",
       "      <td>NaN</td>\n",
       "      <td>75.0</td>\n",
       "      <td>75.0</td>\n",
       "    </tr>\n",
       "    <tr>\n",
       "      <th>21</th>\n",
       "      <td>Diam_ext_pz</td>\n",
       "      <td>F12M</td>\n",
       "      <td>53.0</td>\n",
       "      <td>45.0</td>\n",
       "      <td>3.50</td>\n",
       "      <td>NaN</td>\n",
       "      <td>75.0</td>\n",
       "      <td>75.0</td>\n",
       "    </tr>\n",
       "    <tr>\n",
       "      <th>22</th>\n",
       "      <td>Long_pz</td>\n",
       "      <td>F13M</td>\n",
       "      <td>NaN</td>\n",
       "      <td>45.0</td>\n",
       "      <td>3.36</td>\n",
       "      <td>4.04</td>\n",
       "      <td>NaN</td>\n",
       "      <td>75.0</td>\n",
       "    </tr>\n",
       "    <tr>\n",
       "      <th>23</th>\n",
       "      <td>Long_pz</td>\n",
       "      <td>F13M</td>\n",
       "      <td>NaN</td>\n",
       "      <td>45.0</td>\n",
       "      <td>3.36</td>\n",
       "      <td>4.04</td>\n",
       "      <td>NaN</td>\n",
       "      <td>75.0</td>\n",
       "    </tr>\n",
       "    <tr>\n",
       "      <th>24</th>\n",
       "      <td>Long_pz</td>\n",
       "      <td>F13M</td>\n",
       "      <td>NaN</td>\n",
       "      <td>45.0</td>\n",
       "      <td>3.36</td>\n",
       "      <td>4.04</td>\n",
       "      <td>NaN</td>\n",
       "      <td>75.0</td>\n",
       "    </tr>\n",
       "    <tr>\n",
       "      <th>25</th>\n",
       "      <td>Diam_ext_pz, Long_pz</td>\n",
       "      <td>F13M</td>\n",
       "      <td>53.0</td>\n",
       "      <td>45.0</td>\n",
       "      <td>3.50</td>\n",
       "      <td>4.04</td>\n",
       "      <td>75.0</td>\n",
       "      <td>75.0</td>\n",
       "    </tr>\n",
       "    <tr>\n",
       "      <th>27</th>\n",
       "      <td>Diam_ext_pz, Diam_for</td>\n",
       "      <td>F14M</td>\n",
       "      <td>53.0</td>\n",
       "      <td>50.0</td>\n",
       "      <td>2.80</td>\n",
       "      <td>NaN</td>\n",
       "      <td>75.0</td>\n",
       "      <td>250.0</td>\n",
       "    </tr>\n",
       "    <tr>\n",
       "      <th>29</th>\n",
       "      <td>Long_pz</td>\n",
       "      <td>F16M</td>\n",
       "      <td>NaN</td>\n",
       "      <td>50.0</td>\n",
       "      <td>4.39</td>\n",
       "      <td>4.85</td>\n",
       "      <td>NaN</td>\n",
       "      <td>108.0</td>\n",
       "    </tr>\n",
       "    <tr>\n",
       "      <th>30</th>\n",
       "      <td>Long_pz</td>\n",
       "      <td>F16M</td>\n",
       "      <td>NaN</td>\n",
       "      <td>50.0</td>\n",
       "      <td>4.39</td>\n",
       "      <td>4.85</td>\n",
       "      <td>NaN</td>\n",
       "      <td>108.0</td>\n",
       "    </tr>\n",
       "    <tr>\n",
       "      <th>31</th>\n",
       "      <td>Diam_ext_pz, Diam_for, Long_pz</td>\n",
       "      <td>F16M</td>\n",
       "      <td>53.0</td>\n",
       "      <td>50.0</td>\n",
       "      <td>4.80</td>\n",
       "      <td>4.85</td>\n",
       "      <td>75.0</td>\n",
       "      <td>108.0</td>\n",
       "    </tr>\n",
       "    <tr>\n",
       "      <th>528</th>\n",
       "      <td>Diam_ext_pz</td>\n",
       "      <td>50</td>\n",
       "      <td>25.0</td>\n",
       "      <td>45.0</td>\n",
       "      <td>3.60</td>\n",
       "      <td>NaN</td>\n",
       "      <td>75.0</td>\n",
       "      <td>75.0</td>\n",
       "    </tr>\n",
       "    <tr>\n",
       "      <th>529</th>\n",
       "      <td>Diam_ext_pz</td>\n",
       "      <td>51</td>\n",
       "      <td>25.0</td>\n",
       "      <td>45.0</td>\n",
       "      <td>3.60</td>\n",
       "      <td>NaN</td>\n",
       "      <td>75.0</td>\n",
       "      <td>75.0</td>\n",
       "    </tr>\n",
       "    <tr>\n",
       "      <th>531</th>\n",
       "      <td>Diam_ext_pz</td>\n",
       "      <td>52</td>\n",
       "      <td>25.0</td>\n",
       "      <td>45.0</td>\n",
       "      <td>3.60</td>\n",
       "      <td>NaN</td>\n",
       "      <td>75.0</td>\n",
       "      <td>75.0</td>\n",
       "    </tr>\n",
       "    <tr>\n",
       "      <th>554</th>\n",
       "      <td>Diam_ext_pz, Diam_for, Long_pz</td>\n",
       "      <td>F15bM</td>\n",
       "      <td>53.0</td>\n",
       "      <td>50.0</td>\n",
       "      <td>4.00</td>\n",
       "      <td>4.67</td>\n",
       "      <td>75.0</td>\n",
       "      <td>108.0</td>\n",
       "    </tr>\n",
       "    <tr>\n",
       "      <th>558</th>\n",
       "      <td>Diam_ext_pz, Diam_for, Long_pz</td>\n",
       "      <td>F17dM</td>\n",
       "      <td>53.0</td>\n",
       "      <td>50.0</td>\n",
       "      <td>3.60</td>\n",
       "      <td>3.97</td>\n",
       "      <td>75.0</td>\n",
       "      <td>108.0</td>\n",
       "    </tr>\n",
       "  </tbody>\n",
       "</table>\n",
       "</div>"
      ],
      "text/plain": [
       "                          Check_col     ID  Diam_ext_pz_x  Diam_ext_pz_y  \\\n",
       "3                       Diam_ext_pz    F2M           53.0           45.0   \n",
       "4                           Long_pz    F3M            NaN           45.0   \n",
       "5                           Long_pz    F3M            NaN           45.0   \n",
       "6              Diam_ext_pz, Long_pz    F3M           53.0           45.0   \n",
       "9                       Diam_ext_pz    F4M           53.0           45.0   \n",
       "13                      Diam_ext_pz    F5M           53.0           45.0   \n",
       "16                      Diam_ext_pz    F6M           53.0           45.0   \n",
       "18                      Diam_ext_pz   F11M           53.0           45.0   \n",
       "21                      Diam_ext_pz   F12M           53.0           45.0   \n",
       "22                          Long_pz   F13M            NaN           45.0   \n",
       "23                          Long_pz   F13M            NaN           45.0   \n",
       "24                          Long_pz   F13M            NaN           45.0   \n",
       "25             Diam_ext_pz, Long_pz   F13M           53.0           45.0   \n",
       "27            Diam_ext_pz, Diam_for   F14M           53.0           50.0   \n",
       "29                          Long_pz   F16M            NaN           50.0   \n",
       "30                          Long_pz   F16M            NaN           50.0   \n",
       "31   Diam_ext_pz, Diam_for, Long_pz   F16M           53.0           50.0   \n",
       "528                     Diam_ext_pz     50           25.0           45.0   \n",
       "529                     Diam_ext_pz     51           25.0           45.0   \n",
       "531                     Diam_ext_pz     52           25.0           45.0   \n",
       "554  Diam_ext_pz, Diam_for, Long_pz  F15bM           53.0           50.0   \n",
       "558  Diam_ext_pz, Diam_for, Long_pz  F17dM           53.0           50.0   \n",
       "\n",
       "     Long_pz_x  Long_pz_y  Diam_for_x  Diam_for_y  \n",
       "3         6.00        NaN        75.0        75.0  \n",
       "4         2.76       2.98         NaN        75.0  \n",
       "5         2.76       2.98         NaN        75.0  \n",
       "6         3.30       2.98        75.0        75.0  \n",
       "9         4.00        NaN        75.0        75.0  \n",
       "13        6.00        NaN        75.0        75.0  \n",
       "16        3.60        NaN        75.0        75.0  \n",
       "18        3.00        NaN        75.0        75.0  \n",
       "21        3.50        NaN        75.0        75.0  \n",
       "22        3.36       4.04         NaN        75.0  \n",
       "23        3.36       4.04         NaN        75.0  \n",
       "24        3.36       4.04         NaN        75.0  \n",
       "25        3.50       4.04        75.0        75.0  \n",
       "27        2.80        NaN        75.0       250.0  \n",
       "29        4.39       4.85         NaN       108.0  \n",
       "30        4.39       4.85         NaN       108.0  \n",
       "31        4.80       4.85        75.0       108.0  \n",
       "528       3.60        NaN        75.0        75.0  \n",
       "529       3.60        NaN        75.0        75.0  \n",
       "531       3.60        NaN        75.0        75.0  \n",
       "554       4.00       4.67        75.0       108.0  \n",
       "558       3.60       3.97        75.0       108.0  "
      ]
     },
     "execution_count": 77,
     "metadata": {},
     "output_type": "execute_result"
    }
   ],
   "source": [
    "conflict_df"
   ]
  },
  {
   "cell_type": "raw",
   "id": "00e2b641",
   "metadata": {},
   "source": [
    "data_validation(overall_data=mdf, conflict_data=conflict_df, index_col='index', \n",
    "                valid_dict={'Nappe_y':list(conflict_df.index)[:18]})"
   ]
  },
  {
   "cell_type": "code",
   "execution_count": 78,
   "id": "7dd2679a",
   "metadata": {},
   "outputs": [
    {
     "name": "stdout",
     "output_type": "stream",
     "text": [
      "some data must be checked !\n",
      "Rows : 633 ; Columns : 41 ; Unique on 'ID' : 440 ; \n"
     ]
    }
   ],
   "source": [
    "dataset, check1 = data_filter(dataset, position=True, id_col='ID', expression='sup|prof', \n",
    "                              dist_max=1, drop=True, drop_old_id=True)"
   ]
  },
  {
   "cell_type": "code",
   "execution_count": 79,
   "id": "adf5cf50",
   "metadata": {
    "scrolled": true
   },
   "outputs": [
    {
     "data": {
      "text/html": [
       "<div>\n",
       "<style scoped>\n",
       "    .dataframe tbody tr th:only-of-type {\n",
       "        vertical-align: middle;\n",
       "    }\n",
       "\n",
       "    .dataframe tbody tr th {\n",
       "        vertical-align: top;\n",
       "    }\n",
       "\n",
       "    .dataframe thead th {\n",
       "        text-align: right;\n",
       "    }\n",
       "</style>\n",
       "<table border=\"1\" class=\"dataframe\">\n",
       "  <thead>\n",
       "    <tr style=\"text-align: right;\">\n",
       "      <th></th>\n",
       "      <th>Check_col</th>\n",
       "      <th>ID</th>\n",
       "      <th>Type_ech</th>\n",
       "      <th>Methode</th>\n",
       "      <th>Resp_chantier</th>\n",
       "      <th>Refus</th>\n",
       "      <th>Method</th>\n",
       "      <th>Keyword</th>\n",
       "      <th>Sous_zone</th>\n",
       "      <th>Description</th>\n",
       "      <th>Type_refus</th>\n",
       "      <th>Societe</th>\n",
       "      <th>Zone</th>\n",
       "      <th>Date_ouv</th>\n",
       "      <th>ID_date</th>\n",
       "      <th>Type_equip</th>\n",
       "      <th>ID_2</th>\n",
       "      <th>Nappe</th>\n",
       "      <th>Long_for</th>\n",
       "      <th>Type</th>\n",
       "    </tr>\n",
       "  </thead>\n",
       "  <tbody>\n",
       "    <tr>\n",
       "      <th>1</th>\n",
       "      <td>Type_ech, Methode, Resp_chantier, Refus, Metho...</td>\n",
       "      <td>F2M</td>\n",
       "      <td>NaN</td>\n",
       "      <td>NaN</td>\n",
       "      <td>NaN</td>\n",
       "      <td>NaN</td>\n",
       "      <td>NaN</td>\n",
       "      <td>NaN</td>\n",
       "      <td>NaN</td>\n",
       "      <td>NaN</td>\n",
       "      <td>NaN</td>\n",
       "      <td>NaN</td>\n",
       "      <td>NaN</td>\n",
       "      <td>NaN</td>\n",
       "      <td>NaN</td>\n",
       "      <td>Crepine</td>\n",
       "      <td>P2M</td>\n",
       "      <td>Remblais + limons</td>\n",
       "      <td>6.0</td>\n",
       "      <td>Piezo</td>\n",
       "    </tr>\n",
       "    <tr>\n",
       "      <th>2</th>\n",
       "      <td>Type_ech, Methode, Resp_chantier, Refus, Metho...</td>\n",
       "      <td>F2M</td>\n",
       "      <td>NaN</td>\n",
       "      <td>NaN</td>\n",
       "      <td>NaN</td>\n",
       "      <td>NaN</td>\n",
       "      <td>NaN</td>\n",
       "      <td>NaN</td>\n",
       "      <td>NaN</td>\n",
       "      <td>NaN</td>\n",
       "      <td>NaN</td>\n",
       "      <td>NaN</td>\n",
       "      <td>NaN</td>\n",
       "      <td>NaN</td>\n",
       "      <td>NaN</td>\n",
       "      <td>Crepine</td>\n",
       "      <td>P2M</td>\n",
       "      <td>Remblais + limons</td>\n",
       "      <td>6.0</td>\n",
       "      <td>Piezo</td>\n",
       "    </tr>\n",
       "    <tr>\n",
       "      <th>3</th>\n",
       "      <td>Type_ech, Methode, Resp_chantier, Refus, Metho...</td>\n",
       "      <td>F2M</td>\n",
       "      <td>NaN</td>\n",
       "      <td>NaN</td>\n",
       "      <td>NaN</td>\n",
       "      <td>NaN</td>\n",
       "      <td>Dual tube</td>\n",
       "      <td>NaN</td>\n",
       "      <td>NaN</td>\n",
       "      <td>NaN</td>\n",
       "      <td>NaN</td>\n",
       "      <td>ECOPLANNING sprl</td>\n",
       "      <td>NaN</td>\n",
       "      <td>2017-02-22</td>\n",
       "      <td>2017-F2M</td>\n",
       "      <td>NaN</td>\n",
       "      <td>P2M</td>\n",
       "      <td>Remblais + limons</td>\n",
       "      <td>6.0</td>\n",
       "      <td>Piezo</td>\n",
       "    </tr>\n",
       "    <tr>\n",
       "      <th>5</th>\n",
       "      <td>Type_ech, Methode, Resp_chantier, Method, Keyw...</td>\n",
       "      <td>F3M</td>\n",
       "      <td>NaN</td>\n",
       "      <td>NaN</td>\n",
       "      <td>NaN</td>\n",
       "      <td>x</td>\n",
       "      <td>NaN</td>\n",
       "      <td>NaN</td>\n",
       "      <td>NaN</td>\n",
       "      <td>NaN</td>\n",
       "      <td>NaN</td>\n",
       "      <td>NaN</td>\n",
       "      <td>NaN</td>\n",
       "      <td>NaN</td>\n",
       "      <td>NaN</td>\n",
       "      <td>Crepine</td>\n",
       "      <td>P3M</td>\n",
       "      <td>Remblais</td>\n",
       "      <td>3.3</td>\n",
       "      <td>Piezo</td>\n",
       "    </tr>\n",
       "    <tr>\n",
       "      <th>6</th>\n",
       "      <td>Type_ech, Methode, Resp_chantier, Method, Keyw...</td>\n",
       "      <td>F3M</td>\n",
       "      <td>NaN</td>\n",
       "      <td>NaN</td>\n",
       "      <td>NaN</td>\n",
       "      <td>x</td>\n",
       "      <td>Dual tube</td>\n",
       "      <td>NaN</td>\n",
       "      <td>NaN</td>\n",
       "      <td>NaN</td>\n",
       "      <td>Laitier</td>\n",
       "      <td>ECOPLANNING sprl</td>\n",
       "      <td>NaN</td>\n",
       "      <td>2017-02-22</td>\n",
       "      <td>2017-F3M</td>\n",
       "      <td>NaN</td>\n",
       "      <td>P3M</td>\n",
       "      <td>Remblais</td>\n",
       "      <td>3.3</td>\n",
       "      <td>Piezo</td>\n",
       "    </tr>\n",
       "    <tr>\n",
       "      <th>...</th>\n",
       "      <td>...</td>\n",
       "      <td>...</td>\n",
       "      <td>...</td>\n",
       "      <td>...</td>\n",
       "      <td>...</td>\n",
       "      <td>...</td>\n",
       "      <td>...</td>\n",
       "      <td>...</td>\n",
       "      <td>...</td>\n",
       "      <td>...</td>\n",
       "      <td>...</td>\n",
       "      <td>...</td>\n",
       "      <td>...</td>\n",
       "      <td>...</td>\n",
       "      <td>...</td>\n",
       "      <td>...</td>\n",
       "      <td>...</td>\n",
       "      <td>...</td>\n",
       "      <td>...</td>\n",
       "      <td>...</td>\n",
       "    </tr>\n",
       "    <tr>\n",
       "      <th>561</th>\n",
       "      <td>Type_ech, Methode, Resp_chantier, Method, Keyw...</td>\n",
       "      <td>F1aM</td>\n",
       "      <td>NaN</td>\n",
       "      <td>NaN</td>\n",
       "      <td>NaN</td>\n",
       "      <td>x</td>\n",
       "      <td>NaN</td>\n",
       "      <td>NaN</td>\n",
       "      <td>NaN</td>\n",
       "      <td>NaN</td>\n",
       "      <td>NaN</td>\n",
       "      <td>NaN</td>\n",
       "      <td>NaN</td>\n",
       "      <td>NaN</td>\n",
       "      <td>NaN</td>\n",
       "      <td>NaN</td>\n",
       "      <td>NaN</td>\n",
       "      <td>NaN</td>\n",
       "      <td>2.4</td>\n",
       "      <td>Piezo</td>\n",
       "    </tr>\n",
       "    <tr>\n",
       "      <th>575</th>\n",
       "      <td>Type_ech, Methode, Resp_chantier, Refus, Metho...</td>\n",
       "      <td>F52</td>\n",
       "      <td>NaN</td>\n",
       "      <td>NaN</td>\n",
       "      <td>NaN</td>\n",
       "      <td>NaN</td>\n",
       "      <td>NaN</td>\n",
       "      <td>Remblais déchets de construction</td>\n",
       "      <td>NaN</td>\n",
       "      <td>Remblais de déchets de construction - présence...</td>\n",
       "      <td>NaN</td>\n",
       "      <td>NaN</td>\n",
       "      <td>Mini-Pilote</td>\n",
       "      <td>2019-12-18</td>\n",
       "      <td>NaN</td>\n",
       "      <td>NaN</td>\n",
       "      <td>NaN</td>\n",
       "      <td>NaN</td>\n",
       "      <td>NaN</td>\n",
       "      <td>Piezo</td>\n",
       "    </tr>\n",
       "    <tr>\n",
       "      <th>576</th>\n",
       "      <td>Type_ech, Methode, Resp_chantier, Refus, Metho...</td>\n",
       "      <td>F52</td>\n",
       "      <td>NaN</td>\n",
       "      <td>NaN</td>\n",
       "      <td>NaN</td>\n",
       "      <td>NaN</td>\n",
       "      <td>NaN</td>\n",
       "      <td>Remblais déchets sidérurgiques</td>\n",
       "      <td>NaN</td>\n",
       "      <td>Remblais de couleur noir - Présence d'éclat ch...</td>\n",
       "      <td>NaN</td>\n",
       "      <td>NaN</td>\n",
       "      <td>Mini-Pilote</td>\n",
       "      <td>2019-12-18</td>\n",
       "      <td>NaN</td>\n",
       "      <td>NaN</td>\n",
       "      <td>NaN</td>\n",
       "      <td>NaN</td>\n",
       "      <td>NaN</td>\n",
       "      <td>Piezo</td>\n",
       "    </tr>\n",
       "    <tr>\n",
       "      <th>577</th>\n",
       "      <td>Type_ech, Methode, Resp_chantier, Refus, Metho...</td>\n",
       "      <td>F52</td>\n",
       "      <td>NaN</td>\n",
       "      <td>NaN</td>\n",
       "      <td>NaN</td>\n",
       "      <td>NaN</td>\n",
       "      <td>NaN</td>\n",
       "      <td>Remblais déchets sidérurgiques</td>\n",
       "      <td>NaN</td>\n",
       "      <td>Remblais grossiers saturés avec scories - char...</td>\n",
       "      <td>NaN</td>\n",
       "      <td>NaN</td>\n",
       "      <td>Mini-Pilote</td>\n",
       "      <td>2019-12-18</td>\n",
       "      <td>NaN</td>\n",
       "      <td>NaN</td>\n",
       "      <td>NaN</td>\n",
       "      <td>NaN</td>\n",
       "      <td>NaN</td>\n",
       "      <td>Piezo</td>\n",
       "    </tr>\n",
       "    <tr>\n",
       "      <th>578</th>\n",
       "      <td>Type_ech, Methode, Resp_chantier, Refus, Metho...</td>\n",
       "      <td>F52</td>\n",
       "      <td>NaN</td>\n",
       "      <td>NaN</td>\n",
       "      <td>NaN</td>\n",
       "      <td>NaN</td>\n",
       "      <td>NaN</td>\n",
       "      <td>Remblais déchets sidérurgiques</td>\n",
       "      <td>NaN</td>\n",
       "      <td>Idem - Odeur d'hydrocarbures commence à 3 m.</td>\n",
       "      <td>NaN</td>\n",
       "      <td>NaN</td>\n",
       "      <td>Mini-Pilote</td>\n",
       "      <td>2019-12-18</td>\n",
       "      <td>NaN</td>\n",
       "      <td>NaN</td>\n",
       "      <td>NaN</td>\n",
       "      <td>NaN</td>\n",
       "      <td>NaN</td>\n",
       "      <td>Piezo</td>\n",
       "    </tr>\n",
       "  </tbody>\n",
       "</table>\n",
       "<p>193 rows × 20 columns</p>\n",
       "</div>"
      ],
      "text/plain": [
       "                                             Check_col    ID Type_ech Methode  \\\n",
       "1    Type_ech, Methode, Resp_chantier, Refus, Metho...   F2M      NaN     NaN   \n",
       "2    Type_ech, Methode, Resp_chantier, Refus, Metho...   F2M      NaN     NaN   \n",
       "3    Type_ech, Methode, Resp_chantier, Refus, Metho...   F2M      NaN     NaN   \n",
       "5    Type_ech, Methode, Resp_chantier, Method, Keyw...   F3M      NaN     NaN   \n",
       "6    Type_ech, Methode, Resp_chantier, Method, Keyw...   F3M      NaN     NaN   \n",
       "..                                                 ...   ...      ...     ...   \n",
       "561  Type_ech, Methode, Resp_chantier, Method, Keyw...  F1aM      NaN     NaN   \n",
       "575  Type_ech, Methode, Resp_chantier, Refus, Metho...   F52      NaN     NaN   \n",
       "576  Type_ech, Methode, Resp_chantier, Refus, Metho...   F52      NaN     NaN   \n",
       "577  Type_ech, Methode, Resp_chantier, Refus, Metho...   F52      NaN     NaN   \n",
       "578  Type_ech, Methode, Resp_chantier, Refus, Metho...   F52      NaN     NaN   \n",
       "\n",
       "    Resp_chantier Refus     Method                           Keyword  \\\n",
       "1             NaN   NaN        NaN                               NaN   \n",
       "2             NaN   NaN        NaN                               NaN   \n",
       "3             NaN   NaN  Dual tube                               NaN   \n",
       "5             NaN     x        NaN                               NaN   \n",
       "6             NaN     x  Dual tube                               NaN   \n",
       "..            ...   ...        ...                               ...   \n",
       "561           NaN     x        NaN                               NaN   \n",
       "575           NaN   NaN        NaN  Remblais déchets de construction   \n",
       "576           NaN   NaN        NaN    Remblais déchets sidérurgiques   \n",
       "577           NaN   NaN        NaN    Remblais déchets sidérurgiques   \n",
       "578           NaN   NaN        NaN    Remblais déchets sidérurgiques   \n",
       "\n",
       "    Sous_zone                                        Description Type_refus  \\\n",
       "1         NaN                                                NaN        NaN   \n",
       "2         NaN                                                NaN        NaN   \n",
       "3         NaN                                                NaN        NaN   \n",
       "5         NaN                                                NaN        NaN   \n",
       "6         NaN                                                NaN    Laitier   \n",
       "..        ...                                                ...        ...   \n",
       "561       NaN                                                NaN        NaN   \n",
       "575       NaN  Remblais de déchets de construction - présence...        NaN   \n",
       "576       NaN  Remblais de couleur noir - Présence d'éclat ch...        NaN   \n",
       "577       NaN  Remblais grossiers saturés avec scories - char...        NaN   \n",
       "578       NaN      Idem - Odeur d'hydrocarbures commence à 3 m.         NaN   \n",
       "\n",
       "              Societe         Zone    Date_ouv   ID_date Type_equip ID_2  \\\n",
       "1                 NaN          NaN         NaN       NaN    Crepine  P2M   \n",
       "2                 NaN          NaN         NaN       NaN    Crepine  P2M   \n",
       "3    ECOPLANNING sprl          NaN  2017-02-22  2017-F2M        NaN  P2M   \n",
       "5                 NaN          NaN         NaN       NaN    Crepine  P3M   \n",
       "6    ECOPLANNING sprl          NaN  2017-02-22  2017-F3M        NaN  P3M   \n",
       "..                ...          ...         ...       ...        ...  ...   \n",
       "561               NaN          NaN         NaN       NaN        NaN  NaN   \n",
       "575               NaN  Mini-Pilote  2019-12-18       NaN        NaN  NaN   \n",
       "576               NaN  Mini-Pilote  2019-12-18       NaN        NaN  NaN   \n",
       "577               NaN  Mini-Pilote  2019-12-18       NaN        NaN  NaN   \n",
       "578               NaN  Mini-Pilote  2019-12-18       NaN        NaN  NaN   \n",
       "\n",
       "                 Nappe  Long_for   Type  \n",
       "1    Remblais + limons       6.0  Piezo  \n",
       "2    Remblais + limons       6.0  Piezo  \n",
       "3    Remblais + limons       6.0  Piezo  \n",
       "5             Remblais       3.3  Piezo  \n",
       "6             Remblais       3.3  Piezo  \n",
       "..                 ...       ...    ...  \n",
       "561                NaN       2.4  Piezo  \n",
       "575                NaN       NaN  Piezo  \n",
       "576                NaN       NaN  Piezo  \n",
       "577                NaN       NaN  Piezo  \n",
       "578                NaN       NaN  Piezo  \n",
       "\n",
       "[193 rows x 20 columns]"
      ]
     },
     "execution_count": 79,
     "metadata": {},
     "output_type": "execute_result"
    }
   ],
   "source": [
    "check1"
   ]
  },
  {
   "cell_type": "code",
   "execution_count": 80,
   "id": "280384f0",
   "metadata": {
    "scrolled": true
   },
   "outputs": [
    {
     "name": "stdout",
     "output_type": "stream",
     "text": [
      "Rows : 633, columns : 41, Unique values on col 'ID': 440\n"
     ]
    },
    {
     "data": {
      "application/vnd.jupyter.widget-view+json": {
       "model_id": "4acf0c6692e94d2d9d0fd69130a34f53",
       "version_major": 2,
       "version_minor": 0
      },
      "text/plain": [
       "interactive(children=(IntSlider(value=3, description='rows', max=633, min=3, readout=False), IntSlider(value=1…"
      ]
     },
     "metadata": {},
     "output_type": "display_data"
    }
   ],
   "source": [
    "dataframe_viewer(dataset, rows=3, un_val='ID', view=t)"
   ]
  },
  {
   "cell_type": "markdown",
   "id": "00069d40",
   "metadata": {},
   "source": [
    "####  $\\color{red}{\\textbf{Save final object dataset}}$"
   ]
  },
  {
   "cell_type": "code",
   "execution_count": 81,
   "id": "a4de8860",
   "metadata": {},
   "outputs": [],
   "source": [
    "for c in dataset.columns:\n",
    "    if c in ['index', 'Origin_ID'] and c in dataset.columns:\n",
    "        dataset.drop(columns=c, inplace=True)"
   ]
  },
  {
   "cell_type": "code",
   "execution_count": 82,
   "id": "19b91ec5",
   "metadata": {},
   "outputs": [],
   "source": [
    "if not os.path.exists(save_dir):\n",
    "    os.makedirs(save_dir)\n",
    "    \n",
    "dataset.to_csv(save_dir + save_file, index=False)"
   ]
  },
  {
   "cell_type": "markdown",
   "id": "80259d62",
   "metadata": {},
   "source": [
    "## Querying"
   ]
  },
  {
   "cell_type": "raw",
   "id": "1eea3263",
   "metadata": {},
   "source": [
    "coi_1 = ['ID','Date_ouv','X','Y','Z','Zsol','Type','Description','Diam_for','Long_for',]\n",
    "coi_2 = ['Nappe','Refus','Type_refus','Profondeur','Long_pz','Diam_ext_pz','Diam_int_pz','Zone']"
   ]
  },
  {
   "cell_type": "raw",
   "id": "956f7704",
   "metadata": {
    "scrolled": true
   },
   "source": [
    "x_min, x_max = 152882, 152885\n",
    "y_min, y_max =  122605, 122608\n",
    "bh_name = 'F1.M' # regex\n",
    "#bh_name = None\n",
    "\n",
    "q = dataset.query(f'X >= {x_min} and X <= {x_max} and Y >= {y_min} and Y <= {y_max}')\n",
    "if bh_name is not None:\n",
    "    q = dataset.query(f'ID.str.contains(\"{bh_name}\")', engine='python')\n",
    "dataframe_viewer(q[coi_1 + coi_2], rows=10, cols=15, un_val='ID', view=t)"
   ]
  },
  {
   "cell_type": "raw",
   "id": "135c3489",
   "metadata": {},
   "source": [
    "drop_dict = {1:10, 2:20, 3:30, 4:10}"
   ]
  },
  {
   "cell_type": "raw",
   "id": "09f7d126",
   "metadata": {},
   "source": [
    "[k for k, v in drop_dict.items() if v == min(drop_dict.values())][0]"
   ]
  },
  {
   "cell_type": "code",
   "execution_count": null,
   "id": "56806e84",
   "metadata": {},
   "outputs": [],
   "source": []
  }
 ],
 "metadata": {
  "kernelspec": {
   "display_name": "Python 3 (ipykernel)",
   "language": "python",
   "name": "python3"
  },
  "language_info": {
   "codemirror_mode": {
    "name": "ipython",
    "version": 3
   },
   "file_extension": ".py",
   "mimetype": "text/x-python",
   "name": "python",
   "nbconvert_exporter": "python",
   "pygments_lexer": "ipython3",
   "version": "3.8.10"
  }
 },
 "nbformat": 4,
 "nbformat_minor": 5
}
