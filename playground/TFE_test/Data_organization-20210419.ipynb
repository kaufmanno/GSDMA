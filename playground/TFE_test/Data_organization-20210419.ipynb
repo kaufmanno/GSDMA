{
 "cells": [
  {
   "cell_type": "markdown",
   "id": "indonesian-alloy",
   "metadata": {},
   "source": [
    "# DATA ORGANIZATION"
   ]
  },
  {
   "cell_type": "code",
   "execution_count": 1,
   "id": "national-opera",
   "metadata": {},
   "outputs": [],
   "source": [
    "%matplotlib widget"
   ]
  },
  {
   "cell_type": "raw",
   "id": "demanding-former",
   "metadata": {},
   "source": [
    "config Completer.use_jedi = False"
   ]
  },
  {
   "cell_type": "code",
   "execution_count": 2,
   "id": "naughty-clerk",
   "metadata": {},
   "outputs": [],
   "source": [
    "from utils.io import gen_id_dated, gdf_viewer, gdf_geom, gdf_merger, na_col_drop, na_line_drop, col_ren, dble_col_drop\n",
    "import re, os\n",
    "import numpy as np\n",
    "import geopandas as gpd\n",
    "import pandas as pd\n",
    "import datetime as dtm\n",
    "import matplotlib.pyplot as plt"
   ]
  },
  {
   "cell_type": "markdown",
   "id": "baking-nitrogen",
   "metadata": {},
   "source": [
    "Data format (excel files)"
   ]
  },
  {
   "cell_type": "code",
   "execution_count": 639,
   "id": "limiting-bracket",
   "metadata": {},
   "outputs": [],
   "source": [
    "def compute_BH_length(df, length_col_name='Profondeur', top_col='Litho_top', base_col='Litho_base', verbose=False):\n",
    "    for i in df.index:\n",
    "        try:\n",
    "            float(df.loc[i, top_col])\n",
    "        except ValueError:\n",
    "            df.loc[i, top_col] = np.nan\n",
    "\n",
    "        try:\n",
    "            float(df.loc[i, base_col])\n",
    "        except ValueError:\n",
    "            df.loc[i, base_col] = np.nan\n",
    "\n",
    "    df[top_col] = df[top_col].astype('float64')\n",
    "    df[base_col] = df[base_col].astype('float64')\n",
    "\n",
    "    # compute length based on litho_top and litho_base\n",
    "    id_list = []\n",
    "\n",
    "    for i in df.index:\n",
    "        id_ = df.loc[i,'ID']\n",
    "        \n",
    "        if verbose : print(i, id_, df.loc[i, top_col], df.loc[i, base_col])\n",
    "        if id_ not in id_list:\n",
    "            id_list.append(id_)\n",
    "            if isinstance(id_, str):\n",
    "                sql_id = f\"{id_}\"\n",
    "            elif isinstance(id_, float) or isinstance(id_, int):\n",
    "                sql_id = id_\n",
    "                \n",
    "            tmp = df[df['ID'] == sql_id]\n",
    "            \n",
    "            if verbose : print(len(tmp))\n",
    "            #if len(tmp) > 0:\n",
    "            df.loc[tmp.index, length_col_name] = float(max(tmp[base_col])) - float(min(tmp[top_col]))\n",
    "    \n",
    "    df.drop(index=df.query(f'{base_col}.isnull() and {top_col}.isnull()').index, inplace=True)\n",
    "    df.insert(df.columns.to_list().index('ID')+1, length_col_name, df.pop(length_col_name))\n",
    "    #df.reset_index(drop=True, inplace=True)\n",
    "    "
   ]
  },
  {
   "cell_type": "raw",
   "id": "smoking-patio",
   "metadata": {},
   "source": [
    "test=['fraction aromat. >C6-C7','Fraction C5.\\n - C8','Fraction (C.5. -_-C,8)\\n', '1,1,1-TCE.1', 'crits']\n",
    "s=['C5-C8','1,1,1-TCE','111','fraction aromat. >C6-C7.1','C6C7', 'crits']\n",
    "strp=' |>|<|-|\\n|_|\\(|\\.|\\)|,'\n",
    "[test[i] for i in range(len(test)) if re.match(f\"{re.sub(strp,'',s[5])}\", test[i], re.I)] #re.sub(strp,'',test[i])\n",
    "#re.search(s[5],test[4], re.I)"
   ]
  },
  {
   "cell_type": "raw",
   "id": "miniature-running",
   "metadata": {},
   "source": [
    "test=['un', 'uns', 'deux', 'de', 'sans', 'san']\n",
    "for i in test:\n",
    "    if re.match('de(?:ux)?', i): print(i)"
   ]
  },
  {
   "cell_type": "code",
   "execution_count": 4,
   "id": "political-classroom",
   "metadata": {},
   "outputs": [],
   "source": [
    "pol_field_model={'Arsenic': 'As', 'Cadmium': 'Cd', 'Chrome': 'Cr', 'Chrome VI': 'Cr_VI', 'Cuivre': 'Cu', \n",
    "'Mercure': 'Hg', 'Plomb': 'Pb', 'Nickel': 'Ni', 'Zinc': 'Zn', 'Cyanure(?:s)? (?libre(?:s)?)?': 'CN_libre', \n",
    "'Cyanures (totaux)': 'CN_tot','Cyanure (totaux)': 'CN_tot','CN_totaux':'CN_tot','Cyanures (APE)': 'CN_APE',\n",
    "'cyanure (totaux)':'CN_tot', 'cyanure (APE)':'CN_APE', 'cyanure complex': 'CN_comp','Cyanure (APE)': 'CN_APE', \n",
    "'thiocyanate': 'thioCN',\n",
    "'Benzène': 'Bnz', 'Toluène': 'Toln', 'Éthylbenzène': 'EthylBnz', 'Orthoxylène': 'O-Xyl', \n",
    "'Para- et métaxylène': 'P-M-Xyl', 'Xylènes': 'Xyl', 'Styrène': 'Styr', 'BTEX totaux': 'BTEX_tot', \n",
    "'Phénol': 'Phenol', 'Indice phénol': 'Idc_Phenol', 'Naphtalène': 'Naphta', 'Acénaphtylène': 'Acenaphtyl', \n",
    "'Acénaphtène': 'Acenaphtn', 'Fluorène': 'Fluorene', 'Phénanthrène': 'Phenanthr', 'Anthracène': 'Anthrc', \n",
    "'Fluoranthène': 'Flranth', 'Pyrène': 'Pyr', 'Benzo(a)anthracène': 'Bnz(a)anthrc', 'Chrysène': 'Chrys', \n",
    "'Benzo(b)fluoranthène': 'Bnz(b)flranth', 'Benzo(k)fluoranthène': 'Bnz(k)flranth', \n",
    "'Benzo(a)pyrène': 'Bnz(a)pyr','Dibenzo(ah)anthracène': 'Dibnz(ah)anthrc',\n",
    "'Benzo(ghi)pérylène': 'Bnz(ghi)peryl', \n",
    "'Indéno(1,2,3-cd)pyrène': 'Indeno(1,2,3-cd)pyr', 'HAP Totaux (16) - EPA': 'HAP_tot_EPA', \n",
    "'1,1-Dichloroéthane': '1,1-DCE', '1,2-Dichloroéthane': '1,2-DCE', '1,1-dichloroéthène': '1,1-DCEn', \n",
    "'Cis-1,2-dichloroéthène': 'Cis-1,2-DCEn', 'Trans 1,2-dichloroéthylène': 'Trans 1,2-DCEyl', \n",
    "'Dichlorométhane': 'DCM', 'Totaux (cis,trans) 1,2-dichloroéthène(?:s)?': '(cis,trans) 1,2-DCE_tot', \n",
    "'1,2-dichloropropane': '1,2-DCP', 'Tétrachloroéthylène': 'TetraCEyn', 'Tétrachlorométhane': 'TCM', \n",
    "'1,1,1-Trichloroéthane': '1,1,1-TCE', '1,1,2-Trichloroéthane': '1,1,2-TCE', 'Trichloroéthylène': 'TCEyn', \n",
    "'Chloroforme': 'Chloroforme', 'Chlorure de vinyle': 'CVinyl', 'EOX': 'EOX', \n",
    "'fraction aromat. >C6-C7': 'Arom_C6C7', 'fraction aromat. >C7-C8': 'Arom_C7C8', \n",
    "'fraction aromat. >C8-C10': 'Arom_C8C10', 'fraction aliphat. C5-C6': 'Aliphat_C5C6', \n",
    "'fraction aliphat. >C6-C8': 'Aliphat_C6C8', 'fraction aliphat. >C8-C10': 'Aliphat_C8C10', \n",
    "'Fraction C5 - C8': 'Fract_C5C8', 'Fraction C8-C10': 'Fract_C8C10', 'Fraction C10-C12': 'Fract_C10C12', \n",
    "'Fraction C12-C16': 'Fract_C12C16', 'Fraction C16 - C21': 'Fract_C16C21', 'Fraction C21 - C35': 'Fract_C21C35', \n",
    "'Fraction C35 - C40': 'Fract_C35C40', 'Hydrocarbures totaux C10-C35': 'HC_tot_C10C35','C5-C8':'Fract_C5C8', \n",
    "'C8-C10':'Fract_C8C10','C10-C12':'Fract_C10C12','C12-C16':'Fract_C12C16','C16-C21':'Fract_C16C21', \n",
    "'C21-C35':'Fract_C21C35','C35-C40':'Fract_C35C40', 'totaux C10-C35':'HC_tot_C10C35','C12-C22':'Fract_C12C22', \n",
    "'C22-C30':'Fract_C22C30','C30-C40':'Fract_C30C40', 'Totaux C10-C40':'HC_tot_C10C40',\n",
    "'Hydrocarbures totaux C10-C40':'HC_tot_C10C40', 'MTBE': 'MTBE', 'PCB 28': 'PCB_28', 'PCB 52': 'PCB_52', \n",
    "'PCB 101': 'PCB_101', 'PCB 118': 'PCB_118', 'PCB 138': 'PCB_138', 'PCB 153': 'PCB_153', 'PCB 180': 'PCB_180', \n",
    "'PCB totaux (7)?': 'PCB_tot', 'Chlorure(?:s)?': 'Chlorure', 'Soufre Total': 'S_tot', 'sulfite(?:s)?': 'sulfite', \n",
    "'sulfate(?:s)?': 'sulfate', 'COT':'COT','DBO (5 jours)':'DBO_5j','DCO':'DCO', \n",
    "'Ammonium':'NH4','ammoniaque libre':'NH3_libre','Nitrate':'HNO3', 'Nitrite':'HNO2','azote Kjeldahl':'N_Kjdl','sulfures totaux':'Sulfure_tot', \n",
    "'sulfure(?:s)? (libre(?:s)?)':'Sulfure_libre','calcium':'Ca','potassium':'K', 'magnésium':'Mg', 'manganèse':'Mn', \n",
    "'sodium':\"Na\", 'fer':'Fe','phosphore (total)':'P_tot','carbonate':'CaCO3', 'bicarbonate':'Bicarb','Phoshore':'P',\n",
    "'fer ((Fe))? total':'Fe_tot', 'fer (2\\+)':'Fe2','fluorure(?:s)?':'Fluorure','bromure (libre)':'B_libre'}\n"
   ]
  },
  {
   "cell_type": "markdown",
   "id": "driving-script",
   "metadata": {},
   "source": [
    "source_dfs initialization"
   ]
  },
  {
   "cell_type": "code",
   "execution_count": 5,
   "id": "flying-disabled",
   "metadata": {},
   "outputs": [
    {
     "name": "stdout",
     "output_type": "stream",
     "text": [
      "source_bh:0 ; source_pz:0 ; source_litho:0 ; source_Fac-uknw:0 ; source_an:0 ;\n",
      "source_prv_sol:0 ;source_prv_eau:0 ; source_mes_pz:0 ; source_mes_sol:0 ;\n"
     ]
    }
   ],
   "source": [
    "_df = pd.DataFrame()\n",
    "source_mes_pz, source_mes_sol, source_pz, source_prv_eau = _df, _df, _df, _df\n",
    "source_prv_sol, source_ouv, source_an, source_litho, source_bh = _df, _df, _df, _df, _df\n",
    "\n",
    "print(f'source_bh:{len(source_bh)} ; source_pz:{len(source_pz)} ; source_litho:{len(source_litho)} ; '\n",
    "     f'source_Fac-uknw:{len(source_ouv)} ; source_an:{len(source_an)} ;\\nsource_prv_sol:{len(source_prv_sol)} ;'\n",
    "     f'source_prv_eau:{len(source_prv_eau)} ; source_mes_pz:{len(source_mes_pz)} ; source_mes_sol:{len(source_mes_sol)} ;')"
   ]
  },
  {
   "cell_type": "markdown",
   "id": "current-taxation",
   "metadata": {},
   "source": [
    "## 1- Profils sols et données forages.xls\n",
    "* **Sheet : 'Données de forage'**"
   ]
  },
  {
   "cell_type": "code",
   "execution_count": 6,
   "id": "emerging-dylan",
   "metadata": {},
   "outputs": [],
   "source": [
    "tmp_dir='../../CF_data/Result_traitem/profils_sols_donnees_forages/'\n",
    "sheet='donnees_forage'"
   ]
  },
  {
   "cell_type": "code",
   "execution_count": 7,
   "id": "referenced-violin",
   "metadata": {
    "scrolled": false
   },
   "outputs": [
    {
     "name": "stdout",
     "output_type": "stream",
     "text": [
      "Rows : 25, columns : 15\n"
     ]
    },
    {
     "data": {
      "application/vnd.jupyter.widget-view+json": {
       "model_id": "1a53f49d32f046c7a254ea1dde755982",
       "version_major": 2,
       "version_minor": 0
      },
      "text/plain": [
       "interactive(children=(IntSlider(value=10, description='rows', max=25, min=10, readout=False), IntSlider(value=…"
      ]
     },
     "metadata": {},
     "output_type": "display_data"
    }
   ],
   "source": [
    "df = pd.read_excel('../../CF_data/Data_UMONS/ouvrages/Profils sols et données forages.xls', \n",
    "                   sheet_name='Données de forage')#, skiprows=2)\n",
    "df.replace(r'<|>','', inplace=True, regex=True)\n",
    "df.replace(r'-$',np.nan, inplace=True, regex=True)\n",
    "\n",
    "gdf_viewer(df)"
   ]
  },
  {
   "cell_type": "code",
   "execution_count": 8,
   "id": "beginning-mercy",
   "metadata": {},
   "outputs": [],
   "source": [
    "df.rename(columns={'Date':'Date_ouv','Profondeur':'Long_for', 'Méthode':'Method', \n",
    "                        'Diamètre forage':'Diam_for','Niv. Eau p/r sol':'Niv_eau_sol',\n",
    "                        'PZ Prof.':'Long_pz', 'PZ Diamètre':'Diam_pz','PZ L.crépinée':'Long_crep', \n",
    "                        'Société forage':'Societe'}, inplace=True)\n",
    "\n",
    "df=df[['ID', 'X', 'Y', 'Z', 'Date_ouv', 'Long_for', 'Diam_for', 'Long_pz', 'Diam_pz', 'Long_crep',\n",
    "                 'Remarque','Niv_eau_sol','Method', 'Societe']]"
   ]
  },
  {
   "cell_type": "code",
   "execution_count": 9,
   "id": "furnished-rally",
   "metadata": {},
   "outputs": [
    {
     "name": "stdout",
     "output_type": "stream",
     "text": [
      "Generation of ID-dated...\n",
      "Using column ' Date_ouv ' in the (geo)dataframe !\n",
      "Process ended, check the (geo)dataframe\n"
     ]
    }
   ],
   "source": [
    "df['Type'] = df['Long_pz'].apply(lambda x: 'Forage' if pd.isnull(x) else 'Piezo')\n",
    "df['Refus'] = ''\n",
    "df['Type_refus']=''\n",
    "\n",
    "for i in range(len(df['Remarque'])):\n",
    "    val = str(df.loc[i,'Remarque'])\n",
    "    if re.search('[Bb]loqué', val) :\n",
    "        df.loc[i,'Refus'] = 'x'\n",
    "        \n",
    "        if re.search('[lL]aitier', val):\n",
    "            df.loc[i,'Type_refus'] = 'Laitier'\n",
    "        elif re.search('[Bb]éton', val):\n",
    "            df.loc[i,'Type_refus'] = 'Béton'\n",
    "        elif re.search('[Mm]atériaux', val):\n",
    "            df.loc[i,'Type_refus'] = 'Matériaux indurés' \n",
    "    else: \n",
    "        df.loc[i,'Refus'] = '' \n",
    "\n",
    "df['Diam_int_pz'] = df['Diam_pz'].apply(lambda x: pd.to_numeric(x.replace(' mm','').split('x')[1].strip(' m')) if not pd.isnull(x) else x)\n",
    "df['Diam_ext_pz'] = df['Diam_pz'].apply(lambda x: pd.to_numeric(x.replace(' mm','').split('x')[0].strip(' m')) if not pd.isnull(x) else x)\n",
    "df['Diam_for'] = df['Diam_for'].apply(lambda x: pd.to_numeric(x) if not pd.isnull(x) else x)\n",
    "\n",
    "df.insert(7, 'Diam_ext_pz', df.pop('Diam_ext_pz')) # move to a specified position\n",
    "df.insert(8, 'Diam_int_pz', df.pop('Diam_int_pz'))\n",
    "df.drop(columns=['Remarque', 'Diam_pz'], axis=1, inplace=True)\n",
    "df.drop(df.query(\"ID!=ID\").index, inplace=True) # delete all ID='NaN' lines\n",
    "\n",
    "gen_id_dated(df,'ID','Date_ouv')  "
   ]
  },
  {
   "cell_type": "code",
   "execution_count": 10,
   "id": "polish-money",
   "metadata": {},
   "outputs": [],
   "source": [
    "pz = df.query(\"Type=='Piezo'\")\n",
    "bh = df.query(\"Type!='Piezo'\")\n",
    "\n",
    "pz.reset_index(inplace=True, drop=True)\n",
    "bh.reset_index(inplace=True, drop=True)"
   ]
  },
  {
   "cell_type": "code",
   "execution_count": 11,
   "id": "northern-medication",
   "metadata": {},
   "outputs": [
    {
     "name": "stderr",
     "output_type": "stream",
     "text": [
      "/home/yanathan/.local/share/virtualenvs/GSDMA-DRfwm83x/lib/python3.8/site-packages/pandas/core/frame.py:4305: SettingWithCopyWarning: \n",
      "A value is trying to be set on a copy of a slice from a DataFrame\n",
      "\n",
      "See the caveats in the documentation: https://pandas.pydata.org/pandas-docs/stable/user_guide/indexing.html#returning-a-view-versus-a-copy\n",
      "  return super().drop(\n"
     ]
    }
   ],
   "source": [
    "bh.drop(columns=['Diam_ext_pz', 'Diam_int_pz', 'Long_pz', 'Long_crep', 'Niv_eau_sol',], axis=1, inplace=True)"
   ]
  },
  {
   "cell_type": "code",
   "execution_count": 12,
   "id": "lasting-encoding",
   "metadata": {},
   "outputs": [
    {
     "name": "stdout",
     "output_type": "stream",
     "text": [
      "Rows : 13, columns : 13\n"
     ]
    },
    {
     "data": {
      "application/vnd.jupyter.widget-view+json": {
       "model_id": "30a6bfbd543847dfb384637a183a3a2a",
       "version_major": 2,
       "version_minor": 0
      },
      "text/plain": [
       "interactive(children=(IntSlider(value=3, description='rows', max=13, min=3, readout=False), IntSlider(value=12…"
      ]
     },
     "metadata": {},
     "output_type": "display_data"
    },
    {
     "name": "stdout",
     "output_type": "stream",
     "text": [
      "Rows : 12, columns : 18\n"
     ]
    },
    {
     "data": {
      "application/vnd.jupyter.widget-view+json": {
       "model_id": "7e76aa9066c24b4d9548daae4f8d9893",
       "version_major": 2,
       "version_minor": 0
      },
      "text/plain": [
       "interactive(children=(IntSlider(value=3, description='rows', max=12, min=3, readout=False), IntSlider(value=12…"
      ]
     },
     "metadata": {},
     "output_type": "display_data"
    },
    {
     "data": {
      "text/plain": [
       "(None, None)"
      ]
     },
     "execution_count": 12,
     "metadata": {},
     "output_type": "execute_result"
    }
   ],
   "source": [
    "gdf_viewer(bh, rows=3), gdf_viewer(pz, rows=3)"
   ]
  },
  {
   "cell_type": "code",
   "execution_count": 13,
   "id": "chief-recovery",
   "metadata": {},
   "outputs": [],
   "source": [
    "source_pz = pz\n",
    "source_bh = bh"
   ]
  },
  {
   "cell_type": "code",
   "execution_count": 14,
   "id": "becoming-bouquet",
   "metadata": {},
   "outputs": [
    {
     "name": "stdout",
     "output_type": "stream",
     "text": [
      "source_bh:13 ; source_pz:12\n"
     ]
    }
   ],
   "source": [
    "if not os.path.exists(tmp_dir):\n",
    "    os.makedirs(tmp_dir)\n",
    "    \n",
    "pz.to_csv(tmp_dir+sheet+'_Piezometers.csv', index=False)\n",
    "bh.to_csv(tmp_dir+sheet+'_Boreholes.csv', index=False)\n",
    "source_bh.to_csv(tmp_dir+'source_Boreholes.csv', index=False) #all Boreholes data in the source\n",
    "source_pz.to_csv(tmp_dir+'source_Piezometers.csv', index=False) #all Piezometers data in the source\n",
    "print(f'source_bh:{len(source_bh)} ; source_pz:{len(source_pz)}')"
   ]
  },
  {
   "cell_type": "markdown",
   "id": "negative-crack",
   "metadata": {},
   "source": [
    "* **Sheet : 'Piézométrie'**"
   ]
  },
  {
   "cell_type": "code",
   "execution_count": 15,
   "id": "pregnant-creativity",
   "metadata": {},
   "outputs": [],
   "source": [
    "tmp_dir='../../CF_data/Result_traitem/profils_sols_donnees_forages/'\n",
    "sheet='piezometrie'"
   ]
  },
  {
   "cell_type": "code",
   "execution_count": 16,
   "id": "future-israeli",
   "metadata": {
    "scrolled": false
   },
   "outputs": [
    {
     "name": "stdout",
     "output_type": "stream",
     "text": [
      "Rows : 37, columns : 21\n"
     ]
    },
    {
     "data": {
      "application/vnd.jupyter.widget-view+json": {
       "model_id": "07d2aa552b23443aa6e47d5836ec21c7",
       "version_major": 2,
       "version_minor": 0
      },
      "text/plain": [
       "interactive(children=(IntSlider(value=10, description='rows', max=37, min=10, readout=False), IntSlider(value=…"
      ]
     },
     "metadata": {},
     "output_type": "display_data"
    }
   ],
   "source": [
    "df = pd.read_excel('../../CF_data/Data_UMONS/ouvrages/Profils sols et données forages.xls', sheet_name='Piézométrie', skiprows=1)\n",
    "df.replace(r'<|>','', inplace=True, regex=True)\n",
    "df.replace(r'-$',np.nan, inplace=True, regex=True)\n",
    "\n",
    "gdf_viewer(df)"
   ]
  },
  {
   "cell_type": "code",
   "execution_count": 17,
   "id": "communist-white",
   "metadata": {
    "scrolled": false
   },
   "outputs": [
    {
     "name": "stdout",
     "output_type": "stream",
     "text": [
      "\n",
      "Columns dropped :['Label', 'Commentaires ', 'Unnamed: 5', 'Unnamed: 6', 'Unnamed: 7']\n",
      "\n"
     ]
    }
   ],
   "source": [
    "df=na_col_drop(df, 3)\n",
    "sdf=df[:11].copy()\n",
    "sdf.reset_index(inplace=True, drop=True)\n",
    "sdf.rename(columns={'z':'Z',}, inplace=True)\n",
    "sdf=sdf[['ID', 'Z']]\n",
    "sdf['Type']='Piezo'"
   ]
  },
  {
   "cell_type": "code",
   "execution_count": 18,
   "id": "recognized-charles",
   "metadata": {},
   "outputs": [],
   "source": [
    "a=0\n",
    "for x in df.columns:\n",
    "    if pd.isnull(df.loc[16,x]):\n",
    "        df.loc[16,x]='col'+str(a)\n",
    "    a+=1"
   ]
  },
  {
   "cell_type": "code",
   "execution_count": 19,
   "id": "heavy-market",
   "metadata": {},
   "outputs": [],
   "source": [
    "df.loc[16]=df.loc[16].apply(lambda x : x if not pd.isnull(x) else '')\n",
    "df.columns = df.loc[16]\n",
    "df=df[17:]\n",
    "df.reset_index(inplace=True, drop=True)\n",
    "\n",
    "#df.drop(columns=[df.columns.to_list()[x] for x in range(0,8)\n",
    "#                      if re.compile(r\"col|unnamed\").match(df.columns.to_list()[x])], axis=1, inplace=True) "
   ]
  },
  {
   "cell_type": "code",
   "execution_count": 20,
   "id": "massive-hormone",
   "metadata": {},
   "outputs": [
    {
     "name": "stdout",
     "output_type": "stream",
     "text": [
      "Rows : 20, columns : 16\n"
     ]
    },
    {
     "data": {
      "application/vnd.jupyter.widget-view+json": {
       "model_id": "4507db79f57b4cec92722e7687ac8af4",
       "version_major": 2,
       "version_minor": 0
      },
      "text/plain": [
       "interactive(children=(IntSlider(value=10, description='rows', max=20, min=10, readout=False), IntSlider(value=…"
      ]
     },
     "metadata": {},
     "output_type": "display_data"
    }
   ],
   "source": [
    "gdf_viewer(df)"
   ]
  },
  {
   "cell_type": "code",
   "execution_count": 21,
   "id": "english-television",
   "metadata": {},
   "outputs": [
    {
     "name": "stderr",
     "output_type": "stream",
     "text": [
      "/home/yanathan/.local/share/virtualenvs/GSDMA-DRfwm83x/lib/python3.8/site-packages/pandas/core/frame.py:4438: SettingWithCopyWarning: \n",
      "A value is trying to be set on a copy of a slice from a DataFrame\n",
      "\n",
      "See the caveats in the documentation: https://pandas.pydata.org/pandas-docs/stable/user_guide/indexing.html#returning-a-view-versus-a-copy\n",
      "  return super().rename(\n"
     ]
    }
   ],
   "source": [
    "df.rename(columns={'col3':'Date_prv', 'col4':'Nappe', 'col5':'ID', 'NP/piézo [m]':'Niv_eau_pz', \n",
    "                        'dim. piezo hors sol [m]':'haut_pz-sol', 'NP/sol [m]':'Niv_eau_sol', \n",
    "                        'Prof. piézo/piézo [m]':'Long_pz', 'Prof. piézo/sol [m]':'Long_pz-sol', \n",
    "                        'CE [mS/cm]':'CE','t° [°C]':'Temp', 'Observations':'Organo'}, inplace=True)"
   ]
  },
  {
   "cell_type": "code",
   "execution_count": 22,
   "id": "significant-november",
   "metadata": {
    "scrolled": true
   },
   "outputs": [
    {
     "name": "stderr",
     "output_type": "stream",
     "text": [
      "/home/yanathan/.local/share/virtualenvs/GSDMA-DRfwm83x/lib/python3.8/site-packages/pandas/core/frame.py:4521: SettingWithCopyWarning: \n",
      "A value is trying to be set on a copy of a slice from a DataFrame\n",
      "\n",
      "See the caveats in the documentation: https://pandas.pydata.org/pandas-docs/stable/user_guide/indexing.html#returning-a-view-versus-a-copy\n",
      "  return super().replace(\n",
      "<ipython-input-22-964064fa3395>:3: SettingWithCopyWarning: \n",
      "A value is trying to be set on a copy of a slice from a DataFrame.\n",
      "Try using .loc[row_indexer,col_indexer] = value instead\n",
      "\n",
      "See the caveats in the documentation: https://pandas.pydata.org/pandas-docs/stable/user_guide/indexing.html#returning-a-view-versus-a-copy\n",
      "  df['CE']=df['CE [µS/cm]'].apply(lambda x: pd.to_numeric(x)/1000\n",
      "/home/yanathan/.local/share/virtualenvs/GSDMA-DRfwm83x/lib/python3.8/site-packages/pandas/core/frame.py:4305: SettingWithCopyWarning: \n",
      "A value is trying to be set on a copy of a slice from a DataFrame\n",
      "\n",
      "See the caveats in the documentation: https://pandas.pydata.org/pandas-docs/stable/user_guide/indexing.html#returning-a-view-versus-a-copy\n",
      "  return super().drop(\n",
      "/home/yanathan/.local/share/virtualenvs/GSDMA-DRfwm83x/lib/python3.8/site-packages/pandas/core/indexing.py:1720: SettingWithCopyWarning: \n",
      "A value is trying to be set on a copy of a slice from a DataFrame.\n",
      "Try using .loc[row_indexer,col_indexer] = value instead\n",
      "\n",
      "See the caveats in the documentation: https://pandas.pydata.org/pandas-docs/stable/user_guide/indexing.html#returning-a-view-versus-a-copy\n",
      "  self._setitem_single_column(loc, value, pi)\n"
     ]
    }
   ],
   "source": [
    "df.insert(0, 'ID', df.pop('ID')) # move to first column\n",
    "df.replace('-', np.nan, inplace=True)\n",
    "df['CE']=df['CE [µS/cm]'].apply(lambda x: pd.to_numeric(x)/1000 \n",
    "                                  if re.search('^\\d+', str(x)) and not pd.isnull(x) else np.nan)\n",
    "df.drop('CE [µS/cm]', axis=1, inplace=True)\n",
    "df.loc[18, 'Niv_eau_pz']=np.nan\n",
    "#df['Date_prv']=df['Date_prv'].apply(lambda x : str(x.year) if not pd.isnull(x) else '')"
   ]
  },
  {
   "cell_type": "code",
   "execution_count": 23,
   "id": "confident-zoning",
   "metadata": {},
   "outputs": [
    {
     "name": "stdout",
     "output_type": "stream",
     "text": [
      "\n",
      "Columns dropped :['col0', 'col1', 'col2']\n",
      "\n"
     ]
    },
    {
     "name": "stderr",
     "output_type": "stream",
     "text": [
      "<ipython-input-23-3a00edfb852d>:5: SettingWithCopyWarning: \n",
      "A value is trying to be set on a copy of a slice from a DataFrame.\n",
      "Try using .loc[row_indexer,col_indexer] = value instead\n",
      "\n",
      "See the caveats in the documentation: https://pandas.pydata.org/pandas-docs/stable/user_guide/indexing.html#returning-a-view-versus-a-copy\n",
      "  df['Type_mes'] = 'phys-chim'\n"
     ]
    }
   ],
   "source": [
    "df.rename_axis(None, inplace=True, axis=1)\n",
    "df.drop(df.query(\"ID!=ID\").index, inplace=True) # supprimer les lignes avec ID='NaN'\n",
    "df.reset_index(inplace=True, drop=True)\n",
    "df=na_col_drop(df,2)\n",
    "df['Type_mes'] = 'phys-chim'"
   ]
  },
  {
   "cell_type": "code",
   "execution_count": 24,
   "id": "cellular-april",
   "metadata": {},
   "outputs": [],
   "source": [
    "cut_list = ['Nappe', 'haut_pz-sol', 'Long_pz', 'Long_pz-sol']\n",
    "for x in df.columns:\n",
    "    if x in cut_list:\n",
    "        sdf[x] = df[x]\n",
    "        \n",
    "df.drop(columns=cut_list, inplace=True)"
   ]
  },
  {
   "cell_type": "code",
   "execution_count": 25,
   "id": "preceding-maldives",
   "metadata": {},
   "outputs": [],
   "source": [
    "sdf['ID_2']=df['ID']"
   ]
  },
  {
   "cell_type": "code",
   "execution_count": 26,
   "id": "detailed-virgin",
   "metadata": {},
   "outputs": [],
   "source": [
    "mes_pz=df # piezometry and phys-chem measures\n",
    "pz=sdf # piezometers"
   ]
  },
  {
   "cell_type": "code",
   "execution_count": 27,
   "id": "running-rainbow",
   "metadata": {
    "scrolled": false
   },
   "outputs": [
    {
     "name": "stdout",
     "output_type": "stream",
     "text": [
      "Ambiguous values in both columns compared, change it manually !\n",
      "Columns Index(['Long_pz_x', 'Long_pz_y'], dtype='object') must be dropped manually !\n"
     ]
    }
   ],
   "source": [
    "source_mes_pz = mes_pz\n",
    "source_pz, error_df = gdf_merger(source_pz, pz, how='outer', col='ID', )"
   ]
  },
  {
   "cell_type": "code",
   "execution_count": 28,
   "id": "anticipated-remains",
   "metadata": {},
   "outputs": [
    {
     "data": {
      "text/html": [
       "<div>\n",
       "<style scoped>\n",
       "    .dataframe tbody tr th:only-of-type {\n",
       "        vertical-align: middle;\n",
       "    }\n",
       "\n",
       "    .dataframe tbody tr th {\n",
       "        vertical-align: top;\n",
       "    }\n",
       "\n",
       "    .dataframe thead th {\n",
       "        text-align: right;\n",
       "    }\n",
       "</style>\n",
       "<table border=\"1\" class=\"dataframe\">\n",
       "  <thead>\n",
       "    <tr style=\"text-align: right;\">\n",
       "      <th></th>\n",
       "      <th>ID</th>\n",
       "      <th>Long_pz_x</th>\n",
       "      <th>Long_pz_y</th>\n",
       "    </tr>\n",
       "  </thead>\n",
       "  <tbody>\n",
       "    <tr>\n",
       "      <th>0</th>\n",
       "      <td>F3M</td>\n",
       "      <td>3.3</td>\n",
       "      <td>2.98</td>\n",
       "    </tr>\n",
       "    <tr>\n",
       "      <th>1</th>\n",
       "      <td>F13M</td>\n",
       "      <td>3.5</td>\n",
       "      <td>4.04</td>\n",
       "    </tr>\n",
       "    <tr>\n",
       "      <th>2</th>\n",
       "      <td>F15bM</td>\n",
       "      <td>4.0</td>\n",
       "      <td>4.67</td>\n",
       "    </tr>\n",
       "    <tr>\n",
       "      <th>3</th>\n",
       "      <td>F16M</td>\n",
       "      <td>4.8</td>\n",
       "      <td>4.85</td>\n",
       "    </tr>\n",
       "    <tr>\n",
       "      <th>4</th>\n",
       "      <td>F17dM</td>\n",
       "      <td>3.6</td>\n",
       "      <td>3.97</td>\n",
       "    </tr>\n",
       "  </tbody>\n",
       "</table>\n",
       "</div>"
      ],
      "text/plain": [
       "      ID  Long_pz_x Long_pz_y\n",
       "0    F3M        3.3      2.98\n",
       "1   F13M        3.5      4.04\n",
       "2  F15bM        4.0      4.67\n",
       "3   F16M        4.8      4.85\n",
       "4  F17dM        3.6      3.97"
      ]
     },
     "execution_count": 28,
     "metadata": {},
     "output_type": "execute_result"
    }
   ],
   "source": [
    "error_df"
   ]
  },
  {
   "cell_type": "code",
   "execution_count": 29,
   "id": "encouraging-western",
   "metadata": {},
   "outputs": [
    {
     "name": "stdout",
     "output_type": "stream",
     "text": [
      "Rows : 12, columns : 22\n"
     ]
    },
    {
     "data": {
      "application/vnd.jupyter.widget-view+json": {
       "model_id": "97f02d1a404d473e9b08ff2d6fb2171f",
       "version_major": 2,
       "version_minor": 0
      },
      "text/plain": [
       "interactive(children=(IntSlider(value=3, description='rows', max=12, min=3, readout=False), IntSlider(value=12…"
      ]
     },
     "metadata": {},
     "output_type": "display_data"
    }
   ],
   "source": [
    "gdf_viewer(source_pz, rows=3)#, gdf_viewer(error_df)"
   ]
  },
  {
   "cell_type": "code",
   "execution_count": 30,
   "id": "sublime-baseline",
   "metadata": {},
   "outputs": [
    {
     "name": "stdout",
     "output_type": "stream",
     "text": [
      "source_bh:13 ; source_pz:12 ; source_mes_pz:17\n"
     ]
    }
   ],
   "source": [
    "if not os.path.exists(tmp_dir):\n",
    "    os.makedirs(tmp_dir)\n",
    "    \n",
    "pz.to_csv(tmp_dir+sheet+'_Piezometers.csv', index=False)\n",
    "mes_pz.to_csv(tmp_dir+sheet+'_Measures.csv', index=False)\n",
    "\n",
    "source_mes_pz.to_csv(tmp_dir+'source_Measures.csv', index=False) #all Boreholes data in the source\n",
    "source_pz.to_csv(tmp_dir+'source_Piezometers.csv', index=False) #all Piezometers data in the source\n",
    "\n",
    "print(f'source_bh:{len(source_bh)} ; source_pz:{len(source_pz)} ; source_mes_pz:{len(source_mes_pz)}')"
   ]
  },
  {
   "cell_type": "markdown",
   "id": "exact-shanghai",
   "metadata": {},
   "source": [
    "* **Sheet : 'Equipement'**"
   ]
  },
  {
   "cell_type": "code",
   "execution_count": 31,
   "id": "aquatic-distance",
   "metadata": {},
   "outputs": [],
   "source": [
    "tmp_dir='../../CF_data/Result_traitem/profils_sols_donnees_forages/'\n",
    "sheet='Equipement'"
   ]
  },
  {
   "cell_type": "code",
   "execution_count": 32,
   "id": "dying-gentleman",
   "metadata": {
    "scrolled": false
   },
   "outputs": [
    {
     "name": "stdout",
     "output_type": "stream",
     "text": [
      "Rows : 36, columns : 7\n"
     ]
    },
    {
     "data": {
      "application/vnd.jupyter.widget-view+json": {
       "model_id": "2c1e16a5f1ed4320894af0a9ef8230b2",
       "version_major": 2,
       "version_minor": 0
      },
      "text/plain": [
       "interactive(children=(IntSlider(value=10, description='rows', max=36, min=10, readout=False), IntSlider(value=…"
      ]
     },
     "metadata": {},
     "output_type": "display_data"
    }
   ],
   "source": [
    "df = pd.read_excel('../../CF_data/Data_UMONS/ouvrages/Profils sols et données forages.xls', sheet_name='Equipement')#, skiprows=1)\n",
    "df=na_line_drop(df,0)\n",
    "df=na_col_drop(df,1)\n",
    "df.replace(r'<|>','', inplace=True, regex=True)\n",
    "df.replace(r'-$',np.nan, inplace=True, regex=True)\n",
    "\n",
    "gdf_viewer(df)"
   ]
  },
  {
   "cell_type": "code",
   "execution_count": 33,
   "id": "speaking-mandate",
   "metadata": {},
   "outputs": [],
   "source": [
    "df.drop(columns=['Déplacement'], inplace=True)\n",
    "name=['ID', 'Equip_top', 'Equip_base', 'Diam_for','Diam_ext_pz', 'Legende']\n",
    "df=col_ren(df, mode=1, name=name)"
   ]
  },
  {
   "cell_type": "code",
   "execution_count": 34,
   "id": "thermal-insert",
   "metadata": {},
   "outputs": [
    {
     "ename": "UndefinedVariableError",
     "evalue": "name 'Litho_base' is not defined",
     "output_type": "error",
     "traceback": [
      "\u001b[0;31m---------------------------------------------------------------\u001b[0m",
      "\u001b[0;31mKeyError\u001b[0m                      Traceback (most recent call last)",
      "\u001b[0;32m~/.local/share/virtualenvs/GSDMA-DRfwm83x/lib/python3.8/site-packages/pandas/core/computation/scope.py\u001b[0m in \u001b[0;36mresolve\u001b[0;34m(self, key, is_local)\u001b[0m\n\u001b[1;32m    200\u001b[0m             \u001b[0;32mif\u001b[0m \u001b[0mself\u001b[0m\u001b[0;34m.\u001b[0m\u001b[0mhas_resolvers\u001b[0m\u001b[0;34m:\u001b[0m\u001b[0;34m\u001b[0m\u001b[0;34m\u001b[0m\u001b[0m\n\u001b[0;32m--> 201\u001b[0;31m                 \u001b[0;32mreturn\u001b[0m \u001b[0mself\u001b[0m\u001b[0;34m.\u001b[0m\u001b[0mresolvers\u001b[0m\u001b[0;34m[\u001b[0m\u001b[0mkey\u001b[0m\u001b[0;34m]\u001b[0m\u001b[0;34m\u001b[0m\u001b[0;34m\u001b[0m\u001b[0m\n\u001b[0m\u001b[1;32m    202\u001b[0m \u001b[0;34m\u001b[0m\u001b[0m\n",
      "\u001b[0;32m/usr/lib/python3.8/collections/__init__.py\u001b[0m in \u001b[0;36m__getitem__\u001b[0;34m(self, key)\u001b[0m\n\u001b[1;32m    897\u001b[0m                 \u001b[0;32mpass\u001b[0m\u001b[0;34m\u001b[0m\u001b[0;34m\u001b[0m\u001b[0m\n\u001b[0;32m--> 898\u001b[0;31m         \u001b[0;32mreturn\u001b[0m \u001b[0mself\u001b[0m\u001b[0;34m.\u001b[0m\u001b[0m__missing__\u001b[0m\u001b[0;34m(\u001b[0m\u001b[0mkey\u001b[0m\u001b[0;34m)\u001b[0m            \u001b[0;31m# support subclasses that define __missing__\u001b[0m\u001b[0;34m\u001b[0m\u001b[0;34m\u001b[0m\u001b[0m\n\u001b[0m\u001b[1;32m    899\u001b[0m \u001b[0;34m\u001b[0m\u001b[0m\n",
      "\u001b[0;32m/usr/lib/python3.8/collections/__init__.py\u001b[0m in \u001b[0;36m__missing__\u001b[0;34m(self, key)\u001b[0m\n\u001b[1;32m    889\u001b[0m     \u001b[0;32mdef\u001b[0m \u001b[0m__missing__\u001b[0m\u001b[0;34m(\u001b[0m\u001b[0mself\u001b[0m\u001b[0;34m,\u001b[0m \u001b[0mkey\u001b[0m\u001b[0;34m)\u001b[0m\u001b[0;34m:\u001b[0m\u001b[0;34m\u001b[0m\u001b[0;34m\u001b[0m\u001b[0m\n\u001b[0;32m--> 890\u001b[0;31m         \u001b[0;32mraise\u001b[0m \u001b[0mKeyError\u001b[0m\u001b[0;34m(\u001b[0m\u001b[0mkey\u001b[0m\u001b[0;34m)\u001b[0m\u001b[0;34m\u001b[0m\u001b[0;34m\u001b[0m\u001b[0m\n\u001b[0m\u001b[1;32m    891\u001b[0m \u001b[0;34m\u001b[0m\u001b[0m\n",
      "\u001b[0;31mKeyError\u001b[0m: 'Litho_base'",
      "\nDuring handling of the above exception, another exception occurred:\n",
      "\u001b[0;31mKeyError\u001b[0m                      Traceback (most recent call last)",
      "\u001b[0;32m~/.local/share/virtualenvs/GSDMA-DRfwm83x/lib/python3.8/site-packages/pandas/core/computation/scope.py\u001b[0m in \u001b[0;36mresolve\u001b[0;34m(self, key, is_local)\u001b[0m\n\u001b[1;32m    211\u001b[0m                 \u001b[0;31m# e.g., df[df > 0]\u001b[0m\u001b[0;34m\u001b[0m\u001b[0;34m\u001b[0m\u001b[0;34m\u001b[0m\u001b[0m\n\u001b[0;32m--> 212\u001b[0;31m                 \u001b[0;32mreturn\u001b[0m \u001b[0mself\u001b[0m\u001b[0;34m.\u001b[0m\u001b[0mtemps\u001b[0m\u001b[0;34m[\u001b[0m\u001b[0mkey\u001b[0m\u001b[0;34m]\u001b[0m\u001b[0;34m\u001b[0m\u001b[0;34m\u001b[0m\u001b[0m\n\u001b[0m\u001b[1;32m    213\u001b[0m             \u001b[0;32mexcept\u001b[0m \u001b[0mKeyError\u001b[0m \u001b[0;32mas\u001b[0m \u001b[0merr\u001b[0m\u001b[0;34m:\u001b[0m\u001b[0;34m\u001b[0m\u001b[0;34m\u001b[0m\u001b[0m\n",
      "\u001b[0;31mKeyError\u001b[0m: 'Litho_base'",
      "\nThe above exception was the direct cause of the following exception:\n",
      "\u001b[0;31mUndefinedVariableError\u001b[0m        Traceback (most recent call last)",
      "\u001b[0;32m<ipython-input-34-1589ce39d890>\u001b[0m in \u001b[0;36m<module>\u001b[0;34m\u001b[0m\n\u001b[0;32m----> 1\u001b[0;31m \u001b[0mcompute_BH_length\u001b[0m\u001b[0;34m(\u001b[0m\u001b[0mdf\u001b[0m\u001b[0;34m,\u001b[0m \u001b[0mtop_col\u001b[0m\u001b[0;34m=\u001b[0m\u001b[0;34m'Equip_top'\u001b[0m\u001b[0;34m,\u001b[0m \u001b[0mbase_col\u001b[0m\u001b[0;34m=\u001b[0m\u001b[0;34m'Equip_base'\u001b[0m\u001b[0;34m)\u001b[0m\u001b[0;34m\u001b[0m\u001b[0;34m\u001b[0m\u001b[0m\n\u001b[0m",
      "\u001b[0;32m<ipython-input-3-1602f6ae195a>\u001b[0m in \u001b[0;36mcompute_BH_length\u001b[0;34m(df, length_col_name, top_col, base_col, verbose)\u001b[0m\n\u001b[1;32m     28\u001b[0m             \u001b[0mdf\u001b[0m\u001b[0;34m.\u001b[0m\u001b[0mloc\u001b[0m\u001b[0;34m[\u001b[0m\u001b[0mtmp\u001b[0m\u001b[0;34m.\u001b[0m\u001b[0mindex\u001b[0m\u001b[0;34m,\u001b[0m \u001b[0mlength_col_name\u001b[0m\u001b[0;34m]\u001b[0m \u001b[0;34m=\u001b[0m \u001b[0mfloat\u001b[0m\u001b[0;34m(\u001b[0m\u001b[0mmax\u001b[0m\u001b[0;34m(\u001b[0m\u001b[0mtmp\u001b[0m\u001b[0;34m[\u001b[0m\u001b[0mbase_col\u001b[0m\u001b[0;34m]\u001b[0m\u001b[0;34m)\u001b[0m\u001b[0;34m)\u001b[0m \u001b[0;34m-\u001b[0m \u001b[0mfloat\u001b[0m\u001b[0;34m(\u001b[0m\u001b[0mmin\u001b[0m\u001b[0;34m(\u001b[0m\u001b[0mtmp\u001b[0m\u001b[0;34m[\u001b[0m\u001b[0mtop_col\u001b[0m\u001b[0;34m]\u001b[0m\u001b[0;34m)\u001b[0m\u001b[0;34m)\u001b[0m\u001b[0;34m\u001b[0m\u001b[0;34m\u001b[0m\u001b[0m\n\u001b[1;32m     29\u001b[0m \u001b[0;34m\u001b[0m\u001b[0m\n\u001b[0;32m---> 30\u001b[0;31m     \u001b[0mdf\u001b[0m\u001b[0;34m.\u001b[0m\u001b[0mdrop\u001b[0m\u001b[0;34m(\u001b[0m\u001b[0mindex\u001b[0m\u001b[0;34m=\u001b[0m\u001b[0mdf\u001b[0m\u001b[0;34m.\u001b[0m\u001b[0mquery\u001b[0m\u001b[0;34m(\u001b[0m\u001b[0;34m'Litho_base.isnull() and Litho_top.isnull()'\u001b[0m\u001b[0;34m)\u001b[0m\u001b[0;34m.\u001b[0m\u001b[0mindex\u001b[0m\u001b[0;34m,\u001b[0m \u001b[0minplace\u001b[0m\u001b[0;34m=\u001b[0m\u001b[0;32mTrue\u001b[0m\u001b[0;34m)\u001b[0m\u001b[0;34m\u001b[0m\u001b[0;34m\u001b[0m\u001b[0m\n\u001b[0m\u001b[1;32m     31\u001b[0m     \u001b[0mdf\u001b[0m\u001b[0;34m.\u001b[0m\u001b[0minsert\u001b[0m\u001b[0;34m(\u001b[0m\u001b[0mdf\u001b[0m\u001b[0;34m.\u001b[0m\u001b[0mcolumns\u001b[0m\u001b[0;34m.\u001b[0m\u001b[0mto_list\u001b[0m\u001b[0;34m(\u001b[0m\u001b[0;34m)\u001b[0m\u001b[0;34m.\u001b[0m\u001b[0mindex\u001b[0m\u001b[0;34m(\u001b[0m\u001b[0;34m'ID'\u001b[0m\u001b[0;34m)\u001b[0m\u001b[0;34m+\u001b[0m\u001b[0;36m1\u001b[0m\u001b[0;34m,\u001b[0m \u001b[0mlength_col_name\u001b[0m\u001b[0;34m,\u001b[0m \u001b[0mdf\u001b[0m\u001b[0;34m.\u001b[0m\u001b[0mpop\u001b[0m\u001b[0;34m(\u001b[0m\u001b[0mlength_col_name\u001b[0m\u001b[0;34m)\u001b[0m\u001b[0;34m)\u001b[0m\u001b[0;34m\u001b[0m\u001b[0;34m\u001b[0m\u001b[0m\n\u001b[1;32m     32\u001b[0m     \u001b[0;31m#df.reset_index(drop=True, inplace=True)\u001b[0m\u001b[0;34m\u001b[0m\u001b[0;34m\u001b[0m\u001b[0;34m\u001b[0m\u001b[0m\n",
      "\u001b[0;32m~/.local/share/virtualenvs/GSDMA-DRfwm83x/lib/python3.8/site-packages/pandas/core/frame.py\u001b[0m in \u001b[0;36mquery\u001b[0;34m(self, expr, inplace, **kwargs)\u001b[0m\n\u001b[1;32m   3464\u001b[0m         \u001b[0mkwargs\u001b[0m\u001b[0;34m[\u001b[0m\u001b[0;34m\"level\"\u001b[0m\u001b[0;34m]\u001b[0m \u001b[0;34m=\u001b[0m \u001b[0mkwargs\u001b[0m\u001b[0;34m.\u001b[0m\u001b[0mpop\u001b[0m\u001b[0;34m(\u001b[0m\u001b[0;34m\"level\"\u001b[0m\u001b[0;34m,\u001b[0m \u001b[0;36m0\u001b[0m\u001b[0;34m)\u001b[0m \u001b[0;34m+\u001b[0m \u001b[0;36m1\u001b[0m\u001b[0;34m\u001b[0m\u001b[0;34m\u001b[0m\u001b[0m\n\u001b[1;32m   3465\u001b[0m         \u001b[0mkwargs\u001b[0m\u001b[0;34m[\u001b[0m\u001b[0;34m\"target\"\u001b[0m\u001b[0;34m]\u001b[0m \u001b[0;34m=\u001b[0m \u001b[0;32mNone\u001b[0m\u001b[0;34m\u001b[0m\u001b[0;34m\u001b[0m\u001b[0m\n\u001b[0;32m-> 3466\u001b[0;31m         \u001b[0mres\u001b[0m \u001b[0;34m=\u001b[0m \u001b[0mself\u001b[0m\u001b[0;34m.\u001b[0m\u001b[0meval\u001b[0m\u001b[0;34m(\u001b[0m\u001b[0mexpr\u001b[0m\u001b[0;34m,\u001b[0m \u001b[0;34m**\u001b[0m\u001b[0mkwargs\u001b[0m\u001b[0;34m)\u001b[0m\u001b[0;34m\u001b[0m\u001b[0;34m\u001b[0m\u001b[0m\n\u001b[0m\u001b[1;32m   3467\u001b[0m \u001b[0;34m\u001b[0m\u001b[0m\n\u001b[1;32m   3468\u001b[0m         \u001b[0;32mtry\u001b[0m\u001b[0;34m:\u001b[0m\u001b[0;34m\u001b[0m\u001b[0;34m\u001b[0m\u001b[0m\n",
      "\u001b[0;32m~/.local/share/virtualenvs/GSDMA-DRfwm83x/lib/python3.8/site-packages/pandas/core/frame.py\u001b[0m in \u001b[0;36meval\u001b[0;34m(self, expr, inplace, **kwargs)\u001b[0m\n\u001b[1;32m   3594\u001b[0m         \u001b[0mkwargs\u001b[0m\u001b[0;34m[\u001b[0m\u001b[0;34m\"resolvers\"\u001b[0m\u001b[0;34m]\u001b[0m \u001b[0;34m=\u001b[0m \u001b[0mkwargs\u001b[0m\u001b[0;34m.\u001b[0m\u001b[0mget\u001b[0m\u001b[0;34m(\u001b[0m\u001b[0;34m\"resolvers\"\u001b[0m\u001b[0;34m,\u001b[0m \u001b[0;34m(\u001b[0m\u001b[0;34m)\u001b[0m\u001b[0;34m)\u001b[0m \u001b[0;34m+\u001b[0m \u001b[0mtuple\u001b[0m\u001b[0;34m(\u001b[0m\u001b[0mresolvers\u001b[0m\u001b[0;34m)\u001b[0m\u001b[0;34m\u001b[0m\u001b[0;34m\u001b[0m\u001b[0m\n\u001b[1;32m   3595\u001b[0m \u001b[0;34m\u001b[0m\u001b[0m\n\u001b[0;32m-> 3596\u001b[0;31m         \u001b[0;32mreturn\u001b[0m \u001b[0m_eval\u001b[0m\u001b[0;34m(\u001b[0m\u001b[0mexpr\u001b[0m\u001b[0;34m,\u001b[0m \u001b[0minplace\u001b[0m\u001b[0;34m=\u001b[0m\u001b[0minplace\u001b[0m\u001b[0;34m,\u001b[0m \u001b[0;34m**\u001b[0m\u001b[0mkwargs\u001b[0m\u001b[0;34m)\u001b[0m\u001b[0;34m\u001b[0m\u001b[0;34m\u001b[0m\u001b[0m\n\u001b[0m\u001b[1;32m   3597\u001b[0m \u001b[0;34m\u001b[0m\u001b[0m\n\u001b[1;32m   3598\u001b[0m     \u001b[0;32mdef\u001b[0m \u001b[0mselect_dtypes\u001b[0m\u001b[0;34m(\u001b[0m\u001b[0mself\u001b[0m\u001b[0;34m,\u001b[0m \u001b[0minclude\u001b[0m\u001b[0;34m=\u001b[0m\u001b[0;32mNone\u001b[0m\u001b[0;34m,\u001b[0m \u001b[0mexclude\u001b[0m\u001b[0;34m=\u001b[0m\u001b[0;32mNone\u001b[0m\u001b[0;34m)\u001b[0m \u001b[0;34m->\u001b[0m \u001b[0mDataFrame\u001b[0m\u001b[0;34m:\u001b[0m\u001b[0;34m\u001b[0m\u001b[0;34m\u001b[0m\u001b[0m\n",
      "\u001b[0;32m~/.local/share/virtualenvs/GSDMA-DRfwm83x/lib/python3.8/site-packages/pandas/core/computation/eval.py\u001b[0m in \u001b[0;36meval\u001b[0;34m(expr, parser, engine, truediv, local_dict, global_dict, resolvers, level, target, inplace)\u001b[0m\n\u001b[1;32m    340\u001b[0m         )\n\u001b[1;32m    341\u001b[0m \u001b[0;34m\u001b[0m\u001b[0m\n\u001b[0;32m--> 342\u001b[0;31m         \u001b[0mparsed_expr\u001b[0m \u001b[0;34m=\u001b[0m \u001b[0mExpr\u001b[0m\u001b[0;34m(\u001b[0m\u001b[0mexpr\u001b[0m\u001b[0;34m,\u001b[0m \u001b[0mengine\u001b[0m\u001b[0;34m=\u001b[0m\u001b[0mengine\u001b[0m\u001b[0;34m,\u001b[0m \u001b[0mparser\u001b[0m\u001b[0;34m=\u001b[0m\u001b[0mparser\u001b[0m\u001b[0;34m,\u001b[0m \u001b[0menv\u001b[0m\u001b[0;34m=\u001b[0m\u001b[0menv\u001b[0m\u001b[0;34m)\u001b[0m\u001b[0;34m\u001b[0m\u001b[0;34m\u001b[0m\u001b[0m\n\u001b[0m\u001b[1;32m    343\u001b[0m \u001b[0;34m\u001b[0m\u001b[0m\n\u001b[1;32m    344\u001b[0m         \u001b[0;31m# construct the engine and evaluate the parsed expression\u001b[0m\u001b[0;34m\u001b[0m\u001b[0;34m\u001b[0m\u001b[0;34m\u001b[0m\u001b[0m\n",
      "\u001b[0;32m~/.local/share/virtualenvs/GSDMA-DRfwm83x/lib/python3.8/site-packages/pandas/core/computation/expr.py\u001b[0m in \u001b[0;36m__init__\u001b[0;34m(self, expr, engine, parser, env, level)\u001b[0m\n\u001b[1;32m    796\u001b[0m         \u001b[0mself\u001b[0m\u001b[0;34m.\u001b[0m\u001b[0mparser\u001b[0m \u001b[0;34m=\u001b[0m \u001b[0mparser\u001b[0m\u001b[0;34m\u001b[0m\u001b[0;34m\u001b[0m\u001b[0m\n\u001b[1;32m    797\u001b[0m         \u001b[0mself\u001b[0m\u001b[0;34m.\u001b[0m\u001b[0m_visitor\u001b[0m \u001b[0;34m=\u001b[0m \u001b[0mPARSERS\u001b[0m\u001b[0;34m[\u001b[0m\u001b[0mparser\u001b[0m\u001b[0;34m]\u001b[0m\u001b[0;34m(\u001b[0m\u001b[0mself\u001b[0m\u001b[0;34m.\u001b[0m\u001b[0menv\u001b[0m\u001b[0;34m,\u001b[0m \u001b[0mself\u001b[0m\u001b[0;34m.\u001b[0m\u001b[0mengine\u001b[0m\u001b[0;34m,\u001b[0m \u001b[0mself\u001b[0m\u001b[0;34m.\u001b[0m\u001b[0mparser\u001b[0m\u001b[0;34m)\u001b[0m\u001b[0;34m\u001b[0m\u001b[0;34m\u001b[0m\u001b[0m\n\u001b[0;32m--> 798\u001b[0;31m         \u001b[0mself\u001b[0m\u001b[0;34m.\u001b[0m\u001b[0mterms\u001b[0m \u001b[0;34m=\u001b[0m \u001b[0mself\u001b[0m\u001b[0;34m.\u001b[0m\u001b[0mparse\u001b[0m\u001b[0;34m(\u001b[0m\u001b[0;34m)\u001b[0m\u001b[0;34m\u001b[0m\u001b[0;34m\u001b[0m\u001b[0m\n\u001b[0m\u001b[1;32m    799\u001b[0m \u001b[0;34m\u001b[0m\u001b[0m\n\u001b[1;32m    800\u001b[0m     \u001b[0;34m@\u001b[0m\u001b[0mproperty\u001b[0m\u001b[0;34m\u001b[0m\u001b[0;34m\u001b[0m\u001b[0m\n",
      "\u001b[0;32m~/.local/share/virtualenvs/GSDMA-DRfwm83x/lib/python3.8/site-packages/pandas/core/computation/expr.py\u001b[0m in \u001b[0;36mparse\u001b[0;34m(self)\u001b[0m\n\u001b[1;32m    815\u001b[0m         \u001b[0mParse\u001b[0m \u001b[0man\u001b[0m \u001b[0mexpression\u001b[0m\u001b[0;34m.\u001b[0m\u001b[0;34m\u001b[0m\u001b[0;34m\u001b[0m\u001b[0m\n\u001b[1;32m    816\u001b[0m         \"\"\"\n\u001b[0;32m--> 817\u001b[0;31m         \u001b[0;32mreturn\u001b[0m \u001b[0mself\u001b[0m\u001b[0;34m.\u001b[0m\u001b[0m_visitor\u001b[0m\u001b[0;34m.\u001b[0m\u001b[0mvisit\u001b[0m\u001b[0;34m(\u001b[0m\u001b[0mself\u001b[0m\u001b[0;34m.\u001b[0m\u001b[0mexpr\u001b[0m\u001b[0;34m)\u001b[0m\u001b[0;34m\u001b[0m\u001b[0;34m\u001b[0m\u001b[0m\n\u001b[0m\u001b[1;32m    818\u001b[0m \u001b[0;34m\u001b[0m\u001b[0m\n\u001b[1;32m    819\u001b[0m     \u001b[0;34m@\u001b[0m\u001b[0mproperty\u001b[0m\u001b[0;34m\u001b[0m\u001b[0;34m\u001b[0m\u001b[0m\n",
      "\u001b[0;32m~/.local/share/virtualenvs/GSDMA-DRfwm83x/lib/python3.8/site-packages/pandas/core/computation/expr.py\u001b[0m in \u001b[0;36mvisit\u001b[0;34m(self, node, **kwargs)\u001b[0m\n\u001b[1;32m    399\u001b[0m         \u001b[0mmethod\u001b[0m \u001b[0;34m=\u001b[0m \u001b[0;34m\"visit_\"\u001b[0m \u001b[0;34m+\u001b[0m \u001b[0mtype\u001b[0m\u001b[0;34m(\u001b[0m\u001b[0mnode\u001b[0m\u001b[0;34m)\u001b[0m\u001b[0;34m.\u001b[0m\u001b[0m__name__\u001b[0m\u001b[0;34m\u001b[0m\u001b[0;34m\u001b[0m\u001b[0m\n\u001b[1;32m    400\u001b[0m         \u001b[0mvisitor\u001b[0m \u001b[0;34m=\u001b[0m \u001b[0mgetattr\u001b[0m\u001b[0;34m(\u001b[0m\u001b[0mself\u001b[0m\u001b[0;34m,\u001b[0m \u001b[0mmethod\u001b[0m\u001b[0;34m)\u001b[0m\u001b[0;34m\u001b[0m\u001b[0;34m\u001b[0m\u001b[0m\n\u001b[0;32m--> 401\u001b[0;31m         \u001b[0;32mreturn\u001b[0m \u001b[0mvisitor\u001b[0m\u001b[0;34m(\u001b[0m\u001b[0mnode\u001b[0m\u001b[0;34m,\u001b[0m \u001b[0;34m**\u001b[0m\u001b[0mkwargs\u001b[0m\u001b[0;34m)\u001b[0m\u001b[0;34m\u001b[0m\u001b[0;34m\u001b[0m\u001b[0m\n\u001b[0m\u001b[1;32m    402\u001b[0m \u001b[0;34m\u001b[0m\u001b[0m\n\u001b[1;32m    403\u001b[0m     \u001b[0;32mdef\u001b[0m \u001b[0mvisit_Module\u001b[0m\u001b[0;34m(\u001b[0m\u001b[0mself\u001b[0m\u001b[0;34m,\u001b[0m \u001b[0mnode\u001b[0m\u001b[0;34m,\u001b[0m \u001b[0;34m**\u001b[0m\u001b[0mkwargs\u001b[0m\u001b[0;34m)\u001b[0m\u001b[0;34m:\u001b[0m\u001b[0;34m\u001b[0m\u001b[0;34m\u001b[0m\u001b[0m\n",
      "\u001b[0;32m~/.local/share/virtualenvs/GSDMA-DRfwm83x/lib/python3.8/site-packages/pandas/core/computation/expr.py\u001b[0m in \u001b[0;36mvisit_Module\u001b[0;34m(self, node, **kwargs)\u001b[0m\n\u001b[1;32m    405\u001b[0m             \u001b[0;32mraise\u001b[0m \u001b[0mSyntaxError\u001b[0m\u001b[0;34m(\u001b[0m\u001b[0;34m\"only a single expression is allowed\"\u001b[0m\u001b[0;34m)\u001b[0m\u001b[0;34m\u001b[0m\u001b[0;34m\u001b[0m\u001b[0m\n\u001b[1;32m    406\u001b[0m         \u001b[0mexpr\u001b[0m \u001b[0;34m=\u001b[0m \u001b[0mnode\u001b[0m\u001b[0;34m.\u001b[0m\u001b[0mbody\u001b[0m\u001b[0;34m[\u001b[0m\u001b[0;36m0\u001b[0m\u001b[0;34m]\u001b[0m\u001b[0;34m\u001b[0m\u001b[0;34m\u001b[0m\u001b[0m\n\u001b[0;32m--> 407\u001b[0;31m         \u001b[0;32mreturn\u001b[0m \u001b[0mself\u001b[0m\u001b[0;34m.\u001b[0m\u001b[0mvisit\u001b[0m\u001b[0;34m(\u001b[0m\u001b[0mexpr\u001b[0m\u001b[0;34m,\u001b[0m \u001b[0;34m**\u001b[0m\u001b[0mkwargs\u001b[0m\u001b[0;34m)\u001b[0m\u001b[0;34m\u001b[0m\u001b[0;34m\u001b[0m\u001b[0m\n\u001b[0m\u001b[1;32m    408\u001b[0m \u001b[0;34m\u001b[0m\u001b[0m\n\u001b[1;32m    409\u001b[0m     \u001b[0;32mdef\u001b[0m \u001b[0mvisit_Expr\u001b[0m\u001b[0;34m(\u001b[0m\u001b[0mself\u001b[0m\u001b[0;34m,\u001b[0m \u001b[0mnode\u001b[0m\u001b[0;34m,\u001b[0m \u001b[0;34m**\u001b[0m\u001b[0mkwargs\u001b[0m\u001b[0;34m)\u001b[0m\u001b[0;34m:\u001b[0m\u001b[0;34m\u001b[0m\u001b[0;34m\u001b[0m\u001b[0m\n",
      "\u001b[0;32m~/.local/share/virtualenvs/GSDMA-DRfwm83x/lib/python3.8/site-packages/pandas/core/computation/expr.py\u001b[0m in \u001b[0;36mvisit\u001b[0;34m(self, node, **kwargs)\u001b[0m\n\u001b[1;32m    399\u001b[0m         \u001b[0mmethod\u001b[0m \u001b[0;34m=\u001b[0m \u001b[0;34m\"visit_\"\u001b[0m \u001b[0;34m+\u001b[0m \u001b[0mtype\u001b[0m\u001b[0;34m(\u001b[0m\u001b[0mnode\u001b[0m\u001b[0;34m)\u001b[0m\u001b[0;34m.\u001b[0m\u001b[0m__name__\u001b[0m\u001b[0;34m\u001b[0m\u001b[0;34m\u001b[0m\u001b[0m\n\u001b[1;32m    400\u001b[0m         \u001b[0mvisitor\u001b[0m \u001b[0;34m=\u001b[0m \u001b[0mgetattr\u001b[0m\u001b[0;34m(\u001b[0m\u001b[0mself\u001b[0m\u001b[0;34m,\u001b[0m \u001b[0mmethod\u001b[0m\u001b[0;34m)\u001b[0m\u001b[0;34m\u001b[0m\u001b[0;34m\u001b[0m\u001b[0m\n\u001b[0;32m--> 401\u001b[0;31m         \u001b[0;32mreturn\u001b[0m \u001b[0mvisitor\u001b[0m\u001b[0;34m(\u001b[0m\u001b[0mnode\u001b[0m\u001b[0;34m,\u001b[0m \u001b[0;34m**\u001b[0m\u001b[0mkwargs\u001b[0m\u001b[0;34m)\u001b[0m\u001b[0;34m\u001b[0m\u001b[0;34m\u001b[0m\u001b[0m\n\u001b[0m\u001b[1;32m    402\u001b[0m \u001b[0;34m\u001b[0m\u001b[0m\n\u001b[1;32m    403\u001b[0m     \u001b[0;32mdef\u001b[0m \u001b[0mvisit_Module\u001b[0m\u001b[0;34m(\u001b[0m\u001b[0mself\u001b[0m\u001b[0;34m,\u001b[0m \u001b[0mnode\u001b[0m\u001b[0;34m,\u001b[0m \u001b[0;34m**\u001b[0m\u001b[0mkwargs\u001b[0m\u001b[0;34m)\u001b[0m\u001b[0;34m:\u001b[0m\u001b[0;34m\u001b[0m\u001b[0;34m\u001b[0m\u001b[0m\n",
      "\u001b[0;32m~/.local/share/virtualenvs/GSDMA-DRfwm83x/lib/python3.8/site-packages/pandas/core/computation/expr.py\u001b[0m in \u001b[0;36mvisit_Expr\u001b[0;34m(self, node, **kwargs)\u001b[0m\n\u001b[1;32m    408\u001b[0m \u001b[0;34m\u001b[0m\u001b[0m\n\u001b[1;32m    409\u001b[0m     \u001b[0;32mdef\u001b[0m \u001b[0mvisit_Expr\u001b[0m\u001b[0;34m(\u001b[0m\u001b[0mself\u001b[0m\u001b[0;34m,\u001b[0m \u001b[0mnode\u001b[0m\u001b[0;34m,\u001b[0m \u001b[0;34m**\u001b[0m\u001b[0mkwargs\u001b[0m\u001b[0;34m)\u001b[0m\u001b[0;34m:\u001b[0m\u001b[0;34m\u001b[0m\u001b[0;34m\u001b[0m\u001b[0m\n\u001b[0;32m--> 410\u001b[0;31m         \u001b[0;32mreturn\u001b[0m \u001b[0mself\u001b[0m\u001b[0;34m.\u001b[0m\u001b[0mvisit\u001b[0m\u001b[0;34m(\u001b[0m\u001b[0mnode\u001b[0m\u001b[0;34m.\u001b[0m\u001b[0mvalue\u001b[0m\u001b[0;34m,\u001b[0m \u001b[0;34m**\u001b[0m\u001b[0mkwargs\u001b[0m\u001b[0;34m)\u001b[0m\u001b[0;34m\u001b[0m\u001b[0;34m\u001b[0m\u001b[0m\n\u001b[0m\u001b[1;32m    411\u001b[0m \u001b[0;34m\u001b[0m\u001b[0m\n\u001b[1;32m    412\u001b[0m     \u001b[0;32mdef\u001b[0m \u001b[0m_rewrite_membership_op\u001b[0m\u001b[0;34m(\u001b[0m\u001b[0mself\u001b[0m\u001b[0;34m,\u001b[0m \u001b[0mnode\u001b[0m\u001b[0;34m,\u001b[0m \u001b[0mleft\u001b[0m\u001b[0;34m,\u001b[0m \u001b[0mright\u001b[0m\u001b[0;34m)\u001b[0m\u001b[0;34m:\u001b[0m\u001b[0;34m\u001b[0m\u001b[0;34m\u001b[0m\u001b[0m\n",
      "\u001b[0;32m~/.local/share/virtualenvs/GSDMA-DRfwm83x/lib/python3.8/site-packages/pandas/core/computation/expr.py\u001b[0m in \u001b[0;36mvisit\u001b[0;34m(self, node, **kwargs)\u001b[0m\n\u001b[1;32m    399\u001b[0m         \u001b[0mmethod\u001b[0m \u001b[0;34m=\u001b[0m \u001b[0;34m\"visit_\"\u001b[0m \u001b[0;34m+\u001b[0m \u001b[0mtype\u001b[0m\u001b[0;34m(\u001b[0m\u001b[0mnode\u001b[0m\u001b[0;34m)\u001b[0m\u001b[0;34m.\u001b[0m\u001b[0m__name__\u001b[0m\u001b[0;34m\u001b[0m\u001b[0;34m\u001b[0m\u001b[0m\n\u001b[1;32m    400\u001b[0m         \u001b[0mvisitor\u001b[0m \u001b[0;34m=\u001b[0m \u001b[0mgetattr\u001b[0m\u001b[0;34m(\u001b[0m\u001b[0mself\u001b[0m\u001b[0;34m,\u001b[0m \u001b[0mmethod\u001b[0m\u001b[0;34m)\u001b[0m\u001b[0;34m\u001b[0m\u001b[0;34m\u001b[0m\u001b[0m\n\u001b[0;32m--> 401\u001b[0;31m         \u001b[0;32mreturn\u001b[0m \u001b[0mvisitor\u001b[0m\u001b[0;34m(\u001b[0m\u001b[0mnode\u001b[0m\u001b[0;34m,\u001b[0m \u001b[0;34m**\u001b[0m\u001b[0mkwargs\u001b[0m\u001b[0;34m)\u001b[0m\u001b[0;34m\u001b[0m\u001b[0;34m\u001b[0m\u001b[0m\n\u001b[0m\u001b[1;32m    402\u001b[0m \u001b[0;34m\u001b[0m\u001b[0m\n\u001b[1;32m    403\u001b[0m     \u001b[0;32mdef\u001b[0m \u001b[0mvisit_Module\u001b[0m\u001b[0;34m(\u001b[0m\u001b[0mself\u001b[0m\u001b[0;34m,\u001b[0m \u001b[0mnode\u001b[0m\u001b[0;34m,\u001b[0m \u001b[0;34m**\u001b[0m\u001b[0mkwargs\u001b[0m\u001b[0;34m)\u001b[0m\u001b[0;34m:\u001b[0m\u001b[0;34m\u001b[0m\u001b[0;34m\u001b[0m\u001b[0m\n",
      "\u001b[0;32m~/.local/share/virtualenvs/GSDMA-DRfwm83x/lib/python3.8/site-packages/pandas/core/computation/expr.py\u001b[0m in \u001b[0;36mvisit_BoolOp\u001b[0;34m(self, node, **kwargs)\u001b[0m\n\u001b[1;32m    735\u001b[0m \u001b[0;34m\u001b[0m\u001b[0m\n\u001b[1;32m    736\u001b[0m         \u001b[0moperands\u001b[0m \u001b[0;34m=\u001b[0m \u001b[0mnode\u001b[0m\u001b[0;34m.\u001b[0m\u001b[0mvalues\u001b[0m\u001b[0;34m\u001b[0m\u001b[0;34m\u001b[0m\u001b[0m\n\u001b[0;32m--> 737\u001b[0;31m         \u001b[0;32mreturn\u001b[0m \u001b[0mreduce\u001b[0m\u001b[0;34m(\u001b[0m\u001b[0mvisitor\u001b[0m\u001b[0;34m,\u001b[0m \u001b[0moperands\u001b[0m\u001b[0;34m)\u001b[0m\u001b[0;34m\u001b[0m\u001b[0;34m\u001b[0m\u001b[0m\n\u001b[0m\u001b[1;32m    738\u001b[0m \u001b[0;34m\u001b[0m\u001b[0m\n\u001b[1;32m    739\u001b[0m \u001b[0;34m\u001b[0m\u001b[0m\n",
      "\u001b[0;32m~/.local/share/virtualenvs/GSDMA-DRfwm83x/lib/python3.8/site-packages/pandas/core/computation/expr.py\u001b[0m in \u001b[0;36mvisitor\u001b[0;34m(x, y)\u001b[0m\n\u001b[1;32m    728\u001b[0m     \u001b[0;32mdef\u001b[0m \u001b[0mvisit_BoolOp\u001b[0m\u001b[0;34m(\u001b[0m\u001b[0mself\u001b[0m\u001b[0;34m,\u001b[0m \u001b[0mnode\u001b[0m\u001b[0;34m,\u001b[0m \u001b[0;34m**\u001b[0m\u001b[0mkwargs\u001b[0m\u001b[0;34m)\u001b[0m\u001b[0;34m:\u001b[0m\u001b[0;34m\u001b[0m\u001b[0;34m\u001b[0m\u001b[0m\n\u001b[1;32m    729\u001b[0m         \u001b[0;32mdef\u001b[0m \u001b[0mvisitor\u001b[0m\u001b[0;34m(\u001b[0m\u001b[0mx\u001b[0m\u001b[0;34m,\u001b[0m \u001b[0my\u001b[0m\u001b[0;34m)\u001b[0m\u001b[0;34m:\u001b[0m\u001b[0;34m\u001b[0m\u001b[0;34m\u001b[0m\u001b[0m\n\u001b[0;32m--> 730\u001b[0;31m             \u001b[0mlhs\u001b[0m \u001b[0;34m=\u001b[0m \u001b[0mself\u001b[0m\u001b[0;34m.\u001b[0m\u001b[0m_try_visit_binop\u001b[0m\u001b[0;34m(\u001b[0m\u001b[0mx\u001b[0m\u001b[0;34m)\u001b[0m\u001b[0;34m\u001b[0m\u001b[0;34m\u001b[0m\u001b[0m\n\u001b[0m\u001b[1;32m    731\u001b[0m             \u001b[0mrhs\u001b[0m \u001b[0;34m=\u001b[0m \u001b[0mself\u001b[0m\u001b[0;34m.\u001b[0m\u001b[0m_try_visit_binop\u001b[0m\u001b[0;34m(\u001b[0m\u001b[0my\u001b[0m\u001b[0;34m)\u001b[0m\u001b[0;34m\u001b[0m\u001b[0;34m\u001b[0m\u001b[0m\n\u001b[1;32m    732\u001b[0m \u001b[0;34m\u001b[0m\u001b[0m\n",
      "\u001b[0;32m~/.local/share/virtualenvs/GSDMA-DRfwm83x/lib/python3.8/site-packages/pandas/core/computation/expr.py\u001b[0m in \u001b[0;36m_try_visit_binop\u001b[0;34m(self, bop)\u001b[0m\n\u001b[1;32m    724\u001b[0m         \u001b[0;32mif\u001b[0m \u001b[0misinstance\u001b[0m\u001b[0;34m(\u001b[0m\u001b[0mbop\u001b[0m\u001b[0;34m,\u001b[0m \u001b[0;34m(\u001b[0m\u001b[0mOp\u001b[0m\u001b[0;34m,\u001b[0m \u001b[0mTerm\u001b[0m\u001b[0;34m)\u001b[0m\u001b[0;34m)\u001b[0m\u001b[0;34m:\u001b[0m\u001b[0;34m\u001b[0m\u001b[0;34m\u001b[0m\u001b[0m\n\u001b[1;32m    725\u001b[0m             \u001b[0;32mreturn\u001b[0m \u001b[0mbop\u001b[0m\u001b[0;34m\u001b[0m\u001b[0;34m\u001b[0m\u001b[0m\n\u001b[0;32m--> 726\u001b[0;31m         \u001b[0;32mreturn\u001b[0m \u001b[0mself\u001b[0m\u001b[0;34m.\u001b[0m\u001b[0mvisit\u001b[0m\u001b[0;34m(\u001b[0m\u001b[0mbop\u001b[0m\u001b[0;34m)\u001b[0m\u001b[0;34m\u001b[0m\u001b[0;34m\u001b[0m\u001b[0m\n\u001b[0m\u001b[1;32m    727\u001b[0m \u001b[0;34m\u001b[0m\u001b[0m\n\u001b[1;32m    728\u001b[0m     \u001b[0;32mdef\u001b[0m \u001b[0mvisit_BoolOp\u001b[0m\u001b[0;34m(\u001b[0m\u001b[0mself\u001b[0m\u001b[0;34m,\u001b[0m \u001b[0mnode\u001b[0m\u001b[0;34m,\u001b[0m \u001b[0;34m**\u001b[0m\u001b[0mkwargs\u001b[0m\u001b[0;34m)\u001b[0m\u001b[0;34m:\u001b[0m\u001b[0;34m\u001b[0m\u001b[0;34m\u001b[0m\u001b[0m\n",
      "\u001b[0;32m~/.local/share/virtualenvs/GSDMA-DRfwm83x/lib/python3.8/site-packages/pandas/core/computation/expr.py\u001b[0m in \u001b[0;36mvisit\u001b[0;34m(self, node, **kwargs)\u001b[0m\n\u001b[1;32m    399\u001b[0m         \u001b[0mmethod\u001b[0m \u001b[0;34m=\u001b[0m \u001b[0;34m\"visit_\"\u001b[0m \u001b[0;34m+\u001b[0m \u001b[0mtype\u001b[0m\u001b[0;34m(\u001b[0m\u001b[0mnode\u001b[0m\u001b[0;34m)\u001b[0m\u001b[0;34m.\u001b[0m\u001b[0m__name__\u001b[0m\u001b[0;34m\u001b[0m\u001b[0;34m\u001b[0m\u001b[0m\n\u001b[1;32m    400\u001b[0m         \u001b[0mvisitor\u001b[0m \u001b[0;34m=\u001b[0m \u001b[0mgetattr\u001b[0m\u001b[0;34m(\u001b[0m\u001b[0mself\u001b[0m\u001b[0;34m,\u001b[0m \u001b[0mmethod\u001b[0m\u001b[0;34m)\u001b[0m\u001b[0;34m\u001b[0m\u001b[0;34m\u001b[0m\u001b[0m\n\u001b[0;32m--> 401\u001b[0;31m         \u001b[0;32mreturn\u001b[0m \u001b[0mvisitor\u001b[0m\u001b[0;34m(\u001b[0m\u001b[0mnode\u001b[0m\u001b[0;34m,\u001b[0m \u001b[0;34m**\u001b[0m\u001b[0mkwargs\u001b[0m\u001b[0;34m)\u001b[0m\u001b[0;34m\u001b[0m\u001b[0;34m\u001b[0m\u001b[0m\n\u001b[0m\u001b[1;32m    402\u001b[0m \u001b[0;34m\u001b[0m\u001b[0m\n\u001b[1;32m    403\u001b[0m     \u001b[0;32mdef\u001b[0m \u001b[0mvisit_Module\u001b[0m\u001b[0;34m(\u001b[0m\u001b[0mself\u001b[0m\u001b[0;34m,\u001b[0m \u001b[0mnode\u001b[0m\u001b[0;34m,\u001b[0m \u001b[0;34m**\u001b[0m\u001b[0mkwargs\u001b[0m\u001b[0;34m)\u001b[0m\u001b[0;34m:\u001b[0m\u001b[0;34m\u001b[0m\u001b[0;34m\u001b[0m\u001b[0m\n",
      "\u001b[0;32m~/.local/share/virtualenvs/GSDMA-DRfwm83x/lib/python3.8/site-packages/pandas/core/computation/expr.py\u001b[0m in \u001b[0;36mvisit_Call\u001b[0;34m(self, node, side, **kwargs)\u001b[0m\n\u001b[1;32m    645\u001b[0m \u001b[0;34m\u001b[0m\u001b[0m\n\u001b[1;32m    646\u001b[0m         \u001b[0;32mif\u001b[0m \u001b[0misinstance\u001b[0m\u001b[0;34m(\u001b[0m\u001b[0mnode\u001b[0m\u001b[0;34m.\u001b[0m\u001b[0mfunc\u001b[0m\u001b[0;34m,\u001b[0m \u001b[0mast\u001b[0m\u001b[0;34m.\u001b[0m\u001b[0mAttribute\u001b[0m\u001b[0;34m)\u001b[0m \u001b[0;32mand\u001b[0m \u001b[0mnode\u001b[0m\u001b[0;34m.\u001b[0m\u001b[0mfunc\u001b[0m\u001b[0;34m.\u001b[0m\u001b[0mattr\u001b[0m \u001b[0;34m!=\u001b[0m \u001b[0;34m\"__call__\"\u001b[0m\u001b[0;34m:\u001b[0m\u001b[0;34m\u001b[0m\u001b[0;34m\u001b[0m\u001b[0m\n\u001b[0;32m--> 647\u001b[0;31m             \u001b[0mres\u001b[0m \u001b[0;34m=\u001b[0m \u001b[0mself\u001b[0m\u001b[0;34m.\u001b[0m\u001b[0mvisit_Attribute\u001b[0m\u001b[0;34m(\u001b[0m\u001b[0mnode\u001b[0m\u001b[0;34m.\u001b[0m\u001b[0mfunc\u001b[0m\u001b[0;34m)\u001b[0m\u001b[0;34m\u001b[0m\u001b[0;34m\u001b[0m\u001b[0m\n\u001b[0m\u001b[1;32m    648\u001b[0m         \u001b[0;32melif\u001b[0m \u001b[0;32mnot\u001b[0m \u001b[0misinstance\u001b[0m\u001b[0;34m(\u001b[0m\u001b[0mnode\u001b[0m\u001b[0;34m.\u001b[0m\u001b[0mfunc\u001b[0m\u001b[0;34m,\u001b[0m \u001b[0mast\u001b[0m\u001b[0;34m.\u001b[0m\u001b[0mName\u001b[0m\u001b[0;34m)\u001b[0m\u001b[0;34m:\u001b[0m\u001b[0;34m\u001b[0m\u001b[0;34m\u001b[0m\u001b[0m\n\u001b[1;32m    649\u001b[0m             \u001b[0;32mraise\u001b[0m \u001b[0mTypeError\u001b[0m\u001b[0;34m(\u001b[0m\u001b[0;34m\"Only named functions are supported\"\u001b[0m\u001b[0;34m)\u001b[0m\u001b[0;34m\u001b[0m\u001b[0;34m\u001b[0m\u001b[0m\n",
      "\u001b[0;32m~/.local/share/virtualenvs/GSDMA-DRfwm83x/lib/python3.8/site-packages/pandas/core/computation/expr.py\u001b[0m in \u001b[0;36mvisit_Attribute\u001b[0;34m(self, node, **kwargs)\u001b[0m\n\u001b[1;32m    629\u001b[0m         \u001b[0;32mif\u001b[0m \u001b[0misinstance\u001b[0m\u001b[0;34m(\u001b[0m\u001b[0mctx\u001b[0m\u001b[0;34m,\u001b[0m \u001b[0mast\u001b[0m\u001b[0;34m.\u001b[0m\u001b[0mLoad\u001b[0m\u001b[0;34m)\u001b[0m\u001b[0;34m:\u001b[0m\u001b[0;34m\u001b[0m\u001b[0;34m\u001b[0m\u001b[0m\n\u001b[1;32m    630\u001b[0m             \u001b[0;31m# resolve the value\u001b[0m\u001b[0;34m\u001b[0m\u001b[0;34m\u001b[0m\u001b[0;34m\u001b[0m\u001b[0m\n\u001b[0;32m--> 631\u001b[0;31m             \u001b[0mresolved\u001b[0m \u001b[0;34m=\u001b[0m \u001b[0mself\u001b[0m\u001b[0;34m.\u001b[0m\u001b[0mvisit\u001b[0m\u001b[0;34m(\u001b[0m\u001b[0mvalue\u001b[0m\u001b[0;34m)\u001b[0m\u001b[0;34m.\u001b[0m\u001b[0mvalue\u001b[0m\u001b[0;34m\u001b[0m\u001b[0;34m\u001b[0m\u001b[0m\n\u001b[0m\u001b[1;32m    632\u001b[0m             \u001b[0;32mtry\u001b[0m\u001b[0;34m:\u001b[0m\u001b[0;34m\u001b[0m\u001b[0;34m\u001b[0m\u001b[0m\n\u001b[1;32m    633\u001b[0m                 \u001b[0mv\u001b[0m \u001b[0;34m=\u001b[0m \u001b[0mgetattr\u001b[0m\u001b[0;34m(\u001b[0m\u001b[0mresolved\u001b[0m\u001b[0;34m,\u001b[0m \u001b[0mattr\u001b[0m\u001b[0;34m)\u001b[0m\u001b[0;34m\u001b[0m\u001b[0;34m\u001b[0m\u001b[0m\n",
      "\u001b[0;32m~/.local/share/virtualenvs/GSDMA-DRfwm83x/lib/python3.8/site-packages/pandas/core/computation/expr.py\u001b[0m in \u001b[0;36mvisit\u001b[0;34m(self, node, **kwargs)\u001b[0m\n\u001b[1;32m    399\u001b[0m         \u001b[0mmethod\u001b[0m \u001b[0;34m=\u001b[0m \u001b[0;34m\"visit_\"\u001b[0m \u001b[0;34m+\u001b[0m \u001b[0mtype\u001b[0m\u001b[0;34m(\u001b[0m\u001b[0mnode\u001b[0m\u001b[0;34m)\u001b[0m\u001b[0;34m.\u001b[0m\u001b[0m__name__\u001b[0m\u001b[0;34m\u001b[0m\u001b[0;34m\u001b[0m\u001b[0m\n\u001b[1;32m    400\u001b[0m         \u001b[0mvisitor\u001b[0m \u001b[0;34m=\u001b[0m \u001b[0mgetattr\u001b[0m\u001b[0;34m(\u001b[0m\u001b[0mself\u001b[0m\u001b[0;34m,\u001b[0m \u001b[0mmethod\u001b[0m\u001b[0;34m)\u001b[0m\u001b[0;34m\u001b[0m\u001b[0;34m\u001b[0m\u001b[0m\n\u001b[0;32m--> 401\u001b[0;31m         \u001b[0;32mreturn\u001b[0m \u001b[0mvisitor\u001b[0m\u001b[0;34m(\u001b[0m\u001b[0mnode\u001b[0m\u001b[0;34m,\u001b[0m \u001b[0;34m**\u001b[0m\u001b[0mkwargs\u001b[0m\u001b[0;34m)\u001b[0m\u001b[0;34m\u001b[0m\u001b[0;34m\u001b[0m\u001b[0m\n\u001b[0m\u001b[1;32m    402\u001b[0m \u001b[0;34m\u001b[0m\u001b[0m\n\u001b[1;32m    403\u001b[0m     \u001b[0;32mdef\u001b[0m \u001b[0mvisit_Module\u001b[0m\u001b[0;34m(\u001b[0m\u001b[0mself\u001b[0m\u001b[0;34m,\u001b[0m \u001b[0mnode\u001b[0m\u001b[0;34m,\u001b[0m \u001b[0;34m**\u001b[0m\u001b[0mkwargs\u001b[0m\u001b[0;34m)\u001b[0m\u001b[0;34m:\u001b[0m\u001b[0;34m\u001b[0m\u001b[0;34m\u001b[0m\u001b[0m\n",
      "\u001b[0;32m~/.local/share/virtualenvs/GSDMA-DRfwm83x/lib/python3.8/site-packages/pandas/core/computation/expr.py\u001b[0m in \u001b[0;36mvisit_Name\u001b[0;34m(self, node, **kwargs)\u001b[0m\n\u001b[1;32m    533\u001b[0m \u001b[0;34m\u001b[0m\u001b[0m\n\u001b[1;32m    534\u001b[0m     \u001b[0;32mdef\u001b[0m \u001b[0mvisit_Name\u001b[0m\u001b[0;34m(\u001b[0m\u001b[0mself\u001b[0m\u001b[0;34m,\u001b[0m \u001b[0mnode\u001b[0m\u001b[0;34m,\u001b[0m \u001b[0;34m**\u001b[0m\u001b[0mkwargs\u001b[0m\u001b[0;34m)\u001b[0m\u001b[0;34m:\u001b[0m\u001b[0;34m\u001b[0m\u001b[0;34m\u001b[0m\u001b[0m\n\u001b[0;32m--> 535\u001b[0;31m         \u001b[0;32mreturn\u001b[0m \u001b[0mself\u001b[0m\u001b[0;34m.\u001b[0m\u001b[0mterm_type\u001b[0m\u001b[0;34m(\u001b[0m\u001b[0mnode\u001b[0m\u001b[0;34m.\u001b[0m\u001b[0mid\u001b[0m\u001b[0;34m,\u001b[0m \u001b[0mself\u001b[0m\u001b[0;34m.\u001b[0m\u001b[0menv\u001b[0m\u001b[0;34m,\u001b[0m \u001b[0;34m**\u001b[0m\u001b[0mkwargs\u001b[0m\u001b[0;34m)\u001b[0m\u001b[0;34m\u001b[0m\u001b[0;34m\u001b[0m\u001b[0m\n\u001b[0m\u001b[1;32m    536\u001b[0m \u001b[0;34m\u001b[0m\u001b[0m\n\u001b[1;32m    537\u001b[0m     \u001b[0;32mdef\u001b[0m \u001b[0mvisit_NameConstant\u001b[0m\u001b[0;34m(\u001b[0m\u001b[0mself\u001b[0m\u001b[0;34m,\u001b[0m \u001b[0mnode\u001b[0m\u001b[0;34m,\u001b[0m \u001b[0;34m**\u001b[0m\u001b[0mkwargs\u001b[0m\u001b[0;34m)\u001b[0m\u001b[0;34m:\u001b[0m\u001b[0;34m\u001b[0m\u001b[0;34m\u001b[0m\u001b[0m\n",
      "\u001b[0;32m~/.local/share/virtualenvs/GSDMA-DRfwm83x/lib/python3.8/site-packages/pandas/core/computation/ops.py\u001b[0m in \u001b[0;36m__init__\u001b[0;34m(self, name, env, side, encoding)\u001b[0m\n\u001b[1;32m     84\u001b[0m         \u001b[0mtname\u001b[0m \u001b[0;34m=\u001b[0m \u001b[0mstr\u001b[0m\u001b[0;34m(\u001b[0m\u001b[0mname\u001b[0m\u001b[0;34m)\u001b[0m\u001b[0;34m\u001b[0m\u001b[0;34m\u001b[0m\u001b[0m\n\u001b[1;32m     85\u001b[0m         \u001b[0mself\u001b[0m\u001b[0;34m.\u001b[0m\u001b[0mis_local\u001b[0m \u001b[0;34m=\u001b[0m \u001b[0mtname\u001b[0m\u001b[0;34m.\u001b[0m\u001b[0mstartswith\u001b[0m\u001b[0;34m(\u001b[0m\u001b[0mLOCAL_TAG\u001b[0m\u001b[0;34m)\u001b[0m \u001b[0;32mor\u001b[0m \u001b[0mtname\u001b[0m \u001b[0;32min\u001b[0m \u001b[0mDEFAULT_GLOBALS\u001b[0m\u001b[0;34m\u001b[0m\u001b[0;34m\u001b[0m\u001b[0m\n\u001b[0;32m---> 86\u001b[0;31m         \u001b[0mself\u001b[0m\u001b[0;34m.\u001b[0m\u001b[0m_value\u001b[0m \u001b[0;34m=\u001b[0m \u001b[0mself\u001b[0m\u001b[0;34m.\u001b[0m\u001b[0m_resolve_name\u001b[0m\u001b[0;34m(\u001b[0m\u001b[0;34m)\u001b[0m\u001b[0;34m\u001b[0m\u001b[0;34m\u001b[0m\u001b[0m\n\u001b[0m\u001b[1;32m     87\u001b[0m         \u001b[0mself\u001b[0m\u001b[0;34m.\u001b[0m\u001b[0mencoding\u001b[0m \u001b[0;34m=\u001b[0m \u001b[0mencoding\u001b[0m\u001b[0;34m\u001b[0m\u001b[0;34m\u001b[0m\u001b[0m\n\u001b[1;32m     88\u001b[0m \u001b[0;34m\u001b[0m\u001b[0m\n",
      "\u001b[0;32m~/.local/share/virtualenvs/GSDMA-DRfwm83x/lib/python3.8/site-packages/pandas/core/computation/ops.py\u001b[0m in \u001b[0;36m_resolve_name\u001b[0;34m(self)\u001b[0m\n\u001b[1;32m    101\u001b[0m \u001b[0;34m\u001b[0m\u001b[0m\n\u001b[1;32m    102\u001b[0m     \u001b[0;32mdef\u001b[0m \u001b[0m_resolve_name\u001b[0m\u001b[0;34m(\u001b[0m\u001b[0mself\u001b[0m\u001b[0;34m)\u001b[0m\u001b[0;34m:\u001b[0m\u001b[0;34m\u001b[0m\u001b[0;34m\u001b[0m\u001b[0m\n\u001b[0;32m--> 103\u001b[0;31m         \u001b[0mres\u001b[0m \u001b[0;34m=\u001b[0m \u001b[0mself\u001b[0m\u001b[0;34m.\u001b[0m\u001b[0menv\u001b[0m\u001b[0;34m.\u001b[0m\u001b[0mresolve\u001b[0m\u001b[0;34m(\u001b[0m\u001b[0mself\u001b[0m\u001b[0;34m.\u001b[0m\u001b[0mlocal_name\u001b[0m\u001b[0;34m,\u001b[0m \u001b[0mis_local\u001b[0m\u001b[0;34m=\u001b[0m\u001b[0mself\u001b[0m\u001b[0;34m.\u001b[0m\u001b[0mis_local\u001b[0m\u001b[0;34m)\u001b[0m\u001b[0;34m\u001b[0m\u001b[0;34m\u001b[0m\u001b[0m\n\u001b[0m\u001b[1;32m    104\u001b[0m         \u001b[0mself\u001b[0m\u001b[0;34m.\u001b[0m\u001b[0mupdate\u001b[0m\u001b[0;34m(\u001b[0m\u001b[0mres\u001b[0m\u001b[0;34m)\u001b[0m\u001b[0;34m\u001b[0m\u001b[0;34m\u001b[0m\u001b[0m\n\u001b[1;32m    105\u001b[0m \u001b[0;34m\u001b[0m\u001b[0m\n",
      "\u001b[0;32m~/.local/share/virtualenvs/GSDMA-DRfwm83x/lib/python3.8/site-packages/pandas/core/computation/scope.py\u001b[0m in \u001b[0;36mresolve\u001b[0;34m(self, key, is_local)\u001b[0m\n\u001b[1;32m    215\u001b[0m                 \u001b[0;32mfrom\u001b[0m \u001b[0mpandas\u001b[0m\u001b[0;34m.\u001b[0m\u001b[0mcore\u001b[0m\u001b[0;34m.\u001b[0m\u001b[0mcomputation\u001b[0m\u001b[0;34m.\u001b[0m\u001b[0mops\u001b[0m \u001b[0;32mimport\u001b[0m \u001b[0mUndefinedVariableError\u001b[0m\u001b[0;34m\u001b[0m\u001b[0;34m\u001b[0m\u001b[0m\n\u001b[1;32m    216\u001b[0m \u001b[0;34m\u001b[0m\u001b[0m\n\u001b[0;32m--> 217\u001b[0;31m                 \u001b[0;32mraise\u001b[0m \u001b[0mUndefinedVariableError\u001b[0m\u001b[0;34m(\u001b[0m\u001b[0mkey\u001b[0m\u001b[0;34m,\u001b[0m \u001b[0mis_local\u001b[0m\u001b[0;34m)\u001b[0m \u001b[0;32mfrom\u001b[0m \u001b[0merr\u001b[0m\u001b[0;34m\u001b[0m\u001b[0;34m\u001b[0m\u001b[0m\n\u001b[0m\u001b[1;32m    218\u001b[0m \u001b[0;34m\u001b[0m\u001b[0m\n\u001b[1;32m    219\u001b[0m     \u001b[0;32mdef\u001b[0m \u001b[0mswapkey\u001b[0m\u001b[0;34m(\u001b[0m\u001b[0mself\u001b[0m\u001b[0;34m,\u001b[0m \u001b[0mold_key\u001b[0m\u001b[0;34m:\u001b[0m \u001b[0mstr\u001b[0m\u001b[0;34m,\u001b[0m \u001b[0mnew_key\u001b[0m\u001b[0;34m:\u001b[0m \u001b[0mstr\u001b[0m\u001b[0;34m,\u001b[0m \u001b[0mnew_value\u001b[0m\u001b[0;34m=\u001b[0m\u001b[0;32mNone\u001b[0m\u001b[0;34m)\u001b[0m\u001b[0;34m:\u001b[0m\u001b[0;34m\u001b[0m\u001b[0;34m\u001b[0m\u001b[0m\n",
      "\u001b[0;31mUndefinedVariableError\u001b[0m: name 'Litho_base' is not defined"
     ]
    }
   ],
   "source": [
    "compute_BH_length(df, top_col='Equip_top', base_col='Equip_base')"
   ]
  },
  {
   "cell_type": "code",
   "execution_count": null,
   "id": "divine-preparation",
   "metadata": {},
   "outputs": [],
   "source": [
    "coi = ['ID', 'Profondeur', 'Diam_for', 'Diam_ext_pz']\n",
    "pz=df[coi].drop_duplicates(['ID'])\n",
    "pz['Type'] = 'Piezo'"
   ]
  },
  {
   "cell_type": "code",
   "execution_count": null,
   "id": "tough-jamaica",
   "metadata": {},
   "outputs": [],
   "source": [
    "gdf_viewer(df, un_val='ID', rows=3)"
   ]
  },
  {
   "cell_type": "code",
   "execution_count": null,
   "id": "arbitrary-irrigation",
   "metadata": {},
   "outputs": [],
   "source": [
    "pz = pz\n",
    "equip = df\n",
    "source_equip = equip"
   ]
  },
  {
   "cell_type": "code",
   "execution_count": null,
   "id": "sixth-character",
   "metadata": {},
   "outputs": [],
   "source": [
    "if not os.path.exists(tmp_dir):\n",
    "    os.makedirs(tmp_dir)\n",
    "    \n",
    "equip.to_csv(tmp_dir+sheet+'_Equipments.csv', index=False)\n",
    "pz.to_csv(tmp_dir+sheet+'_Piezometers.csv', index=False)\n",
    "#mes_pz.to_csv(tmp_dir+sheet+'_Measures.csv', index=False)\n",
    "\n",
    "source_equip.to_csv(tmp_dir+'source_Equipments.csv', index=False) #all Piezometers data in the source\n",
    "#source_mes_pz.to_csv(tmp_dir+'source_Measures.csv', index=False) #all Boreholes data in the source\n",
    "source_pz.to_csv(tmp_dir+'source_Piezometers.csv', index=False) #all Piezometers data in the source\n",
    "\n",
    "print(f'source_bh:{len(source_bh)} ; source_pz:{len(source_pz)} ; source_mes_pz:{len(source_mes_pz)} ; '\n",
    "     f'source_equip:{len(source_equip)}')"
   ]
  },
  {
   "cell_type": "markdown",
   "id": "expensive-darwin",
   "metadata": {},
   "source": [
    "* **Sheets: 'Echantillon' + 'Organoleptique'**"
   ]
  },
  {
   "cell_type": "code",
   "execution_count": null,
   "id": "altered-watershed",
   "metadata": {},
   "outputs": [],
   "source": [
    "tmp_dir='../../CF_data/Result_traitem/profils_sols_donnees_forages/'\n",
    "sheet='Echant-organo'"
   ]
  },
  {
   "cell_type": "code",
   "execution_count": null,
   "id": "electoral-groove",
   "metadata": {
    "scrolled": false
   },
   "outputs": [],
   "source": [
    "df = pd.read_excel('../../CF_data/Data_UMONS/ouvrages/Profils sols et données forages.xls', sheet_name='Echantillon')#, skiprows=1)\n",
    "df.replace(r'<|>','', inplace=True, regex=True)\n",
    "df.replace(r'-$',np.nan, inplace=True, regex=True)\n",
    "\n",
    "gdf_viewer(df)"
   ]
  },
  {
   "cell_type": "code",
   "execution_count": null,
   "id": "assured-melbourne",
   "metadata": {},
   "outputs": [],
   "source": [
    "df.rename(columns={'De':'Ech_top', 'A':'Ech_base', 'Numéro':'ID_ech'}, inplace=True)"
   ]
  },
  {
   "cell_type": "code",
   "execution_count": null,
   "id": "abroad-report",
   "metadata": {
    "scrolled": false
   },
   "outputs": [],
   "source": [
    "sdf = pd.read_excel('../../CF_data/Data_UMONS/ouvrages/Profils sols et données forages.xls', sheet_name='Organoleptique')#, skiprows=1)\n",
    "df.replace(r'<|>','', inplace=True, regex=True)\n",
    "df.replace(r'-$',np.nan, inplace=True, regex=True)\n",
    "gdf_viewer(sdf)"
   ]
  },
  {
   "cell_type": "code",
   "execution_count": null,
   "id": "threaded-buying",
   "metadata": {},
   "outputs": [],
   "source": [
    "list(sdf.columns)"
   ]
  },
  {
   "cell_type": "code",
   "execution_count": null,
   "id": "threatened-ribbon",
   "metadata": {},
   "outputs": [],
   "source": [
    "sdf.rename(columns={'De':'Pol_top', 'A':'Pol_base'}, inplace=True)"
   ]
  },
  {
   "cell_type": "code",
   "execution_count": null,
   "id": "challenging-stability",
   "metadata": {},
   "outputs": [],
   "source": [
    "mdf, error_df = gdf_merger(df, sdf, 'outer', 'ID')\n",
    "mdf['Type_ech']='Sol'\n",
    "mdf.insert(4, 'Type_ech', mdf.pop('Type_ech'))"
   ]
  },
  {
   "cell_type": "code",
   "execution_count": null,
   "id": "governing-subject",
   "metadata": {},
   "outputs": [],
   "source": [
    "gdf_viewer(mdf, rows=3)"
   ]
  },
  {
   "cell_type": "code",
   "execution_count": null,
   "id": "varying-confusion",
   "metadata": {},
   "outputs": [],
   "source": [
    "prv_sol = mdf\n",
    "source_prv_sol=prv_sol"
   ]
  },
  {
   "cell_type": "code",
   "execution_count": null,
   "id": "modified-imagination",
   "metadata": {},
   "outputs": [],
   "source": [
    "if not os.path.exists(tmp_dir):\n",
    "    os.makedirs(tmp_dir)\n",
    "    \n",
    "prv_sol.to_csv(tmp_dir+sheet+'_Samples-soil.csv', index=False)\n",
    "source_prv_sol.to_csv(tmp_dir+'Source_Samples-soil.csv', index=False) #all Samples and organoleptic data in the source\n",
    "print(f'source_bh:{len(source_bh)} ; source_pz:{len(source_pz)} ; source_mes_pz:{len(source_mes_pz)} ; '\n",
    "     f'source_prv_sol:{len(source_prv_sol)} ; source_equip:{len(source_equip)}')"
   ]
  },
  {
   "cell_type": "markdown",
   "id": "objective-california",
   "metadata": {},
   "source": [
    "* **Sheet : 'Log'**"
   ]
  },
  {
   "cell_type": "code",
   "execution_count": null,
   "id": "loaded-house",
   "metadata": {},
   "outputs": [],
   "source": [
    "tmp_dir='../../CF_data/Result_traitem/profils_sols_donnees_forages/'\n",
    "sheet='Log'"
   ]
  },
  {
   "cell_type": "code",
   "execution_count": null,
   "id": "stupid-theater",
   "metadata": {
    "scrolled": false
   },
   "outputs": [],
   "source": [
    "df = pd.read_excel('../../CF_data/Data_UMONS/ouvrages/Profils sols et données forages.xls', sheet_name='Log')#, skiprows=1)\n",
    "gdf_viewer(df)"
   ]
  },
  {
   "cell_type": "code",
   "execution_count": null,
   "id": "aerial-atlanta",
   "metadata": {},
   "outputs": [],
   "source": [
    "df.rename(columns={'De':'Litho_top', 'A':'Litho_base'}, inplace=True)"
   ]
  },
  {
   "cell_type": "code",
   "execution_count": null,
   "id": "actual-pickup",
   "metadata": {
    "scrolled": true
   },
   "outputs": [],
   "source": [
    "q=df.query('Keyword.str.contains(\".ointe\", regex=True)', engine='python').index\n",
    "df.drop(q, inplace=True)\n",
    "df.reset_index(drop=True, inplace=True)"
   ]
  },
  {
   "cell_type": "code",
   "execution_count": null,
   "id": "burning-huntington",
   "metadata": {},
   "outputs": [],
   "source": [
    "compute_BH_length(df)"
   ]
  },
  {
   "cell_type": "code",
   "execution_count": null,
   "id": "incomplete-tuner",
   "metadata": {},
   "outputs": [],
   "source": [
    "coi = ['ID', 'Profondeur']\n",
    "bh=df[coi].drop_duplicates(['ID'])\n",
    "bh['Type'] = 'Forage'"
   ]
  },
  {
   "cell_type": "code",
   "execution_count": null,
   "id": "wired-pepper",
   "metadata": {
    "scrolled": false
   },
   "outputs": [],
   "source": [
    "gdf_viewer(df, rows=3)"
   ]
  },
  {
   "cell_type": "code",
   "execution_count": null,
   "id": "cheap-shepherd",
   "metadata": {},
   "outputs": [],
   "source": [
    "litho=df\n",
    "source_litho=litho"
   ]
  },
  {
   "cell_type": "code",
   "execution_count": null,
   "id": "worse-necklace",
   "metadata": {},
   "outputs": [],
   "source": [
    "if not os.path.exists(tmp_dir):\n",
    "    os.makedirs(tmp_dir)\n",
    "\n",
    "bh.to_csv(tmp_dir+sheet+'_Boreholes.csv', index=False)\n",
    "litho.to_csv(tmp_dir+sheet+'_Lithology.csv', index=False)\n",
    "source_litho.to_csv(tmp_dir+'source_Lithology.csv', index=False) #all lithologies or descriptions data in the source\n",
    "\n",
    "print(f'source_bh:{len(source_bh)} ; source_pz:{len(source_pz)} ; source_mes_pz:{len(source_mes_pz)} ; '\n",
    "     f'source_prv_sol:{len(source_prv_sol)} ; source_equip:{len(source_equip)} ; source_litho:{len(source_litho)} ;')"
   ]
  },
  {
   "cell_type": "markdown",
   "id": "italian-benjamin",
   "metadata": {},
   "source": [
    "## 2-Database MEMORIS3.xlsx\n",
    "* **Sheet : 'PROFILS_SOL'**"
   ]
  },
  {
   "cell_type": "code",
   "execution_count": null,
   "id": "intended-interim",
   "metadata": {},
   "outputs": [],
   "source": [
    "# New file, so the source variables must be overwritten !!\n",
    "_df=pd.DataFrame()\n",
    "source_bh, source_pz, source_litho, source_prv_sol, source_mes_pz, source_equip= _df, _df, _df, _df, _df, _df"
   ]
  },
  {
   "cell_type": "code",
   "execution_count": null,
   "id": "metropolitan-juvenile",
   "metadata": {},
   "outputs": [],
   "source": [
    "tmp_dir='../../CF_data/Result_traitem/database_Memoris3/'\n",
    "sheet='Profils_sol'"
   ]
  },
  {
   "cell_type": "code",
   "execution_count": null,
   "id": "indirect-korean",
   "metadata": {
    "scrolled": false
   },
   "outputs": [],
   "source": [
    "df = pd.read_excel('../../CF_data/Data_UMONS/Contamination/Doc_SITEREM/Rapport de synthèse des études de sol et des eaux souterraines. '+\n",
    "                        'Siterem - 2017/Database MEMORIS3.xlsx', sheet_name='PROFILS_SOL')#, skiprows=2)\n",
    "df.replace(r'<|>','', inplace=True, regex=True)\n",
    "df.replace(r'-$',np.nan, inplace=True, regex=True)\n",
    "\n",
    "gdf_viewer(df, rows=3)"
   ]
  },
  {
   "cell_type": "code",
   "execution_count": null,
   "id": "contained-poker",
   "metadata": {},
   "outputs": [],
   "source": [
    "df = df[['Date', 'N°', 'Id', 'Profondeur', 'Description', 'Piézo', 'Unnamed: 6',\n",
    "                             'Gouge Ø75', 'MFT Ø145', 'carottier', 'tarrière', 'Liner Ø60']] "
   ]
  },
  {
   "cell_type": "code",
   "execution_count": null,
   "id": "typical-century",
   "metadata": {
    "scrolled": false
   },
   "outputs": [],
   "source": [
    "df.rename({'Date':'Date_ouv', 'N°':'Ref', 'Id':'idx', 'Piézo':'Type', 'Unnamed: 6':'Societe',\n",
    "                'MFT Ø145':'MFT_145', 'Gouge Ø75':'Gouge_75', 'Liner Ø60': 'Liner_60'}, axis=1, inplace=True)"
   ]
  },
  {
   "cell_type": "code",
   "execution_count": null,
   "id": "durable-infection",
   "metadata": {
    "scrolled": true
   },
   "outputs": [],
   "source": [
    "print(list(set(df['Date_ouv'].apply(lambda x: x.year if not pd.isnull(x) else x))))"
   ]
  },
  {
   "cell_type": "code",
   "execution_count": null,
   "id": "supreme-ceiling",
   "metadata": {},
   "outputs": [],
   "source": [
    "df.loc[df.fillna('').query(\"Societe.str.contains('x|X')\").index, 'Type']='X'"
   ]
  },
  {
   "cell_type": "code",
   "execution_count": null,
   "id": "legislative-gibraltar",
   "metadata": {},
   "outputs": [],
   "source": [
    "df.loc[df.fillna('').query(\"Gouge_75.str.contains('SBS|SITER')\").index, 'Societe']='SBS Environnement'\n",
    "df.loc[df.fillna('').query(\"Gouge_75.str.contains('SBS|SITER')\").index, 'Gouge_75']=''"
   ]
  },
  {
   "cell_type": "code",
   "execution_count": null,
   "id": "creative-virginia",
   "metadata": {},
   "outputs": [],
   "source": [
    "for i in range(len(df['Date_ouv'])-1):\n",
    "    if not pd.isnull(df.loc[i, 'Date_ouv']) and pd.isnull(df.loc[i+1, 'Date_ouv']):\n",
    "        df.loc[i+1, 'Date_ouv']=df.loc[i, 'Date_ouv']\n",
    "        \n",
    "    if not pd.isnull(df.loc[i, 'Societe']) and pd.isnull(df.loc[i+1, 'Societe']):\n",
    "        df.loc[i+1, 'Societe']=df.loc[i, 'Societe']\n",
    "        \n",
    "    if not pd.isnull(df.loc[i, 'Type']) and pd.isnull(df.loc[i+1, 'Type']) and \\\n",
    "       df.loc[i, 'Ref']==df.loc[i+1, 'Ref']:\n",
    "        df.loc[i+1, 'Type']=df.loc[i, 'Type']"
   ]
  },
  {
   "cell_type": "code",
   "execution_count": null,
   "id": "upper-candidate",
   "metadata": {},
   "outputs": [],
   "source": [
    "for i in range(len(df['idx'])-1):    \n",
    "    if df.loc[i,'Ref']==df.loc[i+1,'Ref'] and not pd.isnull(df.loc[i, 'Profondeur'])\\\n",
    "    and re.findall('Forage',df.loc[i, 'Profondeur']):\n",
    "        df.loc[i+1,'idx']=df.loc[i, 'Profondeur'][0]+str(df.loc[i, 'Ref'])\n",
    "        w=df.loc[i, 'Profondeur'][0]\n",
    "    elif df.loc[i,'Ref']==df.loc[i+1,'Ref'] and not pd.isnull(df.loc[i, 'Profondeur']):\n",
    "        df.loc[i+1,'idx']=w+str(df.loc[i, 'Ref'])\n",
    "    \n",
    "    if df.loc[i,'Ref']==df.loc[i+1,'Ref'] and not pd.isnull(df.loc[i, 'Profondeur'])\\\n",
    "    and re.findall('Tranch',df.loc[i, 'Profondeur']):\n",
    "        df.loc[i+1,'idx']=df.loc[i, 'Profondeur'][0]+str(df.loc[i, 'Ref'])\n",
    "        w=df.loc[i, 'Profondeur'][0]\n",
    "    elif df.loc[i,'Ref']==df.loc[i+1,'Ref'] and not pd.isnull(df.loc[i, 'Profondeur']):\n",
    "        df.loc[i+1,'idx']=w+str(df.loc[i, 'Ref'])\n",
    "     \n",
    "   # if df.loc[i,'Ref']==df.loc[i+1,'Ref'] and not pd.isnull(df.loc[i, 'Profondeur'])\\\n",
    "   # and re.findall('Moni',df.loc[i, 'Profondeur']):\n",
    "   #     df.loc[i+1,'idx']=df.loc[i, 'Profondeur'][0]+str(df.loc[i, 'Ref'])\n",
    "   #     w=df.loc[i, 'Profondeur'][0]\n",
    "   # elif df.loc[i,'Ref']==df.loc[i+1,'Ref'] and not pd.isnull(df.loc[i, 'Profondeur']):\n",
    "   #     df.loc[i+1,'idx']=w+str(df.loc[i, 'Ref'])"
   ]
  },
  {
   "cell_type": "code",
   "execution_count": null,
   "id": "noticed-basement",
   "metadata": {},
   "outputs": [],
   "source": [
    "df['Ref']=df['idx'].apply(lambda x : x if re.findall('F|T', str(x)) else '')\n",
    "df['Ref']=df['idx'].apply(lambda x : x.replace('Monito ', 'Mon') if re.findall('Monit', str(x)) else x)"
   ]
  },
  {
   "cell_type": "code",
   "execution_count": null,
   "id": "ignored-community",
   "metadata": {},
   "outputs": [],
   "source": [
    "df['Type']=df['Type'].apply(lambda x: 'Piezo' if not pd.isnull(x) else '')"
   ]
  },
  {
   "cell_type": "code",
   "execution_count": null,
   "id": "thrown-parent",
   "metadata": {},
   "outputs": [],
   "source": [
    "df['Ref']=df['Ref'].apply(lambda x: re.sub(\"\\.1\",\"a\",str(x)) if re.search(r\"\\.1\", str(x)) else x)\n",
    "df['Ref']=df['Ref'].apply(lambda x: re.sub(\"\\.2\",\"b\",str(x)) if re.search(r\"\\.2\", str(x)) else x)\n",
    "df['Ref']=df['Ref'].apply(lambda x: re.sub(\"\\.3\",\"c\",str(x)) if re.search(r\"\\.3\", str(x)) else x)\n",
    "df['Ref']=df['Ref'].apply(lambda x: re.sub(\"\\.4\",\"d\",str(x)) if re.search(r\"\\.4\", str(x)) else x)"
   ]
  },
  {
   "cell_type": "code",
   "execution_count": null,
   "id": "photographic-speaking",
   "metadata": {},
   "outputs": [],
   "source": [
    "gen_id_dated(df, ref_col='Ref', date_col='Date_ouv')"
   ]
  },
  {
   "cell_type": "code",
   "execution_count": null,
   "id": "utility-state",
   "metadata": {
    "scrolled": true
   },
   "outputs": [],
   "source": [
    "df.loc[df.query('Profondeur!=Profondeur' ).index,'Profondeur']=''"
   ]
  },
  {
   "cell_type": "code",
   "execution_count": null,
   "id": "impaired-viewer",
   "metadata": {},
   "outputs": [],
   "source": [
    "df['Method']=''\n",
    "            \n",
    "for i in range(len(df['Method'])):\n",
    "    if not pd.isnull(df.loc[i, 'Gouge_75']) : df.loc[i, 'Method']='Gouge_75'\n",
    "    if not pd.isnull(df.loc[i, 'MFT_145']) : df.loc[i, 'Method']='MFT_145'\n",
    "    if not pd.isnull(df.loc[i, 'Liner_60']) : df.loc[i, 'Method']='Liner_60'\n",
    "    if not pd.isnull(df.loc[i, 'carottier']) : df.loc[i, 'Method']='carrotier'\n",
    "    if not pd.isnull(df.loc[i, 'tarrière']) : df.loc[i, 'Method']='tarrière'"
   ]
  },
  {
   "cell_type": "code",
   "execution_count": null,
   "id": "relevant-bobby",
   "metadata": {},
   "outputs": [],
   "source": [
    "df.drop(df.query('Profondeur.str.contains(\"Forage\") and Profondeur!=\"Forage bloqué\"', engine='python').index, inplace=True)\n",
    "df.drop(df.query('Profondeur.str.contains(\"Tranc\") and Profondeur!=\"Tranchée bloqué\"', engine='python').index, inplace=True)\n",
    "df.drop(df.query('Profondeur.str.contains(\".orage|..ranch\", regex=True)', engine='python').index, inplace=True)\n",
    "df.drop(df.fillna('').query('Description.str.contains(\"^.orage bloq|^.ranc.* bloq|^.*efus\", regex=True)', engine='python').index, inplace=True)\n",
    "df.drop(df.query('Ref!=Ref').index, inplace=True)\n",
    "df.drop(columns=['MFT_145','Gouge_75','Liner_60', 'carottier', 'tarrière', 'idx'], axis=1, inplace=True)\n",
    "df.reset_index(drop=True, inplace=True)"
   ]
  },
  {
   "cell_type": "code",
   "execution_count": null,
   "id": "satisfied-entry",
   "metadata": {},
   "outputs": [],
   "source": [
    "df['Litho_top'] = df['Profondeur'].apply(lambda x: x.replace(',','.').split('-')[0].strip(' m'))\n",
    "df['Litho_base'] = df['Profondeur'].apply(lambda x: x.replace(',','.').split('-')[-1].strip(' m'))"
   ]
  },
  {
   "cell_type": "code",
   "execution_count": null,
   "id": "human-zimbabwe",
   "metadata": {},
   "outputs": [],
   "source": [
    "df.rename({'Ref':'ID'}, axis=1, inplace=True)\n",
    "if 'Profondeur' in df.columns: df.drop(columns=['Profondeur'], axis=1, inplace=True)"
   ]
  },
  {
   "cell_type": "code",
   "execution_count": null,
   "id": "appreciated-termination",
   "metadata": {},
   "outputs": [],
   "source": [
    "set([x[0] for x in list(set(df.ID)) if isinstance(x,str)])"
   ]
  },
  {
   "cell_type": "code",
   "execution_count": null,
   "id": "minor-billion",
   "metadata": {},
   "outputs": [],
   "source": [
    "df.loc[df.query('ID_date.str.contains(\"T\")', engine='python').index, 'Type'] = 'Tranchee'\n",
    "df.loc[df.query('Type==\"\"', engine='python').index, 'Type'] = 'Forage'"
   ]
  },
  {
   "cell_type": "code",
   "execution_count": null,
   "id": "dimensional-philippines",
   "metadata": {},
   "outputs": [],
   "source": [
    "df.loc[1268, ['ID_date','ID']] = df.loc[1267, ['ID_date','ID']]\n",
    "df.loc[df.query('Description.isnull() or Description.str.len()<1').index, 'Description'] = ''"
   ]
  },
  {
   "cell_type": "code",
   "execution_count": null,
   "id": "planned-going",
   "metadata": {},
   "outputs": [],
   "source": [
    "df.drop(index=df.query('Litho_base.isnull() or Litho_base.str.len()<1 or ' \n",
    "                       'Description.str.contains(\"Bloqu\")').index, inplace=True)\n",
    "df.reset_index(drop=True, inplace=True)"
   ]
  },
  {
   "cell_type": "raw",
   "id": "finite-arbor",
   "metadata": {},
   "source": [
    "print(df.loc[802, ['ID','Description','Method','Litho_top', 'Litho_base']])\n",
    "df.query('Description.isnull() or Description.str.contains(\"Bloqu\")', engine='python')"
   ]
  },
  {
   "cell_type": "code",
   "execution_count": null,
   "id": "ongoing-electron",
   "metadata": {},
   "outputs": [],
   "source": [
    "compute_BH_length(df)"
   ]
  },
  {
   "cell_type": "code",
   "execution_count": null,
   "id": "equivalent-comment",
   "metadata": {},
   "outputs": [],
   "source": [
    "# we only have lithologies here, but separate facilities could be interesting for the following\n",
    "coi = ['ID_date', 'Date_ouv', 'ID', 'Profondeur','Type', 'Societe']\n",
    "\n",
    "litho = df\n",
    "bh = df.loc[df.query('Type==\"Forage\"', engine='python').index] # boreholes \n",
    "trch = df.loc[df.query('Type==\"Tranchee\"', engine='python').index] # trenches\n",
    "pz = df.loc[df.query('Type==\"Piezo\"', engine='python').index] # piezometers\n",
    "\n",
    "bh=bh[coi].drop_duplicates(['ID'])\n",
    "pz=pz[coi].drop_duplicates(['ID'])\n",
    "trch=trch[coi].drop_duplicates(['ID'])"
   ]
  },
  {
   "cell_type": "code",
   "execution_count": null,
   "id": "ignored-canon",
   "metadata": {},
   "outputs": [],
   "source": [
    "len(bh), len(pz), len(trch)"
   ]
  },
  {
   "cell_type": "code",
   "execution_count": null,
   "id": "minus-initial",
   "metadata": {
    "scrolled": true
   },
   "outputs": [],
   "source": [
    "gdf_viewer(pz, un_val='ID', rows=3)"
   ]
  },
  {
   "cell_type": "code",
   "execution_count": null,
   "id": "pressing-nirvana",
   "metadata": {},
   "outputs": [],
   "source": [
    "source_litho = df\n",
    "source_bh = bh\n",
    "source_pz = pz\n",
    "source_trch = trch"
   ]
  },
  {
   "cell_type": "code",
   "execution_count": null,
   "id": "honey-booking",
   "metadata": {},
   "outputs": [],
   "source": [
    "if not os.path.exists(tmp_dir):\n",
    "    os.makedirs(tmp_dir)\n",
    "    \n",
    "litho.to_csv(tmp_dir+sheet+'_Lithology.csv', index=False)\n",
    "bh.to_csv(tmp_dir+sheet+'_Boreholes.csv', index=False)\n",
    "pz.to_csv(tmp_dir+sheet+'_Piezometers.csv', index=False)\n",
    "trch.to_csv(tmp_dir+sheet+'_Trenches.csv', index=False)\n",
    "\n",
    "source_litho.to_csv(tmp_dir+'source_Lithology.csv', index=False) #all lithologies or descriptions data in the source\n",
    "source_bh.to_csv(tmp_dir+'source_Boreholes.csv', index=False)\n",
    "source_pz.to_csv(tmp_dir+'source_Piezometers.csv', index=False)\n",
    "source_trch.to_csv(tmp_dir+'source_Trenches.csv', index=False)\n",
    "\n",
    "print(f'source_bh:{len(source_bh)} ; source_pz:{len(source_pz)} ; source_mes_pz:{len(source_mes_pz)} ; '\n",
    "     f'source_prv_sol:{len(source_prv_sol)} ; source_litho:{len(source_litho)} ;')"
   ]
  },
  {
   "cell_type": "markdown",
   "id": "applied-dress",
   "metadata": {},
   "source": [
    "* **Sheet : 'DONNEES PIEZOS'**"
   ]
  },
  {
   "cell_type": "code",
   "execution_count": null,
   "id": "young-nicholas",
   "metadata": {},
   "outputs": [],
   "source": [
    "tmp_dir='../../CF_data/Result_traitem/database_Memoris3/'\n",
    "sheet='Donnees_piezos'"
   ]
  },
  {
   "cell_type": "code",
   "execution_count": null,
   "id": "comfortable-injection",
   "metadata": {
    "scrolled": false
   },
   "outputs": [],
   "source": [
    "df = pd.read_excel('../../CF_data/Data_UMONS/Contamination/Doc_SITEREM/Rapport de synthèse des études de sol et des eaux souterraines. '+\n",
    "                        'Siterem - 2017/Database MEMORIS3.xlsx', sheet_name='DONNEES PIEZOS', skiprows=2)\n",
    "df.replace(r'<|>','', inplace=True, regex=True)\n",
    "df.replace(r'-$',np.nan, inplace=True, regex=True)\n",
    "\n",
    "gdf_viewer(df, rows=3)"
   ]
  },
  {
   "cell_type": "code",
   "execution_count": null,
   "id": "multiple-passage",
   "metadata": {},
   "outputs": [],
   "source": [
    "sdf=df[[df.columns.to_list()[1]]+df.columns.to_list()[13:17]]\n",
    "df=df[df.columns.to_list()[1:13]+df.columns.to_list()[17:22]]"
   ]
  },
  {
   "cell_type": "code",
   "execution_count": null,
   "id": "catholic-batch",
   "metadata": {},
   "outputs": [],
   "source": [
    "df.rename(columns={'Campagne':'Societe','N_piezo.':'ID','X [m]':'X','Y [m]':'Y','Z tête PZ [m]':'Z',\n",
    "                        'Zsol [m]':'Zsol', 'Prof_PZ [m]':'Long_pz','Section_crépinée [m]':'Long_crep',\n",
    "                        'Aquifère':'Nappe', 'Caractéristique':'Caractere',\n",
    "                        'Diamètre_int [m]':'Diam_int_pz','Surnageant [cm]':'Surnageant','Sousnageant [cm]':'Sousnageant',\n",
    "                        'Description éch. \\nOd/turb.':'Opacite_eau','Remarques':'Rmq'}, inplace=True)\n",
    "\n",
    "df=df.query(\"ID ==ID\")\n",
    "df.replace('-',np.nan, inplace=True)"
   ]
  },
  {
   "cell_type": "code",
   "execution_count": null,
   "id": "fiscal-triple",
   "metadata": {},
   "outputs": [],
   "source": [
    "df['Type']=df['Long_crep'].apply(lambda x: 'Piezo' if not pd.isnull(x) else 'Unknown')"
   ]
  },
  {
   "cell_type": "code",
   "execution_count": null,
   "id": "recorded-exposure",
   "metadata": {},
   "outputs": [],
   "source": [
    "df=df[['ID','X','Y','Z','Zsol','Type','Societe','Nappe','Long_pz','Long_crep','Diam_int_pz', 'Surnageant', \n",
    "         'Sousnageant','Caractere', 'Rmq', 'Opacite_eau','Zone', 'Sous_zone']]\n",
    "df['Sousnageant']=df['Sousnageant'].apply(lambda x: x/100 if not pd.isnull(x) else x) #convert unit in [m]\n",
    "df['Surnageant']=df['Surnageant'].apply(lambda x: x/100 if not pd.isnull(x) else x)"
   ]
  },
  {
   "cell_type": "code",
   "execution_count": null,
   "id": "pretty-muscle",
   "metadata": {},
   "outputs": [],
   "source": [
    "gdf_viewer(df, un_val='ID', rows=3) # all units in [m]"
   ]
  },
  {
   "cell_type": "code",
   "execution_count": null,
   "id": "interstate-upgrade",
   "metadata": {},
   "outputs": [],
   "source": [
    "prv_eau=df[['ID','Surnageant', 'Sousnageant', 'Caractere','Rmq', 'Opacite_eau']]\n",
    "prv_eau['Type_ech']='Eau'\n",
    "\n",
    "pz=df.query(\"Type=='Piezo'\")\n",
    "pz=pz[['ID','X','Y','Z','Zsol','Type','Societe','Nappe','Long_pz','Long_crep','Diam_int_pz','Zone','Sous_zone']]\n",
    "pz['Diam_int_pz']=pz['Diam_int_pz'].apply(lambda x: x*1000 if not pd.isnull(x) else x) # millimeters\n",
    "\n",
    "ouv=df.query(\"Type!='Piezo'\") # unknown facilities' type (it seems they are not boreholes)\n",
    "ouv=ouv[['ID','X','Y','Z','Type','Societe']]\n",
    "ouv['Type'] = 'Unknown'"
   ]
  },
  {
   "cell_type": "code",
   "execution_count": null,
   "id": "bright-mainland",
   "metadata": {},
   "outputs": [],
   "source": [
    "# data in the second part of the initial dataframe\n",
    "sdf.rename(columns={'N_piezo.':'ID'}, inplace=True)\n",
    "sdf=sdf.query(\"ID==ID\")"
   ]
  },
  {
   "cell_type": "code",
   "execution_count": null,
   "id": "powerful-spiritual",
   "metadata": {},
   "outputs": [],
   "source": [
    "df_tmp=pd.DataFrame()\n",
    "col=sdf.columns.to_list()\n",
    "ID_mes=0\n",
    "\n",
    "for i in range(len(sdf)):\n",
    "    for j in range(1,len(col)):\n",
    "        d=col[j].strip('\\n|.1').split('/')\n",
    "        df_tmp.loc[ID_mes,'Date_mes']=dtm.date(int(d[2]), int(d[1]), int(d[0]))\n",
    "        df_tmp.loc[ID_mes,'ID']=str(sdf.loc[i,'ID'])\n",
    "        \n",
    "        if j<=2: \n",
    "            df_tmp.loc[ID_mes,'Niv_eau_pz']=sdf.iloc[i,j]\n",
    "            df_tmp.loc[ID_mes,'Niv_eau_sol']=sdf.iloc[i,j+2]\n",
    "            ID_mes+=1\n",
    "\n",
    "df_tmp=df_tmp.sort_values('Date_mes').reset_index(drop=True)\n",
    "df_tmp['ID_mes']=df_tmp['ID'].apply(lambda x: 'Mes_'+str(x))\n",
    "df_tmp.insert(0, 'ID_mes', df_tmp.pop('ID_mes'))\n",
    "\n",
    "mes_pz = df_tmp[:-1]"
   ]
  },
  {
   "cell_type": "code",
   "execution_count": null,
   "id": "persistent-glucose",
   "metadata": {},
   "outputs": [],
   "source": [
    "mes_pz['Type_mes'] = 'Phys-chim'"
   ]
  },
  {
   "cell_type": "code",
   "execution_count": null,
   "id": "signal-belgium",
   "metadata": {},
   "outputs": [],
   "source": [
    "gdf_viewer(mes_pz, rows=3), gdf_viewer(ouv, rows=3)"
   ]
  },
  {
   "cell_type": "code",
   "execution_count": null,
   "id": "amateur-gentleman",
   "metadata": {},
   "outputs": [],
   "source": [
    "source_pz = pz\n",
    "source_prv_eau = prv_eau\n",
    "source_ouv = ouv\n",
    "source_mes_pz = mes_pz"
   ]
  },
  {
   "cell_type": "code",
   "execution_count": null,
   "id": "agricultural-furniture",
   "metadata": {},
   "outputs": [],
   "source": [
    "if not os.path.exists(tmp_dir):\n",
    "    os.makedirs(tmp_dir)\n",
    "\n",
    "#bh.to_csv(tmp_dir+'source_Boreholes.csv', index=False)\n",
    "#litho.to_csv(tmp_dir+sheet+'_Lithology.csv', index=False)\n",
    "pz.to_csv(tmp_dir+sheet+'_Piezometers.csv', index=False)\n",
    "mes_pz.to_csv(tmp_dir+sheet+'_Measures.csv', index=False)\n",
    "ouv.to_csv(tmp_dir+sheet+'_Unkown-facility.csv', index=False)\n",
    "prv_eau.to_csv(tmp_dir+sheet+'_Samples-water.csv', index=False)\n",
    "\n",
    "\n",
    "source_mes_pz.to_csv(tmp_dir+'source_Measures.csv', index=False) #all lithologies or descriptions data in the source\n",
    "source_pz.to_csv(tmp_dir+'source_Piezometers.csv', index=False)\n",
    "source_prv_eau.to_csv(tmp_dir+'source_Samples-water.csv', index=False)\n",
    "source_ouv.to_csv(tmp_dir+'source_Unkown-facility.csv', index=False)\n",
    "\n",
    "print(f'source_bh:{len(source_bh)} ; source_pz:{len(source_pz)} ; source_litho:{len(source_litho)} ; '\n",
    "     f'source_Fac-uknw:{len(source_ouv)} ; source_prv_sol:{len(source_prv_sol)} ; source_prv_eau:{len(source_prv_eau)} ;\\n'\n",
    "     f'source_mes_pz:{len(source_mes_pz)} ; ')"
   ]
  },
  {
   "cell_type": "markdown",
   "id": "extended-collection",
   "metadata": {},
   "source": [
    "* **Sheet : 'DRAINS ET PIEZOS ENEL'**"
   ]
  },
  {
   "cell_type": "code",
   "execution_count": null,
   "id": "visible-rogers",
   "metadata": {},
   "outputs": [],
   "source": [
    "tmp_dir='../../CF_data/Result_traitem/database_Memoris3/'\n",
    "sheet='Drains_Pz_ENEL'"
   ]
  },
  {
   "cell_type": "code",
   "execution_count": null,
   "id": "sublime-thomson",
   "metadata": {},
   "outputs": [],
   "source": [
    "df = pd.read_excel('../../CF_data/Data_UMONS/Contamination/Doc_SITEREM/Rapport de synthèse des études de sol et des eaux souterraines. Siterem - 2017/Database MEMORIS3.xlsx', \n",
    "                        sheet_name='DRAINS ET PIEZOS ENEL', skiprows=1)\n",
    "\n",
    "df=na_line_drop(df,0)\n",
    "df=na_col_drop(df,1)\n",
    "df.replace(r'<|>','', inplace=True, regex=True)\n",
    "df.replace(r'-$',np.nan, inplace=True, regex=True)\n",
    "\n",
    "gdf_viewer(df)"
   ]
  },
  {
   "cell_type": "code",
   "execution_count": null,
   "id": "temporal-defendant",
   "metadata": {},
   "outputs": [],
   "source": [
    "df.rename(columns={'N°':'ID', 'Date ':'Date_prv','Hauteur de la chambre ':'Ht_Chbre','T':'Temp'}, inplace=True)\n",
    "\n",
    "df_tmp=df[df.columns.to_list()[:2]+df.columns.to_list()[10:-2]]\n",
    "df=df[df.columns.to_list()[:7]]"
   ]
  },
  {
   "cell_type": "code",
   "execution_count": null,
   "id": "acute-character",
   "metadata": {
    "scrolled": true
   },
   "outputs": [],
   "source": [
    "df.columns.to_list()[:12]"
   ]
  },
  {
   "cell_type": "code",
   "execution_count": null,
   "id": "strange-capability",
   "metadata": {},
   "outputs": [],
   "source": [
    "df=df[['ID', 'X', 'Y', 'Zsol', 'Ht_Chbre']][2:21]\n",
    "df.replace('-',np.nan, inplace=True)\n",
    "df.drop(index=[5], inplace=True)\n",
    "df.loc[:14,'Type']='Unknown'\n",
    "df.loc[15:,'Type']='Piezo'\n",
    "#df['Zsol']=df['Zsol'].apply(lambda x: x if not pd.isnull(x) else np.nan)"
   ]
  },
  {
   "cell_type": "code",
   "execution_count": null,
   "id": "temporal-emperor",
   "metadata": {},
   "outputs": [],
   "source": [
    "gdf_viewer(df, un_val='ID', rows=3)"
   ]
  },
  {
   "cell_type": "code",
   "execution_count": null,
   "id": "young-transfer",
   "metadata": {},
   "outputs": [],
   "source": [
    "pz=df.query(\"Type=='Piezo'\")\n",
    "ouv=df.query(\"Type!='Piezo'\")"
   ]
  },
  {
   "cell_type": "code",
   "execution_count": null,
   "id": "burning-lucas",
   "metadata": {},
   "outputs": [],
   "source": [
    "sdf=df_tmp.query('ID==ID').reset_index(drop=True)"
   ]
  },
  {
   "cell_type": "code",
   "execution_count": null,
   "id": "lyric-rating",
   "metadata": {
    "scrolled": true
   },
   "outputs": [],
   "source": [
    "df_tmp=pd.DataFrame()\n",
    "cols=[sdf.columns.to_list()[2]]+sdf.columns.to_list()[4:6]\n",
    "ID_mes=0\n",
    "d=['01/10/2013','01/11/2015','01/12/2016'] # 01/11/2015 added by me (according to data observation)\n",
    "\n",
    "for i in range(len(sdf)):\n",
    "    k=0\n",
    "    for j in cols:\n",
    "        #df_tmp.loc[ID_mes,'ID_mes']='Mes_'+str(ID_mes)\n",
    "        df_tmp.loc[ID_mes,'Date_mes']=dtm.date(int(d[k].split('/')[2]), int(d[k].split('/')[1]), \n",
    "                                                             int(d[k].split('/')[0]))\n",
    "        df_tmp.loc[ID_mes,'ID']=str(sdf.loc[i,'ID'])\n",
    "        df_tmp.loc[ID_mes,'Niv_eau_sol']=sdf.loc[i,j]\n",
    "                \n",
    "        if df_tmp.loc[ID_mes, 'Date_mes']==sdf.loc[i, 'Date_prv'] and \\\n",
    "        df_tmp.loc[ID_mes, 'ID']==sdf.loc[i, 'ID']:\n",
    "            df_tmp.loc[ID_mes, sdf.columns.to_list()[6:-1]]=sdf.iloc[i, 6:-1]\n",
    "        \n",
    "        ID_mes+=1\n",
    "        k+=1\n",
    "df_tmp.replace('-', np.nan, inplace=True)\n",
    "df_tmp=df_tmp.sort_values('Date_mes').reset_index(drop=True)\n",
    "df_tmp['ID_mes']=df_tmp['ID'].apply(lambda x: 'Mes_'+str(x))\n",
    "df_tmp.insert(0, 'ID_mes', df_tmp.pop('ID_mes'))"
   ]
  },
  {
   "cell_type": "code",
   "execution_count": null,
   "id": "atmospheric-fitness",
   "metadata": {
    "scrolled": true
   },
   "outputs": [],
   "source": [
    "df_tmp=na_line_drop(df_tmp, 3)"
   ]
  },
  {
   "cell_type": "code",
   "execution_count": null,
   "id": "foster-bracelet",
   "metadata": {},
   "outputs": [],
   "source": [
    "df_tmp['ID_mes']=df_tmp['ID'].apply(lambda x: 'Mes_'+x)\n",
    "df_tmp['CE']=df_tmp['CE'].apply(lambda x: pd.to_numeric(x)/1000 \n",
    "                                  if re.search('^\\d+', str(x)) and not pd.isnull(x) else np.nan)"
   ]
  },
  {
   "cell_type": "code",
   "execution_count": null,
   "id": "featured-invalid",
   "metadata": {},
   "outputs": [],
   "source": [
    "mes_pz=df_tmp[['ID_mes', 'Date_mes', 'ID', 'Niv_eau_sol', 'pH', 'CE', 'Temp', 'ORP','Odiss']]\n",
    "\n",
    "an=df_tmp[['ID','arsenic', 'cadmium', 'chrome', 'cobalt', 'cuivre', 'mercure',\n",
    "       'plomb', 'nickel', 'zinc', 'CN_libre', 'CN_totaux', 'CN_totaux.1',\n",
    "       'CN_totaux.2', 'thiocyanate', 'benzène', 'toluène', 'éthylbenzène',\n",
    "       'orthoxylène', 'para- et métaxylène', 'xylènes', 'BTEX total',\n",
    "       'styrène', 'Iph.', 'naphtalène', 'anthracène', 'phénanthrène',\n",
    "       'fluoranthène', 'benzo(a)anthracène', 'chrysène', 'benzo(a)pyrène',\n",
    "       'benzo(ghi)pérylène', 'benzo(k)fluoranthène', 'indéno(1,2,3-cd)pyrène',\n",
    "       '\\nC5-C8', 'C8-C10', 'C10-C12', 'C12-C16', ' C16 - C21', 'C21 - C35',\n",
    "       'C35 - C40', 'totaux C10-C35', 'C10-C12.1', 'C12-C22']]\n",
    "\n",
    "#another way to do this\n",
    "#an=df_tmp[df_tmp.columns.to_list()[1:3]+df_tmp.columns.to_list()[9:]]"
   ]
  },
  {
   "cell_type": "code",
   "execution_count": null,
   "id": "incident-claim",
   "metadata": {},
   "outputs": [],
   "source": [
    "mes_pz['Type_mes'] = 'Phys-chim' "
   ]
  },
  {
   "cell_type": "code",
   "execution_count": null,
   "id": "latest-rover",
   "metadata": {
    "scrolled": false
   },
   "outputs": [],
   "source": [
    "an=na_line_drop(an, 2)\n",
    "an.insert(1, 'Type_ech', 'Eau')\n",
    "an.rename(columns={'ID':'ID_ech'}, inplace=True)\n",
    "#an['Anl_ID']=an['ID'].apply(lambda x: 'Anl_'+str(x))\n",
    "#an.insert(an.columns.to_list().index('ID')+1, 'Type_ech', an.pop('Type_ech'))"
   ]
  },
  {
   "cell_type": "code",
   "execution_count": null,
   "id": "multiple-momentum",
   "metadata": {
    "scrolled": true
   },
   "outputs": [],
   "source": [
    "an=col_ren(an, name=pol_field_model, mode=1)"
   ]
  },
  {
   "cell_type": "code",
   "execution_count": null,
   "id": "suitable-reality",
   "metadata": {},
   "outputs": [],
   "source": [
    "an=dble_col_drop(an)"
   ]
  },
  {
   "cell_type": "code",
   "execution_count": null,
   "id": "metallic-setup",
   "metadata": {},
   "outputs": [],
   "source": [
    "gdf_viewer(source_mes_pz, rows=5)"
   ]
  },
  {
   "cell_type": "markdown",
   "id": "green-moderator",
   "metadata": {},
   "source": [
    "Data merging"
   ]
  },
  {
   "cell_type": "code",
   "execution_count": null,
   "id": "paperback-participant",
   "metadata": {
    "scrolled": true
   },
   "outputs": [],
   "source": [
    "source_pz, error_df=gdf_merger(source_pz, pz, 'outer', 'ID')"
   ]
  },
  {
   "cell_type": "code",
   "execution_count": null,
   "id": "indoor-visibility",
   "metadata": {
    "scrolled": true
   },
   "outputs": [],
   "source": [
    "source_mes_pz, error_df=gdf_merger(source_mes_pz, mes_pz, 'outer', 'ID_mes', fcol='ID_mes')"
   ]
  },
  {
   "cell_type": "code",
   "execution_count": null,
   "id": "coral-location",
   "metadata": {
    "scrolled": true
   },
   "outputs": [],
   "source": [
    "source_ouv, error_df=gdf_merger(source_ouv, ouv, 'outer', 'ID')"
   ]
  },
  {
   "cell_type": "code",
   "execution_count": null,
   "id": "worst-faculty",
   "metadata": {},
   "outputs": [],
   "source": [
    "source_an=an"
   ]
  },
  {
   "cell_type": "code",
   "execution_count": null,
   "id": "agreed-patient",
   "metadata": {},
   "outputs": [],
   "source": [
    "if not os.path.exists(tmp_dir):\n",
    "    os.makedirs(tmp_dir)\n",
    "\n",
    "#bh.to_csv(tmp_dir+'source_Boreholes.csv', index=False)\n",
    "#litho.to_csv(tmp_dir+sheet+'_Lithology.csv', index=False)\n",
    "pz.to_csv(tmp_dir+sheet+'_Piezometers.csv', index=False)\n",
    "mes_pz.to_csv(tmp_dir+sheet+'_Measures.csv', index=False)\n",
    "ouv.to_csv(tmp_dir+sheet+'_Unkown-facility.csv', index=False)\n",
    "#prv_eau.to_csv(tmp_dir+sheet+'_Samples-water.csv', index=False)\n",
    "an.to_csv(tmp_dir+sheet+'_Analysis.csv', index=False)\n",
    "\n",
    "\n",
    "source_mes_pz.to_csv(tmp_dir+'source_Measures.csv', index=False) \n",
    "source_pz.to_csv(tmp_dir+'source_Piezometers.csv', index=False)\n",
    "#source_prv_eau.to_csv(tmp_dir+'source_Samples-water.csv', index=False)\n",
    "source_ouv.to_csv(tmp_dir+'source_Unkown-facility.csv', index=False)\n",
    "source_an.to_csv(tmp_dir+'source_Analysis.csv', index=False)\n",
    "\n",
    "print(f'source_bh:{len(source_bh)} ; source_pz:{len(source_pz)} ; source_litho:{len(source_litho)} ; '\n",
    "     f'source_Fac-uknw:{len(source_ouv)} ; source_prv_sol:{len(source_prv_sol)} ; source_prv_eau:{len(source_prv_eau)} ;\\n'\n",
    "     f'source_mes_pz:{len(source_mes_pz)} ; source_an:{len(source_an)} ;')"
   ]
  },
  {
   "cell_type": "markdown",
   "id": "northern-fifteen",
   "metadata": {},
   "source": [
    "* **Sheet : 'RESULTS_EAU' (F)**"
   ]
  },
  {
   "cell_type": "code",
   "execution_count": null,
   "id": "working-turkish",
   "metadata": {},
   "outputs": [],
   "source": [
    "tmp_dir='../../CF_data/Result_traitem/database_Memoris3/'\n",
    "sheet='Result_eau'"
   ]
  },
  {
   "cell_type": "code",
   "execution_count": null,
   "id": "pressing-bidding",
   "metadata": {},
   "outputs": [],
   "source": [
    "df = pd.read_excel('../../CF_data/Data_UMONS/Contamination/Doc_SITEREM/Rapport de synthèse des études de sol et des eaux souterraines. Siterem - 2017/Database MEMORIS3.xlsx', \n",
    "                        sheet_name='RESULTS_EAU', skiprows=1)\n",
    "\n",
    "df.replace(r'<|>','', inplace=True, regex=True)\n",
    "df.replace(r'-$',np.nan, inplace=True, regex=True)\n",
    "\n",
    "gdf_viewer(df, rows=5)"
   ]
  },
  {
   "cell_type": "code",
   "execution_count": null,
   "id": "above-action",
   "metadata": {},
   "outputs": [],
   "source": [
    "df.drop(0, inplace=True)\n",
    "df.reset_index(drop=True, inplace=True)"
   ]
  },
  {
   "cell_type": "code",
   "execution_count": null,
   "id": "patent-lover",
   "metadata": {},
   "outputs": [],
   "source": [
    "df.rename(columns={'Campagne':'Societe','N_piezo.':'ID','Z tête PZ':'Z','Zsol':'Zsol', 'Prof_PZ':'Long_pz',\n",
    "                        'Section_crépinée':'Long_crep','Diamètre_int':'Diam_int_pz','Surnageant':'Surnageant',\n",
    "                        'Sousnageant':'Sousnageant','Description éch.':'Opacite_eau','Remarques':'Rmq',\n",
    "                        'Aquifère_échantillonné':'Nappe', 'Caractéristique':'Caractere'}, inplace=True)\n",
    "\n",
    "#df=df[['ID','X', 'Y', 'Z', 'Zsol', 'Long_pz', 'Long_crep', 'Diam_int_pz', 'Societe']]#[:130]\n",
    "df=df.query(\"ID ==ID\")\n",
    "df.replace('-',np.nan, inplace=True)"
   ]
  },
  {
   "cell_type": "code",
   "execution_count": null,
   "id": "thick-traffic",
   "metadata": {},
   "outputs": [],
   "source": [
    "# splitting\n",
    "sdf=df[[df.columns.to_list()[0]]+df.columns.to_list()[12:16]+df.columns.to_list()[21:26]]\n",
    "an=df[[df.columns.to_list()[0]]+df.columns.to_list()[26:]]\n",
    "prv_eau=df[df.columns.to_list()[:3]+df.columns.to_list()[16:21]+['Nappe']]\n",
    "df=df[df.columns.to_list()[:12]]"
   ]
  },
  {
   "cell_type": "code",
   "execution_count": null,
   "id": "medieval-attack",
   "metadata": {},
   "outputs": [],
   "source": [
    "df['Type']=df['Long_crep'].apply(lambda x: 'Piezo' if not pd.isnull(x) else 'Unknown')\n",
    "df.insert(8, 'Type', df.pop('Type'))\n",
    "df['Diam_int_pz'] = df['Diam_int_pz'].apply(lambda x: x*1000 if not pd.isnull(x) else x)"
   ]
  },
  {
   "cell_type": "code",
   "execution_count": null,
   "id": "interim-clearance",
   "metadata": {},
   "outputs": [],
   "source": [
    "pz=df.query(\"Type=='Piezo'\")\n",
    "ouv=df.query(\"Type!='Piezo'\")[['ID', 'Societe', 'Zone', 'Sous_zone', 'X', 'Y', 'Z', 'Type']]"
   ]
  },
  {
   "cell_type": "code",
   "execution_count": null,
   "id": "great-distribution",
   "metadata": {},
   "outputs": [],
   "source": [
    "prv_eau['Surnageant']=prv_eau['Surnageant'].apply(lambda x: x/100) # to express value in [m]\n",
    "prv_eau['Sousnageant']=prv_eau['Sousnageant'].apply(lambda x: x/100)"
   ]
  },
  {
   "cell_type": "code",
   "execution_count": null,
   "id": "competent-forward",
   "metadata": {
    "scrolled": true
   },
   "outputs": [],
   "source": [
    "df_tmp=pd.DataFrame()\n",
    "cols=sdf.columns.to_list()[5:]\n",
    "ID_mes=0\n",
    "d=['27/04/2010', '08/09/2010']\n",
    "\n",
    "for i in range(len(sdf)):\n",
    "    for k in [0,1]:\n",
    "        df_tmp.loc[ID_mes,'ID_mes']='Mes_'+str(ID_mes)\n",
    "        df_tmp.loc[ID_mes,'ID']=str(sdf.loc[i,'ID'])\n",
    "        \n",
    "        dt=d[k].split('/')\n",
    "        df_tmp.loc[ID_mes,'Date_mes']=dtm.date(int(dt[2]), int(dt[1]),int(dt[0]))\n",
    "        df_tmp.loc[ID_mes,'Niv_eau_pz']=sdf.iloc[i,k+1]\n",
    "        df_tmp.loc[ID_mes,'Niv_eau_sol']=sdf.iloc[i,k+3]\n",
    "        df_tmp.loc[ID_mes, cols]=list(sdf.loc[i,cols])\n",
    "        ID_mes+=1          \n",
    "        \n",
    "df_tmp.replace('-', np.nan, inplace=True)\n",
    "df_tmp=df_tmp.sort_values('Date_mes').reset_index(drop=True)\n",
    "df_tmp['ID_mes']=df_tmp['ID'].apply(lambda x: 'Mes_'+str(x))\n",
    "df_tmp.insert(0, 'ID_mes', df_tmp.pop('ID_mes'))"
   ]
  },
  {
   "cell_type": "code",
   "execution_count": null,
   "id": "broadband-inventory",
   "metadata": {},
   "outputs": [],
   "source": [
    "q=df_tmp.query('Niv_eau_pz.isnull() and Niv_eau_sol.isnull()').index\n",
    "df_tmp.drop(q, inplace=True)\n",
    "df_tmp['CE']=df_tmp['CE'].apply(lambda x: pd.to_numeric(x)/1000 \n",
    "                                  if re.search('^\\d+', str(x)) and not pd.isnull(x) else np.nan)\n",
    "mes_pz=df_tmp\n",
    "mes_pz['Type_mes'] = 'Phys-chim'"
   ]
  },
  {
   "cell_type": "code",
   "execution_count": null,
   "id": "treated-missouri",
   "metadata": {},
   "outputs": [],
   "source": [
    "source_mes_pz=source_mes_pz.sort_values('Date_mes').reset_index(drop=True)"
   ]
  },
  {
   "cell_type": "code",
   "execution_count": null,
   "id": "solved-handling",
   "metadata": {},
   "outputs": [],
   "source": [
    "gdf_viewer(mes_pz, rows=3), gdf_viewer(source_mes_pz, rows=3)"
   ]
  },
  {
   "cell_type": "code",
   "execution_count": null,
   "id": "split-hardwood",
   "metadata": {},
   "outputs": [],
   "source": [
    "gdf_viewer(source_mes_pz.merge(mes_pz, on='ID', how='outer').query(\"ID=='1'\"))#[['ID','Date_Mes']]))"
   ]
  },
  {
   "cell_type": "code",
   "execution_count": null,
   "id": "instructional-discussion",
   "metadata": {},
   "outputs": [],
   "source": [
    "gdf_viewer(gdf_merger(source_mes_pz, mes_pz, col='ID', how='outer')[0])"
   ]
  },
  {
   "cell_type": "code",
   "execution_count": null,
   "id": "vanilla-drove",
   "metadata": {},
   "outputs": [],
   "source": [
    "an=na_line_drop(an,col_n=3)"
   ]
  },
  {
   "cell_type": "code",
   "execution_count": null,
   "id": "modified-copying",
   "metadata": {},
   "outputs": [],
   "source": [
    "an=dble_col_drop(an)"
   ]
  },
  {
   "cell_type": "code",
   "execution_count": null,
   "id": "cardiovascular-tokyo",
   "metadata": {},
   "outputs": [],
   "source": [
    "an.insert(1, 'Type_ech', 'Eau')\n",
    "an.rename(columns={'ID':'ID_ech'}, inplace=True)\n",
    "#an['Anl_ID']=an['ID'].apply(lambda x: 'Anl_'+str(x))\n",
    "#an.insert(an.columns.to_list().index('ID')+1, 'Type_ech', 'Eau')"
   ]
  },
  {
   "cell_type": "code",
   "execution_count": null,
   "id": "reduced-joshua",
   "metadata": {},
   "outputs": [],
   "source": [
    "an=col_ren(an, name=pol_field_model, mode=1)"
   ]
  },
  {
   "cell_type": "markdown",
   "id": "first-northwest",
   "metadata": {},
   "source": [
    "data merging"
   ]
  },
  {
   "cell_type": "code",
   "execution_count": null,
   "id": "dangerous-circular",
   "metadata": {
    "scrolled": true
   },
   "outputs": [],
   "source": [
    "source_pz, error_df=gdf_merger(source_pz, pz, 'outer', 'ID')"
   ]
  },
  {
   "cell_type": "code",
   "execution_count": null,
   "id": "consolidated-buffer",
   "metadata": {},
   "outputs": [],
   "source": [
    "source_mes_pz, error_df=gdf_merger(source_mes_pz, mes_pz, 'outer', 'ID', fcol='ID_mes', )\n",
    "if len(error_df)>0 :gdf_viewer(error_df, rows=3)"
   ]
  },
  {
   "cell_type": "code",
   "execution_count": null,
   "id": "opening-superintendent",
   "metadata": {},
   "outputs": [],
   "source": [
    "gdf_viewer(source_mes_pz, rows=3)"
   ]
  },
  {
   "cell_type": "code",
   "execution_count": null,
   "id": "fresh-execution",
   "metadata": {},
   "outputs": [],
   "source": [
    "source_ouv, error_df=gdf_merger(source_ouv, ouv, 'outer', 'ID')\n",
    "if len(error_df)>0 :gdf_viewer(error_df, rows=3)"
   ]
  },
  {
   "cell_type": "code",
   "execution_count": null,
   "id": "respected-creator",
   "metadata": {},
   "outputs": [],
   "source": [
    "len(source_an.columns),len(set(source_an.columns))\n",
    "source_an.columns"
   ]
  },
  {
   "cell_type": "code",
   "execution_count": null,
   "id": "considerable-curve",
   "metadata": {},
   "outputs": [],
   "source": [
    "source_an, error_df=gdf_merger(source_an, an, 'outer', 'ID_ech')\n",
    "if len(error_df)>0 :gdf_viewer(error_df, rows=3)"
   ]
  },
  {
   "cell_type": "code",
   "execution_count": null,
   "id": "anticipated-surge",
   "metadata": {},
   "outputs": [],
   "source": [
    "gdf_viewer(source_an)"
   ]
  },
  {
   "cell_type": "code",
   "execution_count": null,
   "id": "funny-persian",
   "metadata": {},
   "outputs": [],
   "source": [
    "if not os.path.exists(tmp_dir):\n",
    "    os.makedirs(tmp_dir)\n",
    "\n",
    "#bh.to_csv(tmp_dir+'source_Boreholes.csv', index=False)\n",
    "#litho.to_csv(tmp_dir+sheet+'_Lithology.csv', index=False)\n",
    "pz.to_csv(tmp_dir+sheet+'_Piezometers.csv', index=False)\n",
    "mes_pz.to_csv(tmp_dir+sheet+'_Measures.csv', index=False)\n",
    "ouv.to_csv(tmp_dir+sheet+'_Unkown-facility.csv', index=False)\n",
    "prv_eau.to_csv(tmp_dir+sheet+'_Samples-water.csv', index=False)\n",
    "an.to_csv(tmp_dir+sheet+'_Analysis.csv', index=False)\n",
    "\n",
    "\n",
    "source_mes_pz.to_csv(tmp_dir+'source_Measures.csv', index=False) #all lithologies or descriptions data in the source\n",
    "source_pz.to_csv(tmp_dir+'source_Piezometers.csv', index=False)\n",
    "source_prv_eau.to_csv(tmp_dir+'source_Samples-water.csv', index=False)\n",
    "source_ouv.to_csv(tmp_dir+'source_Unkown-facility.csv', index=False)\n",
    "source_an.to_csv(tmp_dir+'source_Analysis.csv', index=False)\n",
    "#source_litho.to_csv(tmp_dir+'source_Lithology.csv', index=False)\n",
    "#source_bh.to_csv(tmp_dir+'source_Boreholes.csv', index=False)\n",
    "\n",
    "print(f'source_bh:{len(source_bh)} ; source_pz:{len(source_pz)} ; source_litho:{len(source_litho)} ; '\n",
    "     f'source_Fac-uknw:{len(source_ouv)} ; source_prv_sol:{len(source_prv_sol)} ; source_prv_eau:{len(source_prv_eau)} ;\\n'\n",
    "     f'source_mes_pz:{len(source_mes_pz)} ; source_an:{len(source_an)} ;')"
   ]
  },
  {
   "cell_type": "markdown",
   "id": "permanent-house",
   "metadata": {},
   "source": [
    "* **Sheet : 'RESULTS_SOL'**"
   ]
  },
  {
   "cell_type": "code",
   "execution_count": null,
   "id": "coordinated-rolling",
   "metadata": {},
   "outputs": [],
   "source": [
    "tmp_dir='../../CF_data/Result_traitem/database_Memoris3/'\n",
    "sheet='Result_sol'"
   ]
  },
  {
   "cell_type": "code",
   "execution_count": null,
   "id": "green-joyce",
   "metadata": {},
   "outputs": [],
   "source": [
    "df = pd.read_excel('../../CF_data/Data_UMONS/Contamination/Doc_SITEREM/Rapport de synthèse des études de sol et des eaux souterraines. Siterem - 2017/'\n",
    "                   'Database MEMORIS3.xlsx', sheet_name='RESULTS_SOL', skiprows=1)\n",
    "df=na_line_drop(df,0)\n",
    "df=na_col_drop(df,1)\n",
    "df.replace(r'<|>','', inplace=True, regex=True)\n",
    "df.replace(r'-$',np.nan, inplace=True, regex=True)\n",
    "\n",
    "gdf_viewer(df)"
   ]
  },
  {
   "cell_type": "code",
   "execution_count": null,
   "id": "amateur-payday",
   "metadata": {},
   "outputs": [],
   "source": [
    "df.rename(columns={'Unnamed: 92':'EOX', 'Unnamed: 93':'Idc_phenol','Campagne':'Societe','N_forage':'ID','refus':'Refus',\n",
    "                   'Prof.\\nforage':'Long', 'N_ech':'ID_ech', 'Min_Ech':'Ech_top','Max_Ech':'Ech_base',\n",
    "                  'Terrain':'Nappe','Epaisseur remblais':'Ep_remb', 'Epaisseur alluvions':'Ep_alluv', \n",
    "                   'Nature':'Polluant','Min_organo':'Pol_top', 'Max_organo':'Pol_base', 'Fraction   2000 µm':'Fract_2000µ',\n",
    "                   'Fraction   63 µm':'Fract_63µ', 'Fraction   45 µm':'Fract_45µ','Fraction   16 µm':'Fract_16µ',\n",
    "                   'Fraction   2 µm':'Fract_2µ'}, inplace=True)"
   ]
  },
  {
   "cell_type": "code",
   "execution_count": null,
   "id": "disturbed-trace",
   "metadata": {},
   "outputs": [],
   "source": [
    "df.drop(columns=[df.columns.to_list()[x] for x in range(len(df.columns))\n",
    "                      if re.search(r\"Unnamed\",df.columns.to_list()[x])], axis=1, inplace=True) \n",
    "df.replace(r'<|>','', inplace=True, regex=True)\n",
    "df=df.query('ID==ID')\n",
    "df['ID']=df['ID'].apply(lambda x : x.replace('Monito ', 'Mon') if re.findall('Monit', str(x)) else x)\n",
    "df['ID_ech']=df['ID_ech'].apply(lambda x : x.replace('Monito ', 'Mon') if re.findall('Monit', str(x)) else x)\n",
    "df.replace('-',np.nan, inplace=True)"
   ]
  },
  {
   "cell_type": "code",
   "execution_count": null,
   "id": "boolean-terrace",
   "metadata": {},
   "outputs": [],
   "source": [
    "for i in range(len(df['ID'])):\n",
    "    #r=re.search('(\\w+)/.+',str(df.loc[i, 'ID_ech']))\n",
    "    #if r : df.loc[i, 'ID']=r.group(1)\n",
    "    r=re.search('^\\d+',str(df.loc[i, 'ID']))\n",
    "    if r : df.loc[i, 'ID']='F'+str(df.loc[i, 'ID'])"
   ]
  },
  {
   "cell_type": "code",
   "execution_count": null,
   "id": "balanced-england",
   "metadata": {},
   "outputs": [],
   "source": [
    "sdf=df[['ID','X','Y','Z','Long','Description','Nappe','Ep_remb','Ep_alluv','Refus','Societe','Zone','Sous_zone']]\n",
    "sdf.insert(5, 'Type', '')\n",
    "\n",
    "prv_sol=df[['ID','ID_ech', 'Ech_top', 'Ech_base','Polluant','Intensité', 'Pol_top','Pol_base','MS','pH H2O',\n",
    "            'T° pH H2O', 'T° pH CaCl2','pH CaCl2','T° pH KCl','pH KCl','T° CE','CE','MO',\n",
    "       'Résidus chauffage', 'Argile ', 'Fract_2000µ','Fract_63µ','Fract_45µ','Fract_16µ','Fract_2µ']]\n",
    "#mes_sol=df[['ID','ID_ech','MS','pH H2O', 'T° pH H2O', 'T° pH CaCl2','pH CaCl2','T° pH KCl','pH KCl','T° CE','CE','MO',\n",
    "#       'Résidus chauffage', 'Argile ', 'Fract_2000','Fract_63','Fract_45','Fract_16','Fract_2']]\n",
    "prv_sol.insert(2, 'Type_ech', 'Sol')\n",
    "\n",
    "an=df[['ID','ID_ech','Arsenic','Cadmium','Chrome_total','Chrome_VI','Cobalt','Cuivre','Mercure','Plomb','Nickel','Zinc','Libres',\n",
    "       'Totaux', 'Non chloro destruct.', 'Thiocyantes', 'Cyanures totaux EPA','Benzène', 'Toluène', 'Ethylbenzène',\n",
    "       'o-Xylènes','mp-Xylènes','Xylènes','SOM BTEX','Styrène','Naphtalène','Anthracene','Phénanthrène',\n",
    "       'Fluoranthène', 'Benzoaanthracène', 'Chrysène','Benzo(a)pyrene','Benzo(ghi)pérylène','Benzo(k)fluoranthène',\n",
    "       'Indéno[123cd]pyrène', 'Acenaphtylene', 'Acenaphthene', 'Fluorène','Pyrène', 'Benzo_b_fluoranthene', \n",
    "       'Dibenzo[ah]anthracène','SOM VROM 10', 'SOM EPA 16', 'C5_C8', 'C8_C10', 'C10_C12', 'C12_C16','C16_C21', \n",
    "       'C21_C35', 'C35_C40', 'SOM_C5_C35', 'C21_C30', 'C30_C35','SOM C10_C40', 'EOX', 'Idc_phenol']]"
   ]
  },
  {
   "cell_type": "markdown",
   "id": "abandoned-patient",
   "metadata": {},
   "source": [
    "dfs processing"
   ]
  },
  {
   "cell_type": "code",
   "execution_count": null,
   "id": "champion-token",
   "metadata": {},
   "outputs": [],
   "source": [
    "sdf['Refus']=sdf['Refus'].apply(lambda x: 'x' if not pd.isnull(x) else '')"
   ]
  },
  {
   "cell_type": "code",
   "execution_count": null,
   "id": "fancy-ethics",
   "metadata": {},
   "outputs": [],
   "source": [
    "for i in range(len(sdf['Nappe'])):\n",
    "    x=sdf.loc[i,'Nappe']\n",
    "    if re.search('[R|r]em', str(x)) : sdf.loc[i,'Nappe']='Remblais'\n",
    "    elif re.search('[A|a]ll', str(x)) : sdf.loc[i,'Nappe']='Alluvions'\n",
    "    elif re.search('[S|s]oc', str(x)) : sdf.loc[i,'Nappe']='Socle'\n",
    "    elif re.search('[A|a]rg', str(x)) : sdf.loc[i,'Nappe']='Argile'\n",
    "    else : sdf.loc[i,'Nappe']=''"
   ]
  },
  {
   "cell_type": "code",
   "execution_count": null,
   "id": "civic-chemistry",
   "metadata": {},
   "outputs": [],
   "source": [
    "litho=sdf #lithologies and all facilities without distinction here (because type of facility not defined clearly !)"
   ]
  },
  {
   "cell_type": "code",
   "execution_count": null,
   "id": "manual-encyclopedia",
   "metadata": {
    "scrolled": true
   },
   "outputs": [],
   "source": [
    "prv_sol=na_line_drop(prv_sol, 3)"
   ]
  },
  {
   "cell_type": "code",
   "execution_count": null,
   "id": "supposed-evans",
   "metadata": {
    "scrolled": false
   },
   "outputs": [],
   "source": [
    "prv_sol=na_col_drop(prv_sol, non_na=5, verbose=False)"
   ]
  },
  {
   "cell_type": "code",
   "execution_count": null,
   "id": "interim-survey",
   "metadata": {},
   "outputs": [],
   "source": [
    "an.replace('#',np.nan, inplace=True)\n",
    "an=na_line_drop(an, 2)\n",
    "an.insert(1, 'Type_ech', 'Sol')\n",
    "#an['Anl_ID']=an['ID'].apply(lambda x: 'Anl_'+str(x))\n",
    "#an.insert(0, 'Anl_ID', an.pop('Anl_ID'))"
   ]
  },
  {
   "cell_type": "raw",
   "id": "union-right",
   "metadata": {},
   "source": [
    "an=na_col_drop(an, non_na=10, drop=False, verbose=True)"
   ]
  },
  {
   "cell_type": "markdown",
   "id": "impressed-clinton",
   "metadata": {},
   "source": [
    "data merging"
   ]
  },
  {
   "cell_type": "code",
   "execution_count": null,
   "id": "hearing-thong",
   "metadata": {},
   "outputs": [],
   "source": [
    "#source_mes_sol=mes_sol\n",
    "source_prv_sol=prv_sol"
   ]
  },
  {
   "cell_type": "code",
   "execution_count": null,
   "id": "lyric-nitrogen",
   "metadata": {},
   "outputs": [],
   "source": [
    "source_litho, error_df=gdf_merger(source_litho, litho, 'outer', 'ID', )"
   ]
  },
  {
   "cell_type": "code",
   "execution_count": null,
   "id": "ahead-avatar",
   "metadata": {},
   "outputs": [],
   "source": [
    "source_an, error_df=gdf_merger(source_an, an, 'outer', 'ID_ech', ) "
   ]
  },
  {
   "cell_type": "code",
   "execution_count": null,
   "id": "boring-discovery",
   "metadata": {},
   "outputs": [],
   "source": [
    "gdf_viewer(prv_sol, un_val='ID', rows=3), gdf_viewer(an, un_val='ID', rows=3) "
   ]
  },
  {
   "cell_type": "code",
   "execution_count": null,
   "id": "administrative-mobile",
   "metadata": {},
   "outputs": [],
   "source": [
    "if not os.path.exists(tmp_dir):\n",
    "    os.makedirs(tmp_dir)\n",
    "\n",
    "#bh.to_csv(tmp_dir+'source_Boreholes.csv', index=False)\n",
    "litho.to_csv(tmp_dir+sheet+'_Lithology.csv', index=False)\n",
    "pz.to_csv(tmp_dir+sheet+'_Piezometers.csv', index=False)\n",
    "mes_pz.to_csv(tmp_dir+sheet+'_Measures.csv', index=False)\n",
    "#mes_sol.to_csv(tmp_dir+sheet+'_Measures-soil.csv', index=False)\n",
    "ouv.to_csv(tmp_dir+sheet+'_Unkown-facility.csv', index=False)\n",
    "prv_eau.to_csv(tmp_dir+sheet+'_Samples-water.csv', index=False)\n",
    "prv_sol.to_csv(tmp_dir+sheet+'_Samples-soil.csv', index=False)\n",
    "an.to_csv(tmp_dir+sheet+'_Analysis.csv', index=False)\n",
    "\n",
    "\n",
    "source_mes_pz.to_csv(tmp_dir+'source_Measures.csv', index=False)\n",
    "#source_mes_sol.to_csv(tmp_dir+'source_Measures-soil.csv', index=False)\n",
    "source_pz.to_csv(tmp_dir+'source_Piezometers.csv', index=False)\n",
    "source_prv_eau.to_csv(tmp_dir+'source_Samples-water.csv', index=False)\n",
    "source_prv_sol.to_csv(tmp_dir+'source_Samples-soil.csv', index=False)\n",
    "source_ouv.to_csv(tmp_dir+'source_Unkown-facility.csv', index=False)\n",
    "source_an.to_csv(tmp_dir+'source_Analysis.csv', index=False)\n",
    "source_litho.to_csv(tmp_dir+'source_Lithology.csv', index=False)\n",
    "#source_bh.to_csv(tmp_dir+'source_Boreholes.csv', index=False)\n",
    "\n",
    "print(f'source_bh:{len(source_bh)} ; source_pz:{len(source_pz)} ; source_litho:{len(source_litho)} ; '\n",
    "     f'source_Fac-uknw:{len(source_ouv)} ; source_an:{len(source_an)} ;\\nsource_prv_sol:{len(source_prv_sol)} ;'\n",
    "     f'source_prv_eau:{len(source_prv_eau)} ; source_mes_pz:{len(source_mes_pz)} ; source_mes_sol:{len(source_mes_sol)} ;')"
   ]
  },
  {
   "cell_type": "markdown",
   "id": "conceptual-sauce",
   "metadata": {},
   "source": [
    "--------------------------------------------------------------------------------------------------------"
   ]
  },
  {
   "cell_type": "markdown",
   "id": "informed-rwanda",
   "metadata": {},
   "source": [
    "## 3-obsrevations terrain et mesures piézos phase 2.xlsx\n",
    "\n",
    "* **Sheet : 'Piézométrie'**"
   ]
  },
  {
   "cell_type": "code",
   "execution_count": 35,
   "id": "intimate-inventory",
   "metadata": {},
   "outputs": [],
   "source": [
    "# New file, so the source variables must be overwritten !!\n",
    "_df=pd.DataFrame()\n",
    "source_mes_pz, source_mes_sol, source_pz, source_prv_eau, source_prv_sol =  _df, _df, _df, _df, _df\n",
    "source_ouv, source_an, source_litho, source_bh = _df, _df, _df, _df"
   ]
  },
  {
   "cell_type": "code",
   "execution_count": 36,
   "id": "variable-remains",
   "metadata": {},
   "outputs": [],
   "source": [
    "tmp_dir='../../CF_data/Result_traitem/observ_terrain/'\n",
    "sheet='Piezometrie'"
   ]
  },
  {
   "cell_type": "code",
   "execution_count": 37,
   "id": "black-thinking",
   "metadata": {},
   "outputs": [
    {
     "name": "stdout",
     "output_type": "stream",
     "text": [
      "18 NaN lines dropped\n",
      "\n",
      "Columns dropped :['Unnamed: 3', 'Unnamed: 4', 'Unnamed: 5', 'Unnamed: 6', 'Unnamed: 23', 'Unnamed: 24', 'Unnamed: 25', 'Unnamed: 26']\n",
      "\n",
      "Rows : 31, columns : 19\n"
     ]
    },
    {
     "name": "stderr",
     "output_type": "stream",
     "text": [
      "/home/yanathan/.local/share/virtualenvs/GSDMA-DRfwm83x/lib/python3.8/site-packages/pandas/core/frame.py:4305: SettingWithCopyWarning: \n",
      "A value is trying to be set on a copy of a slice from a DataFrame\n",
      "\n",
      "See the caveats in the documentation: https://pandas.pydata.org/pandas-docs/stable/user_guide/indexing.html#returning-a-view-versus-a-copy\n",
      "  return super().drop(\n"
     ]
    },
    {
     "data": {
      "application/vnd.jupyter.widget-view+json": {
       "model_id": "3007673f9d9d4c219c646acf4e4125de",
       "version_major": 2,
       "version_minor": 0
      },
      "text/plain": [
       "interactive(children=(IntSlider(value=10, description='rows', max=31, min=10, readout=False), IntSlider(value=…"
      ]
     },
     "metadata": {},
     "output_type": "display_data"
    }
   ],
   "source": [
    "df = pd.read_excel('../../CF_data/Data_UMONS/Contamination/Résultats et mesures Siterem/résultats phase 2/'\n",
    "                   'obsrevations terrain et mesures piézos phase 2.xlsx', sheet_name='Piézométrie', skiprows=1)\n",
    "df=na_line_drop(df,0)\n",
    "df=na_col_drop(df,1)\n",
    "df.replace(r'<|>','', inplace=True, regex=True)\n",
    "df.replace(r'-$',np.nan, inplace=True, regex=True)\n",
    "\n",
    "gdf_viewer(df)"
   ]
  },
  {
   "cell_type": "code",
   "execution_count": 38,
   "id": "worth-sacrifice",
   "metadata": {},
   "outputs": [
    {
     "name": "stdout",
     "output_type": "stream",
     "text": [
      "9 NaN lines dropped\n"
     ]
    },
    {
     "name": "stderr",
     "output_type": "stream",
     "text": [
      "/home/yanathan/Projects/GSDMA/utils/io.py:1021: SettingWithCopyWarning: \n",
      "A value is trying to be set on a copy of a slice from a DataFrame.\n",
      "Try using .loc[row_indexer,col_indexer] = value instead\n",
      "\n",
      "See the caveats in the documentation: https://pandas.pydata.org/pandas-docs/stable/user_guide/indexing.html#returning-a-view-versus-a-copy\n",
      "  data['line_na'] = False\n",
      "/home/yanathan/.local/share/virtualenvs/GSDMA-DRfwm83x/lib/python3.8/site-packages/pandas/core/indexing.py:1720: SettingWithCopyWarning: \n",
      "A value is trying to be set on a copy of a slice from a DataFrame.\n",
      "Try using .loc[row_indexer,col_indexer] = value instead\n",
      "\n",
      "See the caveats in the documentation: https://pandas.pydata.org/pandas-docs/stable/user_guide/indexing.html#returning-a-view-versus-a-copy\n",
      "  self._setitem_single_column(loc, value, pi)\n",
      "/home/yanathan/.local/share/virtualenvs/GSDMA-DRfwm83x/lib/python3.8/site-packages/pandas/core/frame.py:4305: SettingWithCopyWarning: \n",
      "A value is trying to be set on a copy of a slice from a DataFrame\n",
      "\n",
      "See the caveats in the documentation: https://pandas.pydata.org/pandas-docs/stable/user_guide/indexing.html#returning-a-view-versus-a-copy\n",
      "  return super().drop(\n"
     ]
    }
   ],
   "source": [
    "sdf=df[df.columns.to_list()[:3]]\n",
    "sdf=na_line_drop(sdf,0)\n",
    "sdf.rename(columns={'Niveau \\npiézométrique':'Niv_eau_sol', 'Commentaires ':'Date_prv'}, inplace=True)"
   ]
  },
  {
   "cell_type": "code",
   "execution_count": 39,
   "id": "recovered-vault",
   "metadata": {},
   "outputs": [],
   "source": [
    "sdf2=df.loc[:11, df.columns.to_list()[3:-1]]\n",
    "sdf2.rename(columns={'Unnamed: 7':'Date_prv', 'Unnamed: 8':'Nappe', 'Unnamed: 9':'ID', 'NP/piézo [m]':'Niv_eau_pz',\n",
    "       'dim. piezo hors sol [m]':'Dim_pz_sol', 'NP/sol [m]':'Niv_eau_sol', 'Prof. piézo/piézo [m]':'Long_pz',\n",
    "       'Prof. piézo/sol [m]':'Long_pz_sol', 'CE [mS/cm]':'CE','t° [°C]':'Temp','O2 dissous\\n[%]':'O_diss', \n",
    "        'Observations':'Rmq'}, \n",
    "           inplace=True)"
   ]
  },
  {
   "cell_type": "code",
   "execution_count": 40,
   "id": "disturbed-mediterranean",
   "metadata": {},
   "outputs": [],
   "source": [
    "for i in range(len(sdf2['ID'])):\n",
    "    sdf2.loc[i,'ID']=re.sub(r'^P','F', sdf2.loc[i,'ID'])\n",
    "    \n",
    "    if pd.isnull(sdf2.loc[i,'CE']) and not pd.isnull(sdf2.loc[i,'CE [µS/cm]']):\n",
    "        sdf2.loc[i,'CE']=sdf2.loc[i,'CE [µS/cm]']/1000\n",
    "\n",
    "sdf2.drop(['CE [µS/cm]'], axis=1, inplace=True)"
   ]
  },
  {
   "cell_type": "code",
   "execution_count": 41,
   "id": "internal-astrology",
   "metadata": {},
   "outputs": [],
   "source": [
    "df=df.loc[14:, df.columns.to_list()[3:-1]]\n",
    "df.rename(columns={'Unnamed: 7':'Date_prv', 'Unnamed: 8':'Nappe', 'Unnamed: 9':'ID', 'NP/piézo [m]':'Niv_eau_pz',\n",
    "       'dim. piezo hors sol [m]':'Dim_pz_sol', 'NP/sol [m]':'Niv_eau_sol', 'Prof. piézo/piézo [m]':'Long_pz',\n",
    "       'Prof. piézo/sol [m]':'Long_pz_sol', 'CE [mS/cm]':'CE','t° [°C]':'Temp','O2 dissous\\n[%]':'O_diss', \n",
    "        'Observations':'Rmq'}, \n",
    "           inplace=True)\n",
    "df.drop([19,20], inplace=True)\n",
    "df.reset_index(drop=True, inplace=True)"
   ]
  },
  {
   "cell_type": "code",
   "execution_count": 42,
   "id": "hollywood-disorder",
   "metadata": {
    "scrolled": true
   },
   "outputs": [
    {
     "data": {
      "text/plain": [
       "0      P2Msup\n",
       "1      P4Msup\n",
       "2     P12Msup\n",
       "3        P537\n",
       "4         P99\n",
       "5        P18c\n",
       "6         P19\n",
       "7         P20\n",
       "8         P21\n",
       "9         P22\n",
       "10        P23\n",
       "11       P24b\n",
       "12        P25\n",
       "13        P26\n",
       "14       P27d\n",
       "Name: ID, dtype: object"
      ]
     },
     "execution_count": 42,
     "metadata": {},
     "output_type": "execute_result"
    }
   ],
   "source": [
    "df['ID']"
   ]
  },
  {
   "cell_type": "code",
   "execution_count": 43,
   "id": "received-jersey",
   "metadata": {},
   "outputs": [],
   "source": [
    "for i in range(len(df['ID'])):\n",
    "    df.loc[i,'ID']=re.sub(r'^P','F', df.loc[i,'ID'])\n",
    "    \n",
    "    if pd.isnull(df.loc[i,'CE']) and not pd.isnull(df.loc[i,'CE [µS/cm]']):\n",
    "        df.loc[i,'CE']=df.loc[i,'CE [µS/cm]']/1000\n",
    "        \n",
    "df.drop(['CE [µS/cm]', 'O_diss'], axis=1, inplace=True)"
   ]
  },
  {
   "cell_type": "code",
   "execution_count": 44,
   "id": "every-routine",
   "metadata": {},
   "outputs": [
    {
     "name": "stdout",
     "output_type": "stream",
     "text": [
      "\n",
      "Columns dropped :['ORP', 'O_diss']\n",
      "\n"
     ]
    }
   ],
   "source": [
    "df=na_col_drop(df, 5)\n",
    "sdf2=na_col_drop(sdf2, 5,)"
   ]
  },
  {
   "cell_type": "raw",
   "id": "undefined-suspect",
   "metadata": {},
   "source": [
    "gdf_viewer(sdf2, rows=5), gdf_viewer(df, rows=5)"
   ]
  },
  {
   "cell_type": "code",
   "execution_count": 45,
   "id": "configured-cause",
   "metadata": {},
   "outputs": [],
   "source": [
    "prv_eau, error_df=gdf_merger(sdf2, df, how='outer', col='ID', fcol='ID')"
   ]
  },
  {
   "cell_type": "code",
   "execution_count": 46,
   "id": "confident-technique",
   "metadata": {},
   "outputs": [
    {
     "name": "stdout",
     "output_type": "stream",
     "text": [
      "Rows : 27, columns : 13, Unique col 'ID': 27\n"
     ]
    },
    {
     "data": {
      "application/vnd.jupyter.widget-view+json": {
       "model_id": "3f6765206d72497d8075b7deb2cb15cb",
       "version_major": 2,
       "version_minor": 0
      },
      "text/plain": [
       "interactive(children=(IntSlider(value=5, description='rows', max=27, min=5, readout=False), IntSlider(value=12…"
      ]
     },
     "metadata": {},
     "output_type": "display_data"
    }
   ],
   "source": [
    "gdf_viewer(prv_eau, rows=5, un_val='ID')"
   ]
  },
  {
   "cell_type": "code",
   "execution_count": 47,
   "id": "agricultural-moderator",
   "metadata": {},
   "outputs": [],
   "source": [
    "prv_eau=prv_eau[['ID','Date_prv','Long_pz', 'Long_pz_sol','Dim_pz_sol','Nappe','Niv_eau_sol', 'Niv_eau_pz',\n",
    "                 'pH', 'Temp', 'CE', 'ORP','Rmq']]\n",
    "prv_eau.insert(1,'Type_ech','Eau')\n",
    "\n",
    "source_prv_eau=prv_eau"
   ]
  },
  {
   "cell_type": "code",
   "execution_count": 48,
   "id": "alleged-collection",
   "metadata": {},
   "outputs": [
    {
     "name": "stdout",
     "output_type": "stream",
     "text": [
      "source_bh:0 ; source_pz:0 ; source_litho:0 ; source_Fac-uknw:0 ; source_an:0 ;\n",
      "source_prv_sol:0 ;source_prv_eau:27 ; source_mes_pz:0 ; source_mes_sol:0 ;\n"
     ]
    }
   ],
   "source": [
    "if not os.path.exists(tmp_dir):\n",
    "    os.makedirs(tmp_dir)\n",
    "\n",
    "prv_eau.to_csv(tmp_dir+sheet+'_Samples-water.csv', index=False)\n",
    "\n",
    "source_prv_eau.to_csv(tmp_dir+'source_Samples-water.csv', index=False)\n",
    "\n",
    "print(f'source_bh:{len(source_bh)} ; source_pz:{len(source_pz)} ; source_litho:{len(source_litho)} ; '\n",
    "     f'source_Fac-uknw:{len(source_ouv)} ; source_an:{len(source_an)} ;\\nsource_prv_sol:{len(source_prv_sol)} ;'\n",
    "     f'source_prv_eau:{len(source_prv_eau)} ; source_mes_pz:{len(source_mes_pz)} ; source_mes_sol:{len(source_mes_sol)} ;')"
   ]
  },
  {
   "cell_type": "markdown",
   "id": "realistic-healthcare",
   "metadata": {},
   "source": [
    "--------------------------------------------------------------------------------------------------------"
   ]
  },
  {
   "cell_type": "markdown",
   "id": "breeding-siemens",
   "metadata": {},
   "source": [
    "## 4-profondeur de contact campagne de forages octobre 2019.xlsx\n",
    "\n",
    "* **Sheet : 'Feuil1'**"
   ]
  },
  {
   "cell_type": "code",
   "execution_count": 49,
   "id": "placed-cologne",
   "metadata": {},
   "outputs": [],
   "source": [
    "# New file, so the source variables must be overwritten !!\n",
    "_df=pd.DataFrame()\n",
    "source_mes_pz, source_mes_sol, source_pz, source_prv_eau, source_prv_sol =  _df, _df, _df, _df, _df\n",
    "source_ouv, source_an, source_litho, source_bh = _df, _df, _df, _df"
   ]
  },
  {
   "cell_type": "code",
   "execution_count": 50,
   "id": "patient-corner",
   "metadata": {},
   "outputs": [],
   "source": [
    "tmp_dir='../../CF_data/Result_traitem/Prof_contact_sol_forage/'\n",
    "sheet='Feuil1'"
   ]
  },
  {
   "cell_type": "code",
   "execution_count": 51,
   "id": "instant-carolina",
   "metadata": {},
   "outputs": [
    {
     "name": "stdout",
     "output_type": "stream",
     "text": [
      "2 NaN lines dropped\n",
      "Rows : 8, columns : 5\n"
     ]
    },
    {
     "name": "stderr",
     "output_type": "stream",
     "text": [
      "/home/yanathan/.local/share/virtualenvs/GSDMA-DRfwm83x/lib/python3.8/site-packages/pandas/core/frame.py:4305: SettingWithCopyWarning: \n",
      "A value is trying to be set on a copy of a slice from a DataFrame\n",
      "\n",
      "See the caveats in the documentation: https://pandas.pydata.org/pandas-docs/stable/user_guide/indexing.html#returning-a-view-versus-a-copy\n",
      "  return super().drop(\n"
     ]
    },
    {
     "data": {
      "application/vnd.jupyter.widget-view+json": {
       "model_id": "f678275ba2d34c72aa52663a68f66b05",
       "version_major": 2,
       "version_minor": 0
      },
      "text/plain": [
       "interactive(children=(IntSlider(value=8, description='rows', max=8, min=8, readout=False), IntSlider(value=5, …"
      ]
     },
     "metadata": {},
     "output_type": "display_data"
    }
   ],
   "source": [
    "df = pd.read_excel('../../CF_data/Data_UMONS/ouvrages/profondeur de contact campagne de forages octobre 2019.xlsx', \n",
    "                   sheet_name='Feuil1', skiprows=2)\n",
    "df=na_line_drop(df,0)\n",
    "df=na_col_drop(df,1)\n",
    "df.replace(r'<|>','', inplace=True, regex=True)\n",
    "df.replace(r'-$',np.nan, inplace=True, regex=True)\n",
    "\n",
    "gdf_viewer(df)"
   ]
  },
  {
   "cell_type": "code",
   "execution_count": 52,
   "id": "early-wrong",
   "metadata": {},
   "outputs": [],
   "source": [
    "df.rename(columns={'n°forage ':'ID','profondeur(m)':'Long_for','x':'X', 'y':'Y', 'z':'Z'}, inplace=True)\n",
    "df['Type']='Forage' # type is not defined clearly in data\n",
    "df['ID']=df['ID'].apply(lambda x: 'F'+str(x).replace('.0',''))\n",
    "\n",
    "bh=df"
   ]
  },
  {
   "cell_type": "code",
   "execution_count": 53,
   "id": "exempt-weight",
   "metadata": {},
   "outputs": [],
   "source": [
    "source_bh=bh"
   ]
  },
  {
   "cell_type": "code",
   "execution_count": 54,
   "id": "severe-token",
   "metadata": {},
   "outputs": [
    {
     "name": "stdout",
     "output_type": "stream",
     "text": [
      "source_bh:8 ; source_pz:0 ; source_litho:0 ; source_Fac-uknw:0 ; source_an:0 ;\n",
      "source_prv_sol:0 ;source_prv_eau:0 ; source_mes_pz:0 ; source_mes_sol:0 ;\n"
     ]
    }
   ],
   "source": [
    "if not os.path.exists(tmp_dir):\n",
    "    os.makedirs(tmp_dir)\n",
    "\n",
    "bh.to_csv(tmp_dir+sheet+'_Boreholes.csv', index=False)\n",
    "source_bh.to_csv(tmp_dir+'source_Boreholes.csv', index=False)\n",
    "\n",
    "print(f'source_bh:{len(source_bh)} ; source_pz:{len(source_pz)} ; source_litho:{len(source_litho)} ; '\n",
    "     f'source_Fac-uknw:{len(source_ouv)} ; source_an:{len(source_an)} ;\\nsource_prv_sol:{len(source_prv_sol)} ;'\n",
    "     f'source_prv_eau:{len(source_prv_eau)} ; source_mes_pz:{len(source_mes_pz)} ; source_mes_sol:{len(source_mes_sol)} ;')"
   ]
  },
  {
   "cell_type": "markdown",
   "id": "municipal-restriction",
   "metadata": {},
   "source": [
    "--------------------------------------------------------------------------------------------------------"
   ]
  },
  {
   "cell_type": "markdown",
   "id": "dedicated-houston",
   "metadata": {},
   "source": [
    "## 5-Forages_Pilote_Decoupe.xlsx\n",
    "\n",
    "* **Sheet : 'leve'**"
   ]
  },
  {
   "cell_type": "code",
   "execution_count": 55,
   "id": "complicated-speaker",
   "metadata": {},
   "outputs": [],
   "source": [
    "# New file, so the source variables must be overwritten !!\n",
    "_df=pd.DataFrame()\n",
    "source_mes_pz, source_mes_sol, source_pz, source_prv_eau, source_prv_sol =  _df, _df, _df, _df, _df\n",
    "source_ouv, source_an, source_litho, source_bh = _df, _df, _df, _df"
   ]
  },
  {
   "cell_type": "code",
   "execution_count": 56,
   "id": "hourly-lewis",
   "metadata": {},
   "outputs": [],
   "source": [
    "tmp_dir='../../CF_data/Result_traitem/Forage_Pilote/'\n",
    "sheet='leve_Z_elect_pos'"
   ]
  },
  {
   "cell_type": "code",
   "execution_count": 57,
   "id": "approved-situation",
   "metadata": {},
   "outputs": [
    {
     "name": "stdout",
     "output_type": "stream",
     "text": [
      "\n",
      "Columns dropped :['Unnamed: 10']\n",
      "\n",
      "Rows : 72, columns : 11\n"
     ]
    },
    {
     "data": {
      "application/vnd.jupyter.widget-view+json": {
       "model_id": "5fec8e35df5040c895174185ff2ff9b6",
       "version_major": 2,
       "version_minor": 0
      },
      "text/plain": [
       "interactive(children=(IntSlider(value=5, description='rows', max=72, min=5, readout=False), IntSlider(value=11…"
      ]
     },
     "metadata": {},
     "output_type": "display_data"
    }
   ],
   "source": [
    "df = pd.read_excel('../../CF_data/Data_UMONS/geometrie_electrodes_et_sondes/Forages_Pilote_Decoupe.xlsx', \n",
    "                   sheet_name='leve')#, skiprows=0)\n",
    "df=na_line_drop(df,0)\n",
    "df=na_col_drop(df,1)\n",
    "df.replace(r'<|>','', inplace=True, regex=True)\n",
    "df.replace(r'-$',np.nan, inplace=True, regex=True)\n",
    "\n",
    "gdf_viewer(df, rows=5)"
   ]
  },
  {
   "cell_type": "code",
   "execution_count": 58,
   "id": "beneficial-mainstream",
   "metadata": {},
   "outputs": [
    {
     "data": {
      "text/plain": [
       "Index(['Ref_puits', 'Niveau mesuré', 'Niveau corrigé', 'Bouteille',\n",
       "       'decoupage [m]', 'Z_diff [m] repere_local', 'long_fin [m]',\n",
       "       'Pos_Inox_#1 [m]', 'Pos_Inox_#6 [m]', 'Pos_Impol_#3 [m]',\n",
       "       'Unnamed: 11'],\n",
       "      dtype='object')"
      ]
     },
     "execution_count": 58,
     "metadata": {},
     "output_type": "execute_result"
    }
   ],
   "source": [
    "df.columns"
   ]
  },
  {
   "cell_type": "code",
   "execution_count": 59,
   "id": "studied-given",
   "metadata": {},
   "outputs": [],
   "source": [
    "df.rename(columns={'Ref_puits':'ID','Niveau mesuré':'Z_mes', 'Niveau corrigé':'Z','Z_diff [m] repere_local':'Diff_Z_local',\n",
    "                   'long_fin [m]':'Long_for','Pos_Inox_#1 [m]':'Pos_Inox_#1', \n",
    "                   'Pos_Inox_#6 [m]':'Pos_Inox_#6', 'Pos_Impol_#3 [m]':'Pos_Impol_#3'}, inplace=True)"
   ]
  },
  {
   "cell_type": "code",
   "execution_count": 60,
   "id": "coated-formation",
   "metadata": {},
   "outputs": [],
   "source": [
    "df['Type']='Forage' # type is not defined clearly in data\n",
    "df['ID']=df['ID'].apply(lambda x: 'F'+str(x).replace('.0',''))\n",
    "\n",
    "elc = df[['ID','Pos_Inox_#6', 'Pos_Impol_#3']] # 'ID' is for boreholes\n",
    "bh = df[['ID','Z','Diff_Z_local','Long_for', 'Type']]# Z_local origin = 145.5 [m]"
   ]
  },
  {
   "cell_type": "code",
   "execution_count": 61,
   "id": "phantom-accessory",
   "metadata": {},
   "outputs": [],
   "source": [
    "source_bh = bh\n",
    "source_elc = elc"
   ]
  },
  {
   "cell_type": "code",
   "execution_count": 62,
   "id": "other-technology",
   "metadata": {},
   "outputs": [
    {
     "name": "stdout",
     "output_type": "stream",
     "text": [
      "source_bh:72 ; source_pz:0 ; source_litho:0 ; source_Fac-uknw:0 ; source_an:0 ;\n",
      "source_prv_sol:0 ;source_prv_eau:0 ; source_mes_pz:0 ; source_mes_sol:0 ;\n"
     ]
    }
   ],
   "source": [
    "if not os.path.exists(tmp_dir):\n",
    "    os.makedirs(tmp_dir)\n",
    "\n",
    "bh.to_csv(tmp_dir+sheet+'_Boreholes.csv', index=False)\n",
    "elc.to_csv(tmp_dir+sheet+'_Electrodes.csv', index=False)\n",
    "\n",
    "source_bh.to_csv(tmp_dir+'source_Boreholes.csv', index=False)\n",
    "source_elc.to_csv(tmp_dir+'source_Electrodes.csv', index=False)\n",
    "\n",
    "print(f'source_bh:{len(source_bh)} ; source_pz:{len(source_pz)} ; source_litho:{len(source_litho)} ; '\n",
    "     f'source_Fac-uknw:{len(source_ouv)} ; source_an:{len(source_an)} ;\\nsource_prv_sol:{len(source_prv_sol)} ;'\n",
    "     f'source_prv_eau:{len(source_prv_eau)} ; source_mes_pz:{len(source_mes_pz)} ; source_mes_sol:{len(source_mes_sol)} ;')"
   ]
  },
  {
   "cell_type": "markdown",
   "id": "developing-palmer",
   "metadata": {},
   "source": [
    "--------------------------------------------------------------------------------------------------------"
   ]
  },
  {
   "cell_type": "markdown",
   "id": "imperial-belize",
   "metadata": {},
   "source": [
    "## 6-Liste XY investigations.xlsx\n",
    "* **Sheet : 'SOL_EAU'**"
   ]
  },
  {
   "cell_type": "code",
   "execution_count": 63,
   "id": "awful-configuration",
   "metadata": {},
   "outputs": [],
   "source": [
    "# New file, so the source variables must be overwritten !!\n",
    "_df=pd.DataFrame()\n",
    "source_mes_pz, source_mes_sol, source_pz, source_prv_eau, source_prv_sol =  _df, _df, _df, _df, _df\n",
    "source_ouv, source_an, source_litho, source_bh = _df, _df, _df, _df"
   ]
  },
  {
   "cell_type": "code",
   "execution_count": 64,
   "id": "rental-trustee",
   "metadata": {},
   "outputs": [],
   "source": [
    "tmp_dir='../../CF_data/Result_traitem/Liste_XY/'\n",
    "sheet='Sol_Eau'"
   ]
  },
  {
   "cell_type": "code",
   "execution_count": 65,
   "id": "operating-developer",
   "metadata": {},
   "outputs": [],
   "source": [
    "df = pd.read_excel('../../CF_data/Data_UMONS/Contamination/Doc_SITEREM/Etude de caracterisation. SITEREM - 2011/Documents '\n",
    "                   'supplémentaires/Liste XY investigations.xlsx', sheet_name='SOL')#, skiprows=4)\n",
    "df['Type_ech']='Sol'\n",
    "\n",
    "df1 = pd.read_excel('../../CF_data/Data_UMONS/Contamination/Doc_SITEREM/Etude de caracterisation. SITEREM - 2011/Documents '\n",
    "                   'supplémentaires/Liste XY investigations.xlsx', sheet_name='EAU PR')#, skiprows=4)\n",
    "df1['Type_ech']='Eau'\n",
    "df1['Nappe']='Socle'\n",
    "\n",
    "df2 = pd.read_excel('../../CF_data/Data_UMONS/Contamination/Doc_SITEREM/Etude de caracterisation. SITEREM - 2011/Documents '\n",
    "                   'supplémentaires/Liste XY investigations.xlsx', sheet_name='EAU RB')#, skiprows=4)\n",
    "df2['Type_ech']='Eau'\n",
    "df2['Nappe']='remblais'\n",
    "\n",
    "df3 = pd.read_excel('../../CF_data/Data_UMONS/Contamination/Doc_SITEREM/Etude de caracterisation. SITEREM - 2011/Documents '\n",
    "                   'supplémentaires/Liste XY investigations.xlsx', sheet_name='EAU ALL')#, skiprows=4)\n",
    "df3['Type_ech']='Eau'\n",
    "df3['Nappe']='Alluvions'"
   ]
  },
  {
   "cell_type": "code",
   "execution_count": 66,
   "id": "coastal-methodology",
   "metadata": {},
   "outputs": [
    {
     "name": "stdout",
     "output_type": "stream",
     "text": [
      "\n",
      "Columns dropped :['Unnamed: 3', 'Unnamed: 4']\n",
      "\n"
     ]
    }
   ],
   "source": [
    "df2=na_line_drop(df2,0)\n",
    "df2=na_col_drop(df2,1)"
   ]
  },
  {
   "cell_type": "code",
   "execution_count": 67,
   "id": "computational-abortion",
   "metadata": {},
   "outputs": [],
   "source": [
    "mdf, error_df=gdf_merger(df1, df2, 'outer', 'N°')"
   ]
  },
  {
   "cell_type": "code",
   "execution_count": 68,
   "id": "subsequent-straight",
   "metadata": {},
   "outputs": [],
   "source": [
    "mdf=mdf.append(df3)\n",
    "mdf=mdf.dropna(how='any', subset=['N°'])"
   ]
  },
  {
   "cell_type": "code",
   "execution_count": 69,
   "id": "studied-cologne",
   "metadata": {},
   "outputs": [],
   "source": [
    "mdf, error_df=gdf_merger(mdf, df, 'outer', 'N°') "
   ]
  },
  {
   "cell_type": "code",
   "execution_count": 70,
   "id": "former-zimbabwe",
   "metadata": {},
   "outputs": [],
   "source": [
    "mdf.rename(columns={'N°':'ID'}, inplace=True)\n",
    "mdf['Type'] = 'Piezo'\n",
    "pz=mdf\n",
    "source_pz = pz # we only have boreholes 'ID' here, no Z, no date"
   ]
  },
  {
   "cell_type": "code",
   "execution_count": 71,
   "id": "personalized-jaguar",
   "metadata": {},
   "outputs": [
    {
     "name": "stdout",
     "output_type": "stream",
     "text": [
      "Rows : 0, columns : 0\n"
     ]
    },
    {
     "data": {
      "application/vnd.jupyter.widget-view+json": {
       "model_id": "d86ef41d0a7c428e8e1b4f07b632144b",
       "version_major": 2,
       "version_minor": 0
      },
      "text/plain": [
       "interactive(children=(IntSlider(value=0, description='rows', max=0, readout=False), IntSlider(value=0, descrip…"
      ]
     },
     "metadata": {},
     "output_type": "display_data"
    }
   ],
   "source": [
    "gdf_viewer(source_bh, rows=5)"
   ]
  },
  {
   "cell_type": "code",
   "execution_count": 72,
   "id": "precise-retreat",
   "metadata": {},
   "outputs": [
    {
     "name": "stdout",
     "output_type": "stream",
     "text": [
      "source_bh:0 ; source_pz:257 ; source_litho:0 ; source_Fac-uknw:0 ; source_an:0 ;\n",
      "source_prv_sol:0 ;source_prv_eau:0 ; source_mes_pz:0 ; source_mes_sol:0 ;\n"
     ]
    }
   ],
   "source": [
    "if not os.path.exists(tmp_dir):\n",
    "    os.makedirs(tmp_dir)\n",
    "\n",
    "pz.to_csv(tmp_dir+sheet+'_Piezometers.csv', index=False)    \n",
    "source_pz.to_csv(tmp_dir+'source_Piezometers.csv', index=False)\n",
    "\n",
    "print(f'source_bh:{len(source_bh)} ; source_pz:{len(source_pz)} ; source_litho:{len(source_litho)} ; '\n",
    "     f'source_Fac-uknw:{len(source_ouv)} ; source_an:{len(source_an)} ;\\nsource_prv_sol:{len(source_prv_sol)} ;'\n",
    "     f'source_prv_eau:{len(source_prv_eau)} ; source_mes_pz:{len(source_mes_pz)} ; source_mes_sol:{len(source_mes_sol)} ;')"
   ]
  },
  {
   "cell_type": "markdown",
   "id": "transparent-connecticut",
   "metadata": {},
   "source": [
    "--------------------------------------------------------------------------------------------------------"
   ]
  },
  {
   "cell_type": "markdown",
   "id": "express-library",
   "metadata": {},
   "source": [
    "## 7-Résultats phase 1_MEMORIS.xls\n",
    "* **Sheet : 'Résult SOL'**"
   ]
  },
  {
   "cell_type": "code",
   "execution_count": 73,
   "id": "employed-military",
   "metadata": {},
   "outputs": [],
   "source": [
    "# New file, so the source variables must be overwritten !!\n",
    "_df=pd.DataFrame()\n",
    "source_mes_pz, source_mes_sol, source_pz, source_prv_eau, source_prv_sol =  _df, _df, _df, _df, _df\n",
    "source_ouv, source_an, source_litho, source_bh = _df, _df, _df, _df"
   ]
  },
  {
   "cell_type": "code",
   "execution_count": 74,
   "id": "white-pursuit",
   "metadata": {},
   "outputs": [],
   "source": [
    "tmp_dir='../../CF_data/Result_traitem/Phase_1_Memoris/'\n",
    "sheet='Result_sol'"
   ]
  },
  {
   "cell_type": "code",
   "execution_count": 75,
   "id": "concerned-leader",
   "metadata": {},
   "outputs": [
    {
     "name": "stdout",
     "output_type": "stream",
     "text": [
      "1 NaN lines dropped\n",
      "\n",
      "Columns dropped :['Unnamed: 0', 'Unnamed: 2']\n",
      "\n",
      "Rows : 135, columns : 35\n"
     ]
    },
    {
     "name": "stderr",
     "output_type": "stream",
     "text": [
      "/home/yanathan/.local/share/virtualenvs/GSDMA-DRfwm83x/lib/python3.8/site-packages/pandas/core/frame.py:4305: SettingWithCopyWarning: \n",
      "A value is trying to be set on a copy of a slice from a DataFrame\n",
      "\n",
      "See the caveats in the documentation: https://pandas.pydata.org/pandas-docs/stable/user_guide/indexing.html#returning-a-view-versus-a-copy\n",
      "  return super().drop(\n"
     ]
    },
    {
     "data": {
      "application/vnd.jupyter.widget-view+json": {
       "model_id": "92f16d52790f44529c8c66cccfdd62e3",
       "version_major": 2,
       "version_minor": 0
      },
      "text/plain": [
       "interactive(children=(IntSlider(value=5, description='rows', max=135, min=5, readout=False), IntSlider(value=1…"
      ]
     },
     "metadata": {},
     "output_type": "display_data"
    }
   ],
   "source": [
    "df = pd.read_excel('../../CF_data/Data_UMONS/Contamination/Résultats et mesures Siterem/résultats phase 1/'\n",
    "                   'Résultats phase 1_MEMORIS.xls', sheet_name='Résult SOL', skiprows=4)\n",
    "df=na_line_drop(df,0)\n",
    "df=na_col_drop(df,1)\n",
    "df.replace(r'<|>','', inplace=True, regex=True)\n",
    "df.replace(r'-$',np.nan, inplace=True, regex=True)\n",
    "\n",
    "gdf_viewer(df, rows=5)"
   ]
  },
  {
   "cell_type": "code",
   "execution_count": 76,
   "id": "satisfied-constitutional",
   "metadata": {},
   "outputs": [],
   "source": [
    "prv_sol=df.loc[:35]\n",
    "an=df.loc[36:]"
   ]
  },
  {
   "cell_type": "code",
   "execution_count": 77,
   "id": "pleasant-prayer",
   "metadata": {},
   "outputs": [
    {
     "name": "stderr",
     "output_type": "stream",
     "text": [
      "/home/yanathan/.local/share/virtualenvs/GSDMA-DRfwm83x/lib/python3.8/site-packages/pandas/core/indexing.py:692: SettingWithCopyWarning: \n",
      "A value is trying to be set on a copy of a slice from a DataFrame\n",
      "\n",
      "See the caveats in the documentation: https://pandas.pydata.org/pandas-docs/stable/user_guide/indexing.html#returning-a-view-versus-a-copy\n",
      "  iloc._setitem_with_indexer(indexer, value, self.name)\n"
     ]
    }
   ],
   "source": [
    "an.loc[0.5] = df.loc[0] # put data on first line\n",
    "an = an.sort_index().reset_index(drop=True)"
   ]
  },
  {
   "cell_type": "code",
   "execution_count": 78,
   "id": "republican-physiology",
   "metadata": {},
   "outputs": [],
   "source": [
    "prv_sol=prv_sol.transpose()\n",
    "prv_sol.reset_index(drop=True, inplace=True)\n",
    "prv_sol=col_ren(prv_sol, 1)"
   ]
  },
  {
   "cell_type": "code",
   "execution_count": 79,
   "id": "designed-industry",
   "metadata": {},
   "outputs": [
    {
     "name": "stdout",
     "output_type": "stream",
     "text": [
      "\n",
      "Columns dropped :['col_1', \"Nom / description d'échantillon\", 'Date de prélèvement', \"Nature de l'étude (*)\", 'Terrain', 'Epaisseur de remblais', 'Epaisseur alluvions', \"Nature de l'observation organoleptique\", 'LOCALISATION/AFFECTATION(S) - USAGE(S)', 'zone', 'parcelle (selon dénom.)', \"Type d'usage de fait actuel\", \"Type d'usage de fait futur\", \"Type d'usage utilisé pour comparer les résultats\", 'Lieux de prélèvement', 'X Lambert', 'Y Lambert', 'DESCRIPTION SOMMAIRE', 'Type de recouvrement de surface (***)', 'Sol en place (S : souillé, NS : non souillé)', 'Remblais de terre (S : souillé, NS : non souillé)', 'Remblais technique (S : souillé, NS : non souillé)', 'Déchet', 'Matières organiques', 'GRANULOMETRIE', 'Fraction argileuse']\n",
      "\n"
     ]
    }
   ],
   "source": [
    "prv_sol.drop(list(range(5)), axis=0, inplace=True)\n",
    "prv_sol.reset_index(drop=True, inplace=True)\n",
    "prv_sol=na_col_drop(prv_sol,1)\n",
    "prv_sol=na_line_drop(prv_sol,3)\n",
    "prv_sol.reset_index(drop=True, inplace=True)"
   ]
  },
  {
   "cell_type": "code",
   "execution_count": 80,
   "id": "specialized-chemical",
   "metadata": {},
   "outputs": [],
   "source": [
    "name=['ID_ech', 'Description','Organo', 'Long_for', 'Refus','Ech_top', 'Ech_base', 'MS','Fract_2','Fract_2+']\n",
    "prv_sol=col_ren(prv_sol, name=name, mode=1)"
   ]
  },
  {
   "cell_type": "code",
   "execution_count": 81,
   "id": "accomplished-exception",
   "metadata": {},
   "outputs": [],
   "source": [
    "for i in range(len(prv_sol['Description'])):\n",
    "    x = prv_sol.loc[i,'Description']\n",
    "    if x=='R': prv_sol.loc[i,'Description']='Remblais'\n",
    "    elif x=='L': prv_sol.loc[i,'Description']='Limons'\n",
    "\n",
    "prv_sol['Refus']=prv_sol['Refus'].apply(lambda x: 'x' if not re.search('x|X', str(x)) else '')\n",
    "prv_sol.insert(1,'Type_ech','Sol')"
   ]
  },
  {
   "cell_type": "code",
   "execution_count": 82,
   "id": "solar-lottery",
   "metadata": {
    "scrolled": false
   },
   "outputs": [
    {
     "name": "stdout",
     "output_type": "stream",
     "text": [
      "Rows : 29, columns : 11\n"
     ]
    },
    {
     "data": {
      "application/vnd.jupyter.widget-view+json": {
       "model_id": "89cb8b2265dc4756995f4a46bf59a21d",
       "version_major": 2,
       "version_minor": 0
      },
      "text/plain": [
       "interactive(children=(IntSlider(value=3, description='rows', max=29, min=3, readout=False), IntSlider(value=11…"
      ]
     },
     "metadata": {},
     "output_type": "display_data"
    }
   ],
   "source": [
    "gdf_viewer(prv_sol, rows=3)"
   ]
  },
  {
   "cell_type": "code",
   "execution_count": 83,
   "id": "armed-steal",
   "metadata": {},
   "outputs": [],
   "source": [
    "an=an.transpose()\n",
    "an.reset_index(drop=True, inplace=True)"
   ]
  },
  {
   "cell_type": "code",
   "execution_count": 84,
   "id": "invalid-bubble",
   "metadata": {},
   "outputs": [],
   "source": [
    "an=col_ren(an, 1)"
   ]
  },
  {
   "cell_type": "code",
   "execution_count": 85,
   "id": "activated-wallpaper",
   "metadata": {},
   "outputs": [],
   "source": [
    "an.replace(r'<|>','', inplace=True, regex=True)\n",
    "an.replace(r'-',np.nan, inplace=True, regex=True)\n",
    "an.rename(columns={an.columns[0]:'ID_ech'}, inplace=True)"
   ]
  },
  {
   "cell_type": "code",
   "execution_count": 86,
   "id": "enabling-travel",
   "metadata": {},
   "outputs": [
    {
     "name": "stdout",
     "output_type": "stream",
     "text": [
      "\n",
      "Columns dropped :['METAUX LOURDS', 'CYANURES', 'COMPOSES AROMATIQUES VOLATILS', 'BTEX totaux', 'PHENOLS', 'Indice phénol', 'HYDROCARBURES AROMATIQUES POLYCYCLIQUES', 'COMPOSES ORGANOHALOGENES VOLATILS', 'col_63', 'EOX (****)', 'HYDROCARBURES TOTAUX', 'fraction aromat. C6-C7', 'fraction aromat. C7-C8', 'fraction aromat. C8-C10', 'fraction aliphat. C5-C6', 'fraction aliphat. C6-C8', 'fraction aliphat. C8-C10', 'Fraction C35 - C40', 'Hydrocarbures totaux C10-C40', 'METHYL-TERT-BUTYL-ETHER', 'POLYCHLOROBIPHENYL (PCB)', 'PCB 28', 'PCB 52', 'PCB 101', 'PCB 118', 'PCB 138', 'PCB 153', 'PCB 180', 'PCB totaux (7)', 'F4/2M*', 'Teneur mesurée', 'Teneur mesurée (souligne/gras)', 'Teneur mesurée (gras/grisé)', \"(*) CP = Campagne de prélèvements; Ex = Expertise; ES = Etude de sol; EO = Etude d'orientation; EC = Etude de caractérisation; SA = Suivi d'assainissement\", '(**) L: limon, A: Argile, S: Sable, R: Remblai', '(***) ib : imperméable (béton) ; ih : imperméable hydrocarboné ; p : perméable (gravier, fissuré,…) ; tvh : terres végétation haute ; tvb : terres végétation basse ', '(****) 3 mg/kg = Seuil limite défini dans le GREO ']\n",
      "\n"
     ]
    }
   ],
   "source": [
    "an.drop(list(range(5)), axis=0, inplace=True)\n",
    "an.reset_index(drop=True, inplace=True)\n",
    "an=na_col_drop(an,1)\n",
    "an.insert(1,'Type_ech','Sol')"
   ]
  },
  {
   "cell_type": "code",
   "execution_count": 87,
   "id": "crude-degree",
   "metadata": {},
   "outputs": [],
   "source": [
    "an=col_ren(an, name=pol_field_model, mode=1)"
   ]
  },
  {
   "cell_type": "code",
   "execution_count": 88,
   "id": "italian-architecture",
   "metadata": {},
   "outputs": [
    {
     "name": "stdout",
     "output_type": "stream",
     "text": [
      "Rows : 29, columns : 64\n"
     ]
    },
    {
     "data": {
      "application/vnd.jupyter.widget-view+json": {
       "model_id": "038498c4c44a4563a3db1a20a4863ad0",
       "version_major": 2,
       "version_minor": 0
      },
      "text/plain": [
       "interactive(children=(IntSlider(value=5, description='rows', max=29, min=5, readout=False), IntSlider(value=12…"
      ]
     },
     "metadata": {},
     "output_type": "display_data"
    }
   ],
   "source": [
    "gdf_viewer(an, rows=5) "
   ]
  },
  {
   "cell_type": "raw",
   "id": "ranking-underwear",
   "metadata": {},
   "source": [
    "set(prv_sol['ID_ech']).symmetric_difference(set(an['ID_ech'])) #lacking ID between the 2 sets"
   ]
  },
  {
   "cell_type": "code",
   "execution_count": 89,
   "id": "sacred-collect",
   "metadata": {},
   "outputs": [],
   "source": [
    "source_prv_sol=prv_sol\n",
    "source_an=an"
   ]
  },
  {
   "cell_type": "code",
   "execution_count": 90,
   "id": "arbitrary-driver",
   "metadata": {
    "scrolled": false
   },
   "outputs": [
    {
     "name": "stdout",
     "output_type": "stream",
     "text": [
      "source_bh:0 ; source_pz:0 ; source_litho:0 ; source_Fac-uknw:0 ; source_an:29 ;\n",
      "source_prv_sol:29 ;source_prv_eau:0 ; source_mes_pz:0 ; source_mes_sol:0 ;\n"
     ]
    }
   ],
   "source": [
    "if not os.path.exists(tmp_dir):\n",
    "    os.makedirs(tmp_dir)\n",
    "\n",
    "#bh.to_csv(tmp_dir+'source_Boreholes.csv', index=False)\n",
    "#pz.to_csv(tmp_dir+sheet+'_Piezometers.csv', index=False)\n",
    "#ouv.to_csv(tmp_dir+sheet+'_Unkown-facility.csv', index=False)\n",
    "#litho.to_csv(tmp_dir+sheet+'_Lithology.csv', index=False)\n",
    "#mes_pz.to_csv(tmp_dir+sheet+'_Measures.csv', index=False)\n",
    "#mes_sol.to_csv(tmp_dir+sheet+'_Measures-soil.csv', index=False)\n",
    "#prv_eau.to_csv(tmp_dir+sheet+'_Samples-water.csv', index=False)\n",
    "prv_sol.to_csv(tmp_dir+sheet+'_Samples-soil.csv', index=False)\n",
    "an.to_csv(tmp_dir+sheet+'_Analysis.csv', index=False)\n",
    "\n",
    "\n",
    "#source_bh.to_csv(tmp_dir+'source_Boreholes.csv', index=False)\n",
    "#source_pz.to_csv(tmp_dir+'source_Piezometers.csv', index=False)\n",
    "#source_ouv.to_csv(tmp_dir+'source_Unkown-facility.csv', index=False)\n",
    "#source_litho.to_csv(tmp_dir+'source_Lithology.csv', index=False)\n",
    "#source_mes_pz.to_csv(tmp_dir+'source_Measures.csv', index=False)\n",
    "#source_mes_sol.to_csv(tmp_dir+'source_Measures-soil.csv', index=False)\n",
    "#source_prv_eau.to_csv(tmp_dir+'source_Samples-water.csv', index=False)\n",
    "source_prv_sol.to_csv(tmp_dir+'source_Samples-soil.csv', index=False)\n",
    "source_an.to_csv(tmp_dir+'source_Analysis.csv', index=False)\n",
    "\n",
    "\n",
    "print(f'source_bh:{len(source_bh)} ; source_pz:{len(source_pz)} ; source_litho:{len(source_litho)} ; '\n",
    "     f'source_Fac-uknw:{len(source_ouv)} ; source_an:{len(source_an)} ;\\nsource_prv_sol:{len(source_prv_sol)} ;'\n",
    "     f'source_prv_eau:{len(source_prv_eau)} ; source_mes_pz:{len(source_mes_pz)} ; source_mes_sol:{len(source_mes_sol)} ;')"
   ]
  },
  {
   "cell_type": "markdown",
   "id": "welsh-expense",
   "metadata": {},
   "source": [
    "* **Sheet : 'Résult EAU'**"
   ]
  },
  {
   "cell_type": "code",
   "execution_count": 91,
   "id": "identical-biodiversity",
   "metadata": {},
   "outputs": [],
   "source": [
    "tmp_dir='../../CF_data/Result_traitem/Phase_1_Memoris/'\n",
    "sheet='Result_eau'"
   ]
  },
  {
   "cell_type": "code",
   "execution_count": 92,
   "id": "damaged-delivery",
   "metadata": {
    "scrolled": false
   },
   "outputs": [
    {
     "name": "stdout",
     "output_type": "stream",
     "text": [
      "1 NaN lines dropped\n",
      "\n",
      "Columns dropped :['Unnamed: 0', 'Unnamed: 2']\n",
      "\n",
      "Rows : 136, columns : 23\n"
     ]
    },
    {
     "name": "stderr",
     "output_type": "stream",
     "text": [
      "/home/yanathan/.local/share/virtualenvs/GSDMA-DRfwm83x/lib/python3.8/site-packages/pandas/core/frame.py:4305: SettingWithCopyWarning: \n",
      "A value is trying to be set on a copy of a slice from a DataFrame\n",
      "\n",
      "See the caveats in the documentation: https://pandas.pydata.org/pandas-docs/stable/user_guide/indexing.html#returning-a-view-versus-a-copy\n",
      "  return super().drop(\n"
     ]
    },
    {
     "data": {
      "application/vnd.jupyter.widget-view+json": {
       "model_id": "99a98b8f32254f22985bb82a6734920c",
       "version_major": 2,
       "version_minor": 0
      },
      "text/plain": [
       "interactive(children=(IntSlider(value=5, description='rows', max=136, min=5, readout=False), IntSlider(value=1…"
      ]
     },
     "metadata": {},
     "output_type": "display_data"
    }
   ],
   "source": [
    "df = pd.read_excel('../../CF_data/Data_UMONS/Contamination/Résultats et mesures Siterem/résultats phase 1/'\n",
    "                   'Résultats phase 1_MEMORIS.xls', sheet_name='Résult EAU', skiprows=4)\n",
    "df=na_line_drop(df,0)\n",
    "df=na_col_drop(df,1)\n",
    "df.replace(r'<|>','', inplace=True, regex=True)\n",
    "df.replace(r'-$',np.nan, inplace=True, regex=True)\n",
    "gdf_viewer(df, rows=5)"
   ]
  },
  {
   "cell_type": "code",
   "execution_count": 93,
   "id": "present-indicator",
   "metadata": {},
   "outputs": [],
   "source": [
    "prv_eau=df.loc[:32]\n",
    "an=df.loc[33:]"
   ]
  },
  {
   "cell_type": "code",
   "execution_count": 94,
   "id": "interstate-animal",
   "metadata": {},
   "outputs": [
    {
     "name": "stderr",
     "output_type": "stream",
     "text": [
      "/home/yanathan/.local/share/virtualenvs/GSDMA-DRfwm83x/lib/python3.8/site-packages/pandas/core/indexing.py:692: SettingWithCopyWarning: \n",
      "A value is trying to be set on a copy of a slice from a DataFrame\n",
      "\n",
      "See the caveats in the documentation: https://pandas.pydata.org/pandas-docs/stable/user_guide/indexing.html#returning-a-view-versus-a-copy\n",
      "  iloc._setitem_with_indexer(indexer, value, self.name)\n"
     ]
    }
   ],
   "source": [
    "an.loc[0.5] = df.loc[0] # put data on first line\n",
    "an = an.sort_index().reset_index(drop=True)"
   ]
  },
  {
   "cell_type": "code",
   "execution_count": 95,
   "id": "dated-philip",
   "metadata": {},
   "outputs": [],
   "source": [
    "prv_eau=prv_eau.transpose()\n",
    "prv_eau.reset_index(drop=True, inplace=True)\n",
    "prv_eau=col_ren(prv_eau, 1)"
   ]
  },
  {
   "cell_type": "code",
   "execution_count": 96,
   "id": "precious-furniture",
   "metadata": {},
   "outputs": [],
   "source": [
    "prv_eau['CE']=prv_eau['CE'].apply(lambda x: pd.to_numeric(x)/1000 \n",
    "                                  if re.search('^\\d+', str(x)) and not pd.isnull(x) else np.nan)"
   ]
  },
  {
   "cell_type": "code",
   "execution_count": 97,
   "id": "exciting-velvet",
   "metadata": {},
   "outputs": [],
   "source": [
    "prv_eau.drop(list(range(5)), axis=0, inplace=True)\n",
    "prv_eau.reset_index(drop=True, inplace=True)"
   ]
  },
  {
   "cell_type": "code",
   "execution_count": 98,
   "id": "hired-eleven",
   "metadata": {},
   "outputs": [
    {
     "name": "stdout",
     "output_type": "stream",
     "text": [
      "column(s) dropped: ['21:DESCRIPTION SOMMAIRE', '27:Prof. arrêt du forage']\n"
     ]
    }
   ],
   "source": [
    "prv_eau=dble_col_drop(prv_eau)"
   ]
  },
  {
   "cell_type": "raw",
   "id": "average-importance",
   "metadata": {},
   "source": [
    "prv_eau.drop(columns=prv_eau.columns[[8,16,21,27]], axis=1, inplace=True) "
   ]
  },
  {
   "cell_type": "code",
   "execution_count": 99,
   "id": "continued-greeting",
   "metadata": {},
   "outputs": [
    {
     "name": "stdout",
     "output_type": "stream",
     "text": [
      "\n",
      "Columns dropped :['col_1', \"Nature de l'étude (*)\", 'Observations organoleptiques', 'LOCALISATION/AFFECTATION(S) - USAGE(S)', 'parcelle (selon dénom.)', \"Type d'usage de fait actuel\", \"Type d'usage de fait futur\", \"Type d'usage utilisé pour comparer les résultats\", 'Lieux de prélèvement', 'DESCRIPTION SOMMAIRE', 'Type de recouvrement de surface (**)', 'Sol en place (S : souillé, NS : non souillé)', 'Remblais de terre (S : souillé, NS : non souillé)', 'Remblais technique (S : souillé, NS : non souillé)', 'Déchet', 'PARAMETRES PHYSICO-CHIMIQUES ', 'ORP']\n",
      "\n"
     ]
    }
   ],
   "source": [
    "prv_eau=na_col_drop(prv_eau,1)\n",
    "prv_eau=na_line_drop(prv_eau,3)\n",
    "prv_eau.reset_index(drop=True, inplace=True)"
   ]
  },
  {
   "cell_type": "code",
   "execution_count": 100,
   "id": "premier-absence",
   "metadata": {},
   "outputs": [],
   "source": [
    "name=['ID_ech','Date_prv','Num_maille','Affectation','X','Y','Zsol','Long_for','Prof_crep','Long_pz',\n",
    "      'Niv_eau_sol','pH','CE','T']\n",
    "prv_eau=col_ren(prv_eau, name=name, mode=1)\n",
    "prv_eau.insert(1,'Type_ech','Eau')"
   ]
  },
  {
   "cell_type": "code",
   "execution_count": 101,
   "id": "underlying-netscape",
   "metadata": {},
   "outputs": [
    {
     "data": {
      "text/plain": [
       "Index(['ID_ech', 'Type_ech', 'Date_prv', 'Num_maille', 'Affectation', 'X', 'Y',\n",
       "       'Zsol', 'Long_for', 'Prof_crep', 'Long_pz', 'Niv_eau_sol', 'pH', 'CE',\n",
       "       'T'],\n",
       "      dtype='object')"
      ]
     },
     "execution_count": 101,
     "metadata": {},
     "output_type": "execute_result"
    }
   ],
   "source": [
    "prv_eau.columns"
   ]
  },
  {
   "cell_type": "code",
   "execution_count": 102,
   "id": "divine-factor",
   "metadata": {},
   "outputs": [],
   "source": [
    "prv_eau['Prof_crep'].replace('\\[|\\]','', regex=True, inplace=True)\n",
    "for i in range(len(prv_eau)):\n",
    "    c=prv_eau.loc[i,'Prof_crep']\n",
    "    prv_eau.loc[i,'Equip_top']=c.split('-')[0]\n",
    "    prv_eau.loc[i,'Equip_base']=c.split('-')[1]\n",
    "\n",
    "prv_eau['Type_equip'] = 'Crepine'\n",
    "prv_eau.drop(columns=['Prof_crep'], inplace=True)"
   ]
  },
  {
   "cell_type": "code",
   "execution_count": 103,
   "id": "handed-veteran",
   "metadata": {},
   "outputs": [],
   "source": [
    "prv_eau['ID_ech'].replace('Canne ', 'Can', inplace=True, regex=True)\n",
    "prv_eau['ID_ech'].replace('\\n', ' ', inplace=True, regex=True)"
   ]
  },
  {
   "cell_type": "code",
   "execution_count": 104,
   "id": "saved-coalition",
   "metadata": {
    "scrolled": true
   },
   "outputs": [
    {
     "name": "stderr",
     "output_type": "stream",
     "text": [
      "/home/yanathan/.local/share/virtualenvs/GSDMA-DRfwm83x/lib/python3.8/site-packages/pandas/core/frame.py:4438: SettingWithCopyWarning: \n",
      "A value is trying to be set on a copy of a slice from a DataFrame\n",
      "\n",
      "See the caveats in the documentation: https://pandas.pydata.org/pandas-docs/stable/user_guide/indexing.html#returning-a-view-versus-a-copy\n",
      "  return super().rename(\n",
      "<ipython-input-104-b3f872c1afec>:3: SettingWithCopyWarning: \n",
      "A value is trying to be set on a copy of a slice from a DataFrame.\n",
      "Try using .loc[row_indexer,col_indexer] = value instead\n",
      "\n",
      "See the caveats in the documentation: https://pandas.pydata.org/pandas-docs/stable/user_guide/indexing.html#returning-a-view-versus-a-copy\n",
      "  pz['Type'] = 'Piezo'\n"
     ]
    }
   ],
   "source": [
    "pz=prv_eau[['ID_ech','X', 'Y', 'Zsol', 'Long_for','Long_pz', 'Equip_top', 'Equip_base', 'Type_equip']]\n",
    "pz.rename(columns={'ID_ech':'ID'}, inplace=True)\n",
    "pz['Type'] = 'Piezo'"
   ]
  },
  {
   "cell_type": "code",
   "execution_count": 105,
   "id": "religious-radiation",
   "metadata": {},
   "outputs": [
    {
     "name": "stderr",
     "output_type": "stream",
     "text": [
      "/home/yanathan/.local/share/virtualenvs/GSDMA-DRfwm83x/lib/python3.8/site-packages/pandas/core/indexing.py:1720: SettingWithCopyWarning: \n",
      "A value is trying to be set on a copy of a slice from a DataFrame.\n",
      "Try using .loc[row_indexer,col_indexer] = value instead\n",
      "\n",
      "See the caveats in the documentation: https://pandas.pydata.org/pandas-docs/stable/user_guide/indexing.html#returning-a-view-versus-a-copy\n",
      "  self._setitem_single_column(loc, value, pi)\n"
     ]
    }
   ],
   "source": [
    "for i in range(len(pz.ID)):\n",
    "    c=pz.loc[i, 'ID']\n",
    "    pz.loc[i, 'ID']=re.search(\"(\\w+\\d+(?:\\w)?)\",c).group(1)"
   ]
  },
  {
   "cell_type": "code",
   "execution_count": 106,
   "id": "herbal-nudist",
   "metadata": {},
   "outputs": [
    {
     "name": "stderr",
     "output_type": "stream",
     "text": [
      "<ipython-input-106-5e1af1ec470d>:1: SettingWithCopyWarning: \n",
      "A value is trying to be set on a copy of a slice from a DataFrame\n",
      "\n",
      "See the caveats in the documentation: https://pandas.pydata.org/pandas-docs/stable/user_guide/indexing.html#returning-a-view-versus-a-copy\n",
      "  pz.drop_duplicates(subset=['ID'], keep='first', ignore_index=True, inplace=True)\n"
     ]
    }
   ],
   "source": [
    "pz.drop_duplicates(subset=['ID'], keep='first', ignore_index=True, inplace=True)"
   ]
  },
  {
   "cell_type": "code",
   "execution_count": 107,
   "id": "vertical-people",
   "metadata": {
    "scrolled": false
   },
   "outputs": [
    {
     "name": "stdout",
     "output_type": "stream",
     "text": [
      "Rows : 17, columns : 17\n"
     ]
    },
    {
     "data": {
      "application/vnd.jupyter.widget-view+json": {
       "model_id": "c390b8aa02514dd096d1dc28b00da342",
       "version_major": 2,
       "version_minor": 0
      },
      "text/plain": [
       "interactive(children=(IntSlider(value=5, description='rows', max=17, min=5, readout=False), IntSlider(value=12…"
      ]
     },
     "metadata": {},
     "output_type": "display_data"
    }
   ],
   "source": [
    "gdf_viewer(prv_eau, rows=5)"
   ]
  },
  {
   "cell_type": "code",
   "execution_count": 108,
   "id": "embedded-greene",
   "metadata": {},
   "outputs": [],
   "source": [
    "an=an.transpose()\n",
    "an.reset_index(drop=True, inplace=True)"
   ]
  },
  {
   "cell_type": "code",
   "execution_count": 109,
   "id": "mental-bacon",
   "metadata": {},
   "outputs": [],
   "source": [
    "an=col_ren(an, 1)"
   ]
  },
  {
   "cell_type": "code",
   "execution_count": 110,
   "id": "insured-traffic",
   "metadata": {},
   "outputs": [],
   "source": [
    "an.replace(r'<|>','', inplace=True, regex=True)\n",
    "an.replace(r'-',np.nan, inplace=True, regex=True)\n",
    "an.rename(columns={an.columns[0]:'ID_ech'}, inplace=True)"
   ]
  },
  {
   "cell_type": "code",
   "execution_count": 111,
   "id": "employed-stack",
   "metadata": {},
   "outputs": [],
   "source": [
    "an.drop(list(range(5)), axis=0, inplace=True)\n",
    "an.reset_index(drop=True, inplace=True)"
   ]
  },
  {
   "cell_type": "code",
   "execution_count": 112,
   "id": "short-bennett",
   "metadata": {},
   "outputs": [
    {
     "name": "stdout",
     "output_type": "stream",
     "text": [
      "\n",
      "Columns dropped :['METAUX LOURDS', 'CYANURES', 'COMPOSES AROMATIQUES VOLATILS', 'PHENOLS', 'crésols (total)', 'CHLOROPHENOLS', '2-chlorophénol', 'monochlorophénol total', 'dichlorophénol total', '2,4,5-trichlorophénol', '2,4,6-trichlorophénol', 'trichlorophénol total', '2,3,4,6- tétrachlorophénol', 'tétrachlorophénol total', 'pentachlorophénol', 'HYDROCARBURES AROMATIQUES POLYCYCLIQUES', 'COMPOSES ORGANOCHLORES VOLATILS', 'CHLOROBENZENES', 'monochlorobenzène', '1,3-dichlorobenzène', '1,2-dichlorobenzène', '1,4-Dichlorobenzène', '1,2,4,5- et 1,2,3,5-tétrachlorobenzènes', 'pentachlorobenzène', 'hexachlorobenzène', 'HYDROCARBURES TOTAUX', 'METHYL-TERT-BUTYL-ETHER', 'POLYCHLOROBIPHENYLS (PCB)', 'PCB totaux (7)', 'Teneur mesurée (souligne/gras)', 'Teneur mesurée (gras/grisé)', \"(*) CP = Campagne de prélèvements; Ex = Expertise; ES = Etude de sol; EO = Etude d'orientation; EC = Etude de caractérisation; SA = Suivi d'assainissement\", '(**) ib : imperméable (béton) ; ih : imperméable hydrocarboné ; p : perméable (gravier, fissuré,…) ; tvh : terres végétation haute ; tvb : terres végétation basse ']\n",
      "\n"
     ]
    }
   ],
   "source": [
    "an.drop(columns=an.columns[[-6,-5]], axis=1, inplace=True)\n",
    "an=na_col_drop(an,1)\n",
    "an.insert(1,'Type_ech','Eau')"
   ]
  },
  {
   "cell_type": "code",
   "execution_count": 113,
   "id": "featured-finding",
   "metadata": {},
   "outputs": [],
   "source": [
    "an=col_ren(an, name=pol_field_model, mode=1)"
   ]
  },
  {
   "cell_type": "code",
   "execution_count": 114,
   "id": "appreciated-testing",
   "metadata": {},
   "outputs": [
    {
     "name": "stdout",
     "output_type": "stream",
     "text": [
      "Rows : 17, columns : 70\n"
     ]
    },
    {
     "data": {
      "application/vnd.jupyter.widget-view+json": {
       "model_id": "239443177fe446119fbe6910d925b9bf",
       "version_major": 2,
       "version_minor": 0
      },
      "text/plain": [
       "interactive(children=(IntSlider(value=5, description='rows', max=17, min=5, readout=False), IntSlider(value=12…"
      ]
     },
     "metadata": {},
     "output_type": "display_data"
    }
   ],
   "source": [
    "gdf_viewer(an, rows=5) "
   ]
  },
  {
   "cell_type": "raw",
   "id": "designed-willow",
   "metadata": {},
   "source": [
    "set(prv_eau['ID_ech']) ^ set(an['ID_ech']) #lacking ID between the 2 sets"
   ]
  },
  {
   "cell_type": "code",
   "execution_count": 115,
   "id": "portuguese-elevation",
   "metadata": {},
   "outputs": [],
   "source": [
    "source_pz=pz\n",
    "source_prv_eau=prv_eau\n",
    "source_an=source_an.append(an)"
   ]
  },
  {
   "cell_type": "code",
   "execution_count": 116,
   "id": "accepting-narrative",
   "metadata": {},
   "outputs": [
    {
     "name": "stdout",
     "output_type": "stream",
     "text": [
      "source_bh:0 ; source_pz:14 ; source_litho:0 ; source_Fac-uknw:0 ; source_an:46 ;\n",
      "source_prv_sol:29 ;source_prv_eau:17 ; source_mes_pz:0 ; source_mes_sol:0 ;\n"
     ]
    }
   ],
   "source": [
    "if not os.path.exists(tmp_dir):\n",
    "    os.makedirs(tmp_dir)\n",
    "\n",
    "#bh.to_csv(tmp_dir+'source_Boreholes.csv', index=False)\n",
    "pz.to_csv(tmp_dir+sheet+'_Piezometers.csv', index=False)\n",
    "#ouv.to_csv(tmp_dir+sheet+'_Unkown-facility.csv', index=False)\n",
    "#litho.to_csv(tmp_dir+sheet+'_Lithology.csv', index=False)\n",
    "#mes_pz.to_csv(tmp_dir+sheet+'_Measures.csv', index=False)\n",
    "#mes_sol.to_csv(tmp_dir+sheet+'_Measures-soil.csv', index=False)\n",
    "prv_eau.to_csv(tmp_dir+sheet+'_Samples-water.csv', index=False)\n",
    "#prv_sol.to_csv(tmp_dir+sheet+'_Samples-soil.csv', index=False)\n",
    "an.to_csv(tmp_dir+sheet+'_Analysis.csv', index=False)\n",
    "\n",
    "\n",
    "#source_bh.to_csv(tmp_dir+'source_Boreholes.csv', index=False)\n",
    "source_pz.to_csv(tmp_dir+'source_Piezometers.csv', index=False)\n",
    "#source_ouv.to_csv(tmp_dir+'source_Unkown-facility.csv', index=False)\n",
    "#source_litho.to_csv(tmp_dir+'source_Lithology.csv', index=False)\n",
    "#source_mes_pz.to_csv(tmp_dir+'source_Measures.csv', index=False)\n",
    "#source_mes_sol.to_csv(tmp_dir+'source_Measures-soil.csv', index=False)\n",
    "source_prv_eau.to_csv(tmp_dir+'source_Samples-water.csv', index=False)\n",
    "#source_prv_sol.to_csv(tmp_dir+'source_Samples-soil.csv', index=False)\n",
    "source_an.to_csv(tmp_dir+'source_Analysis.csv', index=False)\n",
    "\n",
    "\n",
    "print(f'source_bh:{len(source_bh)} ; source_pz:{len(source_pz)} ; source_litho:{len(source_litho)} ; '\n",
    "     f'source_Fac-uknw:{len(source_ouv)} ; source_an:{len(source_an)} ;\\nsource_prv_sol:{len(source_prv_sol)} ;'\n",
    "     f'source_prv_eau:{len(source_prv_eau)} ; source_mes_pz:{len(source_mes_pz)} ; source_mes_sol:{len(source_mes_sol)} ;')"
   ]
  },
  {
   "cell_type": "markdown",
   "id": "western-concord",
   "metadata": {},
   "source": [
    "## 8-Résultats phase 2_MEMORIS.xls\n",
    "* **Sheet : 'Résult SOL'**"
   ]
  },
  {
   "cell_type": "code",
   "execution_count": 117,
   "id": "backed-manitoba",
   "metadata": {},
   "outputs": [],
   "source": [
    "# New file, so the source variables must be overwritten !!\n",
    "_df=pd.DataFrame()\n",
    "source_mes_pz, source_mes_sol, source_pz, source_prv_eau, source_prv_sol =  _df, _df, _df, _df, _df\n",
    "source_ouv, source_an, source_litho, source_bh = _df, _df, _df, _df"
   ]
  },
  {
   "cell_type": "code",
   "execution_count": 118,
   "id": "conceptual-youth",
   "metadata": {},
   "outputs": [],
   "source": [
    "tmp_dir='../../CF_data/Result_traitem/Phase_2_Memoris/'\n",
    "sheet='Result_SOL'"
   ]
  },
  {
   "cell_type": "code",
   "execution_count": 119,
   "id": "thick-black",
   "metadata": {},
   "outputs": [
    {
     "name": "stdout",
     "output_type": "stream",
     "text": [
      "1 NaN lines dropped\n",
      "\n",
      "Columns dropped :['Unnamed: 0', 'Unnamed: 2']\n",
      "\n",
      "Rows : 135, columns : 31\n"
     ]
    },
    {
     "name": "stderr",
     "output_type": "stream",
     "text": [
      "/home/yanathan/.local/share/virtualenvs/GSDMA-DRfwm83x/lib/python3.8/site-packages/pandas/core/frame.py:4305: SettingWithCopyWarning: \n",
      "A value is trying to be set on a copy of a slice from a DataFrame\n",
      "\n",
      "See the caveats in the documentation: https://pandas.pydata.org/pandas-docs/stable/user_guide/indexing.html#returning-a-view-versus-a-copy\n",
      "  return super().drop(\n"
     ]
    },
    {
     "data": {
      "application/vnd.jupyter.widget-view+json": {
       "model_id": "bd08fe0fcbb54754bced7fd797443c46",
       "version_major": 2,
       "version_minor": 0
      },
      "text/plain": [
       "interactive(children=(IntSlider(value=5, description='rows', max=135, min=5, readout=False), IntSlider(value=1…"
      ]
     },
     "metadata": {},
     "output_type": "display_data"
    }
   ],
   "source": [
    "df = pd.read_excel('../../CF_data/Data_UMONS/Contamination/Résultats et mesures Siterem/résultats phase 2/'\n",
    "                   'Résultats phase 2_MEMORIS.xls', sheet_name='Résult SOL', skiprows=4)\n",
    "df=na_line_drop(df,0)\n",
    "df=na_col_drop(df,1)\n",
    "df.replace(r'<|>','', inplace=True, regex=True)\n",
    "df.replace(r'-$',np.nan, inplace=True, regex=True)\n",
    "gdf_viewer(df, rows=5)"
   ]
  },
  {
   "cell_type": "code",
   "execution_count": 120,
   "id": "seven-roman",
   "metadata": {},
   "outputs": [],
   "source": [
    "prv_sol=df.loc[:35]\n",
    "an=df.loc[36:]"
   ]
  },
  {
   "cell_type": "code",
   "execution_count": 121,
   "id": "metropolitan-adelaide",
   "metadata": {},
   "outputs": [
    {
     "name": "stderr",
     "output_type": "stream",
     "text": [
      "/home/yanathan/.local/share/virtualenvs/GSDMA-DRfwm83x/lib/python3.8/site-packages/pandas/core/indexing.py:692: SettingWithCopyWarning: \n",
      "A value is trying to be set on a copy of a slice from a DataFrame\n",
      "\n",
      "See the caveats in the documentation: https://pandas.pydata.org/pandas-docs/stable/user_guide/indexing.html#returning-a-view-versus-a-copy\n",
      "  iloc._setitem_with_indexer(indexer, value, self.name)\n"
     ]
    }
   ],
   "source": [
    "an.loc[0.5] = df.loc[1] # put data on first line\n",
    "an = an.sort_index().reset_index(drop=True)"
   ]
  },
  {
   "cell_type": "code",
   "execution_count": 122,
   "id": "neither-scanner",
   "metadata": {},
   "outputs": [],
   "source": [
    "prv_sol=prv_sol.transpose()\n",
    "prv_sol.reset_index(drop=True, inplace=True)\n",
    "prv_sol=col_ren(prv_sol, 1)"
   ]
  },
  {
   "cell_type": "code",
   "execution_count": 123,
   "id": "constant-showcase",
   "metadata": {},
   "outputs": [
    {
     "name": "stdout",
     "output_type": "stream",
     "text": [
      "\n",
      "Columns dropped :['col_0', \"Nom / description d'échantillon\", \"Nature de l'étude (*)\", 'Terrain', 'Epaisseur de remblais', 'Epaisseur alluvions', \"Nature de l'observation organoleptique\", 'LOCALISATION/AFFECTATION(S) - USAGE(S)', 'zone', 'parcelle (selon dénom.)', \"Type d'usage de fait actuel\", \"Type d'usage de fait futur\", \"Type d'usage utilisé pour comparer les résultats\", 'Lieux de prélèvement', 'X Lambert', 'Y Lambert', 'DESCRIPTION SOMMAIRE', 'Type de recouvrement de surface (***)', 'Sol en place (S : souillé, NS : non souillé)', 'Remblais de terre (S : souillé, NS : non souillé)', 'Remblais technique (S : souillé, NS : non souillé)', 'Déchet', 'Matières organiques', 'GRANULOMETRIE', 'Fraction argileuse']\n",
      "\n"
     ]
    }
   ],
   "source": [
    "prv_sol.drop(list(range(5)), axis=0, inplace=True)\n",
    "prv_sol.reset_index(drop=True, inplace=True)\n",
    "prv_sol=na_col_drop(prv_sol,1)\n",
    "prv_sol=na_line_drop(prv_sol,3)\n",
    "prv_sol.reset_index(drop=True, inplace=True)"
   ]
  },
  {
   "cell_type": "code",
   "execution_count": 124,
   "id": "derived-bookmark",
   "metadata": {},
   "outputs": [],
   "source": [
    "name=['ID_ech', 'Date_prv', 'Description','Organo', 'Long_for', 'Refus','Ech_top', 'Ech_base', 'MS','Fract_2','Fract_2+']\n",
    "prv_sol=col_ren(prv_sol, name=name, mode=1)"
   ]
  },
  {
   "cell_type": "code",
   "execution_count": 125,
   "id": "thirty-disease",
   "metadata": {},
   "outputs": [
    {
     "data": {
      "text/plain": [
       "{'L', 'LA', 'LS', 'R'}"
      ]
     },
     "execution_count": 125,
     "metadata": {},
     "output_type": "execute_result"
    }
   ],
   "source": [
    "set(prv_sol['Description'])"
   ]
  },
  {
   "cell_type": "code",
   "execution_count": 126,
   "id": "defensive-compilation",
   "metadata": {},
   "outputs": [],
   "source": [
    "for i in range(len(prv_sol['Description'])):\n",
    "    x = prv_sol.loc[i,'Description']\n",
    "    if x=='R': prv_sol.loc[i,'Description']='Remblais'\n",
    "    elif x=='L': prv_sol.loc[i,'Description']='Limons'\n",
    "    elif x=='LA': prv_sol.loc[i,'Description']='Limons et argiles'\n",
    "    elif x=='LS': prv_sol.loc[i,'Description']='Limons et sables'\n",
    "\n",
    "prv_sol['Refus']=prv_sol['Refus'].apply(lambda x: 'x' if not re.search('#', str(x)) else '')\n",
    "prv_sol.insert(1,'Type_ech','Sol')"
   ]
  },
  {
   "cell_type": "code",
   "execution_count": 127,
   "id": "tracked-verification",
   "metadata": {
    "scrolled": false
   },
   "outputs": [
    {
     "name": "stdout",
     "output_type": "stream",
     "text": [
      "Rows : 25, columns : 12\n"
     ]
    },
    {
     "data": {
      "application/vnd.jupyter.widget-view+json": {
       "model_id": "1d9d47d5fd4246fb8e6f64401a8c9845",
       "version_major": 2,
       "version_minor": 0
      },
      "text/plain": [
       "interactive(children=(IntSlider(value=3, description='rows', max=25, min=3, readout=False), IntSlider(value=12…"
      ]
     },
     "metadata": {},
     "output_type": "display_data"
    }
   ],
   "source": [
    "gdf_viewer(prv_sol, rows=3)"
   ]
  },
  {
   "cell_type": "code",
   "execution_count": 128,
   "id": "adjusted-anger",
   "metadata": {},
   "outputs": [],
   "source": [
    "an=an.transpose()\n",
    "an.reset_index(drop=True, inplace=True)"
   ]
  },
  {
   "cell_type": "code",
   "execution_count": 129,
   "id": "impaired-listing",
   "metadata": {},
   "outputs": [],
   "source": [
    "an=col_ren(an, 1)"
   ]
  },
  {
   "cell_type": "code",
   "execution_count": 130,
   "id": "ecological-arlington",
   "metadata": {},
   "outputs": [],
   "source": [
    "an.replace(r'<|>','', inplace=True, regex=True)\n",
    "an.replace(r'-',np.nan, inplace=True, regex=True)\n",
    "an.rename(columns={an.columns[0]:'ID_ech'}, inplace=True)"
   ]
  },
  {
   "cell_type": "code",
   "execution_count": 131,
   "id": "relative-affiliation",
   "metadata": {},
   "outputs": [
    {
     "name": "stdout",
     "output_type": "stream",
     "text": [
      "\n",
      "Columns dropped :['METAUX LOURDS', 'CYANURES', 'COMPOSES AROMATIQUES VOLATILS', 'BTEX totaux', 'PHENOLS', 'Phénol', 'Indice phénol', 'HYDROCARBURES AROMATIQUES POLYCYCLIQUES', 'COMPOSES ORGANOHALOGENES VOLATILS', '1,1-Dichloroéthane', '1,2-Dichloroéthane', '1,1-dichloroéthène', 'Cis-1,2-dichloroéthène', 'Trans 1,2-dichloroéthylène', 'Dichlorométhane', 'Totaux (cis,trans) 1,2-dichloroéthènes', '1,2-dichloropropane', 'Tétrachloroéthylène', 'Tétrachlorométhane', '1,1,1-Trichloroéthane', '1,1,2-Trichloroéthane', 'Trichloroéthylène', 'Chloroforme', 'Chlorure de vinyle', 'col_63', 'EOX (****)', 'HYDROCARBURES TOTAUX', 'Fraction C35 - C40', 'Hydrocarbures totaux C10-C40', 'METHYL-TERT-BUTYL-ETHER', 'MTBE', 'POLYCHLOROBIPHENYL (PCB)', 'PCB 28', 'PCB 52', 'PCB 101', 'PCB 118', 'PCB 138', 'PCB 153', 'PCB 180', 'PCB totaux (7)', 'F4/2M*', 'Teneur mesurée', 'Teneur mesurée (souligne/gras)', 'Teneur mesurée (gras/grisé)', \"(*) CP = Campagne de prélèvements; Ex = Expertise; ES = Etude de sol; EO = Etude d'orientation; EC = Etude de caractérisation; SA = Suivi d'assainissement\", '(**) L: limon, A: Argile, S: Sable, R: Remblai', '(***) ib : imperméable (béton) ; ih : imperméable hydrocarboné ; p : perméable (gravier, fissuré,…) ; tvh : terres végétation haute ; tvb : terres végétation basse ', '(****) 3 mg/kg = Seuil limite défini dans le GREO ']\n",
      "\n"
     ]
    }
   ],
   "source": [
    "an.drop(list(range(5)), axis=0, inplace=True)\n",
    "an=na_col_drop(an,1)\n",
    "an.insert(1,'Type_ech','Sol')"
   ]
  },
  {
   "cell_type": "code",
   "execution_count": 132,
   "id": "robust-waters",
   "metadata": {},
   "outputs": [],
   "source": [
    "an=col_ren(an, name=pol_field_model, mode=1)"
   ]
  },
  {
   "cell_type": "code",
   "execution_count": 133,
   "id": "sonic-governor",
   "metadata": {},
   "outputs": [
    {
     "name": "stdout",
     "output_type": "stream",
     "text": [
      "Rows : 25, columns : 53\n"
     ]
    },
    {
     "data": {
      "application/vnd.jupyter.widget-view+json": {
       "model_id": "f336465af4074f0683347100b8bbd4a4",
       "version_major": 2,
       "version_minor": 0
      },
      "text/plain": [
       "interactive(children=(IntSlider(value=5, description='rows', max=25, min=5, readout=False), IntSlider(value=20…"
      ]
     },
     "metadata": {},
     "output_type": "display_data"
    }
   ],
   "source": [
    "gdf_viewer(an, rows=5, cols=20) "
   ]
  },
  {
   "cell_type": "code",
   "execution_count": 134,
   "id": "printable-testimony",
   "metadata": {},
   "outputs": [],
   "source": [
    "source_prv_sol=prv_sol\n",
    "source_an=an"
   ]
  },
  {
   "cell_type": "code",
   "execution_count": 135,
   "id": "cooperative-statistics",
   "metadata": {
    "scrolled": true
   },
   "outputs": [
    {
     "name": "stdout",
     "output_type": "stream",
     "text": [
      "source_bh:0 ; source_pz:0 ; source_litho:0 ; source_Fac-uknw:0 ; source_an:25 ;\n",
      "source_prv_sol:25 ;source_prv_eau:0 ; source_mes_pz:0 ; source_mes_sol:0 ;\n"
     ]
    }
   ],
   "source": [
    "if not os.path.exists(tmp_dir):\n",
    "    os.makedirs(tmp_dir)\n",
    "\n",
    "#bh.to_csv(tmp_dir+'source_Boreholes.csv', index=False)\n",
    "#pz.to_csv(tmp_dir+sheet+'_Piezometers.csv', index=False)\n",
    "#ouv.to_csv(tmp_dir+sheet+'_Unkown-facility.csv', index=False)\n",
    "#litho.to_csv(tmp_dir+sheet+'_Lithology.csv', index=False)\n",
    "#mes_pz.to_csv(tmp_dir+sheet+'_Measures.csv', index=False)\n",
    "#mes_sol.to_csv(tmp_dir+sheet+'_Measures-soil.csv', index=False)\n",
    "#prv_eau.to_csv(tmp_dir+sheet+'_Samples-water.csv', index=False)\n",
    "prv_sol.to_csv(tmp_dir+sheet+'_Samples-soil.csv', index=False)\n",
    "an.to_csv(tmp_dir+sheet+'_Analysis.csv', index=False)\n",
    "\n",
    "\n",
    "#source_bh.to_csv(tmp_dir+'source_Boreholes.csv', index=False)\n",
    "#source_pz.to_csv(tmp_dir+'source_Piezometers.csv', index=False)\n",
    "#source_ouv.to_csv(tmp_dir+'source_Unkown-facility.csv', index=False)\n",
    "#source_litho.to_csv(tmp_dir+'source_Lithology.csv', index=False)\n",
    "#source_mes_pz.to_csv(tmp_dir+'source_Measures.csv', index=False)\n",
    "#source_mes_sol.to_csv(tmp_dir+'source_Measures-soil.csv', index=False)\n",
    "#source_prv_eau.to_csv(tmp_dir+'source_Samples-water.csv', index=False)\n",
    "source_prv_sol.to_csv(tmp_dir+'source_Samples-soil.csv', index=False)\n",
    "source_an.to_csv(tmp_dir+'source_Analysis.csv', index=False)\n",
    "\n",
    "\n",
    "print(f'source_bh:{len(source_bh)} ; source_pz:{len(source_pz)} ; source_litho:{len(source_litho)} ; '\n",
    "     f'source_Fac-uknw:{len(source_ouv)} ; source_an:{len(source_an)} ;\\nsource_prv_sol:{len(source_prv_sol)} ;'\n",
    "     f'source_prv_eau:{len(source_prv_eau)} ; source_mes_pz:{len(source_mes_pz)} ; source_mes_sol:{len(source_mes_sol)} ;')"
   ]
  },
  {
   "cell_type": "markdown",
   "id": "indian-testament",
   "metadata": {},
   "source": [
    "* **Sheet : 'Résult EAU'**"
   ]
  },
  {
   "cell_type": "code",
   "execution_count": 136,
   "id": "certain-vienna",
   "metadata": {},
   "outputs": [],
   "source": [
    "tmp_dir='../../CF_data/Result_traitem/Phase_2_Memoris/'\n",
    "sheet='Result_eau'"
   ]
  },
  {
   "cell_type": "code",
   "execution_count": 137,
   "id": "accredited-costs",
   "metadata": {},
   "outputs": [
    {
     "name": "stdout",
     "output_type": "stream",
     "text": [
      "\n",
      "Columns dropped :['Unnamed: 0', 'Unnamed: 2']\n",
      "\n",
      "Rows : 138, columns : 17\n"
     ]
    },
    {
     "data": {
      "application/vnd.jupyter.widget-view+json": {
       "model_id": "1f4b73dd409742b094baef48c0b0aec3",
       "version_major": 2,
       "version_minor": 0
      },
      "text/plain": [
       "interactive(children=(IntSlider(value=5, description='rows', max=138, min=5, readout=False), IntSlider(value=1…"
      ]
     },
     "metadata": {},
     "output_type": "display_data"
    }
   ],
   "source": [
    "df = pd.read_excel('../../CF_data/Data_UMONS/Contamination/Résultats et mesures Siterem/résultats phase 2/'\n",
    "                   'Résultats phase 2_MEMORIS.xls', sheet_name='Résult EAU', skiprows=4)\n",
    "df=na_line_drop(df,0)\n",
    "df=na_col_drop(df,1)\n",
    "df.replace(r'<|>','', inplace=True, regex=True)\n",
    "df.replace(r'-$',np.nan, inplace=True, regex=True)\n",
    "\n",
    "gdf_viewer(df, rows=5)"
   ]
  },
  {
   "cell_type": "code",
   "execution_count": 138,
   "id": "parliamentary-flower",
   "metadata": {},
   "outputs": [],
   "source": [
    "prv_eau=df.loc[:32]\n",
    "an=df.loc[33:]"
   ]
  },
  {
   "cell_type": "code",
   "execution_count": 139,
   "id": "complicated-objective",
   "metadata": {},
   "outputs": [
    {
     "name": "stderr",
     "output_type": "stream",
     "text": [
      "/home/yanathan/.local/share/virtualenvs/GSDMA-DRfwm83x/lib/python3.8/site-packages/pandas/core/indexing.py:692: SettingWithCopyWarning: \n",
      "A value is trying to be set on a copy of a slice from a DataFrame\n",
      "\n",
      "See the caveats in the documentation: https://pandas.pydata.org/pandas-docs/stable/user_guide/indexing.html#returning-a-view-versus-a-copy\n",
      "  iloc._setitem_with_indexer(indexer, value, self.name)\n"
     ]
    }
   ],
   "source": [
    "an.loc[0.5] = df.loc[1] # put data on first line\n",
    "an = an.sort_index().reset_index(drop=True)"
   ]
  },
  {
   "cell_type": "code",
   "execution_count": 140,
   "id": "exempt-korea",
   "metadata": {},
   "outputs": [],
   "source": [
    "prv_eau=prv_eau.transpose()\n",
    "prv_eau.reset_index(drop=True, inplace=True)\n",
    "prv_eau=col_ren(prv_eau, 1)"
   ]
  },
  {
   "cell_type": "code",
   "execution_count": 141,
   "id": "indie-scanning",
   "metadata": {},
   "outputs": [],
   "source": [
    "prv_eau['CE']=prv_eau['CE'].apply(lambda x: pd.to_numeric(x)/1000 \n",
    "                                  if re.search('^\\d+', str(x)) and not pd.isnull(x) else np.nan)"
   ]
  },
  {
   "cell_type": "code",
   "execution_count": 142,
   "id": "chinese-analyst",
   "metadata": {},
   "outputs": [],
   "source": [
    "prv_eau.drop(list(range(5)), axis=0, inplace=True)\n",
    "prv_eau.reset_index(drop=True, inplace=True)"
   ]
  },
  {
   "cell_type": "code",
   "execution_count": 143,
   "id": "distributed-sudan",
   "metadata": {},
   "outputs": [
    {
     "name": "stdout",
     "output_type": "stream",
     "text": [
      "column(s) dropped: ['21:DESCRIPTION SOMMAIRE', '27:Prof. arrêt du forage']\n"
     ]
    }
   ],
   "source": [
    "prv_eau=dble_col_drop(prv_eau)"
   ]
  },
  {
   "cell_type": "raw",
   "id": "flying-violence",
   "metadata": {},
   "source": [
    "prv_eau.drop(columns=prv_eau.columns[[8,16,21,27]], axis=1, inplace=True) "
   ]
  },
  {
   "cell_type": "code",
   "execution_count": 144,
   "id": "american-section",
   "metadata": {},
   "outputs": [
    {
     "name": "stdout",
     "output_type": "stream",
     "text": [
      "\n",
      "Columns dropped :['Nom du piézomètre', \"Nature de l'étude (*)\", 'Observations organoleptiques', 'LOCALISATION/AFFECTATION(S) - USAGE(S)', 'Numéro de maille', 'parcelle (selon dénom.)', \"Type d'usage de fait actuel\", \"Type d'usage de fait futur\", \"Type d'usage utilisé pour comparer les résultats\", 'Lieux de prélèvement', 'DESCRIPTION SOMMAIRE', 'Type de recouvrement de surface (**)', 'Sol en place (S : souillé, NS : non souillé)', 'Remblais de terre (S : souillé, NS : non souillé)', 'Remblais technique (S : souillé, NS : non souillé)', 'Déchet', 'PARAMETRES PHYSICO-CHIMIQUES ', 'ORP']\n",
      "\n"
     ]
    }
   ],
   "source": [
    "prv_eau=na_col_drop(prv_eau,1)\n",
    "prv_eau=na_line_drop(prv_eau,3)\n",
    "prv_eau.reset_index(drop=True, inplace=True)"
   ]
  },
  {
   "cell_type": "code",
   "execution_count": 145,
   "id": "bottom-venice",
   "metadata": {},
   "outputs": [
    {
     "data": {
      "text/plain": [
       "Index(['col_1', 'Date de prélèvement', 'Type d'affectation (Plan de secteur)',\n",
       "       'X Lambert', 'Y Lambert', 'Z Sol', 'Prof. arrêt du forage',\n",
       "       'Profondeur crépine ', 'Prof. piézo/sol mesurée sur site',\n",
       "       'Niveau de la nappe/sol', 'pH', 'CE', 'T'],\n",
       "      dtype='object')"
      ]
     },
     "execution_count": 145,
     "metadata": {},
     "output_type": "execute_result"
    }
   ],
   "source": [
    "prv_eau.columns"
   ]
  },
  {
   "cell_type": "code",
   "execution_count": 146,
   "id": "harmful-burns",
   "metadata": {},
   "outputs": [],
   "source": [
    "name=['ID_ech', 'Date_prv','Affectation','X', 'Y','Zsol', 'Long_for','Prof_crep','Long_pz_sol',\n",
    "      'Niv_eau_sol','pH', 'CE', 'T']\n",
    "prv_eau=col_ren(prv_eau, name=name, mode=1)\n",
    "prv_eau.insert(1,'Type_ech','Eau')"
   ]
  },
  {
   "cell_type": "code",
   "execution_count": 147,
   "id": "furnished-premium",
   "metadata": {
    "scrolled": true
   },
   "outputs": [],
   "source": [
    "prv_eau['ID_ech'].replace('Canne ', 'Can', inplace=True, regex=True)\n",
    "prv_eau['ID_ech'].replace('\\n', ' ', inplace=True, regex=True)"
   ]
  },
  {
   "cell_type": "code",
   "execution_count": 148,
   "id": "earlier-edgar",
   "metadata": {},
   "outputs": [],
   "source": [
    "prv_eau['Prof_crep'].replace('\\[|\\]','', regex=True, inplace=True)\n",
    "for i in range(len(prv_eau)):\n",
    "    c=prv_eau.loc[i,'Prof_crep']\n",
    "    prv_eau.loc[i,'Equip_top']=c.split('-')[0]\n",
    "    prv_eau.loc[i,'Equip_base']=c.split('-')[1]\n",
    "    \n",
    "prv_eau.drop(columns=['Prof_crep'], inplace=True)\n",
    "prv_eau['Type_equip'] = 'Crepine'"
   ]
  },
  {
   "cell_type": "code",
   "execution_count": 149,
   "id": "comprehensive-origin",
   "metadata": {},
   "outputs": [],
   "source": [
    "prv_eau['ID_ech'].replace('Canne ', 'Can', inplace=True, regex=True)\n",
    "prv_eau['ID_ech'].replace('\\n', ' ', inplace=True, regex=True)"
   ]
  },
  {
   "cell_type": "code",
   "execution_count": 150,
   "id": "friendly-ukraine",
   "metadata": {},
   "outputs": [
    {
     "name": "stderr",
     "output_type": "stream",
     "text": [
      "/home/yanathan/.local/share/virtualenvs/GSDMA-DRfwm83x/lib/python3.8/site-packages/pandas/core/frame.py:4438: SettingWithCopyWarning: \n",
      "A value is trying to be set on a copy of a slice from a DataFrame\n",
      "\n",
      "See the caveats in the documentation: https://pandas.pydata.org/pandas-docs/stable/user_guide/indexing.html#returning-a-view-versus-a-copy\n",
      "  return super().rename(\n",
      "<ipython-input-150-7fe9058c8410>:3: SettingWithCopyWarning: \n",
      "A value is trying to be set on a copy of a slice from a DataFrame.\n",
      "Try using .loc[row_indexer,col_indexer] = value instead\n",
      "\n",
      "See the caveats in the documentation: https://pandas.pydata.org/pandas-docs/stable/user_guide/indexing.html#returning-a-view-versus-a-copy\n",
      "  pz['Type']='Piezo'\n"
     ]
    }
   ],
   "source": [
    "pz=prv_eau[['ID_ech', 'X', 'Y', 'Zsol', 'Long_for','Long_pz_sol', 'Equip_top', 'Equip_base']]\n",
    "pz.rename(columns={'ID_ech':'ID'}, inplace=True)\n",
    "pz['Type']='Piezo'"
   ]
  },
  {
   "cell_type": "code",
   "execution_count": 151,
   "id": "sticky-childhood",
   "metadata": {},
   "outputs": [
    {
     "name": "stderr",
     "output_type": "stream",
     "text": [
      "/home/yanathan/.local/share/virtualenvs/GSDMA-DRfwm83x/lib/python3.8/site-packages/pandas/core/indexing.py:1720: SettingWithCopyWarning: \n",
      "A value is trying to be set on a copy of a slice from a DataFrame.\n",
      "Try using .loc[row_indexer,col_indexer] = value instead\n",
      "\n",
      "See the caveats in the documentation: https://pandas.pydata.org/pandas-docs/stable/user_guide/indexing.html#returning-a-view-versus-a-copy\n",
      "  self._setitem_single_column(loc, value, pi)\n"
     ]
    }
   ],
   "source": [
    "for i in range(len(pz.ID)):\n",
    "    c=pz.loc[i, 'ID']\n",
    "    pz.loc[i, 'ID']=re.search(\"(\\w+\\d+(?:\\w)?)\",c).group(1)"
   ]
  },
  {
   "cell_type": "code",
   "execution_count": 152,
   "id": "hollywood-parade",
   "metadata": {},
   "outputs": [
    {
     "name": "stderr",
     "output_type": "stream",
     "text": [
      "<ipython-input-152-5e1af1ec470d>:1: SettingWithCopyWarning: \n",
      "A value is trying to be set on a copy of a slice from a DataFrame\n",
      "\n",
      "See the caveats in the documentation: https://pandas.pydata.org/pandas-docs/stable/user_guide/indexing.html#returning-a-view-versus-a-copy\n",
      "  pz.drop_duplicates(subset=['ID'], keep='first', ignore_index=True, inplace=True)\n"
     ]
    }
   ],
   "source": [
    "pz.drop_duplicates(subset=['ID'], keep='first', ignore_index=True, inplace=True)"
   ]
  },
  {
   "cell_type": "code",
   "execution_count": 153,
   "id": "informative-progress",
   "metadata": {},
   "outputs": [],
   "source": [
    "prv_eau=prv_eau[['ID_ech', 'Date_prv', 'X', 'Y', 'Zsol','Niv_eau_sol', 'pH', 'CE', 'T','Affectation']]"
   ]
  },
  {
   "cell_type": "code",
   "execution_count": 154,
   "id": "abstract-steel",
   "metadata": {
    "scrolled": false
   },
   "outputs": [
    {
     "name": "stdout",
     "output_type": "stream",
     "text": [
      "Rows : 11, columns : 10\n"
     ]
    },
    {
     "data": {
      "application/vnd.jupyter.widget-view+json": {
       "model_id": "5f2d674b7cf540e08db2da0e5de77bb3",
       "version_major": 2,
       "version_minor": 0
      },
      "text/plain": [
       "interactive(children=(IntSlider(value=5, description='rows', max=11, min=5, readout=False), IntSlider(value=10…"
      ]
     },
     "metadata": {},
     "output_type": "display_data"
    }
   ],
   "source": [
    "gdf_viewer(prv_eau, rows=5)"
   ]
  },
  {
   "cell_type": "code",
   "execution_count": 155,
   "id": "forced-imaging",
   "metadata": {},
   "outputs": [],
   "source": [
    "an=an.transpose()\n",
    "an.reset_index(drop=True, inplace=True)"
   ]
  },
  {
   "cell_type": "code",
   "execution_count": 156,
   "id": "representative-firewall",
   "metadata": {},
   "outputs": [],
   "source": [
    "an=col_ren(an, 1)"
   ]
  },
  {
   "cell_type": "code",
   "execution_count": 157,
   "id": "incomplete-clark",
   "metadata": {},
   "outputs": [],
   "source": [
    "an.replace(r'<|>','', inplace=True, regex=True)\n",
    "an.replace(r'-',np.nan, inplace=True, regex=True)\n",
    "an.rename(columns={an.columns[0]:'ID_ech'}, inplace=True)"
   ]
  },
  {
   "cell_type": "code",
   "execution_count": 158,
   "id": "neither-transfer",
   "metadata": {},
   "outputs": [],
   "source": [
    "an.drop(list(range(5)), axis=0, inplace=True)\n",
    "an.reset_index(drop=True, inplace=True)"
   ]
  },
  {
   "cell_type": "code",
   "execution_count": 159,
   "id": "written-humanity",
   "metadata": {},
   "outputs": [
    {
     "name": "stdout",
     "output_type": "stream",
     "text": [
      "\n",
      "Columns dropped :['METAUX LOURDS', 'Chrome VI', 'CYANURES', 'COMPOSES AROMATIQUES VOLATILS', 'PHENOLS', 'crésols (total)', 'CHLOROPHENOLS', '2-chlorophénol', 'monochlorophénol total', 'dichlorophénol total', '2,4,5-trichlorophénol', '2,4,6-trichlorophénol', 'trichlorophénol total', '2,3,4,6- tétrachlorophénol', 'tétrachlorophénol total', 'pentachlorophénol', 'HYDROCARBURES AROMATIQUES POLYCYCLIQUES', 'COMPOSES ORGANOCHLORES VOLATILS', 'CHLOROBENZENES', 'monochlorobenzène', '1,3-dichlorobenzène', '1,2-dichlorobenzène', '1,4-Dichlorobenzène', '1,2,4,5- et 1,2,3,5-tétrachlorobenzènes', 'pentachlorobenzène', 'hexachlorobenzène', 'HYDROCARBURES TOTAUX', 'METHYL-TERT-BUTYL-ETHER', 'POLYCHLOROBIPHENYLS (PCB)', 'PCB totaux (7)', 'AUTRES ANALYSES ', 'Teneur mesurée (souligne/gras)', 'Teneur mesurée (gras/grisé)', \"(*) CP = Campagne de prélèvements; Ex = Expertise; ES = Etude de sol; EO = Etude d'orientation; EC = Etude de caractérisation; SA = Suivi d'assainissement\", '(**) ib : imperméable (béton) ; ih : imperméable hydrocarboné ; p : perméable (gravier, fissuré,…) ; tvh : terres végétation haute ; tvb : terres végétation basse ']\n",
      "\n"
     ]
    }
   ],
   "source": [
    "an.drop(columns=an.columns[[-6,-5]], axis=1, inplace=True)\n",
    "an=na_col_drop(an,1)\n",
    "an.insert(1,'Type_ech','Eau')"
   ]
  },
  {
   "cell_type": "code",
   "execution_count": 160,
   "id": "enclosed-abuse",
   "metadata": {},
   "outputs": [],
   "source": [
    "an=col_ren(an, name=pol_field_model, mode=1)"
   ]
  },
  {
   "cell_type": "code",
   "execution_count": 161,
   "id": "wired-flower",
   "metadata": {},
   "outputs": [
    {
     "name": "stdout",
     "output_type": "stream",
     "text": [
      "Rows : 11, columns : 70\n"
     ]
    },
    {
     "data": {
      "application/vnd.jupyter.widget-view+json": {
       "model_id": "7161388cbd9349c8bb1e1586cb6cde0e",
       "version_major": 2,
       "version_minor": 0
      },
      "text/plain": [
       "interactive(children=(IntSlider(value=5, description='rows', max=11, min=5, readout=False), IntSlider(value=12…"
      ]
     },
     "metadata": {},
     "output_type": "display_data"
    }
   ],
   "source": [
    "gdf_viewer(an, rows=5) "
   ]
  },
  {
   "cell_type": "code",
   "execution_count": 162,
   "id": "located-factor",
   "metadata": {},
   "outputs": [],
   "source": [
    "source_prv_eau=prv_eau\n",
    "source_an=source_an.append(an)"
   ]
  },
  {
   "cell_type": "code",
   "execution_count": 163,
   "id": "annoying-hawaii",
   "metadata": {
    "scrolled": true
   },
   "outputs": [
    {
     "name": "stdout",
     "output_type": "stream",
     "text": [
      "source_bh:0 ; source_pz:0 ; source_litho:0 ; source_Fac-uknw:0 ; source_an:36 ;\n",
      "source_prv_sol:25 ;source_prv_eau:11 ; source_mes_pz:0 ; source_mes_sol:0 ;\n"
     ]
    }
   ],
   "source": [
    "if not os.path.exists(tmp_dir):\n",
    "    os.makedirs(tmp_dir)\n",
    "\n",
    "#bh.to_csv(tmp_dir+'source_Boreholes.csv', index=False)\n",
    "pz.to_csv(tmp_dir+sheet+'_Piezometers.csv', index=False)\n",
    "#ouv.to_csv(tmp_dir+sheet+'_Unkown-facility.csv', index=False)\n",
    "#litho.to_csv(tmp_dir+sheet+'_Lithology.csv', index=False)\n",
    "#mes_pz.to_csv(tmp_dir+sheet+'_Measures.csv', index=False)\n",
    "#mes_sol.to_csv(tmp_dir+sheet+'_Measures-soil.csv', index=False)\n",
    "prv_eau.to_csv(tmp_dir+sheet+'_Samples-water.csv', index=False)\n",
    "#prv_sol.to_csv(tmp_dir+sheet+'_Samples-soil.csv', index=False)\n",
    "an.to_csv(tmp_dir+sheet+'_Analysis.csv', index=False)\n",
    "\n",
    "\n",
    "#source_bh.to_csv(tmp_dir+'source_Boreholes.csv', index=False)\n",
    "#source_pz.to_csv(tmp_dir+'source_Piezometers.csv', index=False)\n",
    "#source_ouv.to_csv(tmp_dir+'source_Unkown-facility.csv', index=False)\n",
    "#source_litho.to_csv(tmp_dir+'source_Lithology.csv', index=False)\n",
    "#source_mes_pz.to_csv(tmp_dir+'source_Measures.csv', index=False)\n",
    "#source_mes_sol.to_csv(tmp_dir+'source_Measures-soil.csv', index=False)\n",
    "source_prv_eau.to_csv(tmp_dir+'source_Samples-water.csv', index=False)\n",
    "#source_prv_sol.to_csv(tmp_dir+'source_Samples-soil.csv', index=False)\n",
    "source_an.to_csv(tmp_dir+'source_Analysis.csv', index=False)\n",
    "\n",
    "\n",
    "print(f'source_bh:{len(source_bh)} ; source_pz:{len(source_pz)} ; source_litho:{len(source_litho)} ; '\n",
    "     f'source_Fac-uknw:{len(source_ouv)} ; source_an:{len(source_an)} ;\\nsource_prv_sol:{len(source_prv_sol)} ;'\n",
    "     f'source_prv_eau:{len(source_prv_eau)} ; source_mes_pz:{len(source_mes_pz)} ; source_mes_sol:{len(source_mes_sol)} ;')"
   ]
  },
  {
   "cell_type": "markdown",
   "id": "consistent-garage",
   "metadata": {},
   "source": [
    "## 9-Ensemble des résultats Memoris version Seafile.xls\n",
    "* **Sheet : 'Résult SOL'**"
   ]
  },
  {
   "cell_type": "code",
   "execution_count": 164,
   "id": "intensive-medicine",
   "metadata": {},
   "outputs": [],
   "source": [
    "# New file, so the source variables must be overwritten !!\n",
    "_df=pd.DataFrame()\n",
    "source_mes_pz, source_mes_sol, source_pz, source_prv_eau, source_prv_sol =  _df, _df, _df, _df, _df\n",
    "source_ouv, source_an, source_litho, source_bh = _df, _df, _df, _df"
   ]
  },
  {
   "cell_type": "code",
   "execution_count": 165,
   "id": "large-intervention",
   "metadata": {},
   "outputs": [],
   "source": [
    "tmp_dir='../../CF_data/Result_traitem/Memoris_seafile/'\n",
    "sheet='Result_SOL'"
   ]
  },
  {
   "cell_type": "code",
   "execution_count": 166,
   "id": "democratic-christianity",
   "metadata": {},
   "outputs": [
    {
     "name": "stdout",
     "output_type": "stream",
     "text": [
      "2 NaN lines dropped\n",
      "\n",
      "Columns dropped :['Unnamed: 0', 'Unnamed: 2']\n",
      "\n",
      "Rows : 138, columns : 66\n"
     ]
    },
    {
     "name": "stderr",
     "output_type": "stream",
     "text": [
      "/home/yanathan/.local/share/virtualenvs/GSDMA-DRfwm83x/lib/python3.8/site-packages/pandas/core/frame.py:4305: SettingWithCopyWarning: \n",
      "A value is trying to be set on a copy of a slice from a DataFrame\n",
      "\n",
      "See the caveats in the documentation: https://pandas.pydata.org/pandas-docs/stable/user_guide/indexing.html#returning-a-view-versus-a-copy\n",
      "  return super().drop(\n"
     ]
    },
    {
     "data": {
      "application/vnd.jupyter.widget-view+json": {
       "model_id": "59299e92f9a84f529f1b8fe822e61b04",
       "version_major": 2,
       "version_minor": 0
      },
      "text/plain": [
       "interactive(children=(IntSlider(value=5, description='rows', max=138, min=5, readout=False), IntSlider(value=1…"
      ]
     },
     "metadata": {},
     "output_type": "display_data"
    }
   ],
   "source": [
    "df = pd.read_excel('../../CF_data/Data_UMONS/Contamination/Résultats et mesures Siterem/'\n",
    "                   'Ensemble des résultats Memoris version Seafile.xls', sheet_name='Résult SOL', skiprows=4)\n",
    "df=na_line_drop(df,0)\n",
    "df=na_col_drop(df,1)\n",
    "gdf_viewer(df, rows=5)"
   ]
  },
  {
   "cell_type": "code",
   "execution_count": 167,
   "id": "coastal-stable",
   "metadata": {},
   "outputs": [],
   "source": [
    "prv_sol=df.loc[:37]\n",
    "an=df.loc[38:]"
   ]
  },
  {
   "cell_type": "code",
   "execution_count": 168,
   "id": "adopted-thermal",
   "metadata": {},
   "outputs": [
    {
     "name": "stderr",
     "output_type": "stream",
     "text": [
      "/home/yanathan/.local/share/virtualenvs/GSDMA-DRfwm83x/lib/python3.8/site-packages/pandas/core/indexing.py:692: SettingWithCopyWarning: \n",
      "A value is trying to be set on a copy of a slice from a DataFrame\n",
      "\n",
      "See the caveats in the documentation: https://pandas.pydata.org/pandas-docs/stable/user_guide/indexing.html#returning-a-view-versus-a-copy\n",
      "  iloc._setitem_with_indexer(indexer, value, self.name)\n"
     ]
    }
   ],
   "source": [
    "an.loc[0.5] = df.loc[0] # put data on first line\n",
    "an = an.sort_index().reset_index(drop=True)"
   ]
  },
  {
   "cell_type": "code",
   "execution_count": 169,
   "id": "honest-wallace",
   "metadata": {},
   "outputs": [],
   "source": [
    "prv_sol=prv_sol.transpose()\n",
    "prv_sol.reset_index(drop=True, inplace=True)\n",
    "prv_sol=col_ren(prv_sol, 1)"
   ]
  },
  {
   "cell_type": "code",
   "execution_count": 170,
   "id": "potential-lender",
   "metadata": {},
   "outputs": [
    {
     "name": "stdout",
     "output_type": "stream",
     "text": [
      "\n",
      "Columns dropped :['col_1', \"Nom / description d'échantillon\", \"Nature de l'étude (*)\", 'Terrain', 'Epaisseur de remblais', 'Epaisseur alluvions', \"Nature de l'observation organoleptique\", 'LOCALISATION/AFFECTATION(S) - USAGE(S)', 'zone', 'parcelle (selon dénom.)', \"Type d'usage de fait actuel\", \"Type d'usage de fait futur\", \"Type d'usage utilisé pour comparer les résultats\", 'Lieux de prélèvement', 'X Lambert', 'Y Lambert', 'DESCRIPTION SOMMAIRE', 'Type de recouvrement de surface (***)', 'Sol en place (S : souillé, NS : non souillé)', 'Remblais de terre (S : souillé, NS : non souillé)', 'Remblais technique (S : souillé, NS : non souillé)', 'Déchet', 'Matières organiques', 'GRANULOMETRIE', 'Fraction argileuse']\n",
      "\n"
     ]
    }
   ],
   "source": [
    "prv_sol.drop(list(range(5)), axis=0, inplace=True)\n",
    "prv_sol.reset_index(drop=True, inplace=True)\n",
    "prv_sol=na_col_drop(prv_sol,1)\n",
    "prv_sol=na_line_drop(prv_sol,3)\n",
    "prv_sol.reset_index(drop=True, inplace=True)"
   ]
  },
  {
   "cell_type": "code",
   "execution_count": 171,
   "id": "optimum-snowboard",
   "metadata": {},
   "outputs": [],
   "source": [
    "prv_sol.drop(columns=prv_sol.columns[[-3,-4]], axis=1, inplace=True)"
   ]
  },
  {
   "cell_type": "code",
   "execution_count": 172,
   "id": "broke-emerald",
   "metadata": {},
   "outputs": [],
   "source": [
    "name=['ID_ech', 'Date_prv', 'Description','Organo', 'Long_for', 'Refus','Ech_top', 'Ech_base', 'MS','Fract_2','Fract_2+']\n",
    "prv_sol=col_ren(prv_sol, name=name, mode=1)"
   ]
  },
  {
   "cell_type": "code",
   "execution_count": 173,
   "id": "stable-amber",
   "metadata": {},
   "outputs": [
    {
     "data": {
      "text/plain": [
       "{'L', 'LA', 'LS', 'R', 'R '}"
      ]
     },
     "execution_count": 173,
     "metadata": {},
     "output_type": "execute_result"
    }
   ],
   "source": [
    "set(prv_sol['Description'])"
   ]
  },
  {
   "cell_type": "code",
   "execution_count": 174,
   "id": "eligible-cabinet",
   "metadata": {},
   "outputs": [],
   "source": [
    "for i in range(len(prv_sol['Description'])):\n",
    "    x = prv_sol.loc[i,'Description']\n",
    "    if x=='R' or x=='R ': prv_sol.loc[i,'Description']='Remblais'\n",
    "    elif x=='L': prv_sol.loc[i,'Description']='Limons'\n",
    "    elif x=='LA': prv_sol.loc[i,'Description']='Limons et argiles'\n",
    "    elif x=='LS': prv_sol.loc[i,'Description']='Limons et sables'\n",
    "\n",
    "prv_sol['Refus']=prv_sol['Refus'].apply(lambda x: 'x' if not re.search('#', str(x)) else '')\n",
    "prv_sol.insert(1,'Type_ech','Sol')"
   ]
  },
  {
   "cell_type": "code",
   "execution_count": 175,
   "id": "infinite-reading",
   "metadata": {
    "scrolled": false
   },
   "outputs": [
    {
     "name": "stdout",
     "output_type": "stream",
     "text": [
      "Rows : 60, columns : 12\n"
     ]
    },
    {
     "data": {
      "application/vnd.jupyter.widget-view+json": {
       "model_id": "6eb948ca8fdd422d836861e7549f84c6",
       "version_major": 2,
       "version_minor": 0
      },
      "text/plain": [
       "interactive(children=(IntSlider(value=3, description='rows', max=60, min=3, readout=False), IntSlider(value=12…"
      ]
     },
     "metadata": {},
     "output_type": "display_data"
    }
   ],
   "source": [
    "gdf_viewer(prv_sol, rows=3)"
   ]
  },
  {
   "cell_type": "code",
   "execution_count": 176,
   "id": "unauthorized-optimization",
   "metadata": {},
   "outputs": [],
   "source": [
    "an=an.transpose()\n",
    "an.reset_index(drop=True, inplace=True)"
   ]
  },
  {
   "cell_type": "code",
   "execution_count": 177,
   "id": "corporate-restriction",
   "metadata": {},
   "outputs": [],
   "source": [
    "an=col_ren(an, 1)"
   ]
  },
  {
   "cell_type": "code",
   "execution_count": 178,
   "id": "diagnostic-archives",
   "metadata": {},
   "outputs": [],
   "source": [
    "an.replace(r'<|>','', inplace=True, regex=True)\n",
    "an.replace(r'-',np.nan, inplace=True, regex=True)\n",
    "an.rename(columns={an.columns[0]:'ID_ech'}, inplace=True)"
   ]
  },
  {
   "cell_type": "code",
   "execution_count": 179,
   "id": "bright-tension",
   "metadata": {},
   "outputs": [
    {
     "name": "stdout",
     "output_type": "stream",
     "text": [
      "column(s) dropped: []\n"
     ]
    }
   ],
   "source": [
    "an=dble_col_drop(an)"
   ]
  },
  {
   "cell_type": "code",
   "execution_count": 180,
   "id": "short-jonathan",
   "metadata": {},
   "outputs": [
    {
     "name": "stdout",
     "output_type": "stream",
     "text": [
      "\n",
      "Columns dropped :['METAUX LOURDS', 'CYANURES', 'COMPOSES AROMATIQUES VOLATILS', 'BTEX totaux', 'PHENOLS', 'Indice phénol', 'HYDROCARBURES AROMATIQUES POLYCYCLIQUES', 'COMPOSES ORGANOHALOGENES VOLATILS', 'col_63', 'EOX (****)', 'HYDROCARBURES TOTAUX', 'Hydrocarbures totaux C10-C40', 'METHYL-TERT-BUTYL-ETHER', 'POLYCHLOROBIPHENYL (PCB)', 'PCB 28', 'PCB 52', 'PCB 101', 'PCB 118', 'PCB 138', 'PCB 153', 'PCB 180', 'PCB totaux (7)', 'F4/2M*', 'Teneur mesurée', 'Teneur mesurée (souligne/gras)', 'Teneur mesurée (gras/grisé)', \"(*) CP = Campagne de prélèvements; Ex = Expertise; ES = Etude de sol; EO = Etude d'orientation; EC = Etude de caractérisation; SA = Suivi d'assainissement\", '(**) L: limon, A: Argile, S: Sable, R: Remblai', '(***) ib : imperméable (béton) ; ih : imperméable hydrocarboné ; p : perméable (gravier, fissuré,…) ; tvh : terres végétation haute ; tvb : terres végétation basse ', '(****) 3 mg/kg = Seuil limite défini dans le GREO ', \"(1) l'échantillon n'a pas pu être extrait ni analysé en raison d'une interférence due à la matrice\"]\n",
      "\n"
     ]
    }
   ],
   "source": [
    "an.drop(list(range(5)), axis=0, inplace=True)\n",
    "an.reset_index(drop=True, inplace=True)\n",
    "an=na_col_drop(an,1)\n",
    "an.insert(1,'Type_ech','Sol')"
   ]
  },
  {
   "cell_type": "code",
   "execution_count": 181,
   "id": "incredible-parameter",
   "metadata": {},
   "outputs": [],
   "source": [
    "an=col_ren(an, name=pol_field_model, mode=1)"
   ]
  },
  {
   "cell_type": "code",
   "execution_count": 182,
   "id": "fleet-enemy",
   "metadata": {
    "scrolled": true
   },
   "outputs": [
    {
     "name": "stdout",
     "output_type": "stream",
     "text": [
      "Rows : 60, columns : 71\n"
     ]
    },
    {
     "data": {
      "application/vnd.jupyter.widget-view+json": {
       "model_id": "72863e7291e44bae98d53149cc38f92f",
       "version_major": 2,
       "version_minor": 0
      },
      "text/plain": [
       "interactive(children=(IntSlider(value=5, description='rows', max=60, min=5, readout=False), IntSlider(value=12…"
      ]
     },
     "metadata": {},
     "output_type": "display_data"
    }
   ],
   "source": [
    "gdf_viewer(an, rows=5) "
   ]
  },
  {
   "cell_type": "code",
   "execution_count": 183,
   "id": "synthetic-course",
   "metadata": {},
   "outputs": [],
   "source": [
    "source_prv_sol=prv_sol\n",
    "source_an=an"
   ]
  },
  {
   "cell_type": "code",
   "execution_count": 184,
   "id": "wireless-cycling",
   "metadata": {
    "scrolled": true
   },
   "outputs": [
    {
     "name": "stdout",
     "output_type": "stream",
     "text": [
      "source_bh:0 ; source_pz:0 ; source_litho:0 ; source_Fac-uknw:0 ; source_an:60 ;\n",
      "source_prv_sol:60 ;source_prv_eau:0 ; source_mes_pz:0 ; source_mes_sol:0 ;\n"
     ]
    }
   ],
   "source": [
    "if not os.path.exists(tmp_dir):\n",
    "    os.makedirs(tmp_dir)\n",
    "\n",
    "#bh.to_csv(tmp_dir+'source_Boreholes.csv', index=False)\n",
    "#pz.to_csv(tmp_dir+sheet+'_Piezometers.csv', index=False)\n",
    "#ouv.to_csv(tmp_dir+sheet+'_Unkown-facility.csv', index=False)\n",
    "#litho.to_csv(tmp_dir+sheet+'_Lithology.csv', index=False)\n",
    "#mes_pz.to_csv(tmp_dir+sheet+'_Measures.csv', index=False)\n",
    "#mes_sol.to_csv(tmp_dir+sheet+'_Measures-soil.csv', index=False)\n",
    "#prv_eau.to_csv(tmp_dir+sheet+'_Samples-water.csv', index=False)\n",
    "prv_sol.to_csv(tmp_dir+sheet+'_Samples-soil.csv', index=False)\n",
    "an.to_csv(tmp_dir+sheet+'_Analysis.csv', index=False)\n",
    "\n",
    "\n",
    "#source_bh.to_csv(tmp_dir+'source_Boreholes.csv', index=False)\n",
    "#source_pz.to_csv(tmp_dir+'source_Piezometers.csv', index=False)\n",
    "#source_ouv.to_csv(tmp_dir+'source_Unkown-facility.csv', index=False)\n",
    "#source_litho.to_csv(tmp_dir+'source_Lithology.csv', index=False)\n",
    "#source_mes_pz.to_csv(tmp_dir+'source_Measures.csv', index=False)\n",
    "#source_mes_sol.to_csv(tmp_dir+'source_Measures-soil.csv', index=False)\n",
    "#source_prv_eau.to_csv(tmp_dir+'source_Samples-water.csv', index=False)\n",
    "source_prv_sol.to_csv(tmp_dir+'source_Samples-soil.csv', index=False)\n",
    "source_an.to_csv(tmp_dir+'source_Analysis.csv', index=False)\n",
    "\n",
    "\n",
    "print(f'source_bh:{len(source_bh)} ; source_pz:{len(source_pz)} ; source_litho:{len(source_litho)} ; '\n",
    "     f'source_Fac-uknw:{len(source_ouv)} ; source_an:{len(source_an)} ;\\nsource_prv_sol:{len(source_prv_sol)} ;'\n",
    "     f'source_prv_eau:{len(source_prv_eau)} ; source_mes_pz:{len(source_mes_pz)} ; source_mes_sol:{len(source_mes_sol)} ;')"
   ]
  },
  {
   "cell_type": "markdown",
   "id": "scientific-providence",
   "metadata": {},
   "source": [
    "* **Sheet : 'Résult EAU'**"
   ]
  },
  {
   "cell_type": "code",
   "execution_count": 185,
   "id": "european-pendant",
   "metadata": {},
   "outputs": [],
   "source": [
    "tmp_dir='../../CF_data/Result_traitem/Memoris_seafile/'\n",
    "sheet='Result_eau'"
   ]
  },
  {
   "cell_type": "code",
   "execution_count": 186,
   "id": "dramatic-wilderness",
   "metadata": {},
   "outputs": [
    {
     "name": "stdout",
     "output_type": "stream",
     "text": [
      "4 NaN lines dropped\n",
      "\n",
      "Columns dropped :['Unnamed: 0', 'Unnamed: 2']\n",
      "\n",
      "Rows : 154, columns : 51\n"
     ]
    },
    {
     "name": "stderr",
     "output_type": "stream",
     "text": [
      "/home/yanathan/.local/share/virtualenvs/GSDMA-DRfwm83x/lib/python3.8/site-packages/pandas/core/frame.py:4305: SettingWithCopyWarning: \n",
      "A value is trying to be set on a copy of a slice from a DataFrame\n",
      "\n",
      "See the caveats in the documentation: https://pandas.pydata.org/pandas-docs/stable/user_guide/indexing.html#returning-a-view-versus-a-copy\n",
      "  return super().drop(\n"
     ]
    },
    {
     "data": {
      "application/vnd.jupyter.widget-view+json": {
       "model_id": "7e08627f2ab244038a158fb18e386962",
       "version_major": 2,
       "version_minor": 0
      },
      "text/plain": [
       "interactive(children=(IntSlider(value=5, description='rows', max=154, min=5, readout=False), IntSlider(value=1…"
      ]
     },
     "metadata": {},
     "output_type": "display_data"
    }
   ],
   "source": [
    "df = pd.read_excel('../../CF_data/Data_UMONS/Contamination/Résultats et mesures Siterem/'\n",
    "                   'Ensemble des résultats Memoris version Seafile.xls', sheet_name='Résult EAU', skiprows=4)\n",
    "df=na_line_drop(df,0)\n",
    "df=na_col_drop(df,1)\n",
    "df.replace(r'<|>','', inplace=True, regex=True)\n",
    "df.replace(r'-$',np.nan, inplace=True, regex=True)\n",
    "\n",
    "gdf_viewer(df, rows=5)"
   ]
  },
  {
   "cell_type": "code",
   "execution_count": 187,
   "id": "average-humor",
   "metadata": {},
   "outputs": [],
   "source": [
    "prv_eau=df.loc[:32]\n",
    "an=df.loc[33:]"
   ]
  },
  {
   "cell_type": "code",
   "execution_count": 188,
   "id": "lovely-priority",
   "metadata": {},
   "outputs": [
    {
     "name": "stderr",
     "output_type": "stream",
     "text": [
      "/home/yanathan/.local/share/virtualenvs/GSDMA-DRfwm83x/lib/python3.8/site-packages/pandas/core/indexing.py:692: SettingWithCopyWarning: \n",
      "A value is trying to be set on a copy of a slice from a DataFrame\n",
      "\n",
      "See the caveats in the documentation: https://pandas.pydata.org/pandas-docs/stable/user_guide/indexing.html#returning-a-view-versus-a-copy\n",
      "  iloc._setitem_with_indexer(indexer, value, self.name)\n"
     ]
    }
   ],
   "source": [
    "an.loc[0.5] = df.loc[0] # put data on first line\n",
    "an = an.sort_index().reset_index(drop=True)"
   ]
  },
  {
   "cell_type": "code",
   "execution_count": 189,
   "id": "hourly-specialist",
   "metadata": {},
   "outputs": [],
   "source": [
    "prv_eau=prv_eau.transpose()\n",
    "prv_eau.reset_index(drop=True, inplace=True)\n",
    "prv_eau=col_ren(prv_eau, 1)"
   ]
  },
  {
   "cell_type": "code",
   "execution_count": 190,
   "id": "convertible-failing",
   "metadata": {},
   "outputs": [],
   "source": [
    "prv_eau['CE']=prv_eau['CE'].apply(lambda x: pd.to_numeric(x)/1000 \n",
    "                                  if re.search('^\\d+', str(x)) and not pd.isnull(x) else np.nan)"
   ]
  },
  {
   "cell_type": "code",
   "execution_count": 191,
   "id": "distinct-vinyl",
   "metadata": {},
   "outputs": [],
   "source": [
    "prv_eau.drop(list(range(5)), axis=0, inplace=True)\n",
    "prv_eau.reset_index(drop=True, inplace=True)"
   ]
  },
  {
   "cell_type": "code",
   "execution_count": 192,
   "id": "supreme-minority",
   "metadata": {},
   "outputs": [
    {
     "name": "stdout",
     "output_type": "stream",
     "text": [
      "column(s) dropped: ['21:DESCRIPTION SOMMAIRE', '27:Prof. arrêt du forage']\n"
     ]
    }
   ],
   "source": [
    "prv_eau=dble_col_drop(prv_eau)"
   ]
  },
  {
   "cell_type": "code",
   "execution_count": 193,
   "id": "elegant-underwear",
   "metadata": {},
   "outputs": [
    {
     "name": "stdout",
     "output_type": "stream",
     "text": [
      "\n",
      "Columns dropped :['col_1', \"Nature de l'étude (*)\", 'Observations organoleptiques', 'LOCALISATION/AFFECTATION(S) - USAGE(S)', 'parcelle (selon dénom.)', \"Type d'usage de fait actuel\", \"Type d'usage de fait futur\", \"Type d'usage utilisé pour comparer les résultats\", 'Lieux de prélèvement', 'DESCRIPTION SOMMAIRE', 'Type de recouvrement de surface (**)', 'Sol en place (S : souillé, NS : non souillé)', 'Remblais de terre (S : souillé, NS : non souillé)', 'Remblais technique (S : souillé, NS : non souillé)', 'Déchet', 'PARAMETRES PHYSICO-CHIMIQUES ', 'ORP']\n",
      "\n"
     ]
    }
   ],
   "source": [
    "prv_eau=na_col_drop(prv_eau,1)\n",
    "prv_eau=na_line_drop(prv_eau,3)\n",
    "prv_eau.reset_index(drop=True, inplace=True)"
   ]
  },
  {
   "cell_type": "code",
   "execution_count": 194,
   "id": "still-shade",
   "metadata": {},
   "outputs": [],
   "source": [
    "prv_eau.drop(columns=prv_eau.columns[[2]], axis=2, inplace=True)"
   ]
  },
  {
   "cell_type": "code",
   "execution_count": 195,
   "id": "obvious-emission",
   "metadata": {},
   "outputs": [],
   "source": [
    "name=['ID_ech', 'Date_prv','Affectation','X', 'Y','Zsol', 'Long_for','Prof_crep','Long_pz_sol', \n",
    "      'Niv_eau_sol','pH', 'CE', 'T']\n",
    "prv_eau=col_ren(prv_eau, name=name, mode=1)\n",
    "prv_eau.insert(1,'Type_ech','Eau')"
   ]
  },
  {
   "cell_type": "code",
   "execution_count": 196,
   "id": "diverse-action",
   "metadata": {},
   "outputs": [],
   "source": [
    "prv_eau['Prof_crep'].replace('\\[|\\]','', regex=True, inplace=True)\n",
    "for i in range(len(prv_eau)):\n",
    "    c=prv_eau.loc[i,'Prof_crep']\n",
    "    prv_eau.loc[i,'Equip_top']=c.split('-')[0]\n",
    "    prv_eau.loc[i,'Equip_base']=c.split('-')[1]\n",
    "    \n",
    "prv_eau.drop(columns=['Prof_crep'], inplace=True)\n",
    "prv_eau['Type_equip'] = 'Crepine'"
   ]
  },
  {
   "cell_type": "code",
   "execution_count": 197,
   "id": "treated-benchmark",
   "metadata": {},
   "outputs": [],
   "source": [
    "prv_eau['ID_ech'].replace('Canne ', 'Can', inplace=True, regex=True)\n",
    "prv_eau['ID_ech'].replace('\\n', ' ', inplace=True, regex=True)"
   ]
  },
  {
   "cell_type": "code",
   "execution_count": 198,
   "id": "rural-termination",
   "metadata": {
    "scrolled": true
   },
   "outputs": [
    {
     "name": "stderr",
     "output_type": "stream",
     "text": [
      "/home/yanathan/.local/share/virtualenvs/GSDMA-DRfwm83x/lib/python3.8/site-packages/pandas/core/frame.py:4438: SettingWithCopyWarning: \n",
      "A value is trying to be set on a copy of a slice from a DataFrame\n",
      "\n",
      "See the caveats in the documentation: https://pandas.pydata.org/pandas-docs/stable/user_guide/indexing.html#returning-a-view-versus-a-copy\n",
      "  return super().rename(\n"
     ]
    }
   ],
   "source": [
    "pz=prv_eau[['ID_ech', 'X', 'Y', 'Zsol', 'Long_for','Long_pz_sol', 'Equip_top', 'Equip_base', 'Type_equip']]\n",
    "pz.rename(columns={'ID_ech':'ID'}, inplace=True)"
   ]
  },
  {
   "cell_type": "code",
   "execution_count": 199,
   "id": "clean-following",
   "metadata": {},
   "outputs": [
    {
     "name": "stderr",
     "output_type": "stream",
     "text": [
      "/home/yanathan/.local/share/virtualenvs/GSDMA-DRfwm83x/lib/python3.8/site-packages/pandas/core/indexing.py:1637: SettingWithCopyWarning: \n",
      "A value is trying to be set on a copy of a slice from a DataFrame\n",
      "\n",
      "See the caveats in the documentation: https://pandas.pydata.org/pandas-docs/stable/user_guide/indexing.html#returning-a-view-versus-a-copy\n",
      "  self._setitem_single_block(indexer, value, name)\n",
      "/home/yanathan/.local/share/virtualenvs/GSDMA-DRfwm83x/lib/python3.8/site-packages/pandas/core/indexing.py:692: SettingWithCopyWarning: \n",
      "A value is trying to be set on a copy of a slice from a DataFrame\n",
      "\n",
      "See the caveats in the documentation: https://pandas.pydata.org/pandas-docs/stable/user_guide/indexing.html#returning-a-view-versus-a-copy\n",
      "  iloc._setitem_with_indexer(indexer, value, self.name)\n"
     ]
    }
   ],
   "source": [
    "for i in range(len(pz.ID)):\n",
    "    c=pz.loc[i, 'ID']\n",
    "    pz.loc[i, 'ID']=re.search(\"(\\w+\\d+)\",c).group(1)"
   ]
  },
  {
   "cell_type": "code",
   "execution_count": 200,
   "id": "numerical-lithuania",
   "metadata": {},
   "outputs": [
    {
     "name": "stderr",
     "output_type": "stream",
     "text": [
      "<ipython-input-200-5e1af1ec470d>:1: SettingWithCopyWarning: \n",
      "A value is trying to be set on a copy of a slice from a DataFrame\n",
      "\n",
      "See the caveats in the documentation: https://pandas.pydata.org/pandas-docs/stable/user_guide/indexing.html#returning-a-view-versus-a-copy\n",
      "  pz.drop_duplicates(subset=['ID'], keep='first', ignore_index=True, inplace=True)\n"
     ]
    }
   ],
   "source": [
    "pz.drop_duplicates(subset=['ID'], keep='first', ignore_index=True, inplace=True)"
   ]
  },
  {
   "cell_type": "code",
   "execution_count": 201,
   "id": "mechanical-offer",
   "metadata": {},
   "outputs": [],
   "source": [
    "prv_eau=prv_eau[['ID_ech', 'Date_prv', 'X', 'Y', 'Zsol','Niv_eau_sol', 'pH', 'CE', 'T','Affectation']]"
   ]
  },
  {
   "cell_type": "code",
   "execution_count": 202,
   "id": "bored-outdoors",
   "metadata": {
    "scrolled": true
   },
   "outputs": [
    {
     "name": "stdout",
     "output_type": "stream",
     "text": [
      "Rows : 45, columns : 10\n"
     ]
    },
    {
     "data": {
      "application/vnd.jupyter.widget-view+json": {
       "model_id": "07708f5862a24769be8437971ed60ebe",
       "version_major": 2,
       "version_minor": 0
      },
      "text/plain": [
       "interactive(children=(IntSlider(value=3, description='rows', max=45, min=3, readout=False), IntSlider(value=10…"
      ]
     },
     "metadata": {},
     "output_type": "display_data"
    }
   ],
   "source": [
    "gdf_viewer(prv_eau, rows=3)"
   ]
  },
  {
   "cell_type": "code",
   "execution_count": 203,
   "id": "collective-words",
   "metadata": {},
   "outputs": [],
   "source": [
    "an=an.transpose()\n",
    "an.reset_index(drop=True, inplace=True)"
   ]
  },
  {
   "cell_type": "code",
   "execution_count": 204,
   "id": "tested-cruise",
   "metadata": {},
   "outputs": [],
   "source": [
    "an=col_ren(an, 1)"
   ]
  },
  {
   "cell_type": "code",
   "execution_count": 205,
   "id": "bulgarian-little",
   "metadata": {},
   "outputs": [],
   "source": [
    "an.replace(r'<|>','', inplace=True, regex=True)\n",
    "an.replace(r'-',np.nan, inplace=True, regex=True)\n",
    "an.rename(columns={an.columns[0]:'ID_ech'}, inplace=True)"
   ]
  },
  {
   "cell_type": "code",
   "execution_count": 206,
   "id": "every-progress",
   "metadata": {},
   "outputs": [],
   "source": [
    "an.drop(list(range(5)), axis=0, inplace=True)\n",
    "an.reset_index(drop=True, inplace=True)"
   ]
  },
  {
   "cell_type": "code",
   "execution_count": 207,
   "id": "mexican-principal",
   "metadata": {},
   "outputs": [
    {
     "name": "stdout",
     "output_type": "stream",
     "text": [
      "column(s) dropped: ['104:nitrite', '106:nitrate', '112:ammonium', '117:Teneur mesurée']\n"
     ]
    }
   ],
   "source": [
    "an=dble_col_drop(an)"
   ]
  },
  {
   "cell_type": "code",
   "execution_count": 208,
   "id": "satisfied-italian",
   "metadata": {},
   "outputs": [
    {
     "name": "stdout",
     "output_type": "stream",
     "text": [
      "\n",
      "Columns dropped :['METAUX LOURDS', 'CYANURES', 'COMPOSES AROMATIQUES VOLATILS', 'PHENOLS', 'crésols (total)', 'CHLOROPHENOLS', '2-chlorophénol', 'monochlorophénol total', 'dichlorophénol total', '2,4,5-trichlorophénol', '2,4,6-trichlorophénol', 'trichlorophénol total', '2,3,4,6- tétrachlorophénol', 'tétrachlorophénol total', 'pentachlorophénol', 'HYDROCARBURES AROMATIQUES POLYCYCLIQUES', 'COMPOSES ORGANOCHLORES VOLATILS', 'CHLOROBENZENES', 'monochlorobenzène', '1,3-dichlorobenzène', '1,2-dichlorobenzène', '1,4-Dichlorobenzène', '1,2,4,5- et 1,2,3,5-tétrachlorobenzènes', 'pentachlorobenzène', 'hexachlorobenzène', 'HYDROCARBURES TOTAUX', 'METHYL-TERT-BUTYL-ETHER', 'POLYCHLOROBIPHENYLS (PCB)', 'PCB totaux (7)', 'AUTRES ANALYSES ', 'azote Kjeldahl', 'COMPOSES INORGANIQUES ', 'sulfures totaux', 'Teneur mesurée (souligne/gras)', 'Teneur mesurée (gras/grisé)', \"(*) CP = Campagne de prélèvements; Ex = Expertise; ES = Etude de sol; EO = Etude d'orientation; EC = Etude de caractérisation; SA = Suivi d'assainissement\", '(**) ib : imperméable (béton) ; ih : imperméable hydrocarboné ; p : perméable (gravier, fissuré,…) ; tvh : terres végétation haute ; tvb : terres végétation basse ']\n",
      "\n"
     ]
    }
   ],
   "source": [
    "an.drop(columns=an.columns[[-6,-5]], axis=1, inplace=True)\n",
    "an=na_col_drop(an,1)\n",
    "an.insert(1,'Type_ech','Eau')"
   ]
  },
  {
   "cell_type": "code",
   "execution_count": 209,
   "id": "surprised-portuguese",
   "metadata": {},
   "outputs": [],
   "source": [
    "an['ID_ech'].replace('Canne ', 'Can', inplace=True, regex=True)\n",
    "an['ID_ech'].replace('\\n', ' ', inplace=True, regex=True)"
   ]
  },
  {
   "cell_type": "code",
   "execution_count": 210,
   "id": "comfortable-mobility",
   "metadata": {},
   "outputs": [],
   "source": [
    "an=col_ren(an, name=pol_field_model, mode=1)"
   ]
  },
  {
   "cell_type": "code",
   "execution_count": 211,
   "id": "swedish-sensitivity",
   "metadata": {},
   "outputs": [
    {
     "name": "stdout",
     "output_type": "stream",
     "text": [
      "Rows : 45, columns : 80\n"
     ]
    },
    {
     "data": {
      "application/vnd.jupyter.widget-view+json": {
       "model_id": "653b1f19778246b69fda831463419275",
       "version_major": 2,
       "version_minor": 0
      },
      "text/plain": [
       "interactive(children=(IntSlider(value=5, description='rows', max=45, min=5, readout=False), IntSlider(value=12…"
      ]
     },
     "metadata": {},
     "output_type": "display_data"
    }
   ],
   "source": [
    "gdf_viewer(an, rows=5) "
   ]
  },
  {
   "cell_type": "code",
   "execution_count": 212,
   "id": "medieval-atmosphere",
   "metadata": {},
   "outputs": [],
   "source": [
    "source_pz=pz\n",
    "source_prv_eau=prv_eau\n",
    "source_an=source_an.append(an)"
   ]
  },
  {
   "cell_type": "code",
   "execution_count": 213,
   "id": "academic-basis",
   "metadata": {
    "scrolled": true
   },
   "outputs": [
    {
     "name": "stdout",
     "output_type": "stream",
     "text": [
      "source_bh:0 ; source_pz:30 ; source_litho:0 ; source_Fac-uknw:0 ; source_an:105 ;\n",
      "source_prv_sol:60 ;source_prv_eau:45 ; source_mes_pz:0 ; source_mes_sol:0 ;\n"
     ]
    }
   ],
   "source": [
    "if not os.path.exists(tmp_dir):\n",
    "    os.makedirs(tmp_dir)\n",
    "\n",
    "#bh.to_csv(tmp_dir+'source_Boreholes.csv', index=False)\n",
    "pz.to_csv(tmp_dir+sheet+'_Piezometers.csv', index=False)\n",
    "#ouv.to_csv(tmp_dir+sheet+'_Unkown-facility.csv', index=False)\n",
    "#litho.to_csv(tmp_dir+sheet+'_Lithology.csv', index=False)\n",
    "#mes_pz.to_csv(tmp_dir+sheet+'_Measures.csv', index=False)\n",
    "#mes_sol.to_csv(tmp_dir+sheet+'_Measures-soil.csv', index=False)\n",
    "prv_eau.to_csv(tmp_dir+sheet+'_Samples-water.csv', index=False)\n",
    "#prv_sol.to_csv(tmp_dir+sheet+'_Samples-soil.csv', index=False)\n",
    "an.to_csv(tmp_dir+sheet+'_Analysis.csv', index=False)\n",
    "\n",
    "\n",
    "#source_bh.to_csv(tmp_dir+'source_Boreholes.csv', index=False)\n",
    "source_pz.to_csv(tmp_dir+'source_Piezometers.csv', index=False)\n",
    "#source_ouv.to_csv(tmp_dir+'source_Unkown-facility.csv', index=False)\n",
    "#source_litho.to_csv(tmp_dir+'source_Lithology.csv', index=False)\n",
    "#source_mes_pz.to_csv(tmp_dir+'source_Measures.csv', index=False)\n",
    "#source_mes_sol.to_csv(tmp_dir+'source_Measures-soil.csv', index=False)\n",
    "source_prv_eau.to_csv(tmp_dir+'source_Samples-water.csv', index=False)\n",
    "#source_prv_sol.to_csv(tmp_dir+'source_Samples-soil.csv', index=False)\n",
    "source_an.to_csv(tmp_dir+'source_Analysis.csv', index=False)\n",
    "\n",
    "\n",
    "print(f'source_bh:{len(source_bh)} ; source_pz:{len(source_pz)} ; source_litho:{len(source_litho)} ; '\n",
    "     f'source_Fac-uknw:{len(source_ouv)} ; source_an:{len(source_an)} ;\\nsource_prv_sol:{len(source_prv_sol)} ;'\n",
    "     f'source_prv_eau:{len(source_prv_eau)} ; source_mes_pz:{len(source_mes_pz)} ; source_mes_sol:{len(source_mes_sol)} ;')"
   ]
  },
  {
   "cell_type": "markdown",
   "id": "indoor-spotlight",
   "metadata": {},
   "source": [
    "## 10-Résultats SOL container phyto t=0_décret sol.xls\n",
    "* **Sheet : 'Résult SOL'**"
   ]
  },
  {
   "cell_type": "code",
   "execution_count": 214,
   "id": "dangerous-northern",
   "metadata": {},
   "outputs": [],
   "source": [
    "# New file, so the source variables must be overwritten !!\n",
    "_df=pd.DataFrame()\n",
    "source_mes_pz, source_mes_sol, source_pz, source_prv_eau, source_prv_sol =  _df, _df, _df, _df, _df\n",
    "source_ouv, source_an, source_litho, source_bh = _df, _df, _df, _df"
   ]
  },
  {
   "cell_type": "code",
   "execution_count": 215,
   "id": "invalid-pressure",
   "metadata": {},
   "outputs": [],
   "source": [
    "tmp_dir='../../CF_data/Result_traitem/Container_phyto/'\n",
    "sheet='Result_SOL'"
   ]
  },
  {
   "cell_type": "code",
   "execution_count": 216,
   "id": "hungry-candle",
   "metadata": {},
   "outputs": [
    {
     "name": "stdout",
     "output_type": "stream",
     "text": [
      "2 NaN lines dropped\n",
      "\n",
      "Columns dropped :['Unnamed: 0', 'Unnamed: 2', 'Unnamed: 16', 'Unnamed: 17']\n",
      "\n",
      "Rows : 121, columns : 15\n"
     ]
    },
    {
     "name": "stderr",
     "output_type": "stream",
     "text": [
      "/home/yanathan/.local/share/virtualenvs/GSDMA-DRfwm83x/lib/python3.8/site-packages/pandas/core/frame.py:4305: SettingWithCopyWarning: \n",
      "A value is trying to be set on a copy of a slice from a DataFrame\n",
      "\n",
      "See the caveats in the documentation: https://pandas.pydata.org/pandas-docs/stable/user_guide/indexing.html#returning-a-view-versus-a-copy\n",
      "  return super().drop(\n"
     ]
    },
    {
     "data": {
      "application/vnd.jupyter.widget-view+json": {
       "model_id": "0472cf72fb2b4a34bda5532c145dcbd8",
       "version_major": 2,
       "version_minor": 0
      },
      "text/plain": [
       "interactive(children=(IntSlider(value=5, description='rows', max=121, min=5, readout=False), IntSlider(value=1…"
      ]
     },
     "metadata": {},
     "output_type": "display_data"
    }
   ],
   "source": [
    "df = pd.read_excel('../../CF_data/Data_UMONS/Contamination/Résultats et mesures Siterem/'\n",
    "                   'Résultats SOL container phyto t=0_décret sol.xls', sheet_name='Résult SOL', skiprows=4)\n",
    "df=na_line_drop(df,0)\n",
    "df=na_col_drop(df,1)\n",
    "df.replace(r'<|>','', inplace=True, regex=True)\n",
    "df.replace(r'-$',np.nan, inplace=True, regex=True)\n",
    "\n",
    "gdf_viewer(df, rows=5)"
   ]
  },
  {
   "cell_type": "code",
   "execution_count": 217,
   "id": "ongoing-senate",
   "metadata": {},
   "outputs": [],
   "source": [
    "prv_sol=df.loc[:21]\n",
    "an=df.loc[22:]"
   ]
  },
  {
   "cell_type": "code",
   "execution_count": 218,
   "id": "spare-medicare",
   "metadata": {},
   "outputs": [
    {
     "name": "stderr",
     "output_type": "stream",
     "text": [
      "/home/yanathan/.local/share/virtualenvs/GSDMA-DRfwm83x/lib/python3.8/site-packages/pandas/core/indexing.py:692: SettingWithCopyWarning: \n",
      "A value is trying to be set on a copy of a slice from a DataFrame\n",
      "\n",
      "See the caveats in the documentation: https://pandas.pydata.org/pandas-docs/stable/user_guide/indexing.html#returning-a-view-versus-a-copy\n",
      "  iloc._setitem_with_indexer(indexer, value, self.name)\n"
     ]
    }
   ],
   "source": [
    "an.loc[0.5] = df.loc[0] # put data on first line\n",
    "an = an.sort_index().reset_index(drop=True)"
   ]
  },
  {
   "cell_type": "code",
   "execution_count": 219,
   "id": "tight-response",
   "metadata": {},
   "outputs": [],
   "source": [
    "prv_sol=prv_sol.transpose()\n",
    "prv_sol.reset_index(drop=True, inplace=True)\n",
    "prv_sol=col_ren(prv_sol, 1)"
   ]
  },
  {
   "cell_type": "code",
   "execution_count": 220,
   "id": "brown-sarah",
   "metadata": {},
   "outputs": [
    {
     "name": "stdout",
     "output_type": "stream",
     "text": [
      "column(s) dropped: ['8:Autre zone suspecte investiguée']\n"
     ]
    }
   ],
   "source": [
    "prv_sol=dble_col_drop(prv_sol)"
   ]
  },
  {
   "cell_type": "code",
   "execution_count": 221,
   "id": "comparative-tackle",
   "metadata": {},
   "outputs": [
    {
     "name": "stdout",
     "output_type": "stream",
     "text": [
      "\n",
      "Columns dropped :['Matières organiques', 'SPP/zone suspecte invetiguée', 'Autre zone suspecte investiguée', 'Parcelle', 'X Lambert', 'Y Lambert', \"Type d'étude (*)\", 'Refus de forage', 'Terrain naturel/Remblai (**)', 'Organoleptique couleur suspecte', 'Organoleptique odeur intensité (***)', 'Organoleptique odeur type', 'GRANULOMETRIE']\n",
      "\n",
      "4 NaN lines dropped\n"
     ]
    },
    {
     "name": "stderr",
     "output_type": "stream",
     "text": [
      "/home/yanathan/.local/share/virtualenvs/GSDMA-DRfwm83x/lib/python3.8/site-packages/pandas/core/frame.py:4305: SettingWithCopyWarning: \n",
      "A value is trying to be set on a copy of a slice from a DataFrame\n",
      "\n",
      "See the caveats in the documentation: https://pandas.pydata.org/pandas-docs/stable/user_guide/indexing.html#returning-a-view-versus-a-copy\n",
      "  return super().drop(\n"
     ]
    }
   ],
   "source": [
    "prv_sol.drop(list(range(5)), axis=0, inplace=True)\n",
    "prv_sol.reset_index(drop=True, inplace=True)\n",
    "prv_sol=na_col_drop(prv_sol,2)\n",
    "prv_sol=na_line_drop(prv_sol,3)\n",
    "prv_sol.reset_index(drop=True, inplace=True)"
   ]
  },
  {
   "cell_type": "code",
   "execution_count": 222,
   "id": "prospective-layer",
   "metadata": {},
   "outputs": [],
   "source": [
    "prv_sol.drop(columns=prv_sol.columns[[-3]], axis=1, inplace=True)"
   ]
  },
  {
   "cell_type": "code",
   "execution_count": 223,
   "id": "center-dispatch",
   "metadata": {},
   "outputs": [],
   "source": [
    "name=['ID_ech', 'Ech_top', 'Ech_base','MS','Date_prv','Fract_2','Fract_2+']\n",
    "prv_sol=col_ren(prv_sol, name=name, mode=1)\n",
    "prv_sol=prv_sol.query('ID_ech==ID_ech')\n",
    "prv_sol.insert(1,'Type_ech','Sol')"
   ]
  },
  {
   "cell_type": "code",
   "execution_count": 224,
   "id": "human-study",
   "metadata": {
    "scrolled": false
   },
   "outputs": [
    {
     "name": "stdout",
     "output_type": "stream",
     "text": [
      "Rows : 5, columns : 8\n"
     ]
    },
    {
     "data": {
      "application/vnd.jupyter.widget-view+json": {
       "model_id": "57c84cd893c94068b5846448d65f6f10",
       "version_major": 2,
       "version_minor": 0
      },
      "text/plain": [
       "interactive(children=(IntSlider(value=3, description='rows', max=5, min=3, readout=False), IntSlider(value=8, …"
      ]
     },
     "metadata": {},
     "output_type": "display_data"
    }
   ],
   "source": [
    "gdf_viewer(prv_sol, rows=3)"
   ]
  },
  {
   "cell_type": "code",
   "execution_count": 225,
   "id": "direct-fisher",
   "metadata": {},
   "outputs": [],
   "source": [
    "an=an.transpose()\n",
    "an.reset_index(drop=True, inplace=True)"
   ]
  },
  {
   "cell_type": "code",
   "execution_count": 226,
   "id": "radio-arnold",
   "metadata": {},
   "outputs": [],
   "source": [
    "an=col_ren(an, 1)"
   ]
  },
  {
   "cell_type": "code",
   "execution_count": 227,
   "id": "fixed-continuity",
   "metadata": {},
   "outputs": [],
   "source": [
    "an.replace(r'<|>','', inplace=True, regex=True)\n",
    "an.replace(r'-',np.nan, inplace=True, regex=True)\n",
    "an.rename(columns={an.columns[0]:'ID_ech'}, inplace=True)"
   ]
  },
  {
   "cell_type": "code",
   "execution_count": 228,
   "id": "cubic-graham",
   "metadata": {},
   "outputs": [
    {
     "name": "stdout",
     "output_type": "stream",
     "text": [
      "column(s) dropped: ['92:Teneur mesurée', '93:Teneur mesurée', '94:Teneur mesurée']\n"
     ]
    }
   ],
   "source": [
    "an=dble_col_drop(an)"
   ]
  },
  {
   "cell_type": "code",
   "execution_count": 229,
   "id": "selective-broad",
   "metadata": {},
   "outputs": [
    {
     "name": "stdout",
     "output_type": "stream",
     "text": [
      "\n",
      "Columns dropped :['METAUX LOURDS', 'Cobalt', 'CYANURES', 'COMPOSES AROMATIQUES VOLATILS', 'BTEX totaux', 'PHENOLS', 'Indice phénol', 'HYDROCARBURES AROMATIQUES POLYCYCLIQUES', 'COMPOSES ORGANOHALOGENES VOLATILS', 'col_64', 'EOX (****)', 'HYDROCARBURES TOTAUX', 'METHYL-TERT-BUTYL-ETHER', 'POLYCHLOROBIPHENYL (PCB)', 'PCB 28', 'PCB 52', 'PCB 101', 'PCB 118', 'PCB 138', 'PCB 153', 'PCB 180', 'PCB totaux (7)', 'Teneur mesurée', \"VR : Valeur de référence; VS : Valeur seuil; VI : Valeur d'intervention\", \"(*) RP : Rapport de prélèvements; ES : Etude de sol; EO : Etude d'orientation; EC : Etude de caractérisation; SA : Suivi d'assainissement; EF : Evaluation finale\", '(**) TN : Terrain naturel; R : Remblai', \"(***) - : Pas d'impression organoleptique; + : Impression organoleptique faible; ++ : Impression organoleptique forte\", '(****) 3 mg/kg = Seuil limite défini dans le GREO ']\n",
      "\n"
     ]
    }
   ],
   "source": [
    "an.drop(list(range(5)), axis=0, inplace=True)\n",
    "an.reset_index(drop=True, inplace=True)\n",
    "an=na_col_drop(an,1)\n",
    "an.insert(1,'Type_ech','Sol')"
   ]
  },
  {
   "cell_type": "code",
   "execution_count": 230,
   "id": "outstanding-thickness",
   "metadata": {},
   "outputs": [],
   "source": [
    "an=col_ren(an, name=pol_field_model, mode=1)"
   ]
  },
  {
   "cell_type": "code",
   "execution_count": 231,
   "id": "growing-childhood",
   "metadata": {
    "scrolled": true
   },
   "outputs": [
    {
     "name": "stdout",
     "output_type": "stream",
     "text": [
      "Rows : 9, columns : 70\n"
     ]
    },
    {
     "data": {
      "application/vnd.jupyter.widget-view+json": {
       "model_id": "c3708f2cd7504cc78388d59153a529a3",
       "version_major": 2,
       "version_minor": 0
      },
      "text/plain": [
       "interactive(children=(IntSlider(value=5, description='rows', max=9, min=5, readout=False), IntSlider(value=12,…"
      ]
     },
     "metadata": {},
     "output_type": "display_data"
    }
   ],
   "source": [
    "gdf_viewer(an, rows=5) "
   ]
  },
  {
   "cell_type": "code",
   "execution_count": 232,
   "id": "attempted-longer",
   "metadata": {},
   "outputs": [],
   "source": [
    "source_prv_sol=prv_sol\n",
    "source_an=an"
   ]
  },
  {
   "cell_type": "code",
   "execution_count": 233,
   "id": "deluxe-berlin",
   "metadata": {
    "scrolled": true
   },
   "outputs": [
    {
     "name": "stdout",
     "output_type": "stream",
     "text": [
      "source_bh:0 ; source_pz:0 ; source_litho:0 ; source_Fac-uknw:0 ; source_an:9 ;\n",
      "source_prv_sol:5 ;source_prv_eau:0 ; source_mes_pz:0 ; source_mes_sol:0 ;\n"
     ]
    }
   ],
   "source": [
    "if not os.path.exists(tmp_dir):\n",
    "    os.makedirs(tmp_dir)\n",
    "\n",
    "#bh.to_csv(tmp_dir+'source_Boreholes.csv', index=False)\n",
    "#pz.to_csv(tmp_dir+sheet+'_Piezometers.csv', index=False)\n",
    "#ouv.to_csv(tmp_dir+sheet+'_Unkown-facility.csv', index=False)\n",
    "#litho.to_csv(tmp_dir+sheet+'_Lithology.csv', index=False)\n",
    "#mes_pz.to_csv(tmp_dir+sheet+'_Measures.csv', index=False)\n",
    "#mes_sol.to_csv(tmp_dir+sheet+'_Measures-soil.csv', index=False)\n",
    "#prv_eau.to_csv(tmp_dir+sheet+'_Samples-water.csv', index=False)\n",
    "prv_sol.to_csv(tmp_dir+sheet+'_Samples-soil.csv', index=False)\n",
    "an.to_csv(tmp_dir+sheet+'_Analysis.csv', index=False)\n",
    "\n",
    "\n",
    "#source_bh.to_csv(tmp_dir+'source_Boreholes.csv', index=False)\n",
    "#source_pz.to_csv(tmp_dir+'source_Piezometers.csv', index=False)\n",
    "#source_ouv.to_csv(tmp_dir+'source_Unkown-facility.csv', index=False)\n",
    "#source_litho.to_csv(tmp_dir+'source_Lithology.csv', index=False)\n",
    "#source_mes_pz.to_csv(tmp_dir+'source_Measures.csv', index=False)\n",
    "#source_mes_sol.to_csv(tmp_dir+'source_Measures-soil.csv', index=False)\n",
    "#source_prv_eau.to_csv(tmp_dir+'source_Samples-water.csv', index=False)\n",
    "source_prv_sol.to_csv(tmp_dir+'source_Samples-soil.csv', index=False)\n",
    "source_an.to_csv(tmp_dir+'source_Analysis.csv', index=False)\n",
    "\n",
    "\n",
    "print(f'source_bh:{len(source_bh)} ; source_pz:{len(source_pz)} ; source_litho:{len(source_litho)} ; '\n",
    "     f'source_Fac-uknw:{len(source_ouv)} ; source_an:{len(source_an)} ;\\nsource_prv_sol:{len(source_prv_sol)} ;'\n",
    "     f'source_prv_eau:{len(source_prv_eau)} ; source_mes_pz:{len(source_mes_pz)} ; source_mes_sol:{len(source_mes_sol)} ;')"
   ]
  },
  {
   "cell_type": "markdown",
   "id": "static-diversity",
   "metadata": {},
   "source": [
    "* **Sheet : 'Paramètres agro.'**"
   ]
  },
  {
   "cell_type": "code",
   "execution_count": 234,
   "id": "shaped-coating",
   "metadata": {},
   "outputs": [],
   "source": [
    "tmp_dir='../../CF_data/Result_traitem/Container_phyto/'\n",
    "sheet='Param_agro'"
   ]
  },
  {
   "cell_type": "code",
   "execution_count": 235,
   "id": "theoretical-defensive",
   "metadata": {},
   "outputs": [
    {
     "name": "stdout",
     "output_type": "stream",
     "text": [
      "1 NaN lines dropped\n",
      "\n",
      "Columns dropped :['Unnamed: 0', 'Unnamed: 1', 'Unnamed: 2']\n",
      "\n",
      "Rows : 28, columns : 10\n"
     ]
    },
    {
     "name": "stderr",
     "output_type": "stream",
     "text": [
      "/home/yanathan/.local/share/virtualenvs/GSDMA-DRfwm83x/lib/python3.8/site-packages/pandas/core/frame.py:4305: SettingWithCopyWarning: \n",
      "A value is trying to be set on a copy of a slice from a DataFrame\n",
      "\n",
      "See the caveats in the documentation: https://pandas.pydata.org/pandas-docs/stable/user_guide/indexing.html#returning-a-view-versus-a-copy\n",
      "  return super().drop(\n"
     ]
    },
    {
     "data": {
      "application/vnd.jupyter.widget-view+json": {
       "model_id": "07f845f04e3043a9ad0ea610492361ba",
       "version_major": 2,
       "version_minor": 0
      },
      "text/plain": [
       "interactive(children=(IntSlider(value=5, description='rows', max=28, min=5, readout=False), IntSlider(value=10…"
      ]
     },
     "metadata": {},
     "output_type": "display_data"
    }
   ],
   "source": [
    "df = pd.read_excel('../../CF_data/Data_UMONS/Contamination/Résultats et mesures Siterem/'\n",
    "                   'Résultats SOL container phyto t=0_décret sol.xls', sheet_name='Paramètres agro.', skiprows=4)\n",
    "df=na_line_drop(df,0)\n",
    "df=na_col_drop(df,1)\n",
    "df.replace(r'<|>','', inplace=True, regex=True)\n",
    "df.replace(r'-$',np.nan, inplace=True, regex=True)\n",
    "\n",
    "gdf_viewer(df, rows=5)"
   ]
  },
  {
   "cell_type": "code",
   "execution_count": 236,
   "id": "statewide-roommate",
   "metadata": {},
   "outputs": [],
   "source": [
    "df=df.transpose()\n",
    "df.reset_index(drop=True, inplace=True)\n",
    "df=col_ren(df, 0)"
   ]
  },
  {
   "cell_type": "code",
   "execution_count": 237,
   "id": "neither-charity",
   "metadata": {},
   "outputs": [],
   "source": [
    "df.drop(list(range(1)), axis=0, inplace=True)\n",
    "df.reset_index(drop=True, inplace=True)"
   ]
  },
  {
   "cell_type": "code",
   "execution_count": 238,
   "id": "fifty-germany",
   "metadata": {},
   "outputs": [
    {
     "name": "stdout",
     "output_type": "stream",
     "text": [
      "column(s) dropped: ['22:température pour mes. pH']\n"
     ]
    }
   ],
   "source": [
    "df=dble_col_drop(df)"
   ]
  },
  {
   "cell_type": "code",
   "execution_count": 239,
   "id": "scientific-breach",
   "metadata": {},
   "outputs": [
    {
     "name": "stdout",
     "output_type": "stream",
     "text": [
      "\n",
      "Columns dropped :['Matières organiques', 'GRANULOMETRIE', 'pH', 'Composés inorganiques ', 'Autres analyses chimiques ']\n",
      "\n",
      "3 NaN lines dropped\n"
     ]
    },
    {
     "name": "stderr",
     "output_type": "stream",
     "text": [
      "/home/yanathan/.local/share/virtualenvs/GSDMA-DRfwm83x/lib/python3.8/site-packages/pandas/core/frame.py:4305: SettingWithCopyWarning: \n",
      "A value is trying to be set on a copy of a slice from a DataFrame\n",
      "\n",
      "See the caveats in the documentation: https://pandas.pydata.org/pandas-docs/stable/user_guide/indexing.html#returning-a-view-versus-a-copy\n",
      "  return super().drop(\n"
     ]
    }
   ],
   "source": [
    "df=na_col_drop(df,1)\n",
    "df=na_line_drop(df,3)\n",
    "df.reset_index(drop=True, inplace=True)"
   ]
  },
  {
   "cell_type": "code",
   "execution_count": 240,
   "id": "modified-decline",
   "metadata": {},
   "outputs": [],
   "source": [
    "df.drop(columns=df.columns[[5,6]], axis=2, inplace=True)"
   ]
  },
  {
   "cell_type": "code",
   "execution_count": 241,
   "id": "forward-poland",
   "metadata": {},
   "outputs": [
    {
     "data": {
      "text/plain": [
       "Index(['Nom de l'échantillon', 'Profondeur échantillon dans container de',\n",
       "       '                                           à', 'Matière sèche',\n",
       "       'Date de prélèvement', 'Matières organiques ',\n",
       "       'résidu après perte au feu', 'COT', 'fraction argileuse',\n",
       "       'parties min. 2µm', 'parties min. 50µm', 'parties min. 2mm',\n",
       "       'fraction  2 mm (prép. séché à 40°C) ',\n",
       "       'fraction 2 mm (prép. séché à 40°C) ', 'pH (KCl)',\n",
       "       'température pour mes. pH', 'pH (H20)', 'sulfures totaux', 'chlorures',\n",
       "       'azote Kjeldahl'],\n",
       "      dtype='object')"
      ]
     },
     "execution_count": 241,
     "metadata": {},
     "output_type": "execute_result"
    }
   ],
   "source": [
    "df.columns"
   ]
  },
  {
   "cell_type": "code",
   "execution_count": 242,
   "id": "plain-evanescence",
   "metadata": {},
   "outputs": [],
   "source": [
    "name=['ID_ech','Ech_top','Ech_base','MS','Date_prv','MO','Residu_perte_feu','COT','Fract_arg','Fract_min_2µ', \n",
    "      'Fract_min_50µ', 'Fract_min_2', 'Fract_2', 'Fract_2+', 'pH_KCl','Tem_pH_mes', 'pH_H20', 'sulfures_tot', \n",
    "      'chlorures', 'azote_Kjeldahl']\n",
    "df=col_ren(df, name=name, mode=1)\n",
    "df.insert(1,'Type_ech','Sol')"
   ]
  },
  {
   "cell_type": "code",
   "execution_count": 243,
   "id": "posted-specialist",
   "metadata": {},
   "outputs": [],
   "source": [
    "prv_sol=df"
   ]
  },
  {
   "cell_type": "code",
   "execution_count": 244,
   "id": "breathing-brunswick",
   "metadata": {
    "scrolled": false
   },
   "outputs": [
    {
     "name": "stdout",
     "output_type": "stream",
     "text": [
      "Rows : 5, columns : 21\n"
     ]
    },
    {
     "data": {
      "application/vnd.jupyter.widget-view+json": {
       "model_id": "c3216d8377a7420db1ab5298354c87fe",
       "version_major": 2,
       "version_minor": 0
      },
      "text/plain": [
       "interactive(children=(IntSlider(value=5, description='rows', max=5, min=5, readout=False), IntSlider(value=12,…"
      ]
     },
     "metadata": {},
     "output_type": "display_data"
    }
   ],
   "source": [
    "gdf_viewer(prv_sol, rows=5)"
   ]
  },
  {
   "cell_type": "code",
   "execution_count": 245,
   "id": "ahead-illness",
   "metadata": {},
   "outputs": [
    {
     "name": "stdout",
     "output_type": "stream",
     "text": [
      "Ambiguous values in both columns compared, change it manually !\n",
      "Columns Index(['Fract_2+_x', 'Fract_2+_y', 'Fract_2_x', 'Fract_2_y', 'MS_x', 'MS_y'], dtype='object') must be dropped manually !\n"
     ]
    },
    {
     "data": {
      "text/html": [
       "<div>\n",
       "<style scoped>\n",
       "    .dataframe tbody tr th:only-of-type {\n",
       "        vertical-align: middle;\n",
       "    }\n",
       "\n",
       "    .dataframe tbody tr th {\n",
       "        vertical-align: top;\n",
       "    }\n",
       "\n",
       "    .dataframe thead th {\n",
       "        text-align: right;\n",
       "    }\n",
       "</style>\n",
       "<table border=\"1\" class=\"dataframe\">\n",
       "  <thead>\n",
       "    <tr style=\"text-align: right;\">\n",
       "      <th></th>\n",
       "      <th>ID_ech</th>\n",
       "      <th>pH_KCl</th>\n",
       "      <th>azote_Kjeldahl</th>\n",
       "      <th>pH_H20</th>\n",
       "      <th>Fract_min_50µ</th>\n",
       "      <th>Fract_min_2µ</th>\n",
       "      <th>sulfures_tot</th>\n",
       "      <th>Fract_min_2</th>\n",
       "      <th>Tem_pH_mes</th>\n",
       "      <th>Fract_arg</th>\n",
       "      <th>...</th>\n",
       "      <th>MO</th>\n",
       "      <th>chlorures</th>\n",
       "      <th>Residu_perte_feu</th>\n",
       "      <th>Fract_2+</th>\n",
       "      <th>Fract_2</th>\n",
       "      <th>Ech_base</th>\n",
       "      <th>Ech_top</th>\n",
       "      <th>Date_prv</th>\n",
       "      <th>Type_ech</th>\n",
       "      <th>MS</th>\n",
       "    </tr>\n",
       "  </thead>\n",
       "  <tbody>\n",
       "    <tr>\n",
       "      <th>0</th>\n",
       "      <td>Ech. 1</td>\n",
       "      <td>11.8</td>\n",
       "      <td>1320</td>\n",
       "      <td>11.3</td>\n",
       "      <td>4.8</td>\n",
       "      <td>1</td>\n",
       "      <td>130</td>\n",
       "      <td>57</td>\n",
       "      <td>20.7</td>\n",
       "      <td>1</td>\n",
       "      <td>...</td>\n",
       "      <td>6.3</td>\n",
       "      <td>34</td>\n",
       "      <td>93.3</td>\n",
       "      <td>99999.0</td>\n",
       "      <td>99999.0</td>\n",
       "      <td>1,5</td>\n",
       "      <td>1,2</td>\n",
       "      <td>2017-12-14 00:00:00</td>\n",
       "      <td>Sol</td>\n",
       "      <td>99999.0</td>\n",
       "    </tr>\n",
       "    <tr>\n",
       "      <th>1</th>\n",
       "      <td>Ech. 2</td>\n",
       "      <td>8.2</td>\n",
       "      <td>3810</td>\n",
       "      <td>8.6</td>\n",
       "      <td>13</td>\n",
       "      <td>1</td>\n",
       "      <td>78</td>\n",
       "      <td>56</td>\n",
       "      <td>20.6</td>\n",
       "      <td>1.9</td>\n",
       "      <td>...</td>\n",
       "      <td>11.5</td>\n",
       "      <td>18</td>\n",
       "      <td>88.2</td>\n",
       "      <td>53.0</td>\n",
       "      <td>47.0</td>\n",
       "      <td>1,2</td>\n",
       "      <td>0,9</td>\n",
       "      <td>2017-12-14 00:00:00</td>\n",
       "      <td>Sol</td>\n",
       "      <td>99999.0</td>\n",
       "    </tr>\n",
       "    <tr>\n",
       "      <th>2</th>\n",
       "      <td>Ech. 3</td>\n",
       "      <td>11</td>\n",
       "      <td>3040</td>\n",
       "      <td>11</td>\n",
       "      <td>10</td>\n",
       "      <td>1</td>\n",
       "      <td>86</td>\n",
       "      <td>72</td>\n",
       "      <td>20.6</td>\n",
       "      <td>1</td>\n",
       "      <td>...</td>\n",
       "      <td>10.2</td>\n",
       "      <td>36</td>\n",
       "      <td>89.4</td>\n",
       "      <td>99999.0</td>\n",
       "      <td>99999.0</td>\n",
       "      <td>0,9</td>\n",
       "      <td>0,6</td>\n",
       "      <td>2017-12-14 00:00:00</td>\n",
       "      <td>Sol</td>\n",
       "      <td>99999.0</td>\n",
       "    </tr>\n",
       "    <tr>\n",
       "      <th>3</th>\n",
       "      <td>Ech. 4</td>\n",
       "      <td>11.1</td>\n",
       "      <td>2550</td>\n",
       "      <td>11.1</td>\n",
       "      <td>9</td>\n",
       "      <td>1</td>\n",
       "      <td>60</td>\n",
       "      <td>65</td>\n",
       "      <td>20.4</td>\n",
       "      <td>1</td>\n",
       "      <td>...</td>\n",
       "      <td>9</td>\n",
       "      <td>36</td>\n",
       "      <td>90.6</td>\n",
       "      <td>99999.0</td>\n",
       "      <td>99999.0</td>\n",
       "      <td>0,6</td>\n",
       "      <td>0,3</td>\n",
       "      <td>2017-12-14 00:00:00</td>\n",
       "      <td>Sol</td>\n",
       "      <td>99999.0</td>\n",
       "    </tr>\n",
       "    <tr>\n",
       "      <th>4</th>\n",
       "      <td>Ech. 5</td>\n",
       "      <td>11.4</td>\n",
       "      <td>2300</td>\n",
       "      <td>11.4</td>\n",
       "      <td>8.1</td>\n",
       "      <td>1</td>\n",
       "      <td>80</td>\n",
       "      <td>65</td>\n",
       "      <td>20.9</td>\n",
       "      <td>1</td>\n",
       "      <td>...</td>\n",
       "      <td>8.4</td>\n",
       "      <td>43</td>\n",
       "      <td>91.2</td>\n",
       "      <td>99999.0</td>\n",
       "      <td>99999.0</td>\n",
       "      <td>0,3</td>\n",
       "      <td>0</td>\n",
       "      <td>2017-12-14 00:00:00</td>\n",
       "      <td>Sol</td>\n",
       "      <td>99999.0</td>\n",
       "    </tr>\n",
       "  </tbody>\n",
       "</table>\n",
       "<p>5 rows × 21 columns</p>\n",
       "</div>"
      ],
      "text/plain": [
       "   ID_ech pH_KCl azote_Kjeldahl pH_H20 Fract_min_50µ Fract_min_2µ  \\\n",
       "0  Ech. 1   11.8           1320   11.3           4.8            1   \n",
       "1  Ech. 2    8.2           3810    8.6            13            1   \n",
       "2  Ech. 3     11           3040     11            10            1   \n",
       "3  Ech. 4   11.1           2550   11.1             9            1   \n",
       "4  Ech. 5   11.4           2300   11.4           8.1            1   \n",
       "\n",
       "  sulfures_tot Fract_min_2 Tem_pH_mes Fract_arg  ...    MO chlorures  \\\n",
       "0          130          57       20.7         1  ...   6.3        34   \n",
       "1           78          56       20.6       1.9  ...  11.5        18   \n",
       "2           86          72       20.6         1  ...  10.2        36   \n",
       "3           60          65       20.4         1  ...     9        36   \n",
       "4           80          65       20.9         1  ...   8.4        43   \n",
       "\n",
       "  Residu_perte_feu Fract_2+  Fract_2  Ech_base Ech_top             Date_prv  \\\n",
       "0             93.3  99999.0  99999.0       1,5     1,2  2017-12-14 00:00:00   \n",
       "1             88.2     53.0     47.0       1,2     0,9  2017-12-14 00:00:00   \n",
       "2             89.4  99999.0  99999.0       0,9     0,6  2017-12-14 00:00:00   \n",
       "3             90.6  99999.0  99999.0       0,6     0,3  2017-12-14 00:00:00   \n",
       "4             91.2  99999.0  99999.0       0,3       0  2017-12-14 00:00:00   \n",
       "\n",
       "  Type_ech       MS  \n",
       "0      Sol  99999.0  \n",
       "1      Sol  99999.0  \n",
       "2      Sol  99999.0  \n",
       "3      Sol  99999.0  \n",
       "4      Sol  99999.0  \n",
       "\n",
       "[5 rows x 21 columns]"
      ]
     },
     "execution_count": 245,
     "metadata": {},
     "output_type": "execute_result"
    }
   ],
   "source": [
    "gdf_merger(source_prv_sol, prv_sol, col='ID_ech', how='outer', )[0]"
   ]
  },
  {
   "cell_type": "code",
   "execution_count": 246,
   "id": "postal-medium",
   "metadata": {
    "scrolled": false
   },
   "outputs": [
    {
     "name": "stdout",
     "output_type": "stream",
     "text": [
      "source_bh:0 ; source_pz:0 ; source_litho:0 ; source_Fac-uknw:0 ; source_an:9 ;\n",
      "source_prv_sol:5 ;source_prv_eau:0 ; source_mes_pz:0 ; source_mes_sol:0 ;\n"
     ]
    }
   ],
   "source": [
    "if not os.path.exists(tmp_dir):\n",
    "    os.makedirs(tmp_dir)\n",
    "\n",
    "#bh.to_csv(tmp_dir+'source_Boreholes.csv', index=False)\n",
    "#pz.to_csv(tmp_dir+sheet+'_Piezometers.csv', index=False)\n",
    "#ouv.to_csv(tmp_dir+sheet+'_Unkown-facility.csv', index=False)\n",
    "#litho.to_csv(tmp_dir+sheet+'_Lithology.csv', index=False)\n",
    "#mes_pz.to_csv(tmp_dir+sheet+'_Measures.csv', index=False)\n",
    "#mes_sol.to_csv(tmp_dir+sheet+'_Measures-soil.csv', index=False)\n",
    "#prv_eau.to_csv(tmp_dir+sheet+'_Samples-water.csv', index=False)\n",
    "prv_sol.to_csv(tmp_dir+sheet+'_Samples-soil.csv', index=False)\n",
    "#an.to_csv(tmp_dir+sheet+'_Analysis.csv', index=False)\n",
    "\n",
    "\n",
    "#source_bh.to_csv(tmp_dir+'source_Boreholes.csv', index=False)\n",
    "#source_pz.to_csv(tmp_dir+'source_Piezometers.csv', index=False)\n",
    "#source_ouv.to_csv(tmp_dir+'source_Unkown-facility.csv', index=False)\n",
    "#source_litho.to_csv(tmp_dir+'source_Lithology.csv', index=False)\n",
    "#source_mes_pz.to_csv(tmp_dir+'source_Measures.csv', index=False)\n",
    "#source_mes_sol.to_csv(tmp_dir+'source_Measures-soil.csv', index=False)\n",
    "#source_prv_eau.to_csv(tmp_dir+'source_Samples-water.csv', index=False)\n",
    "source_prv_sol.to_csv(tmp_dir+'source_Samples-soil.csv', index=False)\n",
    "#source_an.to_csv(tmp_dir+'source_Analysis.csv', index=False)\n",
    "\n",
    "\n",
    "print(f'source_bh:{len(source_bh)} ; source_pz:{len(source_pz)} ; source_litho:{len(source_litho)} ; '\n",
    "     f'source_Fac-uknw:{len(source_ouv)} ; source_an:{len(source_an)} ;\\nsource_prv_sol:{len(source_prv_sol)} ;'\n",
    "     f'source_prv_eau:{len(source_prv_eau)} ; source_mes_pz:{len(source_mes_pz)} ; source_mes_sol:{len(source_mes_sol)} ;')"
   ]
  },
  {
   "cell_type": "markdown",
   "id": "julian-spare",
   "metadata": {},
   "source": [
    "--------------------------------------------------------------------------------------------------------"
   ]
  },
  {
   "cell_type": "markdown",
   "id": "organized-copying",
   "metadata": {},
   "source": [
    "## 11-Resultats_Siterem_eau_extension_pilote_jusque_decembre_2020.xlsx\n",
    "* **Sheet : 'Résult EAU'**"
   ]
  },
  {
   "cell_type": "code",
   "execution_count": 247,
   "id": "activated-rental",
   "metadata": {},
   "outputs": [],
   "source": [
    "# New file, so the source variables must be overwritten !!\n",
    "_df=pd.DataFrame()\n",
    "source_mes_pz, source_mes_sol, source_pz, source_prv_eau, source_prv_sol =  _df, _df, _df, _df, _df\n",
    "source_ouv, source_an, source_litho, source_bh = _df, _df, _df, _df"
   ]
  },
  {
   "cell_type": "code",
   "execution_count": 248,
   "id": "alpine-nitrogen",
   "metadata": {},
   "outputs": [],
   "source": [
    "tmp_dir='../../CF_data/Result_traitem/Siterem_Ext_Pilote/'\n",
    "sheet='Result_eau'"
   ]
  },
  {
   "cell_type": "code",
   "execution_count": 249,
   "id": "technical-montana",
   "metadata": {},
   "outputs": [
    {
     "name": "stderr",
     "output_type": "stream",
     "text": [
      "/home/yanathan/.local/share/virtualenvs/GSDMA-DRfwm83x/lib/python3.8/site-packages/openpyxl/worksheet/_reader.py:308: UserWarning: Data Validation extension is not supported and will be removed\n",
      "  warn(msg)\n"
     ]
    },
    {
     "name": "stdout",
     "output_type": "stream",
     "text": [
      "11 NaN lines dropped\n",
      "\n",
      "Columns dropped :['Unnamed: 0', 'Unnamed: 2', 'Unnamed: 39', 'Unnamed: 40', 'Unnamed: 41', 'Unnamed: 42', 'Unnamed: 43', 'Unnamed: 44', 'Unnamed: 45', 'Unnamed: 46', 'Unnamed: 47', 'Unnamed: 48', 'Unnamed: 49', 'Unnamed: 50', 'Unnamed: 51', 'Unnamed: 52', 'Unnamed: 53', 'Unnamed: 54', 'Unnamed: 55', 'Unnamed: 56', 'Unnamed: 57', 'Unnamed: 58', 'Unnamed: 59', 'Unnamed: 60', 'Unnamed: 61', 'Unnamed: 62', 'Unnamed: 63', 'Unnamed: 64', 'Unnamed: 65', 'Unnamed: 66', 'Unnamed: 67', 'Unnamed: 68', 'Unnamed: 69']\n",
      "\n",
      "Rows : 115, columns : 37\n"
     ]
    },
    {
     "name": "stderr",
     "output_type": "stream",
     "text": [
      "/home/yanathan/.local/share/virtualenvs/GSDMA-DRfwm83x/lib/python3.8/site-packages/pandas/core/frame.py:4305: SettingWithCopyWarning: \n",
      "A value is trying to be set on a copy of a slice from a DataFrame\n",
      "\n",
      "See the caveats in the documentation: https://pandas.pydata.org/pandas-docs/stable/user_guide/indexing.html#returning-a-view-versus-a-copy\n",
      "  return super().drop(\n"
     ]
    },
    {
     "data": {
      "application/vnd.jupyter.widget-view+json": {
       "model_id": "9da2640d6da54c6a917c82d5ff0053a6",
       "version_major": 2,
       "version_minor": 0
      },
      "text/plain": [
       "interactive(children=(IntSlider(value=5, description='rows', max=115, min=5, readout=False), IntSlider(value=1…"
      ]
     },
     "metadata": {},
     "output_type": "display_data"
    }
   ],
   "source": [
    "df = pd.read_excel('../../CF_data/Data_SITEREM/Resultats_Siterem_eau_extension_pilote_jusque_decembre_2020.xlsx', \n",
    "                   sheet_name='Résult EAU', skiprows=2)\n",
    "df=na_line_drop(df,0)\n",
    "df=na_col_drop(df,1)\n",
    "df.replace(r'<|>','', inplace=True, regex=True)\n",
    "df.replace(r'-$',np.nan, inplace=True, regex=True)\n",
    "\n",
    "gdf_viewer(df, rows=5)"
   ]
  },
  {
   "cell_type": "code",
   "execution_count": 250,
   "id": "focal-turtle",
   "metadata": {},
   "outputs": [],
   "source": [
    "prv_eau=df.loc[:31]\n",
    "an=df.loc[32:]"
   ]
  },
  {
   "cell_type": "code",
   "execution_count": 251,
   "id": "nasty-algorithm",
   "metadata": {},
   "outputs": [
    {
     "name": "stderr",
     "output_type": "stream",
     "text": [
      "/home/yanathan/.local/share/virtualenvs/GSDMA-DRfwm83x/lib/python3.8/site-packages/pandas/core/indexing.py:692: SettingWithCopyWarning: \n",
      "A value is trying to be set on a copy of a slice from a DataFrame\n",
      "\n",
      "See the caveats in the documentation: https://pandas.pydata.org/pandas-docs/stable/user_guide/indexing.html#returning-a-view-versus-a-copy\n",
      "  iloc._setitem_with_indexer(indexer, value, self.name)\n"
     ]
    }
   ],
   "source": [
    "an.loc[0.5] = df.loc[0] # put data on first line\n",
    "an = an.sort_index().reset_index(drop=True)"
   ]
  },
  {
   "cell_type": "code",
   "execution_count": 252,
   "id": "threatened-spokesman",
   "metadata": {},
   "outputs": [],
   "source": [
    "prv_eau=prv_eau.transpose()\n",
    "prv_eau.reset_index(drop=True, inplace=True)\n",
    "prv_eau=col_ren(prv_eau, 1)"
   ]
  },
  {
   "cell_type": "code",
   "execution_count": 253,
   "id": "phantom-firewall",
   "metadata": {},
   "outputs": [
    {
     "name": "stdout",
     "output_type": "stream",
     "text": [
      "column(s) dropped: ['6:Autre zone suspecte investiguée', '25:pH', '30:pH']\n"
     ]
    }
   ],
   "source": [
    "prv_eau=dble_col_drop(prv_eau)"
   ]
  },
  {
   "cell_type": "code",
   "execution_count": 254,
   "id": "global-capacity",
   "metadata": {},
   "outputs": [
    {
     "name": "stdout",
     "output_type": "stream",
     "text": [
      "\n",
      "Columns dropped :['SPP/zone suspecte investiguée', 'Autre zone suspecte investiguée', 'Parcelle', 'X Lambert', 'Y Lambert', \"Type d'étude (*)\", 'Profondeur minimum de la crépine', 'Profondeur maximum de la crépine', 'Profondeur du fond du piézomètre', 'Profondeur de la nappe/piezo', 'Profondeur de la nappe/chambre visite', 'Organoleptique odeur intensité (**)', 'Organoleptique odeur type', 'Limpidité (***)', 'Température', 'Conductivité électrique', 'Profondeur de la nappe/sol ', 'PARAMETRES PHYSICO-CHIMIQUES \\n(lors du prélèvement)', 'CE', 'ORP', 'Oxygène dissous', 'PARAMETRES PHYSICO-CHIMIQUES \\n(mesures au labo)']\n",
      "\n"
     ]
    }
   ],
   "source": [
    "prv_eau.drop(list(range(5)), axis=0, inplace=True)\n",
    "prv_eau.reset_index(drop=True, inplace=True)\n",
    "prv_eau=na_col_drop(prv_eau,2)\n",
    "prv_eau=na_line_drop(prv_eau,3)\n",
    "prv_eau.reset_index(drop=True, inplace=True)"
   ]
  },
  {
   "cell_type": "code",
   "execution_count": 255,
   "id": "nonprofit-shark",
   "metadata": {},
   "outputs": [
    {
     "data": {
      "text/plain": [
       "Index(['Nom échantillon', 'Période ', 'Emplacement ', 'Date de prélèvement',\n",
       "       'pH', 'Température de prélèvement ', 'température pour mes. pH'],\n",
       "      dtype='object')"
      ]
     },
     "execution_count": 255,
     "metadata": {},
     "output_type": "execute_result"
    }
   ],
   "source": [
    "prv_eau.columns"
   ]
  },
  {
   "cell_type": "code",
   "execution_count": 256,
   "id": "therapeutic-aaron",
   "metadata": {},
   "outputs": [],
   "source": [
    "name=['ID_ech', 'Periode', 'Emplacement','Date_prv','pH','Temp_prv','Temp_pH_mes']\n",
    "prv_eau=col_ren(prv_eau, name=name, mode=1)\n",
    "prv_eau=prv_eau.query('ID_ech==ID_ech')\n",
    "prv_eau.insert(1,'Type_ech','Eau')"
   ]
  },
  {
   "cell_type": "code",
   "execution_count": 257,
   "id": "entitled-stephen",
   "metadata": {
    "scrolled": false
   },
   "outputs": [
    {
     "name": "stdout",
     "output_type": "stream",
     "text": [
      "Rows : 31, columns : 8\n"
     ]
    },
    {
     "data": {
      "application/vnd.jupyter.widget-view+json": {
       "model_id": "622047e43c34498ba875830397a220fc",
       "version_major": 2,
       "version_minor": 0
      },
      "text/plain": [
       "interactive(children=(IntSlider(value=3, description='rows', max=31, min=3, readout=False), IntSlider(value=8,…"
      ]
     },
     "metadata": {},
     "output_type": "display_data"
    }
   ],
   "source": [
    "gdf_viewer(prv_eau, rows=3)"
   ]
  },
  {
   "cell_type": "code",
   "execution_count": 258,
   "id": "reasonable-platform",
   "metadata": {},
   "outputs": [],
   "source": [
    "an=an.transpose()\n",
    "an.reset_index(drop=True, inplace=True)"
   ]
  },
  {
   "cell_type": "code",
   "execution_count": 259,
   "id": "floating-baseline",
   "metadata": {},
   "outputs": [],
   "source": [
    "an=col_ren(an, 1)"
   ]
  },
  {
   "cell_type": "code",
   "execution_count": 260,
   "id": "tired-livestock",
   "metadata": {},
   "outputs": [],
   "source": [
    "an.replace(r'<|>','', inplace=True, regex=True)\n",
    "an.replace(r'-',np.nan, inplace=True, regex=True)\n",
    "an.rename(columns={an.columns[0]:'ID_ech'}, inplace=True)"
   ]
  },
  {
   "cell_type": "code",
   "execution_count": 261,
   "id": "indian-annotation",
   "metadata": {},
   "outputs": [
    {
     "name": "stdout",
     "output_type": "stream",
     "text": [
      "column(s) dropped: []\n"
     ]
    }
   ],
   "source": [
    "an=dble_col_drop(an)"
   ]
  },
  {
   "cell_type": "code",
   "execution_count": 262,
   "id": "connected-arthritis",
   "metadata": {},
   "outputs": [],
   "source": [
    "# rename in a first time before dropping columns (because of names like 'col_xx' in columns)\n",
    "name=['ID_ech', 'METAUX LOURDS', 'Arsenic', 'Cadmium', 'Chrome', 'Cuivre','Mercure', 'Plomb', 'Nickel', 'Zinc', \n",
    "      'CYANURES',\"Cyanures (libres)  -  NEN-EN-ISO 14403\", \"CN_totaux - NEN-EN-ISO 14403\", \n",
    "      \"cyanure (APE) - méthode basée sur EPA 335.3\", \"cyanure complex - méthode interne \", \n",
    "      \"thiocyanate - méthode interne\", \"COMPOSES AROMATIQUES VOLATILS\", \"Benzène\", \"Toluène\", \"Éthylbenzène\",\n",
    "      \"Orthoxylène\", \"Para- et métaxylène\", \"Xylènes\", \"Styrène\", \"PHENOLS\", \"Phénol\", \"Indice phénol\", \n",
    "      \"HYDROCARBURES AROMATIQUES POLYCYCLIQUES\", \"Naphtalène\", \"Acénaphtylène\", \"Acénaphtène\", \"Fluorène\", \n",
    "      \"Phénanthrène\", \"Anthracène\", \"Fluoranthène\", \"Pyrène\", \"Benzo(a)anthracène\", \"Chrysène\", \n",
    "      \"Benzo(b)fluoranthène\", \"Benzo(k)fluoranthène\", \"Benzo(a)pyrène\", \"Dibenzo(ah)anthracène\", \n",
    "      \"Benzo(ghi)pérylène\", \"Indéno(1,2,3-cd)pyrène\", \"HAP Totaux (16) - EPA\", \n",
    "      \"COMPOSES ORGANOCHLORES VOLATILS\", \"1,1-Dichloroéthane\", \"1,2-Dichloroéthane\", \n",
    "      \"1,1-dichloroéthène\", \"Cis-1,2-dichloroéthène\", \"Totaux (cis,trans) 1,2-dichloroéthènes\", \n",
    "      \"Trans 1,2-dichloroéthylène\", \"Dichlorométhane\", \"1,2-dichloropropane\", \"Tétrachloroéthylène \", \n",
    "      \"Tétrachlorométhane\", \"1,1,1-Trichloroéthane\", \"1,1,2-Trichloroéthane\", \"Trichloroéthylène\",\n",
    "      \"Chloroforme\", \"Chlorure de vinyle\", \"HYDROCARBURES TOTAUX\", \"fraction aromat. >C6-C7\", \n",
    "      \"fraction aromat. >C7-C8\", \"fraction aromat. >C8-C10\", \"fraction aliphat. C5-C6\", \"fraction aliphat. >C6-C8\",\n",
    "      \"fraction aliphat. >C8-C10\", \"Fraction C5 - C8\", \"Fraction C8 - C10\", \"Fraction C10-C12\", \"Fraction C12-C16\",\n",
    "      \"Fraction C16 - C21\", \"Fraction C21 - C35\", \"Hydrocarbures totaux C10-C35\", \"METHYL-TERT-BUTYL-ETHER\", \"MTBE\",\n",
    "     \"a\",\"b\",\"c\",\"d\",\"e\",\"f\",\"g\"]\n",
    "\n",
    "an=col_ren(an, name=name, mode=1)\n",
    "an=an.iloc[:,:-7]"
   ]
  },
  {
   "cell_type": "code",
   "execution_count": 263,
   "id": "desirable-elements",
   "metadata": {},
   "outputs": [
    {
     "name": "stdout",
     "output_type": "stream",
     "text": [
      "\n",
      "Columns dropped :['METAUX LOURDS', 'CYANURES', 'COMPOSES AROMATIQUES VOLATILS', 'Styrène', 'PHENOLS', 'Indice phénol', 'HYDROCARBURES AROMATIQUES POLYCYCLIQUES', 'COMPOSES ORGANOCHLORES VOLATILS', 'HYDROCARBURES TOTAUX', 'METHYL-TERT-BUTYL-ETHER', 'MTBE']\n",
      "\n"
     ]
    }
   ],
   "source": [
    "an.drop(list(range(3)), axis=0, inplace=True)\n",
    "an.reset_index(drop=True, inplace=True)\n",
    "an=na_col_drop(an,1)\n",
    "an.insert(1,'Type_ech','Eau')"
   ]
  },
  {
   "cell_type": "code",
   "execution_count": 264,
   "id": "interested-exposure",
   "metadata": {},
   "outputs": [],
   "source": [
    "an=col_ren(an, name=pol_field_model, mode=1)"
   ]
  },
  {
   "cell_type": "code",
   "execution_count": 265,
   "id": "impressive-absence",
   "metadata": {
    "scrolled": true
   },
   "outputs": [
    {
     "name": "stdout",
     "output_type": "stream",
     "text": [
      "Rows : 33, columns : 67\n"
     ]
    },
    {
     "data": {
      "application/vnd.jupyter.widget-view+json": {
       "model_id": "eab5759807e84e6d9a0c780226776438",
       "version_major": 2,
       "version_minor": 0
      },
      "text/plain": [
       "interactive(children=(IntSlider(value=3, description='rows', max=33, min=3, readout=False), IntSlider(value=12…"
      ]
     },
     "metadata": {},
     "output_type": "display_data"
    }
   ],
   "source": [
    "gdf_viewer(an, rows=3)"
   ]
  },
  {
   "cell_type": "code",
   "execution_count": 266,
   "id": "ready-korea",
   "metadata": {},
   "outputs": [],
   "source": [
    "source_prv_eau=prv_eau\n",
    "source_an=an"
   ]
  },
  {
   "cell_type": "code",
   "execution_count": 267,
   "id": "administrative-guide",
   "metadata": {
    "scrolled": false
   },
   "outputs": [
    {
     "name": "stdout",
     "output_type": "stream",
     "text": [
      "source_bh:0 ; source_pz:0 ; source_litho:0 ; source_Fac-uknw:0 ; source_an:33 ;\n",
      "source_prv_sol:0 ;source_prv_eau:31 ; source_mes_pz:0 ; source_mes_sol:0 ;\n"
     ]
    }
   ],
   "source": [
    "if not os.path.exists(tmp_dir):\n",
    "    os.makedirs(tmp_dir)\n",
    "\n",
    "#bh.to_csv(tmp_dir+'source_Boreholes.csv', index=False)\n",
    "#pz.to_csv(tmp_dir+sheet+'_Piezometers.csv', index=False)\n",
    "#ouv.to_csv(tmp_dir+sheet+'_Unkown-facility.csv', index=False)\n",
    "#litho.to_csv(tmp_dir+sheet+'_Lithology.csv', index=False)\n",
    "#mes_pz.to_csv(tmp_dir+sheet+'_Measures.csv', index=False)\n",
    "#mes_sol.to_csv(tmp_dir+sheet+'_Measures-soil.csv', index=False)\n",
    "prv_eau.to_csv(tmp_dir+sheet+'_Samples-water.csv', index=False)\n",
    "#prv_sol.to_csv(tmp_dir+sheet+'_Samples-soil.csv', index=False)\n",
    "an.to_csv(tmp_dir+sheet+'_Analysis.csv', index=False)\n",
    "\n",
    "\n",
    "#source_bh.to_csv(tmp_dir+'source_Boreholes.csv', index=False)\n",
    "#source_pz.to_csv(tmp_dir+'source_Piezometers.csv', index=False)\n",
    "#source_ouv.to_csv(tmp_dir+'source_Unkown-facility.csv', index=False)\n",
    "#source_litho.to_csv(tmp_dir+'source_Lithology.csv', index=False)\n",
    "#source_mes_pz.to_csv(tmp_dir+'source_Measures.csv', index=False)\n",
    "#source_mes_sol.to_csv(tmp_dir+'source_Measures-soil.csv', index=False)\n",
    "source_prv_eau.to_csv(tmp_dir+'source_Samples-water.csv', index=False)\n",
    "#source_prv_sol.to_csv(tmp_dir+'source_Samples-soil.csv', index=False)\n",
    "source_an.to_csv(tmp_dir+'source_Analysis.csv', index=False)\n",
    "\n",
    "\n",
    "print(f'source_bh:{len(source_bh)} ; source_pz:{len(source_pz)} ; source_litho:{len(source_litho)} ; '\n",
    "     f'source_Fac-uknw:{len(source_ouv)} ; source_an:{len(source_an)} ;\\nsource_prv_sol:{len(source_prv_sol)} ;'\n",
    "     f'source_prv_eau:{len(source_prv_eau)} ; source_mes_pz:{len(source_mes_pz)} ; source_mes_sol:{len(source_mes_sol)} ;')"
   ]
  },
  {
   "cell_type": "markdown",
   "id": "alive-study",
   "metadata": {},
   "source": [
    "* **Sheet : 'Param physico'**"
   ]
  },
  {
   "cell_type": "code",
   "execution_count": 268,
   "id": "postal-patio",
   "metadata": {},
   "outputs": [],
   "source": [
    "tmp_dir='../../CF_data/Result_traitem/Siterem_Ext_Pilote/'\n",
    "sheet='Param_physico'"
   ]
  },
  {
   "cell_type": "code",
   "execution_count": 269,
   "id": "fabulous-litigation",
   "metadata": {},
   "outputs": [
    {
     "name": "stdout",
     "output_type": "stream",
     "text": [
      "8 NaN lines dropped\n",
      "\n",
      "Columns dropped :['Unnamed: 0', 'Unnamed: 2', 'Unnamed: 79', 'Unnamed: 80', 'Unnamed: 81', 'Unnamed: 82', 'Unnamed: 83', 'Unnamed: 84', 'Unnamed: 85', 'Unnamed: 86', 'Unnamed: 87', 'Unnamed: 88', 'Unnamed: 89', 'Unnamed: 90', 'Unnamed: 91', 'Unnamed: 92', 'Unnamed: 93', 'Unnamed: 94', 'Unnamed: 95', 'Unnamed: 96', 'Unnamed: 97', 'Unnamed: 98', 'Unnamed: 99', 'Unnamed: 100', 'Unnamed: 101', 'Unnamed: 102']\n",
      "\n",
      "Rows : 53, columns : 77\n"
     ]
    },
    {
     "name": "stderr",
     "output_type": "stream",
     "text": [
      "/home/yanathan/.local/share/virtualenvs/GSDMA-DRfwm83x/lib/python3.8/site-packages/pandas/core/frame.py:4305: SettingWithCopyWarning: \n",
      "A value is trying to be set on a copy of a slice from a DataFrame\n",
      "\n",
      "See the caveats in the documentation: https://pandas.pydata.org/pandas-docs/stable/user_guide/indexing.html#returning-a-view-versus-a-copy\n",
      "  return super().drop(\n"
     ]
    },
    {
     "data": {
      "application/vnd.jupyter.widget-view+json": {
       "model_id": "c309b49ce7f2468b9aeb571a289b5f21",
       "version_major": 2,
       "version_minor": 0
      },
      "text/plain": [
       "interactive(children=(IntSlider(value=5, description='rows', max=53, min=5, readout=False), IntSlider(value=12…"
      ]
     },
     "metadata": {},
     "output_type": "display_data"
    }
   ],
   "source": [
    "df = pd.read_excel('../../CF_data/Data_SITEREM/Resultats_Siterem_eau_extension_pilote_jusque_decembre_2020.xlsx', \n",
    "                   sheet_name='param. physico', skiprows=2)\n",
    "df=na_line_drop(df,0)\n",
    "df=na_col_drop(df,1)\n",
    "df.replace(r'<|>','', inplace=True, regex=True)\n",
    "df.replace(r'-$',np.nan, inplace=True, regex=True)\n",
    "\n",
    "gdf_viewer(df, rows=5)"
   ]
  },
  {
   "cell_type": "code",
   "execution_count": 270,
   "id": "tough-sewing",
   "metadata": {},
   "outputs": [],
   "source": [
    "df=df.transpose()\n",
    "df.reset_index(drop=True, inplace=True)"
   ]
  },
  {
   "cell_type": "code",
   "execution_count": 271,
   "id": "alpha-concrete",
   "metadata": {},
   "outputs": [],
   "source": [
    "df=col_ren(df, 1)"
   ]
  },
  {
   "cell_type": "code",
   "execution_count": 272,
   "id": "noticed-supplement",
   "metadata": {},
   "outputs": [],
   "source": [
    "df.drop(list(range(2)), axis=0, inplace=True)\n",
    "df.reset_index(drop=True, inplace=True)"
   ]
  },
  {
   "cell_type": "code",
   "execution_count": 273,
   "id": "floating-sweet",
   "metadata": {},
   "outputs": [],
   "source": [
    "sdf=df.iloc[:,:33]\n",
    "df=df.iloc[:,34:]"
   ]
  },
  {
   "cell_type": "code",
   "execution_count": 274,
   "id": "basic-marking",
   "metadata": {},
   "outputs": [
    {
     "name": "stdout",
     "output_type": "stream",
     "text": [
      "column(s) dropped: ['3:Période ']\n",
      "column(s) dropped: ['6:Autre zone suspecte investiguée', '26:pH', '32:pH']\n"
     ]
    }
   ],
   "source": [
    "df=dble_col_drop(df)\n",
    "sdf=dble_col_drop(sdf)"
   ]
  },
  {
   "cell_type": "code",
   "execution_count": 275,
   "id": "labeled-consolidation",
   "metadata": {},
   "outputs": [
    {
     "name": "stdout",
     "output_type": "stream",
     "text": [
      "41 NaN lines dropped\n",
      "27 NaN lines dropped\n"
     ]
    },
    {
     "name": "stderr",
     "output_type": "stream",
     "text": [
      "/home/yanathan/.local/share/virtualenvs/GSDMA-DRfwm83x/lib/python3.8/site-packages/pandas/core/frame.py:4305: SettingWithCopyWarning: \n",
      "A value is trying to be set on a copy of a slice from a DataFrame\n",
      "\n",
      "See the caveats in the documentation: https://pandas.pydata.org/pandas-docs/stable/user_guide/indexing.html#returning-a-view-versus-a-copy\n",
      "  return super().drop(\n",
      "/home/yanathan/.local/share/virtualenvs/GSDMA-DRfwm83x/lib/python3.8/site-packages/pandas/core/frame.py:4305: SettingWithCopyWarning: \n",
      "A value is trying to be set on a copy of a slice from a DataFrame\n",
      "\n",
      "See the caveats in the documentation: https://pandas.pydata.org/pandas-docs/stable/user_guide/indexing.html#returning-a-view-versus-a-copy\n",
      "  return super().drop(\n"
     ]
    }
   ],
   "source": [
    "df=na_line_drop(df,1)\n",
    "sdf=na_line_drop(sdf,1)"
   ]
  },
  {
   "cell_type": "code",
   "execution_count": 276,
   "id": "closed-spoke",
   "metadata": {},
   "outputs": [
    {
     "name": "stdout",
     "output_type": "stream",
     "text": [
      "\n",
      "Columns dropped :['Profondeur de la nappe/chambre visite', 'Organoleptique odeur intensité (**)', 'Organoleptique odeur type', 'Profondeur de la nappe/sol ', 'PARAMETRES PHYSICO-CHIMIQUES \\n(lors du prélèvement)', \"*paramètres n'ont pas été pris en débit continu (dans seau) - peu de débit\", 'col_52']\n",
      "\n",
      "\n",
      "Columns dropped :['SPP/zone suspecte investiguée', 'Autre zone suspecte investiguée', 'Parcelle', 'X Lambert', 'Y Lambert', \"Type d'étude (*)\", 'Profondeur minimum de la crépine', 'Profondeur maximum de la crépine', 'Profondeur du fond du piézomètre', 'Organoleptique odeur intensité (**)', 'Organoleptique odeur type', 'Limpidité (***)', 'Température', 'Conductivité électrique', 'PARAMETRES PHYSICO-CHIMIQUES \\n(lors du prélèvement)', 'PARAMETRES PHYSICO-CHIMIQUES \\n(mesures au labo)']\n",
      "\n"
     ]
    }
   ],
   "source": [
    "df=na_col_drop(df,1)\n",
    "sdf=na_col_drop(sdf,1)"
   ]
  },
  {
   "cell_type": "code",
   "execution_count": 277,
   "id": "identified-generator",
   "metadata": {},
   "outputs": [
    {
     "data": {
      "text/plain": [
       "Index(['Nom échantillon', 'Période ',\n",
       "       'Emplacement \\n- S : Simulateur \\n- HZS : Hors zone simulateur',\n",
       "       'Date de prélèvement', 'Profondeur de la nappe/piezo',\n",
       "       'Profondeur piezo/piezo', 'Température de prélèvement ', 'pH', 'CE',\n",
       "       'ORP', 'Oxygène dissous'],\n",
       "      dtype='object')"
      ]
     },
     "execution_count": 277,
     "metadata": {},
     "output_type": "execute_result"
    }
   ],
   "source": [
    "df.columns"
   ]
  },
  {
   "cell_type": "code",
   "execution_count": 278,
   "id": "sonic-immigration",
   "metadata": {},
   "outputs": [],
   "source": [
    "name=['ID_ech','Periode','Emplacement','Date_prv','Niv_eau_pz','Long_pz','Temp_prv ','pH', 'CE', 'ORP','O_diss']\n",
    "df=col_ren(df, mode=1, name=name)"
   ]
  },
  {
   "cell_type": "code",
   "execution_count": 279,
   "id": "adult-conversion",
   "metadata": {},
   "outputs": [],
   "source": [
    "sdf=sdf.iloc[:,:-1]\n",
    "name=['ID_ech','Periode','Emplacement','Date_prv','Niv_eau_pz','Niv_eau_chbre','pH','Niv_eau_sol','Long_pz',\n",
    "      'Temp_prv ','CE','ORP','O_diss']\n",
    "sdf=col_ren(sdf, mode=1, name=name)"
   ]
  },
  {
   "cell_type": "code",
   "execution_count": 280,
   "id": "mature-occasions",
   "metadata": {},
   "outputs": [],
   "source": [
    "df['CE']=df['CE'].apply(lambda x: pd.to_numeric(x)/1000 \n",
    "                                  if re.search('^\\d+', str(x)) and not pd.isnull(x) else np.nan)\n",
    "sdf['CE']=sdf['CE'].apply(lambda x: pd.to_numeric(x)/1000 \n",
    "                                  if re.search('^\\d+', str(x)) and not pd.isnull(x) else np.nan)"
   ]
  },
  {
   "cell_type": "code",
   "execution_count": 281,
   "id": "ecological-thomson",
   "metadata": {},
   "outputs": [],
   "source": [
    "sdf['Periode'].replace('\\n',' ', regex=True, inplace=True)\n",
    "sdf.replace('\\n','', regex=True, inplace=True)"
   ]
  },
  {
   "cell_type": "code",
   "execution_count": 282,
   "id": "tracked-course",
   "metadata": {
    "scrolled": true
   },
   "outputs": [],
   "source": [
    "data=[df, sdf]\n",
    "for d in data:\n",
    "    d['Rmq']=''\n",
    "    for i in range(len(d['ID_ech'])):\n",
    "        e=str(d.loc[i, 'Emplacement'])\n",
    "        n=str(d.loc[i, 'ID_ech'])\n",
    "        d.loc[i,'ID_ech']=n.replace('*', '')\n",
    "        \n",
    "        if re.match('S',e, re.I): \n",
    "            d.loc[i,'Emplacement']='Simulateur'\n",
    "        elif re.match('HZS',e, re.I): \n",
    "            d.loc[i,'Emplacement']='Hors Simulateur'\n",
    "        else:\n",
    "            d.loc[i,'Emplacement']=np.nan\n",
    "        \n",
    "        if re.match('\\d+\\*{1}$',n, re.I): \n",
    "            d.loc[i,'Rmq']=\"mesures faites dans un seau (débit non continu ou peu de débit)\"\n",
    "        elif re.match('\\d+\\*{2}$',n, re.I): \n",
    "            d.loc[i,'Rmq']=\"mésures faites dans une eau quasi-stagnante (Piezo rempli de sédiment et débit très faible)\""
   ]
  },
  {
   "cell_type": "code",
   "execution_count": 283,
   "id": "intimate-pregnancy",
   "metadata": {},
   "outputs": [],
   "source": [
    "df.insert(1, 'Type_ech', 'Eau')\n",
    "sdf.insert(1, 'Type_ech', 'Eau')"
   ]
  },
  {
   "cell_type": "code",
   "execution_count": 284,
   "id": "further-blind",
   "metadata": {},
   "outputs": [],
   "source": [
    "prv_eau=gdf_merger(sdf, df, 'outer', 'ID_ech')[0]"
   ]
  },
  {
   "cell_type": "code",
   "execution_count": 285,
   "id": "scheduled-prize",
   "metadata": {},
   "outputs": [],
   "source": [
    "prv_eau=na_col_drop(df,2)\n",
    "prv_eau=na_line_drop(df,1)\n",
    "prv_eau.reset_index(drop=True, inplace=True)"
   ]
  },
  {
   "cell_type": "code",
   "execution_count": 286,
   "id": "literary-nicaragua",
   "metadata": {
    "scrolled": true
   },
   "outputs": [
    {
     "name": "stdout",
     "output_type": "stream",
     "text": [
      "Rows : 33, columns : 13\n"
     ]
    },
    {
     "data": {
      "application/vnd.jupyter.widget-view+json": {
       "model_id": "3581aa092b524f6c9de978aa60fadacd",
       "version_major": 2,
       "version_minor": 0
      },
      "text/plain": [
       "interactive(children=(IntSlider(value=3, description='rows', max=33, min=3, readout=False), IntSlider(value=12…"
      ]
     },
     "metadata": {},
     "output_type": "display_data"
    }
   ],
   "source": [
    "gdf_viewer(prv_eau, rows=3)"
   ]
  },
  {
   "cell_type": "code",
   "execution_count": 287,
   "id": "unavailable-force",
   "metadata": {},
   "outputs": [
    {
     "name": "stdout",
     "output_type": "stream",
     "text": [
      "Ambiguous values in both columns compared, change it manually !\n",
      "Columns Index(['Date_prv_x', 'Date_prv_y', 'Emplacement_x', 'Emplacement_y',\n",
      "       'Periode_x', 'Periode_y', 'pH_x', 'pH_y'],\n",
      "      dtype='object') must be dropped manually !\n"
     ]
    }
   ],
   "source": [
    "source_prv_eau=gdf_merger(source_prv_eau, prv_eau, col='ID_ech', how='outer', )[0]"
   ]
  },
  {
   "cell_type": "code",
   "execution_count": 288,
   "id": "higher-visiting",
   "metadata": {
    "scrolled": false
   },
   "outputs": [
    {
     "name": "stdout",
     "output_type": "stream",
     "text": [
      "source_bh:0 ; source_pz:0 ; source_litho:0 ; source_Fac-uknw:0 ; source_an:33 ;\n",
      "source_prv_sol:0 ;source_prv_eau:162 ; source_mes_pz:0 ; source_mes_sol:0 ;\n"
     ]
    }
   ],
   "source": [
    "if not os.path.exists(tmp_dir):\n",
    "    os.makedirs(tmp_dir)\n",
    "\n",
    "#bh.to_csv(tmp_dir+'source_Boreholes.csv', index=False)\n",
    "#pz.to_csv(tmp_dir+sheet+'_Piezometers.csv', index=False)\n",
    "#ouv.to_csv(tmp_dir+sheet+'_Unkown-facility.csv', index=False)\n",
    "#litho.to_csv(tmp_dir+sheet+'_Lithology.csv', index=False)\n",
    "#mes_pz.to_csv(tmp_dir+sheet+'_Measures.csv', index=False)\n",
    "#mes_sol.to_csv(tmp_dir+sheet+'_Measures-soil.csv', index=False)\n",
    "prv_eau.to_csv(tmp_dir+sheet+'_Samples-water.csv', index=False)\n",
    "#prv_sol.to_csv(tmp_dir+sheet+'_Samples-soil.csv', index=False)\n",
    "#an.to_csv(tmp_dir+sheet+'_Analysis.csv', index=False)\n",
    "\n",
    "\n",
    "#source_bh.to_csv(tmp_dir+'source_Boreholes.csv', index=False)\n",
    "#source_pz.to_csv(tmp_dir+'source_Piezometers.csv', index=False)\n",
    "#source_ouv.to_csv(tmp_dir+'source_Unkown-facility.csv', index=False)\n",
    "#source_litho.to_csv(tmp_dir+'source_Lithology.csv', index=False)\n",
    "#source_mes_pz.to_csv(tmp_dir+'source_Measures.csv', index=False)\n",
    "#source_mes_sol.to_csv(tmp_dir+'source_Measures-soil.csv', index=False)\n",
    "source_prv_eau.to_csv(tmp_dir+'source_Samples-water.csv', index=False)\n",
    "#source_prv_sol.to_csv(tmp_dir+'source_Samples-soil.csv', index=False)\n",
    "#source_an.to_csv(tmp_dir+'source_Analysis.csv', index=False)\n",
    "\n",
    "\n",
    "print(f'source_bh:{len(source_bh)} ; source_pz:{len(source_pz)} ; source_litho:{len(source_litho)} ; '\n",
    "     f'source_Fac-uknw:{len(source_ouv)} ; source_an:{len(source_an)} ;\\nsource_prv_sol:{len(source_prv_sol)} ;'\n",
    "     f'source_prv_eau:{len(source_prv_eau)} ; source_mes_pz:{len(source_mes_pz)} ; source_mes_sol:{len(source_mes_sol)} ;')"
   ]
  },
  {
   "cell_type": "code",
   "execution_count": 289,
   "id": "informative-express",
   "metadata": {},
   "outputs": [],
   "source": [
    "# continue here"
   ]
  },
  {
   "cell_type": "markdown",
   "id": "knowing-crown",
   "metadata": {},
   "source": [
    "* **Sheet : 'Inorganiques et composés majeurs'**"
   ]
  },
  {
   "cell_type": "code",
   "execution_count": 290,
   "id": "japanese-blame",
   "metadata": {},
   "outputs": [],
   "source": [
    "tmp_dir='../../CF_data/Result_traitem/Siterem_Ext_Pilote/'\n",
    "sheet='Inorganic_major'"
   ]
  },
  {
   "cell_type": "code",
   "execution_count": 291,
   "id": "legal-kitchen",
   "metadata": {},
   "outputs": [
    {
     "name": "stdout",
     "output_type": "stream",
     "text": [
      "9 NaN lines dropped\n",
      "\n",
      "Columns dropped :['Unnamed: 0', 'Unnamed: 2', 'Unnamed: 29', 'Unnamed: 30', 'Unnamed: 31', 'Unnamed: 32', 'Unnamed: 33', 'Unnamed: 34', 'Unnamed: 36', 'Unnamed: 37', 'Unnamed: 38', 'Unnamed: 39', 'Unnamed: 40', 'Unnamed: 41', 'Unnamed: 42', 'Unnamed: 43', 'Unnamed: 44', 'Unnamed: 45', 'Unnamed: 46', 'Unnamed: 47', 'Unnamed: 48', 'Unnamed: 49', 'Unnamed: 50', 'Unnamed: 51', 'Unnamed: 52', 'Unnamed: 53', 'Unnamed: 54', 'Unnamed: 55', 'Unnamed: 56', 'Unnamed: 57', 'Unnamed: 58', 'Unnamed: 59', 'Unnamed: 60', 'Unnamed: 61', 'Unnamed: 62', 'Unnamed: 63', 'Unnamed: 64', 'Unnamed: 65', 'Unnamed: 66', 'Unnamed: 67', 'Unnamed: 68', 'Unnamed: 69', 'Unnamed: 70', 'Unnamed: 71', 'Unnamed: 72', 'Unnamed: 73', 'Unnamed: 74', 'Unnamed: 75', 'Unnamed: 76', 'Unnamed: 77', 'Unnamed: 78', 'Unnamed: 79', 'Unnamed: 80', 'Unnamed: 81', 'Unnamed: 82', 'Unnamed: 83', 'Unnamed: 84', 'Unnamed: 85', 'Unnamed: 86', 'Unnamed: 87', 'Unnamed: 88', 'Unnamed: 89', 'Unnamed: 90', 'Unnamed: 91', 'Unnamed: 92', 'Unnamed: 93', 'Unnamed: 94', 'Unnamed: 95', 'Unnamed: 96', 'Unnamed: 97', 'Unnamed: 98', 'Unnamed: 99', 'Unnamed: 100', 'Unnamed: 101', 'Unnamed: 102', 'Unnamed: 103', 'Unnamed: 104', 'Unnamed: 105', 'Unnamed: 106', 'Unnamed: 107', 'Unnamed: 108', 'Unnamed: 109', 'Unnamed: 110', 'Unnamed: 111', 'Unnamed: 112', 'Unnamed: 113', 'Unnamed: 114', 'Unnamed: 115']\n",
      "\n",
      "Rows : 68, columns : 28\n"
     ]
    },
    {
     "name": "stderr",
     "output_type": "stream",
     "text": [
      "/home/yanathan/.local/share/virtualenvs/GSDMA-DRfwm83x/lib/python3.8/site-packages/pandas/core/frame.py:4305: SettingWithCopyWarning: \n",
      "A value is trying to be set on a copy of a slice from a DataFrame\n",
      "\n",
      "See the caveats in the documentation: https://pandas.pydata.org/pandas-docs/stable/user_guide/indexing.html#returning-a-view-versus-a-copy\n",
      "  return super().drop(\n"
     ]
    },
    {
     "data": {
      "application/vnd.jupyter.widget-view+json": {
       "model_id": "e5fc90a1e55e4ca28880419ae8cb666d",
       "version_major": 2,
       "version_minor": 0
      },
      "text/plain": [
       "interactive(children=(IntSlider(value=5, description='rows', max=68, min=5, readout=False), IntSlider(value=12…"
      ]
     },
     "metadata": {},
     "output_type": "display_data"
    }
   ],
   "source": [
    "df = pd.read_excel('../../CF_data/Data_SITEREM/Resultats_Siterem_eau_extension_pilote_jusque_decembre_2020.xlsx', \n",
    "                   sheet_name='inorganiques et composés majeur', skiprows=2)\n",
    "df=na_line_drop(df,0)\n",
    "df=na_col_drop(df,1)\n",
    "df.replace(r'<|>','', inplace=True, regex=True)\n",
    "df.replace(r'-$',np.nan, inplace=True, regex=True)\n",
    "\n",
    "gdf_viewer(df, rows=5)"
   ]
  },
  {
   "cell_type": "code",
   "execution_count": 292,
   "id": "broken-undergraduate",
   "metadata": {},
   "outputs": [],
   "source": [
    "prv_eau=df.loc[:21]\n",
    "an=df.loc[22:]"
   ]
  },
  {
   "cell_type": "code",
   "execution_count": 293,
   "id": "finished-native",
   "metadata": {},
   "outputs": [
    {
     "name": "stderr",
     "output_type": "stream",
     "text": [
      "/home/yanathan/.local/share/virtualenvs/GSDMA-DRfwm83x/lib/python3.8/site-packages/pandas/core/indexing.py:692: SettingWithCopyWarning: \n",
      "A value is trying to be set on a copy of a slice from a DataFrame\n",
      "\n",
      "See the caveats in the documentation: https://pandas.pydata.org/pandas-docs/stable/user_guide/indexing.html#returning-a-view-versus-a-copy\n",
      "  iloc._setitem_with_indexer(indexer, value, self.name)\n"
     ]
    }
   ],
   "source": [
    "an.loc[0.5] = df.loc[0] # put data on first line\n",
    "an = an.sort_index().reset_index(drop=True)"
   ]
  },
  {
   "cell_type": "code",
   "execution_count": 294,
   "id": "genuine-florist",
   "metadata": {},
   "outputs": [],
   "source": [
    "prv_eau=prv_eau.transpose()\n",
    "prv_eau.reset_index(drop=True, inplace=True)\n",
    "prv_eau=col_ren(prv_eau, 1)"
   ]
  },
  {
   "cell_type": "code",
   "execution_count": 295,
   "id": "proper-happening",
   "metadata": {},
   "outputs": [
    {
     "name": "stdout",
     "output_type": "stream",
     "text": [
      "column(s) dropped: ['6:Autre zone suspecte investiguée']\n"
     ]
    }
   ],
   "source": [
    "prv_eau=dble_col_drop(prv_eau)"
   ]
  },
  {
   "cell_type": "code",
   "execution_count": 296,
   "id": "ordered-egypt",
   "metadata": {},
   "outputs": [
    {
     "name": "stdout",
     "output_type": "stream",
     "text": [
      "\n",
      "Columns dropped :['SPP/zone suspecte investiguée', 'Autre zone suspecte investiguée', 'Parcelle', 'X Lambert', 'Y Lambert', \"Type d'étude (*)\", 'Profondeur minimum de la crépine', 'Profondeur maximum de la crépine', 'Profondeur du fond du piézomètre', 'Profondeur de la nappe', 'Organoleptique odeur intensité (**)', 'Organoleptique odeur type', 'Limpidité (***)', 'Température', 'Conductivité électrique', 'pH']\n",
      "\n",
      "1 NaN lines dropped\n"
     ]
    },
    {
     "name": "stderr",
     "output_type": "stream",
     "text": [
      "/home/yanathan/.local/share/virtualenvs/GSDMA-DRfwm83x/lib/python3.8/site-packages/pandas/core/frame.py:4305: SettingWithCopyWarning: \n",
      "A value is trying to be set on a copy of a slice from a DataFrame\n",
      "\n",
      "See the caveats in the documentation: https://pandas.pydata.org/pandas-docs/stable/user_guide/indexing.html#returning-a-view-versus-a-copy\n",
      "  return super().drop(\n"
     ]
    }
   ],
   "source": [
    "prv_eau.drop(list(range(2)), axis=0, inplace=True)\n",
    "prv_eau.reset_index(drop=True, inplace=True)\n",
    "prv_eau=na_col_drop(prv_eau,2)\n",
    "prv_eau=na_line_drop(prv_eau,2)\n",
    "prv_eau.reset_index(drop=True, inplace=True)"
   ]
  },
  {
   "cell_type": "code",
   "execution_count": 297,
   "id": "greater-belgium",
   "metadata": {},
   "outputs": [
    {
     "data": {
      "text/plain": [
       "Index(['Nom échantillon', 'Période ', 'Emplacement ', 'Date de prélèvement',\n",
       "       'Température de prélèvement '],\n",
       "      dtype='object')"
      ]
     },
     "execution_count": 297,
     "metadata": {},
     "output_type": "execute_result"
    }
   ],
   "source": [
    "prv_eau.columns"
   ]
  },
  {
   "cell_type": "code",
   "execution_count": 298,
   "id": "narrow-trading",
   "metadata": {},
   "outputs": [],
   "source": [
    "name=['ID_ech', 'Periode', 'Emplacement','Date_prv','Temp_prv']\n",
    "prv_eau=col_ren(prv_eau, name=name, mode=1)\n",
    "prv_eau=prv_eau.query('ID_ech==ID_ech')\n",
    "prv_eau.insert(1,'Type_ech','Eau')"
   ]
  },
  {
   "cell_type": "code",
   "execution_count": 299,
   "id": "coral-spending",
   "metadata": {
    "scrolled": true
   },
   "outputs": [
    {
     "name": "stdout",
     "output_type": "stream",
     "text": [
      "Rows : 24, columns : 6\n"
     ]
    },
    {
     "data": {
      "application/vnd.jupyter.widget-view+json": {
       "model_id": "da5f61e6435848458c3049a8c4dfc266",
       "version_major": 2,
       "version_minor": 0
      },
      "text/plain": [
       "interactive(children=(IntSlider(value=3, description='rows', max=24, min=3, readout=False), IntSlider(value=6,…"
      ]
     },
     "metadata": {},
     "output_type": "display_data"
    }
   ],
   "source": [
    "gdf_viewer(prv_eau, rows=3)"
   ]
  },
  {
   "cell_type": "code",
   "execution_count": 300,
   "id": "healthy-synthesis",
   "metadata": {},
   "outputs": [],
   "source": [
    "an=an.transpose()\n",
    "an.reset_index(drop=True, inplace=True)"
   ]
  },
  {
   "cell_type": "code",
   "execution_count": 301,
   "id": "bronze-history",
   "metadata": {},
   "outputs": [],
   "source": [
    "an=col_ren(an, 1)"
   ]
  },
  {
   "cell_type": "code",
   "execution_count": 302,
   "id": "arranged-sociology",
   "metadata": {},
   "outputs": [],
   "source": [
    "an.replace(r'<|>','', inplace=True, regex=True)\n",
    "an.replace(r'-',np.nan, inplace=True, regex=True)\n",
    "an.rename(columns={an.columns[0]:'ID_ech'}, inplace=True)"
   ]
  },
  {
   "cell_type": "code",
   "execution_count": 303,
   "id": "worldwide-struggle",
   "metadata": {},
   "outputs": [
    {
     "name": "stdout",
     "output_type": "stream",
     "text": [
      "column(s) dropped: ['8:ammonium', '12:nitrite', '14:nitrate']\n"
     ]
    }
   ],
   "source": [
    "an=dble_col_drop(an)"
   ]
  },
  {
   "cell_type": "code",
   "execution_count": 304,
   "id": "protected-decrease",
   "metadata": {},
   "outputs": [
    {
     "name": "stdout",
     "output_type": "stream",
     "text": [
      "\n",
      "Columns dropped :['CARBONE ORGANIQUE', 'DEMANDE EN O2', 'COMPOSES AZOTES', 'COMPOSES SOUFRES ', 'ELEMENTS MAJEURS', 'AUTRES ANALYSES', 'cyanure (libre)', 'METHYL-TERT-BUTYL-ETHER', 'MTBE', 'Teneur mesurée ', 'Teneur mesurée', 'VS : Valeur seuil', \"(*) RP : Rapport de prélèvements; ES : Etude de sol; EO : Etude d'orientation; EC : Etude de caractérisation; SA : Suivi d'assainissement; EF : Evaluation finale\", \"(**) - : Pas d'impression organoleptique; + : Impression organoleptique faible; ++ : Impression organoleptique forte\", '(***) + : Limpide; - : Trouble; -- : Opaque', \"Le contenu des tableaux est conforme au modèle repris à l'annexe IX du GREO V03. Le formalisme a été adapté par SITEREM tout en garantissant la lisibilité du document imprimé. \"]\n",
      "\n"
     ]
    }
   ],
   "source": [
    "an=na_col_drop(an,3)"
   ]
  },
  {
   "cell_type": "code",
   "execution_count": 305,
   "id": "loaded-thong",
   "metadata": {},
   "outputs": [
    {
     "data": {
      "text/plain": [
       "Index(['ID_ech', 'COT', 'DBO (5 jours)', 'DCO', 'ammonium',\n",
       "       'ammoniaque - libre', 'azote Kjeldahl', 'nitrite', 'nitrate',\n",
       "       'sulfures totaux', 'sulfures (libre)', 'Soufre Total', 'sulfites',\n",
       "       'sulfate', 'calcium', 'potassium', 'magnésium', 'manganèse', 'sodium',\n",
       "       'fer', 'fer (Fe) total', 'fer (2+)', 'chlorures', 'fluorures',\n",
       "       'bromure (libre)', 'phosphore (total)', 'carbonate', 'bicarbonate'],\n",
       "      dtype='object')"
      ]
     },
     "execution_count": 305,
     "metadata": {},
     "output_type": "execute_result"
    }
   ],
   "source": [
    "an.columns"
   ]
  },
  {
   "cell_type": "code",
   "execution_count": 306,
   "id": "cheap-mainstream",
   "metadata": {},
   "outputs": [],
   "source": [
    "an.rename(columns={'col_9':'ammoniaque libre'}, inplace=True)"
   ]
  },
  {
   "cell_type": "code",
   "execution_count": 307,
   "id": "harmful-steel",
   "metadata": {},
   "outputs": [],
   "source": [
    "an.drop(list(range(2)), axis=0, inplace=True)\n",
    "an.reset_index(drop=True, inplace=True)\n",
    "an=na_col_drop(an,1)\n",
    "an.insert(1,'Type_ech','Eau')"
   ]
  },
  {
   "cell_type": "code",
   "execution_count": 308,
   "id": "standard-chuck",
   "metadata": {},
   "outputs": [],
   "source": [
    "an=col_ren(an, name=pol_field_model, mode=1)\n",
    "#an=an.iloc[:,:-7]"
   ]
  },
  {
   "cell_type": "code",
   "execution_count": 309,
   "id": "dying-tolerance",
   "metadata": {
    "scrolled": false
   },
   "outputs": [
    {
     "name": "stdout",
     "output_type": "stream",
     "text": [
      "Rows : 25, columns : 29\n"
     ]
    },
    {
     "data": {
      "application/vnd.jupyter.widget-view+json": {
       "model_id": "20103c1cf70d4dd591ad37d744846853",
       "version_major": 2,
       "version_minor": 0
      },
      "text/plain": [
       "interactive(children=(IntSlider(value=3, description='rows', max=25, min=3, readout=False), IntSlider(value=12…"
      ]
     },
     "metadata": {},
     "output_type": "display_data"
    }
   ],
   "source": [
    "gdf_viewer(an, rows=3)"
   ]
  },
  {
   "cell_type": "code",
   "execution_count": 310,
   "id": "mineral-charity",
   "metadata": {},
   "outputs": [
    {
     "name": "stdout",
     "output_type": "stream",
     "text": [
      "Rows : 162, columns : 15\n"
     ]
    },
    {
     "data": {
      "application/vnd.jupyter.widget-view+json": {
       "model_id": "c6695fba2e09469284bbee9c5045517e",
       "version_major": 2,
       "version_minor": 0
      },
      "text/plain": [
       "interactive(children=(IntSlider(value=10, description='rows', max=162, min=10, readout=False), IntSlider(value…"
      ]
     },
     "metadata": {},
     "output_type": "display_data"
    }
   ],
   "source": [
    "gdf_viewer(source_prv_eau)"
   ]
  },
  {
   "cell_type": "markdown",
   "id": "considered-joyce",
   "metadata": {},
   "source": [
    "$\\color{red}{\\text{error on merge (because of temporal data). I must check it after}}$"
   ]
  },
  {
   "cell_type": "raw",
   "id": "urban-matter",
   "metadata": {},
   "source": [
    "source_prv_eau=gdf_merger(source_prv_eau, prv_eau, 'outer', 'ID_ech', )[0]\n",
    "source_an=gdf_merger(source_an, an, 'outer', 'ID_ech', )[0]"
   ]
  },
  {
   "cell_type": "code",
   "execution_count": 311,
   "id": "chinese-sensitivity",
   "metadata": {},
   "outputs": [
    {
     "name": "stdout",
     "output_type": "stream",
     "text": [
      "source_bh:0 ; source_pz:0 ; source_litho:0 ; source_Fac-uknw:0 ; source_an:33 ;\n",
      "source_prv_sol:0 ;source_prv_eau:162 ; source_mes_pz:0 ; source_mes_sol:0 ;\n"
     ]
    }
   ],
   "source": [
    "if not os.path.exists(tmp_dir):\n",
    "    os.makedirs(tmp_dir)\n",
    "\n",
    "#bh.to_csv(tmp_dir+'source_Boreholes.csv', index=False)\n",
    "#pz.to_csv(tmp_dir+sheet+'_Piezometers.csv', index=False)\n",
    "#ouv.to_csv(tmp_dir+sheet+'_Unkown-facility.csv', index=False)\n",
    "#litho.to_csv(tmp_dir+sheet+'_Lithology.csv', index=False)\n",
    "#mes_pz.to_csv(tmp_dir+sheet+'_Measures.csv', index=False)\n",
    "#mes_sol.to_csv(tmp_dir+sheet+'_Measures-soil.csv', index=False)\n",
    "prv_eau.to_csv(tmp_dir+sheet+'_Samples-water.csv', index=False)\n",
    "#prv_sol.to_csv(tmp_dir+sheet+'_Samples-soil.csv', index=False)\n",
    "an.to_csv(tmp_dir+sheet+'_Analysis.csv', index=False)\n",
    "\n",
    "\n",
    "#source_bh.to_csv(tmp_dir+'source_Boreholes.csv', index=False)\n",
    "#source_pz.to_csv(tmp_dir+'source_Piezometers.csv', index=False)\n",
    "#source_ouv.to_csv(tmp_dir+'source_Unkown-facility.csv', index=False)\n",
    "#source_litho.to_csv(tmp_dir+'source_Lithology.csv', index=False)\n",
    "#source_mes_pz.to_csv(tmp_dir+'source_Measures.csv', index=False)\n",
    "#source_mes_sol.to_csv(tmp_dir+'source_Measures-soil.csv', index=False)\n",
    "source_prv_eau.to_csv(tmp_dir+'source_Samples-water.csv', index=False)\n",
    "#source_prv_sol.to_csv(tmp_dir+'source_Samples-soil.csv', index=False)\n",
    "source_an.to_csv(tmp_dir+'source_Analysis.csv', index=False)\n",
    "\n",
    "\n",
    "print(f'source_bh:{len(source_bh)} ; source_pz:{len(source_pz)} ; source_litho:{len(source_litho)} ; '\n",
    "     f'source_Fac-uknw:{len(source_ouv)} ; source_an:{len(source_an)} ;\\nsource_prv_sol:{len(source_prv_sol)} ;'\n",
    "     f'source_prv_eau:{len(source_prv_eau)} ; source_mes_pz:{len(source_mes_pz)} ; source_mes_sol:{len(source_mes_sol)} ;')"
   ]
  },
  {
   "cell_type": "markdown",
   "id": "yellow-burke",
   "metadata": {},
   "source": [
    "## 12-Resultats_Siterem_eau_pilote_jusque_decembre_2020.xlsx\n",
    "* **Sheet : 'Résult EAU'**"
   ]
  },
  {
   "cell_type": "code",
   "execution_count": 312,
   "id": "strategic-albany",
   "metadata": {},
   "outputs": [],
   "source": [
    "# New file, so the source variables must be overwritten !!\n",
    "_df=pd.DataFrame()\n",
    "source_mes_pz, source_mes_sol, source_pz, source_prv_eau, source_prv_sol =  _df, _df, _df, _df, _df\n",
    "source_ouv, source_an, source_litho, source_bh = _df, _df, _df, _df"
   ]
  },
  {
   "cell_type": "code",
   "execution_count": 313,
   "id": "vocal-longer",
   "metadata": {},
   "outputs": [],
   "source": [
    "tmp_dir='../../CF_data/Result_traitem/Siterem_Pilote/'\n",
    "sheet='Result_eau'"
   ]
  },
  {
   "cell_type": "code",
   "execution_count": 314,
   "id": "objective-psychology",
   "metadata": {},
   "outputs": [
    {
     "name": "stderr",
     "output_type": "stream",
     "text": [
      "/home/yanathan/.local/share/virtualenvs/GSDMA-DRfwm83x/lib/python3.8/site-packages/openpyxl/worksheet/_reader.py:308: UserWarning: Data Validation extension is not supported and will be removed\n",
      "  warn(msg)\n"
     ]
    },
    {
     "name": "stdout",
     "output_type": "stream",
     "text": [
      "9 NaN lines dropped\n",
      "\n",
      "Columns dropped :['Unnamed: 0', 'Unnamed: 2', 'Unnamed: 93', 'Unnamed: 94', 'Unnamed: 95', 'Unnamed: 96', 'Unnamed: 97', 'Unnamed: 98', 'Unnamed: 99', 'Unnamed: 100', 'Unnamed: 101', 'Unnamed: 102', 'Unnamed: 103', 'Unnamed: 104', 'Unnamed: 105', 'Unnamed: 106', 'Unnamed: 107', 'Unnamed: 108', 'Unnamed: 109', 'Unnamed: 110', 'Unnamed: 111', 'Unnamed: 112', 'Unnamed: 113']\n",
      "\n",
      "Rows : 117, columns : 91\n"
     ]
    },
    {
     "name": "stderr",
     "output_type": "stream",
     "text": [
      "/home/yanathan/.local/share/virtualenvs/GSDMA-DRfwm83x/lib/python3.8/site-packages/pandas/core/frame.py:4305: SettingWithCopyWarning: \n",
      "A value is trying to be set on a copy of a slice from a DataFrame\n",
      "\n",
      "See the caveats in the documentation: https://pandas.pydata.org/pandas-docs/stable/user_guide/indexing.html#returning-a-view-versus-a-copy\n",
      "  return super().drop(\n"
     ]
    },
    {
     "data": {
      "application/vnd.jupyter.widget-view+json": {
       "model_id": "21584df5e1574f10b2dd83110d667767",
       "version_major": 2,
       "version_minor": 0
      },
      "text/plain": [
       "interactive(children=(IntSlider(value=5, description='rows', max=117, min=5, readout=False), IntSlider(value=1…"
      ]
     },
     "metadata": {},
     "output_type": "display_data"
    }
   ],
   "source": [
    "df = pd.read_excel('../../CF_data/Data_SITEREM/Resultats_Siterem_eau_pilote_jusque_decembre_2020.xlsx', \n",
    "                   sheet_name='Résult EAU', skiprows=2)\n",
    "df=na_line_drop(df,0)\n",
    "df=na_col_drop(df,1)\n",
    "df.replace(r'<|>','', inplace=True, regex=True)\n",
    "df.replace(r'-$',np.nan, inplace=True, regex=True)\n",
    "\n",
    "gdf_viewer(df, rows=5)"
   ]
  },
  {
   "cell_type": "code",
   "execution_count": 315,
   "id": "understood-mistress",
   "metadata": {},
   "outputs": [],
   "source": [
    "prv_eau=df.loc[:32]\n",
    "an=df.loc[33:]"
   ]
  },
  {
   "cell_type": "code",
   "execution_count": 316,
   "id": "bibliographic-religious",
   "metadata": {},
   "outputs": [
    {
     "name": "stderr",
     "output_type": "stream",
     "text": [
      "/home/yanathan/.local/share/virtualenvs/GSDMA-DRfwm83x/lib/python3.8/site-packages/pandas/core/indexing.py:692: SettingWithCopyWarning: \n",
      "A value is trying to be set on a copy of a slice from a DataFrame\n",
      "\n",
      "See the caveats in the documentation: https://pandas.pydata.org/pandas-docs/stable/user_guide/indexing.html#returning-a-view-versus-a-copy\n",
      "  iloc._setitem_with_indexer(indexer, value, self.name)\n"
     ]
    }
   ],
   "source": [
    "an.loc[0.5] = df.loc[0] # put data on first line\n",
    "an = an.sort_index().reset_index(drop=True)"
   ]
  },
  {
   "cell_type": "code",
   "execution_count": 317,
   "id": "short-crawford",
   "metadata": {},
   "outputs": [],
   "source": [
    "prv_eau=prv_eau.transpose()\n",
    "prv_eau.reset_index(drop=True, inplace=True)\n",
    "prv_eau=col_ren(prv_eau, 1)"
   ]
  },
  {
   "cell_type": "code",
   "execution_count": 318,
   "id": "technical-median",
   "metadata": {},
   "outputs": [
    {
     "name": "stdout",
     "output_type": "stream",
     "text": [
      "column(s) dropped: ['6:Autre zone suspecte investiguée', '25:pH', '31:pH']\n"
     ]
    }
   ],
   "source": [
    "prv_eau=dble_col_drop(prv_eau)"
   ]
  },
  {
   "cell_type": "code",
   "execution_count": 319,
   "id": "signal-lucas",
   "metadata": {},
   "outputs": [
    {
     "name": "stdout",
     "output_type": "stream",
     "text": [
      "\n",
      "Columns dropped :['SPP/zone suspecte investiguée', 'Autre zone suspecte investiguée', 'Parcelle', 'X Lambert', 'Y Lambert', \"Type d'étude (*)\", 'Profondeur minimum de la crépine', 'Profondeur maximum de la crépine', 'Profondeur du fond du piézomètre', 'Organoleptique odeur intensité (**)', 'Organoleptique odeur type', 'Limpidité (***)', 'Température', 'Conductivité électrique', 'Profondeur de la nappe/sol ', 'PARAMETRES PHYSICO-CHIMIQUES \\n(lors du prélèvement)', 'PARAMETRES PHYSICO-CHIMIQUES \\n(mesures au labo)']\n",
      "\n"
     ]
    }
   ],
   "source": [
    "prv_eau.drop(list(range(3)), axis=0, inplace=True)\n",
    "prv_eau.reset_index(drop=True, inplace=True)\n",
    "prv_eau=na_col_drop(prv_eau,2)\n",
    "prv_eau=na_line_drop(prv_eau,3)\n",
    "prv_eau.reset_index(drop=True, inplace=True)"
   ]
  },
  {
   "cell_type": "code",
   "execution_count": 320,
   "id": "recognized-inspection",
   "metadata": {},
   "outputs": [
    {
     "data": {
      "text/plain": [
       "Index(['Nom échantillon', 'Période ',\n",
       "       'Emplacement \\n- P : Pilote \\n- HZP : Hors zone pilote',\n",
       "       'Date de prélèvement', 'Profondeur de la nappe/piezo',\n",
       "       'Profondeur de la nappe/chambre visite', 'pH',\n",
       "       'Température de prélèvement ', 'CE', 'ORP', 'Oxygène dissous', 'col_29',\n",
       "       'température pour mes. pH'],\n",
       "      dtype='object')"
      ]
     },
     "execution_count": 320,
     "metadata": {},
     "output_type": "execute_result"
    }
   ],
   "source": [
    "prv_eau.columns"
   ]
  },
  {
   "cell_type": "code",
   "execution_count": 321,
   "id": "sized-straight",
   "metadata": {},
   "outputs": [],
   "source": [
    "name=['ID_ech', 'Periode', 'Emplacement','Date_prv','Niv_eau_pz','Niv_eau_chbre','pH','Temp_prv','CE','ORP',\n",
    "      'O_diss','col_29','Temp_pH_mes']\n",
    "prv_eau=col_ren(prv_eau, name=name, mode=1)\n",
    "prv_eau=prv_eau.query('ID_ech==ID_ech')\n",
    "prv_eau.insert(1,'Type_ech','Eau')"
   ]
  },
  {
   "cell_type": "code",
   "execution_count": 322,
   "id": "surprising-bangkok",
   "metadata": {},
   "outputs": [],
   "source": [
    "prv_eau.drop(columns=['col_29'], inplace=True)\n",
    "prv_eau['CE']=prv_eau['CE'].apply(lambda x: pd.to_numeric(x)/1000 \n",
    "                                  if re.search('^\\d+', str(x)) and not pd.isnull(x) else np.nan)"
   ]
  },
  {
   "cell_type": "code",
   "execution_count": 323,
   "id": "experimental-transparency",
   "metadata": {},
   "outputs": [],
   "source": [
    "prv_eau['Periode'].replace('\\n',' ', regex=True, inplace=True)\n",
    "prv_eau.replace('\\n','', regex=True, inplace=True)"
   ]
  },
  {
   "cell_type": "code",
   "execution_count": 324,
   "id": "collective-optimization",
   "metadata": {
    "scrolled": true
   },
   "outputs": [],
   "source": [
    "data=[prv_eau]\n",
    "for d in data:\n",
    "    for i in range(len(d['ID_ech'])):\n",
    "        e=str(d.loc[i, 'Emplacement'])        \n",
    "        if re.match('P',e, re.I): \n",
    "            d.loc[i,'Emplacement']='Pilote'\n",
    "        elif re.match('HZP',e, re.I): \n",
    "            d.loc[i,'Emplacement']='Hors Pilote'\n",
    "        else:\n",
    "            d.loc[i,'Emplacement']=np.nan"
   ]
  },
  {
   "cell_type": "code",
   "execution_count": 325,
   "id": "wireless-former",
   "metadata": {
    "scrolled": false
   },
   "outputs": [
    {
     "name": "stdout",
     "output_type": "stream",
     "text": [
      "Rows : 87, columns : 13\n"
     ]
    },
    {
     "data": {
      "application/vnd.jupyter.widget-view+json": {
       "model_id": "499fb993153a414da4e106889d871f0e",
       "version_major": 2,
       "version_minor": 0
      },
      "text/plain": [
       "interactive(children=(IntSlider(value=3, description='rows', max=87, min=3, readout=False), IntSlider(value=12…"
      ]
     },
     "metadata": {},
     "output_type": "display_data"
    }
   ],
   "source": [
    "gdf_viewer(prv_eau, rows=3)"
   ]
  },
  {
   "cell_type": "code",
   "execution_count": 326,
   "id": "consolidated-milton",
   "metadata": {},
   "outputs": [],
   "source": [
    "an=an.transpose()\n",
    "an.reset_index(drop=True, inplace=True)"
   ]
  },
  {
   "cell_type": "code",
   "execution_count": 327,
   "id": "important-hanging",
   "metadata": {},
   "outputs": [],
   "source": [
    "an=col_ren(an, 1)"
   ]
  },
  {
   "cell_type": "code",
   "execution_count": 328,
   "id": "better-majority",
   "metadata": {},
   "outputs": [],
   "source": [
    "an.replace(r'<|>','', inplace=True, regex=True)\n",
    "an.replace(r'-',np.nan, inplace=True, regex=True)\n",
    "an.rename(columns={an.columns[0]:'ID_ech'}, inplace=True)"
   ]
  },
  {
   "cell_type": "code",
   "execution_count": 329,
   "id": "clinical-charger",
   "metadata": {},
   "outputs": [
    {
     "name": "stdout",
     "output_type": "stream",
     "text": [
      "column(s) dropped: []\n"
     ]
    }
   ],
   "source": [
    "an=dble_col_drop(an)"
   ]
  },
  {
   "cell_type": "code",
   "execution_count": 330,
   "id": "dental-strengthening",
   "metadata": {},
   "outputs": [],
   "source": [
    "# rename in a first time before dropping columns (because of names like 'col_xx' in columns)\n",
    "name=['ID_ech', 'METAUX LOURDS', 'Arsenic', 'Cadmium', 'Chrome', 'Cuivre','Mercure', 'Plomb', 'Nickel', 'Zinc', \n",
    "      'CYANURES',\"Cyanures (libres)  -  NEN-EN-ISO 14403\", \"CN_totaux - NEN-EN-ISO 14403\", \n",
    "      \"cyanure (APE) - méthode basée sur EPA 335.3\", \"cyanure complex - méthode interne \", \n",
    "      \"thiocyanate - méthode interne\", \"COMPOSES AROMATIQUES VOLATILS\", \"Benzène\", \"Toluène\", \"Éthylbenzène\",\n",
    "      \"Orthoxylène\", \"Para- et métaxylène\", \"Xylènes\", \"Styrène\", \"PHENOLS\", \"Phénol\", \"Indice phénol\", \n",
    "      \"HYDROCARBURES AROMATIQUES POLYCYCLIQUES\", \"Naphtalène\", \"Acénaphtylène\", \"Acénaphtène\", \"Fluorène\", \n",
    "      \"Phénanthrène\", \"Anthracène\", \"Fluoranthène\", \"Pyrène\", \"Benzo(a)anthracène\", \"Chrysène\", \n",
    "      \"Benzo(b)fluoranthène\", \"Benzo(k)fluoranthène\", \"Benzo(a)pyrène\", \"Dibenzo(ah)anthracène\", \n",
    "      \"Benzo(ghi)pérylène\", \"Indéno(1,2,3-cd)pyrène\", \"HAP Totaux (16) - EPA\", \n",
    "      \"COMPOSES ORGANOCHLORES VOLATILS\", \"1,1-Dichloroéthane\", \"1,2-Dichloroéthane\", \n",
    "      \"1,1-dichloroéthène\", \"Cis-1,2-dichloroéthène\", \"Totaux (cis,trans) 1,2-dichloroéthènes\", \n",
    "      \"Trans 1,2-dichloroéthylène\", \"Dichlorométhane\", \"1,2-dichloropropane\", \"Tétrachloroéthylène \", \n",
    "      \"Tétrachlorométhane\", \"1,1,1-Trichloroéthane\", \"1,1,2-Trichloroéthane\", \"Trichloroéthylène\",\n",
    "      \"Chloroforme\", \"Chlorure de vinyle\", \"HYDROCARBURES TOTAUX\", \"fraction aromat. >C6-C7\", \n",
    "      \"fraction aromat. >C7-C8\", \"fraction aromat. >C8-C10\", \"fraction aliphat. C5-C6\", \"fraction aliphat. >C6-C8\",\n",
    "      \"fraction aliphat. >C8-C10\", \"Fraction C5 - C8\", \"Fraction C8 - C10\", \"Fraction C10-C12\", \"Fraction C12-C16\",\n",
    "      \"Fraction C16 - C21\", \"Fraction C21 - C35\", \"Hydrocarbures totaux C10-C35\", \"METHYL-TERT-BUTYL-ETHER\", \"MTBE\",\n",
    "     \"a\",\"b\",\"c\",\"d\",\"e\",\"f\",\"g\",\"h\"]"
   ]
  },
  {
   "cell_type": "code",
   "execution_count": 331,
   "id": "norman-devices",
   "metadata": {},
   "outputs": [],
   "source": [
    "an=col_ren(an, name=name, mode=1)\n",
    "an=an.iloc[:,:-8]"
   ]
  },
  {
   "cell_type": "code",
   "execution_count": 332,
   "id": "exposed-color",
   "metadata": {},
   "outputs": [
    {
     "name": "stdout",
     "output_type": "stream",
     "text": [
      "\n",
      "Columns dropped :['METAUX LOURDS', 'CYANURES', 'COMPOSES AROMATIQUES VOLATILS', 'PHENOLS', 'Indice phénol', 'HYDROCARBURES AROMATIQUES POLYCYCLIQUES', 'COMPOSES ORGANOCHLORES VOLATILS', 'HYDROCARBURES TOTAUX', 'METHYL-TERT-BUTYL-ETHER', 'MTBE']\n",
      "\n"
     ]
    }
   ],
   "source": [
    "an.drop(list(range(3)), axis=0, inplace=True)\n",
    "an.reset_index(drop=True, inplace=True)\n",
    "an=na_col_drop(an,1)\n",
    "an.insert(1,'Type_ech','Eau')"
   ]
  },
  {
   "cell_type": "code",
   "execution_count": 333,
   "id": "solar-calendar",
   "metadata": {},
   "outputs": [],
   "source": [
    "pol_field_model={'Arsenic': 'As', 'Cadmium': 'Cd', 'Chrome': 'Cr', 'Chrome VI': 'Cr_VI', 'Cuivre': 'Cu', \n",
    "'Mercure': 'Hg', 'Plomb': 'Pb', 'Nickel': 'Ni', 'Zinc': 'Zn', 'Cyanure(s) (?libre(s))?': 'CN_libre', \n",
    "'Cyanures (libres)  -  NEN-EN-ISO 14403':'CN_libre', 'cyanure (APE) - méthode basée sur EPA 335.3':'CN_EPA', \n",
    "'Cyanure(s) (totaux)': 'CN_tot','CN_totaux':'CN_tot','cyanure(s) (APE)': 'CN_EPA', 'cyanure complex': 'CN_comp',\n",
    "'thiocyanate': 'thioCN','Benzène': 'Bnz', 'Toluène': 'Toln', 'Éthylbenzène': 'EthylBnz', 'Orthoxylène': 'O-Xyl', \n",
    "'Para- et métaxylène': 'P-M-Xyl', 'Xylènes': 'Xyl', 'Styrène': 'Styr', 'BTEX totaux': 'BTEX_tot', \n",
    "'Phénol': 'Phenol', 'Indice phénol': 'Idc_Phenol', 'Naphtalène': 'Naphta', 'Acénaphtylène': 'Acenaphtyl', \n",
    "'Acénaphtène': 'Acenaphtn', 'Fluorène': 'Fluorene', 'Phénanthrène': 'Phenanthr', 'Anthracène': 'Anthrc', \n",
    "'Fluoranthène': 'Flranth', 'Pyrène': 'Pyr', 'Benzo(a)anthracène': 'Bnz(a)anthrc', 'Chrysène': 'Chrys', \n",
    "'Benzo(b)fluoranthène': 'Bnz(b)flranth', 'Benzo(k)fluoranthène': 'Bnz(k)flranth', \n",
    "'Benzo(a)pyrène': 'Bnz(a)pyr','Dibenzo(ah)anthracène': 'Dibnz(ah)anthrc',\n",
    "'Benzo(ghi)pérylène': 'Bnz(ghi)peryl', \n",
    "'Indéno(1,2,3-cd)pyrène': 'Indeno(1,2,3-cd)pyr', 'HAP Totaux (?:(16) - EPA)?': 'HAP_tot_EPA', \n",
    "'1,1-Dichloroéthane': '1,1-DCE', '1,2-Dichloroéthane': '1,2-DCE', '1,1-dichloroéthène': '1,1-DCEn', \n",
    "'Cis-1,2-dichloroéthène': 'Cis-1,2-DCEn', 'Trans 1,2-dichloroéthylène': 'Trans 1,2-DCEyl', \n",
    "'Dichlorométhane': 'DCM', 'Totaux (cis,trans) 1,2-dichloroéthène(s)': '(cis,trans) 1,2-DCE_tot', \n",
    "'1,2-dichloropropane': '1,2-DCP', 'Tétrachloroéthylène': 'TetraCEyn', 'Tétrachlorométhane': 'TCM', \n",
    "'1,1,1-Trichloroéthane': '1,1,1-TCE', '1,1,2-Trichloroéthane': '1,1,2-TCE', 'Trichloroéthylène': 'TCEyn', \n",
    "'Chloroforme': 'Chloroforme', 'Chlorure de vinyle': 'CVinyl', 'EOX': 'EOX', \n",
    "'fraction aromat. >C6-C7': 'Arom_C6C7', 'fraction aromat. >C7-C8': 'Arom_C7C8', \n",
    "'fraction aromat. >C8-C10': 'Arom_C8C10', 'fraction aliphat. C5-C6': 'Aliphat_C5C6', \n",
    "'fraction aliphat. >C6-C8': 'Aliphat_C6C8', 'fraction aliphat. >C8-C10': 'Aliphat_C8C10', \n",
    "'Fraction C5 - C8': 'Fract_C5C8', 'Fraction C8-C10': 'Fract_C8C10', 'Fraction C10-C12': 'Fract_C10C12', \n",
    "'Fraction C12-C16': 'Fract_C12C16', 'Fraction C16 - C21': 'Fract_C16C21', 'Fraction C21 - C35': 'Fract_C21C35', \n",
    "'Fraction C35 - C40': 'Fract_C35C40', 'Hydrocarbures totaux C10-C35': 'HC_tot_C10C35','C5-C8':'Fract_C5C8', \n",
    "'C8-C10':'Fract_C8C10','C10-C12':'Fract_C10C12','C12-C16':'Fract_C12C16','C16-C21':'Fract_C16C21', \n",
    "'C21-C35':'Fract_C21C35','C35-C40':'Fract_C35C40', 'totaux C10-C35':'HC_tot_C10C35','C12-C22':'Fract_C12C22', \n",
    "'C22-C30':'Fract_C22C30','C30-C40':'Fract_C30C40', 'Totaux C10-C40':'HC_tot_C10C40',\n",
    "'Hydrocarbures totaux C10-C40':'HC_tot_C10C40', 'MTBE': 'MTBE', 'PCB 28': 'PCB_28', 'PCB 52': 'PCB_52', \n",
    "'PCB 101': 'PCB_101', 'PCB 118': 'PCB_118', 'PCB 138': 'PCB_138', 'PCB 153': 'PCB_153', 'PCB 180': 'PCB_180', \n",
    "'PCB totaux (7)?': 'PCB_tot', 'Chlorure(s)': 'Chlorure', 'Soufre Total': 'S_tot', 'sulfite(s)': 'sulfite', \n",
    "'sulfate(s)': 'sulfate', 'COT':'COT','DBO (5 jours)':'DBO_5j','DCO':'DCO', \n",
    "'Ammonium':'NH4','ammoniaque libre':'NH3_libre','azote Kjeldahl':'N_Kjdl','sulfures totaux':'Sulfure_tot', \n",
    "'sulfure(s) (libre)':'Sulfure_libre','sulfure(s) (libre(s))':'Sulfure_libre','calcium':'Ca','potassium':'K', 'magnésium':'Mg', 'manganèse':'Mn', \n",
    "'sodium':\"Na\", 'fer':'Fe','phosphore (total)':'P_tot','carbonate':'CaCO3', 'bicarbonate':'Bicarb','Phoshore':'P',\n",
    "'fer ((Fe))? total':'Fe_tot', 'fer (2\\+)':'Fe2','fluorure(s)':'Fluorure','bromure (libre)':'B_libre'}\n"
   ]
  },
  {
   "cell_type": "code",
   "execution_count": 334,
   "id": "female-complement",
   "metadata": {},
   "outputs": [],
   "source": [
    "an=col_ren(an, name=pol_field_model, mode=1)"
   ]
  },
  {
   "cell_type": "code",
   "execution_count": 335,
   "id": "major-shoot",
   "metadata": {
    "scrolled": true
   },
   "outputs": [
    {
     "name": "stdout",
     "output_type": "stream",
     "text": [
      "Rows : 87, columns : 68\n"
     ]
    },
    {
     "data": {
      "application/vnd.jupyter.widget-view+json": {
       "model_id": "64189c3e51264a86a6c9e9d12e512dbc",
       "version_major": 2,
       "version_minor": 0
      },
      "text/plain": [
       "interactive(children=(IntSlider(value=3, description='rows', max=87, min=3, readout=False), IntSlider(value=12…"
      ]
     },
     "metadata": {},
     "output_type": "display_data"
    }
   ],
   "source": [
    "gdf_viewer(an, rows=3)"
   ]
  },
  {
   "cell_type": "code",
   "execution_count": 336,
   "id": "received-blink",
   "metadata": {},
   "outputs": [],
   "source": [
    "source_prv_eau=prv_eau\n",
    "source_an=an"
   ]
  },
  {
   "cell_type": "code",
   "execution_count": 337,
   "id": "minimal-kansas",
   "metadata": {
    "scrolled": false
   },
   "outputs": [
    {
     "name": "stdout",
     "output_type": "stream",
     "text": [
      "source_bh:0 ; source_pz:0 ; source_litho:0 ; source_Fac-uknw:0 ; source_an:87 ;\n",
      "source_prv_sol:0 ;source_prv_eau:87 ; source_mes_pz:0 ; source_mes_sol:0 ;\n"
     ]
    }
   ],
   "source": [
    "if not os.path.exists(tmp_dir):\n",
    "    os.makedirs(tmp_dir)\n",
    "\n",
    "#bh.to_csv(tmp_dir+'source_Boreholes.csv', index=False)\n",
    "#pz.to_csv(tmp_dir+sheet+'_Piezometers.csv', index=False)\n",
    "#ouv.to_csv(tmp_dir+sheet+'_Unkown-facility.csv', index=False)\n",
    "#litho.to_csv(tmp_dir+sheet+'_Lithology.csv', index=False)\n",
    "#mes_pz.to_csv(tmp_dir+sheet+'_Measures.csv', index=False)\n",
    "#mes_sol.to_csv(tmp_dir+sheet+'_Measures-soil.csv', index=False)\n",
    "prv_eau.to_csv(tmp_dir+sheet+'_Samples-water.csv', index=False)\n",
    "#prv_sol.to_csv(tmp_dir+sheet+'_Samples-soil.csv', index=False)\n",
    "an.to_csv(tmp_dir+sheet+'_Analysis.csv', index=False)\n",
    "\n",
    "\n",
    "#source_bh.to_csv(tmp_dir+'source_Boreholes.csv', index=False)\n",
    "#source_pz.to_csv(tmp_dir+'source_Piezometers.csv', index=False)\n",
    "#source_ouv.to_csv(tmp_dir+'source_Unkown-facility.csv', index=False)\n",
    "#source_litho.to_csv(tmp_dir+'source_Lithology.csv', index=False)\n",
    "#source_mes_pz.to_csv(tmp_dir+'source_Measures.csv', index=False)\n",
    "#source_mes_sol.to_csv(tmp_dir+'source_Measures-soil.csv', index=False)\n",
    "source_prv_eau.to_csv(tmp_dir+'source_Samples-water.csv', index=False)\n",
    "#source_prv_sol.to_csv(tmp_dir+'source_Samples-soil.csv', index=False)\n",
    "source_an.to_csv(tmp_dir+'source_Analysis.csv', index=False)\n",
    "\n",
    "\n",
    "print(f'source_bh:{len(source_bh)} ; source_pz:{len(source_pz)} ; source_litho:{len(source_litho)} ; '\n",
    "     f'source_Fac-uknw:{len(source_ouv)} ; source_an:{len(source_an)} ;\\nsource_prv_sol:{len(source_prv_sol)} ;'\n",
    "     f'source_prv_eau:{len(source_prv_eau)} ; source_mes_pz:{len(source_mes_pz)} ; source_mes_sol:{len(source_mes_sol)} ;')"
   ]
  },
  {
   "cell_type": "markdown",
   "id": "assumed-safety",
   "metadata": {},
   "source": [
    "* **Sheet : 'Param physico'**"
   ]
  },
  {
   "cell_type": "code",
   "execution_count": 338,
   "id": "pressed-corner",
   "metadata": {},
   "outputs": [],
   "source": [
    "tmp_dir='../../CF_data/Result_traitem/Siterem_Pilote/'\n",
    "sheet='Param_physico'"
   ]
  },
  {
   "cell_type": "code",
   "execution_count": 339,
   "id": "signal-assistant",
   "metadata": {},
   "outputs": [
    {
     "name": "stdout",
     "output_type": "stream",
     "text": [
      "7 NaN lines dropped\n",
      "\n",
      "Columns dropped :['Unnamed: 0', 'Unnamed: 2']\n",
      "\n",
      "Rows : 52, columns : 92\n"
     ]
    },
    {
     "name": "stderr",
     "output_type": "stream",
     "text": [
      "/home/yanathan/.local/share/virtualenvs/GSDMA-DRfwm83x/lib/python3.8/site-packages/pandas/core/frame.py:4305: SettingWithCopyWarning: \n",
      "A value is trying to be set on a copy of a slice from a DataFrame\n",
      "\n",
      "See the caveats in the documentation: https://pandas.pydata.org/pandas-docs/stable/user_guide/indexing.html#returning-a-view-versus-a-copy\n",
      "  return super().drop(\n"
     ]
    },
    {
     "data": {
      "application/vnd.jupyter.widget-view+json": {
       "model_id": "e629388f88ac4d30ba992942988bb75b",
       "version_major": 2,
       "version_minor": 0
      },
      "text/plain": [
       "interactive(children=(IntSlider(value=5, description='rows', max=52, min=5, readout=False), IntSlider(value=12…"
      ]
     },
     "metadata": {},
     "output_type": "display_data"
    }
   ],
   "source": [
    "df = pd.read_excel('../../CF_data/Data_SITEREM/Resultats_Siterem_eau_pilote_jusque_decembre_2020.xlsx', \n",
    "                   sheet_name='param. physico', skiprows=2)\n",
    "df=na_line_drop(df,0)\n",
    "df=na_col_drop(df,1)\n",
    "df.replace(r'<|>','', inplace=True, regex=True)\n",
    "df.replace(r'-$',np.nan, inplace=True, regex=True)\n",
    "\n",
    "gdf_viewer(df, rows=5)"
   ]
  },
  {
   "cell_type": "code",
   "execution_count": 340,
   "id": "wicked-father",
   "metadata": {},
   "outputs": [],
   "source": [
    "df=df.transpose()\n",
    "df.reset_index(drop=True, inplace=True)"
   ]
  },
  {
   "cell_type": "code",
   "execution_count": 341,
   "id": "engaged-geography",
   "metadata": {},
   "outputs": [],
   "source": [
    "df=col_ren(df, 1)"
   ]
  },
  {
   "cell_type": "code",
   "execution_count": 342,
   "id": "dressed-tobacco",
   "metadata": {},
   "outputs": [],
   "source": [
    "df.drop(list(range(2)), axis=0, inplace=True)\n",
    "df.reset_index(drop=True, inplace=True)"
   ]
  },
  {
   "cell_type": "code",
   "execution_count": 343,
   "id": "continuing-tradition",
   "metadata": {},
   "outputs": [],
   "source": [
    "sdf=df.iloc[:,:33]\n",
    "df=df.iloc[:,34:]"
   ]
  },
  {
   "cell_type": "code",
   "execution_count": 344,
   "id": "premier-leather",
   "metadata": {},
   "outputs": [
    {
     "name": "stdout",
     "output_type": "stream",
     "text": [
      "column(s) dropped: []\n",
      "column(s) dropped: ['6:Autre zone suspecte investiguée', '25:pH', '31:pH']\n"
     ]
    }
   ],
   "source": [
    "df=dble_col_drop(df)\n",
    "sdf=dble_col_drop(sdf)"
   ]
  },
  {
   "cell_type": "code",
   "execution_count": 345,
   "id": "adopted-counter",
   "metadata": {},
   "outputs": [
    {
     "name": "stdout",
     "output_type": "stream",
     "text": [
      "83 NaN lines dropped\n"
     ]
    },
    {
     "name": "stderr",
     "output_type": "stream",
     "text": [
      "/home/yanathan/.local/share/virtualenvs/GSDMA-DRfwm83x/lib/python3.8/site-packages/pandas/core/frame.py:4305: SettingWithCopyWarning: \n",
      "A value is trying to be set on a copy of a slice from a DataFrame\n",
      "\n",
      "See the caveats in the documentation: https://pandas.pydata.org/pandas-docs/stable/user_guide/indexing.html#returning-a-view-versus-a-copy\n",
      "  return super().drop(\n"
     ]
    }
   ],
   "source": [
    "df=na_line_drop(df,1)\n",
    "sdf=na_line_drop(sdf,1)"
   ]
  },
  {
   "cell_type": "code",
   "execution_count": 346,
   "id": "automatic-pearl",
   "metadata": {},
   "outputs": [
    {
     "name": "stdout",
     "output_type": "stream",
     "text": [
      "\n",
      "Columns dropped :['Profondeur de la nappe/chambre visite', 'Organoleptique odeur intensité (**)', 'Organoleptique odeur type', 'Profondeur de la nappe/sol ', 'PARAMETRES PHYSICO-CHIMIQUES \\n(lors du prélèvement)', 'col_51']\n",
      "\n",
      "\n",
      "Columns dropped :['SPP/zone suspecte investiguée', 'Autre zone suspecte investiguée', 'Parcelle', 'X Lambert', 'Y Lambert', \"Type d'étude (*)\", 'Profondeur minimum de la crépine', 'Profondeur maximum de la crépine', 'Profondeur du fond du piézomètre', 'Organoleptique odeur intensité (**)', 'Organoleptique odeur type', 'Limpidité (***)', 'Température', 'Conductivité électrique', 'PARAMETRES PHYSICO-CHIMIQUES \\n(lors du prélèvement)', 'PARAMETRES PHYSICO-CHIMIQUES \\n(mesures au labo)']\n",
      "\n"
     ]
    }
   ],
   "source": [
    "df=na_col_drop(df,1)\n",
    "sdf=na_col_drop(sdf,1)"
   ]
  },
  {
   "cell_type": "code",
   "execution_count": 347,
   "id": "designed-cemetery",
   "metadata": {},
   "outputs": [],
   "source": [
    "df=df.iloc[:,:-1]\n",
    "name=['ID_ech','Periode','Emplacement','Date_prv','Niv_eau_pz','Long_pz','Temp_prv ','pH', 'CE', 'ORP','O_diss']\n",
    "df=col_ren(df, mode=1, name=name)"
   ]
  },
  {
   "cell_type": "code",
   "execution_count": 348,
   "id": "meaningful-ability",
   "metadata": {},
   "outputs": [],
   "source": [
    "sdf.drop(columns=['col_29'], inplace=True)\n",
    "name=['ID_ech','Periode','Emplacement','Date_prv','Niv_eau_pz','Long_pz','pH','Niv_eau_sol','Temp_prv ','CE',\n",
    "      'ORP','O_diss','Temp_pH_mes']\n",
    "sdf=col_ren(sdf, mode=1, name=name)"
   ]
  },
  {
   "cell_type": "raw",
   "id": "loving-finding",
   "metadata": {},
   "source": [
    "len(name), len(sdf.columns), sdf.info()"
   ]
  },
  {
   "cell_type": "code",
   "execution_count": 349,
   "id": "funny-arlington",
   "metadata": {},
   "outputs": [],
   "source": [
    "df['CE']=df['CE'].apply(lambda x: pd.to_numeric(x)/1000 \n",
    "                                  if re.search('^\\d+', str(x)) and not pd.isnull(x) else np.nan)\n",
    "sdf['CE']=sdf['CE'].apply(lambda x: pd.to_numeric(x)/1000 \n",
    "                                  if re.search('^\\d+', str(x)) and not pd.isnull(x) else np.nan)"
   ]
  },
  {
   "cell_type": "code",
   "execution_count": 350,
   "id": "attended-particle",
   "metadata": {},
   "outputs": [],
   "source": [
    "sdf['Periode'].replace('\\n',' ', regex=True, inplace=True)\n",
    "sdf.replace('\\n','', regex=True, inplace=True)\n",
    "sdf.drop(columns=[\"Niv_eau_sol\"], inplace=True)"
   ]
  },
  {
   "cell_type": "code",
   "execution_count": 351,
   "id": "electoral-aircraft",
   "metadata": {
    "scrolled": true
   },
   "outputs": [
    {
     "data": {
      "text/plain": [
       "{'HZP', 'P'}"
      ]
     },
     "execution_count": 351,
     "metadata": {},
     "output_type": "execute_result"
    }
   ],
   "source": [
    "set(sdf['Emplacement'])"
   ]
  },
  {
   "cell_type": "code",
   "execution_count": 352,
   "id": "overall-collector",
   "metadata": {
    "scrolled": true
   },
   "outputs": [],
   "source": [
    "data=[df, sdf]\n",
    "for d in data:\n",
    "    for i in range(len(d['ID_ech'])):\n",
    "        e=str(d.loc[i, 'Emplacement'])\n",
    "        \n",
    "        if re.match('P',e, re.I): \n",
    "            d.loc[i,'Emplacement']='Pilote'\n",
    "        elif re.match('HZP',e, re.I): \n",
    "            d.loc[i,'Emplacement']='Hors Pilote'\n",
    "        else:\n",
    "            d.loc[i,'Emplacement']=np.nan"
   ]
  },
  {
   "cell_type": "code",
   "execution_count": 353,
   "id": "explicit-student",
   "metadata": {},
   "outputs": [],
   "source": [
    "df.insert(1, 'Type_ech', 'Eau')\n",
    "sdf.insert(1, 'Type_ech', 'Eau')"
   ]
  },
  {
   "cell_type": "code",
   "execution_count": 354,
   "id": "mental-latex",
   "metadata": {},
   "outputs": [],
   "source": [
    "df.replace('\\*|à compléter',np.nan, inplace=True, regex=True)"
   ]
  },
  {
   "cell_type": "code",
   "execution_count": 355,
   "id": "minor-malta",
   "metadata": {},
   "outputs": [
    {
     "name": "stdout",
     "output_type": "stream",
     "text": [
      "column: ORP_x\n",
      "column: pH_x\n",
      "column: Long_pz_x\n",
      "column: O_diss_x\n",
      "column: Temp_prv _x\n",
      "column: Date_prv_x\n",
      "column: Emplacement_x\n",
      "column: Type_ech_x\n",
      "column: Periode_x\n",
      "column: Niv_eau_pz_x\n",
      "column: CE_x\n"
     ]
    }
   ],
   "source": [
    "prv_eau=gdf_merger(sdf, df, 'outer', 'ID_ech', debug=True)[0]"
   ]
  },
  {
   "cell_type": "code",
   "execution_count": 356,
   "id": "aging-assumption",
   "metadata": {
    "scrolled": true
   },
   "outputs": [
    {
     "name": "stdout",
     "output_type": "stream",
     "text": [
      "Rows : 6, columns : 12\n"
     ]
    },
    {
     "data": {
      "application/vnd.jupyter.widget-view+json": {
       "model_id": "05b720dcec5547178bbb9f751b1e1e13",
       "version_major": 2,
       "version_minor": 0
      },
      "text/plain": [
       "interactive(children=(IntSlider(value=3, description='rows', max=6, min=3, readout=False), IntSlider(value=12,…"
      ]
     },
     "metadata": {},
     "output_type": "display_data"
    }
   ],
   "source": [
    "gdf_viewer(df, rows=3)"
   ]
  },
  {
   "cell_type": "markdown",
   "id": "interim-mount",
   "metadata": {},
   "source": [
    "$\\color{red}{\\text{error on merge (because of temporal data). I must check it after}}$"
   ]
  },
  {
   "cell_type": "raw",
   "id": "killing-instrumentation",
   "metadata": {},
   "source": [
    "source_prv_eau=gdf_merger(source_prv_eau, prv_eau, col='ID_ech', how='outer', )[0]"
   ]
  },
  {
   "cell_type": "code",
   "execution_count": 357,
   "id": "jewish-activity",
   "metadata": {
    "scrolled": false
   },
   "outputs": [
    {
     "name": "stdout",
     "output_type": "stream",
     "text": [
      "source_bh:0 ; source_pz:0 ; source_litho:0 ; source_Fac-uknw:0 ; source_an:87 ;\n",
      "source_prv_sol:0 ;source_prv_eau:87 ; source_mes_pz:0 ; source_mes_sol:0 ;\n"
     ]
    }
   ],
   "source": [
    "if not os.path.exists(tmp_dir):\n",
    "    os.makedirs(tmp_dir)\n",
    "\n",
    "#bh.to_csv(tmp_dir+'source_Boreholes.csv', index=False)\n",
    "#pz.to_csv(tmp_dir+sheet+'_Piezometers.csv', index=False)\n",
    "#ouv.to_csv(tmp_dir+sheet+'_Unkown-facility.csv', index=False)\n",
    "#litho.to_csv(tmp_dir+sheet+'_Lithology.csv', index=False)\n",
    "#mes_pz.to_csv(tmp_dir+sheet+'_Measures.csv', index=False)\n",
    "#mes_sol.to_csv(tmp_dir+sheet+'_Measures-soil.csv', index=False)\n",
    "prv_eau.to_csv(tmp_dir+sheet+'_Samples-water.csv', index=False)\n",
    "#prv_sol.to_csv(tmp_dir+sheet+'_Samples-soil.csv', index=False)\n",
    "#an.to_csv(tmp_dir+sheet+'_Analysis.csv', index=False)\n",
    "\n",
    "\n",
    "#source_bh.to_csv(tmp_dir+'source_Boreholes.csv', index=False)\n",
    "#source_pz.to_csv(tmp_dir+'source_Piezometers.csv', index=False)\n",
    "#source_ouv.to_csv(tmp_dir+'source_Unkown-facility.csv', index=False)\n",
    "#source_litho.to_csv(tmp_dir+'source_Lithology.csv', index=False)\n",
    "#source_mes_pz.to_csv(tmp_dir+'source_Measures.csv', index=False)\n",
    "#source_mes_sol.to_csv(tmp_dir+'source_Measures-soil.csv', index=False)\n",
    "source_prv_eau.to_csv(tmp_dir+'source_Samples-water.csv', index=False)\n",
    "#source_prv_sol.to_csv(tmp_dir+'source_Samples-soil.csv', index=False)\n",
    "#source_an.to_csv(tmp_dir+'source_Analysis.csv', index=False)\n",
    "\n",
    "\n",
    "print(f'source_bh:{len(source_bh)} ; source_pz:{len(source_pz)} ; source_litho:{len(source_litho)} ; '\n",
    "     f'source_Fac-uknw:{len(source_ouv)} ; source_an:{len(source_an)} ;\\nsource_prv_sol:{len(source_prv_sol)} ;'\n",
    "     f'source_prv_eau:{len(source_prv_eau)} ; source_mes_pz:{len(source_mes_pz)} ; source_mes_sol:{len(source_mes_sol)} ;')"
   ]
  },
  {
   "cell_type": "markdown",
   "id": "selected-liver",
   "metadata": {},
   "source": [
    "* **Sheet : 'Inorganiques et composés majeurs'**"
   ]
  },
  {
   "cell_type": "code",
   "execution_count": 358,
   "id": "regulation-repository",
   "metadata": {},
   "outputs": [],
   "source": [
    "tmp_dir='../../CF_data/Result_traitem/Siterem_Pilote/'\n",
    "sheet='Inorganic_major'"
   ]
  },
  {
   "cell_type": "code",
   "execution_count": 359,
   "id": "approved-winner",
   "metadata": {},
   "outputs": [
    {
     "name": "stdout",
     "output_type": "stream",
     "text": [
      "10 NaN lines dropped\n",
      "\n",
      "Columns dropped :['Unnamed: 0', 'Unnamed: 2', 'Unnamed: 56', 'Unnamed: 57', 'Unnamed: 58', 'Unnamed: 59', 'Unnamed: 60', 'Unnamed: 61', 'Unnamed: 62', 'Unnamed: 63', 'Unnamed: 64', 'Unnamed: 65', 'Unnamed: 66', 'Unnamed: 67', 'Unnamed: 68', 'Unnamed: 69', 'Unnamed: 70', 'Unnamed: 71', 'Unnamed: 72', 'Unnamed: 73', 'Unnamed: 74', 'Unnamed: 75', 'Unnamed: 76', 'Unnamed: 77', 'Unnamed: 78', 'Unnamed: 79', 'Unnamed: 80', 'Unnamed: 81']\n",
      "\n",
      "Rows : 68, columns : 54\n"
     ]
    },
    {
     "name": "stderr",
     "output_type": "stream",
     "text": [
      "/home/yanathan/.local/share/virtualenvs/GSDMA-DRfwm83x/lib/python3.8/site-packages/pandas/core/frame.py:4305: SettingWithCopyWarning: \n",
      "A value is trying to be set on a copy of a slice from a DataFrame\n",
      "\n",
      "See the caveats in the documentation: https://pandas.pydata.org/pandas-docs/stable/user_guide/indexing.html#returning-a-view-versus-a-copy\n",
      "  return super().drop(\n"
     ]
    },
    {
     "data": {
      "application/vnd.jupyter.widget-view+json": {
       "model_id": "c7f60dcfec274d969098f9fe0a37cdb5",
       "version_major": 2,
       "version_minor": 0
      },
      "text/plain": [
       "interactive(children=(IntSlider(value=5, description='rows', max=68, min=5, readout=False), IntSlider(value=12…"
      ]
     },
     "metadata": {},
     "output_type": "display_data"
    }
   ],
   "source": [
    "df = pd.read_excel('../../CF_data/Data_SITEREM/Resultats_Siterem_eau_pilote_jusque_decembre_2020.xlsx', \n",
    "                   sheet_name='inorganiques et composés majeur', skiprows=2)\n",
    "df=na_line_drop(df,0)\n",
    "df=na_col_drop(df,1)\n",
    "df.replace(r'<|>','', inplace=True, regex=True)\n",
    "df.replace(r'-$',np.nan, inplace=True, regex=True)\n",
    "\n",
    "gdf_viewer(df, rows=5)"
   ]
  },
  {
   "cell_type": "code",
   "execution_count": 360,
   "id": "baking-headset",
   "metadata": {},
   "outputs": [],
   "source": [
    "prv_eau=df.loc[:21]\n",
    "an=df.loc[22:]"
   ]
  },
  {
   "cell_type": "code",
   "execution_count": 361,
   "id": "human-queen",
   "metadata": {},
   "outputs": [
    {
     "name": "stderr",
     "output_type": "stream",
     "text": [
      "/home/yanathan/.local/share/virtualenvs/GSDMA-DRfwm83x/lib/python3.8/site-packages/pandas/core/indexing.py:692: SettingWithCopyWarning: \n",
      "A value is trying to be set on a copy of a slice from a DataFrame\n",
      "\n",
      "See the caveats in the documentation: https://pandas.pydata.org/pandas-docs/stable/user_guide/indexing.html#returning-a-view-versus-a-copy\n",
      "  iloc._setitem_with_indexer(indexer, value, self.name)\n"
     ]
    }
   ],
   "source": [
    "an.loc[0.5] = df.loc[0] # put data on first line\n",
    "an = an.sort_index().reset_index(drop=True)"
   ]
  },
  {
   "cell_type": "code",
   "execution_count": 362,
   "id": "meaning-raleigh",
   "metadata": {},
   "outputs": [],
   "source": [
    "prv_eau=prv_eau.transpose()\n",
    "prv_eau.reset_index(drop=True, inplace=True)\n",
    "prv_eau=col_ren(prv_eau, 1)"
   ]
  },
  {
   "cell_type": "code",
   "execution_count": 363,
   "id": "molecular-pathology",
   "metadata": {},
   "outputs": [
    {
     "name": "stdout",
     "output_type": "stream",
     "text": [
      "column(s) dropped: ['6:Autre zone suspecte investiguée']\n"
     ]
    }
   ],
   "source": [
    "prv_eau=dble_col_drop(prv_eau)"
   ]
  },
  {
   "cell_type": "code",
   "execution_count": 364,
   "id": "bridal-north",
   "metadata": {},
   "outputs": [
    {
     "name": "stdout",
     "output_type": "stream",
     "text": [
      "\n",
      "Columns dropped :['SPP/zone suspecte investiguée', 'Autre zone suspecte investiguée', 'Parcelle', 'X Lambert', 'Y Lambert', \"Type d'étude (*)\", 'Profondeur minimum de la crépine', 'Profondeur maximum de la crépine', 'Profondeur du fond du piézomètre', 'Profondeur de la nappe', 'Organoleptique odeur intensité (**)', 'Organoleptique odeur type', 'Limpidité (***)', 'Température', 'Conductivité électrique', 'pH']\n",
      "\n"
     ]
    }
   ],
   "source": [
    "prv_eau.drop(list(range(2)), axis=0, inplace=True)\n",
    "prv_eau.reset_index(drop=True, inplace=True)\n",
    "prv_eau=na_col_drop(prv_eau,2)\n",
    "prv_eau=na_line_drop(prv_eau,2)\n",
    "prv_eau.reset_index(drop=True, inplace=True)"
   ]
  },
  {
   "cell_type": "code",
   "execution_count": 365,
   "id": "bridal-spending",
   "metadata": {},
   "outputs": [
    {
     "data": {
      "text/plain": [
       "Index(['Nom échantillon', 'Période ',\n",
       "       'Emplacement \\n- S : Simulateur \\n- HZS : Hors zone simulateur',\n",
       "       'Date de prélèvement', 'Température de prélèvement '],\n",
       "      dtype='object')"
      ]
     },
     "execution_count": 365,
     "metadata": {},
     "output_type": "execute_result"
    }
   ],
   "source": [
    "prv_eau.columns"
   ]
  },
  {
   "cell_type": "code",
   "execution_count": 366,
   "id": "determined-mechanics",
   "metadata": {},
   "outputs": [],
   "source": [
    "name=['ID_ech', 'Periode', 'Emplacement','Date_prv','Temp_prv']\n",
    "prv_eau.replace(r'\\n',' ', inplace=True, regex=True)\n",
    "prv_eau=col_ren(prv_eau, name=name, mode=1)\n",
    "prv_eau=prv_eau.query('ID_ech==ID_ech')\n",
    "prv_eau.insert(1,'Type_ech','Eau')"
   ]
  },
  {
   "cell_type": "code",
   "execution_count": 367,
   "id": "frank-health",
   "metadata": {
    "scrolled": true
   },
   "outputs": [
    {
     "name": "stdout",
     "output_type": "stream",
     "text": [
      "Rows : 51, columns : 6\n"
     ]
    },
    {
     "data": {
      "application/vnd.jupyter.widget-view+json": {
       "model_id": "1e7e1fca345448fd9b0a0fed0d8360b1",
       "version_major": 2,
       "version_minor": 0
      },
      "text/plain": [
       "interactive(children=(IntSlider(value=3, description='rows', max=51, min=3, readout=False), IntSlider(value=6,…"
      ]
     },
     "metadata": {},
     "output_type": "display_data"
    }
   ],
   "source": [
    "gdf_viewer(prv_eau, rows=3)"
   ]
  },
  {
   "cell_type": "code",
   "execution_count": 368,
   "id": "italian-explanation",
   "metadata": {},
   "outputs": [],
   "source": [
    "an=an.transpose()\n",
    "an.reset_index(drop=True, inplace=True)"
   ]
  },
  {
   "cell_type": "code",
   "execution_count": 369,
   "id": "victorian-sugar",
   "metadata": {},
   "outputs": [],
   "source": [
    "an=col_ren(an, 1)"
   ]
  },
  {
   "cell_type": "code",
   "execution_count": 370,
   "id": "yellow-fence",
   "metadata": {},
   "outputs": [],
   "source": [
    "an.replace(r'<|>','', inplace=True, regex=True)\n",
    "an.replace(r'-',np.nan, inplace=True, regex=True)\n",
    "an.rename(columns={an.columns[0]:'ID_ech'}, inplace=True)"
   ]
  },
  {
   "cell_type": "code",
   "execution_count": 371,
   "id": "hollywood-amsterdam",
   "metadata": {},
   "outputs": [
    {
     "name": "stdout",
     "output_type": "stream",
     "text": [
      "column(s) dropped: ['8:ammonium', '12:nitrite', '14:nitrate']\n"
     ]
    }
   ],
   "source": [
    "an=dble_col_drop(an)"
   ]
  },
  {
   "cell_type": "code",
   "execution_count": 372,
   "id": "sustained-projector",
   "metadata": {},
   "outputs": [
    {
     "name": "stdout",
     "output_type": "stream",
     "text": [
      "\n",
      "Columns dropped :['CARBONE ORGANIQUE', 'DEMANDE EN O2', 'COMPOSES AZOTES', 'COMPOSES SOUFRES ', 'ELEMENTS MAJEURS', 'AUTRES ANALYSES', 'cyanure (libre)', 'METHYL-TERT-BUTYL-ETHER', 'MTBE', 'Teneur mesurée ', 'Teneur mesurée', 'VS : Valeur seuil', \"(*) RP : Rapport de prélèvements; ES : Etude de sol; EO : Etude d'orientation; EC : Etude de caractérisation; SA : Suivi d'assainissement; EF : Evaluation finale\", \"(**) - : Pas d'impression organoleptique; + : Impression organoleptique faible; ++ : Impression organoleptique forte\", '(***) + : Limpide; - : Trouble; -- : Opaque', \"Le contenu des tableaux est conforme au modèle repris à l'annexe IX du GREO V03. Le formalisme a été adapté par SITEREM tout en garantissant la lisibilité du document imprimé. \"]\n",
      "\n"
     ]
    }
   ],
   "source": [
    "an=na_col_drop(an,3)"
   ]
  },
  {
   "cell_type": "code",
   "execution_count": 373,
   "id": "searching-shelter",
   "metadata": {},
   "outputs": [],
   "source": [
    "an.rename(columns={'col_9':'ammoniaque libre'}, inplace=True)"
   ]
  },
  {
   "cell_type": "code",
   "execution_count": 374,
   "id": "utility-enhancement",
   "metadata": {},
   "outputs": [],
   "source": [
    "an.drop(list(range(2)), axis=0, inplace=True)\n",
    "an.reset_index(drop=True, inplace=True)\n",
    "an=na_col_drop(an,1)\n",
    "an.insert(1,'Type_ech','Eau')"
   ]
  },
  {
   "cell_type": "code",
   "execution_count": 375,
   "id": "phantom-header",
   "metadata": {},
   "outputs": [],
   "source": [
    "an=col_ren(an, name=pol_field_model, mode=1)\n",
    "#an=an.iloc[:,:-7]"
   ]
  },
  {
   "cell_type": "code",
   "execution_count": 376,
   "id": "blind-duration",
   "metadata": {
    "scrolled": false
   },
   "outputs": [
    {
     "name": "stdout",
     "output_type": "stream",
     "text": [
      "Rows : 51, columns : 29\n"
     ]
    },
    {
     "data": {
      "application/vnd.jupyter.widget-view+json": {
       "model_id": "38db531f6f5c48f596899e0df441ecd6",
       "version_major": 2,
       "version_minor": 0
      },
      "text/plain": [
       "interactive(children=(IntSlider(value=3, description='rows', max=51, min=3, readout=False), IntSlider(value=12…"
      ]
     },
     "metadata": {},
     "output_type": "display_data"
    }
   ],
   "source": [
    "gdf_viewer(an, rows=3)"
   ]
  },
  {
   "cell_type": "code",
   "execution_count": 377,
   "id": "southwest-fossil",
   "metadata": {},
   "outputs": [
    {
     "name": "stdout",
     "output_type": "stream",
     "text": [
      "Rows : 87, columns : 13\n"
     ]
    },
    {
     "data": {
      "application/vnd.jupyter.widget-view+json": {
       "model_id": "f4e86a9d8c48446aad8d66fcd3266062",
       "version_major": 2,
       "version_minor": 0
      },
      "text/plain": [
       "interactive(children=(IntSlider(value=10, description='rows', max=87, min=10, readout=False), IntSlider(value=…"
      ]
     },
     "metadata": {},
     "output_type": "display_data"
    }
   ],
   "source": [
    "gdf_viewer(source_prv_eau)"
   ]
  },
  {
   "cell_type": "markdown",
   "id": "formal-approach",
   "metadata": {},
   "source": [
    "$\\color{red}{\\text{error on merge (mainly because of temporal data, can't compare col ..._x, ...y). I must check it after}}$"
   ]
  },
  {
   "cell_type": "raw",
   "id": "liked-moldova",
   "metadata": {},
   "source": [
    "source_prv_eau=gdf_merger(source_prv_eau, prv_eau, 'outer', 'ID_ech', )[0]\n",
    "source_an=gdf_merger(source_an, an, 'outer', 'ID_ech', )[0]"
   ]
  },
  {
   "cell_type": "code",
   "execution_count": 378,
   "id": "subsequent-trace",
   "metadata": {},
   "outputs": [
    {
     "name": "stdout",
     "output_type": "stream",
     "text": [
      "source_bh:0 ; source_pz:0 ; source_litho:0 ; source_Fac-uknw:0 ; source_an:87 ;\n",
      "source_prv_sol:0 ;source_prv_eau:87 ; source_mes_pz:0 ; source_mes_sol:0 ;\n"
     ]
    }
   ],
   "source": [
    "if not os.path.exists(tmp_dir):\n",
    "    os.makedirs(tmp_dir)\n",
    "\n",
    "#bh.to_csv(tmp_dir+'source_Boreholes.csv', index=False)\n",
    "#pz.to_csv(tmp_dir+sheet+'_Piezometers.csv', index=False)\n",
    "#ouv.to_csv(tmp_dir+sheet+'_Unkown-facility.csv', index=False)\n",
    "#litho.to_csv(tmp_dir+sheet+'_Lithology.csv', index=False)\n",
    "#mes_pz.to_csv(tmp_dir+sheet+'_Measures.csv', index=False)\n",
    "#mes_sol.to_csv(tmp_dir+sheet+'_Measures-soil.csv', index=False)\n",
    "prv_eau.to_csv(tmp_dir+sheet+'_Samples-water.csv', index=False)\n",
    "#prv_sol.to_csv(tmp_dir+sheet+'_Samples-soil.csv', index=False)\n",
    "an.to_csv(tmp_dir+sheet+'_Analysis.csv', index=False)\n",
    "\n",
    "\n",
    "#source_bh.to_csv(tmp_dir+'source_Boreholes.csv', index=False)\n",
    "#source_pz.to_csv(tmp_dir+'source_Piezometers.csv', index=False)\n",
    "#source_ouv.to_csv(tmp_dir+'source_Unkown-facility.csv', index=False)\n",
    "#source_litho.to_csv(tmp_dir+'source_Lithology.csv', index=False)\n",
    "#source_mes_pz.to_csv(tmp_dir+'source_Measures.csv', index=False)\n",
    "#source_mes_sol.to_csv(tmp_dir+'source_Measures-soil.csv', index=False)\n",
    "source_prv_eau.to_csv(tmp_dir+'source_Samples-water.csv', index=False)\n",
    "#source_prv_sol.to_csv(tmp_dir+'source_Samples-soil.csv', index=False)\n",
    "source_an.to_csv(tmp_dir+'source_Analysis.csv', index=False)\n",
    "\n",
    "\n",
    "print(f'source_bh:{len(source_bh)} ; source_pz:{len(source_pz)} ; source_litho:{len(source_litho)} ; '\n",
    "     f'source_Fac-uknw:{len(source_ouv)} ; source_an:{len(source_an)} ;\\nsource_prv_sol:{len(source_prv_sol)} ;'\n",
    "     f'source_prv_eau:{len(source_prv_eau)} ; source_mes_pz:{len(source_mes_pz)} ; source_mes_sol:{len(source_mes_sol)} ;')"
   ]
  },
  {
   "cell_type": "markdown",
   "id": "measured-realtor",
   "metadata": {},
   "source": [
    "## 13-Resultats_Siterem_SOL.xlsx\n",
    "* **Sheet : 'Résult SOL ext. pilote'**"
   ]
  },
  {
   "cell_type": "code",
   "execution_count": 379,
   "id": "measured-surgeon",
   "metadata": {},
   "outputs": [],
   "source": [
    "# New file, so the source variables must be overwritten !!\n",
    "_df=pd.DataFrame()\n",
    "source_mes_pz, source_mes_sol, source_pz, source_prv_eau, source_prv_sol =  _df, _df, _df, _df, _df\n",
    "source_ouv, source_an, source_litho, source_bh = _df, _df, _df, _df"
   ]
  },
  {
   "cell_type": "code",
   "execution_count": 380,
   "id": "sorted-president",
   "metadata": {},
   "outputs": [],
   "source": [
    "tmp_dir='../../CF_data/Result_traitem/Siterem_Result_Sol/'\n",
    "sheet='Result_sol_ExtP'"
   ]
  },
  {
   "cell_type": "code",
   "execution_count": 381,
   "id": "finite-supply",
   "metadata": {
    "scrolled": true
   },
   "outputs": [
    {
     "name": "stderr",
     "output_type": "stream",
     "text": [
      "/home/yanathan/.local/share/virtualenvs/GSDMA-DRfwm83x/lib/python3.8/site-packages/openpyxl/worksheet/_reader.py:308: UserWarning: Data Validation extension is not supported and will be removed\n",
      "  warn(msg)\n"
     ]
    },
    {
     "name": "stdout",
     "output_type": "stream",
     "text": [
      "7 NaN lines dropped\n",
      "\n",
      "Columns dropped :['Unnamed: 0', 'Unnamed: 2', 'Unnamed: 49', 'Unnamed: 51', 'Unnamed: 52', 'Unnamed: 53', 'Unnamed: 54', 'Unnamed: 55', 'Unnamed: 56', 'Unnamed: 57', 'Unnamed: 58', 'Unnamed: 59', 'Unnamed: 60', 'Unnamed: 61', 'Unnamed: 62', 'Unnamed: 63', 'Unnamed: 64', 'Unnamed: 65', 'Unnamed: 66', 'Unnamed: 67', 'Unnamed: 68', 'Unnamed: 69', 'Unnamed: 70', 'Unnamed: 71', 'Unnamed: 72', 'Unnamed: 73', 'Unnamed: 74', 'Unnamed: 75', 'Unnamed: 76', 'Unnamed: 77', 'Unnamed: 78', 'Unnamed: 79', 'Unnamed: 80', 'Unnamed: 81', 'Unnamed: 82', 'Unnamed: 83', 'Unnamed: 84', 'Unnamed: 85', 'Unnamed: 86', 'Unnamed: 87', 'Unnamed: 88', 'Unnamed: 89', 'Unnamed: 90', 'Unnamed: 91', 'Unnamed: 92', 'Unnamed: 93', 'Unnamed: 94', 'Unnamed: 95', 'Unnamed: 96', 'Unnamed: 97', 'Unnamed: 98', 'Unnamed: 99', 'Unnamed: 100', 'Unnamed: 101', 'Unnamed: 102', 'Unnamed: 103', 'Unnamed: 104', 'Unnamed: 105', 'Unnamed: 106', 'Unnamed: 107', 'Unnamed: 108', 'Unnamed: 109', 'Unnamed: 110', 'Unnamed: 111', 'Unnamed: 112', 'Unnamed: 113', 'Unnamed: 114', 'Unnamed: 115', 'Unnamed: 116', 'Unnamed: 117', 'Unnamed: 118', 'Unnamed: 119', 'Unnamed: 120', 'Unnamed: 121', 'Unnamed: 122', 'Unnamed: 123', 'Unnamed: 124', 'Unnamed: 125', 'Unnamed: 126', 'Unnamed: 127', 'Unnamed: 128', 'Unnamed: 129', 'Unnamed: 130', 'Unnamed: 131', 'Unnamed: 132', 'Unnamed: 133', 'Unnamed: 134', 'Unnamed: 135', 'Unnamed: 136', 'Unnamed: 137', 'Unnamed: 138', 'Unnamed: 139', 'Unnamed: 140', 'Unnamed: 141', 'Unnamed: 142', 'Unnamed: 143', 'Unnamed: 144', 'Unnamed: 145', 'Unnamed: 146', 'Unnamed: 147', 'Unnamed: 148', 'Unnamed: 149', 'Unnamed: 150', 'Unnamed: 151', 'Unnamed: 152', 'Unnamed: 153', 'Unnamed: 154', 'Unnamed: 155', 'Unnamed: 156', 'Unnamed: 157', 'Unnamed: 158', 'Unnamed: 159', 'Unnamed: 160', 'Unnamed: 161', 'Unnamed: 162', 'Unnamed: 163', 'Unnamed: 164', 'Unnamed: 165', 'Unnamed: 166', 'Unnamed: 167', 'Unnamed: 168', 'Unnamed: 169', 'Unnamed: 170', 'Unnamed: 171', 'Unnamed: 172', 'Unnamed: 173', 'Unnamed: 174', 'Unnamed: 175', 'Unnamed: 176', 'Unnamed: 177', 'Unnamed: 178', 'Unnamed: 179', 'Unnamed: 180', 'Unnamed: 181', 'Unnamed: 182', 'Unnamed: 183', 'Unnamed: 184', 'Unnamed: 185', 'Unnamed: 186', 'Unnamed: 187', 'Unnamed: 188', 'Unnamed: 189', 'Unnamed: 190', 'Unnamed: 191', 'Unnamed: 192', 'Unnamed: 193', 'Unnamed: 194', 'Unnamed: 195', 'Unnamed: 196', 'Unnamed: 197', 'Unnamed: 198', 'Unnamed: 199', 'Unnamed: 200', 'Unnamed: 201', 'Unnamed: 202', 'Unnamed: 203', 'Unnamed: 204', 'Unnamed: 205', 'Unnamed: 206', 'Unnamed: 207', 'Unnamed: 208', 'Unnamed: 209', 'Unnamed: 210', 'Unnamed: 211', 'Unnamed: 212', 'Unnamed: 213', 'Unnamed: 214', 'Unnamed: 215', 'Unnamed: 216', 'Unnamed: 217', 'Unnamed: 218', 'Unnamed: 219', 'Unnamed: 220', 'Unnamed: 221', 'Unnamed: 222', 'Unnamed: 223', 'Unnamed: 224', 'Unnamed: 225', 'Unnamed: 226', 'Unnamed: 227', 'Unnamed: 228', 'Unnamed: 229']\n",
      "\n",
      "Rows : 103, columns : 48\n"
     ]
    },
    {
     "name": "stderr",
     "output_type": "stream",
     "text": [
      "/home/yanathan/.local/share/virtualenvs/GSDMA-DRfwm83x/lib/python3.8/site-packages/pandas/core/frame.py:4305: SettingWithCopyWarning: \n",
      "A value is trying to be set on a copy of a slice from a DataFrame\n",
      "\n",
      "See the caveats in the documentation: https://pandas.pydata.org/pandas-docs/stable/user_guide/indexing.html#returning-a-view-versus-a-copy\n",
      "  return super().drop(\n"
     ]
    },
    {
     "data": {
      "application/vnd.jupyter.widget-view+json": {
       "model_id": "bd22fc32b7c9483e96c4f447593bc928",
       "version_major": 2,
       "version_minor": 0
      },
      "text/plain": [
       "interactive(children=(IntSlider(value=5, description='rows', max=103, min=5, readout=False), IntSlider(value=1…"
      ]
     },
     "metadata": {},
     "output_type": "display_data"
    }
   ],
   "source": [
    "df = pd.read_excel('../../CF_data/Data_SITEREM/Resultats_Siterem_SOL.xlsx', \n",
    "                   sheet_name='Résult SOL ext. pilote', skiprows=5)\n",
    "df=na_line_drop(df,0)\n",
    "df=na_col_drop(df,1)\n",
    "df.replace(r'<|>','', inplace=True, regex=True)\n",
    "df.replace(r'-$',np.nan, inplace=True, regex=True)\n",
    "\n",
    "gdf_viewer(df, rows=5)"
   ]
  },
  {
   "cell_type": "code",
   "execution_count": 382,
   "id": "exciting-identification",
   "metadata": {},
   "outputs": [],
   "source": [
    "prv_sol=df.loc[:22]\n",
    "an=df.loc[23:]"
   ]
  },
  {
   "cell_type": "code",
   "execution_count": 383,
   "id": "verbal-local",
   "metadata": {},
   "outputs": [
    {
     "name": "stderr",
     "output_type": "stream",
     "text": [
      "/home/yanathan/.local/share/virtualenvs/GSDMA-DRfwm83x/lib/python3.8/site-packages/pandas/core/indexing.py:692: SettingWithCopyWarning: \n",
      "A value is trying to be set on a copy of a slice from a DataFrame\n",
      "\n",
      "See the caveats in the documentation: https://pandas.pydata.org/pandas-docs/stable/user_guide/indexing.html#returning-a-view-versus-a-copy\n",
      "  iloc._setitem_with_indexer(indexer, value, self.name)\n"
     ]
    }
   ],
   "source": [
    "an.loc[0.5] = df.loc[0] # put data on first line\n",
    "an = an.sort_index().reset_index(drop=True)"
   ]
  },
  {
   "cell_type": "code",
   "execution_count": 384,
   "id": "minute-boards",
   "metadata": {},
   "outputs": [],
   "source": [
    "prv_sol=prv_sol.transpose()\n",
    "prv_sol.reset_index(drop=True, inplace=True)\n",
    "prv_sol=col_ren(prv_sol, 1)"
   ]
  },
  {
   "cell_type": "code",
   "execution_count": 385,
   "id": "passive-clock",
   "metadata": {},
   "outputs": [
    {
     "name": "stdout",
     "output_type": "stream",
     "text": [
      "column(s) dropped: ['16:température pour mes. pH']\n"
     ]
    }
   ],
   "source": [
    "prv_sol=dble_col_drop(prv_sol)"
   ]
  },
  {
   "cell_type": "code",
   "execution_count": 386,
   "id": "coordinated-winner",
   "metadata": {},
   "outputs": [
    {
     "name": "stdout",
     "output_type": "stream",
     "text": [
      "\n",
      "Columns dropped :['MO et COT', 'pH', 'GRANULOMETRIE']\n",
      "\n"
     ]
    }
   ],
   "source": [
    "prv_sol.drop(list(range(3)), axis=0, inplace=True)\n",
    "prv_sol.reset_index(drop=True, inplace=True)\n",
    "prv_sol=na_col_drop(prv_sol,1)\n",
    "prv_sol=na_line_drop(prv_sol,3)\n",
    "prv_sol.reset_index(drop=True, inplace=True)"
   ]
  },
  {
   "cell_type": "code",
   "execution_count": 387,
   "id": "extreme-champion",
   "metadata": {},
   "outputs": [
    {
     "name": "stdout",
     "output_type": "stream",
     "text": [
      "Rows : 44, columns : 19\n"
     ]
    },
    {
     "data": {
      "application/vnd.jupyter.widget-view+json": {
       "model_id": "30b015f8bea04aee8013bad823855a65",
       "version_major": 2,
       "version_minor": 0
      },
      "text/plain": [
       "interactive(children=(IntSlider(value=3, description='rows', max=44, min=3, readout=False), IntSlider(value=12…"
      ]
     },
     "metadata": {},
     "output_type": "display_data"
    }
   ],
   "source": [
    "gdf_viewer(prv_sol, rows=3)"
   ]
  },
  {
   "cell_type": "code",
   "execution_count": 388,
   "id": "tropical-reset",
   "metadata": {},
   "outputs": [
    {
     "name": "stderr",
     "output_type": "stream",
     "text": [
      "/home/yanathan/.local/share/virtualenvs/GSDMA-DRfwm83x/lib/python3.8/site-packages/pandas/core/frame.py:4305: SettingWithCopyWarning: \n",
      "A value is trying to be set on a copy of a slice from a DataFrame\n",
      "\n",
      "See the caveats in the documentation: https://pandas.pydata.org/pandas-docs/stable/user_guide/indexing.html#returning-a-view-versus-a-copy\n",
      "  return super().drop(\n"
     ]
    }
   ],
   "source": [
    "prv_sol=prv_sol[:-1]\n",
    "prv_sol.drop(columns=['broyage'], inplace=True)"
   ]
  },
  {
   "cell_type": "code",
   "execution_count": 389,
   "id": "continental-street",
   "metadata": {},
   "outputs": [
    {
     "name": "stderr",
     "output_type": "stream",
     "text": [
      "/home/yanathan/.local/share/virtualenvs/GSDMA-DRfwm83x/lib/python3.8/site-packages/pandas/core/frame.py:4438: SettingWithCopyWarning: \n",
      "A value is trying to be set on a copy of a slice from a DataFrame\n",
      "\n",
      "See the caveats in the documentation: https://pandas.pydata.org/pandas-docs/stable/user_guide/indexing.html#returning-a-view-versus-a-copy\n",
      "  return super().rename(\n"
     ]
    }
   ],
   "source": [
    "name=['ID_ech','Ech_top', 'Ech_base','MS','Date_prv','Long_for','Refus','Description','MO','COT','pH_KCl', \n",
    "      'Temp_pH_mes','pH_H20','Fract_2','Fract_2+', 'Fract_min_2µ','Fract_min_50µ','Fract_min_2']\n",
    "prv_sol=col_ren(prv_sol, name=name, mode=1)"
   ]
  },
  {
   "cell_type": "code",
   "execution_count": 390,
   "id": "respiratory-meaning",
   "metadata": {},
   "outputs": [
    {
     "data": {
      "text/plain": [
       "{'R', 'R ', 'TN', 'TN '}"
      ]
     },
     "execution_count": 390,
     "metadata": {},
     "output_type": "execute_result"
    }
   ],
   "source": [
    "set(prv_sol.Description)"
   ]
  },
  {
   "cell_type": "code",
   "execution_count": 391,
   "id": "economic-buffalo",
   "metadata": {},
   "outputs": [
    {
     "name": "stderr",
     "output_type": "stream",
     "text": [
      "/home/yanathan/.local/share/virtualenvs/GSDMA-DRfwm83x/lib/python3.8/site-packages/pandas/core/indexing.py:1637: SettingWithCopyWarning: \n",
      "A value is trying to be set on a copy of a slice from a DataFrame\n",
      "\n",
      "See the caveats in the documentation: https://pandas.pydata.org/pandas-docs/stable/user_guide/indexing.html#returning-a-view-versus-a-copy\n",
      "  self._setitem_single_block(indexer, value, name)\n",
      "/home/yanathan/.local/share/virtualenvs/GSDMA-DRfwm83x/lib/python3.8/site-packages/pandas/core/indexing.py:692: SettingWithCopyWarning: \n",
      "A value is trying to be set on a copy of a slice from a DataFrame\n",
      "\n",
      "See the caveats in the documentation: https://pandas.pydata.org/pandas-docs/stable/user_guide/indexing.html#returning-a-view-versus-a-copy\n",
      "  iloc._setitem_with_indexer(indexer, value, self.name)\n",
      "<ipython-input-391-44238aa5ab91>:6: SettingWithCopyWarning: \n",
      "A value is trying to be set on a copy of a slice from a DataFrame.\n",
      "Try using .loc[row_indexer,col_indexer] = value instead\n",
      "\n",
      "See the caveats in the documentation: https://pandas.pydata.org/pandas-docs/stable/user_guide/indexing.html#returning-a-view-versus-a-copy\n",
      "  prv_sol['Refus']=prv_sol['Refus'].apply(lambda x: 'x' if not pd.isnull(x) else '')\n"
     ]
    }
   ],
   "source": [
    "for i in range(len(prv_sol['Description'])):\n",
    "    x = prv_sol.loc[i,'Description']\n",
    "    if x in ['R','R ']: prv_sol.loc[i,'Description']='Remblais'\n",
    "    elif x in ['TN','TN ']: prv_sol.loc[i,'Description']='Terrain naturel'\n",
    "\n",
    "prv_sol['Refus']=prv_sol['Refus'].apply(lambda x: 'x' if not pd.isnull(x) else '')\n",
    "prv_sol.insert(1,'Type_ech','Sol')#"
   ]
  },
  {
   "cell_type": "code",
   "execution_count": 392,
   "id": "respected-eight",
   "metadata": {
    "scrolled": false
   },
   "outputs": [
    {
     "name": "stdout",
     "output_type": "stream",
     "text": [
      "Rows : 43, columns : 19\n"
     ]
    },
    {
     "data": {
      "application/vnd.jupyter.widget-view+json": {
       "model_id": "7000886487c649b281e59f998365c10a",
       "version_major": 2,
       "version_minor": 0
      },
      "text/plain": [
       "interactive(children=(IntSlider(value=3, description='rows', max=43, min=3, readout=False), IntSlider(value=12…"
      ]
     },
     "metadata": {},
     "output_type": "display_data"
    }
   ],
   "source": [
    "gdf_viewer(prv_sol, rows=3)"
   ]
  },
  {
   "cell_type": "code",
   "execution_count": 393,
   "id": "human-interaction",
   "metadata": {},
   "outputs": [],
   "source": [
    "an=an.transpose()\n",
    "an.reset_index(drop=True, inplace=True)"
   ]
  },
  {
   "cell_type": "code",
   "execution_count": 394,
   "id": "sufficient-opinion",
   "metadata": {},
   "outputs": [],
   "source": [
    "an=col_ren(an, 1)"
   ]
  },
  {
   "cell_type": "code",
   "execution_count": 395,
   "id": "certified-topic",
   "metadata": {},
   "outputs": [],
   "source": [
    "an.rename(columns={an.columns[0]:'ID_ech'}, inplace=True)"
   ]
  },
  {
   "cell_type": "code",
   "execution_count": 396,
   "id": "blind-ensemble",
   "metadata": {},
   "outputs": [],
   "source": [
    "name=['ID_ech','METAUX LOURDS','Arsenic','Cadmium','Chrome','Chrome VI','Cuivre','Mercure','Plomb','Nickel',\n",
    "'Zinc','CYANURES','cyanure (libre)','cyanure (totaux)','cyanure (APE)','cyanure complex','thiocyanate',\n",
    "'COMPOSES AROMATIQUES VOLATILS','Benzène','Toluène','Éthylbenzène','Orthoxylène','Para- et métaxylène','Xylènes',\n",
    "'Styrène','BTEX totaux','PHENOLS','Phénol','HYDROCARBURES AROMATIQUES POLYCYCLIQUES','Naphtalène','Acénaphtylène',\n",
    "'Acénaphtène','Fluorène','Phénanthrène','Anthracène','Fluoranthène','Pyrène','Benzo(a)anthracène','Chrysène',\n",
    "'Benzo(b)fluoranthène','Benzo(k)fluoranthène','Benzo(a)pyrène','Dibenzo(ah)anthracène','Benzo(ghi)pérylène',\n",
    "'Indéno(1,2,3-cd)pyrène','HAP Totaux (16) - EPA','COMPOSES ORGANOHALOGENES VOLATILS','Tétrachloroéthylène',\n",
    "'Trichloroéthylène','1,1-dichloroéthène','Cis-1,2-dichloroéthène','Trans 1,2-dichloroéthylène',\n",
    "'Totaux (cis,trans) 1,2-dichloroéthènes','Chlorure de vinyle','1,1,1-Trichloroéthane','1,1,2-Trichloroéthane',\n",
    "'1,1-Dichloroéthane','1,2-Dichloroéthane','Tétrachlorométhane','Chloroforme','Dichlorométhane',\n",
    "'1,2-dichloropropane','HYDROCARBURES TOTAUX','fraction aromat. >C6-C7','fraction aromat. >C7-C8',\n",
    "'fraction aromat. >C8-C10','fraction aliphat. C5-C6','fraction aliphat. >C6-C8','fraction aliphat. >C8-C10',\n",
    "'Fraction C5 - C8','Fraction C8 - C10','Fraction C10-C12','Fraction C12-C16','Fraction C16 - C21',\n",
    "'Fraction C21 - C35','Fraction C35 - C40','Hydrocarbures totaux C10-C35','Hydrocarbures totaux C10-C40',\n",
    "'Teneur mesurée','Teneur mesurée','VS : Valeur seuil']\n",
    "\n",
    "an=col_ren(an, name=name, mode=1)"
   ]
  },
  {
   "cell_type": "code",
   "execution_count": 397,
   "id": "caroline-suggestion",
   "metadata": {},
   "outputs": [
    {
     "name": "stdout",
     "output_type": "stream",
     "text": [
      "column(s) dropped: ['79:Teneur mesurée']\n"
     ]
    }
   ],
   "source": [
    "an=dble_col_drop(an)"
   ]
  },
  {
   "cell_type": "code",
   "execution_count": 398,
   "id": "informed-driver",
   "metadata": {},
   "outputs": [
    {
     "name": "stdout",
     "output_type": "stream",
     "text": [
      "\n",
      "Columns dropped :['METAUX LOURDS', 'CYANURES', 'COMPOSES AROMATIQUES VOLATILS', 'BTEX totaux', 'PHENOLS', 'HYDROCARBURES AROMATIQUES POLYCYCLIQUES', 'COMPOSES ORGANOHALOGENES VOLATILS', 'HYDROCARBURES TOTAUX', 'Teneur mesurée', 'VS : Valeur seuil']\n",
      "\n"
     ]
    }
   ],
   "source": [
    "an.drop(list(range(3)), axis=0, inplace=True)\n",
    "an.reset_index(drop=True, inplace=True)\n",
    "an=na_col_drop(an,1)\n",
    "an.insert(1,'Type_ech','Sol')"
   ]
  },
  {
   "cell_type": "code",
   "execution_count": 399,
   "id": "lonely-gender",
   "metadata": {},
   "outputs": [],
   "source": [
    "an=col_ren(an, name=pol_field_model, mode=1)"
   ]
  },
  {
   "cell_type": "code",
   "execution_count": 400,
   "id": "acquired-bundle",
   "metadata": {},
   "outputs": [],
   "source": [
    "an.rename(columns={'cyanure (totaux)':'CN_tot', 'cyanure (APE)':'CN_EPA'}, inplace=True)"
   ]
  },
  {
   "cell_type": "raw",
   "id": "scheduled-vault",
   "metadata": {},
   "source": [
    "set(prv_sol['ID_ech']).symmetric_difference(set(an['ID_ech'])) #lacking ID between the 2 sets"
   ]
  },
  {
   "cell_type": "code",
   "execution_count": 401,
   "id": "antique-spouse",
   "metadata": {},
   "outputs": [
    {
     "name": "stdout",
     "output_type": "stream",
     "text": [
      "Rows : 44, columns : 71\n"
     ]
    },
    {
     "data": {
      "application/vnd.jupyter.widget-view+json": {
       "model_id": "d6ce187adb4c467b809e9f7b3ef9ad30",
       "version_major": 2,
       "version_minor": 0
      },
      "text/plain": [
       "interactive(children=(IntSlider(value=5, description='rows', max=44, min=5, readout=False), IntSlider(value=12…"
      ]
     },
     "metadata": {},
     "output_type": "display_data"
    }
   ],
   "source": [
    "gdf_viewer(an, rows=5) "
   ]
  },
  {
   "cell_type": "code",
   "execution_count": 402,
   "id": "demanding-zimbabwe",
   "metadata": {},
   "outputs": [],
   "source": [
    "source_prv_sol=prv_sol\n",
    "source_an=an"
   ]
  },
  {
   "cell_type": "code",
   "execution_count": 403,
   "id": "encouraging-eclipse",
   "metadata": {
    "scrolled": false
   },
   "outputs": [
    {
     "name": "stdout",
     "output_type": "stream",
     "text": [
      "source_bh:0 ; source_pz:0 ; source_litho:0 ; source_Fac-uknw:0 ; source_an:44 ;\n",
      "source_prv_sol:43 ;source_prv_eau:0 ; source_mes_pz:0 ; source_mes_sol:0 ;\n"
     ]
    }
   ],
   "source": [
    "if not os.path.exists(tmp_dir):\n",
    "    os.makedirs(tmp_dir)\n",
    "\n",
    "#bh.to_csv(tmp_dir+'source_Boreholes.csv', index=False)\n",
    "#pz.to_csv(tmp_dir+sheet+'_Piezometers.csv', index=False)\n",
    "#ouv.to_csv(tmp_dir+sheet+'_Unkown-facility.csv', index=False)\n",
    "#litho.to_csv(tmp_dir+sheet+'_Lithology.csv', index=False)\n",
    "#mes_pz.to_csv(tmp_dir+sheet+'_Measures.csv', index=False)\n",
    "#mes_sol.to_csv(tmp_dir+sheet+'_Measures-soil.csv', index=False)\n",
    "#prv_eau.to_csv(tmp_dir+sheet+'_Samples-water.csv', index=False)\n",
    "prv_sol.to_csv(tmp_dir+sheet+'_Samples-soil.csv', index=False)\n",
    "an.to_csv(tmp_dir+sheet+'_Analysis.csv', index=False)\n",
    "\n",
    "\n",
    "#source_bh.to_csv(tmp_dir+'source_Boreholes.csv', index=False)\n",
    "#source_pz.to_csv(tmp_dir+'source_Piezometers.csv', index=False)\n",
    "#source_ouv.to_csv(tmp_dir+'source_Unkown-facility.csv', index=False)\n",
    "#source_litho.to_csv(tmp_dir+'source_Lithology.csv', index=False)\n",
    "#source_mes_pz.to_csv(tmp_dir+'source_Measures.csv', index=False)\n",
    "#source_mes_sol.to_csv(tmp_dir+'source_Measures-soil.csv', index=False)\n",
    "#source_prv_eau.to_csv(tmp_dir+'source_Samples-water.csv', index=False)\n",
    "source_prv_sol.to_csv(tmp_dir+'source_Samples-soil.csv', index=False)\n",
    "source_an.to_csv(tmp_dir+'source_Analysis.csv', index=False)\n",
    "\n",
    "\n",
    "print(f'source_bh:{len(source_bh)} ; source_pz:{len(source_pz)} ; source_litho:{len(source_litho)} ; '\n",
    "     f'source_Fac-uknw:{len(source_ouv)} ; source_an:{len(source_an)} ;\\nsource_prv_sol:{len(source_prv_sol)} ;'\n",
    "     f'source_prv_eau:{len(source_prv_eau)} ; source_mes_pz:{len(source_mes_pz)} ; source_mes_sol:{len(source_mes_sol)} ;')"
   ]
  },
  {
   "cell_type": "markdown",
   "id": "nutritional-falls",
   "metadata": {},
   "source": [
    "* **Sheet : 'SOL T1 pilote'**"
   ]
  },
  {
   "cell_type": "code",
   "execution_count": 404,
   "id": "brilliant-visit",
   "metadata": {},
   "outputs": [],
   "source": [
    "tmp_dir='../../CF_data/Result_traitem/Siterem_Result_Sol/'\n",
    "sheet='SOL_T1_Pilote'"
   ]
  },
  {
   "cell_type": "code",
   "execution_count": 405,
   "id": "sorted-purple",
   "metadata": {
    "scrolled": true
   },
   "outputs": [
    {
     "name": "stderr",
     "output_type": "stream",
     "text": [
      "/home/yanathan/.local/share/virtualenvs/GSDMA-DRfwm83x/lib/python3.8/site-packages/openpyxl/worksheet/_reader.py:308: UserWarning: Data Validation extension is not supported and will be removed\n",
      "  warn(msg)\n"
     ]
    },
    {
     "name": "stdout",
     "output_type": "stream",
     "text": [
      "4 NaN lines dropped\n",
      "\n",
      "Columns dropped :['Unnamed: 0', 'Unnamed: 2', 'Unnamed: 30', 'Unnamed: 31', 'Unnamed: 32', 'Unnamed: 33', 'Unnamed: 34', 'Unnamed: 35', 'Unnamed: 36', 'Unnamed: 38', 'Unnamed: 39', 'Unnamed: 40', 'Unnamed: 41', 'Unnamed: 42', 'Unnamed: 43', 'Unnamed: 44', 'Unnamed: 45', 'Unnamed: 46', 'Unnamed: 47', 'Unnamed: 48', 'Unnamed: 49', 'Unnamed: 50', 'Unnamed: 51', 'Unnamed: 52', 'Unnamed: 53', 'Unnamed: 54', 'Unnamed: 55', 'Unnamed: 56', 'Unnamed: 57', 'Unnamed: 58', 'Unnamed: 59', 'Unnamed: 60', 'Unnamed: 61', 'Unnamed: 62', 'Unnamed: 63', 'Unnamed: 64', 'Unnamed: 65', 'Unnamed: 66', 'Unnamed: 67', 'Unnamed: 68', 'Unnamed: 69', 'Unnamed: 70', 'Unnamed: 71', 'Unnamed: 72', 'Unnamed: 73', 'Unnamed: 74', 'Unnamed: 75', 'Unnamed: 76', 'Unnamed: 77', 'Unnamed: 78', 'Unnamed: 79', 'Unnamed: 80', 'Unnamed: 81', 'Unnamed: 82', 'Unnamed: 83', 'Unnamed: 84', 'Unnamed: 85', 'Unnamed: 86', 'Unnamed: 87', 'Unnamed: 88', 'Unnamed: 89', 'Unnamed: 90', 'Unnamed: 91', 'Unnamed: 92', 'Unnamed: 93', 'Unnamed: 94', 'Unnamed: 95', 'Unnamed: 96', 'Unnamed: 97', 'Unnamed: 98', 'Unnamed: 99', 'Unnamed: 100', 'Unnamed: 101', 'Unnamed: 102', 'Unnamed: 103', 'Unnamed: 104', 'Unnamed: 105', 'Unnamed: 106', 'Unnamed: 107', 'Unnamed: 108', 'Unnamed: 109', 'Unnamed: 110', 'Unnamed: 111', 'Unnamed: 112', 'Unnamed: 113', 'Unnamed: 114', 'Unnamed: 115', 'Unnamed: 116', 'Unnamed: 117', 'Unnamed: 118', 'Unnamed: 119', 'Unnamed: 120', 'Unnamed: 121', 'Unnamed: 122', 'Unnamed: 123', 'Unnamed: 124', 'Unnamed: 125', 'Unnamed: 126', 'Unnamed: 127', 'Unnamed: 128', 'Unnamed: 129', 'Unnamed: 130', 'Unnamed: 131', 'Unnamed: 132', 'Unnamed: 133', 'Unnamed: 134', 'Unnamed: 135', 'Unnamed: 136', 'Unnamed: 137', 'Unnamed: 138', 'Unnamed: 139', 'Unnamed: 140', 'Unnamed: 141', 'Unnamed: 142', 'Unnamed: 143', 'Unnamed: 144', 'Unnamed: 145', 'Unnamed: 146', 'Unnamed: 147', 'Unnamed: 148', 'Unnamed: 149', 'Unnamed: 150', 'Unnamed: 151', 'Unnamed: 152', 'Unnamed: 153', 'Unnamed: 154', 'Unnamed: 155', 'Unnamed: 156', 'Unnamed: 157', 'Unnamed: 158', 'Unnamed: 159', 'Unnamed: 160', 'Unnamed: 161', 'Unnamed: 162', 'Unnamed: 163', 'Unnamed: 164', 'Unnamed: 165', 'Unnamed: 166', 'Unnamed: 167', 'Unnamed: 168', 'Unnamed: 169', 'Unnamed: 170', 'Unnamed: 171', 'Unnamed: 172', 'Unnamed: 173', 'Unnamed: 174', 'Unnamed: 175', 'Unnamed: 176', 'Unnamed: 177', 'Unnamed: 178', 'Unnamed: 179', 'Unnamed: 180', 'Unnamed: 181', 'Unnamed: 182', 'Unnamed: 183', 'Unnamed: 184', 'Unnamed: 185', 'Unnamed: 186', 'Unnamed: 187', 'Unnamed: 188', 'Unnamed: 189', 'Unnamed: 190', 'Unnamed: 191', 'Unnamed: 192', 'Unnamed: 193', 'Unnamed: 194', 'Unnamed: 195', 'Unnamed: 196', 'Unnamed: 197', 'Unnamed: 198', 'Unnamed: 199', 'Unnamed: 200', 'Unnamed: 201', 'Unnamed: 202', 'Unnamed: 203', 'Unnamed: 204', 'Unnamed: 205', 'Unnamed: 206', 'Unnamed: 207', 'Unnamed: 208', 'Unnamed: 209', 'Unnamed: 210', 'Unnamed: 211', 'Unnamed: 212', 'Unnamed: 213', 'Unnamed: 214', 'Unnamed: 215', 'Unnamed: 216']\n",
      "\n",
      "Rows : 135, columns : 29\n"
     ]
    },
    {
     "name": "stderr",
     "output_type": "stream",
     "text": [
      "/home/yanathan/.local/share/virtualenvs/GSDMA-DRfwm83x/lib/python3.8/site-packages/pandas/core/frame.py:4305: SettingWithCopyWarning: \n",
      "A value is trying to be set on a copy of a slice from a DataFrame\n",
      "\n",
      "See the caveats in the documentation: https://pandas.pydata.org/pandas-docs/stable/user_guide/indexing.html#returning-a-view-versus-a-copy\n",
      "  return super().drop(\n"
     ]
    },
    {
     "data": {
      "application/vnd.jupyter.widget-view+json": {
       "model_id": "28f30f03565c4aa2b4651ac969b2a5ee",
       "version_major": 2,
       "version_minor": 0
      },
      "text/plain": [
       "interactive(children=(IntSlider(value=5, description='rows', max=135, min=5, readout=False), IntSlider(value=1…"
      ]
     },
     "metadata": {},
     "output_type": "display_data"
    }
   ],
   "source": [
    "df = pd.read_excel('../../CF_data/Data_SITEREM/Resultats_Siterem_SOL.xlsx', \n",
    "                   sheet_name='SOL T1 pilote', skiprows=5)\n",
    "df=na_line_drop(df,0)\n",
    "df=na_col_drop(df,1)\n",
    "df.replace(r'<|>','', inplace=True, regex=True)\n",
    "df.replace(r'-$',np.nan, inplace=True, regex=True)\n",
    "\n",
    "gdf_viewer(df, rows=5)"
   ]
  },
  {
   "cell_type": "code",
   "execution_count": 406,
   "id": "streaming-oriental",
   "metadata": {},
   "outputs": [],
   "source": [
    "prv_sol=df.loc[:35]\n",
    "an=df.loc[36:]"
   ]
  },
  {
   "cell_type": "code",
   "execution_count": 407,
   "id": "aging-balance",
   "metadata": {},
   "outputs": [
    {
     "name": "stderr",
     "output_type": "stream",
     "text": [
      "/home/yanathan/.local/share/virtualenvs/GSDMA-DRfwm83x/lib/python3.8/site-packages/pandas/core/indexing.py:692: SettingWithCopyWarning: \n",
      "A value is trying to be set on a copy of a slice from a DataFrame\n",
      "\n",
      "See the caveats in the documentation: https://pandas.pydata.org/pandas-docs/stable/user_guide/indexing.html#returning-a-view-versus-a-copy\n",
      "  iloc._setitem_with_indexer(indexer, value, self.name)\n"
     ]
    }
   ],
   "source": [
    "an.loc[0.5] = df.loc[0] # put data on first line\n",
    "an = an.sort_index().reset_index(drop=True)"
   ]
  },
  {
   "cell_type": "code",
   "execution_count": 408,
   "id": "psychological-insured",
   "metadata": {},
   "outputs": [],
   "source": [
    "prv_sol=prv_sol.transpose()\n",
    "prv_sol.reset_index(drop=True, inplace=True)\n",
    "prv_sol=col_ren(prv_sol, 1)"
   ]
  },
  {
   "cell_type": "code",
   "execution_count": 409,
   "id": "elegant-angel",
   "metadata": {},
   "outputs": [
    {
     "name": "stdout",
     "output_type": "stream",
     "text": [
      "column(s) dropped: ['9:Autre zone suspecte investiguée', '27:température pour mes. pH', '30:pH (H20)']\n"
     ]
    }
   ],
   "source": [
    "prv_sol=dble_col_drop(prv_sol)"
   ]
  },
  {
   "cell_type": "code",
   "execution_count": 410,
   "id": "short-constitution",
   "metadata": {},
   "outputs": [
    {
     "name": "stdout",
     "output_type": "stream",
     "text": [
      "\n",
      "Columns dropped :['Matières organiques', 'SPP/zone suspecte investiguée', 'Autre zone suspecte investiguée', 'Parcelle', 'X Lambert', 'Y Lambert', \"Type d'étude (*)\", 'Organoleptique couleur suspecte', 'Organoleptique odeur intensité (***)', 'Organoleptique odeur type', 'MO et COT', 'matières organiques', 'COT', 'pH', 'pH (KCl)', 'température pour mes. pH', 'pH (H20)', 'GRANULOMETRIE', 'Fraction argileuse', 'parties min. 2µm', 'parties min. 50µm', 'parties min. 2mm']\n",
      "\n",
      "9 NaN lines dropped\n"
     ]
    },
    {
     "name": "stderr",
     "output_type": "stream",
     "text": [
      "/home/yanathan/.local/share/virtualenvs/GSDMA-DRfwm83x/lib/python3.8/site-packages/pandas/core/frame.py:4305: SettingWithCopyWarning: \n",
      "A value is trying to be set on a copy of a slice from a DataFrame\n",
      "\n",
      "See the caveats in the documentation: https://pandas.pydata.org/pandas-docs/stable/user_guide/indexing.html#returning-a-view-versus-a-copy\n",
      "  return super().drop(\n"
     ]
    }
   ],
   "source": [
    "prv_sol.drop(list(range(3)), axis=0, inplace=True)\n",
    "prv_sol.reset_index(drop=True, inplace=True)\n",
    "prv_sol=na_col_drop(prv_sol,1)\n",
    "prv_sol=na_line_drop(prv_sol,3)\n",
    "prv_sol.reset_index(drop=True, inplace=True)"
   ]
  },
  {
   "cell_type": "code",
   "execution_count": 411,
   "id": "controlled-florence",
   "metadata": {},
   "outputs": [],
   "source": [
    "prv_sol=prv_sol[:-1]\n",
    "prv_sol.drop(columns=['broyage'], inplace=True)"
   ]
  },
  {
   "cell_type": "code",
   "execution_count": 412,
   "id": "industrial-bearing",
   "metadata": {},
   "outputs": [
    {
     "data": {
      "text/plain": [
       "Index(['Nom de l'échantillon', 'Profondeur échantillon de', 'à',\n",
       "       'Matière sèche', 'Date de prélèvement', 'Profondeur d'arrêt du forage',\n",
       "       'Refus de forage (seulement si oui)', 'Terrain naturel/Remblai (**)',\n",
       "       'fraction  2 mm (prép. séché à 40°C) ',\n",
       "       'fraction 2 mm (prép. séché à 40°C) '],\n",
       "      dtype='object')"
      ]
     },
     "execution_count": 412,
     "metadata": {},
     "output_type": "execute_result"
    }
   ],
   "source": [
    "prv_sol.columns"
   ]
  },
  {
   "cell_type": "code",
   "execution_count": 413,
   "id": "compliant-conversion",
   "metadata": {},
   "outputs": [],
   "source": [
    "name=['ID_ech','Ech_top', 'Ech_base','MS','Date_prv','Long_for','Refus','Nature_ech','Fract_2','Fract_2+']\n",
    "prv_sol=col_ren(prv_sol, name=name, mode=1)"
   ]
  },
  {
   "cell_type": "code",
   "execution_count": 414,
   "id": "planned-trinity",
   "metadata": {},
   "outputs": [],
   "source": [
    "for i in range(len(prv_sol['Nature_ech'])):\n",
    "    x = prv_sol.loc[i,'Nature_ech']\n",
    "    if x in ['R','R ']: prv_sol.loc[i,'Nature_ech']='Remblais'\n",
    "    elif x in ['TN','TN ']: prv_sol.loc[i,'Nature_ech']='Terrain naturel'\n",
    "\n",
    "prv_sol['Refus']=prv_sol['Refus'].apply(lambda x: 'x' if not pd.isnull(x) else '')\n",
    "prv_sol.insert(1,'Type_ech','Sol')#"
   ]
  },
  {
   "cell_type": "code",
   "execution_count": 415,
   "id": "continental-howard",
   "metadata": {
    "scrolled": false
   },
   "outputs": [
    {
     "name": "stdout",
     "output_type": "stream",
     "text": [
      "Rows : 15, columns : 11\n"
     ]
    },
    {
     "data": {
      "application/vnd.jupyter.widget-view+json": {
       "model_id": "7bc60b964b834004a694a46a48750438",
       "version_major": 2,
       "version_minor": 0
      },
      "text/plain": [
       "interactive(children=(IntSlider(value=3, description='rows', max=15, min=3, readout=False), IntSlider(value=11…"
      ]
     },
     "metadata": {},
     "output_type": "display_data"
    }
   ],
   "source": [
    "gdf_viewer(prv_sol, rows=3)"
   ]
  },
  {
   "cell_type": "code",
   "execution_count": 416,
   "id": "opposite-qatar",
   "metadata": {},
   "outputs": [],
   "source": [
    "an=an.transpose()\n",
    "an.reset_index(drop=True, inplace=True)"
   ]
  },
  {
   "cell_type": "code",
   "execution_count": 417,
   "id": "distributed-civilization",
   "metadata": {},
   "outputs": [],
   "source": [
    "an=col_ren(an, 1)"
   ]
  },
  {
   "cell_type": "code",
   "execution_count": 418,
   "id": "drawn-wyoming",
   "metadata": {},
   "outputs": [],
   "source": [
    "an.rename(columns={an.columns[0]:'ID_ech'}, inplace=True)"
   ]
  },
  {
   "cell_type": "code",
   "execution_count": 419,
   "id": "beautiful-trading",
   "metadata": {},
   "outputs": [],
   "source": [
    "name=['ID_ech','METAUX LOURDS','Arsenic','Cadmium','Chrome','Chrome VI','Cobalt','Cuivre','Mercure','Plomb', \n",
    "'Nickel','Zinc','CYANURES','cyanure (libre)','cyanure (totaux)','cyanure (APE)','cyanure complex','thiocyanate',\n",
    "'COMPOSES AROMATIQUES VOLATILS','Benzène','Toluène','Éthylbenzène', 'Orthoxylène','Para- et métaxylène','Xylènes',\n",
    "'Styrène','BTEX totaux','PHENOLS','Phénol','Indice phénol','HYDROCARBURES AROMATIQUES POLYCYCLIQUES','Naphtalène',\n",
    "'Acénaphtylène','Acénaphtène', 'Fluorène','Phénanthrène','Anthracène','Fluoranthène','Pyrène','Benzo(a)anthracène',\n",
    "'Chrysène','Benzo(b)fluoranthène','Benzo(k)fluoranthène','Benzo(a)pyrène','Dibenzo(ah)anthracène',\n",
    "'Benzo(ghi)pérylène','Indéno(1,2,3-cd)pyrène','HAP Totaux (16) - EPA','COMPOSES ORGANOHALOGENES VOLATILS',\n",
    "'Tétrachloroéthylène','Trichloroéthylène','1,1-dichloroéthène','Cis-1,2-dichloroéthène',\n",
    "'Trans 1,2-dichloroéthylène','Totaux (cis,trans) 1,2-dichloroéthènes','Chlorure de vinyle',\n",
    "'1,1,1-Trichloroéthane','1,1,2-Trichloroéthane','1,1-Dichloroéthane','1,2-Dichloroéthane','Tétrachlorométhane',\n",
    "'Chloroforme','Dichlorométhane','1,2-dichloropropane','EOX','HYDROCARBURES TOTAUX',\n",
    "'fraction aromat. >C6-C7','fraction aromat. >C7-C8','fraction aromat. >C8-C10','fraction aliphat. C5-C6',\n",
    "'fraction aliphat. >C6-C8','fraction aliphat. >C8-C10','Fraction C5 - C8','Fraction C8 - C10','Fraction C10-C12',\n",
    "'Fraction C12-C16','Fraction C16 - C21','Fraction C21 - C35','Fraction C35 - C40','Hydrocarbures totaux C10-C35',\n",
    "'Hydrocarbures totaux C10-C40','METHYL-TERT-BUTYL-ETHER','MTBE']\n",
    "\n",
    "an=an.iloc[:,:-17]\n",
    "an=col_ren(an, name=name, mode=1)"
   ]
  },
  {
   "cell_type": "raw",
   "id": "threatened-southeast",
   "metadata": {},
   "source": [
    "len(name), len(an.columns[:-17]), print(list(an.columns[:-17]))"
   ]
  },
  {
   "cell_type": "code",
   "execution_count": 420,
   "id": "still-legend",
   "metadata": {},
   "outputs": [
    {
     "name": "stdout",
     "output_type": "stream",
     "text": [
      "column(s) dropped: []\n"
     ]
    }
   ],
   "source": [
    "an=dble_col_drop(an)"
   ]
  },
  {
   "cell_type": "code",
   "execution_count": 421,
   "id": "colonial-tuition",
   "metadata": {},
   "outputs": [
    {
     "name": "stdout",
     "output_type": "stream",
     "text": [
      "\n",
      "Columns dropped :['METAUX LOURDS', 'Chrome VI', 'Cobalt', 'CYANURES', 'COMPOSES AROMATIQUES VOLATILS', 'BTEX totaux', 'PHENOLS', 'Phénol', 'Indice phénol', 'HYDROCARBURES AROMATIQUES POLYCYCLIQUES', 'COMPOSES ORGANOHALOGENES VOLATILS', 'EOX', 'HYDROCARBURES TOTAUX', 'METHYL-TERT-BUTYL-ETHER']\n",
      "\n"
     ]
    }
   ],
   "source": [
    "an.drop(list(range(3)), axis=0, inplace=True)\n",
    "an.reset_index(drop=True, inplace=True)\n",
    "an=na_col_drop(an,3)\n",
    "an.insert(1,'Type_ech','Sol')"
   ]
  },
  {
   "cell_type": "code",
   "execution_count": 422,
   "id": "stable-consolidation",
   "metadata": {},
   "outputs": [],
   "source": [
    "an=col_ren(an, name=pol_field_model, mode=1)"
   ]
  },
  {
   "cell_type": "code",
   "execution_count": 423,
   "id": "romantic-dylan",
   "metadata": {},
   "outputs": [],
   "source": [
    "an.rename(columns={'cyanure (totaux)':'CN_tot', 'cyanure (APE)':'CN_EPA'}, inplace=True)"
   ]
  },
  {
   "cell_type": "code",
   "execution_count": 424,
   "id": "planned-charger",
   "metadata": {},
   "outputs": [
    {
     "name": "stdout",
     "output_type": "stream",
     "text": [
      "Rows : 25, columns : 70\n"
     ]
    },
    {
     "data": {
      "application/vnd.jupyter.widget-view+json": {
       "model_id": "5332ddd80e0544b1a9203bba6f5a530d",
       "version_major": 2,
       "version_minor": 0
      },
      "text/plain": [
       "interactive(children=(IntSlider(value=5, description='rows', max=25, min=5, readout=False), IntSlider(value=12…"
      ]
     },
     "metadata": {},
     "output_type": "display_data"
    }
   ],
   "source": [
    "gdf_viewer(an, rows=5) "
   ]
  },
  {
   "cell_type": "raw",
   "id": "pharmaceutical-teddy",
   "metadata": {},
   "source": [
    "set(prv_sol['ID_ech']).symmetric_difference(set(an['ID_ech'])) #lacking ID between the 2 sets"
   ]
  },
  {
   "cell_type": "code",
   "execution_count": 425,
   "id": "extra-controversy",
   "metadata": {},
   "outputs": [],
   "source": [
    "#source_prv_sol.info()#, prv_sol.info()"
   ]
  },
  {
   "cell_type": "code",
   "execution_count": 426,
   "id": "german-checkout",
   "metadata": {},
   "outputs": [],
   "source": [
    "source_prv_sol=source_prv_sol[['ID_ech', 'Type_ech', 'Ech_top', 'Ech_base', 'MS', 'Date_prv','Long_for', \n",
    "                               'Refus', 'Description', 'Fract_2', 'Fract_2+']]"
   ]
  },
  {
   "cell_type": "code",
   "execution_count": 427,
   "id": "scheduled-swedish",
   "metadata": {},
   "outputs": [],
   "source": [
    "source_prv_sol=gdf_merger(source_prv_sol, prv_sol, col='ID_ech', how='outer')[0]"
   ]
  },
  {
   "cell_type": "code",
   "execution_count": 428,
   "id": "duplicate-bolivia",
   "metadata": {},
   "outputs": [],
   "source": [
    "source_an=gdf_merger(source_an,an,col='ID_ech', how='outer')[0]\n",
    "source_an=source_an.query('ID_ech==ID_ech')"
   ]
  },
  {
   "cell_type": "code",
   "execution_count": 429,
   "id": "smaller-clearance",
   "metadata": {
    "scrolled": false
   },
   "outputs": [
    {
     "name": "stdout",
     "output_type": "stream",
     "text": [
      "source_bh:0 ; source_pz:0 ; source_litho:0 ; source_Fac-uknw:0 ; source_an:58 ;\n",
      "source_prv_sol:58 ;source_prv_eau:0 ; source_mes_pz:0 ; source_mes_sol:0 ;\n"
     ]
    }
   ],
   "source": [
    "if not os.path.exists(tmp_dir):\n",
    "    os.makedirs(tmp_dir)\n",
    "\n",
    "#bh.to_csv(tmp_dir+'source_Boreholes.csv', index=False)\n",
    "#pz.to_csv(tmp_dir+sheet+'_Piezometers.csv', index=False)\n",
    "#ouv.to_csv(tmp_dir+sheet+'_Unkown-facility.csv', index=False)\n",
    "#litho.to_csv(tmp_dir+sheet+'_Lithology.csv', index=False)\n",
    "#mes_pz.to_csv(tmp_dir+sheet+'_Measures.csv', index=False)\n",
    "#mes_sol.to_csv(tmp_dir+sheet+'_Measures-soil.csv', index=False)\n",
    "#prv_eau.to_csv(tmp_dir+sheet+'_Samples-water.csv', index=False)\n",
    "prv_sol.to_csv(tmp_dir+sheet+'_Samples-soil.csv', index=False)\n",
    "an.to_csv(tmp_dir+sheet+'_Analysis.csv', index=False)\n",
    "\n",
    "\n",
    "#source_bh.to_csv(tmp_dir+'source_Boreholes.csv', index=False)\n",
    "#source_pz.to_csv(tmp_dir+'source_Piezometers.csv', index=False)\n",
    "#source_ouv.to_csv(tmp_dir+'source_Unkown-facility.csv', index=False)\n",
    "#source_litho.to_csv(tmp_dir+'source_Lithology.csv', index=False)\n",
    "#source_mes_pz.to_csv(tmp_dir+'source_Measures.csv', index=False)\n",
    "#source_mes_sol.to_csv(tmp_dir+'source_Measures-soil.csv', index=False)\n",
    "#source_prv_eau.to_csv(tmp_dir+'source_Samples-water.csv', index=False)\n",
    "source_prv_sol.to_csv(tmp_dir+'source_Samples-soil.csv', index=False)\n",
    "source_an.to_csv(tmp_dir+'source_Analysis.csv', index=False)\n",
    "\n",
    "\n",
    "print(f'source_bh:{len(source_bh)} ; source_pz:{len(source_pz)} ; source_litho:{len(source_litho)} ; '\n",
    "     f'source_Fac-uknw:{len(source_ouv)} ; source_an:{len(source_an)} ;\\nsource_prv_sol:{len(source_prv_sol)} ;'\n",
    "     f'source_prv_eau:{len(source_prv_eau)} ; source_mes_pz:{len(source_mes_pz)} ; source_mes_sol:{len(source_mes_sol)} ;')"
   ]
  },
  {
   "cell_type": "markdown",
   "id": "iraqi-uruguay",
   "metadata": {},
   "source": [
    "## 14-Logs_forages_vUmons_2018-03-20.xlsx\n",
    "* **Sheet : 'Analyse_eau_Phases1&2'**"
   ]
  },
  {
   "cell_type": "code",
   "execution_count": 430,
   "id": "civic-europe",
   "metadata": {},
   "outputs": [],
   "source": [
    "# New file, so the source variables must be overwritten !!\n",
    "_df=pd.DataFrame()\n",
    "source_mes_pz, source_mes_sol, source_pz, source_prv_eau, source_prv_sol =  _df, _df, _df, _df, _df\n",
    "source_ouv, source_an, source_litho, source_bh = _df, _df, _df, _df"
   ]
  },
  {
   "cell_type": "code",
   "execution_count": 431,
   "id": "coral-wagon",
   "metadata": {},
   "outputs": [],
   "source": [
    "tmp_dir='../../CF_data/Result_traitem/vUmons_logsFor/'\n",
    "sheet='Analyse_eau_Phases1&2'"
   ]
  },
  {
   "cell_type": "code",
   "execution_count": 432,
   "id": "stretch-stone",
   "metadata": {
    "scrolled": true
   },
   "outputs": [
    {
     "name": "stdout",
     "output_type": "stream",
     "text": [
      "1 NaN lines dropped\n",
      "Rows : 51, columns : 85\n"
     ]
    },
    {
     "name": "stderr",
     "output_type": "stream",
     "text": [
      "/home/yanathan/.local/share/virtualenvs/GSDMA-DRfwm83x/lib/python3.8/site-packages/pandas/core/frame.py:4305: SettingWithCopyWarning: \n",
      "A value is trying to be set on a copy of a slice from a DataFrame\n",
      "\n",
      "See the caveats in the documentation: https://pandas.pydata.org/pandas-docs/stable/user_guide/indexing.html#returning-a-view-versus-a-copy\n",
      "  return super().drop(\n"
     ]
    },
    {
     "data": {
      "application/vnd.jupyter.widget-view+json": {
       "model_id": "c66f9ca6b39742ea935d9db76148720d",
       "version_major": 2,
       "version_minor": 0
      },
      "text/plain": [
       "interactive(children=(IntSlider(value=5, description='rows', max=51, min=5, readout=False), IntSlider(value=12…"
      ]
     },
     "metadata": {},
     "output_type": "display_data"
    }
   ],
   "source": [
    "df = pd.read_excel('../../CF_data/Data_UMONS/Logs_forages_vUmons_2018-03-20.xlsx', \n",
    "                   sheet_name='Analyse_eau_Phases1&2', skiprows=0)\n",
    "df=na_line_drop(df,0)\n",
    "df=na_col_drop(df,1)\n",
    "df.replace(r'<|>','', inplace=True, regex=True)\n",
    "df.replace(r'-$',np.nan, inplace=True, regex=True)\n",
    "\n",
    "gdf_viewer(df, rows=5)"
   ]
  },
  {
   "cell_type": "code",
   "execution_count": 433,
   "id": "placed-receipt",
   "metadata": {},
   "outputs": [],
   "source": [
    "df.drop(list(range(4)), axis=0, inplace=True)\n",
    "df.reset_index(drop=True, inplace=True)"
   ]
  },
  {
   "cell_type": "code",
   "execution_count": 434,
   "id": "lightweight-oakland",
   "metadata": {},
   "outputs": [],
   "source": [
    "df.replace(9999,np.nan, inplace=True, regex=True) #int\n",
    "df.replace(f'[{9999}|9999].',np.nan, inplace=True, regex=True) #float, str"
   ]
  },
  {
   "cell_type": "code",
   "execution_count": 435,
   "id": "conventional-moderator",
   "metadata": {},
   "outputs": [],
   "source": [
    "df['CE']=df['CE'].apply(lambda x: pd.to_numeric(x)/1000 \n",
    "                                  if re.search('^\\d+', str(x)) and not pd.isnull(x) else np.nan)"
   ]
  },
  {
   "cell_type": "code",
   "execution_count": 436,
   "id": "right-actor",
   "metadata": {},
   "outputs": [],
   "source": [
    "df=col_ren(df,mode=1,name=[re.sub('9999','-',x) for x in df.columns])\n",
    "df=col_ren(df,mode=1, name=pol_field_model)"
   ]
  },
  {
   "cell_type": "code",
   "execution_count": 437,
   "id": "frequent-necklace",
   "metadata": {},
   "outputs": [],
   "source": [
    "name=['ID', 'ID_ech', 'Date_prv', 'X', 'Y', 'Z', 'Long_for','Long_pz_sol', 'Niv_eau_sol', 'pH', 'CE', 'T', \n",
    "      'As', 'Cd', 'Cr', 'Cr_VI', 'Cu', 'Hg','Pb', 'Ni', 'Zn', 'CN_libre', 'CN_tot', 'CN_APE', 'CN_comp',\n",
    "      'thioCN', 'Bnz_vn', 'Bnz', 'Toln_vn', 'Toln', 'EthylBnz','O-Xyl', 'P-M-Xyl', 'Xyl_vn', 'Xyl', 'Styr', \n",
    "      'Phenol','Naphta_vn', 'Naphta', 'Acenaphtyl', 'Acenaphtn', 'Fluorene',\n",
    "       'Phenanthr', 'Anthrc', 'Flranth', 'Pyr', 'Bnz(a)anthrc', 'Chrys',\n",
    "       'Bnz(b)flranth', 'Bnz(k)flranth', 'Bnz(a)pyr', 'Dibnz(ah)anthrc',\n",
    "       'Bnz(ghi)peryl', 'Indeno(1,2,3-cd)pyr', 'HAP_tot_EPA',\n",
    "       '1,1-DCE', '1,2-DCE', '1,1-DCEn', 'Cis-1,2-DCEn',\n",
    "       '(cis,trans) 1,2-DCE_tot', 'Trans 1,2-DCEyl', 'DCM', '1,2-DCP',\n",
    "       'TetraCEyn', 'TCM', '1,1,1-TCE', '1,1,2-TCE', 'TCEyn', 'Chloroforme',\n",
    "       'CVinyl', 'Arom_C6C7', 'Arom_C7C8', 'Arom_C8C10', 'Aliphat_C5C6',\n",
    "       'Aliphat_C6C8', 'Aliphat_C8C10', 'Fract_C5C8', 'Fract_C8C10',\n",
    "       'Fract_C10C12', 'Fract_C12C16', 'Fract_C16C21', 'Fract_C21C35',\n",
    "       'HC_tot_C10C35', 'MTBE', 'Chlorure']\n",
    "df=col_ren(df, mode=1,name=name)"
   ]
  },
  {
   "cell_type": "code",
   "execution_count": 438,
   "id": "treated-archive",
   "metadata": {
    "scrolled": true
   },
   "outputs": [],
   "source": [
    "df['ID_ech'].replace('Canne ', 'Can', inplace=True, regex=True)\n",
    "df['ID_ech'].replace('\\n', ' ', inplace=True, regex=True)\n",
    "df.insert(1,'Type_ech','Eau')"
   ]
  },
  {
   "cell_type": "code",
   "execution_count": 439,
   "id": "athletic-craps",
   "metadata": {
    "scrolled": true
   },
   "outputs": [],
   "source": [
    "df.drop([20,39], axis=0,inplace=True)\n",
    "df.reset_index(drop=True, inplace=True)"
   ]
  },
  {
   "cell_type": "code",
   "execution_count": 440,
   "id": "headed-chart",
   "metadata": {},
   "outputs": [],
   "source": [
    "df.loc[38:,'Date_prv']=df.loc[38:,'Date_prv'].apply(lambda x : dtm.datetime.fromordinal(dtm.datetime(1900, 1, 1).toordinal() + x - 2))"
   ]
  },
  {
   "cell_type": "code",
   "execution_count": 441,
   "id": "compact-parliament",
   "metadata": {},
   "outputs": [],
   "source": [
    "for i in range(len(df['ID_ech'])):\n",
    "    if pd.isnull(df.loc[i,'ID_ech']): \n",
    "        df.loc[i,'ID_ech']=df.loc[i,'ID']"
   ]
  },
  {
   "cell_type": "code",
   "execution_count": 442,
   "id": "substantial-value",
   "metadata": {},
   "outputs": [
    {
     "name": "stderr",
     "output_type": "stream",
     "text": [
      "<ipython-input-442-2952af2d6473>:2: SettingWithCopyWarning: \n",
      "A value is trying to be set on a copy of a slice from a DataFrame.\n",
      "Try using .loc[row_indexer,col_indexer] = value instead\n",
      "\n",
      "See the caveats in the documentation: https://pandas.pydata.org/pandas-docs/stable/user_guide/indexing.html#returning-a-view-versus-a-copy\n",
      "  pz['Type'] = 'Piezo'\n"
     ]
    }
   ],
   "source": [
    "pz=df[['ID', 'X', 'Y', 'Z', 'Long_for','Long_pz_sol']]\n",
    "pz['Type'] = 'Piezo'\n",
    "\n",
    "prv_eau=df[['ID_ech','Type_ech','Date_prv', 'X', 'Y', 'Z','Niv_eau_sol', 'pH', 'CE', 'T']]\n",
    "an=df[['ID_ech','Type_ech','Date_prv','As', 'Cd', 'Cr', 'Cr_VI', 'Cu', 'Hg','Pb', 'Ni', 'Zn', 'CN_libre', 'CN_tot', 'CN_APE', \n",
    "       'CN_comp','thioCN', 'Bnz_vn', 'Bnz', 'Toln_vn', 'Toln', 'EthylBnz','O-Xyl', 'P-M-Xyl', 'Xyl_vn', 'Xyl',\n",
    "       'Styr', 'Phenol','Naphta_vn', 'Naphta', 'Acenaphtyl', 'Acenaphtn', 'Fluorene',\n",
    "       'Phenanthr', 'Anthrc', 'Flranth', 'Pyr', 'Bnz(a)anthrc', 'Chrys',\n",
    "       'Bnz(b)flranth', 'Bnz(k)flranth', 'Bnz(a)pyr', 'Dibnz(ah)anthrc',\n",
    "       'Bnz(ghi)peryl', 'Indeno(1,2,3-cd)pyr', 'HAP_tot_EPA',\n",
    "       '1,1-DCE', '1,2-DCE', '1,1-DCEn', 'Cis-1,2-DCEn',\n",
    "       '(cis,trans) 1,2-DCE_tot', 'Trans 1,2-DCEyl', 'DCM', '1,2-DCP',\n",
    "       'TetraCEyn', 'TCM', '1,1,1-TCE', '1,1,2-TCE', 'TCEyn', 'Chloroforme',\n",
    "       'CVinyl', 'Arom_C6C7', 'Arom_C7C8', 'Arom_C8C10', 'Aliphat_C5C6',\n",
    "       'Aliphat_C6C8', 'Aliphat_C8C10', 'Fract_C5C8', 'Fract_C8C10',\n",
    "       'Fract_C10C12', 'Fract_C12C16', 'Fract_C16C21', 'Fract_C21C35',\n",
    "       'HC_tot_C10C35', 'MTBE', 'Chlorure']]"
   ]
  },
  {
   "cell_type": "code",
   "execution_count": 443,
   "id": "recent-piece",
   "metadata": {},
   "outputs": [
    {
     "name": "stderr",
     "output_type": "stream",
     "text": [
      "<ipython-input-443-5e1af1ec470d>:1: SettingWithCopyWarning: \n",
      "A value is trying to be set on a copy of a slice from a DataFrame\n",
      "\n",
      "See the caveats in the documentation: https://pandas.pydata.org/pandas-docs/stable/user_guide/indexing.html#returning-a-view-versus-a-copy\n",
      "  pz.drop_duplicates(subset=['ID'], keep='first', ignore_index=True, inplace=True)\n"
     ]
    }
   ],
   "source": [
    "pz.drop_duplicates(subset=['ID'], keep='first', ignore_index=True, inplace=True)"
   ]
  },
  {
   "cell_type": "code",
   "execution_count": 444,
   "id": "former-while",
   "metadata": {},
   "outputs": [
    {
     "name": "stdout",
     "output_type": "stream",
     "text": [
      "Rows : 45, columns : 76\n"
     ]
    },
    {
     "data": {
      "application/vnd.jupyter.widget-view+json": {
       "model_id": "16f0967c468b41e9a4b5c0af295dd047",
       "version_major": 2,
       "version_minor": 0
      },
      "text/plain": [
       "interactive(children=(IntSlider(value=5, description='rows', max=45, min=5, readout=False), IntSlider(value=12…"
      ]
     },
     "metadata": {},
     "output_type": "display_data"
    }
   ],
   "source": [
    "gdf_viewer(an, rows=5)"
   ]
  },
  {
   "cell_type": "code",
   "execution_count": 445,
   "id": "reduced-medicare",
   "metadata": {},
   "outputs": [],
   "source": [
    "source_an=an\n",
    "source_pz=pz\n",
    "source_prv_eau=prv_eau"
   ]
  },
  {
   "cell_type": "code",
   "execution_count": 446,
   "id": "recovered-extraction",
   "metadata": {
    "scrolled": false
   },
   "outputs": [
    {
     "name": "stdout",
     "output_type": "stream",
     "text": [
      "source_bh:0 ; source_pz:29 ; source_litho:0 ; source_Fac-uknw:0 ; source_an:45 ;\n",
      "source_prv_sol:0 ;source_prv_eau:45 ; source_mes_pz:0 ; source_mes_sol:0 ;\n"
     ]
    }
   ],
   "source": [
    "if not os.path.exists(tmp_dir):\n",
    "    os.makedirs(tmp_dir)\n",
    "\n",
    "#bh.to_csv(tmp_dir+'source_Boreholes.csv', index=False)\n",
    "pz.to_csv(tmp_dir+sheet+'_Piezometers.csv', index=False)\n",
    "#ouv.to_csv(tmp_dir+sheet+'_Unkown-facility.csv', index=False)\n",
    "#litho.to_csv(tmp_dir+sheet+'_Lithology.csv', index=False)\n",
    "#mes_pz.to_csv(tmp_dir+sheet+'_Measures.csv', index=False)\n",
    "#mes_sol.to_csv(tmp_dir+sheet+'_Measures-soil.csv', index=False)\n",
    "prv_eau.to_csv(tmp_dir+sheet+'_Samples-water.csv', index=False)\n",
    "#prv_sol.to_csv(tmp_dir+sheet+'_Samples-soil.csv', index=False)\n",
    "an.to_csv(tmp_dir+sheet+'_Analysis.csv', index=False)\n",
    "\n",
    "\n",
    "#source_bh.to_csv(tmp_dir+'source_Boreholes.csv', index=False)\n",
    "source_pz.to_csv(tmp_dir+'source_Piezometers.csv', index=False)\n",
    "#source_ouv.to_csv(tmp_dir+'source_Unkown-facility.csv', index=False)\n",
    "#source_litho.to_csv(tmp_dir+'source_Lithology.csv', index=False)\n",
    "#source_mes_pz.to_csv(tmp_dir+'source_Measures.csv', index=False)\n",
    "#source_mes_sol.to_csv(tmp_dir+'source_Measures-soil.csv', index=False)\n",
    "source_prv_eau.to_csv(tmp_dir+'source_Samples-water.csv', index=False)\n",
    "#source_prv_sol.to_csv(tmp_dir+'source_Samples-soil.csv', index=False)\n",
    "source_an.to_csv(tmp_dir+'source_Analysis.csv', index=False)\n",
    "\n",
    "\n",
    "print(f'source_bh:{len(source_bh)} ; source_pz:{len(source_pz)} ; source_litho:{len(source_litho)} ; '\n",
    "     f'source_Fac-uknw:{len(source_ouv)} ; source_an:{len(source_an)} ;\\nsource_prv_sol:{len(source_prv_sol)} ;'\n",
    "     f'source_prv_eau:{len(source_prv_eau)} ; source_mes_pz:{len(source_mes_pz)} ; source_mes_sol:{len(source_mes_sol)} ;')"
   ]
  },
  {
   "cell_type": "markdown",
   "id": "noted-citizenship",
   "metadata": {},
   "source": [
    "* **Sheet : 'Analyse_sol_Phases1&2'**"
   ]
  },
  {
   "cell_type": "code",
   "execution_count": 447,
   "id": "controlling-enlargement",
   "metadata": {},
   "outputs": [],
   "source": [
    "tmp_dir='../../CF_data/Result_traitem/vUmons_logsFor/'\n",
    "sheet='Analyse_sol_Phases1&2'"
   ]
  },
  {
   "cell_type": "code",
   "execution_count": 448,
   "id": "adverse-wells",
   "metadata": {
    "scrolled": false
   },
   "outputs": [
    {
     "name": "stdout",
     "output_type": "stream",
     "text": [
      "Rows : 64, columns : 84\n"
     ]
    },
    {
     "data": {
      "application/vnd.jupyter.widget-view+json": {
       "model_id": "5f4ec949d3c24003bb3c813bc6641705",
       "version_major": 2,
       "version_minor": 0
      },
      "text/plain": [
       "interactive(children=(IntSlider(value=5, description='rows', max=64, min=5, readout=False), IntSlider(value=12…"
      ]
     },
     "metadata": {},
     "output_type": "display_data"
    }
   ],
   "source": [
    "df = pd.read_excel('../../CF_data/Data_UMONS/Logs_forages_vUmons_2018-03-20.xlsx', \n",
    "                   sheet_name='Analyse_sol_Phases1&2', skiprows=0)\n",
    "df=na_line_drop(df,0)\n",
    "df=na_col_drop(df,1)\n",
    "df.replace(r'<|>','', inplace=True, regex=True)\n",
    "df.replace(r'-$',np.nan, inplace=True, regex=True)\n",
    "\n",
    "gdf_viewer(df, rows=5)"
   ]
  },
  {
   "cell_type": "code",
   "execution_count": 449,
   "id": "interesting-present",
   "metadata": {},
   "outputs": [],
   "source": [
    "df=col_ren(df, mode=1, name=pol_field_model)"
   ]
  },
  {
   "cell_type": "code",
   "execution_count": 450,
   "id": "through-smooth",
   "metadata": {},
   "outputs": [],
   "source": [
    "name=['ID_ech','Date_prv','ID','X','Y','Z','Nature_ech','Organo','Long_for','Refus','Ech_top','Ech_base',\n",
    "      'MS','Broyage < 150 µm','Broyage ','Fract_2','Fract_2+','As','Cd','Cr','Cr_VI','Cu',\n",
    "       'Hg','Pb','Ni','Zn','CN_libre','CN_tot','CN_APE',\n",
    "       'CN_comp','thioCN','Bnz','Toln','EthylBnz','O-Xyl','P-M-Xyl',\n",
    "       'Xyl','Styr','Phenol','Naphta','Acenaphtyl','Acenaphtn',\n",
    "       'Fluorene','Phenanthr','Anthrc','Flranth','Pyr','Bnz(a)anthrc',\n",
    "       'Chrys','Bnz(b)flranth','Bnz(k)flranth','Bnz(a)pyr',\n",
    "       'Dibnz(ah)anthrc','Bnz(ghi)peryl','Indeno(1,2,3-cd)pyr',\n",
    "       'HAP_tot_EPA','1,1-DCE','1,2-DCE','1,1-DCEn',\n",
    "       'Cis-1,2-DCEn','Trans 1,2-DCEyl','DCM',\n",
    "       '(cis,trans) 1,2-DCE_tot','1,2-DCP','TetraCEyn','TCM',\n",
    "       '1,1,1-TCE','1,1,2-TCE','TCEyn','Chloroforme','CVinyl','Arom_C6C7',\n",
    "       'Arom_C7C8','Arom_C8C10','Aliphat_C5C6','Aliphat_C6C8',\n",
    "       'Aliphat_C8C10','Fract_C5C8','Fract_C8C10','Fract_C10C12',\n",
    "       'Fract_C12C16','Fract_C16C21','Fract_C21C35','HC_tot_C10C35']\n",
    "df=col_ren(df, mode=1, name=name)"
   ]
  },
  {
   "cell_type": "code",
   "execution_count": 451,
   "id": "funny-operator",
   "metadata": {},
   "outputs": [],
   "source": [
    "df.drop(list(range(4)), axis=0, inplace=True)\n",
    "df.reset_index(drop=True, inplace=True)"
   ]
  },
  {
   "cell_type": "code",
   "execution_count": 452,
   "id": "excited-substitute",
   "metadata": {},
   "outputs": [],
   "source": [
    "df.replace(9999,np.nan, inplace=True, regex=True) #int\n",
    "df.replace(f'[{9999}|9999].',np.nan, inplace=True, regex=True) #float, str"
   ]
  },
  {
   "cell_type": "code",
   "execution_count": 453,
   "id": "accurate-hypothesis",
   "metadata": {},
   "outputs": [],
   "source": [
    "for i in range(len(df['Nature_ech'])):\n",
    "    x = df.loc[i,'Nature_ech']\n",
    "    if x in ['R','R ']: df.loc[i,'Nature_ech']='Remblais'\n",
    "    elif x in ['L']: df.loc[i,'Nature_ech']='Limons'\n",
    "    elif x in ['LA']: df.loc[i,'Nature_ech']='Limons et argiles'\n",
    "    elif x in ['LS']: df.loc[i,'Nature_ech']='Limons et sables'\n",
    "\n",
    "df['Refus']=df['Refus'].apply(lambda x: 'x' if not pd.isnull(x) else '')\n",
    "df.insert(1,'Type_ech','Sol')"
   ]
  },
  {
   "cell_type": "code",
   "execution_count": 454,
   "id": "improving-advocacy",
   "metadata": {},
   "outputs": [],
   "source": [
    "df.drop(14, axis=0, inplace=True)\n",
    "df.drop(['Broyage < 150 µm', 'Broyage '], axis=1, inplace=True)\n",
    "df.reset_index(drop=True, inplace=True)"
   ]
  },
  {
   "cell_type": "code",
   "execution_count": 455,
   "id": "retired-melissa",
   "metadata": {},
   "outputs": [],
   "source": [
    "df.loc[8, 'ID_ech']='F4/2M'\n",
    "df.loc[31, 'ID_ech']='P19/1'\n",
    "df.loc[32, 'ID_ech']='P19/2'"
   ]
  },
  {
   "cell_type": "code",
   "execution_count": 456,
   "id": "convinced-deviation",
   "metadata": {},
   "outputs": [
    {
     "name": "stderr",
     "output_type": "stream",
     "text": [
      "<ipython-input-456-ad17bae8a7a7>:2: SettingWithCopyWarning: \n",
      "A value is trying to be set on a copy of a slice from a DataFrame.\n",
      "Try using .loc[row_indexer,col_indexer] = value instead\n",
      "\n",
      "See the caveats in the documentation: https://pandas.pydata.org/pandas-docs/stable/user_guide/indexing.html#returning-a-view-versus-a-copy\n",
      "  pz['Type'] = 'Piezo'\n"
     ]
    }
   ],
   "source": [
    "pz=df[['ID', 'X', 'Y', 'Z', 'Long_for','Refus']]\n",
    "pz['Type'] = 'Piezo'\n",
    "\n",
    "prv_sol=df[['ID_ech', 'Type_ech', 'Date_prv', 'X', 'Y', 'Z', 'Nature_ech','Organo', \n",
    "            'Ech_top', 'Ech_base', 'MS', 'Fract_2','Fract_2+']]\n",
    "an=df[['ID_ech', 'Type_ech','As', 'Cd', 'Cr', 'Cr_VI', 'Cu', 'Hg', 'Pb', 'Ni', 'Zn',\n",
    "       'CN_libre', 'CN_tot', 'CN_APE', 'CN_comp', 'thioCN', 'Bnz', 'Toln',\n",
    "       'EthylBnz', 'O-Xyl', 'P-M-Xyl', 'Xyl', 'Styr', 'Phenol', 'Naphta',\n",
    "       'Acenaphtyl', 'Acenaphtn', 'Fluorene', 'Phenanthr', 'Anthrc', 'Flranth',\n",
    "       'Pyr', 'Bnz(a)anthrc', 'Chrys', 'Bnz(b)flranth', 'Bnz(k)flranth',\n",
    "       'Bnz(a)pyr', 'Dibnz(ah)anthrc', 'Bnz(ghi)peryl', 'Indeno(1,2,3-cd)pyr',\n",
    "       'HAP_tot_EPA', '1,1-DCE', '1,2-DCE', '1,1-DCEn', 'Cis-1,2-DCEn',\n",
    "       'Trans 1,2-DCEyl', 'DCM', '(cis,trans) 1,2-DCE_tot', '1,2-DCP',\n",
    "       'TetraCEyn', 'TCM', '1,1,1-TCE', '1,1,2-TCE', 'TCEyn', 'Chloroforme',\n",
    "       'CVinyl', 'Arom_C6C7', 'Arom_C7C8', 'Arom_C8C10', 'Aliphat_C5C6',\n",
    "       'Aliphat_C6C8', 'Aliphat_C8C10', 'Fract_C5C8', 'Fract_C8C10',\n",
    "       'Fract_C10C12', 'Fract_C12C16', 'Fract_C16C21', 'Fract_C21C35',\n",
    "       'HC_tot_C10C35']]"
   ]
  },
  {
   "cell_type": "code",
   "execution_count": 457,
   "id": "reflected-reduction",
   "metadata": {},
   "outputs": [
    {
     "name": "stdout",
     "output_type": "stream",
     "text": [
      "Rows : 59, columns : 83\n"
     ]
    },
    {
     "data": {
      "application/vnd.jupyter.widget-view+json": {
       "model_id": "8129fa3b1603415ba7531b5dc226197f",
       "version_major": 2,
       "version_minor": 0
      },
      "text/plain": [
       "interactive(children=(IntSlider(value=5, description='rows', max=59, min=5, readout=False), IntSlider(value=12…"
      ]
     },
     "metadata": {},
     "output_type": "display_data"
    }
   ],
   "source": [
    "gdf_viewer(df, rows=5)"
   ]
  },
  {
   "cell_type": "code",
   "execution_count": 458,
   "id": "horizontal-pathology",
   "metadata": {},
   "outputs": [],
   "source": [
    "source_an=source_an.append(an, ignore_index=True)\n",
    "source_pz=pz\n",
    "source_prv_sol=prv_sol"
   ]
  },
  {
   "cell_type": "code",
   "execution_count": 459,
   "id": "floating-denmark",
   "metadata": {
    "scrolled": false
   },
   "outputs": [
    {
     "name": "stdout",
     "output_type": "stream",
     "text": [
      "source_bh:0 ; source_pz:59 ; source_litho:0 ; source_Fac-uknw:0 ; source_an:104 ;\n",
      "source_prv_sol:59 ;source_prv_eau:45 ; source_mes_pz:0 ; source_mes_sol:0 ;\n"
     ]
    }
   ],
   "source": [
    "if not os.path.exists(tmp_dir):\n",
    "    os.makedirs(tmp_dir)\n",
    "\n",
    "#bh.to_csv(tmp_dir+'source_Boreholes.csv', index=False)\n",
    "pz.to_csv(tmp_dir+sheet+'_Piezometers.csv', index=False)\n",
    "#ouv.to_csv(tmp_dir+sheet+'_Unkown-facility.csv', index=False)\n",
    "#litho.to_csv(tmp_dir+sheet+'_Lithology.csv', index=False)\n",
    "#mes_pz.to_csv(tmp_dir+sheet+'_Measures.csv', index=False)\n",
    "#mes_sol.to_csv(tmp_dir+sheet+'_Measures-soil.csv', index=False)\n",
    "#prv_eau.to_csv(tmp_dir+sheet+'_Samples-water.csv', index=False)\n",
    "prv_sol.to_csv(tmp_dir+sheet+'_Samples-soil.csv', index=False)\n",
    "an.to_csv(tmp_dir+sheet+'_Analysis.csv', index=False)\n",
    "\n",
    "\n",
    "#source_bh.to_csv(tmp_dir+'source_Boreholes.csv', index=False)\n",
    "source_pz.to_csv(tmp_dir+'source_Piezometers.csv', index=False)\n",
    "#source_ouv.to_csv(tmp_dir+'source_Unkown-facility.csv', index=False)\n",
    "#source_litho.to_csv(tmp_dir+'source_Lithology.csv', index=False)\n",
    "#source_mes_pz.to_csv(tmp_dir+'source_Measures.csv', index=False)\n",
    "#source_mes_sol.to_csv(tmp_dir+'source_Measures-soil.csv', index=False)\n",
    "#source_prv_eau.to_csv(tmp_dir+'source_Samples-water.csv', index=False)\n",
    "source_prv_sol.to_csv(tmp_dir+'source_Samples-soil.csv', index=False)\n",
    "source_an.to_csv(tmp_dir+'source_Analysis.csv', index=False)\n",
    "\n",
    "\n",
    "print(f'source_bh:{len(source_bh)} ; source_pz:{len(source_pz)} ; source_litho:{len(source_litho)} ; '\n",
    "     f'source_Fac-uknw:{len(source_ouv)} ; source_an:{len(source_an)} ;\\nsource_prv_sol:{len(source_prv_sol)} ;'\n",
    "     f'source_prv_eau:{len(source_prv_eau)} ; source_mes_pz:{len(source_mes_pz)} ; source_mes_sol:{len(source_mes_sol)} ;')"
   ]
  },
  {
   "cell_type": "markdown",
   "id": "diverse-italic",
   "metadata": {},
   "source": [
    "* **Sheet : 'Synthèse'**"
   ]
  },
  {
   "cell_type": "code",
   "execution_count": 460,
   "id": "grand-token",
   "metadata": {},
   "outputs": [],
   "source": [
    "tmp_dir='../../CF_data/Result_traitem/vUmons_logsFor/'\n",
    "sheet='Synthese'"
   ]
  },
  {
   "cell_type": "code",
   "execution_count": 461,
   "id": "spoken-cycling",
   "metadata": {
    "scrolled": false
   },
   "outputs": [
    {
     "name": "stdout",
     "output_type": "stream",
     "text": [
      "4 NaN lines dropped\n",
      "\n",
      "Columns dropped :['Unnamed: 0', 'Unnamed: 15', 'Unnamed: 16']\n",
      "\n",
      "Rows : 33, columns : 14\n"
     ]
    },
    {
     "name": "stderr",
     "output_type": "stream",
     "text": [
      "/home/yanathan/.local/share/virtualenvs/GSDMA-DRfwm83x/lib/python3.8/site-packages/pandas/core/frame.py:4305: SettingWithCopyWarning: \n",
      "A value is trying to be set on a copy of a slice from a DataFrame\n",
      "\n",
      "See the caveats in the documentation: https://pandas.pydata.org/pandas-docs/stable/user_guide/indexing.html#returning-a-view-versus-a-copy\n",
      "  return super().drop(\n"
     ]
    },
    {
     "data": {
      "application/vnd.jupyter.widget-view+json": {
       "model_id": "3bf86e51feb847ba80dad78073e46300",
       "version_major": 2,
       "version_minor": 0
      },
      "text/plain": [
       "interactive(children=(IntSlider(value=5, description='rows', max=33, min=5, readout=False), IntSlider(value=12…"
      ]
     },
     "metadata": {},
     "output_type": "display_data"
    }
   ],
   "source": [
    "df = pd.read_excel('../../CF_data/Data_UMONS/Logs_forages_vUmons_2018-03-20.xlsx', \n",
    "                   sheet_name='Synthèse', skiprows=1)\n",
    "df=na_line_drop(df,0)\n",
    "df=na_col_drop(df,1)\n",
    "df.replace(r'<|>','', inplace=True, regex=True)\n",
    "df.replace(r'-$',np.nan, inplace=True, regex=True)\n",
    "\n",
    "gdf_viewer(df, rows=5)"
   ]
  },
  {
   "cell_type": "code",
   "execution_count": 462,
   "id": "martial-delta",
   "metadata": {},
   "outputs": [
    {
     "name": "stderr",
     "output_type": "stream",
     "text": [
      "/home/yanathan/.local/share/virtualenvs/GSDMA-DRfwm83x/lib/python3.8/site-packages/pandas/core/frame.py:4521: SettingWithCopyWarning: \n",
      "A value is trying to be set on a copy of a slice from a DataFrame\n",
      "\n",
      "See the caveats in the documentation: https://pandas.pydata.org/pandas-docs/stable/user_guide/indexing.html#returning-a-view-versus-a-copy\n",
      "  return super().replace(\n",
      "<ipython-input-462-5043325bfea1>:3: SettingWithCopyWarning: \n",
      "A value is trying to be set on a copy of a slice from a DataFrame.\n",
      "Try using .loc[row_indexer,col_indexer] = value instead\n",
      "\n",
      "See the caveats in the documentation: https://pandas.pydata.org/pandas-docs/stable/user_guide/indexing.html#returning-a-view-versus-a-copy\n",
      "  df['Refus']=df['Refus'].apply(lambda x: 'x' if not pd.isnull(x) else '')\n"
     ]
    }
   ],
   "source": [
    "df=df[:29]\n",
    "df.replace('\\*','', inplace=True, regex=True)\n",
    "df['Refus']=df['Refus'].apply(lambda x: 'x' if not pd.isnull(x) else '')"
   ]
  },
  {
   "cell_type": "code",
   "execution_count": 463,
   "id": "mineral-bridges",
   "metadata": {},
   "outputs": [
    {
     "name": "stderr",
     "output_type": "stream",
     "text": [
      "/home/yanathan/.local/share/virtualenvs/GSDMA-DRfwm83x/lib/python3.8/site-packages/pandas/core/frame.py:4438: SettingWithCopyWarning: \n",
      "A value is trying to be set on a copy of a slice from a DataFrame\n",
      "\n",
      "See the caveats in the documentation: https://pandas.pydata.org/pandas-docs/stable/user_guide/indexing.html#returning-a-view-versus-a-copy\n",
      "  return super().rename(\n"
     ]
    }
   ],
   "source": [
    "name=['ID','X','Y','Z', 'Refus','Long_for', 'RB', 'ALL', 'S_A', 'S_S', \n",
    "      'Rb_base','All_top', 'Soc_alt_top','Soc_sn_top']\n",
    "df=col_ren(df, mode=1, name=name)"
   ]
  },
  {
   "cell_type": "code",
   "execution_count": 464,
   "id": "silver-breath",
   "metadata": {
    "scrolled": true
   },
   "outputs": [
    {
     "name": "stderr",
     "output_type": "stream",
     "text": [
      "/home/yanathan/.local/share/virtualenvs/GSDMA-DRfwm83x/lib/python3.8/site-packages/pandas/core/indexing.py:1599: SettingWithCopyWarning: \n",
      "A value is trying to be set on a copy of a slice from a DataFrame.\n",
      "Try using .loc[row_indexer,col_indexer] = value instead\n",
      "\n",
      "See the caveats in the documentation: https://pandas.pydata.org/pandas-docs/stable/user_guide/indexing.html#returning-a-view-versus-a-copy\n",
      "  self.obj[key] = infer_fill_value(value)\n",
      "/home/yanathan/.local/share/virtualenvs/GSDMA-DRfwm83x/lib/python3.8/site-packages/pandas/core/indexing.py:1720: SettingWithCopyWarning: \n",
      "A value is trying to be set on a copy of a slice from a DataFrame.\n",
      "Try using .loc[row_indexer,col_indexer] = value instead\n",
      "\n",
      "See the caveats in the documentation: https://pandas.pydata.org/pandas-docs/stable/user_guide/indexing.html#returning-a-view-versus-a-copy\n",
      "  self._setitem_single_column(loc, value, pi)\n",
      "<ipython-input-464-23f871e10e39>:13: SettingWithCopyWarning: \n",
      "A value is trying to be set on a copy of a slice from a DataFrame\n",
      "\n",
      "See the caveats in the documentation: https://pandas.pydata.org/pandas-docs/stable/user_guide/indexing.html#returning-a-view-versus-a-copy\n",
      "  df.loc[i+.2,cols]=df.loc[i,cols]\n"
     ]
    }
   ],
   "source": [
    "cols=['ID','X','Y','Z', 'Refus','Long_for']\n",
    "\n",
    "for i in range(len(df)):\n",
    "    if not pd.isnull(df.loc[i, 'RB']): \n",
    "        df.loc[i, 'Nappe']='Remblais'\n",
    "        df.loc[i, 'Litho_top']=0\n",
    "        if not pd.isnull(df.loc[i, 'Rb_base']):\n",
    "            df.loc[i, 'Litho_base']=df.loc[i, 'Rb_base']\n",
    "        else:\n",
    "            df.loc[i, 'Litho_base']=df.loc[i, 'Long_for']\n",
    "    \n",
    "    if not pd.isnull(df.loc[i, 'ALL']):\n",
    "        df.loc[i+.2,cols]=df.loc[i,cols]\n",
    "        df.loc[i+.2, 'Nappe']='Alluvions'\n",
    "        df.loc[i+.2, 'Litho_top']=df.loc[i, 'All_top']\n",
    "        if not pd.isnull(df.loc[i, 'S_A']):\n",
    "            df.loc[i+.2, 'Litho_base']=df.loc[i, 'Soc_alt_top']\n",
    "        else:\n",
    "            df.loc[i+.2, 'Litho_base']=df.loc[i, 'Long_for']\n",
    "    \n",
    "    if not pd.isnull(df.loc[i, 'S_A']):\n",
    "        df.loc[i+.5,cols]=df.loc[i,cols]\n",
    "        df.loc[i+.5, 'Nappe']='Socle altéré'\n",
    "        df.loc[i+.5, 'Litho_top']=df.loc[i, 'Soc_alt_top']\n",
    "        if not pd.isnull(df.loc[i, 'S_S']):\n",
    "            df.loc[i+.5, 'Litho_base']=df.loc[i, 'Soc_sn_top']\n",
    "        else:\n",
    "            df.loc[i+.5, 'Litho_base']=df.loc[i, 'Long_for']\n",
    "            \n",
    "    if not pd.isnull(df.loc[i, 'S_S']):\n",
    "        df.loc[i+.7,cols]=df.loc[i,cols]\n",
    "        df.loc[i+.7, 'Nappe']='Socle sain'\n",
    "        df.loc[i+.7, 'Litho_top']=df.loc[i, 'Soc_sn_top']\n",
    "        df.loc[i+.7, 'Litho_base']=df.loc[i, 'Long_for']\n",
    "\n",
    "df.drop(columns=['RB', 'ALL', 'S_A', 'S_S', 'Rb_base','All_top', 'Soc_alt_top','Soc_sn_top'], inplace=True)\n",
    "df.sort_index(inplace=True)\n",
    "df.reset_index(drop=True, inplace=True)"
   ]
  },
  {
   "cell_type": "code",
   "execution_count": 465,
   "id": "devoted-pathology",
   "metadata": {},
   "outputs": [
    {
     "name": "stdout",
     "output_type": "stream",
     "text": [
      "Rows : 51, columns : 9\n"
     ]
    },
    {
     "data": {
      "application/vnd.jupyter.widget-view+json": {
       "model_id": "b0ed3d05af294ecca0ad730c935c3d0d",
       "version_major": 2,
       "version_minor": 0
      },
      "text/plain": [
       "interactive(children=(IntSlider(value=5, description='rows', max=51, min=5, readout=False), IntSlider(value=9,…"
      ]
     },
     "metadata": {},
     "output_type": "display_data"
    }
   ],
   "source": [
    "gdf_viewer(df, rows=5, cols=15)"
   ]
  },
  {
   "cell_type": "code",
   "execution_count": 466,
   "id": "specialized-pledge",
   "metadata": {
    "scrolled": true
   },
   "outputs": [
    {
     "data": {
      "text/plain": [
       "Index(['ID', 'X', 'Y', 'Z', 'Refus', 'Long_for', 'Nappe', 'Litho_top',\n",
       "       'Litho_base'],\n",
       "      dtype='object')"
      ]
     },
     "execution_count": 466,
     "metadata": {},
     "output_type": "execute_result"
    }
   ],
   "source": [
    "df.columns"
   ]
  },
  {
   "cell_type": "code",
   "execution_count": 467,
   "id": "personalized-switch",
   "metadata": {},
   "outputs": [
    {
     "name": "stderr",
     "output_type": "stream",
     "text": [
      "<ipython-input-467-9924416919ae>:2: SettingWithCopyWarning: \n",
      "A value is trying to be set on a copy of a slice from a DataFrame.\n",
      "Try using .loc[row_indexer,col_indexer] = value instead\n",
      "\n",
      "See the caveats in the documentation: https://pandas.pydata.org/pandas-docs/stable/user_guide/indexing.html#returning-a-view-versus-a-copy\n",
      "  bh['Type']='Forage'\n"
     ]
    }
   ],
   "source": [
    "bh=df[['ID','X','Y','Z','Long_for','Refus']]\n",
    "bh['Type']='Forage'\n",
    "\n",
    "litho=df[['ID','X','Y','Z','Litho_top','Litho_base','Nappe']]\n",
    "source_litho=litho"
   ]
  },
  {
   "cell_type": "code",
   "execution_count": 468,
   "id": "accepted-vienna",
   "metadata": {
    "scrolled": true
   },
   "outputs": [
    {
     "name": "stdout",
     "output_type": "stream",
     "text": [
      "source_bh:0 ; source_pz:59 ; source_litho:51 ; source_Fac-uknw:0 ; source_an:104 ;\n",
      "source_prv_sol:59 ;source_prv_eau:45 ; source_mes_pz:0 ; source_mes_sol:0 ;\n"
     ]
    }
   ],
   "source": [
    "if not os.path.exists(tmp_dir):\n",
    "    os.makedirs(tmp_dir)\n",
    "\n",
    "bh.to_csv(tmp_dir+sheet+'source_Boreholes.csv', index=False)\n",
    "#pz.to_csv(tmp_dir+sheet+'_Piezometers.csv', index=False)\n",
    "#ouv.to_csv(tmp_dir+sheet+'_Unkown-facility.csv', index=False)\n",
    "litho.to_csv(tmp_dir+sheet+'_Lithology.csv', index=False)\n",
    "#mes_pz.to_csv(tmp_dir+sheet+'_Measures.csv', index=False)\n",
    "#mes_sol.to_csv(tmp_dir+sheet+'_Measures-soil.csv', index=False)\n",
    "#prv_eau.to_csv(tmp_dir+sheet+'_Samples-water.csv', index=False)\n",
    "#prv_sol.to_csv(tmp_dir+sheet+'_Samples-soil.csv', index=False)\n",
    "#an.to_csv(tmp_dir+sheet+'_Analysis.csv', index=False)\n",
    "\n",
    "\n",
    "#source_bh.to_csv(tmp_dir+'source_Boreholes.csv', index=False)\n",
    "#source_pz.to_csv(tmp_dir+'source_Piezometers.csv', index=False)\n",
    "#source_ouv.to_csv(tmp_dir+'source_Unkown-facility.csv', index=False)\n",
    "source_litho.to_csv(tmp_dir+'source_Lithology.csv', index=False)\n",
    "#source_mes_pz.to_csv(tmp_dir+'source_Measures.csv', index=False)\n",
    "#source_mes_sol.to_csv(tmp_dir+'source_Measures-soil.csv', index=False)\n",
    "#source_prv_eau.to_csv(tmp_dir+'source_Samples-water.csv', index=False)\n",
    "#source_prv_sol.to_csv(tmp_dir+'source_Samples-soil.csv', index=False)\n",
    "#source_an.to_csv(tmp_dir+'source_Analysis.csv', index=False)\n",
    "\n",
    "\n",
    "print(f'source_bh:{len(source_bh)} ; source_pz:{len(source_pz)} ; source_litho:{len(source_litho)} ; '\n",
    "     f'source_Fac-uknw:{len(source_ouv)} ; source_an:{len(source_an)} ;\\nsource_prv_sol:{len(source_prv_sol)} ;'\n",
    "     f'source_prv_eau:{len(source_prv_eau)} ; source_mes_pz:{len(source_mes_pz)} ; source_mes_sol:{len(source_mes_sol)} ;')"
   ]
  },
  {
   "cell_type": "markdown",
   "id": "alien-career",
   "metadata": {},
   "source": [
    "* **Sheet : 'Sond2017v2'**"
   ]
  },
  {
   "cell_type": "code",
   "execution_count": 469,
   "id": "electric-martial",
   "metadata": {},
   "outputs": [],
   "source": [
    "tmp_dir='../../CF_data/Result_traitem/vUmons_logsFor/'\n",
    "sheet='Sond2017v2'"
   ]
  },
  {
   "cell_type": "code",
   "execution_count": 470,
   "id": "decent-basis",
   "metadata": {
    "scrolled": true
   },
   "outputs": [
    {
     "name": "stdout",
     "output_type": "stream",
     "text": [
      "\n",
      "Columns dropped :['Unnamed: 18', 'Unnamed: 19', 'Unnamed: 20', 'Unnamed: 21', 'Unnamed: 22', 'Unnamed: 23', 'Unnamed: 24', 'Unnamed: 25', 'Unnamed: 26', 'Unnamed: 27', 'Unnamed: 28', 'Unnamed: 29', 'Unnamed: 30', 'Unnamed: 31']\n",
      "\n",
      "Rows : 71, columns : 18\n"
     ]
    },
    {
     "data": {
      "application/vnd.jupyter.widget-view+json": {
       "model_id": "51aec8d5632a438e94c6b8f0e28afdb8",
       "version_major": 2,
       "version_minor": 0
      },
      "text/plain": [
       "interactive(children=(IntSlider(value=5, description='rows', max=71, min=5, readout=False), IntSlider(value=12…"
      ]
     },
     "metadata": {},
     "output_type": "display_data"
    }
   ],
   "source": [
    "df = pd.read_excel('../../CF_data/Data_UMONS/Logs_forages_vUmons_2018-03-20.xlsx', \n",
    "                   sheet_name='Sond2017v2', skiprows=0)\n",
    "df=na_line_drop(df,0)\n",
    "df=na_col_drop(df,1)\n",
    "df.replace(r'<|>','', inplace=True, regex=True)\n",
    "df.replace(r'-$',np.nan, inplace=True, regex=True)\n",
    "\n",
    "gdf_viewer(df, rows=5)"
   ]
  },
  {
   "cell_type": "code",
   "execution_count": 471,
   "id": "structured-apartment",
   "metadata": {},
   "outputs": [],
   "source": [
    "df.replace('\\*','', inplace=True, regex=True)\n",
    "df['Refus']=df['Refus'].apply(lambda x: 'x' if x==1 else '')"
   ]
  },
  {
   "cell_type": "code",
   "execution_count": 472,
   "id": "random-slope",
   "metadata": {},
   "outputs": [],
   "source": [
    "name=['R_ID','ID','X','Y','Z','Refus','Date_ouv','Long_for','Z_fond','RB','ALL', 'S_A', 'S_S', \n",
    "      'Rb_base','cote_rb','All_top', 'Soc_alt_top','Soc_sn_top']\n",
    "df=col_ren(df, mode=1, name=name)\n",
    "df=df[['ID','X','Y','Z','Refus','Date_ouv','Long_for','Z_fond','RB','ALL', 'S_A', 'S_S', \n",
    "      'Rb_base','All_top', 'Soc_alt_top','Soc_sn_top']]"
   ]
  },
  {
   "cell_type": "code",
   "execution_count": 473,
   "id": "younger-practitioner",
   "metadata": {
    "scrolled": true
   },
   "outputs": [
    {
     "name": "stderr",
     "output_type": "stream",
     "text": [
      "/home/yanathan/.local/share/virtualenvs/GSDMA-DRfwm83x/lib/python3.8/site-packages/pandas/core/indexing.py:1599: SettingWithCopyWarning: \n",
      "A value is trying to be set on a copy of a slice from a DataFrame.\n",
      "Try using .loc[row_indexer,col_indexer] = value instead\n",
      "\n",
      "See the caveats in the documentation: https://pandas.pydata.org/pandas-docs/stable/user_guide/indexing.html#returning-a-view-versus-a-copy\n",
      "  self.obj[key] = infer_fill_value(value)\n",
      "/home/yanathan/.local/share/virtualenvs/GSDMA-DRfwm83x/lib/python3.8/site-packages/pandas/core/indexing.py:1720: SettingWithCopyWarning: \n",
      "A value is trying to be set on a copy of a slice from a DataFrame.\n",
      "Try using .loc[row_indexer,col_indexer] = value instead\n",
      "\n",
      "See the caveats in the documentation: https://pandas.pydata.org/pandas-docs/stable/user_guide/indexing.html#returning-a-view-versus-a-copy\n",
      "  self._setitem_single_column(loc, value, pi)\n"
     ]
    }
   ],
   "source": [
    "cols=['ID','Date_ouv','X','Y','Z','Z_fond','Refus','Long_for']\n",
    "\n",
    "for i in range(len(df)):    \n",
    "    if df.loc[i, 'RB']==1: \n",
    "        df.loc[i, 'Nappe']='Remblais'\n",
    "        df.loc[i, 'Litho_top']=0\n",
    "        \n",
    "        if not pd.isnull(df.loc[i, 'Rb_base']): df.loc[i, 'Litho_base']=df.loc[i, 'Rb_base']\n",
    "        else: df.loc[i, 'Litho_base']=df.loc[i, 'Long_for']\n",
    "    \n",
    "    val_def=df.loc[i, 'Litho_base'] # temporary value of litho_base if nan\n",
    "    \n",
    "    if df.loc[i, 'ALL']==1:\n",
    "        df.loc[i+.2,cols]=df.loc[i,cols]\n",
    "        df.loc[i+.2, 'Nappe']='Alluvions'\n",
    "        \n",
    "        if not pd.isnull(df.loc[i, 'All_top']): df.loc[i+.2, 'Litho_top']=df.loc[i, 'All_top']\n",
    "        else: df.loc[i+.2, 'Litho_top']=val_def #df.loc[i, 'litho_base']\n",
    "            \n",
    "        if df.loc[i, 'S_A']==1: df.loc[i+.2, 'Litho_base']=df.loc[i, 'Soc_alt_top']\n",
    "        else: df.loc[i+.2, 'Litho_base']=df.loc[i, 'Long_for']\n",
    "    \n",
    "    if df.loc[i, 'S_A']==1:\n",
    "        df.loc[i+.5,cols]=df.loc[i,cols]\n",
    "        df.loc[i+.5, 'Nappe']='Socle altéré'\n",
    "        \n",
    "        if not pd.isnull(df.loc[i, 'Soc_alt_top']): df.loc[i+.5, 'Litho_top']=df.loc[i, 'Soc_alt_top']\n",
    "        else: df.loc[i+.5, 'Litho_top']=val_def #df.loc[i+.2, 'litho_base']\n",
    "        \n",
    "        if df.loc[i, 'S_S']==1: df.loc[i+.5, 'Litho_base']=df.loc[i, 'Soc_sn_top']\n",
    "        else: df.loc[i+.5, 'Litho_base']=df.loc[i, 'Long_for']\n",
    "            \n",
    "    if df.loc[i, 'S_S']==1:\n",
    "        df.loc[i+.7,cols]=df.loc[i,cols]\n",
    "        df.loc[i+.7, 'Nappe']='Socle sain'\n",
    "        df.loc[i+.7, 'Litho_top']=df.loc[i, 'Soc_sn_top']\n",
    "        df.loc[i+.7, 'Litho_base']=df.loc[i, 'Long_for']\n",
    "\n",
    "df.drop(columns=['RB', 'ALL', 'S_A', 'S_S','Rb_base','All_top', 'Soc_alt_top','Soc_sn_top'], inplace=True)\n",
    "df.sort_index(inplace=True)\n",
    "df.reset_index(drop=True, inplace=True)"
   ]
  },
  {
   "cell_type": "code",
   "execution_count": 474,
   "id": "smaller-extension",
   "metadata": {},
   "outputs": [],
   "source": [
    "df=df[:-1]"
   ]
  },
  {
   "cell_type": "code",
   "execution_count": 475,
   "id": "pediatric-dylan",
   "metadata": {
    "scrolled": true
   },
   "outputs": [
    {
     "name": "stdout",
     "output_type": "stream",
     "text": [
      "Rows : 109, columns : 11\n"
     ]
    },
    {
     "data": {
      "application/vnd.jupyter.widget-view+json": {
       "model_id": "ed923078562f4de08d96d7fab01919cb",
       "version_major": 2,
       "version_minor": 0
      },
      "text/plain": [
       "interactive(children=(IntSlider(value=5, description='rows', max=109, min=5, readout=False), IntSlider(value=1…"
      ]
     },
     "metadata": {},
     "output_type": "display_data"
    }
   ],
   "source": [
    "gdf_viewer(df, rows=5, cols=15)"
   ]
  },
  {
   "cell_type": "code",
   "execution_count": 476,
   "id": "innocent-serum",
   "metadata": {
    "scrolled": true
   },
   "outputs": [
    {
     "name": "stderr",
     "output_type": "stream",
     "text": [
      "<ipython-input-476-e71cf25d1e24>:2: SettingWithCopyWarning: \n",
      "A value is trying to be set on a copy of a slice from a DataFrame.\n",
      "Try using .loc[row_indexer,col_indexer] = value instead\n",
      "\n",
      "See the caveats in the documentation: https://pandas.pydata.org/pandas-docs/stable/user_guide/indexing.html#returning-a-view-versus-a-copy\n",
      "  bh['Type']='Forage'\n"
     ]
    }
   ],
   "source": [
    "bh=df[['ID','X','Y','Z','Z_fond','Date_ouv','Long_for','Refus']]\n",
    "bh['Type']='Forage'\n",
    "\n",
    "litho=df[['ID','X','Y','Z','Litho_top','Litho_base','Nappe']]\n",
    "source_litho = source_litho.merge(df, 'outer')"
   ]
  },
  {
   "cell_type": "code",
   "execution_count": 477,
   "id": "mighty-steel",
   "metadata": {
    "scrolled": true
   },
   "outputs": [
    {
     "name": "stdout",
     "output_type": "stream",
     "text": [
      "source_bh:0 ; source_pz:59 ; source_litho:119 ; source_Fac-uknw:0 ; source_an:104 ;\n",
      "source_prv_sol:59 ;source_prv_eau:45 ; source_mes_pz:0 ; source_mes_sol:0 ;\n"
     ]
    }
   ],
   "source": [
    "if not os.path.exists(tmp_dir):\n",
    "    os.makedirs(tmp_dir)\n",
    "\n",
    "bh.to_csv(tmp_dir+sheet+'source_Boreholes.csv', index=False)\n",
    "#pz.to_csv(tmp_dir+sheet+'_Piezometers.csv', index=False)\n",
    "#ouv.to_csv(tmp_dir+sheet+'_Unkown-facility.csv', index=False)\n",
    "litho.to_csv(tmp_dir+sheet+'_Lithology.csv', index=False)\n",
    "#mes_pz.to_csv(tmp_dir+sheet+'_Measures.csv', index=False)\n",
    "#mes_sol.to_csv(tmp_dir+sheet+'_Measures-soil.csv', index=False)\n",
    "#prv_eau.to_csv(tmp_dir+sheet+'_Samples-water.csv', index=False)\n",
    "#prv_sol.to_csv(tmp_dir+sheet+'_Samples-soil.csv', index=False)\n",
    "#an.to_csv(tmp_dir+sheet+'_Analysis.csv', index=False)\n",
    "\n",
    "\n",
    "#source_bh.to_csv(tmp_dir+'source_Boreholes.csv', index=False)\n",
    "#source_pz.to_csv(tmp_dir+'source_Piezometers.csv', index=False)\n",
    "#source_ouv.to_csv(tmp_dir+'source_Unkown-facility.csv', index=False)\n",
    "source_litho.to_csv(tmp_dir+'source_Lithology.csv', index=False)\n",
    "#source_mes_pz.to_csv(tmp_dir+'source_Measures.csv', index=False)\n",
    "#source_mes_sol.to_csv(tmp_dir+'source_Measures-soil.csv', index=False)\n",
    "#source_prv_eau.to_csv(tmp_dir+'source_Samples-water.csv', index=False)\n",
    "#source_prv_sol.to_csv(tmp_dir+'source_Samples-soil.csv', index=False)\n",
    "#source_an.to_csv(tmp_dir+'source_Analysis.csv', index=False)\n",
    "\n",
    "\n",
    "print(f'source_bh:{len(source_bh)} ; source_pz:{len(source_pz)} ; source_litho:{len(source_litho)} ; '\n",
    "     f'source_Fac-uknw:{len(source_ouv)} ; source_an:{len(source_an)} ;\\nsource_prv_sol:{len(source_prv_sol)} ;'\n",
    "     f'source_prv_eau:{len(source_prv_eau)} ; source_mes_pz:{len(source_mes_pz)} ; source_mes_sol:{len(source_mes_sol)} ;')"
   ]
  },
  {
   "cell_type": "markdown",
   "id": "excessive-convert",
   "metadata": {},
   "source": [
    "# Processing for new data added - April 2021"
   ]
  },
  {
   "cell_type": "markdown",
   "id": "framed-assignment",
   "metadata": {},
   "source": [
    "## 15-Profils de sol et données de terrain 2019.xlsx\n",
    "* **Sheet : 'Log'**"
   ]
  },
  {
   "cell_type": "code",
   "execution_count": 575,
   "id": "heated-nightmare",
   "metadata": {},
   "outputs": [],
   "source": [
    "# New file, so the source variables must be overwritten !!\n",
    "_df=pd.DataFrame()\n",
    "source_mes_pz, source_mes_sol, source_pz, source_prv_eau, source_prv_sol =  _df, _df, _df, _df, _df\n",
    "source_ouv, source_an, source_litho, source_bh = _df, _df, _df, _df"
   ]
  },
  {
   "cell_type": "code",
   "execution_count": 576,
   "id": "bizarre-fundamental",
   "metadata": {},
   "outputs": [],
   "source": [
    "tmp_dir='../../CF_data/Result_traitem/donnees_terrain_2019/'\n",
    "sheet='Log'"
   ]
  },
  {
   "cell_type": "code",
   "execution_count": 577,
   "id": "compound-cricket",
   "metadata": {
    "scrolled": false
   },
   "outputs": [
    {
     "name": "stdout",
     "output_type": "stream",
     "text": [
      "153 NaN lines dropped\n",
      "\n",
      "Columns dropped :['Unnamed: 5', 'Unnamed: 6']\n",
      "\n",
      "Rows : 98, columns : 5\n"
     ]
    },
    {
     "name": "stderr",
     "output_type": "stream",
     "text": [
      "/home/yanathan/.local/share/virtualenvs/GSDMA-DRfwm83x/lib/python3.8/site-packages/pandas/core/frame.py:4305: SettingWithCopyWarning: \n",
      "A value is trying to be set on a copy of a slice from a DataFrame\n",
      "\n",
      "See the caveats in the documentation: https://pandas.pydata.org/pandas-docs/stable/user_guide/indexing.html#returning-a-view-versus-a-copy\n",
      "  return super().drop(\n"
     ]
    },
    {
     "data": {
      "application/vnd.jupyter.widget-view+json": {
       "model_id": "24028cad97d145de9ff46a3dadda558d",
       "version_major": 2,
       "version_minor": 0
      },
      "text/plain": [
       "interactive(children=(IntSlider(value=5, description='rows', max=98, min=5, readout=False), IntSlider(value=5,…"
      ]
     },
     "metadata": {},
     "output_type": "display_data"
    }
   ],
   "source": [
    "df = pd.read_excel('../../CF_data/Data_UMONS/Profils_de_sol_Siterem- extension_pilote_et_pilote/'\n",
    "                   'Profils de sol et donnees de terrain 2019.xlsx', \n",
    "                   sheet_name='Log', skiprows=0)\n",
    "df=na_line_drop(df,0)\n",
    "df=na_col_drop(df,2)\n",
    "df.replace(r'<|>','', inplace=True, regex=True)\n",
    "df.replace(r'-$',np.nan, inplace=True, regex=True)\n",
    "\n",
    "gdf_viewer(df, rows=5)"
   ]
  },
  {
   "cell_type": "code",
   "execution_count": 578,
   "id": "rapid-concert",
   "metadata": {},
   "outputs": [
    {
     "name": "stderr",
     "output_type": "stream",
     "text": [
      "<ipython-input-578-79d41f66a5c2>:4: SettingWithCopyWarning: \n",
      "A value is trying to be set on a copy of a slice from a DataFrame.\n",
      "Try using .loc[row_indexer,col_indexer] = value instead\n",
      "\n",
      "See the caveats in the documentation: https://pandas.pydata.org/pandas-docs/stable/user_guide/indexing.html#returning-a-view-versus-a-copy\n",
      "  df['Date_ouv'] = dtm.datetime(2019,12,18)\n"
     ]
    }
   ],
   "source": [
    "name = ['ID','Litho_top', 'Litho_base', 'Keyword', 'Description']\n",
    "df = col_ren(df, name=name, mode=1, )\n",
    "df = df[1:]\n",
    "df['Date_ouv'] = dtm.datetime(2019,12,18)"
   ]
  },
  {
   "cell_type": "code",
   "execution_count": 579,
   "id": "final-dairy",
   "metadata": {},
   "outputs": [
    {
     "name": "stderr",
     "output_type": "stream",
     "text": [
      "<ipython-input-579-d5948c4b864c>:1: SettingWithCopyWarning: \n",
      "A value is trying to be set on a copy of a slice from a DataFrame.\n",
      "Try using .loc[row_indexer,col_indexer] = value instead\n",
      "\n",
      "See the caveats in the documentation: https://pandas.pydata.org/pandas-docs/stable/user_guide/indexing.html#returning-a-view-versus-a-copy\n",
      "  df['ID'] = df['ID'].apply(lambda x: 'F'+str(x))\n"
     ]
    }
   ],
   "source": [
    "df['ID'] = df['ID'].apply(lambda x: 'F'+str(x))"
   ]
  },
  {
   "cell_type": "code",
   "execution_count": 580,
   "id": "popular-nursing",
   "metadata": {},
   "outputs": [
    {
     "name": "stderr",
     "output_type": "stream",
     "text": [
      "/home/yanathan/.local/share/virtualenvs/GSDMA-DRfwm83x/lib/python3.8/site-packages/pandas/core/frame.py:4305: SettingWithCopyWarning: \n",
      "A value is trying to be set on a copy of a slice from a DataFrame\n",
      "\n",
      "See the caveats in the documentation: https://pandas.pydata.org/pandas-docs/stable/user_guide/indexing.html#returning-a-view-versus-a-copy\n",
      "  return super().drop(\n"
     ]
    }
   ],
   "source": [
    "df.drop(index=df.query('Litho_base.isnull() or Litho_top.isnull()').index, inplace=True)"
   ]
  },
  {
   "cell_type": "code",
   "execution_count": 581,
   "id": "international-butterfly",
   "metadata": {
    "scrolled": true
   },
   "outputs": [
    {
     "name": "stderr",
     "output_type": "stream",
     "text": [
      "/home/yanathan/.local/share/virtualenvs/GSDMA-DRfwm83x/lib/python3.8/site-packages/pandas/core/indexing.py:1720: SettingWithCopyWarning: \n",
      "A value is trying to be set on a copy of a slice from a DataFrame.\n",
      "Try using .loc[row_indexer,col_indexer] = value instead\n",
      "\n",
      "See the caveats in the documentation: https://pandas.pydata.org/pandas-docs/stable/user_guide/indexing.html#returning-a-view-versus-a-copy\n",
      "  self._setitem_single_column(loc, value, pi)\n",
      "<ipython-input-569-86cdddc11f48>:13: SettingWithCopyWarning: \n",
      "A value is trying to be set on a copy of a slice from a DataFrame.\n",
      "Try using .loc[row_indexer,col_indexer] = value instead\n",
      "\n",
      "See the caveats in the documentation: https://pandas.pydata.org/pandas-docs/stable/user_guide/indexing.html#returning-a-view-versus-a-copy\n",
      "  df[top_col] = df[top_col].astype('float64')\n",
      "<ipython-input-569-86cdddc11f48>:14: SettingWithCopyWarning: \n",
      "A value is trying to be set on a copy of a slice from a DataFrame.\n",
      "Try using .loc[row_indexer,col_indexer] = value instead\n",
      "\n",
      "See the caveats in the documentation: https://pandas.pydata.org/pandas-docs/stable/user_guide/indexing.html#returning-a-view-versus-a-copy\n",
      "  df[base_col] = df[base_col].astype('float64')\n",
      "/home/yanathan/.local/share/virtualenvs/GSDMA-DRfwm83x/lib/python3.8/site-packages/pandas/core/indexing.py:1599: SettingWithCopyWarning: \n",
      "A value is trying to be set on a copy of a slice from a DataFrame.\n",
      "Try using .loc[row_indexer,col_indexer] = value instead\n",
      "\n",
      "See the caveats in the documentation: https://pandas.pydata.org/pandas-docs/stable/user_guide/indexing.html#returning-a-view-versus-a-copy\n",
      "  self.obj[key] = infer_fill_value(value)\n"
     ]
    }
   ],
   "source": [
    "compute_BH_length(df)"
   ]
  },
  {
   "cell_type": "code",
   "execution_count": 582,
   "id": "proper-ribbon",
   "metadata": {},
   "outputs": [
    {
     "data": {
      "text/html": [
       "<div>\n",
       "<style scoped>\n",
       "    .dataframe tbody tr th:only-of-type {\n",
       "        vertical-align: middle;\n",
       "    }\n",
       "\n",
       "    .dataframe tbody tr th {\n",
       "        vertical-align: top;\n",
       "    }\n",
       "\n",
       "    .dataframe thead th {\n",
       "        text-align: right;\n",
       "    }\n",
       "</style>\n",
       "<table border=\"1\" class=\"dataframe\">\n",
       "  <thead>\n",
       "    <tr style=\"text-align: right;\">\n",
       "      <th></th>\n",
       "      <th>ID</th>\n",
       "      <th>Profondeur</th>\n",
       "      <th>Litho_top</th>\n",
       "      <th>Litho_base</th>\n",
       "      <th>Keyword</th>\n",
       "      <th>Description</th>\n",
       "      <th>Date_ouv</th>\n",
       "    </tr>\n",
       "  </thead>\n",
       "  <tbody>\n",
       "  </tbody>\n",
       "</table>\n",
       "</div>"
      ],
      "text/plain": [
       "Empty DataFrame\n",
       "Columns: [ID, Profondeur, Litho_top, Litho_base, Keyword, Description, Date_ouv]\n",
       "Index: []"
      ]
     },
     "execution_count": 582,
     "metadata": {},
     "output_type": "execute_result"
    }
   ],
   "source": [
    "df.query('Litho_base.isnull() or Litho_top.isnull()')"
   ]
  },
  {
   "cell_type": "code",
   "execution_count": 583,
   "id": "amber-likelihood",
   "metadata": {
    "scrolled": true
   },
   "outputs": [
    {
     "name": "stdout",
     "output_type": "stream",
     "text": [
      "Rows : 93, columns : 7\n"
     ]
    },
    {
     "data": {
      "application/vnd.jupyter.widget-view+json": {
       "model_id": "9ea6674882a84e6fa68f06096422ff52",
       "version_major": 2,
       "version_minor": 0
      },
      "text/plain": [
       "interactive(children=(IntSlider(value=5, description='rows', max=93, min=5, readout=False), IntSlider(value=7,…"
      ]
     },
     "metadata": {},
     "output_type": "display_data"
    }
   ],
   "source": [
    "gdf_viewer(df, rows=5, cols=15)"
   ]
  },
  {
   "cell_type": "code",
   "execution_count": 584,
   "id": "solved-latitude",
   "metadata": {},
   "outputs": [],
   "source": [
    "bh = df[1:62]\n",
    "pza = df[65:80] #piezair\n",
    "pz = df[83:]"
   ]
  },
  {
   "cell_type": "code",
   "execution_count": 585,
   "id": "interpreted-fiber",
   "metadata": {},
   "outputs": [],
   "source": [
    "bh.reset_index(drop=True, inplace=True)\n",
    "pza.reset_index(drop=True, inplace=True)\n",
    "pz.reset_index(drop=True, inplace=True)"
   ]
  },
  {
   "cell_type": "code",
   "execution_count": 586,
   "id": "separate-father",
   "metadata": {},
   "outputs": [],
   "source": [
    "bh.insert(1,'Type', 'Forage')\n",
    "bh.insert(1,'Zone', 'Extension Pilote')\n",
    "pza.insert(1,'Type', 'Piezair')\n",
    "pza.insert(1,'Zone', 'Extension Pilote')\n",
    "pz.insert(1,'Type', 'Piezo')\n",
    "pz.insert(1,'Zone', 'Mini-Pilote')"
   ]
  },
  {
   "cell_type": "code",
   "execution_count": 587,
   "id": "standard-clinton",
   "metadata": {
    "scrolled": true
   },
   "outputs": [],
   "source": [
    "litho=bh.append(pza)\n",
    "litho=litho.append(pz)\n",
    "litho=litho[['ID','Type','Zone','Litho_top','Litho_base','Description','Keyword']]"
   ]
  },
  {
   "cell_type": "code",
   "execution_count": 588,
   "id": "empty-creek",
   "metadata": {
    "scrolled": true
   },
   "outputs": [
    {
     "name": "stdout",
     "output_type": "stream",
     "text": [
      "Rows : 86, columns : 7\n"
     ]
    },
    {
     "data": {
      "application/vnd.jupyter.widget-view+json": {
       "model_id": "72219aaa34c0459282cd295a85a4311c",
       "version_major": 2,
       "version_minor": 0
      },
      "text/plain": [
       "interactive(children=(IntSlider(value=3, description='rows', max=86, min=3, readout=False), IntSlider(value=7,…"
      ]
     },
     "metadata": {},
     "output_type": "display_data"
    }
   ],
   "source": [
    "gdf_viewer(litho, rows=3)"
   ]
  },
  {
   "cell_type": "code",
   "execution_count": 589,
   "id": "healthy-pontiac",
   "metadata": {},
   "outputs": [],
   "source": [
    "source_litho=litho"
   ]
  },
  {
   "cell_type": "code",
   "execution_count": 590,
   "id": "recognized-entity",
   "metadata": {
    "scrolled": true
   },
   "outputs": [
    {
     "name": "stdout",
     "output_type": "stream",
     "text": [
      "source_bh:0 ; source_pz:0 ; source_litho:86 ; source_Fac-uknw:0 ; source_an:0 ;\n",
      "source_prv_sol:0 ;source_prv_eau:0 ; source_mes_pz:0 ; source_mes_sol:0 ;\n"
     ]
    }
   ],
   "source": [
    "if not os.path.exists(tmp_dir):\n",
    "    os.makedirs(tmp_dir)\n",
    "\n",
    "bh.to_csv(tmp_dir+'source_Boreholes.csv', index=False)\n",
    "pz.to_csv(tmp_dir+sheet+'_Piezometers.csv', index=False)\n",
    "pza.to_csv(tmp_dir+sheet+'_Piezairs.csv', index=False)\n",
    "#ouv.to_csv(tmp_dir+sheet+'_Unkown-facility.csv', index=False)\n",
    "litho.to_csv(tmp_dir+sheet+'_Lithology.csv', index=False)\n",
    "#mes_pz.to_csv(tmp_dir+sheet+'_Measures.csv', index=False)\n",
    "#mes_sol.to_csv(tmp_dir+sheet+'_Measures-soil.csv', index=False)\n",
    "#prv_eau.to_csv(tmp_dir+sheet+'_Samples-water.csv', index=False)\n",
    "#prv_sol.to_csv(tmp_dir+sheet+'_Samples-soil.csv', index=False)\n",
    "#an.to_csv(tmp_dir+sheet+'_Analysis.csv', index=False)\n",
    "\n",
    "\n",
    "source_bh.to_csv(tmp_dir+'source_Boreholes.csv', index=False)\n",
    "source_pz.to_csv(tmp_dir+'source_Piezometers.csv', index=False)\n",
    "#source_ouv.to_csv(tmp_dir+'source_Unkown-facility.csv', index=False)\n",
    "source_litho.to_csv(tmp_dir+'source_Lithology.csv', index=False)\n",
    "#source_mes_pz.to_csv(tmp_dir+'source_Measures.csv', index=False)\n",
    "#source_mes_sol.to_csv(tmp_dir+'source_Measures-soil.csv', index=False)\n",
    "#source_prv_eau.to_csv(tmp_dir+'source_Samples-water.csv', index=False)\n",
    "#source_prv_sol.to_csv(tmp_dir+'source_Samples-soil.csv', index=False)\n",
    "#source_an.to_csv(tmp_dir+'source_Analysis.csv', index=False)\n",
    "\n",
    "\n",
    "print(f'source_bh:{len(source_bh)} ; source_pz:{len(source_pz)} ; source_litho:{len(source_litho)} ; '\n",
    "     f'source_Fac-uknw:{len(source_ouv)} ; source_an:{len(source_an)} ;\\nsource_prv_sol:{len(source_prv_sol)} ;'\n",
    "     f'source_prv_eau:{len(source_prv_eau)} ; source_mes_pz:{len(source_mes_pz)} ; source_mes_sol:{len(source_mes_sol)} ;')"
   ]
  },
  {
   "cell_type": "markdown",
   "id": "northern-accessory",
   "metadata": {},
   "source": [
    "* **Sheet : 'Echantillon'+'Organoleptique**"
   ]
  },
  {
   "cell_type": "code",
   "execution_count": 591,
   "id": "union-lease",
   "metadata": {},
   "outputs": [],
   "source": [
    "tmp_dir='../../CF_data/Result_traitem/donnees_terrain_2019/'\n",
    "sheet='Echantillon'"
   ]
  },
  {
   "cell_type": "code",
   "execution_count": 592,
   "id": "increased-munich",
   "metadata": {
    "scrolled": false
   },
   "outputs": [
    {
     "name": "stdout",
     "output_type": "stream",
     "text": [
      "16 NaN lines dropped\n",
      "\n",
      "Columns dropped :['Unnamed: 4', 'Unnamed: 5']\n",
      "\n",
      "Rows : 67, columns : 4\n"
     ]
    },
    {
     "name": "stderr",
     "output_type": "stream",
     "text": [
      "/home/yanathan/.local/share/virtualenvs/GSDMA-DRfwm83x/lib/python3.8/site-packages/pandas/core/frame.py:4305: SettingWithCopyWarning: \n",
      "A value is trying to be set on a copy of a slice from a DataFrame\n",
      "\n",
      "See the caveats in the documentation: https://pandas.pydata.org/pandas-docs/stable/user_guide/indexing.html#returning-a-view-versus-a-copy\n",
      "  return super().drop(\n"
     ]
    },
    {
     "data": {
      "application/vnd.jupyter.widget-view+json": {
       "model_id": "ef235381af2b42fe8606ff1b9e9fdbe5",
       "version_major": 2,
       "version_minor": 0
      },
      "text/plain": [
       "interactive(children=(IntSlider(value=5, description='rows', max=67, min=5, readout=False), IntSlider(value=4,…"
      ]
     },
     "metadata": {},
     "output_type": "display_data"
    }
   ],
   "source": [
    "df = pd.read_excel('../../CF_data/Data_UMONS/Profils_de_sol_Siterem- extension_pilote_et_pilote/'\n",
    "                   'Profils de sol et donnees de terrain 2019.xlsx', \n",
    "                   sheet_name='Echantillon', skiprows=1)\n",
    "df=na_line_drop(df,0)\n",
    "df=na_col_drop(df,2)\n",
    "df.replace(r'<|>','', inplace=True, regex=True)\n",
    "df.replace(r'-$',np.nan, inplace=True, regex=True)\n",
    "\n",
    "gdf_viewer(df, rows=5)"
   ]
  },
  {
   "cell_type": "code",
   "execution_count": 593,
   "id": "cordless-scheme",
   "metadata": {},
   "outputs": [],
   "source": [
    "name=['ID','Ech_top', 'Ech_base', 'ID_ech']\n",
    "df=col_ren(df, name=name, mode=1)\n",
    "df.insert(1,'Type_ech','Sol')"
   ]
  },
  {
   "cell_type": "code",
   "execution_count": 594,
   "id": "equivalent-roots",
   "metadata": {},
   "outputs": [],
   "source": [
    "df.drop(index=[43,44,55,56,66], inplace=True)\n",
    "df.reset_index(drop=True, inplace=True)"
   ]
  },
  {
   "cell_type": "code",
   "execution_count": 595,
   "id": "annual-organization",
   "metadata": {},
   "outputs": [],
   "source": [
    "ech=df.copy()"
   ]
  },
  {
   "cell_type": "code",
   "execution_count": 596,
   "id": "accepted-marketing",
   "metadata": {
    "scrolled": false
   },
   "outputs": [
    {
     "name": "stdout",
     "output_type": "stream",
     "text": [
      "20 NaN lines dropped\n",
      "\n",
      "Columns dropped :['Unnamed: 5', 'Unnamed: 6', 'Unnamed: 7', 'Unnamed: 8', 'Unnamed: 9', 'Unnamed: 10', 'Unnamed: 11', 'Unnamed: 12', 'Unnamed: 13', 'Unnamed: 14', 'Unnamed: 15']\n",
      "\n",
      "Rows : 20, columns : 5\n"
     ]
    },
    {
     "name": "stderr",
     "output_type": "stream",
     "text": [
      "/home/yanathan/.local/share/virtualenvs/GSDMA-DRfwm83x/lib/python3.8/site-packages/pandas/core/frame.py:4305: SettingWithCopyWarning: \n",
      "A value is trying to be set on a copy of a slice from a DataFrame\n",
      "\n",
      "See the caveats in the documentation: https://pandas.pydata.org/pandas-docs/stable/user_guide/indexing.html#returning-a-view-versus-a-copy\n",
      "  return super().drop(\n"
     ]
    },
    {
     "data": {
      "application/vnd.jupyter.widget-view+json": {
       "model_id": "5f8b4faf9b6a4c84abab5661e9e818ac",
       "version_major": 2,
       "version_minor": 0
      },
      "text/plain": [
       "interactive(children=(IntSlider(value=5, description='rows', max=20, min=5, readout=False), IntSlider(value=5,…"
      ]
     },
     "metadata": {},
     "output_type": "display_data"
    }
   ],
   "source": [
    "df = pd.read_excel('../../CF_data/Data_UMONS/Profils_de_sol_Siterem- extension_pilote_et_pilote/'\n",
    "                   'Profils de sol et donnees de terrain 2019.xlsx', \n",
    "                   sheet_name='Organoleptique', skiprows=1)\n",
    "df=na_line_drop(df,0)\n",
    "df=na_col_drop(df,4)\n",
    "df.replace(r'<|>','', inplace=True, regex=True)\n",
    "df.replace(r'-$',np.nan, inplace=True, regex=True)\n",
    "\n",
    "gdf_viewer(df, rows=5)"
   ]
  },
  {
   "cell_type": "code",
   "execution_count": 597,
   "id": "ahead-lunch",
   "metadata": {},
   "outputs": [],
   "source": [
    "name=['ID','Pol_top', 'Pol_base','Polluant','Intensite']\n",
    "df=col_ren(df, name=name, mode=1)"
   ]
  },
  {
   "cell_type": "code",
   "execution_count": 598,
   "id": "occupational-sugar",
   "metadata": {},
   "outputs": [],
   "source": [
    "df.drop(index=[10,11,14,15], inplace=True)\n",
    "df.reset_index(drop=True, inplace=True)"
   ]
  },
  {
   "cell_type": "code",
   "execution_count": 599,
   "id": "worse-colombia",
   "metadata": {},
   "outputs": [],
   "source": [
    "mdf=gdf_merger(ech, df, col='ID', how='outer')[0]"
   ]
  },
  {
   "cell_type": "code",
   "execution_count": 600,
   "id": "twelve-cylinder",
   "metadata": {},
   "outputs": [
    {
     "name": "stdout",
     "output_type": "stream",
     "text": [
      "Rows : 70, columns : 9\n"
     ]
    },
    {
     "data": {
      "application/vnd.jupyter.widget-view+json": {
       "model_id": "443da0a84ad8493b990b685c2d99be8c",
       "version_major": 2,
       "version_minor": 0
      },
      "text/plain": [
       "interactive(children=(IntSlider(value=10, description='rows', max=70, min=10, readout=False), IntSlider(value=…"
      ]
     },
     "metadata": {},
     "output_type": "display_data"
    }
   ],
   "source": [
    "gdf_viewer(mdf)"
   ]
  },
  {
   "cell_type": "code",
   "execution_count": 601,
   "id": "limited-prerequisite",
   "metadata": {},
   "outputs": [],
   "source": [
    "prv_sol=mdf\n",
    "source_prv_sol=prv_sol"
   ]
  },
  {
   "cell_type": "code",
   "execution_count": 602,
   "id": "organic-jason",
   "metadata": {
    "scrolled": true
   },
   "outputs": [
    {
     "name": "stdout",
     "output_type": "stream",
     "text": [
      "source_bh:0 ; source_pz:0 ; source_litho:86 ; source_Fac-uknw:0 ; source_an:0 ;\n",
      "source_prv_sol:70 ;source_prv_eau:0 ; source_mes_pz:0 ; source_mes_sol:0 ;\n"
     ]
    }
   ],
   "source": [
    "if not os.path.exists(tmp_dir):\n",
    "    os.makedirs(tmp_dir)\n",
    "\n",
    "#bh.to_csv(tmp_dir+'source_Boreholes.csv', index=False)\n",
    "#pz.to_csv(tmp_dir+sheet+'_Piezometers.csv', index=False)\n",
    "#ouv.to_csv(tmp_dir+sheet+'_Unkown-facility.csv', index=False)\n",
    "#litho.to_csv(tmp_dir+sheet+'_Lithology.csv', index=False)\n",
    "#mes_pz.to_csv(tmp_dir+sheet+'_Measures.csv', index=False)\n",
    "#mes_sol.to_csv(tmp_dir+sheet+'_Measures-soil.csv', index=False)\n",
    "#prv_eau.to_csv(tmp_dir+sheet+'_Samples-water.csv', index=False)\n",
    "prv_sol.to_csv(tmp_dir+sheet+'_Samples-soil.csv', index=False)\n",
    "#an.to_csv(tmp_dir+sheet+'_Analysis.csv', index=False)\n",
    "\n",
    "\n",
    "#source_bh.to_csv(tmp_dir+'source_Boreholes.csv', index=False)\n",
    "#source_pz.to_csv(tmp_dir+'source_Piezometers.csv', index=False)\n",
    "#source_ouv.to_csv(tmp_dir+'source_Unkown-facility.csv', index=False)\n",
    "#source_litho.to_csv(tmp_dir+'source_Lithology.csv', index=False)\n",
    "#source_mes_pz.to_csv(tmp_dir+'source_Measures.csv', index=False)\n",
    "#source_mes_sol.to_csv(tmp_dir+'source_Measures-soil.csv', index=False)\n",
    "#source_prv_eau.to_csv(tmp_dir+'source_Samples-water.csv', index=False)\n",
    "source_prv_sol.to_csv(tmp_dir+'source_Samples-soil.csv', index=False)\n",
    "#source_an.to_csv(tmp_dir+'source_Analysis.csv', index=False)\n",
    "\n",
    "\n",
    "print(f'source_bh:{len(source_bh)} ; source_pz:{len(source_pz)} ; source_litho:{len(source_litho)} ; '\n",
    "     f'source_Fac-uknw:{len(source_ouv)} ; source_an:{len(source_an)} ;\\nsource_prv_sol:{len(source_prv_sol)} ;'\n",
    "     f'source_prv_eau:{len(source_prv_eau)} ; source_mes_pz:{len(source_mes_pz)} ; source_mes_sol:{len(source_mes_sol)} ;')"
   ]
  },
  {
   "cell_type": "markdown",
   "id": "tropical-duplicate",
   "metadata": {},
   "source": [
    "* **Sheet : 'Données de forage'**"
   ]
  },
  {
   "cell_type": "code",
   "execution_count": 603,
   "id": "naughty-ending",
   "metadata": {},
   "outputs": [],
   "source": [
    "tmp_dir='../../CF_data/Result_traitem/donnees_terrain_2019/'\n",
    "sheet='Donnees_forage'"
   ]
  },
  {
   "cell_type": "code",
   "execution_count": 604,
   "id": "baking-duration",
   "metadata": {
    "scrolled": false
   },
   "outputs": [
    {
     "name": "stdout",
     "output_type": "stream",
     "text": [
      "25 NaN lines dropped\n",
      "\n",
      "Columns dropped :['RAS', 'RAS.1', 'Niv. Eau p/r sol', 'RAS.2', 'Unnamed: 18', 'PZ Prof.\\nmesurée']\n",
      "\n",
      "Rows : 27, columns : 14\n"
     ]
    },
    {
     "name": "stderr",
     "output_type": "stream",
     "text": [
      "/home/yanathan/.local/share/virtualenvs/GSDMA-DRfwm83x/lib/python3.8/site-packages/pandas/core/frame.py:4305: SettingWithCopyWarning: \n",
      "A value is trying to be set on a copy of a slice from a DataFrame\n",
      "\n",
      "See the caveats in the documentation: https://pandas.pydata.org/pandas-docs/stable/user_guide/indexing.html#returning-a-view-versus-a-copy\n",
      "  return super().drop(\n"
     ]
    },
    {
     "data": {
      "application/vnd.jupyter.widget-view+json": {
       "model_id": "5125024c36e34d4ba5fef70dc88b27a0",
       "version_major": 2,
       "version_minor": 0
      },
      "text/plain": [
       "interactive(children=(IntSlider(value=5, description='rows', max=27, min=5, readout=False), IntSlider(value=12…"
      ]
     },
     "metadata": {},
     "output_type": "display_data"
    }
   ],
   "source": [
    "df = pd.read_excel('../../CF_data/Data_UMONS/Profils_de_sol_Siterem- extension_pilote_et_pilote/'\n",
    "                   'Profils de sol et donnees de terrain 2019.xlsx', \n",
    "                   sheet_name='Données de forage', skiprows=1)\n",
    "df=na_line_drop(df,0)\n",
    "df=na_col_drop(df,2)\n",
    "df.replace(r'<|>','', inplace=True, regex=True)\n",
    "df.replace(r'-$',np.nan, inplace=True, regex=True)\n",
    "\n",
    "gdf_viewer(df, rows=5)"
   ]
  },
  {
   "cell_type": "code",
   "execution_count": 605,
   "id": "finnish-housing",
   "metadata": {},
   "outputs": [],
   "source": [
    "name=['ID', 'X', 'Y', 'Z', 'Date_ouv', 'Long_for', 'Methode', 'Diam_for','Rmq', 'Long_pz', 'Diam_pz', \n",
    "      'Crep_long','Societe', 'Resp_chantier']\n",
    "df=col_ren(df, name=name, mode=1)\n",
    "df.drop(index=[16,23], inplace=True)\n",
    "df.reset_index(drop=True, inplace=True)"
   ]
  },
  {
   "cell_type": "code",
   "execution_count": 606,
   "id": "phantom-chick",
   "metadata": {},
   "outputs": [],
   "source": [
    "df.insert(5, 'Type', '')\n",
    "df.loc[:15,'Type']='Forage'\n",
    "df.loc[16:21,'Type']='Piezair'\n",
    "df.loc[22:,'Type']='Piezo'"
   ]
  },
  {
   "cell_type": "code",
   "execution_count": 607,
   "id": "numeric-remainder",
   "metadata": {},
   "outputs": [],
   "source": [
    "df.loc[9,'ID']='224 bis'"
   ]
  },
  {
   "cell_type": "code",
   "execution_count": 608,
   "id": "fleet-litigation",
   "metadata": {},
   "outputs": [
    {
     "name": "stdout",
     "output_type": "stream",
     "text": [
      "Generation of ID-dated...\n",
      "Using column ' Date_ouv ' in the (geo)dataframe !\n",
      "Process ended, check the (geo)dataframe\n"
     ]
    }
   ],
   "source": [
    "df['Refus'] = ''\n",
    "df['Type_refus']=''\n",
    "\n",
    "for i in range(len(df['Rmq'])):\n",
    "    val = str(df.loc[i,'Rmq'])\n",
    "    if re.search('[Bb]loqué', val) :\n",
    "        df.loc[i,'Refus'] = 'x'\n",
    "        \n",
    "        if re.search('[lL]aitier', val):\n",
    "            df.loc[i,'Type_refus'] = 'Laitier'\n",
    "        elif re.search('[Bb]éton', val):\n",
    "            df.loc[i,'Type_refus'] = 'Béton'\n",
    "        elif re.search('[Mm]atériaux', val):\n",
    "            df.loc[i,'Type_refus'] = 'Matériaux indurés' \n",
    "    else: \n",
    "        df.loc[i,'Refus'] = '' \n",
    "\n",
    "df['Diam_int_pz'] = df['Diam_pz'].apply(lambda x: pd.to_numeric(x.replace('mm','').split('x')[1]) if not pd.isnull(x) else x)\n",
    "df['Diam_ext_pz'] = df['Diam_pz'].apply(lambda x: pd.to_numeric(x.replace('mm','').split('x')[0]) if not pd.isnull(x) else x)\n",
    "df['Diam_for'] = df['Diam_for'].apply(lambda x: pd.to_numeric(x) if not pd.isnull(x) else x)\n",
    "\n",
    "df.insert(10, 'Diam_ext_pz', df.pop('Diam_ext_pz')) # move to a specified position\n",
    "df.insert(11, 'Diam_int_pz', df.pop('Diam_int_pz'))\n",
    "df.drop(columns=['Rmq', 'Diam_pz'], axis=1, inplace=True)\n",
    "df.drop(df.query(\"ID!=ID\").index, inplace=True) # delete all ID='NaN' lines\n",
    "df.reset_index(drop=True, inplace=True)\n",
    "\n",
    "gen_id_dated(df,'ID','Date_ouv')  "
   ]
  },
  {
   "cell_type": "code",
   "execution_count": 609,
   "id": "positive-shopper",
   "metadata": {},
   "outputs": [],
   "source": [
    "pz = df.query(\"Type=='Piezo'\")\n",
    "pza=df.query(\"Type=='Piezair'\")\n",
    "bh = df.query(\"Type=='Forage'\")\n",
    "\n",
    "pz.reset_index(inplace=True, drop=True)\n",
    "pza.reset_index(inplace=True, drop=True)\n",
    "bh.reset_index(inplace=True, drop=True)"
   ]
  },
  {
   "cell_type": "code",
   "execution_count": 610,
   "id": "fuzzy-minimum",
   "metadata": {},
   "outputs": [
    {
     "name": "stdout",
     "output_type": "stream",
     "text": [
      "Rows : 25, columns : 18\n"
     ]
    },
    {
     "data": {
      "application/vnd.jupyter.widget-view+json": {
       "model_id": "00e84c7d63364c8186697251b6846108",
       "version_major": 2,
       "version_minor": 0
      },
      "text/plain": [
       "interactive(children=(IntSlider(value=3, description='rows', max=25, min=3, readout=False), IntSlider(value=12…"
      ]
     },
     "metadata": {},
     "output_type": "display_data"
    }
   ],
   "source": [
    "gdf_viewer(df, rows=3)"
   ]
  },
  {
   "cell_type": "code",
   "execution_count": 611,
   "id": "determined-movie",
   "metadata": {},
   "outputs": [],
   "source": [
    "source_pz = pz\n",
    "source_pza = pza\n",
    "source_bh = bh"
   ]
  },
  {
   "cell_type": "code",
   "execution_count": 612,
   "id": "valid-substance",
   "metadata": {
    "scrolled": true
   },
   "outputs": [
    {
     "name": "stdout",
     "output_type": "stream",
     "text": [
      "source_bh:16 ; source_pz:3; source_pza:6 ;source_litho:86 ; source_Fac-uknw:0 ; source_an:0 ;\n",
      "source_prv_sol:70 ;source_prv_eau:0 ; source_mes_pz:0 ; source_mes_sol:0 ;\n"
     ]
    }
   ],
   "source": [
    "if not os.path.exists(tmp_dir):\n",
    "    os.makedirs(tmp_dir)\n",
    "\n",
    "bh.to_csv(tmp_dir+sheet+'_Boreholes.csv', index=False)\n",
    "pz.to_csv(tmp_dir+sheet+'_Piezometers.csv', index=False)\n",
    "pza.to_csv(tmp_dir+sheet+'_Piezairs.csv', index=False)\n",
    "#ouv.to_csv(tmp_dir+sheet+'_Unkown-facility.csv', index=False)\n",
    "#litho.to_csv(tmp_dir+sheet+'_Lithology.csv', index=False)\n",
    "#mes_pz.to_csv(tmp_dir+sheet+'_Measures.csv', index=False)\n",
    "#mes_sol.to_csv(tmp_dir+sheet+'_Measures-soil.csv', index=False)\n",
    "#prv_eau.to_csv(tmp_dir+sheet+'_Samples-water.csv', index=False)\n",
    "#prv_sol.to_csv(tmp_dir+sheet+'_Samples-soil.csv', index=False)\n",
    "#an.to_csv(tmp_dir+sheet+'_Analysis.csv', index=False)\n",
    "\n",
    "\n",
    "source_bh.to_csv(tmp_dir+'source_Boreholes.csv', index=False)\n",
    "source_pz.to_csv(tmp_dir+'source_Piezometers.csv', index=False)\n",
    "source_pza.to_csv(tmp_dir+'source_Piezairs.csv', index=False)\n",
    "#source_ouv.to_csv(tmp_dir+'source_Unkown-facility.csv', index=False)\n",
    "#source_litho.to_csv(tmp_dir+'source_Lithology.csv', index=False)\n",
    "#source_mes_pz.to_csv(tmp_dir+'source_Measures.csv', index=False)\n",
    "#source_mes_sol.to_csv(tmp_dir+'source_Measures-soil.csv', index=False)\n",
    "#source_prv_eau.to_csv(tmp_dir+'source_Samples-water.csv', index=False)\n",
    "#source_prv_sol.to_csv(tmp_dir+'source_Samples-soil.csv', index=False)\n",
    "#source_an.to_csv(tmp_dir+'source_Analysis.csv', index=False)\n",
    "\n",
    "\n",
    "print(f'source_bh:{len(source_bh)} ; source_pz:{len(source_pz)}; source_pza:{len(source_pza)} ;'\n",
    "      f'source_litho:{len(source_litho)} ; '\n",
    "     f'source_Fac-uknw:{len(source_ouv)} ; source_an:{len(source_an)} ;\\nsource_prv_sol:{len(source_prv_sol)} ;'\n",
    "     f'source_prv_eau:{len(source_prv_eau)} ; source_mes_pz:{len(source_mes_pz)} ; source_mes_sol:{len(source_mes_sol)} ;')"
   ]
  },
  {
   "cell_type": "markdown",
   "id": "present-shock",
   "metadata": {},
   "source": [
    "* **Sheet : 'Equipement'**"
   ]
  },
  {
   "cell_type": "code",
   "execution_count": 613,
   "id": "furnished-prescription",
   "metadata": {},
   "outputs": [],
   "source": [
    "tmp_dir='../../CF_data/Result_traitem/donnees_terrain_2019/'\n",
    "sheet='Equipement'"
   ]
  },
  {
   "cell_type": "code",
   "execution_count": 614,
   "id": "occasional-cedar",
   "metadata": {
    "scrolled": false
   },
   "outputs": [
    {
     "name": "stdout",
     "output_type": "stream",
     "text": [
      "37 NaN lines dropped\n",
      "Rows : 35, columns : 7\n"
     ]
    },
    {
     "name": "stderr",
     "output_type": "stream",
     "text": [
      "/home/yanathan/.local/share/virtualenvs/GSDMA-DRfwm83x/lib/python3.8/site-packages/pandas/core/frame.py:4305: SettingWithCopyWarning: \n",
      "A value is trying to be set on a copy of a slice from a DataFrame\n",
      "\n",
      "See the caveats in the documentation: https://pandas.pydata.org/pandas-docs/stable/user_guide/indexing.html#returning-a-view-versus-a-copy\n",
      "  return super().drop(\n"
     ]
    },
    {
     "data": {
      "application/vnd.jupyter.widget-view+json": {
       "model_id": "35afe629430647928d16a9fb0dc4a6ec",
       "version_major": 2,
       "version_minor": 0
      },
      "text/plain": [
       "interactive(children=(IntSlider(value=5, description='rows', max=35, min=5, readout=False), IntSlider(value=7,…"
      ]
     },
     "metadata": {},
     "output_type": "display_data"
    }
   ],
   "source": [
    "df = pd.read_excel('../../CF_data/Data_UMONS/Profils_de_sol_Siterem- extension_pilote_et_pilote/'\n",
    "                   'Profils de sol et donnees de terrain 2019.xlsx', \n",
    "                   sheet_name='Equipement', skiprows=1)\n",
    "df=na_line_drop(df,0)\n",
    "df=na_col_drop(df,2)\n",
    "df.replace(r'<|>','', inplace=True, regex=True)\n",
    "df.replace(r'-$',np.nan, inplace=True, regex=True)\n",
    "\n",
    "gdf_viewer(df, rows=5)"
   ]
  },
  {
   "cell_type": "code",
   "execution_count": 615,
   "id": "logical-classroom",
   "metadata": {},
   "outputs": [],
   "source": [
    "df.drop(columns=['Déplacement'], inplace=True)\n",
    "name=['ID','Equip_top', 'Equip_base', 'Diam_for', 'Diam_ext_pz', 'Legende']\n",
    "df=col_ren(df, mode=1, name=name)"
   ]
  },
  {
   "cell_type": "code",
   "execution_count": 616,
   "id": "beginning-register",
   "metadata": {},
   "outputs": [],
   "source": [
    "df.drop(index=[24,25], inplace=True)\n",
    "df.reset_index(drop=True, inplace=True)"
   ]
  },
  {
   "cell_type": "code",
   "execution_count": 638,
   "id": "impossible-summit",
   "metadata": {},
   "outputs": [],
   "source": [
    "compute_BH_length(df, top_col='Equip_top', base_col='Equip_base')"
   ]
  },
  {
   "cell_type": "code",
   "execution_count": 641,
   "id": "american-intro",
   "metadata": {},
   "outputs": [],
   "source": [
    "coi = ['ID', 'Profondeur', 'Diam_for', 'Diam_ext_pz']\n",
    "pz=df[coi].drop_duplicates(['ID'])\n",
    "pz['Type'] = 'Piezo'"
   ]
  },
  {
   "cell_type": "code",
   "execution_count": 643,
   "id": "three-optimization",
   "metadata": {},
   "outputs": [
    {
     "name": "stdout",
     "output_type": "stream",
     "text": [
      "Rows : 33, columns : 7\n"
     ]
    },
    {
     "data": {
      "application/vnd.jupyter.widget-view+json": {
       "model_id": "725a42027588439ca1e3af96aac39e69",
       "version_major": 2,
       "version_minor": 0
      },
      "text/plain": [
       "interactive(children=(IntSlider(value=10, description='rows', max=33, min=10, readout=False), IntSlider(value=…"
      ]
     },
     "metadata": {},
     "output_type": "display_data"
    }
   ],
   "source": [
    "gdf_viewer(df)"
   ]
  },
  {
   "cell_type": "code",
   "execution_count": 644,
   "id": "placed-organ",
   "metadata": {},
   "outputs": [],
   "source": [
    "equip=df\n",
    "source_equip=equip"
   ]
  },
  {
   "cell_type": "code",
   "execution_count": 645,
   "id": "extensive-charge",
   "metadata": {
    "scrolled": true
   },
   "outputs": [
    {
     "name": "stdout",
     "output_type": "stream",
     "text": [
      "source_bh:16 ; source_pz:3 ; source_litho:86 ; source_Fac-uknw:0 ; source_an:0 ;\n",
      "source_prv_sol:70 ;source_prv_eau:0 ; source_mes_pz:0 ; source_mes_sol:0 ;\n"
     ]
    }
   ],
   "source": [
    "if not os.path.exists(tmp_dir):\n",
    "    os.makedirs(tmp_dir)\n",
    "\n",
    "#bh.to_csv(tmp_dir+'source_Boreholes.csv', index=False)\n",
    "pz.to_csv(tmp_dir+sheet+'_Piezometers.csv', index=False)\n",
    "#ouv.to_csv(tmp_dir+sheet+'_Unkown-facility.csv', index=False)\n",
    "#litho.to_csv(tmp_dir+sheet+'_Lithology.csv', index=False)\n",
    "#mes_pz.to_csv(tmp_dir+sheet+'_Measures.csv', index=False)\n",
    "#mes_sol.to_csv(tmp_dir+sheet+'_Measures-soil.csv', index=False)\n",
    "#prv_eau.to_csv(tmp_dir+sheet+'_Samples-water.csv', index=False)\n",
    "#prv_sol.to_csv(tmp_dir+sheet+'_Samples-soil.csv', index=False)\n",
    "#an.to_csv(tmp_dir+sheet+'_Analysis.csv', index=False)\n",
    "equip.to_csv(tmp_dir+sheet+'_Equipment.csv', index=False)\n",
    "\n",
    "#source_bh.to_csv(tmp_dir+'source_Boreholes.csv', index=False)\n",
    "source_pz.to_csv(tmp_dir+'source_Piezometers.csv', index=False)\n",
    "#source_ouv.to_csv(tmp_dir+'source_Unkown-facility.csv', index=False)\n",
    "#source_litho.to_csv(tmp_dir+'source_Lithology.csv', index=False)\n",
    "#source_mes_pz.to_csv(tmp_dir+'source_Measures.csv', index=False)\n",
    "#source_mes_sol.to_csv(tmp_dir+'source_Measures-soil.csv', index=False)\n",
    "#source_prv_eau.to_csv(tmp_dir+'source_Samples-water.csv', index=False)\n",
    "#source_prv_sol.to_csv(tmp_dir+'source_Samples-soil.csv', index=False)\n",
    "#source_an.to_csv(tmp_dir+'source_Analysis.csv', index=False)\n",
    "source_equip.to_csv(tmp_dir+'source_Equipment.csv', index=False)\n",
    "\n",
    "print(f'source_bh:{len(source_bh)} ; source_pz:{len(source_pz)} ; source_litho:{len(source_litho)} ; '\n",
    "     f'source_Fac-uknw:{len(source_ouv)} ; source_an:{len(source_an)} ;\\nsource_prv_sol:{len(source_prv_sol)} ;'\n",
    "     f'source_prv_eau:{len(source_prv_eau)} ; source_mes_pz:{len(source_mes_pz)} ; source_mes_sol:{len(source_mes_sol)} ;')"
   ]
  },
  {
   "cell_type": "markdown",
   "id": "increased-tonight",
   "metadata": {},
   "source": [
    "* **Sheet : 'Piézométrie'**"
   ]
  },
  {
   "cell_type": "code",
   "execution_count": 646,
   "id": "existing-college",
   "metadata": {},
   "outputs": [],
   "source": [
    "tmp_dir='../../CF_data/Result_traitem/donnees_terrain_2019/'\n",
    "sheet='piezometrie'"
   ]
  },
  {
   "cell_type": "code",
   "execution_count": 647,
   "id": "brazilian-judgment",
   "metadata": {
    "scrolled": false
   },
   "outputs": [
    {
     "name": "stdout",
     "output_type": "stream",
     "text": [
      "4 NaN lines dropped\n",
      "\n",
      "Columns dropped :['Unnamed: 4', 'Unnamed: 5', 'Unnamed: 6', 'Unnamed: 7', 'Unnamed: 8']\n",
      "\n",
      "Rows : 3, columns : 4\n"
     ]
    },
    {
     "name": "stderr",
     "output_type": "stream",
     "text": [
      "/home/yanathan/.local/share/virtualenvs/GSDMA-DRfwm83x/lib/python3.8/site-packages/pandas/core/frame.py:4305: SettingWithCopyWarning: \n",
      "A value is trying to be set on a copy of a slice from a DataFrame\n",
      "\n",
      "See the caveats in the documentation: https://pandas.pydata.org/pandas-docs/stable/user_guide/indexing.html#returning-a-view-versus-a-copy\n",
      "  return super().drop(\n"
     ]
    },
    {
     "data": {
      "application/vnd.jupyter.widget-view+json": {
       "model_id": "c5cc9ac3a87b467f9b5deb58f991a4e4",
       "version_major": 2,
       "version_minor": 0
      },
      "text/plain": [
       "interactive(children=(IntSlider(value=3, description='rows', max=3, min=3, readout=False), IntSlider(value=4, …"
      ]
     },
     "metadata": {},
     "output_type": "display_data"
    }
   ],
   "source": [
    "df = pd.read_excel('../../CF_data/Data_UMONS/Profils_de_sol_Siterem- extension_pilote_et_pilote/'\n",
    "                   'Profils de sol et donnees de terrain 2019.xlsx', \n",
    "                   sheet_name='Piézométrie', skiprows=1)\n",
    "df=na_line_drop(df,0)\n",
    "df=na_col_drop(df,2)\n",
    "df.replace(r'<|>','', inplace=True, regex=True)\n",
    "df.replace(r'-$',np.nan, inplace=True, regex=True)\n",
    "\n",
    "gdf_viewer(df, rows=5)"
   ]
  },
  {
   "cell_type": "code",
   "execution_count": 648,
   "id": "selected-technology",
   "metadata": {},
   "outputs": [],
   "source": [
    "name=['ID','Niv_pz_sol', 'Type_ech', 'Date_mes']\n",
    "df=col_ren(df, name=name, mode=1)"
   ]
  },
  {
   "cell_type": "code",
   "execution_count": 649,
   "id": "sudden-yemen",
   "metadata": {},
   "outputs": [],
   "source": [
    "mes_pz=df\n",
    "source_mes_pz=mes_pz"
   ]
  },
  {
   "cell_type": "code",
   "execution_count": 650,
   "id": "terminal-gender",
   "metadata": {
    "scrolled": true
   },
   "outputs": [
    {
     "name": "stdout",
     "output_type": "stream",
     "text": [
      "source_bh:16 ; source_pz:3 ; source_litho:86 ; source_Fac-uknw:0 ; source_an:0 ;\n",
      "source_prv_sol:70 ;source_prv_eau:0 ; source_mes_pz:3 ; source_mes_sol:0 ;\n"
     ]
    }
   ],
   "source": [
    "if not os.path.exists(tmp_dir):\n",
    "    os.makedirs(tmp_dir)\n",
    "\n",
    "#bh.to_csv(tmp_dir+'source_Boreholes.csv', index=False)\n",
    "#pz.to_csv(tmp_dir+sheet+'_Piezometers.csv', index=False)\n",
    "#ouv.to_csv(tmp_dir+sheet+'_Unkown-facility.csv', index=False)\n",
    "#litho.to_csv(tmp_dir+sheet+'_Lithology.csv', index=False)\n",
    "mes_pz.to_csv(tmp_dir+sheet+'_Measures.csv', index=False)\n",
    "#mes_sol.to_csv(tmp_dir+sheet+'_Measures-soil.csv', index=False)\n",
    "#prv_eau.to_csv(tmp_dir+sheet+'_Samples-water.csv', index=False)\n",
    "#prv_sol.to_csv(tmp_dir+sheet+'_Samples-soil.csv', index=False)\n",
    "#an.to_csv(tmp_dir+sheet+'_Analysis.csv', index=False)\n",
    "\n",
    "\n",
    "#source_bh.to_csv(tmp_dir+'source_Boreholes.csv', index=False)\n",
    "#source_pz.to_csv(tmp_dir+'source_Piezometers.csv', index=False)\n",
    "#source_ouv.to_csv(tmp_dir+'source_Unkown-facility.csv', index=False)\n",
    "#source_litho.to_csv(tmp_dir+'source_Lithology.csv', index=False)\n",
    "source_mes_pz.to_csv(tmp_dir+'source_Measures.csv', index=False)\n",
    "#source_mes_sol.to_csv(tmp_dir+'source_Measures-soil.csv', index=False)\n",
    "#source_prv_eau.to_csv(tmp_dir+'source_Samples-water.csv', index=False)\n",
    "#source_prv_sol.to_csv(tmp_dir+'source_Samples-soil.csv', index=False)\n",
    "#source_an.to_csv(tmp_dir+'source_Analysis.csv', index=False)\n",
    "\n",
    "\n",
    "print(f'source_bh:{len(source_bh)} ; source_pz:{len(source_pz)} ; source_litho:{len(source_litho)} ; '\n",
    "     f'source_Fac-uknw:{len(source_ouv)} ; source_an:{len(source_an)} ;\\nsource_prv_sol:{len(source_prv_sol)} ;'\n",
    "     f'source_prv_eau:{len(source_prv_eau)} ; source_mes_pz:{len(source_mes_pz)} ; source_mes_sol:{len(source_mes_sol)} ;')"
   ]
  },
  {
   "cell_type": "markdown",
   "id": "adjacent-conversation",
   "metadata": {},
   "source": [
    "## 16-Résultats SOL extension pilote et piézairs.xlsx\n",
    "* **Sheet : 'Résult SOL'**"
   ]
  },
  {
   "cell_type": "code",
   "execution_count": 651,
   "id": "valued-exchange",
   "metadata": {},
   "outputs": [],
   "source": [
    "# New file, so the source variables must be overwritten !!\n",
    "_df=pd.DataFrame()\n",
    "source_mes_pz, source_mes_sol, source_pz, source_prv_eau, source_prv_sol =  _df, _df, _df, _df, _df\n",
    "source_ouv, source_an, source_litho, source_bh = _df, _df, _df, _df"
   ]
  },
  {
   "cell_type": "code",
   "execution_count": 652,
   "id": "rental-unknown",
   "metadata": {},
   "outputs": [],
   "source": [
    "tmp_dir='../../CF_data/Result_traitem/donnees_terrain_2019/'\n",
    "sheet='Result_Sol'"
   ]
  },
  {
   "cell_type": "code",
   "execution_count": 653,
   "id": "forced-variance",
   "metadata": {
    "scrolled": false
   },
   "outputs": [
    {
     "name": "stderr",
     "output_type": "stream",
     "text": [
      "/home/yanathan/.local/share/virtualenvs/GSDMA-DRfwm83x/lib/python3.8/site-packages/openpyxl/worksheet/_reader.py:308: UserWarning: Data Validation extension is not supported and will be removed\n",
      "  warn(msg)\n"
     ]
    },
    {
     "name": "stdout",
     "output_type": "stream",
     "text": [
      "4 NaN lines dropped\n",
      "\n",
      "Columns dropped :['Unnamed: 0', 'Unnamed: 2', 'Unnamed: 61', 'Unnamed: 62', 'Unnamed: 63', 'Unnamed: 64', 'Unnamed: 65', 'Unnamed: 66', 'Unnamed: 67', 'Unnamed: 69', 'Unnamed: 70', 'Unnamed: 71', 'Unnamed: 72', 'Unnamed: 73', 'Unnamed: 74', 'Unnamed: 75', 'Unnamed: 76', 'Unnamed: 77', 'Unnamed: 78', 'Unnamed: 79', 'Unnamed: 80', 'Unnamed: 81', 'Unnamed: 82', 'Unnamed: 83', 'Unnamed: 84', 'Unnamed: 85', 'Unnamed: 86', 'Unnamed: 87', 'Unnamed: 88', 'Unnamed: 89', 'Unnamed: 90', 'Unnamed: 91', 'Unnamed: 92', 'Unnamed: 93', 'Unnamed: 94', 'Unnamed: 95', 'Unnamed: 96', 'Unnamed: 97', 'Unnamed: 98', 'Unnamed: 99', 'Unnamed: 100', 'Unnamed: 101', 'Unnamed: 102', 'Unnamed: 103', 'Unnamed: 104', 'Unnamed: 105', 'Unnamed: 106', 'Unnamed: 107', 'Unnamed: 108', 'Unnamed: 109', 'Unnamed: 110', 'Unnamed: 111', 'Unnamed: 112', 'Unnamed: 113', 'Unnamed: 114', 'Unnamed: 115', 'Unnamed: 116', 'Unnamed: 117', 'Unnamed: 118', 'Unnamed: 119', 'Unnamed: 120', 'Unnamed: 121', 'Unnamed: 122', 'Unnamed: 123', 'Unnamed: 124', 'Unnamed: 125', 'Unnamed: 126', 'Unnamed: 127', 'Unnamed: 128', 'Unnamed: 129', 'Unnamed: 130', 'Unnamed: 131', 'Unnamed: 132', 'Unnamed: 133', 'Unnamed: 134', 'Unnamed: 135', 'Unnamed: 136', 'Unnamed: 137', 'Unnamed: 138', 'Unnamed: 139', 'Unnamed: 140', 'Unnamed: 141', 'Unnamed: 142', 'Unnamed: 143', 'Unnamed: 144', 'Unnamed: 145', 'Unnamed: 146', 'Unnamed: 147', 'Unnamed: 148', 'Unnamed: 149', 'Unnamed: 150', 'Unnamed: 151', 'Unnamed: 152', 'Unnamed: 153', 'Unnamed: 154', 'Unnamed: 155', 'Unnamed: 156', 'Unnamed: 157', 'Unnamed: 158', 'Unnamed: 159', 'Unnamed: 160', 'Unnamed: 161', 'Unnamed: 162', 'Unnamed: 163', 'Unnamed: 164', 'Unnamed: 165', 'Unnamed: 166', 'Unnamed: 167', 'Unnamed: 168', 'Unnamed: 169', 'Unnamed: 170', 'Unnamed: 171', 'Unnamed: 172', 'Unnamed: 173', 'Unnamed: 174', 'Unnamed: 175', 'Unnamed: 176', 'Unnamed: 177', 'Unnamed: 178', 'Unnamed: 179', 'Unnamed: 180', 'Unnamed: 181', 'Unnamed: 182', 'Unnamed: 183', 'Unnamed: 184', 'Unnamed: 185', 'Unnamed: 186', 'Unnamed: 187', 'Unnamed: 188', 'Unnamed: 189', 'Unnamed: 190', 'Unnamed: 191', 'Unnamed: 192', 'Unnamed: 193', 'Unnamed: 194', 'Unnamed: 195', 'Unnamed: 196', 'Unnamed: 197', 'Unnamed: 198', 'Unnamed: 199', 'Unnamed: 200', 'Unnamed: 201', 'Unnamed: 202', 'Unnamed: 203', 'Unnamed: 204', 'Unnamed: 205', 'Unnamed: 206', 'Unnamed: 207', 'Unnamed: 208', 'Unnamed: 209', 'Unnamed: 210', 'Unnamed: 211', 'Unnamed: 212', 'Unnamed: 213', 'Unnamed: 214', 'Unnamed: 215', 'Unnamed: 216', 'Unnamed: 217', 'Unnamed: 218', 'Unnamed: 219', 'Unnamed: 220', 'Unnamed: 221', 'Unnamed: 222', 'Unnamed: 223', 'Unnamed: 224', 'Unnamed: 225', 'Unnamed: 226', 'Unnamed: 227', 'Unnamed: 228', 'Unnamed: 229', 'Unnamed: 230', 'Unnamed: 231', 'Unnamed: 232', 'Unnamed: 233', 'Unnamed: 234', 'Unnamed: 235', 'Unnamed: 236', 'Unnamed: 237', 'Unnamed: 238', 'Unnamed: 239', 'Unnamed: 240', 'Unnamed: 241', 'Unnamed: 242', 'Unnamed: 243', 'Unnamed: 244', 'Unnamed: 245', 'Unnamed: 246', 'Unnamed: 247']\n",
      "\n",
      "Rows : 135, columns : 60\n"
     ]
    },
    {
     "name": "stderr",
     "output_type": "stream",
     "text": [
      "/home/yanathan/.local/share/virtualenvs/GSDMA-DRfwm83x/lib/python3.8/site-packages/pandas/core/frame.py:4305: SettingWithCopyWarning: \n",
      "A value is trying to be set on a copy of a slice from a DataFrame\n",
      "\n",
      "See the caveats in the documentation: https://pandas.pydata.org/pandas-docs/stable/user_guide/indexing.html#returning-a-view-versus-a-copy\n",
      "  return super().drop(\n"
     ]
    },
    {
     "data": {
      "application/vnd.jupyter.widget-view+json": {
       "model_id": "81625de6eed74b81a5b4956dd19d317a",
       "version_major": 2,
       "version_minor": 0
      },
      "text/plain": [
       "interactive(children=(IntSlider(value=5, description='rows', max=135, min=5, readout=False), IntSlider(value=1…"
      ]
     },
     "metadata": {},
     "output_type": "display_data"
    }
   ],
   "source": [
    "df = pd.read_excel('../../CF_data/Data_UMONS/Profils_de_sol_Siterem- extension_pilote_et_pilote/'\n",
    "                   'Resultats SOL extension pilote et piezairs.xlsx', \n",
    "                   sheet_name='Résult SOL', skiprows=5)\n",
    "df=na_line_drop(df,0)\n",
    "df=na_col_drop(df,1)\n",
    "df.replace(r'<|>','', inplace=True, regex=True)\n",
    "df.replace(r'-$',np.nan, inplace=True, regex=True)\n",
    "\n",
    "gdf_viewer(df, rows=5)"
   ]
  },
  {
   "cell_type": "code",
   "execution_count": 654,
   "id": "isolated-mayor",
   "metadata": {},
   "outputs": [],
   "source": [
    "prv_sol=df.loc[:35]\n",
    "an=df.loc[36:]"
   ]
  },
  {
   "cell_type": "code",
   "execution_count": 655,
   "id": "global-reynolds",
   "metadata": {},
   "outputs": [
    {
     "name": "stderr",
     "output_type": "stream",
     "text": [
      "/home/yanathan/.local/share/virtualenvs/GSDMA-DRfwm83x/lib/python3.8/site-packages/pandas/core/indexing.py:692: SettingWithCopyWarning: \n",
      "A value is trying to be set on a copy of a slice from a DataFrame\n",
      "\n",
      "See the caveats in the documentation: https://pandas.pydata.org/pandas-docs/stable/user_guide/indexing.html#returning-a-view-versus-a-copy\n",
      "  iloc._setitem_with_indexer(indexer, value, self.name)\n"
     ]
    }
   ],
   "source": [
    "an.loc[0.5] = df.loc[0] # put data on first line\n",
    "an = an.sort_index().reset_index(drop=True)"
   ]
  },
  {
   "cell_type": "code",
   "execution_count": 656,
   "id": "banned-sheffield",
   "metadata": {},
   "outputs": [],
   "source": [
    "prv_sol=prv_sol.transpose()\n",
    "prv_sol.reset_index(drop=True, inplace=True)\n",
    "prv_sol=col_ren(prv_sol, 1)"
   ]
  },
  {
   "cell_type": "code",
   "execution_count": 657,
   "id": "signed-store",
   "metadata": {},
   "outputs": [
    {
     "name": "stdout",
     "output_type": "stream",
     "text": [
      "column(s) dropped: ['9:Autre zone suspecte investiguée', '27:température pour mes. pH', '30:pH (H20)']\n"
     ]
    }
   ],
   "source": [
    "prv_sol=dble_col_drop(prv_sol)"
   ]
  },
  {
   "cell_type": "code",
   "execution_count": 658,
   "id": "unlikely-hardware",
   "metadata": {},
   "outputs": [
    {
     "name": "stdout",
     "output_type": "stream",
     "text": [
      "\n",
      "Columns dropped :['Matières organiques', 'SPP/zone suspecte investiguée', 'Autre zone suspecte investiguée', 'Parcelle', 'X Lambert', 'Y Lambert', \"Type d'étude (*)\", 'Organoleptique couleur suspecte', 'Organoleptique odeur intensité (***)', 'Organoleptique odeur type', 'MO et COT', 'pH', 'GRANULOMETRIE', 'Fraction argileuse']\n",
      "\n"
     ]
    }
   ],
   "source": [
    "prv_sol.drop(list(range(3)), axis=0, inplace=True)\n",
    "prv_sol.reset_index(drop=True, inplace=True)\n",
    "prv_sol=na_col_drop(prv_sol,3)\n",
    "prv_sol=na_line_drop(prv_sol,3)\n",
    "prv_sol.reset_index(drop=True, inplace=True)"
   ]
  },
  {
   "cell_type": "code",
   "execution_count": 659,
   "id": "recent-kingston",
   "metadata": {},
   "outputs": [],
   "source": [
    "prv_sol=prv_sol[:-1]\n",
    "prv_sol.drop(columns=['broyage'], inplace=True)"
   ]
  },
  {
   "cell_type": "code",
   "execution_count": 660,
   "id": "approximate-relevance",
   "metadata": {},
   "outputs": [],
   "source": [
    "name=['ID_ech','Ech_top', 'Ech_base','MS','Date_prv','Long_for','Refus','Description','MO','COT','pH_KCl', \n",
    "      'Temp_pH_mes','pH_H20','Fract_2','Fract_2+', 'Fract_min_2µ','Fract_min_50µ','Fract_min_2']\n",
    "prv_sol=col_ren(prv_sol, name=name, mode=1)"
   ]
  },
  {
   "cell_type": "code",
   "execution_count": 661,
   "id": "incorrect-gates",
   "metadata": {},
   "outputs": [
    {
     "data": {
      "text/plain": [
       "{'R', 'R ', 'TN', 'TN ', nan}"
      ]
     },
     "execution_count": 661,
     "metadata": {},
     "output_type": "execute_result"
    }
   ],
   "source": [
    "set(prv_sol.Description)"
   ]
  },
  {
   "cell_type": "code",
   "execution_count": 662,
   "id": "mounted-renaissance",
   "metadata": {},
   "outputs": [],
   "source": [
    "for i in range(len(prv_sol['Description'])):\n",
    "    x = prv_sol.loc[i,'Description']\n",
    "    if x in ['R','R ']: prv_sol.loc[i,'Description']='Remblais'\n",
    "    elif x in ['TN','TN ']: prv_sol.loc[i,'Description']='Terrain naturel'\n",
    "\n",
    "prv_sol['Refus']=prv_sol['Refus'].apply(lambda x: 'x' if not pd.isnull(x) else '')\n",
    "prv_sol.insert(1,'Type_ech','Sol')#"
   ]
  },
  {
   "cell_type": "code",
   "execution_count": 663,
   "id": "inside-dialogue",
   "metadata": {},
   "outputs": [],
   "source": [
    "for i in range(len(prv_sol)):\n",
    "    x=prv_sol.loc[i,'ID_ech']\n",
    "    r=re.search('([\\w|\\d]+)\\n.+$', x)\n",
    "    if r: \n",
    "        prv_sol.loc[i,'ID_ech']='226/'+r.group(1) # Rename borehole 304 to 226 because of conflict with piezair"
   ]
  },
  {
   "cell_type": "code",
   "execution_count": 664,
   "id": "still-raising",
   "metadata": {
    "scrolled": true
   },
   "outputs": [
    {
     "name": "stdout",
     "output_type": "stream",
     "text": [
      "<class 'pandas.core.frame.DataFrame'>\n",
      "RangeIndex: 55 entries, 0 to 54\n",
      "Data columns (total 19 columns):\n",
      " #   Column         Non-Null Count  Dtype \n",
      "---  ------         --------------  ----- \n",
      " 0   ID_ech         55 non-null     object\n",
      " 1   Type_ech       55 non-null     object\n",
      " 2   Ech_top        53 non-null     object\n",
      " 3   Ech_base       53 non-null     object\n",
      " 4   MS             55 non-null     object\n",
      " 5   Date_prv       55 non-null     object\n",
      " 6   Long_for       53 non-null     object\n",
      " 7   Refus          55 non-null     object\n",
      " 8   Description    53 non-null     object\n",
      " 9   MO             5 non-null      object\n",
      " 10  COT            4 non-null      object\n",
      " 11  pH_KCl         4 non-null      object\n",
      " 12  Temp_pH_mes    4 non-null      object\n",
      " 13  pH_H20         4 non-null      object\n",
      " 14  Fract_2        55 non-null     object\n",
      " 15  Fract_2+       55 non-null     object\n",
      " 16  Fract_min_2µ   5 non-null      object\n",
      " 17  Fract_min_50µ  5 non-null      object\n",
      " 18  Fract_min_2    5 non-null      object\n",
      "dtypes: object(19)\n",
      "memory usage: 8.3+ KB\n"
     ]
    }
   ],
   "source": [
    "prv_sol.info()"
   ]
  },
  {
   "cell_type": "code",
   "execution_count": 665,
   "id": "normal-narrative",
   "metadata": {
    "scrolled": false
   },
   "outputs": [
    {
     "name": "stdout",
     "output_type": "stream",
     "text": [
      "Rows : 55, columns : 19\n"
     ]
    },
    {
     "data": {
      "application/vnd.jupyter.widget-view+json": {
       "model_id": "a45cb5a125474c5692afa658bba58b72",
       "version_major": 2,
       "version_minor": 0
      },
      "text/plain": [
       "interactive(children=(IntSlider(value=3, description='rows', max=55, min=3, readout=False), IntSlider(value=12…"
      ]
     },
     "metadata": {},
     "output_type": "display_data"
    }
   ],
   "source": [
    "gdf_viewer(prv_sol, rows=3)"
   ]
  },
  {
   "cell_type": "code",
   "execution_count": 666,
   "id": "affected-window",
   "metadata": {},
   "outputs": [],
   "source": [
    "an=an.transpose()\n",
    "an.reset_index(drop=True, inplace=True)"
   ]
  },
  {
   "cell_type": "code",
   "execution_count": 667,
   "id": "unavailable-roads",
   "metadata": {},
   "outputs": [],
   "source": [
    "an=col_ren(an, 1)"
   ]
  },
  {
   "cell_type": "code",
   "execution_count": 668,
   "id": "beautiful-casting",
   "metadata": {},
   "outputs": [],
   "source": [
    "an.rename(columns={an.columns[0]:'ID_ech'}, inplace=True)"
   ]
  },
  {
   "cell_type": "code",
   "execution_count": 669,
   "id": "elder-andorra",
   "metadata": {},
   "outputs": [
    {
     "data": {
      "text/plain": [
       "Index(['ID_ech', 'METAUX LOURDS', 'Arsenic', 'Cadmium', 'Chrome', 'Chrome VI',\n",
       "       'Cobalt', 'Cuivre', 'Mercure', 'Plomb', 'Nickel', 'Zinc', 'CYANURES',\n",
       "       'cyanure (libre)', 'cyanure (totaux)', 'cyanure (APE)',\n",
       "       'cyanure complex', 'thiocyanate', 'COMPOSES AROMATIQUES VOLATILS',\n",
       "       'Benzène', 'Toluène', 'Éthylbenzène', 'Orthoxylène',\n",
       "       'Para- et métaxylène', 'Xylènes', 'Styrène', 'BTEX totaux', 'PHENOLS',\n",
       "       'Phénol', 'Indice phénol', 'HYDROCARBURES AROMATIQUES POLYCYCLIQUES',\n",
       "       'Naphtalène', 'Acénaphtylène', 'Acénaphtène', 'Fluorène', 'col_35',\n",
       "       'Anthracène', 'Fluoranthène', 'Pyrène', 'Benzo(a)anthracène',\n",
       "       'Chrysène', 'Benzo(b)fluoranthène', 'Benzo(k)fluoranthène',\n",
       "       'Benzo(a)pyrène', 'Dibenzo(ah)anthracène', 'Benzo(ghi)pérylène',\n",
       "       'Indéno(1,2,3-cd)pyrène', 'HAP Totaux (16) - EPA',\n",
       "       'COMPOSES ORGANOHALOGENES VOLATILS', 'Tétrachloroéthylène',\n",
       "       'Trichloroéthylène', '1,1-dichloroéthène', 'Cis-1,2-dichloroéthène',\n",
       "       'Trans 1,2-dichloroéthylène', 'Totaux (cis,trans) 1,2-dichloroéthènes',\n",
       "       'Chlorure de vinyle', '1,1,1-Trichloroéthane', '1,1,2-Trichloroéthane',\n",
       "       '1,1-Dichloroéthane', '1,2-Dichloroéthane', 'Tétrachlorométhane',\n",
       "       'Chloroforme', 'Dichlorométhane', '1,2-dichloropropane', 'EOX (****)',\n",
       "       'HYDROCARBURES TOTAUX', 'fraction aromat. C6-C7',\n",
       "       'fraction aromat. C7-C8', 'fraction aromat. C8-C10',\n",
       "       'fraction aliphat. C5-C6', 'fraction aliphat. C6-C8',\n",
       "       'fraction aliphat. C8-C10', 'Fraction C5 - C8', 'Fraction C8 - C10',\n",
       "       'Fraction C10-C12', 'Fraction C12-C16', 'Fraction C16 - C21',\n",
       "       'Fraction C21 - C35', 'Fraction C35 - C40',\n",
       "       'Hydrocarbures totaux C10-C35', 'Hydrocarbures totaux C10-C40',\n",
       "       'METHYL-TERT-BUTYL-ETHER', 'MTBE', 'POLYCHLOROBIPHENYL (PCB)', 'PCB 28',\n",
       "       'PCB 52', 'PCB 101', 'PCB 118', 'PCB 138', 'PCB 153', 'PCB 180',\n",
       "       'PCB totaux (7)', 'Teneur mesurée', 'Teneur mesurée',\n",
       "       'VS : Valeur seuil',\n",
       "       '(*) RP : Rapport de prélèvements; ES : Etude de sol; EO : Etude d'orientation; EC : Etude de caractérisation; SA : Suivi d'assainissement; EF : Evaluation finale',\n",
       "       '(**) TN : Terrain naturel; R : Remblai',\n",
       "       '(***) - : Pas d'impression organoleptique; + : Impression organoleptique faible; ++ : Impression organoleptique forte',\n",
       "       '(****) 3 mg/kg = Seuil limite défini dans le GREO ',\n",
       "       'Le contenu des tableaux est conforme au modèle repris à l'annexe IX du GREO V04. Le formalisme a été adapté par SITEREM tout en garantissant la lisibilité du document imprimé. '],\n",
       "      dtype='object')"
      ]
     },
     "execution_count": 669,
     "metadata": {},
     "output_type": "execute_result"
    }
   ],
   "source": [
    "an.columns"
   ]
  },
  {
   "cell_type": "code",
   "execution_count": 670,
   "id": "white-costume",
   "metadata": {},
   "outputs": [],
   "source": [
    "an=an[an.columns[:-17]]\n",
    "an.rename(columns={'col_35':'Phénanthrène'}, inplace=True)"
   ]
  },
  {
   "cell_type": "code",
   "execution_count": 671,
   "id": "fresh-houston",
   "metadata": {},
   "outputs": [],
   "source": [
    "an=col_ren(an, name=pol_field_model, mode=1)"
   ]
  },
  {
   "cell_type": "code",
   "execution_count": 672,
   "id": "planned-reporter",
   "metadata": {},
   "outputs": [
    {
     "name": "stdout",
     "output_type": "stream",
     "text": [
      "column(s) dropped: []\n"
     ]
    }
   ],
   "source": [
    "an=dble_col_drop(an)"
   ]
  },
  {
   "cell_type": "code",
   "execution_count": 673,
   "id": "thrown-interview",
   "metadata": {},
   "outputs": [
    {
     "name": "stdout",
     "output_type": "stream",
     "text": [
      "\n",
      "Columns dropped :['METAUX LOURDS', 'CYANURES', 'COMPOSES AROMATIQUES VOLATILS', 'BTEX_tot', 'PHENOLS', 'HYDROCARBURES AROMATIQUES POLYCYCLIQUES', 'COMPOSES ORGANOHALOGENES VOLATILS', 'HYDROCARBURES TOTAUX', 'METHYL-TERT-BUTYL-ETHER']\n",
      "\n"
     ]
    }
   ],
   "source": [
    "an.drop(list(range(3)), axis=0, inplace=True)\n",
    "an.reset_index(drop=True, inplace=True)\n",
    "an=na_col_drop(an,1)\n",
    "an.insert(1,'Type_ech','Sol')"
   ]
  },
  {
   "cell_type": "code",
   "execution_count": 674,
   "id": "comprehensive-highway",
   "metadata": {},
   "outputs": [
    {
     "name": "stdout",
     "output_type": "stream",
     "text": [
      "Rows : 56, columns : 75\n"
     ]
    },
    {
     "data": {
      "application/vnd.jupyter.widget-view+json": {
       "model_id": "d301afd1f5db4c979d86c0ef2ae04536",
       "version_major": 2,
       "version_minor": 0
      },
      "text/plain": [
       "interactive(children=(IntSlider(value=5, description='rows', max=56, min=5, readout=False), IntSlider(value=12…"
      ]
     },
     "metadata": {},
     "output_type": "display_data"
    }
   ],
   "source": [
    "gdf_viewer(an, rows=5) "
   ]
  },
  {
   "cell_type": "code",
   "execution_count": 675,
   "id": "silver-algebra",
   "metadata": {},
   "outputs": [],
   "source": [
    "source_prv_sol=prv_sol\n",
    "source_an=an"
   ]
  },
  {
   "cell_type": "code",
   "execution_count": 676,
   "id": "specific-suspension",
   "metadata": {
    "scrolled": true
   },
   "outputs": [
    {
     "name": "stdout",
     "output_type": "stream",
     "text": [
      "source_bh:0 ; source_pz:0 ; source_litho:0 ; source_Fac-uknw:0 ; source_an:56 ;\n",
      "source_prv_sol:55 ;source_prv_eau:0 ; source_mes_pz:0 ; source_mes_sol:0 ;\n"
     ]
    }
   ],
   "source": [
    "if not os.path.exists(tmp_dir):\n",
    "    os.makedirs(tmp_dir)\n",
    "\n",
    "#bh.to_csv(tmp_dir+'source_Boreholes.csv', index=False)\n",
    "#pz.to_csv(tmp_dir+sheet+'_Piezometers.csv', index=False)\n",
    "#ouv.to_csv(tmp_dir+sheet+'_Unkown-facility.csv', index=False)\n",
    "#litho.to_csv(tmp_dir+sheet+'_Lithology.csv', index=False)\n",
    "#mes_pz.to_csv(tmp_dir+sheet+'_Measures.csv', index=False)\n",
    "#mes_sol.to_csv(tmp_dir+sheet+'_Measures-soil.csv', index=False)\n",
    "#prv_eau.to_csv(tmp_dir+sheet+'_Samples-water.csv', index=False)\n",
    "prv_sol.to_csv(tmp_dir+sheet+'_Samples-soil.csv', index=False)\n",
    "an.to_csv(tmp_dir+sheet+'_Analysis.csv', index=False)\n",
    "\n",
    "\n",
    "#source_bh.to_csv(tmp_dir+'source_Boreholes.csv', index=False)\n",
    "#source_pz.to_csv(tmp_dir+'source_Piezometers.csv', index=False)\n",
    "#source_ouv.to_csv(tmp_dir+'source_Unkown-facility.csv', index=False)\n",
    "#source_litho.to_csv(tmp_dir+'source_Lithology.csv', index=False)\n",
    "#source_mes_pz.to_csv(tmp_dir+'source_Measures.csv', index=False)\n",
    "#source_mes_sol.to_csv(tmp_dir+'source_Measures-soil.csv', index=False)\n",
    "#source_prv_eau.to_csv(tmp_dir+'source_Samples-water.csv', index=False)\n",
    "source_prv_sol.to_csv(tmp_dir+'source_Samples-soil.csv', index=False)\n",
    "source_an.to_csv(tmp_dir+'source_Analysis.csv', index=False)\n",
    "\n",
    "\n",
    "print(f'source_bh:{len(source_bh)} ; source_pz:{len(source_pz)} ; source_litho:{len(source_litho)} ; '\n",
    "     f'source_Fac-uknw:{len(source_ouv)} ; source_an:{len(source_an)} ;\\nsource_prv_sol:{len(source_prv_sol)} ;'\n",
    "     f'source_prv_eau:{len(source_prv_eau)} ; source_mes_pz:{len(source_mes_pz)} ; source_mes_sol:{len(source_mes_sol)} ;')"
   ]
  },
  {
   "cell_type": "markdown",
   "id": "raised-semiconductor",
   "metadata": {},
   "source": [
    "* **Sheet : 'inorganiques et composés majeur'**"
   ]
  },
  {
   "cell_type": "code",
   "execution_count": 699,
   "id": "detected-namibia",
   "metadata": {},
   "outputs": [],
   "source": [
    "tmp_dir='../../CF_data/Result_traitem/donnees_terrain_2019/'\n",
    "sheet='Inorg_comp_majeur'"
   ]
  },
  {
   "cell_type": "code",
   "execution_count": 700,
   "id": "weighted-breed",
   "metadata": {
    "scrolled": false
   },
   "outputs": [
    {
     "name": "stdout",
     "output_type": "stream",
     "text": [
      "11 NaN lines dropped\n",
      "\n",
      "Columns dropped :['Unnamed: 0', 'Unnamed: 2', 'Unnamed: 48', 'Unnamed: 49', 'Unnamed: 50', 'Unnamed: 51', 'Unnamed: 52', 'Unnamed: 53', 'Unnamed: 54', 'Unnamed: 55', 'Unnamed: 56', 'Unnamed: 57', 'Unnamed: 58', 'Unnamed: 59', 'Unnamed: 60', 'Unnamed: 61', 'Unnamed: 62', 'Unnamed: 63', 'Unnamed: 64', 'Unnamed: 65', 'Unnamed: 66', 'Unnamed: 67', 'Unnamed: 68', 'Unnamed: 69', 'Unnamed: 70', 'Unnamed: 71', 'Unnamed: 72', 'Unnamed: 73', 'Unnamed: 74', 'Unnamed: 75', 'Unnamed: 76', 'Unnamed: 77', 'Unnamed: 78', 'Unnamed: 79', 'Unnamed: 80', 'Unnamed: 81', 'Unnamed: 82', 'Unnamed: 83', 'Unnamed: 84', 'Unnamed: 85', 'Unnamed: 86', 'Unnamed: 87', 'Unnamed: 88', 'Unnamed: 89', 'Unnamed: 90', 'Unnamed: 91', 'Unnamed: 92', 'Unnamed: 93', 'Unnamed: 94']\n",
      "\n",
      "Rows : 64, columns : 46\n"
     ]
    },
    {
     "name": "stderr",
     "output_type": "stream",
     "text": [
      "/home/yanathan/.local/share/virtualenvs/GSDMA-DRfwm83x/lib/python3.8/site-packages/pandas/core/frame.py:4305: SettingWithCopyWarning: \n",
      "A value is trying to be set on a copy of a slice from a DataFrame\n",
      "\n",
      "See the caveats in the documentation: https://pandas.pydata.org/pandas-docs/stable/user_guide/indexing.html#returning-a-view-versus-a-copy\n",
      "  return super().drop(\n"
     ]
    },
    {
     "data": {
      "application/vnd.jupyter.widget-view+json": {
       "model_id": "ba53d9dc9f044a12ba65d5484fcbed0c",
       "version_major": 2,
       "version_minor": 0
      },
      "text/plain": [
       "interactive(children=(IntSlider(value=5, description='rows', max=64, min=5, readout=False), IntSlider(value=12…"
      ]
     },
     "metadata": {},
     "output_type": "display_data"
    }
   ],
   "source": [
    "df = pd.read_excel('../../CF_data/Data_UMONS/Profils_de_sol_Siterem- extension_pilote_et_pilote/'\n",
    "                   'Resultats SOL extension pilote et piezairs.xlsx', \n",
    "                   sheet_name='inorganiques et composés majeur', skiprows=1)\n",
    "df=na_line_drop(df,0)\n",
    "df=na_col_drop(df,1)\n",
    "df.replace(r'<|>','', inplace=True, regex=True)\n",
    "df.replace(r'-$',np.nan, inplace=True, regex=True)\n",
    "\n",
    "gdf_viewer(df, rows=5)"
   ]
  },
  {
   "cell_type": "code",
   "execution_count": 701,
   "id": "virgin-concept",
   "metadata": {},
   "outputs": [],
   "source": [
    "prv_sol=df.loc[:20]\n",
    "an=df.loc[21:]"
   ]
  },
  {
   "cell_type": "code",
   "execution_count": 702,
   "id": "exclusive-escape",
   "metadata": {},
   "outputs": [
    {
     "name": "stderr",
     "output_type": "stream",
     "text": [
      "/home/yanathan/.local/share/virtualenvs/GSDMA-DRfwm83x/lib/python3.8/site-packages/pandas/core/indexing.py:692: SettingWithCopyWarning: \n",
      "A value is trying to be set on a copy of a slice from a DataFrame\n",
      "\n",
      "See the caveats in the documentation: https://pandas.pydata.org/pandas-docs/stable/user_guide/indexing.html#returning-a-view-versus-a-copy\n",
      "  iloc._setitem_with_indexer(indexer, value, self.name)\n"
     ]
    }
   ],
   "source": [
    "an.loc[0.5] = df.loc[0] # put data on first line\n",
    "an = an.sort_index().reset_index(drop=True)"
   ]
  },
  {
   "cell_type": "code",
   "execution_count": 703,
   "id": "mature-trouble",
   "metadata": {},
   "outputs": [],
   "source": [
    "prv_sol=prv_sol.transpose()\n",
    "prv_sol.reset_index(drop=True, inplace=True)\n",
    "prv_sol=col_ren(prv_sol, 1)"
   ]
  },
  {
   "cell_type": "code",
   "execution_count": 704,
   "id": "immediate-weight",
   "metadata": {},
   "outputs": [
    {
     "name": "stdout",
     "output_type": "stream",
     "text": [
      "column(s) dropped: ['5:Autre zone suspecte investiguée']\n"
     ]
    }
   ],
   "source": [
    "prv_sol=dble_col_drop(prv_sol)"
   ]
  },
  {
   "cell_type": "markdown",
   "id": "brutal-genius",
   "metadata": {},
   "source": [
    "this part of the file is unusefull (look above)"
   ]
  },
  {
   "cell_type": "code",
   "execution_count": 705,
   "id": "pediatric-template",
   "metadata": {},
   "outputs": [],
   "source": [
    "an=an.transpose()\n",
    "an.reset_index(drop=True, inplace=True)"
   ]
  },
  {
   "cell_type": "code",
   "execution_count": 706,
   "id": "desperate-turkish",
   "metadata": {},
   "outputs": [],
   "source": [
    "an=col_ren(an, 1)"
   ]
  },
  {
   "cell_type": "code",
   "execution_count": 707,
   "id": "saving-nightmare",
   "metadata": {},
   "outputs": [],
   "source": [
    "an.rename(columns={an.columns[0]:'ID_ech'}, inplace=True)"
   ]
  },
  {
   "cell_type": "code",
   "execution_count": 709,
   "id": "buried-carolina",
   "metadata": {},
   "outputs": [],
   "source": [
    "an=an[an.columns[:-7]]"
   ]
  },
  {
   "cell_type": "code",
   "execution_count": 710,
   "id": "representative-adolescent",
   "metadata": {},
   "outputs": [],
   "source": [
    "an=col_ren(an, name=pol_field_model, mode=1)"
   ]
  },
  {
   "cell_type": "code",
   "execution_count": 711,
   "id": "tested-europe",
   "metadata": {},
   "outputs": [
    {
     "name": "stdout",
     "output_type": "stream",
     "text": [
      "column(s) dropped: ['3:NH4', '4:NH4', '5:NH4', '9:nitrite', '10:nitrite', '11:nitrite', '13:nitrate', '14:nitrate', '15:nitrate']\n"
     ]
    }
   ],
   "source": [
    "an=dble_col_drop(an)"
   ]
  },
  {
   "cell_type": "code",
   "execution_count": 712,
   "id": "ruled-plastic",
   "metadata": {},
   "outputs": [
    {
     "name": "stdout",
     "output_type": "stream",
     "text": [
      "\n",
      "Columns dropped :['COMPOSES AZOTES', 'NH3_libre', 'nitrite', 'nitrate', 'COMPOSES SOUFRES ', 'Sulfure_tot', 'Sulfure_libre', 'S_tot', 'sulfite', 'ELEMENTS MAJEURS', 'Fe_tot', 'Fe2', 'AUTRES ANALYSES', 'Fluorure', 'CN_libre', 'B_libre', 'CaCO3', 'Bicarb', 'METHYL-TERT-BUTYL-ETHER', 'MTBE']\n",
      "\n",
      "35 NaN lines dropped\n"
     ]
    },
    {
     "name": "stderr",
     "output_type": "stream",
     "text": [
      "/home/yanathan/.local/share/virtualenvs/GSDMA-DRfwm83x/lib/python3.8/site-packages/pandas/core/frame.py:4305: SettingWithCopyWarning: \n",
      "A value is trying to be set on a copy of a slice from a DataFrame\n",
      "\n",
      "See the caveats in the documentation: https://pandas.pydata.org/pandas-docs/stable/user_guide/indexing.html#returning-a-view-versus-a-copy\n",
      "  return super().drop(\n"
     ]
    }
   ],
   "source": [
    "an.drop(list(range(3)), axis=0, inplace=True)\n",
    "an.reset_index(drop=True, inplace=True)\n",
    "an=na_col_drop(an,2)\n",
    "an = na_line_drop(an,1)\n",
    "an.insert(1,'Type_ech','Sol')"
   ]
  },
  {
   "cell_type": "code",
   "execution_count": 714,
   "id": "graphic-construction",
   "metadata": {
    "scrolled": false
   },
   "outputs": [
    {
     "name": "stdout",
     "output_type": "stream",
     "text": [
      "Rows : 7, columns : 15\n"
     ]
    },
    {
     "data": {
      "application/vnd.jupyter.widget-view+json": {
       "model_id": "899e0051e80d4bde8a4451af308eba8d",
       "version_major": 2,
       "version_minor": 0
      },
      "text/plain": [
       "interactive(children=(IntSlider(value=5, description='rows', max=7, min=5, readout=False), IntSlider(value=12,…"
      ]
     },
     "metadata": {},
     "output_type": "display_data"
    }
   ],
   "source": [
    "gdf_viewer(an, rows=5) "
   ]
  },
  {
   "cell_type": "code",
   "execution_count": 694,
   "id": "extra-inquiry",
   "metadata": {
    "scrolled": true
   },
   "outputs": [],
   "source": [
    "#source_prv_sol=prv_sol\n",
    "source_an=gdf_merger(source_an, an, how='outer', col='ID_ech')[0]"
   ]
  },
  {
   "cell_type": "code",
   "execution_count": 695,
   "id": "middle-convertible",
   "metadata": {
    "scrolled": true
   },
   "outputs": [
    {
     "name": "stdout",
     "output_type": "stream",
     "text": [
      "source_bh:0 ; source_pz:0 ; source_litho:0 ; source_Fac-uknw:0 ; source_an:61 ;\n",
      "source_prv_sol:55 ;source_prv_eau:0 ; source_mes_pz:0 ; source_mes_sol:0 ;\n"
     ]
    }
   ],
   "source": [
    "if not os.path.exists(tmp_dir):\n",
    "    os.makedirs(tmp_dir)\n",
    "\n",
    "#bh.to_csv(tmp_dir+'source_Boreholes.csv', index=False)\n",
    "#pz.to_csv(tmp_dir+sheet+'_Piezometers.csv', index=False)\n",
    "#ouv.to_csv(tmp_dir+sheet+'_Unkown-facility.csv', index=False)\n",
    "#litho.to_csv(tmp_dir+sheet+'_Lithology.csv', index=False)\n",
    "#mes_pz.to_csv(tmp_dir+sheet+'_Measures.csv', index=False)\n",
    "#mes_sol.to_csv(tmp_dir+sheet+'_Measures-soil.csv', index=False)\n",
    "#prv_eau.to_csv(tmp_dir+sheet+'_Samples-water.csv', index=False)\n",
    "#prv_sol.to_csv(tmp_dir+sheet+'_Samples-soil.csv', index=False)\n",
    "an.to_csv(tmp_dir+sheet+'_Analysis.csv', index=False)\n",
    "\n",
    "\n",
    "#source_bh.to_csv(tmp_dir+'source_Boreholes.csv', index=False)\n",
    "#source_pz.to_csv(tmp_dir+'source_Piezometers.csv', index=False)\n",
    "#source_ouv.to_csv(tmp_dir+'source_Unkown-facility.csv', index=False)\n",
    "#source_litho.to_csv(tmp_dir+'source_Lithology.csv', index=False)\n",
    "#source_mes_pz.to_csv(tmp_dir+'source_Measures.csv', index=False)\n",
    "#source_mes_sol.to_csv(tmp_dir+'source_Measures-soil.csv', index=False)\n",
    "#source_prv_eau.to_csv(tmp_dir+'source_Samples-water.csv', index=False)\n",
    "#source_prv_sol.to_csv(tmp_dir+'source_Samples-soil.csv', index=False)\n",
    "source_an.to_csv(tmp_dir+'source_Analysis.csv', index=False)\n",
    "\n",
    "\n",
    "print(f'source_bh:{len(source_bh)} ; source_pz:{len(source_pz)} ; source_litho:{len(source_litho)} ; '\n",
    "     f'source_Fac-uknw:{len(source_ouv)} ; source_an:{len(source_an)} ;\\nsource_prv_sol:{len(source_prv_sol)} ;'\n",
    "     f'source_prv_eau:{len(source_prv_eau)} ; source_mes_pz:{len(source_mes_pz)} ; source_mes_sol:{len(source_mes_sol)} ;')"
   ]
  },
  {
   "cell_type": "code",
   "execution_count": null,
   "id": "executive-providence",
   "metadata": {},
   "outputs": [],
   "source": []
  }
 ],
 "metadata": {
  "kernelspec": {
   "display_name": "Python 3",
   "language": "python",
   "name": "python3"
  },
  "language_info": {
   "codemirror_mode": {
    "name": "ipython",
    "version": 3
   },
   "file_extension": ".py",
   "mimetype": "text/x-python",
   "name": "python",
   "nbconvert_exporter": "python",
   "pygments_lexer": "ipython3",
   "version": "3.8.5"
  }
 },
 "nbformat": 4,
 "nbformat_minor": 5
}
