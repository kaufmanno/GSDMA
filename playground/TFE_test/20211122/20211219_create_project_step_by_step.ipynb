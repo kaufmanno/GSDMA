{
 "cells": [
  {
   "cell_type": "code",
   "execution_count": null,
   "id": "400601b4",
   "metadata": {},
   "outputs": [],
   "source": [
    "import os\n",
    "import pandas as pd\n",
    "import pyvista as pv\n",
    "from core.project import Project\n",
    "from striplog import Component\n",
    "from utils.config import DEFAULT_LITHO_LEXICON\n",
    "from definitions import ROOT_DIR"
   ]
  },
  {
   "cell_type": "markdown",
   "id": "6d02dce4",
   "metadata": {},
   "source": [
    "## Create a new project from a empty or existing database"
   ]
  },
  {
   "cell_type": "code",
   "execution_count": null,
   "id": "6d6f6fa1",
   "metadata": {},
   "outputs": [],
   "source": [
    "update_db = False\n",
    "db_name = './new_db.db'\n",
    "db_bkp = db_name.replace('.db', '')+'_bkp.db'\n",
    "if os.path.exists(db_name) and not update_db:\n",
    "    if os.path.exists(db_bkp):\n",
    "        os.remove(db_bkp)\n",
    "    os.rename(db_name, db_bkp)"
   ]
  },
  {
   "cell_type": "code",
   "execution_count": null,
   "id": "c0f8f683",
   "metadata": {},
   "outputs": [],
   "source": [
    "p = Project.load(db_name)"
   ]
  },
  {
   "cell_type": "code",
   "execution_count": null,
   "id": "b5f4f195",
   "metadata": {},
   "outputs": [],
   "source": [
    "data = ROOT_DIR + '/CF_data/Memoris.xlsx'"
   ]
  },
  {
   "cell_type": "code",
   "execution_count": null,
   "id": "2e2c60e5-ac54-40b1-92c9-a4d64d64476d",
   "metadata": {},
   "outputs": [],
   "source": [
    "bh_df = pd.read_excel(data, sheet_name='boreholes')\n",
    "bh_df['ID'] = bh_df['ID'].astype('str')\n",
    "bh_df.head()"
   ]
  },
  {
   "cell_type": "code",
   "execution_count": null,
   "id": "30f751ee-9a75-4380-943d-bef721218915",
   "metadata": {
    "tags": []
   },
   "outputs": [],
   "source": [
    "for idx, row in bh_df.iterrows():\n",
    "    bh_dict = {'id':row['ID'], 'borehole_type': row['Type'], 'length': row['Length'], 'diameter':row['Diameter']/1000.}\n",
    "    if not pd.isnull(row['Date'].date()):\n",
    "        bh_dict.update({'date': row['Date'].date()})\n",
    "    bh_dict.update({'top':{'middle': row['Z'], 'x': row['X'], 'y': row['Y']}, 'base':{'middle': row['Z']-row['Length'], 'x': row['X'], 'y': row['Y']}})\n",
    "    p.add_borehole(bh_dict)"
   ]
  },
  {
   "cell_type": "code",
   "execution_count": null,
   "id": "e0cc1c47-fb58-43c1-b06e-92f08b2f1002",
   "metadata": {},
   "outputs": [],
   "source": [
    "intv_df = pd.read_excel(data, sheet_name='intervals')\n",
    "intv_df['ID'] = intv_df['ID'].astype('str')\n",
    "intv_df.head()"
   ]
  },
  {
   "cell_type": "code",
   "execution_count": null,
   "id": "ce80b761-1ed5-40a7-9214-52b2b1bffa9d",
   "metadata": {},
   "outputs": [],
   "source": [
    "intv_df = intv_df.merge(bh_df, how='left', left_on='ID', right_on='ID')[['ID', 'De', 'A', 'Keyword', 'Description_x', 'X', 'Y', 'Z']]\n",
    "intv_df.head()"
   ]
  },
  {
   "cell_type": "code",
   "execution_count": null,
   "id": "59a55c6f-3bcc-4c45-80fb-ea8fa09fbb73",
   "metadata": {},
   "outputs": [],
   "source": [
    "intv_df['top'] = intv_df['Z'] - intv_df['De']\n",
    "intv_df['base'] = intv_df['Z'] - intv_df['A']\n",
    "intv_df.rename({'Description_x': 'Description'}, axis=1, inplace=True)\n",
    "intv_df.head()"
   ]
  },
  {
   "cell_type": "code",
   "execution_count": null,
   "id": "8b61d87c-7961-4b94-acf7-58f409c449e8",
   "metadata": {},
   "outputs": [],
   "source": [
    "bh = ''\n",
    "intv_nr = 0\n",
    "for idx, row in intv_df.iterrows():\n",
    "    if row.ID!=bh:\n",
    "        bh=row.ID\n",
    "        intv_nr=0\n",
    "    else:\n",
    "        intv_nr+=1\n",
    "    components = Component.from_text(row['Keyword'].replace('emblais', 'emblai'), DEFAULT_LITHO_LEXICON, first_only=True).__dict__\n",
    "    if len(components)==0:\n",
    "        components=[]\n",
    "        print(f'Could not derive a component from {row[\"Keyword\"]} in interval {intv_nr} of borehole {row.ID}.')\n",
    "    else:\n",
    "        components= [str(components)]\n",
    "    intv_dict={'description': row['Description'],\n",
    "           'top':{'middle': row.top, 'x': row.X, 'y': row.Y},\n",
    "           'base':{'middle': row.base, 'x': row.X, 'y': row.Y},\n",
    "           'interval_number': intv_nr,\n",
    "           'components': components,\n",
    "           'extra_data': None\n",
    "          }\n",
    "    p.insert_interval_in_borehole(row.ID, intv_dict)"
   ]
  },
  {
   "cell_type": "code",
   "execution_count": null,
   "id": "de4b00da",
   "metadata": {},
   "outputs": [],
   "source": [
    "p.repr_attribute='lithology'"
   ]
  },
  {
   "cell_type": "code",
   "execution_count": null,
   "id": "c29ae2e8",
   "metadata": {},
   "outputs": [],
   "source": [
    "p.refresh(update_3d=True)"
   ]
  },
  {
   "cell_type": "markdown",
   "id": "322d85d5",
   "metadata": {},
   "source": [
    "### Visualization"
   ]
  },
  {
   "cell_type": "code",
   "execution_count": null,
   "id": "33fd2a32",
   "metadata": {},
   "outputs": [],
   "source": [
    "bh_name = '201'"
   ]
  },
  {
   "cell_type": "code",
   "execution_count": null,
   "id": "ca318904-fa9c-4f84-907f-a6ae1f5d1c55",
   "metadata": {},
   "outputs": [],
   "source": [
    "p.boreholes_3d[bh_name].intervals"
   ]
  },
  {
   "cell_type": "code",
   "execution_count": null,
   "id": "fb2fb890-de2e-4ffd-8ed1-d07fbbc1afd1",
   "metadata": {},
   "outputs": [],
   "source": [
    "sel_intervals = p.boreholes_orm[bh_name].intervals\n",
    "print(len(sel_intervals.keys()), 'intervals')\n",
    "sel_intervals[list(sel_intervals.keys())[1]]"
   ]
  },
  {
   "cell_type": "code",
   "execution_count": null,
   "id": "d87b8274",
   "metadata": {
    "scrolled": false
   },
   "outputs": [],
   "source": [
    "p.plot_log(bh_name, ticks=(.5, 2))"
   ]
  },
  {
   "cell_type": "markdown",
   "id": "9b927c2d",
   "metadata": {},
   "source": [
    "### add ground surface"
   ]
  },
  {
   "cell_type": "code",
   "execution_count": null,
   "id": "5a7ed319-a16b-4d99-9483-707a88d7c4d7",
   "metadata": {},
   "outputs": [],
   "source": [
    "ground_surface = pv.read('ground_surface.vtk')\n",
    "#container = pv.cube(center=(0.0, 0.0, 0.0), x_length=5.92, y_length=2.35, z_length=2.35)"
   ]
  },
  {
   "cell_type": "code",
   "execution_count": null,
   "id": "6c897d3f-2092-4c8c-a0ef-2d2e19c262d3",
   "metadata": {},
   "outputs": [],
   "source": [
    "p.repr_attribute= 'lithology' # 'borehole_type'"
   ]
  },
  {
   "cell_type": "raw",
   "id": "5b22949b",
   "metadata": {},
   "source": [
    "p.vtk.plot(jupyter_backend='panel')"
   ]
  },
  {
   "cell_type": "code",
   "execution_count": null,
   "id": "8f56cc19",
   "metadata": {},
   "outputs": [],
   "source": [
    "pl = pv.Plotter(window_size=(800,600), notebook=False)\n",
    "pl.add_mesh(p.vtk, cmap=p.cmap, scalar_bar_args=p.scalar_bar_args, show_scalar_bar=True, annotations=p.annotations)\n",
    "pl.add_mesh(ground_surface, color='green', opacity=0.5 )\n",
    "pl.add_axes()\n",
    "pl.show()"
   ]
  },
  {
   "cell_type": "code",
   "execution_count": null,
   "id": "ba23011b-707a-4978-820d-2fef948b460e",
   "metadata": {},
   "outputs": [],
   "source": [
    "p.boreholes_3d[bh_name]._vtk"
   ]
  },
  {
   "cell_type": "code",
   "execution_count": null,
   "id": "1bb5cf8f-9813-475a-9f4e-26c30c67bb80",
   "metadata": {},
   "outputs": [],
   "source": [
    "p.repr_attribute"
   ]
  },
  {
   "cell_type": "code",
   "execution_count": null,
   "id": "244054ed-5e69-403d-99f6-9508bb90ba42",
   "metadata": {},
   "outputs": [],
   "source": [
    "p.boreholes_3d[bh_name].legend_dict"
   ]
  },
  {
   "cell_type": "code",
   "execution_count": null,
   "id": "a13413cb-8ddc-423a-b94c-459438eb1c02",
   "metadata": {},
   "outputs": [],
   "source": [
    "p.plot_3d(window_size=(800, 600), str_annotations=True, verbose=True)"
   ]
  },
  {
   "cell_type": "raw",
   "id": "cef7020b-931a-407f-ad82-12012bf3d272",
   "metadata": {},
   "source": [
    "p.plot_3d(window_size=(800, 600), repr_attribute='benzene_industrial', str_annotations=True, verbose=True)"
   ]
  },
  {
   "cell_type": "markdown",
   "id": "555fc240",
   "metadata": {},
   "source": [
    "# Tests"
   ]
  },
  {
   "cell_type": "code",
   "execution_count": null,
   "id": "b4cd2738-074b-43b7-b772-b11f52872328",
   "metadata": {},
   "outputs": [],
   "source": [
    "p.legend_dict['borehole_type']['legend']"
   ]
  },
  {
   "cell_type": "code",
   "execution_count": null,
   "id": "95ac29d8-9ed3-4f28-bb5d-722e86fcfe2d",
   "metadata": {},
   "outputs": [],
   "source": [
    "pl = pv.Plotter(window_size=(800,600))"
   ]
  },
  {
   "cell_type": "code",
   "execution_count": null,
   "id": "6511c9f1-5c94-432d-8ae2-1c9e209bd489",
   "metadata": {},
   "outputs": [],
   "source": [
    "p.boreholes_3d['201'].plot_3d(plotter=pl, repr_attribute='borehole_type', repr_legend_dict=p.legend_dict, \n",
    "                         repr_cmap=p.legend_dict['borehole_type']['cmap'],\n",
    "                         repr_uniq_val=p.legend_dict['borehole_type']['values'])"
   ]
  },
  {
   "cell_type": "code",
   "execution_count": null,
   "id": "3a7a0bf6-a9f2-4825-aae6-20d780502781",
   "metadata": {},
   "outputs": [],
   "source": [
    "p.legend_dict['borehole_type']['cmap']"
   ]
  },
  {
   "cell_type": "code",
   "execution_count": null,
   "id": "e6865c3d-b284-4c6d-979a-b3d0965c4458",
   "metadata": {},
   "outputs": [],
   "source": [
    "p.boreholes_3d['201'].vtk()"
   ]
  },
  {
   "cell_type": "code",
   "execution_count": null,
   "id": "7ecdc387-193f-4e18-9ba9-b854c0086f6b",
   "metadata": {},
   "outputs": [],
   "source": [
    "pl.add_mesh(p.boreholes_3d['201']._vtk)"
   ]
  },
  {
   "cell_type": "code",
   "execution_count": null,
   "id": "24da03d6-d742-4cad-b0b8-b818ab2db859",
   "metadata": {},
   "outputs": [],
   "source": [
    "pl.show(jupyter_backend=False)"
   ]
  },
  {
   "cell_type": "code",
   "execution_count": null,
   "id": "d2e42373-d3b5-4acf-91e7-24a38458776b",
   "metadata": {},
   "outputs": [],
   "source": [
    "from utils.orm import get_interval_list"
   ]
  },
  {
   "cell_type": "code",
   "execution_count": null,
   "id": "30e4e7a8-d0ff-46ed-85dd-b6481d695762",
   "metadata": {},
   "outputs": [],
   "source": [
    "get_interval_list(p.boreholes_orm['201'], 'borehole_type')[0][0].top.z"
   ]
  },
  {
   "cell_type": "code",
   "execution_count": null,
   "id": "49f4d0ec-c36b-4892-b607-d92f21bce306",
   "metadata": {},
   "outputs": [],
   "source": [
    "p.boreholes_orm['201'].id"
   ]
  },
  {
   "cell_type": "raw",
   "id": "9ba68d07",
   "metadata": {},
   "source": [
    "p.boreholes_orm['201'].intervals.fromkeys()"
   ]
  },
  {
   "cell_type": "code",
   "execution_count": null,
   "id": "b473e44e-a481-4359-a22d-b8034651f70b",
   "metadata": {},
   "outputs": [],
   "source": []
  }
 ],
 "metadata": {
  "kernelspec": {
   "display_name": "Python 3 (ipykernel)",
   "language": "python",
   "name": "python3"
  },
  "language_info": {
   "codemirror_mode": {
    "name": "ipython",
    "version": 3
   },
   "file_extension": ".py",
   "mimetype": "text/x-python",
   "name": "python",
   "nbconvert_exporter": "python",
   "pygments_lexer": "ipython3",
   "version": "3.8.10"
  }
 },
 "nbformat": 4,
 "nbformat_minor": 5
}
