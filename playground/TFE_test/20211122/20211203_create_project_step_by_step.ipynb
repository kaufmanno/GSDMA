{
 "cells": [
  {
   "cell_type": "code",
   "execution_count": 1,
   "id": "400601b4",
   "metadata": {},
   "outputs": [],
   "source": [
    "import os\n",
    "from core.project import Project\n",
    "from utils.config import DEFAULT_LITHO_LEXICON, DEFAULT_LITHO_LEGEND, DEFAULT_BOREHOLE_LEGEND"
   ]
  },
  {
   "cell_type": "code",
   "execution_count": 2,
   "id": "93141869",
   "metadata": {},
   "outputs": [],
   "source": [
    "from core.orm import Base\n",
    "from sqlalchemy import create_engine\n",
    "from sqlalchemy.orm import sessionmaker\n",
    "from utils.visual import legend_from_attributes # une legende par défaut devrait être charge si aucune n'est passée issue #113"
   ]
  },
  {
   "cell_type": "code",
   "execution_count": 3,
   "id": "b77fc804",
   "metadata": {},
   "outputs": [],
   "source": [
    "pollutants = ['Chlorure', 'PCB_28', 'PCB_138', 'PCB_118', 'BTEX_tot', 'S_tot', 'PCB_tot', 'PCB_180', 'PCB_101',\n",
    "              'PCB_153', 'PCB_52', 'MTBE', 'Pyr', 'Bnz', 'Alp_C6-C8', 'Toln', 'Pb', 'Bnz(ghi)peryl', 'CN_cplx',\n",
    "              'Cr_VI', 'Cis-1.2-DCEn', 'Ar_C6-C7', 'Cd', 'Phenol', '1.2-DCE', 'CN_libre', 'Bnz(a)pyr', 'Cu', \n",
    "              'Bnz(k)flranth', 'Anthrc', 'C16-C21', '1.1-DCEn', 'Chloroforme', 'Styr', 'Ni', 'EOX', 'Naphta', \n",
    "              'DCM', '1.1-DCE', 'C5-C8', 'As', '1.1.2-TCE', 'Bnz(b)flranth', 'Cr', 'HC_tot_C10-C40', 'HAP_tot_EPA', \n",
    "              'Co', 'Phenanthr', 'CN_tot', 'C12-C16', 'TCEyn', '(cis.trans)-1.2-DCEn_tot', 'Alp_C5-C6', 'Chrys', \n",
    "              'Trans-1.2-DCEyl', '1.2-DCP', 'Ar_C7-C8', '1.1.1-TCE', 'Zn', 'Indeno(1.2.3-cd)pyr', 'Alp_C8-C10', \n",
    "              'Flranth', 'HC_tot_C10-C35', 'Acenaphtyl', 'C8-C10', 'Bnz(a)anthrc', 'Dibnz(ah)anthrc', 'Hg', \n",
    "              'Ar_C8-C10', 'C10-C12', 'C35-C40', 'P-M-Xyl', 'CVinyl', 'Acenaphtn', 'TetraCEyn', 'Xyl', 'C21-C35', \n",
    "              'TCM', 'O-Xyl']\n",
    "legend_dict = legend_from_attributes([('lithology', DEFAULT_LITHO_LEGEND), ('borehole_type', DEFAULT_BOREHOLE_LEGEND)])"
   ]
  },
  {
   "cell_type": "code",
   "execution_count": 4,
   "id": "819e4783",
   "metadata": {},
   "outputs": [
    {
     "data": {
      "text/plain": [
       "dict_keys(['lithology', 'borehole_type'])"
      ]
     },
     "execution_count": 4,
     "metadata": {},
     "output_type": "execute_result"
    }
   ],
   "source": [
    "legend_dict.keys()"
   ]
  },
  {
   "cell_type": "code",
   "execution_count": 5,
   "id": "6d6f6fa1",
   "metadata": {},
   "outputs": [],
   "source": [
    "db_name = './new_db.db'\n",
    "if os.path.exists(db_name):\n",
    "    os.remove(db_name)"
   ]
  },
  {
   "cell_type": "code",
   "execution_count": 6,
   "id": "0c5b5851",
   "metadata": {
    "scrolled": true
   },
   "outputs": [],
   "source": [
    "# This should become a constructor of Project (use polymorphism)\n",
    "def load(db_name, **kwargs):\n",
    "    \"\"\" loads a project from a project database\"\"\"\n",
    "    legend_dict = kwargs.pop('legend_dict', legend_from_attributes([('lithology', DEFAULT_LITHO_LEGEND)]))\n",
    "    litho_lexicon = kwargs.pop('litho_lexicon', None)\n",
    "    project_name = kwargs.pop('project_name', db_name.rstrip('.db'))\n",
    "    verbose = kwargs.pop('verbose', False)\n",
    "    \n",
    "    engine = create_engine(f\"sqlite:///{db_name}\", echo=verbose)\n",
    "    Base.metadata.create_all(engine)\n",
    "    Session = sessionmaker(bind=engine)\n",
    "    session = Session()\n",
    "    if verbose:\n",
    "        print(f'legend_dict: {legend_dict}')\n",
    "    p = Project(session, name=project_name, legend_dict=legend_dict, lexicon=litho_lexicon)\n",
    "    p.refresh()\n",
    "    session.close()\n",
    "    return p"
   ]
  },
  {
   "cell_type": "markdown",
   "id": "6d02dce4",
   "metadata": {},
   "source": [
    "## Create a new project from an empty database"
   ]
  },
  {
   "cell_type": "code",
   "execution_count": 7,
   "id": "c0f8f683",
   "metadata": {},
   "outputs": [
    {
     "name": "stderr",
     "output_type": "stream",
     "text": [
      "/home/su530201/PycharmProjects/GSDMA/core/project.py:76: SAWarning: relationship 'ComponentOrm.intervals' will copy column Components.id to column Linkintervalcomponent.comp_id, which conflicts with relationship(s): 'IntervalOrm.components' (copies Components.id to Linkintervalcomponent.comp_id). If this is not the intention, consider if these relationships should be linked with back_populates, or if viewonly=True should be applied to one or more if they are read-only. For the less common case that foreign key constraints are partially overlapping, the orm.foreign() annotation can be used to isolate the columns that should be written towards.   To silence this warning, add the parameter 'overlaps=\"components\"' to the 'ComponentOrm.intervals' relationship. (Background on this error at: https://sqlalche.me/e/14/qzyx)\n",
      "  self.boreholes_orm = self.session.query(BoreholeOrm).all()\n",
      "/home/su530201/PycharmProjects/GSDMA/core/project.py:76: SAWarning: relationship 'ComponentOrm.intervals' will copy column Intervals.id to column Linkintervalcomponent.intv_id, which conflicts with relationship(s): 'IntervalOrm.components' (copies Intervals.id to Linkintervalcomponent.intv_id). If this is not the intention, consider if these relationships should be linked with back_populates, or if viewonly=True should be applied to one or more if they are read-only. For the less common case that foreign key constraints are partially overlapping, the orm.foreign() annotation can be used to isolate the columns that should be written towards.   To silence this warning, add the parameter 'overlaps=\"components\"' to the 'ComponentOrm.intervals' relationship. (Background on this error at: https://sqlalche.me/e/14/qzyx)\n",
      "  self.boreholes_orm = self.session.query(BoreholeOrm).all()\n",
      "/home/su530201/PycharmProjects/GSDMA/core/project.py:76: SAWarning: relationship 'ComponentOrm.component_assoc' will copy column Components.id to column Linkintervalcomponent.comp_id, which conflicts with relationship(s): 'ComponentOrm.intervals' (copies Components.id to Linkintervalcomponent.comp_id), 'IntervalOrm.components' (copies Components.id to Linkintervalcomponent.comp_id). If this is not the intention, consider if these relationships should be linked with back_populates, or if viewonly=True should be applied to one or more if they are read-only. For the less common case that foreign key constraints are partially overlapping, the orm.foreign() annotation can be used to isolate the columns that should be written towards.   To silence this warning, add the parameter 'overlaps=\"components,intervals\"' to the 'ComponentOrm.component_assoc' relationship. (Background on this error at: https://sqlalche.me/e/14/qzyx)\n",
      "  self.boreholes_orm = self.session.query(BoreholeOrm).all()\n",
      "/home/su530201/PycharmProjects/GSDMA/core/project.py:76: SAWarning: relationship 'LinkIntervalComponentOrm.component' will copy column Components.id to column Linkintervalcomponent.comp_id, which conflicts with relationship(s): 'ComponentOrm.intervals' (copies Components.id to Linkintervalcomponent.comp_id), 'IntervalOrm.components' (copies Components.id to Linkintervalcomponent.comp_id). If this is not the intention, consider if these relationships should be linked with back_populates, or if viewonly=True should be applied to one or more if they are read-only. For the less common case that foreign key constraints are partially overlapping, the orm.foreign() annotation can be used to isolate the columns that should be written towards.   To silence this warning, add the parameter 'overlaps=\"components,intervals\"' to the 'LinkIntervalComponentOrm.component' relationship. (Background on this error at: https://sqlalche.me/e/14/qzyx)\n",
      "  self.boreholes_orm = self.session.query(BoreholeOrm).all()\n",
      "/home/su530201/PycharmProjects/GSDMA/core/project.py:76: SAWarning: relationship 'IntervalOrm.interval_assoc' will copy column Intervals.id to column Linkintervalcomponent.intv_id, which conflicts with relationship(s): 'ComponentOrm.intervals' (copies Intervals.id to Linkintervalcomponent.intv_id), 'IntervalOrm.components' (copies Intervals.id to Linkintervalcomponent.intv_id). If this is not the intention, consider if these relationships should be linked with back_populates, or if viewonly=True should be applied to one or more if they are read-only. For the less common case that foreign key constraints are partially overlapping, the orm.foreign() annotation can be used to isolate the columns that should be written towards.   To silence this warning, add the parameter 'overlaps=\"components,intervals\"' to the 'IntervalOrm.interval_assoc' relationship. (Background on this error at: https://sqlalche.me/e/14/qzyx)\n",
      "  self.boreholes_orm = self.session.query(BoreholeOrm).all()\n",
      "/home/su530201/PycharmProjects/GSDMA/core/project.py:76: SAWarning: relationship 'LinkIntervalComponentOrm.interval' will copy column Intervals.id to column Linkintervalcomponent.intv_id, which conflicts with relationship(s): 'ComponentOrm.intervals' (copies Intervals.id to Linkintervalcomponent.intv_id), 'IntervalOrm.components' (copies Intervals.id to Linkintervalcomponent.intv_id). If this is not the intention, consider if these relationships should be linked with back_populates, or if viewonly=True should be applied to one or more if they are read-only. For the less common case that foreign key constraints are partially overlapping, the orm.foreign() annotation can be used to isolate the columns that should be written towards.   To silence this warning, add the parameter 'overlaps=\"components,intervals\"' to the 'LinkIntervalComponentOrm.interval' relationship. (Background on this error at: https://sqlalche.me/e/14/qzyx)\n",
      "  self.boreholes_orm = self.session.query(BoreholeOrm).all()\n"
     ]
    }
   ],
   "source": [
    "p = load(db_name, legend_dict=legend_dict, verbose=False)\n",
    "#p.plot_3d( window_size=(800, 600))"
   ]
  },
  {
   "cell_type": "code",
   "execution_count": 8,
   "id": "11606a11",
   "metadata": {},
   "outputs": [],
   "source": [
    "from core.orm import BoreholeOrm, IntervalOrm, PositionOrm, ComponentOrm, LinkIntervalComponentOrm"
   ]
  },
  {
   "cell_type": "code",
   "execution_count": 9,
   "id": "b247d5ac",
   "metadata": {},
   "outputs": [],
   "source": [
    "# This function should be converted into a method of Project\n",
    "def insert_borehole(project, bh_dict, verbose=True):\n",
    "    bh_orm = BoreholeOrm(id=bh_dict['id'], date=bh_dict.pop('date', None), length=bh_dict.pop('length', None), diameter=bh_dict.pop('diameter', None))\n",
    "    intv_id = project.find_next_id(IntervalOrm)\n",
    "    bh_orm.intervals_values.update({intv_id: {'description' : \"{'lithology': 'remblais'}; {'borehole_type': 'piezometer'}\",\n",
    "                                'interval_number': 0,\n",
    "                                'top': PositionOrm(**bh_dict['top']),\n",
    "                                'base': PositionOrm(**bh_dict['base'])}})\n",
    "    \n",
    "    component_id = project.find_next_id(ComponentOrm)\n",
    "    new_component = ComponentOrm(id=component_id, description=\"{'type': 'borehole_type', 'value': 'piezometer'}\")\n",
    "    \n",
    "    # TODO verify if component is already present\n",
    "    project.session.add(new_component)\n",
    "    \n",
    "    link_dict = {(intv_id, component_id): {'extra_data': 'None'}}\n",
    "    print(f'interval : {intv_id}, component: {component_id}')\n",
    "    project.add_link_components_intervals(link_dict)\n",
    "    \n",
    "    component_id = project.find_next_id(ComponentOrm)\n",
    "    new_component = ComponentOrm(id=component_id, description=\"{'type': 'lithology', 'value': 'remblai'}\")\n",
    "    \n",
    "    # TODO verify if component is already present\n",
    "    project.session.add(new_component)\n",
    "    link_dict = {(intv_id, component_id): {'extra_data': 'None'}}\n",
    "    print(f'interval : {intv_id}, component: {component_id}')\n",
    "    project.add_link_components_intervals(link_dict)\n",
    "    \n",
    "    project.commit()\n",
    "    project.add_borehole(bh_orm, verbose)"
   ]
  },
  {
   "cell_type": "code",
   "execution_count": 10,
   "id": "5a4b409e",
   "metadata": {},
   "outputs": [
    {
     "name": "stdout",
     "output_type": "stream",
     "text": [
      "interval : 0, component: 0\n",
      "Boreholes in the project :  0\n",
      "interval : 0, component: 1\n",
      "Boreholes in the project :  0\n",
      "Boreholes in the project :  0\n",
      "Boreholes in the project :  0\n",
      "Borehole geometry created successfully !\n",
      "\n",
      "F201  added\n"
     ]
    },
    {
     "name": "stderr",
     "output_type": "stream",
     "text": [
      "/home/su530201/.local/share/virtualenvs/GSDMA-tJb-HgI6/lib/python3.8/site-packages/pyvista/core/dataset.py:1332: PyvistaDeprecationWarning: Use of `cell_arrays` is deprecated. Use `cell_data` instead.\n",
      "  warnings.warn(\n"
     ]
    }
   ],
   "source": [
    "insert_borehole(p, {'id':'F201', 'borehole_type': 'piezometer', 'length': 1.8, 'diameter':0.1, 'top':{'middle': 101.32, 'x': 152890., 'y': 122596.}, 'base':{'middle': 100., 'x': 152890., 'y': 122596.}})"
   ]
  },
  {
   "cell_type": "code",
   "execution_count": 11,
   "id": "64166a43",
   "metadata": {},
   "outputs": [],
   "source": [
    "# p.boreholes_3d[0].plot_log(repr_attribute='lithology', verbose=True)"
   ]
  },
  {
   "cell_type": "code",
   "execution_count": 12,
   "id": "d85388f6",
   "metadata": {},
   "outputs": [
    {
     "name": "stdout",
     "output_type": "stream",
     "text": [
      "BLCMap for : lithology\n",
      "---------------------------------------\n",
      "|-> BH: F201\n",
      "find_comp -in- True | 2 component(s), position(s) for lithology: [0], value(s): {0: 'remblai'}\n",
      "find_comp -in- True | 2 component(s), position(s) for lithology: [0], value(s): {0: 'remblai'}\n",
      "\n",
      "BLCMap - unique/bh3d: ['remblai'], unique_proj: ['remblai']\n",
      "\n",
      "BLCMap | Decors: {0: Decor({'_colour': '#d3b798', 'width': 3, 'hatch': \"'v'\", 'component': Component({'lithology': 'remblai'})})}\n",
      "BLCMap for : borehole_type\n",
      "---------------------------------------\n",
      "|-> BH: F201\n",
      "find_comp -in- True | 2 component(s), position(s) for borehole_type: [1], value(s): {0: None, 1: 'piezometer'}\n",
      "find_comp -in- True | 2 component(s), position(s) for borehole_type: [1], value(s): {0: None, 1: 'piezometer'}\n",
      "\n",
      "BLCMap - unique/bh3d: ['piezometer'], unique_proj: ['piezometer']\n",
      "\n",
      "BLCMap | Decors: {0: Decor({'_colour': '#888888', 'width': 3, 'component': Component({'borehole_type': 'piezometer'}), 'hatch': None})}\n"
     ]
    }
   ],
   "source": [
    "p.update_legend_cmap(compute_all_attrib=True, verbose=True)"
   ]
  },
  {
   "cell_type": "code",
   "execution_count": 13,
   "id": "cef986f7",
   "metadata": {},
   "outputs": [
    {
     "data": {
      "image/png": "[encoded data removed]",
      "text/html": [
       "<div style=\"vertical-align: middle;\"><strong>from_list</strong> </div><div class=\"cmap\"><img alt=\"from_list colormap\" title=\"from_list\" style=\"border: 1px solid #555;\" src=\"data:image/png;base64,iVBORw0KGgoAAAANSUhEUgAAAgAAAABACAYAAABsv8+/AAAAGHRFWHRUaXRsZQBmcm9tX2xpc3QgY29sb3JtYXBDL89FAAAAHnRFWHREZXNjcmlwdGlvbgBmcm9tX2xpc3QgY29sb3JtYXABtCnOAAAAMHRFWHRBdXRob3IATWF0cGxvdGxpYiB2My41LjAsIGh0dHBzOi8vbWF0cGxvdGxpYi5vcmdSPF7BAAAAMnRFWHRTb2Z0d2FyZQBNYXRwbG90bGliIHYzLjUuMCwgaHR0cHM6Ly9tYXRwbG90bGliLm9yZ3yaweYAAAEmSURBVHic7dYxAcAgEMDAUvXvGlzAkDsFGbNmZn8AQMr/OgAAuM8AAECQAQCAIAMAAEEGAACCDAAABBkAAAgyAAAQZAAAIMgAAECQAQCAIAMAAEEGAACCDAAABBkAAAgyAAAQZAAAIMgAAECQAQCAIAMAAEEGAACCDAAABBkAAAgyAAAQZAAAIMgAAECQAQCAIAMAAEEGAACCDAAABBkAAAgyAAAQZAAAIMgAAECQAQCAIAMAAEEGAACCDAAABBkAAAgyAAAQZAAAIMgAAECQAQCAIAMAAEEGAACCDAAABBkAAAgyAAAQZAAAIMgAAECQAQCAIAMAAEEGAACCDAAABBkAAAgyAAAQZAAAIMgAAECQAQCAIAMAAEEGAACCDAAABBkAAAg6BDMDF7j2uacAAAAASUVORK5CYII=\"></div><div style=\"vertical-align: middle; max-width: 514px; display: flex; justify-content: space-between;\"><div style=\"float: left;\"><div title=\"#888888ff\" style=\"display: inline-block; width: 1em; height: 1em; margin: 0; vertical-align: middle; border: 1px solid #555; background-color: #888888ff;\"></div> under</div><div style=\"margin: 0 auto; display: inline-block;\">bad <div title=\"#00000000\" style=\"display: inline-block; width: 1em; height: 1em; margin: 0; vertical-align: middle; border: 1px solid #555; background-color: #00000000;\"></div></div><div style=\"float: right;\">over <div title=\"#888888ff\" style=\"display: inline-block; width: 1em; height: 1em; margin: 0; vertical-align: middle; border: 1px solid #555; background-color: #888888ff;\"></div></div>"
      ],
      "text/plain": [
       "<matplotlib.colors.ListedColormap at 0x7f04e1189430>"
      ]
     },
     "execution_count": 13,
     "metadata": {},
     "output_type": "execute_result"
    }
   ],
   "source": [
    "p.legend_dict['borehole_type']['cmap']"
   ]
  },
  {
   "cell_type": "code",
   "execution_count": 14,
   "id": "de967768",
   "metadata": {},
   "outputs": [
    {
     "data": {
      "text/plain": [
       "{'legend': Legend(Decor({'_colour': '#888888', 'width': None, 'component': Component({'borehole_type': 'piezometer'}), 'hatch': None})\n",
       " Decor({'_colour': '#999999', 'width': None, 'component': Component({'borehole_type': '[forage|borehole]'}), 'hatch': None}))}"
      ]
     },
     "execution_count": 14,
     "metadata": {},
     "output_type": "execute_result"
    }
   ],
   "source": [
    "legend_dict['borehole_type']"
   ]
  },
  {
   "cell_type": "code",
   "execution_count": 15,
   "id": "fd16b929",
   "metadata": {},
   "outputs": [
    {
     "name": "stdout",
     "output_type": "stream",
     "text": [
      "Borehole \"F201\" | attribute values -> ['remblai']\n"
     ]
    }
   ],
   "source": [
    "p.plot_3d(window_size=(800, 600), repr_attribute='lithology', str_annotations=False, verbose=True)"
   ]
  },
  {
   "cell_type": "code",
   "execution_count": 16,
   "id": "8f56cc19",
   "metadata": {},
   "outputs": [
    {
     "name": "stdout",
     "output_type": "stream",
     "text": [
      "Borehole \"F201\" | attribute values -> ['piezometer']\n"
     ]
    }
   ],
   "source": [
    "p.plot_3d(window_size=(800, 600), repr_attribute='borehole_type', str_annotations=False, verbose=True)"
   ]
  },
  {
   "cell_type": "markdown",
   "id": "555fc240",
   "metadata": {},
   "source": [
    "# Tests"
   ]
  },
  {
   "cell_type": "code",
   "execution_count": null,
   "id": "d27066af",
   "metadata": {},
   "outputs": [],
   "source": [
    "p.find_next_id(IntervalOrm)"
   ]
  },
  {
   "cell_type": "code",
   "execution_count": null,
   "id": "3add6e6c",
   "metadata": {},
   "outputs": [],
   "source": [
    "p.boreholes_orm"
   ]
  },
  {
   "cell_type": "code",
   "execution_count": null,
   "id": "bcefb595",
   "metadata": {},
   "outputs": [],
   "source": [
    "p.get_component_id_from_description(\"{'borehole_type': 'piezometer'}\")"
   ]
  },
  {
   "cell_type": "code",
   "execution_count": null,
   "id": "0fe710fd",
   "metadata": {},
   "outputs": [],
   "source": [
    "p.boreholes_orm[0].diameter"
   ]
  },
  {
   "cell_type": "code",
   "execution_count": null,
   "id": "39447a21",
   "metadata": {},
   "outputs": [],
   "source": [
    "p.boreholes_orm[0].intervals[0]"
   ]
  },
  {
   "cell_type": "code",
   "execution_count": null,
   "id": "f2188238",
   "metadata": {},
   "outputs": [],
   "source": [
    "p.boreholes_3d[0].intervals"
   ]
  },
  {
   "cell_type": "code",
   "execution_count": null,
   "id": "e89c6950",
   "metadata": {},
   "outputs": [],
   "source": [
    "def intervalorm_to_interval(intv_orm):\n",
    "    top = Position(upper=intv_orm.top.upper, middle=intv_orm.top.middle, lower=intv_orm.top.lower,\n",
    "                   x=intv_orm.top.x, y=intv_orm.top.y)\n",
    "    base = Position(upper=intv_orm.base.upper, middle=intv_orm.base.middle, lower=intv_orm.base.lower,\n",
    "                    x=intv_orm.top.x, y=intv_orm.top.y)\n",
    "\n",
    "    intv_comp_list = []\n",
    "    for c in intv_orm.description.split('; '):\n",
    "        intv_comp_list.append(Component(eval(c)))\n",
    "\n",
    "    intv = Interval(top=top, base=base, description=intv_orm.description, components=intv_comp_list)\n",
    "    return intv"
   ]
  },
  {
   "cell_type": "code",
   "execution_count": null,
   "id": "89eed228",
   "metadata": {},
   "outputs": [],
   "source": [
    "intervalorm_to_interval(get_interval_list2(bh_orm, 'lithology')[0][0])"
   ]
  },
  {
   "cell_type": "code",
   "execution_count": null,
   "id": "43c99514",
   "metadata": {},
   "outputs": [],
   "source": [
    "from striplog import Position, Component, Interval\n",
    "def get_interval_list(bh_orm, attribute):\n",
    "    \"\"\"create a list of interval from a boreholeORM object\n",
    "    \n",
    "    Parameters\n",
    "    -------------\n",
    "    bh_orm: boreholeOrm object\n",
    "\n",
    "    Returns\n",
    "    ---------\n",
    "    interval_dict: list\n",
    "        list of Interval objects for each type of interval\n",
    "    depth_dict: float\n",
    "        borehole's maximum depth for all intervals\n",
    "                   \n",
    "    \"\"\"\n",
    "\n",
    "    max_depth = None\n",
    "    interval_list = []\n",
    "    for int_id, intv_orm in bh_orm.intervals.items():\n",
    "        for c in intv_orm.components:\n",
    "            interval_attributes = [i for i in eval(c.description).values()]\n",
    "            if attribute in interval_attributes:\n",
    "                interval_list.append(intervalorm_to_interval(intv_orm))\n",
    "            if 'borehole_type' in interval_attributes:\n",
    "                max_depth = intv_orm.base.middle\n",
    "    assert max_depth is not None\n",
    "    return interval_list, max_depth"
   ]
  },
  {
   "cell_type": "code",
   "execution_count": null,
   "id": "7d7a7c66",
   "metadata": {},
   "outputs": [],
   "source": [
    "bh_orm = p.boreholes_orm[0]"
   ]
  },
  {
   "cell_type": "code",
   "execution_count": null,
   "id": "e3459487",
   "metadata": {},
   "outputs": [],
   "source": [
    "get_interval_list(bh_orm, 'lithology')"
   ]
  },
  {
   "cell_type": "code",
   "execution_count": null,
   "id": "f3979488",
   "metadata": {},
   "outputs": [],
   "source": [
    "bh_orm.intervals[0].components[0].description"
   ]
  },
  {
   "cell_type": "code",
   "execution_count": null,
   "id": "72a0fc58",
   "metadata": {},
   "outputs": [],
   "source": [
    "bh_orm.length"
   ]
  },
  {
   "cell_type": "code",
   "execution_count": null,
   "id": "ce270a44",
   "metadata": {},
   "outputs": [],
   "source": []
  }
 ],
 "metadata": {
  "kernelspec": {
   "display_name": "Python 3 (ipykernel)",
   "language": "python",
   "name": "python3"
  },
  "language_info": {
   "codemirror_mode": {
    "name": "ipython",
    "version": 3
   },
   "file_extension": ".py",
   "mimetype": "text/x-python",
   "name": "python",
   "nbconvert_exporter": "python",
   "pygments_lexer": "ipython3",
   "version": "3.8.5"
  }
 },
 "nbformat": 4,
 "nbformat_minor": 5
}
