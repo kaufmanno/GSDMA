{
 "cells": [
  {
   "cell_type": "code",
   "execution_count": 1,
   "id": "400601b4",
   "metadata": {},
   "outputs": [],
   "source": [
    "import os\n",
    "from core.project import Project"
   ]
  },
  {
   "cell_type": "code",
   "execution_count": 2,
   "id": "6d6f6fa1",
   "metadata": {},
   "outputs": [],
   "source": [
    "update_db = False\n",
    "db_name = './new_db.db'\n",
    "db_bkp = db_name.replace('.db', '')+'_bkp.db'\n",
    "if os.path.exists(db_name) and not update_db:\n",
    "    if os.path.exists(db_bkp):\n",
    "        os.remove(db_bkp)\n",
    "    os.rename(db_name, db_bkp)"
   ]
  },
  {
   "cell_type": "markdown",
   "id": "6d02dce4",
   "metadata": {},
   "source": [
    "## Create a new project from an empty database"
   ]
  },
  {
   "cell_type": "code",
   "execution_count": 3,
   "id": "c0f8f683",
   "metadata": {},
   "outputs": [
    {
     "name": "stderr",
     "output_type": "stream",
     "text": [
      "/home/su530201/PycharmProjects/GSDMA/core/project.py:110: SAWarning: relationship 'ComponentOrm.intervals' will copy column Components.id to column Linkintervalcomponent.comp_id, which conflicts with relationship(s): 'IntervalOrm.components' (copies Components.id to Linkintervalcomponent.comp_id). If this is not the intention, consider if these relationships should be linked with back_populates, or if viewonly=True should be applied to one or more if they are read-only. For the less common case that foreign key constraints are partially overlapping, the orm.foreign() annotation can be used to isolate the columns that should be written towards.   To silence this warning, add the parameter 'overlaps=\"components\"' to the 'ComponentOrm.intervals' relationship. (Background on this error at: https://sqlalche.me/e/14/qzyx)\n",
      "  self.boreholes_orm = {i.id: i for i in self.session.query(BoreholeOrm).all()}\n",
      "/home/su530201/PycharmProjects/GSDMA/core/project.py:110: SAWarning: relationship 'ComponentOrm.intervals' will copy column Intervals.id to column Linkintervalcomponent.intv_id, which conflicts with relationship(s): 'IntervalOrm.components' (copies Intervals.id to Linkintervalcomponent.intv_id). If this is not the intention, consider if these relationships should be linked with back_populates, or if viewonly=True should be applied to one or more if they are read-only. For the less common case that foreign key constraints are partially overlapping, the orm.foreign() annotation can be used to isolate the columns that should be written towards.   To silence this warning, add the parameter 'overlaps=\"components\"' to the 'ComponentOrm.intervals' relationship. (Background on this error at: https://sqlalche.me/e/14/qzyx)\n",
      "  self.boreholes_orm = {i.id: i for i in self.session.query(BoreholeOrm).all()}\n",
      "/home/su530201/PycharmProjects/GSDMA/core/project.py:110: SAWarning: relationship 'ComponentOrm.component_assoc' will copy column Components.id to column Linkintervalcomponent.comp_id, which conflicts with relationship(s): 'ComponentOrm.intervals' (copies Components.id to Linkintervalcomponent.comp_id), 'IntervalOrm.components' (copies Components.id to Linkintervalcomponent.comp_id). If this is not the intention, consider if these relationships should be linked with back_populates, or if viewonly=True should be applied to one or more if they are read-only. For the less common case that foreign key constraints are partially overlapping, the orm.foreign() annotation can be used to isolate the columns that should be written towards.   To silence this warning, add the parameter 'overlaps=\"components,intervals\"' to the 'ComponentOrm.component_assoc' relationship. (Background on this error at: https://sqlalche.me/e/14/qzyx)\n",
      "  self.boreholes_orm = {i.id: i for i in self.session.query(BoreholeOrm).all()}\n",
      "/home/su530201/PycharmProjects/GSDMA/core/project.py:110: SAWarning: relationship 'LinkIntervalComponentOrm.component' will copy column Components.id to column Linkintervalcomponent.comp_id, which conflicts with relationship(s): 'ComponentOrm.intervals' (copies Components.id to Linkintervalcomponent.comp_id), 'IntervalOrm.components' (copies Components.id to Linkintervalcomponent.comp_id). If this is not the intention, consider if these relationships should be linked with back_populates, or if viewonly=True should be applied to one or more if they are read-only. For the less common case that foreign key constraints are partially overlapping, the orm.foreign() annotation can be used to isolate the columns that should be written towards.   To silence this warning, add the parameter 'overlaps=\"components,intervals\"' to the 'LinkIntervalComponentOrm.component' relationship. (Background on this error at: https://sqlalche.me/e/14/qzyx)\n",
      "  self.boreholes_orm = {i.id: i for i in self.session.query(BoreholeOrm).all()}\n",
      "/home/su530201/PycharmProjects/GSDMA/core/project.py:110: SAWarning: relationship 'IntervalOrm.interval_assoc' will copy column Intervals.id to column Linkintervalcomponent.intv_id, which conflicts with relationship(s): 'ComponentOrm.intervals' (copies Intervals.id to Linkintervalcomponent.intv_id), 'IntervalOrm.components' (copies Intervals.id to Linkintervalcomponent.intv_id). If this is not the intention, consider if these relationships should be linked with back_populates, or if viewonly=True should be applied to one or more if they are read-only. For the less common case that foreign key constraints are partially overlapping, the orm.foreign() annotation can be used to isolate the columns that should be written towards.   To silence this warning, add the parameter 'overlaps=\"components,intervals\"' to the 'IntervalOrm.interval_assoc' relationship. (Background on this error at: https://sqlalche.me/e/14/qzyx)\n",
      "  self.boreholes_orm = {i.id: i for i in self.session.query(BoreholeOrm).all()}\n",
      "/home/su530201/PycharmProjects/GSDMA/core/project.py:110: SAWarning: relationship 'LinkIntervalComponentOrm.interval' will copy column Intervals.id to column Linkintervalcomponent.intv_id, which conflicts with relationship(s): 'ComponentOrm.intervals' (copies Intervals.id to Linkintervalcomponent.intv_id), 'IntervalOrm.components' (copies Intervals.id to Linkintervalcomponent.intv_id). If this is not the intention, consider if these relationships should be linked with back_populates, or if viewonly=True should be applied to one or more if they are read-only. For the less common case that foreign key constraints are partially overlapping, the orm.foreign() annotation can be used to isolate the columns that should be written towards.   To silence this warning, add the parameter 'overlaps=\"components,intervals\"' to the 'LinkIntervalComponentOrm.interval' relationship. (Background on this error at: https://sqlalche.me/e/14/qzyx)\n",
      "  self.boreholes_orm = {i.id: i for i in self.session.query(BoreholeOrm).all()}\n"
     ]
    }
   ],
   "source": [
    "p = Project.load(db_name)"
   ]
  },
  {
   "cell_type": "code",
   "execution_count": 4,
   "id": "11606a11",
   "metadata": {},
   "outputs": [],
   "source": [
    "from core.orm import BoreholeOrm, IntervalOrm, PositionOrm, ComponentOrm, LinkIntervalComponentOrm"
   ]
  },
  {
   "cell_type": "code",
   "execution_count": 5,
   "id": "fed9d76b",
   "metadata": {},
   "outputs": [],
   "source": [
    "bh_id = 'F212' \n",
    "x = 152567.\n",
    "y = 122453.\n",
    "z = 100."
   ]
  },
  {
   "cell_type": "code",
   "execution_count": 6,
   "id": "5a4b409e",
   "metadata": {
    "scrolled": true
   },
   "outputs": [
    {
     "name": "stdout",
     "output_type": "stream",
     "text": [
      "Boreholes in the project :  0\n"
     ]
    }
   ],
   "source": [
    "p.insert_borehole({'id':bh_id, 'borehole_type': 'piezometer', 'length': 15, 'diameter':.1, 'top':{'middle': z, 'x': x, 'y': y}, 'base':{'middle': 90., 'x': x, 'y': y}})"
   ]
  },
  {
   "cell_type": "code",
   "execution_count": 7,
   "id": "c26a6808",
   "metadata": {},
   "outputs": [],
   "source": [
    "intv_dict={'description': 'sable grossier à la base et plus fin vers le haut',\n",
    "           'interval_number': 1,\n",
    "           'top':{'middle': 100., 'x': x, 'y': y},\n",
    "           'base':{'middle': 97., 'x': x, 'y': y},\n",
    "           'components':[\"{'lithology': 'limon'}\", \"{'benzene_industrial': 'VS'}\"],\n",
    "           'extra_data': 'None'\n",
    "          }"
   ]
  },
  {
   "cell_type": "code",
   "execution_count": 8,
   "id": "b9195125",
   "metadata": {},
   "outputs": [
    {
     "name": "stdout",
     "output_type": "stream",
     "text": [
      "Boreholes in the project :  1\n"
     ]
    }
   ],
   "source": [
    "p.insert_interval_in_borehole(bh_id, intv_dict)"
   ]
  },
  {
   "cell_type": "code",
   "execution_count": 9,
   "id": "826094ab",
   "metadata": {},
   "outputs": [],
   "source": [
    "intv_dict={'description': 'sable fin à la base et plus argileux vers le haut',\n",
    "           'interval_number': 2,\n",
    "           'top':{'middle': 96., 'x': x, 'y': y},\n",
    "           'base':{'middle': 91., 'x': x, 'y': y},\n",
    "           'components':[\"{'lithology': 'argile'}\", \"{'benzene_industrial': 'VI'}\"],\n",
    "           'extra_data': 'None'\n",
    "          }"
   ]
  },
  {
   "cell_type": "code",
   "execution_count": 10,
   "id": "1d69c288",
   "metadata": {},
   "outputs": [
    {
     "name": "stdout",
     "output_type": "stream",
     "text": [
      "Boreholes in the project :  1\n"
     ]
    }
   ],
   "source": [
    "p.insert_interval_in_borehole(bh_id, intv_dict)"
   ]
  },
  {
   "cell_type": "code",
   "execution_count": 11,
   "id": "f55512f3",
   "metadata": {
    "scrolled": false
   },
   "outputs": [
    {
     "name": "stdout",
     "output_type": "stream",
     "text": [
      "XXX {'borehole_type': {'legend': Legend(Decor({'_colour': '#888888', 'width': None, 'component': Component({'borehole_type': 'piezometer'}), 'hatch': None})\n",
      "Decor({'_colour': '#999999', 'width': None, 'component': Component({'borehole_type': '[forage|borehole]'}), 'hatch': None}))}, 'lithology': {'legend': Legend(Decor({'_colour': '#ffffe9', 'width': None, 'hatch': None, 'component': Component({'lithology': 'matériau(?:x)? meuble(?:s)?'})})\n",
      "Decor({'_colour': '#fff497', 'width': None, 'hatch': \"'....'\", 'component': Component({'lithology': 'alluvion'})})\n",
      "Decor({'_colour': '#b54500', 'width': None, 'hatch': None, 'component': Component({'lithology': 'boue'})})\n",
      "Decor({'_colour': '#d3b798', 'width': None, 'hatch': \"'v'\", 'component': Component({'lithology': 'remblai'})})\n",
      "Decor({'_colour': '#a5c7c9', 'width': None, 'hatch': \"'t'\", 'component': Component({'lithology': 'b[é|e]ton'})})\n",
      "Decor({'_colour': '#8da3c9', 'width': None, 'hatch': \"'t'\", 'component': Component({'lithology': 'scorie'})})\n",
      "Decor({'_colour': '#ffcc99', 'width': None, 'hatch': None, 'component': Component({'lithology': 'tourbe'})})\n",
      "Decor({'_colour': '#ffeaa7', 'width': None, 'hatch': None, 'component': Component({'lithology': 'gypse'})})\n",
      "Decor({'_colour': '#00151a', 'width': None, 'hatch': None, 'component': Component({'lithology': 'houille'})})\n",
      "Decor({'_colour': '#798732', 'width': None, 'hatch': \"'-.'\", 'component': Component({'lithology': 'limon'})})\n",
      "Decor({'_colour': '#ffcb23', 'width': None, 'hatch': \"'..'\", 'component': Component({'lithology': 'sable'})})\n",
      "Decor({'_colour': '#adb7cc', 'width': None, 'hatch': \"'oo\", 'component': Component({'lithology': 'gravier'})})\n",
      "Decor({'_colour': '#ace4c8', 'width': None, 'hatch': None, 'component': Component({'lithology': 'silt'})})\n",
      "Decor({'_colour': '#d5e6cc', 'width': None, 'hatch': \"'---'\", 'component': Component({'lithology': 'argile'})})\n",
      "Decor({'_colour': '#92dcb7', 'width': None, 'hatch': None, 'component': Component({'lithology': 'bentonite'})})\n",
      "Decor({'_colour': '#bbffdd', 'width': None, 'hatch': \"'--'\", 'component': Component({'lithology': 'schiste'})})\n",
      "Decor({'_colour': '#95ffca', 'width': None, 'hatch': None, 'component': Component({'lithology': 'argilite'})})\n",
      "Decor({'_colour': '#d6fe9a', 'width': None, 'hatch': None, 'component': Component({'lithology': 'siltite'})})\n",
      "Decor({'_colour': '#e1f0d8', 'width': None, 'hatch': None, 'component': Component({'lithology': 'tuffeau'})})\n",
      "Decor({'_colour': '#69cf9c', 'width': None, 'hatch': None, 'component': Component({'lithology': 'silex'})})\n",
      "Decor({'_colour': '#b7d9cc', 'width': None, 'hatch': None, 'component': Component({'lithology': 'conglomérat'})})\n",
      "Decor({'_colour': '#019ccd', 'width': None, 'hatch': None, 'component': Component({'lithology': 'carbonate'})})\n",
      "Decor({'_colour': '#149eff', 'width': None, 'hatch': \"'='\", 'component': Component({'lithology': 'calcaire'})})\n",
      "Decor({'_colour': '#fdaaff', 'width': None, 'hatch': None, 'component': Component({'lithology': 'dolomite'})})\n",
      "Decor({'_colour': '#fdaffe', 'width': None, 'hatch': None, 'component': Component({'lithology': 'dolomie'})})\n",
      "Decor({'_colour': '#deeffe', 'width': None, 'hatch': None, 'component': Component({'lithology': 'craie'})})\n",
      "Decor({'_colour': '#aac2c8', 'width': None, 'hatch': None, 'component': Component({'lithology': 'chert'})})\n",
      "Decor({'_colour': '#000000', 'width': None, 'hatch': None, 'component': Component({'lithology': 'charbon'})})\n",
      "Decor({'_colour': '#7ba1a8', 'width': None, 'hatch': None, 'component': Component({'lithology': 'marne'})}))}, 'benzene_industrial': {'legend': Legend(Decor({'_colour': '#9cb39c', 'width': None, 'component': Component({'benzene_industrial': 'vr'}), 'hatch': None})\n",
      "Decor({'_colour': '#00ff00', 'width': None, 'component': Component({'benzene_industrial': 'vs'}), 'hatch': None})\n",
      "Decor({'_colour': '#ffa500', 'width': None, 'component': Component({'benzene_industrial': 'vi'}), 'hatch': None})\n",
      "Decor({'_colour': '#ff0000', 'width': None, 'component': Component({'benzene_industrial': 'vi_'}), 'hatch': None}))}} [Interval({'top': Position({'middle': 100.0, 'x': 152567.0, 'y': 122453.0, 'units': 'm'}), 'base': Position({'middle': 90.0, 'x': 152567.0, 'y': 122453.0, 'units': 'm'}), 'description': 'piezometer F212', 'data': {}, 'components': [Component({'borehole_type': 'piezometer'})]})]\n"
     ]
    },
    {
     "name": "stderr",
     "output_type": "stream",
     "text": [
      "/home/su530201/.local/share/virtualenvs/GSDMA-tJb-HgI6/lib/python3.8/site-packages/pyvista/core/dataset.py:1332: PyvistaDeprecationWarning: Use of `cell_arrays` is deprecated. Use `cell_data` instead.\n",
      "  warnings.warn(\n"
     ]
    }
   ],
   "source": [
    "p.refresh(update_3d=True)"
   ]
  },
  {
   "cell_type": "code",
   "execution_count": 12,
   "id": "64166a43",
   "metadata": {},
   "outputs": [
    {
     "name": "stdout",
     "output_type": "stream",
     "text": [
      "\n"
     ]
    },
    {
     "data": {
      "image/png": "[encoded data removed]",
      "text/plain": [
       "<Figure size 432x432 with 3 Axes>"
      ]
     },
     "metadata": {
      "needs_background": "light"
     },
     "output_type": "display_data"
    }
   ],
   "source": [
    "p.boreholes_3d[0].plot_log(repr_attribute=p.repr_attribute)"
   ]
  },
  {
   "cell_type": "code",
   "execution_count": 13,
   "id": "a098faf4",
   "metadata": {},
   "outputs": [
    {
     "name": "stdout",
     "output_type": "stream",
     "text": [
      "XXX {'borehole_type': {'legend': Legend(Decor({'_colour': '#888888', 'width': None, 'component': Component({'borehole_type': 'piezometer'}), 'hatch': None})\n",
      "Decor({'_colour': '#999999', 'width': None, 'component': Component({'borehole_type': '[forage|borehole]'}), 'hatch': None}))}, 'lithology': {'legend': Legend(Decor({'_colour': '#ffffe9', 'width': None, 'hatch': None, 'component': Component({'lithology': 'matériau(?:x)? meuble(?:s)?'})})\n",
      "Decor({'_colour': '#fff497', 'width': None, 'hatch': \"'....'\", 'component': Component({'lithology': 'alluvion'})})\n",
      "Decor({'_colour': '#b54500', 'width': None, 'hatch': None, 'component': Component({'lithology': 'boue'})})\n",
      "Decor({'_colour': '#d3b798', 'width': None, 'hatch': \"'v'\", 'component': Component({'lithology': 'remblai'})})\n",
      "Decor({'_colour': '#a5c7c9', 'width': None, 'hatch': \"'t'\", 'component': Component({'lithology': 'b[é|e]ton'})})\n",
      "Decor({'_colour': '#8da3c9', 'width': None, 'hatch': \"'t'\", 'component': Component({'lithology': 'scorie'})})\n",
      "Decor({'_colour': '#ffcc99', 'width': None, 'hatch': None, 'component': Component({'lithology': 'tourbe'})})\n",
      "Decor({'_colour': '#ffeaa7', 'width': None, 'hatch': None, 'component': Component({'lithology': 'gypse'})})\n",
      "Decor({'_colour': '#00151a', 'width': None, 'hatch': None, 'component': Component({'lithology': 'houille'})})\n",
      "Decor({'_colour': '#798732', 'width': None, 'hatch': \"'-.'\", 'component': Component({'lithology': 'limon'})})\n",
      "Decor({'_colour': '#ffcb23', 'width': None, 'hatch': \"'..'\", 'component': Component({'lithology': 'sable'})})\n",
      "Decor({'_colour': '#adb7cc', 'width': None, 'hatch': \"'oo\", 'component': Component({'lithology': 'gravier'})})\n",
      "Decor({'_colour': '#ace4c8', 'width': None, 'hatch': None, 'component': Component({'lithology': 'silt'})})\n",
      "Decor({'_colour': '#d5e6cc', 'width': None, 'hatch': \"'---'\", 'component': Component({'lithology': 'argile'})})\n",
      "Decor({'_colour': '#92dcb7', 'width': None, 'hatch': None, 'component': Component({'lithology': 'bentonite'})})\n",
      "Decor({'_colour': '#bbffdd', 'width': None, 'hatch': \"'--'\", 'component': Component({'lithology': 'schiste'})})\n",
      "Decor({'_colour': '#95ffca', 'width': None, 'hatch': None, 'component': Component({'lithology': 'argilite'})})\n",
      "Decor({'_colour': '#d6fe9a', 'width': None, 'hatch': None, 'component': Component({'lithology': 'siltite'})})\n",
      "Decor({'_colour': '#e1f0d8', 'width': None, 'hatch': None, 'component': Component({'lithology': 'tuffeau'})})\n",
      "Decor({'_colour': '#69cf9c', 'width': None, 'hatch': None, 'component': Component({'lithology': 'silex'})})\n",
      "Decor({'_colour': '#b7d9cc', 'width': None, 'hatch': None, 'component': Component({'lithology': 'conglomérat'})})\n",
      "Decor({'_colour': '#019ccd', 'width': None, 'hatch': None, 'component': Component({'lithology': 'carbonate'})})\n",
      "Decor({'_colour': '#149eff', 'width': None, 'hatch': \"'='\", 'component': Component({'lithology': 'calcaire'})})\n",
      "Decor({'_colour': '#fdaaff', 'width': None, 'hatch': None, 'component': Component({'lithology': 'dolomite'})})\n",
      "Decor({'_colour': '#fdaffe', 'width': None, 'hatch': None, 'component': Component({'lithology': 'dolomie'})})\n",
      "Decor({'_colour': '#deeffe', 'width': None, 'hatch': None, 'component': Component({'lithology': 'craie'})})\n",
      "Decor({'_colour': '#aac2c8', 'width': None, 'hatch': None, 'component': Component({'lithology': 'chert'})})\n",
      "Decor({'_colour': '#000000', 'width': None, 'hatch': None, 'component': Component({'lithology': 'charbon'})})\n",
      "Decor({'_colour': '#7ba1a8', 'width': None, 'hatch': None, 'component': Component({'lithology': 'marne'})}))}, 'benzene_industrial': {'legend': Legend(Decor({'_colour': '#9cb39c', 'width': None, 'component': Component({'benzene_industrial': 'vr'}), 'hatch': None})\n",
      "Decor({'_colour': '#00ff00', 'width': None, 'component': Component({'benzene_industrial': 'vs'}), 'hatch': None})\n",
      "Decor({'_colour': '#ffa500', 'width': None, 'component': Component({'benzene_industrial': 'vi'}), 'hatch': None})\n",
      "Decor({'_colour': '#ff0000', 'width': None, 'component': Component({'benzene_industrial': 'vi_'}), 'hatch': None}))}} [Interval({'top': Position({'middle': 100.0, 'x': 152567.0, 'y': 122453.0, 'units': 'm'}), 'base': Position({'middle': 97.0, 'x': 152567.0, 'y': 122453.0, 'units': 'm'}), 'description': 'sable grossier à la base et plus fin vers le haut', 'data': {}, 'components': [Component({'lithology': 'limon'}), Component({'benzene_industrial': 'VS'})]}), Interval({'top': Position({'middle': 96.0, 'x': 152567.0, 'y': 122453.0, 'units': 'm'}), 'base': Position({'middle': 91.0, 'x': 152567.0, 'y': 122453.0, 'units': 'm'}), 'description': 'sable fin à la base et plus argileux vers le haut', 'data': {}, 'components': [Component({'lithology': 'argile'}), Component({'benzene_industrial': 'VI'})]})]\n"
     ]
    }
   ],
   "source": [
    "p.repr_attribute='lithology'"
   ]
  },
  {
   "cell_type": "code",
   "execution_count": 14,
   "id": "97d7f788",
   "metadata": {},
   "outputs": [
    {
     "name": "stdout",
     "output_type": "stream",
     "text": [
      "\n"
     ]
    },
    {
     "data": {
      "image/png": "[encoded data removed]",
      "text/plain": [
       "<Figure size 432x432 with 4 Axes>"
      ]
     },
     "metadata": {
      "needs_background": "light"
     },
     "output_type": "display_data"
    }
   ],
   "source": [
    "p.boreholes_3d[0].plot_log(repr_attribute=p.repr_attribute)"
   ]
  },
  {
   "cell_type": "code",
   "execution_count": 15,
   "id": "fd16b929",
   "metadata": {},
   "outputs": [
    {
     "name": "stdout",
     "output_type": "stream",
     "text": [
      "XXX {'borehole_type': {'legend': Legend(Decor({'_colour': '#888888', 'width': None, 'component': Component({'borehole_type': 'piezometer'}), 'hatch': None})\n",
      "Decor({'_colour': '#999999', 'width': None, 'component': Component({'borehole_type': '[forage|borehole]'}), 'hatch': None}))}, 'lithology': {'legend': Legend(Decor({'_colour': '#798732', 'width': 3, 'hatch': \"'-.'\", 'component': Component({'lithology': 'limon'})})\n",
      "Decor({'_colour': '#d5e6cc', 'width': 3, 'hatch': \"'---'\", 'component': Component({'lithology': 'argile'})})), 'cmap': <matplotlib.colors.ListedColormap object at 0x7f0eb3623040>, 'values': ['limon', 'argile']}, 'benzene_industrial': {'legend': Legend(Decor({'_colour': '#9cb39c', 'width': None, 'component': Component({'benzene_industrial': 'vr'}), 'hatch': None})\n",
      "Decor({'_colour': '#00ff00', 'width': None, 'component': Component({'benzene_industrial': 'vs'}), 'hatch': None})\n",
      "Decor({'_colour': '#ffa500', 'width': None, 'component': Component({'benzene_industrial': 'vi'}), 'hatch': None})\n",
      "Decor({'_colour': '#ff0000', 'width': None, 'component': Component({'benzene_industrial': 'vi_'}), 'hatch': None}))}} [Interval({'top': Position({'middle': 100.0, 'x': 152567.0, 'y': 122453.0, 'units': 'm'}), 'base': Position({'middle': 97.0, 'x': 152567.0, 'y': 122453.0, 'units': 'm'}), 'description': 'sable grossier à la base et plus fin vers le haut', 'data': {}, 'components': [Component({'lithology': 'limon'}), Component({'benzene_industrial': 'VS'})]}), Interval({'top': Position({'middle': 96.0, 'x': 152567.0, 'y': 122453.0, 'units': 'm'}), 'base': Position({'middle': 91.0, 'x': 152567.0, 'y': 122453.0, 'units': 'm'}), 'description': 'sable fin à la base et plus argileux vers le haut', 'data': {}, 'components': [Component({'lithology': 'argile'}), Component({'benzene_industrial': 'VI'})]})]\n",
      "Borehole \"F212\" | attribute values -> ['limon', 'argile']\n"
     ]
    },
    {
     "name": "stderr",
     "output_type": "stream",
     "text": [
      "/home/su530201/.local/share/virtualenvs/GSDMA-tJb-HgI6/lib/python3.8/site-packages/pyvista/core/dataset.py:1332: PyvistaDeprecationWarning: Use of `cell_arrays` is deprecated. Use `cell_data` instead.\n",
      "  warnings.warn(\n"
     ]
    }
   ],
   "source": [
    "p.plot3d(window_size=(800, 600), repr_attribute='lithology', str_annotations=True, verbose=True)"
   ]
  },
  {
   "cell_type": "code",
   "execution_count": 16,
   "id": "8f56cc19",
   "metadata": {},
   "outputs": [
    {
     "name": "stdout",
     "output_type": "stream",
     "text": [
      "XXX {'borehole_type': {'legend': Legend(Decor({'_colour': '#888888', 'width': None, 'component': Component({'borehole_type': 'piezometer'}), 'hatch': None})\n",
      "Decor({'_colour': '#999999', 'width': None, 'component': Component({'borehole_type': '[forage|borehole]'}), 'hatch': None}))}, 'lithology': {'legend': Legend(Decor({'_colour': '#798732', 'width': 3, 'hatch': \"'-.'\", 'component': Component({'lithology': 'limon'})})\n",
      "Decor({'_colour': '#d5e6cc', 'width': 3, 'hatch': \"'---'\", 'component': Component({'lithology': 'argile'})})), 'cmap': <matplotlib.colors.ListedColormap object at 0x7f0eb57bbca0>, 'values': ['limon', 'argile']}, 'benzene_industrial': {'legend': Legend(Decor({'_colour': '#9cb39c', 'width': None, 'component': Component({'benzene_industrial': 'vr'}), 'hatch': None})\n",
      "Decor({'_colour': '#00ff00', 'width': None, 'component': Component({'benzene_industrial': 'vs'}), 'hatch': None})\n",
      "Decor({'_colour': '#ffa500', 'width': None, 'component': Component({'benzene_industrial': 'vi'}), 'hatch': None})\n",
      "Decor({'_colour': '#ff0000', 'width': None, 'component': Component({'benzene_industrial': 'vi_'}), 'hatch': None}))}} [Interval({'top': Position({'middle': 100.0, 'x': 152567.0, 'y': 122453.0, 'units': 'm'}), 'base': Position({'middle': 90.0, 'x': 152567.0, 'y': 122453.0, 'units': 'm'}), 'description': 'piezometer F212', 'data': {}, 'components': [Component({'borehole_type': 'piezometer'})]})]\n",
      "Borehole \"F212\" | attribute values -> ['piezometer']\n"
     ]
    }
   ],
   "source": [
    "p.plot3d(window_size=(800, 600), repr_attribute='borehole_type', str_annotations=False, verbose=True)"
   ]
  },
  {
   "cell_type": "markdown",
   "id": "555fc240",
   "metadata": {},
   "source": [
    "# Tests"
   ]
  },
  {
   "cell_type": "code",
   "execution_count": 18,
   "id": "6928937a",
   "metadata": {},
   "outputs": [
    {
     "name": "stdout",
     "output_type": "stream",
     "text": [
      "XXX {'borehole_type': {'legend': Legend(Decor({'_colour': '#888888', 'width': 3, 'component': Component({'borehole_type': 'piezometer'}), 'hatch': None})), 'cmap': <matplotlib.colors.ListedColormap object at 0x7f0eb375ff70>, 'values': ['piezometer']}, 'lithology': {'legend': Legend(Decor({'_colour': '#798732', 'width': 3, 'hatch': \"'-.'\", 'component': Component({'lithology': 'limon'})})\n",
      "Decor({'_colour': '#d5e6cc', 'width': 3, 'hatch': \"'---'\", 'component': Component({'lithology': 'argile'})})), 'cmap': <matplotlib.colors.ListedColormap object at 0x7f0eb57bbca0>, 'values': ['limon', 'argile']}, 'benzene_industrial': {'legend': Legend(Decor({'_colour': '#9cb39c', 'width': None, 'component': Component({'benzene_industrial': 'vr'}), 'hatch': None})\n",
      "Decor({'_colour': '#00ff00', 'width': None, 'component': Component({'benzene_industrial': 'vs'}), 'hatch': None})\n",
      "Decor({'_colour': '#ffa500', 'width': None, 'component': Component({'benzene_industrial': 'vi'}), 'hatch': None})\n",
      "Decor({'_colour': '#ff0000', 'width': None, 'component': Component({'benzene_industrial': 'vi_'}), 'hatch': None}))}} [Interval({'top': Position({'middle': 100.0, 'x': 152567.0, 'y': 122453.0, 'units': 'm'}), 'base': Position({'middle': 97.0, 'x': 152567.0, 'y': 122453.0, 'units': 'm'}), 'description': 'sable grossier à la base et plus fin vers le haut', 'data': {}, 'components': [Component({'lithology': 'limon'}), Component({'benzene_industrial': 'VS'})]}), Interval({'top': Position({'middle': 96.0, 'x': 152567.0, 'y': 122453.0, 'units': 'm'}), 'base': Position({'middle': 91.0, 'x': 152567.0, 'y': 122453.0, 'units': 'm'}), 'description': 'sable fin à la base et plus argileux vers le haut', 'data': {}, 'components': [Component({'lithology': 'argile'}), Component({'benzene_industrial': 'VI'})]})]\n",
      "Borehole \"F212\" | attribute values -> ['VS', 'VI']\n"
     ]
    },
    {
     "name": "stderr",
     "output_type": "stream",
     "text": [
      "/home/su530201/.local/share/virtualenvs/GSDMA-tJb-HgI6/lib/python3.8/site-packages/pyvista/core/dataset.py:1332: PyvistaDeprecationWarning: Use of `cell_arrays` is deprecated. Use `cell_data` instead.\n",
      "  warnings.warn(\n"
     ]
    }
   ],
   "source": [
    "p.plot3d(window_size=(800, 600), repr_attribute='benzene_industrial', str_annotations=False, verbose=True)"
   ]
  },
  {
   "cell_type": "code",
   "execution_count": null,
   "id": "a70cc7b4",
   "metadata": {},
   "outputs": [],
   "source": []
  }
 ],
 "metadata": {
  "kernelspec": {
   "display_name": "Python 3 (ipykernel)",
   "language": "python",
   "name": "python3"
  },
  "language_info": {
   "codemirror_mode": {
    "name": "ipython",
    "version": 3
   },
   "file_extension": ".py",
   "mimetype": "text/x-python",
   "name": "python",
   "nbconvert_exporter": "python",
   "pygments_lexer": "ipython3",
   "version": "3.8.5"
  }
 },
 "nbformat": 4,
 "nbformat_minor": 5
}
