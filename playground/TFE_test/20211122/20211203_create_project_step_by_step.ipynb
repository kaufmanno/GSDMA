{
 "cells": [
  {
   "cell_type": "code",
   "execution_count": 1,
   "id": "400601b4",
   "metadata": {},
   "outputs": [],
   "source": [
    "import os\n",
    "from core.project import Project"
   ]
  },
  {
   "cell_type": "markdown",
   "id": "6d02dce4",
   "metadata": {},
   "source": [
    "## Create a new project from a empty or existing database"
   ]
  },
  {
   "cell_type": "code",
   "execution_count": 2,
   "id": "6d6f6fa1",
   "metadata": {},
   "outputs": [],
   "source": [
    "update_db = False\n",
    "db_name = './new_db.db'\n",
    "db_bkp = db_name.replace('.db', '')+'_bkp.db'\n",
    "if os.path.exists(db_name) and not update_db:\n",
    "    if os.path.exists(db_bkp):\n",
    "        os.remove(db_bkp)\n",
    "    os.rename(db_name, db_bkp)"
   ]
  },
  {
   "cell_type": "code",
   "execution_count": 3,
   "id": "c0f8f683",
   "metadata": {},
   "outputs": [],
   "source": [
    "p = Project.load(db_name)"
   ]
  },
  {
   "cell_type": "code",
   "execution_count": 4,
   "id": "0e1b061a",
   "metadata": {},
   "outputs": [],
   "source": [
    "bh_id = 'F212' \n",
    "x = 152567.\n",
    "y = 122453.\n",
    "z = 100."
   ]
  },
  {
   "cell_type": "code",
   "execution_count": 5,
   "id": "5a4b409e",
   "metadata": {
    "scrolled": true
   },
   "outputs": [
    {
     "name": "stdout",
     "output_type": "stream",
     "text": [
      "Boreholes in the project :  0\n"
     ]
    }
   ],
   "source": [
    "p.insert_borehole({'id':bh_id, 'borehole_type': 'piezometer', 'length': 15, 'diameter':.1, 'top':{'middle': z, 'x': x, 'y': y}, 'base':{'middle': 90., 'x': x, 'y': y}})"
   ]
  },
  {
   "cell_type": "code",
   "execution_count": 6,
   "id": "426a90f5",
   "metadata": {},
   "outputs": [],
   "source": [
    "intv_dict={'description': 'sable grossier à la base et plus fin vers le haut',\n",
    "           'interval_number': 1,\n",
    "           'top':{'middle': 100., 'x': x, 'y': y},\n",
    "           'base':{'middle': 97., 'x': x, 'y': y},\n",
    "           'components':[\"{'lithology': 'limon'}\", \"{'benzene_industrial': 'VS'}\"],\n",
    "           'extra_data': 'None'\n",
    "          }"
   ]
  },
  {
   "cell_type": "code",
   "execution_count": 7,
   "id": "f35cf8da",
   "metadata": {},
   "outputs": [
    {
     "name": "stdout",
     "output_type": "stream",
     "text": [
      "Boreholes in the project :  1\n"
     ]
    }
   ],
   "source": [
    "p.insert_interval_in_borehole(bh_id, intv_dict)"
   ]
  },
  {
   "cell_type": "code",
   "execution_count": 8,
   "id": "dfa09a11",
   "metadata": {},
   "outputs": [],
   "source": [
    "intv_dict={'description': 'sable fin à la base et plus argileux vers le haut',\n",
    "           'interval_number': 2,\n",
    "           'top':{'middle': 96., 'x': x, 'y': y},\n",
    "           'base':{'middle': 91., 'x': x, 'y': y},\n",
    "           'components':[\"{'lithology': 'argile'}\", \"{'benzene_industrial': 'VI'}\"],\n",
    "           'extra_data': 'None'\n",
    "          }"
   ]
  },
  {
   "cell_type": "code",
   "execution_count": 9,
   "id": "b2395dc0",
   "metadata": {},
   "outputs": [
    {
     "name": "stdout",
     "output_type": "stream",
     "text": [
      "Boreholes in the project :  1\n"
     ]
    }
   ],
   "source": [
    "p.insert_interval_in_borehole(bh_id, intv_dict)"
   ]
  },
  {
   "cell_type": "code",
   "execution_count": 10,
   "id": "c29ae2e8",
   "metadata": {
    "scrolled": false
   },
   "outputs": [
    {
     "name": "stderr",
     "output_type": "stream",
     "text": [
      "/home/su530201/.local/share/virtualenvs/GSDMA-tJb-HgI6/lib/python3.8/site-packages/pyvista/core/dataset.py:1332: PyvistaDeprecationWarning: Use of `cell_arrays` is deprecated. Use `cell_data` instead.\n",
      "  warnings.warn(\n"
     ]
    }
   ],
   "source": [
    "p.refresh(update_3d=True)"
   ]
  },
  {
   "cell_type": "code",
   "execution_count": 11,
   "id": "64166a43",
   "metadata": {},
   "outputs": [
    {
     "name": "stdout",
     "output_type": "stream",
     "text": [
      "\n"
     ]
    },
    {
     "data": {
      "image/png": "[encoded data removed]",
      "text/plain": [
       "<Figure size 432x432 with 3 Axes>"
      ]
     },
     "metadata": {
      "needs_background": "light"
     },
     "output_type": "display_data"
    }
   ],
   "source": [
    "p.boreholes_3d[0].plot_log(repr_attribute=p.repr_attribute, width=0.5, ticks=(.5,2.5))"
   ]
  },
  {
   "cell_type": "code",
   "execution_count": 12,
   "id": "de4b00da",
   "metadata": {},
   "outputs": [],
   "source": [
    "p.repr_attribute='benzene_industrial'"
   ]
  },
  {
   "cell_type": "code",
   "execution_count": 13,
   "id": "25bbb206",
   "metadata": {},
   "outputs": [
    {
     "name": "stdout",
     "output_type": "stream",
     "text": [
      "\n"
     ]
    },
    {
     "data": {
      "image/png": "[encoded data removed]",
      "text/plain": [
       "<Figure size 432x432 with 4 Axes>"
      ]
     },
     "metadata": {
      "needs_background": "light"
     },
     "output_type": "display_data"
    }
   ],
   "source": [
    "p.boreholes_3d[0].plot_log(repr_attribute=p.repr_attribute, ticks=(.5, 2))"
   ]
  },
  {
   "cell_type": "code",
   "execution_count": 14,
   "id": "8f56cc19",
   "metadata": {},
   "outputs": [
    {
     "name": "stderr",
     "output_type": "stream",
     "text": [
      "/home/su530201/.local/share/virtualenvs/GSDMA-tJb-HgI6/lib/python3.8/site-packages/pyvista/core/dataset.py:1332: PyvistaDeprecationWarning: Use of `cell_arrays` is deprecated. Use `cell_data` instead.\n",
      "  warnings.warn(\n"
     ]
    },
    {
     "name": "stdout",
     "output_type": "stream",
     "text": [
      "Borehole \"F212\" | attribute values -> ['piezometer']\n"
     ]
    }
   ],
   "source": [
    "p.plot3d(window_size=(800, 600), repr_attribute='borehole_type', str_annotations=False, verbose=True)"
   ]
  },
  {
   "cell_type": "code",
   "execution_count": 15,
   "id": "fd16b929",
   "metadata": {},
   "outputs": [
    {
     "name": "stdout",
     "output_type": "stream",
     "text": [
      "Borehole \"F212\" | attribute values -> ['limon', 'argile']\n"
     ]
    }
   ],
   "source": [
    "p.plot3d(window_size=(800, 600), repr_attribute='lithology', str_annotations=True, verbose=True)"
   ]
  },
  {
   "cell_type": "code",
   "execution_count": 16,
   "id": "57b8a06c",
   "metadata": {},
   "outputs": [
    {
     "name": "stdout",
     "output_type": "stream",
     "text": [
      "Borehole \"F212\" | attribute values -> ['VS', 'VI']\n"
     ]
    }
   ],
   "source": [
    "p.plot3d(window_size=(800, 600), repr_attribute='benzene_industrial', str_annotations=True, verbose=True)"
   ]
  },
  {
   "cell_type": "markdown",
   "id": "555fc240",
   "metadata": {},
   "source": [
    "# Tests"
   ]
  }
 ],
 "metadata": {
  "kernelspec": {
   "display_name": "Python 3 (ipykernel)",
   "language": "python",
   "name": "python3"
  },
  "language_info": {
   "codemirror_mode": {
    "name": "ipython",
    "version": 3
   },
   "file_extension": ".py",
   "mimetype": "text/x-python",
   "name": "python",
   "nbconvert_exporter": "python",
   "pygments_lexer": "ipython3",
   "version": "3.8.5"
  }
 },
 "nbformat": 4,
 "nbformat_minor": 5
}
