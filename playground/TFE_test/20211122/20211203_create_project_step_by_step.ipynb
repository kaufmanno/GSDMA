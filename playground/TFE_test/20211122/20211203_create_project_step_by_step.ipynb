{
 "cells": [
  {
   "cell_type": "code",
   "execution_count": 1,
   "id": "400601b4",
   "metadata": {},
   "outputs": [],
   "source": [
    "import os\n",
    "from core.project import Project\n",
    "from utils.config import DEFAULT_LITHO_LEXICON, DEFAULT_LITHO_LEGEND, DEFAULT_BOREHOLE_LEGEND"
   ]
  },
  {
   "cell_type": "code",
   "execution_count": 2,
   "id": "6d6f6fa1",
   "metadata": {},
   "outputs": [],
   "source": [
    "update_db = True\n",
    "db_name = './new_db.db'\n",
    "db_bkp = db_name.replace('.db', '')+'_bkp.db'\n",
    "if os.path.exists(db_name) and not update_db:\n",
    "    if os.path.exists(db_bkp):\n",
    "        os.remove(db_bkp)\n",
    "    os.rename(db_name, db_bkp)"
   ]
  },
  {
   "cell_type": "markdown",
   "id": "6d02dce4",
   "metadata": {},
   "source": [
    "## Create a new project from an empty database"
   ]
  },
  {
   "cell_type": "code",
   "execution_count": 3,
   "id": "c0f8f683",
   "metadata": {},
   "outputs": [
    {
     "name": "stderr",
     "output_type": "stream",
     "text": [
      "/home/su530201/PycharmProjects/GSDMA/core/project.py:110: SAWarning: relationship 'ComponentOrm.intervals' will copy column Components.id to column Linkintervalcomponent.comp_id, which conflicts with relationship(s): 'IntervalOrm.components' (copies Components.id to Linkintervalcomponent.comp_id). If this is not the intention, consider if these relationships should be linked with back_populates, or if viewonly=True should be applied to one or more if they are read-only. For the less common case that foreign key constraints are partially overlapping, the orm.foreign() annotation can be used to isolate the columns that should be written towards.   To silence this warning, add the parameter 'overlaps=\"components\"' to the 'ComponentOrm.intervals' relationship. (Background on this error at: https://sqlalche.me/e/14/qzyx)\n",
      "  self.boreholes_orm = {i.id: i for i in self.session.query(BoreholeOrm).all()}\n",
      "/home/su530201/PycharmProjects/GSDMA/core/project.py:110: SAWarning: relationship 'ComponentOrm.intervals' will copy column Intervals.id to column Linkintervalcomponent.intv_id, which conflicts with relationship(s): 'IntervalOrm.components' (copies Intervals.id to Linkintervalcomponent.intv_id). If this is not the intention, consider if these relationships should be linked with back_populates, or if viewonly=True should be applied to one or more if they are read-only. For the less common case that foreign key constraints are partially overlapping, the orm.foreign() annotation can be used to isolate the columns that should be written towards.   To silence this warning, add the parameter 'overlaps=\"components\"' to the 'ComponentOrm.intervals' relationship. (Background on this error at: https://sqlalche.me/e/14/qzyx)\n",
      "  self.boreholes_orm = {i.id: i for i in self.session.query(BoreholeOrm).all()}\n",
      "/home/su530201/PycharmProjects/GSDMA/core/project.py:110: SAWarning: relationship 'ComponentOrm.component_assoc' will copy column Components.id to column Linkintervalcomponent.comp_id, which conflicts with relationship(s): 'ComponentOrm.intervals' (copies Components.id to Linkintervalcomponent.comp_id), 'IntervalOrm.components' (copies Components.id to Linkintervalcomponent.comp_id). If this is not the intention, consider if these relationships should be linked with back_populates, or if viewonly=True should be applied to one or more if they are read-only. For the less common case that foreign key constraints are partially overlapping, the orm.foreign() annotation can be used to isolate the columns that should be written towards.   To silence this warning, add the parameter 'overlaps=\"components,intervals\"' to the 'ComponentOrm.component_assoc' relationship. (Background on this error at: https://sqlalche.me/e/14/qzyx)\n",
      "  self.boreholes_orm = {i.id: i for i in self.session.query(BoreholeOrm).all()}\n",
      "/home/su530201/PycharmProjects/GSDMA/core/project.py:110: SAWarning: relationship 'LinkIntervalComponentOrm.component' will copy column Components.id to column Linkintervalcomponent.comp_id, which conflicts with relationship(s): 'ComponentOrm.intervals' (copies Components.id to Linkintervalcomponent.comp_id), 'IntervalOrm.components' (copies Components.id to Linkintervalcomponent.comp_id). If this is not the intention, consider if these relationships should be linked with back_populates, or if viewonly=True should be applied to one or more if they are read-only. For the less common case that foreign key constraints are partially overlapping, the orm.foreign() annotation can be used to isolate the columns that should be written towards.   To silence this warning, add the parameter 'overlaps=\"components,intervals\"' to the 'LinkIntervalComponentOrm.component' relationship. (Background on this error at: https://sqlalche.me/e/14/qzyx)\n",
      "  self.boreholes_orm = {i.id: i for i in self.session.query(BoreholeOrm).all()}\n",
      "/home/su530201/PycharmProjects/GSDMA/core/project.py:110: SAWarning: relationship 'IntervalOrm.interval_assoc' will copy column Intervals.id to column Linkintervalcomponent.intv_id, which conflicts with relationship(s): 'ComponentOrm.intervals' (copies Intervals.id to Linkintervalcomponent.intv_id), 'IntervalOrm.components' (copies Intervals.id to Linkintervalcomponent.intv_id). If this is not the intention, consider if these relationships should be linked with back_populates, or if viewonly=True should be applied to one or more if they are read-only. For the less common case that foreign key constraints are partially overlapping, the orm.foreign() annotation can be used to isolate the columns that should be written towards.   To silence this warning, add the parameter 'overlaps=\"components,intervals\"' to the 'IntervalOrm.interval_assoc' relationship. (Background on this error at: https://sqlalche.me/e/14/qzyx)\n",
      "  self.boreholes_orm = {i.id: i for i in self.session.query(BoreholeOrm).all()}\n",
      "/home/su530201/PycharmProjects/GSDMA/core/project.py:110: SAWarning: relationship 'LinkIntervalComponentOrm.interval' will copy column Intervals.id to column Linkintervalcomponent.intv_id, which conflicts with relationship(s): 'ComponentOrm.intervals' (copies Intervals.id to Linkintervalcomponent.intv_id), 'IntervalOrm.components' (copies Intervals.id to Linkintervalcomponent.intv_id). If this is not the intention, consider if these relationships should be linked with back_populates, or if viewonly=True should be applied to one or more if they are read-only. For the less common case that foreign key constraints are partially overlapping, the orm.foreign() annotation can be used to isolate the columns that should be written towards.   To silence this warning, add the parameter 'overlaps=\"components,intervals\"' to the 'LinkIntervalComponentOrm.interval' relationship. (Background on this error at: https://sqlalche.me/e/14/qzyx)\n",
      "  self.boreholes_orm = {i.id: i for i in self.session.query(BoreholeOrm).all()}\n",
      "/home/su530201/.local/share/virtualenvs/GSDMA-tJb-HgI6/lib/python3.8/site-packages/pyvista/core/dataset.py:1332: PyvistaDeprecationWarning: Use of `cell_arrays` is deprecated. Use `cell_data` instead.\n",
      "  warnings.warn(\n"
     ]
    }
   ],
   "source": [
    "p = Project.load(db_name)"
   ]
  },
  {
   "cell_type": "code",
   "execution_count": 4,
   "id": "11606a11",
   "metadata": {},
   "outputs": [],
   "source": [
    "from core.orm import BoreholeOrm, IntervalOrm, PositionOrm, ComponentOrm, LinkIntervalComponentOrm"
   ]
  },
  {
   "cell_type": "code",
   "execution_count": 5,
   "id": "ff990ad0",
   "metadata": {},
   "outputs": [],
   "source": [
    "bh_id = 'F204' \n",
    "x = 152570.\n",
    "y = 122536.\n",
    "z = 100."
   ]
  },
  {
   "cell_type": "code",
   "execution_count": 6,
   "id": "5a4b409e",
   "metadata": {
    "scrolled": true
   },
   "outputs": [
    {
     "name": "stdout",
     "output_type": "stream",
     "text": [
      "Boreholes in the project :  2\n"
     ]
    }
   ],
   "source": [
    "p.insert_borehole({'id':bh_id, 'borehole_type': 'piezometer', 'length': 15, 'diameter':.1, 'top':{'middle': z, 'x': x, 'y': y}, 'base':{'middle': 90., 'x': x, 'y': y}})"
   ]
  },
  {
   "cell_type": "code",
   "execution_count": 7,
   "id": "e0e42092",
   "metadata": {},
   "outputs": [],
   "source": [
    "intv_dict={'description': 'sable grossier à la base et plus fin vers le haut',\n",
    "           'interval_number': 1,\n",
    "           'top':{'middle': 100., 'x': x, 'y': y},\n",
    "           'base':{'middle': 94., 'x': x, 'y': y},\n",
    "           'components':[\"{'lithology': 'limon'}\", \"{'benzene_industrial': 'VS'}\"],\n",
    "           'extra_data': 'None'\n",
    "          }"
   ]
  },
  {
   "cell_type": "code",
   "execution_count": 8,
   "id": "e8da03ec",
   "metadata": {},
   "outputs": [
    {
     "name": "stdout",
     "output_type": "stream",
     "text": [
      "Boreholes in the project :  3\n"
     ]
    }
   ],
   "source": [
    "p.insert_interval_in_borehole(bh_id, intv_dict)"
   ]
  },
  {
   "cell_type": "code",
   "execution_count": 9,
   "id": "48b8c9bb",
   "metadata": {},
   "outputs": [],
   "source": [
    "intv_dict={'description': 'sable fin à la base et plus argileux vers le haut',\n",
    "           'interval_number': 2,\n",
    "           'top':{'middle': 93., 'x': x, 'y': y},\n",
    "           'base':{'middle': 91., 'x': x, 'y': y},\n",
    "           'components':[\"{'lithology': 'argile'}\", \"{'benzene_industrial': 'VI'}\"],\n",
    "           'extra_data': 'None'\n",
    "          }"
   ]
  },
  {
   "cell_type": "code",
   "execution_count": 10,
   "id": "67628167",
   "metadata": {},
   "outputs": [
    {
     "name": "stdout",
     "output_type": "stream",
     "text": [
      "Boreholes in the project :  3\n"
     ]
    }
   ],
   "source": [
    "p.insert_interval_in_borehole(bh_id, intv_dict)"
   ]
  },
  {
   "cell_type": "code",
   "execution_count": 11,
   "id": "53649e14",
   "metadata": {
    "scrolled": false
   },
   "outputs": [],
   "source": [
    "p.refresh(update_3d=True)"
   ]
  },
  {
   "cell_type": "code",
   "execution_count": 12,
   "id": "64166a43",
   "metadata": {},
   "outputs": [
    {
     "name": "stdout",
     "output_type": "stream",
     "text": [
      "\n"
     ]
    },
    {
     "data": {
      "image/png": "[encoded data removed]",
      "text/plain": [
       "<Figure size 432x432 with 3 Axes>"
      ]
     },
     "metadata": {
      "needs_background": "light"
     },
     "output_type": "display_data"
    }
   ],
   "source": [
    "p.boreholes_3d[0].plot_log(repr_attribute=p.repr_attribute)"
   ]
  },
  {
   "cell_type": "code",
   "execution_count": 13,
   "id": "4c8be94b",
   "metadata": {},
   "outputs": [],
   "source": [
    "p.repr_attribute='lithology'"
   ]
  },
  {
   "cell_type": "code",
   "execution_count": 14,
   "id": "88039c68",
   "metadata": {},
   "outputs": [
    {
     "name": "stdout",
     "output_type": "stream",
     "text": [
      "\n"
     ]
    },
    {
     "data": {
      "image/png": "[encoded data removed]",
      "text/plain": [
       "<Figure size 432x432 with 4 Axes>"
      ]
     },
     "metadata": {
      "needs_background": "light"
     },
     "output_type": "display_data"
    }
   ],
   "source": [
    "p.boreholes_3d[0].plot_log(repr_attribute=p.repr_attribute)"
   ]
  },
  {
   "cell_type": "code",
   "execution_count": 15,
   "id": "fd16b929",
   "metadata": {},
   "outputs": [
    {
     "name": "stderr",
     "output_type": "stream",
     "text": [
      "/home/su530201/.local/share/virtualenvs/GSDMA-tJb-HgI6/lib/python3.8/site-packages/pyvista/core/dataset.py:1332: PyvistaDeprecationWarning: Use of `cell_arrays` is deprecated. Use `cell_data` instead.\n",
      "  warnings.warn(\n"
     ]
    },
    {
     "name": "stdout",
     "output_type": "stream",
     "text": [
      "Borehole \"F203\" | attribute values -> ['sable', 'argile']\n",
      "Borehole \"F201\" | attribute values -> ['sable', 'argile']\n",
      "Borehole \"F204\" | attribute values -> ['limon', 'argile']\n"
     ]
    }
   ],
   "source": [
    "p.plot3d(window_size=(800, 600), repr_attribute='lithology', str_annotations=True, verbose=True)"
   ]
  },
  {
   "cell_type": "code",
   "execution_count": 16,
   "id": "8f56cc19",
   "metadata": {},
   "outputs": [
    {
     "name": "stdout",
     "output_type": "stream",
     "text": [
      "Borehole \"F203\" | attribute values -> ['piezometer']\n",
      "Borehole \"F201\" | attribute values -> ['piezometer']\n",
      "Borehole \"F204\" | attribute values -> ['piezometer']\n"
     ]
    }
   ],
   "source": [
    "p.plot3d(window_size=(800, 600), repr_attribute='borehole_type', str_annotations=False, verbose=True)"
   ]
  },
  {
   "cell_type": "markdown",
   "id": "555fc240",
   "metadata": {},
   "source": [
    "# Tests"
   ]
  },
  {
   "cell_type": "code",
   "execution_count": null,
   "id": "dc815d42",
   "metadata": {},
   "outputs": [],
   "source": []
  }
 ],
 "metadata": {
  "kernelspec": {
   "display_name": "Python 3 (ipykernel)",
   "language": "python",
   "name": "python3"
  },
  "language_info": {
   "codemirror_mode": {
    "name": "ipython",
    "version": 3
   },
   "file_extension": ".py",
   "mimetype": "text/x-python",
   "name": "python",
   "nbconvert_exporter": "python",
   "pygments_lexer": "ipython3",
   "version": "3.8.5"
  }
 },
 "nbformat": 4,
 "nbformat_minor": 5
}
