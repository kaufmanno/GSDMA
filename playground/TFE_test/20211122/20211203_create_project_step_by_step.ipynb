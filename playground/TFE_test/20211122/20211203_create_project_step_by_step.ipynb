{
 "cells": [
  {
   "cell_type": "code",
   "execution_count": 1,
   "id": "400601b4",
   "metadata": {},
   "outputs": [],
   "source": [
    "import os\n",
    "from core.project import Project\n",
    "from utils.config import DEFAULT_LITHO_LEXICON, DEFAULT_LITHO_LEGEND, DEFAULT_BOREHOLE_LEGEND"
   ]
  },
  {
   "cell_type": "code",
   "execution_count": 2,
   "id": "93141869",
   "metadata": {},
   "outputs": [],
   "source": [
    "from core.orm import Base\n",
    "from sqlalchemy import create_engine\n",
    "from sqlalchemy.orm import sessionmaker\n",
    "from utils.visual import legend_from_attributes # une legende par défaut devrait être charge si aucune n'est passée issue #113"
   ]
  },
  {
   "cell_type": "code",
   "execution_count": 3,
   "id": "b77fc804",
   "metadata": {},
   "outputs": [],
   "source": [
    "pollutants = ['Chlorure', 'PCB_28', 'PCB_138', 'PCB_118', 'BTEX_tot', 'S_tot', 'PCB_tot', 'PCB_180', 'PCB_101',\n",
    "              'PCB_153', 'PCB_52', 'MTBE', 'Pyr', 'Bnz', 'Alp_C6-C8', 'Toln', 'Pb', 'Bnz(ghi)peryl', 'CN_cplx',\n",
    "              'Cr_VI', 'Cis-1.2-DCEn', 'Ar_C6-C7', 'Cd', 'Phenol', '1.2-DCE', 'CN_libre', 'Bnz(a)pyr', 'Cu', \n",
    "              'Bnz(k)flranth', 'Anthrc', 'C16-C21', '1.1-DCEn', 'Chloroforme', 'Styr', 'Ni', 'EOX', 'Naphta', \n",
    "              'DCM', '1.1-DCE', 'C5-C8', 'As', '1.1.2-TCE', 'Bnz(b)flranth', 'Cr', 'HC_tot_C10-C40', 'HAP_tot_EPA', \n",
    "              'Co', 'Phenanthr', 'CN_tot', 'C12-C16', 'TCEyn', '(cis.trans)-1.2-DCEn_tot', 'Alp_C5-C6', 'Chrys', \n",
    "              'Trans-1.2-DCEyl', '1.2-DCP', 'Ar_C7-C8', '1.1.1-TCE', 'Zn', 'Indeno(1.2.3-cd)pyr', 'Alp_C8-C10', \n",
    "              'Flranth', 'HC_tot_C10-C35', 'Acenaphtyl', 'C8-C10', 'Bnz(a)anthrc', 'Dibnz(ah)anthrc', 'Hg', \n",
    "              'Ar_C8-C10', 'C10-C12', 'C35-C40', 'P-M-Xyl', 'CVinyl', 'Acenaphtn', 'TetraCEyn', 'Xyl', 'C21-C35', \n",
    "              'TCM', 'O-Xyl']\n",
    "legend_dict = legend_from_attributes([('lithology', DEFAULT_LITHO_LEGEND), ('borehole_type', DEFAULT_BOREHOLE_LEGEND)])"
   ]
  },
  {
   "cell_type": "code",
   "execution_count": 4,
   "id": "6acf33d9",
   "metadata": {},
   "outputs": [
    {
     "data": {
      "text/plain": [
       "dict_keys(['lithology', 'borehole_type'])"
      ]
     },
     "execution_count": 4,
     "metadata": {},
     "output_type": "execute_result"
    }
   ],
   "source": [
    "legend_dict.keys()"
   ]
  },
  {
   "cell_type": "code",
   "execution_count": 5,
   "id": "6d6f6fa1",
   "metadata": {},
   "outputs": [],
   "source": [
    "db_name = './new_db.db'\n",
    "if os.path.exists(db_name):\n",
    "    os.remove(db_name)"
   ]
  },
  {
   "cell_type": "code",
   "execution_count": 6,
   "id": "0c5b5851",
   "metadata": {
    "scrolled": true
   },
   "outputs": [],
   "source": [
    "# This should become a constructor of Project (use polymorphism)\n",
    "def load(db_name, **kwargs):\n",
    "    \"\"\" loads a project from a project database\"\"\"\n",
    "    legend_dict = kwargs.pop('legend_dict', legend_from_attributes([('lithology', DEFAULT_LITHO_LEGEND)]))\n",
    "    litho_lexicon = kwargs.pop('litho_lexicon', None)\n",
    "    project_name = kwargs.pop('project_name', db_name.rstrip('.db'))\n",
    "    verbose = kwargs.pop('verbose', False)\n",
    "    \n",
    "    engine = create_engine(f\"sqlite:///{db_name}\", echo=verbose)\n",
    "    Base.metadata.create_all(engine)\n",
    "    Session = sessionmaker(bind=engine)\n",
    "    session = Session()\n",
    "    if verbose:\n",
    "        print(f'legend_dict: {legend_dict}')\n",
    "    p = Project(session, name=project_name, legend_dict=legend_dict, lexicon=litho_lexicon)\n",
    "    p.refresh()\n",
    "    session.close()\n",
    "    return p"
   ]
  },
  {
   "cell_type": "markdown",
   "id": "6d02dce4",
   "metadata": {},
   "source": [
    "## Create a new project from an empty database"
   ]
  },
  {
   "cell_type": "code",
   "execution_count": 7,
   "id": "c0f8f683",
   "metadata": {},
   "outputs": [
    {
     "name": "stderr",
     "output_type": "stream",
     "text": [
      "/home/su530201/PycharmProjects/GSDMA/core/project.py:76: SAWarning: relationship 'ComponentOrm.intervals' will copy column Components.id to column Linkintervalcomponent.comp_id, which conflicts with relationship(s): 'IntervalOrm.components' (copies Components.id to Linkintervalcomponent.comp_id). If this is not the intention, consider if these relationships should be linked with back_populates, or if viewonly=True should be applied to one or more if they are read-only. For the less common case that foreign key constraints are partially overlapping, the orm.foreign() annotation can be used to isolate the columns that should be written towards.   To silence this warning, add the parameter 'overlaps=\"components\"' to the 'ComponentOrm.intervals' relationship. (Background on this error at: https://sqlalche.me/e/14/qzyx)\n",
      "  self.boreholes_orm = self.session.query(BoreholeOrm).all()\n",
      "/home/su530201/PycharmProjects/GSDMA/core/project.py:76: SAWarning: relationship 'ComponentOrm.intervals' will copy column Intervals.id to column Linkintervalcomponent.intv_id, which conflicts with relationship(s): 'IntervalOrm.components' (copies Intervals.id to Linkintervalcomponent.intv_id). If this is not the intention, consider if these relationships should be linked with back_populates, or if viewonly=True should be applied to one or more if they are read-only. For the less common case that foreign key constraints are partially overlapping, the orm.foreign() annotation can be used to isolate the columns that should be written towards.   To silence this warning, add the parameter 'overlaps=\"components\"' to the 'ComponentOrm.intervals' relationship. (Background on this error at: https://sqlalche.me/e/14/qzyx)\n",
      "  self.boreholes_orm = self.session.query(BoreholeOrm).all()\n",
      "/home/su530201/PycharmProjects/GSDMA/core/project.py:76: SAWarning: relationship 'ComponentOrm.component_assoc' will copy column Components.id to column Linkintervalcomponent.comp_id, which conflicts with relationship(s): 'ComponentOrm.intervals' (copies Components.id to Linkintervalcomponent.comp_id), 'IntervalOrm.components' (copies Components.id to Linkintervalcomponent.comp_id). If this is not the intention, consider if these relationships should be linked with back_populates, or if viewonly=True should be applied to one or more if they are read-only. For the less common case that foreign key constraints are partially overlapping, the orm.foreign() annotation can be used to isolate the columns that should be written towards.   To silence this warning, add the parameter 'overlaps=\"components,intervals\"' to the 'ComponentOrm.component_assoc' relationship. (Background on this error at: https://sqlalche.me/e/14/qzyx)\n",
      "  self.boreholes_orm = self.session.query(BoreholeOrm).all()\n",
      "/home/su530201/PycharmProjects/GSDMA/core/project.py:76: SAWarning: relationship 'LinkIntervalComponentOrm.component' will copy column Components.id to column Linkintervalcomponent.comp_id, which conflicts with relationship(s): 'ComponentOrm.intervals' (copies Components.id to Linkintervalcomponent.comp_id), 'IntervalOrm.components' (copies Components.id to Linkintervalcomponent.comp_id). If this is not the intention, consider if these relationships should be linked with back_populates, or if viewonly=True should be applied to one or more if they are read-only. For the less common case that foreign key constraints are partially overlapping, the orm.foreign() annotation can be used to isolate the columns that should be written towards.   To silence this warning, add the parameter 'overlaps=\"components,intervals\"' to the 'LinkIntervalComponentOrm.component' relationship. (Background on this error at: https://sqlalche.me/e/14/qzyx)\n",
      "  self.boreholes_orm = self.session.query(BoreholeOrm).all()\n",
      "/home/su530201/PycharmProjects/GSDMA/core/project.py:76: SAWarning: relationship 'IntervalOrm.interval_assoc' will copy column Intervals.id to column Linkintervalcomponent.intv_id, which conflicts with relationship(s): 'ComponentOrm.intervals' (copies Intervals.id to Linkintervalcomponent.intv_id), 'IntervalOrm.components' (copies Intervals.id to Linkintervalcomponent.intv_id). If this is not the intention, consider if these relationships should be linked with back_populates, or if viewonly=True should be applied to one or more if they are read-only. For the less common case that foreign key constraints are partially overlapping, the orm.foreign() annotation can be used to isolate the columns that should be written towards.   To silence this warning, add the parameter 'overlaps=\"components,intervals\"' to the 'IntervalOrm.interval_assoc' relationship. (Background on this error at: https://sqlalche.me/e/14/qzyx)\n",
      "  self.boreholes_orm = self.session.query(BoreholeOrm).all()\n",
      "/home/su530201/PycharmProjects/GSDMA/core/project.py:76: SAWarning: relationship 'LinkIntervalComponentOrm.interval' will copy column Intervals.id to column Linkintervalcomponent.intv_id, which conflicts with relationship(s): 'ComponentOrm.intervals' (copies Intervals.id to Linkintervalcomponent.intv_id), 'IntervalOrm.components' (copies Intervals.id to Linkintervalcomponent.intv_id). If this is not the intention, consider if these relationships should be linked with back_populates, or if viewonly=True should be applied to one or more if they are read-only. For the less common case that foreign key constraints are partially overlapping, the orm.foreign() annotation can be used to isolate the columns that should be written towards.   To silence this warning, add the parameter 'overlaps=\"components,intervals\"' to the 'LinkIntervalComponentOrm.interval' relationship. (Background on this error at: https://sqlalche.me/e/14/qzyx)\n",
      "  self.boreholes_orm = self.session.query(BoreholeOrm).all()\n"
     ]
    }
   ],
   "source": [
    "p = load(db_name, legend_dict=legend_dict, verbose=False)\n",
    "#p.plot_3d( window_size=(800, 600))"
   ]
  },
  {
   "cell_type": "code",
   "execution_count": 8,
   "id": "11606a11",
   "metadata": {},
   "outputs": [],
   "source": [
    "from core.orm import BoreholeOrm, IntervalOrm, PositionOrm, ComponentOrm, LinkIntervalComponentOrm"
   ]
  },
  {
   "cell_type": "code",
   "execution_count": 9,
   "id": "b247d5ac",
   "metadata": {},
   "outputs": [],
   "source": [
    "# This function should be converted into a method of Project\n",
    "def insert_borehole(project, bh_dict, verbose=True):\n",
    "    bh_orm = BoreholeOrm(id=bh_dict['id'], date=bh_dict.pop('date', None), length=bh_dict.pop('length', None), diameter=bh_dict.pop('diameter', None))\n",
    "    intv_id = project.find_next_id(IntervalOrm)\n",
    "    bh_orm.intervals_values.update({intv_id: {'description' : f\"{bh_dict['borehole_type']} {bh_dict['id']}\",\n",
    "                                'interval_number': 0,\n",
    "                                'top': PositionOrm(**bh_dict['top']),\n",
    "                                'base': PositionOrm(**bh_dict['base'])}})\n",
    "    \n",
    "    component_id = project.find_next_id(ComponentOrm)\n",
    "    bh_component = ComponentOrm(id=component_id, description=\"{'borehole_type': '\" + bh_dict['borehole_type'] + \"'}\")\n",
    "    \n",
    "    # TODO verify if component is already present\n",
    "    project.session.add(bh_component)\n",
    "    \n",
    "    link_dict = {(intv_id, component_id): {'extra_data': 'None'}}\n",
    "    print(f'interval : {intv_id}, component: {component_id}')\n",
    "    project.add_link_components_intervals(link_dict)\n",
    "    project.commit()\n",
    "    project.add_borehole(bh_orm, verbose)"
   ]
  },
  {
   "cell_type": "code",
   "execution_count": 10,
   "id": "5a4b409e",
   "metadata": {},
   "outputs": [
    {
     "name": "stdout",
     "output_type": "stream",
     "text": [
      "interval : 0, component: 0\n",
      "Boreholes in the project :  0\n",
      "Boreholes in the project :  0\n",
      "Boreholes in the project :  0\n",
      "Borehole geometry created successfully !\n",
      "\n",
      "F201  added\n"
     ]
    },
    {
     "name": "stderr",
     "output_type": "stream",
     "text": [
      "/home/su530201/.local/share/virtualenvs/GSDMA-tJb-HgI6/lib/python3.8/site-packages/pyvista/core/dataset.py:1332: PyvistaDeprecationWarning: Use of `cell_arrays` is deprecated. Use `cell_data` instead.\n",
      "  warnings.warn(\n"
     ]
    }
   ],
   "source": [
    "insert_borehole(p, {'id':'F201', 'borehole_type': 'piezometer', 'length': 18, 'diameter':0.1, 'top':{'middle': 100., 'x': 152890., 'y': 122596.}, 'base':{'middle': 90., 'x': 152890., 'y': 122596.}})"
   ]
  },
  {
   "cell_type": "raw",
   "id": "55a9f554",
   "metadata": {},
   "source": [
    "intv_id = p.find_next_id(IntervalOrm)\n",
    "p.boreholes_orm[0].intervals_values.update({intv_id: {'description' : \"{'lithology': 'argile'}\",\n",
    "                                'interval_number': 1,\n",
    "                                'top': PositionOrm(**{'middle': 94., 'x': 152890., 'y': 122596.}), \n",
    "                                'base': PositionOrm(**{'middle': 80., 'x': 152890., 'y': 122596.})}})"
   ]
  },
  {
   "cell_type": "code",
   "execution_count": 11,
   "id": "dd6370de",
   "metadata": {},
   "outputs": [],
   "source": [
    "intv_dict={'bh_id': 0, 'description': 'sable grossier à la base et plus fin vers le haut',\n",
    "           'interval_number': 1,\n",
    "           'top':{'middle': 100., 'x': 152890., 'y': 122596.},\n",
    "           'base':{'middle': 94., 'x': 152890., 'y': 122596.},\n",
    "           'components':[\"{'lithology': 'sable'}\", \"{'benzene_industrial': 'VI'}\"]\n",
    "          }"
   ]
  },
  {
   "cell_type": "code",
   "execution_count": 12,
   "id": "1760165e",
   "metadata": {},
   "outputs": [],
   "source": [
    "def insert_interval_in_borehole(project, intv_dict):\n",
    "    intv_id = project.find_next_id(IntervalOrm)\n",
    "    print(intv_dict['bh_id'])\n",
    "    project.boreholes_orm[intv_dict['bh_id']].intervals_values.update({\n",
    "                                intv_id: {'description' : intv_dict['description'],\n",
    "                                'interval_number': intv_dict['interval_number'],\n",
    "                                'top': PositionOrm(**intv_dict['top']),\n",
    "                                'base': PositionOrm(**intv_dict['base'])}})\n",
    "    link_dict={}\n",
    "    for descr_comp in intv_dict['components']:\n",
    "        component_id = project.find_next_id(ComponentOrm)\n",
    "        new_component = ComponentOrm(id=component_id, description=descr_comp)\n",
    "        print(descr_comp)\n",
    "    \n",
    "        # TODO verify if component is already present\n",
    "        project.session.add(new_component)\n",
    "        link_dict.update({(intv_id, component_id): {'extra_data': 'None'}})\n",
    "        print(f'interval : {intv_id}, component: {component_id}')\n",
    "    project.add_link_components_intervals(link_dict)"
   ]
  },
  {
   "cell_type": "code",
   "execution_count": 13,
   "id": "61ab446e",
   "metadata": {},
   "outputs": [
    {
     "name": "stdout",
     "output_type": "stream",
     "text": [
      "0\n",
      "{'lithology': 'sable'}\n",
      "interval : 1, component: 1\n",
      "{'benzene_industrial': 'VI'}\n",
      "interval : 1, component: 2\n",
      "Boreholes in the project :  1\n"
     ]
    }
   ],
   "source": [
    "insert_interval_in_borehole(p, intv_dict)"
   ]
  },
  {
   "cell_type": "code",
   "execution_count": 14,
   "id": "6f61b35f",
   "metadata": {},
   "outputs": [
    {
     "name": "stdout",
     "output_type": "stream",
     "text": [
      "Borehole geometry created successfully !\n",
      "\n"
     ]
    }
   ],
   "source": [
    "p.refresh(update_3d=True)"
   ]
  },
  {
   "cell_type": "code",
   "execution_count": 15,
   "id": "e222552c",
   "metadata": {},
   "outputs": [],
   "source": [
    "p.update_legend_cmap(compute_all_attrib=True, legend_dict=legend_dict)"
   ]
  },
  {
   "cell_type": "code",
   "execution_count": 16,
   "id": "64166a43",
   "metadata": {},
   "outputs": [
    {
     "name": "stdout",
     "output_type": "stream",
     "text": [
      "\n"
     ]
    },
    {
     "data": {
      "image/png": "[encoded data removed]",
      "text/plain": [
       "<Figure size 432x432 with 4 Axes>"
      ]
     },
     "metadata": {
      "needs_background": "light"
     },
     "output_type": "display_data"
    }
   ],
   "source": [
    "p.boreholes_3d[0].plot_log(repr_attribute='lithology')"
   ]
  },
  {
   "cell_type": "code",
   "execution_count": 17,
   "id": "fd16b929",
   "metadata": {},
   "outputs": [
    {
     "name": "stdout",
     "output_type": "stream",
     "text": [
      "Borehole \"F201\" | attribute values -> ['Inconnu', 'sable']\n"
     ]
    }
   ],
   "source": [
    "p.plot_3d(window_size=(800, 600), repr_attribute='lithology', str_annotations=True, verbose=True)"
   ]
  },
  {
   "cell_type": "code",
   "execution_count": 18,
   "id": "8f56cc19",
   "metadata": {},
   "outputs": [
    {
     "name": "stdout",
     "output_type": "stream",
     "text": [
      "Borehole \"F201\" | attribute values -> ['piezometer', 'Inconnu']\n"
     ]
    }
   ],
   "source": [
    "p.plot_3d(window_size=(800, 600), repr_attribute='borehole_type', str_annotations=False, verbose=True)"
   ]
  },
  {
   "cell_type": "markdown",
   "id": "555fc240",
   "metadata": {},
   "source": [
    "# Tests"
   ]
  },
  {
   "cell_type": "code",
   "execution_count": 19,
   "id": "0000b182",
   "metadata": {},
   "outputs": [
    {
     "data": {
      "text/plain": [
       "{'lithology': {'legend': Legend(Decor({'_colour': '#ffffff', 'width': 3, 'hatch': None, 'component': Component({'lithology': 'Inconnu'})})\n",
       "  Decor({'_colour': '#ffcb23', 'width': 3, 'hatch': \"'..'\", 'component': Component({'lithology': 'sable'})})),\n",
       "  'cmap': <matplotlib.colors.ListedColormap at 0x7f21628244c0>,\n",
       "  'values': ['Inconnu', 'sable']},\n",
       " 'borehole_type': {'legend': Legend(Decor({'_colour': '#888888', 'width': 3, 'component': Component({'borehole_type': 'piezometer'}), 'hatch': None})),\n",
       "  'cmap': <matplotlib.colors.ListedColormap at 0x7f2162826c40>,\n",
       "  'values': ['piezometer', 'Inconnu']}}"
      ]
     },
     "execution_count": 19,
     "metadata": {},
     "output_type": "execute_result"
    }
   ],
   "source": [
    "p.legend_dict"
   ]
  },
  {
   "cell_type": "code",
   "execution_count": 20,
   "id": "cd3d3ac0",
   "metadata": {},
   "outputs": [
    {
     "data": {
      "text/plain": [
       "<core.visual.Borehole3D> Borehole with 3 Intervals | start=90.0, stop=100.0 | name: F201"
      ]
     },
     "execution_count": 20,
     "metadata": {},
     "output_type": "execute_result"
    }
   ],
   "source": [
    "p.boreholes_3d[0]"
   ]
  },
  {
   "cell_type": "code",
   "execution_count": null,
   "id": "67a9a9e6",
   "metadata": {},
   "outputs": [],
   "source": []
  },
  {
   "cell_type": "code",
   "execution_count": null,
   "id": "e05974e8",
   "metadata": {},
   "outputs": [],
   "source": []
  }
 ],
 "metadata": {
  "kernelspec": {
   "display_name": "Python 3 (ipykernel)",
   "language": "python",
   "name": "python3"
  },
  "language_info": {
   "codemirror_mode": {
    "name": "ipython",
    "version": 3
   },
   "file_extension": ".py",
   "mimetype": "text/x-python",
   "name": "python",
   "nbconvert_exporter": "python",
   "pygments_lexer": "ipython3",
   "version": "3.8.5"
  }
 },
 "nbformat": 4,
 "nbformat_minor": 5
}
