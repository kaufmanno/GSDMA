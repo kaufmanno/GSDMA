{
 "cells": [
  {
   "cell_type": "markdown",
   "id": "545c4d92",
   "metadata": {},
   "source": [
    "# Compute a surface for memoris"
   ]
  },
  {
   "cell_type": "code",
   "execution_count": null,
   "id": "b1601434",
   "metadata": {},
   "outputs": [],
   "source": [
    "from mpl_toolkits.mplot3d import Axes3D\n",
    "import matplotlib.pyplot as plt\n",
    "import pandas as pd\n",
    "import geopandas as gpd\n",
    "import numpy as np\n",
    "from scipy import interpolate"
   ]
  },
  {
   "cell_type": "code",
   "execution_count": null,
   "id": "1f680037-d03c-43ce-837c-559e9d10a5ef",
   "metadata": {},
   "outputs": [],
   "source": [
    "import pyvista as pv"
   ]
  },
  {
   "cell_type": "code",
   "execution_count": null,
   "id": "9c4f711d",
   "metadata": {},
   "outputs": [],
   "source": [
    "# get points with known elevations\n",
    "df = pd.read_excel('../../../CF_data/My_compilation/Memoris.xlsx', sheet_name='ground_surface')\n",
    "df.head()"
   ]
  },
  {
   "cell_type": "code",
   "execution_count": null,
   "id": "561c1b82",
   "metadata": {},
   "outputs": [],
   "source": [
    "xx = df.X.values\n",
    "yy = df.Y.values\n",
    "zz = df.Z.values"
   ]
  },
  {
   "cell_type": "code",
   "execution_count": null,
   "id": "1ab5534c",
   "metadata": {},
   "outputs": [],
   "source": [
    "xy = np.array([i for i in zip(df.X.values, df.Y.values)])\n",
    "z = np.array(df.Z.values)"
   ]
  },
  {
   "cell_type": "code",
   "execution_count": null,
   "id": "12c20252",
   "metadata": {},
   "outputs": [],
   "source": [
    "model = interpolate.CloughTocher2DInterpolator(xy, z)\n",
    "xnew, ynew = np.mgrid[df.X.min():df.X.max():100j, df.Y.min():df.Y.max():100j]\n",
    "xynew = np.column_stack([xnew.flat, ynew.flat])\n",
    "znew = model(xynew).reshape(100,100)"
   ]
  },
  {
   "cell_type": "code",
   "execution_count": null,
   "id": "45637dc5",
   "metadata": {},
   "outputs": [],
   "source": [
    "plt.rcParams['font.size'] = 8.\n",
    "\n",
    "fig = plt.figure(figsize=(16,10))\n",
    "\n",
    "ax = fig.add_subplot(111, projection='3d')\n",
    "ax.scatter(xx, yy, zz, alpha=0.8, s=5., label='point data')\n",
    "ax.plot_surface(xnew, ynew, znew, alpha=0.2, label='model')\n",
    "plt.show()"
   ]
  },
  {
   "cell_type": "code",
   "execution_count": null,
   "id": "d678f41c",
   "metadata": {},
   "outputs": [],
   "source": [
    "df2 = pd.read_excel('../../../CF_data/My_compilation/Memoris.xlsx', sheet_name='boreholes')"
   ]
  },
  {
   "cell_type": "code",
   "execution_count": null,
   "id": "d7dcd62c",
   "metadata": {},
   "outputs": [],
   "source": [
    "xy2 = df2[['X', 'Y']].values"
   ]
  },
  {
   "cell_type": "code",
   "execution_count": null,
   "id": "e0fa27f7",
   "metadata": {},
   "outputs": [],
   "source": [
    "df2['Z2'] = model(xy2)"
   ]
  },
  {
   "cell_type": "code",
   "execution_count": null,
   "id": "b0fe2b3e",
   "metadata": {},
   "outputs": [],
   "source": [
    "df2.query('Z!=Z')"
   ]
  },
  {
   "cell_type": "code",
   "execution_count": null,
   "id": "7237f80d",
   "metadata": {},
   "outputs": [],
   "source": [
    "df.rename({'X': 'x', 'Y': 'y', 'Z': 'z'}, axis=1, inplace=True)"
   ]
  },
  {
   "cell_type": "code",
   "execution_count": null,
   "id": "db234b78",
   "metadata": {},
   "outputs": [],
   "source": [
    "gdf = gpd.GeoDataFrame(df, geometry=gpd.points_from_xy(df.x, df.y, df.z))"
   ]
  },
  {
   "cell_type": "code",
   "execution_count": null,
   "id": "8e4f7f6c",
   "metadata": {},
   "outputs": [],
   "source": [
    "from geometron.vtk import gdf_to_ug"
   ]
  },
  {
   "cell_type": "code",
   "execution_count": null,
   "id": "2de4b84d",
   "metadata": {},
   "outputs": [],
   "source": [
    "vtk = gdf_to_ug(gdf)"
   ]
  },
  {
   "cell_type": "code",
   "execution_count": null,
   "id": "e256c705",
   "metadata": {},
   "outputs": [],
   "source": [
    "vtk.plot(jupyter_backend='panel')"
   ]
  },
  {
   "cell_type": "code",
   "execution_count": null,
   "id": "34f89c8b-7bb9-480c-afa3-37560dc28fe1",
   "metadata": {},
   "outputs": [],
   "source": [
    "grid_points = np.vstack([xnew.flatten(), ynew.flatten(), znew.flatten()]).T\n",
    "df_grid = pd.DataFrame(grid_points, columns=['x', 'y', 'z'])\n",
    "qq = df_grid.query('z==z')\n",
    "grid_points = qq.to_numpy()"
   ]
  },
  {
   "cell_type": "code",
   "execution_count": null,
   "id": "60db3e24",
   "metadata": {},
   "outputs": [],
   "source": [
    "points = pv.PolyData(grid_points)"
   ]
  },
  {
   "cell_type": "code",
   "execution_count": null,
   "id": "174417bd-8d83-46db-8a88-c91a211f2635",
   "metadata": {},
   "outputs": [],
   "source": [
    "points.plot(jupyter_backend='panel')"
   ]
  },
  {
   "cell_type": "code",
   "execution_count": null,
   "id": "9f809443-6a6a-4e95-9ac1-db8a9696a672",
   "metadata": {},
   "outputs": [],
   "source": [
    "ground_surf = points.delaunay_2d()"
   ]
  },
  {
   "cell_type": "code",
   "execution_count": null,
   "id": "68f985ee-c521-4290-a80d-c5dd663898c0",
   "metadata": {},
   "outputs": [],
   "source": [
    "ground_surf.plot(jupyter_backend='panel')"
   ]
  },
  {
   "cell_type": "code",
   "execution_count": null,
   "id": "8404f4fb-4f0a-4e3b-9748-805788291897",
   "metadata": {},
   "outputs": [],
   "source": [
    "ground_surf.save('ground_surface.vtk')"
   ]
  },
  {
   "cell_type": "code",
   "execution_count": null,
   "id": "a8509819-15d4-4a07-b8f5-426c52b6756f",
   "metadata": {},
   "outputs": [],
   "source": []
  }
 ],
 "metadata": {
  "kernelspec": {
   "display_name": "Python 3 (ipykernel)",
   "language": "python",
   "name": "python3"
  },
  "language_info": {
   "codemirror_mode": {
    "name": "ipython",
    "version": 3
   },
   "file_extension": ".py",
   "mimetype": "text/x-python",
   "name": "python",
   "nbconvert_exporter": "python",
   "pygments_lexer": "ipython3",
   "version": "3.8.5"
  }
 },
 "nbformat": 4,
 "nbformat_minor": 5
}
