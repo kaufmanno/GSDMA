{
 "cells": [
  {
   "cell_type": "code",
   "execution_count": 1,
   "id": "400601b4",
   "metadata": {},
   "outputs": [],
   "source": [
    "import os\n",
    "from core.project import Project\n",
    "from utils.config import DEFAULT_LITHO_LEXICON, DEFAULT_LITHO_LEGEND"
   ]
  },
  {
   "cell_type": "code",
   "execution_count": 2,
   "id": "93141869",
   "metadata": {},
   "outputs": [],
   "source": [
    "from core.orm import Base\n",
    "from sqlalchemy import create_engine\n",
    "from sqlalchemy.orm import sessionmaker\n",
    "from utils.visual import legend_from_attributes # une legende par défaut devrait être charge si aucune n'est passée issue #113"
   ]
  },
  {
   "cell_type": "code",
   "execution_count": 3,
   "id": "b77fc804",
   "metadata": {},
   "outputs": [],
   "source": [
    "pollutants = ['Chlorure', 'PCB_28', 'PCB_138', 'PCB_118', 'BTEX_tot', 'S_tot', 'PCB_tot', 'PCB_180', 'PCB_101',\n",
    "              'PCB_153', 'PCB_52', 'MTBE', 'Pyr', 'Bnz', 'Alp_C6-C8', 'Toln', 'Pb', 'Bnz(ghi)peryl', 'CN_cplx',\n",
    "              'Cr_VI', 'Cis-1.2-DCEn', 'Ar_C6-C7', 'Cd', 'Phenol', '1.2-DCE', 'CN_libre', 'Bnz(a)pyr', 'Cu', \n",
    "              'Bnz(k)flranth', 'Anthrc', 'C16-C21', '1.1-DCEn', 'Chloroforme', 'Styr', 'Ni', 'EOX', 'Naphta', \n",
    "              'DCM', '1.1-DCE', 'C5-C8', 'As', '1.1.2-TCE', 'Bnz(b)flranth', 'Cr', 'HC_tot_C10-C40', 'HAP_tot_EPA', \n",
    "              'Co', 'Phenanthr', 'CN_tot', 'C12-C16', 'TCEyn', '(cis.trans)-1.2-DCEn_tot', 'Alp_C5-C6', 'Chrys', \n",
    "              'Trans-1.2-DCEyl', '1.2-DCP', 'Ar_C7-C8', '1.1.1-TCE', 'Zn', 'Indeno(1.2.3-cd)pyr', 'Alp_C8-C10', \n",
    "              'Flranth', 'HC_tot_C10-C35', 'Acenaphtyl', 'C8-C10', 'Bnz(a)anthrc', 'Dibnz(ah)anthrc', 'Hg', \n",
    "              'Ar_C8-C10', 'C10-C12', 'C35-C40', 'P-M-Xyl', 'CVinyl', 'Acenaphtn', 'TetraCEyn', 'Xyl', 'C21-C35', \n",
    "              'TCM', 'O-Xyl']\n",
    "legend_dict = legend_from_attributes([('lithology', DEFAULT_LITHO_LEGEND)] + pollutants)"
   ]
  },
  {
   "cell_type": "code",
   "execution_count": 4,
   "id": "6d6f6fa1",
   "metadata": {},
   "outputs": [],
   "source": [
    "db_name = './new_db.db'\n",
    "if os.path.exists(db_name):\n",
    "    os.remove(db_name)"
   ]
  },
  {
   "cell_type": "code",
   "execution_count": 5,
   "id": "0c5b5851",
   "metadata": {
    "scrolled": true
   },
   "outputs": [],
   "source": [
    "# This should become a constructor of Project (use polymorphism)\n",
    "def load(db_name, **kwargs):\n",
    "    legend_dict = kwargs.pop('legend_dict', legend_from_attributes([('lithology', DEFAULT_LITHO_LEGEND)]))\n",
    "    litho_lexicon = kwargs.pop('litho_lexicon', None)\n",
    "    project_name = kwargs.pop('project_name', db_name.rstrip('.db'))\n",
    "    verbose = kwargs.pop('verbose', False)\n",
    "    \n",
    "    engine = create_engine(f\"sqlite:///{db_name}\", echo=verbose)\n",
    "    Base.metadata.create_all(engine)\n",
    "    Session = sessionmaker(bind=engine)\n",
    "    session = Session()\n",
    "\n",
    "    p = Project(session, name=project_name, legend_dict=legend_dict, lexicon=litho_lexicon)\n",
    "    p.refresh()\n",
    "    session.close()\n",
    "    p.update_legend_cmap(compute_all_attrib=True, verbose=False)\n",
    "    return p"
   ]
  },
  {
   "cell_type": "markdown",
   "id": "6d02dce4",
   "metadata": {},
   "source": [
    "## Create a new project from an empty database"
   ]
  },
  {
   "cell_type": "code",
   "execution_count": 6,
   "id": "c0f8f683",
   "metadata": {},
   "outputs": [
    {
     "name": "stderr",
     "output_type": "stream",
     "text": [
      "/home/su530201/PycharmProjects/GSDMA/core/project.py:74: SAWarning: relationship 'ComponentOrm.intervals' will copy column Components.id to column Linkintervalcomponent.comp_id, which conflicts with relationship(s): 'IntervalOrm.components' (copies Components.id to Linkintervalcomponent.comp_id). If this is not the intention, consider if these relationships should be linked with back_populates, or if viewonly=True should be applied to one or more if they are read-only. For the less common case that foreign key constraints are partially overlapping, the orm.foreign() annotation can be used to isolate the columns that should be written towards.   To silence this warning, add the parameter 'overlaps=\"components\"' to the 'ComponentOrm.intervals' relationship. (Background on this error at: https://sqlalche.me/e/14/qzyx)\n",
      "  self.boreholes_orm = self.session.query(BoreholeOrm).all()\n",
      "/home/su530201/PycharmProjects/GSDMA/core/project.py:74: SAWarning: relationship 'ComponentOrm.intervals' will copy column Intervals.id to column Linkintervalcomponent.intv_id, which conflicts with relationship(s): 'IntervalOrm.components' (copies Intervals.id to Linkintervalcomponent.intv_id). If this is not the intention, consider if these relationships should be linked with back_populates, or if viewonly=True should be applied to one or more if they are read-only. For the less common case that foreign key constraints are partially overlapping, the orm.foreign() annotation can be used to isolate the columns that should be written towards.   To silence this warning, add the parameter 'overlaps=\"components\"' to the 'ComponentOrm.intervals' relationship. (Background on this error at: https://sqlalche.me/e/14/qzyx)\n",
      "  self.boreholes_orm = self.session.query(BoreholeOrm).all()\n",
      "/home/su530201/PycharmProjects/GSDMA/core/project.py:74: SAWarning: relationship 'ComponentOrm.component_assoc' will copy column Components.id to column Linkintervalcomponent.comp_id, which conflicts with relationship(s): 'ComponentOrm.intervals' (copies Components.id to Linkintervalcomponent.comp_id), 'IntervalOrm.components' (copies Components.id to Linkintervalcomponent.comp_id). If this is not the intention, consider if these relationships should be linked with back_populates, or if viewonly=True should be applied to one or more if they are read-only. For the less common case that foreign key constraints are partially overlapping, the orm.foreign() annotation can be used to isolate the columns that should be written towards.   To silence this warning, add the parameter 'overlaps=\"components,intervals\"' to the 'ComponentOrm.component_assoc' relationship. (Background on this error at: https://sqlalche.me/e/14/qzyx)\n",
      "  self.boreholes_orm = self.session.query(BoreholeOrm).all()\n",
      "/home/su530201/PycharmProjects/GSDMA/core/project.py:74: SAWarning: relationship 'LinkIntervalComponentOrm.component' will copy column Components.id to column Linkintervalcomponent.comp_id, which conflicts with relationship(s): 'ComponentOrm.intervals' (copies Components.id to Linkintervalcomponent.comp_id), 'IntervalOrm.components' (copies Components.id to Linkintervalcomponent.comp_id). If this is not the intention, consider if these relationships should be linked with back_populates, or if viewonly=True should be applied to one or more if they are read-only. For the less common case that foreign key constraints are partially overlapping, the orm.foreign() annotation can be used to isolate the columns that should be written towards.   To silence this warning, add the parameter 'overlaps=\"components,intervals\"' to the 'LinkIntervalComponentOrm.component' relationship. (Background on this error at: https://sqlalche.me/e/14/qzyx)\n",
      "  self.boreholes_orm = self.session.query(BoreholeOrm).all()\n",
      "/home/su530201/PycharmProjects/GSDMA/core/project.py:74: SAWarning: relationship 'IntervalOrm.interval_assoc' will copy column Intervals.id to column Linkintervalcomponent.intv_id, which conflicts with relationship(s): 'ComponentOrm.intervals' (copies Intervals.id to Linkintervalcomponent.intv_id), 'IntervalOrm.components' (copies Intervals.id to Linkintervalcomponent.intv_id). If this is not the intention, consider if these relationships should be linked with back_populates, or if viewonly=True should be applied to one or more if they are read-only. For the less common case that foreign key constraints are partially overlapping, the orm.foreign() annotation can be used to isolate the columns that should be written towards.   To silence this warning, add the parameter 'overlaps=\"components,intervals\"' to the 'IntervalOrm.interval_assoc' relationship. (Background on this error at: https://sqlalche.me/e/14/qzyx)\n",
      "  self.boreholes_orm = self.session.query(BoreholeOrm).all()\n",
      "/home/su530201/PycharmProjects/GSDMA/core/project.py:74: SAWarning: relationship 'LinkIntervalComponentOrm.interval' will copy column Intervals.id to column Linkintervalcomponent.intv_id, which conflicts with relationship(s): 'ComponentOrm.intervals' (copies Intervals.id to Linkintervalcomponent.intv_id), 'IntervalOrm.components' (copies Intervals.id to Linkintervalcomponent.intv_id). If this is not the intention, consider if these relationships should be linked with back_populates, or if viewonly=True should be applied to one or more if they are read-only. For the less common case that foreign key constraints are partially overlapping, the orm.foreign() annotation can be used to isolate the columns that should be written towards.   To silence this warning, add the parameter 'overlaps=\"components,intervals\"' to the 'LinkIntervalComponentOrm.interval' relationship. (Background on this error at: https://sqlalche.me/e/14/qzyx)\n",
      "  self.boreholes_orm = self.session.query(BoreholeOrm).all()\n"
     ]
    }
   ],
   "source": [
    "p = load(db_name, legend_dict=legend_dict)\n",
    "p.plot_3d( window_size=(800, 600))"
   ]
  },
  {
   "cell_type": "code",
   "execution_count": 10,
   "id": "11606a11",
   "metadata": {},
   "outputs": [],
   "source": [
    "from core.orm import BoreholeOrm, IntervalOrm, PositionOrm, ComponentOrm"
   ]
  },
  {
   "cell_type": "code",
   "execution_count": null,
   "id": "6c340e19",
   "metadata": {},
   "outputs": [],
   "source": [
    "# This function should be converted into a method of Project\n",
    "def insert_interval(project, intv_dict, verbose=True):\n",
    "    pos_orm = PositionOrm(id=pos_id, upper=, middle=,\n",
    "                                              lower=,\n",
    "                                              x=, y=)                                              )\n",
    "\n",
    "                            base = PositionOrm(id=pos_id + 1, upper=z_val - intv.base.upper,\n",
    "                                               middle=z_val - intv.base.middle,\n",
    "                                               lower=z_val - intv.base.lower,\n",
    "                                               x=row['X'], y=row['Y']\n",
    "                                               )\n",
    "\n",
    "                            desc = '; '.join([c.json() for c in intv.components])\n",
    "\n",
    "                            interval_dict.update({int_id: {'interval_number': interval_number,\n",
    "                                                    'top': top, 'base': base,\n",
    "                                                    'type': iv_type, 'description': desc}})\n",
    "    intv_orm = BoreholeOrm(id=bh_dict['id'], date=bh_dict.pop('date', None), length=bh_dict.pop('length', None), diameter=bh_dict.pop('diameter', None))\n",
    "    project.add_borehole(bh_orm, verbose)"
   ]
  },
  {
   "cell_type": "code",
   "execution_count": 29,
   "id": "b247d5ac",
   "metadata": {},
   "outputs": [],
   "source": [
    "# This function should be converted into a method of Project\n",
    "def insert_borehole(project, bh_dict, verbose=True):\n",
    "    bh_orm = BoreholeOrm(id=bh_dict['id'], date=bh_dict.pop('date', None), length=bh_dict.pop('length', None), diameter=bh_dict.pop('diameter', None))\n",
    "    project.add_borehole(bh_orm, verbose)"
   ]
  },
  {
   "cell_type": "code",
   "execution_count": 30,
   "id": "20e156ee",
   "metadata": {},
   "outputs": [
    {
     "name": "stdout",
     "output_type": "stream",
     "text": [
      "Boreholes in the project :  0\n",
      "\u001b[1;34mNo lithology interval found, a default one is created for visualization !\u001b[0;0m\n",
      "\n",
      "\u001b[1;34mNo sample interval found, a default one is created for visualization !\u001b[0;0m\n",
      "\n",
      "Borehole geometry created successfully !\n",
      "\n",
      "F00  added\n"
     ]
    },
    {
     "name": "stderr",
     "output_type": "stream",
     "text": [
      "/home/su530201/.local/share/virtualenvs/GSDMA-tJb-HgI6/lib/python3.8/site-packages/pyvista/core/dataset.py:1332: PyvistaDeprecationWarning: Use of `cell_arrays` is deprecated. Use `cell_data` instead.\n",
      "  warnings.warn(\n"
     ]
    }
   ],
   "source": [
    "insert_borehole(p, {'id':'F00', 'length': 12.1})"
   ]
  },
  {
   "cell_type": "code",
   "execution_count": 34,
   "id": "fcecc006",
   "metadata": {},
   "outputs": [],
   "source": [
    "bh = p.boreholes_orm[0]"
   ]
  },
  {
   "cell_type": "code",
   "execution_count": 35,
   "id": "94bf6463",
   "metadata": {},
   "outputs": [
    {
     "data": {
      "text/plain": [
       "{}"
      ]
     },
     "execution_count": 35,
     "metadata": {},
     "output_type": "execute_result"
    }
   ],
   "source": [
    "bh.intervals"
   ]
  },
  {
   "cell_type": "code",
   "execution_count": 11,
   "id": "f7a58dd5",
   "metadata": {},
   "outputs": [],
   "source": [
    "bh_dict={'id':'F00', 'length': 12.1}\n",
    "bh_orm = BoreholeOrm(id=bh_dict['id'], date=bh_dict.pop('date', None), length=bh_dict.pop('length', None), diameter=bh_dict.pop('diameter', None))"
   ]
  },
  {
   "cell_type": "code",
   "execution_count": 18,
   "id": "718aec3f",
   "metadata": {},
   "outputs": [],
   "source": [
    "bh_orm.intervals_values.update({0: {'description': '{\"type\": \"borehole\"}',\n",
    "                                'interval_number':0,\n",
    "                                'type':'test',\n",
    "                                'top': PositionOrm(middle=0., x=10., y=20.),\n",
    "                                'base': PositionOrm(middle=-10., x=10., y=20.)}})"
   ]
  },
  {
   "cell_type": "code",
   "execution_count": null,
   "id": "7d5402fc",
   "metadata": {},
   "outputs": [],
   "source": []
  }
 ],
 "metadata": {
  "kernelspec": {
   "display_name": "Python 3 (ipykernel)",
   "language": "python",
   "name": "python3"
  },
  "language_info": {
   "codemirror_mode": {
    "name": "ipython",
    "version": 3
   },
   "file_extension": ".py",
   "mimetype": "text/x-python",
   "name": "python",
   "nbconvert_exporter": "python",
   "pygments_lexer": "ipython3",
   "version": "3.8.5"
  }
 },
 "nbformat": 4,
 "nbformat_minor": 5
}
