{
 "cells": [
  {
   "cell_type": "code",
   "execution_count": 1,
   "id": "400601b4",
   "metadata": {},
   "outputs": [],
   "source": [
    "import pandas as pd\n",
    "import re\n",
    "import os\n",
    "from sqlalchemy import create_engine\n",
    "from sqlalchemy.orm import sessionmaker\n",
    "\n",
    "from core.orm import Base\n",
    "from core.project import Project\n",
    "from utils.orm import boreholes_from_dataframe\n",
    "from utils.visual import legend_from_attributes\n",
    "from utils.config import DEFAULT_LITHO_LEXICON, DEFAULT_POL_LEXICON, DEFAULT_LITHO_LEGEND, DEFAULT_Z\n",
    "from definitions import ROOT_DIR"
   ]
  },
  {
   "cell_type": "raw",
   "id": "e7f5b410",
   "metadata": {},
   "source": [
    "import os\n",
    "from core.orm import Base\n",
    "from sqlalchemy import create_engine\n",
    "from sqlalchemy.orm import sessionmaker\n",
    "import re\n",
    "from utils.config import WARNING_TEXT_CONFIG, DEFAULT_BOREHOLE_DIAMETER, WORDS_WITH_S\n",
    "from utils.utils import striplog_from_dataframe\n",
    "from utils.visual import get_components, legend_from_attributes\n",
    "from core.orm import BoreholeOrm, PositionOrm, LinkIntervalComponentOrm\n",
    "from striplog import Component, Interval"
   ]
  },
  {
   "cell_type": "code",
   "execution_count": 12,
   "id": "58c35963",
   "metadata": {},
   "outputs": [],
   "source": [
    "from striplog import Striplog, Interval, Component"
   ]
  },
  {
   "cell_type": "code",
   "execution_count": 14,
   "id": "e7273a9f",
   "metadata": {
    "scrolled": true
   },
   "outputs": [
    {
     "data": {
      "image/png": "[encoded data removed]",
      "text/plain": [
       "<Figure size 108x1080 with 1 Axes>"
      ]
     },
     "metadata": {
      "needs_background": "light"
     },
     "output_type": "display_data"
    }
   ],
   "source": [
    "Striplog([Interval(top=0, base=5, components=[])]).plot()"
   ]
  },
  {
   "cell_type": "code",
   "execution_count": 2,
   "id": "8f29d852",
   "metadata": {},
   "outputs": [],
   "source": [
    "def create_project(data_dict, db_name, **kwargs):\n",
    "    for k,v in data_dict.items():\n",
    "        if isinstance(v, str):\n",
    "            data_dict[k] = pd.read_csv(v, sep=',')\n",
    "        elif not isinstance(v, pd.DataFrame):\n",
    "            raise(TypeError(\"data_dict values must be a filename (*.csv) or a dataframe!\"))\n",
    "            \n",
    "    verbose = kwargs.pop('verbose', False)\n",
    "    sample_type_col = kwargs.pop('sample_type_col', 'Type_ech')\n",
    "    diameter_col = kwargs.pop('Diam_for', 0.1) \n",
    "    pollutants = kwargs.pop('pollutants', [])\n",
    "    skip_cols = kwargs.pop('skip_cols', [])\n",
    "    litho_legend = kwargs.pop('litho_legend', DEFAULT_LITHO_LEGEND)\n",
    "    litho_lexicon = kwargs.pop('litho_lexicon', DEFAULT_LITHO_LEXICON)\n",
    "    # pollutants_legend = kwargs.pop('pollutants_legend', DEFAULT_POL_LEGEND)\n",
    "    pollutants_lexicon = kwargs.pop('pollutants_lexicon', DEFAULT_POL_LEXICON)\n",
    "    \n",
    "    r = re.compile(\"samp|pol\", flags=re.I)\n",
    "    r_list = list(filter(r.search, list(data_dict.keys())))\n",
    "    if r_list: key = r_list[0]\n",
    "    if not pollutants and r_list:\n",
    "        for i, c in enumerate(data_dict[key].columns):\n",
    "            if c in pollutants_lexicon.abbreviations.keys() or c in pollutants_lexicon.abbreviations.values():\n",
    "                pollutants.append(c)\n",
    "                \n",
    "    default_z = kwargs.pop('default_z', DEFAULT_Z) \n",
    "    attributes=kwargs.pop('attributes', ['lithology']+pollutants)\n",
    "    legend_dict = legend_from_attributes([('lithology', litho_legend)]+pollutants)\n",
    "    symbols=kwargs.pop('symbols', {'lithology':{'lexicon': litho_lexicon}})\n",
    "    boreholes, components, link_intv_comp = boreholes_from_dataframe(data_dict, verbose=verbose,\n",
    "                                                sample_type_col=sample_type_col, diameter_col=diameter_col, \n",
    "                                                default_z=default_z, attributes=attributes, \n",
    "                                                symbols=symbols, skip_cols=skip_cols)\n",
    "\n",
    "    if os.path.exists(db_name):\n",
    "        os.remove(db_name)\n",
    "\n",
    "    engine = create_engine(f\"sqlite:///{db_name}\", echo=True)\n",
    "    Base.metadata.create_all(engine)\n",
    "    Session = sessionmaker(bind=engine)\n",
    "    session = Session()\n",
    "    p = Project(session, name='Memoris_project', legend_dict=legend_dict, lexicon=DEFAULT_LITHO_LEXICON)\n",
    "    p.add_components(components)\n",
    "    for bh in boreholes:\n",
    "        p.add_borehole(bh)\n",
    "    p.add_link_components_intervals(link_intv_comp)\n",
    "    p.commit()\n",
    "    p.refresh()\n",
    "    session.close()\n",
    "    p.update_legend_cmap(compute_all_attrib=True, verbose=False)\n",
    "    return p"
   ]
  },
  {
   "cell_type": "code",
   "execution_count": 3,
   "id": "60c4141d",
   "metadata": {},
   "outputs": [],
   "source": [
    "from utils.io import dataframe_viewer, replicate_values, dict_viewer, find_borehole_by_position"
   ]
  },
  {
   "cell_type": "raw",
   "id": "e783ecfc",
   "metadata": {},
   "source": [
    "data_dict = {'lithologies_data': f'{ROOT_DIR}/CF_data/Result_traitem/fusion_finale/Lithologies.csv',\n",
    "             'pollutants_data': f'{ROOT_DIR}/CF_data/Result_traitem/fusion_finale/Samples.csv'}"
   ]
  },
  {
   "cell_type": "code",
   "execution_count": 8,
   "id": "096dd6e5",
   "metadata": {},
   "outputs": [],
   "source": [
    "a = pd.read_csv(f'{ROOT_DIR}/CF_data/Result_traitem/fusion_finale/Boreholes.csv', sep=',')\n",
    "lit = pd.read_csv(f'{ROOT_DIR}/CF_data/Result_traitem/fusion_finale/Lithologies.csv', sep=',')\n",
    "sp = pd.read_csv(f'{ROOT_DIR}/CF_data/Result_traitem/fusion_finale/Samples.csv', sep=',')"
   ]
  },
  {
   "cell_type": "code",
   "execution_count": 4,
   "id": "d65c1065",
   "metadata": {},
   "outputs": [],
   "source": [
    "data_dict = {'lithologies_data': pd.read_csv(f'{ROOT_DIR}/CF_data/Result_traitem/fusion_finale/Lithologies.csv', sep=','),\n",
    "             'samples_data': pd.read_csv(f'{ROOT_DIR}/CF_data/Result_traitem/fusion_finale/Samples.csv', sep=',')}"
   ]
  },
  {
   "cell_type": "code",
   "execution_count": 5,
   "id": "ad186ac0",
   "metadata": {},
   "outputs": [],
   "source": [
    "# there are incorrect values in data (coherencies between top/base)\n",
    "data_dict['lithologies_data'].loc[558, 'Litho_base'] = 4.5\n",
    "data_dict['lithologies_data'] = data_dict['lithologies_data'].query('X==X and Y==Y')"
   ]
  },
  {
   "cell_type": "code",
   "execution_count": null,
   "id": "4f03dc9a",
   "metadata": {},
   "outputs": [],
   "source": [
    "create_project(data_dict, 'test.db', skip_cols=['Pol_top', 'Pol_base'])"
   ]
  },
  {
   "cell_type": "code",
   "execution_count": null,
   "id": "621b9f2b",
   "metadata": {},
   "outputs": [],
   "source": [
    "c = data_dict['lithologies_data'].append(data_dict['samples_data'])\n",
    "c.reset_index(drop=True, inplace=True)"
   ]
  },
  {
   "cell_type": "raw",
   "id": "1553ad71",
   "metadata": {},
   "source": [
    "a = replicate_values(a, id_col='ID', suffix=['sup', 'inf', 'prof'], replace_id=True, \n",
    "                     cols_to_replicate=['X', 'Y', 'Z','Type','Emplacement', 'Date_for'])"
   ]
  },
  {
   "cell_type": "code",
   "execution_count": null,
   "id": "0b345c37",
   "metadata": {},
   "outputs": [],
   "source": [
    "def find_borehole_by_position(df, id_col='ID', xy_cols=('X', 'Y'), dist_max=1., reg_skip=None, display=False, drop_old_id=True, verbose=False):\n",
    "    \"\"\" Look for nearest objects in 2 dataframes, by position, and set same ID\n",
    "    (to treat same position but different names cases)\n",
    "\n",
    "    Parameters\n",
    "    ------------\n",
    "    df : pandas.Dataframe\n",
    "        a dataframe with XY coordinates\n",
    "    id_col : str\n",
    "        name of the column used for boreholes ID\n",
    "    xy_cols: tuple\n",
    "        name of the columns containing XY coordinates\n",
    "    dist_max : float\n",
    "        maximum distance between Y coordinates of an object in df1 and df2\n",
    "    reg_skip : str\n",
    "        Regex pattern to skip specific borehole ID. e.g : '\\d+\\D+'\n",
    "    display : bool\n",
    "        if True, display of same IDs dictionary\n",
    "    drop_old_id : bool\n",
    "        if True, drop the column of old ID\n",
    "    inplace : bool\n",
    "        if True, alter the given dataframe\n",
    "    \"\"\"\n",
    "\n",
    "    data = df.copy()\n",
    "\n",
    "    if xy_cols[0] not in data.columns:\n",
    "        raise (KeyError('No coordinates (X,Y) found in the dataframe !'))\n",
    "\n",
    "    # retrieve IDs before changing them\n",
    "    data.insert(0, f'old_{id_col}', data[id_col])\n",
    "    id_list = []\n",
    "    coord_dict = {}\n",
    "    idx_dict = {}\n",
    "    same_bh_dict = {}\n",
    "\n",
    "    for idx in data.index:\n",
    "        bh_id = data.loc[idx, id_col]\n",
    "        x, y = data.loc[idx, xy_cols[0]], data.loc[idx, xy_cols[1]]\n",
    "\n",
    "        if bh_id in id_list:\n",
    "            continue\n",
    "        else:\n",
    "            id_list.append(bh_id)\n",
    "            qsl = data[id_col] == f\"{bh_id}\"\n",
    "            idx = data[qsl].index\n",
    "            coord_dict.update({bh_id: (x, y)})\n",
    "            idx_dict.update({bh_id: idx})\n",
    "\n",
    "    id_list = []\n",
    "    skip_list = []\n",
    "    for bh in coord_dict.keys():\n",
    "        xy = coord_dict[bh]\n",
    "        if bh not in id_list:\n",
    "            id_list.append(bh)\n",
    "\n",
    "        # browse the dictionary and compare\n",
    "        same_list = []\n",
    "        for k, coords in coord_dict.items():\n",
    "            if k not in id_list:\n",
    "                new_xy = coord_dict[k]\n",
    "                dist = (xy[0] - new_xy[0]) ** 2 + (xy[1] - new_xy[1]) ** 2\n",
    "            else:\n",
    "                continue\n",
    "\n",
    "            if dist <= dist_max ** 2:  # same objects\n",
    "                if reg_skip is not None:\n",
    "                    if not re.search(reg_skip, k, flags=re.I):\n",
    "                        same_list.append(k)\n",
    "                    elif k not in skip_list:\n",
    "                        skip_list.append(k)\n",
    "                else:\n",
    "                    same_list.append(k)\n",
    "\n",
    "        if same_list:\n",
    "            same_bh_dict.update({bh: same_list})\n",
    "\n",
    "    if skip_list:\n",
    "        print(f\"Skipped {len(skip_list)} IDs\")\n",
    "        if verbose: print(f\"{skip_list}\")\n",
    "\n",
    "    if same_bh_dict:\n",
    "        for bh_id, same in same_bh_dict.items():\n",
    "            for bh in same:\n",
    "                idx = idx_dict[bh]\n",
    "                data.loc[idx, id_col] = bh_id\n",
    "        if display:\n",
    "            dict_viewer(same_bh_dict)\n",
    "\n",
    "        if drop_old_id:\n",
    "            data = data.drop(columns=f'old_{id_col}').copy()\n",
    "    else:\n",
    "        print('All boreholes are unique !')\n",
    "\n",
    "    return data, same_bh_dict"
   ]
  },
  {
   "cell_type": "code",
   "execution_count": 9,
   "id": "71c06a81",
   "metadata": {},
   "outputs": [
    {
     "name": "stdout",
     "output_type": "stream",
     "text": [
      "Skipped 126 IDs\n"
     ]
    },
    {
     "data": {
      "text/html": [
       "<table><tr><td><strong>F1</strong></td><td>['1']</td></tr><tr><td><strong>_1_</strong></td><td>['1']</td></tr><tr><td><strong>F12</strong></td><td>['12']</td></tr><tr><td><strong>_12_</strong></td><td>['12']</td></tr><tr><td><strong>P4</strong></td><td>['F207', 'F79', '79']</td></tr><tr><td><strong>P4M</strong></td><td>['F207', 'F79', '79']</td></tr><tr><td><strong>F4M</strong></td><td>['F207', 'F79', '79']</td></tr><tr><td><strong>P5</strong></td><td>['P12']</td></tr><tr><td><strong>P5M</strong></td><td>['P12']</td></tr><tr><td><strong>F5M</strong></td><td>['P12']</td></tr><tr><td><strong>P537</strong></td><td>['537', 'P99', 'F99', '99', 'F537']</td></tr><tr><td><strong>537</strong></td><td>['P99', 'F99', '99', 'F537']</td></tr><tr><td><strong>P99</strong></td><td>['F99', '99', 'F537']</td></tr><tr><td><strong>F99</strong></td><td>['99', 'F537']</td></tr><tr><td><strong>99</strong></td><td>['F537']</td></tr><tr><td><strong>P19</strong></td><td>['BH_name_31']</td></tr><tr><td><strong>P20</strong></td><td>['116']</td></tr><tr><td><strong>P22</strong></td><td>['BH_name_27']</td></tr><tr><td><strong>P23</strong></td><td>['eau forage P23']</td></tr><tr><td><strong>F207</strong></td><td>['F79', '79']</td></tr><tr><td><strong>F304</strong></td><td>['226']</td></tr><tr><td><strong>F32</strong></td><td>['32']</td></tr><tr><td><strong>F34</strong></td><td>['34']</td></tr><tr><td><strong>F44</strong></td><td>['44']</td></tr><tr><td><strong>F58</strong></td><td>['58']</td></tr><tr><td><strong>F59</strong></td><td>['59']</td></tr><tr><td><strong>F64</strong></td><td>['64']</td></tr><tr><td><strong>F65</strong></td><td>['65']</td></tr><tr><td><strong>F67</strong></td><td>['67']</td></tr><tr><td><strong>F74</strong></td><td>['74']</td></tr><tr><td><strong>F75</strong></td><td>['75']</td></tr><tr><td><strong>F76</strong></td><td>['76']</td></tr><tr><td><strong>F77</strong></td><td>['77']</td></tr><tr><td><strong>F78</strong></td><td>['78']</td></tr><tr><td><strong>F79</strong></td><td>['79']</td></tr><tr><td><strong>F80</strong></td><td>['80', 'P80']</td></tr><tr><td><strong>80</strong></td><td>['P80']</td></tr><tr><td><strong>F81</strong></td><td>['81', 'P81']</td></tr><tr><td><strong>81</strong></td><td>['P81']</td></tr><tr><td><strong>F82</strong></td><td>['82']</td></tr><tr><td><strong>F83</strong></td><td>['83']</td></tr><tr><td><strong>F86</strong></td><td>['86', 'PZ86']</td></tr><tr><td><strong>86</strong></td><td>['PZ86']</td></tr><tr><td><strong>F91</strong></td><td>['91']</td></tr><tr><td><strong>F95</strong></td><td>['95']</td></tr><tr><td><strong>F96</strong></td><td>['96']</td></tr><tr><td><strong>F97</strong></td><td>['97']</td></tr><tr><td><strong>F98</strong></td><td>['98']</td></tr><tr><td><strong>F100</strong></td><td>['F101', '100']</td></tr><tr><td><strong>F101</strong></td><td>['100']</td></tr><tr><td><strong>F102</strong></td><td>['102']</td></tr><tr><td><strong>F103</strong></td><td>['103']</td></tr><tr><td><strong>F104</strong></td><td>['104']</td></tr><tr><td><strong>F105</strong></td><td>['105']</td></tr><tr><td><strong>F106</strong></td><td>['106', 'P106']</td></tr><tr><td><strong>106</strong></td><td>['P106']</td></tr><tr><td><strong>F107</strong></td><td>['107', 'P107', 'PZ107']</td></tr><tr><td><strong>107</strong></td><td>['P107', 'PZ107']</td></tr><tr><td><strong>P107</strong></td><td>['PZ107']</td></tr><tr><td><strong>F108</strong></td><td>['108']</td></tr><tr><td><strong>F109</strong></td><td>['109']</td></tr><tr><td><strong>F110</strong></td><td>['110']</td></tr><tr><td><strong>F112</strong></td><td>['112']</td></tr><tr><td><strong>F115</strong></td><td>['FP115']</td></tr><tr><td><strong>F117</strong></td><td>['FP117']</td></tr><tr><td><strong>F125</strong></td><td>['125']</td></tr><tr><td><strong>F129</strong></td><td>['129']</td></tr><tr><td><strong>F142</strong></td><td>['142']</td></tr><tr><td><strong>F152</strong></td><td>['152']</td></tr><tr><td><strong>F162</strong></td><td>['162']</td></tr><tr><td><strong>F164</strong></td><td>['164']</td></tr><tr><td><strong>F165</strong></td><td>['165']</td></tr><tr><td><strong>F166</strong></td><td>['166']</td></tr><tr><td><strong>F167</strong></td><td>['167']</td></tr><tr><td><strong>F168</strong></td><td>['168']</td></tr><tr><td><strong>F170</strong></td><td>['170']</td></tr><tr><td><strong>F172</strong></td><td>['172']</td></tr><tr><td><strong>F175</strong></td><td>['175']</td></tr><tr><td><strong>F180</strong></td><td>['180']</td></tr><tr><td><strong>F186</strong></td><td>['186', 'F503']</td></tr><tr><td><strong>186</strong></td><td>['F503']</td></tr><tr><td><strong>F197</strong></td><td>['197']</td></tr><tr><td><strong>F209</strong></td><td>['209']</td></tr><tr><td><strong>F400</strong></td><td>['400']</td></tr><tr><td><strong>F403</strong></td><td>['403']</td></tr><tr><td><strong>F405</strong></td><td>['405']</td></tr><tr><td><strong>F406</strong></td><td>['406']</td></tr><tr><td><strong>F410</strong></td><td>['410']</td></tr><tr><td><strong>F411</strong></td><td>['411']</td></tr><tr><td><strong>F412</strong></td><td>['412']</td></tr><tr><td><strong>F500</strong></td><td>['500']</td></tr><tr><td><strong>F501</strong></td><td>['501']</td></tr><tr><td><strong>F501b</strong></td><td>['501']</td></tr><tr><td><strong>F502</strong></td><td>['502']</td></tr><tr><td><strong>F504</strong></td><td>['504']</td></tr><tr><td><strong>F508</strong></td><td>['508']</td></tr><tr><td><strong>F509</strong></td><td>['509']</td></tr><tr><td><strong>F509b</strong></td><td>['509']</td></tr><tr><td><strong>F509c</strong></td><td>['509']</td></tr><tr><td><strong>F510</strong></td><td>['510']</td></tr><tr><td><strong>F511</strong></td><td>['511']</td></tr><tr><td><strong>F513</strong></td><td>['513']</td></tr><tr><td><strong>F514</strong></td><td>['514']</td></tr><tr><td><strong>F514b</strong></td><td>['514']</td></tr><tr><td><strong>F517</strong></td><td>['517']</td></tr><tr><td><strong>F521</strong></td><td>['521']</td></tr><tr><td><strong>F521A</strong></td><td>['521']</td></tr><tr><td><strong>F522</strong></td><td>['522']</td></tr><tr><td><strong>F523</strong></td><td>['523']</td></tr><tr><td><strong>F528</strong></td><td>['528']</td></tr><tr><td><strong>F529</strong></td><td>['529']</td></tr><tr><td><strong>F530</strong></td><td>['530']</td></tr><tr><td><strong>F532</strong></td><td>['532']</td></tr><tr><td><strong>F534</strong></td><td>['534']</td></tr><tr><td><strong>F536</strong></td><td>['536']</td></tr><tr><td><strong>F538</strong></td><td>['538']</td></tr><tr><td><strong>538a</strong></td><td>['538']</td></tr><tr><td><strong>F539</strong></td><td>['539']</td></tr><tr><td><strong>F542</strong></td><td>['542']</td></tr><tr><td><strong>F542A</strong></td><td>['542']</td></tr><tr><td><strong>F543</strong></td><td>['543']</td></tr><tr><td><strong>F544</strong></td><td>['F545', '544']</td></tr><tr><td><strong>F544b</strong></td><td>['F545', '544']</td></tr><tr><td><strong>F545</strong></td><td>['544']</td></tr><tr><td><strong>F734</strong></td><td>['734']</td></tr><tr><td><strong>F540</strong></td><td>['540']</td></tr><tr><td><strong>205A</strong></td><td>['F205']</td></tr><tr><td><strong>F205A</strong></td><td>['F205']</td></tr><tr><td><strong>533</strong></td><td>['F533']</td></tr><tr><td><strong>595</strong></td><td>['FP595']</td></tr><tr><td><strong>49</strong></td><td>['FP49']</td></tr><tr><td><strong>3</strong></td><td>['Mon3']</td></tr><tr><td><strong>2</strong></td><td>['Mon2']</td></tr><tr><td><strong>F78B</strong></td><td>['78']</td></tr><tr><td><strong>223</strong></td><td>['305']</td></tr><tr><td><strong>224 bis</strong></td><td>['224']</td></tr><tr><td><strong>220</strong></td><td>['BH_name_24']</td></tr><tr><td><strong>220 bis</strong></td><td>['BH_name_24']</td></tr><tr><td><strong>304</strong></td><td>['BH_name_23']</td></tr><tr><td><strong>50</strong></td><td>['F24']</td></tr><tr><td><strong>52</strong></td><td>['BH_name_16']</td></tr><tr><td><strong>_214_</strong></td><td>['F214']</td></tr><tr><td><strong>119</strong></td><td>['BH_name_15']</td></tr><tr><td><strong>127</strong></td><td>['implantation geosonda']</td></tr><tr><td><strong>BH_name_1</strong></td><td>['BH_name_28']</td></tr><tr><td><strong>BH_name_3</strong></td><td>['BH_name_26']</td></tr><tr><td><strong>BH_name_25</strong></td><td>['BH_name_27']</td></tr></table>"
      ],
      "text/plain": [
       "<IPython.core.display.HTML object>"
      ]
     },
     "metadata": {},
     "output_type": "display_data"
    }
   ],
   "source": [
    "a = find_borehole_by_position(a, reg_skip='\\d+\\D+', display=True)[1]"
   ]
  },
  {
   "cell_type": "code",
   "execution_count": null,
   "id": "44ff881c",
   "metadata": {},
   "outputs": [],
   "source": [
    "pause"
   ]
  },
  {
   "cell_type": "code",
   "execution_count": null,
   "id": "a1590d70",
   "metadata": {},
   "outputs": [],
   "source": [
    "col = 'X'\n",
    "cols = list(a.columns)\n",
    "cols.remove('ID')\n",
    "cols = ['ID'] + cols\n",
    "dataframe_viewer(a.query(f'{col} != {col}')[cols])"
   ]
  },
  {
   "cell_type": "code",
   "execution_count": null,
   "id": "a2b1e529",
   "metadata": {
    "scrolled": false
   },
   "outputs": [],
   "source": [
    "c = find_borehole_by_position(c, reg_skip='\\d+\\D+', display=False)"
   ]
  },
  {
   "cell_type": "code",
   "execution_count": null,
   "id": "e0252541",
   "metadata": {},
   "outputs": [],
   "source": [
    "c = replicate_values(c, id_col='ID', cols_to_replicate=['X', 'Y', 'Z','Type','Emplacement', 'Date_for'])"
   ]
  },
  {
   "cell_type": "code",
   "execution_count": null,
   "id": "4804bc8b",
   "metadata": {},
   "outputs": [],
   "source": [
    "id_col = 'X'\n",
    "dataframe_viewer(c.query(f'{id_col} != {id_col}'))"
   ]
  },
  {
   "cell_type": "code",
   "execution_count": null,
   "id": "766e513d",
   "metadata": {},
   "outputs": [],
   "source": [
    "data_dict = {'lithologies_data': c}\n",
    "dataframe_viewer(c, rows=5, cols=10)"
   ]
  },
  {
   "cell_type": "code",
   "execution_count": null,
   "id": "2f48c386",
   "metadata": {},
   "outputs": [],
   "source": [
    "q = data_dict['lithologies_data'].query('ID==\"F1\"')\n",
    "dataframe_viewer(q)"
   ]
  },
  {
   "cell_type": "code",
   "execution_count": null,
   "id": "b69c3d9e",
   "metadata": {
    "scrolled": true
   },
   "outputs": [],
   "source": [
    "create_project(data_dict, 'test.db')"
   ]
  },
  {
   "cell_type": "code",
   "execution_count": null,
   "id": "ff9742dd",
   "metadata": {},
   "outputs": [],
   "source": [
    "pause"
   ]
  },
  {
   "cell_type": "code",
   "execution_count": null,
   "id": "445fedee",
   "metadata": {},
   "outputs": [],
   "source": [
    "data_dict = {'lithologies_data': f'{ROOT_DIR}/CF_data/Result_traitem/fusion_finale/Lithologies.csv',\n",
    "             'pollutants_data': f'{ROOT_DIR}/CF_data/Result_traitem/fusion_finale/Samples.csv'}"
   ]
  },
  {
   "cell_type": "code",
   "execution_count": null,
   "id": "d2b8d7c9",
   "metadata": {
    "scrolled": true
   },
   "outputs": [],
   "source": [
    "for k,v in data_dict.items():\n",
    "    data_dict[k] = pd.read_csv(v, sep=',')"
   ]
  },
  {
   "cell_type": "code",
   "execution_count": null,
   "id": "f1d71d90",
   "metadata": {},
   "outputs": [],
   "source": [
    "data_dict['lithologies_data'].loc[125, :]"
   ]
  },
  {
   "cell_type": "code",
   "execution_count": null,
   "id": "ed499273",
   "metadata": {},
   "outputs": [],
   "source": [
    "dataframe_viewer(data_dict['lithologies_data'].query('ID==\"F22\"'))"
   ]
  },
  {
   "cell_type": "code",
   "execution_count": null,
   "id": "09491bb3",
   "metadata": {},
   "outputs": [],
   "source": [
    "data_list = [v for v in data_dict.values()]\n",
    "fdf = pd.DataFrame()\n",
    "for d, data in enumerate(data_list):\n",
    "    t = []\n",
    "    fdf = fdf.append(data)\n",
    "    for k in data.columns:\n",
    "        print(k)\n",
    "        if k in t:\n",
    "            print(k)\n",
    "        else:\n",
    "            t.append(k)\n",
    "    print(fdf.shape)"
   ]
  },
  {
   "cell_type": "code",
   "execution_count": null,
   "id": "2314932d",
   "metadata": {},
   "outputs": [],
   "source": [
    "data_list = [v for v in data_dict.values()]\n",
    "\n",
    "for d, data in enumerate(data_list):\n",
    "    unique_cols = {}\n",
    "    col_idx_drop = {}\n",
    "    for i in range(len(data.columns)):  # locate double columns\n",
    "        c = data.columns[i]\n",
    "        if c not in unique_cols.keys():\n",
    "            unique_cols.update({c: i})\n",
    "        else:\n",
    "            col_idx_drop.update({i: c})\n",
    "\n",
    "    print(d, ':', col_idx_drop)"
   ]
  },
  {
   "cell_type": "code",
   "execution_count": null,
   "id": "0d50f860",
   "metadata": {},
   "outputs": [],
   "source": []
  }
 ],
 "metadata": {
  "kernelspec": {
   "display_name": "Python 3 (ipykernel)",
   "language": "python",
   "name": "python3"
  },
  "language_info": {
   "codemirror_mode": {
    "name": "ipython",
    "version": 3
   },
   "file_extension": ".py",
   "mimetype": "text/x-python",
   "name": "python",
   "nbconvert_exporter": "python",
   "pygments_lexer": "ipython3",
   "version": "3.8.10"
  }
 },
 "nbformat": 4,
 "nbformat_minor": 5
}
