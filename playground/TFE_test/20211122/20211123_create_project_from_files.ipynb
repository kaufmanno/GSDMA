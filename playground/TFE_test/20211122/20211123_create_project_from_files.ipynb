{
 "cells": [
  {
   "cell_type": "code",
   "execution_count": 1,
   "id": "400601b4",
   "metadata": {},
   "outputs": [],
   "source": [
    "import pandas as pd\n",
    "import re\n",
    "import os\n",
    "from sqlalchemy import create_engine\n",
    "from sqlalchemy.orm import sessionmaker\n",
    "\n",
    "from core.orm import Base\n",
    "from core.project import Project\n",
    "from utils.orm import boreholes_from_dataframe\n",
    "from utils.visual import legend_from_attributes\n",
    "from utils.config import DEFAULT_LITHO_LEXICON, DEFAULT_POL_LEXICON, DEFAULT_LITHO_LEGEND, DEFAULT_Z\n",
    "from definitions import ROOT_DIR"
   ]
  },
  {
   "cell_type": "raw",
   "id": "e7f5b410",
   "metadata": {},
   "source": [
    "import os\n",
    "from core.orm import Base\n",
    "from sqlalchemy import create_engine\n",
    "from sqlalchemy.orm import sessionmaker\n",
    "import re\n",
    "from utils.config import WARNING_TEXT_CONFIG, DEFAULT_BOREHOLE_DIAMETER, WORDS_WITH_S\n",
    "from utils.utils import striplog_from_dataframe\n",
    "from utils.visual import get_components, legend_from_attributes\n",
    "from core.orm import BoreholeOrm, PositionOrm, LinkIntervalComponentOrm\n",
    "from striplog import Component, Interval"
   ]
  },
  {
   "cell_type": "code",
   "execution_count": 2,
   "id": "58c35963",
   "metadata": {},
   "outputs": [],
   "source": [
    "from striplog import Striplog, Interval, Component"
   ]
  },
  {
   "cell_type": "code",
   "execution_count": 3,
   "id": "e7273a9f",
   "metadata": {
    "scrolled": true
   },
   "outputs": [
    {
     "data": {
      "image/png": "[encoded data removed]",
      "text/plain": [
       "<Figure size 108x1080 with 1 Axes>"
      ]
     },
     "metadata": {
      "needs_background": "light"
     },
     "output_type": "display_data"
    }
   ],
   "source": [
    "Striplog([Interval(top=0, base=5, components=[])]).plot()"
   ]
  },
  {
   "cell_type": "code",
   "execution_count": 2,
   "id": "8f29d852",
   "metadata": {},
   "outputs": [],
   "source": [
    "def create_project(data_dict, db_name, **kwargs):\n",
    "    for k,v in data_dict.items():\n",
    "        if isinstance(v, str):\n",
    "            data_dict[k] = pd.read_csv(v, sep=',')\n",
    "        elif not isinstance(v, pd.DataFrame):\n",
    "            raise(TypeError(\"data_dict values must be a filename (*.csv) or a dataframe!\"))\n",
    "            \n",
    "    verbose = kwargs.pop('verbose', False)\n",
    "    sample_type_col = kwargs.pop('sample_type_col', 'Type_ech')\n",
    "    diameter_col = kwargs.pop('Diam_for', 0.1) \n",
    "    pollutants = kwargs.pop('pollutants', [])\n",
    "    skip_cols = kwargs.pop('skip_cols', [])\n",
    "    litho_legend = kwargs.pop('litho_legend', DEFAULT_LITHO_LEGEND)\n",
    "    litho_lexicon = kwargs.pop('litho_lexicon', DEFAULT_LITHO_LEXICON)\n",
    "    # pollutants_legend = kwargs.pop('pollutants_legend', DEFAULT_POL_LEGEND)\n",
    "    pollutants_lexicon = kwargs.pop('pollutants_lexicon', DEFAULT_POL_LEXICON)\n",
    "    \n",
    "    r = re.compile(\"samp|pol\", flags=re.I)\n",
    "    r_list = list(filter(r.search, list(data_dict.keys())))\n",
    "    if r_list: key = r_list[0]\n",
    "    if not pollutants and r_list:\n",
    "        for i, c in enumerate(data_dict[key].columns):\n",
    "            if c in pollutants_lexicon.abbreviations.keys() or c in pollutants_lexicon.abbreviations.values():\n",
    "                pollutants.append(c)\n",
    "                \n",
    "    default_z = kwargs.pop('default_z', DEFAULT_Z) \n",
    "    attributes=kwargs.pop('attributes', ['lithology']+pollutants)\n",
    "    legend_dict = legend_from_attributes([('lithology', litho_legend)]+pollutants)\n",
    "    symbols=kwargs.pop('symbols', {'lithology':{'lexicon': litho_lexicon}})\n",
    "    boreholes, components, link_intv_comp = boreholes_from_dataframe(data_dict, verbose=verbose,\n",
    "                                                sample_type_col=sample_type_col, diameter_col=diameter_col, \n",
    "                                                default_z=default_z, attributes=attributes, \n",
    "                                                symbols=symbols, skip_cols=skip_cols)\n",
    "\n",
    "    if os.path.exists(db_name):\n",
    "        os.remove(db_name)\n",
    "\n",
    "    engine = create_engine(f\"sqlite:///{db_name}\", echo=True)\n",
    "    Base.metadata.create_all(engine)\n",
    "    Session = sessionmaker(bind=engine)\n",
    "    session = Session()\n",
    "    p = Project(session, name='Memoris_project', legend_dict=legend_dict, lexicon=DEFAULT_LITHO_LEXICON)\n",
    "    p.add_components(components)\n",
    "    for bh in boreholes:\n",
    "        p.add_borehole(bh)\n",
    "    p.add_link_components_intervals(link_intv_comp)\n",
    "    p.commit()\n",
    "    p.refresh()\n",
    "    session.close()\n",
    "    p.update_legend_cmap(compute_all_attrib=True, verbose=False)\n",
    "    return p"
   ]
  },
  {
   "cell_type": "code",
   "execution_count": 3,
   "id": "60c4141d",
   "metadata": {},
   "outputs": [],
   "source": [
    "from utils.io import dataframe_viewer, replicate_values, dict_viewer, find_borehole_by_position"
   ]
  },
  {
   "cell_type": "raw",
   "id": "e783ecfc",
   "metadata": {},
   "source": [
    "data_dict = {'lithologies_data': f'{ROOT_DIR}/CF_data/Result_traitem/fusion_finale/Lithologies.csv',\n",
    "             'pollutants_data': f'{ROOT_DIR}/CF_data/Result_traitem/fusion_finale/Samples.csv'}"
   ]
  },
  {
   "cell_type": "code",
   "execution_count": 8,
   "id": "096dd6e5",
   "metadata": {},
   "outputs": [],
   "source": [
    "a = pd.read_csv(f'{ROOT_DIR}/CF_data/Result_traitem/fusion_finale/Boreholes.csv', sep=',')\n",
    "lit = pd.read_csv(f'{ROOT_DIR}/CF_data/Result_traitem/fusion_finale/Lithologies.csv', sep=',')\n",
    "sp = pd.read_csv(f'{ROOT_DIR}/CF_data/Result_traitem/fusion_finale/Samples.csv', sep=',')"
   ]
  },
  {
   "cell_type": "code",
   "execution_count": 4,
   "id": "d65c1065",
   "metadata": {},
   "outputs": [],
   "source": [
    "data_dict = {'lithologies_data': pd.read_csv(f'{ROOT_DIR}/CF_data/Result_traitem/fusion_finale/Lithologies.csv', sep=','),\n",
    "             'samples_data': pd.read_csv(f'{ROOT_DIR}/CF_data/Result_traitem/fusion_finale/Samples.csv', sep=',')}"
   ]
  },
  {
   "cell_type": "code",
   "execution_count": 5,
   "id": "ad186ac0",
   "metadata": {},
   "outputs": [],
   "source": [
    "# there are incorrect values in data (coherencies between top/base)\n",
    "data_dict['lithologies_data'].loc[558, 'Litho_base'] = 4.5\n",
    "data_dict['lithologies_data'] = data_dict['lithologies_data'].query('X==X and Y==Y')"
   ]
  },
  {
   "cell_type": "code",
   "execution_count": null,
   "id": "4f03dc9a",
   "metadata": {},
   "outputs": [],
   "source": [
    "create_project(data_dict, 'test.db', skip_cols=['Pol_top', 'Pol_base'])"
   ]
  },
  {
   "cell_type": "code",
   "execution_count": null,
   "id": "621b9f2b",
   "metadata": {},
   "outputs": [],
   "source": [
    "c = data_dict['lithologies_data'].append(data_dict['samples_data'])\n",
    "c.reset_index(drop=True, inplace=True)"
   ]
  },
  {
   "cell_type": "raw",
   "id": "1553ad71",
   "metadata": {},
   "source": [
    "a = replicate_values(a, id_col='ID', suffix=['sup', 'inf', 'prof'], replace_id=True, \n",
    "                     cols_to_replicate=['X', 'Y', 'Z','Type','Emplacement', 'Date_for'])"
   ]
  },
  {
   "cell_type": "code",
   "execution_count": null,
   "id": "a1590d70",
   "metadata": {},
   "outputs": [],
   "source": [
    "col = 'X'\n",
    "cols = list(a.columns)\n",
    "cols.remove('ID')\n",
    "cols = ['ID'] + cols\n",
    "dataframe_viewer(a.query(f'{col} != {col}')[cols])"
   ]
  },
  {
   "cell_type": "code",
   "execution_count": null,
   "id": "a2b1e529",
   "metadata": {
    "scrolled": false
   },
   "outputs": [],
   "source": [
    "c = find_borehole_by_position(c, reg_skip='\\d+\\D+', display=False)"
   ]
  },
  {
   "cell_type": "code",
   "execution_count": null,
   "id": "e0252541",
   "metadata": {},
   "outputs": [],
   "source": [
    "c = replicate_values(c, id_col='ID', cols_to_replicate=['X', 'Y', 'Z','Type','Emplacement', 'Date_for'])"
   ]
  },
  {
   "cell_type": "code",
   "execution_count": null,
   "id": "4804bc8b",
   "metadata": {},
   "outputs": [],
   "source": [
    "id_col = 'X'\n",
    "dataframe_viewer(c.query(f'{id_col} != {id_col}'))"
   ]
  },
  {
   "cell_type": "code",
   "execution_count": null,
   "id": "766e513d",
   "metadata": {},
   "outputs": [],
   "source": [
    "data_dict = {'lithologies_data': c}\n",
    "dataframe_viewer(c, rows=5, cols=10)"
   ]
  },
  {
   "cell_type": "code",
   "execution_count": null,
   "id": "2f48c386",
   "metadata": {},
   "outputs": [],
   "source": [
    "q = data_dict['lithologies_data'].query('ID==\"F1\"')\n",
    "dataframe_viewer(q)"
   ]
  },
  {
   "cell_type": "code",
   "execution_count": null,
   "id": "b69c3d9e",
   "metadata": {
    "scrolled": true
   },
   "outputs": [],
   "source": [
    "create_project(data_dict, 'test.db')"
   ]
  },
  {
   "cell_type": "code",
   "execution_count": null,
   "id": "ff9742dd",
   "metadata": {},
   "outputs": [],
   "source": [
    "pause"
   ]
  },
  {
   "cell_type": "code",
   "execution_count": null,
   "id": "445fedee",
   "metadata": {},
   "outputs": [],
   "source": [
    "data_dict = {'lithologies_data': f'{ROOT_DIR}/CF_data/Result_traitem/fusion_finale/Lithologies.csv',\n",
    "             'pollutants_data': f'{ROOT_DIR}/CF_data/Result_traitem/fusion_finale/Samples.csv'}"
   ]
  },
  {
   "cell_type": "code",
   "execution_count": null,
   "id": "d2b8d7c9",
   "metadata": {
    "scrolled": true
   },
   "outputs": [],
   "source": [
    "for k,v in data_dict.items():\n",
    "    data_dict[k] = pd.read_csv(v, sep=',')"
   ]
  },
  {
   "cell_type": "code",
   "execution_count": null,
   "id": "f1d71d90",
   "metadata": {},
   "outputs": [],
   "source": [
    "data_dict['lithologies_data'].loc[125, :]"
   ]
  },
  {
   "cell_type": "code",
   "execution_count": null,
   "id": "ed499273",
   "metadata": {},
   "outputs": [],
   "source": [
    "dataframe_viewer(data_dict['lithologies_data'].query('ID==\"F22\"'))"
   ]
  },
  {
   "cell_type": "code",
   "execution_count": null,
   "id": "09491bb3",
   "metadata": {},
   "outputs": [],
   "source": [
    "data_list = [v for v in data_dict.values()]\n",
    "fdf = pd.DataFrame()\n",
    "for d, data in enumerate(data_list):\n",
    "    t = []\n",
    "    fdf = fdf.append(data)\n",
    "    for k in data.columns:\n",
    "        print(k)\n",
    "        if k in t:\n",
    "            print(k)\n",
    "        else:\n",
    "            t.append(k)\n",
    "    print(fdf.shape)"
   ]
  },
  {
   "cell_type": "code",
   "execution_count": null,
   "id": "2314932d",
   "metadata": {},
   "outputs": [],
   "source": [
    "data_list = [v for v in data_dict.values()]\n",
    "\n",
    "for d, data in enumerate(data_list):\n",
    "    unique_cols = {}\n",
    "    col_idx_drop = {}\n",
    "    for i in range(len(data.columns)):  # locate double columns\n",
    "        c = data.columns[i]\n",
    "        if c not in unique_cols.keys():\n",
    "            unique_cols.update({c: i})\n",
    "        else:\n",
    "            col_idx_drop.update({i: c})\n",
    "\n",
    "    print(d, ':', col_idx_drop)"
   ]
  },
  {
   "cell_type": "code",
   "execution_count": null,
   "id": "0d50f860",
   "metadata": {},
   "outputs": [],
   "source": []
  }
 ],
 "metadata": {
  "kernelspec": {
   "display_name": "Python 3 (ipykernel)",
   "language": "python",
   "name": "python3"
  },
  "language_info": {
   "codemirror_mode": {
    "name": "ipython",
    "version": 3
   },
   "file_extension": ".py",
   "mimetype": "text/x-python",
   "name": "python",
   "nbconvert_exporter": "python",
   "pygments_lexer": "ipython3",
   "version": "3.8.10"
  }
 },
 "nbformat": 4,
 "nbformat_minor": 5
}
