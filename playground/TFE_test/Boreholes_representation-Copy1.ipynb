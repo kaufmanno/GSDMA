{
 "cells": [
  {
   "cell_type": "markdown",
   "metadata": {},
   "source": [
    "# Example of using the Borehole3D class"
   ]
  },
  {
   "cell_type": "markdown",
   "metadata": {},
   "source": [
    "## Imports"
   ]
  },
  {
   "cell_type": "code",
   "execution_count": 1,
   "metadata": {},
   "outputs": [],
   "source": [
    "from striplog import Component, Decor, Legend, Lexicon, Striplog\n",
    "from core.omf import Borehole3D, striplog_legend_to_omf_legend \n",
    "from utils.lexicon import Lexicon_FR_updated as lexicon_fr\n",
    "from utils.io import boreholes_from_files, gdf_viewer\n",
    "from core.core import Project\n",
    "from core.orm import BoreholeOrm, PositionOrm, Base \n",
    "\n",
    "import matplotlib.pyplot as plt\n",
    "from os import remove\n",
    "import pandas as pd\n",
    "import numpy as np\n",
    "from sqlalchemy import create_engine\n",
    "from sqlalchemy.orm import sessionmaker\n",
    "from definitions import ROOT_DIR"
   ]
  },
  {
   "cell_type": "markdown",
   "metadata": {},
   "source": [
    "## Reading of CSV files in a dir"
   ]
  },
  {
   "cell_type": "code",
   "execution_count": 2,
   "metadata": {},
   "outputs": [],
   "source": [
    "save_dir = ROOT_DIR+'/CF_data/Donnees_fusionnees/'"
   ]
  },
  {
   "cell_type": "code",
   "execution_count": 3,
   "metadata": {},
   "outputs": [],
   "source": [
    "df = pd.read_csv(save_dir+'Pilote_test.csv', sep=',')"
   ]
  },
  {
   "cell_type": "code",
   "execution_count": 4,
   "metadata": {},
   "outputs": [
    {
     "name": "stdout",
     "output_type": "stream",
     "text": [
      "Rows : 86, columns : 10\n"
     ]
    },
    {
     "data": {
      "application/vnd.jupyter.widget-view+json": {
       "model_id": "9d81eeff3c45441da2e7bcc1056f7caf",
       "version_major": 2,
       "version_minor": 0
      },
      "text/plain": [
       "interactive(children=(IntSlider(value=10, description='rows', max=86, min=10, readout=False), IntSlider(value=…"
      ]
     },
     "metadata": {},
     "output_type": "display_data"
    }
   ],
   "source": [
    "gdf_viewer(df)"
   ]
  },
  {
   "cell_type": "markdown",
   "metadata": {},
   "source": [
    "## Data Checking"
   ]
  },
  {
   "cell_type": "raw",
   "metadata": {},
   "source": [
    "df.drop('Z', axis='columns', inplace=True)\n",
    "df.rename({'new_Z':'Z'}, axis='columns', inplace=True)"
   ]
  },
  {
   "cell_type": "raw",
   "metadata": {},
   "source": [
    "df.loc[df.query('Colour==\"tan\"').index, 'Colour'] = 'green' # use simple colour"
   ]
  },
  {
   "cell_type": "code",
   "execution_count": 5,
   "metadata": {},
   "outputs": [],
   "source": [
    "df.drop(index=df.query('X!=X').index, inplace=True)"
   ]
  },
  {
   "cell_type": "raw",
   "metadata": {},
   "source": [
    "df.loc[1, 'Description'] ='Sable rouge'"
   ]
  },
  {
   "cell_type": "code",
   "execution_count": 6,
   "metadata": {},
   "outputs": [
    {
     "data": {
      "text/html": [
       "<div>\n",
       "<style scoped>\n",
       "    .dataframe tbody tr th:only-of-type {\n",
       "        vertical-align: middle;\n",
       "    }\n",
       "\n",
       "    .dataframe tbody tr th {\n",
       "        vertical-align: top;\n",
       "    }\n",
       "\n",
       "    .dataframe thead th {\n",
       "        text-align: right;\n",
       "    }\n",
       "</style>\n",
       "<table border=\"1\" class=\"dataframe\">\n",
       "  <thead>\n",
       "    <tr style=\"text-align: right;\">\n",
       "      <th></th>\n",
       "      <th>ID</th>\n",
       "      <th>Ep_litho</th>\n",
       "      <th>X</th>\n",
       "      <th>Y</th>\n",
       "      <th>Z</th>\n",
       "      <th>Long_for</th>\n",
       "      <th>Litho_base</th>\n",
       "      <th>Litho_top</th>\n",
       "      <th>Diam_for</th>\n",
       "      <th>Description</th>\n",
       "    </tr>\n",
       "  </thead>\n",
       "  <tbody>\n",
       "    <tr>\n",
       "      <th>0</th>\n",
       "      <td>201</td>\n",
       "      <td>0.6</td>\n",
       "      <td>152890.245758</td>\n",
       "      <td>122596.47426</td>\n",
       "      <td>101.926886</td>\n",
       "      <td>2.4</td>\n",
       "      <td>1.2</td>\n",
       "      <td>0.6</td>\n",
       "      <td>75.0</td>\n",
       "      <td>Remblais avec briques de construction couleur ...</td>\n",
       "    </tr>\n",
       "    <tr>\n",
       "      <th>1</th>\n",
       "      <td>201</td>\n",
       "      <td>1.2</td>\n",
       "      <td>152890.245758</td>\n",
       "      <td>122596.47426</td>\n",
       "      <td>101.926886</td>\n",
       "      <td>2.4</td>\n",
       "      <td>2.4</td>\n",
       "      <td>1.2</td>\n",
       "      <td>75.0</td>\n",
       "      <td>Briquaille de déchets de construction et galet...</td>\n",
       "    </tr>\n",
       "  </tbody>\n",
       "</table>\n",
       "</div>"
      ],
      "text/plain": [
       "    ID  Ep_litho              X             Y           Z  Long_for  \\\n",
       "0  201       0.6  152890.245758  122596.47426  101.926886       2.4   \n",
       "1  201       1.2  152890.245758  122596.47426  101.926886       2.4   \n",
       "\n",
       "   Litho_base  Litho_top  Diam_for  \\\n",
       "0         1.2        0.6      75.0   \n",
       "1         2.4        1.2      75.0   \n",
       "\n",
       "                                         Description  \n",
       "0  Remblais avec briques de construction couleur ...  \n",
       "1  Briquaille de déchets de construction et galet...  "
      ]
     },
     "execution_count": 6,
     "metadata": {},
     "output_type": "execute_result"
    }
   ],
   "source": [
    "df.query('ID==\"201\"')"
   ]
  },
  {
   "cell_type": "markdown",
   "metadata": {},
   "source": [
    "## Create Boreholes from dataframes or files"
   ]
  },
  {
   "cell_type": "code",
   "execution_count": 7,
   "metadata": {},
   "outputs": [
    {
     "data": {
      "text/plain": [
       "{'lithology': ['overburden', 'sandstone', 'siltstone', 'shale', 'conglomerate', 'mudstone', 'limestone', 'dolomite', 'salt', 'halite', 'anhydrite', 'gypsum', 'sylvite', 'clay', 'mud', 'silt', 'sand', 'gravel', 'boulders'], 'modifier': ['silty', 'sandy', 'shale?y', 'muddy', 'pebbly', 'gravell?y'], 'amount': ['streaks?', 'veins?', 'stringers?', 'interbed(?:s|ded)?', 'blotch(?:es)?', 'bands?', 'fragments?', 'impurit(?:y|ies)', 'abundant', 'minor', 'some', 'rare', 'flakes?', 'trace', '[-.\\\\d]+%', '[-.\\\\d]+pc', '[-.\\\\d]+per ?cent'], 'grainsize': ['vf(?:-)?', 'f(?:-)?', 'm(?:-)?', 'c(?:-)?', 'vc', 'very fine(?: to)?', 'fine(?: to)?', 'medium(?: to)?', 'coarse(?: to)?', 'very coarse', 'v fine(?: to)?', 'med(?: to)?', 'med.(?: to)?', 'v coarse', 'grains?', 'granules?', 'pebbles?', 'cobbles?', 'boulders?'], 'colour': ['red(?:dish)?', 'gray(?:ish)?', 'grey(?:ish)?', 'black(?:ish)?', 'whit(?:e|ish)', 'blu(?:e|ish)', 'purpl(?:e|ish)', 'yellow(?:ish)?', 'green(?:ish)?', 'brown(?:ish)?', 'light', 'dark', 'sandy'], 'synonyms': {'Overburden': ['Drift'], 'Anhydrite': ['Gypsum'], 'Salt': ['Halite', 'Sylvite']}, 'splitters': [' with ', ' contain(?:s|ing) ', '\\\\. '], 'parts_of_speech': {'noun': ['lithology'], 'adjective': ['colour', 'grainsize', 'modifier'], 'subordinate': ['amount']}, 'abbreviations': {'gt': 'gritty', 'dist': 'distillate', 'gr': 'grained', 'LSD': 'legal subdivision', 'ptg': 'parting', 'alg': 'algal', 'mnr': 'minor', 'Assem': 'Assem', 'Vad': 'vadose', 'MCW': 'mud cut water', 'Pch': 'patch', 'gd': 'good', '/': 'with', 'ga': 'gauged', 'bulb': 'bulbous', 'Var': 'variation', 'gn': 'green', 'alt': 'altering', 'Gil': 'gilsonite', 'Oyst': 'oyster', 'sch': 'schist', 'Clst': 'claystone', 'ves': 'vesicular', 'Nod': 'nodules', 'tt': 'tightly', 'V.P.S.': 'very poor sample V.P.S.', 'asph': 'asphaltic', 'SIP': 'shut in pressure', 'tn': 'tan', 'G&OCM': 'gas and oil cut mud', 'DI': 'dual induction log', 'Mol': 'mollusca', 'Inoc': 'inoceramus*', 'spec': 'speckled', '@': 'at', 'Amph': 'amphipora*', 'vert': 'vertical', 'lrg': 'larger', 'md': 'muddy', 'wthrd': 'weathered', 'Brec': 'breccia', 'D & A': 'dry and abandoned', 'fau': 'fauna', 'depau': 'depauperate', 'shad': 'shadow', 'DF': 'derrick floor', 'gy': 'gray', 'Elev': 'elevation', 'indst': 'indistinct', 'Syring': 'syringopora*', 'fac': 'faceted', 'GL': 'guard log', 'brhg': 'branching', 'Gt': 'grit', 'Gr': 'grains', 'FIt': 'fault', 'Tas': 'tasmanites*', 'Spr': 'spore', 'fenst': 'fenestral', 'plag': 'plagioclase', 'p': 'poorly', 'Spk': 'speck', 'Spl': 'sampole', 'SNP': 'sidewall neutron porosity log', 'n.s.': 'no sample', 'Clcar': 'calcarenite', 'pbl': 'pebble (4-64 mm)', 'cmt': 'cemented', 'Spg': 'sponge', 'Grv': 'gravel', 'Cyp': 'cypridopsis*', 'Grt': 'granite', 'SP': 'spontaneous potential', 'Res': 'residue', 'Bioh': 'bioherm', 'Biost': 'biostrom', 'tex': 'texture', 'Brach': 'brachiopod', 'hydc': 'hydrocarbon', 'Ren': 'renalcis*', 'Biot': 'biotite', 'Peld': 'pelletoid', 'Bld': 'boulder', 'ter': 'terriginous', 'splty': 'splintery', 'acic': 'acicular', 'sug': 'sugary', 'bdd': 'bedded', 'bdg': 'bedding', 'gl': 'glassy', 'abd': 'abundant', 'Intst': 'intersticies', 'Micr': 'micrite', 'O str': 'Ostracod', 'Clcsp': 'calcisphere', 'bl': 'bluish', 'abs': 'absent', 'abt': 'about', 'conspic': 'conspicuous', 'Spfool': 'superficial olite', 'sli': 'slightly', 'med': 'medium', 'O&SW': 'oil and salt water', 'biocl': 'bioclastic', 'Agg': 'aggregate', 'DST': 'drill stem test', 'Mn': 'manganese', 'psdo': 'pseudo', 'len': 'lentilcular', 'rug': 'rugosa', 'Wd': 'wood', 'hkl': 'hackly', 'DLL': 'dual laterolog', 't.s.': 'thin section', 'Mtrx': 'matrix', 'crpxln': 'crystocrystalline', 'Zn': 'zone', 'Anthr': 'anthracite', 'altg': 'alternating', 'blksh': 'blackish', 'bor': 'boreding', 'dru': 'drusy', 'ctd': 'coated', 'Conc': 'concretion', 'wtr cush': 'water cushion', 'ctc': 'contact', 'micropor': 'microporosity', 'Zr': 'zircon', 'Cono': 'conodont', 'sft': 'soft', 'Piso': 'pisoid', 'LL': 'laterolog', 'lmn': 'limonitic', 'volc': 'volcanics', 'Ctgs': 'cuttings', 'apr': 'apparent', 'tr': 'trace', 'app': 'appear', 'brt': 'bright', 'ls': 'limestone', 'Slt': 'silt', 'Circ': 'circulate', 'aph': 'aphanitic', 'oomol': 'oomoldic', 'brk': 'brackish', 'vit': 'vitreous', 'org': 'organic', 'n.v.p.': 'no visible porosity', 'w/': 'with', 'brd': 'bored', 'intxln': 'intercrystalline', 'Para': 'paraparchites*', 'Fp': 'flowing pressure', 'Ft': 'foot', 'perf': 'perforated', '&': 'and', 'fen': 'fenestraal', 'pred': 'predominantly', 'Phlog': 'phloaopite', 'perm': 'permeability', 'fibr': 'fibrous', 'msm': 'metasomatic', 'cht': 'chert', 'Fe': 'iron-ferruginous', 'dns': 'denser', 'vi': 'violet', 'fros': 'frosted', 'calc': 'calcitareous', 'Fm': 'formation', 'pres': 'preservation', 'cntrt': 'contorted', 'wvy': 'wavy', 'vps': 'very poor samples', 'ooc': 'oocastic', 'musc': 'muscovite', 'glas': 'glassy', 'Sh': 'shale', 'lchd': 'leached', 'rhb': 'rhombic', 'glau': 'glauconitic', 'Brac': 'brachiopod', 'choc': 'chocolate', 'chit': 'chitinous', 'Str': 'structure', 'Sl': 'slate', 'clus': 'cluster', 'Sa': 'salt', 'Cmt': 'cement', 'lmpy': 'lumpy', 'Sd': 'sand', 'intrapar': 'intraparticle', 'phos': 'phosphatic', 'prly': 'pearly', 'Lstr': 'lustre', 'tns': 'tension', 'f': 'finely', 'fls': 'flesh', 'des': 'descript', 'SW': 'salt water', 'flt': 'faulted', 'Cbl': 'cobble', 'plty': 'platy', 'lithgr': 'lithographic', 'flk': 'flake', 'W.R.': 'washed residue', 'SO': 'show of oil', 'v': 'very', 'deb': 'debris', 'slty': 'silty', 'fld': 'feldsparthic', 'flg': 'flaggy', 'ptch': 'patches', 'Lig': 'lignite', 'mica': 'micaeous', 'bent': 'bentonitic', 'Min': 'mineral', 'sy-Ca': 'sparry calcite', 'Lim': 'limonite', 'Invtb': 'invertebrate', 'sps': 'sparsly', 'Mid': 'middle', 'yelsh': 'ish', 'sph': 'spherules', 'spl': 'sample', 'Ls': 'limestone', 'tab': 'tabular', 'Plcy': 'palecypod', 'scat': 'scattered', 'psool': 'pseudo oolitic', 'GR': 'gamma ray', 'spsly': 'sparsly', 'Bdeye': 'birdseye', 'purp': 'purple', 'Pyr': 'pyrite', 'hom': 'homogeneous', 'Kao': 'kaolin', 'Spic': 'spicule', 'hor': 'horizontal', 'Belm': 'belemnites*', 'sid': 'sideritic', 'aft': 'after', 'Rhb': 'rhomb', 'Typ': 'type', 'sim': 'similar', 'sil': 'siliceous', 'frag': 'fragmental', 'lam': 'laminated', 'fr': 'fair', 'mar': 'maroon', 'frac': 'fractured', 'srt': 'sorting', 'Dol': 'dolomite', 'I.P.': 'in part', 'cpct': 'compact', 'max': 'maximum', 'insl': 'insoluble', 'lac': 'lacustrine', 'Mrl': 'marl', 'mag': 'magnetic', 'Ctc': 'contact', 'ireg': 'irregular', 'lav': 'lavender', 'IAB': 'initial air blow', 'fl': 'filled', 'Tril': 'trilobite', 'Foram': 'foraminifera', 'MMCFG': 'million cubic feet of gas', 'Clvg': 'cleavage', 'Alg': 'algal', 'sp': 'spotty', 'Deer': 'decrease', 'Microspr': 'microspar', 'su': 'sulphurous', 'or': 'orangish', 'strk': 'streaked', 'stri': 'striated', 'sh': 'shale', 'Moll': 'mollusc', 'spkld': 'speckled', 'sm': 'smooth', 'sl': 'slightly', 'sc': 'scales', 'sb': 'sub', 'sa': 'salt', 'strg': 'stringer', 'Trip': 'tripoli', 'Equiv': 'equivalent', 'lse': 'loose', 'mnut': 'minute', 'BHCS': 'bore hole compensated sonic', 'Cal': 'caliper', 'Chk': 'chalk', 'Biomi': 'biomicrite', 'brit': 'brittle', 'coln': 'colonial', 'Smwt': 'somewhat', 'Rf': 'reef', 'Cht': 'chert', '(D)': 'development', 'decr': 'decreasing', 'Rk': 'rock', 'RT': 'rotary table', 'fis': 'fissile', 'cln': 'clean', 'xl': 'crystalline', 'cbl': 'cobble (64-256 mm)', 'Aglm': 'agglomerate', 'Evap': 'evapourite', 'sa-c': 'salt castic', 'fib': 'fibrous', 'imp': 'impression', 'lt': 'lighter', 'eux': 'euxinic', 'cren': 'crenulated', 'gty': 'gravity', 'dess': 'dessiccation', 'clr': 'clear', 'TSTM': 'too small to measure', 'Bas': 'basalt', 'Shw': 'show', 'nod': 'nodule', 'uncons': 'unconsolidated', 'rexl': 'recrystallization', 'Cav': 'cavernous', 'FAB': 'fair air blow', 'aprox': 'approximately', '₵': 'core', 'Schm': 'schist', 'Shl': 'shell', 'xln': 'crystalline', 'Rad': 'radial', 'Oomol': 'oomold', 'Dist': 'distillate', 'extr': 'extremely', 'l': 'lower', 'Anhy': 'anhydrite', 'intv': 'interval', 'Stach': 'stachyodes*', 'crpxl': 'cryptocrystalline', 'Poln': 'pollen', 'Chtz': 'chitinozoa', 'MCFG': 'thousand cubic feet of gas', 'frmwk': 'framework', 'Lith': 'lithology', 'Macrofos': 'macrofossil', 'prphy': 'porphyry', 'Lut': 'lutite', 'OFM': 'oil flecked mud', 'Asph': 'assemblage', 'intpar': 'interparticle', 'Perm': 'permeability', 'Bdst': 'boundstone', 'chty': 'cherty', 'meta': 'metamorphic', 'ex': 'excellent', 'hrtl': 'horizontal', 'p-p': 'pin point', 'zeo': 'zeolite', 'n/s': 'no show', 'nac': 'nacerous', 'Wtr': 'water', 'apprx': 'approximate', 'rr': 'rare', 'Musc': 'muscovite', 'intclas': 'intraclastic', 'rep': 'replacedment', 'porcel': 'porcelaneous', 'BOPH': 'barrels of oil per hour', 'rd': 'rounded', 'rf': 'reefoid', 'sml': 'small', 'blk': 'black', 'IP': 'initial production', 'bld': 'bladed', 'Tub': 'tube', 'Pisol': 'pisolite', 'mtx': 'matrix', 'lmy': 'limy', 'Phos': 'phosphate', 'crd': 'cored', 'G': 'gas', 'Spo': 'spore', 'GCM': 'gas cut mud', 'SGCM': 'slight gas cut mud', 'OWWO': 'old well worked over', 'Novac': 'novaculite', 'rhmb': 'rhombic', 'argl': 'argillate', 'W': 'west', 'carb': 'carbonaceous', 'Frac': 'fracture', 'freq': 'frequent', 'ES': 'electric', 'Pyrxn': 'pyroxene', 'g': 'good', 'Contam': 'contamination', 'srtg': 'Sorteding', 'Chal': 'chalcedony', 'fspr': 'feldsparathic', 'Char': 'charophyte', 'SSO': 'slight show of oil', 'Hyde': 'hydrocarbon', 'w': 'well', 'intgn': 'inter grown', 'vrtb': 'vertebrate', 'Sphal': 'sphalerite', 'intpt': 'interpretation', 'cche': 'caliche', 'Frg': 'fringe', 'sacc': 'saccharoidal', 'onc': 'oncolites', 'Slick slick': 'slickenside', 'Diagn': 'diagenesis', 'zn': 'zone', 'Imp': 'impression', 'sblit': 'sublithic', 'Prod': 'production', 'Incl': 'inclusion', 'Frag': 'fragment', 'sphal': 'sphalerite', 'Iran': 'granule', 'dtrl': 'detritalus', 'wthd': 'weathered', 'WCM': 'water cut mud', 'GCW': 'gas cut water', 'Pet': 'petroleum', 'Microstyl': 'microstylolite', 'Volc': 'volcanic', 'BWPH': 'barrels of water per hour', 'thru': 'throughout', 'intcl': 'intraclasts', 'Biosp': 'biosparite', 'Girv': 'girvanella*', 'OWDD': 'oil well drilled deeper', 'consol': 'consolidated', 'Fus': 'fusulinid', 'sz': 'size', 'grysh': 'greyish', 'mrlst': 'marlstone', 'Strk': 'streak', 'SGCW': 'slight gas cut water', 'crnk': 'crinkled', 'Rbl': 'rubble', 'Fuc': 'fucoid', 'bdeye': 'birdseye', 'gyp': 'gypsumiferous', 'orng': 'orange', 'Endo': 'endothyra*', 'BHFP': 'bottom hole flow pressure', 'Xl': 'crystal', 'stn': 'staining', 'Qtz': 'quartz', 'csg': 'casing', 'Chlor': 'chlorite', 'r': 'rare', 'mky': 'milky', 'str': 'streak', 'Onc': 'oncolite', 'Btm': 'bottom', 'Slst': 'siltstone', 'dissem': 'disseminated', 'spr': 'sparry', 'Pap': 'paper', 'grnt': 'granite', 'Par': 'particle', 'ang': 'angular', 'Descr': 'description', 'intgwn': 'intergrown', 'Stylio': 'styliolina*', 'Intclas': 'intraclast', 'Rem': 'remains', 'chlor': 'chlorite', 'euhd': 'euhedral', 'Pend': 'pendularous', 'Rec': 'recovery', 'grnl': 'granule (2-4 mm)', 'Calc': 'calcite', 'p.d': 'pressure deformation', 'recem': 'recemented', 'strgr': 'stringer', 'lig': 'lignitic', 'Glauc': 'glauconite', 'intbd': 'interbedded', 'lim': 'itic', 'mic': 'micro', 'Db': 'diabase', 'Port por': 'porosity', 'Ech': 'echinoid', 'lit': 'lithic', 'Fluor': 'fluoresceince', 'vrvd': 'varved', 'Arag': 'aragonite', 'vgt': 'varigated', 'Clus': 'cluster', 'mot': 'mottled', 'surf': 'surface', 'pos': 'possibility', 'plas': 'plastic', 'pyr': 'pyritized', 'In': 'inch', 'kao': 'kaolin', 'Orbit': 'Orbitolina', 'MLL': 'microlaterolog', 'sdy': 'sandy', 'Mic': 'micaceous', 'Plt': 'plant', 'assoc': 'associated', 'rthy': 'earthy', 'Ivan': 'ivanovia*', 'suc': 'sucrosic', 'intercal': 'intercalated', 'glos': 'glossy', 'typ': 'typical', 'abv': 'above', 'MCO': 'mud cut oil', 'Unconf': 'unconformity', 'Bent': 'bentonite', 'dol': 'dolomitic', 'dom': 'dominant', 'flor': 'fluorescence', 'sltst': 'siltstone', 'brec': 'brecciated', 'Stri': 'striae', 'dism': 'disseminated', 'BHT': 'bottom hole temperature', 'exv': 'extrusive', 'Pol': 'polish', 'GTS': 'gas to surface', 'Mbr': 'member', 'exp': 'exposed', 'Pybit': 'pyrobitumen', 'a.a.': 'same as above sample', 'intlam': 'interlaminated', 'sd': 'sand (1/16-2 mm)', 'Rpl': 'ripple', 'dend': 'dendritic', 'pkr': 'packer', 'drlg': 'drilling', 'Spher': 'spherule', 'Hal': 'halitiferous', 'lstr': 'lustre', 'Exclas': 'extraclast', 'ML': 'microlog, minilog', 'anhy': 'anhydritic', 'drlr': 'driller', 'Rud': 'rudist', 'grapst': 'grapestone', 'Bubl': 'bubble', 'pris': 'prismatic', 'Bnd': 'band', 'och': 'ochre', 'spher': 'spherulitic', 'Jt': 'joint', 'occ': 'occasional', 'Wl': 'well', 'varic': 'varicolored', 'intrlam': 'interlaminated', 'O&G': 'oil and gas', 'mnrl': 'mineralized', 'Shlt por': 'shelter porosity', 'AOF': 'absolute open flow', 'Gyp': 'gypsumiferous', 'Bit': 'bitumen', 'Gast': 'gastropod', 'Pst': 'pumice-stone', 'PB': 'plugged back', 'Stromlt': 'stromatolite', 'BO': 'barrels of oil', 'dk': 'darker', 'CN': 'compensated neutron', 'KB': 'kelly bushing', 'dd': 'dead', 'Intvl': 'interval', 'stromlt': 'stromatolite', 'Fspr': 'feldspar', 'Milid': 'miliolid', 'cotg': 'coateding', 'cotd': 'coateding', 'repl': 'replacement', 'slily': 'slightly', 'struc': 'structure', 'SO&G': 'show of oil and gas', 'gen': 'generally', 'hetr': 'heterogeneous', 'crs': 'coarse', 'bar': 'baritic', 'bas': 'basaltic', '(W)': 'wildcat', 'shy': 'shaly', 'FDL': 'formation density log', 'w/o': 'without w/o', 'BW': 'barrels of water', 'rsns': 'resinous', 'PL': 'proximity log', 'gran': 'granular', 'BWPD': 'barrels of water per day', 'x': 'cross', 'grad': 'grading', 'Qtzt': 'quartzite', 'crm': 'cream', 'res': 'residuual', 'Pt': 'part', 'OTD': 'old total depth', 'contam': 'contaminated', 'S.W.C.': 'sidewall core', 'qtz': 'quartz', 'magnt': 'magnetite', 'Pel': 'pellet', 'num': 'numerous', 'sec': 'secondary', 'fnly': 'finly', 'arg': 'argillaceous', 'ark': 'arkosic', 'rmn': 'remainant', 'prim': 'primary', 'volat': 'volatile', 'SOCW': 'slight oil cut water', 'piso': 'pisolitic', 'pkish': 'pinkish', 'metaph': 'metamorphosed', 'trnsp': 'transparent', 'irr': 'irregular', 'hornbd': 'hornblend', \"'' or do\": 'ditto', 'biost': 'biostromal', 'gept': 'geopetal', 'trnsl': 'translucent', 'PD': 'per day', 'PH': 'per hour', 'SO&W': 'show of oil and water', 'Vnlet': 'veinlet', 'Tham': 'thamnopora*', 'wg': 'vuggy', 'C': 'coal', 'men': 'meniscus', 'exclas': 'extraclastic', 'lg': 'long', 'jt': 'jointing', 'comp': 'completion', 'gnsh': 'greenish', 'wk': 'weak', 'wi': 'with', 'wh': 'white', 'Exv': 'extrusive rock', 'S': 'sonic, acoustilog', 'magn': 'magnetic', 'gywk': 'graywacke', 'G.W.': 'granite wash', 'Satm sat': 'saturation', 'tub': 'tubular', 'tuf': 'tuffaceous', 'coq': 'coquina', 'vug': 'vugular', 'c': 'coarsely', 'fnt': 'faintly', 'dkr': 'darker', 'cov': 'covered', 'conch': 'conchoidal', 'intgran': 'intergranular', 'SI': 'shut in', 'Chit': 'chitinous', 's': 'small', 'Meta': 'metamorphic rock', 'Sst': 'sandstone', 'brak': 'brackish', 'uni': 'uniform', 'com': 'common', 'cotd gn': 'coated grains', 'Het': 'Heterostegina', 'foram': 'foraminiferal', 'chky': 'chalky', 'cl': 'clastic', 'cb': 'carbonized', 'Glas': 'glass', 'rad': 'radiating', 'poly': 'polygonal', 'hvy': 'heavy', 'pol': 'polished', 'Pent': 'pentamerus*', 'Hem': 'hematite', 'tgh': 'tough', 'cp': 'compare', 'Surf': 'surface', 'ps': 'pseudo-', 'frg': 'fringing', 'pt': 'partly', 'Bur': 'burrow', 'fri': 'friable', 'blsh': 'bluish', 'pch': 'patchy', 'stmg': 'streaming', 'frs': 'fresh', 'skel': 'skeletal', 'pyrbit': 'pyrobitumen', 'pk': 'pink', 'devit': 'devitrified', 'authg': 'authigenic', 'pl': 'plant', 'cly': 'clayey', 't.b.': 'thin-bedded', 'Tr': 'trace', 'IES': 'induction electric', 'WAB': 'weak air blow', 'lge': 'large', 'spic': 'spicular', 'psi': 'pounds per square inch', 'crbnt': 'carbonate', 'Tp': 'top', 'Pkst': 'packstone', 'Sedm': 'sediment', 'Cont': 'content', 'xbdg': 'cross-bedding', 'gns': 'gneiss', 'micgr': 'micrograined', 'Cl': 'clay', 'slt': 'silt', 'vcol': 'varicolored', 'undly': 'underlying', 'grnt.w': 'granite wash', 'n': 'no, none, non', 'contm': 'contaminated', 'sln': 'solution', 'rbl': 'rubblbly', 'fuc': 'fucoidal', 'Intr': 'intrusive', 'cvg': 'cavings', 'k': 'permeabilityable', 'slb': 'slabby', 'FTAB': 'faint air blow', 'DIL': 'dual induction laterolog', 'pyrcl': 'pyroclastic', 'cons': 'considerable', 'rndd': 'rounded', 'bot': 'botryoidal', 'Sel': 'selenite', 'vn': 'vein', 'Tf': 'tuffaceous', 'styl': 'stylotitic', 'conc': 'concretionary', 'mott': 'mottled', 'xlam': 'cross-laminated', 'x-strat': 'cross-stratified', 'Strom': 'stromatoporoid', 'ig': 'igneous', 'pap': 'papery', 'incr': 'increasing', 'litt': 'littoral', 'intstl': 'interstitial', 'bioturb': 'bioturbated', 'PPM': 'parts per million', 'GAP': 'good air blow', 'Repl': 'replaced', 'lith': 'lithographic', 'elong': 'elongate', 'Chara': 'charophytes', 'sat': 'saturated', 'incl': 'inclusion', 'Coq': 'coquina', 'Vug': 'vug', 'Cor': 'coral', 'intst': 'intersticitial', 'cncn': 'concentric', 'rng': 'range', 'orth': 'orthoclase', 'rdsh': 'redish', 'syn': 'syntaxial', 'Microfos': 'microfossilferous', 'phr': 'phreatic', 'Wkst': 'wackestone', 'pisol': 'pisolitic', 'Col': 'color', 'Jasp': 'jasper', 'Mat': 'material', 'Mbl': 'marble', 'intxl': 'intercrystalline', 'detr': 'detrital', 'sed': 'sedimentary', 'x-bd': 'cross-bedded', 'gsy': 'grasy', 'OWPB': 'oil well plugged back', 'min': 'mineralized', 'Sol': 'Soution', 'Vn': 'vein', 'col': 'colored', 'x-lam': 'cross-laminated', 'thn': 'thin', 'thk': 'thick', 'fltg': 'floating', 'Ig': 'igneous rock', 'imbd': 'imbedded', 'ck': 'choke', 'BHP': 'bottom hole pressure', 'yel': 'yellow', 'Orth': 'orthoclase', 'sptd': 'spottedy', 'spty': 'spottedy', 'Sphaer': 'sphaerocodium*', 'Pbl': 'pebble', 'intfrag': 'interfragmental', 'Scaph': 'scaphopod', 'resd': 'residual', 'Bd': 'bed', 'Fe-mag': 'ferro-magnesian', 'sks': 'slickensided', 'rexlzd': 'recrystallized', 'Bm': 'basement', 'Glob': 'globigerina*', 'elg': 'elongate', 'unident': 'unidentifiable', 'Fau': 'fauna', 'Gal': 'galeolaria*', 'cub': 'cubic', 'Fac': 'facet', 'Glos': 'gloss', 'Gab': 'gabbro', 'bnd': 'banded', 'Oo': 'ooid', 'Gns': 'gneiss', 'amb': 'amber', 'strat': 'strataified', 'amm': 'ammonite', 'vis': 'visible', 'mos': 'mosaic', 'por': 'poroussity', 'uncons.': 'unconsolidated', 'embd': 'embedded', 'Dia': 'diameter', 'rnd': 'rounded', 'sbang': 'subangular', 'cntr': 'centered', 'mol': 'moldic', 'Cvg': 'caving', 'bit': 'bitumeninous', 'Micropor': 'micropore', 'S.W.': 'salt water', 'amt': 'amount', 'mod': 'moderate', 'Crin': 'crinoidal', 'Lyr': 'layer', 'brn': 'brown', 'boudg': 'boudinage', 'OC': 'oil cut', 'Microol': 'micro-oolite', 'Ltl': 'little', 'V.op': 'valve open', 'amor': 'amorphous', 'Ark': 'arkose', 'clas': 'clastic', 'Psool': 'pseudo oolite', 'Strat': 'strata', 'Bdg': 'bedding', 'bri': 'bright', 'drsy': 'drusy', 'tstg': 'testing', 'Scol': 'scolecodonts', 'crpld': 'crumpled', 'SOCM': 'slight oil cut mud', 'rec': 'recovered', 'Fvst': 'favosites*', 'sbrndd': 'sub rounded', 'p.p.': 'pin-poin', 'HO': 'heavy oil', 'olv': 'olive', 'Mdst': 'mudstone', 's & p': 'salt and pepper', 'venn': 'vermillon', 'u': 'upper', 'gvl': 'gravel', 'fos': 'fossiliferous', 'pet': 'petroleumiferous', 'Clclt': 'calcilutite', 'OSR': 'oil source rock', 'Len': 'lens', 'pel': 'pellet', 'circ': 'circulation', 'prom': 'prominently', 'fol': 'foliated', 'peld': 'pelletoidal', 'Tent': 'tentaculites*', 'prob': 'probably', 'bd': 'bed', 'flky': 'flaky', 'bf': 'buff', 'LL8': 'laterolog-8', 'cgl': 'conglomerate', 'Gwke': 'graywacke', 'slky': 'silky', 'Grap': 'graptolite', 'Bor': 'bored', 'bo': 'bophaceous', 'Bot': 'botryoid', 'phen': 'phenocrysts', 'posa': 'possible', 'bu': 'buff', 'sel': 'selenite', 'Gran': 'granule', 'r.f.p': 'rounded frosted pitted', 'Clslt': 'calcisiltite', 'ss': 'sandstone', 'Uc': 'underclay', 'oo': 'ooidal', 'GOR': 'gas-to-oil ratio', 'Clcrd': 'calcirudite', 'euhed': 'euhedral', 'Solen': 'solenopora*', 'Euryamph': 'euryamphipora*', 'Ptg': 'parting', 'od': 'odor', 'eqnt': 'equant', 'Ost': 'ostracod', 'o': 'oil', 'Ceph': 'cephalopod', 'irid': 'iridescent', 'ox': 'oxidized', 'Casph': 'calcisphaera*', 'ti': 'tight', 'Foss': 'fossiliferous', 'sept': 'septate', 'marn': 'marine', 'Scs': 'scarce', 'op': 'open', 'chk': 'chalky', 'ahd': 'anhedral', 'Fen': 'fenestra', 'qtzc': 'quartzitic', 'sol': 'solitary', 'corln': 'coralline', 'mas': 'massive', 'ferr': 'ferruginous', 'Cub': 'cube', 'intr': 'intrusionive', 'Chaet': 'chaetetes*', 'OCM': 'oil cut mud', 'qtzs': 'quartzose', 'qtzt': 'quartzite', 'GIP': 'good initial puff', 'loc': 'location', 'blky': 'blocky', 'phyl': 'phyllitic', 'vrtl': 'vertical', 'Ooc': 'oolicast', 'anhed': 'anhedral', 'aren': 'arenaceous', 'Ool': 'oolite', 'bioh': 'biohermal', 'diagn': 'diagenesisetic', 'Pelec': 'pelecypod', 'biot': 'biotite', 'abnt': 'abundant', 'var': 'variable', 'hem': 'hematitic', 'gil': 'gilsonite', 'calctc': 'calcitic', 'clyst': 'claystone', 'fl/': 'flowing', 'bur': 'burrowed', 'ea': 'earthy', 'micr': 'micritic', 'grdg': 'grading', 'Flk': 'flake', 'hi': 'high', 's&p': 'salt & pepper', 'Flo': 'flora', 'Deb': 'debris', 'Splin': 'splintery', 'hd': 'hard', 'coqid': 'coquinaoid', 'Grst': 'grainstone', 'Phyl': 'phyllite', 'med.': 'medium', 'microxln': 'microcrystalline', 'Plag': 'plagioclase', 'mat': 'material, matter', 'bldr': 'boulder', 'up': 'upper', 'Tex': 'texture', 'mdy': 'muddy', 'WIP': 'weak initial puff', 'olvn': 'olivine', 'ab': 'above', 'mrl': 'marly', 'orsh': 'orangish', 'Allo': 'allochem', 'm': 'medium', 'deer': 'decreasing', 'chal': 'chalcedony', 'ovgth': 'overgrowth', 'ap': 'appears', 'Sid': 'siderite', 'ind': 'indurated', 'pit': 'pitted', 'trip': 'tripolic', 'DL': 'density log', 'Sil': 'silica', 'Lam': 'laminations', 'F.Q.G.': 'frosted quartz  grains', 'Cgl': 'conglomerate', 'hex': 'hexagonal', 'wxy': 'waxy', 'gry': 'greyish', 'Fe-st': 'ironstone', 'oom': 'oomoldic', 'grd': 'graded', 'BHSIP': 'bottom hole shut in pressure', 'Mag': 'magnetite', 'ool': 'oolitic', 'Lat': 'laterite', 'mass': 'massive', 'T.D.': 'total depth', 'Stn': 'stain', 'sqz': 'squeezed', 'E': 'east', 'BOPD': 'barrels of oil per day', 'aglm': 'agglomerate', 'evap': 'evapourititic', 'fluor': 'fluoresceincent', 'est': 'estimated', 'Su': 'sulphur', 'lent': 'lenticular', 'stal': 'stalactitic', 'N': 'Neutron', 'wtr': 'water', 'dolst': 'dolostone', 'bcm': 'becoming', 'OTS': 'oil to surface', 'SAB': 'strong air blow', 'Bry': 'bryozoa', 'O-Qtz': 'orthoquartzite', 'Styl': 'stylolite', 'crinal': 'crinoidal', 'Brk': 'break', 'mrly': 'marly', 'Av': 'average', 'xbd': 'cross-bedded', 'Radax': 'radiaxial', 'swbd': 'swabbed'}}"
      ]
     },
     "execution_count": 7,
     "metadata": {},
     "output_type": "execute_result"
    }
   ],
   "source": [
    "Lexicon.default()"
   ]
  },
  {
   "cell_type": "code",
   "execution_count": 8,
   "metadata": {},
   "outputs": [],
   "source": [
    "bhs_df=[df] # list of dataframes"
   ]
  },
  {
   "cell_type": "code",
   "execution_count": 9,
   "metadata": {
    "scrolled": true
   },
   "outputs": [
    {
     "name": "stdout",
     "output_type": "stream",
     "text": [
      "\n",
      "Dataframe 0 processing...\n",
      "================================\n",
      "|__ID:'201'\n",
      "Summary : [Striplog(2 Intervals, start=0.6, stop=2.4)]\n",
      "{0: {'description': 'Remblais avec briques de construction couleur orange, gris, verdâtre  ', 'interval_number': 0, 'top': <core.orm.PositionOrm object at 0x7f803f812940>, 'base': <core.orm.PositionOrm object at 0x7f808c59e670>}, 1: {'description': \"Briquaille de déchets de construction et galets roulés - présence d'eau - légère odeur de naphtalène - Bloqué à 2,4 m sur caillasse (et béton ?)\", 'interval_number': 1, 'top': <core.orm.PositionOrm object at 0x7f803f7e9340>, 'base': <core.orm.PositionOrm object at 0x7f803f7e9400>}}\n",
      "\n",
      "|__ID:'205'\n",
      "Error : No lithology matching with 'Couche de boue en surface liée à l'intervention de Géosonda' in given lexicon\n",
      "Warning : ++ interval's component replaced by default ('white sand')\n",
      "Summary : [Striplog(7 Intervals, start=0.0, stop=4.8)]\n",
      "{2: {'description': 'white sand', 'interval_number': 0, 'top': <core.orm.PositionOrm object at 0x7f803f7dcbb0>, 'base': <core.orm.PositionOrm object at 0x7f803f7dc4f0>}, 3: {'description': 'Limon brun ', 'interval_number': 1, 'top': <core.orm.PositionOrm object at 0x7f803f8b7a30>, 'base': <core.orm.PositionOrm object at 0x7f803f7dcb80>}, 4: {'description': 'Remblais gris gravillonneux avec présence de déchets de construction', 'interval_number': 2, 'top': <core.orm.PositionOrm object at 0x7f803f85d3a0>, 'base': <core.orm.PositionOrm object at 0x7f803f85d700>}, 5: {'description': \"Présence d'eau avec remblais pollués (odeur forte de naphtalène avec irrisation de l'eau) + mélange de limon et gravillons \", 'interval_number': 3, 'top': <core.orm.PositionOrm object at 0x7f803f85d910>, 'base': <core.orm.PositionOrm object at 0x7f803f7d2160>}, 6: {'description': 'Remblais grossiers saturés avec présence de produit pur - odeur forte +++ de naphtalène ', 'interval_number': 4, 'top': <core.orm.PositionOrm object at 0x7f803f7d2460>, 'base': <core.orm.PositionOrm object at 0x7f803f7e96d0>}, 7: {'description': 'Alluvions verdâtres argilo-sableux (odeur dans les 40 premiers cm). Présence de goudron noir pur sur les alluvions', 'interval_number': 5, 'top': <core.orm.PositionOrm object at 0x7f803f7e98b0>, 'base': <core.orm.PositionOrm object at 0x7f803f7e9a90>}, 8: {'description': \"Retombées des strates supérieures - Limon verdâtre devient brun - Dans gouge, présence d'éléments grossiers favorisant le passage de produit pur (créant des chemins préférentiels)\", 'interval_number': 6, 'top': <core.orm.PositionOrm object at 0x7f803f7e9ac0>, 'base': <core.orm.PositionOrm object at 0x7f803f7e96a0>}}\n",
      "\n",
      "|__ID:'208'\n",
      "Summary : [Striplog(5 Intervals, start=0.0, stop=4.8)]\n",
      "{9: {'description': 'Remblais de couleur brun avec déchets de construction - matrice sableuse et gravillonneuse', 'interval_number': 0, 'top': <core.orm.PositionOrm object at 0x7f803f85da60>, 'base': <core.orm.PositionOrm object at 0x7f803f85d820>}, 10: {'description': \"Matériaux grossiers - caillasse avec odeur forte ++ et irrisation dans l'eau \", 'interval_number': 1, 'top': <core.orm.PositionOrm object at 0x7f803f7e9520>, 'base': <core.orm.PositionOrm object at 0x7f803f7e9220>}, 11: {'description': 'Remblais grossiers saturés avec présence de produit pur sur limons ', 'interval_number': 2, 'top': <core.orm.PositionOrm object at 0x7f803f7e92e0>, 'base': <core.orm.PositionOrm object at 0x7f803f7e9460>}, 12: {'description': 'Limons alluviaux noirs - odeur forte', 'interval_number': 3, 'top': <core.orm.PositionOrm object at 0x7f803f7e9490>, 'base': <core.orm.PositionOrm object at 0x7f803f7e9910>}, 13: {'description': 'Limons de couleur \"verdâtre\" devient brun-ocre - odeur dans limon', 'interval_number': 4, 'top': <core.orm.PositionOrm object at 0x7f803f795040>, 'base': <core.orm.PositionOrm object at 0x7f803f795220>}}\n",
      "\n",
      "|__ID:'212'\n",
      "Summary : [Striplog(5 Intervals, start=0.0, stop=4.8)]\n",
      "{14: {'description': 'Remblais divers (présence de gravillons noirs/gris, de déchets de constructions oranges, de limon sableux brun et de sable ocre)', 'interval_number': 0, 'top': <core.orm.PositionOrm object at 0x7f803f795d30>, 'base': <core.orm.PositionOrm object at 0x7f803f795fa0>}, 15: {'description': \"Seule 1/4 gouge remplie - matériaux grossiers avec présence de scories, laitiers saturés, caillasse brun/beige - pas d'odeur \", 'interval_number': 1, 'top': <core.orm.PositionOrm object at 0x7f803f7957c0>, 'base': <core.orm.PositionOrm object at 0x7f803f795850>}, 16: {'description': 'Remblais grossiers (caillasse de taille pluricentimétrique et scories) avec irrisation et odeur forte ', 'interval_number': 2, 'top': <core.orm.PositionOrm object at 0x7f803f795820>, 'base': <core.orm.PositionOrm object at 0x7f803f795790>}, 17: {'description': 'Interface remblais avec limons alluviaux (alluvions noirs)', 'interval_number': 3, 'top': <core.orm.PositionOrm object at 0x7f803f7956d0>, 'base': <core.orm.PositionOrm object at 0x7f803f795a30>}, 18: {'description': 'Retombées de 3,6 à 4 m puis limons alluviaux verdâtre sur 0,2 m devient brun argileux puis argilo-sableux ocre', 'interval_number': 4, 'top': <core.orm.PositionOrm object at 0x7f803f795970>, 'base': <core.orm.PositionOrm object at 0x7f803f795c40>}}\n",
      "\n",
      "|__ID:'207'\n",
      "Summary : [Striplog(7 Intervals, start=0.0, stop=4.8)]\n",
      "{19: {'description': 'Remblais brun avec déchets de construction oranges fins ', 'interval_number': 0, 'top': <core.orm.PositionOrm object at 0x7f803f792d60>, 'base': <core.orm.PositionOrm object at 0x7f803f7924c0>}, 20: {'description': 'Remblais de couleur noire en mélange avec limon graveleux', 'interval_number': 1, 'top': <core.orm.PositionOrm object at 0x7f803f792070>, 'base': <core.orm.PositionOrm object at 0x7f803f792dc0>}, 21: {'description': 'Déchets de construction : brique et sable beige', 'interval_number': 2, 'top': <core.orm.PositionOrm object at 0x7f803f792190>, 'base': <core.orm.PositionOrm object at 0x7f803f7929d0>}, 22: {'description': 'Caillasse saturée (présence de scories) - semble moins pollué ', 'interval_number': 3, 'top': <core.orm.PositionOrm object at 0x7f803f792820>, 'base': <core.orm.PositionOrm object at 0x7f803f7927c0>}, 23: {'description': 'Caillasse saturée avec produit pur en bout de gouge - présence de grosses briques grises entre 2,4 m et 3 m', 'interval_number': 4, 'top': <core.orm.PositionOrm object at 0x7f803f85d7c0>, 'base': <core.orm.PositionOrm object at 0x7f803f85da00>}, 24: {'description': 'Retombées - Caillasse saturée du dessus ', 'interval_number': 5, 'top': <core.orm.PositionOrm object at 0x7f803f85d5b0>, 'base': <core.orm.PositionOrm object at 0x7f803f7e9700>}, 25: {'description': 'Limon verdâtre sur 10 cm puis ocre ', 'interval_number': 6, 'top': <core.orm.PositionOrm object at 0x7f808c5d6340>, 'base': <core.orm.PositionOrm object at 0x7f803f7e97c0>}}\n",
      "\n",
      "|__ID:'214'\n",
      "Summary : [Striplog(7 Intervals, start=0.0, stop=4.8)]\n",
      "{26: {'description': 'Remblais noirs en mélange avec sable beige ', 'interval_number': 0, 'top': <core.orm.PositionOrm object at 0x7f803f792340>, 'base': <core.orm.PositionOrm object at 0x7f803f7926a0>}, 27: {'description': 'Remblais noirs gravillonneux ', 'interval_number': 1, 'top': <core.orm.PositionOrm object at 0x7f803f7d24c0>, 'base': <core.orm.PositionOrm object at 0x7f803f7926d0>}, 28: {'description': 'Remblais de déchets de construction brun/beige avec briquailles', 'interval_number': 2, 'top': <core.orm.PositionOrm object at 0x7f803f79cbb0>, 'base': <core.orm.PositionOrm object at 0x7f803f79cf40>}, 29: {'description': \"Remblais avec briquaillons divers bruns/oranges - présence de scories - eau - pas d'irrisation\", 'interval_number': 3, 'top': <core.orm.PositionOrm object at 0x7f803f79cfd0>, 'base': <core.orm.PositionOrm object at 0x7f803f79ca00>}, 30: {'description': 'Remblais avec strate de produit pur ', 'interval_number': 4, 'top': <core.orm.PositionOrm object at 0x7f803f79c070>, 'base': <core.orm.PositionOrm object at 0x7f803f79cbe0>}, 31: {'description': 'Remblais en mélange avec limon verdâtre - présence de produit pur ', 'interval_number': 5, 'top': <core.orm.PositionOrm object at 0x7f803f79ceb0>, 'base': <core.orm.PositionOrm object at 0x7f803f79c7f0>}, 32: {'description': 'Retombées et limons verdâtre argilo-sableux - odeur', 'interval_number': 6, 'top': <core.orm.PositionOrm object at 0x7f803f79cd90>, 'base': <core.orm.PositionOrm object at 0x7f803f79ce20>}}\n",
      "\n",
      "|__ID:'217'\n",
      "Error : No lithology matching with 'Gouge à moitié remplie - Caillasse' in given lexicon\n",
      "Warning : ++ interval's component replaced by default ('white sand')\n",
      "Summary : [Striplog(5 Intervals, start=0.0, stop=4.8)]\n",
      "{33: {'description': 'Remblais gris gravillonneux avec présence de déchets de construction oranges - odeur forte dans 1ère  strate de 0 à 0.6 m, légère odeur de 0.6 à 1 m ', 'interval_number': 0, 'top': <core.orm.PositionOrm object at 0x7f803f79cb80>, 'base': <core.orm.PositionOrm object at 0x7f803f792a90>}, 34: {'description': 'white sand', 'interval_number': 1, 'top': <core.orm.PositionOrm object at 0x7f803f7abe80>, 'base': <core.orm.PositionOrm object at 0x7f803f7ab9d0>}, 35: {'description': \"Gouge 1/3 remplie - caillasse en mélange avec limon noir/verdâtre - pas vraiment d'odeur\", 'interval_number': 2, 'top': <core.orm.PositionOrm object at 0x7f803f7ab5e0>, 'base': <core.orm.PositionOrm object at 0x7f803f7ab640>}, 36: {'description': 'Caillasse saturée avec présence de scories et de galets roulés (20%)', 'interval_number': 3, 'top': <core.orm.PositionOrm object at 0x7f803f7aba90>, 'base': <core.orm.PositionOrm object at 0x7f803f7abe20>}, 37: {'description': 'Limon sableux dense de couleur ocre barriolé plus foncé plus claire ', 'interval_number': 4, 'top': <core.orm.PositionOrm object at 0x7f803f7abd60>, 'base': <core.orm.PositionOrm object at 0x7f803f7abdf0>}}\n",
      "\n",
      "|__ID:'221'\n",
      "Error : No lithology matching with 'Vide ' in given lexicon\n",
      "Warning : ++ interval's component replaced by default ('white sand')\n",
      "Summary : [Striplog(2 Intervals, start=0.0, stop=1.4)]\n",
      "{38: {'description': 'white sand', 'interval_number': 0, 'top': <core.orm.PositionOrm object at 0x7f803f7abee0>, 'base': <core.orm.PositionOrm object at 0x7f803f7ab5b0>}, 39: {'description': 'Remblais caillouteux gris humide avec présence de laitiers - matrice limon sableux - présence de brique orange et de béton - bloqué à 1,4 m sur fondations ? ', 'interval_number': 1, 'top': <core.orm.PositionOrm object at 0x7f803f7ab700>, 'base': <core.orm.PositionOrm object at 0x7f803f735a90>}}\n",
      "\n",
      "|__ID:'223'\n",
      "Summary : [Striplog(1 Intervals, start=0.0, stop=1.3)]\n",
      "{40: {'description': 'Remblais caillouteux gris humide dès la surface - graveleux et sableux - vers 1m présence de brique orange - bloqué sur béton à 1.3 m ', 'interval_number': 0, 'top': <core.orm.PositionOrm object at 0x7f803f822a00>, 'base': <core.orm.PositionOrm object at 0x7f803f792bb0>}}\n",
      "\n",
      "|__ID:'225'\n"
     ]
    },
    {
     "name": "stdout",
     "output_type": "stream",
     "text": [
      "Error : No lithology matching with 'Gouge vide' in given lexicon\n",
      "Warning : ++ interval's component replaced by default ('white sand')\n",
      "Summary : [Striplog(7 Intervals, start=0.0, stop=4.8)]\n",
      "{41: {'description': 'Remblais caillouteux gris foncé humide', 'interval_number': 0, 'top': <core.orm.PositionOrm object at 0x7f803f792ac0>, 'base': <core.orm.PositionOrm object at 0x7f803f735ac0>}, 42: {'description': 'Remblais brun matrice sableuse et remblais de déchets de construction brun/beige', 'interval_number': 1, 'top': <core.orm.PositionOrm object at 0x7f803f735940>, 'base': <core.orm.PositionOrm object at 0x7f803f738a60>}, 43: {'description': 'Remblais noirs gravilloneux ', 'interval_number': 2, 'top': <core.orm.PositionOrm object at 0x7f803f7384c0>, 'base': <core.orm.PositionOrm object at 0x7f803f738a30>}, 44: {'description': 'Matériaux gravillonneux noirs saturés gras - présence de schistes et scories - légère odeur vers 2 m dans strate saturée ', 'interval_number': 3, 'top': <core.orm.PositionOrm object at 0x7f803f738910>, 'base': <core.orm.PositionOrm object at 0x7f803f738190>}, 45: {'description': 'white sand', 'interval_number': 4, 'top': <core.orm.PositionOrm object at 0x7f803f7385b0>, 'base': <core.orm.PositionOrm object at 0x7f803f7389a0>}, 46: {'description': 'Idem - Remblais gravillonneux avec scories saturés - interface remblais/sol en place ', 'interval_number': 5, 'top': <core.orm.PositionOrm object at 0x7f803f7382e0>, 'base': <core.orm.PositionOrm object at 0x7f803f738b80>}, 47: {'description': 'Limon ocre argileux (collant)', 'interval_number': 6, 'top': <core.orm.PositionOrm object at 0x7f803f7389d0>, 'base': <core.orm.PositionOrm object at 0x7f803f7383a0>}}\n",
      "\n",
      "|__ID:'224'\n",
      "Summary : [Striplog(2 Intervals, start=0.0, stop=2.4)]\n",
      "{48: {'description': 'Remblais de déchets de construction orange/gris foncé avec gravier de taille pluricentimétrique', 'interval_number': 0, 'top': <core.orm.PositionOrm object at 0x7f803f74cdc0>, 'base': <core.orm.PositionOrm object at 0x7f803f74c940>}, 49: {'description': 'Remblais de déchets de construction avec charge de taille centimétrique orange/gris - bloqué à 2.4 m sur massif en béton - Gras et odeur vers 2 m', 'interval_number': 1, 'top': <core.orm.PositionOrm object at 0x7f803f74c310>, 'base': <core.orm.PositionOrm object at 0x7f803f74c400>}}\n",
      "\n",
      "|__ID:'219'\n",
      "Summary : [Striplog(2 Intervals, start=0.0, stop=1.5)]\n",
      "{50: {'description': 'Remblais sableux jaune avec charge de déchets de construction gris foncé ', 'interval_number': 0, 'top': <core.orm.PositionOrm object at 0x7f803f735880>, 'base': <core.orm.PositionOrm object at 0x7f803f79c850>}, 51: {'description': 'Limon compact brun argilo sableux - bloqué à 1.5 m - petite strate de remblais juste au-dessus du refus', 'interval_number': 1, 'top': <core.orm.PositionOrm object at 0x7f803f738b50>, 'base': <core.orm.PositionOrm object at 0x7f803f738220>}}\n",
      "\n",
      "|__ID:'220'\n",
      "Summary : [Striplog(1 Intervals, start=0.0, stop=0.5)]\n",
      "{52: {'description': 'Remblais de couleur noir avec présence de brique - bloqué à 0.4 m - 0.5 m', 'interval_number': 0, 'top': <core.orm.PositionOrm object at 0x7f803f79c730>, 'base': <core.orm.PositionOrm object at 0x7f803f7aba60>}}\n",
      "\n",
      "|__ID:'220 bis'\n",
      "Summary : [Striplog(1 Intervals, start=0.0, stop=1.2)]\n",
      "{53: {'description': 'Remblais de couleur noir avec présence de brique - bloqué à 1.2 m', 'interval_number': 0, 'top': <core.orm.PositionOrm object at 0x7f803f792df0>, 'base': <core.orm.PositionOrm object at 0x7f803f7abd30>}}\n",
      "\n",
      "|__ID:'226'\n",
      "Summary : [Striplog(6 Intervals, start=0.0, stop=4.8)]\n",
      "{54: {'description': 'Remblais de couleur noir avec présence de brique ', 'interval_number': 0, 'top': <core.orm.PositionOrm object at 0x7f803f738d30>, 'base': <core.orm.PositionOrm object at 0x7f803f7abaf0>}, 55: {'description': 'Limon brun argileux ', 'interval_number': 1, 'top': <core.orm.PositionOrm object at 0x7f803f7504f0>, 'base': <core.orm.PositionOrm object at 0x7f803f750100>}, 56: {'description': 'Remblais (présence de schistes et scories, charge centimétrique) gras vers 2 m et irrisation ', 'interval_number': 2, 'top': <core.orm.PositionOrm object at 0x7f803f750580>, 'base': <core.orm.PositionOrm object at 0x7f803f750850>}, 57: {'description': 'Remblais avec présence de déchets de construction saturé + présence de schistes', 'interval_number': 3, 'top': <core.orm.PositionOrm object at 0x7f803f750970>, 'base': <core.orm.PositionOrm object at 0x7f803f750d00>}, 58: {'description': 'Mélange de limon verdâtre argileux et de remblais saturés - interface remblais/sol en place ', 'interval_number': 4, 'top': <core.orm.PositionOrm object at 0x7f803f750520>, 'base': <core.orm.PositionOrm object at 0x7f803f750ca0>}, 59: {'description': '1ère moitié de gouge : retombées puis Limon verdâtre brun/ocre humide', 'interval_number': 5, 'top': <core.orm.PositionOrm object at 0x7f803f750790>, 'base': <core.orm.PositionOrm object at 0x7f803f750ee0>}}\n",
      "\n",
      "\n",
      "End of the process : 15 unique ID found\n"
     ]
    },
    {
     "name": "stderr",
     "output_type": "stream",
     "text": [
      "/home/yanathan/Projects/GSDMA/utils/io.py:519: SAWarning: relationship 'ComponentOrm.intervals' will copy column Components.id to column Linkintervalcomponent.comp_id, which conflicts with relationship(s): 'IntervalOrm.components' (copies Components.id to Linkintervalcomponent.comp_id). If this is not the intention, consider if these relationships should be linked with back_populates, or if viewonly=True should be applied to one or more if they are read-only. For the less common case that foreign key constraints are partially overlapping, the orm.foreign() annotation can be used to isolate the columns that should be written towards.   The 'overlaps' parameter may be used to remove this warning.\n",
      "  boreholes.append(BoreholeOrm(id=bh_name))\n",
      "/home/yanathan/Projects/GSDMA/utils/io.py:519: SAWarning: relationship 'ComponentOrm.intervals' will copy column Intervals.id to column Linkintervalcomponent.int_id, which conflicts with relationship(s): 'IntervalOrm.components' (copies Intervals.id to Linkintervalcomponent.int_id). If this is not the intention, consider if these relationships should be linked with back_populates, or if viewonly=True should be applied to one or more if they are read-only. For the less common case that foreign key constraints are partially overlapping, the orm.foreign() annotation can be used to isolate the columns that should be written towards.   The 'overlaps' parameter may be used to remove this warning.\n",
      "  boreholes.append(BoreholeOrm(id=bh_name))\n",
      "/home/yanathan/Projects/GSDMA/utils/io.py:519: SAWarning: relationship 'ComponentOrm.component_assoc' will copy column Components.id to column Linkintervalcomponent.comp_id, which conflicts with relationship(s): 'IntervalOrm.components' (copies Components.id to Linkintervalcomponent.comp_id), 'ComponentOrm.intervals' (copies Components.id to Linkintervalcomponent.comp_id). If this is not the intention, consider if these relationships should be linked with back_populates, or if viewonly=True should be applied to one or more if they are read-only. For the less common case that foreign key constraints are partially overlapping, the orm.foreign() annotation can be used to isolate the columns that should be written towards.   The 'overlaps' parameter may be used to remove this warning.\n",
      "  boreholes.append(BoreholeOrm(id=bh_name))\n",
      "/home/yanathan/Projects/GSDMA/utils/io.py:519: SAWarning: relationship 'LinkIntervalComponentOrm.component' will copy column Components.id to column Linkintervalcomponent.comp_id, which conflicts with relationship(s): 'IntervalOrm.components' (copies Components.id to Linkintervalcomponent.comp_id), 'ComponentOrm.intervals' (copies Components.id to Linkintervalcomponent.comp_id). If this is not the intention, consider if these relationships should be linked with back_populates, or if viewonly=True should be applied to one or more if they are read-only. For the less common case that foreign key constraints are partially overlapping, the orm.foreign() annotation can be used to isolate the columns that should be written towards.   The 'overlaps' parameter may be used to remove this warning.\n",
      "  boreholes.append(BoreholeOrm(id=bh_name))\n",
      "/home/yanathan/Projects/GSDMA/utils/io.py:519: SAWarning: relationship 'IntervalOrm.interval_assoc' will copy column Intervals.id to column Linkintervalcomponent.int_id, which conflicts with relationship(s): 'IntervalOrm.components' (copies Intervals.id to Linkintervalcomponent.int_id), 'ComponentOrm.intervals' (copies Intervals.id to Linkintervalcomponent.int_id). If this is not the intention, consider if these relationships should be linked with back_populates, or if viewonly=True should be applied to one or more if they are read-only. For the less common case that foreign key constraints are partially overlapping, the orm.foreign() annotation can be used to isolate the columns that should be written towards.   The 'overlaps' parameter may be used to remove this warning.\n",
      "  boreholes.append(BoreholeOrm(id=bh_name))\n",
      "/home/yanathan/Projects/GSDMA/utils/io.py:519: SAWarning: relationship 'LinkIntervalComponentOrm.interval' will copy column Intervals.id to column Linkintervalcomponent.int_id, which conflicts with relationship(s): 'IntervalOrm.components' (copies Intervals.id to Linkintervalcomponent.int_id), 'ComponentOrm.intervals' (copies Intervals.id to Linkintervalcomponent.int_id). If this is not the intention, consider if these relationships should be linked with back_populates, or if viewonly=True should be applied to one or more if they are read-only. For the less common case that foreign key constraints are partially overlapping, the orm.foreign() annotation can be used to isolate the columns that should be written towards.   The 'overlaps' parameter may be used to remove this warning.\n",
      "  boreholes.append(BoreholeOrm(id=bh_name))\n"
     ]
    }
   ],
   "source": [
    "boreholes, components, link_intv_comp = boreholes_from_files(bhs_df, verbose=True,\n",
    "                                                litho_field='Description',\n",
    "                                                lexicon='fr', #Lexicon.default(),\n",
    "                                                diam_field='Diam_for', \n",
    "                                                litho_top_field='Litho_top',\n",
    "                                                litho_base_field='Litho_base',\n",
    "                                                thick_field='Ep_litho')"
   ]
  },
  {
   "cell_type": "code",
   "execution_count": 10,
   "metadata": {},
   "outputs": [],
   "source": [
    "litho_list = []\n",
    "for i, c in components.items():\n",
    "    if not hasattr(c, 'lithology'):\n",
    "        c.lithology = 'sable'\n",
    "        c.colour = 'rouge'\n",
    "    elif c.lithology == 'sand':\n",
    "        c.lithology = 'sable'\n",
    "        c.colour = 'blanc'\n",
    "    if c.lithology not in litho_list:\n",
    "        litho_list.append(c.lithology)"
   ]
  },
  {
   "cell_type": "code",
   "execution_count": 11,
   "metadata": {
    "scrolled": true
   },
   "outputs": [
    {
     "data": {
      "text/plain": [
       "['sable', 'remblais', 'limon', 'limons', 'schistes']"
      ]
     },
     "execution_count": 11,
     "metadata": {},
     "output_type": "execute_result"
    }
   ],
   "source": [
    "litho_list"
   ]
  },
  {
   "cell_type": "code",
   "execution_count": 12,
   "metadata": {},
   "outputs": [],
   "source": [
    "memoris_components = [Component({'lithology': 'remblais'}),\n",
    "              Component({'lithology': 'limon'}),\n",
    "              Component({'lithology': 'schistes'}),\n",
    "              Component({'lithology': 'sable'}),\n",
    "              Component({'lithology': 'anthropique'})\n",
    "              ]\n",
    "list_of_decors=[]\n",
    "hatches = ['=', 'x', '.', 's', '=']\n",
    "colours = ['#888888', '#882222', '#AAAAAA', '#CC22CC', '#CC2222']\n",
    "\n",
    "for i in range(len(memoris_components)):\n",
    "    if hasattr(memoris_components[i], 'colour'):\n",
    "        c = memoris_components[i].colour\n",
    "    else:\n",
    "        c=colours[i]\n",
    "    \n",
    "    if hasattr(memoris_components[i], 'hatch'):\n",
    "        h = memoris_components[i].hatch\n",
    "    else:\n",
    "        h=hatches[i]\n",
    "        \n",
    "    d = {'color': c,\n",
    "         'hatch': h,\n",
    "         'component': memoris_components[i],\n",
    "         'width': 3}\n",
    "    decor = Decor(d)\n",
    "    list_of_decors.append(decor)\n",
    "    \n",
    "memoris_legend = Legend(list_of_decors)"
   ]
  },
  {
   "cell_type": "code",
   "execution_count": 13,
   "metadata": {},
   "outputs": [
    {
     "data": {
      "text/plain": [
       "[<core.orm.BoreholeOrm>(Name=201, Length=1.7999999999999998, Diameter=75.0, Intervals=2),\n",
       " <core.orm.BoreholeOrm>(Name=205, Length=4.8, Diameter=75.0, Intervals=7),\n",
       " <core.orm.BoreholeOrm>(Name=208, Length=4.8, Diameter=75.0, Intervals=5),\n",
       " <core.orm.BoreholeOrm>(Name=212, Length=4.8, Diameter=75.0, Intervals=5),\n",
       " <core.orm.BoreholeOrm>(Name=207, Length=4.799999999999999, Diameter=75.0, Intervals=7),\n",
       " <core.orm.BoreholeOrm>(Name=214, Length=4.8, Diameter=75.0, Intervals=7),\n",
       " <core.orm.BoreholeOrm>(Name=217, Length=4.199999999999999, Diameter=75.0, Intervals=5),\n",
       " <core.orm.BoreholeOrm>(Name=221, Length=1.4, Diameter=75.0, Intervals=2),\n",
       " <core.orm.BoreholeOrm>(Name=223, Length=1.3, Diameter=75.0, Intervals=1),\n",
       " <core.orm.BoreholeOrm>(Name=225, Length=4.8, Diameter=75.0, Intervals=7),\n",
       " <core.orm.BoreholeOrm>(Name=224, Length=2.4, Diameter=75.0, Intervals=2),\n",
       " <core.orm.BoreholeOrm>(Name=219, Length=1.5, Diameter=75.0, Intervals=2),\n",
       " <core.orm.BoreholeOrm>(Name=220, Length=0.5, Diameter=75.0, Intervals=1),\n",
       " <core.orm.BoreholeOrm>(Name=220 bis, Length=1.2, Diameter=75.0, Intervals=1),\n",
       " <core.orm.BoreholeOrm>(Name=226, Length=4.8, Diameter=75.0, Intervals=6)]"
      ]
     },
     "execution_count": 13,
     "metadata": {},
     "output_type": "execute_result"
    }
   ],
   "source": [
    "boreholes"
   ]
  },
  {
   "cell_type": "code",
   "execution_count": 14,
   "metadata": {
    "scrolled": true
   },
   "outputs": [
    {
     "data": {
      "text/plain": [
       "{0: Component({'material': 'béton', 'grainsize': 'galets', 'Pollutant': 'naphtalène', 'lithology': 'sable', 'colour': 'rouge'}),\n",
       " 1: Component({'lithology': 'remblais', 'colour': 'gris verdâtre'}),\n",
       " 2: Component({'lithology': 'remblais', 'Pollutant': 'naphtalène'}),\n",
       " 3: Component({'lithology': 'limon', 'colour': 'verdâtre', 'grainsize': 'grossiers'}),\n",
       " 4: Component({'lithology': 'remblais', 'grainsize': 'grossiers', 'Pollutant': 'naphtalène'}),\n",
       " 5: Component({'lithology': 'remblais', 'colour': 'gris'}),\n",
       " 6: Component({'modifier': 'sableux', 'colour': 'rouge', 'lithology': 'sable'}),\n",
       " 7: Component({'lithology': 'limon'}),\n",
       " 8: Component({'lithology': 'sable', 'colour': 'blanc'}),\n",
       " 9: Component({'grainsize': 'grossiers', 'lithology': 'sable', 'colour': 'rouge'}),\n",
       " 10: Component({'lithology': 'remblais', 'modifier': 'sableuse', 'colour': 'sableuse'}),\n",
       " 11: Component({'lithology': 'limons', 'colour': 'verdâtre'}),\n",
       " 12: Component({'lithology': 'remblais', 'grainsize': 'grossiers'}),\n",
       " 13: Component({'lithology': 'limons', 'colour': 'noirs'}),\n",
       " 14: Component({'material': 'scories', 'grainsize': 'grossiers', 'lithology': 'sable', 'colour': 'rouge'}),\n",
       " 15: Component({'lithology': 'remblais', 'modifier': 'sableux', 'colour': 'noirs gris'}),\n",
       " 16: Component({'lithology': 'limons', 'modifier': 'argileux', 'colour': 'verdâtre'}),\n",
       " 17: Component({'lithology': 'remblais', 'material': 'scories', 'grainsize': 'grossiers'}),\n",
       " 18: Component({'lithology': 'remblais', 'colour': 'noirs'}),\n",
       " 19: Component({'modifier': 'saturée', 'colour': 'rouge', 'lithology': 'sable'}),\n",
       " 20: Component({'material': 'scories', 'modifier': 'saturée', 'quantity': 'moins', 'lithology': 'sable', 'colour': 'rouge'}),\n",
       " 21: Component({'modifier': 'saturée', 'lithology': 'sable', 'colour': 'rouge'}),\n",
       " 22: Component({'lithology': 'remblais', 'grainsize': 'fins'}),\n",
       " 23: Component({'lithology': 'limon', 'colour': 'verdâtre'}),\n",
       " 24: Component({'lithology': 'remblais', 'modifier': 'graveleux', 'colour': 'noire'}),\n",
       " 25: Component({'lithology': 'sable'}),\n",
       " 26: Component({'lithology': 'remblais', 'material': 'scories'}),\n",
       " 27: Component({'lithology': 'limons', 'modifier': 'sableux', 'colour': 'verdâtre'}),\n",
       " 28: Component({'lithology': 'remblais'}),\n",
       " 29: Component({'lithology': 'remblais', 'colour': 'verdâtre'}),\n",
       " 30: Component({'lithology': 'limon', 'colour': 'noir verdâtre'}),\n",
       " 31: Component({'material': 'scories', 'modifier': 'saturée', 'grainsize': 'galets', 'lithology': 'sable', 'colour': 'rouge'}),\n",
       " 32: Component({'lithology': 'limon', 'modifier': 'sableux', 'colour': 'foncé'}),\n",
       " 33: Component({'lithology': 'remblais', 'material': 'béton', 'modifier': 'caillouteux', 'colour': 'gris'}),\n",
       " 34: Component({'lithology': 'schistes', 'material': 'scories', 'modifier': 'saturée', 'colour': 'noirs'}),\n",
       " 35: Component({'lithology': 'limon', 'modifier': 'argileux'}),\n",
       " 36: Component({'lithology': 'remblais', 'modifier': 'caillouteux', 'colour': 'gris foncé'}),\n",
       " 37: Component({'lithology': 'remblais', 'material': 'béton', 'colour': 'gris', 'grainsize': 'centimétrique'}),\n",
       " 38: Component({'lithology': 'remblais', 'colour': 'gris foncé', 'grainsize': 'pluricentimétrique'}),\n",
       " 39: Component({'lithology': 'limon', 'modifier': 'sableux'}),\n",
       " 40: Component({'lithology': 'remblais', 'modifier': 'sableux', 'colour': 'jaune'}),\n",
       " 41: Component({'lithology': 'remblais', 'colour': 'noir'}),\n",
       " 42: Component({'lithology': 'remblais', 'material': 'scories', 'grainsize': 'centimétrique'}),\n",
       " 43: Component({'lithology': 'remblais', 'modifier': 'saturé'}),\n",
       " 44: Component({'lithology': 'limon', 'modifier': 'argileux', 'colour': 'verdâtre'})}"
      ]
     },
     "execution_count": 14,
     "metadata": {},
     "output_type": "execute_result"
    }
   ],
   "source": [
    "components"
   ]
  },
  {
   "cell_type": "code",
   "execution_count": 15,
   "metadata": {},
   "outputs": [
    {
     "data": {
      "text/plain": [
       "(15, 45)"
      ]
     },
     "execution_count": 15,
     "metadata": {},
     "output_type": "execute_result"
    }
   ],
   "source": [
    "len(boreholes), len(components)"
   ]
  },
  {
   "cell_type": "markdown",
   "metadata": {},
   "source": [
    "## Create a project and save data in a database"
   ]
  },
  {
   "cell_type": "code",
   "execution_count": 16,
   "metadata": {},
   "outputs": [],
   "source": [
    "remove('tmp_files/tfe_orm_db.db')"
   ]
  },
  {
   "cell_type": "code",
   "execution_count": 17,
   "metadata": {},
   "outputs": [],
   "source": [
    "engine = create_engine('sqlite:///tmp_files/tfe_orm_db.db', echo=True)"
   ]
  },
  {
   "cell_type": "code",
   "execution_count": 18,
   "metadata": {
    "scrolled": true
   },
   "outputs": [
    {
     "name": "stdout",
     "output_type": "stream",
     "text": [
      "2021-06-16 12:02:17,556 INFO sqlalchemy.engine.Engine BEGIN (implicit)\n",
      "2021-06-16 12:02:17,557 INFO sqlalchemy.engine.Engine PRAGMA main.table_info(\"Boreholes\")\n",
      "2021-06-16 12:02:17,558 INFO sqlalchemy.engine.Engine [raw sql] ()\n",
      "2021-06-16 12:02:17,559 INFO sqlalchemy.engine.Engine PRAGMA temp.table_info(\"Boreholes\")\n",
      "2021-06-16 12:02:17,560 INFO sqlalchemy.engine.Engine [raw sql] ()\n",
      "2021-06-16 12:02:17,561 INFO sqlalchemy.engine.Engine PRAGMA main.table_info(\"Positions\")\n",
      "2021-06-16 12:02:17,562 INFO sqlalchemy.engine.Engine [raw sql] ()\n",
      "2021-06-16 12:02:17,563 INFO sqlalchemy.engine.Engine PRAGMA temp.table_info(\"Positions\")\n",
      "2021-06-16 12:02:17,564 INFO sqlalchemy.engine.Engine [raw sql] ()\n",
      "2021-06-16 12:02:17,566 INFO sqlalchemy.engine.Engine PRAGMA main.table_info(\"Intervals\")\n",
      "2021-06-16 12:02:17,566 INFO sqlalchemy.engine.Engine [raw sql] ()\n",
      "2021-06-16 12:02:17,567 INFO sqlalchemy.engine.Engine PRAGMA temp.table_info(\"Intervals\")\n",
      "2021-06-16 12:02:17,568 INFO sqlalchemy.engine.Engine [raw sql] ()\n",
      "2021-06-16 12:02:17,569 INFO sqlalchemy.engine.Engine PRAGMA main.table_info(\"Components\")\n",
      "2021-06-16 12:02:17,569 INFO sqlalchemy.engine.Engine [raw sql] ()\n",
      "2021-06-16 12:02:17,570 INFO sqlalchemy.engine.Engine PRAGMA temp.table_info(\"Components\")\n",
      "2021-06-16 12:02:17,571 INFO sqlalchemy.engine.Engine [raw sql] ()\n",
      "2021-06-16 12:02:17,572 INFO sqlalchemy.engine.Engine PRAGMA main.table_info(\"Linkintervalcomponent\")\n",
      "2021-06-16 12:02:17,573 INFO sqlalchemy.engine.Engine [raw sql] ()\n",
      "2021-06-16 12:02:17,574 INFO sqlalchemy.engine.Engine PRAGMA temp.table_info(\"Linkintervalcomponent\")\n",
      "2021-06-16 12:02:17,575 INFO sqlalchemy.engine.Engine [raw sql] ()\n",
      "2021-06-16 12:02:17,576 INFO sqlalchemy.engine.Engine \n",
      "CREATE TABLE \"Boreholes\" (\n",
      "\tid VARCHAR(32) NOT NULL, \n",
      "\tlength FLOAT, \n",
      "\tdiameter FLOAT, \n",
      "\tPRIMARY KEY (id)\n",
      ")\n",
      "\n",
      "\n",
      "2021-06-16 12:02:17,577 INFO sqlalchemy.engine.Engine [no key 0.00075s] ()\n",
      "2021-06-16 12:02:17,582 INFO sqlalchemy.engine.Engine \n",
      "CREATE TABLE \"Positions\" (\n",
      "\tid INTEGER NOT NULL, \n",
      "\tupper FLOAT, \n",
      "\tmiddle FLOAT, \n",
      "\tlower FLOAT, \n",
      "\tx FLOAT, \n",
      "\ty FLOAT, \n",
      "\tPRIMARY KEY (id)\n",
      ")\n",
      "\n",
      "\n",
      "2021-06-16 12:02:17,583 INFO sqlalchemy.engine.Engine [no key 0.00087s] ()\n",
      "2021-06-16 12:02:17,588 INFO sqlalchemy.engine.Engine \n",
      "CREATE TABLE \"Components\" (\n",
      "\tid INTEGER NOT NULL, \n",
      "\tdescription VARCHAR(32), \n",
      "\tPRIMARY KEY (id)\n",
      ")\n",
      "\n",
      "\n",
      "2021-06-16 12:02:17,589 INFO sqlalchemy.engine.Engine [no key 0.00121s] ()\n",
      "2021-06-16 12:02:17,593 INFO sqlalchemy.engine.Engine \n",
      "CREATE TABLE \"Intervals\" (\n",
      "\tid INTEGER NOT NULL, \n",
      "\tborehole VARCHAR(32), \n",
      "\tinterval_number INTEGER, \n",
      "\tdescription VARCHAR(32), \n",
      "\ttop_id INTEGER, \n",
      "\tbase_id INTEGER, \n",
      "\tPRIMARY KEY (id), \n",
      "\tFOREIGN KEY(borehole) REFERENCES \"Boreholes\" (id), \n",
      "\tFOREIGN KEY(top_id) REFERENCES \"Positions\" (id), \n",
      "\tFOREIGN KEY(base_id) REFERENCES \"Positions\" (id)\n",
      ")\n",
      "\n",
      "\n",
      "2021-06-16 12:02:17,594 INFO sqlalchemy.engine.Engine [no key 0.00103s] ()\n",
      "2021-06-16 12:02:17,600 INFO sqlalchemy.engine.Engine \n",
      "CREATE TABLE \"Linkintervalcomponent\" (\n",
      "\tint_id INTEGER NOT NULL, \n",
      "\tcomp_id INTEGER NOT NULL, \n",
      "\textra_data VARCHAR(256), \n",
      "\tPRIMARY KEY (int_id, comp_id), \n",
      "\tFOREIGN KEY(int_id) REFERENCES \"Intervals\" (id), \n",
      "\tFOREIGN KEY(comp_id) REFERENCES \"Components\" (id)\n",
      ")\n",
      "\n",
      "\n",
      "2021-06-16 12:02:17,601 INFO sqlalchemy.engine.Engine [no key 0.00088s] ()\n",
      "2021-06-16 12:02:17,606 INFO sqlalchemy.engine.Engine COMMIT\n"
     ]
    }
   ],
   "source": [
    "Base.metadata.create_all(engine)"
   ]
  },
  {
   "cell_type": "code",
   "execution_count": 19,
   "metadata": {},
   "outputs": [],
   "source": [
    "Session = sessionmaker(bind=engine)\n",
    "session = Session()"
   ]
  },
  {
   "cell_type": "code",
   "execution_count": 20,
   "metadata": {},
   "outputs": [
    {
     "name": "stdout",
     "output_type": "stream",
     "text": [
      "2021-06-16 12:02:17,621 INFO sqlalchemy.engine.Engine BEGIN (implicit)\n",
      "2021-06-16 12:02:17,624 INFO sqlalchemy.engine.Engine SELECT \"Boreholes\".id AS \"Boreholes_id\", \"Boreholes\".length AS \"Boreholes_length\", \"Boreholes\".diameter AS \"Boreholes_diameter\" \n",
      "FROM \"Boreholes\"\n",
      "2021-06-16 12:02:17,625 INFO sqlalchemy.engine.Engine [generated in 0.00116s] ()\n",
      "2021-06-16 12:02:17,633 INFO sqlalchemy.engine.Engine INSERT INTO \"Components\" (id, description) VALUES (?, ?)\n",
      "2021-06-16 12:02:17,634 INFO sqlalchemy.engine.Engine [generated in 0.00092s] ((0, 'Béton, galets, naphtalène, sable, rouge'), (1, 'Remblais, gris verdâtre'), (2, 'Remblais, naphtalène'), (3, 'Limon, verdâtre, grossiers'), (4, 'Remblais, grossiers, naphtalène'), (5, 'Remblais, gris'), (6, 'Sableux, rouge, sable'), (7, 'Limon')  ... displaying 10 of 45 total bound parameter sets ...  (43, 'Remblais, saturé'), (44, 'Limon, argileux, verdâtre'))\n",
      "2021-06-16 12:02:17,636 INFO sqlalchemy.engine.Engine COMMIT\n",
      "2021-06-16 12:02:17,640 INFO sqlalchemy.engine.Engine BEGIN (implicit)\n",
      "2021-06-16 12:02:17,641 INFO sqlalchemy.engine.Engine SELECT \"Boreholes\".id AS \"Boreholes_id\", \"Boreholes\".length AS \"Boreholes_length\", \"Boreholes\".diameter AS \"Boreholes_diameter\" \n",
      "FROM \"Boreholes\"\n",
      "2021-06-16 12:02:17,642 INFO sqlalchemy.engine.Engine [cached since 0.018s ago] ()\n"
     ]
    }
   ],
   "source": [
    "p = Project(session, legend=memoris_legend)\n",
    "p.add_components(components)"
   ]
  },
  {
   "cell_type": "markdown",
   "metadata": {},
   "source": [
    "Add boreholes into the project"
   ]
  },
  {
   "cell_type": "code",
   "execution_count": 23,
   "metadata": {},
   "outputs": [],
   "source": [
    "from utils.io import get_interval_list"
   ]
  },
  {
   "cell_type": "code",
   "execution_count": 26,
   "metadata": {},
   "outputs": [
    {
     "data": {
      "text/plain": [
       "([Interval({'top': Position({'middle': 0.6, 'x': 152890.245758, 'y': 122596.47426, 'units': 'm'}), 'base': Position({'middle': 1.2, 'x': 152890.245758, 'y': 122596.47426, 'units': 'm'}), 'description': 'Remblais avec briques de construction couleur orange, gris, verdâtre  ', 'data': {}, 'components': [Component({'lithology': 'remblais', 'colour': 'gris verdâtre'})]}),\n",
       "  Interval({'top': Position({'middle': 1.2, 'x': 152890.245758, 'y': 122596.47426, 'units': 'm'}), 'base': Position({'middle': 2.4, 'x': 152890.245758, 'y': 122596.47426, 'units': 'm'}), 'description': \"Briquaille de déchets de construction et galets roulés - présence d'eau - légère odeur de naphtalène - Bloqué à 2,4 m sur caillasse (et béton ?)\", 'data': {}, 'components': [Component({'material': 'béton', 'grainsize': 'galets', 'Pollutant': 'naphtalène'})]})],\n",
       " 2.4)"
      ]
     },
     "execution_count": 26,
     "metadata": {},
     "output_type": "execute_result"
    }
   ],
   "source": [
    "get_interval_list(boreholes[0], lexicon='fr')"
   ]
  },
  {
   "cell_type": "code",
   "execution_count": 21,
   "metadata": {
    "scrolled": false
   },
   "outputs": [
    {
     "name": "stdout",
     "output_type": "stream",
     "text": [
      "2021-06-16 12:02:17,649 INFO sqlalchemy.engine.Engine INSERT INTO \"Boreholes\" (id, length, diameter) VALUES (?, ?, ?)\n",
      "2021-06-16 12:02:17,650 INFO sqlalchemy.engine.Engine [generated in 0.00129s] ('201', 1.7999999999999998, 75.0)\n",
      "2021-06-16 12:02:17,652 INFO sqlalchemy.engine.Engine INSERT INTO \"Positions\" (id, upper, middle, lower, x, y) VALUES (?, ?, ?, ?, ?, ?)\n",
      "2021-06-16 12:02:17,653 INFO sqlalchemy.engine.Engine [generated in 0.00106s] ((0, 0.6, 0.6, 0.6, 152890.245758, 122596.47426), (1, 1.2, 1.2, 1.2, 152890.245758, 122596.47426), (2, 1.2, 1.2, 1.2, 152890.245758, 122596.47426), (3, 2.4, 2.4, 2.4, 152890.245758, 122596.47426))\n",
      "2021-06-16 12:02:17,657 INFO sqlalchemy.engine.Engine INSERT INTO \"Intervals\" (id, borehole, interval_number, description, top_id, base_id) VALUES (?, ?, ?, ?, ?, ?)\n",
      "2021-06-16 12:02:17,658 INFO sqlalchemy.engine.Engine [generated in 0.00087s] ((0, '201', 0, 'Remblais avec briques de construction couleur orange, gris, verdâtre  ', 0, 1), (1, '201', 1, \"Briquaille de déchets de construction et galets roulés - présence d'eau - légère odeur de naphtalène - Bloqué à 2,4 m sur caillasse (et béton ?)\", 2, 3))\n",
      "2021-06-16 12:02:17,660 INFO sqlalchemy.engine.Engine COMMIT\n",
      "2021-06-16 12:02:17,665 INFO sqlalchemy.engine.Engine BEGIN (implicit)\n",
      "2021-06-16 12:02:17,666 INFO sqlalchemy.engine.Engine SELECT \"Boreholes\".id AS \"Boreholes_id\", \"Boreholes\".length AS \"Boreholes_length\", \"Boreholes\".diameter AS \"Boreholes_diameter\" \n",
      "FROM \"Boreholes\"\n",
      "2021-06-16 12:02:17,666 INFO sqlalchemy.engine.Engine [cached since 0.04266s ago] ()\n",
      "2021-06-16 12:02:17,675 INFO sqlalchemy.engine.Engine SELECT \"Intervals\".id AS \"Intervals_id\", \"Intervals\".borehole AS \"Intervals_borehole\", \"Intervals\".interval_number AS \"Intervals_interval_number\", \"Intervals\".description AS \"Intervals_description\", \"Intervals\".top_id AS \"Intervals_top_id\", \"Intervals\".base_id AS \"Intervals_base_id\" \n",
      "FROM \"Intervals\" \n",
      "WHERE ? = \"Intervals\".borehole\n",
      "2021-06-16 12:02:17,676 INFO sqlalchemy.engine.Engine [generated in 0.00102s] ('201',)\n",
      "2021-06-16 12:02:17,681 INFO sqlalchemy.engine.Engine SELECT \"Positions\".id AS \"Positions_id\", \"Positions\".upper AS \"Positions_upper\", \"Positions\".middle AS \"Positions_middle\", \"Positions\".lower AS \"Positions_lower\", \"Positions\".x AS \"Positions_x\", \"Positions\".y AS \"Positions_y\" \n",
      "FROM \"Positions\" \n",
      "WHERE \"Positions\".id = ?\n",
      "2021-06-16 12:02:17,682 INFO sqlalchemy.engine.Engine [generated in 0.00079s] (0,)\n",
      "2021-06-16 12:02:17,685 INFO sqlalchemy.engine.Engine SELECT \"Positions\".id AS \"Positions_id\", \"Positions\".upper AS \"Positions_upper\", \"Positions\".middle AS \"Positions_middle\", \"Positions\".lower AS \"Positions_lower\", \"Positions\".x AS \"Positions_x\", \"Positions\".y AS \"Positions_y\" \n",
      "FROM \"Positions\" \n",
      "WHERE \"Positions\".id = ?\n",
      "2021-06-16 12:02:17,686 INFO sqlalchemy.engine.Engine [generated in 0.00107s] (1,)\n",
      "2021-06-16 12:02:17,689 INFO sqlalchemy.engine.Engine SELECT \"Positions\".id AS \"Positions_id\", \"Positions\".upper AS \"Positions_upper\", \"Positions\".middle AS \"Positions_middle\", \"Positions\".lower AS \"Positions_lower\", \"Positions\".x AS \"Positions_x\", \"Positions\".y AS \"Positions_y\" \n",
      "FROM \"Positions\" \n",
      "WHERE \"Positions\".id = ?\n",
      "2021-06-16 12:02:17,689 INFO sqlalchemy.engine.Engine [cached since 0.008399s ago] (2,)\n",
      "2021-06-16 12:02:17,691 INFO sqlalchemy.engine.Engine SELECT \"Positions\".id AS \"Positions_id\", \"Positions\".upper AS \"Positions_upper\", \"Positions\".middle AS \"Positions_middle\", \"Positions\".lower AS \"Positions_lower\", \"Positions\".x AS \"Positions_x\", \"Positions\".y AS \"Positions_y\" \n",
      "FROM \"Positions\" \n",
      "WHERE \"Positions\".id = ?\n",
      "2021-06-16 12:02:17,692 INFO sqlalchemy.engine.Engine [cached since 0.006414s ago] (3,)\n",
      "All components : [Component({}), Component({'grainsize': 'm'})]\n"
     ]
    },
    {
     "ename": "TypeError",
     "evalue": "Cannot create a legend for empty component",
     "output_type": "error",
     "traceback": [
      "\u001b[0;31m---------------------------------------------------------------------------\u001b[0m",
      "\u001b[0;31mTypeError\u001b[0m                                 Traceback (most recent call last)",
      "\u001b[0;32m<ipython-input-21-8118a082b7ff>\u001b[0m in \u001b[0;36m<module>\u001b[0;34m\u001b[0m\n\u001b[1;32m      1\u001b[0m \u001b[0;32mfor\u001b[0m \u001b[0mbh\u001b[0m \u001b[0;32min\u001b[0m \u001b[0mboreholes\u001b[0m\u001b[0;34m:\u001b[0m\u001b[0;34m\u001b[0m\u001b[0;34m\u001b[0m\u001b[0m\n\u001b[0;32m----> 2\u001b[0;31m     \u001b[0mp\u001b[0m\u001b[0;34m.\u001b[0m\u001b[0madd_borehole\u001b[0m\u001b[0;34m(\u001b[0m\u001b[0mbh\u001b[0m\u001b[0;34m)\u001b[0m\u001b[0;34m\u001b[0m\u001b[0;34m\u001b[0m\u001b[0m\n\u001b[0m",
      "\u001b[0;32m~/Projects/GSDMA/core/core.py\u001b[0m in \u001b[0;36madd_borehole\u001b[0;34m(self, bh)\u001b[0m\n\u001b[1;32m     94\u001b[0m         \u001b[0mself\u001b[0m\u001b[0;34m.\u001b[0m\u001b[0mrefresh\u001b[0m\u001b[0;34m(\u001b[0m\u001b[0;34m)\u001b[0m\u001b[0;34m\u001b[0m\u001b[0;34m\u001b[0m\u001b[0m\n\u001b[1;32m     95\u001b[0m         \u001b[0mlist_of_intervals\u001b[0m\u001b[0;34m,\u001b[0m \u001b[0mbh\u001b[0m\u001b[0;34m.\u001b[0m\u001b[0mlength\u001b[0m \u001b[0;34m=\u001b[0m \u001b[0mget_interval_list\u001b[0m\u001b[0;34m(\u001b[0m\u001b[0mbh\u001b[0m\u001b[0;34m)\u001b[0m\u001b[0;34m\u001b[0m\u001b[0;34m\u001b[0m\u001b[0m\n\u001b[0;32m---> 96\u001b[0;31m         self.boreholes_3d.append(Borehole3D(name=bh.id, diam=bh.diameter, intervals=list_of_intervals,\n\u001b[0m\u001b[1;32m     97\u001b[0m                                             legend=self.legend, length=bh.length))\n\u001b[1;32m     98\u001b[0m \u001b[0;34m\u001b[0m\u001b[0m\n",
      "\u001b[0;32m~/Projects/GSDMA/core/omf.py\u001b[0m in \u001b[0;36m__init__\u001b[0;34m(self, intervals, components, name, diam, length, x_collar, y_collar, z_collar, legend, legend_colors, legend_hatches)\u001b[0m\n\u001b[1;32m    139\u001b[0m         \u001b[0;31m# print(isinstance(self._legend, Legend))\u001b[0m\u001b[0;34m\u001b[0m\u001b[0;34m\u001b[0m\u001b[0;34m\u001b[0m\u001b[0m\n\u001b[1;32m    140\u001b[0m         \u001b[0;31m# create object legend\u001b[0m\u001b[0;34m\u001b[0m\u001b[0;34m\u001b[0m\u001b[0;34m\u001b[0m\u001b[0m\n\u001b[0;32m--> 141\u001b[0;31m         self.legend = self.build_legend(legend=self._legend,\n\u001b[0m\u001b[1;32m    142\u001b[0m                                         \u001b[0mhatches\u001b[0m\u001b[0;34m=\u001b[0m\u001b[0mlegend_hatches\u001b[0m\u001b[0;34m,\u001b[0m\u001b[0;34m\u001b[0m\u001b[0;34m\u001b[0m\u001b[0m\n\u001b[1;32m    143\u001b[0m                                         colors=legend_colors)\n",
      "\u001b[0;32m~/Projects/GSDMA/core/omf.py\u001b[0m in \u001b[0;36mbuild_legend\u001b[0;34m(self, legend, hatches, colors, width)\u001b[0m\n\u001b[1;32m    228\u001b[0m                 \u001b[0mprint\u001b[0m\u001b[0;34m(\u001b[0m\u001b[0;34mf\"All components : {components}\"\u001b[0m\u001b[0;34m)\u001b[0m\u001b[0;34m\u001b[0m\u001b[0;34m\u001b[0m\u001b[0m\n\u001b[1;32m    229\u001b[0m                 \u001b[0;31m# print(f\"Empty component: {i}-{comp}\")\u001b[0m\u001b[0;34m\u001b[0m\u001b[0;34m\u001b[0m\u001b[0;34m\u001b[0m\u001b[0m\n\u001b[0;32m--> 230\u001b[0;31m                 \u001b[0;32mraise\u001b[0m \u001b[0;34m(\u001b[0m\u001b[0mTypeError\u001b[0m\u001b[0;34m(\u001b[0m\u001b[0;34m'Cannot create a legend for empty component'\u001b[0m\u001b[0;34m)\u001b[0m\u001b[0;34m)\u001b[0m\u001b[0;34m\u001b[0m\u001b[0;34m\u001b[0m\u001b[0m\n\u001b[0m\u001b[1;32m    231\u001b[0m                 \u001b[0;31m# TODO : allow empty component (define a lacking lithology type)\u001b[0m\u001b[0;34m\u001b[0m\u001b[0;34m\u001b[0m\u001b[0;34m\u001b[0m\u001b[0m\n\u001b[1;32m    232\u001b[0m \u001b[0;34m\u001b[0m\u001b[0m\n",
      "\u001b[0;31mTypeError\u001b[0m: Cannot create a legend for empty component"
     ]
    }
   ],
   "source": [
    "for bh in boreholes:\n",
    "    p.add_borehole(bh)"
   ]
  },
  {
   "cell_type": "code",
   "execution_count": 22,
   "metadata": {},
   "outputs": [
    {
     "data": {
      "text/plain": [
       "{0: Component({'material': 'béton', 'grainsize': 'galets', 'Pollutant': 'naphtalène', 'lithology': 'sable', 'colour': 'rouge'}),\n",
       " 1: Component({'lithology': 'remblais', 'colour': 'gris verdâtre'}),\n",
       " 2: Component({'lithology': 'remblais', 'Pollutant': 'naphtalène'}),\n",
       " 3: Component({'lithology': 'limon', 'colour': 'verdâtre', 'grainsize': 'grossiers'}),\n",
       " 4: Component({'lithology': 'remblais', 'grainsize': 'grossiers', 'Pollutant': 'naphtalène'}),\n",
       " 5: Component({'lithology': 'remblais', 'colour': 'gris'}),\n",
       " 6: Component({'modifier': 'sableux', 'colour': 'rouge', 'lithology': 'sable'}),\n",
       " 7: Component({'lithology': 'limon'}),\n",
       " 8: Component({'lithology': 'sable', 'colour': 'blanc'}),\n",
       " 9: Component({'grainsize': 'grossiers', 'lithology': 'sable', 'colour': 'rouge'}),\n",
       " 10: Component({'lithology': 'remblais', 'modifier': 'sableuse', 'colour': 'sableuse'}),\n",
       " 11: Component({'lithology': 'limons', 'colour': 'verdâtre'}),\n",
       " 12: Component({'lithology': 'remblais', 'grainsize': 'grossiers'}),\n",
       " 13: Component({'lithology': 'limons', 'colour': 'noirs'}),\n",
       " 14: Component({'material': 'scories', 'grainsize': 'grossiers', 'lithology': 'sable', 'colour': 'rouge'}),\n",
       " 15: Component({'lithology': 'remblais', 'modifier': 'sableux', 'colour': 'noirs gris'}),\n",
       " 16: Component({'lithology': 'limons', 'modifier': 'argileux', 'colour': 'verdâtre'}),\n",
       " 17: Component({'lithology': 'remblais', 'material': 'scories', 'grainsize': 'grossiers'}),\n",
       " 18: Component({'lithology': 'remblais', 'colour': 'noirs'}),\n",
       " 19: Component({'modifier': 'saturée', 'colour': 'rouge', 'lithology': 'sable'}),\n",
       " 20: Component({'material': 'scories', 'modifier': 'saturée', 'quantity': 'moins', 'lithology': 'sable', 'colour': 'rouge'}),\n",
       " 21: Component({'modifier': 'saturée', 'lithology': 'sable', 'colour': 'rouge'}),\n",
       " 22: Component({'lithology': 'remblais', 'grainsize': 'fins'}),\n",
       " 23: Component({'lithology': 'limon', 'colour': 'verdâtre'}),\n",
       " 24: Component({'lithology': 'remblais', 'modifier': 'graveleux', 'colour': 'noire'}),\n",
       " 25: Component({'lithology': 'sable'}),\n",
       " 26: Component({'lithology': 'remblais', 'material': 'scories'}),\n",
       " 27: Component({'lithology': 'limons', 'modifier': 'sableux', 'colour': 'verdâtre'}),\n",
       " 28: Component({'lithology': 'remblais'}),\n",
       " 29: Component({'lithology': 'remblais', 'colour': 'verdâtre'}),\n",
       " 30: Component({'lithology': 'limon', 'colour': 'noir verdâtre'}),\n",
       " 31: Component({'material': 'scories', 'modifier': 'saturée', 'grainsize': 'galets', 'lithology': 'sable', 'colour': 'rouge'}),\n",
       " 32: Component({'lithology': 'limon', 'modifier': 'sableux', 'colour': 'foncé'}),\n",
       " 33: Component({'lithology': 'remblais', 'material': 'béton', 'modifier': 'caillouteux', 'colour': 'gris'}),\n",
       " 34: Component({'lithology': 'schistes', 'material': 'scories', 'modifier': 'saturée', 'colour': 'noirs'}),\n",
       " 35: Component({'lithology': 'limon', 'modifier': 'argileux'}),\n",
       " 36: Component({'lithology': 'remblais', 'modifier': 'caillouteux', 'colour': 'gris foncé'}),\n",
       " 37: Component({'lithology': 'remblais', 'material': 'béton', 'colour': 'gris', 'grainsize': 'centimétrique'}),\n",
       " 38: Component({'lithology': 'remblais', 'colour': 'gris foncé', 'grainsize': 'pluricentimétrique'}),\n",
       " 39: Component({'lithology': 'limon', 'modifier': 'sableux'}),\n",
       " 40: Component({'lithology': 'remblais', 'modifier': 'sableux', 'colour': 'jaune'}),\n",
       " 41: Component({'lithology': 'remblais', 'colour': 'noir'}),\n",
       " 42: Component({'lithology': 'remblais', 'material': 'scories', 'grainsize': 'centimétrique'}),\n",
       " 43: Component({'lithology': 'remblais', 'modifier': 'saturé'}),\n",
       " 44: Component({'lithology': 'limon', 'modifier': 'argileux', 'colour': 'verdâtre'})}"
      ]
     },
     "execution_count": 22,
     "metadata": {},
     "output_type": "execute_result"
    }
   ],
   "source": [
    "components\n",
    "#boreholes[0].intervals[0].components"
   ]
  },
  {
   "cell_type": "code",
   "execution_count": null,
   "metadata": {},
   "outputs": [],
   "source": [
    "p.add_link_between_components_and_intervals(link_intv_comp)"
   ]
  },
  {
   "cell_type": "code",
   "execution_count": null,
   "metadata": {},
   "outputs": [],
   "source": [
    "p.commit()\n",
    "print('Boreholes in the project : ', len(p.boreholes))"
   ]
  },
  {
   "cell_type": "code",
   "execution_count": null,
   "metadata": {},
   "outputs": [],
   "source": [
    "p.boreholes"
   ]
  },
  {
   "cell_type": "code",
   "execution_count": null,
   "metadata": {},
   "outputs": [],
   "source": [
    "p.refresh(verbose=True)"
   ]
  },
  {
   "cell_type": "code",
   "execution_count": null,
   "metadata": {},
   "outputs": [],
   "source": [
    "session.close()"
   ]
  },
  {
   "cell_type": "markdown",
   "metadata": {},
   "source": [
    "# 3D Display"
   ]
  },
  {
   "cell_type": "markdown",
   "metadata": {},
   "source": [
    "## Display one object"
   ]
  },
  {
   "cell_type": "code",
   "execution_count": null,
   "metadata": {},
   "outputs": [],
   "source": [
    "bh = p.boreholes_3d\n",
    "#print(bh.name, '\\n', bh.intervals) # problem with top and base position --> kind of overlaying"
   ]
  },
  {
   "cell_type": "code",
   "execution_count": null,
   "metadata": {},
   "outputs": [],
   "source": [
    "p.boreholes_3d[0].plot2d()"
   ]
  },
  {
   "cell_type": "code",
   "execution_count": null,
   "metadata": {},
   "outputs": [],
   "source": [
    "p.boreholes_3d[0].plot3d()"
   ]
  },
  {
   "cell_type": "code",
   "execution_count": null,
   "metadata": {},
   "outputs": [],
   "source": [
    "p.boreholes_3d[0].plot3d(x3d=True)"
   ]
  },
  {
   "cell_type": "markdown",
   "metadata": {},
   "source": [
    "### Display project boreholes"
   ]
  },
  {
   "cell_type": "code",
   "execution_count": null,
   "metadata": {},
   "outputs": [],
   "source": [
    "p.plot3d(labels_size=15, bg_color=[\"royalblue\", \"aliceblue\"], window_size=(1300, 1000))"
   ]
  },
  {
   "cell_type": "markdown",
   "metadata": {},
   "source": [
    "### Boreholes in 3D using X3D for interaction within the notebook"
   ]
  },
  {
   "cell_type": "raw",
   "metadata": {
    "scrolled": false
   },
   "source": [
    "p.plot3d(x3d=True)"
   ]
  },
  {
   "cell_type": "code",
   "execution_count": null,
   "metadata": {},
   "outputs": [],
   "source": []
  }
 ],
 "metadata": {
  "kernelspec": {
   "display_name": "Python 3",
   "language": "python",
   "name": "python3"
  },
  "language_info": {
   "codemirror_mode": {
    "name": "ipython",
    "version": 3
   },
   "file_extension": ".py",
   "mimetype": "text/x-python",
   "name": "python",
   "nbconvert_exporter": "python",
   "pygments_lexer": "ipython3",
   "version": "3.8.5"
  }
 },
 "nbformat": 4,
 "nbformat_minor": 4
}
