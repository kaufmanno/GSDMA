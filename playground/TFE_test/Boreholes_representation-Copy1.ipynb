{
 "cells": [
  {
   "cell_type": "markdown",
   "metadata": {},
   "source": [
    "# Example of using the Borehole3D class"
   ]
  },
  {
   "cell_type": "markdown",
   "metadata": {},
   "source": [
    "## Imports"
   ]
  },
  {
   "cell_type": "code",
   "execution_count": 1,
   "metadata": {},
   "outputs": [
    {
     "name": "stderr",
     "output_type": "stream",
     "text": [
      "/home/yanathan/.local/share/virtualenvs/GSDMA-DRfwm83x/lib/python3.8/site-packages/striplog/legend.py:687: UserWarning: This legend contains duplicate components.\n",
      "  warnings.warn(w)\n",
      "/home/yanathan/.local/share/virtualenvs/GSDMA-DRfwm83x/lib/python3.8/site-packages/striplog/legend.py:687: UserWarning: This legend contains duplicate components.\n",
      "  warnings.warn(w)\n"
     ]
    }
   ],
   "source": [
    "from striplog import Component, Decor, Legend, Lexicon, Striplog\n",
    "from core.omf import Borehole3D, striplog_legend_to_omf_legend \n",
    "from utils.lexicon.lexicon_fr import lexicon_fr, legend_fr, COLOURS_FR\n",
    "from utils.io import boreholes_from_files, gdf_viewer\n",
    "from core.core import Project\n",
    "from core.orm import BoreholeOrm, PositionOrm, Base \n",
    "\n",
    "import matplotlib.pyplot as plt\n",
    "from os import remove\n",
    "import pandas as pd\n",
    "import numpy as np\n",
    "from sqlalchemy import create_engine\n",
    "from sqlalchemy.orm import sessionmaker\n",
    "from definitions import ROOT_DIR"
   ]
  },
  {
   "cell_type": "markdown",
   "metadata": {},
   "source": [
    "## Reading of CSV files in a dir"
   ]
  },
  {
   "cell_type": "code",
   "execution_count": 2,
   "metadata": {},
   "outputs": [],
   "source": [
    "save_dir = ROOT_DIR+'/CF_data/Donnees_fusionnees/'"
   ]
  },
  {
   "cell_type": "code",
   "execution_count": 3,
   "metadata": {},
   "outputs": [],
   "source": [
    "df = pd.read_csv(save_dir+'Pilote_test.csv', sep=',')"
   ]
  },
  {
   "cell_type": "code",
   "execution_count": 4,
   "metadata": {},
   "outputs": [
    {
     "name": "stdout",
     "output_type": "stream",
     "text": [
      "Rows : 86, columns : 10\n"
     ]
    },
    {
     "data": {
      "application/vnd.jupyter.widget-view+json": {
       "model_id": "3956d4c0f4004873a8bb7f219965ddd2",
       "version_major": 2,
       "version_minor": 0
      },
      "text/plain": [
       "interactive(children=(IntSlider(value=10, description='rows', max=86, min=10, readout=False), IntSlider(value=…"
      ]
     },
     "metadata": {},
     "output_type": "display_data"
    }
   ],
   "source": [
    "gdf_viewer(df)"
   ]
  },
  {
   "cell_type": "markdown",
   "metadata": {},
   "source": [
    "## Data Checking"
   ]
  },
  {
   "cell_type": "raw",
   "metadata": {},
   "source": [
    "df.drop('Z', axis='columns', inplace=True)\n",
    "df.rename({'new_Z':'Z'}, axis='columns', inplace=True)"
   ]
  },
  {
   "cell_type": "raw",
   "metadata": {},
   "source": [
    "df.loc[df.query('Colour==\"tan\"').index, 'Colour'] = 'green' # use simple colour"
   ]
  },
  {
   "cell_type": "code",
   "execution_count": 5,
   "metadata": {},
   "outputs": [],
   "source": [
    "df.drop(index=df.query('X!=X').index, inplace=True)\n",
    "df.drop(index=df.query('Description!=Description').index, inplace=True)"
   ]
  },
  {
   "cell_type": "code",
   "execution_count": 6,
   "metadata": {},
   "outputs": [],
   "source": [
    "df['Diam_for'] = df['Diam_for']/1000"
   ]
  },
  {
   "cell_type": "raw",
   "metadata": {},
   "source": [
    "df.loc[1, 'Description'] ='Sable rouge'"
   ]
  },
  {
   "cell_type": "code",
   "execution_count": 7,
   "metadata": {},
   "outputs": [
    {
     "data": {
      "text/html": [
       "<div>\n",
       "<style scoped>\n",
       "    .dataframe tbody tr th:only-of-type {\n",
       "        vertical-align: middle;\n",
       "    }\n",
       "\n",
       "    .dataframe tbody tr th {\n",
       "        vertical-align: top;\n",
       "    }\n",
       "\n",
       "    .dataframe thead th {\n",
       "        text-align: right;\n",
       "    }\n",
       "</style>\n",
       "<table border=\"1\" class=\"dataframe\">\n",
       "  <thead>\n",
       "    <tr style=\"text-align: right;\">\n",
       "      <th></th>\n",
       "      <th>ID</th>\n",
       "      <th>Ep_litho</th>\n",
       "      <th>X</th>\n",
       "      <th>Y</th>\n",
       "      <th>Z</th>\n",
       "      <th>Long_for</th>\n",
       "      <th>Litho_base</th>\n",
       "      <th>Litho_top</th>\n",
       "      <th>Diam_for</th>\n",
       "      <th>Description</th>\n",
       "    </tr>\n",
       "  </thead>\n",
       "  <tbody>\n",
       "    <tr>\n",
       "      <th>0</th>\n",
       "      <td>201</td>\n",
       "      <td>0.6</td>\n",
       "      <td>152890.245758</td>\n",
       "      <td>122596.47426</td>\n",
       "      <td>101.926886</td>\n",
       "      <td>2.4</td>\n",
       "      <td>1.2</td>\n",
       "      <td>0.6</td>\n",
       "      <td>0.075</td>\n",
       "      <td>Remblais avec briques de construction couleur ...</td>\n",
       "    </tr>\n",
       "    <tr>\n",
       "      <th>1</th>\n",
       "      <td>201</td>\n",
       "      <td>1.2</td>\n",
       "      <td>152890.245758</td>\n",
       "      <td>122596.47426</td>\n",
       "      <td>101.926886</td>\n",
       "      <td>2.4</td>\n",
       "      <td>2.4</td>\n",
       "      <td>1.2</td>\n",
       "      <td>0.075</td>\n",
       "      <td>Briquaille de déchets de construction et galet...</td>\n",
       "    </tr>\n",
       "  </tbody>\n",
       "</table>\n",
       "</div>"
      ],
      "text/plain": [
       "    ID  Ep_litho              X             Y           Z  Long_for  \\\n",
       "0  201       0.6  152890.245758  122596.47426  101.926886       2.4   \n",
       "1  201       1.2  152890.245758  122596.47426  101.926886       2.4   \n",
       "\n",
       "   Litho_base  Litho_top  Diam_for  \\\n",
       "0         1.2        0.6     0.075   \n",
       "1         2.4        1.2     0.075   \n",
       "\n",
       "                                         Description  \n",
       "0  Remblais avec briques de construction couleur ...  \n",
       "1  Briquaille de déchets de construction et galet...  "
      ]
     },
     "execution_count": 7,
     "metadata": {},
     "output_type": "execute_result"
    }
   ],
   "source": [
    "df.query('ID==\"201\"')"
   ]
  },
  {
   "cell_type": "code",
   "execution_count": 8,
   "metadata": {
    "scrolled": true
   },
   "outputs": [],
   "source": [
    "df['Ep_litho']=df['Litho_base']-df['Litho_top']"
   ]
  },
  {
   "cell_type": "markdown",
   "metadata": {},
   "source": [
    "## Create Boreholes from dataframes or files"
   ]
  },
  {
   "cell_type": "code",
   "execution_count": 9,
   "metadata": {},
   "outputs": [],
   "source": [
    "id_list = ['205','207','214']\n",
    "df = df.query('ID in @id_list')\n",
    "df.reset_index(drop=True, inplace=True)\n",
    "bhs_df=[df] # list of dataframes"
   ]
  },
  {
   "cell_type": "code",
   "execution_count": 10,
   "metadata": {
    "scrolled": true
   },
   "outputs": [
    {
     "name": "stdout",
     "output_type": "stream",
     "text": [
      "\n",
      "Dataframe 0 processing...\n",
      "================================\n",
      "|__ID:'205'\n",
      "Summary : [Striplog(7 Intervals, start=0.0, stop=4.8)]\n",
      "{0: {'description': \"Couche de boue en surface liée à l'intervention de Géosonda\", 'interval_number': 0, 'top': <core.orm.PositionOrm object at 0x7f8e526755e0>, 'base': <core.orm.PositionOrm object at 0x7f8e52675a90>}, 1: {'description': 'Limon brun ', 'interval_number': 1, 'top': <core.orm.PositionOrm object at 0x7f8e526753a0>, 'base': <core.orm.PositionOrm object at 0x7f8e526752b0>}, 2: {'description': 'Remblais gris gravillonneux avec présence de déchets de construction', 'interval_number': 2, 'top': <core.orm.PositionOrm object at 0x7f8e526751c0>, 'base': <core.orm.PositionOrm object at 0x7f8e52675490>}, 3: {'description': \"Présence d'eau avec remblais pollués (odeur forte de naphtalène avec irrisation de l'eau) + mélange de limon et gravillons \", 'interval_number': 3, 'top': <core.orm.PositionOrm object at 0x7f8e526754c0>, 'base': <core.orm.PositionOrm object at 0x7f8e52675460>}, 4: {'description': 'Remblais grossiers saturés avec présence de produit pur - odeur forte +++ de naphtalène ', 'interval_number': 4, 'top': <core.orm.PositionOrm object at 0x7f8e526754f0>, 'base': <core.orm.PositionOrm object at 0x7f8e52675610>}, 5: {'description': 'Alluvions verdâtres argilo-sableux (odeur dans les 40 premiers cm). Présence de goudron noir pur sur les alluvions', 'interval_number': 5, 'top': <core.orm.PositionOrm object at 0x7f8e526757c0>, 'base': <core.orm.PositionOrm object at 0x7f8e52675640>}, 6: {'description': \"Retombées des strates supérieures - Limon verdâtre devient brun - Dans gouge, présence d'éléments grossiers favorisant le passage de produit pur (créant des chemins préférentiels)\", 'interval_number': 6, 'top': <core.orm.PositionOrm object at 0x7f8e52675670>, 'base': <core.orm.PositionOrm object at 0x7f8e526756d0>}}\n",
      "\n",
      "|__ID:'207'\n",
      "Summary : [Striplog(7 Intervals, start=0.0, stop=4.8)]\n",
      "{7: {'description': 'Remblais brun avec déchets de construction oranges fins ', 'interval_number': 0, 'top': <core.orm.PositionOrm object at 0x7f8e5266acd0>, 'base': <core.orm.PositionOrm object at 0x7f8e5266aaf0>}, 8: {'description': 'Remblais de couleur noire en mélange avec limon graveleux', 'interval_number': 1, 'top': <core.orm.PositionOrm object at 0x7f8e5266aa60>, 'base': <core.orm.PositionOrm object at 0x7f8e5266ab80>}, 9: {'description': 'Déchets de construction : brique et sable beige', 'interval_number': 2, 'top': <core.orm.PositionOrm object at 0x7f8e5266ad00>, 'base': <core.orm.PositionOrm object at 0x7f8e5266a9d0>}, 10: {'description': 'Caillasse saturée (présence de scories) - semble moins pollué ', 'interval_number': 3, 'top': <core.orm.PositionOrm object at 0x7f8e5266ae20>, 'base': <core.orm.PositionOrm object at 0x7f8e5266af40>}, 11: {'description': 'Caillasse saturée avec produit pur en bout de gouge - présence de grosses briques grises entre 2,4 m et 3 m', 'interval_number': 4, 'top': <core.orm.PositionOrm object at 0x7f8e5266a970>, 'base': <core.orm.PositionOrm object at 0x7f8e5266a820>}, 12: {'description': 'Retombées - Caillasse saturée du dessus ', 'interval_number': 5, 'top': <core.orm.PositionOrm object at 0x7f8e5266a9a0>, 'base': <core.orm.PositionOrm object at 0x7f8e5266a610>}, 13: {'description': 'Limon verdâtre sur 10 cm puis ocre ', 'interval_number': 6, 'top': <core.orm.PositionOrm object at 0x7f8e5266a910>, 'base': <core.orm.PositionOrm object at 0x7f8e526f9820>}}\n",
      "\n",
      "|__ID:'214'\n",
      "Summary : [Striplog(7 Intervals, start=0.0, stop=4.8)]\n",
      "{14: {'description': 'Remblais noirs en mélange avec sable beige ', 'interval_number': 0, 'top': <core.orm.PositionOrm object at 0x7f8e52606df0>, 'base': <core.orm.PositionOrm object at 0x7f8e52606f70>}, 15: {'description': 'Remblais noirs gravillonneux ', 'interval_number': 1, 'top': <core.orm.PositionOrm object at 0x7f8e52606f10>, 'base': <core.orm.PositionOrm object at 0x7f8e52606d90>}, 16: {'description': 'Remblais de déchets de construction brun/beige avec briquailles', 'interval_number': 2, 'top': <core.orm.PositionOrm object at 0x7f8e526065b0>, 'base': <core.orm.PositionOrm object at 0x7f8e526069d0>}, 17: {'description': \"Remblais avec briquaillons divers bruns/oranges - présence de scories - eau - pas d'irrisation\", 'interval_number': 3, 'top': <core.orm.PositionOrm object at 0x7f8e526067f0>, 'base': <core.orm.PositionOrm object at 0x7f8e52606ca0>}, 18: {'description': 'Remblais avec strate de produit pur ', 'interval_number': 4, 'top': <core.orm.PositionOrm object at 0x7f8e52606c70>, 'base': <core.orm.PositionOrm object at 0x7f8e52606a00>}, 19: {'description': 'Remblais en mélange avec limon verdâtre - présence de produit pur ', 'interval_number': 5, 'top': <core.orm.PositionOrm object at 0x7f8e52675280>, 'base': <core.orm.PositionOrm object at 0x7f8e52675220>}, 20: {'description': 'Retombées et limons verdâtre argilo-sableux - odeur', 'interval_number': 6, 'top': <core.orm.PositionOrm object at 0x7f8e52675160>, 'base': <core.orm.PositionOrm object at 0x7f8e52675130>}}\n",
      "\n",
      "\n",
      "End of the process : 3 unique ID found\n"
     ]
    },
    {
     "name": "stderr",
     "output_type": "stream",
     "text": [
      "/home/yanathan/Projects/GSDMA/utils/io.py:478: SAWarning: relationship 'ComponentOrm.intervals' will copy column Components.id to column Linkintervalcomponent.comp_id, which conflicts with relationship(s): 'IntervalOrm.components' (copies Components.id to Linkintervalcomponent.comp_id). If this is not the intention, consider if these relationships should be linked with back_populates, or if viewonly=True should be applied to one or more if they are read-only. For the less common case that foreign key constraints are partially overlapping, the orm.foreign() annotation can be used to isolate the columns that should be written towards.   The 'overlaps' parameter may be used to remove this warning.\n",
      "  boreholes.append(BoreholeOrm(id=bh_name))\n",
      "/home/yanathan/Projects/GSDMA/utils/io.py:478: SAWarning: relationship 'ComponentOrm.intervals' will copy column Intervals.id to column Linkintervalcomponent.int_id, which conflicts with relationship(s): 'IntervalOrm.components' (copies Intervals.id to Linkintervalcomponent.int_id). If this is not the intention, consider if these relationships should be linked with back_populates, or if viewonly=True should be applied to one or more if they are read-only. For the less common case that foreign key constraints are partially overlapping, the orm.foreign() annotation can be used to isolate the columns that should be written towards.   The 'overlaps' parameter may be used to remove this warning.\n",
      "  boreholes.append(BoreholeOrm(id=bh_name))\n",
      "/home/yanathan/Projects/GSDMA/utils/io.py:478: SAWarning: relationship 'ComponentOrm.component_assoc' will copy column Components.id to column Linkintervalcomponent.comp_id, which conflicts with relationship(s): 'IntervalOrm.components' (copies Components.id to Linkintervalcomponent.comp_id), 'ComponentOrm.intervals' (copies Components.id to Linkintervalcomponent.comp_id). If this is not the intention, consider if these relationships should be linked with back_populates, or if viewonly=True should be applied to one or more if they are read-only. For the less common case that foreign key constraints are partially overlapping, the orm.foreign() annotation can be used to isolate the columns that should be written towards.   The 'overlaps' parameter may be used to remove this warning.\n",
      "  boreholes.append(BoreholeOrm(id=bh_name))\n",
      "/home/yanathan/Projects/GSDMA/utils/io.py:478: SAWarning: relationship 'LinkIntervalComponentOrm.component' will copy column Components.id to column Linkintervalcomponent.comp_id, which conflicts with relationship(s): 'IntervalOrm.components' (copies Components.id to Linkintervalcomponent.comp_id), 'ComponentOrm.intervals' (copies Components.id to Linkintervalcomponent.comp_id). If this is not the intention, consider if these relationships should be linked with back_populates, or if viewonly=True should be applied to one or more if they are read-only. For the less common case that foreign key constraints are partially overlapping, the orm.foreign() annotation can be used to isolate the columns that should be written towards.   The 'overlaps' parameter may be used to remove this warning.\n",
      "  boreholes.append(BoreholeOrm(id=bh_name))\n",
      "/home/yanathan/Projects/GSDMA/utils/io.py:478: SAWarning: relationship 'IntervalOrm.interval_assoc' will copy column Intervals.id to column Linkintervalcomponent.int_id, which conflicts with relationship(s): 'IntervalOrm.components' (copies Intervals.id to Linkintervalcomponent.int_id), 'ComponentOrm.intervals' (copies Intervals.id to Linkintervalcomponent.int_id). If this is not the intention, consider if these relationships should be linked with back_populates, or if viewonly=True should be applied to one or more if they are read-only. For the less common case that foreign key constraints are partially overlapping, the orm.foreign() annotation can be used to isolate the columns that should be written towards.   The 'overlaps' parameter may be used to remove this warning.\n",
      "  boreholes.append(BoreholeOrm(id=bh_name))\n",
      "/home/yanathan/Projects/GSDMA/utils/io.py:478: SAWarning: relationship 'LinkIntervalComponentOrm.interval' will copy column Intervals.id to column Linkintervalcomponent.int_id, which conflicts with relationship(s): 'IntervalOrm.components' (copies Intervals.id to Linkintervalcomponent.int_id), 'ComponentOrm.intervals' (copies Intervals.id to Linkintervalcomponent.int_id). If this is not the intention, consider if these relationships should be linked with back_populates, or if viewonly=True should be applied to one or more if they are read-only. For the less common case that foreign key constraints are partially overlapping, the orm.foreign() annotation can be used to isolate the columns that should be written towards.   The 'overlaps' parameter may be used to remove this warning.\n",
      "  boreholes.append(BoreholeOrm(id=bh_name))\n"
     ]
    }
   ],
   "source": [
    "boreholes, components, link_intv_comp = boreholes_from_files(bhs_df, verbose=True,\n",
    "                                                litho_field='Description',\n",
    "                                                lexicon=lexicon_fr,\n",
    "                                                diam_field='Diam_for', \n",
    "                                                litho_top_field='Litho_top',\n",
    "                                                litho_base_field='Litho_base',\n",
    "                                                thick_field='Ep_litho')"
   ]
  },
  {
   "cell_type": "code",
   "execution_count": 11,
   "metadata": {},
   "outputs": [],
   "source": [
    "litho_list = []\n",
    "color_list = []\n",
    "for i, c in components.items():\n",
    "    if not hasattr(c, 'lithology'):\n",
    "        c.lithology = 'sable'\n",
    "        c.colour = 'rouge'\n",
    "    elif c.lithology == 'sand':\n",
    "        c.lithology = 'sable'\n",
    "        c.colour = 'blanc'\n",
    "    if c.lithology not in litho_list:\n",
    "        litho_list.append(c.lithology)\n",
    "    if hasattr(c, 'colour') and c.colour not in color_list:\n",
    "        color_list.append(c.colour)"
   ]
  },
  {
   "cell_type": "code",
   "execution_count": 12,
   "metadata": {
    "scrolled": false
   },
   "outputs": [
    {
     "data": {
      "text/plain": [
       "(['remblais', 'limon', 'alluvions', 'boue', 'sable', 'limons'],\n",
       " ['verdâtre',\n",
       "  'gris',\n",
       "  'verdâtres',\n",
       "  'brun',\n",
       "  'rouge',\n",
       "  'noire',\n",
       "  'brique',\n",
       "  'sable beige',\n",
       "  'brun beige'])"
      ]
     },
     "execution_count": 12,
     "metadata": {},
     "output_type": "execute_result"
    }
   ],
   "source": [
    "litho_list, color_list"
   ]
  },
  {
   "cell_type": "raw",
   "metadata": {},
   "source": [
    "COLOURS_FR.update({'Orange gris':'#C28100', \n",
    "'Verdâtre':'#334D00',\n",
    "'Sable beige':'#FFEE99',\n",
    "'Brun beige':'#DEB671',\n",
    "'Noir verdâtre':'#003322',\n",
    "'Verdâtre brun':'#404D00'})"
   ]
  },
  {
   "cell_type": "raw",
   "metadata": {},
   "source": [
    "COLOURS_FR"
   ]
  },
  {
   "cell_type": "code",
   "execution_count": 13,
   "metadata": {},
   "outputs": [
    {
     "data": {
      "text/html": [
       "<table><tr><td><strong>modifier</strong></td><td>saturée</td></tr><tr><td><strong>lithology</strong></td><td>sable</td></tr><tr><td><strong>colour</strong></td><td>rouge</td></tr></table>"
      ],
      "text/plain": [
       "Component({'modifier': 'saturée', 'lithology': 'sable', 'colour': 'rouge'})"
      ]
     },
     "execution_count": 13,
     "metadata": {},
     "output_type": "execute_result"
    }
   ],
   "source": [
    "components[9]"
   ]
  },
  {
   "cell_type": "code",
   "execution_count": 14,
   "metadata": {},
   "outputs": [],
   "source": [
    "memoris_components = [Component({'lithology': 'remblais'}),\n",
    "              Component({'lithology': 'limon'}),\n",
    "              Component({'lithology': 'schistes'}),\n",
    "              Component({'lithology': 'sable'}),\n",
    "              Component({'lithology': 'anthropique'})\n",
    "              ]\n",
    "list_of_decors=[]\n",
    "hatches = ['=', 'x', '.', 's', '=']\n",
    "colours = ['#888888', '#882222', '#AAAAAA', '#CC22CC', '#CC2222']\n",
    "\n",
    "for i in range(len(memoris_components)):\n",
    "    if hasattr(memoris_components[i], 'colour'):\n",
    "        c = memoris_components[i].colour\n",
    "    else:\n",
    "        c=colours[i]\n",
    "    \n",
    "    if hasattr(memoris_components[i], 'hatch'):\n",
    "        h = memoris_components[i].hatch\n",
    "    else:\n",
    "        h=hatches[i]\n",
    "        \n",
    "    d = {'color': c,\n",
    "         'hatch': h,\n",
    "         'component': memoris_components[i],\n",
    "         'width': 3}\n",
    "    decor = Decor(d)\n",
    "    list_of_decors.append(decor)\n",
    "    \n",
    "memoris_legend = Legend(list_of_decors)"
   ]
  },
  {
   "cell_type": "code",
   "execution_count": 15,
   "metadata": {},
   "outputs": [
    {
     "data": {
      "text/plain": [
       "(3, 20)"
      ]
     },
     "execution_count": 15,
     "metadata": {},
     "output_type": "execute_result"
    }
   ],
   "source": [
    "len(boreholes), len(components)"
   ]
  },
  {
   "cell_type": "markdown",
   "metadata": {},
   "source": [
    "## Create a project and save data in a database"
   ]
  },
  {
   "cell_type": "code",
   "execution_count": 16,
   "metadata": {},
   "outputs": [],
   "source": [
    "remove('tmp_files/tfe_orm_db.db')"
   ]
  },
  {
   "cell_type": "code",
   "execution_count": 17,
   "metadata": {},
   "outputs": [],
   "source": [
    "engine = create_engine('sqlite:///tmp_files/tfe_orm_db.db', echo=True)"
   ]
  },
  {
   "cell_type": "code",
   "execution_count": 18,
   "metadata": {
    "scrolled": true
   },
   "outputs": [
    {
     "name": "stdout",
     "output_type": "stream",
     "text": [
      "2021-06-18 16:02:31,281 INFO sqlalchemy.engine.Engine BEGIN (implicit)\n",
      "2021-06-18 16:02:31,282 INFO sqlalchemy.engine.Engine PRAGMA main.table_info(\"Boreholes\")\n",
      "2021-06-18 16:02:31,283 INFO sqlalchemy.engine.Engine [raw sql] ()\n",
      "2021-06-18 16:02:31,284 INFO sqlalchemy.engine.Engine PRAGMA temp.table_info(\"Boreholes\")\n",
      "2021-06-18 16:02:31,285 INFO sqlalchemy.engine.Engine [raw sql] ()\n",
      "2021-06-18 16:02:31,285 INFO sqlalchemy.engine.Engine PRAGMA main.table_info(\"Positions\")\n",
      "2021-06-18 16:02:31,286 INFO sqlalchemy.engine.Engine [raw sql] ()\n",
      "2021-06-18 16:02:31,286 INFO sqlalchemy.engine.Engine PRAGMA temp.table_info(\"Positions\")\n",
      "2021-06-18 16:02:31,287 INFO sqlalchemy.engine.Engine [raw sql] ()\n",
      "2021-06-18 16:02:31,288 INFO sqlalchemy.engine.Engine PRAGMA main.table_info(\"Intervals\")\n",
      "2021-06-18 16:02:31,289 INFO sqlalchemy.engine.Engine [raw sql] ()\n",
      "2021-06-18 16:02:31,289 INFO sqlalchemy.engine.Engine PRAGMA temp.table_info(\"Intervals\")\n",
      "2021-06-18 16:02:31,289 INFO sqlalchemy.engine.Engine [raw sql] ()\n",
      "2021-06-18 16:02:31,290 INFO sqlalchemy.engine.Engine PRAGMA main.table_info(\"Components\")\n",
      "2021-06-18 16:02:31,290 INFO sqlalchemy.engine.Engine [raw sql] ()\n",
      "2021-06-18 16:02:31,291 INFO sqlalchemy.engine.Engine PRAGMA temp.table_info(\"Components\")\n",
      "2021-06-18 16:02:31,291 INFO sqlalchemy.engine.Engine [raw sql] ()\n",
      "2021-06-18 16:02:31,292 INFO sqlalchemy.engine.Engine PRAGMA main.table_info(\"Linkintervalcomponent\")\n",
      "2021-06-18 16:02:31,292 INFO sqlalchemy.engine.Engine [raw sql] ()\n",
      "2021-06-18 16:02:31,293 INFO sqlalchemy.engine.Engine PRAGMA temp.table_info(\"Linkintervalcomponent\")\n",
      "2021-06-18 16:02:31,293 INFO sqlalchemy.engine.Engine [raw sql] ()\n",
      "2021-06-18 16:02:31,294 INFO sqlalchemy.engine.Engine \n",
      "CREATE TABLE \"Boreholes\" (\n",
      "\tid VARCHAR(32) NOT NULL, \n",
      "\tlength FLOAT, \n",
      "\tdiameter FLOAT, \n",
      "\tPRIMARY KEY (id)\n",
      ")\n",
      "\n",
      "\n",
      "2021-06-18 16:02:31,296 INFO sqlalchemy.engine.Engine [no key 0.00149s] ()\n",
      "2021-06-18 16:02:31,300 INFO sqlalchemy.engine.Engine \n",
      "CREATE TABLE \"Positions\" (\n",
      "\tid INTEGER NOT NULL, \n",
      "\tupper FLOAT, \n",
      "\tmiddle FLOAT, \n",
      "\tlower FLOAT, \n",
      "\tx FLOAT, \n",
      "\ty FLOAT, \n",
      "\tPRIMARY KEY (id)\n",
      ")\n",
      "\n",
      "\n",
      "2021-06-18 16:02:31,301 INFO sqlalchemy.engine.Engine [no key 0.00073s] ()\n",
      "2021-06-18 16:02:31,306 INFO sqlalchemy.engine.Engine \n",
      "CREATE TABLE \"Components\" (\n",
      "\tid INTEGER NOT NULL, \n",
      "\tdescription VARCHAR(32), \n",
      "\tPRIMARY KEY (id)\n",
      ")\n",
      "\n",
      "\n",
      "2021-06-18 16:02:31,307 INFO sqlalchemy.engine.Engine [no key 0.00123s] ()\n",
      "2021-06-18 16:02:31,312 INFO sqlalchemy.engine.Engine \n",
      "CREATE TABLE \"Intervals\" (\n",
      "\tid INTEGER NOT NULL, \n",
      "\tborehole VARCHAR(32), \n",
      "\tinterval_number INTEGER, \n",
      "\tdescription VARCHAR(32), \n",
      "\ttop_id INTEGER, \n",
      "\tbase_id INTEGER, \n",
      "\tPRIMARY KEY (id), \n",
      "\tFOREIGN KEY(borehole) REFERENCES \"Boreholes\" (id), \n",
      "\tFOREIGN KEY(top_id) REFERENCES \"Positions\" (id), \n",
      "\tFOREIGN KEY(base_id) REFERENCES \"Positions\" (id)\n",
      ")\n",
      "\n",
      "\n",
      "2021-06-18 16:02:31,313 INFO sqlalchemy.engine.Engine [no key 0.00099s] ()\n",
      "2021-06-18 16:02:31,317 INFO sqlalchemy.engine.Engine \n",
      "CREATE TABLE \"Linkintervalcomponent\" (\n",
      "\tint_id INTEGER NOT NULL, \n",
      "\tcomp_id INTEGER NOT NULL, \n",
      "\textra_data VARCHAR(256), \n",
      "\tPRIMARY KEY (int_id, comp_id), \n",
      "\tFOREIGN KEY(int_id) REFERENCES \"Intervals\" (id), \n",
      "\tFOREIGN KEY(comp_id) REFERENCES \"Components\" (id)\n",
      ")\n",
      "\n",
      "\n",
      "2021-06-18 16:02:31,318 INFO sqlalchemy.engine.Engine [no key 0.00125s] ()\n",
      "2021-06-18 16:02:31,323 INFO sqlalchemy.engine.Engine COMMIT\n"
     ]
    }
   ],
   "source": [
    "Base.metadata.create_all(engine)"
   ]
  },
  {
   "cell_type": "code",
   "execution_count": 19,
   "metadata": {},
   "outputs": [],
   "source": [
    "Session = sessionmaker(bind=engine)\n",
    "session = Session()"
   ]
  },
  {
   "cell_type": "code",
   "execution_count": 20,
   "metadata": {},
   "outputs": [
    {
     "name": "stdout",
     "output_type": "stream",
     "text": [
      "2021-06-18 16:02:31,335 INFO sqlalchemy.engine.Engine BEGIN (implicit)\n",
      "2021-06-18 16:02:31,339 INFO sqlalchemy.engine.Engine SELECT \"Boreholes\".id AS \"Boreholes_id\", \"Boreholes\".length AS \"Boreholes_length\", \"Boreholes\".diameter AS \"Boreholes_diameter\" \n",
      "FROM \"Boreholes\"\n",
      "2021-06-18 16:02:31,339 INFO sqlalchemy.engine.Engine [generated in 0.00090s] ()\n",
      "2021-06-18 16:02:31,345 INFO sqlalchemy.engine.Engine INSERT INTO \"Components\" (id, description) VALUES (?, ?)\n",
      "2021-06-18 16:02:31,346 INFO sqlalchemy.engine.Engine [generated in 0.00100s] ((0, 'Remblais, naphtalène'), (1, 'Limon, grossiers, verdâtre'), (2, 'Remblais, grossiers, naphtalène'), (3, 'Remblais, gris'), (4, 'Alluvions, sableux, verdâtres'), (5, 'Limon, brun'), (6, 'Boue'), (7, 'Saturée, rouge, sable')  ... displaying 10 of 20 total bound parameter sets ...  (18, 'Remblais, verdâtre'), (19, 'Remblais, brun beige'))\n",
      "2021-06-18 16:02:31,347 INFO sqlalchemy.engine.Engine COMMIT\n",
      "2021-06-18 16:02:31,350 INFO sqlalchemy.engine.Engine BEGIN (implicit)\n",
      "2021-06-18 16:02:31,351 INFO sqlalchemy.engine.Engine SELECT \"Boreholes\".id AS \"Boreholes_id\", \"Boreholes\".length AS \"Boreholes_length\", \"Boreholes\".diameter AS \"Boreholes_diameter\" \n",
      "FROM \"Boreholes\"\n",
      "2021-06-18 16:02:31,352 INFO sqlalchemy.engine.Engine [cached since 0.01348s ago] ()\n"
     ]
    }
   ],
   "source": [
    "p = Project(session, legend=legend_fr, lexicon=lexicon_fr)\n",
    "p.add_components(components)"
   ]
  },
  {
   "cell_type": "markdown",
   "metadata": {},
   "source": [
    "Add boreholes into the project"
   ]
  },
  {
   "cell_type": "code",
   "execution_count": 21,
   "metadata": {
    "scrolled": true
   },
   "outputs": [
    {
     "name": "stdout",
     "output_type": "stream",
     "text": [
      "2021-06-18 16:02:31,359 INFO sqlalchemy.engine.Engine INSERT INTO \"Boreholes\" (id, length, diameter) VALUES (?, ?, ?)\n",
      "2021-06-18 16:02:31,360 INFO sqlalchemy.engine.Engine [generated in 0.00133s] ('205', 4.8, 0.075)\n",
      "2021-06-18 16:02:31,363 INFO sqlalchemy.engine.Engine INSERT INTO \"Positions\" (id, upper, middle, lower, x, y) VALUES (?, ?, ?, ?, ?, ?)\n",
      "2021-06-18 16:02:31,364 INFO sqlalchemy.engine.Engine [generated in 0.00103s] ((0, 0.0, 0.0, 0.0, 152887.69317500002, 122594.619977), (1, 0.2, 0.2, 0.2, 152887.69317500002, 122594.619977), (2, 0.2, 0.2, 0.2, 152887.69317500002, 122594.619977), (3, 0.4, 0.4, 0.4, 152887.69317500002, 122594.619977), (4, 0.4, 0.4, 0.4, 152887.69317500002, 122594.619977), (5, 1.2, 1.2, 1.2, 152887.69317500002, 122594.619977), (6, 1.2, 1.2, 1.2, 152887.69317500002, 122594.619977), (7, 2.4, 2.4, 2.4, 152887.69317500002, 122594.619977)  ... displaying 10 of 14 total bound parameter sets ...  (12, 3.6, 3.6, 3.6, 152887.69317500002, 122594.619977), (13, 4.8, 4.8, 4.8, 152887.69317500002, 122594.619977))\n",
      "2021-06-18 16:02:31,367 INFO sqlalchemy.engine.Engine INSERT INTO \"Intervals\" (id, borehole, interval_number, description, top_id, base_id) VALUES (?, ?, ?, ?, ?, ?)\n",
      "2021-06-18 16:02:31,368 INFO sqlalchemy.engine.Engine [generated in 0.00121s] ((0, '205', 0, \"Couche de boue en surface liée à l'intervention de Géosonda\", 0, 1), (1, '205', 1, 'Limon brun ', 2, 3), (2, '205', 2, 'Remblais gris gravillonneux avec présence de déchets de construction', 4, 5), (3, '205', 3, \"Présence d'eau avec remblais pollués (odeur forte de naphtalène avec irrisation de l'eau) + mélange de limon et gravillons \", 6, 7), (4, '205', 4, 'Remblais grossiers saturés avec présence de produit pur - odeur forte +++ de naphtalène ', 8, 9), (5, '205', 5, 'Alluvions verdâtres argilo-sableux (odeur dans les 40 premiers cm). Présence de goudron noir pur sur les alluvions', 10, 11), (6, '205', 6, \"Retombées des strates supérieures - Limon verdâtre devient brun - Dans gouge, présence d'éléments grossiers favorisant le passage de produit pur (créant des chemins préférentiels)\", 12, 13))\n",
      "2021-06-18 16:02:31,371 INFO sqlalchemy.engine.Engine COMMIT\n",
      "2021-06-18 16:02:31,375 INFO sqlalchemy.engine.Engine BEGIN (implicit)\n",
      "2021-06-18 16:02:31,376 INFO sqlalchemy.engine.Engine SELECT \"Boreholes\".id AS \"Boreholes_id\", \"Boreholes\".length AS \"Boreholes_length\", \"Boreholes\".diameter AS \"Boreholes_diameter\" \n",
      "FROM \"Boreholes\"\n",
      "2021-06-18 16:02:31,377 INFO sqlalchemy.engine.Engine [cached since 0.03825s ago] ()\n",
      "2021-06-18 16:02:31,381 INFO sqlalchemy.engine.Engine SELECT \"Intervals\".id AS \"Intervals_id\", \"Intervals\".borehole AS \"Intervals_borehole\", \"Intervals\".interval_number AS \"Intervals_interval_number\", \"Intervals\".description AS \"Intervals_description\", \"Intervals\".top_id AS \"Intervals_top_id\", \"Intervals\".base_id AS \"Intervals_base_id\" \n",
      "FROM \"Intervals\" \n",
      "WHERE ? = \"Intervals\".borehole\n",
      "2021-06-18 16:02:31,381 INFO sqlalchemy.engine.Engine [generated in 0.00066s] ('205',)\n",
      "2021-06-18 16:02:31,386 INFO sqlalchemy.engine.Engine SELECT \"Positions\".id AS \"Positions_id\", \"Positions\".upper AS \"Positions_upper\", \"Positions\".middle AS \"Positions_middle\", \"Positions\".lower AS \"Positions_lower\", \"Positions\".x AS \"Positions_x\", \"Positions\".y AS \"Positions_y\" \n",
      "FROM \"Positions\" \n",
      "WHERE \"Positions\".id = ?\n",
      "2021-06-18 16:02:31,387 INFO sqlalchemy.engine.Engine [generated in 0.00078s] (0,)\n",
      "2021-06-18 16:02:31,389 INFO sqlalchemy.engine.Engine SELECT \"Positions\".id AS \"Positions_id\", \"Positions\".upper AS \"Positions_upper\", \"Positions\".middle AS \"Positions_middle\", \"Positions\".lower AS \"Positions_lower\", \"Positions\".x AS \"Positions_x\", \"Positions\".y AS \"Positions_y\" \n",
      "FROM \"Positions\" \n",
      "WHERE \"Positions\".id = ?\n",
      "2021-06-18 16:02:31,390 INFO sqlalchemy.engine.Engine [generated in 0.00057s] (1,)\n",
      "2021-06-18 16:02:31,392 INFO sqlalchemy.engine.Engine SELECT \"Positions\".id AS \"Positions_id\", \"Positions\".upper AS \"Positions_upper\", \"Positions\".middle AS \"Positions_middle\", \"Positions\".lower AS \"Positions_lower\", \"Positions\".x AS \"Positions_x\", \"Positions\".y AS \"Positions_y\" \n",
      "FROM \"Positions\" \n",
      "WHERE \"Positions\".id = ?\n",
      "2021-06-18 16:02:31,393 INFO sqlalchemy.engine.Engine [cached since 0.006549s ago] (2,)\n",
      "2021-06-18 16:02:31,394 INFO sqlalchemy.engine.Engine SELECT \"Positions\".id AS \"Positions_id\", \"Positions\".upper AS \"Positions_upper\", \"Positions\".middle AS \"Positions_middle\", \"Positions\".lower AS \"Positions_lower\", \"Positions\".x AS \"Positions_x\", \"Positions\".y AS \"Positions_y\" \n",
      "FROM \"Positions\" \n",
      "WHERE \"Positions\".id = ?\n",
      "2021-06-18 16:02:31,395 INFO sqlalchemy.engine.Engine [cached since 0.005215s ago] (3,)\n",
      "2021-06-18 16:02:31,396 INFO sqlalchemy.engine.Engine SELECT \"Positions\".id AS \"Positions_id\", \"Positions\".upper AS \"Positions_upper\", \"Positions\".middle AS \"Positions_middle\", \"Positions\".lower AS \"Positions_lower\", \"Positions\".x AS \"Positions_x\", \"Positions\".y AS \"Positions_y\" \n",
      "FROM \"Positions\" \n",
      "WHERE \"Positions\".id = ?\n",
      "2021-06-18 16:02:31,397 INFO sqlalchemy.engine.Engine [cached since 0.01053s ago] (4,)\n",
      "2021-06-18 16:02:31,397 INFO sqlalchemy.engine.Engine SELECT \"Positions\".id AS \"Positions_id\", \"Positions\".upper AS \"Positions_upper\", \"Positions\".middle AS \"Positions_middle\", \"Positions\".lower AS \"Positions_lower\", \"Positions\".x AS \"Positions_x\", \"Positions\".y AS \"Positions_y\" \n",
      "FROM \"Positions\" \n",
      "WHERE \"Positions\".id = ?\n",
      "2021-06-18 16:02:31,398 INFO sqlalchemy.engine.Engine [cached since 0.008527s ago] (5,)\n",
      "2021-06-18 16:02:31,399 INFO sqlalchemy.engine.Engine SELECT \"Positions\".id AS \"Positions_id\", \"Positions\".upper AS \"Positions_upper\", \"Positions\".middle AS \"Positions_middle\", \"Positions\".lower AS \"Positions_lower\", \"Positions\".x AS \"Positions_x\", \"Positions\".y AS \"Positions_y\" \n",
      "FROM \"Positions\" \n",
      "WHERE \"Positions\".id = ?\n",
      "2021-06-18 16:02:31,400 INFO sqlalchemy.engine.Engine [cached since 0.01357s ago] (6,)\n",
      "2021-06-18 16:02:31,401 INFO sqlalchemy.engine.Engine SELECT \"Positions\".id AS \"Positions_id\", \"Positions\".upper AS \"Positions_upper\", \"Positions\".middle AS \"Positions_middle\", \"Positions\".lower AS \"Positions_lower\", \"Positions\".x AS \"Positions_x\", \"Positions\".y AS \"Positions_y\" \n",
      "FROM \"Positions\" \n",
      "WHERE \"Positions\".id = ?\n",
      "2021-06-18 16:02:31,402 INFO sqlalchemy.engine.Engine [cached since 0.01229s ago] (7,)\n",
      "2021-06-18 16:02:31,406 INFO sqlalchemy.engine.Engine SELECT \"Positions\".id AS \"Positions_id\", \"Positions\".upper AS \"Positions_upper\", \"Positions\".middle AS \"Positions_middle\", \"Positions\".lower AS \"Positions_lower\", \"Positions\".x AS \"Positions_x\", \"Positions\".y AS \"Positions_y\" \n",
      "FROM \"Positions\" \n",
      "WHERE \"Positions\".id = ?\n",
      "2021-06-18 16:02:31,407 INFO sqlalchemy.engine.Engine [cached since 0.02058s ago] (8,)\n",
      "2021-06-18 16:02:31,408 INFO sqlalchemy.engine.Engine SELECT \"Positions\".id AS \"Positions_id\", \"Positions\".upper AS \"Positions_upper\", \"Positions\".middle AS \"Positions_middle\", \"Positions\".lower AS \"Positions_lower\", \"Positions\".x AS \"Positions_x\", \"Positions\".y AS \"Positions_y\" \n",
      "FROM \"Positions\" \n",
      "WHERE \"Positions\".id = ?\n",
      "2021-06-18 16:02:31,409 INFO sqlalchemy.engine.Engine [cached since 0.0196s ago] (9,)\n",
      "2021-06-18 16:02:31,412 INFO sqlalchemy.engine.Engine SELECT \"Positions\".id AS \"Positions_id\", \"Positions\".upper AS \"Positions_upper\", \"Positions\".middle AS \"Positions_middle\", \"Positions\".lower AS \"Positions_lower\", \"Positions\".x AS \"Positions_x\", \"Positions\".y AS \"Positions_y\" \n",
      "FROM \"Positions\" \n",
      "WHERE \"Positions\".id = ?\n",
      "2021-06-18 16:02:31,413 INFO sqlalchemy.engine.Engine [cached since 0.02696s ago] (10,)\n",
      "2021-06-18 16:02:31,414 INFO sqlalchemy.engine.Engine SELECT \"Positions\".id AS \"Positions_id\", \"Positions\".upper AS \"Positions_upper\", \"Positions\".middle AS \"Positions_middle\", \"Positions\".lower AS \"Positions_lower\", \"Positions\".x AS \"Positions_x\", \"Positions\".y AS \"Positions_y\" \n",
      "FROM \"Positions\" \n",
      "WHERE \"Positions\".id = ?\n",
      "2021-06-18 16:02:31,415 INFO sqlalchemy.engine.Engine [cached since 0.02521s ago] (11,)\n",
      "2021-06-18 16:02:31,417 INFO sqlalchemy.engine.Engine SELECT \"Positions\".id AS \"Positions_id\", \"Positions\".upper AS \"Positions_upper\", \"Positions\".middle AS \"Positions_middle\", \"Positions\".lower AS \"Positions_lower\", \"Positions\".x AS \"Positions_x\", \"Positions\".y AS \"Positions_y\" \n",
      "FROM \"Positions\" \n",
      "WHERE \"Positions\".id = ?\n"
     ]
    },
    {
     "name": "stdout",
     "output_type": "stream",
     "text": [
      "2021-06-18 16:02:31,418 INFO sqlalchemy.engine.Engine [cached since 0.03247s ago] (12,)\n",
      "2021-06-18 16:02:31,420 INFO sqlalchemy.engine.Engine SELECT \"Positions\".id AS \"Positions_id\", \"Positions\".upper AS \"Positions_upper\", \"Positions\".middle AS \"Positions_middle\", \"Positions\".lower AS \"Positions_lower\", \"Positions\".x AS \"Positions_x\", \"Positions\".y AS \"Positions_y\" \n",
      "FROM \"Positions\" \n",
      "WHERE \"Positions\".id = ?\n",
      "2021-06-18 16:02:31,421 INFO sqlalchemy.engine.Engine [cached since 0.03141s ago] (13,)\n",
      "Borehole geometry created successfully !\n",
      "Borehole geometry created successfully !\n",
      "2021-06-18 16:02:31,432 INFO sqlalchemy.engine.Engine INSERT INTO \"Boreholes\" (id, length, diameter) VALUES (?, ?, ?)\n",
      "2021-06-18 16:02:31,433 INFO sqlalchemy.engine.Engine [cached since 0.07385s ago] ('207', 4.8, 0.075)\n",
      "2021-06-18 16:02:31,434 INFO sqlalchemy.engine.Engine INSERT INTO \"Positions\" (id, upper, middle, lower, x, y) VALUES (?, ?, ?, ?, ?, ?)\n",
      "2021-06-18 16:02:31,435 INFO sqlalchemy.engine.Engine [cached since 0.07202s ago] ((14, 0.0, 0.0, 0.0, 152892.92499700002, 122592.662277), (15, 0.6, 0.6, 0.6, 152892.92499700002, 122592.662277), (16, 0.6, 0.6, 0.6, 152892.92499700002, 122592.662277), (17, 1.0, 1.0, 1.0, 152892.92499700002, 122592.662277), (18, 1.0, 1.0, 1.0, 152892.92499700002, 122592.662277), (19, 1.2, 1.2, 1.2, 152892.92499700002, 122592.662277), (20, 1.2, 1.2, 1.2, 152892.92499700002, 122592.662277), (21, 2.4, 2.4, 2.4, 152892.92499700002, 122592.662277)  ... displaying 10 of 14 total bound parameter sets ...  (26, 4.2, 4.2, 4.2, 152892.92499700002, 122592.662277), (27, 4.8, 4.8, 4.8, 152892.92499700002, 122592.662277))\n",
      "2021-06-18 16:02:31,437 INFO sqlalchemy.engine.Engine INSERT INTO \"Intervals\" (id, borehole, interval_number, description, top_id, base_id) VALUES (?, ?, ?, ?, ?, ?)\n",
      "2021-06-18 16:02:31,438 INFO sqlalchemy.engine.Engine [cached since 0.07109s ago] ((7, '207', 0, 'Remblais brun avec déchets de construction oranges fins ', 14, 15), (8, '207', 1, 'Remblais de couleur noire en mélange avec limon graveleux', 16, 17), (9, '207', 2, 'Déchets de construction : brique et sable beige', 18, 19), (10, '207', 3, 'Caillasse saturée (présence de scories) - semble moins pollué ', 20, 21), (11, '207', 4, 'Caillasse saturée avec produit pur en bout de gouge - présence de grosses briques grises entre 2,4 m et 3 m', 22, 23), (12, '207', 5, 'Retombées - Caillasse saturée du dessus ', 24, 25), (13, '207', 6, 'Limon verdâtre sur 10 cm puis ocre ', 26, 27))\n",
      "2021-06-18 16:02:31,439 INFO sqlalchemy.engine.Engine COMMIT\n",
      "2021-06-18 16:02:31,444 INFO sqlalchemy.engine.Engine BEGIN (implicit)\n",
      "2021-06-18 16:02:31,445 INFO sqlalchemy.engine.Engine SELECT \"Boreholes\".id AS \"Boreholes_id\", \"Boreholes\".length AS \"Boreholes_length\", \"Boreholes\".diameter AS \"Boreholes_diameter\" \n",
      "FROM \"Boreholes\"\n",
      "2021-06-18 16:02:31,446 INFO sqlalchemy.engine.Engine [cached since 0.1077s ago] ()\n",
      "2021-06-18 16:02:31,449 INFO sqlalchemy.engine.Engine SELECT \"Intervals\".id AS \"Intervals_id\", \"Intervals\".borehole AS \"Intervals_borehole\", \"Intervals\".interval_number AS \"Intervals_interval_number\", \"Intervals\".description AS \"Intervals_description\", \"Intervals\".top_id AS \"Intervals_top_id\", \"Intervals\".base_id AS \"Intervals_base_id\" \n",
      "FROM \"Intervals\" \n",
      "WHERE ? = \"Intervals\".borehole\n",
      "2021-06-18 16:02:31,450 INFO sqlalchemy.engine.Engine [cached since 0.06869s ago] ('207',)\n",
      "2021-06-18 16:02:31,452 INFO sqlalchemy.engine.Engine SELECT \"Positions\".id AS \"Positions_id\", \"Positions\".upper AS \"Positions_upper\", \"Positions\".middle AS \"Positions_middle\", \"Positions\".lower AS \"Positions_lower\", \"Positions\".x AS \"Positions_x\", \"Positions\".y AS \"Positions_y\" \n",
      "FROM \"Positions\" \n",
      "WHERE \"Positions\".id = ?\n",
      "2021-06-18 16:02:31,453 INFO sqlalchemy.engine.Engine [cached since 0.06734s ago] (14,)\n",
      "2021-06-18 16:02:31,455 INFO sqlalchemy.engine.Engine SELECT \"Positions\".id AS \"Positions_id\", \"Positions\".upper AS \"Positions_upper\", \"Positions\".middle AS \"Positions_middle\", \"Positions\".lower AS \"Positions_lower\", \"Positions\".x AS \"Positions_x\", \"Positions\".y AS \"Positions_y\" \n",
      "FROM \"Positions\" \n",
      "WHERE \"Positions\".id = ?\n",
      "2021-06-18 16:02:31,456 INFO sqlalchemy.engine.Engine [cached since 0.06689s ago] (15,)\n",
      "2021-06-18 16:02:31,458 INFO sqlalchemy.engine.Engine SELECT \"Positions\".id AS \"Positions_id\", \"Positions\".upper AS \"Positions_upper\", \"Positions\".middle AS \"Positions_middle\", \"Positions\".lower AS \"Positions_lower\", \"Positions\".x AS \"Positions_x\", \"Positions\".y AS \"Positions_y\" \n",
      "FROM \"Positions\" \n",
      "WHERE \"Positions\".id = ?\n",
      "2021-06-18 16:02:31,458 INFO sqlalchemy.engine.Engine [cached since 0.07203s ago] (16,)\n",
      "2021-06-18 16:02:31,459 INFO sqlalchemy.engine.Engine SELECT \"Positions\".id AS \"Positions_id\", \"Positions\".upper AS \"Positions_upper\", \"Positions\".middle AS \"Positions_middle\", \"Positions\".lower AS \"Positions_lower\", \"Positions\".x AS \"Positions_x\", \"Positions\".y AS \"Positions_y\" \n",
      "FROM \"Positions\" \n",
      "WHERE \"Positions\".id = ?\n",
      "2021-06-18 16:02:31,459 INFO sqlalchemy.engine.Engine [cached since 0.06997s ago] (17,)\n",
      "2021-06-18 16:02:31,460 INFO sqlalchemy.engine.Engine SELECT \"Positions\".id AS \"Positions_id\", \"Positions\".upper AS \"Positions_upper\", \"Positions\".middle AS \"Positions_middle\", \"Positions\".lower AS \"Positions_lower\", \"Positions\".x AS \"Positions_x\", \"Positions\".y AS \"Positions_y\" \n",
      "FROM \"Positions\" \n",
      "WHERE \"Positions\".id = ?\n",
      "2021-06-18 16:02:31,461 INFO sqlalchemy.engine.Engine [cached since 0.07476s ago] (18,)\n",
      "2021-06-18 16:02:31,462 INFO sqlalchemy.engine.Engine SELECT \"Positions\".id AS \"Positions_id\", \"Positions\".upper AS \"Positions_upper\", \"Positions\".middle AS \"Positions_middle\", \"Positions\".lower AS \"Positions_lower\", \"Positions\".x AS \"Positions_x\", \"Positions\".y AS \"Positions_y\" \n",
      "FROM \"Positions\" \n",
      "WHERE \"Positions\".id = ?\n",
      "2021-06-18 16:02:31,462 INFO sqlalchemy.engine.Engine [cached since 0.07258s ago] (19,)\n",
      "2021-06-18 16:02:31,463 INFO sqlalchemy.engine.Engine SELECT \"Positions\".id AS \"Positions_id\", \"Positions\".upper AS \"Positions_upper\", \"Positions\".middle AS \"Positions_middle\", \"Positions\".lower AS \"Positions_lower\", \"Positions\".x AS \"Positions_x\", \"Positions\".y AS \"Positions_y\" \n",
      "FROM \"Positions\" \n",
      "WHERE \"Positions\".id = ?\n",
      "2021-06-18 16:02:31,463 INFO sqlalchemy.engine.Engine [cached since 0.07747s ago] (20,)\n",
      "2021-06-18 16:02:31,465 INFO sqlalchemy.engine.Engine SELECT \"Positions\".id AS \"Positions_id\", \"Positions\".upper AS \"Positions_upper\", \"Positions\".middle AS \"Positions_middle\", \"Positions\".lower AS \"Positions_lower\", \"Positions\".x AS \"Positions_x\", \"Positions\".y AS \"Positions_y\" \n",
      "FROM \"Positions\" \n",
      "WHERE \"Positions\".id = ?\n",
      "2021-06-18 16:02:31,465 INFO sqlalchemy.engine.Engine [cached since 0.07593s ago] (21,)\n",
      "2021-06-18 16:02:31,467 INFO sqlalchemy.engine.Engine SELECT \"Positions\".id AS \"Positions_id\", \"Positions\".upper AS \"Positions_upper\", \"Positions\".middle AS \"Positions_middle\", \"Positions\".lower AS \"Positions_lower\", \"Positions\".x AS \"Positions_x\", \"Positions\".y AS \"Positions_y\" \n",
      "FROM \"Positions\" \n",
      "WHERE \"Positions\".id = ?\n",
      "2021-06-18 16:02:31,468 INFO sqlalchemy.engine.Engine [cached since 0.08165s ago] (22,)\n",
      "2021-06-18 16:02:31,470 INFO sqlalchemy.engine.Engine SELECT \"Positions\".id AS \"Positions_id\", \"Positions\".upper AS \"Positions_upper\", \"Positions\".middle AS \"Positions_middle\", \"Positions\".lower AS \"Positions_lower\", \"Positions\".x AS \"Positions_x\", \"Positions\".y AS \"Positions_y\" \n",
      "FROM \"Positions\" \n",
      "WHERE \"Positions\".id = ?\n",
      "2021-06-18 16:02:31,471 INFO sqlalchemy.engine.Engine [cached since 0.08112s ago] (23,)\n",
      "2021-06-18 16:02:31,472 INFO sqlalchemy.engine.Engine SELECT \"Positions\".id AS \"Positions_id\", \"Positions\".upper AS \"Positions_upper\", \"Positions\".middle AS \"Positions_middle\", \"Positions\".lower AS \"Positions_lower\", \"Positions\".x AS \"Positions_x\", \"Positions\".y AS \"Positions_y\" \n",
      "FROM \"Positions\" \n",
      "WHERE \"Positions\".id = ?\n",
      "2021-06-18 16:02:31,473 INFO sqlalchemy.engine.Engine [cached since 0.08694s ago] (24,)\n",
      "2021-06-18 16:02:31,474 INFO sqlalchemy.engine.Engine SELECT \"Positions\".id AS \"Positions_id\", \"Positions\".upper AS \"Positions_upper\", \"Positions\".middle AS \"Positions_middle\", \"Positions\".lower AS \"Positions_lower\", \"Positions\".x AS \"Positions_x\", \"Positions\".y AS \"Positions_y\" \n",
      "FROM \"Positions\" \n",
      "WHERE \"Positions\".id = ?\n"
     ]
    },
    {
     "name": "stdout",
     "output_type": "stream",
     "text": [
      "2021-06-18 16:02:31,474 INFO sqlalchemy.engine.Engine [cached since 0.08498s ago] (25,)\n",
      "2021-06-18 16:02:31,476 INFO sqlalchemy.engine.Engine SELECT \"Positions\".id AS \"Positions_id\", \"Positions\".upper AS \"Positions_upper\", \"Positions\".middle AS \"Positions_middle\", \"Positions\".lower AS \"Positions_lower\", \"Positions\".x AS \"Positions_x\", \"Positions\".y AS \"Positions_y\" \n",
      "FROM \"Positions\" \n",
      "WHERE \"Positions\".id = ?\n",
      "2021-06-18 16:02:31,477 INFO sqlalchemy.engine.Engine [cached since 0.09088s ago] (26,)\n",
      "2021-06-18 16:02:31,478 INFO sqlalchemy.engine.Engine SELECT \"Positions\".id AS \"Positions_id\", \"Positions\".upper AS \"Positions_upper\", \"Positions\".middle AS \"Positions_middle\", \"Positions\".lower AS \"Positions_lower\", \"Positions\".x AS \"Positions_x\", \"Positions\".y AS \"Positions_y\" \n",
      "FROM \"Positions\" \n",
      "WHERE \"Positions\".id = ?\n",
      "2021-06-18 16:02:31,479 INFO sqlalchemy.engine.Engine [cached since 0.08923s ago] (27,)\n",
      "Borehole geometry created successfully !\n",
      "Borehole geometry created successfully !\n",
      "2021-06-18 16:02:31,494 INFO sqlalchemy.engine.Engine INSERT INTO \"Boreholes\" (id, length, diameter) VALUES (?, ?, ?)\n",
      "2021-06-18 16:02:31,495 INFO sqlalchemy.engine.Engine [cached since 0.1359s ago] ('214', 4.8, 0.075)\n",
      "2021-06-18 16:02:31,497 INFO sqlalchemy.engine.Engine INSERT INTO \"Positions\" (id, upper, middle, lower, x, y) VALUES (?, ?, ?, ?, ?, ?)\n",
      "2021-06-18 16:02:31,497 INFO sqlalchemy.engine.Engine [cached since 0.1345s ago] ((28, 0.0, 0.0, 0.0, 152888.08180400002, 122588.485566), (29, 0.6, 0.6, 0.6, 152888.08180400002, 122588.485566), (30, 0.6, 0.6, 0.6, 152888.08180400002, 122588.485566), (31, 1.0, 1.0, 1.0, 152888.08180400002, 122588.485566), (32, 1.0, 1.0, 1.0, 152888.08180400002, 122588.485566), (33, 1.2, 1.2, 1.2, 152888.08180400002, 122588.485566), (34, 1.2, 1.2, 1.2, 152888.08180400002, 122588.485566), (35, 2.4, 2.4, 2.4, 152888.08180400002, 122588.485566)  ... displaying 10 of 14 total bound parameter sets ...  (40, 3.6, 3.6, 3.6, 152888.08180400002, 122588.485566), (41, 4.8, 4.8, 4.8, 152888.08180400002, 122588.485566))\n",
      "2021-06-18 16:02:31,499 INFO sqlalchemy.engine.Engine INSERT INTO \"Intervals\" (id, borehole, interval_number, description, top_id, base_id) VALUES (?, ?, ?, ?, ?, ?)\n",
      "2021-06-18 16:02:31,500 INFO sqlalchemy.engine.Engine [cached since 0.1332s ago] ((14, '214', 0, 'Remblais noirs en mélange avec sable beige ', 28, 29), (15, '214', 1, 'Remblais noirs gravillonneux ', 30, 31), (16, '214', 2, 'Remblais de déchets de construction brun/beige avec briquailles', 32, 33), (17, '214', 3, \"Remblais avec briquaillons divers bruns/oranges - présence de scories - eau - pas d'irrisation\", 34, 35), (18, '214', 4, 'Remblais avec strate de produit pur ', 36, 37), (19, '214', 5, 'Remblais en mélange avec limon verdâtre - présence de produit pur ', 38, 39), (20, '214', 6, 'Retombées et limons verdâtre argilo-sableux - odeur', 40, 41))\n",
      "2021-06-18 16:02:31,501 INFO sqlalchemy.engine.Engine COMMIT\n",
      "2021-06-18 16:02:31,505 INFO sqlalchemy.engine.Engine BEGIN (implicit)\n",
      "2021-06-18 16:02:31,506 INFO sqlalchemy.engine.Engine SELECT \"Boreholes\".id AS \"Boreholes_id\", \"Boreholes\".length AS \"Boreholes_length\", \"Boreholes\".diameter AS \"Boreholes_diameter\" \n",
      "FROM \"Boreholes\"\n",
      "2021-06-18 16:02:31,506 INFO sqlalchemy.engine.Engine [cached since 0.1677s ago] ()\n",
      "2021-06-18 16:02:31,509 INFO sqlalchemy.engine.Engine SELECT \"Intervals\".id AS \"Intervals_id\", \"Intervals\".borehole AS \"Intervals_borehole\", \"Intervals\".interval_number AS \"Intervals_interval_number\", \"Intervals\".description AS \"Intervals_description\", \"Intervals\".top_id AS \"Intervals_top_id\", \"Intervals\".base_id AS \"Intervals_base_id\" \n",
      "FROM \"Intervals\" \n",
      "WHERE ? = \"Intervals\".borehole\n",
      "2021-06-18 16:02:31,510 INFO sqlalchemy.engine.Engine [cached since 0.1288s ago] ('214',)\n",
      "2021-06-18 16:02:31,512 INFO sqlalchemy.engine.Engine SELECT \"Positions\".id AS \"Positions_id\", \"Positions\".upper AS \"Positions_upper\", \"Positions\".middle AS \"Positions_middle\", \"Positions\".lower AS \"Positions_lower\", \"Positions\".x AS \"Positions_x\", \"Positions\".y AS \"Positions_y\" \n",
      "FROM \"Positions\" \n",
      "WHERE \"Positions\".id = ?\n",
      "2021-06-18 16:02:31,513 INFO sqlalchemy.engine.Engine [cached since 0.1272s ago] (28,)\n",
      "2021-06-18 16:02:31,515 INFO sqlalchemy.engine.Engine SELECT \"Positions\".id AS \"Positions_id\", \"Positions\".upper AS \"Positions_upper\", \"Positions\".middle AS \"Positions_middle\", \"Positions\".lower AS \"Positions_lower\", \"Positions\".x AS \"Positions_x\", \"Positions\".y AS \"Positions_y\" \n",
      "FROM \"Positions\" \n",
      "WHERE \"Positions\".id = ?\n",
      "2021-06-18 16:02:31,515 INFO sqlalchemy.engine.Engine [cached since 0.1261s ago] (29,)\n",
      "2021-06-18 16:02:31,517 INFO sqlalchemy.engine.Engine SELECT \"Positions\".id AS \"Positions_id\", \"Positions\".upper AS \"Positions_upper\", \"Positions\".middle AS \"Positions_middle\", \"Positions\".lower AS \"Positions_lower\", \"Positions\".x AS \"Positions_x\", \"Positions\".y AS \"Positions_y\" \n",
      "FROM \"Positions\" \n",
      "WHERE \"Positions\".id = ?\n",
      "2021-06-18 16:02:31,517 INFO sqlalchemy.engine.Engine [cached since 0.1313s ago] (30,)\n",
      "2021-06-18 16:02:31,519 INFO sqlalchemy.engine.Engine SELECT \"Positions\".id AS \"Positions_id\", \"Positions\".upper AS \"Positions_upper\", \"Positions\".middle AS \"Positions_middle\", \"Positions\".lower AS \"Positions_lower\", \"Positions\".x AS \"Positions_x\", \"Positions\".y AS \"Positions_y\" \n",
      "FROM \"Positions\" \n",
      "WHERE \"Positions\".id = ?\n",
      "2021-06-18 16:02:31,520 INFO sqlalchemy.engine.Engine [cached since 0.1303s ago] (31,)\n",
      "2021-06-18 16:02:31,521 INFO sqlalchemy.engine.Engine SELECT \"Positions\".id AS \"Positions_id\", \"Positions\".upper AS \"Positions_upper\", \"Positions\".middle AS \"Positions_middle\", \"Positions\".lower AS \"Positions_lower\", \"Positions\".x AS \"Positions_x\", \"Positions\".y AS \"Positions_y\" \n",
      "FROM \"Positions\" \n",
      "WHERE \"Positions\".id = ?\n",
      "2021-06-18 16:02:31,522 INFO sqlalchemy.engine.Engine [cached since 0.1356s ago] (32,)\n",
      "2021-06-18 16:02:31,523 INFO sqlalchemy.engine.Engine SELECT \"Positions\".id AS \"Positions_id\", \"Positions\".upper AS \"Positions_upper\", \"Positions\".middle AS \"Positions_middle\", \"Positions\".lower AS \"Positions_lower\", \"Positions\".x AS \"Positions_x\", \"Positions\".y AS \"Positions_y\" \n",
      "FROM \"Positions\" \n",
      "WHERE \"Positions\".id = ?\n",
      "2021-06-18 16:02:31,524 INFO sqlalchemy.engine.Engine [cached since 0.1345s ago] (33,)\n",
      "2021-06-18 16:02:31,525 INFO sqlalchemy.engine.Engine SELECT \"Positions\".id AS \"Positions_id\", \"Positions\".upper AS \"Positions_upper\", \"Positions\".middle AS \"Positions_middle\", \"Positions\".lower AS \"Positions_lower\", \"Positions\".x AS \"Positions_x\", \"Positions\".y AS \"Positions_y\" \n",
      "FROM \"Positions\" \n",
      "WHERE \"Positions\".id = ?\n",
      "2021-06-18 16:02:31,526 INFO sqlalchemy.engine.Engine [cached since 0.1399s ago] (34,)\n",
      "2021-06-18 16:02:31,527 INFO sqlalchemy.engine.Engine SELECT \"Positions\".id AS \"Positions_id\", \"Positions\".upper AS \"Positions_upper\", \"Positions\".middle AS \"Positions_middle\", \"Positions\".lower AS \"Positions_lower\", \"Positions\".x AS \"Positions_x\", \"Positions\".y AS \"Positions_y\" \n",
      "FROM \"Positions\" \n",
      "WHERE \"Positions\".id = ?\n",
      "2021-06-18 16:02:31,528 INFO sqlalchemy.engine.Engine [cached since 0.1388s ago] (35,)\n",
      "2021-06-18 16:02:31,531 INFO sqlalchemy.engine.Engine SELECT \"Positions\".id AS \"Positions_id\", \"Positions\".upper AS \"Positions_upper\", \"Positions\".middle AS \"Positions_middle\", \"Positions\".lower AS \"Positions_lower\", \"Positions\".x AS \"Positions_x\", \"Positions\".y AS \"Positions_y\" \n",
      "FROM \"Positions\" \n",
      "WHERE \"Positions\".id = ?\n",
      "2021-06-18 16:02:31,531 INFO sqlalchemy.engine.Engine [cached since 0.1455s ago] (36,)\n",
      "2021-06-18 16:02:31,533 INFO sqlalchemy.engine.Engine SELECT \"Positions\".id AS \"Positions_id\", \"Positions\".upper AS \"Positions_upper\", \"Positions\".middle AS \"Positions_middle\", \"Positions\".lower AS \"Positions_lower\", \"Positions\".x AS \"Positions_x\", \"Positions\".y AS \"Positions_y\" \n",
      "FROM \"Positions\" \n",
      "WHERE \"Positions\".id = ?\n",
      "2021-06-18 16:02:31,534 INFO sqlalchemy.engine.Engine [cached since 0.1445s ago] (37,)\n",
      "2021-06-18 16:02:31,536 INFO sqlalchemy.engine.Engine SELECT \"Positions\".id AS \"Positions_id\", \"Positions\".upper AS \"Positions_upper\", \"Positions\".middle AS \"Positions_middle\", \"Positions\".lower AS \"Positions_lower\", \"Positions\".x AS \"Positions_x\", \"Positions\".y AS \"Positions_y\" \n",
      "FROM \"Positions\" \n",
      "WHERE \"Positions\".id = ?\n"
     ]
    },
    {
     "name": "stdout",
     "output_type": "stream",
     "text": [
      "2021-06-18 16:02:31,537 INFO sqlalchemy.engine.Engine [cached since 0.1509s ago] (38,)\n",
      "2021-06-18 16:02:31,539 INFO sqlalchemy.engine.Engine SELECT \"Positions\".id AS \"Positions_id\", \"Positions\".upper AS \"Positions_upper\", \"Positions\".middle AS \"Positions_middle\", \"Positions\".lower AS \"Positions_lower\", \"Positions\".x AS \"Positions_x\", \"Positions\".y AS \"Positions_y\" \n",
      "FROM \"Positions\" \n",
      "WHERE \"Positions\".id = ?\n",
      "2021-06-18 16:02:31,540 INFO sqlalchemy.engine.Engine [cached since 0.1506s ago] (39,)\n",
      "2021-06-18 16:02:31,541 INFO sqlalchemy.engine.Engine SELECT \"Positions\".id AS \"Positions_id\", \"Positions\".upper AS \"Positions_upper\", \"Positions\".middle AS \"Positions_middle\", \"Positions\".lower AS \"Positions_lower\", \"Positions\".x AS \"Positions_x\", \"Positions\".y AS \"Positions_y\" \n",
      "FROM \"Positions\" \n",
      "WHERE \"Positions\".id = ?\n",
      "2021-06-18 16:02:31,542 INFO sqlalchemy.engine.Engine [cached since 0.1559s ago] (40,)\n",
      "2021-06-18 16:02:31,543 INFO sqlalchemy.engine.Engine SELECT \"Positions\".id AS \"Positions_id\", \"Positions\".upper AS \"Positions_upper\", \"Positions\".middle AS \"Positions_middle\", \"Positions\".lower AS \"Positions_lower\", \"Positions\".x AS \"Positions_x\", \"Positions\".y AS \"Positions_y\" \n",
      "FROM \"Positions\" \n",
      "WHERE \"Positions\".id = ?\n",
      "2021-06-18 16:02:31,544 INFO sqlalchemy.engine.Engine [cached since 0.1541s ago] (41,)\n",
      "Borehole geometry created successfully !\n",
      "Borehole geometry created successfully !\n"
     ]
    }
   ],
   "source": [
    "for bh in boreholes:\n",
    "    p.add_borehole(bh)"
   ]
  },
  {
   "cell_type": "raw",
   "metadata": {},
   "source": [
    "components\n",
    "#boreholes[0].intervals[0].components"
   ]
  },
  {
   "cell_type": "code",
   "execution_count": 22,
   "metadata": {},
   "outputs": [
    {
     "name": "stdout",
     "output_type": "stream",
     "text": [
      "2021-06-18 16:02:31,566 INFO sqlalchemy.engine.Engine INSERT INTO \"Linkintervalcomponent\" (int_id, comp_id, extra_data) VALUES (?, ?, ?)\n",
      "2021-06-18 16:02:31,567 INFO sqlalchemy.engine.Engine [generated in 0.00105s] ((0, 6, ''), (1, 5, ''), (2, 3, ''), (3, 0, ''), (4, 2, ''), (5, 4, ''), (6, 1, ''), (7, 10, '')  ... displaying 10 of 21 total bound parameter sets ...  (19, 18, ''), (20, 16, ''))\n",
      "2021-06-18 16:02:31,569 INFO sqlalchemy.engine.Engine COMMIT\n",
      "2021-06-18 16:02:31,574 INFO sqlalchemy.engine.Engine BEGIN (implicit)\n",
      "2021-06-18 16:02:31,575 INFO sqlalchemy.engine.Engine SELECT \"Boreholes\".id AS \"Boreholes_id\", \"Boreholes\".length AS \"Boreholes_length\", \"Boreholes\".diameter AS \"Boreholes_diameter\" \n",
      "FROM \"Boreholes\"\n",
      "2021-06-18 16:02:31,576 INFO sqlalchemy.engine.Engine [cached since 0.2372s ago] ()\n"
     ]
    }
   ],
   "source": [
    "p.add_link_between_components_and_intervals(link_intv_comp)"
   ]
  },
  {
   "cell_type": "code",
   "execution_count": 23,
   "metadata": {},
   "outputs": [
    {
     "name": "stdout",
     "output_type": "stream",
     "text": [
      "2021-06-18 16:02:31,584 INFO sqlalchemy.engine.Engine COMMIT\n",
      "Boreholes in the project :  3\n"
     ]
    }
   ],
   "source": [
    "p.commit()\n",
    "print('Boreholes in the project : ', len(p.boreholes))"
   ]
  },
  {
   "cell_type": "code",
   "execution_count": 24,
   "metadata": {},
   "outputs": [
    {
     "name": "stdout",
     "output_type": "stream",
     "text": [
      "2021-06-18 16:02:31,593 INFO sqlalchemy.engine.Engine BEGIN (implicit)\n",
      "2021-06-18 16:02:31,594 INFO sqlalchemy.engine.Engine SELECT \"Boreholes\".id AS \"Boreholes_id\", \"Boreholes\".length AS \"Boreholes_length\", \"Boreholes\".diameter AS \"Boreholes_diameter\" \n",
      "FROM \"Boreholes\" \n",
      "WHERE \"Boreholes\".id = ?\n",
      "2021-06-18 16:02:31,595 INFO sqlalchemy.engine.Engine [generated in 0.00088s] ('205',)\n",
      "2021-06-18 16:02:31,597 INFO sqlalchemy.engine.Engine SELECT \"Intervals\".id AS \"Intervals_id\", \"Intervals\".borehole AS \"Intervals_borehole\", \"Intervals\".interval_number AS \"Intervals_interval_number\", \"Intervals\".description AS \"Intervals_description\", \"Intervals\".top_id AS \"Intervals_top_id\", \"Intervals\".base_id AS \"Intervals_base_id\" \n",
      "FROM \"Intervals\" \n",
      "WHERE ? = \"Intervals\".borehole\n",
      "2021-06-18 16:02:31,598 INFO sqlalchemy.engine.Engine [cached since 0.217s ago] ('205',)\n",
      "2021-06-18 16:02:31,600 INFO sqlalchemy.engine.Engine SELECT \"Boreholes\".id AS \"Boreholes_id\", \"Boreholes\".length AS \"Boreholes_length\", \"Boreholes\".diameter AS \"Boreholes_diameter\" \n",
      "FROM \"Boreholes\" \n",
      "WHERE \"Boreholes\".id = ?\n",
      "2021-06-18 16:02:31,601 INFO sqlalchemy.engine.Engine [cached since 0.006459s ago] ('207',)\n",
      "2021-06-18 16:02:31,603 INFO sqlalchemy.engine.Engine SELECT \"Intervals\".id AS \"Intervals_id\", \"Intervals\".borehole AS \"Intervals_borehole\", \"Intervals\".interval_number AS \"Intervals_interval_number\", \"Intervals\".description AS \"Intervals_description\", \"Intervals\".top_id AS \"Intervals_top_id\", \"Intervals\".base_id AS \"Intervals_base_id\" \n",
      "FROM \"Intervals\" \n",
      "WHERE ? = \"Intervals\".borehole\n",
      "2021-06-18 16:02:31,603 INFO sqlalchemy.engine.Engine [cached since 0.2226s ago] ('207',)\n",
      "2021-06-18 16:02:31,605 INFO sqlalchemy.engine.Engine SELECT \"Boreholes\".id AS \"Boreholes_id\", \"Boreholes\".length AS \"Boreholes_length\", \"Boreholes\".diameter AS \"Boreholes_diameter\" \n",
      "FROM \"Boreholes\" \n",
      "WHERE \"Boreholes\".id = ?\n",
      "2021-06-18 16:02:31,606 INFO sqlalchemy.engine.Engine [cached since 0.01167s ago] ('214',)\n",
      "2021-06-18 16:02:31,608 INFO sqlalchemy.engine.Engine SELECT \"Intervals\".id AS \"Intervals_id\", \"Intervals\".borehole AS \"Intervals_borehole\", \"Intervals\".interval_number AS \"Intervals_interval_number\", \"Intervals\".description AS \"Intervals_description\", \"Intervals\".top_id AS \"Intervals_top_id\", \"Intervals\".base_id AS \"Intervals_base_id\" \n",
      "FROM \"Intervals\" \n",
      "WHERE ? = \"Intervals\".borehole\n",
      "2021-06-18 16:02:31,609 INFO sqlalchemy.engine.Engine [cached since 0.2281s ago] ('214',)\n"
     ]
    },
    {
     "data": {
      "text/plain": [
       "[<core.orm.BoreholeOrm>(Name=205, Length=4.8, Diameter=0.075, Intervals=7),\n",
       " <core.orm.BoreholeOrm>(Name=207, Length=4.8, Diameter=0.075, Intervals=7),\n",
       " <core.orm.BoreholeOrm>(Name=214, Length=4.8, Diameter=0.075, Intervals=7)]"
      ]
     },
     "execution_count": 24,
     "metadata": {},
     "output_type": "execute_result"
    }
   ],
   "source": [
    "p.boreholes"
   ]
  },
  {
   "cell_type": "code",
   "execution_count": 25,
   "metadata": {},
   "outputs": [
    {
     "name": "stdout",
     "output_type": "stream",
     "text": [
      "2021-06-18 16:02:31,617 INFO sqlalchemy.engine.Engine SELECT \"Boreholes\".id AS \"Boreholes_id\", \"Boreholes\".length AS \"Boreholes_length\", \"Boreholes\".diameter AS \"Boreholes_diameter\" \n",
      "FROM \"Boreholes\"\n",
      "2021-06-18 16:02:31,618 INFO sqlalchemy.engine.Engine [cached since 0.2793s ago] ()\n",
      "Decor({'_colour': '#ffffe9', 'width': None, 'component': Component({'lithology': 'matériau(?:x)? meuble(?:s)?'}), 'hatch': None})\n",
      "Decor({'_colour': '#ffffd5', 'width': None, 'component': Component({'lithology': 'alluvion(?:s)?'}), 'hatch': None})\n",
      "Decor({'_colour': '#331100', 'width': None, 'component': Component({'lithology': 'boue(?:s)?'}), 'hatch': None})\n",
      "Decor({'_colour': '#d3b798', 'width': None, 'component': Component({'lithology': 'remblai(?:s)?'}), 'hatch': None})\n",
      "Decor({'_colour': '#f5e1bd', 'width': None, 'component': Component({'lithology': 'lœss'}), 'hatch': None})\n",
      "Decor({'_colour': '#f5e1bd', 'width': None, 'component': Component({'lithology': 'loess'}), 'hatch': None})\n",
      "Decor({'_colour': '#d6c59e', 'width': None, 'component': Component({'lithology': 'cendre(?:s)? volcanique(?:s)?'}), 'hatch': None})\n",
      "Decor({'_colour': '#e1e3c3', 'width': None, 'component': Component({'lithology': 'colluvion(?:s)?'}), 'hatch': None})\n",
      "Decor({'_colour': '#d3ca9f', 'width': None, 'component': Component({'lithology': 'lahar(?:s)?'}), 'hatch': None})\n",
      "Decor({'_colour': '#ffeebf', 'width': None, 'component': Component({'lithology': 'moraine(?:s)?'}), 'hatch': None})\n",
      "Decor({'_colour': '#ffcc99', 'width': None, 'component': Component({'lithology': 'tourbe(?:s)?'}), 'hatch': None})\n",
      "Decor({'_colour': '#ffeaa7', 'width': None, 'component': Component({'lithology': 'gypse(?:s)?'}), 'hatch': None})\n",
      "Decor({'_colour': '#ffdb67', 'width': None, 'component': Component({'lithology': 'houille(?:s)?'}), 'hatch': None})\n",
      "Decor({'_colour': '#ffd345', 'width': None, 'component': Component({'lithology': 'limon(?:s)?'}), 'hatch': None})\n",
      "Decor({'_colour': '#ffcb23', 'width': None, 'component': Component({'lithology': 'sable(?:s)?'}), 'hatch': None})\n",
      "Decor({'_colour': '#ecb400', 'width': None, 'component': Component({'lithology': 'gravier(?:s)?'}), 'hatch': None})\n",
      "Decor({'_colour': '#cfefdf', 'width': None, 'component': Component({'lithology': 'roche(?:s)? sédimentaire(?:s)?'}), 'hatch': None})\n",
      "Decor({'_colour': '#d9fdd3', 'width': None, 'component': Component({'lithology': 'reoche(?:s)? clastique(?:s)?'}), 'hatch': None})\n",
      "Decor({'_colour': '#ace4c8', 'width': None, 'component': Component({'lithology': 'silt(?:s)?'}), 'hatch': None})\n",
      "Decor({'_colour': '#d5e6cc', 'width': None, 'component': Component({'lithology': 'argile(?:s)?'}), 'hatch': None})\n",
      "Decor({'_colour': '#92dcb7', 'width': None, 'component': Component({'lithology': 'bentonite(?:s)?'}), 'hatch': None})\n",
      "Decor({'_colour': '#c0d0c0', 'width': None, 'component': Component({'lithology': 'diatomite(?:s)?'}), 'hatch': None})\n",
      "Decor({'_colour': '#dbfebc', 'width': None, 'component': Component({'lithology': 'molasse(?:s)?'}), 'hatch': None})\n",
      "Decor({'_colour': '#bbffdd', 'width': None, 'component': Component({'lithology': 'schiste(?:s)?'}), 'hatch': None})\n",
      "Decor({'_colour': '#95ffca', 'width': None, 'component': Component({'lithology': 'argilite(?:s)?'}), 'hatch': None})\n",
      "Decor({'_colour': '#d6fe9a', 'width': None, 'component': Component({'lithology': 'siltite(?:s)?'}), 'hatch': None})\n",
      "Decor({'_colour': '#e1f0d8', 'width': None, 'component': Component({'lithology': 'tuffeau(?:s)?'}), 'hatch': None})\n",
      "Decor({'_colour': '#cdffd9', 'width': None, 'component': Component({'lithology': 'grès'}), 'hatch': None})\n",
      "Decor({'_colour': '#cbefce', 'width': None, 'component': Component({'lithology': 'arénite(?:s)?'}), 'hatch': None})\n",
      "Decor({'_colour': '#a6fcaa', 'width': None, 'component': Component({'lithology': 'orthoquartzite(?:s)?'}), 'hatch': None})\n",
      "Decor({'_colour': '#7dffe3', 'width': None, 'component': Component({'lithology': 'calcarénite(?:s)?'}), 'hatch': None})\n",
      "Decor({'_colour': '#b8eac3', 'width': None, 'component': Component({'lithology': 'arkose(?:s)?'}), 'hatch': None})\n",
      "Decor({'_colour': '#bddbf1', 'width': None, 'component': Component({'lithology': 'wacke(?:s)?'}), 'hatch': None})\n",
      "Decor({'_colour': '#69cf9c', 'width': None, 'component': Component({'lithology': 'silex'}), 'hatch': None})\n",
      "Decor({'_colour': '#90a565', 'width': None, 'component': Component({'lithology': 'radiolarite(?:s)?'}), 'hatch': None})\n",
      "Decor({'_colour': '#b7d9cc', 'width': None, 'component': Component({'lithology': 'conglomérat(?:s)?'}), 'hatch': None})\n",
      "Decor({'_colour': '#a7ba86', 'width': None, 'component': Component({'lithology': 'brèche(?:s)? sédimentaire(?:s)?'}), 'hatch': None})\n",
      "Decor({'_colour': '#bcc0c5', 'width': None, 'component': Component({'lithology': 'dolomie(?:s)?'}), 'hatch': None})\n",
      "Decor({'_colour': '#8dbecd', 'width': None, 'component': Component({'lithology': 'olistostrome(?:s)?'}), 'hatch': None})\n",
      "Decor({'_colour': '#a5aaad', 'width': None, 'component': Component({'lithology': 'carbonatite(?:s)?'}), 'hatch': None})\n",
      "Decor({'_colour': '#019ccd', 'width': None, 'component': Component({'lithology': 'carbonate(?:s)?'}), 'hatch': None})\n",
      "Decor({'_colour': '#149ef8', 'width': None, 'component': Component({'lithology': 'calcaire(?:s)?'}), 'hatch': None})\n",
      "Decor({'_colour': '#0094f8', 'width': None, 'component': Component({'lithology': 'dolomite(?:s)?'}), 'hatch': None})\n",
      "Decor({'_colour': '#bfe3dc', 'width': None, 'component': Component({'lithology': 'phosphorite(?:s)?'}), 'hatch': None})\n",
      "Decor({'_colour': '#deeffe', 'width': None, 'component': Component({'lithology': 'craie(?:s)?'}), 'hatch': None})\n",
      "Decor({'_colour': '#9acefe', 'width': None, 'component': Component({'lithology': 'évaporite(?:s)?'}), 'hatch': None})\n",
      "Decor({'_colour': '#aac2c8', 'width': None, 'component': Component({'lithology': 'chert(?:s)?'}), 'hatch': None})\n",
      "Decor({'_colour': '#c0aeb6', 'width': None, 'component': Component({'lithology': 'alios'}), 'hatch': None})\n",
      "Decor({'_colour': '#b99598', 'width': None, 'component': Component({'lithology': 'radiolarite(?:s)?'}), 'hatch': None})\n",
      "Decor({'_colour': '#98004c', 'width': None, 'component': Component({'lithology': 'exhalite(?:s)?'}), 'hatch': None})\n",
      "Decor({'_colour': '#6e4900', 'width': None, 'component': Component({'lithology': 'charbon(?:s)?'}), 'hatch': None})\n",
      "Decor({'_colour': '#d9c2a3', 'width': None, 'component': Component({'lithology': 'marne(?:s)?'}), 'hatch': None})\n",
      "Decor({'_colour': '#ffeff3', 'width': None, 'component': Component({'lithology': 'roche(?:s)? plutonique(?:s)?'}), 'hatch': None})\n",
      "Decor({'_colour': '#ffc8bf', 'width': None, 'component': Component({'lithology': 'aplite(?:s)?'}), 'hatch': None})\n",
      "Decor({'_colour': '#ffe1e8', 'width': None, 'component': Component({'lithology': 'porphyre(?:s)?'}), 'hatch': None})\n",
      "Decor({'_colour': '#fdcfcf', 'width': None, 'component': Component({'lithology': 'lamprophyre(?:s)?'}), 'hatch': None})\n",
      "Decor({'_colour': '#ffd1dc', 'width': None, 'component': Component({'lithology': 'pegmatite(?:s)?'}), 'hatch': None})\n",
      "Decor({'_colour': '#fc6e7c', 'width': None, 'component': Component({'lithology': 'granitoïde(?:s)?'}), 'hatch': None})\n",
      "Decor({'_colour': '#fc5262', 'width': None, 'component': Component({'lithology': 'granite(?:s)? alcalin(?:s)?'}), 'hatch': None})\n",
      "Decor({'_colour': '#fb2338', 'width': None, 'component': Component({'lithology': 'granite(?:s)?'}), 'hatch': None})\n",
      "Decor({'_colour': '#f43c6c', 'width': None, 'component': Component({'lithology': 'granite(?:s)? péralumineux'}), 'hatch': None})\n",
      "Decor({'_colour': '#f41a87', 'width': None, 'component': Component({'lithology': 'granite(?:s)? métallineux'}), 'hatch': None})\n",
      "Decor({'_colour': '#dd2972', 'width': None, 'component': Component({'lithology': 'granite(?:s)? subalumineux'}), 'hatch': None})\n",
      "Decor({'_colour': '#e45891', 'width': None, 'component': Component({'lithology': 'granite(?:s)? peralkaline(?:s)?'}), 'hatch': None})\n",
      "Decor({'_colour': '#e979a6', 'width': None, 'component': Component({'lithology': 'granodiorite(?:s)?'}), 'hatch': None})\n",
      "Decor({'_colour': '#ff6f6b', 'width': None, 'component': Component({'lithology': 'tonalite(?:s)?'}), 'hatch': None})\n",
      "Decor({'_colour': '#ffb3c5', 'width': None, 'component': Component({'lithology': 'trondhjemite(?:s)?'}), 'hatch': None})\n",
      "Decor({'_colour': '#f8beae', 'width': None, 'component': Component({'lithology': 'syénite(?:s)? alcaline(?:s)?'}), 'hatch': None})\n",
      "Decor({'_colour': '#f9b5bb', 'width': None, 'component': Component({'lithology': 'quartz syenite(?:s)?'}), 'hatch': None})\n",
      "Decor({'_colour': '#ffa7bc', 'width': None, 'component': Component({'lithology': 'syenite(?:s)?'}), 'hatch': None})\n",
      "Decor({'_colour': '#ff6388', 'width': None, 'component': Component({'lithology': 'quartz monzonite(?:s)?'}), 'hatch': None})\n",
      "Decor({'_colour': '#ff275a', 'width': None, 'component': Component({'lithology': 'monzonite(?:s)?'}), 'hatch': None})\n",
      "Decor({'_colour': '#ffccc5', 'width': None, 'component': Component({'lithology': 'quartz monzodiorite(?:s)?'}), 'hatch': None})\n",
      "Decor({'_colour': '#ffa99d', 'width': None, 'component': Component({'lithology': 'monzodiorite(?:s)?'}), 'hatch': None})\n",
      "Decor({'_colour': '#ff6f5b', 'width': None, 'component': Component({'lithology': 'diorite(?:s)? de quartz(?:s)?'}), 'hatch': None})\n",
      "Decor({'_colour': '#ff3317', 'width': None, 'component': Component({'lithology': 'diorite(?:s)?'}), 'hatch': None})\n",
      "Decor({'_colour': '#e81c00', 'width': None, 'component': Component({'lithology': 'diabase(?:s)?'}), 'hatch': None})\n",
      "Decor({'_colour': '#ff95ae', 'width': None, 'component': Component({'lithology': 'gabbroïde(?:s)?'}), 'hatch': None})\n",
      "Decor({'_colour': '#ff819f', 'width': None, 'component': Component({'lithology': 'quartz monzogabro(?:s)?'}), 'hatch': None})\n",
      "Decor({'_colour': '#ffd6d1', 'width': None, 'component': Component({'lithology': 'monzogabbro(?:s)?'}), 'hatch': None})\n",
      "Decor({'_colour': '#eda7ca', 'width': None, 'component': Component({'lithology': 'quartz gabbro(?:s)?'}), 'hatch': None})\n",
      "Decor({'_colour': '#e993be', 'width': None, 'component': Component({'lithology': 'gabbro(?:s)?'}), 'hatch': None})\n",
      "Decor({'_colour': '#ff85fb', 'width': None, 'component': Component({'lithology': 'gabbronorite(?:s)?'}), 'hatch': None})\n",
      "Decor({'_colour': '#e377ad', 'width': None, 'component': Component({'lithology': 'norite(?:s)?'}), 'hatch': None})\n",
      "Decor({'_colour': '#ffbfce', 'width': None, 'component': Component({'lithology': 'troctolite(?:s)?'}), 'hatch': None})\n",
      "Decor({'_colour': '#ffa3b9', 'width': None, 'component': Component({'lithology': 'anorthosite(?:s)?'}), 'hatch': None})\n",
      "Decor({'_colour': '#ff6f91', 'width': None, 'component': Component({'lithology': 'roche(?:s)? intrusif alcalique(?:s)?'}), 'hatch': None})\n",
      "Decor({'_colour': '#ff1b51', 'width': None, 'component': Component({'lithology': 'népheline(?:s)?'}), 'hatch': None})\n",
      "Decor({'_colour': '#e80037', 'width': None, 'component': Component({'lithology': 'roche(?:s)? intrusive ultramafique(?:s)?'}), 'hatch': None})\n",
      "Decor({'_colour': '#ce0031', 'width': None, 'component': Component({'lithology': 'péridotite(?:s)?'}), 'hatch': None})\n",
      "Decor({'_colour': '#940023', 'width': None, 'component': Component({'lithology': 'kimberlite(?:s)?'}), 'hatch': None})\n",
      "Decor({'_colour': '#c1010a', 'width': None, 'component': Component({'lithology': 'pyroxénite(?:s)?'}), 'hatch': None})\n",
      "Decor({'_colour': '#a30109', 'width': None, 'component': Component({'lithology': 'hornblendite(?:s)?'}), 'hatch': None})\n",
      "Decor({'_colour': '#750107', 'width': None, 'component': Component({'lithology': 'carbonatite intrusive(?:s)?'}), 'hatch': None})\n",
      "Decor({'_colour': '#f9d3d3', 'width': None, 'component': Component({'lithology': 'roche(?:s)? volcanique(?:s)?'}), 'hatch': None})\n",
      "Decor({'_colour': '#ffe5f3', 'width': None, 'component': Component({'lithology': 'roche(?:s)? volcanique(?:s)? vitreuse(?:s)?'}), 'hatch': None})\n",
      "Decor({'_colour': '#ffd1ea', 'width': None, 'component': Component({'lithology': 'obsidienne(?:s)?'}), 'hatch': None})\n",
      "Decor({'_colour': '#ffc3f8', 'width': None, 'component': Component({'lithology': 'vitrophyre(?:s)?'}), 'hatch': None})\n",
      "Decor({'_colour': '#ffc3e4', 'width': None, 'component': Component({'lithology': 'pierre(?:s)? ponce(?:s)?'}), 'hatch': None})\n",
      "Decor({'_colour': '#ffedbf', 'width': None, 'component': Component({'lithology': 'pyroclastique(?:s)?'}), 'hatch': None})\n",
      "Decor({'_colour': '#ffefd9', 'width': None, 'component': Component({'lithology': 'tuf(?:s)?'}), 'hatch': None})\n",
      "Decor({'_colour': '#ffe5c3', 'width': None, 'component': Component({'lithology': 'ignimbrite(?:s)?'}), 'hatch': None})\n",
      "Decor({'_colour': '#ffd59d', 'width': None, 'component': Component({'lithology': 'brèche(?:s)? volcanique(?:s)?'}), 'hatch': None})\n",
      "Decor({'_colour': '#ffc10b', 'width': None, 'component': Component({'lithology': 'coulée(?:s)? de lave(?:s)?'}), 'hatch': None})\n",
      "Decor({'_colour': '#f48b00', 'width': None, 'component': Component({'lithology': 'roche(?:s)? volcanique(?:s)? felsique(?:s)?'}), 'hatch': None})\n",
      "Decor({'_colour': '#fedc7e', 'width': None, 'component': Component({'lithology': 'rhyolite(?:s)? alcaline(?:s)?'}), 'hatch': None})\n",
      "Decor({'_colour': '#fed768', 'width': None, 'component': Component({'lithology': 'rhyolite(?:s)?'}), 'hatch': None})\n",
      "Decor({'_colour': '#fec62a', 'width': None, 'component': Component({'lithology': 'rhyodacite(?:s)?'}), 'hatch': None})\n",
      "Decor({'_colour': '#fecdac', 'width': None, 'component': Component({'lithology': 'dacite(?:s)?'}), 'hatch': None})\n",
      "Decor({'_colour': '#feb786', 'width': None, 'component': Component({'lithology': 'trachyte(?:s)? alcaline(?:s)?'}), 'hatch': None})\n",
      "Decor({'_colour': '#fea060', 'width': None, 'component': Component({'lithology': 'trachyte(?:s)?'}), 'hatch': None})\n",
      "Decor({'_colour': '#fe8736', 'width': None, 'component': Component({'lithology': 'quartz latite(?:s)?'}), 'hatch': None})\n",
      "Decor({'_colour': '#fe7518', 'width': None, 'component': Component({'lithology': 'latite(?:s)?'}), 'hatch': None})\n",
      "Decor({'_colour': '#eb6001', 'width': None, 'component': Component({'lithology': 'roche(?:s)? volcanique(?:s)? intermédiaire(?:s)?'}), 'hatch': None})\n",
      "Decor({'_colour': '#c95201', 'width': None, 'component': Component({'lithology': 'trachyandesite(?:s)?'}), 'hatch': None})\n",
      "Decor({'_colour': '#b14801', 'width': None, 'component': Component({'lithology': 'andésite(?:s)?'}), 'hatch': None})\n",
      "Decor({'_colour': '#933c01', 'width': None, 'component': Component({'lithology': 'roche(?:s)? mafique(?:s)? volcanique(?:s)?'}), 'hatch': None})\n",
      "Decor({'_colour': '#ecd5c6', 'width': None, 'component': Component({'lithology': 'trachybasalte(?:s)?'}), 'hatch': None})\n",
      "Decor({'_colour': '#ddb397', 'width': None, 'component': Component({'lithology': 'basalte(?:s)?'}), 'hatch': None})\n",
      "Decor({'_colour': '#d39d79', 'width': None, 'component': Component({'lithology': 'tholite(?:s)?'}), 'hatch': None})\n",
      "Decor({'_colour': '#c68050', 'width': None, 'component': Component({'lithology': 'hawaiite(?:s)?'}), 'hatch': None})\n",
      "Decor({'_colour': '#a96537', 'width': None, 'component': Component({'lithology': 'basalte(?:s)? alcalin(?:s)?'}), 'hatch': None})\n",
      "Decor({'_colour': '#854f2b', 'width': None, 'component': Component({'lithology': 'roche(?:s)? alcalique(?:s)? volcanique(?:s)?'}), 'hatch': None})\n",
      "Decor({'_colour': '#5f391f', 'width': None, 'component': Component({'lithology': 'phonolite(?:s)?'}), 'hatch': None})\n",
      "Decor({'_colour': '#c24100', 'width': None, 'component': Component({'lithology': 'téphrite(?:s)?'}), 'hatch': None})\n",
      "Decor({'_colour': '#a03500', 'width': None, 'component': Component({'lithology': 'komatiite(?:s)?'}), 'hatch': None})\n",
      "Decor({'_colour': '#6e2500', 'width': None, 'component': Component({'lithology': 'carbonatite volcanique(?:s)?'}), 'hatch': None})\n",
      "Decor({'_colour': '#e6cdff', 'width': None, 'component': Component({'lithology': 'roche(?:s)? métamorphique(?:s)?'}), 'hatch': None})\n",
      "Decor({'_colour': '#eaafff', 'width': None, 'component': Component({'lithology': 'hornfels'}), 'hatch': None})\n",
      "Decor({'_colour': '#e9ffe9', 'width': None, 'component': Component({'lithology': 'roche(?:s)? métasédimentaire(?:s)?'}), 'hatch': None})\n",
      "Decor({'_colour': '#c9ffc9', 'width': None, 'component': Component({'lithology': 'méta-argilite(?:s)?'}), 'hatch': None})\n",
      "Decor({'_colour': '#a7a7ff', 'width': None, 'component': Component({'lithology': 'ardoise(?:s)?'}), 'hatch': None})\n",
      "Decor({'_colour': '#9fff9f', 'width': None, 'component': Component({'lithology': 'quartzite(?:s)?'}), 'hatch': None})\n",
      "Decor({'_colour': '#7dff7d', 'width': None, 'component': Component({'lithology': 'méta-conglomérat(?:s)?'}), 'hatch': None})\n",
      "Decor({'_colour': '#0000ff', 'width': None, 'component': Component({'lithology': 'marbre(?:s)?'}), 'hatch': None})\n",
      "Decor({'_colour': '#ffa7ff', 'width': None, 'component': Component({'lithology': 'roche(?:s)? métavolcanique(?:s)?'}), 'hatch': None})\n",
      "Decor({'_colour': '#ff8dff', 'width': None, 'component': Component({'lithology': 'roche(?:s)? métavolcanique felsique(?:s)?'}), 'hatch': None})\n",
      "Decor({'_colour': '#ff57ff', 'width': None, 'component': Component({'lithology': 'méta-rhyolite(?:s)?'}), 'hatch': None})\n",
      "Decor({'_colour': '#fe6700', 'width': None, 'component': Component({'lithology': 'kératophyre(?:s)?'}), 'hatch': None})\n",
      "Decor({'_colour': '#c9557e', 'width': None, 'component': Component({'lithology': 'roche(?:s)? métavolcanique(?:s)? intermédiaire(?:s)?'}), 'hatch': None})\n",
      "Decor({'_colour': '#b93b68', 'width': None, 'component': Component({'lithology': 'roche(?:s)? métavolcanique(?:s)? mafique(?:s)?'}), 'hatch': None})\n",
      "Decor({'_colour': '#872b4c', 'width': None, 'component': Component({'lithology': 'méta-basalte(?:s)?'}), 'hatch': None})\n",
      "Decor({'_colour': '#ff0000', 'width': None, 'component': Component({'lithology': 'spilite(?:s)?'}), 'hatch': None})\n",
      "Decor({'_colour': '#008000', 'width': None, 'component': Component({'lithology': 'pierre(?:s)? verte(?:s)?'}), 'hatch': None})\n",
      "Decor({'_colour': '#ededf3', 'width': None, 'component': Component({'lithology': 'phyllite(?:s)?'}), 'hatch': None})\n",
      "Decor({'_colour': '#dbdbe7', 'width': None, 'component': Component({'lithology': 'schiste(?:s)?'}), 'hatch': None})\n",
      "Decor({'_colour': '#b1b1b1', 'width': None, 'component': Component({'lithology': 'micaschiste(?:s)?'}), 'hatch': None})\n",
      "Decor({'_colour': '#969696', 'width': None, 'component': Component({'lithology': 'schiste(?:s)? pélitique(?:s)?'}), 'hatch': None})\n",
      "Decor({'_colour': '#a2a2c0', 'width': None, 'component': Component({'lithology': 'schiste(?:s)? de quartz-feldspar(?:s)?'}), 'hatch': None})\n",
      "Decor({'_colour': '#b4cfe4', 'width': None, 'component': Component({'lithology': 'schiste(?:s)? de silicate de calcul(?:s)?'}), 'hatch': None})\n",
      "Decor({'_colour': '#b6b6ce', 'width': None, 'component': Component({'lithology': \"schiste(?:s)? d'amphibole(?:s)?\"}), 'hatch': None})\n",
      "Decor({'_colour': '#abffff', 'width': None, 'component': Component({'lithology': 'granofels'}), 'hatch': None})\n",
      "Decor({'_colour': '#79ffff', 'width': None, 'component': Component({'lithology': 'gneiss'}), 'hatch': None})\n",
      "Decor({'_colour': '#0fffff', 'width': None, 'component': Component({'lithology': 'gneiss felsique(?:s)?'}), 'hatch': None})\n",
      "Decor({'_colour': '#00dbd6', 'width': None, 'component': Component({'lithology': 'gneiss granitique(?:s)?'}), 'hatch': None})\n",
      "Decor({'_colour': '#00a4a0', 'width': None, 'component': Component({'lithology': 'gneiss biotite(?:s)?'}), 'hatch': None})\n",
      "Decor({'_colour': '#007673', 'width': None, 'component': Component({'lithology': 'gneiss mafique(?:s)?'}), 'hatch': None})\n",
      "Decor({'_colour': '#33cccc', 'width': None, 'component': Component({'lithology': 'orthogneiss'}), 'hatch': None})\n",
      "Decor({'_colour': '#2db6b3', 'width': None, 'component': Component({'lithology': 'paragne(?:s)?'}), 'hatch': None})\n",
      "Decor({'_colour': '#ac0000', 'width': None, 'component': Component({'lithology': 'migmatite(?:s)?'}), 'hatch': None})\n",
      "Decor({'_colour': '#ac7f50', 'width': None, 'component': Component({'lithology': 'amphibolite(?:s)?'}), 'hatch': None})\n",
      "Decor({'_colour': '#84613e', 'width': None, 'component': Component({'lithology': 'granulite(?:s)?'}), 'hatch': None})\n",
      "Decor({'_colour': '#ff4fff', 'width': None, 'component': Component({'lithology': 'eclogite(?:s)?'}), 'hatch': None})\n",
      "Decor({'_colour': '#ec00ec', 'width': None, 'component': Component({'lithology': 'greisen(?:s)?'}), 'hatch': None})\n",
      "Decor({'_colour': '#6600cc', 'width': None, 'component': Component({'lithology': 'skarn(?:s)?'}), 'hatch': None})\n",
      "Decor({'_colour': '#005c00', 'width': None, 'component': Component({'lithology': 'serpentinite(?:s)?'}), 'hatch': None})\n",
      "Decor({'_colour': '#c600c6', 'width': None, 'component': Component({'lithology': 'roche(?:s)? tectonique(?:s)?'}), 'hatch': None})\n",
      "Decor({'_colour': '#9c009c', 'width': None, 'component': Component({'lithology': 'tectonite(?:s)?'}), 'hatch': None})\n",
      "Decor({'_colour': '#6a006a', 'width': None, 'component': Component({'lithology': 'tectonite(?:s)? mélange(?:s)?'}), 'hatch': None})\n",
      "Decor({'_colour': '#2a002a', 'width': None, 'component': Component({'lithology': 'brèche(?:s)? tectonique(?:s)?'}), 'hatch': None})\n",
      "Decor({'_colour': '#f4ffd5', 'width': None, 'component': Component({'lithology': 'cataclasite(?:s)?'}), 'hatch': None})\n",
      "Decor({'_colour': '#339966', 'width': None, 'component': Component({'lithology': 'phyllonite(?:s)?'}), 'hatch': None})\n",
      "Decor({'_colour': '#d0cbb0', 'width': None, 'component': Component({'lithology': 'mylonite(?:s)?'}), 'hatch': None})\n",
      "Decor({'_colour': '#b0a778', 'width': None, 'component': Component({'lithology': 'basinite(?:s)?'}), 'hatch': None})\n"
     ]
    }
   ],
   "source": [
    "p.refresh(verbose=True)"
   ]
  },
  {
   "cell_type": "code",
   "execution_count": 26,
   "metadata": {},
   "outputs": [
    {
     "name": "stdout",
     "output_type": "stream",
     "text": [
      "2021-06-18 16:02:31,625 INFO sqlalchemy.engine.Engine ROLLBACK\n"
     ]
    }
   ],
   "source": [
    "session.close()"
   ]
  },
  {
   "cell_type": "markdown",
   "metadata": {},
   "source": [
    "# 3D Display"
   ]
  },
  {
   "cell_type": "markdown",
   "metadata": {},
   "source": [
    "## Display one object"
   ]
  },
  {
   "cell_type": "code",
   "execution_count": 27,
   "metadata": {},
   "outputs": [],
   "source": [
    "bh = p.boreholes_3d\n",
    "#print(bh.name, '\\n', bh.intervals) # problem with top and base position --> kind of overlaying"
   ]
  },
  {
   "cell_type": "raw",
   "metadata": {},
   "source": [
    "p.boreholes_3d[0].plot2d()"
   ]
  },
  {
   "cell_type": "raw",
   "metadata": {},
   "source": [
    "for k,v in components.items():\n",
    "    if hasattr(v, 'colour'):\n",
    "        print(components[k].lithology, v.colour)"
   ]
  },
  {
   "cell_type": "code",
   "execution_count": 37,
   "metadata": {},
   "outputs": [
    {
     "data": {
      "text/html": [
       "<div>\n",
       "<style scoped>\n",
       "    .dataframe tbody tr th:only-of-type {\n",
       "        vertical-align: middle;\n",
       "    }\n",
       "\n",
       "    .dataframe tbody tr th {\n",
       "        vertical-align: top;\n",
       "    }\n",
       "\n",
       "    .dataframe thead th {\n",
       "        text-align: right;\n",
       "    }\n",
       "</style>\n",
       "<table border=\"1\" class=\"dataframe\">\n",
       "  <thead>\n",
       "    <tr style=\"text-align: right;\">\n",
       "      <th></th>\n",
       "      <th>ID</th>\n",
       "      <th>Litho_top</th>\n",
       "      <th>Litho_base</th>\n",
       "      <th>Description</th>\n",
       "    </tr>\n",
       "  </thead>\n",
       "  <tbody>\n",
       "    <tr>\n",
       "      <th>14</th>\n",
       "      <td>214</td>\n",
       "      <td>0.0</td>\n",
       "      <td>0.6</td>\n",
       "      <td>Remblais noirs en mélange avec sable beige</td>\n",
       "    </tr>\n",
       "    <tr>\n",
       "      <th>15</th>\n",
       "      <td>214</td>\n",
       "      <td>0.6</td>\n",
       "      <td>1.0</td>\n",
       "      <td>Remblais noirs gravillonneux</td>\n",
       "    </tr>\n",
       "    <tr>\n",
       "      <th>16</th>\n",
       "      <td>214</td>\n",
       "      <td>1.0</td>\n",
       "      <td>1.2</td>\n",
       "      <td>Remblais de déchets de construction brun/beige...</td>\n",
       "    </tr>\n",
       "    <tr>\n",
       "      <th>17</th>\n",
       "      <td>214</td>\n",
       "      <td>1.2</td>\n",
       "      <td>2.4</td>\n",
       "      <td>Remblais avec briquaillons divers bruns/orange...</td>\n",
       "    </tr>\n",
       "    <tr>\n",
       "      <th>18</th>\n",
       "      <td>214</td>\n",
       "      <td>2.4</td>\n",
       "      <td>3.2</td>\n",
       "      <td>Remblais avec strate de produit pur</td>\n",
       "    </tr>\n",
       "    <tr>\n",
       "      <th>19</th>\n",
       "      <td>214</td>\n",
       "      <td>3.2</td>\n",
       "      <td>3.6</td>\n",
       "      <td>Remblais en mélange avec limon verdâtre - prés...</td>\n",
       "    </tr>\n",
       "    <tr>\n",
       "      <th>20</th>\n",
       "      <td>214</td>\n",
       "      <td>3.6</td>\n",
       "      <td>4.8</td>\n",
       "      <td>Retombées et limons verdâtre argilo-sableux - ...</td>\n",
       "    </tr>\n",
       "  </tbody>\n",
       "</table>\n",
       "</div>"
      ],
      "text/plain": [
       "     ID  Litho_top  Litho_base  \\\n",
       "14  214        0.0         0.6   \n",
       "15  214        0.6         1.0   \n",
       "16  214        1.0         1.2   \n",
       "17  214        1.2         2.4   \n",
       "18  214        2.4         3.2   \n",
       "19  214        3.2         3.6   \n",
       "20  214        3.6         4.8   \n",
       "\n",
       "                                          Description  \n",
       "14        Remblais noirs en mélange avec sable beige   \n",
       "15                      Remblais noirs gravillonneux   \n",
       "16  Remblais de déchets de construction brun/beige...  \n",
       "17  Remblais avec briquaillons divers bruns/orange...  \n",
       "18               Remblais avec strate de produit pur   \n",
       "19  Remblais en mélange avec limon verdâtre - prés...  \n",
       "20  Retombées et limons verdâtre argilo-sableux - ...  "
      ]
     },
     "execution_count": 37,
     "metadata": {},
     "output_type": "execute_result"
    }
   ],
   "source": [
    "n = 2\n",
    "df.query(f'ID==\"{p.boreholes_3d[n].name}\"')[['ID', 'Litho_top', 'Litho_base', 'Description']]"
   ]
  },
  {
   "cell_type": "raw",
   "metadata": {},
   "source": [
    "p.boreholes_3d[n].components #remblais : #D3B798,"
   ]
  },
  {
   "cell_type": "raw",
   "metadata": {
    "scrolled": true
   },
   "source": [
    "p.boreholes_3d[n].plot2d()"
   ]
  },
  {
   "cell_type": "code",
   "execution_count": 29,
   "metadata": {},
   "outputs": [
    {
     "data": {
      "text/plain": [
       "'remblais'"
      ]
     },
     "execution_count": 29,
     "metadata": {},
     "output_type": "execute_result"
    }
   ],
   "source": [
    "p.boreholes_3d[n].intervals[0].components[0].lithology #components"
   ]
  },
  {
   "cell_type": "code",
   "execution_count": 30,
   "metadata": {},
   "outputs": [
    {
     "name": "stdout",
     "output_type": "stream",
     "text": [
      "remblais --- #d3b798\n",
      "remblais --- #d3b798\n",
      "sable --- #ffcb23\n",
      "limon --- #ffd345\n"
     ]
    }
   ],
   "source": [
    "import re\n",
    "for intv in p.boreholes_3d[n].intervals:\n",
    "    comp = intv.components[0]\n",
    "    #print('---------------\\n', p.boreholes_3d[n].components)\n",
    "    if hasattr(comp, 'lithology'):\n",
    "        comp_litho = comp.lithology\n",
    "        for leg in p.boreholes_3d[n].legend:\n",
    "            leg_litho = leg.component.lithology\n",
    "            reg = re.compile(\"^{:s}$\".format(leg_litho), flags=re.I).match(comp_litho)\n",
    "            if reg:  # lithology found\n",
    "                print(reg.string, '---', leg.colour)"
   ]
  },
  {
   "cell_type": "code",
   "execution_count": 32,
   "metadata": {
    "scrolled": true
   },
   "outputs": [
    {
     "ename": "SyntaxError",
     "evalue": "invalid syntax (<ipython-input-32-caa8c61c0771>, line 1)",
     "output_type": "error",
     "traceback": [
      "\u001b[0;36m  File \u001b[0;32m\"<ipython-input-32-caa8c61c0771>\"\u001b[0;36m, line \u001b[0;32m1\u001b[0m\n\u001b[0;31m    p.\u001b[0m\n\u001b[0m      ^\u001b[0m\n\u001b[0;31mSyntaxError\u001b[0m\u001b[0;31m:\u001b[0m invalid syntax\n"
     ]
    }
   ],
   "source": []
  },
  {
   "cell_type": "code",
   "execution_count": 33,
   "metadata": {
    "scrolled": false
   },
   "outputs": [
    {
     "data": {
      "application/vnd.jupyter.widget-view+json": {
       "model_id": "327993a1a2084c53b36985f1c9c1b40a",
       "version_major": 2,
       "version_minor": 0
      },
      "text/plain": [
       "ViewInteractiveWidget(height=400, layout=Layout(height='auto', width='100%'), width=600)"
      ]
     },
     "metadata": {},
     "output_type": "display_data"
    }
   ],
   "source": [
    "p.plot3d() #205,207,214"
   ]
  },
  {
   "cell_type": "code",
   "execution_count": null,
   "metadata": {},
   "outputs": [],
   "source": [
    "pause"
   ]
  },
  {
   "cell_type": "raw",
   "metadata": {},
   "source": [
    "p.boreholes_3d[0].plot3d(x3d=True)"
   ]
  },
  {
   "cell_type": "markdown",
   "metadata": {},
   "source": [
    "### Display project boreholes"
   ]
  },
  {
   "cell_type": "code",
   "execution_count": 34,
   "metadata": {},
   "outputs": [
    {
     "name": "stdout",
     "output_type": "stream",
     "text": [
      "3\n"
     ]
    }
   ],
   "source": [
    "p.plot3d(labels_size=15, bg_color=[\"royalblue\", \"aliceblue\"], window_size=(1300, 1000))"
   ]
  },
  {
   "cell_type": "markdown",
   "metadata": {},
   "source": [
    "### Boreholes in 3D using X3D for interaction within the notebook"
   ]
  },
  {
   "cell_type": "raw",
   "metadata": {
    "scrolled": false
   },
   "source": [
    "p.plot3d(x3d=True)"
   ]
  },
  {
   "cell_type": "code",
   "execution_count": null,
   "metadata": {},
   "outputs": [],
   "source": []
  },
  {
   "cell_type": "markdown",
   "metadata": {},
   "source": [
    "#---------------------------------------------"
   ]
  },
  {
   "cell_type": "raw",
   "metadata": {},
   "source": [
    "from striplog import Lexicon, Legend, Component\n",
    "import re"
   ]
  },
  {
   "cell_type": "raw",
   "metadata": {},
   "source": [
    "litho = 'loess'\n",
    "# litho = 'tectonite mélangés'\n",
    "#test = ['Tectonite(?:s)?','Tectonite(?:s)? mélangé(?:s)?','schiste(?:s)?','Cataclasite(?:s)?']\n",
    "test = [l.component.lithology for l in legend_fr]\n",
    "\n",
    "reg = list(map(lambda x: re.compile(\"^{:s}$\".format(x), flags=re.I).search(litho), test))\n",
    "r = [l.string for l in reg if l is not None]\n",
    "if len(r) > 0:\n",
    "    print(f\"{r[0]}, {len(r)}, {litho}\")"
   ]
  },
  {
   "cell_type": "raw",
   "metadata": {},
   "source": [
    "legend_fr"
   ]
  },
  {
   "cell_type": "raw",
   "metadata": {},
   "source": [
    "import matplotlib.colors as mcolors\n",
    "\n",
    "def create_legend(components, legend, hatches=None, colors=None, width=3):\n",
    "    \n",
    "    list_of_decors, hatches_used = [], []\n",
    "    def_hatches = ['+', 'x', '.', 's', '*', 'b', 'c', 'v', '/', 't']\n",
    "    def_colors = [l.colour for l in Legend.default()] + list(mcolors.CSS4_COLORS.values())\n",
    "    i=0\n",
    "    \n",
    "    for comp in components:\n",
    "        if hasattr(comp, 'lithology'):\n",
    "            comp_litho = comp.lithology\n",
    "            for leg in legend:\n",
    "                leg_litho = leg.component.lithology\n",
    "                \n",
    "                reg = re.compile(\"^{:s}$\".format(leg_litho), flags=re.I).match(comp_litho)\n",
    "                print(reg)\n",
    "                if reg:\n",
    "                    print(i, comp, reg)\n",
    "        i += 1         "
   ]
  },
  {
   "cell_type": "raw",
   "metadata": {},
   "source": [
    "create_legend(components, legend_fr)"
   ]
  },
  {
   "cell_type": "raw",
   "metadata": {},
   "source": [
    "from utils.lexicon.lexicon_fr import COLOURS_FR"
   ]
  },
  {
   "cell_type": "raw",
   "metadata": {},
   "source": [
    "new_color_dict = {}\n",
    "name = ['gris', 'rouge']\n",
    "a, b = COLOURS_FR[name[0].capitalize()].strip('#'), COLOURS_FR[name[1].capitalize()].strip('#')\n",
    "new_color = hex(int(a, 16) + int(b, 16))[2:].upper()\n",
    "new_color_dict.update({f'{name[0]}-{name[1]}':f'#{new_color}'})\n",
    "a, b, new_color, new_color_dict"
   ]
  },
  {
   "cell_type": "raw",
   "metadata": {},
   "source": [
    "for k, v in new_color_dict.items():\n",
    "    if k.capitalize() not in COLOURS_FR.keys():\n",
    "    COLOURS_FR.update(new_color_dict)"
   ]
  }
 ],
 "metadata": {
  "kernelspec": {
   "display_name": "Python 3",
   "language": "python",
   "name": "python3"
  },
  "language_info": {
   "codemirror_mode": {
    "name": "ipython",
    "version": 3
   },
   "file_extension": ".py",
   "mimetype": "text/x-python",
   "name": "python",
   "nbconvert_exporter": "python",
   "pygments_lexer": "ipython3",
   "version": "3.8.5"
  }
 },
 "nbformat": 4,
 "nbformat_minor": 4
}
