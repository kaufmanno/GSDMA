{
 "cells": [
  {
   "cell_type": "markdown",
   "metadata": {},
   "source": [
    "# Example of using the Borehole3D class"
   ]
  },
  {
   "cell_type": "markdown",
   "metadata": {},
   "source": [
    "## Imports"
   ]
  },
  {
   "cell_type": "code",
   "execution_count": 1,
   "metadata": {},
   "outputs": [
    {
     "name": "stderr",
     "output_type": "stream",
     "text": [
      "/home/yanathan/.local/share/virtualenvs/GSDMA-DRfwm83x/lib/python3.8/site-packages/striplog/legend.py:687: UserWarning: This legend contains duplicate components.\n",
      "  warnings.warn(w)\n",
      "/home/yanathan/.local/share/virtualenvs/GSDMA-DRfwm83x/lib/python3.8/site-packages/striplog/legend.py:687: UserWarning: This legend contains duplicate components.\n",
      "  warnings.warn(w)\n"
     ]
    }
   ],
   "source": [
    "from striplog import Component, Decor, Legend, Lexicon, Striplog\n",
    "from core.omf import Borehole3D, striplog_legend_to_omf_legend \n",
    "from utils.lexicon.lexicon_fr import lexicon_fr, legend_fr\n",
    "from utils.io import boreholes_from_files, gdf_viewer\n",
    "from core.core import Project\n",
    "from core.orm import BoreholeOrm, PositionOrm, Base \n",
    "\n",
    "import matplotlib.pyplot as plt\n",
    "from os import remove\n",
    "import pandas as pd\n",
    "import numpy as np\n",
    "from sqlalchemy import create_engine\n",
    "from sqlalchemy.orm import sessionmaker\n",
    "from definitions import ROOT_DIR"
   ]
  },
  {
   "cell_type": "markdown",
   "metadata": {},
   "source": [
    "## Reading of CSV files in a dir"
   ]
  },
  {
   "cell_type": "code",
   "execution_count": 2,
   "metadata": {},
   "outputs": [],
   "source": [
    "save_dir = ROOT_DIR+'/CF_data/Donnees_fusionnees/'"
   ]
  },
  {
   "cell_type": "code",
   "execution_count": 3,
   "metadata": {},
   "outputs": [],
   "source": [
    "df = pd.read_csv(save_dir+'Pilote_test.csv', sep=',')"
   ]
  },
  {
   "cell_type": "code",
   "execution_count": 4,
   "metadata": {},
   "outputs": [
    {
     "name": "stdout",
     "output_type": "stream",
     "text": [
      "Rows : 86, columns : 10\n"
     ]
    },
    {
     "data": {
      "application/vnd.jupyter.widget-view+json": {
       "model_id": "c5022b6f25ff40ccb479aba32e85676b",
       "version_major": 2,
       "version_minor": 0
      },
      "text/plain": [
       "interactive(children=(IntSlider(value=10, description='rows', max=86, min=10, readout=False), IntSlider(value=…"
      ]
     },
     "metadata": {},
     "output_type": "display_data"
    }
   ],
   "source": [
    "gdf_viewer(df)"
   ]
  },
  {
   "cell_type": "markdown",
   "metadata": {},
   "source": [
    "## Data Checking"
   ]
  },
  {
   "cell_type": "raw",
   "metadata": {},
   "source": [
    "df.drop('Z', axis='columns', inplace=True)\n",
    "df.rename({'new_Z':'Z'}, axis='columns', inplace=True)"
   ]
  },
  {
   "cell_type": "raw",
   "metadata": {},
   "source": [
    "df.loc[df.query('Colour==\"tan\"').index, 'Colour'] = 'green' # use simple colour"
   ]
  },
  {
   "cell_type": "code",
   "execution_count": 5,
   "metadata": {},
   "outputs": [],
   "source": [
    "df.drop(index=df.query('X!=X').index, inplace=True)\n",
    "df.drop(index=df.query('Description!=Description').index, inplace=True)"
   ]
  },
  {
   "cell_type": "raw",
   "metadata": {},
   "source": [
    "df.loc[1, 'Description'] ='Sable rouge'"
   ]
  },
  {
   "cell_type": "code",
   "execution_count": 6,
   "metadata": {},
   "outputs": [
    {
     "data": {
      "text/html": [
       "<div>\n",
       "<style scoped>\n",
       "    .dataframe tbody tr th:only-of-type {\n",
       "        vertical-align: middle;\n",
       "    }\n",
       "\n",
       "    .dataframe tbody tr th {\n",
       "        vertical-align: top;\n",
       "    }\n",
       "\n",
       "    .dataframe thead th {\n",
       "        text-align: right;\n",
       "    }\n",
       "</style>\n",
       "<table border=\"1\" class=\"dataframe\">\n",
       "  <thead>\n",
       "    <tr style=\"text-align: right;\">\n",
       "      <th></th>\n",
       "      <th>ID</th>\n",
       "      <th>Ep_litho</th>\n",
       "      <th>X</th>\n",
       "      <th>Y</th>\n",
       "      <th>Z</th>\n",
       "      <th>Long_for</th>\n",
       "      <th>Litho_base</th>\n",
       "      <th>Litho_top</th>\n",
       "      <th>Diam_for</th>\n",
       "      <th>Description</th>\n",
       "    </tr>\n",
       "  </thead>\n",
       "  <tbody>\n",
       "    <tr>\n",
       "      <th>0</th>\n",
       "      <td>201</td>\n",
       "      <td>0.6</td>\n",
       "      <td>152890.245758</td>\n",
       "      <td>122596.47426</td>\n",
       "      <td>101.926886</td>\n",
       "      <td>2.4</td>\n",
       "      <td>1.2</td>\n",
       "      <td>0.6</td>\n",
       "      <td>75.0</td>\n",
       "      <td>Remblais avec briques de construction couleur ...</td>\n",
       "    </tr>\n",
       "    <tr>\n",
       "      <th>1</th>\n",
       "      <td>201</td>\n",
       "      <td>1.2</td>\n",
       "      <td>152890.245758</td>\n",
       "      <td>122596.47426</td>\n",
       "      <td>101.926886</td>\n",
       "      <td>2.4</td>\n",
       "      <td>2.4</td>\n",
       "      <td>1.2</td>\n",
       "      <td>75.0</td>\n",
       "      <td>Briquaille de déchets de construction et galet...</td>\n",
       "    </tr>\n",
       "  </tbody>\n",
       "</table>\n",
       "</div>"
      ],
      "text/plain": [
       "    ID  Ep_litho              X             Y           Z  Long_for  \\\n",
       "0  201       0.6  152890.245758  122596.47426  101.926886       2.4   \n",
       "1  201       1.2  152890.245758  122596.47426  101.926886       2.4   \n",
       "\n",
       "   Litho_base  Litho_top  Diam_for  \\\n",
       "0         1.2        0.6      75.0   \n",
       "1         2.4        1.2      75.0   \n",
       "\n",
       "                                         Description  \n",
       "0  Remblais avec briques de construction couleur ...  \n",
       "1  Briquaille de déchets de construction et galet...  "
      ]
     },
     "execution_count": 6,
     "metadata": {},
     "output_type": "execute_result"
    }
   ],
   "source": [
    "df.query('ID==\"201\"')"
   ]
  },
  {
   "cell_type": "code",
   "execution_count": 7,
   "metadata": {
    "scrolled": true
   },
   "outputs": [],
   "source": [
    "df['Ep_litho']=df['Litho_base']-df['Litho_top']"
   ]
  },
  {
   "cell_type": "markdown",
   "metadata": {},
   "source": [
    "## Create Boreholes from dataframes or files"
   ]
  },
  {
   "cell_type": "code",
   "execution_count": 8,
   "metadata": {},
   "outputs": [],
   "source": [
    "bhs_df=[df] # list of dataframes"
   ]
  },
  {
   "cell_type": "code",
   "execution_count": 9,
   "metadata": {
    "scrolled": true
   },
   "outputs": [
    {
     "name": "stdout",
     "output_type": "stream",
     "text": [
      "\n",
      "Dataframe 0 processing...\n",
      "================================\n",
      "|__ID:'201'\n",
      "Summary : [Striplog(2 Intervals, start=0.6, stop=2.4)]\n",
      "{0: {'description': 'Remblais avec briques de construction couleur orange, gris, verdâtre  ', 'interval_number': 0, 'top': <core.orm.PositionOrm object at 0x7f2cbcc30dc0>, 'base': <core.orm.PositionOrm object at 0x7f2cbcc30880>}, 1: {'description': \"Briquaille de déchets de construction et galets roulés - présence d'eau - légère odeur de naphtalène - Bloqué à 2,4 m sur caillasse (et béton ?)\", 'interval_number': 1, 'top': <core.orm.PositionOrm object at 0x7f2cbcc3ee20>, 'base': <core.orm.PositionOrm object at 0x7f2cbcc3ed60>}}\n",
      "\n",
      "|__ID:'205'\n",
      "Error : No lithology matching with 'Couche de boue en surface liée à l'intervention de Géosonda' in given lexicon\n",
      "Warning : ++ interval's component replaced by default ('white sand')\n",
      "Summary : [Striplog(7 Intervals, start=0.0, stop=4.8)]\n",
      "{2: {'description': 'white sand', 'interval_number': 0, 'top': <core.orm.PositionOrm object at 0x7f2cbcc3eca0>, 'base': <core.orm.PositionOrm object at 0x7f2cbcc3e460>}, 3: {'description': 'Limon brun ', 'interval_number': 1, 'top': <core.orm.PositionOrm object at 0x7f2cbcc3e970>, 'base': <core.orm.PositionOrm object at 0x7f2cbcc3ebe0>}, 4: {'description': 'Remblais gris gravillonneux avec présence de déchets de construction', 'interval_number': 2, 'top': <core.orm.PositionOrm object at 0x7f2cbcc3e490>, 'base': <core.orm.PositionOrm object at 0x7f2cbcc3e9d0>}, 5: {'description': \"Présence d'eau avec remblais pollués (odeur forte de naphtalène avec irrisation de l'eau) + mélange de limon et gravillons \", 'interval_number': 3, 'top': <core.orm.PositionOrm object at 0x7f2cbcc3efa0>, 'base': <core.orm.PositionOrm object at 0x7f2cbcc30c40>}, 6: {'description': 'Remblais grossiers saturés avec présence de produit pur - odeur forte +++ de naphtalène ', 'interval_number': 4, 'top': <core.orm.PositionOrm object at 0x7f2cbcc49100>, 'base': <core.orm.PositionOrm object at 0x7f2cbcc49460>}, 7: {'description': 'Alluvions verdâtres argilo-sableux (odeur dans les 40 premiers cm). Présence de goudron noir pur sur les alluvions', 'interval_number': 5, 'top': <core.orm.PositionOrm object at 0x7f2cbcc493a0>, 'base': <core.orm.PositionOrm object at 0x7f2cbcc491f0>}, 8: {'description': \"Retombées des strates supérieures - Limon verdâtre devient brun - Dans gouge, présence d'éléments grossiers favorisant le passage de produit pur (créant des chemins préférentiels)\", 'interval_number': 6, 'top': <core.orm.PositionOrm object at 0x7f2cbcc49250>, 'base': <core.orm.PositionOrm object at 0x7f2cbcc491c0>}}\n",
      "\n",
      "|__ID:'208'\n",
      "Summary : [Striplog(5 Intervals, start=0.0, stop=4.8)]\n",
      "{9: {'description': 'Remblais de couleur brun avec déchets de construction - matrice sableuse et gravillonneuse', 'interval_number': 0, 'top': <core.orm.PositionOrm object at 0x7f2cbcc49820>, 'base': <core.orm.PositionOrm object at 0x7f2cbcc499d0>}, 10: {'description': \"Matériaux grossiers - caillasse avec odeur forte ++ et irrisation dans l'eau \", 'interval_number': 1, 'top': <core.orm.PositionOrm object at 0x7f2cbcc3ed00>, 'base': <core.orm.PositionOrm object at 0x7f2cbcc3ebb0>}, 11: {'description': 'Remblais grossiers saturés avec présence de produit pur sur limons ', 'interval_number': 2, 'top': <core.orm.PositionOrm object at 0x7f2cbcbe9b20>, 'base': <core.orm.PositionOrm object at 0x7f2cbcbe9e50>}, 12: {'description': 'Limons alluviaux noirs - odeur forte', 'interval_number': 3, 'top': <core.orm.PositionOrm object at 0x7f2cbcbe9d90>, 'base': <core.orm.PositionOrm object at 0x7f2cbcbe9190>}, 13: {'description': 'Limons de couleur \"verdâtre\" devient brun-ocre - odeur dans limon', 'interval_number': 4, 'top': <core.orm.PositionOrm object at 0x7f2cbcbe91f0>, 'base': <core.orm.PositionOrm object at 0x7f2cbcbe9160>}}\n",
      "\n",
      "|__ID:'212'\n",
      "Summary : [Striplog(5 Intervals, start=0.0, stop=4.8)]\n",
      "{14: {'description': 'Remblais divers (présence de gravillons noirs/gris, de déchets de constructions oranges, de limon sableux brun et de sable ocre)', 'interval_number': 0, 'top': <core.orm.PositionOrm object at 0x7f2cbcc3eb20>, 'base': <core.orm.PositionOrm object at 0x7f2cbcc3ea60>}, 15: {'description': \"Seule 1/4 gouge remplie - matériaux grossiers avec présence de scories, laitiers saturés, caillasse brun/beige - pas d'odeur \", 'interval_number': 1, 'top': <core.orm.PositionOrm object at 0x7f2cbcc49a90>, 'base': <core.orm.PositionOrm object at 0x7f2cbcc49bb0>}, 16: {'description': 'Remblais grossiers (caillasse de taille pluricentimétrique et scories) avec irrisation et odeur forte ', 'interval_number': 2, 'top': <core.orm.PositionOrm object at 0x7f2cbcc49e50>, 'base': <core.orm.PositionOrm object at 0x7f2cbcc49fa0>}, 17: {'description': 'Interface remblais avec limons alluviaux (alluvions noirs)', 'interval_number': 3, 'top': <core.orm.PositionOrm object at 0x7f2cbcc49f10>, 'base': <core.orm.PositionOrm object at 0x7f2cbcbe90a0>}, 18: {'description': 'Retombées de 3,6 à 4 m puis limons alluviaux verdâtre sur 0,2 m devient brun argileux puis argilo-sableux ocre', 'interval_number': 4, 'top': <core.orm.PositionOrm object at 0x7f2cbcbe93d0>, 'base': <core.orm.PositionOrm object at 0x7f2cbcbe9c10>}}\n",
      "\n",
      "|__ID:'207'\n",
      "Summary : [Striplog(7 Intervals, start=0.0, stop=4.8)]\n",
      "{19: {'description': 'Remblais brun avec déchets de construction oranges fins ', 'interval_number': 0, 'top': <core.orm.PositionOrm object at 0x7f2cbcbe9fd0>, 'base': <core.orm.PositionOrm object at 0x7f2cbcbe9c40>}, 20: {'description': 'Remblais de couleur noire en mélange avec limon graveleux', 'interval_number': 1, 'top': <core.orm.PositionOrm object at 0x7f2cbcca55b0>, 'base': <core.orm.PositionOrm object at 0x7f2cbcbf2340>}, 21: {'description': 'Déchets de construction : brique et sable beige', 'interval_number': 2, 'top': <core.orm.PositionOrm object at 0x7f2cbcbf2460>, 'base': <core.orm.PositionOrm object at 0x7f2cbcbf2370>}, 22: {'description': 'Caillasse saturée (présence de scories) - semble moins pollué ', 'interval_number': 3, 'top': <core.orm.PositionOrm object at 0x7f2cbcbf23a0>, 'base': <core.orm.PositionOrm object at 0x7f2cbcbf23d0>}, 23: {'description': 'Caillasse saturée avec produit pur en bout de gouge - présence de grosses briques grises entre 2,4 m et 3 m', 'interval_number': 4, 'top': <core.orm.PositionOrm object at 0x7f2cbcbf2220>, 'base': <core.orm.PositionOrm object at 0x7f2cbcbf2310>}, 24: {'description': 'Retombées - Caillasse saturée du dessus ', 'interval_number': 5, 'top': <core.orm.PositionOrm object at 0x7f2cbcbf2280>, 'base': <core.orm.PositionOrm object at 0x7f2cbcbf2610>}, 25: {'description': 'Limon verdâtre sur 10 cm puis ocre ', 'interval_number': 6, 'top': <core.orm.PositionOrm object at 0x7f2cbcbf20a0>, 'base': <core.orm.PositionOrm object at 0x7f2cbcbf2d90>}}\n",
      "\n",
      "|__ID:'214'\n",
      "Summary : [Striplog(7 Intervals, start=0.0, stop=4.8)]\n",
      "{26: {'description': 'Remblais noirs en mélange avec sable beige ', 'interval_number': 0, 'top': <core.orm.PositionOrm object at 0x7f2cbcc3ec40>, 'base': <core.orm.PositionOrm object at 0x7f2cbcc498e0>}, 27: {'description': 'Remblais noirs gravillonneux ', 'interval_number': 1, 'top': <core.orm.PositionOrm object at 0x7f2cbcbf2af0>, 'base': <core.orm.PositionOrm object at 0x7f2cbcbf2f10>}, 28: {'description': 'Remblais de déchets de construction brun/beige avec briquailles', 'interval_number': 2, 'top': <core.orm.PositionOrm object at 0x7f2cbcbf2cd0>, 'base': <core.orm.PositionOrm object at 0x7f2cbcbf2b50>}, 29: {'description': \"Remblais avec briquaillons divers bruns/oranges - présence de scories - eau - pas d'irrisation\", 'interval_number': 3, 'top': <core.orm.PositionOrm object at 0x7f2cbcbf3a90>, 'base': <core.orm.PositionOrm object at 0x7f2cbcbf3e20>}, 30: {'description': 'Remblais avec strate de produit pur ', 'interval_number': 4, 'top': <core.orm.PositionOrm object at 0x7f2cbcbf3f10>, 'base': <core.orm.PositionOrm object at 0x7f2cbcbf3d90>}, 31: {'description': 'Remblais en mélange avec limon verdâtre - présence de produit pur ', 'interval_number': 5, 'top': <core.orm.PositionOrm object at 0x7f2cbcbf3dc0>, 'base': <core.orm.PositionOrm object at 0x7f2cbcbf3670>}, 32: {'description': 'Retombées et limons verdâtre argilo-sableux - odeur', 'interval_number': 6, 'top': <core.orm.PositionOrm object at 0x7f2cbcbf3bb0>, 'base': <core.orm.PositionOrm object at 0x7f2cbcbf3b20>}}\n",
      "\n",
      "|__ID:'217'\n",
      "Error : No lithology matching with 'Gouge à moitié remplie - Caillasse' in given lexicon\n",
      "Warning : ++ interval's component replaced by default ('white sand')\n",
      "Summary : [Striplog(5 Intervals, start=0.0, stop=4.8)]\n",
      "{33: {'description': 'Remblais gris gravillonneux avec présence de déchets de construction oranges - odeur forte dans 1ère  strate de 0 à 0.6 m, légère odeur de 0.6 à 1 m ', 'interval_number': 0, 'top': <core.orm.PositionOrm object at 0x7f2cbcba9b20>, 'base': <core.orm.PositionOrm object at 0x7f2cbcba9e20>}, 34: {'description': 'white sand', 'interval_number': 1, 'top': <core.orm.PositionOrm object at 0x7f2cbcba9d90>, 'base': <core.orm.PositionOrm object at 0x7f2cbcba9070>}, 35: {'description': \"Gouge 1/3 remplie - caillasse en mélange avec limon noir/verdâtre - pas vraiment d'odeur\", 'interval_number': 2, 'top': <core.orm.PositionOrm object at 0x7f2cbcba9190>, 'base': <core.orm.PositionOrm object at 0x7f2cbcba90a0>}, 36: {'description': 'Caillasse saturée avec présence de scories et de galets roulés (20%)', 'interval_number': 3, 'top': <core.orm.PositionOrm object at 0x7f2cbcba9160>, 'base': <core.orm.PositionOrm object at 0x7f2cbcba9490>}, 37: {'description': 'Limon sableux dense de couleur ocre barriolé plus foncé plus claire ', 'interval_number': 4, 'top': <core.orm.PositionOrm object at 0x7f2cbcba93d0>, 'base': <core.orm.PositionOrm object at 0x7f2cbcba9370>}}\n",
      "\n",
      "|__ID:'221'\n",
      "Error : No lithology matching with 'Vide ' in given lexicon\n",
      "Warning : ++ interval's component replaced by default ('white sand')\n",
      "Summary : [Striplog(2 Intervals, start=0.0, stop=1.4)]\n",
      "{38: {'description': 'white sand', 'interval_number': 0, 'top': <core.orm.PositionOrm object at 0x7f2cbcba9d30>, 'base': <core.orm.PositionOrm object at 0x7f2cbcbae8e0>}, 39: {'description': 'Remblais caillouteux gris humide avec présence de laitiers - matrice limon sableux - présence de brique orange et de béton - bloqué à 1,4 m sur fondations ? ', 'interval_number': 1, 'top': <core.orm.PositionOrm object at 0x7f2cbcbaebb0>, 'base': <core.orm.PositionOrm object at 0x7f2cbcbae640>}}\n",
      "\n",
      "|__ID:'223'\n",
      "Summary : [Striplog(1 Intervals, start=0.0, stop=1.3)]\n",
      "{40: {'description': 'Remblais caillouteux gris humide dès la surface - graveleux et sableux - vers 1m présence de brique orange - bloqué sur béton à 1.3 m ', 'interval_number': 0, 'top': <core.orm.PositionOrm object at 0x7f2cbcbf2160>, 'base': <core.orm.PositionOrm object at 0x7f2cbcbf2ac0>}}\n",
      "\n",
      "|__ID:'225'\n",
      "Error : No lithology matching with 'Gouge vide' in given lexicon\n",
      "Warning : ++ interval's component replaced by default ('white sand')\n",
      "Summary : [Striplog(7 Intervals, start=0.0, stop=4.8)]\n",
      "{41: {'description': 'Remblais caillouteux gris foncé humide', 'interval_number': 0, 'top': <core.orm.PositionOrm object at 0x7f2cbcba9610>, 'base': <core.orm.PositionOrm object at 0x7f2cbcbae970>}, 42: {'description': 'Remblais brun matrice sableuse et remblais de déchets de construction brun/beige', 'interval_number': 1, 'top': <core.orm.PositionOrm object at 0x7f2cbcbaed60>, 'base': <core.orm.PositionOrm object at 0x7f2cbcbaee80>}, 43: {'description': 'Remblais noirs gravilloneux ', 'interval_number': 2, 'top': <core.orm.PositionOrm object at 0x7f2cbcbaef10>, 'base': <core.orm.PositionOrm object at 0x7f2cbcbae8b0>}, 44: {'description': 'Matériaux gravillonneux noirs saturés gras - présence de schistes et scories - légère odeur vers 2 m dans strate saturée ', 'interval_number': 3, 'top': <core.orm.PositionOrm object at 0x7f2cbcbb3250>, 'base': <core.orm.PositionOrm object at 0x7f2cbcbb3520>}, 45: {'description': 'white sand', 'interval_number': 4, 'top': <core.orm.PositionOrm object at 0x7f2cbcbb3460>, 'base': <core.orm.PositionOrm object at 0x7f2cbcbb35b0>}, 46: {'description': 'Idem - Remblais gravillonneux avec scories saturés - interface remblais/sol en place ', 'interval_number': 5, 'top': <core.orm.PositionOrm object at 0x7f2cbcbb31c0>, 'base': <core.orm.PositionOrm object at 0x7f2cbcbb3730>}, 47: {'description': 'Limon ocre argileux (collant)', 'interval_number': 6, 'top': <core.orm.PositionOrm object at 0x7f2cbcbb3490>, 'base': <core.orm.PositionOrm object at 0x7f2cbcbb3670>}}\n",
      "\n",
      "|__ID:'224'\n",
      "Summary : [Striplog(2 Intervals, start=0.0, stop=2.4)]\n",
      "{48: {'description': 'Remblais de déchets de construction orange/gris foncé avec gravier de taille pluricentimétrique', 'interval_number': 0, 'top': <core.orm.PositionOrm object at 0x7f2cbcbbdc40>, 'base': <core.orm.PositionOrm object at 0x7f2cbcbbdf40>}, 49: {'description': 'Remblais de déchets de construction avec charge de taille centimétrique orange/gris - bloqué à 2.4 m sur massif en béton - Gras et odeur vers 2 m', 'interval_number': 1, 'top': <core.orm.PositionOrm object at 0x7f2cbcbbdeb0>, 'base': <core.orm.PositionOrm object at 0x7f2cbcbbd7c0>}}\n",
      "\n",
      "|__ID:'219'\n",
      "Summary : [Striplog(2 Intervals, start=0.0, stop=1.5)]\n",
      "{50: {'description': 'Remblais sableux jaune avec charge de déchets de construction gris foncé ', 'interval_number': 0, 'top': <core.orm.PositionOrm object at 0x7f2cbcbae490>, 'base': <core.orm.PositionOrm object at 0x7f2cbcbae730>}, 51: {'description': 'Limon compact brun argilo sableux - bloqué à 1.5 m - petite strate de remblais juste au-dessus du refus', 'interval_number': 1, 'top': <core.orm.PositionOrm object at 0x7f2cbcbaec70>, 'base': <core.orm.PositionOrm object at 0x7f2cbcbae760>}}\n",
      "\n",
      "|__ID:'220'\n",
      "Summary : [Striplog(1 Intervals, start=0.0, stop=0.5)]\n",
      "{52: {'description': 'Remblais de couleur noir avec présence de brique - bloqué à 0.4 m - 0.5 m', 'interval_number': 0, 'top': <core.orm.PositionOrm object at 0x7f2cbcc498b0>, 'base': <core.orm.PositionOrm object at 0x7f2cbcba9f70>}}\n",
      "\n",
      "|__ID:'220 bis'\n",
      "Summary : [Striplog(1 Intervals, start=0.0, stop=1.2)]\n",
      "{53: {'description': 'Remblais de couleur noir avec présence de brique - bloqué à 1.2 m', 'interval_number': 0, 'top': <core.orm.PositionOrm object at 0x7f2cbcba98e0>, 'base': <core.orm.PositionOrm object at 0x7f2cbcbbd7f0>}}\n",
      "\n",
      "|__ID:'226'\n",
      "Summary : [Striplog(6 Intervals, start=0.0, stop=4.8)]\n",
      "{54: {'description': 'Remblais de couleur noir avec présence de brique ', 'interval_number': 0, 'top': <core.orm.PositionOrm object at 0x7f2cbcba92e0>, 'base': <core.orm.PositionOrm object at 0x7f2cbcbbf6d0>}, 55: {'description': 'Limon brun argileux ', 'interval_number': 1, 'top': <core.orm.PositionOrm object at 0x7f2cbcbbf580>, 'base': <core.orm.PositionOrm object at 0x7f2cbcbbf1c0>}, 56: {'description': 'Remblais (présence de schistes et scories, charge centimétrique) gras vers 2 m et irrisation ', 'interval_number': 2, 'top': <core.orm.PositionOrm object at 0x7f2cbcbbf9d0>, 'base': <core.orm.PositionOrm object at 0x7f2cbcbbf0d0>}, 57: {'description': 'Remblais avec présence de déchets de construction saturé + présence de schistes', 'interval_number': 3, 'top': <core.orm.PositionOrm object at 0x7f2cbcbbfe50>, 'base': <core.orm.PositionOrm object at 0x7f2cbcbbf940>}, 58: {'description': 'Mélange de limon verdâtre argileux et de remblais saturés - interface remblais/sol en place ', 'interval_number': 4, 'top': <core.orm.PositionOrm object at 0x7f2cbcbbf970>, 'base': <core.orm.PositionOrm object at 0x7f2cbcbbfe20>}, 59: {'description': '1ère moitié de gouge : retombées puis Limon verdâtre brun/ocre humide', 'interval_number': 5, 'top': <core.orm.PositionOrm object at 0x7f2cbcbbff10>, 'base': <core.orm.PositionOrm object at 0x7f2cbcbbfeb0>}}\n",
      "\n",
      "\n",
      "End of the process : 15 unique ID found\n"
     ]
    },
    {
     "name": "stderr",
     "output_type": "stream",
     "text": [
      "/home/yanathan/Projects/GSDMA/utils/io.py:478: SAWarning: relationship 'ComponentOrm.intervals' will copy column Components.id to column Linkintervalcomponent.comp_id, which conflicts with relationship(s): 'IntervalOrm.components' (copies Components.id to Linkintervalcomponent.comp_id). If this is not the intention, consider if these relationships should be linked with back_populates, or if viewonly=True should be applied to one or more if they are read-only. For the less common case that foreign key constraints are partially overlapping, the orm.foreign() annotation can be used to isolate the columns that should be written towards.   The 'overlaps' parameter may be used to remove this warning.\n",
      "  boreholes.append(BoreholeOrm(id=bh_name))\n",
      "/home/yanathan/Projects/GSDMA/utils/io.py:478: SAWarning: relationship 'ComponentOrm.intervals' will copy column Intervals.id to column Linkintervalcomponent.int_id, which conflicts with relationship(s): 'IntervalOrm.components' (copies Intervals.id to Linkintervalcomponent.int_id). If this is not the intention, consider if these relationships should be linked with back_populates, or if viewonly=True should be applied to one or more if they are read-only. For the less common case that foreign key constraints are partially overlapping, the orm.foreign() annotation can be used to isolate the columns that should be written towards.   The 'overlaps' parameter may be used to remove this warning.\n",
      "  boreholes.append(BoreholeOrm(id=bh_name))\n",
      "/home/yanathan/Projects/GSDMA/utils/io.py:478: SAWarning: relationship 'ComponentOrm.component_assoc' will copy column Components.id to column Linkintervalcomponent.comp_id, which conflicts with relationship(s): 'IntervalOrm.components' (copies Components.id to Linkintervalcomponent.comp_id), 'ComponentOrm.intervals' (copies Components.id to Linkintervalcomponent.comp_id). If this is not the intention, consider if these relationships should be linked with back_populates, or if viewonly=True should be applied to one or more if they are read-only. For the less common case that foreign key constraints are partially overlapping, the orm.foreign() annotation can be used to isolate the columns that should be written towards.   The 'overlaps' parameter may be used to remove this warning.\n",
      "  boreholes.append(BoreholeOrm(id=bh_name))\n",
      "/home/yanathan/Projects/GSDMA/utils/io.py:478: SAWarning: relationship 'LinkIntervalComponentOrm.component' will copy column Components.id to column Linkintervalcomponent.comp_id, which conflicts with relationship(s): 'IntervalOrm.components' (copies Components.id to Linkintervalcomponent.comp_id), 'ComponentOrm.intervals' (copies Components.id to Linkintervalcomponent.comp_id). If this is not the intention, consider if these relationships should be linked with back_populates, or if viewonly=True should be applied to one or more if they are read-only. For the less common case that foreign key constraints are partially overlapping, the orm.foreign() annotation can be used to isolate the columns that should be written towards.   The 'overlaps' parameter may be used to remove this warning.\n",
      "  boreholes.append(BoreholeOrm(id=bh_name))\n",
      "/home/yanathan/Projects/GSDMA/utils/io.py:478: SAWarning: relationship 'IntervalOrm.interval_assoc' will copy column Intervals.id to column Linkintervalcomponent.int_id, which conflicts with relationship(s): 'IntervalOrm.components' (copies Intervals.id to Linkintervalcomponent.int_id), 'ComponentOrm.intervals' (copies Intervals.id to Linkintervalcomponent.int_id). If this is not the intention, consider if these relationships should be linked with back_populates, or if viewonly=True should be applied to one or more if they are read-only. For the less common case that foreign key constraints are partially overlapping, the orm.foreign() annotation can be used to isolate the columns that should be written towards.   The 'overlaps' parameter may be used to remove this warning.\n",
      "  boreholes.append(BoreholeOrm(id=bh_name))\n",
      "/home/yanathan/Projects/GSDMA/utils/io.py:478: SAWarning: relationship 'LinkIntervalComponentOrm.interval' will copy column Intervals.id to column Linkintervalcomponent.int_id, which conflicts with relationship(s): 'IntervalOrm.components' (copies Intervals.id to Linkintervalcomponent.int_id), 'ComponentOrm.intervals' (copies Intervals.id to Linkintervalcomponent.int_id). If this is not the intention, consider if these relationships should be linked with back_populates, or if viewonly=True should be applied to one or more if they are read-only. For the less common case that foreign key constraints are partially overlapping, the orm.foreign() annotation can be used to isolate the columns that should be written towards.   The 'overlaps' parameter may be used to remove this warning.\n",
      "  boreholes.append(BoreholeOrm(id=bh_name))\n"
     ]
    }
   ],
   "source": [
    "boreholes, components, link_intv_comp = boreholes_from_files(bhs_df, verbose=True,\n",
    "                                                litho_field='Description',\n",
    "                                                lexicon=lexicon_fr,\n",
    "                                                diam_field='Diam_for', \n",
    "                                                litho_top_field='Litho_top',\n",
    "                                                litho_base_field='Litho_base',\n",
    "                                                thick_field='Ep_litho')"
   ]
  },
  {
   "cell_type": "code",
   "execution_count": 10,
   "metadata": {},
   "outputs": [],
   "source": [
    "litho_list = []\n",
    "color_list = []\n",
    "for i, c in components.items():\n",
    "    if not hasattr(c, 'lithology'):\n",
    "        c.lithology = 'sable'\n",
    "        c.colour = 'rouge'\n",
    "    elif c.lithology == 'sand':\n",
    "        c.lithology = 'sable'\n",
    "        c.colour = 'blanc'\n",
    "    if c.lithology not in litho_list:\n",
    "        litho_list.append(c.lithology)\n",
    "    if hasattr(c, 'colour') and c.colour not in color_list:\n",
    "        color_list.append(c.colour)"
   ]
  },
  {
   "cell_type": "code",
   "execution_count": 11,
   "metadata": {
    "scrolled": true
   },
   "outputs": [
    {
     "data": {
      "text/plain": [
       "(['sable', 'remblais', 'limon', 'limons', 'schistes'],\n",
       " ['rouge',\n",
       "  'orange gris',\n",
       "  'verdâtre',\n",
       "  'gris',\n",
       "  'blanc',\n",
       "  'brun',\n",
       "  'noire',\n",
       "  'brique',\n",
       "  'sable beige',\n",
       "  'brun beige',\n",
       "  'noir verdâtre',\n",
       "  'jaune',\n",
       "  'noir',\n",
       "  'verdâtre brun'])"
      ]
     },
     "execution_count": 11,
     "metadata": {},
     "output_type": "execute_result"
    }
   ],
   "source": [
    "litho_list, color_list"
   ]
  },
  {
   "cell_type": "code",
   "execution_count": 12,
   "metadata": {},
   "outputs": [
    {
     "data": {
      "text/html": [
       "<table><tr><td><strong>grainsize</strong></td><td>grossiers</td></tr><tr><td><strong>lithology</strong></td><td>sable</td></tr><tr><td><strong>colour</strong></td><td>rouge</td></tr></table>"
      ],
      "text/plain": [
       "Component({'grainsize': 'grossiers', 'lithology': 'sable', 'colour': 'rouge'})"
      ]
     },
     "execution_count": 12,
     "metadata": {},
     "output_type": "execute_result"
    }
   ],
   "source": [
    "components[9]"
   ]
  },
  {
   "cell_type": "code",
   "execution_count": null,
   "metadata": {},
   "outputs": [],
   "source": [
    "memoris_components = [Component({'lithology': 'remblais'}),\n",
    "              Component({'lithology': 'limon'}),\n",
    "              Component({'lithology': 'schistes'}),\n",
    "              Component({'lithology': 'sable'}),\n",
    "              Component({'lithology': 'anthropique'})\n",
    "              ]\n",
    "list_of_decors=[]\n",
    "hatches = ['=', 'x', '.', 's', '=']\n",
    "colours = ['#888888', '#882222', '#AAAAAA', '#CC22CC', '#CC2222']\n",
    "\n",
    "for i in range(len(memoris_components)):\n",
    "    if hasattr(memoris_components[i], 'colour'):\n",
    "        c = memoris_components[i].colour\n",
    "    else:\n",
    "        c=colours[i]\n",
    "    \n",
    "    if hasattr(memoris_components[i], 'hatch'):\n",
    "        h = memoris_components[i].hatch\n",
    "    else:\n",
    "        h=hatches[i]\n",
    "        \n",
    "    d = {'color': c,\n",
    "         'hatch': h,\n",
    "         'component': memoris_components[i],\n",
    "         'width': 3}\n",
    "    decor = Decor(d)\n",
    "    list_of_decors.append(decor)\n",
    "    \n",
    "memoris_legend = Legend(list_of_decors)"
   ]
  },
  {
   "cell_type": "code",
   "execution_count": 13,
   "metadata": {},
   "outputs": [
    {
     "data": {
      "text/plain": [
       "[<core.orm.BoreholeOrm>(Name=201, Length=1.7999999999999998, Diameter=75.0, Intervals=2),\n",
       " <core.orm.BoreholeOrm>(Name=205, Length=4.8, Diameter=75.0, Intervals=7),\n",
       " <core.orm.BoreholeOrm>(Name=208, Length=4.8, Diameter=75.0, Intervals=5),\n",
       " <core.orm.BoreholeOrm>(Name=212, Length=4.8, Diameter=75.0, Intervals=5),\n",
       " <core.orm.BoreholeOrm>(Name=207, Length=4.8, Diameter=75.0, Intervals=7),\n",
       " <core.orm.BoreholeOrm>(Name=214, Length=4.8, Diameter=75.0, Intervals=7),\n",
       " <core.orm.BoreholeOrm>(Name=217, Length=4.2, Diameter=75.0, Intervals=5),\n",
       " <core.orm.BoreholeOrm>(Name=221, Length=1.4, Diameter=75.0, Intervals=2),\n",
       " <core.orm.BoreholeOrm>(Name=223, Length=1.3, Diameter=75.0, Intervals=1),\n",
       " <core.orm.BoreholeOrm>(Name=225, Length=4.8, Diameter=75.0, Intervals=7),\n",
       " <core.orm.BoreholeOrm>(Name=224, Length=2.4, Diameter=75.0, Intervals=2),\n",
       " <core.orm.BoreholeOrm>(Name=219, Length=1.5, Diameter=75.0, Intervals=2),\n",
       " <core.orm.BoreholeOrm>(Name=220, Length=0.5, Diameter=75.0, Intervals=1),\n",
       " <core.orm.BoreholeOrm>(Name=220 bis, Length=1.2, Diameter=75.0, Intervals=1),\n",
       " <core.orm.BoreholeOrm>(Name=226, Length=4.8, Diameter=75.0, Intervals=6)]"
      ]
     },
     "execution_count": 13,
     "metadata": {},
     "output_type": "execute_result"
    }
   ],
   "source": [
    "boreholes"
   ]
  },
  {
   "cell_type": "code",
   "execution_count": 14,
   "metadata": {
    "scrolled": true
   },
   "outputs": [
    {
     "data": {
      "text/plain": [
       "{0: Component({'material': 'béton', 'grainsize': 'galets', 'Pollutant': 'naphtalène', 'lithology': 'sable', 'colour': 'rouge'}),\n",
       " 1: Component({'lithology': 'remblais', 'colour': 'orange gris'}),\n",
       " 2: Component({'lithology': 'remblais', 'Pollutant': 'naphtalène'}),\n",
       " 3: Component({'lithology': 'limon', 'grainsize': 'grossiers', 'colour': 'verdâtre'}),\n",
       " 4: Component({'lithology': 'remblais', 'grainsize': 'grossiers', 'Pollutant': 'naphtalène'}),\n",
       " 5: Component({'lithology': 'remblais', 'colour': 'gris'}),\n",
       " 6: Component({'modifier': 'sableux', 'colour': 'rouge', 'lithology': 'sable'}),\n",
       " 7: Component({'lithology': 'sable', 'colour': 'blanc'}),\n",
       " 8: Component({'lithology': 'limon', 'colour': 'brun'}),\n",
       " 9: Component({'grainsize': 'grossiers', 'lithology': 'sable', 'colour': 'rouge'}),\n",
       " 10: Component({'lithology': 'remblais', 'modifier': 'sableuse', 'colour': 'brun'}),\n",
       " 11: Component({'lithology': 'limons', 'colour': 'verdâtre'}),\n",
       " 12: Component({'lithology': 'remblais', 'grainsize': 'grossiers'}),\n",
       " 13: Component({'lithology': 'limons'}),\n",
       " 14: Component({'lithology': 'remblais', 'modifier': 'sableux', 'colour': 'gris'}),\n",
       " 15: Component({'material': 'scories', 'grainsize': 'grossiers', 'colour': 'rouge', 'lithology': 'sable'}),\n",
       " 16: Component({'lithology': 'limons', 'modifier': 'argileux', 'colour': 'verdâtre'}),\n",
       " 17: Component({'lithology': 'remblais', 'material': 'scories', 'grainsize': 'grossiers'}),\n",
       " 18: Component({'lithology': 'remblais'}),\n",
       " 19: Component({'modifier': 'saturée', 'colour': 'rouge', 'lithology': 'sable'}),\n",
       " 20: Component({'material': 'scories', 'modifier': 'saturée', 'quantity': 'moins', 'lithology': 'sable', 'colour': 'rouge'}),\n",
       " 21: Component({'modifier': 'saturée', 'lithology': 'sable', 'colour': 'rouge'}),\n",
       " 22: Component({'lithology': 'remblais', 'grainsize': 'fins', 'colour': 'brun'}),\n",
       " 23: Component({'lithology': 'limon', 'colour': 'verdâtre'}),\n",
       " 24: Component({'lithology': 'remblais', 'modifier': 'graveleux', 'colour': 'noire'}),\n",
       " 25: Component({'lithology': 'sable', 'colour': 'brique'}),\n",
       " 26: Component({'lithology': 'remblais', 'material': 'scories'}),\n",
       " 27: Component({'lithology': 'limons', 'modifier': 'sableux', 'colour': 'verdâtre'}),\n",
       " 28: Component({'lithology': 'remblais', 'colour': 'sable beige'}),\n",
       " 29: Component({'lithology': 'remblais', 'colour': 'verdâtre'}),\n",
       " 30: Component({'lithology': 'remblais', 'colour': 'brun beige'}),\n",
       " 31: Component({'lithology': 'limon', 'colour': 'noir verdâtre'}),\n",
       " 32: Component({'material': 'scories', 'modifier': 'saturée', 'grainsize': 'galets', 'lithology': 'sable', 'colour': 'rouge'}),\n",
       " 33: Component({'lithology': 'limon', 'modifier': 'sableux'}),\n",
       " 34: Component({'lithology': 'remblais', 'material': 'béton', 'modifier': 'caillouteux', 'colour': 'gris'}),\n",
       " 35: Component({'lithology': 'schistes', 'material': 'scories', 'modifier': 'saturée'}),\n",
       " 36: Component({'lithology': 'limon', 'modifier': 'argileux'}),\n",
       " 37: Component({'lithology': 'remblais', 'modifier': 'caillouteux', 'colour': 'gris'}),\n",
       " 38: Component({'lithology': 'remblais', 'material': 'béton', 'grainsize': 'centimétrique', 'colour': 'orange gris'}),\n",
       " 39: Component({'lithology': 'remblais', 'grainsize': 'pluricentimétrique', 'colour': 'orange gris'}),\n",
       " 40: Component({'lithology': 'limon', 'modifier': 'sableux', 'colour': 'brun'}),\n",
       " 41: Component({'lithology': 'remblais', 'modifier': 'sableux', 'colour': 'jaune'}),\n",
       " 42: Component({'lithology': 'remblais', 'colour': 'noir'}),\n",
       " 43: Component({'lithology': 'remblais', 'material': 'scories', 'grainsize': 'centimétrique'}),\n",
       " 44: Component({'lithology': 'limon', 'colour': 'verdâtre brun'}),\n",
       " 45: Component({'lithology': 'remblais', 'modifier': 'saturé'}),\n",
       " 46: Component({'lithology': 'limon', 'modifier': 'argileux', 'colour': 'verdâtre'}),\n",
       " 47: Component({'lithology': 'limon', 'modifier': 'argileux', 'colour': 'brun'})}"
      ]
     },
     "execution_count": 14,
     "metadata": {},
     "output_type": "execute_result"
    }
   ],
   "source": [
    "components"
   ]
  },
  {
   "cell_type": "code",
   "execution_count": 15,
   "metadata": {},
   "outputs": [
    {
     "data": {
      "text/plain": [
       "(15, 48)"
      ]
     },
     "execution_count": 15,
     "metadata": {},
     "output_type": "execute_result"
    }
   ],
   "source": [
    "len(boreholes), len(components)"
   ]
  },
  {
   "cell_type": "markdown",
   "metadata": {},
   "source": [
    "## Create a project and save data in a database"
   ]
  },
  {
   "cell_type": "code",
   "execution_count": 16,
   "metadata": {},
   "outputs": [],
   "source": [
    "remove('tmp_files/tfe_orm_db.db')"
   ]
  },
  {
   "cell_type": "code",
   "execution_count": 17,
   "metadata": {},
   "outputs": [],
   "source": [
    "engine = create_engine('sqlite:///tmp_files/tfe_orm_db.db', echo=True)"
   ]
  },
  {
   "cell_type": "code",
   "execution_count": 18,
   "metadata": {
    "scrolled": true
   },
   "outputs": [
    {
     "name": "stdout",
     "output_type": "stream",
     "text": [
      "2021-06-18 03:31:30,847 INFO sqlalchemy.engine.Engine BEGIN (implicit)\n",
      "2021-06-18 03:31:30,848 INFO sqlalchemy.engine.Engine PRAGMA main.table_info(\"Boreholes\")\n",
      "2021-06-18 03:31:30,848 INFO sqlalchemy.engine.Engine [raw sql] ()\n",
      "2021-06-18 03:31:30,850 INFO sqlalchemy.engine.Engine PRAGMA temp.table_info(\"Boreholes\")\n",
      "2021-06-18 03:31:30,850 INFO sqlalchemy.engine.Engine [raw sql] ()\n",
      "2021-06-18 03:31:30,851 INFO sqlalchemy.engine.Engine PRAGMA main.table_info(\"Positions\")\n",
      "2021-06-18 03:31:30,851 INFO sqlalchemy.engine.Engine [raw sql] ()\n",
      "2021-06-18 03:31:30,852 INFO sqlalchemy.engine.Engine PRAGMA temp.table_info(\"Positions\")\n",
      "2021-06-18 03:31:30,852 INFO sqlalchemy.engine.Engine [raw sql] ()\n",
      "2021-06-18 03:31:30,854 INFO sqlalchemy.engine.Engine PRAGMA main.table_info(\"Intervals\")\n",
      "2021-06-18 03:31:30,854 INFO sqlalchemy.engine.Engine [raw sql] ()\n",
      "2021-06-18 03:31:30,855 INFO sqlalchemy.engine.Engine PRAGMA temp.table_info(\"Intervals\")\n",
      "2021-06-18 03:31:30,856 INFO sqlalchemy.engine.Engine [raw sql] ()\n",
      "2021-06-18 03:31:30,856 INFO sqlalchemy.engine.Engine PRAGMA main.table_info(\"Components\")\n",
      "2021-06-18 03:31:30,857 INFO sqlalchemy.engine.Engine [raw sql] ()\n",
      "2021-06-18 03:31:30,857 INFO sqlalchemy.engine.Engine PRAGMA temp.table_info(\"Components\")\n",
      "2021-06-18 03:31:30,858 INFO sqlalchemy.engine.Engine [raw sql] ()\n",
      "2021-06-18 03:31:30,859 INFO sqlalchemy.engine.Engine PRAGMA main.table_info(\"Linkintervalcomponent\")\n",
      "2021-06-18 03:31:30,859 INFO sqlalchemy.engine.Engine [raw sql] ()\n",
      "2021-06-18 03:31:30,860 INFO sqlalchemy.engine.Engine PRAGMA temp.table_info(\"Linkintervalcomponent\")\n",
      "2021-06-18 03:31:30,860 INFO sqlalchemy.engine.Engine [raw sql] ()\n",
      "2021-06-18 03:31:30,862 INFO sqlalchemy.engine.Engine \n",
      "CREATE TABLE \"Boreholes\" (\n",
      "\tid VARCHAR(32) NOT NULL, \n",
      "\tlength FLOAT, \n",
      "\tdiameter FLOAT, \n",
      "\tPRIMARY KEY (id)\n",
      ")\n",
      "\n",
      "\n",
      "2021-06-18 03:31:30,862 INFO sqlalchemy.engine.Engine [no key 0.00065s] ()\n",
      "2021-06-18 03:31:30,866 INFO sqlalchemy.engine.Engine \n",
      "CREATE TABLE \"Positions\" (\n",
      "\tid INTEGER NOT NULL, \n",
      "\tupper FLOAT, \n",
      "\tmiddle FLOAT, \n",
      "\tlower FLOAT, \n",
      "\tx FLOAT, \n",
      "\ty FLOAT, \n",
      "\tPRIMARY KEY (id)\n",
      ")\n",
      "\n",
      "\n",
      "2021-06-18 03:31:30,867 INFO sqlalchemy.engine.Engine [no key 0.00074s] ()\n",
      "2021-06-18 03:31:30,871 INFO sqlalchemy.engine.Engine \n",
      "CREATE TABLE \"Components\" (\n",
      "\tid INTEGER NOT NULL, \n",
      "\tdescription VARCHAR(32), \n",
      "\tPRIMARY KEY (id)\n",
      ")\n",
      "\n",
      "\n",
      "2021-06-18 03:31:30,872 INFO sqlalchemy.engine.Engine [no key 0.00067s] ()\n",
      "2021-06-18 03:31:30,876 INFO sqlalchemy.engine.Engine \n",
      "CREATE TABLE \"Intervals\" (\n",
      "\tid INTEGER NOT NULL, \n",
      "\tborehole VARCHAR(32), \n",
      "\tinterval_number INTEGER, \n",
      "\tdescription VARCHAR(32), \n",
      "\ttop_id INTEGER, \n",
      "\tbase_id INTEGER, \n",
      "\tPRIMARY KEY (id), \n",
      "\tFOREIGN KEY(borehole) REFERENCES \"Boreholes\" (id), \n",
      "\tFOREIGN KEY(top_id) REFERENCES \"Positions\" (id), \n",
      "\tFOREIGN KEY(base_id) REFERENCES \"Positions\" (id)\n",
      ")\n",
      "\n",
      "\n",
      "2021-06-18 03:31:30,877 INFO sqlalchemy.engine.Engine [no key 0.00116s] ()\n",
      "2021-06-18 03:31:30,883 INFO sqlalchemy.engine.Engine \n",
      "CREATE TABLE \"Linkintervalcomponent\" (\n",
      "\tint_id INTEGER NOT NULL, \n",
      "\tcomp_id INTEGER NOT NULL, \n",
      "\textra_data VARCHAR(256), \n",
      "\tPRIMARY KEY (int_id, comp_id), \n",
      "\tFOREIGN KEY(int_id) REFERENCES \"Intervals\" (id), \n",
      "\tFOREIGN KEY(comp_id) REFERENCES \"Components\" (id)\n",
      ")\n",
      "\n",
      "\n",
      "2021-06-18 03:31:30,884 INFO sqlalchemy.engine.Engine [no key 0.00088s] ()\n",
      "2021-06-18 03:31:30,889 INFO sqlalchemy.engine.Engine COMMIT\n"
     ]
    }
   ],
   "source": [
    "Base.metadata.create_all(engine)"
   ]
  },
  {
   "cell_type": "code",
   "execution_count": 19,
   "metadata": {},
   "outputs": [],
   "source": [
    "Session = sessionmaker(bind=engine)\n",
    "session = Session()"
   ]
  },
  {
   "cell_type": "code",
   "execution_count": 20,
   "metadata": {},
   "outputs": [
    {
     "name": "stdout",
     "output_type": "stream",
     "text": [
      "2021-06-18 03:31:30,902 INFO sqlalchemy.engine.Engine BEGIN (implicit)\n",
      "2021-06-18 03:31:30,904 INFO sqlalchemy.engine.Engine SELECT \"Boreholes\".id AS \"Boreholes_id\", \"Boreholes\".length AS \"Boreholes_length\", \"Boreholes\".diameter AS \"Boreholes_diameter\" \n",
      "FROM \"Boreholes\"\n",
      "2021-06-18 03:31:30,905 INFO sqlalchemy.engine.Engine [generated in 0.00089s] ()\n",
      "2021-06-18 03:31:30,910 INFO sqlalchemy.engine.Engine INSERT INTO \"Components\" (id, description) VALUES (?, ?)\n",
      "2021-06-18 03:31:30,910 INFO sqlalchemy.engine.Engine [generated in 0.00065s] ((0, 'Béton, galets, naphtalène, sable, rouge'), (1, 'Remblais, orange gris'), (2, 'Remblais, naphtalène'), (3, 'Limon, grossiers, verdâtre'), (4, 'Remblais, grossiers, naphtalène'), (5, 'Remblais, gris'), (6, 'Sableux, rouge, sable'), (7, 'Sable, blanc')  ... displaying 10 of 48 total bound parameter sets ...  (46, 'Limon, argileux, verdâtre'), (47, 'Limon, argileux, brun'))\n",
      "2021-06-18 03:31:30,912 INFO sqlalchemy.engine.Engine COMMIT\n",
      "2021-06-18 03:31:30,915 INFO sqlalchemy.engine.Engine BEGIN (implicit)\n",
      "2021-06-18 03:31:30,916 INFO sqlalchemy.engine.Engine SELECT \"Boreholes\".id AS \"Boreholes_id\", \"Boreholes\".length AS \"Boreholes_length\", \"Boreholes\".diameter AS \"Boreholes_diameter\" \n",
      "FROM \"Boreholes\"\n",
      "2021-06-18 03:31:30,916 INFO sqlalchemy.engine.Engine [cached since 0.01184s ago] ()\n"
     ]
    }
   ],
   "source": [
    "p = Project(session, legend=legend_fr, lexicon=lexicon_fr)\n",
    "p.add_components(components)"
   ]
  },
  {
   "cell_type": "markdown",
   "metadata": {},
   "source": [
    "Add boreholes into the project"
   ]
  },
  {
   "cell_type": "code",
   "execution_count": 21,
   "metadata": {},
   "outputs": [],
   "source": [
    "from striplog import Lexicon, Legend, Component\n",
    "import re"
   ]
  },
  {
   "cell_type": "code",
   "execution_count": 22,
   "metadata": {},
   "outputs": [
    {
     "name": "stdout",
     "output_type": "stream",
     "text": [
      "loess, 1, loess\n"
     ]
    }
   ],
   "source": [
    "litho = 'loess'\n",
    "# litho = 'tectonite mélangés'\n",
    "#test = ['Tectonite(?:s)?','Tectonite(?:s)? mélangé(?:s)?','schiste(?:s)?','Cataclasite(?:s)?']\n",
    "test = [l.component.lithology for l in legend_fr]\n",
    "\n",
    "reg = list(map(lambda x: re.compile(\"^{:s}$\".format(x), flags=re.I).search(litho), test))\n",
    "r = [l.string for l in reg if l is not None]\n",
    "if len(r) > 0:\n",
    "    print(f\"{r[0]}, {len(r)}, {litho}\")"
   ]
  },
  {
   "cell_type": "code",
   "execution_count": 23,
   "metadata": {},
   "outputs": [
    {
     "data": {
      "text/html": [
       "<table><tr><th>colour</th><th>width</th><th>hatch</th><th>component</th></tr><tr><td style=\"color:#000000; background-color:#ffffe9\">#ffffe9</td><td style=\"color:black; background-color:white\">None</td><td style=\"color:black; background-color:white\">None</td><td style=\"color:black; background-color:white\"><table><tr><td><strong>lithology</strong></td><td>matériau(?:x)? meuble(?:s)?</td></tr></table></td></tr><tr><td style=\"color:#000000; background-color:#ffffd5\">#ffffd5</td><td style=\"color:black; background-color:white\">None</td><td style=\"color:black; background-color:white\">None</td><td style=\"color:black; background-color:white\"><table><tr><td><strong>lithology</strong></td><td>alluvion(?:s)?</td></tr></table></td></tr><tr><td style=\"color:#000000; background-color:#d3b798\">#d3b798</td><td style=\"color:black; background-color:white\">None</td><td style=\"color:black; background-color:white\">None</td><td style=\"color:black; background-color:white\"><table><tr><td><strong>lithology</strong></td><td>remblai(?:s)?</td></tr></table></td></tr><tr><td style=\"color:#000000; background-color:#f5e1bd\">#f5e1bd</td><td style=\"color:black; background-color:white\">None</td><td style=\"color:black; background-color:white\">None</td><td style=\"color:black; background-color:white\"><table><tr><td><strong>lithology</strong></td><td>lœss</td></tr></table></td></tr><tr><td style=\"color:#000000; background-color:#f5e1bd\">#f5e1bd</td><td style=\"color:black; background-color:white\">None</td><td style=\"color:black; background-color:white\">None</td><td style=\"color:black; background-color:white\"><table><tr><td><strong>lithology</strong></td><td>loess</td></tr></table></td></tr><tr><td style=\"color:#000000; background-color:#d6c59e\">#d6c59e</td><td style=\"color:black; background-color:white\">None</td><td style=\"color:black; background-color:white\">None</td><td style=\"color:black; background-color:white\"><table><tr><td><strong>lithology</strong></td><td>cendre(?:s)? volcanique(?:s)?</td></tr></table></td></tr><tr><td style=\"color:#000000; background-color:#e1e3c3\">#e1e3c3</td><td style=\"color:black; background-color:white\">None</td><td style=\"color:black; background-color:white\">None</td><td style=\"color:black; background-color:white\"><table><tr><td><strong>lithology</strong></td><td>colluvion(?:s)?</td></tr></table></td></tr><tr><td style=\"color:#000000; background-color:#d3ca9f\">#d3ca9f</td><td style=\"color:black; background-color:white\">None</td><td style=\"color:black; background-color:white\">None</td><td style=\"color:black; background-color:white\"><table><tr><td><strong>lithology</strong></td><td>lahar(?:s)?</td></tr></table></td></tr><tr><td style=\"color:#000000; background-color:#ffeebf\">#ffeebf</td><td style=\"color:black; background-color:white\">None</td><td style=\"color:black; background-color:white\">None</td><td style=\"color:black; background-color:white\"><table><tr><td><strong>lithology</strong></td><td>moraine(?:s)?</td></tr></table></td></tr><tr><td style=\"color:#000000; background-color:#ffcc99\">#ffcc99</td><td style=\"color:black; background-color:white\">None</td><td style=\"color:black; background-color:white\">None</td><td style=\"color:black; background-color:white\"><table><tr><td><strong>lithology</strong></td><td>tourbe(?:s)?</td></tr></table></td></tr><tr><td style=\"color:#000000; background-color:#ffeaa7\">#ffeaa7</td><td style=\"color:black; background-color:white\">None</td><td style=\"color:black; background-color:white\">None</td><td style=\"color:black; background-color:white\"><table><tr><td><strong>lithology</strong></td><td>gypse(?:s)?</td></tr></table></td></tr><tr><td style=\"color:#000000; background-color:#ffdb67\">#ffdb67</td><td style=\"color:black; background-color:white\">None</td><td style=\"color:black; background-color:white\">None</td><td style=\"color:black; background-color:white\"><table><tr><td><strong>lithology</strong></td><td>houille(?:s)?</td></tr></table></td></tr><tr><td style=\"color:#000000; background-color:#ffd345\">#ffd345</td><td style=\"color:black; background-color:white\">None</td><td style=\"color:black; background-color:white\">None</td><td style=\"color:black; background-color:white\"><table><tr><td><strong>lithology</strong></td><td>limon(?:s)?</td></tr></table></td></tr><tr><td style=\"color:#000000; background-color:#ffcb23\">#ffcb23</td><td style=\"color:black; background-color:white\">None</td><td style=\"color:black; background-color:white\">None</td><td style=\"color:black; background-color:white\"><table><tr><td><strong>lithology</strong></td><td>sable(?:s)?</td></tr></table></td></tr><tr><td style=\"color:#000000; background-color:#ecb400\">#ecb400</td><td style=\"color:black; background-color:white\">None</td><td style=\"color:black; background-color:white\">None</td><td style=\"color:black; background-color:white\"><table><tr><td><strong>lithology</strong></td><td>gravier(?:s)?</td></tr></table></td></tr><tr><td style=\"color:#000000; background-color:#cfefdf\">#cfefdf</td><td style=\"color:black; background-color:white\">None</td><td style=\"color:black; background-color:white\">None</td><td style=\"color:black; background-color:white\"><table><tr><td><strong>lithology</strong></td><td>roche(?:s)? sédimentaire(?:s)?</td></tr></table></td></tr><tr><td style=\"color:#000000; background-color:#d9fdd3\">#d9fdd3</td><td style=\"color:black; background-color:white\">None</td><td style=\"color:black; background-color:white\">None</td><td style=\"color:black; background-color:white\"><table><tr><td><strong>lithology</strong></td><td>reoche(?:s)? clastique(?:s)?</td></tr></table></td></tr><tr><td style=\"color:#000000; background-color:#ace4c8\">#ace4c8</td><td style=\"color:black; background-color:white\">None</td><td style=\"color:black; background-color:white\">None</td><td style=\"color:black; background-color:white\"><table><tr><td><strong>lithology</strong></td><td>silt(?:s)?</td></tr></table></td></tr><tr><td style=\"color:#000000; background-color:#d5e6cc\">#d5e6cc</td><td style=\"color:black; background-color:white\">None</td><td style=\"color:black; background-color:white\">None</td><td style=\"color:black; background-color:white\"><table><tr><td><strong>lithology</strong></td><td>argile(?:s)?</td></tr></table></td></tr><tr><td style=\"color:#000000; background-color:#92dcb7\">#92dcb7</td><td style=\"color:black; background-color:white\">None</td><td style=\"color:black; background-color:white\">None</td><td style=\"color:black; background-color:white\"><table><tr><td><strong>lithology</strong></td><td>bentonite(?:s)?</td></tr></table></td></tr><tr><td style=\"color:#000000; background-color:#c0d0c0\">#c0d0c0</td><td style=\"color:black; background-color:white\">None</td><td style=\"color:black; background-color:white\">None</td><td style=\"color:black; background-color:white\"><table><tr><td><strong>lithology</strong></td><td>diatomite(?:s)?</td></tr></table></td></tr><tr><td style=\"color:#000000; background-color:#dbfebc\">#dbfebc</td><td style=\"color:black; background-color:white\">None</td><td style=\"color:black; background-color:white\">None</td><td style=\"color:black; background-color:white\"><table><tr><td><strong>lithology</strong></td><td>molasse(?:s)?</td></tr></table></td></tr><tr><td style=\"color:#000000; background-color:#bbffdd\">#bbffdd</td><td style=\"color:black; background-color:white\">None</td><td style=\"color:black; background-color:white\">None</td><td style=\"color:black; background-color:white\"><table><tr><td><strong>lithology</strong></td><td>schiste(?:s)?</td></tr></table></td></tr><tr><td style=\"color:#000000; background-color:#95ffca\">#95ffca</td><td style=\"color:black; background-color:white\">None</td><td style=\"color:black; background-color:white\">None</td><td style=\"color:black; background-color:white\"><table><tr><td><strong>lithology</strong></td><td>argilite(?:s)?</td></tr></table></td></tr><tr><td style=\"color:#000000; background-color:#d6fe9a\">#d6fe9a</td><td style=\"color:black; background-color:white\">None</td><td style=\"color:black; background-color:white\">None</td><td style=\"color:black; background-color:white\"><table><tr><td><strong>lithology</strong></td><td>siltite(?:s)?</td></tr></table></td></tr><tr><td style=\"color:#000000; background-color:#e1f0d8\">#e1f0d8</td><td style=\"color:black; background-color:white\">None</td><td style=\"color:black; background-color:white\">None</td><td style=\"color:black; background-color:white\"><table><tr><td><strong>lithology</strong></td><td>tuffeau(?:s)?</td></tr></table></td></tr><tr><td style=\"color:#000000; background-color:#cdffd9\">#cdffd9</td><td style=\"color:black; background-color:white\">None</td><td style=\"color:black; background-color:white\">None</td><td style=\"color:black; background-color:white\"><table><tr><td><strong>lithology</strong></td><td>grès</td></tr></table></td></tr><tr><td style=\"color:#000000; background-color:#cbefce\">#cbefce</td><td style=\"color:black; background-color:white\">None</td><td style=\"color:black; background-color:white\">None</td><td style=\"color:black; background-color:white\"><table><tr><td><strong>lithology</strong></td><td>arénite(?:s)?</td></tr></table></td></tr><tr><td style=\"color:#000000; background-color:#a6fcaa\">#a6fcaa</td><td style=\"color:black; background-color:white\">None</td><td style=\"color:black; background-color:white\">None</td><td style=\"color:black; background-color:white\"><table><tr><td><strong>lithology</strong></td><td>orthoquartzite(?:s)?</td></tr></table></td></tr><tr><td style=\"color:#000000; background-color:#7dffe3\">#7dffe3</td><td style=\"color:black; background-color:white\">None</td><td style=\"color:black; background-color:white\">None</td><td style=\"color:black; background-color:white\"><table><tr><td><strong>lithology</strong></td><td>calcarénite(?:s)?</td></tr></table></td></tr><tr><td style=\"color:#000000; background-color:#b8eac3\">#b8eac3</td><td style=\"color:black; background-color:white\">None</td><td style=\"color:black; background-color:white\">None</td><td style=\"color:black; background-color:white\"><table><tr><td><strong>lithology</strong></td><td>arkose(?:s)?</td></tr></table></td></tr><tr><td style=\"color:#000000; background-color:#bddbf1\">#bddbf1</td><td style=\"color:black; background-color:white\">None</td><td style=\"color:black; background-color:white\">None</td><td style=\"color:black; background-color:white\"><table><tr><td><strong>lithology</strong></td><td>wacke(?:s)?</td></tr></table></td></tr><tr><td style=\"color:#000000; background-color:#69cf9c\">#69cf9c</td><td style=\"color:black; background-color:white\">None</td><td style=\"color:black; background-color:white\">None</td><td style=\"color:black; background-color:white\"><table><tr><td><strong>lithology</strong></td><td>silex</td></tr></table></td></tr><tr><td style=\"color:#000000; background-color:#90a565\">#90a565</td><td style=\"color:black; background-color:white\">None</td><td style=\"color:black; background-color:white\">None</td><td style=\"color:black; background-color:white\"><table><tr><td><strong>lithology</strong></td><td>radiolarite(?:s)?</td></tr></table></td></tr><tr><td style=\"color:#000000; background-color:#b7d9cc\">#b7d9cc</td><td style=\"color:black; background-color:white\">None</td><td style=\"color:black; background-color:white\">None</td><td style=\"color:black; background-color:white\"><table><tr><td><strong>lithology</strong></td><td>conglomérat(?:s)?</td></tr></table></td></tr><tr><td style=\"color:#000000; background-color:#a7ba86\">#a7ba86</td><td style=\"color:black; background-color:white\">None</td><td style=\"color:black; background-color:white\">None</td><td style=\"color:black; background-color:white\"><table><tr><td><strong>lithology</strong></td><td>brèche(?:s)? sédimentaire(?:s)?</td></tr></table></td></tr><tr><td style=\"color:#000000; background-color:#bcc0c5\">#bcc0c5</td><td style=\"color:black; background-color:white\">None</td><td style=\"color:black; background-color:white\">None</td><td style=\"color:black; background-color:white\"><table><tr><td><strong>lithology</strong></td><td>dolomie(?:s)?</td></tr></table></td></tr><tr><td style=\"color:#000000; background-color:#8dbecd\">#8dbecd</td><td style=\"color:black; background-color:white\">None</td><td style=\"color:black; background-color:white\">None</td><td style=\"color:black; background-color:white\"><table><tr><td><strong>lithology</strong></td><td>olistostrome(?:s)?</td></tr></table></td></tr><tr><td style=\"color:#000000; background-color:#a5aaad\">#a5aaad</td><td style=\"color:black; background-color:white\">None</td><td style=\"color:black; background-color:white\">None</td><td style=\"color:black; background-color:white\"><table><tr><td><strong>lithology</strong></td><td>carbonatite(?:s)?</td></tr></table></td></tr><tr><td style=\"color:#ffffff; background-color:#019ccd\">#019ccd</td><td style=\"color:black; background-color:white\">None</td><td style=\"color:black; background-color:white\">None</td><td style=\"color:black; background-color:white\"><table><tr><td><strong>lithology</strong></td><td>carbonate(?:s)?</td></tr></table></td></tr><tr><td style=\"color:#000000; background-color:#149ef8\">#149ef8</td><td style=\"color:black; background-color:white\">None</td><td style=\"color:black; background-color:white\">None</td><td style=\"color:black; background-color:white\"><table><tr><td><strong>lithology</strong></td><td>calcaire(?:s)?</td></tr></table></td></tr><tr><td style=\"color:#ffffff; background-color:#0094f8\">#0094f8</td><td style=\"color:black; background-color:white\">None</td><td style=\"color:black; background-color:white\">None</td><td style=\"color:black; background-color:white\"><table><tr><td><strong>lithology</strong></td><td>dolomite(?:s)?</td></tr></table></td></tr><tr><td style=\"color:#000000; background-color:#bfe3dc\">#bfe3dc</td><td style=\"color:black; background-color:white\">None</td><td style=\"color:black; background-color:white\">None</td><td style=\"color:black; background-color:white\"><table><tr><td><strong>lithology</strong></td><td>phosphorite(?:s)?</td></tr></table></td></tr><tr><td style=\"color:#000000; background-color:#deeffe\">#deeffe</td><td style=\"color:black; background-color:white\">None</td><td style=\"color:black; background-color:white\">None</td><td style=\"color:black; background-color:white\"><table><tr><td><strong>lithology</strong></td><td>craie(?:s)?</td></tr></table></td></tr><tr><td style=\"color:#000000; background-color:#9acefe\">#9acefe</td><td style=\"color:black; background-color:white\">None</td><td style=\"color:black; background-color:white\">None</td><td style=\"color:black; background-color:white\"><table><tr><td><strong>lithology</strong></td><td>évaporite(?:s)?</td></tr></table></td></tr><tr><td style=\"color:#000000; background-color:#aac2c8\">#aac2c8</td><td style=\"color:black; background-color:white\">None</td><td style=\"color:black; background-color:white\">None</td><td style=\"color:black; background-color:white\"><table><tr><td><strong>lithology</strong></td><td>chert(?:s)?</td></tr></table></td></tr><tr><td style=\"color:#000000; background-color:#c0aeb6\">#c0aeb6</td><td style=\"color:black; background-color:white\">None</td><td style=\"color:black; background-color:white\">None</td><td style=\"color:black; background-color:white\"><table><tr><td><strong>lithology</strong></td><td>alios</td></tr></table></td></tr><tr><td style=\"color:#000000; background-color:#b99598\">#b99598</td><td style=\"color:black; background-color:white\">None</td><td style=\"color:black; background-color:white\">None</td><td style=\"color:black; background-color:white\"><table><tr><td><strong>lithology</strong></td><td>radiolarite(?:s)?</td></tr></table></td></tr><tr><td style=\"color:#ffffff; background-color:#98004c\">#98004c</td><td style=\"color:black; background-color:white\">None</td><td style=\"color:black; background-color:white\">None</td><td style=\"color:black; background-color:white\"><table><tr><td><strong>lithology</strong></td><td>exhalite(?:s)?</td></tr></table></td></tr><tr><td style=\"color:#ffffff; background-color:#6e4900\">#6e4900</td><td style=\"color:black; background-color:white\">None</td><td style=\"color:black; background-color:white\">None</td><td style=\"color:black; background-color:white\"><table><tr><td><strong>lithology</strong></td><td>charbon(?:s)?</td></tr></table></td></tr><tr><td style=\"color:#000000; background-color:#d9c2a3\">#d9c2a3</td><td style=\"color:black; background-color:white\">None</td><td style=\"color:black; background-color:white\">None</td><td style=\"color:black; background-color:white\"><table><tr><td><strong>lithology</strong></td><td>marne(?:s)?</td></tr></table></td></tr><tr><td style=\"color:#000000; background-color:#ffeff3\">#ffeff3</td><td style=\"color:black; background-color:white\">None</td><td style=\"color:black; background-color:white\">None</td><td style=\"color:black; background-color:white\"><table><tr><td><strong>lithology</strong></td><td>roche(?:s)? plutonique(?:s)?</td></tr></table></td></tr><tr><td style=\"color:#000000; background-color:#ffc8bf\">#ffc8bf</td><td style=\"color:black; background-color:white\">None</td><td style=\"color:black; background-color:white\">None</td><td style=\"color:black; background-color:white\"><table><tr><td><strong>lithology</strong></td><td>aplite(?:s)?</td></tr></table></td></tr><tr><td style=\"color:#000000; background-color:#ffe1e8\">#ffe1e8</td><td style=\"color:black; background-color:white\">None</td><td style=\"color:black; background-color:white\">None</td><td style=\"color:black; background-color:white\"><table><tr><td><strong>lithology</strong></td><td>porphyre(?:s)?</td></tr></table></td></tr><tr><td style=\"color:#000000; background-color:#fdcfcf\">#fdcfcf</td><td style=\"color:black; background-color:white\">None</td><td style=\"color:black; background-color:white\">None</td><td style=\"color:black; background-color:white\"><table><tr><td><strong>lithology</strong></td><td>lamprophyre(?:s)?</td></tr></table></td></tr><tr><td style=\"color:#000000; background-color:#ffd1dc\">#ffd1dc</td><td style=\"color:black; background-color:white\">None</td><td style=\"color:black; background-color:white\">None</td><td style=\"color:black; background-color:white\"><table><tr><td><strong>lithology</strong></td><td>pegmatite(?:s)?</td></tr></table></td></tr><tr><td style=\"color:#000000; background-color:#fc6e7c\">#fc6e7c</td><td style=\"color:black; background-color:white\">None</td><td style=\"color:black; background-color:white\">None</td><td style=\"color:black; background-color:white\"><table><tr><td><strong>lithology</strong></td><td>granitoïde(?:s)?</td></tr></table></td></tr><tr><td style=\"color:#ffffff; background-color:#fc5262\">#fc5262</td><td style=\"color:black; background-color:white\">None</td><td style=\"color:black; background-color:white\">None</td><td style=\"color:black; background-color:white\"><table><tr><td><strong>lithology</strong></td><td>granite(?:s)? alcalin(?:s)?</td></tr></table></td></tr><tr><td style=\"color:#ffffff; background-color:#fb2338\">#fb2338</td><td style=\"color:black; background-color:white\">None</td><td style=\"color:black; background-color:white\">None</td><td style=\"color:black; background-color:white\"><table><tr><td><strong>lithology</strong></td><td>granite(?:s)?</td></tr></table></td></tr><tr><td style=\"color:#ffffff; background-color:#f43c6c\">#f43c6c</td><td style=\"color:black; background-color:white\">None</td><td style=\"color:black; background-color:white\">None</td><td style=\"color:black; background-color:white\"><table><tr><td><strong>lithology</strong></td><td>granite(?:s)? péralumineux</td></tr></table></td></tr><tr><td style=\"color:#ffffff; background-color:#f41a87\">#f41a87</td><td style=\"color:black; background-color:white\">None</td><td style=\"color:black; background-color:white\">None</td><td style=\"color:black; background-color:white\"><table><tr><td><strong>lithology</strong></td><td>granite(?:s)? métallineux</td></tr></table></td></tr><tr><td style=\"color:#ffffff; background-color:#dd2972\">#dd2972</td><td style=\"color:black; background-color:white\">None</td><td style=\"color:black; background-color:white\">None</td><td style=\"color:black; background-color:white\"><table><tr><td><strong>lithology</strong></td><td>granite(?:s)? subalumineux</td></tr></table></td></tr><tr><td style=\"color:#ffffff; background-color:#e45891\">#e45891</td><td style=\"color:black; background-color:white\">None</td><td style=\"color:black; background-color:white\">None</td><td style=\"color:black; background-color:white\"><table><tr><td><strong>lithology</strong></td><td>granite(?:s)? peralkaline(?:s)?</td></tr></table></td></tr><tr><td style=\"color:#000000; background-color:#e979a6\">#e979a6</td><td style=\"color:black; background-color:white\">None</td><td style=\"color:black; background-color:white\">None</td><td style=\"color:black; background-color:white\"><table><tr><td><strong>lithology</strong></td><td>granodiorite(?:s)?</td></tr></table></td></tr><tr><td style=\"color:#000000; background-color:#ff6f6b\">#ff6f6b</td><td style=\"color:black; background-color:white\">None</td><td style=\"color:black; background-color:white\">None</td><td style=\"color:black; background-color:white\"><table><tr><td><strong>lithology</strong></td><td>tonalite(?:s)?</td></tr></table></td></tr><tr><td style=\"color:#000000; background-color:#ffb3c5\">#ffb3c5</td><td style=\"color:black; background-color:white\">None</td><td style=\"color:black; background-color:white\">None</td><td style=\"color:black; background-color:white\"><table><tr><td><strong>lithology</strong></td><td>trondhjemite(?:s)?</td></tr></table></td></tr><tr><td style=\"color:#000000; background-color:#f8beae\">#f8beae</td><td style=\"color:black; background-color:white\">None</td><td style=\"color:black; background-color:white\">None</td><td style=\"color:black; background-color:white\"><table><tr><td><strong>lithology</strong></td><td>syénite(?:s)? alcaline(?:s)?</td></tr></table></td></tr><tr><td style=\"color:#000000; background-color:#f9b5bb\">#f9b5bb</td><td style=\"color:black; background-color:white\">None</td><td style=\"color:black; background-color:white\">None</td><td style=\"color:black; background-color:white\"><table><tr><td><strong>lithology</strong></td><td>quartz syenite(?:s)?</td></tr></table></td></tr><tr><td style=\"color:#000000; background-color:#ffa7bc\">#ffa7bc</td><td style=\"color:black; background-color:white\">None</td><td style=\"color:black; background-color:white\">None</td><td style=\"color:black; background-color:white\"><table><tr><td><strong>lithology</strong></td><td>syenite(?:s)?</td></tr></table></td></tr><tr><td style=\"color:#000000; background-color:#ff6388\">#ff6388</td><td style=\"color:black; background-color:white\">None</td><td style=\"color:black; background-color:white\">None</td><td style=\"color:black; background-color:white\"><table><tr><td><strong>lithology</strong></td><td>quartz monzonite(?:s)?</td></tr></table></td></tr><tr><td style=\"color:#ffffff; background-color:#ff275a\">#ff275a</td><td style=\"color:black; background-color:white\">None</td><td style=\"color:black; background-color:white\">None</td><td style=\"color:black; background-color:white\"><table><tr><td><strong>lithology</strong></td><td>monzonite(?:s)?</td></tr></table></td></tr><tr><td style=\"color:#000000; background-color:#ffccc5\">#ffccc5</td><td style=\"color:black; background-color:white\">None</td><td style=\"color:black; background-color:white\">None</td><td style=\"color:black; background-color:white\"><table><tr><td><strong>lithology</strong></td><td>quartz monzodiorite(?:s)?</td></tr></table></td></tr><tr><td style=\"color:#000000; background-color:#ffa99d\">#ffa99d</td><td style=\"color:black; background-color:white\">None</td><td style=\"color:black; background-color:white\">None</td><td style=\"color:black; background-color:white\"><table><tr><td><strong>lithology</strong></td><td>monzodiorite(?:s)?</td></tr></table></td></tr><tr><td style=\"color:#000000; background-color:#ff6f5b\">#ff6f5b</td><td style=\"color:black; background-color:white\">None</td><td style=\"color:black; background-color:white\">None</td><td style=\"color:black; background-color:white\"><table><tr><td><strong>lithology</strong></td><td>diorite(?:s)? de quartz(?:s)?</td></tr></table></td></tr><tr><td style=\"color:#ffffff; background-color:#ff3317\">#ff3317</td><td style=\"color:black; background-color:white\">None</td><td style=\"color:black; background-color:white\">None</td><td style=\"color:black; background-color:white\"><table><tr><td><strong>lithology</strong></td><td>diorite(?:s)?</td></tr></table></td></tr><tr><td style=\"color:#ffffff; background-color:#e81c00\">#e81c00</td><td style=\"color:black; background-color:white\">None</td><td style=\"color:black; background-color:white\">None</td><td style=\"color:black; background-color:white\"><table><tr><td><strong>lithology</strong></td><td>diabase(?:s)?</td></tr></table></td></tr><tr><td style=\"color:#000000; background-color:#ff95ae\">#ff95ae</td><td style=\"color:black; background-color:white\">None</td><td style=\"color:black; background-color:white\">None</td><td style=\"color:black; background-color:white\"><table><tr><td><strong>lithology</strong></td><td>gabbroïde(?:s)?</td></tr></table></td></tr><tr><td style=\"color:#000000; background-color:#ff819f\">#ff819f</td><td style=\"color:black; background-color:white\">None</td><td style=\"color:black; background-color:white\">None</td><td style=\"color:black; background-color:white\"><table><tr><td><strong>lithology</strong></td><td>quartz monzogabro(?:s)?</td></tr></table></td></tr><tr><td style=\"color:#000000; background-color:#ffd6d1\">#ffd6d1</td><td style=\"color:black; background-color:white\">None</td><td style=\"color:black; background-color:white\">None</td><td style=\"color:black; background-color:white\"><table><tr><td><strong>lithology</strong></td><td>monzogabbro(?:s)?</td></tr></table></td></tr><tr><td style=\"color:#000000; background-color:#eda7ca\">#eda7ca</td><td style=\"color:black; background-color:white\">None</td><td style=\"color:black; background-color:white\">None</td><td style=\"color:black; background-color:white\"><table><tr><td><strong>lithology</strong></td><td>quartz gabbro(?:s)?</td></tr></table></td></tr><tr><td style=\"color:#000000; background-color:#e993be\">#e993be</td><td style=\"color:black; background-color:white\">None</td><td style=\"color:black; background-color:white\">None</td><td style=\"color:black; background-color:white\"><table><tr><td><strong>lithology</strong></td><td>gabbro(?:s)?</td></tr></table></td></tr><tr><td style=\"color:#000000; background-color:#ff85fb\">#ff85fb</td><td style=\"color:black; background-color:white\">None</td><td style=\"color:black; background-color:white\">None</td><td style=\"color:black; background-color:white\"><table><tr><td><strong>lithology</strong></td><td>gabbronorite(?:s)?</td></tr></table></td></tr><tr><td style=\"color:#000000; background-color:#e377ad\">#e377ad</td><td style=\"color:black; background-color:white\">None</td><td style=\"color:black; background-color:white\">None</td><td style=\"color:black; background-color:white\"><table><tr><td><strong>lithology</strong></td><td>norite(?:s)?</td></tr></table></td></tr><tr><td style=\"color:#000000; background-color:#ffbfce\">#ffbfce</td><td style=\"color:black; background-color:white\">None</td><td style=\"color:black; background-color:white\">None</td><td style=\"color:black; background-color:white\"><table><tr><td><strong>lithology</strong></td><td>troctolite(?:s)?</td></tr></table></td></tr><tr><td style=\"color:#000000; background-color:#ffa3b9\">#ffa3b9</td><td style=\"color:black; background-color:white\">None</td><td style=\"color:black; background-color:white\">None</td><td style=\"color:black; background-color:white\"><table><tr><td><strong>lithology</strong></td><td>anorthosite(?:s)?</td></tr></table></td></tr><tr><td style=\"color:#000000; background-color:#ff6f91\">#ff6f91</td><td style=\"color:black; background-color:white\">None</td><td style=\"color:black; background-color:white\">None</td><td style=\"color:black; background-color:white\"><table><tr><td><strong>lithology</strong></td><td>roche(?:s)? intrusif alcalique(?:s)?</td></tr></table></td></tr><tr><td style=\"color:#ffffff; background-color:#ff1b51\">#ff1b51</td><td style=\"color:black; background-color:white\">None</td><td style=\"color:black; background-color:white\">None</td><td style=\"color:black; background-color:white\"><table><tr><td><strong>lithology</strong></td><td>népheline(?:s)?</td></tr></table></td></tr><tr><td style=\"color:#ffffff; background-color:#e80037\">#e80037</td><td style=\"color:black; background-color:white\">None</td><td style=\"color:black; background-color:white\">None</td><td style=\"color:black; background-color:white\"><table><tr><td><strong>lithology</strong></td><td>roche(?:s)? intrusive ultramafique(?:s)?</td></tr></table></td></tr><tr><td style=\"color:#ffffff; background-color:#ce0031\">#ce0031</td><td style=\"color:black; background-color:white\">None</td><td style=\"color:black; background-color:white\">None</td><td style=\"color:black; background-color:white\"><table><tr><td><strong>lithology</strong></td><td>péridotite(?:s)?</td></tr></table></td></tr><tr><td style=\"color:#ffffff; background-color:#940023\">#940023</td><td style=\"color:black; background-color:white\">None</td><td style=\"color:black; background-color:white\">None</td><td style=\"color:black; background-color:white\"><table><tr><td><strong>lithology</strong></td><td>kimberlite(?:s)?</td></tr></table></td></tr><tr><td style=\"color:#ffffff; background-color:#c1010a\">#c1010a</td><td style=\"color:black; background-color:white\">None</td><td style=\"color:black; background-color:white\">None</td><td style=\"color:black; background-color:white\"><table><tr><td><strong>lithology</strong></td><td>pyroxénite(?:s)?</td></tr></table></td></tr><tr><td style=\"color:#ffffff; background-color:#a30109\">#a30109</td><td style=\"color:black; background-color:white\">None</td><td style=\"color:black; background-color:white\">None</td><td style=\"color:black; background-color:white\"><table><tr><td><strong>lithology</strong></td><td>hornblendite(?:s)?</td></tr></table></td></tr><tr><td style=\"color:#ffffff; background-color:#750107\">#750107</td><td style=\"color:black; background-color:white\">None</td><td style=\"color:black; background-color:white\">None</td><td style=\"color:black; background-color:white\"><table><tr><td><strong>lithology</strong></td><td>carbonatite intrusive(?:s)?</td></tr></table></td></tr><tr><td style=\"color:#000000; background-color:#f9d3d3\">#f9d3d3</td><td style=\"color:black; background-color:white\">None</td><td style=\"color:black; background-color:white\">None</td><td style=\"color:black; background-color:white\"><table><tr><td><strong>lithology</strong></td><td>roche(?:s)? volcanique(?:s)?</td></tr></table></td></tr><tr><td style=\"color:#000000; background-color:#ffe5f3\">#ffe5f3</td><td style=\"color:black; background-color:white\">None</td><td style=\"color:black; background-color:white\">None</td><td style=\"color:black; background-color:white\"><table><tr><td><strong>lithology</strong></td><td>roche(?:s)? volcanique(?:s)? vitreuse(?:s)?</td></tr></table></td></tr><tr><td style=\"color:#000000; background-color:#ffd1ea\">#ffd1ea</td><td style=\"color:black; background-color:white\">None</td><td style=\"color:black; background-color:white\">None</td><td style=\"color:black; background-color:white\"><table><tr><td><strong>lithology</strong></td><td>obsidienne(?:s)?</td></tr></table></td></tr><tr><td style=\"color:#000000; background-color:#ffc3f8\">#ffc3f8</td><td style=\"color:black; background-color:white\">None</td><td style=\"color:black; background-color:white\">None</td><td style=\"color:black; background-color:white\"><table><tr><td><strong>lithology</strong></td><td>vitrophyre(?:s)?</td></tr></table></td></tr><tr><td style=\"color:#000000; background-color:#ffc3e4\">#ffc3e4</td><td style=\"color:black; background-color:white\">None</td><td style=\"color:black; background-color:white\">None</td><td style=\"color:black; background-color:white\"><table><tr><td><strong>lithology</strong></td><td>pierre(?:s)? ponce(?:s)?</td></tr></table></td></tr><tr><td style=\"color:#000000; background-color:#ffedbf\">#ffedbf</td><td style=\"color:black; background-color:white\">None</td><td style=\"color:black; background-color:white\">None</td><td style=\"color:black; background-color:white\"><table><tr><td><strong>lithology</strong></td><td>pyroclastique(?:s)?</td></tr></table></td></tr><tr><td style=\"color:#000000; background-color:#ffefd9\">#ffefd9</td><td style=\"color:black; background-color:white\">None</td><td style=\"color:black; background-color:white\">None</td><td style=\"color:black; background-color:white\"><table><tr><td><strong>lithology</strong></td><td>tuf(?:s)?</td></tr></table></td></tr><tr><td style=\"color:#000000; background-color:#ffe5c3\">#ffe5c3</td><td style=\"color:black; background-color:white\">None</td><td style=\"color:black; background-color:white\">None</td><td style=\"color:black; background-color:white\"><table><tr><td><strong>lithology</strong></td><td>ignimbrite(?:s)?</td></tr></table></td></tr><tr><td style=\"color:#000000; background-color:#ffd59d\">#ffd59d</td><td style=\"color:black; background-color:white\">None</td><td style=\"color:black; background-color:white\">None</td><td style=\"color:black; background-color:white\"><table><tr><td><strong>lithology</strong></td><td>brèche(?:s)? volcanique(?:s)?</td></tr></table></td></tr><tr><td style=\"color:#000000; background-color:#ffc10b\">#ffc10b</td><td style=\"color:black; background-color:white\">None</td><td style=\"color:black; background-color:white\">None</td><td style=\"color:black; background-color:white\"><table><tr><td><strong>lithology</strong></td><td>coulée(?:s)? de lave(?:s)?</td></tr></table></td></tr><tr><td style=\"color:#000000; background-color:#f48b00\">#f48b00</td><td style=\"color:black; background-color:white\">None</td><td style=\"color:black; background-color:white\">None</td><td style=\"color:black; background-color:white\"><table><tr><td><strong>lithology</strong></td><td>roche(?:s)? volcanique(?:s)? felsique(?:s)?</td></tr></table></td></tr><tr><td style=\"color:#000000; background-color:#fedc7e\">#fedc7e</td><td style=\"color:black; background-color:white\">None</td><td style=\"color:black; background-color:white\">None</td><td style=\"color:black; background-color:white\"><table><tr><td><strong>lithology</strong></td><td>rhyolite(?:s)? alcaline(?:s)?</td></tr></table></td></tr><tr><td style=\"color:#000000; background-color:#fed768\">#fed768</td><td style=\"color:black; background-color:white\">None</td><td style=\"color:black; background-color:white\">None</td><td style=\"color:black; background-color:white\"><table><tr><td><strong>lithology</strong></td><td>rhyolite(?:s)?</td></tr></table></td></tr><tr><td style=\"color:#000000; background-color:#fec62a\">#fec62a</td><td style=\"color:black; background-color:white\">None</td><td style=\"color:black; background-color:white\">None</td><td style=\"color:black; background-color:white\"><table><tr><td><strong>lithology</strong></td><td>rhyodacite(?:s)?</td></tr></table></td></tr><tr><td style=\"color:#000000; background-color:#fecdac\">#fecdac</td><td style=\"color:black; background-color:white\">None</td><td style=\"color:black; background-color:white\">None</td><td style=\"color:black; background-color:white\"><table><tr><td><strong>lithology</strong></td><td>dacite(?:s)?</td></tr></table></td></tr><tr><td style=\"color:#000000; background-color:#feb786\">#feb786</td><td style=\"color:black; background-color:white\">None</td><td style=\"color:black; background-color:white\">None</td><td style=\"color:black; background-color:white\"><table><tr><td><strong>lithology</strong></td><td>trachyte(?:s)? alcaline(?:s)?</td></tr></table></td></tr><tr><td style=\"color:#000000; background-color:#fea060\">#fea060</td><td style=\"color:black; background-color:white\">None</td><td style=\"color:black; background-color:white\">None</td><td style=\"color:black; background-color:white\"><table><tr><td><strong>lithology</strong></td><td>trachyte(?:s)?</td></tr></table></td></tr><tr><td style=\"color:#000000; background-color:#fe8736\">#fe8736</td><td style=\"color:black; background-color:white\">None</td><td style=\"color:black; background-color:white\">None</td><td style=\"color:black; background-color:white\"><table><tr><td><strong>lithology</strong></td><td>quartz latite(?:s)?</td></tr></table></td></tr><tr><td style=\"color:#000000; background-color:#fe7518\">#fe7518</td><td style=\"color:black; background-color:white\">None</td><td style=\"color:black; background-color:white\">None</td><td style=\"color:black; background-color:white\"><table><tr><td><strong>lithology</strong></td><td>latite(?:s)?</td></tr></table></td></tr><tr><td style=\"color:#ffffff; background-color:#eb6001\">#eb6001</td><td style=\"color:black; background-color:white\">None</td><td style=\"color:black; background-color:white\">None</td><td style=\"color:black; background-color:white\"><table><tr><td><strong>lithology</strong></td><td>roche(?:s)? volcanique(?:s)? intermédiaire(?:s)?</td></tr></table></td></tr><tr><td style=\"color:#ffffff; background-color:#c95201\">#c95201</td><td style=\"color:black; background-color:white\">None</td><td style=\"color:black; background-color:white\">None</td><td style=\"color:black; background-color:white\"><table><tr><td><strong>lithology</strong></td><td>trachyandesite(?:s)?</td></tr></table></td></tr><tr><td style=\"color:#ffffff; background-color:#b14801\">#b14801</td><td style=\"color:black; background-color:white\">None</td><td style=\"color:black; background-color:white\">None</td><td style=\"color:black; background-color:white\"><table><tr><td><strong>lithology</strong></td><td>andésite(?:s)?</td></tr></table></td></tr><tr><td style=\"color:#ffffff; background-color:#933c01\">#933c01</td><td style=\"color:black; background-color:white\">None</td><td style=\"color:black; background-color:white\">None</td><td style=\"color:black; background-color:white\"><table><tr><td><strong>lithology</strong></td><td>roche(?:s)? mafique(?:s)? volcanique(?:s)?</td></tr></table></td></tr><tr><td style=\"color:#000000; background-color:#ecd5c6\">#ecd5c6</td><td style=\"color:black; background-color:white\">None</td><td style=\"color:black; background-color:white\">None</td><td style=\"color:black; background-color:white\"><table><tr><td><strong>lithology</strong></td><td>trachybasalte(?:s)?</td></tr></table></td></tr><tr><td style=\"color:#000000; background-color:#ddb397\">#ddb397</td><td style=\"color:black; background-color:white\">None</td><td style=\"color:black; background-color:white\">None</td><td style=\"color:black; background-color:white\"><table><tr><td><strong>lithology</strong></td><td>basalte(?:s)?</td></tr></table></td></tr><tr><td style=\"color:#000000; background-color:#d39d79\">#d39d79</td><td style=\"color:black; background-color:white\">None</td><td style=\"color:black; background-color:white\">None</td><td style=\"color:black; background-color:white\"><table><tr><td><strong>lithology</strong></td><td>tholite(?:s)?</td></tr></table></td></tr><tr><td style=\"color:#000000; background-color:#c68050\">#c68050</td><td style=\"color:black; background-color:white\">None</td><td style=\"color:black; background-color:white\">None</td><td style=\"color:black; background-color:white\"><table><tr><td><strong>lithology</strong></td><td>hawaiite(?:s)?</td></tr></table></td></tr><tr><td style=\"color:#ffffff; background-color:#a96537\">#a96537</td><td style=\"color:black; background-color:white\">None</td><td style=\"color:black; background-color:white\">None</td><td style=\"color:black; background-color:white\"><table><tr><td><strong>lithology</strong></td><td>basalte(?:s)? alcalin(?:s)?</td></tr></table></td></tr><tr><td style=\"color:#ffffff; background-color:#854f2b\">#854f2b</td><td style=\"color:black; background-color:white\">None</td><td style=\"color:black; background-color:white\">None</td><td style=\"color:black; background-color:white\"><table><tr><td><strong>lithology</strong></td><td>roche(?:s)? alcalique(?:s)? volcanique(?:s)?</td></tr></table></td></tr><tr><td style=\"color:#ffffff; background-color:#5f391f\">#5f391f</td><td style=\"color:black; background-color:white\">None</td><td style=\"color:black; background-color:white\">None</td><td style=\"color:black; background-color:white\"><table><tr><td><strong>lithology</strong></td><td>phonolite(?:s)?</td></tr></table></td></tr><tr><td style=\"color:#ffffff; background-color:#c24100\">#c24100</td><td style=\"color:black; background-color:white\">None</td><td style=\"color:black; background-color:white\">None</td><td style=\"color:black; background-color:white\"><table><tr><td><strong>lithology</strong></td><td>téphrite(?:s)?</td></tr></table></td></tr><tr><td style=\"color:#ffffff; background-color:#a03500\">#a03500</td><td style=\"color:black; background-color:white\">None</td><td style=\"color:black; background-color:white\">None</td><td style=\"color:black; background-color:white\"><table><tr><td><strong>lithology</strong></td><td>komatiite(?:s)?</td></tr></table></td></tr><tr><td style=\"color:#ffffff; background-color:#6e2500\">#6e2500</td><td style=\"color:black; background-color:white\">None</td><td style=\"color:black; background-color:white\">None</td><td style=\"color:black; background-color:white\"><table><tr><td><strong>lithology</strong></td><td>carbonatite volcanique(?:s)?</td></tr></table></td></tr><tr><td style=\"color:#000000; background-color:#e6cdff\">#e6cdff</td><td style=\"color:black; background-color:white\">None</td><td style=\"color:black; background-color:white\">None</td><td style=\"color:black; background-color:white\"><table><tr><td><strong>lithology</strong></td><td>roche(?:s)? métamorphique(?:s)?</td></tr></table></td></tr><tr><td style=\"color:#000000; background-color:#eaafff\">#eaafff</td><td style=\"color:black; background-color:white\">None</td><td style=\"color:black; background-color:white\">None</td><td style=\"color:black; background-color:white\"><table><tr><td><strong>lithology</strong></td><td>hornfels</td></tr></table></td></tr><tr><td style=\"color:#000000; background-color:#e9ffe9\">#e9ffe9</td><td style=\"color:black; background-color:white\">None</td><td style=\"color:black; background-color:white\">None</td><td style=\"color:black; background-color:white\"><table><tr><td><strong>lithology</strong></td><td>roche(?:s)? métasédimentaire(?:s)?</td></tr></table></td></tr><tr><td style=\"color:#000000; background-color:#c9ffc9\">#c9ffc9</td><td style=\"color:black; background-color:white\">None</td><td style=\"color:black; background-color:white\">None</td><td style=\"color:black; background-color:white\"><table><tr><td><strong>lithology</strong></td><td>méta-argilite(?:s)?</td></tr></table></td></tr><tr><td style=\"color:#000000; background-color:#a7a7ff\">#a7a7ff</td><td style=\"color:black; background-color:white\">None</td><td style=\"color:black; background-color:white\">None</td><td style=\"color:black; background-color:white\"><table><tr><td><strong>lithology</strong></td><td>ardoise(?:s)?</td></tr></table></td></tr><tr><td style=\"color:#000000; background-color:#9fff9f\">#9fff9f</td><td style=\"color:black; background-color:white\">None</td><td style=\"color:black; background-color:white\">None</td><td style=\"color:black; background-color:white\"><table><tr><td><strong>lithology</strong></td><td>quartzite(?:s)?</td></tr></table></td></tr><tr><td style=\"color:#000000; background-color:#7dff7d\">#7dff7d</td><td style=\"color:black; background-color:white\">None</td><td style=\"color:black; background-color:white\">None</td><td style=\"color:black; background-color:white\"><table><tr><td><strong>lithology</strong></td><td>méta-conglomérat(?:s)?</td></tr></table></td></tr><tr><td style=\"color:#ffffff; background-color:#0000ff\">#0000ff</td><td style=\"color:black; background-color:white\">None</td><td style=\"color:black; background-color:white\">None</td><td style=\"color:black; background-color:white\"><table><tr><td><strong>lithology</strong></td><td>marbre(?:s)?</td></tr></table></td></tr><tr><td style=\"color:#000000; background-color:#ffa7ff\">#ffa7ff</td><td style=\"color:black; background-color:white\">None</td><td style=\"color:black; background-color:white\">None</td><td style=\"color:black; background-color:white\"><table><tr><td><strong>lithology</strong></td><td>roche(?:s)? métavolcanique(?:s)?</td></tr></table></td></tr><tr><td style=\"color:#000000; background-color:#ff8dff\">#ff8dff</td><td style=\"color:black; background-color:white\">None</td><td style=\"color:black; background-color:white\">None</td><td style=\"color:black; background-color:white\"><table><tr><td><strong>lithology</strong></td><td>roche(?:s)? métavolcanique felsique(?:s)?</td></tr></table></td></tr><tr><td style=\"color:#000000; background-color:#ff57ff\">#ff57ff</td><td style=\"color:black; background-color:white\">None</td><td style=\"color:black; background-color:white\">None</td><td style=\"color:black; background-color:white\"><table><tr><td><strong>lithology</strong></td><td>méta-rhyolite(?:s)?</td></tr></table></td></tr><tr><td style=\"color:#000000; background-color:#fe6700\">#fe6700</td><td style=\"color:black; background-color:white\">None</td><td style=\"color:black; background-color:white\">None</td><td style=\"color:black; background-color:white\"><table><tr><td><strong>lithology</strong></td><td>kératophyre(?:s)?</td></tr></table></td></tr><tr><td style=\"color:#ffffff; background-color:#c9557e\">#c9557e</td><td style=\"color:black; background-color:white\">None</td><td style=\"color:black; background-color:white\">None</td><td style=\"color:black; background-color:white\"><table><tr><td><strong>lithology</strong></td><td>roche(?:s)? métavolcanique(?:s)? intermédiaire(?:s)?</td></tr></table></td></tr><tr><td style=\"color:#ffffff; background-color:#b93b68\">#b93b68</td><td style=\"color:black; background-color:white\">None</td><td style=\"color:black; background-color:white\">None</td><td style=\"color:black; background-color:white\"><table><tr><td><strong>lithology</strong></td><td>roche(?:s)? métavolcanique(?:s)? mafique(?:s)?</td></tr></table></td></tr><tr><td style=\"color:#ffffff; background-color:#872b4c\">#872b4c</td><td style=\"color:black; background-color:white\">None</td><td style=\"color:black; background-color:white\">None</td><td style=\"color:black; background-color:white\"><table><tr><td><strong>lithology</strong></td><td>méta-basalte(?:s)?</td></tr></table></td></tr><tr><td style=\"color:#ffffff; background-color:#ff0000\">#ff0000</td><td style=\"color:black; background-color:white\">None</td><td style=\"color:black; background-color:white\">None</td><td style=\"color:black; background-color:white\"><table><tr><td><strong>lithology</strong></td><td>spilite(?:s)?</td></tr></table></td></tr><tr><td style=\"color:#ffffff; background-color:#008000\">#008000</td><td style=\"color:black; background-color:white\">None</td><td style=\"color:black; background-color:white\">None</td><td style=\"color:black; background-color:white\"><table><tr><td><strong>lithology</strong></td><td>pierre(?:s)? verte(?:s)?</td></tr></table></td></tr><tr><td style=\"color:#000000; background-color:#ededf3\">#ededf3</td><td style=\"color:black; background-color:white\">None</td><td style=\"color:black; background-color:white\">None</td><td style=\"color:black; background-color:white\"><table><tr><td><strong>lithology</strong></td><td>phyllite(?:s)?</td></tr></table></td></tr><tr><td style=\"color:#000000; background-color:#dbdbe7\">#dbdbe7</td><td style=\"color:black; background-color:white\">None</td><td style=\"color:black; background-color:white\">None</td><td style=\"color:black; background-color:white\"><table><tr><td><strong>lithology</strong></td><td>schiste(?:s)?</td></tr></table></td></tr><tr><td style=\"color:#000000; background-color:#b1b1b1\">#b1b1b1</td><td style=\"color:black; background-color:white\">None</td><td style=\"color:black; background-color:white\">None</td><td style=\"color:black; background-color:white\"><table><tr><td><strong>lithology</strong></td><td>micaschiste(?:s)?</td></tr></table></td></tr><tr><td style=\"color:#000000; background-color:#969696\">#969696</td><td style=\"color:black; background-color:white\">None</td><td style=\"color:black; background-color:white\">None</td><td style=\"color:black; background-color:white\"><table><tr><td><strong>lithology</strong></td><td>schiste(?:s)? pélitique(?:s)?</td></tr></table></td></tr><tr><td style=\"color:#000000; background-color:#a2a2c0\">#a2a2c0</td><td style=\"color:black; background-color:white\">None</td><td style=\"color:black; background-color:white\">None</td><td style=\"color:black; background-color:white\"><table><tr><td><strong>lithology</strong></td><td>schiste(?:s)? de quartz-feldspar(?:s)?</td></tr></table></td></tr><tr><td style=\"color:#000000; background-color:#b4cfe4\">#b4cfe4</td><td style=\"color:black; background-color:white\">None</td><td style=\"color:black; background-color:white\">None</td><td style=\"color:black; background-color:white\"><table><tr><td><strong>lithology</strong></td><td>schiste(?:s)? de silicate de calcul(?:s)?</td></tr></table></td></tr><tr><td style=\"color:#000000; background-color:#b6b6ce\">#b6b6ce</td><td style=\"color:black; background-color:white\">None</td><td style=\"color:black; background-color:white\">None</td><td style=\"color:black; background-color:white\"><table><tr><td><strong>lithology</strong></td><td>schiste(?:s)? d'amphibole(?:s)?</td></tr></table></td></tr><tr><td style=\"color:#000000; background-color:#abffff\">#abffff</td><td style=\"color:black; background-color:white\">None</td><td style=\"color:black; background-color:white\">None</td><td style=\"color:black; background-color:white\"><table><tr><td><strong>lithology</strong></td><td>granofels</td></tr></table></td></tr><tr><td style=\"color:#000000; background-color:#79ffff\">#79ffff</td><td style=\"color:black; background-color:white\">None</td><td style=\"color:black; background-color:white\">None</td><td style=\"color:black; background-color:white\"><table><tr><td><strong>lithology</strong></td><td>gneiss</td></tr></table></td></tr><tr><td style=\"color:#000000; background-color:#0fffff\">#0fffff</td><td style=\"color:black; background-color:white\">None</td><td style=\"color:black; background-color:white\">None</td><td style=\"color:black; background-color:white\"><table><tr><td><strong>lithology</strong></td><td>gneiss felsique(?:s)?</td></tr></table></td></tr><tr><td style=\"color:#000000; background-color:#00dbd6\">#00dbd6</td><td style=\"color:black; background-color:white\">None</td><td style=\"color:black; background-color:white\">None</td><td style=\"color:black; background-color:white\"><table><tr><td><strong>lithology</strong></td><td>gneiss granitique(?:s)?</td></tr></table></td></tr><tr><td style=\"color:#000000; background-color:#00a4a0\">#00a4a0</td><td style=\"color:black; background-color:white\">None</td><td style=\"color:black; background-color:white\">None</td><td style=\"color:black; background-color:white\"><table><tr><td><strong>lithology</strong></td><td>gneiss biotite(?:s)?</td></tr></table></td></tr><tr><td style=\"color:#ffffff; background-color:#007673\">#007673</td><td style=\"color:black; background-color:white\">None</td><td style=\"color:black; background-color:white\">None</td><td style=\"color:black; background-color:white\"><table><tr><td><strong>lithology</strong></td><td>gneiss mafique(?:s)?</td></tr></table></td></tr><tr><td style=\"color:#000000; background-color:#33cccc\">#33cccc</td><td style=\"color:black; background-color:white\">None</td><td style=\"color:black; background-color:white\">None</td><td style=\"color:black; background-color:white\"><table><tr><td><strong>lithology</strong></td><td>orthogneiss</td></tr></table></td></tr><tr><td style=\"color:#000000; background-color:#2db6b3\">#2db6b3</td><td style=\"color:black; background-color:white\">None</td><td style=\"color:black; background-color:white\">None</td><td style=\"color:black; background-color:white\"><table><tr><td><strong>lithology</strong></td><td>paragne(?:s)?</td></tr></table></td></tr><tr><td style=\"color:#ffffff; background-color:#ac0000\">#ac0000</td><td style=\"color:black; background-color:white\">None</td><td style=\"color:black; background-color:white\">None</td><td style=\"color:black; background-color:white\"><table><tr><td><strong>lithology</strong></td><td>migmatite(?:s)?</td></tr></table></td></tr><tr><td style=\"color:#000000; background-color:#ac7f50\">#ac7f50</td><td style=\"color:black; background-color:white\">None</td><td style=\"color:black; background-color:white\">None</td><td style=\"color:black; background-color:white\"><table><tr><td><strong>lithology</strong></td><td>amphibolite(?:s)?</td></tr></table></td></tr><tr><td style=\"color:#ffffff; background-color:#84613e\">#84613e</td><td style=\"color:black; background-color:white\">None</td><td style=\"color:black; background-color:white\">None</td><td style=\"color:black; background-color:white\"><table><tr><td><strong>lithology</strong></td><td>granulite(?:s)?</td></tr></table></td></tr><tr><td style=\"color:#000000; background-color:#ff4fff\">#ff4fff</td><td style=\"color:black; background-color:white\">None</td><td style=\"color:black; background-color:white\">None</td><td style=\"color:black; background-color:white\"><table><tr><td><strong>lithology</strong></td><td>eclogite(?:s)?</td></tr></table></td></tr><tr><td style=\"color:#ffffff; background-color:#ec00ec\">#ec00ec</td><td style=\"color:black; background-color:white\">None</td><td style=\"color:black; background-color:white\">None</td><td style=\"color:black; background-color:white\"><table><tr><td><strong>lithology</strong></td><td>greisen(?:s)?</td></tr></table></td></tr><tr><td style=\"color:#ffffff; background-color:#6600cc\">#6600cc</td><td style=\"color:black; background-color:white\">None</td><td style=\"color:black; background-color:white\">None</td><td style=\"color:black; background-color:white\"><table><tr><td><strong>lithology</strong></td><td>skarn(?:s)?</td></tr></table></td></tr><tr><td style=\"color:#ffffff; background-color:#005c00\">#005c00</td><td style=\"color:black; background-color:white\">None</td><td style=\"color:black; background-color:white\">None</td><td style=\"color:black; background-color:white\"><table><tr><td><strong>lithology</strong></td><td>serpentinite(?:s)?</td></tr></table></td></tr><tr><td style=\"color:#ffffff; background-color:#c600c6\">#c600c6</td><td style=\"color:black; background-color:white\">None</td><td style=\"color:black; background-color:white\">None</td><td style=\"color:black; background-color:white\"><table><tr><td><strong>lithology</strong></td><td>roche(?:s)? tectonique(?:s)?</td></tr></table></td></tr><tr><td style=\"color:#ffffff; background-color:#9c009c\">#9c009c</td><td style=\"color:black; background-color:white\">None</td><td style=\"color:black; background-color:white\">None</td><td style=\"color:black; background-color:white\"><table><tr><td><strong>lithology</strong></td><td>tectonite(?:s)?</td></tr></table></td></tr><tr><td style=\"color:#ffffff; background-color:#6a006a\">#6a006a</td><td style=\"color:black; background-color:white\">None</td><td style=\"color:black; background-color:white\">None</td><td style=\"color:black; background-color:white\"><table><tr><td><strong>lithology</strong></td><td>tectonite(?:s)? mélange(?:s)?</td></tr></table></td></tr><tr><td style=\"color:#ffffff; background-color:#2a002a\">#2a002a</td><td style=\"color:black; background-color:white\">None</td><td style=\"color:black; background-color:white\">None</td><td style=\"color:black; background-color:white\"><table><tr><td><strong>lithology</strong></td><td>brèche(?:s)? tectonique(?:s)?</td></tr></table></td></tr><tr><td style=\"color:#000000; background-color:#f4ffd5\">#f4ffd5</td><td style=\"color:black; background-color:white\">None</td><td style=\"color:black; background-color:white\">None</td><td style=\"color:black; background-color:white\"><table><tr><td><strong>lithology</strong></td><td>cataclasite(?:s)?</td></tr></table></td></tr><tr><td style=\"color:#000000; background-color:#339966\">#339966</td><td style=\"color:black; background-color:white\">None</td><td style=\"color:black; background-color:white\">None</td><td style=\"color:black; background-color:white\"><table><tr><td><strong>lithology</strong></td><td>phyllonite(?:s)?</td></tr></table></td></tr><tr><td style=\"color:#000000; background-color:#d0cbb0\">#d0cbb0</td><td style=\"color:black; background-color:white\">None</td><td style=\"color:black; background-color:white\">None</td><td style=\"color:black; background-color:white\"><table><tr><td><strong>lithology</strong></td><td>mylonite(?:s)?</td></tr></table></td></tr><tr><td style=\"color:#000000; background-color:#b0a778\">#b0a778</td><td style=\"color:black; background-color:white\">None</td><td style=\"color:black; background-color:white\">None</td><td style=\"color:black; background-color:white\"><table><tr><td><strong>lithology</strong></td><td>basinite(?:s)?</td></tr></table></td></tr></table>"
      ],
      "text/plain": [
       "Legend(Decor({'_colour': '#ffffe9', 'width': None, 'component': Component({'lithology': 'matériau(?:x)? meuble(?:s)?'}), 'hatch': None})\n",
       "Decor({'_colour': '#ffffd5', 'width': None, 'component': Component({'lithology': 'alluvion(?:s)?'}), 'hatch': None})\n",
       "Decor({'_colour': '#d3b798', 'width': None, 'component': Component({'lithology': 'remblai(?:s)?'}), 'hatch': None})\n",
       "Decor({'_colour': '#f5e1bd', 'width': None, 'component': Component({'lithology': 'lœss'}), 'hatch': None})\n",
       "Decor({'_colour': '#f5e1bd', 'width': None, 'component': Component({'lithology': 'loess'}), 'hatch': None})\n",
       "Decor({'_colour': '#d6c59e', 'width': None, 'component': Component({'lithology': 'cendre(?:s)? volcanique(?:s)?'}), 'hatch': None})\n",
       "Decor({'_colour': '#e1e3c3', 'width': None, 'component': Component({'lithology': 'colluvion(?:s)?'}), 'hatch': None})\n",
       "Decor({'_colour': '#d3ca9f', 'width': None, 'component': Component({'lithology': 'lahar(?:s)?'}), 'hatch': None})\n",
       "Decor({'_colour': '#ffeebf', 'width': None, 'component': Component({'lithology': 'moraine(?:s)?'}), 'hatch': None})\n",
       "Decor({'_colour': '#ffcc99', 'width': None, 'component': Component({'lithology': 'tourbe(?:s)?'}), 'hatch': None})\n",
       "Decor({'_colour': '#ffeaa7', 'width': None, 'component': Component({'lithology': 'gypse(?:s)?'}), 'hatch': None})\n",
       "Decor({'_colour': '#ffdb67', 'width': None, 'component': Component({'lithology': 'houille(?:s)?'}), 'hatch': None})\n",
       "Decor({'_colour': '#ffd345', 'width': None, 'component': Component({'lithology': 'limon(?:s)?'}), 'hatch': None})\n",
       "Decor({'_colour': '#ffcb23', 'width': None, 'component': Component({'lithology': 'sable(?:s)?'}), 'hatch': None})\n",
       "Decor({'_colour': '#ecb400', 'width': None, 'component': Component({'lithology': 'gravier(?:s)?'}), 'hatch': None})\n",
       "Decor({'_colour': '#cfefdf', 'width': None, 'component': Component({'lithology': 'roche(?:s)? sédimentaire(?:s)?'}), 'hatch': None})\n",
       "Decor({'_colour': '#d9fdd3', 'width': None, 'component': Component({'lithology': 'reoche(?:s)? clastique(?:s)?'}), 'hatch': None})\n",
       "Decor({'_colour': '#ace4c8', 'width': None, 'component': Component({'lithology': 'silt(?:s)?'}), 'hatch': None})\n",
       "Decor({'_colour': '#d5e6cc', 'width': None, 'component': Component({'lithology': 'argile(?:s)?'}), 'hatch': None})\n",
       "Decor({'_colour': '#92dcb7', 'width': None, 'component': Component({'lithology': 'bentonite(?:s)?'}), 'hatch': None})\n",
       "Decor({'_colour': '#c0d0c0', 'width': None, 'component': Component({'lithology': 'diatomite(?:s)?'}), 'hatch': None})\n",
       "Decor({'_colour': '#dbfebc', 'width': None, 'component': Component({'lithology': 'molasse(?:s)?'}), 'hatch': None})\n",
       "Decor({'_colour': '#bbffdd', 'width': None, 'component': Component({'lithology': 'schiste(?:s)?'}), 'hatch': None})\n",
       "Decor({'_colour': '#95ffca', 'width': None, 'component': Component({'lithology': 'argilite(?:s)?'}), 'hatch': None})\n",
       "Decor({'_colour': '#d6fe9a', 'width': None, 'component': Component({'lithology': 'siltite(?:s)?'}), 'hatch': None})\n",
       "Decor({'_colour': '#e1f0d8', 'width': None, 'component': Component({'lithology': 'tuffeau(?:s)?'}), 'hatch': None})\n",
       "Decor({'_colour': '#cdffd9', 'width': None, 'component': Component({'lithology': 'grès'}), 'hatch': None})\n",
       "Decor({'_colour': '#cbefce', 'width': None, 'component': Component({'lithology': 'arénite(?:s)?'}), 'hatch': None})\n",
       "Decor({'_colour': '#a6fcaa', 'width': None, 'component': Component({'lithology': 'orthoquartzite(?:s)?'}), 'hatch': None})\n",
       "Decor({'_colour': '#7dffe3', 'width': None, 'component': Component({'lithology': 'calcarénite(?:s)?'}), 'hatch': None})\n",
       "Decor({'_colour': '#b8eac3', 'width': None, 'component': Component({'lithology': 'arkose(?:s)?'}), 'hatch': None})\n",
       "Decor({'_colour': '#bddbf1', 'width': None, 'component': Component({'lithology': 'wacke(?:s)?'}), 'hatch': None})\n",
       "Decor({'_colour': '#69cf9c', 'width': None, 'component': Component({'lithology': 'silex'}), 'hatch': None})\n",
       "Decor({'_colour': '#90a565', 'width': None, 'component': Component({'lithology': 'radiolarite(?:s)?'}), 'hatch': None})\n",
       "Decor({'_colour': '#b7d9cc', 'width': None, 'component': Component({'lithology': 'conglomérat(?:s)?'}), 'hatch': None})\n",
       "Decor({'_colour': '#a7ba86', 'width': None, 'component': Component({'lithology': 'brèche(?:s)? sédimentaire(?:s)?'}), 'hatch': None})\n",
       "Decor({'_colour': '#bcc0c5', 'width': None, 'component': Component({'lithology': 'dolomie(?:s)?'}), 'hatch': None})\n",
       "Decor({'_colour': '#8dbecd', 'width': None, 'component': Component({'lithology': 'olistostrome(?:s)?'}), 'hatch': None})\n",
       "Decor({'_colour': '#a5aaad', 'width': None, 'component': Component({'lithology': 'carbonatite(?:s)?'}), 'hatch': None})\n",
       "Decor({'_colour': '#019ccd', 'width': None, 'component': Component({'lithology': 'carbonate(?:s)?'}), 'hatch': None})\n",
       "Decor({'_colour': '#149ef8', 'width': None, 'component': Component({'lithology': 'calcaire(?:s)?'}), 'hatch': None})\n",
       "Decor({'_colour': '#0094f8', 'width': None, 'component': Component({'lithology': 'dolomite(?:s)?'}), 'hatch': None})\n",
       "Decor({'_colour': '#bfe3dc', 'width': None, 'component': Component({'lithology': 'phosphorite(?:s)?'}), 'hatch': None})\n",
       "Decor({'_colour': '#deeffe', 'width': None, 'component': Component({'lithology': 'craie(?:s)?'}), 'hatch': None})\n",
       "Decor({'_colour': '#9acefe', 'width': None, 'component': Component({'lithology': 'évaporite(?:s)?'}), 'hatch': None})\n",
       "Decor({'_colour': '#aac2c8', 'width': None, 'component': Component({'lithology': 'chert(?:s)?'}), 'hatch': None})\n",
       "Decor({'_colour': '#c0aeb6', 'width': None, 'component': Component({'lithology': 'alios'}), 'hatch': None})\n",
       "Decor({'_colour': '#b99598', 'width': None, 'component': Component({'lithology': 'radiolarite(?:s)?'}), 'hatch': None})\n",
       "Decor({'_colour': '#98004c', 'width': None, 'component': Component({'lithology': 'exhalite(?:s)?'}), 'hatch': None})\n",
       "Decor({'_colour': '#6e4900', 'width': None, 'component': Component({'lithology': 'charbon(?:s)?'}), 'hatch': None})\n",
       "Decor({'_colour': '#d9c2a3', 'width': None, 'component': Component({'lithology': 'marne(?:s)?'}), 'hatch': None})\n",
       "Decor({'_colour': '#ffeff3', 'width': None, 'component': Component({'lithology': 'roche(?:s)? plutonique(?:s)?'}), 'hatch': None})\n",
       "Decor({'_colour': '#ffc8bf', 'width': None, 'component': Component({'lithology': 'aplite(?:s)?'}), 'hatch': None})\n",
       "Decor({'_colour': '#ffe1e8', 'width': None, 'component': Component({'lithology': 'porphyre(?:s)?'}), 'hatch': None})\n",
       "Decor({'_colour': '#fdcfcf', 'width': None, 'component': Component({'lithology': 'lamprophyre(?:s)?'}), 'hatch': None})\n",
       "Decor({'_colour': '#ffd1dc', 'width': None, 'component': Component({'lithology': 'pegmatite(?:s)?'}), 'hatch': None})\n",
       "Decor({'_colour': '#fc6e7c', 'width': None, 'component': Component({'lithology': 'granitoïde(?:s)?'}), 'hatch': None})\n",
       "Decor({'_colour': '#fc5262', 'width': None, 'component': Component({'lithology': 'granite(?:s)? alcalin(?:s)?'}), 'hatch': None})\n",
       "Decor({'_colour': '#fb2338', 'width': None, 'component': Component({'lithology': 'granite(?:s)?'}), 'hatch': None})\n",
       "Decor({'_colour': '#f43c6c', 'width': None, 'component': Component({'lithology': 'granite(?:s)? péralumineux'}), 'hatch': None})\n",
       "Decor({'_colour': '#f41a87', 'width': None, 'component': Component({'lithology': 'granite(?:s)? métallineux'}), 'hatch': None})\n",
       "Decor({'_colour': '#dd2972', 'width': None, 'component': Component({'lithology': 'granite(?:s)? subalumineux'}), 'hatch': None})\n",
       "Decor({'_colour': '#e45891', 'width': None, 'component': Component({'lithology': 'granite(?:s)? peralkaline(?:s)?'}), 'hatch': None})\n",
       "Decor({'_colour': '#e979a6', 'width': None, 'component': Component({'lithology': 'granodiorite(?:s)?'}), 'hatch': None})\n",
       "Decor({'_colour': '#ff6f6b', 'width': None, 'component': Component({'lithology': 'tonalite(?:s)?'}), 'hatch': None})\n",
       "Decor({'_colour': '#ffb3c5', 'width': None, 'component': Component({'lithology': 'trondhjemite(?:s)?'}), 'hatch': None})\n",
       "Decor({'_colour': '#f8beae', 'width': None, 'component': Component({'lithology': 'syénite(?:s)? alcaline(?:s)?'}), 'hatch': None})\n",
       "Decor({'_colour': '#f9b5bb', 'width': None, 'component': Component({'lithology': 'quartz syenite(?:s)?'}), 'hatch': None})\n",
       "Decor({'_colour': '#ffa7bc', 'width': None, 'component': Component({'lithology': 'syenite(?:s)?'}), 'hatch': None})\n",
       "Decor({'_colour': '#ff6388', 'width': None, 'component': Component({'lithology': 'quartz monzonite(?:s)?'}), 'hatch': None})\n",
       "Decor({'_colour': '#ff275a', 'width': None, 'component': Component({'lithology': 'monzonite(?:s)?'}), 'hatch': None})\n",
       "Decor({'_colour': '#ffccc5', 'width': None, 'component': Component({'lithology': 'quartz monzodiorite(?:s)?'}), 'hatch': None})\n",
       "Decor({'_colour': '#ffa99d', 'width': None, 'component': Component({'lithology': 'monzodiorite(?:s)?'}), 'hatch': None})\n",
       "Decor({'_colour': '#ff6f5b', 'width': None, 'component': Component({'lithology': 'diorite(?:s)? de quartz(?:s)?'}), 'hatch': None})\n",
       "Decor({'_colour': '#ff3317', 'width': None, 'component': Component({'lithology': 'diorite(?:s)?'}), 'hatch': None})\n",
       "Decor({'_colour': '#e81c00', 'width': None, 'component': Component({'lithology': 'diabase(?:s)?'}), 'hatch': None})\n",
       "Decor({'_colour': '#ff95ae', 'width': None, 'component': Component({'lithology': 'gabbroïde(?:s)?'}), 'hatch': None})\n",
       "Decor({'_colour': '#ff819f', 'width': None, 'component': Component({'lithology': 'quartz monzogabro(?:s)?'}), 'hatch': None})\n",
       "Decor({'_colour': '#ffd6d1', 'width': None, 'component': Component({'lithology': 'monzogabbro(?:s)?'}), 'hatch': None})\n",
       "Decor({'_colour': '#eda7ca', 'width': None, 'component': Component({'lithology': 'quartz gabbro(?:s)?'}), 'hatch': None})\n",
       "Decor({'_colour': '#e993be', 'width': None, 'component': Component({'lithology': 'gabbro(?:s)?'}), 'hatch': None})\n",
       "Decor({'_colour': '#ff85fb', 'width': None, 'component': Component({'lithology': 'gabbronorite(?:s)?'}), 'hatch': None})\n",
       "Decor({'_colour': '#e377ad', 'width': None, 'component': Component({'lithology': 'norite(?:s)?'}), 'hatch': None})\n",
       "Decor({'_colour': '#ffbfce', 'width': None, 'component': Component({'lithology': 'troctolite(?:s)?'}), 'hatch': None})\n",
       "Decor({'_colour': '#ffa3b9', 'width': None, 'component': Component({'lithology': 'anorthosite(?:s)?'}), 'hatch': None})\n",
       "Decor({'_colour': '#ff6f91', 'width': None, 'component': Component({'lithology': 'roche(?:s)? intrusif alcalique(?:s)?'}), 'hatch': None})\n",
       "Decor({'_colour': '#ff1b51', 'width': None, 'component': Component({'lithology': 'népheline(?:s)?'}), 'hatch': None})\n",
       "Decor({'_colour': '#e80037', 'width': None, 'component': Component({'lithology': 'roche(?:s)? intrusive ultramafique(?:s)?'}), 'hatch': None})\n",
       "Decor({'_colour': '#ce0031', 'width': None, 'component': Component({'lithology': 'péridotite(?:s)?'}), 'hatch': None})\n",
       "Decor({'_colour': '#940023', 'width': None, 'component': Component({'lithology': 'kimberlite(?:s)?'}), 'hatch': None})\n",
       "Decor({'_colour': '#c1010a', 'width': None, 'component': Component({'lithology': 'pyroxénite(?:s)?'}), 'hatch': None})\n",
       "Decor({'_colour': '#a30109', 'width': None, 'component': Component({'lithology': 'hornblendite(?:s)?'}), 'hatch': None})\n",
       "Decor({'_colour': '#750107', 'width': None, 'component': Component({'lithology': 'carbonatite intrusive(?:s)?'}), 'hatch': None})\n",
       "Decor({'_colour': '#f9d3d3', 'width': None, 'component': Component({'lithology': 'roche(?:s)? volcanique(?:s)?'}), 'hatch': None})\n",
       "Decor({'_colour': '#ffe5f3', 'width': None, 'component': Component({'lithology': 'roche(?:s)? volcanique(?:s)? vitreuse(?:s)?'}), 'hatch': None})\n",
       "Decor({'_colour': '#ffd1ea', 'width': None, 'component': Component({'lithology': 'obsidienne(?:s)?'}), 'hatch': None})\n",
       "Decor({'_colour': '#ffc3f8', 'width': None, 'component': Component({'lithology': 'vitrophyre(?:s)?'}), 'hatch': None})\n",
       "Decor({'_colour': '#ffc3e4', 'width': None, 'component': Component({'lithology': 'pierre(?:s)? ponce(?:s)?'}), 'hatch': None})\n",
       "Decor({'_colour': '#ffedbf', 'width': None, 'component': Component({'lithology': 'pyroclastique(?:s)?'}), 'hatch': None})\n",
       "Decor({'_colour': '#ffefd9', 'width': None, 'component': Component({'lithology': 'tuf(?:s)?'}), 'hatch': None})\n",
       "Decor({'_colour': '#ffe5c3', 'width': None, 'component': Component({'lithology': 'ignimbrite(?:s)?'}), 'hatch': None})\n",
       "Decor({'_colour': '#ffd59d', 'width': None, 'component': Component({'lithology': 'brèche(?:s)? volcanique(?:s)?'}), 'hatch': None})\n",
       "Decor({'_colour': '#ffc10b', 'width': None, 'component': Component({'lithology': 'coulée(?:s)? de lave(?:s)?'}), 'hatch': None})\n",
       "Decor({'_colour': '#f48b00', 'width': None, 'component': Component({'lithology': 'roche(?:s)? volcanique(?:s)? felsique(?:s)?'}), 'hatch': None})\n",
       "Decor({'_colour': '#fedc7e', 'width': None, 'component': Component({'lithology': 'rhyolite(?:s)? alcaline(?:s)?'}), 'hatch': None})\n",
       "Decor({'_colour': '#fed768', 'width': None, 'component': Component({'lithology': 'rhyolite(?:s)?'}), 'hatch': None})\n",
       "Decor({'_colour': '#fec62a', 'width': None, 'component': Component({'lithology': 'rhyodacite(?:s)?'}), 'hatch': None})\n",
       "Decor({'_colour': '#fecdac', 'width': None, 'component': Component({'lithology': 'dacite(?:s)?'}), 'hatch': None})\n",
       "Decor({'_colour': '#feb786', 'width': None, 'component': Component({'lithology': 'trachyte(?:s)? alcaline(?:s)?'}), 'hatch': None})\n",
       "Decor({'_colour': '#fea060', 'width': None, 'component': Component({'lithology': 'trachyte(?:s)?'}), 'hatch': None})\n",
       "Decor({'_colour': '#fe8736', 'width': None, 'component': Component({'lithology': 'quartz latite(?:s)?'}), 'hatch': None})\n",
       "Decor({'_colour': '#fe7518', 'width': None, 'component': Component({'lithology': 'latite(?:s)?'}), 'hatch': None})\n",
       "Decor({'_colour': '#eb6001', 'width': None, 'component': Component({'lithology': 'roche(?:s)? volcanique(?:s)? intermédiaire(?:s)?'}), 'hatch': None})\n",
       "Decor({'_colour': '#c95201', 'width': None, 'component': Component({'lithology': 'trachyandesite(?:s)?'}), 'hatch': None})\n",
       "Decor({'_colour': '#b14801', 'width': None, 'component': Component({'lithology': 'andésite(?:s)?'}), 'hatch': None})\n",
       "Decor({'_colour': '#933c01', 'width': None, 'component': Component({'lithology': 'roche(?:s)? mafique(?:s)? volcanique(?:s)?'}), 'hatch': None})\n",
       "Decor({'_colour': '#ecd5c6', 'width': None, 'component': Component({'lithology': 'trachybasalte(?:s)?'}), 'hatch': None})\n",
       "Decor({'_colour': '#ddb397', 'width': None, 'component': Component({'lithology': 'basalte(?:s)?'}), 'hatch': None})\n",
       "Decor({'_colour': '#d39d79', 'width': None, 'component': Component({'lithology': 'tholite(?:s)?'}), 'hatch': None})\n",
       "Decor({'_colour': '#c68050', 'width': None, 'component': Component({'lithology': 'hawaiite(?:s)?'}), 'hatch': None})\n",
       "Decor({'_colour': '#a96537', 'width': None, 'component': Component({'lithology': 'basalte(?:s)? alcalin(?:s)?'}), 'hatch': None})\n",
       "Decor({'_colour': '#854f2b', 'width': None, 'component': Component({'lithology': 'roche(?:s)? alcalique(?:s)? volcanique(?:s)?'}), 'hatch': None})\n",
       "Decor({'_colour': '#5f391f', 'width': None, 'component': Component({'lithology': 'phonolite(?:s)?'}), 'hatch': None})\n",
       "Decor({'_colour': '#c24100', 'width': None, 'component': Component({'lithology': 'téphrite(?:s)?'}), 'hatch': None})\n",
       "Decor({'_colour': '#a03500', 'width': None, 'component': Component({'lithology': 'komatiite(?:s)?'}), 'hatch': None})\n",
       "Decor({'_colour': '#6e2500', 'width': None, 'component': Component({'lithology': 'carbonatite volcanique(?:s)?'}), 'hatch': None})\n",
       "Decor({'_colour': '#e6cdff', 'width': None, 'component': Component({'lithology': 'roche(?:s)? métamorphique(?:s)?'}), 'hatch': None})\n",
       "Decor({'_colour': '#eaafff', 'width': None, 'component': Component({'lithology': 'hornfels'}), 'hatch': None})\n",
       "Decor({'_colour': '#e9ffe9', 'width': None, 'component': Component({'lithology': 'roche(?:s)? métasédimentaire(?:s)?'}), 'hatch': None})\n",
       "Decor({'_colour': '#c9ffc9', 'width': None, 'component': Component({'lithology': 'méta-argilite(?:s)?'}), 'hatch': None})\n",
       "Decor({'_colour': '#a7a7ff', 'width': None, 'component': Component({'lithology': 'ardoise(?:s)?'}), 'hatch': None})\n",
       "Decor({'_colour': '#9fff9f', 'width': None, 'component': Component({'lithology': 'quartzite(?:s)?'}), 'hatch': None})\n",
       "Decor({'_colour': '#7dff7d', 'width': None, 'component': Component({'lithology': 'méta-conglomérat(?:s)?'}), 'hatch': None})\n",
       "Decor({'_colour': '#0000ff', 'width': None, 'component': Component({'lithology': 'marbre(?:s)?'}), 'hatch': None})\n",
       "Decor({'_colour': '#ffa7ff', 'width': None, 'component': Component({'lithology': 'roche(?:s)? métavolcanique(?:s)?'}), 'hatch': None})\n",
       "Decor({'_colour': '#ff8dff', 'width': None, 'component': Component({'lithology': 'roche(?:s)? métavolcanique felsique(?:s)?'}), 'hatch': None})\n",
       "Decor({'_colour': '#ff57ff', 'width': None, 'component': Component({'lithology': 'méta-rhyolite(?:s)?'}), 'hatch': None})\n",
       "Decor({'_colour': '#fe6700', 'width': None, 'component': Component({'lithology': 'kératophyre(?:s)?'}), 'hatch': None})\n",
       "Decor({'_colour': '#c9557e', 'width': None, 'component': Component({'lithology': 'roche(?:s)? métavolcanique(?:s)? intermédiaire(?:s)?'}), 'hatch': None})\n",
       "Decor({'_colour': '#b93b68', 'width': None, 'component': Component({'lithology': 'roche(?:s)? métavolcanique(?:s)? mafique(?:s)?'}), 'hatch': None})\n",
       "Decor({'_colour': '#872b4c', 'width': None, 'component': Component({'lithology': 'méta-basalte(?:s)?'}), 'hatch': None})\n",
       "Decor({'_colour': '#ff0000', 'width': None, 'component': Component({'lithology': 'spilite(?:s)?'}), 'hatch': None})\n",
       "Decor({'_colour': '#008000', 'width': None, 'component': Component({'lithology': 'pierre(?:s)? verte(?:s)?'}), 'hatch': None})\n",
       "Decor({'_colour': '#ededf3', 'width': None, 'component': Component({'lithology': 'phyllite(?:s)?'}), 'hatch': None})\n",
       "Decor({'_colour': '#dbdbe7', 'width': None, 'component': Component({'lithology': 'schiste(?:s)?'}), 'hatch': None})\n",
       "Decor({'_colour': '#b1b1b1', 'width': None, 'component': Component({'lithology': 'micaschiste(?:s)?'}), 'hatch': None})\n",
       "Decor({'_colour': '#969696', 'width': None, 'component': Component({'lithology': 'schiste(?:s)? pélitique(?:s)?'}), 'hatch': None})\n",
       "Decor({'_colour': '#a2a2c0', 'width': None, 'component': Component({'lithology': 'schiste(?:s)? de quartz-feldspar(?:s)?'}), 'hatch': None})\n",
       "Decor({'_colour': '#b4cfe4', 'width': None, 'component': Component({'lithology': 'schiste(?:s)? de silicate de calcul(?:s)?'}), 'hatch': None})\n",
       "Decor({'_colour': '#b6b6ce', 'width': None, 'component': Component({'lithology': \"schiste(?:s)? d'amphibole(?:s)?\"}), 'hatch': None})\n",
       "Decor({'_colour': '#abffff', 'width': None, 'component': Component({'lithology': 'granofels'}), 'hatch': None})\n",
       "Decor({'_colour': '#79ffff', 'width': None, 'component': Component({'lithology': 'gneiss'}), 'hatch': None})\n",
       "Decor({'_colour': '#0fffff', 'width': None, 'component': Component({'lithology': 'gneiss felsique(?:s)?'}), 'hatch': None})\n",
       "Decor({'_colour': '#00dbd6', 'width': None, 'component': Component({'lithology': 'gneiss granitique(?:s)?'}), 'hatch': None})\n",
       "Decor({'_colour': '#00a4a0', 'width': None, 'component': Component({'lithology': 'gneiss biotite(?:s)?'}), 'hatch': None})\n",
       "Decor({'_colour': '#007673', 'width': None, 'component': Component({'lithology': 'gneiss mafique(?:s)?'}), 'hatch': None})\n",
       "Decor({'_colour': '#33cccc', 'width': None, 'component': Component({'lithology': 'orthogneiss'}), 'hatch': None})\n",
       "Decor({'_colour': '#2db6b3', 'width': None, 'component': Component({'lithology': 'paragne(?:s)?'}), 'hatch': None})\n",
       "Decor({'_colour': '#ac0000', 'width': None, 'component': Component({'lithology': 'migmatite(?:s)?'}), 'hatch': None})\n",
       "Decor({'_colour': '#ac7f50', 'width': None, 'component': Component({'lithology': 'amphibolite(?:s)?'}), 'hatch': None})\n",
       "Decor({'_colour': '#84613e', 'width': None, 'component': Component({'lithology': 'granulite(?:s)?'}), 'hatch': None})\n",
       "Decor({'_colour': '#ff4fff', 'width': None, 'component': Component({'lithology': 'eclogite(?:s)?'}), 'hatch': None})\n",
       "Decor({'_colour': '#ec00ec', 'width': None, 'component': Component({'lithology': 'greisen(?:s)?'}), 'hatch': None})\n",
       "Decor({'_colour': '#6600cc', 'width': None, 'component': Component({'lithology': 'skarn(?:s)?'}), 'hatch': None})\n",
       "Decor({'_colour': '#005c00', 'width': None, 'component': Component({'lithology': 'serpentinite(?:s)?'}), 'hatch': None})\n",
       "Decor({'_colour': '#c600c6', 'width': None, 'component': Component({'lithology': 'roche(?:s)? tectonique(?:s)?'}), 'hatch': None})\n",
       "Decor({'_colour': '#9c009c', 'width': None, 'component': Component({'lithology': 'tectonite(?:s)?'}), 'hatch': None})\n",
       "Decor({'_colour': '#6a006a', 'width': None, 'component': Component({'lithology': 'tectonite(?:s)? mélange(?:s)?'}), 'hatch': None})\n",
       "Decor({'_colour': '#2a002a', 'width': None, 'component': Component({'lithology': 'brèche(?:s)? tectonique(?:s)?'}), 'hatch': None})\n",
       "Decor({'_colour': '#f4ffd5', 'width': None, 'component': Component({'lithology': 'cataclasite(?:s)?'}), 'hatch': None})\n",
       "Decor({'_colour': '#339966', 'width': None, 'component': Component({'lithology': 'phyllonite(?:s)?'}), 'hatch': None})\n",
       "Decor({'_colour': '#d0cbb0', 'width': None, 'component': Component({'lithology': 'mylonite(?:s)?'}), 'hatch': None})\n",
       "Decor({'_colour': '#b0a778', 'width': None, 'component': Component({'lithology': 'basinite(?:s)?'}), 'hatch': None}))"
      ]
     },
     "execution_count": 23,
     "metadata": {},
     "output_type": "execute_result"
    }
   ],
   "source": [
    "legend_fr"
   ]
  },
  {
   "cell_type": "code",
   "execution_count": 24,
   "metadata": {},
   "outputs": [],
   "source": [
    "import matplotlib.colors as mcolors\n",
    "\n",
    "def create_legend(components, legend, hatches=None, colors=None, width=3):\n",
    "    \n",
    "    list_of_decors, hatches_used = [], []\n",
    "    def_hatches = ['+', 'x', '.', 's', '*', 'b', 'c', 'v', '/', 't']\n",
    "    def_colors = [l.colour for l in Legend.default()] + list(mcolors.CSS4_COLORS.values())\n",
    "    i=0\n",
    "    \n",
    "    for comp in components:\n",
    "        if hasattr(comp, 'lithology'):\n",
    "            comp_litho = comp.lithology\n",
    "            for leg in legend:\n",
    "                leg_litho = leg.component.lithology\n",
    "                \n",
    "                reg = re.compile(\"^{:s}$\".format(leg_litho), flags=re.I).match(comp_litho)\n",
    "                print(reg)\n",
    "                if reg:\n",
    "                    print(i, comp, reg)\n",
    "        i += 1         "
   ]
  },
  {
   "cell_type": "code",
   "execution_count": 25,
   "metadata": {},
   "outputs": [],
   "source": [
    "create_legend(components, legend_fr)"
   ]
  },
  {
   "cell_type": "code",
   "execution_count": 26,
   "metadata": {},
   "outputs": [],
   "source": [
    "from utils.lexicon.lexicon_fr import COLOURS_FR"
   ]
  },
  {
   "cell_type": "code",
   "execution_count": 27,
   "metadata": {},
   "outputs": [
    {
     "ename": "KeyError",
     "evalue": "'gris'",
     "output_type": "error",
     "traceback": [
      "\u001b[0;31m---------------------------------------------------------------------------\u001b[0m",
      "\u001b[0;31mKeyError\u001b[0m                                  Traceback (most recent call last)",
      "\u001b[0;32m<ipython-input-27-52a4df1c7d14>\u001b[0m in \u001b[0;36m<module>\u001b[0;34m\u001b[0m\n\u001b[1;32m      1\u001b[0m \u001b[0mname\u001b[0m \u001b[0;34m=\u001b[0m \u001b[0;34m'gris'\u001b[0m\u001b[0;34m\u001b[0m\u001b[0;34m\u001b[0m\u001b[0m\n\u001b[0;32m----> 2\u001b[0;31m \u001b[0mCOLOURS_FR\u001b[0m\u001b[0;34m[\u001b[0m\u001b[0mname\u001b[0m\u001b[0;34m.\u001b[0m\u001b[0mlower\u001b[0m\u001b[0;34m(\u001b[0m\u001b[0;34m)\u001b[0m\u001b[0;34m]\u001b[0m\u001b[0;34m\u001b[0m\u001b[0;34m\u001b[0m\u001b[0m\n\u001b[0m",
      "\u001b[0;31mKeyError\u001b[0m: 'gris'"
     ]
    }
   ],
   "source": [
    "name = 'gris'\n",
    "COLOURS_FR[name.lower()]"
   ]
  },
  {
   "cell_type": "code",
   "execution_count": null,
   "metadata": {
    "scrolled": true
   },
   "outputs": [],
   "source": [
    "for bh in boreholes:\n",
    "    p.add_borehole(bh)"
   ]
  },
  {
   "cell_type": "raw",
   "metadata": {},
   "source": [
    "components\n",
    "#boreholes[0].intervals[0].components"
   ]
  },
  {
   "cell_type": "code",
   "execution_count": null,
   "metadata": {},
   "outputs": [],
   "source": [
    "p.add_link_between_components_and_intervals(link_intv_comp)"
   ]
  },
  {
   "cell_type": "code",
   "execution_count": null,
   "metadata": {},
   "outputs": [],
   "source": [
    "p.commit()\n",
    "print('Boreholes in the project : ', len(p.boreholes))"
   ]
  },
  {
   "cell_type": "code",
   "execution_count": null,
   "metadata": {},
   "outputs": [],
   "source": [
    "p.boreholes"
   ]
  },
  {
   "cell_type": "code",
   "execution_count": null,
   "metadata": {},
   "outputs": [],
   "source": [
    "p.refresh(verbose=True)"
   ]
  },
  {
   "cell_type": "code",
   "execution_count": null,
   "metadata": {},
   "outputs": [],
   "source": [
    "session.close()"
   ]
  },
  {
   "cell_type": "markdown",
   "metadata": {},
   "source": [
    "# 3D Display"
   ]
  },
  {
   "cell_type": "markdown",
   "metadata": {},
   "source": [
    "## Display one object"
   ]
  },
  {
   "cell_type": "code",
   "execution_count": null,
   "metadata": {},
   "outputs": [],
   "source": [
    "bh = p.boreholes_3d\n",
    "#print(bh.name, '\\n', bh.intervals) # problem with top and base position --> kind of overlaying"
   ]
  },
  {
   "cell_type": "code",
   "execution_count": null,
   "metadata": {},
   "outputs": [],
   "source": [
    "p.boreholes_3d[0].plot2d()"
   ]
  },
  {
   "cell_type": "code",
   "execution_count": null,
   "metadata": {},
   "outputs": [],
   "source": [
    "p.boreholes_3d[0].plot3d()"
   ]
  },
  {
   "cell_type": "code",
   "execution_count": null,
   "metadata": {},
   "outputs": [],
   "source": [
    "p.boreholes_3d[0].plot3d(x3d=True)"
   ]
  },
  {
   "cell_type": "markdown",
   "metadata": {},
   "source": [
    "### Display project boreholes"
   ]
  },
  {
   "cell_type": "code",
   "execution_count": null,
   "metadata": {},
   "outputs": [],
   "source": [
    "p.plot3d(labels_size=15, bg_color=[\"royalblue\", \"aliceblue\"], window_size=(1300, 1000))"
   ]
  },
  {
   "cell_type": "markdown",
   "metadata": {},
   "source": [
    "### Boreholes in 3D using X3D for interaction within the notebook"
   ]
  },
  {
   "cell_type": "raw",
   "metadata": {
    "scrolled": false
   },
   "source": [
    "p.plot3d(x3d=True)"
   ]
  },
  {
   "cell_type": "code",
   "execution_count": null,
   "metadata": {},
   "outputs": [],
   "source": []
  }
 ],
 "metadata": {
  "kernelspec": {
   "display_name": "Python 3",
   "language": "python",
   "name": "python3"
  },
  "language_info": {
   "codemirror_mode": {
    "name": "ipython",
    "version": 3
   },
   "file_extension": ".py",
   "mimetype": "text/x-python",
   "name": "python",
   "nbconvert_exporter": "python",
   "pygments_lexer": "ipython3",
   "version": "3.8.5"
  }
 },
 "nbformat": 4,
 "nbformat_minor": 4
}
