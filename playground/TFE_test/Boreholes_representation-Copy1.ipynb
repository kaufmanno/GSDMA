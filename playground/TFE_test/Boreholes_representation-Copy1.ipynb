{
 "cells": [
  {
   "cell_type": "markdown",
   "metadata": {},
   "source": [
    "# Example of using the Borehole3D class"
   ]
  },
  {
   "cell_type": "markdown",
   "metadata": {},
   "source": [
    "## Imports"
   ]
  },
  {
   "cell_type": "code",
   "execution_count": 1,
   "metadata": {},
   "outputs": [],
   "source": [
    "from striplog import Component, Decor, Legend, Lexicon, Striplog\n",
    "from core.omf import Borehole3D, striplog_legend_to_omf_legend \n",
    "from utils.lexicon import Lexicon_FR_updated as lexicon_fr\n",
    "from utils.io import boreholes_from_files, striplog_from_text,gdf_viewer,\\\n",
    "df_from_sources, striplog_from_df\n",
    "from core.core import Project\n",
    "from core.orm import BoreholeOrm, PositionOrm, Base \n",
    "\n",
    "import matplotlib.pyplot as plt\n",
    "from os import remove\n",
    "import pandas as pd\n",
    "import numpy as np\n",
    "from sqlalchemy import create_engine\n",
    "from sqlalchemy.orm import sessionmaker\n",
    "from definitions import ROOT_DIR"
   ]
  },
  {
   "cell_type": "markdown",
   "metadata": {},
   "source": [
    "## Reading of CSV files in a dir"
   ]
  },
  {
   "cell_type": "code",
   "execution_count": 2,
   "metadata": {},
   "outputs": [],
   "source": [
    "save_dir = ROOT_DIR+'/CF_data/Donnees_fusionnees/'"
   ]
  },
  {
   "cell_type": "code",
   "execution_count": 3,
   "metadata": {},
   "outputs": [],
   "source": [
    "df = pd.read_csv(save_dir+'Pilote_test.csv', sep=',')"
   ]
  },
  {
   "cell_type": "code",
   "execution_count": 4,
   "metadata": {},
   "outputs": [
    {
     "name": "stdout",
     "output_type": "stream",
     "text": [
      "Rows : 87, columns : 9\n"
     ]
    },
    {
     "data": {
      "application/vnd.jupyter.widget-view+json": {
       "model_id": "db48dd36d6a7499481f401e263cd3898",
       "version_major": 2,
       "version_minor": 0
      },
      "text/plain": [
       "interactive(children=(IntSlider(value=10, description='rows', max=87, min=10, readout=False), IntSlider(value=…"
      ]
     },
     "metadata": {},
     "output_type": "display_data"
    }
   ],
   "source": [
    "gdf_viewer(df)"
   ]
  },
  {
   "cell_type": "markdown",
   "metadata": {},
   "source": [
    "## Data Checking"
   ]
  },
  {
   "cell_type": "raw",
   "metadata": {},
   "source": [
    "df.drop('Z', axis='columns', inplace=True)\n",
    "df.rename({'new_Z':'Z'}, axis='columns', inplace=True)"
   ]
  },
  {
   "cell_type": "raw",
   "metadata": {},
   "source": [
    "df.loc[df.query('Colour==\"tan\"').index, 'Colour'] = 'green' # use simple colour"
   ]
  },
  {
   "cell_type": "code",
   "execution_count": 5,
   "metadata": {},
   "outputs": [],
   "source": [
    "df.drop(index=df.query('X!=X').index, inplace=True)"
   ]
  },
  {
   "cell_type": "code",
   "execution_count": 6,
   "metadata": {},
   "outputs": [],
   "source": [
    "df = df[:-1].copy()"
   ]
  },
  {
   "cell_type": "code",
   "execution_count": 7,
   "metadata": {},
   "outputs": [],
   "source": [
    "df.loc[1, 'Description'] ='Sable rouge'"
   ]
  },
  {
   "cell_type": "code",
   "execution_count": 8,
   "metadata": {},
   "outputs": [
    {
     "data": {
      "text/html": [
       "<div>\n",
       "<style scoped>\n",
       "    .dataframe tbody tr th:only-of-type {\n",
       "        vertical-align: middle;\n",
       "    }\n",
       "\n",
       "    .dataframe tbody tr th {\n",
       "        vertical-align: top;\n",
       "    }\n",
       "\n",
       "    .dataframe thead th {\n",
       "        text-align: right;\n",
       "    }\n",
       "</style>\n",
       "<table border=\"1\" class=\"dataframe\">\n",
       "  <thead>\n",
       "    <tr style=\"text-align: right;\">\n",
       "      <th></th>\n",
       "      <th>ID</th>\n",
       "      <th>X</th>\n",
       "      <th>Y</th>\n",
       "      <th>Z</th>\n",
       "      <th>Litho_top</th>\n",
       "      <th>Description</th>\n",
       "      <th>Litho_base</th>\n",
       "      <th>Diam_for</th>\n",
       "      <th>Long_for</th>\n",
       "    </tr>\n",
       "  </thead>\n",
       "  <tbody>\n",
       "    <tr>\n",
       "      <th>0</th>\n",
       "      <td>F201</td>\n",
       "      <td>152890.245758</td>\n",
       "      <td>122596.47426</td>\n",
       "      <td>101.926886</td>\n",
       "      <td>0.6</td>\n",
       "      <td>Remblais avec briques de construction couleur ...</td>\n",
       "      <td>1.2</td>\n",
       "      <td>75.0</td>\n",
       "      <td>2.4</td>\n",
       "    </tr>\n",
       "    <tr>\n",
       "      <th>1</th>\n",
       "      <td>F201</td>\n",
       "      <td>152890.245758</td>\n",
       "      <td>122596.47426</td>\n",
       "      <td>101.926886</td>\n",
       "      <td>1.2</td>\n",
       "      <td>Sable rouge</td>\n",
       "      <td>2.4</td>\n",
       "      <td>75.0</td>\n",
       "      <td>2.4</td>\n",
       "    </tr>\n",
       "  </tbody>\n",
       "</table>\n",
       "</div>"
      ],
      "text/plain": [
       "     ID              X             Y           Z  Litho_top  \\\n",
       "0  F201  152890.245758  122596.47426  101.926886        0.6   \n",
       "1  F201  152890.245758  122596.47426  101.926886        1.2   \n",
       "\n",
       "                                         Description  Litho_base  Diam_for  \\\n",
       "0  Remblais avec briques de construction couleur ...         1.2      75.0   \n",
       "1                                        Sable rouge         2.4      75.0   \n",
       "\n",
       "   Long_for  \n",
       "0       2.4  \n",
       "1       2.4  "
      ]
     },
     "execution_count": 8,
     "metadata": {},
     "output_type": "execute_result"
    }
   ],
   "source": [
    "df.query('ID==\"F201\"')"
   ]
  },
  {
   "cell_type": "code",
   "execution_count": 9,
   "metadata": {},
   "outputs": [],
   "source": [
    "#df.drop(index=df.query('ID==\"F201\"').index, inplace=True)"
   ]
  },
  {
   "cell_type": "markdown",
   "metadata": {},
   "source": [
    "## Create Boreholes from dataframes or files"
   ]
  },
  {
   "cell_type": "code",
   "execution_count": 10,
   "metadata": {},
   "outputs": [],
   "source": [
    "bhs_df=[df] # list of dataframes"
   ]
  },
  {
   "cell_type": "code",
   "execution_count": 11,
   "metadata": {
    "scrolled": true
   },
   "outputs": [
    {
     "name": "stdout",
     "output_type": "stream",
     "text": [
      "\n",
      "Dataframe 0 processing...\n",
      "================================\n",
      "|__ID:'F201'\n",
      "Summary : [Striplog(2 Intervals, start=0.6, stop=2.4)]\n",
      "{0: {'description': 'Remblais avec briques de construction couleur orange, gris, verdâtre  ', 'interval_number': 0, 'top': <core.orm.PositionOrm object at 0x7fafb0e92460>, 'base': <core.orm.PositionOrm object at 0x7fafb0e92100>}, 1: {'description': 'Sable rouge', 'interval_number': 1, 'top': <core.orm.PositionOrm object at 0x7fafb0ec23a0>, 'base': <core.orm.PositionOrm object at 0x7fafb0e9c340>}}\n",
      "\n",
      "|__ID:'F205'\n",
      "Error : No lithology matching with 'Couche de boue en surface liée à l'intervention de Géosonda' in given lexicon\n",
      "Warning : ++ interval's component replaced by default ('sable blanc')\n",
      "Summary : [Striplog(7 Intervals, start=0.0, stop=4.8)]\n",
      "{2: {'description': 'sable blanc', 'interval_number': 0, 'top': <core.orm.PositionOrm object at 0x7fafb0f26ac0>, 'base': <core.orm.PositionOrm object at 0x7fafb0ed85e0>}, 3: {'description': 'Limon brun ', 'interval_number': 1, 'top': <core.orm.PositionOrm object at 0x7fafb0e9c520>, 'base': <core.orm.PositionOrm object at 0x7fafb0e9c8b0>}, 4: {'description': 'Remblais gris gravillonneux avec présence de déchets de construction', 'interval_number': 2, 'top': <core.orm.PositionOrm object at 0x7fafb0e9c970>, 'base': <core.orm.PositionOrm object at 0x7fafb0e9c2b0>}, 5: {'description': \"Présence d'eau avec remblais pollués (odeur forte de naphtalène avec irrisation de l'eau) + mélange de limon et gravillons \", 'interval_number': 3, 'top': <core.orm.PositionOrm object at 0x7fafb0e9c4c0>, 'base': <core.orm.PositionOrm object at 0x7fafb0e9c6a0>}, 6: {'description': 'Remblais grossiers saturés avec présence de produit pur - odeur forte +++ de naphtalène ', 'interval_number': 4, 'top': <core.orm.PositionOrm object at 0x7fafb0e9c610>, 'base': <core.orm.PositionOrm object at 0x7fafb0e9c400>}, 7: {'description': 'Alluvions verdâtres argilo-sableux (odeur dans les 40 premiers cm). Présence de goudron noir pur sur les alluvions', 'interval_number': 5, 'top': <core.orm.PositionOrm object at 0x7fafb0e9c5b0>, 'base': <core.orm.PositionOrm object at 0x7fafb0e9c310>}, 8: {'description': \"Retombées des strates supérieures - Limon verdâtre devient brun - Dans gouge, présence d'éléments grossiers favorisant le passage de produit pur (créant des chemins préférentiels)\", 'interval_number': 6, 'top': <core.orm.PositionOrm object at 0x7fafb0e9cdf0>, 'base': <core.orm.PositionOrm object at 0x7fafb0e9cf40>}}\n",
      "\n",
      "|__ID:'F208'\n",
      "Summary : [Striplog(5 Intervals, start=0.0, stop=4.8)]\n",
      "{9: {'description': 'Remblais de couleur brun avec déchets de construction - matrice sableuse et gravillonneuse', 'interval_number': 0, 'top': <core.orm.PositionOrm object at 0x7fafb0e9cee0>, 'base': <core.orm.PositionOrm object at 0x7fafb0e9ccd0>}, 10: {'description': \"Matériaux grossiers - caillasse avec odeur forte ++ et irrisation dans l'eau \", 'interval_number': 1, 'top': <core.orm.PositionOrm object at 0x7fafb0e46280>, 'base': <core.orm.PositionOrm object at 0x7fafb0e46700>}, 11: {'description': 'Remblais grossiers saturés avec présence de produit pur sur limons ', 'interval_number': 2, 'top': <core.orm.PositionOrm object at 0x7fafb0e46820>, 'base': <core.orm.PositionOrm object at 0x7fafb0e466a0>}, 12: {'description': 'Limons alluviaux noirs - odeur forte', 'interval_number': 3, 'top': <core.orm.PositionOrm object at 0x7fafb0e466d0>, 'base': <core.orm.PositionOrm object at 0x7fafb0e46940>}, 13: {'description': 'Limons de couleur \"verdâtre\" devient brun-ocre - odeur dans limon', 'interval_number': 4, 'top': <core.orm.PositionOrm object at 0x7fafb0e46970>, 'base': <core.orm.PositionOrm object at 0x7fafb0e46850>}}\n",
      "\n",
      "|__ID:'F212'\n",
      "Summary : [Striplog(5 Intervals, start=0.0, stop=4.8)]\n",
      "{14: {'description': 'Remblais divers (présence de gravillons noirs/gris, de déchets de constructions oranges, de limon sableux brun et de sable ocre)', 'interval_number': 0, 'top': <core.orm.PositionOrm object at 0x7fafb0f26b20>, 'base': <core.orm.PositionOrm object at 0x7fafb0e9c8e0>}, 15: {'description': \"Seule 1/4 gouge remplie - matériaux grossiers avec présence de scories, laitiers saturés, caillasse brun/beige - pas d'odeur \", 'interval_number': 1, 'top': <core.orm.PositionOrm object at 0x7fafb0e463a0>, 'base': <core.orm.PositionOrm object at 0x7fafb0e46370>}, 16: {'description': 'Remblais grossiers (caillasse de taille pluricentimétrique et scories) avec irrisation et odeur forte ', 'interval_number': 2, 'top': <core.orm.PositionOrm object at 0x7fafb0e46340>, 'base': <core.orm.PositionOrm object at 0x7fafb0e488e0>}, 17: {'description': 'Interface remblais avec limons alluviaux (alluvions noirs)', 'interval_number': 3, 'top': <core.orm.PositionOrm object at 0x7fafb0e489d0>, 'base': <core.orm.PositionOrm object at 0x7fafb0e48b80>}, 18: {'description': 'Retombées de 3,6 à 4 m puis limons alluviaux verdâtre sur 0,2 m devient brun argileux puis argilo-sableux ocre', 'interval_number': 4, 'top': <core.orm.PositionOrm object at 0x7fafb0e48a90>, 'base': <core.orm.PositionOrm object at 0x7fafb0e48d60>}}\n",
      "\n",
      "|__ID:'F207'\n",
      "Summary : [Striplog(7 Intervals, start=0.0, stop=4.8)]\n",
      "{19: {'description': 'Remblais brun avec déchets de construction oranges fins ', 'interval_number': 0, 'top': <core.orm.PositionOrm object at 0x7fafb0e92fd0>, 'base': <core.orm.PositionOrm object at 0x7fafb0e92af0>}, 20: {'description': 'Remblais de couleur noire en mélange avec limon graveleux', 'interval_number': 1, 'top': <core.orm.PositionOrm object at 0x7fafb0e9ce80>, 'base': <core.orm.PositionOrm object at 0x7fafb0e48760>}, 21: {'description': 'Déchets de construction : brique et sable beige', 'interval_number': 2, 'top': <core.orm.PositionOrm object at 0x7fafb0e48160>, 'base': <core.orm.PositionOrm object at 0x7fafb0e483d0>}, 22: {'description': 'Caillasse saturée (présence de scories) - semble moins pollué ', 'interval_number': 3, 'top': <core.orm.PositionOrm object at 0x7fafb0e48520>, 'base': <core.orm.PositionOrm object at 0x7fafb0e48730>}, 23: {'description': 'Caillasse saturée avec produit pur en bout de gouge - présence de grosses briques grises entre 2,4 m et 3 m', 'interval_number': 4, 'top': <core.orm.PositionOrm object at 0x7fafb0e48910>, 'base': <core.orm.PositionOrm object at 0x7fafb0e48580>}, 24: {'description': 'Retombées - Caillasse saturée du dessus ', 'interval_number': 5, 'top': <core.orm.PositionOrm object at 0x7fafb0e48850>, 'base': <core.orm.PositionOrm object at 0x7fafb0e4fd00>}, 25: {'description': 'Limon verdâtre sur 10 cm puis ocre ', 'interval_number': 6, 'top': <core.orm.PositionOrm object at 0x7fafb0e4fcd0>, 'base': <core.orm.PositionOrm object at 0x7fafb0e4fc70>}}\n",
      "\n",
      "|__ID:'F214'\n",
      "Summary : [Striplog(7 Intervals, start=0.0, stop=4.8)]\n",
      "{26: {'description': 'Remblais noirs en mélange avec sable beige ', 'interval_number': 0, 'top': <core.orm.PositionOrm object at 0x7fafb0e48640>, 'base': <core.orm.PositionOrm object at 0x7fafb0e485e0>}, 27: {'description': 'Remblais noirs gravillonneux ', 'interval_number': 1, 'top': <core.orm.PositionOrm object at 0x7fafb0ec2ca0>, 'base': <core.orm.PositionOrm object at 0x7fafb0f26cd0>}, 28: {'description': 'Remblais de déchets de construction brun/beige avec briquailles', 'interval_number': 2, 'top': <core.orm.PositionOrm object at 0x7fafb0e88490>, 'base': <core.orm.PositionOrm object at 0x7fafb0e9c070>}, 29: {'description': \"Remblais avec briquaillons divers bruns/oranges - présence de scories - eau - pas d'irrisation\", 'interval_number': 3, 'top': <core.orm.PositionOrm object at 0x7fafb0e4ff10>, 'base': <core.orm.PositionOrm object at 0x7fafb0e4fe50>}, 30: {'description': 'Remblais avec strate de produit pur ', 'interval_number': 4, 'top': <core.orm.PositionOrm object at 0x7fafb0e4ff70>, 'base': <core.orm.PositionOrm object at 0x7fafb0e4f400>}, 31: {'description': 'Remblais en mélange avec limon verdâtre - présence de produit pur ', 'interval_number': 5, 'top': <core.orm.PositionOrm object at 0x7fafb0e4f520>, 'base': <core.orm.PositionOrm object at 0x7fafb0e5c2b0>}, 32: {'description': 'Retombées et limons verdâtre argilo-sableux - odeur', 'interval_number': 6, 'top': <core.orm.PositionOrm object at 0x7fafb0e5cfd0>, 'base': <core.orm.PositionOrm object at 0x7fafb0e5c370>}}\n",
      "\n",
      "|__ID:'F217'\n",
      "Error : No lithology matching with 'Gouge à moitié remplie - Caillasse' in given lexicon\n",
      "Warning : ++ interval's component replaced by default ('sable blanc')\n",
      "Summary : [Striplog(5 Intervals, start=0.0, stop=4.8)]\n",
      "{33: {'description': 'Remblais gris gravillonneux avec présence de déchets de construction oranges - odeur forte dans 1ère  strate de 0 à 0.6 m, légère odeur de 0.6 à 1 m ', 'interval_number': 0, 'top': <core.orm.PositionOrm object at 0x7fafb0e60a00>, 'base': <core.orm.PositionOrm object at 0x7fafb0e60940>}, 34: {'description': 'sable blanc', 'interval_number': 1, 'top': <core.orm.PositionOrm object at 0x7fafb0e60970>, 'base': <core.orm.PositionOrm object at 0x7fafb0e60820>}, 35: {'description': \"Gouge 1/3 remplie - caillasse en mélange avec limon noir/verdâtre - pas vraiment d'odeur\", 'interval_number': 2, 'top': <core.orm.PositionOrm object at 0x7fafb0e607f0>, 'base': <core.orm.PositionOrm object at 0x7fafb0e60b20>}, 36: {'description': 'Caillasse saturée avec présence de scories et de galets roulés (20%)', 'interval_number': 3, 'top': <core.orm.PositionOrm object at 0x7fafb0e60b50>, 'base': <core.orm.PositionOrm object at 0x7fafb0e60a30>}, 37: {'description': 'Limon sableux dense de couleur ocre barriolé plus foncé plus claire ', 'interval_number': 4, 'top': <core.orm.PositionOrm object at 0x7fafb0e60c10>, 'base': <core.orm.PositionOrm object at 0x7fafb0e60ca0>}}\n",
      "\n",
      "|__ID:'F221'\n",
      "Error : No lithology matching with 'Vide ' in given lexicon\n",
      "Warning : ++ interval's component replaced by default ('sable blanc')\n",
      "Summary : [Striplog(2 Intervals, start=0.0, stop=1.4)]\n",
      "{38: {'description': 'sable blanc', 'interval_number': 0, 'top': <core.orm.PositionOrm object at 0x7fafb0e60730>, 'base': <core.orm.PositionOrm object at 0x7fafb0e5c040>}, 39: {'description': 'Remblais caillouteux gris humide avec présence de laitiers - matrice limon sableux - présence de brique orange et de béton - bloqué à 1,4 m sur fondations ? ', 'interval_number': 1, 'top': <core.orm.PositionOrm object at 0x7fafb0e5cbe0>, 'base': <core.orm.PositionOrm object at 0x7fafb0e5cb50>}}\n",
      "\n",
      "|__ID:'F223'\n",
      "Summary : [Striplog(1 Intervals, start=0.0, stop=1.3)]\n",
      "{40: {'description': 'Remblais caillouteux gris humide dès la surface - graveleux et sableux - vers 1m présence de brique orange - bloqué sur béton à 1.3 m ', 'interval_number': 0, 'top': <core.orm.PositionOrm object at 0x7fafb0e9c160>, 'base': <core.orm.PositionOrm object at 0x7fafb0e92430>}}\n",
      "\n",
      "|__ID:'F225'\n",
      "Error : No lithology matching with 'Gouge vide' in given lexicon\n",
      "Warning : ++ interval's component replaced by default ('sable blanc')\n",
      "Summary : [Striplog(7 Intervals, start=0.0, stop=4.8)]\n",
      "{41: {'description': 'Remblais caillouteux gris foncé humide', 'interval_number': 0, 'top': <core.orm.PositionOrm object at 0x7fafb0e69910>, 'base': <core.orm.PositionOrm object at 0x7fafb0e693d0>}, 42: {'description': 'Remblais brun matrice sableuse et remblais de déchets de construction brun/beige', 'interval_number': 1, 'top': <core.orm.PositionOrm object at 0x7fafb0e690a0>, 'base': <core.orm.PositionOrm object at 0x7fafb0e69e50>}, 43: {'description': 'Remblais noirs gravilloneux ', 'interval_number': 2, 'top': <core.orm.PositionOrm object at 0x7fafb0e69fa0>, 'base': <core.orm.PositionOrm object at 0x7fafb0e5c0a0>}, 44: {'description': 'Matériaux gravillonneux noirs saturés gras - présence de schistes et scories - légère odeur vers 2 m dans strate saturée ', 'interval_number': 3, 'top': <core.orm.PositionOrm object at 0x7fafb0e5c070>, 'base': <core.orm.PositionOrm object at 0x7fafb0e5c820>}, 45: {'description': 'sable blanc', 'interval_number': 4, 'top': <core.orm.PositionOrm object at 0x7fafb0e72a00>, 'base': <core.orm.PositionOrm object at 0x7fafb0e72280>}, 46: {'description': 'Idem - Remblais gravillonneux avec scories saturés - interface remblais/sol en place ', 'interval_number': 5, 'top': <core.orm.PositionOrm object at 0x7fafb0e721c0>, 'base': <core.orm.PositionOrm object at 0x7fafb0e720a0>}, 47: {'description': 'Limon ocre argileux (collant)', 'interval_number': 6, 'top': <core.orm.PositionOrm object at 0x7fafb0e722b0>, 'base': <core.orm.PositionOrm object at 0x7fafb0e72370>}}\n",
      "\n",
      "|__ID:'F224'\n",
      "Summary : [Striplog(2 Intervals, start=0.0, stop=2.4)]\n",
      "{48: {'description': 'Remblais de déchets de construction orange/gris foncé avec gravier de taille pluricentimétrique', 'interval_number': 0, 'top': <core.orm.PositionOrm object at 0x7fafb0e72b80>, 'base': <core.orm.PositionOrm object at 0x7fafb0e72ca0>}, 49: {'description': 'Remblais de déchets de construction avec charge de taille centimétrique orange/gris - bloqué à 2.4 m sur massif en béton - Gras et odeur vers 2 m', 'interval_number': 1, 'top': <core.orm.PositionOrm object at 0x7fafb0e72c40>, 'base': <core.orm.PositionOrm object at 0x7fafb0e72fa0>}}\n",
      "\n",
      "|__ID:'F219'\n",
      "Summary : [Striplog(2 Intervals, start=0.0, stop=1.5)]\n",
      "{50: {'description': 'Remblais sableux jaune avec charge de déchets de construction gris foncé ', 'interval_number': 0, 'top': <core.orm.PositionOrm object at 0x7fafb0e5ce80>, 'base': <core.orm.PositionOrm object at 0x7fafb0e5cdf0>}, 51: {'description': 'Limon compact brun argilo sableux - bloqué à 1.5 m - petite strate de remblais juste au-dessus du refus', 'interval_number': 1, 'top': <core.orm.PositionOrm object at 0x7fafb0e696d0>, 'base': <core.orm.PositionOrm object at 0x7fafb0e69880>}}\n",
      "\n",
      "|__ID:'F220'\n",
      "Summary : [Striplog(1 Intervals, start=0.0, stop=0.5)]\n",
      "{52: {'description': 'Remblais de couleur noir avec présence de brique - bloqué à 0.4 m - 0.5 m', 'interval_number': 0, 'top': <core.orm.PositionOrm object at 0x7fafb0e5c1c0>, 'base': <core.orm.PositionOrm object at 0x7fafb0e464f0>}}\n",
      "\n",
      "|__ID:'F220 bis'\n",
      "Summary : [Striplog(1 Intervals, start=0.0, stop=1.2)]\n",
      "{53: {'description': 'Remblais de couleur noir avec présence de brique - bloqué à 1.2 m', 'interval_number': 0, 'top': <core.orm.PositionOrm object at 0x7fafb0e48ca0>, 'base': <core.orm.PositionOrm object at 0x7fafb0e60cd0>}}\n",
      "\n",
      "|__ID:'F226'\n",
      "Summary : [Striplog(6 Intervals, start=0.0, stop=4.8)]\n",
      "{54: {'description': 'Remblais de couleur noir avec présence de brique ', 'interval_number': 0, 'top': <core.orm.PositionOrm object at 0x7fafb0e72250>, 'base': <core.orm.PositionOrm object at 0x7fafb0e60190>}, 55: {'description': 'Limon brun argileux ', 'interval_number': 1, 'top': <core.orm.PositionOrm object at 0x7fafb0e4ffd0>, 'base': <core.orm.PositionOrm object at 0x7fafb0dfefa0>}, 56: {'description': 'Remblais (présence de schistes et scories, charge centimétrique) gras vers 2 m et irrisation ', 'interval_number': 2, 'top': <core.orm.PositionOrm object at 0x7fafb0dfef40>, 'base': <core.orm.PositionOrm object at 0x7fafb0dfebe0>}, 57: {'description': 'Remblais avec présence de déchets de construction saturé + présence de schistes', 'interval_number': 3, 'top': <core.orm.PositionOrm object at 0x7fafb0dfedc0>, 'base': <core.orm.PositionOrm object at 0x7fafb0dfeca0>}, 58: {'description': 'Mélange de limon verdâtre argileux et de remblais saturés - interface remblais/sol en place ', 'interval_number': 4, 'top': <core.orm.PositionOrm object at 0x7fafb0dfe6d0>, 'base': <core.orm.PositionOrm object at 0x7fafb0dfe040>}, 59: {'description': '1ère moitié de gouge : retombées puis Limon verdâtre brun/ocre humide', 'interval_number': 5, 'top': <core.orm.PositionOrm object at 0x7fafb0e69b50>, 'base': <core.orm.PositionOrm object at 0x7fafb0dfeb20>}}\n",
      "\n",
      "\n"
     ]
    },
    {
     "name": "stdout",
     "output_type": "stream",
     "text": [
      "End of the process : 15 unique ID found\n"
     ]
    },
    {
     "name": "stderr",
     "output_type": "stream",
     "text": [
      "/home/su530201/PycharmProjects/GSDMA/utils/io.py:518: SAWarning: relationship 'ComponentOrm.intervals' will copy column Components.id to column Linkintervalcomponent.comp_id, which conflicts with relationship(s): 'IntervalOrm.components' (copies Components.id to Linkintervalcomponent.comp_id). If this is not the intention, consider if these relationships should be linked with back_populates, or if viewonly=True should be applied to one or more if they are read-only. For the less common case that foreign key constraints are partially overlapping, the orm.foreign() annotation can be used to isolate the columns that should be written towards.   The 'overlaps' parameter may be used to remove this warning.\n",
      "  boreholes.append(BoreholeOrm(id=bh_name))\n",
      "/home/su530201/PycharmProjects/GSDMA/utils/io.py:518: SAWarning: relationship 'ComponentOrm.intervals' will copy column Intervals.id to column Linkintervalcomponent.int_id, which conflicts with relationship(s): 'IntervalOrm.components' (copies Intervals.id to Linkintervalcomponent.int_id). If this is not the intention, consider if these relationships should be linked with back_populates, or if viewonly=True should be applied to one or more if they are read-only. For the less common case that foreign key constraints are partially overlapping, the orm.foreign() annotation can be used to isolate the columns that should be written towards.   The 'overlaps' parameter may be used to remove this warning.\n",
      "  boreholes.append(BoreholeOrm(id=bh_name))\n",
      "/home/su530201/PycharmProjects/GSDMA/utils/io.py:518: SAWarning: relationship 'ComponentOrm.component_assoc' will copy column Components.id to column Linkintervalcomponent.comp_id, which conflicts with relationship(s): 'IntervalOrm.components' (copies Components.id to Linkintervalcomponent.comp_id), 'ComponentOrm.intervals' (copies Components.id to Linkintervalcomponent.comp_id). If this is not the intention, consider if these relationships should be linked with back_populates, or if viewonly=True should be applied to one or more if they are read-only. For the less common case that foreign key constraints are partially overlapping, the orm.foreign() annotation can be used to isolate the columns that should be written towards.   The 'overlaps' parameter may be used to remove this warning.\n",
      "  boreholes.append(BoreholeOrm(id=bh_name))\n",
      "/home/su530201/PycharmProjects/GSDMA/utils/io.py:518: SAWarning: relationship 'LinkIntervalComponentOrm.component' will copy column Components.id to column Linkintervalcomponent.comp_id, which conflicts with relationship(s): 'IntervalOrm.components' (copies Components.id to Linkintervalcomponent.comp_id), 'ComponentOrm.intervals' (copies Components.id to Linkintervalcomponent.comp_id). If this is not the intention, consider if these relationships should be linked with back_populates, or if viewonly=True should be applied to one or more if they are read-only. For the less common case that foreign key constraints are partially overlapping, the orm.foreign() annotation can be used to isolate the columns that should be written towards.   The 'overlaps' parameter may be used to remove this warning.\n",
      "  boreholes.append(BoreholeOrm(id=bh_name))\n",
      "/home/su530201/PycharmProjects/GSDMA/utils/io.py:518: SAWarning: relationship 'IntervalOrm.interval_assoc' will copy column Intervals.id to column Linkintervalcomponent.int_id, which conflicts with relationship(s): 'IntervalOrm.components' (copies Intervals.id to Linkintervalcomponent.int_id), 'ComponentOrm.intervals' (copies Intervals.id to Linkintervalcomponent.int_id). If this is not the intention, consider if these relationships should be linked with back_populates, or if viewonly=True should be applied to one or more if they are read-only. For the less common case that foreign key constraints are partially overlapping, the orm.foreign() annotation can be used to isolate the columns that should be written towards.   The 'overlaps' parameter may be used to remove this warning.\n",
      "  boreholes.append(BoreholeOrm(id=bh_name))\n",
      "/home/su530201/PycharmProjects/GSDMA/utils/io.py:518: SAWarning: relationship 'LinkIntervalComponentOrm.interval' will copy column Intervals.id to column Linkintervalcomponent.int_id, which conflicts with relationship(s): 'IntervalOrm.components' (copies Intervals.id to Linkintervalcomponent.int_id), 'ComponentOrm.intervals' (copies Intervals.id to Linkintervalcomponent.int_id). If this is not the intention, consider if these relationships should be linked with back_populates, or if viewonly=True should be applied to one or more if they are read-only. For the less common case that foreign key constraints are partially overlapping, the orm.foreign() annotation can be used to isolate the columns that should be written towards.   The 'overlaps' parameter may be used to remove this warning.\n",
      "  boreholes.append(BoreholeOrm(id=bh_name))\n"
     ]
    }
   ],
   "source": [
    "boreholes, components, link_intv_comp = boreholes_from_files(bhs_df, verbose=True,\n",
    "                                                litho_field='Description',\n",
    "                                                lexicon='fr', #Lexicon.default(),\n",
    "                                                diam_field='Diam_for', \n",
    "                                                litho_top_field='Litho_top',\n",
    "                                                litho_base_field='Litho_base',\n",
    "                                                thick_field='Long_for')"
   ]
  },
  {
   "cell_type": "code",
   "execution_count": 12,
   "metadata": {},
   "outputs": [
    {
     "data": {
      "text/plain": [
       "{0: Component({'lithology': 'sable', 'colour': 'rouge'}),\n",
       " 1: Component({'lithology': 'remblais', 'colour': 'gris verdâtre'}),\n",
       " 2: Component({'lithology': 'remblais', 'Pollutant': 'naphtalène'}),\n",
       " 3: Component({'lithology': 'limon', 'colour': 'verdâtre', 'grainsize': 'grossiers'}),\n",
       " 4: Component({'lithology': 'remblais', 'grainsize': 'grossiers', 'Pollutant': 'naphtalène'}),\n",
       " 5: Component({'lithology': 'remblais', 'colour': 'gris'}),\n",
       " 6: Component({'modifier': 'sableux', 'colour': 'verdâtres'}),\n",
       " 7: Component({'lithology': 'limon'}),\n",
       " 8: Component({'lithology': 'remblais', 'modifier': 'sableuse', 'colour': 'sableuse'}),\n",
       " 9: Component({'grainsize': 'grossiers'}),\n",
       " 10: Component({'lithology': 'limons', 'colour': 'verdâtre'}),\n",
       " 11: Component({'lithology': 'remblais', 'grainsize': 'grossiers'}),\n",
       " 12: Component({'lithology': 'limons', 'colour': 'noirs'}),\n",
       " 13: Component({'lithology': 'remblais', 'modifier': 'sableux', 'colour': 'noirs gris'}),\n",
       " 14: Component({'material': 'scories', 'grainsize': 'grossiers'}),\n",
       " 15: Component({'lithology': 'limons', 'modifier': 'argileux', 'colour': 'verdâtre'}),\n",
       " 16: Component({'lithology': 'remblais', 'material': 'scories', 'grainsize': 'grossiers'}),\n",
       " 17: Component({'lithology': 'remblais', 'colour': 'noirs'}),\n",
       " 18: Component({'modifier': 'saturée', 'colour': 'grises'}),\n",
       " 19: Component({'material': 'scories', 'modifier': 'saturée', 'quantity': 'moins'}),\n",
       " 20: Component({'modifier': 'saturée'}),\n",
       " 21: Component({'lithology': 'remblais', 'grainsize': 'fins'}),\n",
       " 22: Component({'lithology': 'limon', 'colour': 'verdâtre'}),\n",
       " 23: Component({'lithology': 'remblais', 'modifier': 'graveleux', 'colour': 'noire'}),\n",
       " 24: Component({'lithology': 'sable'}),\n",
       " 25: Component({'lithology': 'remblais', 'material': 'scories'}),\n",
       " 26: Component({'lithology': 'limons', 'modifier': 'sableux', 'colour': 'verdâtre'}),\n",
       " 27: Component({'lithology': 'remblais'}),\n",
       " 28: Component({'lithology': 'remblais', 'colour': 'verdâtre'}),\n",
       " 29: Component({'lithology': 'limon', 'colour': 'noir verdâtre'}),\n",
       " 30: Component({'material': 'scories', 'modifier': 'saturée', 'grainsize': 'galets'}),\n",
       " 31: Component({'lithology': 'limon', 'modifier': 'sableux', 'colour': 'foncé'}),\n",
       " 32: Component({'lithology': 'remblais', 'material': 'béton', 'modifier': 'caillouteux', 'colour': 'gris'}),\n",
       " 33: Component({'lithology': 'schistes', 'material': 'scories', 'modifier': 'saturée', 'colour': 'noirs'}),\n",
       " 34: Component({'lithology': 'limon', 'modifier': 'argileux'}),\n",
       " 35: Component({'lithology': 'remblais', 'modifier': 'caillouteux', 'colour': 'gris foncé'}),\n",
       " 36: Component({'lithology': 'remblais', 'material': 'béton', 'colour': 'gris', 'grainsize': 'centimétrique'}),\n",
       " 37: Component({'lithology': 'remblais', 'colour': 'gris foncé', 'grainsize': 'pluricentimétrique'}),\n",
       " 38: Component({'lithology': 'limon', 'modifier': 'sableux'}),\n",
       " 39: Component({'lithology': 'remblais', 'modifier': 'sableux', 'colour': 'jaune'}),\n",
       " 40: Component({'lithology': 'remblais', 'colour': 'noir'}),\n",
       " 41: Component({'lithology': 'remblais', 'material': 'scories', 'grainsize': 'centimétrique'}),\n",
       " 42: Component({'lithology': 'remblais', 'modifier': 'saturé'}),\n",
       " 43: Component({'lithology': 'limon', 'modifier': 'argileux', 'colour': 'verdâtre'})}"
      ]
     },
     "execution_count": 12,
     "metadata": {},
     "output_type": "execute_result"
    }
   ],
   "source": [
    "components"
   ]
  },
  {
   "cell_type": "code",
   "execution_count": 13,
   "metadata": {},
   "outputs": [],
   "source": [
    "memoris_components = [Component({'lithology': 'remblais'}),\n",
    "              Component({'lithology': 'limon'}),\n",
    "              Component({'lithology': 'schistes'}),\n",
    "              Component({'lithology': 'sable'}),\n",
    "              Component({'lithology': 'anthropique'})\n",
    "              ]\n",
    "list_of_decors=[]\n",
    "hatches = ['=', 'x', '.', 's', '=']\n",
    "colours = ['#888888', '#882222', '#AAAAAA', '#CC22CC', '#CC2222']\n",
    "\n",
    "for i in range(len(memoris_components)):\n",
    "    if hasattr(memoris_components[i], 'colour'):\n",
    "        c = memoris_components[i].colour\n",
    "    else:\n",
    "        c=colours[i]\n",
    "    \n",
    "    if hasattr(memoris_components[i], 'hatch'):\n",
    "        h = memoris_components[i].hatch\n",
    "    else:\n",
    "        h=hatches[i]\n",
    "        \n",
    "    d = {'color': c,\n",
    "         'hatch': h,\n",
    "         'component': memoris_components[i],\n",
    "         'width': 3}\n",
    "    decor = Decor(d)\n",
    "    list_of_decors.append(decor)\n",
    "    \n",
    "memoris_legend = Legend(list_of_decors)"
   ]
  },
  {
   "cell_type": "raw",
   "metadata": {},
   "source": [
    "boreholes[170].intervals[850].top.x, boreholes[170].intervals[850].top.y"
   ]
  },
  {
   "cell_type": "code",
   "execution_count": 14,
   "metadata": {},
   "outputs": [
    {
     "data": {
      "text/html": [
       "<div>\n",
       "<style scoped>\n",
       "    .dataframe tbody tr th:only-of-type {\n",
       "        vertical-align: middle;\n",
       "    }\n",
       "\n",
       "    .dataframe tbody tr th {\n",
       "        vertical-align: top;\n",
       "    }\n",
       "\n",
       "    .dataframe thead th {\n",
       "        text-align: right;\n",
       "    }\n",
       "</style>\n",
       "<table border=\"1\" class=\"dataframe\">\n",
       "  <thead>\n",
       "    <tr style=\"text-align: right;\">\n",
       "      <th></th>\n",
       "      <th>ID</th>\n",
       "      <th>X</th>\n",
       "      <th>Y</th>\n",
       "      <th>Z</th>\n",
       "      <th>Litho_top</th>\n",
       "      <th>Description</th>\n",
       "      <th>Litho_base</th>\n",
       "      <th>Diam_for</th>\n",
       "      <th>Long_for</th>\n",
       "    </tr>\n",
       "  </thead>\n",
       "  <tbody>\n",
       "    <tr>\n",
       "      <th>2</th>\n",
       "      <td>F205</td>\n",
       "      <td>152887.693175</td>\n",
       "      <td>122594.619977</td>\n",
       "      <td>101.804167</td>\n",
       "      <td>0.0</td>\n",
       "      <td>Couche de boue en surface liée à l'interventio...</td>\n",
       "      <td>0.2</td>\n",
       "      <td>75.0</td>\n",
       "      <td>4.8</td>\n",
       "    </tr>\n",
       "    <tr>\n",
       "      <th>3</th>\n",
       "      <td>F205</td>\n",
       "      <td>152887.693175</td>\n",
       "      <td>122594.619977</td>\n",
       "      <td>101.804167</td>\n",
       "      <td>0.2</td>\n",
       "      <td>Limon brun</td>\n",
       "      <td>0.4</td>\n",
       "      <td>75.0</td>\n",
       "      <td>4.8</td>\n",
       "    </tr>\n",
       "    <tr>\n",
       "      <th>4</th>\n",
       "      <td>F205</td>\n",
       "      <td>152887.693175</td>\n",
       "      <td>122594.619977</td>\n",
       "      <td>101.804167</td>\n",
       "      <td>0.4</td>\n",
       "      <td>Remblais gris gravillonneux avec présence de d...</td>\n",
       "      <td>1.2</td>\n",
       "      <td>75.0</td>\n",
       "      <td>4.8</td>\n",
       "    </tr>\n",
       "    <tr>\n",
       "      <th>5</th>\n",
       "      <td>F205</td>\n",
       "      <td>152887.693175</td>\n",
       "      <td>122594.619977</td>\n",
       "      <td>101.804167</td>\n",
       "      <td>1.2</td>\n",
       "      <td>Présence d'eau avec remblais pollués (odeur fo...</td>\n",
       "      <td>2.4</td>\n",
       "      <td>75.0</td>\n",
       "      <td>4.8</td>\n",
       "    </tr>\n",
       "    <tr>\n",
       "      <th>6</th>\n",
       "      <td>F205</td>\n",
       "      <td>152887.693175</td>\n",
       "      <td>122594.619977</td>\n",
       "      <td>101.804167</td>\n",
       "      <td>2.4</td>\n",
       "      <td>Remblais grossiers saturés avec présence de pr...</td>\n",
       "      <td>3.2</td>\n",
       "      <td>75.0</td>\n",
       "      <td>4.8</td>\n",
       "    </tr>\n",
       "    <tr>\n",
       "      <th>7</th>\n",
       "      <td>F205</td>\n",
       "      <td>152887.693175</td>\n",
       "      <td>122594.619977</td>\n",
       "      <td>101.804167</td>\n",
       "      <td>3.2</td>\n",
       "      <td>Alluvions verdâtres argilo-sableux (odeur dans...</td>\n",
       "      <td>3.6</td>\n",
       "      <td>75.0</td>\n",
       "      <td>4.8</td>\n",
       "    </tr>\n",
       "    <tr>\n",
       "      <th>8</th>\n",
       "      <td>F205</td>\n",
       "      <td>152887.693175</td>\n",
       "      <td>122594.619977</td>\n",
       "      <td>101.804167</td>\n",
       "      <td>3.6</td>\n",
       "      <td>Retombées des strates supérieures - Limon verd...</td>\n",
       "      <td>4.8</td>\n",
       "      <td>75.0</td>\n",
       "      <td>4.8</td>\n",
       "    </tr>\n",
       "  </tbody>\n",
       "</table>\n",
       "</div>"
      ],
      "text/plain": [
       "     ID              X              Y           Z  Litho_top  \\\n",
       "2  F205  152887.693175  122594.619977  101.804167        0.0   \n",
       "3  F205  152887.693175  122594.619977  101.804167        0.2   \n",
       "4  F205  152887.693175  122594.619977  101.804167        0.4   \n",
       "5  F205  152887.693175  122594.619977  101.804167        1.2   \n",
       "6  F205  152887.693175  122594.619977  101.804167        2.4   \n",
       "7  F205  152887.693175  122594.619977  101.804167        3.2   \n",
       "8  F205  152887.693175  122594.619977  101.804167        3.6   \n",
       "\n",
       "                                         Description  Litho_base  Diam_for  \\\n",
       "2  Couche de boue en surface liée à l'interventio...         0.2      75.0   \n",
       "3                                        Limon brun          0.4      75.0   \n",
       "4  Remblais gris gravillonneux avec présence de d...         1.2      75.0   \n",
       "5  Présence d'eau avec remblais pollués (odeur fo...         2.4      75.0   \n",
       "6  Remblais grossiers saturés avec présence de pr...         3.2      75.0   \n",
       "7  Alluvions verdâtres argilo-sableux (odeur dans...         3.6      75.0   \n",
       "8  Retombées des strates supérieures - Limon verd...         4.8      75.0   \n",
       "\n",
       "   Long_for  \n",
       "2       4.8  \n",
       "3       4.8  \n",
       "4       4.8  \n",
       "5       4.8  \n",
       "6       4.8  \n",
       "7       4.8  \n",
       "8       4.8  "
      ]
     },
     "execution_count": 14,
     "metadata": {},
     "output_type": "execute_result"
    }
   ],
   "source": [
    "df.query('ID==\"F205\"')"
   ]
  },
  {
   "cell_type": "code",
   "execution_count": 15,
   "metadata": {},
   "outputs": [
    {
     "data": {
      "text/plain": [
       "[<core.orm.BoreholeOrm>(Name=F201, Length=4.8, Diameter=75.0, Intervals=2),\n",
       " <core.orm.BoreholeOrm>(Name=F205, Length=33.6, Diameter=75.0, Intervals=7),\n",
       " <core.orm.BoreholeOrm>(Name=F208, Length=24.0, Diameter=75.0, Intervals=5),\n",
       " <core.orm.BoreholeOrm>(Name=F212, Length=24.0, Diameter=75.0, Intervals=5),\n",
       " <core.orm.BoreholeOrm>(Name=F207, Length=33.6, Diameter=75.0, Intervals=7),\n",
       " <core.orm.BoreholeOrm>(Name=F214, Length=33.6, Diameter=75.0, Intervals=7),\n",
       " <core.orm.BoreholeOrm>(Name=F217, Length=24.0, Diameter=75.0, Intervals=5),\n",
       " <core.orm.BoreholeOrm>(Name=F221, Length=2.8, Diameter=75.0, Intervals=2),\n",
       " <core.orm.BoreholeOrm>(Name=F223, Length=1.3, Diameter=75.0, Intervals=1),\n",
       " <core.orm.BoreholeOrm>(Name=F225, Length=33.6, Diameter=75.0, Intervals=7),\n",
       " <core.orm.BoreholeOrm>(Name=F224, Length=4.8, Diameter=75.0, Intervals=2),\n",
       " <core.orm.BoreholeOrm>(Name=F219, Length=3.0, Diameter=75.0, Intervals=2),\n",
       " <core.orm.BoreholeOrm>(Name=F220, Length=0.5, Diameter=75.0, Intervals=1),\n",
       " <core.orm.BoreholeOrm>(Name=F220 bis, Length=1.2, Diameter=75.0, Intervals=1),\n",
       " <core.orm.BoreholeOrm>(Name=F226, Length=28.8, Diameter=75.0, Intervals=6)]"
      ]
     },
     "execution_count": 15,
     "metadata": {},
     "output_type": "execute_result"
    }
   ],
   "source": [
    "boreholes"
   ]
  },
  {
   "cell_type": "code",
   "execution_count": 16,
   "metadata": {
    "scrolled": true
   },
   "outputs": [
    {
     "data": {
      "text/plain": [
       "{0: Component({'lithology': 'sable', 'colour': 'rouge'}),\n",
       " 1: Component({'lithology': 'remblais', 'colour': 'gris verdâtre'}),\n",
       " 2: Component({'lithology': 'remblais', 'Pollutant': 'naphtalène'}),\n",
       " 3: Component({'lithology': 'limon', 'colour': 'verdâtre', 'grainsize': 'grossiers'}),\n",
       " 4: Component({'lithology': 'remblais', 'grainsize': 'grossiers', 'Pollutant': 'naphtalène'}),\n",
       " 5: Component({'lithology': 'remblais', 'colour': 'gris'}),\n",
       " 6: Component({'modifier': 'sableux', 'colour': 'verdâtres'}),\n",
       " 7: Component({'lithology': 'limon'}),\n",
       " 8: Component({'lithology': 'remblais', 'modifier': 'sableuse', 'colour': 'sableuse'}),\n",
       " 9: Component({'grainsize': 'grossiers'}),\n",
       " 10: Component({'lithology': 'limons', 'colour': 'verdâtre'}),\n",
       " 11: Component({'lithology': 'remblais', 'grainsize': 'grossiers'}),\n",
       " 12: Component({'lithology': 'limons', 'colour': 'noirs'}),\n",
       " 13: Component({'lithology': 'remblais', 'modifier': 'sableux', 'colour': 'noirs gris'}),\n",
       " 14: Component({'material': 'scories', 'grainsize': 'grossiers'}),\n",
       " 15: Component({'lithology': 'limons', 'modifier': 'argileux', 'colour': 'verdâtre'}),\n",
       " 16: Component({'lithology': 'remblais', 'material': 'scories', 'grainsize': 'grossiers'}),\n",
       " 17: Component({'lithology': 'remblais', 'colour': 'noirs'}),\n",
       " 18: Component({'modifier': 'saturée', 'colour': 'grises'}),\n",
       " 19: Component({'material': 'scories', 'modifier': 'saturée', 'quantity': 'moins'}),\n",
       " 20: Component({'modifier': 'saturée'}),\n",
       " 21: Component({'lithology': 'remblais', 'grainsize': 'fins'}),\n",
       " 22: Component({'lithology': 'limon', 'colour': 'verdâtre'}),\n",
       " 23: Component({'lithology': 'remblais', 'modifier': 'graveleux', 'colour': 'noire'}),\n",
       " 24: Component({'lithology': 'sable'}),\n",
       " 25: Component({'lithology': 'remblais', 'material': 'scories'}),\n",
       " 26: Component({'lithology': 'limons', 'modifier': 'sableux', 'colour': 'verdâtre'}),\n",
       " 27: Component({'lithology': 'remblais'}),\n",
       " 28: Component({'lithology': 'remblais', 'colour': 'verdâtre'}),\n",
       " 29: Component({'lithology': 'limon', 'colour': 'noir verdâtre'}),\n",
       " 30: Component({'material': 'scories', 'modifier': 'saturée', 'grainsize': 'galets'}),\n",
       " 31: Component({'lithology': 'limon', 'modifier': 'sableux', 'colour': 'foncé'}),\n",
       " 32: Component({'lithology': 'remblais', 'material': 'béton', 'modifier': 'caillouteux', 'colour': 'gris'}),\n",
       " 33: Component({'lithology': 'schistes', 'material': 'scories', 'modifier': 'saturée', 'colour': 'noirs'}),\n",
       " 34: Component({'lithology': 'limon', 'modifier': 'argileux'}),\n",
       " 35: Component({'lithology': 'remblais', 'modifier': 'caillouteux', 'colour': 'gris foncé'}),\n",
       " 36: Component({'lithology': 'remblais', 'material': 'béton', 'colour': 'gris', 'grainsize': 'centimétrique'}),\n",
       " 37: Component({'lithology': 'remblais', 'colour': 'gris foncé', 'grainsize': 'pluricentimétrique'}),\n",
       " 38: Component({'lithology': 'limon', 'modifier': 'sableux'}),\n",
       " 39: Component({'lithology': 'remblais', 'modifier': 'sableux', 'colour': 'jaune'}),\n",
       " 40: Component({'lithology': 'remblais', 'colour': 'noir'}),\n",
       " 41: Component({'lithology': 'remblais', 'material': 'scories', 'grainsize': 'centimétrique'}),\n",
       " 42: Component({'lithology': 'remblais', 'modifier': 'saturé'}),\n",
       " 43: Component({'lithology': 'limon', 'modifier': 'argileux', 'colour': 'verdâtre'})}"
      ]
     },
     "execution_count": 16,
     "metadata": {},
     "output_type": "execute_result"
    }
   ],
   "source": [
    "components"
   ]
  },
  {
   "cell_type": "code",
   "execution_count": 17,
   "metadata": {},
   "outputs": [
    {
     "data": {
      "text/plain": [
       "(15, 44)"
      ]
     },
     "execution_count": 17,
     "metadata": {},
     "output_type": "execute_result"
    }
   ],
   "source": [
    "len(boreholes), len(components)"
   ]
  },
  {
   "cell_type": "markdown",
   "metadata": {},
   "source": [
    "## Create a project and save data in a database"
   ]
  },
  {
   "cell_type": "code",
   "execution_count": 18,
   "metadata": {},
   "outputs": [],
   "source": [
    "remove('tmp_files/tfe_orm_db.db')"
   ]
  },
  {
   "cell_type": "code",
   "execution_count": 19,
   "metadata": {},
   "outputs": [],
   "source": [
    "engine = create_engine('sqlite:///tmp_files/tfe_orm_db.db', echo=True)"
   ]
  },
  {
   "cell_type": "code",
   "execution_count": 20,
   "metadata": {
    "scrolled": true
   },
   "outputs": [
    {
     "name": "stdout",
     "output_type": "stream",
     "text": [
      "2021-06-15 09:28:10,307 INFO sqlalchemy.engine.Engine BEGIN (implicit)\n",
      "2021-06-15 09:28:10,309 INFO sqlalchemy.engine.Engine PRAGMA main.table_info(\"Boreholes\")\n",
      "2021-06-15 09:28:10,315 INFO sqlalchemy.engine.Engine [raw sql] ()\n",
      "2021-06-15 09:28:10,319 INFO sqlalchemy.engine.Engine PRAGMA temp.table_info(\"Boreholes\")\n",
      "2021-06-15 09:28:10,320 INFO sqlalchemy.engine.Engine [raw sql] ()\n",
      "2021-06-15 09:28:10,322 INFO sqlalchemy.engine.Engine PRAGMA main.table_info(\"Positions\")\n",
      "2021-06-15 09:28:10,323 INFO sqlalchemy.engine.Engine [raw sql] ()\n",
      "2021-06-15 09:28:10,324 INFO sqlalchemy.engine.Engine PRAGMA temp.table_info(\"Positions\")\n",
      "2021-06-15 09:28:10,325 INFO sqlalchemy.engine.Engine [raw sql] ()\n",
      "2021-06-15 09:28:10,327 INFO sqlalchemy.engine.Engine PRAGMA main.table_info(\"Intervals\")\n",
      "2021-06-15 09:28:10,331 INFO sqlalchemy.engine.Engine [raw sql] ()\n",
      "2021-06-15 09:28:10,333 INFO sqlalchemy.engine.Engine PRAGMA temp.table_info(\"Intervals\")\n",
      "2021-06-15 09:28:10,334 INFO sqlalchemy.engine.Engine [raw sql] ()\n",
      "2021-06-15 09:28:10,336 INFO sqlalchemy.engine.Engine PRAGMA main.table_info(\"Components\")\n",
      "2021-06-15 09:28:10,338 INFO sqlalchemy.engine.Engine [raw sql] ()\n",
      "2021-06-15 09:28:10,341 INFO sqlalchemy.engine.Engine PRAGMA temp.table_info(\"Components\")\n",
      "2021-06-15 09:28:10,343 INFO sqlalchemy.engine.Engine [raw sql] ()\n",
      "2021-06-15 09:28:10,344 INFO sqlalchemy.engine.Engine PRAGMA main.table_info(\"Linkintervalcomponent\")\n",
      "2021-06-15 09:28:10,348 INFO sqlalchemy.engine.Engine [raw sql] ()\n",
      "2021-06-15 09:28:10,355 INFO sqlalchemy.engine.Engine PRAGMA temp.table_info(\"Linkintervalcomponent\")\n",
      "2021-06-15 09:28:10,356 INFO sqlalchemy.engine.Engine [raw sql] ()\n",
      "2021-06-15 09:28:10,359 INFO sqlalchemy.engine.Engine \n",
      "CREATE TABLE \"Boreholes\" (\n",
      "\tid VARCHAR(32) NOT NULL, \n",
      "\tlength FLOAT, \n",
      "\tdiameter FLOAT, \n",
      "\tPRIMARY KEY (id)\n",
      ")\n",
      "\n",
      "\n",
      "2021-06-15 09:28:10,361 INFO sqlalchemy.engine.Engine [no key 0.00183s] ()\n",
      "2021-06-15 09:28:10,368 INFO sqlalchemy.engine.Engine \n",
      "CREATE TABLE \"Positions\" (\n",
      "\tid INTEGER NOT NULL, \n",
      "\tupper FLOAT, \n",
      "\tmiddle FLOAT, \n",
      "\tlower FLOAT, \n",
      "\tx FLOAT, \n",
      "\ty FLOAT, \n",
      "\tPRIMARY KEY (id)\n",
      ")\n",
      "\n",
      "\n",
      "2021-06-15 09:28:10,373 INFO sqlalchemy.engine.Engine [no key 0.00519s] ()\n",
      "2021-06-15 09:28:10,389 INFO sqlalchemy.engine.Engine \n",
      "CREATE TABLE \"Components\" (\n",
      "\tid INTEGER NOT NULL, \n",
      "\tdescription VARCHAR(32), \n",
      "\tPRIMARY KEY (id)\n",
      ")\n",
      "\n",
      "\n",
      "2021-06-15 09:28:10,390 INFO sqlalchemy.engine.Engine [no key 0.00070s] ()\n",
      "2021-06-15 09:28:10,394 INFO sqlalchemy.engine.Engine \n",
      "CREATE TABLE \"Intervals\" (\n",
      "\tid INTEGER NOT NULL, \n",
      "\tborehole VARCHAR(32), \n",
      "\tinterval_number INTEGER, \n",
      "\tdescription VARCHAR(32), \n",
      "\ttop_id INTEGER, \n",
      "\tbase_id INTEGER, \n",
      "\tPRIMARY KEY (id), \n",
      "\tFOREIGN KEY(borehole) REFERENCES \"Boreholes\" (id), \n",
      "\tFOREIGN KEY(top_id) REFERENCES \"Positions\" (id), \n",
      "\tFOREIGN KEY(base_id) REFERENCES \"Positions\" (id)\n",
      ")\n",
      "\n",
      "\n",
      "2021-06-15 09:28:10,397 INFO sqlalchemy.engine.Engine [no key 0.00247s] ()\n",
      "2021-06-15 09:28:10,407 INFO sqlalchemy.engine.Engine \n",
      "CREATE TABLE \"Linkintervalcomponent\" (\n",
      "\tint_id INTEGER NOT NULL, \n",
      "\tcomp_id INTEGER NOT NULL, \n",
      "\textra_data VARCHAR(256), \n",
      "\tPRIMARY KEY (int_id, comp_id), \n",
      "\tFOREIGN KEY(int_id) REFERENCES \"Intervals\" (id), \n",
      "\tFOREIGN KEY(comp_id) REFERENCES \"Components\" (id)\n",
      ")\n",
      "\n",
      "\n",
      "2021-06-15 09:28:10,408 INFO sqlalchemy.engine.Engine [no key 0.00112s] ()\n",
      "2021-06-15 09:28:10,412 INFO sqlalchemy.engine.Engine COMMIT\n"
     ]
    }
   ],
   "source": [
    "Base.metadata.create_all(engine)"
   ]
  },
  {
   "cell_type": "code",
   "execution_count": 21,
   "metadata": {},
   "outputs": [],
   "source": [
    "Session = sessionmaker(bind=engine)\n",
    "session = Session()"
   ]
  },
  {
   "cell_type": "code",
   "execution_count": 22,
   "metadata": {},
   "outputs": [
    {
     "name": "stdout",
     "output_type": "stream",
     "text": [
      "2021-06-15 09:28:10,432 INFO sqlalchemy.engine.Engine BEGIN (implicit)\n",
      "2021-06-15 09:28:10,440 INFO sqlalchemy.engine.Engine SELECT \"Boreholes\".id AS \"Boreholes_id\", \"Boreholes\".length AS \"Boreholes_length\", \"Boreholes\".diameter AS \"Boreholes_diameter\" \n",
      "FROM \"Boreholes\"\n",
      "2021-06-15 09:28:10,441 INFO sqlalchemy.engine.Engine [generated in 0.00140s] ()\n",
      "Decor({'_colour': '#888888', 'hatch': '=', 'component': Component({'lithology': 'remblais'}), 'width': 3.0})\n",
      "Decor({'_colour': '#882222', 'hatch': 'x', 'component': Component({'lithology': 'limon'}), 'width': 3.0})\n",
      "Decor({'_colour': '#aaaaaa', 'hatch': '.', 'component': Component({'lithology': 'schistes'}), 'width': 3.0})\n",
      "Decor({'_colour': '#cc22cc', 'hatch': 's', 'component': Component({'lithology': 'sable'}), 'width': 3.0})\n",
      "Decor({'_colour': '#cc2222', 'hatch': '=', 'component': Component({'lithology': 'anthropique'}), 'width': 3.0})\n",
      "2021-06-15 09:28:10,463 INFO sqlalchemy.engine.Engine INSERT INTO \"Components\" (id, description) VALUES (?, ?)\n",
      "2021-06-15 09:28:10,465 INFO sqlalchemy.engine.Engine [generated in 0.00232s] ((0, 'Sable, rouge'), (1, 'Remblais, gris verdâtre'), (2, 'Remblais, naphtalène'), (3, 'Limon, verdâtre, grossiers'), (4, 'Remblais, grossiers, naphtalène'), (5, 'Remblais, gris'), (6, 'Sableux, verdâtres'), (7, 'Limon')  ... displaying 10 of 44 total bound parameter sets ...  (42, 'Remblais, saturé'), (43, 'Limon, argileux, verdâtre'))\n",
      "2021-06-15 09:28:10,471 INFO sqlalchemy.engine.Engine COMMIT\n",
      "2021-06-15 09:28:10,477 INFO sqlalchemy.engine.Engine BEGIN (implicit)\n",
      "2021-06-15 09:28:10,483 INFO sqlalchemy.engine.Engine SELECT \"Boreholes\".id AS \"Boreholes_id\", \"Boreholes\".length AS \"Boreholes_length\", \"Boreholes\".diameter AS \"Boreholes_diameter\" \n",
      "FROM \"Boreholes\"\n",
      "2021-06-15 09:28:10,484 INFO sqlalchemy.engine.Engine [cached since 0.04411s ago] ()\n",
      "Decor({'_colour': '#888888', 'hatch': '=', 'component': Component({'lithology': 'remblais'}), 'width': 3.0})\n",
      "Decor({'_colour': '#882222', 'hatch': 'x', 'component': Component({'lithology': 'limon'}), 'width': 3.0})\n",
      "Decor({'_colour': '#aaaaaa', 'hatch': '.', 'component': Component({'lithology': 'schistes'}), 'width': 3.0})\n",
      "Decor({'_colour': '#cc22cc', 'hatch': 's', 'component': Component({'lithology': 'sable'}), 'width': 3.0})\n",
      "Decor({'_colour': '#cc2222', 'hatch': '=', 'component': Component({'lithology': 'anthropique'}), 'width': 3.0})\n"
     ]
    }
   ],
   "source": [
    "p = Project(session, legend=memoris_legend)\n",
    "p.add_components(components)"
   ]
  },
  {
   "cell_type": "markdown",
   "metadata": {},
   "source": [
    "Add boreholes into the project"
   ]
  },
  {
   "cell_type": "code",
   "execution_count": 23,
   "metadata": {
    "scrolled": false
   },
   "outputs": [
    {
     "name": "stdout",
     "output_type": "stream",
     "text": [
      "2021-06-15 09:28:10,508 INFO sqlalchemy.engine.Engine INSERT INTO \"Boreholes\" (id, length, diameter) VALUES (?, ?, ?)\n",
      "2021-06-15 09:28:10,509 INFO sqlalchemy.engine.Engine [generated in 0.00164s] ('F201', 4.8, 75.0)\n",
      "2021-06-15 09:28:10,515 INFO sqlalchemy.engine.Engine INSERT INTO \"Positions\" (id, upper, middle, lower, x, y) VALUES (?, ?, ?, ?, ?, ?)\n",
      "2021-06-15 09:28:10,516 INFO sqlalchemy.engine.Engine [generated in 0.00140s] ((0, 0.6, 0.6, 0.6, 152890.245758, 122596.47426), (1, 1.2, 1.2, 1.2, 152890.245758, 122596.47426), (2, 1.2, 1.2, 1.2, 152890.245758, 122596.47426), (3, 2.4, 2.4, 2.4, 152890.245758, 122596.47426))\n",
      "2021-06-15 09:28:10,520 INFO sqlalchemy.engine.Engine INSERT INTO \"Intervals\" (id, borehole, interval_number, description, top_id, base_id) VALUES (?, ?, ?, ?, ?, ?)\n",
      "2021-06-15 09:28:10,521 INFO sqlalchemy.engine.Engine [generated in 0.00119s] ((0, 'F201', 0, 'Remblais avec briques de construction couleur orange, gris, verdâtre  ', 0, 1), (1, 'F201', 1, 'Sable rouge', 2, 3))\n",
      "2021-06-15 09:28:10,525 INFO sqlalchemy.engine.Engine COMMIT\n",
      "2021-06-15 09:28:10,532 INFO sqlalchemy.engine.Engine BEGIN (implicit)\n",
      "2021-06-15 09:28:10,534 INFO sqlalchemy.engine.Engine SELECT \"Boreholes\".id AS \"Boreholes_id\", \"Boreholes\".length AS \"Boreholes_length\", \"Boreholes\".diameter AS \"Boreholes_diameter\" \n",
      "FROM \"Boreholes\"\n",
      "2021-06-15 09:28:10,535 INFO sqlalchemy.engine.Engine [cached since 0.09513s ago] ()\n",
      "Decor({'_colour': '#888888', 'hatch': '=', 'component': Component({'lithology': 'remblais'}), 'width': 3.0})\n",
      "Decor({'_colour': '#882222', 'hatch': 'x', 'component': Component({'lithology': 'limon'}), 'width': 3.0})\n",
      "Decor({'_colour': '#aaaaaa', 'hatch': '.', 'component': Component({'lithology': 'schistes'}), 'width': 3.0})\n",
      "Decor({'_colour': '#cc22cc', 'hatch': 's', 'component': Component({'lithology': 'sable'}), 'width': 3.0})\n",
      "Decor({'_colour': '#cc2222', 'hatch': '=', 'component': Component({'lithology': 'anthropique'}), 'width': 3.0})\n",
      "2021-06-15 09:28:10,552 INFO sqlalchemy.engine.Engine SELECT \"Intervals\".id AS \"Intervals_id\", \"Intervals\".borehole AS \"Intervals_borehole\", \"Intervals\".interval_number AS \"Intervals_interval_number\", \"Intervals\".description AS \"Intervals_description\", \"Intervals\".top_id AS \"Intervals_top_id\", \"Intervals\".base_id AS \"Intervals_base_id\" \n",
      "FROM \"Intervals\" \n",
      "WHERE ? = \"Intervals\".borehole\n",
      "2021-06-15 09:28:10,554 INFO sqlalchemy.engine.Engine [generated in 0.00144s] ('F201',)\n",
      "2021-06-15 09:28:10,570 INFO sqlalchemy.engine.Engine SELECT \"Positions\".id AS \"Positions_id\", \"Positions\".upper AS \"Positions_upper\", \"Positions\".middle AS \"Positions_middle\", \"Positions\".lower AS \"Positions_lower\", \"Positions\".x AS \"Positions_x\", \"Positions\".y AS \"Positions_y\" \n",
      "FROM \"Positions\" \n",
      "WHERE \"Positions\".id = ?\n",
      "2021-06-15 09:28:10,571 INFO sqlalchemy.engine.Engine [generated in 0.00110s] (0,)\n",
      "2021-06-15 09:28:10,582 INFO sqlalchemy.engine.Engine SELECT \"Positions\".id AS \"Positions_id\", \"Positions\".upper AS \"Positions_upper\", \"Positions\".middle AS \"Positions_middle\", \"Positions\".lower AS \"Positions_lower\", \"Positions\".x AS \"Positions_x\", \"Positions\".y AS \"Positions_y\" \n",
      "FROM \"Positions\" \n",
      "WHERE \"Positions\".id = ?\n",
      "2021-06-15 09:28:10,583 INFO sqlalchemy.engine.Engine [generated in 0.00118s] (1,)\n",
      "2021-06-15 09:28:10,587 INFO sqlalchemy.engine.Engine SELECT \"Positions\".id AS \"Positions_id\", \"Positions\".upper AS \"Positions_upper\", \"Positions\".middle AS \"Positions_middle\", \"Positions\".lower AS \"Positions_lower\", \"Positions\".x AS \"Positions_x\", \"Positions\".y AS \"Positions_y\" \n",
      "FROM \"Positions\" \n",
      "WHERE \"Positions\".id = ?\n",
      "2021-06-15 09:28:10,588 INFO sqlalchemy.engine.Engine [cached since 0.01754s ago] (2,)\n",
      "2021-06-15 09:28:10,591 INFO sqlalchemy.engine.Engine SELECT \"Positions\".id AS \"Positions_id\", \"Positions\".upper AS \"Positions_upper\", \"Positions\".middle AS \"Positions_middle\", \"Positions\".lower AS \"Positions_lower\", \"Positions\".x AS \"Positions_x\", \"Positions\".y AS \"Positions_y\" \n",
      "FROM \"Positions\" \n",
      "WHERE \"Positions\".id = ?\n",
      "2021-06-15 09:28:10,591 INFO sqlalchemy.engine.Engine [cached since 0.009216s ago] (3,)\n",
      "True\n"
     ]
    },
    {
     "ename": "TypeError",
     "evalue": "Cannot create a legend for empty component",
     "output_type": "error",
     "traceback": [
      "\u001b[0;31m---------------------------------------------------------------------------\u001b[0m",
      "\u001b[0;31mTypeError\u001b[0m                                 Traceback (most recent call last)",
      "\u001b[0;32m<ipython-input-23-8118a082b7ff>\u001b[0m in \u001b[0;36m<module>\u001b[0;34m\u001b[0m\n\u001b[1;32m      1\u001b[0m \u001b[0;32mfor\u001b[0m \u001b[0mbh\u001b[0m \u001b[0;32min\u001b[0m \u001b[0mboreholes\u001b[0m\u001b[0;34m:\u001b[0m\u001b[0;34m\u001b[0m\u001b[0;34m\u001b[0m\u001b[0m\n\u001b[0;32m----> 2\u001b[0;31m     \u001b[0mp\u001b[0m\u001b[0;34m.\u001b[0m\u001b[0madd_borehole\u001b[0m\u001b[0;34m(\u001b[0m\u001b[0mbh\u001b[0m\u001b[0;34m)\u001b[0m\u001b[0;34m\u001b[0m\u001b[0;34m\u001b[0m\u001b[0m\n\u001b[0m",
      "\u001b[0;32m~/PycharmProjects/GSDMA/core/core.py\u001b[0m in \u001b[0;36madd_borehole\u001b[0;34m(self, bh)\u001b[0m\n\u001b[1;32m     93\u001b[0m         \u001b[0mself\u001b[0m\u001b[0;34m.\u001b[0m\u001b[0mrefresh\u001b[0m\u001b[0;34m(\u001b[0m\u001b[0;34m)\u001b[0m\u001b[0;34m\u001b[0m\u001b[0;34m\u001b[0m\u001b[0m\n\u001b[1;32m     94\u001b[0m         \u001b[0mlist_of_intervals\u001b[0m\u001b[0;34m,\u001b[0m \u001b[0mbh\u001b[0m\u001b[0;34m.\u001b[0m\u001b[0mlength\u001b[0m \u001b[0;34m=\u001b[0m \u001b[0mget_interval_list\u001b[0m\u001b[0;34m(\u001b[0m\u001b[0mbh\u001b[0m\u001b[0;34m)\u001b[0m\u001b[0;34m\u001b[0m\u001b[0;34m\u001b[0m\u001b[0m\n\u001b[0;32m---> 95\u001b[0;31m         \u001b[0mself\u001b[0m\u001b[0;34m.\u001b[0m\u001b[0mboreholes_3d\u001b[0m\u001b[0;34m.\u001b[0m\u001b[0mappend\u001b[0m\u001b[0;34m(\u001b[0m\u001b[0mBorehole3D\u001b[0m\u001b[0;34m(\u001b[0m\u001b[0mname\u001b[0m\u001b[0;34m=\u001b[0m\u001b[0mbh\u001b[0m\u001b[0;34m.\u001b[0m\u001b[0mid\u001b[0m\u001b[0;34m,\u001b[0m \u001b[0mdiam\u001b[0m\u001b[0;34m=\u001b[0m\u001b[0mbh\u001b[0m\u001b[0;34m.\u001b[0m\u001b[0mdiameter\u001b[0m\u001b[0;34m,\u001b[0m \u001b[0mintervals\u001b[0m\u001b[0;34m=\u001b[0m\u001b[0mlist_of_intervals\u001b[0m\u001b[0;34m,\u001b[0m \u001b[0mlegend\u001b[0m\u001b[0;34m=\u001b[0m\u001b[0mself\u001b[0m\u001b[0;34m.\u001b[0m\u001b[0mlegend\u001b[0m\u001b[0;34m,\u001b[0m \u001b[0mlength\u001b[0m\u001b[0;34m=\u001b[0m\u001b[0mbh\u001b[0m\u001b[0;34m.\u001b[0m\u001b[0mlength\u001b[0m\u001b[0;34m)\u001b[0m\u001b[0;34m)\u001b[0m\u001b[0;34m\u001b[0m\u001b[0;34m\u001b[0m\u001b[0m\n\u001b[0m\u001b[1;32m     96\u001b[0m \u001b[0;34m\u001b[0m\u001b[0m\n\u001b[1;32m     97\u001b[0m     \u001b[0;32mdef\u001b[0m \u001b[0madd_components\u001b[0m\u001b[0;34m(\u001b[0m\u001b[0mself\u001b[0m\u001b[0;34m,\u001b[0m \u001b[0mcomponents\u001b[0m\u001b[0;34m)\u001b[0m\u001b[0;34m:\u001b[0m\u001b[0;34m\u001b[0m\u001b[0;34m\u001b[0m\u001b[0m\n",
      "\u001b[0;32m~/PycharmProjects/GSDMA/core/omf.py\u001b[0m in \u001b[0;36m__init__\u001b[0;34m(self, intervals, components, name, diam, length, x_collar, y_collar, z_collar, legend, legend_colors, legend_hatches)\u001b[0m\n\u001b[1;32m    138\u001b[0m         \u001b[0mprint\u001b[0m\u001b[0;34m(\u001b[0m\u001b[0misinstance\u001b[0m\u001b[0;34m(\u001b[0m\u001b[0mself\u001b[0m\u001b[0;34m.\u001b[0m\u001b[0m_legend\u001b[0m\u001b[0;34m,\u001b[0m \u001b[0mLegend\u001b[0m\u001b[0;34m)\u001b[0m\u001b[0;34m)\u001b[0m\u001b[0;34m\u001b[0m\u001b[0;34m\u001b[0m\u001b[0m\n\u001b[1;32m    139\u001b[0m         \u001b[0;31m# create object legend\u001b[0m\u001b[0;34m\u001b[0m\u001b[0;34m\u001b[0m\u001b[0;34m\u001b[0m\u001b[0m\n\u001b[0;32m--> 140\u001b[0;31m         self.legend = self.build_legend(legend=self._legend,\n\u001b[0m\u001b[1;32m    141\u001b[0m                                         \u001b[0mhatches\u001b[0m\u001b[0;34m=\u001b[0m\u001b[0mlegend_hatches\u001b[0m\u001b[0;34m,\u001b[0m\u001b[0;34m\u001b[0m\u001b[0;34m\u001b[0m\u001b[0m\n\u001b[1;32m    142\u001b[0m                                         colors=legend_colors)\n",
      "\u001b[0;32m~/PycharmProjects/GSDMA/core/omf.py\u001b[0m in \u001b[0;36mbuild_legend\u001b[0;34m(self, legend, hatches, colors, width)\u001b[0m\n\u001b[1;32m    221\u001b[0m \u001b[0;34m\u001b[0m\u001b[0m\n\u001b[1;32m    222\u001b[0m             \u001b[0;32melse\u001b[0m\u001b[0;34m:\u001b[0m\u001b[0;34m\u001b[0m\u001b[0;34m\u001b[0m\u001b[0m\n\u001b[0;32m--> 223\u001b[0;31m                 \u001b[0;32mraise\u001b[0m \u001b[0;34m(\u001b[0m\u001b[0mTypeError\u001b[0m\u001b[0;34m(\u001b[0m\u001b[0;34m'Cannot create a legend for empty component'\u001b[0m\u001b[0;34m)\u001b[0m\u001b[0;34m)\u001b[0m\u001b[0;34m\u001b[0m\u001b[0;34m\u001b[0m\u001b[0m\n\u001b[0m\u001b[1;32m    224\u001b[0m                 \u001b[0;31m# TODO : allow empty component (define a lacking lithology type)\u001b[0m\u001b[0;34m\u001b[0m\u001b[0;34m\u001b[0m\u001b[0;34m\u001b[0m\u001b[0m\n\u001b[1;32m    225\u001b[0m \u001b[0;34m\u001b[0m\u001b[0m\n",
      "\u001b[0;31mTypeError\u001b[0m: Cannot create a legend for empty component"
     ]
    }
   ],
   "source": [
    "for bh in boreholes:\n",
    "    p.add_borehole(bh)"
   ]
  },
  {
   "cell_type": "code",
   "execution_count": null,
   "metadata": {},
   "outputs": [],
   "source": [
    "p.add_link_between_components_and_intervals(link_intv_comp)"
   ]
  },
  {
   "cell_type": "code",
   "execution_count": null,
   "metadata": {},
   "outputs": [],
   "source": [
    "p.commit()\n",
    "print('Boreholes in the project : ', len(p.boreholes))"
   ]
  },
  {
   "cell_type": "code",
   "execution_count": null,
   "metadata": {},
   "outputs": [],
   "source": [
    "p.boreholes"
   ]
  },
  {
   "cell_type": "code",
   "execution_count": null,
   "metadata": {},
   "outputs": [],
   "source": [
    "p.refresh(verbose=True)"
   ]
  },
  {
   "cell_type": "code",
   "execution_count": null,
   "metadata": {},
   "outputs": [],
   "source": [
    "session.close()"
   ]
  },
  {
   "cell_type": "markdown",
   "metadata": {},
   "source": [
    "# 3D Display"
   ]
  },
  {
   "cell_type": "markdown",
   "metadata": {},
   "source": [
    "## Display one object"
   ]
  },
  {
   "cell_type": "code",
   "execution_count": null,
   "metadata": {},
   "outputs": [],
   "source": [
    "bh = p.boreholes_3d\n",
    "#print(bh.name, '\\n', bh.intervals) # problem with top and base position --> kind of overlaying"
   ]
  },
  {
   "cell_type": "code",
   "execution_count": null,
   "metadata": {},
   "outputs": [],
   "source": [
    "p.boreholes_3d[0].plot2d()"
   ]
  },
  {
   "cell_type": "code",
   "execution_count": null,
   "metadata": {},
   "outputs": [],
   "source": [
    "p.boreholes_3d[0].plot3d()"
   ]
  },
  {
   "cell_type": "code",
   "execution_count": null,
   "metadata": {},
   "outputs": [],
   "source": [
    "p.boreholes_3d[0].plot3d(x3d=True)"
   ]
  },
  {
   "cell_type": "markdown",
   "metadata": {},
   "source": [
    "### Display project boreholes"
   ]
  },
  {
   "cell_type": "code",
   "execution_count": null,
   "metadata": {},
   "outputs": [],
   "source": [
    "p.plot3d(labels_size=15, bg_color=[\"royalblue\", \"aliceblue\"], window_size=(1300, 1000))"
   ]
  },
  {
   "cell_type": "markdown",
   "metadata": {},
   "source": [
    "### Boreholes in 3D using X3D for interaction within the notebook"
   ]
  },
  {
   "cell_type": "raw",
   "metadata": {
    "scrolled": false
   },
   "source": [
    "p.plot3d(x3d=True)"
   ]
  },
  {
   "cell_type": "code",
   "execution_count": null,
   "metadata": {},
   "outputs": [],
   "source": []
  }
 ],
 "metadata": {
  "kernelspec": {
   "display_name": "Python 3",
   "language": "python",
   "name": "python3"
  },
  "language_info": {
   "codemirror_mode": {
    "name": "ipython",
    "version": 3
   },
   "file_extension": ".py",
   "mimetype": "text/x-python",
   "name": "python",
   "nbconvert_exporter": "python",
   "pygments_lexer": "ipython3",
   "version": "3.8.5"
  }
 },
 "nbformat": 4,
 "nbformat_minor": 4
}
