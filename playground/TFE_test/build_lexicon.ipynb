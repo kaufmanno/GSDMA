{
 "cells": [
  {
   "cell_type": "code",
   "execution_count": 1,
   "id": "minute-image",
   "metadata": {},
   "outputs": [],
   "source": [
    "import re\n",
    "import pandas as pd\n",
    "from os import walk\n",
    "from utils.Lexicon_process import build_lexicon"
   ]
  },
  {
   "cell_type": "markdown",
   "id": "central-thailand",
   "metadata": {},
   "source": [
    "## Create a lexicon from descriptions"
   ]
  },
  {
   "cell_type": "code",
   "execution_count": 2,
   "id": "cardiovascular-tobacco",
   "metadata": {},
   "outputs": [],
   "source": [
    "mydir='../../CF_data/synthese/Result_traitem/'"
   ]
  },
  {
   "cell_type": "code",
   "execution_count": 3,
   "id": "experimental-seeking",
   "metadata": {
    "scrolled": true
   },
   "outputs": [
    {
     "name": "stdout",
     "output_type": "stream",
     "text": [
      "\n",
      "keywords extraction and filtering from 'database_Memoris3/source_Lithology.csv'\n",
      "|>>> Processing for 'lithology' : 13 keywords extracted\n",
      "|>>> Processing for 'material' : 7 keywords extracted\n",
      "|>>> Processing for 'modifier' : 10 keywords extracted and 10 words skipped : \n",
      "check in 'lexicon/Lexicon_Log_modifier.py' ! \n",
      "|>>> Processing for 'colour' : 51 keywords extracted\n",
      "\n",
      "The lexicon have been updated and saved in lexicon/Lexicon_FR_updated.py !\n",
      "\n",
      "keywords extraction and filtering from 'profils_sols_donnees_forages/source_Lithology.csv'\n",
      "|>>> Processing for 'lithology' : 0 keywords extracted\n",
      "|>>> Processing for 'material' : 3 keywords extracted\n",
      "|>>> Processing for 'modifier' : 4 keywords extracted and 6 words skipped : \n",
      "check in 'lexicon/Lexicon_Log_modifier.py' ! \n",
      "|>>> Processing for 'colour' : 14 keywords extracted\n",
      "\n",
      "The lexicon have been updated and saved in lexicon/Lexicon_FR_updated.py !\n"
     ]
    }
   ],
   "source": [
    "lexicon, desc=build_lexicon(mydir, ['all'])"
   ]
  },
  {
   "cell_type": "raw",
   "id": "structural-renewal",
   "metadata": {},
   "source": [
    "print(lexicon['lithology'])"
   ]
  },
  {
   "cell_type": "raw",
   "id": "scientific-scope",
   "metadata": {},
   "source": [
    "print(desc)"
   ]
  },
  {
   "cell_type": "markdown",
   "id": "marked-justice",
   "metadata": {},
   "source": [
    "## Component extraction based on lexicon"
   ]
  },
  {
   "cell_type": "code",
   "execution_count": 4,
   "id": "metric-circle",
   "metadata": {},
   "outputs": [],
   "source": [
    "from striplog import Component, Legend, Decor, Lexicon\n",
    "#from lexicon.old_files.Lexicon_FRA import LEXICON\n",
    "from lexicon.Lexicon_FR_updated import LEXICON"
   ]
  },
  {
   "cell_type": "code",
   "execution_count": 7,
   "id": "excessive-cancellation",
   "metadata": {},
   "outputs": [
    {
     "data": {
      "text/html": [
       "<table><tr><td><strong>lithology</strong></td><td>sables</td></tr><tr><td><strong>state</strong></td><td>hétérogène</td></tr><tr><td><strong>material</strong></td><td>laitier</td></tr><tr><td><strong>modifier</strong></td><td>pierreuse</td></tr><tr><td><strong>colour</strong></td><td>gris foncé</td></tr><tr><td><strong>grainsize</strong></td><td>pluricentimétriques</td></tr><tr><td><strong>Pollutant</strong></td><td>naphtalène</td></tr></table>"
      ],
      "text/plain": [
       "Component({'lithology': 'sables', 'state': 'hétérogène', 'material': 'laitier', 'modifier': 'pierreuse', 'colour': 'gris foncé', 'grainsize': 'pluricentimétriques', 'Pollutant': 'naphtalène'})"
      ]
     },
     "execution_count": 7,
     "metadata": {},
     "output_type": "execute_result"
    }
   ],
   "source": [
    "test = \"sables hétérogène gris foncé sablo-silteuses pluricentimétriques avec du naphtalène 20-25% charge pierreuse de type laitier\"#, à peu de grains fins à. Vers 2 - 2.4 m, présence d'eau.\"\n",
    "#descrip = 'shaly sand with vf'\n",
    "\n",
    "#lexicon = Lexicon(LEXICON) # our french lexicon\n",
    "#lexicon = Lexicon.default() # the striplog default lexicon (english)\n",
    "\n",
    "comp = Component.from_text(test, Lexicon(LEXICON))\n",
    "comp"
   ]
  },
  {
   "cell_type": "code",
   "execution_count": null,
   "id": "gorgeous-significance",
   "metadata": {},
   "outputs": [],
   "source": []
  }
 ],
 "metadata": {
  "kernelspec": {
   "display_name": "Python 3",
   "language": "python",
   "name": "python3"
  },
  "language_info": {
   "codemirror_mode": {
    "name": "ipython",
    "version": 3
   },
   "file_extension": ".py",
   "mimetype": "text/x-python",
   "name": "python",
   "nbconvert_exporter": "python",
   "pygments_lexer": "ipython3",
   "version": "3.8.5"
  }
 },
 "nbformat": 4,
 "nbformat_minor": 5
}
