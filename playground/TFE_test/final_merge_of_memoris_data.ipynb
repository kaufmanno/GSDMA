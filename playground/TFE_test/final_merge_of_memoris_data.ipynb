{
 "cells": [
  {
   "cell_type": "markdown",
   "id": "finite-killing",
   "metadata": {},
   "source": [
    "# Final merge of memoris data"
   ]
  },
  {
   "cell_type": "code",
   "execution_count": 1,
   "id": "educational-barrier",
   "metadata": {},
   "outputs": [],
   "source": [
    "from utils.io import dataframe_viewer, files_search, data_merger, data_validation, data_overview, \\\n",
    "data_filter, fix_duplicates\n",
    "\n",
    "import re, os\n",
    "import numpy as np\n",
    "import pandas as pd\n",
    "import datetime as dtm\n",
    "from definitions import ROOT_DIR"
   ]
  },
  {
   "cell_type": "code",
   "execution_count": 2,
   "id": "representative-bunny",
   "metadata": {},
   "outputs": [],
   "source": [
    "def create_df(files, verbose=True): # find another name for this function\n",
    "    \"\"\"\n",
    "    create dataframes from files and test if they contain position informations\n",
    "    files: list of files name\n",
    "    \"\"\"\n",
    "    dfs = []\n",
    "    i = 0\n",
    "    for f in files:\n",
    "        i += 1\n",
    "        df = pd.read_csv(f, delimiter=',')\n",
    "        dfs.append(df)\n",
    "        \n",
    "        if verbose:\n",
    "            if 'X' in list(df.columns): msg = ' --> Coordinates'\n",
    "            else: msg = ' --> No coordinates'\n",
    "\n",
    "            print(f\"df{i} : {msg}\")\n",
    "            \n",
    "    return dfs"
   ]
  },
  {
   "cell_type": "markdown",
   "id": "enhanced-noise",
   "metadata": {},
   "source": [
    "## Reading files"
   ]
  },
  {
   "cell_type": "code",
   "execution_count": 3,
   "id": "vanilla-bones",
   "metadata": {},
   "outputs": [],
   "source": [
    "work_dir = ROOT_DIR+'/CF_data/Result_traitem/'\n",
    "save_dir = ROOT_DIR+'/CF_data/Donnees_fusionnees/final_data/'"
   ]
  },
  {
   "cell_type": "code",
   "execution_count": 4,
   "id": "confused-pleasure",
   "metadata": {},
   "outputs": [],
   "source": [
    "# create my dictionary structure to retrieve good files (Keynames !!!)\n",
    "files_dict={'Borehole':0,'Litho':0,'Equipm':0,'Measure':0,'Sample':0,'Analysis':0}"
   ]
  },
  {
   "cell_type": "code",
   "execution_count": 5,
   "id": "compliant-sensitivity",
   "metadata": {
    "scrolled": true
   },
   "outputs": [
    {
     "name": "stdout",
     "output_type": "stream",
     "text": [
      "Borehole  \t:  2\n",
      "Litho  \t:  2\n",
      "Equipm  \t:  2\n",
      "Measure  \t:  2\n",
      "Sample  \t:  2\n",
      "Analysis  \t:  10\n"
     ]
    }
   ],
   "source": [
    "files_search(work_dir, files_dict, prefix='final', skip='source')"
   ]
  },
  {
   "cell_type": "code",
   "execution_count": 6,
   "id": "possible-bones",
   "metadata": {},
   "outputs": [],
   "source": [
    "how=['inner', 'outer', 'left', 'right']"
   ]
  },
  {
   "cell_type": "code",
   "execution_count": 7,
   "id": "national-boards",
   "metadata": {},
   "outputs": [],
   "source": [
    "f = False\n",
    "t = True"
   ]
  },
  {
   "cell_type": "markdown",
   "id": "c99f6d75",
   "metadata": {},
   "source": [
    "# ================== PROCESSING  ===================== "
   ]
  },
  {
   "cell_type": "markdown",
   "id": "4b362e03",
   "metadata": {},
   "source": [
    "For a first purpose, only Boreholes, lithologies, samples and soil analysis will treated here"
   ]
  },
  {
   "cell_type": "markdown",
   "id": "7990fc47",
   "metadata": {},
   "source": [
    "# Boreholes"
   ]
  },
  {
   "cell_type": "code",
   "execution_count": 8,
   "id": "bdc6e05a",
   "metadata": {},
   "outputs": [
    {
     "name": "stdout",
     "output_type": "stream",
     "text": [
      "2 files\n"
     ]
    }
   ],
   "source": [
    "key='Borehole'\n",
    "save_file = f'Merged_{key}.csv'\n",
    "coi=['ID','ID_date','X','Y','Z','Type','Long_for','Diam_for','Refus'] #columns of interest\n",
    "dataset = pd.DataFrame() # for saving object info after last merging\n",
    "print(len(files_dict[key]), 'files')"
   ]
  },
  {
   "cell_type": "code",
   "execution_count": 9,
   "id": "08c26cd3",
   "metadata": {
    "scrolled": true
   },
   "outputs": [
    {
     "data": {
      "text/plain": [
       "['/home/yanathan/Projects/GSDMA/CF_data/Result_traitem/donnees_terrain_2019/Final_merge/final_Boreholes.csv',\n",
       " '/home/yanathan/Projects/GSDMA/CF_data/Result_traitem/profils_sols_donnees_forages/Final_merge/final_Boreholes.csv']"
      ]
     },
     "execution_count": 9,
     "metadata": {},
     "output_type": "execute_result"
    }
   ],
   "source": [
    "files_dict[key]"
   ]
  },
  {
   "cell_type": "raw",
   "id": "c9d9da8d",
   "metadata": {
    "scrolled": false
   },
   "source": [
    "a, b = 0, 1\n",
    "print(files_dict[key][a].replace(work_dir, ''), '\\n', files_dict[key][b].replace(work_dir, ''), '\\n')\n",
    "file1= files_dict[key][a]\n",
    "file2= files_dict[key][b]\n",
    "\n",
    "df1, df2 = create_df([file1, file2])\n",
    "dataframe_viewer(df1, rows=3, view=t), dataframe_viewer(df2, rows=3, view=t)"
   ]
  },
  {
   "cell_type": "markdown",
   "id": "b88ebee7",
   "metadata": {},
   "source": [
    "#### $\\color{green}{\\textbf{Read and merge}}$"
   ]
  },
  {
   "cell_type": "code",
   "execution_count": 10,
   "id": "9ad4e96e",
   "metadata": {
    "scrolled": false
   },
   "outputs": [
    {
     "name": "stdout",
     "output_type": "stream",
     "text": [
      "df1 :  --> Coordinates\n",
      "df2 :  --> Coordinates\n",
      "Rows : 25, columns : 18, Unique values on col 'ID': 25\n"
     ]
    },
    {
     "data": {
      "application/vnd.jupyter.widget-view+json": {
       "model_id": "0ab0ce1103ed41f9a704fb40a06e78fd",
       "version_major": 2,
       "version_minor": 0
      },
      "text/plain": [
       "interactive(children=(IntSlider(value=3, description='rows', max=25, min=3, readout=False), IntSlider(value=12…"
      ]
     },
     "metadata": {},
     "output_type": "display_data"
    },
    {
     "name": "stdout",
     "output_type": "stream",
     "text": [
      "Rows : 25, columns : 23, Unique values on col 'ID': 25\n"
     ]
    },
    {
     "data": {
      "application/vnd.jupyter.widget-view+json": {
       "model_id": "d36b2044580342328f2bc5e32ceb71c9",
       "version_major": 2,
       "version_minor": 0
      },
      "text/plain": [
       "interactive(children=(IntSlider(value=3, description='rows', max=25, min=3, readout=False), IntSlider(value=12…"
      ]
     },
     "metadata": {},
     "output_type": "display_data"
    },
    {
     "data": {
      "text/plain": [
       "(None, None)"
      ]
     },
     "execution_count": 10,
     "metadata": {},
     "output_type": "execute_result"
    }
   ],
   "source": [
    "file1= work_dir + 'donnees_terrain_2019/Final_merge/final_Boreholes.csv' # 0\n",
    "file2= work_dir + 'profils_sols_donnees_forages/Final_merge/final_Boreholes.csv' # 1\n",
    "\n",
    "df1, df2 = create_df([file1, file2])\n",
    "dataframe_viewer(df1, rows=3, un_val='ID', view=t), dataframe_viewer(df2, rows=3, un_val='ID', view=t)"
   ]
  },
  {
   "cell_type": "code",
   "execution_count": 11,
   "id": "5491344d",
   "metadata": {
    "scrolled": true
   },
   "outputs": [],
   "source": [
    "mdf, conflict_df=data_merger(df1, df2, how=how[1], on='ID', crit_2nd_col='Date_ouv', dist_max=1)"
   ]
  },
  {
   "cell_type": "code",
   "execution_count": 12,
   "id": "81a68901",
   "metadata": {},
   "outputs": [],
   "source": [
    "boreholes = mdf.copy() #saving"
   ]
  },
  {
   "cell_type": "code",
   "execution_count": 13,
   "id": "c5122a7f",
   "metadata": {
    "scrolled": true
   },
   "outputs": [
    {
     "name": "stdout",
     "output_type": "stream",
     "text": [
      "Rows : 50, columns : 26, Unique values on col 'ID': 50\n"
     ]
    },
    {
     "data": {
      "application/vnd.jupyter.widget-view+json": {
       "model_id": "6f12b2cd38c24fbdbd74ca0fd45d9cdf",
       "version_major": 2,
       "version_minor": 0
      },
      "text/plain": [
       "interactive(children=(IntSlider(value=3, description='rows', max=50, min=3, readout=False), IntSlider(value=12…"
      ]
     },
     "metadata": {},
     "output_type": "display_data"
    }
   ],
   "source": [
    "dataframe_viewer(boreholes, rows=3, un_val='ID', view=t)"
   ]
  },
  {
   "cell_type": "code",
   "execution_count": 14,
   "id": "d9b60292",
   "metadata": {},
   "outputs": [],
   "source": [
    "dataset = mdf.copy()\n",
    "if 'level_0' in dataset.columns:\n",
    "    if 'index' in dataset.columns:\n",
    "        dataset.drop(columns='index', inplace=True)\n",
    "    dataset.rename(columns={'level_0':'index'}, inplace=True)"
   ]
  },
  {
   "cell_type": "markdown",
   "id": "adede83e",
   "metadata": {},
   "source": [
    "####  $\\color{red}{\\textbf{Save object dataset}}$"
   ]
  },
  {
   "cell_type": "code",
   "execution_count": 15,
   "id": "c822d37a",
   "metadata": {},
   "outputs": [],
   "source": [
    "if not os.path.exists(save_dir):\n",
    "    os.makedirs(save_dir)\n",
    "    \n",
    "dataset.to_csv(save_dir + save_file, index=False)"
   ]
  },
  {
   "cell_type": "markdown",
   "id": "07d4b619",
   "metadata": {},
   "source": [
    "# Lithologies"
   ]
  },
  {
   "cell_type": "code",
   "execution_count": 16,
   "id": "358e2f80",
   "metadata": {},
   "outputs": [
    {
     "name": "stdout",
     "output_type": "stream",
     "text": [
      "2 files\n"
     ]
    }
   ],
   "source": [
    "key='Litho'\n",
    "save_file = f'Merged_{key}.csv'\n",
    "coi=['ID','ID_date','X','Y','Z','Type','Long_for','Diam_for','Refus'] #columns of interest\n",
    "dataset = pd.DataFrame() # for saving object info after last merging\n",
    "print(len(files_dict[key]), 'files')"
   ]
  },
  {
   "cell_type": "code",
   "execution_count": 17,
   "id": "53807a64",
   "metadata": {
    "scrolled": true
   },
   "outputs": [
    {
     "data": {
      "text/plain": [
       "['/home/yanathan/Projects/GSDMA/CF_data/Result_traitem/donnees_terrain_2019/Final_merge/final_Lithologies.csv',\n",
       " '/home/yanathan/Projects/GSDMA/CF_data/Result_traitem/profils_sols_donnees_forages/Final_merge/final_Lithologies.csv']"
      ]
     },
     "execution_count": 17,
     "metadata": {},
     "output_type": "execute_result"
    }
   ],
   "source": [
    "files_dict[key]"
   ]
  },
  {
   "cell_type": "markdown",
   "id": "4c57f32b",
   "metadata": {},
   "source": [
    "#### $\\color{green}{\\textbf{Read and merge}}$"
   ]
  },
  {
   "cell_type": "code",
   "execution_count": 18,
   "id": "aae8157d",
   "metadata": {
    "scrolled": false
   },
   "outputs": [
    {
     "name": "stdout",
     "output_type": "stream",
     "text": [
      "df1 :  --> Coordinates\n",
      "df2 :  --> Coordinates\n",
      "Rows : 88, columns : 23, Unique values on col 'ID': 26\n"
     ]
    },
    {
     "data": {
      "application/vnd.jupyter.widget-view+json": {
       "model_id": "21bf3903d68e4e77b2183fd609e61095",
       "version_major": 2,
       "version_minor": 0
      },
      "text/plain": [
       "interactive(children=(IntSlider(value=3, description='rows', max=88, min=3, readout=False), IntSlider(value=12…"
      ]
     },
     "metadata": {},
     "output_type": "display_data"
    },
    {
     "name": "stdout",
     "output_type": "stream",
     "text": [
      "Rows : 55, columns : 18, Unique values on col 'ID': 25\n"
     ]
    },
    {
     "data": {
      "application/vnd.jupyter.widget-view+json": {
       "model_id": "dc727c861de942bc9ab6f8a951f3dc74",
       "version_major": 2,
       "version_minor": 0
      },
      "text/plain": [
       "interactive(children=(IntSlider(value=3, description='rows', max=55, min=3, readout=False), IntSlider(value=12…"
      ]
     },
     "metadata": {},
     "output_type": "display_data"
    },
    {
     "data": {
      "text/plain": [
       "(None, None)"
      ]
     },
     "execution_count": 18,
     "metadata": {},
     "output_type": "execute_result"
    }
   ],
   "source": [
    "file1= work_dir + 'donnees_terrain_2019/Final_merge/final_Lithologies.csv' # 0\n",
    "file2= work_dir + 'profils_sols_donnees_forages/Final_merge/final_Lithologies.csv' # 1\n",
    "\n",
    "df1, df2 = create_df([file1, file2])\n",
    "dataframe_viewer(df1, rows=3, un_val='ID', view=t), dataframe_viewer(df2, rows=3, un_val='ID', view=t)"
   ]
  },
  {
   "cell_type": "code",
   "execution_count": 19,
   "id": "06f18d5c",
   "metadata": {
    "scrolled": true
   },
   "outputs": [],
   "source": [
    "mdf, conflict_df=data_merger(df1, df2, how=how[1], on=['ID', 'Litho_top', 'Litho_base'], dist_max=1)"
   ]
  },
  {
   "cell_type": "code",
   "execution_count": 20,
   "id": "99cbd763",
   "metadata": {},
   "outputs": [],
   "source": [
    "lithologies = mdf.copy() #saving"
   ]
  },
  {
   "cell_type": "code",
   "execution_count": 21,
   "id": "975317fc",
   "metadata": {
    "scrolled": true
   },
   "outputs": [
    {
     "name": "stdout",
     "output_type": "stream",
     "text": [
      "Rows : 143, columns : 25, Unique values on col 'ID': 51\n"
     ]
    },
    {
     "data": {
      "application/vnd.jupyter.widget-view+json": {
       "model_id": "422e4ffcd77a4501857d647034f0f97d",
       "version_major": 2,
       "version_minor": 0
      },
      "text/plain": [
       "interactive(children=(IntSlider(value=3, description='rows', max=143, min=3, readout=False), IntSlider(value=1…"
      ]
     },
     "metadata": {},
     "output_type": "display_data"
    }
   ],
   "source": [
    "dataframe_viewer(lithologies, rows=3, un_val='ID', view=t)"
   ]
  },
  {
   "cell_type": "code",
   "execution_count": 22,
   "id": "1ab96b61",
   "metadata": {},
   "outputs": [],
   "source": [
    "dataset = mdf.copy()\n",
    "if 'level_0' in dataset.columns:\n",
    "    if 'index' in dataset.columns:\n",
    "        dataset.drop(columns='index', inplace=True)\n",
    "    dataset.rename(columns={'level_0':'index'}, inplace=True)"
   ]
  },
  {
   "cell_type": "markdown",
   "id": "be6578d8",
   "metadata": {},
   "source": [
    "####  $\\color{red}{\\textbf{Save object dataset}}$"
   ]
  },
  {
   "cell_type": "code",
   "execution_count": 23,
   "id": "200eecc7",
   "metadata": {},
   "outputs": [],
   "source": [
    "if not os.path.exists(save_dir):\n",
    "    os.makedirs(save_dir)\n",
    "    \n",
    "dataset.to_csv(save_dir + save_file, index=False)"
   ]
  },
  {
   "cell_type": "markdown",
   "id": "2b0e8254",
   "metadata": {},
   "source": [
    "# Samples"
   ]
  },
  {
   "cell_type": "code",
   "execution_count": 24,
   "id": "3137ee40",
   "metadata": {},
   "outputs": [
    {
     "name": "stdout",
     "output_type": "stream",
     "text": [
      "2 files\n"
     ]
    }
   ],
   "source": [
    "key='Sample'\n",
    "save_file = f'Merged_{key}.csv'\n",
    "coi=['ID','ID_date','X','Y','Z','Type','Long_for','Diam_for','Refus'] #columns of interest\n",
    "dataset = pd.DataFrame() # for saving object info after last merging\n",
    "print(len(files_dict[key]), 'files')"
   ]
  },
  {
   "cell_type": "code",
   "execution_count": 25,
   "id": "63bec08a",
   "metadata": {
    "scrolled": true
   },
   "outputs": [
    {
     "data": {
      "text/plain": [
       "['/home/yanathan/Projects/GSDMA/CF_data/Result_traitem/donnees_terrain_2019/Final_merge/final_Soil_samples.csv',\n",
       " '/home/yanathan/Projects/GSDMA/CF_data/Result_traitem/profils_sols_donnees_forages/Final_merge/final_Soil_samples.csv']"
      ]
     },
     "execution_count": 25,
     "metadata": {},
     "output_type": "execute_result"
    }
   ],
   "source": [
    "files_dict[key]"
   ]
  },
  {
   "cell_type": "raw",
   "id": "cd21f122",
   "metadata": {
    "scrolled": false
   },
   "source": [
    "a, b = 0, 1\n",
    "print(files_dict[key][a].replace(work_dir, ''), '\\n', files_dict[key][b].replace(work_dir, ''), '\\n')\n",
    "file1= files_dict[key][a]\n",
    "file2= files_dict[key][b]\n",
    "\n",
    "df1, df2 = create_df([file1, file2])\n",
    "dataframe_viewer(df1, rows=3, view=t), dataframe_viewer(df2, rows=3, view=t)"
   ]
  },
  {
   "cell_type": "markdown",
   "id": "d5e5aafe",
   "metadata": {},
   "source": [
    "#### $\\color{green}{\\textbf{Read and merge}}$"
   ]
  },
  {
   "cell_type": "code",
   "execution_count": 26,
   "id": "a78b9171",
   "metadata": {
    "scrolled": false
   },
   "outputs": [
    {
     "name": "stdout",
     "output_type": "stream",
     "text": [
      "df1 :  --> Coordinates\n",
      "df2 :  --> Coordinates\n",
      "Rows : 73, columns : 26, Unique values on col 'ID': 25\n"
     ]
    },
    {
     "data": {
      "application/vnd.jupyter.widget-view+json": {
       "model_id": "cb04eaeb53b244e39a416e2815f1893b",
       "version_major": 2,
       "version_minor": 0
      },
      "text/plain": [
       "interactive(children=(IntSlider(value=3, description='rows', max=73, min=3, readout=False), IntSlider(value=12…"
      ]
     },
     "metadata": {},
     "output_type": "display_data"
    },
    {
     "name": "stdout",
     "output_type": "stream",
     "text": [
      "Rows : 42, columns : 22, Unique values on col 'ID': 25\n"
     ]
    },
    {
     "data": {
      "application/vnd.jupyter.widget-view+json": {
       "model_id": "5545d4d7c75b4075969e2bd78af175ff",
       "version_major": 2,
       "version_minor": 0
      },
      "text/plain": [
       "interactive(children=(IntSlider(value=3, description='rows', max=42, min=3, readout=False), IntSlider(value=12…"
      ]
     },
     "metadata": {},
     "output_type": "display_data"
    },
    {
     "data": {
      "text/plain": [
       "(None, None)"
      ]
     },
     "execution_count": 26,
     "metadata": {},
     "output_type": "execute_result"
    }
   ],
   "source": [
    "file1= work_dir + 'donnees_terrain_2019/Final_merge/final_Soil_samples.csv' # 0\n",
    "file2= work_dir + 'profils_sols_donnees_forages/Final_merge/final_Soil_samples.csv' # 1\n",
    "\n",
    "df1, df2 = create_df([file1, file2])\n",
    "dataframe_viewer(df1, rows=3, un_val='ID', view=t), dataframe_viewer(df2, rows=3, un_val='ID', view=t)"
   ]
  },
  {
   "cell_type": "code",
   "execution_count": 27,
   "id": "f0fefd50",
   "metadata": {
    "scrolled": true
   },
   "outputs": [],
   "source": [
    "mdf, conflict_df=data_merger(df1, df2, how=how[1], on=['ID', 'ID_ech'], crit_2nd_col='Date_ouv', dist_max=1)"
   ]
  },
  {
   "cell_type": "code",
   "execution_count": 28,
   "id": "fae53e22",
   "metadata": {},
   "outputs": [],
   "source": [
    "samples = mdf.copy() #saving"
   ]
  },
  {
   "cell_type": "code",
   "execution_count": 29,
   "id": "0d6674fe",
   "metadata": {
    "scrolled": false
   },
   "outputs": [
    {
     "name": "stdout",
     "output_type": "stream",
     "text": [
      "Rows : 115, columns : 29, Unique values on col 'ID': 50\n"
     ]
    },
    {
     "data": {
      "application/vnd.jupyter.widget-view+json": {
       "model_id": "5e2d2707b90b4705aa01582d6419668d",
       "version_major": 2,
       "version_minor": 0
      },
      "text/plain": [
       "interactive(children=(IntSlider(value=3, description='rows', max=115, min=3, readout=False), IntSlider(value=1…"
      ]
     },
     "metadata": {},
     "output_type": "display_data"
    }
   ],
   "source": [
    "dataframe_viewer(samples, rows=3, un_val='ID', view=t)"
   ]
  },
  {
   "cell_type": "code",
   "execution_count": 30,
   "id": "1304ad66",
   "metadata": {},
   "outputs": [],
   "source": [
    "dataset = mdf.copy()\n",
    "if 'level_0' in dataset.columns:\n",
    "    if 'index' in dataset.columns:\n",
    "        dataset.drop(columns='index', inplace=True)\n",
    "    dataset.rename(columns={'level_0':'index'}, inplace=True)"
   ]
  },
  {
   "cell_type": "markdown",
   "id": "75fcf253",
   "metadata": {},
   "source": [
    "####  $\\color{red}{\\textbf{Save object dataset}}$"
   ]
  },
  {
   "cell_type": "code",
   "execution_count": 31,
   "id": "6eb85260",
   "metadata": {},
   "outputs": [],
   "source": [
    "if not os.path.exists(save_dir):\n",
    "    os.makedirs(save_dir)\n",
    "    \n",
    "dataset.to_csv(save_dir + save_file, index=False)"
   ]
  },
  {
   "cell_type": "markdown",
   "id": "53460d4a",
   "metadata": {},
   "source": [
    "# Analysis (soil only)"
   ]
  },
  {
   "cell_type": "code",
   "execution_count": 32,
   "id": "3257a498",
   "metadata": {},
   "outputs": [
    {
     "name": "stdout",
     "output_type": "stream",
     "text": [
      "10 files\n"
     ]
    }
   ],
   "source": [
    "key='Analysis'\n",
    "save_file = f'Merged_{key}.csv'\n",
    "coi=['ID','ID_date','X','Y','Z','Type','Long_for','Diam_for','Refus'] #columns of interest\n",
    "dataset = pd.DataFrame() # for saving object info after last merging\n",
    "print(len(files_dict[key]), 'files')"
   ]
  },
  {
   "cell_type": "code",
   "execution_count": 33,
   "id": "cbf37c55",
   "metadata": {
    "scrolled": true
   },
   "outputs": [
    {
     "data": {
      "text/plain": [
       "['/home/yanathan/Projects/GSDMA/CF_data/Result_traitem/Phase_1_Memoris/Final_merge/final_Soil_analysis.csv',\n",
       " '/home/yanathan/Projects/GSDMA/CF_data/Result_traitem/Phase_1_Memoris/Final_merge/final_Water_analysis.csv',\n",
       " '/home/yanathan/Projects/GSDMA/CF_data/Result_traitem/Phase_2_Memoris/Final_merge/final_Soil_analysis.csv',\n",
       " '/home/yanathan/Projects/GSDMA/CF_data/Result_traitem/Phase_2_Memoris/Final_merge/final_Water_analysis.csv',\n",
       " '/home/yanathan/Projects/GSDMA/CF_data/Result_traitem/Siterem_Ext_Pilote/Final_merge/final_water_analysis.csv',\n",
       " '/home/yanathan/Projects/GSDMA/CF_data/Result_traitem/Siterem_Pilote/Final_merge/final_water_analysis.csv',\n",
       " '/home/yanathan/Projects/GSDMA/CF_data/Result_traitem/Siterem_Result_Sol/Final_merge/final_Soil_analysis.csv',\n",
       " '/home/yanathan/Projects/GSDMA/CF_data/Result_traitem/donnees_terrain_2019/Final_merge/final_Soil_analysis.csv',\n",
       " '/home/yanathan/Projects/GSDMA/CF_data/Result_traitem/vUmons_logsFor/Final_merge/final_Soil_analysis.csv',\n",
       " '/home/yanathan/Projects/GSDMA/CF_data/Result_traitem/vUmons_logsFor/Final_merge/final_Water_analysis.csv']"
      ]
     },
     "execution_count": 33,
     "metadata": {},
     "output_type": "execute_result"
    }
   ],
   "source": [
    "files_dict[key]"
   ]
  },
  {
   "cell_type": "markdown",
   "id": "aa36431c",
   "metadata": {},
   "source": [
    "#### $\\color{green}{\\textbf{Read and merge}}$"
   ]
  },
  {
   "cell_type": "code",
   "execution_count": 34,
   "id": "391eb6d6",
   "metadata": {},
   "outputs": [
    {
     "name": "stdout",
     "output_type": "stream",
     "text": [
      "df1 :  --> No coordinates\n",
      "df2 :  --> No coordinates\n",
      "Rows : 29, columns : 74, Unique values on col 'ID': 15\n"
     ]
    },
    {
     "data": {
      "application/vnd.jupyter.widget-view+json": {
       "model_id": "900a845134ae4c598a6cb7364c84412a",
       "version_major": 2,
       "version_minor": 0
      },
      "text/plain": [
       "interactive(children=(IntSlider(value=3, description='rows', max=29, min=3, readout=False), IntSlider(value=12…"
      ]
     },
     "metadata": {},
     "output_type": "display_data"
    },
    {
     "name": "stdout",
     "output_type": "stream",
     "text": [
      "Rows : 25, columns : 64, Unique values on col 'ID': 12\n"
     ]
    },
    {
     "data": {
      "application/vnd.jupyter.widget-view+json": {
       "model_id": "e2f1fd0a01554ec4a0f0642a34a81a5d",
       "version_major": 2,
       "version_minor": 0
      },
      "text/plain": [
       "interactive(children=(IntSlider(value=3, description='rows', max=25, min=3, readout=False), IntSlider(value=12…"
      ]
     },
     "metadata": {},
     "output_type": "display_data"
    },
    {
     "data": {
      "text/plain": [
       "(None, None)"
      ]
     },
     "execution_count": 34,
     "metadata": {},
     "output_type": "execute_result"
    }
   ],
   "source": [
    "file1= work_dir + 'Phase_1_Memoris/Final_merge/final_Soil_analysis.csv' # 0\n",
    "file2= work_dir + 'Phase_2_Memoris/Final_merge/final_Soil_analysis.csv' # 2\n",
    "\n",
    "df1, df2 = create_df([file1, file2])\n",
    "dataframe_viewer(df1, rows=3, un_val='ID', view=t), dataframe_viewer(df2, rows=3, un_val='ID', view=t)"
   ]
  },
  {
   "cell_type": "code",
   "execution_count": 35,
   "id": "b2d7e23c",
   "metadata": {
    "scrolled": true
   },
   "outputs": [],
   "source": [
    "mdf, conflict_df=data_merger(df1, df2, how=how[1], on=['ID_ech'], dist_max=1)"
   ]
  },
  {
   "cell_type": "markdown",
   "id": "f20a7c49",
   "metadata": {},
   "source": [
    "#### First object dataset save"
   ]
  },
  {
   "cell_type": "code",
   "execution_count": 36,
   "id": "4ce88ecf",
   "metadata": {},
   "outputs": [],
   "source": [
    "analysis = mdf.copy() #saving"
   ]
  },
  {
   "cell_type": "code",
   "execution_count": 37,
   "id": "e4f7001c",
   "metadata": {
    "scrolled": false
   },
   "outputs": [
    {
     "name": "stdout",
     "output_type": "stream",
     "text": [
      "Rows : 54, columns : 81, Unique values on col 'ID': 27\n"
     ]
    },
    {
     "data": {
      "application/vnd.jupyter.widget-view+json": {
       "model_id": "",
       "version_major": 2,
       "version_minor": 0
      },
      "text/plain": [
       "interactive(children=(IntSlider(value=3, description='rows', max=54, min=3, readout=False), IntSlider(value=12…"
      ]
     },
     "metadata": {},
     "output_type": "display_data"
    }
   ],
   "source": [
    "dataframe_viewer(analysis, rows=3, un_val='ID', view=t)"
   ]
  },
  {
   "cell_type": "markdown",
   "id": "76a510da",
   "metadata": {},
   "source": [
    "#### $\\color{green}{\\textbf{Read and merge}}$"
   ]
  },
  {
   "cell_type": "code",
   "execution_count": 38,
   "id": "50273d05",
   "metadata": {},
   "outputs": [
    {
     "name": "stdout",
     "output_type": "stream",
     "text": [
      "df1 :  --> No coordinates\n",
      "df2 :  --> Coordinates\n",
      "Rows : 58, columns : 83, Unique values on col 'ID': 58\n"
     ]
    },
    {
     "data": {
      "application/vnd.jupyter.widget-view+json": {
       "model_id": "e108b9b21615457fac898bc1d74943ad",
       "version_major": 2,
       "version_minor": 0
      },
      "text/plain": [
       "interactive(children=(IntSlider(value=3, description='rows', max=58, min=3, readout=False), IntSlider(value=12…"
      ]
     },
     "metadata": {},
     "output_type": "display_data"
    },
    {
     "name": "stdout",
     "output_type": "stream",
     "text": [
      "Rows : 75, columns : 112, Unique values on col 'ID': 26\n"
     ]
    },
    {
     "data": {
      "application/vnd.jupyter.widget-view+json": {
       "model_id": "40772cac672440608e58d95093e24838",
       "version_major": 2,
       "version_minor": 0
      },
      "text/plain": [
       "interactive(children=(IntSlider(value=3, description='rows', max=75, min=3, readout=False), IntSlider(value=12…"
      ]
     },
     "metadata": {},
     "output_type": "display_data"
    },
    {
     "data": {
      "text/plain": [
       "(None, None)"
      ]
     },
     "execution_count": 38,
     "metadata": {},
     "output_type": "execute_result"
    }
   ],
   "source": [
    "file1= work_dir + 'Siterem_Result_Sol/Final_merge/final_Soil_analysis.csv' # 6\n",
    "file2= work_dir + 'donnees_terrain_2019/Final_merge/final_Soil_analysis.csv' # 7\n",
    "\n",
    "df1, df2 = create_df([file1, file2])\n",
    "dataframe_viewer(df1, rows=3, un_val='ID', view=t), dataframe_viewer(df2, rows=3, un_val='ID', view=t)"
   ]
  },
  {
   "cell_type": "code",
   "execution_count": 39,
   "id": "a4e383db",
   "metadata": {
    "scrolled": true
   },
   "outputs": [
    {
     "name": "stdout",
     "output_type": "stream",
     "text": [
      "Conflict values present. Please resolve this manually !\n"
     ]
    }
   ],
   "source": [
    "mdf, conflict_df=data_merger(df1, df2, how=how[1], on=['ID_ech'], dist_max=1)"
   ]
  },
  {
   "cell_type": "code",
   "execution_count": 40,
   "id": "675eb40c",
   "metadata": {
    "scrolled": true
   },
   "outputs": [
    {
     "name": "stdout",
     "output_type": "stream",
     "text": [
      "all conflicts have been fixed!\n"
     ]
    }
   ],
   "source": [
    "data_validation(overall_data=mdf, conflict_data=conflict_df, index_col='index', \n",
    "                valid_dict={i+'_y':list(conflict_df.index) for i in conflict_df.loc[44,'Check_col'].split(\", \")})"
   ]
  },
  {
   "cell_type": "code",
   "execution_count": 41,
   "id": "1f26afa3",
   "metadata": {
    "scrolled": true
   },
   "outputs": [],
   "source": [
    "analysis, conflict_df=data_merger(analysis, mdf, how=how[1], on=['ID_ech'], dist_max=1)"
   ]
  },
  {
   "cell_type": "raw",
   "id": "2428a1cb",
   "metadata": {
    "scrolled": false
   },
   "source": [
    "a, b = 8, 7\n",
    "print(files_dict[key][a].replace(work_dir, ''), '\\n', files_dict[key][b].replace(work_dir, ''), '\\n')\n",
    "file1= files_dict[key][a]\n",
    "file2= files_dict[key][b]\n",
    "\n",
    "df1, df2 = create_df([file1, file2])\n",
    "dataframe_viewer(df1, rows=3, view=t), dataframe_viewer(df2, rows=3, view=t)"
   ]
  },
  {
   "cell_type": "markdown",
   "id": "ed842d08",
   "metadata": {},
   "source": [
    "#### $\\color{green}{\\textbf{Read and merge}}$"
   ]
  },
  {
   "cell_type": "code",
   "execution_count": 42,
   "id": "f63f2881",
   "metadata": {
    "scrolled": true
   },
   "outputs": [
    {
     "name": "stdout",
     "output_type": "stream",
     "text": [
      "df1 :  --> Coordinates\n",
      "df2 :  --> Coordinates\n",
      "Rows : 59, columns : 74, Unique values on col 'ID': 30\n"
     ]
    },
    {
     "data": {
      "application/vnd.jupyter.widget-view+json": {
       "model_id": "3ac770cb67d5493184d3ebe38af91a41",
       "version_major": 2,
       "version_minor": 0
      },
      "text/plain": [
       "interactive(children=(IntSlider(value=3, description='rows', max=59, min=3, readout=False), IntSlider(value=12…"
      ]
     },
     "metadata": {},
     "output_type": "display_data"
    },
    {
     "name": "stdout",
     "output_type": "stream",
     "text": [
      "Rows : 75, columns : 112, Unique values on col 'ID': 26\n"
     ]
    },
    {
     "data": {
      "application/vnd.jupyter.widget-view+json": {
       "model_id": "c77fcf3a5c1c49d9afa0f0c89017f6e8",
       "version_major": 2,
       "version_minor": 0
      },
      "text/plain": [
       "interactive(children=(IntSlider(value=3, description='rows', max=75, min=3, readout=False), IntSlider(value=12…"
      ]
     },
     "metadata": {},
     "output_type": "display_data"
    },
    {
     "data": {
      "text/plain": [
       "(None, None)"
      ]
     },
     "execution_count": 42,
     "metadata": {},
     "output_type": "execute_result"
    }
   ],
   "source": [
    "file1= work_dir + 'vUmons_logsFor/Final_merge/final_Soil_analysis.csv' # 8\n",
    "file2= work_dir + 'donnees_terrain_2019/Final_merge/final_Soil_analysis.csv' # 7\n",
    "\n",
    "df1, df2 = create_df([file1, file2])\n",
    "dataframe_viewer(df1, rows=3, un_val='ID', view=t), dataframe_viewer(df2, rows=3, un_val='ID', view=t)"
   ]
  },
  {
   "cell_type": "code",
   "execution_count": 43,
   "id": "40339604",
   "metadata": {
    "scrolled": true
   },
   "outputs": [
    {
     "name": "stdout",
     "output_type": "stream",
     "text": [
      "Conflict values present. Please resolve this manually !\n"
     ]
    }
   ],
   "source": [
    "mdf, conflict_df=data_merger(analysis, df1, how=how[1], on=['ID_ech'], dist_max=1)"
   ]
  },
  {
   "cell_type": "code",
   "execution_count": 44,
   "id": "c272d9cd",
   "metadata": {},
   "outputs": [
    {
     "name": "stdout",
     "output_type": "stream",
     "text": [
      "['Fract_C21C35', 'ID', 'Fract_C16C21', 'HC_tot_C10C35', 'Fract_C10C12', 'Fract_C12C16', 'Date_prv']\n"
     ]
    }
   ],
   "source": [
    "vlist = []\n",
    "for x in conflict_df.Check_col:\n",
    "    vlist += x.split(\", \")\n",
    "\n",
    "vlist = list(pd.unique(vlist))\n",
    "print(vlist)"
   ]
  },
  {
   "cell_type": "code",
   "execution_count": 45,
   "id": "a6990df1",
   "metadata": {
    "scrolled": true
   },
   "outputs": [
    {
     "name": "stdout",
     "output_type": "stream",
     "text": [
      "all conflicts have been fixed!\n"
     ]
    }
   ],
   "source": [
    "data_validation(overall_data=mdf, conflict_data=conflict_df, index_col='index', \n",
    "                valid_dict={i+'_y':list(conflict_df.index) for i in vlist})"
   ]
  },
  {
   "cell_type": "code",
   "execution_count": 46,
   "id": "44155941",
   "metadata": {},
   "outputs": [],
   "source": [
    "analysis = mdf.copy() #saving"
   ]
  },
  {
   "cell_type": "code",
   "execution_count": 47,
   "id": "ef25632a",
   "metadata": {},
   "outputs": [],
   "source": [
    "dataset = mdf.copy()\n",
    "if 'level_0' in dataset.columns:\n",
    "    if 'index' in dataset.columns:\n",
    "        dataset.drop(columns='index', inplace=True)\n",
    "    dataset.rename(columns={'level_0':'index'}, inplace=True)"
   ]
  },
  {
   "cell_type": "markdown",
   "id": "1a9c74bc",
   "metadata": {},
   "source": [
    "####  $\\color{red}{\\textbf{Save object dataset}}$"
   ]
  },
  {
   "cell_type": "code",
   "execution_count": 48,
   "id": "bfc87d44",
   "metadata": {},
   "outputs": [],
   "source": [
    "if not os.path.exists(save_dir):\n",
    "    os.makedirs(save_dir)\n",
    "    \n",
    "dataset.to_csv(save_dir + save_file, index=False)"
   ]
  },
  {
   "cell_type": "markdown",
   "id": "043b8ba2",
   "metadata": {},
   "source": [
    "### ================= DATASETS MERGING ==========================="
   ]
  },
  {
   "cell_type": "code",
   "execution_count": 49,
   "id": "7f86f872",
   "metadata": {
    "scrolled": true
   },
   "outputs": [],
   "source": [
    "mdf, conflict_df = data_merger(samples, boreholes, how=how[1], on=['ID', 'Date_ouv'], \n",
    "                             crit_2nd_col='Date_ouv', dist_max=1)"
   ]
  },
  {
   "cell_type": "code",
   "execution_count": 50,
   "id": "652c9767",
   "metadata": {
    "scrolled": true
   },
   "outputs": [],
   "source": [
    "dataset, conflict_df = data_merger(mdf, lithologies, how=how[1], on=['ID', 'Date_ouv'], \n",
    "                              crit_2nd_col='Date_ouv', dist_max=1)"
   ]
  },
  {
   "cell_type": "code",
   "execution_count": 51,
   "id": "825e912d",
   "metadata": {},
   "outputs": [
    {
     "name": "stdout",
     "output_type": "stream",
     "text": [
      "Conflict values present. Please resolve this manually !\n"
     ]
    }
   ],
   "source": [
    "mdf, conflict_df = data_merger(dataset, analysis, how=how[1], on=['ID_ech', 'Date_ouv'], \n",
    "                              crit_2nd_col='Date_ouv', dist_max=1)"
   ]
  },
  {
   "cell_type": "code",
   "execution_count": 52,
   "id": "d8a83641",
   "metadata": {},
   "outputs": [
    {
     "name": "stdout",
     "output_type": "stream",
     "text": [
      "['Description', 'Pol_top', 'Pol_base', 'Intensite', 'ID', 'ID_date', 'Long_for']\n"
     ]
    }
   ],
   "source": [
    "vlist = []\n",
    "for x in conflict_df.Check_col:\n",
    "    vlist += x.split(\", \")\n",
    "\n",
    "vlist = list(pd.unique(vlist))\n",
    "print(vlist)"
   ]
  },
  {
   "cell_type": "code",
   "execution_count": 53,
   "id": "d312509d",
   "metadata": {
    "scrolled": true
   },
   "outputs": [
    {
     "name": "stdout",
     "output_type": "stream",
     "text": [
      "all conflicts have been fixed!\n"
     ]
    }
   ],
   "source": [
    "data_validation(overall_data=mdf, conflict_data=conflict_df, index_col='index', \n",
    "                valid_dict={**{i+'_y':list(conflict_df.index) for i in vlist if i != 'Description'},\n",
    "                           **{'Description_x':list(conflict_df.index)}})"
   ]
  },
  {
   "cell_type": "code",
   "execution_count": 61,
   "id": "05b08118",
   "metadata": {
    "scrolled": false
   },
   "outputs": [
    {
     "name": "stdout",
     "output_type": "stream",
     "text": [
      "Rows : 533, columns : 131, Unique values on col 'ID': 47\n"
     ]
    },
    {
     "data": {
      "application/vnd.jupyter.widget-view+json": {
       "model_id": "be6fa0bb02884edcb19f4f7626602082",
       "version_major": 2,
       "version_minor": 0
      },
      "text/plain": [
       "interactive(children=(IntSlider(value=3, description='rows', max=533, min=3, readout=False), IntSlider(value=1…"
      ]
     },
     "metadata": {},
     "output_type": "display_data"
    }
   ],
   "source": [
    "dataframe_viewer(mdf, rows=3, un_val='ID', view=t)"
   ]
  },
  {
   "cell_type": "markdown",
   "id": "0b04e677",
   "metadata": {},
   "source": [
    "## Filtering"
   ]
  },
  {
   "cell_type": "code",
   "execution_count": 54,
   "id": "e7b26cdb",
   "metadata": {},
   "outputs": [],
   "source": [
    "mdf = mdf.query('ID_ech==ID_ech and X==X and Description==Description').query('ID_ech.str.contains(\"\\d\")', engine='python')\n",
    "mdf.reset_index(inplace=True, drop=True)"
   ]
  },
  {
   "cell_type": "code",
   "execution_count": 55,
   "id": "dca13ca4",
   "metadata": {},
   "outputs": [],
   "source": [
    "mdf['test'] = mdf.pop('cyanure (libre)').fillna(mdf.pop('Cyanure (libre)'))\n",
    "mdf['test'] = mdf['test'].fillna(mdf['CN_libre'])\n",
    "mdf['CN_libre'] = mdf.pop('test')"
   ]
  },
  {
   "cell_type": "code",
   "execution_count": 56,
   "id": "7862bb96",
   "metadata": {},
   "outputs": [],
   "source": [
    "mdf = mdf[['ID_ech', 'X', 'Y', 'Z', 'Date_ouv', 'Date_prv', 'Ech_top', 'Ech_base', 'Type_ech', 'Nature_ech', \n",
    "           'Description', 'Litho_top', 'Litho_base', 'Long_pz', 'Long_for', 'Profondeur', 'Long_pz-sol',\n",
    "           'Diam_for', 'Diam_int_pz', 'Diam_ext_pz', 'Type', 'Refus','Type_refus', 'Resp_chantier', 'Societe', \n",
    "           'Methode', 'Method', 'ID', 'haut_pz-sol',  'Niv_eau_sol', 'Nappe', 'Crep_long', 'Long_crep', \n",
    "           'Polluant', 'Pol_top', 'Pol_base', 'Intensite', 'Intensité', \n",
    "           '1,2-DCE', 'Acenaphtyl', 'P-M-Xyl', 'Chloroforme', 'Fract_C21C35', 'Bnz(a)pyr', 'Arom_C7C8', 'EOX', \n",
    "           '1,1-DCE', '1,1-DCEn','Bnz(b)flranth', 'Cr_VI', 'CN_libre', 'Bnz(ghi)peryl', 'Ca', 'Bnz(k)flranth', \n",
    "           'TCEyn', 'NH4', 'Cis-1,2-DCEn', 'Flranth', 'Na',  '1,1,2-TCE', 'CN_comp', 'HAP_tot_EPA', 'CVinyl', \n",
    "            'Mg',  'Cobalt', 'N_Kjdl', 'HC_tot_C10C35', 'Phenol', 'Arom_C8C10', 'Fe', \n",
    "           'chlorures', 'K', 'Arom_C6C7', 'aluminium', 'P_tot', 'Cr', 'TetraCEyn', 'thioCN', 'Fract_2',\n",
    "           'Trans 1,2-DCEyl', 'Pyr', 'Organo', 'Anthrc', 'Fract_C16C21', 'DCM', 'Ni', \n",
    "           '(cis,trans) 1,2-DCE_tot', 'Naphta', 'EthylBnz', 'MS', 'Aliphat_C8C10', 'Chrys', \n",
    "           'Indeno(1,2,3-cd)pyr', 'Hg', 'Bnz', 'Toln', 'Zone', 'sulfate',  'CN_APE', 'HC_tot_C10C40', \n",
    "           'Fract_2+', 'Aliphat_C6C8', 'Zn', 'Fract_C5C8', 'Aliphat_C5C6', \n",
    "           'Bnz(a)anthrc', 'O-Xyl', 'Fluorene', 'Fract_C10C12', 'Xyl', '1,1,1-TCE', 'Cd', 'Idc_Phenol', 'As', \n",
    "           'Fract_C35C40', 'Fract_C12C16', 'Dibnz(ah)anthrc', 'MTBE', 'Phenanthr', 'TCM', 'ID_2', 'Pb', \n",
    "           'Acenaphtn', 'col_34', 'phosphore', '1,2-DCP', 'Styr', 'CN_tot', 'Cu', 'Fract_C8C10', 'Mn', ]]"
   ]
  },
  {
   "cell_type": "code",
   "execution_count": 57,
   "id": "f1e2802c",
   "metadata": {},
   "outputs": [],
   "source": [
    "uniq_mdf = mdf.drop_duplicates(['ID_ech'])"
   ]
  },
  {
   "cell_type": "code",
   "execution_count": 58,
   "id": "2184483d",
   "metadata": {
    "scrolled": false
   },
   "outputs": [
    {
     "name": "stdout",
     "output_type": "stream",
     "text": [
      "Rows : 112, columns : 131, Unique values on col 'ID_ech': 112\n"
     ]
    },
    {
     "data": {
      "application/vnd.jupyter.widget-view+json": {
       "model_id": "ca26659d44f84fd3a6f132c0bedc3324",
       "version_major": 2,
       "version_minor": 0
      },
      "text/plain": [
       "interactive(children=(IntSlider(value=5, description='rows', max=112, min=5, readout=False), IntSlider(value=1…"
      ]
     },
     "metadata": {},
     "output_type": "display_data"
    }
   ],
   "source": [
    "dataframe_viewer(uniq_mdf, rows=5, un_val='ID_ech', view=t)"
   ]
  },
  {
   "cell_type": "code",
   "execution_count": 59,
   "id": "683a4215",
   "metadata": {},
   "outputs": [],
   "source": [
    "dataset = uniq_mdf.copy()\n",
    "if 'level_0' in dataset.columns:\n",
    "    if 'index' in dataset.columns:\n",
    "        dataset.drop(columns='index', inplace=True)\n",
    "    dataset.rename(columns={'level_0':'index'}, inplace=True)"
   ]
  },
  {
   "cell_type": "markdown",
   "id": "ba20997e",
   "metadata": {},
   "source": [
    "####  $\\color{red}{\\textbf{Save final object dataset}}$"
   ]
  },
  {
   "cell_type": "code",
   "execution_count": 60,
   "id": "60d9fc91",
   "metadata": {},
   "outputs": [],
   "source": [
    "save_file = 'Final_dataset.csv'\n",
    "if not os.path.exists(save_dir):\n",
    "    os.makedirs(save_dir)\n",
    "    \n",
    "dataset.to_csv(save_dir + save_file, index=False)"
   ]
  },
  {
   "cell_type": "markdown",
   "id": "5a1cdbe6",
   "metadata": {},
   "source": [
    "## Querying"
   ]
  },
  {
   "cell_type": "raw",
   "id": "f8391359",
   "metadata": {
    "scrolled": true
   },
   "source": [
    "bh_name = '_'\n",
    "id_col = 'ID_ech'\n",
    "dataframe_viewer(dataset.query(f'{id_col}.str.contains(\"{bh_name}\")', engine='python'))"
   ]
  },
  {
   "cell_type": "raw",
   "id": "f0b359fe",
   "metadata": {},
   "source": [
    "id_ = 'FP76'\n",
    "id_col = 'ID_ech'\n",
    "dataframe_viewer(df1.query(f'{id_col}==\"{id_}\"'), rows=10, cols=15, un_val=f'{id_col}', view=t), \n",
    "dataframe_viewer(df2.query(f'{id_col}==\"{id_}\"'), rows=10, cols=15, un_val=f'{id_col}', view=t)"
   ]
  },
  {
   "cell_type": "raw",
   "id": "a1b240d2",
   "metadata": {},
   "source": [
    "x_min, x_max = 152883, 152885\n",
    "y_min, y_max =  122605, 122608\n",
    "id_col = 'ID_ech'\n",
    "#bh_name = 'F1.' # regex\n",
    "bh_name = None\n",
    "\n",
    "q = dataset.query(f'X >= {x_min} and X <= {x_max} and Y >= {y_min} and Y <= {y_max}')\n",
    "if bh_name is not None:\n",
    "    q = dataset.query(f'{id_col}.str.contains(\"{bh_name}\")', engine='python')\n",
    "#dataframe_viewer(q[coi_1 + coi_2], rows=10, cols=15, un_val='ID', view=t)\n",
    "dataframe_viewer(q, rows=10, cols=15, un_val=id_col, view=t)"
   ]
  },
  {
   "cell_type": "raw",
   "id": "7e91304b",
   "metadata": {},
   "source": [
    "sql = 'ID_ech==\"F1/2M\"'\n",
    "cols = ['ID_ech', 'Date_prv', 'X', 'Y', 'Z', 'Long_for', 'Ech_top', 'Ech_base', 'Fract_2', 'Fract_2+', 'MS']\n",
    "dataframe_viewer(dataset_1.query(sql)[cols]), dataframe_viewer(dataset_2.query(sql)[cols])"
   ]
  }
 ],
 "metadata": {
  "kernelspec": {
   "display_name": "Python 3 (ipykernel)",
   "language": "python",
   "name": "python3"
  },
  "language_info": {
   "codemirror_mode": {
    "name": "ipython",
    "version": 3
   },
   "file_extension": ".py",
   "mimetype": "text/x-python",
   "name": "python",
   "nbconvert_exporter": "python",
   "pygments_lexer": "ipython3",
   "version": "3.8.10"
  }
 },
 "nbformat": 4,
 "nbformat_minor": 5
}
