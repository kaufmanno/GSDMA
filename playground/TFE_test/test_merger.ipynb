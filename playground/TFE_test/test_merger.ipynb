{
 "cells": [
  {
   "cell_type": "code",
   "execution_count": null,
   "id": "actual-april",
   "metadata": {},
   "outputs": [],
   "source": [
    "from utils.io import gen_id_dated, gdf_viewer, gdf_geom, gdf_merger, na_col_drop, na_line_drop, data_validation\n",
    "import pandas as pd\n",
    "import numpy as np\n",
    "from utils.utils import update_dict"
   ]
  },
  {
   "cell_type": "markdown",
   "id": "7616f01d",
   "metadata": {},
   "source": [
    "### Create data"
   ]
  },
  {
   "cell_type": "code",
   "execution_count": null,
   "id": "0d9a5f14",
   "metadata": {},
   "outputs": [],
   "source": [
    "t1 = pd.DataFrame({'ID':['id1','id2','id3','id4','id5','id6','id7','id8', 'id9'],'Name':['A','B','C','D','E','F','G','H','I'],\n",
    "                   'Value':[1,2,2,4,np.nan,5,np.nan,8,9], \n",
    "                   'Date': ['2021-06-01','2021-06-02','2021-06-04','2021-06-07','2021-06-08','2021-06-10',\n",
    "                            '2021-06-11','2021-06-04','2021-06-02'],\n",
    "                   'X': [1.,4.,50.,8.,7.,11.,8.,np.nan,10], \n",
    "                   'Y': [7.,4.,2.,16.,14.,20.,11.,np.nan,6]})"
   ]
  },
  {
   "cell_type": "code",
   "execution_count": null,
   "id": "wooden-equipment",
   "metadata": {},
   "outputs": [],
   "source": [
    "t2 = pd.DataFrame({'ID':['id1','id2','id3','id4','id5','id6','id7','id8', 'id9'],'Name':['A','B','D','C',np.nan,'F','G','h','k'],\n",
    "                   'Value':[1,3,2,2,np.nan,np.nan,6,7,9],\n",
    "                   'Date': ['2021-06-01','2021-06-03','2021-06-05','2021-06-07','2021-06-09','2021-06-11',\n",
    "                            '2021-06-03','2021-06-04',np.nan],\n",
    "                   'X': [np.nan,4.,12.,8.,7.,11.,8.,13.,10], \n",
    "                   'Y': [np.nan,4.,20.,18.,104.,9.,1.,5.,6]})"
   ]
  },
  {
   "cell_type": "code",
   "execution_count": null,
   "id": "resident-physiology",
   "metadata": {},
   "outputs": [],
   "source": [
    "t1.merge(t2, on='ID', how='outer')"
   ]
  },
  {
   "cell_type": "markdown",
   "id": "10358a06",
   "metadata": {},
   "source": [
    "### Merging"
   ]
  },
  {
   "cell_type": "code",
   "execution_count": null,
   "id": "structured-brain",
   "metadata": {},
   "outputs": [],
   "source": [
    "m, conflicts = gdf_merger(t1, t2, on='ID', how='outer', dist_max=1., date_col='Date')"
   ]
  },
  {
   "cell_type": "code",
   "execution_count": null,
   "id": "fresh-tower",
   "metadata": {},
   "outputs": [],
   "source": [
    "#m['index'] = m['index'].astype('int')\n",
    "m"
   ]
  },
  {
   "cell_type": "markdown",
   "id": "20c581b7",
   "metadata": {},
   "source": [
    "### conflicts management"
   ]
  },
  {
   "cell_type": "code",
   "execution_count": null,
   "id": "durable-window",
   "metadata": {},
   "outputs": [],
   "source": [
    "conflicts"
   ]
  },
  {
   "cell_type": "code",
   "execution_count": null,
   "id": "86e829e6",
   "metadata": {
    "scrolled": true
   },
   "outputs": [],
   "source": [
    "data_validation(overall_data=m, conflict_data=conflicts, valid_dict={'Value_x':[1,7], 'Value_y':[3],\n",
    "                                                                    'Name_y':[2,3], 'Date_x':[1, 5]})"
   ]
  },
  {
   "cell_type": "markdown",
   "id": "88d634e9",
   "metadata": {},
   "source": [
    "### Results"
   ]
  },
  {
   "cell_type": "code",
   "execution_count": null,
   "id": "762ec75d",
   "metadata": {},
   "outputs": [],
   "source": [
    "m"
   ]
  },
  {
   "cell_type": "code",
   "execution_count": null,
   "id": "24b69df4",
   "metadata": {
    "scrolled": true
   },
   "outputs": [],
   "source": [
    "conflicts"
   ]
  },
  {
   "cell_type": "code",
   "execution_count": null,
   "id": "8cf5a787",
   "metadata": {},
   "outputs": [],
   "source": []
  }
 ],
 "metadata": {
  "kernelspec": {
   "display_name": "Python 3",
   "language": "python",
   "name": "python3"
  },
  "language_info": {
   "codemirror_mode": {
    "name": "ipython",
    "version": 3
   },
   "file_extension": ".py",
   "mimetype": "text/x-python",
   "name": "python",
   "nbconvert_exporter": "python",
   "pygments_lexer": "ipython3",
   "version": "3.8.5"
  }
 },
 "nbformat": 4,
 "nbformat_minor": 5
}
