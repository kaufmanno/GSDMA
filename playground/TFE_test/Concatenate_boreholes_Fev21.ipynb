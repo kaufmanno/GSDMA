{
 "cells": [
  {
   "cell_type": "markdown",
   "id": "indonesian-alloy",
   "metadata": {},
   "source": [
    "# Concatenate boreholes"
   ]
  },
  {
   "cell_type": "code",
   "execution_count": 1,
   "id": "national-opera",
   "metadata": {},
   "outputs": [],
   "source": [
    "%matplotlib widget"
   ]
  },
  {
   "cell_type": "raw",
   "id": "demanding-former",
   "metadata": {},
   "source": [
    "config Completer.use_jedi = False"
   ]
  },
  {
   "cell_type": "code",
   "execution_count": 2,
   "id": "naughty-clerk",
   "metadata": {},
   "outputs": [],
   "source": [
    "from utils.io import genID_dated, gdf_viewer, gdf_geom\n",
    "import re\n",
    "import copy\n",
    "import numpy as np\n",
    "import geopandas as gpd\n",
    "import pandas as pd\n",
    "from shapely.geometry import Point\n",
    "import datetime\n",
    "import matplotlib.pyplot as plt"
   ]
  },
  {
   "cell_type": "markdown",
   "id": "vocational-question",
   "metadata": {},
   "source": [
    "## Extraction des dates de forages du type de forage et du foreur de l'étude de caractérisation"
   ]
  },
  {
   "cell_type": "markdown",
   "id": "executed-monte",
   "metadata": {},
   "source": [
    "### Informations sur les forages de l'étude de caractérisation de 2010"
   ]
  },
  {
   "cell_type": "code",
   "execution_count": 3,
   "id": "identified-guyana",
   "metadata": {},
   "outputs": [
    {
     "name": "stdout",
     "output_type": "stream",
     "text": [
      "Rows : 2016, columns : 16\n"
     ]
    },
    {
     "data": {
      "application/vnd.jupyter.widget-view+json": {
       "model_id": "d04f9348e3d344c6ab661023d01586c5",
       "version_major": 2,
       "version_minor": 0
      },
      "text/plain": [
       "interactive(children=(IntSlider(value=10, description='rows', max=2016, min=10, readout=False), IntSlider(valu…"
      ]
     },
     "metadata": {},
     "output_type": "display_data"
    }
   ],
   "source": [
    "Logs_forages = pd.read_excel('../../CF_data/Data_SITEREM/Logs forages.xls',sheet_name='Forages, tranchées')\n",
    "gdf_viewer(Logs_forages)"
   ]
  },
  {
   "cell_type": "code",
   "execution_count": 4,
   "id": "worst-trauma",
   "metadata": {},
   "outputs": [],
   "source": [
    "Logs_forages = Logs_forages[['Date', 'N°', 'Id', 'Profondeur', 'Description', 'Piézo', 'Unnamed: 6',\n",
    "                             'Gouge Ø75', 'MFT Ø145', 'carottier', 'tarrière', 'Liner Ø60']] "
   ]
  },
  {
   "cell_type": "code",
   "execution_count": 5,
   "id": "opening-sunrise",
   "metadata": {},
   "outputs": [
    {
     "name": "stderr",
     "output_type": "stream",
     "text": [
      "/home/yanathan/.local/share/virtualenvs/GSDMA-DRfwm83x/lib/python3.8/site-packages/pandas/core/frame.py:4438: SettingWithCopyWarning: \n",
      "A value is trying to be set on a copy of a slice from a DataFrame\n",
      "\n",
      "See the caveats in the documentation: https://pandas.pydata.org/pandas-docs/stable/user_guide/indexing.html#returning-a-view-versus-a-copy\n",
      "  return super().rename(\n"
     ]
    }
   ],
   "source": [
    "Logs_forages.rename({'Gouge Ø75':'Gouge_75', 'Liner Ø60': 'Liner_60'}, axis=1, inplace=True)"
   ]
  },
  {
   "cell_type": "code",
   "execution_count": 6,
   "id": "scenic-grenada",
   "metadata": {},
   "outputs": [
    {
     "name": "stderr",
     "output_type": "stream",
     "text": [
      "/home/yanathan/.local/share/virtualenvs/GSDMA-DRfwm83x/lib/python3.8/site-packages/pandas/core/indexing.py:1720: SettingWithCopyWarning: \n",
      "A value is trying to be set on a copy of a slice from a DataFrame.\n",
      "Try using .loc[row_indexer,col_indexer] = value instead\n",
      "\n",
      "See the caveats in the documentation: https://pandas.pydata.org/pandas-docs/stable/user_guide/indexing.html#returning-a-view-versus-a-copy\n",
      "  self._setitem_single_column(loc, value, pi)\n"
     ]
    }
   ],
   "source": [
    "Logs_forages.loc[Logs_forages.query('Profondeur!=Profondeur' ).index,'Profondeur']=''"
   ]
  },
  {
   "cell_type": "code",
   "execution_count": 7,
   "id": "blond-psychiatry",
   "metadata": {},
   "outputs": [],
   "source": [
    "forages = Logs_forages.query('Profondeur.str.contains(\"Forage\") and Profondeur!=\"Forage bloqué\"', engine='python')\n",
    "#Logs_forages[\"Id\"].astype(str).str.contains('T')"
   ]
  },
  {
   "cell_type": "code",
   "execution_count": 8,
   "id": "helpful-composer",
   "metadata": {},
   "outputs": [
    {
     "name": "stderr",
     "output_type": "stream",
     "text": [
      "<ipython-input-8-07818ba03c75>:1: SettingWithCopyWarning: \n",
      "A value is trying to be set on a copy of a slice from a DataFrame.\n",
      "Try using .loc[row_indexer,col_indexer] = value instead\n",
      "\n",
      "See the caveats in the documentation: https://pandas.pydata.org/pandas-docs/stable/user_guide/indexing.html#returning-a-view-versus-a-copy\n",
      "  forages['Ref'] = forages['Profondeur'].apply(lambda x: x.split('Forage ')[1].replace(' ', ''))\n"
     ]
    }
   ],
   "source": [
    "forages['Ref'] = forages['Profondeur'].apply(lambda x: x.split('Forage ')[1].replace(' ', ''))"
   ]
  },
  {
   "cell_type": "code",
   "execution_count": 9,
   "id": "lucky-cleaning",
   "metadata": {},
   "outputs": [
    {
     "name": "stderr",
     "output_type": "stream",
     "text": [
      "<ipython-input-9-0d7b933e2cc3>:1: SettingWithCopyWarning: \n",
      "A value is trying to be set on a copy of a slice from a DataFrame.\n",
      "Try using .loc[row_indexer,col_indexer] = value instead\n",
      "\n",
      "See the caveats in the documentation: https://pandas.pydata.org/pandas-docs/stable/user_guide/indexing.html#returning-a-view-versus-a-copy\n",
      "  forages['tmp'] = forages['Piézo'].replace(np.nan, '', regex=True) + '-' + forages['Unnamed: 6'].replace(np.nan, '', regex=True) + '-' + forages['Gouge_75'].replace(np.nan, '', regex=True)\n"
     ]
    }
   ],
   "source": [
    "forages['tmp'] = forages['Piézo'].replace(np.nan, '', regex=True) + '-' + forages['Unnamed: 6'].replace(np.nan, '', regex=True) + '-' + forages['Gouge_75'].replace(np.nan, '', regex=True)"
   ]
  },
  {
   "cell_type": "code",
   "execution_count": 10,
   "id": "stupid-homework",
   "metadata": {},
   "outputs": [
    {
     "name": "stderr",
     "output_type": "stream",
     "text": [
      "<ipython-input-10-73fb0156ea3c>:2: SettingWithCopyWarning: \n",
      "A value is trying to be set on a copy of a slice from a DataFrame.\n",
      "Try using .loc[row_indexer,col_indexer] = value instead\n",
      "\n",
      "See the caveats in the documentation: https://pandas.pydata.org/pandas-docs/stable/user_guide/indexing.html#returning-a-view-versus-a-copy\n",
      "  forages['Type'] = forages['tmp'].apply(lambda x: 'Piezo' if x.lstrip(' ').split('-')[0].lower()=='x' else '')\n"
     ]
    }
   ],
   "source": [
    "#forages['Piezo'] = forages['tmp'].apply(lambda x: x.lstrip(' ').split('-')[0].lower()=='x') #1er code\n",
    "forages['Type'] = forages['tmp'].apply(lambda x: 'Piezo' if x.lstrip(' ').split('-')[0].lower()=='x' else '')"
   ]
  },
  {
   "cell_type": "code",
   "execution_count": 11,
   "id": "spiritual-terry",
   "metadata": {},
   "outputs": [
    {
     "name": "stderr",
     "output_type": "stream",
     "text": [
      "<ipython-input-11-1b9e989104a1>:1: SettingWithCopyWarning: \n",
      "A value is trying to be set on a copy of a slice from a DataFrame.\n",
      "Try using .loc[row_indexer,col_indexer] = value instead\n",
      "\n",
      "See the caveats in the documentation: https://pandas.pydata.org/pandas-docs/stable/user_guide/indexing.html#returning-a-view-versus-a-copy\n",
      "  forages['Societe'] = forages['tmp'].apply(lambda x: x.rstrip('-').split('-')[-1].upper())\n"
     ]
    }
   ],
   "source": [
    "forages['Societe'] = forages['tmp'].apply(lambda x: x.rstrip('-').split('-')[-1].upper()) "
   ]
  },
  {
   "cell_type": "code",
   "execution_count": 12,
   "id": "selected-float",
   "metadata": {},
   "outputs": [],
   "source": [
    "forages.loc[123, 'Societe']='SITEREM'"
   ]
  },
  {
   "cell_type": "code",
   "execution_count": 13,
   "id": "clean-least",
   "metadata": {},
   "outputs": [
    {
     "data": {
      "text/html": [
       "<div>\n",
       "<style scoped>\n",
       "    .dataframe tbody tr th:only-of-type {\n",
       "        vertical-align: middle;\n",
       "    }\n",
       "\n",
       "    .dataframe tbody tr th {\n",
       "        vertical-align: top;\n",
       "    }\n",
       "\n",
       "    .dataframe thead th {\n",
       "        text-align: right;\n",
       "    }\n",
       "</style>\n",
       "<table border=\"1\" class=\"dataframe\">\n",
       "  <thead>\n",
       "    <tr style=\"text-align: right;\">\n",
       "      <th></th>\n",
       "      <th>Date</th>\n",
       "      <th>Ref</th>\n",
       "      <th>Societe</th>\n",
       "      <th>Type</th>\n",
       "    </tr>\n",
       "  </thead>\n",
       "  <tbody>\n",
       "    <tr>\n",
       "      <th>0</th>\n",
       "      <td>2010-03-11</td>\n",
       "      <td>1</td>\n",
       "      <td>SBS ENVIRONNEMENT</td>\n",
       "      <td>Piezo</td>\n",
       "    </tr>\n",
       "    <tr>\n",
       "      <th>9</th>\n",
       "      <td>2010-03-11</td>\n",
       "      <td>2</td>\n",
       "      <td>SBS ENVIRONNEMENT</td>\n",
       "      <td></td>\n",
       "    </tr>\n",
       "    <tr>\n",
       "      <th>19</th>\n",
       "      <td>2010-03-11</td>\n",
       "      <td>3</td>\n",
       "      <td>SBS ENVIRONNEMENT</td>\n",
       "      <td></td>\n",
       "    </tr>\n",
       "    <tr>\n",
       "      <th>27</th>\n",
       "      <td>2010-03-10</td>\n",
       "      <td>4</td>\n",
       "      <td>SBS ENVIRONNEMENT</td>\n",
       "      <td></td>\n",
       "    </tr>\n",
       "    <tr>\n",
       "      <th>33</th>\n",
       "      <td>2010-03-12</td>\n",
       "      <td>5</td>\n",
       "      <td>SBS ENVIRONNEMENT</td>\n",
       "      <td></td>\n",
       "    </tr>\n",
       "    <tr>\n",
       "      <th>...</th>\n",
       "      <td>...</td>\n",
       "      <td>...</td>\n",
       "      <td>...</td>\n",
       "      <td>...</td>\n",
       "    </tr>\n",
       "    <tr>\n",
       "      <th>1973</th>\n",
       "      <td>2010-08-03</td>\n",
       "      <td>612c</td>\n",
       "      <td>SBS ENVIRONNEMENT</td>\n",
       "      <td></td>\n",
       "    </tr>\n",
       "    <tr>\n",
       "      <th>1977</th>\n",
       "      <td>2010-08-03</td>\n",
       "      <td>734</td>\n",
       "      <td>SITEREM</td>\n",
       "      <td>Piezo</td>\n",
       "    </tr>\n",
       "    <tr>\n",
       "      <th>1984</th>\n",
       "      <td>2010-09-01</td>\n",
       "      <td>FP595</td>\n",
       "      <td>SITEREM</td>\n",
       "      <td>Piezo</td>\n",
       "    </tr>\n",
       "    <tr>\n",
       "      <th>1994</th>\n",
       "      <td>2010-09-02</td>\n",
       "      <td>540</td>\n",
       "      <td>SITEREM</td>\n",
       "      <td>Piezo</td>\n",
       "    </tr>\n",
       "    <tr>\n",
       "      <th>2004</th>\n",
       "      <td>2010-09-20</td>\n",
       "      <td>600</td>\n",
       "      <td>SITEREM</td>\n",
       "      <td>Piezo</td>\n",
       "    </tr>\n",
       "  </tbody>\n",
       "</table>\n",
       "<p>281 rows × 4 columns</p>\n",
       "</div>"
      ],
      "text/plain": [
       "           Date    Ref            Societe   Type\n",
       "0    2010-03-11      1  SBS ENVIRONNEMENT  Piezo\n",
       "9    2010-03-11      2  SBS ENVIRONNEMENT       \n",
       "19   2010-03-11      3  SBS ENVIRONNEMENT       \n",
       "27   2010-03-10      4  SBS ENVIRONNEMENT       \n",
       "33   2010-03-12      5  SBS ENVIRONNEMENT       \n",
       "...         ...    ...                ...    ...\n",
       "1973 2010-08-03   612c  SBS ENVIRONNEMENT       \n",
       "1977 2010-08-03    734            SITEREM  Piezo\n",
       "1984 2010-09-01  FP595            SITEREM  Piezo\n",
       "1994 2010-09-02    540            SITEREM  Piezo\n",
       "2004 2010-09-20    600            SITEREM  Piezo\n",
       "\n",
       "[281 rows x 4 columns]"
      ]
     },
     "execution_count": 13,
     "metadata": {},
     "output_type": "execute_result"
    }
   ],
   "source": [
    "forages = forages[['Date', 'Ref', 'Societe', 'Type']]\n",
    "forages"
   ]
  },
  {
   "cell_type": "code",
   "execution_count": 14,
   "id": "suburban-handy",
   "metadata": {},
   "outputs": [
    {
     "data": {
      "text/plain": [
       "'2010'"
      ]
     },
     "execution_count": 14,
     "metadata": {},
     "output_type": "execute_result"
    }
   ],
   "source": [
    "str(forages['Date'][0].year)"
   ]
  },
  {
   "cell_type": "code",
   "execution_count": 15,
   "id": "gross-bubble",
   "metadata": {},
   "outputs": [],
   "source": [
    "forages['ID'] = forages['Date'].apply(lambda x : str(x.year) + '-') + forages['Ref']\n",
    "forages.drop('Ref', axis=1, inplace=True)"
   ]
  },
  {
   "cell_type": "code",
   "execution_count": 16,
   "id": "armed-theater",
   "metadata": {},
   "outputs": [
    {
     "data": {
      "text/html": [
       "<div>\n",
       "<style scoped>\n",
       "    .dataframe tbody tr th:only-of-type {\n",
       "        vertical-align: middle;\n",
       "    }\n",
       "\n",
       "    .dataframe tbody tr th {\n",
       "        vertical-align: top;\n",
       "    }\n",
       "\n",
       "    .dataframe thead th {\n",
       "        text-align: right;\n",
       "    }\n",
       "</style>\n",
       "<table border=\"1\" class=\"dataframe\">\n",
       "  <thead>\n",
       "    <tr style=\"text-align: right;\">\n",
       "      <th></th>\n",
       "      <th>Date</th>\n",
       "      <th>Societe</th>\n",
       "      <th>Type</th>\n",
       "      <th>ID</th>\n",
       "    </tr>\n",
       "  </thead>\n",
       "  <tbody>\n",
       "    <tr>\n",
       "      <th>0</th>\n",
       "      <td>2010-03-11</td>\n",
       "      <td>SBS ENVIRONNEMENT</td>\n",
       "      <td>Piezo</td>\n",
       "      <td>2010-1</td>\n",
       "    </tr>\n",
       "    <tr>\n",
       "      <th>9</th>\n",
       "      <td>2010-03-11</td>\n",
       "      <td>SBS ENVIRONNEMENT</td>\n",
       "      <td></td>\n",
       "      <td>2010-2</td>\n",
       "    </tr>\n",
       "    <tr>\n",
       "      <th>19</th>\n",
       "      <td>2010-03-11</td>\n",
       "      <td>SBS ENVIRONNEMENT</td>\n",
       "      <td></td>\n",
       "      <td>2010-3</td>\n",
       "    </tr>\n",
       "    <tr>\n",
       "      <th>27</th>\n",
       "      <td>2010-03-10</td>\n",
       "      <td>SBS ENVIRONNEMENT</td>\n",
       "      <td></td>\n",
       "      <td>2010-4</td>\n",
       "    </tr>\n",
       "    <tr>\n",
       "      <th>33</th>\n",
       "      <td>2010-03-12</td>\n",
       "      <td>SBS ENVIRONNEMENT</td>\n",
       "      <td></td>\n",
       "      <td>2010-5</td>\n",
       "    </tr>\n",
       "    <tr>\n",
       "      <th>...</th>\n",
       "      <td>...</td>\n",
       "      <td>...</td>\n",
       "      <td>...</td>\n",
       "      <td>...</td>\n",
       "    </tr>\n",
       "    <tr>\n",
       "      <th>1973</th>\n",
       "      <td>2010-08-03</td>\n",
       "      <td>SBS ENVIRONNEMENT</td>\n",
       "      <td></td>\n",
       "      <td>2010-612c</td>\n",
       "    </tr>\n",
       "    <tr>\n",
       "      <th>1977</th>\n",
       "      <td>2010-08-03</td>\n",
       "      <td>SITEREM</td>\n",
       "      <td>Piezo</td>\n",
       "      <td>2010-734</td>\n",
       "    </tr>\n",
       "    <tr>\n",
       "      <th>1984</th>\n",
       "      <td>2010-09-01</td>\n",
       "      <td>SITEREM</td>\n",
       "      <td>Piezo</td>\n",
       "      <td>2010-FP595</td>\n",
       "    </tr>\n",
       "    <tr>\n",
       "      <th>1994</th>\n",
       "      <td>2010-09-02</td>\n",
       "      <td>SITEREM</td>\n",
       "      <td>Piezo</td>\n",
       "      <td>2010-540</td>\n",
       "    </tr>\n",
       "    <tr>\n",
       "      <th>2004</th>\n",
       "      <td>2010-09-20</td>\n",
       "      <td>SITEREM</td>\n",
       "      <td>Piezo</td>\n",
       "      <td>2010-600</td>\n",
       "    </tr>\n",
       "  </tbody>\n",
       "</table>\n",
       "<p>281 rows × 4 columns</p>\n",
       "</div>"
      ],
      "text/plain": [
       "           Date            Societe   Type          ID\n",
       "0    2010-03-11  SBS ENVIRONNEMENT  Piezo      2010-1\n",
       "9    2010-03-11  SBS ENVIRONNEMENT             2010-2\n",
       "19   2010-03-11  SBS ENVIRONNEMENT             2010-3\n",
       "27   2010-03-10  SBS ENVIRONNEMENT             2010-4\n",
       "33   2010-03-12  SBS ENVIRONNEMENT             2010-5\n",
       "...         ...                ...    ...         ...\n",
       "1973 2010-08-03  SBS ENVIRONNEMENT          2010-612c\n",
       "1977 2010-08-03            SITEREM  Piezo    2010-734\n",
       "1984 2010-09-01            SITEREM  Piezo  2010-FP595\n",
       "1994 2010-09-02            SITEREM  Piezo    2010-540\n",
       "2004 2010-09-20            SITEREM  Piezo    2010-600\n",
       "\n",
       "[281 rows x 4 columns]"
      ]
     },
     "execution_count": 16,
     "metadata": {},
     "output_type": "execute_result"
    }
   ],
   "source": [
    "forages"
   ]
  },
  {
   "cell_type": "code",
   "execution_count": 17,
   "id": "ignored-soviet",
   "metadata": {},
   "outputs": [],
   "source": [
    "forages[['ID', 'Type', 'Societe']].to_csv('../../CF_data/synthese/Result_traitem/boreholes_No_XYZ.csv', index=False) #No position"
   ]
  },
  {
   "cell_type": "markdown",
   "id": "political-problem",
   "metadata": {},
   "source": [
    "### Lecture des fichiers de position des forages du pilote (version 8)"
   ]
  },
  {
   "cell_type": "code",
   "execution_count": 18,
   "id": "excess-paragraph",
   "metadata": {
    "scrolled": true
   },
   "outputs": [
    {
     "data": {
      "text/html": [
       "<div>\n",
       "<style scoped>\n",
       "    .dataframe tbody tr th:only-of-type {\n",
       "        vertical-align: middle;\n",
       "    }\n",
       "\n",
       "    .dataframe tbody tr th {\n",
       "        vertical-align: top;\n",
       "    }\n",
       "\n",
       "    .dataframe thead th {\n",
       "        text-align: right;\n",
       "    }\n",
       "</style>\n",
       "<table border=\"1\" class=\"dataframe\">\n",
       "  <thead>\n",
       "    <tr style=\"text-align: right;\">\n",
       "      <th></th>\n",
       "      <th>Id</th>\n",
       "      <th>Type</th>\n",
       "      <th>Pilote</th>\n",
       "      <th>Ref</th>\n",
       "      <th>diam</th>\n",
       "      <th>Valid</th>\n",
       "      <th>Syscal</th>\n",
       "      <th>Impo</th>\n",
       "      <th>Inox</th>\n",
       "      <th>Impo_perm</th>\n",
       "      <th>GPS2021</th>\n",
       "      <th>geometry</th>\n",
       "    </tr>\n",
       "  </thead>\n",
       "  <tbody>\n",
       "    <tr>\n",
       "      <th>18</th>\n",
       "      <td>0</td>\n",
       "      <td>4</td>\n",
       "      <td>1</td>\n",
       "      <td>400</td>\n",
       "      <td>0</td>\n",
       "      <td>0</td>\n",
       "      <td>0</td>\n",
       "      <td>0</td>\n",
       "      <td>0</td>\n",
       "      <td>0</td>\n",
       "      <td>NON</td>\n",
       "      <td>POINT (152885.032 122585.367)</td>\n",
       "    </tr>\n",
       "    <tr>\n",
       "      <th>32</th>\n",
       "      <td>0</td>\n",
       "      <td>5</td>\n",
       "      <td>1</td>\n",
       "      <td>500</td>\n",
       "      <td>0</td>\n",
       "      <td>0</td>\n",
       "      <td>0</td>\n",
       "      <td>0</td>\n",
       "      <td>0</td>\n",
       "      <td>0</td>\n",
       "      <td>NON</td>\n",
       "      <td>POINT (152890.824 122583.580)</td>\n",
       "    </tr>\n",
       "    <tr>\n",
       "      <th>63</th>\n",
       "      <td>0</td>\n",
       "      <td>3</td>\n",
       "      <td>1</td>\n",
       "      <td>306</td>\n",
       "      <td>0</td>\n",
       "      <td>0</td>\n",
       "      <td>0</td>\n",
       "      <td>0</td>\n",
       "      <td>0</td>\n",
       "      <td>0</td>\n",
       "      <td>NON</td>\n",
       "      <td>POINT (152867.452 122588.877)</td>\n",
       "    </tr>\n",
       "  </tbody>\n",
       "</table>\n",
       "</div>"
      ],
      "text/plain": [
       "    Id  Type  Pilote  Ref  diam  Valid  Syscal  Impo  Inox  Impo_perm GPS2021  \\\n",
       "18   0     4       1  400     0      0       0     0     0          0     NON   \n",
       "32   0     5       1  500     0      0       0     0     0          0     NON   \n",
       "63   0     3       1  306     0      0       0     0     0          0     NON   \n",
       "\n",
       "                         geometry  \n",
       "18  POINT (152885.032 122585.367)  \n",
       "32  POINT (152890.824 122583.580)  \n",
       "63  POINT (152867.452 122588.877)  "
      ]
     },
     "execution_count": 18,
     "metadata": {},
     "output_type": "execute_result"
    }
   ],
   "source": [
    "v8 = gpd.read_file('../../CF_data/Data_UMONS/SIG/Pilote_v8.0.shp')\n",
    "v8.query('GPS2021==\"NON\"')"
   ]
  },
  {
   "cell_type": "markdown",
   "id": "detected-adult",
   "metadata": {},
   "source": [
    "### forages phase 1"
   ]
  },
  {
   "cell_type": "code",
   "execution_count": 19,
   "id": "aware-toner",
   "metadata": {},
   "outputs": [
    {
     "name": "stdout",
     "output_type": "stream",
     "text": [
      "Rows : 71, columns : 19\n"
     ]
    },
    {
     "data": {
      "application/vnd.jupyter.widget-view+json": {
       "model_id": "e5346d386cc94addbdd0981000d7f66c",
       "version_major": 2,
       "version_minor": 0
      },
      "text/plain": [
       "interactive(children=(IntSlider(value=10, description='rows', max=71, min=10, readout=False), IntSlider(value=…"
      ]
     },
     "metadata": {},
     "output_type": "display_data"
    }
   ],
   "source": [
    "v2017 = gpd.read_file('../../CF_data/Data_UMONS/SIG/sondages_v2017-05-18.shp')\n",
    "gdf_viewer(v2017, 10, 15)"
   ]
  },
  {
   "cell_type": "code",
   "execution_count": 20,
   "id": "atomic-creativity",
   "metadata": {
    "scrolled": true
   },
   "outputs": [],
   "source": [
    "v2017['Ref'] = v2017['Date'].apply(lambda x : str(datetime.datetime.strptime(x, '%Y-%m-%d').year) + '-') + v2017['Ref_sond']"
   ]
  },
  {
   "cell_type": "markdown",
   "id": "critical-cincinnati",
   "metadata": {},
   "source": [
    "### lecture des données des sondages antérieurs"
   ]
  },
  {
   "cell_type": "code",
   "execution_count": 21,
   "id": "material-teacher",
   "metadata": {},
   "outputs": [],
   "source": [
    "sond_ant = pd.read_excel('../../CF_data/Data_UMONS/Logs_forages_vUmons_2018-03-20.xlsx', sheet_name='Sond_ant')"
   ]
  },
  {
   "cell_type": "code",
   "execution_count": 22,
   "id": "thorough-ensemble",
   "metadata": {},
   "outputs": [],
   "source": [
    "sond_ant['Ref'] = sond_ant['Ref_siterem'].apply(lambda x: '2010-' + str(x)) # Identifiant sur base de l'année"
   ]
  },
  {
   "cell_type": "code",
   "execution_count": 23,
   "id": "wrapped-bryan",
   "metadata": {},
   "outputs": [
    {
     "data": {
      "text/html": [
       "<div>\n",
       "<style scoped>\n",
       "    .dataframe tbody tr th:only-of-type {\n",
       "        vertical-align: middle;\n",
       "    }\n",
       "\n",
       "    .dataframe tbody tr th {\n",
       "        vertical-align: top;\n",
       "    }\n",
       "\n",
       "    .dataframe thead th {\n",
       "        text-align: right;\n",
       "    }\n",
       "</style>\n",
       "<table border=\"1\" class=\"dataframe\">\n",
       "  <thead>\n",
       "    <tr style=\"text-align: right;\">\n",
       "      <th></th>\n",
       "      <th>Ref_GIS</th>\n",
       "      <th>Ref_siterem</th>\n",
       "      <th>X</th>\n",
       "      <th>Y</th>\n",
       "      <th>Type</th>\n",
       "      <th>Ref</th>\n",
       "    </tr>\n",
       "  </thead>\n",
       "  <tbody>\n",
       "    <tr>\n",
       "      <th>0</th>\n",
       "      <td>1</td>\n",
       "      <td>500</td>\n",
       "      <td>152324.0</td>\n",
       "      <td>122975.0</td>\n",
       "      <td>Eau_RB</td>\n",
       "      <td>2010-500</td>\n",
       "    </tr>\n",
       "    <tr>\n",
       "      <th>1</th>\n",
       "      <td>2</td>\n",
       "      <td>501</td>\n",
       "      <td>152368.0</td>\n",
       "      <td>122909.0</td>\n",
       "      <td>Eau_RB</td>\n",
       "      <td>2010-501</td>\n",
       "    </tr>\n",
       "    <tr>\n",
       "      <th>2</th>\n",
       "      <td>3</td>\n",
       "      <td>511</td>\n",
       "      <td>152371.0</td>\n",
       "      <td>122771.0</td>\n",
       "      <td>Eau_RB</td>\n",
       "      <td>2010-511</td>\n",
       "    </tr>\n",
       "    <tr>\n",
       "      <th>3</th>\n",
       "      <td>4</td>\n",
       "      <td>513</td>\n",
       "      <td>152424.0</td>\n",
       "      <td>122752.0</td>\n",
       "      <td>Eau_RB</td>\n",
       "      <td>2010-513</td>\n",
       "    </tr>\n",
       "    <tr>\n",
       "      <th>4</th>\n",
       "      <td>5</td>\n",
       "      <td>514</td>\n",
       "      <td>152476.0</td>\n",
       "      <td>122786.0</td>\n",
       "      <td>Eau_RB</td>\n",
       "      <td>2010-514</td>\n",
       "    </tr>\n",
       "    <tr>\n",
       "      <th>...</th>\n",
       "      <td>...</td>\n",
       "      <td>...</td>\n",
       "      <td>...</td>\n",
       "      <td>...</td>\n",
       "      <td>...</td>\n",
       "      <td>...</td>\n",
       "    </tr>\n",
       "    <tr>\n",
       "      <th>252</th>\n",
       "      <td>253</td>\n",
       "      <td>520</td>\n",
       "      <td>152644.0</td>\n",
       "      <td>122791.0</td>\n",
       "      <td>SOL</td>\n",
       "      <td>2010-520</td>\n",
       "    </tr>\n",
       "    <tr>\n",
       "      <th>253</th>\n",
       "      <td>254</td>\n",
       "      <td>524</td>\n",
       "      <td>152570.0</td>\n",
       "      <td>122789.0</td>\n",
       "      <td>SOL</td>\n",
       "      <td>2010-524</td>\n",
       "    </tr>\n",
       "    <tr>\n",
       "      <th>254</th>\n",
       "      <td>255</td>\n",
       "      <td>525</td>\n",
       "      <td>152548.0</td>\n",
       "      <td>122783.0</td>\n",
       "      <td>SOL</td>\n",
       "      <td>2010-525</td>\n",
       "    </tr>\n",
       "    <tr>\n",
       "      <th>255</th>\n",
       "      <td>256</td>\n",
       "      <td>526</td>\n",
       "      <td>152553.0</td>\n",
       "      <td>122757.0</td>\n",
       "      <td>SOL</td>\n",
       "      <td>2010-526</td>\n",
       "    </tr>\n",
       "    <tr>\n",
       "      <th>256</th>\n",
       "      <td>257</td>\n",
       "      <td>FP117sup</td>\n",
       "      <td>152750.0</td>\n",
       "      <td>122781.0</td>\n",
       "      <td>SOL</td>\n",
       "      <td>2010-FP117sup</td>\n",
       "    </tr>\n",
       "  </tbody>\n",
       "</table>\n",
       "<p>257 rows × 6 columns</p>\n",
       "</div>"
      ],
      "text/plain": [
       "     Ref_GIS Ref_siterem         X         Y    Type            Ref\n",
       "0          1         500  152324.0  122975.0  Eau_RB       2010-500\n",
       "1          2         501  152368.0  122909.0  Eau_RB       2010-501\n",
       "2          3         511  152371.0  122771.0  Eau_RB       2010-511\n",
       "3          4         513  152424.0  122752.0  Eau_RB       2010-513\n",
       "4          5         514  152476.0  122786.0  Eau_RB       2010-514\n",
       "..       ...         ...       ...       ...     ...            ...\n",
       "252      253         520  152644.0  122791.0     SOL       2010-520\n",
       "253      254         524  152570.0  122789.0     SOL       2010-524\n",
       "254      255         525  152548.0  122783.0     SOL       2010-525\n",
       "255      256         526  152553.0  122757.0     SOL       2010-526\n",
       "256      257    FP117sup  152750.0  122781.0     SOL  2010-FP117sup\n",
       "\n",
       "[257 rows x 6 columns]"
      ]
     },
     "execution_count": 23,
     "metadata": {},
     "output_type": "execute_result"
    }
   ],
   "source": [
    "sond_ant"
   ]
  },
  {
   "cell_type": "code",
   "execution_count": 24,
   "id": "proper-ethics",
   "metadata": {},
   "outputs": [],
   "source": [
    "sond_ant_gdf = gpd.GeoDataFrame(sond_ant, geometry=gpd.points_from_xy(sond_ant.X, sond_ant.Y, crs=str('EPSG:31370')))"
   ]
  },
  {
   "cell_type": "markdown",
   "id": "expired-garage",
   "metadata": {},
   "source": [
    "### Lecture de l'extension du projet MEMORIS"
   ]
  },
  {
   "cell_type": "code",
   "execution_count": 25,
   "id": "hydraulic-verse",
   "metadata": {},
   "outputs": [],
   "source": [
    "ext = gpd.read_file('../../CF_data/Data_UMONS/SIG/Site_Memoris.shp')"
   ]
  },
  {
   "cell_type": "markdown",
   "id": "tender-completion",
   "metadata": {},
   "source": [
    "### Affichage carte"
   ]
  },
  {
   "cell_type": "code",
   "execution_count": 26,
   "id": "racial-giant",
   "metadata": {},
   "outputs": [],
   "source": [
    "def label(gdf, field, ax, size='xx-small'):\n",
    "    for x, y, label in zip(gdf.geometry.x, gdf.geometry.y, gdf[field]):\n",
    "        ax.annotate(label, xy=(x, y), xytext=(3, 3), textcoords='offset points', size=size)"
   ]
  },
  {
   "cell_type": "code",
   "execution_count": 27,
   "id": "collectible-trance",
   "metadata": {},
   "outputs": [
    {
     "data": {
      "application/vnd.jupyter.widget-view+json": {
       "model_id": "b25ab0beb9bd472ea28291f1165f2de7",
       "version_major": 2,
       "version_minor": 0
      },
      "text/plain": [
       "Canvas(toolbar=Toolbar(toolitems=[('Home', 'Reset original view', 'home', 'home'), ('Back', 'Back to previous …"
      ]
     },
     "metadata": {},
     "output_type": "display_data"
    }
   ],
   "source": [
    "fig, ax = plt.subplots(figsize=(6,6))\n",
    "ext.plot(ax=ax, color='grey')\n",
    "v2017.plot(ax=ax, color='r')\n",
    "\n",
    "#for x, y, label in zip(v2017.geometry.x, v2017.geometry.y, v2017.Ref_sond):\n",
    "#    ax.annotate(label, xy=(x, y), xytext=(3, 3), textcoords=\"offset points\")\n",
    "label(v2017, 'Ref', ax)\n",
    "v8.plot(ax=ax, color='g')\n",
    "label(v8, 'Ref', ax)  \n",
    "sond_ant_gdf.plot(ax=ax, color='b', markersize=1)\n",
    "label(sond_ant_gdf, 'Ref', ax)"
   ]
  },
  {
   "cell_type": "markdown",
   "id": "sized-poster",
   "metadata": {},
   "source": [
    "En ignorant Sond_ant_gdf"
   ]
  },
  {
   "cell_type": "code",
   "execution_count": 28,
   "id": "aboriginal-chambers",
   "metadata": {},
   "outputs": [],
   "source": [
    "v8['new_Ref'] = 'F'+v8['Ref']"
   ]
  },
  {
   "cell_type": "code",
   "execution_count": 29,
   "id": "standing-decrease",
   "metadata": {},
   "outputs": [],
   "source": [
    "BH = []\n",
    "BH.extend(v2017['Ref_sond'].to_list())\n",
    "BH.extend(v8['new_Ref'].to_list())"
   ]
  },
  {
   "cell_type": "code",
   "execution_count": 30,
   "id": "interim-appendix",
   "metadata": {},
   "outputs": [],
   "source": [
    "v8['ID'] = v8.new_Ref\n",
    "v2017['ID'] = v2017.Ref_sond"
   ]
  },
  {
   "cell_type": "code",
   "execution_count": 31,
   "id": "optical-strap",
   "metadata": {},
   "outputs": [],
   "source": [
    "v8['Z']=101."
   ]
  },
  {
   "cell_type": "code",
   "execution_count": 32,
   "id": "hundred-representation",
   "metadata": {},
   "outputs": [],
   "source": [
    "gdf = gpd.GeoDataFrame(pd.concat([v8[['geometry','ID', 'Z']], v2017[['geometry','ID', 'Z']]], ignore_index=True))"
   ]
  },
  {
   "cell_type": "code",
   "execution_count": 33,
   "id": "ranging-albuquerque",
   "metadata": {},
   "outputs": [
    {
     "data": {
      "application/vnd.jupyter.widget-view+json": {
       "model_id": "695f0ff9c8744547aa69f5f55e513f27",
       "version_major": 2,
       "version_minor": 0
      },
      "text/plain": [
       "Canvas(toolbar=Toolbar(toolitems=[('Home', 'Reset original view', 'home', 'home'), ('Back', 'Back to previous …"
      ]
     },
     "metadata": {},
     "output_type": "display_data"
    }
   ],
   "source": [
    "fig, ax = plt.subplots(figsize=(6,6))\n",
    "ext.plot(ax=ax, color='lightgrey')\n",
    "gdf.plot(ax=ax, markersize=1)\n",
    "label(gdf, 'ID', ax)"
   ]
  },
  {
   "cell_type": "code",
   "execution_count": 34,
   "id": "respected-stroke",
   "metadata": {},
   "outputs": [],
   "source": [
    "gdf['X']=gdf.geometry.x\n",
    "gdf['Y']=gdf.geometry.y"
   ]
  },
  {
   "cell_type": "code",
   "execution_count": 35,
   "id": "permanent-guidance",
   "metadata": {},
   "outputs": [],
   "source": [
    "gdf[['ID', 'X', 'Y', 'Z']].to_csv('../../CF_data/synthese/Result_traitem/boreholes_1.csv', index=False)"
   ]
  },
  {
   "cell_type": "markdown",
   "id": "modern-tactics",
   "metadata": {},
   "source": [
    "### Liste de tous les ouvrages références y compris les doublons entre jeux de données (et dans chaque jeu de donnée) "
   ]
  },
  {
   "cell_type": "code",
   "execution_count": 36,
   "id": "cooperative-recovery",
   "metadata": {},
   "outputs": [],
   "source": [
    "BH = []\n",
    "BH.extend(v2017['Ref_sond'].to_list())\n",
    "BH.extend(v8['Ref'].to_list())\n",
    "BH.extend(sond_ant_gdf['Ref_siterem'].to_list())"
   ]
  },
  {
   "cell_type": "code",
   "execution_count": 37,
   "id": "smooth-attention",
   "metadata": {},
   "outputs": [
    {
     "data": {
      "text/html": [
       "<div>\n",
       "<style scoped>\n",
       "    .dataframe tbody tr th:only-of-type {\n",
       "        vertical-align: middle;\n",
       "    }\n",
       "\n",
       "    .dataframe tbody tr th {\n",
       "        vertical-align: top;\n",
       "    }\n",
       "\n",
       "    .dataframe thead th {\n",
       "        text-align: right;\n",
       "    }\n",
       "</style>\n",
       "<table border=\"1\" class=\"dataframe\">\n",
       "  <thead>\n",
       "    <tr style=\"text-align: right;\">\n",
       "      <th></th>\n",
       "      <th>Ref_sond</th>\n",
       "      <th>Ref_siterem</th>\n",
       "    </tr>\n",
       "  </thead>\n",
       "  <tbody>\n",
       "    <tr>\n",
       "      <th>0</th>\n",
       "      <td>75</td>\n",
       "      <td>NaN</td>\n",
       "    </tr>\n",
       "    <tr>\n",
       "      <th>1</th>\n",
       "      <td>76</td>\n",
       "      <td>NaN</td>\n",
       "    </tr>\n",
       "    <tr>\n",
       "      <th>2</th>\n",
       "      <td>76b</td>\n",
       "      <td>76b</td>\n",
       "    </tr>\n",
       "    <tr>\n",
       "      <th>3</th>\n",
       "      <td>76c</td>\n",
       "      <td>76c</td>\n",
       "    </tr>\n",
       "    <tr>\n",
       "      <th>4</th>\n",
       "      <td>FP76</td>\n",
       "      <td>NaN</td>\n",
       "    </tr>\n",
       "    <tr>\n",
       "      <th>...</th>\n",
       "      <td>...</td>\n",
       "      <td>...</td>\n",
       "    </tr>\n",
       "    <tr>\n",
       "      <th>95</th>\n",
       "      <td>NaN</td>\n",
       "      <td>P1</td>\n",
       "    </tr>\n",
       "    <tr>\n",
       "      <th>96</th>\n",
       "      <td>NaN</td>\n",
       "      <td>P7</td>\n",
       "    </tr>\n",
       "    <tr>\n",
       "      <th>97</th>\n",
       "      <td>NaN</td>\n",
       "      <td>P8</td>\n",
       "    </tr>\n",
       "    <tr>\n",
       "      <th>98</th>\n",
       "      <td>NaN</td>\n",
       "      <td>P12</td>\n",
       "    </tr>\n",
       "    <tr>\n",
       "      <th>99</th>\n",
       "      <td>NaN</td>\n",
       "      <td>P15a</td>\n",
       "    </tr>\n",
       "  </tbody>\n",
       "</table>\n",
       "<p>100 rows × 2 columns</p>\n",
       "</div>"
      ],
      "text/plain": [
       "   Ref_sond Ref_siterem\n",
       "0        75         NaN\n",
       "1        76         NaN\n",
       "2       76b         76b\n",
       "3       76c         76c\n",
       "4      FP76         NaN\n",
       "..      ...         ...\n",
       "95      NaN          P1\n",
       "96      NaN          P7\n",
       "97      NaN          P8\n",
       "98      NaN         P12\n",
       "99      NaN        P15a\n",
       "\n",
       "[100 rows x 2 columns]"
      ]
     },
     "execution_count": 37,
     "metadata": {},
     "output_type": "execute_result"
    }
   ],
   "source": [
    "gdf = v2017.merge(sond_ant_gdf, how='outer', left_on='Ref_sond', right_on='Ref_siterem')\n",
    "gdf[['Ref_sond', 'Ref_siterem']][0:100]"
   ]
  },
  {
   "cell_type": "code",
   "execution_count": 38,
   "id": "waiting-concept",
   "metadata": {
    "scrolled": true
   },
   "outputs": [
    {
     "data": {
      "text/plain": [
       "2      76b\n",
       "3      76c\n",
       "7      78b\n",
       "9      P80\n",
       "10     P81\n",
       "16     97b\n",
       "18     P99\n",
       "24    P106\n",
       "25    P107\n",
       "29    538a\n",
       "61     P22\n",
       "65     P25\n",
       "Name: Ref_sond, dtype: object"
      ]
     },
     "execution_count": 38,
     "metadata": {},
     "output_type": "execute_result"
    }
   ],
   "source": [
    "gdf.query('Ref_sond==Ref_siterem')['Ref_sond']"
   ]
  },
  {
   "cell_type": "code",
   "execution_count": 39,
   "id": "coordinate-slovenia",
   "metadata": {},
   "outputs": [
    {
     "data": {
      "text/plain": [
       "[500,\n",
       " 501,\n",
       " 511,\n",
       " 513,\n",
       " 514,\n",
       " 517,\n",
       " 521,\n",
       " 522,\n",
       " 523,\n",
       " 528,\n",
       " 529,\n",
       " 530,\n",
       " 531,\n",
       " 531,\n",
       " 532,\n",
       " '540sup',\n",
       " 541,\n",
       " 541,\n",
       " 542,\n",
       " 544,\n",
       " 545,\n",
       " 'FP115',\n",
       " 'MW1',\n",
       " 'MW2',\n",
       " 'P1',\n",
       " 'P7',\n",
       " 'P8',\n",
       " 'P12',\n",
       " 'P15a',\n",
       " 'P32',\n",
       " 'P34',\n",
       " 'P44',\n",
       " 'P48b',\n",
       " 'P51',\n",
       " 'P58',\n",
       " 'P59',\n",
       " 'P64',\n",
       " 'P65',\n",
       " 'P67',\n",
       " 'P74',\n",
       " 'P86',\n",
       " 'P91',\n",
       " 'P109',\n",
       " 'P110',\n",
       " 'P112',\n",
       " 'P125',\n",
       " 'P143',\n",
       " 'P152',\n",
       " 'P162',\n",
       " 'P164',\n",
       " 'P165',\n",
       " 'P168',\n",
       " 'P170',\n",
       " 'P175',\n",
       " 'P181b',\n",
       " 'P186',\n",
       " 'P188',\n",
       " 'P197',\n",
       " 'P200',\n",
       " 'P205',\n",
       " 'P209',\n",
       " 'P214',\n",
       " 'P219b',\n",
       " 'P400',\n",
       " 'P405',\n",
       " 'P406',\n",
       " 'P410',\n",
       " 'P411',\n",
       " 'P595',\n",
       " '76sup',\n",
       " '63sup',\n",
       " '49sup',\n",
       " '14sup',\n",
       " 'P512',\n",
       " 504,\n",
       " 509,\n",
       " 510,\n",
       " 533,\n",
       " 534,\n",
       " 536,\n",
       " 537,\n",
       " 539,\n",
       " 540,\n",
       " '540a',\n",
       " 543,\n",
       " 595,\n",
       " 734,\n",
       " '26275b',\n",
       " 'FP14prof',\n",
       " 'FP14sup',\n",
       " 'P28',\n",
       " 'P129',\n",
       " 'P142',\n",
       " 'P166',\n",
       " 'P167',\n",
       " 'P172',\n",
       " 'P180',\n",
       " 'P403',\n",
       " 'P412',\n",
       " 502,\n",
       " 502,\n",
       " '160prof',\n",
       " '160sup',\n",
       " 508,\n",
       " 512,\n",
       " 'FP15',\n",
       " 'FP49prof',\n",
       " 'FP49sup',\n",
       " 'FP63prof',\n",
       " 'FP63sup',\n",
       " 'FP76prof',\n",
       " 'FP76sup',\n",
       " 'FP117prof',\n",
       " 'FP600',\n",
       " 'FP595',\n",
       " 2,\n",
       " 3,\n",
       " 4,\n",
       " 5,\n",
       " 6,\n",
       " 9,\n",
       " 10,\n",
       " 11,\n",
       " 13,\n",
       " 19,\n",
       " 23,\n",
       " 24,\n",
       " 26,\n",
       " 27,\n",
       " 29,\n",
       " 30,\n",
       " 31,\n",
       " 33,\n",
       " 35,\n",
       " 36,\n",
       " 37,\n",
       " '37b',\n",
       " 38,\n",
       " 39,\n",
       " 40,\n",
       " 41,\n",
       " 42,\n",
       " 43,\n",
       " 47,\n",
       " 49,\n",
       " '50b',\n",
       " 52,\n",
       " 53,\n",
       " 60,\n",
       " 61,\n",
       " 62,\n",
       " 68,\n",
       " 73,\n",
       " 75,\n",
       " 76,\n",
       " 77,\n",
       " 78,\n",
       " 79,\n",
       " 82,\n",
       " 83,\n",
       " 84,\n",
       " 85,\n",
       " 87,\n",
       " 88,\n",
       " '88b',\n",
       " 89,\n",
       " 90,\n",
       " 92,\n",
       " 94,\n",
       " '94b',\n",
       " '94c',\n",
       " 95,\n",
       " 96,\n",
       " 97,\n",
       " 98,\n",
       " 100,\n",
       " 102,\n",
       " 103,\n",
       " 104,\n",
       " 105,\n",
       " 108,\n",
       " 111,\n",
       " 113,\n",
       " 114,\n",
       " 116,\n",
       " 118,\n",
       " 119,\n",
       " '119a',\n",
       " 120,\n",
       " 121,\n",
       " 122,\n",
       " 123,\n",
       " 124,\n",
       " 126,\n",
       " 127,\n",
       " 128,\n",
       " 130,\n",
       " 131,\n",
       " 133,\n",
       " 134,\n",
       " 135,\n",
       " 137,\n",
       " 138,\n",
       " 139,\n",
       " 140,\n",
       " 141,\n",
       " 144,\n",
       " 154,\n",
       " 157,\n",
       " 159,\n",
       " 161,\n",
       " 163,\n",
       " 169,\n",
       " 171,\n",
       " 176,\n",
       " 178,\n",
       " 179,\n",
       " 183,\n",
       " 184,\n",
       " 189,\n",
       " 194,\n",
       " 195,\n",
       " '195a',\n",
       " 211,\n",
       " 212,\n",
       " 213,\n",
       " 215,\n",
       " 216,\n",
       " 217,\n",
       " 218,\n",
       " 219,\n",
       " 402,\n",
       " 404,\n",
       " 503,\n",
       " 506,\n",
       " '506a',\n",
       " 507,\n",
       " 516,\n",
       " 518,\n",
       " 519,\n",
       " 520,\n",
       " 524,\n",
       " 525,\n",
       " 526,\n",
       " 'FP117sup']"
      ]
     },
     "execution_count": 39,
     "metadata": {},
     "output_type": "execute_result"
    }
   ],
   "source": [
    "gdf.query('Ref_sond!=Ref_sond')['Ref_siterem'].to_list()"
   ]
  },
  {
   "cell_type": "code",
   "execution_count": 40,
   "id": "flush-youth",
   "metadata": {},
   "outputs": [
    {
     "data": {
      "text/plain": [
       "416"
      ]
     },
     "execution_count": 40,
     "metadata": {},
     "output_type": "execute_result"
    }
   ],
   "source": [
    "len(BH)"
   ]
  },
  {
   "cell_type": "code",
   "execution_count": 41,
   "id": "chronic-short",
   "metadata": {},
   "outputs": [
    {
     "data": {
      "text/plain": [
       "395"
      ]
     },
     "execution_count": 41,
     "metadata": {},
     "output_type": "execute_result"
    }
   ],
   "source": [
    "len(set(BH)) # uniques values"
   ]
  },
  {
   "cell_type": "code",
   "execution_count": 42,
   "id": "median-greenhouse",
   "metadata": {
    "scrolled": true
   },
   "outputs": [
    {
     "data": {
      "text/plain": [
       "['75',\n",
       " '76',\n",
       " 'FP76',\n",
       " '77',\n",
       " '78',\n",
       " '79',\n",
       " '82',\n",
       " '83',\n",
       " '95',\n",
       " '96',\n",
       " '97',\n",
       " '98',\n",
       " '100',\n",
       " '102',\n",
       " '103',\n",
       " '104',\n",
       " '105',\n",
       " '108',\n",
       " '536',\n",
       " '537',\n",
       " 'P1aM',\n",
       " 'P1bM',\n",
       " 'P2M',\n",
       " 'P3M',\n",
       " 'P4M',\n",
       " 'P5M',\n",
       " 'P6M',\n",
       " 'P7aM',\n",
       " 'P7bM',\n",
       " 'P8M',\n",
       " 'P9aM',\n",
       " 'P9bM',\n",
       " 'P10M',\n",
       " 'P11M',\n",
       " 'P12M',\n",
       " 'P13M',\n",
       " 'P14M',\n",
       " 'P15bM',\n",
       " 'P15aM',\n",
       " \"P15a'M\",\n",
       " 'P16M',\n",
       " 'P17aM',\n",
       " 'P17bM',\n",
       " 'P17cM',\n",
       " 'P17dM',\n",
       " 'F18a',\n",
       " 'F18b',\n",
       " 'P18c',\n",
       " 'P19',\n",
       " 'P20',\n",
       " 'P21',\n",
       " 'P23',\n",
       " 'F24a',\n",
       " 'P24b',\n",
       " 'P26',\n",
       " 'F27a',\n",
       " 'F27b',\n",
       " 'F27c',\n",
       " 'P27d']"
      ]
     },
     "execution_count": 42,
     "metadata": {},
     "output_type": "execute_result"
    }
   ],
   "source": [
    "gdf.query('Ref_siterem!=Ref_siterem')['Ref_sond'].to_list()"
   ]
  },
  {
   "cell_type": "code",
   "execution_count": 43,
   "id": "editorial-relief",
   "metadata": {},
   "outputs": [
    {
     "data": {
      "text/plain": [
       "Index(['Ref_GIS_x', 'Ref_sond', 'XL72', 'YL72', 'Z', 'Refus', 'Date',\n",
       "       'Prof_sond', 'Cote_fond', 'RB', 'ALL', 'S_A', 'S_S', 'Base_RB',\n",
       "       'Cote_B_RB', 'Top_All', 'Top_SA', 'Top_SS', 'geometry_x', 'Ref_x', 'ID',\n",
       "       'Ref_GIS_y', 'Ref_siterem', 'X', 'Y', 'Type', 'Ref_y', 'geometry_y'],\n",
       "      dtype='object')"
      ]
     },
     "execution_count": 43,
     "metadata": {},
     "output_type": "execute_result"
    }
   ],
   "source": [
    "gdf.columns"
   ]
  },
  {
   "cell_type": "code",
   "execution_count": 44,
   "id": "loaded-showcase",
   "metadata": {},
   "outputs": [],
   "source": [
    "for idx, row in gdf.iterrows():\n",
    "    if row['geometry_x'] is None:\n",
    "        if row['geometry_y'] is not None:\n",
    "            gdf.loc[idx, 'distance'] = 0.\n",
    "        else:\n",
    "            gdf.loc[idx, 'distance'] = None\n",
    "    else:\n",
    "        if row['geometry_y'] is None:\n",
    "            gdf.loc[idx, 'distance'] = 0.\n",
    "        else:\n",
    "            gdf.loc[idx, 'distance'] = row['geometry_x'].distance(row['geometry_y'])"
   ]
  },
  {
   "cell_type": "code",
   "execution_count": 45,
   "id": "organizational-metropolitan",
   "metadata": {},
   "outputs": [
    {
     "data": {
      "text/html": [
       "<div>\n",
       "<style scoped>\n",
       "    .dataframe tbody tr th:only-of-type {\n",
       "        vertical-align: middle;\n",
       "    }\n",
       "\n",
       "    .dataframe tbody tr th {\n",
       "        vertical-align: top;\n",
       "    }\n",
       "\n",
       "    .dataframe thead th {\n",
       "        text-align: right;\n",
       "    }\n",
       "</style>\n",
       "<table border=\"1\" class=\"dataframe\">\n",
       "  <thead>\n",
       "    <tr style=\"text-align: right;\">\n",
       "      <th></th>\n",
       "      <th>Ref_GIS_x</th>\n",
       "      <th>Ref_sond</th>\n",
       "      <th>XL72</th>\n",
       "      <th>YL72</th>\n",
       "      <th>Z</th>\n",
       "      <th>Refus</th>\n",
       "      <th>Date</th>\n",
       "      <th>Prof_sond</th>\n",
       "      <th>Cote_fond</th>\n",
       "      <th>RB</th>\n",
       "      <th>...</th>\n",
       "      <th>Ref_x</th>\n",
       "      <th>ID</th>\n",
       "      <th>Ref_GIS_y</th>\n",
       "      <th>Ref_siterem</th>\n",
       "      <th>X</th>\n",
       "      <th>Y</th>\n",
       "      <th>Type</th>\n",
       "      <th>Ref_y</th>\n",
       "      <th>geometry_y</th>\n",
       "      <th>distance</th>\n",
       "    </tr>\n",
       "  </thead>\n",
       "  <tbody>\n",
       "  </tbody>\n",
       "</table>\n",
       "<p>0 rows × 29 columns</p>\n",
       "</div>"
      ],
      "text/plain": [
       "Empty DataFrame\n",
       "Columns: [Ref_GIS_x, Ref_sond, XL72, YL72, Z, Refus, Date, Prof_sond, Cote_fond, RB, ALL, S_A, S_S, Base_RB, Cote_B_RB, Top_All, Top_SA, Top_SS, geometry_x, Ref_x, ID, Ref_GIS_y, Ref_siterem, X, Y, Type, Ref_y, geometry_y, distance]\n",
       "Index: []\n",
       "\n",
       "[0 rows x 29 columns]"
      ]
     },
     "execution_count": 45,
     "metadata": {},
     "output_type": "execute_result"
    }
   ],
   "source": [
    "gdf.query('distance != distance') # recherche de forages n'ayant aucune coordonnées"
   ]
  },
  {
   "cell_type": "code",
   "execution_count": 46,
   "id": "grave-legislature",
   "metadata": {},
   "outputs": [],
   "source": [
    "gdf.rename(columns={'Prof_sond':'Long'}, inplace=True)\n",
    "gdf.loc[gdf.query('Refus==1').index, 'Refus']=True\n",
    "gdf.loc[gdf.query('Refus==0').index, 'Refus']=False"
   ]
  },
  {
   "cell_type": "code",
   "execution_count": 47,
   "id": "pressing-biodiversity",
   "metadata": {},
   "outputs": [
    {
     "name": "stdout",
     "output_type": "stream",
     "text": [
      "Rows : 316, columns : 29\n"
     ]
    },
    {
     "data": {
      "application/vnd.jupyter.widget-view+json": {
       "model_id": "1509b21d8c604907a40d5a9a123146b1",
       "version_major": 2,
       "version_minor": 0
      },
      "text/plain": [
       "interactive(children=(IntSlider(value=10, description='rows', max=316, min=10, readout=False), IntSlider(value…"
      ]
     },
     "metadata": {},
     "output_type": "display_data"
    }
   ],
   "source": [
    "gdf_viewer(gdf)"
   ]
  },
  {
   "cell_type": "code",
   "execution_count": 48,
   "id": "neither-reputation",
   "metadata": {},
   "outputs": [],
   "source": [
    "pd.DataFrame(gdf)[['ID', 'X', 'Y', 'Z', 'Long','Refus']].to_csv('../../CF_data/synthese/Result_traitem/boreholes_1geom.csv', index=False)"
   ]
  },
  {
   "cell_type": "markdown",
   "id": "direct-profit",
   "metadata": {},
   "source": [
    "//////////////////////////////////////--- Recupération de données des autres fichiers ---///////////////////////////////////////////////////////////////////////"
   ]
  },
  {
   "cell_type": "markdown",
   "id": "alien-nylon",
   "metadata": {},
   "source": [
    "## Lecture d'autres fichiers (1 ou plusieurs feuilles)"
   ]
  },
  {
   "cell_type": "markdown",
   "id": "ignored-precipitation",
   "metadata": {},
   "source": [
    "- Regrouper les infos sur les (ID, X, Y, Z, Long, Type) pour définir la géométrie des BH\n",
    "\n",
    "- Regrouper les infos sur les (ID, X, Y, Z_top, Z_base, Type) pour définir les échantillons\n",
    "\n",
    "- Regrouper les infos sur la lithologie (Z_top, Z_base) et les lier aux ID\n",
    "\n",
    "- ..."
   ]
  },
  {
   "cell_type": "markdown",
   "id": "sixth-coordinator",
   "metadata": {},
   "source": [
    "### A - Fichiers contenant au moins les positions XYZ"
   ]
  },
  {
   "cell_type": "markdown",
   "id": "decimal-tower",
   "metadata": {},
   "source": [
    "### A.1- ../../CF_data//Data_UMONS/Logs_forages_vUmons_2018-03-20.xlsx\n",
    "* **Feuille : 'Sond2017v3' (F)**"
   ]
  },
  {
   "cell_type": "code",
   "execution_count": 49,
   "id": "rolled-sender",
   "metadata": {},
   "outputs": [],
   "source": [
    "For_synth=gpd.GeoDataFrame({})"
   ]
  },
  {
   "cell_type": "code",
   "execution_count": 50,
   "id": "controversial-budapest",
   "metadata": {},
   "outputs": [
    {
     "name": "stdout",
     "output_type": "stream",
     "text": [
      "Rows : 89, columns : 32\n"
     ]
    },
    {
     "data": {
      "application/vnd.jupyter.widget-view+json": {
       "model_id": "8b672a2d6ed242f58d12957845a4930a",
       "version_major": 2,
       "version_minor": 0
      },
      "text/plain": [
       "interactive(children=(IntSlider(value=10, description='rows', max=89, min=10, readout=False), IntSlider(value=…"
      ]
     },
     "metadata": {},
     "output_type": "display_data"
    }
   ],
   "source": [
    "tmp_for = pd.read_excel('../../CF_data//Data_UMONS/Logs_forages_vUmons_2018-03-20.xlsx', sheet_name='Sond2017v3')#, skiprows=1)\n",
    "gdf_viewer(tmp_for)"
   ]
  },
  {
   "cell_type": "code",
   "execution_count": 51,
   "id": "stock-bleeding",
   "metadata": {},
   "outputs": [
    {
     "data": {
      "text/plain": [
       "Index(['Ref_GIS', 'Ref_sond', 'XL72', 'YL72', 'Z', 'Refus', 'Date',\n",
       "       'Prof_sond', 'Cote_fond', 'RB', 'ALL', 'S_A', 'S_S', 'Base_RB',\n",
       "       'Cote_B_RB', 'Top_All', 'Top_SA', 'Top_SS', 'Unnamed: 18',\n",
       "       'Unnamed: 19', 'Unnamed: 20', 'Unnamed: 21', 'Unnamed: 22',\n",
       "       'Unnamed: 23', 'Unnamed: 24', 'Unnamed: 25', 'Unnamed: 26',\n",
       "       'Unnamed: 27', 'Unnamed: 28', 'Unnamed: 29', 'Unnamed: 30',\n",
       "       'Unnamed: 31'],\n",
       "      dtype='object')"
      ]
     },
     "execution_count": 51,
     "metadata": {},
     "output_type": "execute_result"
    }
   ],
   "source": [
    "tmp_for.columns"
   ]
  },
  {
   "cell_type": "code",
   "execution_count": 52,
   "id": "bright-advertising",
   "metadata": {},
   "outputs": [
    {
     "data": {
      "text/plain": [
       "Index(['Ref_x', 'X', 'Y', 'Z', 'Refus', 'Date', 'Long', 'Cote_fond', 'RB',\n",
       "       'ALL', 'S_A', 'S_S', 'Base_RB', 'Cote_B_RB', 'Top_All', 'Top_SA',\n",
       "       'Top_SS'],\n",
       "      dtype='object')"
      ]
     },
     "execution_count": 52,
     "metadata": {},
     "output_type": "execute_result"
    }
   ],
   "source": [
    "tmp_for.rename(columns={'Ref_sond':'Ref_x','XL72':'X', 'YL72':'Y', 'Z (m)':'Z',\n",
    "        'Prof_sond':'Long', 'Base des Remblais (m)':'Base_RB',\n",
    "        'Sommet des Alluvions (m)':'Top_All', 'Sommet du Socle altéré (m)':'Top_SA',\n",
    "        'Sommet du Socle sain (m)':'Top_SS'}, inplace=True)\n",
    "\n",
    "tmp_for.drop(columns=[tmp_for.columns.to_list()[x] for x in range(len(tmp_for.columns)) \n",
    "       if re.compile(r\"Unnamed|Ref_GIS\").match(tmp_for.columns.to_list()[x])], axis=1, inplace=True) \n",
    "\n",
    "tmp_for.columns"
   ]
  },
  {
   "cell_type": "code",
   "execution_count": 53,
   "id": "grave-demographic",
   "metadata": {},
   "outputs": [],
   "source": [
    "tmp_for=tmp_for[['Date', 'Ref_x', 'X', 'Y', 'Z', 'Long', 'Refus', 'Base_RB','Top_All', 'Top_SA','Top_SS',]]"
   ]
  },
  {
   "cell_type": "code",
   "execution_count": 54,
   "id": "treated-underground",
   "metadata": {},
   "outputs": [
    {
     "name": "stderr",
     "output_type": "stream",
     "text": [
      "/home/yanathan/.local/share/virtualenvs/GSDMA-DRfwm83x/lib/python3.8/site-packages/pandas/core/indexing.py:1720: SettingWithCopyWarning: \n",
      "A value is trying to be set on a copy of a slice from a DataFrame.\n",
      "Try using .loc[row_indexer,col_indexer] = value instead\n",
      "\n",
      "See the caveats in the documentation: https://pandas.pydata.org/pandas-docs/stable/user_guide/indexing.html#returning-a-view-versus-a-copy\n",
      "  self._setitem_single_column(loc, value, pi)\n",
      "/home/yanathan/.local/share/virtualenvs/GSDMA-DRfwm83x/lib/python3.8/site-packages/pandas/core/indexing.py:1720: SettingWithCopyWarning: \n",
      "A value is trying to be set on a copy of a slice from a DataFrame.\n",
      "Try using .loc[row_indexer,col_indexer] = value instead\n",
      "\n",
      "See the caveats in the documentation: https://pandas.pydata.org/pandas-docs/stable/user_guide/indexing.html#returning-a-view-versus-a-copy\n",
      "  self._setitem_single_column(loc, value, pi)\n"
     ]
    }
   ],
   "source": [
    "tmp_for.loc[tmp_for.query('Long==9999').index, 'Long']=np.nan\n",
    "tmp_for.loc[tmp_for.query('Z==9999').index, 'Z']=np.nan"
   ]
  },
  {
   "cell_type": "code",
   "execution_count": 55,
   "id": "outstanding-satellite",
   "metadata": {
    "scrolled": true
   },
   "outputs": [],
   "source": [
    "for i,j in tmp_for.iterrows():\n",
    "    if tmp_for.loc[i, 'Refus']==1:\n",
    "        tmp_for.loc[i, 'Refus']=True\n",
    "    else :\n",
    "        tmp_for.loc[i, 'Refus']=False"
   ]
  },
  {
   "cell_type": "code",
   "execution_count": 56,
   "id": "moving-ending",
   "metadata": {},
   "outputs": [
    {
     "name": "stderr",
     "output_type": "stream",
     "text": [
      "/home/yanathan/.local/share/virtualenvs/GSDMA-DRfwm83x/lib/python3.8/site-packages/pyproj/crs/crs.py:53: FutureWarning: '+init=<authority>:<code>' syntax is deprecated. '<authority>:<code>' is the preferred initialization method. When making the change, be mindful of axis order changes: https://pyproj4.github.io/pyproj/stable/gotchas.html#axis-order-changes-in-proj-6\n",
      "  return _prepare_from_string(\" \".join(pjargs))\n"
     ]
    },
    {
     "data": {
      "text/html": [
       "<div>\n",
       "<style scoped>\n",
       "    .dataframe tbody tr th:only-of-type {\n",
       "        vertical-align: middle;\n",
       "    }\n",
       "\n",
       "    .dataframe tbody tr th {\n",
       "        vertical-align: top;\n",
       "    }\n",
       "\n",
       "    .dataframe thead th {\n",
       "        text-align: right;\n",
       "    }\n",
       "</style>\n",
       "<table border=\"1\" class=\"dataframe\">\n",
       "  <thead>\n",
       "    <tr style=\"text-align: right;\">\n",
       "      <th></th>\n",
       "      <th>Date</th>\n",
       "      <th>Ref_x</th>\n",
       "      <th>X</th>\n",
       "      <th>Y</th>\n",
       "      <th>Z</th>\n",
       "      <th>Long</th>\n",
       "      <th>Refus</th>\n",
       "      <th>Base_RB</th>\n",
       "      <th>Top_All</th>\n",
       "      <th>Top_SA</th>\n",
       "      <th>Top_SS</th>\n",
       "      <th>geometry</th>\n",
       "    </tr>\n",
       "  </thead>\n",
       "  <tbody>\n",
       "    <tr>\n",
       "      <th>0</th>\n",
       "      <td>2016-12-31</td>\n",
       "      <td>75</td>\n",
       "      <td>152836.000000</td>\n",
       "      <td>122609.000000</td>\n",
       "      <td>102.652</td>\n",
       "      <td>5.7</td>\n",
       "      <td>False</td>\n",
       "      <td>4.3</td>\n",
       "      <td>4.3</td>\n",
       "      <td>NaN</td>\n",
       "      <td>NaN</td>\n",
       "      <td>POINT (152836.000 122609.000)</td>\n",
       "    </tr>\n",
       "    <tr>\n",
       "      <th>1</th>\n",
       "      <td>2016-12-31</td>\n",
       "      <td>76</td>\n",
       "      <td>152867.000000</td>\n",
       "      <td>122611.000000</td>\n",
       "      <td>102.751</td>\n",
       "      <td>1.2</td>\n",
       "      <td>True</td>\n",
       "      <td>NaN</td>\n",
       "      <td>NaN</td>\n",
       "      <td>NaN</td>\n",
       "      <td>NaN</td>\n",
       "      <td>POINT (152867.000 122611.000)</td>\n",
       "    </tr>\n",
       "    <tr>\n",
       "      <th>2</th>\n",
       "      <td>2016-12-31</td>\n",
       "      <td>76b</td>\n",
       "      <td>152867.000000</td>\n",
       "      <td>122610.000000</td>\n",
       "      <td>102.751</td>\n",
       "      <td>3.0</td>\n",
       "      <td>True</td>\n",
       "      <td>NaN</td>\n",
       "      <td>NaN</td>\n",
       "      <td>NaN</td>\n",
       "      <td>NaN</td>\n",
       "      <td>POINT (152867.000 122610.000)</td>\n",
       "    </tr>\n",
       "    <tr>\n",
       "      <th>3</th>\n",
       "      <td>2016-12-31</td>\n",
       "      <td>76c</td>\n",
       "      <td>152867.000000</td>\n",
       "      <td>122608.000000</td>\n",
       "      <td>102.751</td>\n",
       "      <td>2.5</td>\n",
       "      <td>True</td>\n",
       "      <td>NaN</td>\n",
       "      <td>NaN</td>\n",
       "      <td>NaN</td>\n",
       "      <td>NaN</td>\n",
       "      <td>POINT (152867.000 122608.000)</td>\n",
       "    </tr>\n",
       "    <tr>\n",
       "      <th>4</th>\n",
       "      <td>2016-12-31</td>\n",
       "      <td>FP76</td>\n",
       "      <td>152860.000000</td>\n",
       "      <td>122608.000000</td>\n",
       "      <td>102.727</td>\n",
       "      <td>18.5</td>\n",
       "      <td>False</td>\n",
       "      <td>8.0</td>\n",
       "      <td>NaN</td>\n",
       "      <td>8.0</td>\n",
       "      <td>12.5</td>\n",
       "      <td>POINT (152860.000 122608.000)</td>\n",
       "    </tr>\n",
       "    <tr>\n",
       "      <th>...</th>\n",
       "      <td>...</td>\n",
       "      <td>...</td>\n",
       "      <td>...</td>\n",
       "      <td>...</td>\n",
       "      <td>...</td>\n",
       "      <td>...</td>\n",
       "      <td>...</td>\n",
       "      <td>...</td>\n",
       "      <td>...</td>\n",
       "      <td>...</td>\n",
       "      <td>...</td>\n",
       "      <td>...</td>\n",
       "    </tr>\n",
       "    <tr>\n",
       "      <th>84</th>\n",
       "      <td>NaT</td>\n",
       "      <td>F30</td>\n",
       "      <td>152887.892567</td>\n",
       "      <td>122581.184654</td>\n",
       "      <td>NaN</td>\n",
       "      <td>NaN</td>\n",
       "      <td>False</td>\n",
       "      <td>NaN</td>\n",
       "      <td>NaN</td>\n",
       "      <td>NaN</td>\n",
       "      <td>NaN</td>\n",
       "      <td>POINT (152887.893 122581.185)</td>\n",
       "    </tr>\n",
       "    <tr>\n",
       "      <th>85</th>\n",
       "      <td>NaT</td>\n",
       "      <td>F31</td>\n",
       "      <td>152885.916612</td>\n",
       "      <td>122578.766886</td>\n",
       "      <td>NaN</td>\n",
       "      <td>NaN</td>\n",
       "      <td>False</td>\n",
       "      <td>NaN</td>\n",
       "      <td>NaN</td>\n",
       "      <td>NaN</td>\n",
       "      <td>NaN</td>\n",
       "      <td>POINT (152885.917 122578.767)</td>\n",
       "    </tr>\n",
       "    <tr>\n",
       "      <th>86</th>\n",
       "      <td>NaT</td>\n",
       "      <td>F32</td>\n",
       "      <td>152885.673928</td>\n",
       "      <td>122581.757054</td>\n",
       "      <td>NaN</td>\n",
       "      <td>NaN</td>\n",
       "      <td>False</td>\n",
       "      <td>NaN</td>\n",
       "      <td>NaN</td>\n",
       "      <td>NaN</td>\n",
       "      <td>NaN</td>\n",
       "      <td>POINT (152885.674 122581.757)</td>\n",
       "    </tr>\n",
       "    <tr>\n",
       "      <th>87</th>\n",
       "      <td>NaT</td>\n",
       "      <td>F40</td>\n",
       "      <td>152883.685780</td>\n",
       "      <td>122577.833364</td>\n",
       "      <td>NaN</td>\n",
       "      <td>NaN</td>\n",
       "      <td>False</td>\n",
       "      <td>NaN</td>\n",
       "      <td>NaN</td>\n",
       "      <td>NaN</td>\n",
       "      <td>NaN</td>\n",
       "      <td>POINT (152883.686 122577.833)</td>\n",
       "    </tr>\n",
       "    <tr>\n",
       "      <th>88</th>\n",
       "      <td>NaT</td>\n",
       "      <td>F41</td>\n",
       "      <td>152884.254198</td>\n",
       "      <td>122577.010624</td>\n",
       "      <td>NaN</td>\n",
       "      <td>NaN</td>\n",
       "      <td>False</td>\n",
       "      <td>NaN</td>\n",
       "      <td>NaN</td>\n",
       "      <td>NaN</td>\n",
       "      <td>NaN</td>\n",
       "      <td>POINT (152884.254 122577.011)</td>\n",
       "    </tr>\n",
       "  </tbody>\n",
       "</table>\n",
       "<p>89 rows × 12 columns</p>\n",
       "</div>"
      ],
      "text/plain": [
       "         Date Ref_x              X              Y        Z  Long  Refus  \\\n",
       "0  2016-12-31    75  152836.000000  122609.000000  102.652   5.7  False   \n",
       "1  2016-12-31    76  152867.000000  122611.000000  102.751   1.2   True   \n",
       "2  2016-12-31   76b  152867.000000  122610.000000  102.751   3.0   True   \n",
       "3  2016-12-31   76c  152867.000000  122608.000000  102.751   2.5   True   \n",
       "4  2016-12-31  FP76  152860.000000  122608.000000  102.727  18.5  False   \n",
       "..        ...   ...            ...            ...      ...   ...    ...   \n",
       "84        NaT   F30  152887.892567  122581.184654      NaN   NaN  False   \n",
       "85        NaT   F31  152885.916612  122578.766886      NaN   NaN  False   \n",
       "86        NaT   F32  152885.673928  122581.757054      NaN   NaN  False   \n",
       "87        NaT   F40  152883.685780  122577.833364      NaN   NaN  False   \n",
       "88        NaT   F41  152884.254198  122577.010624      NaN   NaN  False   \n",
       "\n",
       "    Base_RB  Top_All  Top_SA  Top_SS                       geometry  \n",
       "0       4.3      4.3     NaN     NaN  POINT (152836.000 122609.000)  \n",
       "1       NaN      NaN     NaN     NaN  POINT (152867.000 122611.000)  \n",
       "2       NaN      NaN     NaN     NaN  POINT (152867.000 122610.000)  \n",
       "3       NaN      NaN     NaN     NaN  POINT (152867.000 122608.000)  \n",
       "4       8.0      NaN     8.0    12.5  POINT (152860.000 122608.000)  \n",
       "..      ...      ...     ...     ...                            ...  \n",
       "84      NaN      NaN     NaN     NaN  POINT (152887.893 122581.185)  \n",
       "85      NaN      NaN     NaN     NaN  POINT (152885.917 122578.767)  \n",
       "86      NaN      NaN     NaN     NaN  POINT (152885.674 122581.757)  \n",
       "87      NaN      NaN     NaN     NaN  POINT (152883.686 122577.833)  \n",
       "88      NaN      NaN     NaN     NaN  POINT (152884.254 122577.011)  \n",
       "\n",
       "[89 rows x 12 columns]"
      ]
     },
     "execution_count": 56,
     "metadata": {},
     "output_type": "execute_result"
    }
   ],
   "source": [
    "geom = gpd.GeoSeries(tmp_for.apply(lambda x: Point(x['X'], x['Y']),1),crs={'init': 'epsg:31370'})\n",
    "tmp_for = gpd.GeoDataFrame(tmp_for, geometry=geom, crs=\"EPSG:31370\")\n",
    "tmp_for"
   ]
  },
  {
   "cell_type": "code",
   "execution_count": 57,
   "id": "mobile-translation",
   "metadata": {},
   "outputs": [
    {
     "data": {
      "text/plain": [
       "89"
      ]
     },
     "execution_count": 57,
     "metadata": {},
     "output_type": "execute_result"
    }
   ],
   "source": [
    "len(set(tmp_for['Ref_x']))"
   ]
  },
  {
   "cell_type": "code",
   "execution_count": 58,
   "id": "geographic-closing",
   "metadata": {},
   "outputs": [],
   "source": [
    "For_synth=copy.deepcopy(tmp_for) #save tmp_for"
   ]
  },
  {
   "cell_type": "code",
   "execution_count": 59,
   "id": "corporate-virgin",
   "metadata": {},
   "outputs": [],
   "source": [
    "#tmp_for = tmp_for.replace(np.nan, '', regex=True) #remove all 'NAN'\n",
    "#pd.concat([v8[['geometry','ID', 'Z']], v2017[['geometry','ID', 'Z']]], ignore_index=True)"
   ]
  },
  {
   "cell_type": "markdown",
   "id": "blocked-geology",
   "metadata": {},
   "source": [
    "* **Feuille : 'DatabaseSOL20101005' (F,E)**"
   ]
  },
  {
   "cell_type": "code",
   "execution_count": 60,
   "id": "linear-welcome",
   "metadata": {},
   "outputs": [
    {
     "name": "stdout",
     "output_type": "stream",
     "text": [
      "Rows : 758, columns : 26\n"
     ]
    },
    {
     "data": {
      "application/vnd.jupyter.widget-view+json": {
       "model_id": "1b4fa8329e554f16b40bf586944ff0b3",
       "version_major": 2,
       "version_minor": 0
      },
      "text/plain": [
       "interactive(children=(IntSlider(value=10, description='rows', max=758, min=10, readout=False), IntSlider(value…"
      ]
     },
     "metadata": {},
     "output_type": "display_data"
    }
   ],
   "source": [
    "tmp_for = pd.read_excel('../../CF_data//Data_UMONS/Logs_forages_vUmons_2018-03-20.xlsx', sheet_name='DatabaseSOL20101005')#, skiprows=1)\n",
    "gdf_viewer(tmp_for)"
   ]
  },
  {
   "cell_type": "code",
   "execution_count": 61,
   "id": "wrong-circus",
   "metadata": {
    "scrolled": false
   },
   "outputs": [
    {
     "data": {
      "text/plain": [
       "Index(['ID', 'CAMPAGNE', 'ZONE', 'N', 'AFFECTATIO', 'X', 'Y', 'Z',\n",
       "       'PROF_FORAG', 'N_ECH', 'MIN_ECH', 'MAX_ECH', 'COUCHE', 'SOUMIS',\n",
       "       'TERRAIN', 'DESCRIPTIO', 'INTENSITÉ', 'MIN_ORGANO', 'MAX_ORGANO', 'ML',\n",
       "       'CN', 'BTEXS', 'HAP', 'EOX', 'HT', 'IPH'],\n",
       "      dtype='object')"
      ]
     },
     "execution_count": 61,
     "metadata": {},
     "output_type": "execute_result"
    }
   ],
   "source": [
    "tmp_for.columns"
   ]
  },
  {
   "cell_type": "code",
   "execution_count": 62,
   "id": "included-racing",
   "metadata": {
    "scrolled": true
   },
   "outputs": [
    {
     "name": "stderr",
     "output_type": "stream",
     "text": [
      "/home/yanathan/.local/share/virtualenvs/GSDMA-DRfwm83x/lib/python3.8/site-packages/pandas/core/frame.py:4438: SettingWithCopyWarning: \n",
      "A value is trying to be set on a copy of a slice from a DataFrame\n",
      "\n",
      "See the caveats in the documentation: https://pandas.pydata.org/pandas-docs/stable/user_guide/indexing.html#returning-a-view-versus-a-copy\n",
      "  return super().rename(\n"
     ]
    }
   ],
   "source": [
    "tmp_for=tmp_for[['N', 'X', 'Y', 'Z', 'PROF_FORAG', 'CAMPAGNE']]\n",
    "tmp_for.rename(columns={'N':'Ref_y','PROF_FORAG':'Long', 'CAMPAGNE':'Societe'}, inplace=True)"
   ]
  },
  {
   "cell_type": "raw",
   "id": "rapid-commissioner",
   "metadata": {},
   "source": [
    "tmp_for=tmp_for[:30] # infos utiles\n",
    "tmp_for.insert(0, 'Date', pd.NaT) \n",
    "tmp_for.head(5)"
   ]
  },
  {
   "cell_type": "code",
   "execution_count": 63,
   "id": "matched-victim",
   "metadata": {
    "scrolled": true
   },
   "outputs": [
    {
     "data": {
      "text/plain": [
       "{'SBS', 'SITERE'}"
      ]
     },
     "execution_count": 63,
     "metadata": {},
     "output_type": "execute_result"
    }
   ],
   "source": [
    "set(tmp_for['Societe'])"
   ]
  },
  {
   "cell_type": "code",
   "execution_count": 64,
   "id": "thousand-denver",
   "metadata": {
    "scrolled": true
   },
   "outputs": [
    {
     "name": "stderr",
     "output_type": "stream",
     "text": [
      "/home/yanathan/.local/share/virtualenvs/GSDMA-DRfwm83x/lib/python3.8/site-packages/pandas/core/indexing.py:1720: SettingWithCopyWarning: \n",
      "A value is trying to be set on a copy of a slice from a DataFrame.\n",
      "Try using .loc[row_indexer,col_indexer] = value instead\n",
      "\n",
      "See the caveats in the documentation: https://pandas.pydata.org/pandas-docs/stable/user_guide/indexing.html#returning-a-view-versus-a-copy\n",
      "  self._setitem_single_column(loc, value, pi)\n"
     ]
    }
   ],
   "source": [
    "for i,j in tmp_for.iterrows():\n",
    "    if tmp_for.loc[i, 'Societe']=='SITERE':\n",
    "        tmp_for.loc[i, 'Societe']='SITEREM'\n",
    "    #else :\n",
    "    #    tmp_for.loc[i, 'Refus']='-'"
   ]
  },
  {
   "cell_type": "code",
   "execution_count": 65,
   "id": "maritime-determination",
   "metadata": {},
   "outputs": [
    {
     "name": "stderr",
     "output_type": "stream",
     "text": [
      "/home/yanathan/.local/share/virtualenvs/GSDMA-DRfwm83x/lib/python3.8/site-packages/pyproj/crs/crs.py:53: FutureWarning: '+init=<authority>:<code>' syntax is deprecated. '<authority>:<code>' is the preferred initialization method. When making the change, be mindful of axis order changes: https://pyproj4.github.io/pyproj/stable/gotchas.html#axis-order-changes-in-proj-6\n",
      "  return _prepare_from_string(\" \".join(pjargs))\n"
     ]
    },
    {
     "data": {
      "text/html": [
       "<div>\n",
       "<style scoped>\n",
       "    .dataframe tbody tr th:only-of-type {\n",
       "        vertical-align: middle;\n",
       "    }\n",
       "\n",
       "    .dataframe tbody tr th {\n",
       "        vertical-align: top;\n",
       "    }\n",
       "\n",
       "    .dataframe thead th {\n",
       "        text-align: right;\n",
       "    }\n",
       "</style>\n",
       "<table border=\"1\" class=\"dataframe\">\n",
       "  <thead>\n",
       "    <tr style=\"text-align: right;\">\n",
       "      <th></th>\n",
       "      <th>Ref_y</th>\n",
       "      <th>X</th>\n",
       "      <th>Y</th>\n",
       "      <th>Z</th>\n",
       "      <th>Long</th>\n",
       "      <th>Societe</th>\n",
       "      <th>geometry</th>\n",
       "    </tr>\n",
       "  </thead>\n",
       "  <tbody>\n",
       "    <tr>\n",
       "      <th>0</th>\n",
       "      <td>T220</td>\n",
       "      <td>152842.0</td>\n",
       "      <td>122770.0</td>\n",
       "      <td>NaN</td>\n",
       "      <td>1</td>\n",
       "      <td>SITEREM</td>\n",
       "      <td>POINT (152842.000 122770.000)</td>\n",
       "    </tr>\n",
       "    <tr>\n",
       "      <th>1</th>\n",
       "      <td>T219</td>\n",
       "      <td>152799.0</td>\n",
       "      <td>122808.0</td>\n",
       "      <td>NaN</td>\n",
       "      <td>1</td>\n",
       "      <td>SITEREM</td>\n",
       "      <td>POINT (152799.000 122808.000)</td>\n",
       "    </tr>\n",
       "    <tr>\n",
       "      <th>2</th>\n",
       "      <td>T218</td>\n",
       "      <td>152754.0</td>\n",
       "      <td>122758.0</td>\n",
       "      <td>NaN</td>\n",
       "      <td>2</td>\n",
       "      <td>SITEREM</td>\n",
       "      <td>POINT (152754.000 122758.000)</td>\n",
       "    </tr>\n",
       "    <tr>\n",
       "      <th>3</th>\n",
       "      <td>T218</td>\n",
       "      <td>152754.0</td>\n",
       "      <td>122758.0</td>\n",
       "      <td>NaN</td>\n",
       "      <td>2</td>\n",
       "      <td>SITEREM</td>\n",
       "      <td>POINT (152754.000 122758.000)</td>\n",
       "    </tr>\n",
       "    <tr>\n",
       "      <th>4</th>\n",
       "      <td>T217</td>\n",
       "      <td>152750.0</td>\n",
       "      <td>122713.0</td>\n",
       "      <td>NaN</td>\n",
       "      <td>3</td>\n",
       "      <td>SITEREM</td>\n",
       "      <td>POINT (152750.000 122713.000)</td>\n",
       "    </tr>\n",
       "  </tbody>\n",
       "</table>\n",
       "</div>"
      ],
      "text/plain": [
       "  Ref_y         X         Y    Z  Long  Societe                       geometry\n",
       "0  T220  152842.0  122770.0  NaN     1  SITEREM  POINT (152842.000 122770.000)\n",
       "1  T219  152799.0  122808.0  NaN     1  SITEREM  POINT (152799.000 122808.000)\n",
       "2  T218  152754.0  122758.0  NaN     2  SITEREM  POINT (152754.000 122758.000)\n",
       "3  T218  152754.0  122758.0  NaN     2  SITEREM  POINT (152754.000 122758.000)\n",
       "4  T217  152750.0  122713.0  NaN     3  SITEREM  POINT (152750.000 122713.000)"
      ]
     },
     "execution_count": 65,
     "metadata": {},
     "output_type": "execute_result"
    }
   ],
   "source": [
    "geom = gpd.GeoSeries(tmp_for.apply(lambda x: Point(x['X'], x['Y']),1),crs={'init': 'epsg:31370'})\n",
    "tmp_for = gpd.GeoDataFrame(tmp_for, geometry=geom, crs=\"EPSG:31370\")\n",
    "tmp_for.head(5)"
   ]
  },
  {
   "cell_type": "code",
   "execution_count": 66,
   "id": "incident-rehabilitation",
   "metadata": {},
   "outputs": [
    {
     "name": "stdout",
     "output_type": "stream",
     "text": [
      "unique:  233 / 758\n"
     ]
    }
   ],
   "source": [
    "print('unique: ',len(set(tmp_for['Ref_y'])),'/', len(tmp_for))"
   ]
  },
  {
   "cell_type": "code",
   "execution_count": 67,
   "id": "silent-boost",
   "metadata": {},
   "outputs": [
    {
     "data": {
      "text/html": [
       "<div>\n",
       "<style scoped>\n",
       "    .dataframe tbody tr th:only-of-type {\n",
       "        vertical-align: middle;\n",
       "    }\n",
       "\n",
       "    .dataframe tbody tr th {\n",
       "        vertical-align: top;\n",
       "    }\n",
       "\n",
       "    .dataframe thead th {\n",
       "        text-align: right;\n",
       "    }\n",
       "</style>\n",
       "<table border=\"1\" class=\"dataframe\">\n",
       "  <thead>\n",
       "    <tr style=\"text-align: right;\">\n",
       "      <th></th>\n",
       "      <th>Ref_y</th>\n",
       "      <th>X</th>\n",
       "      <th>Y</th>\n",
       "      <th>Z</th>\n",
       "      <th>Long</th>\n",
       "      <th>Societe</th>\n",
       "      <th>geometry</th>\n",
       "    </tr>\n",
       "  </thead>\n",
       "  <tbody>\n",
       "    <tr>\n",
       "      <th>0</th>\n",
       "      <td>T220</td>\n",
       "      <td>152842.0</td>\n",
       "      <td>122770.0</td>\n",
       "      <td>NaN</td>\n",
       "      <td>1</td>\n",
       "      <td>SITEREM</td>\n",
       "      <td>POINT (152842.000 122770.000)</td>\n",
       "    </tr>\n",
       "    <tr>\n",
       "      <th>1</th>\n",
       "      <td>T219</td>\n",
       "      <td>152799.0</td>\n",
       "      <td>122808.0</td>\n",
       "      <td>NaN</td>\n",
       "      <td>1</td>\n",
       "      <td>SITEREM</td>\n",
       "      <td>POINT (152799.000 122808.000)</td>\n",
       "    </tr>\n",
       "    <tr>\n",
       "      <th>2</th>\n",
       "      <td>T218</td>\n",
       "      <td>152754.0</td>\n",
       "      <td>122758.0</td>\n",
       "      <td>NaN</td>\n",
       "      <td>2</td>\n",
       "      <td>SITEREM</td>\n",
       "      <td>POINT (152754.000 122758.000)</td>\n",
       "    </tr>\n",
       "    <tr>\n",
       "      <th>3</th>\n",
       "      <td>T217</td>\n",
       "      <td>152750.0</td>\n",
       "      <td>122713.0</td>\n",
       "      <td>NaN</td>\n",
       "      <td>3</td>\n",
       "      <td>SITEREM</td>\n",
       "      <td>POINT (152750.000 122713.000)</td>\n",
       "    </tr>\n",
       "    <tr>\n",
       "      <th>4</th>\n",
       "      <td>T216</td>\n",
       "      <td>152702.0</td>\n",
       "      <td>122709.0</td>\n",
       "      <td>NaN</td>\n",
       "      <td>1</td>\n",
       "      <td>SITEREM</td>\n",
       "      <td>POINT (152702.000 122709.000)</td>\n",
       "    </tr>\n",
       "    <tr>\n",
       "      <th>...</th>\n",
       "      <td>...</td>\n",
       "      <td>...</td>\n",
       "      <td>...</td>\n",
       "      <td>...</td>\n",
       "      <td>...</td>\n",
       "      <td>...</td>\n",
       "      <td>...</td>\n",
       "    </tr>\n",
       "    <tr>\n",
       "      <th>228</th>\n",
       "      <td>5</td>\n",
       "      <td>153139.0</td>\n",
       "      <td>122614.0</td>\n",
       "      <td>101,41</td>\n",
       "      <td>8</td>\n",
       "      <td>SBS</td>\n",
       "      <td>POINT (153139.000 122614.000)</td>\n",
       "    </tr>\n",
       "    <tr>\n",
       "      <th>229</th>\n",
       "      <td>4</td>\n",
       "      <td>153117.0</td>\n",
       "      <td>122614.0</td>\n",
       "      <td>101,88</td>\n",
       "      <td>8</td>\n",
       "      <td>SBS</td>\n",
       "      <td>POINT (153117.000 122614.000)</td>\n",
       "    </tr>\n",
       "    <tr>\n",
       "      <th>230</th>\n",
       "      <td>3</td>\n",
       "      <td>153141.0</td>\n",
       "      <td>122640.0</td>\n",
       "      <td>101,68</td>\n",
       "      <td>8</td>\n",
       "      <td>SBS</td>\n",
       "      <td>POINT (153141.000 122640.000)</td>\n",
       "    </tr>\n",
       "    <tr>\n",
       "      <th>231</th>\n",
       "      <td>2</td>\n",
       "      <td>153112.0</td>\n",
       "      <td>122638.0</td>\n",
       "      <td>102,09</td>\n",
       "      <td>7</td>\n",
       "      <td>SBS</td>\n",
       "      <td>POINT (153112.000 122638.000)</td>\n",
       "    </tr>\n",
       "    <tr>\n",
       "      <th>232</th>\n",
       "      <td>1</td>\n",
       "      <td>153124.0</td>\n",
       "      <td>122653.0</td>\n",
       "      <td>101,98</td>\n",
       "      <td>8</td>\n",
       "      <td>SBS</td>\n",
       "      <td>POINT (153124.000 122653.000)</td>\n",
       "    </tr>\n",
       "  </tbody>\n",
       "</table>\n",
       "<p>233 rows × 7 columns</p>\n",
       "</div>"
      ],
      "text/plain": [
       "    Ref_y         X         Y       Z  Long  Societe  \\\n",
       "0    T220  152842.0  122770.0     NaN     1  SITEREM   \n",
       "1    T219  152799.0  122808.0     NaN     1  SITEREM   \n",
       "2    T218  152754.0  122758.0     NaN     2  SITEREM   \n",
       "3    T217  152750.0  122713.0     NaN     3  SITEREM   \n",
       "4    T216  152702.0  122709.0     NaN     1  SITEREM   \n",
       "..    ...       ...       ...     ...   ...      ...   \n",
       "228     5  153139.0  122614.0  101,41     8      SBS   \n",
       "229     4  153117.0  122614.0  101,88     8      SBS   \n",
       "230     3  153141.0  122640.0  101,68     8      SBS   \n",
       "231     2  153112.0  122638.0  102,09     7      SBS   \n",
       "232     1  153124.0  122653.0  101,98     8      SBS   \n",
       "\n",
       "                          geometry  \n",
       "0    POINT (152842.000 122770.000)  \n",
       "1    POINT (152799.000 122808.000)  \n",
       "2    POINT (152754.000 122758.000)  \n",
       "3    POINT (152750.000 122713.000)  \n",
       "4    POINT (152702.000 122709.000)  \n",
       "..                             ...  \n",
       "228  POINT (153139.000 122614.000)  \n",
       "229  POINT (153117.000 122614.000)  \n",
       "230  POINT (153141.000 122640.000)  \n",
       "231  POINT (153112.000 122638.000)  \n",
       "232  POINT (153124.000 122653.000)  \n",
       "\n",
       "[233 rows x 7 columns]"
      ]
     },
     "execution_count": 67,
     "metadata": {},
     "output_type": "execute_result"
    }
   ],
   "source": [
    "tmp_for.drop_duplicates('Ref_y', inplace=True)\n",
    "tmp_for.reset_index(inplace=True, drop=True)\n",
    "tmp_for"
   ]
  },
  {
   "cell_type": "code",
   "execution_count": 68,
   "id": "understanding-provision",
   "metadata": {},
   "outputs": [
    {
     "data": {
      "text/html": [
       "<div>\n",
       "<style scoped>\n",
       "    .dataframe tbody tr th:only-of-type {\n",
       "        vertical-align: middle;\n",
       "    }\n",
       "\n",
       "    .dataframe tbody tr th {\n",
       "        vertical-align: top;\n",
       "    }\n",
       "\n",
       "    .dataframe thead th {\n",
       "        text-align: right;\n",
       "    }\n",
       "</style>\n",
       "<table border=\"1\" class=\"dataframe\">\n",
       "  <thead>\n",
       "    <tr style=\"text-align: right;\">\n",
       "      <th></th>\n",
       "      <th>Date</th>\n",
       "      <th>Ref_x</th>\n",
       "      <th>X</th>\n",
       "      <th>Y</th>\n",
       "      <th>Z</th>\n",
       "      <th>Long</th>\n",
       "      <th>Refus</th>\n",
       "      <th>Base_RB</th>\n",
       "      <th>Top_All</th>\n",
       "      <th>Top_SA</th>\n",
       "      <th>Top_SS</th>\n",
       "      <th>geometry</th>\n",
       "    </tr>\n",
       "  </thead>\n",
       "  <tbody>\n",
       "    <tr>\n",
       "      <th>0</th>\n",
       "      <td>2016-12-31</td>\n",
       "      <td>75</td>\n",
       "      <td>152836.000000</td>\n",
       "      <td>122609.000000</td>\n",
       "      <td>102.652</td>\n",
       "      <td>5.7</td>\n",
       "      <td>False</td>\n",
       "      <td>4.3</td>\n",
       "      <td>4.3</td>\n",
       "      <td>NaN</td>\n",
       "      <td>NaN</td>\n",
       "      <td>POINT (152836.000 122609.000)</td>\n",
       "    </tr>\n",
       "    <tr>\n",
       "      <th>1</th>\n",
       "      <td>2016-12-31</td>\n",
       "      <td>76</td>\n",
       "      <td>152867.000000</td>\n",
       "      <td>122611.000000</td>\n",
       "      <td>102.751</td>\n",
       "      <td>1.2</td>\n",
       "      <td>True</td>\n",
       "      <td>NaN</td>\n",
       "      <td>NaN</td>\n",
       "      <td>NaN</td>\n",
       "      <td>NaN</td>\n",
       "      <td>POINT (152867.000 122611.000)</td>\n",
       "    </tr>\n",
       "    <tr>\n",
       "      <th>2</th>\n",
       "      <td>2016-12-31</td>\n",
       "      <td>76b</td>\n",
       "      <td>152867.000000</td>\n",
       "      <td>122610.000000</td>\n",
       "      <td>102.751</td>\n",
       "      <td>3.0</td>\n",
       "      <td>True</td>\n",
       "      <td>NaN</td>\n",
       "      <td>NaN</td>\n",
       "      <td>NaN</td>\n",
       "      <td>NaN</td>\n",
       "      <td>POINT (152867.000 122610.000)</td>\n",
       "    </tr>\n",
       "    <tr>\n",
       "      <th>3</th>\n",
       "      <td>2016-12-31</td>\n",
       "      <td>76c</td>\n",
       "      <td>152867.000000</td>\n",
       "      <td>122608.000000</td>\n",
       "      <td>102.751</td>\n",
       "      <td>2.5</td>\n",
       "      <td>True</td>\n",
       "      <td>NaN</td>\n",
       "      <td>NaN</td>\n",
       "      <td>NaN</td>\n",
       "      <td>NaN</td>\n",
       "      <td>POINT (152867.000 122608.000)</td>\n",
       "    </tr>\n",
       "    <tr>\n",
       "      <th>4</th>\n",
       "      <td>2016-12-31</td>\n",
       "      <td>FP76</td>\n",
       "      <td>152860.000000</td>\n",
       "      <td>122608.000000</td>\n",
       "      <td>102.727</td>\n",
       "      <td>18.5</td>\n",
       "      <td>False</td>\n",
       "      <td>8.0</td>\n",
       "      <td>NaN</td>\n",
       "      <td>8.0</td>\n",
       "      <td>12.5</td>\n",
       "      <td>POINT (152860.000 122608.000)</td>\n",
       "    </tr>\n",
       "    <tr>\n",
       "      <th>...</th>\n",
       "      <td>...</td>\n",
       "      <td>...</td>\n",
       "      <td>...</td>\n",
       "      <td>...</td>\n",
       "      <td>...</td>\n",
       "      <td>...</td>\n",
       "      <td>...</td>\n",
       "      <td>...</td>\n",
       "      <td>...</td>\n",
       "      <td>...</td>\n",
       "      <td>...</td>\n",
       "      <td>...</td>\n",
       "    </tr>\n",
       "    <tr>\n",
       "      <th>84</th>\n",
       "      <td>NaT</td>\n",
       "      <td>F30</td>\n",
       "      <td>152887.892567</td>\n",
       "      <td>122581.184654</td>\n",
       "      <td>NaN</td>\n",
       "      <td>NaN</td>\n",
       "      <td>False</td>\n",
       "      <td>NaN</td>\n",
       "      <td>NaN</td>\n",
       "      <td>NaN</td>\n",
       "      <td>NaN</td>\n",
       "      <td>POINT (152887.893 122581.185)</td>\n",
       "    </tr>\n",
       "    <tr>\n",
       "      <th>85</th>\n",
       "      <td>NaT</td>\n",
       "      <td>F31</td>\n",
       "      <td>152885.916612</td>\n",
       "      <td>122578.766886</td>\n",
       "      <td>NaN</td>\n",
       "      <td>NaN</td>\n",
       "      <td>False</td>\n",
       "      <td>NaN</td>\n",
       "      <td>NaN</td>\n",
       "      <td>NaN</td>\n",
       "      <td>NaN</td>\n",
       "      <td>POINT (152885.917 122578.767)</td>\n",
       "    </tr>\n",
       "    <tr>\n",
       "      <th>86</th>\n",
       "      <td>NaT</td>\n",
       "      <td>F32</td>\n",
       "      <td>152885.673928</td>\n",
       "      <td>122581.757054</td>\n",
       "      <td>NaN</td>\n",
       "      <td>NaN</td>\n",
       "      <td>False</td>\n",
       "      <td>NaN</td>\n",
       "      <td>NaN</td>\n",
       "      <td>NaN</td>\n",
       "      <td>NaN</td>\n",
       "      <td>POINT (152885.674 122581.757)</td>\n",
       "    </tr>\n",
       "    <tr>\n",
       "      <th>87</th>\n",
       "      <td>NaT</td>\n",
       "      <td>F40</td>\n",
       "      <td>152883.685780</td>\n",
       "      <td>122577.833364</td>\n",
       "      <td>NaN</td>\n",
       "      <td>NaN</td>\n",
       "      <td>False</td>\n",
       "      <td>NaN</td>\n",
       "      <td>NaN</td>\n",
       "      <td>NaN</td>\n",
       "      <td>NaN</td>\n",
       "      <td>POINT (152883.686 122577.833)</td>\n",
       "    </tr>\n",
       "    <tr>\n",
       "      <th>88</th>\n",
       "      <td>NaT</td>\n",
       "      <td>F41</td>\n",
       "      <td>152884.254198</td>\n",
       "      <td>122577.010624</td>\n",
       "      <td>NaN</td>\n",
       "      <td>NaN</td>\n",
       "      <td>False</td>\n",
       "      <td>NaN</td>\n",
       "      <td>NaN</td>\n",
       "      <td>NaN</td>\n",
       "      <td>NaN</td>\n",
       "      <td>POINT (152884.254 122577.011)</td>\n",
       "    </tr>\n",
       "  </tbody>\n",
       "</table>\n",
       "<p>89 rows × 12 columns</p>\n",
       "</div>"
      ],
      "text/plain": [
       "         Date Ref_x              X              Y        Z  Long  Refus  \\\n",
       "0  2016-12-31    75  152836.000000  122609.000000  102.652   5.7  False   \n",
       "1  2016-12-31    76  152867.000000  122611.000000  102.751   1.2   True   \n",
       "2  2016-12-31   76b  152867.000000  122610.000000  102.751   3.0   True   \n",
       "3  2016-12-31   76c  152867.000000  122608.000000  102.751   2.5   True   \n",
       "4  2016-12-31  FP76  152860.000000  122608.000000  102.727  18.5  False   \n",
       "..        ...   ...            ...            ...      ...   ...    ...   \n",
       "84        NaT   F30  152887.892567  122581.184654      NaN   NaN  False   \n",
       "85        NaT   F31  152885.916612  122578.766886      NaN   NaN  False   \n",
       "86        NaT   F32  152885.673928  122581.757054      NaN   NaN  False   \n",
       "87        NaT   F40  152883.685780  122577.833364      NaN   NaN  False   \n",
       "88        NaT   F41  152884.254198  122577.010624      NaN   NaN  False   \n",
       "\n",
       "    Base_RB  Top_All  Top_SA  Top_SS                       geometry  \n",
       "0       4.3      4.3     NaN     NaN  POINT (152836.000 122609.000)  \n",
       "1       NaN      NaN     NaN     NaN  POINT (152867.000 122611.000)  \n",
       "2       NaN      NaN     NaN     NaN  POINT (152867.000 122610.000)  \n",
       "3       NaN      NaN     NaN     NaN  POINT (152867.000 122608.000)  \n",
       "4       8.0      NaN     8.0    12.5  POINT (152860.000 122608.000)  \n",
       "..      ...      ...     ...     ...                            ...  \n",
       "84      NaN      NaN     NaN     NaN  POINT (152887.893 122581.185)  \n",
       "85      NaN      NaN     NaN     NaN  POINT (152885.917 122578.767)  \n",
       "86      NaN      NaN     NaN     NaN  POINT (152885.674 122581.757)  \n",
       "87      NaN      NaN     NaN     NaN  POINT (152883.686 122577.833)  \n",
       "88      NaN      NaN     NaN     NaN  POINT (152884.254 122577.011)  \n",
       "\n",
       "[89 rows x 12 columns]"
      ]
     },
     "execution_count": 68,
     "metadata": {},
     "output_type": "execute_result"
    }
   ],
   "source": [
    "For_synth"
   ]
  },
  {
   "cell_type": "code",
   "execution_count": 69,
   "id": "classified-circle",
   "metadata": {},
   "outputs": [
    {
     "name": "stdout",
     "output_type": "stream",
     "text": [
      "Generation of ID-dated...\n",
      "Using default date given !\n",
      "Generation of ID-dated...\n",
      "Using 'Date' column in the (geo)dataframe !\n"
     ]
    },
    {
     "data": {
      "text/plain": [
       "(0      2010-T220\n",
       " 1      2010-T219\n",
       " 2      2010-T218\n",
       " 3      2010-T217\n",
       " 4      2010-T216\n",
       "          ...    \n",
       " 228       2010-5\n",
       " 229       2010-4\n",
       " 230       2010-3\n",
       " 231       2010-2\n",
       " 232       2010-1\n",
       " Name: Ref_y, Length: 233, dtype: object,\n",
       " 0       2016-75\n",
       " 1       2016-76\n",
       " 2      2016-76b\n",
       " 3      2016-76c\n",
       " 4     2016-FP76\n",
       "         ...    \n",
       " 84          F30\n",
       " 85          F31\n",
       " 86          F32\n",
       " 87          F40\n",
       " 88          F41\n",
       " Name: Ref_x, Length: 89, dtype: object)"
      ]
     },
     "execution_count": 69,
     "metadata": {},
     "output_type": "execute_result"
    }
   ],
   "source": [
    "genID_dated(tmp_for, 'Ref_y', '2010'), genID_dated(For_synth, 'Ref_x')"
   ]
  },
  {
   "cell_type": "code",
   "execution_count": 70,
   "id": "automatic-sydney",
   "metadata": {},
   "outputs": [],
   "source": [
    "For_synth=For_synth.append(tmp_for)"
   ]
  },
  {
   "cell_type": "code",
   "execution_count": 71,
   "id": "three-throw",
   "metadata": {},
   "outputs": [],
   "source": [
    "For_synth.reset_index(inplace=True, drop=True)\n",
    "For_synth.loc[For_synth.query('Ref_x!=Ref_x').index, 'Ref_x']=For_synth.loc[For_synth.query('Ref_x!=Ref_x').index, 'Ref_y']\n",
    "For_synth.drop('Ref_y', axis=1, inplace=True)"
   ]
  },
  {
   "cell_type": "code",
   "execution_count": 72,
   "id": "flying-presence",
   "metadata": {},
   "outputs": [],
   "source": [
    "For_synth.loc[For_synth.query(\"Date >= '2017-02-22' and Date <= '2017-05-18'\").index, \"Societe\"]='ECOPLANNING'\n",
    "For_synth.rename(columns={'Ref_x':'ID'}, inplace=True)\n",
    "#df.query()'Profondeur.str.contains(\"Forage\") and Profondeur!=\"Forage bloqué\"', engine='python')\n",
    "#df.loc[(df['date'] >= '2020-09-01') & (df['date'] < '2020-09-15')] \n",
    "#df.query(\"date >= '2020-08-01' and date < '2020-09-01'\") "
   ]
  },
  {
   "cell_type": "code",
   "execution_count": 73,
   "id": "alone-installation",
   "metadata": {},
   "outputs": [
    {
     "name": "stdout",
     "output_type": "stream",
     "text": [
      "Rows : 322, columns : 13\n"
     ]
    },
    {
     "data": {
      "application/vnd.jupyter.widget-view+json": {
       "model_id": "3462d62c0fea4595b29239dc6fe0172b",
       "version_major": 2,
       "version_minor": 0
      },
      "text/plain": [
       "interactive(children=(IntSlider(value=10, description='rows', max=322, min=10, readout=False), IntSlider(value…"
      ]
     },
     "metadata": {},
     "output_type": "display_data"
    }
   ],
   "source": [
    "gdf_viewer(For_synth)"
   ]
  },
  {
   "cell_type": "code",
   "execution_count": 74,
   "id": "olive-olive",
   "metadata": {},
   "outputs": [],
   "source": [
    "pd.DataFrame(For_synth)[['ID', 'X', 'Y', 'Z', 'Long', 'Refus', 'Societe']].to_csv('../../CF_data/synthese/Result_traitem/boreholes_2.csv', index=False)"
   ]
  },
  {
   "cell_type": "markdown",
   "id": "occupied-performance",
   "metadata": {},
   "source": [
    "* **Feuilles : 'Sond_all_loc' (F) / 'Feuil1' {autre fichier}(F,E) / 'Obs_siterem_phase2' (F)**"
   ]
  },
  {
   "cell_type": "code",
   "execution_count": 75,
   "id": "unnecessary-manitoba",
   "metadata": {},
   "outputs": [
    {
     "name": "stdout",
     "output_type": "stream",
     "text": [
      "Rows : 89, columns : 6\n"
     ]
    },
    {
     "data": {
      "application/vnd.jupyter.widget-view+json": {
       "model_id": "c78f1c8a18944d80a6349be9320b1d87",
       "version_major": 2,
       "version_minor": 0
      },
      "text/plain": [
       "interactive(children=(IntSlider(value=10, description='rows', max=89, min=10, readout=False), IntSlider(value=…"
      ]
     },
     "metadata": {},
     "output_type": "display_data"
    }
   ],
   "source": [
    "tmp_for = pd.read_excel('../../CF_data//Data_UMONS/Logs_forages_vUmons_2018-03-20.xlsx', sheet_name='Sond_all_loc')#, skiprows=1)\n",
    "gdf_viewer(tmp_for)"
   ]
  },
  {
   "cell_type": "code",
   "execution_count": 76,
   "id": "seventh-penetration",
   "metadata": {},
   "outputs": [
    {
     "data": {
      "text/plain": [
       "89"
      ]
     },
     "execution_count": 76,
     "metadata": {},
     "output_type": "execute_result"
    }
   ],
   "source": [
    "tmp_for.rename(columns={'Ref_sond':'Ref_x','XL72':'X', 'YL72':'Y'}, inplace=True)\n",
    "tmp_for=tmp_for[['Ref_x', 'X', 'Y', 'Z']]\n",
    "len(tmp_for)"
   ]
  },
  {
   "cell_type": "code",
   "execution_count": 77,
   "id": "exceptional-oasis",
   "metadata": {},
   "outputs": [
    {
     "name": "stderr",
     "output_type": "stream",
     "text": [
      "/home/yanathan/.local/share/virtualenvs/GSDMA-DRfwm83x/lib/python3.8/site-packages/pyproj/crs/crs.py:53: FutureWarning: '+init=<authority>:<code>' syntax is deprecated. '<authority>:<code>' is the preferred initialization method. When making the change, be mindful of axis order changes: https://pyproj4.github.io/pyproj/stable/gotchas.html#axis-order-changes-in-proj-6\n",
      "  return _prepare_from_string(\" \".join(pjargs))\n"
     ]
    },
    {
     "data": {
      "text/html": [
       "<div>\n",
       "<style scoped>\n",
       "    .dataframe tbody tr th:only-of-type {\n",
       "        vertical-align: middle;\n",
       "    }\n",
       "\n",
       "    .dataframe tbody tr th {\n",
       "        vertical-align: top;\n",
       "    }\n",
       "\n",
       "    .dataframe thead th {\n",
       "        text-align: right;\n",
       "    }\n",
       "</style>\n",
       "<table border=\"1\" class=\"dataframe\">\n",
       "  <thead>\n",
       "    <tr style=\"text-align: right;\">\n",
       "      <th></th>\n",
       "      <th>Ref_x</th>\n",
       "      <th>X</th>\n",
       "      <th>Y</th>\n",
       "      <th>Z</th>\n",
       "      <th>geometry</th>\n",
       "    </tr>\n",
       "  </thead>\n",
       "  <tbody>\n",
       "    <tr>\n",
       "      <th>0</th>\n",
       "      <td>75</td>\n",
       "      <td>152836.0</td>\n",
       "      <td>122609.0</td>\n",
       "      <td>102.652</td>\n",
       "      <td>POINT (152836.000 122609.000)</td>\n",
       "    </tr>\n",
       "    <tr>\n",
       "      <th>1</th>\n",
       "      <td>76</td>\n",
       "      <td>152867.0</td>\n",
       "      <td>122611.0</td>\n",
       "      <td>102.751</td>\n",
       "      <td>POINT (152867.000 122611.000)</td>\n",
       "    </tr>\n",
       "    <tr>\n",
       "      <th>2</th>\n",
       "      <td>77</td>\n",
       "      <td>152898.0</td>\n",
       "      <td>122606.0</td>\n",
       "      <td>102.837</td>\n",
       "      <td>POINT (152898.000 122606.000)</td>\n",
       "    </tr>\n",
       "    <tr>\n",
       "      <th>3</th>\n",
       "      <td>78</td>\n",
       "      <td>152864.0</td>\n",
       "      <td>122589.0</td>\n",
       "      <td>102.709</td>\n",
       "      <td>POINT (152864.000 122589.000)</td>\n",
       "    </tr>\n",
       "    <tr>\n",
       "      <th>4</th>\n",
       "      <td>79</td>\n",
       "      <td>152893.0</td>\n",
       "      <td>122592.0</td>\n",
       "      <td>102.690</td>\n",
       "      <td>POINT (152893.000 122592.000)</td>\n",
       "    </tr>\n",
       "  </tbody>\n",
       "</table>\n",
       "</div>"
      ],
      "text/plain": [
       "  Ref_x         X         Y        Z                       geometry\n",
       "0    75  152836.0  122609.0  102.652  POINT (152836.000 122609.000)\n",
       "1    76  152867.0  122611.0  102.751  POINT (152867.000 122611.000)\n",
       "2    77  152898.0  122606.0  102.837  POINT (152898.000 122606.000)\n",
       "3    78  152864.0  122589.0  102.709  POINT (152864.000 122589.000)\n",
       "4    79  152893.0  122592.0  102.690  POINT (152893.000 122592.000)"
      ]
     },
     "execution_count": 77,
     "metadata": {},
     "output_type": "execute_result"
    }
   ],
   "source": [
    "gdf_geom(tmp_for)"
   ]
  },
  {
   "cell_type": "code",
   "execution_count": 78,
   "id": "unauthorized-alignment",
   "metadata": {},
   "outputs": [],
   "source": [
    "For_synth=copy.deepcopy(tmp_for) #save tmp_for"
   ]
  },
  {
   "cell_type": "code",
   "execution_count": 79,
   "id": "foreign-combination",
   "metadata": {},
   "outputs": [
    {
     "name": "stdout",
     "output_type": "stream",
     "text": [
      "Rows : 10, columns : 5\n"
     ]
    },
    {
     "data": {
      "application/vnd.jupyter.widget-view+json": {
       "model_id": "01a2d257fb364bee9a80fcecaa07be27",
       "version_major": 2,
       "version_minor": 0
      },
      "text/plain": [
       "interactive(children=(IntSlider(value=10, description='rows', max=10, min=10, readout=False), IntSlider(value=…"
      ]
     },
     "metadata": {},
     "output_type": "display_data"
    }
   ],
   "source": [
    "tmp_for = pd.read_excel('../../CF_data//Data_UMONS/ouvrages/profondeur de contact campagne de forages octobre 2019.xlsx', sheet_name='Feuil1', skiprows=2)\n",
    "gdf_viewer(tmp_for)"
   ]
  },
  {
   "cell_type": "code",
   "execution_count": 80,
   "id": "offshore-ribbon",
   "metadata": {},
   "outputs": [],
   "source": [
    "tmp_for.rename(columns={'n°forage ':'Ref_y','x':'X', 'y':'Y', 'z':'Z', 'profondeur(m)':'Long'}, inplace=True)\n",
    "tmp_for=tmp_for[['Ref_y', 'X', 'Y', 'Z', 'Long']]"
   ]
  },
  {
   "cell_type": "code",
   "execution_count": 81,
   "id": "communist-narrative",
   "metadata": {},
   "outputs": [],
   "source": [
    "tmp_for=tmp_for[:8]"
   ]
  },
  {
   "cell_type": "code",
   "execution_count": 82,
   "id": "previous-syndicate",
   "metadata": {},
   "outputs": [
    {
     "name": "stderr",
     "output_type": "stream",
     "text": [
      "/home/yanathan/.local/share/virtualenvs/GSDMA-DRfwm83x/lib/python3.8/site-packages/pyproj/crs/crs.py:53: FutureWarning: '+init=<authority>:<code>' syntax is deprecated. '<authority>:<code>' is the preferred initialization method. When making the change, be mindful of axis order changes: https://pyproj4.github.io/pyproj/stable/gotchas.html#axis-order-changes-in-proj-6\n",
      "  return _prepare_from_string(\" \".join(pjargs))\n"
     ]
    },
    {
     "data": {
      "text/html": [
       "<div>\n",
       "<style scoped>\n",
       "    .dataframe tbody tr th:only-of-type {\n",
       "        vertical-align: middle;\n",
       "    }\n",
       "\n",
       "    .dataframe tbody tr th {\n",
       "        vertical-align: top;\n",
       "    }\n",
       "\n",
       "    .dataframe thead th {\n",
       "        text-align: right;\n",
       "    }\n",
       "</style>\n",
       "<table border=\"1\" class=\"dataframe\">\n",
       "  <thead>\n",
       "    <tr style=\"text-align: right;\">\n",
       "      <th></th>\n",
       "      <th>Ref_y</th>\n",
       "      <th>X</th>\n",
       "      <th>Y</th>\n",
       "      <th>Z</th>\n",
       "      <th>Long</th>\n",
       "      <th>geometry</th>\n",
       "    </tr>\n",
       "  </thead>\n",
       "  <tbody>\n",
       "    <tr>\n",
       "      <th>0</th>\n",
       "      <td>205.0</td>\n",
       "      <td>152887.693</td>\n",
       "      <td>122594.620</td>\n",
       "      <td>101.804</td>\n",
       "      <td>3.2</td>\n",
       "      <td>POINT (152887.693 122594.620)</td>\n",
       "    </tr>\n",
       "    <tr>\n",
       "      <th>1</th>\n",
       "      <td>208.0</td>\n",
       "      <td>152885.296</td>\n",
       "      <td>122592.986</td>\n",
       "      <td>101.848</td>\n",
       "      <td>3.4</td>\n",
       "      <td>POINT (152885.296 122592.986)</td>\n",
       "    </tr>\n",
       "    <tr>\n",
       "      <th>2</th>\n",
       "      <td>212.0</td>\n",
       "      <td>152882.850</td>\n",
       "      <td>122591.453</td>\n",
       "      <td>101.930</td>\n",
       "      <td>3.4</td>\n",
       "      <td>POINT (152882.850 122591.453)</td>\n",
       "    </tr>\n",
       "    <tr>\n",
       "      <th>3</th>\n",
       "      <td>207.0</td>\n",
       "      <td>152892.925</td>\n",
       "      <td>122592.662</td>\n",
       "      <td>101.889</td>\n",
       "      <td>3.4</td>\n",
       "      <td>POINT (152892.925 122592.662)</td>\n",
       "    </tr>\n",
       "    <tr>\n",
       "      <th>4</th>\n",
       "      <td>214.0</td>\n",
       "      <td>152888.082</td>\n",
       "      <td>122588.486</td>\n",
       "      <td>101.854</td>\n",
       "      <td>3.6</td>\n",
       "      <td>POINT (152888.082 122588.486)</td>\n",
       "    </tr>\n",
       "  </tbody>\n",
       "</table>\n",
       "</div>"
      ],
      "text/plain": [
       "   Ref_y           X           Y        Z  Long                       geometry\n",
       "0  205.0  152887.693  122594.620  101.804   3.2  POINT (152887.693 122594.620)\n",
       "1  208.0  152885.296  122592.986  101.848   3.4  POINT (152885.296 122592.986)\n",
       "2  212.0  152882.850  122591.453  101.930   3.4  POINT (152882.850 122591.453)\n",
       "3  207.0  152892.925  122592.662  101.889   3.4  POINT (152892.925 122592.662)\n",
       "4  214.0  152888.082  122588.486  101.854   3.6  POINT (152888.082 122588.486)"
      ]
     },
     "execution_count": 82,
     "metadata": {},
     "output_type": "execute_result"
    }
   ],
   "source": [
    "gdf_geom(tmp_for)"
   ]
  },
  {
   "cell_type": "code",
   "execution_count": 83,
   "id": "ceramic-cricket",
   "metadata": {},
   "outputs": [
    {
     "data": {
      "text/html": [
       "<div>\n",
       "<style scoped>\n",
       "    .dataframe tbody tr th:only-of-type {\n",
       "        vertical-align: middle;\n",
       "    }\n",
       "\n",
       "    .dataframe tbody tr th {\n",
       "        vertical-align: top;\n",
       "    }\n",
       "\n",
       "    .dataframe thead th {\n",
       "        text-align: right;\n",
       "    }\n",
       "</style>\n",
       "<table border=\"1\" class=\"dataframe\">\n",
       "  <thead>\n",
       "    <tr style=\"text-align: right;\">\n",
       "      <th></th>\n",
       "      <th>Ref_x</th>\n",
       "      <th>X_x</th>\n",
       "      <th>Y_x</th>\n",
       "      <th>Z_x</th>\n",
       "      <th>geometry_x</th>\n",
       "      <th>Ref_y</th>\n",
       "      <th>X_y</th>\n",
       "      <th>Y_y</th>\n",
       "      <th>Z_y</th>\n",
       "      <th>Long</th>\n",
       "      <th>geometry_y</th>\n",
       "    </tr>\n",
       "  </thead>\n",
       "  <tbody>\n",
       "  </tbody>\n",
       "</table>\n",
       "</div>"
      ],
      "text/plain": [
       "Empty DataFrame\n",
       "Columns: [Ref_x, X_x, Y_x, Z_x, geometry_x, Ref_y, X_y, Y_y, Z_y, Long, geometry_y]\n",
       "Index: []"
      ]
     },
     "execution_count": 83,
     "metadata": {},
     "output_type": "execute_result"
    }
   ],
   "source": [
    "For_synth.merge(tmp_for, how='inner', left_on='Ref_x', right_on='Ref_y')"
   ]
  },
  {
   "cell_type": "code",
   "execution_count": 84,
   "id": "aquatic-israel",
   "metadata": {},
   "outputs": [
    {
     "name": "stdout",
     "output_type": "stream",
     "text": [
      "Generation of ID-dated...\n",
      "Using default date given !\n"
     ]
    },
    {
     "data": {
      "text/plain": [
       "0    2019-205.0\n",
       "1    2019-208.0\n",
       "2    2019-212.0\n",
       "3    2019-207.0\n",
       "4    2019-214.0\n",
       "5    2019-217.0\n",
       "6    2019-225.0\n",
       "7    2019-304.0\n",
       "Name: Ref_y, dtype: object"
      ]
     },
     "execution_count": 84,
     "metadata": {},
     "output_type": "execute_result"
    }
   ],
   "source": [
    "genID_dated(tmp_for, 'Ref_y', '2019')"
   ]
  },
  {
   "cell_type": "code",
   "execution_count": 85,
   "id": "rational-windows",
   "metadata": {},
   "outputs": [],
   "source": [
    "For_synth=For_synth.append(tmp_for)"
   ]
  },
  {
   "cell_type": "code",
   "execution_count": 86,
   "id": "collaborative-champion",
   "metadata": {},
   "outputs": [],
   "source": [
    "For_synth.reset_index(inplace=True, drop=True)\n",
    "For_synth.loc[For_synth.query('Ref_x!=Ref_x').index, 'Ref_x']=For_synth.loc[For_synth.query('Ref_x!=Ref_x').index, 'Ref_y']\n",
    "For_synth.drop('Ref_y', axis=1, inplace=True)"
   ]
  },
  {
   "cell_type": "code",
   "execution_count": 87,
   "id": "informational-transcription",
   "metadata": {},
   "outputs": [
    {
     "name": "stdout",
     "output_type": "stream",
     "text": [
      "Rows : 97, columns : 6\n"
     ]
    },
    {
     "data": {
      "application/vnd.jupyter.widget-view+json": {
       "model_id": "bd665bd6c49f413ca330dc6ee0245adb",
       "version_major": 2,
       "version_minor": 0
      },
      "text/plain": [
       "interactive(children=(IntSlider(value=10, description='rows', max=97, min=10, readout=False), IntSlider(value=…"
      ]
     },
     "metadata": {},
     "output_type": "display_data"
    }
   ],
   "source": [
    "gdf_viewer(For_synth)"
   ]
  },
  {
   "cell_type": "code",
   "execution_count": 88,
   "id": "blank-might",
   "metadata": {},
   "outputs": [
    {
     "name": "stdout",
     "output_type": "stream",
     "text": [
      "Rows : 22, columns : 13\n"
     ]
    },
    {
     "data": {
      "application/vnd.jupyter.widget-view+json": {
       "model_id": "cfbec5a22a674ce6ae2ddf878eecd989",
       "version_major": 2,
       "version_minor": 0
      },
      "text/plain": [
       "interactive(children=(IntSlider(value=10, description='rows', max=22, min=10, readout=False), IntSlider(value=…"
      ]
     },
     "metadata": {},
     "output_type": "display_data"
    }
   ],
   "source": [
    "tmp_for = pd.read_excel('../../CF_data//Data_UMONS/Logs_forages_vUmons_2018-03-20.xlsx', sheet_name='Obs_siterem_phase2')#, skiprows=2)\n",
    "gdf_viewer(tmp_for)"
   ]
  },
  {
   "cell_type": "code",
   "execution_count": 89,
   "id": "olive-wildlife",
   "metadata": {},
   "outputs": [
    {
     "name": "stderr",
     "output_type": "stream",
     "text": [
      "<ipython-input-89-a816405946c6>:3: SettingWithCopyWarning: \n",
      "A value is trying to be set on a copy of a slice from a DataFrame.\n",
      "Try using .loc[row_indexer,col_indexer] = value instead\n",
      "\n",
      "See the caveats in the documentation: https://pandas.pydata.org/pandas-docs/stable/user_guide/indexing.html#returning-a-view-versus-a-copy\n",
      "  tmp_for['Type']=tmp_for['Long_Pz'].apply(lambda x: 'Piezo' if not pd.isnull(x) else '')\n"
     ]
    }
   ],
   "source": [
    "tmp_for.rename(columns={'Date':'Date_Prv','ref_piezo':'Ref_Pz', 'Prof_piézo':'Long_Pz', 'Nappe':'Aquifer', 'Niv_nappe':'Niv_Pz'}, inplace=True)\n",
    "tmp_for=tmp_for[['Date_Prv','Ref_Pz', 'X', 'Y', 'Z', 'Long_Pz', 'Niv_Pz', 'Aquifer']]\n",
    "tmp_for['Type']=tmp_for['Long_Pz'].apply(lambda x: 'Piezo' if not pd.isnull(x) else '')"
   ]
  },
  {
   "cell_type": "code",
   "execution_count": 90,
   "id": "posted-complement",
   "metadata": {},
   "outputs": [
    {
     "data": {
      "text/plain": [
       "Index(['Date_Prv', 'Ref_Pz', 'X', 'Y', 'Z', 'Long_Pz', 'Niv_Pz', 'Aquifer',\n",
       "       'Type'],\n",
       "      dtype='object')"
      ]
     },
     "execution_count": 90,
     "metadata": {},
     "output_type": "execute_result"
    }
   ],
   "source": [
    "tmp_for.columns"
   ]
  },
  {
   "cell_type": "code",
   "execution_count": 91,
   "id": "divine-easter",
   "metadata": {
    "scrolled": false
   },
   "outputs": [],
   "source": [
    "#merge_tmp=For_synth.merge(tmp_for, how='inner', left_on='Ref_x', right_on='Ref_Pz', indicator=True)\n",
    "#gdf_viewer(merge_tmp[['Ref_x', 'Ref_Pz','geometry_x', 'geometry_y']])"
   ]
  },
  {
   "cell_type": "code",
   "execution_count": 92,
   "id": "lucky-gibson",
   "metadata": {},
   "outputs": [],
   "source": [
    "merge_tmp=For_synth.merge(tmp_for, how='outer', left_on='Ref_x', right_on='Ref_Pz')\n",
    "merge_tmp.loc[merge_tmp.query('Ref_x==Ref_Pz').index, 'Long']=merge_tmp['Long_Pz']\n",
    "merge_tmp=merge_tmp[['Date_Prv', 'Ref_x', 'X_x', 'Y_x', 'Z_x', 'Long', 'Niv_Pz', 'Type', 'Aquifer']]"
   ]
  },
  {
   "cell_type": "code",
   "execution_count": 93,
   "id": "arctic-american",
   "metadata": {},
   "outputs": [
    {
     "name": "stdout",
     "output_type": "stream",
     "text": [
      "Rows : 97, columns : 9\n"
     ]
    },
    {
     "data": {
      "application/vnd.jupyter.widget-view+json": {
       "model_id": "8cfe09fd7433413abf859f8467eb769b",
       "version_major": 2,
       "version_minor": 0
      },
      "text/plain": [
       "interactive(children=(IntSlider(value=10, description='rows', max=97, min=10, readout=False), IntSlider(value=…"
      ]
     },
     "metadata": {},
     "output_type": "display_data"
    }
   ],
   "source": [
    "#gdf_viewer(merge_tmp.query('Ref_x==Ref_Pz'))\n",
    "gdf_viewer(merge_tmp)"
   ]
  },
  {
   "cell_type": "code",
   "execution_count": 94,
   "id": "hired-concentrate",
   "metadata": {},
   "outputs": [
    {
     "data": {
      "text/plain": [
       "97"
      ]
     },
     "execution_count": 94,
     "metadata": {},
     "output_type": "execute_result"
    }
   ],
   "source": [
    "len(set(merge_tmp['Ref_x']))"
   ]
  },
  {
   "cell_type": "code",
   "execution_count": 95,
   "id": "ranging-pharmacy",
   "metadata": {},
   "outputs": [],
   "source": [
    "merge_tmp.rename(columns={'Ref_x':'ID', 'X_x':'X', 'Y_x':'Y', 'Z_x':'Z'}, inplace=True)"
   ]
  },
  {
   "cell_type": "code",
   "execution_count": 96,
   "id": "formed-philadelphia",
   "metadata": {
    "scrolled": true
   },
   "outputs": [],
   "source": [
    "merge_tmp[['ID','X','Y','Z','Long','Type']].to_csv('../../CF_data/synthese/Result_traitem/boreholes_3.csv', index=False)"
   ]
  },
  {
   "cell_type": "markdown",
   "id": "spoken-story",
   "metadata": {},
   "source": [
    "* **Feuille : 'Analyse_eau_Phases1&2_toSIG' (F,E)**"
   ]
  },
  {
   "cell_type": "code",
   "execution_count": 97,
   "id": "cathedral-happening",
   "metadata": {
    "scrolled": false
   },
   "outputs": [
    {
     "name": "stdout",
     "output_type": "stream",
     "text": [
      "Rows : 45, columns : 87\n"
     ]
    },
    {
     "data": {
      "application/vnd.jupyter.widget-view+json": {
       "model_id": "90536275503c4f5c832210fe19acc18b",
       "version_major": 2,
       "version_minor": 0
      },
      "text/plain": [
       "interactive(children=(IntSlider(value=10, description='rows', max=45, min=10, readout=False), IntSlider(value=…"
      ]
     },
     "metadata": {},
     "output_type": "display_data"
    }
   ],
   "source": [
    "tmp_for = pd.read_excel('../../CF_data//Data_UMONS/Logs_forages_vUmons_2018-03-20.xlsx', sheet_name='Analyse_eau_Phases1&2_toSIG')#, skiprows=2)\n",
    "gdf_viewer(tmp_for)"
   ]
  },
  {
   "cell_type": "code",
   "execution_count": 98,
   "id": "clinical-citizen",
   "metadata": {
    "scrolled": false
   },
   "outputs": [
    {
     "name": "stdout",
     "output_type": "stream",
     "text": [
      "Rows : 45, columns : 10, Unique on 'ID': 30\n"
     ]
    },
    {
     "data": {
      "application/vnd.jupyter.widget-view+json": {
       "model_id": "faa575f85d2d448e8902c7aab3c0b206",
       "version_major": 2,
       "version_minor": 0
      },
      "text/plain": [
       "interactive(children=(IntSlider(value=10, description='rows', max=45, min=10, readout=False), IntSlider(value=…"
      ]
     },
     "metadata": {},
     "output_type": "display_data"
    }
   ],
   "source": [
    "# ici c'est la date de prélèvement des échantillons d'eau !!!\n",
    "tmp_for.rename(columns={'Crep_min':'Crep_top','Crep_max':'Crep_base','Date':'Date_Prv','Ref_forage':'ID',\n",
    "                        'XL72':'X', 'YL72':'Y','Prof_forage':'Long','Prof_ piezo':'Long_Pz'}, inplace=True)\n",
    "tmp_for.loc[tmp_for.query('Crep_top==999').index, 'Crep_top']=np.nan\n",
    "tmp_for.loc[tmp_for.query('Crep_base==999').index, 'Crep_base']=np.nan\n",
    "tmp_for.loc[tmp_for.query('Long_Pz==9999.0').index, 'Long_Pz']=np.nan\n",
    "\n",
    "tmp_for['Type']=tmp_for['Crep_top'].apply(lambda x: 'Piezo' if not pd.isnull(x) else '')\n",
    "#tmp_for['Date_Prv'] = tmp_for['Date_Prv'].apply(lambda x : datetime.date(1900, 1, 1) + datetime.timedelta(days=x-2))\n",
    "tmp_for=tmp_for[['Date_Prv','ID', 'X', 'Y','Z', 'Long', 'Type', 'Long_Pz','Crep_top', 'Crep_base']]\n",
    "gdf_viewer(tmp_for, un_val='ID')"
   ]
  },
  {
   "cell_type": "code",
   "execution_count": 99,
   "id": "complex-anger",
   "metadata": {},
   "outputs": [
    {
     "name": "stderr",
     "output_type": "stream",
     "text": [
      "<ipython-input-99-fc812858cef0>:1: SettingWithCopyWarning: \n",
      "A value is trying to be set on a copy of a slice from a DataFrame\n",
      "\n",
      "See the caveats in the documentation: https://pandas.pydata.org/pandas-docs/stable/user_guide/indexing.html#returning-a-view-versus-a-copy\n",
      "  tmp_for.drop_duplicates('ID', inplace=True)\n"
     ]
    }
   ],
   "source": [
    "tmp_for.drop_duplicates('ID', inplace=True)\n",
    "tmp_for.reset_index(inplace=True, drop=True)"
   ]
  },
  {
   "cell_type": "code",
   "execution_count": 100,
   "id": "numeric-bolivia",
   "metadata": {},
   "outputs": [],
   "source": [
    "For_synth=copy.deepcopy(tmp_for)"
   ]
  },
  {
   "cell_type": "markdown",
   "id": "green-guatemala",
   "metadata": {},
   "source": [
    "* **Feuille : 'Analyse_Sol_Phases1&2' (F,E)**"
   ]
  },
  {
   "cell_type": "code",
   "execution_count": 101,
   "id": "provincial-spoke",
   "metadata": {
    "scrolled": false
   },
   "outputs": [
    {
     "name": "stdout",
     "output_type": "stream",
     "text": [
      "Rows : 60, columns : 84\n"
     ]
    },
    {
     "data": {
      "application/vnd.jupyter.widget-view+json": {
       "model_id": "239b2fb42e1d4291880c8fcf4df5b8c5",
       "version_major": 2,
       "version_minor": 0
      },
      "text/plain": [
       "interactive(children=(IntSlider(value=10, description='rows', max=60, min=10, readout=False), IntSlider(value=…"
      ]
     },
     "metadata": {},
     "output_type": "display_data"
    }
   ],
   "source": [
    "tmp_for = pd.read_excel('../../CF_data//Data_UMONS/Logs_forages_vUmons_2018-03-20.xlsx', sheet_name='Analyse_sol_Phases1&2', skiprows=4)\n",
    "gdf_viewer(tmp_for)"
   ]
  },
  {
   "cell_type": "code",
   "execution_count": 102,
   "id": "liquid-liechtenstein",
   "metadata": {},
   "outputs": [
    {
     "name": "stdout",
     "output_type": "stream",
     "text": [
      "Rows : 60, columns : 7\n"
     ]
    },
    {
     "data": {
      "application/vnd.jupyter.widget-view+json": {
       "model_id": "45a13d5c69b843d0bae4b481790ffd12",
       "version_major": 2,
       "version_minor": 0
      },
      "text/plain": [
       "interactive(children=(IntSlider(value=10, description='rows', max=60, min=10, readout=False), IntSlider(value=…"
      ]
     },
     "metadata": {},
     "output_type": "display_data"
    }
   ],
   "source": [
    "# ici c'est la date de prélèvement des échantillons d'eau !!!\n",
    "tmp_for.rename(columns={'Date':'Date_Prv','Ref_forage':'Ref_x','XL72':'X', 'YL72':'Y','Unnamed: 8':'Long',\n",
    "                        'Unnamed: 9':'Refus'}, inplace=True)\n",
    "#tmp_for['Type']='Piezo'\n",
    "#tmp_for['Date_Prv'] = tmp_for['Date_Prv'].apply(lambda x : datetime.date(1900, 1, 1) + datetime.timedelta(days=x-2))\n",
    "tmp_for=tmp_for[['Date_Prv','Ref_x', 'X', 'Y','Z', 'Long', 'Refus']]\n",
    "gdf_viewer(tmp_for)"
   ]
  },
  {
   "cell_type": "code",
   "execution_count": 103,
   "id": "amazing-demonstration",
   "metadata": {},
   "outputs": [
    {
     "data": {
      "text/plain": [
       "33"
      ]
     },
     "execution_count": 103,
     "metadata": {},
     "output_type": "execute_result"
    }
   ],
   "source": [
    "len(set(tmp_for['Ref_x']))"
   ]
  },
  {
   "cell_type": "code",
   "execution_count": 104,
   "id": "brutal-database",
   "metadata": {},
   "outputs": [
    {
     "name": "stderr",
     "output_type": "stream",
     "text": [
      "<ipython-input-104-5a18f9753ff3>:1: SettingWithCopyWarning: \n",
      "A value is trying to be set on a copy of a slice from a DataFrame\n",
      "\n",
      "See the caveats in the documentation: https://pandas.pydata.org/pandas-docs/stable/user_guide/indexing.html#returning-a-view-versus-a-copy\n",
      "  tmp_for.drop_duplicates('Ref_x', inplace=True)\n"
     ]
    }
   ],
   "source": [
    "tmp_for.drop_duplicates('Ref_x', inplace=True)\n",
    "tmp_for.reset_index(inplace=True, drop=True)"
   ]
  },
  {
   "cell_type": "code",
   "execution_count": 105,
   "id": "whole-advice",
   "metadata": {},
   "outputs": [
    {
     "name": "stderr",
     "output_type": "stream",
     "text": [
      "<ipython-input-105-d29e5e0a0233>:1: SettingWithCopyWarning: \n",
      "A value is trying to be set on a copy of a slice from a DataFrame.\n",
      "Try using .loc[row_indexer,col_indexer] = value instead\n",
      "\n",
      "See the caveats in the documentation: https://pandas.pydata.org/pandas-docs/stable/user_guide/indexing.html#returning-a-view-versus-a-copy\n",
      "  tmp_for['Refus'] = tmp_for['Refus'].apply(lambda x: True if x.lstrip(' ').split('-')[0].lower()=='x' else False)\n",
      "/home/yanathan/.local/share/virtualenvs/GSDMA-DRfwm83x/lib/python3.8/site-packages/pandas/core/indexing.py:1720: SettingWithCopyWarning: \n",
      "A value is trying to be set on a copy of a slice from a DataFrame.\n",
      "Try using .loc[row_indexer,col_indexer] = value instead\n",
      "\n",
      "See the caveats in the documentation: https://pandas.pydata.org/pandas-docs/stable/user_guide/indexing.html#returning-a-view-versus-a-copy\n",
      "  self._setitem_single_column(loc, value, pi)\n"
     ]
    }
   ],
   "source": [
    "tmp_for['Refus'] = tmp_for['Refus'].apply(lambda x: True if x.lstrip(' ').split('-')[0].lower()=='x' else False)\n",
    "tmp_for.loc[tmp_for.query('Z==9999').index, 'Z']=np.nan\n",
    "tmp_for.loc[[31,32], 'Refus']=True"
   ]
  },
  {
   "cell_type": "code",
   "execution_count": 106,
   "id": "focal-support",
   "metadata": {},
   "outputs": [],
   "source": [
    "merge_tmp=For_synth.merge(tmp_for, how='outer', left_on='ID', right_on='Ref_x')"
   ]
  },
  {
   "cell_type": "code",
   "execution_count": 107,
   "id": "selected-selection",
   "metadata": {},
   "outputs": [],
   "source": [
    "for idx, row in merge_tmp.iterrows():\n",
    "    if pd.isnull(merge_tmp.loc[idx, 'ID']) is True:\n",
    "        #merge_tmp.loc[idx, ['ID','X_x', 'Y_x', 'Z_x', 'Long_x', 'Long_Pz']]=merge_tmp.loc[idx, ['Ref_x','X_y', 'Y_y', 'Z_y', 'Long_y']]\n",
    "        merge_tmp.loc[idx, 'ID']=merge_tmp.loc[idx, 'Ref_x']\n",
    "        merge_tmp.loc[idx, 'X_x']=merge_tmp.loc[idx, 'X_y']\n",
    "        merge_tmp.loc[idx, 'Y_x']=merge_tmp.loc[idx, 'Y_y']\n",
    "        merge_tmp.loc[idx, 'Z_x']=merge_tmp.loc[idx, 'Z_y']\n",
    "        merge_tmp.loc[idx, 'Long_x']=merge_tmp.loc[idx, 'Long_y']\n",
    "\n",
    "merge_tmp=merge_tmp[['ID', 'X_x', 'Y_x', 'Z_x', 'Long_x', 'Long_Pz', 'Type', 'Crep_top','Crep_base','Refus']]\n",
    "merge_tmp.rename(columns={'X_x':'X', 'Y_x':'Y', 'Z_x':'Z', 'Long_x':'Long'}, inplace=True)"
   ]
  },
  {
   "cell_type": "code",
   "execution_count": 108,
   "id": "complicated-friday",
   "metadata": {},
   "outputs": [
    {
     "name": "stdout",
     "output_type": "stream",
     "text": [
      "Rows : 38, columns : 10, Unique on 'ID': 38\n"
     ]
    },
    {
     "data": {
      "application/vnd.jupyter.widget-view+json": {
       "model_id": "9a96b5a529944406b793719067d3eff9",
       "version_major": 2,
       "version_minor": 0
      },
      "text/plain": [
       "interactive(children=(IntSlider(value=10, description='rows', max=38, min=10, readout=False), IntSlider(value=…"
      ]
     },
     "metadata": {},
     "output_type": "display_data"
    }
   ],
   "source": [
    "#gdf_viewer(merge_tmp.query('ID!=Ref_x')) #correspond à (query 'how=inner')!\n",
    "#gdf_viewer(merge_tmp[['Refus','Long_Pz']])\n",
    "gdf_viewer(merge_tmp, un_val='ID')"
   ]
  },
  {
   "cell_type": "code",
   "execution_count": 109,
   "id": "creative-complexity",
   "metadata": {},
   "outputs": [],
   "source": [
    "merge_tmp.to_csv('../../CF_data/synthese/Result_traitem/boreholes_4.csv', index=False)"
   ]
  },
  {
   "cell_type": "markdown",
   "id": "hidden-arrangement",
   "metadata": {},
   "source": [
    "### A.2- ../Data_UMONS/ouvrages/Database_piezometres_et_forages.xlsx\n",
    "* **Feuille : 'DONNEES PIEZOS' (F)**"
   ]
  },
  {
   "cell_type": "code",
   "execution_count": 110,
   "id": "unnecessary-reply",
   "metadata": {},
   "outputs": [],
   "source": [
    "For_synth=gpd.GeoDataFrame({})"
   ]
  },
  {
   "cell_type": "code",
   "execution_count": 111,
   "id": "corrected-compilation",
   "metadata": {
    "scrolled": false
   },
   "outputs": [
    {
     "name": "stdout",
     "output_type": "stream",
     "text": [
      "Rows : 147, columns : 185\n"
     ]
    },
    {
     "data": {
      "application/vnd.jupyter.widget-view+json": {
       "model_id": "fb537c96bfbd470f9fc744331783e70d",
       "version_major": 2,
       "version_minor": 0
      },
      "text/plain": [
       "interactive(children=(IntSlider(value=10, description='rows', max=147, min=10, readout=False), IntSlider(value…"
      ]
     },
     "metadata": {},
     "output_type": "display_data"
    }
   ],
   "source": [
    "tmp_for = pd.read_excel('../../CF_data/Data_UMONS/ouvrages/Database_piezometres_et_forages.xlsx', sheet_name='DONNEES PIEZOS', skiprows=2)\n",
    "gdf_viewer(tmp_for)"
   ]
  },
  {
   "cell_type": "code",
   "execution_count": 112,
   "id": "sitting-shareware",
   "metadata": {},
   "outputs": [],
   "source": [
    "tmp_for.rename(columns={'N_piezo.':'Ref_Pz','X [m]':'X','Y [m]':'Y','Z tête PZ [m]':'Z','Zsol [m]':'Zsol', \n",
    "                        'Prof_PZ [m]':'Long_Pz','Section_crépinée [m]':'Long_Crep','Diamètre_int [m]':'Diam_Pz'}, inplace=True)\n",
    "\n",
    "tmp_for=tmp_for[['Ref_Pz','X', 'Y', 'Z', 'Zsol', 'Long_Pz', 'Long_Crep', 'Diam_Pz']][:130]\n",
    "tmp_for.replace('-',np.nan, inplace=True)\n",
    "tmp_for.rename(columns={'Ref_Pz':'ID'}, inplace=True)"
   ]
  },
  {
   "cell_type": "code",
   "execution_count": 113,
   "id": "racial-cleveland",
   "metadata": {},
   "outputs": [],
   "source": [
    "tmp_for['Type']=tmp_for['Long_Crep'].apply(lambda x: 'Piezo' if not pd.isnull(x) else '')"
   ]
  },
  {
   "cell_type": "code",
   "execution_count": 114,
   "id": "unauthorized-liechtenstein",
   "metadata": {},
   "outputs": [
    {
     "name": "stdout",
     "output_type": "stream",
     "text": [
      "Rows : 130, columns : 9\n"
     ]
    },
    {
     "data": {
      "application/vnd.jupyter.widget-view+json": {
       "model_id": "20c09ea9eca447d3b6f63e064fcbcbd2",
       "version_major": 2,
       "version_minor": 0
      },
      "text/plain": [
       "interactive(children=(IntSlider(value=10, description='rows', max=130, min=10, readout=False), IntSlider(value…"
      ]
     },
     "metadata": {},
     "output_type": "display_data"
    }
   ],
   "source": [
    "gdf_viewer(tmp_for) # all units in [m], no dates"
   ]
  },
  {
   "cell_type": "code",
   "execution_count": 115,
   "id": "rising-ireland",
   "metadata": {},
   "outputs": [],
   "source": [
    "For_synth=copy.deepcopy(tmp_for)"
   ]
  },
  {
   "cell_type": "markdown",
   "id": "registered-identity",
   "metadata": {},
   "source": [
    "### A.3- ../Data_UMONS/ouvrages/Profils sols et données forages.xls\n",
    "* **Feuille : 'Données de forage' (F)**"
   ]
  },
  {
   "cell_type": "code",
   "execution_count": 116,
   "id": "color-stadium",
   "metadata": {
    "scrolled": false
   },
   "outputs": [
    {
     "name": "stdout",
     "output_type": "stream",
     "text": [
      "Rows : 25, columns : 15\n"
     ]
    },
    {
     "data": {
      "application/vnd.jupyter.widget-view+json": {
       "model_id": "1767804ddba0457888f0c5fd52ef3436",
       "version_major": 2,
       "version_minor": 0
      },
      "text/plain": [
       "interactive(children=(IntSlider(value=10, description='rows', max=25, min=10, readout=False), IntSlider(value=…"
      ]
     },
     "metadata": {},
     "output_type": "display_data"
    }
   ],
   "source": [
    "tmp_for = pd.read_excel('../../CF_data/Data_UMONS/ouvrages/Profils sols et données forages.xls', sheet_name='Données de forage')#, skiprows=2)\n",
    "gdf_viewer(tmp_for)"
   ]
  },
  {
   "cell_type": "code",
   "execution_count": 117,
   "id": "coral-north",
   "metadata": {},
   "outputs": [],
   "source": [
    "tmp_for.rename(columns={'Profondeur':'Long', 'Méthode':'Method', 'Diamètre forage':'Diam','Niv. Eau p/r sol':'Niv_Pz_sol',\n",
    "                        'PZ Prof.':'Long_Pz', 'PZ Diamètre':'Diam_Pz','PZ L.crépinée':'Long_Crep', 'Société forage':'Societe'}, inplace=True)\n",
    "tmp_for=tmp_for[['ID', 'X', 'Y', 'Z', 'Date', 'Long', 'Method', 'Diam', 'Remarque','Niv_Pz_sol', \n",
    "                 'Long_Pz', 'Diam_Pz', 'Long_Crep', 'Societe']]"
   ]
  },
  {
   "cell_type": "code",
   "execution_count": 118,
   "id": "empirical-mounting",
   "metadata": {},
   "outputs": [],
   "source": [
    "tmp_for['Type'] = tmp_for['Long_Pz'].apply(lambda x: '' if pd.isnull(x) else 'Piezo')\n",
    "tmp_for['Refus'] = tmp_for['Remarque'].apply(lambda x: False if pd.isnull(x) else True)\n",
    "tmp_for.drop('Remarque', axis=1, inplace=True)"
   ]
  },
  {
   "cell_type": "code",
   "execution_count": 119,
   "id": "rising-rapid",
   "metadata": {
    "scrolled": false
   },
   "outputs": [
    {
     "name": "stdout",
     "output_type": "stream",
     "text": [
      "Rows : 25, columns : 15\n"
     ]
    },
    {
     "data": {
      "application/vnd.jupyter.widget-view+json": {
       "model_id": "56632a59cc11490bbeb8ebafdd64bf18",
       "version_major": 2,
       "version_minor": 0
      },
      "text/plain": [
       "interactive(children=(IntSlider(value=10, description='rows', max=25, min=10, readout=False), IntSlider(value=…"
      ]
     },
     "metadata": {},
     "output_type": "display_data"
    }
   ],
   "source": [
    "gdf_viewer(tmp_for)"
   ]
  },
  {
   "cell_type": "code",
   "execution_count": 120,
   "id": "minor-extent",
   "metadata": {},
   "outputs": [],
   "source": [
    "For_synth=For_synth.append(tmp_for)"
   ]
  },
  {
   "cell_type": "code",
   "execution_count": 121,
   "id": "southwest-relay",
   "metadata": {},
   "outputs": [
    {
     "name": "stdout",
     "output_type": "stream",
     "text": [
      "Generation of ID-dated...\n",
      "Using 'Date' column in the (geo)dataframe !\n"
     ]
    },
    {
     "data": {
      "text/plain": [
       "0               1\n",
       "1              12\n",
       "2              22\n",
       "3              25\n",
       "4              32\n",
       "          ...    \n",
       "150     2017-F16M\n",
       "151    2017-F17aM\n",
       "152    2017-F17bM\n",
       "153    2017-F17cM\n",
       "154    2017-F17dM\n",
       "Name: ID, Length: 155, dtype: object"
      ]
     },
     "execution_count": 121,
     "metadata": {},
     "output_type": "execute_result"
    }
   ],
   "source": [
    "For_synth.reset_index(inplace=True, drop=True)\n",
    "genID_dated(For_synth, 'ID')"
   ]
  },
  {
   "cell_type": "code",
   "execution_count": 122,
   "id": "regulated-niagara",
   "metadata": {},
   "outputs": [
    {
     "name": "stdout",
     "output_type": "stream",
     "text": [
      "Rows : 155, columns : 16\n"
     ]
    },
    {
     "data": {
      "application/vnd.jupyter.widget-view+json": {
       "model_id": "92e02421252a402082ab0e7e623dbc14",
       "version_major": 2,
       "version_minor": 0
      },
      "text/plain": [
       "interactive(children=(IntSlider(value=10, description='rows', max=155, min=10, readout=False), IntSlider(value…"
      ]
     },
     "metadata": {},
     "output_type": "display_data"
    }
   ],
   "source": [
    "gdf_viewer(For_synth)"
   ]
  },
  {
   "cell_type": "code",
   "execution_count": 123,
   "id": "interstate-blind",
   "metadata": {},
   "outputs": [],
   "source": [
    "For_synth.to_csv('../../CF_data/synthese/Result_traitem/boreholes_5.csv', index=False)"
   ]
  },
  {
   "cell_type": "markdown",
   "id": "american-space",
   "metadata": {},
   "source": [
    "* **Feuille : 'Piézométrie' (F)**"
   ]
  },
  {
   "cell_type": "code",
   "execution_count": 124,
   "id": "appropriate-bridges",
   "metadata": {
    "scrolled": false
   },
   "outputs": [
    {
     "name": "stdout",
     "output_type": "stream",
     "text": [
      "Rows : 37, columns : 21\n"
     ]
    },
    {
     "data": {
      "application/vnd.jupyter.widget-view+json": {
       "model_id": "3aa57aec24e84adcb9d5beba1ec55fc3",
       "version_major": 2,
       "version_minor": 0
      },
      "text/plain": [
       "interactive(children=(IntSlider(value=10, description='rows', max=37, min=10, readout=False), IntSlider(value=…"
      ]
     },
     "metadata": {},
     "output_type": "display_data"
    }
   ],
   "source": [
    "tmp_for = pd.read_excel('../../CF_data/Data_UMONS/ouvrages/Profils sols et données forages.xls', sheet_name='Piézométrie', skiprows=1)\n",
    "gdf_viewer(tmp_for)"
   ]
  },
  {
   "cell_type": "code",
   "execution_count": 125,
   "id": "tough-desktop",
   "metadata": {},
   "outputs": [
    {
     "name": "stdout",
     "output_type": "stream",
     "text": [
      "Rows : 11, columns : 3, Unique on 'ID': 11\n"
     ]
    },
    {
     "data": {
      "application/vnd.jupyter.widget-view+json": {
       "model_id": "30f1416762464919847e19c0505945d7",
       "version_major": 2,
       "version_minor": 0
      },
      "text/plain": [
       "interactive(children=(IntSlider(value=10, description='rows', max=11, min=10, readout=False), IntSlider(value=…"
      ]
     },
     "metadata": {},
     "output_type": "display_data"
    }
   ],
   "source": [
    "merge_tmp=copy.deepcopy(tmp_for[:11])\n",
    "merge_tmp.reset_index(inplace=True, drop=True)\n",
    "merge_tmp.rename(columns={'z':'Z',}, inplace=True)\n",
    "merge_tmp=merge_tmp[['ID', 'Z']]\n",
    "merge_tmp['Type']='Piezo'\n",
    "\n",
    "gdf_viewer(merge_tmp, un_val='ID')"
   ]
  },
  {
   "cell_type": "code",
   "execution_count": 126,
   "id": "explicit-craft",
   "metadata": {
    "scrolled": false
   },
   "outputs": [
    {
     "name": "stdout",
     "output_type": "stream",
     "text": [
      "Rows : 21, columns : 2\n"
     ]
    },
    {
     "name": "stderr",
     "output_type": "stream",
     "text": [
      "/home/yanathan/.local/share/virtualenvs/GSDMA-DRfwm83x/lib/python3.8/site-packages/pandas/core/frame.py:4305: SettingWithCopyWarning: \n",
      "A value is trying to be set on a copy of a slice from a DataFrame\n",
      "\n",
      "See the caveats in the documentation: https://pandas.pydata.org/pandas-docs/stable/user_guide/indexing.html#returning-a-view-versus-a-copy\n",
      "  return super().drop(\n",
      "/home/yanathan/.local/share/virtualenvs/GSDMA-DRfwm83x/lib/python3.8/site-packages/pandas/core/frame.py:4438: SettingWithCopyWarning: \n",
      "A value is trying to be set on a copy of a slice from a DataFrame\n",
      "\n",
      "See the caveats in the documentation: https://pandas.pydata.org/pandas-docs/stable/user_guide/indexing.html#returning-a-view-versus-a-copy\n",
      "  return super().rename(\n"
     ]
    },
    {
     "data": {
      "application/vnd.jupyter.widget-view+json": {
       "model_id": "9a12fbc022324949b033fc36630954d1",
       "version_major": 2,
       "version_minor": 0
      },
      "text/plain": [
       "interactive(children=(IntSlider(value=10, description='rows', max=21, min=10, readout=False), IntSlider(value=…"
      ]
     },
     "metadata": {},
     "output_type": "display_data"
    }
   ],
   "source": [
    "tmp_for=tmp_for[16:]\n",
    "tmp_for.reset_index(inplace=True, drop=True)\n",
    "tmp_for.drop('ID', axis=1, inplace=True)\n",
    "tmp_for.rename(columns={'Unnamed: 8':'Date_Prv','Unnamed: 9':'Terrain', 'Unnamed: 10':'ID'}, inplace=True)\n",
    "tmp_for=tmp_for[['ID']]\n",
    "tmp_for['Type']='Piezo'\n",
    "gdf_viewer(tmp_for)"
   ]
  },
  {
   "cell_type": "code",
   "execution_count": 127,
   "id": "prime-looking",
   "metadata": {},
   "outputs": [
    {
     "data": {
      "text/html": [
       "<div>\n",
       "<style scoped>\n",
       "    .dataframe tbody tr th:only-of-type {\n",
       "        vertical-align: middle;\n",
       "    }\n",
       "\n",
       "    .dataframe tbody tr th {\n",
       "        vertical-align: top;\n",
       "    }\n",
       "\n",
       "    .dataframe thead th {\n",
       "        text-align: right;\n",
       "    }\n",
       "</style>\n",
       "<table border=\"1\" class=\"dataframe\">\n",
       "  <thead>\n",
       "    <tr style=\"text-align: right;\">\n",
       "      <th></th>\n",
       "      <th>ID</th>\n",
       "      <th>Z</th>\n",
       "      <th>Type_x</th>\n",
       "      <th>Type_y</th>\n",
       "    </tr>\n",
       "  </thead>\n",
       "  <tbody>\n",
       "  </tbody>\n",
       "</table>\n",
       "</div>"
      ],
      "text/plain": [
       "Empty DataFrame\n",
       "Columns: [ID, Z, Type_x, Type_y]\n",
       "Index: []"
      ]
     },
     "execution_count": 127,
     "metadata": {},
     "output_type": "execute_result"
    }
   ],
   "source": [
    "merge_tmp.merge(tmp_for, how='inner', left_on='ID', right_on='ID')"
   ]
  },
  {
   "cell_type": "code",
   "execution_count": 128,
   "id": "nutritional-scheduling",
   "metadata": {},
   "outputs": [],
   "source": [
    "merge_tmp=merge_tmp.append(tmp_for)"
   ]
  },
  {
   "cell_type": "code",
   "execution_count": 129,
   "id": "perceived-render",
   "metadata": {},
   "outputs": [
    {
     "name": "stdout",
     "output_type": "stream",
     "text": [
      "Rows : 28, columns : 3\n"
     ]
    },
    {
     "data": {
      "application/vnd.jupyter.widget-view+json": {
       "model_id": "cbbebd9510b04690af6a1d678d6dec33",
       "version_major": 2,
       "version_minor": 0
      },
      "text/plain": [
       "interactive(children=(IntSlider(value=10, description='rows', max=28, min=10, readout=False), IntSlider(value=…"
      ]
     },
     "metadata": {},
     "output_type": "display_data"
    }
   ],
   "source": [
    "merge_tmp.reset_index(inplace=True, drop=True)\n",
    "merge_tmp.drop(merge_tmp.query(\"ID!=ID\").index, inplace=True) # supprimer les lignes avec ID='NaN'\n",
    "merge_tmp.reset_index(inplace=True, drop=True)\n",
    "gdf_viewer(merge_tmp)"
   ]
  },
  {
   "cell_type": "code",
   "execution_count": 130,
   "id": "computational-explosion",
   "metadata": {},
   "outputs": [],
   "source": [
    "For_synth=copy.deepcopy(merge_tmp)"
   ]
  },
  {
   "cell_type": "markdown",
   "id": "accompanied-surrey",
   "metadata": {},
   "source": [
    "* **Feuille : 'Equipement' (F)**"
   ]
  },
  {
   "cell_type": "code",
   "execution_count": 131,
   "id": "rotary-miniature",
   "metadata": {
    "scrolled": false
   },
   "outputs": [
    {
     "name": "stdout",
     "output_type": "stream",
     "text": [
      "Rows : 36, columns : 7\n"
     ]
    },
    {
     "data": {
      "application/vnd.jupyter.widget-view+json": {
       "model_id": "80a6bfa098b74afa98b27bd3056bc394",
       "version_major": 2,
       "version_minor": 0
      },
      "text/plain": [
       "interactive(children=(IntSlider(value=10, description='rows', max=36, min=10, readout=False), IntSlider(value=…"
      ]
     },
     "metadata": {},
     "output_type": "display_data"
    }
   ],
   "source": [
    "tmp_for = pd.read_excel('../../CF_data/Data_UMONS/ouvrages/Profils sols et données forages.xls', sheet_name='Equipement')#, skiprows=1)\n",
    "gdf_viewer(tmp_for)"
   ]
  },
  {
   "cell_type": "code",
   "execution_count": 132,
   "id": "little-times",
   "metadata": {},
   "outputs": [],
   "source": [
    "tmp_for.rename(columns={'Diam. Forage':'Diam', 'Diamètre ext. PZ':'Diam_Pz'}, inplace=True)\n",
    "tmp_for[['Crep_top','Crep_base','Bent_top','Bent_base']]=np.nan"
   ]
  },
  {
   "cell_type": "code",
   "execution_count": 133,
   "id": "hindu-turkey",
   "metadata": {},
   "outputs": [],
   "source": [
    "for idx, row in tmp_for.iterrows():\n",
    "    if row['Légende']=='Bentonite':\n",
    "        tmp_for.loc[idx,'Bent_top']=row['De']\n",
    "        tmp_for.loc[idx,'Bent_base']=row['A']\n",
    "    elif row['Légende']==\"Crépine\":\n",
    "        tmp_for.loc[idx,'Crep_top']=row['De']\n",
    "        tmp_for.loc[idx,'Crep_base']=row['A']"
   ]
  },
  {
   "cell_type": "code",
   "execution_count": 134,
   "id": "former-traffic",
   "metadata": {},
   "outputs": [],
   "source": [
    "i=0\n",
    "for idx in range(len(tmp_for)-1):\n",
    "    i+=1\n",
    "    if tmp_for.loc[idx,'ID']==tmp_for.loc[i,'ID'] and pd.isnull(tmp_for.loc[idx,'Crep_top']) and not pd.isnull(tmp_for.loc[i,'Crep_top']):\n",
    "        tmp_for.loc[idx,'Crep_top']=tmp_for.loc[i,'Crep_top']\n",
    "        tmp_for.loc[idx,'Crep_base']=tmp_for.loc[i,'Crep_base']\n",
    "        \n",
    "    elif tmp_for.loc[idx,'ID']==tmp_for.loc[i,'ID'] and pd.isnull(tmp_for.loc[idx,'Bent_top']) and not pd.isnull(tmp_for.loc[i,'Bent_top']):\n",
    "        tmp_for.loc[idx,'Bent_top']=tmp_for.loc[i,'Bent_top']\n",
    "        tmp_for.loc[idx,'Bent_base']=tmp_for.loc[i,'Bent_base']"
   ]
  },
  {
   "cell_type": "code",
   "execution_count": 135,
   "id": "ignored-image",
   "metadata": {},
   "outputs": [
    {
     "name": "stderr",
     "output_type": "stream",
     "text": [
      "<ipython-input-135-52f7b3a3f1d0>:2: SettingWithCopyWarning: \n",
      "A value is trying to be set on a copy of a slice from a DataFrame\n",
      "\n",
      "See the caveats in the documentation: https://pandas.pydata.org/pandas-docs/stable/user_guide/indexing.html#returning-a-view-versus-a-copy\n",
      "  tmp_for.drop_duplicates('ID', inplace=True)\n",
      "<ipython-input-135-52f7b3a3f1d0>:4: SettingWithCopyWarning: \n",
      "A value is trying to be set on a copy of a slice from a DataFrame.\n",
      "Try using .loc[row_indexer,col_indexer] = value instead\n",
      "\n",
      "See the caveats in the documentation: https://pandas.pydata.org/pandas-docs/stable/user_guide/indexing.html#returning-a-view-versus-a-copy\n",
      "  tmp_for['Type']='Piezo'\n"
     ]
    }
   ],
   "source": [
    "tmp_for=tmp_for[['ID','Diam','Diam_Pz','Crep_top','Crep_base','Bent_top','Bent_base']]\n",
    "tmp_for.drop_duplicates('ID', inplace=True)\n",
    "tmp_for.reset_index(inplace=True, drop=True)\n",
    "tmp_for['Type']='Piezo'"
   ]
  },
  {
   "cell_type": "code",
   "execution_count": 136,
   "id": "fourth-boston",
   "metadata": {},
   "outputs": [
    {
     "name": "stdout",
     "output_type": "stream",
     "text": [
      "Rows : 29, columns : 9, Unique on 'ID': 29\n"
     ]
    },
    {
     "data": {
      "application/vnd.jupyter.widget-view+json": {
       "model_id": "7c9eaeb0192b45ba9e4540c27533e0cb",
       "version_major": 2,
       "version_minor": 0
      },
      "text/plain": [
       "interactive(children=(IntSlider(value=10, description='rows', max=29, min=10, readout=False), IntSlider(value=…"
      ]
     },
     "metadata": {},
     "output_type": "display_data"
    }
   ],
   "source": [
    "For_synth=For_synth.merge(tmp_for, how='outer', left_on='ID', right_on='ID')\n",
    "For_synth.rename(columns={'Type_x':'Type'}, inplace=True)\n",
    "For_synth.drop('Type_y', axis=1, inplace=True)\n",
    "\n",
    "gdf_viewer(For_synth, un_val='ID')"
   ]
  },
  {
   "cell_type": "code",
   "execution_count": 137,
   "id": "radical-debate",
   "metadata": {},
   "outputs": [],
   "source": [
    "For_synth.to_csv('../../CF_data/synthese/Result_traitem/boreholes_6.csv', index=False)"
   ]
  },
  {
   "cell_type": "markdown",
   "id": "adjustable-cruise",
   "metadata": {},
   "source": [
    "### A.4- ../Data_UMONS/Contamination/Doc_SITEREM/Rapport de synthèse des études de sol et des eaux souterraines. Siterem - 2017/Database MEMORIS3.xlsx\n",
    "* **Feuille : 'DONNEES PIEZOS' (F)**"
   ]
  },
  {
   "cell_type": "code",
   "execution_count": 138,
   "id": "filled-adventure",
   "metadata": {},
   "outputs": [],
   "source": [
    "For_synth=gpd.GeoDataFrame({})"
   ]
  },
  {
   "cell_type": "code",
   "execution_count": 139,
   "id": "competitive-sessions",
   "metadata": {
    "scrolled": false
   },
   "outputs": [
    {
     "name": "stdout",
     "output_type": "stream",
     "text": [
      "Rows : 147, columns : 186\n"
     ]
    },
    {
     "data": {
      "application/vnd.jupyter.widget-view+json": {
       "model_id": "5d1f08d7f5ac4babb3b02b89dae5b3c3",
       "version_major": 2,
       "version_minor": 0
      },
      "text/plain": [
       "interactive(children=(IntSlider(value=10, description='rows', max=147, min=10, readout=False), IntSlider(value…"
      ]
     },
     "metadata": {},
     "output_type": "display_data"
    }
   ],
   "source": [
    "tmp_for = pd.read_excel('../../CF_data/Data_UMONS/Contamination/Doc_SITEREM/Rapport de synthèse des études de sol et des eaux souterraines. Siterem - 2017/Database MEMORIS3.xlsx', sheet_name='DONNEES PIEZOS', skiprows=2)\n",
    "gdf_viewer(tmp_for)"
   ]
  },
  {
   "cell_type": "code",
   "execution_count": 140,
   "id": "broke-trader",
   "metadata": {},
   "outputs": [],
   "source": [
    "tmp_for.rename(columns={'Campagne':'Societe','N_piezo.':'Ref_Pz','X [m]':'X','Y [m]':'Y','Z tête PZ [m]':'Z','Zsol [m]':'Zsol', \n",
    "                        'Prof_PZ [m]':'Long_Pz','Section_crépinée [m]':'Long_Crep','Diamètre_int [m]':'Diam_Pz'}, inplace=True)\n",
    "\n",
    "tmp_for=tmp_for[['Ref_Pz','X', 'Y', 'Z', 'Zsol', 'Long_Pz', 'Long_Crep', 'Diam_Pz', 'Societe']][:130]\n",
    "tmp_for.rename(columns={'Ref_Pz':'ID'}, inplace=True)\n",
    "tmp_for.replace('-',np.nan, inplace=True)"
   ]
  },
  {
   "cell_type": "code",
   "execution_count": 141,
   "id": "forbidden-tooth",
   "metadata": {},
   "outputs": [],
   "source": [
    "tmp_for['Type']=tmp_for['Long_Crep'].apply(lambda x: 'Piezo' if not pd.isnull(x) else '')"
   ]
  },
  {
   "cell_type": "code",
   "execution_count": 142,
   "id": "satellite-roads",
   "metadata": {},
   "outputs": [
    {
     "name": "stdout",
     "output_type": "stream",
     "text": [
      "Rows : 130, columns : 10, Unique on 'ID': 130\n"
     ]
    },
    {
     "data": {
      "application/vnd.jupyter.widget-view+json": {
       "model_id": "a7111127603d41e8866b3fb2ad4407a1",
       "version_major": 2,
       "version_minor": 0
      },
      "text/plain": [
       "interactive(children=(IntSlider(value=10, description='rows', max=130, min=10, readout=False), IntSlider(value…"
      ]
     },
     "metadata": {},
     "output_type": "display_data"
    }
   ],
   "source": [
    "gdf_viewer(tmp_for, un_val='ID') # all units in [m]"
   ]
  },
  {
   "cell_type": "code",
   "execution_count": 143,
   "id": "aboriginal-heritage",
   "metadata": {},
   "outputs": [],
   "source": [
    "tmp_for.to_csv('../../CF_data/synthese/Result_traitem/boreholes_7.csv', index=False)"
   ]
  },
  {
   "cell_type": "markdown",
   "id": "united-elevation",
   "metadata": {},
   "source": [
    "* **Feuille : 'DRAINS ET PIEZOS ENEL' (F)**"
   ]
  },
  {
   "cell_type": "code",
   "execution_count": 144,
   "id": "respiratory-dubai",
   "metadata": {
    "scrolled": false
   },
   "outputs": [
    {
     "name": "stdout",
     "output_type": "stream",
     "text": [
      "Rows : 147, columns : 68\n"
     ]
    },
    {
     "data": {
      "application/vnd.jupyter.widget-view+json": {
       "model_id": "805868dcbdaa429c972bfccb71c788e1",
       "version_major": 2,
       "version_minor": 0
      },
      "text/plain": [
       "interactive(children=(IntSlider(value=10, description='rows', max=147, min=10, readout=False), IntSlider(value…"
      ]
     },
     "metadata": {},
     "output_type": "display_data"
    }
   ],
   "source": [
    "tmp_for = pd.read_excel('../../CF_data/Data_UMONS/Contamination/Doc_SITEREM/Rapport de synthèse des études de sol et des eaux souterraines. Siterem - 2017/Database MEMORIS3.xlsx', sheet_name='DRAINS ET PIEZOS ENEL', skiprows=1)\n",
    "gdf_viewer(tmp_for)"
   ]
  },
  {
   "cell_type": "code",
   "execution_count": 145,
   "id": "similar-jacket",
   "metadata": {},
   "outputs": [
    {
     "name": "stdout",
     "output_type": "stream",
     "text": [
      "Rows : 18, columns : 7, Unique on 'ID': 18\n"
     ]
    },
    {
     "data": {
      "application/vnd.jupyter.widget-view+json": {
       "model_id": "97785a1481924a52bb8691d6c5d4bc55",
       "version_major": 2,
       "version_minor": 0
      },
      "text/plain": [
       "interactive(children=(IntSlider(value=10, description='rows', max=18, min=10, readout=False), IntSlider(value=…"
      ]
     },
     "metadata": {},
     "output_type": "display_data"
    }
   ],
   "source": [
    "tmp_for.rename(columns={'N°':'ID', 'Date ':'Date','Hauteur de la chambre ':'Ht_Chambre'}, inplace=True)\n",
    "tmp_for=tmp_for[['ID', 'Date', 'X', 'Y', 'Zsol', 'Ht_Chambre', 'ETUDE']][2:20]\n",
    "tmp_for.replace('-',np.nan, inplace=True)\n",
    "#tmp_for['Zsol']=tmp_for['Zsol'].apply(lambda x: x if not pd.isnull(x) else np.nan)\n",
    "\n",
    "gdf_viewer(tmp_for, un_val='ID')"
   ]
  },
  {
   "cell_type": "code",
   "execution_count": 146,
   "id": "hourly-wisconsin",
   "metadata": {},
   "outputs": [],
   "source": [
    "For_synth=copy.deepcopy(tmp_for)"
   ]
  },
  {
   "cell_type": "markdown",
   "id": "statistical-voltage",
   "metadata": {},
   "source": [
    "* **Feuille : 'RESULTS_EAU' (F)**"
   ]
  },
  {
   "cell_type": "code",
   "execution_count": 147,
   "id": "modified-running",
   "metadata": {
    "scrolled": false
   },
   "outputs": [
    {
     "name": "stdout",
     "output_type": "stream",
     "text": [
      "Rows : 204, columns : 185\n"
     ]
    },
    {
     "data": {
      "application/vnd.jupyter.widget-view+json": {
       "model_id": "8ce70add740548a8a079e9ff25af37de",
       "version_major": 2,
       "version_minor": 0
      },
      "text/plain": [
       "interactive(children=(IntSlider(value=10, description='rows', max=204, min=10, readout=False), IntSlider(value…"
      ]
     },
     "metadata": {},
     "output_type": "display_data"
    }
   ],
   "source": [
    "tmp_for = pd.read_excel('../../CF_data/Data_UMONS/Contamination/Doc_SITEREM/Rapport de synthèse des études de sol et des eaux souterraines. Siterem - 2017/Database MEMORIS3.xlsx', sheet_name='RESULTS_EAU', skiprows=1)\n",
    "gdf_viewer(tmp_for)"
   ]
  },
  {
   "cell_type": "code",
   "execution_count": 148,
   "id": "equivalent-support",
   "metadata": {},
   "outputs": [],
   "source": [
    "tmp_for.rename(columns={'Campagne':'Societe','N_piezo.':'ID','Z tête PZ':'Z','Prof_PZ':'Long_Pz',\n",
    "                        'Section_crépinée':'Long_Crep','Diamètre_int':'Diam_Pz'}, inplace=True)\n",
    "\n",
    "tmp_for=tmp_for[['ID','X','Y','Z','Zsol','Long_Pz','Long_Crep','Diam_Pz','Societe']][1:130]\n",
    "\n",
    "tmp_for.replace('-',np.nan, inplace=True)"
   ]
  },
  {
   "cell_type": "code",
   "execution_count": 149,
   "id": "mathematical-nudist",
   "metadata": {},
   "outputs": [],
   "source": [
    "tmp_for['Type']=tmp_for['Long_Crep'].apply(lambda x: 'Piezo' if not pd.isnull(x) else '')"
   ]
  },
  {
   "cell_type": "code",
   "execution_count": 150,
   "id": "respected-vietnam",
   "metadata": {},
   "outputs": [
    {
     "name": "stdout",
     "output_type": "stream",
     "text": [
      "Rows : 129, columns : 10, Unique on 'ID': 129\n"
     ]
    },
    {
     "data": {
      "application/vnd.jupyter.widget-view+json": {
       "model_id": "dbfa59641668401ca0bb1383a7fa86c9",
       "version_major": 2,
       "version_minor": 0
      },
      "text/plain": [
       "interactive(children=(IntSlider(value=10, description='rows', max=129, min=10, readout=False), IntSlider(value…"
      ]
     },
     "metadata": {},
     "output_type": "display_data"
    }
   ],
   "source": [
    "gdf_viewer(tmp_for, un_val='ID') # all units in [m]"
   ]
  },
  {
   "cell_type": "code",
   "execution_count": 151,
   "id": "solved-denial",
   "metadata": {},
   "outputs": [
    {
     "data": {
      "text/html": [
       "<div>\n",
       "<style scoped>\n",
       "    .dataframe tbody tr th:only-of-type {\n",
       "        vertical-align: middle;\n",
       "    }\n",
       "\n",
       "    .dataframe tbody tr th {\n",
       "        vertical-align: top;\n",
       "    }\n",
       "\n",
       "    .dataframe thead th {\n",
       "        text-align: right;\n",
       "    }\n",
       "</style>\n",
       "<table border=\"1\" class=\"dataframe\">\n",
       "  <thead>\n",
       "    <tr style=\"text-align: right;\">\n",
       "      <th></th>\n",
       "      <th>ID</th>\n",
       "      <th>Date</th>\n",
       "      <th>X_x</th>\n",
       "      <th>Y_x</th>\n",
       "      <th>Zsol_x</th>\n",
       "      <th>Ht_Chambre</th>\n",
       "      <th>ETUDE</th>\n",
       "      <th>X_y</th>\n",
       "      <th>Y_y</th>\n",
       "      <th>Z</th>\n",
       "      <th>Zsol_y</th>\n",
       "      <th>Long_Pz</th>\n",
       "      <th>Long_Crep</th>\n",
       "      <th>Diam_Pz</th>\n",
       "      <th>Societe</th>\n",
       "      <th>Type</th>\n",
       "    </tr>\n",
       "  </thead>\n",
       "  <tbody>\n",
       "  </tbody>\n",
       "</table>\n",
       "</div>"
      ],
      "text/plain": [
       "Empty DataFrame\n",
       "Columns: [ID, Date, X_x, Y_x, Zsol_x, Ht_Chambre, ETUDE, X_y, Y_y, Z, Zsol_y, Long_Pz, Long_Crep, Diam_Pz, Societe, Type]\n",
       "Index: []"
      ]
     },
     "execution_count": 151,
     "metadata": {},
     "output_type": "execute_result"
    }
   ],
   "source": [
    "For_synth.merge(tmp_for, how='inner', left_on='ID', right_on='ID')"
   ]
  },
  {
   "cell_type": "code",
   "execution_count": 152,
   "id": "approved-rental",
   "metadata": {},
   "outputs": [],
   "source": [
    "tmp_for=tmp_for.append(For_synth)"
   ]
  },
  {
   "cell_type": "code",
   "execution_count": 153,
   "id": "herbal-pipeline",
   "metadata": {},
   "outputs": [
    {
     "name": "stdout",
     "output_type": "stream",
     "text": [
      "Rows : 147, columns : 13, Unique on 'ID': 147\n"
     ]
    },
    {
     "data": {
      "application/vnd.jupyter.widget-view+json": {
       "model_id": "94079765e9f54a0888e827e8b996f842",
       "version_major": 2,
       "version_minor": 0
      },
      "text/plain": [
       "interactive(children=(IntSlider(value=10, description='rows', max=147, min=10, readout=False), IntSlider(value…"
      ]
     },
     "metadata": {},
     "output_type": "display_data"
    }
   ],
   "source": [
    "gdf_viewer(tmp_for, un_val='ID')"
   ]
  },
  {
   "cell_type": "code",
   "execution_count": 154,
   "id": "republican-myrtle",
   "metadata": {},
   "outputs": [],
   "source": [
    "tmp_for.to_csv('../../CF_data/synthese/Result_traitem/boreholes_8.csv', index=False)"
   ]
  },
  {
   "cell_type": "markdown",
   "id": "comprehensive-transport",
   "metadata": {},
   "source": [
    "* **Feuille : 'RESULTS_SOL' (F)**"
   ]
  },
  {
   "cell_type": "code",
   "execution_count": 155,
   "id": "informed-habitat",
   "metadata": {
    "scrolled": false
   },
   "outputs": [
    {
     "name": "stdout",
     "output_type": "stream",
     "text": [
      "Rows : 1931, columns : 172\n"
     ]
    },
    {
     "name": "stderr",
     "output_type": "stream",
     "text": [
      "/home/yanathan/.local/share/virtualenvs/GSDMA-DRfwm83x/lib/python3.8/site-packages/openpyxl/worksheet/_reader.py:308: UserWarning: Data Validation extension is not supported and will be removed\n",
      "  warn(msg)\n"
     ]
    },
    {
     "data": {
      "application/vnd.jupyter.widget-view+json": {
       "model_id": "91aa5ee192ac4403aa418a071a4703fb",
       "version_major": 2,
       "version_minor": 0
      },
      "text/plain": [
       "interactive(children=(IntSlider(value=10, description='rows', max=1931, min=10, readout=False), IntSlider(valu…"
      ]
     },
     "metadata": {},
     "output_type": "display_data"
    }
   ],
   "source": [
    "tmp_for = pd.read_excel('../../CF_data/Data_UMONS/Contamination/Doc_SITEREM/Rapport de synthèse des études de sol et des eaux souterraines. Siterem - 2017/Database MEMORIS3.xlsx', sheet_name='RESULTS_SOL', skiprows=1)\n",
    "gdf_viewer(tmp_for)"
   ]
  },
  {
   "cell_type": "code",
   "execution_count": 156,
   "id": "whole-respect",
   "metadata": {},
   "outputs": [],
   "source": [
    "tmp_for.rename(columns={'Campagne':'Societe','N_forage':'ID','Prof.\\nforage':'Long','refus':'Refus'}, inplace=True)\n",
    "tmp_for=tmp_for[['ID','X','Y','Z','Long','Refus','Societe']][:1422]\n",
    "tmp_for.replace('-',np.nan, inplace=True)\n",
    "tmp_for['Refus']=tmp_for['Refus'].apply(lambda x: not pd.isnull(x))\n",
    "tmp_for.drop_duplicates('ID', inplace=True)\n",
    "tmp_for.reset_index(inplace=True, drop=True)"
   ]
  },
  {
   "cell_type": "code",
   "execution_count": 157,
   "id": "educated-status",
   "metadata": {},
   "outputs": [
    {
     "name": "stdout",
     "output_type": "stream",
     "text": [
      "Rows : 330, columns : 7, Unique on 'ID': 330\n"
     ]
    },
    {
     "data": {
      "application/vnd.jupyter.widget-view+json": {
       "model_id": "c448f1716c4c4dffaeaa617e86cb84a0",
       "version_major": 2,
       "version_minor": 0
      },
      "text/plain": [
       "interactive(children=(IntSlider(value=10, description='rows', max=330, min=10, readout=False), IntSlider(value…"
      ]
     },
     "metadata": {},
     "output_type": "display_data"
    }
   ],
   "source": [
    "gdf_viewer(tmp_for, un_val='ID')"
   ]
  },
  {
   "cell_type": "code",
   "execution_count": 158,
   "id": "behavioral-spain",
   "metadata": {},
   "outputs": [],
   "source": [
    "tmp_for.to_csv('../../CF_data/synthese/Result_traitem/boreholes_9.csv', index=False)"
   ]
  },
  {
   "cell_type": "markdown",
   "id": "stuffed-iraqi",
   "metadata": {},
   "source": [
    "### A.5- ../Data_UMONS/geometrie_electrodes_et_sondes/Forages_Pilote_Decoupe.xlsx\n",
    "\n",
    "* **Feuille : 'leve' (F)**"
   ]
  },
  {
   "cell_type": "code",
   "execution_count": 159,
   "id": "standard-maker",
   "metadata": {},
   "outputs": [],
   "source": [
    "For_synth=gpd.GeoDataFrame({})"
   ]
  },
  {
   "cell_type": "code",
   "execution_count": 160,
   "id": "municipal-opera",
   "metadata": {
    "scrolled": false
   },
   "outputs": [
    {
     "name": "stdout",
     "output_type": "stream",
     "text": [
      "Rows : 72, columns : 12\n"
     ]
    },
    {
     "data": {
      "application/vnd.jupyter.widget-view+json": {
       "model_id": "5a20fc6ecb474075a76e71734f1294e9",
       "version_major": 2,
       "version_minor": 0
      },
      "text/plain": [
       "interactive(children=(IntSlider(value=10, description='rows', max=72, min=10, readout=False), IntSlider(value=…"
      ]
     },
     "metadata": {},
     "output_type": "display_data"
    }
   ],
   "source": [
    "tmp_for = pd.read_excel('../../CF_data/Data_UMONS/geometrie_electrodes_et_sondes/Forages_Pilote_Decoupe.xlsx', sheet_name='leve')#, skiprows=2)\n",
    "gdf_viewer(tmp_for)"
   ]
  },
  {
   "cell_type": "code",
   "execution_count": 161,
   "id": "natural-vietnamese",
   "metadata": {},
   "outputs": [
    {
     "data": {
      "text/plain": [
       "Index(['Ref_puits', 'Niveau mesuré', 'Niveau corrigé', 'Bouteille',\n",
       "       'decoupage [m]', 'Z_diff [m] repere_local', 'long_fin [m]',\n",
       "       'Pos_Inox_#1 [m]', 'Pos_Inox_#6 [m]', 'Pos_Impol_#3 [m]', 'Unnamed: 10',\n",
       "       'Unnamed: 11'],\n",
       "      dtype='object')"
      ]
     },
     "execution_count": 161,
     "metadata": {},
     "output_type": "execute_result"
    }
   ],
   "source": [
    "tmp_for.columns"
   ]
  },
  {
   "cell_type": "code",
   "execution_count": 162,
   "id": "hundred-poker",
   "metadata": {},
   "outputs": [],
   "source": [
    "tmp_for.rename(columns={'Ref_puits':'ID', 'Niveau corrigé':'Z','Z_diff [m] repere_local':'Diff_Z_Rloc', \n",
    "                        'long_fin [m]':'Long', 'Pos_Inox_#6 [m]':'Inox_first', \n",
    "                        'Pos_Impol_#3 [m]':'impol_first'}, inplace=True)\n",
    "tmp_for=tmp_for[['ID','Z','Diff_Z_Rloc','Long','Inox_first', 'impol_first']]\n",
    "#tmp_for.replace('-',np.nan, inplace=True)"
   ]
  },
  {
   "cell_type": "code",
   "execution_count": 163,
   "id": "weird-ethnic",
   "metadata": {},
   "outputs": [
    {
     "name": "stdout",
     "output_type": "stream",
     "text": [
      "Rows : 72, columns : 6, Unique on 'ID': 72\n"
     ]
    },
    {
     "data": {
      "application/vnd.jupyter.widget-view+json": {
       "model_id": "2ba18f2939f04ad5a2ad06ccb7ae66df",
       "version_major": 2,
       "version_minor": 0
      },
      "text/plain": [
       "interactive(children=(IntSlider(value=10, description='rows', max=72, min=10, readout=False), IntSlider(value=…"
      ]
     },
     "metadata": {},
     "output_type": "display_data"
    }
   ],
   "source": [
    "gdf_viewer(tmp_for, un_val='ID') #"
   ]
  },
  {
   "cell_type": "code",
   "execution_count": 164,
   "id": "minimal-school",
   "metadata": {},
   "outputs": [],
   "source": [
    "tmp_for.to_csv('../../CF_data/synthese/Result_traitem/boreholes_Leve_Z_Pilote.csv', index=False)"
   ]
  },
  {
   "cell_type": "markdown",
   "id": "aggressive-gibson",
   "metadata": {},
   "source": [
    "pour la suite extraire les fichiers avec XY"
   ]
  },
  {
   "cell_type": "markdown",
   "id": "moved-encyclopedia",
   "metadata": {},
   "source": [
    "/////////////////////////////----- Brouillon de codes -----//////////////////////////////////////////////////////////////"
   ]
  },
  {
   "cell_type": "raw",
   "id": "elect-vampire",
   "metadata": {},
   "source": [
    "For_synth=copy.deepcopy(tmp_for)"
   ]
  },
  {
   "cell_type": "raw",
   "id": "cheap-stewart",
   "metadata": {},
   "source": [
    "merge_tmp['Date_Prv'] = merge_tmp['Date_Prv'].apply(lambda x : datetime.date(1900, 1, 1) + datetime.timedelta(days=x-2))"
   ]
  },
  {
   "cell_type": "raw",
   "id": "qualified-champion",
   "metadata": {},
   "source": [
    "### A.3- ../Data_UMONS/ouvrages/Profils sols et données forages.xls\n",
    "* **Feuille : 'Données de forage' (F)**"
   ]
  },
  {
   "cell_type": "raw",
   "id": "secret-swimming",
   "metadata": {},
   "source": [
    "For_synth=copy.deepcopy(tmp_for)"
   ]
  },
  {
   "cell_type": "raw",
   "id": "separated-bahrain",
   "metadata": {},
   "source": [
    "tmp_for.rename(columns={}, inplace=True)\n",
    "tmp_for=tmp_for[[]]"
   ]
  },
  {
   "cell_type": "raw",
   "id": "inside-prevention",
   "metadata": {},
   "source": [
    "len(set(For_synth.merge(tmp_for, how='outer', left_on='ID', right_on='ID')['ID']))"
   ]
  },
  {
   "cell_type": "raw",
   "id": "complicated-inquiry",
   "metadata": {},
   "source": [
    "merge_tmp=copy.deepcopy(tmp_for[:11])\n",
    "merge_tmp.reset_index(inplace=True, drop=True)\n",
    "merge_tmp.rename(columns={'Niveau piézométrique':'Niv_Pz','z':'Z',}, inplace=True)\n",
    "merge_tmp=merge_tmp[['ID', 'Niv_Pz', 'Z']]\n",
    "merge_tmp['Type']='Piezo'\n",
    "#merge_tmp['Type']='Piezo'\n",
    "#merge_tmp['Date_Prv'] = merge_tmp['Date_Prv'].apply(lambda x : datetime.date(1900, 1, 1) + datetime.timedelta(days=x-2))"
   ]
  },
  {
   "cell_type": "raw",
   "id": "vanilla-federal",
   "metadata": {},
   "source": [
    "tmp_for.rename(columns={'Date':'Date_Prv','Ref_forage':'Ref_Pz','XL72':'X', 'YL72':'Y','Prof_forage':'Long','Prof_ piézo':'Long_Pz', 'Niveau_nappe':'Niv_nappe'}, inplace=True)\n",
    "merge_tmp=copy.deepcopy(tmp_for[46:][['Date_Prv', 'Ref_Pz', 'X','Y','Z','Long','Long_Pz']])\n",
    "merge_tmp.reset_index(inplace=True, drop=True)\n",
    "merge_tmp['Type']='Piezo'\n",
    "merge_tmp['Date_Prv'] = merge_tmp['Date_Prv'].apply(lambda x : datetime.date(1900, 1, 1) + datetime.timedelta(days=x-2))\n",
    "\n",
    "# ici c'est la date de prélèvement des échantillons d'eau !!!\n",
    "# il faut enlever le niveau de la nappe pour l'instant. on l'integrera dans un objet spécifique 'param_PhysChim'\n",
    "merge_tmp"
   ]
  },
  {
   "cell_type": "raw",
   "id": "romantic-failure",
   "metadata": {},
   "source": [
    "tmp_for.rename(columns={}, inplace=True)\n",
    "tmp_for=tmp_for[[]]"
   ]
  },
  {
   "cell_type": "raw",
   "id": "advised-morning",
   "metadata": {},
   "source": [
    "For_synth.merge(tmp_for, how='inner', left_on='ID', right_on='ID')"
   ]
  },
  {
   "cell_type": "raw",
   "id": "handy-extreme",
   "metadata": {},
   "source": [
    "merge_tmp=copy.deepcopy(For_synth)"
   ]
  },
  {
   "cell_type": "raw",
   "id": "theoretical-teaching",
   "metadata": {
    "scrolled": false
   },
   "source": [
    "tmp_for=tmp_for.append(merge_tmp)\n",
    "tmp_for.reset_index(inplace=True, drop=True)"
   ]
  },
  {
   "cell_type": "raw",
   "id": "alike-resource",
   "metadata": {},
   "source": [
    "For_synth.to_csv('../../CF_data/synthese/Result_traitem/Boreholes_5.csv', index=False)"
   ]
  },
  {
   "cell_type": "raw",
   "id": "intense-tamil",
   "metadata": {
    "scrolled": true
   },
   "source": [
    "merge_tmp=For_synth.merge(tmp_for, how='outer', left_on='Ref_Pz', right_on='Ref_Pz_y')\n",
    "gdf_viewer(merge_tmp)"
   ]
  },
  {
   "cell_type": "raw",
   "id": "smooth-cleveland",
   "metadata": {},
   "source": [
    "merge_tmp.query(\"Ref_Pz==Ref_Pz_y\")"
   ]
  },
  {
   "cell_type": "raw",
   "id": "solar-celebration",
   "metadata": {},
   "source": [
    "genID_dated(tmp_for, 'Ref_x', '2019')"
   ]
  },
  {
   "cell_type": "raw",
   "id": "fuzzy-mistake",
   "metadata": {},
   "source": [
    "idx=merge_tmp.query('Ref_x==Ref_y').index#, ['geometry_x', 'geometry_y']]\n",
    "#gtmp.loc[idx, 'distance'] = row['geometry_x'].distance(row['geometry_y'])\n",
    "dist=[]\n",
    "for i in idx:\n",
    "    dist.append(merge_tmp.loc[i, 'geometry_x'].distance(merge_tmp.loc[i, 'geometry_y']))\n",
    "dist    "
   ]
  },
  {
   "cell_type": "raw",
   "id": "fluid-raise",
   "metadata": {},
   "source": [
    "%time merge_tmp.isnull().sum()"
   ]
  },
  {
   "cell_type": "raw",
   "id": "american-affiliation",
   "metadata": {},
   "source": [
    "merge_tmp.loc[96,'Ref_x'], pd.isna(merge_tmp.loc[96,'Ref_x']), merge_tmp.loc[96,'Ref_x'] == type(np.nan)"
   ]
  },
  {
   "cell_type": "raw",
   "id": "stretch-leisure",
   "metadata": {},
   "source": [
    "geom_x, geom_y = [], []\n",
    "for idx, row in merge_tmp.iterrows():\n",
    "    if not pd.isna(merge_tmp.loc[idx,'Ref_x']):\n",
    "        geom_x.append(Point(row['X_x'], row['Y_x']))\n",
    "    #else :\n",
    "    #    geom_x.append(Point())\n",
    "        \n",
    "    if not pd.isna(merge_tmp.loc[idx,'Ref_y']):\n",
    "        geom_y.append(Point(row['X_y'], row['Y_y']))\n",
    "    #else :\n",
    "    #    geom_y.append(Point())\n",
    "        \n",
    "    \n",
    "geom_x=gpd.GeoSeries(geom_x)\n",
    "geom_y=gpd.GeoSeries(geom_y)\n",
    "\n",
    "geom_x,'-------------------------------------------------', geom_y"
   ]
  },
  {
   "cell_type": "raw",
   "id": "suited-salvation",
   "metadata": {},
   "source": [
    "tmp_for=tmp_for[4:43][['Date', 'Ref_Pz', 'X','Y','Z','Long_For','Long_Pz', 'Niv_nappe']]\n",
    "tmp_for.reset_index(inplace=True, drop=True)\n",
    "tmp_for['Piezo']=True\n",
    "gdf_viewer(tmp_for)"
   ]
  },
  {
   "cell_type": "raw",
   "id": "trying-attribute",
   "metadata": {},
   "source": [
    "#filter duplicates #I will use it after to controle removing of duplicates by comparison of distance\n",
    "lidx=[]\n",
    "for idx, row in tmp_for.iterrows():\n",
    "    if idx < len(tmp_for)-1 and tmp_for.loc[idx, 'Ref_y'] == tmp_for.loc[idx+1, 'Ref_y']: lidx.append(idx)\n",
    "\n",
    "len(set(lidx) ^ set(tmp_for.index))\n",
    "tmp_for.drop(index=lidx, inplace=True)\n",
    "tmp_for"
   ]
  }
 ],
 "metadata": {
  "kernelspec": {
   "display_name": "Python 3",
   "language": "python",
   "name": "python3"
  },
  "language_info": {
   "codemirror_mode": {
    "name": "ipython",
    "version": 3
   },
   "file_extension": ".py",
   "mimetype": "text/x-python",
   "name": "python",
   "nbconvert_exporter": "python",
   "pygments_lexer": "ipython3",
   "version": "3.8.5"
  }
 },
 "nbformat": 4,
 "nbformat_minor": 5
}
